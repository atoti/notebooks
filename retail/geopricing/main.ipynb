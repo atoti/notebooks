{
 "cells": [
  {
   "cell_type": "markdown",
   "metadata": {},
   "source": [
    "# Geopricing with atoti\n",
    "In this notebook we will explore a pricing use case that combines machine learning algorithms and atoti.  \n",
    "\n",
    "Imagine our retailer has many shops spread across France. The idea behind this notebook is to group the shops based on its price index and geographical characteristics to its competitors.  \n",
    "Price index is a measurement of where a retailer is positioned compared to one or multiple of its competitors.   \n",
    "Through the clustering, we will be able to apply different pricing strategies on each cluster based on its competition.  \n",
    "\n",
    "We shall obtain the clustering of the shops via machine learning.  \n",
    "For the machine learning, we will need a set of input features for each retail shops:\n",
    "- Number of competitors per distance range (1km, 5km, 10km etc)\n",
    "- Price Index per shop against its competitors  \n",
    "\n",
    "We will see how we can generate these input values for the machine learning with atoti.  \n",
    "Not only so, we will also make use of output from the machine learning to perform the below simulations:\n",
    "- Pricing simulations around clusters to obtain the optimised price index against its neighbouring competitors\n",
    "- Selling price simulation by clusters and retail shops to align the pricing within the cluster\n",
    "\n",
    "### Dependencies\n",
    "Assuming atoti is already installed, let's start by installing the additional libraries required for this notebook to work."
   ]
  },
  {
   "cell_type": "code",
   "execution_count": 1,
   "metadata": {},
   "outputs": [
    {
     "name": "stdout",
     "output_type": "stream",
     "text": [
      "Collecting package metadata (current_repodata.json): done\n",
      "Solving environment: done\n",
      "\n",
      "## Package Plan ##\n",
      "\n",
      "  environment location: /home/jbe/.conda/envs/atoti-release\n",
      "\n",
      "  added / updated specs:\n",
      "    - folium\n",
      "    - matplotlib\n",
      "    - scikit-learn\n",
      "    - scipy\n",
      "    - seaborn\n",
      "\n",
      "\n",
      "The following packages will be downloaded:\n",
      "\n",
      "    package                    |            build\n",
      "    ---------------------------|-----------------\n",
      "    scipy-1.5.2                |   py37hb14ef9d_0        18.5 MB  conda-forge\n",
      "    ------------------------------------------------------------\n",
      "                                           Total:        18.5 MB\n",
      "\n",
      "The following packages will be UPDATED:\n",
      "\n",
      "  scipy                                1.5.1-py37ha3d9a3c_0 --> 1.5.2-py37hb14ef9d_0\n",
      "\n",
      "\n",
      "\n",
      "Downloading and Extracting Packages\n",
      "scipy-1.5.2          | 18.5 MB   | ##################################### | 100% \n",
      "Preparing transaction: done\n",
      "Verifying transaction: done\n",
      "Executing transaction: done\n"
     ]
    }
   ],
   "source": [
    "import sys\n",
    "\n",
    "!conda install --yes --prefix {sys.prefix} folium scipy scikit-learn matplotlib seaborn"
   ]
  },
  {
   "cell_type": "code",
   "execution_count": 2,
   "metadata": {},
   "outputs": [
    {
     "name": "stdout",
     "output_type": "stream",
     "text": [
      "Welcome to atoti 0.4.2!\n",
      "\n",
      "By using this community edition, you agree with the license available at https://www.atoti.io/eula.\n",
      "Browse the official documentation at https://docs.atoti.io.\n",
      "Join the community at https://www.atoti.io/register.\n",
      "\n",
      "You can hide this message by setting the ATOTI_HIDE_EULA_MESSAGE environment variable to True.\n"
     ]
    }
   ],
   "source": [
    "import atoti as tt\n",
    "import pandas as pd"
   ]
  },
  {
   "cell_type": "markdown",
   "metadata": {},
   "source": [
    "## Data Preparation and exploration with atoti\n",
    "\n",
    "Let's start by loading our data into atoti stores."
   ]
  },
  {
   "cell_type": "code",
   "execution_count": 3,
   "metadata": {},
   "outputs": [],
   "source": [
    "session = tt.create_session()"
   ]
  },
  {
   "cell_type": "code",
   "execution_count": 4,
   "metadata": {},
   "outputs": [
    {
     "name": "stderr",
     "output_type": "stream",
     "text": [
      "The store has been sampled because there are more than 10000 lines in the files to load. Call Session.load_all_data() to trigger the full load of the data.\n"
     ]
    },
    {
     "data": {
      "text/html": [
       "<div>\n",
       "<style scoped>\n",
       "    .dataframe tbody tr th:only-of-type {\n",
       "        vertical-align: middle;\n",
       "    }\n",
       "\n",
       "    .dataframe tbody tr th {\n",
       "        vertical-align: top;\n",
       "    }\n",
       "\n",
       "    .dataframe thead th {\n",
       "        text-align: right;\n",
       "    }\n",
       "</style>\n",
       "<table border=\"1\" class=\"dataframe\">\n",
       "  <thead>\n",
       "    <tr style=\"text-align: right;\">\n",
       "      <th></th>\n",
       "      <th></th>\n",
       "      <th>SellingPrice</th>\n",
       "      <th>PurchasePrice</th>\n",
       "      <th>Quantity</th>\n",
       "    </tr>\n",
       "    <tr>\n",
       "      <th>ProductId</th>\n",
       "      <th>ShopId</th>\n",
       "      <th></th>\n",
       "      <th></th>\n",
       "      <th></th>\n",
       "    </tr>\n",
       "  </thead>\n",
       "  <tbody>\n",
       "    <tr>\n",
       "      <th rowspan=\"5\" valign=\"top\">4096.0</th>\n",
       "      <th>1.0</th>\n",
       "      <td>1.92</td>\n",
       "      <td>1.632</td>\n",
       "      <td>6804.0</td>\n",
       "    </tr>\n",
       "    <tr>\n",
       "      <th>2.0</th>\n",
       "      <td>2.07</td>\n",
       "      <td>1.841</td>\n",
       "      <td>9710.0</td>\n",
       "    </tr>\n",
       "    <tr>\n",
       "      <th>3.0</th>\n",
       "      <td>1.82</td>\n",
       "      <td>1.492</td>\n",
       "      <td>5596.0</td>\n",
       "    </tr>\n",
       "    <tr>\n",
       "      <th>4.0</th>\n",
       "      <td>1.82</td>\n",
       "      <td>1.661</td>\n",
       "      <td>10006.0</td>\n",
       "    </tr>\n",
       "    <tr>\n",
       "      <th>5.0</th>\n",
       "      <td>2.02</td>\n",
       "      <td>1.814</td>\n",
       "      <td>6471.0</td>\n",
       "    </tr>\n",
       "  </tbody>\n",
       "</table>\n",
       "</div>"
      ],
      "text/plain": [
       "                  SellingPrice  PurchasePrice  Quantity\n",
       "ProductId ShopId                                       \n",
       "4096.0    1.0             1.92          1.632    6804.0\n",
       "          2.0             2.07          1.841    9710.0\n",
       "          3.0             1.82          1.492    5596.0\n",
       "          4.0             1.82          1.661   10006.0\n",
       "          5.0             2.02          1.814    6471.0"
      ]
     },
     "execution_count": 4,
     "metadata": {},
     "output_type": "execute_result"
    }
   ],
   "source": [
    "#  We used pandas to read the selling price here as we will be using it again for price optimisation in the later section.\n",
    "product_sales_df = pd.read_csv(\n",
    "    \"https://data.atoti.io/notebooks/geopricing/product_pricing.csv\"\n",
    ")\n",
    "\n",
    "productSales = session.read_pandas(\n",
    "    product_sales_df,\n",
    "    keys=[\"ProductId\", \"ShopId\"],\n",
    "    store_name=\"ProductSales\",\n",
    "    types={\"ProductId\": tt.types.INT, \"ShopId\": tt.types.INT},\n",
    ")\n",
    "productSales.head()"
   ]
  },
  {
   "cell_type": "markdown",
   "metadata": {},
   "source": [
    "Due to the amount of data in this store, the store is sampled by default. We will proceed to load all the data only after we are done modeling the cube.\n",
    "\n",
    "We will also require the competitors' product pricing against our shops."
   ]
  },
  {
   "cell_type": "code",
   "execution_count": 5,
   "metadata": {},
   "outputs": [
    {
     "data": {
      "text/html": [
       "<div>\n",
       "<style scoped>\n",
       "    .dataframe tbody tr th:only-of-type {\n",
       "        vertical-align: middle;\n",
       "    }\n",
       "\n",
       "    .dataframe tbody tr th {\n",
       "        vertical-align: top;\n",
       "    }\n",
       "\n",
       "    .dataframe thead th {\n",
       "        text-align: right;\n",
       "    }\n",
       "</style>\n",
       "<table border=\"1\" class=\"dataframe\">\n",
       "  <thead>\n",
       "    <tr style=\"text-align: right;\">\n",
       "      <th></th>\n",
       "      <th></th>\n",
       "      <th></th>\n",
       "      <th>CompetitorPrice</th>\n",
       "    </tr>\n",
       "    <tr>\n",
       "      <th>ProductId</th>\n",
       "      <th>CompetitorShopId</th>\n",
       "      <th>ShopId</th>\n",
       "      <th></th>\n",
       "    </tr>\n",
       "  </thead>\n",
       "  <tbody>\n",
       "    <tr>\n",
       "      <th>4096.0</th>\n",
       "      <th>101.0</th>\n",
       "      <th>1.0</th>\n",
       "      <td>2.287</td>\n",
       "    </tr>\n",
       "    <tr>\n",
       "      <th>4097.0</th>\n",
       "      <th>101.0</th>\n",
       "      <th>1.0</th>\n",
       "      <td>2.320</td>\n",
       "    </tr>\n",
       "    <tr>\n",
       "      <th>4098.0</th>\n",
       "      <th>101.0</th>\n",
       "      <th>1.0</th>\n",
       "      <td>2.519</td>\n",
       "    </tr>\n",
       "    <tr>\n",
       "      <th>4099.0</th>\n",
       "      <th>101.0</th>\n",
       "      <th>1.0</th>\n",
       "      <td>2.504</td>\n",
       "    </tr>\n",
       "    <tr>\n",
       "      <th>4100.0</th>\n",
       "      <th>101.0</th>\n",
       "      <th>1.0</th>\n",
       "      <td>3.309</td>\n",
       "    </tr>\n",
       "  </tbody>\n",
       "</table>\n",
       "</div>"
      ],
      "text/plain": [
       "                                   CompetitorPrice\n",
       "ProductId CompetitorShopId ShopId                 \n",
       "4096.0    101.0            1.0               2.287\n",
       "4097.0    101.0            1.0               2.320\n",
       "4098.0    101.0            1.0               2.519\n",
       "4099.0    101.0            1.0               2.504\n",
       "4100.0    101.0            1.0               3.309"
      ]
     },
     "execution_count": 5,
     "metadata": {},
     "output_type": "execute_result"
    }
   ],
   "source": [
    "competitorPrices_df = pd.read_csv(\n",
    "    \"https://data.atoti.io/notebooks/geopricing/competitors_prices.csv\"\n",
    ")\n",
    "\n",
    "competitorPrices = session.read_pandas(\n",
    "    competitorPrices_df,\n",
    "    keys=[\"ProductId\", \"CompetitorShopId\", \"ShopId\"],\n",
    "    store_name=\"CompetitorPrices\",\n",
    ")\n",
    "competitorPrices.head()"
   ]
  },
  {
   "cell_type": "markdown",
   "metadata": {},
   "source": [
    "We have the key stores necessary for us to generate the data required for machine learning.  \n",
    "However, we will also load the following stores that will allow us to have a more in-depth analysis:\n",
    "- Products: Product catalogue\n",
    "- Shops: shops information such as location\n",
    "- CompetitorsShops: Competitors' shop information"
   ]
  },
  {
   "cell_type": "code",
   "execution_count": 6,
   "metadata": {},
   "outputs": [
    {
     "data": {
      "text/html": [
       "<div>\n",
       "<style scoped>\n",
       "    .dataframe tbody tr th:only-of-type {\n",
       "        vertical-align: middle;\n",
       "    }\n",
       "\n",
       "    .dataframe tbody tr th {\n",
       "        vertical-align: top;\n",
       "    }\n",
       "\n",
       "    .dataframe thead th {\n",
       "        text-align: right;\n",
       "    }\n",
       "</style>\n",
       "<table border=\"1\" class=\"dataframe\">\n",
       "  <thead>\n",
       "    <tr style=\"text-align: right;\">\n",
       "      <th></th>\n",
       "      <th>EAN</th>\n",
       "      <th>ProductName</th>\n",
       "      <th>Brand</th>\n",
       "      <th>Size</th>\n",
       "      <th>Unit</th>\n",
       "      <th>Department</th>\n",
       "      <th>SubDepartment</th>\n",
       "      <th>Category</th>\n",
       "      <th>SubCategory</th>\n",
       "    </tr>\n",
       "    <tr>\n",
       "      <th>ProductId</th>\n",
       "      <th></th>\n",
       "      <th></th>\n",
       "      <th></th>\n",
       "      <th></th>\n",
       "      <th></th>\n",
       "      <th></th>\n",
       "      <th></th>\n",
       "      <th></th>\n",
       "      <th></th>\n",
       "    </tr>\n",
       "  </thead>\n",
       "  <tbody>\n",
       "    <tr>\n",
       "      <th>4096</th>\n",
       "      <td>3124480000378</td>\n",
       "      <td>1,5L CANADA DRY PET</td>\n",
       "      <td>CANADA DRY</td>\n",
       "      <td>1.5</td>\n",
       "      <td>L</td>\n",
       "      <td>LIQUIDES</td>\n",
       "      <td>SOFT TRADITIONNELS</td>\n",
       "      <td>TONIC</td>\n",
       "      <td>GINGER ALE</td>\n",
       "    </tr>\n",
       "    <tr>\n",
       "      <th>4097</th>\n",
       "      <td>3124480183927</td>\n",
       "      <td>1,5L SCHWEPPES LEMON PET</td>\n",
       "      <td>SCHWEPPES</td>\n",
       "      <td>1.5</td>\n",
       "      <td>L</td>\n",
       "      <td>LIQUIDES</td>\n",
       "      <td>SOFT TRADITIONNELS</td>\n",
       "      <td>BOISSON AUX FRUITS  GAZEUX</td>\n",
       "      <td>PET - PVC</td>\n",
       "    </tr>\n",
       "    <tr>\n",
       "      <th>4098</th>\n",
       "      <td>3124480183811</td>\n",
       "      <td>2L OASIS ORANGE PET</td>\n",
       "      <td>OASIS</td>\n",
       "      <td>2</td>\n",
       "      <td>L</td>\n",
       "      <td>LIQUIDES</td>\n",
       "      <td>SOFT TRADITIONNELS</td>\n",
       "      <td>BOISSON AUX FRUITS  PLAT</td>\n",
       "      <td>PET - PVC</td>\n",
       "    </tr>\n",
       "    <tr>\n",
       "      <th>4099</th>\n",
       "      <td>3124480183828</td>\n",
       "      <td>2L OASIS TROPICAL PET</td>\n",
       "      <td>OASIS</td>\n",
       "      <td>2</td>\n",
       "      <td>L</td>\n",
       "      <td>LIQUIDES</td>\n",
       "      <td>SOFT TRADITIONNELS</td>\n",
       "      <td>BOISSON AUX FRUITS  PLAT</td>\n",
       "      <td>PET - PVC</td>\n",
       "    </tr>\n",
       "    <tr>\n",
       "      <th>4100</th>\n",
       "      <td>3124480186577</td>\n",
       "      <td>6X33CL OASIS TROPICAL BT</td>\n",
       "      <td>OASIS</td>\n",
       "      <td>6x33</td>\n",
       "      <td>cl</td>\n",
       "      <td>LIQUIDES</td>\n",
       "      <td>SOFT TRADITIONNELS</td>\n",
       "      <td>BOISSON AUX FRUITS  PLAT</td>\n",
       "      <td>BOITES</td>\n",
       "    </tr>\n",
       "  </tbody>\n",
       "</table>\n",
       "</div>"
      ],
      "text/plain": [
       "                     EAN               ProductName       Brand  Size Unit  \\\n",
       "ProductId                                                                   \n",
       "4096       3124480000378       1,5L CANADA DRY PET  CANADA DRY   1.5    L   \n",
       "4097       3124480183927  1,5L SCHWEPPES LEMON PET   SCHWEPPES   1.5    L   \n",
       "4098       3124480183811       2L OASIS ORANGE PET       OASIS     2    L   \n",
       "4099       3124480183828     2L OASIS TROPICAL PET       OASIS     2    L   \n",
       "4100       3124480186577  6X33CL OASIS TROPICAL BT       OASIS  6x33   cl   \n",
       "\n",
       "          Department       SubDepartment                    Category  \\\n",
       "ProductId                                                              \n",
       "4096        LIQUIDES  SOFT TRADITIONNELS                       TONIC   \n",
       "4097        LIQUIDES  SOFT TRADITIONNELS  BOISSON AUX FRUITS  GAZEUX   \n",
       "4098        LIQUIDES  SOFT TRADITIONNELS    BOISSON AUX FRUITS  PLAT   \n",
       "4099        LIQUIDES  SOFT TRADITIONNELS    BOISSON AUX FRUITS  PLAT   \n",
       "4100        LIQUIDES  SOFT TRADITIONNELS    BOISSON AUX FRUITS  PLAT   \n",
       "\n",
       "          SubCategory  \n",
       "ProductId              \n",
       "4096       GINGER ALE  \n",
       "4097        PET - PVC  \n",
       "4098        PET - PVC  \n",
       "4099        PET - PVC  \n",
       "4100           BOITES  "
      ]
     },
     "execution_count": 6,
     "metadata": {},
     "output_type": "execute_result"
    }
   ],
   "source": [
    "products_df = pd.read_csv(\n",
    "    \"https://data.atoti.io/notebooks/geopricing/products_info.csv\", sep=\";\"\n",
    ")\n",
    "\n",
    "products = session.read_pandas(products_df, keys=[\"ProductId\"], store_name=\"Products\",)\n",
    "products.head()"
   ]
  },
  {
   "cell_type": "code",
   "execution_count": 7,
   "metadata": {},
   "outputs": [
    {
     "data": {
      "text/html": [
       "<div>\n",
       "<style scoped>\n",
       "    .dataframe tbody tr th:only-of-type {\n",
       "        vertical-align: middle;\n",
       "    }\n",
       "\n",
       "    .dataframe tbody tr th {\n",
       "        vertical-align: top;\n",
       "    }\n",
       "\n",
       "    .dataframe thead th {\n",
       "        text-align: right;\n",
       "    }\n",
       "</style>\n",
       "<table border=\"1\" class=\"dataframe\">\n",
       "  <thead>\n",
       "    <tr style=\"text-align: right;\">\n",
       "      <th></th>\n",
       "      <th>ShopName</th>\n",
       "      <th>Address</th>\n",
       "      <th>ZipCode</th>\n",
       "      <th>City</th>\n",
       "      <th>Country</th>\n",
       "      <th>Latitude</th>\n",
       "      <th>Longitude</th>\n",
       "      <th>Company</th>\n",
       "    </tr>\n",
       "    <tr>\n",
       "      <th>ShopId</th>\n",
       "      <th></th>\n",
       "      <th></th>\n",
       "      <th></th>\n",
       "      <th></th>\n",
       "      <th></th>\n",
       "      <th></th>\n",
       "      <th></th>\n",
       "      <th></th>\n",
       "    </tr>\n",
       "  </thead>\n",
       "  <tbody>\n",
       "    <tr>\n",
       "      <th>1</th>\n",
       "      <td>MyShop Paris 1er</td>\n",
       "      <td>Paris 1er</td>\n",
       "      <td>75001</td>\n",
       "      <td>Paris</td>\n",
       "      <td>France</td>\n",
       "      <td>48.860757</td>\n",
       "      <td>2.342566</td>\n",
       "      <td>MyCompany</td>\n",
       "    </tr>\n",
       "    <tr>\n",
       "      <th>2</th>\n",
       "      <td>MyShop Paris 15</td>\n",
       "      <td>Paris 15</td>\n",
       "      <td>75015</td>\n",
       "      <td>Paris</td>\n",
       "      <td>France</td>\n",
       "      <td>48.840412</td>\n",
       "      <td>2.312649</td>\n",
       "      <td>MyCompany</td>\n",
       "    </tr>\n",
       "    <tr>\n",
       "      <th>3</th>\n",
       "      <td>MyShop Paris 18</td>\n",
       "      <td>Paris 18</td>\n",
       "      <td>75018</td>\n",
       "      <td>Paris</td>\n",
       "      <td>France</td>\n",
       "      <td>48.886483</td>\n",
       "      <td>2.344326</td>\n",
       "      <td>MyCompany</td>\n",
       "    </tr>\n",
       "    <tr>\n",
       "      <th>4</th>\n",
       "      <td>MyShop Paris 12</td>\n",
       "      <td>Paris 12</td>\n",
       "      <td>75012</td>\n",
       "      <td>Paris</td>\n",
       "      <td>France</td>\n",
       "      <td>48.832182</td>\n",
       "      <td>2.375729</td>\n",
       "      <td>MyCompany</td>\n",
       "    </tr>\n",
       "    <tr>\n",
       "      <th>5</th>\n",
       "      <td>MyShop Paris 16</td>\n",
       "      <td>Paris 16</td>\n",
       "      <td>75016</td>\n",
       "      <td>Paris</td>\n",
       "      <td>France</td>\n",
       "      <td>48.855454</td>\n",
       "      <td>2.280886</td>\n",
       "      <td>MyCompany</td>\n",
       "    </tr>\n",
       "  </tbody>\n",
       "</table>\n",
       "</div>"
      ],
      "text/plain": [
       "                ShopName    Address  ZipCode   City Country   Latitude  \\\n",
       "ShopId                                                                   \n",
       "1       MyShop Paris 1er  Paris 1er    75001  Paris  France  48.860757   \n",
       "2        MyShop Paris 15   Paris 15    75015  Paris  France  48.840412   \n",
       "3        MyShop Paris 18   Paris 18    75018  Paris  France  48.886483   \n",
       "4        MyShop Paris 12   Paris 12    75012  Paris  France  48.832182   \n",
       "5        MyShop Paris 16   Paris 16    75016  Paris  France  48.855454   \n",
       "\n",
       "        Longitude    Company  \n",
       "ShopId                        \n",
       "1        2.342566  MyCompany  \n",
       "2        2.312649  MyCompany  \n",
       "3        2.344326  MyCompany  \n",
       "4        2.375729  MyCompany  \n",
       "5        2.280886  MyCompany  "
      ]
     },
     "execution_count": 7,
     "metadata": {},
     "output_type": "execute_result"
    }
   ],
   "source": [
    "shops_df = pd.read_csv(\"https://data.atoti.io/notebooks/geopricing/shops.csv\", sep=\";\")\n",
    "\n",
    "shops = session.read_pandas(\n",
    "    shops_df, keys=[\"ShopId\"], store_name=\"Shops\", types={\"ShopId\": tt.types.INT},\n",
    ")\n",
    "shops.head()"
   ]
  },
  {
   "cell_type": "code",
   "execution_count": 8,
   "metadata": {},
   "outputs": [
    {
     "data": {
      "text/html": [
       "<div>\n",
       "<style scoped>\n",
       "    .dataframe tbody tr th:only-of-type {\n",
       "        vertical-align: middle;\n",
       "    }\n",
       "\n",
       "    .dataframe tbody tr th {\n",
       "        vertical-align: top;\n",
       "    }\n",
       "\n",
       "    .dataframe thead th {\n",
       "        text-align: right;\n",
       "    }\n",
       "</style>\n",
       "<table border=\"1\" class=\"dataframe\">\n",
       "  <thead>\n",
       "    <tr style=\"text-align: right;\">\n",
       "      <th></th>\n",
       "      <th>CompetitorShopName</th>\n",
       "      <th>CompetitorShopAdress</th>\n",
       "      <th>CompetitorShopZipCode</th>\n",
       "      <th>CompetitorShopCity</th>\n",
       "      <th>CompetitorShopCountry</th>\n",
       "      <th>CompetitorShopLatitude</th>\n",
       "      <th>CompetitorShopLongitude</th>\n",
       "      <th>CompetitorShopCompany</th>\n",
       "    </tr>\n",
       "    <tr>\n",
       "      <th>CompetitorShopId</th>\n",
       "      <th></th>\n",
       "      <th></th>\n",
       "      <th></th>\n",
       "      <th></th>\n",
       "      <th></th>\n",
       "      <th></th>\n",
       "      <th></th>\n",
       "      <th></th>\n",
       "    </tr>\n",
       "  </thead>\n",
       "  <tbody>\n",
       "    <tr>\n",
       "      <th>101</th>\n",
       "      <td>Concurrent Premium</td>\n",
       "      <td>Paris 1er</td>\n",
       "      <td>75001</td>\n",
       "      <td>Paris</td>\n",
       "      <td>France</td>\n",
       "      <td>48.860757</td>\n",
       "      <td>2.342566</td>\n",
       "      <td>Concurrent Premium</td>\n",
       "    </tr>\n",
       "    <tr>\n",
       "      <th>102</th>\n",
       "      <td>Concurrent Premium</td>\n",
       "      <td>Paris 15</td>\n",
       "      <td>75015</td>\n",
       "      <td>Paris</td>\n",
       "      <td>France</td>\n",
       "      <td>48.840412</td>\n",
       "      <td>2.312649</td>\n",
       "      <td>Concurrent Premium</td>\n",
       "    </tr>\n",
       "    <tr>\n",
       "      <th>103</th>\n",
       "      <td>Concurrent Premium</td>\n",
       "      <td>Paris 18</td>\n",
       "      <td>75018</td>\n",
       "      <td>Paris</td>\n",
       "      <td>France</td>\n",
       "      <td>48.886483</td>\n",
       "      <td>2.344326</td>\n",
       "      <td>Concurrent Premium</td>\n",
       "    </tr>\n",
       "    <tr>\n",
       "      <th>104</th>\n",
       "      <td>Concurrent Premium</td>\n",
       "      <td>Paris 12</td>\n",
       "      <td>75012</td>\n",
       "      <td>Paris</td>\n",
       "      <td>France</td>\n",
       "      <td>48.832182</td>\n",
       "      <td>2.375729</td>\n",
       "      <td>Concurrent Premium</td>\n",
       "    </tr>\n",
       "    <tr>\n",
       "      <th>105</th>\n",
       "      <td>Concurrent Premium</td>\n",
       "      <td>Paris 16</td>\n",
       "      <td>75016</td>\n",
       "      <td>Paris</td>\n",
       "      <td>France</td>\n",
       "      <td>48.855454</td>\n",
       "      <td>2.280886</td>\n",
       "      <td>Concurrent Premium</td>\n",
       "    </tr>\n",
       "  </tbody>\n",
       "</table>\n",
       "</div>"
      ],
      "text/plain": [
       "                  CompetitorShopName CompetitorShopAdress  \\\n",
       "CompetitorShopId                                            \n",
       "101               Concurrent Premium            Paris 1er   \n",
       "102               Concurrent Premium             Paris 15   \n",
       "103               Concurrent Premium             Paris 18   \n",
       "104               Concurrent Premium             Paris 12   \n",
       "105               Concurrent Premium             Paris 16   \n",
       "\n",
       "                  CompetitorShopZipCode CompetitorShopCity  \\\n",
       "CompetitorShopId                                             \n",
       "101                               75001              Paris   \n",
       "102                               75015              Paris   \n",
       "103                               75018              Paris   \n",
       "104                               75012              Paris   \n",
       "105                               75016              Paris   \n",
       "\n",
       "                 CompetitorShopCountry  CompetitorShopLatitude  \\\n",
       "CompetitorShopId                                                 \n",
       "101                             France               48.860757   \n",
       "102                             France               48.840412   \n",
       "103                             France               48.886483   \n",
       "104                             France               48.832182   \n",
       "105                             France               48.855454   \n",
       "\n",
       "                  CompetitorShopLongitude CompetitorShopCompany  \n",
       "CompetitorShopId                                                 \n",
       "101                              2.342566    Concurrent Premium  \n",
       "102                              2.312649    Concurrent Premium  \n",
       "103                              2.344326    Concurrent Premium  \n",
       "104                              2.375729    Concurrent Premium  \n",
       "105                              2.280886    Concurrent Premium  "
      ]
     },
     "execution_count": 8,
     "metadata": {},
     "output_type": "execute_result"
    }
   ],
   "source": [
    "competitorShops_df = pd.read_csv(\n",
    "    \"https://data.atoti.io/notebooks/geopricing/competitors_shops.csv\", sep=\";\"\n",
    ")\n",
    "\n",
    "competitorShops = session.read_pandas(\n",
    "    competitorShops_df,\n",
    "    keys=[\"CompetitorShopId\"],\n",
    "    store_name=\"CompetitorsShop\",\n",
    "    types={\"CompetitorShopId\": tt.types.INT},\n",
    ")\n",
    "competitorShops.head()"
   ]
  },
  {
   "cell_type": "markdown",
   "metadata": {},
   "source": [
    "Since we have the latitude and longitude of the shops and their competitors, we pre-computed distances in between using the [harvesine formula](https://en.wikipedia.org/wiki/Haversine_formula) and load into the data store.  \n",
    "Note that another approach would be to use instead something like the [google API](https://developers.google.com/maps/documentation/distance-matrix/intro) to compute distances and durations between two points (thus taking into accounts possible means of transportation)."
   ]
  },
  {
   "cell_type": "code",
   "execution_count": 9,
   "metadata": {},
   "outputs": [
    {
     "data": {
      "text/html": [
       "<div>\n",
       "<style scoped>\n",
       "    .dataframe tbody tr th:only-of-type {\n",
       "        vertical-align: middle;\n",
       "    }\n",
       "\n",
       "    .dataframe tbody tr th {\n",
       "        vertical-align: top;\n",
       "    }\n",
       "\n",
       "    .dataframe thead th {\n",
       "        text-align: right;\n",
       "    }\n",
       "</style>\n",
       "<table border=\"1\" class=\"dataframe\">\n",
       "  <thead>\n",
       "    <tr style=\"text-align: right;\">\n",
       "      <th></th>\n",
       "      <th></th>\n",
       "      <th>Competitor distance KM</th>\n",
       "    </tr>\n",
       "    <tr>\n",
       "      <th>ShopId</th>\n",
       "      <th>CompetitorShopId</th>\n",
       "      <th></th>\n",
       "    </tr>\n",
       "  </thead>\n",
       "  <tbody>\n",
       "    <tr>\n",
       "      <th>1.0</th>\n",
       "      <th>101.0</th>\n",
       "      <td>0.000000</td>\n",
       "    </tr>\n",
       "    <tr>\n",
       "      <th>2.0</th>\n",
       "      <th>101.0</th>\n",
       "      <td>3.145965</td>\n",
       "    </tr>\n",
       "    <tr>\n",
       "      <th>3.0</th>\n",
       "      <th>101.0</th>\n",
       "      <td>2.861697</td>\n",
       "    </tr>\n",
       "    <tr>\n",
       "      <th>4.0</th>\n",
       "      <th>101.0</th>\n",
       "      <td>3.995581</td>\n",
       "    </tr>\n",
       "    <tr>\n",
       "      <th>5.0</th>\n",
       "      <th>101.0</th>\n",
       "      <td>4.547896</td>\n",
       "    </tr>\n",
       "  </tbody>\n",
       "</table>\n",
       "</div>"
      ],
      "text/plain": [
       "                         Competitor distance KM\n",
       "ShopId CompetitorShopId                        \n",
       "1.0    101.0                           0.000000\n",
       "2.0    101.0                           3.145965\n",
       "3.0    101.0                           2.861697\n",
       "4.0    101.0                           3.995581\n",
       "5.0    101.0                           4.547896"
      ]
     },
     "execution_count": 9,
     "metadata": {},
     "output_type": "execute_result"
    }
   ],
   "source": [
    "from utils import geo_utils\n",
    "\n",
    "shops_distances_matrix = geo_utils.create_shops_distances_matrix(\n",
    "    shops_df, competitorShops_df\n",
    ")\n",
    "\n",
    "distance_matrix = session.read_pandas(\n",
    "    shops_distances_matrix,\n",
    "    keys=[\"ShopId\", \"CompetitorShopId\"],\n",
    "    store_name=\"DistanceMatrix\",\n",
    "    types={\"ShopId\": tt.types.INT, \"CompetitorShopId\": tt.types.INT},\n",
    ")\n",
    "distance_matrix.head()"
   ]
  },
  {
   "cell_type": "markdown",
   "metadata": {},
   "source": [
    "We choose _ProductSales_ as our base store as it contains the key facts for our shops. Look at [atoti tutorial](https://docs.atoti.io/0.4.1/tutorial/01-Basics.html) to understanding the cube better.   \n",
    "Correspondingly, we have our _CompetitorPrices_ store that has a many-to-many relationship with our _ProductSales_ since multiple shops can sell the same products.\n",
    " \n",
    "We can easily setup this many-to-many relationship simply by joining the _CompetitorPrices_ store to our _ProductSales_ store by _ProductId_ and _ShopId_."
   ]
  },
  {
   "cell_type": "code",
   "execution_count": 10,
   "metadata": {},
   "outputs": [],
   "source": [
    "price_index_cube = session.create_cube(productSales, \"PriceIndexCube\")"
   ]
  },
  {
   "cell_type": "code",
   "execution_count": 11,
   "metadata": {},
   "outputs": [],
   "source": [
    "productSales.join(\n",
    "    competitorPrices, mapping={\"ProductId\": \"ProductId\", \"ShopId\": \"ShopId\"}\n",
    ")"
   ]
  },
  {
   "cell_type": "markdown",
   "metadata": {},
   "source": [
    "Let's also enrich our cube with extra information about the shops to create a [snowflake schema](https://www.geeksforgeeks.org/snowflake-schema-in-data-warehouse-model/)."
   ]
  },
  {
   "cell_type": "code",
   "execution_count": 12,
   "metadata": {},
   "outputs": [],
   "source": [
    "productSales.join(products, mapping={\"ProductId\": \"ProductId\"})\n",
    "productSales.join(shops, mapping={\"ShopId\": \"ShopId\"})\n",
    "competitorPrices.join(competitorShops, mapping={\"CompetitorShopId\": \"CompetitorShopId\"})\n",
    "competitorPrices.join(\n",
    "    distance_matrix,\n",
    "    mapping={\"CompetitorShopId\": \"CompetitorShopId\", \"ShopId\": \"ShopId\"},\n",
    ")"
   ]
  },
  {
   "cell_type": "markdown",
   "metadata": {},
   "source": [
    "Let's see the final design of our cube."
   ]
  },
  {
   "cell_type": "code",
   "execution_count": 13,
   "metadata": {},
   "outputs": [
    {
     "data": {
      "image/svg+xml": [
       "<svg height=\"1155px\" viewBox=\"0.00 0.00 1076.00 1154.50\" width=\"1076px\" xmlns=\"http://www.w3.org/2000/svg\" xmlns:xlink=\"http://www.w3.org/1999/xlink\">\n",
       "<g class=\"graph\" id=\"graph0\" transform=\"scale(1.0 1.0) rotate(0) translate(4 1150.5)\">\n",
       "<title>PriceIndexCube schema</title>\n",
       "<polygon fill=\"white\" points=\"-4,4 -4,-1150.5 1072,-1150.5 1072,4 -4,4\" stroke=\"transparent\"/>\n",
       "<!-- ProductSales -->\n",
       "<g class=\"node\" id=\"node1\">\n",
       "<title>ProductSales</title>\n",
       "<polygon fill=\"none\" points=\"8,-598 8,-635 158,-635 158,-598 8,-598\" stroke=\"black\"/>\n",
       "<text font-family=\"Times,serif\" font-size=\"14.00\" font-weight=\"bold\" text-anchor=\"start\" x=\"42.5\" y=\"-613.8\">ProductSales</text>\n",
       "<polygon fill=\"none\" points=\"8,-561 8,-598 158,-598 158,-561 8,-561\" stroke=\"black\"/>\n",
       "<text font-family=\"Times,serif\" font-size=\"14.00\" font-weight=\"bold\" text-anchor=\"start\" x=\"19\" y=\"-576.8\">Key</text>\n",
       "<text font-family=\"Times,serif\" font-size=\"14.00\" text-anchor=\"start\" x=\"44\" y=\"-576.8\">  ProductId </text>\n",
       "<text font-family=\"Times,serif\" font-size=\"14.00\" font-style=\"italic\" text-anchor=\"start\" x=\"113\" y=\"-576.8\">long</text>\n",
       "<text font-family=\"Times,serif\" font-size=\"14.00\" text-anchor=\"start\" x=\"140\" y=\"-576.8\"> </text>\n",
       "<polygon fill=\"none\" points=\"8,-524 8,-561 158,-561 158,-524 8,-524\" stroke=\"black\"/>\n",
       "<text font-family=\"Times,serif\" font-size=\"14.00\" font-weight=\"bold\" text-anchor=\"start\" x=\"19\" y=\"-539.8\">Key</text>\n",
       "<text font-family=\"Times,serif\" font-size=\"14.00\" text-anchor=\"start\" x=\"44\" y=\"-539.8\">  ShopId </text>\n",
       "<text font-family=\"Times,serif\" font-size=\"14.00\" font-style=\"italic\" text-anchor=\"start\" x=\"99\" y=\"-539.8\">long</text>\n",
       "<text font-family=\"Times,serif\" font-size=\"14.00\" text-anchor=\"start\" x=\"126\" y=\"-539.8\"> </text>\n",
       "<polygon fill=\"none\" points=\"8,-487 8,-524 158,-524 158,-487 8,-487\" stroke=\"black\"/>\n",
       "<text font-family=\"Times,serif\" font-size=\"14.00\" text-anchor=\"start\" x=\"19\" y=\"-502.8\">SellingPrice </text>\n",
       "<text font-family=\"Times,serif\" font-size=\"14.00\" font-style=\"italic\" text-anchor=\"start\" x=\"92\" y=\"-502.8\">double</text>\n",
       "<text font-family=\"Times,serif\" font-size=\"14.00\" text-anchor=\"start\" x=\"132\" y=\"-502.8\"> </text>\n",
       "<polygon fill=\"none\" points=\"8,-450 8,-487 158,-487 158,-450 8,-450\" stroke=\"black\"/>\n",
       "<text font-family=\"Times,serif\" font-size=\"14.00\" text-anchor=\"start\" x=\"19\" y=\"-465.8\">PurchasePrice </text>\n",
       "<text font-family=\"Times,serif\" font-size=\"14.00\" font-style=\"italic\" text-anchor=\"start\" x=\"103\" y=\"-465.8\">double</text>\n",
       "<text font-family=\"Times,serif\" font-size=\"14.00\" text-anchor=\"start\" x=\"143\" y=\"-465.8\"> </text>\n",
       "<polygon fill=\"none\" points=\"8,-413 8,-450 158,-450 158,-413 8,-413\" stroke=\"black\"/>\n",
       "<text font-family=\"Times,serif\" font-size=\"14.00\" text-anchor=\"start\" x=\"19\" y=\"-428.8\">Quantity </text>\n",
       "<text font-family=\"Times,serif\" font-size=\"14.00\" font-style=\"italic\" text-anchor=\"start\" x=\"74\" y=\"-428.8\">double</text>\n",
       "<text font-family=\"Times,serif\" font-size=\"14.00\" text-anchor=\"start\" x=\"114\" y=\"-428.8\"> </text>\n",
       "</g>\n",
       "<!-- Products -->\n",
       "<g class=\"node\" id=\"node2\">\n",
       "<title>Products</title>\n",
       "<polygon fill=\"none\" points=\"367,-1105 367,-1142 523,-1142 523,-1105 367,-1105\" stroke=\"black\"/>\n",
       "<text font-family=\"Times,serif\" font-size=\"14.00\" font-weight=\"bold\" text-anchor=\"start\" x=\"417.5\" y=\"-1120.8\">Products</text>\n",
       "<polygon fill=\"none\" points=\"367,-1068 367,-1105 523,-1105 523,-1068 367,-1068\" stroke=\"black\"/>\n",
       "<text font-family=\"Times,serif\" font-size=\"14.00\" font-weight=\"bold\" text-anchor=\"start\" x=\"378\" y=\"-1083.8\">Key</text>\n",
       "<text font-family=\"Times,serif\" font-size=\"14.00\" text-anchor=\"start\" x=\"403\" y=\"-1083.8\">  ProductId </text>\n",
       "<text font-family=\"Times,serif\" font-size=\"14.00\" font-style=\"italic\" text-anchor=\"start\" x=\"472\" y=\"-1083.8\">long</text>\n",
       "<text font-family=\"Times,serif\" font-size=\"14.00\" text-anchor=\"start\" x=\"499\" y=\"-1083.8\"> </text>\n",
       "<polygon fill=\"none\" points=\"367,-1031 367,-1068 523,-1068 523,-1031 367,-1031\" stroke=\"black\"/>\n",
       "<text font-family=\"Times,serif\" font-size=\"14.00\" text-anchor=\"start\" x=\"378\" y=\"-1046.8\">EAN </text>\n",
       "<text font-family=\"Times,serif\" font-size=\"14.00\" font-style=\"italic\" text-anchor=\"start\" x=\"412\" y=\"-1046.8\">long</text>\n",
       "<text font-family=\"Times,serif\" font-size=\"14.00\" text-anchor=\"start\" x=\"439\" y=\"-1046.8\"> </text>\n",
       "<polygon fill=\"none\" points=\"367,-994 367,-1031 523,-1031 523,-994 367,-994\" stroke=\"black\"/>\n",
       "<text font-family=\"Times,serif\" font-size=\"14.00\" text-anchor=\"start\" x=\"378\" y=\"-1009.8\">ProductName </text>\n",
       "<text font-family=\"Times,serif\" font-size=\"14.00\" font-style=\"italic\" text-anchor=\"start\" x=\"461\" y=\"-1009.8\">String</text>\n",
       "<text font-family=\"Times,serif\" font-size=\"14.00\" text-anchor=\"start\" x=\"497\" y=\"-1009.8\"> </text>\n",
       "<polygon fill=\"none\" points=\"367,-957 367,-994 523,-994 523,-957 367,-957\" stroke=\"black\"/>\n",
       "<text font-family=\"Times,serif\" font-size=\"14.00\" text-anchor=\"start\" x=\"378\" y=\"-972.8\">Brand </text>\n",
       "<text font-family=\"Times,serif\" font-size=\"14.00\" font-style=\"italic\" text-anchor=\"start\" x=\"418\" y=\"-972.8\">String</text>\n",
       "<text font-family=\"Times,serif\" font-size=\"14.00\" text-anchor=\"start\" x=\"454\" y=\"-972.8\"> </text>\n",
       "<polygon fill=\"none\" points=\"367,-920 367,-957 523,-957 523,-920 367,-920\" stroke=\"black\"/>\n",
       "<text font-family=\"Times,serif\" font-size=\"14.00\" text-anchor=\"start\" x=\"378\" y=\"-935.8\">Size </text>\n",
       "<text font-family=\"Times,serif\" font-size=\"14.00\" font-style=\"italic\" text-anchor=\"start\" x=\"406\" y=\"-935.8\">String</text>\n",
       "<text font-family=\"Times,serif\" font-size=\"14.00\" text-anchor=\"start\" x=\"442\" y=\"-935.8\"> </text>\n",
       "<polygon fill=\"none\" points=\"367,-883 367,-920 523,-920 523,-883 367,-883\" stroke=\"black\"/>\n",
       "<text font-family=\"Times,serif\" font-size=\"14.00\" text-anchor=\"start\" x=\"378\" y=\"-898.8\">Unit </text>\n",
       "<text font-family=\"Times,serif\" font-size=\"14.00\" font-style=\"italic\" text-anchor=\"start\" x=\"408\" y=\"-898.8\">String</text>\n",
       "<text font-family=\"Times,serif\" font-size=\"14.00\" text-anchor=\"start\" x=\"444\" y=\"-898.8\"> </text>\n",
       "<polygon fill=\"none\" points=\"367,-846 367,-883 523,-883 523,-846 367,-846\" stroke=\"black\"/>\n",
       "<text font-family=\"Times,serif\" font-size=\"14.00\" text-anchor=\"start\" x=\"378\" y=\"-861.8\">Department </text>\n",
       "<text font-family=\"Times,serif\" font-size=\"14.00\" font-style=\"italic\" text-anchor=\"start\" x=\"449\" y=\"-861.8\">String</text>\n",
       "<text font-family=\"Times,serif\" font-size=\"14.00\" text-anchor=\"start\" x=\"485\" y=\"-861.8\"> </text>\n",
       "<polygon fill=\"none\" points=\"367,-809 367,-846 523,-846 523,-809 367,-809\" stroke=\"black\"/>\n",
       "<text font-family=\"Times,serif\" font-size=\"14.00\" text-anchor=\"start\" x=\"378\" y=\"-824.8\">SubDepartment </text>\n",
       "<text font-family=\"Times,serif\" font-size=\"14.00\" font-style=\"italic\" text-anchor=\"start\" x=\"472\" y=\"-824.8\">String</text>\n",
       "<text font-family=\"Times,serif\" font-size=\"14.00\" text-anchor=\"start\" x=\"508\" y=\"-824.8\"> </text>\n",
       "<polygon fill=\"none\" points=\"367,-772 367,-809 523,-809 523,-772 367,-772\" stroke=\"black\"/>\n",
       "<text font-family=\"Times,serif\" font-size=\"14.00\" text-anchor=\"start\" x=\"378\" y=\"-787.8\">Category </text>\n",
       "<text font-family=\"Times,serif\" font-size=\"14.00\" font-style=\"italic\" text-anchor=\"start\" x=\"435\" y=\"-787.8\">String</text>\n",
       "<text font-family=\"Times,serif\" font-size=\"14.00\" text-anchor=\"start\" x=\"471\" y=\"-787.8\"> </text>\n",
       "<polygon fill=\"none\" points=\"367,-735 367,-772 523,-772 523,-735 367,-735\" stroke=\"black\"/>\n",
       "<text font-family=\"Times,serif\" font-size=\"14.00\" text-anchor=\"start\" x=\"378\" y=\"-750.8\">SubCategory </text>\n",
       "<text font-family=\"Times,serif\" font-size=\"14.00\" font-style=\"italic\" text-anchor=\"start\" x=\"458\" y=\"-750.8\">String</text>\n",
       "<text font-family=\"Times,serif\" font-size=\"14.00\" text-anchor=\"start\" x=\"494\" y=\"-750.8\"> </text>\n",
       "</g>\n",
       "<!-- ProductSales&#45;&gt;Products -->\n",
       "<g class=\"edge\" id=\"edge3\">\n",
       "<title>ProductSales-&gt;Products</title>\n",
       "<path d=\"M166.14,-618.69C221.59,-682.61 294.84,-767.05 352.21,-833.19\" fill=\"none\" stroke=\"black\"/>\n",
       "<polygon fill=\"black\" points=\"349.57,-835.49 358.77,-840.75 354.86,-830.9 349.57,-835.49\" stroke=\"black\"/>\n",
       "<text font-family=\"Times,serif\" font-size=\"14.00\" text-anchor=\"middle\" x=\"252\" y=\"-795.8\">ProductId → ProductId</text>\n",
       "</g>\n",
       "<!-- Shops -->\n",
       "<g class=\"node\" id=\"node3\">\n",
       "<title>Shops</title>\n",
       "<polygon fill=\"none\" points=\"379,-672 379,-709 512,-709 512,-672 379,-672\" stroke=\"black\"/>\n",
       "<text font-family=\"Times,serif\" font-size=\"14.00\" font-weight=\"bold\" text-anchor=\"start\" x=\"426.5\" y=\"-687.8\">Shops</text>\n",
       "<polygon fill=\"none\" points=\"379,-635 379,-672 512,-672 512,-635 379,-635\" stroke=\"black\"/>\n",
       "<text font-family=\"Times,serif\" font-size=\"14.00\" font-weight=\"bold\" text-anchor=\"start\" x=\"390\" y=\"-650.8\">Key</text>\n",
       "<text font-family=\"Times,serif\" font-size=\"14.00\" text-anchor=\"start\" x=\"415\" y=\"-650.8\">  ShopId </text>\n",
       "<text font-family=\"Times,serif\" font-size=\"14.00\" font-style=\"italic\" text-anchor=\"start\" x=\"470\" y=\"-650.8\">long</text>\n",
       "<text font-family=\"Times,serif\" font-size=\"14.00\" text-anchor=\"start\" x=\"497\" y=\"-650.8\"> </text>\n",
       "<polygon fill=\"none\" points=\"379,-598 379,-635 512,-635 512,-598 379,-598\" stroke=\"black\"/>\n",
       "<text font-family=\"Times,serif\" font-size=\"14.00\" text-anchor=\"start\" x=\"390\" y=\"-613.8\">ShopName </text>\n",
       "<text font-family=\"Times,serif\" font-size=\"14.00\" font-style=\"italic\" text-anchor=\"start\" x=\"459\" y=\"-613.8\">String</text>\n",
       "<text font-family=\"Times,serif\" font-size=\"14.00\" text-anchor=\"start\" x=\"495\" y=\"-613.8\"> </text>\n",
       "<polygon fill=\"none\" points=\"379,-561 379,-598 512,-598 512,-561 379,-561\" stroke=\"black\"/>\n",
       "<text font-family=\"Times,serif\" font-size=\"14.00\" text-anchor=\"start\" x=\"390\" y=\"-576.8\">Address </text>\n",
       "<text font-family=\"Times,serif\" font-size=\"14.00\" font-style=\"italic\" text-anchor=\"start\" x=\"441\" y=\"-576.8\">String</text>\n",
       "<text font-family=\"Times,serif\" font-size=\"14.00\" text-anchor=\"start\" x=\"477\" y=\"-576.8\"> </text>\n",
       "<polygon fill=\"none\" points=\"379,-524 379,-561 512,-561 512,-524 379,-524\" stroke=\"black\"/>\n",
       "<text font-family=\"Times,serif\" font-size=\"14.00\" text-anchor=\"start\" x=\"390\" y=\"-539.8\">ZipCode </text>\n",
       "<text font-family=\"Times,serif\" font-size=\"14.00\" font-style=\"italic\" text-anchor=\"start\" x=\"445\" y=\"-539.8\">long</text>\n",
       "<text font-family=\"Times,serif\" font-size=\"14.00\" text-anchor=\"start\" x=\"472\" y=\"-539.8\"> </text>\n",
       "<polygon fill=\"none\" points=\"379,-487 379,-524 512,-524 512,-487 379,-487\" stroke=\"black\"/>\n",
       "<text font-family=\"Times,serif\" font-size=\"14.00\" text-anchor=\"start\" x=\"390\" y=\"-502.8\">City </text>\n",
       "<text font-family=\"Times,serif\" font-size=\"14.00\" font-style=\"italic\" text-anchor=\"start\" x=\"419\" y=\"-502.8\">String</text>\n",
       "<text font-family=\"Times,serif\" font-size=\"14.00\" text-anchor=\"start\" x=\"455\" y=\"-502.8\"> </text>\n",
       "<polygon fill=\"none\" points=\"379,-450 379,-487 512,-487 512,-450 379,-450\" stroke=\"black\"/>\n",
       "<text font-family=\"Times,serif\" font-size=\"14.00\" text-anchor=\"start\" x=\"390\" y=\"-465.8\">Country </text>\n",
       "<text font-family=\"Times,serif\" font-size=\"14.00\" font-style=\"italic\" text-anchor=\"start\" x=\"442\" y=\"-465.8\">String</text>\n",
       "<text font-family=\"Times,serif\" font-size=\"14.00\" text-anchor=\"start\" x=\"478\" y=\"-465.8\"> </text>\n",
       "<polygon fill=\"none\" points=\"379,-413 379,-450 512,-450 512,-413 379,-413\" stroke=\"black\"/>\n",
       "<text font-family=\"Times,serif\" font-size=\"14.00\" text-anchor=\"start\" x=\"390\" y=\"-428.8\">Latitude </text>\n",
       "<text font-family=\"Times,serif\" font-size=\"14.00\" font-style=\"italic\" text-anchor=\"start\" x=\"442\" y=\"-428.8\">double</text>\n",
       "<text font-family=\"Times,serif\" font-size=\"14.00\" text-anchor=\"start\" x=\"482\" y=\"-428.8\"> </text>\n",
       "<polygon fill=\"none\" points=\"379,-376 379,-413 512,-413 512,-376 379,-376\" stroke=\"black\"/>\n",
       "<text font-family=\"Times,serif\" font-size=\"14.00\" text-anchor=\"start\" x=\"390\" y=\"-391.8\">Longitude </text>\n",
       "<text font-family=\"Times,serif\" font-size=\"14.00\" font-style=\"italic\" text-anchor=\"start\" x=\"454\" y=\"-391.8\">double</text>\n",
       "<text font-family=\"Times,serif\" font-size=\"14.00\" text-anchor=\"start\" x=\"494\" y=\"-391.8\"> </text>\n",
       "<polygon fill=\"none\" points=\"379,-339 379,-376 512,-376 512,-339 379,-339\" stroke=\"black\"/>\n",
       "<text font-family=\"Times,serif\" font-size=\"14.00\" text-anchor=\"start\" x=\"390\" y=\"-354.8\">Company </text>\n",
       "<text font-family=\"Times,serif\" font-size=\"14.00\" font-style=\"italic\" text-anchor=\"start\" x=\"451\" y=\"-354.8\">String</text>\n",
       "<text font-family=\"Times,serif\" font-size=\"14.00\" text-anchor=\"start\" x=\"487\" y=\"-354.8\"> </text>\n",
       "</g>\n",
       "<!-- ProductSales&#45;&gt;Shops -->\n",
       "<g class=\"edge\" id=\"edge2\">\n",
       "<title>ProductSales-&gt;Shops</title>\n",
       "<path d=\"M166.14,-524C224.18,-524 301.74,-524 360.16,-524\" fill=\"none\" stroke=\"black\"/>\n",
       "<polygon fill=\"black\" points=\"360.46,-527.5 370.46,-524 360.46,-520.5 360.46,-527.5\" stroke=\"black\"/>\n",
       "<text font-family=\"Times,serif\" font-size=\"14.00\" text-anchor=\"middle\" x=\"252\" y=\"-527.8\">ShopId → ShopId</text>\n",
       "</g>\n",
       "<!-- CompetitorPrices -->\n",
       "<g class=\"node\" id=\"node4\">\n",
       "<title>CompetitorPrices</title>\n",
       "<polygon fill=\"none\" points=\"346,-275 346,-312 544,-312 544,-275 346,-275\" stroke=\"black\"/>\n",
       "<text font-family=\"Times,serif\" font-size=\"14.00\" font-weight=\"bold\" text-anchor=\"start\" x=\"391.5\" y=\"-290.8\">CompetitorPrices</text>\n",
       "<polygon fill=\"none\" points=\"346,-238 346,-275 544,-275 544,-238 346,-238\" stroke=\"black\"/>\n",
       "<text font-family=\"Times,serif\" font-size=\"14.00\" font-weight=\"bold\" text-anchor=\"start\" x=\"357\" y=\"-253.8\">Key</text>\n",
       "<text font-family=\"Times,serif\" font-size=\"14.00\" text-anchor=\"start\" x=\"382\" y=\"-253.8\">  ProductId </text>\n",
       "<text font-family=\"Times,serif\" font-size=\"14.00\" font-style=\"italic\" text-anchor=\"start\" x=\"451\" y=\"-253.8\">long</text>\n",
       "<text font-family=\"Times,serif\" font-size=\"14.00\" text-anchor=\"start\" x=\"478\" y=\"-253.8\"> </text>\n",
       "<polygon fill=\"none\" points=\"346,-201 346,-238 544,-238 544,-201 346,-201\" stroke=\"black\"/>\n",
       "<text font-family=\"Times,serif\" font-size=\"14.00\" font-weight=\"bold\" text-anchor=\"start\" x=\"357\" y=\"-216.8\">Key</text>\n",
       "<text font-family=\"Times,serif\" font-size=\"14.00\" text-anchor=\"start\" x=\"382\" y=\"-216.8\">  CompetitorShopId </text>\n",
       "<text font-family=\"Times,serif\" font-size=\"14.00\" font-style=\"italic\" text-anchor=\"start\" x=\"502\" y=\"-216.8\">long</text>\n",
       "<text font-family=\"Times,serif\" font-size=\"14.00\" text-anchor=\"start\" x=\"529\" y=\"-216.8\"> </text>\n",
       "<polygon fill=\"none\" points=\"346,-164 346,-201 544,-201 544,-164 346,-164\" stroke=\"black\"/>\n",
       "<text font-family=\"Times,serif\" font-size=\"14.00\" font-weight=\"bold\" text-anchor=\"start\" x=\"357\" y=\"-179.8\">Key</text>\n",
       "<text font-family=\"Times,serif\" font-size=\"14.00\" text-anchor=\"start\" x=\"382\" y=\"-179.8\">  ShopId </text>\n",
       "<text font-family=\"Times,serif\" font-size=\"14.00\" font-style=\"italic\" text-anchor=\"start\" x=\"437\" y=\"-179.8\">long</text>\n",
       "<text font-family=\"Times,serif\" font-size=\"14.00\" text-anchor=\"start\" x=\"464\" y=\"-179.8\"> </text>\n",
       "<polygon fill=\"none\" points=\"346,-127 346,-164 544,-164 544,-127 346,-127\" stroke=\"black\"/>\n",
       "<text font-family=\"Times,serif\" font-size=\"14.00\" text-anchor=\"start\" x=\"357\" y=\"-142.8\">CompetitorPrice </text>\n",
       "<text font-family=\"Times,serif\" font-size=\"14.00\" font-style=\"italic\" text-anchor=\"start\" x=\"455\" y=\"-142.8\">double</text>\n",
       "<text font-family=\"Times,serif\" font-size=\"14.00\" text-anchor=\"start\" x=\"495\" y=\"-142.8\"> </text>\n",
       "</g>\n",
       "<!-- ProductSales&#45;&gt;CompetitorPrices -->\n",
       "<g class=\"edge\" id=\"edge1\">\n",
       "<title>ProductSales-&gt;CompetitorPrices</title>\n",
       "<path d=\"M166.14,-454.64C214.7,-413.63 276.91,-361.1 330.15,-316.14\" fill=\"none\" stroke=\"black\" stroke-dasharray=\"5,2\"/>\n",
       "<polygon fill=\"black\" points=\"332.55,-318.69 337.94,-309.57 328.04,-313.34 332.55,-318.69\" stroke=\"black\"/>\n",
       "<text font-family=\"Times,serif\" font-size=\"14.00\" text-anchor=\"middle\" x=\"252\" y=\"-452.8\">ProductId → ProductId</text>\n",
       "<text font-family=\"Times,serif\" font-size=\"14.00\" text-anchor=\"middle\" x=\"252\" y=\"-437.8\">ShopId → ShopId</text>\n",
       "</g>\n",
       "<!-- CompetitorsShop -->\n",
       "<g class=\"node\" id=\"node5\">\n",
       "<title>CompetitorsShop</title>\n",
       "<polygon fill=\"none\" points=\"834,-511 834,-548 1060,-548 1060,-511 834,-511\" stroke=\"black\"/>\n",
       "<text font-family=\"Times,serif\" font-size=\"14.00\" font-weight=\"bold\" text-anchor=\"start\" x=\"892.5\" y=\"-526.8\">CompetitorsShop</text>\n",
       "<polygon fill=\"none\" points=\"834,-474 834,-511 1060,-511 1060,-474 834,-474\" stroke=\"black\"/>\n",
       "<text font-family=\"Times,serif\" font-size=\"14.00\" font-weight=\"bold\" text-anchor=\"start\" x=\"845\" y=\"-489.8\">Key</text>\n",
       "<text font-family=\"Times,serif\" font-size=\"14.00\" text-anchor=\"start\" x=\"870\" y=\"-489.8\">  CompetitorShopId </text>\n",
       "<text font-family=\"Times,serif\" font-size=\"14.00\" font-style=\"italic\" text-anchor=\"start\" x=\"990\" y=\"-489.8\">long</text>\n",
       "<text font-family=\"Times,serif\" font-size=\"14.00\" text-anchor=\"start\" x=\"1017\" y=\"-489.8\"> </text>\n",
       "<polygon fill=\"none\" points=\"834,-437 834,-474 1060,-474 1060,-437 834,-437\" stroke=\"black\"/>\n",
       "<text font-family=\"Times,serif\" font-size=\"14.00\" text-anchor=\"start\" x=\"845\" y=\"-452.8\">CompetitorShopName </text>\n",
       "<text font-family=\"Times,serif\" font-size=\"14.00\" font-style=\"italic\" text-anchor=\"start\" x=\"979\" y=\"-452.8\">String</text>\n",
       "<text font-family=\"Times,serif\" font-size=\"14.00\" text-anchor=\"start\" x=\"1015\" y=\"-452.8\"> </text>\n",
       "<polygon fill=\"none\" points=\"834,-400 834,-437 1060,-437 1060,-400 834,-400\" stroke=\"black\"/>\n",
       "<text font-family=\"Times,serif\" font-size=\"14.00\" text-anchor=\"start\" x=\"845\" y=\"-415.8\">CompetitorShopAdress </text>\n",
       "<text font-family=\"Times,serif\" font-size=\"14.00\" font-style=\"italic\" text-anchor=\"start\" x=\"984\" y=\"-415.8\">String</text>\n",
       "<text font-family=\"Times,serif\" font-size=\"14.00\" text-anchor=\"start\" x=\"1020\" y=\"-415.8\"> </text>\n",
       "<polygon fill=\"none\" points=\"834,-363 834,-400 1060,-400 1060,-363 834,-363\" stroke=\"black\"/>\n",
       "<text font-family=\"Times,serif\" font-size=\"14.00\" text-anchor=\"start\" x=\"845\" y=\"-378.8\">CompetitorShopZipCode </text>\n",
       "<text font-family=\"Times,serif\" font-size=\"14.00\" font-style=\"italic\" text-anchor=\"start\" x=\"996\" y=\"-378.8\">long</text>\n",
       "<text font-family=\"Times,serif\" font-size=\"14.00\" text-anchor=\"start\" x=\"1023\" y=\"-378.8\"> </text>\n",
       "<polygon fill=\"none\" points=\"834,-326 834,-363 1060,-363 1060,-326 834,-326\" stroke=\"black\"/>\n",
       "<text font-family=\"Times,serif\" font-size=\"14.00\" text-anchor=\"start\" x=\"845\" y=\"-341.8\">CompetitorShopCity </text>\n",
       "<text font-family=\"Times,serif\" font-size=\"14.00\" font-style=\"italic\" text-anchor=\"start\" x=\"970\" y=\"-341.8\">String</text>\n",
       "<text font-family=\"Times,serif\" font-size=\"14.00\" text-anchor=\"start\" x=\"1006\" y=\"-341.8\"> </text>\n",
       "<polygon fill=\"none\" points=\"834,-289 834,-326 1060,-326 1060,-289 834,-289\" stroke=\"black\"/>\n",
       "<text font-family=\"Times,serif\" font-size=\"14.00\" text-anchor=\"start\" x=\"845\" y=\"-304.8\">CompetitorShopCountry </text>\n",
       "<text font-family=\"Times,serif\" font-size=\"14.00\" font-style=\"italic\" text-anchor=\"start\" x=\"993\" y=\"-304.8\">String</text>\n",
       "<text font-family=\"Times,serif\" font-size=\"14.00\" text-anchor=\"start\" x=\"1029\" y=\"-304.8\"> </text>\n",
       "<polygon fill=\"none\" points=\"834,-252 834,-289 1060,-289 1060,-252 834,-252\" stroke=\"black\"/>\n",
       "<text font-family=\"Times,serif\" font-size=\"14.00\" text-anchor=\"start\" x=\"845\" y=\"-267.8\">CompetitorShopLatitude </text>\n",
       "<text font-family=\"Times,serif\" font-size=\"14.00\" font-style=\"italic\" text-anchor=\"start\" x=\"993\" y=\"-267.8\">double</text>\n",
       "<text font-family=\"Times,serif\" font-size=\"14.00\" text-anchor=\"start\" x=\"1033\" y=\"-267.8\"> </text>\n",
       "<polygon fill=\"none\" points=\"834,-215 834,-252 1060,-252 1060,-215 834,-215\" stroke=\"black\"/>\n",
       "<text font-family=\"Times,serif\" font-size=\"14.00\" text-anchor=\"start\" x=\"845\" y=\"-230.8\">CompetitorShopLongitude </text>\n",
       "<text font-family=\"Times,serif\" font-size=\"14.00\" font-style=\"italic\" text-anchor=\"start\" x=\"1005\" y=\"-230.8\">double</text>\n",
       "<text font-family=\"Times,serif\" font-size=\"14.00\" text-anchor=\"start\" x=\"1045\" y=\"-230.8\"> </text>\n",
       "<polygon fill=\"none\" points=\"834,-178 834,-215 1060,-215 1060,-178 834,-178\" stroke=\"black\"/>\n",
       "<text font-family=\"Times,serif\" font-size=\"14.00\" text-anchor=\"start\" x=\"845\" y=\"-193.8\">CompetitorShopCompany </text>\n",
       "<text font-family=\"Times,serif\" font-size=\"14.00\" font-style=\"italic\" text-anchor=\"start\" x=\"1002\" y=\"-193.8\">String</text>\n",
       "<text font-family=\"Times,serif\" font-size=\"14.00\" text-anchor=\"start\" x=\"1038\" y=\"-193.8\"> </text>\n",
       "</g>\n",
       "<!-- CompetitorPrices&#45;&gt;CompetitorsShop -->\n",
       "<g class=\"edge\" id=\"edge5\">\n",
       "<title>CompetitorPrices-&gt;CompetitorsShop</title>\n",
       "<path d=\"M552.04,-250.33C629.03,-272.35 733.66,-302.27 815.74,-325.74\" fill=\"none\" stroke=\"black\"/>\n",
       "<polygon fill=\"black\" points=\"815.05,-329.19 825.63,-328.57 816.98,-322.46 815.05,-329.19\" stroke=\"black\"/>\n",
       "<text font-family=\"Times,serif\" font-size=\"14.00\" text-anchor=\"middle\" x=\"689\" y=\"-323.8\">CompetitorShopId → CompetitorShopId</text>\n",
       "</g>\n",
       "<!-- DistanceMatrix -->\n",
       "<g class=\"node\" id=\"node6\">\n",
       "<title>DistanceMatrix</title>\n",
       "<polygon fill=\"none\" points=\"841,-115 841,-152 1053,-152 1053,-115 841,-115\" stroke=\"black\"/>\n",
       "<text font-family=\"Times,serif\" font-size=\"14.00\" font-weight=\"bold\" text-anchor=\"start\" x=\"899.5\" y=\"-130.8\">DistanceMatrix</text>\n",
       "<polygon fill=\"none\" points=\"841,-78 841,-115 1053,-115 1053,-78 841,-78\" stroke=\"black\"/>\n",
       "<text font-family=\"Times,serif\" font-size=\"14.00\" font-weight=\"bold\" text-anchor=\"start\" x=\"852\" y=\"-93.8\">Key</text>\n",
       "<text font-family=\"Times,serif\" font-size=\"14.00\" text-anchor=\"start\" x=\"877\" y=\"-93.8\">  ShopId </text>\n",
       "<text font-family=\"Times,serif\" font-size=\"14.00\" font-style=\"italic\" text-anchor=\"start\" x=\"932\" y=\"-93.8\">long</text>\n",
       "<text font-family=\"Times,serif\" font-size=\"14.00\" text-anchor=\"start\" x=\"959\" y=\"-93.8\"> </text>\n",
       "<polygon fill=\"none\" points=\"841,-41 841,-78 1053,-78 1053,-41 841,-41\" stroke=\"black\"/>\n",
       "<text font-family=\"Times,serif\" font-size=\"14.00\" font-weight=\"bold\" text-anchor=\"start\" x=\"852\" y=\"-56.8\">Key</text>\n",
       "<text font-family=\"Times,serif\" font-size=\"14.00\" text-anchor=\"start\" x=\"877\" y=\"-56.8\">  CompetitorShopId </text>\n",
       "<text font-family=\"Times,serif\" font-size=\"14.00\" font-style=\"italic\" text-anchor=\"start\" x=\"997\" y=\"-56.8\">long</text>\n",
       "<text font-family=\"Times,serif\" font-size=\"14.00\" text-anchor=\"start\" x=\"1024\" y=\"-56.8\"> </text>\n",
       "<polygon fill=\"none\" points=\"841,-4 841,-41 1053,-41 1053,-4 841,-4\" stroke=\"black\"/>\n",
       "<text font-family=\"Times,serif\" font-size=\"14.00\" text-anchor=\"start\" x=\"852\" y=\"-19.8\">Competitor distance KM </text>\n",
       "<text font-family=\"Times,serif\" font-size=\"14.00\" font-style=\"italic\" text-anchor=\"start\" x=\"998\" y=\"-19.8\">double</text>\n",
       "<text font-family=\"Times,serif\" font-size=\"14.00\" text-anchor=\"start\" x=\"1038\" y=\"-19.8\"> </text>\n",
       "</g>\n",
       "<!-- CompetitorPrices&#45;&gt;DistanceMatrix -->\n",
       "<g class=\"edge\" id=\"edge4\">\n",
       "<title>CompetitorPrices-&gt;DistanceMatrix</title>\n",
       "<path d=\"M552.04,-189.89C631.31,-167.37 739.89,-136.54 822.98,-112.94\" fill=\"none\" stroke=\"black\"/>\n",
       "<polygon fill=\"black\" points=\"824.06,-116.27 832.73,-110.17 822.15,-109.53 824.06,-116.27\" stroke=\"black\"/>\n",
       "<text font-family=\"Times,serif\" font-size=\"14.00\" text-anchor=\"middle\" x=\"689\" y=\"-199.8\">CompetitorShopId → CompetitorShopId</text>\n",
       "<text font-family=\"Times,serif\" font-size=\"14.00\" text-anchor=\"middle\" x=\"689\" y=\"-184.8\">ShopId → ShopId</text>\n",
       "</g>\n",
       "</g>\n",
       "</svg>"
      ],
      "text/plain": [
       "<IPython.core.display.SVG object>"
      ]
     },
     "execution_count": 13,
     "metadata": {},
     "output_type": "execute_result"
    }
   ],
   "source": [
    "price_index_cube.schema"
   ]
  },
  {
   "cell_type": "code",
   "execution_count": 14,
   "metadata": {},
   "outputs": [],
   "source": [
    "h = price_index_cube.hierarchies\n",
    "m = price_index_cube.measures\n",
    "lvl = price_index_cube.levels"
   ]
  },
  {
   "cell_type": "code",
   "execution_count": 15,
   "metadata": {},
   "outputs": [
    {
     "data": {
      "application/json": {
       "Competitor distance KM.VALUE": {
        "formatter": "DOUBLE[#,###.00]",
        "visible": true
       },
       "CompetitorPrice.VALUE": {
        "formatter": "DOUBLE[#,###.00]",
        "visible": true
       },
       "CompetitorShopLatitude.VALUE": {
        "formatter": "DOUBLE[#,###.00]",
        "visible": true
       },
       "CompetitorShopLongitude.VALUE": {
        "formatter": "DOUBLE[#,###.00]",
        "visible": true
       },
       "Latitude.VALUE": {
        "formatter": "DOUBLE[#,###.00]",
        "visible": true
       },
       "Longitude.VALUE": {
        "formatter": "DOUBLE[#,###.00]",
        "visible": true
       },
       "PurchasePrice.MEAN": {
        "formatter": "DOUBLE[#,###.00]",
        "visible": true
       },
       "PurchasePrice.SUM": {
        "formatter": "DOUBLE[#,###.00]",
        "visible": true
       },
       "Quantity.MEAN": {
        "formatter": "DOUBLE[#,###.00]",
        "visible": true
       },
       "Quantity.SUM": {
        "formatter": "DOUBLE[#,###.00]",
        "visible": true
       },
       "SellingPrice.MEAN": {
        "formatter": "DOUBLE[#,###.00]",
        "visible": true
       },
       "SellingPrice.SUM": {
        "formatter": "DOUBLE[#,###.00]",
        "visible": true
       },
       "contributors.COUNT": {
        "formatter": null,
        "visible": true
       }
      },
      "text/html": [
       "<ul>\n",
       "<li>Measures\n",
       "  <ul>\n",
       "  <li>Competitor distance KM.VALUE\n",
       "    <ul>\n",
       "    <li>formatter: DOUBLE[#,###.00]</li>\n",
       "    <li>visible: True</li>\n",
       "    </ul>\n",
       "  </li>\n",
       "  <li>CompetitorPrice.VALUE\n",
       "    <ul>\n",
       "    <li>formatter: DOUBLE[#,###.00]</li>\n",
       "    <li>visible: True</li>\n",
       "    </ul>\n",
       "  </li>\n",
       "  <li>CompetitorShopLatitude.VALUE\n",
       "    <ul>\n",
       "    <li>formatter: DOUBLE[#,###.00]</li>\n",
       "    <li>visible: True</li>\n",
       "    </ul>\n",
       "  </li>\n",
       "  <li>CompetitorShopLongitude.VALUE\n",
       "    <ul>\n",
       "    <li>formatter: DOUBLE[#,###.00]</li>\n",
       "    <li>visible: True</li>\n",
       "    </ul>\n",
       "  </li>\n",
       "  <li>Latitude.VALUE\n",
       "    <ul>\n",
       "    <li>formatter: DOUBLE[#,###.00]</li>\n",
       "    <li>visible: True</li>\n",
       "    </ul>\n",
       "  </li>\n",
       "  <li>Longitude.VALUE\n",
       "    <ul>\n",
       "    <li>formatter: DOUBLE[#,###.00]</li>\n",
       "    <li>visible: True</li>\n",
       "    </ul>\n",
       "  </li>\n",
       "  <li>PurchasePrice.MEAN\n",
       "    <ul>\n",
       "    <li>formatter: DOUBLE[#,###.00]</li>\n",
       "    <li>visible: True</li>\n",
       "    </ul>\n",
       "  </li>\n",
       "  <li>PurchasePrice.SUM\n",
       "    <ul>\n",
       "    <li>formatter: DOUBLE[#,###.00]</li>\n",
       "    <li>visible: True</li>\n",
       "    </ul>\n",
       "  </li>\n",
       "  <li>Quantity.MEAN\n",
       "    <ul>\n",
       "    <li>formatter: DOUBLE[#,###.00]</li>\n",
       "    <li>visible: True</li>\n",
       "    </ul>\n",
       "  </li>\n",
       "  <li>Quantity.SUM\n",
       "    <ul>\n",
       "    <li>formatter: DOUBLE[#,###.00]</li>\n",
       "    <li>visible: True</li>\n",
       "    </ul>\n",
       "  </li>\n",
       "  <li>SellingPrice.MEAN\n",
       "    <ul>\n",
       "    <li>formatter: DOUBLE[#,###.00]</li>\n",
       "    <li>visible: True</li>\n",
       "    </ul>\n",
       "  </li>\n",
       "  <li>SellingPrice.SUM\n",
       "    <ul>\n",
       "    <li>formatter: DOUBLE[#,###.00]</li>\n",
       "    <li>visible: True</li>\n",
       "    </ul>\n",
       "  </li>\n",
       "  <li>contributors.COUNT\n",
       "    <ul>\n",
       "    <li>formatter: None</li>\n",
       "    <li>visible: True</li>\n",
       "    </ul>\n",
       "  </li>\n",
       "  </ul>\n",
       "</li>\n",
       "</ul>\n"
      ],
      "text/plain": [
       "Measures()"
      ]
     },
     "execution_count": 15,
     "metadata": {
      "application/json": {
       "expanded": false,
       "root": "Measures"
      }
     },
     "output_type": "execute_result"
    }
   ],
   "source": [
    "m"
   ]
  },
  {
   "cell_type": "markdown",
   "metadata": {},
   "source": [
    "We can see a _SUM_ and _MEAN_ measure is created columns of type double/float for the base store - _ProductSales_.  \n",
    "A _VALUE_ measure is created for columns of type double/float in the other referenced stores.  \n",
    "\n",
    "With the cube created, let's start by computing the price index per shop."
   ]
  },
  {
   "cell_type": "markdown",
   "metadata": {},
   "source": [
    "### 1. Computing the price index per shop\n",
    "\n",
    "There are different existing formulas for the price index. The formula we will use in this example compares a product price to the average price found among the local competitors of a particular shop, measuring at which percentage of this average competitors price the product is.\n",
    "\n",
    "We will weight the price index indicator by the margin when aggregating above shop and product level. This is so that we can later optimize the price index for products that contribute the most to the margin. Other commonly used formulas weight by sales quantity or revenue.\n",
    "\n",
    "#### Price index formula:\n",
    "\n",
    "# $100 \\times \\frac{\\sum_{s,p \\in (Shops,Products)}\\frac{Selling Price(s,p)}{Average Competitor Price(s,p)} \\times Margin(s,p)}{\\sum_{s,p \\in (Shops,Products)}Margin(s,p)}$  \n",
    "\n",
    "Let's create a measure to get the mean of _CompetitorPrice_ which will be used to derive the price index."
   ]
  },
  {
   "cell_type": "code",
   "execution_count": 16,
   "metadata": {},
   "outputs": [],
   "source": [
    "m[\"CompetitorPrice.MEAN\"] = tt.agg.mean(m[\"CompetitorPrice.VALUE\"])\n",
    "m[\"CompetitorPrice.MEAN\"].formatter = \"DOUBLE[#,###.00]\""
   ]
  },
  {
   "cell_type": "markdown",
   "metadata": {},
   "source": [
    "Instead of using Pandas to do pre-aggregation, we perform the margin computation with atoti so that we can see the change in its value after we optimise the selling price later on."
   ]
  },
  {
   "cell_type": "code",
   "execution_count": 17,
   "metadata": {},
   "outputs": [],
   "source": [
    "m[\"Margin.SUM\"] = tt.agg.sum(\n",
    "    (m[\"SellingPrice.SUM\"] - m[\"PurchasePrice.SUM\"]) * m[\"Quantity.SUM\"],\n",
    "    scope=tt.scope.origin(lvl[\"ProductId\"], lvl[\"ShopId\"]),\n",
    ")"
   ]
  },
  {
   "cell_type": "markdown",
   "metadata": {},
   "source": [
    "We see how the weight price index indicator can be achieved in the next few cells.  \n",
    "Realize how we are setting the scope on _ProductId_ and _ShopId_? This will ensure the summation of the various measures at the _Shops_ and _Product_ level as required by the formula:\n",
    "\n",
    "# ${\\sum_{s,p \\in (Shops,Products)}\\frac{Selling Price(s,p)}{Average Competitor Price(s,p)} \\times Margin(s,p)}$"
   ]
  },
  {
   "cell_type": "code",
   "execution_count": 18,
   "metadata": {},
   "outputs": [],
   "source": [
    "price_index_numerator = tt.agg.sum(\n",
    "    (m[\"SellingPrice.SUM\"] * m[\"Margin.SUM\"]) / m[\"CompetitorPrice.MEAN\"],\n",
    "    scope=tt.scope.origin(lvl[\"ProductId\"], lvl[\"ShopId\"]),\n",
    ")"
   ]
  },
  {
   "cell_type": "markdown",
   "metadata": {},
   "source": [
    "Finally, we calculate the contribution of the product towards the total margin."
   ]
  },
  {
   "cell_type": "code",
   "execution_count": 19,
   "metadata": {},
   "outputs": [],
   "source": [
    "m[\"Price Index\"] = price_index_numerator / m[\"Margin.SUM\"]"
   ]
  },
  {
   "cell_type": "markdown",
   "metadata": {},
   "source": [
    "We can now have the price index per shop and product.  \n",
    "\n",
    "atoti allows us to do [modeling with sampled size](https://docs.atoti.io/0.4.1/tutorial/02-Configuration.html#Sampling-mode) of the data.  \n",
    "As we are currently in sampling mode, let's trigger full data load to do some visualizations."
   ]
  },
  {
   "cell_type": "code",
   "execution_count": 20,
   "metadata": {},
   "outputs": [],
   "source": [
    "session.load_all_data()"
   ]
  },
  {
   "cell_type": "markdown",
   "metadata": {},
   "source": [
    "Let's visualize the price index per shop."
   ]
  },
  {
   "cell_type": "code",
   "execution_count": 22,
   "metadata": {
    "atoti": {
     "state": {
      "name": "Price index by shops",
      "type": "container",
      "value": {
       "body": {
        "configuration": {
         "tabular": {
          "addButtonFilter": "numeric",
          "cellRenderers": [
           "tree-layout"
          ],
          "columns": [
           {
            "key": "c-treeCells-member",
            "width": 211
           },
           {
            "key": "[Hierarchies].[ShopId].[ShopId]",
            "width": 67
           },
           {
            "key": "[Hierarchies].[ShopName].[ShopName]",
            "width": 147
           },
           {
            "key": "[Measures].[CompetitorPrice.MEAN]",
            "width": 155
           }
          ],
          "columnsGroups": [
           {
            "captionProducer": "firstColumn",
            "cellFactory": "kpi-status",
            "selector": "kpi-status"
           },
           {
            "captionProducer": "firstColumn",
            "cellFactory": "lookup",
            "selector": "lookup"
           },
           {
            "captionProducer": "expiry",
            "cellFactory": "expiry",
            "selector": "kpi-expiry"
           },
           {
            "captionProducer": "columnMerge",
            "cellFactory": "treeCells",
            "selector": "member"
           }
          ],
          "defaultOptions": {},
          "expansion": {
           "automaticExpansion": true
          },
          "hideAddButton": true,
          "pinnedHeaderSelector": "member",
          "sortingMode": "non-breaking",
          "statisticsShown": true
         }
        },
        "contextValues": {},
        "mdx": "SELECT NON EMPTY {[Measures].[Price Index], [Measures].[SellingPrice.MEAN], [Measures].[CompetitorPrice.MEAN]} ON COLUMNS, NON EMPTY Hierarchize(DrilldownLevel([Hierarchies].[ShopName].[ALL].[AllMember])) ON ROWS FROM [PriceIndexCube] CELL PROPERTIES VALUE, FORMATTED_VALUE, BACK_COLOR, FORE_COLOR, FONT_FLAGS",
        "ranges": {
         "column": {
          "chunkSize": 50,
          "thresholdPercentage": 0.2
         },
         "row": {
          "chunkSize": 2000,
          "thresholdPercentage": 0.1
         }
        },
        "serverUrl": "",
        "updateMode": "once"
       },
       "containerKey": "pivot-table",
       "showTitleBar": false,
       "style": {}
      }
     }
    }
   },
   "outputs": [
    {
     "data": {
      "application/vnd.atoti.v0+json": {
       "cube": "PriceIndexCube",
       "name": "Price index by shops",
       "session": "Unnamed"
      },
      "text/plain": [
       "Install and enable the atoti JupyterLab extension to see this widget."
      ]
     },
     "metadata": {},
     "output_type": "display_data"
    }
   ],
   "source": [
    "price_index_cube.visualize(\"Price index by shops\")"
   ]
  },
  {
   "cell_type": "markdown",
   "metadata": {},
   "source": [
    "### 2. Computing number of Competitors per Distance Bucket  \n",
    "\n",
    "There are many ways to do compute the number of competitors per distance buckets. However, we are going to showcase how we can make use of the simulations to create the distance buckets. The advantage of doing so is that we can easily create new distance bucket with minimum coding.\n",
    "\n",
    "Let's create a measure call `m[\"Distance Threshold\"]` that contains the value for the distance threshold for each bucket and we start by looking at the number of competitors within 1km distance radius from our shop."
   ]
  },
  {
   "cell_type": "code",
   "execution_count": 22,
   "metadata": {},
   "outputs": [],
   "source": [
    "m[\"Distance Threshold\"] = 1"
   ]
  },
  {
   "cell_type": "markdown",
   "metadata": {},
   "source": [
    "Due to the join to the _CompetitorsPrice_ store, the `m[\"Contributor.COUNT]` returned is based on the products.  \n",
    "We want to obtain the number of distinct competitors' shops that sell the same products as us, not the number of products.  \n",
    "\n",
    "To do so, we look at the the average distance between the shop and its competitor, returning a count of 1 if it is located within our threshold radius."
   ]
  },
  {
   "cell_type": "code",
   "execution_count": 23,
   "metadata": {},
   "outputs": [],
   "source": [
    "m[\"Count within distance threshold\"] = tt.agg.sum(\n",
    "    tt.where(\n",
    "        tt.agg.mean(m[\"Competitor distance KM.VALUE\"]) < m[\"Distance Threshold\"], 1, 0\n",
    "    ),\n",
    "    scope=tt.scope.origin(lvl[\"ShopId\"], lvl[\"CompetitorShopId\"]),\n",
    ")"
   ]
  },
  {
   "cell_type": "markdown",
   "metadata": {},
   "source": [
    "Naturally we can quickly use Pandas to derive the same value. However, when we use this one time setup together with simulations, we have the below benefits:\n",
    "- easily add / delete the distance buckets\n",
    "- ability to drill down on the data for each distance range to perform further analysis\n",
    "\n",
    "#### Setting up simulation for distance buckets\n",
    "We setup a simulation where we can replace the threshold value in order to be able to create scenarios for other ranges of distance.  \n",
    "We name this base scenario \"1km\"."
   ]
  },
  {
   "cell_type": "code",
   "execution_count": 24,
   "metadata": {},
   "outputs": [],
   "source": [
    "simulation = price_index_cube.setup_simulation(\n",
    "    \"Distance Simulation\", base_scenario=\"01 km\", replace=[m[\"Distance Threshold\"]]\n",
    ")\n",
    "\n",
    "lvl[\"Distance Simulation\"].comparator = tt.comparator.ASC"
   ]
  },
  {
   "cell_type": "markdown",
   "metadata": {},
   "source": [
    "We can now easily obtain the number of competitors per area simply by creating a scenario for each distance radius.  \n",
    "With this, we can easily create new distance buckets to generate different datasets for the machine learning."
   ]
  },
  {
   "cell_type": "code",
   "execution_count": 25,
   "metadata": {},
   "outputs": [],
   "source": [
    "simulation.scenarios[\"05 km\"] = 5\n",
    "simulation.scenarios[\"10 km\"] = 10\n",
    "simulation.scenarios[\"15 km\"] = 15\n",
    "simulation.scenarios[\"20 km\"] = 20"
   ]
  },
  {
   "cell_type": "markdown",
   "metadata": {},
   "source": [
    "Let's do a quick data-viz to see how the number of competitors varies by the distance."
   ]
  },
  {
   "cell_type": "code",
   "execution_count": 27,
   "metadata": {
    "atoti": {
     "state": {
      "name": "Nr of competitors by distance bucket",
      "type": "container",
      "value": {
       "body": {
        "configuration": {
         "mapping": {
          "horizontalSubplots": [],
          "stackBy": [
           "[Measure Simulations].[Distance Simulation].[Distance Simulation]"
          ],
          "values": [
           "[Measures].[Count within distance threshold]"
          ],
          "verticalSubplots": [],
          "xAxis": [
           "[Hierarchies].[ShopName].[ShopName]"
          ]
         },
         "plotly": {
          "layout": {
           "xaxis": {
            "tickangle": "45"
           }
          }
         },
         "subplotModeEnabled": false,
         "switchedTo": "plotly-clustered-column-chart",
         "type": "plotly-stacked-column-chart"
        },
        "query": {
         "mdx": "SELECT NON EMPTY Crossjoin([Hierarchies].[ShopName].[ShopName].Members, [Measure Simulations].[Distance Simulation].[Distance Simulation].Members) ON ROWS, NON EMPTY [Measures].[Count within distance threshold] ON COLUMNS FROM [PriceIndexCube] CELL PROPERTIES BACK_COLOR, FONT_FLAGS, FORE_COLOR, FORMATTED_VALUE, VALUE",
         "serverUrl": "",
         "updateMode": "once"
        }
       },
       "containerKey": "chart",
       "showTitleBar": false,
       "style": {}
      }
     }
    }
   },
   "outputs": [
    {
     "data": {
      "application/vnd.atoti.v0+json": {
       "cube": "PriceIndexCube",
       "name": "Nr of competitors by distance bucket",
       "session": "Unnamed"
      },
      "text/plain": [
       "Install and enable the atoti JupyterLab extension to see this widget."
      ]
     },
     "metadata": {},
     "output_type": "display_data"
    }
   ],
   "source": [
    "price_index_cube.visualize(\"Nr of competitors by distance bucket\")"
   ]
  },
  {
   "cell_type": "code",
   "execution_count": 28,
   "metadata": {},
   "outputs": [],
   "source": [
    "m[\"CompetitorPrice.MEAN\"] =  tt.agg.mean(\n",
    "    tt.where(m[\"Competitor distance KM.VALUE\"] < m[\"Distance Threshold\"], m[\"CompetitorPrice.VALUE\"], None)\n",
    ")"
   ]
  },
  {
   "cell_type": "code",
   "execution_count": 30,
   "metadata": {
    "atoti": {
     "state": {
      "name": "",
      "type": "container",
      "value": {
       "body": {
        "configuration": {
         "tabular": {
          "addButtonFilter": "numeric",
          "cellRenderers": [
           "tree-layout"
          ],
          "columns": [
           {
            "key": "c-treeCells-member",
            "width": 83
           }
          ],
          "columnsGroups": [
           {
            "captionProducer": "firstColumn",
            "cellFactory": "kpi-status",
            "selector": "kpi-status"
           },
           {
            "captionProducer": "firstColumn",
            "cellFactory": "lookup",
            "selector": "lookup"
           },
           {
            "captionProducer": "expiry",
            "cellFactory": "expiry",
            "selector": "kpi-expiry"
           },
           {
            "captionProducer": "columnMerge",
            "cellFactory": {
             "args": {},
             "key": "treeCells"
            },
            "selector": "member"
           }
          ],
          "defaultOptions": {},
          "expansion": {
           "automaticExpansion": true
          },
          "hideAddButton": true,
          "pinnedHeaderSelector": "member",
          "sortingMode": "non-breaking",
          "statisticsShown": true
         }
        },
        "contextValues": {},
        "mdx": "SELECT NON EMPTY [Hierarchies].[ShopId].[ShopId].Members ON ROWS, NON EMPTY Crossjoin(Hierarchize([Measure Simulations].[Distance Simulation].[Distance Simulation].Members), [Measures].[Price Index]) ON COLUMNS FROM [PriceIndexCube] CELL PROPERTIES VALUE, FORMATTED_VALUE, BACK_COLOR, FORE_COLOR, FONT_FLAGS",
        "ranges": {
         "column": {
          "chunkSize": 50,
          "thresholdPercentage": 0.2
         },
         "row": {
          "chunkSize": 2000,
          "thresholdPercentage": 0.1
         }
        },
        "serverUrl": "",
        "updateMode": "once"
       },
       "containerKey": "pivot-table",
       "showTitleBar": false,
       "style": {}
      }
     }
    }
   },
   "outputs": [
    {
     "data": {
      "application/vnd.atoti.v0+json": {
       "cube": "PriceIndexCube",
       "name": null,
       "session": "Unnamed"
      },
      "text/plain": [
       "Install and enable the atoti JupyterLab extension to see this widget."
      ]
     },
     "metadata": {},
     "output_type": "display_data"
    }
   ],
   "source": [
    "price_index_cube.visualize()"
   ]
  },
  {
   "cell_type": "markdown",
   "metadata": {},
   "source": [
    "How do we systematically make use of this information?   \n",
    "Let's use the _Competitors count within radius_ for each distance bucket and _PriceIndex_ computed above - to train a model and clusterize the stores.  \n",
    "We can extract these data from atoti as shown in the function below:"
   ]
  },
  {
   "cell_type": "code",
   "execution_count": 31,
   "metadata": {},
   "outputs": [],
   "source": [
    "def get_features():\n",
    "    # output dataframe for competitors count per shop & area (distance radius) from cube querying\n",
    "    shops_competitors_count_per_shop_area = price_index_cube.query(\n",
    "        m[\"Count within distance threshold\"],\n",
    "        levels=[lvl[\"ShopId\"], lvl[\"Distance Simulation\"]],\n",
    "    ).reset_index()\n",
    "\n",
    "    # pivot the table such that each scenario becomes a column\n",
    "    shops_competitors_count_per_shop_area = shops_competitors_count_per_shop_area.pivot(\n",
    "        index=\"ShopId\",\n",
    "        columns=\"Distance Simulation\",\n",
    "        values=\"Count within distance threshold\",\n",
    "    )\n",
    "\n",
    "    # output dataframe for price index by shop from cube querying\n",
    "    price_index_per_shop_area = price_index_cube.query(\n",
    "        m[\"Price Index\"], levels=[lvl[\"ShopId\"], lvl[\"Distance Simulation\"]]\n",
    "    ).reset_index()\n",
    "\n",
    "    \n",
    "    # pivot the table such that each scenario becomes a column\n",
    "    price_index_per_shop_area = price_index_per_shop_area.pivot(\n",
    "        index=\"ShopId\",\n",
    "        columns=\"Distance Simulation\",\n",
    "        values=\"Price Index\",\n",
    "    )\n",
    "    \n",
    "    # merge the 2 dataframe and return the output\n",
    "    shops_features = pd.merge(\n",
    "        shops_competitors_count_per_shop_area,\n",
    "        price_index_per_shop_area,\n",
    "        left_on=\"ShopId\",\n",
    "        right_on=\"ShopId\",\n",
    "        how=\"left\",\n",
    "    ).fillna(1)\n",
    "\n",
    "    return shops_features"
   ]
  },
  {
   "cell_type": "markdown",
   "metadata": {},
   "source": [
    "## 3. Machine Learning - Shops clustering using price index and competitors number features\n",
    "We can use a machine algorithm such as k-means to make clusters with the features (01km, 05km, 10km, 15km, 20km, Price Index) that we obtained from the cube:"
   ]
  },
  {
   "cell_type": "code",
   "execution_count": 32,
   "metadata": {},
   "outputs": [
    {
     "data": {
      "text/html": [
       "<div>\n",
       "<style scoped>\n",
       "    .dataframe tbody tr th:only-of-type {\n",
       "        vertical-align: middle;\n",
       "    }\n",
       "\n",
       "    .dataframe tbody tr th {\n",
       "        vertical-align: top;\n",
       "    }\n",
       "\n",
       "    .dataframe thead th {\n",
       "        text-align: right;\n",
       "    }\n",
       "</style>\n",
       "<table border=\"1\" class=\"dataframe\">\n",
       "  <thead>\n",
       "    <tr style=\"text-align: right;\">\n",
       "      <th>Distance Simulation</th>\n",
       "      <th>01 km_x</th>\n",
       "      <th>05 km_x</th>\n",
       "      <th>10 km_x</th>\n",
       "      <th>15 km_x</th>\n",
       "      <th>20 km_x</th>\n",
       "      <th>01 km_y</th>\n",
       "      <th>05 km_y</th>\n",
       "      <th>10 km_y</th>\n",
       "      <th>15 km_y</th>\n",
       "      <th>20 km_y</th>\n",
       "    </tr>\n",
       "    <tr>\n",
       "      <th>ShopId</th>\n",
       "      <th></th>\n",
       "      <th></th>\n",
       "      <th></th>\n",
       "      <th></th>\n",
       "      <th></th>\n",
       "      <th></th>\n",
       "      <th></th>\n",
       "      <th></th>\n",
       "      <th></th>\n",
       "      <th></th>\n",
       "    </tr>\n",
       "  </thead>\n",
       "  <tbody>\n",
       "    <tr>\n",
       "      <th>1</th>\n",
       "      <td>11</td>\n",
       "      <td>51</td>\n",
       "      <td>66</td>\n",
       "      <td>71</td>\n",
       "      <td>71</td>\n",
       "      <td>0.971768</td>\n",
       "      <td>0.967427</td>\n",
       "      <td>0.979813</td>\n",
       "      <td>0.984359</td>\n",
       "      <td>0.984359</td>\n",
       "    </tr>\n",
       "    <tr>\n",
       "      <th>10</th>\n",
       "      <td>5</td>\n",
       "      <td>46</td>\n",
       "      <td>71</td>\n",
       "      <td>71</td>\n",
       "      <td>71</td>\n",
       "      <td>1.047618</td>\n",
       "      <td>0.998357</td>\n",
       "      <td>1.016020</td>\n",
       "      <td>1.016020</td>\n",
       "      <td>1.016020</td>\n",
       "    </tr>\n",
       "    <tr>\n",
       "      <th>11</th>\n",
       "      <td>3</td>\n",
       "      <td>3</td>\n",
       "      <td>3</td>\n",
       "      <td>3</td>\n",
       "      <td>3</td>\n",
       "      <td>0.931146</td>\n",
       "      <td>0.931146</td>\n",
       "      <td>0.931146</td>\n",
       "      <td>0.931146</td>\n",
       "      <td>0.931146</td>\n",
       "    </tr>\n",
       "    <tr>\n",
       "      <th>12</th>\n",
       "      <td>3</td>\n",
       "      <td>3</td>\n",
       "      <td>3</td>\n",
       "      <td>3</td>\n",
       "      <td>3</td>\n",
       "      <td>0.974644</td>\n",
       "      <td>0.974644</td>\n",
       "      <td>0.974644</td>\n",
       "      <td>0.974644</td>\n",
       "      <td>0.974644</td>\n",
       "    </tr>\n",
       "    <tr>\n",
       "      <th>13</th>\n",
       "      <td>2</td>\n",
       "      <td>2</td>\n",
       "      <td>2</td>\n",
       "      <td>2</td>\n",
       "      <td>2</td>\n",
       "      <td>1.094972</td>\n",
       "      <td>1.094972</td>\n",
       "      <td>1.094972</td>\n",
       "      <td>1.094972</td>\n",
       "      <td>1.094972</td>\n",
       "    </tr>\n",
       "    <tr>\n",
       "      <th>14</th>\n",
       "      <td>1</td>\n",
       "      <td>1</td>\n",
       "      <td>1</td>\n",
       "      <td>1</td>\n",
       "      <td>1</td>\n",
       "      <td>0.936847</td>\n",
       "      <td>0.936847</td>\n",
       "      <td>0.936847</td>\n",
       "      <td>0.936847</td>\n",
       "      <td>0.936847</td>\n",
       "    </tr>\n",
       "    <tr>\n",
       "      <th>15</th>\n",
       "      <td>1</td>\n",
       "      <td>1</td>\n",
       "      <td>1</td>\n",
       "      <td>1</td>\n",
       "      <td>1</td>\n",
       "      <td>0.974269</td>\n",
       "      <td>0.974269</td>\n",
       "      <td>0.974269</td>\n",
       "      <td>0.974269</td>\n",
       "      <td>0.974269</td>\n",
       "    </tr>\n",
       "    <tr>\n",
       "      <th>16</th>\n",
       "      <td>4</td>\n",
       "      <td>4</td>\n",
       "      <td>4</td>\n",
       "      <td>4</td>\n",
       "      <td>4</td>\n",
       "      <td>0.971294</td>\n",
       "      <td>0.971294</td>\n",
       "      <td>0.971294</td>\n",
       "      <td>0.971294</td>\n",
       "      <td>0.971294</td>\n",
       "    </tr>\n",
       "    <tr>\n",
       "      <th>17</th>\n",
       "      <td>1</td>\n",
       "      <td>1</td>\n",
       "      <td>1</td>\n",
       "      <td>1</td>\n",
       "      <td>1</td>\n",
       "      <td>1.001366</td>\n",
       "      <td>1.001366</td>\n",
       "      <td>1.001366</td>\n",
       "      <td>1.001366</td>\n",
       "      <td>1.001366</td>\n",
       "    </tr>\n",
       "    <tr>\n",
       "      <th>18</th>\n",
       "      <td>2</td>\n",
       "      <td>2</td>\n",
       "      <td>2</td>\n",
       "      <td>2</td>\n",
       "      <td>2</td>\n",
       "      <td>0.934916</td>\n",
       "      <td>0.934916</td>\n",
       "      <td>0.934916</td>\n",
       "      <td>0.934916</td>\n",
       "      <td>0.934916</td>\n",
       "    </tr>\n",
       "    <tr>\n",
       "      <th>19</th>\n",
       "      <td>4</td>\n",
       "      <td>4</td>\n",
       "      <td>4</td>\n",
       "      <td>12</td>\n",
       "      <td>12</td>\n",
       "      <td>0.995392</td>\n",
       "      <td>0.995392</td>\n",
       "      <td>0.995392</td>\n",
       "      <td>1.049405</td>\n",
       "      <td>1.049405</td>\n",
       "    </tr>\n",
       "    <tr>\n",
       "      <th>2</th>\n",
       "      <td>5</td>\n",
       "      <td>46</td>\n",
       "      <td>61</td>\n",
       "      <td>71</td>\n",
       "      <td>71</td>\n",
       "      <td>1.019849</td>\n",
       "      <td>1.028944</td>\n",
       "      <td>1.033745</td>\n",
       "      <td>1.040784</td>\n",
       "      <td>1.040784</td>\n",
       "    </tr>\n",
       "    <tr>\n",
       "      <th>20</th>\n",
       "      <td>0</td>\n",
       "      <td>0</td>\n",
       "      <td>0</td>\n",
       "      <td>0</td>\n",
       "      <td>0</td>\n",
       "      <td>1.000000</td>\n",
       "      <td>1.000000</td>\n",
       "      <td>1.000000</td>\n",
       "      <td>1.000000</td>\n",
       "      <td>1.000000</td>\n",
       "    </tr>\n",
       "    <tr>\n",
       "      <th>21</th>\n",
       "      <td>2</td>\n",
       "      <td>2</td>\n",
       "      <td>2</td>\n",
       "      <td>2</td>\n",
       "      <td>2</td>\n",
       "      <td>0.967451</td>\n",
       "      <td>0.967451</td>\n",
       "      <td>0.967451</td>\n",
       "      <td>0.967451</td>\n",
       "      <td>0.967451</td>\n",
       "    </tr>\n",
       "    <tr>\n",
       "      <th>22</th>\n",
       "      <td>0</td>\n",
       "      <td>0</td>\n",
       "      <td>0</td>\n",
       "      <td>0</td>\n",
       "      <td>0</td>\n",
       "      <td>1.000000</td>\n",
       "      <td>1.000000</td>\n",
       "      <td>1.000000</td>\n",
       "      <td>1.000000</td>\n",
       "      <td>1.000000</td>\n",
       "    </tr>\n",
       "  </tbody>\n",
       "</table>\n",
       "</div>"
      ],
      "text/plain": [
       "Distance Simulation  01 km_x  05 km_x  10 km_x  15 km_x  20 km_x   01 km_y  \\\n",
       "ShopId                                                                       \n",
       "1                         11       51       66       71       71  0.971768   \n",
       "10                         5       46       71       71       71  1.047618   \n",
       "11                         3        3        3        3        3  0.931146   \n",
       "12                         3        3        3        3        3  0.974644   \n",
       "13                         2        2        2        2        2  1.094972   \n",
       "14                         1        1        1        1        1  0.936847   \n",
       "15                         1        1        1        1        1  0.974269   \n",
       "16                         4        4        4        4        4  0.971294   \n",
       "17                         1        1        1        1        1  1.001366   \n",
       "18                         2        2        2        2        2  0.934916   \n",
       "19                         4        4        4       12       12  0.995392   \n",
       "2                          5       46       61       71       71  1.019849   \n",
       "20                         0        0        0        0        0  1.000000   \n",
       "21                         2        2        2        2        2  0.967451   \n",
       "22                         0        0        0        0        0  1.000000   \n",
       "\n",
       "Distance Simulation   05 km_y   10 km_y   15 km_y   20 km_y  \n",
       "ShopId                                                       \n",
       "1                    0.967427  0.979813  0.984359  0.984359  \n",
       "10                   0.998357  1.016020  1.016020  1.016020  \n",
       "11                   0.931146  0.931146  0.931146  0.931146  \n",
       "12                   0.974644  0.974644  0.974644  0.974644  \n",
       "13                   1.094972  1.094972  1.094972  1.094972  \n",
       "14                   0.936847  0.936847  0.936847  0.936847  \n",
       "15                   0.974269  0.974269  0.974269  0.974269  \n",
       "16                   0.971294  0.971294  0.971294  0.971294  \n",
       "17                   1.001366  1.001366  1.001366  1.001366  \n",
       "18                   0.934916  0.934916  0.934916  0.934916  \n",
       "19                   0.995392  0.995392  1.049405  1.049405  \n",
       "2                    1.028944  1.033745  1.040784  1.040784  \n",
       "20                   1.000000  1.000000  1.000000  1.000000  \n",
       "21                   0.967451  0.967451  0.967451  0.967451  \n",
       "22                   1.000000  1.000000  1.000000  1.000000  "
      ]
     },
     "execution_count": 32,
     "metadata": {},
     "output_type": "execute_result"
    }
   ],
   "source": [
    "shops_features = get_features()\n",
    "shops_features.head(15)"
   ]
  },
  {
   "cell_type": "code",
   "execution_count": 33,
   "metadata": {},
   "outputs": [],
   "source": [
    "%matplotlib inline\n",
    "import matplotlib.pyplot as plt\n",
    "import numpy as np\n",
    "import pandas as pd\n",
    "import scipy as sc\n",
    "import seaborn as sns\n",
    "from sklearn.cluster import KMeans, MiniBatchKMeans\n",
    "from sklearn.metrics import pairwise_distances_argmin\n",
    "\n",
    "sns.set()  # for plot styling"
   ]
  },
  {
   "cell_type": "markdown",
   "metadata": {},
   "source": [
    "Let's set the number of clusters needed as 5. The number of clusters can increase if the number of shops is huge.  \n",
    "We apply the k-mean on the _shops\\_feature_ from above."
   ]
  },
  {
   "cell_type": "code",
   "execution_count": 34,
   "metadata": {},
   "outputs": [],
   "source": [
    "number_of_clusters = 5\n",
    "kmeans = MiniBatchKMeans(number_of_clusters)\n",
    "kmeans.fit(shops_features)\n",
    "new_colors = kmeans.cluster_centers_[kmeans.predict(shops_features)]\n",
    "k_means_labels = pairwise_distances_argmin(shops_features, kmeans.cluster_centers_)\n",
    "labels = KMeans(number_of_clusters, random_state=0).fit_predict(shops_features)"
   ]
  },
  {
   "cell_type": "markdown",
   "metadata": {},
   "source": [
    "Using competitors within 1km as an example, we can now analyze the result of the clustering by pair of features using matplotlib as shown below:"
   ]
  },
  {
   "cell_type": "code",
   "execution_count": 35,
   "metadata": {},
   "outputs": [
    {
     "data": {
      "text/plain": [
       "Text(0, 0.5, 'Price Index')"
      ]
     },
     "execution_count": 35,
     "metadata": {},
     "output_type": "execute_result"
    },
    {
     "data": {
      "image/png": "[encoded data removed]",
      "text/plain": [
       "<Figure size 432x288 with 1 Axes>"
      ]
     },
     "metadata": {},
     "output_type": "display_data"
    }
   ],
   "source": [
    "plt.scatter(\n",
    "    shops_features.loc[:, \"01 km_x\"],\n",
    "    shops_features.loc[:, \"01 km_y\"],\n",
    "    c=k_means_labels,\n",
    "    s=50,\n",
    "    cmap=\"viridis\",\n",
    ")\n",
    "\n",
    "plt.xlabel(\"Nr Competitors within 1km\")\n",
    "plt.ylabel(\"Price Index\")"
   ]
  },
  {
   "cell_type": "markdown",
   "metadata": {},
   "source": [
    "In the above plot, each color represents a cluster. We can see that clusters seem to be strongly based on the number of competitors rather than on the price index.  \n",
    "However, to avoid having to plot every couple of features and understand more quickly what our clusters are, we will use seaborn to have a plot of the clustering result for every pair of features."
   ]
  },
  {
   "cell_type": "code",
   "execution_count": 36,
   "metadata": {},
   "outputs": [
    {
     "data": {
      "text/html": [
       "<div>\n",
       "<style scoped>\n",
       "    .dataframe tbody tr th:only-of-type {\n",
       "        vertical-align: middle;\n",
       "    }\n",
       "\n",
       "    .dataframe tbody tr th {\n",
       "        vertical-align: top;\n",
       "    }\n",
       "\n",
       "    .dataframe thead th {\n",
       "        text-align: right;\n",
       "    }\n",
       "</style>\n",
       "<table border=\"1\" class=\"dataframe\">\n",
       "  <thead>\n",
       "    <tr style=\"text-align: right;\">\n",
       "      <th>Distance Simulation</th>\n",
       "      <th>01 km_x</th>\n",
       "      <th>05 km_x</th>\n",
       "      <th>10 km_x</th>\n",
       "      <th>15 km_x</th>\n",
       "      <th>20 km_x</th>\n",
       "      <th>01 km_y</th>\n",
       "      <th>05 km_y</th>\n",
       "      <th>10 km_y</th>\n",
       "      <th>15 km_y</th>\n",
       "      <th>20 km_y</th>\n",
       "      <th>Cluster</th>\n",
       "    </tr>\n",
       "    <tr>\n",
       "      <th>ShopId</th>\n",
       "      <th></th>\n",
       "      <th></th>\n",
       "      <th></th>\n",
       "      <th></th>\n",
       "      <th></th>\n",
       "      <th></th>\n",
       "      <th></th>\n",
       "      <th></th>\n",
       "      <th></th>\n",
       "      <th></th>\n",
       "      <th></th>\n",
       "    </tr>\n",
       "  </thead>\n",
       "  <tbody>\n",
       "    <tr>\n",
       "      <th>1</th>\n",
       "      <td>11</td>\n",
       "      <td>51</td>\n",
       "      <td>66</td>\n",
       "      <td>71</td>\n",
       "      <td>71</td>\n",
       "      <td>0.971768</td>\n",
       "      <td>0.967427</td>\n",
       "      <td>0.979813</td>\n",
       "      <td>0.984359</td>\n",
       "      <td>0.984359</td>\n",
       "      <td>1</td>\n",
       "    </tr>\n",
       "    <tr>\n",
       "      <th>10</th>\n",
       "      <td>5</td>\n",
       "      <td>46</td>\n",
       "      <td>71</td>\n",
       "      <td>71</td>\n",
       "      <td>71</td>\n",
       "      <td>1.047618</td>\n",
       "      <td>0.998357</td>\n",
       "      <td>1.016020</td>\n",
       "      <td>1.016020</td>\n",
       "      <td>1.016020</td>\n",
       "      <td>1</td>\n",
       "    </tr>\n",
       "    <tr>\n",
       "      <th>11</th>\n",
       "      <td>3</td>\n",
       "      <td>3</td>\n",
       "      <td>3</td>\n",
       "      <td>3</td>\n",
       "      <td>3</td>\n",
       "      <td>0.931146</td>\n",
       "      <td>0.931146</td>\n",
       "      <td>0.931146</td>\n",
       "      <td>0.931146</td>\n",
       "      <td>0.931146</td>\n",
       "      <td>0</td>\n",
       "    </tr>\n",
       "    <tr>\n",
       "      <th>12</th>\n",
       "      <td>3</td>\n",
       "      <td>3</td>\n",
       "      <td>3</td>\n",
       "      <td>3</td>\n",
       "      <td>3</td>\n",
       "      <td>0.974644</td>\n",
       "      <td>0.974644</td>\n",
       "      <td>0.974644</td>\n",
       "      <td>0.974644</td>\n",
       "      <td>0.974644</td>\n",
       "      <td>0</td>\n",
       "    </tr>\n",
       "    <tr>\n",
       "      <th>13</th>\n",
       "      <td>2</td>\n",
       "      <td>2</td>\n",
       "      <td>2</td>\n",
       "      <td>2</td>\n",
       "      <td>2</td>\n",
       "      <td>1.094972</td>\n",
       "      <td>1.094972</td>\n",
       "      <td>1.094972</td>\n",
       "      <td>1.094972</td>\n",
       "      <td>1.094972</td>\n",
       "      <td>0</td>\n",
       "    </tr>\n",
       "  </tbody>\n",
       "</table>\n",
       "</div>"
      ],
      "text/plain": [
       "Distance Simulation  01 km_x  05 km_x  10 km_x  15 km_x  20 km_x   01 km_y  \\\n",
       "ShopId                                                                       \n",
       "1                         11       51       66       71       71  0.971768   \n",
       "10                         5       46       71       71       71  1.047618   \n",
       "11                         3        3        3        3        3  0.931146   \n",
       "12                         3        3        3        3        3  0.974644   \n",
       "13                         2        2        2        2        2  1.094972   \n",
       "\n",
       "Distance Simulation   05 km_y   10 km_y   15 km_y   20 km_y  Cluster  \n",
       "ShopId                                                                \n",
       "1                    0.967427  0.979813  0.984359  0.984359        1  \n",
       "10                   0.998357  1.016020  1.016020  1.016020        1  \n",
       "11                   0.931146  0.931146  0.931146  0.931146        0  \n",
       "12                   0.974644  0.974644  0.974644  0.974644        0  \n",
       "13                   1.094972  1.094972  1.094972  1.094972        0  "
      ]
     },
     "execution_count": 36,
     "metadata": {},
     "output_type": "execute_result"
    }
   ],
   "source": [
    "shops_features[\"Cluster\"] = labels\n",
    "shops_features.head(5)"
   ]
  },
  {
   "cell_type": "code",
   "execution_count": 37,
   "metadata": {},
   "outputs": [
    {
     "data": {
      "text/plain": [
       "<seaborn.axisgrid.PairGrid at 0x7f4d26597510>"
      ]
     },
     "execution_count": 37,
     "metadata": {},
     "output_type": "execute_result"
    },
    {
     "data": {
      "image/png": "[encoded data removed]",
      "text/plain": [
       "<Figure size 1851.68x1800 with 110 Axes>"
      ]
     },
     "metadata": {},
     "output_type": "display_data"
    }
   ],
   "source": [
    "sns.pairplot(data=shops_features, hue=\"Cluster\")"
   ]
  },
  {
   "cell_type": "markdown",
   "metadata": {},
   "source": [
    "We can have a better understanding of the clusters with the chart above.  \n",
    "The stores in cluster 1 have a much higher number of competitors (>50) in a 10km radius, compared to those of cluster 0 having less than 20 competitors in the same radius.  \n",
    "While cluster 1 has more competitors, its price index is generally higher than cluster 0 and greater than 1.\n",
    "\n",
    "Continuing this analysis tells us that:\n",
    "- Cluster 0 is a big cluster with little competitors around.\n",
    "- Cluster 1 is slightly skewed towards a higher price index than the rest while the number of competitors are generally higher even within a 5km distance radius.\n",
    "- Cluster 2 is a small cluster and the number of competitors increases tremendously as the distance radius increases.\n",
    "- Cluster 3 has a relatively lower price index even though some of the shops has price index closer to 1. Number of competitors remains about the same across all buckets.\n",
    "- Cluster 4 is a small cluster that has a slightly lower price index and most competitors are more than 10km away.\n",
    "\n",
    "While this gives us an idea of how to position ourselves, we need to put these into context before we can decide on what pricing strategy to apply on it.  \n",
    "Let's load the new cluster back into the cube to have more in-depth analysis."
   ]
  },
  {
   "cell_type": "markdown",
   "metadata": {},
   "source": [
    "## 4. Interpreting the machine learning output with atoti\n",
    "\n",
    "Let's load the cluster results obtained from the machine learning model into the cube."
   ]
  },
  {
   "cell_type": "code",
   "execution_count": 38,
   "metadata": {},
   "outputs": [
    {
     "data": {
      "text/html": [
       "<div>\n",
       "<style scoped>\n",
       "    .dataframe tbody tr th:only-of-type {\n",
       "        vertical-align: middle;\n",
       "    }\n",
       "\n",
       "    .dataframe tbody tr th {\n",
       "        vertical-align: top;\n",
       "    }\n",
       "\n",
       "    .dataframe thead th {\n",
       "        text-align: right;\n",
       "    }\n",
       "</style>\n",
       "<table border=\"1\" class=\"dataframe\">\n",
       "  <thead>\n",
       "    <tr style=\"text-align: right;\">\n",
       "      <th></th>\n",
       "      <th>Cluster</th>\n",
       "    </tr>\n",
       "    <tr>\n",
       "      <th>ShopId</th>\n",
       "      <th></th>\n",
       "    </tr>\n",
       "  </thead>\n",
       "  <tbody>\n",
       "    <tr>\n",
       "      <th>1</th>\n",
       "      <td>1</td>\n",
       "    </tr>\n",
       "    <tr>\n",
       "      <th>10</th>\n",
       "      <td>1</td>\n",
       "    </tr>\n",
       "    <tr>\n",
       "      <th>11</th>\n",
       "      <td>0</td>\n",
       "    </tr>\n",
       "    <tr>\n",
       "      <th>12</th>\n",
       "      <td>0</td>\n",
       "    </tr>\n",
       "    <tr>\n",
       "      <th>13</th>\n",
       "      <td>0</td>\n",
       "    </tr>\n",
       "  </tbody>\n",
       "</table>\n",
       "</div>"
      ],
      "text/plain": [
       "        Cluster\n",
       "ShopId         \n",
       "1             1\n",
       "10            1\n",
       "11            0\n",
       "12            0\n",
       "13            0"
      ]
     },
     "execution_count": 38,
     "metadata": {},
     "output_type": "execute_result"
    }
   ],
   "source": [
    "clusters_df = shops_features[[\"Cluster\"]].reset_index()\n",
    "clusters_df.ShopId = clusters_df.ShopId.astype(\"int32\")\n",
    "clusters = session.read_pandas(clusters_df, keys=[\"ShopId\"], store_name=\"Clusters\")\n",
    "\n",
    "clusters.head(5)"
   ]
  },
  {
   "cell_type": "code",
   "execution_count": 39,
   "metadata": {},
   "outputs": [],
   "source": [
    "shops.join(clusters)"
   ]
  },
  {
   "cell_type": "markdown",
   "metadata": {},
   "source": [
    "Let's see the spread of the clusters on the map."
   ]
  },
  {
   "cell_type": "code",
   "execution_count": 41,
   "metadata": {
    "atoti": {
     "height": 575,
     "state": {
      "name": "Spread of clusters on map",
      "type": "container",
      "value": {
       "body": {
        "configuration": {
         "mapping": {
          "cardinality": {
           "from": [
            "[Hierarchies].[ShopName].[ShopName]"
           ]
          },
          "lat": {
           "from": "[Measures].[Latitude.VALUE]"
          },
          "long": {
           "from": "[Measures].[Longitude.VALUE]"
          },
          "pointColor": {
           "from": [
            "[Hierarchies].[Cluster].[Cluster]"
           ]
          },
          "pointStrokeColor": {
           "value": "rgb(153, 153, 153)"
          },
          "pointStrokeWidth": {
           "value": 1
          },
          "r": {
           "from": "[Measures].[Count within distance threshold]"
          }
         },
         "type": "pointMap"
        },
        "isConnected": true,
        "query": {
         "mdx": "SELECT {[Measures].[Longitude.VALUE], [Measures].[Latitude.VALUE], [Measures].[Count within distance threshold]} ON COLUMNS, NON EMPTY Crossjoin([Hierarchies].[ShopName].[ShopName].Members, [Hierarchies].[Cluster].[Cluster].Members) ON ROWS FROM [PriceIndexCube] WHERE [Measure Simulations].[Distance Simulation].[Distance Simulation].[05 km] CELL PROPERTIES VALUE, FORMATTED_VALUE, BACK_COLOR, FORE_COLOR, FONT_FLAGS",
         "serverUrl": "",
         "updateMode": "once"
        }
       },
       "containerKey": "chart",
       "showTitleBar": false,
       "style": {}
      }
     }
    }
   },
   "outputs": [
    {
     "data": {
      "application/vnd.atoti.v0+json": {
       "cube": "PriceIndexCube",
       "name": "Spread of clusters on map",
       "session": "Unnamed"
      },
      "text/plain": [
       "Install and enable the atoti JupyterLab extension to see this widget."
      ]
     },
     "metadata": {},
     "output_type": "display_data"
    }
   ],
   "source": [
    "price_index_cube.visualize(\"Spread of clusters on map\")"
   ]
  },
  {
   "cell_type": "markdown",
   "metadata": {},
   "source": [
    "Interestingly, cluster 0 is distributed all over France except Paris, and mostly they are the only shop in the neighbourhood that is under our retailer.   \n",
    "Cluster 3 is a small cluster around Lille, the capital of the Hauts-de-France region in northern France.  \n",
    "The rest of the clusters have shops under our retailer in close proximity, and most of them spread around Paris.\n",
    "The size of the points on the map reflects the number of competitors within 5km - we can see the competition around the city is the highest, specifically for cluster 1 (red).\n",
    "\n",
    "In the case of cluster 0, the shop is the only one under the retailer in the neighbourhood. The number of competitors is low, hence the price index is less affected by competition.  \n",
    "Rather, other factors such as variety of products, branding etc could take on a heavier factor on the price index - these are to be considered when applying a pricing strategy for this cluster. Generally, the price index could be higher.  \n",
    "\n",
    "For the rest of the clusters, there are a few considerations. Within the same proximity, the shops face the same competitors.  \n",
    "Not only that, consumers can easily detect the price differences of products between the shops of the same retailer if they are close to one another.  \n",
    "Hence it makes more sense to align their price index and it should be slightly lower to push up its competitiveness."
   ]
  },
  {
   "cell_type": "markdown",
   "metadata": {},
   "source": [
    "## 5. Pricing simulations around clusters\n",
    "\n",
    "We will now generate new prices using the clustering information in order to take into account the different competitiveness constraints of the shops.  "
   ]
  },
  {
   "cell_type": "markdown",
   "metadata": {},
   "source": [
    "Using the clusters generated, the below pricing method tries to reduce the prices if the competitiveness is strong, and on the contrary increase it if there is few competition.  \n",
    "For instance, cluster 0 and cluster 4 has little competition, hence their price index could be slightly higher than 1.  \n",
    "The rest of the clusters have more competitors within 10km radius, hence could have their price index at 1 or slightly lower to maintain their competitivity.  "
   ]
  },
  {
   "cell_type": "code",
   "execution_count": 42,
   "metadata": {},
   "outputs": [],
   "source": [
    "from utils import pricer\n",
    "\n",
    "selling_prices_based_on_clusters = pricer.optimize_prices(product_sales_df, clusters_df)"
   ]
  },
  {
   "cell_type": "markdown",
   "metadata": {},
   "source": [
    "Thanks to atoti built-in simulations capabilities, we can easily create a new scenario for the new pricing by directly loading the price-optimised dataframe.  \n",
    "All the previously defined KPIs, e.g. the price index, will be re-computed on the fly, enabling us to compare the scenarios and their benefits."
   ]
  },
  {
   "cell_type": "code",
   "execution_count": 43,
   "metadata": {},
   "outputs": [],
   "source": [
    "productSales.scenarios[\"Selling prices based on clusters\"].load_pandas(\n",
    "    selling_prices_based_on_clusters\n",
    ")"
   ]
  },
  {
   "cell_type": "markdown",
   "metadata": {},
   "source": [
    "Thanks to atoti built-in simulations capabilities, we can easily create a new scenario for the new pricing by directly loading the price-optimised dataframe.  \n",
    "All the previously defined KPIs, e.g. the price index and margin, will be re-computed on the fly, enabling us to compare the scenarios and their benefits.  \n",
    "\n",
    "Although it may seem like we are earning less margin for cluster 1 after price optimisation, we should have an increase in quantity sold if the strategy works well.  \n",
    "Not only has the overall margin increased for the other clusters, increase in sales for cluster 1 should also contribute to the increase subsequently."
   ]
  },
  {
   "cell_type": "code",
   "execution_count": 45,
   "metadata": {
    "atoti": {
     "height": 500,
     "state": {
      "name": "",
      "type": "container",
      "value": {
       "body": {
        "configuration": {
         "tabular": {
          "addButtonFilter": "numeric",
          "cellRenderers": [
           "tree-layout"
          ],
          "columnOrder": {
           "args": {
            "orderedColumns": [
             "c-treeCells-member",
             "([Measures].[Price Index (1)],[Epoch].[Epoch].[Branch].[Base])",
             "([Measures].[Price Index (1)],[Epoch].[Epoch].[Branch].[Selling prices based on clusters])",
             "([Measures].[Price Index (1)],[Epoch].[Epoch].[Branch].[Difference])"
            ]
           },
           "key": "explicit"
          },
          "columns": [
           {
            "key": "([Measures].[Price Index],[Epoch].[Epoch].[Branch].[Base])",
            "width": 168
           },
           {
            "key": "([Measures].[Price Index],[Epoch].[Epoch].[Branch].[Selling Price Clustering 1])",
            "width": 195
           },
           {
            "key": "([Measures].[Price Index],[Epoch].[Epoch].[Branch].[Difference])",
            "width": 127
           },
           {
            "key": "([Measures].[Price Index (1)],[Epoch].[Epoch].[Branch].[Selling Price Clustering 1])",
            "width": 195
           },
           {
            "key": "([Measures].[Price Index (1)],[Epoch].[Epoch].[Branch].[Selling prices based on clusters])",
            "width": 210
           },
           {
            "key": "([Measures].[Price Index (1)],[Epoch].[Epoch].[Branch].[Base])",
            "width": 95
           },
           {
            "key": "([Measures].[Margin.SUM],[Epoch].[Epoch].[Branch].[Selling prices based on clusters])",
            "width": 210
           }
          ],
          "columnsGroups": [
           {
            "captionProducer": "firstColumn",
            "cellFactory": "kpi-status",
            "selector": "kpi-status"
           },
           {
            "captionProducer": "firstColumn",
            "cellFactory": "lookup",
            "selector": "lookup"
           },
           {
            "captionProducer": "expiry",
            "cellFactory": "expiry",
            "selector": "kpi-expiry"
           },
           {
            "captionProducer": "columnMerge",
            "cellFactory": {
             "args": {},
             "key": "treeCells"
            },
            "selector": "member"
           }
          ],
          "defaultOptions": {},
          "expansion": {
           "automaticExpansion": true
          },
          "hideAddButton": true,
          "pinnedHeaderSelector": "member",
          "sortingMode": "non-breaking",
          "statisticsShown": true
         }
        },
        "contextValues": {
         "PriceIndexCube": {}
        },
        "mdx": "WITH  Member [Epoch].[Epoch].[Difference] AS [Epoch].[Epoch].[Selling prices based on clusters] - [Epoch].[Epoch].[Base], CAPTION = \"Difference\"    Member [Measures].[Price Index (1)] AS [Measures].[Price Index], CAPTION = [Measures].[Price Index].MEMBER_CAPTION, FORE_COLOR = CASE WHEN [Measures].[Price Index (1)] < 0 THEN rgb(255, 0, 0) END, FORMAT_STRING = \"#,###.000\"  SELECT NON EMPTY Crossjoin({[Measures].[Price Index (1)], [Measures].[Margin.SUM]}, Union([Epoch].[Epoch].[Branch].Members, [Epoch].[Epoch].[Difference])) ON COLUMNS, NON EMPTY Except(Hierarchize(Crossjoin(Hierarchize(DrilldownLevel([Hierarchies].[Cluster].[ALL].[AllMember])), Hierarchize(DrilldownLevel([Hierarchies].[ShopName].[ALL].[AllMember])))), Union(Crossjoin([Hierarchies].[Cluster].[ALL].[AllMember].[0], [Hierarchies].[ShopName].[ShopName].Members), Crossjoin([Hierarchies].[Cluster].[ALL].[AllMember].[3], [Hierarchies].[ShopName].[ShopName].Members), Crossjoin([Hierarchies].[Cluster].[ALL].[AllMember].[4], [Hierarchies].[ShopName].[ShopName].Members))) ON ROWS FROM [PriceIndexCube] CELL PROPERTIES BACK_COLOR, FONT_FLAGS, FORE_COLOR, FORMATTED_VALUE, VALUE",
        "ranges": {
         "column": {
          "chunkSize": 50,
          "thresholdPercentage": 0.2
         },
         "row": {
          "chunkSize": 2000,
          "thresholdPercentage": 0.1
         }
        },
        "serverUrl": "",
        "updateMode": "once"
       },
       "containerKey": "pivot-table",
       "showTitleBar": false,
       "style": {}
      }
     }
    }
   },
   "outputs": [
    {
     "data": {
      "application/vnd.atoti.v0+json": {
       "cube": "PriceIndexCube",
       "name": null,
       "session": "Unnamed"
      },
      "text/plain": [
       "Install and enable the atoti JupyterLab extension to see this widget."
      ]
     },
     "metadata": {},
     "output_type": "display_data"
    }
   ],
   "source": [
    "price_index_cube.visualize()"
   ]
  },
  {
   "cell_type": "markdown",
   "metadata": {},
   "source": [
    "We saw the adjustment in price index at the cluster level and we could easily drill down to the shop and even product level.  \n",
    "Now, let's visualize the changes in price index for the 5 clusters."
   ]
  },
  {
   "cell_type": "code",
   "execution_count": 47,
   "metadata": {
    "atoti": {
     "height": 410,
     "state": {
      "name": "Price index optimisation difference",
      "type": "container",
      "value": {
       "body": {
        "configuration": {
         "mapping": {
          "horizontalSubplots": [],
          "splitBy": [
           "[Epoch].[Epoch].[Branch]"
          ],
          "values": [
           "[Measures].[Price Index]"
          ],
          "verticalSubplots": [],
          "xAxis": [
           "[Hierarchies].[Cluster].[Cluster]"
          ]
         },
         "plotly": {
          "layout": {
           "xaxis": {
            "tickangle": "45",
            "title": "Clusters"
           },
           "yaxis": {
            "title": "Price Index"
           }
          }
         },
         "type": "plotly-clustered-column-chart"
        },
        "query": {
         "mdx": "SELECT NON EMPTY Crossjoin([Hierarchies].[Cluster].[Cluster].Members, [Epoch].[Epoch].[Branch].Members) ON ROWS, NON EMPTY [Measures].[Price Index] ON COLUMNS FROM [PriceIndexCube] CELL PROPERTIES BACK_COLOR, FONT_FLAGS, FORE_COLOR, FORMATTED_VALUE, VALUE",
         "serverUrl": "",
         "updateMode": "once"
        }
       },
       "containerKey": "chart",
       "showTitleBar": false,
       "style": {}
      }
     }
    }
   },
   "outputs": [
    {
     "data": {
      "application/vnd.atoti.v0+json": {
       "cube": "PriceIndexCube",
       "name": "Price index optimisation difference",
       "session": "Unnamed"
      },
      "text/plain": [
       "Install and enable the atoti JupyterLab extension to see this widget."
      ]
     },
     "metadata": {},
     "output_type": "display_data"
    }
   ],
   "source": [
    "price_index_cube.visualize(\"Price index optimisation difference\")"
   ]
  },
  {
   "cell_type": "markdown",
   "metadata": {},
   "source": [
    "In order to attract more customers, we can see that the pricing method decreased the pricing for cluster 1, which faced high competitions.  \n",
    "On the contrary it increased the prices in shops belonging to low competition clusters in order to maximize margin.  \n",
    "Cluster 0, 3 and 4 for instance, have very few competitors. Hence their selling prices are adjusted higher, resulting in higher price index."
   ]
  },
  {
   "cell_type": "markdown",
   "metadata": {},
   "source": [
    "## 6. Selling price simulation by clusters and shops\n",
    "\n",
    "Zooming in on cluster 1, we see that _MyShop Paris 6_ has one of the highest competition within the cluster.  \n",
    "<img src=\"https://data.atoti.io/notebooks/geopricing/cluster1.png\" alt=\"Clustering 1\" style=\"width:600px;\"/>\n",
    "\n",
    "However, the store also has a relatively high price index within the cluster."
   ]
  },
  {
   "cell_type": "code",
   "execution_count": 49,
   "metadata": {
    "atoti": {
     "state": {
      "name": "Price index for cluster 1",
      "type": "container",
      "value": {
       "body": {
        "configuration": {
         "mapping": {
          "horizontalSubplots": [],
          "splitBy": [
           "[Epoch].[Epoch].[Branch]"
          ],
          "values": [
           "[Measures].[Price Index]"
          ],
          "verticalSubplots": [],
          "xAxis": [
           "[Hierarchies].[ShopName].[ShopName]",
           "[Hierarchies].[ShopId].[ShopId]"
          ]
         },
         "plotly": {
          "layout": {
           "xaxis": {
            "tickangle": "45"
           }
          }
         },
         "type": "plotly-clustered-column-chart"
        },
        "query": {
         "mdx": "SELECT NON EMPTY Crossjoin([Hierarchies].[ShopName].[ShopName].Members, [Hierarchies].[ShopId].[ShopId].Members, [Epoch].[Epoch].[Branch].Members) ON ROWS, NON EMPTY [Measures].[Price Index] ON COLUMNS FROM (SELECT [Hierarchies].[Cluster].[ALL].[AllMember].[1] ON COLUMNS FROM [PriceIndexCube]) CELL PROPERTIES VALUE, FORMATTED_VALUE, BACK_COLOR, FORE_COLOR, FONT_FLAGS",
         "serverUrl": "",
         "updateMode": "once"
        }
       },
       "containerKey": "chart",
       "showTitleBar": false,
       "style": {}
      }
     }
    }
   },
   "outputs": [
    {
     "data": {
      "application/vnd.atoti.v0+json": {
       "cube": "PriceIndexCube",
       "name": "Price index for cluster 1",
       "session": "Unnamed"
      },
      "text/plain": [
       "Install and enable the atoti JupyterLab extension to see this widget."
      ]
     },
     "metadata": {},
     "output_type": "display_data"
    }
   ],
   "source": [
    "price_index_cube.visualize(\"Price index for cluster 1\")"
   ]
  },
  {
   "cell_type": "markdown",
   "metadata": {},
   "source": [
    "Let's scale down the price index of the shop using atoti's measure simulation."
   ]
  },
  {
   "cell_type": "code",
   "execution_count": 50,
   "metadata": {},
   "outputs": [],
   "source": [
    "price_simulation = price_index_cube.setup_simulation(\n",
    "    \"Price simulation\",\n",
    "    base_scenario=\"Selling Price Initial\",\n",
    "    levels=[lvl[\"ShopId\"]],\n",
    "    multiply=[m[\"SellingPrice.MEAN\"]],\n",
    ")"
   ]
  },
  {
   "cell_type": "markdown",
   "metadata": {},
   "source": [
    "We are now able to scale the _Selling Price_ either across clusters or by specific shop."
   ]
  },
  {
   "cell_type": "code",
   "execution_count": 51,
   "metadata": {},
   "outputs": [],
   "source": [
    "cluster_adjustment = price_simulation.scenarios[\"Selling Price New\"]\n",
    "cluster_adjustment.append((7, 0.90),)"
   ]
  },
  {
   "cell_type": "code",
   "execution_count": 53,
   "metadata": {
    "atoti": {
     "height": 380,
     "state": {
      "name": "Price index optimisation difference by scenario",
      "type": "container",
      "value": {
       "body": {
        "configuration": {
         "mapping": {
          "horizontalSubplots": [],
          "splitBy": [
           "[Epoch].[Epoch].[Branch]",
           "[Measure Simulations].[Price simulation].[Price simulation]"
          ],
          "values": [
           "[Measures].[Price Index]"
          ],
          "verticalSubplots": [],
          "xAxis": [
           "[Hierarchies].[Cluster].[Cluster]",
           "[Hierarchies].[ShopName].[ShopName]",
           "[Hierarchies].[ShopId].[ShopId]"
          ]
         },
         "plotly": {
          "layout": {
           "xaxis": {
            "tickangle": "45"
           }
          }
         },
         "type": "plotly-clustered-column-chart"
        },
        "query": {
         "mdx": "SELECT NON EMPTY Crossjoin([Hierarchies].[Cluster].[Cluster].Members, [Hierarchies].[ShopName].[ShopName].Members, [Hierarchies].[ShopId].[ShopId].Members, [Epoch].[Epoch].[Branch].Members, [Measure Simulations].[Price simulation].[Price simulation].Members) ON ROWS, NON EMPTY [Measures].[Price Index] ON COLUMNS FROM (SELECT [Hierarchies].[Cluster].[ALL].[AllMember].[1] ON COLUMNS FROM [PriceIndexCube]) CELL PROPERTIES VALUE, FORMATTED_VALUE, BACK_COLOR, FORE_COLOR, FONT_FLAGS",
         "serverUrl": "",
         "updateMode": "once"
        }
       },
       "containerKey": "chart",
       "showTitleBar": false,
       "style": {}
      }
     }
    }
   },
   "outputs": [
    {
     "data": {
      "application/vnd.atoti.v0+json": {
       "cube": "PriceIndexCube",
       "name": "Price index optimisation difference by scenario",
       "session": "Unnamed"
      },
      "text/plain": [
       "Install and enable the atoti JupyterLab extension to see this widget."
      ]
     },
     "metadata": {},
     "output_type": "display_data"
    }
   ],
   "source": [
    "price_index_cube.visualize(\"Price index optimisation difference by scenario\")"
   ]
  },
  {
   "cell_type": "markdown",
   "metadata": {},
   "source": [
    "The price index after price optimization and the shop adjustment for the shop looks more aligned now. \n",
    "\n",
    "Using a very simple machine learning example, we saw how it could help to identify the clusters based on the amount of geographical competitions.  \n",
    "With this information, we applied different pricing strategies to each cluster using simulations from atoti to understand the impact on the price index.\n",
    "We also look within a cluster to adjust the pricing of a specific shop so that it's more attuned to the pricing of the other shops in the cluster. \n",
    "\n",
    "We saw that despite the small amount of data that we have, we could already come up with a decent pricing strategy with atoti.  \n",
    "If we have more data such as the quantity of products sold, we can easily see the differences in the margin with each pricing strategy, with the possibility to drill down to various valuable attributes.  \n",
    "We can thereafter decide on the best pricing from the combination of simulations. Not to mention that with atoti, we can easily combine the simulations of various factors such as festivals, promotions, seasons etc.\n",
    "\n",
    "Do have a look at how we can strategize the price index around product class in the [pricing-simulations-around-product-classes](https://github.com/atoti/notebooks/tree/master/retail/pricing-simulations-around-product-classes) notebook and its [corresponding article](https://www.atoti.io/data-dive-how-to-improve-pricing-strategies-with-a-set-of-checkout-receipts/).  \n",
    "Maybe you can have a go at combining the two strategies to get your own price index!"
   ]
  }
 ],
 "metadata": {
  "kernelspec": {
   "display_name": "Python 3",
   "language": "python",
   "name": "python3"
  },
  "language_info": {
   "codemirror_mode": {
    "name": "ipython",
    "version": 3
   },
   "file_extension": ".py",
   "mimetype": "text/x-python",
   "name": "python",
   "nbconvert_exporter": "python",
   "pygments_lexer": "ipython3",
   "version": "3.7.6"
  }
 },
 "nbformat": 4,
 "nbformat_minor": 4
}
