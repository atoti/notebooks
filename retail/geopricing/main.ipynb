{
 "cells": [
  {
   "cell_type": "markdown",
   "metadata": {},
   "source": [
    "# Geopricing with atoti\n",
    "In this notebook we will explore a pricing use case that combines machine learning algorithms and atoti.  \n",
    "\n",
    "Imagine our retailer has many shops spread across France. The idea behind this notebook is to group the shops based on its price index and geographical characteristics to its competitors.  \n",
    "Price index is a measurement of where a retailer is positioned compared to one or multiple of its competitors.   \n",
    "Through the clustering, we will be able to apply different pricing strategies on each cluster based on its competition.  \n",
    "\n",
    "We shall obtain the clustering of the shops via machine learning.  \n",
    "For the machine learning, we will need a set of input features for each retail shops:\n",
    "- Number of competitors per distance range (1km, 5km, 10km etc)\n",
    "- Price Index per shop against its competitors  \n",
    "\n",
    "We will see how we can generate these input values for the machine learning with atoti.  \n",
    "Not only so, we will also make use of output from the machine learning to perform the below simulations:\n",
    "- Pricing simulations around clusters to obtain the optimised price index against its neighbouring competitors\n",
    "- Selling price simulation by clusters and retail shops to align the pricing within the cluster\n",
    "\n",
    "### Dependencies\n",
    "Assuming atoti is already installed, let's start by installing the additional libraries required for this notebook to work."
   ]
  },
  {
   "cell_type": "code",
   "execution_count": 1,
   "metadata": {
    "execution": {
     "iopub.execute_input": "2020-07-17T06:15:48.839864Z",
     "iopub.status.busy": "2020-07-17T06:15:48.838867Z",
     "iopub.status.idle": "2020-07-17T06:16:02.013651Z",
     "shell.execute_reply": "2020-07-17T06:16:02.013651Z",
     "shell.execute_reply.started": "2020-07-17T06:15:48.839864Z"
    }
   },
   "outputs": [
    {
     "name": "stdout",
     "output_type": "stream",
     "text": [
      "Collecting package metadata (current_repodata.json): ...working... done\n",
      "Solving environment: ...working... done\n",
      "\n",
      "# All requested packages already installed.\n",
      "\n"
     ]
    }
   ],
   "source": [
    "import sys\n",
    "\n",
    "!conda install --yes --prefix {sys.prefix} folium scipy scikit-learn matplotlib seaborn"
   ]
  },
  {
   "cell_type": "code",
   "execution_count": 2,
   "metadata": {
    "execution": {
     "iopub.execute_input": "2020-07-17T06:16:02.015612Z",
     "iopub.status.busy": "2020-07-17T06:16:02.014615Z",
     "iopub.status.idle": "2020-07-17T06:16:04.543849Z",
     "shell.execute_reply": "2020-07-17T06:16:04.543849Z",
     "shell.execute_reply.started": "2020-07-17T06:16:02.014615Z"
    }
   },
   "outputs": [
    {
     "name": "stdout",
     "output_type": "stream",
     "text": [
      "Welcome to atoti 0.4.2!\n",
      "\n",
      "By using this community edition, you agree with the license available at https://www.atoti.io/eula.\n",
      "Browse the official documentation at https://docs.atoti.io.\n",
      "Join the community at https://www.atoti.io/register.\n",
      "\n",
      "You can hide this message by setting the ATOTI_HIDE_EULA_MESSAGE environment variable to True.\n"
     ]
    }
   ],
   "source": [
    "import atoti as tt\n",
    "import pandas as pd"
   ]
  },
  {
   "cell_type": "markdown",
   "metadata": {},
   "source": [
    "## Data Preparation and exploration with atoti\n",
    "\n",
    "Let's start by loading our data into atoti stores."
   ]
  },
  {
   "cell_type": "code",
   "execution_count": 3,
   "metadata": {
    "execution": {
     "iopub.execute_input": "2020-07-17T06:16:04.544846Z",
     "iopub.status.busy": "2020-07-17T06:16:04.544846Z",
     "iopub.status.idle": "2020-07-17T06:16:09.477648Z",
     "shell.execute_reply": "2020-07-17T06:16:09.477648Z",
     "shell.execute_reply.started": "2020-07-17T06:16:04.544846Z"
    }
   },
   "outputs": [],
   "source": [
    "session = tt.create_session()"
   ]
  },
  {
   "cell_type": "markdown",
   "metadata": {},
   "source": [
    "Normally, we can have the selling price, cost price and quantity of the product sold. Margin hence can be derived, and we can consequently see the impact on margin when price index changes.  \n",
    "In this notebook however, we simplify the use case by having only the SellingPrice and the total Margin for each product by shops.  "
   ]
  },
  {
   "cell_type": "code",
   "execution_count": 4,
   "metadata": {
    "execution": {
     "iopub.execute_input": "2020-07-17T06:16:09.479646Z",
     "iopub.status.busy": "2020-07-17T06:16:09.478646Z",
     "iopub.status.idle": "2020-07-17T06:16:10.592698Z",
     "shell.execute_reply": "2020-07-17T06:16:10.592698Z",
     "shell.execute_reply.started": "2020-07-17T06:16:09.479646Z"
    }
   },
   "outputs": [
    {
     "name": "stderr",
     "output_type": "stream",
     "text": [
      "The store has been sampled because there are more than 10000 lines in the files to load. Call Session.load_all_data() to trigger the full load of the data.\n"
     ]
    },
    {
     "data": {
      "text/html": [
       "<div>\n",
       "<style scoped>\n",
       "    .dataframe tbody tr th:only-of-type {\n",
       "        vertical-align: middle;\n",
       "    }\n",
       "\n",
       "    .dataframe tbody tr th {\n",
       "        vertical-align: top;\n",
       "    }\n",
       "\n",
       "    .dataframe thead th {\n",
       "        text-align: right;\n",
       "    }\n",
       "</style>\n",
       "<table border=\"1\" class=\"dataframe\">\n",
       "  <thead>\n",
       "    <tr style=\"text-align: right;\">\n",
       "      <th></th>\n",
       "      <th></th>\n",
       "      <th>SellingPrice</th>\n",
       "      <th>Margin</th>\n",
       "    </tr>\n",
       "    <tr>\n",
       "      <th>ProductId</th>\n",
       "      <th>ShopId</th>\n",
       "      <th></th>\n",
       "      <th></th>\n",
       "    </tr>\n",
       "  </thead>\n",
       "  <tbody>\n",
       "    <tr>\n",
       "      <th rowspan=\"5\" valign=\"top\">4096.0</th>\n",
       "      <th>1.0</th>\n",
       "      <td>1.920</td>\n",
       "      <td>1959.530</td>\n",
       "    </tr>\n",
       "    <tr>\n",
       "      <th>2.0</th>\n",
       "      <td>2.068</td>\n",
       "      <td>2204.228</td>\n",
       "    </tr>\n",
       "    <tr>\n",
       "      <th>3.0</th>\n",
       "      <td>1.820</td>\n",
       "      <td>1835.545</td>\n",
       "    </tr>\n",
       "    <tr>\n",
       "      <th>4.0</th>\n",
       "      <td>1.825</td>\n",
       "      <td>1641.052</td>\n",
       "    </tr>\n",
       "    <tr>\n",
       "      <th>5.0</th>\n",
       "      <td>2.016</td>\n",
       "      <td>1307.136</td>\n",
       "    </tr>\n",
       "  </tbody>\n",
       "</table>\n",
       "</div>"
      ],
      "text/plain": [
       "                  SellingPrice    Margin\n",
       "ProductId ShopId                        \n",
       "4096.0    1.0            1.920  1959.530\n",
       "          2.0            2.068  2204.228\n",
       "          3.0            1.820  1835.545\n",
       "          4.0            1.825  1641.052\n",
       "          5.0            2.016  1307.136"
      ]
     },
     "execution_count": 4,
     "metadata": {},
     "output_type": "execute_result"
    }
   ],
   "source": [
    "#  We used pandas to read the selling price here as we will be using it again for price optimisation in the later section.\n",
    "product_sales_df = pd.read_csv(\n",
    "    \"https://data.atoti.io/notebooks/geopricing/shops_prices.csv\"\n",
    ")\n",
    "\n",
    "productSales = session.read_pandas(\n",
    "    product_sales_df,\n",
    "    keys=[\"ProductId\", \"ShopId\"],\n",
    "    store_name=\"ProductSales\",\n",
    "    types={\"ProductId\": tt.types.INT, \"ShopId\": tt.types.INT},\n",
    ")\n",
    "productSales.head()"
   ]
  },
  {
   "cell_type": "markdown",
   "metadata": {},
   "source": [
    "Due to the amount of data in this store, the store is sampled by default. We will proceed to load all the data only after we are done modeling the cube.\n",
    "\n",
    "We will also require the competitors' product pricing against our shops."
   ]
  },
  {
   "cell_type": "code",
   "execution_count": 5,
   "metadata": {
    "execution": {
     "iopub.execute_input": "2020-07-17T06:16:10.593696Z",
     "iopub.status.busy": "2020-07-17T06:16:10.593696Z",
     "iopub.status.idle": "2020-07-17T06:16:33.749725Z",
     "shell.execute_reply": "2020-07-17T06:16:33.749725Z",
     "shell.execute_reply.started": "2020-07-17T06:16:10.593696Z"
    }
   },
   "outputs": [
    {
     "data": {
      "text/html": [
       "<div>\n",
       "<style scoped>\n",
       "    .dataframe tbody tr th:only-of-type {\n",
       "        vertical-align: middle;\n",
       "    }\n",
       "\n",
       "    .dataframe tbody tr th {\n",
       "        vertical-align: top;\n",
       "    }\n",
       "\n",
       "    .dataframe thead th {\n",
       "        text-align: right;\n",
       "    }\n",
       "</style>\n",
       "<table border=\"1\" class=\"dataframe\">\n",
       "  <thead>\n",
       "    <tr style=\"text-align: right;\">\n",
       "      <th></th>\n",
       "      <th></th>\n",
       "      <th></th>\n",
       "      <th>CompetitorPrice</th>\n",
       "    </tr>\n",
       "    <tr>\n",
       "      <th>ProductId</th>\n",
       "      <th>CompetitorShopId</th>\n",
       "      <th>ShopId</th>\n",
       "      <th></th>\n",
       "    </tr>\n",
       "  </thead>\n",
       "  <tbody>\n",
       "    <tr>\n",
       "      <th>4096.0</th>\n",
       "      <th>101.0</th>\n",
       "      <th>1.0</th>\n",
       "      <td>2.287</td>\n",
       "    </tr>\n",
       "    <tr>\n",
       "      <th>4097.0</th>\n",
       "      <th>101.0</th>\n",
       "      <th>1.0</th>\n",
       "      <td>2.320</td>\n",
       "    </tr>\n",
       "    <tr>\n",
       "      <th>4098.0</th>\n",
       "      <th>101.0</th>\n",
       "      <th>1.0</th>\n",
       "      <td>2.519</td>\n",
       "    </tr>\n",
       "    <tr>\n",
       "      <th>4099.0</th>\n",
       "      <th>101.0</th>\n",
       "      <th>1.0</th>\n",
       "      <td>2.504</td>\n",
       "    </tr>\n",
       "    <tr>\n",
       "      <th>4100.0</th>\n",
       "      <th>101.0</th>\n",
       "      <th>1.0</th>\n",
       "      <td>3.309</td>\n",
       "    </tr>\n",
       "  </tbody>\n",
       "</table>\n",
       "</div>"
      ],
      "text/plain": [
       "                                   CompetitorPrice\n",
       "ProductId CompetitorShopId ShopId                 \n",
       "4096.0    101.0            1.0               2.287\n",
       "4097.0    101.0            1.0               2.320\n",
       "4098.0    101.0            1.0               2.519\n",
       "4099.0    101.0            1.0               2.504\n",
       "4100.0    101.0            1.0               3.309"
      ]
     },
     "execution_count": 5,
     "metadata": {},
     "output_type": "execute_result"
    }
   ],
   "source": [
    "competitorPrices_df = pd.read_csv(\n",
    "    \"https://data.atoti.io/notebooks/geopricing/competitors_prices.csv\"\n",
    ")\n",
    "\n",
    "competitorPrices = session.read_pandas(\n",
    "    competitorPrices_df,\n",
    "    keys=[\"ProductId\", \"CompetitorShopId\", \"ShopId\"],\n",
    "    store_name=\"CompetitorPrices\",\n",
    ")\n",
    "competitorPrices.head()"
   ]
  },
  {
   "cell_type": "markdown",
   "metadata": {},
   "source": [
    "We have the key stores necessary for us to generate the data required for machine learning.  \n",
    "However, we will also load the following stores that will allow us to have a more in-depth analysis:\n",
    "- Products: Product catalogue\n",
    "- Shops: shops information such as location\n",
    "- CompetitorsShops: Competitors' shop information"
   ]
  },
  {
   "cell_type": "code",
   "execution_count": 6,
   "metadata": {
    "execution": {
     "iopub.execute_input": "2020-07-17T06:16:33.751701Z",
     "iopub.status.busy": "2020-07-17T06:16:33.751701Z",
     "iopub.status.idle": "2020-07-17T06:16:34.217457Z",
     "shell.execute_reply": "2020-07-17T06:16:34.216458Z",
     "shell.execute_reply.started": "2020-07-17T06:16:33.751701Z"
    }
   },
   "outputs": [
    {
     "data": {
      "text/html": [
       "<div>\n",
       "<style scoped>\n",
       "    .dataframe tbody tr th:only-of-type {\n",
       "        vertical-align: middle;\n",
       "    }\n",
       "\n",
       "    .dataframe tbody tr th {\n",
       "        vertical-align: top;\n",
       "    }\n",
       "\n",
       "    .dataframe thead th {\n",
       "        text-align: right;\n",
       "    }\n",
       "</style>\n",
       "<table border=\"1\" class=\"dataframe\">\n",
       "  <thead>\n",
       "    <tr style=\"text-align: right;\">\n",
       "      <th></th>\n",
       "      <th>EAN</th>\n",
       "      <th>ProductName</th>\n",
       "      <th>Brand</th>\n",
       "      <th>Size</th>\n",
       "      <th>Unit</th>\n",
       "      <th>Department</th>\n",
       "      <th>SubDepartment</th>\n",
       "      <th>Category</th>\n",
       "      <th>SubCategory</th>\n",
       "    </tr>\n",
       "    <tr>\n",
       "      <th>ProductId</th>\n",
       "      <th></th>\n",
       "      <th></th>\n",
       "      <th></th>\n",
       "      <th></th>\n",
       "      <th></th>\n",
       "      <th></th>\n",
       "      <th></th>\n",
       "      <th></th>\n",
       "      <th></th>\n",
       "    </tr>\n",
       "  </thead>\n",
       "  <tbody>\n",
       "    <tr>\n",
       "      <th>4096</th>\n",
       "      <td>3124480000378</td>\n",
       "      <td>1,5L CANADA DRY PET</td>\n",
       "      <td>CANADA DRY</td>\n",
       "      <td>1.5</td>\n",
       "      <td>L</td>\n",
       "      <td>LIQUIDES</td>\n",
       "      <td>SOFT TRADITIONNELS</td>\n",
       "      <td>TONIC</td>\n",
       "      <td>GINGER ALE</td>\n",
       "    </tr>\n",
       "    <tr>\n",
       "      <th>4097</th>\n",
       "      <td>3124480183927</td>\n",
       "      <td>1,5L SCHWEPPES LEMON PET</td>\n",
       "      <td>SCHWEPPES</td>\n",
       "      <td>1.5</td>\n",
       "      <td>L</td>\n",
       "      <td>LIQUIDES</td>\n",
       "      <td>SOFT TRADITIONNELS</td>\n",
       "      <td>BOISSON AUX FRUITS  GAZEUX</td>\n",
       "      <td>PET - PVC</td>\n",
       "    </tr>\n",
       "    <tr>\n",
       "      <th>4098</th>\n",
       "      <td>3124480183811</td>\n",
       "      <td>2L OASIS ORANGE PET</td>\n",
       "      <td>OASIS</td>\n",
       "      <td>2</td>\n",
       "      <td>L</td>\n",
       "      <td>LIQUIDES</td>\n",
       "      <td>SOFT TRADITIONNELS</td>\n",
       "      <td>BOISSON AUX FRUITS  PLAT</td>\n",
       "      <td>PET - PVC</td>\n",
       "    </tr>\n",
       "    <tr>\n",
       "      <th>4099</th>\n",
       "      <td>3124480183828</td>\n",
       "      <td>2L OASIS TROPICAL PET</td>\n",
       "      <td>OASIS</td>\n",
       "      <td>2</td>\n",
       "      <td>L</td>\n",
       "      <td>LIQUIDES</td>\n",
       "      <td>SOFT TRADITIONNELS</td>\n",
       "      <td>BOISSON AUX FRUITS  PLAT</td>\n",
       "      <td>PET - PVC</td>\n",
       "    </tr>\n",
       "    <tr>\n",
       "      <th>4100</th>\n",
       "      <td>3124480186577</td>\n",
       "      <td>6X33CL OASIS TROPICAL BT</td>\n",
       "      <td>OASIS</td>\n",
       "      <td>6x33</td>\n",
       "      <td>cl</td>\n",
       "      <td>LIQUIDES</td>\n",
       "      <td>SOFT TRADITIONNELS</td>\n",
       "      <td>BOISSON AUX FRUITS  PLAT</td>\n",
       "      <td>BOITES</td>\n",
       "    </tr>\n",
       "  </tbody>\n",
       "</table>\n",
       "</div>"
      ],
      "text/plain": [
       "                     EAN               ProductName       Brand  Size Unit  \\\n",
       "ProductId                                                                   \n",
       "4096       3124480000378       1,5L CANADA DRY PET  CANADA DRY   1.5    L   \n",
       "4097       3124480183927  1,5L SCHWEPPES LEMON PET   SCHWEPPES   1.5    L   \n",
       "4098       3124480183811       2L OASIS ORANGE PET       OASIS     2    L   \n",
       "4099       3124480183828     2L OASIS TROPICAL PET       OASIS     2    L   \n",
       "4100       3124480186577  6X33CL OASIS TROPICAL BT       OASIS  6x33   cl   \n",
       "\n",
       "          Department       SubDepartment                    Category  \\\n",
       "ProductId                                                              \n",
       "4096        LIQUIDES  SOFT TRADITIONNELS                       TONIC   \n",
       "4097        LIQUIDES  SOFT TRADITIONNELS  BOISSON AUX FRUITS  GAZEUX   \n",
       "4098        LIQUIDES  SOFT TRADITIONNELS    BOISSON AUX FRUITS  PLAT   \n",
       "4099        LIQUIDES  SOFT TRADITIONNELS    BOISSON AUX FRUITS  PLAT   \n",
       "4100        LIQUIDES  SOFT TRADITIONNELS    BOISSON AUX FRUITS  PLAT   \n",
       "\n",
       "          SubCategory  \n",
       "ProductId              \n",
       "4096       GINGER ALE  \n",
       "4097        PET - PVC  \n",
       "4098        PET - PVC  \n",
       "4099        PET - PVC  \n",
       "4100           BOITES  "
      ]
     },
     "execution_count": 6,
     "metadata": {},
     "output_type": "execute_result"
    }
   ],
   "source": [
    "products_df = pd.read_csv(\n",
    "    \"https://data.atoti.io/notebooks/geopricing/products_info.csv\", sep=\";\"\n",
    ")\n",
    "\n",
    "products = session.read_pandas(products_df, keys=[\"ProductId\"], store_name=\"Products\",)\n",
    "products.head()"
   ]
  },
  {
   "cell_type": "code",
   "execution_count": 7,
   "metadata": {
    "execution": {
     "iopub.execute_input": "2020-07-17T06:16:34.218453Z",
     "iopub.status.busy": "2020-07-17T06:16:34.218453Z",
     "iopub.status.idle": "2020-07-17T06:16:34.553556Z",
     "shell.execute_reply": "2020-07-17T06:16:34.553556Z",
     "shell.execute_reply.started": "2020-07-17T06:16:34.218453Z"
    }
   },
   "outputs": [
    {
     "data": {
      "text/html": [
       "<div>\n",
       "<style scoped>\n",
       "    .dataframe tbody tr th:only-of-type {\n",
       "        vertical-align: middle;\n",
       "    }\n",
       "\n",
       "    .dataframe tbody tr th {\n",
       "        vertical-align: top;\n",
       "    }\n",
       "\n",
       "    .dataframe thead th {\n",
       "        text-align: right;\n",
       "    }\n",
       "</style>\n",
       "<table border=\"1\" class=\"dataframe\">\n",
       "  <thead>\n",
       "    <tr style=\"text-align: right;\">\n",
       "      <th></th>\n",
       "      <th>ShopName</th>\n",
       "      <th>Address</th>\n",
       "      <th>ZipCode</th>\n",
       "      <th>City</th>\n",
       "      <th>Country</th>\n",
       "      <th>Latitude</th>\n",
       "      <th>Longitude</th>\n",
       "      <th>Company</th>\n",
       "    </tr>\n",
       "    <tr>\n",
       "      <th>ShopId</th>\n",
       "      <th></th>\n",
       "      <th></th>\n",
       "      <th></th>\n",
       "      <th></th>\n",
       "      <th></th>\n",
       "      <th></th>\n",
       "      <th></th>\n",
       "      <th></th>\n",
       "    </tr>\n",
       "  </thead>\n",
       "  <tbody>\n",
       "    <tr>\n",
       "      <th>1</th>\n",
       "      <td>MyShop Paris 1er</td>\n",
       "      <td>Paris 1er</td>\n",
       "      <td>75001</td>\n",
       "      <td>Paris</td>\n",
       "      <td>France</td>\n",
       "      <td>48.860757</td>\n",
       "      <td>2.342566</td>\n",
       "      <td>MyCompany</td>\n",
       "    </tr>\n",
       "    <tr>\n",
       "      <th>2</th>\n",
       "      <td>MyShop Paris 15</td>\n",
       "      <td>Paris 15</td>\n",
       "      <td>75015</td>\n",
       "      <td>Paris</td>\n",
       "      <td>France</td>\n",
       "      <td>48.840412</td>\n",
       "      <td>2.312649</td>\n",
       "      <td>MyCompany</td>\n",
       "    </tr>\n",
       "    <tr>\n",
       "      <th>3</th>\n",
       "      <td>MyShop Paris 18</td>\n",
       "      <td>Paris 18</td>\n",
       "      <td>75018</td>\n",
       "      <td>Paris</td>\n",
       "      <td>France</td>\n",
       "      <td>48.886483</td>\n",
       "      <td>2.344326</td>\n",
       "      <td>MyCompany</td>\n",
       "    </tr>\n",
       "    <tr>\n",
       "      <th>4</th>\n",
       "      <td>MyShop Paris 12</td>\n",
       "      <td>Paris 12</td>\n",
       "      <td>75012</td>\n",
       "      <td>Paris</td>\n",
       "      <td>France</td>\n",
       "      <td>48.832182</td>\n",
       "      <td>2.375729</td>\n",
       "      <td>MyCompany</td>\n",
       "    </tr>\n",
       "    <tr>\n",
       "      <th>5</th>\n",
       "      <td>MyShop Paris 16</td>\n",
       "      <td>Paris 16</td>\n",
       "      <td>75016</td>\n",
       "      <td>Paris</td>\n",
       "      <td>France</td>\n",
       "      <td>48.855454</td>\n",
       "      <td>2.280886</td>\n",
       "      <td>MyCompany</td>\n",
       "    </tr>\n",
       "  </tbody>\n",
       "</table>\n",
       "</div>"
      ],
      "text/plain": [
       "                ShopName    Address  ZipCode   City Country   Latitude  \\\n",
       "ShopId                                                                   \n",
       "1       MyShop Paris 1er  Paris 1er    75001  Paris  France  48.860757   \n",
       "2        MyShop Paris 15   Paris 15    75015  Paris  France  48.840412   \n",
       "3        MyShop Paris 18   Paris 18    75018  Paris  France  48.886483   \n",
       "4        MyShop Paris 12   Paris 12    75012  Paris  France  48.832182   \n",
       "5        MyShop Paris 16   Paris 16    75016  Paris  France  48.855454   \n",
       "\n",
       "        Longitude    Company  \n",
       "ShopId                        \n",
       "1        2.342566  MyCompany  \n",
       "2        2.312649  MyCompany  \n",
       "3        2.344326  MyCompany  \n",
       "4        2.375729  MyCompany  \n",
       "5        2.280886  MyCompany  "
      ]
     },
     "execution_count": 7,
     "metadata": {},
     "output_type": "execute_result"
    }
   ],
   "source": [
    "shops_df = pd.read_csv(\n",
    "    \"https://data.atoti.io/notebooks/geopricing/shops.csv\", sep=\";\"\n",
    ")\n",
    "\n",
    "shops = session.read_pandas(\n",
    "    shops_df,\n",
    "    keys=[\"ShopId\"],\n",
    "    store_name=\"Shops\",\n",
    "    types={\"ShopId\": tt.types.INT},\n",
    ")\n",
    "shops.head()"
   ]
  },
  {
   "cell_type": "code",
   "execution_count": 8,
   "metadata": {
    "execution": {
     "iopub.execute_input": "2020-07-17T06:16:34.555551Z",
     "iopub.status.busy": "2020-07-17T06:16:34.555551Z",
     "iopub.status.idle": "2020-07-17T06:16:34.936536Z",
     "shell.execute_reply": "2020-07-17T06:16:34.936536Z",
     "shell.execute_reply.started": "2020-07-17T06:16:34.555551Z"
    }
   },
   "outputs": [
    {
     "data": {
      "text/html": [
       "<div>\n",
       "<style scoped>\n",
       "    .dataframe tbody tr th:only-of-type {\n",
       "        vertical-align: middle;\n",
       "    }\n",
       "\n",
       "    .dataframe tbody tr th {\n",
       "        vertical-align: top;\n",
       "    }\n",
       "\n",
       "    .dataframe thead th {\n",
       "        text-align: right;\n",
       "    }\n",
       "</style>\n",
       "<table border=\"1\" class=\"dataframe\">\n",
       "  <thead>\n",
       "    <tr style=\"text-align: right;\">\n",
       "      <th></th>\n",
       "      <th>CompetitorShopName</th>\n",
       "      <th>CompetitorShopAdress</th>\n",
       "      <th>CompetitorShopZipCode</th>\n",
       "      <th>CompetitorShopCity</th>\n",
       "      <th>CompetitorShopCountry</th>\n",
       "      <th>CompetitorShopLatitude</th>\n",
       "      <th>CompetitorShopLongitude</th>\n",
       "      <th>CompetitorShopCompany</th>\n",
       "    </tr>\n",
       "    <tr>\n",
       "      <th>CompetitorShopId</th>\n",
       "      <th></th>\n",
       "      <th></th>\n",
       "      <th></th>\n",
       "      <th></th>\n",
       "      <th></th>\n",
       "      <th></th>\n",
       "      <th></th>\n",
       "      <th></th>\n",
       "    </tr>\n",
       "  </thead>\n",
       "  <tbody>\n",
       "    <tr>\n",
       "      <th>101</th>\n",
       "      <td>Concurrent Premium</td>\n",
       "      <td>Paris 1er</td>\n",
       "      <td>75001</td>\n",
       "      <td>Paris</td>\n",
       "      <td>France</td>\n",
       "      <td>48.860757</td>\n",
       "      <td>2.342566</td>\n",
       "      <td>Concurrent Premium</td>\n",
       "    </tr>\n",
       "    <tr>\n",
       "      <th>102</th>\n",
       "      <td>Concurrent Premium</td>\n",
       "      <td>Paris 15</td>\n",
       "      <td>75015</td>\n",
       "      <td>Paris</td>\n",
       "      <td>France</td>\n",
       "      <td>48.840412</td>\n",
       "      <td>2.312649</td>\n",
       "      <td>Concurrent Premium</td>\n",
       "    </tr>\n",
       "    <tr>\n",
       "      <th>103</th>\n",
       "      <td>Concurrent Premium</td>\n",
       "      <td>Paris 18</td>\n",
       "      <td>75018</td>\n",
       "      <td>Paris</td>\n",
       "      <td>France</td>\n",
       "      <td>48.886483</td>\n",
       "      <td>2.344326</td>\n",
       "      <td>Concurrent Premium</td>\n",
       "    </tr>\n",
       "    <tr>\n",
       "      <th>104</th>\n",
       "      <td>Concurrent Premium</td>\n",
       "      <td>Paris 12</td>\n",
       "      <td>75012</td>\n",
       "      <td>Paris</td>\n",
       "      <td>France</td>\n",
       "      <td>48.832182</td>\n",
       "      <td>2.375729</td>\n",
       "      <td>Concurrent Premium</td>\n",
       "    </tr>\n",
       "    <tr>\n",
       "      <th>105</th>\n",
       "      <td>Concurrent Premium</td>\n",
       "      <td>Paris 16</td>\n",
       "      <td>75016</td>\n",
       "      <td>Paris</td>\n",
       "      <td>France</td>\n",
       "      <td>48.855454</td>\n",
       "      <td>2.280886</td>\n",
       "      <td>Concurrent Premium</td>\n",
       "    </tr>\n",
       "  </tbody>\n",
       "</table>\n",
       "</div>"
      ],
      "text/plain": [
       "                  CompetitorShopName CompetitorShopAdress  \\\n",
       "CompetitorShopId                                            \n",
       "101               Concurrent Premium            Paris 1er   \n",
       "102               Concurrent Premium             Paris 15   \n",
       "103               Concurrent Premium             Paris 18   \n",
       "104               Concurrent Premium             Paris 12   \n",
       "105               Concurrent Premium             Paris 16   \n",
       "\n",
       "                  CompetitorShopZipCode CompetitorShopCity  \\\n",
       "CompetitorShopId                                             \n",
       "101                               75001              Paris   \n",
       "102                               75015              Paris   \n",
       "103                               75018              Paris   \n",
       "104                               75012              Paris   \n",
       "105                               75016              Paris   \n",
       "\n",
       "                 CompetitorShopCountry  CompetitorShopLatitude  \\\n",
       "CompetitorShopId                                                 \n",
       "101                             France               48.860757   \n",
       "102                             France               48.840412   \n",
       "103                             France               48.886483   \n",
       "104                             France               48.832182   \n",
       "105                             France               48.855454   \n",
       "\n",
       "                  CompetitorShopLongitude CompetitorShopCompany  \n",
       "CompetitorShopId                                                 \n",
       "101                              2.342566    Concurrent Premium  \n",
       "102                              2.312649    Concurrent Premium  \n",
       "103                              2.344326    Concurrent Premium  \n",
       "104                              2.375729    Concurrent Premium  \n",
       "105                              2.280886    Concurrent Premium  "
      ]
     },
     "execution_count": 8,
     "metadata": {},
     "output_type": "execute_result"
    }
   ],
   "source": [
    "competitorShops_df = pd.read_csv(\n",
    "    \"https://data.atoti.io/notebooks/geopricing/competitors_shops.csv\", sep=\";\"\n",
    ")\n",
    "\n",
    "competitorShops = session.read_pandas(\n",
    "    competitorShops_df,\n",
    "    keys=[\"CompetitorShopId\"],\n",
    "    store_name=\"CompetitorsShop\",\n",
    "    types={\"CompetitorShopId\": tt.types.INT},\n",
    ")\n",
    "competitorShops.head()"
   ]
  },
  {
   "cell_type": "markdown",
   "metadata": {},
   "source": [
    "Since we have the latitude and longitude of the shops and their competitors, we pre-computed distances in between using the [harvesine formula](https://en.wikipedia.org/wiki/Haversine_formula) and load into the data store.  \n",
    "Note that another approach would be to use instead something like the [google API](https://developers.google.com/maps/documentation/distance-matrix/intro) to compute distances and durations between two points (thus taking into accounts possible means of transportation)."
   ]
  },
  {
   "cell_type": "code",
   "execution_count": 9,
   "metadata": {
    "execution": {
     "iopub.execute_input": "2020-07-17T06:16:34.938526Z",
     "iopub.status.busy": "2020-07-17T06:16:34.938526Z",
     "iopub.status.idle": "2020-07-17T06:16:35.830140Z",
     "shell.execute_reply": "2020-07-17T06:16:35.830140Z",
     "shell.execute_reply.started": "2020-07-17T06:16:34.938526Z"
    }
   },
   "outputs": [
    {
     "data": {
      "text/html": [
       "<div>\n",
       "<style scoped>\n",
       "    .dataframe tbody tr th:only-of-type {\n",
       "        vertical-align: middle;\n",
       "    }\n",
       "\n",
       "    .dataframe tbody tr th {\n",
       "        vertical-align: top;\n",
       "    }\n",
       "\n",
       "    .dataframe thead th {\n",
       "        text-align: right;\n",
       "    }\n",
       "</style>\n",
       "<table border=\"1\" class=\"dataframe\">\n",
       "  <thead>\n",
       "    <tr style=\"text-align: right;\">\n",
       "      <th></th>\n",
       "      <th></th>\n",
       "      <th>Competitor distance KM</th>\n",
       "    </tr>\n",
       "    <tr>\n",
       "      <th>ShopId</th>\n",
       "      <th>CompetitorShopId</th>\n",
       "      <th></th>\n",
       "    </tr>\n",
       "  </thead>\n",
       "  <tbody>\n",
       "    <tr>\n",
       "      <th>1.0</th>\n",
       "      <th>101.0</th>\n",
       "      <td>0.000000</td>\n",
       "    </tr>\n",
       "    <tr>\n",
       "      <th>2.0</th>\n",
       "      <th>101.0</th>\n",
       "      <td>3.145965</td>\n",
       "    </tr>\n",
       "    <tr>\n",
       "      <th>3.0</th>\n",
       "      <th>101.0</th>\n",
       "      <td>2.861697</td>\n",
       "    </tr>\n",
       "    <tr>\n",
       "      <th>4.0</th>\n",
       "      <th>101.0</th>\n",
       "      <td>3.995581</td>\n",
       "    </tr>\n",
       "    <tr>\n",
       "      <th>5.0</th>\n",
       "      <th>101.0</th>\n",
       "      <td>4.547896</td>\n",
       "    </tr>\n",
       "  </tbody>\n",
       "</table>\n",
       "</div>"
      ],
      "text/plain": [
       "                         Competitor distance KM\n",
       "ShopId CompetitorShopId                        \n",
       "1.0    101.0                           0.000000\n",
       "2.0    101.0                           3.145965\n",
       "3.0    101.0                           2.861697\n",
       "4.0    101.0                           3.995581\n",
       "5.0    101.0                           4.547896"
      ]
     },
     "execution_count": 9,
     "metadata": {},
     "output_type": "execute_result"
    }
   ],
   "source": [
    "from utils import geo_utils\n",
    "\n",
    "shops_distances_matrix = geo_utils.create_shops_distances_matrix(\n",
    "    shops_df, competitorShops_df\n",
    ")\n",
    "\n",
    "distance_matrix = session.read_pandas(\n",
    "    shops_distances_matrix,\n",
    "    keys=[\"ShopId\", \"CompetitorShopId\"],\n",
    "    store_name=\"DistanceMatrix\",\n",
    "    types={\"ShopId\": tt.types.INT, \"CompetitorShopId\": tt.types.INT},\n",
    ")\n",
    "distance_matrix.head()"
   ]
  },
  {
   "cell_type": "markdown",
   "metadata": {},
   "source": [
    "We choose _ProductSales_ as our base store as it contains the key facts for our shops. Look at [atoti tutorial](https://docs.atoti.io/0.4.1/tutorial/01-Basics.html) to understanding the cube better.   \n",
    "Correspondingly, we have our _CompetitorPrices_ store that has a many-to-many relationship with our _ProductSales_ since multiple shops can sell the same products.\n",
    " \n",
    "We can easily setup this many-to-many relationship simply by joining the _CompetitorPrices_ store to our _ProductSales_ store by _ProductId_ and _ShopId_."
   ]
  },
  {
   "cell_type": "code",
   "execution_count": 10,
   "metadata": {
    "execution": {
     "iopub.execute_input": "2020-07-17T06:16:35.832173Z",
     "iopub.status.busy": "2020-07-17T06:16:35.831153Z",
     "iopub.status.idle": "2020-07-17T06:16:36.377676Z",
     "shell.execute_reply": "2020-07-17T06:16:36.377676Z",
     "shell.execute_reply.started": "2020-07-17T06:16:35.832173Z"
    }
   },
   "outputs": [],
   "source": [
    "price_index_cube = session.create_cube(productSales, \"PriceIndexCube\")"
   ]
  },
  {
   "cell_type": "code",
   "execution_count": 11,
   "metadata": {
    "execution": {
     "iopub.execute_input": "2020-07-17T06:16:36.379671Z",
     "iopub.status.busy": "2020-07-17T06:16:36.378673Z",
     "iopub.status.idle": "2020-07-17T06:16:36.627009Z",
     "shell.execute_reply": "2020-07-17T06:16:36.627009Z",
     "shell.execute_reply.started": "2020-07-17T06:16:36.379671Z"
    }
   },
   "outputs": [],
   "source": [
    "productSales.join(\n",
    "    competitorPrices, mapping={\"ProductId\": \"ProductId\", \"ShopId\": \"ShopId\"}\n",
    ")"
   ]
  },
  {
   "cell_type": "markdown",
   "metadata": {},
   "source": [
    "Let's also enrich our cube with extra information about the shops to create a [snowflake schema](https://www.geeksforgeeks.org/snowflake-schema-in-data-warehouse-model/)."
   ]
  },
  {
   "cell_type": "code",
   "execution_count": 12,
   "metadata": {
    "execution": {
     "iopub.execute_input": "2020-07-17T06:16:36.629005Z",
     "iopub.status.busy": "2020-07-17T06:16:36.628007Z",
     "iopub.status.idle": "2020-07-17T06:16:37.481722Z",
     "shell.execute_reply": "2020-07-17T06:16:37.481722Z",
     "shell.execute_reply.started": "2020-07-17T06:16:36.629005Z"
    }
   },
   "outputs": [],
   "source": [
    "productSales.join(products, mapping={\"ProductId\": \"ProductId\"})\n",
    "productSales.join(shops, mapping={\"ShopId\": \"ShopId\"})\n",
    "competitorPrices.join(\n",
    "    competitorShops, mapping={\"CompetitorShopId\": \"CompetitorShopId\"}\n",
    ")\n",
    "competitorPrices.join(\n",
    "    distance_matrix,\n",
    "    mapping={\"CompetitorShopId\": \"CompetitorShopId\", \"ShopId\": \"ShopId\"},\n",
    ")"
   ]
  },
  {
   "cell_type": "markdown",
   "metadata": {},
   "source": [
    "Let's see the final design of our cube."
   ]
  },
  {
   "cell_type": "code",
   "execution_count": 13,
   "metadata": {
    "execution": {
     "iopub.execute_input": "2020-07-17T06:16:37.482719Z",
     "iopub.status.busy": "2020-07-17T06:16:37.482719Z",
     "iopub.status.idle": "2020-07-17T06:16:37.752033Z",
     "shell.execute_reply": "2020-07-17T06:16:37.752033Z",
     "shell.execute_reply.started": "2020-07-17T06:16:37.482719Z"
    }
   },
   "outputs": [
    {
     "data": {
      "image/svg+xml": [
       "<svg xmlns=\"http://www.w3.org/2000/svg\" xmlns:xlink=\"http://www.w3.org/1999/xlink\" width=\"1059px\" height=\"1155px\" viewBox=\"0.00 0.00 1059.00 1154.50\">\n",
       "<g id=\"graph0\" class=\"graph\" transform=\"scale(1.0 1.0) rotate(0) translate(4 1150.5)\">\n",
       "<title>PriceIndexCube schema</title>\n",
       "<polygon fill=\"white\" stroke=\"none\" points=\"-4,4 -4,-1150.5 1055,-1150.5 1055,4 -4,4\"/>\n",
       "<!-- ProductSales -->\n",
       "<g id=\"node1\" class=\"node\"><title>ProductSales</title>\n",
       "<polygon fill=\"none\" stroke=\"black\" points=\"8,-579 8,-616 154,-616 154,-579 8,-579\"/>\n",
       "<text text-anchor=\"start\" x=\"40\" y=\"-594.8\" font-family=\"Times New Roman,serif\" font-weight=\"bold\" font-size=\"14.00\">ProductSales</text>\n",
       "<polygon fill=\"none\" stroke=\"black\" points=\"8,-542 8,-579 154,-579 154,-542 8,-542\"/>\n",
       "<text text-anchor=\"start\" x=\"19\" y=\"-557.8\" font-family=\"Times New Roman,serif\" font-weight=\"bold\" font-size=\"14.00\">Key</text>\n",
       "<text text-anchor=\"start\" x=\"44\" y=\"-557.8\" font-family=\"Times New Roman,serif\" font-size=\"14.00\">  ProductId </text>\n",
       "<text text-anchor=\"start\" x=\"113\" y=\"-557.8\" font-family=\"Times New Roman,serif\" font-style=\"italic\" font-size=\"14.00\">long</text>\n",
       "<text text-anchor=\"start\" x=\"139\" y=\"-557.8\" font-family=\"Times New Roman,serif\" font-size=\"14.00\"> </text>\n",
       "<polygon fill=\"none\" stroke=\"black\" points=\"8,-505 8,-542 154,-542 154,-505 8,-505\"/>\n",
       "<text text-anchor=\"start\" x=\"19\" y=\"-520.8\" font-family=\"Times New Roman,serif\" font-weight=\"bold\" font-size=\"14.00\">Key</text>\n",
       "<text text-anchor=\"start\" x=\"44\" y=\"-520.8\" font-family=\"Times New Roman,serif\" font-size=\"14.00\">  ShopId </text>\n",
       "<text text-anchor=\"start\" x=\"98\" y=\"-520.8\" font-family=\"Times New Roman,serif\" font-style=\"italic\" font-size=\"14.00\">long</text>\n",
       "<text text-anchor=\"start\" x=\"124\" y=\"-520.8\" font-family=\"Times New Roman,serif\" font-size=\"14.00\"> </text>\n",
       "<polygon fill=\"none\" stroke=\"black\" points=\"8,-468 8,-505 154,-505 154,-468 8,-468\"/>\n",
       "<text text-anchor=\"start\" x=\"19\" y=\"-483.8\" font-family=\"Times New Roman,serif\" font-size=\"14.00\">SellingPrice </text>\n",
       "<text text-anchor=\"start\" x=\"89\" y=\"-483.8\" font-family=\"Times New Roman,serif\" font-style=\"italic\" font-size=\"14.00\">double</text>\n",
       "<text text-anchor=\"start\" x=\"129\" y=\"-483.8\" font-family=\"Times New Roman,serif\" font-size=\"14.00\"> </text>\n",
       "<polygon fill=\"none\" stroke=\"black\" points=\"8,-431 8,-468 154,-468 154,-431 8,-431\"/>\n",
       "<text text-anchor=\"start\" x=\"19\" y=\"-446.8\" font-family=\"Times New Roman,serif\" font-size=\"14.00\">Margin </text>\n",
       "<text text-anchor=\"start\" x=\"62\" y=\"-446.8\" font-family=\"Times New Roman,serif\" font-style=\"italic\" font-size=\"14.00\">double</text>\n",
       "<text text-anchor=\"start\" x=\"102\" y=\"-446.8\" font-family=\"Times New Roman,serif\" font-size=\"14.00\"> </text>\n",
       "</g>\n",
       "<!-- Products -->\n",
       "<g id=\"node2\" class=\"node\"><title>Products</title>\n",
       "<polygon fill=\"none\" stroke=\"black\" points=\"363.5,-1105 363.5,-1142 516.5,-1142 516.5,-1105 363.5,-1105\"/>\n",
       "<text text-anchor=\"start\" x=\"412.5\" y=\"-1120.8\" font-family=\"Times New Roman,serif\" font-weight=\"bold\" font-size=\"14.00\">Products</text>\n",
       "<polygon fill=\"none\" stroke=\"black\" points=\"363.5,-1068 363.5,-1105 516.5,-1105 516.5,-1068 363.5,-1068\"/>\n",
       "<text text-anchor=\"start\" x=\"374.5\" y=\"-1083.8\" font-family=\"Times New Roman,serif\" font-weight=\"bold\" font-size=\"14.00\">Key</text>\n",
       "<text text-anchor=\"start\" x=\"399.5\" y=\"-1083.8\" font-family=\"Times New Roman,serif\" font-size=\"14.00\">  ProductId </text>\n",
       "<text text-anchor=\"start\" x=\"468.5\" y=\"-1083.8\" font-family=\"Times New Roman,serif\" font-style=\"italic\" font-size=\"14.00\">long</text>\n",
       "<text text-anchor=\"start\" x=\"494.5\" y=\"-1083.8\" font-family=\"Times New Roman,serif\" font-size=\"14.00\"> </text>\n",
       "<polygon fill=\"none\" stroke=\"black\" points=\"363.5,-1031 363.5,-1068 516.5,-1068 516.5,-1031 363.5,-1031\"/>\n",
       "<text text-anchor=\"start\" x=\"374.5\" y=\"-1046.8\" font-family=\"Times New Roman,serif\" font-size=\"14.00\">EAN </text>\n",
       "<text text-anchor=\"start\" x=\"406.5\" y=\"-1046.8\" font-family=\"Times New Roman,serif\" font-style=\"italic\" font-size=\"14.00\">long</text>\n",
       "<text text-anchor=\"start\" x=\"432.5\" y=\"-1046.8\" font-family=\"Times New Roman,serif\" font-size=\"14.00\"> </text>\n",
       "<polygon fill=\"none\" stroke=\"black\" points=\"363.5,-994 363.5,-1031 516.5,-1031 516.5,-994 363.5,-994\"/>\n",
       "<text text-anchor=\"start\" x=\"374.5\" y=\"-1009.8\" font-family=\"Times New Roman,serif\" font-size=\"14.00\">ProductName </text>\n",
       "<text text-anchor=\"start\" x=\"456.5\" y=\"-1009.8\" font-family=\"Times New Roman,serif\" font-style=\"italic\" font-size=\"14.00\">String</text>\n",
       "<text text-anchor=\"start\" x=\"492.5\" y=\"-1009.8\" font-family=\"Times New Roman,serif\" font-size=\"14.00\"> </text>\n",
       "<polygon fill=\"none\" stroke=\"black\" points=\"363.5,-957 363.5,-994 516.5,-994 516.5,-957 363.5,-957\"/>\n",
       "<text text-anchor=\"start\" x=\"374.5\" y=\"-972.8\" font-family=\"Times New Roman,serif\" font-size=\"14.00\">Brand </text>\n",
       "<text text-anchor=\"start\" x=\"412.5\" y=\"-972.8\" font-family=\"Times New Roman,serif\" font-style=\"italic\" font-size=\"14.00\">String</text>\n",
       "<text text-anchor=\"start\" x=\"448.5\" y=\"-972.8\" font-family=\"Times New Roman,serif\" font-size=\"14.00\"> </text>\n",
       "<polygon fill=\"none\" stroke=\"black\" points=\"363.5,-920 363.5,-957 516.5,-957 516.5,-920 363.5,-920\"/>\n",
       "<text text-anchor=\"start\" x=\"374.5\" y=\"-935.8\" font-family=\"Times New Roman,serif\" font-size=\"14.00\">Size </text>\n",
       "<text text-anchor=\"start\" x=\"402.5\" y=\"-935.8\" font-family=\"Times New Roman,serif\" font-style=\"italic\" font-size=\"14.00\">String</text>\n",
       "<text text-anchor=\"start\" x=\"438.5\" y=\"-935.8\" font-family=\"Times New Roman,serif\" font-size=\"14.00\"> </text>\n",
       "<polygon fill=\"none\" stroke=\"black\" points=\"363.5,-883 363.5,-920 516.5,-920 516.5,-883 363.5,-883\"/>\n",
       "<text text-anchor=\"start\" x=\"374.5\" y=\"-898.8\" font-family=\"Times New Roman,serif\" font-size=\"14.00\">Unit </text>\n",
       "<text text-anchor=\"start\" x=\"402.5\" y=\"-898.8\" font-family=\"Times New Roman,serif\" font-style=\"italic\" font-size=\"14.00\">String</text>\n",
       "<text text-anchor=\"start\" x=\"438.5\" y=\"-898.8\" font-family=\"Times New Roman,serif\" font-size=\"14.00\"> </text>\n",
       "<polygon fill=\"none\" stroke=\"black\" points=\"363.5,-846 363.5,-883 516.5,-883 516.5,-846 363.5,-846\"/>\n",
       "<text text-anchor=\"start\" x=\"374.5\" y=\"-861.8\" font-family=\"Times New Roman,serif\" font-size=\"14.00\">Department </text>\n",
       "<text text-anchor=\"start\" x=\"443.5\" y=\"-861.8\" font-family=\"Times New Roman,serif\" font-style=\"italic\" font-size=\"14.00\">String</text>\n",
       "<text text-anchor=\"start\" x=\"479.5\" y=\"-861.8\" font-family=\"Times New Roman,serif\" font-size=\"14.00\"> </text>\n",
       "<polygon fill=\"none\" stroke=\"black\" points=\"363.5,-809 363.5,-846 516.5,-846 516.5,-809 363.5,-809\"/>\n",
       "<text text-anchor=\"start\" x=\"374.5\" y=\"-824.8\" font-family=\"Times New Roman,serif\" font-size=\"14.00\">SubDepartment </text>\n",
       "<text text-anchor=\"start\" x=\"465.5\" y=\"-824.8\" font-family=\"Times New Roman,serif\" font-style=\"italic\" font-size=\"14.00\">String</text>\n",
       "<text text-anchor=\"start\" x=\"501.5\" y=\"-824.8\" font-family=\"Times New Roman,serif\" font-size=\"14.00\"> </text>\n",
       "<polygon fill=\"none\" stroke=\"black\" points=\"363.5,-772 363.5,-809 516.5,-809 516.5,-772 363.5,-772\"/>\n",
       "<text text-anchor=\"start\" x=\"374.5\" y=\"-787.8\" font-family=\"Times New Roman,serif\" font-size=\"14.00\">Category </text>\n",
       "<text text-anchor=\"start\" x=\"429.5\" y=\"-787.8\" font-family=\"Times New Roman,serif\" font-style=\"italic\" font-size=\"14.00\">String</text>\n",
       "<text text-anchor=\"start\" x=\"465.5\" y=\"-787.8\" font-family=\"Times New Roman,serif\" font-size=\"14.00\"> </text>\n",
       "<polygon fill=\"none\" stroke=\"black\" points=\"363.5,-735 363.5,-772 516.5,-772 516.5,-735 363.5,-735\"/>\n",
       "<text text-anchor=\"start\" x=\"374.5\" y=\"-750.8\" font-family=\"Times New Roman,serif\" font-size=\"14.00\">SubCategory </text>\n",
       "<text text-anchor=\"start\" x=\"452.5\" y=\"-750.8\" font-family=\"Times New Roman,serif\" font-style=\"italic\" font-size=\"14.00\">String</text>\n",
       "<text text-anchor=\"start\" x=\"488.5\" y=\"-750.8\" font-family=\"Times New Roman,serif\" font-size=\"14.00\"> </text>\n",
       "</g>\n",
       "<!-- ProductSales&#45;&gt;Products -->\n",
       "<g id=\"edge3\" class=\"edge\"><title>ProductSales-&gt;Products</title>\n",
       "<path fill=\"none\" stroke=\"black\" d=\"M162.006,-617.134C217.255,-681.449 290.816,-767.082 348.174,-833.851\"/>\n",
       "<polygon fill=\"black\" stroke=\"black\" points=\"345.56,-836.18 354.731,-841.485 350.87,-831.619 345.56,-836.18\"/>\n",
       "<text text-anchor=\"middle\" x=\"248\" y=\"-795.8\" font-family=\"Times New Roman,serif\" font-size=\"14.00\">ProductId → ProductId</text>\n",
       "</g>\n",
       "<!-- Shops -->\n",
       "<g id=\"node3\" class=\"node\"><title>Shops</title>\n",
       "<polygon fill=\"none\" stroke=\"black\" points=\"374.5,-672 374.5,-709 505.5,-709 505.5,-672 374.5,-672\"/>\n",
       "<text text-anchor=\"start\" x=\"421.5\" y=\"-687.8\" font-family=\"Times New Roman,serif\" font-weight=\"bold\" font-size=\"14.00\">Shops</text>\n",
       "<polygon fill=\"none\" stroke=\"black\" points=\"374.5,-635 374.5,-672 505.5,-672 505.5,-635 374.5,-635\"/>\n",
       "<text text-anchor=\"start\" x=\"385.5\" y=\"-650.8\" font-family=\"Times New Roman,serif\" font-weight=\"bold\" font-size=\"14.00\">Key</text>\n",
       "<text text-anchor=\"start\" x=\"410.5\" y=\"-650.8\" font-family=\"Times New Roman,serif\" font-size=\"14.00\">  ShopId </text>\n",
       "<text text-anchor=\"start\" x=\"464.5\" y=\"-650.8\" font-family=\"Times New Roman,serif\" font-style=\"italic\" font-size=\"14.00\">long</text>\n",
       "<text text-anchor=\"start\" x=\"490.5\" y=\"-650.8\" font-family=\"Times New Roman,serif\" font-size=\"14.00\"> </text>\n",
       "<polygon fill=\"none\" stroke=\"black\" points=\"374.5,-598 374.5,-635 505.5,-635 505.5,-598 374.5,-598\"/>\n",
       "<text text-anchor=\"start\" x=\"385.5\" y=\"-613.8\" font-family=\"Times New Roman,serif\" font-size=\"14.00\">ShopName </text>\n",
       "<text text-anchor=\"start\" x=\"452.5\" y=\"-613.8\" font-family=\"Times New Roman,serif\" font-style=\"italic\" font-size=\"14.00\">String</text>\n",
       "<text text-anchor=\"start\" x=\"488.5\" y=\"-613.8\" font-family=\"Times New Roman,serif\" font-size=\"14.00\"> </text>\n",
       "<polygon fill=\"none\" stroke=\"black\" points=\"374.5,-561 374.5,-598 505.5,-598 505.5,-561 374.5,-561\"/>\n",
       "<text text-anchor=\"start\" x=\"385.5\" y=\"-576.8\" font-family=\"Times New Roman,serif\" font-size=\"14.00\">Address </text>\n",
       "<text text-anchor=\"start\" x=\"437.5\" y=\"-576.8\" font-family=\"Times New Roman,serif\" font-style=\"italic\" font-size=\"14.00\">String</text>\n",
       "<text text-anchor=\"start\" x=\"473.5\" y=\"-576.8\" font-family=\"Times New Roman,serif\" font-size=\"14.00\"> </text>\n",
       "<polygon fill=\"none\" stroke=\"black\" points=\"374.5,-524 374.5,-561 505.5,-561 505.5,-524 374.5,-524\"/>\n",
       "<text text-anchor=\"start\" x=\"385.5\" y=\"-539.8\" font-family=\"Times New Roman,serif\" font-size=\"14.00\">ZipCode </text>\n",
       "<text text-anchor=\"start\" x=\"439.5\" y=\"-539.8\" font-family=\"Times New Roman,serif\" font-style=\"italic\" font-size=\"14.00\">long</text>\n",
       "<text text-anchor=\"start\" x=\"465.5\" y=\"-539.8\" font-family=\"Times New Roman,serif\" font-size=\"14.00\"> </text>\n",
       "<polygon fill=\"none\" stroke=\"black\" points=\"374.5,-487 374.5,-524 505.5,-524 505.5,-487 374.5,-487\"/>\n",
       "<text text-anchor=\"start\" x=\"385.5\" y=\"-502.8\" font-family=\"Times New Roman,serif\" font-size=\"14.00\">City </text>\n",
       "<text text-anchor=\"start\" x=\"413.5\" y=\"-502.8\" font-family=\"Times New Roman,serif\" font-style=\"italic\" font-size=\"14.00\">String</text>\n",
       "<text text-anchor=\"start\" x=\"449.5\" y=\"-502.8\" font-family=\"Times New Roman,serif\" font-size=\"14.00\"> </text>\n",
       "<polygon fill=\"none\" stroke=\"black\" points=\"374.5,-450 374.5,-487 505.5,-487 505.5,-450 374.5,-450\"/>\n",
       "<text text-anchor=\"start\" x=\"385.5\" y=\"-465.8\" font-family=\"Times New Roman,serif\" font-size=\"14.00\">Country </text>\n",
       "<text text-anchor=\"start\" x=\"435.5\" y=\"-465.8\" font-family=\"Times New Roman,serif\" font-style=\"italic\" font-size=\"14.00\">String</text>\n",
       "<text text-anchor=\"start\" x=\"471.5\" y=\"-465.8\" font-family=\"Times New Roman,serif\" font-size=\"14.00\"> </text>\n",
       "<polygon fill=\"none\" stroke=\"black\" points=\"374.5,-413 374.5,-450 505.5,-450 505.5,-413 374.5,-413\"/>\n",
       "<text text-anchor=\"start\" x=\"385.5\" y=\"-428.8\" font-family=\"Times New Roman,serif\" font-size=\"14.00\">Latitude </text>\n",
       "<text text-anchor=\"start\" x=\"434.5\" y=\"-428.8\" font-family=\"Times New Roman,serif\" font-style=\"italic\" font-size=\"14.00\">double</text>\n",
       "<text text-anchor=\"start\" x=\"474.5\" y=\"-428.8\" font-family=\"Times New Roman,serif\" font-size=\"14.00\"> </text>\n",
       "<polygon fill=\"none\" stroke=\"black\" points=\"374.5,-376 374.5,-413 505.5,-413 505.5,-376 374.5,-376\"/>\n",
       "<text text-anchor=\"start\" x=\"385.5\" y=\"-391.8\" font-family=\"Times New Roman,serif\" font-size=\"14.00\">Longitude </text>\n",
       "<text text-anchor=\"start\" x=\"446.5\" y=\"-391.8\" font-family=\"Times New Roman,serif\" font-style=\"italic\" font-size=\"14.00\">double</text>\n",
       "<text text-anchor=\"start\" x=\"486.5\" y=\"-391.8\" font-family=\"Times New Roman,serif\" font-size=\"14.00\"> </text>\n",
       "<polygon fill=\"none\" stroke=\"black\" points=\"374.5,-339 374.5,-376 505.5,-376 505.5,-339 374.5,-339\"/>\n",
       "<text text-anchor=\"start\" x=\"385.5\" y=\"-354.8\" font-family=\"Times New Roman,serif\" font-size=\"14.00\">Company </text>\n",
       "<text text-anchor=\"start\" x=\"444.5\" y=\"-354.8\" font-family=\"Times New Roman,serif\" font-style=\"italic\" font-size=\"14.00\">String</text>\n",
       "<text text-anchor=\"start\" x=\"480.5\" y=\"-354.8\" font-family=\"Times New Roman,serif\" font-size=\"14.00\"> </text>\n",
       "</g>\n",
       "<!-- ProductSales&#45;&gt;Shops -->\n",
       "<g id=\"edge2\" class=\"edge\"><title>ProductSales-&gt;Shops</title>\n",
       "<path fill=\"none\" stroke=\"black\" d=\"M162.006,-524C219.62,-524 297.148,-524 355.448,-524\"/>\n",
       "<polygon fill=\"black\" stroke=\"black\" points=\"355.733,-527.5 365.733,-524 355.733,-520.5 355.733,-527.5\"/>\n",
       "<text text-anchor=\"middle\" x=\"248\" y=\"-527.8\" font-family=\"Times New Roman,serif\" font-size=\"14.00\">ShopId → ShopId</text>\n",
       "</g>\n",
       "<!-- CompetitorPrices -->\n",
       "<g id=\"node4\" class=\"node\"><title>CompetitorPrices</title>\n",
       "<polygon fill=\"none\" stroke=\"black\" points=\"342.5,-275 342.5,-312 537.5,-312 537.5,-275 342.5,-275\"/>\n",
       "<text text-anchor=\"start\" x=\"385.5\" y=\"-290.8\" font-family=\"Times New Roman,serif\" font-weight=\"bold\" font-size=\"14.00\">CompetitorPrices</text>\n",
       "<polygon fill=\"none\" stroke=\"black\" points=\"342.5,-238 342.5,-275 537.5,-275 537.5,-238 342.5,-238\"/>\n",
       "<text text-anchor=\"start\" x=\"353.5\" y=\"-253.8\" font-family=\"Times New Roman,serif\" font-weight=\"bold\" font-size=\"14.00\">Key</text>\n",
       "<text text-anchor=\"start\" x=\"378.5\" y=\"-253.8\" font-family=\"Times New Roman,serif\" font-size=\"14.00\">  ProductId </text>\n",
       "<text text-anchor=\"start\" x=\"447.5\" y=\"-253.8\" font-family=\"Times New Roman,serif\" font-style=\"italic\" font-size=\"14.00\">long</text>\n",
       "<text text-anchor=\"start\" x=\"473.5\" y=\"-253.8\" font-family=\"Times New Roman,serif\" font-size=\"14.00\"> </text>\n",
       "<polygon fill=\"none\" stroke=\"black\" points=\"342.5,-201 342.5,-238 537.5,-238 537.5,-201 342.5,-201\"/>\n",
       "<text text-anchor=\"start\" x=\"353.5\" y=\"-216.8\" font-family=\"Times New Roman,serif\" font-weight=\"bold\" font-size=\"14.00\">Key</text>\n",
       "<text text-anchor=\"start\" x=\"378.5\" y=\"-216.8\" font-family=\"Times New Roman,serif\" font-size=\"14.00\">  CompetitorShopId </text>\n",
       "<text text-anchor=\"start\" x=\"496.5\" y=\"-216.8\" font-family=\"Times New Roman,serif\" font-style=\"italic\" font-size=\"14.00\">long</text>\n",
       "<text text-anchor=\"start\" x=\"522.5\" y=\"-216.8\" font-family=\"Times New Roman,serif\" font-size=\"14.00\"> </text>\n",
       "<polygon fill=\"none\" stroke=\"black\" points=\"342.5,-164 342.5,-201 537.5,-201 537.5,-164 342.5,-164\"/>\n",
       "<text text-anchor=\"start\" x=\"353.5\" y=\"-179.8\" font-family=\"Times New Roman,serif\" font-weight=\"bold\" font-size=\"14.00\">Key</text>\n",
       "<text text-anchor=\"start\" x=\"378.5\" y=\"-179.8\" font-family=\"Times New Roman,serif\" font-size=\"14.00\">  ShopId </text>\n",
       "<text text-anchor=\"start\" x=\"432.5\" y=\"-179.8\" font-family=\"Times New Roman,serif\" font-style=\"italic\" font-size=\"14.00\">long</text>\n",
       "<text text-anchor=\"start\" x=\"458.5\" y=\"-179.8\" font-family=\"Times New Roman,serif\" font-size=\"14.00\"> </text>\n",
       "<polygon fill=\"none\" stroke=\"black\" points=\"342.5,-127 342.5,-164 537.5,-164 537.5,-127 342.5,-127\"/>\n",
       "<text text-anchor=\"start\" x=\"353.5\" y=\"-142.8\" font-family=\"Times New Roman,serif\" font-size=\"14.00\">CompetitorPrice </text>\n",
       "<text text-anchor=\"start\" x=\"450.5\" y=\"-142.8\" font-family=\"Times New Roman,serif\" font-style=\"italic\" font-size=\"14.00\">double</text>\n",
       "<text text-anchor=\"start\" x=\"490.5\" y=\"-142.8\" font-family=\"Times New Roman,serif\" font-size=\"14.00\"> </text>\n",
       "</g>\n",
       "<!-- ProductSales&#45;&gt;CompetitorPrices -->\n",
       "<g id=\"edge1\" class=\"edge\"><title>ProductSales-&gt;CompetitorPrices</title>\n",
       "<path fill=\"none\" stroke=\"black\" stroke-dasharray=\"5,2\" d=\"M162.006,-455.776C210.335,-414.564 272.677,-361.403 325.928,-315.994\"/>\n",
       "<polygon fill=\"black\" stroke=\"black\" points=\"328.378,-318.505 333.716,-309.353 323.836,-313.178 328.378,-318.505\"/>\n",
       "<text text-anchor=\"middle\" x=\"248\" y=\"-452.8\" font-family=\"Times New Roman,serif\" font-size=\"14.00\">ProductId → ProductId</text>\n",
       "<text text-anchor=\"middle\" x=\"248\" y=\"-437.8\" font-family=\"Times New Roman,serif\" font-size=\"14.00\">ShopId → ShopId</text>\n",
       "</g>\n",
       "<!-- CompetitorsShop -->\n",
       "<g id=\"node5\" class=\"node\"><title>CompetitorsShop</title>\n",
       "<polygon fill=\"none\" stroke=\"black\" points=\"823,-511 823,-548 1043,-548 1043,-511 823,-511\"/>\n",
       "<text text-anchor=\"start\" x=\"879.5\" y=\"-526.8\" font-family=\"Times New Roman,serif\" font-weight=\"bold\" font-size=\"14.00\">CompetitorsShop</text>\n",
       "<polygon fill=\"none\" stroke=\"black\" points=\"823,-474 823,-511 1043,-511 1043,-474 823,-474\"/>\n",
       "<text text-anchor=\"start\" x=\"834\" y=\"-489.8\" font-family=\"Times New Roman,serif\" font-weight=\"bold\" font-size=\"14.00\">Key</text>\n",
       "<text text-anchor=\"start\" x=\"859\" y=\"-489.8\" font-family=\"Times New Roman,serif\" font-size=\"14.00\">  CompetitorShopId </text>\n",
       "<text text-anchor=\"start\" x=\"977\" y=\"-489.8\" font-family=\"Times New Roman,serif\" font-style=\"italic\" font-size=\"14.00\">long</text>\n",
       "<text text-anchor=\"start\" x=\"1003\" y=\"-489.8\" font-family=\"Times New Roman,serif\" font-size=\"14.00\"> </text>\n",
       "<polygon fill=\"none\" stroke=\"black\" points=\"823,-437 823,-474 1043,-474 1043,-437 823,-437\"/>\n",
       "<text text-anchor=\"start\" x=\"834\" y=\"-452.8\" font-family=\"Times New Roman,serif\" font-size=\"14.00\">CompetitorShopName </text>\n",
       "<text text-anchor=\"start\" x=\"964\" y=\"-452.8\" font-family=\"Times New Roman,serif\" font-style=\"italic\" font-size=\"14.00\">String</text>\n",
       "<text text-anchor=\"start\" x=\"1000\" y=\"-452.8\" font-family=\"Times New Roman,serif\" font-size=\"14.00\"> </text>\n",
       "<polygon fill=\"none\" stroke=\"black\" points=\"823,-400 823,-437 1043,-437 1043,-400 823,-400\"/>\n",
       "<text text-anchor=\"start\" x=\"834\" y=\"-415.8\" font-family=\"Times New Roman,serif\" font-size=\"14.00\">CompetitorShopAdress </text>\n",
       "<text text-anchor=\"start\" x=\"972\" y=\"-415.8\" font-family=\"Times New Roman,serif\" font-style=\"italic\" font-size=\"14.00\">String</text>\n",
       "<text text-anchor=\"start\" x=\"1008\" y=\"-415.8\" font-family=\"Times New Roman,serif\" font-size=\"14.00\"> </text>\n",
       "<polygon fill=\"none\" stroke=\"black\" points=\"823,-363 823,-400 1043,-400 1043,-363 823,-363\"/>\n",
       "<text text-anchor=\"start\" x=\"834\" y=\"-378.8\" font-family=\"Times New Roman,serif\" font-size=\"14.00\">CompetitorShopZipCode </text>\n",
       "<text text-anchor=\"start\" x=\"982\" y=\"-378.8\" font-family=\"Times New Roman,serif\" font-style=\"italic\" font-size=\"14.00\">long</text>\n",
       "<text text-anchor=\"start\" x=\"1008\" y=\"-378.8\" font-family=\"Times New Roman,serif\" font-size=\"14.00\"> </text>\n",
       "<polygon fill=\"none\" stroke=\"black\" points=\"823,-326 823,-363 1043,-363 1043,-326 823,-326\"/>\n",
       "<text text-anchor=\"start\" x=\"834\" y=\"-341.8\" font-family=\"Times New Roman,serif\" font-size=\"14.00\">CompetitorShopCity </text>\n",
       "<text text-anchor=\"start\" x=\"955\" y=\"-341.8\" font-family=\"Times New Roman,serif\" font-style=\"italic\" font-size=\"14.00\">String</text>\n",
       "<text text-anchor=\"start\" x=\"991\" y=\"-341.8\" font-family=\"Times New Roman,serif\" font-size=\"14.00\"> </text>\n",
       "<polygon fill=\"none\" stroke=\"black\" points=\"823,-289 823,-326 1043,-326 1043,-289 823,-289\"/>\n",
       "<text text-anchor=\"start\" x=\"834\" y=\"-304.8\" font-family=\"Times New Roman,serif\" font-size=\"14.00\">CompetitorShopCountry </text>\n",
       "<text text-anchor=\"start\" x=\"978\" y=\"-304.8\" font-family=\"Times New Roman,serif\" font-style=\"italic\" font-size=\"14.00\">String</text>\n",
       "<text text-anchor=\"start\" x=\"1014\" y=\"-304.8\" font-family=\"Times New Roman,serif\" font-size=\"14.00\"> </text>\n",
       "<polygon fill=\"none\" stroke=\"black\" points=\"823,-252 823,-289 1043,-289 1043,-252 823,-252\"/>\n",
       "<text text-anchor=\"start\" x=\"834\" y=\"-267.8\" font-family=\"Times New Roman,serif\" font-size=\"14.00\">CompetitorShopLatitude </text>\n",
       "<text text-anchor=\"start\" x=\"977\" y=\"-267.8\" font-family=\"Times New Roman,serif\" font-style=\"italic\" font-size=\"14.00\">double</text>\n",
       "<text text-anchor=\"start\" x=\"1017\" y=\"-267.8\" font-family=\"Times New Roman,serif\" font-size=\"14.00\"> </text>\n",
       "<polygon fill=\"none\" stroke=\"black\" points=\"823,-215 823,-252 1043,-252 1043,-215 823,-215\"/>\n",
       "<text text-anchor=\"start\" x=\"834\" y=\"-230.8\" font-family=\"Times New Roman,serif\" font-size=\"14.00\">CompetitorShopLongitude </text>\n",
       "<text text-anchor=\"start\" x=\"988\" y=\"-230.8\" font-family=\"Times New Roman,serif\" font-style=\"italic\" font-size=\"14.00\">double</text>\n",
       "<text text-anchor=\"start\" x=\"1028\" y=\"-230.8\" font-family=\"Times New Roman,serif\" font-size=\"14.00\"> </text>\n",
       "<polygon fill=\"none\" stroke=\"black\" points=\"823,-178 823,-215 1043,-215 1043,-178 823,-178\"/>\n",
       "<text text-anchor=\"start\" x=\"834\" y=\"-193.8\" font-family=\"Times New Roman,serif\" font-size=\"14.00\">CompetitorShopCompany </text>\n",
       "<text text-anchor=\"start\" x=\"987\" y=\"-193.8\" font-family=\"Times New Roman,serif\" font-style=\"italic\" font-size=\"14.00\">String</text>\n",
       "<text text-anchor=\"start\" x=\"1023\" y=\"-193.8\" font-family=\"Times New Roman,serif\" font-size=\"14.00\"> </text>\n",
       "</g>\n",
       "<!-- CompetitorPrices&#45;&gt;CompetitorsShop -->\n",
       "<g id=\"edge5\" class=\"edge\"><title>CompetitorPrices-&gt;CompetitorsShop</title>\n",
       "<path fill=\"none\" stroke=\"black\" d=\"M545.035,-250.414C621.008,-272.518 724.237,-302.552 804.967,-326.04\"/>\n",
       "<polygon fill=\"black\" stroke=\"black\" points=\"804.118,-329.438 814.698,-328.871 806.074,-322.717 804.118,-329.438\"/>\n",
       "<text text-anchor=\"middle\" x=\"680\" y=\"-323.8\" font-family=\"Times New Roman,serif\" font-size=\"14.00\">CompetitorShopId → CompetitorShopId</text>\n",
       "</g>\n",
       "<!-- DistanceMatrix -->\n",
       "<g id=\"node6\" class=\"node\"><title>DistanceMatrix</title>\n",
       "<polygon fill=\"none\" stroke=\"black\" points=\"829,-115 829,-152 1038,-152 1038,-115 829,-115\"/>\n",
       "<text text-anchor=\"start\" x=\"885.5\" y=\"-130.8\" font-family=\"Times New Roman,serif\" font-weight=\"bold\" font-size=\"14.00\">DistanceMatrix</text>\n",
       "<polygon fill=\"none\" stroke=\"black\" points=\"829,-78 829,-115 1038,-115 1038,-78 829,-78\"/>\n",
       "<text text-anchor=\"start\" x=\"840\" y=\"-93.8\" font-family=\"Times New Roman,serif\" font-weight=\"bold\" font-size=\"14.00\">Key</text>\n",
       "<text text-anchor=\"start\" x=\"865\" y=\"-93.8\" font-family=\"Times New Roman,serif\" font-size=\"14.00\">  ShopId </text>\n",
       "<text text-anchor=\"start\" x=\"919\" y=\"-93.8\" font-family=\"Times New Roman,serif\" font-style=\"italic\" font-size=\"14.00\">long</text>\n",
       "<text text-anchor=\"start\" x=\"945\" y=\"-93.8\" font-family=\"Times New Roman,serif\" font-size=\"14.00\"> </text>\n",
       "<polygon fill=\"none\" stroke=\"black\" points=\"829,-41 829,-78 1038,-78 1038,-41 829,-41\"/>\n",
       "<text text-anchor=\"start\" x=\"840\" y=\"-56.8\" font-family=\"Times New Roman,serif\" font-weight=\"bold\" font-size=\"14.00\">Key</text>\n",
       "<text text-anchor=\"start\" x=\"865\" y=\"-56.8\" font-family=\"Times New Roman,serif\" font-size=\"14.00\">  CompetitorShopId </text>\n",
       "<text text-anchor=\"start\" x=\"983\" y=\"-56.8\" font-family=\"Times New Roman,serif\" font-style=\"italic\" font-size=\"14.00\">long</text>\n",
       "<text text-anchor=\"start\" x=\"1009\" y=\"-56.8\" font-family=\"Times New Roman,serif\" font-size=\"14.00\"> </text>\n",
       "<polygon fill=\"none\" stroke=\"black\" points=\"829,-4 829,-41 1038,-41 1038,-4 829,-4\"/>\n",
       "<text text-anchor=\"start\" x=\"840\" y=\"-19.8\" font-family=\"Times New Roman,serif\" font-size=\"14.00\">Competitor distance KM </text>\n",
       "<text text-anchor=\"start\" x=\"983\" y=\"-19.8\" font-family=\"Times New Roman,serif\" font-style=\"italic\" font-size=\"14.00\">double</text>\n",
       "<text text-anchor=\"start\" x=\"1023\" y=\"-19.8\" font-family=\"Times New Roman,serif\" font-size=\"14.00\"> </text>\n",
       "</g>\n",
       "<!-- CompetitorPrices&#45;&gt;DistanceMatrix -->\n",
       "<g id=\"edge4\" class=\"edge\"><title>CompetitorPrices-&gt;DistanceMatrix</title>\n",
       "<path fill=\"none\" stroke=\"black\" d=\"M545.035,-189.799C622.769,-167.34 729.036,-136.639 810.543,-113.09\"/>\n",
       "<polygon fill=\"black\" stroke=\"black\" points=\"811.721,-116.393 820.356,-110.255 809.778,-109.668 811.721,-116.393\"/>\n",
       "<text text-anchor=\"middle\" x=\"680\" y=\"-199.8\" font-family=\"Times New Roman,serif\" font-size=\"14.00\">CompetitorShopId → CompetitorShopId</text>\n",
       "<text text-anchor=\"middle\" x=\"680\" y=\"-184.8\" font-family=\"Times New Roman,serif\" font-size=\"14.00\">ShopId → ShopId</text>\n",
       "</g>\n",
       "</g>\n",
       "</svg>"
      ],
      "text/plain": [
       "<IPython.core.display.SVG object>"
      ]
     },
     "execution_count": 13,
     "metadata": {},
     "output_type": "execute_result"
    }
   ],
   "source": [
    "price_index_cube.schema"
   ]
  },
  {
   "cell_type": "code",
   "execution_count": 14,
   "metadata": {
    "execution": {
     "iopub.execute_input": "2020-07-17T06:16:37.753005Z",
     "iopub.status.busy": "2020-07-17T06:16:37.753005Z",
     "iopub.status.idle": "2020-07-17T06:16:37.757983Z",
     "shell.execute_reply": "2020-07-17T06:16:37.757013Z",
     "shell.execute_reply.started": "2020-07-17T06:16:37.753005Z"
    }
   },
   "outputs": [],
   "source": [
    "h = price_index_cube.hierarchies\n",
    "m = price_index_cube.measures\n",
    "lvl = price_index_cube.levels"
   ]
  },
  {
   "cell_type": "code",
   "execution_count": 15,
   "metadata": {
    "execution": {
     "iopub.execute_input": "2020-07-17T06:16:37.758980Z",
     "iopub.status.busy": "2020-07-17T06:16:37.758980Z",
     "iopub.status.idle": "2020-07-17T06:16:37.783949Z",
     "shell.execute_reply": "2020-07-17T06:16:37.783949Z",
     "shell.execute_reply.started": "2020-07-17T06:16:37.758980Z"
    }
   },
   "outputs": [
    {
     "data": {
      "application/json": {
       "Competitor distance KM.VALUE": {
        "formatter": "DOUBLE[#,###.00]",
        "visible": true
       },
       "CompetitorPrice.VALUE": {
        "formatter": "DOUBLE[#,###.00]",
        "visible": true
       },
       "CompetitorShopLatitude.VALUE": {
        "formatter": "DOUBLE[#,###.00]",
        "visible": true
       },
       "CompetitorShopLongitude.VALUE": {
        "formatter": "DOUBLE[#,###.00]",
        "visible": true
       },
       "Latitude.VALUE": {
        "formatter": "DOUBLE[#,###.00]",
        "visible": true
       },
       "Longitude.VALUE": {
        "formatter": "DOUBLE[#,###.00]",
        "visible": true
       },
       "Margin.MEAN": {
        "formatter": "DOUBLE[#,###.00]",
        "visible": true
       },
       "Margin.SUM": {
        "formatter": "DOUBLE[#,###.00]",
        "visible": true
       },
       "SellingPrice.MEAN": {
        "formatter": "DOUBLE[#,###.00]",
        "visible": true
       },
       "SellingPrice.SUM": {
        "formatter": "DOUBLE[#,###.00]",
        "visible": true
       },
       "contributors.COUNT": {
        "formatter": null,
        "visible": true
       }
      },
      "text/html": [
       "<ul>\n",
       "<li>Measures\n",
       "  <ul>\n",
       "  <li>Competitor distance KM.VALUE\n",
       "    <ul>\n",
       "    <li>formatter: DOUBLE[#,###.00]</li>\n",
       "    <li>visible: True</li>\n",
       "    </ul>\n",
       "  </li>\n",
       "  <li>CompetitorPrice.VALUE\n",
       "    <ul>\n",
       "    <li>formatter: DOUBLE[#,###.00]</li>\n",
       "    <li>visible: True</li>\n",
       "    </ul>\n",
       "  </li>\n",
       "  <li>CompetitorShopLatitude.VALUE\n",
       "    <ul>\n",
       "    <li>formatter: DOUBLE[#,###.00]</li>\n",
       "    <li>visible: True</li>\n",
       "    </ul>\n",
       "  </li>\n",
       "  <li>CompetitorShopLongitude.VALUE\n",
       "    <ul>\n",
       "    <li>formatter: DOUBLE[#,###.00]</li>\n",
       "    <li>visible: True</li>\n",
       "    </ul>\n",
       "  </li>\n",
       "  <li>Latitude.VALUE\n",
       "    <ul>\n",
       "    <li>formatter: DOUBLE[#,###.00]</li>\n",
       "    <li>visible: True</li>\n",
       "    </ul>\n",
       "  </li>\n",
       "  <li>Longitude.VALUE\n",
       "    <ul>\n",
       "    <li>formatter: DOUBLE[#,###.00]</li>\n",
       "    <li>visible: True</li>\n",
       "    </ul>\n",
       "  </li>\n",
       "  <li>Margin.MEAN\n",
       "    <ul>\n",
       "    <li>formatter: DOUBLE[#,###.00]</li>\n",
       "    <li>visible: True</li>\n",
       "    </ul>\n",
       "  </li>\n",
       "  <li>Margin.SUM\n",
       "    <ul>\n",
       "    <li>formatter: DOUBLE[#,###.00]</li>\n",
       "    <li>visible: True</li>\n",
       "    </ul>\n",
       "  </li>\n",
       "  <li>SellingPrice.MEAN\n",
       "    <ul>\n",
       "    <li>formatter: DOUBLE[#,###.00]</li>\n",
       "    <li>visible: True</li>\n",
       "    </ul>\n",
       "  </li>\n",
       "  <li>SellingPrice.SUM\n",
       "    <ul>\n",
       "    <li>formatter: DOUBLE[#,###.00]</li>\n",
       "    <li>visible: True</li>\n",
       "    </ul>\n",
       "  </li>\n",
       "  <li>contributors.COUNT\n",
       "    <ul>\n",
       "    <li>formatter: None</li>\n",
       "    <li>visible: True</li>\n",
       "    </ul>\n",
       "  </li>\n",
       "  </ul>\n",
       "</li>\n",
       "</ul>\n"
      ],
      "text/plain": [
       "Measures()"
      ]
     },
     "execution_count": 15,
     "metadata": {
      "application/json": {
       "expanded": false,
       "root": "Measures"
      }
     },
     "output_type": "execute_result"
    }
   ],
   "source": [
    "m"
   ]
  },
  {
   "cell_type": "markdown",
   "metadata": {},
   "source": [
    "We can see a _SUM_ and _MEAN_ measure is created columns of type double/float for the base store - _ProductSales_.  \n",
    "A _VALUE_ measure is created for columns of type double/float in the other referenced stores.  \n",
    "\n",
    "With the cube created, let's start by computing the price index per shop."
   ]
  },
  {
   "cell_type": "markdown",
   "metadata": {},
   "source": [
    "### 1. Computing the price index per shop\n",
    "\n",
    "There are different existing formulas for the price index. The formula we will use in this example compares a product price to the average price found among the local competitors of a particular shop, measuring at which percentage of this average competitors price the product is.\n",
    "\n",
    "We will weight the price index indicator by the margin when aggregating above shop and product level. This is so that we can later optimize the price index for products that contribute the most to the margin. Other commonly used formulas weight by sales quantity or revenue.\n",
    "\n",
    "#### Price index formula:\n",
    "\n",
    "# $100 \\times \\frac{\\sum_{s,p \\in (Shops,Products)}\\frac{Selling Price(s,p)}{Average Competitor Price(s,p)} \\times Margin(s,p)}{\\sum_{s,p \\in (Shops,Products)}Margin(s,p)}$  \n",
    "\n",
    "Let's create a measure to get the mean of _CompetitorPrice_ which will be used to derive the price index."
   ]
  },
  {
   "cell_type": "code",
   "execution_count": 16,
   "metadata": {
    "execution": {
     "iopub.execute_input": "2020-07-17T06:16:37.784922Z",
     "iopub.status.busy": "2020-07-17T06:16:37.784922Z",
     "iopub.status.idle": "2020-07-17T06:16:38.027262Z",
     "shell.execute_reply": "2020-07-17T06:16:38.027262Z",
     "shell.execute_reply.started": "2020-07-17T06:16:37.784922Z"
    }
   },
   "outputs": [],
   "source": [
    "m[\"CompetitorPrice.MEAN\"] = tt.agg.mean(m[\"CompetitorPrice.VALUE\"])\n",
    "m[\"CompetitorPrice.MEAN\"].formatter = \"DOUBLE[#,###.00]\""
   ]
  },
  {
   "cell_type": "markdown",
   "metadata": {},
   "source": [
    "We see how the weight price index indicator can be achieved in the next few cells.  \n",
    "Realize how we are setting the scope on _ProductId_ and _ShopId_? This will ensure the summation of the various measures at the _Shops_ and _Product_ level as required by the formula:\n",
    "\n",
    "# ${\\sum_{s,p \\in (Shops,Products)}\\frac{Selling Price(s,p)}{Average Competitor Price(s,p)} \\times Margin(s,p)}$"
   ]
  },
  {
   "cell_type": "code",
   "execution_count": 17,
   "metadata": {
    "execution": {
     "iopub.execute_input": "2020-07-17T06:16:38.028260Z",
     "iopub.status.busy": "2020-07-17T06:16:38.028260Z",
     "iopub.status.idle": "2020-07-17T06:16:38.113032Z",
     "shell.execute_reply": "2020-07-17T06:16:38.113032Z",
     "shell.execute_reply.started": "2020-07-17T06:16:38.028260Z"
    }
   },
   "outputs": [],
   "source": [
    "price_index_numerator = tt.agg.sum(\n",
    "    (m[\"SellingPrice.MEAN\"] * m[\"Margin.SUM\"]) / m[\"CompetitorPrice.MEAN\"],\n",
    "    scope=tt.scope.origin(lvl[\"ProductId\"], lvl[\"ShopId\"]),\n",
    ")"
   ]
  },
  {
   "cell_type": "markdown",
   "metadata": {},
   "source": [
    "Finally, we calculate the contribution of the product towards the total margin."
   ]
  },
  {
   "cell_type": "code",
   "execution_count": 18,
   "metadata": {
    "execution": {
     "iopub.execute_input": "2020-07-17T06:16:38.114030Z",
     "iopub.status.busy": "2020-07-17T06:16:38.114030Z",
     "iopub.status.idle": "2020-07-17T06:16:38.153923Z",
     "shell.execute_reply": "2020-07-17T06:16:38.153923Z",
     "shell.execute_reply.started": "2020-07-17T06:16:38.114030Z"
    }
   },
   "outputs": [],
   "source": [
    "m[\"Price Index\"] = price_index_numerator / m[\"Margin.SUM\"]"
   ]
  },
  {
   "cell_type": "markdown",
   "metadata": {},
   "source": [
    "We can now have the price index per shop and product.  \n",
    "\n",
    "atoti allows us to do [modeling with sampled size](https://docs.atoti.io/0.4.1/tutorial/02-Configuration.html#Sampling-mode) of the data.  \n",
    "As we are currently in sampling mode, let's trigger full data load to do some visualizations."
   ]
  },
  {
   "cell_type": "code",
   "execution_count": 19,
   "metadata": {
    "execution": {
     "iopub.execute_input": "2020-07-17T06:16:38.154920Z",
     "iopub.status.busy": "2020-07-17T06:16:38.154920Z",
     "iopub.status.idle": "2020-07-17T06:16:41.746352Z",
     "shell.execute_reply": "2020-07-17T06:16:41.746352Z",
     "shell.execute_reply.started": "2020-07-17T06:16:38.154920Z"
    }
   },
   "outputs": [],
   "source": [
    "session.load_all_data()"
   ]
  },
  {
   "cell_type": "markdown",
   "metadata": {},
   "source": [
    "Let's visualize the price index per shop."
   ]
  },
  {
   "cell_type": "code",
   "execution_count": 21,
   "metadata": {
    "atoti": {
     "height": 395,
     "state": {
      "name": "Price index by shops",
      "type": "container",
      "value": {
       "body": {
        "configuration": {
         "tabular": {
          "addButtonFilter": "numeric",
          "cellRenderers": [
           "tree-layout"
          ],
          "columnOrder": {
           "args": {
            "orderedColumns": [
             "c-treeCells-member",
             "[Measures].[Price Index]"
            ]
           },
           "key": "explicit"
          },
          "columns": [
           {
            "key": "[Measures].[CompetitorPrice.MEAN]",
            "width": 153
           },
           {
            "key": "c-treeCells-member",
            "width": 359
           }
          ],
          "columnsGroups": [
           {
            "captionProducer": "firstColumn",
            "cellFactory": "kpi-status",
            "selector": "kpi-status"
           },
           {
            "captionProducer": "firstColumn",
            "cellFactory": "lookup",
            "selector": "lookup"
           },
           {
            "captionProducer": "expiry",
            "cellFactory": "expiry",
            "selector": "kpi-expiry"
           },
           {
            "captionProducer": "columnMerge",
            "cellFactory": {
             "args": {},
             "key": "treeCells"
            },
            "selector": "member"
           }
          ],
          "defaultOptions": {},
          "expansion": {
           "automaticExpansion": true
          },
          "hideAddButton": true,
          "pinnedHeaderSelector": "member",
          "sortingMode": "non-breaking",
          "statisticsShown": true
         }
        },
        "contextValues": {},
        "mdx": "SELECT NON EMPTY Order(Hierarchize(Union(Crossjoin(Hierarchize(DrilldownLevel([Hierarchies].[ShopId].[ALL].[AllMember])), Hierarchize(DrilldownLevel([Hierarchies].[ShopName].[ALL].[AllMember])), [Hierarchies].[ProductName].DefaultMember), Crossjoin([Hierarchies].[ShopId].[ALL].[AllMember].[7], [Hierarchies].[ShopName].[ALL].[AllMember].[MyShop Paris 6], [Hierarchies].[ProductName].[ProductName].Members))), [Measures].[Price Index], DESC) ON ROWS, NON EMPTY {[Measures].[Price Index], [Measures].[SellingPrice.MEAN], [Measures].[CompetitorPrice.MEAN]} ON COLUMNS FROM [PriceIndexCube] CELL PROPERTIES VALUE, FORMATTED_VALUE, BACK_COLOR, FORE_COLOR, FONT_FLAGS",
        "ranges": {
         "column": {
          "chunkSize": 50,
          "thresholdPercentage": 0.2
         },
         "row": {
          "chunkSize": 2000,
          "thresholdPercentage": 0.1
         }
        },
        "serverUrl": "",
        "updateMode": "once"
       },
       "containerKey": "pivot-table",
       "showTitleBar": false,
       "style": {}
      }
     }
    },
    "execution": {
     "iopub.execute_input": "2020-07-17T06:16:41.748306Z",
     "iopub.status.busy": "2020-07-17T06:16:41.748306Z"
    }
   },
   "outputs": [
    {
     "data": {
      "application/vnd.atoti.v0+json": {
       "cube": "PriceIndexCube",
       "name": "Price index by shops",
       "session": "Unnamed"
      },
      "text/plain": [
       "Install and enable the atoti JupyterLab extension to see this widget."
      ]
     },
     "metadata": {},
     "output_type": "display_data"
    }
   ],
   "source": [
    "price_index_cube.visualize(\"Price index by shops\")"
   ]
  },
  {
   "cell_type": "markdown",
   "metadata": {},
   "source": [
    "### 2. Computing number of Competitors per Distance Bucket  \n",
    "\n",
    "There are many ways to do compute the number of competitors per distance buckets. However, we are going to showcase how we can make use of the simulations to create the distance buckets. The advantage of doing so is that we can easily create new distance bucket with minimum coding.\n",
    "\n",
    "Let's create a measure call `m[\"Distance Threshold\"]` that contains the value for the distance threshold for each bucket and we start by looking at the number of competitors within 1km distance radius from our shop."
   ]
  },
  {
   "cell_type": "code",
   "execution_count": 21,
   "metadata": {
    "execution": {
     "iopub.execute_input": "2020-07-17T06:16:45.791489Z",
     "iopub.status.busy": "2020-07-17T06:16:41.752297Z",
     "iopub.status.idle": "2020-07-17T06:16:41.753326Z",
     "shell.execute_reply": "2020-07-17T06:16:46.040822Z",
     "shell.execute_reply.started": "2020-07-17T06:16:45.791489Z"
    }
   },
   "outputs": [],
   "source": [
    "m[\"Distance Threshold\"] = 1"
   ]
  },
  {
   "cell_type": "markdown",
   "metadata": {},
   "source": [
    "Due to the join to the _CompetitorsPrice_ store, the `m[\"Contributor.COUNT]` returned is based on the products.  \n",
    "We want to obtain the number of distinct competitors' shops that sell the same products as us, not the number of products.  \n",
    "\n",
    "To do so, we look at the the average distance between the shop and its competitor, returning a count of 1 if it is located within our threshold radius."
   ]
  },
  {
   "cell_type": "code",
   "execution_count": 22,
   "metadata": {
    "execution": {
     "iopub.execute_input": "2020-07-17T06:16:46.040822Z",
     "iopub.status.busy": "2020-07-17T06:16:41.754309Z",
     "iopub.status.idle": "2020-07-17T06:16:41.755288Z",
     "shell.execute_reply": "2020-07-17T06:16:46.350030Z",
     "shell.execute_reply.started": "2020-07-17T06:16:46.040822Z"
    }
   },
   "outputs": [],
   "source": [
    "m[\"Count within distance threshold\"] = tt.agg.sum(\n",
    "    tt.where(\n",
    "        tt.agg.mean(m[\"Competitor distance KM.VALUE\"]) < m[\"Distance Threshold\"],\n",
    "        1\n",
    "    ),\n",
    "    scope=tt.scope.origin(lvl[\"ShopId\"], lvl[\"CompetitorShopId\"]),\n",
    ")"
   ]
  },
  {
   "cell_type": "markdown",
   "metadata": {},
   "source": [
    "Naturally we can quickly use Pandas to derive the same value. However, when we use this one time setup together with simulations, we have the below benefits:\n",
    "- easily add / delete the distance buckets\n",
    "- ability to drill down on the data for each distance range to perform further analysis\n",
    "\n",
    "#### Setting up simulation for distance buckets\n",
    "We setup a simulation where we can replace the threshold value in order to be able to create scenarios for other ranges of distance.  \n",
    "We name this base scenario \"1km\"."
   ]
  },
  {
   "cell_type": "code",
   "execution_count": 23,
   "metadata": {
    "execution": {
     "iopub.execute_input": "2020-07-17T06:16:46.350030Z",
     "iopub.status.busy": "2020-07-17T06:16:41.755288Z",
     "iopub.status.idle": "2020-07-17T06:16:41.756305Z",
     "shell.execute_reply": "2020-07-17T06:16:50.128884Z",
     "shell.execute_reply.started": "2020-07-17T06:16:46.350030Z"
    }
   },
   "outputs": [],
   "source": [
    "simulation = price_index_cube.setup_simulation(\n",
    "    \"Distance Simulation\", base_scenario=\"01 km\", replace=[m[\"Distance Threshold\"]]\n",
    ")\n",
    "\n",
    "lvl[\"Distance Simulation\"].comparator = tt.comparator.ASC"
   ]
  },
  {
   "cell_type": "markdown",
   "metadata": {},
   "source": [
    "We can now easily obtain the number of competitors per area simply by creating a scenario for each distance radius.  \n",
    "With this, we can easily create new distance buckets to generate different datasets for the machine learning."
   ]
  },
  {
   "cell_type": "code",
   "execution_count": 24,
   "metadata": {
    "execution": {
     "iopub.execute_input": "2020-07-17T06:16:50.128884Z",
     "iopub.status.busy": "2020-07-17T06:16:41.757302Z",
     "iopub.status.idle": "2020-07-17T06:16:41.759279Z",
     "shell.execute_reply": "2020-07-17T06:16:50.164817Z",
     "shell.execute_reply.started": "2020-07-17T06:16:50.128884Z"
    }
   },
   "outputs": [],
   "source": [
    "simulation.scenarios[\"05 km\"] = 5\n",
    "simulation.scenarios[\"10 km\"] = 10\n",
    "simulation.scenarios[\"15 km\"] = 15\n",
    "simulation.scenarios[\"20 km\"] = 20"
   ]
  },
  {
   "cell_type": "markdown",
   "metadata": {},
   "source": [
    "Let's do a quick data-viz to see how the number of competitors varies by the distance."
   ]
  },
  {
   "cell_type": "code",
   "execution_count": 26,
   "metadata": {
    "atoti": {
     "height": 450,
     "state": {
      "name": "Nr of competitors stacked by distance bucket",
      "type": "container",
      "value": {
       "body": {
        "configuration": {
         "mapping": {
          "horizontalSubplots": [],
          "stackBy": [
           "[Measure Simulations].[Distance Simulation].[Distance Simulation]"
          ],
          "values": [
           "[Measures].[Count within distance threshold]"
          ],
          "verticalSubplots": [],
          "xAxis": [
           "[Hierarchies].[ShopId].[ShopId]",
           "[Hierarchies].[ShopName].[ShopName]"
          ]
         },
         "plotly": {
          "layout": {
           "xaxis": {
            "tickangle": "45"
           }
          }
         },
         "type": "plotly-stacked-column-chart"
        },
        "query": {
         "mdx": "SELECT NON EMPTY Crossjoin([Hierarchies].[ShopId].[ShopId].Members, [Hierarchies].[ShopName].[ShopName].Members, [Measure Simulations].[Distance Simulation].[Distance Simulation].Members) ON ROWS, NON EMPTY [Measures].[Count within distance threshold] ON COLUMNS FROM [PriceIndexCube] CELL PROPERTIES BACK_COLOR, FONT_FLAGS, FORE_COLOR, FORMATTED_VALUE, VALUE",
         "serverUrl": "",
         "updateMode": "once"
        }
       },
       "containerKey": "chart",
       "showTitleBar": false,
       "style": {}
      }
     }
    },
    "execution": {
     "iopub.execute_input": "2020-07-17T06:16:50.164817Z",
     "iopub.status.busy": "2020-07-17T06:16:41.760296Z",
     "iopub.status.idle": "2020-07-17T06:16:41.761272Z",
     "shell.execute_reply": "2020-07-17T06:16:54.468307Z",
     "shell.execute_reply.started": "2020-07-17T06:16:50.164817Z"
    }
   },
   "outputs": [
    {
     "data": {
      "application/vnd.atoti.v0+json": {
       "cube": "PriceIndexCube",
       "name": "Nr of competitors stacked by distance bucket",
       "session": "Unnamed"
      },
      "text/plain": [
       "Install and enable the atoti JupyterLab extension to see this widget."
      ]
     },
     "metadata": {},
     "output_type": "display_data"
    }
   ],
   "source": [
    "price_index_cube.visualize(\"Nr of competitors stacked by distance bucket\")"
   ]
  },
  {
   "cell_type": "markdown",
   "metadata": {},
   "source": [
    "How do we systematically make use of this information?   \n",
    "Let's use the _Competitors count within radius_ for each distance bucket and _PriceIndex_ computed above - to train a model and clusterize the stores.  \n",
    "We can extract these data from atoti as shown in the function below:"
   ]
  },
  {
   "cell_type": "code",
   "execution_count": 27,
   "metadata": {
    "execution": {
     "iopub.execute_input": "2020-07-17T06:16:54.468307Z",
     "iopub.status.busy": "2020-07-17T06:16:41.761272Z",
     "iopub.status.idle": "2020-07-17T06:16:41.762292Z",
     "shell.execute_reply": "2020-07-17T06:16:54.473298Z",
     "shell.execute_reply.started": "2020-07-17T06:16:54.468307Z"
    }
   },
   "outputs": [],
   "source": [
    "def get_features():\n",
    "    # output dataframe for competitors count per area from cube querying\n",
    "    shops_competitors_count_per_area = price_index_cube.query(\n",
    "        m[\"Count within distance threshold\"],\n",
    "        levels=[lvl[\"ShopId\"], lvl[\"Distance Simulation\"]],\n",
    "    ).reset_index()\n",
    "\n",
    "    # pivot the table such that each scenario becomes a column\n",
    "    shops_competitors_count_per_area = shops_competitors_count_per_area.pivot(\n",
    "        index=\"ShopId\",\n",
    "        columns=\"Distance Simulation\",\n",
    "        values=\"Count within distance threshold\",\n",
    "    )\n",
    "\n",
    "    # output dataframe for price index by shop from cube querying\n",
    "    price_index_per_shop = price_index_cube.query(\n",
    "        m[\"Price Index\"], levels=[lvl[\"ShopId\"]]\n",
    "    ).reset_index()\n",
    "\n",
    "    # merge the 2 dataframe and return the output\n",
    "    shops_features = pd.merge(\n",
    "        shops_competitors_count_per_area,\n",
    "        price_index_per_shop,\n",
    "        left_on=\"ShopId\",\n",
    "        right_on=\"ShopId\",\n",
    "        how=\"left\",\n",
    "    ).set_index(\"ShopId\")\n",
    "\n",
    "    return shops_features"
   ]
  },
  {
   "cell_type": "markdown",
   "metadata": {},
   "source": [
    "## 3. Machine Learning - Shops clustering using price index and competitors number features\n",
    "We can use a machine algorithm such as k-means to make clusters with the features (01km, 05km, 10km, 15km, 20km, Price Index) that we obtained from the cube:"
   ]
  },
  {
   "cell_type": "code",
   "execution_count": 28,
   "metadata": {
    "execution": {
     "iopub.execute_input": "2020-07-17T06:16:54.473298Z",
     "iopub.status.busy": "2020-07-17T06:16:41.763294Z",
     "iopub.status.idle": "2020-07-17T06:16:41.763294Z",
     "shell.execute_reply": "2020-07-17T06:16:58.625152Z",
     "shell.execute_reply.started": "2020-07-17T06:16:54.473298Z"
    }
   },
   "outputs": [
    {
     "data": {
      "text/html": [
       "<div>\n",
       "<style scoped>\n",
       "    .dataframe tbody tr th:only-of-type {\n",
       "        vertical-align: middle;\n",
       "    }\n",
       "\n",
       "    .dataframe tbody tr th {\n",
       "        vertical-align: top;\n",
       "    }\n",
       "\n",
       "    .dataframe thead th {\n",
       "        text-align: right;\n",
       "    }\n",
       "</style>\n",
       "<table border=\"1\" class=\"dataframe\">\n",
       "  <thead>\n",
       "    <tr style=\"text-align: right;\">\n",
       "      <th></th>\n",
       "      <th>01 km</th>\n",
       "      <th>05 km</th>\n",
       "      <th>10 km</th>\n",
       "      <th>15 km</th>\n",
       "      <th>20 km</th>\n",
       "      <th>Price Index</th>\n",
       "    </tr>\n",
       "    <tr>\n",
       "      <th>ShopId</th>\n",
       "      <th></th>\n",
       "      <th></th>\n",
       "      <th></th>\n",
       "      <th></th>\n",
       "      <th></th>\n",
       "      <th></th>\n",
       "    </tr>\n",
       "  </thead>\n",
       "  <tbody>\n",
       "    <tr>\n",
       "      <th>1</th>\n",
       "      <td>11</td>\n",
       "      <td>51</td>\n",
       "      <td>66</td>\n",
       "      <td>71</td>\n",
       "      <td>71</td>\n",
       "      <td>0.986389</td>\n",
       "    </tr>\n",
       "    <tr>\n",
       "      <th>10</th>\n",
       "      <td>5</td>\n",
       "      <td>46</td>\n",
       "      <td>71</td>\n",
       "      <td>71</td>\n",
       "      <td>71</td>\n",
       "      <td>1.017666</td>\n",
       "    </tr>\n",
       "    <tr>\n",
       "      <th>11</th>\n",
       "      <td>3</td>\n",
       "      <td>3</td>\n",
       "      <td>3</td>\n",
       "      <td>3</td>\n",
       "      <td>3</td>\n",
       "      <td>0.929536</td>\n",
       "    </tr>\n",
       "    <tr>\n",
       "      <th>12</th>\n",
       "      <td>3</td>\n",
       "      <td>3</td>\n",
       "      <td>3</td>\n",
       "      <td>3</td>\n",
       "      <td>3</td>\n",
       "      <td>1.010930</td>\n",
       "    </tr>\n",
       "    <tr>\n",
       "      <th>13</th>\n",
       "      <td>2</td>\n",
       "      <td>2</td>\n",
       "      <td>2</td>\n",
       "      <td>2</td>\n",
       "      <td>2</td>\n",
       "      <td>0.982252</td>\n",
       "    </tr>\n",
       "  </tbody>\n",
       "</table>\n",
       "</div>"
      ],
      "text/plain": [
       "        01 km  05 km  10 km  15 km  20 km  Price Index\n",
       "ShopId                                                \n",
       "1          11     51     66     71     71     0.986389\n",
       "10          5     46     71     71     71     1.017666\n",
       "11          3      3      3      3      3     0.929536\n",
       "12          3      3      3      3      3     1.010930\n",
       "13          2      2      2      2      2     0.982252"
      ]
     },
     "execution_count": 28,
     "metadata": {},
     "output_type": "execute_result"
    }
   ],
   "source": [
    "shops_features = get_features()\n",
    "shops_features.head()"
   ]
  },
  {
   "cell_type": "code",
   "execution_count": 29,
   "metadata": {
    "execution": {
     "iopub.execute_input": "2020-07-17T06:16:58.625152Z",
     "iopub.status.busy": "2020-07-17T06:16:41.764292Z",
     "iopub.status.idle": "2020-07-17T06:16:41.765281Z",
     "shell.execute_reply": "2020-07-17T06:16:59.279451Z",
     "shell.execute_reply.started": "2020-07-17T06:16:58.625152Z"
    }
   },
   "outputs": [],
   "source": [
    "%matplotlib inline\n",
    "import matplotlib.pyplot as plt\n",
    "import numpy as np\n",
    "import pandas as pd\n",
    "import scipy as sc\n",
    "import seaborn as sns\n",
    "from sklearn.cluster import KMeans, MiniBatchKMeans\n",
    "from sklearn.metrics import pairwise_distances_argmin\n",
    "\n",
    "sns.set()  # for plot styling"
   ]
  },
  {
   "cell_type": "markdown",
   "metadata": {},
   "source": [
    "Let's set the number of clusters needed as 5. The number of clusters can increase if the number of shops is huge.  \n",
    "We apply the k-mean on the _shops\\_feature_ from above."
   ]
  },
  {
   "cell_type": "code",
   "execution_count": 30,
   "metadata": {
    "execution": {
     "iopub.execute_input": "2020-07-17T06:16:59.279451Z",
     "iopub.status.busy": "2020-07-17T06:16:41.766306Z",
     "iopub.status.idle": "2020-07-17T06:16:41.767320Z",
     "shell.execute_reply": "2020-07-17T06:16:59.319346Z",
     "shell.execute_reply.started": "2020-07-17T06:16:59.279451Z"
    }
   },
   "outputs": [],
   "source": [
    "number_of_clusters = 5\n",
    "kmeans = MiniBatchKMeans(number_of_clusters)\n",
    "kmeans.fit(shops_features)\n",
    "new_colors = kmeans.cluster_centers_[kmeans.predict(shops_features)]\n",
    "k_means_labels = pairwise_distances_argmin(shops_features, kmeans.cluster_centers_)\n",
    "labels = KMeans(number_of_clusters, random_state=0).fit_predict(shops_features)"
   ]
  },
  {
   "cell_type": "markdown",
   "metadata": {},
   "source": [
    "Using competitors within 1km as an example, we can now analyze the result of the clustering by pair of features using matplotlib as shown below:"
   ]
  },
  {
   "cell_type": "code",
   "execution_count": 31,
   "metadata": {
    "execution": {
     "iopub.execute_input": "2020-07-17T06:16:59.319346Z",
     "iopub.status.busy": "2020-07-17T06:16:41.767320Z",
     "iopub.status.idle": "2020-07-17T06:16:41.768283Z",
     "shell.execute_reply": "2020-07-17T06:16:59.531763Z",
     "shell.execute_reply.started": "2020-07-17T06:16:59.319346Z"
    }
   },
   "outputs": [
    {
     "data": {
      "text/plain": [
       "Text(0, 0.5, 'Price Index')"
      ]
     },
     "execution_count": 31,
     "metadata": {},
     "output_type": "execute_result"
    },
    {
     "data": {
      "image/png": "[encoded data removed]",
      "text/plain": [
       "<Figure size 432x288 with 1 Axes>"
      ]
     },
     "metadata": {},
     "output_type": "display_data"
    }
   ],
   "source": [
    "plt.scatter(\n",
    "    shops_features.loc[:, \"01 km\"],\n",
    "    shops_features.loc[:, \"Price Index\"],\n",
    "    c=k_means_labels,\n",
    "    s=50,\n",
    "    cmap=\"viridis\",\n",
    ")\n",
    "\n",
    "plt.xlabel(\"Nr Competitors within 1km\")\n",
    "plt.ylabel(\"Price Index\")"
   ]
  },
  {
   "cell_type": "markdown",
   "metadata": {},
   "source": [
    "In the above plot, each color represents a cluster. We can see that clusters seem to be strongly based on the number of competitors rather than on the price index.  \n",
    "However, to avoid having to plot every couple of features and understand more quickly what our clusters are, we will use seaborn to have a plot of the clustering result for every pair of features."
   ]
  },
  {
   "cell_type": "code",
   "execution_count": 32,
   "metadata": {
    "execution": {
     "iopub.execute_input": "2020-07-17T06:16:59.531763Z",
     "iopub.status.busy": "2020-07-17T06:16:41.768283Z",
     "iopub.status.idle": "2020-07-17T06:16:41.769279Z",
     "shell.execute_reply": "2020-07-17T06:16:59.540738Z",
     "shell.execute_reply.started": "2020-07-17T06:16:59.531763Z"
    }
   },
   "outputs": [
    {
     "data": {
      "text/html": [
       "<div>\n",
       "<style scoped>\n",
       "    .dataframe tbody tr th:only-of-type {\n",
       "        vertical-align: middle;\n",
       "    }\n",
       "\n",
       "    .dataframe tbody tr th {\n",
       "        vertical-align: top;\n",
       "    }\n",
       "\n",
       "    .dataframe thead th {\n",
       "        text-align: right;\n",
       "    }\n",
       "</style>\n",
       "<table border=\"1\" class=\"dataframe\">\n",
       "  <thead>\n",
       "    <tr style=\"text-align: right;\">\n",
       "      <th></th>\n",
       "      <th>01 km</th>\n",
       "      <th>05 km</th>\n",
       "      <th>10 km</th>\n",
       "      <th>15 km</th>\n",
       "      <th>20 km</th>\n",
       "      <th>Price Index</th>\n",
       "      <th>Cluster</th>\n",
       "    </tr>\n",
       "    <tr>\n",
       "      <th>ShopId</th>\n",
       "      <th></th>\n",
       "      <th></th>\n",
       "      <th></th>\n",
       "      <th></th>\n",
       "      <th></th>\n",
       "      <th></th>\n",
       "      <th></th>\n",
       "    </tr>\n",
       "  </thead>\n",
       "  <tbody>\n",
       "    <tr>\n",
       "      <th>1</th>\n",
       "      <td>11</td>\n",
       "      <td>51</td>\n",
       "      <td>66</td>\n",
       "      <td>71</td>\n",
       "      <td>71</td>\n",
       "      <td>0.986389</td>\n",
       "      <td>1</td>\n",
       "    </tr>\n",
       "    <tr>\n",
       "      <th>10</th>\n",
       "      <td>5</td>\n",
       "      <td>46</td>\n",
       "      <td>71</td>\n",
       "      <td>71</td>\n",
       "      <td>71</td>\n",
       "      <td>1.017666</td>\n",
       "      <td>1</td>\n",
       "    </tr>\n",
       "    <tr>\n",
       "      <th>11</th>\n",
       "      <td>3</td>\n",
       "      <td>3</td>\n",
       "      <td>3</td>\n",
       "      <td>3</td>\n",
       "      <td>3</td>\n",
       "      <td>0.929536</td>\n",
       "      <td>0</td>\n",
       "    </tr>\n",
       "    <tr>\n",
       "      <th>12</th>\n",
       "      <td>3</td>\n",
       "      <td>3</td>\n",
       "      <td>3</td>\n",
       "      <td>3</td>\n",
       "      <td>3</td>\n",
       "      <td>1.010930</td>\n",
       "      <td>0</td>\n",
       "    </tr>\n",
       "    <tr>\n",
       "      <th>13</th>\n",
       "      <td>2</td>\n",
       "      <td>2</td>\n",
       "      <td>2</td>\n",
       "      <td>2</td>\n",
       "      <td>2</td>\n",
       "      <td>0.982252</td>\n",
       "      <td>0</td>\n",
       "    </tr>\n",
       "  </tbody>\n",
       "</table>\n",
       "</div>"
      ],
      "text/plain": [
       "        01 km  05 km  10 km  15 km  20 km  Price Index  Cluster\n",
       "ShopId                                                         \n",
       "1          11     51     66     71     71     0.986389        1\n",
       "10          5     46     71     71     71     1.017666        1\n",
       "11          3      3      3      3      3     0.929536        0\n",
       "12          3      3      3      3      3     1.010930        0\n",
       "13          2      2      2      2      2     0.982252        0"
      ]
     },
     "execution_count": 32,
     "metadata": {},
     "output_type": "execute_result"
    }
   ],
   "source": [
    "shops_features[\"Cluster\"] = labels\n",
    "shops_features.head(5)"
   ]
  },
  {
   "cell_type": "code",
   "execution_count": 33,
   "metadata": {
    "execution": {
     "iopub.execute_input": "2020-07-17T06:16:59.540738Z",
     "iopub.status.busy": "2020-07-17T06:16:41.770276Z",
     "iopub.status.idle": "2020-07-17T06:16:41.771245Z",
     "shell.execute_reply": "2020-07-17T06:17:10.413612Z",
     "shell.execute_reply.started": "2020-07-17T06:16:59.540738Z"
    }
   },
   "outputs": [
    {
     "data": {
      "text/plain": [
       "<seaborn.axisgrid.PairGrid at 0x1fa12c176a0>"
      ]
     },
     "execution_count": 33,
     "metadata": {},
     "output_type": "execute_result"
    },
    {
     "data": {
      "image/png": "[encoded data removed]",
      "text/plain": [
       "<Figure size 1126.92x1080 with 42 Axes>"
      ]
     },
     "metadata": {},
     "output_type": "display_data"
    }
   ],
   "source": [
    "sns.pairplot(data=shops_features, hue=\"Cluster\")"
   ]
  },
  {
   "cell_type": "markdown",
   "metadata": {},
   "source": [
    "We can have a better understanding of the clusters with the chart above.  \n",
    "The stores in cluster 1 have a much higher number of competitors (>50) in a 10km radius, compared to those of cluster 0 having less than 20 competitors in the same radius.  \n",
    "While cluster 1 has more competitors, its price index is generally higher than cluster 0 and greater than 1.\n",
    "\n",
    "Continuing this analysis tells us that:\n",
    "- Cluster 0 is a big cluster with little competitors around.\n",
    "- Cluster 1 is slightly skewed towards a higher price index than the rest while the number of competitors are generally higher even within a 5km distance radius.\n",
    "- Cluster 2 is a small cluster and the number of competitors increases tremendously as the distance radius increases.\n",
    "- Cluster 3 has a relatively lower price index even though some of the shops has price index closer to 1. Number of competitors remains about the same across all buckets.\n",
    "- Cluster 4 is a small cluster that has a slightly lower price index and most competitors are more than 10km away.\n",
    "\n",
    "While this gives us an idea of how to position ourselves, we need to put these into context before we can decide on what pricing strategy to apply on it.  \n",
    "Let's load the new cluster back into the cube to have more in-depth analysis."
   ]
  },
  {
   "cell_type": "markdown",
   "metadata": {},
   "source": [
    "## 4. Interpreting the machine learning output with atoti\n",
    "\n",
    "Let's load the cluster results obtained from the machine learning model into the cube."
   ]
  },
  {
   "cell_type": "code",
   "execution_count": 34,
   "metadata": {
    "execution": {
     "iopub.execute_input": "2020-07-17T06:17:10.413612Z",
     "iopub.status.busy": "2020-07-17T06:16:41.772250Z",
     "iopub.status.idle": "2020-07-17T06:16:41.773261Z",
     "shell.execute_reply": "2020-07-17T06:17:13.722794Z",
     "shell.execute_reply.started": "2020-07-17T06:17:10.413612Z"
    }
   },
   "outputs": [
    {
     "data": {
      "text/html": [
       "<div>\n",
       "<style scoped>\n",
       "    .dataframe tbody tr th:only-of-type {\n",
       "        vertical-align: middle;\n",
       "    }\n",
       "\n",
       "    .dataframe tbody tr th {\n",
       "        vertical-align: top;\n",
       "    }\n",
       "\n",
       "    .dataframe thead th {\n",
       "        text-align: right;\n",
       "    }\n",
       "</style>\n",
       "<table border=\"1\" class=\"dataframe\">\n",
       "  <thead>\n",
       "    <tr style=\"text-align: right;\">\n",
       "      <th></th>\n",
       "      <th>Cluster</th>\n",
       "    </tr>\n",
       "    <tr>\n",
       "      <th>ShopId</th>\n",
       "      <th></th>\n",
       "    </tr>\n",
       "  </thead>\n",
       "  <tbody>\n",
       "    <tr>\n",
       "      <th>1</th>\n",
       "      <td>1</td>\n",
       "    </tr>\n",
       "    <tr>\n",
       "      <th>10</th>\n",
       "      <td>1</td>\n",
       "    </tr>\n",
       "    <tr>\n",
       "      <th>11</th>\n",
       "      <td>0</td>\n",
       "    </tr>\n",
       "    <tr>\n",
       "      <th>12</th>\n",
       "      <td>0</td>\n",
       "    </tr>\n",
       "    <tr>\n",
       "      <th>13</th>\n",
       "      <td>0</td>\n",
       "    </tr>\n",
       "  </tbody>\n",
       "</table>\n",
       "</div>"
      ],
      "text/plain": [
       "        Cluster\n",
       "ShopId         \n",
       "1             1\n",
       "10            1\n",
       "11            0\n",
       "12            0\n",
       "13            0"
      ]
     },
     "execution_count": 34,
     "metadata": {},
     "output_type": "execute_result"
    }
   ],
   "source": [
    "clusters_df = shops_features[[\"Cluster\"]].reset_index()\n",
    "clusters_df.ShopId = clusters_df.ShopId.astype(\"int32\")\n",
    "clusters = session.read_pandas(\n",
    "    clusters_df, keys=[\"ShopId\"], store_name=\"Clusters\"\n",
    ")\n",
    "\n",
    "clusters.head(5)"
   ]
  },
  {
   "cell_type": "code",
   "execution_count": 35,
   "metadata": {
    "execution": {
     "iopub.execute_input": "2020-07-17T06:17:13.722794Z",
     "iopub.status.busy": "2020-07-17T06:16:41.773261Z",
     "iopub.status.idle": "2020-07-17T06:16:41.774265Z",
     "shell.execute_reply": "2020-07-17T06:17:17.019953Z",
     "shell.execute_reply.started": "2020-07-17T06:17:13.722794Z"
    }
   },
   "outputs": [],
   "source": [
    "shops.join(clusters)"
   ]
  },
  {
   "cell_type": "markdown",
   "metadata": {},
   "source": [
    "Let's see the spread of the clusters on the map."
   ]
  },
  {
   "cell_type": "code",
   "execution_count": 37,
   "metadata": {
    "atoti": {
     "height": 636,
     "state": {
      "name": "Spread of clusters on map",
      "type": "container",
      "value": {
       "body": {
        "configuration": {
         "mapping": {
          "cardinality": {
           "from": [
            "[Hierarchies].[ShopName].[ShopName]"
           ]
          },
          "lat": {
           "from": "[Measures].[Latitude.VALUE]"
          },
          "long": {
           "from": "[Measures].[Longitude.VALUE]"
          },
          "pointColor": {
           "from": [
            "[Hierarchies].[Cluster].[Cluster]"
           ]
          },
          "pointStrokeColor": {
           "value": "rgb(153, 153, 153)"
          },
          "pointStrokeWidth": {
           "value": 1
          },
          "r": {
           "from": "[Measures].[Count within distance threshold]"
          }
         },
         "type": "pointMap"
        },
        "isConnected": true,
        "query": {
         "mdx": "SELECT {[Measures].[Longitude.VALUE], [Measures].[Latitude.VALUE], [Measures].[Count within distance threshold]} ON COLUMNS, NON EMPTY Crossjoin([Hierarchies].[ShopName].[ShopName].Members, [Hierarchies].[Cluster].[Cluster].Members) ON ROWS FROM [PriceIndexCube] WHERE [Measure Simulations].[Distance Simulation].[Distance Simulation].[05 km] CELL PROPERTIES VALUE, FORMATTED_VALUE, BACK_COLOR, FORE_COLOR, FONT_FLAGS",
         "serverUrl": "",
         "updateMode": "once"
        }
       },
       "containerKey": "chart",
       "showTitleBar": false,
       "style": {}
      }
     }
    },
    "execution": {
     "iopub.execute_input": "2020-07-17T06:17:17.019953Z",
     "iopub.status.busy": "2020-07-17T06:16:41.775243Z",
     "iopub.status.idle": "2020-07-17T06:16:41.776242Z",
     "shell.execute_reply": "2020-07-17T06:17:18.787209Z",
     "shell.execute_reply.started": "2020-07-17T06:17:17.019953Z"
    }
   },
   "outputs": [
    {
     "data": {
      "application/vnd.atoti.v0+json": {
       "cube": "PriceIndexCube",
       "name": "Spread of clusters on map",
       "session": "Unnamed"
      },
      "text/plain": [
       "Install and enable the atoti JupyterLab extension to see this widget."
      ]
     },
     "metadata": {},
     "output_type": "display_data"
    }
   ],
   "source": [
    "price_index_cube.visualize(\"Spread of clusters on map\")"
   ]
  },
  {
   "cell_type": "markdown",
   "metadata": {},
   "source": [
    "Interestingly, cluster 0 is distributed all over France except Paris, and mostly they are the only shop in the neighbourhood that is under our retailer.   \n",
    "Cluster 3 is a small cluster around Lille, the capital of the Hauts-de-France region in northern France.  \n",
    "The rest of the clusters have shops under our retailer in close proximity, and most of them spread around Paris.\n",
    "The size of the points on the map reflects the number of competitors within 5km - we can see the competition around the city is the highest, specifically for cluster 1 (red).\n",
    "\n",
    "In the case of cluster 0, the shop is the only one under the retailer in the neighbourhood. The number of competitors is low, hence the price index is less affected by competition.  \n",
    "Rather, other factors such as variety of products, branding etc could take on a heavier factor on the price index - these are to be considered when applying a pricing strategy for this cluster. Generally, the price index could be higher.  \n",
    "\n",
    "For the rest of the clusters, there are a few considerations. Within the same proximity, the shops face the same competitors.  \n",
    "Not only that, consumers can easily detect the price differences of products between the shops of the same retailer if they are close to one another.  \n",
    "Hence it makes more sense to align their price index and it should be slightly lower to push up its competitiveness."
   ]
  },
  {
   "cell_type": "markdown",
   "metadata": {},
   "source": [
    "## 5. Pricing simulations around clusters\n",
    "\n",
    "We will now generate new prices using the clustering information in order to take into account the different competitiveness constraints of the shops.  "
   ]
  },
  {
   "cell_type": "markdown",
   "metadata": {},
   "source": [
    "Using the clusters generated, the below pricing method tries to reduce the prices if the competitiveness is strong, and on the contrary increase it if there is few competition.  \n",
    "For instance, cluster 0 and cluster 4 has little competition, hence their price index could be slightly higher than 1.  \n",
    "The rest of the clusters have more competitors within 10km radius, hence could have their price index at 1 or slightly lower to maintain their competitivity.  "
   ]
  },
  {
   "cell_type": "code",
   "execution_count": 38,
   "metadata": {
    "execution": {
     "iopub.execute_input": "2020-07-17T06:17:18.787209Z",
     "iopub.status.busy": "2020-07-17T06:16:41.776242Z",
     "iopub.status.idle": "2020-07-17T06:16:41.777275Z",
     "shell.execute_reply": "2020-07-17T06:17:18.811144Z",
     "shell.execute_reply.started": "2020-07-17T06:17:18.787209Z"
    }
   },
   "outputs": [],
   "source": [
    "from utils import pricer\n",
    "\n",
    "selling_prices_based_on_clusters = pricer.optimize_prices(\n",
    "    product_sales_df, clusters_df\n",
    ")"
   ]
  },
  {
   "cell_type": "markdown",
   "metadata": {},
   "source": [
    "Thanks to atoti built-in simulations capabilities, we can easily create a new scenario for the new pricing by directly loading the price-optimised dataframe.  \n",
    "All the previously defined KPIs, e.g. the price index, will be re-computed on the fly, enabling us to compare the scenarios and their benefits."
   ]
  },
  {
   "cell_type": "code",
   "execution_count": 39,
   "metadata": {
    "execution": {
     "iopub.execute_input": "2020-07-17T06:17:18.811144Z",
     "iopub.status.busy": "2020-07-17T06:16:41.778252Z",
     "iopub.status.idle": "2020-07-17T06:16:41.779247Z",
     "shell.execute_reply": "2020-07-17T06:17:19.024573Z",
     "shell.execute_reply.started": "2020-07-17T06:17:18.811144Z"
    }
   },
   "outputs": [],
   "source": [
    "productSales.scenarios[\"Selling prices based on clusters\"].load_pandas(\n",
    "    selling_prices_based_on_clusters\n",
    ")"
   ]
  },
  {
   "cell_type": "markdown",
   "metadata": {},
   "source": [
    "Thanks to atoti built-in simulations capabilities, we can easily create a new scenario for the new pricing by directly loading the price-optimised dataframe.  \n",
    "All the previously defined KPIs, e.g. the price index, will be re-computed on the fly, enabling us to compare the scenarios and their benefits."
   ]
  },
  {
   "cell_type": "code",
   "execution_count": 41,
   "metadata": {
    "atoti": {
     "height": 500,
     "state": {
      "name": "",
      "type": "container",
      "value": {
       "body": {
        "configuration": {
         "tabular": {
          "addButtonFilter": "numeric",
          "cellRenderers": [
           "tree-layout"
          ],
          "columnOrder": {
           "args": {
            "orderedColumns": [
             "c-treeCells-member",
             "([Measures].[Price Index (1)],[Epoch].[Epoch].[Branch].[Base])",
             "([Measures].[Price Index (1)],[Epoch].[Epoch].[Branch].[Selling prices based on clusters])",
             "([Measures].[Price Index (1)],[Epoch].[Epoch].[Branch].[Difference])"
            ]
           },
           "key": "explicit"
          },
          "columns": [
           {
            "key": "([Measures].[Price Index],[Epoch].[Epoch].[Branch].[Base])",
            "width": 168
           },
           {
            "key": "([Measures].[Price Index],[Epoch].[Epoch].[Branch].[Selling Price Clustering 1])",
            "width": 195
           },
           {
            "key": "([Measures].[Price Index],[Epoch].[Epoch].[Branch].[Difference])",
            "width": 127
           },
           {
            "key": "([Measures].[Price Index (1)],[Epoch].[Epoch].[Branch].[Selling Price Clustering 1])",
            "width": 195
           },
           {
            "key": "([Measures].[Price Index (1)],[Epoch].[Epoch].[Branch].[Selling prices based on clusters])",
            "width": 146
           }
          ],
          "columnsGroups": [
           {
            "captionProducer": "firstColumn",
            "cellFactory": "kpi-status",
            "selector": "kpi-status"
           },
           {
            "captionProducer": "firstColumn",
            "cellFactory": "lookup",
            "selector": "lookup"
           },
           {
            "captionProducer": "expiry",
            "cellFactory": "expiry",
            "selector": "kpi-expiry"
           },
           {
            "captionProducer": "columnMerge",
            "cellFactory": {
             "args": {},
             "key": "treeCells"
            },
            "selector": "member"
           }
          ],
          "defaultOptions": {},
          "expansion": {
           "automaticExpansion": true
          },
          "hideAddButton": true,
          "pinnedHeaderSelector": "member",
          "sortingMode": "non-breaking",
          "statisticsShown": true
         }
        },
        "contextValues": {},
        "mdx": "WITH  Member [Epoch].[Epoch].[Difference] AS [Epoch].[Epoch].[Selling prices based on clusters] - [Epoch].[Epoch].[Base], CAPTION = \"Difference\"    Member [Measures].[Price Index (1)] AS [Measures].[Price Index], CAPTION = [Measures].[Price Index].MEMBER_CAPTION, FORE_COLOR = CASE WHEN [Measures].[Price Index (1)] < 0 THEN rgb(255, 0, 0) END, FORMAT_STRING = \"#,###.000\"  SELECT NON EMPTY Crossjoin([Measures].[Price Index (1)], Union([Epoch].[Epoch].[Branch].Members, [Epoch].[Epoch].[Difference])) ON COLUMNS, NON EMPTY Except(Crossjoin(Hierarchize(DrilldownLevel([Hierarchies].[Cluster].[ALL].[AllMember])), Hierarchize(DrilldownLevel([Hierarchies].[ShopName].[ALL].[AllMember]))), Crossjoin([Hierarchies].[Cluster].[ALL].[AllMember].[0], [Hierarchies].[ShopName].[ShopName].Members)) ON ROWS FROM [PriceIndexCube] CELL PROPERTIES BACK_COLOR, FONT_FLAGS, FORE_COLOR, FORMATTED_VALUE, VALUE",
        "ranges": {
         "column": {
          "chunkSize": 50,
          "thresholdPercentage": 0.2
         },
         "row": {
          "chunkSize": 2000,
          "thresholdPercentage": 0.1
         }
        },
        "serverUrl": "",
        "updateMode": "once"
       },
       "containerKey": "pivot-table",
       "showTitleBar": false,
       "style": {}
      }
     }
    },
    "execution": {
     "iopub.execute_input": "2020-07-17T06:17:19.024573Z",
     "iopub.status.busy": "2020-07-17T06:16:41.779247Z",
     "iopub.status.idle": "2020-07-17T06:16:41.780221Z",
     "shell.execute_reply": "2020-07-17T06:17:27.114927Z",
     "shell.execute_reply.started": "2020-07-17T06:17:19.024573Z"
    }
   },
   "outputs": [
    {
     "data": {
      "application/vnd.atoti.v0+json": {
       "cube": "PriceIndexCube",
       "name": null,
       "session": "Unnamed"
      },
      "text/plain": [
       "Install and enable the atoti JupyterLab extension to see this widget."
      ]
     },
     "metadata": {},
     "output_type": "display_data"
    }
   ],
   "source": [
    "price_index_cube.visualize()"
   ]
  },
  {
   "cell_type": "markdown",
   "metadata": {},
   "source": [
    "We saw the adjustment in price index at the cluster level and we could easily drill down to the shop and even product level.  \n",
    "Now, let's visualize the changes in price index for the 5 clusters."
   ]
  },
  {
   "cell_type": "code",
   "execution_count": 43,
   "metadata": {
    "atoti": {
     "height": 410,
     "state": {
      "name": "Price index optimisation difference",
      "type": "container",
      "value": {
       "body": {
        "configuration": {
         "mapping": {
          "horizontalSubplots": [],
          "splitBy": [
           "[Epoch].[Epoch].[Branch]"
          ],
          "values": [
           "[Measures].[Price Index]"
          ],
          "verticalSubplots": [],
          "xAxis": [
           "[Hierarchies].[Cluster].[Cluster]",
           "[Hierarchies].[ShopName].[ShopName]",
           "[Hierarchies].[ShopId].[ShopId]"
          ]
         },
         "plotly": {
          "layout": {
           "xaxis": {
            "tickangle": "45",
            "title": "Clusters"
           },
           "yaxis": {
            "title": "Price Index"
           }
          }
         },
         "type": "plotly-clustered-column-chart"
        },
        "query": {
         "mdx": "SELECT NON EMPTY Crossjoin([Hierarchies].[Cluster].[Cluster].Members, [Hierarchies].[ShopName].[ShopName].Members, [Hierarchies].[ShopId].[ShopId].Members, [Epoch].[Epoch].[Branch].Members) ON ROWS, NON EMPTY [Measures].[Price Index] ON COLUMNS FROM [PriceIndexCube] CELL PROPERTIES BACK_COLOR, FONT_FLAGS, FORE_COLOR, FORMATTED_VALUE, VALUE",
         "serverUrl": "",
         "updateMode": "once"
        }
       },
       "containerKey": "chart",
       "showTitleBar": false,
       "style": {}
      }
     }
    },
    "execution": {
     "iopub.execute_input": "2020-07-17T06:17:27.114927Z",
     "iopub.status.busy": "2020-07-17T06:16:41.781218Z",
     "iopub.status.idle": "2020-07-17T06:16:41.782224Z",
     "shell.execute_reply": "2020-07-17T06:17:29.351942Z",
     "shell.execute_reply.started": "2020-07-17T06:17:27.114927Z"
    }
   },
   "outputs": [
    {
     "data": {
      "application/vnd.atoti.v0+json": {
       "cube": "PriceIndexCube",
       "name": "Price index optimisation difference",
       "session": "Unnamed"
      },
      "text/plain": [
       "Install and enable the atoti JupyterLab extension to see this widget."
      ]
     },
     "metadata": {},
     "output_type": "display_data"
    }
   ],
   "source": [
    "price_index_cube.visualize(\"Price index optimisation difference\")"
   ]
  },
  {
   "cell_type": "markdown",
   "metadata": {},
   "source": [
    "In order to attract more customers, we can see that the pricing method decreased the pricing for cluster 1, which faced high competitions.  \n",
    "On the contrary it increased the prices in shops belonging to low competition clusters in order to maximize margin.  \n",
    "Cluster 0, 3 and 4 for instance, have very few competitors. Hence their selling prices are adjusted higher, resulting in higher price index."
   ]
  },
  {
   "cell_type": "markdown",
   "metadata": {},
   "source": [
    "## 6. Selling price simulation by clusters and shops\n",
    "\n",
    "Zooming in on cluster 1, we see that _MyShop Paris 6_ has one of the highest competition within the cluster.  \n",
    "<img src=\"https://data.atoti.io/notebooks/geopricing/cluster1.png\" alt=\"Clustering 1\" style=\"width:300px;\"/>\n",
    "\n",
    "However, the store also has a relatively high price index within the cluster."
   ]
  },
  {
   "cell_type": "code",
   "execution_count": 45,
   "metadata": {
    "atoti": {
     "state": {
      "name": "Price index for cluster 1",
      "type": "container",
      "value": {
       "body": {
        "configuration": {
         "mapping": {
          "horizontalSubplots": [],
          "splitBy": [
           "[Epoch].[Epoch].[Branch]"
          ],
          "values": [
           "[Measures].[Price Index]"
          ],
          "verticalSubplots": [],
          "xAxis": [
           "[Hierarchies].[Cluster].[Cluster]",
           "[Hierarchies].[ShopName].[ShopName]",
           "[Hierarchies].[ShopId].[ShopId]"
          ]
         },
         "plotly": {
          "layout": {
           "xaxis": {
            "tickangle": "45"
           }
          }
         },
         "type": "plotly-clustered-column-chart"
        },
        "query": {
         "mdx": "SELECT NON EMPTY Crossjoin([Hierarchies].[Cluster].[Cluster].Members, [Hierarchies].[ShopName].[ShopName].Members, [Hierarchies].[ShopId].[ShopId].Members, [Epoch].[Epoch].[Branch].Members) ON ROWS, NON EMPTY [Measures].[Price Index] ON COLUMNS FROM (SELECT [Hierarchies].[Cluster].[ALL].[AllMember].[1] ON COLUMNS FROM [PriceIndexCube]) CELL PROPERTIES VALUE, FORMATTED_VALUE, BACK_COLOR, FORE_COLOR, FONT_FLAGS",
         "serverUrl": "",
         "updateMode": "once"
        }
       },
       "containerKey": "chart",
       "showTitleBar": false,
       "style": {}
      }
     }
    },
    "execution": {
     "iopub.execute_input": "2020-07-17T06:17:29.351942Z",
     "iopub.status.busy": "2020-07-17T06:16:41.782224Z",
     "iopub.status.idle": "2020-07-17T06:16:41.783227Z",
     "shell.execute_reply": "2020-07-17T06:17:31.027459Z",
     "shell.execute_reply.started": "2020-07-17T06:17:29.351942Z"
    }
   },
   "outputs": [
    {
     "data": {
      "application/vnd.atoti.v0+json": {
       "cube": "PriceIndexCube",
       "name": "Price index for cluster 1",
       "session": "Unnamed"
      },
      "text/plain": [
       "Install and enable the atoti JupyterLab extension to see this widget."
      ]
     },
     "metadata": {},
     "output_type": "display_data"
    }
   ],
   "source": [
    "price_index_cube.visualize(\"Price index for cluster 1\")"
   ]
  },
  {
   "cell_type": "markdown",
   "metadata": {},
   "source": [
    "Let's scale down the price index of the shop using atoti's measure simulation."
   ]
  },
  {
   "cell_type": "code",
   "execution_count": 46,
   "metadata": {
    "execution": {
     "iopub.execute_input": "2020-07-17T06:17:31.027459Z",
     "iopub.status.busy": "2020-07-17T06:16:41.784211Z",
     "iopub.status.idle": "2020-07-17T06:16:41.785208Z",
     "shell.execute_reply": "2020-07-17T06:17:35.169413Z",
     "shell.execute_reply.started": "2020-07-17T06:17:31.027459Z"
    }
   },
   "outputs": [],
   "source": [
    "price_simulation = price_index_cube.setup_simulation(\n",
    "    \"Price simulation\",\n",
    "    base_scenario=\"Selling Price Initial\",\n",
    "    levels=[lvl[\"Cluster\"], lvl[\"ShopId\"]],\n",
    "    multiply=[m[\"SellingPrice.MEAN\"]],\n",
    ")"
   ]
  },
  {
   "cell_type": "markdown",
   "metadata": {},
   "source": [
    "We are now able to scale the _Selling Price_ either across clusters or by specific shop."
   ]
  },
  {
   "cell_type": "code",
   "execution_count": 47,
   "metadata": {
    "execution": {
     "iopub.execute_input": "2020-07-17T06:17:35.169413Z",
     "iopub.status.busy": "2020-07-17T06:16:41.785208Z",
     "iopub.status.idle": "2020-07-17T06:16:41.786205Z",
     "shell.execute_reply": "2020-07-17T06:17:35.309004Z",
     "shell.execute_reply.started": "2020-07-17T06:17:35.169413Z"
    }
   },
   "outputs": [],
   "source": [
    "cluster_adjustment = price_simulation.scenarios[\"Selling Price New\"]\n",
    "cluster_adjustment.append((\"1\", 7, 0.90),)"
   ]
  },
  {
   "cell_type": "code",
   "execution_count": 49,
   "metadata": {
    "atoti": {
     "height": 380,
     "state": {
      "name": "Price index optimisation difference by scenario",
      "type": "container",
      "value": {
       "body": {
        "configuration": {
         "mapping": {
          "horizontalSubplots": [],
          "splitBy": [
           "[Epoch].[Epoch].[Branch]",
           "[Measure Simulations].[Price simulation].[Price simulation]"
          ],
          "values": [
           "[Measures].[Price Index]"
          ],
          "verticalSubplots": [],
          "xAxis": [
           "[Hierarchies].[Cluster].[Cluster]",
           "[Hierarchies].[ShopName].[ShopName]",
           "[Hierarchies].[ShopId].[ShopId]"
          ]
         },
         "plotly": {
          "layout": {
           "xaxis": {
            "tickangle": "45"
           }
          }
         },
         "type": "plotly-clustered-column-chart"
        },
        "query": {
         "mdx": "SELECT NON EMPTY Crossjoin([Hierarchies].[Cluster].[Cluster].Members, [Hierarchies].[ShopName].[ShopName].Members, [Hierarchies].[ShopId].[ShopId].Members, [Epoch].[Epoch].[Branch].Members, [Measure Simulations].[Price simulation].[Price simulation].Members) ON ROWS, NON EMPTY [Measures].[Price Index] ON COLUMNS FROM (SELECT [Epoch].[Epoch].[Branch].[Selling prices based on clusters] ON COLUMNS FROM (SELECT [Hierarchies].[Cluster].[ALL].[AllMember].[1] ON COLUMNS FROM [PriceIndexCube])) CELL PROPERTIES VALUE, FORMATTED_VALUE, BACK_COLOR, FORE_COLOR, FONT_FLAGS",
         "serverUrl": "",
         "updateMode": "once"
        }
       },
       "containerKey": "chart",
       "showTitleBar": false,
       "style": {}
      }
     }
    },
    "execution": {
     "iopub.execute_input": "2020-07-17T06:17:35.309004Z",
     "iopub.status.busy": "2020-07-17T06:16:41.787204Z",
     "iopub.status.idle": "2020-07-17T06:16:41.788201Z",
     "shell.execute_reply": "2020-07-17T06:17:38.752791Z",
     "shell.execute_reply.started": "2020-07-17T06:17:35.309004Z"
    }
   },
   "outputs": [
    {
     "data": {
      "application/vnd.atoti.v0+json": {
       "cube": "PriceIndexCube",
       "name": "Price index optimisation difference by scenario",
       "session": "Unnamed"
      },
      "text/plain": [
       "Install and enable the atoti JupyterLab extension to see this widget."
      ]
     },
     "metadata": {},
     "output_type": "display_data"
    }
   ],
   "source": [
    "price_index_cube.visualize(\"Price index optimisation difference by scenario\")"
   ]
  },
  {
   "cell_type": "markdown",
   "metadata": {},
   "source": [
    "The price index after price optimization and the shop adjustment for the shop looks more aligned now. \n",
    "\n",
    "Using a very simple machine learning example, we saw how it could help to identify the clusters based on the amount of geographical competitions.  \n",
    "With this information, we applied different pricing strategies to each cluster using simulations from atoti to understand the impact on the price index.\n",
    "We also look within a cluster to adjust the pricing of a specific shop so that it's more attuned to the pricing of the other shops in the cluster. \n",
    "\n",
    "We saw that despite the small amount of data that we have, we could already come up with a decent pricing strategy with atoti.  \n",
    "If we have more data such as the quantity of products sold, we can easily see the differences in the margin with each pricing strategy, with the possibility to drill down to various valuable attributes.  \n",
    "We can thereafter decide on the best pricing from the combination of simulations. Not to mention that with atoti, we can easily combine the simulations of various factors such as festivals, promotions, seasons etc.\n",
    "\n",
    "Do have a look at how we can strategize the price index around product class in the [pricing-simulations-around-product-classes](https://github.com/atoti/notebooks/tree/master/retail/pricing-simulations-around-product-classes) notebook and its [corresponding article](https://www.atoti.io/data-dive-how-to-improve-pricing-strategies-with-a-set-of-checkout-receipts/).  \n",
    "Maybe you can have a go at combining the two strategies to get your own price index!"
   ]
  }
 ],
 "metadata": {
  "kernelspec": {
   "display_name": "Python 3",
   "language": "python",
   "name": "python3"
  },
  "language_info": {
   "codemirror_mode": {
    "name": "ipython",
    "version": 3
   },
   "file_extension": ".py",
   "mimetype": "text/x-python",
   "name": "python",
   "nbconvert_exporter": "python",
   "pygments_lexer": "ipython3",
   "version": "3.8.3"
  }
 },
 "nbformat": 4,
 "nbformat_minor": 4
}
