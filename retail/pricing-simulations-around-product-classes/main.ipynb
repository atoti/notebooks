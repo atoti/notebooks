{
 "cells": [
  {
   "cell_type": "markdown",
   "metadata": {},
   "source": [
    "# Pricing simulations around product classes\n",
    "\n",
    "## Introduction\n",
    "\n",
    "In this notebook, we will showcase a simplified example of how a retailer can achieve a better price perception from its customers, while keeping or even slightly increasing its margins.\n",
    "\n",
    "A classification algorithm has already been run on three months of receipts to classify the products into three categories:\n",
    "- Driver products: Those are products that make people come to the store, their price is often compared to the competition. A typical example would be a drill. \n",
    "- Complementary products: Those are products that people do not intend to buy before coming to the store, they generate so called \"opportunity\" sales. Their price is most of the time not known. Examples are drill batteries or chewing gums near the checkout area.\n",
    "- Independent products: This third group of products contains products that are often sold alone. They tend to be large and more expensive and thus also have a tendency to be compared."
   ]
  },
  {
   "cell_type": "markdown",
   "metadata": {},
   "source": [
    "## Importing Atoti, having a first look at the data\n",
    "\n",
    "First we will start Atoti, load the products referential and have a look at the classification algorithm result on our dataset."
   ]
  },
  {
   "cell_type": "code",
   "execution_count": 1,
   "metadata": {},
   "outputs": [
    {
     "name": "stdout",
     "output_type": "stream",
     "text": [
      "Welcome to Atoti 0.3.1!\n",
      "\n",
      "By using this community edition, you agree with the license available at https://www.atoti.io/eula.\n",
      "Browse the official documentation at https://docs.atoti.io.\n",
      "Join the community at https://www.atoti.io/register.\n",
      "\n",
      "You can hide this message by setting the ATOTI_HIDE_EULA_MESSAGE environment variable to True.\n"
     ]
    }
   ],
   "source": [
    "import atoti\n",
    "from atoti.config import create_config\n",
    "\n",
    "# Tell atoti to load the database containing the UI dashboards\n",
    "config = create_config(metadata_db=\"./metadata.db\")\n",
    "\n",
    "session = atoti.create_session(config=config)"
   ]
  },
  {
   "cell_type": "markdown",
   "metadata": {},
   "source": [
    "Loading the products referential with all the products information"
   ]
  },
  {
   "cell_type": "code",
   "execution_count": 2,
   "metadata": {},
   "outputs": [
    {
     "data": {
      "text/html": [
       "<div>\n",
       "<style scoped>\n",
       "    .dataframe tbody tr th:only-of-type {\n",
       "        vertical-align: middle;\n",
       "    }\n",
       "\n",
       "    .dataframe tbody tr th {\n",
       "        vertical-align: top;\n",
       "    }\n",
       "\n",
       "    .dataframe thead th {\n",
       "        text-align: right;\n",
       "    }\n",
       "</style>\n",
       "<table border=\"1\" class=\"dataframe\">\n",
       "  <thead>\n",
       "    <tr style=\"text-align: right;\">\n",
       "      <th></th>\n",
       "      <th>ProductId</th>\n",
       "      <th>Product Name</th>\n",
       "      <th>Brand</th>\n",
       "    </tr>\n",
       "  </thead>\n",
       "  <tbody>\n",
       "    <tr>\n",
       "      <th>0</th>\n",
       "      <td>81089</td>\n",
       "      <td>Product 81089</td>\n",
       "      <td>NaN</td>\n",
       "    </tr>\n",
       "    <tr>\n",
       "      <th>1</th>\n",
       "      <td>1</td>\n",
       "      <td>Product 1</td>\n",
       "      <td>NaN</td>\n",
       "    </tr>\n",
       "    <tr>\n",
       "      <th>2</th>\n",
       "      <td>81090</td>\n",
       "      <td>Product 81090</td>\n",
       "      <td>NaN</td>\n",
       "    </tr>\n",
       "    <tr>\n",
       "      <th>3</th>\n",
       "      <td>81091</td>\n",
       "      <td>Product 81091</td>\n",
       "      <td>NaN</td>\n",
       "    </tr>\n",
       "    <tr>\n",
       "      <th>4</th>\n",
       "      <td>2</td>\n",
       "      <td>Product 2</td>\n",
       "      <td>NaN</td>\n",
       "    </tr>\n",
       "  </tbody>\n",
       "</table>\n",
       "</div>"
      ],
      "text/plain": [
       "   ProductId   Product Name  Brand\n",
       "0      81089  Product 81089    NaN\n",
       "1          1      Product 1    NaN\n",
       "2      81090  Product 81090    NaN\n",
       "3      81091  Product 81091    NaN\n",
       "4          2      Product 2    NaN"
      ]
     },
     "execution_count": 2,
     "metadata": {},
     "output_type": "execute_result"
    }
   ],
   "source": [
    "products_store = session.read_csv(\n",
    "    \"s3://data.atoti.io/notebooks/products-classification/products_referential.csv\",\n",
    "    store_name=\"Products_store\",\n",
    "    sep=\";\",\n",
    ")\n",
    "products_store.head()"
   ]
  },
  {
   "cell_type": "markdown",
   "metadata": {},
   "source": [
    "Then loading the result of the classification algorithm"
   ]
  },
  {
   "cell_type": "code",
   "execution_count": 3,
   "metadata": {},
   "outputs": [
    {
     "data": {
      "text/html": [
       "<div>\n",
       "<style scoped>\n",
       "    .dataframe tbody tr th:only-of-type {\n",
       "        vertical-align: middle;\n",
       "    }\n",
       "\n",
       "    .dataframe tbody tr th {\n",
       "        vertical-align: top;\n",
       "    }\n",
       "\n",
       "    .dataframe thead th {\n",
       "        text-align: right;\n",
       "    }\n",
       "</style>\n",
       "<table border=\"1\" class=\"dataframe\">\n",
       "  <thead>\n",
       "    <tr style=\"text-align: right;\">\n",
       "      <th></th>\n",
       "      <th>Class</th>\n",
       "      <th>edge_purchases</th>\n",
       "      <th>n_purchases</th>\n",
       "      <th>solo_purchases</th>\n",
       "    </tr>\n",
       "    <tr>\n",
       "      <th>ProductId</th>\n",
       "      <th></th>\n",
       "      <th></th>\n",
       "      <th></th>\n",
       "      <th></th>\n",
       "    </tr>\n",
       "  </thead>\n",
       "  <tbody>\n",
       "    <tr>\n",
       "      <th>69253</th>\n",
       "      <td>Complementary</td>\n",
       "      <td>2052</td>\n",
       "      <td>2628</td>\n",
       "      <td>576</td>\n",
       "    </tr>\n",
       "    <tr>\n",
       "      <th>23395</th>\n",
       "      <td>Complementary</td>\n",
       "      <td>728</td>\n",
       "      <td>959</td>\n",
       "      <td>231</td>\n",
       "    </tr>\n",
       "    <tr>\n",
       "      <th>53048</th>\n",
       "      <td>Driver</td>\n",
       "      <td>447</td>\n",
       "      <td>724</td>\n",
       "      <td>277</td>\n",
       "    </tr>\n",
       "    <tr>\n",
       "      <th>94770</th>\n",
       "      <td>Complementary</td>\n",
       "      <td>4479</td>\n",
       "      <td>5464</td>\n",
       "      <td>985</td>\n",
       "    </tr>\n",
       "    <tr>\n",
       "      <th>105666</th>\n",
       "      <td>Driver</td>\n",
       "      <td>1238</td>\n",
       "      <td>1764</td>\n",
       "      <td>526</td>\n",
       "    </tr>\n",
       "  </tbody>\n",
       "</table>\n",
       "</div>"
      ],
      "text/plain": [
       "                   Class  edge_purchases  n_purchases  solo_purchases\n",
       "ProductId                                                            \n",
       "69253      Complementary            2052         2628             576\n",
       "23395      Complementary             728          959             231\n",
       "53048             Driver             447          724             277\n",
       "94770      Complementary            4479         5464             985\n",
       "105666            Driver            1238         1764             526"
      ]
     },
     "execution_count": 3,
     "metadata": {},
     "output_type": "execute_result"
    }
   ],
   "source": [
    "classified_products_store = session.read_csv(\n",
    "    \"s3://data.atoti.io/notebooks/products-classification/classified_products.csv\",\n",
    "    keys=[\"ProductId\"],\n",
    "    store_name=\"classified_products\",\n",
    ")\n",
    "classified_products_store.head()"
   ]
  },
  {
   "cell_type": "markdown",
   "metadata": {},
   "source": [
    "And join them together"
   ]
  },
  {
   "cell_type": "code",
   "execution_count": 4,
   "metadata": {},
   "outputs": [],
   "source": [
    "classified_products_store.join(products_store, mapping={\"ProductId\": \"ProductId\"})"
   ]
  },
  {
   "cell_type": "markdown",
   "metadata": {},
   "source": [
    "We can then create a cube"
   ]
  },
  {
   "cell_type": "code",
   "execution_count": 5,
   "metadata": {},
   "outputs": [],
   "source": [
    "products_cube = session.create_cube(classified_products_store, \"products_cube\")"
   ]
  },
  {
   "cell_type": "code",
   "execution_count": 6,
   "metadata": {},
   "outputs": [],
   "source": [
    "# We can now load all the data so that visualizations operate on the entire dataset.\n",
    "# NB: as a best practice, to optimize speed while exploring your data, we recommend keeping the default sampling mode enabled.\n",
    "#     Once the model is ready, as it is the case in this notebook, you may call session.load_all_data() after creating the cube.\n",
    "session.load_all_data()"
   ]
  },
  {
   "cell_type": "markdown",
   "metadata": {},
   "source": [
    "And have a first look at the data"
   ]
  },
  {
   "cell_type": "code",
   "execution_count": 7,
   "metadata": {
    "atoti": {
     "state": {
      "name": "Percentage of products per class pie chart",
      "type": "container",
      "value": {
       "body": {
        "configuration": {
         "mapping": {
          "horizontal": [],
          "splitBy": [
           "[Hierarchies].[Class].[Class]"
          ],
          "values": [
           "[Measures].[contributors.COUNT]"
          ],
          "vertical": [],
          "xAxis": []
         },
         "switchedTo": "plotly-donut-chart",
         "type": "plotly-line-chart"
        },
        "query": {
         "mdx": "SELECT NON EMPTY [Measures].[contributors.COUNT] ON COLUMNS, NON EMPTY [Hierarchies].[Class].[Class].Members ON ROWS FROM [products_cube] CELL PROPERTIES VALUE, FORMATTED_VALUE, BACK_COLOR, FORE_COLOR, FONT_FLAGS",
         "serverUrl": "",
         "updateMode": "once"
        }
       },
       "containerKey": "chart",
       "showTitleBar": false,
       "style": {}
      }
     }
    }
   },
   "outputs": [
    {
     "data": {
      "application/vnd.atoti.v0+json": {
       "cube": "products_cube",
       "name": "Percentage of products per class pie chart",
       "session": "Unnamed"
      },
      "text/plain": [
       "Install the Atoti JupyterLab extension to see this widget."
      ]
     },
     "metadata": {},
     "output_type": "display_data"
    }
   ],
   "source": [
    "products_cube.visualize(\"Percentage of products per class pie chart\")"
   ]
  },
  {
   "cell_type": "markdown",
   "metadata": {},
   "source": [
    "## Computing the margin\n",
    "The margin formula for a particular product is: $(Selling Price - Purchase Price) \\times Quantity Sold$\n",
    "\n",
    "To perform that calculation we will load the purchase and selling prices tables and join them to the current data structure."
   ]
  },
  {
   "cell_type": "code",
   "execution_count": 8,
   "metadata": {},
   "outputs": [
    {
     "data": {
      "text/html": [
       "<div>\n",
       "<style scoped>\n",
       "    .dataframe tbody tr th:only-of-type {\n",
       "        vertical-align: middle;\n",
       "    }\n",
       "\n",
       "    .dataframe tbody tr th {\n",
       "        vertical-align: top;\n",
       "    }\n",
       "\n",
       "    .dataframe thead th {\n",
       "        text-align: right;\n",
       "    }\n",
       "</style>\n",
       "<table border=\"1\" class=\"dataframe\">\n",
       "  <thead>\n",
       "    <tr style=\"text-align: right;\">\n",
       "      <th></th>\n",
       "      <th>PurchasePrice</th>\n",
       "    </tr>\n",
       "    <tr>\n",
       "      <th>ProductId</th>\n",
       "      <th></th>\n",
       "    </tr>\n",
       "  </thead>\n",
       "  <tbody>\n",
       "    <tr>\n",
       "      <th>76939.0</th>\n",
       "      <td>9.91</td>\n",
       "    </tr>\n",
       "    <tr>\n",
       "      <th>82520.0</th>\n",
       "      <td>1.80</td>\n",
       "    </tr>\n",
       "    <tr>\n",
       "      <th>82521.0</th>\n",
       "      <td>1.80</td>\n",
       "    </tr>\n",
       "    <tr>\n",
       "      <th>82522.0</th>\n",
       "      <td>1.80</td>\n",
       "    </tr>\n",
       "    <tr>\n",
       "      <th>82523.0</th>\n",
       "      <td>1.80</td>\n",
       "    </tr>\n",
       "  </tbody>\n",
       "</table>\n",
       "</div>"
      ],
      "text/plain": [
       "           PurchasePrice\n",
       "ProductId               \n",
       "76939.0             9.91\n",
       "82520.0             1.80\n",
       "82521.0             1.80\n",
       "82522.0             1.80\n",
       "82523.0             1.80"
      ]
     },
     "execution_count": 8,
     "metadata": {},
     "output_type": "execute_result"
    }
   ],
   "source": [
    "purchase_prices_store = session.read_csv(\n",
    "    \"s3://data.atoti.io/notebooks/products-classification/purchase_prices.csv\",\n",
    "    keys=[\"ProductId\"],\n",
    "    store_name=\"purchase_prices\",\n",
    ")\n",
    "purchase_prices_store.head()"
   ]
  },
  {
   "cell_type": "code",
   "execution_count": 9,
   "metadata": {},
   "outputs": [
    {
     "data": {
      "text/html": [
       "<div>\n",
       "<style scoped>\n",
       "    .dataframe tbody tr th:only-of-type {\n",
       "        vertical-align: middle;\n",
       "    }\n",
       "\n",
       "    .dataframe tbody tr th {\n",
       "        vertical-align: top;\n",
       "    }\n",
       "\n",
       "    .dataframe thead th {\n",
       "        text-align: right;\n",
       "    }\n",
       "</style>\n",
       "<table border=\"1\" class=\"dataframe\">\n",
       "  <thead>\n",
       "    <tr style=\"text-align: right;\">\n",
       "      <th></th>\n",
       "      <th>SellingPrice</th>\n",
       "    </tr>\n",
       "    <tr>\n",
       "      <th>ProductId</th>\n",
       "      <th></th>\n",
       "    </tr>\n",
       "  </thead>\n",
       "  <tbody>\n",
       "    <tr>\n",
       "      <th>6707.0</th>\n",
       "      <td>4.20</td>\n",
       "    </tr>\n",
       "    <tr>\n",
       "      <th>26332.0</th>\n",
       "      <td>26.35</td>\n",
       "    </tr>\n",
       "    <tr>\n",
       "      <th>27200.0</th>\n",
       "      <td>7.65</td>\n",
       "    </tr>\n",
       "    <tr>\n",
       "      <th>27480.0</th>\n",
       "      <td>178.20</td>\n",
       "    </tr>\n",
       "    <tr>\n",
       "      <th>46379.0</th>\n",
       "      <td>260.15</td>\n",
       "    </tr>\n",
       "  </tbody>\n",
       "</table>\n",
       "</div>"
      ],
      "text/plain": [
       "           SellingPrice\n",
       "ProductId              \n",
       "6707.0             4.20\n",
       "26332.0           26.35\n",
       "27200.0            7.65\n",
       "27480.0          178.20\n",
       "46379.0          260.15"
      ]
     },
     "execution_count": 9,
     "metadata": {},
     "output_type": "execute_result"
    }
   ],
   "source": [
    "selling_prices_store = session.read_csv(\n",
    "    \"s3://data.atoti.io/notebooks/products-classification/selling_prices.csv\",\n",
    "    keys=[\"ProductId\"],\n",
    "    store_name=\"selling_prices\",\n",
    ")\n",
    "selling_prices_store.head()"
   ]
  },
  {
   "cell_type": "code",
   "execution_count": 10,
   "metadata": {},
   "outputs": [],
   "source": [
    "classified_products_store.join(\n",
    "    purchase_prices_store, mapping={\"ProductId\": \"ProductId\"}\n",
    ")\n",
    "classified_products_store.join(selling_prices_store, mapping={\"ProductId\": \"ProductId\"})"
   ]
  },
  {
   "cell_type": "markdown",
   "metadata": {},
   "source": [
    "Let's now add the margin measure"
   ]
  },
  {
   "cell_type": "code",
   "execution_count": 11,
   "metadata": {},
   "outputs": [],
   "source": [
    "products_measures = products_cube.measures"
   ]
  },
  {
   "cell_type": "markdown",
   "metadata": {},
   "source": [
    "Because selling and purchase prices are different per products, we have to compute the margin at ProductId level using parameter \"scope\", and then aggregate it as a sum above this level."
   ]
  },
  {
   "cell_type": "code",
   "execution_count": 12,
   "metadata": {},
   "outputs": [],
   "source": [
    "products_measures[\"Margin.SUM\"] = atoti.agg.sum(\n",
    "    (products_measures[\"SellingPrice.VALUE\"] - products_measures[\"PurchasePrice.VALUE\"])\n",
    "    * classified_products_store[\"n_purchases\"],\n",
    "    scope=atoti.scope.origin(\"ProductId\"),\n",
    ")"
   ]
  },
  {
   "cell_type": "code",
   "execution_count": 14,
   "metadata": {
    "atoti": {
     "state": {
      "name": "Margin per product class",
      "type": "container",
      "value": {
       "body": {
        "configuration": {
         "mapping": {
          "horizontal": [],
          "splitBy": [],
          "values": [
           "[Measures].[Margin.SUM]"
          ],
          "vertical": [],
          "xAxis": [
           "[Hierarchies].[Class].[Class]"
          ]
         },
         "switchedTo": "plotly-clustered-column-chart",
         "type": "plotly-line-chart"
        },
        "query": {
         "mdx": "SELECT NON EMPTY [Hierarchies].[Class].[Class].Members ON ROWS, NON EMPTY [Measures].[Margin.SUM] ON COLUMNS FROM [products_cube] CELL PROPERTIES VALUE, FORMATTED_VALUE, BACK_COLOR, FORE_COLOR, FONT_FLAGS",
         "serverUrl": "",
         "updateMode": "once"
        }
       },
       "containerKey": "chart",
       "showTitleBar": false,
       "style": {}
      }
     }
    }
   },
   "outputs": [
    {
     "data": {
      "application/vnd.atoti.v0+json": {
       "cube": "products_cube",
       "name": "Margin per product class",
       "session": "Unnamed"
      },
      "text/plain": [
       "Install the Atoti JupyterLab extension to see this widget."
      ]
     },
     "metadata": {},
     "output_type": "display_data"
    }
   ],
   "source": [
    "products_cube.visualize(\"Margin per product class\")"
   ]
  },
  {
   "cell_type": "markdown",
   "metadata": {},
   "source": [
    "Atoti visualizations are available both in the notebook, but also from the dedicated application.  \n",
    "Run the two cells below to get a link to a summary dashboard of all what was done so far."
   ]
  },
  {
   "cell_type": "code",
   "execution_count": 15,
   "metadata": {},
   "outputs": [],
   "source": [
    "products_measures[\"SellingPrice.AVG\"] = atoti.agg.avg(\n",
    "    selling_prices_store[\"SellingPrice\"]\n",
    ")"
   ]
  },
  {
   "cell_type": "code",
   "execution_count": null,
   "metadata": {},
   "outputs": [],
   "source": [
    "session.url + \"/#/dashboard/326\""
   ]
  },
  {
   "cell_type": "markdown",
   "metadata": {},
   "source": [
    "If you wish to play with the UI and explore the data by yourself, [you can have a look at our UI documentation here](https://www.activeviam.com/activeui/documentation/index.html)."
   ]
  },
  {
   "cell_type": "markdown",
   "metadata": {},
   "source": [
    "## Computing the price index\n",
    "\n",
    "There are different existing formulas for the price index but the idea behind is always the same: the price index is a measurement of where a retailer is positioned compared to one or multiple of its competitors.\n",
    "\n",
    "The formula we will use in this example compares a product price to the average price found among the competitors, measuring at which percentage of this average competitors price the product is.  \n",
    "\n",
    "We will weight the price index indicator by the margin when aggregating above product level so that we later optimize the price index for products that contribute the most to our margin.  \n",
    "Other commonly used formulas weight by sales quantity or revenue."
   ]
  },
  {
   "cell_type": "markdown",
   "metadata": {},
   "source": [
    "### Price Index Formula"
   ]
  },
  {
   "cell_type": "markdown",
   "metadata": {},
   "source": [
    "# $100 \\times \\frac{\\sum_{p \\in Products}\\frac{Selling Price(p)}{Average Competitor Price(p)} \\times Margin(p)}{\\sum_{p \\in Products}Margin(p)}$"
   ]
  },
  {
   "cell_type": "markdown",
   "metadata": {},
   "source": [
    "### Loading Competitor prices data"
   ]
  },
  {
   "cell_type": "code",
   "execution_count": 17,
   "metadata": {},
   "outputs": [],
   "source": [
    "competitor_prices_store = session.read_csv(\n",
    "    \"s3://data.atoti.io/notebooks/products-classification/competitor_prices.csv\",\n",
    "    keys=[\"ProductId\", \"CompetitorName\"],\n",
    "    store_name=\"Competitor_prices_store\",\n",
    ")"
   ]
  },
  {
   "cell_type": "code",
   "execution_count": 18,
   "metadata": {},
   "outputs": [],
   "source": [
    "competitor_prices_store.join(\n",
    "    classified_products_store, mapping={\"ProductId\": \"ProductId\"}\n",
    ")"
   ]
  },
  {
   "cell_type": "markdown",
   "metadata": {},
   "source": [
    "### Creating the price index measure"
   ]
  },
  {
   "cell_type": "code",
   "execution_count": 19,
   "metadata": {},
   "outputs": [],
   "source": [
    "price_indices_cube = session.create_cube(\n",
    "    competitor_prices_store, \"Competitor_prices_cube\"\n",
    ")"
   ]
  },
  {
   "cell_type": "code",
   "execution_count": 20,
   "metadata": {},
   "outputs": [],
   "source": [
    "m = price_indices_cube.measures"
   ]
  },
  {
   "cell_type": "code",
   "execution_count": 21,
   "metadata": {},
   "outputs": [],
   "source": [
    "# We need to re-define the margin measure since this is a new cube\n",
    "m[\"Margin.SUM\"] = atoti.agg.sum(\n",
    "    (m[\"SellingPrice.VALUE\"] - m[\"PurchasePrice.VALUE\"])\n",
    "    * classified_products_store[\"n_purchases\"],\n",
    "    scope=atoti.scope.origin(\"ProductId\"),\n",
    ")"
   ]
  },
  {
   "cell_type": "code",
   "execution_count": 22,
   "metadata": {},
   "outputs": [],
   "source": [
    "m[\"Average selling price\"] = atoti.agg.avg(\n",
    "    m[\"SellingPrice.VALUE\"], scope=atoti.scope.origin(\"ProductId\")\n",
    ")"
   ]
  },
  {
   "cell_type": "markdown",
   "metadata": {},
   "source": [
    "The \"scope\" parameters enables you to have a different aggregation strategy below the \"on\" level.  \n",
    "In the following cell, everything above Product (ProductId) level is aggregated as a sum, while below the product level we find the previous formula, that does an average on the competitor prices just for one particular product."
   ]
  },
  {
   "cell_type": "code",
   "execution_count": 23,
   "metadata": {},
   "outputs": [],
   "source": [
    "price_index_numerator = atoti.agg.sum(\n",
    "    (m[\"Average selling price\"] * m[\"Margin.SUM\"]) / m[\"CompetitorPrice.AVG\"],\n",
    "    scope=atoti.scope.origin(\"ProductId\"),\n",
    ")"
   ]
  },
  {
   "cell_type": "code",
   "execution_count": 24,
   "metadata": {
    "atoti": {
     "state": {
      "name": "",
      "type": "container",
      "value": {
       "body": {
        "configuration": {
         "mapping": {
          "horizontal": [],
          "splitBy": [],
          "values": [
           "[Measures].[Price Index]"
          ],
          "vertical": [],
          "xAxis": [
           "[Hierarchies].[Class].[Class]"
          ]
         },
         "switchedTo": "plotly-stacked-column-chart",
         "type": "plotly-line-chart"
        },
        "query": {
         "mdx": "SELECT NON EMPTY [Hierarchies].[Class].[Class].Members ON ROWS, NON EMPTY [Measures].[Price Index] ON COLUMNS FROM [Competitor_prices_cube] CELL PROPERTIES VALUE, FORMATTED_VALUE, BACK_COLOR, FORE_COLOR, FONT_FLAGS",
         "serverUrl": "",
         "updateMode": "once"
        }
       },
       "containerKey": "chart",
       "showTitleBar": false,
       "style": {}
      }
     }
    }
   },
   "outputs": [],
   "source": [
    "m[\"Price Index\"] = 100 * price_index_numerator / m[\"Margin.SUM\"]"
   ]
  },
  {
   "cell_type": "markdown",
   "metadata": {},
   "source": [
    "The price index measure is now created accordingly to the formula.\n",
    "\n",
    "We can see below that our driver products are in fact a bit more expensive than the average market price while we are quite competitive on the complementary products, which is the opposite of our goal."
   ]
  },
  {
   "cell_type": "code",
   "execution_count": 26,
   "metadata": {
    "atoti": {
     "state": {
      "name": "",
      "type": "container",
      "value": {
       "body": {
        "configuration": {
         "tabular": {
          "addButtonFilter": "numeric",
          "columnsGroups": [
           {
            "captionProducer": "firstColumn",
            "cellFactory": "kpi-status",
            "selector": "kpi-status"
           },
           {
            "captionProducer": "firstColumn",
            "cellFactory": "lookup",
            "selector": "lookup"
           },
           {
            "captionProducer": "expiry",
            "cellFactory": "expiry",
            "selector": "kpi-expiry"
           },
           {
            "captionProducer": "columnMerge",
            "cellFactory": {
             "args": {
              "automaticExpansion": true
             },
             "key": "treeCells"
            },
            "selector": "member"
           }
          ],
          "defaultOptions": {},
          "hideAddButton": true,
          "lineNumbers": true,
          "pinnedHeaderSelector": "member",
          "sortingMode": "non-breaking",
          "statisticsShown": true
         }
        },
        "contextValues": {},
        "mdx": "SELECT NON EMPTY Hierarchize(DrilldownLevel([Hierarchies].[Class].[ALL].[AllMember])) ON ROWS, NON EMPTY {[Measures].[Price Index], [Measures].[Margin.SUM]} ON COLUMNS FROM [Competitor_prices_cube] CELL PROPERTIES VALUE, FORMATTED_VALUE, BACK_COLOR, FORE_COLOR, FONT_FLAGS",
        "ranges": {
         "column": {
          "chunkSize": 50,
          "thresholdPercentage": 0.2
         },
         "row": {
          "chunkSize": 2000,
          "thresholdPercentage": 0.1
         }
        },
        "serverUrl": "",
        "updateMode": "once"
       },
       "containerKey": "pivot-table",
       "showTitleBar": false,
       "style": {}
      }
     }
    }
   },
   "outputs": [
    {
     "data": {
      "application/vnd.atoti.v0+json": {
       "cube": "Competitor_prices_cube",
       "name": null,
       "session": "Unnamed"
      },
      "text/plain": [
       "Install the Atoti JupyterLab extension to see this widget."
      ]
     },
     "metadata": {},
     "output_type": "display_data"
    }
   ],
   "source": [
    "price_indices_cube.visualize()"
   ]
  },
  {
   "cell_type": "markdown",
   "metadata": {},
   "source": [
    "## Simulate Price Strategies"
   ]
  },
  {
   "cell_type": "markdown",
   "metadata": {},
   "source": [
    "Complementary products are usually less expensive than those of the other two categories and people tend to ignore their price. This means that an increase in price does not necessarily mean a drop in sales.  \n",
    "In a first simulation we will try to assess how much margin we can make if we increase their price by 10%.\n",
    "\n",
    "We will first import our pricing methods: in this example a very simple pricing functions from our `pricer.py` file."
   ]
  },
  {
   "cell_type": "code",
   "execution_count": 27,
   "metadata": {},
   "outputs": [],
   "source": [
    "from price_engine import pricer"
   ]
  },
  {
   "cell_type": "markdown",
   "metadata": {},
   "source": [
    "Then we simply generate a new price list where the prices of all complementary products has been increased by 10%.  \n",
    "For that matter we need to pass as argument the initial list of prices, and information about the classification."
   ]
  },
  {
   "cell_type": "code",
   "execution_count": 28,
   "metadata": {},
   "outputs": [],
   "source": [
    "import pandas as pd\n",
    "\n",
    "selling_prices = pd.read_csv(\n",
    "    \"http://data.atoti.io/notebooks/products-classification/selling_prices.csv\", sep=\";\"\n",
    ")\n",
    "classified_products = pd.read_csv(\n",
    "    \"http://data.atoti.io/notebooks/products-classification/classified_products.csv\",\n",
    "    sep=\";\",\n",
    ")\n",
    "initial_price_list_with_classes = selling_prices.merge(classified_products)"
   ]
  },
  {
   "cell_type": "code",
   "execution_count": 29,
   "metadata": {},
   "outputs": [],
   "source": [
    "selling_prices_with_costly_complementary_products = pricer.increase_price_by_percentage_on_class(\n",
    "    initial_price_list_with_classes, 10, \"Complementary\"\n",
    ")"
   ]
  },
  {
   "cell_type": "markdown",
   "metadata": {},
   "source": [
    "Once this is done, what we will do is re-load the price list, but instead of replacing the previous one, we will load it into a new scenario called \"Increased price on complementary products\". All KPIs defined previously such as the price index will be re-computed on the fly which will enable us to compare scenarios and their benefits."
   ]
  },
  {
   "cell_type": "code",
   "execution_count": 30,
   "metadata": {},
   "outputs": [],
   "source": [
    "selling_prices_store.scenarios[\"Increased price on complementary products\"].load_pandas(\n",
    "    selling_prices_with_costly_complementary_products\n",
    ")"
   ]
  },
  {
   "cell_type": "markdown",
   "metadata": {},
   "source": [
    "We can see below that this represents a gain of 10 million per year, while increasing the index dramatically from 98.52 to 108.37"
   ]
  },
  {
   "cell_type": "code",
   "execution_count": 32,
   "metadata": {
    "atoti": {
     "state": {
      "name": "Comparison of the two scenarios per class",
      "type": "container",
      "value": {
       "body": {
        "configuration": {
         "tabular": {
          "addButtonFilter": "numeric",
          "columnOrder": {
           "args": {
            "orderedColumns": [
             "__lineNumber__",
             "c-treeCells-member",
             "[Measures].[Price Index]",
             "[Measures].[Price Index Delta]",
             "[Measures].[Margin.SUM]",
             "[Measures].[Margin Delta]"
            ]
           },
           "key": "explicit"
          },
          "columns": [
           {
            "key": "[Measures].[Margin Delta]",
            "width": 111
           },
           {
            "key": "[Measures].[Price Index Delta]",
            "width": 160
           }
          ],
          "columnsGroups": [
           {
            "captionProducer": "firstColumn",
            "cellFactory": "kpi-status",
            "selector": "kpi-status"
           },
           {
            "captionProducer": "firstColumn",
            "cellFactory": "lookup",
            "selector": "lookup"
           },
           {
            "captionProducer": "expiry",
            "cellFactory": "expiry",
            "selector": "kpi-expiry"
           },
           {
            "captionProducer": "columnMerge",
            "cellFactory": {
             "args": {
              "automaticExpansion": true
             },
             "key": "treeCells"
            },
            "selector": "member"
           }
          ],
          "defaultOptions": {},
          "hideAddButton": true,
          "lineNumbers": true,
          "pinnedHeaderSelector": "member",
          "sortingMode": "non-breaking",
          "statisticsShown": true
         }
        },
        "contextValues": {},
        "mdx": "WITH  Member [Measures].[Margin Delta] AS [Measures].[Margin.SUM] - ([Measures].[Margin.SUM], [Epoch].[Epoch].[Base]), FORE_COLOR = CASE WHEN [Measures].[Margin Delta] >= 0 THEN rgb(44, 160, 44) WHEN [Measures].[Margin Delta] < 0 THEN rgb(224, 102, 102) END, FONT_FLAGS = CASE WHEN [Measures].[Margin Delta] >= 0 THEN 1 WHEN [Measures].[Margin Delta] < 0 THEN 1 END, FORMAT_STRING = \"#,###.##\"    Member [Measures].[Price Index Delta] AS [Measures].[Price Index] - ([Measures].[Price Index], [Epoch].[Epoch].[Base]), FORE_COLOR = CASE WHEN [Measures].[Price Index Delta] <= 0 THEN rgb(44, 160, 44) WHEN [Measures].[Price Index Delta] > 0 THEN rgb(224, 102, 102) END, FONT_FLAGS = CASE WHEN [Measures].[Price Index Delta] <= 0 THEN 1 WHEN [Measures].[Price Index Delta] > 0 THEN 1 END, FORMAT_STRING = \"#,###.##\"  SELECT NON EMPTY Crossjoin(Hierarchize(DrilldownLevel([Hierarchies].[Class].[ALL].[AllMember])), Hierarchize([Epoch].[Epoch].[Branch].Members)) ON ROWS, NON EMPTY {[Measures].[Price Index], [Measures].[Margin.SUM], [Measures].[Margin Delta], [Measures].[Price Index Delta]} ON COLUMNS FROM [Competitor_prices_cube] CELL PROPERTIES BACK_COLOR, FONT_FLAGS, FORE_COLOR, FORMATTED_VALUE, VALUE",
        "ranges": {
         "column": {
          "chunkSize": 50,
          "thresholdPercentage": 0.2
         },
         "row": {
          "chunkSize": 2000,
          "thresholdPercentage": 0.1
         }
        },
        "serverUrl": "",
        "updateMode": "once"
       },
       "containerKey": "pivot-table",
       "showTitleBar": false,
       "style": {}
      }
     }
    }
   },
   "outputs": [
    {
     "data": {
      "application/vnd.atoti.v0+json": {
       "cube": "Competitor_prices_cube",
       "name": "Comparison of the two scenarios per class",
       "session": "Unnamed"
      },
      "text/plain": [
       "Install the Atoti JupyterLab extension to see this widget."
      ]
     },
     "metadata": {},
     "output_type": "display_data"
    }
   ],
   "source": [
    "price_indices_cube.visualize(\"Comparison of the two scenarios per class\")"
   ]
  },
  {
   "cell_type": "markdown",
   "metadata": {},
   "source": [
    "As seen before a better strategy is to improve the price image by being more competitive on the driver and independent products, hence lowering the prices of those products, while compensating the losses in margin by increasing the prices of the complementary products.  \n",
    "\n",
    "We will give our initial price list to a prices optimizer that will do just that, and then load the resulting price list into a third scenario named \"Optimized price index\" that we will be able to compared to the two previous."
   ]
  },
  {
   "cell_type": "code",
   "execution_count": 33,
   "metadata": {},
   "outputs": [],
   "source": [
    "selling_prices_for_optimized_price_index = pricer.optimize_price_index(\n",
    "    initial_price_list_with_classes\n",
    ")"
   ]
  },
  {
   "cell_type": "code",
   "execution_count": 34,
   "metadata": {},
   "outputs": [],
   "source": [
    "selling_prices_store.scenarios[\"Optimized price index\"].load_pandas(\n",
    "    selling_prices_for_optimized_price_index\n",
    ")"
   ]
  },
  {
   "cell_type": "markdown",
   "metadata": {},
   "source": [
    "The result as we can see below is much better since we have been able to very slightly increase our global margin, while being much more competitive on the Driver products"
   ]
  },
  {
   "cell_type": "code",
   "execution_count": 36,
   "metadata": {
    "atoti": {
     "state": {
      "name": "Results summary",
      "type": "container",
      "value": {
       "body": {
        "configuration": {
         "tabular": {
          "addButtonFilter": "numeric",
          "columnOrder": {
           "args": {
            "orderedColumns": [
             "__lineNumber__",
             "c-treeCells-member",
             "[Measures].[Price Index]",
             "[Measures].[Price Index Delta]",
             "[Measures].[Margin.SUM]",
             "[Measures].[Margin Delta]"
            ]
           },
           "key": "explicit"
          },
          "columns": [
           {
            "key": "[Measures].[Price Index Delta]",
            "width": 148
           }
          ],
          "columnsGroups": [
           {
            "captionProducer": "firstColumn",
            "cellFactory": "kpi-status",
            "selector": "kpi-status"
           },
           {
            "captionProducer": "firstColumn",
            "cellFactory": "lookup",
            "selector": "lookup"
           },
           {
            "captionProducer": "expiry",
            "cellFactory": "expiry",
            "selector": "kpi-expiry"
           },
           {
            "captionProducer": "columnMerge",
            "cellFactory": {
             "args": {
              "automaticExpansion": true
             },
             "key": "treeCells"
            },
            "selector": "member"
           }
          ],
          "defaultOptions": {},
          "hideAddButton": true,
          "lineNumbers": true,
          "pinnedHeaderSelector": "member",
          "sortingMode": "non-breaking",
          "statisticsShown": true
         }
        },
        "contextValues": {},
        "mdx": "WITH  Member [Measures].[Margin Delta] AS [Measures].[Margin.SUM] - ([Measures].[Margin.SUM], [Epoch].[Epoch].[Base]), FORE_COLOR = CASE WHEN [Measures].[Margin Delta] >= 0 THEN rgb(44, 160, 44) WHEN [Measures].[Margin Delta] < 0 THEN rgb(224, 102, 102) END, FONT_FLAGS = CASE WHEN [Measures].[Margin Delta] >= 0 THEN 1 WHEN [Measures].[Margin Delta] < 0 THEN 1 END, FORMAT_STRING = \"#,###.##\"    Member [Measures].[Price Index Delta] AS [Measures].[Price Index] - ([Measures].[Price Index], [Epoch].[Epoch].[Base]), FORE_COLOR = CASE WHEN [Measures].[Price Index Delta] <= 0 THEN rgb(44, 160, 44) WHEN [Measures].[Price Index Delta] > 0 THEN rgb(224, 102, 102) END, FONT_FLAGS = CASE WHEN [Measures].[Price Index Delta] <= 0 THEN 1 WHEN [Measures].[Price Index Delta] > 0 THEN 1 END, FORMAT_STRING = \"#,###.##\"  SELECT NON EMPTY Crossjoin(Hierarchize([Epoch].[Epoch].[Branch].Members), Hierarchize(DrilldownLevel([Hierarchies].[Class].[ALL].[AllMember]))) ON ROWS, NON EMPTY {[Measures].[Price Index], [Measures].[Margin.SUM], [Measures].[Margin Delta], [Measures].[Price Index Delta]} ON COLUMNS FROM [Competitor_prices_cube] CELL PROPERTIES BACK_COLOR, FONT_FLAGS, FORE_COLOR, FORMATTED_VALUE, VALUE",
        "ranges": {
         "column": {
          "chunkSize": 50,
          "thresholdPercentage": 0.2
         },
         "row": {
          "chunkSize": 2000,
          "thresholdPercentage": 0.1
         }
        },
        "serverUrl": "",
        "updateMode": "once"
       },
       "containerKey": "pivot-table",
       "showTitleBar": false,
       "style": {}
      }
     }
    }
   },
   "outputs": [
    {
     "data": {
      "application/vnd.atoti.v0+json": {
       "cube": "Competitor_prices_cube",
       "name": "Results summary",
       "session": "Unnamed"
      },
      "text/plain": [
       "Install the Atoti JupyterLab extension to see this widget."
      ]
     },
     "metadata": {},
     "output_type": "display_data"
    }
   ],
   "source": [
    "price_indices_cube.visualize(\"Results summary\")"
   ]
  },
  {
   "cell_type": "code",
   "execution_count": 37,
   "metadata": {
    "atoti": {
     "state": {
      "name": "Price index comparison across scenarios (per class)",
      "type": "container",
      "value": {
       "body": {
        "configuration": {
         "mapping": {
          "horizontal": [],
          "splitBy": [
           "[Epoch].[Epoch].[Branch]"
          ],
          "values": [
           "[Measures].[Price Index]"
          ],
          "vertical": [],
          "xAxis": [
           "[Hierarchies].[Class].[Class]"
          ]
         },
         "switchedTo": "plotly-clustered-column-chart",
         "type": "plotly-line-chart"
        },
        "query": {
         "mdx": "SELECT NON EMPTY Crossjoin([Hierarchies].[Class].[Class].Members, [Epoch].[Epoch].[Branch].Members) ON ROWS, NON EMPTY [Measures].[Price Index] ON COLUMNS FROM [Competitor_prices_cube] CELL PROPERTIES VALUE, FORMATTED_VALUE, BACK_COLOR, FORE_COLOR, FONT_FLAGS",
         "serverUrl": "",
         "updateMode": "once"
        }
       },
       "containerKey": "chart",
       "showTitleBar": false,
       "style": {}
      }
     }
    }
   },
   "outputs": [
    {
     "data": {
      "application/vnd.atoti.v0+json": {
       "cube": "Competitor_prices_cube",
       "name": "Price index comparison across scenarios (per class)",
       "session": "Unnamed"
      },
      "text/plain": [
       "Install the Atoti JupyterLab extension to see this widget."
      ]
     },
     "metadata": {},
     "output_type": "display_data"
    }
   ],
   "source": [
    "price_indices_cube.visualize(\"Price index comparison across scenarios (per class)\")"
   ]
  },
  {
   "cell_type": "markdown",
   "metadata": {},
   "source": [
    "You can also have a look at our second summary dashboard of the simulation part (run the next cell to get the link)"
   ]
  },
  {
   "cell_type": "code",
   "execution_count": null,
   "metadata": {},
   "outputs": [],
   "source": [
    "session.url + \"/#/dashboard/a17\""
   ]
  }
 ],
 "metadata": {
  "kernelspec": {
   "display_name": "Python 3",
   "language": "python",
   "name": "python3"
  },
  "language_info": {
   "codemirror_mode": {
    "name": "ipython",
    "version": 3
   },
   "file_extension": ".py",
   "mimetype": "text/x-python",
   "name": "python",
   "nbconvert_exporter": "python",
   "pygments_lexer": "ipython3",
   "version": "3.7.6"
  }
 },
 "nbformat": 4,
 "nbformat_minor": 4
}
