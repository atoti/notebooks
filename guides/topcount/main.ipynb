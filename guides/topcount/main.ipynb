{
 "cells": [
  {
   "cell_type": "markdown",
   "metadata": {},
   "source": [
    "# Ways to visualize top count in Jupyter notebook\n",
    "\n",
    "Given different categories of items, what are the ways to get the top 10 or n items in each category or across categories with Python in Jupyter notebook?\n",
    "\n",
    "Let's explore using Pandas and atoti. We will be using the [Google Play Store Apps data](https://www.kaggle.com/lava18/google-play-store-apps) from Kaggle. Refer to [license.txt](./license.txt) for data license."
   ]
  },
  {
   "cell_type": "markdown",
   "metadata": {},
   "source": [
    "## Top count with Pandas"
   ]
  },
  {
   "cell_type": "code",
   "execution_count": 1,
   "metadata": {},
   "outputs": [],
   "source": [
    "import numpy as np\n",
    "import pandas as pd"
   ]
  },
  {
   "cell_type": "code",
   "execution_count": 2,
   "metadata": {},
   "outputs": [
    {
     "data": {
      "text/html": [
       "<div>\n",
       "<style scoped>\n",
       "    .dataframe tbody tr th:only-of-type {\n",
       "        vertical-align: middle;\n",
       "    }\n",
       "\n",
       "    .dataframe tbody tr th {\n",
       "        vertical-align: top;\n",
       "    }\n",
       "\n",
       "    .dataframe thead th {\n",
       "        text-align: right;\n",
       "    }\n",
       "</style>\n",
       "<table border=\"1\" class=\"dataframe\">\n",
       "  <thead>\n",
       "    <tr style=\"text-align: right;\">\n",
       "      <th></th>\n",
       "      <th>App</th>\n",
       "      <th>Category</th>\n",
       "      <th>Rating</th>\n",
       "      <th>Reviews</th>\n",
       "      <th>Size</th>\n",
       "      <th>Installs</th>\n",
       "      <th>Type</th>\n",
       "      <th>Price</th>\n",
       "      <th>Content Rating</th>\n",
       "      <th>Genres</th>\n",
       "      <th>Last Updated</th>\n",
       "      <th>Current Ver</th>\n",
       "      <th>Android Ver</th>\n",
       "    </tr>\n",
       "  </thead>\n",
       "  <tbody>\n",
       "    <tr>\n",
       "      <th>0</th>\n",
       "      <td>Weather forecast</td>\n",
       "      <td>WEATHER</td>\n",
       "      <td>4.8</td>\n",
       "      <td>159455</td>\n",
       "      <td>10000000.0</td>\n",
       "      <td>1000000</td>\n",
       "      <td>Free</td>\n",
       "      <td>0.00</td>\n",
       "      <td>Everyone</td>\n",
       "      <td>Weather</td>\n",
       "      <td>May 8, 2018</td>\n",
       "      <td>1.11.93</td>\n",
       "      <td>4.4 and up</td>\n",
       "    </tr>\n",
       "    <tr>\n",
       "      <th>1</th>\n",
       "      <td>Weather Live Pro</td>\n",
       "      <td>WEATHER</td>\n",
       "      <td>4.8</td>\n",
       "      <td>17493</td>\n",
       "      <td>11000000.0</td>\n",
       "      <td>100000</td>\n",
       "      <td>Paid</td>\n",
       "      <td>4.49</td>\n",
       "      <td>Everyone</td>\n",
       "      <td>Weather</td>\n",
       "      <td>April 20, 2018</td>\n",
       "      <td>1.3</td>\n",
       "      <td>4.4 and up</td>\n",
       "    </tr>\n",
       "    <tr>\n",
       "      <th>2</th>\n",
       "      <td>Live Weather Pro</td>\n",
       "      <td>WEATHER</td>\n",
       "      <td>4.8</td>\n",
       "      <td>892</td>\n",
       "      <td>17000000.0</td>\n",
       "      <td>10000</td>\n",
       "      <td>Free</td>\n",
       "      <td>0.00</td>\n",
       "      <td>Everyone</td>\n",
       "      <td>Weather</td>\n",
       "      <td>July 17, 2018</td>\n",
       "      <td>1.1</td>\n",
       "      <td>4.4 and up</td>\n",
       "    </tr>\n",
       "    <tr>\n",
       "      <th>3</th>\n",
       "      <td>Fu*** Weather (Funny Weather)</td>\n",
       "      <td>WEATHER</td>\n",
       "      <td>4.7</td>\n",
       "      <td>20001</td>\n",
       "      <td>NaN</td>\n",
       "      <td>1000000</td>\n",
       "      <td>Free</td>\n",
       "      <td>0.00</td>\n",
       "      <td>Mature 17</td>\n",
       "      <td>Weather</td>\n",
       "      <td>July 26, 2018</td>\n",
       "      <td>Varies with device</td>\n",
       "      <td>Varies with device</td>\n",
       "    </tr>\n",
       "    <tr>\n",
       "      <th>4</th>\n",
       "      <td>Weather Forecast Pro</td>\n",
       "      <td>WEATHER</td>\n",
       "      <td>4.7</td>\n",
       "      <td>14051</td>\n",
       "      <td>8700000.0</td>\n",
       "      <td>100000</td>\n",
       "      <td>Paid</td>\n",
       "      <td>3.99</td>\n",
       "      <td>Everyone</td>\n",
       "      <td>Weather</td>\n",
       "      <td>August 4, 2018</td>\n",
       "      <td>8.5</td>\n",
       "      <td>4.0 and up</td>\n",
       "    </tr>\n",
       "  </tbody>\n",
       "</table>\n",
       "</div>"
      ],
      "text/plain": [
       "                             App Category  Rating  Reviews        Size  \\\n",
       "0               Weather forecast  WEATHER     4.8   159455  10000000.0   \n",
       "1               Weather Live Pro  WEATHER     4.8    17493  11000000.0   \n",
       "2               Live Weather Pro  WEATHER     4.8      892  17000000.0   \n",
       "3  Fu*** Weather (Funny Weather)  WEATHER     4.7    20001         NaN   \n",
       "4           Weather Forecast Pro  WEATHER     4.7    14051   8700000.0   \n",
       "\n",
       "   Installs  Type  Price Content Rating   Genres    Last Updated  \\\n",
       "0   1000000  Free   0.00       Everyone  Weather     May 8, 2018   \n",
       "1    100000  Paid   4.49       Everyone  Weather  April 20, 2018   \n",
       "2     10000  Free   0.00       Everyone  Weather   July 17, 2018   \n",
       "3   1000000  Free   0.00      Mature 17  Weather   July 26, 2018   \n",
       "4    100000  Paid   3.99       Everyone  Weather  August 4, 2018   \n",
       "\n",
       "          Current Ver         Android Ver  \n",
       "0             1.11.93          4.4 and up  \n",
       "1                 1.3          4.4 and up  \n",
       "2                 1.1          4.4 and up  \n",
       "3  Varies with device  Varies with device  \n",
       "4                 8.5          4.0 and up  "
      ]
     },
     "execution_count": 2,
     "metadata": {},
     "output_type": "execute_result"
    }
   ],
   "source": [
    "df_playstore = pd.read_csv(\"https://data.atoti.io/notebooks/topcount/googleplaystore_cleaned.csv\")\n",
    "df_playstore.head()"
   ]
  },
  {
   "cell_type": "markdown",
   "metadata": {},
   "source": [
    "### Top 10 apps with highest rating across categories  \n",
    "\n",
    "We can use Pandas [`nlargest`](https://pandas.pydata.org/pandas-docs/stable/reference/api/pandas.DataFrame.nlargest.html) function to get the top count, sorted first by Ratings and followed by Reviews."
   ]
  },
  {
   "cell_type": "code",
   "execution_count": 3,
   "metadata": {},
   "outputs": [
    {
     "data": {
      "text/html": [
       "<div>\n",
       "<style scoped>\n",
       "    .dataframe tbody tr th:only-of-type {\n",
       "        vertical-align: middle;\n",
       "    }\n",
       "\n",
       "    .dataframe tbody tr th {\n",
       "        vertical-align: top;\n",
       "    }\n",
       "\n",
       "    .dataframe thead th {\n",
       "        text-align: right;\n",
       "    }\n",
       "</style>\n",
       "<table border=\"1\" class=\"dataframe\">\n",
       "  <thead>\n",
       "    <tr style=\"text-align: right;\">\n",
       "      <th></th>\n",
       "      <th>App</th>\n",
       "      <th>Category</th>\n",
       "      <th>Rating</th>\n",
       "      <th>Reviews</th>\n",
       "      <th>Size</th>\n",
       "      <th>Installs</th>\n",
       "      <th>Type</th>\n",
       "      <th>Price</th>\n",
       "      <th>Content Rating</th>\n",
       "      <th>Genres</th>\n",
       "      <th>Last Updated</th>\n",
       "      <th>Current Ver</th>\n",
       "      <th>Android Ver</th>\n",
       "    </tr>\n",
       "  </thead>\n",
       "  <tbody>\n",
       "    <tr>\n",
       "      <th>3931</th>\n",
       "      <td>Ríos de Fe</td>\n",
       "      <td>LIFESTYLE</td>\n",
       "      <td>5.0</td>\n",
       "      <td>141</td>\n",
       "      <td>15000000.0</td>\n",
       "      <td>1000</td>\n",
       "      <td>Free</td>\n",
       "      <td>0.0</td>\n",
       "      <td>Everyone</td>\n",
       "      <td>Lifestyle</td>\n",
       "      <td>March 24, 2018</td>\n",
       "      <td>1.8</td>\n",
       "      <td>4.1 and up</td>\n",
       "    </tr>\n",
       "    <tr>\n",
       "      <th>5818</th>\n",
       "      <td>FD Calculator (EMI, SIP, RD &amp; Loan Eligilibility)</td>\n",
       "      <td>FINANCE</td>\n",
       "      <td>5.0</td>\n",
       "      <td>104</td>\n",
       "      <td>2300000.0</td>\n",
       "      <td>1000</td>\n",
       "      <td>Free</td>\n",
       "      <td>0.0</td>\n",
       "      <td>Everyone</td>\n",
       "      <td>Finance</td>\n",
       "      <td>August 7, 2018</td>\n",
       "      <td>2.1.0</td>\n",
       "      <td>4.1 and up</td>\n",
       "    </tr>\n",
       "    <tr>\n",
       "      <th>3932</th>\n",
       "      <td>Oración CX</td>\n",
       "      <td>LIFESTYLE</td>\n",
       "      <td>5.0</td>\n",
       "      <td>103</td>\n",
       "      <td>3800000.0</td>\n",
       "      <td>5000</td>\n",
       "      <td>Free</td>\n",
       "      <td>0.0</td>\n",
       "      <td>Everyone</td>\n",
       "      <td>Lifestyle</td>\n",
       "      <td>September 12, 2017</td>\n",
       "      <td>5.1.10</td>\n",
       "      <td>4.1 and up</td>\n",
       "    </tr>\n",
       "    <tr>\n",
       "      <th>6163</th>\n",
       "      <td>Barisal University App-BU Face</td>\n",
       "      <td>FAMILY</td>\n",
       "      <td>5.0</td>\n",
       "      <td>100</td>\n",
       "      <td>10000000.0</td>\n",
       "      <td>1000</td>\n",
       "      <td>Free</td>\n",
       "      <td>0.0</td>\n",
       "      <td>Everyone</td>\n",
       "      <td>Education</td>\n",
       "      <td>May 6, 2018</td>\n",
       "      <td>3.1.1</td>\n",
       "      <td>4.0.3 and up</td>\n",
       "    </tr>\n",
       "    <tr>\n",
       "      <th>6164</th>\n",
       "      <td>Master E.K</td>\n",
       "      <td>FAMILY</td>\n",
       "      <td>5.0</td>\n",
       "      <td>90</td>\n",
       "      <td>NaN</td>\n",
       "      <td>1000</td>\n",
       "      <td>Free</td>\n",
       "      <td>0.0</td>\n",
       "      <td>Everyone</td>\n",
       "      <td>Education</td>\n",
       "      <td>August 11, 2017</td>\n",
       "      <td>1.5.0</td>\n",
       "      <td>4.4 and up</td>\n",
       "    </tr>\n",
       "    <tr>\n",
       "      <th>462</th>\n",
       "      <td>CL REPL</td>\n",
       "      <td>TOOLS</td>\n",
       "      <td>5.0</td>\n",
       "      <td>47</td>\n",
       "      <td>17000000.0</td>\n",
       "      <td>1000</td>\n",
       "      <td>Free</td>\n",
       "      <td>0.0</td>\n",
       "      <td>Everyone</td>\n",
       "      <td>Tools</td>\n",
       "      <td>April 10, 2018</td>\n",
       "      <td>1.0.19</td>\n",
       "      <td>4.1 and up</td>\n",
       "    </tr>\n",
       "    <tr>\n",
       "      <th>2433</th>\n",
       "      <td>AJ Cam</td>\n",
       "      <td>PHOTOGRAPHY</td>\n",
       "      <td>5.0</td>\n",
       "      <td>44</td>\n",
       "      <td>2800000.0</td>\n",
       "      <td>100</td>\n",
       "      <td>Free</td>\n",
       "      <td>0.0</td>\n",
       "      <td>Everyone</td>\n",
       "      <td>Photography</td>\n",
       "      <td>January 23, 2018</td>\n",
       "      <td>1</td>\n",
       "      <td>4.1 and up</td>\n",
       "    </tr>\n",
       "    <tr>\n",
       "      <th>2059</th>\n",
       "      <td>Ek Vote</td>\n",
       "      <td>PRODUCTIVITY</td>\n",
       "      <td>5.0</td>\n",
       "      <td>43</td>\n",
       "      <td>6200000.0</td>\n",
       "      <td>500</td>\n",
       "      <td>Free</td>\n",
       "      <td>0.0</td>\n",
       "      <td>Everyone</td>\n",
       "      <td>Productivity</td>\n",
       "      <td>November 7, 2017</td>\n",
       "      <td>1.1</td>\n",
       "      <td>4.0.3 and up</td>\n",
       "    </tr>\n",
       "    <tr>\n",
       "      <th>3150</th>\n",
       "      <td>AI Today : Artificial Intelligence News &amp; AI 101</td>\n",
       "      <td>NEWS_AND_MAGAZINES</td>\n",
       "      <td>5.0</td>\n",
       "      <td>43</td>\n",
       "      <td>2300000.0</td>\n",
       "      <td>100</td>\n",
       "      <td>Free</td>\n",
       "      <td>0.0</td>\n",
       "      <td>Everyone</td>\n",
       "      <td>News &amp; Magazines</td>\n",
       "      <td>June 22, 2018</td>\n",
       "      <td>1</td>\n",
       "      <td>4.4 and up</td>\n",
       "    </tr>\n",
       "    <tr>\n",
       "      <th>6165</th>\n",
       "      <td>CS &amp; IT Interview Questions</td>\n",
       "      <td>FAMILY</td>\n",
       "      <td>5.0</td>\n",
       "      <td>43</td>\n",
       "      <td>3300000.0</td>\n",
       "      <td>1000</td>\n",
       "      <td>Free</td>\n",
       "      <td>0.0</td>\n",
       "      <td>Everyone</td>\n",
       "      <td>Education</td>\n",
       "      <td>March 27, 2018</td>\n",
       "      <td>1.1</td>\n",
       "      <td>4.2 and up</td>\n",
       "    </tr>\n",
       "  </tbody>\n",
       "</table>\n",
       "</div>"
      ],
      "text/plain": [
       "                                                    App            Category  \\\n",
       "3931                                         Ríos de Fe           LIFESTYLE   \n",
       "5818  FD Calculator (EMI, SIP, RD & Loan Eligilibility)             FINANCE   \n",
       "3932                                         Oración CX           LIFESTYLE   \n",
       "6163                     Barisal University App-BU Face              FAMILY   \n",
       "6164                                         Master E.K              FAMILY   \n",
       "462                                             CL REPL               TOOLS   \n",
       "2433                                             AJ Cam         PHOTOGRAPHY   \n",
       "2059                                            Ek Vote        PRODUCTIVITY   \n",
       "3150   AI Today : Artificial Intelligence News & AI 101  NEWS_AND_MAGAZINES   \n",
       "6165                        CS & IT Interview Questions              FAMILY   \n",
       "\n",
       "      Rating  Reviews        Size  Installs  Type  Price Content Rating  \\\n",
       "3931     5.0      141  15000000.0      1000  Free    0.0       Everyone   \n",
       "5818     5.0      104   2300000.0      1000  Free    0.0       Everyone   \n",
       "3932     5.0      103   3800000.0      5000  Free    0.0       Everyone   \n",
       "6163     5.0      100  10000000.0      1000  Free    0.0       Everyone   \n",
       "6164     5.0       90         NaN      1000  Free    0.0       Everyone   \n",
       "462      5.0       47  17000000.0      1000  Free    0.0       Everyone   \n",
       "2433     5.0       44   2800000.0       100  Free    0.0       Everyone   \n",
       "2059     5.0       43   6200000.0       500  Free    0.0       Everyone   \n",
       "3150     5.0       43   2300000.0       100  Free    0.0       Everyone   \n",
       "6165     5.0       43   3300000.0      1000  Free    0.0       Everyone   \n",
       "\n",
       "                Genres        Last Updated Current Ver   Android Ver  \n",
       "3931         Lifestyle      March 24, 2018         1.8    4.1 and up  \n",
       "5818           Finance      August 7, 2018       2.1.0    4.1 and up  \n",
       "3932         Lifestyle  September 12, 2017      5.1.10    4.1 and up  \n",
       "6163         Education         May 6, 2018       3.1.1  4.0.3 and up  \n",
       "6164         Education     August 11, 2017       1.5.0    4.4 and up  \n",
       "462              Tools      April 10, 2018      1.0.19    4.1 and up  \n",
       "2433       Photography    January 23, 2018           1    4.1 and up  \n",
       "2059      Productivity    November 7, 2017         1.1  4.0.3 and up  \n",
       "3150  News & Magazines       June 22, 2018           1    4.4 and up  \n",
       "6165         Education      March 27, 2018         1.1    4.2 and up  "
      ]
     },
     "execution_count": 3,
     "metadata": {},
     "output_type": "execute_result"
    }
   ],
   "source": [
    "df_playstore.nlargest(10, [\"Rating\", \"Reviews\"])"
   ]
  },
  {
   "cell_type": "markdown",
   "metadata": {},
   "source": [
    "### Top 10 categories with the most number of apps rated 5\n",
    "\n",
    "The following snippet group the apps that are rated 5 by category in order to obtain the count."
   ]
  },
  {
   "cell_type": "code",
   "execution_count": 4,
   "metadata": {},
   "outputs": [
    {
     "data": {
      "text/plain": [
       "Category\n",
       "ART_AND_DESIGN          1\n",
       "BOOKS_AND_REFERENCE     6\n",
       "BUSINESS               18\n",
       "COMICS                  2\n",
       "COMMUNICATION           5\n",
       "DATING                  6\n",
       "EVENTS                  6\n",
       "FAMILY                 67\n",
       "FINANCE                 8\n",
       "FOOD_AND_DRINK          2\n",
       "GAME                   12\n",
       "HEALTH_AND_FITNESS     12\n",
       "LIBRARIES_AND_DEMO      2\n",
       "LIFESTYLE              29\n",
       "MEDICAL                25\n",
       "NEWS_AND_MAGAZINES      7\n",
       "PARENTING               1\n",
       "PERSONALIZATION        10\n",
       "PHOTOGRAPHY             6\n",
       "PRODUCTIVITY            8\n",
       "SHOPPING                6\n",
       "SOCIAL                  8\n",
       "SPORTS                  4\n",
       "TOOLS                  17\n",
       "TRAVEL_AND_LOCAL        3\n",
       "Name: App, dtype: int64"
      ]
     },
     "execution_count": 4,
     "metadata": {},
     "output_type": "execute_result"
    }
   ],
   "source": [
    "cat_app_rated_5 = (\n",
    "    df_playstore[df_playstore[\"Rating\"] == 5].groupby([\"Category\"])[\"App\"].count()\n",
    ")\n",
    "cat_app_rated_5"
   ]
  },
  {
   "cell_type": "markdown",
   "metadata": {},
   "source": [
    "[pandas.DataFrame.plot.pie](https://pandas.pydata.org/pandas-docs/stable/reference/api/pandas.DataFrame.plot.pie.html) is a wrapper over wraps “matplotlib.pyplot.pie()”. We use it to plot a pie chart directly from the dataframe."
   ]
  },
  {
   "cell_type": "code",
   "execution_count": 5,
   "metadata": {},
   "outputs": [
    {
     "data": {
      "image/png": "[encoded data removed]",
      "text/plain": [
       "<Figure size 936x720 with 1 Axes>"
      ]
     },
     "metadata": {},
     "output_type": "display_data"
    }
   ],
   "source": [
    "plot = cat_app_rated_5.nlargest(10).plot.pie(figsize=(13, 10))"
   ]
  },
  {
   "cell_type": "markdown",
   "metadata": {},
   "source": [
    "### Top 10 apps within each category\n",
    "\n",
    "By sorting in descending order, we get the top count. Likewise, by sorting in ascending order, we get the bottom count.  \n",
    "By using `head(n)`, we can get the first n records that is sorted. "
   ]
  },
  {
   "cell_type": "code",
   "execution_count": 6,
   "metadata": {},
   "outputs": [
    {
     "data": {
      "text/html": [
       "<div>\n",
       "<style scoped>\n",
       "    .dataframe tbody tr th:only-of-type {\n",
       "        vertical-align: middle;\n",
       "    }\n",
       "\n",
       "    .dataframe tbody tr th {\n",
       "        vertical-align: top;\n",
       "    }\n",
       "\n",
       "    .dataframe thead th {\n",
       "        text-align: right;\n",
       "    }\n",
       "</style>\n",
       "<table border=\"1\" class=\"dataframe\">\n",
       "  <thead>\n",
       "    <tr style=\"text-align: right;\">\n",
       "      <th></th>\n",
       "      <th>App</th>\n",
       "      <th>Category</th>\n",
       "      <th>Rating</th>\n",
       "      <th>Reviews</th>\n",
       "      <th>Size</th>\n",
       "      <th>Installs</th>\n",
       "      <th>Type</th>\n",
       "      <th>Price</th>\n",
       "      <th>Content Rating</th>\n",
       "      <th>Genres</th>\n",
       "      <th>Last Updated</th>\n",
       "      <th>Current Ver</th>\n",
       "      <th>Android Ver</th>\n",
       "    </tr>\n",
       "  </thead>\n",
       "  <tbody>\n",
       "    <tr>\n",
       "      <th>0</th>\n",
       "      <td>Weather forecast</td>\n",
       "      <td>WEATHER</td>\n",
       "      <td>4.8</td>\n",
       "      <td>159455</td>\n",
       "      <td>10000000.0</td>\n",
       "      <td>1000000</td>\n",
       "      <td>Free</td>\n",
       "      <td>0.00</td>\n",
       "      <td>Everyone</td>\n",
       "      <td>Weather</td>\n",
       "      <td>May 8, 2018</td>\n",
       "      <td>1.11.93</td>\n",
       "      <td>4.4 and up</td>\n",
       "    </tr>\n",
       "    <tr>\n",
       "      <th>1</th>\n",
       "      <td>Weather Live Pro</td>\n",
       "      <td>WEATHER</td>\n",
       "      <td>4.8</td>\n",
       "      <td>17493</td>\n",
       "      <td>11000000.0</td>\n",
       "      <td>100000</td>\n",
       "      <td>Paid</td>\n",
       "      <td>4.49</td>\n",
       "      <td>Everyone</td>\n",
       "      <td>Weather</td>\n",
       "      <td>April 20, 2018</td>\n",
       "      <td>1.3</td>\n",
       "      <td>4.4 and up</td>\n",
       "    </tr>\n",
       "    <tr>\n",
       "      <th>2</th>\n",
       "      <td>Live Weather Pro</td>\n",
       "      <td>WEATHER</td>\n",
       "      <td>4.8</td>\n",
       "      <td>892</td>\n",
       "      <td>17000000.0</td>\n",
       "      <td>10000</td>\n",
       "      <td>Free</td>\n",
       "      <td>0.00</td>\n",
       "      <td>Everyone</td>\n",
       "      <td>Weather</td>\n",
       "      <td>July 17, 2018</td>\n",
       "      <td>1.1</td>\n",
       "      <td>4.4 and up</td>\n",
       "    </tr>\n",
       "    <tr>\n",
       "      <th>3</th>\n",
       "      <td>Fu*** Weather (Funny Weather)</td>\n",
       "      <td>WEATHER</td>\n",
       "      <td>4.7</td>\n",
       "      <td>20001</td>\n",
       "      <td>NaN</td>\n",
       "      <td>1000000</td>\n",
       "      <td>Free</td>\n",
       "      <td>0.00</td>\n",
       "      <td>Mature 17</td>\n",
       "      <td>Weather</td>\n",
       "      <td>July 26, 2018</td>\n",
       "      <td>Varies with device</td>\n",
       "      <td>Varies with device</td>\n",
       "    </tr>\n",
       "    <tr>\n",
       "      <th>4</th>\n",
       "      <td>Weather Forecast Pro</td>\n",
       "      <td>WEATHER</td>\n",
       "      <td>4.7</td>\n",
       "      <td>14051</td>\n",
       "      <td>8700000.0</td>\n",
       "      <td>100000</td>\n",
       "      <td>Paid</td>\n",
       "      <td>3.99</td>\n",
       "      <td>Everyone</td>\n",
       "      <td>Weather</td>\n",
       "      <td>August 4, 2018</td>\n",
       "      <td>8.5</td>\n",
       "      <td>4.0 and up</td>\n",
       "    </tr>\n",
       "    <tr>\n",
       "      <th>5</th>\n",
       "      <td>weather - weather forecast</td>\n",
       "      <td>WEATHER</td>\n",
       "      <td>4.7</td>\n",
       "      <td>11118</td>\n",
       "      <td>9700000.0</td>\n",
       "      <td>1000000</td>\n",
       "      <td>Free</td>\n",
       "      <td>0.00</td>\n",
       "      <td>Everyone</td>\n",
       "      <td>Weather</td>\n",
       "      <td>April 26, 2018</td>\n",
       "      <td>30</td>\n",
       "      <td>4.0 and up</td>\n",
       "    </tr>\n",
       "    <tr>\n",
       "      <th>6</th>\n",
       "      <td>Storm Radar: Tornado Tracker &amp; Hurricane Alerts</td>\n",
       "      <td>WEATHER</td>\n",
       "      <td>4.6</td>\n",
       "      <td>89868</td>\n",
       "      <td>NaN</td>\n",
       "      <td>1000000</td>\n",
       "      <td>Free</td>\n",
       "      <td>0.00</td>\n",
       "      <td>Everyone</td>\n",
       "      <td>Weather</td>\n",
       "      <td>June 12, 2018</td>\n",
       "      <td>Varies with device</td>\n",
       "      <td>Varies with device</td>\n",
       "    </tr>\n",
       "    <tr>\n",
       "      <th>7</th>\n",
       "      <td>Klara weather</td>\n",
       "      <td>WEATHER</td>\n",
       "      <td>4.6</td>\n",
       "      <td>36900</td>\n",
       "      <td>4800000.0</td>\n",
       "      <td>500000</td>\n",
       "      <td>Free</td>\n",
       "      <td>0.00</td>\n",
       "      <td>Everyone</td>\n",
       "      <td>Weather</td>\n",
       "      <td>July 28, 2018</td>\n",
       "      <td>1.3.6</td>\n",
       "      <td>4.0 and up</td>\n",
       "    </tr>\n",
       "    <tr>\n",
       "      <th>8</th>\n",
       "      <td>WebCams</td>\n",
       "      <td>WEATHER</td>\n",
       "      <td>4.6</td>\n",
       "      <td>3963</td>\n",
       "      <td>23000000.0</td>\n",
       "      <td>100000</td>\n",
       "      <td>Free</td>\n",
       "      <td>0.00</td>\n",
       "      <td>Everyone</td>\n",
       "      <td>Weather</td>\n",
       "      <td>July 17, 2018</td>\n",
       "      <td>5.2.11</td>\n",
       "      <td>4.2 and up</td>\n",
       "    </tr>\n",
       "    <tr>\n",
       "      <th>9</th>\n",
       "      <td>GO Weather - Widget, Theme, Wallpaper, Efficient</td>\n",
       "      <td>WEATHER</td>\n",
       "      <td>4.5</td>\n",
       "      <td>1422858</td>\n",
       "      <td>NaN</td>\n",
       "      <td>50000000</td>\n",
       "      <td>Free</td>\n",
       "      <td>0.00</td>\n",
       "      <td>Everyone</td>\n",
       "      <td>Weather</td>\n",
       "      <td>August 3, 2018</td>\n",
       "      <td>Varies with device</td>\n",
       "      <td>Varies with device</td>\n",
       "    </tr>\n",
       "    <tr>\n",
       "      <th>79</th>\n",
       "      <td>AK Lodi Films</td>\n",
       "      <td>VIDEO_PLAYERS</td>\n",
       "      <td>4.9</td>\n",
       "      <td>23</td>\n",
       "      <td>2100000.0</td>\n",
       "      <td>100</td>\n",
       "      <td>Free</td>\n",
       "      <td>0.00</td>\n",
       "      <td>Everyone</td>\n",
       "      <td>Video Players &amp; Editors</td>\n",
       "      <td>August 11, 2015</td>\n",
       "      <td>1.1</td>\n",
       "      <td>4.0 and up</td>\n",
       "    </tr>\n",
       "    <tr>\n",
       "      <th>80</th>\n",
       "      <td>DU Recorder – Screen Recorder, Video Editor, Live</td>\n",
       "      <td>VIDEO_PLAYERS</td>\n",
       "      <td>4.8</td>\n",
       "      <td>2588730</td>\n",
       "      <td>9700000.0</td>\n",
       "      <td>50000000</td>\n",
       "      <td>Free</td>\n",
       "      <td>0.00</td>\n",
       "      <td>Everyone</td>\n",
       "      <td>Video Players &amp; Editors</td>\n",
       "      <td>July 30, 2018</td>\n",
       "      <td>1.7.1.3</td>\n",
       "      <td>5.0 and up</td>\n",
       "    </tr>\n",
       "    <tr>\n",
       "      <th>81</th>\n",
       "      <td>Video Downloader - for Instagram Repost App</td>\n",
       "      <td>VIDEO_PLAYERS</td>\n",
       "      <td>4.8</td>\n",
       "      <td>332623</td>\n",
       "      <td>4600000.0</td>\n",
       "      <td>10000000</td>\n",
       "      <td>Free</td>\n",
       "      <td>0.00</td>\n",
       "      <td>Everyone</td>\n",
       "      <td>Video Players &amp; Editors</td>\n",
       "      <td>July 27, 2018</td>\n",
       "      <td>1.1.58</td>\n",
       "      <td>4.1 and up</td>\n",
       "    </tr>\n",
       "    <tr>\n",
       "      <th>82</th>\n",
       "      <td>Video Player All Format</td>\n",
       "      <td>VIDEO_PLAYERS</td>\n",
       "      <td>4.8</td>\n",
       "      <td>259003</td>\n",
       "      <td>NaN</td>\n",
       "      <td>10000000</td>\n",
       "      <td>Free</td>\n",
       "      <td>0.00</td>\n",
       "      <td>Everyone</td>\n",
       "      <td>Video Players &amp; Editors</td>\n",
       "      <td>August 3, 2018</td>\n",
       "      <td>Varies with device</td>\n",
       "      <td>4.3 and up</td>\n",
       "    </tr>\n",
       "    <tr>\n",
       "      <th>83</th>\n",
       "      <td>Flud (Ad free)</td>\n",
       "      <td>VIDEO_PLAYERS</td>\n",
       "      <td>4.8</td>\n",
       "      <td>5639</td>\n",
       "      <td>NaN</td>\n",
       "      <td>10000</td>\n",
       "      <td>Paid</td>\n",
       "      <td>1.49</td>\n",
       "      <td>Everyone</td>\n",
       "      <td>Video Players &amp; Editors</td>\n",
       "      <td>September 7, 2017</td>\n",
       "      <td>Varies with device</td>\n",
       "      <td>Varies with device</td>\n",
       "    </tr>\n",
       "    <tr>\n",
       "      <th>84</th>\n",
       "      <td>AJ Player</td>\n",
       "      <td>VIDEO_PLAYERS</td>\n",
       "      <td>4.8</td>\n",
       "      <td>18</td>\n",
       "      <td>1700000.0</td>\n",
       "      <td>100</td>\n",
       "      <td>Free</td>\n",
       "      <td>0.00</td>\n",
       "      <td>Everyone</td>\n",
       "      <td>Video Players &amp; Editors</td>\n",
       "      <td>April 22, 2018</td>\n",
       "      <td>1.6.3.1</td>\n",
       "      <td>5.0 and up</td>\n",
       "    </tr>\n",
       "    <tr>\n",
       "      <th>85</th>\n",
       "      <td>Quik – Free Video Editor for photos, clips, music</td>\n",
       "      <td>VIDEO_PLAYERS</td>\n",
       "      <td>4.7</td>\n",
       "      <td>696665</td>\n",
       "      <td>91000000.0</td>\n",
       "      <td>10000000</td>\n",
       "      <td>Free</td>\n",
       "      <td>0.00</td>\n",
       "      <td>Everyone</td>\n",
       "      <td>Video Players &amp; Editors</td>\n",
       "      <td>July 5, 2018</td>\n",
       "      <td>4.7.4.3869-7b2372c3e</td>\n",
       "      <td>5.0 and up</td>\n",
       "    </tr>\n",
       "    <tr>\n",
       "      <th>86</th>\n",
       "      <td>Video Editor,Crop Video,Movie Video,Music,Effects</td>\n",
       "      <td>VIDEO_PLAYERS</td>\n",
       "      <td>4.7</td>\n",
       "      <td>53006</td>\n",
       "      <td>44000000.0</td>\n",
       "      <td>1000000</td>\n",
       "      <td>Free</td>\n",
       "      <td>0.00</td>\n",
       "      <td>Everyone</td>\n",
       "      <td>Video Players &amp; Editors</td>\n",
       "      <td>August 3, 2018</td>\n",
       "      <td>1.5.1</td>\n",
       "      <td>4.4 and up</td>\n",
       "    </tr>\n",
       "    <tr>\n",
       "      <th>87</th>\n",
       "      <td>Ez Screen Recorder (no ad)</td>\n",
       "      <td>VIDEO_PLAYERS</td>\n",
       "      <td>4.7</td>\n",
       "      <td>8696</td>\n",
       "      <td>14000000.0</td>\n",
       "      <td>100000</td>\n",
       "      <td>Free</td>\n",
       "      <td>0.00</td>\n",
       "      <td>Everyone</td>\n",
       "      <td>Video Players &amp; Editors</td>\n",
       "      <td>June 3, 2018</td>\n",
       "      <td>2.1.4</td>\n",
       "      <td>5.0 and up</td>\n",
       "    </tr>\n",
       "    <tr>\n",
       "      <th>88</th>\n",
       "      <td>ek tuhi</td>\n",
       "      <td>VIDEO_PLAYERS</td>\n",
       "      <td>4.7</td>\n",
       "      <td>316</td>\n",
       "      <td>2800000.0</td>\n",
       "      <td>10000</td>\n",
       "      <td>Free</td>\n",
       "      <td>0.00</td>\n",
       "      <td>Everyone</td>\n",
       "      <td>Video Players &amp; Editors</td>\n",
       "      <td>July 4, 2014</td>\n",
       "      <td>1</td>\n",
       "      <td>4.0 and up</td>\n",
       "    </tr>\n",
       "  </tbody>\n",
       "</table>\n",
       "</div>"
      ],
      "text/plain": [
       "                                                  App       Category  Rating  \\\n",
       "0                                    Weather forecast        WEATHER     4.8   \n",
       "1                                    Weather Live Pro        WEATHER     4.8   \n",
       "2                                    Live Weather Pro        WEATHER     4.8   \n",
       "3                       Fu*** Weather (Funny Weather)        WEATHER     4.7   \n",
       "4                                Weather Forecast Pro        WEATHER     4.7   \n",
       "5                          weather - weather forecast        WEATHER     4.7   \n",
       "6     Storm Radar: Tornado Tracker & Hurricane Alerts        WEATHER     4.6   \n",
       "7                                       Klara weather        WEATHER     4.6   \n",
       "8                                             WebCams        WEATHER     4.6   \n",
       "9    GO Weather - Widget, Theme, Wallpaper, Efficient        WEATHER     4.5   \n",
       "79                                      AK Lodi Films  VIDEO_PLAYERS     4.9   \n",
       "80  DU Recorder – Screen Recorder, Video Editor, Live  VIDEO_PLAYERS     4.8   \n",
       "81        Video Downloader - for Instagram Repost App  VIDEO_PLAYERS     4.8   \n",
       "82                            Video Player All Format  VIDEO_PLAYERS     4.8   \n",
       "83                                     Flud (Ad free)  VIDEO_PLAYERS     4.8   \n",
       "84                                          AJ Player  VIDEO_PLAYERS     4.8   \n",
       "85  Quik – Free Video Editor for photos, clips, music  VIDEO_PLAYERS     4.7   \n",
       "86  Video Editor,Crop Video,Movie Video,Music,Effects  VIDEO_PLAYERS     4.7   \n",
       "87                         Ez Screen Recorder (no ad)  VIDEO_PLAYERS     4.7   \n",
       "88                                            ek tuhi  VIDEO_PLAYERS     4.7   \n",
       "\n",
       "    Reviews        Size  Installs  Type  Price Content Rating  \\\n",
       "0    159455  10000000.0   1000000  Free   0.00       Everyone   \n",
       "1     17493  11000000.0    100000  Paid   4.49       Everyone   \n",
       "2       892  17000000.0     10000  Free   0.00       Everyone   \n",
       "3     20001         NaN   1000000  Free   0.00      Mature 17   \n",
       "4     14051   8700000.0    100000  Paid   3.99       Everyone   \n",
       "5     11118   9700000.0   1000000  Free   0.00       Everyone   \n",
       "6     89868         NaN   1000000  Free   0.00       Everyone   \n",
       "7     36900   4800000.0    500000  Free   0.00       Everyone   \n",
       "8      3963  23000000.0    100000  Free   0.00       Everyone   \n",
       "9   1422858         NaN  50000000  Free   0.00       Everyone   \n",
       "79       23   2100000.0       100  Free   0.00       Everyone   \n",
       "80  2588730   9700000.0  50000000  Free   0.00       Everyone   \n",
       "81   332623   4600000.0  10000000  Free   0.00       Everyone   \n",
       "82   259003         NaN  10000000  Free   0.00       Everyone   \n",
       "83     5639         NaN     10000  Paid   1.49       Everyone   \n",
       "84       18   1700000.0       100  Free   0.00       Everyone   \n",
       "85   696665  91000000.0  10000000  Free   0.00       Everyone   \n",
       "86    53006  44000000.0   1000000  Free   0.00       Everyone   \n",
       "87     8696  14000000.0    100000  Free   0.00       Everyone   \n",
       "88      316   2800000.0     10000  Free   0.00       Everyone   \n",
       "\n",
       "                     Genres       Last Updated           Current Ver  \\\n",
       "0                   Weather        May 8, 2018               1.11.93   \n",
       "1                   Weather     April 20, 2018                   1.3   \n",
       "2                   Weather      July 17, 2018                   1.1   \n",
       "3                   Weather      July 26, 2018    Varies with device   \n",
       "4                   Weather     August 4, 2018                   8.5   \n",
       "5                   Weather     April 26, 2018                    30   \n",
       "6                   Weather      June 12, 2018    Varies with device   \n",
       "7                   Weather      July 28, 2018                 1.3.6   \n",
       "8                   Weather      July 17, 2018                5.2.11   \n",
       "9                   Weather     August 3, 2018    Varies with device   \n",
       "79  Video Players & Editors    August 11, 2015                   1.1   \n",
       "80  Video Players & Editors      July 30, 2018               1.7.1.3   \n",
       "81  Video Players & Editors      July 27, 2018                1.1.58   \n",
       "82  Video Players & Editors     August 3, 2018    Varies with device   \n",
       "83  Video Players & Editors  September 7, 2017    Varies with device   \n",
       "84  Video Players & Editors     April 22, 2018               1.6.3.1   \n",
       "85  Video Players & Editors       July 5, 2018  4.7.4.3869-7b2372c3e   \n",
       "86  Video Players & Editors     August 3, 2018                 1.5.1   \n",
       "87  Video Players & Editors       June 3, 2018                 2.1.4   \n",
       "88  Video Players & Editors       July 4, 2014                     1   \n",
       "\n",
       "           Android Ver  \n",
       "0           4.4 and up  \n",
       "1           4.4 and up  \n",
       "2           4.4 and up  \n",
       "3   Varies with device  \n",
       "4           4.0 and up  \n",
       "5           4.0 and up  \n",
       "6   Varies with device  \n",
       "7           4.0 and up  \n",
       "8           4.2 and up  \n",
       "9   Varies with device  \n",
       "79          4.0 and up  \n",
       "80          5.0 and up  \n",
       "81          4.1 and up  \n",
       "82          4.3 and up  \n",
       "83  Varies with device  \n",
       "84          5.0 and up  \n",
       "85          5.0 and up  \n",
       "86          4.4 and up  \n",
       "87          5.0 and up  \n",
       "88          4.0 and up  "
      ]
     },
     "execution_count": 6,
     "metadata": {},
     "output_type": "execute_result"
    }
   ],
   "source": [
    "df_playstore.sort_values(\n",
    "    [\"Category\", \"Rating\", \"Reviews\"], ascending=False, inplace=True\n",
    ")\n",
    "top10_by_cat = df_playstore.groupby(\"Category\").head(10)\n",
    "top10_by_cat.head(20)"
   ]
  },
  {
   "cell_type": "markdown",
   "metadata": {},
   "source": [
    "We shall render the pie charts for a few selected categories for demonstration purpose."
   ]
  },
  {
   "cell_type": "code",
   "execution_count": 7,
   "metadata": {},
   "outputs": [
    {
     "data": {
      "text/html": [
       "<div>\n",
       "<style scoped>\n",
       "    .dataframe tbody tr th:only-of-type {\n",
       "        vertical-align: middle;\n",
       "    }\n",
       "\n",
       "    .dataframe tbody tr th {\n",
       "        vertical-align: top;\n",
       "    }\n",
       "\n",
       "    .dataframe thead th {\n",
       "        text-align: right;\n",
       "    }\n",
       "</style>\n",
       "<table border=\"1\" class=\"dataframe\">\n",
       "  <thead>\n",
       "    <tr style=\"text-align: right;\">\n",
       "      <th></th>\n",
       "      <th>Category</th>\n",
       "      <th>App</th>\n",
       "      <th>Reviews</th>\n",
       "    </tr>\n",
       "  </thead>\n",
       "  <tbody>\n",
       "    <tr>\n",
       "      <th>462</th>\n",
       "      <td>TOOLS</td>\n",
       "      <td>CL REPL</td>\n",
       "      <td>47</td>\n",
       "    </tr>\n",
       "    <tr>\n",
       "      <th>463</th>\n",
       "      <td>TOOLS</td>\n",
       "      <td>CL Notifier</td>\n",
       "      <td>36</td>\n",
       "    </tr>\n",
       "    <tr>\n",
       "      <th>464</th>\n",
       "      <td>TOOLS</td>\n",
       "      <td>CL Keyboard - Myanmar Keyboard (No Ads)</td>\n",
       "      <td>24</td>\n",
       "    </tr>\n",
       "    <tr>\n",
       "      <th>465</th>\n",
       "      <td>TOOLS</td>\n",
       "      <td>Dr. ES PV Calculator</td>\n",
       "      <td>19</td>\n",
       "    </tr>\n",
       "    <tr>\n",
       "      <th>466</th>\n",
       "      <td>TOOLS</td>\n",
       "      <td>DW Timer</td>\n",
       "      <td>9</td>\n",
       "    </tr>\n",
       "  </tbody>\n",
       "</table>\n",
       "</div>"
      ],
      "text/plain": [
       "    Category                                      App  Reviews\n",
       "462    TOOLS                                  CL REPL       47\n",
       "463    TOOLS                              CL Notifier       36\n",
       "464    TOOLS  CL Keyboard - Myanmar Keyboard (No Ads)       24\n",
       "465    TOOLS                     Dr. ES PV Calculator       19\n",
       "466    TOOLS                                 DW Timer        9"
      ]
     },
     "execution_count": 7,
     "metadata": {},
     "output_type": "execute_result"
    }
   ],
   "source": [
    "data = top10_by_cat.loc[\n",
    "    top10_by_cat[\"Category\"].isin(\n",
    "        [\"BUSINESS\", \"FAMILY\", \"LIFESTYLE\", \"MEDICAL\", \"TOOLS\", \"GAME\"]\n",
    "    )\n",
    "][[\"Category\", \"App\", \"Reviews\"]].copy()\n",
    "data.head()"
   ]
  },
  {
   "cell_type": "code",
   "execution_count": 8,
   "metadata": {},
   "outputs": [
    {
     "data": {
      "image/png": "[encoded data removed]",
      "text/plain": [
       "<Figure size 1800x720 with 6 Axes>"
      ]
     },
     "metadata": {},
     "output_type": "display_data"
    }
   ],
   "source": [
    "import matplotlib.pyplot as plt\n",
    "\n",
    "cols = 3\n",
    "gCat = data.groupby(\"Category\")\n",
    "rows = int(np.ceil(len(gCat) / cols))\n",
    "fig, axes = plt.subplots(ncols=cols, nrows=rows, figsize=(25, 10))\n",
    "\n",
    "for (cat, grp), ax in zip(gCat, axes.flat):\n",
    "    ax.pie(grp.Reviews, labels=grp.App)\n",
    "    ax.set_title(cat)\n",
    "\n",
    "if len(gCat) < cols * rows:\n",
    "    for ax in axes.flatten()[len(gCat) :]:\n",
    "        ax.axis(\"off\")\n",
    "\n",
    "plt.show()"
   ]
  },
  {
   "cell_type": "markdown",
   "metadata": {},
   "source": [
    "## Top count with atoti"
   ]
  },
  {
   "cell_type": "code",
   "execution_count": 9,
   "metadata": {},
   "outputs": [
    {
     "name": "stdout",
     "output_type": "stream",
     "text": [
      "Welcome to atoti 0.4.3!\n",
      "\n",
      "By using this community edition, you agree with the license available at https://www.atoti.io/eula.\n",
      "Browse the official documentation at https://docs.atoti.io.\n",
      "Join the community at https://www.atoti.io/register.\n",
      "\n",
      "You can hide this message by setting the ATOTI_HIDE_EULA_MESSAGE environment variable to True.\n"
     ]
    }
   ],
   "source": [
    "import atoti as tt\n",
    "from atoti.config import create_config\n",
    "\n",
    "config = create_config(metadata_db=\"./metadata.db\")\n",
    "session = tt.create_session(config=config)"
   ]
  },
  {
   "cell_type": "code",
   "execution_count": 10,
   "metadata": {},
   "outputs": [
    {
     "data": {
      "text/html": [
       "<div>\n",
       "<style scoped>\n",
       "    .dataframe tbody tr th:only-of-type {\n",
       "        vertical-align: middle;\n",
       "    }\n",
       "\n",
       "    .dataframe tbody tr th {\n",
       "        vertical-align: top;\n",
       "    }\n",
       "\n",
       "    .dataframe thead th {\n",
       "        text-align: right;\n",
       "    }\n",
       "</style>\n",
       "<table border=\"1\" class=\"dataframe\">\n",
       "  <thead>\n",
       "    <tr style=\"text-align: right;\">\n",
       "      <th></th>\n",
       "      <th></th>\n",
       "      <th></th>\n",
       "      <th></th>\n",
       "      <th>Rating</th>\n",
       "      <th>Reviews</th>\n",
       "      <th>Size</th>\n",
       "      <th>Installs</th>\n",
       "      <th>Type</th>\n",
       "      <th>Price</th>\n",
       "      <th>Content Rating</th>\n",
       "      <th>Last Updated</th>\n",
       "      <th>Android Ver</th>\n",
       "    </tr>\n",
       "    <tr>\n",
       "      <th>App</th>\n",
       "      <th>Category</th>\n",
       "      <th>Genres</th>\n",
       "      <th>Current Ver</th>\n",
       "      <th></th>\n",
       "      <th></th>\n",
       "      <th></th>\n",
       "      <th></th>\n",
       "      <th></th>\n",
       "      <th></th>\n",
       "      <th></th>\n",
       "      <th></th>\n",
       "      <th></th>\n",
       "    </tr>\n",
       "  </thead>\n",
       "  <tbody>\n",
       "    <tr>\n",
       "      <th>Weather forecast</th>\n",
       "      <th>WEATHER</th>\n",
       "      <th>Weather</th>\n",
       "      <th>1.11.93</th>\n",
       "      <td>4.8</td>\n",
       "      <td>159455.0</td>\n",
       "      <td>10000000.0</td>\n",
       "      <td>1000000.0</td>\n",
       "      <td>Free</td>\n",
       "      <td>0.00</td>\n",
       "      <td>Everyone</td>\n",
       "      <td>May 8, 2018</td>\n",
       "      <td>4.4 and up</td>\n",
       "    </tr>\n",
       "    <tr>\n",
       "      <th>Weather Live Pro</th>\n",
       "      <th>WEATHER</th>\n",
       "      <th>Weather</th>\n",
       "      <th>1.3</th>\n",
       "      <td>4.8</td>\n",
       "      <td>17493.0</td>\n",
       "      <td>11000000.0</td>\n",
       "      <td>100000.0</td>\n",
       "      <td>Paid</td>\n",
       "      <td>4.49</td>\n",
       "      <td>Everyone</td>\n",
       "      <td>April 20, 2018</td>\n",
       "      <td>4.4 and up</td>\n",
       "    </tr>\n",
       "    <tr>\n",
       "      <th>Live Weather Pro</th>\n",
       "      <th>WEATHER</th>\n",
       "      <th>Weather</th>\n",
       "      <th>1.1</th>\n",
       "      <td>4.8</td>\n",
       "      <td>892.0</td>\n",
       "      <td>17000000.0</td>\n",
       "      <td>10000.0</td>\n",
       "      <td>Free</td>\n",
       "      <td>0.00</td>\n",
       "      <td>Everyone</td>\n",
       "      <td>July 17, 2018</td>\n",
       "      <td>4.4 and up</td>\n",
       "    </tr>\n",
       "    <tr>\n",
       "      <th>Fu*** Weather (Funny Weather)</th>\n",
       "      <th>WEATHER</th>\n",
       "      <th>Weather</th>\n",
       "      <th>Varies with device</th>\n",
       "      <td>4.7</td>\n",
       "      <td>20001.0</td>\n",
       "      <td>NaN</td>\n",
       "      <td>1000000.0</td>\n",
       "      <td>Free</td>\n",
       "      <td>0.00</td>\n",
       "      <td>Mature 17</td>\n",
       "      <td>July 26, 2018</td>\n",
       "      <td>Varies with device</td>\n",
       "    </tr>\n",
       "    <tr>\n",
       "      <th>Weather Forecast Pro</th>\n",
       "      <th>WEATHER</th>\n",
       "      <th>Weather</th>\n",
       "      <th>8.5</th>\n",
       "      <td>4.7</td>\n",
       "      <td>14051.0</td>\n",
       "      <td>8700000.0</td>\n",
       "      <td>100000.0</td>\n",
       "      <td>Paid</td>\n",
       "      <td>3.99</td>\n",
       "      <td>Everyone</td>\n",
       "      <td>August 4, 2018</td>\n",
       "      <td>4.0 and up</td>\n",
       "    </tr>\n",
       "  </tbody>\n",
       "</table>\n",
       "</div>"
      ],
      "text/plain": [
       "                                                                   Rating  \\\n",
       "App                           Category Genres  Current Ver                  \n",
       "Weather forecast              WEATHER  Weather 1.11.93                4.8   \n",
       "Weather Live Pro              WEATHER  Weather 1.3                    4.8   \n",
       "Live Weather Pro              WEATHER  Weather 1.1                    4.8   \n",
       "Fu*** Weather (Funny Weather) WEATHER  Weather Varies with device     4.7   \n",
       "Weather Forecast Pro          WEATHER  Weather 8.5                    4.7   \n",
       "\n",
       "                                                                    Reviews  \\\n",
       "App                           Category Genres  Current Ver                    \n",
       "Weather forecast              WEATHER  Weather 1.11.93             159455.0   \n",
       "Weather Live Pro              WEATHER  Weather 1.3                  17493.0   \n",
       "Live Weather Pro              WEATHER  Weather 1.1                    892.0   \n",
       "Fu*** Weather (Funny Weather) WEATHER  Weather Varies with device   20001.0   \n",
       "Weather Forecast Pro          WEATHER  Weather 8.5                  14051.0   \n",
       "\n",
       "                                                                         Size  \\\n",
       "App                           Category Genres  Current Ver                      \n",
       "Weather forecast              WEATHER  Weather 1.11.93             10000000.0   \n",
       "Weather Live Pro              WEATHER  Weather 1.3                 11000000.0   \n",
       "Live Weather Pro              WEATHER  Weather 1.1                 17000000.0   \n",
       "Fu*** Weather (Funny Weather) WEATHER  Weather Varies with device         NaN   \n",
       "Weather Forecast Pro          WEATHER  Weather 8.5                  8700000.0   \n",
       "\n",
       "                                                                    Installs  \\\n",
       "App                           Category Genres  Current Ver                     \n",
       "Weather forecast              WEATHER  Weather 1.11.93             1000000.0   \n",
       "Weather Live Pro              WEATHER  Weather 1.3                  100000.0   \n",
       "Live Weather Pro              WEATHER  Weather 1.1                   10000.0   \n",
       "Fu*** Weather (Funny Weather) WEATHER  Weather Varies with device  1000000.0   \n",
       "Weather Forecast Pro          WEATHER  Weather 8.5                  100000.0   \n",
       "\n",
       "                                                                   Type  \\\n",
       "App                           Category Genres  Current Ver                \n",
       "Weather forecast              WEATHER  Weather 1.11.93             Free   \n",
       "Weather Live Pro              WEATHER  Weather 1.3                 Paid   \n",
       "Live Weather Pro              WEATHER  Weather 1.1                 Free   \n",
       "Fu*** Weather (Funny Weather) WEATHER  Weather Varies with device  Free   \n",
       "Weather Forecast Pro          WEATHER  Weather 8.5                 Paid   \n",
       "\n",
       "                                                                   Price  \\\n",
       "App                           Category Genres  Current Ver                 \n",
       "Weather forecast              WEATHER  Weather 1.11.93              0.00   \n",
       "Weather Live Pro              WEATHER  Weather 1.3                  4.49   \n",
       "Live Weather Pro              WEATHER  Weather 1.1                  0.00   \n",
       "Fu*** Weather (Funny Weather) WEATHER  Weather Varies with device   0.00   \n",
       "Weather Forecast Pro          WEATHER  Weather 8.5                  3.99   \n",
       "\n",
       "                                                                  Content Rating  \\\n",
       "App                           Category Genres  Current Ver                         \n",
       "Weather forecast              WEATHER  Weather 1.11.93                  Everyone   \n",
       "Weather Live Pro              WEATHER  Weather 1.3                      Everyone   \n",
       "Live Weather Pro              WEATHER  Weather 1.1                      Everyone   \n",
       "Fu*** Weather (Funny Weather) WEATHER  Weather Varies with device      Mature 17   \n",
       "Weather Forecast Pro          WEATHER  Weather 8.5                      Everyone   \n",
       "\n",
       "                                                                     Last Updated  \\\n",
       "App                           Category Genres  Current Ver                          \n",
       "Weather forecast              WEATHER  Weather 1.11.93                May 8, 2018   \n",
       "Weather Live Pro              WEATHER  Weather 1.3                 April 20, 2018   \n",
       "Live Weather Pro              WEATHER  Weather 1.1                  July 17, 2018   \n",
       "Fu*** Weather (Funny Weather) WEATHER  Weather Varies with device   July 26, 2018   \n",
       "Weather Forecast Pro          WEATHER  Weather 8.5                 August 4, 2018   \n",
       "\n",
       "                                                                          Android Ver  \n",
       "App                           Category Genres  Current Ver                             \n",
       "Weather forecast              WEATHER  Weather 1.11.93                     4.4 and up  \n",
       "Weather Live Pro              WEATHER  Weather 1.3                         4.4 and up  \n",
       "Live Weather Pro              WEATHER  Weather 1.1                         4.4 and up  \n",
       "Fu*** Weather (Funny Weather) WEATHER  Weather Varies with device  Varies with device  \n",
       "Weather Forecast Pro          WEATHER  Weather 8.5                         4.0 and up  "
      ]
     },
     "execution_count": 10,
     "metadata": {},
     "output_type": "execute_result"
    }
   ],
   "source": [
    "playstore = session.read_csv(\n",
    "    \"s3://data.atoti.io/notebooks/topcount/googleplaystore_cleaned.csv\",\n",
    "    store_name=\"playstore\",\n",
    "    keys=[\"App\", \"Category\", \"Genres\", \"Current Ver\"],\n",
    "    sampling_mode=tt.sampling.FULL,\n",
    "    types={\"Reviews\": tt.types.FLOAT, \"Installs\": tt.types.FLOAT},\n",
    ")\n",
    "\n",
    "playstore.head()"
   ]
  },
  {
   "cell_type": "code",
   "execution_count": 11,
   "metadata": {},
   "outputs": [
    {
     "data": {
      "image/svg+xml": [
       "<svg xmlns=\"http://www.w3.org/2000/svg\" xmlns:xlink=\"http://www.w3.org/1999/xlink\" width=\"195px\" height=\"354px\" viewBox=\"0.00 0.00 195.00 354.00\">\n",
       "<g id=\"graph0\" class=\"graph\" transform=\"scale(1.0 1.0) rotate(0) translate(4 350)\">\n",
       "<title>Google Playstore schema</title>\n",
       "<polygon fill=\"white\" stroke=\"none\" points=\"-4,4 -4,-350 191,-350 191,4 -4,4\"/>\n",
       "<!-- playstore -->\n",
       "<g id=\"node1\" class=\"node\"><title>playstore</title>\n",
       "<text text-anchor=\"start\" x=\"66.5\" y=\"-326.6\" font-family=\"-apple-system, BlinkMacSystemFont, 'Segoe UI', Helvetica, Arial, sans-serif, 'Apple Color Emoji', 'Segoe UI Emoji', 'Segoe UI Symbol'\" font-weight=\"bold\" font-size=\"13.00\">playstore</text>\n",
       "<polygon fill=\"#f5f5f5\" stroke=\"none\" points=\"9.5,-293 9.5,-317 40.5,-317 40.5,-293 9.5,-293\"/>\n",
       "<text text-anchor=\"start\" x=\"14.5\" y=\"-302.6\" font-family=\"-apple-system, BlinkMacSystemFont, 'Segoe UI', Helvetica, Arial, sans-serif, 'Apple Color Emoji', 'Segoe UI Emoji', 'Segoe UI Symbol'\" font-weight=\"bold\" font-size=\"13.00\">key</text>\n",
       "<polygon fill=\"#f5f5f5\" stroke=\"none\" points=\"40.5,-293 40.5,-317 131.5,-317 131.5,-293 40.5,-293\"/>\n",
       "<text text-anchor=\"start\" x=\"45.5\" y=\"-301.6\" font-family=\"-apple-system, BlinkMacSystemFont, 'Segoe UI', Helvetica, Arial, sans-serif, 'Apple Color Emoji', 'Segoe UI Emoji', 'Segoe UI Symbol'\" font-size=\"13.00\">App</text>\n",
       "<polygon fill=\"#f5f5f5\" stroke=\"none\" points=\"131.5,-293 131.5,-317 178.5,-317 178.5,-293 131.5,-293\"/>\n",
       "<text text-anchor=\"start\" x=\"140.5\" y=\"-302.6\" font-family=\"-apple-system, BlinkMacSystemFont, 'Segoe UI', Helvetica, Arial, sans-serif, 'Apple Color Emoji', 'Segoe UI Emoji', 'Segoe UI Symbol'\" font-style=\"italic\" font-size=\"13.00\">String</text>\n",
       "<polygon fill=\"#ffffff\" stroke=\"none\" points=\"9.5,-269 9.5,-293 40.5,-293 40.5,-269 9.5,-269\"/>\n",
       "<text text-anchor=\"start\" x=\"14.5\" y=\"-278.6\" font-family=\"-apple-system, BlinkMacSystemFont, 'Segoe UI', Helvetica, Arial, sans-serif, 'Apple Color Emoji', 'Segoe UI Emoji', 'Segoe UI Symbol'\" font-weight=\"bold\" font-size=\"13.00\">key</text>\n",
       "<polygon fill=\"#ffffff\" stroke=\"none\" points=\"40.5,-269 40.5,-293 131.5,-293 131.5,-269 40.5,-269\"/>\n",
       "<text text-anchor=\"start\" x=\"45.5\" y=\"-277.6\" font-family=\"-apple-system, BlinkMacSystemFont, 'Segoe UI', Helvetica, Arial, sans-serif, 'Apple Color Emoji', 'Segoe UI Emoji', 'Segoe UI Symbol'\" font-size=\"13.00\">Category</text>\n",
       "<polygon fill=\"#ffffff\" stroke=\"none\" points=\"131.5,-269 131.5,-293 178.5,-293 178.5,-269 131.5,-269\"/>\n",
       "<text text-anchor=\"start\" x=\"140.5\" y=\"-278.6\" font-family=\"-apple-system, BlinkMacSystemFont, 'Segoe UI', Helvetica, Arial, sans-serif, 'Apple Color Emoji', 'Segoe UI Emoji', 'Segoe UI Symbol'\" font-style=\"italic\" font-size=\"13.00\">String</text>\n",
       "<polygon fill=\"#f5f5f5\" stroke=\"none\" points=\"9.5,-245 9.5,-269 40.5,-269 40.5,-245 9.5,-245\"/>\n",
       "<polygon fill=\"#f5f5f5\" stroke=\"none\" points=\"40.5,-245 40.5,-269 131.5,-269 131.5,-245 40.5,-245\"/>\n",
       "<text text-anchor=\"start\" x=\"45.5\" y=\"-253.6\" font-family=\"-apple-system, BlinkMacSystemFont, 'Segoe UI', Helvetica, Arial, sans-serif, 'Apple Color Emoji', 'Segoe UI Emoji', 'Segoe UI Symbol'\" font-size=\"13.00\">Rating</text>\n",
       "<polygon fill=\"#f5f5f5\" stroke=\"none\" points=\"131.5,-245 131.5,-269 178.5,-269 178.5,-245 131.5,-245\"/>\n",
       "<text text-anchor=\"start\" x=\"136.5\" y=\"-254.6\" font-family=\"-apple-system, BlinkMacSystemFont, 'Segoe UI', Helvetica, Arial, sans-serif, 'Apple Color Emoji', 'Segoe UI Emoji', 'Segoe UI Symbol'\" font-style=\"italic\" font-size=\"13.00\">double</text>\n",
       "<polygon fill=\"#ffffff\" stroke=\"none\" points=\"9.5,-221 9.5,-245 40.5,-245 40.5,-221 9.5,-221\"/>\n",
       "<polygon fill=\"#ffffff\" stroke=\"none\" points=\"40.5,-221 40.5,-245 131.5,-245 131.5,-221 40.5,-221\"/>\n",
       "<text text-anchor=\"start\" x=\"45.5\" y=\"-229.6\" font-family=\"-apple-system, BlinkMacSystemFont, 'Segoe UI', Helvetica, Arial, sans-serif, 'Apple Color Emoji', 'Segoe UI Emoji', 'Segoe UI Symbol'\" font-size=\"13.00\">Reviews</text>\n",
       "<polygon fill=\"#ffffff\" stroke=\"none\" points=\"131.5,-221 131.5,-245 178.5,-245 178.5,-221 131.5,-221\"/>\n",
       "<text text-anchor=\"start\" x=\"148.5\" y=\"-230.6\" font-family=\"-apple-system, BlinkMacSystemFont, 'Segoe UI', Helvetica, Arial, sans-serif, 'Apple Color Emoji', 'Segoe UI Emoji', 'Segoe UI Symbol'\" font-style=\"italic\" font-size=\"13.00\">float</text>\n",
       "<polygon fill=\"#f5f5f5\" stroke=\"none\" points=\"9.5,-197 9.5,-221 40.5,-221 40.5,-197 9.5,-197\"/>\n",
       "<polygon fill=\"#f5f5f5\" stroke=\"none\" points=\"40.5,-197 40.5,-221 131.5,-221 131.5,-197 40.5,-197\"/>\n",
       "<text text-anchor=\"start\" x=\"45.5\" y=\"-205.6\" font-family=\"-apple-system, BlinkMacSystemFont, 'Segoe UI', Helvetica, Arial, sans-serif, 'Apple Color Emoji', 'Segoe UI Emoji', 'Segoe UI Symbol'\" font-size=\"13.00\">Size</text>\n",
       "<polygon fill=\"#f5f5f5\" stroke=\"none\" points=\"131.5,-197 131.5,-221 178.5,-221 178.5,-197 131.5,-197\"/>\n",
       "<text text-anchor=\"start\" x=\"136.5\" y=\"-206.6\" font-family=\"-apple-system, BlinkMacSystemFont, 'Segoe UI', Helvetica, Arial, sans-serif, 'Apple Color Emoji', 'Segoe UI Emoji', 'Segoe UI Symbol'\" font-style=\"italic\" font-size=\"13.00\">double</text>\n",
       "<polygon fill=\"#ffffff\" stroke=\"none\" points=\"9.5,-173 9.5,-197 40.5,-197 40.5,-173 9.5,-173\"/>\n",
       "<polygon fill=\"#ffffff\" stroke=\"none\" points=\"40.5,-173 40.5,-197 131.5,-197 131.5,-173 40.5,-173\"/>\n",
       "<text text-anchor=\"start\" x=\"45.5\" y=\"-181.6\" font-family=\"-apple-system, BlinkMacSystemFont, 'Segoe UI', Helvetica, Arial, sans-serif, 'Apple Color Emoji', 'Segoe UI Emoji', 'Segoe UI Symbol'\" font-size=\"13.00\">Installs</text>\n",
       "<polygon fill=\"#ffffff\" stroke=\"none\" points=\"131.5,-173 131.5,-197 178.5,-197 178.5,-173 131.5,-173\"/>\n",
       "<text text-anchor=\"start\" x=\"148.5\" y=\"-182.6\" font-family=\"-apple-system, BlinkMacSystemFont, 'Segoe UI', Helvetica, Arial, sans-serif, 'Apple Color Emoji', 'Segoe UI Emoji', 'Segoe UI Symbol'\" font-style=\"italic\" font-size=\"13.00\">float</text>\n",
       "<polygon fill=\"#f5f5f5\" stroke=\"none\" points=\"9.5,-149 9.5,-173 40.5,-173 40.5,-149 9.5,-149\"/>\n",
       "<polygon fill=\"#f5f5f5\" stroke=\"none\" points=\"40.5,-149 40.5,-173 131.5,-173 131.5,-149 40.5,-149\"/>\n",
       "<text text-anchor=\"start\" x=\"45.5\" y=\"-157.6\" font-family=\"-apple-system, BlinkMacSystemFont, 'Segoe UI', Helvetica, Arial, sans-serif, 'Apple Color Emoji', 'Segoe UI Emoji', 'Segoe UI Symbol'\" font-size=\"13.00\">Type</text>\n",
       "<polygon fill=\"#f5f5f5\" stroke=\"none\" points=\"131.5,-149 131.5,-173 178.5,-173 178.5,-149 131.5,-149\"/>\n",
       "<text text-anchor=\"start\" x=\"140.5\" y=\"-158.6\" font-family=\"-apple-system, BlinkMacSystemFont, 'Segoe UI', Helvetica, Arial, sans-serif, 'Apple Color Emoji', 'Segoe UI Emoji', 'Segoe UI Symbol'\" font-style=\"italic\" font-size=\"13.00\">String</text>\n",
       "<polygon fill=\"#ffffff\" stroke=\"none\" points=\"9.5,-125 9.5,-149 40.5,-149 40.5,-125 9.5,-125\"/>\n",
       "<polygon fill=\"#ffffff\" stroke=\"none\" points=\"40.5,-125 40.5,-149 131.5,-149 131.5,-125 40.5,-125\"/>\n",
       "<text text-anchor=\"start\" x=\"45.5\" y=\"-133.6\" font-family=\"-apple-system, BlinkMacSystemFont, 'Segoe UI', Helvetica, Arial, sans-serif, 'Apple Color Emoji', 'Segoe UI Emoji', 'Segoe UI Symbol'\" font-size=\"13.00\">Price</text>\n",
       "<polygon fill=\"#ffffff\" stroke=\"none\" points=\"131.5,-125 131.5,-149 178.5,-149 178.5,-125 131.5,-125\"/>\n",
       "<text text-anchor=\"start\" x=\"136.5\" y=\"-134.6\" font-family=\"-apple-system, BlinkMacSystemFont, 'Segoe UI', Helvetica, Arial, sans-serif, 'Apple Color Emoji', 'Segoe UI Emoji', 'Segoe UI Symbol'\" font-style=\"italic\" font-size=\"13.00\">double</text>\n",
       "<polygon fill=\"#f5f5f5\" stroke=\"none\" points=\"9.5,-101 9.5,-125 40.5,-125 40.5,-101 9.5,-101\"/>\n",
       "<polygon fill=\"#f5f5f5\" stroke=\"none\" points=\"40.5,-101 40.5,-125 131.5,-125 131.5,-101 40.5,-101\"/>\n",
       "<text text-anchor=\"start\" x=\"45.5\" y=\"-109.6\" font-family=\"-apple-system, BlinkMacSystemFont, 'Segoe UI', Helvetica, Arial, sans-serif, 'Apple Color Emoji', 'Segoe UI Emoji', 'Segoe UI Symbol'\" font-size=\"13.00\">Content Rating</text>\n",
       "<polygon fill=\"#f5f5f5\" stroke=\"none\" points=\"131.5,-101 131.5,-125 178.5,-125 178.5,-101 131.5,-101\"/>\n",
       "<text text-anchor=\"start\" x=\"140.5\" y=\"-110.6\" font-family=\"-apple-system, BlinkMacSystemFont, 'Segoe UI', Helvetica, Arial, sans-serif, 'Apple Color Emoji', 'Segoe UI Emoji', 'Segoe UI Symbol'\" font-style=\"italic\" font-size=\"13.00\">String</text>\n",
       "<polygon fill=\"#ffffff\" stroke=\"none\" points=\"9.5,-77 9.5,-101 40.5,-101 40.5,-77 9.5,-77\"/>\n",
       "<text text-anchor=\"start\" x=\"14.5\" y=\"-86.6\" font-family=\"-apple-system, BlinkMacSystemFont, 'Segoe UI', Helvetica, Arial, sans-serif, 'Apple Color Emoji', 'Segoe UI Emoji', 'Segoe UI Symbol'\" font-weight=\"bold\" font-size=\"13.00\">key</text>\n",
       "<polygon fill=\"#ffffff\" stroke=\"none\" points=\"40.5,-77 40.5,-101 131.5,-101 131.5,-77 40.5,-77\"/>\n",
       "<text text-anchor=\"start\" x=\"45.5\" y=\"-85.6\" font-family=\"-apple-system, BlinkMacSystemFont, 'Segoe UI', Helvetica, Arial, sans-serif, 'Apple Color Emoji', 'Segoe UI Emoji', 'Segoe UI Symbol'\" font-size=\"13.00\">Genres</text>\n",
       "<polygon fill=\"#ffffff\" stroke=\"none\" points=\"131.5,-77 131.5,-101 178.5,-101 178.5,-77 131.5,-77\"/>\n",
       "<text text-anchor=\"start\" x=\"140.5\" y=\"-86.6\" font-family=\"-apple-system, BlinkMacSystemFont, 'Segoe UI', Helvetica, Arial, sans-serif, 'Apple Color Emoji', 'Segoe UI Emoji', 'Segoe UI Symbol'\" font-style=\"italic\" font-size=\"13.00\">String</text>\n",
       "<polygon fill=\"#f5f5f5\" stroke=\"none\" points=\"9.5,-53 9.5,-77 40.5,-77 40.5,-53 9.5,-53\"/>\n",
       "<polygon fill=\"#f5f5f5\" stroke=\"none\" points=\"40.5,-53 40.5,-77 131.5,-77 131.5,-53 40.5,-53\"/>\n",
       "<text text-anchor=\"start\" x=\"45.5\" y=\"-61.6\" font-family=\"-apple-system, BlinkMacSystemFont, 'Segoe UI', Helvetica, Arial, sans-serif, 'Apple Color Emoji', 'Segoe UI Emoji', 'Segoe UI Symbol'\" font-size=\"13.00\">Last Updated</text>\n",
       "<polygon fill=\"#f5f5f5\" stroke=\"none\" points=\"131.5,-53 131.5,-77 178.5,-77 178.5,-53 131.5,-53\"/>\n",
       "<text text-anchor=\"start\" x=\"140.5\" y=\"-62.6\" font-family=\"-apple-system, BlinkMacSystemFont, 'Segoe UI', Helvetica, Arial, sans-serif, 'Apple Color Emoji', 'Segoe UI Emoji', 'Segoe UI Symbol'\" font-style=\"italic\" font-size=\"13.00\">String</text>\n",
       "<polygon fill=\"#ffffff\" stroke=\"none\" points=\"9.5,-29 9.5,-53 40.5,-53 40.5,-29 9.5,-29\"/>\n",
       "<text text-anchor=\"start\" x=\"14.5\" y=\"-38.6\" font-family=\"-apple-system, BlinkMacSystemFont, 'Segoe UI', Helvetica, Arial, sans-serif, 'Apple Color Emoji', 'Segoe UI Emoji', 'Segoe UI Symbol'\" font-weight=\"bold\" font-size=\"13.00\">key</text>\n",
       "<polygon fill=\"#ffffff\" stroke=\"none\" points=\"40.5,-29 40.5,-53 131.5,-53 131.5,-29 40.5,-29\"/>\n",
       "<text text-anchor=\"start\" x=\"45.5\" y=\"-37.6\" font-family=\"-apple-system, BlinkMacSystemFont, 'Segoe UI', Helvetica, Arial, sans-serif, 'Apple Color Emoji', 'Segoe UI Emoji', 'Segoe UI Symbol'\" font-size=\"13.00\">Current Ver</text>\n",
       "<polygon fill=\"#ffffff\" stroke=\"none\" points=\"131.5,-29 131.5,-53 178.5,-53 178.5,-29 131.5,-29\"/>\n",
       "<text text-anchor=\"start\" x=\"140.5\" y=\"-38.6\" font-family=\"-apple-system, BlinkMacSystemFont, 'Segoe UI', Helvetica, Arial, sans-serif, 'Apple Color Emoji', 'Segoe UI Emoji', 'Segoe UI Symbol'\" font-style=\"italic\" font-size=\"13.00\">String</text>\n",
       "<polygon fill=\"#f5f5f5\" stroke=\"none\" points=\"9.5,-5 9.5,-29 40.5,-29 40.5,-5 9.5,-5\"/>\n",
       "<polygon fill=\"#f5f5f5\" stroke=\"none\" points=\"40.5,-5 40.5,-29 131.5,-29 131.5,-5 40.5,-5\"/>\n",
       "<text text-anchor=\"start\" x=\"45.5\" y=\"-13.6\" font-family=\"-apple-system, BlinkMacSystemFont, 'Segoe UI', Helvetica, Arial, sans-serif, 'Apple Color Emoji', 'Segoe UI Emoji', 'Segoe UI Symbol'\" font-size=\"13.00\">Android Ver</text>\n",
       "<polygon fill=\"#f5f5f5\" stroke=\"none\" points=\"131.5,-5 131.5,-29 178.5,-29 178.5,-5 131.5,-5\"/>\n",
       "<text text-anchor=\"start\" x=\"140.5\" y=\"-14.6\" font-family=\"-apple-system, BlinkMacSystemFont, 'Segoe UI', Helvetica, Arial, sans-serif, 'Apple Color Emoji', 'Segoe UI Emoji', 'Segoe UI Symbol'\" font-style=\"italic\" font-size=\"13.00\">String</text>\n",
       "<polygon fill=\"none\" stroke=\"black\" points=\"8,-4 8,-342 179,-342 179,-4 8,-4\"/>\n",
       "</g>\n",
       "</g>\n",
       "</svg>"
      ],
      "text/plain": [
       "<IPython.core.display.SVG object>"
      ]
     },
     "execution_count": 11,
     "metadata": {},
     "output_type": "execute_result"
    }
   ],
   "source": [
    "cube = session.create_cube(playstore, \"Google Playstore\")\n",
    "cube.schema"
   ]
  },
  {
   "cell_type": "markdown",
   "metadata": {},
   "source": [
    "### Top 10 apps with highest rating across categories\n",
    "\n",
    "Use the content editor to apply a top count filter on the pivot table."
   ]
  },
  {
   "cell_type": "code",
   "execution_count": 12,
   "metadata": {
    "atoti": {
     "height": 363,
     "state": {
      "name": "Top 10 apps with highest rating across categories",
      "type": "container",
      "value": {
       "body": {
        "configuration": {
         "tabular": {
          "cellRenderers": [],
          "columns": [
           {
            "key": "[Measures].[Rating.MEAN]",
            "width": 276
           },
           {
            "key": "[Hierarchies].[App].[App]",
            "width": 256
           }
          ],
          "columnsGroups": [
           {
            "captionProducer": "firstColumn",
            "cellFactory": "kpi-status",
            "selector": "kpi-status"
           },
           {
            "captionProducer": "firstColumn",
            "cellFactory": "lookup",
            "selector": "lookup"
           },
           {
            "captionProducer": "expiry",
            "cellFactory": "expiry",
            "selector": "kpi-expiry"
           }
          ],
          "defaultOptions": {},
          "expansion": {
           "automaticExpansion": true
          },
          "hideAddButton": true,
          "pinnedHeaderSelector": "member",
          "sortingMode": "breaking",
          "statisticsShown": true
         }
        },
        "contextValues": {},
        "mdx": "SELECT NON EMPTY {[Measures].[Rating.SUM], [Measures].[Reviews.SUM]} ON COLUMNS, NON EMPTY Crossjoin([Hierarchies].[Category].[Category].Members, [Hierarchies].[Genres].[Genres].Members, [Hierarchies].[App].[App].Members) ON ROWS FROM (SELECT TopCount(Filter([Hierarchies].[App].Levels(1).Members, NOT IsEmpty([Measures].[Rating.MEAN])), 10, [Measures].[Rating.MEAN]) ON COLUMNS FROM [Google Playstore]) CELL PROPERTIES VALUE, FORMATTED_VALUE, BACK_COLOR, FORE_COLOR, FONT_FLAGS",
        "ranges": {
         "column": {
          "chunkSize": 50,
          "thresholdPercentage": 0.2
         },
         "row": {
          "chunkSize": 2000,
          "thresholdPercentage": 0.1
         }
        },
        "serverUrl": ""
       },
       "containerKey": "pivot-table",
       "showTitleBar": false,
       "style": {}
      }
     }
    }
   },
   "outputs": [
    {
     "data": {
      "application/vnd.atoti.v0+json": {
       "cellSet": {
        "axes": [
         {
          "hierarchies": [
           {
            "dimension": "Measures",
            "hierarchy": "Measures"
           }
          ],
          "id": 0,
          "positions": [
           [
            {
             "captionPath": [
              "Rating.SUM"
             ],
             "namePath": [
              "Rating.SUM"
             ],
             "properties": {
              "DISPLAY_INFO": 0
             }
            }
           ],
           [
            {
             "captionPath": [
              "Reviews.SUM"
             ],
             "namePath": [
              "Reviews.SUM"
             ],
             "properties": {
              "DISPLAY_INFO": 0
             }
            }
           ]
          ]
         },
         {
          "hierarchies": [
           {
            "dimension": "Hierarchies",
            "hierarchy": "Category"
           },
           {
            "dimension": "Hierarchies",
            "hierarchy": "Genres"
           },
           {
            "dimension": "Hierarchies",
            "hierarchy": "App"
           }
          ],
          "id": 1,
          "positions": [
           [
            {
             "captionPath": [
              "AllMember",
              "FAMILY"
             ],
             "namePath": [
              "AllMember",
              "FAMILY"
             ],
             "properties": {
              "DISPLAY_INFO": 0
             }
            },
            {
             "captionPath": [
              "AllMember",
              "Education"
             ],
             "namePath": [
              "AllMember",
              "Education"
             ],
             "properties": {
              "DISPLAY_INFO": 0
             }
            },
            {
             "captionPath": [
              "AllMember",
              "30WPM Amateur ham radio Koch CW Morse code trainer"
             ],
             "namePath": [
              "AllMember",
              "30WPM Amateur ham radio Koch CW Morse code trainer"
             ],
             "properties": {
              "DISPLAY_INFO": 0
             }
            }
           ],
           [
            {
             "captionPath": [
              "AllMember",
              "GAME"
             ],
             "namePath": [
              "AllMember",
              "GAME"
             ],
             "properties": {
              "DISPLAY_INFO": 131072
             }
            },
            {
             "captionPath": [
              "AllMember",
              "Arcade"
             ],
             "namePath": [
              "AllMember",
              "Arcade"
             ],
             "properties": {
              "DISPLAY_INFO": 131072
             }
            },
            {
             "captionPath": [
              "AllMember",
              "211:CK"
             ],
             "namePath": [
              "AllMember",
              "211:CK"
             ],
             "properties": {
              "DISPLAY_INFO": 131072
             }
            }
           ],
           [
            {
             "captionPath": [
              "AllMember",
              "LIFESTYLE"
             ],
             "namePath": [
              "AllMember",
              "LIFESTYLE"
             ],
             "properties": {
              "DISPLAY_INFO": 131072
             }
            },
            {
             "captionPath": [
              "AllMember",
              "Lifestyle"
             ],
             "namePath": [
              "AllMember",
              "Lifestyle"
             ],
             "properties": {
              "DISPLAY_INFO": 131072
             }
            },
            {
             "captionPath": [
              "AllMember",
              "AC DC Power Monitor"
             ],
             "namePath": [
              "AllMember",
              "AC DC Power Monitor"
             ],
             "properties": {
              "DISPLAY_INFO": 131072
             }
            }
           ],
           [
            {
             "captionPath": [
              "AllMember",
              "MEDICAL"
             ],
             "namePath": [
              "AllMember",
              "MEDICAL"
             ],
             "properties": {
              "DISPLAY_INFO": 131072
             }
            },
            {
             "captionPath": [
              "AllMember",
              "Medical"
             ],
             "namePath": [
              "AllMember",
              "Medical"
             ],
             "properties": {
              "DISPLAY_INFO": 131072
             }
            },
            {
             "captionPath": [
              "AllMember",
              "420 BZ Budeze Delivery"
             ],
             "namePath": [
              "AllMember",
              "420 BZ Budeze Delivery"
             ],
             "properties": {
              "DISPLAY_INFO": 131072
             }
            }
           ],
           [
            {
             "captionPath": [
              "AllMember",
              "NEWS_AND_MAGAZINES"
             ],
             "namePath": [
              "AllMember",
              "NEWS_AND_MAGAZINES"
             ],
             "properties": {
              "DISPLAY_INFO": 131072
             }
            },
            {
             "captionPath": [
              "AllMember",
              "News & Magazines"
             ],
             "namePath": [
              "AllMember",
              "News & Magazines"
             ],
             "properties": {
              "DISPLAY_INFO": 131072
             }
            },
            {
             "captionPath": [
              "AllMember",
              "AI Today : Artificial Intelligence News & AI 101"
             ],
             "namePath": [
              "AllMember",
              "AI Today : Artificial Intelligence News & AI 101"
             ],
             "properties": {
              "DISPLAY_INFO": 131072
             }
            }
           ],
           [
            {
             "captionPath": [
              "AllMember",
              "PERSONALIZATION"
             ],
             "namePath": [
              "AllMember",
              "PERSONALIZATION"
             ],
             "properties": {
              "DISPLAY_INFO": 131072
             }
            },
            {
             "captionPath": [
              "AllMember",
              "Personalization"
             ],
             "namePath": [
              "AllMember",
              "Personalization"
             ],
             "properties": {
              "DISPLAY_INFO": 131072
             }
            },
            {
             "captionPath": [
              "AllMember",
              "AJ Blue Icon Pack"
             ],
             "namePath": [
              "AllMember",
              "AJ Blue Icon Pack"
             ],
             "properties": {
              "DISPLAY_INFO": 131072
             }
            }
           ],
           [
            {
             "captionPath": [
              "AllMember",
              "PERSONALIZATION"
             ],
             "namePath": [
              "AllMember",
              "PERSONALIZATION"
             ],
             "properties": {
              "DISPLAY_INFO": 131072
             }
            },
            {
             "captionPath": [
              "AllMember",
              "Personalization"
             ],
             "namePath": [
              "AllMember",
              "Personalization"
             ],
             "properties": {
              "DISPLAY_INFO": 131072
             }
            },
            {
             "captionPath": [
              "AllMember",
              "AJ Gray Dark Icon Pack"
             ],
             "namePath": [
              "AllMember",
              "AJ Gray Dark Icon Pack"
             ],
             "properties": {
              "DISPLAY_INFO": 131072
             }
            }
           ],
           [
            {
             "captionPath": [
              "AllMember",
              "PHOTOGRAPHY"
             ],
             "namePath": [
              "AllMember",
              "PHOTOGRAPHY"
             ],
             "properties": {
              "DISPLAY_INFO": 131072
             }
            },
            {
             "captionPath": [
              "AllMember",
              "Photography"
             ],
             "namePath": [
              "AllMember",
              "Photography"
             ],
             "properties": {
              "DISPLAY_INFO": 131072
             }
            },
            {
             "captionPath": [
              "AllMember",
              "AJ Cam"
             ],
             "namePath": [
              "AllMember",
              "AJ Cam"
             ],
             "properties": {
              "DISPLAY_INFO": 131072
             }
            }
           ],
           [
            {
             "captionPath": [
              "AllMember",
              "SHOPPING"
             ],
             "namePath": [
              "AllMember",
              "SHOPPING"
             ],
             "properties": {
              "DISPLAY_INFO": 131072
             }
            },
            {
             "captionPath": [
              "AllMember",
              "Shopping"
             ],
             "namePath": [
              "AllMember",
              "Shopping"
             ],
             "properties": {
              "DISPLAY_INFO": 131072
             }
            },
            {
             "captionPath": [
              "AllMember",
              "A-Y Collection"
             ],
             "namePath": [
              "AllMember",
              "A-Y Collection"
             ],
             "properties": {
              "DISPLAY_INFO": 131072
             }
            }
           ],
           [
            {
             "captionPath": [
              "AllMember",
              "TOOLS"
             ],
             "namePath": [
              "AllMember",
              "TOOLS"
             ],
             "properties": {
              "DISPLAY_INFO": 131072
             }
            },
            {
             "captionPath": [
              "AllMember",
              "Tools"
             ],
             "namePath": [
              "AllMember",
              "Tools"
             ],
             "properties": {
              "DISPLAY_INFO": 131072
             }
            },
            {
             "captionPath": [
              "AllMember",
              "ADS-B Driver"
             ],
             "namePath": [
              "AllMember",
              "ADS-B Driver"
             ],
             "properties": {
              "DISPLAY_INFO": 131072
             }
            }
           ]
          ]
         }
        ],
        "cells": [
         {
          "formattedValue": "5.00",
          "ordinal": 0,
          "properties": {
           "BACK_COLOR": null,
           "FONT_FLAGS": 0,
           "FORE_COLOR": null
          },
          "value": 5
         },
         {
          "formattedValue": "1.00",
          "ordinal": 1,
          "properties": {
           "BACK_COLOR": null,
           "FONT_FLAGS": 0,
           "FORE_COLOR": null
          },
          "value": 1
         },
         {
          "formattedValue": "5.00",
          "ordinal": 2,
          "properties": {
           "BACK_COLOR": null,
           "FONT_FLAGS": 0,
           "FORE_COLOR": null
          },
          "value": 5
         },
         {
          "formattedValue": "8.00",
          "ordinal": 3,
          "properties": {
           "BACK_COLOR": null,
           "FONT_FLAGS": 0,
           "FORE_COLOR": null
          },
          "value": 8
         },
         {
          "formattedValue": "5.00",
          "ordinal": 4,
          "properties": {
           "BACK_COLOR": null,
           "FONT_FLAGS": 0,
           "FORE_COLOR": null
          },
          "value": 5
         },
         {
          "formattedValue": "1.00",
          "ordinal": 5,
          "properties": {
           "BACK_COLOR": null,
           "FONT_FLAGS": 0,
           "FORE_COLOR": null
          },
          "value": 1
         },
         {
          "formattedValue": "5.00",
          "ordinal": 6,
          "properties": {
           "BACK_COLOR": null,
           "FONT_FLAGS": 0,
           "FORE_COLOR": null
          },
          "value": 5
         },
         {
          "formattedValue": "2.00",
          "ordinal": 7,
          "properties": {
           "BACK_COLOR": null,
           "FONT_FLAGS": 0,
           "FORE_COLOR": null
          },
          "value": 2
         },
         {
          "formattedValue": "5.00",
          "ordinal": 8,
          "properties": {
           "BACK_COLOR": null,
           "FONT_FLAGS": 0,
           "FORE_COLOR": null
          },
          "value": 5
         },
         {
          "formattedValue": "43.00",
          "ordinal": 9,
          "properties": {
           "BACK_COLOR": null,
           "FONT_FLAGS": 0,
           "FORE_COLOR": null
          },
          "value": 43
         },
         {
          "formattedValue": "5.00",
          "ordinal": 10,
          "properties": {
           "BACK_COLOR": null,
           "FONT_FLAGS": 0,
           "FORE_COLOR": null
          },
          "value": 5
         },
         {
          "formattedValue": "4.00",
          "ordinal": 11,
          "properties": {
           "BACK_COLOR": null,
           "FONT_FLAGS": 0,
           "FORE_COLOR": null
          },
          "value": 4
         },
         {
          "formattedValue": "5.00",
          "ordinal": 12,
          "properties": {
           "BACK_COLOR": null,
           "FONT_FLAGS": 0,
           "FORE_COLOR": null
          },
          "value": 5
         },
         {
          "formattedValue": "2.00",
          "ordinal": 13,
          "properties": {
           "BACK_COLOR": null,
           "FONT_FLAGS": 0,
           "FORE_COLOR": null
          },
          "value": 2
         },
         {
          "formattedValue": "5.00",
          "ordinal": 14,
          "properties": {
           "BACK_COLOR": null,
           "FONT_FLAGS": 0,
           "FORE_COLOR": null
          },
          "value": 5
         },
         {
          "formattedValue": "44.00",
          "ordinal": 15,
          "properties": {
           "BACK_COLOR": null,
           "FONT_FLAGS": 0,
           "FORE_COLOR": null
          },
          "value": 44
         },
         {
          "formattedValue": "5.00",
          "ordinal": 16,
          "properties": {
           "BACK_COLOR": null,
           "FONT_FLAGS": 0,
           "FORE_COLOR": null
          },
          "value": 5
         },
         {
          "formattedValue": "2.00",
          "ordinal": 17,
          "properties": {
           "BACK_COLOR": null,
           "FONT_FLAGS": 0,
           "FORE_COLOR": null
          },
          "value": 2
         },
         {
          "formattedValue": "5.00",
          "ordinal": 18,
          "properties": {
           "BACK_COLOR": null,
           "FONT_FLAGS": 0,
           "FORE_COLOR": null
          },
          "value": 5
         },
         {
          "formattedValue": "2.00",
          "ordinal": 19,
          "properties": {
           "BACK_COLOR": null,
           "FONT_FLAGS": 0,
           "FORE_COLOR": null
          },
          "value": 2
         }
        ],
        "cube": "Google Playstore",
        "defaultMembers": [
         {
          "captionPath": [
           "Count"
          ],
          "dimension": "Measures",
          "hierarchy": "Measures",
          "path": [
           "contributors.COUNT"
          ]
         },
         {
          "captionPath": [
           "Base"
          ],
          "dimension": "Epoch",
          "hierarchy": "Epoch",
          "path": [
           "Base"
          ]
         }
        ],
        "epoch": 1
       },
       "cube": "Google Playstore",
       "error": null,
       "name": "Top 10 apps with highest rating across categories",
       "session": "Unnamed"
      },
      "text/html": [
       "<img src=\"data:image/svg+xml;charset=utf8,%3C?xml%20version=%221.0%22%20standalone=%22no%22?%3E%0A%20%20%20%20%3Csvg%20xmlns=%22http://www.w3.org/2000/svg%22%20width=%221355%22%20height=%22363%22%3E%0A%20%20%20%20%20%20%3CforeignObject%20x=%220%22%20y=%220%22%20width=%22100%25%22%20height=%22100%25%22%3E%0A%20%20%20%20%20%20%20%20%3Cstyle%20type=%22text/css%22%3E.ant-root%20html,%20.ant-root%20%7Bwidth:%20100%25;%20height:%20100%25%7D%0A.ant-root%20*,%20.ant-root%20::before,%20.ant-root%20::after%20%7Bbox-sizing:%20border-box%7D%0A.ant-root%20%7Bmargin-top:%200px;%20margin-right:%200px;%20margin-bottom:%200px;%20margin-left:%200px;%20color:%20rgba(0,%200,%200,%200.65);%20font-size:%2014px;%20font-family:%20-apple-system,%20BlinkMacSystemFont,%20%22Segoe%20UI%22,%20%22PingFang%20SC%22,%20%22Hiragino%20Sans%20GB%22,%20%22Microsoft%20YaHei%22,%20%22Helvetica%20Neue%22,%20Helvetica,%20Arial,%20sans-serif,%20%22Apple%20Color%20Emoji%22,%20%22Segoe%20UI%20Emoji%22,%20%22Segoe%20UI%20Symbol%22;%20font-variant-ligatures:%20normal;%20font-variant-numeric:%20tabular-nums;%20font-variant-east-asian:%20normal;%20font-variant-caps:%20normal;%20line-height:%201.5;%20background-color:%20rgb(255,%20255,%20255);%20font-feature-settings:%20%22tnum%22;%20--antd-wave-shadow-color:%20undefined%7D%0A.ant-root%20p%20%7Bmargin-top:%200px;%20margin-bottom:%201em%7D%0A.ant-root%20.anticon%20%7Bdisplay:%20inline-block;%20color:%20inherit;%20font-style:%20normal;%20line-height:%200;%20text-align:%20center;%20text-transform:%20none;%20vertical-align:%20-0.125em;%20text-rendering:%20optimizelegibility;%20-webkit-font-smoothing:%20antialiased%7D%0A.ant-root%20.ant-empty%20%7Bmargin-top:%200px;%20margin-right:%208px;%20margin-bottom:%200px;%20margin-left:%208px;%20font-size:%2014px;%20line-height:%2022px;%20text-align:%20center%7D%0A.ant-root%20.ant-empty-image%20%7Bheight:%20100px;%20margin-bottom:%208px%7D%0A.ant-root%20.ant-empty-description%20%7Bmargin-top:%200px;%20margin-right:%200px;%20margin-bottom:%200px;%20margin-left:%200px%7D%0A.css-1sxolix-Widget%20%7Bheight:%20100%25%7D%0A.css-1sxolix-Widget%20.ant-root:not(.atoti-widget-chooser)%20%7Bbox-shadow:%20none%7D%0A.css-1vvlsw8-Message%20%7Bdisplay:%20flex;%20flex-direction:%20column;%20height:%20100%25;%20-webkit-box-pack:%20center;%20justify-content:%20center%7D%0A.css-f99f8i-Message%20%7Bcolor:%20var(--jp-ui-font-color1)%7D%0A.css-1e2otit-Message%20%7Bfont-size:%20var(--jp-ui-font-size2)%7D%0A.css-1eo8779-Message%20%7Bfont-size:%20var(--jp-ui-font-size1)%7D%3C/style%3E%0A%20%20%20%20%20%20%20%20%3Cdiv%20xmlns=%22http://www.w3.org/1999/xhtml%22%20style=%22height:%20363px;%20width:%201355px%22%3E%0A%20%20%20%20%20%20%20%20%20%20%3Cdiv%20xmlns=%22http://www.w3.org/1999/xhtml%22%20class=%22css-1sxolix-Widget%22%3E%3Cdiv%20class=%22ant-root%20atoti-message%20css-1vvlsw8-Message%22%3E%3Cdiv%20class=%22ant-empty%22%3E%3Cdiv%20class=%22ant-empty-image%22%20style=%22font-size:%2048px;%20height:%2048px;%22%3E%3Ci%20aria-label=%22icon:%20api%22%20class=%22anticon%20anticon-api%22%3E%3C/i%3E%3C/div%3E%3Cp%20class=%22ant-empty-description%22%3E%3Cspan%20class=%22css-f99f8i-Message%22%3E%3Cspan%20class=%22css-1e2otit-Message%22%3EWaiting%20for%20cube%20connection%3C/span%3E%3Cbr%20/%3E%3Cspan%20class=%22css-1eo8779-Message%22%3EExecute%20the%20cell%20to%20start%20using%20this%20widget.%3C/span%3E%3C/span%3E%3C/p%3E%3C/div%3E%3C/div%3E%3C/div%3E%0A%20%20%20%20%20%20%20%20%3C/div%3E%0A%20%20%20%20%20%20%3C/foreignObject%3E%0A%20%20%20%20%3C/svg%3E\">"
      ],
      "text/plain": [
       "Open the notebook in JupyterLab with the atoti extension installed and enabled to see this widget."
      ]
     },
     "metadata": {},
     "output_type": "display_data"
    }
   ],
   "source": [
    "cube.visualize(\"Top 10 apps with highest rating across categories\")"
   ]
  },
  {
   "cell_type": "markdown",
   "metadata": {},
   "source": [
    "### Top 10 categories with the most number of apps rated 5"
   ]
  },
  {
   "cell_type": "code",
   "execution_count": 13,
   "metadata": {},
   "outputs": [
    {
     "data": {
      "application/json": {
       "Installs.MEAN": {
        "formatter": "DOUBLE[#,###.00]"
       },
       "Installs.SUM": {
        "formatter": "DOUBLE[#,###.00]"
       },
       "Price.MEAN": {
        "formatter": "DOUBLE[#,###.00]"
       },
       "Price.SUM": {
        "formatter": "DOUBLE[#,###.00]"
       },
       "Rating.MEAN": {
        "formatter": "DOUBLE[#,###.00]"
       },
       "Rating.SUM": {
        "formatter": "DOUBLE[#,###.00]"
       },
       "Reviews.MEAN": {
        "formatter": "DOUBLE[#,###.00]"
       },
       "Reviews.SUM": {
        "formatter": "DOUBLE[#,###.00]"
       },
       "Size.MEAN": {
        "formatter": "DOUBLE[#,###.00]"
       },
       "Size.SUM": {
        "formatter": "DOUBLE[#,###.00]"
       },
       "contributors.COUNT": {
        "formatter": null
       }
      },
      "text/html": [
       "<ul>\n",
       "<li>Measures\n",
       "  <ul>\n",
       "  <li>Installs.MEAN\n",
       "    <ul>\n",
       "    <li>formatter: DOUBLE[#,###.00]</li>\n",
       "    </ul>\n",
       "  </li>\n",
       "  <li>Installs.SUM\n",
       "    <ul>\n",
       "    <li>formatter: DOUBLE[#,###.00]</li>\n",
       "    </ul>\n",
       "  </li>\n",
       "  <li>Price.MEAN\n",
       "    <ul>\n",
       "    <li>formatter: DOUBLE[#,###.00]</li>\n",
       "    </ul>\n",
       "  </li>\n",
       "  <li>Price.SUM\n",
       "    <ul>\n",
       "    <li>formatter: DOUBLE[#,###.00]</li>\n",
       "    </ul>\n",
       "  </li>\n",
       "  <li>Rating.MEAN\n",
       "    <ul>\n",
       "    <li>formatter: DOUBLE[#,###.00]</li>\n",
       "    </ul>\n",
       "  </li>\n",
       "  <li>Rating.SUM\n",
       "    <ul>\n",
       "    <li>formatter: DOUBLE[#,###.00]</li>\n",
       "    </ul>\n",
       "  </li>\n",
       "  <li>Reviews.MEAN\n",
       "    <ul>\n",
       "    <li>formatter: DOUBLE[#,###.00]</li>\n",
       "    </ul>\n",
       "  </li>\n",
       "  <li>Reviews.SUM\n",
       "    <ul>\n",
       "    <li>formatter: DOUBLE[#,###.00]</li>\n",
       "    </ul>\n",
       "  </li>\n",
       "  <li>Size.MEAN\n",
       "    <ul>\n",
       "    <li>formatter: DOUBLE[#,###.00]</li>\n",
       "    </ul>\n",
       "  </li>\n",
       "  <li>Size.SUM\n",
       "    <ul>\n",
       "    <li>formatter: DOUBLE[#,###.00]</li>\n",
       "    </ul>\n",
       "  </li>\n",
       "  <li>contributors.COUNT\n",
       "    <ul>\n",
       "    <li>formatter: None</li>\n",
       "    </ul>\n",
       "  </li>\n",
       "  </ul>\n",
       "</li>\n",
       "</ul>\n"
      ],
      "text/plain": [
       "Measures()"
      ]
     },
     "execution_count": 13,
     "metadata": {
      "application/json": {
       "expanded": false,
       "root": "Measures"
      }
     },
     "output_type": "execute_result"
    }
   ],
   "source": [
    "l = cube.levels\n",
    "m = cube.measures\n",
    "m"
   ]
  },
  {
   "cell_type": "markdown",
   "metadata": {},
   "source": [
    "#### Number of apps rated 5\n",
    "\n",
    "Create a measure that counts the number of apps rated 5 within categories and at levels below the category."
   ]
  },
  {
   "cell_type": "code",
   "execution_count": 14,
   "metadata": {},
   "outputs": [],
   "source": [
    "m[\"Count with rating 5\"] = tt.agg.sum(\n",
    "    tt.where(m[\"Rating.MEAN\"] == 5, m[\"contributors.COUNT\"], 0),\n",
    "    scope=tt.scope.origin(l[\"Category\"], l[\"App\"]),\n",
    ")"
   ]
  },
  {
   "cell_type": "markdown",
   "metadata": {},
   "source": [
    "We can drill down to different levels from category and the count is computed on the fly."
   ]
  },
  {
   "cell_type": "code",
   "execution_count": 15,
   "metadata": {
    "atoti": {
     "state": {
      "name": "Categories with apps rated 5",
      "type": "container",
      "value": {
       "body": {
        "configuration": {
         "tabular": {
          "addButtonFilter": "numeric",
          "cellRenderers": [
           "tree-layout"
          ],
          "columnOrder": {
           "args": {
            "orderedColumns": [
             "c-treeCells-member",
             "[Measures].[Count with rating 5]"
            ]
           },
           "key": "explicit"
          },
          "columns": [
           {
            "key": "[Measures].[Count with rating 5]",
            "width": 156
           }
          ],
          "columnsGroups": [
           {
            "captionProducer": "firstColumn",
            "cellFactory": "kpi-status",
            "selector": "kpi-status"
           },
           {
            "captionProducer": "firstColumn",
            "cellFactory": "lookup",
            "selector": "lookup"
           },
           {
            "captionProducer": "expiry",
            "cellFactory": "expiry",
            "selector": "kpi-expiry"
           },
           {
            "captionProducer": "columnMerge",
            "cellFactory": {
             "args": {},
             "key": "treeCells"
            },
            "selector": "member"
           }
          ],
          "defaultOptions": {},
          "expansion": {
           "automaticExpansion": true
          },
          "hideAddButton": true,
          "pinnedHeaderSelector": "member",
          "sortingMode": "non-breaking",
          "statisticsShown": true
         }
        },
        "contextValues": {},
        "mdx": "SELECT NON EMPTY Hierarchize(Union(Crossjoin(DrilldownLevel([Hierarchies].[Category].[ALL].[AllMember]), [Hierarchies].[Genres].DefaultMember, [Hierarchies].[Content Rating].DefaultMember), Crossjoin([Hierarchies].[Category].[ALL].[AllMember].[BUSINESS], [Hierarchies].[Genres].[Genres].Members, [Hierarchies].[Content Rating].DefaultMember), Crossjoin([Hierarchies].[Category].[ALL].[AllMember].[BUSINESS], [Hierarchies].[Genres].[ALL].[AllMember].[Business], [Hierarchies].[Content Rating].[Content Rating].Members))) ON ROWS, NON EMPTY [Measures].[Count with rating 5] ON COLUMNS FROM (SELECT Filter([Hierarchies].[Category].[Category].Members, [Measures].[Count with rating 5] > 0) ON COLUMNS FROM [Google Playstore]) CELL PROPERTIES VALUE, FORMATTED_VALUE, BACK_COLOR, FORE_COLOR, FONT_FLAGS",
        "ranges": {
         "column": {
          "chunkSize": 50,
          "thresholdPercentage": 0.2
         },
         "row": {
          "chunkSize": 2000,
          "thresholdPercentage": 0.1
         }
        },
        "serverUrl": ""
       },
       "containerKey": "pivot-table",
       "showTitleBar": false,
       "style": {}
      }
     }
    }
   },
   "outputs": [
    {
     "data": {
      "application/vnd.atoti.v0+json": {
       "cellSet": {
        "axes": [
         {
          "hierarchies": [
           {
            "dimension": "Measures",
            "hierarchy": "Measures"
           }
          ],
          "id": 0,
          "positions": [
           [
            {
             "captionPath": [
              "Count with rating 5"
             ],
             "namePath": [
              "Count with rating 5"
             ],
             "properties": {
              "DISPLAY_INFO": 0
             }
            }
           ]
          ]
         },
         {
          "hierarchies": [
           {
            "dimension": "Hierarchies",
            "hierarchy": "Category"
           },
           {
            "dimension": "Hierarchies",
            "hierarchy": "Genres"
           },
           {
            "dimension": "Hierarchies",
            "hierarchy": "Content Rating"
           }
          ],
          "id": 1,
          "positions": [
           [
            {
             "captionPath": [
              "AllMember"
             ],
             "namePath": [
              "AllMember"
             ],
             "properties": {
              "DISPLAY_INFO": 65569
             }
            },
            {
             "captionPath": [
              "AllMember"
             ],
             "namePath": [
              "AllMember"
             ],
             "properties": {
              "DISPLAY_INFO": 120
             }
            },
            {
             "captionPath": [
              "AllMember"
             ],
             "namePath": [
              "AllMember"
             ],
             "properties": {
              "DISPLAY_INFO": 6
             }
            }
           ],
           [
            {
             "captionPath": [
              "AllMember",
              "ART_AND_DESIGN"
             ],
             "namePath": [
              "AllMember",
              "ART_AND_DESIGN"
             ],
             "properties": {
              "DISPLAY_INFO": 0
             }
            },
            {
             "captionPath": [
              "AllMember"
             ],
             "namePath": [
              "AllMember"
             ],
             "properties": {
              "DISPLAY_INFO": 120
             }
            },
            {
             "captionPath": [
              "AllMember"
             ],
             "namePath": [
              "AllMember"
             ],
             "properties": {
              "DISPLAY_INFO": 6
             }
            }
           ],
           [
            {
             "captionPath": [
              "AllMember",
              "BOOKS_AND_REFERENCE"
             ],
             "namePath": [
              "AllMember",
              "BOOKS_AND_REFERENCE"
             ],
             "properties": {
              "DISPLAY_INFO": 131072
             }
            },
            {
             "captionPath": [
              "AllMember"
             ],
             "namePath": [
              "AllMember"
             ],
             "properties": {
              "DISPLAY_INFO": 120
             }
            },
            {
             "captionPath": [
              "AllMember"
             ],
             "namePath": [
              "AllMember"
             ],
             "properties": {
              "DISPLAY_INFO": 6
             }
            }
           ],
           [
            {
             "captionPath": [
              "AllMember",
              "BUSINESS"
             ],
             "namePath": [
              "AllMember",
              "BUSINESS"
             ],
             "properties": {
              "DISPLAY_INFO": 131072
             }
            },
            {
             "captionPath": [
              "AllMember"
             ],
             "namePath": [
              "AllMember"
             ],
             "properties": {
              "DISPLAY_INFO": 65656
             }
            },
            {
             "captionPath": [
              "AllMember"
             ],
             "namePath": [
              "AllMember"
             ],
             "properties": {
              "DISPLAY_INFO": 6
             }
            }
           ],
           [
            {
             "captionPath": [
              "AllMember",
              "BUSINESS"
             ],
             "namePath": [
              "AllMember",
              "BUSINESS"
             ],
             "properties": {
              "DISPLAY_INFO": 131072
             }
            },
            {
             "captionPath": [
              "AllMember",
              "Business"
             ],
             "namePath": [
              "AllMember",
              "Business"
             ],
             "properties": {
              "DISPLAY_INFO": 0
             }
            },
            {
             "captionPath": [
              "AllMember"
             ],
             "namePath": [
              "AllMember"
             ],
             "properties": {
              "DISPLAY_INFO": 65542
             }
            }
           ],
           [
            {
             "captionPath": [
              "AllMember",
              "BUSINESS"
             ],
             "namePath": [
              "AllMember",
              "BUSINESS"
             ],
             "properties": {
              "DISPLAY_INFO": 131072
             }
            },
            {
             "captionPath": [
              "AllMember",
              "Business"
             ],
             "namePath": [
              "AllMember",
              "Business"
             ],
             "properties": {
              "DISPLAY_INFO": 131072
             }
            },
            {
             "captionPath": [
              "AllMember",
              "Everyone"
             ],
             "namePath": [
              "AllMember",
              "Everyone"
             ],
             "properties": {
              "DISPLAY_INFO": 0
             }
            }
           ],
           [
            {
             "captionPath": [
              "AllMember",
              "BUSINESS"
             ],
             "namePath": [
              "AllMember",
              "BUSINESS"
             ],
             "properties": {
              "DISPLAY_INFO": 131072
             }
            },
            {
             "captionPath": [
              "AllMember",
              "Business"
             ],
             "namePath": [
              "AllMember",
              "Business"
             ],
             "properties": {
              "DISPLAY_INFO": 131072
             }
            },
            {
             "captionPath": [
              "AllMember",
              "Everyone 10"
             ],
             "namePath": [
              "AllMember",
              "Everyone 10"
             ],
             "properties": {
              "DISPLAY_INFO": 131072
             }
            }
           ],
           [
            {
             "captionPath": [
              "AllMember",
              "BUSINESS"
             ],
             "namePath": [
              "AllMember",
              "BUSINESS"
             ],
             "properties": {
              "DISPLAY_INFO": 131072
             }
            },
            {
             "captionPath": [
              "AllMember",
              "Business"
             ],
             "namePath": [
              "AllMember",
              "Business"
             ],
             "properties": {
              "DISPLAY_INFO": 131072
             }
            },
            {
             "captionPath": [
              "AllMember",
              "Mature 17"
             ],
             "namePath": [
              "AllMember",
              "Mature 17"
             ],
             "properties": {
              "DISPLAY_INFO": 131072
             }
            }
           ],
           [
            {
             "captionPath": [
              "AllMember",
              "BUSINESS"
             ],
             "namePath": [
              "AllMember",
              "BUSINESS"
             ],
             "properties": {
              "DISPLAY_INFO": 131072
             }
            },
            {
             "captionPath": [
              "AllMember",
              "Business"
             ],
             "namePath": [
              "AllMember",
              "Business"
             ],
             "properties": {
              "DISPLAY_INFO": 131072
             }
            },
            {
             "captionPath": [
              "AllMember",
              "Teen"
             ],
             "namePath": [
              "AllMember",
              "Teen"
             ],
             "properties": {
              "DISPLAY_INFO": 131072
             }
            }
           ],
           [
            {
             "captionPath": [
              "AllMember",
              "COMICS"
             ],
             "namePath": [
              "AllMember",
              "COMICS"
             ],
             "properties": {
              "DISPLAY_INFO": 131072
             }
            },
            {
             "captionPath": [
              "AllMember"
             ],
             "namePath": [
              "AllMember"
             ],
             "properties": {
              "DISPLAY_INFO": 120
             }
            },
            {
             "captionPath": [
              "AllMember"
             ],
             "namePath": [
              "AllMember"
             ],
             "properties": {
              "DISPLAY_INFO": 6
             }
            }
           ],
           [
            {
             "captionPath": [
              "AllMember",
              "COMMUNICATION"
             ],
             "namePath": [
              "AllMember",
              "COMMUNICATION"
             ],
             "properties": {
              "DISPLAY_INFO": 131072
             }
            },
            {
             "captionPath": [
              "AllMember"
             ],
             "namePath": [
              "AllMember"
             ],
             "properties": {
              "DISPLAY_INFO": 120
             }
            },
            {
             "captionPath": [
              "AllMember"
             ],
             "namePath": [
              "AllMember"
             ],
             "properties": {
              "DISPLAY_INFO": 6
             }
            }
           ],
           [
            {
             "captionPath": [
              "AllMember",
              "DATING"
             ],
             "namePath": [
              "AllMember",
              "DATING"
             ],
             "properties": {
              "DISPLAY_INFO": 131072
             }
            },
            {
             "captionPath": [
              "AllMember"
             ],
             "namePath": [
              "AllMember"
             ],
             "properties": {
              "DISPLAY_INFO": 120
             }
            },
            {
             "captionPath": [
              "AllMember"
             ],
             "namePath": [
              "AllMember"
             ],
             "properties": {
              "DISPLAY_INFO": 6
             }
            }
           ],
           [
            {
             "captionPath": [
              "AllMember",
              "EVENTS"
             ],
             "namePath": [
              "AllMember",
              "EVENTS"
             ],
             "properties": {
              "DISPLAY_INFO": 131072
             }
            },
            {
             "captionPath": [
              "AllMember"
             ],
             "namePath": [
              "AllMember"
             ],
             "properties": {
              "DISPLAY_INFO": 120
             }
            },
            {
             "captionPath": [
              "AllMember"
             ],
             "namePath": [
              "AllMember"
             ],
             "properties": {
              "DISPLAY_INFO": 6
             }
            }
           ],
           [
            {
             "captionPath": [
              "AllMember",
              "FAMILY"
             ],
             "namePath": [
              "AllMember",
              "FAMILY"
             ],
             "properties": {
              "DISPLAY_INFO": 131072
             }
            },
            {
             "captionPath": [
              "AllMember"
             ],
             "namePath": [
              "AllMember"
             ],
             "properties": {
              "DISPLAY_INFO": 120
             }
            },
            {
             "captionPath": [
              "AllMember"
             ],
             "namePath": [
              "AllMember"
             ],
             "properties": {
              "DISPLAY_INFO": 6
             }
            }
           ],
           [
            {
             "captionPath": [
              "AllMember",
              "FINANCE"
             ],
             "namePath": [
              "AllMember",
              "FINANCE"
             ],
             "properties": {
              "DISPLAY_INFO": 131072
             }
            },
            {
             "captionPath": [
              "AllMember"
             ],
             "namePath": [
              "AllMember"
             ],
             "properties": {
              "DISPLAY_INFO": 120
             }
            },
            {
             "captionPath": [
              "AllMember"
             ],
             "namePath": [
              "AllMember"
             ],
             "properties": {
              "DISPLAY_INFO": 6
             }
            }
           ],
           [
            {
             "captionPath": [
              "AllMember",
              "FOOD_AND_DRINK"
             ],
             "namePath": [
              "AllMember",
              "FOOD_AND_DRINK"
             ],
             "properties": {
              "DISPLAY_INFO": 131072
             }
            },
            {
             "captionPath": [
              "AllMember"
             ],
             "namePath": [
              "AllMember"
             ],
             "properties": {
              "DISPLAY_INFO": 120
             }
            },
            {
             "captionPath": [
              "AllMember"
             ],
             "namePath": [
              "AllMember"
             ],
             "properties": {
              "DISPLAY_INFO": 6
             }
            }
           ],
           [
            {
             "captionPath": [
              "AllMember",
              "GAME"
             ],
             "namePath": [
              "AllMember",
              "GAME"
             ],
             "properties": {
              "DISPLAY_INFO": 131072
             }
            },
            {
             "captionPath": [
              "AllMember"
             ],
             "namePath": [
              "AllMember"
             ],
             "properties": {
              "DISPLAY_INFO": 120
             }
            },
            {
             "captionPath": [
              "AllMember"
             ],
             "namePath": [
              "AllMember"
             ],
             "properties": {
              "DISPLAY_INFO": 6
             }
            }
           ],
           [
            {
             "captionPath": [
              "AllMember",
              "HEALTH_AND_FITNESS"
             ],
             "namePath": [
              "AllMember",
              "HEALTH_AND_FITNESS"
             ],
             "properties": {
              "DISPLAY_INFO": 131072
             }
            },
            {
             "captionPath": [
              "AllMember"
             ],
             "namePath": [
              "AllMember"
             ],
             "properties": {
              "DISPLAY_INFO": 120
             }
            },
            {
             "captionPath": [
              "AllMember"
             ],
             "namePath": [
              "AllMember"
             ],
             "properties": {
              "DISPLAY_INFO": 6
             }
            }
           ],
           [
            {
             "captionPath": [
              "AllMember",
              "LIBRARIES_AND_DEMO"
             ],
             "namePath": [
              "AllMember",
              "LIBRARIES_AND_DEMO"
             ],
             "properties": {
              "DISPLAY_INFO": 131072
             }
            },
            {
             "captionPath": [
              "AllMember"
             ],
             "namePath": [
              "AllMember"
             ],
             "properties": {
              "DISPLAY_INFO": 120
             }
            },
            {
             "captionPath": [
              "AllMember"
             ],
             "namePath": [
              "AllMember"
             ],
             "properties": {
              "DISPLAY_INFO": 6
             }
            }
           ],
           [
            {
             "captionPath": [
              "AllMember",
              "LIFESTYLE"
             ],
             "namePath": [
              "AllMember",
              "LIFESTYLE"
             ],
             "properties": {
              "DISPLAY_INFO": 131072
             }
            },
            {
             "captionPath": [
              "AllMember"
             ],
             "namePath": [
              "AllMember"
             ],
             "properties": {
              "DISPLAY_INFO": 120
             }
            },
            {
             "captionPath": [
              "AllMember"
             ],
             "namePath": [
              "AllMember"
             ],
             "properties": {
              "DISPLAY_INFO": 6
             }
            }
           ],
           [
            {
             "captionPath": [
              "AllMember",
              "MEDICAL"
             ],
             "namePath": [
              "AllMember",
              "MEDICAL"
             ],
             "properties": {
              "DISPLAY_INFO": 131072
             }
            },
            {
             "captionPath": [
              "AllMember"
             ],
             "namePath": [
              "AllMember"
             ],
             "properties": {
              "DISPLAY_INFO": 120
             }
            },
            {
             "captionPath": [
              "AllMember"
             ],
             "namePath": [
              "AllMember"
             ],
             "properties": {
              "DISPLAY_INFO": 6
             }
            }
           ],
           [
            {
             "captionPath": [
              "AllMember",
              "NEWS_AND_MAGAZINES"
             ],
             "namePath": [
              "AllMember",
              "NEWS_AND_MAGAZINES"
             ],
             "properties": {
              "DISPLAY_INFO": 131072
             }
            },
            {
             "captionPath": [
              "AllMember"
             ],
             "namePath": [
              "AllMember"
             ],
             "properties": {
              "DISPLAY_INFO": 120
             }
            },
            {
             "captionPath": [
              "AllMember"
             ],
             "namePath": [
              "AllMember"
             ],
             "properties": {
              "DISPLAY_INFO": 6
             }
            }
           ],
           [
            {
             "captionPath": [
              "AllMember",
              "PARENTING"
             ],
             "namePath": [
              "AllMember",
              "PARENTING"
             ],
             "properties": {
              "DISPLAY_INFO": 131072
             }
            },
            {
             "captionPath": [
              "AllMember"
             ],
             "namePath": [
              "AllMember"
             ],
             "properties": {
              "DISPLAY_INFO": 120
             }
            },
            {
             "captionPath": [
              "AllMember"
             ],
             "namePath": [
              "AllMember"
             ],
             "properties": {
              "DISPLAY_INFO": 6
             }
            }
           ],
           [
            {
             "captionPath": [
              "AllMember",
              "PERSONALIZATION"
             ],
             "namePath": [
              "AllMember",
              "PERSONALIZATION"
             ],
             "properties": {
              "DISPLAY_INFO": 131072
             }
            },
            {
             "captionPath": [
              "AllMember"
             ],
             "namePath": [
              "AllMember"
             ],
             "properties": {
              "DISPLAY_INFO": 120
             }
            },
            {
             "captionPath": [
              "AllMember"
             ],
             "namePath": [
              "AllMember"
             ],
             "properties": {
              "DISPLAY_INFO": 6
             }
            }
           ],
           [
            {
             "captionPath": [
              "AllMember",
              "PHOTOGRAPHY"
             ],
             "namePath": [
              "AllMember",
              "PHOTOGRAPHY"
             ],
             "properties": {
              "DISPLAY_INFO": 131072
             }
            },
            {
             "captionPath": [
              "AllMember"
             ],
             "namePath": [
              "AllMember"
             ],
             "properties": {
              "DISPLAY_INFO": 120
             }
            },
            {
             "captionPath": [
              "AllMember"
             ],
             "namePath": [
              "AllMember"
             ],
             "properties": {
              "DISPLAY_INFO": 6
             }
            }
           ],
           [
            {
             "captionPath": [
              "AllMember",
              "PRODUCTIVITY"
             ],
             "namePath": [
              "AllMember",
              "PRODUCTIVITY"
             ],
             "properties": {
              "DISPLAY_INFO": 131072
             }
            },
            {
             "captionPath": [
              "AllMember"
             ],
             "namePath": [
              "AllMember"
             ],
             "properties": {
              "DISPLAY_INFO": 120
             }
            },
            {
             "captionPath": [
              "AllMember"
             ],
             "namePath": [
              "AllMember"
             ],
             "properties": {
              "DISPLAY_INFO": 6
             }
            }
           ],
           [
            {
             "captionPath": [
              "AllMember",
              "SHOPPING"
             ],
             "namePath": [
              "AllMember",
              "SHOPPING"
             ],
             "properties": {
              "DISPLAY_INFO": 131072
             }
            },
            {
             "captionPath": [
              "AllMember"
             ],
             "namePath": [
              "AllMember"
             ],
             "properties": {
              "DISPLAY_INFO": 120
             }
            },
            {
             "captionPath": [
              "AllMember"
             ],
             "namePath": [
              "AllMember"
             ],
             "properties": {
              "DISPLAY_INFO": 6
             }
            }
           ],
           [
            {
             "captionPath": [
              "AllMember",
              "SOCIAL"
             ],
             "namePath": [
              "AllMember",
              "SOCIAL"
             ],
             "properties": {
              "DISPLAY_INFO": 131072
             }
            },
            {
             "captionPath": [
              "AllMember"
             ],
             "namePath": [
              "AllMember"
             ],
             "properties": {
              "DISPLAY_INFO": 120
             }
            },
            {
             "captionPath": [
              "AllMember"
             ],
             "namePath": [
              "AllMember"
             ],
             "properties": {
              "DISPLAY_INFO": 6
             }
            }
           ],
           [
            {
             "captionPath": [
              "AllMember",
              "SPORTS"
             ],
             "namePath": [
              "AllMember",
              "SPORTS"
             ],
             "properties": {
              "DISPLAY_INFO": 131072
             }
            },
            {
             "captionPath": [
              "AllMember"
             ],
             "namePath": [
              "AllMember"
             ],
             "properties": {
              "DISPLAY_INFO": 120
             }
            },
            {
             "captionPath": [
              "AllMember"
             ],
             "namePath": [
              "AllMember"
             ],
             "properties": {
              "DISPLAY_INFO": 6
             }
            }
           ],
           [
            {
             "captionPath": [
              "AllMember",
              "TOOLS"
             ],
             "namePath": [
              "AllMember",
              "TOOLS"
             ],
             "properties": {
              "DISPLAY_INFO": 131072
             }
            },
            {
             "captionPath": [
              "AllMember"
             ],
             "namePath": [
              "AllMember"
             ],
             "properties": {
              "DISPLAY_INFO": 120
             }
            },
            {
             "captionPath": [
              "AllMember"
             ],
             "namePath": [
              "AllMember"
             ],
             "properties": {
              "DISPLAY_INFO": 6
             }
            }
           ],
           [
            {
             "captionPath": [
              "AllMember",
              "TRAVEL_AND_LOCAL"
             ],
             "namePath": [
              "AllMember",
              "TRAVEL_AND_LOCAL"
             ],
             "properties": {
              "DISPLAY_INFO": 131072
             }
            },
            {
             "captionPath": [
              "AllMember"
             ],
             "namePath": [
              "AllMember"
             ],
             "properties": {
              "DISPLAY_INFO": 120
             }
            },
            {
             "captionPath": [
              "AllMember"
             ],
             "namePath": [
              "AllMember"
             ],
             "properties": {
              "DISPLAY_INFO": 6
             }
            }
           ]
          ]
         }
        ],
        "cells": [
         {
          "formattedValue": "271",
          "ordinal": 0,
          "properties": {
           "BACK_COLOR": null,
           "FONT_FLAGS": 0,
           "FORE_COLOR": null
          },
          "value": 271
         },
         {
          "formattedValue": "1",
          "ordinal": 1,
          "properties": {
           "BACK_COLOR": null,
           "FONT_FLAGS": 0,
           "FORE_COLOR": null
          },
          "value": 1
         },
         {
          "formattedValue": "6",
          "ordinal": 2,
          "properties": {
           "BACK_COLOR": null,
           "FONT_FLAGS": 0,
           "FORE_COLOR": null
          },
          "value": 6
         },
         {
          "formattedValue": "18",
          "ordinal": 3,
          "properties": {
           "BACK_COLOR": null,
           "FONT_FLAGS": 0,
           "FORE_COLOR": null
          },
          "value": 18
         },
         {
          "formattedValue": "18",
          "ordinal": 4,
          "properties": {
           "BACK_COLOR": null,
           "FONT_FLAGS": 0,
           "FORE_COLOR": null
          },
          "value": 18
         },
         {
          "formattedValue": "17",
          "ordinal": 5,
          "properties": {
           "BACK_COLOR": null,
           "FONT_FLAGS": 0,
           "FORE_COLOR": null
          },
          "value": 17
         },
         {
          "formattedValue": "0",
          "ordinal": 6,
          "properties": {
           "BACK_COLOR": null,
           "FONT_FLAGS": 0,
           "FORE_COLOR": null
          },
          "value": 0
         },
         {
          "formattedValue": "0",
          "ordinal": 7,
          "properties": {
           "BACK_COLOR": null,
           "FONT_FLAGS": 0,
           "FORE_COLOR": null
          },
          "value": 0
         },
         {
          "formattedValue": "1",
          "ordinal": 8,
          "properties": {
           "BACK_COLOR": null,
           "FONT_FLAGS": 0,
           "FORE_COLOR": null
          },
          "value": 1
         },
         {
          "formattedValue": "2",
          "ordinal": 9,
          "properties": {
           "BACK_COLOR": null,
           "FONT_FLAGS": 0,
           "FORE_COLOR": null
          },
          "value": 2
         },
         {
          "formattedValue": "5",
          "ordinal": 10,
          "properties": {
           "BACK_COLOR": null,
           "FONT_FLAGS": 0,
           "FORE_COLOR": null
          },
          "value": 5
         },
         {
          "formattedValue": "6",
          "ordinal": 11,
          "properties": {
           "BACK_COLOR": null,
           "FONT_FLAGS": 0,
           "FORE_COLOR": null
          },
          "value": 6
         },
         {
          "formattedValue": "6",
          "ordinal": 12,
          "properties": {
           "BACK_COLOR": null,
           "FONT_FLAGS": 0,
           "FORE_COLOR": null
          },
          "value": 6
         },
         {
          "formattedValue": "67",
          "ordinal": 13,
          "properties": {
           "BACK_COLOR": null,
           "FONT_FLAGS": 0,
           "FORE_COLOR": null
          },
          "value": 67
         },
         {
          "formattedValue": "8",
          "ordinal": 14,
          "properties": {
           "BACK_COLOR": null,
           "FONT_FLAGS": 0,
           "FORE_COLOR": null
          },
          "value": 8
         },
         {
          "formattedValue": "2",
          "ordinal": 15,
          "properties": {
           "BACK_COLOR": null,
           "FONT_FLAGS": 0,
           "FORE_COLOR": null
          },
          "value": 2
         },
         {
          "formattedValue": "12",
          "ordinal": 16,
          "properties": {
           "BACK_COLOR": null,
           "FONT_FLAGS": 0,
           "FORE_COLOR": null
          },
          "value": 12
         },
         {
          "formattedValue": "12",
          "ordinal": 17,
          "properties": {
           "BACK_COLOR": null,
           "FONT_FLAGS": 0,
           "FORE_COLOR": null
          },
          "value": 12
         },
         {
          "formattedValue": "2",
          "ordinal": 18,
          "properties": {
           "BACK_COLOR": null,
           "FONT_FLAGS": 0,
           "FORE_COLOR": null
          },
          "value": 2
         },
         {
          "formattedValue": "29",
          "ordinal": 19,
          "properties": {
           "BACK_COLOR": null,
           "FONT_FLAGS": 0,
           "FORE_COLOR": null
          },
          "value": 29
         },
         {
          "formattedValue": "25",
          "ordinal": 20,
          "properties": {
           "BACK_COLOR": null,
           "FONT_FLAGS": 0,
           "FORE_COLOR": null
          },
          "value": 25
         },
         {
          "formattedValue": "7",
          "ordinal": 21,
          "properties": {
           "BACK_COLOR": null,
           "FONT_FLAGS": 0,
           "FORE_COLOR": null
          },
          "value": 7
         },
         {
          "formattedValue": "1",
          "ordinal": 22,
          "properties": {
           "BACK_COLOR": null,
           "FONT_FLAGS": 0,
           "FORE_COLOR": null
          },
          "value": 1
         },
         {
          "formattedValue": "10",
          "ordinal": 23,
          "properties": {
           "BACK_COLOR": null,
           "FONT_FLAGS": 0,
           "FORE_COLOR": null
          },
          "value": 10
         },
         {
          "formattedValue": "6",
          "ordinal": 24,
          "properties": {
           "BACK_COLOR": null,
           "FONT_FLAGS": 0,
           "FORE_COLOR": null
          },
          "value": 6
         },
         {
          "formattedValue": "8",
          "ordinal": 25,
          "properties": {
           "BACK_COLOR": null,
           "FONT_FLAGS": 0,
           "FORE_COLOR": null
          },
          "value": 8
         },
         {
          "formattedValue": "6",
          "ordinal": 26,
          "properties": {
           "BACK_COLOR": null,
           "FONT_FLAGS": 0,
           "FORE_COLOR": null
          },
          "value": 6
         },
         {
          "formattedValue": "8",
          "ordinal": 27,
          "properties": {
           "BACK_COLOR": null,
           "FONT_FLAGS": 0,
           "FORE_COLOR": null
          },
          "value": 8
         },
         {
          "formattedValue": "4",
          "ordinal": 28,
          "properties": {
           "BACK_COLOR": null,
           "FONT_FLAGS": 0,
           "FORE_COLOR": null
          },
          "value": 4
         },
         {
          "formattedValue": "17",
          "ordinal": 29,
          "properties": {
           "BACK_COLOR": null,
           "FONT_FLAGS": 0,
           "FORE_COLOR": null
          },
          "value": 17
         },
         {
          "formattedValue": "3",
          "ordinal": 30,
          "properties": {
           "BACK_COLOR": null,
           "FONT_FLAGS": 0,
           "FORE_COLOR": null
          },
          "value": 3
         }
        ],
        "cube": "Google Playstore",
        "defaultMembers": [
         {
          "captionPath": [
           "Count"
          ],
          "dimension": "Measures",
          "hierarchy": "Measures",
          "path": [
           "contributors.COUNT"
          ]
         },
         {
          "captionPath": [
           "Base"
          ],
          "dimension": "Epoch",
          "hierarchy": "Epoch",
          "path": [
           "Base"
          ]
         }
        ],
        "epoch": 1
       },
       "cube": "Google Playstore",
       "error": null,
       "name": "Categories with apps rated 5",
       "session": "Unnamed"
      },
      "text/html": [
       "<img src=\"data:image/svg+xml;charset=utf8,%3C?xml%20version=%221.0%22%20standalone=%22no%22?%3E%0A%20%20%20%20%3Csvg%20xmlns=%22http://www.w3.org/2000/svg%22%20width=%221355%22%20height=%22360%22%3E%0A%20%20%20%20%20%20%3CforeignObject%20x=%220%22%20y=%220%22%20width=%22100%25%22%20height=%22100%25%22%3E%0A%20%20%20%20%20%20%20%20%3Cstyle%20type=%22text/css%22%3E.ant-root%20html,%20.ant-root%20%7Bwidth:%20100%25;%20height:%20100%25%7D%0A.ant-root%20*,%20.ant-root%20::before,%20.ant-root%20::after%20%7Bbox-sizing:%20border-box%7D%0A.ant-root%20%7Bmargin-top:%200px;%20margin-right:%200px;%20margin-bottom:%200px;%20margin-left:%200px;%20color:%20rgba(0,%200,%200,%200.65);%20font-size:%2014px;%20font-family:%20-apple-system,%20BlinkMacSystemFont,%20%22Segoe%20UI%22,%20%22PingFang%20SC%22,%20%22Hiragino%20Sans%20GB%22,%20%22Microsoft%20YaHei%22,%20%22Helvetica%20Neue%22,%20Helvetica,%20Arial,%20sans-serif,%20%22Apple%20Color%20Emoji%22,%20%22Segoe%20UI%20Emoji%22,%20%22Segoe%20UI%20Symbol%22;%20font-variant-ligatures:%20normal;%20font-variant-numeric:%20tabular-nums;%20font-variant-east-asian:%20normal;%20font-variant-caps:%20normal;%20line-height:%201.5;%20background-color:%20rgb(255,%20255,%20255);%20font-feature-settings:%20%22tnum%22;%20--antd-wave-shadow-color:%20undefined%7D%0A.ant-root%20p%20%7Bmargin-top:%200px;%20margin-bottom:%201em%7D%0A.ant-root%20.anticon%20%7Bdisplay:%20inline-block;%20color:%20inherit;%20font-style:%20normal;%20line-height:%200;%20text-align:%20center;%20text-transform:%20none;%20vertical-align:%20-0.125em;%20text-rendering:%20optimizelegibility;%20-webkit-font-smoothing:%20antialiased%7D%0A.ant-root%20.ant-empty%20%7Bmargin-top:%200px;%20margin-right:%208px;%20margin-bottom:%200px;%20margin-left:%208px;%20font-size:%2014px;%20line-height:%2022px;%20text-align:%20center%7D%0A.ant-root%20.ant-empty-image%20%7Bheight:%20100px;%20margin-bottom:%208px%7D%0A.ant-root%20.ant-empty-description%20%7Bmargin-top:%200px;%20margin-right:%200px;%20margin-bottom:%200px;%20margin-left:%200px%7D%0A.css-1sxolix-Widget%20%7Bheight:%20100%25%7D%0A.css-1sxolix-Widget%20.ant-root:not(.atoti-widget-chooser)%20%7Bbox-shadow:%20none%7D%0A.css-1vvlsw8-Message%20%7Bdisplay:%20flex;%20flex-direction:%20column;%20height:%20100%25;%20-webkit-box-pack:%20center;%20justify-content:%20center%7D%0A.css-f99f8i-Message%20%7Bcolor:%20var(--jp-ui-font-color1)%7D%0A.css-1e2otit-Message%20%7Bfont-size:%20var(--jp-ui-font-size2)%7D%0A.css-1eo8779-Message%20%7Bfont-size:%20var(--jp-ui-font-size1)%7D%3C/style%3E%0A%20%20%20%20%20%20%20%20%3Cdiv%20xmlns=%22http://www.w3.org/1999/xhtml%22%20style=%22height:%20360px;%20width:%201355px%22%3E%0A%20%20%20%20%20%20%20%20%20%20%3Cdiv%20xmlns=%22http://www.w3.org/1999/xhtml%22%20class=%22css-1sxolix-Widget%22%3E%3Cdiv%20class=%22ant-root%20atoti-message%20css-1vvlsw8-Message%22%3E%3Cdiv%20class=%22ant-empty%22%3E%3Cdiv%20class=%22ant-empty-image%22%20style=%22font-size:%2048px;%20height:%2048px;%22%3E%3Ci%20aria-label=%22icon:%20api%22%20class=%22anticon%20anticon-api%22%3E%3C/i%3E%3C/div%3E%3Cp%20class=%22ant-empty-description%22%3E%3Cspan%20class=%22css-f99f8i-Message%22%3E%3Cspan%20class=%22css-1e2otit-Message%22%3EWaiting%20for%20cube%20connection%3C/span%3E%3Cbr%20/%3E%3Cspan%20class=%22css-1eo8779-Message%22%3EExecute%20the%20cell%20to%20start%20using%20this%20widget.%3C/span%3E%3C/span%3E%3C/p%3E%3C/div%3E%3C/div%3E%3C/div%3E%0A%20%20%20%20%20%20%20%20%3C/div%3E%0A%20%20%20%20%20%20%3C/foreignObject%3E%0A%20%20%20%20%3C/svg%3E\">"
      ],
      "text/plain": [
       "Open the notebook in JupyterLab with the atoti extension installed and enabled to see this widget."
      ]
     },
     "metadata": {},
     "output_type": "display_data"
    }
   ],
   "source": [
    "cube.visualize(\"Categories with apps rated 5\")"
   ]
  },
  {
   "cell_type": "markdown",
   "metadata": {},
   "source": [
    "Apply top count filter from editor on the category by the `Count with rating 5` measure."
   ]
  },
  {
   "cell_type": "code",
   "execution_count": 16,
   "metadata": {
    "atoti": {
     "state": {
      "name": "Top 10 categories with most number of apps rated 5",
      "type": "container",
      "value": {
       "body": {
        "configuration": {
         "mapping": {
          "horizontalSubplots": [],
          "splitBy": [],
          "values": [
           "[Measures].[Count with rating 5]"
          ],
          "verticalSubplots": [],
          "xAxis": [
           "[Hierarchies].[Category].[Category]"
          ]
         },
         "switchedTo": "plotly-pie-chart",
         "type": "plotly-line-chart"
        },
        "query": {
         "contextValues": {},
         "mdx": "SELECT NON EMPTY [Measures].[Count with rating 5] ON COLUMNS, NON EMPTY [Hierarchies].[Category].[Category].Members ON ROWS FROM (SELECT TopCount(Filter([Hierarchies].[Category].Levels(1).Members, NOT IsEmpty([Measures].[Count with rating 5])), 10, [Measures].[Count with rating 5]) ON COLUMNS FROM [Google Playstore]) CELL PROPERTIES VALUE, FORMATTED_VALUE, BACK_COLOR, FORE_COLOR, FONT_FLAGS",
         "serverUrl": ""
        }
       },
       "containerKey": "chart",
       "showTitleBar": false,
       "style": {}
      }
     }
    }
   },
   "outputs": [
    {
     "data": {
      "application/vnd.atoti.v0+json": {
       "cellSet": {
        "axes": [
         {
          "hierarchies": [
           {
            "dimension": "Measures",
            "hierarchy": "Measures"
           }
          ],
          "id": 0,
          "positions": [
           [
            {
             "captionPath": [
              "Count with rating 5"
             ],
             "namePath": [
              "Count with rating 5"
             ],
             "properties": {
              "DISPLAY_INFO": 0
             }
            }
           ]
          ]
         },
         {
          "hierarchies": [
           {
            "dimension": "Hierarchies",
            "hierarchy": "Category"
           }
          ],
          "id": 1,
          "positions": [
           [
            {
             "captionPath": [
              "AllMember",
              "BUSINESS"
             ],
             "namePath": [
              "AllMember",
              "BUSINESS"
             ],
             "properties": {
              "DISPLAY_INFO": 0
             }
            }
           ],
           [
            {
             "captionPath": [
              "AllMember",
              "FAMILY"
             ],
             "namePath": [
              "AllMember",
              "FAMILY"
             ],
             "properties": {
              "DISPLAY_INFO": 131072
             }
            }
           ],
           [
            {
             "captionPath": [
              "AllMember",
              "FINANCE"
             ],
             "namePath": [
              "AllMember",
              "FINANCE"
             ],
             "properties": {
              "DISPLAY_INFO": 131072
             }
            }
           ],
           [
            {
             "captionPath": [
              "AllMember",
              "GAME"
             ],
             "namePath": [
              "AllMember",
              "GAME"
             ],
             "properties": {
              "DISPLAY_INFO": 131072
             }
            }
           ],
           [
            {
             "captionPath": [
              "AllMember",
              "HEALTH_AND_FITNESS"
             ],
             "namePath": [
              "AllMember",
              "HEALTH_AND_FITNESS"
             ],
             "properties": {
              "DISPLAY_INFO": 131072
             }
            }
           ],
           [
            {
             "captionPath": [
              "AllMember",
              "LIFESTYLE"
             ],
             "namePath": [
              "AllMember",
              "LIFESTYLE"
             ],
             "properties": {
              "DISPLAY_INFO": 131072
             }
            }
           ],
           [
            {
             "captionPath": [
              "AllMember",
              "MEDICAL"
             ],
             "namePath": [
              "AllMember",
              "MEDICAL"
             ],
             "properties": {
              "DISPLAY_INFO": 131072
             }
            }
           ],
           [
            {
             "captionPath": [
              "AllMember",
              "PERSONALIZATION"
             ],
             "namePath": [
              "AllMember",
              "PERSONALIZATION"
             ],
             "properties": {
              "DISPLAY_INFO": 131072
             }
            }
           ],
           [
            {
             "captionPath": [
              "AllMember",
              "PRODUCTIVITY"
             ],
             "namePath": [
              "AllMember",
              "PRODUCTIVITY"
             ],
             "properties": {
              "DISPLAY_INFO": 131072
             }
            }
           ],
           [
            {
             "captionPath": [
              "AllMember",
              "TOOLS"
             ],
             "namePath": [
              "AllMember",
              "TOOLS"
             ],
             "properties": {
              "DISPLAY_INFO": 131072
             }
            }
           ]
          ]
         }
        ],
        "cells": [
         {
          "formattedValue": "18",
          "ordinal": 0,
          "properties": {
           "BACK_COLOR": null,
           "FONT_FLAGS": 0,
           "FORE_COLOR": null
          },
          "value": 18
         },
         {
          "formattedValue": "67",
          "ordinal": 1,
          "properties": {
           "BACK_COLOR": null,
           "FONT_FLAGS": 0,
           "FORE_COLOR": null
          },
          "value": 67
         },
         {
          "formattedValue": "8",
          "ordinal": 2,
          "properties": {
           "BACK_COLOR": null,
           "FONT_FLAGS": 0,
           "FORE_COLOR": null
          },
          "value": 8
         },
         {
          "formattedValue": "12",
          "ordinal": 3,
          "properties": {
           "BACK_COLOR": null,
           "FONT_FLAGS": 0,
           "FORE_COLOR": null
          },
          "value": 12
         },
         {
          "formattedValue": "12",
          "ordinal": 4,
          "properties": {
           "BACK_COLOR": null,
           "FONT_FLAGS": 0,
           "FORE_COLOR": null
          },
          "value": 12
         },
         {
          "formattedValue": "29",
          "ordinal": 5,
          "properties": {
           "BACK_COLOR": null,
           "FONT_FLAGS": 0,
           "FORE_COLOR": null
          },
          "value": 29
         },
         {
          "formattedValue": "25",
          "ordinal": 6,
          "properties": {
           "BACK_COLOR": null,
           "FONT_FLAGS": 0,
           "FORE_COLOR": null
          },
          "value": 25
         },
         {
          "formattedValue": "10",
          "ordinal": 7,
          "properties": {
           "BACK_COLOR": null,
           "FONT_FLAGS": 0,
           "FORE_COLOR": null
          },
          "value": 10
         },
         {
          "formattedValue": "8",
          "ordinal": 8,
          "properties": {
           "BACK_COLOR": null,
           "FONT_FLAGS": 0,
           "FORE_COLOR": null
          },
          "value": 8
         },
         {
          "formattedValue": "17",
          "ordinal": 9,
          "properties": {
           "BACK_COLOR": null,
           "FONT_FLAGS": 0,
           "FORE_COLOR": null
          },
          "value": 17
         }
        ],
        "cube": "Google Playstore",
        "defaultMembers": [
         {
          "captionPath": [
           "Count"
          ],
          "dimension": "Measures",
          "hierarchy": "Measures",
          "path": [
           "contributors.COUNT"
          ]
         },
         {
          "captionPath": [
           "Base"
          ],
          "dimension": "Epoch",
          "hierarchy": "Epoch",
          "path": [
           "Base"
          ]
         }
        ],
        "epoch": 1
       },
       "cube": "Google Playstore",
       "error": null,
       "name": "Top 10 categories with most number of apps rated 5",
       "session": "Unnamed"
      },
      "text/plain": [
       "Open the notebook in JupyterLab with the atoti extension installed and enabled to see this widget."
      ]
     },
     "metadata": {},
     "output_type": "display_data"
    }
   ],
   "source": [
    "cube.visualize(\"Top 10 categories with most number of apps rated 5\")"
   ]
  },
  {
   "cell_type": "markdown",
   "metadata": {},
   "source": [
    "### Top 10 apps for each category\n",
    "\n",
    "Go to the atoti's Jupyterlab extension and click on the ellipsis to show MDX and context values.  \n",
    "![show_mdx.png](https://data.atoti.io/notebooks/topcount/show_mdx.png)  \n",
    "We will need to use `Generate` instead of `TopCount` to create top 10 apps for each category. Follow this [link](https://activeviam.com/en/resource-center/advanced-mdx-queries) for more advanced mdx tips."
   ]
  },
  {
   "cell_type": "code",
   "execution_count": null,
   "metadata": {
    "atoti": {
     "height": 572,
     "state": {
      "name": "Top 10 apps with highest rating for each category",
      "type": "container",
      "value": {
       "body": {
        "configuration": {
         "tabular": {
          "addButtonFilter": "numeric",
          "cellRenderers": [
           "tree-layout"
          ],
          "columns": [
           {
            "key": "[Hierarchies].[App].[App]",
            "width": 214
           }
          ],
          "columnsGroups": [
           {
            "captionProducer": "firstColumn",
            "cellFactory": "kpi-status",
            "selector": "kpi-status"
           },
           {
            "captionProducer": "firstColumn",
            "cellFactory": "lookup",
            "selector": "lookup"
           },
           {
            "captionProducer": "expiry",
            "cellFactory": "expiry",
            "selector": "kpi-expiry"
           },
           {
            "captionProducer": "columnMerge",
            "cellFactory": "treeCells",
            "selector": "member"
           }
          ],
          "defaultOptions": {},
          "expansion": {
           "automaticExpansion": true
          },
          "hideAddButton": true,
          "pinnedHeaderSelector": "member",
          "sortingMode": "non-breaking",
          "statisticsShown": true
         }
        },
        "contextValues": {},
        "mdx": "SELECT Order(Order(GENERATE([Hierarchies].[Category].[Category].Members, TOPCOUNT([Hierarchies].[Category].CURRENTMEMBER * [Hierarchies].[App].[App].MEMBERS, 10, [Measures].[Rating.MEAN])), [Measures].[Reviews.MEAN], DESC), [Measures].[Rating.MEAN], DESC) ON ROWS, NON EMPTY {[Measures].[Rating.MEAN], [Measures].[Reviews.MEAN]} ON COLUMNS FROM [Google Playstore] CELL PROPERTIES VALUE, FORMATTED_VALUE, BACK_COLOR, FORE_COLOR, FONT_FLAGS",
        "ranges": {
         "column": {
          "chunkSize": 50,
          "thresholdPercentage": 0.2
         },
         "row": {
          "chunkSize": 2000,
          "thresholdPercentage": 0.1
         }
        },
        "serverUrl": ""
       },
       "containerKey": "pivot-table",
       "showTitleBar": false,
       "style": {}
      }
     }
    }
   },
   "outputs": [],
   "source": [
    "cube.visualize(\"Top 10 apps with highest rating for each category\")"
   ]
  },
  {
   "cell_type": "markdown",
   "metadata": {},
   "source": [
    "#### Creating subplot to visualize top count per category\n",
    "\n",
    "Again, go to the atoti's Jupyterlab extension and click on the ellipsis to show the subplot controls.  \n",
    "![show subplot controls](https://data.atoti.io/notebooks/topcount/show_subplot_controls.png)  \n",
    "\n",
    "You should be able to add `Category` level to the subplot section. Remember to modify the MDX to use `Generate` instead."
   ]
  },
  {
   "cell_type": "code",
   "execution_count": null,
   "metadata": {
    "atoti": {
     "state": {
      "name": "Top 10 apps within each categories",
      "type": "container",
      "value": {
       "body": {
        "configuration": {
         "mapping": {
          "horizontalSubplots": [
           "[Hierarchies].[Category].[Category]"
          ],
          "sliceBy": [
           "[Hierarchies].[App].[App]"
          ],
          "values": [
           "[Measures].[Reviews.MEAN]"
          ],
          "verticalSubplots": []
         },
         "subplotModeEnabled": true,
         "type": "plotly-pie-chart"
        },
        "query": {
         "contextValues": {},
         "mdx": "SELECT NON EMPTY [Measures].[Reviews.MEAN] ON COLUMNS, NON EMPTY Order(GENERATE([Hierarchies].[Category].[Category].Members, TOPCOUNT([Hierarchies].[Category].CURRENTMEMBER * [Hierarchies].[App].[App].MEMBERS, 10, [Measures].[Rating.MEAN])), [Measures].[Reviews.MEAN], DESC) ON ROWS FROM [Google Playstore] CELL PROPERTIES VALUE, FORMATTED_VALUE, BACK_COLOR, FORE_COLOR, FONT_FLAGS",
         "serverUrl": ""
        }
       },
       "containerKey": "chart",
       "showTitleBar": false,
       "style": {}
      }
     }
    }
   },
   "outputs": [],
   "source": [
    "cube.visualize(\"Top 10 apps within each categories\")"
   ]
  },
  {
   "cell_type": "markdown",
   "metadata": {},
   "source": [
    "You can use the filter to select the categories that you want to view.  \n",
    "Alternative, use `session.url` to access the web application to build an interactive dashboard with quick filters. Check out the link below."
   ]
  },
  {
   "cell_type": "code",
   "execution_count": null,
   "metadata": {},
   "outputs": [],
   "source": [
    "session.url + \"/#/dashboard/767\""
   ]
  }
 ],
 "metadata": {
  "kernelspec": {
   "display_name": "Python 3",
   "language": "python",
   "name": "python3"
  },
  "language_info": {
   "codemirror_mode": {
    "name": "ipython",
    "version": 3
   },
   "file_extension": ".py",
   "mimetype": "text/x-python",
   "name": "python",
   "nbconvert_exporter": "python",
   "pygments_lexer": "ipython3",
   "version": "3.8.5"
  }
 },
 "nbformat": 4,
 "nbformat_minor": 4
}
