{
 "cells": [
  {
   "cell_type": "code",
   "execution_count": 1,
   "metadata": {},
   "outputs": [
    {
     "name": "stdout",
     "output_type": "stream",
     "text": [
      "Requirement already satisfied: scipy in c:\\apps\\miniconda3\\envs\\atoti-20201005\\lib\\site-packages (1.5.2)\n",
      "Requirement already satisfied: matplotlib in c:\\apps\\miniconda3\\envs\\atoti-20201005\\lib\\site-packages (3.3.2)\n",
      "Requirement already satisfied: statsmodels in c:\\apps\\miniconda3\\envs\\atoti-20201005\\lib\\site-packages (0.12.0)\n",
      "Requirement already satisfied: sklearn in c:\\apps\\miniconda3\\envs\\atoti-20201005\\lib\\site-packages (0.0)\n",
      "Requirement already satisfied: seaborn in c:\\apps\\miniconda3\\envs\\atoti-20201005\\lib\\site-packages (0.11.0)\n",
      "Requirement already satisfied: numpy>=1.14.5 in c:\\apps\\miniconda3\\envs\\atoti-20201005\\lib\\site-packages (from scipy) (1.19.1)\n",
      "Requirement already satisfied: kiwisolver>=1.0.1 in c:\\apps\\miniconda3\\envs\\atoti-20201005\\lib\\site-packages (from matplotlib) (1.2.0)\n",
      "Requirement already satisfied: cycler>=0.10 in c:\\apps\\miniconda3\\envs\\atoti-20201005\\lib\\site-packages (from matplotlib) (0.10.0)\n",
      "Requirement already satisfied: pillow>=6.2.0 in c:\\apps\\miniconda3\\envs\\atoti-20201005\\lib\\site-packages (from matplotlib) (7.2.0)\n",
      "Requirement already satisfied: python-dateutil>=2.1 in c:\\apps\\miniconda3\\envs\\atoti-20201005\\lib\\site-packages (from matplotlib) (2.8.1)\n",
      "Requirement already satisfied: certifi>=2020.06.20 in c:\\apps\\miniconda3\\envs\\atoti-20201005\\lib\\site-packages (from matplotlib) (2020.6.20)\n",
      "Requirement already satisfied: pyparsing!=2.0.4,!=2.1.2,!=2.1.6,>=2.0.3 in c:\\apps\\miniconda3\\envs\\atoti-20201005\\lib\\site-packages (from matplotlib) (2.4.7)\n",
      "Requirement already satisfied: pandas>=0.21 in c:\\apps\\miniconda3\\envs\\atoti-20201005\\lib\\site-packages (from statsmodels) (1.1.2)\n",
      "Requirement already satisfied: patsy>=0.5 in c:\\apps\\miniconda3\\envs\\atoti-20201005\\lib\\site-packages (from statsmodels) (0.5.1)\n",
      "Requirement already satisfied: scikit-learn in c:\\apps\\miniconda3\\envs\\atoti-20201005\\lib\\site-packages (from sklearn) (0.23.2)\n",
      "Requirement already satisfied: six in c:\\apps\\miniconda3\\envs\\atoti-20201005\\lib\\site-packages (from cycler>=0.10->matplotlib) (1.15.0)\n",
      "Requirement already satisfied: pytz>=2017.2 in c:\\apps\\miniconda3\\envs\\atoti-20201005\\lib\\site-packages (from pandas>=0.21->statsmodels) (2020.1)\n",
      "Requirement already satisfied: joblib>=0.11 in c:\\apps\\miniconda3\\envs\\atoti-20201005\\lib\\site-packages (from scikit-learn->sklearn) (0.17.0)\n",
      "Requirement already satisfied: threadpoolctl>=2.0.0 in c:\\apps\\miniconda3\\envs\\atoti-20201005\\lib\\site-packages (from scikit-learn->sklearn) (2.1.0)\n"
     ]
    }
   ],
   "source": [
    "!pip install scipy matplotlib statsmodels sklearn seaborn"
   ]
  },
  {
   "cell_type": "code",
   "execution_count": 2,
   "metadata": {},
   "outputs": [
    {
     "name": "stdout",
     "output_type": "stream",
     "text": [
      "Welcome to atoti 0.4.3!\n",
      "\n",
      "By using this community edition, you agree with the license available at https://www.atoti.io/eula.\n",
      "Browse the official documentation at https://docs.atoti.io.\n",
      "Join the community at https://www.atoti.io/register.\n",
      "\n",
      "You can hide this message by setting the ATOTI_HIDE_EULA_MESSAGE environment variable to True.\n"
     ]
    }
   ],
   "source": [
    "import atoti as tt\n",
    "import matplotlib\n",
    "import matplotlib.pyplot as plt\n",
    "import numpy as np\n",
    "import pandas as pd\n",
    "import scipy.stats as stats\n",
    "import seaborn as sns\n",
    "from atoti.config import create_config\n",
    "from sklearn import preprocessing\n",
    "from statsmodels.stats.stattools import durbin_watson\n",
    "from statsmodels.tsa.api import VAR\n",
    "from statsmodels.tsa.stattools import acf, adfuller, grangercausalitytests, pacf"
   ]
  },
  {
   "cell_type": "code",
   "execution_count": 3,
   "metadata": {},
   "outputs": [],
   "source": [
    "coins = [\n",
    "    \"BTC\",\n",
    "    \"ETH\",\n",
    "    \"XRP\",\n",
    "    \"USDT\",\n",
    "    \"BCH\",\n",
    "    \"ADA\",\n",
    "    \"BSV\",\n",
    "    \"LTC\",\n",
    "    \"LINK\",\n",
    "    \"BNB\",\n",
    "    \"EOS\",\n",
    "    \"TRON\",\n",
    "]"
   ]
  },
  {
   "cell_type": "code",
   "execution_count": 4,
   "metadata": {},
   "outputs": [
    {
     "data": {
      "text/html": [
       "<div>\n",
       "<style scoped>\n",
       "    .dataframe tbody tr th:only-of-type {\n",
       "        vertical-align: middle;\n",
       "    }\n",
       "\n",
       "    .dataframe tbody tr th {\n",
       "        vertical-align: top;\n",
       "    }\n",
       "\n",
       "    .dataframe thead th {\n",
       "        text-align: right;\n",
       "    }\n",
       "</style>\n",
       "<table border=\"1\" class=\"dataframe\">\n",
       "  <thead>\n",
       "    <tr style=\"text-align: right;\">\n",
       "      <th></th>\n",
       "      <th>coin_symbol</th>\n",
       "      <th>date</th>\n",
       "      <th>Tweet volume</th>\n",
       "      <th>Retweet total</th>\n",
       "      <th>Retweet average</th>\n",
       "      <th>Followers total</th>\n",
       "      <th>Followers average</th>\n",
       "      <th>Favorite total</th>\n",
       "      <th>Favorite average</th>\n",
       "      <th>Polarity total</th>\n",
       "      <th>Polarity average</th>\n",
       "      <th>Negative</th>\n",
       "      <th>Neutral</th>\n",
       "      <th>Positive</th>\n",
       "      <th>Bullish ratio</th>\n",
       "    </tr>\n",
       "  </thead>\n",
       "  <tbody>\n",
       "    <tr>\n",
       "      <th>0</th>\n",
       "      <td>ADA</td>\n",
       "      <td>2019-12-08</td>\n",
       "      <td>99</td>\n",
       "      <td>438</td>\n",
       "      <td>4.424242</td>\n",
       "      <td>202427</td>\n",
       "      <td>2044.717172</td>\n",
       "      <td>1001</td>\n",
       "      <td>10.111111</td>\n",
       "      <td>17.572090</td>\n",
       "      <td>0.177496</td>\n",
       "      <td>7.0</td>\n",
       "      <td>50.0</td>\n",
       "      <td>42.0</td>\n",
       "      <td>6.000000</td>\n",
       "    </tr>\n",
       "    <tr>\n",
       "      <th>1</th>\n",
       "      <td>ADA</td>\n",
       "      <td>2019-12-09</td>\n",
       "      <td>120</td>\n",
       "      <td>175</td>\n",
       "      <td>1.458333</td>\n",
       "      <td>410814</td>\n",
       "      <td>3423.450000</td>\n",
       "      <td>506</td>\n",
       "      <td>4.216667</td>\n",
       "      <td>11.616706</td>\n",
       "      <td>0.096806</td>\n",
       "      <td>13.0</td>\n",
       "      <td>64.0</td>\n",
       "      <td>43.0</td>\n",
       "      <td>3.307692</td>\n",
       "    </tr>\n",
       "    <tr>\n",
       "      <th>2</th>\n",
       "      <td>ADA</td>\n",
       "      <td>2019-12-10</td>\n",
       "      <td>129</td>\n",
       "      <td>239</td>\n",
       "      <td>1.852713</td>\n",
       "      <td>1038600</td>\n",
       "      <td>8051.162791</td>\n",
       "      <td>983</td>\n",
       "      <td>7.620155</td>\n",
       "      <td>15.501187</td>\n",
       "      <td>0.120164</td>\n",
       "      <td>12.0</td>\n",
       "      <td>64.0</td>\n",
       "      <td>53.0</td>\n",
       "      <td>4.416667</td>\n",
       "    </tr>\n",
       "    <tr>\n",
       "      <th>3</th>\n",
       "      <td>ADA</td>\n",
       "      <td>2019-12-11</td>\n",
       "      <td>103</td>\n",
       "      <td>151</td>\n",
       "      <td>1.466019</td>\n",
       "      <td>303994</td>\n",
       "      <td>2951.398058</td>\n",
       "      <td>687</td>\n",
       "      <td>6.669903</td>\n",
       "      <td>10.941811</td>\n",
       "      <td>0.106231</td>\n",
       "      <td>14.0</td>\n",
       "      <td>50.0</td>\n",
       "      <td>39.0</td>\n",
       "      <td>2.785714</td>\n",
       "    </tr>\n",
       "    <tr>\n",
       "      <th>4</th>\n",
       "      <td>ADA</td>\n",
       "      <td>2019-12-12</td>\n",
       "      <td>104</td>\n",
       "      <td>452</td>\n",
       "      <td>4.346154</td>\n",
       "      <td>811656</td>\n",
       "      <td>7804.384615</td>\n",
       "      <td>1075</td>\n",
       "      <td>10.336538</td>\n",
       "      <td>6.248597</td>\n",
       "      <td>0.060083</td>\n",
       "      <td>11.0</td>\n",
       "      <td>60.0</td>\n",
       "      <td>33.0</td>\n",
       "      <td>3.000000</td>\n",
       "    </tr>\n",
       "  </tbody>\n",
       "</table>\n",
       "</div>"
      ],
      "text/plain": [
       "  coin_symbol        date  Tweet volume  Retweet total  Retweet average  \\\n",
       "0         ADA  2019-12-08            99            438         4.424242   \n",
       "1         ADA  2019-12-09           120            175         1.458333   \n",
       "2         ADA  2019-12-10           129            239         1.852713   \n",
       "3         ADA  2019-12-11           103            151         1.466019   \n",
       "4         ADA  2019-12-12           104            452         4.346154   \n",
       "\n",
       "   Followers total  Followers average  Favorite total  Favorite average  \\\n",
       "0           202427        2044.717172            1001         10.111111   \n",
       "1           410814        3423.450000             506          4.216667   \n",
       "2          1038600        8051.162791             983          7.620155   \n",
       "3           303994        2951.398058             687          6.669903   \n",
       "4           811656        7804.384615            1075         10.336538   \n",
       "\n",
       "   Polarity total  Polarity average  Negative  Neutral  Positive  \\\n",
       "0       17.572090          0.177496       7.0     50.0      42.0   \n",
       "1       11.616706          0.096806      13.0     64.0      43.0   \n",
       "2       15.501187          0.120164      12.0     64.0      53.0   \n",
       "3       10.941811          0.106231      14.0     50.0      39.0   \n",
       "4        6.248597          0.060083      11.0     60.0      33.0   \n",
       "\n",
       "   Bullish ratio  \n",
       "0       6.000000  \n",
       "1       3.307692  \n",
       "2       4.416667  \n",
       "3       2.785714  \n",
       "4       3.000000  "
      ]
     },
     "execution_count": 4,
     "metadata": {},
     "output_type": "execute_result"
    }
   ],
   "source": [
    "currency_metrics = pd.read_csv(\n",
    "    \"https://data.atoti.io/notebooks/twitter/tweets_metrics_full.csv\"\n",
    ")\n",
    "currency_metrics.head()"
   ]
  },
  {
   "cell_type": "code",
   "execution_count": 5,
   "metadata": {},
   "outputs": [
    {
     "data": {
      "text/html": [
       "<div>\n",
       "<style scoped>\n",
       "    .dataframe tbody tr th:only-of-type {\n",
       "        vertical-align: middle;\n",
       "    }\n",
       "\n",
       "    .dataframe tbody tr th {\n",
       "        vertical-align: top;\n",
       "    }\n",
       "\n",
       "    .dataframe thead th {\n",
       "        text-align: right;\n",
       "    }\n",
       "</style>\n",
       "<table border=\"1\" class=\"dataframe\">\n",
       "  <thead>\n",
       "    <tr style=\"text-align: right;\">\n",
       "      <th></th>\n",
       "      <th>coin_symbol</th>\n",
       "      <th>date</th>\n",
       "      <th>Price</th>\n",
       "      <th>Returns</th>\n",
       "    </tr>\n",
       "  </thead>\n",
       "  <tbody>\n",
       "    <tr>\n",
       "      <th>0</th>\n",
       "      <td>ADA</td>\n",
       "      <td>2019-12-08</td>\n",
       "      <td>0.038431</td>\n",
       "      <td>0.000279</td>\n",
       "    </tr>\n",
       "    <tr>\n",
       "      <th>1</th>\n",
       "      <td>ADA</td>\n",
       "      <td>2019-12-09</td>\n",
       "      <td>0.038669</td>\n",
       "      <td>0.000238</td>\n",
       "    </tr>\n",
       "    <tr>\n",
       "      <th>2</th>\n",
       "      <td>ADA</td>\n",
       "      <td>2019-12-10</td>\n",
       "      <td>0.037371</td>\n",
       "      <td>-0.001297</td>\n",
       "    </tr>\n",
       "    <tr>\n",
       "      <th>3</th>\n",
       "      <td>ADA</td>\n",
       "      <td>2019-12-11</td>\n",
       "      <td>0.036405</td>\n",
       "      <td>-0.000966</td>\n",
       "    </tr>\n",
       "    <tr>\n",
       "      <th>4</th>\n",
       "      <td>ADA</td>\n",
       "      <td>2019-12-12</td>\n",
       "      <td>0.036541</td>\n",
       "      <td>0.000136</td>\n",
       "    </tr>\n",
       "  </tbody>\n",
       "</table>\n",
       "</div>"
      ],
      "text/plain": [
       "  coin_symbol        date     Price   Returns\n",
       "0         ADA  2019-12-08  0.038431  0.000279\n",
       "1         ADA  2019-12-09  0.038669  0.000238\n",
       "2         ADA  2019-12-10  0.037371 -0.001297\n",
       "3         ADA  2019-12-11  0.036405 -0.000966\n",
       "4         ADA  2019-12-12  0.036541  0.000136"
      ]
     },
     "execution_count": 5,
     "metadata": {},
     "output_type": "execute_result"
    }
   ],
   "source": [
    "currency_price = pd.read_csv(\"https://data.atoti.io/notebooks/twitter/prices.csv\")\n",
    "currency_price.head()"
   ]
  },
  {
   "cell_type": "markdown",
   "metadata": {},
   "source": [
    "### Preprocessing"
   ]
  },
  {
   "cell_type": "code",
   "execution_count": 6,
   "metadata": {},
   "outputs": [
    {
     "data": {
      "text/html": [
       "<div>\n",
       "<style scoped>\n",
       "    .dataframe tbody tr th:only-of-type {\n",
       "        vertical-align: middle;\n",
       "    }\n",
       "\n",
       "    .dataframe tbody tr th {\n",
       "        vertical-align: top;\n",
       "    }\n",
       "\n",
       "    .dataframe thead th {\n",
       "        text-align: right;\n",
       "    }\n",
       "</style>\n",
       "<table border=\"1\" class=\"dataframe\">\n",
       "  <thead>\n",
       "    <tr style=\"text-align: right;\">\n",
       "      <th></th>\n",
       "      <th>coin_symbol</th>\n",
       "      <th>date</th>\n",
       "      <th>Price</th>\n",
       "      <th>Returns</th>\n",
       "      <th>Tweet volume</th>\n",
       "      <th>Retweet total</th>\n",
       "      <th>Retweet average</th>\n",
       "      <th>Followers total</th>\n",
       "      <th>Followers average</th>\n",
       "      <th>Favorite total</th>\n",
       "      <th>Favorite average</th>\n",
       "      <th>Polarity total</th>\n",
       "      <th>Polarity average</th>\n",
       "      <th>Bullish ratio</th>\n",
       "    </tr>\n",
       "  </thead>\n",
       "  <tbody>\n",
       "    <tr>\n",
       "      <th>0</th>\n",
       "      <td>ADA</td>\n",
       "      <td>2019-12-08</td>\n",
       "      <td>0.038431</td>\n",
       "      <td>0.000279</td>\n",
       "      <td>99</td>\n",
       "      <td>438</td>\n",
       "      <td>4.424242</td>\n",
       "      <td>202427</td>\n",
       "      <td>2044.717172</td>\n",
       "      <td>1001</td>\n",
       "      <td>10.111111</td>\n",
       "      <td>17.572090</td>\n",
       "      <td>0.177496</td>\n",
       "      <td>6.000000</td>\n",
       "    </tr>\n",
       "    <tr>\n",
       "      <th>1</th>\n",
       "      <td>ADA</td>\n",
       "      <td>2019-12-09</td>\n",
       "      <td>0.038669</td>\n",
       "      <td>0.000238</td>\n",
       "      <td>120</td>\n",
       "      <td>175</td>\n",
       "      <td>1.458333</td>\n",
       "      <td>410814</td>\n",
       "      <td>3423.450000</td>\n",
       "      <td>506</td>\n",
       "      <td>4.216667</td>\n",
       "      <td>11.616706</td>\n",
       "      <td>0.096806</td>\n",
       "      <td>3.307692</td>\n",
       "    </tr>\n",
       "    <tr>\n",
       "      <th>2</th>\n",
       "      <td>ADA</td>\n",
       "      <td>2019-12-10</td>\n",
       "      <td>0.037371</td>\n",
       "      <td>-0.001297</td>\n",
       "      <td>129</td>\n",
       "      <td>239</td>\n",
       "      <td>1.852713</td>\n",
       "      <td>1038600</td>\n",
       "      <td>8051.162791</td>\n",
       "      <td>983</td>\n",
       "      <td>7.620155</td>\n",
       "      <td>15.501187</td>\n",
       "      <td>0.120164</td>\n",
       "      <td>4.416667</td>\n",
       "    </tr>\n",
       "    <tr>\n",
       "      <th>3</th>\n",
       "      <td>ADA</td>\n",
       "      <td>2019-12-11</td>\n",
       "      <td>0.036405</td>\n",
       "      <td>-0.000966</td>\n",
       "      <td>103</td>\n",
       "      <td>151</td>\n",
       "      <td>1.466019</td>\n",
       "      <td>303994</td>\n",
       "      <td>2951.398058</td>\n",
       "      <td>687</td>\n",
       "      <td>6.669903</td>\n",
       "      <td>10.941811</td>\n",
       "      <td>0.106231</td>\n",
       "      <td>2.785714</td>\n",
       "    </tr>\n",
       "    <tr>\n",
       "      <th>4</th>\n",
       "      <td>ADA</td>\n",
       "      <td>2019-12-12</td>\n",
       "      <td>0.036541</td>\n",
       "      <td>0.000136</td>\n",
       "      <td>104</td>\n",
       "      <td>452</td>\n",
       "      <td>4.346154</td>\n",
       "      <td>811656</td>\n",
       "      <td>7804.384615</td>\n",
       "      <td>1075</td>\n",
       "      <td>10.336538</td>\n",
       "      <td>6.248597</td>\n",
       "      <td>0.060083</td>\n",
       "      <td>3.000000</td>\n",
       "    </tr>\n",
       "  </tbody>\n",
       "</table>\n",
       "</div>"
      ],
      "text/plain": [
       "  coin_symbol        date     Price   Returns  Tweet volume  Retweet total  \\\n",
       "0         ADA  2019-12-08  0.038431  0.000279            99            438   \n",
       "1         ADA  2019-12-09  0.038669  0.000238           120            175   \n",
       "2         ADA  2019-12-10  0.037371 -0.001297           129            239   \n",
       "3         ADA  2019-12-11  0.036405 -0.000966           103            151   \n",
       "4         ADA  2019-12-12  0.036541  0.000136           104            452   \n",
       "\n",
       "   Retweet average  Followers total  Followers average  Favorite total  \\\n",
       "0         4.424242           202427        2044.717172            1001   \n",
       "1         1.458333           410814        3423.450000             506   \n",
       "2         1.852713          1038600        8051.162791             983   \n",
       "3         1.466019           303994        2951.398058             687   \n",
       "4         4.346154           811656        7804.384615            1075   \n",
       "\n",
       "   Favorite average  Polarity total  Polarity average  Bullish ratio  \n",
       "0         10.111111       17.572090          0.177496       6.000000  \n",
       "1          4.216667       11.616706          0.096806       3.307692  \n",
       "2          7.620155       15.501187          0.120164       4.416667  \n",
       "3          6.669903       10.941811          0.106231       2.785714  \n",
       "4         10.336538        6.248597          0.060083       3.000000  "
      ]
     },
     "execution_count": 6,
     "metadata": {},
     "output_type": "execute_result"
    }
   ],
   "source": [
    "currency_df = pd.merge(\n",
    "    currency_price, currency_metrics, on=[\"coin_symbol\", \"date\"]\n",
    ").drop(columns=[\"Negative\", \"Neutral\", \"Positive\"])\n",
    "currency_df.head()"
   ]
  },
  {
   "cell_type": "code",
   "execution_count": 7,
   "metadata": {},
   "outputs": [
    {
     "data": {
      "text/plain": [
       "coin_symbol          0\n",
       "date                 0\n",
       "Price                0\n",
       "Returns              0\n",
       "Tweet volume         0\n",
       "Retweet total        0\n",
       "Retweet average      0\n",
       "Followers total      0\n",
       "Followers average    0\n",
       "Favorite total       0\n",
       "Favorite average     0\n",
       "Polarity total       0\n",
       "Polarity average     0\n",
       "Bullish ratio        0\n",
       "dtype: int64"
      ]
     },
     "execution_count": 7,
     "metadata": {},
     "output_type": "execute_result"
    }
   ],
   "source": [
    "currency_df.isnull().sum()"
   ]
  },
  {
   "cell_type": "code",
   "execution_count": 8,
   "metadata": {},
   "outputs": [
    {
     "data": {
      "text/plain": [
       "coin_symbol          0\n",
       "date                 0\n",
       "Price                0\n",
       "Returns              0\n",
       "Tweet volume         0\n",
       "Retweet total        0\n",
       "Retweet average      0\n",
       "Followers total      0\n",
       "Followers average    0\n",
       "Favorite total       0\n",
       "Favorite average     0\n",
       "Polarity total       0\n",
       "Polarity average     0\n",
       "Bullish ratio        0\n",
       "dtype: int64"
      ]
     },
     "execution_count": 8,
     "metadata": {},
     "output_type": "execute_result"
    }
   ],
   "source": [
    "currency_df = currency_df.dropna()\n",
    "currency_df.isnull().sum()"
   ]
  },
  {
   "cell_type": "code",
   "execution_count": 9,
   "metadata": {},
   "outputs": [
    {
     "data": {
      "text/plain": [
       "['Price',\n",
       " 'Returns',\n",
       " 'Tweet volume',\n",
       " 'Retweet total',\n",
       " 'Retweet average',\n",
       " 'Followers total',\n",
       " 'Followers average',\n",
       " 'Favorite total',\n",
       " 'Favorite average',\n",
       " 'Polarity total',\n",
       " 'Polarity average',\n",
       " 'Bullish ratio']"
      ]
     },
     "execution_count": 9,
     "metadata": {},
     "output_type": "execute_result"
    }
   ],
   "source": [
    "coins_metrics = currency_df.set_index([\"coin_symbol\", \"date\"]).columns.to_list()\n",
    "coins_metrics"
   ]
  },
  {
   "cell_type": "code",
   "execution_count": 10,
   "metadata": {},
   "outputs": [
    {
     "name": "stderr",
     "output_type": "stream",
     "text": [
      "C:\\Apps\\miniconda3\\envs\\atoti-20201005\\lib\\site-packages\\statsmodels\\tsa\\stattools.py:662: FutureWarning: fft=True will become the default after the release of the 0.12 release of statsmodels. To suppress this warning, explicitly set fft=False.\n",
      "  warnings.warn(\n"
     ]
    },
    {
     "data": {
      "text/html": [
       "<div>\n",
       "<style scoped>\n",
       "    .dataframe tbody tr th:only-of-type {\n",
       "        vertical-align: middle;\n",
       "    }\n",
       "\n",
       "    .dataframe tbody tr th {\n",
       "        vertical-align: top;\n",
       "    }\n",
       "\n",
       "    .dataframe thead th {\n",
       "        text-align: right;\n",
       "    }\n",
       "</style>\n",
       "<table border=\"1\" class=\"dataframe\">\n",
       "  <thead>\n",
       "    <tr style=\"text-align: right;\">\n",
       "      <th></th>\n",
       "      <th>coin_symbol</th>\n",
       "      <th>metric_name</th>\n",
       "      <th>norm_stat</th>\n",
       "      <th>norm_p</th>\n",
       "      <th>kurtosis</th>\n",
       "      <th>skewness</th>\n",
       "      <th>lag_acf</th>\n",
       "      <th>lag_pacf</th>\n",
       "      <th>std</th>\n",
       "      <th>durbin_watson</th>\n",
       "    </tr>\n",
       "  </thead>\n",
       "  <tbody>\n",
       "    <tr>\n",
       "      <th>0</th>\n",
       "      <td>BTC</td>\n",
       "      <td>Price</td>\n",
       "      <td>5.736011</td>\n",
       "      <td>5.681212e-02</td>\n",
       "      <td>-0.226774</td>\n",
       "      <td>-0.343432</td>\n",
       "      <td>1.0;0.9777329292107778;0.956838790568574;0.932...</td>\n",
       "      <td>1.0;0.9802484187271252;0.034347306191366556;-0...</td>\n",
       "      <td>1.575599e+03</td>\n",
       "      <td>NaN</td>\n",
       "    </tr>\n",
       "    <tr>\n",
       "      <th>1</th>\n",
       "      <td>BTC</td>\n",
       "      <td>Returns</td>\n",
       "      <td>221.228609</td>\n",
       "      <td>9.137299e-49</td>\n",
       "      <td>27.435333</td>\n",
       "      <td>-2.860426</td>\n",
       "      <td>1.0;-0.04289755604445967;0.0912468942047658;-0...</td>\n",
       "      <td>1.0;-0.0428991632004459;0.08955684137955391;-0...</td>\n",
       "      <td>3.014460e+02</td>\n",
       "      <td>NaN</td>\n",
       "    </tr>\n",
       "    <tr>\n",
       "      <th>2</th>\n",
       "      <td>BTC</td>\n",
       "      <td>Tweet volume</td>\n",
       "      <td>159.966873</td>\n",
       "      <td>1.834995e-35</td>\n",
       "      <td>6.797124</td>\n",
       "      <td>2.559059</td>\n",
       "      <td>1.0;0.8717491114144025;0.7699720684339101;0.73...</td>\n",
       "      <td>1.0;0.8729623006429926;0.024851516571685137;0....</td>\n",
       "      <td>5.277166e+03</td>\n",
       "      <td>NaN</td>\n",
       "    </tr>\n",
       "    <tr>\n",
       "      <th>3</th>\n",
       "      <td>BTC</td>\n",
       "      <td>Retweet total</td>\n",
       "      <td>202.766718</td>\n",
       "      <td>9.327530e-45</td>\n",
       "      <td>10.084647</td>\n",
       "      <td>3.238258</td>\n",
       "      <td>1.0;0.8952266582521369;0.7925279789805152;0.71...</td>\n",
       "      <td>1.0;0.8956075446910358;-0.05717796283992777;0....</td>\n",
       "      <td>4.829454e+06</td>\n",
       "      <td>NaN</td>\n",
       "    </tr>\n",
       "    <tr>\n",
       "      <th>4</th>\n",
       "      <td>BTC</td>\n",
       "      <td>Retweet average</td>\n",
       "      <td>209.497673</td>\n",
       "      <td>3.222243e-46</td>\n",
       "      <td>10.993250</td>\n",
       "      <td>3.329554</td>\n",
       "      <td>1.0;0.9113750013514399;0.8156034386119618;0.74...</td>\n",
       "      <td>1.0;0.9117620925425851;-0.10863490345856888;0....</td>\n",
       "      <td>2.793805e+02</td>\n",
       "      <td>NaN</td>\n",
       "    </tr>\n",
       "  </tbody>\n",
       "</table>\n",
       "</div>"
      ],
      "text/plain": [
       "  coin_symbol      metric_name   norm_stat        norm_p   kurtosis  skewness  \\\n",
       "0         BTC            Price    5.736011  5.681212e-02  -0.226774 -0.343432   \n",
       "1         BTC          Returns  221.228609  9.137299e-49  27.435333 -2.860426   \n",
       "2         BTC     Tweet volume  159.966873  1.834995e-35   6.797124  2.559059   \n",
       "3         BTC    Retweet total  202.766718  9.327530e-45  10.084647  3.238258   \n",
       "4         BTC  Retweet average  209.497673  3.222243e-46  10.993250  3.329554   \n",
       "\n",
       "                                             lag_acf  \\\n",
       "0  1.0;0.9777329292107778;0.956838790568574;0.932...   \n",
       "1  1.0;-0.04289755604445967;0.0912468942047658;-0...   \n",
       "2  1.0;0.8717491114144025;0.7699720684339101;0.73...   \n",
       "3  1.0;0.8952266582521369;0.7925279789805152;0.71...   \n",
       "4  1.0;0.9113750013514399;0.8156034386119618;0.74...   \n",
       "\n",
       "                                            lag_pacf           std  \\\n",
       "0  1.0;0.9802484187271252;0.034347306191366556;-0...  1.575599e+03   \n",
       "1  1.0;-0.0428991632004459;0.08955684137955391;-0...  3.014460e+02   \n",
       "2  1.0;0.8729623006429926;0.024851516571685137;0....  5.277166e+03   \n",
       "3  1.0;0.8956075446910358;-0.05717796283992777;0....  4.829454e+06   \n",
       "4  1.0;0.9117620925425851;-0.10863490345856888;0....  2.793805e+02   \n",
       "\n",
       "   durbin_watson  \n",
       "0            NaN  \n",
       "1            NaN  \n",
       "2            NaN  \n",
       "3            NaN  \n",
       "4            NaN  "
      ]
     },
     "execution_count": 10,
     "metadata": {},
     "output_type": "execute_result"
    }
   ],
   "source": [
    "data_stats = pd.DataFrame(\n",
    "    columns=[\n",
    "        \"coin_symbol\",\n",
    "        \"metric_name\",\n",
    "        \"norm_stat\",\n",
    "        \"norm_p\",\n",
    "        \"kurtosis\",\n",
    "        \"skewness\",\n",
    "        \"lag_acf\",\n",
    "        \"lag_pacf\",\n",
    "        \"std\",\n",
    "        \"durbin_watson\",\n",
    "    ]\n",
    ")\n",
    "\n",
    "for coin in coins:\n",
    "    coin_df = currency_df.loc[currency_df[\"coin_symbol\"] == coin]\n",
    "    for metric_name in coins_metrics:\n",
    "        # normal distribution check\n",
    "        metric = coin_df[metric_name]\n",
    "        stat, p = stats.normaltest(metric)\n",
    "        kurtosis = stats.kurtosis(metric)\n",
    "        skewness = stats.skew(metric)\n",
    "\n",
    "        # autocorrelation\n",
    "        lag_acf = \";\".join(map(str, acf(metric, nlags=50).tolist()))\n",
    "        lag_pacf = \";\".join(map(str, pacf(metric, nlags=50, method=\"ols\").tolist()))\n",
    "\n",
    "        data_stats = data_stats.append(\n",
    "            {\n",
    "                \"coin_symbol\": coin,\n",
    "                \"metric_name\": metric_name,\n",
    "                \"norm_stat\": stat,\n",
    "                \"norm_p\": p,\n",
    "                \"kurtosis\": kurtosis,\n",
    "                \"skewness\": skewness,\n",
    "                \"lag_acf\": lag_acf,\n",
    "                \"lag_pacf\": lag_pacf,\n",
    "                \"std\": metric.std(),\n",
    "                \"durbin_watson\": np.nan,\n",
    "            },\n",
    "            ignore_index=True,\n",
    "        )\n",
    "\n",
    "data_stats.head()"
   ]
  },
  {
   "cell_type": "markdown",
   "metadata": {},
   "source": [
    "### Data loading into atoti\n",
    "\n",
    "Let's load the original metrics into the atoti cube."
   ]
  },
  {
   "cell_type": "code",
   "execution_count": 11,
   "metadata": {},
   "outputs": [],
   "source": [
    "config = create_config(metadata_db=\"./metadata.db\")\n",
    "session = tt.create_session(config=config)"
   ]
  },
  {
   "cell_type": "code",
   "execution_count": 12,
   "metadata": {},
   "outputs": [],
   "source": [
    "price_store = session.read_pandas(\n",
    "    currency_price, keys=[\"coin_symbol\", \"date\"], store_name=\"currency price\"\n",
    ")"
   ]
  },
  {
   "cell_type": "code",
   "execution_count": 13,
   "metadata": {},
   "outputs": [
    {
     "data": {
      "text/html": [
       "<div>\n",
       "<style scoped>\n",
       "    .dataframe tbody tr th:only-of-type {\n",
       "        vertical-align: middle;\n",
       "    }\n",
       "\n",
       "    .dataframe tbody tr th {\n",
       "        vertical-align: top;\n",
       "    }\n",
       "\n",
       "    .dataframe thead th {\n",
       "        text-align: right;\n",
       "    }\n",
       "</style>\n",
       "<table border=\"1\" class=\"dataframe\">\n",
       "  <thead>\n",
       "    <tr style=\"text-align: right;\">\n",
       "      <th></th>\n",
       "      <th></th>\n",
       "      <th>Tweet volume</th>\n",
       "      <th>Retweet total</th>\n",
       "      <th>Retweet average</th>\n",
       "      <th>Followers total</th>\n",
       "      <th>Followers average</th>\n",
       "      <th>Favorite total</th>\n",
       "      <th>Favorite average</th>\n",
       "      <th>Polarity total</th>\n",
       "      <th>Polarity average</th>\n",
       "      <th>Negative</th>\n",
       "      <th>Neutral</th>\n",
       "      <th>Positive</th>\n",
       "      <th>Bullish ratio</th>\n",
       "    </tr>\n",
       "    <tr>\n",
       "      <th>coin_symbol</th>\n",
       "      <th>date</th>\n",
       "      <th></th>\n",
       "      <th></th>\n",
       "      <th></th>\n",
       "      <th></th>\n",
       "      <th></th>\n",
       "      <th></th>\n",
       "      <th></th>\n",
       "      <th></th>\n",
       "      <th></th>\n",
       "      <th></th>\n",
       "      <th></th>\n",
       "      <th></th>\n",
       "      <th></th>\n",
       "    </tr>\n",
       "  </thead>\n",
       "  <tbody>\n",
       "    <tr>\n",
       "      <th rowspan=\"5\" valign=\"top\">ADA</th>\n",
       "      <th>2019-12-08</th>\n",
       "      <td>99.0</td>\n",
       "      <td>438.0</td>\n",
       "      <td>4.424243</td>\n",
       "      <td>202427.0</td>\n",
       "      <td>2044.7172</td>\n",
       "      <td>1001.0</td>\n",
       "      <td>10.111111</td>\n",
       "      <td>17.572090</td>\n",
       "      <td>0.177496</td>\n",
       "      <td>7.0</td>\n",
       "      <td>50.0</td>\n",
       "      <td>42.0</td>\n",
       "      <td>6.000000</td>\n",
       "    </tr>\n",
       "    <tr>\n",
       "      <th>2019-12-09</th>\n",
       "      <td>120.0</td>\n",
       "      <td>175.0</td>\n",
       "      <td>1.458333</td>\n",
       "      <td>410814.0</td>\n",
       "      <td>3423.4500</td>\n",
       "      <td>506.0</td>\n",
       "      <td>4.216667</td>\n",
       "      <td>11.616706</td>\n",
       "      <td>0.096806</td>\n",
       "      <td>13.0</td>\n",
       "      <td>64.0</td>\n",
       "      <td>43.0</td>\n",
       "      <td>3.307692</td>\n",
       "    </tr>\n",
       "    <tr>\n",
       "      <th>2019-12-10</th>\n",
       "      <td>129.0</td>\n",
       "      <td>239.0</td>\n",
       "      <td>1.852713</td>\n",
       "      <td>1038600.0</td>\n",
       "      <td>8051.1626</td>\n",
       "      <td>983.0</td>\n",
       "      <td>7.620155</td>\n",
       "      <td>15.501187</td>\n",
       "      <td>0.120164</td>\n",
       "      <td>12.0</td>\n",
       "      <td>64.0</td>\n",
       "      <td>53.0</td>\n",
       "      <td>4.416666</td>\n",
       "    </tr>\n",
       "    <tr>\n",
       "      <th>2019-12-11</th>\n",
       "      <td>103.0</td>\n",
       "      <td>151.0</td>\n",
       "      <td>1.466019</td>\n",
       "      <td>303994.0</td>\n",
       "      <td>2951.3980</td>\n",
       "      <td>687.0</td>\n",
       "      <td>6.669903</td>\n",
       "      <td>10.941811</td>\n",
       "      <td>0.106231</td>\n",
       "      <td>14.0</td>\n",
       "      <td>50.0</td>\n",
       "      <td>39.0</td>\n",
       "      <td>2.785714</td>\n",
       "    </tr>\n",
       "    <tr>\n",
       "      <th>2019-12-12</th>\n",
       "      <td>104.0</td>\n",
       "      <td>452.0</td>\n",
       "      <td>4.346154</td>\n",
       "      <td>811656.0</td>\n",
       "      <td>7804.3850</td>\n",
       "      <td>1075.0</td>\n",
       "      <td>10.336538</td>\n",
       "      <td>6.248597</td>\n",
       "      <td>0.060083</td>\n",
       "      <td>11.0</td>\n",
       "      <td>60.0</td>\n",
       "      <td>33.0</td>\n",
       "      <td>3.000000</td>\n",
       "    </tr>\n",
       "  </tbody>\n",
       "</table>\n",
       "</div>"
      ],
      "text/plain": [
       "                        Tweet volume  Retweet total  Retweet average  \\\n",
       "coin_symbol date                                                       \n",
       "ADA         2019-12-08          99.0          438.0         4.424243   \n",
       "            2019-12-09         120.0          175.0         1.458333   \n",
       "            2019-12-10         129.0          239.0         1.852713   \n",
       "            2019-12-11         103.0          151.0         1.466019   \n",
       "            2019-12-12         104.0          452.0         4.346154   \n",
       "\n",
       "                        Followers total  Followers average  Favorite total  \\\n",
       "coin_symbol date                                                             \n",
       "ADA         2019-12-08         202427.0          2044.7172          1001.0   \n",
       "            2019-12-09         410814.0          3423.4500           506.0   \n",
       "            2019-12-10        1038600.0          8051.1626           983.0   \n",
       "            2019-12-11         303994.0          2951.3980           687.0   \n",
       "            2019-12-12         811656.0          7804.3850          1075.0   \n",
       "\n",
       "                        Favorite average  Polarity total  Polarity average  \\\n",
       "coin_symbol date                                                             \n",
       "ADA         2019-12-08         10.111111       17.572090          0.177496   \n",
       "            2019-12-09          4.216667       11.616706          0.096806   \n",
       "            2019-12-10          7.620155       15.501187          0.120164   \n",
       "            2019-12-11          6.669903       10.941811          0.106231   \n",
       "            2019-12-12         10.336538        6.248597          0.060083   \n",
       "\n",
       "                        Negative  Neutral  Positive  Bullish ratio  \n",
       "coin_symbol date                                                    \n",
       "ADA         2019-12-08       7.0     50.0      42.0       6.000000  \n",
       "            2019-12-09      13.0     64.0      43.0       3.307692  \n",
       "            2019-12-10      12.0     64.0      53.0       4.416666  \n",
       "            2019-12-11      14.0     50.0      39.0       2.785714  \n",
       "            2019-12-12      11.0     60.0      33.0       3.000000  "
      ]
     },
     "execution_count": 13,
     "metadata": {},
     "output_type": "execute_result"
    }
   ],
   "source": [
    "metrics_store = session.read_pandas(\n",
    "    currency_metrics,\n",
    "    keys=[\"coin_symbol\", \"date\"],\n",
    "    store_name=\"metrics\",\n",
    "    types={\n",
    "        \"Tweet volume\": tt.types.FLOAT,\n",
    "        \"Retweet total\": tt.types.FLOAT,\n",
    "        \"Retweet average\": tt.types.FLOAT,\n",
    "        \"Followers total\": tt.types.FLOAT,\n",
    "        \"Followers average\": tt.types.FLOAT,\n",
    "        \"Favorite total\": tt.types.FLOAT,\n",
    "        \"Favorite average\": tt.types.FLOAT,\n",
    "        \"Polarity total\": tt.types.FLOAT,\n",
    "        \"Polarity average\": tt.types.FLOAT,\n",
    "        \"Negative\": tt.types.FLOAT,\n",
    "        \"Neutral\": tt.types.FLOAT,\n",
    "        \"Positive\": tt.types.FLOAT,\n",
    "        \"Bullish ratio\": tt.types.FLOAT,\n",
    "    },\n",
    ")\n",
    "metrics_store.head()"
   ]
  },
  {
   "cell_type": "code",
   "execution_count": 14,
   "metadata": {},
   "outputs": [
    {
     "data": {
      "text/html": [
       "<div>\n",
       "<style scoped>\n",
       "    .dataframe tbody tr th:only-of-type {\n",
       "        vertical-align: middle;\n",
       "    }\n",
       "\n",
       "    .dataframe tbody tr th {\n",
       "        vertical-align: top;\n",
       "    }\n",
       "\n",
       "    .dataframe thead th {\n",
       "        text-align: right;\n",
       "    }\n",
       "</style>\n",
       "<table border=\"1\" class=\"dataframe\">\n",
       "  <thead>\n",
       "    <tr style=\"text-align: right;\">\n",
       "      <th></th>\n",
       "      <th>currency_name</th>\n",
       "    </tr>\n",
       "    <tr>\n",
       "      <th>coin_symbol</th>\n",
       "      <th></th>\n",
       "    </tr>\n",
       "  </thead>\n",
       "  <tbody>\n",
       "    <tr>\n",
       "      <th>ADA</th>\n",
       "      <td>cardano</td>\n",
       "    </tr>\n",
       "    <tr>\n",
       "      <th>BCH</th>\n",
       "      <td>bitcoin-cash</td>\n",
       "    </tr>\n",
       "    <tr>\n",
       "      <th>BNB</th>\n",
       "      <td>binancecoin</td>\n",
       "    </tr>\n",
       "    <tr>\n",
       "      <th>BSV</th>\n",
       "      <td>bitcoin-cash-sv</td>\n",
       "    </tr>\n",
       "    <tr>\n",
       "      <th>BTC</th>\n",
       "      <td>bitcoin</td>\n",
       "    </tr>\n",
       "  </tbody>\n",
       "</table>\n",
       "</div>"
      ],
      "text/plain": [
       "               currency_name\n",
       "coin_symbol                 \n",
       "ADA                  cardano\n",
       "BCH             bitcoin-cash\n",
       "BNB              binancecoin\n",
       "BSV          bitcoin-cash-sv\n",
       "BTC                  bitcoin"
      ]
     },
     "execution_count": 14,
     "metadata": {},
     "output_type": "execute_result"
    }
   ],
   "source": [
    "currency_store = session.read_csv(\n",
    "    \"s3://data.atoti.io/notebooks/twitter/currency_dict.csv\",\n",
    "    keys=[\"coin_symbol\"],\n",
    "    store_name=\"currency\",\n",
    ")\n",
    "currency_store.head()"
   ]
  },
  {
   "cell_type": "code",
   "execution_count": 15,
   "metadata": {},
   "outputs": [
    {
     "data": {
      "text/html": [
       "<div>\n",
       "<style scoped>\n",
       "    .dataframe tbody tr th:only-of-type {\n",
       "        vertical-align: middle;\n",
       "    }\n",
       "\n",
       "    .dataframe tbody tr th {\n",
       "        vertical-align: top;\n",
       "    }\n",
       "\n",
       "    .dataframe thead th {\n",
       "        text-align: right;\n",
       "    }\n",
       "</style>\n",
       "<table border=\"1\" class=\"dataframe\">\n",
       "  <thead>\n",
       "    <tr style=\"text-align: right;\">\n",
       "      <th></th>\n",
       "      <th></th>\n",
       "      <th>norm_stat</th>\n",
       "      <th>norm_p</th>\n",
       "      <th>kurtosis</th>\n",
       "      <th>skewness</th>\n",
       "      <th>lag_acf</th>\n",
       "      <th>lag_pacf</th>\n",
       "      <th>std</th>\n",
       "      <th>durbin_watson</th>\n",
       "    </tr>\n",
       "    <tr>\n",
       "      <th>coin_symbol</th>\n",
       "      <th>metric_name</th>\n",
       "      <th></th>\n",
       "      <th></th>\n",
       "      <th></th>\n",
       "      <th></th>\n",
       "      <th></th>\n",
       "      <th></th>\n",
       "      <th></th>\n",
       "      <th></th>\n",
       "    </tr>\n",
       "  </thead>\n",
       "  <tbody>\n",
       "    <tr>\n",
       "      <th rowspan=\"5\" valign=\"top\">BTC</th>\n",
       "      <th>Price</th>\n",
       "      <td>5.736011</td>\n",
       "      <td>5.681212e-02</td>\n",
       "      <td>-0.226774</td>\n",
       "      <td>-0.343432</td>\n",
       "      <td>floatVector[51]{1.0, ...}</td>\n",
       "      <td>floatVector[51]{1.0, ...}</td>\n",
       "      <td>1.575599e+03</td>\n",
       "      <td>NaN</td>\n",
       "    </tr>\n",
       "    <tr>\n",
       "      <th>Returns</th>\n",
       "      <td>221.228609</td>\n",
       "      <td>9.137299e-49</td>\n",
       "      <td>27.435333</td>\n",
       "      <td>-2.860426</td>\n",
       "      <td>floatVector[51]{1.0, ...}</td>\n",
       "      <td>floatVector[51]{1.0, ...}</td>\n",
       "      <td>3.014460e+02</td>\n",
       "      <td>NaN</td>\n",
       "    </tr>\n",
       "    <tr>\n",
       "      <th>Tweet volume</th>\n",
       "      <td>159.966873</td>\n",
       "      <td>1.834995e-35</td>\n",
       "      <td>6.797124</td>\n",
       "      <td>2.559059</td>\n",
       "      <td>floatVector[51]{1.0, ...}</td>\n",
       "      <td>floatVector[51]{1.0, ...}</td>\n",
       "      <td>5.277166e+03</td>\n",
       "      <td>NaN</td>\n",
       "    </tr>\n",
       "    <tr>\n",
       "      <th>Retweet total</th>\n",
       "      <td>202.766718</td>\n",
       "      <td>9.327530e-45</td>\n",
       "      <td>10.084647</td>\n",
       "      <td>3.238258</td>\n",
       "      <td>floatVector[51]{1.0, ...}</td>\n",
       "      <td>floatVector[51]{1.0, ...}</td>\n",
       "      <td>4.829454e+06</td>\n",
       "      <td>NaN</td>\n",
       "    </tr>\n",
       "    <tr>\n",
       "      <th>Retweet average</th>\n",
       "      <td>209.497673</td>\n",
       "      <td>3.222243e-46</td>\n",
       "      <td>10.993250</td>\n",
       "      <td>3.329554</td>\n",
       "      <td>floatVector[51]{1.0, ...}</td>\n",
       "      <td>floatVector[51]{1.0, ...}</td>\n",
       "      <td>2.793805e+02</td>\n",
       "      <td>NaN</td>\n",
       "    </tr>\n",
       "  </tbody>\n",
       "</table>\n",
       "</div>"
      ],
      "text/plain": [
       "                              norm_stat        norm_p   kurtosis  skewness  \\\n",
       "coin_symbol metric_name                                                      \n",
       "BTC         Price              5.736011  5.681212e-02  -0.226774 -0.343432   \n",
       "            Returns          221.228609  9.137299e-49  27.435333 -2.860426   \n",
       "            Tweet volume     159.966873  1.834995e-35   6.797124  2.559059   \n",
       "            Retweet total    202.766718  9.327530e-45  10.084647  3.238258   \n",
       "            Retweet average  209.497673  3.222243e-46  10.993250  3.329554   \n",
       "\n",
       "                                               lag_acf  \\\n",
       "coin_symbol metric_name                                  \n",
       "BTC         Price            floatVector[51]{1.0, ...}   \n",
       "            Returns          floatVector[51]{1.0, ...}   \n",
       "            Tweet volume     floatVector[51]{1.0, ...}   \n",
       "            Retweet total    floatVector[51]{1.0, ...}   \n",
       "            Retweet average  floatVector[51]{1.0, ...}   \n",
       "\n",
       "                                              lag_pacf           std  \\\n",
       "coin_symbol metric_name                                                \n",
       "BTC         Price            floatVector[51]{1.0, ...}  1.575599e+03   \n",
       "            Returns          floatVector[51]{1.0, ...}  3.014460e+02   \n",
       "            Tweet volume     floatVector[51]{1.0, ...}  5.277166e+03   \n",
       "            Retweet total    floatVector[51]{1.0, ...}  4.829454e+06   \n",
       "            Retweet average  floatVector[51]{1.0, ...}  2.793805e+02   \n",
       "\n",
       "                             durbin_watson  \n",
       "coin_symbol metric_name                     \n",
       "BTC         Price                      NaN  \n",
       "            Returns                    NaN  \n",
       "            Tweet volume               NaN  \n",
       "            Retweet total              NaN  \n",
       "            Retweet average            NaN  "
      ]
     },
     "execution_count": 15,
     "metadata": {},
     "output_type": "execute_result"
    }
   ],
   "source": [
    "stats_store = session.read_pandas(\n",
    "    data_stats,\n",
    "    keys=[\"coin_symbol\", \"metric_name\"],\n",
    "    store_name=\"statistics\",\n",
    "    types={\"lag_acf\": tt.types.FLOAT_ARRAY, \"lag_pacf\": tt.types.FLOAT_ARRAY},\n",
    "    array_sep=\";\",\n",
    ")\n",
    "stats_store.head()"
   ]
  },
  {
   "cell_type": "code",
   "execution_count": 16,
   "metadata": {},
   "outputs": [],
   "source": [
    "price_store.join(metrics_store)\n",
    "price_store.join(stats_store)\n",
    "metrics_store.join(currency_store)"
   ]
  },
  {
   "cell_type": "code",
   "execution_count": 17,
   "metadata": {},
   "outputs": [],
   "source": [
    "cube = session.create_cube(price_store, name=\"Cryptocurrency cube\", mode=\"manual\")"
   ]
  },
  {
   "cell_type": "code",
   "execution_count": 18,
   "metadata": {},
   "outputs": [
    {
     "data": {
      "application/json": {
       "Dimensions": {},
       "Measures": {
        "contributors.COUNT": {
         "formatter": null
        }
       }
      },
      "text/html": [
       "<ul>\n",
       "<li>Cryptocurrency cube\n",
       "  <ul>\n",
       "  <li>Dimensions\n",
       "    <ul>\n",
       "    </ul>\n",
       "  </li>\n",
       "  <li>Measures\n",
       "    <ul>\n",
       "    <li>contributors.COUNT\n",
       "      <ul>\n",
       "      <li>formatter: None</li>\n",
       "      </ul>\n",
       "    </li>\n",
       "    </ul>\n",
       "  </li>\n",
       "  </ul>\n",
       "</li>\n",
       "</ul>\n"
      ],
      "text/plain": [
       "<atoti.cube.Cube at 0x2ae3660f970>"
      ]
     },
     "execution_count": 18,
     "metadata": {
      "application/json": {
       "expanded": false,
       "root": "Cryptocurrency cube"
      }
     },
     "output_type": "execute_result"
    }
   ],
   "source": [
    "cube"
   ]
  },
  {
   "cell_type": "code",
   "execution_count": 19,
   "metadata": {},
   "outputs": [
    {
     "data": {
      "image/svg+xml": [
       "<svg xmlns=\"http://www.w3.org/2000/svg\" xmlns:xlink=\"http://www.w3.org/1999/xlink\" width=\"1003px\" height=\"694px\" viewBox=\"0.00 0.00 1003.00 694.00\">\n",
       "<g id=\"graph0\" class=\"graph\" transform=\"scale(1.0 1.0) rotate(0) translate(4 690)\">\n",
       "<title>Cryptocurrency cube schema</title>\n",
       "<polygon fill=\"white\" stroke=\"none\" points=\"-4,4 -4,-690 999,-690 999,4 -4,4\"/>\n",
       "<!-- currency price -->\n",
       "<g id=\"node1\" class=\"node\"><title>currency price</title>\n",
       "<text text-anchor=\"start\" x=\"55\" y=\"-279.6\" font-family=\"-apple-system, BlinkMacSystemFont, 'Segoe UI', Helvetica, Arial, sans-serif, 'Apple Color Emoji', 'Segoe UI Emoji', 'Segoe UI Symbol'\" font-weight=\"bold\" font-size=\"13.00\">currency price</text>\n",
       "<polygon fill=\"#f5f5f5\" stroke=\"none\" points=\"9.5,-246 9.5,-270 40.5,-270 40.5,-246 9.5,-246\"/>\n",
       "<text text-anchor=\"start\" x=\"14.5\" y=\"-255.6\" font-family=\"-apple-system, BlinkMacSystemFont, 'Segoe UI', Helvetica, Arial, sans-serif, 'Apple Color Emoji', 'Segoe UI Emoji', 'Segoe UI Symbol'\" font-weight=\"bold\" font-size=\"13.00\">key</text>\n",
       "<polygon fill=\"#f5f5f5\" stroke=\"none\" points=\"40.5,-246 40.5,-270 119.5,-270 119.5,-246 40.5,-246\"/>\n",
       "<text text-anchor=\"start\" x=\"45.5\" y=\"-254.6\" font-family=\"-apple-system, BlinkMacSystemFont, 'Segoe UI', Helvetica, Arial, sans-serif, 'Apple Color Emoji', 'Segoe UI Emoji', 'Segoe UI Symbol'\" font-size=\"13.00\">coin_symbol</text>\n",
       "<polygon fill=\"#f5f5f5\" stroke=\"none\" points=\"119.5,-246 119.5,-270 186.5,-270 186.5,-246 119.5,-246\"/>\n",
       "<text text-anchor=\"start\" x=\"148.5\" y=\"-255.6\" font-family=\"-apple-system, BlinkMacSystemFont, 'Segoe UI', Helvetica, Arial, sans-serif, 'Apple Color Emoji', 'Segoe UI Emoji', 'Segoe UI Symbol'\" font-style=\"italic\" font-size=\"13.00\">String</text>\n",
       "<polygon fill=\"#ffffff\" stroke=\"none\" points=\"9.5,-222 9.5,-246 40.5,-246 40.5,-222 9.5,-222\"/>\n",
       "<text text-anchor=\"start\" x=\"14.5\" y=\"-231.6\" font-family=\"-apple-system, BlinkMacSystemFont, 'Segoe UI', Helvetica, Arial, sans-serif, 'Apple Color Emoji', 'Segoe UI Emoji', 'Segoe UI Symbol'\" font-weight=\"bold\" font-size=\"13.00\">key</text>\n",
       "<polygon fill=\"#ffffff\" stroke=\"none\" points=\"40.5,-222 40.5,-246 119.5,-246 119.5,-222 40.5,-222\"/>\n",
       "<text text-anchor=\"start\" x=\"45.5\" y=\"-230.6\" font-family=\"-apple-system, BlinkMacSystemFont, 'Segoe UI', Helvetica, Arial, sans-serif, 'Apple Color Emoji', 'Segoe UI Emoji', 'Segoe UI Symbol'\" font-size=\"13.00\">date</text>\n",
       "<polygon fill=\"#ffffff\" stroke=\"none\" points=\"119.5,-222 119.5,-246 186.5,-246 186.5,-222 119.5,-222\"/>\n",
       "<text text-anchor=\"start\" x=\"124.5\" y=\"-231.6\" font-family=\"-apple-system, BlinkMacSystemFont, 'Segoe UI', Helvetica, Arial, sans-serif, 'Apple Color Emoji', 'Segoe UI Emoji', 'Segoe UI Symbol'\" font-style=\"italic\" font-size=\"13.00\">LocalDate</text>\n",
       "<polygon fill=\"#f5f5f5\" stroke=\"none\" points=\"9.5,-198 9.5,-222 40.5,-222 40.5,-198 9.5,-198\"/>\n",
       "<polygon fill=\"#f5f5f5\" stroke=\"none\" points=\"40.5,-198 40.5,-222 119.5,-222 119.5,-198 40.5,-198\"/>\n",
       "<text text-anchor=\"start\" x=\"45.5\" y=\"-206.6\" font-family=\"-apple-system, BlinkMacSystemFont, 'Segoe UI', Helvetica, Arial, sans-serif, 'Apple Color Emoji', 'Segoe UI Emoji', 'Segoe UI Symbol'\" font-size=\"13.00\">Price</text>\n",
       "<polygon fill=\"#f5f5f5\" stroke=\"none\" points=\"119.5,-198 119.5,-222 186.5,-222 186.5,-198 119.5,-198\"/>\n",
       "<text text-anchor=\"start\" x=\"144.5\" y=\"-207.6\" font-family=\"-apple-system, BlinkMacSystemFont, 'Segoe UI', Helvetica, Arial, sans-serif, 'Apple Color Emoji', 'Segoe UI Emoji', 'Segoe UI Symbol'\" font-style=\"italic\" font-size=\"13.00\">double</text>\n",
       "<polygon fill=\"#ffffff\" stroke=\"none\" points=\"9.5,-174 9.5,-198 40.5,-198 40.5,-174 9.5,-174\"/>\n",
       "<polygon fill=\"#ffffff\" stroke=\"none\" points=\"40.5,-174 40.5,-198 119.5,-198 119.5,-174 40.5,-174\"/>\n",
       "<text text-anchor=\"start\" x=\"45.5\" y=\"-182.6\" font-family=\"-apple-system, BlinkMacSystemFont, 'Segoe UI', Helvetica, Arial, sans-serif, 'Apple Color Emoji', 'Segoe UI Emoji', 'Segoe UI Symbol'\" font-size=\"13.00\">Returns</text>\n",
       "<polygon fill=\"#ffffff\" stroke=\"none\" points=\"119.5,-174 119.5,-198 186.5,-198 186.5,-174 119.5,-174\"/>\n",
       "<text text-anchor=\"start\" x=\"144.5\" y=\"-183.6\" font-family=\"-apple-system, BlinkMacSystemFont, 'Segoe UI', Helvetica, Arial, sans-serif, 'Apple Color Emoji', 'Segoe UI Emoji', 'Segoe UI Symbol'\" font-style=\"italic\" font-size=\"13.00\">double</text>\n",
       "<polygon fill=\"none\" stroke=\"black\" points=\"8,-173 8,-295 187,-295 187,-173 8,-173\"/>\n",
       "</g>\n",
       "<!-- metrics -->\n",
       "<g id=\"node2\" class=\"node\"><title>metrics</title>\n",
       "<text text-anchor=\"start\" x=\"479\" y=\"-666.6\" font-family=\"-apple-system, BlinkMacSystemFont, 'Segoe UI', Helvetica, Arial, sans-serif, 'Apple Color Emoji', 'Segoe UI Emoji', 'Segoe UI Symbol'\" font-weight=\"bold\" font-size=\"13.00\">metrics</text>\n",
       "<polygon fill=\"#f5f5f5\" stroke=\"none\" points=\"397.5,-633 397.5,-657 428.5,-657 428.5,-633 397.5,-633\"/>\n",
       "<text text-anchor=\"start\" x=\"402.5\" y=\"-642.6\" font-family=\"-apple-system, BlinkMacSystemFont, 'Segoe UI', Helvetica, Arial, sans-serif, 'Apple Color Emoji', 'Segoe UI Emoji', 'Segoe UI Symbol'\" font-weight=\"bold\" font-size=\"13.00\">key</text>\n",
       "<polygon fill=\"#f5f5f5\" stroke=\"none\" points=\"428.5,-633 428.5,-657 537.5,-657 537.5,-633 428.5,-633\"/>\n",
       "<text text-anchor=\"start\" x=\"433.5\" y=\"-641.6\" font-family=\"-apple-system, BlinkMacSystemFont, 'Segoe UI', Helvetica, Arial, sans-serif, 'Apple Color Emoji', 'Segoe UI Emoji', 'Segoe UI Symbol'\" font-size=\"13.00\">coin_symbol</text>\n",
       "<polygon fill=\"#f5f5f5\" stroke=\"none\" points=\"537.5,-633 537.5,-657 604.5,-657 604.5,-633 537.5,-633\"/>\n",
       "<text text-anchor=\"start\" x=\"566.5\" y=\"-642.6\" font-family=\"-apple-system, BlinkMacSystemFont, 'Segoe UI', Helvetica, Arial, sans-serif, 'Apple Color Emoji', 'Segoe UI Emoji', 'Segoe UI Symbol'\" font-style=\"italic\" font-size=\"13.00\">String</text>\n",
       "<polygon fill=\"#ffffff\" stroke=\"none\" points=\"397.5,-609 397.5,-633 428.5,-633 428.5,-609 397.5,-609\"/>\n",
       "<text text-anchor=\"start\" x=\"402.5\" y=\"-618.6\" font-family=\"-apple-system, BlinkMacSystemFont, 'Segoe UI', Helvetica, Arial, sans-serif, 'Apple Color Emoji', 'Segoe UI Emoji', 'Segoe UI Symbol'\" font-weight=\"bold\" font-size=\"13.00\">key</text>\n",
       "<polygon fill=\"#ffffff\" stroke=\"none\" points=\"428.5,-609 428.5,-633 537.5,-633 537.5,-609 428.5,-609\"/>\n",
       "<text text-anchor=\"start\" x=\"433.5\" y=\"-617.6\" font-family=\"-apple-system, BlinkMacSystemFont, 'Segoe UI', Helvetica, Arial, sans-serif, 'Apple Color Emoji', 'Segoe UI Emoji', 'Segoe UI Symbol'\" font-size=\"13.00\">date</text>\n",
       "<polygon fill=\"#ffffff\" stroke=\"none\" points=\"537.5,-609 537.5,-633 604.5,-633 604.5,-609 537.5,-609\"/>\n",
       "<text text-anchor=\"start\" x=\"542.5\" y=\"-618.6\" font-family=\"-apple-system, BlinkMacSystemFont, 'Segoe UI', Helvetica, Arial, sans-serif, 'Apple Color Emoji', 'Segoe UI Emoji', 'Segoe UI Symbol'\" font-style=\"italic\" font-size=\"13.00\">LocalDate</text>\n",
       "<polygon fill=\"#f5f5f5\" stroke=\"none\" points=\"397.5,-585 397.5,-609 428.5,-609 428.5,-585 397.5,-585\"/>\n",
       "<polygon fill=\"#f5f5f5\" stroke=\"none\" points=\"428.5,-585 428.5,-609 537.5,-609 537.5,-585 428.5,-585\"/>\n",
       "<text text-anchor=\"start\" x=\"433.5\" y=\"-593.6\" font-family=\"-apple-system, BlinkMacSystemFont, 'Segoe UI', Helvetica, Arial, sans-serif, 'Apple Color Emoji', 'Segoe UI Emoji', 'Segoe UI Symbol'\" font-size=\"13.00\">Tweet volume</text>\n",
       "<polygon fill=\"#f5f5f5\" stroke=\"none\" points=\"537.5,-585 537.5,-609 604.5,-609 604.5,-585 537.5,-585\"/>\n",
       "<text text-anchor=\"start\" x=\"574.5\" y=\"-594.6\" font-family=\"-apple-system, BlinkMacSystemFont, 'Segoe UI', Helvetica, Arial, sans-serif, 'Apple Color Emoji', 'Segoe UI Emoji', 'Segoe UI Symbol'\" font-style=\"italic\" font-size=\"13.00\">float</text>\n",
       "<polygon fill=\"#ffffff\" stroke=\"none\" points=\"397.5,-561 397.5,-585 428.5,-585 428.5,-561 397.5,-561\"/>\n",
       "<polygon fill=\"#ffffff\" stroke=\"none\" points=\"428.5,-561 428.5,-585 537.5,-585 537.5,-561 428.5,-561\"/>\n",
       "<text text-anchor=\"start\" x=\"433.5\" y=\"-569.6\" font-family=\"-apple-system, BlinkMacSystemFont, 'Segoe UI', Helvetica, Arial, sans-serif, 'Apple Color Emoji', 'Segoe UI Emoji', 'Segoe UI Symbol'\" font-size=\"13.00\">Retweet total</text>\n",
       "<polygon fill=\"#ffffff\" stroke=\"none\" points=\"537.5,-561 537.5,-585 604.5,-585 604.5,-561 537.5,-561\"/>\n",
       "<text text-anchor=\"start\" x=\"574.5\" y=\"-570.6\" font-family=\"-apple-system, BlinkMacSystemFont, 'Segoe UI', Helvetica, Arial, sans-serif, 'Apple Color Emoji', 'Segoe UI Emoji', 'Segoe UI Symbol'\" font-style=\"italic\" font-size=\"13.00\">float</text>\n",
       "<polygon fill=\"#f5f5f5\" stroke=\"none\" points=\"397.5,-537 397.5,-561 428.5,-561 428.5,-537 397.5,-537\"/>\n",
       "<polygon fill=\"#f5f5f5\" stroke=\"none\" points=\"428.5,-537 428.5,-561 537.5,-561 537.5,-537 428.5,-537\"/>\n",
       "<text text-anchor=\"start\" x=\"433.5\" y=\"-545.6\" font-family=\"-apple-system, BlinkMacSystemFont, 'Segoe UI', Helvetica, Arial, sans-serif, 'Apple Color Emoji', 'Segoe UI Emoji', 'Segoe UI Symbol'\" font-size=\"13.00\">Retweet average</text>\n",
       "<polygon fill=\"#f5f5f5\" stroke=\"none\" points=\"537.5,-537 537.5,-561 604.5,-561 604.5,-537 537.5,-537\"/>\n",
       "<text text-anchor=\"start\" x=\"574.5\" y=\"-546.6\" font-family=\"-apple-system, BlinkMacSystemFont, 'Segoe UI', Helvetica, Arial, sans-serif, 'Apple Color Emoji', 'Segoe UI Emoji', 'Segoe UI Symbol'\" font-style=\"italic\" font-size=\"13.00\">float</text>\n",
       "<polygon fill=\"#ffffff\" stroke=\"none\" points=\"397.5,-513 397.5,-537 428.5,-537 428.5,-513 397.5,-513\"/>\n",
       "<polygon fill=\"#ffffff\" stroke=\"none\" points=\"428.5,-513 428.5,-537 537.5,-537 537.5,-513 428.5,-513\"/>\n",
       "<text text-anchor=\"start\" x=\"433.5\" y=\"-521.6\" font-family=\"-apple-system, BlinkMacSystemFont, 'Segoe UI', Helvetica, Arial, sans-serif, 'Apple Color Emoji', 'Segoe UI Emoji', 'Segoe UI Symbol'\" font-size=\"13.00\">Followers total</text>\n",
       "<polygon fill=\"#ffffff\" stroke=\"none\" points=\"537.5,-513 537.5,-537 604.5,-537 604.5,-513 537.5,-513\"/>\n",
       "<text text-anchor=\"start\" x=\"574.5\" y=\"-522.6\" font-family=\"-apple-system, BlinkMacSystemFont, 'Segoe UI', Helvetica, Arial, sans-serif, 'Apple Color Emoji', 'Segoe UI Emoji', 'Segoe UI Symbol'\" font-style=\"italic\" font-size=\"13.00\">float</text>\n",
       "<polygon fill=\"#f5f5f5\" stroke=\"none\" points=\"397.5,-489 397.5,-513 428.5,-513 428.5,-489 397.5,-489\"/>\n",
       "<polygon fill=\"#f5f5f5\" stroke=\"none\" points=\"428.5,-489 428.5,-513 537.5,-513 537.5,-489 428.5,-489\"/>\n",
       "<text text-anchor=\"start\" x=\"433.5\" y=\"-497.6\" font-family=\"-apple-system, BlinkMacSystemFont, 'Segoe UI', Helvetica, Arial, sans-serif, 'Apple Color Emoji', 'Segoe UI Emoji', 'Segoe UI Symbol'\" font-size=\"13.00\">Followers average</text>\n",
       "<polygon fill=\"#f5f5f5\" stroke=\"none\" points=\"537.5,-489 537.5,-513 604.5,-513 604.5,-489 537.5,-489\"/>\n",
       "<text text-anchor=\"start\" x=\"574.5\" y=\"-498.6\" font-family=\"-apple-system, BlinkMacSystemFont, 'Segoe UI', Helvetica, Arial, sans-serif, 'Apple Color Emoji', 'Segoe UI Emoji', 'Segoe UI Symbol'\" font-style=\"italic\" font-size=\"13.00\">float</text>\n",
       "<polygon fill=\"#ffffff\" stroke=\"none\" points=\"397.5,-465 397.5,-489 428.5,-489 428.5,-465 397.5,-465\"/>\n",
       "<polygon fill=\"#ffffff\" stroke=\"none\" points=\"428.5,-465 428.5,-489 537.5,-489 537.5,-465 428.5,-465\"/>\n",
       "<text text-anchor=\"start\" x=\"433.5\" y=\"-473.6\" font-family=\"-apple-system, BlinkMacSystemFont, 'Segoe UI', Helvetica, Arial, sans-serif, 'Apple Color Emoji', 'Segoe UI Emoji', 'Segoe UI Symbol'\" font-size=\"13.00\">Favorite total</text>\n",
       "<polygon fill=\"#ffffff\" stroke=\"none\" points=\"537.5,-465 537.5,-489 604.5,-489 604.5,-465 537.5,-465\"/>\n",
       "<text text-anchor=\"start\" x=\"574.5\" y=\"-474.6\" font-family=\"-apple-system, BlinkMacSystemFont, 'Segoe UI', Helvetica, Arial, sans-serif, 'Apple Color Emoji', 'Segoe UI Emoji', 'Segoe UI Symbol'\" font-style=\"italic\" font-size=\"13.00\">float</text>\n",
       "<polygon fill=\"#f5f5f5\" stroke=\"none\" points=\"397.5,-441 397.5,-465 428.5,-465 428.5,-441 397.5,-441\"/>\n",
       "<polygon fill=\"#f5f5f5\" stroke=\"none\" points=\"428.5,-441 428.5,-465 537.5,-465 537.5,-441 428.5,-441\"/>\n",
       "<text text-anchor=\"start\" x=\"433.5\" y=\"-449.6\" font-family=\"-apple-system, BlinkMacSystemFont, 'Segoe UI', Helvetica, Arial, sans-serif, 'Apple Color Emoji', 'Segoe UI Emoji', 'Segoe UI Symbol'\" font-size=\"13.00\">Favorite average</text>\n",
       "<polygon fill=\"#f5f5f5\" stroke=\"none\" points=\"537.5,-441 537.5,-465 604.5,-465 604.5,-441 537.5,-441\"/>\n",
       "<text text-anchor=\"start\" x=\"574.5\" y=\"-450.6\" font-family=\"-apple-system, BlinkMacSystemFont, 'Segoe UI', Helvetica, Arial, sans-serif, 'Apple Color Emoji', 'Segoe UI Emoji', 'Segoe UI Symbol'\" font-style=\"italic\" font-size=\"13.00\">float</text>\n",
       "<polygon fill=\"#ffffff\" stroke=\"none\" points=\"397.5,-417 397.5,-441 428.5,-441 428.5,-417 397.5,-417\"/>\n",
       "<polygon fill=\"#ffffff\" stroke=\"none\" points=\"428.5,-417 428.5,-441 537.5,-441 537.5,-417 428.5,-417\"/>\n",
       "<text text-anchor=\"start\" x=\"433.5\" y=\"-425.6\" font-family=\"-apple-system, BlinkMacSystemFont, 'Segoe UI', Helvetica, Arial, sans-serif, 'Apple Color Emoji', 'Segoe UI Emoji', 'Segoe UI Symbol'\" font-size=\"13.00\">Polarity total</text>\n",
       "<polygon fill=\"#ffffff\" stroke=\"none\" points=\"537.5,-417 537.5,-441 604.5,-441 604.5,-417 537.5,-417\"/>\n",
       "<text text-anchor=\"start\" x=\"574.5\" y=\"-426.6\" font-family=\"-apple-system, BlinkMacSystemFont, 'Segoe UI', Helvetica, Arial, sans-serif, 'Apple Color Emoji', 'Segoe UI Emoji', 'Segoe UI Symbol'\" font-style=\"italic\" font-size=\"13.00\">float</text>\n",
       "<polygon fill=\"#f5f5f5\" stroke=\"none\" points=\"397.5,-393 397.5,-417 428.5,-417 428.5,-393 397.5,-393\"/>\n",
       "<polygon fill=\"#f5f5f5\" stroke=\"none\" points=\"428.5,-393 428.5,-417 537.5,-417 537.5,-393 428.5,-393\"/>\n",
       "<text text-anchor=\"start\" x=\"433.5\" y=\"-401.6\" font-family=\"-apple-system, BlinkMacSystemFont, 'Segoe UI', Helvetica, Arial, sans-serif, 'Apple Color Emoji', 'Segoe UI Emoji', 'Segoe UI Symbol'\" font-size=\"13.00\">Polarity average</text>\n",
       "<polygon fill=\"#f5f5f5\" stroke=\"none\" points=\"537.5,-393 537.5,-417 604.5,-417 604.5,-393 537.5,-393\"/>\n",
       "<text text-anchor=\"start\" x=\"574.5\" y=\"-402.6\" font-family=\"-apple-system, BlinkMacSystemFont, 'Segoe UI', Helvetica, Arial, sans-serif, 'Apple Color Emoji', 'Segoe UI Emoji', 'Segoe UI Symbol'\" font-style=\"italic\" font-size=\"13.00\">float</text>\n",
       "<polygon fill=\"#ffffff\" stroke=\"none\" points=\"397.5,-369 397.5,-393 428.5,-393 428.5,-369 397.5,-369\"/>\n",
       "<polygon fill=\"#ffffff\" stroke=\"none\" points=\"428.5,-369 428.5,-393 537.5,-393 537.5,-369 428.5,-369\"/>\n",
       "<text text-anchor=\"start\" x=\"433.5\" y=\"-377.6\" font-family=\"-apple-system, BlinkMacSystemFont, 'Segoe UI', Helvetica, Arial, sans-serif, 'Apple Color Emoji', 'Segoe UI Emoji', 'Segoe UI Symbol'\" font-size=\"13.00\">Negative</text>\n",
       "<polygon fill=\"#ffffff\" stroke=\"none\" points=\"537.5,-369 537.5,-393 604.5,-393 604.5,-369 537.5,-369\"/>\n",
       "<text text-anchor=\"start\" x=\"574.5\" y=\"-378.6\" font-family=\"-apple-system, BlinkMacSystemFont, 'Segoe UI', Helvetica, Arial, sans-serif, 'Apple Color Emoji', 'Segoe UI Emoji', 'Segoe UI Symbol'\" font-style=\"italic\" font-size=\"13.00\">float</text>\n",
       "<polygon fill=\"#f5f5f5\" stroke=\"none\" points=\"397.5,-345 397.5,-369 428.5,-369 428.5,-345 397.5,-345\"/>\n",
       "<polygon fill=\"#f5f5f5\" stroke=\"none\" points=\"428.5,-345 428.5,-369 537.5,-369 537.5,-345 428.5,-345\"/>\n",
       "<text text-anchor=\"start\" x=\"433.5\" y=\"-353.6\" font-family=\"-apple-system, BlinkMacSystemFont, 'Segoe UI', Helvetica, Arial, sans-serif, 'Apple Color Emoji', 'Segoe UI Emoji', 'Segoe UI Symbol'\" font-size=\"13.00\">Neutral</text>\n",
       "<polygon fill=\"#f5f5f5\" stroke=\"none\" points=\"537.5,-345 537.5,-369 604.5,-369 604.5,-345 537.5,-345\"/>\n",
       "<text text-anchor=\"start\" x=\"574.5\" y=\"-354.6\" font-family=\"-apple-system, BlinkMacSystemFont, 'Segoe UI', Helvetica, Arial, sans-serif, 'Apple Color Emoji', 'Segoe UI Emoji', 'Segoe UI Symbol'\" font-style=\"italic\" font-size=\"13.00\">float</text>\n",
       "<polygon fill=\"#ffffff\" stroke=\"none\" points=\"397.5,-321 397.5,-345 428.5,-345 428.5,-321 397.5,-321\"/>\n",
       "<polygon fill=\"#ffffff\" stroke=\"none\" points=\"428.5,-321 428.5,-345 537.5,-345 537.5,-321 428.5,-321\"/>\n",
       "<text text-anchor=\"start\" x=\"433.5\" y=\"-329.6\" font-family=\"-apple-system, BlinkMacSystemFont, 'Segoe UI', Helvetica, Arial, sans-serif, 'Apple Color Emoji', 'Segoe UI Emoji', 'Segoe UI Symbol'\" font-size=\"13.00\">Positive</text>\n",
       "<polygon fill=\"#ffffff\" stroke=\"none\" points=\"537.5,-321 537.5,-345 604.5,-345 604.5,-321 537.5,-321\"/>\n",
       "<text text-anchor=\"start\" x=\"574.5\" y=\"-330.6\" font-family=\"-apple-system, BlinkMacSystemFont, 'Segoe UI', Helvetica, Arial, sans-serif, 'Apple Color Emoji', 'Segoe UI Emoji', 'Segoe UI Symbol'\" font-style=\"italic\" font-size=\"13.00\">float</text>\n",
       "<polygon fill=\"#f5f5f5\" stroke=\"none\" points=\"397.5,-297 397.5,-321 428.5,-321 428.5,-297 397.5,-297\"/>\n",
       "<polygon fill=\"#f5f5f5\" stroke=\"none\" points=\"428.5,-297 428.5,-321 537.5,-321 537.5,-297 428.5,-297\"/>\n",
       "<text text-anchor=\"start\" x=\"433.5\" y=\"-305.6\" font-family=\"-apple-system, BlinkMacSystemFont, 'Segoe UI', Helvetica, Arial, sans-serif, 'Apple Color Emoji', 'Segoe UI Emoji', 'Segoe UI Symbol'\" font-size=\"13.00\">Bullish ratio</text>\n",
       "<polygon fill=\"#f5f5f5\" stroke=\"none\" points=\"537.5,-297 537.5,-321 604.5,-321 604.5,-297 537.5,-297\"/>\n",
       "<text text-anchor=\"start\" x=\"574.5\" y=\"-306.6\" font-family=\"-apple-system, BlinkMacSystemFont, 'Segoe UI', Helvetica, Arial, sans-serif, 'Apple Color Emoji', 'Segoe UI Emoji', 'Segoe UI Symbol'\" font-style=\"italic\" font-size=\"13.00\">float</text>\n",
       "<polygon fill=\"none\" stroke=\"black\" points=\"396,-296 396,-682 605,-682 605,-296 396,-296\"/>\n",
       "</g>\n",
       "<!-- currency price&#45;&gt;metrics -->\n",
       "<g id=\"edge2\" class=\"edge\"><title>currency price-&gt;metrics</title>\n",
       "<path fill=\"none\" stroke=\"black\" d=\"M195.06,-295.403C250.392,-330.589 320.321,-375.058 379.202,-412.501\"/>\n",
       "<polygon fill=\"black\" stroke=\"black\" points=\"377.489,-415.56 387.806,-417.973 381.246,-409.653 377.489,-415.56\"/>\n",
       "<text text-anchor=\"middle\" x=\"291.5\" y=\"-424.6\" font-family=\"-apple-system, BlinkMacSystemFont, 'Segoe UI', Helvetica, Arial, sans-serif, 'Apple Color Emoji', 'Segoe UI Emoji', 'Segoe UI Symbol'\" font-size=\"13.00\">date → date</text>\n",
       "<text text-anchor=\"middle\" x=\"291.5\" y=\"-410.6\" font-family=\"-apple-system, BlinkMacSystemFont, 'Segoe UI', Helvetica, Arial, sans-serif, 'Apple Color Emoji', 'Segoe UI Emoji', 'Segoe UI Symbol'\" font-size=\"13.00\">coin_symbol → coin_symbol</text>\n",
       "</g>\n",
       "<!-- statistics -->\n",
       "<g id=\"node4\" class=\"node\"><title>statistics</title>\n",
       "<text text-anchor=\"start\" x=\"474\" y=\"-254.6\" font-family=\"-apple-system, BlinkMacSystemFont, 'Segoe UI', Helvetica, Arial, sans-serif, 'Apple Color Emoji', 'Segoe UI Emoji', 'Segoe UI Symbol'\" font-weight=\"bold\" font-size=\"13.00\">statistics</text>\n",
       "<polygon fill=\"#f5f5f5\" stroke=\"none\" points=\"417.5,-221 417.5,-245 448.5,-245 448.5,-221 417.5,-221\"/>\n",
       "<text text-anchor=\"start\" x=\"422.5\" y=\"-230.6\" font-family=\"-apple-system, BlinkMacSystemFont, 'Segoe UI', Helvetica, Arial, sans-serif, 'Apple Color Emoji', 'Segoe UI Emoji', 'Segoe UI Symbol'\" font-weight=\"bold\" font-size=\"13.00\">key</text>\n",
       "<polygon fill=\"#f5f5f5\" stroke=\"none\" points=\"448.5,-221 448.5,-245 537.5,-245 537.5,-221 448.5,-221\"/>\n",
       "<text text-anchor=\"start\" x=\"453.5\" y=\"-229.6\" font-family=\"-apple-system, BlinkMacSystemFont, 'Segoe UI', Helvetica, Arial, sans-serif, 'Apple Color Emoji', 'Segoe UI Emoji', 'Segoe UI Symbol'\" font-size=\"13.00\">coin_symbol</text>\n",
       "<polygon fill=\"#f5f5f5\" stroke=\"none\" points=\"537.5,-221 537.5,-245 584.5,-245 584.5,-221 537.5,-221\"/>\n",
       "<text text-anchor=\"start\" x=\"546.5\" y=\"-230.6\" font-family=\"-apple-system, BlinkMacSystemFont, 'Segoe UI', Helvetica, Arial, sans-serif, 'Apple Color Emoji', 'Segoe UI Emoji', 'Segoe UI Symbol'\" font-style=\"italic\" font-size=\"13.00\">String</text>\n",
       "<polygon fill=\"#ffffff\" stroke=\"none\" points=\"417.5,-197 417.5,-221 448.5,-221 448.5,-197 417.5,-197\"/>\n",
       "<text text-anchor=\"start\" x=\"422.5\" y=\"-206.6\" font-family=\"-apple-system, BlinkMacSystemFont, 'Segoe UI', Helvetica, Arial, sans-serif, 'Apple Color Emoji', 'Segoe UI Emoji', 'Segoe UI Symbol'\" font-weight=\"bold\" font-size=\"13.00\">key</text>\n",
       "<polygon fill=\"#ffffff\" stroke=\"none\" points=\"448.5,-197 448.5,-221 537.5,-221 537.5,-197 448.5,-197\"/>\n",
       "<text text-anchor=\"start\" x=\"453.5\" y=\"-205.6\" font-family=\"-apple-system, BlinkMacSystemFont, 'Segoe UI', Helvetica, Arial, sans-serif, 'Apple Color Emoji', 'Segoe UI Emoji', 'Segoe UI Symbol'\" font-size=\"13.00\">metric_name</text>\n",
       "<polygon fill=\"#ffffff\" stroke=\"none\" points=\"537.5,-197 537.5,-221 584.5,-221 584.5,-197 537.5,-197\"/>\n",
       "<text text-anchor=\"start\" x=\"546.5\" y=\"-206.6\" font-family=\"-apple-system, BlinkMacSystemFont, 'Segoe UI', Helvetica, Arial, sans-serif, 'Apple Color Emoji', 'Segoe UI Emoji', 'Segoe UI Symbol'\" font-style=\"italic\" font-size=\"13.00\">String</text>\n",
       "<polygon fill=\"#f5f5f5\" stroke=\"none\" points=\"417.5,-173 417.5,-197 448.5,-197 448.5,-173 417.5,-173\"/>\n",
       "<polygon fill=\"#f5f5f5\" stroke=\"none\" points=\"448.5,-173 448.5,-197 537.5,-197 537.5,-173 448.5,-173\"/>\n",
       "<text text-anchor=\"start\" x=\"453.5\" y=\"-181.6\" font-family=\"-apple-system, BlinkMacSystemFont, 'Segoe UI', Helvetica, Arial, sans-serif, 'Apple Color Emoji', 'Segoe UI Emoji', 'Segoe UI Symbol'\" font-size=\"13.00\">norm_stat</text>\n",
       "<polygon fill=\"#f5f5f5\" stroke=\"none\" points=\"537.5,-173 537.5,-197 584.5,-197 584.5,-173 537.5,-173\"/>\n",
       "<text text-anchor=\"start\" x=\"542.5\" y=\"-182.6\" font-family=\"-apple-system, BlinkMacSystemFont, 'Segoe UI', Helvetica, Arial, sans-serif, 'Apple Color Emoji', 'Segoe UI Emoji', 'Segoe UI Symbol'\" font-style=\"italic\" font-size=\"13.00\">double</text>\n",
       "<polygon fill=\"#ffffff\" stroke=\"none\" points=\"417.5,-149 417.5,-173 448.5,-173 448.5,-149 417.5,-149\"/>\n",
       "<polygon fill=\"#ffffff\" stroke=\"none\" points=\"448.5,-149 448.5,-173 537.5,-173 537.5,-149 448.5,-149\"/>\n",
       "<text text-anchor=\"start\" x=\"453.5\" y=\"-157.6\" font-family=\"-apple-system, BlinkMacSystemFont, 'Segoe UI', Helvetica, Arial, sans-serif, 'Apple Color Emoji', 'Segoe UI Emoji', 'Segoe UI Symbol'\" font-size=\"13.00\">norm_p</text>\n",
       "<polygon fill=\"#ffffff\" stroke=\"none\" points=\"537.5,-149 537.5,-173 584.5,-173 584.5,-149 537.5,-149\"/>\n",
       "<text text-anchor=\"start\" x=\"542.5\" y=\"-158.6\" font-family=\"-apple-system, BlinkMacSystemFont, 'Segoe UI', Helvetica, Arial, sans-serif, 'Apple Color Emoji', 'Segoe UI Emoji', 'Segoe UI Symbol'\" font-style=\"italic\" font-size=\"13.00\">double</text>\n",
       "<polygon fill=\"#f5f5f5\" stroke=\"none\" points=\"417.5,-125 417.5,-149 448.5,-149 448.5,-125 417.5,-125\"/>\n",
       "<polygon fill=\"#f5f5f5\" stroke=\"none\" points=\"448.5,-125 448.5,-149 537.5,-149 537.5,-125 448.5,-125\"/>\n",
       "<text text-anchor=\"start\" x=\"453.5\" y=\"-133.6\" font-family=\"-apple-system, BlinkMacSystemFont, 'Segoe UI', Helvetica, Arial, sans-serif, 'Apple Color Emoji', 'Segoe UI Emoji', 'Segoe UI Symbol'\" font-size=\"13.00\">kurtosis</text>\n",
       "<polygon fill=\"#f5f5f5\" stroke=\"none\" points=\"537.5,-125 537.5,-149 584.5,-149 584.5,-125 537.5,-125\"/>\n",
       "<text text-anchor=\"start\" x=\"542.5\" y=\"-134.6\" font-family=\"-apple-system, BlinkMacSystemFont, 'Segoe UI', Helvetica, Arial, sans-serif, 'Apple Color Emoji', 'Segoe UI Emoji', 'Segoe UI Symbol'\" font-style=\"italic\" font-size=\"13.00\">double</text>\n",
       "<polygon fill=\"#ffffff\" stroke=\"none\" points=\"417.5,-101 417.5,-125 448.5,-125 448.5,-101 417.5,-101\"/>\n",
       "<polygon fill=\"#ffffff\" stroke=\"none\" points=\"448.5,-101 448.5,-125 537.5,-125 537.5,-101 448.5,-101\"/>\n",
       "<text text-anchor=\"start\" x=\"453.5\" y=\"-109.6\" font-family=\"-apple-system, BlinkMacSystemFont, 'Segoe UI', Helvetica, Arial, sans-serif, 'Apple Color Emoji', 'Segoe UI Emoji', 'Segoe UI Symbol'\" font-size=\"13.00\">skewness</text>\n",
       "<polygon fill=\"#ffffff\" stroke=\"none\" points=\"537.5,-101 537.5,-125 584.5,-125 584.5,-101 537.5,-101\"/>\n",
       "<text text-anchor=\"start\" x=\"542.5\" y=\"-110.6\" font-family=\"-apple-system, BlinkMacSystemFont, 'Segoe UI', Helvetica, Arial, sans-serif, 'Apple Color Emoji', 'Segoe UI Emoji', 'Segoe UI Symbol'\" font-style=\"italic\" font-size=\"13.00\">double</text>\n",
       "<polygon fill=\"#f5f5f5\" stroke=\"none\" points=\"417.5,-77 417.5,-101 448.5,-101 448.5,-77 417.5,-77\"/>\n",
       "<polygon fill=\"#f5f5f5\" stroke=\"none\" points=\"448.5,-77 448.5,-101 537.5,-101 537.5,-77 448.5,-77\"/>\n",
       "<text text-anchor=\"start\" x=\"453.5\" y=\"-85.6\" font-family=\"-apple-system, BlinkMacSystemFont, 'Segoe UI', Helvetica, Arial, sans-serif, 'Apple Color Emoji', 'Segoe UI Emoji', 'Segoe UI Symbol'\" font-size=\"13.00\">lag_acf</text>\n",
       "<polygon fill=\"#f5f5f5\" stroke=\"none\" points=\"537.5,-77 537.5,-101 584.5,-101 584.5,-77 537.5,-77\"/>\n",
       "<text text-anchor=\"start\" x=\"547.5\" y=\"-86.6\" font-family=\"-apple-system, BlinkMacSystemFont, 'Segoe UI', Helvetica, Arial, sans-serif, 'Apple Color Emoji', 'Segoe UI Emoji', 'Segoe UI Symbol'\" font-style=\"italic\" font-size=\"13.00\">float[]</text>\n",
       "<polygon fill=\"#ffffff\" stroke=\"none\" points=\"417.5,-53 417.5,-77 448.5,-77 448.5,-53 417.5,-53\"/>\n",
       "<polygon fill=\"#ffffff\" stroke=\"none\" points=\"448.5,-53 448.5,-77 537.5,-77 537.5,-53 448.5,-53\"/>\n",
       "<text text-anchor=\"start\" x=\"453.5\" y=\"-61.6\" font-family=\"-apple-system, BlinkMacSystemFont, 'Segoe UI', Helvetica, Arial, sans-serif, 'Apple Color Emoji', 'Segoe UI Emoji', 'Segoe UI Symbol'\" font-size=\"13.00\">lag_pacf</text>\n",
       "<polygon fill=\"#ffffff\" stroke=\"none\" points=\"537.5,-53 537.5,-77 584.5,-77 584.5,-53 537.5,-53\"/>\n",
       "<text text-anchor=\"start\" x=\"547.5\" y=\"-62.6\" font-family=\"-apple-system, BlinkMacSystemFont, 'Segoe UI', Helvetica, Arial, sans-serif, 'Apple Color Emoji', 'Segoe UI Emoji', 'Segoe UI Symbol'\" font-style=\"italic\" font-size=\"13.00\">float[]</text>\n",
       "<polygon fill=\"#f5f5f5\" stroke=\"none\" points=\"417.5,-29 417.5,-53 448.5,-53 448.5,-29 417.5,-29\"/>\n",
       "<polygon fill=\"#f5f5f5\" stroke=\"none\" points=\"448.5,-29 448.5,-53 537.5,-53 537.5,-29 448.5,-29\"/>\n",
       "<text text-anchor=\"start\" x=\"453.5\" y=\"-37.6\" font-family=\"-apple-system, BlinkMacSystemFont, 'Segoe UI', Helvetica, Arial, sans-serif, 'Apple Color Emoji', 'Segoe UI Emoji', 'Segoe UI Symbol'\" font-size=\"13.00\">std</text>\n",
       "<polygon fill=\"#f5f5f5\" stroke=\"none\" points=\"537.5,-29 537.5,-53 584.5,-53 584.5,-29 537.5,-29\"/>\n",
       "<text text-anchor=\"start\" x=\"542.5\" y=\"-38.6\" font-family=\"-apple-system, BlinkMacSystemFont, 'Segoe UI', Helvetica, Arial, sans-serif, 'Apple Color Emoji', 'Segoe UI Emoji', 'Segoe UI Symbol'\" font-style=\"italic\" font-size=\"13.00\">double</text>\n",
       "<polygon fill=\"#ffffff\" stroke=\"none\" points=\"417.5,-5 417.5,-29 448.5,-29 448.5,-5 417.5,-5\"/>\n",
       "<polygon fill=\"#ffffff\" stroke=\"none\" points=\"448.5,-5 448.5,-29 537.5,-29 537.5,-5 448.5,-5\"/>\n",
       "<text text-anchor=\"start\" x=\"453.5\" y=\"-13.6\" font-family=\"-apple-system, BlinkMacSystemFont, 'Segoe UI', Helvetica, Arial, sans-serif, 'Apple Color Emoji', 'Segoe UI Emoji', 'Segoe UI Symbol'\" font-size=\"13.00\">durbin_watson</text>\n",
       "<polygon fill=\"#ffffff\" stroke=\"none\" points=\"537.5,-5 537.5,-29 584.5,-29 584.5,-5 537.5,-5\"/>\n",
       "<text text-anchor=\"start\" x=\"542.5\" y=\"-14.6\" font-family=\"-apple-system, BlinkMacSystemFont, 'Segoe UI', Helvetica, Arial, sans-serif, 'Apple Color Emoji', 'Segoe UI Emoji', 'Segoe UI Symbol'\" font-style=\"italic\" font-size=\"13.00\">double</text>\n",
       "<polygon fill=\"none\" stroke=\"black\" points=\"416,-4 416,-270 585,-270 585,-4 416,-4\"/>\n",
       "</g>\n",
       "<!-- currency price&#45;&gt;statistics -->\n",
       "<g id=\"edge1\" class=\"edge\"><title>currency price-&gt;statistics</title>\n",
       "<path fill=\"none\" stroke=\"black\" stroke-dasharray=\"5,2\" d=\"M195.06,-210.643C256.434,-195.796 335.769,-176.606 398.064,-161.537\"/>\n",
       "<polygon fill=\"black\" stroke=\"black\" points=\"399.013,-164.908 407.91,-159.155 397.367,-158.105 399.013,-164.908\"/>\n",
       "<text text-anchor=\"middle\" x=\"291.5\" y=\"-209.6\" font-family=\"-apple-system, BlinkMacSystemFont, 'Segoe UI', Helvetica, Arial, sans-serif, 'Apple Color Emoji', 'Segoe UI Emoji', 'Segoe UI Symbol'\" font-size=\"13.00\">coin_symbol → coin_symbol</text>\n",
       "</g>\n",
       "<!-- currency -->\n",
       "<g id=\"node3\" class=\"node\"><title>currency</title>\n",
       "<text text-anchor=\"start\" x=\"874.5\" y=\"-510.6\" font-family=\"-apple-system, BlinkMacSystemFont, 'Segoe UI', Helvetica, Arial, sans-serif, 'Apple Color Emoji', 'Segoe UI Emoji', 'Segoe UI Symbol'\" font-weight=\"bold\" font-size=\"13.00\">currency</text>\n",
       "<polygon fill=\"#f5f5f5\" stroke=\"none\" points=\"815.5,-477 815.5,-501 846.5,-501 846.5,-477 815.5,-477\"/>\n",
       "<text text-anchor=\"start\" x=\"820.5\" y=\"-486.6\" font-family=\"-apple-system, BlinkMacSystemFont, 'Segoe UI', Helvetica, Arial, sans-serif, 'Apple Color Emoji', 'Segoe UI Emoji', 'Segoe UI Symbol'\" font-weight=\"bold\" font-size=\"13.00\">key</text>\n",
       "<polygon fill=\"#f5f5f5\" stroke=\"none\" points=\"846.5,-477 846.5,-501 943.5,-501 943.5,-477 846.5,-477\"/>\n",
       "<text text-anchor=\"start\" x=\"851.5\" y=\"-485.6\" font-family=\"-apple-system, BlinkMacSystemFont, 'Segoe UI', Helvetica, Arial, sans-serif, 'Apple Color Emoji', 'Segoe UI Emoji', 'Segoe UI Symbol'\" font-size=\"13.00\">coin_symbol</text>\n",
       "<polygon fill=\"#f5f5f5\" stroke=\"none\" points=\"943.5,-477 943.5,-501 986.5,-501 986.5,-477 943.5,-477\"/>\n",
       "<text text-anchor=\"start\" x=\"948.5\" y=\"-486.6\" font-family=\"-apple-system, BlinkMacSystemFont, 'Segoe UI', Helvetica, Arial, sans-serif, 'Apple Color Emoji', 'Segoe UI Emoji', 'Segoe UI Symbol'\" font-style=\"italic\" font-size=\"13.00\">String</text>\n",
       "<polygon fill=\"#ffffff\" stroke=\"none\" points=\"815.5,-453 815.5,-477 846.5,-477 846.5,-453 815.5,-453\"/>\n",
       "<polygon fill=\"#ffffff\" stroke=\"none\" points=\"846.5,-453 846.5,-477 943.5,-477 943.5,-453 846.5,-453\"/>\n",
       "<text text-anchor=\"start\" x=\"851.5\" y=\"-461.6\" font-family=\"-apple-system, BlinkMacSystemFont, 'Segoe UI', Helvetica, Arial, sans-serif, 'Apple Color Emoji', 'Segoe UI Emoji', 'Segoe UI Symbol'\" font-size=\"13.00\">currency_name</text>\n",
       "<polygon fill=\"#ffffff\" stroke=\"none\" points=\"943.5,-453 943.5,-477 986.5,-477 986.5,-453 943.5,-453\"/>\n",
       "<text text-anchor=\"start\" x=\"948.5\" y=\"-462.6\" font-family=\"-apple-system, BlinkMacSystemFont, 'Segoe UI', Helvetica, Arial, sans-serif, 'Apple Color Emoji', 'Segoe UI Emoji', 'Segoe UI Symbol'\" font-style=\"italic\" font-size=\"13.00\">String</text>\n",
       "<polygon fill=\"none\" stroke=\"black\" points=\"814,-452 814,-526 987,-526 987,-452 814,-452\"/>\n",
       "</g>\n",
       "<!-- metrics&#45;&gt;currency -->\n",
       "<g id=\"edge3\" class=\"edge\"><title>metrics-&gt;currency</title>\n",
       "<path fill=\"none\" stroke=\"black\" d=\"M613.159,-489C670.307,-489 739.444,-489 795.464,-489\"/>\n",
       "<polygon fill=\"black\" stroke=\"black\" points=\"795.766,-492.5 805.766,-489 795.766,-485.5 795.766,-492.5\"/>\n",
       "<text text-anchor=\"middle\" x=\"709.5\" y=\"-492.6\" font-family=\"-apple-system, BlinkMacSystemFont, 'Segoe UI', Helvetica, Arial, sans-serif, 'Apple Color Emoji', 'Segoe UI Emoji', 'Segoe UI Symbol'\" font-size=\"13.00\">coin_symbol → coin_symbol</text>\n",
       "</g>\n",
       "</g>\n",
       "</svg>"
      ],
      "text/plain": [
       "<IPython.core.display.SVG object>"
      ]
     },
     "execution_count": 19,
     "metadata": {},
     "output_type": "execute_result"
    }
   ],
   "source": [
    "cube.schema"
   ]
  },
  {
   "cell_type": "code",
   "execution_count": 20,
   "metadata": {},
   "outputs": [],
   "source": [
    "h = cube.hierarchies\n",
    "l = cube.levels\n",
    "m = cube.measures"
   ]
  },
  {
   "cell_type": "code",
   "execution_count": 21,
   "metadata": {},
   "outputs": [],
   "source": [
    "h[\"Coin Symbol\"] = [metrics_store[\"coin_symbol\"], currency_store[\"currency_name\"]]\n",
    "h[\"Coin Symbol\"].dimension = \"Cryptocurrency\"\n",
    "h[\"Coin Symbol\"].slicing = True\n",
    "\n",
    "h[\"Date\"] = [metrics_store[\"date\"]]\n",
    "h[\"Date\"].dimension = \"Time-series\"\n",
    "\n",
    "h[\"metric_name\"].dimension = \"Metrics\""
   ]
  },
  {
   "cell_type": "code",
   "execution_count": 22,
   "metadata": {},
   "outputs": [
    {
     "data": {
      "application/json": {
       "Cryptocurrency": {
        "Coin Symbol (slicing)": [
         "coin_symbol",
         "currency_name"
        ]
       },
       "Metrics": {
        "metric_name": [
         "metric_name"
        ]
       },
       "Time-series": {
        "Date": [
         "date"
        ]
       }
      },
      "text/html": [
       "<ul>\n",
       "<li>Dimensions\n",
       "  <ul>\n",
       "  <li>Cryptocurrency\n",
       "    <ul>\n",
       "    <li>Coin Symbol (slicing)\n",
       "      <ol>\n",
       "      <li>coin_symbol</li>\n",
       "      <li>currency_name</li>\n",
       "      </ol>    </li>\n",
       "    </ul>\n",
       "  </li>\n",
       "  <li>Metrics\n",
       "    <ul>\n",
       "    <li>metric_name\n",
       "      <ol>\n",
       "      <li>metric_name</li>\n",
       "      </ol>    </li>\n",
       "    </ul>\n",
       "  </li>\n",
       "  <li>Time-series\n",
       "    <ul>\n",
       "    <li>Date\n",
       "      <ol>\n",
       "      <li>date</li>\n",
       "      </ol>    </li>\n",
       "    </ul>\n",
       "  </li>\n",
       "  </ul>\n",
       "</li>\n",
       "</ul>\n"
      ],
      "text/plain": [
       "Hierarchies()"
      ]
     },
     "execution_count": 22,
     "metadata": {
      "application/json": {
       "expanded": true,
       "root": "Dimensions"
      }
     },
     "output_type": "execute_result"
    }
   ],
   "source": [
    "h"
   ]
  },
  {
   "cell_type": "code",
   "execution_count": 23,
   "metadata": {},
   "outputs": [],
   "source": [
    "m[\"Tweet volume\"] = tt.agg.sum(metrics_store[\"Tweet volume\"])\n",
    "m[\"Retweet total\"] = tt.agg.sum(metrics_store[\"Retweet total\"])\n",
    "m[\"Followers total\"] = tt.agg.sum(metrics_store[\"Followers total\"])\n",
    "m[\"Favorite total\"] = tt.agg.sum(metrics_store[\"Favorite total\"])\n",
    "m[\"Polarity total\"] = tt.agg.sum(metrics_store[\"Polarity total\"])\n",
    "m[\"Negative\"] = tt.agg.sum(metrics_store[\"Negative\"])\n",
    "m[\"Neutral\"] = tt.agg.sum(metrics_store[\"Neutral\"])\n",
    "m[\"Positive\"] = tt.agg.sum(metrics_store[\"Positive\"])"
   ]
  },
  {
   "cell_type": "code",
   "execution_count": 24,
   "metadata": {},
   "outputs": [],
   "source": [
    "m[\"Retweet average\"] = tt.agg.mean(metrics_store[\"Retweet average\"])\n",
    "m[\"Followers average\"] = tt.agg.mean(metrics_store[\"Followers average\"])\n",
    "m[\"Favorite average\"] = tt.agg.mean(metrics_store[\"Favorite average\"])\n",
    "m[\"Polarity average\"] = tt.agg.mean(metrics_store[\"Polarity average\"])\n",
    "\n",
    "m[\"Price\"] = tt.agg.mean(price_store[\"Price\"])\n",
    "m[\"Returns\"] = tt.agg.mean(price_store[\"Returns\"])"
   ]
  },
  {
   "cell_type": "code",
   "execution_count": 25,
   "metadata": {},
   "outputs": [],
   "source": [
    "m[\"Bullish ratio\"] = m[\"Positive\"] / m[\"Negative\"]"
   ]
  },
  {
   "cell_type": "code",
   "execution_count": 26,
   "metadata": {},
   "outputs": [],
   "source": [
    "metrics_folder = \"metrics\"\n",
    "m[\"Tweet volume\"].folder = metrics_folder\n",
    "m[\"Retweet total\"].folder = metrics_folder\n",
    "m[\"Followers total\"].folder = metrics_folder\n",
    "m[\"Favorite total\"].folder = metrics_folder\n",
    "m[\"Polarity total\"].folder = metrics_folder\n",
    "m[\"Negative\"].folder = metrics_folder\n",
    "m[\"Neutral\"].folder = metrics_folder\n",
    "m[\"Positive\"].folder = metrics_folder\n",
    "m[\"Retweet average\"].folder = metrics_folder\n",
    "m[\"Followers average\"].folder = metrics_folder\n",
    "m[\"Favorite average\"].folder = metrics_folder\n",
    "m[\"Polarity average\"].folder = metrics_folder\n",
    "m[\"Price\"].folder = metrics_folder\n",
    "m[\"Returns\"].folder = metrics_folder\n",
    "m[\"Bullish ratio\"].folder = metrics_folder"
   ]
  },
  {
   "cell_type": "code",
   "execution_count": 27,
   "metadata": {},
   "outputs": [],
   "source": [
    "l[\"coin_symbol\"].comparator = tt.comparator.first_members(coins)"
   ]
  },
  {
   "cell_type": "code",
   "execution_count": 28,
   "metadata": {
    "atoti": {
     "state": {
      "name": "Default slicing member ordering updated",
      "type": "container",
      "value": {
       "body": {
        "configuration": {
         "tabular": {
          "addButtonFilter": "numeric",
          "cellRenderers": [
           "tree-layout"
          ],
          "columnOrder": {
           "args": {
            "orderedColumns": [
             "c-treeCells-member",
             "[Measures].[Tweet volume]",
             "[Measures].[Favorite total]",
             "[Measures].[Followers total]",
             "[Measures].[Polarity total]",
             "[Measures].[Retweet total]",
             "[Measures].[Neutral]",
             "[Measures].[Negative]",
             "[Measures].[Positive]",
             "[Measures].[Bullish ratio]"
            ]
           },
           "key": "explicit"
          },
          "columns": [
           {
            "key": "c-treeCells-member",
            "width": 92
           }
          ],
          "columnsGroups": [
           {
            "captionProducer": "firstColumn",
            "cellFactory": "kpi-status",
            "selector": "kpi-status"
           },
           {
            "captionProducer": "firstColumn",
            "cellFactory": "lookup",
            "selector": "lookup"
           },
           {
            "captionProducer": "expiry",
            "cellFactory": "expiry",
            "selector": "kpi-expiry"
           },
           {
            "captionProducer": "columnMerge",
            "cellFactory": {
             "args": {},
             "key": "treeCells"
            },
            "selector": "member"
           }
          ],
          "defaultOptions": {},
          "expansion": {
           "automaticExpansion": true
          },
          "hideAddButton": true,
          "pinnedHeaderSelector": "member",
          "sortingMode": "non-breaking",
          "statisticsShown": true
         }
        },
        "contextValues": {},
        "mdx": "SELECT NON EMPTY {[Measures].[Tweet volume], [Measures].[Favorite total], [Measures].[Followers total], [Measures].[Polarity total], [Measures].[Retweet total], [Measures].[Neutral], [Measures].[Negative], [Measures].[Positive], [Measures].[Bullish ratio]} ON COLUMNS, NON EMPTY [Cryptocurrency].[Coin Symbol].[coin_symbol].Members ON ROWS FROM [Cryptocurrency cube] CELL PROPERTIES VALUE, FORMATTED_VALUE, BACK_COLOR, FORE_COLOR, FONT_FLAGS",
        "ranges": {
         "column": {
          "chunkSize": 50,
          "thresholdPercentage": 0.2
         },
         "row": {
          "chunkSize": 2000,
          "thresholdPercentage": 0.1
         }
        },
        "serverUrl": ""
       },
       "containerKey": "pivot-table",
       "showTitleBar": false,
       "style": {}
      }
     }
    }
   },
   "outputs": [
    {
     "data": {
      "application/vnd.atoti.v0+json": {
       "cellSet": {
        "axes": [
         {
          "hierarchies": [
           {
            "dimension": "Measures",
            "hierarchy": "Measures"
           }
          ],
          "id": 0,
          "positions": [
           [
            {
             "captionPath": [
              "Tweet volume"
             ],
             "namePath": [
              "Tweet volume"
             ],
             "properties": {
              "DISPLAY_INFO": 0
             }
            }
           ],
           [
            {
             "captionPath": [
              "Favorite total"
             ],
             "namePath": [
              "Favorite total"
             ],
             "properties": {
              "DISPLAY_INFO": 0
             }
            }
           ],
           [
            {
             "captionPath": [
              "Followers total"
             ],
             "namePath": [
              "Followers total"
             ],
             "properties": {
              "DISPLAY_INFO": 0
             }
            }
           ],
           [
            {
             "captionPath": [
              "Polarity total"
             ],
             "namePath": [
              "Polarity total"
             ],
             "properties": {
              "DISPLAY_INFO": 0
             }
            }
           ],
           [
            {
             "captionPath": [
              "Retweet total"
             ],
             "namePath": [
              "Retweet total"
             ],
             "properties": {
              "DISPLAY_INFO": 0
             }
            }
           ],
           [
            {
             "captionPath": [
              "Neutral"
             ],
             "namePath": [
              "Neutral"
             ],
             "properties": {
              "DISPLAY_INFO": 0
             }
            }
           ],
           [
            {
             "captionPath": [
              "Negative"
             ],
             "namePath": [
              "Negative"
             ],
             "properties": {
              "DISPLAY_INFO": 0
             }
            }
           ],
           [
            {
             "captionPath": [
              "Positive"
             ],
             "namePath": [
              "Positive"
             ],
             "properties": {
              "DISPLAY_INFO": 0
             }
            }
           ],
           [
            {
             "captionPath": [
              "Bullish ratio"
             ],
             "namePath": [
              "Bullish ratio"
             ],
             "properties": {
              "DISPLAY_INFO": 0
             }
            }
           ]
          ]
         },
         {
          "hierarchies": [
           {
            "dimension": "Cryptocurrency",
            "hierarchy": "Coin Symbol"
           }
          ],
          "id": 1,
          "positions": [
           [
            {
             "captionPath": [
              "BTC"
             ],
             "namePath": [
              "BTC"
             ],
             "properties": {
              "DISPLAY_INFO": 1
             }
            }
           ],
           [
            {
             "captionPath": [
              "ETH"
             ],
             "namePath": [
              "ETH"
             ],
             "properties": {
              "DISPLAY_INFO": 1
             }
            }
           ],
           [
            {
             "captionPath": [
              "XRP"
             ],
             "namePath": [
              "XRP"
             ],
             "properties": {
              "DISPLAY_INFO": 1
             }
            }
           ],
           [
            {
             "captionPath": [
              "USDT"
             ],
             "namePath": [
              "USDT"
             ],
             "properties": {
              "DISPLAY_INFO": 1
             }
            }
           ],
           [
            {
             "captionPath": [
              "BCH"
             ],
             "namePath": [
              "BCH"
             ],
             "properties": {
              "DISPLAY_INFO": 1
             }
            }
           ],
           [
            {
             "captionPath": [
              "ADA"
             ],
             "namePath": [
              "ADA"
             ],
             "properties": {
              "DISPLAY_INFO": 1
             }
            }
           ],
           [
            {
             "captionPath": [
              "BSV"
             ],
             "namePath": [
              "BSV"
             ],
             "properties": {
              "DISPLAY_INFO": 1
             }
            }
           ],
           [
            {
             "captionPath": [
              "LTC"
             ],
             "namePath": [
              "LTC"
             ],
             "properties": {
              "DISPLAY_INFO": 1
             }
            }
           ],
           [
            {
             "captionPath": [
              "LINK"
             ],
             "namePath": [
              "LINK"
             ],
             "properties": {
              "DISPLAY_INFO": 1
             }
            }
           ],
           [
            {
             "captionPath": [
              "BNB"
             ],
             "namePath": [
              "BNB"
             ],
             "properties": {
              "DISPLAY_INFO": 1
             }
            }
           ],
           [
            {
             "captionPath": [
              "EOS"
             ],
             "namePath": [
              "EOS"
             ],
             "properties": {
              "DISPLAY_INFO": 1
             }
            }
           ],
           [
            {
             "captionPath": [
              "TRON"
             ],
             "namePath": [
              "TRON"
             ],
             "properties": {
              "DISPLAY_INFO": 1
             }
            }
           ]
          ]
         }
        ],
        "cells": [
         {
          "formattedValue": "1,499,272.00",
          "ordinal": 0,
          "properties": {
           "BACK_COLOR": null,
           "FONT_FLAGS": 0,
           "FORE_COLOR": null
          },
          "value": 1499272
         },
         {
          "formattedValue": "4,108,758.00",
          "ordinal": 1,
          "properties": {
           "BACK_COLOR": null,
           "FONT_FLAGS": 0,
           "FORE_COLOR": null
          },
          "value": 4108758
         },
         {
          "formattedValue": "5,171,244,032.00",
          "ordinal": 2,
          "properties": {
           "BACK_COLOR": null,
           "FONT_FLAGS": 0,
           "FORE_COLOR": null
          },
          "value": 5171244000
         },
         {
          "formattedValue": "201,604.42",
          "ordinal": 3,
          "properties": {
           "BACK_COLOR": null,
           "FONT_FLAGS": 0,
           "FORE_COLOR": null
          },
          "value": 201604.42
         },
         {
          "formattedValue": "440,212,608.00",
          "ordinal": 4,
          "properties": {
           "BACK_COLOR": null,
           "FONT_FLAGS": 0,
           "FORE_COLOR": null
          },
          "value": 440212608
         },
         {
          "formattedValue": "715,297.00",
          "ordinal": 5,
          "properties": {
           "BACK_COLOR": null,
           "FONT_FLAGS": 0,
           "FORE_COLOR": null
          },
          "value": 715297
         },
         {
          "formattedValue": "160,673.00",
          "ordinal": 6,
          "properties": {
           "BACK_COLOR": null,
           "FONT_FLAGS": 0,
           "FORE_COLOR": null
          },
          "value": 160673
         },
         {
          "formattedValue": "623,302.00",
          "ordinal": 7,
          "properties": {
           "BACK_COLOR": null,
           "FONT_FLAGS": 0,
           "FORE_COLOR": null
          },
          "value": 623302
         },
         {
          "formattedValue": "3.88",
          "ordinal": 8,
          "properties": {
           "BACK_COLOR": null,
           "FONT_FLAGS": 0,
           "FORE_COLOR": null
          },
          "value": 3.8793201
         },
         {
          "formattedValue": "474,641.00",
          "ordinal": 9,
          "properties": {
           "BACK_COLOR": null,
           "FONT_FLAGS": 0,
           "FORE_COLOR": null
          },
          "value": 474641
         },
         {
          "formattedValue": "1,020,542.00",
          "ordinal": 10,
          "properties": {
           "BACK_COLOR": null,
           "FONT_FLAGS": 0,
           "FORE_COLOR": null
          },
          "value": 1020542
         },
         {
          "formattedValue": "1,331,058,688.00",
          "ordinal": 11,
          "properties": {
           "BACK_COLOR": null,
           "FONT_FLAGS": 0,
           "FORE_COLOR": null
          },
          "value": 1331058690
         },
         {
          "formattedValue": "61,064.50",
          "ordinal": 12,
          "properties": {
           "BACK_COLOR": null,
           "FONT_FLAGS": 0,
           "FORE_COLOR": null
          },
          "value": 61064.5
         },
         {
          "formattedValue": "138,385,728.00",
          "ordinal": 13,
          "properties": {
           "BACK_COLOR": null,
           "FONT_FLAGS": 0,
           "FORE_COLOR": null
          },
          "value": 138385728
         },
         {
          "formattedValue": "197,853.00",
          "ordinal": 14,
          "properties": {
           "BACK_COLOR": null,
           "FONT_FLAGS": 0,
           "FORE_COLOR": null
          },
          "value": 197853
         },
         {
          "formattedValue": "36,113.00",
          "ordinal": 15,
          "properties": {
           "BACK_COLOR": null,
           "FONT_FLAGS": 0,
           "FORE_COLOR": null
          },
          "value": 36113
         },
         {
          "formattedValue": "240,675.00",
          "ordinal": 16,
          "properties": {
           "BACK_COLOR": null,
           "FONT_FLAGS": 0,
           "FORE_COLOR": null
          },
          "value": 240675
         },
         {
          "formattedValue": "6.66",
          "ordinal": 17,
          "properties": {
           "BACK_COLOR": null,
           "FONT_FLAGS": 0,
           "FORE_COLOR": null
          },
          "value": 6.6644974
         },
         {
          "formattedValue": "483,418.00",
          "ordinal": 18,
          "properties": {
           "BACK_COLOR": null,
           "FONT_FLAGS": 0,
           "FORE_COLOR": null
          },
          "value": 483418
         },
         {
          "formattedValue": "3,183,985.00",
          "ordinal": 19,
          "properties": {
           "BACK_COLOR": null,
           "FONT_FLAGS": 0,
           "FORE_COLOR": null
          },
          "value": 3183985
         },
         {
          "formattedValue": "1,681,744,640.00",
          "ordinal": 20,
          "properties": {
           "BACK_COLOR": null,
           "FONT_FLAGS": 0,
           "FORE_COLOR": null
          },
          "value": 1681744640
         },
         {
          "formattedValue": "42,004.73",
          "ordinal": 21,
          "properties": {
           "BACK_COLOR": null,
           "FONT_FLAGS": 0,
           "FORE_COLOR": null
          },
          "value": 42004.734
         },
         {
          "formattedValue": "28,245,186.00",
          "ordinal": 22,
          "properties": {
           "BACK_COLOR": null,
           "FONT_FLAGS": 0,
           "FORE_COLOR": null
          },
          "value": 28245186
         },
         {
          "formattedValue": "282,140.00",
          "ordinal": 23,
          "properties": {
           "BACK_COLOR": null,
           "FONT_FLAGS": 0,
           "FORE_COLOR": null
          },
          "value": 282140
         },
         {
          "formattedValue": "44,798.00",
          "ordinal": 24,
          "properties": {
           "BACK_COLOR": null,
           "FONT_FLAGS": 0,
           "FORE_COLOR": null
          },
          "value": 44798
         },
         {
          "formattedValue": "156,480.00",
          "ordinal": 25,
          "properties": {
           "BACK_COLOR": null,
           "FONT_FLAGS": 0,
           "FORE_COLOR": null
          },
          "value": 156480
         },
         {
          "formattedValue": "3.49",
          "ordinal": 26,
          "properties": {
           "BACK_COLOR": null,
           "FONT_FLAGS": 0,
           "FORE_COLOR": null
          },
          "value": 3.4930131
         },
         {
          "formattedValue": "56,035.00",
          "ordinal": 27,
          "properties": {
           "BACK_COLOR": null,
           "FONT_FLAGS": 0,
           "FORE_COLOR": null
          },
          "value": 56035
         },
         {
          "formattedValue": "306,647.00",
          "ordinal": 28,
          "properties": {
           "BACK_COLOR": null,
           "FONT_FLAGS": 0,
           "FORE_COLOR": null
          },
          "value": 306647
         },
         {
          "formattedValue": "644,390,656.00",
          "ordinal": 29,
          "properties": {
           "BACK_COLOR": null,
           "FONT_FLAGS": 0,
           "FORE_COLOR": null
          },
          "value": 644390660
         },
         {
          "formattedValue": "4,479.83",
          "ordinal": 30,
          "properties": {
           "BACK_COLOR": null,
           "FONT_FLAGS": 0,
           "FORE_COLOR": null
          },
          "value": 4479.8257
         },
         {
          "formattedValue": "9,900,630.00",
          "ordinal": 31,
          "properties": {
           "BACK_COLOR": null,
           "FONT_FLAGS": 0,
           "FORE_COLOR": null
          },
          "value": 9900630
         },
         {
          "formattedValue": "32,622.00",
          "ordinal": 32,
          "properties": {
           "BACK_COLOR": null,
           "FONT_FLAGS": 0,
           "FORE_COLOR": null
          },
          "value": 32622
         },
         {
          "formattedValue": "7,947.00",
          "ordinal": 33,
          "properties": {
           "BACK_COLOR": null,
           "FONT_FLAGS": 0,
           "FORE_COLOR": null
          },
          "value": 7947
         },
         {
          "formattedValue": "15,466.00",
          "ordinal": 34,
          "properties": {
           "BACK_COLOR": null,
           "FONT_FLAGS": 0,
           "FORE_COLOR": null
          },
          "value": 15466
         },
         {
          "formattedValue": "1.95",
          "ordinal": 35,
          "properties": {
           "BACK_COLOR": null,
           "FONT_FLAGS": 0,
           "FORE_COLOR": null
          },
          "value": 1.9461432
         },
         {
          "formattedValue": "36,605.00",
          "ordinal": 36,
          "properties": {
           "BACK_COLOR": null,
           "FONT_FLAGS": 0,
           "FORE_COLOR": null
          },
          "value": 36605
         },
         {
          "formattedValue": "75,482.00",
          "ordinal": 37,
          "properties": {
           "BACK_COLOR": null,
           "FONT_FLAGS": 0,
           "FORE_COLOR": null
          },
          "value": 75482
         },
         {
          "formattedValue": "90,229,128.00",
          "ordinal": 38,
          "properties": {
           "BACK_COLOR": null,
           "FONT_FLAGS": 0,
           "FORE_COLOR": null
          },
          "value": 90229128
         },
         {
          "formattedValue": "2,073.05",
          "ordinal": 39,
          "properties": {
           "BACK_COLOR": null,
           "FONT_FLAGS": 0,
           "FORE_COLOR": null
          },
          "value": 2073.052
         },
         {
          "formattedValue": "477,455.00",
          "ordinal": 40,
          "properties": {
           "BACK_COLOR": null,
           "FONT_FLAGS": 0,
           "FORE_COLOR": null
          },
          "value": 477455
         },
         {
          "formattedValue": "25,546.00",
          "ordinal": 41,
          "properties": {
           "BACK_COLOR": null,
           "FONT_FLAGS": 0,
           "FORE_COLOR": null
          },
          "value": 25546
         },
         {
          "formattedValue": "2,310.00",
          "ordinal": 42,
          "properties": {
           "BACK_COLOR": null,
           "FONT_FLAGS": 0,
           "FORE_COLOR": null
          },
          "value": 2310
         },
         {
          "formattedValue": "8,749.00",
          "ordinal": 43,
          "properties": {
           "BACK_COLOR": null,
           "FONT_FLAGS": 0,
           "FORE_COLOR": null
          },
          "value": 8749
         },
         {
          "formattedValue": "3.79",
          "ordinal": 44,
          "properties": {
           "BACK_COLOR": null,
           "FONT_FLAGS": 0,
           "FORE_COLOR": null
          },
          "value": 3.7874458
         },
         {
          "formattedValue": "63,156.00",
          "ordinal": 45,
          "properties": {
           "BACK_COLOR": null,
           "FONT_FLAGS": 0,
           "FORE_COLOR": null
          },
          "value": 63156
         },
         {
          "formattedValue": "355,472.00",
          "ordinal": 46,
          "properties": {
           "BACK_COLOR": null,
           "FONT_FLAGS": 0,
           "FORE_COLOR": null
          },
          "value": 355472
         },
         {
          "formattedValue": "229,080,992.00",
          "ordinal": 47,
          "properties": {
           "BACK_COLOR": null,
           "FONT_FLAGS": 0,
           "FORE_COLOR": null
          },
          "value": 229080992
         },
         {
          "formattedValue": "6,741.02",
          "ordinal": 48,
          "properties": {
           "BACK_COLOR": null,
           "FONT_FLAGS": 0,
           "FORE_COLOR": null
          },
          "value": 6741.0195
         },
         {
          "formattedValue": "400,478.00",
          "ordinal": 49,
          "properties": {
           "BACK_COLOR": null,
           "FONT_FLAGS": 0,
           "FORE_COLOR": null
          },
          "value": 400478
         },
         {
          "formattedValue": "28,626.00",
          "ordinal": 50,
          "properties": {
           "BACK_COLOR": null,
           "FONT_FLAGS": 0,
           "FORE_COLOR": null
          },
          "value": 28626
         },
         {
          "formattedValue": "7,729.00",
          "ordinal": 51,
          "properties": {
           "BACK_COLOR": null,
           "FONT_FLAGS": 0,
           "FORE_COLOR": null
          },
          "value": 7729
         },
         {
          "formattedValue": "26,801.00",
          "ordinal": 52,
          "properties": {
           "BACK_COLOR": null,
           "FONT_FLAGS": 0,
           "FORE_COLOR": null
          },
          "value": 26801
         },
         {
          "formattedValue": "3.47",
          "ordinal": 53,
          "properties": {
           "BACK_COLOR": null,
           "FONT_FLAGS": 0,
           "FORE_COLOR": null
          },
          "value": 3.4675896
         },
         {
          "formattedValue": "58,507.00",
          "ordinal": 54,
          "properties": {
           "BACK_COLOR": null,
           "FONT_FLAGS": 0,
           "FORE_COLOR": null
          },
          "value": 58507
         },
         {
          "formattedValue": "260,845.00",
          "ordinal": 55,
          "properties": {
           "BACK_COLOR": null,
           "FONT_FLAGS": 0,
           "FORE_COLOR": null
          },
          "value": 260845
         },
         {
          "formattedValue": "138,052,992.00",
          "ordinal": 56,
          "properties": {
           "BACK_COLOR": null,
           "FONT_FLAGS": 0,
           "FORE_COLOR": null
          },
          "value": 138052992
         },
         {
          "formattedValue": "6,464.37",
          "ordinal": 57,
          "properties": {
           "BACK_COLOR": null,
           "FONT_FLAGS": 0,
           "FORE_COLOR": null
          },
          "value": 6464.371
         },
         {
          "formattedValue": "17,989,248.00",
          "ordinal": 58,
          "properties": {
           "BACK_COLOR": null,
           "FONT_FLAGS": 0,
           "FORE_COLOR": null
          },
          "value": 17989248
         },
         {
          "formattedValue": "33,025.00",
          "ordinal": 59,
          "properties": {
           "BACK_COLOR": null,
           "FONT_FLAGS": 0,
           "FORE_COLOR": null
          },
          "value": 33025
         },
         {
          "formattedValue": "5,302.00",
          "ordinal": 60,
          "properties": {
           "BACK_COLOR": null,
           "FONT_FLAGS": 0,
           "FORE_COLOR": null
          },
          "value": 5302
         },
         {
          "formattedValue": "20,180.00",
          "ordinal": 61,
          "properties": {
           "BACK_COLOR": null,
           "FONT_FLAGS": 0,
           "FORE_COLOR": null
          },
          "value": 20180
         },
         {
          "formattedValue": "3.81",
          "ordinal": 62,
          "properties": {
           "BACK_COLOR": null,
           "FONT_FLAGS": 0,
           "FORE_COLOR": null
          },
          "value": 3.8061109
         },
         {
          "formattedValue": "91,497.00",
          "ordinal": 63,
          "properties": {
           "BACK_COLOR": null,
           "FONT_FLAGS": 0,
           "FORE_COLOR": null
          },
          "value": 91497
         },
         {
          "formattedValue": "248,720.00",
          "ordinal": 64,
          "properties": {
           "BACK_COLOR": null,
           "FONT_FLAGS": 0,
           "FORE_COLOR": null
          },
          "value": 248720
         },
         {
          "formattedValue": "332,306,336.00",
          "ordinal": 65,
          "properties": {
           "BACK_COLOR": null,
           "FONT_FLAGS": 0,
           "FORE_COLOR": null
          },
          "value": 332306336
         },
         {
          "formattedValue": "6,634.04",
          "ordinal": 66,
          "properties": {
           "BACK_COLOR": null,
           "FONT_FLAGS": 0,
           "FORE_COLOR": null
          },
          "value": 6634.0356
         },
         {
          "formattedValue": "1,039,875.00",
          "ordinal": 67,
          "properties": {
           "BACK_COLOR": null,
           "FONT_FLAGS": 0,
           "FORE_COLOR": null
          },
          "value": 1039875
         },
         {
          "formattedValue": "51,682.00",
          "ordinal": 68,
          "properties": {
           "BACK_COLOR": null,
           "FONT_FLAGS": 0,
           "FORE_COLOR": null
          },
          "value": 51682
         },
         {
          "formattedValue": "8,476.00",
          "ordinal": 69,
          "properties": {
           "BACK_COLOR": null,
           "FONT_FLAGS": 0,
           "FORE_COLOR": null
          },
          "value": 8476
         },
         {
          "formattedValue": "31,339.00",
          "ordinal": 70,
          "properties": {
           "BACK_COLOR": null,
           "FONT_FLAGS": 0,
           "FORE_COLOR": null
          },
          "value": 31339
         },
         {
          "formattedValue": "3.70",
          "ordinal": 71,
          "properties": {
           "BACK_COLOR": null,
           "FONT_FLAGS": 0,
           "FORE_COLOR": null
          },
          "value": 3.6973808
         },
         {
          "formattedValue": "124,073.00",
          "ordinal": 72,
          "properties": {
           "BACK_COLOR": null,
           "FONT_FLAGS": 0,
           "FORE_COLOR": null
          },
          "value": 124073
         },
         {
          "formattedValue": "524,952.00",
          "ordinal": 73,
          "properties": {
           "BACK_COLOR": null,
           "FONT_FLAGS": 0,
           "FORE_COLOR": null
          },
          "value": 524952
         },
         {
          "formattedValue": "525,339,008.00",
          "ordinal": 74,
          "properties": {
           "BACK_COLOR": null,
           "FONT_FLAGS": 0,
           "FORE_COLOR": null
          },
          "value": 525339008
         },
         {
          "formattedValue": "14,443.75",
          "ordinal": 75,
          "properties": {
           "BACK_COLOR": null,
           "FONT_FLAGS": 0,
           "FORE_COLOR": null
          },
          "value": 14443.747
         },
         {
          "formattedValue": "14,257,083.00",
          "ordinal": 76,
          "properties": {
           "BACK_COLOR": null,
           "FONT_FLAGS": 0,
           "FORE_COLOR": null
          },
          "value": 14257083
         },
         {
          "formattedValue": "57,895.00",
          "ordinal": 77,
          "properties": {
           "BACK_COLOR": null,
           "FONT_FLAGS": 0,
           "FORE_COLOR": null
          },
          "value": 57895
         },
         {
          "formattedValue": "16,802.00",
          "ordinal": 78,
          "properties": {
           "BACK_COLOR": null,
           "FONT_FLAGS": 0,
           "FORE_COLOR": null
          },
          "value": 16802
         },
         {
          "formattedValue": "49,376.00",
          "ordinal": 79,
          "properties": {
           "BACK_COLOR": null,
           "FONT_FLAGS": 0,
           "FORE_COLOR": null
          },
          "value": 49376
         },
         {
          "formattedValue": "2.94",
          "ordinal": 80,
          "properties": {
           "BACK_COLOR": null,
           "FONT_FLAGS": 0,
           "FORE_COLOR": null
          },
          "value": 2.9386978
         },
         {
          "formattedValue": "85,780.00",
          "ordinal": 81,
          "properties": {
           "BACK_COLOR": null,
           "FONT_FLAGS": 0,
           "FORE_COLOR": null
          },
          "value": 85780
         },
         {
          "formattedValue": "329,571.00",
          "ordinal": 82,
          "properties": {
           "BACK_COLOR": null,
           "FONT_FLAGS": 0,
           "FORE_COLOR": null
          },
          "value": 329571
         },
         {
          "formattedValue": "474,858,144.00",
          "ordinal": 83,
          "properties": {
           "BACK_COLOR": null,
           "FONT_FLAGS": 0,
           "FORE_COLOR": null
          },
          "value": 474858144
         },
         {
          "formattedValue": "10,958.03",
          "ordinal": 84,
          "properties": {
           "BACK_COLOR": null,
           "FONT_FLAGS": 0,
           "FORE_COLOR": null
          },
          "value": 10958.025
         },
         {
          "formattedValue": "33,317,954.00",
          "ordinal": 85,
          "properties": {
           "BACK_COLOR": null,
           "FONT_FLAGS": 0,
           "FORE_COLOR": null
          },
          "value": 33317954
         },
         {
          "formattedValue": "49,314.00",
          "ordinal": 86,
          "properties": {
           "BACK_COLOR": null,
           "FONT_FLAGS": 0,
           "FORE_COLOR": null
          },
          "value": 49314
         },
         {
          "formattedValue": "4,387.00",
          "ordinal": 87,
          "properties": {
           "BACK_COLOR": null,
           "FONT_FLAGS": 0,
           "FORE_COLOR": null
          },
          "value": 4387
         },
         {
          "formattedValue": "32,079.00",
          "ordinal": 88,
          "properties": {
           "BACK_COLOR": null,
           "FONT_FLAGS": 0,
           "FORE_COLOR": null
          },
          "value": 32079
         },
         {
          "formattedValue": "7.31",
          "ordinal": 89,
          "properties": {
           "BACK_COLOR": null,
           "FONT_FLAGS": 0,
           "FORE_COLOR": null
          },
          "value": 7.3122864
         },
         {
          "formattedValue": "70,621.00",
          "ordinal": 90,
          "properties": {
           "BACK_COLOR": null,
           "FONT_FLAGS": 0,
           "FORE_COLOR": null
          },
          "value": 70621
         },
         {
          "formattedValue": "236,837.00",
          "ordinal": 91,
          "properties": {
           "BACK_COLOR": null,
           "FONT_FLAGS": 0,
           "FORE_COLOR": null
          },
          "value": 236837
         },
         {
          "formattedValue": "312,245,888.00",
          "ordinal": 92,
          "properties": {
           "BACK_COLOR": null,
           "FONT_FLAGS": 0,
           "FORE_COLOR": null
          },
          "value": 312245888
         },
         {
          "formattedValue": "5,391.13",
          "ordinal": 93,
          "properties": {
           "BACK_COLOR": null,
           "FONT_FLAGS": 0,
           "FORE_COLOR": null
          },
          "value": 5391.1313
         },
         {
          "formattedValue": "294,808.00",
          "ordinal": 94,
          "properties": {
           "BACK_COLOR": null,
           "FONT_FLAGS": 0,
           "FORE_COLOR": null
          },
          "value": 294808
         },
         {
          "formattedValue": "44,622.00",
          "ordinal": 95,
          "properties": {
           "BACK_COLOR": null,
           "FONT_FLAGS": 0,
           "FORE_COLOR": null
          },
          "value": 44622
         },
         {
          "formattedValue": "5,406.00",
          "ordinal": 96,
          "properties": {
           "BACK_COLOR": null,
           "FONT_FLAGS": 0,
           "FORE_COLOR": null
          },
          "value": 5406
         },
         {
          "formattedValue": "20,593.00",
          "ordinal": 97,
          "properties": {
           "BACK_COLOR": null,
           "FONT_FLAGS": 0,
           "FORE_COLOR": null
          },
          "value": 20593
         },
         {
          "formattedValue": "3.81",
          "ordinal": 98,
          "properties": {
           "BACK_COLOR": null,
           "FONT_FLAGS": 0,
           "FORE_COLOR": null
          },
          "value": 3.8092859
         },
         {
          "formattedValue": "125,794.00",
          "ordinal": 99,
          "properties": {
           "BACK_COLOR": null,
           "FONT_FLAGS": 0,
           "FORE_COLOR": null
          },
          "value": 125794
         },
         {
          "formattedValue": "1,079,286.00",
          "ordinal": 100,
          "properties": {
           "BACK_COLOR": null,
           "FONT_FLAGS": 0,
           "FORE_COLOR": null
          },
          "value": 1079286
         },
         {
          "formattedValue": "2,267,072,000.00",
          "ordinal": 101,
          "properties": {
           "BACK_COLOR": null,
           "FONT_FLAGS": 0,
           "FORE_COLOR": null
          },
          "value": 2267072000
         },
         {
          "formattedValue": "22,351.29",
          "ordinal": 102,
          "properties": {
           "BACK_COLOR": null,
           "FONT_FLAGS": 0,
           "FORE_COLOR": null
          },
          "value": 22351.293
         },
         {
          "formattedValue": "68,078,816.00",
          "ordinal": 103,
          "properties": {
           "BACK_COLOR": null,
           "FONT_FLAGS": 0,
           "FORE_COLOR": null
          },
          "value": 68078816
         },
         {
          "formattedValue": "49,507.00",
          "ordinal": 104,
          "properties": {
           "BACK_COLOR": null,
           "FONT_FLAGS": 0,
           "FORE_COLOR": null
          },
          "value": 49507
         },
         {
          "formattedValue": "11,659.00",
          "ordinal": 105,
          "properties": {
           "BACK_COLOR": null,
           "FONT_FLAGS": 0,
           "FORE_COLOR": null
          },
          "value": 11659
         },
         {
          "formattedValue": "64,628.00",
          "ordinal": 106,
          "properties": {
           "BACK_COLOR": null,
           "FONT_FLAGS": 0,
           "FORE_COLOR": null
          },
          "value": 64628
         },
         {
          "formattedValue": "5.54",
          "ordinal": 107,
          "properties": {
           "BACK_COLOR": null,
           "FONT_FLAGS": 0,
           "FORE_COLOR": null
          },
          "value": 5.5431857
         }
        ],
        "cube": "Cryptocurrency cube",
        "defaultMembers": [
         {
          "captionPath": [
           "Count"
          ],
          "dimension": "Measures",
          "hierarchy": "Measures",
          "path": [
           "contributors.COUNT"
          ]
         },
         {
          "captionPath": [
           "BTC"
          ],
          "dimension": "Cryptocurrency",
          "hierarchy": "Coin Symbol",
          "path": [
           "BTC"
          ]
         },
         {
          "captionPath": [
           "Base"
          ],
          "dimension": "Epoch",
          "hierarchy": "Epoch",
          "path": [
           "Base"
          ]
         }
        ],
        "epoch": 4
       },
       "cube": "Cryptocurrency cube",
       "error": null,
       "name": "Default slicing member ordering updated",
       "session": "Unnamed"
      },
      "text/html": [
       "<img src=\"data:image/svg+xml;charset=utf8,%3C?xml%20version=%221.0%22%20standalone=%22no%22?%3E%0A%20%20%20%20%3Csvg%20xmlns=%22http://www.w3.org/2000/svg%22%20width=%22951%22%20height=%22360%22%3E%0A%20%20%20%20%20%20%3CforeignObject%20x=%220%22%20y=%220%22%20width=%22100%25%22%20height=%22100%25%22%3E%0A%20%20%20%20%20%20%20%20%3Cstyle%20type=%22text/css%22%3E.css-xsa55j-dock%20%7Bposition:%20relative;%20z-index:%200;%20height:%20100%25;%20background-color:%20rgb(255,%20255,%20255);%20display:%20flex;%20flex-direction:%20column%7D%0A.css-1ibuxvk-DockBody%20%7Bpadding-top:%200px;%20padding-left:%200px;%20padding-right:%200px;%20padding-bottom:%200px;%20flex-grow:%201;%20flex-shrink:%201;%20flex-basis:%200%25;%20box-sizing:%20border-box;%20position:%20relative;%20z-index:%200;%20overflow-x:%20hidden;%20overflow-y:%20hidden%7D%0A.css-14zuz97%20%7Bbackground-image:%20initial;%20background-position-x:%20initial;%20background-position-y:%20initial;%20background-size:%20initial;%20background-repeat-x:%20initial;%20background-repeat-y:%20initial;%20background-attachment:%20initial;%20background-origin:%20initial;%20background-color:%20rgba(0,%200,%200,%200.2);%20z-index:%201;%20box-sizing:%20border-box;%20background-clip:%20padding-box%7D%0A.css-14zuz97.vertical%20%7Bwidth:%2012px;%20margin-top:%200px;%20margin-right:%20-6px;%20margin-bottom:%200px;%20margin-left:%20-6px;%20border-left-width:%205.5px;%20border-left-style:%20solid;%20border-left-color:%20transparent;%20border-right-width:%205.5px;%20border-right-style:%20solid;%20border-right-color:%20transparent;%20cursor:%20col-resize%7D%0A.css-14zuz97.disabled%20%7Bdisplay:%20none%7D%0A.css-1lrljg1-EditorSplitPane%20%7Bbackground-color:%20rgb(255,%20255,%20255);%20flex-grow:%201;%20flex-shrink:%201;%20flex-basis:%200%25;%20margin-right:%200px;%20position:%20relative%7D%0A.css-15fz3t7-EditorSplitPane%20%7Bposition:%20absolute;%20top:%200px;%20bottom:%200px;%20left:%200px;%20right:%200px;%20display:%20flex;%20flex-direction:%20column%7D%0A.css-1k1fxuh-Tabular%20%7Bwidth:%20100%25;%20height:%20100%25;%20position:%20relative%7D%0A.css-10klw3m%20%7Bheight:%20100%25%7D%0A.css-mdjjdg-TabularHeader%20%7Bdisplay:%20flex%7D%0A.css-12nzxaz-PinnedTabularHeaders%20%7Bflex-shrink:%200;%20display:%20flex%7D%0A.css-s4fjko-TabularPinnSeparator%20%7Bwidth:%202px;%20height:%2028px;%20background-color:%20rgb(233,%20233,%20233)%7D%0A.css-5jtkjp-UnpinnedTabularHeaders%20%7Bdisplay:%20flex;%20position:%20absolute;%20left:%200px%7D%0A.css-1g5aocc-TabularHeaderGroup%20%7Bposition:%20relative;%20width:%2092px%7D%0A.css-13jlh7m%20%7Bcolor:%20rgba(0,%200,%200,%200.85);%20display:%20flex;%20box-sizing:%20border-box;%20-webkit-box-align:%20center;%20align-items:%20center;%20height:%2028px;%20position:%20absolute;%20top:%200px;%20left:%200px;%20user-select:%20none;%20font-size:%2012px;%20line-height:%2022px;%20font-weight:%20600;%20border-bottom-width:%202px;%20border-bottom-style:%20solid;%20border-bottom-color:%20rgb(233,%20233,%20233);%20width:%2092px;%20border-right-width:%201px;%20border-right-style:%20solid;%20border-right-color:%20rgb(233,%20233,%20233)%7D%0A.css-19w2ip5-TabularHeaderCell%20%7Bcursor:%20default;%20-webkit-box-flex:%201;%20flex-grow:%201;%20flex-shrink:%201;%20box-sizing:%20border-box;%20padding-left:%204px;%20padding-right:%204px;%20padding-top:%204px;%20padding-bottom:%204px;%20height:%20100%25;%20overflow-x:%20hidden;%20overflow-y:%20hidden;%20display:%20flex;%20white-space:%20nowrap;%20-webkit-box-pack:%20start;%20justify-content:%20flex-start;%20align-items:%20flex-start%7D%0A.css-jpazdc-TabularHeaderCell%20%7Boverflow-x:%20hidden;%20overflow-y:%20hidden;%20text-overflow:%20ellipsis%7D%0A.css-y3oqqp%20%7Bfont-size:%2012px;%20line-height:%2022px;%20font-weight:%20600;%20color:%20rgba(0,%200,%200,%200.85)%7D%0A.css-fnt84o%20%7Bfont-size:%2012px;%20line-height:%2022px;%20font-weight:%20600;%20color:%20rgba(0,%200,%200,%200.21)%7D%0A.css-c7y3a7-TabularHeaderCell%20%7Bflex-shrink:%200;%20height:%20100%25;%20display:%20flex;%20-webkit-box-pack:%20center;%20justify-content:%20center%7D%0A.css-86eitb-HeaderResizer%20%7Bposition:%20absolute;%20z-index:%201;%20width:%2010px;%20height:%2028px;%20left:%2087px;%20top:%200px;%20cursor:%20col-resize%7D%0A.css-1bbh5m5-HeaderResizer%20%7Bposition:%20absolute;%20z-index:%201;%20height:%2010px;%20width:%2092px;%20left:%200px;%20top:%2023px;%20cursor:%20row-resize%7D%0A.css-1id6sm3-UnpinnedTabularRows%20%7Bposition:%20absolute;%20top:%200px;%20left:%200px%7D%0A.css-3cge9w%20%7Bcursor:%20cell;%20display:%20flex;%20height:%2028px;%20user-select:%20none%7D%0A.css-xui6tw%20%7Bheight:%20100%25;%20box-sizing:%20border-box;%20display:%20flex;%20-webkit-box-pack:%20end;%20justify-content:%20flex-end;%20flex-direction:%20column;%20padding-top:%204px;%20padding-left:%204px;%20padding-right:%204px;%20padding-bottom:%203px;%20overflow-x:%20hidden;%20overflow-y:%20hidden;%20white-space:%20nowrap;%20border-right-width:%201px;%20border-right-style:%20solid;%20border-right-color:%20rgb(233,%20233,%20233);%20border-bottom-width:%20initial;%20border-bottom-style:%20none;%20border-bottom-color:%20initial;%20width:%2092px;%20align-items:%20flex-start;%20background-color:%20rgb(250,%20250,%20250)%7D%0A.css-9ssj44-TreeCell%20%7Bwidth:%20min-content%7D%0A.css-mkrhzq%20%7Bdisplay:%20flex;%20margin-left:%200px%7D%0A.css-1i6gc04%20%7Bcursor:%20pointer;%20margin-top:%202px;%20height:%20inherit;%20display:%20flex;%20-webkit-box-align:%20center;%20align-items:%20center;%20font-size:%2010px;%20width:%2016px%7D%0A.css-8uhtka%20%7Boverflow-x:%20hidden;%20overflow-y:%20hidden;%20text-overflow:%20ellipsis;%20white-space:%20nowrap%7D%0A.css-1ouk3zc-EditorSplitPane%20%7Bbackground-color:%20rgb(255,%20255,%20255);%20flex-grow:%201;%20flex-shrink:%201;%20flex-basis:%200%25%7D%0A.css-1jjvrwi-EditorSplitPane%20%7Bposition:%20absolute;%20top:%200px;%20bottom:%200px;%20left:%200px;%20right:%200px;%20overflow-y:%20auto%7D%0A.css-1q63qjm%20%7Bcolor:%20rgba(0,%200,%200,%200.85);%20display:%20flex;%20box-sizing:%20border-box;%20-webkit-box-align:%20center;%20align-items:%20center;%20height:%2028px;%20position:%20absolute;%20top:%200px;%20left:%200px;%20user-select:%20none;%20font-size:%2012px;%20line-height:%2022px;%20font-weight:%20600;%20border-bottom-width:%202px;%20border-bottom-style:%20solid;%20border-bottom-color:%20rgb(233,%20233,%20233);%20width:%20120px%7D%0A.css-pm742e%20%7Bcursor:%20pointer;%20margin-top:%202px;%20height:%20inherit;%20display:%20flex;%20-webkit-box-align:%20center;%20align-items:%20center;%20font-size:%2010px;%20-webkit-box-pack:%20center;%20justify-content:%20center;%20padding-left:%204px%7D%0A.css-w64vkb-HeaderResizer%20%7Bposition:%20absolute;%20z-index:%201;%20width:%2010px;%20height:%2028px;%20left:%20115px;%20top:%200px;%20cursor:%20col-resize%7D%0A.css-tlxtaa-HeaderResizer%20%7Bposition:%20absolute;%20z-index:%201;%20height:%2010px;%20width:%20120px;%20left:%200px;%20top:%2023px;%20cursor:%20row-resize%7D%0A.css-lp3bnm%20%7Bcolor:%20rgba(0,%200,%200,%200.85);%20display:%20flex;%20box-sizing:%20border-box;%20-webkit-box-align:%20center;%20align-items:%20center;%20height:%2028px;%20position:%20absolute;%20top:%200px;%20left:%20120px;%20user-select:%20none;%20font-size:%2012px;%20line-height:%2022px;%20font-weight:%20600;%20border-bottom-width:%202px;%20border-bottom-style:%20solid;%20border-bottom-color:%20rgb(233,%20233,%20233);%20width:%20120px%7D%0A.css-y4zo4n-HeaderResizer%20%7Bposition:%20absolute;%20z-index:%201;%20width:%2010px;%20height:%2028px;%20left:%20235px;%20top:%200px;%20cursor:%20col-resize%7D%0A.css-8latmz-HeaderResizer%20%7Bposition:%20absolute;%20z-index:%201;%20height:%2010px;%20width:%20120px;%20left:%20120px;%20top:%2023px;%20cursor:%20row-resize%7D%0A.css-ihk5f%20%7Bcolor:%20rgba(0,%200,%200,%200.85);%20display:%20flex;%20box-sizing:%20border-box;%20-webkit-box-align:%20center;%20align-items:%20center;%20height:%2028px;%20position:%20absolute;%20top:%200px;%20left:%20240px;%20user-select:%20none;%20font-size:%2012px;%20line-height:%2022px;%20font-weight:%20600;%20border-bottom-width:%202px;%20border-bottom-style:%20solid;%20border-bottom-color:%20rgb(233,%20233,%20233);%20width:%20120px%7D%0A.css-x77esk-HeaderResizer%20%7Bposition:%20absolute;%20z-index:%201;%20width:%2010px;%20height:%2028px;%20left:%20355px;%20top:%200px;%20cursor:%20col-resize%7D%0A.css-qpzagx-HeaderResizer%20%7Bposition:%20absolute;%20z-index:%201;%20height:%2010px;%20width:%20120px;%20left:%20240px;%20top:%2023px;%20cursor:%20row-resize%7D%0A.css-cmy2cz%20%7Bcolor:%20rgba(0,%200,%200,%200.85);%20display:%20flex;%20box-sizing:%20border-box;%20-webkit-box-align:%20center;%20align-items:%20center;%20height:%2028px;%20position:%20absolute;%20top:%200px;%20left:%20360px;%20user-select:%20none;%20font-size:%2012px;%20line-height:%2022px;%20font-weight:%20600;%20border-bottom-width:%202px;%20border-bottom-style:%20solid;%20border-bottom-color:%20rgb(233,%20233,%20233);%20width:%20120px%7D%0A.css-1176us6-HeaderResizer%20%7Bposition:%20absolute;%20z-index:%201;%20width:%2010px;%20height:%2028px;%20left:%20475px;%20top:%200px;%20cursor:%20col-resize%7D%0A.css-1v86l1l-HeaderResizer%20%7Bposition:%20absolute;%20z-index:%201;%20height:%2010px;%20width:%20120px;%20left:%20360px;%20top:%2023px;%20cursor:%20row-resize%7D%0A.css-udcxel%20%7Bcolor:%20rgba(0,%200,%200,%200.85);%20display:%20flex;%20box-sizing:%20border-box;%20-webkit-box-align:%20center;%20align-items:%20center;%20height:%2028px;%20position:%20absolute;%20top:%200px;%20left:%20480px;%20user-select:%20none;%20font-size:%2012px;%20line-height:%2022px;%20font-weight:%20600;%20border-bottom-width:%202px;%20border-bottom-style:%20solid;%20border-bottom-color:%20rgb(233,%20233,%20233);%20width:%20120px%7D%0A.css-rnpdgr-HeaderResizer%20%7Bposition:%20absolute;%20z-index:%201;%20width:%2010px;%20height:%2028px;%20left:%20595px;%20top:%200px;%20cursor:%20col-resize%7D%0A.css-vqbc0g-HeaderResizer%20%7Bposition:%20absolute;%20z-index:%201;%20height:%2010px;%20width:%20120px;%20left:%20480px;%20top:%2023px;%20cursor:%20row-resize%7D%0A.css-cv1unw%20%7Bcolor:%20rgba(0,%200,%200,%200.85);%20display:%20flex;%20box-sizing:%20border-box;%20-webkit-box-align:%20center;%20align-items:%20center;%20height:%2028px;%20position:%20absolute;%20top:%200px;%20left:%20600px;%20user-select:%20none;%20font-size:%2012px;%20line-height:%2022px;%20font-weight:%20600;%20border-bottom-width:%202px;%20border-bottom-style:%20solid;%20border-bottom-color:%20rgb(233,%20233,%20233);%20width:%20120px%7D%0A.css-1h52zvk-HeaderResizer%20%7Bposition:%20absolute;%20z-index:%201;%20width:%2010px;%20height:%2028px;%20left:%20715px;%20top:%200px;%20cursor:%20col-resize%7D%0A.css-15y4bts-HeaderResizer%20%7Bposition:%20absolute;%20z-index:%201;%20height:%2010px;%20width:%20120px;%20left:%20600px;%20top:%2023px;%20cursor:%20row-resize%7D%0A.css-cox98l%20%7Bcolor:%20rgba(0,%200,%200,%200.85);%20display:%20flex;%20box-sizing:%20border-box;%20-webkit-box-align:%20center;%20align-items:%20center;%20height:%2028px;%20position:%20absolute;%20top:%200px;%20left:%20720px;%20user-select:%20none;%20font-size:%2012px;%20line-height:%2022px;%20font-weight:%20600;%20border-bottom-width:%202px;%20border-bottom-style:%20solid;%20border-bottom-color:%20rgb(233,%20233,%20233);%20width:%20120px%7D%0A.css-8yux8h-HeaderResizer%20%7Bposition:%20absolute;%20z-index:%201;%20width:%2010px;%20height:%2028px;%20left:%20835px;%20top:%200px;%20cursor:%20col-resize%7D%0A.css-d7noc3-HeaderResizer%20%7Bposition:%20absolute;%20z-index:%201;%20height:%2010px;%20width:%20120px;%20left:%20720px;%20top:%2023px;%20cursor:%20row-resize%7D%0A.css-1tb270e-HeaderResizer%20%7Bposition:%20absolute;%20z-index:%201;%20width:%2010px;%20height:%2028px;%20left:%20955px;%20top:%200px;%20cursor:%20col-resize%7D%0A.css-mbhbbd-HeaderResizer%20%7Bposition:%20absolute;%20z-index:%201;%20height:%2010px;%20width:%20120px;%20left:%20840px;%20top:%2023px;%20cursor:%20row-resize%7D%0A.css-2rnmmt-PinnedTabularRows%20%7Bposition:%20absolute;%20overflow-x:%20hidden;%20overflow-y:%20hidden;%20top:%200px;%20width:%2092px%7D%0A.css-1h93ap%20%7Bheight:%20100%25;%20box-sizing:%20border-box;%20display:%20flex;%20-webkit-box-pack:%20end;%20justify-content:%20flex-end;%20flex-direction:%20column;%20padding-top:%204px;%20padding-left:%204px;%20padding-right:%204px;%20padding-bottom:%203px;%20overflow-x:%20hidden;%20overflow-y:%20hidden;%20white-space:%20nowrap;%20border-right-width:%201px;%20border-right-style:%20solid;%20border-right-color:%20rgb(233,%20233,%20233);%20border-bottom-width:%20initial;%20border-bottom-style:%20none;%20border-bottom-color:%20initial;%20width:%2092px;%20align-items:%20flex-start%7D%0A.css-1pdhihc%20%7Bheight:%20100%25;%20box-sizing:%20border-box;%20display:%20flex;%20-webkit-box-pack:%20end;%20justify-content:%20flex-end;%20flex-direction:%20column;%20padding-top:%204px;%20padding-left:%204px;%20padding-right:%204px;%20padding-bottom:%203px;%20overflow-x:%20hidden;%20overflow-y:%20hidden;%20white-space:%20nowrap;%20border-right-width:%201px;%20border-right-style:%20solid;%20border-right-color:%20rgb(233,%20233,%20233);%20border-bottom-width:%201px;%20border-bottom-style:%20solid;%20border-bottom-color:%20rgb(233,%20233,%20233);%20width:%2092px;%20align-items:%20flex-start%7D%0A.css-8r2ljj-PinnedTabularRows%20%7Bposition:%20absolute;%20right:%200px%7D%0A.css-wvyx8h-PinnedTabularRows%20%7Bwidth:%202px;%20height:%20336px;%20background-color:%20rgb(233,%20233,%20233)%7D%0A.css-1hcmypl-TabularCell%20%7Bheight:%2028px;%20box-sizing:%20border-box;%20display:%20flex;%20-webkit-box-pack:%20end;%20justify-content:%20flex-end;%20flex-direction:%20column;%20padding-top:%204px;%20padding-left:%204px;%20padding-right:%204px;%20padding-bottom:%203px;%20overflow-x:%20hidden;%20overflow-y:%20hidden;%20white-space:%20nowrap;%20border-right-width:%201px;%20border-right-style:%20solid;%20border-right-color:%20rgb(233,%20233,%20233);%20border-bottom-width:%20initial;%20border-bottom-style:%20none;%20border-bottom-color:%20initial;%20width:%20120px;%20background-color:%20rgb(250,%20250,%20250);%20cursor:%20cell;%20user-select:%20none;%20text-align:%20right;%20align-items:%20flex-end%7D%0A.css-mkoicc-CaptionCellRenderer%20%7Bwidth:%20100%25;%20overflow-x:%20hidden;%20overflow-y:%20hidden;%20text-overflow:%20ellipsis;%20white-space:%20nowrap%7D%0A.css-qazlap-TabularCell%20%7Bheight:%2028px;%20box-sizing:%20border-box;%20display:%20flex;%20-webkit-box-pack:%20end;%20justify-content:%20flex-end;%20flex-direction:%20column;%20padding-top:%204px;%20padding-left:%204px;%20padding-right:%204px;%20padding-bottom:%203px;%20overflow-x:%20hidden;%20overflow-y:%20hidden;%20white-space:%20nowrap;%20border-right-width:%201px;%20border-right-style:%20solid;%20border-right-color:%20rgb(233,%20233,%20233);%20border-bottom-width:%20initial;%20border-bottom-style:%20none;%20border-bottom-color:%20initial;%20width:%20120px;%20cursor:%20cell;%20user-select:%20none;%20text-align:%20right;%20align-items:%20flex-end%7D%0A.css-13vtqji-TabularCell%20%7Bheight:%2028px;%20box-sizing:%20border-box;%20display:%20flex;%20-webkit-box-pack:%20end;%20justify-content:%20flex-end;%20flex-direction:%20column;%20padding-top:%204px;%20padding-left:%204px;%20padding-right:%204px;%20padding-bottom:%203px;%20overflow-x:%20hidden;%20overflow-y:%20hidden;%20white-space:%20nowrap;%20border-right-width:%201px;%20border-right-style:%20solid;%20border-right-color:%20rgb(233,%20233,%20233);%20border-bottom-width:%201px;%20border-bottom-style:%20solid;%20border-bottom-color:%20rgb(233,%20233,%20233);%20width:%20120px;%20cursor:%20cell;%20user-select:%20none;%20text-align:%20right;%20align-items:%20flex-end%7D%0A.css-t881dv-SelectionStatistics%20%7Bheight:%2020px;%20display:%20flex;%20padding-top:%205px;%20opacity:%200;%20transition-duration:%20300ms;%20transition-timing-function:%20ease;%20transition-delay:%200s;%20transition-property:%20opacity;%20position:%20absolute;%20right:%200px;%20left:%20unset%7D%0A.css-antdon-PinnedTabularRows%20%7Bposition:%20absolute;%20height:%20312px;%20width:%2094px;%20overflow-x:%20hidden;%20overflow-y:%20hidden%7D%0A.css-1ged4iv-TabularHeaderGroup%20%7Bposition:%20relative;%20width:%20960px%7D%0A.css-1uohhdt%20%7Bcolor:%20rgba(0,%200,%200,%200.85);%20display:%20flex;%20box-sizing:%20border-box;%20-webkit-box-align:%20center;%20align-items:%20center;%20height:%2028px;%20position:%20absolute;%20top:%200px;%20left:%20840px;%20user-select:%20none;%20font-size:%2012px;%20line-height:%2022px;%20font-weight:%20600;%20border-bottom-width:%202px;%20border-bottom-style:%20solid;%20border-bottom-color:%20rgb(233,%20233,%20233);%20width:%20120px;%20border-right-width:%201px;%20border-right-style:%20solid;%20border-right-color:%20rgb(233,%20233,%20233)%7D%0A.css-qoln2f%20%7Bheight:%20295px;%20overflow-y:%20auto;%20overflow-x:%20hidden;%20z-index:%201%7D%0A.css-17nh67w%20%7Bwidth:%201080px;%20height:%201px%7D%0A.css-1g4nfkl-Tabular%20%7Bposition:%20relative;%20height:%20100%25;%20width:%20951px%7D%0A.css-aznnk4-UnpinnedTabularHeaders%20%7Boverflow-x:%20hidden;%20overflow-y:%20hidden;%20position:%20relative;%20width:%20859px;%20height:%2028px%7D%0A.css-scqp8n-TabularBody%20%7Bposition:%20relative;%20overflow-x:%20hidden;%20overflow-y:%20hidden;%20top:%200px;%20width:%20951px;%20height:%20312px%7D%0A.css-kdpqru-UnpinnedTabularRows%20%7Bposition:%20absolute;%20overflow-x:%20hidden;%20overflow-y:%20hidden;%20left:%2094px;%20height:%20295px;%20width:%20840px%7D%0A.css-1wwcy4f%20%7Bwidth:%20842px;%20left:%2094px;%20position:%20absolute;%20bottom:%200px;%20overflow-x:%20auto;%20overflow-y:%20hidden;%20z-index:%201%7D%0A.css-1p4en1r%20%7Bheight:%203540px;%20width:%201px%7D%0A.ant-root%20html,%20.ant-root%20%7Bwidth:%20100%25;%20height:%20100%25%7D%0A.ant-root%20*,%20.ant-root%20::before,%20.ant-root%20::after%20%7Bbox-sizing:%20border-box%7D%0A.ant-root%20%7Bmargin-top:%200px;%20margin-right:%200px;%20margin-bottom:%200px;%20margin-left:%200px;%20color:%20rgba(0,%200,%200,%200.65);%20font-size:%2014px;%20font-family:%20-apple-system,%20BlinkMacSystemFont,%20%22Segoe%20UI%22,%20%22PingFang%20SC%22,%20%22Hiragino%20Sans%20GB%22,%20%22Microsoft%20YaHei%22,%20%22Helvetica%20Neue%22,%20Helvetica,%20Arial,%20sans-serif,%20%22Apple%20Color%20Emoji%22,%20%22Segoe%20UI%20Emoji%22,%20%22Segoe%20UI%20Symbol%22;%20font-variant-ligatures:%20normal;%20font-variant-numeric:%20tabular-nums;%20font-variant-east-asian:%20normal;%20font-variant-caps:%20normal;%20line-height:%201.5;%20background-color:%20rgb(255,%20255,%20255);%20font-feature-settings:%20%22tnum%22;%20--antd-wave-shadow-color:%20undefined%7D%0A.ant-root%20.anticon%20%7Bdisplay:%20inline-block;%20color:%20inherit;%20font-style:%20normal;%20line-height:%200;%20text-align:%20center;%20text-transform:%20none;%20vertical-align:%20-0.125em;%20text-rendering:%20optimizelegibility;%20-webkit-font-smoothing:%20antialiased%7D%0A.ant-root%20.ant-typography%20%7Bcolor:%20rgba(0,%200,%200,%200.65)%7D%0A.css-16andgf%20%7Bheight:%20100%25%7D%0A.css-16andgf%20.ant-root:not(.atoti-widget-chooser)%20%7Bbox-shadow:%20none%7D%3C/style%3E%0A%20%20%20%20%20%20%20%20%3Cdiv%20xmlns=%22http://www.w3.org/1999/xhtml%22%20style=%22height:%20360px;%20width:%20951px%22%3E%0A%20%20%20%20%20%20%20%20%20%20%3Cdiv%20xmlns=%22http://www.w3.org/1999/xhtml%22%20class=%22css-16andgf%22%3E%3Cdiv%20class=%22ant-root%20css-xsa55j-dock%22%3E%3Cdiv%20class=%22css-1ibuxvk-DockBody%22%3E%3Cdiv%20class=%22SplitPane%20%20vertical%20disabled%22%20style=%22display:%20flex;%20flex:%201%201%200%25;%20height:%20100%25;%20position:%20relative;%20outline:%20none;%20overflow:%20hidden;%20user-select:%20text;%20flex-direction:%20row;%20left:%200px;%20right:%200px;%22%3E%3Cdiv%20class=%22Pane%20vertical%20Pane1%20%20%22%20style=%22flex:%201%201%200%25;%20position:%20relative;%20outline:%20none;%20display:%20flex;%20background-color:%20rgb(255,%20255,%20255);%22%3E%3Cdiv%20class=%22css-1lrljg1-EditorSplitPane%22%3E%3Cdiv%20class=%22css-15fz3t7-EditorSplitPane%22%3E%3Cdiv%20class=%22css-1k1fxuh-Tabular%22%3E%3Cdiv%20class=%22css-10klw3m%22%3E%3Cdiv%20tabindex=%220%22%20class=%22css-1g4nfkl-Tabular%22%3E%3Cdiv%20class=%22css-192kvjv-Tabular%22%3E%3Cdiv%20class=%22css-mdjjdg-TabularHeader%22%3E%3Cdiv%20class=%22css-12nzxaz-PinnedTabularHeaders%22%3E%3Cdiv%20class=%22css-1g5aocc-TabularHeaderGroup%22%3E%3Cdiv%20class=%22css-13jlh7m%22%3E%3Cdiv%20class=%22css-19w2ip5-TabularHeaderCell%22%3E%3Cspan%20class=%22css-jpazdc-TabularHeaderCell%22%3E%3Cspan%3E%3Cspan%3E%3Cspan%20class=%22css-y3oqqp%22%3Ecoin_symbol%3C/span%3E%3Cspan%20class=%22css-fnt84o%22%3E%20/%20currency_name%3C/span%3E%3C/span%3E%3C/span%3E%3C/span%3E%3C/div%3E%3Cdiv%20class=%22css-c7y3a7-TabularHeaderCell%22%3E%3C/div%3E%3C/div%3E%3Cdiv%20class=%22css-86eitb-HeaderResizer%22%3E%3C/div%3E%3Cdiv%20class=%22css-1bbh5m5-HeaderResizer%22%3E%3C/div%3E%3C/div%3E%3Cdiv%20class=%22css-s4fjko-TabularPinnSeparator%22%3E%3C/div%3E%3C/div%3E%3Cdiv%20class=%22css-aznnk4-UnpinnedTabularHeaders%22%3E%3Cdiv%20class=%22css-5jtkjp-UnpinnedTabularHeaders%22%3E%3Cdiv%20class=%22css-1ged4iv-TabularHeaderGroup%22%3E%3Cdiv%20class=%22css-1q63qjm%22%3E%3Cdiv%20class=%22css-pm742e%22%3E%3C/div%3E%3Cdiv%20class=%22css-19w2ip5-TabularHeaderCell%22%3E%3Cspan%20class=%22css-jpazdc-TabularHeaderCell%22%3E%3Cspan%3ETweet%20volume%3C/span%3E%3C/span%3E%3C/div%3E%3Cdiv%20class=%22css-c7y3a7-TabularHeaderCell%22%3E%3C/div%3E%3C/div%3E%3Cdiv%20class=%22css-w64vkb-HeaderResizer%22%3E%3C/div%3E%3Cdiv%20class=%22css-tlxtaa-HeaderResizer%22%3E%3C/div%3E%3Cdiv%20class=%22css-lp3bnm%22%3E%3Cdiv%20class=%22css-pm742e%22%3E%3C/div%3E%3Cdiv%20class=%22css-19w2ip5-TabularHeaderCell%22%3E%3Cspan%20class=%22css-jpazdc-TabularHeaderCell%22%3E%3Cspan%3EFavorite%20total%3C/span%3E%3C/span%3E%3C/div%3E%3Cdiv%20class=%22css-c7y3a7-TabularHeaderCell%22%3E%3C/div%3E%3C/div%3E%3Cdiv%20class=%22css-y4zo4n-HeaderResizer%22%3E%3C/div%3E%3Cdiv%20class=%22css-8latmz-HeaderResizer%22%3E%3C/div%3E%3Cdiv%20class=%22css-ihk5f%22%3E%3Cdiv%20class=%22css-pm742e%22%3E%3C/div%3E%3Cdiv%20class=%22css-19w2ip5-TabularHeaderCell%22%3E%3Cspan%20class=%22css-jpazdc-TabularHeaderCell%22%3E%3Cspan%3EFollowers%20total%3C/span%3E%3C/span%3E%3C/div%3E%3Cdiv%20class=%22css-c7y3a7-TabularHeaderCell%22%3E%3C/div%3E%3C/div%3E%3Cdiv%20class=%22css-x77esk-HeaderResizer%22%3E%3C/div%3E%3Cdiv%20class=%22css-qpzagx-HeaderResizer%22%3E%3C/div%3E%3Cdiv%20class=%22css-cmy2cz%22%3E%3Cdiv%20class=%22css-pm742e%22%3E%3C/div%3E%3Cdiv%20class=%22css-19w2ip5-TabularHeaderCell%22%3E%3Cspan%20class=%22css-jpazdc-TabularHeaderCell%22%3E%3Cspan%3EPolarity%20total%3C/span%3E%3C/span%3E%3C/div%3E%3Cdiv%20class=%22css-c7y3a7-TabularHeaderCell%22%3E%3C/div%3E%3C/div%3E%3Cdiv%20class=%22css-1176us6-HeaderResizer%22%3E%3C/div%3E%3Cdiv%20class=%22css-1v86l1l-HeaderResizer%22%3E%3C/div%3E%3Cdiv%20class=%22css-udcxel%22%3E%3Cdiv%20class=%22css-pm742e%22%3E%3C/div%3E%3Cdiv%20class=%22css-19w2ip5-TabularHeaderCell%22%3E%3Cspan%20class=%22css-jpazdc-TabularHeaderCell%22%3E%3Cspan%3ERetweet%20total%3C/span%3E%3C/span%3E%3C/div%3E%3Cdiv%20class=%22css-c7y3a7-TabularHeaderCell%22%3E%3C/div%3E%3C/div%3E%3Cdiv%20class=%22css-rnpdgr-HeaderResizer%22%3E%3C/div%3E%3Cdiv%20class=%22css-vqbc0g-HeaderResizer%22%3E%3C/div%3E%3Cdiv%20class=%22css-cv1unw%22%3E%3Cdiv%20class=%22css-pm742e%22%3E%3C/div%3E%3Cdiv%20class=%22css-19w2ip5-TabularHeaderCell%22%3E%3Cspan%20class=%22css-jpazdc-TabularHeaderCell%22%3E%3Cspan%3ENeutral%3C/span%3E%3C/span%3E%3C/div%3E%3Cdiv%20class=%22css-c7y3a7-TabularHeaderCell%22%3E%3C/div%3E%3C/div%3E%3Cdiv%20class=%22css-1h52zvk-HeaderResizer%22%3E%3C/div%3E%3Cdiv%20class=%22css-15y4bts-HeaderResizer%22%3E%3C/div%3E%3Cdiv%20class=%22css-cox98l%22%3E%3Cdiv%20class=%22css-pm742e%22%3E%3C/div%3E%3Cdiv%20class=%22css-19w2ip5-TabularHeaderCell%22%3E%3Cspan%20class=%22css-jpazdc-TabularHeaderCell%22%3E%3Cspan%3ENegative%3C/span%3E%3C/span%3E%3C/div%3E%3Cdiv%20class=%22css-c7y3a7-TabularHeaderCell%22%3E%3C/div%3E%3C/div%3E%3Cdiv%20class=%22css-8yux8h-HeaderResizer%22%3E%3C/div%3E%3Cdiv%20class=%22css-d7noc3-HeaderResizer%22%3E%3C/div%3E%3Cdiv%20class=%22css-1uohhdt%22%3E%3Cdiv%20class=%22css-pm742e%22%3E%3C/div%3E%3Cdiv%20class=%22css-19w2ip5-TabularHeaderCell%22%3E%3Cspan%20class=%22css-jpazdc-TabularHeaderCell%22%3E%3Cspan%3EPositive%3C/span%3E%3C/span%3E%3C/div%3E%3Cdiv%20class=%22css-c7y3a7-TabularHeaderCell%22%3E%3C/div%3E%3C/div%3E%3Cdiv%20class=%22css-1tb270e-HeaderResizer%22%3E%3C/div%3E%3Cdiv%20class=%22css-mbhbbd-HeaderResizer%22%3E%3C/div%3E%3C/div%3E%3C/div%3E%3C/div%3E%3C/div%3E%3Cdiv%20class=%22css-scqp8n-TabularBody%22%3E%3Cdiv%20class=%22css-antdon-PinnedTabularRows%22%3E%3Cdiv%20class=%22css-2rnmmt-PinnedTabularRows%22%3E%3Cdiv%20class=%22css-3cge9w%22%3E%3Cdiv%3E%3Cdiv%20class=%22css-xui6tw%22%3E%3Cdiv%20class=%22css-9ssj44-TreeCell%22%3E%3Cdiv%20class=%22css-mkrhzq%22%3E%3Cdiv%20class=%22css-1i6gc04%22%3E%3Ci%20aria-label=%22icon:%20right%22%20width=%221em%22%20height=%221em%22%20class=%22anticon%20anticon-right%22%3E%3C/i%3E%3C/div%3E%3Cspan%20class=%22ant-typography%20css-8uhtka%22%20style=%22font-size:%2012px;%20line-height:%2020px;%20font-weight:%20600;%20color:%20rgba(0,%200,%200,%200.85);%22%3EBTC%3C/span%3E%3C/div%3E%3C/div%3E%3C/div%3E%3C/div%3E%3C/div%3E%3Cdiv%20class=%22css-3cge9w%22%3E%3Cdiv%3E%3Cdiv%20class=%22css-1h93ap%22%3E%3Cdiv%20class=%22css-9ssj44-TreeCell%22%3E%3Cdiv%20class=%22css-mkrhzq%22%3E%3Cdiv%20class=%22css-1i6gc04%22%3E%3Ci%20aria-label=%22icon:%20right%22%20width=%221em%22%20height=%221em%22%20class=%22anticon%20anticon-right%22%3E%3C/i%3E%3C/div%3E%3Cspan%20class=%22ant-typography%20css-8uhtka%22%20style=%22font-size:%2012px;%20line-height:%2020px;%20font-weight:%20600;%20color:%20rgba(0,%200,%200,%200.85);%22%3EETH%3C/span%3E%3C/div%3E%3C/div%3E%3C/div%3E%3C/div%3E%3C/div%3E%3Cdiv%20class=%22css-3cge9w%22%3E%3Cdiv%3E%3Cdiv%20class=%22css-xui6tw%22%3E%3Cdiv%20class=%22css-9ssj44-TreeCell%22%3E%3Cdiv%20class=%22css-mkrhzq%22%3E%3Cdiv%20class=%22css-1i6gc04%22%3E%3Ci%20aria-label=%22icon:%20right%22%20width=%221em%22%20height=%221em%22%20class=%22anticon%20anticon-right%22%3E%3C/i%3E%3C/div%3E%3Cspan%20class=%22ant-typography%20css-8uhtka%22%20style=%22font-size:%2012px;%20line-height:%2020px;%20font-weight:%20600;%20color:%20rgba(0,%200,%200,%200.85);%22%3EXRP%3C/span%3E%3C/div%3E%3C/div%3E%3C/div%3E%3C/div%3E%3C/div%3E%3Cdiv%20class=%22css-3cge9w%22%3E%3Cdiv%3E%3Cdiv%20class=%22css-1h93ap%22%3E%3Cdiv%20class=%22css-9ssj44-TreeCell%22%3E%3Cdiv%20class=%22css-mkrhzq%22%3E%3Cdiv%20class=%22css-1i6gc04%22%3E%3Ci%20aria-label=%22icon:%20right%22%20width=%221em%22%20height=%221em%22%20class=%22anticon%20anticon-right%22%3E%3C/i%3E%3C/div%3E%3Cspan%20class=%22ant-typography%20css-8uhtka%22%20style=%22font-size:%2012px;%20line-height:%2020px;%20font-weight:%20600;%20color:%20rgba(0,%200,%200,%200.85);%22%3EUSDT%3C/span%3E%3C/div%3E%3C/div%3E%3C/div%3E%3C/div%3E%3C/div%3E%3Cdiv%20class=%22css-3cge9w%22%3E%3Cdiv%3E%3Cdiv%20class=%22css-xui6tw%22%3E%3Cdiv%20class=%22css-9ssj44-TreeCell%22%3E%3Cdiv%20class=%22css-mkrhzq%22%3E%3Cdiv%20class=%22css-1i6gc04%22%3E%3Ci%20aria-label=%22icon:%20right%22%20width=%221em%22%20height=%221em%22%20class=%22anticon%20anticon-right%22%3E%3C/i%3E%3C/div%3E%3Cspan%20class=%22ant-typography%20css-8uhtka%22%20style=%22font-size:%2012px;%20line-height:%2020px;%20font-weight:%20600;%20color:%20rgba(0,%200,%200,%200.85);%22%3EBCH%3C/span%3E%3C/div%3E%3C/div%3E%3C/div%3E%3C/div%3E%3C/div%3E%3Cdiv%20class=%22css-3cge9w%22%3E%3Cdiv%3E%3Cdiv%20class=%22css-1h93ap%22%3E%3Cdiv%20class=%22css-9ssj44-TreeCell%22%3E%3Cdiv%20class=%22css-mkrhzq%22%3E%3Cdiv%20class=%22css-1i6gc04%22%3E%3Ci%20aria-label=%22icon:%20right%22%20width=%221em%22%20height=%221em%22%20class=%22anticon%20anticon-right%22%3E%3C/i%3E%3C/div%3E%3Cspan%20class=%22ant-typography%20css-8uhtka%22%20style=%22font-size:%2012px;%20line-height:%2020px;%20font-weight:%20600;%20color:%20rgba(0,%200,%200,%200.85);%22%3EADA%3C/span%3E%3C/div%3E%3C/div%3E%3C/div%3E%3C/div%3E%3C/div%3E%3Cdiv%20class=%22css-3cge9w%22%3E%3Cdiv%3E%3Cdiv%20class=%22css-xui6tw%22%3E%3Cdiv%20class=%22css-9ssj44-TreeCell%22%3E%3Cdiv%20class=%22css-mkrhzq%22%3E%3Cdiv%20class=%22css-1i6gc04%22%3E%3Ci%20aria-label=%22icon:%20right%22%20width=%221em%22%20height=%221em%22%20class=%22anticon%20anticon-right%22%3E%3C/i%3E%3C/div%3E%3Cspan%20class=%22ant-typography%20css-8uhtka%22%20style=%22font-size:%2012px;%20line-height:%2020px;%20font-weight:%20600;%20color:%20rgba(0,%200,%200,%200.85);%22%3EBSV%3C/span%3E%3C/div%3E%3C/div%3E%3C/div%3E%3C/div%3E%3C/div%3E%3Cdiv%20class=%22css-3cge9w%22%3E%3Cdiv%3E%3Cdiv%20class=%22css-1h93ap%22%3E%3Cdiv%20class=%22css-9ssj44-TreeCell%22%3E%3Cdiv%20class=%22css-mkrhzq%22%3E%3Cdiv%20class=%22css-1i6gc04%22%3E%3Ci%20aria-label=%22icon:%20right%22%20width=%221em%22%20height=%221em%22%20class=%22anticon%20anticon-right%22%3E%3C/i%3E%3C/div%3E%3Cspan%20class=%22ant-typography%20css-8uhtka%22%20style=%22font-size:%2012px;%20line-height:%2020px;%20font-weight:%20600;%20color:%20rgba(0,%200,%200,%200.85);%22%3ELTC%3C/span%3E%3C/div%3E%3C/div%3E%3C/div%3E%3C/div%3E%3C/div%3E%3Cdiv%20class=%22css-3cge9w%22%3E%3Cdiv%3E%3Cdiv%20class=%22css-xui6tw%22%3E%3Cdiv%20class=%22css-9ssj44-TreeCell%22%3E%3Cdiv%20class=%22css-mkrhzq%22%3E%3Cdiv%20class=%22css-1i6gc04%22%3E%3Ci%20aria-label=%22icon:%20right%22%20width=%221em%22%20height=%221em%22%20class=%22anticon%20anticon-right%22%3E%3C/i%3E%3C/div%3E%3Cspan%20class=%22ant-typography%20css-8uhtka%22%20style=%22font-size:%2012px;%20line-height:%2020px;%20font-weight:%20600;%20color:%20rgba(0,%200,%200,%200.85);%22%3ELINK%3C/span%3E%3C/div%3E%3C/div%3E%3C/div%3E%3C/div%3E%3C/div%3E%3Cdiv%20class=%22css-3cge9w%22%3E%3Cdiv%3E%3Cdiv%20class=%22css-1h93ap%22%3E%3Cdiv%20class=%22css-9ssj44-TreeCell%22%3E%3Cdiv%20class=%22css-mkrhzq%22%3E%3Cdiv%20class=%22css-1i6gc04%22%3E%3Ci%20aria-label=%22icon:%20right%22%20width=%221em%22%20height=%221em%22%20class=%22anticon%20anticon-right%22%3E%3C/i%3E%3C/div%3E%3Cspan%20class=%22ant-typography%20css-8uhtka%22%20style=%22font-size:%2012px;%20line-height:%2020px;%20font-weight:%20600;%20color:%20rgba(0,%200,%200,%200.85);%22%3EBNB%3C/span%3E%3C/div%3E%3C/div%3E%3C/div%3E%3C/div%3E%3C/div%3E%3Cdiv%20class=%22css-3cge9w%22%3E%3Cdiv%3E%3Cdiv%20class=%22css-xui6tw%22%3E%3Cdiv%20class=%22css-9ssj44-TreeCell%22%3E%3Cdiv%20class=%22css-mkrhzq%22%3E%3Cdiv%20class=%22css-1i6gc04%22%3E%3Ci%20aria-label=%22icon:%20right%22%20width=%221em%22%20height=%221em%22%20class=%22anticon%20anticon-right%22%3E%3C/i%3E%3C/div%3E%3Cspan%20class=%22ant-typography%20css-8uhtka%22%20style=%22font-size:%2012px;%20line-height:%2020px;%20font-weight:%20600;%20color:%20rgba(0,%200,%200,%200.85);%22%3EEOS%3C/span%3E%3C/div%3E%3C/div%3E%3C/div%3E%3C/div%3E%3C/div%3E%3Cdiv%20class=%22css-3cge9w%22%3E%3Cdiv%3E%3Cdiv%20class=%22css-1pdhihc%22%3E%3Cdiv%20class=%22css-9ssj44-TreeCell%22%3E%3Cdiv%20class=%22css-mkrhzq%22%3E%3Cdiv%20class=%22css-1i6gc04%22%3E%3Ci%20aria-label=%22icon:%20right%22%20width=%221em%22%20height=%221em%22%20class=%22anticon%20anticon-right%22%3E%3C/i%3E%3C/div%3E%3Cspan%20class=%22ant-typography%20css-8uhtka%22%20style=%22font-size:%2012px;%20line-height:%2020px;%20font-weight:%20600;%20color:%20rgba(0,%200,%200,%200.85);%22%3ETRON%3C/span%3E%3C/div%3E%3C/div%3E%3C/div%3E%3C/div%3E%3C/div%3E%3C/div%3E%3Cdiv%20class=%22css-8r2ljj-PinnedTabularRows%22%3E%3Cdiv%20class=%22css-wvyx8h-PinnedTabularRows%22%3E%3C/div%3E%3C/div%3E%3C/div%3E%3Cdiv%20class=%22css-kdpqru-UnpinnedTabularRows%22%3E%3Cdiv%20class=%22css-1id6sm3-UnpinnedTabularRows%22%3E%3Cdiv%20class=%22css-3cge9w%22%3E%3Cdiv%3E%3Cdiv%20class=%22%20css-1hcmypl-TabularCell%22%3E%3Cspan%20class=%22css-mkoicc-CaptionCellRenderer%22%3E%3Cspan%3E%3Cspan%20class=%22ant-typography%22%20style=%22font-size:%2012px;%20line-height:%2020px;%20font-weight:%20400;%22%3E1,499,272.00%3C/span%3E%3C/span%3E%3C/span%3E%3C/div%3E%3C/div%3E%3Cdiv%3E%3Cdiv%20class=%22%20css-1hcmypl-TabularCell%22%3E%3Cspan%20class=%22css-mkoicc-CaptionCellRenderer%22%3E%3Cspan%3E%3Cspan%20class=%22ant-typography%22%20style=%22font-size:%2012px;%20line-height:%2020px;%20font-weight:%20400;%22%3E4,108,758.00%3C/span%3E%3C/span%3E%3C/span%3E%3C/div%3E%3C/div%3E%3Cdiv%3E%3Cdiv%20class=%22%20css-1hcmypl-TabularCell%22%3E%3Cspan%20class=%22css-mkoicc-CaptionCellRenderer%22%3E%3Cspan%3E%3Cspan%20class=%22ant-typography%22%20style=%22font-size:%2012px;%20line-height:%2020px;%20font-weight:%20400;%22%3E5,171,244,032.00%3C/span%3E%3C/span%3E%3C/span%3E%3C/div%3E%3C/div%3E%3Cdiv%3E%3Cdiv%20class=%22%20css-1hcmypl-TabularCell%22%3E%3Cspan%20class=%22css-mkoicc-CaptionCellRenderer%22%3E%3Cspan%3E%3Cspan%20class=%22ant-typography%22%20style=%22font-size:%2012px;%20line-height:%2020px;%20font-weight:%20400;%22%3E201,604.42%3C/span%3E%3C/span%3E%3C/span%3E%3C/div%3E%3C/div%3E%3Cdiv%3E%3Cdiv%20class=%22%20css-1hcmypl-TabularCell%22%3E%3Cspan%20class=%22css-mkoicc-CaptionCellRenderer%22%3E%3Cspan%3E%3Cspan%20class=%22ant-typography%22%20style=%22font-size:%2012px;%20line-height:%2020px;%20font-weight:%20400;%22%3E440,212,608.00%3C/span%3E%3C/span%3E%3C/span%3E%3C/div%3E%3C/div%3E%3Cdiv%3E%3Cdiv%20class=%22%20css-1hcmypl-TabularCell%22%3E%3Cspan%20class=%22css-mkoicc-CaptionCellRenderer%22%3E%3Cspan%3E%3Cspan%20class=%22ant-typography%22%20style=%22font-size:%2012px;%20line-height:%2020px;%20font-weight:%20400;%22%3E715,297.00%3C/span%3E%3C/span%3E%3C/span%3E%3C/div%3E%3C/div%3E%3Cdiv%3E%3Cdiv%20class=%22%20css-1hcmypl-TabularCell%22%3E%3Cspan%20class=%22css-mkoicc-CaptionCellRenderer%22%3E%3Cspan%3E%3Cspan%20class=%22ant-typography%22%20style=%22font-size:%2012px;%20line-height:%2020px;%20font-weight:%20400;%22%3E160,673.00%3C/span%3E%3C/span%3E%3C/span%3E%3C/div%3E%3C/div%3E%3Cdiv%3E%3Cdiv%20class=%22%20css-1hcmypl-TabularCell%22%3E%3Cspan%20class=%22css-mkoicc-CaptionCellRenderer%22%3E%3Cspan%3E%3Cspan%20class=%22ant-typography%22%20style=%22font-size:%2012px;%20line-height:%2020px;%20font-weight:%20400;%22%3E623,302.00%3C/span%3E%3C/span%3E%3C/span%3E%3C/div%3E%3C/div%3E%3C/div%3E%3Cdiv%20class=%22css-3cge9w%22%3E%3Cdiv%3E%3Cdiv%20class=%22%20css-qazlap-TabularCell%22%3E%3Cspan%20class=%22css-mkoicc-CaptionCellRenderer%22%3E%3Cspan%3E%3Cspan%20class=%22ant-typography%22%20style=%22font-size:%2012px;%20line-height:%2020px;%20font-weight:%20400;%22%3E474,641.00%3C/span%3E%3C/span%3E%3C/span%3E%3C/div%3E%3C/div%3E%3Cdiv%3E%3Cdiv%20class=%22%20css-qazlap-TabularCell%22%3E%3Cspan%20class=%22css-mkoicc-CaptionCellRenderer%22%3E%3Cspan%3E%3Cspan%20class=%22ant-typography%22%20style=%22font-size:%2012px;%20line-height:%2020px;%20font-weight:%20400;%22%3E1,020,542.00%3C/span%3E%3C/span%3E%3C/span%3E%3C/div%3E%3C/div%3E%3Cdiv%3E%3Cdiv%20class=%22%20css-qazlap-TabularCell%22%3E%3Cspan%20class=%22css-mkoicc-CaptionCellRenderer%22%3E%3Cspan%3E%3Cspan%20class=%22ant-typography%22%20style=%22font-size:%2012px;%20line-height:%2020px;%20font-weight:%20400;%22%3E1,331,058,688.00%3C/span%3E%3C/span%3E%3C/span%3E%3C/div%3E%3C/div%3E%3Cdiv%3E%3Cdiv%20class=%22%20css-qazlap-TabularCell%22%3E%3Cspan%20class=%22css-mkoicc-CaptionCellRenderer%22%3E%3Cspan%3E%3Cspan%20class=%22ant-typography%22%20style=%22font-size:%2012px;%20line-height:%2020px;%20font-weight:%20400;%22%3E61,064.50%3C/span%3E%3C/span%3E%3C/span%3E%3C/div%3E%3C/div%3E%3Cdiv%3E%3Cdiv%20class=%22%20css-qazlap-TabularCell%22%3E%3Cspan%20class=%22css-mkoicc-CaptionCellRenderer%22%3E%3Cspan%3E%3Cspan%20class=%22ant-typography%22%20style=%22font-size:%2012px;%20line-height:%2020px;%20font-weight:%20400;%22%3E138,385,728.00%3C/span%3E%3C/span%3E%3C/span%3E%3C/div%3E%3C/div%3E%3Cdiv%3E%3Cdiv%20class=%22%20css-qazlap-TabularCell%22%3E%3Cspan%20class=%22css-mkoicc-CaptionCellRenderer%22%3E%3Cspan%3E%3Cspan%20class=%22ant-typography%22%20style=%22font-size:%2012px;%20line-height:%2020px;%20font-weight:%20400;%22%3E197,853.00%3C/span%3E%3C/span%3E%3C/span%3E%3C/div%3E%3C/div%3E%3Cdiv%3E%3Cdiv%20class=%22%20css-qazlap-TabularCell%22%3E%3Cspan%20class=%22css-mkoicc-CaptionCellRenderer%22%3E%3Cspan%3E%3Cspan%20class=%22ant-typography%22%20style=%22font-size:%2012px;%20line-height:%2020px;%20font-weight:%20400;%22%3E36,113.00%3C/span%3E%3C/span%3E%3C/span%3E%3C/div%3E%3C/div%3E%3Cdiv%3E%3Cdiv%20class=%22%20css-qazlap-TabularCell%22%3E%3Cspan%20class=%22css-mkoicc-CaptionCellRenderer%22%3E%3Cspan%3E%3Cspan%20class=%22ant-typography%22%20style=%22font-size:%2012px;%20line-height:%2020px;%20font-weight:%20400;%22%3E240,675.00%3C/span%3E%3C/span%3E%3C/span%3E%3C/div%3E%3C/div%3E%3C/div%3E%3Cdiv%20class=%22css-3cge9w%22%3E%3Cdiv%3E%3Cdiv%20class=%22%20css-1hcmypl-TabularCell%22%3E%3Cspan%20class=%22css-mkoicc-CaptionCellRenderer%22%3E%3Cspan%3E%3Cspan%20class=%22ant-typography%22%20style=%22font-size:%2012px;%20line-height:%2020px;%20font-weight:%20400;%22%3E483,418.00%3C/span%3E%3C/span%3E%3C/span%3E%3C/div%3E%3C/div%3E%3Cdiv%3E%3Cdiv%20class=%22%20css-1hcmypl-TabularCell%22%3E%3Cspan%20class=%22css-mkoicc-CaptionCellRenderer%22%3E%3Cspan%3E%3Cspan%20class=%22ant-typography%22%20style=%22font-size:%2012px;%20line-height:%2020px;%20font-weight:%20400;%22%3E3,183,985.00%3C/span%3E%3C/span%3E%3C/span%3E%3C/div%3E%3C/div%3E%3Cdiv%3E%3Cdiv%20class=%22%20css-1hcmypl-TabularCell%22%3E%3Cspan%20class=%22css-mkoicc-CaptionCellRenderer%22%3E%3Cspan%3E%3Cspan%20class=%22ant-typography%22%20style=%22font-size:%2012px;%20line-height:%2020px;%20font-weight:%20400;%22%3E1,681,744,640.00%3C/span%3E%3C/span%3E%3C/span%3E%3C/div%3E%3C/div%3E%3Cdiv%3E%3Cdiv%20class=%22%20css-1hcmypl-TabularCell%22%3E%3Cspan%20class=%22css-mkoicc-CaptionCellRenderer%22%3E%3Cspan%3E%3Cspan%20class=%22ant-typography%22%20style=%22font-size:%2012px;%20line-height:%2020px;%20font-weight:%20400;%22%3E42,004.73%3C/span%3E%3C/span%3E%3C/span%3E%3C/div%3E%3C/div%3E%3Cdiv%3E%3Cdiv%20class=%22%20css-1hcmypl-TabularCell%22%3E%3Cspan%20class=%22css-mkoicc-CaptionCellRenderer%22%3E%3Cspan%3E%3Cspan%20class=%22ant-typography%22%20style=%22font-size:%2012px;%20line-height:%2020px;%20font-weight:%20400;%22%3E28,245,186.00%3C/span%3E%3C/span%3E%3C/span%3E%3C/div%3E%3C/div%3E%3Cdiv%3E%3Cdiv%20class=%22%20css-1hcmypl-TabularCell%22%3E%3Cspan%20class=%22css-mkoicc-CaptionCellRenderer%22%3E%3Cspan%3E%3Cspan%20class=%22ant-typography%22%20style=%22font-size:%2012px;%20line-height:%2020px;%20font-weight:%20400;%22%3E282,140.00%3C/span%3E%3C/span%3E%3C/span%3E%3C/div%3E%3C/div%3E%3Cdiv%3E%3Cdiv%20class=%22%20css-1hcmypl-TabularCell%22%3E%3Cspan%20class=%22css-mkoicc-CaptionCellRenderer%22%3E%3Cspan%3E%3Cspan%20class=%22ant-typography%22%20style=%22font-size:%2012px;%20line-height:%2020px;%20font-weight:%20400;%22%3E44,798.00%3C/span%3E%3C/span%3E%3C/span%3E%3C/div%3E%3C/div%3E%3Cdiv%3E%3Cdiv%20class=%22%20css-1hcmypl-TabularCell%22%3E%3Cspan%20class=%22css-mkoicc-CaptionCellRenderer%22%3E%3Cspan%3E%3Cspan%20class=%22ant-typography%22%20style=%22font-size:%2012px;%20line-height:%2020px;%20font-weight:%20400;%22%3E156,480.00%3C/span%3E%3C/span%3E%3C/span%3E%3C/div%3E%3C/div%3E%3C/div%3E%3Cdiv%20class=%22css-3cge9w%22%3E%3Cdiv%3E%3Cdiv%20class=%22%20css-qazlap-TabularCell%22%3E%3Cspan%20class=%22css-mkoicc-CaptionCellRenderer%22%3E%3Cspan%3E%3Cspan%20class=%22ant-typography%22%20style=%22font-size:%2012px;%20line-height:%2020px;%20font-weight:%20400;%22%3E56,035.00%3C/span%3E%3C/span%3E%3C/span%3E%3C/div%3E%3C/div%3E%3Cdiv%3E%3Cdiv%20class=%22%20css-qazlap-TabularCell%22%3E%3Cspan%20class=%22css-mkoicc-CaptionCellRenderer%22%3E%3Cspan%3E%3Cspan%20class=%22ant-typography%22%20style=%22font-size:%2012px;%20line-height:%2020px;%20font-weight:%20400;%22%3E306,647.00%3C/span%3E%3C/span%3E%3C/span%3E%3C/div%3E%3C/div%3E%3Cdiv%3E%3Cdiv%20class=%22%20css-qazlap-TabularCell%22%3E%3Cspan%20class=%22css-mkoicc-CaptionCellRenderer%22%3E%3Cspan%3E%3Cspan%20class=%22ant-typography%22%20style=%22font-size:%2012px;%20line-height:%2020px;%20font-weight:%20400;%22%3E644,390,656.00%3C/span%3E%3C/span%3E%3C/span%3E%3C/div%3E%3C/div%3E%3Cdiv%3E%3Cdiv%20class=%22%20css-qazlap-TabularCell%22%3E%3Cspan%20class=%22css-mkoicc-CaptionCellRenderer%22%3E%3Cspan%3E%3Cspan%20class=%22ant-typography%22%20style=%22font-size:%2012px;%20line-height:%2020px;%20font-weight:%20400;%22%3E4,479.83%3C/span%3E%3C/span%3E%3C/span%3E%3C/div%3E%3C/div%3E%3Cdiv%3E%3Cdiv%20class=%22%20css-qazlap-TabularCell%22%3E%3Cspan%20class=%22css-mkoicc-CaptionCellRenderer%22%3E%3Cspan%3E%3Cspan%20class=%22ant-typography%22%20style=%22font-size:%2012px;%20line-height:%2020px;%20font-weight:%20400;%22%3E9,900,630.00%3C/span%3E%3C/span%3E%3C/span%3E%3C/div%3E%3C/div%3E%3Cdiv%3E%3Cdiv%20class=%22%20css-qazlap-TabularCell%22%3E%3Cspan%20class=%22css-mkoicc-CaptionCellRenderer%22%3E%3Cspan%3E%3Cspan%20class=%22ant-typography%22%20style=%22font-size:%2012px;%20line-height:%2020px;%20font-weight:%20400;%22%3E32,622.00%3C/span%3E%3C/span%3E%3C/span%3E%3C/div%3E%3C/div%3E%3Cdiv%3E%3Cdiv%20class=%22%20css-qazlap-TabularCell%22%3E%3Cspan%20class=%22css-mkoicc-CaptionCellRenderer%22%3E%3Cspan%3E%3Cspan%20class=%22ant-typography%22%20style=%22font-size:%2012px;%20line-height:%2020px;%20font-weight:%20400;%22%3E7,947.00%3C/span%3E%3C/span%3E%3C/span%3E%3C/div%3E%3C/div%3E%3Cdiv%3E%3Cdiv%20class=%22%20css-qazlap-TabularCell%22%3E%3Cspan%20class=%22css-mkoicc-CaptionCellRenderer%22%3E%3Cspan%3E%3Cspan%20class=%22ant-typography%22%20style=%22font-size:%2012px;%20line-height:%2020px;%20font-weight:%20400;%22%3E15,466.00%3C/span%3E%3C/span%3E%3C/span%3E%3C/div%3E%3C/div%3E%3C/div%3E%3Cdiv%20class=%22css-3cge9w%22%3E%3Cdiv%3E%3Cdiv%20class=%22%20css-1hcmypl-TabularCell%22%3E%3Cspan%20class=%22css-mkoicc-CaptionCellRenderer%22%3E%3Cspan%3E%3Cspan%20class=%22ant-typography%22%20style=%22font-size:%2012px;%20line-height:%2020px;%20font-weight:%20400;%22%3E36,605.00%3C/span%3E%3C/span%3E%3C/span%3E%3C/div%3E%3C/div%3E%3Cdiv%3E%3Cdiv%20class=%22%20css-1hcmypl-TabularCell%22%3E%3Cspan%20class=%22css-mkoicc-CaptionCellRenderer%22%3E%3Cspan%3E%3Cspan%20class=%22ant-typography%22%20style=%22font-size:%2012px;%20line-height:%2020px;%20font-weight:%20400;%22%3E75,482.00%3C/span%3E%3C/span%3E%3C/span%3E%3C/div%3E%3C/div%3E%3Cdiv%3E%3Cdiv%20class=%22%20css-1hcmypl-TabularCell%22%3E%3Cspan%20class=%22css-mkoicc-CaptionCellRenderer%22%3E%3Cspan%3E%3Cspan%20class=%22ant-typography%22%20style=%22font-size:%2012px;%20line-height:%2020px;%20font-weight:%20400;%22%3E90,229,128.00%3C/span%3E%3C/span%3E%3C/span%3E%3C/div%3E%3C/div%3E%3Cdiv%3E%3Cdiv%20class=%22%20css-1hcmypl-TabularCell%22%3E%3Cspan%20class=%22css-mkoicc-CaptionCellRenderer%22%3E%3Cspan%3E%3Cspan%20class=%22ant-typography%22%20style=%22font-size:%2012px;%20line-height:%2020px;%20font-weight:%20400;%22%3E2,073.05%3C/span%3E%3C/span%3E%3C/span%3E%3C/div%3E%3C/div%3E%3Cdiv%3E%3Cdiv%20class=%22%20css-1hcmypl-TabularCell%22%3E%3Cspan%20class=%22css-mkoicc-CaptionCellRenderer%22%3E%3Cspan%3E%3Cspan%20class=%22ant-typography%22%20style=%22font-size:%2012px;%20line-height:%2020px;%20font-weight:%20400;%22%3E477,455.00%3C/span%3E%3C/span%3E%3C/span%3E%3C/div%3E%3C/div%3E%3Cdiv%3E%3Cdiv%20class=%22%20css-1hcmypl-TabularCell%22%3E%3Cspan%20class=%22css-mkoicc-CaptionCellRenderer%22%3E%3Cspan%3E%3Cspan%20class=%22ant-typography%22%20style=%22font-size:%2012px;%20line-height:%2020px;%20font-weight:%20400;%22%3E25,546.00%3C/span%3E%3C/span%3E%3C/span%3E%3C/div%3E%3C/div%3E%3Cdiv%3E%3Cdiv%20class=%22%20css-1hcmypl-TabularCell%22%3E%3Cspan%20class=%22css-mkoicc-CaptionCellRenderer%22%3E%3Cspan%3E%3Cspan%20class=%22ant-typography%22%20style=%22font-size:%2012px;%20line-height:%2020px;%20font-weight:%20400;%22%3E2,310.00%3C/span%3E%3C/span%3E%3C/span%3E%3C/div%3E%3C/div%3E%3Cdiv%3E%3Cdiv%20class=%22%20css-1hcmypl-TabularCell%22%3E%3Cspan%20class=%22css-mkoicc-CaptionCellRenderer%22%3E%3Cspan%3E%3Cspan%20class=%22ant-typography%22%20style=%22font-size:%2012px;%20line-height:%2020px;%20font-weight:%20400;%22%3E8,749.00%3C/span%3E%3C/span%3E%3C/span%3E%3C/div%3E%3C/div%3E%3C/div%3E%3Cdiv%20class=%22css-3cge9w%22%3E%3Cdiv%3E%3Cdiv%20class=%22%20css-qazlap-TabularCell%22%3E%3Cspan%20class=%22css-mkoicc-CaptionCellRenderer%22%3E%3Cspan%3E%3Cspan%20class=%22ant-typography%22%20style=%22font-size:%2012px;%20line-height:%2020px;%20font-weight:%20400;%22%3E63,156.00%3C/span%3E%3C/span%3E%3C/span%3E%3C/div%3E%3C/div%3E%3Cdiv%3E%3Cdiv%20class=%22%20css-qazlap-TabularCell%22%3E%3Cspan%20class=%22css-mkoicc-CaptionCellRenderer%22%3E%3Cspan%3E%3Cspan%20class=%22ant-typography%22%20style=%22font-size:%2012px;%20line-height:%2020px;%20font-weight:%20400;%22%3E355,472.00%3C/span%3E%3C/span%3E%3C/span%3E%3C/div%3E%3C/div%3E%3Cdiv%3E%3Cdiv%20class=%22%20css-qazlap-TabularCell%22%3E%3Cspan%20class=%22css-mkoicc-CaptionCellRenderer%22%3E%3Cspan%3E%3Cspan%20class=%22ant-typography%22%20style=%22font-size:%2012px;%20line-height:%2020px;%20font-weight:%20400;%22%3E229,080,992.00%3C/span%3E%3C/span%3E%3C/span%3E%3C/div%3E%3C/div%3E%3Cdiv%3E%3Cdiv%20class=%22%20css-qazlap-TabularCell%22%3E%3Cspan%20class=%22css-mkoicc-CaptionCellRenderer%22%3E%3Cspan%3E%3Cspan%20class=%22ant-typography%22%20style=%22font-size:%2012px;%20line-height:%2020px;%20font-weight:%20400;%22%3E6,741.02%3C/span%3E%3C/span%3E%3C/span%3E%3C/div%3E%3C/div%3E%3Cdiv%3E%3Cdiv%20class=%22%20css-qazlap-TabularCell%22%3E%3Cspan%20class=%22css-mkoicc-CaptionCellRenderer%22%3E%3Cspan%3E%3Cspan%20class=%22ant-typography%22%20style=%22font-size:%2012px;%20line-height:%2020px;%20font-weight:%20400;%22%3E400,478.00%3C/span%3E%3C/span%3E%3C/span%3E%3C/div%3E%3C/div%3E%3Cdiv%3E%3Cdiv%20class=%22%20css-qazlap-TabularCell%22%3E%3Cspan%20class=%22css-mkoicc-CaptionCellRenderer%22%3E%3Cspan%3E%3Cspan%20class=%22ant-typography%22%20style=%22font-size:%2012px;%20line-height:%2020px;%20font-weight:%20400;%22%3E28,626.00%3C/span%3E%3C/span%3E%3C/span%3E%3C/div%3E%3C/div%3E%3Cdiv%3E%3Cdiv%20class=%22%20css-qazlap-TabularCell%22%3E%3Cspan%20class=%22css-mkoicc-CaptionCellRenderer%22%3E%3Cspan%3E%3Cspan%20class=%22ant-typography%22%20style=%22font-size:%2012px;%20line-height:%2020px;%20font-weight:%20400;%22%3E7,729.00%3C/span%3E%3C/span%3E%3C/span%3E%3C/div%3E%3C/div%3E%3Cdiv%3E%3Cdiv%20class=%22%20css-qazlap-TabularCell%22%3E%3Cspan%20class=%22css-mkoicc-CaptionCellRenderer%22%3E%3Cspan%3E%3Cspan%20class=%22ant-typography%22%20style=%22font-size:%2012px;%20line-height:%2020px;%20font-weight:%20400;%22%3E26,801.00%3C/span%3E%3C/span%3E%3C/span%3E%3C/div%3E%3C/div%3E%3C/div%3E%3Cdiv%20class=%22css-3cge9w%22%3E%3Cdiv%3E%3Cdiv%20class=%22%20css-1hcmypl-TabularCell%22%3E%3Cspan%20class=%22css-mkoicc-CaptionCellRenderer%22%3E%3Cspan%3E%3Cspan%20class=%22ant-typography%22%20style=%22font-size:%2012px;%20line-height:%2020px;%20font-weight:%20400;%22%3E58,507.00%3C/span%3E%3C/span%3E%3C/span%3E%3C/div%3E%3C/div%3E%3Cdiv%3E%3Cdiv%20class=%22%20css-1hcmypl-TabularCell%22%3E%3Cspan%20class=%22css-mkoicc-CaptionCellRenderer%22%3E%3Cspan%3E%3Cspan%20class=%22ant-typography%22%20style=%22font-size:%2012px;%20line-height:%2020px;%20font-weight:%20400;%22%3E260,845.00%3C/span%3E%3C/span%3E%3C/span%3E%3C/div%3E%3C/div%3E%3Cdiv%3E%3Cdiv%20class=%22%20css-1hcmypl-TabularCell%22%3E%3Cspan%20class=%22css-mkoicc-CaptionCellRenderer%22%3E%3Cspan%3E%3Cspan%20class=%22ant-typography%22%20style=%22font-size:%2012px;%20line-height:%2020px;%20font-weight:%20400;%22%3E138,052,992.00%3C/span%3E%3C/span%3E%3C/span%3E%3C/div%3E%3C/div%3E%3Cdiv%3E%3Cdiv%20class=%22%20css-1hcmypl-TabularCell%22%3E%3Cspan%20class=%22css-mkoicc-CaptionCellRenderer%22%3E%3Cspan%3E%3Cspan%20class=%22ant-typography%22%20style=%22font-size:%2012px;%20line-height:%2020px;%20font-weight:%20400;%22%3E6,464.37%3C/span%3E%3C/span%3E%3C/span%3E%3C/div%3E%3C/div%3E%3Cdiv%3E%3Cdiv%20class=%22%20css-1hcmypl-TabularCell%22%3E%3Cspan%20class=%22css-mkoicc-CaptionCellRenderer%22%3E%3Cspan%3E%3Cspan%20class=%22ant-typography%22%20style=%22font-size:%2012px;%20line-height:%2020px;%20font-weight:%20400;%22%3E17,989,248.00%3C/span%3E%3C/span%3E%3C/span%3E%3C/div%3E%3C/div%3E%3Cdiv%3E%3Cdiv%20class=%22%20css-1hcmypl-TabularCell%22%3E%3Cspan%20class=%22css-mkoicc-CaptionCellRenderer%22%3E%3Cspan%3E%3Cspan%20class=%22ant-typography%22%20style=%22font-size:%2012px;%20line-height:%2020px;%20font-weight:%20400;%22%3E33,025.00%3C/span%3E%3C/span%3E%3C/span%3E%3C/div%3E%3C/div%3E%3Cdiv%3E%3Cdiv%20class=%22%20css-1hcmypl-TabularCell%22%3E%3Cspan%20class=%22css-mkoicc-CaptionCellRenderer%22%3E%3Cspan%3E%3Cspan%20class=%22ant-typography%22%20style=%22font-size:%2012px;%20line-height:%2020px;%20font-weight:%20400;%22%3E5,302.00%3C/span%3E%3C/span%3E%3C/span%3E%3C/div%3E%3C/div%3E%3Cdiv%3E%3Cdiv%20class=%22%20css-1hcmypl-TabularCell%22%3E%3Cspan%20class=%22css-mkoicc-CaptionCellRenderer%22%3E%3Cspan%3E%3Cspan%20class=%22ant-typography%22%20style=%22font-size:%2012px;%20line-height:%2020px;%20font-weight:%20400;%22%3E20,180.00%3C/span%3E%3C/span%3E%3C/span%3E%3C/div%3E%3C/div%3E%3C/div%3E%3Cdiv%20class=%22css-3cge9w%22%3E%3Cdiv%3E%3Cdiv%20class=%22%20css-qazlap-TabularCell%22%3E%3Cspan%20class=%22css-mkoicc-CaptionCellRenderer%22%3E%3Cspan%3E%3Cspan%20class=%22ant-typography%22%20style=%22font-size:%2012px;%20line-height:%2020px;%20font-weight:%20400;%22%3E91,497.00%3C/span%3E%3C/span%3E%3C/span%3E%3C/div%3E%3C/div%3E%3Cdiv%3E%3Cdiv%20class=%22%20css-qazlap-TabularCell%22%3E%3Cspan%20class=%22css-mkoicc-CaptionCellRenderer%22%3E%3Cspan%3E%3Cspan%20class=%22ant-typography%22%20style=%22font-size:%2012px;%20line-height:%2020px;%20font-weight:%20400;%22%3E248,720.00%3C/span%3E%3C/span%3E%3C/span%3E%3C/div%3E%3C/div%3E%3Cdiv%3E%3Cdiv%20class=%22%20css-qazlap-TabularCell%22%3E%3Cspan%20class=%22css-mkoicc-CaptionCellRenderer%22%3E%3Cspan%3E%3Cspan%20class=%22ant-typography%22%20style=%22font-size:%2012px;%20line-height:%2020px;%20font-weight:%20400;%22%3E332,306,336.00%3C/span%3E%3C/span%3E%3C/span%3E%3C/div%3E%3C/div%3E%3Cdiv%3E%3Cdiv%20class=%22%20css-qazlap-TabularCell%22%3E%3Cspan%20class=%22css-mkoicc-CaptionCellRenderer%22%3E%3Cspan%3E%3Cspan%20class=%22ant-typography%22%20style=%22font-size:%2012px;%20line-height:%2020px;%20font-weight:%20400;%22%3E6,634.04%3C/span%3E%3C/span%3E%3C/span%3E%3C/div%3E%3C/div%3E%3Cdiv%3E%3Cdiv%20class=%22%20css-qazlap-TabularCell%22%3E%3Cspan%20class=%22css-mkoicc-CaptionCellRenderer%22%3E%3Cspan%3E%3Cspan%20class=%22ant-typography%22%20style=%22font-size:%2012px;%20line-height:%2020px;%20font-weight:%20400;%22%3E1,039,875.00%3C/span%3E%3C/span%3E%3C/span%3E%3C/div%3E%3C/div%3E%3Cdiv%3E%3Cdiv%20class=%22%20css-qazlap-TabularCell%22%3E%3Cspan%20class=%22css-mkoicc-CaptionCellRenderer%22%3E%3Cspan%3E%3Cspan%20class=%22ant-typography%22%20style=%22font-size:%2012px;%20line-height:%2020px;%20font-weight:%20400;%22%3E51,682.00%3C/span%3E%3C/span%3E%3C/span%3E%3C/div%3E%3C/div%3E%3Cdiv%3E%3Cdiv%20class=%22%20css-qazlap-TabularCell%22%3E%3Cspan%20class=%22css-mkoicc-CaptionCellRenderer%22%3E%3Cspan%3E%3Cspan%20class=%22ant-typography%22%20style=%22font-size:%2012px;%20line-height:%2020px;%20font-weight:%20400;%22%3E8,476.00%3C/span%3E%3C/span%3E%3C/span%3E%3C/div%3E%3C/div%3E%3Cdiv%3E%3Cdiv%20class=%22%20css-qazlap-TabularCell%22%3E%3Cspan%20class=%22css-mkoicc-CaptionCellRenderer%22%3E%3Cspan%3E%3Cspan%20class=%22ant-typography%22%20style=%22font-size:%2012px;%20line-height:%2020px;%20font-weight:%20400;%22%3E31,339.00%3C/span%3E%3C/span%3E%3C/span%3E%3C/div%3E%3C/div%3E%3C/div%3E%3Cdiv%20class=%22css-3cge9w%22%3E%3Cdiv%3E%3Cdiv%20class=%22%20css-1hcmypl-TabularCell%22%3E%3Cspan%20class=%22css-mkoicc-CaptionCellRenderer%22%3E%3Cspan%3E%3Cspan%20class=%22ant-typography%22%20style=%22font-size:%2012px;%20line-height:%2020px;%20font-weight:%20400;%22%3E124,073.00%3C/span%3E%3C/span%3E%3C/span%3E%3C/div%3E%3C/div%3E%3Cdiv%3E%3Cdiv%20class=%22%20css-1hcmypl-TabularCell%22%3E%3Cspan%20class=%22css-mkoicc-CaptionCellRenderer%22%3E%3Cspan%3E%3Cspan%20class=%22ant-typography%22%20style=%22font-size:%2012px;%20line-height:%2020px;%20font-weight:%20400;%22%3E524,952.00%3C/span%3E%3C/span%3E%3C/span%3E%3C/div%3E%3C/div%3E%3Cdiv%3E%3Cdiv%20class=%22%20css-1hcmypl-TabularCell%22%3E%3Cspan%20class=%22css-mkoicc-CaptionCellRenderer%22%3E%3Cspan%3E%3Cspan%20class=%22ant-typography%22%20style=%22font-size:%2012px;%20line-height:%2020px;%20font-weight:%20400;%22%3E525,339,008.00%3C/span%3E%3C/span%3E%3C/span%3E%3C/div%3E%3C/div%3E%3Cdiv%3E%3Cdiv%20class=%22%20css-1hcmypl-TabularCell%22%3E%3Cspan%20class=%22css-mkoicc-CaptionCellRenderer%22%3E%3Cspan%3E%3Cspan%20class=%22ant-typography%22%20style=%22font-size:%2012px;%20line-height:%2020px;%20font-weight:%20400;%22%3E14,443.75%3C/span%3E%3C/span%3E%3C/span%3E%3C/div%3E%3C/div%3E%3Cdiv%3E%3Cdiv%20class=%22%20css-1hcmypl-TabularCell%22%3E%3Cspan%20class=%22css-mkoicc-CaptionCellRenderer%22%3E%3Cspan%3E%3Cspan%20class=%22ant-typography%22%20style=%22font-size:%2012px;%20line-height:%2020px;%20font-weight:%20400;%22%3E14,257,083.00%3C/span%3E%3C/span%3E%3C/span%3E%3C/div%3E%3C/div%3E%3Cdiv%3E%3Cdiv%20class=%22%20css-1hcmypl-TabularCell%22%3E%3Cspan%20class=%22css-mkoicc-CaptionCellRenderer%22%3E%3Cspan%3E%3Cspan%20class=%22ant-typography%22%20style=%22font-size:%2012px;%20line-height:%2020px;%20font-weight:%20400;%22%3E57,895.00%3C/span%3E%3C/span%3E%3C/span%3E%3C/div%3E%3C/div%3E%3Cdiv%3E%3Cdiv%20class=%22%20css-1hcmypl-TabularCell%22%3E%3Cspan%20class=%22css-mkoicc-CaptionCellRenderer%22%3E%3Cspan%3E%3Cspan%20class=%22ant-typography%22%20style=%22font-size:%2012px;%20line-height:%2020px;%20font-weight:%20400;%22%3E16,802.00%3C/span%3E%3C/span%3E%3C/span%3E%3C/div%3E%3C/div%3E%3Cdiv%3E%3Cdiv%20class=%22%20css-1hcmypl-TabularCell%22%3E%3Cspan%20class=%22css-mkoicc-CaptionCellRenderer%22%3E%3Cspan%3E%3Cspan%20class=%22ant-typography%22%20style=%22font-size:%2012px;%20line-height:%2020px;%20font-weight:%20400;%22%3E49,376.00%3C/span%3E%3C/span%3E%3C/span%3E%3C/div%3E%3C/div%3E%3C/div%3E%3Cdiv%20class=%22css-3cge9w%22%3E%3Cdiv%3E%3Cdiv%20class=%22%20css-qazlap-TabularCell%22%3E%3Cspan%20class=%22css-mkoicc-CaptionCellRenderer%22%3E%3Cspan%3E%3Cspan%20class=%22ant-typography%22%20style=%22font-size:%2012px;%20line-height:%2020px;%20font-weight:%20400;%22%3E85,780.00%3C/span%3E%3C/span%3E%3C/span%3E%3C/div%3E%3C/div%3E%3Cdiv%3E%3Cdiv%20class=%22%20css-qazlap-TabularCell%22%3E%3Cspan%20class=%22css-mkoicc-CaptionCellRenderer%22%3E%3Cspan%3E%3Cspan%20class=%22ant-typography%22%20style=%22font-size:%2012px;%20line-height:%2020px;%20font-weight:%20400;%22%3E329,571.00%3C/span%3E%3C/span%3E%3C/span%3E%3C/div%3E%3C/div%3E%3Cdiv%3E%3Cdiv%20class=%22%20css-qazlap-TabularCell%22%3E%3Cspan%20class=%22css-mkoicc-CaptionCellRenderer%22%3E%3Cspan%3E%3Cspan%20class=%22ant-typography%22%20style=%22font-size:%2012px;%20line-height:%2020px;%20font-weight:%20400;%22%3E474,858,144.00%3C/span%3E%3C/span%3E%3C/span%3E%3C/div%3E%3C/div%3E%3Cdiv%3E%3Cdiv%20class=%22%20css-qazlap-TabularCell%22%3E%3Cspan%20class=%22css-mkoicc-CaptionCellRenderer%22%3E%3Cspan%3E%3Cspan%20class=%22ant-typography%22%20style=%22font-size:%2012px;%20line-height:%2020px;%20font-weight:%20400;%22%3E10,958.03%3C/span%3E%3C/span%3E%3C/span%3E%3C/div%3E%3C/div%3E%3Cdiv%3E%3Cdiv%20class=%22%20css-qazlap-TabularCell%22%3E%3Cspan%20class=%22css-mkoicc-CaptionCellRenderer%22%3E%3Cspan%3E%3Cspan%20class=%22ant-typography%22%20style=%22font-size:%2012px;%20line-height:%2020px;%20font-weight:%20400;%22%3E33,317,954.00%3C/span%3E%3C/span%3E%3C/span%3E%3C/div%3E%3C/div%3E%3Cdiv%3E%3Cdiv%20class=%22%20css-qazlap-TabularCell%22%3E%3Cspan%20class=%22css-mkoicc-CaptionCellRenderer%22%3E%3Cspan%3E%3Cspan%20class=%22ant-typography%22%20style=%22font-size:%2012px;%20line-height:%2020px;%20font-weight:%20400;%22%3E49,314.00%3C/span%3E%3C/span%3E%3C/span%3E%3C/div%3E%3C/div%3E%3Cdiv%3E%3Cdiv%20class=%22%20css-qazlap-TabularCell%22%3E%3Cspan%20class=%22css-mkoicc-CaptionCellRenderer%22%3E%3Cspan%3E%3Cspan%20class=%22ant-typography%22%20style=%22font-size:%2012px;%20line-height:%2020px;%20font-weight:%20400;%22%3E4,387.00%3C/span%3E%3C/span%3E%3C/span%3E%3C/div%3E%3C/div%3E%3Cdiv%3E%3Cdiv%20class=%22%20css-qazlap-TabularCell%22%3E%3Cspan%20class=%22css-mkoicc-CaptionCellRenderer%22%3E%3Cspan%3E%3Cspan%20class=%22ant-typography%22%20style=%22font-size:%2012px;%20line-height:%2020px;%20font-weight:%20400;%22%3E32,079.00%3C/span%3E%3C/span%3E%3C/span%3E%3C/div%3E%3C/div%3E%3C/div%3E%3Cdiv%20class=%22css-3cge9w%22%3E%3Cdiv%3E%3Cdiv%20class=%22%20css-1hcmypl-TabularCell%22%3E%3Cspan%20class=%22css-mkoicc-CaptionCellRenderer%22%3E%3Cspan%3E%3Cspan%20class=%22ant-typography%22%20style=%22font-size:%2012px;%20line-height:%2020px;%20font-weight:%20400;%22%3E70,621.00%3C/span%3E%3C/span%3E%3C/span%3E%3C/div%3E%3C/div%3E%3Cdiv%3E%3Cdiv%20class=%22%20css-1hcmypl-TabularCell%22%3E%3Cspan%20class=%22css-mkoicc-CaptionCellRenderer%22%3E%3Cspan%3E%3Cspan%20class=%22ant-typography%22%20style=%22font-size:%2012px;%20line-height:%2020px;%20font-weight:%20400;%22%3E236,837.00%3C/span%3E%3C/span%3E%3C/span%3E%3C/div%3E%3C/div%3E%3Cdiv%3E%3Cdiv%20class=%22%20css-1hcmypl-TabularCell%22%3E%3Cspan%20class=%22css-mkoicc-CaptionCellRenderer%22%3E%3Cspan%3E%3Cspan%20class=%22ant-typography%22%20style=%22font-size:%2012px;%20line-height:%2020px;%20font-weight:%20400;%22%3E312,245,888.00%3C/span%3E%3C/span%3E%3C/span%3E%3C/div%3E%3C/div%3E%3Cdiv%3E%3Cdiv%20class=%22%20css-1hcmypl-TabularCell%22%3E%3Cspan%20class=%22css-mkoicc-CaptionCellRenderer%22%3E%3Cspan%3E%3Cspan%20class=%22ant-typography%22%20style=%22font-size:%2012px;%20line-height:%2020px;%20font-weight:%20400;%22%3E5,391.13%3C/span%3E%3C/span%3E%3C/span%3E%3C/div%3E%3C/div%3E%3Cdiv%3E%3Cdiv%20class=%22%20css-1hcmypl-TabularCell%22%3E%3Cspan%20class=%22css-mkoicc-CaptionCellRenderer%22%3E%3Cspan%3E%3Cspan%20class=%22ant-typography%22%20style=%22font-size:%2012px;%20line-height:%2020px;%20font-weight:%20400;%22%3E294,808.00%3C/span%3E%3C/span%3E%3C/span%3E%3C/div%3E%3C/div%3E%3Cdiv%3E%3Cdiv%20class=%22%20css-1hcmypl-TabularCell%22%3E%3Cspan%20class=%22css-mkoicc-CaptionCellRenderer%22%3E%3Cspan%3E%3Cspan%20class=%22ant-typography%22%20style=%22font-size:%2012px;%20line-height:%2020px;%20font-weight:%20400;%22%3E44,622.00%3C/span%3E%3C/span%3E%3C/span%3E%3C/div%3E%3C/div%3E%3Cdiv%3E%3Cdiv%20class=%22%20css-1hcmypl-TabularCell%22%3E%3Cspan%20class=%22css-mkoicc-CaptionCellRenderer%22%3E%3Cspan%3E%3Cspan%20class=%22ant-typography%22%20style=%22font-size:%2012px;%20line-height:%2020px;%20font-weight:%20400;%22%3E5,406.00%3C/span%3E%3C/span%3E%3C/span%3E%3C/div%3E%3C/div%3E%3Cdiv%3E%3Cdiv%20class=%22%20css-1hcmypl-TabularCell%22%3E%3Cspan%20class=%22css-mkoicc-CaptionCellRenderer%22%3E%3Cspan%3E%3Cspan%20class=%22ant-typography%22%20style=%22font-size:%2012px;%20line-height:%2020px;%20font-weight:%20400;%22%3E20,593.00%3C/span%3E%3C/span%3E%3C/span%3E%3C/div%3E%3C/div%3E%3C/div%3E%3Cdiv%20class=%22css-3cge9w%22%3E%3Cdiv%3E%3Cdiv%20class=%22%20css-13vtqji-TabularCell%22%3E%3Cspan%20class=%22css-mkoicc-CaptionCellRenderer%22%3E%3Cspan%3E%3Cspan%20class=%22ant-typography%22%20style=%22font-size:%2012px;%20line-height:%2020px;%20font-weight:%20400;%22%3E125,794.00%3C/span%3E%3C/span%3E%3C/span%3E%3C/div%3E%3C/div%3E%3Cdiv%3E%3Cdiv%20class=%22%20css-13vtqji-TabularCell%22%3E%3Cspan%20class=%22css-mkoicc-CaptionCellRenderer%22%3E%3Cspan%3E%3Cspan%20class=%22ant-typography%22%20style=%22font-size:%2012px;%20line-height:%2020px;%20font-weight:%20400;%22%3E1,079,286.00%3C/span%3E%3C/span%3E%3C/span%3E%3C/div%3E%3C/div%3E%3Cdiv%3E%3Cdiv%20class=%22%20css-13vtqji-TabularCell%22%3E%3Cspan%20class=%22css-mkoicc-CaptionCellRenderer%22%3E%3Cspan%3E%3Cspan%20class=%22ant-typography%22%20style=%22font-size:%2012px;%20line-height:%2020px;%20font-weight:%20400;%22%3E2,267,072,000.00%3C/span%3E%3C/span%3E%3C/span%3E%3C/div%3E%3C/div%3E%3Cdiv%3E%3Cdiv%20class=%22%20css-13vtqji-TabularCell%22%3E%3Cspan%20class=%22css-mkoicc-CaptionCellRenderer%22%3E%3Cspan%3E%3Cspan%20class=%22ant-typography%22%20style=%22font-size:%2012px;%20line-height:%2020px;%20font-weight:%20400;%22%3E22,351.29%3C/span%3E%3C/span%3E%3C/span%3E%3C/div%3E%3C/div%3E%3Cdiv%3E%3Cdiv%20class=%22%20css-13vtqji-TabularCell%22%3E%3Cspan%20class=%22css-mkoicc-CaptionCellRenderer%22%3E%3Cspan%3E%3Cspan%20class=%22ant-typography%22%20style=%22font-size:%2012px;%20line-height:%2020px;%20font-weight:%20400;%22%3E68,078,816.00%3C/span%3E%3C/span%3E%3C/span%3E%3C/div%3E%3C/div%3E%3Cdiv%3E%3Cdiv%20class=%22%20css-13vtqji-TabularCell%22%3E%3Cspan%20class=%22css-mkoicc-CaptionCellRenderer%22%3E%3Cspan%3E%3Cspan%20class=%22ant-typography%22%20style=%22font-size:%2012px;%20line-height:%2020px;%20font-weight:%20400;%22%3E49,507.00%3C/span%3E%3C/span%3E%3C/span%3E%3C/div%3E%3C/div%3E%3Cdiv%3E%3Cdiv%20class=%22%20css-13vtqji-TabularCell%22%3E%3Cspan%20class=%22css-mkoicc-CaptionCellRenderer%22%3E%3Cspan%3E%3Cspan%20class=%22ant-typography%22%20style=%22font-size:%2012px;%20line-height:%2020px;%20font-weight:%20400;%22%3E11,659.00%3C/span%3E%3C/span%3E%3C/span%3E%3C/div%3E%3C/div%3E%3Cdiv%3E%3Cdiv%20class=%22%20css-13vtqji-TabularCell%22%3E%3Cspan%20class=%22css-mkoicc-CaptionCellRenderer%22%3E%3Cspan%3E%3Cspan%20class=%22ant-typography%22%20style=%22font-size:%2012px;%20line-height:%2020px;%20font-weight:%20400;%22%3E64,628.00%3C/span%3E%3C/span%3E%3C/span%3E%3C/div%3E%3C/div%3E%3C/div%3E%3C/div%3E%3C/div%3E%3Cdiv%20class=%22css-qoln2f%22%3E%3Cdiv%20class=%22css-1p4en1r%22%3E%3C/div%3E%3C/div%3E%3Cdiv%20class=%22css-1wwcy4f%22%3E%3Cdiv%20class=%22css-17nh67w%22%3E%3C/div%3E%3C/div%3E%3C/div%3E%3C/div%3E%3Cdiv%20class=%22css-t881dv-SelectionStatistics%22%3E%3C/div%3E%3C/div%3E%3C/div%3E%3C/div%3E%3C/div%3E%3C/div%3E%3C/div%3E%3Cspan%20role=%22presentation%22%20class=%22css-14zuz97%20Resizer%20vertical%20disabled%22%3E%3C/span%3E%3Cdiv%20class=%22Pane%20vertical%20Pane2%20%20%22%20style=%22flex:%200%200%20auto;%20position:%20relative;%20outline:%20none;%20width:%200px;%20display:%20flex;%20background-color:%20rgb(255,%20255,%20255);%20overflow:%20auto;%22%3E%3Cdiv%20class=%22css-1ouk3zc-EditorSplitPane%22%3E%3Cdiv%20class=%22css-1jjvrwi-EditorSplitPane%22%3E%3C/div%3E%3C/div%3E%3C/div%3E%3C/div%3E%3C/div%3E%3C/div%3E%3C/div%3E%0A%20%20%20%20%20%20%20%20%3C/div%3E%0A%20%20%20%20%20%20%3C/foreignObject%3E%0A%20%20%20%20%3C/svg%3E\">"
      ],
      "text/plain": [
       "Open the notebook in JupyterLab with the atoti extension installed and enabled to see this widget."
      ]
     },
     "metadata": {},
     "output_type": "display_data"
    }
   ],
   "source": [
    "cube.visualize(\"Default slicing member ordering updated\")"
   ]
  },
  {
   "cell_type": "markdown",
   "metadata": {},
   "source": [
    "### Normal Distribution Check"
   ]
  },
  {
   "cell_type": "code",
   "execution_count": 29,
   "metadata": {},
   "outputs": [],
   "source": [
    "m[\"norm_stat\"] = tt.agg.mean(stats_store[\"norm_stat\"])\n",
    "m[\"norm_p\"] = tt.agg.mean(stats_store[\"norm_p\"])\n",
    "m[\"kurtosis\"] = tt.agg.mean(stats_store[\"kurtosis\"])\n",
    "m[\"skewness\"] = tt.agg.mean(stats_store[\"skewness\"])\n",
    "m[\"std\"] = tt.agg.mean(stats_store[\"std\"])\n",
    "m[\"durbin_watson\"] = tt.agg.mean(stats_store[\"durbin_watson\"])\n",
    "\n",
    "m[\"norm_stat\"].formatter = \"DOUBLE[#,###.0000]\"\n",
    "m[\"norm_p\"].formatter = \"DOUBLE[#,###.0000]\"\n",
    "m[\"kurtosis\"].formatter = \"DOUBLE[#,###.0000]\"\n",
    "m[\"skewness\"].formatter = \"DOUBLE[#,###.0000]\"\n",
    "m[\"std\"].formatter = \"DOUBLE[#,###.0000]\"\n",
    "m[\"durbin_watson\"].formatter = \"DOUBLE[#,###.0000]\""
   ]
  },
  {
   "cell_type": "code",
   "execution_count": 30,
   "metadata": {},
   "outputs": [],
   "source": [
    "m[\"lag_acf\"] = tt.agg.mean(stats_store[\"lag_acf\"])\n",
    "m[\"lag_pacf\"] = tt.agg.mean(stats_store[\"lag_pacf\"])"
   ]
  },
  {
   "cell_type": "code",
   "execution_count": 31,
   "metadata": {},
   "outputs": [],
   "source": [
    "stats_folder = \"Statistics\"\n",
    "m[\"norm_stat\"].folder = stats_folder\n",
    "m[\"norm_p\"].folder = stats_folder\n",
    "m[\"kurtosis\"].folder = stats_folder\n",
    "m[\"skewness\"].folder = stats_folder\n",
    "m[\"std\"].folder = stats_folder\n",
    "m[\"durbin_watson\"].folder = stats_folder\n",
    "m[\"lag_acf\"].folder = stats_folder\n",
    "m[\"lag_pacf\"].folder = stats_folder"
   ]
  },
  {
   "cell_type": "code",
   "execution_count": 32,
   "metadata": {
    "atoti": {
     "height": 424,
     "state": {
      "name": "Bit coin metrics statistics",
      "type": "container",
      "value": {
       "body": {
        "configuration": {
         "tabular": {
          "addButtonFilter": "numeric",
          "cellRenderers": [
           "tree-layout"
          ],
          "columns": [
           {
            "key": "[Measures].[lag_acf]",
            "width": 224
           },
           {
            "key": "[Measures].[lag_pacf]",
            "width": 123
           },
           {
            "key": "c-treeCells-member",
            "width": 191
           },
           {
            "key": "[Measures].[norm_stat]",
            "width": 93
           },
           {
            "key": "[Measures].[kurtosis]",
            "width": 80
           },
           {
            "key": "[Measures].[skewness]",
            "width": 80
           }
          ],
          "columnsGroups": [
           {
            "captionProducer": "firstColumn",
            "cellFactory": "kpi-status",
            "selector": "kpi-status"
           },
           {
            "captionProducer": "firstColumn",
            "cellFactory": "lookup",
            "selector": "lookup"
           },
           {
            "captionProducer": "expiry",
            "cellFactory": "expiry",
            "selector": "kpi-expiry"
           },
           {
            "captionProducer": "columnMerge",
            "cellFactory": {
             "args": {},
             "key": "treeCells"
            },
            "selector": "member"
           }
          ],
          "defaultOptions": {},
          "expansion": {
           "automaticExpansion": true
          },
          "hideAddButton": true,
          "pinnedHeaderSelector": "member",
          "sortingMode": "non-breaking",
          "statisticsShown": true
         }
        },
        "contextValues": {},
        "mdx": "SELECT NON EMPTY Hierarchize(Union(Crossjoin([Cryptocurrency].[Coin Symbol].[coin_symbol].Members, [Metrics].[metric_name].DefaultMember), Crossjoin([Cryptocurrency].[Coin Symbol].[coin_symbol].[ADA], [Metrics].[metric_name].[metric_name].Members), Crossjoin([Cryptocurrency].[Coin Symbol].[coin_symbol].[BTC], Descendants({[Metrics].[metric_name].[ALL].[AllMember]}, [Metrics].[metric_name].[metric_name])))) ON ROWS, NON EMPTY {[Measures].[norm_p], [Measures].[norm_stat], [Measures].[kurtosis], [Measures].[skewness], [Measures].[lag_acf], [Measures].[lag_pacf], [Measures].[std]} ON COLUMNS FROM [Cryptocurrency cube] CELL PROPERTIES VALUE, FORMATTED_VALUE, BACK_COLOR, FORE_COLOR, FONT_FLAGS",
        "ranges": {
         "column": {
          "chunkSize": 50,
          "thresholdPercentage": 0.2
         },
         "row": {
          "chunkSize": 2000,
          "thresholdPercentage": 0.1
         }
        },
        "serverUrl": ""
       },
       "containerKey": "pivot-table",
       "showTitleBar": false,
       "style": {}
      }
     }
    }
   },
   "outputs": [
    {
     "data": {
      "application/vnd.atoti.v0+json": {
       "cellSet": {
        "axes": [
         {
          "hierarchies": [
           {
            "dimension": "Measures",
            "hierarchy": "Measures"
           }
          ],
          "id": 0,
          "positions": [
           [
            {
             "captionPath": [
              "norm_p"
             ],
             "namePath": [
              "norm_p"
             ],
             "properties": {
              "DISPLAY_INFO": 0
             }
            }
           ],
           [
            {
             "captionPath": [
              "norm_stat"
             ],
             "namePath": [
              "norm_stat"
             ],
             "properties": {
              "DISPLAY_INFO": 0
             }
            }
           ],
           [
            {
             "captionPath": [
              "kurtosis"
             ],
             "namePath": [
              "kurtosis"
             ],
             "properties": {
              "DISPLAY_INFO": 0
             }
            }
           ],
           [
            {
             "captionPath": [
              "skewness"
             ],
             "namePath": [
              "skewness"
             ],
             "properties": {
              "DISPLAY_INFO": 0
             }
            }
           ],
           [
            {
             "captionPath": [
              "lag_acf"
             ],
             "namePath": [
              "lag_acf"
             ],
             "properties": {
              "DISPLAY_INFO": 0
             }
            }
           ],
           [
            {
             "captionPath": [
              "lag_pacf"
             ],
             "namePath": [
              "lag_pacf"
             ],
             "properties": {
              "DISPLAY_INFO": 0
             }
            }
           ],
           [
            {
             "captionPath": [
              "std"
             ],
             "namePath": [
              "std"
             ],
             "properties": {
              "DISPLAY_INFO": 0
             }
            }
           ]
          ]
         },
         {
          "hierarchies": [
           {
            "dimension": "Cryptocurrency",
            "hierarchy": "Coin Symbol"
           },
           {
            "dimension": "Metrics",
            "hierarchy": "metric_name"
           }
          ],
          "id": 1,
          "positions": [
           [
            {
             "captionPath": [
              "BTC"
             ],
             "namePath": [
              "BTC"
             ],
             "properties": {
              "DISPLAY_INFO": 1
             }
            },
            {
             "captionPath": [
              "AllMember"
             ],
             "namePath": [
              "AllMember"
             ],
             "properties": {
              "DISPLAY_INFO": 65548
             }
            }
           ],
           [
            {
             "captionPath": [
              "BTC"
             ],
             "namePath": [
              "BTC"
             ],
             "properties": {
              "DISPLAY_INFO": 1
             }
            },
            {
             "captionPath": [
              "AllMember",
              "Bullish ratio"
             ],
             "namePath": [
              "AllMember",
              "Bullish ratio"
             ],
             "properties": {
              "DISPLAY_INFO": 0
             }
            }
           ],
           [
            {
             "captionPath": [
              "BTC"
             ],
             "namePath": [
              "BTC"
             ],
             "properties": {
              "DISPLAY_INFO": 1
             }
            },
            {
             "captionPath": [
              "AllMember",
              "Favorite average"
             ],
             "namePath": [
              "AllMember",
              "Favorite average"
             ],
             "properties": {
              "DISPLAY_INFO": 131072
             }
            }
           ],
           [
            {
             "captionPath": [
              "BTC"
             ],
             "namePath": [
              "BTC"
             ],
             "properties": {
              "DISPLAY_INFO": 1
             }
            },
            {
             "captionPath": [
              "AllMember",
              "Favorite total"
             ],
             "namePath": [
              "AllMember",
              "Favorite total"
             ],
             "properties": {
              "DISPLAY_INFO": 131072
             }
            }
           ],
           [
            {
             "captionPath": [
              "BTC"
             ],
             "namePath": [
              "BTC"
             ],
             "properties": {
              "DISPLAY_INFO": 1
             }
            },
            {
             "captionPath": [
              "AllMember",
              "Followers average"
             ],
             "namePath": [
              "AllMember",
              "Followers average"
             ],
             "properties": {
              "DISPLAY_INFO": 131072
             }
            }
           ],
           [
            {
             "captionPath": [
              "BTC"
             ],
             "namePath": [
              "BTC"
             ],
             "properties": {
              "DISPLAY_INFO": 1
             }
            },
            {
             "captionPath": [
              "AllMember",
              "Followers total"
             ],
             "namePath": [
              "AllMember",
              "Followers total"
             ],
             "properties": {
              "DISPLAY_INFO": 131072
             }
            }
           ],
           [
            {
             "captionPath": [
              "BTC"
             ],
             "namePath": [
              "BTC"
             ],
             "properties": {
              "DISPLAY_INFO": 1
             }
            },
            {
             "captionPath": [
              "AllMember",
              "Polarity average"
             ],
             "namePath": [
              "AllMember",
              "Polarity average"
             ],
             "properties": {
              "DISPLAY_INFO": 131072
             }
            }
           ],
           [
            {
             "captionPath": [
              "BTC"
             ],
             "namePath": [
              "BTC"
             ],
             "properties": {
              "DISPLAY_INFO": 1
             }
            },
            {
             "captionPath": [
              "AllMember",
              "Polarity total"
             ],
             "namePath": [
              "AllMember",
              "Polarity total"
             ],
             "properties": {
              "DISPLAY_INFO": 131072
             }
            }
           ],
           [
            {
             "captionPath": [
              "BTC"
             ],
             "namePath": [
              "BTC"
             ],
             "properties": {
              "DISPLAY_INFO": 1
             }
            },
            {
             "captionPath": [
              "AllMember",
              "Price"
             ],
             "namePath": [
              "AllMember",
              "Price"
             ],
             "properties": {
              "DISPLAY_INFO": 131072
             }
            }
           ],
           [
            {
             "captionPath": [
              "BTC"
             ],
             "namePath": [
              "BTC"
             ],
             "properties": {
              "DISPLAY_INFO": 1
             }
            },
            {
             "captionPath": [
              "AllMember",
              "Returns"
             ],
             "namePath": [
              "AllMember",
              "Returns"
             ],
             "properties": {
              "DISPLAY_INFO": 131072
             }
            }
           ],
           [
            {
             "captionPath": [
              "BTC"
             ],
             "namePath": [
              "BTC"
             ],
             "properties": {
              "DISPLAY_INFO": 1
             }
            },
            {
             "captionPath": [
              "AllMember",
              "Retweet average"
             ],
             "namePath": [
              "AllMember",
              "Retweet average"
             ],
             "properties": {
              "DISPLAY_INFO": 131072
             }
            }
           ],
           [
            {
             "captionPath": [
              "BTC"
             ],
             "namePath": [
              "BTC"
             ],
             "properties": {
              "DISPLAY_INFO": 1
             }
            },
            {
             "captionPath": [
              "AllMember",
              "Retweet total"
             ],
             "namePath": [
              "AllMember",
              "Retweet total"
             ],
             "properties": {
              "DISPLAY_INFO": 131072
             }
            }
           ],
           [
            {
             "captionPath": [
              "BTC"
             ],
             "namePath": [
              "BTC"
             ],
             "properties": {
              "DISPLAY_INFO": 1
             }
            },
            {
             "captionPath": [
              "AllMember",
              "Tweet volume"
             ],
             "namePath": [
              "AllMember",
              "Tweet volume"
             ],
             "properties": {
              "DISPLAY_INFO": 131072
             }
            }
           ],
           [
            {
             "captionPath": [
              "ETH"
             ],
             "namePath": [
              "ETH"
             ],
             "properties": {
              "DISPLAY_INFO": 1
             }
            },
            {
             "captionPath": [
              "AllMember"
             ],
             "namePath": [
              "AllMember"
             ],
             "properties": {
              "DISPLAY_INFO": 12
             }
            }
           ],
           [
            {
             "captionPath": [
              "XRP"
             ],
             "namePath": [
              "XRP"
             ],
             "properties": {
              "DISPLAY_INFO": 1
             }
            },
            {
             "captionPath": [
              "AllMember"
             ],
             "namePath": [
              "AllMember"
             ],
             "properties": {
              "DISPLAY_INFO": 12
             }
            }
           ],
           [
            {
             "captionPath": [
              "USDT"
             ],
             "namePath": [
              "USDT"
             ],
             "properties": {
              "DISPLAY_INFO": 1
             }
            },
            {
             "captionPath": [
              "AllMember"
             ],
             "namePath": [
              "AllMember"
             ],
             "properties": {
              "DISPLAY_INFO": 12
             }
            }
           ],
           [
            {
             "captionPath": [
              "BCH"
             ],
             "namePath": [
              "BCH"
             ],
             "properties": {
              "DISPLAY_INFO": 1
             }
            },
            {
             "captionPath": [
              "AllMember"
             ],
             "namePath": [
              "AllMember"
             ],
             "properties": {
              "DISPLAY_INFO": 12
             }
            }
           ],
           [
            {
             "captionPath": [
              "ADA"
             ],
             "namePath": [
              "ADA"
             ],
             "properties": {
              "DISPLAY_INFO": 1
             }
            },
            {
             "captionPath": [
              "AllMember"
             ],
             "namePath": [
              "AllMember"
             ],
             "properties": {
              "DISPLAY_INFO": 65548
             }
            }
           ],
           [
            {
             "captionPath": [
              "ADA"
             ],
             "namePath": [
              "ADA"
             ],
             "properties": {
              "DISPLAY_INFO": 1
             }
            },
            {
             "captionPath": [
              "AllMember",
              "Bullish ratio"
             ],
             "namePath": [
              "AllMember",
              "Bullish ratio"
             ],
             "properties": {
              "DISPLAY_INFO": 0
             }
            }
           ],
           [
            {
             "captionPath": [
              "ADA"
             ],
             "namePath": [
              "ADA"
             ],
             "properties": {
              "DISPLAY_INFO": 1
             }
            },
            {
             "captionPath": [
              "AllMember",
              "Favorite average"
             ],
             "namePath": [
              "AllMember",
              "Favorite average"
             ],
             "properties": {
              "DISPLAY_INFO": 131072
             }
            }
           ],
           [
            {
             "captionPath": [
              "ADA"
             ],
             "namePath": [
              "ADA"
             ],
             "properties": {
              "DISPLAY_INFO": 1
             }
            },
            {
             "captionPath": [
              "AllMember",
              "Favorite total"
             ],
             "namePath": [
              "AllMember",
              "Favorite total"
             ],
             "properties": {
              "DISPLAY_INFO": 131072
             }
            }
           ],
           [
            {
             "captionPath": [
              "ADA"
             ],
             "namePath": [
              "ADA"
             ],
             "properties": {
              "DISPLAY_INFO": 1
             }
            },
            {
             "captionPath": [
              "AllMember",
              "Followers average"
             ],
             "namePath": [
              "AllMember",
              "Followers average"
             ],
             "properties": {
              "DISPLAY_INFO": 131072
             }
            }
           ],
           [
            {
             "captionPath": [
              "ADA"
             ],
             "namePath": [
              "ADA"
             ],
             "properties": {
              "DISPLAY_INFO": 1
             }
            },
            {
             "captionPath": [
              "AllMember",
              "Followers total"
             ],
             "namePath": [
              "AllMember",
              "Followers total"
             ],
             "properties": {
              "DISPLAY_INFO": 131072
             }
            }
           ],
           [
            {
             "captionPath": [
              "ADA"
             ],
             "namePath": [
              "ADA"
             ],
             "properties": {
              "DISPLAY_INFO": 1
             }
            },
            {
             "captionPath": [
              "AllMember",
              "Polarity average"
             ],
             "namePath": [
              "AllMember",
              "Polarity average"
             ],
             "properties": {
              "DISPLAY_INFO": 131072
             }
            }
           ],
           [
            {
             "captionPath": [
              "ADA"
             ],
             "namePath": [
              "ADA"
             ],
             "properties": {
              "DISPLAY_INFO": 1
             }
            },
            {
             "captionPath": [
              "AllMember",
              "Polarity total"
             ],
             "namePath": [
              "AllMember",
              "Polarity total"
             ],
             "properties": {
              "DISPLAY_INFO": 131072
             }
            }
           ],
           [
            {
             "captionPath": [
              "ADA"
             ],
             "namePath": [
              "ADA"
             ],
             "properties": {
              "DISPLAY_INFO": 1
             }
            },
            {
             "captionPath": [
              "AllMember",
              "Price"
             ],
             "namePath": [
              "AllMember",
              "Price"
             ],
             "properties": {
              "DISPLAY_INFO": 131072
             }
            }
           ],
           [
            {
             "captionPath": [
              "ADA"
             ],
             "namePath": [
              "ADA"
             ],
             "properties": {
              "DISPLAY_INFO": 1
             }
            },
            {
             "captionPath": [
              "AllMember",
              "Returns"
             ],
             "namePath": [
              "AllMember",
              "Returns"
             ],
             "properties": {
              "DISPLAY_INFO": 131072
             }
            }
           ],
           [
            {
             "captionPath": [
              "ADA"
             ],
             "namePath": [
              "ADA"
             ],
             "properties": {
              "DISPLAY_INFO": 1
             }
            },
            {
             "captionPath": [
              "AllMember",
              "Retweet average"
             ],
             "namePath": [
              "AllMember",
              "Retweet average"
             ],
             "properties": {
              "DISPLAY_INFO": 131072
             }
            }
           ],
           [
            {
             "captionPath": [
              "ADA"
             ],
             "namePath": [
              "ADA"
             ],
             "properties": {
              "DISPLAY_INFO": 1
             }
            },
            {
             "captionPath": [
              "AllMember",
              "Retweet total"
             ],
             "namePath": [
              "AllMember",
              "Retweet total"
             ],
             "properties": {
              "DISPLAY_INFO": 131072
             }
            }
           ],
           [
            {
             "captionPath": [
              "ADA"
             ],
             "namePath": [
              "ADA"
             ],
             "properties": {
              "DISPLAY_INFO": 1
             }
            },
            {
             "captionPath": [
              "AllMember",
              "Tweet volume"
             ],
             "namePath": [
              "AllMember",
              "Tweet volume"
             ],
             "properties": {
              "DISPLAY_INFO": 131072
             }
            }
           ],
           [
            {
             "captionPath": [
              "BSV"
             ],
             "namePath": [
              "BSV"
             ],
             "properties": {
              "DISPLAY_INFO": 1
             }
            },
            {
             "captionPath": [
              "AllMember"
             ],
             "namePath": [
              "AllMember"
             ],
             "properties": {
              "DISPLAY_INFO": 12
             }
            }
           ],
           [
            {
             "captionPath": [
              "LTC"
             ],
             "namePath": [
              "LTC"
             ],
             "properties": {
              "DISPLAY_INFO": 1
             }
            },
            {
             "captionPath": [
              "AllMember"
             ],
             "namePath": [
              "AllMember"
             ],
             "properties": {
              "DISPLAY_INFO": 12
             }
            }
           ],
           [
            {
             "captionPath": [
              "LINK"
             ],
             "namePath": [
              "LINK"
             ],
             "properties": {
              "DISPLAY_INFO": 1
             }
            },
            {
             "captionPath": [
              "AllMember"
             ],
             "namePath": [
              "AllMember"
             ],
             "properties": {
              "DISPLAY_INFO": 12
             }
            }
           ],
           [
            {
             "captionPath": [
              "BNB"
             ],
             "namePath": [
              "BNB"
             ],
             "properties": {
              "DISPLAY_INFO": 1
             }
            },
            {
             "captionPath": [
              "AllMember"
             ],
             "namePath": [
              "AllMember"
             ],
             "properties": {
              "DISPLAY_INFO": 12
             }
            }
           ],
           [
            {
             "captionPath": [
              "EOS"
             ],
             "namePath": [
              "EOS"
             ],
             "properties": {
              "DISPLAY_INFO": 1
             }
            },
            {
             "captionPath": [
              "AllMember"
             ],
             "namePath": [
              "AllMember"
             ],
             "properties": {
              "DISPLAY_INFO": 12
             }
            }
           ],
           [
            {
             "captionPath": [
              "TRON"
             ],
             "namePath": [
              "TRON"
             ],
             "properties": {
              "DISPLAY_INFO": 1
             }
            },
            {
             "captionPath": [
              "AllMember"
             ],
             "namePath": [
              "AllMember"
             ],
             "properties": {
              "DISPLAY_INFO": 12
             }
            }
           ]
          ]
         }
        ],
        "cells": [
         {
          "formattedValue": ".0182",
          "ordinal": 0,
          "properties": {
           "BACK_COLOR": null,
           "FONT_FLAGS": 0,
           "FORE_COLOR": null
          },
          "value": 0.018228857630096615
         },
         {
          "formattedValue": "175.1444",
          "ordinal": 1,
          "properties": {
           "BACK_COLOR": null,
           "FONT_FLAGS": 0,
           "FORE_COLOR": null
          },
          "value": 175.14442770395146
         },
         {
          "formattedValue": "16.7860",
          "ordinal": 2,
          "properties": {
           "BACK_COLOR": null,
           "FONT_FLAGS": 0,
           "FORE_COLOR": null
          },
          "value": 16.785996679714213
         },
         {
          "formattedValue": "2.1643",
          "ordinal": 3,
          "properties": {
           "BACK_COLOR": null,
           "FONT_FLAGS": 0,
           "FORE_COLOR": null
          },
          "value": 2.1643292924563102
         },
         {
          "formattedValue": "floatVector[51]{1.0, ...}",
          "ordinal": 4,
          "properties": {
           "BACK_COLOR": null,
           "FONT_FLAGS": 0,
           "FORE_COLOR": null
          },
          "value": [
           1,
           0.6777389,
           0.57400906,
           0.51011574,
           0.49203008,
           0.4308505,
           0.41809517,
           0.42867285,
           0.388519,
           0.35306126,
           0.34015203,
           0.3192756,
           0.31501457,
           0.31385776,
           0.3037719,
           0.2900505,
           0.25066745,
           0.25403064,
           0.24345766,
           0.25011128,
           0.27043158,
           0.2620282,
           0.23167925,
           0.16359924,
           0.14884672,
           0.12659732,
           0.12830257,
           0.11035867,
           0.122032724,
           0.08557117,
           0.07250066,
           0.06379543,
           0.0498411,
           0.02742216,
           0.026780263,
           0.028296208,
           0.013614414,
           -0.014884043,
           -0.03518351,
           -0.032435976,
           -0.04627129,
           -0.010168844,
           -0.008337638,
           -0.012025169,
           -0.027593082,
           -0.03291131,
           -0.037762634,
           -0.037389234,
           -0.01798983,
           -0.0049980795,
           -0.035662934
          ]
         },
         {
          "formattedValue": "floatVector[51]{1.0, ...}",
          "ordinal": 5,
          "properties": {
           "BACK_COLOR": null,
           "FONT_FLAGS": 0,
           "FORE_COLOR": null
          },
          "value": [
           1,
           0.678676,
           0.047919154,
           0.12093681,
           0.05756759,
           0.031716574,
           0.055170782,
           0.15796539,
           -0.028253715,
           0.024405222,
           0.056015447,
           0.023826376,
           0.03472656,
           -0.02597842,
           -0.05477304,
           0.02648846,
           0.03237395,
           0.10273018,
           0.02784625,
           0.1155058,
           0.021967096,
           -0.06290768,
           0.05309169,
           -0.17781572,
           -0.00014923855,
           0.05446273,
           -0.041816644,
           0.09325486,
           0.033635512,
           -0.18686037,
           0.025672942,
           0.09774588,
           -0.04117702,
           -0.117276,
           -0.19914047,
           0.04389812,
           -0.28945255,
           -0.28414565,
           1.4206572,
           3.3816211,
           -2.3134375,
           2.7472281,
           6.8189707,
           0.51257294,
           -2.821691,
           0.3718025,
           -0.8163073,
           -0.7462028,
           1.7525408,
           -2.4588957,
           -2.5124857
          ]
         },
         {
          "formattedValue": "1,012,402.3394",
          "ordinal": 6,
          "properties": {
           "BACK_COLOR": null,
           "FONT_FLAGS": 0,
           "FORE_COLOR": null
          },
          "value": 1012402.3393704961
         },
         {
          "formattedValue": ".0000",
          "ordinal": 7,
          "properties": {
           "BACK_COLOR": null,
           "FONT_FLAGS": 0,
           "FORE_COLOR": null
          },
          "value": 1.912997636438774e-56
         },
         {
          "formattedValue": "256.5922",
          "ordinal": 8,
          "properties": {
           "BACK_COLOR": null,
           "FONT_FLAGS": 0,
           "FORE_COLOR": null
          },
          "value": 256.5921875054704
         },
         {
          "formattedValue": "20.1819",
          "ordinal": 9,
          "properties": {
           "BACK_COLOR": null,
           "FONT_FLAGS": 0,
           "FORE_COLOR": null
          },
          "value": 20.181851967661743
         },
         {
          "formattedValue": "3.9888",
          "ordinal": 10,
          "properties": {
           "BACK_COLOR": null,
           "FONT_FLAGS": 0,
           "FORE_COLOR": null
          },
          "value": 3.98880343456045
         },
         {
          "formattedValue": "floatVector[51]{1.0, ...}",
          "ordinal": 11,
          "properties": {
           "BACK_COLOR": null,
           "FONT_FLAGS": 0,
           "FORE_COLOR": null
          },
          "value": [
           1,
           0.71522003,
           0.49174336,
           0.3611754,
           0.258767,
           0.24128915,
           0.18655752,
           0.19404754,
           0.14937347,
           0.11553899,
           0.12402185,
           0.089012824,
           0.100511484,
           0.087670974,
           0.07134225,
           0.065558136,
           0.027446441,
           0.022992862,
           0.005408957,
           0.04431389,
           0.08058482,
           0.039278436,
           0.033404883,
           -0.0057637566,
           -0.021375827,
           -0.016445616,
           -0.0072420444,
           -0.019320326,
           -0.034921933,
           -0.040017627,
           -0.034182724,
           -0.05972201,
           -0.10899509,
           -0.116127245,
           -0.10911285,
           -0.10151375,
           -0.10738977,
           -0.12739357,
           -0.13620657,
           -0.14706038,
           -0.13504648,
           -0.113180846,
           -0.112018555,
           -0.10742723,
           -0.11802649,
           -0.114550315,
           -0.1091749,
           -0.10246116,
           -0.08765672,
           -0.109110504,
           -0.11111237
          ]
         },
         {
          "formattedValue": "floatVector[51]{1.0, ...}",
          "ordinal": 12,
          "properties": {
           "BACK_COLOR": null,
           "FONT_FLAGS": 0,
           "FORE_COLOR": null
          },
          "value": [
           1,
           0.7153778,
           -0.040435225,
           0.050808955,
           -0.01647033,
           0.121756084,
           -0.06524353,
           0.13710628,
           -0.12124328,
           0.059586797,
           0.045986716,
           -0.056079105,
           0.083015636,
           -0.030136455,
           -0.0032797323,
           0.008972369,
           -0.05423369,
           0.020908609,
           -0.020809777,
           0.13311549,
           0.0042079254,
           -0.11186081,
           0.05882047,
           -0.08459315,
           0.024499305,
           0.01053115,
           0.046899077,
           -0.09793539,
           0.038037185,
           -0.029538976,
           0.028289957,
           -0.11471045,
           -0.08507593,
           0.030977381,
           -0.0072292383,
           -0.024216006,
           -0.041475818,
           -0.049427643,
           -0.031182775,
           -0.03162858,
           0.0076658754,
           0.011282653,
           -0.046335153,
           0.0022734331,
           -0.05449633,
           0.0039986223,
           -0.021289952,
           0.015253993,
           -0.024384404,
           -0.0979653,
           0.014367933
          ]
         },
         {
          "formattedValue": "3.1582",
          "ordinal": 13,
          "properties": {
           "BACK_COLOR": null,
           "FONT_FLAGS": 0,
           "FORE_COLOR": null
          },
          "value": 3.1581916347612693
         },
         {
          "formattedValue": ".0000",
          "ordinal": 14,
          "properties": {
           "BACK_COLOR": null,
           "FONT_FLAGS": 0,
           "FORE_COLOR": null
          },
          "value": 2.912963506616248e-55
         },
         {
          "formattedValue": "251.1460",
          "ordinal": 15,
          "properties": {
           "BACK_COLOR": null,
           "FONT_FLAGS": 0,
           "FORE_COLOR": null
          },
          "value": 251.14601832908033
         },
         {
          "formattedValue": "28.4706",
          "ordinal": 16,
          "properties": {
           "BACK_COLOR": null,
           "FONT_FLAGS": 0,
           "FORE_COLOR": null
          },
          "value": 28.470644172446494
         },
         {
          "formattedValue": "3.5427",
          "ordinal": 17,
          "properties": {
           "BACK_COLOR": null,
           "FONT_FLAGS": 0,
           "FORE_COLOR": null
          },
          "value": 3.542729526936534
         },
         {
          "formattedValue": "floatVector[51]{1.0, ...}",
          "ordinal": 18,
          "properties": {
           "BACK_COLOR": null,
           "FONT_FLAGS": 0,
           "FORE_COLOR": null
          },
          "value": [
           1,
           0.48036698,
           0.4415236,
           0.33143434,
           0.3019871,
           0.21001667,
           0.21021073,
           0.2695388,
           0.20016132,
           0.18656738,
           0.20286517,
           0.15899333,
           0.1649054,
           0.15656672,
           0.1342406,
           0.15449582,
           0.15654594,
           0.15010604,
           0.1428073,
           0.12377891,
           0.21675862,
           0.14277191,
           0.15242867,
           0.07318754,
           0.07792631,
           0.03229339,
           0.047902845,
           0.026583241,
           0.010603527,
           -0.02065037,
           0.003993828,
           -0.011152427,
           0.04012586,
           0.006944717,
           0.017020665,
           -0.013923089,
           0.0010597217,
           0.01783601,
           -0.025187656,
           -0.03715482,
           -0.04806682,
           -0.0037993658,
           -0.011151994,
           -0.019888557,
           -0.009258951,
           -0.025175886,
           -0.022554122,
           -0.07222251,
           0.0068291044,
           -0.015511284,
           -0.03838691
          ]
         },
         {
          "formattedValue": "floatVector[51]{1.0, ...}",
          "ordinal": 19,
          "properties": {
           "BACK_COLOR": null,
           "FONT_FLAGS": 0,
           "FORE_COLOR": null
          },
          "value": [
           1,
           0.48041216,
           0.27489182,
           0.06638677,
           0.07284708,
           -0.0238807,
           0.04922071,
           0.16392967,
           -0.010689688,
           0.00034015163,
           0.06902008,
           -0.017917914,
           0.047768854,
           0.033461206,
           -0.02798913,
           0.065274835,
           0.04536753,
           0.0029021897,
           0.029931974,
           -0.013959987,
           0.15402056,
           -0.015690396,
           -0.016367523,
           -0.0837783,
           -0.017197618,
           -0.023035306,
           0.025588997,
           -0.050187144,
           -0.040168844,
           -0.051665515,
           0.01990184,
           0.0019105866,
           0.06379132,
           -0.032152146,
           -0.0004977507,
           -0.03530029,
           0.007826101,
           0.042837813,
           -0.052794408,
           -0.048130337,
           -0.047664423,
           0.055597108,
           0.0020040646,
           -0.058933977,
           -0.036850672,
           -0.00503807,
           -0.005354188,
           -0.1817347,
           0.15968697,
           0.055345736,
           -0.14369741
          ]
         },
         {
          "formattedValue": "2.0445",
          "ordinal": 20,
          "properties": {
           "BACK_COLOR": null,
           "FONT_FLAGS": 0,
           "FORE_COLOR": null
          },
          "value": 2.044539229115274
         },
         {
          "formattedValue": ".0000",
          "ordinal": 21,
          "properties": {
           "BACK_COLOR": null,
           "FONT_FLAGS": 0,
           "FORE_COLOR": null
          },
          "value": 1.041405011382707e-37
         },
         {
          "formattedValue": "170.3102",
          "ordinal": 22,
          "properties": {
           "BACK_COLOR": null,
           "FONT_FLAGS": 0,
           "FORE_COLOR": null
          },
          "value": 170.31015533377058
         },
         {
          "formattedValue": "12.7741",
          "ordinal": 23,
          "properties": {
           "BACK_COLOR": null,
           "FONT_FLAGS": 0,
           "FORE_COLOR": null
          },
          "value": 12.774054330245573
         },
         {
          "formattedValue": "2.3294",
          "ordinal": 24,
          "properties": {
           "BACK_COLOR": null,
           "FONT_FLAGS": 0,
           "FORE_COLOR": null
          },
          "value": 2.329384080636562
         },
         {
          "formattedValue": "floatVector[51]{1.0, ...}",
          "ordinal": 25,
          "properties": {
           "BACK_COLOR": null,
           "FONT_FLAGS": 0,
           "FORE_COLOR": null
          },
          "value": [
           1,
           0.4660051,
           0.37792522,
           0.36170983,
           0.41411564,
           0.2825144,
           0.3457815,
           0.44431278,
           0.37230483,
           0.2925039,
           0.34380248,
           0.3290317,
           0.31761926,
           0.29334655,
           0.3483447,
           0.33815187,
           0.23945874,
           0.29710677,
           0.2629031,
           0.24830528,
           0.30712715,
           0.33536887,
           0.2866467,
           0.15098397,
           0.19004507,
           0.17502059,
           0.16418311,
           0.1326633,
           0.1563246,
           0.11461284,
           0.089023754,
           0.10386691,
           0.16580491,
           0.11933531,
           0.12942484,
           0.1640899,
           0.18164398,
           0.12295883,
           0.09556766,
           0.08691712,
           0.023971355,
           0.11414899,
           0.091280155,
           0.06233364,
           0.040147368,
           0.04197949,
           0.05978087,
           -0.0058155833,
           0.086494,
           0.07322006,
           0.020626806
          ]
         },
         {
          "formattedValue": "floatVector[51]{1.0, ...}",
          "ordinal": 26,
          "properties": {
           "BACK_COLOR": null,
           "FONT_FLAGS": 0,
           "FORE_COLOR": null
          },
          "value": [
           1,
           0.46708244,
           0.20709477,
           0.17309369,
           0.22657719,
           -0.022938035,
           0.1624816,
           0.25676146,
           0.050309047,
           0.0065208375,
           0.09758051,
           0.027610907,
           0.09030862,
           0.027807651,
           0.065874256,
           0.087755196,
           -0.07498903,
           0.08307788,
           -0.025613064,
           -0.008029601,
           0.16213986,
           0.067120396,
           0.021032522,
           -0.13266698,
           -0.036278915,
           -0.020923344,
           -0.0008802548,
           -0.09107098,
           -0.055744134,
           -0.088977024,
           -0.029107368,
           0.015677532,
           0.056070924,
           0.025429482,
           0.030190354,
           0.1001532,
           0.117162116,
           0.05826628,
           0.010023058,
           -0.026239082,
           -0.11377569,
           0.09987774,
           -0.059224676,
           -0.0535463,
           0.016120153,
           -0.07004358,
           0.047754772,
           -0.101475246,
           0.17345469,
           0.057132814,
           -0.08087755
          ]
         },
         {
          "formattedValue": "7,602.5379",
          "ordinal": 27,
          "properties": {
           "BACK_COLOR": null,
           "FONT_FLAGS": 0,
           "FORE_COLOR": null
          },
          "value": 7602.537945727316
         },
         {
          "formattedValue": ".1619",
          "ordinal": 28,
          "properties": {
           "BACK_COLOR": null,
           "FONT_FLAGS": 0,
           "FORE_COLOR": null
          },
          "value": 0.16193416745735817
         },
         {
          "formattedValue": "3.6411",
          "ordinal": 29,
          "properties": {
           "BACK_COLOR": null,
           "FONT_FLAGS": 0,
           "FORE_COLOR": null
          },
          "value": 3.6411308001238814
         },
         {
          "formattedValue": "-.1645",
          "ordinal": 30,
          "properties": {
           "BACK_COLOR": null,
           "FONT_FLAGS": 0,
           "FORE_COLOR": null
          },
          "value": -0.1645432106893323
         },
         {
          "formattedValue": "-.2760",
          "ordinal": 31,
          "properties": {
           "BACK_COLOR": null,
           "FONT_FLAGS": 0,
           "FORE_COLOR": null
          },
          "value": -0.27596199889399375
         },
         {
          "formattedValue": "floatVector[51]{1.0, ...}",
          "ordinal": 32,
          "properties": {
           "BACK_COLOR": null,
           "FONT_FLAGS": 0,
           "FORE_COLOR": null
          },
          "value": [
           1,
           0.793025,
           0.6406395,
           0.5711969,
           0.51634574,
           0.47430885,
           0.47682577,
           0.46547803,
           0.38985434,
           0.32927278,
           0.31563944,
           0.28541774,
           0.26785117,
           0.305129,
           0.35481563,
           0.3212482,
           0.27187926,
           0.24196129,
           0.23154052,
           0.23194346,
           0.2792656,
           0.31512046,
           0.25634143,
           0.19062847,
           0.15355061,
           0.13021755,
           0.12211082,
           0.1355937,
           0.17476325,
           0.13137792,
           0.11129916,
           0.1459661,
           0.11831163,
           0.08803429,
           0.10274133,
           0.14258415,
           0.10266159,
           0.046277095,
           0.049528874,
           0.053755876,
           0.058549132,
           0.107261166,
           0.16706233,
           0.1542015,
           0.118648656,
           0.10447062,
           0.08885148,
           0.088161975,
           0.10398655,
           0.1328862,
           0.093625456
          ]
         },
         {
          "formattedValue": "floatVector[51]{1.0, ...}",
          "ordinal": 33,
          "properties": {
           "BACK_COLOR": null,
           "FONT_FLAGS": 0,
           "FORE_COLOR": null
          },
          "value": [
           1,
           0.7931214,
           0.03508739,
           0.15140855,
           0.048715346,
           0.06197297,
           0.14909135,
           0.04350068,
           -0.1183184,
           -0.015425668,
           0.06578258,
           -0.028672995,
           0.034163665,
           0.14370577,
           0.15672165,
           -0.0673321,
           -0.045906387,
           -0.018219683,
           0.055862594,
           0.03675335,
           0.108592026,
           0.063824,
           -0.11681933,
           -0.057641327,
           -0.04022145,
           0.016455162,
           0.032089815,
           0.0022489256,
           0.107256696,
           -0.093359075,
           0.08315189,
           0.16491938,
           -0.0950047,
           -0.027483657,
           -0.013100522,
           0.078023724,
           -0.08367963,
           -0.08065949,
           0.114345334,
           0.07974025,
           0.03626511,
           0.056424372,
           0.13289882,
           0.05714846,
           -0.060910262,
           -0.0664825,
           -0.012280525,
           0.079911835,
           -0.006072316,
           -0.0027654334,
           -0.052434333
          ]
         },
         {
          "formattedValue": "1,551.3447",
          "ordinal": 34,
          "properties": {
           "BACK_COLOR": null,
           "FONT_FLAGS": 0,
           "FORE_COLOR": null
          },
          "value": 1551.344733782142
         },
         {
          "formattedValue": ".0000",
          "ordinal": 35,
          "properties": {
           "BACK_COLOR": null,
           "FONT_FLAGS": 0,
           "FORE_COLOR": null
          },
          "value": 9.52992661960243e-15
         },
         {
          "formattedValue": "64.5687",
          "ordinal": 36,
          "properties": {
           "BACK_COLOR": null,
           "FONT_FLAGS": 0,
           "FORE_COLOR": null
          },
          "value": 64.56867875442201
         },
         {
          "formattedValue": "2.2344",
          "ordinal": 37,
          "properties": {
           "BACK_COLOR": null,
           "FONT_FLAGS": 0,
           "FORE_COLOR": null
          },
          "value": 2.2343912824385193
         },
         {
          "formattedValue": "1.2361",
          "ordinal": 38,
          "properties": {
           "BACK_COLOR": null,
           "FONT_FLAGS": 0,
           "FORE_COLOR": null
          },
          "value": 1.2360545874714086
         },
         {
          "formattedValue": "floatVector[51]{1.0, ...}",
          "ordinal": 39,
          "properties": {
           "BACK_COLOR": null,
           "FONT_FLAGS": 0,
           "FORE_COLOR": null
          },
          "value": [
           1,
           0.753314,
           0.5443709,
           0.5063567,
           0.46979025,
           0.41275024,
           0.4811301,
           0.5772895,
           0.46059915,
           0.31356865,
           0.28220144,
           0.29589176,
           0.28208125,
           0.3534131,
           0.44013396,
           0.3228639,
           0.19671428,
           0.17631765,
           0.16911472,
           0.17617,
           0.26886192,
           0.35356364,
           0.23659728,
           0.07753391,
           0.034069903,
           0.017544085,
           0.0038406102,
           0.0704993,
           0.16237311,
           0.056719307,
           -0.068657495,
           -0.098568946,
           -0.106085405,
           -0.098029725,
           -0.037134826,
           0.021864759,
           -0.07642946,
           -0.20970745,
           -0.23031473,
           -0.21385466,
           -0.21403937,
           -0.13300039,
           -0.041382995,
           -0.12231172,
           -0.21554555,
           -0.24703373,
           -0.24234706,
           -0.2135351,
           -0.12925091,
           -0.0679136,
           -0.16609642
          ]
         },
         {
          "formattedValue": "floatVector[51]{1.0, ...}",
          "ordinal": 40,
          "properties": {
           "BACK_COLOR": null,
           "FONT_FLAGS": 0,
           "FORE_COLOR": null
          },
          "value": [
           1,
           0.75790185,
           -0.07102215,
           0.2835978,
           -0.007951756,
           0.07081898,
           0.3162196,
           0.20431788,
           -0.27174044,
           -0.09153928,
           -0.0034602259,
           0.1279209,
           0.05383474,
           0.15002993,
           0.04509373,
           -0.26108158,
           0.020951902,
           -0.008208059,
           -0.019026503,
           0.13744311,
           0.10511932,
           0.0600608,
           -0.21630688,
           -0.1629433,
           -0.07516166,
           -0.034617558,
           0.042771634,
           0.04487434,
           0.06240058,
           -0.15546575,
           0.008907597,
           -0.102624945,
           -0.043899782,
           0.041036416,
           -0.06395577,
           -0.089572094,
           -0.15518248,
           -0.13832138,
           0.007824639,
           -0.0072793197,
           -0.023139426,
           0.09524391,
           0.03272512,
           -0.04031435,
           0.10000398,
           -0.18768014,
           0.06354214,
           0.04176471,
           0.13394468,
           -0.080925904,
           -0.29358557
          ]
         },
         {
          "formattedValue": "7,301,223.1700",
          "ordinal": 41,
          "properties": {
           "BACK_COLOR": null,
           "FONT_FLAGS": 0,
           "FORE_COLOR": null
          },
          "value": 7301223.170003658
         },
         {
          "formattedValue": ".0000",
          "ordinal": 42,
          "properties": {
           "BACK_COLOR": null,
           "FONT_FLAGS": 0,
           "FORE_COLOR": null
          },
          "value": 9.281161333255426e-36
         },
         {
          "formattedValue": "161.3302",
          "ordinal": 43,
          "properties": {
           "BACK_COLOR": null,
           "FONT_FLAGS": 0,
           "FORE_COLOR": null
          },
          "value": 161.33015333029516
         },
         {
          "formattedValue": "12.2918",
          "ordinal": 44,
          "properties": {
           "BACK_COLOR": null,
           "FONT_FLAGS": 0,
           "FORE_COLOR": null
          },
          "value": 12.291810515508207
         },
         {
          "formattedValue": "2.1709",
          "ordinal": 45,
          "properties": {
           "BACK_COLOR": null,
           "FONT_FLAGS": 0,
           "FORE_COLOR": null
          },
          "value": 2.1709264621751996
         },
         {
          "formattedValue": "floatVector[51]{1.0, ...}",
          "ordinal": 46,
          "properties": {
           "BACK_COLOR": null,
           "FONT_FLAGS": 0,
           "FORE_COLOR": null
          },
          "value": [
           1,
           0.7119829,
           0.55980915,
           0.52854884,
           0.47542194,
           0.44967458,
           0.39771783,
           0.39881384,
           0.361791,
           0.33263916,
           0.30651033,
           0.29893708,
           0.29883897,
           0.27475262,
           0.23395737,
           0.24504292,
           0.21918847,
           0.19991258,
           0.21230827,
           0.23245443,
           0.22978188,
           0.185941,
           0.19317956,
           0.14561695,
           0.11224104,
           0.10392881,
           0.102113925,
           0.09886943,
           0.06348373,
           0.011642145,
           0.0024747576,
           -0.004921999,
           -0.044247776,
           -0.069239564,
           -0.083889194,
           -0.09162004,
           -0.11132051,
           -0.13607502,
           -0.15351287,
           -0.17359245,
           -0.16399096,
           -0.08984606,
           -0.084013276,
           -0.07623675,
           -0.07484592,
           -0.060598783,
           -0.05418853,
           -0.039188676,
           -0.015438468,
           -0.05470129,
           -0.053684242
          ]
         },
         {
          "formattedValue": "floatVector[51]{1.0, ...}",
          "ordinal": 47,
          "properties": {
           "BACK_COLOR": null,
           "FONT_FLAGS": 0,
           "FORE_COLOR": null
          },
          "value": [
           1,
           0.71257865,
           0.11449144,
           0.20814337,
           0.053497795,
           0.10950727,
           0.006110058,
           0.22193754,
           -0.07003747,
           0.048652656,
           -0.013716662,
           0.063946255,
           0.052095506,
           -0.009372889,
           -0.077715546,
           0.16458124,
           -0.10588819,
           0.04092286,
           0.10934196,
           0.14331661,
           0.021593373,
           -0.106335334,
           0.10815358,
           -0.18037297,
           -0.0649863,
           0.05677862,
           0.039545685,
           -0.006360184,
           -0.07219331,
           -0.15966113,
           0.023215933,
           -0.047277234,
           -0.11938818,
           -0.03322204,
           -0.031938434,
           -0.021876993,
           -0.078179896,
           -0.08591436,
           0.0012490939,
           -0.06569221,
           0.050546892,
           0.37535134,
           -0.095803894,
           0.111774266,
           0.015343078,
           0.09056546,
           0.011866942,
           0.15718435,
           0.036101393,
           -0.19814621,
           0.06864544
          ]
         },
         {
          "formattedValue": ".0602",
          "ordinal": 48,
          "properties": {
           "BACK_COLOR": null,
           "FONT_FLAGS": 0,
           "FORE_COLOR": null
          },
          "value": 0.06018656431088695
         },
         {
          "formattedValue": ".0000",
          "ordinal": 49,
          "properties": {
           "BACK_COLOR": null,
           "FONT_FLAGS": 0,
           "FORE_COLOR": null
          },
          "value": 1.7295404731391486e-86
         },
         {
          "formattedValue": "394.9489",
          "ordinal": 50,
          "properties": {
           "BACK_COLOR": null,
           "FONT_FLAGS": 0,
           "FORE_COLOR": null
          },
          "value": 394.94892449345014
         },
         {
          "formattedValue": "70.5602",
          "ordinal": 51,
          "properties": {
           "BACK_COLOR": null,
           "FONT_FLAGS": 0,
           "FORE_COLOR": null
          },
          "value": 70.56017140204378
         },
         {
          "formattedValue": "7.0570",
          "ordinal": 52,
          "properties": {
           "BACK_COLOR": null,
           "FONT_FLAGS": 0,
           "FORE_COLOR": null
          },
          "value": 7.0570031014646695
         },
         {
          "formattedValue": "floatVector[51]{1.0, ...}",
          "ordinal": 53,
          "properties": {
           "BACK_COLOR": null,
           "FONT_FLAGS": 0,
           "FORE_COLOR": null
          },
          "value": [
           1,
           0.5997669,
           0.40590712,
           0.43241128,
           0.3808709,
           0.34435946,
           0.268958,
           0.31854692,
           0.32542354,
           0.33133534,
           0.32116085,
           0.31585348,
           0.30332556,
           0.25095958,
           0.19512722,
           0.1960878,
           0.20648293,
           0.23629522,
           0.24615806,
           0.26846135,
           0.28574628,
           0.23232102,
           0.27121404,
           0.19459476,
           0.14259028,
           0.13633195,
           0.13316521,
           0.14971195,
           0.12809506,
           0.09584177,
           0.093057975,
           0.0984934,
           0.053498097,
           0.01413629,
           -0.0013406503,
           -0.0058724955,
           -0.012660112,
           -0.02212249,
           -0.024537915,
           -0.026561184,
           -0.030299632,
           -0.026009893,
           -0.026594669,
           -0.024883842,
           -0.023406882,
           -0.022061795,
           -0.020685872,
           -0.01747733,
           -0.00752067,
           -0.023331309,
           -0.029023763
          ]
         },
         {
          "formattedValue": "floatVector[51]{1.0, ...}",
          "ordinal": 54,
          "properties": {
           "BACK_COLOR": null,
           "FONT_FLAGS": 0,
           "FORE_COLOR": null
          },
          "value": [
           1,
           0.59995604,
           0.07197898,
           0.2613403,
           0.040874127,
           0.09562421,
           -0.06175063,
           0.644768,
           0.1832237,
           0.46917143,
           -0.046738565,
           0.2546406,
           -0.0005340338,
           -0.3697716,
           -0.59643763,
           0.28354937,
           0.16993156,
           0.65655047,
           0.24493574,
           0.70531553,
           0.35454622,
           -0.5044055,
           1.1475554,
           -1.1742377,
           -0.03418241,
           -0.027357282,
           0.24754417,
           0.4152267,
           -0.006513599,
           -0.5181605,
           0.46508852,
           0.0233546,
           -0.5437842,
           -0.3821072,
           -0.15871945,
           0.028800063,
           -0.09591166,
           -0.15189986,
           0.025360418,
           -0.08088233,
           0.00903978,
           0.24974658,
           -0.18866396,
           0.21653943,
           -0.06573581,
           -0.09107203,
           -0.06606424,
           0.2272149,
           0.10825624,
           -0.29283446,
           0.041865606
          ]
         },
         {
          "formattedValue": "1,558.4155",
          "ordinal": 55,
          "properties": {
           "BACK_COLOR": null,
           "FONT_FLAGS": 0,
           "FORE_COLOR": null
          },
          "value": 1558.415525846254
         },
         {
          "formattedValue": ".0568",
          "ordinal": 56,
          "properties": {
           "BACK_COLOR": null,
           "FONT_FLAGS": 0,
           "FORE_COLOR": null
          },
          "value": 0.056812124103791696
         },
         {
          "formattedValue": "5.7360",
          "ordinal": 57,
          "properties": {
           "BACK_COLOR": null,
           "FONT_FLAGS": 0,
           "FORE_COLOR": null
          },
          "value": 5.736011047002475
         },
         {
          "formattedValue": "-.2268",
          "ordinal": 58,
          "properties": {
           "BACK_COLOR": null,
           "FONT_FLAGS": 0,
           "FORE_COLOR": null
          },
          "value": -0.22677434216574
         },
         {
          "formattedValue": "-.3434",
          "ordinal": 59,
          "properties": {
           "BACK_COLOR": null,
           "FONT_FLAGS": 0,
           "FORE_COLOR": null
          },
          "value": -0.34343234070063666
         },
         {
          "formattedValue": "floatVector[51]{1.0, ...}",
          "ordinal": 60,
          "properties": {
           "BACK_COLOR": null,
           "FONT_FLAGS": 0,
           "FORE_COLOR": null
          },
          "value": [
           1,
           0.97773296,
           0.9568388,
           0.9324925,
           0.9106453,
           0.8839771,
           0.8577835,
           0.8314795,
           0.80895704,
           0.7891218,
           0.76757956,
           0.74669844,
           0.729344,
           0.7119489,
           0.6917627,
           0.67032725,
           0.64658904,
           0.62268585,
           0.59754413,
           0.5741934,
           0.5510364,
           0.5283363,
           0.5025203,
           0.47612163,
           0.45072275,
           0.4241172,
           0.39976594,
           0.37262183,
           0.34957814,
           0.3269149,
           0.3070621,
           0.28514245,
           0.26266998,
           0.2406919,
           0.21965939,
           0.19827288,
           0.1781411,
           0.1583998,
           0.1382371,
           0.12079368,
           0.103036314,
           0.088066876,
           0.07346705,
           0.061659988,
           0.0508712,
           0.040791266,
           0.031019663,
           0.025482,
           0.019674689,
           0.017843492,
           0.012442488
          ]
         },
         {
          "formattedValue": "floatVector[51]{1.0, ...}",
          "ordinal": 61,
          "properties": {
           "BACK_COLOR": null,
           "FONT_FLAGS": 0,
           "FORE_COLOR": null
          },
          "value": [
           1,
           0.9802484,
           0.034347307,
           -0.09892945,
           0.08329082,
           -0.14219703,
           -0.02172396,
           0.014512252,
           0.037461996,
           0.056307312,
           -0.060699373,
           0.010176485,
           0.0623205,
           -0.021462077,
           -0.099225596,
           -0.031418674,
           -0.14165951,
           -0.044005275,
           -0.0017616805,
           0.028583953,
           0.042220246,
           0.007858499,
           -0.06540863,
           -0.032519314,
           0.013893862,
           -0.065472335,
           0.051459506,
           -0.0815611,
           0.058964256,
           0.033516724,
           0.004686661,
           0.0098171355,
           -0.07293689,
           -0.011070305,
           -0.02501532,
           -0.026162019,
           0.04999511,
           0.02905748,
           -0.055325694,
           0.04811892,
           -0.027637353,
           0.020967225,
           0.001102456,
           0.027984688,
           0.022826513,
           -0.030024597,
           0.042960446,
           0.12008951,
           0.036148325,
           0.10357676,
           -0.09620811
          ]
         },
         {
          "formattedValue": "1,575.5995",
          "ordinal": 62,
          "properties": {
           "BACK_COLOR": null,
           "FONT_FLAGS": 0,
           "FORE_COLOR": null
          },
          "value": 1575.5994692065628
         },
         {
          "formattedValue": ".0000",
          "ordinal": 63,
          "properties": {
           "BACK_COLOR": null,
           "FONT_FLAGS": 0,
           "FORE_COLOR": null
          },
          "value": 9.137299452056251e-49
         },
         {
          "formattedValue": "221.2286",
          "ordinal": 64,
          "properties": {
           "BACK_COLOR": null,
           "FONT_FLAGS": 0,
           "FORE_COLOR": null
          },
          "value": 221.22860935932917
         },
         {
          "formattedValue": "27.4353",
          "ordinal": 65,
          "properties": {
           "BACK_COLOR": null,
           "FONT_FLAGS": 0,
           "FORE_COLOR": null
          },
          "value": 27.43533302609259
         },
         {
          "formattedValue": "-2.8604",
          "ordinal": 66,
          "properties": {
           "BACK_COLOR": null,
           "FONT_FLAGS": 0,
           "FORE_COLOR": null
          },
          "value": -2.8604264629451603
         },
         {
          "formattedValue": "floatVector[51]{1.0, ...}",
          "ordinal": 67,
          "properties": {
           "BACK_COLOR": null,
           "FONT_FLAGS": 0,
           "FORE_COLOR": null
          },
          "value": [
           1,
           -0.042897556,
           0.091246895,
           -0.09824629,
           0.14117245,
           -0.015505352,
           0.0058848313,
           -0.0759917,
           -0.04547279,
           0.044884983,
           -0.019955477,
           -0.06751019,
           -0.010253027,
           0.09005233,
           0.027092816,
           0.11896566,
           0.006727409,
           0.02569485,
           -0.0397464,
           -0.009400319,
           -0.035014126,
           0.043943327,
           -0.0060574054,
           -0.047725167,
           0.023198752,
           -0.058016047,
           0.07416773,
           -0.092388645,
           0.012981643,
           -0.0490285,
           0.04533995,
           0.019437267,
           -0.023227395,
           -0.019813925,
           -0.003463776,
           -0.039970886,
           -0.022120006,
           0.020889368,
           -0.05838309,
           0.021085951,
           -0.07149558,
           0.013329272,
           -0.08470372,
           -0.0005301841,
           -0.022976952,
           -0.029278575,
           -0.097935475,
           -0.024408301,
           -0.1084623,
           0.07912557,
           -0.055193007
          ]
         },
         {
          "formattedValue": "floatVector[51]{1.0, ...}",
          "ordinal": 68,
          "properties": {
           "BACK_COLOR": null,
           "FONT_FLAGS": 0,
           "FORE_COLOR": null
          },
          "value": [
           1,
           -0.04289916,
           0.08955684,
           -0.09190649,
           0.12904295,
           0.008499836,
           -0.026414588,
           -0.052721303,
           -0.06903223,
           0.05234463,
           -0.018336736,
           -0.07359519,
           0.014199021,
           0.089223996,
           0.02049814,
           0.12505524,
           0.029325578,
           -0.00978458,
           -0.045565188,
           -0.0538486,
           -0.01568763,
           0.052062884,
           0.01419454,
           -0.03049792,
           0.04978523,
           -0.07065394,
           0.06298447,
           -0.07898105,
           -0.050844032,
           -0.023965606,
           -0.023121774,
           0.05504788,
           -0.0051265243,
           0.006252242,
           0.0061709583,
           -0.06762753,
           -0.045036174,
           0.033718083,
           -0.06631797,
           0.011753304,
           -0.038910054,
           -0.017380266,
           -0.03830625,
           -0.038213115,
           0.01596676,
           -0.054348357,
           -0.13049933,
           -0.04087366,
           -0.109925486,
           0.0896705,
           -0.019552333
          ]
         },
         {
          "formattedValue": "301.4460",
          "ordinal": 69,
          "properties": {
           "BACK_COLOR": null,
           "FONT_FLAGS": 0,
           "FORE_COLOR": null
          },
          "value": 301.4460137464932
         },
         {
          "formattedValue": ".0000",
          "ordinal": 70,
          "properties": {
           "BACK_COLOR": null,
           "FONT_FLAGS": 0,
           "FORE_COLOR": null
          },
          "value": 3.2222430377074764e-46
         },
         {
          "formattedValue": "209.4977",
          "ordinal": 71,
          "properties": {
           "BACK_COLOR": null,
           "FONT_FLAGS": 0,
           "FORE_COLOR": null
          },
          "value": 209.49767313023705
         },
         {
          "formattedValue": "10.9932",
          "ordinal": 72,
          "properties": {
           "BACK_COLOR": null,
           "FONT_FLAGS": 0,
           "FORE_COLOR": null
          },
          "value": 10.993249883292462
         },
         {
          "formattedValue": "3.3296",
          "ordinal": 73,
          "properties": {
           "BACK_COLOR": null,
           "FONT_FLAGS": 0,
           "FORE_COLOR": null
          },
          "value": 3.3295540551905094
         },
         {
          "formattedValue": "floatVector[51]{1.0, ...}",
          "ordinal": 74,
          "properties": {
           "BACK_COLOR": null,
           "FONT_FLAGS": 0,
           "FORE_COLOR": null
          },
          "value": [
           1,
           0.911375,
           0.81560344,
           0.7461296,
           0.68271494,
           0.628807,
           0.58492184,
           0.5383514,
           0.4936971,
           0.42725867,
           0.39817548,
           0.3778275,
           0.3668208,
           0.37212232,
           0.3683584,
           0.35296142,
           0.348472,
           0.33608854,
           0.34318888,
           0.36228326,
           0.34807426,
           0.30970415,
           0.26006287,
           0.21850923,
           0.19467553,
           0.17822568,
           0.15258531,
           0.13458957,
           0.1342583,
           0.11462074,
           0.08613717,
           0.07507959,
           0.07239615,
           0.058922675,
           0.03780311,
           0.03525221,
           0.023554724,
           -0.007949562,
           -0.018646086,
           -0.015633881,
           -0.016092412,
           -0.016628379,
           -0.017086592,
           -0.01746642,
           -0.017791348,
           -0.018096643,
           -0.018612932,
           -0.019151602,
           -0.019605663,
           -0.019963348,
           -0.020414064
          ]
         },
         {
          "formattedValue": "floatVector[51]{1.0, ...}",
          "ordinal": 75,
          "properties": {
           "BACK_COLOR": null,
           "FONT_FLAGS": 0,
           "FORE_COLOR": null
          },
          "value": [
           1,
           0.9117621,
           -0.108634904,
           0.120339334,
           -0.017453928,
           0.037966643,
           0.02199727,
           -0.0240988,
           -0.00466077,
           -0.18560745,
           0.2474595,
           -0.03902007,
           0.106144466,
           0.09579491,
           -0.050328895,
           0.0055529806,
           0.053349134,
           -0.044431116,
           0.21207646,
           0.05593751,
           -0.29881054,
           -0.24673967,
           -0.08193173,
           0.11064879,
           0.20502746,
           0.3042205,
           -0.641249,
           0.80691636,
           -0.2492937,
           -0.34435353,
           0.05701077,
           -0.062089004,
           0.3624373,
           -0.23537199,
           1.3180094,
           -0.23707576,
           -0.5093178,
           -3.9339702,
           -4.664271,
           13.871858,
           -7.8783236,
           13.496224,
           16.43318,
           -5.433718,
           1.0536022,
           5.9501286,
           -0.97215676,
           1.709147,
           4.750739,
           -0.6128038,
           -6.6282873
          ]
         },
         {
          "formattedValue": "279.3805",
          "ordinal": 76,
          "properties": {
           "BACK_COLOR": null,
           "FONT_FLAGS": 0,
           "FORE_COLOR": null
          },
          "value": 279.38047883627536
         },
         {
          "formattedValue": ".0000",
          "ordinal": 77,
          "properties": {
           "BACK_COLOR": null,
           "FONT_FLAGS": 0,
           "FORE_COLOR": null
          },
          "value": 9.327530227494179e-45
         },
         {
          "formattedValue": "202.7667",
          "ordinal": 78,
          "properties": {
           "BACK_COLOR": null,
           "FONT_FLAGS": 0,
           "FORE_COLOR": null
          },
          "value": 202.76671783587722
         },
         {
          "formattedValue": "10.0846",
          "ordinal": 79,
          "properties": {
           "BACK_COLOR": null,
           "FONT_FLAGS": 0,
           "FORE_COLOR": null
          },
          "value": 10.084647339415557
         },
         {
          "formattedValue": "3.2383",
          "ordinal": 80,
          "properties": {
           "BACK_COLOR": null,
           "FONT_FLAGS": 0,
           "FORE_COLOR": null
          },
          "value": 3.238258277944384
         },
         {
          "formattedValue": "floatVector[51]{1.0, ...}",
          "ordinal": 81,
          "properties": {
           "BACK_COLOR": null,
           "FONT_FLAGS": 0,
           "FORE_COLOR": null
          },
          "value": [
           1,
           0.89522666,
           0.792528,
           0.7127004,
           0.651927,
           0.6016328,
           0.59316546,
           0.5706587,
           0.53781116,
           0.4799137,
           0.4629327,
           0.4466117,
           0.42714888,
           0.3910039,
           0.35348034,
           0.31462538,
           0.31720504,
           0.3354836,
           0.35333088,
           0.3611804,
           0.3212368,
           0.2819043,
           0.23307434,
           0.18607904,
           0.16424815,
           0.15693529,
           0.13897523,
           0.12531495,
           0.1289182,
           0.11582561,
           0.088535346,
           0.08481236,
           0.076945096,
           0.0502764,
           0.025647268,
           0.019553524,
           0.007265106,
           -0.014848289,
           -0.017655678,
           -0.016379356,
           -0.016817028,
           -0.017250225,
           -0.017677123,
           -0.018083116,
           -0.018500052,
           -0.01891829,
           -0.019354826,
           -0.019818993,
           -0.020249138,
           -0.020667082,
           -0.021096902
          ]
         },
         {
          "formattedValue": "floatVector[51]{1.0, ...}",
          "ordinal": 82,
          "properties": {
           "BACK_COLOR": null,
           "FONT_FLAGS": 0,
           "FORE_COLOR": null
          },
          "value": [
           1,
           0.89560753,
           -0.057177965,
           0.065796025,
           0.055516828,
           0.02649215,
           0.21204703,
           -0.06813954,
           -0.018120209,
           -0.14487405,
           0.26818472,
           -0.021659812,
           -0.08303198,
           -0.12359753,
           0.030001314,
           0.066398226,
           0.27044338,
           0.039766815,
           0.05132809,
           -0.046361495,
           -0.49249417,
           0.13489042,
           -0.2068904,
           0.11043353,
           -0.009038496,
           0.46401933,
           -0.26210853,
           0.15661095,
           0.52661407,
           -0.7560754,
           -0.20280592,
           1.203717,
           0.27574033,
           -0.7277692,
           -3.3017435,
           0.62029684,
           -2.6432743,
           1.186911,
           21.858313,
           26.98261,
           -19.845522,
           18.41175,
           65.578354,
           11.461198,
           -34.874847,
           -0.97219396,
           -8.720337,
           -10.971901,
           15.734714,
           -28.391125,
           -22.927404
          ]
         },
         {
          "formattedValue": "4,829,453.7494",
          "ordinal": 83,
          "properties": {
           "BACK_COLOR": null,
           "FONT_FLAGS": 0,
           "FORE_COLOR": null
          },
          "value": 4829453.74940668
         },
         {
          "formattedValue": ".0000",
          "ordinal": 84,
          "properties": {
           "BACK_COLOR": null,
           "FONT_FLAGS": 0,
           "FORE_COLOR": null
          },
          "value": 1.8349954292139947e-35
         },
         {
          "formattedValue": "159.9669",
          "ordinal": 85,
          "properties": {
           "BACK_COLOR": null,
           "FONT_FLAGS": 0,
           "FORE_COLOR": null
          },
          "value": 159.96687252835946
         },
         {
          "formattedValue": "6.7971",
          "ordinal": 86,
          "properties": {
           "BACK_COLOR": null,
           "FONT_FLAGS": 0,
           "FORE_COLOR": null
          },
          "value": 6.7971237902807005
         },
         {
          "formattedValue": "2.5591",
          "ordinal": 87,
          "properties": {
           "BACK_COLOR": null,
           "FONT_FLAGS": 0,
           "FORE_COLOR": null
          },
          "value": 2.559058785635799
         },
         {
          "formattedValue": "floatVector[51]{1.0, ...}",
          "ordinal": 88,
          "properties": {
           "BACK_COLOR": null,
           "FONT_FLAGS": 0,
           "FORE_COLOR": null
          },
          "value": [
           1,
           0.8717491,
           0.7699721,
           0.7354798,
           0.7006028,
           0.6563814,
           0.6082046,
           0.61154896,
           0.60772717,
           0.5941299,
           0.5768902,
           0.5545419,
           0.5319809,
           0.47932687,
           0.42660666,
           0.38027725,
           0.37129956,
           0.40372252,
           0.39693344,
           0.38765115,
           0.39171934,
           0.37608445,
           0.36073828,
           0.30342412,
           0.26426777,
           0.23901498,
           0.20806196,
           0.18956576,
           0.17793499,
           0.16899532,
           0.14592402,
           0.12711239,
           0.090897076,
           0.053934798,
           0.024007838,
           0.010837284,
           -0.0010333719,
           -0.02687324,
           -0.04109115,
           -0.0415476,
           -0.044963997,
           -0.045117274,
           -0.03723226,
           -0.035669334,
           -0.040432043,
           -0.046463083,
           -0.047949895,
           -0.0482355,
           -0.044678416,
           -0.05185385,
           -0.059642255
          ]
         },
         {
          "formattedValue": "floatVector[51]{1.0, ...}",
          "ordinal": 89,
          "properties": {
           "BACK_COLOR": null,
           "FONT_FLAGS": 0,
           "FORE_COLOR": null
          },
          "value": [
           1,
           0.8729623,
           0.024851516,
           0.2611629,
           0.022324922,
           0.03697652,
           -0.07998551,
           0.35371056,
           0.07380319,
           0.03738529,
           0.021122845,
           0.038566418,
           -0.043566294,
           -0.29742393,
           -0.12048896,
           -0.12944558,
           0.22179513,
           0.51328194,
           -0.2565456,
           0.2678036,
           0.11815792,
           -0.15567738,
           -0.00893173,
           -0.41562006,
           -0.01792985,
           0.043607764,
           -0.14644524,
           0.09927691,
           0.08511097,
           -0.054618817,
           -0.12714273,
           0.0252078,
           -0.28694794,
           -0.0618308,
           -0.14185625,
           0.20133434,
           0.0036437782,
           -0.32034555,
           -0.099337615,
           -0.15477559,
           0.110208094,
           0.11165204,
           0.075716056,
           -0.101317465,
           0.008685356,
           -0.10617966,
           -0.03383133,
           -0.009014362,
           0.037826296,
           -0.13590562,
           -0.03266035
          ]
         },
         {
          "formattedValue": "5,277.1660",
          "ordinal": 90,
          "properties": {
           "BACK_COLOR": null,
           "FONT_FLAGS": 0,
           "FORE_COLOR": null
          },
          "value": 5277.165951039437
         },
         {
          "formattedValue": ".0005",
          "ordinal": 91,
          "properties": {
           "BACK_COLOR": null,
           "FONT_FLAGS": 0,
           "FORE_COLOR": null
          },
          "value": 0.0005244089331925475
         },
         {
          "formattedValue": "151.4398",
          "ordinal": 92,
          "properties": {
           "BACK_COLOR": null,
           "FONT_FLAGS": 0,
           "FORE_COLOR": null
          },
          "value": 151.4398128751568
         },
         {
          "formattedValue": "14.2126",
          "ordinal": 93,
          "properties": {
           "BACK_COLOR": null,
           "FONT_FLAGS": 0,
           "FORE_COLOR": null
          },
          "value": 14.212610930139592
         },
         {
          "formattedValue": "2.2869",
          "ordinal": 94,
          "properties": {
           "BACK_COLOR": null,
           "FONT_FLAGS": 0,
           "FORE_COLOR": null
          },
          "value": 2.2868895159749303
         },
         {
          "formattedValue": "floatVector[51]{1.0, ...}",
          "ordinal": 95,
          "properties": {
           "BACK_COLOR": null,
           "FONT_FLAGS": 0,
           "FORE_COLOR": null
          },
          "value": [
           1,
           0.61575025,
           0.51558113,
           0.46837747,
           0.48116046,
           0.42987144,
           0.41175562,
           0.43208897,
           0.3678975,
           0.36050987,
           0.36070836,
           0.35007858,
           0.3274538,
           0.3101469,
           0.30490518,
           0.29365134,
           0.29089817,
           0.2933449,
           0.2718904,
           0.3040379,
           0.26049623,
           0.2828873,
           0.29868305,
           0.2850439,
           0.2712704,
           0.22007787,
           0.26233467,
           0.22744548,
           0.2490798,
           0.23248546,
           0.2212928,
           0.20351814,
           0.17645428,
           0.17380999,
           0.16843921,
           0.15109196,
           0.13692828,
           0.11374333,
           0.119310424,
           0.11897429,
           0.11815785,
           0.11574715,
           0.113246284,
           0.1051527,
           0.08784508,
           0.087136716,
           0.07320644,
           0.059429206,
           0.057122167,
           0.06459711,
           0.051193707
          ]
         },
         {
          "formattedValue": "floatVector[51]{1.0, ...}",
          "ordinal": 96,
          "properties": {
           "BACK_COLOR": null,
           "FONT_FLAGS": 0,
           "FORE_COLOR": null
          },
          "value": [
           1,
           0.62177646,
           0.13017093,
           0.12151842,
           0.16806851,
           0.025146497,
           0.058144875,
           0.21535522,
           -0.026575185,
           0.13287534,
           0.07844634,
           0.0038397186,
           0.0018647686,
           0.007911977,
           -0.071680725,
           -0.012366537,
           0.06921311,
           0.10420131,
           0.044457477,
           0.16857085,
           0.01563576,
           0.09123325,
           0.19001478,
           -0.06890756,
           -0.08839612,
           -0.07300325,
           0.27558738,
           -0.04354868,
           -0.14044926,
           0.08560663,
           0.070022695,
           -0.012434911,
           0.22171539,
           11.636452,
           14.31166,
           -11.331362,
           5.2492647,
           0.7470578,
           -5.4163675,
           14.345697,
           -2.156653,
           -4.726484,
           -2.586071,
           -9.553291,
           -8.230386,
           2.7507408,
           6.3642416,
           -5.69918,
           10.525038,
           -7.869521,
           -4.4616494
          ]
         },
         {
          "formattedValue": "460,748.2861",
          "ordinal": 97,
          "properties": {
           "BACK_COLOR": null,
           "FONT_FLAGS": 0,
           "FORE_COLOR": null
          },
          "value": 460748.28606742615
         },
         {
          "formattedValue": ".0086",
          "ordinal": 98,
          "properties": {
           "BACK_COLOR": null,
           "FONT_FLAGS": 0,
           "FORE_COLOR": null
          },
          "value": 0.008583303819634965
         },
         {
          "formattedValue": "195.4870",
          "ordinal": 99,
          "properties": {
           "BACK_COLOR": null,
           "FONT_FLAGS": 0,
           "FORE_COLOR": null
          },
          "value": 195.48704598255594
         },
         {
          "formattedValue": "33.3807",
          "ordinal": 100,
          "properties": {
           "BACK_COLOR": null,
           "FONT_FLAGS": 0,
           "FORE_COLOR": null
          },
          "value": 33.380744018147354
         },
         {
          "formattedValue": "3.0926",
          "ordinal": 101,
          "properties": {
           "BACK_COLOR": null,
           "FONT_FLAGS": 0,
           "FORE_COLOR": null
          },
          "value": 3.092629286900721
         },
         {
          "formattedValue": "floatVector[51]{1.0, ...}",
          "ordinal": 102,
          "properties": {
           "BACK_COLOR": null,
           "FONT_FLAGS": 0,
           "FORE_COLOR": null
          },
          "value": [
           1,
           0.5544668,
           0.43028435,
           0.3701727,
           0.36845267,
           0.35097727,
           0.35597724,
           0.34421155,
           0.33399016,
           0.2949772,
           0.25845432,
           0.2675022,
           0.22942603,
           0.2275013,
           0.2135286,
           0.21454516,
           0.17346138,
           0.18345366,
           0.1459607,
           0.15273514,
           0.18435615,
           0.19415645,
           0.17269298,
           0.1275978,
           0.09640332,
           0.08253096,
           0.083627336,
           0.057262715,
           0.06661777,
           0.042300906,
           0.029776655,
           0.0091211945,
           -0.010542346,
           -0.00927972,
           0.0018342001,
           -0.011048699,
           -0.01310814,
           -0.041507814,
           -0.042224046,
           -0.028878354,
           -0.017728377,
           -0.011092055,
           0.004960187,
           0.010895466,
           -0.009408283,
           -0.022405526,
           -0.03935456,
           -0.04057824,
           -0.022254435,
           -0.00933779,
           -0.032076113
          ]
         },
         {
          "formattedValue": "floatVector[51]{1.0, ...}",
          "ordinal": 103,
          "properties": {
           "BACK_COLOR": null,
           "FONT_FLAGS": 0,
           "FORE_COLOR": null
          },
          "value": [
           1,
           0.55732715,
           0.09568581,
           0.083192244,
           0.10288334,
           0.07611732,
           0.0814697,
           0.0683826,
           0.027672391,
           0.0017884858,
           -0.01811509,
           0.0654657,
           -0.028767385,
           0.033229895,
           -0.020027261,
           0.13160437,
           0.25899577,
           0.6489535,
           -0.46523917,
           0.95549977,
           1.6345447,
           -0.8960842,
           -0.050277438,
           -0.77493924,
           -1.1285539,
           0.016205966,
           -0.24453473,
           1.203717,
           -0.25138965,
           -1.1466136,
           -1.2987524,
           1.2627995,
           -2.117107,
           -0.024894372,
           1.4356866,
           0.79097027,
           -0.22531573,
           1.2712166,
           -0.38542363,
           -0.18571949,
           0.23479687,
           -0.7230451,
           0.86169595,
           -2.0545282,
           -1.1654272,
           -0.5956228,
           0.18161777,
           -1.1178242,
           -0.84544563,
           0.10646714,
           0.16775835
          ]
         },
         {
          "formattedValue": "232,165.7012",
          "ordinal": 104,
          "properties": {
           "BACK_COLOR": null,
           "FONT_FLAGS": 0,
           "FORE_COLOR": null
          },
          "value": 232165.70124935685
         },
         {
          "formattedValue": ".0000",
          "ordinal": 105,
          "properties": {
           "BACK_COLOR": null,
           "FONT_FLAGS": 0,
           "FORE_COLOR": null
          },
          "value": 3.4536190583911986e-11
         },
         {
          "formattedValue": "190.3356",
          "ordinal": 106,
          "properties": {
           "BACK_COLOR": null,
           "FONT_FLAGS": 0,
           "FORE_COLOR": null
          },
          "value": 190.33561309318998
         },
         {
          "formattedValue": "15.5208",
          "ordinal": 107,
          "properties": {
           "BACK_COLOR": null,
           "FONT_FLAGS": 0,
           "FORE_COLOR": null
          },
          "value": 15.520794763978474
         },
         {
          "formattedValue": "2.6805",
          "ordinal": 108,
          "properties": {
           "BACK_COLOR": null,
           "FONT_FLAGS": 0,
           "FORE_COLOR": null
          },
          "value": 2.680473837524788
         },
         {
          "formattedValue": "floatVector[51]{1.0, ...}",
          "ordinal": 109,
          "properties": {
           "BACK_COLOR": null,
           "FONT_FLAGS": 0,
           "FORE_COLOR": null
          },
          "value": [
           1,
           0.3893116,
           0.37195778,
           0.33301777,
           0.30872053,
           0.29804984,
           0.29479682,
           0.32121825,
           0.21736798,
           0.20946488,
           0.22208224,
           0.1895267,
           0.22225885,
           0.25371343,
           0.2737076,
           0.21693596,
           0.1938077,
           0.1622025,
           0.14010823,
           0.18617326,
           0.13529551,
           0.20188558,
           0.12523273,
           0.11348225,
           0.11479484,
           0.13016313,
           0.10134953,
           0.109404765,
           0.144135,
           0.0911424,
           0.042678498,
           0.058684077,
           0.029228311,
           0.048319913,
           0.043783054,
           0.06960733,
           0.048281953,
           0.021562826,
           0.013699718,
           0.02093668,
           0.021704158,
           0.027503684,
           0.03081673,
           0.024320243,
           0.0033819084,
           -0.0020006958,
           0.006025457,
           -0.0014432543,
           0.016887441,
           0.03819851,
           0.029399408
          ]
         },
         {
          "formattedValue": "floatVector[51]{1.0, ...}",
          "ordinal": 110,
          "properties": {
           "BACK_COLOR": null,
           "FONT_FLAGS": 0,
           "FORE_COLOR": null
          },
          "value": [
           1,
           0.38990176,
           0.08087814,
           0.12298708,
           0.048077,
           0.1066189,
           0.015387801,
           0.082905486,
           0.010933571,
           -0.043698996,
           0.014961004,
           0.059434913,
           0.06791711,
           0.07188828,
           0.032977816,
           -0.015770314,
           -0.010237794,
           -0.016001608,
           -0.049128726,
           0.04558187,
           -0.009706467,
           0.07830822,
           -0.025738277,
           -0.014326736,
           -0.00394997,
           -0.071588166,
           -0.08809923,
           0.028229527,
           -0.003361009,
           -0.10630068,
           -0.09296732,
           -0.053874165,
           -0.008236542,
           -0.072154835,
           -0.62586135,
           2.080175,
           0.36997664,
           0.18591854,
           -0.13677883,
           0.010166599,
           0.053531643,
           0.20629802,
           0.4428683,
           0.2587531,
           -0.5058164,
           1.9720935,
           -0.55153096,
           1.6340655,
           1.6582282,
           0.38202262,
           0.10139476
          ]
         },
         {
          "formattedValue": "200,252.8055",
          "ordinal": 111,
          "properties": {
           "BACK_COLOR": null,
           "FONT_FLAGS": 0,
           "FORE_COLOR": null
          },
          "value": 200252.80548136472
         },
         {
          "formattedValue": ".0000",
          "ordinal": 112,
          "properties": {
           "BACK_COLOR": null,
           "FONT_FLAGS": 0,
           "FORE_COLOR": null
          },
          "value": 2.4192160205184935e-10
         },
         {
          "formattedValue": "183.5398",
          "ordinal": 113,
          "properties": {
           "BACK_COLOR": null,
           "FONT_FLAGS": 0,
           "FORE_COLOR": null
          },
          "value": 183.5398408461809
         },
         {
          "formattedValue": "14.5455",
          "ordinal": 114,
          "properties": {
           "BACK_COLOR": null,
           "FONT_FLAGS": 0,
           "FORE_COLOR": null
          },
          "value": 14.545544300152727
         },
         {
          "formattedValue": "2.6510",
          "ordinal": 115,
          "properties": {
           "BACK_COLOR": null,
           "FONT_FLAGS": 0,
           "FORE_COLOR": null
          },
          "value": 2.651011818412924
         },
         {
          "formattedValue": "floatVector[51]{1.0, ...}",
          "ordinal": 116,
          "properties": {
           "BACK_COLOR": null,
           "FONT_FLAGS": 0,
           "FORE_COLOR": null
          },
          "value": [
           1,
           0.40241072,
           0.33740902,
           0.33805472,
           0.31628883,
           0.30340967,
           0.32806143,
           0.25697917,
           0.25541252,
           0.27124423,
           0.20613152,
           0.15439022,
           0.18253927,
           0.18184279,
           0.18789509,
           0.15644751,
           0.123698466,
           0.12861536,
           0.15075865,
           0.1592541,
           0.15622559,
           0.12942469,
           0.14050421,
           0.16022214,
           0.12407972,
           0.10366883,
           0.11373393,
           0.09757593,
           0.11061101,
           0.07212969,
           0.04407504,
           0.04921218,
           0.06765395,
           0.036987513,
           -0.0066815238,
           -0.022739168,
           -0.036116768,
           -0.02085507,
           -0.024613876,
           -0.020555848,
           -0.031907238,
           -0.013232223,
           -0.034117524,
           -0.038975492,
           -0.041844785,
           -0.01753301,
           -0.027286245,
           -0.03678348,
           -0.036662076,
           -0.037069704,
           -0.041549586
          ]
         },
         {
          "formattedValue": "floatVector[51]{1.0, ...}",
          "ordinal": 117,
          "properties": {
           "BACK_COLOR": null,
           "FONT_FLAGS": 0,
           "FORE_COLOR": null
          },
          "value": [
           1,
           0.40451676,
           0.11878016,
           0.124415636,
           0.09284438,
           0.092936926,
           0.11251983,
           -0.0064411606,
           0.022293804,
           0.01943114,
           -0.0153259,
           -0.03803449,
           0.018663235,
           0.059140533,
           0.031589698,
           0.017388504,
           -0.032642893,
           -0.0017828321,
           0.07219775,
           0.06926544,
           0.06285937,
           0.014529247,
           0.0022235776,
           0.014404312,
           0.0049861744,
           -0.007954936,
           -0.037409008,
           -0.06339978,
           0.09321253,
           0.015288783,
           -0.026185345,
           -0.019311957,
           -0.06828885,
           0.31993875,
           -0.5772604,
           -0.466629,
           -0.14403853,
           -0.14471787,
           -0.14739762,
           -0.20222072,
           -0.18553719,
           -0.03812302,
           0.08268915,
           0.41313297,
           0.21187282,
           -0.064455986,
           0.1039153,
           0.09624964,
           -0.023696927,
           -0.23843955,
           0.20878816
          ]
         },
         {
          "formattedValue": "20,008.0756",
          "ordinal": 118,
          "properties": {
           "BACK_COLOR": null,
           "FONT_FLAGS": 0,
           "FORE_COLOR": null
          },
          "value": 20008.075588910997
         },
         {
          "formattedValue": ".0000",
          "ordinal": 119,
          "properties": {
           "BACK_COLOR": null,
           "FONT_FLAGS": 0,
           "FORE_COLOR": null
          },
          "value": 5.386829262340988e-11
         },
         {
          "formattedValue": "287.2494",
          "ordinal": 120,
          "properties": {
           "BACK_COLOR": null,
           "FONT_FLAGS": 0,
           "FORE_COLOR": null
          },
          "value": 287.2494243930217
         },
         {
          "formattedValue": "46.4623",
          "ordinal": 121,
          "properties": {
           "BACK_COLOR": null,
           "FONT_FLAGS": 0,
           "FORE_COLOR": null
          },
          "value": 46.46230508200208
         },
         {
          "formattedValue": "4.7803",
          "ordinal": 122,
          "properties": {
           "BACK_COLOR": null,
           "FONT_FLAGS": 0,
           "FORE_COLOR": null
          },
          "value": 4.7802751564010935
         },
         {
          "formattedValue": "floatVector[51]{1.0, ...}",
          "ordinal": 123,
          "properties": {
           "BACK_COLOR": null,
           "FONT_FLAGS": 0,
           "FORE_COLOR": null
          },
          "value": [
           1,
           0.42595977,
           0.3385414,
           0.3240535,
           0.32295012,
           0.31225976,
           0.33516276,
           0.28886402,
           0.2768613,
           0.24719992,
           0.22951174,
           0.24739723,
           0.20716903,
           0.2281881,
           0.25746337,
           0.24493735,
           0.21736155,
           0.20731044,
           0.22096801,
           0.22263041,
           0.22774248,
           0.20155978,
           0.2070933,
           0.20168397,
           0.19829004,
           0.1756809,
           0.16632631,
           0.18084943,
           0.1436719,
           0.15851629,
           0.14425969,
           0.11529031,
           0.12979874,
           0.13549991,
           0.10843482,
           0.10265057,
           0.09582254,
           0.10989316,
           0.09727838,
           0.07170807,
           0.06698167,
           0.0832431,
           0.04950879,
           0.05813576,
           0.040919192,
           0.056191437,
           0.08130929,
           0.06938966,
           0.0571215,
           0.07390608,
           0.03618212
          ]
         },
         {
          "formattedValue": "floatVector[51]{1.0, ...}",
          "ordinal": 124,
          "properties": {
           "BACK_COLOR": null,
           "FONT_FLAGS": 0,
           "FORE_COLOR": null
          },
          "value": [
           1,
           0.4260903,
           0.09381388,
           0.10479662,
           0.09204258,
           0.068556994,
           0.10336068,
           0.00053192617,
           0.010285044,
           0.026657917,
           -0.027331596,
           0.05425957,
           -0.07713941,
           0.09067872,
           0.17376027,
           0.05241438,
           0.065507375,
           -0.032075793,
           -0.0030201687,
           0.033526063,
           0.19205904,
           -0.08650681,
           -0.052586585,
           -0.0074312594,
           -0.025291622,
           -0.034270883,
           0.025193691,
           0.03585475,
           -0.15166216,
           0.1027184,
           0.0525749,
           0.011387378,
           0.10634446,
           0.101974875,
           -0.111334726,
           0.095075056,
           -0.12389243,
           0.12657098,
           -0.025576118,
           -0.0063463794,
           0.16363627,
           0.24374215,
           -0.10955664,
           0.0034849602,
           0.07448415,
           0.13838139,
           0.08410423,
           0.008051601,
           -0.10496071,
           -0.061643273,
           -0.004929982
          ]
         },
         {
          "formattedValue": "95,174.0587",
          "ordinal": 125,
          "properties": {
           "BACK_COLOR": null,
           "FONT_FLAGS": 0,
           "FORE_COLOR": null
          },
          "value": 95174.05872290423
         },
         {
          "formattedValue": ".0000",
          "ordinal": 126,
          "properties": {
           "BACK_COLOR": null,
           "FONT_FLAGS": 0,
           "FORE_COLOR": null
          },
          "value": 4.111160659482286e-115
         },
         {
          "formattedValue": "526.7672",
          "ordinal": 127,
          "properties": {
           "BACK_COLOR": null,
           "FONT_FLAGS": 0,
           "FORE_COLOR": null
          },
          "value": 526.7671606135467
         },
         {
          "formattedValue": "135.7821",
          "ordinal": 128,
          "properties": {
           "BACK_COLOR": null,
           "FONT_FLAGS": 0,
           "FORE_COLOR": null
          },
          "value": 135.7821437263969
         },
         {
          "formattedValue": "10.3122",
          "ordinal": 129,
          "properties": {
           "BACK_COLOR": null,
           "FONT_FLAGS": 0,
           "FORE_COLOR": null
          },
          "value": 10.312159215429736
         },
         {
          "formattedValue": "floatVector[51]{1.0, ...}",
          "ordinal": 130,
          "properties": {
           "BACK_COLOR": null,
           "FONT_FLAGS": 0,
           "FORE_COLOR": null
          },
          "value": [
           1,
           0.07099202,
           -0.009409194,
           0.03933218,
           0.019584173,
           0.024776423,
           0.0697345,
           0.05450222,
           0.073390424,
           -0.011834818,
           -0.016522188,
           0.02129482,
           -0.039066736,
           0.01869797,
           0.08784192,
           -0.009466595,
           0.042493377,
           0.021535752,
           0.005952177,
           0.023447093,
           0.020406187,
           -0.0109396,
           0.042183395,
           -0.020022059,
           0.040545262,
           -0.009444873,
           -0.014250542,
           0.09313095,
           0.037860747,
           0.024245156,
           -0.0045461566,
           0.018212773,
           -0.010440441,
           0.1868843,
           -0.021056976,
           -0.013875042,
           -0.01048641,
           0.018133072,
           0.023270473,
           0.021913132,
           -0.01643287,
           -0.004793268,
           -0.03257146,
           -0.03310861,
           -0.04390658,
           -0.010726081,
           0.0022033767,
           0.043421373,
           -0.05443808,
           0.06201109,
           -0.04331216
          ]
         },
         {
          "formattedValue": "floatVector[51]{1.0, ...}",
          "ordinal": 131,
          "properties": {
           "BACK_COLOR": null,
           "FONT_FLAGS": 0,
           "FORE_COLOR": null
          },
          "value": [
           1,
           0.07106251,
           -0.014583814,
           0.041343786,
           0.01366211,
           0.023662679,
           0.06568184,
           0.044956993,
           0.06736,
           -0.028032465,
           -0.01876323,
           0.013127383,
           -0.050783567,
           0.02063983,
           0.073871486,
           -0.020050239,
           0.046821605,
           0.010170207,
           0.009862858,
           0.01495254,
           0.0099665625,
           -0.024001008,
           0.026405917,
           -0.026422292,
           0.039198194,
           -0.024952207,
           -0.0041691335,
           0.09018972,
           0.01649379,
           0.033354737,
           -0.030935239,
           0.019724036,
           -0.023614084,
           0.1852676,
           -0.06646489,
           -0.021546217,
           -0.030058011,
           0.023883397,
           0.014627439,
           0.014722997,
           -0.030762158,
           -0.04191078,
           -0.019352395,
           -0.030045591,
           -0.054000203,
           0.009339145,
           -0.005405607,
           0.025271468,
           -0.0392585,
           0.07526623,
           -0.05078846
          ]
         },
         {
          "formattedValue": "3.9977",
          "ordinal": 132,
          "properties": {
           "BACK_COLOR": null,
           "FONT_FLAGS": 0,
           "FORE_COLOR": null
          },
          "value": 3.997743770539436
         },
         {
          "formattedValue": ".0000",
          "ordinal": 133,
          "properties": {
           "BACK_COLOR": null,
           "FONT_FLAGS": 0,
           "FORE_COLOR": null
          },
          "value": 3.3739162173223435e-68
         },
         {
          "formattedValue": "310.7194",
          "ordinal": 134,
          "properties": {
           "BACK_COLOR": null,
           "FONT_FLAGS": 0,
           "FORE_COLOR": null
          },
          "value": 310.71942434326866
         },
         {
          "formattedValue": "32.0429",
          "ordinal": 135,
          "properties": {
           "BACK_COLOR": null,
           "FONT_FLAGS": 0,
           "FORE_COLOR": null
          },
          "value": 32.04287668478265
         },
         {
          "formattedValue": "4.4514",
          "ordinal": 136,
          "properties": {
           "BACK_COLOR": null,
           "FONT_FLAGS": 0,
           "FORE_COLOR": null
          },
          "value": 4.4514424984158145
         },
         {
          "formattedValue": "floatVector[51]{1.0, ...}",
          "ordinal": 137,
          "properties": {
           "BACK_COLOR": null,
           "FONT_FLAGS": 0,
           "FORE_COLOR": null
          },
          "value": [
           1,
           0.14363766,
           0.053826906,
           0.091584824,
           0.04611195,
           0.11053873,
           0.16050474,
           0.18717328,
           0.15426247,
           0.082730405,
           0.06317284,
           0.07713665,
           0.11477496,
           0.1459584,
           0.08439252,
           0.026575591,
           0.03508507,
           0.08318555,
           0.07861311,
           0.081547864,
           0.0034041724,
           0.08214815,
           0.06297107,
           0.055378504,
           0.079652004,
           -0.025175821,
           -0.03288441,
           0.045448687,
           -0.028462732,
           0.086446576,
           0.07709823,
           -0.03039269,
           0.008338181,
           -0.051052187,
           -0.027695373,
           0.039446723,
           -0.047074396,
           -0.02229397,
           -0.040053707,
           -0.00601365,
           0.035897978,
           -7.1715986e-05,
           -0.087272525,
           -0.0665962,
           -0.05956391,
           -0.07354387,
           -0.016551645,
           -0.027044963,
           0.020910779,
           -0.044500805,
           -0.12816639
          ]
         },
         {
          "formattedValue": "floatVector[51]{1.0, ...}",
          "ordinal": 138,
          "properties": {
           "BACK_COLOR": null,
           "FONT_FLAGS": 0,
           "FORE_COLOR": null
          },
          "value": [
           1,
           0.14374086,
           0.033942778,
           0.08172386,
           0.02199559,
           0.09968975,
           0.13025619,
           0.15086842,
           0.10571987,
           0.034257457,
           0.022009777,
           0.033356085,
           0.060660712,
           0.077796444,
           0.0037527916,
           -0.042215552,
           -0.016287735,
           0.042330112,
           0.020814579,
           0.013815089,
           -0.07416726,
           0.0469311,
           0.02773291,
           0.029529838,
           0.034142144,
           -0.08700387,
           -0.06673249,
           0.031049112,
           -0.0542948,
           0.06928858,
           0.025372008,
           -0.059542358,
           0.02146434,
           -0.035819694,
           -0.02083262,
           0.026287029,
           -0.09013822,
           -0.017200988,
           -0.022401707,
           0.036781285,
           0.054991078,
           0.0021054714,
           -0.1037777,
           -0.032161754,
           -0.014922474,
           -0.04621706,
           -0.0065671643,
           -0.03166686,
           0.04583666,
           0.015887694,
           -0.073370874
          ]
         },
         {
          "formattedValue": "4.2661",
          "ordinal": 139,
          "properties": {
           "BACK_COLOR": null,
           "FONT_FLAGS": 0,
           "FORE_COLOR": null
          },
          "value": 4.266101250291722
         },
         {
          "formattedValue": ".0000",
          "ordinal": 140,
          "properties": {
           "BACK_COLOR": null,
           "FONT_FLAGS": 0,
           "FORE_COLOR": null
          },
          "value": 4.2288386901147086e-100
         },
         {
          "formattedValue": "457.6332",
          "ordinal": 141,
          "properties": {
           "BACK_COLOR": null,
           "FONT_FLAGS": 0,
           "FORE_COLOR": null
          },
          "value": 457.63316377076757
         },
         {
          "formattedValue": "91.9396",
          "ordinal": 142,
          "properties": {
           "BACK_COLOR": null,
           "FONT_FLAGS": 0,
           "FORE_COLOR": null
          },
          "value": 91.93962015218628
         },
         {
          "formattedValue": "7.9649",
          "ordinal": 143,
          "properties": {
           "BACK_COLOR": null,
           "FONT_FLAGS": 0,
           "FORE_COLOR": null
          },
          "value": 7.964901460125301
         },
         {
          "formattedValue": "floatVector[51]{1.0, ...}",
          "ordinal": 144,
          "properties": {
           "BACK_COLOR": null,
           "FONT_FLAGS": 0,
           "FORE_COLOR": null
          },
          "value": [
           1,
           0.46590048,
           0.3754415,
           0.32889158,
           0.28937447,
           0.29057133,
           0.26893464,
           0.26850778,
           0.3932669,
           0.23689577,
           0.25172317,
           0.24490665,
           0.23327345,
           0.22488344,
           0.18173882,
           0.19775711,
           0.18499495,
           0.21251985,
           0.24138471,
           0.24245878,
           0.16812421,
           0.13719513,
           0.15595262,
           0.19451019,
           0.17894368,
           0.18071753,
           0.12073401,
           0.11018699,
           0.08518835,
           0.11438131,
           0.12010677,
           0.07859532,
           0.124146186,
           0.11098153,
           0.081003144,
           0.09798458,
           0.09178862,
           0.17799854,
           0.12659784,
           0.08054081,
           0.106460705,
           0.09823621,
           0.060431704,
           0.05566499,
           0.057802774,
           0.05782117,
           0.10245564,
           0.090931304,
           0.09227719,
           0.06777327,
           0.040445376
          ]
         },
         {
          "formattedValue": "floatVector[51]{1.0, ...}",
          "ordinal": 145,
          "properties": {
           "BACK_COLOR": null,
           "FONT_FLAGS": 0,
           "FORE_COLOR": null
          },
          "value": [
           1,
           0.46606073,
           0.20259437,
           0.12664759,
           0.07903666,
           0.098457694,
           0.060744513,
           0.070627786,
           0.24041356,
           -0.09311363,
           0.03986032,
           0.033771563,
           0.02973381,
           0.010409612,
           -0.026095169,
           0.03233113,
           -0.046058457,
           0.10604764,
           0.064660326,
           0.049186304,
           -0.07539143,
           -0.04594852,
           0.045371477,
           0.056685712,
           0.03436463,
           -0.013821589,
           -0.08951455,
           -0.045670018,
           -0.003348112,
           0.05472504,
           -0.006841426,
           -0.07737842,
           0.057829805,
           0.010914492,
           0.004119133,
           0.016426895,
           -0.0050352397,
           0.111823075,
           -0.010210729,
           0.008776019,
           -0.015698213,
           -0.011727378,
           -0.07101852,
           -0.018807797,
           0.033218615,
           -0.0498222,
           0.10401305,
           -0.0066145,
           -0.0044074617,
           -0.02552532,
           -0.0042261123
          ]
         },
         {
          "formattedValue": "1,556.6248",
          "ordinal": 146,
          "properties": {
           "BACK_COLOR": null,
           "FONT_FLAGS": 0,
           "FORE_COLOR": null
          },
          "value": 1556.6248205021711
         },
         {
          "formattedValue": ".0000",
          "ordinal": 147,
          "properties": {
           "BACK_COLOR": null,
           "FONT_FLAGS": 0,
           "FORE_COLOR": null
          },
          "value": 2.902986343232846e-31
         },
         {
          "formattedValue": "140.6288",
          "ordinal": 148,
          "properties": {
           "BACK_COLOR": null,
           "FONT_FLAGS": 0,
           "FORE_COLOR": null
          },
          "value": 140.62879580429492
         },
         {
          "formattedValue": "6.1446",
          "ordinal": 149,
          "properties": {
           "BACK_COLOR": null,
           "FONT_FLAGS": 0,
           "FORE_COLOR": null
          },
          "value": 6.14464906071591
         },
         {
          "formattedValue": "2.0178",
          "ordinal": 150,
          "properties": {
           "BACK_COLOR": null,
           "FONT_FLAGS": 0,
           "FORE_COLOR": null
          },
          "value": 2.0178257772565837
         },
         {
          "formattedValue": "floatVector[51]{1.0, ...}",
          "ordinal": 151,
          "properties": {
           "BACK_COLOR": null,
           "FONT_FLAGS": 0,
           "FORE_COLOR": null
          },
          "value": [
           1,
           0.14122644,
           0.18355544,
           0.17352353,
           0.15429012,
           0.10279837,
           0.11041593,
           0.12625141,
           0.1622293,
           0.1572669,
           0.018199664,
           0.22078845,
           0.11687816,
           0.08740954,
           0.1308036,
           0.20086756,
           0.102566935,
           0.031351894,
           0.07316243,
           -0.0015878156,
           0.017365253,
           -0.015207588,
           0.0405794,
           -0.0005767858,
           -0.030567858,
           0.019761322,
           0.005651547,
           0.08949169,
           -0.071866244,
           -0.0075047533,
           0.053944554,
           -0.034437336,
           -0.05289504,
           -0.09353496,
           -0.04763142,
           -0.016987907,
           -0.10459307,
           -0.051770836,
           -0.05024395,
           -0.13005137,
           -0.09298421,
           -0.0104896175,
           -0.046710074,
           -0.036326453,
           -0.118699595,
           -0.07528019,
           0.016708909,
           -0.11950555,
           -0.08583083,
           -0.04334667,
           -0.09801295
          ]
         },
         {
          "formattedValue": "floatVector[51]{1.0, ...}",
          "ordinal": 152,
          "properties": {
           "BACK_COLOR": null,
           "FONT_FLAGS": 0,
           "FORE_COLOR": null
          },
          "value": [
           1,
           0.14123361,
           0.167329,
           0.13483506,
           0.09659,
           0.033221208,
           0.042207733,
           0.065269805,
           0.10489626,
           0.090855375,
           -0.0799086,
           0.15689324,
           0.037081286,
           0.0025018386,
           0.05797809,
           0.123156406,
           0.009685108,
           -0.08198674,
           -0.010147738,
           -0.08760869,
           -0.06376268,
           -0.030743847,
           -0.008773236,
           -0.064774595,
           -0.078069724,
           0.029300708,
           -0.033681326,
           0.08967112,
           -0.073033765,
           -0.03861179,
           0.0675702,
           -0.03917829,
           -0.002190901,
           -0.09085761,
           -0.0017834252,
           0.06562694,
           -0.084080175,
           0.023451248,
           -0.0458044,
           -0.08628589,
           -0.022233324,
           0.06633303,
           -0.0067310003,
           -0.005030203,
           -0.04665194,
           -0.031270742,
           0.09705168,
           -0.044319835,
           -0.00487884,
           0.012728544,
           -0.05579885
          ]
         },
         {
          "formattedValue": "1,862.3005",
          "ordinal": 153,
          "properties": {
           "BACK_COLOR": null,
           "FONT_FLAGS": 0,
           "FORE_COLOR": null
          },
          "value": 1862.3005264397602
         },
         {
          "formattedValue": ".0000",
          "ordinal": 154,
          "properties": {
           "BACK_COLOR": null,
           "FONT_FLAGS": 0,
           "FORE_COLOR": null
          },
          "value": 2.4212665822520153e-116
         },
         {
          "formattedValue": "532.4312",
          "ordinal": 155,
          "properties": {
           "BACK_COLOR": null,
           "FONT_FLAGS": 0,
           "FORE_COLOR": null
          },
          "value": 532.4311600059219
         },
         {
          "formattedValue": "144.1025",
          "ordinal": 156,
          "properties": {
           "BACK_COLOR": null,
           "FONT_FLAGS": 0,
           "FORE_COLOR": null
          },
          "value": 144.10248959434506
         },
         {
          "formattedValue": "10.4909",
          "ordinal": 157,
          "properties": {
           "BACK_COLOR": null,
           "FONT_FLAGS": 0,
           "FORE_COLOR": null
          },
          "value": 10.490898511968979
         },
         {
          "formattedValue": "floatVector[51]{1.0, ...}",
          "ordinal": 158,
          "properties": {
           "BACK_COLOR": null,
           "FONT_FLAGS": 0,
           "FORE_COLOR": null
          },
          "value": [
           1,
           0.42600706,
           0.39076263,
           0.2918321,
           0.31971964,
           0.28105044,
           0.23838872,
           0.17901729,
           0.20493305,
           0.19427875,
           0.18388961,
           0.18373731,
           0.13748246,
           0.16355701,
           0.12208343,
           0.16787441,
           0.1452933,
           0.17261767,
           0.1806907,
           0.1572167,
           0.13364893,
           0.09028754,
           0.15267998,
           0.16913103,
           0.117545016,
           0.14385894,
           0.13957645,
           0.12600249,
           0.081307046,
           0.08816317,
           0.10042253,
           0.089211576,
           0.0919261,
           0.10701115,
           0.073635936,
           0.07868412,
           0.07048334,
           0.074360445,
           0.048744842,
           0.008790662,
           0.02176157,
           0.038640767,
           0.033289403,
           0.044546563,
           0.037505817,
           0.058239605,
           0.07174544,
           0.047558118,
           0.05379546,
           0.05663644,
           0.061063826
          ]
         },
         {
          "formattedValue": "floatVector[51]{1.0, ...}",
          "ordinal": 159,
          "properties": {
           "BACK_COLOR": null,
           "FONT_FLAGS": 0,
           "FORE_COLOR": null
          },
          "value": [
           1,
           0.42604053,
           0.2558455,
           0.07672645,
           0.14456579,
           0.07642881,
           0.017073676,
           -0.022079116,
           0.060199462,
           0.0414654,
           0.022286195,
           0.046011023,
           -0.022885868,
           0.03817778,
           -0.019023184,
           0.06422718,
           0.024180898,
           0.05135413,
           0.061440732,
           -0.006577215,
           -0.015641036,
           -0.059173953,
           0.07483272,
           0.06862874,
           -0.03819166,
           0.05429952,
           0.01805134,
           -0.018352268,
           -0.065005526,
           0.01412794,
           0.033308387,
           -0.0116915675,
           0.02484282,
           0.028717779,
           -0.034685005,
           -0.016720679,
           0.004336655,
           0.015148056,
           -0.03094998,
           -0.049895234,
           -0.013737452,
           0.0061982675,
           -0.012243797,
           0.034684006,
           0.019912653,
           0.018688276,
           0.040640738,
           -0.013509461,
           -0.015201805,
           0.0031669054,
           0.01959775
          ]
         },
         {
          "formattedValue": "1,133,866.3493",
          "ordinal": 160,
          "properties": {
           "BACK_COLOR": null,
           "FONT_FLAGS": 0,
           "FORE_COLOR": null
          },
          "value": 1133866.3493211123
         },
         {
          "formattedValue": ".0000",
          "ordinal": 161,
          "properties": {
           "BACK_COLOR": null,
           "FONT_FLAGS": 0,
           "FORE_COLOR": null
          },
          "value": 1.0535199479898312e-35
         },
         {
          "formattedValue": "161.0767",
          "ordinal": 162,
          "properties": {
           "BACK_COLOR": null,
           "FONT_FLAGS": 0,
           "FORE_COLOR": null
          },
          "value": 161.07668273147954
         },
         {
          "formattedValue": "11.0682",
          "ordinal": 163,
          "properties": {
           "BACK_COLOR": null,
           "FONT_FLAGS": 0,
           "FORE_COLOR": null
          },
          "value": 11.068196287578079
         },
         {
          "formattedValue": "2.0147",
          "ordinal": 164,
          "properties": {
           "BACK_COLOR": null,
           "FONT_FLAGS": 0,
           "FORE_COLOR": null
          },
          "value": 2.0147069233373007
         },
         {
          "formattedValue": "floatVector[51]{1.0, ...}",
          "ordinal": 165,
          "properties": {
           "BACK_COLOR": null,
           "FONT_FLAGS": 0,
           "FORE_COLOR": null
          },
          "value": [
           1,
           0.29398343,
           0.13040058,
           0.11575631,
           0.11909915,
           0.119251296,
           0.103542045,
           0.033944104,
           0.10175667,
           0.053971697,
           0.069154955,
           0.028605254,
           -0.051962294,
           0.00040462258,
           0.16785237,
           0.056451846,
           -0.0023643232,
           -0.040214982,
           -0.0027379177,
           0.021135636,
           0.026374217,
           -0.015240188,
           0.04571419,
           0.015288043,
           0.058309462,
           0.003916738,
           -0.03099864,
           0.044682913,
           0.08442572,
           0.06621634,
           -0.0027593423,
           0.01954801,
           0.048672196,
           0.023483709,
           -0.023047963,
           -0.04886606,
           -0.0054601557,
           -0.014325222,
           -0.009835623,
           -0.025443418,
           -0.10449667,
           -0.047299698,
           -0.097055025,
           -0.07482579,
           -0.1341291,
           -0.11476806,
           -0.011990222,
           -0.044242043,
           -0.12944752,
           -0.053011373,
           -0.11612895
          ]
         },
         {
          "formattedValue": "floatVector[51]{1.0, ...}",
          "ordinal": 166,
          "properties": {
           "BACK_COLOR": null,
           "FONT_FLAGS": 0,
           "FORE_COLOR": null
          },
          "value": [
           1,
           0.29424345,
           0.046276137,
           0.07230254,
           0.067988016,
           0.060984988,
           0.041429743,
           -0.030897781,
           0.088413216,
           -0.01877289,
           0.038861386,
           -0.026313324,
           -0.0878513,
           0.023448389,
           0.18581122,
           -0.022679528,
           -0.048729036,
           -0.054542072,
           0.004165679,
           0.0062079486,
           0.029959677,
           -0.014856921,
           0.04283442,
           -0.0034951596,
           0.04717878,
           -0.041180685,
           -0.009340729,
           0.07727504,
           0.023703048,
           0.036027376,
           -0.0588357,
           0.055545054,
           0.021515286,
           -0.022587085,
           -0.05228817,
           -0.0670648,
           0.0122177275,
           -0.022341236,
           -0.004845621,
           0.010475444,
           -0.10000746,
           0.0044488623,
           -0.15029679,
           -0.00448799,
           -0.1011145,
           -0.014310999,
           0.08001921,
           -0.0502671,
           -0.083896615,
           0.050596222,
           -0.12196472
          ]
         },
         {
          "formattedValue": ".0368",
          "ordinal": 167,
          "properties": {
           "BACK_COLOR": null,
           "FONT_FLAGS": 0,
           "FORE_COLOR": null
          },
          "value": 0.03683441792311921
         },
         {
          "formattedValue": ".0000",
          "ordinal": 168,
          "properties": {
           "BACK_COLOR": null,
           "FONT_FLAGS": 0,
           "FORE_COLOR": null
          },
          "value": 1.639150065333992e-58
         },
         {
          "formattedValue": "266.1115",
          "ordinal": 169,
          "properties": {
           "BACK_COLOR": null,
           "FONT_FLAGS": 0,
           "FORE_COLOR": null
          },
          "value": 266.11151507800616
         },
         {
          "formattedValue": "19.8257",
          "ordinal": 170,
          "properties": {
           "BACK_COLOR": null,
           "FONT_FLAGS": 0,
           "FORE_COLOR": null
          },
          "value": 19.825732961790543
         },
         {
          "formattedValue": "3.7741",
          "ordinal": 171,
          "properties": {
           "BACK_COLOR": null,
           "FONT_FLAGS": 0,
           "FORE_COLOR": null
          },
          "value": 3.7740588490287927
         },
         {
          "formattedValue": "floatVector[51]{1.0, ...}",
          "ordinal": 172,
          "properties": {
           "BACK_COLOR": null,
           "FONT_FLAGS": 0,
           "FORE_COLOR": null
          },
          "value": [
           1,
           0.5187082,
           0.3927061,
           0.41932246,
           0.44540104,
           0.4491132,
           0.45113775,
           0.34652686,
           0.3450178,
           0.3159916,
           0.36655343,
           0.30531853,
           0.24604225,
           0.28053737,
           0.38825974,
           0.3167459,
           0.28866032,
           0.2527011,
           0.28595206,
           0.3242738,
           0.36130473,
           0.29127142,
           0.27654985,
           0.3025835,
           0.32301432,
           0.3065979,
           0.28540912,
           0.2636575,
           0.2594394,
           0.2684857,
           0.23946486,
           0.20278195,
           0.2071996,
           0.22196025,
           0.14640935,
           0.13532509,
           0.14644836,
           0.13947071,
           0.14227024,
           0.1332314,
           0.11245714,
           0.12475553,
           0.09666826,
           0.12674616,
           0.12983361,
           0.13903476,
           0.15801679,
           0.15483022,
           0.11659657,
           0.13971078,
           0.11942992
          ]
         },
         {
          "formattedValue": "floatVector[51]{1.0, ...}",
          "ordinal": 173,
          "properties": {
           "BACK_COLOR": null,
           "FONT_FLAGS": 0,
           "FORE_COLOR": null
          },
          "value": [
           1,
           0.51887256,
           0.16966951,
           0.2305445,
           0.2064574,
           0.17871888,
           0.16156109,
           -0.031841252,
           0.056841586,
           -0.01921625,
           0.113012336,
           -0.03973363,
           -0.06147926,
           0.061625186,
           0.23786406,
           0.056959875,
           0.044541188,
           -0.014239497,
           0.048880856,
           0.0750592,
           0.1260973,
           -0.0006403035,
           0.018358368,
           0.09263819,
           0.045477867,
           0.060011823,
           0.045174576,
           -0.0031350495,
           -0.00025219435,
           0.08636189,
           -0.0049617607,
           -0.023897039,
           0.019900164,
           0.06977638,
           -0.1291559,
           -0.033708833,
           0.02581311,
           -0.014113636,
           0.03335818,
           0.0023546398,
           -0.015200192,
           0.031837784,
           -0.08339908,
           0.03864432,
           0.06703909,
           0.1123244,
           0.107214786,
           0.0126618715,
           -0.007503226,
           0.07518582,
           -0.020617906
          ]
         },
         {
          "formattedValue": "23.7604",
          "ordinal": 174,
          "properties": {
           "BACK_COLOR": null,
           "FONT_FLAGS": 0,
           "FORE_COLOR": null
          },
          "value": 23.76040049583028
         },
         {
          "formattedValue": ".0000",
          "ordinal": 175,
          "properties": {
           "BACK_COLOR": null,
           "FONT_FLAGS": 0,
           "FORE_COLOR": null
          },
          "value": 6.46417998718298e-10
         },
         {
          "formattedValue": "42.3191",
          "ordinal": 176,
          "properties": {
           "BACK_COLOR": null,
           "FONT_FLAGS": 0,
           "FORE_COLOR": null
          },
          "value": 42.31914952911499
         },
         {
          "formattedValue": "-.7909",
          "ordinal": 177,
          "properties": {
           "BACK_COLOR": null,
           "FONT_FLAGS": 0,
           "FORE_COLOR": null
          },
          "value": -0.7908928393078027
         },
         {
          "formattedValue": ".7206",
          "ordinal": 178,
          "properties": {
           "BACK_COLOR": null,
           "FONT_FLAGS": 0,
           "FORE_COLOR": null
          },
          "value": 0.7206048200829318
         },
         {
          "formattedValue": "floatVector[51]{1.0, ...}",
          "ordinal": 179,
          "properties": {
           "BACK_COLOR": null,
           "FONT_FLAGS": 0,
           "FORE_COLOR": null
          },
          "value": [
           1,
           0.99445736,
           0.98794985,
           0.9808134,
           0.97334003,
           0.96497416,
           0.9564257,
           0.9476697,
           0.93872195,
           0.93006474,
           0.9205835,
           0.91082096,
           0.90067464,
           0.89040434,
           0.87958425,
           0.8683176,
           0.8561389,
           0.84370095,
           0.831257,
           0.81794345,
           0.80414635,
           0.79047096,
           0.7762821,
           0.7619343,
           0.7471187,
           0.7319529,
           0.71677154,
           0.70181245,
           0.6868706,
           0.67220974,
           0.65749043,
           0.6431898,
           0.6292218,
           0.6146327,
           0.5994057,
           0.5830259,
           0.56671625,
           0.5496788,
           0.53156626,
           0.51316136,
           0.49502638,
           0.4771162,
           0.4594648,
           0.44281352,
           0.4266878,
           0.41144502,
           0.3965829,
           0.38228455,
           0.3681732,
           0.35428756,
           0.3402335
          ]
         },
         {
          "formattedValue": "floatVector[51]{1.0, ...}",
          "ordinal": 180,
          "properties": {
           "BACK_COLOR": null,
           "FONT_FLAGS": 0,
           "FORE_COLOR": null
          },
          "value": [
           1,
           0.99472946,
           -0.115093656,
           -0.047865137,
           -0.013598146,
           -0.08598933,
           3.547297e-05,
           -0.021409798,
           -0.011298876,
           0.04148646,
           -0.07538077,
           0.0011344482,
           -0.06704984,
           0.0041907667,
           -0.06841994,
           -0.03466393,
           -0.12043159,
           0.0049930294,
           0.0012392483,
           -0.09900288,
           -0.022464762,
           0.05363925,
           -0.06438108,
           0.032857995,
           -0.059858155,
           -0.046427257,
           -0.0018669135,
           0.025162257,
           -0.024646316,
           0.06921368,
           -0.002403678,
           0.05814112,
           0.052964266,
           -0.12267348,
           -0.090675354,
           -0.17254455,
           -0.022735937,
           -0.09165171,
           -0.13783276,
           -0.050277743,
           0.027670013,
           0.04318697,
           -0.020968242,
           0.15137954,
           0.076142654,
           0.09409865,
           0.025994161,
           0.014500057,
           0.04822993,
           -0.027808137,
           -0.0683396
          ]
         },
         {
          "formattedValue": ".0361",
          "ordinal": 181,
          "properties": {
           "BACK_COLOR": null,
           "FONT_FLAGS": 0,
           "FORE_COLOR": null
          },
          "value": 0.03610494229242663
         },
         {
          "formattedValue": ".0000",
          "ordinal": 182,
          "properties": {
           "BACK_COLOR": null,
           "FONT_FLAGS": 0,
           "FORE_COLOR": null
          },
          "value": 1.5127626205317442e-15
         },
         {
          "formattedValue": "68.2497",
          "ordinal": 183,
          "properties": {
           "BACK_COLOR": null,
           "FONT_FLAGS": 0,
           "FORE_COLOR": null
          },
          "value": 68.24967773130189
         },
         {
          "formattedValue": "7.6036",
          "ordinal": 184,
          "properties": {
           "BACK_COLOR": null,
           "FONT_FLAGS": 0,
           "FORE_COLOR": null
          },
          "value": 7.603569115701498
         },
         {
          "formattedValue": ".5700",
          "ordinal": 185,
          "properties": {
           "BACK_COLOR": null,
           "FONT_FLAGS": 0,
           "FORE_COLOR": null
          },
          "value": 0.569950948260292
         },
         {
          "formattedValue": "floatVector[51]{1.0, ...}",
          "ordinal": 186,
          "properties": {
           "BACK_COLOR": null,
           "FONT_FLAGS": 0,
           "FORE_COLOR": null
          },
          "value": [
           1,
           0.11295477,
           0.05721124,
           0.021463083,
           0.08555559,
           0.014645346,
           0.02568234,
           0.013288561,
           -0.032553956,
           0.06063081,
           0.00787056,
           0.06575435,
           -0.0016120281,
           0.07551487,
           0.03927265,
           0.13251743,
           0.01815537,
           0.009302029,
           0.09411149,
           0.046089824,
           -0.037627835,
           0.033701494,
           -0.009453115,
           0.029031755,
           0.05127549,
           0.008730911,
           -0.025389511,
           0.018534344,
           -0.037102822,
           -0.00918351,
           -0.043469496,
           -0.061894383,
           0.06806936,
           0.06891388,
           0.12395081,
           -0.020538278,
           0.08466981,
           0.09996363,
           0.068166554,
           -0.017177265,
           -0.042438947,
           -0.010101892,
           -0.11441835,
           -0.08081416,
           -0.12358676,
           -0.03995193,
           -0.08057723,
           -0.032176953,
           -0.023356693,
           0.005156381,
           -0.070173435
          ]
         },
         {
          "formattedValue": "floatVector[51]{1.0, ...}",
          "ordinal": 187,
          "properties": {
           "BACK_COLOR": null,
           "FONT_FLAGS": 0,
           "FORE_COLOR": null
          },
          "value": [
           1,
           0.113018595,
           0.045131955,
           0.010545242,
           0.08256212,
           -0.003936523,
           0.01750595,
           0.00715919,
           -0.045458872,
           0.07102391,
           -0.006189087,
           0.06241326,
           -0.00966227,
           0.06294079,
           0.028389359,
           0.11355099,
           -0.0129894735,
           -0.009091682,
           0.09057201,
           0.012589935,
           -0.063362874,
           0.053741876,
           -0.0446864,
           0.047142077,
           0.033220254,
           -0.011519941,
           -0.037690178,
           0.012567638,
           -0.08065005,
           -0.008763617,
           -0.06956074,
           -0.06402823,
           0.111032754,
           0.07632124,
           0.15342313,
           0.0009287273,
           0.067843966,
           0.10718809,
           0.014590612,
           -0.061938394,
           -0.074363895,
           -0.009823386,
           -0.17583533,
           -0.09476533,
           -0.11174782,
           -0.04333768,
           -0.031652275,
           -0.06302578,
           0.011267108,
           0.049805917,
           -0.106195934
          ]
         },
         {
          "formattedValue": ".0033",
          "ordinal": 188,
          "properties": {
           "BACK_COLOR": null,
           "FONT_FLAGS": 0,
           "FORE_COLOR": null
          },
          "value": 0.003288367764846239
         },
         {
          "formattedValue": ".0000",
          "ordinal": 189,
          "properties": {
           "BACK_COLOR": null,
           "FONT_FLAGS": 0,
           "FORE_COLOR": null
          },
          "value": 9.107599500878237e-79
         },
         {
          "formattedValue": "359.3902",
          "ordinal": 190,
          "properties": {
           "BACK_COLOR": null,
           "FONT_FLAGS": 0,
           "FORE_COLOR": null
          },
          "value": 359.39022634306104
         },
         {
          "formattedValue": "38.9414",
          "ordinal": 191,
          "properties": {
           "BACK_COLOR": null,
           "FONT_FLAGS": 0,
           "FORE_COLOR": null
          },
          "value": 38.94142365143897
         },
         {
          "formattedValue": "5.6205",
          "ordinal": 192,
          "properties": {
           "BACK_COLOR": null,
           "FONT_FLAGS": 0,
           "FORE_COLOR": null
          },
          "value": 5.620510494943521
         },
         {
          "formattedValue": "floatVector[51]{1.0, ...}",
          "ordinal": 193,
          "properties": {
           "BACK_COLOR": null,
           "FONT_FLAGS": 0,
           "FORE_COLOR": null
          },
          "value": [
           1,
           0.60922647,
           0.45424145,
           0.4169442,
           0.42895296,
           0.42528266,
           0.52247375,
           0.36680186,
           0.23976591,
           0.23443688,
           0.21360424,
           0.23240708,
           0.20285858,
           0.18348978,
           0.26272142,
           0.26317438,
           0.24656595,
           0.23139611,
           0.21235684,
           0.23842114,
           0.32347038,
           0.24663101,
           0.21531226,
           0.17988984,
           0.14257586,
           0.10454073,
           0.14004254,
           0.06784352,
           0.04822947,
           0.04648909,
           0.026575606,
           0.010556414,
           0.006629345,
           -0.0010854262,
           -0.00064631214,
           0.01630998,
           -0.0001624662,
           0.013171791,
           0.006740674,
           0.008508974,
           0.015868032,
           0.022889994,
           0.00036888503,
           0.0015466416,
           -0.002964568,
           -0.0074821603,
           -0.0022160758,
           -0.0030028822,
           -0.0031150037,
           0.004695189,
           0.0077638063
          ]
         },
         {
          "formattedValue": "floatVector[51]{1.0, ...}",
          "ordinal": 194,
          "properties": {
           "BACK_COLOR": null,
           "FONT_FLAGS": 0,
           "FORE_COLOR": null
          },
          "value": [
           1,
           0.60945237,
           0.13176085,
           0.1557718,
           0.16510417,
           0.11643651,
           0.28533226,
           -0.16458425,
           -0.21575259,
           0.0727524,
           -0.14948109,
           0.108417764,
           -0.22856663,
           0.17842919,
           0.7780915,
           0.27124858,
           0.2526745,
           -0.072478905,
           -0.25439855,
           0.14865468,
           0.6209239,
           -0.26502275,
           -0.03356162,
           -0.29083145,
           -0.18659939,
           -0.3308878,
           0.37767503,
           -0.17829278,
           -0.17672084,
           0.19012071,
           0.10117217,
           0.116434045,
           0.052951414,
           -0.051681902,
           0.2031933,
           0.5656735,
           -0.11800964,
           0.33520687,
           0.033178896,
           0.18316631,
           0.54194844,
           0.4594241,
           -0.047714308,
           0.03660259,
           -0.093405336,
           -0.0834147,
           -0.16277438,
           -0.30912948,
           -0.17716458,
           -0.19299297,
           0.02954366
          ]
         },
         {
          "formattedValue": "7.1918",
          "ordinal": 195,
          "properties": {
           "BACK_COLOR": null,
           "FONT_FLAGS": 0,
           "FORE_COLOR": null
          },
          "value": 7.191772524076549
         },
         {
          "formattedValue": ".0000",
          "ordinal": 196,
          "properties": {
           "BACK_COLOR": null,
           "FONT_FLAGS": 0,
           "FORE_COLOR": null
          },
          "value": 5.425768866764679e-93
         },
         {
          "formattedValue": "424.8985",
          "ordinal": 197,
          "properties": {
           "BACK_COLOR": null,
           "FONT_FLAGS": 0,
           "FORE_COLOR": null
          },
          "value": 424.8985080649388
         },
         {
          "formattedValue": "63.7353",
          "ordinal": 198,
          "properties": {
           "BACK_COLOR": null,
           "FONT_FLAGS": 0,
           "FORE_COLOR": null
          },
          "value": 63.735294299924746
         },
         {
          "formattedValue": "7.1999",
          "ordinal": 199,
          "properties": {
           "BACK_COLOR": null,
           "FONT_FLAGS": 0,
           "FORE_COLOR": null
          },
          "value": 7.199868034938349
         },
         {
          "formattedValue": "floatVector[51]{1.0, ...}",
          "ordinal": 200,
          "properties": {
           "BACK_COLOR": null,
           "FONT_FLAGS": 0,
           "FORE_COLOR": null
          },
          "value": [
           1,
           0.4999562,
           0.31388623,
           0.31233782,
           0.3245379,
           0.3065687,
           0.46711373,
           0.3235532,
           0.16671571,
           0.16719137,
           0.15376396,
           0.1681005,
           0.12757377,
           0.1606653,
           0.23750441,
           0.21783963,
           0.20598036,
           0.19323914,
           0.1564414,
           0.20286119,
           0.3722351,
           0.2555834,
           0.19692627,
           0.18250442,
           0.13912253,
           0.10507441,
           0.16175774,
           0.088452496,
           0.0736163,
           0.06344674,
           0.04659172,
           0.025151996,
           0.024712086,
           0.024418661,
           0.012741914,
           0.014480552,
           0.010647852,
           0.015340301,
           0.0117433155,
           0.007551705,
           0.008766004,
           0.019362586,
           0.013161153,
           0.013979316,
           0.012375886,
           0.014573826,
           0.024879465,
           0.028191235,
           0.017837321,
           0.016155899,
           0.012940894
          ]
         },
         {
          "formattedValue": "floatVector[51]{1.0, ...}",
          "ordinal": 201,
          "properties": {
           "BACK_COLOR": null,
           "FONT_FLAGS": 0,
           "FORE_COLOR": null
          },
          "value": [
           1,
           0.50006455,
           0.08522787,
           0.16954051,
           0.13711904,
           0.09285422,
           0.33182508,
           -0.07626268,
           -0.28887272,
           0.1117792,
           -0.2425097,
           0.22026335,
           -0.55107415,
           0.49906078,
           0.7698881,
           0.03145804,
           0.6504479,
           -0.40611926,
           -0.20070268,
           0.15791218,
           1.7184515,
           -0.74534047,
           -0.76939166,
           -0.18079185,
           -0.120572574,
           -0.10717826,
           0.12743688,
           0.3049099,
           -1.3913412,
           0.6924943,
           0.6276724,
           0.24350446,
           0.8967536,
           1.0939735,
           -1.2209553,
           0.72319365,
           -1.2033849,
           1.0972726,
           -0.15695173,
           0.12163368,
           1.5370916,
           2.2528493,
           -0.73881674,
           0.0004931456,
           1.0408397,
           1.6531019,
           0.7595537,
           0.610064,
           -0.9784952,
           -0.86694413,
           0.4604161
          ]
         },
         {
          "formattedValue": "4,600.3730",
          "ordinal": 202,
          "properties": {
           "BACK_COLOR": null,
           "FONT_FLAGS": 0,
           "FORE_COLOR": null
          },
          "value": 4600.3729913773095
         },
         {
          "formattedValue": ".0000",
          "ordinal": 203,
          "properties": {
           "BACK_COLOR": null,
           "FONT_FLAGS": 0,
           "FORE_COLOR": null
          },
          "value": 9.085356163187383e-35
         },
         {
          "formattedValue": "156.7676",
          "ordinal": 204,
          "properties": {
           "BACK_COLOR": null,
           "FONT_FLAGS": 0,
           "FORE_COLOR": null
          },
          "value": 156.7676287005581
         },
         {
          "formattedValue": "7.1526",
          "ordinal": 205,
          "properties": {
           "BACK_COLOR": null,
           "FONT_FLAGS": 0,
           "FORE_COLOR": null
          },
          "value": 7.152558288472131
         },
         {
          "formattedValue": "2.2264",
          "ordinal": 206,
          "properties": {
           "BACK_COLOR": null,
           "FONT_FLAGS": 0,
           "FORE_COLOR": null
          },
          "value": 2.2263743430255265
         },
         {
          "formattedValue": "floatVector[51]{1.0, ...}",
          "ordinal": 207,
          "properties": {
           "BACK_COLOR": null,
           "FONT_FLAGS": 0,
           "FORE_COLOR": null
          },
          "value": [
           1,
           0.8344669,
           0.73192424,
           0.6968403,
           0.669434,
           0.6575462,
           0.6475988,
           0.61913174,
           0.57482946,
           0.54477483,
           0.52214706,
           0.50989586,
           0.4991112,
           0.5067345,
           0.50750506,
           0.5005933,
           0.48476848,
           0.47639054,
           0.4944324,
           0.51775736,
           0.5400582,
           0.53281564,
           0.5294217,
           0.55055505,
           0.531946,
           0.5376401,
           0.5294959,
           0.5209491,
           0.50455695,
           0.48879984,
           0.46019644,
           0.42296016,
           0.41200536,
           0.41338497,
           0.384149,
           0.36681718,
           0.34689268,
           0.31899056,
           0.30837363,
           0.26548445,
           0.26389498,
           0.2906723,
           0.3087487,
           0.30400312,
           0.30967483,
           0.31493518,
           0.31445408,
           0.31143147,
           0.31205553,
           0.3213051,
           0.30810195
          ]
         },
         {
          "formattedValue": "floatVector[51]{1.0, ...}",
          "ordinal": 208,
          "properties": {
           "BACK_COLOR": null,
           "FONT_FLAGS": 0,
           "FORE_COLOR": null
          },
          "value": [
           1,
           0.83456373,
           0.11766621,
           0.20544319,
           0.1030281,
           0.13215499,
           0.086674705,
           0.014575817,
           -0.039040327,
           0.015410018,
           0.008223237,
           0.041773647,
           0.026204208,
           0.10892411,
           0.06301492,
           0.055649545,
           0.0022337162,
           0.03865355,
           0.12737066,
           0.1171237,
           0.114099644,
           -0.006666096,
           0.054219168,
           0.14965768,
           -0.053789794,
           0.10810897,
           -0.023018155,
           0.044882286,
           0.009150233,
           0.034281753,
           -0.050657827,
           -0.08098427,
           0.04268397,
           0.08234738,
           -0.079911694,
           0.05434886,
           -0.04347841,
           -0.049813926,
           0.006328406,
           -0.20566964,
           0.073936515,
           0.12198374,
           0.115474306,
           -0.03468543,
           0.07849939,
           0.041397575,
           0.0011629409,
           -0.047345202,
           -0.05405602,
           0.090913914,
           -0.06741481
          ]
         },
         {
          "formattedValue": "163.7648",
          "ordinal": 209,
          "properties": {
           "BACK_COLOR": null,
           "FONT_FLAGS": 0,
           "FORE_COLOR": null
          },
          "value": 163.76476965071166
         },
         {
          "formattedValue": ".0000",
          "ordinal": 210,
          "properties": {
           "BACK_COLOR": null,
           "FONT_FLAGS": 0,
           "FORE_COLOR": null
          },
          "value": 1.0478976663811765e-08
         },
         {
          "formattedValue": "275.7595",
          "ordinal": 211,
          "properties": {
           "BACK_COLOR": null,
           "FONT_FLAGS": 0,
           "FORE_COLOR": null
          },
          "value": 275.75945915558094
         },
         {
          "formattedValue": "45.9610",
          "ordinal": 212,
          "properties": {
           "BACK_COLOR": null,
           "FONT_FLAGS": 0,
           "FORE_COLOR": null
          },
          "value": 45.96104133867255
         },
         {
          "formattedValue": "4.9662",
          "ordinal": 213,
          "properties": {
           "BACK_COLOR": null,
           "FONT_FLAGS": 0,
           "FORE_COLOR": null
          },
          "value": 4.966151436222871
         },
         {
          "formattedValue": "floatVector[51]{1.0, ...}",
          "ordinal": 214,
          "properties": {
           "BACK_COLOR": null,
           "FONT_FLAGS": 0,
           "FORE_COLOR": null
          },
          "value": [
           1,
           0.47449452,
           0.38742074,
           0.35433692,
           0.35619235,
           0.30519933,
           0.26731133,
           0.25592893,
           0.24873452,
           0.23734617,
           0.21618819,
           0.18852961,
           0.18925896,
           0.20107022,
           0.16487345,
           0.1257355,
           0.13762757,
           0.11491543,
           0.11969811,
           0.10880047,
           0.11274102,
           0.107050434,
           0.10370429,
           0.10958807,
           0.055256676,
           0.054672353,
           0.048016157,
           0.039103832,
           0.044642728,
           0.035604626,
           0.030455252,
           0.020319276,
           0.007070116,
           0.00022536222,
           0.0019031425,
           -0.0007801165,
           -0.008245653,
           -0.0010131358,
           -0.001437888,
           -0.019772243,
           -0.009210552,
           -0.0144770555,
           -0.024387566,
           -0.03828907,
           -0.02713248,
           -0.030792473,
           -0.037329245,
           -0.02431317,
           -0.022816546,
           -0.01372133,
           -0.03076665
          ]
         },
         {
          "formattedValue": "floatVector[51]{1.0, ...}",
          "ordinal": 215,
          "properties": {
           "BACK_COLOR": null,
           "FONT_FLAGS": 0,
           "FORE_COLOR": null
          },
          "value": [
           1,
           0.4750347,
           0.1338717,
           0.14002593,
           0.11692741,
           0.009099476,
           0.026498776,
           0.05205823,
           0.020311173,
           0.042598628,
           -0.008025374,
           0.025248086,
           0.045385987,
           0.018805966,
           0.016706478,
           -0.02345039,
           -0.0054655536,
           -0.04103035,
           -0.13132432,
           0.1115803,
           0.0014457654,
           0.06123151,
           -0.098835945,
           -0.077936105,
           -0.5063783,
           -3.454587,
           -2.0378437,
           -4.3021793,
           -6.159101,
           -13.943851,
           -1.2949425,
           0.36953336,
           3.3325489,
           2.6566257,
           5.8406897,
           7.248886,
           -9.232114,
           -12.92981,
           2.6065946,
           23.133034,
           -14.119797,
           -0.68328893,
           -0.35680172,
           21.933208,
           2.8023353,
           -11.239698,
           -10.176714,
           0.5754683,
           0.2474616,
           7.5652175,
           -2.1873095
          ]
         },
         {
          "formattedValue": "70,831.9288",
          "ordinal": 216,
          "properties": {
           "BACK_COLOR": null,
           "FONT_FLAGS": 0,
           "FORE_COLOR": null
          },
          "value": 70831.92877038341
         },
         {
          "formattedValue": ".0000",
          "ordinal": 217,
          "properties": {
           "BACK_COLOR": null,
           "FONT_FLAGS": 0,
           "FORE_COLOR": null
          },
          "value": 7.661587612851064e-07
         },
         {
          "formattedValue": "180.6149",
          "ordinal": 218,
          "properties": {
           "BACK_COLOR": null,
           "FONT_FLAGS": 0,
           "FORE_COLOR": null
          },
          "value": 180.6149130915022
         },
         {
          "formattedValue": "22.4758",
          "ordinal": 219,
          "properties": {
           "BACK_COLOR": null,
           "FONT_FLAGS": 0,
           "FORE_COLOR": null
          },
          "value": 22.475847908388086
         },
         {
          "formattedValue": "2.8076",
          "ordinal": 220,
          "properties": {
           "BACK_COLOR": null,
           "FONT_FLAGS": 0,
           "FORE_COLOR": null
          },
          "value": 2.8076297591147448
         },
         {
          "formattedValue": "floatVector[51]{1.0, ...}",
          "ordinal": 221,
          "properties": {
           "BACK_COLOR": null,
           "FONT_FLAGS": 0,
           "FORE_COLOR": null
          },
          "value": [
           1,
           0.45293292,
           0.3069399,
           0.26445755,
           0.2309646,
           0.21337232,
           0.24568675,
           0.22799854,
           0.16987322,
           0.17335895,
           0.20314012,
           0.18657565,
           0.14615342,
           0.17512232,
           0.15687844,
           0.16514966,
           0.19752717,
           0.16716847,
           0.12124078,
           0.14084943,
           0.12192681,
           0.13050933,
           0.14218274,
           0.10743259,
           0.07309349,
           0.09719714,
           0.11194986,
           0.09813389,
           0.10972269,
           0.056088906,
           0.041149836,
           0.047148645,
           0.027968805,
           0.0065948423,
           0.02804736,
           0.044793826,
           0.0043757632,
           -0.0049786726,
           0.0018968757,
           -0.007544663,
           -0.011808823,
           0.03289533,
           0.028406322,
           0.0035654632,
           0.0019553266,
           -0.0062671043,
           -0.024938745,
           -0.006765726,
           0.009437357,
           0.024838787,
           -0.009786259
          ]
         },
         {
          "formattedValue": "floatVector[51]{1.0, ...}",
          "ordinal": 222,
          "properties": {
           "BACK_COLOR": null,
           "FONT_FLAGS": 0,
           "FORE_COLOR": null
          },
          "value": [
           1,
           0.45340142,
           0.06997634,
           0.082824625,
           0.031928618,
           0.053871356,
           0.08125687,
           0.05424135,
           -0.027317837,
           0.078434005,
           0.083846085,
           -0.006896367,
           -0.02760705,
           0.07025506,
           -0.0029866672,
           0.028070834,
           0.2234656,
           -0.08763385,
           -0.14389557,
           0.13860005,
           -0.04852955,
           0.12244858,
           -0.035703104,
           0.11502811,
           0.03302768,
           0.37526566,
           0.15405008,
           0.3180037,
           0.061200567,
           -0.068671025,
           -0.1267223,
           -0.11038977,
           0.24816748,
           0.12629318,
           0.33119488,
           -0.4503796,
           0.43863758,
           0.18612204,
           0.11008652,
           0.04648305,
           -0.29581085,
           -0.12903632,
           0.12176352,
           0.15823582,
           -0.09384053,
           -0.08561823,
           -0.012457899,
           -0.14411226,
           -0.22546111,
           0.033912804,
           -0.20239061
          ]
         },
         {
          "formattedValue": "51,406.0949",
          "ordinal": 223,
          "properties": {
           "BACK_COLOR": null,
           "FONT_FLAGS": 0,
           "FORE_COLOR": null
          },
          "value": 51406.094925037345
         },
         {
          "formattedValue": ".0012",
          "ordinal": 224,
          "properties": {
           "BACK_COLOR": null,
           "FONT_FLAGS": 0,
           "FORE_COLOR": null
          },
          "value": 0.0011650148143828973
         },
         {
          "formattedValue": "190.3895",
          "ordinal": 225,
          "properties": {
           "BACK_COLOR": null,
           "FONT_FLAGS": 0,
           "FORE_COLOR": null
          },
          "value": 190.3894603525207
         },
         {
          "formattedValue": "29.4640",
          "ordinal": 226,
          "properties": {
           "BACK_COLOR": null,
           "FONT_FLAGS": 0,
           "FORE_COLOR": null
          },
          "value": 29.464039190230462
         },
         {
          "formattedValue": "3.4114",
          "ordinal": 227,
          "properties": {
           "BACK_COLOR": null,
           "FONT_FLAGS": 0,
           "FORE_COLOR": null
          },
          "value": 3.41140649769009
         },
         {
          "formattedValue": "floatVector[51]{1.0, ...}",
          "ordinal": 228,
          "properties": {
           "BACK_COLOR": null,
           "FONT_FLAGS": 0,
           "FORE_COLOR": null
          },
          "value": [
           1,
           0.48278624,
           0.38155732,
           0.36373243,
           0.37955475,
           0.3552973,
           0.37751675,
           0.3793304,
           0.33681127,
           0.3625562,
           0.33301565,
           0.27365237,
           0.28824824,
           0.28261113,
           0.29077047,
           0.29678607,
           0.29039434,
           0.24099553,
           0.22504064,
           0.21576068,
           0.22910802,
           0.2321355,
           0.2025492,
           0.18077002,
           0.20059365,
           0.20768929,
           0.18124007,
           0.16247538,
           0.1876925,
           0.18782865,
           0.16242066,
           0.16764449,
           0.14620203,
           0.13539644,
           0.13388887,
           0.13209856,
           0.11793017,
           0.10575715,
           0.08978437,
           0.09159841,
           0.08855447,
           0.09133966,
           0.07617602,
           0.091800526,
           0.06083181,
           0.060616117,
           0.060226083,
           0.058037683,
           0.057157345,
           0.060426515,
           0.049952023
          ]
         },
         {
          "formattedValue": "floatVector[51]{1.0, ...}",
          "ordinal": 229,
          "properties": {
           "BACK_COLOR": null,
           "FONT_FLAGS": 0,
           "FORE_COLOR": null
          },
          "value": [
           1,
           0.4831289,
           0.07290184,
           0.12460084,
           0.11602618,
           0.07982683,
           0.10011017,
           0.097486965,
           0.008071421,
           0.16115236,
           0.004625344,
           -0.017614814,
           0.036347218,
           0.009177778,
           -0.011967133,
           0.0024570078,
           -0.029278947,
           -0.030862294,
           1.1128247,
           0.6050776,
           -0.022795916,
           -3.924508,
           2.7217069,
           -1.5808223,
           -5.4752426,
           -2.7597625,
           -0.37738502,
           -2.2197056,
           3.3111305,
           3.9315906,
           3.6680903,
           0.27587432,
           0.2603813,
           -0.8915541,
           2.261898,
           0.7347495,
           -1.0652299,
           3.7509751,
           0.0009885523,
           2.7675076,
           -2.1082358,
           1.8401155,
           1.3244236,
           -0.43053362,
           2.8765714,
           0.13851456,
           1.1101472,
           2.4911914,
           0.8541998,
           0.24819772,
           -0.61439383
          ]
         },
         {
          "formattedValue": "158,381.1848",
          "ordinal": 230,
          "properties": {
           "BACK_COLOR": null,
           "FONT_FLAGS": 0,
           "FORE_COLOR": null
          },
          "value": 158381.18483844525
         },
         {
          "formattedValue": ".0000",
          "ordinal": 231,
          "properties": {
           "BACK_COLOR": null,
           "FONT_FLAGS": 0,
           "FORE_COLOR": null
          },
          "value": 2.249926180112844e-05
         },
         {
          "formattedValue": "271.2940",
          "ordinal": 232,
          "properties": {
           "BACK_COLOR": null,
           "FONT_FLAGS": 0,
           "FORE_COLOR": null
          },
          "value": 271.29398236523576
         },
         {
          "formattedValue": "43.2417",
          "ordinal": 233,
          "properties": {
           "BACK_COLOR": null,
           "FONT_FLAGS": 0,
           "FORE_COLOR": null
          },
          "value": 43.24167885711156
         },
         {
          "formattedValue": "4.2963",
          "ordinal": 234,
          "properties": {
           "BACK_COLOR": null,
           "FONT_FLAGS": 0,
           "FORE_COLOR": null
          },
          "value": 4.296309470245045
         },
         {
          "formattedValue": "floatVector[51]{1.0, ...}",
          "ordinal": 235,
          "properties": {
           "BACK_COLOR": null,
           "FONT_FLAGS": 0,
           "FORE_COLOR": null
          },
          "value": [
           1,
           0.43712068,
           0.33583948,
           0.32747096,
           0.36554798,
           0.30243436,
           0.2811859,
           0.2621259,
           0.20541263,
           0.18605512,
           0.19272117,
           0.23292172,
           0.22805493,
           0.22625826,
           0.15604466,
           0.17267597,
           0.16050504,
           0.14886755,
           0.13749243,
           0.19152752,
           0.15452254,
           0.1371351,
           0.1175338,
           0.12372507,
           0.11080292,
           0.108830914,
           0.11964524,
           0.077890776,
           0.07429338,
           0.08076823,
           0.078942575,
           0.07670284,
           0.06928608,
           0.054978617,
           0.048961297,
           0.04794243,
           0.049950745,
           0.057500653,
           0.05493788,
           0.04718429,
           0.036971536,
           0.031225538,
           0.018175013,
           0.034257654,
           0.02892831,
           0.026739247,
           0.00821238,
           0.015095524,
           0.009645469,
           0.013516434,
           0.011281865
          ]
         },
         {
          "formattedValue": "floatVector[51]{1.0, ...}",
          "ordinal": 236,
          "properties": {
           "BACK_COLOR": null,
           "FONT_FLAGS": 0,
           "FORE_COLOR": null
          },
          "value": [
           1,
           0.43784302,
           0.10074681,
           0.13802692,
           0.17249793,
           0.03594553,
           0.02696941,
           0.022376634,
           -0.045866244,
           -0.007837737,
           0.021366885,
           0.07691505,
           0.07002972,
           0.07517269,
           -0.042537443,
           0.12507357,
           0.04379356,
           -0.102575675,
           0.14812681,
           0.56781965,
           -0.2885154,
           -0.07825665,
           -0.16203788,
           0.09120628,
           -0.7144396,
           -0.3037897,
           0.1449852,
           -0.104166284,
           1.5318526,
           -1.9102552,
           4.164069,
           4.9124403,
           -1.4797477,
           3.9833572,
           0.9305896,
           1.1501421,
           0.030984338,
           -0.09430205,
           2.1073756,
           3.6439457,
           -0.3237227,
           -0.5238215,
           0.42378697,
           1.2242534,
           0.2029792,
           0.17833424,
           1.3523816,
           0.31486246,
           0.84538805,
           0.66598725,
           -0.07552003
          ]
         },
         {
          "formattedValue": "280,575.6942",
          "ordinal": 237,
          "properties": {
           "BACK_COLOR": null,
           "FONT_FLAGS": 0,
           "FORE_COLOR": null
          },
          "value": 280575.6942027455
         },
         {
          "formattedValue": ".0121",
          "ordinal": 238,
          "properties": {
           "BACK_COLOR": null,
           "FONT_FLAGS": 0,
           "FORE_COLOR": null
          },
          "value": 0.012130079841012463
         },
         {
          "formattedValue": "236.3582",
          "ordinal": 239,
          "properties": {
           "BACK_COLOR": null,
           "FONT_FLAGS": 0,
           "FORE_COLOR": null
          },
          "value": 236.3582473936805
         },
         {
          "formattedValue": "40.0818",
          "ordinal": 240,
          "properties": {
           "BACK_COLOR": null,
           "FONT_FLAGS": 0,
           "FORE_COLOR": null
          },
          "value": 40.08183908344167
         },
         {
          "formattedValue": "3.7459",
          "ordinal": 241,
          "properties": {
           "BACK_COLOR": null,
           "FONT_FLAGS": 0,
           "FORE_COLOR": null
          },
          "value": 3.7459035742346916
         },
         {
          "formattedValue": "floatVector[51]{1.0, ...}",
          "ordinal": 242,
          "properties": {
           "BACK_COLOR": null,
           "FONT_FLAGS": 0,
           "FORE_COLOR": null
          },
          "value": [
           1,
           0.4332237,
           0.35240647,
           0.26976693,
           0.26935428,
           0.23593774,
           0.24129008,
           0.21872562,
           0.22673905,
           0.19833359,
           0.17447162,
           0.16791993,
           0.15633336,
           0.13702373,
           0.14012663,
           0.15331423,
           0.1463726,
           0.12703669,
           0.13814646,
           0.12581496,
           0.11866908,
           0.124577895,
           0.115337625,
           0.075652316,
           0.09741288,
           0.07906371,
           0.11462288,
           0.069245815,
           0.09838137,
           0.053983957,
           0.097240135,
           0.070537336,
           0.061736654,
           0.065191016,
           0.07333577,
           0.041439217,
           0.044793632,
           0.042132363,
           0.05440192,
           0.048976026,
           -0.004791938,
           0.0009749463,
           -0.007628696,
           -0.0123997135,
           -0.016370036,
           -0.01675274,
           -0.01255428,
           -0.018731877,
           -0.00071227876,
           0.003546601,
           -0.024121827
          ]
         },
         {
          "formattedValue": "floatVector[51]{1.0, ...}",
          "ordinal": 243,
          "properties": {
           "BACK_COLOR": null,
           "FONT_FLAGS": 0,
           "FORE_COLOR": null
          },
          "value": [
           1,
           0.4360766,
           0.09609132,
           0.019790685,
           0.046904158,
           0.16150735,
           0.32476494,
           0.060898237,
           0.552724,
           -0.060231224,
           -0.35960567,
           -0.07704507,
           0.042265847,
           -0.031790026,
           0.023435757,
           0.052420408,
           0.089597255,
           0.033382393,
           0.012583702,
           -0.0432648,
           -0.059455648,
           0.07633734,
           -0.020903528,
           -0.028514659,
           0.16189271,
           0.023448665,
           0.11510074,
           -0.07690224,
           0.08959051,
           -0.036488026,
           0.058644738,
           0.03172467,
           0.012713596,
           0.072138116,
           0.0026059644,
           -0.026054217,
           -0.042116106,
           -0.0145194335,
           0.034222644,
           0.046597913,
           0.08187947,
           -0.12469917,
           0.05667319,
           -0.05709934,
           -0.006487231,
           -0.013008818,
           -0.02926956,
           0.038237594,
           0.15241389,
           0.020489126,
           -0.02560049
          ]
         },
         {
          "formattedValue": "65,296.0243",
          "ordinal": 244,
          "properties": {
           "BACK_COLOR": null,
           "FONT_FLAGS": 0,
           "FORE_COLOR": null
          },
          "value": 65296.02428316698
         },
         {
          "formattedValue": ".0000",
          "ordinal": 245,
          "properties": {
           "BACK_COLOR": null,
           "FONT_FLAGS": 0,
           "FORE_COLOR": null
          },
          "value": 4.7680959789317934e-15
         },
         {
          "formattedValue": "258.5762",
          "ordinal": 246,
          "properties": {
           "BACK_COLOR": null,
           "FONT_FLAGS": 0,
           "FORE_COLOR": null
          },
          "value": 258.5761609810533
         },
         {
          "formattedValue": "36.8303",
          "ordinal": 247,
          "properties": {
           "BACK_COLOR": null,
           "FONT_FLAGS": 0,
           "FORE_COLOR": null
          },
          "value": 36.83034770970574
         },
         {
          "formattedValue": "4.3789",
          "ordinal": 248,
          "properties": {
           "BACK_COLOR": null,
           "FONT_FLAGS": 0,
           "FORE_COLOR": null
          },
          "value": 4.378932826364869
         },
         {
          "formattedValue": "floatVector[51]{1.0, ...}",
          "ordinal": 249,
          "properties": {
           "BACK_COLOR": null,
           "FONT_FLAGS": 0,
           "FORE_COLOR": null
          },
          "value": [
           1,
           0.4953786,
           0.35177523,
           0.38691863,
           0.38273168,
           0.30302864,
           0.2612351,
           0.24835569,
           0.19245729,
           0.14257236,
           0.16921186,
           0.13946484,
           0.10409009,
           0.07330629,
           0.09303185,
           0.09104507,
           0.07851763,
           0.094254464,
           0.061898634,
           0.056404836,
           0.055532075,
           0.0495504,
           0.059816606,
           0.039084744,
           0.060641058,
           0.024933599,
           0.033951428,
           0.024182845,
           0.032460466,
           0.024310863,
           0.016831378,
           0.024029134,
           0.02441166,
           0.014826404,
           0.0380701,
           0.021784915,
           0.003483303,
           0.017048808,
           0.0068870685,
           0.015099602,
           -0.00022398899,
           0.005904964,
           0.0043988414,
           -0.0034487636,
           -0.012796678,
           -0.008560189,
           -0.0025203896,
           -0.011639209,
           -0.010628862,
           0.0018670656,
           -0.010802604
          ]
         },
         {
          "formattedValue": "floatVector[51]{1.0, ...}",
          "ordinal": 250,
          "properties": {
           "BACK_COLOR": null,
           "FONT_FLAGS": 0,
           "FORE_COLOR": null
          },
          "value": [
           1,
           0.49646163,
           0.038382433,
           0.29721528,
           0.12463131,
           0.061949354,
           -0.108560145,
           0.2891412,
           -1.1700968,
           -1.7258838,
           1.1396179,
           -1.2099884,
           -4.8700857,
           1.4374737,
           2.339354,
           0.45027575,
           0.04030179,
           -0.71169555,
           0.48628375,
           0.27737492,
           2.4216948,
           -1.6194614,
           0.5384512,
           0.249989,
           1.3667039,
           1.2789615,
           2.3308342,
           -1.7362344,
           -1.1614205,
           -0.5467291,
           0.09725498,
           -0.17182778,
           0.36828685,
           -0.020666199,
           -0.09212275,
           0.87739146,
           -0.35389268,
           -0.4638192,
           -0.46082294,
           0.5436272,
           -0.5304199,
           0.5699496,
           -0.5834749,
           0.7073476,
           0.12470755,
           0.3531856,
           -0.37926334,
           0.0631185,
           -0.50471705,
           1.6482079,
           -0.077711366
          ]
         },
         {
          "formattedValue": "875,098.8794",
          "ordinal": 251,
          "properties": {
           "BACK_COLOR": null,
           "FONT_FLAGS": 0,
           "FORE_COLOR": null
          },
          "value": 875098.8794210944
         }
        ],
        "cube": "Cryptocurrency cube",
        "defaultMembers": [
         {
          "captionPath": [
           "Count"
          ],
          "dimension": "Measures",
          "hierarchy": "Measures",
          "path": [
           "contributors.COUNT"
          ]
         },
         {
          "captionPath": [
           "BTC"
          ],
          "dimension": "Cryptocurrency",
          "hierarchy": "Coin Symbol",
          "path": [
           "BTC"
          ]
         },
         {
          "captionPath": [
           "Base"
          ],
          "dimension": "Epoch",
          "hierarchy": "Epoch",
          "path": [
           "Base"
          ]
         }
        ],
        "epoch": 4
       },
       "cube": "Cryptocurrency cube",
       "error": null,
       "name": "Bit coin metrics statistics",
       "session": "Unnamed"
      },
      "text/html": [
       "<img src=\"data:image/svg+xml;charset=utf8,%3C?xml%20version=%221.0%22%20standalone=%22no%22?%3E%0A%20%20%20%20%3Csvg%20xmlns=%22http://www.w3.org/2000/svg%22%20width=%22951%22%20height=%22424%22%3E%0A%20%20%20%20%20%20%3CforeignObject%20x=%220%22%20y=%220%22%20width=%22100%25%22%20height=%22100%25%22%3E%0A%20%20%20%20%20%20%20%20%3Cstyle%20type=%22text/css%22%3E.css-xsa55j-dock%20%7Bposition:%20relative;%20z-index:%200;%20height:%20100%25;%20background-color:%20rgb(255,%20255,%20255);%20display:%20flex;%20flex-direction:%20column%7D%0A.css-1ibuxvk-DockBody%20%7Bpadding-top:%200px;%20padding-left:%200px;%20padding-right:%200px;%20padding-bottom:%200px;%20flex-grow:%201;%20flex-shrink:%201;%20flex-basis:%200%25;%20box-sizing:%20border-box;%20position:%20relative;%20z-index:%200;%20overflow-x:%20hidden;%20overflow-y:%20hidden%7D%0A.css-14zuz97%20%7Bbackground-image:%20initial;%20background-position-x:%20initial;%20background-position-y:%20initial;%20background-size:%20initial;%20background-repeat-x:%20initial;%20background-repeat-y:%20initial;%20background-attachment:%20initial;%20background-origin:%20initial;%20background-color:%20rgba(0,%200,%200,%200.2);%20z-index:%201;%20box-sizing:%20border-box;%20background-clip:%20padding-box%7D%0A.css-14zuz97.vertical%20%7Bwidth:%2012px;%20margin-top:%200px;%20margin-right:%20-6px;%20margin-bottom:%200px;%20margin-left:%20-6px;%20border-left-width:%205.5px;%20border-left-style:%20solid;%20border-left-color:%20transparent;%20border-right-width:%205.5px;%20border-right-style:%20solid;%20border-right-color:%20transparent;%20cursor:%20col-resize%7D%0A.css-14zuz97.disabled%20%7Bdisplay:%20none%7D%0A.css-1lrljg1-EditorSplitPane%20%7Bbackground-color:%20rgb(255,%20255,%20255);%20flex-grow:%201;%20flex-shrink:%201;%20flex-basis:%200%25;%20margin-right:%200px;%20position:%20relative%7D%0A.css-15fz3t7-EditorSplitPane%20%7Bposition:%20absolute;%20top:%200px;%20bottom:%200px;%20left:%200px;%20right:%200px;%20display:%20flex;%20flex-direction:%20column%7D%0A.css-1k1fxuh-Tabular%20%7Bwidth:%20100%25;%20height:%20100%25;%20position:%20relative%7D%0A.css-10klw3m%20%7Bheight:%20100%25%7D%0A.css-mdjjdg-TabularHeader%20%7Bdisplay:%20flex%7D%0A.css-12nzxaz-PinnedTabularHeaders%20%7Bflex-shrink:%200;%20display:%20flex%7D%0A.css-s4fjko-TabularPinnSeparator%20%7Bwidth:%202px;%20height:%2028px;%20background-color:%20rgb(233,%20233,%20233)%7D%0A.css-5jtkjp-UnpinnedTabularHeaders%20%7Bdisplay:%20flex;%20position:%20absolute;%20left:%200px%7D%0A.css-19w2ip5-TabularHeaderCell%20%7Bcursor:%20default;%20-webkit-box-flex:%201;%20flex-grow:%201;%20flex-shrink:%201;%20box-sizing:%20border-box;%20padding-left:%204px;%20padding-right:%204px;%20padding-top:%204px;%20padding-bottom:%204px;%20height:%20100%25;%20overflow-x:%20hidden;%20overflow-y:%20hidden;%20display:%20flex;%20white-space:%20nowrap;%20-webkit-box-pack:%20start;%20justify-content:%20flex-start;%20align-items:%20flex-start%7D%0A.css-jpazdc-TabularHeaderCell%20%7Boverflow-x:%20hidden;%20overflow-y:%20hidden;%20text-overflow:%20ellipsis%7D%0A.css-y3oqqp%20%7Bfont-size:%2012px;%20line-height:%2022px;%20font-weight:%20600;%20color:%20rgba(0,%200,%200,%200.85)%7D%0A.css-c7y3a7-TabularHeaderCell%20%7Bflex-shrink:%200;%20height:%20100%25;%20display:%20flex;%20-webkit-box-pack:%20center;%20justify-content:%20center%7D%0A.css-1id6sm3-UnpinnedTabularRows%20%7Bposition:%20absolute;%20top:%200px;%20left:%200px%7D%0A.css-3cge9w%20%7Bcursor:%20cell;%20display:%20flex;%20height:%2028px;%20user-select:%20none%7D%0A.css-9ssj44-TreeCell%20%7Bwidth:%20min-content%7D%0A.css-mkrhzq%20%7Bdisplay:%20flex;%20margin-left:%200px%7D%0A.css-1i6gc04%20%7Bcursor:%20pointer;%20margin-top:%202px;%20height:%20inherit;%20display:%20flex;%20-webkit-box-align:%20center;%20align-items:%20center;%20font-size:%2010px;%20width:%2016px%7D%0A.css-8uhtka%20%7Boverflow-x:%20hidden;%20overflow-y:%20hidden;%20text-overflow:%20ellipsis;%20white-space:%20nowrap%7D%0A.css-1ouk3zc-EditorSplitPane%20%7Bbackground-color:%20rgb(255,%20255,%20255);%20flex-grow:%201;%20flex-shrink:%201;%20flex-basis:%200%25%7D%0A.css-1jjvrwi-EditorSplitPane%20%7Bposition:%20absolute;%20top:%200px;%20bottom:%200px;%20left:%200px;%20right:%200px;%20overflow-y:%20auto%7D%0A.css-11p83bh-TabularHeaderGroup%20%7Bposition:%20relative;%20width:%20191px%7D%0A.css-1vjgz6m%20%7Bcolor:%20rgba(0,%200,%200,%200.85);%20display:%20flex;%20box-sizing:%20border-box;%20-webkit-box-align:%20center;%20align-items:%20center;%20height:%2028px;%20position:%20absolute;%20top:%200px;%20left:%200px;%20user-select:%20none;%20font-size:%2012px;%20line-height:%2022px;%20font-weight:%20600;%20border-bottom-width:%202px;%20border-bottom-style:%20solid;%20border-bottom-color:%20rgb(233,%20233,%20233);%20width:%20191px;%20border-right-width:%201px;%20border-right-style:%20solid;%20border-right-color:%20rgb(233,%20233,%20233)%7D%0A.css-mgro6d-HeaderResizer%20%7Bposition:%20absolute;%20z-index:%201;%20width:%2010px;%20height:%2028px;%20left:%20186px;%20top:%200px;%20cursor:%20col-resize%7D%0A.css-1gtyqkm-HeaderResizer%20%7Bposition:%20absolute;%20z-index:%201;%20height:%2010px;%20width:%20191px;%20left:%200px;%20top:%2023px;%20cursor:%20row-resize%7D%0A.css-6id6do%20%7Bheight:%20100%25;%20box-sizing:%20border-box;%20display:%20flex;%20-webkit-box-pack:%20end;%20justify-content:%20flex-end;%20flex-direction:%20column;%20padding-top:%204px;%20padding-left:%204px;%20padding-right:%204px;%20padding-bottom:%203px;%20overflow-x:%20hidden;%20overflow-y:%20hidden;%20white-space:%20nowrap;%20border-right-width:%201px;%20border-right-style:%20solid;%20border-right-color:%20rgb(233,%20233,%20233);%20border-bottom-width:%20initial;%20border-bottom-style:%20none;%20border-bottom-color:%20initial;%20width:%20191px;%20align-items:%20flex-start%7D%0A.css-iqyuzw%20%7Bdisplay:%20flex;%20margin-left:%2016px%7D%0A.css-1q63qjm%20%7Bcolor:%20rgba(0,%200,%200,%200.85);%20display:%20flex;%20box-sizing:%20border-box;%20-webkit-box-align:%20center;%20align-items:%20center;%20height:%2028px;%20position:%20absolute;%20top:%200px;%20left:%200px;%20user-select:%20none;%20font-size:%2012px;%20line-height:%2022px;%20font-weight:%20600;%20border-bottom-width:%202px;%20border-bottom-style:%20solid;%20border-bottom-color:%20rgb(233,%20233,%20233);%20width:%20120px%7D%0A.css-pm742e%20%7Bcursor:%20pointer;%20margin-top:%202px;%20height:%20inherit;%20display:%20flex;%20-webkit-box-align:%20center;%20align-items:%20center;%20font-size:%2010px;%20-webkit-box-pack:%20center;%20justify-content:%20center;%20padding-left:%204px%7D%0A.css-w64vkb-HeaderResizer%20%7Bposition:%20absolute;%20z-index:%201;%20width:%2010px;%20height:%2028px;%20left:%20115px;%20top:%200px;%20cursor:%20col-resize%7D%0A.css-tlxtaa-HeaderResizer%20%7Bposition:%20absolute;%20z-index:%201;%20height:%2010px;%20width:%20120px;%20left:%200px;%20top:%2023px;%20cursor:%20row-resize%7D%0A.css-1h52zvk-HeaderResizer%20%7Bposition:%20absolute;%20z-index:%201;%20width:%2010px;%20height:%2028px;%20left:%20715px;%20top:%200px;%20cursor:%20col-resize%7D%0A.css-8yux8h-HeaderResizer%20%7Bposition:%20absolute;%20z-index:%201;%20width:%2010px;%20height:%2028px;%20left:%20835px;%20top:%200px;%20cursor:%20col-resize%7D%0A.css-d7noc3-HeaderResizer%20%7Bposition:%20absolute;%20z-index:%201;%20height:%2010px;%20width:%20120px;%20left:%20720px;%20top:%2023px;%20cursor:%20row-resize%7D%0A.css-8r2ljj-PinnedTabularRows%20%7Bposition:%20absolute;%20right:%200px%7D%0A.css-1hcmypl-TabularCell%20%7Bheight:%2028px;%20box-sizing:%20border-box;%20display:%20flex;%20-webkit-box-pack:%20end;%20justify-content:%20flex-end;%20flex-direction:%20column;%20padding-top:%204px;%20padding-left:%204px;%20padding-right:%204px;%20padding-bottom:%203px;%20overflow-x:%20hidden;%20overflow-y:%20hidden;%20white-space:%20nowrap;%20border-right-width:%201px;%20border-right-style:%20solid;%20border-right-color:%20rgb(233,%20233,%20233);%20border-bottom-width:%20initial;%20border-bottom-style:%20none;%20border-bottom-color:%20initial;%20width:%20120px;%20background-color:%20rgb(250,%20250,%20250);%20cursor:%20cell;%20user-select:%20none;%20text-align:%20right;%20align-items:%20flex-end%7D%0A.css-mkoicc-CaptionCellRenderer%20%7Bwidth:%20100%25;%20overflow-x:%20hidden;%20overflow-y:%20hidden;%20text-overflow:%20ellipsis;%20white-space:%20nowrap%7D%0A.css-qazlap-TabularCell%20%7Bheight:%2028px;%20box-sizing:%20border-box;%20display:%20flex;%20-webkit-box-pack:%20end;%20justify-content:%20flex-end;%20flex-direction:%20column;%20padding-top:%204px;%20padding-left:%204px;%20padding-right:%204px;%20padding-bottom:%203px;%20overflow-x:%20hidden;%20overflow-y:%20hidden;%20white-space:%20nowrap;%20border-right-width:%201px;%20border-right-style:%20solid;%20border-right-color:%20rgb(233,%20233,%20233);%20border-bottom-width:%20initial;%20border-bottom-style:%20none;%20border-bottom-color:%20initial;%20width:%20120px;%20cursor:%20cell;%20user-select:%20none;%20text-align:%20right;%20align-items:%20flex-end%7D%0A.css-t881dv-SelectionStatistics%20%7Bheight:%2020px;%20display:%20flex;%20padding-top:%205px;%20opacity:%200;%20transition-duration:%20300ms;%20transition-timing-function:%20ease;%20transition-delay:%200s;%20transition-property:%20opacity;%20position:%20absolute;%20right:%200px;%20left:%20unset%7D%0A.css-15ph82w-TabularHeaderGroup%20%7Bposition:%20relative;%20width:%20840px%7D%0A.css-9cbe5d%20%7Bcolor:%20rgba(0,%200,%200,%200.85);%20display:%20flex;%20box-sizing:%20border-box;%20-webkit-box-align:%20center;%20align-items:%20center;%20height:%2028px;%20position:%20absolute;%20top:%200px;%20left:%20120px;%20user-select:%20none;%20font-size:%2012px;%20line-height:%2022px;%20font-weight:%20600;%20border-bottom-width:%202px;%20border-bottom-style:%20solid;%20border-bottom-color:%20rgb(233,%20233,%20233);%20width:%2093px%7D%0A.css-a5ym62-HeaderResizer%20%7Bposition:%20absolute;%20z-index:%201;%20width:%2010px;%20height:%2028px;%20left:%20208px;%20top:%200px;%20cursor:%20col-resize%7D%0A.css-bofzn5-HeaderResizer%20%7Bposition:%20absolute;%20z-index:%201;%20height:%2010px;%20width:%2093px;%20left:%20120px;%20top:%2023px;%20cursor:%20row-resize%7D%0A.css-62khat%20%7Bcolor:%20rgba(0,%200,%200,%200.85);%20display:%20flex;%20box-sizing:%20border-box;%20-webkit-box-align:%20center;%20align-items:%20center;%20height:%2028px;%20position:%20absolute;%20top:%200px;%20left:%20213px;%20user-select:%20none;%20font-size:%2012px;%20line-height:%2022px;%20font-weight:%20600;%20border-bottom-width:%202px;%20border-bottom-style:%20solid;%20border-bottom-color:%20rgb(233,%20233,%20233);%20width:%2080px%7D%0A.css-z4tmu3-HeaderResizer%20%7Bposition:%20absolute;%20z-index:%201;%20width:%2010px;%20height:%2028px;%20left:%20288px;%20top:%200px;%20cursor:%20col-resize%7D%0A.css-yuv66f-HeaderResizer%20%7Bposition:%20absolute;%20z-index:%201;%20height:%2010px;%20width:%2080px;%20left:%20213px;%20top:%2023px;%20cursor:%20row-resize%7D%0A.css-juptbb%20%7Bcolor:%20rgba(0,%200,%200,%200.85);%20display:%20flex;%20box-sizing:%20border-box;%20-webkit-box-align:%20center;%20align-items:%20center;%20height:%2028px;%20position:%20absolute;%20top:%200px;%20left:%20293px;%20user-select:%20none;%20font-size:%2012px;%20line-height:%2022px;%20font-weight:%20600;%20border-bottom-width:%202px;%20border-bottom-style:%20solid;%20border-bottom-color:%20rgb(233,%20233,%20233);%20width:%2080px%7D%0A.css-7yvta-HeaderResizer%20%7Bposition:%20absolute;%20z-index:%201;%20width:%2010px;%20height:%2028px;%20left:%20368px;%20top:%200px;%20cursor:%20col-resize%7D%0A.css-l6ymtj-HeaderResizer%20%7Bposition:%20absolute;%20z-index:%201;%20height:%2010px;%20width:%2080px;%20left:%20293px;%20top:%2023px;%20cursor:%20row-resize%7D%0A.css-g9r9a5%20%7Bcolor:%20rgba(0,%200,%200,%200.85);%20display:%20flex;%20box-sizing:%20border-box;%20-webkit-box-align:%20center;%20align-items:%20center;%20height:%2028px;%20position:%20absolute;%20top:%200px;%20left:%20373px;%20user-select:%20none;%20font-size:%2012px;%20line-height:%2022px;%20font-weight:%20600;%20border-bottom-width:%202px;%20border-bottom-style:%20solid;%20border-bottom-color:%20rgb(233,%20233,%20233);%20width:%20224px%7D%0A.css-12d307i-HeaderResizer%20%7Bposition:%20absolute;%20z-index:%201;%20width:%2010px;%20height:%2028px;%20left:%20592px;%20top:%200px;%20cursor:%20col-resize%7D%0A.css-pnuji7-HeaderResizer%20%7Bposition:%20absolute;%20z-index:%201;%20height:%2010px;%20width:%20224px;%20left:%20373px;%20top:%2023px;%20cursor:%20row-resize%7D%0A.css-9nx8c8%20%7Bcolor:%20rgba(0,%200,%200,%200.85);%20display:%20flex;%20box-sizing:%20border-box;%20-webkit-box-align:%20center;%20align-items:%20center;%20height:%2028px;%20position:%20absolute;%20top:%200px;%20left:%20597px;%20user-select:%20none;%20font-size:%2012px;%20line-height:%2022px;%20font-weight:%20600;%20border-bottom-width:%202px;%20border-bottom-style:%20solid;%20border-bottom-color:%20rgb(233,%20233,%20233);%20width:%20123px%7D%0A.css-n6x8bv-HeaderResizer%20%7Bposition:%20absolute;%20z-index:%201;%20height:%2010px;%20width:%20123px;%20left:%20597px;%20top:%2023px;%20cursor:%20row-resize%7D%0A.css-vgclx9%20%7Bcolor:%20rgba(0,%200,%200,%200.85);%20display:%20flex;%20box-sizing:%20border-box;%20-webkit-box-align:%20center;%20align-items:%20center;%20height:%2028px;%20position:%20absolute;%20top:%200px;%20left:%20720px;%20user-select:%20none;%20font-size:%2012px;%20line-height:%2022px;%20font-weight:%20600;%20border-bottom-width:%202px;%20border-bottom-style:%20solid;%20border-bottom-color:%20rgb(233,%20233,%20233);%20width:%20120px;%20border-right-width:%201px;%20border-right-style:%20solid;%20border-right-color:%20rgb(233,%20233,%20233)%7D%0A.css-ekpndq-PinnedTabularRows%20%7Bposition:%20absolute;%20height:%20376px;%20width:%20193px;%20overflow-x:%20hidden;%20overflow-y:%20hidden%7D%0A.css-13xltcv-PinnedTabularRows%20%7Bposition:%20absolute;%20overflow-x:%20hidden;%20overflow-y:%20hidden;%20top:%200px;%20width:%20191px%7D%0A.css-taw3ol%20%7Bheight:%20100%25;%20box-sizing:%20border-box;%20display:%20flex;%20-webkit-box-pack:%20end;%20justify-content:%20flex-end;%20flex-direction:%20column;%20padding-top:%204px;%20padding-left:%204px;%20padding-right:%204px;%20padding-bottom:%203px;%20overflow-x:%20hidden;%20overflow-y:%20hidden;%20white-space:%20nowrap;%20border-right-width:%201px;%20border-right-style:%20solid;%20border-right-color:%20rgb(233,%20233,%20233);%20border-bottom-width:%20initial;%20border-bottom-style:%20none;%20border-bottom-color:%20initial;%20width:%20191px;%20align-items:%20flex-start;%20background-color:%20rgb(250,%20250,%20250)%7D%0A.css-15zcyj0%20%7Bheight:%20100%25;%20box-sizing:%20border-box;%20display:%20flex;%20-webkit-box-pack:%20end;%20justify-content:%20flex-end;%20flex-direction:%20column;%20padding-top:%204px;%20padding-left:%204px;%20padding-right:%204px;%20padding-bottom:%203px;%20overflow-x:%20hidden;%20overflow-y:%20hidden;%20white-space:%20nowrap;%20border-right-width:%201px;%20border-right-style:%20solid;%20border-right-color:%20rgb(233,%20233,%20233);%20border-bottom-width:%20initial;%20border-bottom-style:%20none;%20border-bottom-color:%20initial;%20width:%20191px;%20align-items:%20flex-start;%20border-top-width:%201px;%20border-top-style:%20solid;%20border-top-color:%20rgb(233,%20233,%20233)%7D%0A.css-yhfw9x-TabularCell%20%7Bheight:%2028px;%20box-sizing:%20border-box;%20display:%20flex;%20-webkit-box-pack:%20end;%20justify-content:%20flex-end;%20flex-direction:%20column;%20padding-top:%204px;%20padding-left:%204px;%20padding-right:%204px;%20padding-bottom:%203px;%20overflow-x:%20hidden;%20overflow-y:%20hidden;%20white-space:%20nowrap;%20border-right-width:%201px;%20border-right-style:%20solid;%20border-right-color:%20rgb(233,%20233,%20233);%20border-bottom-width:%20initial;%20border-bottom-style:%20none;%20border-bottom-color:%20initial;%20width:%2093px;%20cursor:%20cell;%20user-select:%20none;%20text-align:%20right;%20align-items:%20flex-end%7D%0A.css-1w8i2ef-TabularCell%20%7Bheight:%2028px;%20box-sizing:%20border-box;%20display:%20flex;%20-webkit-box-pack:%20end;%20justify-content:%20flex-end;%20flex-direction:%20column;%20padding-top:%204px;%20padding-left:%204px;%20padding-right:%204px;%20padding-bottom:%203px;%20overflow-x:%20hidden;%20overflow-y:%20hidden;%20white-space:%20nowrap;%20border-right-width:%201px;%20border-right-style:%20solid;%20border-right-color:%20rgb(233,%20233,%20233);%20border-bottom-width:%20initial;%20border-bottom-style:%20none;%20border-bottom-color:%20initial;%20width:%2080px;%20cursor:%20cell;%20user-select:%20none;%20text-align:%20right;%20align-items:%20flex-end%7D%0A.css-s6k5el-TabularCell%20%7Bheight:%2028px;%20box-sizing:%20border-box;%20display:%20flex;%20-webkit-box-pack:%20end;%20justify-content:%20flex-end;%20flex-direction:%20column;%20padding-top:%204px;%20padding-left:%204px;%20padding-right:%204px;%20padding-bottom:%203px;%20overflow-x:%20hidden;%20overflow-y:%20hidden;%20white-space:%20nowrap;%20border-right-width:%201px;%20border-right-style:%20solid;%20border-right-color:%20rgb(233,%20233,%20233);%20border-bottom-width:%20initial;%20border-bottom-style:%20none;%20border-bottom-color:%20initial;%20width:%20224px;%20cursor:%20cell;%20user-select:%20none;%20text-align:%20right;%20align-items:%20flex-end%7D%0A.css-1ujztlf-TabularCell%20%7Bheight:%2028px;%20box-sizing:%20border-box;%20display:%20flex;%20-webkit-box-pack:%20end;%20justify-content:%20flex-end;%20flex-direction:%20column;%20padding-top:%204px;%20padding-left:%204px;%20padding-right:%204px;%20padding-bottom:%203px;%20overflow-x:%20hidden;%20overflow-y:%20hidden;%20white-space:%20nowrap;%20border-right-width:%201px;%20border-right-style:%20solid;%20border-right-color:%20rgb(233,%20233,%20233);%20border-bottom-width:%20initial;%20border-bottom-style:%20none;%20border-bottom-color:%20initial;%20width:%20123px;%20cursor:%20cell;%20user-select:%20none;%20text-align:%20right;%20align-items:%20flex-end%7D%0A.css-rhnn72-TabularCell%20%7Bheight:%2028px;%20box-sizing:%20border-box;%20display:%20flex;%20-webkit-box-pack:%20end;%20justify-content:%20flex-end;%20flex-direction:%20column;%20padding-top:%204px;%20padding-left:%204px;%20padding-right:%204px;%20padding-bottom:%203px;%20overflow-x:%20hidden;%20overflow-y:%20hidden;%20white-space:%20nowrap;%20border-right-width:%201px;%20border-right-style:%20solid;%20border-right-color:%20rgb(233,%20233,%20233);%20border-bottom-width:%20initial;%20border-bottom-style:%20none;%20border-bottom-color:%20initial;%20width:%2093px;%20background-color:%20rgb(250,%20250,%20250);%20cursor:%20cell;%20user-select:%20none;%20text-align:%20right;%20align-items:%20flex-end%7D%0A.css-19150if-TabularCell%20%7Bheight:%2028px;%20box-sizing:%20border-box;%20display:%20flex;%20-webkit-box-pack:%20end;%20justify-content:%20flex-end;%20flex-direction:%20column;%20padding-top:%204px;%20padding-left:%204px;%20padding-right:%204px;%20padding-bottom:%203px;%20overflow-x:%20hidden;%20overflow-y:%20hidden;%20white-space:%20nowrap;%20border-right-width:%201px;%20border-right-style:%20solid;%20border-right-color:%20rgb(233,%20233,%20233);%20border-bottom-width:%20initial;%20border-bottom-style:%20none;%20border-bottom-color:%20initial;%20width:%2080px;%20background-color:%20rgb(250,%20250,%20250);%20cursor:%20cell;%20user-select:%20none;%20text-align:%20right;%20align-items:%20flex-end%7D%0A.css-1y5dhn3-TabularCell%20%7Bheight:%2028px;%20box-sizing:%20border-box;%20display:%20flex;%20-webkit-box-pack:%20end;%20justify-content:%20flex-end;%20flex-direction:%20column;%20padding-top:%204px;%20padding-left:%204px;%20padding-right:%204px;%20padding-bottom:%203px;%20overflow-x:%20hidden;%20overflow-y:%20hidden;%20white-space:%20nowrap;%20border-right-width:%201px;%20border-right-style:%20solid;%20border-right-color:%20rgb(233,%20233,%20233);%20border-bottom-width:%20initial;%20border-bottom-style:%20none;%20border-bottom-color:%20initial;%20width:%20224px;%20background-color:%20rgb(250,%20250,%20250);%20cursor:%20cell;%20user-select:%20none;%20text-align:%20right;%20align-items:%20flex-end%7D%0A.css-187rvyj-TabularCell%20%7Bheight:%2028px;%20box-sizing:%20border-box;%20display:%20flex;%20-webkit-box-pack:%20end;%20justify-content:%20flex-end;%20flex-direction:%20column;%20padding-top:%204px;%20padding-left:%204px;%20padding-right:%204px;%20padding-bottom:%203px;%20overflow-x:%20hidden;%20overflow-y:%20hidden;%20white-space:%20nowrap;%20border-right-width:%201px;%20border-right-style:%20solid;%20border-right-color:%20rgb(233,%20233,%20233);%20border-bottom-width:%20initial;%20border-bottom-style:%20none;%20border-bottom-color:%20initial;%20width:%20123px;%20background-color:%20rgb(250,%20250,%20250);%20cursor:%20cell;%20user-select:%20none;%20text-align:%20right;%20align-items:%20flex-end%7D%0A.css-qc9d98-TabularCell%20%7Bheight:%2028px;%20box-sizing:%20border-box;%20display:%20flex;%20-webkit-box-pack:%20end;%20justify-content:%20flex-end;%20flex-direction:%20column;%20padding-top:%204px;%20padding-left:%204px;%20padding-right:%204px;%20padding-bottom:%203px;%20overflow-x:%20hidden;%20overflow-y:%20hidden;%20white-space:%20nowrap;%20border-right-width:%201px;%20border-right-style:%20solid;%20border-right-color:%20rgb(233,%20233,%20233);%20border-bottom-width:%20initial;%20border-bottom-style:%20none;%20border-bottom-color:%20initial;%20width:%20120px;%20border-top-width:%201px;%20border-top-style:%20solid;%20border-top-color:%20rgb(233,%20233,%20233);%20cursor:%20cell;%20user-select:%20none;%20text-align:%20right;%20align-items:%20flex-end%7D%0A.css-cq8ka-TabularCell%20%7Bheight:%2028px;%20box-sizing:%20border-box;%20display:%20flex;%20-webkit-box-pack:%20end;%20justify-content:%20flex-end;%20flex-direction:%20column;%20padding-top:%204px;%20padding-left:%204px;%20padding-right:%204px;%20padding-bottom:%203px;%20overflow-x:%20hidden;%20overflow-y:%20hidden;%20white-space:%20nowrap;%20border-right-width:%201px;%20border-right-style:%20solid;%20border-right-color:%20rgb(233,%20233,%20233);%20border-bottom-width:%20initial;%20border-bottom-style:%20none;%20border-bottom-color:%20initial;%20width:%2093px;%20border-top-width:%201px;%20border-top-style:%20solid;%20border-top-color:%20rgb(233,%20233,%20233);%20cursor:%20cell;%20user-select:%20none;%20text-align:%20right;%20align-items:%20flex-end%7D%0A.css-a4scq1-TabularCell%20%7Bheight:%2028px;%20box-sizing:%20border-box;%20display:%20flex;%20-webkit-box-pack:%20end;%20justify-content:%20flex-end;%20flex-direction:%20column;%20padding-top:%204px;%20padding-left:%204px;%20padding-right:%204px;%20padding-bottom:%203px;%20overflow-x:%20hidden;%20overflow-y:%20hidden;%20white-space:%20nowrap;%20border-right-width:%201px;%20border-right-style:%20solid;%20border-right-color:%20rgb(233,%20233,%20233);%20border-bottom-width:%20initial;%20border-bottom-style:%20none;%20border-bottom-color:%20initial;%20width:%2080px;%20border-top-width:%201px;%20border-top-style:%20solid;%20border-top-color:%20rgb(233,%20233,%20233);%20cursor:%20cell;%20user-select:%20none;%20text-align:%20right;%20align-items:%20flex-end%7D%0A.css-iib5le-TabularCell%20%7Bheight:%2028px;%20box-sizing:%20border-box;%20display:%20flex;%20-webkit-box-pack:%20end;%20justify-content:%20flex-end;%20flex-direction:%20column;%20padding-top:%204px;%20padding-left:%204px;%20padding-right:%204px;%20padding-bottom:%203px;%20overflow-x:%20hidden;%20overflow-y:%20hidden;%20white-space:%20nowrap;%20border-right-width:%201px;%20border-right-style:%20solid;%20border-right-color:%20rgb(233,%20233,%20233);%20border-bottom-width:%20initial;%20border-bottom-style:%20none;%20border-bottom-color:%20initial;%20width:%20224px;%20border-top-width:%201px;%20border-top-style:%20solid;%20border-top-color:%20rgb(233,%20233,%20233);%20cursor:%20cell;%20user-select:%20none;%20text-align:%20right;%20align-items:%20flex-end%7D%0A.css-dedgb9-TabularCell%20%7Bheight:%2028px;%20box-sizing:%20border-box;%20display:%20flex;%20-webkit-box-pack:%20end;%20justify-content:%20flex-end;%20flex-direction:%20column;%20padding-top:%204px;%20padding-left:%204px;%20padding-right:%204px;%20padding-bottom:%203px;%20overflow-x:%20hidden;%20overflow-y:%20hidden;%20white-space:%20nowrap;%20border-right-width:%201px;%20border-right-style:%20solid;%20border-right-color:%20rgb(233,%20233,%20233);%20border-bottom-width:%20initial;%20border-bottom-style:%20none;%20border-bottom-color:%20initial;%20width:%20123px;%20border-top-width:%201px;%20border-top-style:%20solid;%20border-top-color:%20rgb(233,%20233,%20233);%20cursor:%20cell;%20user-select:%20none;%20text-align:%20right;%20align-items:%20flex-end%7D%0A.css-1g4nfkl-Tabular%20%7Bposition:%20relative;%20height:%20100%25;%20width:%20951px%7D%0A.css-7fvt15-UnpinnedTabularHeaders%20%7Boverflow-x:%20hidden;%20overflow-y:%20hidden;%20position:%20relative;%20width:%20760px;%20height:%2028px%7D%0A.css-1cdtxzu-TabularBody%20%7Bposition:%20relative;%20overflow-x:%20hidden;%20overflow-y:%20hidden;%20top:%200px;%20width:%20951px;%20height:%20376px%7D%0A.css-1d41044-PinnedTabularRows%20%7Bwidth:%202px;%20height:%20392px;%20background-color:%20rgb(233,%20233,%20233)%7D%0A.css-msgd3e-UnpinnedTabularRows%20%7Bposition:%20absolute;%20overflow-x:%20hidden;%20overflow-y:%20hidden;%20left:%20193px;%20height:%20359px;%20width:%20741px%7D%0A.css-16dlh4i%20%7Bheight:%20359px;%20overflow-y:%20auto;%20overflow-x:%20hidden;%20z-index:%201%7D%0A.css-4ira7h%20%7Bheight:%2012924px;%20width:%201px%7D%0A.css-15kf1cz%20%7Bwidth:%20743px;%20left:%20193px;%20position:%20absolute;%20bottom:%200px;%20overflow-x:%20auto;%20overflow-y:%20hidden;%20z-index:%201%7D%0A.css-1etj0q6%20%7Bwidth:%20840px;%20height:%201px%7D%0A.ant-root%20html,%20.ant-root%20%7Bwidth:%20100%25;%20height:%20100%25%7D%0A.ant-root%20*,%20.ant-root%20::before,%20.ant-root%20::after%20%7Bbox-sizing:%20border-box%7D%0A.ant-root%20%7Bmargin-top:%200px;%20margin-right:%200px;%20margin-bottom:%200px;%20margin-left:%200px;%20color:%20rgba(0,%200,%200,%200.65);%20font-size:%2014px;%20font-family:%20-apple-system,%20BlinkMacSystemFont,%20%22Segoe%20UI%22,%20%22PingFang%20SC%22,%20%22Hiragino%20Sans%20GB%22,%20%22Microsoft%20YaHei%22,%20%22Helvetica%20Neue%22,%20Helvetica,%20Arial,%20sans-serif,%20%22Apple%20Color%20Emoji%22,%20%22Segoe%20UI%20Emoji%22,%20%22Segoe%20UI%20Symbol%22;%20font-variant-ligatures:%20normal;%20font-variant-numeric:%20tabular-nums;%20font-variant-east-asian:%20normal;%20font-variant-caps:%20normal;%20line-height:%201.5;%20background-color:%20rgb(255,%20255,%20255);%20font-feature-settings:%20%22tnum%22;%20--antd-wave-shadow-color:%20undefined%7D%0A.ant-root%20.anticon%20%7Bdisplay:%20inline-block;%20color:%20inherit;%20font-style:%20normal;%20line-height:%200;%20text-align:%20center;%20text-transform:%20none;%20vertical-align:%20-0.125em;%20text-rendering:%20optimizelegibility;%20-webkit-font-smoothing:%20antialiased%7D%0A.ant-root%20.ant-typography%20%7Bcolor:%20rgba(0,%200,%200,%200.65)%7D%0A.css-16andgf%20%7Bheight:%20100%25%7D%0A.css-16andgf%20.ant-root:not(.atoti-widget-chooser)%20%7Bbox-shadow:%20none%7D%3C/style%3E%0A%20%20%20%20%20%20%20%20%3Cdiv%20xmlns=%22http://www.w3.org/1999/xhtml%22%20style=%22height:%20424px;%20width:%20951px%22%3E%0A%20%20%20%20%20%20%20%20%20%20%3Cdiv%20xmlns=%22http://www.w3.org/1999/xhtml%22%20class=%22css-16andgf%22%3E%3Cdiv%20class=%22ant-root%20css-xsa55j-dock%22%3E%3Cdiv%20class=%22css-1ibuxvk-DockBody%22%3E%3Cdiv%20class=%22SplitPane%20%20vertical%20disabled%22%20style=%22display:%20flex;%20flex:%201%201%200%25;%20height:%20100%25;%20position:%20relative;%20outline:%20none;%20overflow:%20hidden;%20user-select:%20text;%20flex-direction:%20row;%20left:%200px;%20right:%200px;%22%3E%3Cdiv%20class=%22Pane%20vertical%20Pane1%20%20%22%20style=%22flex:%201%201%200%25;%20position:%20relative;%20outline:%20none;%20display:%20flex;%20background-color:%20rgb(255,%20255,%20255);%22%3E%3Cdiv%20class=%22css-1lrljg1-EditorSplitPane%22%3E%3Cdiv%20class=%22css-15fz3t7-EditorSplitPane%22%3E%3Cdiv%20class=%22css-1k1fxuh-Tabular%22%3E%3Cdiv%20class=%22css-10klw3m%22%3E%3Cdiv%20tabindex=%220%22%20class=%22css-1g4nfkl-Tabular%22%3E%3Cdiv%20class=%22css-192kvjv-Tabular%22%3E%3Cdiv%20class=%22css-mdjjdg-TabularHeader%22%3E%3Cdiv%20class=%22css-12nzxaz-PinnedTabularHeaders%22%3E%3Cdiv%20class=%22css-11p83bh-TabularHeaderGroup%22%3E%3Cdiv%20class=%22css-1vjgz6m%22%3E%3Cdiv%20class=%22css-19w2ip5-TabularHeaderCell%22%3E%3Cspan%20class=%22css-jpazdc-TabularHeaderCell%22%3E%3Cspan%3E%3Cspan%3E%3Cspan%20class=%22css-y3oqqp%22%3Ecoin_symbol%20/%20metric_name%3C/span%3E%3C/span%3E%3C/span%3E%3C/span%3E%3C/div%3E%3Cdiv%20class=%22css-c7y3a7-TabularHeaderCell%22%3E%3C/div%3E%3C/div%3E%3Cdiv%20class=%22css-mgro6d-HeaderResizer%22%3E%3C/div%3E%3Cdiv%20class=%22css-1gtyqkm-HeaderResizer%22%3E%3C/div%3E%3C/div%3E%3Cdiv%20class=%22css-s4fjko-TabularPinnSeparator%22%3E%3C/div%3E%3C/div%3E%3Cdiv%20class=%22css-7fvt15-UnpinnedTabularHeaders%22%3E%3Cdiv%20class=%22css-5jtkjp-UnpinnedTabularHeaders%22%3E%3Cdiv%20class=%22css-15ph82w-TabularHeaderGroup%22%3E%3Cdiv%20class=%22css-1q63qjm%22%3E%3Cdiv%20class=%22css-pm742e%22%3E%3C/div%3E%3Cdiv%20class=%22css-19w2ip5-TabularHeaderCell%22%3E%3Cspan%20class=%22css-jpazdc-TabularHeaderCell%22%3E%3Cspan%3Enorm_p%3C/span%3E%3C/span%3E%3C/div%3E%3Cdiv%20class=%22css-c7y3a7-TabularHeaderCell%22%3E%3C/div%3E%3C/div%3E%3Cdiv%20class=%22css-w64vkb-HeaderResizer%22%3E%3C/div%3E%3Cdiv%20class=%22css-tlxtaa-HeaderResizer%22%3E%3C/div%3E%3Cdiv%20class=%22css-9cbe5d%22%3E%3Cdiv%20class=%22css-pm742e%22%3E%3C/div%3E%3Cdiv%20class=%22css-19w2ip5-TabularHeaderCell%22%3E%3Cspan%20class=%22css-jpazdc-TabularHeaderCell%22%3E%3Cspan%3Enorm_stat%3C/span%3E%3C/span%3E%3C/div%3E%3Cdiv%20class=%22css-c7y3a7-TabularHeaderCell%22%3E%3C/div%3E%3C/div%3E%3Cdiv%20class=%22css-a5ym62-HeaderResizer%22%3E%3C/div%3E%3Cdiv%20class=%22css-bofzn5-HeaderResizer%22%3E%3C/div%3E%3Cdiv%20class=%22css-62khat%22%3E%3Cdiv%20class=%22css-pm742e%22%3E%3C/div%3E%3Cdiv%20class=%22css-19w2ip5-TabularHeaderCell%22%3E%3Cspan%20class=%22css-jpazdc-TabularHeaderCell%22%3E%3Cspan%3Ekurtosis%3C/span%3E%3C/span%3E%3C/div%3E%3Cdiv%20class=%22css-c7y3a7-TabularHeaderCell%22%3E%3C/div%3E%3C/div%3E%3Cdiv%20class=%22css-z4tmu3-HeaderResizer%22%3E%3C/div%3E%3Cdiv%20class=%22css-yuv66f-HeaderResizer%22%3E%3C/div%3E%3Cdiv%20class=%22css-juptbb%22%3E%3Cdiv%20class=%22css-pm742e%22%3E%3C/div%3E%3Cdiv%20class=%22css-19w2ip5-TabularHeaderCell%22%3E%3Cspan%20class=%22css-jpazdc-TabularHeaderCell%22%3E%3Cspan%3Eskewness%3C/span%3E%3C/span%3E%3C/div%3E%3Cdiv%20class=%22css-c7y3a7-TabularHeaderCell%22%3E%3C/div%3E%3C/div%3E%3Cdiv%20class=%22css-7yvta-HeaderResizer%22%3E%3C/div%3E%3Cdiv%20class=%22css-l6ymtj-HeaderResizer%22%3E%3C/div%3E%3Cdiv%20class=%22css-g9r9a5%22%3E%3Cdiv%20class=%22css-pm742e%22%3E%3C/div%3E%3Cdiv%20class=%22css-19w2ip5-TabularHeaderCell%22%3E%3Cspan%20class=%22css-jpazdc-TabularHeaderCell%22%3E%3Cspan%3Elag_acf%3C/span%3E%3C/span%3E%3C/div%3E%3Cdiv%20class=%22css-c7y3a7-TabularHeaderCell%22%3E%3C/div%3E%3C/div%3E%3Cdiv%20class=%22css-12d307i-HeaderResizer%22%3E%3C/div%3E%3Cdiv%20class=%22css-pnuji7-HeaderResizer%22%3E%3C/div%3E%3Cdiv%20class=%22css-9nx8c8%22%3E%3Cdiv%20class=%22css-pm742e%22%3E%3C/div%3E%3Cdiv%20class=%22css-19w2ip5-TabularHeaderCell%22%3E%3Cspan%20class=%22css-jpazdc-TabularHeaderCell%22%3E%3Cspan%3Elag_pacf%3C/span%3E%3C/span%3E%3C/div%3E%3Cdiv%20class=%22css-c7y3a7-TabularHeaderCell%22%3E%3C/div%3E%3C/div%3E%3Cdiv%20class=%22css-1h52zvk-HeaderResizer%22%3E%3C/div%3E%3Cdiv%20class=%22css-n6x8bv-HeaderResizer%22%3E%3C/div%3E%3Cdiv%20class=%22css-vgclx9%22%3E%3Cdiv%20class=%22css-pm742e%22%3E%3C/div%3E%3Cdiv%20class=%22css-19w2ip5-TabularHeaderCell%22%3E%3Cspan%20class=%22css-jpazdc-TabularHeaderCell%22%3E%3Cspan%3Estd%3C/span%3E%3C/span%3E%3C/div%3E%3Cdiv%20class=%22css-c7y3a7-TabularHeaderCell%22%3E%3C/div%3E%3C/div%3E%3Cdiv%20class=%22css-8yux8h-HeaderResizer%22%3E%3C/div%3E%3Cdiv%20class=%22css-d7noc3-HeaderResizer%22%3E%3C/div%3E%3C/div%3E%3C/div%3E%3C/div%3E%3C/div%3E%3Cdiv%20class=%22css-1cdtxzu-TabularBody%22%3E%3Cdiv%20class=%22css-ekpndq-PinnedTabularRows%22%3E%3Cdiv%20class=%22css-13xltcv-PinnedTabularRows%22%3E%3Cdiv%20class=%22css-3cge9w%22%3E%3Cdiv%3E%3Cdiv%20class=%22css-6id6do%22%3E%3Cdiv%20class=%22css-9ssj44-TreeCell%22%3E%3Cdiv%20class=%22css-mkrhzq%22%3E%3Cdiv%20class=%22css-1i6gc04%22%3E%3Ci%20aria-label=%22icon:%20down%22%20width=%221em%22%20height=%221em%22%20class=%22anticon%20anticon-down%22%3E%3C/i%3E%3C/div%3E%3Cspan%20class=%22ant-typography%20css-8uhtka%22%20style=%22font-size:%2012px;%20line-height:%2020px;%20font-weight:%20600;%20color:%20rgba(0,%200,%200,%200.85);%22%3EBTC%3C/span%3E%3C/div%3E%3C/div%3E%3C/div%3E%3C/div%3E%3C/div%3E%3Cdiv%20class=%22css-3cge9w%22%3E%3Cdiv%3E%3Cdiv%20class=%22css-6id6do%22%3E%3Cdiv%20class=%22css-9ssj44-TreeCell%22%3E%3Cdiv%20class=%22css-iqyuzw%22%3E%3Cdiv%20class=%22css-1i6gc04%22%3E%3C/div%3E%3Cspan%20class=%22ant-typography%20css-8uhtka%22%20style=%22font-size:%2012px;%20line-height:%2020px;%20font-weight:%20600;%20color:%20rgba(0,%200,%200,%200.65);%22%3EBullish%20ratio%3C/span%3E%3C/div%3E%3C/div%3E%3C/div%3E%3C/div%3E%3C/div%3E%3Cdiv%20class=%22css-3cge9w%22%3E%3Cdiv%3E%3Cdiv%20class=%22css-taw3ol%22%3E%3Cdiv%20class=%22css-9ssj44-TreeCell%22%3E%3Cdiv%20class=%22css-iqyuzw%22%3E%3Cdiv%20class=%22css-1i6gc04%22%3E%3C/div%3E%3Cspan%20class=%22ant-typography%20css-8uhtka%22%20style=%22font-size:%2012px;%20line-height:%2020px;%20font-weight:%20600;%20color:%20rgba(0,%200,%200,%200.65);%22%3EFavorite%20average%3C/span%3E%3C/div%3E%3C/div%3E%3C/div%3E%3C/div%3E%3C/div%3E%3Cdiv%20class=%22css-3cge9w%22%3E%3Cdiv%3E%3Cdiv%20class=%22css-6id6do%22%3E%3Cdiv%20class=%22css-9ssj44-TreeCell%22%3E%3Cdiv%20class=%22css-iqyuzw%22%3E%3Cdiv%20class=%22css-1i6gc04%22%3E%3C/div%3E%3Cspan%20class=%22ant-typography%20css-8uhtka%22%20style=%22font-size:%2012px;%20line-height:%2020px;%20font-weight:%20600;%20color:%20rgba(0,%200,%200,%200.65);%22%3EFavorite%20total%3C/span%3E%3C/div%3E%3C/div%3E%3C/div%3E%3C/div%3E%3C/div%3E%3Cdiv%20class=%22css-3cge9w%22%3E%3Cdiv%3E%3Cdiv%20class=%22css-taw3ol%22%3E%3Cdiv%20class=%22css-9ssj44-TreeCell%22%3E%3Cdiv%20class=%22css-iqyuzw%22%3E%3Cdiv%20class=%22css-1i6gc04%22%3E%3C/div%3E%3Cspan%20class=%22ant-typography%20css-8uhtka%22%20style=%22font-size:%2012px;%20line-height:%2020px;%20font-weight:%20600;%20color:%20rgba(0,%200,%200,%200.65);%22%3EFollowers%20average%3C/span%3E%3C/div%3E%3C/div%3E%3C/div%3E%3C/div%3E%3C/div%3E%3Cdiv%20class=%22css-3cge9w%22%3E%3Cdiv%3E%3Cdiv%20class=%22css-6id6do%22%3E%3Cdiv%20class=%22css-9ssj44-TreeCell%22%3E%3Cdiv%20class=%22css-iqyuzw%22%3E%3Cdiv%20class=%22css-1i6gc04%22%3E%3C/div%3E%3Cspan%20class=%22ant-typography%20css-8uhtka%22%20style=%22font-size:%2012px;%20line-height:%2020px;%20font-weight:%20600;%20color:%20rgba(0,%200,%200,%200.65);%22%3EFollowers%20total%3C/span%3E%3C/div%3E%3C/div%3E%3C/div%3E%3C/div%3E%3C/div%3E%3Cdiv%20class=%22css-3cge9w%22%3E%3Cdiv%3E%3Cdiv%20class=%22css-taw3ol%22%3E%3Cdiv%20class=%22css-9ssj44-TreeCell%22%3E%3Cdiv%20class=%22css-iqyuzw%22%3E%3Cdiv%20class=%22css-1i6gc04%22%3E%3C/div%3E%3Cspan%20class=%22ant-typography%20css-8uhtka%22%20style=%22font-size:%2012px;%20line-height:%2020px;%20font-weight:%20600;%20color:%20rgba(0,%200,%200,%200.65);%22%3EPolarity%20average%3C/span%3E%3C/div%3E%3C/div%3E%3C/div%3E%3C/div%3E%3C/div%3E%3Cdiv%20class=%22css-3cge9w%22%3E%3Cdiv%3E%3Cdiv%20class=%22css-6id6do%22%3E%3Cdiv%20class=%22css-9ssj44-TreeCell%22%3E%3Cdiv%20class=%22css-iqyuzw%22%3E%3Cdiv%20class=%22css-1i6gc04%22%3E%3C/div%3E%3Cspan%20class=%22ant-typography%20css-8uhtka%22%20style=%22font-size:%2012px;%20line-height:%2020px;%20font-weight:%20600;%20color:%20rgba(0,%200,%200,%200.65);%22%3EPolarity%20total%3C/span%3E%3C/div%3E%3C/div%3E%3C/div%3E%3C/div%3E%3C/div%3E%3Cdiv%20class=%22css-3cge9w%22%3E%3Cdiv%3E%3Cdiv%20class=%22css-taw3ol%22%3E%3Cdiv%20class=%22css-9ssj44-TreeCell%22%3E%3Cdiv%20class=%22css-iqyuzw%22%3E%3Cdiv%20class=%22css-1i6gc04%22%3E%3C/div%3E%3Cspan%20class=%22ant-typography%20css-8uhtka%22%20style=%22font-size:%2012px;%20line-height:%2020px;%20font-weight:%20600;%20color:%20rgba(0,%200,%200,%200.65);%22%3EPrice%3C/span%3E%3C/div%3E%3C/div%3E%3C/div%3E%3C/div%3E%3C/div%3E%3Cdiv%20class=%22css-3cge9w%22%3E%3Cdiv%3E%3Cdiv%20class=%22css-6id6do%22%3E%3Cdiv%20class=%22css-9ssj44-TreeCell%22%3E%3Cdiv%20class=%22css-iqyuzw%22%3E%3Cdiv%20class=%22css-1i6gc04%22%3E%3C/div%3E%3Cspan%20class=%22ant-typography%20css-8uhtka%22%20style=%22font-size:%2012px;%20line-height:%2020px;%20font-weight:%20600;%20color:%20rgba(0,%200,%200,%200.65);%22%3EReturns%3C/span%3E%3C/div%3E%3C/div%3E%3C/div%3E%3C/div%3E%3C/div%3E%3Cdiv%20class=%22css-3cge9w%22%3E%3Cdiv%3E%3Cdiv%20class=%22css-taw3ol%22%3E%3Cdiv%20class=%22css-9ssj44-TreeCell%22%3E%3Cdiv%20class=%22css-iqyuzw%22%3E%3Cdiv%20class=%22css-1i6gc04%22%3E%3C/div%3E%3Cspan%20class=%22ant-typography%20css-8uhtka%22%20style=%22font-size:%2012px;%20line-height:%2020px;%20font-weight:%20600;%20color:%20rgba(0,%200,%200,%200.65);%22%3ERetweet%20average%3C/span%3E%3C/div%3E%3C/div%3E%3C/div%3E%3C/div%3E%3C/div%3E%3Cdiv%20class=%22css-3cge9w%22%3E%3Cdiv%3E%3Cdiv%20class=%22css-6id6do%22%3E%3Cdiv%20class=%22css-9ssj44-TreeCell%22%3E%3Cdiv%20class=%22css-iqyuzw%22%3E%3Cdiv%20class=%22css-1i6gc04%22%3E%3C/div%3E%3Cspan%20class=%22ant-typography%20css-8uhtka%22%20style=%22font-size:%2012px;%20line-height:%2020px;%20font-weight:%20600;%20color:%20rgba(0,%200,%200,%200.65);%22%3ERetweet%20total%3C/span%3E%3C/div%3E%3C/div%3E%3C/div%3E%3C/div%3E%3C/div%3E%3Cdiv%20class=%22css-3cge9w%22%3E%3Cdiv%3E%3Cdiv%20class=%22css-taw3ol%22%3E%3Cdiv%20class=%22css-9ssj44-TreeCell%22%3E%3Cdiv%20class=%22css-iqyuzw%22%3E%3Cdiv%20class=%22css-1i6gc04%22%3E%3C/div%3E%3Cspan%20class=%22ant-typography%20css-8uhtka%22%20style=%22font-size:%2012px;%20line-height:%2020px;%20font-weight:%20600;%20color:%20rgba(0,%200,%200,%200.65);%22%3ETweet%20volume%3C/span%3E%3C/div%3E%3C/div%3E%3C/div%3E%3C/div%3E%3C/div%3E%3Cdiv%20class=%22css-3cge9w%22%3E%3Cdiv%3E%3Cdiv%20class=%22css-15zcyj0%22%3E%3Cdiv%20class=%22css-9ssj44-TreeCell%22%3E%3Cdiv%20class=%22css-mkrhzq%22%3E%3Cdiv%20class=%22css-1i6gc04%22%3E%3Ci%20aria-label=%22icon:%20right%22%20width=%221em%22%20height=%221em%22%20class=%22anticon%20anticon-right%22%3E%3C/i%3E%3C/div%3E%3Cspan%20class=%22ant-typography%20css-8uhtka%22%20style=%22font-size:%2012px;%20line-height:%2020px;%20font-weight:%20600;%20color:%20rgba(0,%200,%200,%200.85);%22%3EETH%3C/span%3E%3C/div%3E%3C/div%3E%3C/div%3E%3C/div%3E%3C/div%3E%3C/div%3E%3Cdiv%20class=%22css-8r2ljj-PinnedTabularRows%22%3E%3Cdiv%20class=%22css-1d41044-PinnedTabularRows%22%3E%3C/div%3E%3C/div%3E%3C/div%3E%3Cdiv%20class=%22css-msgd3e-UnpinnedTabularRows%22%3E%3Cdiv%20class=%22css-1id6sm3-UnpinnedTabularRows%22%3E%3Cdiv%20class=%22css-3cge9w%22%3E%3Cdiv%3E%3Cdiv%20class=%22%20css-qazlap-TabularCell%22%3E%3Cspan%20class=%22css-mkoicc-CaptionCellRenderer%22%3E%3Cspan%3E%3Cspan%20class=%22ant-typography%22%20style=%22font-size:%2012px;%20line-height:%2020px;%20font-weight:%20400;%22%3E.0182%3C/span%3E%3C/span%3E%3C/span%3E%3C/div%3E%3C/div%3E%3Cdiv%3E%3Cdiv%20class=%22%20css-yhfw9x-TabularCell%22%3E%3Cspan%20class=%22css-mkoicc-CaptionCellRenderer%22%3E%3Cspan%3E%3Cspan%20class=%22ant-typography%22%20style=%22font-size:%2012px;%20line-height:%2020px;%20font-weight:%20400;%22%3E175.1444%3C/span%3E%3C/span%3E%3C/span%3E%3C/div%3E%3C/div%3E%3Cdiv%3E%3Cdiv%20class=%22%20css-1w8i2ef-TabularCell%22%3E%3Cspan%20class=%22css-mkoicc-CaptionCellRenderer%22%3E%3Cspan%3E%3Cspan%20class=%22ant-typography%22%20style=%22font-size:%2012px;%20line-height:%2020px;%20font-weight:%20400;%22%3E16.7860%3C/span%3E%3C/span%3E%3C/span%3E%3C/div%3E%3C/div%3E%3Cdiv%3E%3Cdiv%20class=%22%20css-1w8i2ef-TabularCell%22%3E%3Cspan%20class=%22css-mkoicc-CaptionCellRenderer%22%3E%3Cspan%3E%3Cspan%20class=%22ant-typography%22%20style=%22font-size:%2012px;%20line-height:%2020px;%20font-weight:%20400;%22%3E2.1643%3C/span%3E%3C/span%3E%3C/span%3E%3C/div%3E%3C/div%3E%3Cdiv%3E%3Cdiv%20class=%22%20css-s6k5el-TabularCell%22%3E%3Cspan%20class=%22css-mkoicc-CaptionCellRenderer%22%3E%3Cspan%3E%3Cspan%20class=%22ant-typography%22%20style=%22font-size:%2012px;%20line-height:%2020px;%20font-weight:%20400;%22%3EfloatVector%5B51%5D%7B1.0,%20...%7D%3C/span%3E%3C/span%3E%3C/span%3E%3C/div%3E%3C/div%3E%3Cdiv%3E%3Cdiv%20class=%22%20css-1ujztlf-TabularCell%22%3E%3Cspan%20class=%22css-mkoicc-CaptionCellRenderer%22%3E%3Cspan%3E%3Cspan%20class=%22ant-typography%22%20style=%22font-size:%2012px;%20line-height:%2020px;%20font-weight:%20400;%22%3EfloatVector%5B51%5D%7B1.0,%20...%7D%3C/span%3E%3C/span%3E%3C/span%3E%3C/div%3E%3C/div%3E%3Cdiv%3E%3Cdiv%20class=%22%20css-qazlap-TabularCell%22%3E%3Cspan%20class=%22css-mkoicc-CaptionCellRenderer%22%3E%3Cspan%3E%3Cspan%20class=%22ant-typography%22%20style=%22font-size:%2012px;%20line-height:%2020px;%20font-weight:%20400;%22%3E1,012,402.3394%3C/span%3E%3C/span%3E%3C/span%3E%3C/div%3E%3C/div%3E%3C/div%3E%3Cdiv%20class=%22css-3cge9w%22%3E%3Cdiv%3E%3Cdiv%20class=%22%20css-qazlap-TabularCell%22%3E%3Cspan%20class=%22css-mkoicc-CaptionCellRenderer%22%3E%3Cspan%3E%3Cspan%20class=%22ant-typography%22%20style=%22font-size:%2012px;%20line-height:%2020px;%20font-weight:%20400;%22%3E.0000%3C/span%3E%3C/span%3E%3C/span%3E%3C/div%3E%3C/div%3E%3Cdiv%3E%3Cdiv%20class=%22%20css-yhfw9x-TabularCell%22%3E%3Cspan%20class=%22css-mkoicc-CaptionCellRenderer%22%3E%3Cspan%3E%3Cspan%20class=%22ant-typography%22%20style=%22font-size:%2012px;%20line-height:%2020px;%20font-weight:%20400;%22%3E256.5922%3C/span%3E%3C/span%3E%3C/span%3E%3C/div%3E%3C/div%3E%3Cdiv%3E%3Cdiv%20class=%22%20css-1w8i2ef-TabularCell%22%3E%3Cspan%20class=%22css-mkoicc-CaptionCellRenderer%22%3E%3Cspan%3E%3Cspan%20class=%22ant-typography%22%20style=%22font-size:%2012px;%20line-height:%2020px;%20font-weight:%20400;%22%3E20.1819%3C/span%3E%3C/span%3E%3C/span%3E%3C/div%3E%3C/div%3E%3Cdiv%3E%3Cdiv%20class=%22%20css-1w8i2ef-TabularCell%22%3E%3Cspan%20class=%22css-mkoicc-CaptionCellRenderer%22%3E%3Cspan%3E%3Cspan%20class=%22ant-typography%22%20style=%22font-size:%2012px;%20line-height:%2020px;%20font-weight:%20400;%22%3E3.9888%3C/span%3E%3C/span%3E%3C/span%3E%3C/div%3E%3C/div%3E%3Cdiv%3E%3Cdiv%20class=%22%20css-s6k5el-TabularCell%22%3E%3Cspan%20class=%22css-mkoicc-CaptionCellRenderer%22%3E%3Cspan%3E%3Cspan%20class=%22ant-typography%22%20style=%22font-size:%2012px;%20line-height:%2020px;%20font-weight:%20400;%22%3EfloatVector%5B51%5D%7B1.0,%20...%7D%3C/span%3E%3C/span%3E%3C/span%3E%3C/div%3E%3C/div%3E%3Cdiv%3E%3Cdiv%20class=%22%20css-1ujztlf-TabularCell%22%3E%3Cspan%20class=%22css-mkoicc-CaptionCellRenderer%22%3E%3Cspan%3E%3Cspan%20class=%22ant-typography%22%20style=%22font-size:%2012px;%20line-height:%2020px;%20font-weight:%20400;%22%3EfloatVector%5B51%5D%7B1.0,%20...%7D%3C/span%3E%3C/span%3E%3C/span%3E%3C/div%3E%3C/div%3E%3Cdiv%3E%3Cdiv%20class=%22%20css-qazlap-TabularCell%22%3E%3Cspan%20class=%22css-mkoicc-CaptionCellRenderer%22%3E%3Cspan%3E%3Cspan%20class=%22ant-typography%22%20style=%22font-size:%2012px;%20line-height:%2020px;%20font-weight:%20400;%22%3E3.1582%3C/span%3E%3C/span%3E%3C/span%3E%3C/div%3E%3C/div%3E%3C/div%3E%3Cdiv%20class=%22css-3cge9w%22%3E%3Cdiv%3E%3Cdiv%20class=%22%20css-1hcmypl-TabularCell%22%3E%3Cspan%20class=%22css-mkoicc-CaptionCellRenderer%22%3E%3Cspan%3E%3Cspan%20class=%22ant-typography%22%20style=%22font-size:%2012px;%20line-height:%2020px;%20font-weight:%20400;%22%3E.0000%3C/span%3E%3C/span%3E%3C/span%3E%3C/div%3E%3C/div%3E%3Cdiv%3E%3Cdiv%20class=%22%20css-rhnn72-TabularCell%22%3E%3Cspan%20class=%22css-mkoicc-CaptionCellRenderer%22%3E%3Cspan%3E%3Cspan%20class=%22ant-typography%22%20style=%22font-size:%2012px;%20line-height:%2020px;%20font-weight:%20400;%22%3E251.1460%3C/span%3E%3C/span%3E%3C/span%3E%3C/div%3E%3C/div%3E%3Cdiv%3E%3Cdiv%20class=%22%20css-19150if-TabularCell%22%3E%3Cspan%20class=%22css-mkoicc-CaptionCellRenderer%22%3E%3Cspan%3E%3Cspan%20class=%22ant-typography%22%20style=%22font-size:%2012px;%20line-height:%2020px;%20font-weight:%20400;%22%3E28.4706%3C/span%3E%3C/span%3E%3C/span%3E%3C/div%3E%3C/div%3E%3Cdiv%3E%3Cdiv%20class=%22%20css-19150if-TabularCell%22%3E%3Cspan%20class=%22css-mkoicc-CaptionCellRenderer%22%3E%3Cspan%3E%3Cspan%20class=%22ant-typography%22%20style=%22font-size:%2012px;%20line-height:%2020px;%20font-weight:%20400;%22%3E3.5427%3C/span%3E%3C/span%3E%3C/span%3E%3C/div%3E%3C/div%3E%3Cdiv%3E%3Cdiv%20class=%22%20css-1y5dhn3-TabularCell%22%3E%3Cspan%20class=%22css-mkoicc-CaptionCellRenderer%22%3E%3Cspan%3E%3Cspan%20class=%22ant-typography%22%20style=%22font-size:%2012px;%20line-height:%2020px;%20font-weight:%20400;%22%3EfloatVector%5B51%5D%7B1.0,%20...%7D%3C/span%3E%3C/span%3E%3C/span%3E%3C/div%3E%3C/div%3E%3Cdiv%3E%3Cdiv%20class=%22%20css-187rvyj-TabularCell%22%3E%3Cspan%20class=%22css-mkoicc-CaptionCellRenderer%22%3E%3Cspan%3E%3Cspan%20class=%22ant-typography%22%20style=%22font-size:%2012px;%20line-height:%2020px;%20font-weight:%20400;%22%3EfloatVector%5B51%5D%7B1.0,%20...%7D%3C/span%3E%3C/span%3E%3C/span%3E%3C/div%3E%3C/div%3E%3Cdiv%3E%3Cdiv%20class=%22%20css-1hcmypl-TabularCell%22%3E%3Cspan%20class=%22css-mkoicc-CaptionCellRenderer%22%3E%3Cspan%3E%3Cspan%20class=%22ant-typography%22%20style=%22font-size:%2012px;%20line-height:%2020px;%20font-weight:%20400;%22%3E2.0445%3C/span%3E%3C/span%3E%3C/span%3E%3C/div%3E%3C/div%3E%3C/div%3E%3Cdiv%20class=%22css-3cge9w%22%3E%3Cdiv%3E%3Cdiv%20class=%22%20css-qazlap-TabularCell%22%3E%3Cspan%20class=%22css-mkoicc-CaptionCellRenderer%22%3E%3Cspan%3E%3Cspan%20class=%22ant-typography%22%20style=%22font-size:%2012px;%20line-height:%2020px;%20font-weight:%20400;%22%3E.0000%3C/span%3E%3C/span%3E%3C/span%3E%3C/div%3E%3C/div%3E%3Cdiv%3E%3Cdiv%20class=%22%20css-yhfw9x-TabularCell%22%3E%3Cspan%20class=%22css-mkoicc-CaptionCellRenderer%22%3E%3Cspan%3E%3Cspan%20class=%22ant-typography%22%20style=%22font-size:%2012px;%20line-height:%2020px;%20font-weight:%20400;%22%3E170.3102%3C/span%3E%3C/span%3E%3C/span%3E%3C/div%3E%3C/div%3E%3Cdiv%3E%3Cdiv%20class=%22%20css-1w8i2ef-TabularCell%22%3E%3Cspan%20class=%22css-mkoicc-CaptionCellRenderer%22%3E%3Cspan%3E%3Cspan%20class=%22ant-typography%22%20style=%22font-size:%2012px;%20line-height:%2020px;%20font-weight:%20400;%22%3E12.7741%3C/span%3E%3C/span%3E%3C/span%3E%3C/div%3E%3C/div%3E%3Cdiv%3E%3Cdiv%20class=%22%20css-1w8i2ef-TabularCell%22%3E%3Cspan%20class=%22css-mkoicc-CaptionCellRenderer%22%3E%3Cspan%3E%3Cspan%20class=%22ant-typography%22%20style=%22font-size:%2012px;%20line-height:%2020px;%20font-weight:%20400;%22%3E2.3294%3C/span%3E%3C/span%3E%3C/span%3E%3C/div%3E%3C/div%3E%3Cdiv%3E%3Cdiv%20class=%22%20css-s6k5el-TabularCell%22%3E%3Cspan%20class=%22css-mkoicc-CaptionCellRenderer%22%3E%3Cspan%3E%3Cspan%20class=%22ant-typography%22%20style=%22font-size:%2012px;%20line-height:%2020px;%20font-weight:%20400;%22%3EfloatVector%5B51%5D%7B1.0,%20...%7D%3C/span%3E%3C/span%3E%3C/span%3E%3C/div%3E%3C/div%3E%3Cdiv%3E%3Cdiv%20class=%22%20css-1ujztlf-TabularCell%22%3E%3Cspan%20class=%22css-mkoicc-CaptionCellRenderer%22%3E%3Cspan%3E%3Cspan%20class=%22ant-typography%22%20style=%22font-size:%2012px;%20line-height:%2020px;%20font-weight:%20400;%22%3EfloatVector%5B51%5D%7B1.0,%20...%7D%3C/span%3E%3C/span%3E%3C/span%3E%3C/div%3E%3C/div%3E%3Cdiv%3E%3Cdiv%20class=%22%20css-qazlap-TabularCell%22%3E%3Cspan%20class=%22css-mkoicc-CaptionCellRenderer%22%3E%3Cspan%3E%3Cspan%20class=%22ant-typography%22%20style=%22font-size:%2012px;%20line-height:%2020px;%20font-weight:%20400;%22%3E7,602.5379%3C/span%3E%3C/span%3E%3C/span%3E%3C/div%3E%3C/div%3E%3C/div%3E%3Cdiv%20class=%22css-3cge9w%22%3E%3Cdiv%3E%3Cdiv%20class=%22%20css-1hcmypl-TabularCell%22%3E%3Cspan%20class=%22css-mkoicc-CaptionCellRenderer%22%3E%3Cspan%3E%3Cspan%20class=%22ant-typography%22%20style=%22font-size:%2012px;%20line-height:%2020px;%20font-weight:%20400;%22%3E.1619%3C/span%3E%3C/span%3E%3C/span%3E%3C/div%3E%3C/div%3E%3Cdiv%3E%3Cdiv%20class=%22%20css-rhnn72-TabularCell%22%3E%3Cspan%20class=%22css-mkoicc-CaptionCellRenderer%22%3E%3Cspan%3E%3Cspan%20class=%22ant-typography%22%20style=%22font-size:%2012px;%20line-height:%2020px;%20font-weight:%20400;%22%3E3.6411%3C/span%3E%3C/span%3E%3C/span%3E%3C/div%3E%3C/div%3E%3Cdiv%3E%3Cdiv%20class=%22%20css-19150if-TabularCell%22%3E%3Cspan%20class=%22css-mkoicc-CaptionCellRenderer%22%3E%3Cspan%3E%3Cspan%20class=%22ant-typography%22%20style=%22font-size:%2012px;%20line-height:%2020px;%20font-weight:%20400;%22%3E-.1645%3C/span%3E%3C/span%3E%3C/span%3E%3C/div%3E%3C/div%3E%3Cdiv%3E%3Cdiv%20class=%22%20css-19150if-TabularCell%22%3E%3Cspan%20class=%22css-mkoicc-CaptionCellRenderer%22%3E%3Cspan%3E%3Cspan%20class=%22ant-typography%22%20style=%22font-size:%2012px;%20line-height:%2020px;%20font-weight:%20400;%22%3E-.2760%3C/span%3E%3C/span%3E%3C/span%3E%3C/div%3E%3C/div%3E%3Cdiv%3E%3Cdiv%20class=%22%20css-1y5dhn3-TabularCell%22%3E%3Cspan%20class=%22css-mkoicc-CaptionCellRenderer%22%3E%3Cspan%3E%3Cspan%20class=%22ant-typography%22%20style=%22font-size:%2012px;%20line-height:%2020px;%20font-weight:%20400;%22%3EfloatVector%5B51%5D%7B1.0,%20...%7D%3C/span%3E%3C/span%3E%3C/span%3E%3C/div%3E%3C/div%3E%3Cdiv%3E%3Cdiv%20class=%22%20css-187rvyj-TabularCell%22%3E%3Cspan%20class=%22css-mkoicc-CaptionCellRenderer%22%3E%3Cspan%3E%3Cspan%20class=%22ant-typography%22%20style=%22font-size:%2012px;%20line-height:%2020px;%20font-weight:%20400;%22%3EfloatVector%5B51%5D%7B1.0,%20...%7D%3C/span%3E%3C/span%3E%3C/span%3E%3C/div%3E%3C/div%3E%3Cdiv%3E%3Cdiv%20class=%22%20css-1hcmypl-TabularCell%22%3E%3Cspan%20class=%22css-mkoicc-CaptionCellRenderer%22%3E%3Cspan%3E%3Cspan%20class=%22ant-typography%22%20style=%22font-size:%2012px;%20line-height:%2020px;%20font-weight:%20400;%22%3E1,551.3447%3C/span%3E%3C/span%3E%3C/span%3E%3C/div%3E%3C/div%3E%3C/div%3E%3Cdiv%20class=%22css-3cge9w%22%3E%3Cdiv%3E%3Cdiv%20class=%22%20css-qazlap-TabularCell%22%3E%3Cspan%20class=%22css-mkoicc-CaptionCellRenderer%22%3E%3Cspan%3E%3Cspan%20class=%22ant-typography%22%20style=%22font-size:%2012px;%20line-height:%2020px;%20font-weight:%20400;%22%3E.0000%3C/span%3E%3C/span%3E%3C/span%3E%3C/div%3E%3C/div%3E%3Cdiv%3E%3Cdiv%20class=%22%20css-yhfw9x-TabularCell%22%3E%3Cspan%20class=%22css-mkoicc-CaptionCellRenderer%22%3E%3Cspan%3E%3Cspan%20class=%22ant-typography%22%20style=%22font-size:%2012px;%20line-height:%2020px;%20font-weight:%20400;%22%3E64.5687%3C/span%3E%3C/span%3E%3C/span%3E%3C/div%3E%3C/div%3E%3Cdiv%3E%3Cdiv%20class=%22%20css-1w8i2ef-TabularCell%22%3E%3Cspan%20class=%22css-mkoicc-CaptionCellRenderer%22%3E%3Cspan%3E%3Cspan%20class=%22ant-typography%22%20style=%22font-size:%2012px;%20line-height:%2020px;%20font-weight:%20400;%22%3E2.2344%3C/span%3E%3C/span%3E%3C/span%3E%3C/div%3E%3C/div%3E%3Cdiv%3E%3Cdiv%20class=%22%20css-1w8i2ef-TabularCell%22%3E%3Cspan%20class=%22css-mkoicc-CaptionCellRenderer%22%3E%3Cspan%3E%3Cspan%20class=%22ant-typography%22%20style=%22font-size:%2012px;%20line-height:%2020px;%20font-weight:%20400;%22%3E1.2361%3C/span%3E%3C/span%3E%3C/span%3E%3C/div%3E%3C/div%3E%3Cdiv%3E%3Cdiv%20class=%22%20css-s6k5el-TabularCell%22%3E%3Cspan%20class=%22css-mkoicc-CaptionCellRenderer%22%3E%3Cspan%3E%3Cspan%20class=%22ant-typography%22%20style=%22font-size:%2012px;%20line-height:%2020px;%20font-weight:%20400;%22%3EfloatVector%5B51%5D%7B1.0,%20...%7D%3C/span%3E%3C/span%3E%3C/span%3E%3C/div%3E%3C/div%3E%3Cdiv%3E%3Cdiv%20class=%22%20css-1ujztlf-TabularCell%22%3E%3Cspan%20class=%22css-mkoicc-CaptionCellRenderer%22%3E%3Cspan%3E%3Cspan%20class=%22ant-typography%22%20style=%22font-size:%2012px;%20line-height:%2020px;%20font-weight:%20400;%22%3EfloatVector%5B51%5D%7B1.0,%20...%7D%3C/span%3E%3C/span%3E%3C/span%3E%3C/div%3E%3C/div%3E%3Cdiv%3E%3Cdiv%20class=%22%20css-qazlap-TabularCell%22%3E%3Cspan%20class=%22css-mkoicc-CaptionCellRenderer%22%3E%3Cspan%3E%3Cspan%20class=%22ant-typography%22%20style=%22font-size:%2012px;%20line-height:%2020px;%20font-weight:%20400;%22%3E7,301,223.1700%3C/span%3E%3C/span%3E%3C/span%3E%3C/div%3E%3C/div%3E%3C/div%3E%3Cdiv%20class=%22css-3cge9w%22%3E%3Cdiv%3E%3Cdiv%20class=%22%20css-1hcmypl-TabularCell%22%3E%3Cspan%20class=%22css-mkoicc-CaptionCellRenderer%22%3E%3Cspan%3E%3Cspan%20class=%22ant-typography%22%20style=%22font-size:%2012px;%20line-height:%2020px;%20font-weight:%20400;%22%3E.0000%3C/span%3E%3C/span%3E%3C/span%3E%3C/div%3E%3C/div%3E%3Cdiv%3E%3Cdiv%20class=%22%20css-rhnn72-TabularCell%22%3E%3Cspan%20class=%22css-mkoicc-CaptionCellRenderer%22%3E%3Cspan%3E%3Cspan%20class=%22ant-typography%22%20style=%22font-size:%2012px;%20line-height:%2020px;%20font-weight:%20400;%22%3E161.3302%3C/span%3E%3C/span%3E%3C/span%3E%3C/div%3E%3C/div%3E%3Cdiv%3E%3Cdiv%20class=%22%20css-19150if-TabularCell%22%3E%3Cspan%20class=%22css-mkoicc-CaptionCellRenderer%22%3E%3Cspan%3E%3Cspan%20class=%22ant-typography%22%20style=%22font-size:%2012px;%20line-height:%2020px;%20font-weight:%20400;%22%3E12.2918%3C/span%3E%3C/span%3E%3C/span%3E%3C/div%3E%3C/div%3E%3Cdiv%3E%3Cdiv%20class=%22%20css-19150if-TabularCell%22%3E%3Cspan%20class=%22css-mkoicc-CaptionCellRenderer%22%3E%3Cspan%3E%3Cspan%20class=%22ant-typography%22%20style=%22font-size:%2012px;%20line-height:%2020px;%20font-weight:%20400;%22%3E2.1709%3C/span%3E%3C/span%3E%3C/span%3E%3C/div%3E%3C/div%3E%3Cdiv%3E%3Cdiv%20class=%22%20css-1y5dhn3-TabularCell%22%3E%3Cspan%20class=%22css-mkoicc-CaptionCellRenderer%22%3E%3Cspan%3E%3Cspan%20class=%22ant-typography%22%20style=%22font-size:%2012px;%20line-height:%2020px;%20font-weight:%20400;%22%3EfloatVector%5B51%5D%7B1.0,%20...%7D%3C/span%3E%3C/span%3E%3C/span%3E%3C/div%3E%3C/div%3E%3Cdiv%3E%3Cdiv%20class=%22%20css-187rvyj-TabularCell%22%3E%3Cspan%20class=%22css-mkoicc-CaptionCellRenderer%22%3E%3Cspan%3E%3Cspan%20class=%22ant-typography%22%20style=%22font-size:%2012px;%20line-height:%2020px;%20font-weight:%20400;%22%3EfloatVector%5B51%5D%7B1.0,%20...%7D%3C/span%3E%3C/span%3E%3C/span%3E%3C/div%3E%3C/div%3E%3Cdiv%3E%3Cdiv%20class=%22%20css-1hcmypl-TabularCell%22%3E%3Cspan%20class=%22css-mkoicc-CaptionCellRenderer%22%3E%3Cspan%3E%3Cspan%20class=%22ant-typography%22%20style=%22font-size:%2012px;%20line-height:%2020px;%20font-weight:%20400;%22%3E.0602%3C/span%3E%3C/span%3E%3C/span%3E%3C/div%3E%3C/div%3E%3C/div%3E%3Cdiv%20class=%22css-3cge9w%22%3E%3Cdiv%3E%3Cdiv%20class=%22%20css-qazlap-TabularCell%22%3E%3Cspan%20class=%22css-mkoicc-CaptionCellRenderer%22%3E%3Cspan%3E%3Cspan%20class=%22ant-typography%22%20style=%22font-size:%2012px;%20line-height:%2020px;%20font-weight:%20400;%22%3E.0000%3C/span%3E%3C/span%3E%3C/span%3E%3C/div%3E%3C/div%3E%3Cdiv%3E%3Cdiv%20class=%22%20css-yhfw9x-TabularCell%22%3E%3Cspan%20class=%22css-mkoicc-CaptionCellRenderer%22%3E%3Cspan%3E%3Cspan%20class=%22ant-typography%22%20style=%22font-size:%2012px;%20line-height:%2020px;%20font-weight:%20400;%22%3E394.9489%3C/span%3E%3C/span%3E%3C/span%3E%3C/div%3E%3C/div%3E%3Cdiv%3E%3Cdiv%20class=%22%20css-1w8i2ef-TabularCell%22%3E%3Cspan%20class=%22css-mkoicc-CaptionCellRenderer%22%3E%3Cspan%3E%3Cspan%20class=%22ant-typography%22%20style=%22font-size:%2012px;%20line-height:%2020px;%20font-weight:%20400;%22%3E70.5602%3C/span%3E%3C/span%3E%3C/span%3E%3C/div%3E%3C/div%3E%3Cdiv%3E%3Cdiv%20class=%22%20css-1w8i2ef-TabularCell%22%3E%3Cspan%20class=%22css-mkoicc-CaptionCellRenderer%22%3E%3Cspan%3E%3Cspan%20class=%22ant-typography%22%20style=%22font-size:%2012px;%20line-height:%2020px;%20font-weight:%20400;%22%3E7.0570%3C/span%3E%3C/span%3E%3C/span%3E%3C/div%3E%3C/div%3E%3Cdiv%3E%3Cdiv%20class=%22%20css-s6k5el-TabularCell%22%3E%3Cspan%20class=%22css-mkoicc-CaptionCellRenderer%22%3E%3Cspan%3E%3Cspan%20class=%22ant-typography%22%20style=%22font-size:%2012px;%20line-height:%2020px;%20font-weight:%20400;%22%3EfloatVector%5B51%5D%7B1.0,%20...%7D%3C/span%3E%3C/span%3E%3C/span%3E%3C/div%3E%3C/div%3E%3Cdiv%3E%3Cdiv%20class=%22%20css-1ujztlf-TabularCell%22%3E%3Cspan%20class=%22css-mkoicc-CaptionCellRenderer%22%3E%3Cspan%3E%3Cspan%20class=%22ant-typography%22%20style=%22font-size:%2012px;%20line-height:%2020px;%20font-weight:%20400;%22%3EfloatVector%5B51%5D%7B1.0,%20...%7D%3C/span%3E%3C/span%3E%3C/span%3E%3C/div%3E%3C/div%3E%3Cdiv%3E%3Cdiv%20class=%22%20css-qazlap-TabularCell%22%3E%3Cspan%20class=%22css-mkoicc-CaptionCellRenderer%22%3E%3Cspan%3E%3Cspan%20class=%22ant-typography%22%20style=%22font-size:%2012px;%20line-height:%2020px;%20font-weight:%20400;%22%3E1,558.4155%3C/span%3E%3C/span%3E%3C/span%3E%3C/div%3E%3C/div%3E%3C/div%3E%3Cdiv%20class=%22css-3cge9w%22%3E%3Cdiv%3E%3Cdiv%20class=%22%20css-1hcmypl-TabularCell%22%3E%3Cspan%20class=%22css-mkoicc-CaptionCellRenderer%22%3E%3Cspan%3E%3Cspan%20class=%22ant-typography%22%20style=%22font-size:%2012px;%20line-height:%2020px;%20font-weight:%20400;%22%3E.0568%3C/span%3E%3C/span%3E%3C/span%3E%3C/div%3E%3C/div%3E%3Cdiv%3E%3Cdiv%20class=%22%20css-rhnn72-TabularCell%22%3E%3Cspan%20class=%22css-mkoicc-CaptionCellRenderer%22%3E%3Cspan%3E%3Cspan%20class=%22ant-typography%22%20style=%22font-size:%2012px;%20line-height:%2020px;%20font-weight:%20400;%22%3E5.7360%3C/span%3E%3C/span%3E%3C/span%3E%3C/div%3E%3C/div%3E%3Cdiv%3E%3Cdiv%20class=%22%20css-19150if-TabularCell%22%3E%3Cspan%20class=%22css-mkoicc-CaptionCellRenderer%22%3E%3Cspan%3E%3Cspan%20class=%22ant-typography%22%20style=%22font-size:%2012px;%20line-height:%2020px;%20font-weight:%20400;%22%3E-.2268%3C/span%3E%3C/span%3E%3C/span%3E%3C/div%3E%3C/div%3E%3Cdiv%3E%3Cdiv%20class=%22%20css-19150if-TabularCell%22%3E%3Cspan%20class=%22css-mkoicc-CaptionCellRenderer%22%3E%3Cspan%3E%3Cspan%20class=%22ant-typography%22%20style=%22font-size:%2012px;%20line-height:%2020px;%20font-weight:%20400;%22%3E-.3434%3C/span%3E%3C/span%3E%3C/span%3E%3C/div%3E%3C/div%3E%3Cdiv%3E%3Cdiv%20class=%22%20css-1y5dhn3-TabularCell%22%3E%3Cspan%20class=%22css-mkoicc-CaptionCellRenderer%22%3E%3Cspan%3E%3Cspan%20class=%22ant-typography%22%20style=%22font-size:%2012px;%20line-height:%2020px;%20font-weight:%20400;%22%3EfloatVector%5B51%5D%7B1.0,%20...%7D%3C/span%3E%3C/span%3E%3C/span%3E%3C/div%3E%3C/div%3E%3Cdiv%3E%3Cdiv%20class=%22%20css-187rvyj-TabularCell%22%3E%3Cspan%20class=%22css-mkoicc-CaptionCellRenderer%22%3E%3Cspan%3E%3Cspan%20class=%22ant-typography%22%20style=%22font-size:%2012px;%20line-height:%2020px;%20font-weight:%20400;%22%3EfloatVector%5B51%5D%7B1.0,%20...%7D%3C/span%3E%3C/span%3E%3C/span%3E%3C/div%3E%3C/div%3E%3Cdiv%3E%3Cdiv%20class=%22%20css-1hcmypl-TabularCell%22%3E%3Cspan%20class=%22css-mkoicc-CaptionCellRenderer%22%3E%3Cspan%3E%3Cspan%20class=%22ant-typography%22%20style=%22font-size:%2012px;%20line-height:%2020px;%20font-weight:%20400;%22%3E1,575.5995%3C/span%3E%3C/span%3E%3C/span%3E%3C/div%3E%3C/div%3E%3C/div%3E%3Cdiv%20class=%22css-3cge9w%22%3E%3Cdiv%3E%3Cdiv%20class=%22%20css-qazlap-TabularCell%22%3E%3Cspan%20class=%22css-mkoicc-CaptionCellRenderer%22%3E%3Cspan%3E%3Cspan%20class=%22ant-typography%22%20style=%22font-size:%2012px;%20line-height:%2020px;%20font-weight:%20400;%22%3E.0000%3C/span%3E%3C/span%3E%3C/span%3E%3C/div%3E%3C/div%3E%3Cdiv%3E%3Cdiv%20class=%22%20css-yhfw9x-TabularCell%22%3E%3Cspan%20class=%22css-mkoicc-CaptionCellRenderer%22%3E%3Cspan%3E%3Cspan%20class=%22ant-typography%22%20style=%22font-size:%2012px;%20line-height:%2020px;%20font-weight:%20400;%22%3E221.2286%3C/span%3E%3C/span%3E%3C/span%3E%3C/div%3E%3C/div%3E%3Cdiv%3E%3Cdiv%20class=%22%20css-1w8i2ef-TabularCell%22%3E%3Cspan%20class=%22css-mkoicc-CaptionCellRenderer%22%3E%3Cspan%3E%3Cspan%20class=%22ant-typography%22%20style=%22font-size:%2012px;%20line-height:%2020px;%20font-weight:%20400;%22%3E27.4353%3C/span%3E%3C/span%3E%3C/span%3E%3C/div%3E%3C/div%3E%3Cdiv%3E%3Cdiv%20class=%22%20css-1w8i2ef-TabularCell%22%3E%3Cspan%20class=%22css-mkoicc-CaptionCellRenderer%22%3E%3Cspan%3E%3Cspan%20class=%22ant-typography%22%20style=%22font-size:%2012px;%20line-height:%2020px;%20font-weight:%20400;%22%3E-2.8604%3C/span%3E%3C/span%3E%3C/span%3E%3C/div%3E%3C/div%3E%3Cdiv%3E%3Cdiv%20class=%22%20css-s6k5el-TabularCell%22%3E%3Cspan%20class=%22css-mkoicc-CaptionCellRenderer%22%3E%3Cspan%3E%3Cspan%20class=%22ant-typography%22%20style=%22font-size:%2012px;%20line-height:%2020px;%20font-weight:%20400;%22%3EfloatVector%5B51%5D%7B1.0,%20...%7D%3C/span%3E%3C/span%3E%3C/span%3E%3C/div%3E%3C/div%3E%3Cdiv%3E%3Cdiv%20class=%22%20css-1ujztlf-TabularCell%22%3E%3Cspan%20class=%22css-mkoicc-CaptionCellRenderer%22%3E%3Cspan%3E%3Cspan%20class=%22ant-typography%22%20style=%22font-size:%2012px;%20line-height:%2020px;%20font-weight:%20400;%22%3EfloatVector%5B51%5D%7B1.0,%20...%7D%3C/span%3E%3C/span%3E%3C/span%3E%3C/div%3E%3C/div%3E%3Cdiv%3E%3Cdiv%20class=%22%20css-qazlap-TabularCell%22%3E%3Cspan%20class=%22css-mkoicc-CaptionCellRenderer%22%3E%3Cspan%3E%3Cspan%20class=%22ant-typography%22%20style=%22font-size:%2012px;%20line-height:%2020px;%20font-weight:%20400;%22%3E301.4460%3C/span%3E%3C/span%3E%3C/span%3E%3C/div%3E%3C/div%3E%3C/div%3E%3Cdiv%20class=%22css-3cge9w%22%3E%3Cdiv%3E%3Cdiv%20class=%22%20css-1hcmypl-TabularCell%22%3E%3Cspan%20class=%22css-mkoicc-CaptionCellRenderer%22%3E%3Cspan%3E%3Cspan%20class=%22ant-typography%22%20style=%22font-size:%2012px;%20line-height:%2020px;%20font-weight:%20400;%22%3E.0000%3C/span%3E%3C/span%3E%3C/span%3E%3C/div%3E%3C/div%3E%3Cdiv%3E%3Cdiv%20class=%22%20css-rhnn72-TabularCell%22%3E%3Cspan%20class=%22css-mkoicc-CaptionCellRenderer%22%3E%3Cspan%3E%3Cspan%20class=%22ant-typography%22%20style=%22font-size:%2012px;%20line-height:%2020px;%20font-weight:%20400;%22%3E209.4977%3C/span%3E%3C/span%3E%3C/span%3E%3C/div%3E%3C/div%3E%3Cdiv%3E%3Cdiv%20class=%22%20css-19150if-TabularCell%22%3E%3Cspan%20class=%22css-mkoicc-CaptionCellRenderer%22%3E%3Cspan%3E%3Cspan%20class=%22ant-typography%22%20style=%22font-size:%2012px;%20line-height:%2020px;%20font-weight:%20400;%22%3E10.9932%3C/span%3E%3C/span%3E%3C/span%3E%3C/div%3E%3C/div%3E%3Cdiv%3E%3Cdiv%20class=%22%20css-19150if-TabularCell%22%3E%3Cspan%20class=%22css-mkoicc-CaptionCellRenderer%22%3E%3Cspan%3E%3Cspan%20class=%22ant-typography%22%20style=%22font-size:%2012px;%20line-height:%2020px;%20font-weight:%20400;%22%3E3.3296%3C/span%3E%3C/span%3E%3C/span%3E%3C/div%3E%3C/div%3E%3Cdiv%3E%3Cdiv%20class=%22%20css-1y5dhn3-TabularCell%22%3E%3Cspan%20class=%22css-mkoicc-CaptionCellRenderer%22%3E%3Cspan%3E%3Cspan%20class=%22ant-typography%22%20style=%22font-size:%2012px;%20line-height:%2020px;%20font-weight:%20400;%22%3EfloatVector%5B51%5D%7B1.0,%20...%7D%3C/span%3E%3C/span%3E%3C/span%3E%3C/div%3E%3C/div%3E%3Cdiv%3E%3Cdiv%20class=%22%20css-187rvyj-TabularCell%22%3E%3Cspan%20class=%22css-mkoicc-CaptionCellRenderer%22%3E%3Cspan%3E%3Cspan%20class=%22ant-typography%22%20style=%22font-size:%2012px;%20line-height:%2020px;%20font-weight:%20400;%22%3EfloatVector%5B51%5D%7B1.0,%20...%7D%3C/span%3E%3C/span%3E%3C/span%3E%3C/div%3E%3C/div%3E%3Cdiv%3E%3Cdiv%20class=%22%20css-1hcmypl-TabularCell%22%3E%3Cspan%20class=%22css-mkoicc-CaptionCellRenderer%22%3E%3Cspan%3E%3Cspan%20class=%22ant-typography%22%20style=%22font-size:%2012px;%20line-height:%2020px;%20font-weight:%20400;%22%3E279.3805%3C/span%3E%3C/span%3E%3C/span%3E%3C/div%3E%3C/div%3E%3C/div%3E%3Cdiv%20class=%22css-3cge9w%22%3E%3Cdiv%3E%3Cdiv%20class=%22%20css-qazlap-TabularCell%22%3E%3Cspan%20class=%22css-mkoicc-CaptionCellRenderer%22%3E%3Cspan%3E%3Cspan%20class=%22ant-typography%22%20style=%22font-size:%2012px;%20line-height:%2020px;%20font-weight:%20400;%22%3E.0000%3C/span%3E%3C/span%3E%3C/span%3E%3C/div%3E%3C/div%3E%3Cdiv%3E%3Cdiv%20class=%22%20css-yhfw9x-TabularCell%22%3E%3Cspan%20class=%22css-mkoicc-CaptionCellRenderer%22%3E%3Cspan%3E%3Cspan%20class=%22ant-typography%22%20style=%22font-size:%2012px;%20line-height:%2020px;%20font-weight:%20400;%22%3E202.7667%3C/span%3E%3C/span%3E%3C/span%3E%3C/div%3E%3C/div%3E%3Cdiv%3E%3Cdiv%20class=%22%20css-1w8i2ef-TabularCell%22%3E%3Cspan%20class=%22css-mkoicc-CaptionCellRenderer%22%3E%3Cspan%3E%3Cspan%20class=%22ant-typography%22%20style=%22font-size:%2012px;%20line-height:%2020px;%20font-weight:%20400;%22%3E10.0846%3C/span%3E%3C/span%3E%3C/span%3E%3C/div%3E%3C/div%3E%3Cdiv%3E%3Cdiv%20class=%22%20css-1w8i2ef-TabularCell%22%3E%3Cspan%20class=%22css-mkoicc-CaptionCellRenderer%22%3E%3Cspan%3E%3Cspan%20class=%22ant-typography%22%20style=%22font-size:%2012px;%20line-height:%2020px;%20font-weight:%20400;%22%3E3.2383%3C/span%3E%3C/span%3E%3C/span%3E%3C/div%3E%3C/div%3E%3Cdiv%3E%3Cdiv%20class=%22%20css-s6k5el-TabularCell%22%3E%3Cspan%20class=%22css-mkoicc-CaptionCellRenderer%22%3E%3Cspan%3E%3Cspan%20class=%22ant-typography%22%20style=%22font-size:%2012px;%20line-height:%2020px;%20font-weight:%20400;%22%3EfloatVector%5B51%5D%7B1.0,%20...%7D%3C/span%3E%3C/span%3E%3C/span%3E%3C/div%3E%3C/div%3E%3Cdiv%3E%3Cdiv%20class=%22%20css-1ujztlf-TabularCell%22%3E%3Cspan%20class=%22css-mkoicc-CaptionCellRenderer%22%3E%3Cspan%3E%3Cspan%20class=%22ant-typography%22%20style=%22font-size:%2012px;%20line-height:%2020px;%20font-weight:%20400;%22%3EfloatVector%5B51%5D%7B1.0,%20...%7D%3C/span%3E%3C/span%3E%3C/span%3E%3C/div%3E%3C/div%3E%3Cdiv%3E%3Cdiv%20class=%22%20css-qazlap-TabularCell%22%3E%3Cspan%20class=%22css-mkoicc-CaptionCellRenderer%22%3E%3Cspan%3E%3Cspan%20class=%22ant-typography%22%20style=%22font-size:%2012px;%20line-height:%2020px;%20font-weight:%20400;%22%3E4,829,453.7494%3C/span%3E%3C/span%3E%3C/span%3E%3C/div%3E%3C/div%3E%3C/div%3E%3Cdiv%20class=%22css-3cge9w%22%3E%3Cdiv%3E%3Cdiv%20class=%22%20css-1hcmypl-TabularCell%22%3E%3Cspan%20class=%22css-mkoicc-CaptionCellRenderer%22%3E%3Cspan%3E%3Cspan%20class=%22ant-typography%22%20style=%22font-size:%2012px;%20line-height:%2020px;%20font-weight:%20400;%22%3E.0000%3C/span%3E%3C/span%3E%3C/span%3E%3C/div%3E%3C/div%3E%3Cdiv%3E%3Cdiv%20class=%22%20css-rhnn72-TabularCell%22%3E%3Cspan%20class=%22css-mkoicc-CaptionCellRenderer%22%3E%3Cspan%3E%3Cspan%20class=%22ant-typography%22%20style=%22font-size:%2012px;%20line-height:%2020px;%20font-weight:%20400;%22%3E159.9669%3C/span%3E%3C/span%3E%3C/span%3E%3C/div%3E%3C/div%3E%3Cdiv%3E%3Cdiv%20class=%22%20css-19150if-TabularCell%22%3E%3Cspan%20class=%22css-mkoicc-CaptionCellRenderer%22%3E%3Cspan%3E%3Cspan%20class=%22ant-typography%22%20style=%22font-size:%2012px;%20line-height:%2020px;%20font-weight:%20400;%22%3E6.7971%3C/span%3E%3C/span%3E%3C/span%3E%3C/div%3E%3C/div%3E%3Cdiv%3E%3Cdiv%20class=%22%20css-19150if-TabularCell%22%3E%3Cspan%20class=%22css-mkoicc-CaptionCellRenderer%22%3E%3Cspan%3E%3Cspan%20class=%22ant-typography%22%20style=%22font-size:%2012px;%20line-height:%2020px;%20font-weight:%20400;%22%3E2.5591%3C/span%3E%3C/span%3E%3C/span%3E%3C/div%3E%3C/div%3E%3Cdiv%3E%3Cdiv%20class=%22%20css-1y5dhn3-TabularCell%22%3E%3Cspan%20class=%22css-mkoicc-CaptionCellRenderer%22%3E%3Cspan%3E%3Cspan%20class=%22ant-typography%22%20style=%22font-size:%2012px;%20line-height:%2020px;%20font-weight:%20400;%22%3EfloatVector%5B51%5D%7B1.0,%20...%7D%3C/span%3E%3C/span%3E%3C/span%3E%3C/div%3E%3C/div%3E%3Cdiv%3E%3Cdiv%20class=%22%20css-187rvyj-TabularCell%22%3E%3Cspan%20class=%22css-mkoicc-CaptionCellRenderer%22%3E%3Cspan%3E%3Cspan%20class=%22ant-typography%22%20style=%22font-size:%2012px;%20line-height:%2020px;%20font-weight:%20400;%22%3EfloatVector%5B51%5D%7B1.0,%20...%7D%3C/span%3E%3C/span%3E%3C/span%3E%3C/div%3E%3C/div%3E%3Cdiv%3E%3Cdiv%20class=%22%20css-1hcmypl-TabularCell%22%3E%3Cspan%20class=%22css-mkoicc-CaptionCellRenderer%22%3E%3Cspan%3E%3Cspan%20class=%22ant-typography%22%20style=%22font-size:%2012px;%20line-height:%2020px;%20font-weight:%20400;%22%3E5,277.1660%3C/span%3E%3C/span%3E%3C/span%3E%3C/div%3E%3C/div%3E%3C/div%3E%3Cdiv%20class=%22css-3cge9w%22%3E%3Cdiv%3E%3Cdiv%20class=%22%20css-qc9d98-TabularCell%22%3E%3Cspan%20class=%22css-mkoicc-CaptionCellRenderer%22%3E%3Cspan%3E%3Cspan%20class=%22ant-typography%22%20style=%22font-size:%2012px;%20line-height:%2020px;%20font-weight:%20400;%22%3E.0005%3C/span%3E%3C/span%3E%3C/span%3E%3C/div%3E%3C/div%3E%3Cdiv%3E%3Cdiv%20class=%22%20css-cq8ka-TabularCell%22%3E%3Cspan%20class=%22css-mkoicc-CaptionCellRenderer%22%3E%3Cspan%3E%3Cspan%20class=%22ant-typography%22%20style=%22font-size:%2012px;%20line-height:%2020px;%20font-weight:%20400;%22%3E151.4398%3C/span%3E%3C/span%3E%3C/span%3E%3C/div%3E%3C/div%3E%3Cdiv%3E%3Cdiv%20class=%22%20css-a4scq1-TabularCell%22%3E%3Cspan%20class=%22css-mkoicc-CaptionCellRenderer%22%3E%3Cspan%3E%3Cspan%20class=%22ant-typography%22%20style=%22font-size:%2012px;%20line-height:%2020px;%20font-weight:%20400;%22%3E14.2126%3C/span%3E%3C/span%3E%3C/span%3E%3C/div%3E%3C/div%3E%3Cdiv%3E%3Cdiv%20class=%22%20css-a4scq1-TabularCell%22%3E%3Cspan%20class=%22css-mkoicc-CaptionCellRenderer%22%3E%3Cspan%3E%3Cspan%20class=%22ant-typography%22%20style=%22font-size:%2012px;%20line-height:%2020px;%20font-weight:%20400;%22%3E2.2869%3C/span%3E%3C/span%3E%3C/span%3E%3C/div%3E%3C/div%3E%3Cdiv%3E%3Cdiv%20class=%22%20css-iib5le-TabularCell%22%3E%3Cspan%20class=%22css-mkoicc-CaptionCellRenderer%22%3E%3Cspan%3E%3Cspan%20class=%22ant-typography%22%20style=%22font-size:%2012px;%20line-height:%2020px;%20font-weight:%20400;%22%3EfloatVector%5B51%5D%7B1.0,%20...%7D%3C/span%3E%3C/span%3E%3C/span%3E%3C/div%3E%3C/div%3E%3Cdiv%3E%3Cdiv%20class=%22%20css-dedgb9-TabularCell%22%3E%3Cspan%20class=%22css-mkoicc-CaptionCellRenderer%22%3E%3Cspan%3E%3Cspan%20class=%22ant-typography%22%20style=%22font-size:%2012px;%20line-height:%2020px;%20font-weight:%20400;%22%3EfloatVector%5B51%5D%7B1.0,%20...%7D%3C/span%3E%3C/span%3E%3C/span%3E%3C/div%3E%3C/div%3E%3Cdiv%3E%3Cdiv%20class=%22%20css-qc9d98-TabularCell%22%3E%3Cspan%20class=%22css-mkoicc-CaptionCellRenderer%22%3E%3Cspan%3E%3Cspan%20class=%22ant-typography%22%20style=%22font-size:%2012px;%20line-height:%2020px;%20font-weight:%20400;%22%3E460,748.2861%3C/span%3E%3C/span%3E%3C/span%3E%3C/div%3E%3C/div%3E%3C/div%3E%3C/div%3E%3C/div%3E%3Cdiv%20class=%22css-16dlh4i%22%3E%3Cdiv%20class=%22css-4ira7h%22%3E%3C/div%3E%3C/div%3E%3Cdiv%20class=%22css-15kf1cz%22%3E%3Cdiv%20class=%22css-1etj0q6%22%3E%3C/div%3E%3C/div%3E%3C/div%3E%3C/div%3E%3Cdiv%20class=%22css-t881dv-SelectionStatistics%22%3E%3C/div%3E%3C/div%3E%3C/div%3E%3C/div%3E%3C/div%3E%3C/div%3E%3C/div%3E%3Cspan%20role=%22presentation%22%20class=%22css-14zuz97%20Resizer%20vertical%20disabled%22%3E%3C/span%3E%3Cdiv%20class=%22Pane%20vertical%20Pane2%20%20%22%20style=%22flex:%200%200%20auto;%20position:%20relative;%20outline:%20none;%20width:%200px;%20display:%20flex;%20background-color:%20rgb(255,%20255,%20255);%20overflow:%20auto;%22%3E%3Cdiv%20class=%22css-1ouk3zc-EditorSplitPane%22%3E%3Cdiv%20class=%22css-1jjvrwi-EditorSplitPane%22%3E%3C/div%3E%3C/div%3E%3C/div%3E%3C/div%3E%3C/div%3E%3C/div%3E%3C/div%3E%0A%20%20%20%20%20%20%20%20%3C/div%3E%0A%20%20%20%20%20%20%3C/foreignObject%3E%0A%20%20%20%20%3C/svg%3E\">"
      ],
      "text/plain": [
       "Open the notebook in JupyterLab with the atoti extension installed and enabled to see this widget."
      ]
     },
     "metadata": {},
     "output_type": "display_data"
    }
   ],
   "source": [
    "cube.visualize(\"Bit coin metrics statistics\")"
   ]
  },
  {
   "cell_type": "markdown",
   "metadata": {},
   "source": [
    "if p-value is less than or equal to 0.05 (at 95% confidence level), we will reject the null hypothesis below.\n",
    "\n",
    "- Null hypothesis: Data looks Gaussian\n",
    "- Alternative hypothesis: Data looks non-Gaussian"
   ]
  },
  {
   "cell_type": "code",
   "execution_count": 33,
   "metadata": {},
   "outputs": [],
   "source": [
    "m[\"Gaussian confidence\"] = 0.05\n",
    "m[\"Distribution type\"] = tt.where(\n",
    "    m[\"norm_p\"] > m[\"Gaussian confidence\"], \"Gaussian\", \"Non-Gaussian\"\n",
    ")\n",
    "\n",
    "dist_folder = \"Distribution\"\n",
    "m[\"Gaussian confidence\"].folder = dist_folder\n",
    "m[\"Distribution type\"].folder = dist_folder"
   ]
  },
  {
   "cell_type": "code",
   "execution_count": 34,
   "metadata": {
    "atoti": {
     "height": 455,
     "state": {
      "name": "Distribution type of the time-series for each metric of the currency",
      "type": "container",
      "value": {
       "body": {
        "configuration": {
         "tabular": {
          "addButtonFilter": "numeric",
          "cellRenderers": [
           "tree-layout"
          ],
          "columnOrder": {
           "args": {
            "orderedColumns": [
             "c-treeCells-member",
             "([Measures].[Distribution type (1)],[Cryptocurrency].[Coin Symbol].[coin_symbol].[ADA])",
             "([Measures].[Distribution type (1)],[Cryptocurrency].[Coin Symbol].[coin_symbol].[BCH])",
             "([Measures].[Distribution type (1)],[Cryptocurrency].[Coin Symbol].[coin_symbol].[BNB])",
             "([Measures].[Distribution type (1)],[Cryptocurrency].[Coin Symbol].[coin_symbol].[BSV])",
             "([Measures].[Distribution type (1)],[Cryptocurrency].[Coin Symbol].[coin_symbol].[EOS])",
             "([Measures].[Distribution type (1)],[Cryptocurrency].[Coin Symbol].[coin_symbol].[BTC])",
             "([Measures].[Distribution type (1)],[Cryptocurrency].[Coin Symbol].[coin_symbol].[ETH])",
             "([Measures].[Distribution type (1)],[Cryptocurrency].[Coin Symbol].[coin_symbol].[LINK])",
             "([Measures].[Distribution type (1)],[Cryptocurrency].[Coin Symbol].[coin_symbol].[LTC])",
             "([Measures].[Distribution type (1)],[Cryptocurrency].[Coin Symbol].[coin_symbol].[TRON])",
             "([Measures].[Distribution type (1)],[Cryptocurrency].[Coin Symbol].[coin_symbol].[USDT])",
             "([Measures].[Distribution type (1)],[Cryptocurrency].[Coin Symbol].[coin_symbol].[XRP])"
            ]
           },
           "key": "explicit"
          },
          "columns": [
           {
            "key": "[Measures].[max_norm_p]",
            "width": 133
           },
           {
            "key": "c-treeCells-member",
            "width": 123
           },
           {
            "key": "[Measures].[Distribution type]",
            "width": 136
           },
           {
            "key": "([Measures].[Distribution type],[Cryptocurrency].[Coin Symbol].[coin_symbol].[ADA])",
            "width": 102
           },
           {
            "key": "([Measures].[Distribution type (1)],[Cryptocurrency].[Coin Symbol].[coin_symbol].[ADA])",
            "width": 102
           },
           {
            "key": "([Measures].[Distribution type (1)],[Cryptocurrency].[Coin Symbol].[coin_symbol].[BCH])",
            "width": 89
           },
           {
            "key": "([Measures].[Distribution type (1)],[Cryptocurrency].[Coin Symbol].[coin_symbol].[BNB])",
            "width": 87
           },
           {
            "key": "([Measures].[Distribution type (1)],[Cryptocurrency].[Coin Symbol].[coin_symbol].[BSV])",
            "width": 87
           },
           {
            "key": "([Measures].[Distribution type (1)],[Cryptocurrency].[Coin Symbol].[coin_symbol].[BTC])",
            "width": 91
           },
           {
            "key": "([Measures].[Distribution type (1)],[Cryptocurrency].[Coin Symbol].[coin_symbol].[EOS])",
            "width": 93
           },
           {
            "key": "([Measures].[Distribution type (1)],[Cryptocurrency].[Coin Symbol].[coin_symbol].[ETH])",
            "width": 93
           },
           {
            "key": "([Measures].[Distribution type (1)],[Cryptocurrency].[Coin Symbol].[coin_symbol].[LINK])",
            "width": 91
           },
           {
            "key": "([Measures].[Distribution type (1)],[Cryptocurrency].[Coin Symbol].[coin_symbol].[LTC])",
            "width": 88
           },
           {
            "key": "([Measures].[Distribution type (1)],[Cryptocurrency].[Coin Symbol].[coin_symbol].[TRON])",
            "width": 88
           },
           {
            "key": "([Measures].[Distribution type (1)],[Cryptocurrency].[Coin Symbol].[coin_symbol].[USDT])",
            "width": 91
           },
           {
            "key": "([Measures].[Distribution type (1)],[Cryptocurrency].[Coin Symbol].[coin_symbol].[XRP])",
            "width": 89
           }
          ],
          "columnsGroups": [
           {
            "captionProducer": "firstColumn",
            "cellFactory": "kpi-status",
            "selector": "kpi-status"
           },
           {
            "captionProducer": "firstColumn",
            "cellFactory": "lookup",
            "selector": "lookup"
           },
           {
            "captionProducer": "expiry",
            "cellFactory": "expiry",
            "selector": "kpi-expiry"
           },
           {
            "captionProducer": "columnMerge",
            "cellFactory": {
             "args": {},
             "key": "treeCells"
            },
            "selector": "member"
           }
          ],
          "defaultOptions": {},
          "expansion": {
           "automaticExpansion": true
          },
          "hideAddButton": true,
          "pinnedHeaderSelector": "member",
          "sortingMode": "non-breaking",
          "statisticsShown": true
         }
        },
        "contextValues": {},
        "mdx": "WITH  Member [Measures].[Distribution type (1)] AS [Measures].[Distribution type], CAPTION = [Measures].[Distribution type].MEMBER_CAPTION, BACK_COLOR = CASE WHEN [Measures].[Distribution type (1)] = \"Gaussian\" THEN rgb(31, 119, 180) END, FORE_COLOR = CASE WHEN [Measures].[Distribution type (1)] = \"Gaussian\" THEN rgb(255, 255, 255) END  SELECT NON EMPTY Hierarchize(DrilldownLevel([Metrics].[metric_name].[ALL].[AllMember])) ON ROWS, NON EMPTY Crossjoin({[Measures].[Distribution type (1)]}, Hierarchize(Union([Cryptocurrency].[Coin Symbol].[coin_symbol].Members, [Cryptocurrency].[Coin Symbol].[coin_symbol].[BTC]))) ON COLUMNS FROM [Cryptocurrency cube] CELL PROPERTIES BACK_COLOR, FONT_FLAGS, FORE_COLOR, FORMATTED_VALUE, VALUE",
        "ranges": {
         "column": {
          "chunkSize": 50,
          "thresholdPercentage": 0.2
         },
         "row": {
          "chunkSize": 2000,
          "thresholdPercentage": 0.1
         }
        },
        "serverUrl": ""
       },
       "containerKey": "pivot-table",
       "showTitleBar": false,
       "style": {}
      }
     }
    }
   },
   "outputs": [
    {
     "data": {
      "application/vnd.atoti.v0+json": {
       "cellSet": {
        "axes": [
         {
          "hierarchies": [
           {
            "dimension": "Measures",
            "hierarchy": "Measures"
           },
           {
            "dimension": "Cryptocurrency",
            "hierarchy": "Coin Symbol"
           }
          ],
          "id": 0,
          "positions": [
           [
            {
             "captionPath": [
              "Distribution type"
             ],
             "namePath": [
              "Distribution type (1)"
             ],
             "properties": {
              "DISPLAY_INFO": 0
             }
            },
            {
             "captionPath": [
              "BTC"
             ],
             "namePath": [
              "BTC"
             ],
             "properties": {
              "DISPLAY_INFO": 1
             }
            }
           ],
           [
            {
             "captionPath": [
              "Distribution type"
             ],
             "namePath": [
              "Distribution type (1)"
             ],
             "properties": {
              "DISPLAY_INFO": 0
             }
            },
            {
             "captionPath": [
              "ETH"
             ],
             "namePath": [
              "ETH"
             ],
             "properties": {
              "DISPLAY_INFO": 1
             }
            }
           ],
           [
            {
             "captionPath": [
              "Distribution type"
             ],
             "namePath": [
              "Distribution type (1)"
             ],
             "properties": {
              "DISPLAY_INFO": 0
             }
            },
            {
             "captionPath": [
              "XRP"
             ],
             "namePath": [
              "XRP"
             ],
             "properties": {
              "DISPLAY_INFO": 1
             }
            }
           ],
           [
            {
             "captionPath": [
              "Distribution type"
             ],
             "namePath": [
              "Distribution type (1)"
             ],
             "properties": {
              "DISPLAY_INFO": 0
             }
            },
            {
             "captionPath": [
              "USDT"
             ],
             "namePath": [
              "USDT"
             ],
             "properties": {
              "DISPLAY_INFO": 1
             }
            }
           ],
           [
            {
             "captionPath": [
              "Distribution type"
             ],
             "namePath": [
              "Distribution type (1)"
             ],
             "properties": {
              "DISPLAY_INFO": 0
             }
            },
            {
             "captionPath": [
              "BCH"
             ],
             "namePath": [
              "BCH"
             ],
             "properties": {
              "DISPLAY_INFO": 1
             }
            }
           ],
           [
            {
             "captionPath": [
              "Distribution type"
             ],
             "namePath": [
              "Distribution type (1)"
             ],
             "properties": {
              "DISPLAY_INFO": 0
             }
            },
            {
             "captionPath": [
              "ADA"
             ],
             "namePath": [
              "ADA"
             ],
             "properties": {
              "DISPLAY_INFO": 1
             }
            }
           ],
           [
            {
             "captionPath": [
              "Distribution type"
             ],
             "namePath": [
              "Distribution type (1)"
             ],
             "properties": {
              "DISPLAY_INFO": 0
             }
            },
            {
             "captionPath": [
              "BSV"
             ],
             "namePath": [
              "BSV"
             ],
             "properties": {
              "DISPLAY_INFO": 1
             }
            }
           ],
           [
            {
             "captionPath": [
              "Distribution type"
             ],
             "namePath": [
              "Distribution type (1)"
             ],
             "properties": {
              "DISPLAY_INFO": 0
             }
            },
            {
             "captionPath": [
              "LTC"
             ],
             "namePath": [
              "LTC"
             ],
             "properties": {
              "DISPLAY_INFO": 1
             }
            }
           ],
           [
            {
             "captionPath": [
              "Distribution type"
             ],
             "namePath": [
              "Distribution type (1)"
             ],
             "properties": {
              "DISPLAY_INFO": 0
             }
            },
            {
             "captionPath": [
              "LINK"
             ],
             "namePath": [
              "LINK"
             ],
             "properties": {
              "DISPLAY_INFO": 1
             }
            }
           ],
           [
            {
             "captionPath": [
              "Distribution type"
             ],
             "namePath": [
              "Distribution type (1)"
             ],
             "properties": {
              "DISPLAY_INFO": 0
             }
            },
            {
             "captionPath": [
              "BNB"
             ],
             "namePath": [
              "BNB"
             ],
             "properties": {
              "DISPLAY_INFO": 1
             }
            }
           ],
           [
            {
             "captionPath": [
              "Distribution type"
             ],
             "namePath": [
              "Distribution type (1)"
             ],
             "properties": {
              "DISPLAY_INFO": 0
             }
            },
            {
             "captionPath": [
              "EOS"
             ],
             "namePath": [
              "EOS"
             ],
             "properties": {
              "DISPLAY_INFO": 1
             }
            }
           ],
           [
            {
             "captionPath": [
              "Distribution type"
             ],
             "namePath": [
              "Distribution type (1)"
             ],
             "properties": {
              "DISPLAY_INFO": 0
             }
            },
            {
             "captionPath": [
              "TRON"
             ],
             "namePath": [
              "TRON"
             ],
             "properties": {
              "DISPLAY_INFO": 1
             }
            }
           ]
          ]
         },
         {
          "hierarchies": [
           {
            "dimension": "Metrics",
            "hierarchy": "metric_name"
           }
          ],
          "id": 1,
          "positions": [
           [
            {
             "captionPath": [
              "AllMember"
             ],
             "namePath": [
              "AllMember"
             ],
             "properties": {
              "DISPLAY_INFO": 65548
             }
            }
           ],
           [
            {
             "captionPath": [
              "AllMember",
              "Bullish ratio"
             ],
             "namePath": [
              "AllMember",
              "Bullish ratio"
             ],
             "properties": {
              "DISPLAY_INFO": 0
             }
            }
           ],
           [
            {
             "captionPath": [
              "AllMember",
              "Favorite average"
             ],
             "namePath": [
              "AllMember",
              "Favorite average"
             ],
             "properties": {
              "DISPLAY_INFO": 131072
             }
            }
           ],
           [
            {
             "captionPath": [
              "AllMember",
              "Favorite total"
             ],
             "namePath": [
              "AllMember",
              "Favorite total"
             ],
             "properties": {
              "DISPLAY_INFO": 131072
             }
            }
           ],
           [
            {
             "captionPath": [
              "AllMember",
              "Followers average"
             ],
             "namePath": [
              "AllMember",
              "Followers average"
             ],
             "properties": {
              "DISPLAY_INFO": 131072
             }
            }
           ],
           [
            {
             "captionPath": [
              "AllMember",
              "Followers total"
             ],
             "namePath": [
              "AllMember",
              "Followers total"
             ],
             "properties": {
              "DISPLAY_INFO": 131072
             }
            }
           ],
           [
            {
             "captionPath": [
              "AllMember",
              "Polarity average"
             ],
             "namePath": [
              "AllMember",
              "Polarity average"
             ],
             "properties": {
              "DISPLAY_INFO": 131072
             }
            }
           ],
           [
            {
             "captionPath": [
              "AllMember",
              "Polarity total"
             ],
             "namePath": [
              "AllMember",
              "Polarity total"
             ],
             "properties": {
              "DISPLAY_INFO": 131072
             }
            }
           ],
           [
            {
             "captionPath": [
              "AllMember",
              "Price"
             ],
             "namePath": [
              "AllMember",
              "Price"
             ],
             "properties": {
              "DISPLAY_INFO": 131072
             }
            }
           ],
           [
            {
             "captionPath": [
              "AllMember",
              "Returns"
             ],
             "namePath": [
              "AllMember",
              "Returns"
             ],
             "properties": {
              "DISPLAY_INFO": 131072
             }
            }
           ],
           [
            {
             "captionPath": [
              "AllMember",
              "Retweet average"
             ],
             "namePath": [
              "AllMember",
              "Retweet average"
             ],
             "properties": {
              "DISPLAY_INFO": 131072
             }
            }
           ],
           [
            {
             "captionPath": [
              "AllMember",
              "Retweet total"
             ],
             "namePath": [
              "AllMember",
              "Retweet total"
             ],
             "properties": {
              "DISPLAY_INFO": 131072
             }
            }
           ],
           [
            {
             "captionPath": [
              "AllMember",
              "Tweet volume"
             ],
             "namePath": [
              "AllMember",
              "Tweet volume"
             ],
             "properties": {
              "DISPLAY_INFO": 131072
             }
            }
           ]
          ]
         }
        ],
        "cells": [
         {
          "formattedValue": "Non-Gaussian",
          "ordinal": 0,
          "properties": {
           "BACK_COLOR": null,
           "FONT_FLAGS": 0,
           "FORE_COLOR": null
          },
          "value": "Non-Gaussian"
         },
         {
          "formattedValue": "Non-Gaussian",
          "ordinal": 1,
          "properties": {
           "BACK_COLOR": null,
           "FONT_FLAGS": 0,
           "FORE_COLOR": null
          },
          "value": "Non-Gaussian"
         },
         {
          "formattedValue": "Non-Gaussian",
          "ordinal": 2,
          "properties": {
           "BACK_COLOR": null,
           "FONT_FLAGS": 0,
           "FORE_COLOR": null
          },
          "value": "Non-Gaussian"
         },
         {
          "formattedValue": "Non-Gaussian",
          "ordinal": 3,
          "properties": {
           "BACK_COLOR": null,
           "FONT_FLAGS": 0,
           "FORE_COLOR": null
          },
          "value": "Non-Gaussian"
         },
         {
          "formattedValue": "Non-Gaussian",
          "ordinal": 4,
          "properties": {
           "BACK_COLOR": null,
           "FONT_FLAGS": 0,
           "FORE_COLOR": null
          },
          "value": "Non-Gaussian"
         },
         {
          "formattedValue": "Non-Gaussian",
          "ordinal": 5,
          "properties": {
           "BACK_COLOR": null,
           "FONT_FLAGS": 0,
           "FORE_COLOR": null
          },
          "value": "Non-Gaussian"
         },
         {
          "formattedValue": "Non-Gaussian",
          "ordinal": 6,
          "properties": {
           "BACK_COLOR": null,
           "FONT_FLAGS": 0,
           "FORE_COLOR": null
          },
          "value": "Non-Gaussian"
         },
         {
          "formattedValue": "Non-Gaussian",
          "ordinal": 7,
          "properties": {
           "BACK_COLOR": null,
           "FONT_FLAGS": 0,
           "FORE_COLOR": null
          },
          "value": "Non-Gaussian"
         },
         {
          "formattedValue": "Non-Gaussian",
          "ordinal": 8,
          "properties": {
           "BACK_COLOR": null,
           "FONT_FLAGS": 0,
           "FORE_COLOR": null
          },
          "value": "Non-Gaussian"
         },
         {
          "formattedValue": "Non-Gaussian",
          "ordinal": 9,
          "properties": {
           "BACK_COLOR": null,
           "FONT_FLAGS": 0,
           "FORE_COLOR": null
          },
          "value": "Non-Gaussian"
         },
         {
          "formattedValue": "Non-Gaussian",
          "ordinal": 10,
          "properties": {
           "BACK_COLOR": null,
           "FONT_FLAGS": 0,
           "FORE_COLOR": null
          },
          "value": "Non-Gaussian"
         },
         {
          "formattedValue": "Non-Gaussian",
          "ordinal": 11,
          "properties": {
           "BACK_COLOR": null,
           "FONT_FLAGS": 0,
           "FORE_COLOR": null
          },
          "value": "Non-Gaussian"
         },
         {
          "formattedValue": "Non-Gaussian",
          "ordinal": 12,
          "properties": {
           "BACK_COLOR": null,
           "FONT_FLAGS": 0,
           "FORE_COLOR": null
          },
          "value": "Non-Gaussian"
         },
         {
          "formattedValue": "Non-Gaussian",
          "ordinal": 13,
          "properties": {
           "BACK_COLOR": null,
           "FONT_FLAGS": 0,
           "FORE_COLOR": null
          },
          "value": "Non-Gaussian"
         },
         {
          "formattedValue": "Non-Gaussian",
          "ordinal": 14,
          "properties": {
           "BACK_COLOR": null,
           "FONT_FLAGS": 0,
           "FORE_COLOR": null
          },
          "value": "Non-Gaussian"
         },
         {
          "formattedValue": "Non-Gaussian",
          "ordinal": 15,
          "properties": {
           "BACK_COLOR": null,
           "FONT_FLAGS": 0,
           "FORE_COLOR": null
          },
          "value": "Non-Gaussian"
         },
         {
          "formattedValue": "Non-Gaussian",
          "ordinal": 16,
          "properties": {
           "BACK_COLOR": null,
           "FONT_FLAGS": 0,
           "FORE_COLOR": null
          },
          "value": "Non-Gaussian"
         },
         {
          "formattedValue": "Non-Gaussian",
          "ordinal": 17,
          "properties": {
           "BACK_COLOR": null,
           "FONT_FLAGS": 0,
           "FORE_COLOR": null
          },
          "value": "Non-Gaussian"
         },
         {
          "formattedValue": "Non-Gaussian",
          "ordinal": 18,
          "properties": {
           "BACK_COLOR": null,
           "FONT_FLAGS": 0,
           "FORE_COLOR": null
          },
          "value": "Non-Gaussian"
         },
         {
          "formattedValue": "Non-Gaussian",
          "ordinal": 19,
          "properties": {
           "BACK_COLOR": null,
           "FONT_FLAGS": 0,
           "FORE_COLOR": null
          },
          "value": "Non-Gaussian"
         },
         {
          "formattedValue": "Non-Gaussian",
          "ordinal": 20,
          "properties": {
           "BACK_COLOR": null,
           "FONT_FLAGS": 0,
           "FORE_COLOR": null
          },
          "value": "Non-Gaussian"
         },
         {
          "formattedValue": "Non-Gaussian",
          "ordinal": 21,
          "properties": {
           "BACK_COLOR": null,
           "FONT_FLAGS": 0,
           "FORE_COLOR": null
          },
          "value": "Non-Gaussian"
         },
         {
          "formattedValue": "Non-Gaussian",
          "ordinal": 22,
          "properties": {
           "BACK_COLOR": null,
           "FONT_FLAGS": 0,
           "FORE_COLOR": null
          },
          "value": "Non-Gaussian"
         },
         {
          "formattedValue": "Non-Gaussian",
          "ordinal": 23,
          "properties": {
           "BACK_COLOR": null,
           "FONT_FLAGS": 0,
           "FORE_COLOR": null
          },
          "value": "Non-Gaussian"
         },
         {
          "formattedValue": "Non-Gaussian",
          "ordinal": 24,
          "properties": {
           "BACK_COLOR": null,
           "FONT_FLAGS": 0,
           "FORE_COLOR": null
          },
          "value": "Non-Gaussian"
         },
         {
          "formattedValue": "Non-Gaussian",
          "ordinal": 25,
          "properties": {
           "BACK_COLOR": null,
           "FONT_FLAGS": 0,
           "FORE_COLOR": null
          },
          "value": "Non-Gaussian"
         },
         {
          "formattedValue": "Gaussian",
          "ordinal": 26,
          "properties": {
           "BACK_COLOR": 11826975,
           "FONT_FLAGS": 0,
           "FORE_COLOR": 16777215
          },
          "value": "Gaussian"
         },
         {
          "formattedValue": "Non-Gaussian",
          "ordinal": 27,
          "properties": {
           "BACK_COLOR": null,
           "FONT_FLAGS": 0,
           "FORE_COLOR": null
          },
          "value": "Non-Gaussian"
         },
         {
          "formattedValue": "Non-Gaussian",
          "ordinal": 28,
          "properties": {
           "BACK_COLOR": null,
           "FONT_FLAGS": 0,
           "FORE_COLOR": null
          },
          "value": "Non-Gaussian"
         },
         {
          "formattedValue": "Non-Gaussian",
          "ordinal": 29,
          "properties": {
           "BACK_COLOR": null,
           "FONT_FLAGS": 0,
           "FORE_COLOR": null
          },
          "value": "Non-Gaussian"
         },
         {
          "formattedValue": "Non-Gaussian",
          "ordinal": 30,
          "properties": {
           "BACK_COLOR": null,
           "FONT_FLAGS": 0,
           "FORE_COLOR": null
          },
          "value": "Non-Gaussian"
         },
         {
          "formattedValue": "Non-Gaussian",
          "ordinal": 31,
          "properties": {
           "BACK_COLOR": null,
           "FONT_FLAGS": 0,
           "FORE_COLOR": null
          },
          "value": "Non-Gaussian"
         },
         {
          "formattedValue": "Non-Gaussian",
          "ordinal": 32,
          "properties": {
           "BACK_COLOR": null,
           "FONT_FLAGS": 0,
           "FORE_COLOR": null
          },
          "value": "Non-Gaussian"
         },
         {
          "formattedValue": "Non-Gaussian",
          "ordinal": 33,
          "properties": {
           "BACK_COLOR": null,
           "FONT_FLAGS": 0,
           "FORE_COLOR": null
          },
          "value": "Non-Gaussian"
         },
         {
          "formattedValue": "Non-Gaussian",
          "ordinal": 34,
          "properties": {
           "BACK_COLOR": null,
           "FONT_FLAGS": 0,
           "FORE_COLOR": null
          },
          "value": "Non-Gaussian"
         },
         {
          "formattedValue": "Non-Gaussian",
          "ordinal": 35,
          "properties": {
           "BACK_COLOR": null,
           "FONT_FLAGS": 0,
           "FORE_COLOR": null
          },
          "value": "Non-Gaussian"
         },
         {
          "formattedValue": "Non-Gaussian",
          "ordinal": 36,
          "properties": {
           "BACK_COLOR": null,
           "FONT_FLAGS": 0,
           "FORE_COLOR": null
          },
          "value": "Non-Gaussian"
         },
         {
          "formattedValue": "Non-Gaussian",
          "ordinal": 37,
          "properties": {
           "BACK_COLOR": null,
           "FONT_FLAGS": 0,
           "FORE_COLOR": null
          },
          "value": "Non-Gaussian"
         },
         {
          "formattedValue": "Non-Gaussian",
          "ordinal": 38,
          "properties": {
           "BACK_COLOR": null,
           "FONT_FLAGS": 0,
           "FORE_COLOR": null
          },
          "value": "Non-Gaussian"
         },
         {
          "formattedValue": "Non-Gaussian",
          "ordinal": 39,
          "properties": {
           "BACK_COLOR": null,
           "FONT_FLAGS": 0,
           "FORE_COLOR": null
          },
          "value": "Non-Gaussian"
         },
         {
          "formattedValue": "Non-Gaussian",
          "ordinal": 40,
          "properties": {
           "BACK_COLOR": null,
           "FONT_FLAGS": 0,
           "FORE_COLOR": null
          },
          "value": "Non-Gaussian"
         },
         {
          "formattedValue": "Non-Gaussian",
          "ordinal": 41,
          "properties": {
           "BACK_COLOR": null,
           "FONT_FLAGS": 0,
           "FORE_COLOR": null
          },
          "value": "Non-Gaussian"
         },
         {
          "formattedValue": "Non-Gaussian",
          "ordinal": 42,
          "properties": {
           "BACK_COLOR": null,
           "FONT_FLAGS": 0,
           "FORE_COLOR": null
          },
          "value": "Non-Gaussian"
         },
         {
          "formattedValue": "Non-Gaussian",
          "ordinal": 43,
          "properties": {
           "BACK_COLOR": null,
           "FONT_FLAGS": 0,
           "FORE_COLOR": null
          },
          "value": "Non-Gaussian"
         },
         {
          "formattedValue": "Non-Gaussian",
          "ordinal": 44,
          "properties": {
           "BACK_COLOR": null,
           "FONT_FLAGS": 0,
           "FORE_COLOR": null
          },
          "value": "Non-Gaussian"
         },
         {
          "formattedValue": "Non-Gaussian",
          "ordinal": 45,
          "properties": {
           "BACK_COLOR": null,
           "FONT_FLAGS": 0,
           "FORE_COLOR": null
          },
          "value": "Non-Gaussian"
         },
         {
          "formattedValue": "Non-Gaussian",
          "ordinal": 46,
          "properties": {
           "BACK_COLOR": null,
           "FONT_FLAGS": 0,
           "FORE_COLOR": null
          },
          "value": "Non-Gaussian"
         },
         {
          "formattedValue": "Non-Gaussian",
          "ordinal": 47,
          "properties": {
           "BACK_COLOR": null,
           "FONT_FLAGS": 0,
           "FORE_COLOR": null
          },
          "value": "Non-Gaussian"
         },
         {
          "formattedValue": "Gaussian",
          "ordinal": 48,
          "properties": {
           "BACK_COLOR": 11826975,
           "FONT_FLAGS": 0,
           "FORE_COLOR": 16777215
          },
          "value": "Gaussian"
         },
         {
          "formattedValue": "Non-Gaussian",
          "ordinal": 49,
          "properties": {
           "BACK_COLOR": null,
           "FONT_FLAGS": 0,
           "FORE_COLOR": null
          },
          "value": "Non-Gaussian"
         },
         {
          "formattedValue": "Non-Gaussian",
          "ordinal": 50,
          "properties": {
           "BACK_COLOR": null,
           "FONT_FLAGS": 0,
           "FORE_COLOR": null
          },
          "value": "Non-Gaussian"
         },
         {
          "formattedValue": "Non-Gaussian",
          "ordinal": 51,
          "properties": {
           "BACK_COLOR": null,
           "FONT_FLAGS": 0,
           "FORE_COLOR": null
          },
          "value": "Non-Gaussian"
         },
         {
          "formattedValue": "Non-Gaussian",
          "ordinal": 52,
          "properties": {
           "BACK_COLOR": null,
           "FONT_FLAGS": 0,
           "FORE_COLOR": null
          },
          "value": "Non-Gaussian"
         },
         {
          "formattedValue": "Non-Gaussian",
          "ordinal": 53,
          "properties": {
           "BACK_COLOR": null,
           "FONT_FLAGS": 0,
           "FORE_COLOR": null
          },
          "value": "Non-Gaussian"
         },
         {
          "formattedValue": "Non-Gaussian",
          "ordinal": 54,
          "properties": {
           "BACK_COLOR": null,
           "FONT_FLAGS": 0,
           "FORE_COLOR": null
          },
          "value": "Non-Gaussian"
         },
         {
          "formattedValue": "Non-Gaussian",
          "ordinal": 55,
          "properties": {
           "BACK_COLOR": null,
           "FONT_FLAGS": 0,
           "FORE_COLOR": null
          },
          "value": "Non-Gaussian"
         },
         {
          "formattedValue": "Non-Gaussian",
          "ordinal": 56,
          "properties": {
           "BACK_COLOR": null,
           "FONT_FLAGS": 0,
           "FORE_COLOR": null
          },
          "value": "Non-Gaussian"
         },
         {
          "formattedValue": "Non-Gaussian",
          "ordinal": 57,
          "properties": {
           "BACK_COLOR": null,
           "FONT_FLAGS": 0,
           "FORE_COLOR": null
          },
          "value": "Non-Gaussian"
         },
         {
          "formattedValue": "Non-Gaussian",
          "ordinal": 58,
          "properties": {
           "BACK_COLOR": null,
           "FONT_FLAGS": 0,
           "FORE_COLOR": null
          },
          "value": "Non-Gaussian"
         },
         {
          "formattedValue": "Non-Gaussian",
          "ordinal": 59,
          "properties": {
           "BACK_COLOR": null,
           "FONT_FLAGS": 0,
           "FORE_COLOR": null
          },
          "value": "Non-Gaussian"
         },
         {
          "formattedValue": "Non-Gaussian",
          "ordinal": 60,
          "properties": {
           "BACK_COLOR": null,
           "FONT_FLAGS": 0,
           "FORE_COLOR": null
          },
          "value": "Non-Gaussian"
         },
         {
          "formattedValue": "Non-Gaussian",
          "ordinal": 61,
          "properties": {
           "BACK_COLOR": null,
           "FONT_FLAGS": 0,
           "FORE_COLOR": null
          },
          "value": "Non-Gaussian"
         },
         {
          "formattedValue": "Non-Gaussian",
          "ordinal": 62,
          "properties": {
           "BACK_COLOR": null,
           "FONT_FLAGS": 0,
           "FORE_COLOR": null
          },
          "value": "Non-Gaussian"
         },
         {
          "formattedValue": "Non-Gaussian",
          "ordinal": 63,
          "properties": {
           "BACK_COLOR": null,
           "FONT_FLAGS": 0,
           "FORE_COLOR": null
          },
          "value": "Non-Gaussian"
         },
         {
          "formattedValue": "Non-Gaussian",
          "ordinal": 64,
          "properties": {
           "BACK_COLOR": null,
           "FONT_FLAGS": 0,
           "FORE_COLOR": null
          },
          "value": "Non-Gaussian"
         },
         {
          "formattedValue": "Non-Gaussian",
          "ordinal": 65,
          "properties": {
           "BACK_COLOR": null,
           "FONT_FLAGS": 0,
           "FORE_COLOR": null
          },
          "value": "Non-Gaussian"
         },
         {
          "formattedValue": "Non-Gaussian",
          "ordinal": 66,
          "properties": {
           "BACK_COLOR": null,
           "FONT_FLAGS": 0,
           "FORE_COLOR": null
          },
          "value": "Non-Gaussian"
         },
         {
          "formattedValue": "Non-Gaussian",
          "ordinal": 67,
          "properties": {
           "BACK_COLOR": null,
           "FONT_FLAGS": 0,
           "FORE_COLOR": null
          },
          "value": "Non-Gaussian"
         },
         {
          "formattedValue": "Non-Gaussian",
          "ordinal": 68,
          "properties": {
           "BACK_COLOR": null,
           "FONT_FLAGS": 0,
           "FORE_COLOR": null
          },
          "value": "Non-Gaussian"
         },
         {
          "formattedValue": "Non-Gaussian",
          "ordinal": 69,
          "properties": {
           "BACK_COLOR": null,
           "FONT_FLAGS": 0,
           "FORE_COLOR": null
          },
          "value": "Non-Gaussian"
         },
         {
          "formattedValue": "Non-Gaussian",
          "ordinal": 70,
          "properties": {
           "BACK_COLOR": null,
           "FONT_FLAGS": 0,
           "FORE_COLOR": null
          },
          "value": "Non-Gaussian"
         },
         {
          "formattedValue": "Non-Gaussian",
          "ordinal": 71,
          "properties": {
           "BACK_COLOR": null,
           "FONT_FLAGS": 0,
           "FORE_COLOR": null
          },
          "value": "Non-Gaussian"
         },
         {
          "formattedValue": "Non-Gaussian",
          "ordinal": 72,
          "properties": {
           "BACK_COLOR": null,
           "FONT_FLAGS": 0,
           "FORE_COLOR": null
          },
          "value": "Non-Gaussian"
         },
         {
          "formattedValue": "Non-Gaussian",
          "ordinal": 73,
          "properties": {
           "BACK_COLOR": null,
           "FONT_FLAGS": 0,
           "FORE_COLOR": null
          },
          "value": "Non-Gaussian"
         },
         {
          "formattedValue": "Non-Gaussian",
          "ordinal": 74,
          "properties": {
           "BACK_COLOR": null,
           "FONT_FLAGS": 0,
           "FORE_COLOR": null
          },
          "value": "Non-Gaussian"
         },
         {
          "formattedValue": "Non-Gaussian",
          "ordinal": 75,
          "properties": {
           "BACK_COLOR": null,
           "FONT_FLAGS": 0,
           "FORE_COLOR": null
          },
          "value": "Non-Gaussian"
         },
         {
          "formattedValue": "Non-Gaussian",
          "ordinal": 76,
          "properties": {
           "BACK_COLOR": null,
           "FONT_FLAGS": 0,
           "FORE_COLOR": null
          },
          "value": "Non-Gaussian"
         },
         {
          "formattedValue": "Non-Gaussian",
          "ordinal": 77,
          "properties": {
           "BACK_COLOR": null,
           "FONT_FLAGS": 0,
           "FORE_COLOR": null
          },
          "value": "Non-Gaussian"
         },
         {
          "formattedValue": "Non-Gaussian",
          "ordinal": 78,
          "properties": {
           "BACK_COLOR": null,
           "FONT_FLAGS": 0,
           "FORE_COLOR": null
          },
          "value": "Non-Gaussian"
         },
         {
          "formattedValue": "Non-Gaussian",
          "ordinal": 79,
          "properties": {
           "BACK_COLOR": null,
           "FONT_FLAGS": 0,
           "FORE_COLOR": null
          },
          "value": "Non-Gaussian"
         },
         {
          "formattedValue": "Non-Gaussian",
          "ordinal": 80,
          "properties": {
           "BACK_COLOR": null,
           "FONT_FLAGS": 0,
           "FORE_COLOR": null
          },
          "value": "Non-Gaussian"
         },
         {
          "formattedValue": "Non-Gaussian",
          "ordinal": 81,
          "properties": {
           "BACK_COLOR": null,
           "FONT_FLAGS": 0,
           "FORE_COLOR": null
          },
          "value": "Non-Gaussian"
         },
         {
          "formattedValue": "Gaussian",
          "ordinal": 82,
          "properties": {
           "BACK_COLOR": 11826975,
           "FONT_FLAGS": 0,
           "FORE_COLOR": 16777215
          },
          "value": "Gaussian"
         },
         {
          "formattedValue": "Non-Gaussian",
          "ordinal": 83,
          "properties": {
           "BACK_COLOR": null,
           "FONT_FLAGS": 0,
           "FORE_COLOR": null
          },
          "value": "Non-Gaussian"
         },
         {
          "formattedValue": "Non-Gaussian",
          "ordinal": 84,
          "properties": {
           "BACK_COLOR": null,
           "FONT_FLAGS": 0,
           "FORE_COLOR": null
          },
          "value": "Non-Gaussian"
         },
         {
          "formattedValue": "Non-Gaussian",
          "ordinal": 85,
          "properties": {
           "BACK_COLOR": null,
           "FONT_FLAGS": 0,
           "FORE_COLOR": null
          },
          "value": "Non-Gaussian"
         },
         {
          "formattedValue": "Non-Gaussian",
          "ordinal": 86,
          "properties": {
           "BACK_COLOR": null,
           "FONT_FLAGS": 0,
           "FORE_COLOR": null
          },
          "value": "Non-Gaussian"
         },
         {
          "formattedValue": "Non-Gaussian",
          "ordinal": 87,
          "properties": {
           "BACK_COLOR": null,
           "FONT_FLAGS": 0,
           "FORE_COLOR": null
          },
          "value": "Non-Gaussian"
         },
         {
          "formattedValue": "Non-Gaussian",
          "ordinal": 88,
          "properties": {
           "BACK_COLOR": null,
           "FONT_FLAGS": 0,
           "FORE_COLOR": null
          },
          "value": "Non-Gaussian"
         },
         {
          "formattedValue": "Non-Gaussian",
          "ordinal": 89,
          "properties": {
           "BACK_COLOR": null,
           "FONT_FLAGS": 0,
           "FORE_COLOR": null
          },
          "value": "Non-Gaussian"
         },
         {
          "formattedValue": "Non-Gaussian",
          "ordinal": 90,
          "properties": {
           "BACK_COLOR": null,
           "FONT_FLAGS": 0,
           "FORE_COLOR": null
          },
          "value": "Non-Gaussian"
         },
         {
          "formattedValue": "Non-Gaussian",
          "ordinal": 91,
          "properties": {
           "BACK_COLOR": null,
           "FONT_FLAGS": 0,
           "FORE_COLOR": null
          },
          "value": "Non-Gaussian"
         },
         {
          "formattedValue": "Non-Gaussian",
          "ordinal": 92,
          "properties": {
           "BACK_COLOR": null,
           "FONT_FLAGS": 0,
           "FORE_COLOR": null
          },
          "value": "Non-Gaussian"
         },
         {
          "formattedValue": "Non-Gaussian",
          "ordinal": 93,
          "properties": {
           "BACK_COLOR": null,
           "FONT_FLAGS": 0,
           "FORE_COLOR": null
          },
          "value": "Non-Gaussian"
         },
         {
          "formattedValue": "Non-Gaussian",
          "ordinal": 94,
          "properties": {
           "BACK_COLOR": null,
           "FONT_FLAGS": 0,
           "FORE_COLOR": null
          },
          "value": "Non-Gaussian"
         },
         {
          "formattedValue": "Non-Gaussian",
          "ordinal": 95,
          "properties": {
           "BACK_COLOR": null,
           "FONT_FLAGS": 0,
           "FORE_COLOR": null
          },
          "value": "Non-Gaussian"
         },
         {
          "formattedValue": "Gaussian",
          "ordinal": 96,
          "properties": {
           "BACK_COLOR": 11826975,
           "FONT_FLAGS": 0,
           "FORE_COLOR": 16777215
          },
          "value": "Gaussian"
         },
         {
          "formattedValue": "Non-Gaussian",
          "ordinal": 97,
          "properties": {
           "BACK_COLOR": null,
           "FONT_FLAGS": 0,
           "FORE_COLOR": null
          },
          "value": "Non-Gaussian"
         },
         {
          "formattedValue": "Non-Gaussian",
          "ordinal": 98,
          "properties": {
           "BACK_COLOR": null,
           "FONT_FLAGS": 0,
           "FORE_COLOR": null
          },
          "value": "Non-Gaussian"
         },
         {
          "formattedValue": "Non-Gaussian",
          "ordinal": 99,
          "properties": {
           "BACK_COLOR": null,
           "FONT_FLAGS": 0,
           "FORE_COLOR": null
          },
          "value": "Non-Gaussian"
         },
         {
          "formattedValue": "Non-Gaussian",
          "ordinal": 100,
          "properties": {
           "BACK_COLOR": null,
           "FONT_FLAGS": 0,
           "FORE_COLOR": null
          },
          "value": "Non-Gaussian"
         },
         {
          "formattedValue": "Non-Gaussian",
          "ordinal": 101,
          "properties": {
           "BACK_COLOR": null,
           "FONT_FLAGS": 0,
           "FORE_COLOR": null
          },
          "value": "Non-Gaussian"
         },
         {
          "formattedValue": "Non-Gaussian",
          "ordinal": 102,
          "properties": {
           "BACK_COLOR": null,
           "FONT_FLAGS": 0,
           "FORE_COLOR": null
          },
          "value": "Non-Gaussian"
         },
         {
          "formattedValue": "Non-Gaussian",
          "ordinal": 103,
          "properties": {
           "BACK_COLOR": null,
           "FONT_FLAGS": 0,
           "FORE_COLOR": null
          },
          "value": "Non-Gaussian"
         },
         {
          "formattedValue": "Non-Gaussian",
          "ordinal": 104,
          "properties": {
           "BACK_COLOR": null,
           "FONT_FLAGS": 0,
           "FORE_COLOR": null
          },
          "value": "Non-Gaussian"
         },
         {
          "formattedValue": "Non-Gaussian",
          "ordinal": 105,
          "properties": {
           "BACK_COLOR": null,
           "FONT_FLAGS": 0,
           "FORE_COLOR": null
          },
          "value": "Non-Gaussian"
         },
         {
          "formattedValue": "Non-Gaussian",
          "ordinal": 106,
          "properties": {
           "BACK_COLOR": null,
           "FONT_FLAGS": 0,
           "FORE_COLOR": null
          },
          "value": "Non-Gaussian"
         },
         {
          "formattedValue": "Non-Gaussian",
          "ordinal": 107,
          "properties": {
           "BACK_COLOR": null,
           "FONT_FLAGS": 0,
           "FORE_COLOR": null
          },
          "value": "Non-Gaussian"
         },
         {
          "formattedValue": "Non-Gaussian",
          "ordinal": 108,
          "properties": {
           "BACK_COLOR": null,
           "FONT_FLAGS": 0,
           "FORE_COLOR": null
          },
          "value": "Non-Gaussian"
         },
         {
          "formattedValue": "Non-Gaussian",
          "ordinal": 109,
          "properties": {
           "BACK_COLOR": null,
           "FONT_FLAGS": 0,
           "FORE_COLOR": null
          },
          "value": "Non-Gaussian"
         },
         {
          "formattedValue": "Non-Gaussian",
          "ordinal": 110,
          "properties": {
           "BACK_COLOR": null,
           "FONT_FLAGS": 0,
           "FORE_COLOR": null
          },
          "value": "Non-Gaussian"
         },
         {
          "formattedValue": "Non-Gaussian",
          "ordinal": 111,
          "properties": {
           "BACK_COLOR": null,
           "FONT_FLAGS": 0,
           "FORE_COLOR": null
          },
          "value": "Non-Gaussian"
         },
         {
          "formattedValue": "Non-Gaussian",
          "ordinal": 112,
          "properties": {
           "BACK_COLOR": null,
           "FONT_FLAGS": 0,
           "FORE_COLOR": null
          },
          "value": "Non-Gaussian"
         },
         {
          "formattedValue": "Non-Gaussian",
          "ordinal": 113,
          "properties": {
           "BACK_COLOR": null,
           "FONT_FLAGS": 0,
           "FORE_COLOR": null
          },
          "value": "Non-Gaussian"
         },
         {
          "formattedValue": "Non-Gaussian",
          "ordinal": 114,
          "properties": {
           "BACK_COLOR": null,
           "FONT_FLAGS": 0,
           "FORE_COLOR": null
          },
          "value": "Non-Gaussian"
         },
         {
          "formattedValue": "Non-Gaussian",
          "ordinal": 115,
          "properties": {
           "BACK_COLOR": null,
           "FONT_FLAGS": 0,
           "FORE_COLOR": null
          },
          "value": "Non-Gaussian"
         },
         {
          "formattedValue": "Non-Gaussian",
          "ordinal": 116,
          "properties": {
           "BACK_COLOR": null,
           "FONT_FLAGS": 0,
           "FORE_COLOR": null
          },
          "value": "Non-Gaussian"
         },
         {
          "formattedValue": "Non-Gaussian",
          "ordinal": 117,
          "properties": {
           "BACK_COLOR": null,
           "FONT_FLAGS": 0,
           "FORE_COLOR": null
          },
          "value": "Non-Gaussian"
         },
         {
          "formattedValue": "Non-Gaussian",
          "ordinal": 118,
          "properties": {
           "BACK_COLOR": null,
           "FONT_FLAGS": 0,
           "FORE_COLOR": null
          },
          "value": "Non-Gaussian"
         },
         {
          "formattedValue": "Non-Gaussian",
          "ordinal": 119,
          "properties": {
           "BACK_COLOR": null,
           "FONT_FLAGS": 0,
           "FORE_COLOR": null
          },
          "value": "Non-Gaussian"
         },
         {
          "formattedValue": "Non-Gaussian",
          "ordinal": 120,
          "properties": {
           "BACK_COLOR": null,
           "FONT_FLAGS": 0,
           "FORE_COLOR": null
          },
          "value": "Non-Gaussian"
         },
         {
          "formattedValue": "Non-Gaussian",
          "ordinal": 121,
          "properties": {
           "BACK_COLOR": null,
           "FONT_FLAGS": 0,
           "FORE_COLOR": null
          },
          "value": "Non-Gaussian"
         },
         {
          "formattedValue": "Non-Gaussian",
          "ordinal": 122,
          "properties": {
           "BACK_COLOR": null,
           "FONT_FLAGS": 0,
           "FORE_COLOR": null
          },
          "value": "Non-Gaussian"
         },
         {
          "formattedValue": "Non-Gaussian",
          "ordinal": 123,
          "properties": {
           "BACK_COLOR": null,
           "FONT_FLAGS": 0,
           "FORE_COLOR": null
          },
          "value": "Non-Gaussian"
         },
         {
          "formattedValue": "Non-Gaussian",
          "ordinal": 124,
          "properties": {
           "BACK_COLOR": null,
           "FONT_FLAGS": 0,
           "FORE_COLOR": null
          },
          "value": "Non-Gaussian"
         },
         {
          "formattedValue": "Non-Gaussian",
          "ordinal": 125,
          "properties": {
           "BACK_COLOR": null,
           "FONT_FLAGS": 0,
           "FORE_COLOR": null
          },
          "value": "Non-Gaussian"
         },
         {
          "formattedValue": "Non-Gaussian",
          "ordinal": 126,
          "properties": {
           "BACK_COLOR": null,
           "FONT_FLAGS": 0,
           "FORE_COLOR": null
          },
          "value": "Non-Gaussian"
         },
         {
          "formattedValue": "Non-Gaussian",
          "ordinal": 127,
          "properties": {
           "BACK_COLOR": null,
           "FONT_FLAGS": 0,
           "FORE_COLOR": null
          },
          "value": "Non-Gaussian"
         },
         {
          "formattedValue": "Non-Gaussian",
          "ordinal": 128,
          "properties": {
           "BACK_COLOR": null,
           "FONT_FLAGS": 0,
           "FORE_COLOR": null
          },
          "value": "Non-Gaussian"
         },
         {
          "formattedValue": "Non-Gaussian",
          "ordinal": 129,
          "properties": {
           "BACK_COLOR": null,
           "FONT_FLAGS": 0,
           "FORE_COLOR": null
          },
          "value": "Non-Gaussian"
         },
         {
          "formattedValue": "Non-Gaussian",
          "ordinal": 130,
          "properties": {
           "BACK_COLOR": null,
           "FONT_FLAGS": 0,
           "FORE_COLOR": null
          },
          "value": "Non-Gaussian"
         },
         {
          "formattedValue": "Non-Gaussian",
          "ordinal": 131,
          "properties": {
           "BACK_COLOR": null,
           "FONT_FLAGS": 0,
           "FORE_COLOR": null
          },
          "value": "Non-Gaussian"
         },
         {
          "formattedValue": "Non-Gaussian",
          "ordinal": 132,
          "properties": {
           "BACK_COLOR": null,
           "FONT_FLAGS": 0,
           "FORE_COLOR": null
          },
          "value": "Non-Gaussian"
         },
         {
          "formattedValue": "Non-Gaussian",
          "ordinal": 133,
          "properties": {
           "BACK_COLOR": null,
           "FONT_FLAGS": 0,
           "FORE_COLOR": null
          },
          "value": "Non-Gaussian"
         },
         {
          "formattedValue": "Non-Gaussian",
          "ordinal": 134,
          "properties": {
           "BACK_COLOR": null,
           "FONT_FLAGS": 0,
           "FORE_COLOR": null
          },
          "value": "Non-Gaussian"
         },
         {
          "formattedValue": "Non-Gaussian",
          "ordinal": 135,
          "properties": {
           "BACK_COLOR": null,
           "FONT_FLAGS": 0,
           "FORE_COLOR": null
          },
          "value": "Non-Gaussian"
         },
         {
          "formattedValue": "Non-Gaussian",
          "ordinal": 136,
          "properties": {
           "BACK_COLOR": null,
           "FONT_FLAGS": 0,
           "FORE_COLOR": null
          },
          "value": "Non-Gaussian"
         },
         {
          "formattedValue": "Non-Gaussian",
          "ordinal": 137,
          "properties": {
           "BACK_COLOR": null,
           "FONT_FLAGS": 0,
           "FORE_COLOR": null
          },
          "value": "Non-Gaussian"
         },
         {
          "formattedValue": "Non-Gaussian",
          "ordinal": 138,
          "properties": {
           "BACK_COLOR": null,
           "FONT_FLAGS": 0,
           "FORE_COLOR": null
          },
          "value": "Non-Gaussian"
         },
         {
          "formattedValue": "Non-Gaussian",
          "ordinal": 139,
          "properties": {
           "BACK_COLOR": null,
           "FONT_FLAGS": 0,
           "FORE_COLOR": null
          },
          "value": "Non-Gaussian"
         },
         {
          "formattedValue": "Non-Gaussian",
          "ordinal": 140,
          "properties": {
           "BACK_COLOR": null,
           "FONT_FLAGS": 0,
           "FORE_COLOR": null
          },
          "value": "Non-Gaussian"
         },
         {
          "formattedValue": "Non-Gaussian",
          "ordinal": 141,
          "properties": {
           "BACK_COLOR": null,
           "FONT_FLAGS": 0,
           "FORE_COLOR": null
          },
          "value": "Non-Gaussian"
         },
         {
          "formattedValue": "Non-Gaussian",
          "ordinal": 142,
          "properties": {
           "BACK_COLOR": null,
           "FONT_FLAGS": 0,
           "FORE_COLOR": null
          },
          "value": "Non-Gaussian"
         },
         {
          "formattedValue": "Non-Gaussian",
          "ordinal": 143,
          "properties": {
           "BACK_COLOR": null,
           "FONT_FLAGS": 0,
           "FORE_COLOR": null
          },
          "value": "Non-Gaussian"
         },
         {
          "formattedValue": "Non-Gaussian",
          "ordinal": 144,
          "properties": {
           "BACK_COLOR": null,
           "FONT_FLAGS": 0,
           "FORE_COLOR": null
          },
          "value": "Non-Gaussian"
         },
         {
          "formattedValue": "Non-Gaussian",
          "ordinal": 145,
          "properties": {
           "BACK_COLOR": null,
           "FONT_FLAGS": 0,
           "FORE_COLOR": null
          },
          "value": "Non-Gaussian"
         },
         {
          "formattedValue": "Non-Gaussian",
          "ordinal": 146,
          "properties": {
           "BACK_COLOR": null,
           "FONT_FLAGS": 0,
           "FORE_COLOR": null
          },
          "value": "Non-Gaussian"
         },
         {
          "formattedValue": "Non-Gaussian",
          "ordinal": 147,
          "properties": {
           "BACK_COLOR": null,
           "FONT_FLAGS": 0,
           "FORE_COLOR": null
          },
          "value": "Non-Gaussian"
         },
         {
          "formattedValue": "Non-Gaussian",
          "ordinal": 148,
          "properties": {
           "BACK_COLOR": null,
           "FONT_FLAGS": 0,
           "FORE_COLOR": null
          },
          "value": "Non-Gaussian"
         },
         {
          "formattedValue": "Non-Gaussian",
          "ordinal": 149,
          "properties": {
           "BACK_COLOR": null,
           "FONT_FLAGS": 0,
           "FORE_COLOR": null
          },
          "value": "Non-Gaussian"
         },
         {
          "formattedValue": "Non-Gaussian",
          "ordinal": 150,
          "properties": {
           "BACK_COLOR": null,
           "FONT_FLAGS": 0,
           "FORE_COLOR": null
          },
          "value": "Non-Gaussian"
         },
         {
          "formattedValue": "Non-Gaussian",
          "ordinal": 151,
          "properties": {
           "BACK_COLOR": null,
           "FONT_FLAGS": 0,
           "FORE_COLOR": null
          },
          "value": "Non-Gaussian"
         },
         {
          "formattedValue": "Non-Gaussian",
          "ordinal": 152,
          "properties": {
           "BACK_COLOR": null,
           "FONT_FLAGS": 0,
           "FORE_COLOR": null
          },
          "value": "Non-Gaussian"
         },
         {
          "formattedValue": "Non-Gaussian",
          "ordinal": 153,
          "properties": {
           "BACK_COLOR": null,
           "FONT_FLAGS": 0,
           "FORE_COLOR": null
          },
          "value": "Non-Gaussian"
         },
         {
          "formattedValue": "Non-Gaussian",
          "ordinal": 154,
          "properties": {
           "BACK_COLOR": null,
           "FONT_FLAGS": 0,
           "FORE_COLOR": null
          },
          "value": "Non-Gaussian"
         },
         {
          "formattedValue": "Non-Gaussian",
          "ordinal": 155,
          "properties": {
           "BACK_COLOR": null,
           "FONT_FLAGS": 0,
           "FORE_COLOR": null
          },
          "value": "Non-Gaussian"
         }
        ],
        "cube": "Cryptocurrency cube",
        "defaultMembers": [
         {
          "captionPath": [
           "Count"
          ],
          "dimension": "Measures",
          "hierarchy": "Measures",
          "path": [
           "contributors.COUNT"
          ]
         },
         {
          "captionPath": [
           "BTC"
          ],
          "dimension": "Cryptocurrency",
          "hierarchy": "Coin Symbol",
          "path": [
           "BTC"
          ]
         },
         {
          "captionPath": [
           "Base"
          ],
          "dimension": "Epoch",
          "hierarchy": "Epoch",
          "path": [
           "Base"
          ]
         }
        ],
        "epoch": 4
       },
       "cube": "Cryptocurrency cube",
       "error": null,
       "name": "Distribution type of the time-series for each metric of the currency",
       "session": "Unnamed"
      },
      "text/html": [
       "<img src=\"data:image/svg+xml;charset=utf8,%3C?xml%20version=%221.0%22%20standalone=%22no%22?%3E%0A%20%20%20%20%3Csvg%20xmlns=%22http://www.w3.org/2000/svg%22%20width=%22951%22%20height=%22455%22%3E%0A%20%20%20%20%20%20%3CforeignObject%20x=%220%22%20y=%220%22%20width=%22100%25%22%20height=%22100%25%22%3E%0A%20%20%20%20%20%20%20%20%3Cstyle%20type=%22text/css%22%3E.css-xsa55j-dock%20%7Bposition:%20relative;%20z-index:%200;%20height:%20100%25;%20background-color:%20rgb(255,%20255,%20255);%20display:%20flex;%20flex-direction:%20column%7D%0A.css-1ibuxvk-DockBody%20%7Bpadding-top:%200px;%20padding-left:%200px;%20padding-right:%200px;%20padding-bottom:%200px;%20flex-grow:%201;%20flex-shrink:%201;%20flex-basis:%200%25;%20box-sizing:%20border-box;%20position:%20relative;%20z-index:%200;%20overflow-x:%20hidden;%20overflow-y:%20hidden%7D%0A.css-14zuz97%20%7Bbackground-image:%20initial;%20background-position-x:%20initial;%20background-position-y:%20initial;%20background-size:%20initial;%20background-repeat-x:%20initial;%20background-repeat-y:%20initial;%20background-attachment:%20initial;%20background-origin:%20initial;%20background-color:%20rgba(0,%200,%200,%200.2);%20z-index:%201;%20box-sizing:%20border-box;%20background-clip:%20padding-box%7D%0A.css-14zuz97.vertical%20%7Bwidth:%2012px;%20margin-top:%200px;%20margin-right:%20-6px;%20margin-bottom:%200px;%20margin-left:%20-6px;%20border-left-width:%205.5px;%20border-left-style:%20solid;%20border-left-color:%20transparent;%20border-right-width:%205.5px;%20border-right-style:%20solid;%20border-right-color:%20transparent;%20cursor:%20col-resize%7D%0A.css-14zuz97.disabled%20%7Bdisplay:%20none%7D%0A.css-1lrljg1-EditorSplitPane%20%7Bbackground-color:%20rgb(255,%20255,%20255);%20flex-grow:%201;%20flex-shrink:%201;%20flex-basis:%200%25;%20margin-right:%200px;%20position:%20relative%7D%0A.css-15fz3t7-EditorSplitPane%20%7Bposition:%20absolute;%20top:%200px;%20bottom:%200px;%20left:%200px;%20right:%200px;%20display:%20flex;%20flex-direction:%20column%7D%0A.css-1k1fxuh-Tabular%20%7Bwidth:%20100%25;%20height:%20100%25;%20position:%20relative%7D%0A.css-10klw3m%20%7Bheight:%20100%25%7D%0A.css-mdjjdg-TabularHeader%20%7Bdisplay:%20flex%7D%0A.css-12nzxaz-PinnedTabularHeaders%20%7Bflex-shrink:%200;%20display:%20flex%7D%0A.css-5jtkjp-UnpinnedTabularHeaders%20%7Bdisplay:%20flex;%20position:%20absolute;%20left:%200px%7D%0A.css-19w2ip5-TabularHeaderCell%20%7Bcursor:%20default;%20-webkit-box-flex:%201;%20flex-grow:%201;%20flex-shrink:%201;%20box-sizing:%20border-box;%20padding-left:%204px;%20padding-right:%204px;%20padding-top:%204px;%20padding-bottom:%204px;%20height:%20100%25;%20overflow-x:%20hidden;%20overflow-y:%20hidden;%20display:%20flex;%20white-space:%20nowrap;%20-webkit-box-pack:%20start;%20justify-content:%20flex-start;%20align-items:%20flex-start%7D%0A.css-jpazdc-TabularHeaderCell%20%7Boverflow-x:%20hidden;%20overflow-y:%20hidden;%20text-overflow:%20ellipsis%7D%0A.css-y3oqqp%20%7Bfont-size:%2012px;%20line-height:%2022px;%20font-weight:%20600;%20color:%20rgba(0,%200,%200,%200.85)%7D%0A.css-c7y3a7-TabularHeaderCell%20%7Bflex-shrink:%200;%20height:%20100%25;%20display:%20flex;%20-webkit-box-pack:%20center;%20justify-content:%20center%7D%0A.css-3cge9w%20%7Bcursor:%20cell;%20display:%20flex;%20height:%2028px;%20user-select:%20none%7D%0A.css-9ssj44-TreeCell%20%7Bwidth:%20min-content%7D%0A.css-mkrhzq%20%7Bdisplay:%20flex;%20margin-left:%200px%7D%0A.css-1i6gc04%20%7Bcursor:%20pointer;%20margin-top:%202px;%20height:%20inherit;%20display:%20flex;%20-webkit-box-align:%20center;%20align-items:%20center;%20font-size:%2010px;%20width:%2016px%7D%0A.css-8uhtka%20%7Boverflow-x:%20hidden;%20overflow-y:%20hidden;%20text-overflow:%20ellipsis;%20white-space:%20nowrap%7D%0A.css-1ouk3zc-EditorSplitPane%20%7Bbackground-color:%20rgb(255,%20255,%20255);%20flex-grow:%201;%20flex-shrink:%201;%20flex-basis:%200%25%7D%0A.css-1jjvrwi-EditorSplitPane%20%7Bposition:%20absolute;%20top:%200px;%20bottom:%200px;%20left:%200px;%20right:%200px;%20overflow-y:%20auto%7D%0A.css-1qlioq-TabularPinnSeparator%20%7Bwidth:%202px;%20height:%2056px;%20background-color:%20rgb(233,%20233,%20233)%7D%0A.css-siows-TabularHeaderGroup%20%7Bposition:%20relative;%20width:%20123px%7D%0A.css-g946p8%20%7Bcolor:%20rgba(0,%200,%200,%200.85);%20display:%20flex;%20box-sizing:%20border-box;%20-webkit-box-align:%20center;%20align-items:%20center;%20height:%2056px;%20position:%20absolute;%20top:%200px;%20left:%200px;%20user-select:%20none;%20font-size:%2012px;%20line-height:%2022px;%20font-weight:%20600;%20border-bottom-width:%202px;%20border-bottom-style:%20solid;%20border-bottom-color:%20rgb(233,%20233,%20233);%20width:%20123px;%20border-right-width:%201px;%20border-right-style:%20solid;%20border-right-color:%20rgb(233,%20233,%20233)%7D%0A.css-1ag4cda-TabularHeaderCell%20%7Bcursor:%20default;%20-webkit-box-flex:%201;%20flex-grow:%201;%20flex-shrink:%201;%20box-sizing:%20border-box;%20padding-left:%204px;%20padding-right:%204px;%20padding-top:%204px;%20padding-bottom:%204px;%20height:%20100%25;%20overflow-x:%20hidden;%20overflow-y:%20hidden;%20display:%20flex;%20overflow-wrap:%20break-word;%20-webkit-box-pack:%20start;%20justify-content:%20flex-start;%20align-items:%20flex-start%7D%0A.css-xamw03-HeaderResizer%20%7Bposition:%20absolute;%20z-index:%201;%20width:%2010px;%20height:%2056px;%20left:%20118px;%20top:%200px;%20cursor:%20col-resize%7D%0A.css-bo38p1-HeaderResizer%20%7Bposition:%20absolute;%20z-index:%201;%20height:%2010px;%20width:%20123px;%20left:%200px;%20top:%2051px;%20cursor:%20row-resize%7D%0A.css-pm742e%20%7Bcursor:%20pointer;%20margin-top:%202px;%20height:%20inherit;%20display:%20flex;%20-webkit-box-align:%20center;%20align-items:%20center;%20font-size:%2010px;%20-webkit-box-pack:%20center;%20justify-content:%20center;%20padding-left:%204px%7D%0A.css-8r2ljj-PinnedTabularRows%20%7Bposition:%20absolute;%20right:%200px%7D%0A.css-mkoicc-CaptionCellRenderer%20%7Bwidth:%20100%25;%20overflow-x:%20hidden;%20overflow-y:%20hidden;%20text-overflow:%20ellipsis;%20white-space:%20nowrap%7D%0A.css-1y4ip9m-HeaderResizer%20%7Bposition:%20absolute;%20z-index:%201;%20height:%2010px;%20width:%20102px;%20left:%200px;%20top:%2023px;%20cursor:%20row-resize%7D%0A.css-okc206%20%7Bcolor:%20rgba(0,%200,%200,%200.85);%20display:%20flex;%20box-sizing:%20border-box;%20-webkit-box-align:%20center;%20align-items:%20center;%20height:%2028px;%20position:%20absolute;%20top:%2028px;%20left:%200px;%20user-select:%20none;%20font-size:%2012px;%20line-height:%2022px;%20font-weight:%20600;%20border-bottom-width:%202px;%20border-bottom-style:%20solid;%20border-bottom-color:%20rgb(233,%20233,%20233);%20width:%20102px%7D%0A.css-1t205z1-HeaderResizer%20%7Bposition:%20absolute;%20z-index:%201;%20width:%2010px;%20height:%2028px;%20left:%2097px;%20top:%2028px;%20cursor:%20col-resize%7D%0A.css-1dwi3is-HeaderResizer%20%7Bposition:%20absolute;%20z-index:%201;%20height:%2010px;%20width:%20102px;%20left:%200px;%20top:%2051px;%20cursor:%20row-resize%7D%0A.css-1ftzmbw-HeaderResizer%20%7Bposition:%20absolute;%20z-index:%201;%20height:%2010px;%20width:%2089px;%20left:%20102px;%20top:%2023px;%20cursor:%20row-resize%7D%0A.css-1tjbwh8%20%7Bcolor:%20rgba(0,%200,%200,%200.85);%20display:%20flex;%20box-sizing:%20border-box;%20-webkit-box-align:%20center;%20align-items:%20center;%20height:%2028px;%20position:%20absolute;%20top:%2028px;%20left:%20102px;%20user-select:%20none;%20font-size:%2012px;%20line-height:%2022px;%20font-weight:%20600;%20border-bottom-width:%202px;%20border-bottom-style:%20solid;%20border-bottom-color:%20rgb(233,%20233,%20233);%20width:%2089px%7D%0A.css-61f355-HeaderResizer%20%7Bposition:%20absolute;%20z-index:%201;%20width:%2010px;%20height:%2028px;%20left:%20186px;%20top:%2028px;%20cursor:%20col-resize%7D%0A.css-nyxash-HeaderResizer%20%7Bposition:%20absolute;%20z-index:%201;%20height:%2010px;%20width:%2089px;%20left:%20102px;%20top:%2051px;%20cursor:%20row-resize%7D%0A.css-1mogmnb-HeaderResizer%20%7Bposition:%20absolute;%20z-index:%201;%20height:%2010px;%20width:%2087px;%20left:%20191px;%20top:%2023px;%20cursor:%20row-resize%7D%0A.css-1w9xmv4%20%7Bcolor:%20rgba(0,%200,%200,%200.85);%20display:%20flex;%20box-sizing:%20border-box;%20-webkit-box-align:%20center;%20align-items:%20center;%20height:%2028px;%20position:%20absolute;%20top:%2028px;%20left:%20191px;%20user-select:%20none;%20font-size:%2012px;%20line-height:%2022px;%20font-weight:%20600;%20border-bottom-width:%202px;%20border-bottom-style:%20solid;%20border-bottom-color:%20rgb(233,%20233,%20233);%20width:%2087px%7D%0A.css-1e95oul-HeaderResizer%20%7Bposition:%20absolute;%20z-index:%201;%20width:%2010px;%20height:%2028px;%20left:%20273px;%20top:%2028px;%20cursor:%20col-resize%7D%0A.css-1i2s42u-HeaderResizer%20%7Bposition:%20absolute;%20z-index:%201;%20height:%2010px;%20width:%2087px;%20left:%20191px;%20top:%2051px;%20cursor:%20row-resize%7D%0A.css-1et9fpk-HeaderResizer%20%7Bposition:%20absolute;%20z-index:%201;%20height:%2010px;%20width:%2087px;%20left:%20278px;%20top:%2023px;%20cursor:%20row-resize%7D%0A.css-17bhe8e%20%7Bcolor:%20rgba(0,%200,%200,%200.85);%20display:%20flex;%20box-sizing:%20border-box;%20-webkit-box-align:%20center;%20align-items:%20center;%20height:%2028px;%20position:%20absolute;%20top:%2028px;%20left:%20278px;%20user-select:%20none;%20font-size:%2012px;%20line-height:%2022px;%20font-weight:%20600;%20border-bottom-width:%202px;%20border-bottom-style:%20solid;%20border-bottom-color:%20rgb(233,%20233,%20233);%20width:%2087px%7D%0A.css-71ybhw-HeaderResizer%20%7Bposition:%20absolute;%20z-index:%201;%20width:%2010px;%20height:%2028px;%20left:%20360px;%20top:%2028px;%20cursor:%20col-resize%7D%0A.css-wr2gie-HeaderResizer%20%7Bposition:%20absolute;%20z-index:%201;%20height:%2010px;%20width:%2087px;%20left:%20278px;%20top:%2051px;%20cursor:%20row-resize%7D%0A.css-5g657d-HeaderResizer%20%7Bposition:%20absolute;%20z-index:%201;%20height:%2010px;%20width:%2093px;%20left:%20365px;%20top:%2023px;%20cursor:%20row-resize%7D%0A.css-1w8oy73%20%7Bcolor:%20rgba(0,%200,%200,%200.85);%20display:%20flex;%20box-sizing:%20border-box;%20-webkit-box-align:%20center;%20align-items:%20center;%20height:%2028px;%20position:%20absolute;%20top:%2028px;%20left:%20365px;%20user-select:%20none;%20font-size:%2012px;%20line-height:%2022px;%20font-weight:%20600;%20border-bottom-width:%202px;%20border-bottom-style:%20solid;%20border-bottom-color:%20rgb(233,%20233,%20233);%20width:%2093px%7D%0A.css-1vn7987-HeaderResizer%20%7Bposition:%20absolute;%20z-index:%201;%20width:%2010px;%20height:%2028px;%20left:%20453px;%20top:%2028px;%20cursor:%20col-resize%7D%0A.css-jkte4t-HeaderResizer%20%7Bposition:%20absolute;%20z-index:%201;%20height:%2010px;%20width:%2093px;%20left:%20365px;%20top:%2051px;%20cursor:%20row-resize%7D%0A.css-1ngvppn-HeaderResizer%20%7Bposition:%20absolute;%20z-index:%201;%20height:%2010px;%20width:%2091px;%20left:%20458px;%20top:%2023px;%20cursor:%20row-resize%7D%0A.css-1e6icg7%20%7Bcolor:%20rgba(0,%200,%200,%200.85);%20display:%20flex;%20box-sizing:%20border-box;%20-webkit-box-align:%20center;%20align-items:%20center;%20height:%2028px;%20position:%20absolute;%20top:%2028px;%20left:%20458px;%20user-select:%20none;%20font-size:%2012px;%20line-height:%2022px;%20font-weight:%20600;%20border-bottom-width:%202px;%20border-bottom-style:%20solid;%20border-bottom-color:%20rgb(233,%20233,%20233);%20width:%2091px%7D%0A.css-cunu7k-HeaderResizer%20%7Bposition:%20absolute;%20z-index:%201;%20width:%2010px;%20height:%2028px;%20left:%20544px;%20top:%2028px;%20cursor:%20col-resize%7D%0A.css-1cmg3bk-HeaderResizer%20%7Bposition:%20absolute;%20z-index:%201;%20height:%2010px;%20width:%2091px;%20left:%20458px;%20top:%2051px;%20cursor:%20row-resize%7D%0A.css-pll9fm-HeaderResizer%20%7Bposition:%20absolute;%20z-index:%201;%20height:%2010px;%20width:%2093px;%20left:%20549px;%20top:%2023px;%20cursor:%20row-resize%7D%0A.css-1wyuu38%20%7Bcolor:%20rgba(0,%200,%200,%200.85);%20display:%20flex;%20box-sizing:%20border-box;%20-webkit-box-align:%20center;%20align-items:%20center;%20height:%2028px;%20position:%20absolute;%20top:%2028px;%20left:%20549px;%20user-select:%20none;%20font-size:%2012px;%20line-height:%2022px;%20font-weight:%20600;%20border-bottom-width:%202px;%20border-bottom-style:%20solid;%20border-bottom-color:%20rgb(233,%20233,%20233);%20width:%2093px%7D%0A.css-1pxtbzw-HeaderResizer%20%7Bposition:%20absolute;%20z-index:%201;%20width:%2010px;%20height:%2028px;%20left:%20637px;%20top:%2028px;%20cursor:%20col-resize%7D%0A.css-de1lrt-HeaderResizer%20%7Bposition:%20absolute;%20z-index:%201;%20height:%2010px;%20width:%2093px;%20left:%20549px;%20top:%2051px;%20cursor:%20row-resize%7D%0A.css-1ajxbon-HeaderResizer%20%7Bposition:%20absolute;%20z-index:%201;%20height:%2010px;%20width:%2091px;%20left:%20642px;%20top:%2023px;%20cursor:%20row-resize%7D%0A.css-9f30j1%20%7Bcolor:%20rgba(0,%200,%200,%200.85);%20display:%20flex;%20box-sizing:%20border-box;%20-webkit-box-align:%20center;%20align-items:%20center;%20height:%2028px;%20position:%20absolute;%20top:%2028px;%20left:%20642px;%20user-select:%20none;%20font-size:%2012px;%20line-height:%2022px;%20font-weight:%20600;%20border-bottom-width:%202px;%20border-bottom-style:%20solid;%20border-bottom-color:%20rgb(233,%20233,%20233);%20width:%2091px%7D%0A.css-11xnu25-HeaderResizer%20%7Bposition:%20absolute;%20z-index:%201;%20width:%2010px;%20height:%2028px;%20left:%20728px;%20top:%2028px;%20cursor:%20col-resize%7D%0A.css-1yw5vtr-HeaderResizer%20%7Bposition:%20absolute;%20z-index:%201;%20height:%2010px;%20width:%2091px;%20left:%20642px;%20top:%2051px;%20cursor:%20row-resize%7D%0A.css-15nwcq5-HeaderResizer%20%7Bposition:%20absolute;%20z-index:%201;%20height:%2010px;%20width:%2088px;%20left:%20733px;%20top:%2023px;%20cursor:%20row-resize%7D%0A.css-8u3utb-HeaderResizer%20%7Bposition:%20absolute;%20z-index:%201;%20width:%2010px;%20height:%2028px;%20left:%20816px;%20top:%2028px;%20cursor:%20col-resize%7D%0A.css-j0q64s-HeaderResizer%20%7Bposition:%20absolute;%20z-index:%201;%20height:%2010px;%20width:%2088px;%20left:%20733px;%20top:%2051px;%20cursor:%20row-resize%7D%0A.css-1zppre-PinnedTabularRows%20%7Bposition:%20absolute;%20height:%20379px;%20width:%20125px;%20overflow-x:%20hidden;%20overflow-y:%20hidden%7D%0A.css-1b5mleq%20%7Bheight:%20100%25;%20box-sizing:%20border-box;%20display:%20flex;%20-webkit-box-pack:%20end;%20justify-content:%20flex-end;%20flex-direction:%20column;%20padding-top:%204px;%20padding-left:%204px;%20padding-right:%204px;%20padding-bottom:%203px;%20overflow-x:%20hidden;%20overflow-y:%20hidden;%20white-space:%20nowrap;%20border-right-width:%201px;%20border-right-style:%20solid;%20border-right-color:%20rgb(233,%20233,%20233);%20border-bottom-width:%201px;%20border-bottom-style:%20solid;%20border-bottom-color:%20rgb(233,%20233,%20233);%20width:%20123px;%20align-items:%20flex-start;%20background-color:%20rgb(250,%20250,%20250)%7D%0A.css-gzuqz0-TabularCell%20%7Bheight:%2028px;%20box-sizing:%20border-box;%20display:%20flex;%20-webkit-box-pack:%20end;%20justify-content:%20flex-end;%20flex-direction:%20column;%20padding-top:%204px;%20padding-left:%204px;%20padding-right:%204px;%20padding-bottom:%203px;%20overflow-x:%20hidden;%20overflow-y:%20hidden;%20white-space:%20nowrap;%20border-right-width:%201px;%20border-right-style:%20solid;%20border-right-color:%20rgb(233,%20233,%20233);%20border-bottom-width:%201px;%20border-bottom-style:%20solid;%20border-bottom-color:%20rgb(233,%20233,%20233);%20width:%20102px;%20background-color:%20rgb(250,%20250,%20250);%20cursor:%20cell;%20user-select:%20none;%20text-align:%20right;%20align-items:%20flex-end%7D%0A.css-1t3zoy6-TabularCell%20%7Bheight:%2028px;%20box-sizing:%20border-box;%20display:%20flex;%20-webkit-box-pack:%20end;%20justify-content:%20flex-end;%20flex-direction:%20column;%20padding-top:%204px;%20padding-left:%204px;%20padding-right:%204px;%20padding-bottom:%203px;%20overflow-x:%20hidden;%20overflow-y:%20hidden;%20white-space:%20nowrap;%20border-right-width:%201px;%20border-right-style:%20solid;%20border-right-color:%20rgb(233,%20233,%20233);%20border-bottom-width:%201px;%20border-bottom-style:%20solid;%20border-bottom-color:%20rgb(233,%20233,%20233);%20width:%2089px;%20background-color:%20rgb(250,%20250,%20250);%20cursor:%20cell;%20user-select:%20none;%20text-align:%20right;%20align-items:%20flex-end%7D%0A.css-tdy258-TabularCell%20%7Bheight:%2028px;%20box-sizing:%20border-box;%20display:%20flex;%20-webkit-box-pack:%20end;%20justify-content:%20flex-end;%20flex-direction:%20column;%20padding-top:%204px;%20padding-left:%204px;%20padding-right:%204px;%20padding-bottom:%203px;%20overflow-x:%20hidden;%20overflow-y:%20hidden;%20white-space:%20nowrap;%20border-right-width:%201px;%20border-right-style:%20solid;%20border-right-color:%20rgb(233,%20233,%20233);%20border-bottom-width:%201px;%20border-bottom-style:%20solid;%20border-bottom-color:%20rgb(233,%20233,%20233);%20width:%2087px;%20background-color:%20rgb(250,%20250,%20250);%20cursor:%20cell;%20user-select:%20none;%20text-align:%20right;%20align-items:%20flex-end%7D%0A.css-uwjp4j-TabularCell%20%7Bheight:%2028px;%20box-sizing:%20border-box;%20display:%20flex;%20-webkit-box-pack:%20end;%20justify-content:%20flex-end;%20flex-direction:%20column;%20padding-top:%204px;%20padding-left:%204px;%20padding-right:%204px;%20padding-bottom:%203px;%20overflow-x:%20hidden;%20overflow-y:%20hidden;%20white-space:%20nowrap;%20border-right-width:%201px;%20border-right-style:%20solid;%20border-right-color:%20rgb(233,%20233,%20233);%20border-bottom-width:%201px;%20border-bottom-style:%20solid;%20border-bottom-color:%20rgb(233,%20233,%20233);%20width:%2093px;%20background-color:%20rgb(250,%20250,%20250);%20cursor:%20cell;%20user-select:%20none;%20text-align:%20right;%20align-items:%20flex-end%7D%0A.css-1qs30jf-TabularCell%20%7Bheight:%2028px;%20box-sizing:%20border-box;%20display:%20flex;%20-webkit-box-pack:%20end;%20justify-content:%20flex-end;%20flex-direction:%20column;%20padding-top:%204px;%20padding-left:%204px;%20padding-right:%204px;%20padding-bottom:%203px;%20overflow-x:%20hidden;%20overflow-y:%20hidden;%20white-space:%20nowrap;%20border-right-width:%201px;%20border-right-style:%20solid;%20border-right-color:%20rgb(233,%20233,%20233);%20border-bottom-width:%201px;%20border-bottom-style:%20solid;%20border-bottom-color:%20rgb(233,%20233,%20233);%20width:%2091px;%20background-color:%20rgb(250,%20250,%20250);%20cursor:%20cell;%20user-select:%20none;%20text-align:%20right;%20align-items:%20flex-end%7D%0A.css-17pp5jj-TabularCell%20%7Bheight:%2028px;%20box-sizing:%20border-box;%20display:%20flex;%20-webkit-box-pack:%20end;%20justify-content:%20flex-end;%20flex-direction:%20column;%20padding-top:%204px;%20padding-left:%204px;%20padding-right:%204px;%20padding-bottom:%203px;%20overflow-x:%20hidden;%20overflow-y:%20hidden;%20white-space:%20nowrap;%20border-right-width:%201px;%20border-right-style:%20solid;%20border-right-color:%20rgb(233,%20233,%20233);%20border-bottom-width:%201px;%20border-bottom-style:%20solid;%20border-bottom-color:%20rgb(233,%20233,%20233);%20width:%2088px;%20background-color:%20rgb(250,%20250,%20250);%20cursor:%20cell;%20user-select:%20none;%20text-align:%20right;%20align-items:%20flex-end%7D%0A.css-12f9a5a-SelectionStatistics%20%7Bheight:%2020px;%20display:%20flex;%20padding-top:%205px;%20opacity:%201;%20transition-duration:%20300ms;%20transition-timing-function:%20ease;%20transition-delay:%200s;%20transition-property:%20opacity;%20position:%20absolute;%20right:%200px;%20left:%20unset%7D%0A.css-kvknp0-SelectionStatistics%20%7Bheight:%20100%25;%20margin-right:%200px;%20cursor:%20pointer;%20display:%20flex;%20-webkit-box-align:%20center;%20align-items:%20center%7D%0A.css-srwpgf-SelectionStatistics%20%7Bmargin-right:%205px%7D%0A.css-88jil9-SelectionStatistics%20%7Bpadding-top:%201px%7D%0A.css-1g4nfkl-Tabular%20%7Bposition:%20relative;%20height:%20100%25;%20width:%20951px%7D%0A.css-138m9u5-UnpinnedTabularHeaders%20%7Boverflow-x:%20hidden;%20overflow-y:%20hidden;%20position:%20relative;%20width:%20828px;%20height:%2056px%7D%0A.css-1r75vwv-TabularHeaderGroup%20%7Bposition:%20relative;%20width:%20821px%7D%0A.css-1e5d2xm%20%7Bfont-size:%2012px;%20line-height:%2022px;%20font-weight:%20600;%20color:%20rgba(0,%200,%200,%200.85);%20text-align:%20center;%20-webkit-box-align:%20center;%20align-items:%20center;%20box-sizing:%20border-box;%20padding-left:%203px;%20padding-right:%203px;%20padding-top:%204px;%20padding-bottom:%204px;%20border-right-width:%201px;%20border-right-style:%20solid;%20border-right-color:%20rgb(233,%20233,%20233);%20width:%20821px;%20height:%2028px;%20position:%20absolute;%20top:%200px;%20left:%200px;%20cursor:%20auto;%20user-select:%20none;%20white-space:%20nowrap;%20text-overflow:%20ellipsis;%20overflow-x:%20hidden;%20overflow-y:%20hidden%7D%0A.css-1nm6c0g%20%7Bcolor:%20rgba(0,%200,%200,%200.85);%20display:%20flex;%20box-sizing:%20border-box;%20-webkit-box-align:%20center;%20align-items:%20center;%20height:%2028px;%20position:%20absolute;%20top:%2028px;%20left:%20733px;%20user-select:%20none;%20font-size:%2012px;%20line-height:%2022px;%20font-weight:%20600;%20border-bottom-width:%202px;%20border-bottom-style:%20solid;%20border-bottom-color:%20rgb(233,%20233,%20233);%20width:%2088px;%20border-right-width:%201px;%20border-right-style:%20solid;%20border-right-color:%20rgb(233,%20233,%20233)%7D%0A.css-x98e1j-TabularBody%20%7Bposition:%20relative;%20overflow-x:%20hidden;%20overflow-y:%20hidden;%20top:%200px;%20width:%20951px;%20height:%20379px%7D%0A.css-xyh4mh-UnpinnedTabularRows%20%7Bposition:%20absolute;%20overflow-x:%20hidden;%20overflow-y:%20hidden;%20left:%20125px;%20height:%20362px;%20width:%20809px%7D%0A.css-3hqui3%20%7Bheight:%20362px;%20overflow-y:%20auto;%20overflow-x:%20hidden;%20z-index:%201%7D%0A.css-wm7pws%20%7Bheight:%204706px;%20width:%201px%7D%0A.css-b3f9z5%20%7Bwidth:%20811px;%20left:%20125px;%20position:%20absolute;%20bottom:%200px;%20overflow-x:%20auto;%20overflow-y:%20hidden;%20z-index:%201%7D%0A.css-zrjtp7%20%7Bwidth:%201089px;%20height:%201px%7D%0A.css-j0t794-TabularSelectionOverlay%20%7Bposition:%20absolute;%20pointer-events:%20none;%20top:%200px;%20left:%20316px;%20height:%200px;%20width:%2087px;%20background-image:%20initial;%20background-position-x:%20initial;%20background-position-y:%20initial;%20background-size:%20initial;%20background-repeat-x:%20initial;%20background-repeat-y:%20initial;%20background-attachment:%20initial;%20background-origin:%20initial;%20background-clip:%20initial;%20background-color:%20rgba(0,%20140,%20255,%200.1);%20border-top-width:%201px;%20border-right-width:%201px;%20border-bottom-width:%201px;%20border-left-width:%201px;%20border-top-style:%20solid;%20border-right-style:%20solid;%20border-bottom-style:%20solid;%20border-left-style:%20solid;%20border-top-color:%20rgb(77,%20181,%20255);%20border-right-color:%20rgb(77,%20181,%20255);%20border-bottom-color:%20rgb(77,%20181,%20255);%20border-left-color:%20rgb(77,%20181,%20255);%20border-image-source:%20initial;%20border-image-slice:%20initial;%20border-image-width:%20initial;%20border-image-outset:%20initial;%20border-image-repeat:%20initial;%20display:%20none%7D%0A.css-10a9a5n-PinnedTabularRows%20%7Bposition:%20absolute;%20overflow-x:%20hidden;%20overflow-y:%20hidden;%20top:%200.00234946px;%20width:%20123px%7D%0A.css-1d0ye66-PinnedTabularRows%20%7Bwidth:%202px;%20height:%2028.0023px;%20background-color:%20rgb(233,%20233,%20233)%7D%0A.css-9n0xdk-UnpinnedTabularRows%20%7Bposition:%20absolute;%20top:%200.00234946px;%20left:%200px%7D%0A.ant-root%20html,%20.ant-root%20%7Bwidth:%20100%25;%20height:%20100%25%7D%0A.ant-root%20*,%20.ant-root%20::before,%20.ant-root%20::after%20%7Bbox-sizing:%20border-box%7D%0A.ant-root%20%7Bmargin-top:%200px;%20margin-right:%200px;%20margin-bottom:%200px;%20margin-left:%200px;%20color:%20rgba(0,%200,%200,%200.65);%20font-size:%2014px;%20font-family:%20-apple-system,%20BlinkMacSystemFont,%20%22Segoe%20UI%22,%20%22PingFang%20SC%22,%20%22Hiragino%20Sans%20GB%22,%20%22Microsoft%20YaHei%22,%20%22Helvetica%20Neue%22,%20Helvetica,%20Arial,%20sans-serif,%20%22Apple%20Color%20Emoji%22,%20%22Segoe%20UI%20Emoji%22,%20%22Segoe%20UI%20Symbol%22;%20font-variant-ligatures:%20normal;%20font-variant-numeric:%20tabular-nums;%20font-variant-east-asian:%20normal;%20font-variant-caps:%20normal;%20line-height:%201.5;%20background-color:%20rgb(255,%20255,%20255);%20font-feature-settings:%20%22tnum%22;%20--antd-wave-shadow-color:%20undefined%7D%0A.ant-root%20b,%20.ant-root%20strong%20%7Bfont-weight:%20bolder%7D%0A.ant-root%20.anticon%20%7Bdisplay:%20inline-block;%20color:%20inherit;%20font-style:%20normal;%20line-height:%200;%20text-align:%20center;%20text-transform:%20none;%20vertical-align:%20-0.125em;%20text-rendering:%20optimizelegibility;%20-webkit-font-smoothing:%20antialiased%7D%0A.ant-root%20.ant-typography%20%7Bcolor:%20rgba(0,%200,%200,%200.65)%7D%0A.ant-root%20.ant-typography%20strong%20%7Bfont-weight:%20600%7D%0A.css-16andgf%20%7Bheight:%20100%25%7D%0A.css-16andgf%20.ant-root:not(.atoti-widget-chooser)%20%7Bbox-shadow:%20none%7D%3C/style%3E%0A%20%20%20%20%20%20%20%20%3Cdiv%20xmlns=%22http://www.w3.org/1999/xhtml%22%20style=%22height:%20455px;%20width:%20951px%22%3E%0A%20%20%20%20%20%20%20%20%20%20%3Cdiv%20xmlns=%22http://www.w3.org/1999/xhtml%22%20class=%22css-16andgf%22%3E%3Cdiv%20class=%22ant-root%20css-xsa55j-dock%22%3E%3Cdiv%20class=%22css-1ibuxvk-DockBody%22%3E%3Cdiv%20class=%22SplitPane%20%20vertical%20disabled%22%20style=%22display:%20flex;%20flex:%201%201%200%25;%20height:%20100%25;%20position:%20relative;%20outline:%20none;%20overflow:%20hidden;%20user-select:%20text;%20flex-direction:%20row;%20left:%200px;%20right:%200px;%22%3E%3Cdiv%20class=%22Pane%20vertical%20Pane1%20%20%22%20style=%22flex:%201%201%200%25;%20position:%20relative;%20outline:%20none;%20display:%20flex;%20background-color:%20rgb(255,%20255,%20255);%22%3E%3Cdiv%20class=%22css-1lrljg1-EditorSplitPane%22%3E%3Cdiv%20class=%22css-15fz3t7-EditorSplitPane%22%3E%3Cdiv%20class=%22css-1k1fxuh-Tabular%22%3E%3Cdiv%20class=%22css-10klw3m%22%3E%3Cdiv%20tabindex=%220%22%20class=%22css-1g4nfkl-Tabular%22%3E%3Cdiv%20class=%22css-192kvjv-Tabular%22%3E%3Cdiv%20class=%22css-mdjjdg-TabularHeader%22%3E%3Cdiv%20class=%22css-12nzxaz-PinnedTabularHeaders%22%3E%3Cdiv%20class=%22css-siows-TabularHeaderGroup%22%3E%3Cdiv%20class=%22css-g946p8%22%3E%3Cdiv%20class=%22css-1ag4cda-TabularHeaderCell%22%3E%3Cspan%20class=%22css-jpazdc-TabularHeaderCell%22%3E%3Cspan%3E%3Cspan%3E%3Cspan%20class=%22css-y3oqqp%22%3Emetric_name%3C/span%3E%3C/span%3E%3C/span%3E%3C/span%3E%3C/div%3E%3Cdiv%20class=%22css-c7y3a7-TabularHeaderCell%22%3E%3C/div%3E%3C/div%3E%3Cdiv%20class=%22css-xamw03-HeaderResizer%22%3E%3C/div%3E%3Cdiv%20class=%22css-bo38p1-HeaderResizer%22%3E%3C/div%3E%3C/div%3E%3Cdiv%20class=%22css-1qlioq-TabularPinnSeparator%22%3E%3C/div%3E%3C/div%3E%3Cdiv%20class=%22css-138m9u5-UnpinnedTabularHeaders%22%3E%3Cdiv%20class=%22css-5jtkjp-UnpinnedTabularHeaders%22%3E%3Cdiv%20class=%22css-1r75vwv-TabularHeaderGroup%22%3E%3Cdiv%20class=%22css-1e5d2xm%22%3EDistribution%20type%3C/div%3E%3Cdiv%20class=%22css-1y4ip9m-HeaderResizer%22%3E%3C/div%3E%3Cdiv%20class=%22css-okc206%22%3E%3Cdiv%20class=%22css-pm742e%22%3E%3Ci%20aria-label=%22icon:%20right%22%20width=%221em%22%20height=%221em%22%20class=%22anticon%20anticon-right%22%3E%3C/i%3E%3C/div%3E%3Cdiv%20class=%22css-19w2ip5-TabularHeaderCell%22%3E%3Cspan%20class=%22css-jpazdc-TabularHeaderCell%22%3E%3Cspan%3EADA%3C/span%3E%3C/span%3E%3C/div%3E%3Cdiv%20class=%22css-c7y3a7-TabularHeaderCell%22%3E%3C/div%3E%3C/div%3E%3Cdiv%20class=%22css-1t205z1-HeaderResizer%22%3E%3C/div%3E%3Cdiv%20class=%22css-1dwi3is-HeaderResizer%22%3E%3C/div%3E%3Cdiv%20class=%22css-1ftzmbw-HeaderResizer%22%3E%3C/div%3E%3Cdiv%20class=%22css-1tjbwh8%22%3E%3Cdiv%20class=%22css-pm742e%22%3E%3Ci%20aria-label=%22icon:%20right%22%20width=%221em%22%20height=%221em%22%20class=%22anticon%20anticon-right%22%3E%3C/i%3E%3C/div%3E%3Cdiv%20class=%22css-19w2ip5-TabularHeaderCell%22%3E%3Cspan%20class=%22css-jpazdc-TabularHeaderCell%22%3E%3Cspan%3EBCH%3C/span%3E%3C/span%3E%3C/div%3E%3Cdiv%20class=%22css-c7y3a7-TabularHeaderCell%22%3E%3C/div%3E%3C/div%3E%3Cdiv%20class=%22css-61f355-HeaderResizer%22%3E%3C/div%3E%3Cdiv%20class=%22css-nyxash-HeaderResizer%22%3E%3C/div%3E%3Cdiv%20class=%22css-1mogmnb-HeaderResizer%22%3E%3C/div%3E%3Cdiv%20class=%22css-1w9xmv4%22%3E%3Cdiv%20class=%22css-pm742e%22%3E%3Ci%20aria-label=%22icon:%20right%22%20width=%221em%22%20height=%221em%22%20class=%22anticon%20anticon-right%22%3E%3C/i%3E%3C/div%3E%3Cdiv%20class=%22css-19w2ip5-TabularHeaderCell%22%3E%3Cspan%20class=%22css-jpazdc-TabularHeaderCell%22%3E%3Cspan%3EBNB%3C/span%3E%3C/span%3E%3C/div%3E%3Cdiv%20class=%22css-c7y3a7-TabularHeaderCell%22%3E%3C/div%3E%3C/div%3E%3Cdiv%20class=%22css-1e95oul-HeaderResizer%22%3E%3C/div%3E%3Cdiv%20class=%22css-1i2s42u-HeaderResizer%22%3E%3C/div%3E%3Cdiv%20class=%22css-1et9fpk-HeaderResizer%22%3E%3C/div%3E%3Cdiv%20class=%22css-17bhe8e%22%3E%3Cdiv%20class=%22css-pm742e%22%3E%3Ci%20aria-label=%22icon:%20right%22%20width=%221em%22%20height=%221em%22%20class=%22anticon%20anticon-right%22%3E%3C/i%3E%3C/div%3E%3Cdiv%20class=%22css-19w2ip5-TabularHeaderCell%22%3E%3Cspan%20class=%22css-jpazdc-TabularHeaderCell%22%3E%3Cspan%3EBSV%3C/span%3E%3C/span%3E%3C/div%3E%3Cdiv%20class=%22css-c7y3a7-TabularHeaderCell%22%3E%3C/div%3E%3C/div%3E%3Cdiv%20class=%22css-71ybhw-HeaderResizer%22%3E%3C/div%3E%3Cdiv%20class=%22css-wr2gie-HeaderResizer%22%3E%3C/div%3E%3Cdiv%20class=%22css-5g657d-HeaderResizer%22%3E%3C/div%3E%3Cdiv%20class=%22css-1w8oy73%22%3E%3Cdiv%20class=%22css-pm742e%22%3E%3Ci%20aria-label=%22icon:%20right%22%20width=%221em%22%20height=%221em%22%20class=%22anticon%20anticon-right%22%3E%3C/i%3E%3C/div%3E%3Cdiv%20class=%22css-19w2ip5-TabularHeaderCell%22%3E%3Cspan%20class=%22css-jpazdc-TabularHeaderCell%22%3E%3Cspan%3EEOS%3C/span%3E%3C/span%3E%3C/div%3E%3Cdiv%20class=%22css-c7y3a7-TabularHeaderCell%22%3E%3C/div%3E%3C/div%3E%3Cdiv%20class=%22css-1vn7987-HeaderResizer%22%3E%3C/div%3E%3Cdiv%20class=%22css-jkte4t-HeaderResizer%22%3E%3C/div%3E%3Cdiv%20class=%22css-1ngvppn-HeaderResizer%22%3E%3C/div%3E%3Cdiv%20class=%22css-1e6icg7%22%3E%3Cdiv%20class=%22css-pm742e%22%3E%3Ci%20aria-label=%22icon:%20right%22%20width=%221em%22%20height=%221em%22%20class=%22anticon%20anticon-right%22%3E%3C/i%3E%3C/div%3E%3Cdiv%20class=%22css-19w2ip5-TabularHeaderCell%22%3E%3Cspan%20class=%22css-jpazdc-TabularHeaderCell%22%3E%3Cspan%3EBTC%3C/span%3E%3C/span%3E%3C/div%3E%3Cdiv%20class=%22css-c7y3a7-TabularHeaderCell%22%3E%3C/div%3E%3C/div%3E%3Cdiv%20class=%22css-cunu7k-HeaderResizer%22%3E%3C/div%3E%3Cdiv%20class=%22css-1cmg3bk-HeaderResizer%22%3E%3C/div%3E%3Cdiv%20class=%22css-pll9fm-HeaderResizer%22%3E%3C/div%3E%3Cdiv%20class=%22css-1wyuu38%22%3E%3Cdiv%20class=%22css-pm742e%22%3E%3Ci%20aria-label=%22icon:%20right%22%20width=%221em%22%20height=%221em%22%20class=%22anticon%20anticon-right%22%3E%3C/i%3E%3C/div%3E%3Cdiv%20class=%22css-19w2ip5-TabularHeaderCell%22%3E%3Cspan%20class=%22css-jpazdc-TabularHeaderCell%22%3E%3Cspan%3EETH%3C/span%3E%3C/span%3E%3C/div%3E%3Cdiv%20class=%22css-c7y3a7-TabularHeaderCell%22%3E%3C/div%3E%3C/div%3E%3Cdiv%20class=%22css-1pxtbzw-HeaderResizer%22%3E%3C/div%3E%3Cdiv%20class=%22css-de1lrt-HeaderResizer%22%3E%3C/div%3E%3Cdiv%20class=%22css-1ajxbon-HeaderResizer%22%3E%3C/div%3E%3Cdiv%20class=%22css-9f30j1%22%3E%3Cdiv%20class=%22css-pm742e%22%3E%3Ci%20aria-label=%22icon:%20right%22%20width=%221em%22%20height=%221em%22%20class=%22anticon%20anticon-right%22%3E%3C/i%3E%3C/div%3E%3Cdiv%20class=%22css-19w2ip5-TabularHeaderCell%22%3E%3Cspan%20class=%22css-jpazdc-TabularHeaderCell%22%3E%3Cspan%3ELINK%3C/span%3E%3C/span%3E%3C/div%3E%3Cdiv%20class=%22css-c7y3a7-TabularHeaderCell%22%3E%3C/div%3E%3C/div%3E%3Cdiv%20class=%22css-11xnu25-HeaderResizer%22%3E%3C/div%3E%3Cdiv%20class=%22css-1yw5vtr-HeaderResizer%22%3E%3C/div%3E%3Cdiv%20class=%22css-15nwcq5-HeaderResizer%22%3E%3C/div%3E%3Cdiv%20class=%22css-1nm6c0g%22%3E%3Cdiv%20class=%22css-pm742e%22%3E%3Ci%20aria-label=%22icon:%20right%22%20width=%221em%22%20height=%221em%22%20class=%22anticon%20anticon-right%22%3E%3C/i%3E%3C/div%3E%3Cdiv%20class=%22css-19w2ip5-TabularHeaderCell%22%3E%3Cspan%20class=%22css-jpazdc-TabularHeaderCell%22%3E%3Cspan%3ELTC%3C/span%3E%3C/span%3E%3C/div%3E%3Cdiv%20class=%22css-c7y3a7-TabularHeaderCell%22%3E%3C/div%3E%3C/div%3E%3Cdiv%20class=%22css-8u3utb-HeaderResizer%22%3E%3C/div%3E%3Cdiv%20class=%22css-j0q64s-HeaderResizer%22%3E%3C/div%3E%3C/div%3E%3C/div%3E%3C/div%3E%3C/div%3E%3Cdiv%20class=%22css-x98e1j-TabularBody%22%3E%3Cdiv%20class=%22css-1zppre-PinnedTabularRows%22%3E%3Cdiv%20class=%22css-10a9a5n-PinnedTabularRows%22%3E%3Cdiv%20class=%22css-3cge9w%22%3E%3Cdiv%3E%3Cdiv%20class=%22css-1b5mleq%22%3E%3Cdiv%20class=%22css-9ssj44-TreeCell%22%3E%3Cdiv%20class=%22css-mkrhzq%22%3E%3Cdiv%20class=%22css-1i6gc04%22%3E%3C/div%3E%3Cspan%20class=%22ant-typography%20css-8uhtka%22%20style=%22font-size:%2012px;%20line-height:%2020px;%20font-weight:%20600;%20color:%20rgba(0,%200,%200,%200.85);%22%3ETweet%20volume%3C/span%3E%3C/div%3E%3C/div%3E%3C/div%3E%3C/div%3E%3C/div%3E%3C/div%3E%3Cdiv%20class=%22css-8r2ljj-PinnedTabularRows%22%3E%3Cdiv%20class=%22css-1d0ye66-PinnedTabularRows%22%3E%3C/div%3E%3C/div%3E%3C/div%3E%3Cdiv%20class=%22css-xyh4mh-UnpinnedTabularRows%22%3E%3Cdiv%20class=%22css-9n0xdk-UnpinnedTabularRows%22%3E%3Cdiv%20class=%22css-3cge9w%22%3E%3Cdiv%3E%3Cdiv%20class=%22%20css-gzuqz0-TabularCell%22%3E%3Cspan%20class=%22css-mkoicc-CaptionCellRenderer%22%3E%3Cspan%3E%3Cspan%20class=%22ant-typography%22%20style=%22font-size:%2012px;%20line-height:%2020px;%20font-weight:%20400;%22%3ENon-Gaussian%3C/span%3E%3C/span%3E%3C/span%3E%3C/div%3E%3C/div%3E%3Cdiv%3E%3Cdiv%20class=%22%20css-1t3zoy6-TabularCell%22%3E%3Cspan%20class=%22css-mkoicc-CaptionCellRenderer%22%3E%3Cspan%3E%3Cspan%20class=%22ant-typography%22%20style=%22font-size:%2012px;%20line-height:%2020px;%20font-weight:%20400;%22%3ENon-Gaussian%3C/span%3E%3C/span%3E%3C/span%3E%3C/div%3E%3C/div%3E%3Cdiv%3E%3Cdiv%20class=%22%20css-tdy258-TabularCell%22%3E%3Cspan%20class=%22css-mkoicc-CaptionCellRenderer%22%3E%3Cspan%3E%3Cspan%20class=%22ant-typography%22%20style=%22font-size:%2012px;%20line-height:%2020px;%20font-weight:%20400;%22%3ENon-Gaussian%3C/span%3E%3C/span%3E%3C/span%3E%3C/div%3E%3C/div%3E%3Cdiv%3E%3Cdiv%20class=%22%20css-tdy258-TabularCell%22%3E%3Cspan%20class=%22css-mkoicc-CaptionCellRenderer%22%3E%3Cspan%3E%3Cspan%20class=%22ant-typography%22%20style=%22font-size:%2012px;%20line-height:%2020px;%20font-weight:%20400;%22%3ENon-Gaussian%3C/span%3E%3C/span%3E%3C/span%3E%3C/div%3E%3C/div%3E%3Cdiv%3E%3Cdiv%20class=%22%20css-uwjp4j-TabularCell%22%3E%3Cspan%20class=%22css-mkoicc-CaptionCellRenderer%22%3E%3Cspan%3E%3Cspan%20class=%22ant-typography%22%20style=%22font-size:%2012px;%20line-height:%2020px;%20font-weight:%20400;%22%3ENon-Gaussian%3C/span%3E%3C/span%3E%3C/span%3E%3C/div%3E%3C/div%3E%3Cdiv%3E%3Cdiv%20class=%22%20css-1qs30jf-TabularCell%22%3E%3Cspan%20class=%22css-mkoicc-CaptionCellRenderer%22%3E%3Cspan%3E%3Cspan%20class=%22ant-typography%22%20style=%22font-size:%2012px;%20line-height:%2020px;%20font-weight:%20400;%22%3ENon-Gaussian%3C/span%3E%3C/span%3E%3C/span%3E%3C/div%3E%3C/div%3E%3Cdiv%3E%3Cdiv%20class=%22%20css-uwjp4j-TabularCell%22%3E%3Cspan%20class=%22css-mkoicc-CaptionCellRenderer%22%3E%3Cspan%3E%3Cspan%20class=%22ant-typography%22%20style=%22font-size:%2012px;%20line-height:%2020px;%20font-weight:%20400;%22%3ENon-Gaussian%3C/span%3E%3C/span%3E%3C/span%3E%3C/div%3E%3C/div%3E%3Cdiv%3E%3Cdiv%20class=%22%20css-1qs30jf-TabularCell%22%3E%3Cspan%20class=%22css-mkoicc-CaptionCellRenderer%22%3E%3Cspan%3E%3Cspan%20class=%22ant-typography%22%20style=%22font-size:%2012px;%20line-height:%2020px;%20font-weight:%20400;%22%3ENon-Gaussian%3C/span%3E%3C/span%3E%3C/span%3E%3C/div%3E%3C/div%3E%3Cdiv%3E%3Cdiv%20class=%22%20css-17pp5jj-TabularCell%22%3E%3Cspan%20class=%22css-mkoicc-CaptionCellRenderer%22%3E%3Cspan%3E%3Cspan%20class=%22ant-typography%22%20style=%22font-size:%2012px;%20line-height:%2020px;%20font-weight:%20400;%22%3ENon-Gaussian%3C/span%3E%3C/span%3E%3C/span%3E%3C/div%3E%3C/div%3E%3C/div%3E%3C/div%3E%3C/div%3E%3Cdiv%20class=%22css-3hqui3%22%3E%3Cdiv%20class=%22css-wm7pws%22%3E%3C/div%3E%3C/div%3E%3Cdiv%20class=%22css-b3f9z5%22%3E%3Cdiv%20class=%22css-zrjtp7%22%3E%3C/div%3E%3C/div%3E%3Cdiv%20class=%22css-j0t794-TabularSelectionOverlay%22%3E%3C/div%3E%3C/div%3E%3C/div%3E%3Cdiv%20class=%22css-12f9a5a-SelectionStatistics%22%3E%3Cdiv%20class=%22css-kvknp0-SelectionStatistics%22%3E%3Cspan%20class=%22ant-typography%20css-srwpgf-SelectionStatistics%22%20style=%22font-size:%2014px;%20line-height:%2022px;%20font-weight:%20400;%22%3E%3Cstrong%3ESum:%3C/strong%3E%3C/span%3E%3Cspan%20class=%22ant-typography%22%20style=%22font-size:%2014px;%20line-height:%2022px;%20font-weight:%20400;%22%3E0.00%3C/span%3E%3Cspan%20class=%22css-88jil9-SelectionStatistics%22%3E%3Ci%20aria-label=%22icon:%20caret-down%22%20width=%221em%22%20height=%221em%22%20class=%22anticon%20anticon-caret-down%22%3E%3C/i%3E%3C/span%3E%3C/div%3E%3C/div%3E%3C/div%3E%3C/div%3E%3C/div%3E%3C/div%3E%3C/div%3E%3C/div%3E%3Cspan%20role=%22presentation%22%20class=%22css-14zuz97%20Resizer%20vertical%20disabled%22%3E%3C/span%3E%3Cdiv%20class=%22Pane%20vertical%20Pane2%20%20%22%20style=%22flex:%200%200%20auto;%20position:%20relative;%20outline:%20none;%20width:%200px;%20display:%20flex;%20background-color:%20rgb(255,%20255,%20255);%20overflow:%20auto;%22%3E%3Cdiv%20class=%22css-1ouk3zc-EditorSplitPane%22%3E%3Cdiv%20class=%22css-1jjvrwi-EditorSplitPane%22%3E%3C/div%3E%3C/div%3E%3C/div%3E%3C/div%3E%3C/div%3E%3C/div%3E%3C/div%3E%0A%20%20%20%20%20%20%20%20%3C/div%3E%0A%20%20%20%20%20%20%3C/foreignObject%3E%0A%20%20%20%20%3C/svg%3E\">"
      ],
      "text/plain": [
       "Open the notebook in JupyterLab with the atoti extension installed and enabled to see this widget."
      ]
     },
     "metadata": {},
     "output_type": "display_data"
    }
   ],
   "source": [
    "cube.visualize(\"Distribution type of the time-series for each metric of the currency\")"
   ]
  },
  {
   "cell_type": "markdown",
   "metadata": {},
   "source": [
    "Kurtosis value of less than -1 shows that the distribution is too flat while a value greater than 1 is too peaked.  \n",
    "Skewness value between -0.5 and 0.5 shows that data are pretty symmetrical. Values between -1 and -0.5, or between 0.5 and 1, shows that data are moderately skewed. Otherwise, the data are highly skewed. "
   ]
  },
  {
   "cell_type": "code",
   "execution_count": 36,
   "metadata": {
    "atoti": {
     "height": 459,
     "state": {
      "name": "Distribution stats",
      "type": "container",
      "value": {
       "body": {
        "configuration": {
         "tabular": {
          "addButtonFilter": "numeric",
          "cellRenderers": [
           "tree-layout"
          ],
          "columns": [
           {
            "key": "c-treeCells-member",
            "width": 133
           },
           {
            "key": "([Cryptocurrency].[Coin Symbol].[coin_symbol].[ADA],[Measures].[skewness])",
            "width": 85
           },
           {
            "key": "([Cryptocurrency].[Coin Symbol].[coin_symbol].[ADA],[Measures].[kurtosis])",
            "width": 85
           },
           {
            "key": "([Cryptocurrency].[Coin Symbol].[coin_symbol].[BCH],[Measures].[skewness])",
            "width": 85
           },
           {
            "key": "([Cryptocurrency].[Coin Symbol].[coin_symbol].[BCH],[Measures].[kurtosis])",
            "width": 85
           },
           {
            "key": "([Cryptocurrency].[Coin Symbol].[coin_symbol].[BNB],[Measures].[skewness])",
            "width": 85
           },
           {
            "key": "([Cryptocurrency].[Coin Symbol].[coin_symbol].[BNB],[Measures].[kurtosis])",
            "width": 85
           },
           {
            "key": "([Cryptocurrency].[Coin Symbol].[coin_symbol].[BSV],[Measures].[skewness])",
            "width": 85
           },
           {
            "key": "([Cryptocurrency].[Coin Symbol].[coin_symbol].[BSV],[Measures].[kurtosis])",
            "width": 85
           },
           {
            "key": "([Cryptocurrency].[Coin Symbol].[coin_symbol].[BTC],[Measures].[skewness])",
            "width": 85
           },
           {
            "key": "([Cryptocurrency].[Coin Symbol].[coin_symbol].[BTC],[Measures].[kurtosis])",
            "width": 85
           },
           {
            "key": "([Cryptocurrency].[Coin Symbol].[coin_symbol].[EOS],[Measures].[skewness])",
            "width": 85
           },
           {
            "key": "([Cryptocurrency].[Coin Symbol].[coin_symbol].[EOS],[Measures].[kurtosis])",
            "width": 85
           },
           {
            "key": "([Cryptocurrency].[Coin Symbol].[coin_symbol].[ETH],[Measures].[skewness])",
            "width": 85
           },
           {
            "key": "([Cryptocurrency].[Coin Symbol].[coin_symbol].[ETH],[Measures].[kurtosis])",
            "width": 85
           },
           {
            "key": "([Cryptocurrency].[Coin Symbol].[coin_symbol].[LINK],[Measures].[skewness])",
            "width": 85
           },
           {
            "key": "([Cryptocurrency].[Coin Symbol].[coin_symbol].[LINK],[Measures].[kurtosis])",
            "width": 85
           },
           {
            "key": "([Cryptocurrency].[Coin Symbol].[coin_symbol].[LTC],[Measures].[skewness])",
            "width": 85
           },
           {
            "key": "([Cryptocurrency].[Coin Symbol].[coin_symbol].[LTC],[Measures].[kurtosis])",
            "width": 85
           },
           {
            "key": "([Cryptocurrency].[Coin Symbol].[coin_symbol].[TRON],[Measures].[skewness])",
            "width": 85
           },
           {
            "key": "([Cryptocurrency].[Coin Symbol].[coin_symbol].[TRON],[Measures].[kurtosis])",
            "width": 85
           },
           {
            "key": "([Cryptocurrency].[Coin Symbol].[coin_symbol].[USDT],[Measures].[skewness])",
            "width": 85
           },
           {
            "key": "([Cryptocurrency].[Coin Symbol].[coin_symbol].[USDT],[Measures].[kurtosis])",
            "width": 85
           },
           {
            "key": "([Cryptocurrency].[Coin Symbol].[coin_symbol].[XRP],[Measures].[skewness])",
            "width": 85
           },
           {
            "key": "([Cryptocurrency].[Coin Symbol].[coin_symbol].[XRP],[Measures].[kurtosis])",
            "width": 85
           },
           {
            "key": "([Cryptocurrency].[Coin Symbol].[coin_symbol].[ADA],[Measures].[skewness (1)])",
            "width": 85
           },
           {
            "key": "([Cryptocurrency].[Coin Symbol].[coin_symbol].[BCH],[Measures].[skewness (1)])",
            "width": 85
           },
           {
            "key": "([Cryptocurrency].[Coin Symbol].[coin_symbol].[BNB],[Measures].[skewness (1)])",
            "width": 85
           },
           {
            "key": "([Cryptocurrency].[Coin Symbol].[coin_symbol].[BSV],[Measures].[skewness (1)])",
            "width": 85
           },
           {
            "key": "([Cryptocurrency].[Coin Symbol].[coin_symbol].[BTC],[Measures].[skewness (1)])",
            "width": 85
           },
           {
            "key": "([Cryptocurrency].[Coin Symbol].[coin_symbol].[EOS],[Measures].[skewness (1)])",
            "width": 85
           },
           {
            "key": "([Cryptocurrency].[Coin Symbol].[coin_symbol].[ETH],[Measures].[skewness (1)])",
            "width": 85
           },
           {
            "key": "([Cryptocurrency].[Coin Symbol].[coin_symbol].[LINK],[Measures].[skewness (1)])",
            "width": 85
           },
           {
            "key": "([Cryptocurrency].[Coin Symbol].[coin_symbol].[LTC],[Measures].[skewness (1)])",
            "width": 85
           },
           {
            "key": "([Cryptocurrency].[Coin Symbol].[coin_symbol].[TRON],[Measures].[skewness (1)])",
            "width": 85
           },
           {
            "key": "([Cryptocurrency].[Coin Symbol].[coin_symbol].[USDT],[Measures].[skewness (1)])",
            "width": 85
           },
           {
            "key": "([Cryptocurrency].[Coin Symbol].[coin_symbol].[XRP],[Measures].[skewness (1)])",
            "width": 85
           },
           {
            "key": "([Cryptocurrency].[Coin Symbol].[coin_symbol].[ADA],[Measures].[kurtosis (1)])",
            "width": 84
           },
           {
            "key": "([Cryptocurrency].[Coin Symbol].[coin_symbol].[BCH],[Measures].[kurtosis (1)])",
            "width": 88
           },
           {
            "key": "([Cryptocurrency].[Coin Symbol].[coin_symbol].[BNB],[Measures].[kurtosis (1)])",
            "width": 89
           }
          ],
          "columnsGroups": [
           {
            "captionProducer": "firstColumn",
            "cellFactory": "kpi-status",
            "selector": "kpi-status"
           },
           {
            "captionProducer": "firstColumn",
            "cellFactory": "lookup",
            "selector": "lookup"
           },
           {
            "captionProducer": "expiry",
            "cellFactory": "expiry",
            "selector": "kpi-expiry"
           },
           {
            "captionProducer": "columnMerge",
            "cellFactory": {
             "args": {},
             "key": "treeCells"
            },
            "selector": "member"
           }
          ],
          "expansion": {
           "automaticExpansion": true
          },
          "hideAddButton": true,
          "pinnedHeaderSelector": "member",
          "sortingMode": "non-breaking",
          "statisticsShown": true
         }
        },
        "contextValues": {},
        "mdx": "WITH  Member [Measures].[skewness (1)] AS [Measures].[skewness], BACK_COLOR = CASE WHEN ([Measures].[skewness (1)] >= - 0.5) and ([Measures].[skewness (1)] <= 0.5) THEN rgb(44, 160, 44) WHEN ([Measures].[skewness (1)] >= - 1) and ([Measures].[skewness (1)] <= - 0.5) THEN rgb(182, 215, 168) WHEN ([Measures].[skewness (1)] >= 0.5) and ([Measures].[skewness (1)] <= 1) THEN rgb(182, 215, 168) END, FORE_COLOR = CASE WHEN ([Measures].[skewness (1)] >= - 0.5) and ([Measures].[skewness (1)] <= 0.5) THEN rgb(255, 255, 255) END, CAPTION = [Measures].[skewness].MEMBER_CAPTION, FORMAT_STRING = \"#,###.0000\"    Member [Measures].[kurtosis (1)] AS [Measures].[kurtosis], BACK_COLOR = CASE WHEN ([Measures].[kurtosis (1)] >= 1) and ([Measures].[kurtosis (1)] <= - 1) THEN rgb(44, 160, 44) END, FORE_COLOR = CASE WHEN ([Measures].[skewness (1)] >= - 0.5) and ([Measures].[skewness (1)] <= 0.5) THEN rgb(255, 255, 255) END, FORMAT_STRING = \"#,###.0000\", CAPTION = [Measures].[kurtosis].MEMBER_CAPTION  SELECT NON EMPTY [Metrics].[metric_name].[metric_name].Members ON ROWS, NON EMPTY Crossjoin([Cryptocurrency].[Coin Symbol].[coin_symbol].Members, {[Measures].[skewness (1)], [Measures].[kurtosis (1)]}) ON COLUMNS FROM [Cryptocurrency cube] CELL PROPERTIES BACK_COLOR, FONT_FLAGS, FORE_COLOR, FORMATTED_VALUE, VALUE",
        "ranges": {
         "column": {
          "chunkSize": 50,
          "thresholdPercentage": 0.2
         },
         "row": {
          "chunkSize": 2000,
          "thresholdPercentage": 0.1
         }
        },
        "serverUrl": ""
       },
       "containerKey": "pivot-table",
       "showTitleBar": false,
       "style": {}
      }
     }
    }
   },
   "outputs": [
    {
     "data": {
      "application/vnd.atoti.v0+json": {
       "cellSet": {
        "axes": [
         {
          "hierarchies": [
           {
            "dimension": "Cryptocurrency",
            "hierarchy": "Coin Symbol"
           },
           {
            "dimension": "Measures",
            "hierarchy": "Measures"
           }
          ],
          "id": 0,
          "positions": [
           [
            {
             "captionPath": [
              "BTC"
             ],
             "namePath": [
              "BTC"
             ],
             "properties": {
              "DISPLAY_INFO": 1
             }
            },
            {
             "captionPath": [
              "skewness"
             ],
             "namePath": [
              "skewness (1)"
             ],
             "properties": {
              "DISPLAY_INFO": 0
             }
            }
           ],
           [
            {
             "captionPath": [
              "BTC"
             ],
             "namePath": [
              "BTC"
             ],
             "properties": {
              "DISPLAY_INFO": 1
             }
            },
            {
             "captionPath": [
              "kurtosis"
             ],
             "namePath": [
              "kurtosis (1)"
             ],
             "properties": {
              "DISPLAY_INFO": 0
             }
            }
           ],
           [
            {
             "captionPath": [
              "ETH"
             ],
             "namePath": [
              "ETH"
             ],
             "properties": {
              "DISPLAY_INFO": 1
             }
            },
            {
             "captionPath": [
              "skewness"
             ],
             "namePath": [
              "skewness (1)"
             ],
             "properties": {
              "DISPLAY_INFO": 0
             }
            }
           ],
           [
            {
             "captionPath": [
              "ETH"
             ],
             "namePath": [
              "ETH"
             ],
             "properties": {
              "DISPLAY_INFO": 1
             }
            },
            {
             "captionPath": [
              "kurtosis"
             ],
             "namePath": [
              "kurtosis (1)"
             ],
             "properties": {
              "DISPLAY_INFO": 0
             }
            }
           ],
           [
            {
             "captionPath": [
              "XRP"
             ],
             "namePath": [
              "XRP"
             ],
             "properties": {
              "DISPLAY_INFO": 1
             }
            },
            {
             "captionPath": [
              "skewness"
             ],
             "namePath": [
              "skewness (1)"
             ],
             "properties": {
              "DISPLAY_INFO": 0
             }
            }
           ],
           [
            {
             "captionPath": [
              "XRP"
             ],
             "namePath": [
              "XRP"
             ],
             "properties": {
              "DISPLAY_INFO": 1
             }
            },
            {
             "captionPath": [
              "kurtosis"
             ],
             "namePath": [
              "kurtosis (1)"
             ],
             "properties": {
              "DISPLAY_INFO": 0
             }
            }
           ],
           [
            {
             "captionPath": [
              "USDT"
             ],
             "namePath": [
              "USDT"
             ],
             "properties": {
              "DISPLAY_INFO": 1
             }
            },
            {
             "captionPath": [
              "skewness"
             ],
             "namePath": [
              "skewness (1)"
             ],
             "properties": {
              "DISPLAY_INFO": 0
             }
            }
           ],
           [
            {
             "captionPath": [
              "USDT"
             ],
             "namePath": [
              "USDT"
             ],
             "properties": {
              "DISPLAY_INFO": 1
             }
            },
            {
             "captionPath": [
              "kurtosis"
             ],
             "namePath": [
              "kurtosis (1)"
             ],
             "properties": {
              "DISPLAY_INFO": 0
             }
            }
           ],
           [
            {
             "captionPath": [
              "BCH"
             ],
             "namePath": [
              "BCH"
             ],
             "properties": {
              "DISPLAY_INFO": 1
             }
            },
            {
             "captionPath": [
              "skewness"
             ],
             "namePath": [
              "skewness (1)"
             ],
             "properties": {
              "DISPLAY_INFO": 0
             }
            }
           ],
           [
            {
             "captionPath": [
              "BCH"
             ],
             "namePath": [
              "BCH"
             ],
             "properties": {
              "DISPLAY_INFO": 1
             }
            },
            {
             "captionPath": [
              "kurtosis"
             ],
             "namePath": [
              "kurtosis (1)"
             ],
             "properties": {
              "DISPLAY_INFO": 0
             }
            }
           ],
           [
            {
             "captionPath": [
              "ADA"
             ],
             "namePath": [
              "ADA"
             ],
             "properties": {
              "DISPLAY_INFO": 1
             }
            },
            {
             "captionPath": [
              "skewness"
             ],
             "namePath": [
              "skewness (1)"
             ],
             "properties": {
              "DISPLAY_INFO": 0
             }
            }
           ],
           [
            {
             "captionPath": [
              "ADA"
             ],
             "namePath": [
              "ADA"
             ],
             "properties": {
              "DISPLAY_INFO": 1
             }
            },
            {
             "captionPath": [
              "kurtosis"
             ],
             "namePath": [
              "kurtosis (1)"
             ],
             "properties": {
              "DISPLAY_INFO": 0
             }
            }
           ],
           [
            {
             "captionPath": [
              "BSV"
             ],
             "namePath": [
              "BSV"
             ],
             "properties": {
              "DISPLAY_INFO": 1
             }
            },
            {
             "captionPath": [
              "skewness"
             ],
             "namePath": [
              "skewness (1)"
             ],
             "properties": {
              "DISPLAY_INFO": 0
             }
            }
           ],
           [
            {
             "captionPath": [
              "BSV"
             ],
             "namePath": [
              "BSV"
             ],
             "properties": {
              "DISPLAY_INFO": 1
             }
            },
            {
             "captionPath": [
              "kurtosis"
             ],
             "namePath": [
              "kurtosis (1)"
             ],
             "properties": {
              "DISPLAY_INFO": 0
             }
            }
           ],
           [
            {
             "captionPath": [
              "LTC"
             ],
             "namePath": [
              "LTC"
             ],
             "properties": {
              "DISPLAY_INFO": 1
             }
            },
            {
             "captionPath": [
              "skewness"
             ],
             "namePath": [
              "skewness (1)"
             ],
             "properties": {
              "DISPLAY_INFO": 0
             }
            }
           ],
           [
            {
             "captionPath": [
              "LTC"
             ],
             "namePath": [
              "LTC"
             ],
             "properties": {
              "DISPLAY_INFO": 1
             }
            },
            {
             "captionPath": [
              "kurtosis"
             ],
             "namePath": [
              "kurtosis (1)"
             ],
             "properties": {
              "DISPLAY_INFO": 0
             }
            }
           ],
           [
            {
             "captionPath": [
              "LINK"
             ],
             "namePath": [
              "LINK"
             ],
             "properties": {
              "DISPLAY_INFO": 1
             }
            },
            {
             "captionPath": [
              "skewness"
             ],
             "namePath": [
              "skewness (1)"
             ],
             "properties": {
              "DISPLAY_INFO": 0
             }
            }
           ],
           [
            {
             "captionPath": [
              "LINK"
             ],
             "namePath": [
              "LINK"
             ],
             "properties": {
              "DISPLAY_INFO": 1
             }
            },
            {
             "captionPath": [
              "kurtosis"
             ],
             "namePath": [
              "kurtosis (1)"
             ],
             "properties": {
              "DISPLAY_INFO": 0
             }
            }
           ],
           [
            {
             "captionPath": [
              "BNB"
             ],
             "namePath": [
              "BNB"
             ],
             "properties": {
              "DISPLAY_INFO": 1
             }
            },
            {
             "captionPath": [
              "skewness"
             ],
             "namePath": [
              "skewness (1)"
             ],
             "properties": {
              "DISPLAY_INFO": 0
             }
            }
           ],
           [
            {
             "captionPath": [
              "BNB"
             ],
             "namePath": [
              "BNB"
             ],
             "properties": {
              "DISPLAY_INFO": 1
             }
            },
            {
             "captionPath": [
              "kurtosis"
             ],
             "namePath": [
              "kurtosis (1)"
             ],
             "properties": {
              "DISPLAY_INFO": 0
             }
            }
           ],
           [
            {
             "captionPath": [
              "EOS"
             ],
             "namePath": [
              "EOS"
             ],
             "properties": {
              "DISPLAY_INFO": 1
             }
            },
            {
             "captionPath": [
              "skewness"
             ],
             "namePath": [
              "skewness (1)"
             ],
             "properties": {
              "DISPLAY_INFO": 0
             }
            }
           ],
           [
            {
             "captionPath": [
              "EOS"
             ],
             "namePath": [
              "EOS"
             ],
             "properties": {
              "DISPLAY_INFO": 1
             }
            },
            {
             "captionPath": [
              "kurtosis"
             ],
             "namePath": [
              "kurtosis (1)"
             ],
             "properties": {
              "DISPLAY_INFO": 0
             }
            }
           ],
           [
            {
             "captionPath": [
              "TRON"
             ],
             "namePath": [
              "TRON"
             ],
             "properties": {
              "DISPLAY_INFO": 1
             }
            },
            {
             "captionPath": [
              "skewness"
             ],
             "namePath": [
              "skewness (1)"
             ],
             "properties": {
              "DISPLAY_INFO": 0
             }
            }
           ],
           [
            {
             "captionPath": [
              "TRON"
             ],
             "namePath": [
              "TRON"
             ],
             "properties": {
              "DISPLAY_INFO": 1
             }
            },
            {
             "captionPath": [
              "kurtosis"
             ],
             "namePath": [
              "kurtosis (1)"
             ],
             "properties": {
              "DISPLAY_INFO": 0
             }
            }
           ]
          ]
         },
         {
          "hierarchies": [
           {
            "dimension": "Metrics",
            "hierarchy": "metric_name"
           }
          ],
          "id": 1,
          "positions": [
           [
            {
             "captionPath": [
              "AllMember",
              "Bullish ratio"
             ],
             "namePath": [
              "AllMember",
              "Bullish ratio"
             ],
             "properties": {
              "DISPLAY_INFO": 0
             }
            }
           ],
           [
            {
             "captionPath": [
              "AllMember",
              "Favorite average"
             ],
             "namePath": [
              "AllMember",
              "Favorite average"
             ],
             "properties": {
              "DISPLAY_INFO": 131072
             }
            }
           ],
           [
            {
             "captionPath": [
              "AllMember",
              "Favorite total"
             ],
             "namePath": [
              "AllMember",
              "Favorite total"
             ],
             "properties": {
              "DISPLAY_INFO": 131072
             }
            }
           ],
           [
            {
             "captionPath": [
              "AllMember",
              "Followers average"
             ],
             "namePath": [
              "AllMember",
              "Followers average"
             ],
             "properties": {
              "DISPLAY_INFO": 131072
             }
            }
           ],
           [
            {
             "captionPath": [
              "AllMember",
              "Followers total"
             ],
             "namePath": [
              "AllMember",
              "Followers total"
             ],
             "properties": {
              "DISPLAY_INFO": 131072
             }
            }
           ],
           [
            {
             "captionPath": [
              "AllMember",
              "Polarity average"
             ],
             "namePath": [
              "AllMember",
              "Polarity average"
             ],
             "properties": {
              "DISPLAY_INFO": 131072
             }
            }
           ],
           [
            {
             "captionPath": [
              "AllMember",
              "Polarity total"
             ],
             "namePath": [
              "AllMember",
              "Polarity total"
             ],
             "properties": {
              "DISPLAY_INFO": 131072
             }
            }
           ],
           [
            {
             "captionPath": [
              "AllMember",
              "Price"
             ],
             "namePath": [
              "AllMember",
              "Price"
             ],
             "properties": {
              "DISPLAY_INFO": 131072
             }
            }
           ],
           [
            {
             "captionPath": [
              "AllMember",
              "Returns"
             ],
             "namePath": [
              "AllMember",
              "Returns"
             ],
             "properties": {
              "DISPLAY_INFO": 131072
             }
            }
           ],
           [
            {
             "captionPath": [
              "AllMember",
              "Retweet average"
             ],
             "namePath": [
              "AllMember",
              "Retweet average"
             ],
             "properties": {
              "DISPLAY_INFO": 131072
             }
            }
           ],
           [
            {
             "captionPath": [
              "AllMember",
              "Retweet total"
             ],
             "namePath": [
              "AllMember",
              "Retweet total"
             ],
             "properties": {
              "DISPLAY_INFO": 131072
             }
            }
           ],
           [
            {
             "captionPath": [
              "AllMember",
              "Tweet volume"
             ],
             "namePath": [
              "AllMember",
              "Tweet volume"
             ],
             "properties": {
              "DISPLAY_INFO": 131072
             }
            }
           ]
          ]
         }
        ],
        "cells": [
         {
          "formattedValue": "3.9888",
          "ordinal": 0,
          "properties": {
           "BACK_COLOR": null,
           "FONT_FLAGS": 0,
           "FORE_COLOR": null
          },
          "value": 3.98880343456045
         },
         {
          "formattedValue": "20.1819",
          "ordinal": 1,
          "properties": {
           "BACK_COLOR": null,
           "FONT_FLAGS": 0,
           "FORE_COLOR": null
          },
          "value": 20.181851967661743
         },
         {
          "formattedValue": "2.5278",
          "ordinal": 2,
          "properties": {
           "BACK_COLOR": null,
           "FONT_FLAGS": 0,
           "FORE_COLOR": null
          },
          "value": 2.5277918047250805
         },
         {
          "formattedValue": "8.3654",
          "ordinal": 3,
          "properties": {
           "BACK_COLOR": null,
           "FONT_FLAGS": 0,
           "FORE_COLOR": null
          },
          "value": 8.365382056394422
         },
         {
          "formattedValue": "2.4093",
          "ordinal": 4,
          "properties": {
           "BACK_COLOR": null,
           "FONT_FLAGS": 0,
           "FORE_COLOR": null
          },
          "value": 2.4092734646702714
         },
         {
          "formattedValue": "9.2119",
          "ordinal": 5,
          "properties": {
           "BACK_COLOR": null,
           "FONT_FLAGS": 0,
           "FORE_COLOR": null
          },
          "value": 9.21189270932155
         },
         {
          "formattedValue": "3.6701",
          "ordinal": 6,
          "properties": {
           "BACK_COLOR": null,
           "FONT_FLAGS": 0,
           "FORE_COLOR": null
          },
          "value": 3.670132840341618
         },
         {
          "formattedValue": "17.5189",
          "ordinal": 7,
          "properties": {
           "BACK_COLOR": null,
           "FONT_FLAGS": 0,
           "FORE_COLOR": null
          },
          "value": 17.51888692389279
         },
         {
          "formattedValue": "3.0517",
          "ordinal": 8,
          "properties": {
           "BACK_COLOR": null,
           "FONT_FLAGS": 0,
           "FORE_COLOR": null
          },
          "value": 3.051741099314941
         },
         {
          "formattedValue": "13.5716",
          "ordinal": 9,
          "properties": {
           "BACK_COLOR": null,
           "FONT_FLAGS": 0,
           "FORE_COLOR": null
          },
          "value": 13.57155489952817
         },
         {
          "formattedValue": "10.3122",
          "ordinal": 10,
          "properties": {
           "BACK_COLOR": null,
           "FONT_FLAGS": 0,
           "FORE_COLOR": null
          },
          "value": 10.312159215429736
         },
         {
          "formattedValue": "135.7821",
          "ordinal": 11,
          "properties": {
           "BACK_COLOR": null,
           "FONT_FLAGS": 0,
           "FORE_COLOR": null
          },
          "value": 135.7821437263969
         },
         {
          "formattedValue": "7.1405",
          "ordinal": 12,
          "properties": {
           "BACK_COLOR": null,
           "FONT_FLAGS": 0,
           "FORE_COLOR": null
          },
          "value": 7.140490775283737
         },
         {
          "formattedValue": "57.0107",
          "ordinal": 13,
          "properties": {
           "BACK_COLOR": null,
           "FONT_FLAGS": 0,
           "FORE_COLOR": null
          },
          "value": 57.01073893029868
         },
         {
          "formattedValue": "1.2540",
          "ordinal": 14,
          "properties": {
           "BACK_COLOR": null,
           "FONT_FLAGS": 0,
           "FORE_COLOR": null
          },
          "value": 1.254046832056085
         },
         {
          "formattedValue": "2.7025",
          "ordinal": 15,
          "properties": {
           "BACK_COLOR": null,
           "FONT_FLAGS": 0,
           "FORE_COLOR": null
          },
          "value": 2.702533768466183
         },
         {
          "formattedValue": ".7606",
          "ordinal": 16,
          "properties": {
           "BACK_COLOR": 11065270,
           "FONT_FLAGS": 0,
           "FORE_COLOR": null
          },
          "value": 0.7605675624028209
         },
         {
          "formattedValue": ".9607",
          "ordinal": 17,
          "properties": {
           "BACK_COLOR": null,
           "FONT_FLAGS": 0,
           "FORE_COLOR": null
          },
          "value": 0.9606702256242214
         },
         {
          "formattedValue": "9.1677",
          "ordinal": 18,
          "properties": {
           "BACK_COLOR": null,
           "FONT_FLAGS": 0,
           "FORE_COLOR": null
          },
          "value": 9.16773174515999
         },
         {
          "formattedValue": "106.6381",
          "ordinal": 19,
          "properties": {
           "BACK_COLOR": null,
           "FONT_FLAGS": 0,
           "FORE_COLOR": null
          },
          "value": 106.63814317857964
         },
         {
          "formattedValue": "3.0691",
          "ordinal": 20,
          "properties": {
           "BACK_COLOR": null,
           "FONT_FLAGS": 0,
           "FORE_COLOR": null
          },
          "value": 3.0691216856259027
         },
         {
          "formattedValue": "14.7627",
          "ordinal": 21,
          "properties": {
           "BACK_COLOR": null,
           "FONT_FLAGS": 0,
           "FORE_COLOR": null
          },
          "value": 14.762687271129028
         },
         {
          "formattedValue": "3.4300",
          "ordinal": 22,
          "properties": {
           "BACK_COLOR": null,
           "FONT_FLAGS": 0,
           "FORE_COLOR": null
          },
          "value": 3.4300340950368637
         },
         {
          "formattedValue": "14.9626",
          "ordinal": 23,
          "properties": {
           "BACK_COLOR": null,
           "FONT_FLAGS": 0,
           "FORE_COLOR": null
          },
          "value": 14.962630554606825
         },
         {
          "formattedValue": "3.5427",
          "ordinal": 24,
          "properties": {
           "BACK_COLOR": null,
           "FONT_FLAGS": 0,
           "FORE_COLOR": null
          },
          "value": 3.542729526936534
         },
         {
          "formattedValue": "28.4706",
          "ordinal": 25,
          "properties": {
           "BACK_COLOR": null,
           "FONT_FLAGS": 0,
           "FORE_COLOR": null
          },
          "value": 28.470644172446494
         },
         {
          "formattedValue": ".7188",
          "ordinal": 26,
          "properties": {
           "BACK_COLOR": 11065270,
           "FONT_FLAGS": 0,
           "FORE_COLOR": null
          },
          "value": 0.7188439478151689
         },
         {
          "formattedValue": "2.3693",
          "ordinal": 27,
          "properties": {
           "BACK_COLOR": null,
           "FONT_FLAGS": 0,
           "FORE_COLOR": null
          },
          "value": 2.36931917897809
         },
         {
          "formattedValue": "-.2975",
          "ordinal": 28,
          "properties": {
           "BACK_COLOR": 2924588,
           "FONT_FLAGS": 0,
           "FORE_COLOR": 16777215
          },
          "value": -0.29754404911539006
         },
         {
          "formattedValue": "-.2237",
          "ordinal": 29,
          "properties": {
           "BACK_COLOR": null,
           "FONT_FLAGS": 0,
           "FORE_COLOR": 16777215
          },
          "value": -0.22373609136587147
         },
         {
          "formattedValue": "2.4802",
          "ordinal": 30,
          "properties": {
           "BACK_COLOR": null,
           "FONT_FLAGS": 0,
           "FORE_COLOR": null
          },
          "value": 2.4802399972802838
         },
         {
          "formattedValue": "10.6289",
          "ordinal": 31,
          "properties": {
           "BACK_COLOR": null,
           "FONT_FLAGS": 0,
           "FORE_COLOR": null
          },
          "value": 10.628904384640414
         },
         {
          "formattedValue": "2.2376",
          "ordinal": 32,
          "properties": {
           "BACK_COLOR": null,
           "FONT_FLAGS": 0,
           "FORE_COLOR": null
          },
          "value": 2.23756732522361
         },
         {
          "formattedValue": "7.4953",
          "ordinal": 33,
          "properties": {
           "BACK_COLOR": null,
           "FONT_FLAGS": 0,
           "FORE_COLOR": null
          },
          "value": 7.495295398799568
         },
         {
          "formattedValue": "4.4514",
          "ordinal": 34,
          "properties": {
           "BACK_COLOR": null,
           "FONT_FLAGS": 0,
           "FORE_COLOR": null
          },
          "value": 4.4514424984158145
         },
         {
          "formattedValue": "32.0429",
          "ordinal": 35,
          "properties": {
           "BACK_COLOR": null,
           "FONT_FLAGS": 0,
           "FORE_COLOR": null
          },
          "value": 32.04287668478265
         },
         {
          "formattedValue": ".8207",
          "ordinal": 36,
          "properties": {
           "BACK_COLOR": 11065270,
           "FONT_FLAGS": 0,
           "FORE_COLOR": null
          },
          "value": 0.8206743146545761
         },
         {
          "formattedValue": ".9815",
          "ordinal": 37,
          "properties": {
           "BACK_COLOR": null,
           "FONT_FLAGS": 0,
           "FORE_COLOR": null
          },
          "value": 0.9814943132463738
         },
         {
          "formattedValue": "1.3748",
          "ordinal": 38,
          "properties": {
           "BACK_COLOR": null,
           "FONT_FLAGS": 0,
           "FORE_COLOR": null
          },
          "value": 1.3748185293855384
         },
         {
          "formattedValue": "3.1341",
          "ordinal": 39,
          "properties": {
           "BACK_COLOR": null,
           "FONT_FLAGS": 0,
           "FORE_COLOR": null
          },
          "value": 3.1340753427369945
         },
         {
          "formattedValue": "6.7124",
          "ordinal": 40,
          "properties": {
           "BACK_COLOR": null,
           "FONT_FLAGS": 0,
           "FORE_COLOR": null
          },
          "value": 6.7123698773678075
         },
         {
          "formattedValue": "56.2513",
          "ordinal": 41,
          "properties": {
           "BACK_COLOR": null,
           "FONT_FLAGS": 0,
           "FORE_COLOR": null
          },
          "value": 56.25133415724991
         },
         {
          "formattedValue": "2.5880",
          "ordinal": 42,
          "properties": {
           "BACK_COLOR": null,
           "FONT_FLAGS": 0,
           "FORE_COLOR": null
          },
          "value": 2.587959325178171
         },
         {
          "formattedValue": "9.0265",
          "ordinal": 43,
          "properties": {
           "BACK_COLOR": null,
           "FONT_FLAGS": 0,
           "FORE_COLOR": null
          },
          "value": 9.026485184106207
         },
         {
          "formattedValue": "4.1689",
          "ordinal": 44,
          "properties": {
           "BACK_COLOR": null,
           "FONT_FLAGS": 0,
           "FORE_COLOR": null
          },
          "value": 4.168854509829193
         },
         {
          "formattedValue": "28.0270",
          "ordinal": 45,
          "properties": {
           "BACK_COLOR": null,
           "FONT_FLAGS": 0,
           "FORE_COLOR": null
          },
          "value": 28.02695362972435
         },
         {
          "formattedValue": "1.5157",
          "ordinal": 46,
          "properties": {
           "BACK_COLOR": null,
           "FONT_FLAGS": 0,
           "FORE_COLOR": null
          },
          "value": 1.5156638697354659
         },
         {
          "formattedValue": "3.7128",
          "ordinal": 47,
          "properties": {
           "BACK_COLOR": null,
           "FONT_FLAGS": 0,
           "FORE_COLOR": null
          },
          "value": 3.712755056028133
         },
         {
          "formattedValue": "2.3294",
          "ordinal": 48,
          "properties": {
           "BACK_COLOR": null,
           "FONT_FLAGS": 0,
           "FORE_COLOR": null
          },
          "value": 2.329384080636562
         },
         {
          "formattedValue": "12.7741",
          "ordinal": 49,
          "properties": {
           "BACK_COLOR": null,
           "FONT_FLAGS": 0,
           "FORE_COLOR": null
          },
          "value": 12.774054330245573
         },
         {
          "formattedValue": ".6612",
          "ordinal": 50,
          "properties": {
           "BACK_COLOR": 11065270,
           "FONT_FLAGS": 0,
           "FORE_COLOR": null
          },
          "value": 0.6612442433979593
         },
         {
          "formattedValue": "-.3557",
          "ordinal": 51,
          "properties": {
           "BACK_COLOR": null,
           "FONT_FLAGS": 0,
           "FORE_COLOR": null
          },
          "value": -0.3557172588868567
         },
         {
          "formattedValue": "1.4928",
          "ordinal": 52,
          "properties": {
           "BACK_COLOR": null,
           "FONT_FLAGS": 0,
           "FORE_COLOR": null
          },
          "value": 1.4928163444155425
         },
         {
          "formattedValue": "3.3951",
          "ordinal": 53,
          "properties": {
           "BACK_COLOR": null,
           "FONT_FLAGS": 0,
           "FORE_COLOR": null
          },
          "value": 3.395098252534101
         },
         {
          "formattedValue": "2.1650",
          "ordinal": 54,
          "properties": {
           "BACK_COLOR": null,
           "FONT_FLAGS": 0,
           "FORE_COLOR": null
          },
          "value": 2.1650404597727775
         },
         {
          "formattedValue": "6.8969",
          "ordinal": 55,
          "properties": {
           "BACK_COLOR": null,
           "FONT_FLAGS": 0,
           "FORE_COLOR": null
          },
          "value": 6.89687543119304
         },
         {
          "formattedValue": "3.1813",
          "ordinal": 56,
          "properties": {
           "BACK_COLOR": null,
           "FONT_FLAGS": 0,
           "FORE_COLOR": null
          },
          "value": 3.18129466375092
         },
         {
          "formattedValue": "14.6067",
          "ordinal": 57,
          "properties": {
           "BACK_COLOR": null,
           "FONT_FLAGS": 0,
           "FORE_COLOR": null
          },
          "value": 14.606654193053203
         },
         {
          "formattedValue": "7.9649",
          "ordinal": 58,
          "properties": {
           "BACK_COLOR": null,
           "FONT_FLAGS": 0,
           "FORE_COLOR": null
          },
          "value": 7.964901460125301
         },
         {
          "formattedValue": "91.9396",
          "ordinal": 59,
          "properties": {
           "BACK_COLOR": null,
           "FONT_FLAGS": 0,
           "FORE_COLOR": null
          },
          "value": 91.93962015218628
         },
         {
          "formattedValue": "2.5220",
          "ordinal": 60,
          "properties": {
           "BACK_COLOR": null,
           "FONT_FLAGS": 0,
           "FORE_COLOR": null
          },
          "value": 2.5219740398967874
         },
         {
          "formattedValue": "9.9251",
          "ordinal": 61,
          "properties": {
           "BACK_COLOR": null,
           "FONT_FLAGS": 0,
           "FORE_COLOR": null
          },
          "value": 9.925082696187854
         },
         {
          "formattedValue": "4.3436",
          "ordinal": 62,
          "properties": {
           "BACK_COLOR": null,
           "FONT_FLAGS": 0,
           "FORE_COLOR": null
          },
          "value": 4.343557333216947
         },
         {
          "formattedValue": "32.1944",
          "ordinal": 63,
          "properties": {
           "BACK_COLOR": null,
           "FONT_FLAGS": 0,
           "FORE_COLOR": null
          },
          "value": 32.19442391769968
         },
         {
          "formattedValue": "4.4408",
          "ordinal": 64,
          "properties": {
           "BACK_COLOR": null,
           "FONT_FLAGS": 0,
           "FORE_COLOR": null
          },
          "value": 4.440829395127686
         },
         {
          "formattedValue": "27.4022",
          "ordinal": 65,
          "properties": {
           "BACK_COLOR": null,
           "FONT_FLAGS": 0,
           "FORE_COLOR": null
          },
          "value": 27.402211877173883
         },
         {
          "formattedValue": "2.1079",
          "ordinal": 66,
          "properties": {
           "BACK_COLOR": null,
           "FONT_FLAGS": 0,
           "FORE_COLOR": null
          },
          "value": 2.10788597999533
         },
         {
          "formattedValue": "4.8487",
          "ordinal": 67,
          "properties": {
           "BACK_COLOR": null,
           "FONT_FLAGS": 0,
           "FORE_COLOR": null
          },
          "value": 4.8487014637179175
         },
         {
          "formattedValue": "3.6586",
          "ordinal": 68,
          "properties": {
           "BACK_COLOR": null,
           "FONT_FLAGS": 0,
           "FORE_COLOR": null
          },
          "value": 3.6586343449651495
         },
         {
          "formattedValue": "22.8727",
          "ordinal": 69,
          "properties": {
           "BACK_COLOR": null,
           "FONT_FLAGS": 0,
           "FORE_COLOR": null
          },
          "value": 22.87269023661798
         },
         {
          "formattedValue": "5.4456",
          "ordinal": 70,
          "properties": {
           "BACK_COLOR": null,
           "FONT_FLAGS": 0,
           "FORE_COLOR": null
          },
          "value": 5.445562868338226
         },
         {
          "formattedValue": "40.7522",
          "ordinal": 71,
          "properties": {
           "BACK_COLOR": null,
           "FONT_FLAGS": 0,
           "FORE_COLOR": null
          },
          "value": 40.75224549133446
         },
         {
          "formattedValue": "-.2760",
          "ordinal": 72,
          "properties": {
           "BACK_COLOR": 2924588,
           "FONT_FLAGS": 0,
           "FORE_COLOR": 16777215
          },
          "value": -0.27596199889399375
         },
         {
          "formattedValue": "-.1645",
          "ordinal": 73,
          "properties": {
           "BACK_COLOR": null,
           "FONT_FLAGS": 0,
           "FORE_COLOR": 16777215
          },
          "value": -0.1645432106893323
         },
         {
          "formattedValue": ".4628",
          "ordinal": 74,
          "properties": {
           "BACK_COLOR": 2924588,
           "FONT_FLAGS": 0,
           "FORE_COLOR": 16777215
          },
          "value": 0.46278399809227216
         },
         {
          "formattedValue": ".2386",
          "ordinal": 75,
          "properties": {
           "BACK_COLOR": null,
           "FONT_FLAGS": 0,
           "FORE_COLOR": 16777215
          },
          "value": 0.23858275571789944
         },
         {
          "formattedValue": ".3527",
          "ordinal": 76,
          "properties": {
           "BACK_COLOR": 2924588,
           "FONT_FLAGS": 0,
           "FORE_COLOR": 16777215
          },
          "value": 0.3527112166113072
         },
         {
          "formattedValue": "2.1385",
          "ordinal": 77,
          "properties": {
           "BACK_COLOR": null,
           "FONT_FLAGS": 0,
           "FORE_COLOR": 16777215
          },
          "value": 2.1385213350264873
         },
         {
          "formattedValue": "1.0809",
          "ordinal": 78,
          "properties": {
           "BACK_COLOR": null,
           "FONT_FLAGS": 0,
           "FORE_COLOR": null
          },
          "value": 1.080936917269458
         },
         {
          "formattedValue": ".3791",
          "ordinal": 79,
          "properties": {
           "BACK_COLOR": null,
           "FONT_FLAGS": 0,
           "FORE_COLOR": null
          },
          "value": 0.3791252802467193
         },
         {
          "formattedValue": "4.3511",
          "ordinal": 80,
          "properties": {
           "BACK_COLOR": null,
           "FONT_FLAGS": 0,
           "FORE_COLOR": null
          },
          "value": 4.351114106882709
         },
         {
          "formattedValue": "27.5256",
          "ordinal": 81,
          "properties": {
           "BACK_COLOR": null,
           "FONT_FLAGS": 0,
           "FORE_COLOR": null
          },
          "value": 27.52559623856638
         },
         {
          "formattedValue": "2.0178",
          "ordinal": 82,
          "properties": {
           "BACK_COLOR": null,
           "FONT_FLAGS": 0,
           "FORE_COLOR": null
          },
          "value": 2.0178257772565837
         },
         {
          "formattedValue": "6.1446",
          "ordinal": 83,
          "properties": {
           "BACK_COLOR": null,
           "FONT_FLAGS": 0,
           "FORE_COLOR": null
          },
          "value": 6.14464906071591
         },
         {
          "formattedValue": "1.6323",
          "ordinal": 84,
          "properties": {
           "BACK_COLOR": null,
           "FONT_FLAGS": 0,
           "FORE_COLOR": null
          },
          "value": 1.6323336170467853
         },
         {
          "formattedValue": "10.1584",
          "ordinal": 85,
          "properties": {
           "BACK_COLOR": null,
           "FONT_FLAGS": 0,
           "FORE_COLOR": null
          },
          "value": 10.158373912626207
         },
         {
          "formattedValue": ".6631",
          "ordinal": 86,
          "properties": {
           "BACK_COLOR": 11065270,
           "FONT_FLAGS": 0,
           "FORE_COLOR": null
          },
          "value": 0.6630995968470706
         },
         {
          "formattedValue": ".8608",
          "ordinal": 87,
          "properties": {
           "BACK_COLOR": null,
           "FONT_FLAGS": 0,
           "FORE_COLOR": null
          },
          "value": 0.8607675661071843
         },
         {
          "formattedValue": "2.6397",
          "ordinal": 88,
          "properties": {
           "BACK_COLOR": null,
           "FONT_FLAGS": 0,
           "FORE_COLOR": null
          },
          "value": 2.6397210169218197
         },
         {
          "formattedValue": "12.2362",
          "ordinal": 89,
          "properties": {
           "BACK_COLOR": null,
           "FONT_FLAGS": 0,
           "FORE_COLOR": null
          },
          "value": 12.236164220864664
         },
         {
          "formattedValue": "1.6134",
          "ordinal": 90,
          "properties": {
           "BACK_COLOR": null,
           "FONT_FLAGS": 0,
           "FORE_COLOR": null
          },
          "value": 1.6134495235032462
         },
         {
          "formattedValue": "2.2065",
          "ordinal": 91,
          "properties": {
           "BACK_COLOR": null,
           "FONT_FLAGS": 0,
           "FORE_COLOR": null
          },
          "value": 2.2064728955306947
         },
         {
          "formattedValue": "2.4762",
          "ordinal": 92,
          "properties": {
           "BACK_COLOR": null,
           "FONT_FLAGS": 0,
           "FORE_COLOR": null
          },
          "value": 2.476167917973018
         },
         {
          "formattedValue": "7.1276",
          "ordinal": 93,
          "properties": {
           "BACK_COLOR": null,
           "FONT_FLAGS": 0,
           "FORE_COLOR": null
          },
          "value": 7.127558053851827
         },
         {
          "formattedValue": "2.1372",
          "ordinal": 94,
          "properties": {
           "BACK_COLOR": null,
           "FONT_FLAGS": 0,
           "FORE_COLOR": null
          },
          "value": 2.1371968144311997
         },
         {
          "formattedValue": "8.9364",
          "ordinal": 95,
          "properties": {
           "BACK_COLOR": null,
           "FONT_FLAGS": 0,
           "FORE_COLOR": null
          },
          "value": 8.936372237569845
         },
         {
          "formattedValue": "1.2361",
          "ordinal": 96,
          "properties": {
           "BACK_COLOR": null,
           "FONT_FLAGS": 0,
           "FORE_COLOR": null
          },
          "value": 1.2360545874714086
         },
         {
          "formattedValue": "2.2344",
          "ordinal": 97,
          "properties": {
           "BACK_COLOR": null,
           "FONT_FLAGS": 0,
           "FORE_COLOR": null
          },
          "value": 2.2343912824385193
         },
         {
          "formattedValue": "1.1293",
          "ordinal": 98,
          "properties": {
           "BACK_COLOR": null,
           "FONT_FLAGS": 0,
           "FORE_COLOR": null
          },
          "value": 1.1292919832449924
         },
         {
          "formattedValue": "1.0786",
          "ordinal": 99,
          "properties": {
           "BACK_COLOR": null,
           "FONT_FLAGS": 0,
           "FORE_COLOR": null
          },
          "value": 1.0785925627834416
         },
         {
          "formattedValue": "1.1890",
          "ordinal": 100,
          "properties": {
           "BACK_COLOR": null,
           "FONT_FLAGS": 0,
           "FORE_COLOR": null
          },
          "value": 1.188967735460372
         },
         {
          "formattedValue": "1.3738",
          "ordinal": 101,
          "properties": {
           "BACK_COLOR": null,
           "FONT_FLAGS": 0,
           "FORE_COLOR": null
          },
          "value": 1.3738282006960771
         },
         {
          "formattedValue": "1.8492",
          "ordinal": 102,
          "properties": {
           "BACK_COLOR": null,
           "FONT_FLAGS": 0,
           "FORE_COLOR": null
          },
          "value": 1.8491752583382777
         },
         {
          "formattedValue": "4.7908",
          "ordinal": 103,
          "properties": {
           "BACK_COLOR": null,
           "FONT_FLAGS": 0,
           "FORE_COLOR": null
          },
          "value": 4.7908010131796
         },
         {
          "formattedValue": "1.9919",
          "ordinal": 104,
          "properties": {
           "BACK_COLOR": null,
           "FONT_FLAGS": 0,
           "FORE_COLOR": null
          },
          "value": 1.9918534504265213
         },
         {
          "formattedValue": "6.0894",
          "ordinal": 105,
          "properties": {
           "BACK_COLOR": null,
           "FONT_FLAGS": 0,
           "FORE_COLOR": null
          },
          "value": 6.0894237486107325
         },
         {
          "formattedValue": "10.4909",
          "ordinal": 106,
          "properties": {
           "BACK_COLOR": null,
           "FONT_FLAGS": 0,
           "FORE_COLOR": null
          },
          "value": 10.490898511968979
         },
         {
          "formattedValue": "144.1025",
          "ordinal": 107,
          "properties": {
           "BACK_COLOR": null,
           "FONT_FLAGS": 0,
           "FORE_COLOR": null
          },
          "value": 144.10248959434506
         },
         {
          "formattedValue": "3.5103",
          "ordinal": 108,
          "properties": {
           "BACK_COLOR": null,
           "FONT_FLAGS": 0,
           "FORE_COLOR": null
          },
          "value": 3.510337450909576
         },
         {
          "formattedValue": "17.2203",
          "ordinal": 109,
          "properties": {
           "BACK_COLOR": null,
           "FONT_FLAGS": 0,
           "FORE_COLOR": null
          },
          "value": 17.22032129488309
         },
         {
          "formattedValue": "3.1141",
          "ordinal": 110,
          "properties": {
           "BACK_COLOR": null,
           "FONT_FLAGS": 0,
           "FORE_COLOR": null
          },
          "value": 3.11414818657664
         },
         {
          "formattedValue": "17.6397",
          "ordinal": 111,
          "properties": {
           "BACK_COLOR": null,
           "FONT_FLAGS": 0,
           "FORE_COLOR": null
          },
          "value": 17.639746024910835
         },
         {
          "formattedValue": "1.7600",
          "ordinal": 112,
          "properties": {
           "BACK_COLOR": null,
           "FONT_FLAGS": 0,
           "FORE_COLOR": null
          },
          "value": 1.7599894097133608
         },
         {
          "formattedValue": "3.3240",
          "ordinal": 113,
          "properties": {
           "BACK_COLOR": null,
           "FONT_FLAGS": 0,
           "FORE_COLOR": null
          },
          "value": 3.323968681143459
         },
         {
          "formattedValue": "3.8209",
          "ordinal": 114,
          "properties": {
           "BACK_COLOR": null,
           "FONT_FLAGS": 0,
           "FORE_COLOR": null
          },
          "value": 3.8208773582685343
         },
         {
          "formattedValue": "18.2329",
          "ordinal": 115,
          "properties": {
           "BACK_COLOR": null,
           "FONT_FLAGS": 0,
           "FORE_COLOR": null
          },
          "value": 18.232913913289906
         },
         {
          "formattedValue": "1.9227",
          "ordinal": 116,
          "properties": {
           "BACK_COLOR": null,
           "FONT_FLAGS": 0,
           "FORE_COLOR": null
          },
          "value": 1.9226879275816213
         },
         {
          "formattedValue": "4.0585",
          "ordinal": 117,
          "properties": {
           "BACK_COLOR": null,
           "FONT_FLAGS": 0,
           "FORE_COLOR": null
          },
          "value": 4.058467266920182
         },
         {
          "formattedValue": "8.6577",
          "ordinal": 118,
          "properties": {
           "BACK_COLOR": null,
           "FONT_FLAGS": 0,
           "FORE_COLOR": null
          },
          "value": 8.657659755164627
         },
         {
          "formattedValue": "105.6527",
          "ordinal": 119,
          "properties": {
           "BACK_COLOR": null,
           "FONT_FLAGS": 0,
           "FORE_COLOR": null
          },
          "value": 105.65265832792349
         },
         {
          "formattedValue": "2.1709",
          "ordinal": 120,
          "properties": {
           "BACK_COLOR": null,
           "FONT_FLAGS": 0,
           "FORE_COLOR": null
          },
          "value": 2.1709264621751996
         },
         {
          "formattedValue": "12.2918",
          "ordinal": 121,
          "properties": {
           "BACK_COLOR": null,
           "FONT_FLAGS": 0,
           "FORE_COLOR": null
          },
          "value": 12.291810515508207
         },
         {
          "formattedValue": "2.5931",
          "ordinal": 122,
          "properties": {
           "BACK_COLOR": null,
           "FONT_FLAGS": 0,
           "FORE_COLOR": null
          },
          "value": 2.593073676211893
         },
         {
          "formattedValue": "11.9655",
          "ordinal": 123,
          "properties": {
           "BACK_COLOR": null,
           "FONT_FLAGS": 0,
           "FORE_COLOR": null
          },
          "value": 11.965452703890955
         },
         {
          "formattedValue": "4.6845",
          "ordinal": 124,
          "properties": {
           "BACK_COLOR": null,
           "FONT_FLAGS": 0,
           "FORE_COLOR": null
          },
          "value": 4.684491096269156
         },
         {
          "formattedValue": "40.1916",
          "ordinal": 125,
          "properties": {
           "BACK_COLOR": null,
           "FONT_FLAGS": 0,
           "FORE_COLOR": null
          },
          "value": 40.19156228381378
         },
         {
          "formattedValue": "1.7423",
          "ordinal": 126,
          "properties": {
           "BACK_COLOR": null,
           "FONT_FLAGS": 0,
           "FORE_COLOR": null
          },
          "value": 1.7423297638546933
         },
         {
          "formattedValue": "7.5169",
          "ordinal": 127,
          "properties": {
           "BACK_COLOR": null,
           "FONT_FLAGS": 0,
           "FORE_COLOR": null
          },
          "value": 7.516894037236288
         },
         {
          "formattedValue": ".7864",
          "ordinal": 128,
          "properties": {
           "BACK_COLOR": 11065270,
           "FONT_FLAGS": 0,
           "FORE_COLOR": null
          },
          "value": 0.7863515428680125
         },
         {
          "formattedValue": "1.9891",
          "ordinal": 129,
          "properties": {
           "BACK_COLOR": null,
           "FONT_FLAGS": 0,
           "FORE_COLOR": null
          },
          "value": 1.9891272118587358
         },
         {
          "formattedValue": "2.0147",
          "ordinal": 130,
          "properties": {
           "BACK_COLOR": null,
           "FONT_FLAGS": 0,
           "FORE_COLOR": null
          },
          "value": 2.0147069233373007
         },
         {
          "formattedValue": "11.0682",
          "ordinal": 131,
          "properties": {
           "BACK_COLOR": null,
           "FONT_FLAGS": 0,
           "FORE_COLOR": null
          },
          "value": 11.068196287578079
         },
         {
          "formattedValue": "4.2615",
          "ordinal": 132,
          "properties": {
           "BACK_COLOR": null,
           "FONT_FLAGS": 0,
           "FORE_COLOR": null
          },
          "value": 4.2615361672113625
         },
         {
          "formattedValue": "22.9300",
          "ordinal": 133,
          "properties": {
           "BACK_COLOR": null,
           "FONT_FLAGS": 0,
           "FORE_COLOR": null
          },
          "value": 22.92996147093568
         },
         {
          "formattedValue": ".8055",
          "ordinal": 134,
          "properties": {
           "BACK_COLOR": 11065270,
           "FONT_FLAGS": 0,
           "FORE_COLOR": null
          },
          "value": 0.8055007675387124
         },
         {
          "formattedValue": "2.6962",
          "ordinal": 135,
          "properties": {
           "BACK_COLOR": null,
           "FONT_FLAGS": 0,
           "FORE_COLOR": null
          },
          "value": 2.6961573327233648
         },
         {
          "formattedValue": "-.1856",
          "ordinal": 136,
          "properties": {
           "BACK_COLOR": 2924588,
           "FONT_FLAGS": 0,
           "FORE_COLOR": 16777215
          },
          "value": -0.1856046297151884
         },
         {
          "formattedValue": "1.0041",
          "ordinal": 137,
          "properties": {
           "BACK_COLOR": null,
           "FONT_FLAGS": 0,
           "FORE_COLOR": 16777215
          },
          "value": 1.0040717669169252
         },
         {
          "formattedValue": "1.9572",
          "ordinal": 138,
          "properties": {
           "BACK_COLOR": null,
           "FONT_FLAGS": 0,
           "FORE_COLOR": null
          },
          "value": 1.9572310458347826
         },
         {
          "formattedValue": "7.6155",
          "ordinal": 139,
          "properties": {
           "BACK_COLOR": null,
           "FONT_FLAGS": 0,
           "FORE_COLOR": null
          },
          "value": 7.6155490565374375
         },
         {
          "formattedValue": "-.2180",
          "ordinal": 140,
          "properties": {
           "BACK_COLOR": 2924588,
           "FONT_FLAGS": 0,
           "FORE_COLOR": 16777215
          },
          "value": -0.2179971483192724
         },
         {
          "formattedValue": ".3225",
          "ordinal": 141,
          "properties": {
           "BACK_COLOR": null,
           "FONT_FLAGS": 0,
           "FORE_COLOR": 16777215
          },
          "value": 0.32253744885775903
         },
         {
          "formattedValue": "1.7105",
          "ordinal": 142,
          "properties": {
           "BACK_COLOR": null,
           "FONT_FLAGS": 0,
           "FORE_COLOR": null
          },
          "value": 1.710497601890199
         },
         {
          "formattedValue": "8.5833",
          "ordinal": 143,
          "properties": {
           "BACK_COLOR": null,
           "FONT_FLAGS": 0,
           "FORE_COLOR": null
          },
          "value": 8.583314959808275
         },
         {
          "formattedValue": "7.0570",
          "ordinal": 144,
          "properties": {
           "BACK_COLOR": null,
           "FONT_FLAGS": 0,
           "FORE_COLOR": null
          },
          "value": 7.0570031014646695
         },
         {
          "formattedValue": "70.5602",
          "ordinal": 145,
          "properties": {
           "BACK_COLOR": null,
           "FONT_FLAGS": 0,
           "FORE_COLOR": null
          },
          "value": 70.56017140204378
         },
         {
          "formattedValue": "4.8710",
          "ordinal": 146,
          "properties": {
           "BACK_COLOR": null,
           "FONT_FLAGS": 0,
           "FORE_COLOR": null
          },
          "value": 4.871041166558128
         },
         {
          "formattedValue": "34.5185",
          "ordinal": 147,
          "properties": {
           "BACK_COLOR": null,
           "FONT_FLAGS": 0,
           "FORE_COLOR": null
          },
          "value": 34.518508922307596
         },
         {
          "formattedValue": "6.9927",
          "ordinal": 148,
          "properties": {
           "BACK_COLOR": null,
           "FONT_FLAGS": 0,
           "FORE_COLOR": null
          },
          "value": 6.99266525166254
         },
         {
          "formattedValue": "75.2789",
          "ordinal": 149,
          "properties": {
           "BACK_COLOR": null,
           "FONT_FLAGS": 0,
           "FORE_COLOR": null
          },
          "value": 75.2788634156467
         },
         {
          "formattedValue": "5.7524",
          "ordinal": 150,
          "properties": {
           "BACK_COLOR": null,
           "FONT_FLAGS": 0,
           "FORE_COLOR": null
          },
          "value": 5.752362144428186
         },
         {
          "formattedValue": "37.8233",
          "ordinal": 151,
          "properties": {
           "BACK_COLOR": null,
           "FONT_FLAGS": 0,
           "FORE_COLOR": null
          },
          "value": 37.82334818003187
         },
         {
          "formattedValue": "3.6432",
          "ordinal": 152,
          "properties": {
           "BACK_COLOR": null,
           "FONT_FLAGS": 0,
           "FORE_COLOR": null
          },
          "value": 3.643154899228034
         },
         {
          "formattedValue": "20.2240",
          "ordinal": 153,
          "properties": {
           "BACK_COLOR": null,
           "FONT_FLAGS": 0,
           "FORE_COLOR": null
          },
          "value": 20.223971008274624
         },
         {
          "formattedValue": "3.7741",
          "ordinal": 154,
          "properties": {
           "BACK_COLOR": null,
           "FONT_FLAGS": 0,
           "FORE_COLOR": null
          },
          "value": 3.7740588490287927
         },
         {
          "formattedValue": "19.8257",
          "ordinal": 155,
          "properties": {
           "BACK_COLOR": null,
           "FONT_FLAGS": 0,
           "FORE_COLOR": null
          },
          "value": 19.825732961790543
         },
         {
          "formattedValue": "7.4747",
          "ordinal": 156,
          "properties": {
           "BACK_COLOR": null,
           "FONT_FLAGS": 0,
           "FORE_COLOR": null
          },
          "value": 7.474732979818158
         },
         {
          "formattedValue": "63.4806",
          "ordinal": 157,
          "properties": {
           "BACK_COLOR": null,
           "FONT_FLAGS": 0,
           "FORE_COLOR": null
          },
          "value": 63.48057060956117
         },
         {
          "formattedValue": "2.7174",
          "ordinal": 158,
          "properties": {
           "BACK_COLOR": null,
           "FONT_FLAGS": 0,
           "FORE_COLOR": null
          },
          "value": 2.717384236605857
         },
         {
          "formattedValue": "12.0751",
          "ordinal": 159,
          "properties": {
           "BACK_COLOR": null,
           "FONT_FLAGS": 0,
           "FORE_COLOR": null
          },
          "value": 12.07508649055679
         },
         {
          "formattedValue": ".9394",
          "ordinal": 160,
          "properties": {
           "BACK_COLOR": 11065270,
           "FONT_FLAGS": 0,
           "FORE_COLOR": null
          },
          "value": 0.9394250946268335
         },
         {
          "formattedValue": "3.9139",
          "ordinal": 161,
          "properties": {
           "BACK_COLOR": null,
           "FONT_FLAGS": 0,
           "FORE_COLOR": null
          },
          "value": 3.9138684720684704
         },
         {
          "formattedValue": "7.1670",
          "ordinal": 162,
          "properties": {
           "BACK_COLOR": null,
           "FONT_FLAGS": 0,
           "FORE_COLOR": null
          },
          "value": 7.167032203663513
         },
         {
          "formattedValue": "65.6789",
          "ordinal": 163,
          "properties": {
           "BACK_COLOR": null,
           "FONT_FLAGS": 0,
           "FORE_COLOR": null
          },
          "value": 65.67888038702019
         },
         {
          "formattedValue": "2.1407",
          "ordinal": 164,
          "properties": {
           "BACK_COLOR": null,
           "FONT_FLAGS": 0,
           "FORE_COLOR": null
          },
          "value": 2.140652726154239
         },
         {
          "formattedValue": "6.9285",
          "ordinal": 165,
          "properties": {
           "BACK_COLOR": null,
           "FONT_FLAGS": 0,
           "FORE_COLOR": null
          },
          "value": 6.92846873600214
         },
         {
          "formattedValue": "8.2095",
          "ordinal": 166,
          "properties": {
           "BACK_COLOR": null,
           "FONT_FLAGS": 0,
           "FORE_COLOR": null
          },
          "value": 8.209469840273233
         },
         {
          "formattedValue": "80.0350",
          "ordinal": 167,
          "properties": {
           "BACK_COLOR": null,
           "FONT_FLAGS": 0,
           "FORE_COLOR": null
          },
          "value": 80.03499284614195
         },
         {
          "formattedValue": "-.3434",
          "ordinal": 168,
          "properties": {
           "BACK_COLOR": 2924588,
           "FONT_FLAGS": 0,
           "FORE_COLOR": 16777215
          },
          "value": -0.34343234070063666
         },
         {
          "formattedValue": "-.2268",
          "ordinal": 169,
          "properties": {
           "BACK_COLOR": null,
           "FONT_FLAGS": 0,
           "FORE_COLOR": 16777215
          },
          "value": -0.22677434216574
         },
         {
          "formattedValue": ".7579",
          "ordinal": 170,
          "properties": {
           "BACK_COLOR": 11065270,
           "FONT_FLAGS": 0,
           "FORE_COLOR": null
          },
          "value": 0.7579355609082734
         },
         {
          "formattedValue": "-.4257",
          "ordinal": 171,
          "properties": {
           "BACK_COLOR": null,
           "FONT_FLAGS": 0,
           "FORE_COLOR": null
          },
          "value": -0.4256829060504259
         },
         {
          "formattedValue": ".5629",
          "ordinal": 172,
          "properties": {
           "BACK_COLOR": 11065270,
           "FONT_FLAGS": 0,
           "FORE_COLOR": null
          },
          "value": 0.5628616232422767
         },
         {
          "formattedValue": "-.5099",
          "ordinal": 173,
          "properties": {
           "BACK_COLOR": null,
           "FONT_FLAGS": 0,
           "FORE_COLOR": null
          },
          "value": -0.509871534385006
         },
         {
          "formattedValue": ".1757",
          "ordinal": 174,
          "properties": {
           "BACK_COLOR": 2924588,
           "FONT_FLAGS": 0,
           "FORE_COLOR": 16777215
          },
          "value": 0.1756734435069199
         },
         {
          "formattedValue": "14.3692",
          "ordinal": 175,
          "properties": {
           "BACK_COLOR": null,
           "FONT_FLAGS": 0,
           "FORE_COLOR": 16777215
          },
          "value": 14.369189493791588
         },
         {
          "formattedValue": "1.4084",
          "ordinal": 176,
          "properties": {
           "BACK_COLOR": null,
           "FONT_FLAGS": 0,
           "FORE_COLOR": null
          },
          "value": 1.4084386413513488
         },
         {
          "formattedValue": "1.6061",
          "ordinal": 177,
          "properties": {
           "BACK_COLOR": null,
           "FONT_FLAGS": 0,
           "FORE_COLOR": null
          },
          "value": 1.6060501012844517
         },
         {
          "formattedValue": ".7206",
          "ordinal": 178,
          "properties": {
           "BACK_COLOR": 11065270,
           "FONT_FLAGS": 0,
           "FORE_COLOR": null
          },
          "value": 0.7206048200829318
         },
         {
          "formattedValue": "-.7909",
          "ordinal": 179,
          "properties": {
           "BACK_COLOR": null,
           "FONT_FLAGS": 0,
           "FORE_COLOR": null
          },
          "value": -0.7908928393078027
         },
         {
          "formattedValue": "1.0632",
          "ordinal": 180,
          "properties": {
           "BACK_COLOR": null,
           "FONT_FLAGS": 0,
           "FORE_COLOR": null
          },
          "value": 1.0631536846784218
         },
         {
          "formattedValue": "1.6583",
          "ordinal": 181,
          "properties": {
           "BACK_COLOR": null,
           "FONT_FLAGS": 0,
           "FORE_COLOR": null
          },
          "value": 1.6583267423968726
         },
         {
          "formattedValue": "1.0100",
          "ordinal": 182,
          "properties": {
           "BACK_COLOR": null,
           "FONT_FLAGS": 0,
           "FORE_COLOR": null
          },
          "value": 1.0100430523615915
         },
         {
          "formattedValue": ".3282",
          "ordinal": 183,
          "properties": {
           "BACK_COLOR": null,
           "FONT_FLAGS": 0,
           "FORE_COLOR": null
          },
          "value": 0.32816005116143465
         },
         {
          "formattedValue": "1.4793",
          "ordinal": 184,
          "properties": {
           "BACK_COLOR": null,
           "FONT_FLAGS": 0,
           "FORE_COLOR": null
          },
          "value": 1.479348951961004
         },
         {
          "formattedValue": "1.1399",
          "ordinal": 185,
          "properties": {
           "BACK_COLOR": null,
           "FONT_FLAGS": 0,
           "FORE_COLOR": null
          },
          "value": 1.1398901043357483
         },
         {
          "formattedValue": ".6051",
          "ordinal": 186,
          "properties": {
           "BACK_COLOR": 11065270,
           "FONT_FLAGS": 0,
           "FORE_COLOR": null
          },
          "value": 0.6050985820144161
         },
         {
          "formattedValue": ".0891",
          "ordinal": 187,
          "properties": {
           "BACK_COLOR": null,
           "FONT_FLAGS": 0,
           "FORE_COLOR": null
          },
          "value": 0.08913973145675769
         },
         {
          "formattedValue": "1.4639",
          "ordinal": 188,
          "properties": {
           "BACK_COLOR": null,
           "FONT_FLAGS": 0,
           "FORE_COLOR": null
          },
          "value": 1.4639359872934508
         },
         {
          "formattedValue": "1.9564",
          "ordinal": 189,
          "properties": {
           "BACK_COLOR": null,
           "FONT_FLAGS": 0,
           "FORE_COLOR": null
          },
          "value": 1.956440409261126
         },
         {
          "formattedValue": "1.2681",
          "ordinal": 190,
          "properties": {
           "BACK_COLOR": null,
           "FONT_FLAGS": 0,
           "FORE_COLOR": null
          },
          "value": 1.268066215740829
         },
         {
          "formattedValue": "1.6304",
          "ordinal": 191,
          "properties": {
           "BACK_COLOR": null,
           "FONT_FLAGS": 0,
           "FORE_COLOR": null
          },
          "value": 1.630429272982723
         },
         {
          "formattedValue": "-2.8604",
          "ordinal": 192,
          "properties": {
           "BACK_COLOR": null,
           "FONT_FLAGS": 0,
           "FORE_COLOR": null
          },
          "value": -2.8604264629451603
         },
         {
          "formattedValue": "27.4353",
          "ordinal": 193,
          "properties": {
           "BACK_COLOR": null,
           "FONT_FLAGS": 0,
           "FORE_COLOR": null
          },
          "value": 27.43533302609259
         },
         {
          "formattedValue": "-1.6546",
          "ordinal": 194,
          "properties": {
           "BACK_COLOR": null,
           "FONT_FLAGS": 0,
           "FORE_COLOR": null
          },
          "value": -1.654558332231297
         },
         {
          "formattedValue": "12.7018",
          "ordinal": 195,
          "properties": {
           "BACK_COLOR": null,
           "FONT_FLAGS": 0,
           "FORE_COLOR": null
          },
          "value": 12.70179659175099
         },
         {
          "formattedValue": "-2.2145",
          "ordinal": 196,
          "properties": {
           "BACK_COLOR": null,
           "FONT_FLAGS": 0,
           "FORE_COLOR": null
          },
          "value": -2.214527373736426
         },
         {
          "formattedValue": "18.9068",
          "ordinal": 197,
          "properties": {
           "BACK_COLOR": null,
           "FONT_FLAGS": 0,
           "FORE_COLOR": null
          },
          "value": 18.906760227689542
         },
         {
          "formattedValue": ".9739",
          "ordinal": 198,
          "properties": {
           "BACK_COLOR": 11065270,
           "FONT_FLAGS": 0,
           "FORE_COLOR": null
          },
          "value": 0.9739349921804458
         },
         {
          "formattedValue": "26.7109",
          "ordinal": 199,
          "properties": {
           "BACK_COLOR": null,
           "FONT_FLAGS": 0,
           "FORE_COLOR": null
          },
          "value": 26.710869439067856
         },
         {
          "formattedValue": "-1.1031",
          "ordinal": 200,
          "properties": {
           "BACK_COLOR": null,
           "FONT_FLAGS": 0,
           "FORE_COLOR": null
          },
          "value": -1.103105851159901
         },
         {
          "formattedValue": "17.5666",
          "ordinal": 201,
          "properties": {
           "BACK_COLOR": null,
           "FONT_FLAGS": 0,
           "FORE_COLOR": null
          },
          "value": 17.566638548344866
         },
         {
          "formattedValue": ".5700",
          "ordinal": 202,
          "properties": {
           "BACK_COLOR": 11065270,
           "FONT_FLAGS": 0,
           "FORE_COLOR": null
          },
          "value": 0.569950948260292
         },
         {
          "formattedValue": "7.6036",
          "ordinal": 203,
          "properties": {
           "BACK_COLOR": null,
           "FONT_FLAGS": 0,
           "FORE_COLOR": null
          },
          "value": 7.603569115701498
         },
         {
          "formattedValue": "5.4856",
          "ordinal": 204,
          "properties": {
           "BACK_COLOR": null,
           "FONT_FLAGS": 0,
           "FORE_COLOR": null
          },
          "value": 5.485579124723035
         },
         {
          "formattedValue": "77.3139",
          "ordinal": 205,
          "properties": {
           "BACK_COLOR": null,
           "FONT_FLAGS": 0,
           "FORE_COLOR": null
          },
          "value": 77.31388541161331
         },
         {
          "formattedValue": "-1.6352",
          "ordinal": 206,
          "properties": {
           "BACK_COLOR": null,
           "FONT_FLAGS": 0,
           "FORE_COLOR": null
          },
          "value": -1.63518000385419
         },
         {
          "formattedValue": "13.1041",
          "ordinal": 207,
          "properties": {
           "BACK_COLOR": null,
           "FONT_FLAGS": 0,
           "FORE_COLOR": null
          },
          "value": 13.10405859603064
         },
         {
          "formattedValue": ".3434",
          "ordinal": 208,
          "properties": {
           "BACK_COLOR": 2924588,
           "FONT_FLAGS": 0,
           "FORE_COLOR": 16777215
          },
          "value": 0.34336969834468184
         },
         {
          "formattedValue": "12.0113",
          "ordinal": 209,
          "properties": {
           "BACK_COLOR": null,
           "FONT_FLAGS": 0,
           "FORE_COLOR": 16777215
          },
          "value": 12.011261092874193
         },
         {
          "formattedValue": "-2.1029",
          "ordinal": 210,
          "properties": {
           "BACK_COLOR": null,
           "FONT_FLAGS": 0,
           "FORE_COLOR": null
          },
          "value": -2.102855927056725
         },
         {
          "formattedValue": "18.3557",
          "ordinal": 211,
          "properties": {
           "BACK_COLOR": null,
           "FONT_FLAGS": 0,
           "FORE_COLOR": null
          },
          "value": 18.35574255190801
         },
         {
          "formattedValue": "-1.8955",
          "ordinal": 212,
          "properties": {
           "BACK_COLOR": null,
           "FONT_FLAGS": 0,
           "FORE_COLOR": null
          },
          "value": -1.8954612136231503
         },
         {
          "formattedValue": "16.7128",
          "ordinal": 213,
          "properties": {
           "BACK_COLOR": null,
           "FONT_FLAGS": 0,
           "FORE_COLOR": null
          },
          "value": 16.71276455877764
         },
         {
          "formattedValue": "-.9010",
          "ordinal": 214,
          "properties": {
           "BACK_COLOR": 11065270,
           "FONT_FLAGS": 0,
           "FORE_COLOR": null
          },
          "value": -0.9010086752764437
         },
         {
          "formattedValue": "10.3832",
          "ordinal": 215,
          "properties": {
           "BACK_COLOR": null,
           "FONT_FLAGS": 0,
           "FORE_COLOR": null
          },
          "value": 10.383175307865407
         },
         {
          "formattedValue": "3.3296",
          "ordinal": 216,
          "properties": {
           "BACK_COLOR": null,
           "FONT_FLAGS": 0,
           "FORE_COLOR": null
          },
          "value": 3.3295540551905094
         },
         {
          "formattedValue": "10.9932",
          "ordinal": 217,
          "properties": {
           "BACK_COLOR": null,
           "FONT_FLAGS": 0,
           "FORE_COLOR": null
          },
          "value": 10.993249883292462
         },
         {
          "formattedValue": "5.5813",
          "ordinal": 218,
          "properties": {
           "BACK_COLOR": null,
           "FONT_FLAGS": 0,
           "FORE_COLOR": null
          },
          "value": 5.581306029901097
         },
         {
          "formattedValue": "36.4621",
          "ordinal": 219,
          "properties": {
           "BACK_COLOR": null,
           "FONT_FLAGS": 0,
           "FORE_COLOR": null
          },
          "value": 36.46214048058394
         },
         {
          "formattedValue": "8.7370",
          "ordinal": 220,
          "properties": {
           "BACK_COLOR": null,
           "FONT_FLAGS": 0,
           "FORE_COLOR": null
          },
          "value": 8.737004270214793
         },
         {
          "formattedValue": "97.8178",
          "ordinal": 221,
          "properties": {
           "BACK_COLOR": null,
           "FONT_FLAGS": 0,
           "FORE_COLOR": null
          },
          "value": 97.81780866986712
         },
         {
          "formattedValue": "4.1292",
          "ordinal": 222,
          "properties": {
           "BACK_COLOR": null,
           "FONT_FLAGS": 0,
           "FORE_COLOR": null
          },
          "value": 4.129200287453483
         },
         {
          "formattedValue": "20.6940",
          "ordinal": 223,
          "properties": {
           "BACK_COLOR": null,
           "FONT_FLAGS": 0,
           "FORE_COLOR": null
          },
          "value": 20.694006849809245
         },
         {
          "formattedValue": "4.4102",
          "ordinal": 224,
          "properties": {
           "BACK_COLOR": null,
           "FONT_FLAGS": 0,
           "FORE_COLOR": null
          },
          "value": 4.410158910795659
         },
         {
          "formattedValue": "23.7127",
          "ordinal": 225,
          "properties": {
           "BACK_COLOR": null,
           "FONT_FLAGS": 0,
           "FORE_COLOR": null
          },
          "value": 23.712663557724255
         },
         {
          "formattedValue": "5.6205",
          "ordinal": 226,
          "properties": {
           "BACK_COLOR": null,
           "FONT_FLAGS": 0,
           "FORE_COLOR": null
          },
          "value": 5.620510494943521
         },
         {
          "formattedValue": "38.9414",
          "ordinal": 227,
          "properties": {
           "BACK_COLOR": null,
           "FONT_FLAGS": 0,
           "FORE_COLOR": null
          },
          "value": 38.94142365143897
         },
         {
          "formattedValue": "6.3613",
          "ordinal": 228,
          "properties": {
           "BACK_COLOR": null,
           "FONT_FLAGS": 0,
           "FORE_COLOR": null
          },
          "value": 6.361349094275876
         },
         {
          "formattedValue": "48.1929",
          "ordinal": 229,
          "properties": {
           "BACK_COLOR": null,
           "FONT_FLAGS": 0,
           "FORE_COLOR": null
          },
          "value": 48.19287445838326
         },
         {
          "formattedValue": "6.6778",
          "ordinal": 230,
          "properties": {
           "BACK_COLOR": null,
           "FONT_FLAGS": 0,
           "FORE_COLOR": null
          },
          "value": 6.677816311925024
         },
         {
          "formattedValue": "53.4971",
          "ordinal": 231,
          "properties": {
           "BACK_COLOR": null,
           "FONT_FLAGS": 0,
           "FORE_COLOR": null
          },
          "value": 53.49708798570747
         },
         {
          "formattedValue": "8.2146",
          "ordinal": 232,
          "properties": {
           "BACK_COLOR": null,
           "FONT_FLAGS": 0,
           "FORE_COLOR": null
          },
          "value": 8.214613498604455
         },
         {
          "formattedValue": "82.1419",
          "ordinal": 233,
          "properties": {
           "BACK_COLOR": null,
           "FONT_FLAGS": 0,
           "FORE_COLOR": null
          },
          "value": 82.14193879408938
         },
         {
          "formattedValue": "5.1742",
          "ordinal": 234,
          "properties": {
           "BACK_COLOR": null,
           "FONT_FLAGS": 0,
           "FORE_COLOR": null
          },
          "value": 5.174214990527546
         },
         {
          "formattedValue": "30.1525",
          "ordinal": 235,
          "properties": {
           "BACK_COLOR": null,
           "FONT_FLAGS": 0,
           "FORE_COLOR": null
          },
          "value": 30.152522340313915
         },
         {
          "formattedValue": "12.1623",
          "ordinal": 236,
          "properties": {
           "BACK_COLOR": null,
           "FONT_FLAGS": 0,
           "FORE_COLOR": null
          },
          "value": 12.162302993294912
         },
         {
          "formattedValue": "171.2163",
          "ordinal": 237,
          "properties": {
           "BACK_COLOR": null,
           "FONT_FLAGS": 0,
           "FORE_COLOR": null
          },
          "value": 171.2162731733522
         },
         {
          "formattedValue": "7.0868",
          "ordinal": 238,
          "properties": {
           "BACK_COLOR": null,
           "FONT_FLAGS": 0,
           "FORE_COLOR": null
          },
          "value": 7.086824390175098
         },
         {
          "formattedValue": "57.0537",
          "ordinal": 239,
          "properties": {
           "BACK_COLOR": null,
           "FONT_FLAGS": 0,
           "FORE_COLOR": null
          },
          "value": 57.053705812520924
         },
         {
          "formattedValue": "3.2383",
          "ordinal": 240,
          "properties": {
           "BACK_COLOR": null,
           "FONT_FLAGS": 0,
           "FORE_COLOR": null
          },
          "value": 3.238258277944384
         },
         {
          "formattedValue": "10.0846",
          "ordinal": 241,
          "properties": {
           "BACK_COLOR": null,
           "FONT_FLAGS": 0,
           "FORE_COLOR": null
          },
          "value": 10.084647339415557
         },
         {
          "formattedValue": "7.1872",
          "ordinal": 242,
          "properties": {
           "BACK_COLOR": null,
           "FONT_FLAGS": 0,
           "FORE_COLOR": null
          },
          "value": 7.187175374615548
         },
         {
          "formattedValue": "56.3613",
          "ordinal": 243,
          "properties": {
           "BACK_COLOR": null,
           "FONT_FLAGS": 0,
           "FORE_COLOR": null
          },
          "value": 56.361276576936504
         },
         {
          "formattedValue": "11.1749",
          "ordinal": 244,
          "properties": {
           "BACK_COLOR": null,
           "FONT_FLAGS": 0,
           "FORE_COLOR": null
          },
          "value": 11.174934531316453
         },
         {
          "formattedValue": "149.4575",
          "ordinal": 245,
          "properties": {
           "BACK_COLOR": null,
           "FONT_FLAGS": 0,
           "FORE_COLOR": null
          },
          "value": 149.4575408375901
         },
         {
          "formattedValue": "5.0706",
          "ordinal": 246,
          "properties": {
           "BACK_COLOR": null,
           "FONT_FLAGS": 0,
           "FORE_COLOR": null
          },
          "value": 5.070631358366366
         },
         {
          "formattedValue": "28.9653",
          "ordinal": 247,
          "properties": {
           "BACK_COLOR": null,
           "FONT_FLAGS": 0,
           "FORE_COLOR": null
          },
          "value": 28.96526746716513
         },
         {
          "formattedValue": "5.4547",
          "ordinal": 248,
          "properties": {
           "BACK_COLOR": null,
           "FONT_FLAGS": 0,
           "FORE_COLOR": null
          },
          "value": 5.454737673464615
         },
         {
          "formattedValue": "34.4711",
          "ordinal": 249,
          "properties": {
           "BACK_COLOR": null,
           "FONT_FLAGS": 0,
           "FORE_COLOR": null
          },
          "value": 34.47111280814512
         },
         {
          "formattedValue": "7.1999",
          "ordinal": 250,
          "properties": {
           "BACK_COLOR": null,
           "FONT_FLAGS": 0,
           "FORE_COLOR": null
          },
          "value": 7.199868034938349
         },
         {
          "formattedValue": "63.7353",
          "ordinal": 251,
          "properties": {
           "BACK_COLOR": null,
           "FONT_FLAGS": 0,
           "FORE_COLOR": null
          },
          "value": 63.735294299924746
         },
         {
          "formattedValue": "13.0734",
          "ordinal": 252,
          "properties": {
           "BACK_COLOR": null,
           "FONT_FLAGS": 0,
           "FORE_COLOR": null
          },
          "value": 13.073384330058307
         },
         {
          "formattedValue": "189.5135",
          "ordinal": 253,
          "properties": {
           "BACK_COLOR": null,
           "FONT_FLAGS": 0,
           "FORE_COLOR": null
          },
          "value": 189.51352574389082
         },
         {
          "formattedValue": "9.7060",
          "ordinal": 254,
          "properties": {
           "BACK_COLOR": null,
           "FONT_FLAGS": 0,
           "FORE_COLOR": null
          },
          "value": 9.70601088554857
         },
         {
          "formattedValue": "113.8723",
          "ordinal": 255,
          "properties": {
           "BACK_COLOR": null,
           "FONT_FLAGS": 0,
           "FORE_COLOR": null
          },
          "value": 113.87226671517894
         },
         {
          "formattedValue": "11.3406",
          "ordinal": 256,
          "properties": {
           "BACK_COLOR": null,
           "FONT_FLAGS": 0,
           "FORE_COLOR": null
          },
          "value": 11.340572646162638
         },
         {
          "formattedValue": "146.0978",
          "ordinal": 257,
          "properties": {
           "BACK_COLOR": null,
           "FONT_FLAGS": 0,
           "FORE_COLOR": null
          },
          "value": 146.09782489592098
         },
         {
          "formattedValue": "13.6492",
          "ordinal": 258,
          "properties": {
           "BACK_COLOR": null,
           "FONT_FLAGS": 0,
           "FORE_COLOR": null
          },
          "value": 13.64917083919501
         },
         {
          "formattedValue": "206.3656",
          "ordinal": 259,
          "properties": {
           "BACK_COLOR": null,
           "FONT_FLAGS": 0,
           "FORE_COLOR": null
          },
          "value": 206.36558055322135
         },
         {
          "formattedValue": "13.4045",
          "ordinal": 260,
          "properties": {
           "BACK_COLOR": null,
           "FONT_FLAGS": 0,
           "FORE_COLOR": null
          },
          "value": 13.404495934180998
         },
         {
          "formattedValue": "198.8093",
          "ordinal": 261,
          "properties": {
           "BACK_COLOR": null,
           "FONT_FLAGS": 0,
           "FORE_COLOR": null
          },
          "value": 198.8093471334462
         },
         {
          "formattedValue": "7.9140",
          "ordinal": 262,
          "properties": {
           "BACK_COLOR": null,
           "FONT_FLAGS": 0,
           "FORE_COLOR": null
          },
          "value": 7.913981045217539
         },
         {
          "formattedValue": "68.3723",
          "ordinal": 263,
          "properties": {
           "BACK_COLOR": null,
           "FONT_FLAGS": 0,
           "FORE_COLOR": null
          },
          "value": 68.37226296021998
         },
         {
          "formattedValue": "2.5591",
          "ordinal": 264,
          "properties": {
           "BACK_COLOR": null,
           "FONT_FLAGS": 0,
           "FORE_COLOR": null
          },
          "value": 2.559058785635799
         },
         {
          "formattedValue": "6.7971",
          "ordinal": 265,
          "properties": {
           "BACK_COLOR": null,
           "FONT_FLAGS": 0,
           "FORE_COLOR": null
          },
          "value": 6.7971237902807005
         },
         {
          "formattedValue": "2.6067",
          "ordinal": 266,
          "properties": {
           "BACK_COLOR": null,
           "FONT_FLAGS": 0,
           "FORE_COLOR": null
          },
          "value": 2.6067447384600433
         },
         {
          "formattedValue": "7.2717",
          "ordinal": 267,
          "properties": {
           "BACK_COLOR": null,
           "FONT_FLAGS": 0,
           "FORE_COLOR": null
          },
          "value": 7.271679497268563
         },
         {
          "formattedValue": "2.0279",
          "ordinal": 268,
          "properties": {
           "BACK_COLOR": null,
           "FONT_FLAGS": 0,
           "FORE_COLOR": null
          },
          "value": 2.0278973317977558
         },
         {
          "formattedValue": "3.5307",
          "ordinal": 269,
          "properties": {
           "BACK_COLOR": null,
           "FONT_FLAGS": 0,
           "FORE_COLOR": null
          },
          "value": 3.5306599113336192
         },
         {
          "formattedValue": "3.0760",
          "ordinal": 270,
          "properties": {
           "BACK_COLOR": null,
           "FONT_FLAGS": 0,
           "FORE_COLOR": null
          },
          "value": 3.0760285875049393
         },
         {
          "formattedValue": "9.9554",
          "ordinal": 271,
          "properties": {
           "BACK_COLOR": null,
           "FONT_FLAGS": 0,
           "FORE_COLOR": null
          },
          "value": 9.955368667487154
         },
         {
          "formattedValue": "2.3988",
          "ordinal": 272,
          "properties": {
           "BACK_COLOR": null,
           "FONT_FLAGS": 0,
           "FORE_COLOR": null
          },
          "value": 2.3988353588086224
         },
         {
          "formattedValue": "5.6884",
          "ordinal": 273,
          "properties": {
           "BACK_COLOR": null,
           "FONT_FLAGS": 0,
           "FORE_COLOR": null
          },
          "value": 5.688443887642636
         },
         {
          "formattedValue": "2.2264",
          "ordinal": 274,
          "properties": {
           "BACK_COLOR": null,
           "FONT_FLAGS": 0,
           "FORE_COLOR": null
          },
          "value": 2.2263743430255265
         },
         {
          "formattedValue": "7.1526",
          "ordinal": 275,
          "properties": {
           "BACK_COLOR": null,
           "FONT_FLAGS": 0,
           "FORE_COLOR": null
          },
          "value": 7.152558288472131
         },
         {
          "formattedValue": "6.2483",
          "ordinal": 276,
          "properties": {
           "BACK_COLOR": null,
           "FONT_FLAGS": 0,
           "FORE_COLOR": null
          },
          "value": 6.248271656117837
         },
         {
          "formattedValue": "53.1473",
          "ordinal": 277,
          "properties": {
           "BACK_COLOR": null,
           "FONT_FLAGS": 0,
           "FORE_COLOR": null
          },
          "value": 53.14734048004729
         },
         {
          "formattedValue": "3.6603",
          "ordinal": 278,
          "properties": {
           "BACK_COLOR": null,
           "FONT_FLAGS": 0,
           "FORE_COLOR": null
          },
          "value": 3.6603113811690973
         },
         {
          "formattedValue": "17.6058",
          "ordinal": 279,
          "properties": {
           "BACK_COLOR": null,
           "FONT_FLAGS": 0,
           "FORE_COLOR": null
          },
          "value": 17.605811109377505
         },
         {
          "formattedValue": "2.4917",
          "ordinal": 280,
          "properties": {
           "BACK_COLOR": null,
           "FONT_FLAGS": 0,
           "FORE_COLOR": null
          },
          "value": 2.491675450763164
         },
         {
          "formattedValue": "7.0853",
          "ordinal": 281,
          "properties": {
           "BACK_COLOR": null,
           "FONT_FLAGS": 0,
           "FORE_COLOR": null
          },
          "value": 7.085265994503699
         },
         {
          "formattedValue": "5.8079",
          "ordinal": 282,
          "properties": {
           "BACK_COLOR": null,
           "FONT_FLAGS": 0,
           "FORE_COLOR": null
          },
          "value": 5.80791797665673
         },
         {
          "formattedValue": "49.6900",
          "ordinal": 283,
          "properties": {
           "BACK_COLOR": null,
           "FONT_FLAGS": 0,
           "FORE_COLOR": null
          },
          "value": 49.690015029656756
         },
         {
          "formattedValue": "2.5974",
          "ordinal": 284,
          "properties": {
           "BACK_COLOR": null,
           "FONT_FLAGS": 0,
           "FORE_COLOR": null
          },
          "value": 2.5974472258602357
         },
         {
          "formattedValue": "8.1879",
          "ordinal": 285,
          "properties": {
           "BACK_COLOR": null,
           "FONT_FLAGS": 0,
           "FORE_COLOR": null
          },
          "value": 8.187881083359628
         },
         {
          "formattedValue": "6.0732",
          "ordinal": 286,
          "properties": {
           "BACK_COLOR": null,
           "FONT_FLAGS": 0,
           "FORE_COLOR": null
          },
          "value": 6.073246095651592
         },
         {
          "formattedValue": "41.8896",
          "ordinal": 287,
          "properties": {
           "BACK_COLOR": null,
           "FONT_FLAGS": 0,
           "FORE_COLOR": null
          },
          "value": 41.889629689466865
         }
        ],
        "cube": "Cryptocurrency cube",
        "defaultMembers": [
         {
          "captionPath": [
           "Count"
          ],
          "dimension": "Measures",
          "hierarchy": "Measures",
          "path": [
           "contributors.COUNT"
          ]
         },
         {
          "captionPath": [
           "BTC"
          ],
          "dimension": "Cryptocurrency",
          "hierarchy": "Coin Symbol",
          "path": [
           "BTC"
          ]
         },
         {
          "captionPath": [
           "Base"
          ],
          "dimension": "Epoch",
          "hierarchy": "Epoch",
          "path": [
           "Base"
          ]
         }
        ],
        "epoch": 4
       },
       "cube": "Cryptocurrency cube",
       "error": null,
       "name": "Distribution stats",
       "session": "Unnamed"
      },
      "text/html": [
       "<img src=\"data:image/svg+xml;charset=utf8,%3C?xml%20version=%221.0%22%20standalone=%22no%22?%3E%0A%20%20%20%20%3Csvg%20xmlns=%22http://www.w3.org/2000/svg%22%20width=%22951%22%20height=%22459%22%3E%0A%20%20%20%20%20%20%3CforeignObject%20x=%220%22%20y=%220%22%20width=%22100%25%22%20height=%22100%25%22%3E%0A%20%20%20%20%20%20%20%20%3Cstyle%20type=%22text/css%22%3E.css-1ibuxvk-DockBody%20%7Bpadding-top:%200px;%20padding-left:%200px;%20padding-right:%200px;%20padding-bottom:%200px;%20flex-grow:%201;%20flex-shrink:%201;%20flex-basis:%200%25;%20box-sizing:%20border-box;%20position:%20relative;%20z-index:%200;%20overflow-x:%20hidden;%20overflow-y:%20hidden%7D%0A.css-14zuz97%20%7Bbackground-image:%20initial;%20background-position-x:%20initial;%20background-position-y:%20initial;%20background-size:%20initial;%20background-repeat-x:%20initial;%20background-repeat-y:%20initial;%20background-attachment:%20initial;%20background-origin:%20initial;%20background-color:%20rgba(0,%200,%200,%200.2);%20z-index:%201;%20box-sizing:%20border-box;%20background-clip:%20padding-box%7D%0A.css-14zuz97.vertical%20%7Bwidth:%2012px;%20margin-top:%200px;%20margin-right:%20-6px;%20margin-bottom:%200px;%20margin-left:%20-6px;%20border-left-width:%205.5px;%20border-left-style:%20solid;%20border-left-color:%20transparent;%20border-right-width:%205.5px;%20border-right-style:%20solid;%20border-right-color:%20transparent;%20cursor:%20col-resize%7D%0A.css-14zuz97.disabled%20%7Bdisplay:%20none%7D%0A.css-1lrljg1-EditorSplitPane%20%7Bbackground-color:%20rgb(255,%20255,%20255);%20flex-grow:%201;%20flex-shrink:%201;%20flex-basis:%200%25;%20margin-right:%200px;%20position:%20relative%7D%0A.css-15fz3t7-EditorSplitPane%20%7Bposition:%20absolute;%20top:%200px;%20bottom:%200px;%20left:%200px;%20right:%200px;%20display:%20flex;%20flex-direction:%20column%7D%0A.css-1k1fxuh-Tabular%20%7Bwidth:%20100%25;%20height:%20100%25;%20position:%20relative%7D%0A.css-10klw3m%20%7Bheight:%20100%25%7D%0A.css-mdjjdg-TabularHeader%20%7Bdisplay:%20flex%7D%0A.css-12nzxaz-PinnedTabularHeaders%20%7Bflex-shrink:%200;%20display:%20flex%7D%0A.css-5jtkjp-UnpinnedTabularHeaders%20%7Bdisplay:%20flex;%20position:%20absolute;%20left:%200px%7D%0A.css-19w2ip5-TabularHeaderCell%20%7Bcursor:%20default;%20-webkit-box-flex:%201;%20flex-grow:%201;%20flex-shrink:%201;%20box-sizing:%20border-box;%20padding-left:%204px;%20padding-right:%204px;%20padding-top:%204px;%20padding-bottom:%204px;%20height:%20100%25;%20overflow-x:%20hidden;%20overflow-y:%20hidden;%20display:%20flex;%20white-space:%20nowrap;%20-webkit-box-pack:%20start;%20justify-content:%20flex-start;%20align-items:%20flex-start%7D%0A.css-jpazdc-TabularHeaderCell%20%7Boverflow-x:%20hidden;%20overflow-y:%20hidden;%20text-overflow:%20ellipsis%7D%0A.css-y3oqqp%20%7Bfont-size:%2012px;%20line-height:%2022px;%20font-weight:%20600;%20color:%20rgba(0,%200,%200,%200.85)%7D%0A.css-c7y3a7-TabularHeaderCell%20%7Bflex-shrink:%200;%20height:%20100%25;%20display:%20flex;%20-webkit-box-pack:%20center;%20justify-content:%20center%7D%0A.css-1id6sm3-UnpinnedTabularRows%20%7Bposition:%20absolute;%20top:%200px;%20left:%200px%7D%0A.css-3cge9w%20%7Bcursor:%20cell;%20display:%20flex;%20height:%2028px;%20user-select:%20none%7D%0A.css-9ssj44-TreeCell%20%7Bwidth:%20min-content%7D%0A.css-mkrhzq%20%7Bdisplay:%20flex;%20margin-left:%200px%7D%0A.css-1i6gc04%20%7Bcursor:%20pointer;%20margin-top:%202px;%20height:%20inherit;%20display:%20flex;%20-webkit-box-align:%20center;%20align-items:%20center;%20font-size:%2010px;%20width:%2016px%7D%0A.css-8uhtka%20%7Boverflow-x:%20hidden;%20overflow-y:%20hidden;%20text-overflow:%20ellipsis;%20white-space:%20nowrap%7D%0A.css-1ouk3zc-EditorSplitPane%20%7Bbackground-color:%20rgb(255,%20255,%20255);%20flex-grow:%201;%20flex-shrink:%201;%20flex-basis:%200%25%7D%0A.css-1jjvrwi-EditorSplitPane%20%7Bposition:%20absolute;%20top:%200px;%20bottom:%200px;%20left:%200px;%20right:%200px;%20overflow-y:%20auto%7D%0A.css-1qlioq-TabularPinnSeparator%20%7Bwidth:%202px;%20height:%2056px;%20background-color:%20rgb(233,%20233,%20233)%7D%0A.css-1ag4cda-TabularHeaderCell%20%7Bcursor:%20default;%20-webkit-box-flex:%201;%20flex-grow:%201;%20flex-shrink:%201;%20box-sizing:%20border-box;%20padding-left:%204px;%20padding-right:%204px;%20padding-top:%204px;%20padding-bottom:%204px;%20height:%20100%25;%20overflow-x:%20hidden;%20overflow-y:%20hidden;%20display:%20flex;%20overflow-wrap:%20break-word;%20-webkit-box-pack:%20start;%20justify-content:%20flex-start;%20align-items:%20flex-start%7D%0A.css-1beyhqc-TabularHeaderGroup%20%7Bposition:%20relative;%20width:%20133px%7D%0A.css-c9uvep%20%7Bcolor:%20rgba(0,%200,%200,%200.85);%20display:%20flex;%20box-sizing:%20border-box;%20-webkit-box-align:%20center;%20align-items:%20center;%20height:%2056px;%20position:%20absolute;%20top:%200px;%20left:%200px;%20user-select:%20none;%20font-size:%2012px;%20line-height:%2022px;%20font-weight:%20600;%20border-bottom-width:%202px;%20border-bottom-style:%20solid;%20border-bottom-color:%20rgb(233,%20233,%20233);%20width:%20133px;%20border-right-width:%201px;%20border-right-style:%20solid;%20border-right-color:%20rgb(233,%20233,%20233)%7D%0A.css-idxgkb-HeaderResizer%20%7Bposition:%20absolute;%20z-index:%201;%20width:%2010px;%20height:%2056px;%20left:%20128px;%20top:%200px;%20cursor:%20col-resize%7D%0A.css-11pimyg-HeaderResizer%20%7Bposition:%20absolute;%20z-index:%201;%20height:%2010px;%20width:%20133px;%20left:%200px;%20top:%2051px;%20cursor:%20row-resize%7D%0A.css-1sicd2k%20%7Bheight:%20100%25;%20box-sizing:%20border-box;%20display:%20flex;%20-webkit-box-pack:%20end;%20justify-content:%20flex-end;%20flex-direction:%20column;%20padding-top:%204px;%20padding-left:%204px;%20padding-right:%204px;%20padding-bottom:%203px;%20overflow-x:%20hidden;%20overflow-y:%20hidden;%20white-space:%20nowrap;%20border-right-width:%201px;%20border-right-style:%20solid;%20border-right-color:%20rgb(233,%20233,%20233);%20border-bottom-width:%20initial;%20border-bottom-style:%20none;%20border-bottom-color:%20initial;%20width:%20133px;%20align-items:%20flex-start;%20background-color:%20rgb(250,%20250,%20250)%7D%0A.css-1n48d82-dock%20%7Bposition:%20relative;%20z-index:%200;%20height:%20100%25;%20background-color:%20rgb(255,%20255,%20255);%20box-shadow:%20rgba(33,%20150,%20243,%200.6)%200px%200px%200px%201.25px%20inset;%20display:%20flex;%20flex-direction:%20column%7D%0A.css-pm742e%20%7Bcursor:%20pointer;%20margin-top:%202px;%20height:%20inherit;%20display:%20flex;%20-webkit-box-align:%20center;%20align-items:%20center;%20font-size:%2010px;%20-webkit-box-pack:%20center;%20justify-content:%20center;%20padding-left:%204px%7D%0A.css-8r2ljj-PinnedTabularRows%20%7Bposition:%20absolute;%20right:%200px%7D%0A.css-wvyx8h-PinnedTabularRows%20%7Bwidth:%202px;%20height:%20336px;%20background-color:%20rgb(233,%20233,%20233)%7D%0A.css-1hcmypl-TabularCell%20%7Bheight:%2028px;%20box-sizing:%20border-box;%20display:%20flex;%20-webkit-box-pack:%20end;%20justify-content:%20flex-end;%20flex-direction:%20column;%20padding-top:%204px;%20padding-left:%204px;%20padding-right:%204px;%20padding-bottom:%203px;%20overflow-x:%20hidden;%20overflow-y:%20hidden;%20white-space:%20nowrap;%20border-right-width:%201px;%20border-right-style:%20solid;%20border-right-color:%20rgb(233,%20233,%20233);%20border-bottom-width:%20initial;%20border-bottom-style:%20none;%20border-bottom-color:%20initial;%20width:%20120px;%20background-color:%20rgb(250,%20250,%20250);%20cursor:%20cell;%20user-select:%20none;%20text-align:%20right;%20align-items:%20flex-end%7D%0A.css-mkoicc-CaptionCellRenderer%20%7Bwidth:%20100%25;%20overflow-x:%20hidden;%20overflow-y:%20hidden;%20text-overflow:%20ellipsis;%20white-space:%20nowrap%7D%0A.css-qazlap-TabularCell%20%7Bheight:%2028px;%20box-sizing:%20border-box;%20display:%20flex;%20-webkit-box-pack:%20end;%20justify-content:%20flex-end;%20flex-direction:%20column;%20padding-top:%204px;%20padding-left:%204px;%20padding-right:%204px;%20padding-bottom:%203px;%20overflow-x:%20hidden;%20overflow-y:%20hidden;%20white-space:%20nowrap;%20border-right-width:%201px;%20border-right-style:%20solid;%20border-right-color:%20rgb(233,%20233,%20233);%20border-bottom-width:%20initial;%20border-bottom-style:%20none;%20border-bottom-color:%20initial;%20width:%20120px;%20cursor:%20cell;%20user-select:%20none;%20text-align:%20right;%20align-items:%20flex-end%7D%0A.css-13vtqji-TabularCell%20%7Bheight:%2028px;%20box-sizing:%20border-box;%20display:%20flex;%20-webkit-box-pack:%20end;%20justify-content:%20flex-end;%20flex-direction:%20column;%20padding-top:%204px;%20padding-left:%204px;%20padding-right:%204px;%20padding-bottom:%203px;%20overflow-x:%20hidden;%20overflow-y:%20hidden;%20white-space:%20nowrap;%20border-right-width:%201px;%20border-right-style:%20solid;%20border-right-color:%20rgb(233,%20233,%20233);%20border-bottom-width:%201px;%20border-bottom-style:%20solid;%20border-bottom-color:%20rgb(233,%20233,%20233);%20width:%20120px;%20cursor:%20cell;%20user-select:%20none;%20text-align:%20right;%20align-items:%20flex-end%7D%0A.css-1a58jpv%20%7Bfont-size:%2012px;%20line-height:%2022px;%20font-weight:%20600;%20color:%20rgba(0,%200,%200,%200.85);%20text-align:%20center;%20-webkit-box-align:%20center;%20align-items:%20center;%20box-sizing:%20border-box;%20padding-left:%203px;%20padding-right:%203px;%20padding-top:%204px;%20padding-bottom:%204px;%20border-right-width:%201px;%20border-right-style:%20solid;%20border-right-color:%20rgb(233,%20233,%20233);%20width:%20205px;%20height:%2028px;%20position:%20absolute;%20top:%200px;%20left:%200px;%20cursor:%20auto;%20user-select:%20none;%20white-space:%20nowrap;%20text-overflow:%20ellipsis;%20overflow-x:%20hidden;%20overflow-y:%20hidden%7D%0A.css-irdj5z-HeaderResizer%20%7Bposition:%20absolute;%20z-index:%201;%20height:%2010px;%20width:%2085px;%20left:%200px;%20top:%2023px;%20cursor:%20row-resize%7D%0A.css-nmbow6%20%7Bcolor:%20rgba(0,%200,%200,%200.85);%20display:%20flex;%20box-sizing:%20border-box;%20-webkit-box-align:%20center;%20align-items:%20center;%20height:%2028px;%20position:%20absolute;%20top:%2028px;%20left:%200px;%20user-select:%20none;%20font-size:%2012px;%20line-height:%2022px;%20font-weight:%20600;%20border-bottom-width:%202px;%20border-bottom-style:%20solid;%20border-bottom-color:%20rgb(233,%20233,%20233);%20width:%2085px%7D%0A.css-1vpz3rc-HeaderResizer%20%7Bposition:%20absolute;%20z-index:%201;%20width:%2010px;%20height:%2028px;%20left:%2080px;%20top:%2028px;%20cursor:%20col-resize%7D%0A.css-x206a4-HeaderResizer%20%7Bposition:%20absolute;%20z-index:%201;%20height:%2010px;%20width:%2085px;%20left:%200px;%20top:%2051px;%20cursor:%20row-resize%7D%0A.css-57a373-HeaderResizer%20%7Bposition:%20absolute;%20z-index:%201;%20height:%2010px;%20width:%20120px;%20left:%2085px;%20top:%2023px;%20cursor:%20row-resize%7D%0A.css-anbimy%20%7Bcolor:%20rgba(0,%200,%200,%200.85);%20display:%20flex;%20box-sizing:%20border-box;%20-webkit-box-align:%20center;%20align-items:%20center;%20height:%2028px;%20position:%20absolute;%20top:%2028px;%20left:%2085px;%20user-select:%20none;%20font-size:%2012px;%20line-height:%2022px;%20font-weight:%20600;%20border-bottom-width:%202px;%20border-bottom-style:%20solid;%20border-bottom-color:%20rgb(233,%20233,%20233);%20width:%20120px;%20border-right-width:%201px;%20border-right-style:%20solid;%20border-right-color:%20rgb(233,%20233,%20233)%7D%0A.css-wl9co5-HeaderResizer%20%7Bposition:%20absolute;%20z-index:%201;%20width:%2010px;%20height:%2028px;%20left:%20200px;%20top:%2028px;%20cursor:%20col-resize%7D%0A.css-ls8rnl-HeaderResizer%20%7Bposition:%20absolute;%20z-index:%201;%20height:%2010px;%20width:%20120px;%20left:%2085px;%20top:%2051px;%20cursor:%20row-resize%7D%0A.css-oh1qg8%20%7Bfont-size:%2012px;%20line-height:%2022px;%20font-weight:%20600;%20color:%20rgba(0,%200,%200,%200.85);%20text-align:%20center;%20-webkit-box-align:%20center;%20align-items:%20center;%20box-sizing:%20border-box;%20padding-left:%203px;%20padding-right:%203px;%20padding-top:%204px;%20padding-bottom:%204px;%20border-right-width:%201px;%20border-right-style:%20solid;%20border-right-color:%20rgb(233,%20233,%20233);%20width:%20205px;%20height:%2028px;%20position:%20absolute;%20top:%200px;%20left:%20205px;%20cursor:%20auto;%20user-select:%20none;%20white-space:%20nowrap;%20text-overflow:%20ellipsis;%20overflow-x:%20hidden;%20overflow-y:%20hidden%7D%0A.css-1aoizv1-HeaderResizer%20%7Bposition:%20absolute;%20z-index:%201;%20height:%2010px;%20width:%2085px;%20left:%20205px;%20top:%2023px;%20cursor:%20row-resize%7D%0A.css-3ltuw1%20%7Bcolor:%20rgba(0,%200,%200,%200.85);%20display:%20flex;%20box-sizing:%20border-box;%20-webkit-box-align:%20center;%20align-items:%20center;%20height:%2028px;%20position:%20absolute;%20top:%2028px;%20left:%20205px;%20user-select:%20none;%20font-size:%2012px;%20line-height:%2022px;%20font-weight:%20600;%20border-bottom-width:%202px;%20border-bottom-style:%20solid;%20border-bottom-color:%20rgb(233,%20233,%20233);%20width:%2085px%7D%0A.css-1vsfk2y-HeaderResizer%20%7Bposition:%20absolute;%20z-index:%201;%20width:%2010px;%20height:%2028px;%20left:%20285px;%20top:%2028px;%20cursor:%20col-resize%7D%0A.css-1ijqzdw-HeaderResizer%20%7Bposition:%20absolute;%20z-index:%201;%20height:%2010px;%20width:%2085px;%20left:%20205px;%20top:%2051px;%20cursor:%20row-resize%7D%0A.css-do4r1r-HeaderResizer%20%7Bposition:%20absolute;%20z-index:%201;%20height:%2010px;%20width:%20120px;%20left:%20290px;%20top:%2023px;%20cursor:%20row-resize%7D%0A.css-uqrvp2%20%7Bcolor:%20rgba(0,%200,%200,%200.85);%20display:%20flex;%20box-sizing:%20border-box;%20-webkit-box-align:%20center;%20align-items:%20center;%20height:%2028px;%20position:%20absolute;%20top:%2028px;%20left:%20290px;%20user-select:%20none;%20font-size:%2012px;%20line-height:%2022px;%20font-weight:%20600;%20border-bottom-width:%202px;%20border-bottom-style:%20solid;%20border-bottom-color:%20rgb(233,%20233,%20233);%20width:%20120px;%20border-right-width:%201px;%20border-right-style:%20solid;%20border-right-color:%20rgb(233,%20233,%20233)%7D%0A.css-1fyd7w2-HeaderResizer%20%7Bposition:%20absolute;%20z-index:%201;%20width:%2010px;%20height:%2028px;%20left:%20405px;%20top:%2028px;%20cursor:%20col-resize%7D%0A.css-w0xyo0-HeaderResizer%20%7Bposition:%20absolute;%20z-index:%201;%20height:%2010px;%20width:%20120px;%20left:%20290px;%20top:%2051px;%20cursor:%20row-resize%7D%0A.css-14vgehj%20%7Bfont-size:%2012px;%20line-height:%2022px;%20font-weight:%20600;%20color:%20rgba(0,%200,%200,%200.85);%20text-align:%20center;%20-webkit-box-align:%20center;%20align-items:%20center;%20box-sizing:%20border-box;%20padding-left:%203px;%20padding-right:%203px;%20padding-top:%204px;%20padding-bottom:%204px;%20border-right-width:%201px;%20border-right-style:%20solid;%20border-right-color:%20rgb(233,%20233,%20233);%20width:%20205px;%20height:%2028px;%20position:%20absolute;%20top:%200px;%20left:%20410px;%20cursor:%20auto;%20user-select:%20none;%20white-space:%20nowrap;%20text-overflow:%20ellipsis;%20overflow-x:%20hidden;%20overflow-y:%20hidden%7D%0A.css-1soi6hb-HeaderResizer%20%7Bposition:%20absolute;%20z-index:%201;%20height:%2010px;%20width:%2085px;%20left:%20410px;%20top:%2023px;%20cursor:%20row-resize%7D%0A.css-sjy3r7%20%7Bcolor:%20rgba(0,%200,%200,%200.85);%20display:%20flex;%20box-sizing:%20border-box;%20-webkit-box-align:%20center;%20align-items:%20center;%20height:%2028px;%20position:%20absolute;%20top:%2028px;%20left:%20410px;%20user-select:%20none;%20font-size:%2012px;%20line-height:%2022px;%20font-weight:%20600;%20border-bottom-width:%202px;%20border-bottom-style:%20solid;%20border-bottom-color:%20rgb(233,%20233,%20233);%20width:%2085px%7D%0A.css-p4i49o-HeaderResizer%20%7Bposition:%20absolute;%20z-index:%201;%20width:%2010px;%20height:%2028px;%20left:%20490px;%20top:%2028px;%20cursor:%20col-resize%7D%0A.css-15rxt48-HeaderResizer%20%7Bposition:%20absolute;%20z-index:%201;%20height:%2010px;%20width:%2085px;%20left:%20410px;%20top:%2051px;%20cursor:%20row-resize%7D%0A.css-vsfek6-HeaderResizer%20%7Bposition:%20absolute;%20z-index:%201;%20height:%2010px;%20width:%20120px;%20left:%20495px;%20top:%2023px;%20cursor:%20row-resize%7D%0A.css-12h6bq6%20%7Bcolor:%20rgba(0,%200,%200,%200.85);%20display:%20flex;%20box-sizing:%20border-box;%20-webkit-box-align:%20center;%20align-items:%20center;%20height:%2028px;%20position:%20absolute;%20top:%2028px;%20left:%20495px;%20user-select:%20none;%20font-size:%2012px;%20line-height:%2022px;%20font-weight:%20600;%20border-bottom-width:%202px;%20border-bottom-style:%20solid;%20border-bottom-color:%20rgb(233,%20233,%20233);%20width:%20120px;%20border-right-width:%201px;%20border-right-style:%20solid;%20border-right-color:%20rgb(233,%20233,%20233)%7D%0A.css-pg741p-HeaderResizer%20%7Bposition:%20absolute;%20z-index:%201;%20width:%2010px;%20height:%2028px;%20left:%20610px;%20top:%2028px;%20cursor:%20col-resize%7D%0A.css-1sywpp4-HeaderResizer%20%7Bposition:%20absolute;%20z-index:%201;%20height:%2010px;%20width:%20120px;%20left:%20495px;%20top:%2051px;%20cursor:%20row-resize%7D%0A.css-1nmpjzf-HeaderResizer%20%7Bposition:%20absolute;%20z-index:%201;%20height:%2010px;%20width:%2085px;%20left:%20615px;%20top:%2023px;%20cursor:%20row-resize%7D%0A.css-478c49%20%7Bcolor:%20rgba(0,%200,%200,%200.85);%20display:%20flex;%20box-sizing:%20border-box;%20-webkit-box-align:%20center;%20align-items:%20center;%20height:%2028px;%20position:%20absolute;%20top:%2028px;%20left:%20615px;%20user-select:%20none;%20font-size:%2012px;%20line-height:%2022px;%20font-weight:%20600;%20border-bottom-width:%202px;%20border-bottom-style:%20solid;%20border-bottom-color:%20rgb(233,%20233,%20233);%20width:%2085px%7D%0A.css-185k6v2-HeaderResizer%20%7Bposition:%20absolute;%20z-index:%201;%20width:%2010px;%20height:%2028px;%20left:%20695px;%20top:%2028px;%20cursor:%20col-resize%7D%0A.css-iec2dz-HeaderResizer%20%7Bposition:%20absolute;%20z-index:%201;%20height:%2010px;%20width:%2085px;%20left:%20615px;%20top:%2051px;%20cursor:%20row-resize%7D%0A.css-16bfrew-HeaderResizer%20%7Bposition:%20absolute;%20z-index:%201;%20height:%2010px;%20width:%20120px;%20left:%20700px;%20top:%2023px;%20cursor:%20row-resize%7D%0A.css-1eimcbm%20%7Bcolor:%20rgba(0,%200,%200,%200.85);%20display:%20flex;%20box-sizing:%20border-box;%20-webkit-box-align:%20center;%20align-items:%20center;%20height:%2028px;%20position:%20absolute;%20top:%2028px;%20left:%20700px;%20user-select:%20none;%20font-size:%2012px;%20line-height:%2022px;%20font-weight:%20600;%20border-bottom-width:%202px;%20border-bottom-style:%20solid;%20border-bottom-color:%20rgb(233,%20233,%20233);%20width:%20120px;%20border-right-width:%201px;%20border-right-style:%20solid;%20border-right-color:%20rgb(233,%20233,%20233)%7D%0A.css-1ctsnau-HeaderResizer%20%7Bposition:%20absolute;%20z-index:%201;%20width:%2010px;%20height:%2028px;%20left:%20815px;%20top:%2028px;%20cursor:%20col-resize%7D%0A.css-1ok3xta-HeaderResizer%20%7Bposition:%20absolute;%20z-index:%201;%20height:%2010px;%20width:%20120px;%20left:%20700px;%20top:%2051px;%20cursor:%20row-resize%7D%0A.css-d38uyy-PinnedTabularRows%20%7Bposition:%20absolute;%20height:%20336px;%20width:%20135px;%20overflow-x:%20hidden;%20overflow-y:%20hidden%7D%0A.css-lz558z-PinnedTabularRows%20%7Bposition:%20absolute;%20overflow-x:%20hidden;%20overflow-y:%20hidden;%20top:%200px;%20width:%20133px%7D%0A.css-9xbk91%20%7Bheight:%20100%25;%20box-sizing:%20border-box;%20display:%20flex;%20-webkit-box-pack:%20end;%20justify-content:%20flex-end;%20flex-direction:%20column;%20padding-top:%204px;%20padding-left:%204px;%20padding-right:%204px;%20padding-bottom:%203px;%20overflow-x:%20hidden;%20overflow-y:%20hidden;%20white-space:%20nowrap;%20border-right-width:%201px;%20border-right-style:%20solid;%20border-right-color:%20rgb(233,%20233,%20233);%20border-bottom-width:%20initial;%20border-bottom-style:%20none;%20border-bottom-color:%20initial;%20width:%20133px;%20align-items:%20flex-start%7D%0A.css-3e5d91%20%7Bheight:%20100%25;%20box-sizing:%20border-box;%20display:%20flex;%20-webkit-box-pack:%20end;%20justify-content:%20flex-end;%20flex-direction:%20column;%20padding-top:%204px;%20padding-left:%204px;%20padding-right:%204px;%20padding-bottom:%203px;%20overflow-x:%20hidden;%20overflow-y:%20hidden;%20white-space:%20nowrap;%20border-right-width:%201px;%20border-right-style:%20solid;%20border-right-color:%20rgb(233,%20233,%20233);%20border-bottom-width:%201px;%20border-bottom-style:%20solid;%20border-bottom-color:%20rgb(233,%20233,%20233);%20width:%20133px;%20align-items:%20flex-start%7D%0A.css-130dmom-TabularCell%20%7Bheight:%2028px;%20box-sizing:%20border-box;%20display:%20flex;%20-webkit-box-pack:%20end;%20justify-content:%20flex-end;%20flex-direction:%20column;%20padding-top:%204px;%20padding-left:%204px;%20padding-right:%204px;%20padding-bottom:%203px;%20overflow-x:%20hidden;%20overflow-y:%20hidden;%20white-space:%20nowrap;%20border-right-width:%201px;%20border-right-style:%20solid;%20border-right-color:%20rgb(233,%20233,%20233);%20border-bottom-width:%20initial;%20border-bottom-style:%20none;%20border-bottom-color:%20initial;%20width:%2085px;%20background-color:%20rgb(250,%20250,%20250);%20cursor:%20cell;%20user-select:%20none;%20text-align:%20right;%20align-items:%20flex-end%7D%0A.css-88w1uu-TabularCell%20%7Bheight:%2028px;%20box-sizing:%20border-box;%20display:%20flex;%20-webkit-box-pack:%20end;%20justify-content:%20flex-end;%20flex-direction:%20column;%20padding-top:%204px;%20padding-left:%204px;%20padding-right:%204px;%20padding-bottom:%203px;%20overflow-x:%20hidden;%20overflow-y:%20hidden;%20white-space:%20nowrap;%20border-right-width:%201px;%20border-right-style:%20solid;%20border-right-color:%20rgb(233,%20233,%20233);%20border-bottom-width:%20initial;%20border-bottom-style:%20none;%20border-bottom-color:%20initial;%20width:%2085px;%20cursor:%20cell;%20user-select:%20none;%20text-align:%20right;%20align-items:%20flex-end%7D%0A.css-135yf5l-TabularCell%20%7Bheight:%2028px;%20box-sizing:%20border-box;%20display:%20flex;%20-webkit-box-pack:%20end;%20justify-content:%20flex-end;%20flex-direction:%20column;%20padding-top:%204px;%20padding-left:%204px;%20padding-right:%204px;%20padding-bottom:%203px;%20overflow-x:%20hidden;%20overflow-y:%20hidden;%20white-space:%20nowrap;%20border-right-width:%201px;%20border-right-style:%20solid;%20border-right-color:%20rgb(233,%20233,%20233);%20border-bottom-width:%20initial;%20border-bottom-style:%20none;%20border-bottom-color:%20initial;%20width:%2085px;%20cursor:%20cell;%20user-select:%20none;%20text-align:%20right;%20background-color:%20rgb(182,%20215,%20168);%20align-items:%20flex-end%7D%0A.css-16o31m6-TabularCell%20%7Bheight:%2028px;%20box-sizing:%20border-box;%20display:%20flex;%20-webkit-box-pack:%20end;%20justify-content:%20flex-end;%20flex-direction:%20column;%20padding-top:%204px;%20padding-left:%204px;%20padding-right:%204px;%20padding-bottom:%203px;%20overflow-x:%20hidden;%20overflow-y:%20hidden;%20white-space:%20nowrap;%20border-right-width:%201px;%20border-right-style:%20solid;%20border-right-color:%20rgb(233,%20233,%20233);%20border-bottom-width:%20initial;%20border-bottom-style:%20none;%20border-bottom-color:%20initial;%20width:%2085px;%20cursor:%20cell;%20user-select:%20none;%20text-align:%20right;%20background-color:%20rgb(44,%20160,%2044);%20color:%20rgb(255,%20255,%20255);%20align-items:%20flex-end%7D%0A.css-zldqq8-TabularCell%20%7Bheight:%2028px;%20box-sizing:%20border-box;%20display:%20flex;%20-webkit-box-pack:%20end;%20justify-content:%20flex-end;%20flex-direction:%20column;%20padding-top:%204px;%20padding-left:%204px;%20padding-right:%204px;%20padding-bottom:%203px;%20overflow-x:%20hidden;%20overflow-y:%20hidden;%20white-space:%20nowrap;%20border-right-width:%201px;%20border-right-style:%20solid;%20border-right-color:%20rgb(233,%20233,%20233);%20border-bottom-width:%20initial;%20border-bottom-style:%20none;%20border-bottom-color:%20initial;%20width:%20120px;%20cursor:%20cell;%20user-select:%20none;%20text-align:%20right;%20color:%20rgb(255,%20255,%20255);%20align-items:%20flex-end%7D%0A.css-1cv4key-TabularCell%20%7Bheight:%2028px;%20box-sizing:%20border-box;%20display:%20flex;%20-webkit-box-pack:%20end;%20justify-content:%20flex-end;%20flex-direction:%20column;%20padding-top:%204px;%20padding-left:%204px;%20padding-right:%204px;%20padding-bottom:%203px;%20overflow-x:%20hidden;%20overflow-y:%20hidden;%20white-space:%20nowrap;%20border-right-width:%201px;%20border-right-style:%20solid;%20border-right-color:%20rgb(233,%20233,%20233);%20border-bottom-width:%20initial;%20border-bottom-style:%20none;%20border-bottom-color:%20initial;%20width:%2085px;%20background-color:%20rgb(182,%20215,%20168);%20cursor:%20cell;%20user-select:%20none;%20text-align:%20right;%20align-items:%20flex-end%7D%0A.css-1kh7xqv-TabularCell%20%7Bheight:%2028px;%20box-sizing:%20border-box;%20display:%20flex;%20-webkit-box-pack:%20end;%20justify-content:%20flex-end;%20flex-direction:%20column;%20padding-top:%204px;%20padding-left:%204px;%20padding-right:%204px;%20padding-bottom:%203px;%20overflow-x:%20hidden;%20overflow-y:%20hidden;%20white-space:%20nowrap;%20border-right-width:%201px;%20border-right-style:%20solid;%20border-right-color:%20rgb(233,%20233,%20233);%20border-bottom-width:%201px;%20border-bottom-style:%20solid;%20border-bottom-color:%20rgb(233,%20233,%20233);%20width:%2085px;%20cursor:%20cell;%20user-select:%20none;%20text-align:%20right;%20align-items:%20flex-end%7D%0A.css-dyzcru%20%7Bwidth:%202361px;%20height:%201px%7D%0A.css-12f9a5a-SelectionStatistics%20%7Bheight:%2020px;%20display:%20flex;%20padding-top:%205px;%20opacity:%201;%20transition-duration:%20300ms;%20transition-timing-function:%20ease;%20transition-delay:%200s;%20transition-property:%20opacity;%20position:%20absolute;%20right:%200px;%20left:%20unset%7D%0A.css-srwpgf-SelectionStatistics%20%7Bmargin-right:%205px%7D%0A.css-88jil9-SelectionStatistics%20%7Bpadding-top:%201px%7D%0A.css-1g4nfkl-Tabular%20%7Bposition:%20relative;%20height:%20100%25;%20width:%20951px%7D%0A.css-fzw7j6-UnpinnedTabularHeaders%20%7Boverflow-x:%20hidden;%20overflow-y:%20hidden;%20position:%20relative;%20width:%20818px;%20height:%2056px%7D%0A.css-16xsc1n-TabularHeaderGroup%20%7Bposition:%20relative;%20width:%20820px%7D%0A.css-h80k0b%20%7Bfont-size:%2012px;%20line-height:%2022px;%20font-weight:%20600;%20color:%20rgba(0,%200,%200,%200.85);%20text-align:%20center;%20-webkit-box-align:%20center;%20align-items:%20center;%20box-sizing:%20border-box;%20padding-left:%203px;%20padding-right:%203px;%20padding-top:%204px;%20padding-bottom:%204px;%20border-right-width:%201px;%20border-right-style:%20solid;%20border-right-color:%20rgb(233,%20233,%20233);%20width:%20203px;%20height:%2028px;%20position:%20absolute;%20top:%200px;%20left:%20615px;%20cursor:%20auto;%20user-select:%20none;%20white-space:%20nowrap;%20text-overflow:%20ellipsis;%20overflow-x:%20hidden;%20overflow-y:%20hidden%7D%0A.css-vu8ghb-TabularBody%20%7Bposition:%20relative;%20overflow-x:%20hidden;%20overflow-y:%20hidden;%20top:%200px;%20width:%20951px;%20height:%20353px%7D%0A.css-ny7vj0-UnpinnedTabularRows%20%7Bposition:%20absolute;%20overflow-x:%20hidden;%20overflow-y:%20hidden;%20left:%20135px;%20height:%20336px;%20width:%20816px%7D%0A.css-1yzvdq8%20%7Bwidth:%20818px;%20left:%20135px;%20position:%20absolute;%20bottom:%200px;%20overflow-x:%20auto;%20overflow-y:%20hidden;%20z-index:%201%7D%0A.css-au9x2c-SelectionStatistics%20%7Bheight:%20100%25;%20margin-right:%2010px;%20cursor:%20pointer;%20display:%20flex;%20-webkit-box-align:%20center;%20align-items:%20center%7D%0A.css-saet5j-TabularSelectionOverlay%20%7Bposition:%20absolute;%20pointer-events:%20none;%20top:%2056px;%20left:%20220px;%20height:%2028px;%20width:%20120px;%20background-image:%20initial;%20background-position-x:%20initial;%20background-position-y:%20initial;%20background-size:%20initial;%20background-repeat-x:%20initial;%20background-repeat-y:%20initial;%20background-attachment:%20initial;%20background-origin:%20initial;%20background-clip:%20initial;%20background-color:%20rgba(0,%20140,%20255,%200.1);%20border-top-width:%201px;%20border-right-width:%201px;%20border-bottom-width:%201px;%20border-left-width:%201px;%20border-top-style:%20solid;%20border-right-style:%20solid;%20border-bottom-style:%20solid;%20border-left-style:%20solid;%20border-top-color:%20rgb(77,%20181,%20255);%20border-right-color:%20rgb(77,%20181,%20255);%20border-bottom-color:%20rgb(77,%20181,%20255);%20border-left-color:%20rgb(77,%20181,%20255);%20border-image-source:%20initial;%20border-image-slice:%20initial;%20border-image-width:%20initial;%20border-image-outset:%20initial;%20border-image-repeat:%20initial;%20display:%20inherit%7D%0A.ant-root%20html,%20.ant-root%20%7Bwidth:%20100%25;%20height:%20100%25%7D%0A.ant-root%20*,%20.ant-root%20::before,%20.ant-root%20::after%20%7Bbox-sizing:%20border-box%7D%0A.ant-root%20%7Bmargin-top:%200px;%20margin-right:%200px;%20margin-bottom:%200px;%20margin-left:%200px;%20color:%20rgba(0,%200,%200,%200.65);%20font-size:%2014px;%20font-family:%20-apple-system,%20BlinkMacSystemFont,%20%22Segoe%20UI%22,%20%22PingFang%20SC%22,%20%22Hiragino%20Sans%20GB%22,%20%22Microsoft%20YaHei%22,%20%22Helvetica%20Neue%22,%20Helvetica,%20Arial,%20sans-serif,%20%22Apple%20Color%20Emoji%22,%20%22Segoe%20UI%20Emoji%22,%20%22Segoe%20UI%20Symbol%22;%20font-variant-ligatures:%20normal;%20font-variant-numeric:%20tabular-nums;%20font-variant-east-asian:%20normal;%20font-variant-caps:%20normal;%20line-height:%201.5;%20background-color:%20rgb(255,%20255,%20255);%20font-feature-settings:%20%22tnum%22;%20--antd-wave-shadow-color:%20undefined%7D%0A.ant-root%20b,%20.ant-root%20strong%20%7Bfont-weight:%20bolder%7D%0A.ant-root%20.anticon%20%7Bdisplay:%20inline-block;%20color:%20inherit;%20font-style:%20normal;%20line-height:%200;%20text-align:%20center;%20text-transform:%20none;%20vertical-align:%20-0.125em;%20text-rendering:%20optimizelegibility;%20-webkit-font-smoothing:%20antialiased%7D%0A.ant-root%20.ant-typography%20%7Bcolor:%20rgba(0,%200,%200,%200.65)%7D%0A.ant-root%20.ant-typography%20strong%20%7Bfont-weight:%20600%7D%0A.css-16andgf%20%7Bheight:%20100%25%7D%0A.css-16andgf%20.ant-root:not(.atoti-widget-chooser)%20%7Bbox-shadow:%20none%7D%3C/style%3E%0A%20%20%20%20%20%20%20%20%3Cdiv%20xmlns=%22http://www.w3.org/1999/xhtml%22%20style=%22height:%20459px;%20width:%20951px%22%3E%0A%20%20%20%20%20%20%20%20%20%20%3Cdiv%20xmlns=%22http://www.w3.org/1999/xhtml%22%20class=%22css-16andgf%22%3E%3Cdiv%20class=%22ant-root%20css-1n48d82-dock%22%3E%3Cdiv%20class=%22css-1ibuxvk-DockBody%22%3E%3Cdiv%20class=%22SplitPane%20%20vertical%20disabled%22%20style=%22display:%20flex;%20flex:%201%201%200%25;%20height:%20100%25;%20position:%20relative;%20outline:%20none;%20overflow:%20hidden;%20user-select:%20text;%20flex-direction:%20row;%20left:%200px;%20right:%200px;%22%3E%3Cdiv%20class=%22Pane%20vertical%20Pane1%20%20%22%20style=%22flex:%201%201%200%25;%20position:%20relative;%20outline:%20none;%20display:%20flex;%20background-color:%20rgb(255,%20255,%20255);%22%3E%3Cdiv%20class=%22css-1lrljg1-EditorSplitPane%22%3E%3Cdiv%20class=%22css-15fz3t7-EditorSplitPane%22%3E%3Cdiv%20class=%22css-1k1fxuh-Tabular%22%3E%3Cdiv%20class=%22css-10klw3m%22%3E%3Cdiv%20tabindex=%220%22%20class=%22css-1g4nfkl-Tabular%22%3E%3Cdiv%20class=%22css-192kvjv-Tabular%22%3E%3Cdiv%20class=%22css-mdjjdg-TabularHeader%22%3E%3Cdiv%20class=%22css-12nzxaz-PinnedTabularHeaders%22%3E%3Cdiv%20class=%22css-1beyhqc-TabularHeaderGroup%22%3E%3Cdiv%20class=%22css-c9uvep%22%3E%3Cdiv%20class=%22css-1ag4cda-TabularHeaderCell%22%3E%3Cspan%20class=%22css-jpazdc-TabularHeaderCell%22%3E%3Cspan%3E%3Cspan%3E%3Cspan%20class=%22css-y3oqqp%22%3Emetric_name%3C/span%3E%3C/span%3E%3C/span%3E%3C/span%3E%3C/div%3E%3Cdiv%20class=%22css-c7y3a7-TabularHeaderCell%22%3E%3C/div%3E%3C/div%3E%3Cdiv%20class=%22css-idxgkb-HeaderResizer%22%3E%3C/div%3E%3Cdiv%20class=%22css-11pimyg-HeaderResizer%22%3E%3C/div%3E%3C/div%3E%3Cdiv%20class=%22css-1qlioq-TabularPinnSeparator%22%3E%3C/div%3E%3C/div%3E%3Cdiv%20class=%22css-fzw7j6-UnpinnedTabularHeaders%22%3E%3Cdiv%20class=%22css-5jtkjp-UnpinnedTabularHeaders%22%3E%3Cdiv%20class=%22css-16xsc1n-TabularHeaderGroup%22%3E%3Cdiv%20class=%22css-1a58jpv%22%3EBTC%3C/div%3E%3Cdiv%20class=%22css-irdj5z-HeaderResizer%22%3E%3C/div%3E%3Cdiv%20class=%22css-nmbow6%22%3E%3Cdiv%20class=%22css-pm742e%22%3E%3C/div%3E%3Cdiv%20class=%22css-19w2ip5-TabularHeaderCell%22%3E%3Cspan%20class=%22css-jpazdc-TabularHeaderCell%22%3E%3Cspan%3Eskewness%3C/span%3E%3C/span%3E%3C/div%3E%3Cdiv%20class=%22css-c7y3a7-TabularHeaderCell%22%3E%3C/div%3E%3C/div%3E%3Cdiv%20class=%22css-1vpz3rc-HeaderResizer%22%3E%3C/div%3E%3Cdiv%20class=%22css-x206a4-HeaderResizer%22%3E%3C/div%3E%3Cdiv%20class=%22css-57a373-HeaderResizer%22%3E%3C/div%3E%3Cdiv%20class=%22css-anbimy%22%3E%3Cdiv%20class=%22css-pm742e%22%3E%3C/div%3E%3Cdiv%20class=%22css-19w2ip5-TabularHeaderCell%22%3E%3Cspan%20class=%22css-jpazdc-TabularHeaderCell%22%3E%3Cspan%3Ekurtosis%3C/span%3E%3C/span%3E%3C/div%3E%3Cdiv%20class=%22css-c7y3a7-TabularHeaderCell%22%3E%3C/div%3E%3C/div%3E%3Cdiv%20class=%22css-wl9co5-HeaderResizer%22%3E%3C/div%3E%3Cdiv%20class=%22css-ls8rnl-HeaderResizer%22%3E%3C/div%3E%3Cdiv%20class=%22css-oh1qg8%22%3EETH%3C/div%3E%3Cdiv%20class=%22css-1aoizv1-HeaderResizer%22%3E%3C/div%3E%3Cdiv%20class=%22css-3ltuw1%22%3E%3Cdiv%20class=%22css-pm742e%22%3E%3C/div%3E%3Cdiv%20class=%22css-19w2ip5-TabularHeaderCell%22%3E%3Cspan%20class=%22css-jpazdc-TabularHeaderCell%22%3E%3Cspan%3Eskewness%3C/span%3E%3C/span%3E%3C/div%3E%3Cdiv%20class=%22css-c7y3a7-TabularHeaderCell%22%3E%3C/div%3E%3C/div%3E%3Cdiv%20class=%22css-1vsfk2y-HeaderResizer%22%3E%3C/div%3E%3Cdiv%20class=%22css-1ijqzdw-HeaderResizer%22%3E%3C/div%3E%3Cdiv%20class=%22css-do4r1r-HeaderResizer%22%3E%3C/div%3E%3Cdiv%20class=%22css-uqrvp2%22%3E%3Cdiv%20class=%22css-pm742e%22%3E%3C/div%3E%3Cdiv%20class=%22css-19w2ip5-TabularHeaderCell%22%3E%3Cspan%20class=%22css-jpazdc-TabularHeaderCell%22%3E%3Cspan%3Ekurtosis%3C/span%3E%3C/span%3E%3C/div%3E%3Cdiv%20class=%22css-c7y3a7-TabularHeaderCell%22%3E%3C/div%3E%3C/div%3E%3Cdiv%20class=%22css-1fyd7w2-HeaderResizer%22%3E%3C/div%3E%3Cdiv%20class=%22css-w0xyo0-HeaderResizer%22%3E%3C/div%3E%3Cdiv%20class=%22css-14vgehj%22%3EXRP%3C/div%3E%3Cdiv%20class=%22css-1soi6hb-HeaderResizer%22%3E%3C/div%3E%3Cdiv%20class=%22css-sjy3r7%22%3E%3Cdiv%20class=%22css-pm742e%22%3E%3C/div%3E%3Cdiv%20class=%22css-19w2ip5-TabularHeaderCell%22%3E%3Cspan%20class=%22css-jpazdc-TabularHeaderCell%22%3E%3Cspan%3Eskewness%3C/span%3E%3C/span%3E%3C/div%3E%3Cdiv%20class=%22css-c7y3a7-TabularHeaderCell%22%3E%3C/div%3E%3C/div%3E%3Cdiv%20class=%22css-p4i49o-HeaderResizer%22%3E%3C/div%3E%3Cdiv%20class=%22css-15rxt48-HeaderResizer%22%3E%3C/div%3E%3Cdiv%20class=%22css-vsfek6-HeaderResizer%22%3E%3C/div%3E%3Cdiv%20class=%22css-12h6bq6%22%3E%3Cdiv%20class=%22css-pm742e%22%3E%3C/div%3E%3Cdiv%20class=%22css-19w2ip5-TabularHeaderCell%22%3E%3Cspan%20class=%22css-jpazdc-TabularHeaderCell%22%3E%3Cspan%3Ekurtosis%3C/span%3E%3C/span%3E%3C/div%3E%3Cdiv%20class=%22css-c7y3a7-TabularHeaderCell%22%3E%3C/div%3E%3C/div%3E%3Cdiv%20class=%22css-pg741p-HeaderResizer%22%3E%3C/div%3E%3Cdiv%20class=%22css-1sywpp4-HeaderResizer%22%3E%3C/div%3E%3Cdiv%20class=%22css-h80k0b%22%3EUSDT%3C/div%3E%3Cdiv%20class=%22css-1nmpjzf-HeaderResizer%22%3E%3C/div%3E%3Cdiv%20class=%22css-478c49%22%3E%3Cdiv%20class=%22css-pm742e%22%3E%3C/div%3E%3Cdiv%20class=%22css-19w2ip5-TabularHeaderCell%22%3E%3Cspan%20class=%22css-jpazdc-TabularHeaderCell%22%3E%3Cspan%3Eskewness%3C/span%3E%3C/span%3E%3C/div%3E%3Cdiv%20class=%22css-c7y3a7-TabularHeaderCell%22%3E%3C/div%3E%3C/div%3E%3Cdiv%20class=%22css-185k6v2-HeaderResizer%22%3E%3C/div%3E%3Cdiv%20class=%22css-iec2dz-HeaderResizer%22%3E%3C/div%3E%3Cdiv%20class=%22css-16bfrew-HeaderResizer%22%3E%3C/div%3E%3Cdiv%20class=%22css-1eimcbm%22%3E%3Cdiv%20class=%22css-pm742e%22%3E%3C/div%3E%3Cdiv%20class=%22css-19w2ip5-TabularHeaderCell%22%3E%3Cspan%20class=%22css-jpazdc-TabularHeaderCell%22%3E%3Cspan%3Ekurtosis%3C/span%3E%3C/span%3E%3C/div%3E%3Cdiv%20class=%22css-c7y3a7-TabularHeaderCell%22%3E%3C/div%3E%3C/div%3E%3Cdiv%20class=%22css-1ctsnau-HeaderResizer%22%3E%3C/div%3E%3Cdiv%20class=%22css-1ok3xta-HeaderResizer%22%3E%3C/div%3E%3C/div%3E%3C/div%3E%3C/div%3E%3C/div%3E%3Cdiv%20class=%22css-vu8ghb-TabularBody%22%3E%3Cdiv%20class=%22css-d38uyy-PinnedTabularRows%22%3E%3Cdiv%20class=%22css-lz558z-PinnedTabularRows%22%3E%3Cdiv%20class=%22css-3cge9w%22%3E%3Cdiv%3E%3Cdiv%20class=%22css-1sicd2k%22%3E%3Cdiv%20class=%22css-9ssj44-TreeCell%22%3E%3Cdiv%20class=%22css-mkrhzq%22%3E%3Cdiv%20class=%22css-1i6gc04%22%3E%3C/div%3E%3Cspan%20class=%22ant-typography%20css-8uhtka%22%20style=%22font-size:%2012px;%20line-height:%2020px;%20font-weight:%20600;%20color:%20rgba(0,%200,%200,%200.85);%22%3EBullish%20ratio%3C/span%3E%3C/div%3E%3C/div%3E%3C/div%3E%3C/div%3E%3C/div%3E%3Cdiv%20class=%22css-3cge9w%22%3E%3Cdiv%3E%3Cdiv%20class=%22css-9xbk91%22%3E%3Cdiv%20class=%22css-9ssj44-TreeCell%22%3E%3Cdiv%20class=%22css-mkrhzq%22%3E%3Cdiv%20class=%22css-1i6gc04%22%3E%3C/div%3E%3Cspan%20class=%22ant-typography%20css-8uhtka%22%20style=%22font-size:%2012px;%20line-height:%2020px;%20font-weight:%20600;%20color:%20rgba(0,%200,%200,%200.85);%22%3EFavorite%20average%3C/span%3E%3C/div%3E%3C/div%3E%3C/div%3E%3C/div%3E%3C/div%3E%3Cdiv%20class=%22css-3cge9w%22%3E%3Cdiv%3E%3Cdiv%20class=%22css-1sicd2k%22%3E%3Cdiv%20class=%22css-9ssj44-TreeCell%22%3E%3Cdiv%20class=%22css-mkrhzq%22%3E%3Cdiv%20class=%22css-1i6gc04%22%3E%3C/div%3E%3Cspan%20class=%22ant-typography%20css-8uhtka%22%20style=%22font-size:%2012px;%20line-height:%2020px;%20font-weight:%20600;%20color:%20rgba(0,%200,%200,%200.85);%22%3EFavorite%20total%3C/span%3E%3C/div%3E%3C/div%3E%3C/div%3E%3C/div%3E%3C/div%3E%3Cdiv%20class=%22css-3cge9w%22%3E%3Cdiv%3E%3Cdiv%20class=%22css-9xbk91%22%3E%3Cdiv%20class=%22css-9ssj44-TreeCell%22%3E%3Cdiv%20class=%22css-mkrhzq%22%3E%3Cdiv%20class=%22css-1i6gc04%22%3E%3C/div%3E%3Cspan%20class=%22ant-typography%20css-8uhtka%22%20style=%22font-size:%2012px;%20line-height:%2020px;%20font-weight:%20600;%20color:%20rgba(0,%200,%200,%200.85);%22%3EFollowers%20average%3C/span%3E%3C/div%3E%3C/div%3E%3C/div%3E%3C/div%3E%3C/div%3E%3Cdiv%20class=%22css-3cge9w%22%3E%3Cdiv%3E%3Cdiv%20class=%22css-1sicd2k%22%3E%3Cdiv%20class=%22css-9ssj44-TreeCell%22%3E%3Cdiv%20class=%22css-mkrhzq%22%3E%3Cdiv%20class=%22css-1i6gc04%22%3E%3C/div%3E%3Cspan%20class=%22ant-typography%20css-8uhtka%22%20style=%22font-size:%2012px;%20line-height:%2020px;%20font-weight:%20600;%20color:%20rgba(0,%200,%200,%200.85);%22%3EFollowers%20total%3C/span%3E%3C/div%3E%3C/div%3E%3C/div%3E%3C/div%3E%3C/div%3E%3Cdiv%20class=%22css-3cge9w%22%3E%3Cdiv%3E%3Cdiv%20class=%22css-9xbk91%22%3E%3Cdiv%20class=%22css-9ssj44-TreeCell%22%3E%3Cdiv%20class=%22css-mkrhzq%22%3E%3Cdiv%20class=%22css-1i6gc04%22%3E%3C/div%3E%3Cspan%20class=%22ant-typography%20css-8uhtka%22%20style=%22font-size:%2012px;%20line-height:%2020px;%20font-weight:%20600;%20color:%20rgba(0,%200,%200,%200.85);%22%3EPolarity%20average%3C/span%3E%3C/div%3E%3C/div%3E%3C/div%3E%3C/div%3E%3C/div%3E%3Cdiv%20class=%22css-3cge9w%22%3E%3Cdiv%3E%3Cdiv%20class=%22css-1sicd2k%22%3E%3Cdiv%20class=%22css-9ssj44-TreeCell%22%3E%3Cdiv%20class=%22css-mkrhzq%22%3E%3Cdiv%20class=%22css-1i6gc04%22%3E%3C/div%3E%3Cspan%20class=%22ant-typography%20css-8uhtka%22%20style=%22font-size:%2012px;%20line-height:%2020px;%20font-weight:%20600;%20color:%20rgba(0,%200,%200,%200.85);%22%3EPolarity%20total%3C/span%3E%3C/div%3E%3C/div%3E%3C/div%3E%3C/div%3E%3C/div%3E%3Cdiv%20class=%22css-3cge9w%22%3E%3Cdiv%3E%3Cdiv%20class=%22css-9xbk91%22%3E%3Cdiv%20class=%22css-9ssj44-TreeCell%22%3E%3Cdiv%20class=%22css-mkrhzq%22%3E%3Cdiv%20class=%22css-1i6gc04%22%3E%3C/div%3E%3Cspan%20class=%22ant-typography%20css-8uhtka%22%20style=%22font-size:%2012px;%20line-height:%2020px;%20font-weight:%20600;%20color:%20rgba(0,%200,%200,%200.85);%22%3EPrice%3C/span%3E%3C/div%3E%3C/div%3E%3C/div%3E%3C/div%3E%3C/div%3E%3Cdiv%20class=%22css-3cge9w%22%3E%3Cdiv%3E%3Cdiv%20class=%22css-1sicd2k%22%3E%3Cdiv%20class=%22css-9ssj44-TreeCell%22%3E%3Cdiv%20class=%22css-mkrhzq%22%3E%3Cdiv%20class=%22css-1i6gc04%22%3E%3C/div%3E%3Cspan%20class=%22ant-typography%20css-8uhtka%22%20style=%22font-size:%2012px;%20line-height:%2020px;%20font-weight:%20600;%20color:%20rgba(0,%200,%200,%200.85);%22%3EReturns%3C/span%3E%3C/div%3E%3C/div%3E%3C/div%3E%3C/div%3E%3C/div%3E%3Cdiv%20class=%22css-3cge9w%22%3E%3Cdiv%3E%3Cdiv%20class=%22css-9xbk91%22%3E%3Cdiv%20class=%22css-9ssj44-TreeCell%22%3E%3Cdiv%20class=%22css-mkrhzq%22%3E%3Cdiv%20class=%22css-1i6gc04%22%3E%3C/div%3E%3Cspan%20class=%22ant-typography%20css-8uhtka%22%20style=%22font-size:%2012px;%20line-height:%2020px;%20font-weight:%20600;%20color:%20rgba(0,%200,%200,%200.85);%22%3ERetweet%20average%3C/span%3E%3C/div%3E%3C/div%3E%3C/div%3E%3C/div%3E%3C/div%3E%3Cdiv%20class=%22css-3cge9w%22%3E%3Cdiv%3E%3Cdiv%20class=%22css-1sicd2k%22%3E%3Cdiv%20class=%22css-9ssj44-TreeCell%22%3E%3Cdiv%20class=%22css-mkrhzq%22%3E%3Cdiv%20class=%22css-1i6gc04%22%3E%3C/div%3E%3Cspan%20class=%22ant-typography%20css-8uhtka%22%20style=%22font-size:%2012px;%20line-height:%2020px;%20font-weight:%20600;%20color:%20rgba(0,%200,%200,%200.85);%22%3ERetweet%20total%3C/span%3E%3C/div%3E%3C/div%3E%3C/div%3E%3C/div%3E%3C/div%3E%3Cdiv%20class=%22css-3cge9w%22%3E%3Cdiv%3E%3Cdiv%20class=%22css-3e5d91%22%3E%3Cdiv%20class=%22css-9ssj44-TreeCell%22%3E%3Cdiv%20class=%22css-mkrhzq%22%3E%3Cdiv%20class=%22css-1i6gc04%22%3E%3C/div%3E%3Cspan%20class=%22ant-typography%20css-8uhtka%22%20style=%22font-size:%2012px;%20line-height:%2020px;%20font-weight:%20600;%20color:%20rgba(0,%200,%200,%200.85);%22%3ETweet%20volume%3C/span%3E%3C/div%3E%3C/div%3E%3C/div%3E%3C/div%3E%3C/div%3E%3C/div%3E%3Cdiv%20class=%22css-8r2ljj-PinnedTabularRows%22%3E%3Cdiv%20class=%22css-wvyx8h-PinnedTabularRows%22%3E%3C/div%3E%3C/div%3E%3C/div%3E%3Cdiv%20class=%22css-ny7vj0-UnpinnedTabularRows%22%3E%3Cdiv%20class=%22css-1id6sm3-UnpinnedTabularRows%22%3E%3Cdiv%20class=%22css-3cge9w%22%3E%3Cdiv%3E%3Cdiv%20class=%22%20css-130dmom-TabularCell%22%3E%3Cspan%20class=%22css-mkoicc-CaptionCellRenderer%22%3E%3Cspan%3E%3Cspan%20class=%22ant-typography%22%20style=%22font-size:%2012px;%20line-height:%2020px;%20font-weight:%20400;%22%3E3.9888%3C/span%3E%3C/span%3E%3C/span%3E%3C/div%3E%3C/div%3E%3Cdiv%3E%3Cdiv%20class=%22%20css-1hcmypl-TabularCell%22%3E%3Cspan%20class=%22css-mkoicc-CaptionCellRenderer%22%3E%3Cspan%3E%3Cspan%20class=%22ant-typography%22%20style=%22font-size:%2012px;%20line-height:%2020px;%20font-weight:%20400;%22%3E20.1819%3C/span%3E%3C/span%3E%3C/span%3E%3C/div%3E%3C/div%3E%3Cdiv%3E%3Cdiv%20class=%22%20css-130dmom-TabularCell%22%3E%3Cspan%20class=%22css-mkoicc-CaptionCellRenderer%22%3E%3Cspan%3E%3Cspan%20class=%22ant-typography%22%20style=%22font-size:%2012px;%20line-height:%2020px;%20font-weight:%20400;%22%3E2.5278%3C/span%3E%3C/span%3E%3C/span%3E%3C/div%3E%3C/div%3E%3Cdiv%3E%3Cdiv%20class=%22%20css-1hcmypl-TabularCell%22%3E%3Cspan%20class=%22css-mkoicc-CaptionCellRenderer%22%3E%3Cspan%3E%3Cspan%20class=%22ant-typography%22%20style=%22font-size:%2012px;%20line-height:%2020px;%20font-weight:%20400;%22%3E8.3654%3C/span%3E%3C/span%3E%3C/span%3E%3C/div%3E%3C/div%3E%3Cdiv%3E%3Cdiv%20class=%22%20css-130dmom-TabularCell%22%3E%3Cspan%20class=%22css-mkoicc-CaptionCellRenderer%22%3E%3Cspan%3E%3Cspan%20class=%22ant-typography%22%20style=%22font-size:%2012px;%20line-height:%2020px;%20font-weight:%20400;%22%3E2.4093%3C/span%3E%3C/span%3E%3C/span%3E%3C/div%3E%3C/div%3E%3Cdiv%3E%3Cdiv%20class=%22%20css-1hcmypl-TabularCell%22%3E%3Cspan%20class=%22css-mkoicc-CaptionCellRenderer%22%3E%3Cspan%3E%3Cspan%20class=%22ant-typography%22%20style=%22font-size:%2012px;%20line-height:%2020px;%20font-weight:%20400;%22%3E9.2119%3C/span%3E%3C/span%3E%3C/span%3E%3C/div%3E%3C/div%3E%3Cdiv%3E%3Cdiv%20class=%22%20css-130dmom-TabularCell%22%3E%3Cspan%20class=%22css-mkoicc-CaptionCellRenderer%22%3E%3Cspan%3E%3Cspan%20class=%22ant-typography%22%20style=%22font-size:%2012px;%20line-height:%2020px;%20font-weight:%20400;%22%3E3.6701%3C/span%3E%3C/span%3E%3C/span%3E%3C/div%3E%3C/div%3E%3Cdiv%3E%3Cdiv%20class=%22%20css-1hcmypl-TabularCell%22%3E%3Cspan%20class=%22css-mkoicc-CaptionCellRenderer%22%3E%3Cspan%3E%3Cspan%20class=%22ant-typography%22%20style=%22font-size:%2012px;%20line-height:%2020px;%20font-weight:%20400;%22%3E17.5189%3C/span%3E%3C/span%3E%3C/span%3E%3C/div%3E%3C/div%3E%3C/div%3E%3Cdiv%20class=%22css-3cge9w%22%3E%3Cdiv%3E%3Cdiv%20class=%22%20css-88w1uu-TabularCell%22%3E%3Cspan%20class=%22css-mkoicc-CaptionCellRenderer%22%3E%3Cspan%3E%3Cspan%20class=%22ant-typography%22%20style=%22font-size:%2012px;%20line-height:%2020px;%20font-weight:%20400;%22%3E3.5427%3C/span%3E%3C/span%3E%3C/span%3E%3C/div%3E%3C/div%3E%3Cdiv%3E%3Cdiv%20class=%22%20css-qazlap-TabularCell%22%3E%3Cspan%20class=%22css-mkoicc-CaptionCellRenderer%22%3E%3Cspan%3E%3Cspan%20class=%22ant-typography%22%20style=%22font-size:%2012px;%20line-height:%2020px;%20font-weight:%20400;%22%3E28.4706%3C/span%3E%3C/span%3E%3C/span%3E%3C/div%3E%3C/div%3E%3Cdiv%3E%3Cdiv%20class=%22%20css-135yf5l-TabularCell%22%3E%3Cspan%20class=%22css-mkoicc-CaptionCellRenderer%22%3E%3Cspan%3E%3Cspan%20class=%22ant-typography%22%20style=%22font-size:%2012px;%20line-height:%2020px;%20font-weight:%20400;%22%3E.7188%3C/span%3E%3C/span%3E%3C/span%3E%3C/div%3E%3C/div%3E%3Cdiv%3E%3Cdiv%20class=%22%20css-qazlap-TabularCell%22%3E%3Cspan%20class=%22css-mkoicc-CaptionCellRenderer%22%3E%3Cspan%3E%3Cspan%20class=%22ant-typography%22%20style=%22font-size:%2012px;%20line-height:%2020px;%20font-weight:%20400;%22%3E2.3693%3C/span%3E%3C/span%3E%3C/span%3E%3C/div%3E%3C/div%3E%3Cdiv%3E%3Cdiv%20class=%22%20css-16o31m6-TabularCell%22%3E%3Cspan%20class=%22css-mkoicc-CaptionCellRenderer%22%3E%3Cspan%3E%3Cspan%20class=%22ant-typography%22%20style=%22font-size:%2012px;%20line-height:%2020px;%20font-weight:%20400;%20color:%20rgb(255,%20255,%20255);%22%3E-.2975%3C/span%3E%3C/span%3E%3C/span%3E%3C/div%3E%3C/div%3E%3Cdiv%3E%3Cdiv%20class=%22%20css-zldqq8-TabularCell%22%3E%3Cspan%20class=%22css-mkoicc-CaptionCellRenderer%22%3E%3Cspan%3E%3Cspan%20class=%22ant-typography%22%20style=%22font-size:%2012px;%20line-height:%2020px;%20font-weight:%20400;%20color:%20rgb(255,%20255,%20255);%22%3E-.2237%3C/span%3E%3C/span%3E%3C/span%3E%3C/div%3E%3C/div%3E%3Cdiv%3E%3Cdiv%20class=%22%20css-88w1uu-TabularCell%22%3E%3Cspan%20class=%22css-mkoicc-CaptionCellRenderer%22%3E%3Cspan%3E%3Cspan%20class=%22ant-typography%22%20style=%22font-size:%2012px;%20line-height:%2020px;%20font-weight:%20400;%22%3E2.4802%3C/span%3E%3C/span%3E%3C/span%3E%3C/div%3E%3C/div%3E%3Cdiv%3E%3Cdiv%20class=%22%20css-qazlap-TabularCell%22%3E%3Cspan%20class=%22css-mkoicc-CaptionCellRenderer%22%3E%3Cspan%3E%3Cspan%20class=%22ant-typography%22%20style=%22font-size:%2012px;%20line-height:%2020px;%20font-weight:%20400;%22%3E10.6289%3C/span%3E%3C/span%3E%3C/span%3E%3C/div%3E%3C/div%3E%3C/div%3E%3Cdiv%20class=%22css-3cge9w%22%3E%3Cdiv%3E%3Cdiv%20class=%22%20css-130dmom-TabularCell%22%3E%3Cspan%20class=%22css-mkoicc-CaptionCellRenderer%22%3E%3Cspan%3E%3Cspan%20class=%22ant-typography%22%20style=%22font-size:%2012px;%20line-height:%2020px;%20font-weight:%20400;%22%3E2.3294%3C/span%3E%3C/span%3E%3C/span%3E%3C/div%3E%3C/div%3E%3Cdiv%3E%3Cdiv%20class=%22%20css-1hcmypl-TabularCell%22%3E%3Cspan%20class=%22css-mkoicc-CaptionCellRenderer%22%3E%3Cspan%3E%3Cspan%20class=%22ant-typography%22%20style=%22font-size:%2012px;%20line-height:%2020px;%20font-weight:%20400;%22%3E12.7741%3C/span%3E%3C/span%3E%3C/span%3E%3C/div%3E%3C/div%3E%3Cdiv%3E%3Cdiv%20class=%22%20css-1cv4key-TabularCell%22%3E%3Cspan%20class=%22css-mkoicc-CaptionCellRenderer%22%3E%3Cspan%3E%3Cspan%20class=%22ant-typography%22%20style=%22font-size:%2012px;%20line-height:%2020px;%20font-weight:%20400;%22%3E.6612%3C/span%3E%3C/span%3E%3C/span%3E%3C/div%3E%3C/div%3E%3Cdiv%3E%3Cdiv%20class=%22%20css-1hcmypl-TabularCell%22%3E%3Cspan%20class=%22css-mkoicc-CaptionCellRenderer%22%3E%3Cspan%3E%3Cspan%20class=%22ant-typography%22%20style=%22font-size:%2012px;%20line-height:%2020px;%20font-weight:%20400;%22%3E-.3557%3C/span%3E%3C/span%3E%3C/span%3E%3C/div%3E%3C/div%3E%3Cdiv%3E%3Cdiv%20class=%22%20css-130dmom-TabularCell%22%3E%3Cspan%20class=%22css-mkoicc-CaptionCellRenderer%22%3E%3Cspan%3E%3Cspan%20class=%22ant-typography%22%20style=%22font-size:%2012px;%20line-height:%2020px;%20font-weight:%20400;%22%3E1.4928%3C/span%3E%3C/span%3E%3C/span%3E%3C/div%3E%3C/div%3E%3Cdiv%3E%3Cdiv%20class=%22%20css-1hcmypl-TabularCell%22%3E%3Cspan%20class=%22css-mkoicc-CaptionCellRenderer%22%3E%3Cspan%3E%3Cspan%20class=%22ant-typography%22%20style=%22font-size:%2012px;%20line-height:%2020px;%20font-weight:%20400;%22%3E3.3951%3C/span%3E%3C/span%3E%3C/span%3E%3C/div%3E%3C/div%3E%3Cdiv%3E%3Cdiv%20class=%22%20css-130dmom-TabularCell%22%3E%3Cspan%20class=%22css-mkoicc-CaptionCellRenderer%22%3E%3Cspan%3E%3Cspan%20class=%22ant-typography%22%20style=%22font-size:%2012px;%20line-height:%2020px;%20font-weight:%20400;%22%3E2.1650%3C/span%3E%3C/span%3E%3C/span%3E%3C/div%3E%3C/div%3E%3Cdiv%3E%3Cdiv%20class=%22%20css-1hcmypl-TabularCell%22%3E%3Cspan%20class=%22css-mkoicc-CaptionCellRenderer%22%3E%3Cspan%3E%3Cspan%20class=%22ant-typography%22%20style=%22font-size:%2012px;%20line-height:%2020px;%20font-weight:%20400;%22%3E6.8969%3C/span%3E%3C/span%3E%3C/span%3E%3C/div%3E%3C/div%3E%3C/div%3E%3Cdiv%20class=%22css-3cge9w%22%3E%3Cdiv%3E%3Cdiv%20class=%22%20css-16o31m6-TabularCell%22%3E%3Cspan%20class=%22css-mkoicc-CaptionCellRenderer%22%3E%3Cspan%3E%3Cspan%20class=%22ant-typography%22%20style=%22font-size:%2012px;%20line-height:%2020px;%20font-weight:%20400;%20color:%20rgb(255,%20255,%20255);%22%3E-.2760%3C/span%3E%3C/span%3E%3C/span%3E%3C/div%3E%3C/div%3E%3Cdiv%3E%3Cdiv%20class=%22%20css-zldqq8-TabularCell%22%3E%3Cspan%20class=%22css-mkoicc-CaptionCellRenderer%22%3E%3Cspan%3E%3Cspan%20class=%22ant-typography%22%20style=%22font-size:%2012px;%20line-height:%2020px;%20font-weight:%20400;%20color:%20rgb(255,%20255,%20255);%22%3E-.1645%3C/span%3E%3C/span%3E%3C/span%3E%3C/div%3E%3C/div%3E%3Cdiv%3E%3Cdiv%20class=%22%20css-16o31m6-TabularCell%22%3E%3Cspan%20class=%22css-mkoicc-CaptionCellRenderer%22%3E%3Cspan%3E%3Cspan%20class=%22ant-typography%22%20style=%22font-size:%2012px;%20line-height:%2020px;%20font-weight:%20400;%20color:%20rgb(255,%20255,%20255);%22%3E.4628%3C/span%3E%3C/span%3E%3C/span%3E%3C/div%3E%3C/div%3E%3Cdiv%3E%3Cdiv%20class=%22%20css-zldqq8-TabularCell%22%3E%3Cspan%20class=%22css-mkoicc-CaptionCellRenderer%22%3E%3Cspan%3E%3Cspan%20class=%22ant-typography%22%20style=%22font-size:%2012px;%20line-height:%2020px;%20font-weight:%20400;%20color:%20rgb(255,%20255,%20255);%22%3E.2386%3C/span%3E%3C/span%3E%3C/span%3E%3C/div%3E%3C/div%3E%3Cdiv%3E%3Cdiv%20class=%22%20css-16o31m6-TabularCell%22%3E%3Cspan%20class=%22css-mkoicc-CaptionCellRenderer%22%3E%3Cspan%3E%3Cspan%20class=%22ant-typography%22%20style=%22font-size:%2012px;%20line-height:%2020px;%20font-weight:%20400;%20color:%20rgb(255,%20255,%20255);%22%3E.3527%3C/span%3E%3C/span%3E%3C/span%3E%3C/div%3E%3C/div%3E%3Cdiv%3E%3Cdiv%20class=%22%20css-zldqq8-TabularCell%22%3E%3Cspan%20class=%22css-mkoicc-CaptionCellRenderer%22%3E%3Cspan%3E%3Cspan%20class=%22ant-typography%22%20style=%22font-size:%2012px;%20line-height:%2020px;%20font-weight:%20400;%20color:%20rgb(255,%20255,%20255);%22%3E2.1385%3C/span%3E%3C/span%3E%3C/span%3E%3C/div%3E%3C/div%3E%3Cdiv%3E%3Cdiv%20class=%22%20css-88w1uu-TabularCell%22%3E%3Cspan%20class=%22css-mkoicc-CaptionCellRenderer%22%3E%3Cspan%3E%3Cspan%20class=%22ant-typography%22%20style=%22font-size:%2012px;%20line-height:%2020px;%20font-weight:%20400;%22%3E1.0809%3C/span%3E%3C/span%3E%3C/span%3E%3C/div%3E%3C/div%3E%3Cdiv%3E%3Cdiv%20class=%22%20css-qazlap-TabularCell%22%3E%3Cspan%20class=%22css-mkoicc-CaptionCellRenderer%22%3E%3Cspan%3E%3Cspan%20class=%22ant-typography%22%20style=%22font-size:%2012px;%20line-height:%2020px;%20font-weight:%20400;%22%3E.3791%3C/span%3E%3C/span%3E%3C/span%3E%3C/div%3E%3C/div%3E%3C/div%3E%3Cdiv%20class=%22css-3cge9w%22%3E%3Cdiv%3E%3Cdiv%20class=%22%20css-130dmom-TabularCell%22%3E%3Cspan%20class=%22css-mkoicc-CaptionCellRenderer%22%3E%3Cspan%3E%3Cspan%20class=%22ant-typography%22%20style=%22font-size:%2012px;%20line-height:%2020px;%20font-weight:%20400;%22%3E1.2361%3C/span%3E%3C/span%3E%3C/span%3E%3C/div%3E%3C/div%3E%3Cdiv%3E%3Cdiv%20class=%22%20css-1hcmypl-TabularCell%22%3E%3Cspan%20class=%22css-mkoicc-CaptionCellRenderer%22%3E%3Cspan%3E%3Cspan%20class=%22ant-typography%22%20style=%22font-size:%2012px;%20line-height:%2020px;%20font-weight:%20400;%22%3E2.2344%3C/span%3E%3C/span%3E%3C/span%3E%3C/div%3E%3C/div%3E%3Cdiv%3E%3Cdiv%20class=%22%20css-130dmom-TabularCell%22%3E%3Cspan%20class=%22css-mkoicc-CaptionCellRenderer%22%3E%3Cspan%3E%3Cspan%20class=%22ant-typography%22%20style=%22font-size:%2012px;%20line-height:%2020px;%20font-weight:%20400;%22%3E1.1293%3C/span%3E%3C/span%3E%3C/span%3E%3C/div%3E%3C/div%3E%3Cdiv%3E%3Cdiv%20class=%22%20css-1hcmypl-TabularCell%22%3E%3Cspan%20class=%22css-mkoicc-CaptionCellRenderer%22%3E%3Cspan%3E%3Cspan%20class=%22ant-typography%22%20style=%22font-size:%2012px;%20line-height:%2020px;%20font-weight:%20400;%22%3E1.0786%3C/span%3E%3C/span%3E%3C/span%3E%3C/div%3E%3C/div%3E%3Cdiv%3E%3Cdiv%20class=%22%20css-130dmom-TabularCell%22%3E%3Cspan%20class=%22css-mkoicc-CaptionCellRenderer%22%3E%3Cspan%3E%3Cspan%20class=%22ant-typography%22%20style=%22font-size:%2012px;%20line-height:%2020px;%20font-weight:%20400;%22%3E1.1890%3C/span%3E%3C/span%3E%3C/span%3E%3C/div%3E%3C/div%3E%3Cdiv%3E%3Cdiv%20class=%22%20css-1hcmypl-TabularCell%22%3E%3Cspan%20class=%22css-mkoicc-CaptionCellRenderer%22%3E%3Cspan%3E%3Cspan%20class=%22ant-typography%22%20style=%22font-size:%2012px;%20line-height:%2020px;%20font-weight:%20400;%22%3E1.3738%3C/span%3E%3C/span%3E%3C/span%3E%3C/div%3E%3C/div%3E%3Cdiv%3E%3Cdiv%20class=%22%20css-130dmom-TabularCell%22%3E%3Cspan%20class=%22css-mkoicc-CaptionCellRenderer%22%3E%3Cspan%3E%3Cspan%20class=%22ant-typography%22%20style=%22font-size:%2012px;%20line-height:%2020px;%20font-weight:%20400;%22%3E1.8492%3C/span%3E%3C/span%3E%3C/span%3E%3C/div%3E%3C/div%3E%3Cdiv%3E%3Cdiv%20class=%22%20css-1hcmypl-TabularCell%22%3E%3Cspan%20class=%22css-mkoicc-CaptionCellRenderer%22%3E%3Cspan%3E%3Cspan%20class=%22ant-typography%22%20style=%22font-size:%2012px;%20line-height:%2020px;%20font-weight:%20400;%22%3E4.7908%3C/span%3E%3C/span%3E%3C/span%3E%3C/div%3E%3C/div%3E%3C/div%3E%3Cdiv%20class=%22css-3cge9w%22%3E%3Cdiv%3E%3Cdiv%20class=%22%20css-88w1uu-TabularCell%22%3E%3Cspan%20class=%22css-mkoicc-CaptionCellRenderer%22%3E%3Cspan%3E%3Cspan%20class=%22ant-typography%22%20style=%22font-size:%2012px;%20line-height:%2020px;%20font-weight:%20400;%22%3E2.1709%3C/span%3E%3C/span%3E%3C/span%3E%3C/div%3E%3C/div%3E%3Cdiv%3E%3Cdiv%20class=%22%20css-qazlap-TabularCell%22%3E%3Cspan%20class=%22css-mkoicc-CaptionCellRenderer%22%3E%3Cspan%3E%3Cspan%20class=%22ant-typography%22%20style=%22font-size:%2012px;%20line-height:%2020px;%20font-weight:%20400;%22%3E12.2918%3C/span%3E%3C/span%3E%3C/span%3E%3C/div%3E%3C/div%3E%3Cdiv%3E%3Cdiv%20class=%22%20css-88w1uu-TabularCell%22%3E%3Cspan%20class=%22css-mkoicc-CaptionCellRenderer%22%3E%3Cspan%3E%3Cspan%20class=%22ant-typography%22%20style=%22font-size:%2012px;%20line-height:%2020px;%20font-weight:%20400;%22%3E2.5931%3C/span%3E%3C/span%3E%3C/span%3E%3C/div%3E%3C/div%3E%3Cdiv%3E%3Cdiv%20class=%22%20css-qazlap-TabularCell%22%3E%3Cspan%20class=%22css-mkoicc-CaptionCellRenderer%22%3E%3Cspan%3E%3Cspan%20class=%22ant-typography%22%20style=%22font-size:%2012px;%20line-height:%2020px;%20font-weight:%20400;%22%3E11.9655%3C/span%3E%3C/span%3E%3C/span%3E%3C/div%3E%3C/div%3E%3Cdiv%3E%3Cdiv%20class=%22%20css-88w1uu-TabularCell%22%3E%3Cspan%20class=%22css-mkoicc-CaptionCellRenderer%22%3E%3Cspan%3E%3Cspan%20class=%22ant-typography%22%20style=%22font-size:%2012px;%20line-height:%2020px;%20font-weight:%20400;%22%3E4.6845%3C/span%3E%3C/span%3E%3C/span%3E%3C/div%3E%3C/div%3E%3Cdiv%3E%3Cdiv%20class=%22%20css-qazlap-TabularCell%22%3E%3Cspan%20class=%22css-mkoicc-CaptionCellRenderer%22%3E%3Cspan%3E%3Cspan%20class=%22ant-typography%22%20style=%22font-size:%2012px;%20line-height:%2020px;%20font-weight:%20400;%22%3E40.1916%3C/span%3E%3C/span%3E%3C/span%3E%3C/div%3E%3C/div%3E%3Cdiv%3E%3Cdiv%20class=%22%20css-88w1uu-TabularCell%22%3E%3Cspan%20class=%22css-mkoicc-CaptionCellRenderer%22%3E%3Cspan%3E%3Cspan%20class=%22ant-typography%22%20style=%22font-size:%2012px;%20line-height:%2020px;%20font-weight:%20400;%22%3E1.7423%3C/span%3E%3C/span%3E%3C/span%3E%3C/div%3E%3C/div%3E%3Cdiv%3E%3Cdiv%20class=%22%20css-qazlap-TabularCell%22%3E%3Cspan%20class=%22css-mkoicc-CaptionCellRenderer%22%3E%3Cspan%3E%3Cspan%20class=%22ant-typography%22%20style=%22font-size:%2012px;%20line-height:%2020px;%20font-weight:%20400;%22%3E7.5169%3C/span%3E%3C/span%3E%3C/span%3E%3C/div%3E%3C/div%3E%3C/div%3E%3Cdiv%20class=%22css-3cge9w%22%3E%3Cdiv%3E%3Cdiv%20class=%22%20css-130dmom-TabularCell%22%3E%3Cspan%20class=%22css-mkoicc-CaptionCellRenderer%22%3E%3Cspan%3E%3Cspan%20class=%22ant-typography%22%20style=%22font-size:%2012px;%20line-height:%2020px;%20font-weight:%20400;%22%3E7.0570%3C/span%3E%3C/span%3E%3C/span%3E%3C/div%3E%3C/div%3E%3Cdiv%3E%3Cdiv%20class=%22%20css-1hcmypl-TabularCell%22%3E%3Cspan%20class=%22css-mkoicc-CaptionCellRenderer%22%3E%3Cspan%3E%3Cspan%20class=%22ant-typography%22%20style=%22font-size:%2012px;%20line-height:%2020px;%20font-weight:%20400;%22%3E70.5602%3C/span%3E%3C/span%3E%3C/span%3E%3C/div%3E%3C/div%3E%3Cdiv%3E%3Cdiv%20class=%22%20css-130dmom-TabularCell%22%3E%3Cspan%20class=%22css-mkoicc-CaptionCellRenderer%22%3E%3Cspan%3E%3Cspan%20class=%22ant-typography%22%20style=%22font-size:%2012px;%20line-height:%2020px;%20font-weight:%20400;%22%3E4.8710%3C/span%3E%3C/span%3E%3C/span%3E%3C/div%3E%3C/div%3E%3Cdiv%3E%3Cdiv%20class=%22%20css-1hcmypl-TabularCell%22%3E%3Cspan%20class=%22css-mkoicc-CaptionCellRenderer%22%3E%3Cspan%3E%3Cspan%20class=%22ant-typography%22%20style=%22font-size:%2012px;%20line-height:%2020px;%20font-weight:%20400;%22%3E34.5185%3C/span%3E%3C/span%3E%3C/span%3E%3C/div%3E%3C/div%3E%3Cdiv%3E%3Cdiv%20class=%22%20css-130dmom-TabularCell%22%3E%3Cspan%20class=%22css-mkoicc-CaptionCellRenderer%22%3E%3Cspan%3E%3Cspan%20class=%22ant-typography%22%20style=%22font-size:%2012px;%20line-height:%2020px;%20font-weight:%20400;%22%3E6.9927%3C/span%3E%3C/span%3E%3C/span%3E%3C/div%3E%3C/div%3E%3Cdiv%3E%3Cdiv%20class=%22%20css-1hcmypl-TabularCell%22%3E%3Cspan%20class=%22css-mkoicc-CaptionCellRenderer%22%3E%3Cspan%3E%3Cspan%20class=%22ant-typography%22%20style=%22font-size:%2012px;%20line-height:%2020px;%20font-weight:%20400;%22%3E75.2789%3C/span%3E%3C/span%3E%3C/span%3E%3C/div%3E%3C/div%3E%3Cdiv%3E%3Cdiv%20class=%22%20css-130dmom-TabularCell%22%3E%3Cspan%20class=%22css-mkoicc-CaptionCellRenderer%22%3E%3Cspan%3E%3Cspan%20class=%22ant-typography%22%20style=%22font-size:%2012px;%20line-height:%2020px;%20font-weight:%20400;%22%3E5.7524%3C/span%3E%3C/span%3E%3C/span%3E%3C/div%3E%3C/div%3E%3Cdiv%3E%3Cdiv%20class=%22%20css-1hcmypl-TabularCell%22%3E%3Cspan%20class=%22css-mkoicc-CaptionCellRenderer%22%3E%3Cspan%3E%3Cspan%20class=%22ant-typography%22%20style=%22font-size:%2012px;%20line-height:%2020px;%20font-weight:%20400;%22%3E37.8233%3C/span%3E%3C/span%3E%3C/span%3E%3C/div%3E%3C/div%3E%3C/div%3E%3Cdiv%20class=%22css-3cge9w%22%3E%3Cdiv%3E%3Cdiv%20class=%22%20css-16o31m6-TabularCell%22%3E%3Cspan%20class=%22css-mkoicc-CaptionCellRenderer%22%3E%3Cspan%3E%3Cspan%20class=%22ant-typography%22%20style=%22font-size:%2012px;%20line-height:%2020px;%20font-weight:%20400;%20color:%20rgb(255,%20255,%20255);%22%3E-.3434%3C/span%3E%3C/span%3E%3C/span%3E%3C/div%3E%3C/div%3E%3Cdiv%3E%3Cdiv%20class=%22%20css-zldqq8-TabularCell%22%3E%3Cspan%20class=%22css-mkoicc-CaptionCellRenderer%22%3E%3Cspan%3E%3Cspan%20class=%22ant-typography%22%20style=%22font-size:%2012px;%20line-height:%2020px;%20font-weight:%20400;%20color:%20rgb(255,%20255,%20255);%22%3E-.2268%3C/span%3E%3C/span%3E%3C/span%3E%3C/div%3E%3C/div%3E%3Cdiv%3E%3Cdiv%20class=%22%20css-135yf5l-TabularCell%22%3E%3Cspan%20class=%22css-mkoicc-CaptionCellRenderer%22%3E%3Cspan%3E%3Cspan%20class=%22ant-typography%22%20style=%22font-size:%2012px;%20line-height:%2020px;%20font-weight:%20400;%22%3E.7579%3C/span%3E%3C/span%3E%3C/span%3E%3C/div%3E%3C/div%3E%3Cdiv%3E%3Cdiv%20class=%22%20css-qazlap-TabularCell%22%3E%3Cspan%20class=%22css-mkoicc-CaptionCellRenderer%22%3E%3Cspan%3E%3Cspan%20class=%22ant-typography%22%20style=%22font-size:%2012px;%20line-height:%2020px;%20font-weight:%20400;%22%3E-.4257%3C/span%3E%3C/span%3E%3C/span%3E%3C/div%3E%3C/div%3E%3Cdiv%3E%3Cdiv%20class=%22%20css-135yf5l-TabularCell%22%3E%3Cspan%20class=%22css-mkoicc-CaptionCellRenderer%22%3E%3Cspan%3E%3Cspan%20class=%22ant-typography%22%20style=%22font-size:%2012px;%20line-height:%2020px;%20font-weight:%20400;%22%3E.5629%3C/span%3E%3C/span%3E%3C/span%3E%3C/div%3E%3C/div%3E%3Cdiv%3E%3Cdiv%20class=%22%20css-qazlap-TabularCell%22%3E%3Cspan%20class=%22css-mkoicc-CaptionCellRenderer%22%3E%3Cspan%3E%3Cspan%20class=%22ant-typography%22%20style=%22font-size:%2012px;%20line-height:%2020px;%20font-weight:%20400;%22%3E-.5099%3C/span%3E%3C/span%3E%3C/span%3E%3C/div%3E%3C/div%3E%3Cdiv%3E%3Cdiv%20class=%22%20css-16o31m6-TabularCell%22%3E%3Cspan%20class=%22css-mkoicc-CaptionCellRenderer%22%3E%3Cspan%3E%3Cspan%20class=%22ant-typography%22%20style=%22font-size:%2012px;%20line-height:%2020px;%20font-weight:%20400;%20color:%20rgb(255,%20255,%20255);%22%3E.1757%3C/span%3E%3C/span%3E%3C/span%3E%3C/div%3E%3C/div%3E%3Cdiv%3E%3Cdiv%20class=%22%20css-zldqq8-TabularCell%22%3E%3Cspan%20class=%22css-mkoicc-CaptionCellRenderer%22%3E%3Cspan%3E%3Cspan%20class=%22ant-typography%22%20style=%22font-size:%2012px;%20line-height:%2020px;%20font-weight:%20400;%20color:%20rgb(255,%20255,%20255);%22%3E14.3692%3C/span%3E%3C/span%3E%3C/span%3E%3C/div%3E%3C/div%3E%3C/div%3E%3Cdiv%20class=%22css-3cge9w%22%3E%3Cdiv%3E%3Cdiv%20class=%22%20css-130dmom-TabularCell%22%3E%3Cspan%20class=%22css-mkoicc-CaptionCellRenderer%22%3E%3Cspan%3E%3Cspan%20class=%22ant-typography%22%20style=%22font-size:%2012px;%20line-height:%2020px;%20font-weight:%20400;%22%3E-2.8604%3C/span%3E%3C/span%3E%3C/span%3E%3C/div%3E%3C/div%3E%3Cdiv%3E%3Cdiv%20class=%22%20css-1hcmypl-TabularCell%22%3E%3Cspan%20class=%22css-mkoicc-CaptionCellRenderer%22%3E%3Cspan%3E%3Cspan%20class=%22ant-typography%22%20style=%22font-size:%2012px;%20line-height:%2020px;%20font-weight:%20400;%22%3E27.4353%3C/span%3E%3C/span%3E%3C/span%3E%3C/div%3E%3C/div%3E%3Cdiv%3E%3Cdiv%20class=%22%20css-130dmom-TabularCell%22%3E%3Cspan%20class=%22css-mkoicc-CaptionCellRenderer%22%3E%3Cspan%3E%3Cspan%20class=%22ant-typography%22%20style=%22font-size:%2012px;%20line-height:%2020px;%20font-weight:%20400;%22%3E-1.6546%3C/span%3E%3C/span%3E%3C/span%3E%3C/div%3E%3C/div%3E%3Cdiv%3E%3Cdiv%20class=%22%20css-1hcmypl-TabularCell%22%3E%3Cspan%20class=%22css-mkoicc-CaptionCellRenderer%22%3E%3Cspan%3E%3Cspan%20class=%22ant-typography%22%20style=%22font-size:%2012px;%20line-height:%2020px;%20font-weight:%20400;%22%3E12.7018%3C/span%3E%3C/span%3E%3C/span%3E%3C/div%3E%3C/div%3E%3Cdiv%3E%3Cdiv%20class=%22%20css-130dmom-TabularCell%22%3E%3Cspan%20class=%22css-mkoicc-CaptionCellRenderer%22%3E%3Cspan%3E%3Cspan%20class=%22ant-typography%22%20style=%22font-size:%2012px;%20line-height:%2020px;%20font-weight:%20400;%22%3E-2.2145%3C/span%3E%3C/span%3E%3C/span%3E%3C/div%3E%3C/div%3E%3Cdiv%3E%3Cdiv%20class=%22%20css-1hcmypl-TabularCell%22%3E%3Cspan%20class=%22css-mkoicc-CaptionCellRenderer%22%3E%3Cspan%3E%3Cspan%20class=%22ant-typography%22%20style=%22font-size:%2012px;%20line-height:%2020px;%20font-weight:%20400;%22%3E18.9068%3C/span%3E%3C/span%3E%3C/span%3E%3C/div%3E%3C/div%3E%3Cdiv%3E%3Cdiv%20class=%22%20css-1cv4key-TabularCell%22%3E%3Cspan%20class=%22css-mkoicc-CaptionCellRenderer%22%3E%3Cspan%3E%3Cspan%20class=%22ant-typography%22%20style=%22font-size:%2012px;%20line-height:%2020px;%20font-weight:%20400;%22%3E.9739%3C/span%3E%3C/span%3E%3C/span%3E%3C/div%3E%3C/div%3E%3Cdiv%3E%3Cdiv%20class=%22%20css-1hcmypl-TabularCell%22%3E%3Cspan%20class=%22css-mkoicc-CaptionCellRenderer%22%3E%3Cspan%3E%3Cspan%20class=%22ant-typography%22%20style=%22font-size:%2012px;%20line-height:%2020px;%20font-weight:%20400;%22%3E26.7109%3C/span%3E%3C/span%3E%3C/span%3E%3C/div%3E%3C/div%3E%3C/div%3E%3Cdiv%20class=%22css-3cge9w%22%3E%3Cdiv%3E%3Cdiv%20class=%22%20css-88w1uu-TabularCell%22%3E%3Cspan%20class=%22css-mkoicc-CaptionCellRenderer%22%3E%3Cspan%3E%3Cspan%20class=%22ant-typography%22%20style=%22font-size:%2012px;%20line-height:%2020px;%20font-weight:%20400;%22%3E3.3296%3C/span%3E%3C/span%3E%3C/span%3E%3C/div%3E%3C/div%3E%3Cdiv%3E%3Cdiv%20class=%22%20css-qazlap-TabularCell%22%3E%3Cspan%20class=%22css-mkoicc-CaptionCellRenderer%22%3E%3Cspan%3E%3Cspan%20class=%22ant-typography%22%20style=%22font-size:%2012px;%20line-height:%2020px;%20font-weight:%20400;%22%3E10.9932%3C/span%3E%3C/span%3E%3C/span%3E%3C/div%3E%3C/div%3E%3Cdiv%3E%3Cdiv%20class=%22%20css-88w1uu-TabularCell%22%3E%3Cspan%20class=%22css-mkoicc-CaptionCellRenderer%22%3E%3Cspan%3E%3Cspan%20class=%22ant-typography%22%20style=%22font-size:%2012px;%20line-height:%2020px;%20font-weight:%20400;%22%3E5.5813%3C/span%3E%3C/span%3E%3C/span%3E%3C/div%3E%3C/div%3E%3Cdiv%3E%3Cdiv%20class=%22%20css-qazlap-TabularCell%22%3E%3Cspan%20class=%22css-mkoicc-CaptionCellRenderer%22%3E%3Cspan%3E%3Cspan%20class=%22ant-typography%22%20style=%22font-size:%2012px;%20line-height:%2020px;%20font-weight:%20400;%22%3E36.4621%3C/span%3E%3C/span%3E%3C/span%3E%3C/div%3E%3C/div%3E%3Cdiv%3E%3Cdiv%20class=%22%20css-88w1uu-TabularCell%22%3E%3Cspan%20class=%22css-mkoicc-CaptionCellRenderer%22%3E%3Cspan%3E%3Cspan%20class=%22ant-typography%22%20style=%22font-size:%2012px;%20line-height:%2020px;%20font-weight:%20400;%22%3E8.7370%3C/span%3E%3C/span%3E%3C/span%3E%3C/div%3E%3C/div%3E%3Cdiv%3E%3Cdiv%20class=%22%20css-qazlap-TabularCell%22%3E%3Cspan%20class=%22css-mkoicc-CaptionCellRenderer%22%3E%3Cspan%3E%3Cspan%20class=%22ant-typography%22%20style=%22font-size:%2012px;%20line-height:%2020px;%20font-weight:%20400;%22%3E97.8178%3C/span%3E%3C/span%3E%3C/span%3E%3C/div%3E%3C/div%3E%3Cdiv%3E%3Cdiv%20class=%22%20css-88w1uu-TabularCell%22%3E%3Cspan%20class=%22css-mkoicc-CaptionCellRenderer%22%3E%3Cspan%3E%3Cspan%20class=%22ant-typography%22%20style=%22font-size:%2012px;%20line-height:%2020px;%20font-weight:%20400;%22%3E4.1292%3C/span%3E%3C/span%3E%3C/span%3E%3C/div%3E%3C/div%3E%3Cdiv%3E%3Cdiv%20class=%22%20css-qazlap-TabularCell%22%3E%3Cspan%20class=%22css-mkoicc-CaptionCellRenderer%22%3E%3Cspan%3E%3Cspan%20class=%22ant-typography%22%20style=%22font-size:%2012px;%20line-height:%2020px;%20font-weight:%20400;%22%3E20.6940%3C/span%3E%3C/span%3E%3C/span%3E%3C/div%3E%3C/div%3E%3C/div%3E%3Cdiv%20class=%22css-3cge9w%22%3E%3Cdiv%3E%3Cdiv%20class=%22%20css-130dmom-TabularCell%22%3E%3Cspan%20class=%22css-mkoicc-CaptionCellRenderer%22%3E%3Cspan%3E%3Cspan%20class=%22ant-typography%22%20style=%22font-size:%2012px;%20line-height:%2020px;%20font-weight:%20400;%22%3E3.2383%3C/span%3E%3C/span%3E%3C/span%3E%3C/div%3E%3C/div%3E%3Cdiv%3E%3Cdiv%20class=%22%20css-1hcmypl-TabularCell%22%3E%3Cspan%20class=%22css-mkoicc-CaptionCellRenderer%22%3E%3Cspan%3E%3Cspan%20class=%22ant-typography%22%20style=%22font-size:%2012px;%20line-height:%2020px;%20font-weight:%20400;%22%3E10.0846%3C/span%3E%3C/span%3E%3C/span%3E%3C/div%3E%3C/div%3E%3Cdiv%3E%3Cdiv%20class=%22%20css-130dmom-TabularCell%22%3E%3Cspan%20class=%22css-mkoicc-CaptionCellRenderer%22%3E%3Cspan%3E%3Cspan%20class=%22ant-typography%22%20style=%22font-size:%2012px;%20line-height:%2020px;%20font-weight:%20400;%22%3E7.1872%3C/span%3E%3C/span%3E%3C/span%3E%3C/div%3E%3C/div%3E%3Cdiv%3E%3Cdiv%20class=%22%20css-1hcmypl-TabularCell%22%3E%3Cspan%20class=%22css-mkoicc-CaptionCellRenderer%22%3E%3Cspan%3E%3Cspan%20class=%22ant-typography%22%20style=%22font-size:%2012px;%20line-height:%2020px;%20font-weight:%20400;%22%3E56.3613%3C/span%3E%3C/span%3E%3C/span%3E%3C/div%3E%3C/div%3E%3Cdiv%3E%3Cdiv%20class=%22%20css-130dmom-TabularCell%22%3E%3Cspan%20class=%22css-mkoicc-CaptionCellRenderer%22%3E%3Cspan%3E%3Cspan%20class=%22ant-typography%22%20style=%22font-size:%2012px;%20line-height:%2020px;%20font-weight:%20400;%22%3E11.1749%3C/span%3E%3C/span%3E%3C/span%3E%3C/div%3E%3C/div%3E%3Cdiv%3E%3Cdiv%20class=%22%20css-1hcmypl-TabularCell%22%3E%3Cspan%20class=%22css-mkoicc-CaptionCellRenderer%22%3E%3Cspan%3E%3Cspan%20class=%22ant-typography%22%20style=%22font-size:%2012px;%20line-height:%2020px;%20font-weight:%20400;%22%3E149.4575%3C/span%3E%3C/span%3E%3C/span%3E%3C/div%3E%3C/div%3E%3Cdiv%3E%3Cdiv%20class=%22%20css-130dmom-TabularCell%22%3E%3Cspan%20class=%22css-mkoicc-CaptionCellRenderer%22%3E%3Cspan%3E%3Cspan%20class=%22ant-typography%22%20style=%22font-size:%2012px;%20line-height:%2020px;%20font-weight:%20400;%22%3E5.0706%3C/span%3E%3C/span%3E%3C/span%3E%3C/div%3E%3C/div%3E%3Cdiv%3E%3Cdiv%20class=%22%20css-1hcmypl-TabularCell%22%3E%3Cspan%20class=%22css-mkoicc-CaptionCellRenderer%22%3E%3Cspan%3E%3Cspan%20class=%22ant-typography%22%20style=%22font-size:%2012px;%20line-height:%2020px;%20font-weight:%20400;%22%3E28.9653%3C/span%3E%3C/span%3E%3C/span%3E%3C/div%3E%3C/div%3E%3C/div%3E%3Cdiv%20class=%22css-3cge9w%22%3E%3Cdiv%3E%3Cdiv%20class=%22%20css-1kh7xqv-TabularCell%22%3E%3Cspan%20class=%22css-mkoicc-CaptionCellRenderer%22%3E%3Cspan%3E%3Cspan%20class=%22ant-typography%22%20style=%22font-size:%2012px;%20line-height:%2020px;%20font-weight:%20400;%22%3E2.5591%3C/span%3E%3C/span%3E%3C/span%3E%3C/div%3E%3C/div%3E%3Cdiv%3E%3Cdiv%20class=%22%20css-13vtqji-TabularCell%22%3E%3Cspan%20class=%22css-mkoicc-CaptionCellRenderer%22%3E%3Cspan%3E%3Cspan%20class=%22ant-typography%22%20style=%22font-size:%2012px;%20line-height:%2020px;%20font-weight:%20400;%22%3E6.7971%3C/span%3E%3C/span%3E%3C/span%3E%3C/div%3E%3C/div%3E%3Cdiv%3E%3Cdiv%20class=%22%20css-1kh7xqv-TabularCell%22%3E%3Cspan%20class=%22css-mkoicc-CaptionCellRenderer%22%3E%3Cspan%3E%3Cspan%20class=%22ant-typography%22%20style=%22font-size:%2012px;%20line-height:%2020px;%20font-weight:%20400;%22%3E2.6067%3C/span%3E%3C/span%3E%3C/span%3E%3C/div%3E%3C/div%3E%3Cdiv%3E%3Cdiv%20class=%22%20css-13vtqji-TabularCell%22%3E%3Cspan%20class=%22css-mkoicc-CaptionCellRenderer%22%3E%3Cspan%3E%3Cspan%20class=%22ant-typography%22%20style=%22font-size:%2012px;%20line-height:%2020px;%20font-weight:%20400;%22%3E7.2717%3C/span%3E%3C/span%3E%3C/span%3E%3C/div%3E%3C/div%3E%3Cdiv%3E%3Cdiv%20class=%22%20css-1kh7xqv-TabularCell%22%3E%3Cspan%20class=%22css-mkoicc-CaptionCellRenderer%22%3E%3Cspan%3E%3Cspan%20class=%22ant-typography%22%20style=%22font-size:%2012px;%20line-height:%2020px;%20font-weight:%20400;%22%3E2.0279%3C/span%3E%3C/span%3E%3C/span%3E%3C/div%3E%3C/div%3E%3Cdiv%3E%3Cdiv%20class=%22%20css-13vtqji-TabularCell%22%3E%3Cspan%20class=%22css-mkoicc-CaptionCellRenderer%22%3E%3Cspan%3E%3Cspan%20class=%22ant-typography%22%20style=%22font-size:%2012px;%20line-height:%2020px;%20font-weight:%20400;%22%3E3.5307%3C/span%3E%3C/span%3E%3C/span%3E%3C/div%3E%3C/div%3E%3Cdiv%3E%3Cdiv%20class=%22%20css-1kh7xqv-TabularCell%22%3E%3Cspan%20class=%22css-mkoicc-CaptionCellRenderer%22%3E%3Cspan%3E%3Cspan%20class=%22ant-typography%22%20style=%22font-size:%2012px;%20line-height:%2020px;%20font-weight:%20400;%22%3E3.0760%3C/span%3E%3C/span%3E%3C/span%3E%3C/div%3E%3C/div%3E%3Cdiv%3E%3Cdiv%20class=%22%20css-13vtqji-TabularCell%22%3E%3Cspan%20class=%22css-mkoicc-CaptionCellRenderer%22%3E%3Cspan%3E%3Cspan%20class=%22ant-typography%22%20style=%22font-size:%2012px;%20line-height:%2020px;%20font-weight:%20400;%22%3E9.9554%3C/span%3E%3C/span%3E%3C/span%3E%3C/div%3E%3C/div%3E%3C/div%3E%3C/div%3E%3C/div%3E%3Cdiv%20class=%22css-1yzvdq8%22%3E%3Cdiv%20class=%22css-dyzcru%22%3E%3C/div%3E%3C/div%3E%3Cdiv%20class=%22css-saet5j-TabularSelectionOverlay%22%3E%3C/div%3E%3C/div%3E%3C/div%3E%3Cdiv%20class=%22css-12f9a5a-SelectionStatistics%22%3E%3Cdiv%20class=%22css-au9x2c-SelectionStatistics%22%3E%3Cspan%20class=%22ant-typography%20css-srwpgf-SelectionStatistics%22%20style=%22font-size:%2014px;%20line-height:%2022px;%20font-weight:%20400;%22%3E%3Cstrong%3ESum:%3C/strong%3E%3C/span%3E%3Cspan%20class=%22ant-typography%22%20style=%22font-size:%2014px;%20line-height:%2022px;%20font-weight:%20400;%22%3E12.77%3C/span%3E%3Cspan%20class=%22css-88jil9-SelectionStatistics%22%3E%3Ci%20aria-label=%22icon:%20caret-down%22%20width=%221em%22%20height=%221em%22%20class=%22anticon%20anticon-caret-down%22%3E%3C/i%3E%3C/span%3E%3C/div%3E%3C/div%3E%3C/div%3E%3C/div%3E%3C/div%3E%3C/div%3E%3C/div%3E%3C/div%3E%3Cspan%20role=%22presentation%22%20class=%22css-14zuz97%20Resizer%20vertical%20disabled%22%3E%3C/span%3E%3Cdiv%20class=%22Pane%20vertical%20Pane2%20%20%22%20style=%22flex:%200%200%20auto;%20position:%20relative;%20outline:%20none;%20width:%200px;%20display:%20flex;%20background-color:%20rgb(255,%20255,%20255);%20overflow:%20auto;%22%3E%3Cdiv%20class=%22css-1ouk3zc-EditorSplitPane%22%3E%3Cdiv%20class=%22css-1jjvrwi-EditorSplitPane%22%3E%3C/div%3E%3C/div%3E%3C/div%3E%3C/div%3E%3C/div%3E%3C/div%3E%3C/div%3E%0A%20%20%20%20%20%20%20%20%3C/div%3E%0A%20%20%20%20%20%20%3C/foreignObject%3E%0A%20%20%20%20%3C/svg%3E\">"
      ],
      "text/plain": [
       "Open the notebook in JupyterLab with the atoti extension installed and enabled to see this widget."
      ]
     },
     "metadata": {},
     "output_type": "display_data"
    }
   ],
   "source": [
    "cube.visualize(\"Distribution stats\")"
   ]
  },
  {
   "cell_type": "markdown",
   "metadata": {},
   "source": [
    "The kurtosis values showed that the distributions are all either too peaked (> 1, fat tail - profusion of outliers) or too fat (< -1, lack of outliers).  \n",
    "Only a few such as the BTC's value and Folloers average are normal distributed based on the skewness value."
   ]
  },
  {
   "cell_type": "code",
   "execution_count": null,
   "metadata": {},
   "outputs": [],
   "source": [
    "cube.create_parameter_hierarchy(\n",
    "    \"Lags\",\n",
    "    list(range(50)),\n",
    "    index_measure=\"Lag Index\",\n",
    ")"
   ]
  },
  {
   "cell_type": "code",
   "execution_count": null,
   "metadata": {},
   "outputs": [],
   "source": [
    "m[\"acf\"] = m[\"lag_acf\"][m[\"Lag Index\"]]\n",
    "m[\"acf\"].formatter = \"DOUBLE[#,###.0000]\"\n",
    "\n",
    "m[\"pacf\"] = m[\"lag_pacf\"][m[\"Lag Index\"]]\n",
    "m[\"pacf\"].formatter = \"DOUBLE[#,###.0000]\""
   ]
  },
  {
   "cell_type": "code",
   "execution_count": null,
   "metadata": {},
   "outputs": [],
   "source": [
    "# https://towardsdatascience.com/significance-of-acf-and-pacf-plots-in-time-series-analysis-2fa11a5d10a8\n",
    "# https://en.wikipedia.org/wiki/1.96#:~:text=95%25%20of%20the%20area%20under%20a%20normal%20curve%20lies%20within,of%20approximate%2095%25%20confidence%20intervals.\n",
    "# https://www.statisticshowto.com/probability-and-statistics/find-critical-values/#CommonCI\n",
    "m[\"critical value\"] = 1.96\n",
    "m[\"Upper 95% confidence level\"] = m[\"critical value\"] / tt.sqrt(m[\"contributors.COUNT\"])\n",
    "m[\"Lower 95% confidence level\"] = -m[\"critical value\"] / tt.sqrt(\n",
    "    m[\"contributors.COUNT\"]\n",
    ")"
   ]
  },
  {
   "cell_type": "markdown",
   "metadata": {},
   "source": [
    "See the ACF and PACF for Bitcoin price time-series.  \n",
    "There is a good positive correlation with lags up to 39 lags where `acf` cuts the upper confidence level.  \n",
    "After 2 lags, PACF cuts the upper confidence level."
   ]
  },
  {
   "cell_type": "code",
   "execution_count": null,
   "metadata": {
    "atoti": {
     "state": {
      "name": "Auto-correlation for BTC price",
      "type": "container",
      "value": {
       "body": {
        "configuration": {
         "mapping": {
          "horizontalSubplots": [],
          "splitBy": [],
          "values": [
           "[Measures].[acf]",
           "[Measures].[Lower 95% confidence level]",
           "[Measures].[Upper 95% confidence level]",
           "[Measures].[pacf]"
          ],
          "verticalSubplots": [],
          "xAxis": [
           "[Hierarchies].[Lags].[Lags]"
          ]
         },
         "plotly": {
          "data": {
           "overridesByTraceKey": {
            "[Measures].[Lower 95% confidence level]": {
             "mode": "line"
            },
            "[Measures].[Upper 95% confidence level]": {
             "mode": "line"
            }
           }
          }
         },
         "style": {
          "colors": {
           "Lower 95% confidence level": "#ff0000",
           "Upper 95% confidence level": "#ff0000",
           "acf": "#4e79a7",
           "pacf": "#76b7b2"
          }
         },
         "subplotModeEnabled": true,
         "type": "plotly-line-chart"
        },
        "query": {
         "contextValues": {},
         "mdx": "SELECT NON EMPTY {[Measures].[acf], [Measures].[Lower 95% confidence level], [Measures].[Upper 95% confidence level], [Measures].[pacf]} ON COLUMNS, NON EMPTY [Hierarchies].[Lags].[Lags].Members ON ROWS FROM [Cryptocurrency cube] WHERE ([Cryptocurrency].[Coin Symbol].[coin_symbol].[BTC], [Metrics].[metric_name].[ALL].[AllMember].[Price]) CELL PROPERTIES VALUE, FORMATTED_VALUE, BACK_COLOR, FORE_COLOR, FONT_FLAGS",
         "serverUrl": ""
        }
       },
       "containerKey": "chart",
       "showTitleBar": false,
       "style": {}
      }
     }
    }
   },
   "outputs": [],
   "source": [
    "cube.visualize(\"Auto-correlation for BTC price\")"
   ]
  },
  {
   "cell_type": "markdown",
   "metadata": {},
   "source": [
    "For XRP, we see positive and negative auto-correlation."
   ]
  },
  {
   "cell_type": "code",
   "execution_count": null,
   "metadata": {
    "atoti": {
     "state": {
      "name": "Auto-correlation for XRP price",
      "type": "container",
      "value": {
       "body": {
        "configuration": {
         "mapping": {
          "horizontalSubplots": [],
          "splitBy": [],
          "values": [
           "[Measures].[acf]",
           "[Measures].[Lower 95% confidence level]",
           "[Measures].[Upper 95% confidence level]",
           "[Measures].[pacf]"
          ],
          "verticalSubplots": [],
          "xAxis": [
           "[Hierarchies].[Lags].[Lags]"
          ]
         },
         "plotly": {
          "data": {
           "overridesByTraceKey": {
            "[Measures].[Lower 95% confidence level]": {
             "mode": "line"
            },
            "[Measures].[Upper 95% confidence level]": {
             "mode": "line"
            }
           }
          }
         },
         "style": {
          "colors": {
           "Lower 95% confidence level": "#ff0000",
           "Upper 95% confidence level": "#ff0000",
           "acf": "#4e79a7",
           "pacf": "#76b7b2"
          }
         },
         "subplotModeEnabled": true,
         "type": "plotly-line-chart"
        },
        "query": {
         "contextValues": {},
         "mdx": "SELECT NON EMPTY {[Measures].[acf], [Measures].[Lower 95% confidence level], [Measures].[Upper 95% confidence level], [Measures].[pacf]} ON COLUMNS, NON EMPTY [Hierarchies].[Lags].[Lags].Members ON ROWS FROM [Cryptocurrency cube] WHERE ([Cryptocurrency].[Coin Symbol].[coin_symbol].[XRP], [Metrics].[metric_name].[ALL].[AllMember].[Price]) CELL PROPERTIES VALUE, FORMATTED_VALUE, BACK_COLOR, FORE_COLOR, FONT_FLAGS",
         "serverUrl": ""
        }
       },
       "containerKey": "chart",
       "showTitleBar": false,
       "style": {}
      }
     }
    }
   },
   "outputs": [],
   "source": [
    "cube.visualize(\"Auto-correlation for XRP price\")"
   ]
  },
  {
   "cell_type": "markdown",
   "metadata": {
    "atoti": {
     "state": {
      "name": "",
      "type": "container",
      "value": {
       "body": {
        "configuration": {
         "tabular": {
          "addButtonFilter": "numeric",
          "cellRenderers": [
           "tree-layout"
          ],
          "columnsGroups": [
           {
            "captionProducer": "firstColumn",
            "cellFactory": "kpi-status",
            "selector": "kpi-status"
           },
           {
            "captionProducer": "firstColumn",
            "cellFactory": "lookup",
            "selector": "lookup"
           },
           {
            "captionProducer": "expiry",
            "cellFactory": "expiry",
            "selector": "kpi-expiry"
           },
           {
            "captionProducer": "columnMerge",
            "cellFactory": {
             "args": {},
             "key": "treeCells"
            },
            "selector": "member"
           }
          ],
          "defaultOptions": {},
          "expansion": {
           "automaticExpansion": true
          },
          "hideAddButton": true,
          "pinnedHeaderSelector": "member",
          "sortingMode": "non-breaking",
          "statisticsShown": true
         }
        },
        "contextValues": {},
        "mdx": "SELECT NON EMPTY {[Measures].[acf], [Measures].[contributors.COUNT], [Measures].[pacf]} ON COLUMNS, NON EMPTY Crossjoin([Hierarchies].[Lags].[Lags].Members, [Metrics].[metric_name].[metric_name].Members) ON ROWS FROM [Cryptocurrency cube] WHERE [Cryptocurrency].[Coin Symbol].[coin_symbol].[BTC] CELL PROPERTIES VALUE, FORMATTED_VALUE, BACK_COLOR, FORE_COLOR, FONT_FLAGS",
        "ranges": {
         "column": {
          "chunkSize": 50,
          "thresholdPercentage": 0.2
         },
         "row": {
          "chunkSize": 2000,
          "thresholdPercentage": 0.1
         }
        },
        "serverUrl": ""
       },
       "containerKey": "pivot-table",
       "showTitleBar": false,
       "style": {}
      }
     }
    }
   },
   "source": [
    "A stationary process has the property that the mean, variance and autocorrelation structure do not change over time.  \n",
    "Let's apply transformation to make the time-series stationary."
   ]
  },
  {
   "cell_type": "code",
   "execution_count": null,
   "metadata": {},
   "outputs": [],
   "source": [
    "metrics_df = cube.query(\n",
    "    m[\"Price\"],\n",
    "    m[\"Returns\"],\n",
    "    m[\"Tweet volume\"],\n",
    "    m[\"Retweet total\"],\n",
    "    m[\"Retweet average\"],\n",
    "    m[\"Followers total\"],\n",
    "    m[\"Followers average\"],\n",
    "    m[\"Favorite total\"],\n",
    "    m[\"Favorite average\"],\n",
    "    m[\"Polarity total\"],\n",
    "    m[\"Polarity average\"],\n",
    "    m[\"Bullish ratio\"],\n",
    "    levels=[l[\"coin_symbol\"], l[\"date\"]],\n",
    ")\n",
    "\n",
    "metrics_df.head()"
   ]
  },
  {
   "cell_type": "code",
   "execution_count": null,
   "metadata": {},
   "outputs": [],
   "source": [
    "# https://www.statisticshowto.com/probability-and-statistics/hypothesis-testing/margin-of-error/#:~:text=The%20margin%20of%20error%20can,Standard%20error%20of%20the%20sample.\n",
    "m[\"margin of error\"] = m[\"critical value\"] * (\n",
    "    m[\"std\"] / tt.sqrt(m[\"contributors.COUNT\"])\n",
    ")"
   ]
  },
  {
   "cell_type": "code",
   "execution_count": null,
   "metadata": {
    "atoti": {
     "state": {
      "name": "",
      "type": "container",
      "value": {
       "body": {
        "configuration": {
         "tabular": {
          "addButtonFilter": "numeric",
          "cellRenderers": [
           "tree-layout"
          ],
          "columnsGroups": [
           {
            "captionProducer": "firstColumn",
            "cellFactory": "kpi-status",
            "selector": "kpi-status"
           },
           {
            "captionProducer": "firstColumn",
            "cellFactory": "lookup",
            "selector": "lookup"
           },
           {
            "captionProducer": "expiry",
            "cellFactory": "expiry",
            "selector": "kpi-expiry"
           },
           {
            "captionProducer": "columnMerge",
            "cellFactory": {
             "args": {},
             "key": "treeCells"
            },
            "selector": "member"
           }
          ],
          "defaultOptions": {},
          "expansion": {
           "automaticExpansion": true
          },
          "hideAddButton": true,
          "pinnedHeaderSelector": "member",
          "sortingMode": "non-breaking",
          "statisticsShown": true
         }
        },
        "contextValues": {},
        "mdx": "SELECT NON EMPTY Hierarchize(DrilldownLevel([Metrics].[metric_name].[ALL].[AllMember])) ON ROWS FROM [Cryptocurrency cube] CELL PROPERTIES VALUE, FORMATTED_VALUE, BACK_COLOR, FORE_COLOR, FONT_FLAGS",
        "ranges": {
         "column": {
          "chunkSize": 50,
          "thresholdPercentage": 0.2
         },
         "row": {
          "chunkSize": 2000,
          "thresholdPercentage": 0.1
         }
        },
        "serverUrl": ""
       },
       "containerKey": "pivot-table",
       "showTitleBar": false,
       "style": {}
      }
     }
    }
   },
   "outputs": [],
   "source": [
    "# # https://towardsdatascience.com/how-do-you-know-you-have-enough-training-data-ad9b1fd679ee\n",
    "# training_size = ((1.96 * 0.036105) / (0.036105 * 0.20)) ** 2\n",
    "# round(training_size)\n",
    "\n",
    "# m[\"Training size1\"] = (m[\"critical value\"]*m[\"std\"])/m[\"margin of error\"]\n",
    "m[\"Training size\"] = tt.round(tt.sqrt(m[\"contributors.COUNT\"]))"
   ]
  },
  {
   "cell_type": "code",
   "execution_count": null,
   "metadata": {},
   "outputs": [],
   "source": [
    "training_size_df = cube.query(m[\"Training size\"], levels=[l[\"coin_symbol\"]])\n",
    "training_size_df.head()"
   ]
  },
  {
   "cell_type": "markdown",
   "metadata": {},
   "source": [
    "### Time-series stationary checking  \n"
   ]
  },
  {
   "cell_type": "code",
   "execution_count": null,
   "metadata": {},
   "outputs": [],
   "source": [
    "session.url + \"/#/dashboard/44e\""
   ]
  },
  {
   "cell_type": "code",
   "execution_count": null,
   "metadata": {},
   "outputs": [],
   "source": [
    "diff_col = metrics_df.reset_index().columns.to_list()\n",
    "diff_col.append(\"order\")\n",
    "diff_col"
   ]
  },
  {
   "cell_type": "code",
   "execution_count": null,
   "metadata": {},
   "outputs": [],
   "source": [
    "# full_diff_df = pd.DataFrame(columns=diff_col).set_index(\n",
    "#     [\"coin_symbol\", \"date\", \"order\"]\n",
    "# )\n",
    "\n",
    "# https://www.statisticshowto.com/adf-augmented-dickey-fuller-test/\n",
    "def augmented_dickey_fuller_statistics(\n",
    "    coin, metric_name, time_series, diff_order, _diff\n",
    "):\n",
    "    global full_diff_df\n",
    "    result = adfuller(time_series)\n",
    "    if result[1] < 0.05:\n",
    "        # no differencing required\n",
    "        #         print(coin, metric_name, \"No unit root (Reject null hypothesis)\")\n",
    "        return _diff, time_series\n",
    "    else:\n",
    "        print(coin, metric_name, \"p-value: %f\" % result[1])\n",
    "        print(\n",
    "            coin,\n",
    "            metric_name,\n",
    "            \"There is unit root (Cannot reject null hypothesis) - Repeat differencing\",\n",
    "        )\n",
    "\n",
    "        diff_order += 1\n",
    "        differencing = time_series.diff()\n",
    "\n",
    "        diff_df = differencing.reset_index()\n",
    "        diff_df[\"order\"] = diff_order\n",
    "        diff_df.set_index([\"coin_symbol\", \"date\", \"order\"], inplace=True)\n",
    "        #         print(diff_order, metric_name, \"============= diff_df\", diff_df)\n",
    "        #         print(metric_name, \"============= _diff\", _diff)\n",
    "        axis = 1 if metric_name in diff_df.columns else 0\n",
    "        _diff = pd.concat([_diff, diff_df], axis=axis, join=\"outer\")\n",
    "\n",
    "        return augmented_dickey_fuller_statistics(\n",
    "            coin, metric_name, differencing.dropna(), diff_order, _diff\n",
    "        )"
   ]
  },
  {
   "cell_type": "code",
   "execution_count": null,
   "metadata": {},
   "outputs": [],
   "source": [
    "transformed_df = pd.DataFrame(columns=metrics_df.reset_index().columns).set_index(\n",
    "    [\"coin_symbol\", \"date\"]\n",
    ")\n",
    "\n",
    "full_diff_df = pd.DataFrame(columns=diff_col).set_index(\n",
    "    [\"coin_symbol\", \"date\", \"order\"]\n",
    ")\n",
    "\n",
    "for coin in coins:\n",
    "    coin_df = metrics_df.loc[[coin]].dropna()\n",
    "    #     train_size = training_size_df.loc[[coin]].iat[0, 0]\n",
    "\n",
    "    # #     X_train, X_test = coin_df[0:-train_size], coin_df[-train_size:]\n",
    "\n",
    "    # apply differencing if not stationary\n",
    "    #     X_transformed = X_train.copy()\n",
    "\n",
    "    # reset dataframe\n",
    "    full_diff_df = pd.DataFrame()\n",
    "\n",
    "    for col in coin_df.columns:\n",
    "        full_diff_df, coin_df[col] = augmented_dickey_fuller_statistics(\n",
    "            coin, col, coin_df[col], 0, full_diff_df\n",
    "        )\n",
    "\n",
    "    if len(full_diff_df) > 0:\n",
    "        full_diff_df.reset_index(inplace=True)\n",
    "        for diff_order in full_diff_df[\"order\"].unique():\n",
    "            scenario = full_diff_df.loc[full_diff_df[\"order\"] == diff_order].copy()\n",
    "            scenario.dropna(axis=\"columns\", how=\"all\", inplace=True)\n",
    "\n",
    "            price_store.scenarios[f\"d{diff_order}\"].load_pandas(\n",
    "                scenario.loc[\n",
    "                    :, scenario.columns.isin([\"coin_symbol\", \"date\", \"Price\", \"Return\"])\n",
    "                ]\n",
    "            )\n",
    "            metrics_store.scenarios[f\"d{diff_order}\"].load_pandas(\n",
    "                scenario.drop(columns=[\"order\", \"Price\", \"Return\"], errors=\"ignore\")\n",
    "            )\n",
    "\n",
    "    transformed_df = transformed_df.append(coin_df)"
   ]
  },
  {
   "cell_type": "markdown",
   "metadata": {},
   "source": [
    "Differencing the `Price` (non-stationary) will give us the `Returns` (stationary). Hence it is sufficient for us to perform Granger Causality check against `Returns` only."
   ]
  },
  {
   "cell_type": "code",
   "execution_count": null,
   "metadata": {
    "atoti": {
     "state": {
      "name": "Non stationary Price",
      "type": "container",
      "value": {
       "body": {
        "configuration": {
         "mapping": {
          "horizontalSubplots": [],
          "splitBy": [
           "[Epoch].[Epoch].[Branch]"
          ],
          "values": [
           "[Measures].[Price]"
          ],
          "verticalSubplots": [],
          "xAxis": [
           "[Time-series].[Date].[date]"
          ]
         },
         "type": "plotly-line-chart"
        },
        "query": {
         "contextValues": {},
         "mdx": "SELECT NON EMPTY Crossjoin([Time-series].[Date].[date].Members, [Epoch].[Epoch].[Branch].Members) ON ROWS, NON EMPTY [Measures].[Price] ON COLUMNS FROM (SELECT {[Epoch].[Epoch].[Branch].[Base], [Epoch].[Epoch].[Branch].[d1]} ON COLUMNS FROM [Cryptocurrency cube]) CELL PROPERTIES VALUE, FORMATTED_VALUE, BACK_COLOR, FORE_COLOR, FONT_FLAGS",
         "serverUrl": ""
        }
       },
       "containerKey": "chart",
       "showTitleBar": false,
       "style": {}
      }
     }
    }
   },
   "outputs": [],
   "source": [
    "cube.visualize(\"Non stationary Price\")"
   ]
  },
  {
   "cell_type": "code",
   "execution_count": null,
   "metadata": {
    "atoti": {
     "state": {
      "name": "Stationary Returns",
      "type": "container",
      "value": {
       "body": {
        "configuration": {
         "mapping": {
          "horizontalSubplots": [],
          "splitBy": [],
          "values": [
           "[Measures].[Returns]"
          ],
          "verticalSubplots": [],
          "xAxis": [
           "[Time-series].[Date].[date]"
          ]
         },
         "type": "plotly-line-chart"
        },
        "query": {
         "contextValues": {},
         "mdx": "SELECT NON EMPTY [Measures].[Returns] ON COLUMNS, NON EMPTY [Time-series].[Date].[date].Members ON ROWS FROM [Cryptocurrency cube] CELL PROPERTIES VALUE, FORMATTED_VALUE, BACK_COLOR, FORE_COLOR, FONT_FLAGS",
         "serverUrl": ""
        }
       },
       "containerKey": "chart",
       "showTitleBar": false,
       "style": {}
      }
     }
    }
   },
   "outputs": [],
   "source": [
    "cube.visualize(\"Stationary Returns\")"
   ]
  },
  {
   "cell_type": "code",
   "execution_count": null,
   "metadata": {},
   "outputs": [],
   "source": [
    "transformed_df"
   ]
  },
  {
   "cell_type": "code",
   "execution_count": null,
   "metadata": {},
   "outputs": [],
   "source": [
    "session.load_all_data()"
   ]
  },
  {
   "cell_type": "code",
   "execution_count": null,
   "metadata": {},
   "outputs": [],
   "source": [
    "transformed_df.head()"
   ]
  },
  {
   "cell_type": "markdown",
   "metadata": {},
   "source": [
    "### Granger Causality Testing"
   ]
  },
  {
   "cell_type": "code",
   "execution_count": null,
   "metadata": {},
   "outputs": [],
   "source": [
    "session.url"
   ]
  },
  {
   "cell_type": "code",
   "execution_count": null,
   "metadata": {},
   "outputs": [],
   "source": [
    "def autocorrelation(value):\n",
    "    if value < 1.5:\n",
    "        print(\"Positive correlation detected\")\n",
    "    elif value > 2.5:\n",
    "        print(\"Negative correlation detected\")\n",
    "    else:\n",
    "        print(\"No correlation detected\")\n",
    "\n",
    "\n",
    "def var_forecast(coin, train_data, test_data, train_size=15, verbose=False):\n",
    "    global data_stats\n",
    "    # ?? what would be a good maxlag\n",
    "    mod = VAR(train_data)\n",
    "    res = mod.fit(maxlags=train_size, ic=\"aic\")\n",
    "\n",
    "    out = durbin_watson(res.fittedvalues)\n",
    "\n",
    "    # 1.5 to 2.5\n",
    "    for col, val in zip(train_data.columns, out):\n",
    "        print((col), \":\", round(val, 2), \"\")\n",
    "        data_stats.loc[\n",
    "            (data_stats[\"coin_symbol\"] == coin) & (data_stats[\"metric_name\"] == col),\n",
    "            \"durbin_watson\",\n",
    "        ] = val\n",
    "\n",
    "        if verbose:\n",
    "            print(\n",
    "                \"+++++++++++++ data_stats\",\n",
    "                data_stats.loc[\n",
    "                    (data_stats[\"coin_symbol\"] == coin)\n",
    "                    & (data_stats[\"metric_name\"] == col)\n",
    "                ][[\"coin_symbol\", \"metric_name\", \"durbin_watson\"]],\n",
    "            )\n",
    "\n",
    "            autocorrelation(val)\n",
    "\n",
    "    lag_order = res.k_ar\n",
    "    print(\n",
    "        \"==================== Lag Order\",\n",
    "        lag_order,\n",
    "        \"=== train_data length\",\n",
    "        len(train_data),\n",
    "    )\n",
    "\n",
    "    if lag_order > 0:\n",
    "        # Input data for forecasting\n",
    "        input_data = train_data.values[-lag_order:]\n",
    "        #         print(input_data)\n",
    "\n",
    "        pred = res.forecast(y=input_data, steps=train_size)\n",
    "        pred_df = pd.DataFrame(\n",
    "            pred,\n",
    "            index=test_data.index,\n",
    "            columns=train_data.columns,\n",
    "        ).reset_index()\n",
    "        return pred_df.rename(columns={\"index\": \"date\"})"
   ]
  },
  {
   "cell_type": "code",
   "execution_count": null,
   "metadata": {},
   "outputs": [],
   "source": [
    "grangercausalitytests_df = pd.DataFrame(\n",
    "    columns=[\n",
    "        \"coin_symbol\",\n",
    "        \"x\",\n",
    "        \"y\",\n",
    "        \"ssr_ftest\",\n",
    "        \"ssr_chi2test\",\n",
    "        \"lrtest\",\n",
    "        \"params_ftest\",\n",
    "    ]\n",
    ")\n",
    "\n",
    "\n",
    "def grangers_causality_matrix(\n",
    "    coin, train_data, test_data, maxlag, train_size, verbose=False\n",
    "):\n",
    "    global grangercausalitytests_df\n",
    "    columns = train_data.columns\n",
    "\n",
    "    for c in columns:\n",
    "        r = \"Returns\"\n",
    "        if c not in [\"Price\", \"Returns\"]:\n",
    "            print(f\"============= Returns against {c}\")\n",
    "            X_train = train_data[[r, c]]\n",
    "\n",
    "            test_result = grangercausalitytests(X_train, maxlag=maxlag, verbose=False)\n",
    "\n",
    "            # stats for x causes y\n",
    "            result = {\"coin_symbol\": coin, \"x\": c, \"y\": r}\n",
    "            for test in [\"ssr_ftest\", \"ssr_chi2test\", \"lrtest\", \"params_ftest\"]:\n",
    "                p_values = [\n",
    "                    round(test_result[i + 1][0][test][1], 4) for i in range(maxlag)\n",
    "                ]\n",
    "\n",
    "                # we store the p-values for each test and each lag\n",
    "                result[test] = \";\".join(map(str, p_values))\n",
    "                if verbose:\n",
    "                    print(f\"{test}  ---  Y = {r}, X = {c}, P Values = {p_values}\")\n",
    "\n",
    "            grangercausalitytests_df = grangercausalitytests_df.append(\n",
    "                result, ignore_index=True\n",
    "            )\n",
    "\n",
    "            stats_store.scenarios[f\"{c} cause {r} (Bef. Transformation)\"].load_pandas(\n",
    "                data_stats.loc[\n",
    "                    (data_stats[\"coin_symbol\"] == coin)\n",
    "                    & (data_stats[\"metric_name\"].isin([c, r]))\n",
    "                ]\n",
    "            )\n",
    "\n",
    "            print(\"Forecasting coin\", coin)\n",
    "            df_forecast = var_forecast(coin, X_train, test_data, train_size)\n",
    "\n",
    "            if df_forecast is not None:\n",
    "                df_forecast[\"coin_symbol\"] = coin\n",
    "                if verbose:\n",
    "                    print(\"============ forecast\")\n",
    "                    print(df_forecast.head())\n",
    "                price_store.scenarios[\n",
    "                    f\"{c} cause {r} (Bef. Transformation)\"\n",
    "                ].load_pandas(df_forecast)\n",
    "                metrics_store.scenarios[\n",
    "                    f\"{c} cause {r} (Bef. Transformation)\"\n",
    "                ].load_pandas(df_forecast)"
   ]
  },
  {
   "cell_type": "code",
   "execution_count": null,
   "metadata": {},
   "outputs": [],
   "source": [
    "# https://www.aiproblog.com/index.php/2018/08/21/4-common-machine-learning-data-transforms-for-time-series-forecasting/\n",
    "coin_order_diff = {}\n",
    "\n",
    "for coin in coins:\n",
    "\n",
    "    df = (\n",
    "        transformed_df.loc[[coin]]\n",
    "        .reset_index()\n",
    "        .drop(columns=[\"coin_symbol\"])\n",
    "        .set_index(\"date\")\n",
    "    ).dropna()\n",
    "\n",
    "    ref_date_range = pd.date_range(df.index[0], df.index[-1])\n",
    "    ref_date_range\n",
    "\n",
    "    df = df.reindex(ref_date_range).fillna(method=\"pad\")\n",
    "\n",
    "    train_size = training_size_df.loc[[coin]].iat[0, 0]\n",
    "    X_train, X_test = df[0:-train_size], df[-train_size:]\n",
    "\n",
    "    prediction = grangers_causality_matrix(\n",
    "        coin, X_train.dropna(), X_test, 50, train_size\n",
    "    )"
   ]
  },
  {
   "cell_type": "code",
   "execution_count": null,
   "metadata": {},
   "outputs": [],
   "source": [
    "grangercausalitytests_df.head()"
   ]
  },
  {
   "cell_type": "markdown",
   "metadata": {},
   "source": [
    "### VAR forecasting comparison"
   ]
  },
  {
   "cell_type": "code",
   "execution_count": null,
   "metadata": {},
   "outputs": [],
   "source": [
    "session.url + \"/#/dashboard/462\""
   ]
  },
  {
   "cell_type": "markdown",
   "metadata": {},
   "source": [
    "#### Loading Granger Causality results into atoti cube"
   ]
  },
  {
   "cell_type": "code",
   "execution_count": null,
   "metadata": {},
   "outputs": [],
   "source": [
    "granger_causality_store = session.read_pandas(\n",
    "    grangercausalitytests_df,\n",
    "    keys=[\"coin_symbol\", \"x\", \"y\"],\n",
    "    store_name=\"Granger Causality\",\n",
    "    types={\n",
    "        \"ssr_ftest\": tt.types.FLOAT_ARRAY,\n",
    "        \"ssr_chi2test\": tt.types.FLOAT_ARRAY,\n",
    "        \"lrtest\": tt.types.FLOAT_ARRAY,\n",
    "        \"params_ftest\": tt.types.FLOAT_ARRAY,\n",
    "    },\n",
    "    array_sep=\";\",\n",
    ")"
   ]
  },
  {
   "cell_type": "code",
   "execution_count": null,
   "metadata": {},
   "outputs": [],
   "source": [
    "price_store.join(granger_causality_store)"
   ]
  },
  {
   "cell_type": "code",
   "execution_count": null,
   "metadata": {},
   "outputs": [],
   "source": [
    "cube.schema"
   ]
  },
  {
   "cell_type": "code",
   "execution_count": null,
   "metadata": {},
   "outputs": [],
   "source": [
    "m[\"v_ssr_ftest\"] = tt.agg.mean(granger_causality_store[\"ssr_ftest\"])\n",
    "m[\"v_ssr_chi2test\"] = tt.agg.mean(granger_causality_store[\"ssr_chi2test\"])\n",
    "m[\"v_lrtest\"] = tt.agg.mean(granger_causality_store[\"lrtest\"])\n",
    "m[\"v_params_ftest\"] = tt.agg.mean(granger_causality_store[\"params_ftest\"])"
   ]
  },
  {
   "cell_type": "code",
   "execution_count": null,
   "metadata": {},
   "outputs": [],
   "source": [
    "m[\"ssr_ftest\"] = m[\"v_ssr_ftest\"][m[\"Lag Index\"]]\n",
    "m[\"ssr_chi2test\"] = m[\"v_ssr_chi2test\"][m[\"Lag Index\"]]\n",
    "m[\"lrtest\"] = m[\"v_lrtest\"][m[\"Lag Index\"]]\n",
    "m[\"params_ftest\"] = m[\"v_params_ftest\"][m[\"Lag Index\"]]"
   ]
  },
  {
   "cell_type": "markdown",
   "metadata": {},
   "source": [
    "https://www.statsmodels.org/stable/generated/statsmodels.tsa.stattools.grangercausalitytests.html  \n",
    "Null hypothesis of granger causality test: time series X does NOT Granger cause the time series Y.  \n",
    "Alternative hypothesis: time series X Granger may cause the time series Y"
   ]
  },
  {
   "cell_type": "code",
   "execution_count": null,
   "metadata": {
    "atoti": {
     "height": 803,
     "state": {
      "name": "Granger causality test - ssr_chi2test p-value for Bitcoin",
      "type": "container",
      "value": {
       "body": {
        "configuration": {
         "tabular": {
          "addButtonFilter": "numeric",
          "cellRenderers": [
           "tree-layout"
          ],
          "columnOrder": {
           "args": {
            "orderedColumns": [
             "c-treeCells-member",
             "([Measures].[ssr_chi2test],[Hierarchies].[x].[ALL].[AllMember].[Bullish ratio])",
             "([Measures].[ssr_chi2test],[Hierarchies].[x].[ALL].[AllMember].[Favorite average])",
             "([Measures].[ssr_chi2test],[Hierarchies].[x].[ALL].[AllMember].[Favorite total])",
             "([Measures].[ssr_chi2test],[Hierarchies].[x].[ALL].[AllMember].[Followers average])",
             "([Measures].[ssr_chi2test],[Hierarchies].[x].[ALL].[AllMember].[Followers total])",
             "([Measures].[ssr_chi2test],[Hierarchies].[x].[ALL].[AllMember].[Polarity average])",
             "([Measures].[ssr_chi2test],[Hierarchies].[x].[ALL].[AllMember].[Polarity total])",
             "([Measures].[ssr_chi2test],[Hierarchies].[x].[ALL].[AllMember].[Retweet average])",
             "([Measures].[ssr_chi2test],[Hierarchies].[x].[ALL].[AllMember].[Retweet total])"
            ]
           },
           "key": "explicit"
          },
          "columns": [
           {
            "key": "c-treeCells-member",
            "width": 104
           },
           {
            "key": "[Measures].[ssr_ftest]",
            "width": 187
           },
           {
            "key": "([Measures].[ssr_ftest],[Metrics].[metric_name].[ALL].[AllMember].[Bullish ratio])",
            "width": 92
           },
           {
            "key": "([Measures].[ssr_ftest],[Metrics].[metric_name].[ALL].[AllMember].[Favorite average])",
            "width": 112
           },
           {
            "key": "([Measures].[ssr_ftest],[Metrics].[metric_name].[ALL].[AllMember].[Favorite total])",
            "width": 94
           }
          ],
          "columnsGroups": [
           {
            "captionProducer": "firstColumn",
            "cellFactory": "kpi-status",
            "selector": "kpi-status"
           },
           {
            "captionProducer": "firstColumn",
            "cellFactory": "lookup",
            "selector": "lookup"
           },
           {
            "captionProducer": "expiry",
            "cellFactory": "expiry",
            "selector": "kpi-expiry"
           },
           {
            "captionProducer": "columnMerge",
            "cellFactory": {
             "args": {},
             "key": "treeCells"
            },
            "selector": "member"
           }
          ],
          "defaultOptions": {},
          "expansion": {
           "automaticExpansion": true
          },
          "hideAddButton": true,
          "pinnedHeaderSelector": "member",
          "sortingMode": "non-breaking",
          "statisticsShown": true
         }
        },
        "contextValues": {},
        "mdx": "WITH  Member [Measures].[ssr_chi2test (1)] AS [Measures].[ssr_chi2test], BACK_COLOR = CASE WHEN [Measures].[ssr_chi2test (1)] < 0.05 THEN rgb(217, 234, 211) END, FORMAT_STRING = \"#,###.00\", CAPTION = [Measures].[ssr_chi2test].MEMBER_CAPTION  SELECT NON EMPTY Crossjoin([Measures].[ssr_chi2test (1)], [Hierarchies].[x].[x].Members) ON COLUMNS, NON EMPTY Hierarchize(Crossjoin([Hierarchies].[y].[y].Members, [Hierarchies].[Lags].[Lags].Members)) ON ROWS FROM [Cryptocurrency cube] CELL PROPERTIES BACK_COLOR, FONT_FLAGS, FORE_COLOR, FORMATTED_VALUE, VALUE",
        "ranges": {
         "column": {
          "chunkSize": 50,
          "thresholdPercentage": 0.2
         },
         "row": {
          "chunkSize": 2000,
          "thresholdPercentage": 0.1
         }
        },
        "serverUrl": ""
       },
       "containerKey": "pivot-table",
       "showTitleBar": false,
       "style": {}
      }
     }
    }
   },
   "outputs": [],
   "source": [
    "cube.visualize(\"Granger causality test - ssr_chi2test p-value for Bitcoin\")"
   ]
  },
  {
   "cell_type": "code",
   "execution_count": null,
   "metadata": {},
   "outputs": [],
   "source": [
    "session.url + \"/#/dashboard/70f\""
   ]
  },
  {
   "cell_type": "code",
   "execution_count": null,
   "metadata": {},
   "outputs": [],
   "source": []
  },
  {
   "cell_type": "code",
   "execution_count": null,
   "metadata": {},
   "outputs": [],
   "source": []
  }
 ],
 "metadata": {
  "kernelspec": {
   "display_name": "Python 3",
   "language": "python",
   "name": "python3"
  },
  "language_info": {
   "codemirror_mode": {
    "name": "ipython",
    "version": 3
   },
   "file_extension": ".py",
   "mimetype": "text/x-python",
   "name": "python",
   "nbconvert_exporter": "python",
   "pygments_lexer": "ipython3",
   "version": "3.8.5"
  }
 },
 "nbformat": 4,
 "nbformat_minor": 4
}
