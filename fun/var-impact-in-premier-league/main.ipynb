{
 "cells": [
  {
   "cell_type": "markdown",
   "metadata": {},
   "source": [
    "# Premier league: How has VAR impacted the rankings?\n",
    "\n",
    "There has been much debate about the video assistant referee when it was introduced last year (in 2019).\n",
    "The goal is to lead to fairer refereeing, but concerns are high on whether this will really be the case and the fact it could break the rythm of the game.\n",
    "\n",
    "We will let football – or soccer depending on where you read that notebook – analysts answer this question, but one thing we can look at is how has VAR impacted the league so far.\n",
    "\n",
    "This is what we will do in this notebook, alongside some other simulations we found interesting."
   ]
  },
  {
   "cell_type": "markdown",
   "metadata": {},
   "source": [
    "## 1. Importing the data"
   ]
  },
  {
   "cell_type": "code",
   "execution_count": 1,
   "metadata": {},
   "outputs": [],
   "source": [
    "import pandas\n",
    "import os.path\n",
    "import wget\n",
    "#note that you need to install wget (conda install python-wget) to get the data of this notebook"
   ]
  },
  {
   "cell_type": "code",
   "execution_count": 2,
   "metadata": {},
   "outputs": [],
   "source": [
    "# checking if file has already been downloaded \n",
    "def download_source(cwd: str, url: str, filename: str):\n",
    "    \"\"\"This function downloads data file from the given url to the working directory (cwd).\n",
    "\n",
    "    Args:\n",
    "        cwd: current working directory.\n",
    "        url: url for the source file\n",
    "        filename: filename of the downloaded file\n",
    "    \"\"\"\n",
    "    if os.path.isfile(cwd + \"/\" + filename):\n",
    "        print(filename + ' already downloaded.')\n",
    "    else:\n",
    "        wget.download(url, out=cwd)"
   ]
  },
  {
   "cell_type": "code",
   "execution_count": 3,
   "metadata": {},
   "outputs": [
    {
     "name": "stdout",
     "output_type": "stream",
     "text": [
      "goals.csv already downloaded.\n",
      "matches.csv already downloaded.\n"
     ]
    }
   ],
   "source": [
    "cwd = os.getcwd()\n",
    "download_source(cwd, 'http://data.atoti.io/notebooks/premier-league/goals.csv', \"goals.csv\")\n",
    "download_source(cwd, 'http://data.atoti.io/notebooks/premier-league/matches.csv', \"matches.csv\")"
   ]
  },
  {
   "cell_type": "markdown",
   "metadata": {},
   "source": [
    "### Importing and formatting the matches calendar with pandas"
   ]
  },
  {
   "cell_type": "markdown",
   "metadata": {},
   "source": [
    "We will first import the matches calendar of the 2019/2020 season."
   ]
  },
  {
   "cell_type": "code",
   "execution_count": 4,
   "metadata": {},
   "outputs": [
    {
     "data": {
      "text/html": [
       "<div>\n",
       "<style scoped>\n",
       "    .dataframe tbody tr th:only-of-type {\n",
       "        vertical-align: middle;\n",
       "    }\n",
       "\n",
       "    .dataframe tbody tr th {\n",
       "        vertical-align: top;\n",
       "    }\n",
       "\n",
       "    .dataframe thead th {\n",
       "        text-align: right;\n",
       "    }\n",
       "</style>\n",
       "<table border=\"1\" class=\"dataframe\">\n",
       "  <thead>\n",
       "    <tr style=\"text-align: right;\">\n",
       "      <th></th>\n",
       "      <th>League</th>\n",
       "      <th>Day</th>\n",
       "      <th>Home</th>\n",
       "      <th>Away</th>\n",
       "    </tr>\n",
       "  </thead>\n",
       "  <tbody>\n",
       "    <tr>\n",
       "      <th>0</th>\n",
       "      <td>Premier League 2019/2020</td>\n",
       "      <td>1</td>\n",
       "      <td>Liverpool</td>\n",
       "      <td>Norwich</td>\n",
       "    </tr>\n",
       "    <tr>\n",
       "      <th>1</th>\n",
       "      <td>Premier League 2019/2020</td>\n",
       "      <td>1</td>\n",
       "      <td>West Ham</td>\n",
       "      <td>Manchester City</td>\n",
       "    </tr>\n",
       "    <tr>\n",
       "      <th>2</th>\n",
       "      <td>Premier League 2019/2020</td>\n",
       "      <td>1</td>\n",
       "      <td>Bournemouth</td>\n",
       "      <td>Sheffield</td>\n",
       "    </tr>\n",
       "    <tr>\n",
       "      <th>3</th>\n",
       "      <td>Premier League 2019/2020</td>\n",
       "      <td>1</td>\n",
       "      <td>Burnley</td>\n",
       "      <td>Southampton</td>\n",
       "    </tr>\n",
       "    <tr>\n",
       "      <th>4</th>\n",
       "      <td>Premier League 2019/2020</td>\n",
       "      <td>1</td>\n",
       "      <td>Crystal Palace</td>\n",
       "      <td>Everton</td>\n",
       "    </tr>\n",
       "  </tbody>\n",
       "</table>\n",
       "</div>"
      ],
      "text/plain": [
       "                     League  Day            Home             Away\n",
       "0  Premier League 2019/2020    1       Liverpool          Norwich\n",
       "1  Premier League 2019/2020    1        West Ham  Manchester City\n",
       "2  Premier League 2019/2020    1     Bournemouth        Sheffield\n",
       "3  Premier League 2019/2020    1         Burnley      Southampton\n",
       "4  Premier League 2019/2020    1  Crystal Palace          Everton"
      ]
     },
     "execution_count": 4,
     "metadata": {},
     "output_type": "execute_result"
    }
   ],
   "source": [
    "matches_df = pandas.read_csv(\"matches.csv\", sep=\";\")\n",
    "matches_df.head()"
   ]
  },
  {
   "cell_type": "markdown",
   "metadata": {},
   "source": [
    "To be able to use this calendar more efficiently in a cube we will \"flatten\" this table so that for every league, day and team we have a line in the new table."
   ]
  },
  {
   "cell_type": "code",
   "execution_count": 5,
   "metadata": {},
   "outputs": [],
   "source": [
    "flat_matches_df = matches_df.iloc[0:0]\n",
    "del flat_matches_df['Home']\n",
    "del flat_matches_df['Away']\n",
    "flat_matches_df.insert(0,\"Team\",None,True)\n",
    "flat_matches_df.insert(0,\"IsPlayingHome\",None,True)\n",
    "flat_matches_df.insert(0,\"Opponent\",None,True)"
   ]
  },
  {
   "cell_type": "code",
   "execution_count": 6,
   "metadata": {},
   "outputs": [],
   "source": [
    "# For each line in the calendar, we now get two lines\n",
    "for index, row in matches_df.iterrows():\n",
    "    flat_matches_df = flat_matches_df.append({\"Team\": row.Home, \"League\": row.League, \"Day\": row.Day, \"IsPlayingHome\": True, \"Opponent\": row.Away }, ignore_index = True) \n",
    "    flat_matches_df = flat_matches_df.append({\"Team\": row.Away, \"League\": row.League, \"Day\": row.Day, \"IsPlayingHome\": False, \"Opponent\": row.Home }, ignore_index = True) "
   ]
  },
  {
   "cell_type": "code",
   "execution_count": 7,
   "metadata": {},
   "outputs": [
    {
     "data": {
      "text/html": [
       "<div>\n",
       "<style scoped>\n",
       "    .dataframe tbody tr th:only-of-type {\n",
       "        vertical-align: middle;\n",
       "    }\n",
       "\n",
       "    .dataframe tbody tr th {\n",
       "        vertical-align: top;\n",
       "    }\n",
       "\n",
       "    .dataframe thead th {\n",
       "        text-align: right;\n",
       "    }\n",
       "</style>\n",
       "<table border=\"1\" class=\"dataframe\">\n",
       "  <thead>\n",
       "    <tr style=\"text-align: right;\">\n",
       "      <th></th>\n",
       "      <th>Opponent</th>\n",
       "      <th>IsPlayingHome</th>\n",
       "      <th>Team</th>\n",
       "      <th>League</th>\n",
       "      <th>Day</th>\n",
       "    </tr>\n",
       "  </thead>\n",
       "  <tbody>\n",
       "    <tr>\n",
       "      <th>0</th>\n",
       "      <td>Norwich</td>\n",
       "      <td>True</td>\n",
       "      <td>Liverpool</td>\n",
       "      <td>Premier League 2019/2020</td>\n",
       "      <td>1</td>\n",
       "    </tr>\n",
       "    <tr>\n",
       "      <th>1</th>\n",
       "      <td>Liverpool</td>\n",
       "      <td>False</td>\n",
       "      <td>Norwich</td>\n",
       "      <td>Premier League 2019/2020</td>\n",
       "      <td>1</td>\n",
       "    </tr>\n",
       "    <tr>\n",
       "      <th>2</th>\n",
       "      <td>Manchester City</td>\n",
       "      <td>True</td>\n",
       "      <td>West Ham</td>\n",
       "      <td>Premier League 2019/2020</td>\n",
       "      <td>1</td>\n",
       "    </tr>\n",
       "    <tr>\n",
       "      <th>3</th>\n",
       "      <td>West Ham</td>\n",
       "      <td>False</td>\n",
       "      <td>Manchester City</td>\n",
       "      <td>Premier League 2019/2020</td>\n",
       "      <td>1</td>\n",
       "    </tr>\n",
       "    <tr>\n",
       "      <th>4</th>\n",
       "      <td>Sheffield</td>\n",
       "      <td>True</td>\n",
       "      <td>Bournemouth</td>\n",
       "      <td>Premier League 2019/2020</td>\n",
       "      <td>1</td>\n",
       "    </tr>\n",
       "  </tbody>\n",
       "</table>\n",
       "</div>"
      ],
      "text/plain": [
       "          Opponent IsPlayingHome             Team                    League  \\\n",
       "0          Norwich          True        Liverpool  Premier League 2019/2020   \n",
       "1        Liverpool         False          Norwich  Premier League 2019/2020   \n",
       "2  Manchester City          True         West Ham  Premier League 2019/2020   \n",
       "3         West Ham         False  Manchester City  Premier League 2019/2020   \n",
       "4        Sheffield          True      Bournemouth  Premier League 2019/2020   \n",
       "\n",
       "   Day  \n",
       "0    1  \n",
       "1    1  \n",
       "2    1  \n",
       "3    1  \n",
       "4    1  "
      ]
     },
     "execution_count": 7,
     "metadata": {},
     "output_type": "execute_result"
    }
   ],
   "source": [
    "flat_matches_df.head()"
   ]
  },
  {
   "cell_type": "markdown",
   "metadata": {},
   "source": [
    "### Importing and formatting the goals with pandas\n",
    "\n",
    "We will now import the goals data, this is what we will use to compute the results of the games and the rankings."
   ]
  },
  {
   "cell_type": "code",
   "execution_count": 8,
   "metadata": {},
   "outputs": [
    {
     "data": {
      "text/html": [
       "<div>\n",
       "<style scoped>\n",
       "    .dataframe tbody tr th:only-of-type {\n",
       "        vertical-align: middle;\n",
       "    }\n",
       "\n",
       "    .dataframe tbody tr th {\n",
       "        vertical-align: top;\n",
       "    }\n",
       "\n",
       "    .dataframe thead th {\n",
       "        text-align: right;\n",
       "    }\n",
       "</style>\n",
       "<table border=\"1\" class=\"dataframe\">\n",
       "  <thead>\n",
       "    <tr style=\"text-align: right;\">\n",
       "      <th></th>\n",
       "      <th>League</th>\n",
       "      <th>Day</th>\n",
       "      <th>Half</th>\n",
       "      <th>Minute</th>\n",
       "      <th>Scorer</th>\n",
       "      <th>Team</th>\n",
       "      <th>IsCancelledAfterVAR</th>\n",
       "      <th>IsPenalty</th>\n",
       "      <th>IsOwnGoal</th>\n",
       "    </tr>\n",
       "  </thead>\n",
       "  <tbody>\n",
       "    <tr>\n",
       "      <th>0</th>\n",
       "      <td>Premier League 2019/2020</td>\n",
       "      <td>1</td>\n",
       "      <td>1</td>\n",
       "      <td>42</td>\n",
       "      <td>Origi</td>\n",
       "      <td>Liverpool</td>\n",
       "      <td>N</td>\n",
       "      <td>N</td>\n",
       "      <td>N</td>\n",
       "    </tr>\n",
       "    <tr>\n",
       "      <th>1</th>\n",
       "      <td>Premier League 2019/2020</td>\n",
       "      <td>1</td>\n",
       "      <td>1</td>\n",
       "      <td>28</td>\n",
       "      <td>van Dijk</td>\n",
       "      <td>Liverpool</td>\n",
       "      <td>N</td>\n",
       "      <td>N</td>\n",
       "      <td>N</td>\n",
       "    </tr>\n",
       "    <tr>\n",
       "      <th>2</th>\n",
       "      <td>Premier League 2019/2020</td>\n",
       "      <td>1</td>\n",
       "      <td>1</td>\n",
       "      <td>19</td>\n",
       "      <td>Mohamed Salah</td>\n",
       "      <td>Liverpool</td>\n",
       "      <td>N</td>\n",
       "      <td>N</td>\n",
       "      <td>N</td>\n",
       "    </tr>\n",
       "    <tr>\n",
       "      <th>3</th>\n",
       "      <td>Premier League 2019/2020</td>\n",
       "      <td>1</td>\n",
       "      <td>1</td>\n",
       "      <td>7</td>\n",
       "      <td>Hanley</td>\n",
       "      <td>Norwich</td>\n",
       "      <td>N</td>\n",
       "      <td>N</td>\n",
       "      <td>Y</td>\n",
       "    </tr>\n",
       "    <tr>\n",
       "      <th>4</th>\n",
       "      <td>Premier League 2019/2020</td>\n",
       "      <td>1</td>\n",
       "      <td>2</td>\n",
       "      <td>64</td>\n",
       "      <td>Pukki</td>\n",
       "      <td>Norwich</td>\n",
       "      <td>N</td>\n",
       "      <td>N</td>\n",
       "      <td>N</td>\n",
       "    </tr>\n",
       "  </tbody>\n",
       "</table>\n",
       "</div>"
      ],
      "text/plain": [
       "                     League  Day  Half  Minute         Scorer       Team  \\\n",
       "0  Premier League 2019/2020    1     1      42          Origi  Liverpool   \n",
       "1  Premier League 2019/2020    1     1      28       van Dijk  Liverpool   \n",
       "2  Premier League 2019/2020    1     1      19  Mohamed Salah  Liverpool   \n",
       "3  Premier League 2019/2020    1     1       7         Hanley    Norwich   \n",
       "4  Premier League 2019/2020    1     2      64          Pukki    Norwich   \n",
       "\n",
       "  IsCancelledAfterVAR IsPenalty IsOwnGoal  \n",
       "0                   N         N         N  \n",
       "1                   N         N         N  \n",
       "2                   N         N         N  \n",
       "3                   N         N         Y  \n",
       "4                   N         N         N  "
      ]
     },
     "execution_count": 8,
     "metadata": {},
     "output_type": "execute_result"
    }
   ],
   "source": [
    "goals_df = pandas.read_csv(\"goals.csv\", sep=\";\")\n",
    "goals_df.head()"
   ]
  },
  {
   "cell_type": "markdown",
   "metadata": {},
   "source": [
    "Looks like booleans are formatted by \"Y\" and \"N\" in the data, let's change that"
   ]
  },
  {
   "cell_type": "code",
   "execution_count": 9,
   "metadata": {},
   "outputs": [
    {
     "data": {
      "text/html": [
       "<div>\n",
       "<style scoped>\n",
       "    .dataframe tbody tr th:only-of-type {\n",
       "        vertical-align: middle;\n",
       "    }\n",
       "\n",
       "    .dataframe tbody tr th {\n",
       "        vertical-align: top;\n",
       "    }\n",
       "\n",
       "    .dataframe thead th {\n",
       "        text-align: right;\n",
       "    }\n",
       "</style>\n",
       "<table border=\"1\" class=\"dataframe\">\n",
       "  <thead>\n",
       "    <tr style=\"text-align: right;\">\n",
       "      <th></th>\n",
       "      <th>League</th>\n",
       "      <th>Day</th>\n",
       "      <th>Half</th>\n",
       "      <th>Minute</th>\n",
       "      <th>Scorer</th>\n",
       "      <th>Team</th>\n",
       "      <th>IsCancelledAfterVAR</th>\n",
       "      <th>IsPenalty</th>\n",
       "      <th>IsOwnGoal</th>\n",
       "    </tr>\n",
       "  </thead>\n",
       "  <tbody>\n",
       "    <tr>\n",
       "      <th>0</th>\n",
       "      <td>Premier League 2019/2020</td>\n",
       "      <td>1</td>\n",
       "      <td>1</td>\n",
       "      <td>42</td>\n",
       "      <td>Origi</td>\n",
       "      <td>Liverpool</td>\n",
       "      <td>False</td>\n",
       "      <td>False</td>\n",
       "      <td>False</td>\n",
       "    </tr>\n",
       "    <tr>\n",
       "      <th>1</th>\n",
       "      <td>Premier League 2019/2020</td>\n",
       "      <td>1</td>\n",
       "      <td>1</td>\n",
       "      <td>28</td>\n",
       "      <td>van Dijk</td>\n",
       "      <td>Liverpool</td>\n",
       "      <td>False</td>\n",
       "      <td>False</td>\n",
       "      <td>False</td>\n",
       "    </tr>\n",
       "    <tr>\n",
       "      <th>2</th>\n",
       "      <td>Premier League 2019/2020</td>\n",
       "      <td>1</td>\n",
       "      <td>1</td>\n",
       "      <td>19</td>\n",
       "      <td>Mohamed Salah</td>\n",
       "      <td>Liverpool</td>\n",
       "      <td>False</td>\n",
       "      <td>False</td>\n",
       "      <td>False</td>\n",
       "    </tr>\n",
       "    <tr>\n",
       "      <th>3</th>\n",
       "      <td>Premier League 2019/2020</td>\n",
       "      <td>1</td>\n",
       "      <td>1</td>\n",
       "      <td>7</td>\n",
       "      <td>Hanley</td>\n",
       "      <td>Norwich</td>\n",
       "      <td>False</td>\n",
       "      <td>False</td>\n",
       "      <td>True</td>\n",
       "    </tr>\n",
       "    <tr>\n",
       "      <th>4</th>\n",
       "      <td>Premier League 2019/2020</td>\n",
       "      <td>1</td>\n",
       "      <td>2</td>\n",
       "      <td>64</td>\n",
       "      <td>Pukki</td>\n",
       "      <td>Norwich</td>\n",
       "      <td>False</td>\n",
       "      <td>False</td>\n",
       "      <td>False</td>\n",
       "    </tr>\n",
       "  </tbody>\n",
       "</table>\n",
       "</div>"
      ],
      "text/plain": [
       "                     League  Day  Half  Minute         Scorer       Team  \\\n",
       "0  Premier League 2019/2020    1     1      42          Origi  Liverpool   \n",
       "1  Premier League 2019/2020    1     1      28       van Dijk  Liverpool   \n",
       "2  Premier League 2019/2020    1     1      19  Mohamed Salah  Liverpool   \n",
       "3  Premier League 2019/2020    1     1       7         Hanley    Norwich   \n",
       "4  Premier League 2019/2020    1     2      64          Pukki    Norwich   \n",
       "\n",
       "   IsCancelledAfterVAR  IsPenalty  IsOwnGoal  \n",
       "0                False      False      False  \n",
       "1                False      False      False  \n",
       "2                False      False      False  \n",
       "3                False      False       True  \n",
       "4                False      False      False  "
      ]
     },
     "execution_count": 9,
     "metadata": {},
     "output_type": "execute_result"
    }
   ],
   "source": [
    "boolean_mapping = { 'Y': True, 'N': False }\n",
    "goals_df[\"IsCancelledAfterVAR\"] = goals_df[\"IsCancelledAfterVAR\"].map(boolean_mapping)\n",
    "goals_df[\"IsPenalty\"] = goals_df[\"IsPenalty\"].map(boolean_mapping)\n",
    "goals_df[\"IsOwnGoal\"] = goals_df[\"IsOwnGoal\"].map(boolean_mapping)\n",
    "goals_df.head()"
   ]
  },
  {
   "cell_type": "markdown",
   "metadata": {},
   "source": [
    "Note that in this data we also have all the goals that were later cancelled by VAR during a game."
   ]
  },
  {
   "cell_type": "markdown",
   "metadata": {},
   "source": [
    "## 2. Computing the rankings and other metrics in Atoti\n",
    "\n",
    "### Starting Atoti"
   ]
  },
  {
   "cell_type": "code",
   "execution_count": 10,
   "metadata": {},
   "outputs": [
    {
     "name": "stdout",
     "output_type": "stream",
     "text": [
      "Welcome to Atoti 0.3.1!\n",
      "\n",
      "By using this community edition, you agree with the license available at https://www.atoti.io/eula.\n",
      "Browse the official documentation at https://docs.atoti.io.\n",
      "Join the community at https://www.atoti.io/register.\n",
      "\n",
      "You can hide this message by setting the ATOTI_HIDE_EULA_MESSAGE environment variable to True.\n"
     ]
    }
   ],
   "source": [
    "import atoti\n",
    "# from atoti.config import create_config\n",
    "# config = create_config(metadata_db=\"./metadata.db\")\n",
    "# session = atoti.create_session(config=config)\n",
    "session = atoti.create_session()\n",
    "#session.load_all_data()"
   ]
  },
  {
   "cell_type": "markdown",
   "metadata": {},
   "source": [
    "### Loading data into stores and joining them"
   ]
  },
  {
   "cell_type": "code",
   "execution_count": 11,
   "metadata": {},
   "outputs": [],
   "source": [
    "matches_store = session.read_pandas(flat_matches_df, keys=[\"League\",\"Day\",\"Team\"])"
   ]
  },
  {
   "cell_type": "code",
   "execution_count": 12,
   "metadata": {},
   "outputs": [],
   "source": [
    "goals_store = session.read_pandas(goals_df, keys=[\"League\",\"Day\",\"Minute\", \"Scorer\"], store_name=\"goals_store\")"
   ]
  },
  {
   "cell_type": "markdown",
   "metadata": {},
   "source": [
    "We will now for each match retrieve all the goals that were scored during the match.  \n",
    "Atoti does outer left many to many joins by default."
   ]
  },
  {
   "cell_type": "code",
   "execution_count": 13,
   "metadata": {},
   "outputs": [],
   "source": [
    "matches_store.join(goals_store, mapping={\"League\": \"League\", \"Day\": \"Day\", \"Team\": \"Team\"})"
   ]
  },
  {
   "cell_type": "markdown",
   "metadata": {},
   "source": [
    "### Creating a cube\n",
    "\n",
    "We will create the cube on the matches store because some matches or teams end with no goal and we still want to have a line for these in the pivot tables.  \n",
    "In auto mode like below, a hierarchy will be created for each non numeric column, and average and sum measures for each numeric column. This can later be edited, or you could also define all hierarchies/measures by yourself switching to manual mode."
   ]
  },
  {
   "cell_type": "code",
   "execution_count": 14,
   "metadata": {},
   "outputs": [],
   "source": [
    "matches_cube = session.create_cube(matches_store, \"MatchesCube\")"
   ]
  },
  {
   "cell_type": "markdown",
   "metadata": {},
   "source": [
    "We will give a name to ou measures/levels/hierarchies"
   ]
  },
  {
   "cell_type": "code",
   "execution_count": 15,
   "metadata": {},
   "outputs": [],
   "source": [
    "m = matches_cube.measures\n",
    "level = matches_cube.levels\n",
    "h = matches_cube.hierarchies"
   ]
  },
  {
   "cell_type": "markdown",
   "metadata": {},
   "source": [
    "### Computing the rankings from the goals"
   ]
  },
  {
   "cell_type": "code",
   "execution_count": 16,
   "metadata": {},
   "outputs": [],
   "source": [
    "m[\"Goal Value\"] = 1.0\n",
    "m[\"Goal Value\"].visible = False"
   ]
  },
  {
   "cell_type": "markdown",
   "metadata": {},
   "source": [
    "Computing a first measure to count all the goals scored."
   ]
  },
  {
   "cell_type": "markdown",
   "metadata": {},
   "source": [
    "Same measure, but this time excluding goals cancelled after VAR."
   ]
  },
  {
   "cell_type": "code",
   "execution_count": 17,
   "metadata": {},
   "outputs": [],
   "source": [
    "m[\"Player goals\"] = atoti.agg.sum(m[\"Goal Value\"], \n",
    "                                                         scope=atoti.scope.origin(\"League\", \"Day\", \"Team\",\"Minute\",\"Scorer\"))"
   ]
  },
  {
   "cell_type": "markdown",
   "metadata": {},
   "source": [
    "Some teams have not scored any goal during some matches. This the above measures will return `None` in those cases, we will replace that by a zero."
   ]
  },
  {
   "cell_type": "code",
   "execution_count": 18,
   "metadata": {},
   "outputs": [],
   "source": [
    "m[\"Team Goals (incl OG)\"] = atoti.agg.sum(atoti.where(m[\"Player goals\"] == None,\n",
    "                                                                      0.0,\n",
    "                                                                      m[\"Player goals\"]),\n",
    "                                                          scope=atoti.scope.origin(\"League\",\"Team\",\"Day\"))"
   ]
  },
  {
   "cell_type": "markdown",
   "metadata": {},
   "source": [
    "Let's check that the measure we just defined work by visualizing them at match/team level:"
   ]
  },
  {
   "cell_type": "code",
   "execution_count": 20,
   "metadata": {
    "atoti": {
     "state": {
      "name": "",
      "type": "container",
      "value": {
       "body": {
        "configuration": {
         "tabular": {
          "addButtonFilter": "numeric",
          "columnOrder": {
           "args": {
            "orderedColumns": [
             "__lineNumber__",
             "c-treeCells-member",
             "[Measures].[Team Goals]"
            ]
           },
           "key": "explicit"
          },
          "columnsGroups": [
           {
            "captionProducer": "firstColumn",
            "cellFactory": "kpi-status",
            "selector": "kpi-status"
           },
           {
            "captionProducer": "firstColumn",
            "cellFactory": "lookup",
            "selector": "lookup"
           },
           {
            "captionProducer": "expiry",
            "cellFactory": "expiry",
            "selector": "kpi-expiry"
           },
           {
            "captionProducer": "columnMerge",
            "cellFactory": {
             "args": {
              "automaticExpansion": true
             },
             "key": "treeCells"
            },
            "selector": "member"
           }
          ],
          "defaultOptions": {},
          "hideAddButton": true,
          "lineNumbers": true,
          "pinnedHeaderSelector": "member",
          "sortingMode": "non-breaking",
          "statisticsShown": true
         }
        },
        "contextValues": {},
        "mdx": "SELECT NON EMPTY Crossjoin(Hierarchize(DrilldownLevel([Hierarchies].[League].[ALL].[AllMember])), Hierarchize(DrilldownLevel([Hierarchies].[Day].[ALL].[AllMember])), Hierarchize(DrilldownLevel([Hierarchies].[Team].[ALL].[AllMember]))) ON ROWS, NON EMPTY [Measures].[Team Goals (incl OG)] ON COLUMNS FROM [MatchesCube] CELL PROPERTIES VALUE, FORMATTED_VALUE, BACK_COLOR, FORE_COLOR, FONT_FLAGS",
        "ranges": {
         "column": {
          "chunkSize": 50,
          "thresholdPercentage": 0.2
         },
         "row": {
          "chunkSize": 2000,
          "thresholdPercentage": 0.1
         }
        },
        "serverUrl": "",
        "updateMode": "once"
       },
       "containerKey": "pivot-table",
       "showTitleBar": false,
       "style": {}
      }
     }
    }
   },
   "outputs": [
    {
     "data": {
      "application/vnd.atoti.v0+json": {
       "cube": "MatchesCube",
       "name": null,
       "session": "Unnamed"
      },
      "text/plain": [
       "Install the Atoti JupyterLab extension to see this widget."
      ]
     },
     "metadata": {},
     "output_type": "display_data"
    }
   ],
   "source": [
    "matches_cube.visualize()"
   ]
  },
  {
   "cell_type": "markdown",
   "metadata": {},
   "source": [
    "We need to take into account the own goals. In that case the goal is scored by a player of our own team."
   ]
  },
  {
   "cell_type": "code",
   "execution_count": 20,
   "metadata": {},
   "outputs": [],
   "source": [
    "m[\"Team Own Goals\"] = atoti.filter(m[\"Team Goals (incl OG)\"], level[\"IsOwnGoal\"] == True)"
   ]
  },
  {
   "cell_type": "code",
   "execution_count": 21,
   "metadata": {},
   "outputs": [],
   "source": [
    "m[\"Team Goals\"] = m[\"Team Goals (incl OG)\"] - m[\"Team Own Goals\"]"
   ]
  },
  {
   "cell_type": "markdown",
   "metadata": {},
   "source": [
    "For a particular match, the `Opponent Goals` are equal to the `Team Goals` if we switch to the data fact where Team is replaced by Opponent and Opponent by Team"
   ]
  },
  {
   "cell_type": "code",
   "execution_count": 22,
   "metadata": {},
   "outputs": [],
   "source": [
    "m[\"Opponent Goals (technical)\"] = atoti.at(m[\"Team Goals\"], {level[\"Team\"]: level[\"Opponent\"], level[\"Opponent\"]: level[\"Team\"]})\n",
    "m[\"Opponent Goals (technical)\"].visible = False"
   ]
  },
  {
   "cell_type": "code",
   "execution_count": 23,
   "metadata": {},
   "outputs": [],
   "source": [
    "m[\"Opponent Goals\"] = atoti.agg.sum(m[\"Opponent Goals (technical)\"], scope = atoti.scope.origin(\"Team\", \"Opponent\"))"
   ]
  },
  {
   "cell_type": "code",
   "execution_count": 24,
   "metadata": {},
   "outputs": [],
   "source": [
    "m[\"Opponent Own Goals (technical)\"] = atoti.at(atoti.agg.sum(atoti.where(m[\"Team Own Goals\"] == None, 0.0, m[\"Team Own Goals\"])), {level[\"Team\"]: level[\"Opponent\"], level[\"Opponent\"]: level[\"Team\"]})\n",
    "m[\"Opponent Own Goals (technical)\"].visible = False"
   ]
  },
  {
   "cell_type": "code",
   "execution_count": 25,
   "metadata": {},
   "outputs": [],
   "source": [
    "m[\"Opponent Own Goals\"] = atoti.agg.sum(m[\"Opponent Own Goals (technical)\"], scope = atoti.scope.origin(\"Team\", \"Opponent\"))"
   ]
  },
  {
   "cell_type": "markdown",
   "metadata": {},
   "source": [
    "We now have the team goals plus those of the opponent for each match. Now remeber VAR cancelled goals are also included, let's create new measures taking that into account."
   ]
  },
  {
   "cell_type": "code",
   "execution_count": 26,
   "metadata": {},
   "outputs": [],
   "source": [
    "m[\"Valid team goals\"] = atoti.filter(m[\"Team Goals\"], level[\"IsCancelledAfterVAR\"] == False)\n",
    "m[\"Valid opponent goals\"] = atoti.filter(m[\"Opponent Goals\"], level[\"IsCancelledAfterVAR\"] == False)"
   ]
  },
  {
   "cell_type": "markdown",
   "metadata": {},
   "source": [
    "We can visualize that in details, there are already 4 goals cancelled by VAR on the first day of the season !"
   ]
  },
  {
   "cell_type": "code",
   "execution_count": 28,
   "metadata": {
    "atoti": {
     "state": {
      "name": "",
      "type": "container",
      "value": {
       "body": {
        "configuration": {
         "tabular": {
          "addButtonFilter": "numeric",
          "columnOrder": {
           "args": {
            "orderedColumns": [
             "__lineNumber__",
             "c-treeCells-member",
             "[Measures].[Team Goals]",
             "[Measures].[Opponent Goals]",
             "[Measures].[Valid team goals]",
             "[Measures].[Valid opponent goals]",
             "[Measures].[Team Own Goals]",
             "[Measures].[Opponent Own Goals]"
            ]
           },
           "key": "explicit"
          },
          "columns": [],
          "columnsGroups": [
           {
            "captionProducer": "firstColumn",
            "cellFactory": "kpi-status",
            "selector": "kpi-status"
           },
           {
            "captionProducer": "firstColumn",
            "cellFactory": "lookup",
            "selector": "lookup"
           },
           {
            "captionProducer": "expiry",
            "cellFactory": "expiry",
            "selector": "kpi-expiry"
           },
           {
            "captionProducer": "columnMerge",
            "cellFactory": {
             "args": {
              "automaticExpansion": true
             },
             "key": "treeCells"
            },
            "selector": "member"
           }
          ],
          "defaultOptions": {},
          "hideAddButton": true,
          "lineNumbers": true,
          "pinnedHeaderSelector": "member",
          "sortingMode": "non-breaking",
          "statisticsShown": true
         }
        },
        "contextValues": {},
        "mdx": "SELECT NON EMPTY Crossjoin(Hierarchize(DrilldownLevel([Hierarchies].[League].[ALL].[AllMember])), Hierarchize(DrilldownLevel([Hierarchies].[Day].[ALL].[AllMember])), Hierarchize(DrilldownLevel([Hierarchies].[Team].[ALL].[AllMember]))) ON ROWS, NON EMPTY {[Measures].[Team Goals], [Measures].[Opponent Goals], [Measures].[Valid opponent goals], [Measures].[Valid team goals], [Measures].[Team Own Goals], [Measures].[Opponent Own Goals], [Measures].[Opponent Score], [Measures].[Team Score]} ON COLUMNS FROM [MatchesCube] CELL PROPERTIES BACK_COLOR, FONT_FLAGS, FORE_COLOR, FORMATTED_VALUE, VALUE",
        "ranges": {
         "column": {
          "chunkSize": 50,
          "thresholdPercentage": 0.2
         },
         "row": {
          "chunkSize": 2000,
          "thresholdPercentage": 0.1
         }
        },
        "serverUrl": "",
        "updateMode": "once"
       },
       "containerKey": "pivot-table",
       "showTitleBar": false,
       "style": {}
      }
     }
    }
   },
   "outputs": [
    {
     "data": {
      "application/vnd.atoti.v0+json": {
       "cube": "MatchesCube",
       "name": null,
       "session": "Unnamed"
      },
      "text/plain": [
       "Install the Atoti JupyterLab extension to see this widget."
      ]
     },
     "metadata": {},
     "output_type": "display_data"
    }
   ],
   "source": [
    "matches_cube.visualize()"
   ]
  },
  {
   "cell_type": "markdown",
   "metadata": {},
   "source": [
    "We are now going to add two measures `Team Score` and `Opponent Score` to compute the result of a particular match.  \n",
    "Since the previous measures are empty if there are 0 goals, and we still want the 0-0 results to appear we will add up zeroes for those cases."
   ]
  },
  {
   "cell_type": "code",
   "execution_count": 66,
   "metadata": {},
   "outputs": [],
   "source": [
    "m[\"Team Score\"] = atoti.agg.sum(atoti.where(m[\"Team Goals\"] + m[\"Opponent Own Goals\"] == None,\n",
    "                                            0.0, \n",
    "                                            m[\"Team Goals\"] + m[\"Opponent Own Goals\"]\n",
    "                                           ), \n",
    "                                scope=atoti.scope.origin(\"League\",\"Day\",\"Team\"))"
   ]
  },
  {
   "cell_type": "code",
   "execution_count": 67,
   "metadata": {},
   "outputs": [],
   "source": [
    "m[\"tmptmp\"] = m[\"Team Goals\"] + m[\"Opponent Own Goals\"]"
   ]
  },
  {
   "cell_type": "code",
   "execution_count": 70,
   "metadata": {},
   "outputs": [],
   "source": [
    "m[\"opppppp\"] = m[\"Opponent Goals\"] + m[\"Team Own Goals\"]"
   ]
  },
  {
   "cell_type": "code",
   "execution_count": 68,
   "metadata": {},
   "outputs": [],
   "source": [
    "m[\"Opponent Score\"] = atoti.agg.sum(atoti.where(m[\"Opponent Goals\"] + m[\"Team Own Goals\"] == None, \n",
    "                                                0.0, \n",
    "                                                m[\"Opponent Goals\"] + m[\"Team Own Goals\"]\n",
    "                                               ), \n",
    "                                    scope=atoti.scope.origin(\"League\",\"Day\",\"Team\"))"
   ]
  },
  {
   "cell_type": "code",
   "execution_count": 73,
   "metadata": {},
   "outputs": [],
   "source": [
    "m[\"ozadaozij\"] = atoti.agg.sum(atoti.where(m[\"opppppp\"] == None, \n",
    "                                                0.0, \n",
    "                                                m[\"opppppp\"]\n",
    "                                               ),\n",
    "                              scope=atoti.scope.origin(\"League\",\"Day\",\"Team\"))"
   ]
  },
  {
   "cell_type": "code",
   "execution_count": 62,
   "metadata": {
    "atoti": {
     "state": {
      "name": "",
      "type": "container",
      "value": {
       "body": {
        "configuration": {
         "tabular": {
          "addButtonFilter": "numeric",
          "columnsGroups": [
           {
            "captionProducer": "firstColumn",
            "cellFactory": "kpi-status",
            "selector": "kpi-status"
           },
           {
            "captionProducer": "firstColumn",
            "cellFactory": "lookup",
            "selector": "lookup"
           },
           {
            "captionProducer": "expiry",
            "cellFactory": "expiry",
            "selector": "kpi-expiry"
           },
           {
            "captionProducer": "columnMerge",
            "cellFactory": {
             "args": {
              "automaticExpansion": true
             },
             "key": "treeCells"
            },
            "selector": "member"
           }
          ],
          "defaultOptions": {},
          "hideAddButton": true,
          "lineNumbers": true,
          "pinnedHeaderSelector": "member",
          "sortingMode": "non-breaking",
          "statisticsShown": true
         }
        },
        "contextValues": {},
        "mdx": "SELECT NON EMPTY Crossjoin(Hierarchize(DrilldownLevel([Hierarchies].[Day].[ALL].[AllMember])), Hierarchize(DrilldownLevel([Hierarchies].[Team].[ALL].[AllMember]))) ON ROWS, NON EMPTY {[Measures].[Team Score], [Measures].[Opponent Score], [Measures].[Team Goals (incl OG)], [Measures].[opppppp], [Measures].[tmptmp], [Measures].[ozadaozij]} ON COLUMNS FROM [MatchesCube] CELL PROPERTIES VALUE, FORMATTED_VALUE, BACK_COLOR, FORE_COLOR, FONT_FLAGS",
        "ranges": {
         "column": {
          "chunkSize": 50,
          "thresholdPercentage": 0.2
         },
         "row": {
          "chunkSize": 2000,
          "thresholdPercentage": 0.1
         }
        },
        "serverUrl": "",
        "updateMode": "once"
       },
       "containerKey": "pivot-table",
       "showTitleBar": false,
       "style": {}
      }
     }
    }
   },
   "outputs": [
    {
     "data": {
      "application/vnd.atoti.v0+json": {
       "cube": "MatchesCube",
       "name": null,
       "session": "Unnamed"
      },
      "text/plain": [
       "Install the Atoti JupyterLab extension to see this widget."
      ]
     },
     "metadata": {},
     "output_type": "display_data"
    }
   ],
   "source": [
    "matches_cube.visualize()"
   ]
  },
  {
   "cell_type": "markdown",
   "metadata": {},
   "source": [
    "Now that for each game we have the number of goals of a team and the number of goals the opponent scored, we can compute how many points the team has earned.  "
   ]
  },
  {
   "cell_type": "code",
   "execution_count": 29,
   "metadata": {},
   "outputs": [],
   "source": [
    "m[\"Points for victory\"] = 3.0\n",
    "m[\"Points for tie\"] = 1.0\n",
    "m[\"Points for loss\"] = 0.0"
   ]
  },
  {
   "cell_type": "code",
   "execution_count": 30,
   "metadata": {},
   "outputs": [],
   "source": [
    "m[\"Points (no VAR)\"] = atoti.agg.sum(atoti.where(m[\"Team Goals\"] + m[\"Opponent Own Goals\"] > m[\"Opponent Goals\"] + m[\"Team Own Goals\"],\n",
    "                                        m[\"Points for victory\"],\n",
    "                                        atoti.where(m[\"Team Goals\"] + m[\"Opponent Own Goals\"] == m[\"Opponent Goals\"] + m[\"Team Own Goals\"],\n",
    "                                                     m[\"Points for tie\"],\n",
    "                                                     m[\"Points for loss\"])\n",
    "                                       ),\n",
    "                            scope=atoti.scope.origin(\"League\",\"Day\",\"Team\"))"
   ]
  },
  {
   "cell_type": "code",
   "execution_count": 32,
   "metadata": {},
   "outputs": [],
   "source": [
    "m[\"Actual Points\"] = atoti.filter(m[\"Points (no VAR)\"], level[\"IsCancelledAfterVAR\"] == False)"
   ]
  },
  {
   "cell_type": "markdown",
   "metadata": {},
   "source": [
    "And here we have our ranking. \n",
    "\n",
    "## Rankings and VAR impact\n",
    "\n",
    "Color rules were added to show teams that benefited from the VAR in green and those who lost championship points because of it in red."
   ]
  },
  {
   "cell_type": "code",
   "execution_count": 34,
   "metadata": {
    "atoti": {
     "state": {
      "name": "",
      "type": "container",
      "value": {
       "body": {
        "configuration": {
         "tabular": {
          "addButtonFilter": "numeric",
          "columnsGroups": [
           {
            "captionProducer": "firstColumn",
            "cellFactory": "kpi-status",
            "selector": "kpi-status"
           },
           {
            "captionProducer": "firstColumn",
            "cellFactory": "lookup",
            "selector": "lookup"
           },
           {
            "captionProducer": "expiry",
            "cellFactory": "expiry",
            "selector": "kpi-expiry"
           },
           {
            "captionProducer": "columnMerge",
            "cellFactory": {
             "args": {
              "automaticExpansion": true
             },
             "key": "treeCells"
            },
            "selector": "member"
           }
          ],
          "defaultOptions": {},
          "hideAddButton": true,
          "lineNumbers": true,
          "pinnedHeaderSelector": "member",
          "sortingMode": "non-breaking",
          "statisticsShown": true
         }
        },
        "contextValues": {},
        "mdx": "WITH  Member [Measures].[Actual Points (1)] AS [Measures].[Actual Points], FORE_COLOR = CASE WHEN [Measures].[Actual Points (1)] - [Measures].[Points (no VAR)] > 0 THEN rgb(44, 160, 44) WHEN [Measures].[Actual Points (1)] - [Measures].[Points (no VAR)] < 0 THEN rgb(255, 0, 0) END, CAPTION = [Measures].[Actual Points].MEMBER_CAPTION, FONT_FLAGS = CASE WHEN [Measures].[Actual Points (1)] - [Measures].[Points (no VAR)] > 0 THEN 1 WHEN [Measures].[Actual Points (1)] - [Measures].[Points (no VAR)] < 0 THEN 1 END, FORMAT_STRING = \"#,###.00\"  SELECT NON EMPTY Order(Crossjoin(Hierarchize(DrilldownLevel([Hierarchies].[League].[ALL].[AllMember])), Hierarchize(DrilldownLevel([Hierarchies].[Team].[ALL].[AllMember]))), [Measures].[Actual Points], DESC) ON ROWS, NON EMPTY {[Measures].[Points (no VAR)], [Measures].[Actual Points (1)]} ON COLUMNS FROM [MatchesCube] CELL PROPERTIES BACK_COLOR, FONT_FLAGS, FORE_COLOR, FORMATTED_VALUE, VALUE",
        "ranges": {
         "column": {
          "chunkSize": 50,
          "thresholdPercentage": 0.2
         },
         "row": {
          "chunkSize": 2000,
          "thresholdPercentage": 0.1
         }
        },
        "serverUrl": "",
        "updateMode": "once"
       },
       "containerKey": "pivot-table",
       "showTitleBar": false,
       "style": {}
      }
     }
    }
   },
   "outputs": [
    {
     "data": {
      "application/vnd.atoti.v0+json": {
       "cube": "MatchesCube",
       "name": null,
       "session": "Unnamed"
      },
      "text/plain": [
       "Install the Atoti JupyterLab extension to see this widget."
      ]
     },
     "metadata": {},
     "output_type": "display_data"
    }
   ],
   "source": [
    "matches_cube.visualize()"
   ]
  },
  {
   "cell_type": "markdown",
   "metadata": {},
   "source": [
    "#### Add comments on the result here once the data is complete\n",
    "\n",
    "Since the ranking is computed from the goal level, we can perform any kind of simulation we want using simple UI filters.  \n",
    "You can filter the pivot table above to see what would happen if we only keep the first half of the games ? If we only keep matches played home ? What if we filter out Vardy, would Leicester lose some places ?\n",
    "\n",
    "## Evolution of the rankings over time\n",
    "\n",
    "Atoti also enables you to define cumulative sums over a hierarchy, we will use that to see how the team rankings evolved during the season.  \n",
    "In the same way, the measure printed in the chart below is computed in real time and currently prints the cumulative points including VAR refused goals. You can filter the chart on `IsCancelledAfterVAR = False` to get the rankings evolution with the actual points."
   ]
  },
  {
   "cell_type": "code",
   "execution_count": 35,
   "metadata": {},
   "outputs": [],
   "source": [
    "m[\"Points cumulative sum\"] = atoti.agg.sum(m[\"Actual Points\"],\n",
    "                                          scope=atoti.scope.cumulative(level[\"Day\"]))"
   ]
  },
  {
   "cell_type": "code",
   "execution_count": 37,
   "metadata": {
    "atoti": {
     "state": {
      "name": "",
      "type": "container",
      "value": {
       "body": {
        "configuration": {
         "mapping": {
          "horizontal": [],
          "splitBy": [
           "[Hierarchies].[Team].[Team]"
          ],
          "values": [
           "[Measures].[Points cumulative sum]"
          ],
          "vertical": [],
          "xAxis": [
           "[Hierarchies].[Day].[Day]"
          ]
         },
         "type": "plotly-line-chart"
        },
        "query": {
         "mdx": "SELECT NON EMPTY Crossjoin([Hierarchies].[Day].[Day].Members, [Hierarchies].[Team].[Team].Members) ON ROWS, NON EMPTY [Measures].[Points cumulative sum] ON COLUMNS FROM [MatchesCube] CELL PROPERTIES VALUE, FORMATTED_VALUE, BACK_COLOR, FORE_COLOR, FONT_FLAGS",
         "serverUrl": "",
         "updateMode": "once"
        }
       },
       "containerKey": "chart",
       "showTitleBar": false,
       "style": {}
      }
     }
    }
   },
   "outputs": [
    {
     "data": {
      "application/vnd.atoti.v0+json": {
       "cube": "MatchesCube",
       "name": null,
       "session": "Unnamed"
      },
      "text/plain": [
       "Install the Atoti JupyterLab extension to see this widget."
      ]
     },
     "metadata": {},
     "output_type": "display_data"
    }
   ],
   "source": [
    "matches_cube.visualize()"
   ]
  },
  {
   "cell_type": "markdown",
   "metadata": {},
   "source": [
    "We have no values for some days where the team has not scored any points and thus does not have a value for measure `Actual Points`.  \n",
    "We can fix that by taking the previous existing value in those cases."
   ]
  },
  {
   "cell_type": "code",
   "execution_count": 38,
   "metadata": {},
   "outputs": [],
   "source": [
    "m[\"Points smooth cumulative sum\"] = atoti.where(m[\"Points cumulative sum\"] == None,\n",
    "                                              2.0, #atoti.shift(m[\"Points cumulative sum\"], on=level[\"Day\"],period=1),\n",
    "                                               m[\"Points cumulative sum\"])"
   ]
  },
  {
   "cell_type": "code",
   "execution_count": 40,
   "metadata": {
    "atoti": {
     "state": {
      "name": "",
      "type": "container",
      "value": {
       "body": {
        "configuration": {
         "mapping": {
          "horizontal": [],
          "splitBy": [
           "[Hierarchies].[Team].[Team]"
          ],
          "values": [
           "[Measures].[Points smooth cumulative sum]"
          ],
          "vertical": [],
          "xAxis": [
           "[Hierarchies].[Day].[Day]"
          ]
         },
         "type": "plotly-line-chart"
        },
        "query": {
         "mdx": "SELECT NON EMPTY Crossjoin([Hierarchies].[Day].[Day].Members, [Hierarchies].[Team].[Team].Members) ON ROWS, NON EMPTY [Measures].[Points smooth cumulative sum] ON COLUMNS FROM [MatchesCube] CELL PROPERTIES VALUE, FORMATTED_VALUE, BACK_COLOR, FORE_COLOR, FONT_FLAGS",
         "serverUrl": "",
         "updateMode": "once"
        }
       },
       "containerKey": "chart",
       "showTitleBar": false,
       "style": {}
      }
     }
    }
   },
   "outputs": [
    {
     "data": {
      "application/vnd.atoti.v0+json": {
       "cube": "MatchesCube",
       "name": null,
       "session": "Unnamed"
      },
      "text/plain": [
       "Install the Atoti JupyterLab extension to see this widget."
      ]
     },
     "metadata": {},
     "output_type": "display_data"
    }
   ],
   "source": [
    "matches_cube.visualize()"
   ]
  },
  {
   "cell_type": "markdown",
   "metadata": {},
   "source": [
    "## Players most impacted by the VAR\n",
    "\n",
    "Until now we looked at most results at team level, but since the data exists at goal level, we could have a look at which players are most impacted by the VAR."
   ]
  },
  {
   "cell_type": "code",
   "execution_count": 41,
   "metadata": {},
   "outputs": [],
   "source": [
    "m[\"Valid player goals\"] = atoti.filter(m[\"Player goals\"], level[\"IsCancelledAfterVAR\"] == False)"
   ]
  },
  {
   "cell_type": "code",
   "execution_count": 43,
   "metadata": {
    "atoti": {
     "state": {
      "name": "",
      "type": "container",
      "value": {
       "body": {
        "configuration": {
         "tabular": {
          "addButtonFilter": "numeric",
          "columnOrder": {
           "args": {
            "orderedColumns": [
             "__lineNumber__",
             "c-treeCells-member",
             "[Measures].[Player goals]",
             "[Measures].[Valid player goals]"
            ]
           },
           "key": "explicit"
          },
          "columns": [
           {
            "hide": false,
            "key": "[Measures].[Valid player goals]",
            "width": 152
           },
           {
            "key": "[Measures].[Player goals - Valid player goals]",
            "width": 227
           }
          ],
          "columnsGroups": [
           {
            "captionProducer": "firstColumn",
            "cellFactory": "kpi-status",
            "selector": "kpi-status"
           },
           {
            "captionProducer": "firstColumn",
            "cellFactory": "lookup",
            "selector": "lookup"
           },
           {
            "captionProducer": "expiry",
            "cellFactory": "expiry",
            "selector": "kpi-expiry"
           },
           {
            "captionProducer": "columnMerge",
            "cellFactory": {
             "args": {
              "automaticExpansion": true
             },
             "key": "treeCells"
            },
            "selector": "member"
           }
          ],
          "defaultOptions": {},
          "hideAddButton": true,
          "lineNumbers": true,
          "pinnedHeaderSelector": "member",
          "sortingMode": "non-breaking",
          "statisticsShown": true
         }
        },
        "contextValues": {},
        "mdx": "WITH  Member [Measures].[Delta] AS [Measures].[Player goals] - [Measures].[Valid player goals], FORMAT_STRING = \"#,###.##\"    Member [Measures].[Player goals - Valid player goals] AS [Measures].[Player goals] - [Measures].[Valid player goals], CAPTION = \"Player goals - Valid player goals\"  SELECT NON EMPTY Order(DrilldownLevel([Hierarchies].[Scorer].[ALL].[AllMember]), [Measures].[Player goals - Valid player goals], DESC) ON ROWS, NON EMPTY {[Measures].[Player goals], [Measures].[Valid player goals], [Measures].[Player goals - Valid player goals]} ON COLUMNS FROM [MatchesCube] CELL PROPERTIES BACK_COLOR, FONT_FLAGS, FORE_COLOR, FORMATTED_VALUE, VALUE",
        "ranges": {
         "column": {
          "chunkSize": 50,
          "thresholdPercentage": 0.2
         },
         "row": {
          "chunkSize": 2000,
          "thresholdPercentage": 0.1
         }
        },
        "serverUrl": "",
        "updateMode": "once"
       },
       "containerKey": "pivot-table",
       "showTitleBar": false,
       "style": {}
      }
     }
    }
   },
   "outputs": [
    {
     "data": {
      "application/vnd.atoti.v0+json": {
       "cube": "MatchesCube",
       "name": null,
       "session": "Unnamed"
      },
      "text/plain": [
       "Install the Atoti JupyterLab extension to see this widget."
      ]
     },
     "metadata": {},
     "output_type": "display_data"
    }
   ],
   "source": [
    "matches_cube.visualize()"
   ]
  },
  {
   "cell_type": "markdown",
   "metadata": {},
   "source": [
    "Let's have a look at it in a chart"
   ]
  },
  {
   "cell_type": "code",
   "execution_count": 45,
   "metadata": {
    "atoti": {
     "state": {
      "name": "",
      "type": "container",
      "value": {
       "body": {
        "configuration": {
         "mapping": {
          "horizontal": [],
          "splitBy": [],
          "values": [
           "[Measures].[Player goals]",
           "[Measures].[Valid player goals]"
          ],
          "vertical": [],
          "xAxis": [
           "[Hierarchies].[Scorer].[Scorer]"
          ]
         },
         "type": "plotly-clustered-column-chart"
        },
        "query": {
         "mdx": "SELECT NON EMPTY [Hierarchies].[Scorer].[Scorer].Members ON ROWS, NON EMPTY {[Measures].[Player goals], [Measures].[Valid player goals]} ON COLUMNS FROM [MatchesCube] CELL PROPERTIES VALUE, FORMATTED_VALUE, BACK_COLOR, FORE_COLOR, FONT_FLAGS",
         "serverUrl": "",
         "updateMode": "once"
        }
       },
       "containerKey": "chart",
       "showTitleBar": false,
       "style": {}
      }
     }
    }
   },
   "outputs": [
    {
     "data": {
      "application/vnd.atoti.v0+json": {
       "cube": "MatchesCube",
       "name": null,
       "session": "Unnamed"
      },
      "text/plain": [
       "Install the Atoti JupyterLab extension to see this widget."
      ]
     },
     "metadata": {},
     "output_type": "display_data"
    }
   ],
   "source": [
    "matches_cube.visualize()"
   ]
  },
  {
   "cell_type": "markdown",
   "metadata": {},
   "source": [
    "#### Add analysis here once the data is complete\n",
    "\n",
    "## Simulation of a different scoring system\n",
    "\n",
    "Although we are all used to a scoring system giving 3 points for a victory, 1 for a tie and 0 per lost match this was not always the case. Before the 1990's many european leagues only gave 2 points per victory, reason for the change being to encourage teams to score more goals during the games.  \n",
    "The premier league gifts us well with plenty of goals scored (take it from someone watching the French ligue 1), but how different would the results be with the old scoring system ?  \n",
    "\n",
    "Atoti enables us to very easily simulate this, we will simply created a new scenario where we replace the number of points given for a victory, we will first setup a simulation on that measure."
   ]
  },
  {
   "cell_type": "code",
   "execution_count": 46,
   "metadata": {},
   "outputs": [],
   "source": [
    "scoring_system_simulation = matches_cube.setup_simulation(\"Scoring system simulations\", replace=[m[\"Points for victory\"]])"
   ]
  },
  {
   "cell_type": "markdown",
   "metadata": {},
   "source": [
    "And create a new scenario where we give it another value"
   ]
  },
  {
   "cell_type": "code",
   "execution_count": 47,
   "metadata": {},
   "outputs": [],
   "source": [
    "scoring_system_simulation.scenarios[\"Old system\"] = 2.0"
   ]
  },
  {
   "cell_type": "markdown",
   "metadata": {},
   "source": [
    "And that's it, no need to define anything else, all the measures will be re-computed with the new value in the new scenario.  \n",
    "Let's compare the rankings between the two scoring systems."
   ]
  },
  {
   "cell_type": "code",
   "execution_count": 49,
   "metadata": {
    "atoti": {
     "state": {
      "name": "",
      "type": "container",
      "value": {
       "body": {
        "configuration": {
         "tabular": {
          "addButtonFilter": "numeric",
          "columnOrder": {
           "args": {
            "orderedColumns": [
             "__lineNumber__",
             "c-treeCells-member",
             "([Measures].[Actual Points],[Measure Simulations].[Scoring system simulations].[Scoring system simulations].[Base])",
             "([Measures].[Actual Points],[Measure Simulations].[Scoring system simulations].[Scoring system simulations].[Old system])"
            ]
           },
           "key": "explicit"
          },
          "columns": [
           {
            "key": "([Measures].[Actual Points],[Measure Simulations].[Scoring system simulations].[Scoring system simulations].[Base - Old system])",
            "width": 147
           }
          ],
          "columnsGroups": [
           {
            "captionProducer": "firstColumn",
            "cellFactory": "kpi-status",
            "selector": "kpi-status"
           },
           {
            "captionProducer": "firstColumn",
            "cellFactory": "lookup",
            "selector": "lookup"
           },
           {
            "captionProducer": "expiry",
            "cellFactory": "expiry",
            "selector": "kpi-expiry"
           },
           {
            "captionProducer": "columnMerge",
            "cellFactory": {
             "args": {
              "automaticExpansion": true
             },
             "key": "treeCells"
            },
            "selector": "member"
           }
          ],
          "defaultOptions": {},
          "hideAddButton": true,
          "lineNumbers": true,
          "pinnedHeaderSelector": "member",
          "sortingMode": "non-breaking",
          "statisticsShown": true
         }
        },
        "contextValues": {},
        "mdx": "WITH  Member [Measure Simulations].[Scoring system simulations].[Base - Old system] AS [Measure Simulations].[Scoring system simulations].[Base] - [Measure Simulations].[Scoring system simulations].[Old system], CAPTION = \"Base - Old system\"  SELECT NON EMPTY Order(DrilldownLevel([Hierarchies].[Team].[ALL].[AllMember]), ([Measures].[Actual Points], [Measure Simulations].[Scoring system simulations].[Scoring system simulations].[Base]), DESC) ON ROWS, NON EMPTY Crossjoin([Measures].[Actual Points], Hierarchize(Union([Measure Simulations].[Scoring system simulations].[Scoring system simulations].Members, [Measure Simulations].[Scoring system simulations].[Base - Old system]))) ON COLUMNS FROM [MatchesCube] CELL PROPERTIES BACK_COLOR, FONT_FLAGS, FORE_COLOR, FORMATTED_VALUE, VALUE",
        "ranges": {
         "column": {
          "chunkSize": 50,
          "thresholdPercentage": 0.2
         },
         "row": {
          "chunkSize": 2000,
          "thresholdPercentage": 0.1
         }
        },
        "serverUrl": "",
        "updateMode": "once"
       },
       "containerKey": "pivot-table",
       "showTitleBar": false,
       "style": {}
      }
     }
    }
   },
   "outputs": [
    {
     "data": {
      "application/vnd.atoti.v0+json": {
       "cube": "MatchesCube",
       "name": null,
       "session": "Unnamed"
      },
      "text/plain": [
       "Install the Atoti JupyterLab extension to see this widget."
      ]
     },
     "metadata": {},
     "output_type": "display_data"
    }
   ],
   "source": [
    "matches_cube.visualize()"
   ]
  },
  {
   "cell_type": "markdown",
   "metadata": {},
   "source": [
    "#### add analysis here once the data is complete "
   ]
  },
  {
   "cell_type": "code",
   "execution_count": null,
   "metadata": {},
   "outputs": [],
   "source": []
  },
  {
   "cell_type": "code",
   "execution_count": 50,
   "metadata": {},
   "outputs": [
    {
     "data": {
      "text/plain": [
       "'http://localhost:53486'"
      ]
     },
     "execution_count": 50,
     "metadata": {},
     "output_type": "execute_result"
    }
   ],
   "source": [
    "session.url"
   ]
  },
  {
   "cell_type": "code",
   "execution_count": null,
   "metadata": {},
   "outputs": [],
   "source": []
  },
  {
   "cell_type": "code",
   "execution_count": null,
   "metadata": {},
   "outputs": [],
   "source": []
  }
 ],
 "metadata": {
  "kernelspec": {
   "display_name": "Python 3",
   "language": "python",
   "name": "python3"
  },
  "language_info": {
   "codemirror_mode": {
    "name": "ipython",
    "version": 3
   },
   "file_extension": ".py",
   "mimetype": "text/x-python",
   "name": "python",
   "nbconvert_exporter": "python",
   "pygments_lexer": "ipython3",
   "version": "3.7.6"
  }
 },
 "nbformat": 4,
 "nbformat_minor": 4
}
