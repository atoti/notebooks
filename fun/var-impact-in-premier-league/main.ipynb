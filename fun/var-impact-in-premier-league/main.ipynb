{
 "cells": [
  {
   "cell_type": "markdown",
   "metadata": {},
   "source": [
    "# Premier league: How has VAR impacted the rankings?\n",
    "\n",
    "There has been much debate about the video assistant referee (VAR) when it was introduced last year (in 2019).\n",
    "The goal is to lead to fairer refereeing, but concerns are high on whether this will really be the case and the fact that it could break the rhythm of the game.\n",
    "\n",
    "We will let football analysts – or soccer analysts depending on where you read that notebook from – answer this question. But one thing we can look at is how has VAR impacted the league so far.\n",
    "\n",
    "This is what we will do in this notebook, alongside some other simulations we found interesting."
   ]
  },
  {
   "cell_type": "markdown",
   "metadata": {},
   "source": [
    "## Importing the data\n",
    "\n",
    "The data we will use is composed of events. An event can be anything that happens in a game: kick-off, goal, foul, etc.  \n",
    "In this dataset, we only kept kick-off and goal events to build our analysis.  \n",
    "Note that in the goal events we also have all the goals that were later cancelled by VAR during a game.\n",
    "\n",
    "We will first start by importing atoti and creating a session."
   ]
  },
  {
   "cell_type": "code",
   "execution_count": 1,
   "metadata": {},
   "outputs": [
    {
     "name": "stdout",
     "output_type": "stream",
     "text": [
      "Welcome to atoti 0.4.0!\n",
      "\n",
      "By using this community edition, you agree with the license available at https://www.atoti.io/eula.\n",
      "Browse the official documentation at https://docs.atoti.io.\n",
      "Join the community at https://www.atoti.io/register.\n",
      "\n",
      "You can hide this message by setting the ATOTI_HIDE_EULA_MESSAGE environment variable to True.\n"
     ]
    }
   ],
   "source": [
    "import atoti as tt\n",
    "\n",
    "session = tt.create_session()"
   ]
  },
  {
   "cell_type": "markdown",
   "metadata": {},
   "source": [
    "Then load the events in a store"
   ]
  },
  {
   "cell_type": "code",
   "execution_count": 2,
   "metadata": {},
   "outputs": [
    {
     "data": {
      "text/html": [
       "<div>\n",
       "<style scoped>\n",
       "    .dataframe tbody tr th:only-of-type {\n",
       "        vertical-align: middle;\n",
       "    }\n",
       "\n",
       "    .dataframe tbody tr th {\n",
       "        vertical-align: top;\n",
       "    }\n",
       "\n",
       "    .dataframe thead th {\n",
       "        text-align: right;\n",
       "    }\n",
       "</style>\n",
       "<table border=\"1\" class=\"dataframe\">\n",
       "  <thead>\n",
       "    <tr style=\"text-align: right;\">\n",
       "      <th></th>\n",
       "      <th>EventId</th>\n",
       "      <th>Team</th>\n",
       "      <th>Opponent</th>\n",
       "      <th>IsPlayingHome</th>\n",
       "      <th>League</th>\n",
       "      <th>Day</th>\n",
       "      <th>Half</th>\n",
       "      <th>Minute</th>\n",
       "      <th>EventType</th>\n",
       "      <th>Scorer</th>\n",
       "      <th>IsCancelledAfterVAR</th>\n",
       "      <th>IsPenalty</th>\n",
       "      <th>IsOwnGoal</th>\n",
       "    </tr>\n",
       "  </thead>\n",
       "  <tbody>\n",
       "    <tr>\n",
       "      <th>0</th>\n",
       "      <td>1</td>\n",
       "      <td>Liverpool</td>\n",
       "      <td>Norwich</td>\n",
       "      <td>True</td>\n",
       "      <td>Premier League 2019/2020</td>\n",
       "      <td>1</td>\n",
       "      <td>1</td>\n",
       "      <td>42</td>\n",
       "      <td>Goal</td>\n",
       "      <td>Origi</td>\n",
       "      <td>False</td>\n",
       "      <td>False</td>\n",
       "      <td>False</td>\n",
       "    </tr>\n",
       "    <tr>\n",
       "      <th>1</th>\n",
       "      <td>2</td>\n",
       "      <td>Liverpool</td>\n",
       "      <td>Norwich</td>\n",
       "      <td>True</td>\n",
       "      <td>Premier League 2019/2020</td>\n",
       "      <td>1</td>\n",
       "      <td>1</td>\n",
       "      <td>28</td>\n",
       "      <td>Goal</td>\n",
       "      <td>van Dijk</td>\n",
       "      <td>False</td>\n",
       "      <td>False</td>\n",
       "      <td>False</td>\n",
       "    </tr>\n",
       "    <tr>\n",
       "      <th>2</th>\n",
       "      <td>3</td>\n",
       "      <td>Liverpool</td>\n",
       "      <td>Norwich</td>\n",
       "      <td>True</td>\n",
       "      <td>Premier League 2019/2020</td>\n",
       "      <td>1</td>\n",
       "      <td>1</td>\n",
       "      <td>19</td>\n",
       "      <td>Goal</td>\n",
       "      <td>Mohamed Salah</td>\n",
       "      <td>False</td>\n",
       "      <td>False</td>\n",
       "      <td>False</td>\n",
       "    </tr>\n",
       "    <tr>\n",
       "      <th>3</th>\n",
       "      <td>4</td>\n",
       "      <td>Norwich</td>\n",
       "      <td>Liverpool</td>\n",
       "      <td>False</td>\n",
       "      <td>Premier League 2019/2020</td>\n",
       "      <td>1</td>\n",
       "      <td>1</td>\n",
       "      <td>7</td>\n",
       "      <td>Goal</td>\n",
       "      <td>Hanley</td>\n",
       "      <td>False</td>\n",
       "      <td>False</td>\n",
       "      <td>True</td>\n",
       "    </tr>\n",
       "    <tr>\n",
       "      <th>4</th>\n",
       "      <td>5</td>\n",
       "      <td>Norwich</td>\n",
       "      <td>Liverpool</td>\n",
       "      <td>False</td>\n",
       "      <td>Premier League 2019/2020</td>\n",
       "      <td>1</td>\n",
       "      <td>2</td>\n",
       "      <td>64</td>\n",
       "      <td>Goal</td>\n",
       "      <td>Pukki</td>\n",
       "      <td>False</td>\n",
       "      <td>False</td>\n",
       "      <td>False</td>\n",
       "    </tr>\n",
       "  </tbody>\n",
       "</table>\n",
       "</div>"
      ],
      "text/plain": [
       "   EventId       Team   Opponent IsPlayingHome                    League  Day  \\\n",
       "0        1  Liverpool    Norwich          True  Premier League 2019/2020    1   \n",
       "1        2  Liverpool    Norwich          True  Premier League 2019/2020    1   \n",
       "2        3  Liverpool    Norwich          True  Premier League 2019/2020    1   \n",
       "3        4    Norwich  Liverpool         False  Premier League 2019/2020    1   \n",
       "4        5    Norwich  Liverpool         False  Premier League 2019/2020    1   \n",
       "\n",
       "   Half  Minute EventType         Scorer IsCancelledAfterVAR IsPenalty  \\\n",
       "0     1      42      Goal          Origi               False     False   \n",
       "1     1      28      Goal       van Dijk               False     False   \n",
       "2     1      19      Goal  Mohamed Salah               False     False   \n",
       "3     1       7      Goal         Hanley               False     False   \n",
       "4     2      64      Goal          Pukki               False     False   \n",
       "\n",
       "  IsOwnGoal  \n",
       "0     False  \n",
       "1     False  \n",
       "2     False  \n",
       "3      True  \n",
       "4     False  "
      ]
     },
     "execution_count": 2,
     "metadata": {},
     "output_type": "execute_result"
    }
   ],
   "source": [
    "events_store = session.read_csv(\n",
    "    \"s3://data.atoti.io/notebooks/premier-league/events_dataset.csv\", sep=\";\"\n",
    ")\n",
    "events_store.head()"
   ]
  },
  {
   "cell_type": "markdown",
   "metadata": {},
   "source": [
    "### Creating a cube\n",
    "\n",
    "We create a cube on the event store so that some matches or teams that ended with no goal will still be reflected in the pivot tables.  \n",
    "\n",
    "When creating a cube in the default auto mode, a hierarchy will be created for each non float column, and average and sum measures for each float column.  This setup can later be edited, or you could also define all hierarchies/measures by yourself switching to manual mode."
   ]
  },
  {
   "cell_type": "code",
   "execution_count": 3,
   "metadata": {},
   "outputs": [],
   "source": [
    "cube = session.create_cube(events_store)"
   ]
  },
  {
   "cell_type": "markdown",
   "metadata": {},
   "source": [
    "Let's assign measures/levels/hierarchies to shorter variables"
   ]
  },
  {
   "cell_type": "code",
   "execution_count": 4,
   "metadata": {},
   "outputs": [],
   "source": [
    "m = cube.measures\n",
    "lvl = cube.levels\n",
    "h = cube.hierarchies"
   ]
  },
  {
   "cell_type": "markdown",
   "metadata": {},
   "source": [
    "## Computing the rankings from the goals\n",
    "\n",
    "Computing the first measure below to count the total goals scored for each event. At this point the total still includes the potential own goals and VAR-refused goals."
   ]
  },
  {
   "cell_type": "code",
   "execution_count": 6,
   "metadata": {},
   "outputs": [],
   "source": [
    "m[\"Team Goals (incl Own Goals)\"] = tt.agg.sum(\n",
    "    tt.where(\n",
    "        lvl[\"EventType\"] == \"Goal\", tt.agg.count_distinct(events_store[\"EventId\"]), 0.0\n",
    "    ),\n",
    "    scope=tt.scope.origin(lvl[\"EventType\"]),\n",
    ")"
   ]
  },
  {
   "cell_type": "markdown",
   "metadata": {},
   "source": [
    "In this data format, own goals are scored by players from a Team, but those points should be attributed to the opponent. Therefore we will isolate the own goals in a separate measure."
   ]
  },
  {
   "cell_type": "code",
   "execution_count": 7,
   "metadata": {},
   "outputs": [],
   "source": [
    "m[\"Team Own Goals\"] = tt.agg.sum(\n",
    "    tt.where(lvl[\"IsOwnGoal\"] == True, m[\"Team Goals (incl Own Goals)\"], 0.0),\n",
    "    scope=tt.scope.origin(lvl[\"IsOwnGoal\"]),\n",
    ")"
   ]
  },
  {
   "cell_type": "markdown",
   "metadata": {},
   "source": [
    "And deduce the actual goals scored for the team"
   ]
  },
  {
   "cell_type": "code",
   "execution_count": 8,
   "metadata": {},
   "outputs": [],
   "source": [
    "m[\"Team Goals\"] = m[\"Team Goals (incl Own Goals)\"] - m[\"Team Own Goals\"]"
   ]
  },
  {
   "cell_type": "markdown",
   "metadata": {},
   "source": [
    "For a particular match, the `Opponent Goals` are equal to the `Team Goals` if we switch to the data facts where Team is replaced by Opponent and Opponent by Team"
   ]
  },
  {
   "cell_type": "code",
   "execution_count": 9,
   "metadata": {},
   "outputs": [],
   "source": [
    "m[\"Opponent Goals\"] = tt.agg.sum(\n",
    "    tt.at(\n",
    "        m[\"Team Goals\"], {lvl[\"Team\"]: lvl[\"Opponent\"], lvl[\"Opponent\"]: lvl[\"Team\"]},\n",
    "    ),\n",
    "    scope=tt.scope.origin(lvl[\"Team\"], lvl[\"Opponent\"]),\n",
    ")"
   ]
  },
  {
   "cell_type": "code",
   "execution_count": 10,
   "metadata": {},
   "outputs": [],
   "source": [
    "m[\"Opponent Own Goals\"] = tt.agg.sum(\n",
    "    tt.at(\n",
    "        m[\"Team Own Goals\"],\n",
    "        {lvl[\"Team\"]: lvl[\"Opponent\"], lvl[\"Opponent\"]: lvl[\"Team\"]},\n",
    "    ),\n",
    "    scope=tt.scope.origin(lvl[\"Team\"], lvl[\"Opponent\"]),\n",
    ")"
   ]
  },
  {
   "cell_type": "markdown",
   "metadata": {},
   "source": [
    "We are now going to add two measures `Team Score` and `Opponent Score` to compute the result of a particular match.  "
   ]
  },
  {
   "cell_type": "code",
   "execution_count": 14,
   "metadata": {},
   "outputs": [],
   "source": [
    "m[\"Team Score\"] = m[\"Team Goals\"] + m[\"Opponent Own Goals\"]"
   ]
  },
  {
   "cell_type": "code",
   "execution_count": 15,
   "metadata": {},
   "outputs": [],
   "source": [
    "m[\"Opponent Score\"] = m[\"Opponent Goals\"] + m[\"Team Own Goals\"]"
   ]
  },
  {
   "cell_type": "markdown",
   "metadata": {},
   "source": [
    "We can now visualize the result of each match of the season"
   ]
  },
  {
   "cell_type": "code",
   "execution_count": 45,
   "metadata": {
    "atoti": {
     "state": {
      "name": "",
      "type": "container",
      "value": {
       "body": {
        "configuration": {
         "tabular": {
          "addButtonFilter": "numeric",
          "columnOrder": {
           "args": {
            "orderedColumns": [
             "__lineNumber__",
             "c-treeCells-member",
             "[Measures].[Team Score]",
             "[Measures].[Opponent Score]"
            ]
           },
           "key": "explicit"
          },
          "columnsGroups": [
           {
            "captionProducer": "firstColumn",
            "cellFactory": "kpi-status",
            "selector": "kpi-status"
           },
           {
            "captionProducer": "firstColumn",
            "cellFactory": "lookup",
            "selector": "lookup"
           },
           {
            "captionProducer": "expiry",
            "cellFactory": "expiry",
            "selector": "kpi-expiry"
           },
           {
            "captionProducer": "columnMerge",
            "cellFactory": {
             "args": {
              "automaticExpansion": true
             },
             "key": "treeCells"
            },
            "selector": "member"
           }
          ],
          "defaultOptions": {},
          "hideAddButton": true,
          "lineNumbers": true,
          "pinnedHeaderSelector": "member",
          "sortingMode": "non-breaking",
          "statisticsShown": true
         }
        },
        "contextValues": {},
        "mdx": "SELECT NON EMPTY Crossjoin(Hierarchize(DrilldownLevel([Hierarchies].[Day].[ALL].[AllMember])), Hierarchize(DrilldownLevel([Hierarchies].[Team].[ALL].[AllMember])), Hierarchize(DrilldownLevel([Hierarchies].[Opponent].[ALL].[AllMember]))) ON ROWS, NON EMPTY {[Measures].[Team Score], [Measures].[Opponent Score]} ON COLUMNS FROM [events_dataset.csv] CELL PROPERTIES VALUE, FORMATTED_VALUE, BACK_COLOR, FORE_COLOR, FONT_FLAGS",
        "ranges": {
         "column": {
          "chunkSize": 50,
          "thresholdPercentage": 0.2
         },
         "row": {
          "chunkSize": 2000,
          "thresholdPercentage": 0.1
         }
        },
        "serverUrl": "",
        "updateMode": "once"
       },
       "containerKey": "pivot-table",
       "showTitleBar": false,
       "style": {}
      }
     }
    }
   },
   "outputs": [
    {
     "data": {
      "application/vnd.atoti.v0+json": {
       "cube": "events_dataset.csv",
       "name": null,
       "session": "Unnamed"
      },
      "text/plain": [
       "Install and enable the atoti JupyterLab extension to see this widget."
      ]
     },
     "metadata": {},
     "output_type": "display_data"
    }
   ],
   "source": [
    "cube.visualize()"
   ]
  },
  {
   "cell_type": "markdown",
   "metadata": {},
   "source": [
    "We now have the team goals/score and those of the opponent for each match. However, these measures include VAR cancelled goals. Let's create new measures that takes into account VAR."
   ]
  },
  {
   "cell_type": "code",
   "execution_count": 11,
   "metadata": {},
   "outputs": [],
   "source": [
    "m[\"VAR team goals impact\"] = m[\"Team Goals\"] - tt.filter(\n",
    "    m[\"Team Goals\"], lvl[\"IsCancelledAfterVAR\"] == False\n",
    ")\n",
    "m[\"VAR opponent goals impact\"] = m[\"Opponent Goals\"] - tt.filter(\n",
    "    m[\"Opponent Goals\"], lvl[\"IsCancelledAfterVAR\"] == False\n",
    ")"
   ]
  },
  {
   "cell_type": "markdown",
   "metadata": {},
   "source": [
    "We can visualize that in details, there are already 4 goals cancelled by VAR on the first day of the season !"
   ]
  },
  {
   "cell_type": "code",
   "execution_count": 59,
   "metadata": {
    "atoti": {
     "state": {
      "name": "",
      "type": "container",
      "value": {
       "body": {
        "configuration": {
         "tabular": {
          "addButtonFilter": "numeric",
          "columns": [
           {
            "key": "c-treeCells-member",
            "width": 129
           },
           {
            "key": "[Measures].[VAR team goals impact]",
            "width": 212
           }
          ],
          "columnsGroups": [
           {
            "captionProducer": "firstColumn",
            "cellFactory": "kpi-status",
            "selector": "kpi-status"
           },
           {
            "captionProducer": "firstColumn",
            "cellFactory": "lookup",
            "selector": "lookup"
           },
           {
            "captionProducer": "expiry",
            "cellFactory": "expiry",
            "selector": "kpi-expiry"
           },
           {
            "captionProducer": "columnMerge",
            "cellFactory": {
             "args": {
              "automaticExpansion": true
             },
             "key": "treeCells"
            },
            "selector": "member"
           }
          ],
          "defaultOptions": {},
          "hideAddButton": true,
          "lineNumbers": true,
          "pinnedHeaderSelector": "member",
          "sortingMode": "non-breaking",
          "statisticsShown": true
         }
        },
        "contextValues": {},
        "mdx": "SELECT NON EMPTY Hierarchize(DrilldownLevel([Hierarchies].[Day].[ALL].[AllMember])) ON ROWS, NON EMPTY {[Measures].[VAR team goals impact], [Measures].[Team Goals]} ON COLUMNS FROM [events_dataset.csv] CELL PROPERTIES VALUE, FORMATTED_VALUE, BACK_COLOR, FORE_COLOR, FONT_FLAGS",
        "ranges": {
         "column": {
          "chunkSize": 50,
          "thresholdPercentage": 0.2
         },
         "row": {
          "chunkSize": 2000,
          "thresholdPercentage": 0.1
         }
        },
        "serverUrl": "",
        "updateMode": "once"
       },
       "containerKey": "pivot-table",
       "showTitleBar": false,
       "style": {}
      }
     }
    }
   },
   "outputs": [
    {
     "data": {
      "application/vnd.atoti.v0+json": {
       "cube": "events_dataset.csv",
       "name": null,
       "session": "Unnamed"
      },
      "text/plain": [
       "Install and enable the atoti JupyterLab extension to see this widget."
      ]
     },
     "metadata": {},
     "output_type": "display_data"
    }
   ],
   "source": [
    "cube.visualize()"
   ]
  },
  {
   "cell_type": "markdown",
   "metadata": {},
   "source": [
    "Now that for any game we have the number of goals of each team, we can compute how many points teams have earned.  \n",
    "Following the FIFA World Cup points system, three points are awarded for a win, one for a draw and none for a loss (before, winners received two points).  \n",
    "We create a measure for each of this condition."
   ]
  },
  {
   "cell_type": "code",
   "execution_count": 18,
   "metadata": {},
   "outputs": [],
   "source": [
    "m[\"Points for victory\"] = 3.0\n",
    "m[\"Points for tie\"] = 1.0\n",
    "m[\"Points for loss\"] = 0.0"
   ]
  },
  {
   "cell_type": "code",
   "execution_count": 19,
   "metadata": {},
   "outputs": [],
   "source": [
    "m[\"Points\"] = tt.agg.sum(\n",
    "    tt.where(\n",
    "        m[\"Team Score\"] > m[\"Opponent Score\"],\n",
    "        m[\"Points for victory\"],\n",
    "        tt.where(\n",
    "            m[\"Team Score\"] == m[\"Opponent Score\"],\n",
    "            m[\"Points for tie\"],\n",
    "            m[\"Points for loss\"],\n",
    "        ),\n",
    "    ),\n",
    "    scope=tt.scope.origin(lvl[\"League\"], lvl[\"Day\"], lvl[\"Team\"]),\n",
    ")"
   ]
  },
  {
   "cell_type": "markdown",
   "metadata": {},
   "source": [
    "The previous points were computed including VAR-refused goals.  \n",
    "Filtering out these goals gives the actual rankings of the teams, as you would find on any sports websites."
   ]
  },
  {
   "cell_type": "code",
   "execution_count": 20,
   "metadata": {},
   "outputs": [],
   "source": [
    "m[\"Actual Points\"] = tt.filter(m[\"Points\"], lvl[\"IsCancelledAfterVAR\"] == False)"
   ]
  },
  {
   "cell_type": "markdown",
   "metadata": {},
   "source": [
    "And here we have our ranking. We will dive into it in the next section. \n",
    "\n",
    "## Rankings and VAR impact\n",
    "\n",
    "Color rules were added to show teams that benefited from the VAR in green and those who lost championship points because of it in red."
   ]
  },
  {
   "cell_type": "code",
   "execution_count": 47,
   "metadata": {
    "atoti": {
     "state": {
      "name": "",
      "type": "container",
      "value": {
       "body": {
        "configuration": {
         "tabular": {
          "addButtonFilter": "numeric",
          "columnOrder": {
           "args": {
            "orderedColumns": [
             "__lineNumber__",
             "c-treeCells-member",
             "[Measures].[Actual Points (1)]",
             "[Measures].[Points]"
            ]
           },
           "key": "explicit"
          },
          "columnsGroups": [
           {
            "captionProducer": "firstColumn",
            "cellFactory": "kpi-status",
            "selector": "kpi-status"
           },
           {
            "captionProducer": "firstColumn",
            "cellFactory": "lookup",
            "selector": "lookup"
           },
           {
            "captionProducer": "expiry",
            "cellFactory": "expiry",
            "selector": "kpi-expiry"
           },
           {
            "captionProducer": "columnMerge",
            "cellFactory": {
             "args": {
              "automaticExpansion": true
             },
             "key": "treeCells"
            },
            "selector": "member"
           }
          ],
          "defaultOptions": {},
          "hideAddButton": true,
          "lineNumbers": true,
          "pinnedHeaderSelector": "member",
          "sortingMode": "non-breaking",
          "statisticsShown": true
         }
        },
        "contextValues": {},
        "mdx": "WITH  Member [Measures].[Actual Points (1)] AS [Measures].[Actual Points], FORE_COLOR = CASE WHEN [Measures].[Actual Points (1)] > [Measures].[Points] THEN rgb(147, 196, 125) WHEN [Measures].[Actual Points (1)] < [Measures].[Points] THEN rgb(224, 102, 102) END, FONT_FLAGS = CASE WHEN [Measures].[Actual Points (1)] > [Measures].[Points] THEN 1 WHEN [Measures].[Actual Points (1)] < [Measures].[Points] THEN 1 END, FORMAT_STRING = \"#,###.00\", CAPTION = [Measures].[Actual Points].MEMBER_CAPTION  SELECT NON EMPTY Order(DrilldownLevel([Hierarchies].[Team].[ALL].[AllMember]), [Measures].[Actual Points (1)], DESC) ON ROWS, NON EMPTY {[Measures].[Points], [Measures].[Actual Points (1)]} ON COLUMNS FROM [events_dataset.csv] CELL PROPERTIES BACK_COLOR, FONT_FLAGS, FORE_COLOR, FORMATTED_VALUE, VALUE",
        "ranges": {
         "column": {
          "chunkSize": 50,
          "thresholdPercentage": 0.2
         },
         "row": {
          "chunkSize": 2000,
          "thresholdPercentage": 0.1
         }
        },
        "serverUrl": "",
        "updateMode": "once"
       },
       "containerKey": "pivot-table",
       "showTitleBar": false,
       "style": {}
      }
     }
    }
   },
   "outputs": [
    {
     "data": {
      "application/vnd.atoti.v0+json": {
       "cube": "events_dataset.csv",
       "name": null,
       "session": "Unnamed"
      },
      "text/plain": [
       "Install and enable the atoti JupyterLab extension to see this widget."
      ]
     },
     "metadata": {},
     "output_type": "display_data"
    }
   ],
   "source": [
    "cube.visualize()"
   ]
  },
  {
   "cell_type": "markdown",
   "metadata": {},
   "source": [
    "More than half of the teams have had their points total impacted by VAR.\n",
    "Though it does not impact the top teams, if definitely has an impact in the ranking of many teams, Manchester United would have lost 2 ranks and Tottenham 4 for example!\n",
    "\n",
    "We could also visualize the difference of points in a more graphical way:"
   ]
  },
  {
   "cell_type": "code",
   "execution_count": 49,
   "metadata": {
    "atoti": {
     "state": {
      "name": "",
      "type": "container",
      "value": {
       "body": {
        "configuration": {
         "mapping": {
          "horizontal": [],
          "splitBy": [],
          "values": [
           "[Measures].[Points]",
           "[Measures].[Actual Points]"
          ],
          "vertical": [],
          "xAxis": [
           "[Hierarchies].[Team].[Team]"
          ]
         },
         "type": "plotly-line-chart"
        },
        "query": {
         "mdx": "SELECT NON EMPTY Order([Hierarchies].[Team].[Team].Members, [Measures].[Actual Points], DESC) ON ROWS, NON EMPTY {[Measures].[Points], [Measures].[Actual Points]} ON COLUMNS FROM [events_dataset.csv] CELL PROPERTIES VALUE, FORMATTED_VALUE, BACK_COLOR, FORE_COLOR, FONT_FLAGS",
         "serverUrl": "",
         "updateMode": "once"
        }
       },
       "containerKey": "chart",
       "showTitleBar": false,
       "style": {}
      }
     }
    }
   },
   "outputs": [
    {
     "data": {
      "application/vnd.atoti.v0+json": {
       "cube": "events_dataset.csv",
       "name": null,
       "session": "Unnamed"
      },
      "text/plain": [
       "Install and enable the atoti JupyterLab extension to see this widget."
      ]
     },
     "metadata": {},
     "output_type": "display_data"
    }
   ],
   "source": [
    "cube.visualize()"
   ]
  },
  {
   "cell_type": "markdown",
   "metadata": {},
   "source": [
    "Since the rankings are computed from the goal level, we can perform any kind of simulation we want using simple UI filters.  \n",
    "You can filter the pivot table above to see what would happen if we only keep the first half of the games? If we only keep matches played home? What if we filter out Vardy, would Leicester lose some places?  \n",
    "Note that if you filter out VAR-refused goals, the `Points` measures takes the same value as the `Actual Points`.\n",
    "\n",
    "## Evolution of the rankings over time\n",
    "\n",
    "Atoti also enables you to define cumulative sums over a hierarchy, we will use that to see how the team rankings evolved during the season.  "
   ]
  },
  {
   "cell_type": "code",
   "execution_count": 25,
   "metadata": {},
   "outputs": [],
   "source": [
    "m[\"Points cumulative sum\"] = tt.agg.sum(\n",
    "    m[\"Actual Points\"], scope=tt.scope.cumulative(lvl[\"Day\"])\n",
    ")"
   ]
  },
  {
   "cell_type": "code",
   "execution_count": 51,
   "metadata": {
    "atoti": {
     "state": {
      "name": "",
      "type": "container",
      "value": {
       "body": {
        "configuration": {
         "mapping": {
          "horizontal": [],
          "splitBy": [
           "[Hierarchies].[Team].[Team]"
          ],
          "values": [
           "[Measures].[Points cumulative sum]"
          ],
          "vertical": [],
          "xAxis": [
           "[Hierarchies].[Day].[Day]"
          ]
         },
         "type": "plotly-line-chart"
        },
        "query": {
         "mdx": "SELECT NON EMPTY Crossjoin([Hierarchies].[Day].[Day].Members, [Hierarchies].[Team].[Team].Members) ON ROWS, NON EMPTY [Measures].[Points cumulative sum] ON COLUMNS FROM [events_dataset.csv] CELL PROPERTIES VALUE, FORMATTED_VALUE, BACK_COLOR, FORE_COLOR, FONT_FLAGS",
         "serverUrl": "",
         "updateMode": "once"
        }
       },
       "containerKey": "chart",
       "showTitleBar": false,
       "style": {}
      }
     }
    }
   },
   "outputs": [
    {
     "data": {
      "application/vnd.atoti.v0+json": {
       "cube": "events_dataset.csv",
       "name": null,
       "session": "Unnamed"
      },
      "text/plain": [
       "Install and enable the atoti JupyterLab extension to see this widget."
      ]
     },
     "metadata": {},
     "output_type": "display_data"
    }
   ],
   "source": [
    "cube.visualize()"
   ]
  },
  {
   "cell_type": "markdown",
   "metadata": {},
   "source": [
    "We can notice that data is missing for the 28th match of Manchester City. This is because the game was delayed due to weather, and then never played because of the COVID-19 pandemic."
   ]
  },
  {
   "cell_type": "markdown",
   "metadata": {},
   "source": [
    "## Players most impacted by the VAR\n",
    "\n",
    "Until now we looked at most results at team level, but since the data exists at goal level, we could have a look at which players are most impacted by the VAR."
   ]
  },
  {
   "cell_type": "code",
   "execution_count": 28,
   "metadata": {},
   "outputs": [],
   "source": [
    "m[\"Valid player goals\"] = tt.filter(\n",
    "    m[\"Team Goals\"], lvl[\"IsCancelledAfterVAR\"] == False\n",
    ")"
   ]
  },
  {
   "cell_type": "code",
   "execution_count": 53,
   "metadata": {
    "atoti": {
     "state": {
      "name": "",
      "type": "container",
      "value": {
       "body": {
        "configuration": {
         "tabular": {
          "addButtonFilter": "numeric",
          "columnOrder": {
           "args": {
            "orderedColumns": [
             "__lineNumber__",
             "c-treeCells-member",
             "[Measures].[Team Goals]",
             "[Measures].[Valid player goals]",
             "[Measures].[Team Goals - Valid player goals]"
            ]
           },
           "key": "explicit"
          },
          "columns": [
           {
            "key": "[Measures].[Valid player goals]",
            "width": 159
           },
           {
            "key": "[Measures].[Team Goals - Valid player goals]",
            "width": 229
           }
          ],
          "columnsGroups": [
           {
            "captionProducer": "firstColumn",
            "cellFactory": "kpi-status",
            "selector": "kpi-status"
           },
           {
            "captionProducer": "firstColumn",
            "cellFactory": "lookup",
            "selector": "lookup"
           },
           {
            "captionProducer": "expiry",
            "cellFactory": "expiry",
            "selector": "kpi-expiry"
           },
           {
            "captionProducer": "columnMerge",
            "cellFactory": {
             "args": {
              "automaticExpansion": true
             },
             "key": "treeCells"
            },
            "selector": "member"
           }
          ],
          "defaultOptions": {},
          "hideAddButton": true,
          "lineNumbers": true,
          "pinnedHeaderSelector": "member",
          "sortingMode": "non-breaking",
          "statisticsShown": true
         }
        },
        "contextValues": {},
        "mdx": "WITH  Member [Measures].[Team Goals - Valid player goals] AS [Measures].[Team Goals] - [Measures].[Valid player goals], CAPTION = \"Team Goals - Valid player goals\"  SELECT NON EMPTY Order(DrilldownLevel([Hierarchies].[Scorer].[ALL].[AllMember]), [Measures].[Team Goals - Valid player goals], DESC) ON ROWS, NON EMPTY {[Measures].[Team Goals], [Measures].[Valid player goals], [Measures].[Team Goals - Valid player goals]} ON COLUMNS FROM [events_dataset.csv] CELL PROPERTIES BACK_COLOR, FONT_FLAGS, FORE_COLOR, FORMATTED_VALUE, VALUE",
        "ranges": {
         "column": {
          "chunkSize": 50,
          "thresholdPercentage": 0.2
         },
         "row": {
          "chunkSize": 2000,
          "thresholdPercentage": 0.1
         }
        },
        "serverUrl": "",
        "updateMode": "once"
       },
       "containerKey": "pivot-table",
       "showTitleBar": false,
       "style": {}
      }
     }
    }
   },
   "outputs": [
    {
     "data": {
      "application/vnd.atoti.v0+json": {
       "cube": "events_dataset.csv",
       "name": null,
       "session": "Unnamed"
      },
      "text/plain": [
       "Install and enable the atoti JupyterLab extension to see this widget."
      ]
     },
     "metadata": {},
     "output_type": "display_data"
    }
   ],
   "source": [
    "cube.visualize()"
   ]
  },
  {
   "cell_type": "markdown",
   "metadata": {},
   "source": [
    "Mané is without too many surprise the most impacted player. He is also one of the top scorers with only Vardy scoring more goals (you can sort on the Team Goals column to verify).  \n",
    "More surprisingly, Boly has had all the goals of his season cancelled by VAR and Antonio half of them..\n",
    "\n",
    "## Simulation of a different scoring system\n",
    "\n",
    "Although we are all used to a scoring system giving 3 points for a victory, 1 for a tie and 0 per lost match this was not always the case. Before the 1990's many european leagues only gave 2 points per victory, reason for the change being to encourage teams to score more goals during the games.  \n",
    "The premier league gifts us well with plenty of goals scored (take it from someone watching the French ligue 1), but how different would the results be with the old scoring system?  \n",
    "\n",
    "Atoti enables us to simulate this very easily. We simply have to create a new scenario where we replace the number of points given for a victory.  \n",
    "We first setup a simulation on that measure."
   ]
  },
  {
   "cell_type": "code",
   "execution_count": 32,
   "metadata": {},
   "outputs": [],
   "source": [
    "scoring_system_simulation = cube.setup_simulation(\n",
    "    \"Scoring system simulations\",\n",
    "    replace=[m[\"Points for victory\"]],\n",
    "    base_scenario=\"Current System\",\n",
    ")"
   ]
  },
  {
   "cell_type": "markdown",
   "metadata": {},
   "source": [
    "And create a new scenario where we give it another value"
   ]
  },
  {
   "cell_type": "code",
   "execution_count": 33,
   "metadata": {},
   "outputs": [],
   "source": [
    "scoring_system_simulation.scenarios[\"Old system\"] = 2.0"
   ]
  },
  {
   "cell_type": "markdown",
   "metadata": {},
   "source": [
    "And that's it, no need to define anything else, all the measures will be re-computed with the new value in the new scenario.  \n",
    "Let's compare the rankings between the two scoring systems."
   ]
  },
  {
   "cell_type": "code",
   "execution_count": 55,
   "metadata": {
    "atoti": {
     "state": {
      "name": "",
      "type": "container",
      "value": {
       "body": {
        "configuration": {
         "tabular": {
          "addButtonFilter": "numeric",
          "columnOrder": {
           "args": {
            "orderedColumns": [
             "__lineNumber__",
             "c-treeCells-member",
             "([Measures].[Actual Points],[Measure Simulations].[Scoring system simulations].[Scoring system simulations].[Current System])",
             "([Measures].[Actual Points],[Measure Simulations].[Scoring system simulations].[Scoring system simulations].[Old system])"
            ]
           },
           "key": "explicit"
          },
          "columns": [
           {
            "key": "([Measures].[Actual Points],[Measure Simulations].[Scoring system simulations].[Scoring system simulations].[Old system])",
            "width": 125
           },
           {
            "key": "([Measures].[Actual Points],[Measure Simulations].[Scoring system simulations].[Scoring system simulations].[Current System - Old system])",
            "width": 208
           }
          ],
          "columnsGroups": [
           {
            "captionProducer": "firstColumn",
            "cellFactory": "kpi-status",
            "selector": "kpi-status"
           },
           {
            "captionProducer": "firstColumn",
            "cellFactory": "lookup",
            "selector": "lookup"
           },
           {
            "captionProducer": "expiry",
            "cellFactory": "expiry",
            "selector": "kpi-expiry"
           },
           {
            "captionProducer": "columnMerge",
            "cellFactory": {
             "args": {
              "automaticExpansion": true
             },
             "key": "treeCells"
            },
            "selector": "member"
           }
          ],
          "defaultOptions": {},
          "hideAddButton": true,
          "lineNumbers": true,
          "pinnedHeaderSelector": "member",
          "sortingMode": "non-breaking",
          "statisticsShown": true
         }
        },
        "contextValues": {},
        "mdx": "WITH  Member [Measure Simulations].[Scoring system simulations].[Current System - Old system] AS [Measure Simulations].[Scoring system simulations].[Current System] - [Measure Simulations].[Scoring system simulations].[Old system], CAPTION = \"Current System - Old system\"  SELECT NON EMPTY Order(DrilldownLevel([Hierarchies].[Team].[ALL].[AllMember]), ([Measures].[Actual Points], [Measure Simulations].[Scoring system simulations].[Scoring system simulations].[Old system]), DESC) ON ROWS, NON EMPTY Crossjoin([Measures].[Actual Points], Hierarchize(Union([Measure Simulations].[Scoring system simulations].[Scoring system simulations].Members, [Measure Simulations].[Scoring system simulations].[Current System - Old system]))) ON COLUMNS FROM [events_dataset.csv] CELL PROPERTIES BACK_COLOR, FONT_FLAGS, FORE_COLOR, FORMATTED_VALUE, VALUE",
        "ranges": {
         "column": {
          "chunkSize": 50,
          "thresholdPercentage": 0.2
         },
         "row": {
          "chunkSize": 2000,
          "thresholdPercentage": 0.1
         }
        },
        "serverUrl": "",
        "updateMode": "once"
       },
       "containerKey": "pivot-table",
       "showTitleBar": false,
       "style": {}
      }
     }
    }
   },
   "outputs": [
    {
     "data": {
      "application/vnd.atoti.v0+json": {
       "cube": "events_dataset.csv",
       "name": null,
       "session": "Unnamed"
      },
      "text/plain": [
       "Install and enable the atoti JupyterLab extension to see this widget."
      ]
     },
     "metadata": {},
     "output_type": "display_data"
    }
   ],
   "source": [
    "cube.visualize()"
   ]
  },
  {
   "cell_type": "code",
   "execution_count": 57,
   "metadata": {
    "atoti": {
     "state": {
      "name": "",
      "type": "container",
      "value": {
       "body": {
        "configuration": {
         "mapping": {
          "horizontal": [],
          "splitBy": [
           "[Measure Simulations].[Scoring system simulations].[Scoring system simulations]"
          ],
          "values": [
           "[Measures].[Actual Points]"
          ],
          "vertical": [],
          "xAxis": [
           "[Hierarchies].[Team].[Team]"
          ]
         },
         "type": "plotly-line-chart"
        },
        "query": {
         "mdx": "SELECT NON EMPTY Order(Crossjoin(Order([Hierarchies].[Team].[Team].Members, ([Measures].[Actual Points], [Measure Simulations].[Scoring system simulations].[Scoring system simulations].[Old system]), DESC), [Measure Simulations].[Scoring system simulations].[Scoring system simulations].Members), [Measures].[Actual Points], DESC) ON ROWS, NON EMPTY [Measures].[Actual Points] ON COLUMNS FROM [events_dataset.csv] CELL PROPERTIES VALUE, FORMATTED_VALUE, BACK_COLOR, FORE_COLOR, FONT_FLAGS",
         "serverUrl": "",
         "updateMode": "once"
        }
       },
       "containerKey": "chart",
       "showTitleBar": false,
       "style": {}
      }
     }
    }
   },
   "outputs": [
    {
     "data": {
      "application/vnd.atoti.v0+json": {
       "cube": "events_dataset.csv",
       "name": null,
       "session": "Unnamed"
      },
      "text/plain": [
       "Install and enable the atoti JupyterLab extension to see this widget."
      ]
     },
     "metadata": {},
     "output_type": "display_data"
    }
   ],
   "source": [
    "cube.visualize()"
   ]
  },
  {
   "cell_type": "markdown",
   "metadata": {},
   "source": [
    "Surprisingly, having only 2 points for a win would only have Burnley and West Ham lose 2 ranks, but no real other impact on the standings."
   ]
  },
  {
   "cell_type": "code",
   "execution_count": null,
   "metadata": {},
   "outputs": [],
   "source": []
  },
  {
   "cell_type": "code",
   "execution_count": null,
   "metadata": {},
   "outputs": [],
   "source": []
  }
 ],
 "metadata": {
  "kernelspec": {
   "display_name": "Python 3",
   "language": "python",
   "name": "python3"
  },
  "language_info": {
   "codemirror_mode": {
    "name": "ipython",
    "version": 3
   },
   "file_extension": ".py",
   "mimetype": "text/x-python",
   "name": "python",
   "nbconvert_exporter": "python",
   "pygments_lexer": "ipython3",
   "version": "3.8.2"
  }
 },
 "nbformat": 4,
 "nbformat_minor": 4
}
