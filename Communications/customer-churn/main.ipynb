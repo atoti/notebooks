{
 "cells": [
  {
   "cell_type": "markdown",
   "metadata": {},
   "source": [
    "# Understanding Telco Customer Churn\n",
    "\n",
    "### A few definitions\n",
    "- [Customer attrition](https://en.wikipedia.org/wiki/Customer_attrition#:~:text=Customer%20attrition%2C%20also%20known%20as,loss%20of%20clients%20or%20customers.&text=Gross%20attrition%20is%20the%20loss,services%20during%20a%20particular%20period.), also known as customer churn is the loss of customers or subscription to goods/services by a business\n",
    "for a given period of time.\n",
    "- Customer attrition rate is the number of customers lost at the end of the period against the number of customers the business had at the start of the period. \n",
    "- Gross attrition is the loss of existing customers and their recurring revenue for contracted goods or services during the period\n",
    "- Net attrition is the loss of customers while factoring the gain of new customers within the same group and location\n",
    "- Monthly Recurring Revenue (MRR) is the recurring revenue expected on monthly basis for the subscribed goods/services\n",
    "- Net Revenue Retention (NRR) measures the change in the MRR over the period (includes benefits from expansion)\n",
    "- Gross Revenue Retention (GRR) measures annual revenue lost from the business' existing customer base (excludes benefits from expansion)\n",
    "\n",
    "### Introduction\n",
    "\n",
    "Churn is a critical metric for subscription and SaaS companies as it tells us how the departing customers affects the company's monthly revenue and growth, consequently investors' confidence in the company as well.  \n",
    "\n",
    "The GRR is somewhat like a happiness indicator for the existing customers. Having high GRR shows that the company has high retention rates. Customers are happy with the services/products that they are provided with. Investors would be assured by this stability.  \n",
    "If a company has high GRR and even higher NRR, it shows that on top of retaining existing customers, the company has grown its customer base further.  \n",
    "High NRR coupled with low GRR implies that although the company has acquired many new customers, it has low retention rates.  \n",
    "So even if there is still revenue left over after the churn, there is high potential the new customers might churn too. The growth of the company becomes less predictable.  \n",
    "\n",
    "Telecommunication industry is highly sensitive to customer churns as technology advances and users' behaviour changed:\n",
    "- with Mobile Number Portability (MNP), customers can easily switch to another provider while preserving their number\n",
    "- OTT players such as Netflix, Amazon Prime Video, Disney+ are bypassing the traditional operators network such as cable, broadcast and satelite television\n",
    "- OTT applications such as WhatsApp, Google Hangout, Skype are cannibalizing the paid voice and messaging services\n",
    "- customers are less enticed to be contract bounded for handsets as new models get released so frequently\n",
    "\n",
    "In this notebook, we will look at the customer churn in the telecommunication sector.  \n",
    "Using the [Telco Customer Churn data](https://www.kaggle.com/blastchar/telco-customer-churn) from Kaggle, we explore the accuracy of 4 machine learning algorithms against the actual churn in the past month:  \n",
    "- Logistic Regression Prediction\n",
    "- Logistic Regression (SMOTE) Prediction\n",
    "- Naive Bayes Prediction\n",
    "- SVM Classifier Linear Prediction\n",
    "\n",
    "Note: we train the models with last month's churn data using the algorithm provided in [Telecom Customer Churn Prediction](https://www.kaggle.com/pavanraj159/telecom-customer-churn-prediction).  \n",
    "We compare the model's prediction against the same set of data for accuracy comparison.\n",
    "\n",
    "Assuming that we wish to retain 90% NRR for this particular telco, we will explore with atoti the impact of each model on:\n",
    "- Predicted revenue loss\n",
    "- Number of customers to retain\n",
    "- Expense spent to retain or replace customer\n",
    "\n",
    "Finally, we use what-if simulation to see how the above will change when we change:\n",
    "- the target NRR\n",
    "- the budget spent on customer retention or replacement"
   ]
  },
  {
   "cell_type": "markdown",
   "metadata": {},
   "source": [
    "### Things to install\n",
    "pip install imblearn  \n",
    "pip install sklearn"
   ]
  },
  {
   "cell_type": "code",
   "execution_count": 1,
   "metadata": {
    "execution": {
     "iopub.execute_input": "2020-07-17T03:08:09.567807Z",
     "iopub.status.busy": "2020-07-17T03:08:09.567807Z",
     "iopub.status.idle": "2020-07-17T03:08:48.074498Z",
     "shell.execute_reply": "2020-07-17T03:08:48.074498Z",
     "shell.execute_reply.started": "2020-07-17T03:08:09.567807Z"
    }
   },
   "outputs": [
    {
     "name": "stdout",
     "output_type": "stream",
     "text": [
      "Collecting imblearn\n",
      "  Using cached imblearn-0.0-py2.py3-none-any.whl (1.9 kB)\n",
      "Processing c:\\users\\yeo hui fang\\appdata\\local\\pip\\cache\\wheels\\22\\0b\\40\\fd3f795caaa1fb4c6cb738bc1f56100be1e57da95849bfc897\\sklearn-0.0-py2.py3-none-any.whl\n",
      "Collecting imbalanced-learn\n",
      "  Using cached imbalanced_learn-0.7.0-py3-none-any.whl (167 kB)\n",
      "Collecting scikit-learn\n",
      "  Downloading scikit_learn-0.23.1-cp38-cp38-win_amd64.whl (6.8 MB)\n",
      "Collecting scipy>=0.19.1\n",
      "  Downloading scipy-1.5.1-cp38-cp38-win_amd64.whl (31.4 MB)\n",
      "Requirement already satisfied: numpy>=1.13.3 in c:\\apps\\miniconda3\\envs\\atoti-07_17\\lib\\site-packages (from imbalanced-learn->imblearn) (1.19.0)\n",
      "Collecting joblib>=0.11\n",
      "  Downloading joblib-0.16.0-py3-none-any.whl (300 kB)\n",
      "Collecting threadpoolctl>=2.0.0\n",
      "  Downloading threadpoolctl-2.1.0-py3-none-any.whl (12 kB)\n",
      "Installing collected packages: scipy, joblib, threadpoolctl, scikit-learn, imbalanced-learn, imblearn, sklearn\n",
      "Successfully installed imbalanced-learn-0.7.0 imblearn-0.0 joblib-0.16.0 scikit-learn-0.23.1 scipy-1.5.1 sklearn-0.0 threadpoolctl-2.1.0\n"
     ]
    }
   ],
   "source": [
    "!pip install imblearn sklearn"
   ]
  },
  {
   "cell_type": "code",
   "execution_count": 2,
   "metadata": {
    "execution": {
     "iopub.execute_input": "2020-07-17T03:08:48.076507Z",
     "iopub.status.busy": "2020-07-17T03:08:48.075517Z",
     "iopub.status.idle": "2020-07-17T03:08:52.380477Z",
     "shell.execute_reply": "2020-07-17T03:08:52.379481Z",
     "shell.execute_reply.started": "2020-07-17T03:08:48.076507Z"
    }
   },
   "outputs": [
    {
     "name": "stdout",
     "output_type": "stream",
     "text": [
      "Welcome to atoti 0.4.2!\n",
      "\n",
      "By using this community edition, you agree with the license available at https://www.atoti.io/eula.\n",
      "Browse the official documentation at https://docs.atoti.io.\n",
      "Join the community at https://www.atoti.io/register.\n",
      "\n",
      "You can hide this message by setting the ATOTI_HIDE_EULA_MESSAGE environment variable to True.\n"
     ]
    }
   ],
   "source": [
    "import atoti as tt\n",
    "import numpy as np\n",
    "import pandas as pd\n",
    "from sklearn.model_selection import train_test_split\n",
    "\n",
    "from _utils import data_utils, prediction"
   ]
  },
  {
   "cell_type": "markdown",
   "metadata": {},
   "source": [
    "# Data preparation\n",
    "\n",
    "Using the [Telco Customer Churn data from Kaggle](https://www.kaggle.com/blastchar/telco-customer-churn), we perform the data clean up just as demonstrated in [Telecom Customer Churn Prediction](https://www.kaggle.com/pavanraj159/telecom-customer-churn-prediction)."
   ]
  },
  {
   "cell_type": "code",
   "execution_count": 3,
   "metadata": {
    "execution": {
     "iopub.execute_input": "2020-07-17T03:08:52.381508Z",
     "iopub.status.busy": "2020-07-17T03:08:52.381508Z",
     "iopub.status.idle": "2020-07-17T03:08:53.376882Z",
     "shell.execute_reply": "2020-07-17T03:08:53.376882Z",
     "shell.execute_reply.started": "2020-07-17T03:08:52.381508Z"
    }
   },
   "outputs": [],
   "source": [
    "telcom = pd.read_csv(\n",
    "    \"https://data.atoti.io/notebooks/telco-churn/WA_Fn-UseC_-Telco-Customer-Churn.csv\"\n",
    ")\n",
    "# perform data clean up\n",
    "telcom = data_utils.data_manipulation(telcom)"
   ]
  },
  {
   "cell_type": "markdown",
   "metadata": {},
   "source": [
    "We create a few new columns in preparation for the machine learning output.  \n",
    "In the actual churn data, `ChurnProbability` is fixed as the customers have already churned. Hence we gave the probability a value 1.  \n",
    "The same goes for the `PredictionAccuracy`. The `ChurnPredicted` would be the actual churn in this base use case."
   ]
  },
  {
   "cell_type": "code",
   "execution_count": 4,
   "metadata": {
    "execution": {
     "iopub.execute_input": "2020-07-17T03:08:53.377822Z",
     "iopub.status.busy": "2020-07-17T03:08:53.377822Z",
     "iopub.status.idle": "2020-07-17T03:08:53.416712Z",
     "shell.execute_reply": "2020-07-17T03:08:53.415752Z",
     "shell.execute_reply.started": "2020-07-17T03:08:53.377822Z"
    }
   },
   "outputs": [
    {
     "data": {
      "text/html": [
       "<div>\n",
       "<style scoped>\n",
       "    .dataframe tbody tr th:only-of-type {\n",
       "        vertical-align: middle;\n",
       "    }\n",
       "\n",
       "    .dataframe tbody tr th {\n",
       "        vertical-align: top;\n",
       "    }\n",
       "\n",
       "    .dataframe thead th {\n",
       "        text-align: right;\n",
       "    }\n",
       "</style>\n",
       "<table border=\"1\" class=\"dataframe\">\n",
       "  <thead>\n",
       "    <tr style=\"text-align: right;\">\n",
       "      <th></th>\n",
       "      <th>CustomerID</th>\n",
       "      <th>Gender</th>\n",
       "      <th>SeniorCitizen</th>\n",
       "      <th>Partner</th>\n",
       "      <th>Dependents</th>\n",
       "      <th>Tenure</th>\n",
       "      <th>PhoneService</th>\n",
       "      <th>MultipleLines</th>\n",
       "      <th>InternetService</th>\n",
       "      <th>OnlineSecurity</th>\n",
       "      <th>...</th>\n",
       "      <th>Contract</th>\n",
       "      <th>PaperlessBilling</th>\n",
       "      <th>PaymentMethod</th>\n",
       "      <th>MonthlyCharges</th>\n",
       "      <th>TotalCharges</th>\n",
       "      <th>Churn</th>\n",
       "      <th>TenureGroup</th>\n",
       "      <th>ChurnProbability</th>\n",
       "      <th>PredictionAccuracy</th>\n",
       "      <th>ChurnPredicted</th>\n",
       "    </tr>\n",
       "  </thead>\n",
       "  <tbody>\n",
       "    <tr>\n",
       "      <th>0</th>\n",
       "      <td>7590-VHVEG</td>\n",
       "      <td>Female</td>\n",
       "      <td>No</td>\n",
       "      <td>Yes</td>\n",
       "      <td>No</td>\n",
       "      <td>1</td>\n",
       "      <td>No</td>\n",
       "      <td>No phone service</td>\n",
       "      <td>DSL</td>\n",
       "      <td>No</td>\n",
       "      <td>...</td>\n",
       "      <td>Month-to-month</td>\n",
       "      <td>Yes</td>\n",
       "      <td>Electronic check</td>\n",
       "      <td>29.85</td>\n",
       "      <td>29.85</td>\n",
       "      <td>No</td>\n",
       "      <td>Tenure_0-12</td>\n",
       "      <td>1.0</td>\n",
       "      <td>1.0</td>\n",
       "      <td>No</td>\n",
       "    </tr>\n",
       "    <tr>\n",
       "      <th>1</th>\n",
       "      <td>5575-GNVDE</td>\n",
       "      <td>Male</td>\n",
       "      <td>No</td>\n",
       "      <td>No</td>\n",
       "      <td>No</td>\n",
       "      <td>34</td>\n",
       "      <td>Yes</td>\n",
       "      <td>No</td>\n",
       "      <td>DSL</td>\n",
       "      <td>Yes</td>\n",
       "      <td>...</td>\n",
       "      <td>One year</td>\n",
       "      <td>No</td>\n",
       "      <td>Mailed check</td>\n",
       "      <td>56.95</td>\n",
       "      <td>1889.50</td>\n",
       "      <td>No</td>\n",
       "      <td>Tenure_24-48</td>\n",
       "      <td>1.0</td>\n",
       "      <td>1.0</td>\n",
       "      <td>No</td>\n",
       "    </tr>\n",
       "    <tr>\n",
       "      <th>2</th>\n",
       "      <td>3668-QPYBK</td>\n",
       "      <td>Male</td>\n",
       "      <td>No</td>\n",
       "      <td>No</td>\n",
       "      <td>No</td>\n",
       "      <td>2</td>\n",
       "      <td>Yes</td>\n",
       "      <td>No</td>\n",
       "      <td>DSL</td>\n",
       "      <td>Yes</td>\n",
       "      <td>...</td>\n",
       "      <td>Month-to-month</td>\n",
       "      <td>Yes</td>\n",
       "      <td>Mailed check</td>\n",
       "      <td>53.85</td>\n",
       "      <td>108.15</td>\n",
       "      <td>Yes</td>\n",
       "      <td>Tenure_0-12</td>\n",
       "      <td>1.0</td>\n",
       "      <td>1.0</td>\n",
       "      <td>Yes</td>\n",
       "    </tr>\n",
       "    <tr>\n",
       "      <th>3</th>\n",
       "      <td>7795-CFOCW</td>\n",
       "      <td>Male</td>\n",
       "      <td>No</td>\n",
       "      <td>No</td>\n",
       "      <td>No</td>\n",
       "      <td>45</td>\n",
       "      <td>No</td>\n",
       "      <td>No phone service</td>\n",
       "      <td>DSL</td>\n",
       "      <td>Yes</td>\n",
       "      <td>...</td>\n",
       "      <td>One year</td>\n",
       "      <td>No</td>\n",
       "      <td>Bank transfer (automatic)</td>\n",
       "      <td>42.30</td>\n",
       "      <td>1840.75</td>\n",
       "      <td>No</td>\n",
       "      <td>Tenure_24-48</td>\n",
       "      <td>1.0</td>\n",
       "      <td>1.0</td>\n",
       "      <td>No</td>\n",
       "    </tr>\n",
       "    <tr>\n",
       "      <th>4</th>\n",
       "      <td>9237-HQITU</td>\n",
       "      <td>Female</td>\n",
       "      <td>No</td>\n",
       "      <td>No</td>\n",
       "      <td>No</td>\n",
       "      <td>2</td>\n",
       "      <td>Yes</td>\n",
       "      <td>No</td>\n",
       "      <td>Fiber optic</td>\n",
       "      <td>No</td>\n",
       "      <td>...</td>\n",
       "      <td>Month-to-month</td>\n",
       "      <td>Yes</td>\n",
       "      <td>Electronic check</td>\n",
       "      <td>70.70</td>\n",
       "      <td>151.65</td>\n",
       "      <td>Yes</td>\n",
       "      <td>Tenure_0-12</td>\n",
       "      <td>1.0</td>\n",
       "      <td>1.0</td>\n",
       "      <td>Yes</td>\n",
       "    </tr>\n",
       "  </tbody>\n",
       "</table>\n",
       "<p>5 rows × 25 columns</p>\n",
       "</div>"
      ],
      "text/plain": [
       "   CustomerID  Gender SeniorCitizen Partner Dependents  Tenure PhoneService  \\\n",
       "0  7590-VHVEG  Female            No     Yes         No       1           No   \n",
       "1  5575-GNVDE    Male            No      No         No      34          Yes   \n",
       "2  3668-QPYBK    Male            No      No         No       2          Yes   \n",
       "3  7795-CFOCW    Male            No      No         No      45           No   \n",
       "4  9237-HQITU  Female            No      No         No       2          Yes   \n",
       "\n",
       "      MultipleLines InternetService OnlineSecurity  ...        Contract  \\\n",
       "0  No phone service             DSL             No  ...  Month-to-month   \n",
       "1                No             DSL            Yes  ...        One year   \n",
       "2                No             DSL            Yes  ...  Month-to-month   \n",
       "3  No phone service             DSL            Yes  ...        One year   \n",
       "4                No     Fiber optic             No  ...  Month-to-month   \n",
       "\n",
       "  PaperlessBilling              PaymentMethod MonthlyCharges TotalCharges  \\\n",
       "0              Yes           Electronic check          29.85        29.85   \n",
       "1               No               Mailed check          56.95      1889.50   \n",
       "2              Yes               Mailed check          53.85       108.15   \n",
       "3               No  Bank transfer (automatic)          42.30      1840.75   \n",
       "4              Yes           Electronic check          70.70       151.65   \n",
       "\n",
       "  Churn   TenureGroup ChurnProbability  PredictionAccuracy  ChurnPredicted  \n",
       "0    No   Tenure_0-12              1.0                 1.0              No  \n",
       "1    No  Tenure_24-48              1.0                 1.0              No  \n",
       "2   Yes   Tenure_0-12              1.0                 1.0             Yes  \n",
       "3    No  Tenure_24-48              1.0                 1.0              No  \n",
       "4   Yes   Tenure_0-12              1.0                 1.0             Yes  \n",
       "\n",
       "[5 rows x 25 columns]"
      ]
     },
     "execution_count": 4,
     "metadata": {},
     "output_type": "execute_result"
    }
   ],
   "source": [
    "# since the statistics is based on previous month, Churn/Non Churn probability is fixed and therefore 1\n",
    "telcom[\"ChurnProbability\"] = 1.0\n",
    "telcom[\"PredictionAccuracy\"] = 1.0\n",
    "telcom[\"ChurnPredicted\"] = telcom[\"Churn\"]\n",
    "\n",
    "telcom.head()"
   ]
  },
  {
   "cell_type": "markdown",
   "metadata": {},
   "source": [
    "In the below function that will be used on the predictions from each data model, we see how the 3 new columns above are populated.  \n",
    "\n",
    "We assign the prediction from the data models to `ChurnPredicted`.  \\\n",
    "If churn is predicted, we assign its corresponding probability from the data model to `ChurnProbability`.  \\\n",
    "This is because we are only interested in cases where customers are churning.  \n",
    "\n",
    "We convert the binary result of `ChurnPredicted` to 'Yes' and 'No' value such that we can compare it against the actual `Churn`.  \\\n",
    "If the prediction matches the actual churn, we assign the value 1 to its `PredictionAccuracy`.  \n",
    "\n",
    "These are in preparation for our model comparison against the actual churned cases."
   ]
  },
  {
   "cell_type": "code",
   "execution_count": 5,
   "metadata": {
    "execution": {
     "iopub.execute_input": "2020-07-17T03:08:53.417710Z",
     "iopub.status.busy": "2020-07-17T03:08:53.417710Z",
     "iopub.status.idle": "2020-07-17T03:08:53.427702Z",
     "shell.execute_reply": "2020-07-17T03:08:53.426700Z",
     "shell.execute_reply.started": "2020-07-17T03:08:53.417710Z"
    }
   },
   "outputs": [],
   "source": [
    "# we run the same month data against the trained models and see its accuracy against the actual churn\n",
    "def model_scenario(predictions, probabilities):\n",
    "    churnProbability = np.amax(probabilities, axis=1)\n",
    "    churn_forecast = (telcom.copy()).drop(\n",
    "        [\"ChurnPredicted\", \"ChurnProbability\", \"PredictionAccuracy\"], axis=1\n",
    "    )\n",
    "\n",
    "    churn_forecast = pd.concat(\n",
    "        [\n",
    "            churn_forecast,\n",
    "            pd.DataFrame(\n",
    "                {\"ChurnPredicted\": predictions, \"ChurnProbability\": churnProbability}\n",
    "            ),\n",
    "        ],\n",
    "        axis=1,\n",
    "    )\n",
    "\n",
    "    # we are not interested in the probability if it is predicted that the client will not churn\n",
    "    churn_forecast[\"ChurnProbability\"] = np.where(\n",
    "        churn_forecast[\"ChurnPredicted\"] == 1, churn_forecast[\"ChurnProbability\"], 0\n",
    "    )\n",
    "\n",
    "    churn_forecast[\"ChurnPredicted\"] = np.where(\n",
    "        churn_forecast[\"ChurnPredicted\"] == 1, \"Yes\", \"No\"\n",
    "    )\n",
    "\n",
    "    churn_forecast[\"PredictionAccuracy\"] = (\n",
    "        churn_forecast[\"ChurnPredicted\"] == churn_forecast[\"Churn\"]\n",
    "    ).astype(int)\n",
    "\n",
    "    return churn_forecast"
   ]
  },
  {
   "cell_type": "markdown",
   "metadata": {},
   "source": [
    "## atoti cube creation  \n",
    "\n",
    "We have a simple cube that holds a single data store - Customer store."
   ]
  },
  {
   "cell_type": "code",
   "execution_count": 6,
   "metadata": {
    "execution": {
     "iopub.execute_input": "2020-07-17T03:08:53.429680Z",
     "iopub.status.busy": "2020-07-17T03:08:53.428681Z",
     "iopub.status.idle": "2020-07-17T03:08:58.980131Z",
     "shell.execute_reply": "2020-07-17T03:08:58.980131Z",
     "shell.execute_reply.started": "2020-07-17T03:08:53.429680Z"
    }
   },
   "outputs": [],
   "source": [
    "# a session has to be created for atoti\n",
    "session = tt.create_session()"
   ]
  },
  {
   "cell_type": "code",
   "execution_count": 7,
   "metadata": {
    "execution": {
     "iopub.execute_input": "2020-07-17T03:08:58.982170Z",
     "iopub.status.busy": "2020-07-17T03:08:58.981128Z",
     "iopub.status.idle": "2020-07-17T03:09:00.053448Z",
     "shell.execute_reply": "2020-07-17T03:09:00.052451Z",
     "shell.execute_reply.started": "2020-07-17T03:08:58.982170Z"
    }
   },
   "outputs": [
    {
     "data": {
      "text/html": [
       "<div>\n",
       "<style scoped>\n",
       "    .dataframe tbody tr th:only-of-type {\n",
       "        vertical-align: middle;\n",
       "    }\n",
       "\n",
       "    .dataframe tbody tr th {\n",
       "        vertical-align: top;\n",
       "    }\n",
       "\n",
       "    .dataframe thead th {\n",
       "        text-align: right;\n",
       "    }\n",
       "</style>\n",
       "<table border=\"1\" class=\"dataframe\">\n",
       "  <thead>\n",
       "    <tr style=\"text-align: right;\">\n",
       "      <th></th>\n",
       "      <th>Gender</th>\n",
       "      <th>SeniorCitizen</th>\n",
       "      <th>Partner</th>\n",
       "      <th>Dependents</th>\n",
       "      <th>Tenure</th>\n",
       "      <th>PhoneService</th>\n",
       "      <th>MultipleLines</th>\n",
       "      <th>InternetService</th>\n",
       "      <th>OnlineSecurity</th>\n",
       "      <th>OnlineBackup</th>\n",
       "      <th>...</th>\n",
       "      <th>Contract</th>\n",
       "      <th>PaperlessBilling</th>\n",
       "      <th>PaymentMethod</th>\n",
       "      <th>MonthlyCharges</th>\n",
       "      <th>TotalCharges</th>\n",
       "      <th>Churn</th>\n",
       "      <th>TenureGroup</th>\n",
       "      <th>ChurnProbability</th>\n",
       "      <th>PredictionAccuracy</th>\n",
       "      <th>ChurnPredicted</th>\n",
       "    </tr>\n",
       "    <tr>\n",
       "      <th>CustomerID</th>\n",
       "      <th></th>\n",
       "      <th></th>\n",
       "      <th></th>\n",
       "      <th></th>\n",
       "      <th></th>\n",
       "      <th></th>\n",
       "      <th></th>\n",
       "      <th></th>\n",
       "      <th></th>\n",
       "      <th></th>\n",
       "      <th></th>\n",
       "      <th></th>\n",
       "      <th></th>\n",
       "      <th></th>\n",
       "      <th></th>\n",
       "      <th></th>\n",
       "      <th></th>\n",
       "      <th></th>\n",
       "      <th></th>\n",
       "      <th></th>\n",
       "      <th></th>\n",
       "    </tr>\n",
       "  </thead>\n",
       "  <tbody>\n",
       "    <tr>\n",
       "      <th>7590-VHVEG</th>\n",
       "      <td>Female</td>\n",
       "      <td>No</td>\n",
       "      <td>Yes</td>\n",
       "      <td>No</td>\n",
       "      <td>1</td>\n",
       "      <td>No</td>\n",
       "      <td>No phone service</td>\n",
       "      <td>DSL</td>\n",
       "      <td>No</td>\n",
       "      <td>Yes</td>\n",
       "      <td>...</td>\n",
       "      <td>Month-to-month</td>\n",
       "      <td>Yes</td>\n",
       "      <td>Electronic check</td>\n",
       "      <td>29.85</td>\n",
       "      <td>29.85</td>\n",
       "      <td>No</td>\n",
       "      <td>Tenure_0-12</td>\n",
       "      <td>1.0</td>\n",
       "      <td>1.0</td>\n",
       "      <td>No</td>\n",
       "    </tr>\n",
       "    <tr>\n",
       "      <th>5575-GNVDE</th>\n",
       "      <td>Male</td>\n",
       "      <td>No</td>\n",
       "      <td>No</td>\n",
       "      <td>No</td>\n",
       "      <td>34</td>\n",
       "      <td>Yes</td>\n",
       "      <td>No</td>\n",
       "      <td>DSL</td>\n",
       "      <td>Yes</td>\n",
       "      <td>No</td>\n",
       "      <td>...</td>\n",
       "      <td>One year</td>\n",
       "      <td>No</td>\n",
       "      <td>Mailed check</td>\n",
       "      <td>56.95</td>\n",
       "      <td>1889.50</td>\n",
       "      <td>No</td>\n",
       "      <td>Tenure_24-48</td>\n",
       "      <td>1.0</td>\n",
       "      <td>1.0</td>\n",
       "      <td>No</td>\n",
       "    </tr>\n",
       "    <tr>\n",
       "      <th>3668-QPYBK</th>\n",
       "      <td>Male</td>\n",
       "      <td>No</td>\n",
       "      <td>No</td>\n",
       "      <td>No</td>\n",
       "      <td>2</td>\n",
       "      <td>Yes</td>\n",
       "      <td>No</td>\n",
       "      <td>DSL</td>\n",
       "      <td>Yes</td>\n",
       "      <td>Yes</td>\n",
       "      <td>...</td>\n",
       "      <td>Month-to-month</td>\n",
       "      <td>Yes</td>\n",
       "      <td>Mailed check</td>\n",
       "      <td>53.85</td>\n",
       "      <td>108.15</td>\n",
       "      <td>Yes</td>\n",
       "      <td>Tenure_0-12</td>\n",
       "      <td>1.0</td>\n",
       "      <td>1.0</td>\n",
       "      <td>Yes</td>\n",
       "    </tr>\n",
       "    <tr>\n",
       "      <th>7795-CFOCW</th>\n",
       "      <td>Male</td>\n",
       "      <td>No</td>\n",
       "      <td>No</td>\n",
       "      <td>No</td>\n",
       "      <td>45</td>\n",
       "      <td>No</td>\n",
       "      <td>No phone service</td>\n",
       "      <td>DSL</td>\n",
       "      <td>Yes</td>\n",
       "      <td>No</td>\n",
       "      <td>...</td>\n",
       "      <td>One year</td>\n",
       "      <td>No</td>\n",
       "      <td>Bank transfer (automatic)</td>\n",
       "      <td>42.30</td>\n",
       "      <td>1840.75</td>\n",
       "      <td>No</td>\n",
       "      <td>Tenure_24-48</td>\n",
       "      <td>1.0</td>\n",
       "      <td>1.0</td>\n",
       "      <td>No</td>\n",
       "    </tr>\n",
       "    <tr>\n",
       "      <th>9237-HQITU</th>\n",
       "      <td>Female</td>\n",
       "      <td>No</td>\n",
       "      <td>No</td>\n",
       "      <td>No</td>\n",
       "      <td>2</td>\n",
       "      <td>Yes</td>\n",
       "      <td>No</td>\n",
       "      <td>Fiber optic</td>\n",
       "      <td>No</td>\n",
       "      <td>No</td>\n",
       "      <td>...</td>\n",
       "      <td>Month-to-month</td>\n",
       "      <td>Yes</td>\n",
       "      <td>Electronic check</td>\n",
       "      <td>70.70</td>\n",
       "      <td>151.65</td>\n",
       "      <td>Yes</td>\n",
       "      <td>Tenure_0-12</td>\n",
       "      <td>1.0</td>\n",
       "      <td>1.0</td>\n",
       "      <td>Yes</td>\n",
       "    </tr>\n",
       "  </tbody>\n",
       "</table>\n",
       "<p>5 rows × 24 columns</p>\n",
       "</div>"
      ],
      "text/plain": [
       "            Gender SeniorCitizen Partner Dependents  Tenure PhoneService  \\\n",
       "CustomerID                                                                 \n",
       "7590-VHVEG  Female            No     Yes         No       1           No   \n",
       "5575-GNVDE    Male            No      No         No      34          Yes   \n",
       "3668-QPYBK    Male            No      No         No       2          Yes   \n",
       "7795-CFOCW    Male            No      No         No      45           No   \n",
       "9237-HQITU  Female            No      No         No       2          Yes   \n",
       "\n",
       "               MultipleLines InternetService OnlineSecurity OnlineBackup  ...  \\\n",
       "CustomerID                                                                ...   \n",
       "7590-VHVEG  No phone service             DSL             No          Yes  ...   \n",
       "5575-GNVDE                No             DSL            Yes           No  ...   \n",
       "3668-QPYBK                No             DSL            Yes          Yes  ...   \n",
       "7795-CFOCW  No phone service             DSL            Yes           No  ...   \n",
       "9237-HQITU                No     Fiber optic             No           No  ...   \n",
       "\n",
       "                  Contract PaperlessBilling              PaymentMethod  \\\n",
       "CustomerID                                                               \n",
       "7590-VHVEG  Month-to-month              Yes           Electronic check   \n",
       "5575-GNVDE        One year               No               Mailed check   \n",
       "3668-QPYBK  Month-to-month              Yes               Mailed check   \n",
       "7795-CFOCW        One year               No  Bank transfer (automatic)   \n",
       "9237-HQITU  Month-to-month              Yes           Electronic check   \n",
       "\n",
       "           MonthlyCharges TotalCharges Churn   TenureGroup  ChurnProbability  \\\n",
       "CustomerID                                                                     \n",
       "7590-VHVEG          29.85        29.85    No   Tenure_0-12               1.0   \n",
       "5575-GNVDE          56.95      1889.50    No  Tenure_24-48               1.0   \n",
       "3668-QPYBK          53.85       108.15   Yes   Tenure_0-12               1.0   \n",
       "7795-CFOCW          42.30      1840.75    No  Tenure_24-48               1.0   \n",
       "9237-HQITU          70.70       151.65   Yes   Tenure_0-12               1.0   \n",
       "\n",
       "            PredictionAccuracy ChurnPredicted  \n",
       "CustomerID                                     \n",
       "7590-VHVEG                 1.0             No  \n",
       "5575-GNVDE                 1.0             No  \n",
       "3668-QPYBK                 1.0            Yes  \n",
       "7795-CFOCW                 1.0             No  \n",
       "9237-HQITU                 1.0            Yes  \n",
       "\n",
       "[5 rows x 24 columns]"
      ]
     },
     "execution_count": 7,
     "metadata": {},
     "output_type": "execute_result"
    }
   ],
   "source": [
    "types = {\"ChurnProbability\": tt.types.FLOAT}\n",
    "\n",
    "customer_store = session.read_pandas(\n",
    "    telcom, keys=[\"CustomerID\"], store_name=\"customer_store\", types=types\n",
    ")\n",
    "customer_store.head()"
   ]
  },
  {
   "cell_type": "code",
   "execution_count": 8,
   "metadata": {
    "execution": {
     "iopub.execute_input": "2020-07-17T03:09:00.055444Z",
     "iopub.status.busy": "2020-07-17T03:09:00.054446Z",
     "iopub.status.idle": "2020-07-17T03:09:00.805258Z",
     "shell.execute_reply": "2020-07-17T03:09:00.805258Z",
     "shell.execute_reply.started": "2020-07-17T03:09:00.055444Z"
    }
   },
   "outputs": [
    {
     "data": {
      "application/json": {
       "Dimensions": {
        "Hierarchies": {
         "Churn": [
          "Churn"
         ],
         "ChurnPredicted": [
          "ChurnPredicted"
         ],
         "Contract": [
          "Contract"
         ],
         "CustomerID": [
          "CustomerID"
         ],
         "Dependents": [
          "Dependents"
         ],
         "DeviceProtection": [
          "DeviceProtection"
         ],
         "Gender": [
          "Gender"
         ],
         "InternetService": [
          "InternetService"
         ],
         "MultipleLines": [
          "MultipleLines"
         ],
         "OnlineBackup": [
          "OnlineBackup"
         ],
         "OnlineSecurity": [
          "OnlineSecurity"
         ],
         "PaperlessBilling": [
          "PaperlessBilling"
         ],
         "Partner": [
          "Partner"
         ],
         "PaymentMethod": [
          "PaymentMethod"
         ],
         "PhoneService": [
          "PhoneService"
         ],
         "SeniorCitizen": [
          "SeniorCitizen"
         ],
         "StreamingMovies": [
          "StreamingMovies"
         ],
         "StreamingTV": [
          "StreamingTV"
         ],
         "TechSupport": [
          "TechSupport"
         ],
         "Tenure": [
          "Tenure"
         ],
         "TenureGroup": [
          "TenureGroup"
         ]
        }
       },
       "Measures": {
        "ChurnProbability.MEAN": {
         "formatter": "DOUBLE[#,###.00]",
         "visible": true
        },
        "ChurnProbability.SUM": {
         "formatter": "DOUBLE[#,###.00]",
         "visible": true
        },
        "MonthlyCharges.MEAN": {
         "formatter": "DOUBLE[#,###.00]",
         "visible": true
        },
        "MonthlyCharges.SUM": {
         "formatter": "DOUBLE[#,###.00]",
         "visible": true
        },
        "PredictionAccuracy.MEAN": {
         "formatter": "DOUBLE[#,###.00]",
         "visible": true
        },
        "PredictionAccuracy.SUM": {
         "formatter": "DOUBLE[#,###.00]",
         "visible": true
        },
        "TotalCharges.MEAN": {
         "formatter": "DOUBLE[#,###.00]",
         "visible": true
        },
        "TotalCharges.SUM": {
         "formatter": "DOUBLE[#,###.00]",
         "visible": true
        },
        "contributors.COUNT": {
         "formatter": null,
         "visible": true
        }
       }
      },
      "text/html": [
       "<ul>\n",
       "<li>customer_cube\n",
       "  <ul>\n",
       "  <li>Dimensions\n",
       "    <ul>\n",
       "    <li>Hierarchies\n",
       "      <ul>\n",
       "      <li>Churn\n",
       "        <ol>\n",
       "        <li>Churn</li>\n",
       "        </ol>      </li>\n",
       "      <li>ChurnPredicted\n",
       "        <ol>\n",
       "        <li>ChurnPredicted</li>\n",
       "        </ol>      </li>\n",
       "      <li>Contract\n",
       "        <ol>\n",
       "        <li>Contract</li>\n",
       "        </ol>      </li>\n",
       "      <li>CustomerID\n",
       "        <ol>\n",
       "        <li>CustomerID</li>\n",
       "        </ol>      </li>\n",
       "      <li>Dependents\n",
       "        <ol>\n",
       "        <li>Dependents</li>\n",
       "        </ol>      </li>\n",
       "      <li>DeviceProtection\n",
       "        <ol>\n",
       "        <li>DeviceProtection</li>\n",
       "        </ol>      </li>\n",
       "      <li>Gender\n",
       "        <ol>\n",
       "        <li>Gender</li>\n",
       "        </ol>      </li>\n",
       "      <li>InternetService\n",
       "        <ol>\n",
       "        <li>InternetService</li>\n",
       "        </ol>      </li>\n",
       "      <li>MultipleLines\n",
       "        <ol>\n",
       "        <li>MultipleLines</li>\n",
       "        </ol>      </li>\n",
       "      <li>OnlineBackup\n",
       "        <ol>\n",
       "        <li>OnlineBackup</li>\n",
       "        </ol>      </li>\n",
       "      <li>OnlineSecurity\n",
       "        <ol>\n",
       "        <li>OnlineSecurity</li>\n",
       "        </ol>      </li>\n",
       "      <li>PaperlessBilling\n",
       "        <ol>\n",
       "        <li>PaperlessBilling</li>\n",
       "        </ol>      </li>\n",
       "      <li>Partner\n",
       "        <ol>\n",
       "        <li>Partner</li>\n",
       "        </ol>      </li>\n",
       "      <li>PaymentMethod\n",
       "        <ol>\n",
       "        <li>PaymentMethod</li>\n",
       "        </ol>      </li>\n",
       "      <li>PhoneService\n",
       "        <ol>\n",
       "        <li>PhoneService</li>\n",
       "        </ol>      </li>\n",
       "      <li>SeniorCitizen\n",
       "        <ol>\n",
       "        <li>SeniorCitizen</li>\n",
       "        </ol>      </li>\n",
       "      <li>StreamingMovies\n",
       "        <ol>\n",
       "        <li>StreamingMovies</li>\n",
       "        </ol>      </li>\n",
       "      <li>StreamingTV\n",
       "        <ol>\n",
       "        <li>StreamingTV</li>\n",
       "        </ol>      </li>\n",
       "      <li>TechSupport\n",
       "        <ol>\n",
       "        <li>TechSupport</li>\n",
       "        </ol>      </li>\n",
       "      <li>Tenure\n",
       "        <ol>\n",
       "        <li>Tenure</li>\n",
       "        </ol>      </li>\n",
       "      <li>TenureGroup\n",
       "        <ol>\n",
       "        <li>TenureGroup</li>\n",
       "        </ol>      </li>\n",
       "      </ul>\n",
       "    </li>\n",
       "    </ul>\n",
       "  </li>\n",
       "  <li>Measures\n",
       "    <ul>\n",
       "    <li>ChurnProbability.MEAN\n",
       "      <ul>\n",
       "      <li>formatter: DOUBLE[#,###.00]</li>\n",
       "      <li>visible: True</li>\n",
       "      </ul>\n",
       "    </li>\n",
       "    <li>ChurnProbability.SUM\n",
       "      <ul>\n",
       "      <li>formatter: DOUBLE[#,###.00]</li>\n",
       "      <li>visible: True</li>\n",
       "      </ul>\n",
       "    </li>\n",
       "    <li>MonthlyCharges.MEAN\n",
       "      <ul>\n",
       "      <li>formatter: DOUBLE[#,###.00]</li>\n",
       "      <li>visible: True</li>\n",
       "      </ul>\n",
       "    </li>\n",
       "    <li>MonthlyCharges.SUM\n",
       "      <ul>\n",
       "      <li>formatter: DOUBLE[#,###.00]</li>\n",
       "      <li>visible: True</li>\n",
       "      </ul>\n",
       "    </li>\n",
       "    <li>PredictionAccuracy.MEAN\n",
       "      <ul>\n",
       "      <li>formatter: DOUBLE[#,###.00]</li>\n",
       "      <li>visible: True</li>\n",
       "      </ul>\n",
       "    </li>\n",
       "    <li>PredictionAccuracy.SUM\n",
       "      <ul>\n",
       "      <li>formatter: DOUBLE[#,###.00]</li>\n",
       "      <li>visible: True</li>\n",
       "      </ul>\n",
       "    </li>\n",
       "    <li>TotalCharges.MEAN\n",
       "      <ul>\n",
       "      <li>formatter: DOUBLE[#,###.00]</li>\n",
       "      <li>visible: True</li>\n",
       "      </ul>\n",
       "    </li>\n",
       "    <li>TotalCharges.SUM\n",
       "      <ul>\n",
       "      <li>formatter: DOUBLE[#,###.00]</li>\n",
       "      <li>visible: True</li>\n",
       "      </ul>\n",
       "    </li>\n",
       "    <li>contributors.COUNT\n",
       "      <ul>\n",
       "      <li>formatter: None</li>\n",
       "      <li>visible: True</li>\n",
       "      </ul>\n",
       "    </li>\n",
       "    </ul>\n",
       "  </li>\n",
       "  </ul>\n",
       "</li>\n",
       "</ul>\n"
      ],
      "text/plain": [
       "<atoti.cube.Cube at 0x22326fb9ee0>"
      ]
     },
     "execution_count": 8,
     "metadata": {
      "application/json": {
       "expanded": false,
       "root": "customer_cube"
      }
     },
     "output_type": "execute_result"
    }
   ],
   "source": [
    "cube = session.create_cube(customer_store, \"customer_cube\")\n",
    "\n",
    "h = cube.hierarchies\n",
    "m = cube.measures\n",
    "l = cube.levels\n",
    "cube"
   ]
  },
  {
   "cell_type": "markdown",
   "metadata": {},
   "source": [
    "We create a simple function that helps change the dimension of our hierarchies as we group them into logical categories."
   ]
  },
  {
   "cell_type": "code",
   "execution_count": 9,
   "metadata": {
    "execution": {
     "iopub.execute_input": "2020-07-17T03:09:00.807280Z",
     "iopub.status.busy": "2020-07-17T03:09:00.806273Z",
     "iopub.status.idle": "2020-07-17T03:09:00.811255Z",
     "shell.execute_reply": "2020-07-17T03:09:00.810257Z",
     "shell.execute_reply.started": "2020-07-17T03:09:00.807280Z"
    }
   },
   "outputs": [],
   "source": [
    "def set_dim(hier_name, dim_name):\n",
    "    h[hier_name].dimension = dim_name"
   ]
  },
  {
   "cell_type": "markdown",
   "metadata": {},
   "source": [
    "## Data classification using dimensions\n",
    "\n",
    "We re-classify the hierarchies under Customer, Demographic, Account and Services."
   ]
  },
  {
   "cell_type": "code",
   "execution_count": 10,
   "metadata": {
    "execution": {
     "iopub.execute_input": "2020-07-17T03:09:00.813246Z",
     "iopub.status.busy": "2020-07-17T03:09:00.812238Z",
     "iopub.status.idle": "2020-07-17T03:09:01.648814Z",
     "shell.execute_reply": "2020-07-17T03:09:01.648814Z",
     "shell.execute_reply.started": "2020-07-17T03:09:00.813246Z"
    }
   },
   "outputs": [
    {
     "data": {
      "application/json": {
       "Dimensions": {
        "Account": {
         "Contract": [
          "Contract"
         ],
         "PaperlessBilling": [
          "PaperlessBilling"
         ],
         "PaymentMethod": [
          "PaymentMethod"
         ],
         "Tenure": [
          "Tenure"
         ],
         "TenureGroup": [
          "TenureGroup"
         ]
        },
        "Customer": {
         "Churn": [
          "Churn"
         ],
         "ChurnPredicted": [
          "ChurnPredicted"
         ],
         "CustomerID": [
          "CustomerID"
         ]
        },
        "Demographic": {
         "Dependents": [
          "Dependents"
         ],
         "Gender": [
          "Gender"
         ],
         "Partner": [
          "Partner"
         ],
         "SeniorCitizen": [
          "SeniorCitizen"
         ]
        },
        "Services": {
         "DeviceProtection": [
          "DeviceProtection"
         ],
         "InternetService": [
          "InternetService"
         ],
         "MultipleLines": [
          "MultipleLines"
         ],
         "OnlineBackup": [
          "OnlineBackup"
         ],
         "OnlineSecurity": [
          "OnlineSecurity"
         ],
         "PhoneService": [
          "PhoneService"
         ],
         "StreamingMovies": [
          "StreamingMovies"
         ],
         "StreamingTV": [
          "StreamingTV"
         ],
         "TechSupport": [
          "TechSupport"
         ]
        }
       },
       "Measures": {
        "ChurnProbability.MEAN": {
         "formatter": "DOUBLE[#,###.00]",
         "visible": true
        },
        "ChurnProbability.SUM": {
         "formatter": "DOUBLE[#,###.00]",
         "visible": true
        },
        "MonthlyCharges.MEAN": {
         "formatter": "DOUBLE[#,###.00]",
         "visible": true
        },
        "MonthlyCharges.SUM": {
         "formatter": "DOUBLE[#,###.00]",
         "visible": true
        },
        "PredictionAccuracy.MEAN": {
         "formatter": "DOUBLE[#,###.00]",
         "visible": true
        },
        "PredictionAccuracy.SUM": {
         "formatter": "DOUBLE[#,###.00]",
         "visible": true
        },
        "TotalCharges.MEAN": {
         "formatter": "DOUBLE[#,###.00]",
         "visible": true
        },
        "TotalCharges.SUM": {
         "formatter": "DOUBLE[#,###.00]",
         "visible": true
        },
        "contributors.COUNT": {
         "formatter": null,
         "visible": true
        }
       }
      },
      "text/html": [
       "<ul>\n",
       "<li>customer_cube\n",
       "  <ul>\n",
       "  <li>Dimensions\n",
       "    <ul>\n",
       "    <li>Account\n",
       "      <ul>\n",
       "      <li>Contract\n",
       "        <ol>\n",
       "        <li>Contract</li>\n",
       "        </ol>      </li>\n",
       "      <li>PaperlessBilling\n",
       "        <ol>\n",
       "        <li>PaperlessBilling</li>\n",
       "        </ol>      </li>\n",
       "      <li>PaymentMethod\n",
       "        <ol>\n",
       "        <li>PaymentMethod</li>\n",
       "        </ol>      </li>\n",
       "      <li>Tenure\n",
       "        <ol>\n",
       "        <li>Tenure</li>\n",
       "        </ol>      </li>\n",
       "      <li>TenureGroup\n",
       "        <ol>\n",
       "        <li>TenureGroup</li>\n",
       "        </ol>      </li>\n",
       "      </ul>\n",
       "    </li>\n",
       "    <li>Customer\n",
       "      <ul>\n",
       "      <li>Churn\n",
       "        <ol>\n",
       "        <li>Churn</li>\n",
       "        </ol>      </li>\n",
       "      <li>ChurnPredicted\n",
       "        <ol>\n",
       "        <li>ChurnPredicted</li>\n",
       "        </ol>      </li>\n",
       "      <li>CustomerID\n",
       "        <ol>\n",
       "        <li>CustomerID</li>\n",
       "        </ol>      </li>\n",
       "      </ul>\n",
       "    </li>\n",
       "    <li>Demographic\n",
       "      <ul>\n",
       "      <li>Dependents\n",
       "        <ol>\n",
       "        <li>Dependents</li>\n",
       "        </ol>      </li>\n",
       "      <li>Gender\n",
       "        <ol>\n",
       "        <li>Gender</li>\n",
       "        </ol>      </li>\n",
       "      <li>Partner\n",
       "        <ol>\n",
       "        <li>Partner</li>\n",
       "        </ol>      </li>\n",
       "      <li>SeniorCitizen\n",
       "        <ol>\n",
       "        <li>SeniorCitizen</li>\n",
       "        </ol>      </li>\n",
       "      </ul>\n",
       "    </li>\n",
       "    <li>Services\n",
       "      <ul>\n",
       "      <li>DeviceProtection\n",
       "        <ol>\n",
       "        <li>DeviceProtection</li>\n",
       "        </ol>      </li>\n",
       "      <li>InternetService\n",
       "        <ol>\n",
       "        <li>InternetService</li>\n",
       "        </ol>      </li>\n",
       "      <li>MultipleLines\n",
       "        <ol>\n",
       "        <li>MultipleLines</li>\n",
       "        </ol>      </li>\n",
       "      <li>OnlineBackup\n",
       "        <ol>\n",
       "        <li>OnlineBackup</li>\n",
       "        </ol>      </li>\n",
       "      <li>OnlineSecurity\n",
       "        <ol>\n",
       "        <li>OnlineSecurity</li>\n",
       "        </ol>      </li>\n",
       "      <li>PhoneService\n",
       "        <ol>\n",
       "        <li>PhoneService</li>\n",
       "        </ol>      </li>\n",
       "      <li>StreamingMovies\n",
       "        <ol>\n",
       "        <li>StreamingMovies</li>\n",
       "        </ol>      </li>\n",
       "      <li>StreamingTV\n",
       "        <ol>\n",
       "        <li>StreamingTV</li>\n",
       "        </ol>      </li>\n",
       "      <li>TechSupport\n",
       "        <ol>\n",
       "        <li>TechSupport</li>\n",
       "        </ol>      </li>\n",
       "      </ul>\n",
       "    </li>\n",
       "    </ul>\n",
       "  </li>\n",
       "  <li>Measures\n",
       "    <ul>\n",
       "    <li>ChurnProbability.MEAN\n",
       "      <ul>\n",
       "      <li>formatter: DOUBLE[#,###.00]</li>\n",
       "      <li>visible: True</li>\n",
       "      </ul>\n",
       "    </li>\n",
       "    <li>ChurnProbability.SUM\n",
       "      <ul>\n",
       "      <li>formatter: DOUBLE[#,###.00]</li>\n",
       "      <li>visible: True</li>\n",
       "      </ul>\n",
       "    </li>\n",
       "    <li>MonthlyCharges.MEAN\n",
       "      <ul>\n",
       "      <li>formatter: DOUBLE[#,###.00]</li>\n",
       "      <li>visible: True</li>\n",
       "      </ul>\n",
       "    </li>\n",
       "    <li>MonthlyCharges.SUM\n",
       "      <ul>\n",
       "      <li>formatter: DOUBLE[#,###.00]</li>\n",
       "      <li>visible: True</li>\n",
       "      </ul>\n",
       "    </li>\n",
       "    <li>PredictionAccuracy.MEAN\n",
       "      <ul>\n",
       "      <li>formatter: DOUBLE[#,###.00]</li>\n",
       "      <li>visible: True</li>\n",
       "      </ul>\n",
       "    </li>\n",
       "    <li>PredictionAccuracy.SUM\n",
       "      <ul>\n",
       "      <li>formatter: DOUBLE[#,###.00]</li>\n",
       "      <li>visible: True</li>\n",
       "      </ul>\n",
       "    </li>\n",
       "    <li>TotalCharges.MEAN\n",
       "      <ul>\n",
       "      <li>formatter: DOUBLE[#,###.00]</li>\n",
       "      <li>visible: True</li>\n",
       "      </ul>\n",
       "    </li>\n",
       "    <li>TotalCharges.SUM\n",
       "      <ul>\n",
       "      <li>formatter: DOUBLE[#,###.00]</li>\n",
       "      <li>visible: True</li>\n",
       "      </ul>\n",
       "    </li>\n",
       "    <li>contributors.COUNT\n",
       "      <ul>\n",
       "      <li>formatter: None</li>\n",
       "      <li>visible: True</li>\n",
       "      </ul>\n",
       "    </li>\n",
       "    </ul>\n",
       "  </li>\n",
       "  </ul>\n",
       "</li>\n",
       "</ul>\n"
      ],
      "text/plain": [
       "<atoti.cube.Cube at 0x22326fb9ee0>"
      ]
     },
     "execution_count": 10,
     "metadata": {
      "application/json": {
       "expanded": false,
       "root": "customer_cube"
      }
     },
     "output_type": "execute_result"
    }
   ],
   "source": [
    "customer_hierarchy = [\"CustomerID\", \"Churn\", \"ChurnPredicted\"]\n",
    "[set_dim(hier_name, \"Customer\") for hier_name in customer_hierarchy]\n",
    "\n",
    "demographic_hierarchy = [\"Gender\", \"SeniorCitizen\", \"Partner\", \"Dependents\"]\n",
    "[set_dim(hier_name, \"Demographic\") for hier_name in demographic_hierarchy]\n",
    "\n",
    "account_hierarchy = [\n",
    "    \"Tenure\",\n",
    "    \"Contract\",\n",
    "    \"PaperlessBilling\",\n",
    "    \"PaymentMethod\",\n",
    "    \"TenureGroup\",\n",
    "]\n",
    "[set_dim(hier_name, \"Account\") for hier_name in account_hierarchy]\n",
    "\n",
    "services_hierarchy = [\n",
    "    \"PhoneService\",\n",
    "    \"MultipleLines\",\n",
    "    \"InternetService\",\n",
    "    \"OnlineSecurity\",\n",
    "    \"OnlineBackup\",\n",
    "    \"DeviceProtection\",\n",
    "    \"TechSupport\",\n",
    "    \"StreamingTV\",\n",
    "    \"StreamingMovies\",\n",
    "]\n",
    "[set_dim(hier_name, \"Services\") for hier_name in services_hierarchy]\n",
    "\n",
    "cube"
   ]
  },
  {
   "cell_type": "markdown",
   "metadata": {},
   "source": [
    "## Machine learning - Model training and Scenario creation\n",
    "\n",
    "In order to start our model training, we do some data preprocessing by converting the labeled values into binary values.  \n",
    "You can read up more on [LabelEncoder](https://scikit-learn.org/stable/modules/generated/sklearn.preprocessing.LabelEncoder.html)."
   ]
  },
  {
   "cell_type": "code",
   "execution_count": 11,
   "metadata": {
    "execution": {
     "iopub.execute_input": "2020-07-17T03:09:01.649810Z",
     "iopub.status.busy": "2020-07-17T03:09:01.649810Z",
     "iopub.status.idle": "2020-07-17T03:09:01.789579Z",
     "shell.execute_reply": "2020-07-17T03:09:01.789579Z",
     "shell.execute_reply.started": "2020-07-17T03:09:01.649810Z"
    }
   },
   "outputs": [],
   "source": [
    "# Columns to ignore for model training\n",
    "ignore_col = [\"CustomerID\", \"ChurnPredicted\", \"ChurnProbability\", \"PredictionAccuracy\"]\n",
    "# Target columns\n",
    "target_col = [\"Churn\"]\n",
    "\n",
    "binary_df = data_utils.data_preprocessing(telcom.copy())"
   ]
  },
  {
   "cell_type": "markdown",
   "metadata": {},
   "source": [
    "We split the data into train and test data to be used by the machine learning algorithms."
   ]
  },
  {
   "cell_type": "code",
   "execution_count": 12,
   "metadata": {
    "execution": {
     "iopub.execute_input": "2020-07-17T03:09:01.790554Z",
     "iopub.status.busy": "2020-07-17T03:09:01.790554Z",
     "iopub.status.idle": "2020-07-17T03:09:01.809474Z",
     "shell.execute_reply": "2020-07-17T03:09:01.808476Z",
     "shell.execute_reply.started": "2020-07-17T03:09:01.790554Z"
    }
   },
   "outputs": [],
   "source": [
    "train, test = train_test_split(binary_df, test_size=0.25, random_state=111)\n",
    "\n",
    "##seperating dependent and independent variables\n",
    "cols = [i for i in binary_df.columns if i not in ignore_col + target_col]\n",
    "train_X = train[cols]\n",
    "train_Y = train[target_col]\n",
    "test_X = test[cols]\n",
    "test_Y = test[target_col]\n",
    "\n",
    "X = binary_df[cols]\n",
    "Y = binary_df[target_col]"
   ]
  },
  {
   "cell_type": "markdown",
   "metadata": {},
   "source": [
    "### Model Training\n",
    "\n",
    "You can expand the below sections to look at how we train the models below. As we referenced the algorithm, we will not explained it further. Our purpose is to analyse the prediction and its impact on the telco churn."
   ]
  },
  {
   "cell_type": "markdown",
   "metadata": {},
   "source": [
    "#### Logistic Regression Model"
   ]
  },
  {
   "cell_type": "code",
   "execution_count": 13,
   "metadata": {
    "execution": {
     "iopub.execute_input": "2020-07-17T03:09:01.810466Z",
     "iopub.status.busy": "2020-07-17T03:09:01.810466Z",
     "iopub.status.idle": "2020-07-17T03:09:02.046960Z",
     "shell.execute_reply": "2020-07-17T03:09:02.045964Z",
     "shell.execute_reply.started": "2020-07-17T03:09:01.810466Z"
    },
    "jupyter": {
     "source_hidden": true
    }
   },
   "outputs": [
    {
     "name": "stdout",
     "output_type": "stream",
     "text": [
      "LogisticRegression(multi_class='ovr', n_jobs=1, solver='liblinear')\n",
      "\n",
      " Classification report : \n",
      "               precision    recall  f1-score   support\n",
      "\n",
      "           0       0.83      0.91      0.87      1268\n",
      "           1       0.69      0.53      0.60       490\n",
      "\n",
      "    accuracy                           0.80      1758\n",
      "   macro avg       0.76      0.72      0.73      1758\n",
      "weighted avg       0.79      0.80      0.79      1758\n",
      "\n",
      "Accuracy   Score :  0.8014789533560864\n",
      "Area under curve :  0.7177557458314555 \n",
      "\n"
     ]
    }
   ],
   "source": [
    "from sklearn.linear_model import LogisticRegression\n",
    "\n",
    "# predictions,probabilities = ml.run_predictive(telcom)\n",
    "logit = LogisticRegression(\n",
    "    C=1.0,\n",
    "    class_weight=None,\n",
    "    dual=False,\n",
    "    fit_intercept=True,\n",
    "    intercept_scaling=1,\n",
    "    max_iter=100,\n",
    "    multi_class=\"ovr\",\n",
    "    n_jobs=1,\n",
    "    penalty=\"l2\",\n",
    "    random_state=None,\n",
    "    solver=\"liblinear\",\n",
    "    tol=0.0001,\n",
    "    verbose=0,\n",
    "    warm_start=False,\n",
    ")\n",
    "\n",
    "logit = prediction.churn_prediction(\n",
    "    logit, train_X, test_X, train_Y, test_Y, cols, \"coefficients\", threshold_plot=True\n",
    ")"
   ]
  },
  {
   "cell_type": "markdown",
   "metadata": {},
   "source": [
    "#### Logistic Regression (SMOTE) Model"
   ]
  },
  {
   "cell_type": "code",
   "execution_count": 14,
   "metadata": {
    "execution": {
     "iopub.execute_input": "2020-07-17T03:09:02.048955Z",
     "iopub.status.busy": "2020-07-17T03:09:02.047957Z",
     "iopub.status.idle": "2020-07-17T03:09:02.669018Z",
     "shell.execute_reply": "2020-07-17T03:09:02.669018Z",
     "shell.execute_reply.started": "2020-07-17T03:09:02.047957Z"
    },
    "jupyter": {
     "source_hidden": true
    }
   },
   "outputs": [
    {
     "name": "stdout",
     "output_type": "stream",
     "text": [
      "LogisticRegression(multi_class='ovr', n_jobs=1, solver='liblinear')\n",
      "\n",
      " Classification report : \n",
      "               precision    recall  f1-score   support\n",
      "\n",
      "           0       0.87      0.82      0.84      1268\n",
      "           1       0.59      0.69      0.64       490\n",
      "\n",
      "    accuracy                           0.78      1758\n",
      "   macro avg       0.73      0.75      0.74      1758\n",
      "weighted avg       0.79      0.78      0.79      1758\n",
      "\n",
      "Accuracy   Score :  0.7815699658703071\n",
      "Area under curve :  0.754041395738106 \n",
      "\n"
     ]
    }
   ],
   "source": [
    "from imblearn.over_sampling import SMOTE\n",
    "\n",
    "smote_X = binary_df[cols]\n",
    "smote_Y = binary_df[target_col]\n",
    "\n",
    "# Split train and test data\n",
    "smote_train_X, smote_test_X, smote_train_Y, smote_test_Y = train_test_split(\n",
    "    smote_X, smote_Y, test_size=0.25, random_state=111\n",
    ")\n",
    "\n",
    "# oversampling minority class using smote\n",
    "os = SMOTE(random_state=0)\n",
    "os_smote_X, os_smote_Y = os.fit_sample(smote_train_X, smote_train_Y)\n",
    "os_smote_X = pd.DataFrame(data=os_smote_X, columns=cols)\n",
    "os_smote_Y = pd.DataFrame(data=os_smote_Y, columns=target_col)\n",
    "\n",
    "logit_smote = LogisticRegression(\n",
    "    C=1.0,\n",
    "    class_weight=None,\n",
    "    dual=False,\n",
    "    fit_intercept=True,\n",
    "    intercept_scaling=1,\n",
    "    max_iter=100,\n",
    "    multi_class=\"ovr\",\n",
    "    n_jobs=1,\n",
    "    penalty=\"l2\",\n",
    "    random_state=None,\n",
    "    solver=\"liblinear\",\n",
    "    tol=0.0001,\n",
    "    verbose=0,\n",
    "    warm_start=False,\n",
    ")\n",
    "\n",
    "logit_smote = prediction.churn_prediction(\n",
    "    logit_smote,\n",
    "    os_smote_X,\n",
    "    test_X,\n",
    "    os_smote_Y,\n",
    "    test_Y,\n",
    "    cols,\n",
    "    \"coefficients\",\n",
    "    threshold_plot=True,\n",
    ")"
   ]
  },
  {
   "cell_type": "markdown",
   "metadata": {},
   "source": [
    "#### Naive Bayes Model"
   ]
  },
  {
   "cell_type": "code",
   "execution_count": 15,
   "metadata": {
    "execution": {
     "iopub.execute_input": "2020-07-17T03:09:02.671013Z",
     "iopub.status.busy": "2020-07-17T03:09:02.671013Z",
     "iopub.status.idle": "2020-07-17T03:09:02.714895Z",
     "shell.execute_reply": "2020-07-17T03:09:02.713898Z",
     "shell.execute_reply.started": "2020-07-17T03:09:02.671013Z"
    },
    "jupyter": {
     "source_hidden": true
    }
   },
   "outputs": [
    {
     "name": "stdout",
     "output_type": "stream",
     "text": [
      "GaussianNB()\n",
      "\n",
      " Classification report : \n",
      "               precision    recall  f1-score   support\n",
      "\n",
      "           0       0.90      0.73      0.81      1268\n",
      "           1       0.53      0.80      0.64       490\n",
      "\n",
      "    accuracy                           0.75      1758\n",
      "   macro avg       0.72      0.76      0.72      1758\n",
      "weighted avg       0.80      0.75      0.76      1758\n",
      "\n",
      "Accuracy Score   :  0.7480091012514221\n",
      "Area under curve :  0.7645850769329814\n"
     ]
    }
   ],
   "source": [
    "from sklearn.naive_bayes import GaussianNB\n",
    "\n",
    "gnb = GaussianNB(priors=None)\n",
    "\n",
    "gnb = prediction.churn_prediction_alg(gnb, os_smote_X, test_X, os_smote_Y, test_Y)"
   ]
  },
  {
   "cell_type": "markdown",
   "metadata": {},
   "source": [
    "#### SVM Classifier Linear Model"
   ]
  },
  {
   "cell_type": "code",
   "execution_count": 16,
   "metadata": {
    "execution": {
     "iopub.execute_input": "2020-07-17T03:09:02.716890Z",
     "iopub.status.busy": "2020-07-17T03:09:02.715893Z",
     "iopub.status.idle": "2020-07-17T03:09:11.039419Z",
     "shell.execute_reply": "2020-07-17T03:09:11.038421Z",
     "shell.execute_reply.started": "2020-07-17T03:09:02.716890Z"
    },
    "jupyter": {
     "source_hidden": true
    }
   },
   "outputs": [
    {
     "name": "stdout",
     "output_type": "stream",
     "text": [
      "SVC(gamma=1.0, kernel='linear', probability=True)\n",
      "\n",
      " Classification report : \n",
      "               precision    recall  f1-score   support\n",
      "\n",
      "           0       0.87      0.82      0.84      1268\n",
      "           1       0.60      0.67      0.63       490\n",
      "\n",
      "    accuracy                           0.78      1758\n",
      "   macro avg       0.73      0.75      0.74      1758\n",
      "weighted avg       0.79      0.78      0.79      1758\n",
      "\n",
      "Accuracy   Score :  0.7815699658703071\n",
      "Area under curve :  0.7471544453743643 \n",
      "\n"
     ]
    }
   ],
   "source": [
    "from sklearn.svm import SVC\n",
    "\n",
    "# Support vector classifier\n",
    "# using linear hyper plane\n",
    "svc_lin = SVC(\n",
    "    C=1.0,\n",
    "    cache_size=200,\n",
    "    class_weight=None,\n",
    "    coef0=0.0,\n",
    "    decision_function_shape=\"ovr\",\n",
    "    degree=3,\n",
    "    gamma=1.0,\n",
    "    kernel=\"linear\",\n",
    "    max_iter=-1,\n",
    "    probability=True,\n",
    "    random_state=None,\n",
    "    shrinking=True,\n",
    "    tol=0.001,\n",
    "    verbose=False,\n",
    ")\n",
    "\n",
    "svc_lin = prediction.churn_prediction(\n",
    "    svc_lin,\n",
    "    os_smote_X,\n",
    "    test_X,\n",
    "    os_smote_Y,\n",
    "    test_Y,\n",
    "    cols,\n",
    "    \"coefficients\",\n",
    "    threshold_plot=False,\n",
    ")"
   ]
  },
  {
   "cell_type": "markdown",
   "metadata": {},
   "source": [
    "### Predictions and Scenario creation\n",
    "\n",
    "Now that we have trained the model, we are going to load the full dataset into the model to get the corresponding prediction and probability.  \n",
    "We run the function `model_scenario` that we saw earlier on to get the `ChurnPredicted`, `ChurnProbability` and `PredictionAccuracy`.  \\\n",
    "Thereafter, we load the resultant pandas dataframe into the `customer_store` as a [scenario](https://docs.atoti.io/0.4.1/tutorial/01-Basics.html#Source-simulation). "
   ]
  },
  {
   "cell_type": "markdown",
   "metadata": {},
   "source": [
    "#### Scenario 1 - Logistic Regression Prediction "
   ]
  },
  {
   "cell_type": "code",
   "execution_count": 17,
   "metadata": {
    "execution": {
     "iopub.execute_input": "2020-07-17T03:09:11.040416Z",
     "iopub.status.busy": "2020-07-17T03:09:11.040416Z",
     "iopub.status.idle": "2020-07-17T03:09:11.366577Z",
     "shell.execute_reply": "2020-07-17T03:09:11.365580Z",
     "shell.execute_reply.started": "2020-07-17T03:09:11.040416Z"
    }
   },
   "outputs": [
    {
     "name": "stderr",
     "output_type": "stream",
     "text": [
      "The store has been sampled because there are more than 10000 lines in the files to load. Call Session.load_all_data() to trigger the full load of the data.\n"
     ]
    }
   ],
   "source": [
    "lr_prediction = logit.predict(X)\n",
    "lr_probability = logit.predict_proba(X)\n",
    "\n",
    "logit_df = model_scenario(lr_prediction, lr_probability)\n",
    "customer_store.scenarios[\"Logistic Regression Prediction\"].load_pandas(logit_df)"
   ]
  },
  {
   "cell_type": "markdown",
   "metadata": {},
   "source": [
    "#### Scenario 2 - Logistic Regression (SMOTE) Prediction"
   ]
  },
  {
   "cell_type": "code",
   "execution_count": 18,
   "metadata": {
    "execution": {
     "iopub.execute_input": "2020-07-17T03:09:11.367574Z",
     "iopub.status.busy": "2020-07-17T03:09:11.367574Z",
     "iopub.status.idle": "2020-07-17T03:09:11.692731Z",
     "shell.execute_reply": "2020-07-17T03:09:11.691734Z",
     "shell.execute_reply.started": "2020-07-17T03:09:11.367574Z"
    }
   },
   "outputs": [],
   "source": [
    "smote_prediction = logit_smote.predict(X)\n",
    "smote_probability = logit_smote.predict_proba(X)\n",
    "\n",
    "smote_df = model_scenario(smote_prediction, smote_probability)\n",
    "customer_store.scenarios[\"Logistic Regression (SMOTE) Prediction\"].load_pandas(smote_df)"
   ]
  },
  {
   "cell_type": "markdown",
   "metadata": {},
   "source": [
    "#### Scenario 3 - Naive Bayes Prediction"
   ]
  },
  {
   "cell_type": "code",
   "execution_count": 19,
   "metadata": {
    "execution": {
     "iopub.execute_input": "2020-07-17T03:09:11.694727Z",
     "iopub.status.busy": "2020-07-17T03:09:11.693729Z",
     "iopub.status.idle": "2020-07-17T03:09:11.978965Z",
     "shell.execute_reply": "2020-07-17T03:09:11.978003Z",
     "shell.execute_reply.started": "2020-07-17T03:09:11.693729Z"
    }
   },
   "outputs": [],
   "source": [
    "gnb_prediction = gnb.predict(X)\n",
    "gnb_probability = gnb.predict_proba(X)\n",
    "\n",
    "gnb_df = model_scenario(gnb_prediction, gnb_probability)\n",
    "customer_store.scenarios[\"Naive Bayes Prediction\"].load_pandas(gnb_df)"
   ]
  },
  {
   "cell_type": "markdown",
   "metadata": {},
   "source": [
    "#### Scenario 4 - SVM Classifier Linear Prediction"
   ]
  },
  {
   "cell_type": "code",
   "execution_count": 20,
   "metadata": {
    "execution": {
     "iopub.execute_input": "2020-07-17T03:09:11.979963Z",
     "iopub.status.busy": "2020-07-17T03:09:11.979963Z",
     "iopub.status.idle": "2020-07-17T03:09:13.458454Z",
     "shell.execute_reply": "2020-07-17T03:09:13.458454Z",
     "shell.execute_reply.started": "2020-07-17T03:09:11.979963Z"
    }
   },
   "outputs": [],
   "source": [
    "svm_prediction = svc_lin.predict(X)\n",
    "svm_probability = svc_lin.predict_proba(X)\n",
    "\n",
    "svm_df = model_scenario(svm_prediction, svm_probability)\n",
    "customer_store.scenarios[\"SVM Classifier Linear Prediction\"].load_pandas(svm_df)"
   ]
  },
  {
   "cell_type": "markdown",
   "metadata": {},
   "source": [
    "## Telco Churn Data Analysis\n",
    "\n",
    "Large stores are sampled by default in atoti as we saw when we load the _Logistic Regression Prediction_ into the scenario.  \n",
    "Now that we are ready with our analysis, let's [load all our data](https://docs.atoti.io/0.4.1/tutorial/02-Configuration.html#Sampling-mode)."
   ]
  },
  {
   "cell_type": "code",
   "execution_count": 21,
   "metadata": {
    "execution": {
     "iopub.execute_input": "2020-07-17T03:09:13.459450Z",
     "iopub.status.busy": "2020-07-17T03:09:13.459450Z",
     "iopub.status.idle": "2020-07-17T03:09:13.891645Z",
     "shell.execute_reply": "2020-07-17T03:09:13.891645Z",
     "shell.execute_reply.started": "2020-07-17T03:09:13.459450Z"
    }
   },
   "outputs": [],
   "source": [
    "session.load_all_data()"
   ]
  },
  {
   "cell_type": "markdown",
   "metadata": {},
   "source": [
    "A quick comparison against the base, we see that \n",
    "- _Logistic Regression Prediction_ and _Logistic Regression (SMOTE) Prediction_ under predicted the actual churn figure by a difference of 419 and 410 respectively.  \n",
    "- _Naive Bayes Prediction_ grossly overestimated the churns by about 1.5 times the value (1,143) \n",
    "- _SVM Classifier Linear Prediction_ provides the closest estimate by a difference of 339 though it's an overestimate. \n",
    "\n",
    "However, how reliable is this result?"
   ]
  },
  {
   "cell_type": "code",
   "execution_count": 23,
   "metadata": {
    "atoti": {
     "height": 361,
     "state": {
      "name": "Number of customers churned last month by Tenure period",
      "type": "container",
      "value": {
       "body": {
        "configuration": {
         "mapping": {
          "horizontalSubplots": [],
          "splitBy": [
           "[Customer].[ChurnPredicted].[ChurnPredicted]"
          ],
          "values": [
           "[Measures].[contributors.COUNT]"
          ],
          "verticalSubplots": [],
          "yAxis": [
           "[Epoch].[Epoch].[Branch]"
          ]
         },
         "type": "plotly-clustered-bar-chart"
        },
        "query": {
         "mdx": "WITH  Member [Measures].[[Epoch]].[Epoch]].[Branch]]_for_order] AS [Epoch].[Epoch].CurrentMember.MEMBER_VALUE  SELECT NON EMPTY Order(Crossjoin([Epoch].[Epoch].[Branch].Members, [Customer].[ChurnPredicted].[ChurnPredicted].Members), [Measures].[[Epoch]].[Epoch]].[Branch]]_for_order], BDESC) ON ROWS, NON EMPTY [Measures].[contributors.COUNT] ON COLUMNS FROM [customer_cube] CELL PROPERTIES BACK_COLOR, FONT_FLAGS, FORE_COLOR, FORMATTED_VALUE, VALUE",
         "serverUrl": "",
         "updateMode": "once"
        }
       },
       "containerKey": "chart",
       "showTitleBar": false,
       "style": {}
      }
     }
    },
    "execution": {
     "iopub.execute_input": "2020-07-17T03:09:13.893641Z",
     "iopub.status.busy": "2020-07-17T03:09:13.892643Z"
    }
   },
   "outputs": [
    {
     "data": {
      "application/vnd.atoti.v0+json": {
       "cube": "customer_cube",
       "name": "Number of customers churned last month by Tenure period",
       "session": "Unnamed"
      },
      "text/plain": [
       "Install and enable the atoti JupyterLab extension to see this widget."
      ]
     },
     "metadata": {},
     "output_type": "display_data"
    }
   ],
   "source": [
    "cube.visualize(\"Number of customers churned last month by Tenure period\")"
   ]
  },
  {
   "cell_type": "markdown",
   "metadata": {},
   "source": [
    "#### Model Accuracy\n",
    "\n",
    "Let's look at the accuracy of the algorithm as we compute the number of correctly predicted churn cases in the pivot table below.  \n",
    "Looking at just the customers who churned, we see that _Logistic Regression Prediction_ has the highest percentage of correct prediction, 976 out of the 1,450 predicted true.  \n",
    "In fact, _Logistic Regression Prediction_ has the highest Accuracy score of 0.80 during the model training and _Naive Bayes Model_ has the lowest accuracy score of 0.74."
   ]
  },
  {
   "cell_type": "code",
   "execution_count": 24,
   "metadata": {
    "atoti": {
     "height": 256,
     "state": {
      "name": "Algorithm Accuracy",
      "type": "container",
      "value": {
       "body": {
        "configuration": {
         "tabular": {
          "addButtonFilter": "numeric",
          "columnOrder": {
           "args": {
            "orderedColumns": [
             "c-treeCells-member",
             "[Measures].[PredictionAccuracy.SUM]"
            ]
           },
           "key": "explicit"
          },
          "columns": [
           {
            "key": "([Epoch].[Epoch].[Branch].[Base],[Measures].[ChurnProbability.SUM])",
            "width": 211
           },
           {
            "key": "([Epoch].[Epoch].[Branch].[Logistic Regression Prediction],[Measures].[ChurnProbability.SUM])",
            "width": 236
           },
           {
            "key": "([Epoch].[Epoch].[Branch].[Logistic Regression Prediction],[Measures].[contributors.COUNT])",
            "width": 293
           },
           {
            "key": "c-treeCells-member",
            "width": 239
           },
           {
            "key": "([Customer].[Churn].[ALL].[AllMember].[No],[Measures].[PredictionAccuracy.SUM])",
            "width": 169
           },
           {
            "key": "([Customer].[Churn].[ALL].[AllMember].[Yes],[Measures].[PredictionAccuracy.SUM])",
            "width": 141
           },
           {
            "key": "([Customer].[Churn].[ALL].[AllMember].[Yes],[Measures].[contributors.COUNT])",
            "width": 144
           },
           {
            "key": "([Customer].[Churn].[ALL].[AllMember],[Measures].[PredictionAccuracy.SUM])",
            "width": 144
           }
          ],
          "columnsGroups": [
           {
            "captionProducer": "firstColumn",
            "cellFactory": "kpi-status",
            "selector": "kpi-status"
           },
           {
            "captionProducer": "firstColumn",
            "cellFactory": "lookup",
            "selector": "lookup"
           },
           {
            "captionProducer": "expiry",
            "cellFactory": "expiry",
            "selector": "kpi-expiry"
           },
           {
            "captionProducer": "columnMerge",
            "cellFactory": {
             "args": {},
             "key": "treeCells"
            },
            "selector": "member"
           }
          ],
          "defaultOptions": {},
          "expansion": {
           "automaticExpansion": true
          },
          "hideAddButton": true,
          "pinnedHeaderSelector": "member",
          "sortingMode": "non-breaking",
          "statisticsShown": true
         }
        },
        "contextValues": {},
        "mdx": "WITH  Member [Measures].[Percentage Correct] AS [Measures].[PredictionAccuracy.SUM] / [Measures].[contributors.COUNT], FORMAT_STRING = \"#,###.##\"  SELECT NON EMPTY Order([Epoch].[Epoch].[Branch].Members, [Measures].[PredictionAccuracy.SUM], DESC) ON ROWS, NON EMPTY Crossjoin(Hierarchize(DrilldownLevel([Customer].[ChurnPredicted].[ALL].[AllMember])), {[Measures].[PredictionAccuracy.SUM], [Measures].[contributors.COUNT], [Measures].[Percentage Correct]}) ON COLUMNS FROM [customer_cube] CELL PROPERTIES BACK_COLOR, FONT_FLAGS, FORE_COLOR, FORMATTED_VALUE, VALUE",
        "ranges": {
         "column": {
          "chunkSize": 50,
          "thresholdPercentage": 0.2
         },
         "row": {
          "chunkSize": 2000,
          "thresholdPercentage": 0.1
         }
        },
        "serverUrl": "",
        "updateMode": "once"
       },
       "containerKey": "pivot-table",
       "showTitleBar": false,
       "style": {}
      }
     }
    },
    "execution": {
     "iopub.execute_input": "2020-07-17T03:09:15.440659Z",
     "iopub.status.busy": "2020-07-17T03:09:13.896632Z",
     "iopub.status.idle": "2020-07-17T03:09:13.897629Z",
     "shell.execute_reply": "2020-07-17T03:09:15.978886Z",
     "shell.execute_reply.started": "2020-07-17T03:09:15.440659Z"
    }
   },
   "outputs": [
    {
     "data": {
      "application/vnd.atoti.v0+json": {
       "cube": "customer_cube",
       "name": "Algorithm Accuracy",
       "session": "Unnamed"
      },
      "text/plain": [
       "Install and enable the atoti JupyterLab extension to see this widget."
      ]
     },
     "metadata": {},
     "output_type": "display_data"
    }
   ],
   "source": [
    "cube.visualize(\"Algorithm Accuracy\")"
   ]
  },
  {
   "cell_type": "markdown",
   "metadata": {},
   "source": [
    "#### Churn and MRR Analysis"
   ]
  },
  {
   "cell_type": "code",
   "execution_count": 26,
   "metadata": {
    "atoti": {
     "state": {
      "name": "Percentage customers churned last month",
      "type": "container",
      "value": {
       "body": {
        "configuration": {
         "mapping": {
          "horizontalSubplots": [],
          "splitBy": [],
          "values": [
           "[Measures].[contributors.COUNT]"
          ],
          "verticalSubplots": [],
          "xAxis": [
           "[Customer].[Churn].[Churn]"
          ]
         },
         "switchedTo": "plotly-pie-chart",
         "type": "plotly-line-chart"
        },
        "query": {
         "mdx": "SELECT NON EMPTY [Customer].[Churn].[Churn].Members ON ROWS, NON EMPTY [Measures].[contributors.COUNT] ON COLUMNS FROM [customer_cube] CELL PROPERTIES VALUE, FORMATTED_VALUE, BACK_COLOR, FORE_COLOR, FONT_FLAGS",
         "serverUrl": "",
         "updateMode": "once"
        }
       },
       "containerKey": "chart",
       "showTitleBar": false,
       "style": {}
      }
     }
    },
    "execution": {
     "iopub.execute_input": "2020-07-17T03:09:15.978886Z",
     "iopub.status.busy": "2020-07-17T03:09:13.898627Z",
     "iopub.status.idle": "2020-07-17T03:09:13.899625Z",
     "shell.execute_reply": "2020-07-17T03:09:16.358103Z",
     "shell.execute_reply.started": "2020-07-17T03:09:15.978886Z"
    }
   },
   "outputs": [
    {
     "data": {
      "application/vnd.atoti.v0+json": {
       "cube": "customer_cube",
       "name": "Percentage customers churned last month",
       "session": "Unnamed"
      },
      "text/plain": [
       "Install and enable the atoti JupyterLab extension to see this widget."
      ]
     },
     "metadata": {},
     "output_type": "display_data"
    }
   ],
   "source": [
    "cube.visualize(\"Percentage customers churned last month\")"
   ]
  },
  {
   "cell_type": "markdown",
   "metadata": {},
   "source": [
    "We see that more than 25% customers churned last month. The telco would have lose all its customers in the few coming months if this attrition rate keeps up.  \n",
    "Let's see the impact on this in the telco's net revenue retention (NRR).\n",
    "\n",
    "Since we only have one month's data, we have a simple formula for calculating NRR:\n",
    "\n",
    "# NRR = $\\frac{MRR(initial) - Churn}{MRR(initial)} $  \n",
    "\n",
    "We use [`atoti.total`](https://docs.atoti.io/0.4.1/lib/atoti.html?#atoti.total) to get the total _MonthlyCharges_ for _MRR Initial_ across all the customers because we want to ignore all filters for this measure.  \n",
    "The level `Churn` shows the actual status of customers churning, while the level `ChurnPredicted` reflects the predicted status from the models.  \n",
    "We get the revenue lost by taking the _MonthlyCharges_ for customers who have churned or predicted to churn."
   ]
  },
  {
   "cell_type": "code",
   "execution_count": 27,
   "metadata": {
    "execution": {
     "iopub.execute_input": "2020-07-17T03:09:16.358103Z",
     "iopub.status.busy": "2020-07-17T03:09:13.900621Z",
     "iopub.status.idle": "2020-07-17T03:09:13.900621Z",
     "shell.execute_reply": "2020-07-17T03:09:16.960017Z",
     "shell.execute_reply.started": "2020-07-17T03:09:16.358103Z"
    }
   },
   "outputs": [],
   "source": [
    "m[\"MRR Initial\"] = tt.total(m[\"MonthlyCharges.SUM\"], on=h[\"CustomerID\"])\n",
    "\n",
    "m[\"Actual Revenue Lost\"] = tt.total(\n",
    "    tt.filter(m[\"MonthlyCharges.SUM\"], l[\"Churn\"] == \"Yes\"), on=h[\"CustomerID\"]\n",
    ")\n",
    "\n",
    "#  we use ChurnPredicted here instead of churn because we want to see the difference between the prediction and the actual churn\n",
    "m[\"Predicted Revenue Lost\"] = tt.total(\n",
    "    tt.filter(m[\"MonthlyCharges.SUM\"], l[\"ChurnPredicted\"] == \"Yes\"), on=h[\"CustomerID\"]\n",
    ")\n",
    "\n",
    "m[\"NRR\"] = (m[\"MRR Initial\"] - m[\"Predicted Revenue Lost\"]) / m[\"MRR Initial\"]"
   ]
  },
  {
   "cell_type": "markdown",
   "metadata": {},
   "source": [
    "From the below chart, we see the importance of choosing the correct machine learning model. We could grossly over-estimate or under-estimate the loss if we are not careful with our projection.  \n",
    "For one, _Naive Bayes Prediction_ would not be a good match based on the comparison below."
   ]
  },
  {
   "cell_type": "code",
   "execution_count": 29,
   "metadata": {
    "atoti": {
     "height": 217,
     "state": {
      "name": "NRR - Actual vs Predicted",
      "type": "container",
      "value": {
       "body": {
        "configuration": {
         "tabular": {
          "addButtonFilter": "numeric",
          "cellRenderers": [
           "tree-layout"
          ],
          "columnOrder": {
           "args": {
            "orderedColumns": [
             "c-treeCells-member",
             "[Measures].[MRR Initial]",
             "[Measures].[Actual Revenue Lost]",
             "[Measures].[Predicted Revenue Lost]",
             "[Measures].[Actual Revenue Lost - Predicted Revenue Lost]",
             "[Measures].[NRR]",
             "[Measures].[Revenue Compensation]"
            ]
           },
           "key": "explicit"
          },
          "columns": [
           {
            "key": "[Measures].[Actual Revenue Lost - Predicted Revenue Lost]",
            "width": 151
           },
           {
            "key": "c-treeCells-member",
            "width": 245
           },
           {
            "key": "[Measures].[Predicted Revenue Lost]",
            "width": 164
           }
          ],
          "columnsGroups": [
           {
            "captionProducer": "firstColumn",
            "cellFactory": "kpi-status",
            "selector": "kpi-status"
           },
           {
            "captionProducer": "firstColumn",
            "cellFactory": "lookup",
            "selector": "lookup"
           },
           {
            "captionProducer": "expiry",
            "cellFactory": "expiry",
            "selector": "kpi-expiry"
           },
           {
            "captionProducer": "columnMerge",
            "cellFactory": {
             "args": {},
             "key": "treeCells"
            },
            "selector": "member"
           }
          ],
          "defaultOptions": {},
          "expansion": {
           "automaticExpansion": true
          },
          "hideAddButton": true,
          "pinnedHeaderSelector": "member",
          "sortingMode": "non-breaking",
          "statisticsShown": true
         }
        },
        "contextValues": {},
        "mdx": "WITH  Member [Measures].[Actual Revenue Lost - Predicted Revenue Lost] AS [Measures].[Actual Revenue Lost] - [Measures].[Predicted Revenue Lost], CAPTION = \"Difference with Actual\", FORE_COLOR = CASE WHEN [Measures].[Actual Revenue Lost - Predicted Revenue Lost] > 0 THEN rgb(255, 0, 0) END, FORMAT_STRING = \"#,###.00\"  SELECT NON EMPTY Hierarchize([Epoch].[Epoch].[Branch].Members) ON ROWS, NON EMPTY {[Measures].[MRR Initial], [Measures].[Actual Revenue Lost], [Measures].[Actual Revenue Lost - Predicted Revenue Lost], [Measures].[Predicted Revenue Lost], [Measures].[NRR]} ON COLUMNS FROM [customer_cube] CELL PROPERTIES BACK_COLOR, FONT_FLAGS, FORE_COLOR, FORMATTED_VALUE, VALUE",
        "ranges": {
         "column": {
          "chunkSize": 50,
          "thresholdPercentage": 0.2
         },
         "row": {
          "chunkSize": 2000,
          "thresholdPercentage": 0.1
         }
        },
        "serverUrl": "",
        "updateMode": "once"
       },
       "containerKey": "pivot-table",
       "showTitleBar": false,
       "style": {}
      }
     }
    },
    "execution": {
     "iopub.execute_input": "2020-07-17T03:09:16.960017Z",
     "iopub.status.busy": "2020-07-17T03:09:13.901619Z",
     "iopub.status.idle": "2020-07-17T03:09:13.902616Z",
     "shell.execute_reply": "2020-07-17T03:09:17.451693Z",
     "shell.execute_reply.started": "2020-07-17T03:09:16.960017Z"
    }
   },
   "outputs": [
    {
     "data": {
      "application/vnd.atoti.v0+json": {
       "cube": "customer_cube",
       "name": "NRR - Actual vs Predicted",
       "session": "Unnamed"
      },
      "text/plain": [
       "Install and enable the atoti JupyterLab extension to see this widget."
      ]
     },
     "metadata": {},
     "output_type": "display_data"
    }
   ],
   "source": [
    "cube.visualize(\"NRR - Actual vs Predicted\")"
   ]
  },
  {
   "cell_type": "markdown",
   "metadata": {
    "execution": {
     "iopub.execute_input": "2020-07-16T10:50:02.048627Z",
     "iopub.status.busy": "2020-07-16T10:50:02.048627Z",
     "iopub.status.idle": "2020-07-16T10:50:02.052603Z",
     "shell.execute_reply": "2020-07-16T10:50:02.051622Z",
     "shell.execute_reply.started": "2020-07-16T10:50:02.048627Z"
    }
   },
   "source": [
    "#### Customer Retention Strategy\n",
    "\n",
    "We have to reduce the rate of attrition before the telco loses all its customers.  \n",
    "To do so, we have 2 potential strategies:\n",
    "1. retain existing customers through better service offers or discounts etc\n",
    "2. replace the churned customers through marketing effort\n",
    "\n",
    "According to [Harvard Business Review](https://hbr.org/2014/10/the-value-of-keeping-the-right-customers), it can cost 5 to 25 times more money to replace a customer than retaining one.  \n",
    "It is not realistic to assume we will be able to retain all customers, so let's make some assumptions:\n",
    "1. We aim to achieve a target NRR of 90%\n",
    "2. We compute the number of customers that we need to retain in order to achieve this target NRR\n",
    "3. For each customer identified, we will set aside a budget of $100 for retention purpose\n",
    "4. We do not know who has really churned yet\n",
    "\n",
    "Let's start by creating a measure for our target NRR. This is so that we can change our target later in our simulations."
   ]
  },
  {
   "cell_type": "code",
   "execution_count": 30,
   "metadata": {
    "execution": {
     "iopub.execute_input": "2020-07-17T03:09:17.451693Z",
     "iopub.status.busy": "2020-07-17T03:09:13.903615Z",
     "iopub.status.idle": "2020-07-17T03:09:13.904610Z",
     "shell.execute_reply": "2020-07-17T03:09:17.575360Z",
     "shell.execute_reply.started": "2020-07-17T03:09:17.451693Z"
    }
   },
   "outputs": [],
   "source": [
    "m[\"TargetNRR\"] = 0.9"
   ]
  },
  {
   "cell_type": "markdown",
   "metadata": {},
   "source": [
    "To achieve the target NRR, we compute the maximum loss possible."
   ]
  },
  {
   "cell_type": "code",
   "execution_count": 31,
   "metadata": {
    "execution": {
     "iopub.execute_input": "2020-07-17T03:09:17.575360Z",
     "iopub.status.busy": "2020-07-17T03:09:13.905607Z",
     "iopub.status.idle": "2020-07-17T03:09:13.905607Z",
     "shell.execute_reply": "2020-07-17T03:09:17.690559Z",
     "shell.execute_reply.started": "2020-07-17T03:09:17.575360Z"
    }
   },
   "outputs": [],
   "source": [
    "m[\"Max Loss Possible\"] = m[\"MRR Initial\"] - (m[\"TargetNRR\"] * m[\"MRR Initial\"])"
   ]
  },
  {
   "cell_type": "markdown",
   "metadata": {},
   "source": [
    "_Revenue Compensation_ here is the amount of money between what we predicted we will be lossing and the maximum loss we can have in order to achieve the target NRR.  \n",
    "We needed this as a target revenue amount that we need to obtain from the customers that are either to be retained or replaced."
   ]
  },
  {
   "cell_type": "code",
   "execution_count": 32,
   "metadata": {
    "execution": {
     "iopub.execute_input": "2020-07-17T03:09:17.690559Z",
     "iopub.status.busy": "2020-07-17T03:09:13.906605Z",
     "iopub.status.idle": "2020-07-17T03:09:13.907603Z",
     "shell.execute_reply": "2020-07-17T03:09:17.804257Z",
     "shell.execute_reply.started": "2020-07-17T03:09:17.690559Z"
    }
   },
   "outputs": [],
   "source": [
    "m[\"Revenue Compensation\"] = m[\"Predicted Revenue Lost\"] - m[\"Max Loss Possible\"]"
   ]
  },
  {
   "cell_type": "markdown",
   "metadata": {},
   "source": [
    "Let's take the average _MonthlyCharges_ of those who are predicted to churn as the amount that each retained customer will give.  \n",
    "Notice we use [`atoti.parent_value`](https://docs.atoti.io/0.4.1/lib/atoti.html?#atoti.parent_value) on the `ChurnMean`, this is because we need this value to be constant across all the customers in order to have a constant retention size.\n",
    "\n",
    "By dividing the _Revenue Compensation_ by the average _MonthlyCharges_, we get the target number of customers to retain for each algorithm."
   ]
  },
  {
   "cell_type": "code",
   "execution_count": 33,
   "metadata": {
    "execution": {
     "iopub.execute_input": "2020-07-17T03:09:17.804257Z",
     "iopub.status.busy": "2020-07-17T03:09:13.908601Z",
     "iopub.status.idle": "2020-07-17T03:09:13.909598Z",
     "shell.execute_reply": "2020-07-17T03:09:18.095478Z",
     "shell.execute_reply.started": "2020-07-17T03:09:17.804257Z"
    }
   },
   "outputs": [],
   "source": [
    "churnMean = tt.agg.mean(\n",
    "    tt.filter(m[\"MonthlyCharges.SUM\"], l[\"ChurnPredicted\"] == \"Yes\"),\n",
    "    scope=tt.scope.origin(l[\"CustomerID\"]),\n",
    ")\n",
    "\n",
    "m[\"Churn MonthlyCharges.MEAN\"] = tt.parent_value(\n",
    "    churnMean, on=h[\"CustomerID\"], total_value=churnMean\n",
    ")\n",
    "\n",
    "m[\"Retention size\"] = tt.total(\n",
    "    tt.ceil(m[\"Revenue Compensation\"] / m[\"Churn MonthlyCharges.MEAN\"]),\n",
    "    on=h[\"ChurnPredicted\"],\n",
    ")"
   ]
  },
  {
   "cell_type": "markdown",
   "metadata": {},
   "source": [
    "Let's also create a measure for _Predicted Churn Count_ so that we can see how many customers are predicted to churn and how many we intent to retain."
   ]
  },
  {
   "cell_type": "code",
   "execution_count": 34,
   "metadata": {
    "execution": {
     "iopub.execute_input": "2020-07-17T03:09:18.095478Z",
     "iopub.status.busy": "2020-07-17T03:09:13.909598Z",
     "iopub.status.idle": "2020-07-17T03:09:13.910595Z",
     "shell.execute_reply": "2020-07-17T03:09:18.310901Z",
     "shell.execute_reply.started": "2020-07-17T03:09:18.095478Z"
    }
   },
   "outputs": [],
   "source": [
    "m[\"Predicted Churn Count\"] = tt.agg.sum(\n",
    "    tt.filter(m[\"contributors.COUNT\"], l[\"ChurnPredicted\"] == \"Yes\"),\n",
    "    scope=tt.scope.origin(l[\"CustomerID\"]),\n",
    ")"
   ]
  },
  {
   "cell_type": "code",
   "execution_count": 36,
   "metadata": {
    "atoti": {
     "height": 219,
     "state": {
      "name": "Predicted churn vs retention size",
      "type": "container",
      "value": {
       "body": {
        "configuration": {
         "tabular": {
          "addButtonFilter": "numeric",
          "cellRenderers": [
           "tree-layout"
          ],
          "columns": [
           {
            "key": "[Measures].[Churn MonthlyCharges.MEAN]",
            "width": 174
           },
           {
            "key": "[Measures].[Revenue Compensation]",
            "width": 178
           },
           {
            "key": "[Measures].[Predicted Churn Count]",
            "width": 154
           }
          ],
          "columnsGroups": [
           {
            "captionProducer": "firstColumn",
            "cellFactory": "kpi-status",
            "selector": "kpi-status"
           },
           {
            "captionProducer": "firstColumn",
            "cellFactory": "lookup",
            "selector": "lookup"
           },
           {
            "captionProducer": "expiry",
            "cellFactory": "expiry",
            "selector": "kpi-expiry"
           },
           {
            "captionProducer": "columnMerge",
            "cellFactory": {
             "args": {},
             "key": "treeCells"
            },
            "selector": "member"
           }
          ],
          "defaultOptions": {},
          "expansion": {
           "automaticExpansion": true
          },
          "hideAddButton": true,
          "pinnedHeaderSelector": "member",
          "sortingMode": "non-breaking",
          "statisticsShown": true
         }
        },
        "contextValues": {},
        "mdx": "SELECT NON EMPTY {[Measures].[Revenue Compensation], [Measures].[Churn MonthlyCharges.MEAN], [Measures].[Predicted Churn Count], [Measures].[Retention size]} ON COLUMNS, NON EMPTY Hierarchize([Epoch].[Epoch].[Branch].Members) ON ROWS FROM [customer_cube] CELL PROPERTIES VALUE, FORMATTED_VALUE, BACK_COLOR, FORE_COLOR, FONT_FLAGS",
        "ranges": {
         "column": {
          "chunkSize": 50,
          "thresholdPercentage": 0.2
         },
         "row": {
          "chunkSize": 2000,
          "thresholdPercentage": 0.1
         }
        },
        "serverUrl": "",
        "updateMode": "once"
       },
       "containerKey": "pivot-table",
       "showTitleBar": false,
       "style": {}
      }
     }
    },
    "execution": {
     "iopub.execute_input": "2020-07-17T03:09:18.311904Z",
     "iopub.status.busy": "2020-07-17T03:09:13.911594Z",
     "iopub.status.idle": "2020-07-17T03:09:13.912590Z",
     "shell.execute_reply": "2020-07-17T03:09:18.839448Z",
     "shell.execute_reply.started": "2020-07-17T03:09:18.311904Z"
    }
   },
   "outputs": [
    {
     "data": {
      "application/vnd.atoti.v0+json": {
       "cube": "customer_cube",
       "name": "Predicted churn vs retention size",
       "session": "Unnamed"
      },
      "text/plain": [
       "Install and enable the atoti JupyterLab extension to see this widget."
      ]
     },
     "metadata": {},
     "output_type": "display_data"
    }
   ],
   "source": [
    "cube.visualize(\"Predicted churn vs retention size\")"
   ]
  },
  {
   "cell_type": "markdown",
   "metadata": {},
   "source": [
    "Now that we know the estimated number of customers to retain, how do we identify who to retain?  \n",
    "During data clean up, we ensured that only predicted churn customers have a value under _ChurnProbability_ and therefore eligible for retention.  \n",
    "However, we increase this possibility in _churnPositive_ if the _MonthyCharges_ of the customer is higher or equal to the average as the higher their recurring charges, the less customers we need to retain.\n",
    "\n",
    "We will be ranking the customers who has the highest possibility to churn by using [`atoti.rank`](https://docs.atoti.io/0.4.1/lib/atoti.html?#atoti.rank).  \n",
    "This allows us to identify the customers to be retained as those whose rank is lesser or equal to the retention size."
   ]
  },
  {
   "cell_type": "code",
   "execution_count": 37,
   "metadata": {
    "execution": {
     "iopub.execute_input": "2020-07-17T03:09:18.840445Z",
     "iopub.status.busy": "2020-07-17T03:09:13.913587Z",
     "iopub.status.idle": "2020-07-17T03:09:13.913587Z",
     "shell.execute_reply": "2020-07-17T03:09:19.069729Z",
     "shell.execute_reply.started": "2020-07-17T03:09:18.839448Z"
    }
   },
   "outputs": [],
   "source": [
    "# we only rank those customers who are churning. We give higher weightage to customer with higher charge so as to minimize the lost\n",
    "m[\"churnPositive\"] = tt.where(\n",
    "    (m[\"MonthlyCharges.MEAN\"] >= m[\"Churn MonthlyCharges.MEAN\"])\n",
    "    & (m[\"ChurnProbability.MEAN\"] > 0),\n",
    "    m[\"ChurnProbability.MEAN\"] + 1,\n",
    "    m[\"ChurnProbability.MEAN\"],\n",
    ")\n",
    "\n",
    "m[\"Churn Rank\"] = tt.rank(\n",
    "    m[\"churnPositive\"], h[\"CustomerID\"], ascending=False, apply_filters=True\n",
    ")"
   ]
  },
  {
   "cell_type": "markdown",
   "metadata": {},
   "source": [
    "So let's set our _Retention budget_ and _Marketing budget_.\n",
    "\n",
    "For the customers identified for retention, we create a measure _Forecast Expense_ where we spend the _Retention budget_ and a measure _Full recruitment expense_ where we spend the _Marketing budget_."
   ]
  },
  {
   "cell_type": "code",
   "execution_count": 38,
   "metadata": {
    "execution": {
     "iopub.execute_input": "2020-07-17T03:09:19.069729Z",
     "iopub.status.busy": "2020-07-17T03:09:13.914584Z",
     "iopub.status.idle": "2020-07-17T03:09:13.915582Z",
     "shell.execute_reply": "2020-07-17T03:09:19.635759Z",
     "shell.execute_reply.started": "2020-07-17T03:09:19.069729Z"
    }
   },
   "outputs": [],
   "source": [
    "m[\"Retention budget\"] = 100\n",
    "m[\"Marketing budget\"] = 500\n",
    "\n",
    "# we spent $100 on each of the customers identified and managed to retain all of them\n",
    "m[\"Forecast expense\"] = tt.agg.sum(\n",
    "    tt.where(\n",
    "        (m[\"Churn Rank\"] <= m[\"Retention size\"]) & (m[\"churnPositive\"] > 0),\n",
    "        m[\"Retention budget\"],\n",
    "        0,\n",
    "    ),\n",
    "    scope=tt.scope.origin(l[\"CustomerID\"]),\n",
    ")\n",
    "\n",
    "# we retained none of the customers, hence spending $500 to recruit number of new customers equivalent to the retention size\n",
    "m[\"Full recruitment expense\"] = tt.agg.sum(\n",
    "    tt.where(\n",
    "        (m[\"Churn Rank\"] <= m[\"Retention size\"]) & (m[\"churnPositive\"] > 0),\n",
    "        m[\"Marketing budget\"],\n",
    "        0,\n",
    "    ),\n",
    "    scope=tt.scope.origin(l[\"CustomerID\"]),\n",
    ")"
   ]
  },
  {
   "cell_type": "markdown",
   "metadata": {},
   "source": [
    "Based on the predicted churn, we see the expenses that we needed to maintain 90% NRR either to retain or replace the retention size.  \n",
    "We see the amount of saving we will have if we retained successfully our target customers.  \n",
    "We also see that _Logistic Regression Prediction_ allows us to maintain the same NRR with the lowest amount of money."
   ]
  },
  {
   "cell_type": "code",
   "execution_count": 40,
   "metadata": {
    "atoti": {
     "state": {
      "name": "Expenses on effort to maintain 90% NRR",
      "type": "container",
      "value": {
       "body": {
        "configuration": {
         "mapping": {
          "horizontalSubplots": [],
          "splitBy": [],
          "values": [
           "[Measures].[Forecast expense]",
           "[Measures].[Full recruitment expense]",
           "[Measures].[Saving]"
          ],
          "verticalSubplots": [],
          "xAxis": [
           "[Epoch].[Epoch].[Branch]"
          ]
         },
         "type": "plotly-clustered-column-chart"
        },
        "query": {
         "mdx": "WITH  Member [Measures].[Saving] AS [Measures].[Full recruitment expense] - [Measures].[Forecast expense], FORMAT_STRING = \"#,###.##\"  SELECT NON EMPTY Order([Epoch].[Epoch].[Branch].Members, [Measures].[Forecast expense], BASC) ON ROWS, NON EMPTY {[Measures].[Forecast expense], [Measures].[Full recruitment expense], [Measures].[Saving]} ON COLUMNS FROM [customer_cube] CELL PROPERTIES BACK_COLOR, FONT_FLAGS, FORE_COLOR, FORMATTED_VALUE, VALUE",
         "serverUrl": "",
         "updateMode": "once"
        }
       },
       "containerKey": "chart",
       "showTitleBar": false,
       "style": {}
      }
     }
    },
    "execution": {
     "iopub.execute_input": "2020-07-17T03:09:19.635759Z",
     "iopub.status.busy": "2020-07-17T03:09:13.916579Z",
     "iopub.status.idle": "2020-07-17T03:09:13.916579Z",
     "shell.execute_reply": "2020-07-17T03:09:20.522331Z",
     "shell.execute_reply.started": "2020-07-17T03:09:19.635759Z"
    }
   },
   "outputs": [
    {
     "data": {
      "application/vnd.atoti.v0+json": {
       "cube": "customer_cube",
       "name": "Expenses on effort to maintain 90% NRR",
       "session": "Unnamed"
      },
      "text/plain": [
       "Install and enable the atoti JupyterLab extension to see this widget."
      ]
     },
     "metadata": {},
     "output_type": "display_data"
    }
   ],
   "source": [
    "cube.visualize(\"Expenses on effort to maintain 90% NRR\")"
   ]
  },
  {
   "cell_type": "markdown",
   "metadata": {},
   "source": [
    "#### Reality check\n",
    "\n",
    "Now let's compare our prediction against the actual churn results.\n",
    "\n",
    "We assume that those who we attempt to retain did not churn, the retention campaign is successful.  \n",
    "However, there are those who we didn't predict they will churn, and in fact churned.  \n",
    "We compute the new revenue lost on these assumption and understanding."
   ]
  },
  {
   "cell_type": "code",
   "execution_count": 41,
   "metadata": {
    "execution": {
     "iopub.execute_input": "2020-07-17T03:09:20.522331Z",
     "iopub.status.busy": "2020-07-17T03:09:13.917576Z",
     "iopub.status.idle": "2020-07-17T03:09:13.918574Z",
     "shell.execute_reply": "2020-07-17T03:09:20.837154Z",
     "shell.execute_reply.started": "2020-07-17T03:09:20.522331Z"
    }
   },
   "outputs": [],
   "source": [
    "# those that were not predicted correctly by the algorithm or those that we did not attempt to retain will make up the revenue lost\n",
    "m[\"Post retention revenue lost\"] = tt.agg.sum(\n",
    "    tt.where(\n",
    "        m[\"Forecast expense\"] == 100,\n",
    "        0,\n",
    "        tt.where(l[\"Churn\"] == \"Yes\", m[\"MonthlyCharges.SUM\"], 0),\n",
    "    ),\n",
    "    scope=tt.scope.origin(l[\"CustomerID\"]),\n",
    ")\n",
    "# m[\"NRR\"] = (m[\"MonthlyCharges.SUM\"] - m[\"Lost Revenue\"]) / m[\"MonthlyCharges.SUM\"]\n",
    "\n",
    "m[\"Post retention NRR\"] = (\n",
    "    m[\"MonthlyCharges.SUM\"] - m[\"Post retention revenue lost\"]\n",
    ") / m[\"MonthlyCharges.SUM\"]"
   ]
  },
  {
   "cell_type": "markdown",
   "metadata": {},
   "source": [
    "In the table below, we see that NRR across the different prediction is above 80%, with _Naive Bayes Prediction_ retaining the most revenue (ignoring the base scenario).  \n",
    "However, it also incurrs the most expenses in retention which we saw earlier. This could be explained by the fact that it has a larger retention size of 2,354 compared to the rest.  \n",
    "This greatly increases the chances of identifying the correct customer who will churn compared to the rest of the prediction models."
   ]
  },
  {
   "cell_type": "code",
   "execution_count": 43,
   "metadata": {
    "atoti": {
     "height": 226,
     "state": {
      "name": "NRR after retention effort",
      "type": "container",
      "value": {
       "body": {
        "configuration": {
         "tabular": {
          "addButtonFilter": "numeric",
          "cellRenderers": [
           "tree-layout"
          ],
          "columnOrder": {
           "args": {
            "orderedColumns": [
             "c-treeCells-member",
             "[Measures].[MRR Initial]",
             "[Measures].[Actual Revenue Lost]",
             "[Measures].[Post retention revenue lost]",
             "[Measures].[Actual Revenue Lost - Post retention revenue lost]",
             "[Measures].[NRR (1)]",
             "[Measures].[Post retention NRR (1)]",
             "[Measures].[NRR - Post retention NRR]"
            ]
           },
           "key": "explicit"
          },
          "columns": [
           {
            "hide": false,
            "key": "[Measures].[Actual Revenue Lost - Predicted Revenue Lost]",
            "width": 151
           },
           {
            "key": "c-treeCells-member",
            "width": 245
           },
           {
            "hide": false,
            "key": "[Measures].[Predicted Revenue Lost]",
            "width": 164
           },
           {
            "hide": false,
            "key": "[Measures].[Actual Revenue Lost]",
            "width": 137
           },
           {
            "hide": false,
            "key": "[Measures].[Post retention revenue lost]",
            "width": 154
           }
          ],
          "columnsGroups": [
           {
            "captionProducer": "firstColumn",
            "cellFactory": "kpi-status",
            "selector": "kpi-status"
           },
           {
            "captionProducer": "firstColumn",
            "cellFactory": "lookup",
            "selector": "lookup"
           },
           {
            "captionProducer": "expiry",
            "cellFactory": "expiry",
            "selector": "kpi-expiry"
           },
           {
            "captionProducer": "columnMerge",
            "cellFactory": {
             "args": {},
             "key": "treeCells"
            },
            "selector": "member"
           }
          ],
          "defaultOptions": {},
          "expansion": {
           "automaticExpansion": true
          },
          "hideAddButton": true,
          "pinnedHeaderSelector": "member",
          "sortingMode": "non-breaking",
          "statisticsShown": true
         }
        },
        "contextValues": {},
        "mdx": "WITH  Member [Measures].[NRR - Post retention NRR] AS [Measures].[Post retention NRR] - [Measures].[NRR], CAPTION = \"Increase in NRR\", FORMAT_STRING = \"#,###.000\"    Member [Measures].[Post retention NRR (1)] AS [Measures].[Post retention NRR], FORMAT_STRING = \"#,###.000\", CAPTION = [Measures].[Post retention NRR].MEMBER_CAPTION    Member [Measures].[NRR (1)] AS [Measures].[NRR], FORMAT_STRING = \"#,###.000\", CAPTION = [Measures].[NRR].MEMBER_CAPTION    Member [Measures].[Actual Revenue Lost - Post retention revenue lost] AS [Measures].[Actual Revenue Lost] - [Measures].[Post retention revenue lost], CAPTION = \"Revenue Retained\", FORMAT_STRING = \"#,###.00\"  SELECT NON EMPTY Hierarchize([Epoch].[Epoch].[Branch].Members) ON ROWS, NON EMPTY {[Measures].[MRR Initial], [Measures].[Actual Revenue Lost], [Measures].[Post retention revenue lost], [Measures].[NRR (1)], [Measures].[Post retention NRR (1)], [Measures].[NRR - Post retention NRR], [Measures].[Actual Revenue Lost - Post retention revenue lost]} ON COLUMNS FROM [customer_cube] CELL PROPERTIES BACK_COLOR, FONT_FLAGS, FORE_COLOR, FORMATTED_VALUE, VALUE",
        "ranges": {
         "column": {
          "chunkSize": 50,
          "thresholdPercentage": 0.2
         },
         "row": {
          "chunkSize": 2000,
          "thresholdPercentage": 0.1
         }
        },
        "serverUrl": "",
        "updateMode": "once"
       },
       "containerKey": "pivot-table",
       "showTitleBar": false,
       "style": {}
      }
     }
    },
    "execution": {
     "iopub.execute_input": "2020-07-17T03:09:20.837154Z",
     "iopub.status.busy": "2020-07-17T03:09:13.919571Z",
     "iopub.status.idle": "2020-07-17T03:09:13.919571Z",
     "shell.execute_reply": "2020-07-17T03:09:22.152977Z",
     "shell.execute_reply.started": "2020-07-17T03:09:20.837154Z"
    }
   },
   "outputs": [
    {
     "data": {
      "application/vnd.atoti.v0+json": {
       "cube": "customer_cube",
       "name": "NRR after retention effort",
       "session": "Unnamed"
      },
      "text/plain": [
       "Install and enable the atoti JupyterLab extension to see this widget."
      ]
     },
     "metadata": {},
     "output_type": "display_data"
    }
   ],
   "source": [
    "cube.visualize(\"NRR after retention effort\")"
   ]
  },
  {
   "cell_type": "markdown",
   "metadata": {},
   "source": [
    "There exists a possibility that a customer has been predicted to churn but in fact, did not. In this case, the retention budget is kind of wasted.  \n",
    "We can see this in _Naive Bayes Prediction_ where it predicted 3,012 customers churning but only 1,508 of these customers actually churned.  \n",
    "\n",
    "Let's see how much of the expense was actually well-spent."
   ]
  },
  {
   "cell_type": "code",
   "execution_count": 44,
   "metadata": {
    "execution": {
     "iopub.execute_input": "2020-07-17T03:09:22.152977Z",
     "iopub.status.busy": "2020-07-17T03:09:13.920568Z",
     "iopub.status.idle": "2020-07-17T03:09:13.921566Z",
     "shell.execute_reply": "2020-07-17T03:09:22.360224Z",
     "shell.execute_reply.started": "2020-07-17T03:09:22.152977Z"
    }
   },
   "outputs": [],
   "source": [
    "# the number of $100 spent who had no intention to churn at all, which meant a wrong prediction is made\n",
    "# we need to spend $500 to get replace these customers in order to achieve the 90% NRR\n",
    "m[\"Successful Retention Expense\"] = tt.agg.sum(\n",
    "    tt.where(\n",
    "        (m[\"Forecast expense\"] == 100) & (l[\"Churn\"] == \"Yes\"), m[\"Forecast expense\"], 0\n",
    "    ),\n",
    "    scope=tt.scope.origin(l[\"CustomerID\"]),\n",
    ")"
   ]
  },
  {
   "cell_type": "code",
   "execution_count": 46,
   "metadata": {
    "atoti": {
     "state": {
      "name": "Successful retention with respect to expenses",
      "type": "container",
      "value": {
       "body": {
        "configuration": {
         "mapping": {
          "horizontalSubplots": [],
          "splitBy": [],
          "values": [
           "[Measures].[Forecast expense]",
           "[Measures].[Successful Retention Expense]"
          ],
          "verticalSubplots": [],
          "xAxis": [
           "[Epoch].[Epoch].[Branch]"
          ]
         },
         "switchedTo": "plotly-clustered-column-chart",
         "type": "plotly-line-chart"
        },
        "query": {
         "mdx": "SELECT NON EMPTY {[Measures].[Forecast expense], [Measures].[Successful Retention Expense]} ON COLUMNS, NON EMPTY [Epoch].[Epoch].[Branch].Members ON ROWS FROM [customer_cube] CELL PROPERTIES VALUE, FORMATTED_VALUE, BACK_COLOR, FORE_COLOR, FONT_FLAGS",
         "serverUrl": "",
         "updateMode": "once"
        }
       },
       "containerKey": "chart",
       "showTitleBar": false,
       "style": {}
      }
     }
    },
    "execution": {
     "iopub.execute_input": "2020-07-17T03:09:22.360224Z",
     "iopub.status.busy": "2020-07-17T03:09:13.921566Z",
     "iopub.status.idle": "2020-07-17T03:09:13.922565Z",
     "shell.execute_reply": "2020-07-17T03:09:23.202483Z",
     "shell.execute_reply.started": "2020-07-17T03:09:22.360224Z"
    }
   },
   "outputs": [
    {
     "data": {
      "application/vnd.atoti.v0+json": {
       "cube": "customer_cube",
       "name": "Successful retention with respect to expenses",
       "session": "Unnamed"
      },
      "text/plain": [
       "Install and enable the atoti JupyterLab extension to see this widget."
      ]
     },
     "metadata": {},
     "output_type": "display_data"
    }
   ],
   "source": [
    "cube.visualize(\"Successful retention with respect to expenses\")"
   ]
  },
  {
   "cell_type": "markdown",
   "metadata": {},
   "source": [
    "For those models that didn't meet the 90% target NRR, chances are that it identified customers who didn't actually churn within the retention list.  \n",
    "Now we need to make up for this gap in the NRR, let's see how many new customers we need to recruit.  \n",
    "\n",
    "Again, we compute the difference between our _Post retention revenue lost_ with the _Max Loss Possible_ to see how much revenue we need to replace."
   ]
  },
  {
   "cell_type": "code",
   "execution_count": 47,
   "metadata": {
    "execution": {
     "iopub.execute_input": "2020-07-17T03:09:23.202483Z",
     "iopub.status.busy": "2020-07-17T03:09:13.923561Z",
     "iopub.status.idle": "2020-07-17T03:09:13.924558Z",
     "shell.execute_reply": "2020-07-17T03:09:23.443842Z",
     "shell.execute_reply.started": "2020-07-17T03:09:23.202483Z"
    }
   },
   "outputs": [],
   "source": [
    "gap_to_target_nrr = m[\"TargetNRR\"] - m[\"Post retention NRR\"]\n",
    "\n",
    "m[\"Gap in revenue lost\"] = m[\"Post retention revenue lost\"] - m[\"Max Loss Possible\"]\n",
    "\n",
    "m[\"Clients to replace\"] = tt.total(\n",
    "    tt.where(\n",
    "        m[\"Gap in revenue lost\"] > 0,\n",
    "        tt.ceil(m[\"Gap in revenue lost\"] / m[\"Churn MonthlyCharges.MEAN\"]),\n",
    "        0,\n",
    "    ),\n",
    "    on=h[\"ChurnPredicted\"],\n",
    ")"
   ]
  },
  {
   "cell_type": "markdown",
   "metadata": {},
   "source": [
    "Money spent on retention is already spent. We have to add on marketing expense for replacing the customers.  \n",
    "Let's compute the _Actual Expense_."
   ]
  },
  {
   "cell_type": "code",
   "execution_count": 48,
   "metadata": {
    "execution": {
     "iopub.execute_input": "2020-07-17T03:09:23.444830Z",
     "iopub.status.busy": "2020-07-17T03:09:13.925555Z",
     "iopub.status.idle": "2020-07-17T03:09:13.925555Z",
     "shell.execute_reply": "2020-07-17T03:09:23.661858Z",
     "shell.execute_reply.started": "2020-07-17T03:09:23.443842Z"
    }
   },
   "outputs": [],
   "source": [
    "m[\"Actual Marketing budget\"] = m[\"Clients to replace\"] * m[\"Marketing budget\"]\n",
    "m[\"Actual Expense\"] = m[\"Forecast expense\"] + m[\"Actual Marketing budget\"]"
   ]
  },
  {
   "cell_type": "markdown",
   "metadata": {},
   "source": [
    "Surprisingly, when we look at the NRR which are now above 90%, _Logistic Regression (SMOTE) Prediction_ turns out to be the most cost effective model!  "
   ]
  },
  {
   "cell_type": "code",
   "execution_count": 50,
   "metadata": {
    "atoti": {
     "height": 239,
     "state": {
      "name": "",
      "type": "container",
      "value": {
       "body": {
        "configuration": {
         "tabular": {
          "addButtonFilter": "numeric",
          "cellRenderers": [
           "tree-layout"
          ],
          "columnOrder": {
           "args": {
            "orderedColumns": [
             "c-treeCells-member",
             "[Measures].[Clients to replace]",
             "[Measures].[Final Revenue Lost]",
             "[Measures].[Post retention NRR (2)]",
             "[Measures].[Final NRR]",
             "[Measures].[Actual Expense (1)]"
            ]
           },
           "key": "explicit"
          },
          "columns": [
           {
            "key": "c-treeCells-member",
            "width": 258
           },
           {
            "hide": false,
            "key": "[Measures].[Post retention revenue lost]",
            "width": 198
           },
           {
            "key": "[Measures].[iif([Customer]].[Churn]].[ALL]].[AllMember]].[Yes]], 1, 0)]",
            "width": 903
           },
           {
            "key": "([Customer].[ChurnPredicted].[ALL].[AllMember].[No],[Measures].[PredictionAccuracy.SUM])",
            "width": 193
           },
           {
            "key": "([Customer].[ChurnPredicted].[ALL].[AllMember].[Yes],[Measures].[PredictionAccuracy.SUM])",
            "width": 182
           },
           {
            "key": "([Customer].[ChurnPredicted].[ALL].[AllMember].[Yes],[Measures].[contributors.COUNT])",
            "width": 140
           },
           {
            "hide": false,
            "key": "[Measures].[Predicted Revenue Lost]",
            "width": 140
           },
           {
            "hide": false,
            "key": "[Measures].[Predicted Revenue Lost - Post retention revenue lost]",
            "width": 100
           },
           {
            "hide": false,
            "key": "[Measures].[NRR (1) - NRR post retention (1)]",
            "width": 150
           },
           {
            "key": "[Measures].[MRR Initial]",
            "width": 128
           },
           {
            "hide": false,
            "key": "[Measures].[Revenue Compensation]",
            "width": 146
           },
           {
            "key": "[Measures].[NRR post retention (1) - NRR (1)]",
            "width": 141
           },
           {
            "key": "[Measures].[Retention size]",
            "width": 93
           },
           {
            "key": "[Measures].[NRR post retention (2)]",
            "width": 125
           },
           {
            "key": "[Measures].[Actual Expense]",
            "width": 133
           }
          ],
          "columnsGroups": [
           {
            "captionProducer": "firstColumn",
            "cellFactory": "kpi-status",
            "selector": "kpi-status"
           },
           {
            "captionProducer": "firstColumn",
            "cellFactory": "lookup",
            "selector": "lookup"
           },
           {
            "captionProducer": "expiry",
            "cellFactory": "expiry",
            "selector": "kpi-expiry"
           },
           {
            "captionProducer": "columnMerge",
            "cellFactory": {
             "args": {},
             "key": "treeCells"
            },
            "selector": "member"
           }
          ],
          "defaultOptions": {},
          "expansion": {
           "automaticExpansion": true
          },
          "hideAddButton": true,
          "pinnedHeaderSelector": "member",
          "sortingMode": "non-breaking",
          "statisticsShown": true
         }
        },
        "contextValues": {},
        "mdx": "WITH  Member [Measures].[Post retention NRR (1)] AS [Measures].[Post retention NRR], FORMAT_STRING = \"#,###.0000\", CAPTION = [Measures].[Post retention NRR].MEMBER_CAPTION    Member [Measures].[NRR (1)] AS [Measures].[NRR], FORMAT_STRING = \"#,###.0000\", CAPTION = [Measures].[NRR].MEMBER_CAPTION    Member [Measures].[[Epoch]].[Epoch]].[Branch]]_for_order] AS [Epoch].[Epoch].CurrentMember.MEMBER_VALUE    Member [Measures].[Post retention NRR (2)] AS [Measures].[Post retention NRR], FORMAT_STRING = \"#,###.000\", CAPTION = [Measures].[Post retention NRR].MEMBER_CAPTION    Member [Measures].[Final Revenue Lost] AS ([Measures].[Post retention revenue lost] - ([Measures].[Clients to replace] * [Measures].[Churn MonthlyCharges.MEAN])), FORMAT_STRING = \"#,###.##\"    Member [Measures].[Final NRR] AS ([Measures].[MRR Initial] - [Measures].[Final Revenue Lost]) / [Measures].[MRR Initial], FORMAT_STRING = \"#,###.000\"    Member [Measures].[Actual Expense (1)] AS [Measures].[Actual Expense], CAPTION = [Measures].[Actual Expense].MEMBER_CAPTION, BACK_COLOR = \"transparent\", FORMAT_STRING = \"#,###\", FONT_FLAGS = 1, FORE_COLOR = rgb(0, 0, 255)  SELECT NON EMPTY Order(Hierarchize(Union([Epoch].[Epoch].[Branch].Members, [Epoch].[Epoch].[Branch].[Logistic Regression Prediction])), [Measures].[[Epoch]].[Epoch]].[Branch]]_for_order], ASC) ON ROWS, NON EMPTY {[Measures].[Post retention NRR (2)], [Measures].[Clients to replace], [Measures].[Actual Expense (1)], [Measures].[Final Revenue Lost], [Measures].[Final NRR]} ON COLUMNS FROM [customer_cube] CELL PROPERTIES BACK_COLOR, FONT_FLAGS, FORE_COLOR, FORMATTED_VALUE, VALUE",
        "ranges": {
         "column": {
          "chunkSize": 50,
          "thresholdPercentage": 0.2
         },
         "row": {
          "chunkSize": 2000,
          "thresholdPercentage": 0.1
         }
        },
        "serverUrl": "",
        "updateMode": "once"
       },
       "containerKey": "pivot-table",
       "showTitleBar": false,
       "style": {}
      }
     }
    },
    "execution": {
     "iopub.execute_input": "2020-07-17T03:09:23.661858Z",
     "iopub.status.busy": "2020-07-17T03:09:13.926551Z",
     "iopub.status.idle": "2020-07-17T03:09:13.927549Z",
     "shell.execute_reply": "2020-07-17T03:09:24.882990Z",
     "shell.execute_reply.started": "2020-07-17T03:09:23.661858Z"
    }
   },
   "outputs": [
    {
     "data": {
      "application/vnd.atoti.v0+json": {
       "cube": "customer_cube",
       "name": null,
       "session": "Unnamed"
      },
      "text/plain": [
       "Install and enable the atoti JupyterLab extension to see this widget."
      ]
     },
     "metadata": {},
     "output_type": "display_data"
    }
   ],
   "source": [
    "cube.visualize()"
   ]
  },
  {
   "cell_type": "markdown",
   "metadata": {},
   "source": [
    "Now if we compare _Logistic Regression (SMOTE) Prediction_ against _Naive Bayes Prediction_ that has the highest NRR, we see that for a 23% difference in revenue lost, we have to spend 29% more to achieve 90% NRR.  \n",
    "However, do keep in mind that the expense (difference of \\\\$53,200) is one time off, while the revenue (difference of \\\\$10,487.41) is recurring. \n",
    "It will take approximately 5 months to earn back the extra expense spent.  \n",
    "So we have to weight which model brings better value to the telco."
   ]
  },
  {
   "cell_type": "code",
   "execution_count": 52,
   "metadata": {
    "atoti": {
     "height": 143,
     "state": {
      "name": "Naive Bayes vs Logistic Regression (SMOTE)",
      "type": "container",
      "value": {
       "body": {
        "configuration": {
         "featuredValues": {}
        },
        "contextValues": {},
        "mdx": "WITH  Member [Measures].[Final Revenue Lost] AS ([Measures].[Post retention revenue lost] - ([Measures].[Clients to replace] * [Measures].[Churn MonthlyCharges.MEAN])), FORMAT_STRING = \"#,###.##\"  SELECT NON EMPTY {[Measures].[Final Revenue Lost], [Measures].[Actual Expense]} ON COLUMNS, {[Epoch].[Epoch].[Naive Bayes Prediction], [Epoch].[Epoch].[Logistic Regression (SMOTE) Prediction]} ON PAGES FROM [customer_cube] CELL PROPERTIES BACK_COLOR, FONT_FLAGS, FORE_COLOR, FORMATTED_VALUE, VALUE",
        "ranges": {
         "column": {
          "chunkSize": 20,
          "thresholdPercentage": 0.1
         },
         "row": {
          "chunkSize": 20,
          "thresholdPercentage": 0.1
         }
        },
        "serverUrl": "",
        "updateMode": "once"
       },
       "containerKey": "featured-values",
       "showTitleBar": false,
       "style": {}
      }
     }
    },
    "execution": {
     "iopub.execute_input": "2020-07-17T03:09:24.882990Z",
     "iopub.status.busy": "2020-07-17T03:09:13.928547Z",
     "iopub.status.idle": "2020-07-17T03:09:13.929544Z",
     "shell.execute_reply": "2020-07-17T03:09:25.318356Z",
     "shell.execute_reply.started": "2020-07-17T03:09:24.882990Z"
    }
   },
   "outputs": [
    {
     "data": {
      "application/vnd.atoti.v0+json": {
       "cube": "customer_cube",
       "name": "Naive Bayes vs Logistic Regression (SMOTE)",
       "session": "Unnamed"
      },
      "text/plain": [
       "Install and enable the atoti JupyterLab extension to see this widget."
      ]
     },
     "metadata": {},
     "output_type": "display_data"
    }
   ],
   "source": [
    "cube.visualize(\"Naive Bayes vs Logistic Regression (SMOTE)\")"
   ]
  },
  {
   "cell_type": "markdown",
   "metadata": {},
   "source": [
    "## What-if we want 95% NRR?\n",
    "\n",
    "We can easily setup the simulation that allow us to replace the _TargetNRR_."
   ]
  },
  {
   "cell_type": "code",
   "execution_count": 53,
   "metadata": {
    "execution": {
     "iopub.execute_input": "2020-07-17T03:09:25.318356Z",
     "iopub.status.busy": "2020-07-17T03:09:13.930542Z",
     "iopub.status.idle": "2020-07-17T03:09:13.931539Z",
     "shell.execute_reply": "2020-07-17T03:09:26.019576Z",
     "shell.execute_reply.started": "2020-07-17T03:09:25.318356Z"
    }
   },
   "outputs": [],
   "source": [
    "NRR_simulation = cube.setup_simulation(\n",
    "    \"NRR Simulation\", base_scenario=\"90% NRR\", replace=[m[\"TargetNRR\"]],\n",
    ").scenarios\n",
    "\n",
    "NRR_simulation[\"95% NRR\"] = 0.95"
   ]
  },
  {
   "cell_type": "markdown",
   "metadata": {},
   "source": [
    "We see the expense to achieve 95% NRR is close to 1.5 times the expense to achieve 90% NRR.  \n",
    "All the predictions have a gap with the targeted NRR, hence requires new recruitment of customers to replace those who have churn.  \n",
    "This consequently results in higher expenses."
   ]
  },
  {
   "cell_type": "code",
   "execution_count": 55,
   "metadata": {
    "atoti": {
     "height": 249,
     "state": {
      "name": "",
      "type": "container",
      "value": {
       "body": {
        "configuration": {
         "tabular": {
          "addButtonFilter": "numeric",
          "cellRenderers": [
           "tree-layout"
          ],
          "columnOrder": {
           "args": {
            "orderedColumns": [
             "c-treeCells-member",
             "([Measure Simulations].[NRR Simulation].[NRR Simulation].[90% NRR],[Measures].[Clients to replace])",
             "([Measure Simulations].[NRR Simulation].[NRR Simulation].[90% NRR],[Measures].[Final Revenue Lost])",
             "([Measure Simulations].[NRR Simulation].[NRR Simulation].[90% NRR],[Measures].[Actual Expense (1)])",
             "([Measure Simulations].[NRR Simulation].[NRR Simulation].[90% NRR],[Measures].[Post retention NRR (2)])",
             "([Measure Simulations].[NRR Simulation].[NRR Simulation].[90% NRR],[Measures].[Final NRR])",
             "([Measure Simulations].[NRR Simulation].[NRR Simulation].[95% NRR],[Measures].[Clients to replace])",
             "([Measure Simulations].[NRR Simulation].[NRR Simulation].[95% NRR],[Measures].[Final Revenue Lost])",
             "([Measure Simulations].[NRR Simulation].[NRR Simulation].[95% NRR],[Measures].[Actual Expense (1)])",
             "([Measure Simulations].[NRR Simulation].[NRR Simulation].[95% NRR],[Measures].[Post retention NRR (2)])",
             "([Measure Simulations].[NRR Simulation].[NRR Simulation].[95% NRR],[Measures].[Final NRR])"
            ]
           },
           "key": "explicit"
          },
          "columns": [
           {
            "key": "c-treeCells-member",
            "width": 258
           },
           {
            "hide": false,
            "key": "[Measures].[Post retention revenue lost]",
            "width": 198
           },
           {
            "key": "[Measures].[iif([Customer]].[Churn]].[ALL]].[AllMember]].[Yes]], 1, 0)]",
            "width": 903
           },
           {
            "key": "([Customer].[ChurnPredicted].[ALL].[AllMember].[No],[Measures].[PredictionAccuracy.SUM])",
            "width": 193
           },
           {
            "key": "([Customer].[ChurnPredicted].[ALL].[AllMember].[Yes],[Measures].[PredictionAccuracy.SUM])",
            "width": 182
           },
           {
            "key": "([Customer].[ChurnPredicted].[ALL].[AllMember].[Yes],[Measures].[contributors.COUNT])",
            "width": 140
           },
           {
            "hide": false,
            "key": "[Measures].[Predicted Revenue Lost]",
            "width": 140
           },
           {
            "hide": false,
            "key": "[Measures].[Predicted Revenue Lost - Post retention revenue lost]",
            "width": 100
           },
           {
            "hide": false,
            "key": "[Measures].[NRR (1) - NRR post retention (1)]",
            "width": 150
           },
           {
            "key": "[Measures].[MRR Initial]",
            "width": 128
           },
           {
            "hide": false,
            "key": "[Measures].[Revenue Compensation]",
            "width": 146
           },
           {
            "key": "[Measures].[NRR post retention (1) - NRR (1)]",
            "width": 141
           },
           {
            "key": "[Measures].[Retention size]",
            "width": 93
           },
           {
            "key": "[Measures].[NRR post retention (2)]",
            "width": 125
           },
           {
            "key": "[Measures].[Actual Expense]",
            "width": 133
           },
           {
            "key": "([Measure Simulations].[NRR Simulation].[NRR Simulation].[95% NRR],[Measures].[Final Revenue Lost])",
            "width": 141
           },
           {
            "key": "([Measure Simulations].[NRR Simulation].[NRR Simulation].[95% NRR],[Measures].[Final NRR])",
            "width": 123
           },
           {
            "key": "([Measure Simulations].[NRR Simulation].[NRR Simulation].[95% NRR],[Measures].[Post retention NRR (2)])",
            "width": 138
           },
           {
            "key": "([Measure Simulations].[NRR Simulation].[NRR Simulation].[95% NRR],[Measures].[Clients to replace])",
            "width": 131
           },
           {
            "key": "([Measure Simulations].[NRR Simulation].[NRR Simulation].[90% NRR],[Measures].[Final Revenue Lost])",
            "width": 144
           },
           {
            "key": "([Measure Simulations].[NRR Simulation].[NRR Simulation].[90% NRR],[Measures].[Post retention NRR (2)])",
            "width": 136
           }
          ],
          "columnsGroups": [
           {
            "captionProducer": "firstColumn",
            "cellFactory": "kpi-status",
            "selector": "kpi-status"
           },
           {
            "captionProducer": "firstColumn",
            "cellFactory": "lookup",
            "selector": "lookup"
           },
           {
            "captionProducer": "expiry",
            "cellFactory": "expiry",
            "selector": "kpi-expiry"
           },
           {
            "captionProducer": "columnMerge",
            "cellFactory": {
             "args": {},
             "key": "treeCells"
            },
            "selector": "member"
           }
          ],
          "defaultOptions": {},
          "expansion": {
           "automaticExpansion": true
          },
          "hideAddButton": true,
          "pinnedHeaderSelector": "member",
          "sortingMode": "non-breaking",
          "statisticsShown": true
         }
        },
        "contextValues": {},
        "mdx": "WITH  Member [Measures].[Post retention NRR (1)] AS [Measures].[Post retention NRR], FORMAT_STRING = \"#,###.0000\", CAPTION = [Measures].[Post retention NRR].MEMBER_CAPTION    Member [Measures].[NRR (1)] AS [Measures].[NRR], FORMAT_STRING = \"#,###.0000\", CAPTION = [Measures].[NRR].MEMBER_CAPTION    Member [Measures].[[Epoch]].[Epoch]].[Branch]]_for_order] AS [Epoch].[Epoch].CurrentMember.MEMBER_VALUE    Member [Measures].[Post retention NRR (2)] AS [Measures].[Post retention NRR], FORMAT_STRING = \"#,###.000\", CAPTION = [Measures].[Post retention NRR].MEMBER_CAPTION    Member [Measures].[Final Revenue Lost] AS ([Measures].[Post retention revenue lost] - ([Measures].[Clients to replace] * [Measures].[Churn MonthlyCharges.MEAN])), FORMAT_STRING = \"#,###.##\"    Member [Measures].[Final NRR] AS ([Measures].[MRR Initial] - [Measures].[Final Revenue Lost]) / [Measures].[MRR Initial], FORMAT_STRING = \"#,###.000\"    Member [Measures].[Actual Expense (1)] AS [Measures].[Actual Expense], CAPTION = [Measures].[Actual Expense].MEMBER_CAPTION, BACK_COLOR = \"transparent\", FORMAT_STRING = \"#,###\", FONT_FLAGS = 1, FORE_COLOR = rgb(0, 0, 255)  SELECT NON EMPTY Order(Hierarchize(Union([Epoch].[Epoch].[Branch].Members, [Epoch].[Epoch].[Branch].[Logistic Regression Prediction])), [Measures].[[Epoch]].[Epoch]].[Branch]]_for_order], ASC) ON ROWS, NON EMPTY Crossjoin([Measure Simulations].[NRR Simulation].[NRR Simulation].Members, {[Measures].[Post retention NRR (2)], [Measures].[Clients to replace], [Measures].[Actual Expense (1)], [Measures].[Final Revenue Lost], [Measures].[Final NRR]}) ON COLUMNS FROM [customer_cube] CELL PROPERTIES BACK_COLOR, FONT_FLAGS, FORE_COLOR, FORMATTED_VALUE, VALUE",
        "ranges": {
         "column": {
          "chunkSize": 50,
          "thresholdPercentage": 0.2
         },
         "row": {
          "chunkSize": 2000,
          "thresholdPercentage": 0.1
         }
        },
        "serverUrl": "",
        "updateMode": "once"
       },
       "containerKey": "pivot-table",
       "showTitleBar": false,
       "style": {}
      }
     }
    },
    "execution": {
     "iopub.execute_input": "2020-07-17T03:09:26.019576Z",
     "iopub.status.busy": "2020-07-17T03:09:13.932537Z",
     "iopub.status.idle": "2020-07-17T03:09:13.932537Z",
     "shell.execute_reply": "2020-07-17T03:09:28.052702Z",
     "shell.execute_reply.started": "2020-07-17T03:09:26.019576Z"
    }
   },
   "outputs": [
    {
     "data": {
      "application/vnd.atoti.v0+json": {
       "cube": "customer_cube",
       "name": null,
       "session": "Unnamed"
      },
      "text/plain": [
       "Install and enable the atoti JupyterLab extension to see this widget."
      ]
     },
     "metadata": {},
     "output_type": "display_data"
    }
   ],
   "source": [
    "cube.visualize()"
   ]
  },
  {
   "cell_type": "markdown",
   "metadata": {},
   "source": [
    "## What-if Marketing budget is twice the expected?\n",
    "\n",
    "We can easily setup the simulation that allow us to scale the _Marketing budget_."
   ]
  },
  {
   "cell_type": "code",
   "execution_count": 56,
   "metadata": {
    "execution": {
     "iopub.execute_input": "2020-07-17T03:09:28.052702Z",
     "iopub.status.busy": "2020-07-17T03:09:13.933535Z",
     "iopub.status.idle": "2020-07-17T03:09:13.934530Z",
     "shell.execute_reply": "2020-07-17T03:09:28.908731Z",
     "shell.execute_reply.started": "2020-07-17T03:09:28.052702Z"
    }
   },
   "outputs": [],
   "source": [
    "marketing_budget_simulation = cube.setup_simulation(\n",
    "    \"Marketing Budget Simulation\",\n",
    "    base_scenario=\"5 x Retention\",\n",
    "    multiply=[m[\"Marketing budget\"]],\n",
    ").scenarios"
   ]
  },
  {
   "cell_type": "markdown",
   "metadata": {},
   "source": [
    "We create a scenario where we multiply _Marketing budget_ by 2."
   ]
  },
  {
   "cell_type": "code",
   "execution_count": 57,
   "metadata": {
    "execution": {
     "iopub.execute_input": "2020-07-17T03:09:28.908731Z",
     "iopub.status.busy": "2020-07-17T03:09:13.935528Z",
     "iopub.status.idle": "2020-07-17T03:09:13.936525Z",
     "shell.execute_reply": "2020-07-17T03:09:29.070977Z",
     "shell.execute_reply.started": "2020-07-17T03:09:28.908731Z"
    }
   },
   "outputs": [],
   "source": [
    "marketing_budget_simulation[\"10 x Retention\"] = 2"
   ]
  },
  {
   "cell_type": "markdown",
   "metadata": {},
   "source": [
    "We see the Final NRR and Actual Expense being recomputed. This increase in _Marketing budget_ does not impact the _Naive Bayes Prediction_ model as its NRR exceeds 90% if the retention rate is 100%.  "
   ]
  },
  {
   "cell_type": "code",
   "execution_count": 59,
   "metadata": {
    "atoti": {
     "height": 267,
     "state": {
      "name": "",
      "type": "container",
      "value": {
       "body": {
        "configuration": {
         "tabular": {
          "cellRenderers": [
           "pivot-layout"
          ],
          "columnOrder": {
           "args": {
            "orderedColumns": [
             "[Epoch].[Epoch].[Branch]",
             "([Measures].[Actual Expense (1)],[Measure Simulations].[Marketing Budget Simulation].[Marketing Budget Simulation].[5 x Retention])",
             "([Measures].[Actual Expense (1)],[Measure Simulations].[Marketing Budget Simulation].[Marketing Budget Simulation].[10 x Retention])",
             "([Measures].[Actual Expense (1)],[Measure Simulations].[Marketing Budget Simulation].[Marketing Budget Simulation].[5 x Retention - 10 x Retention])"
            ]
           },
           "key": "explicit"
          },
          "columns": [
           {
            "key": "([Measures].[Actual Expense (1)],[Measure Simulations].[Marketing Budget Simulation].[Marketing Budget Simulation].[5 x Retention - 10 x Retention])",
            "width": 161
           },
           {
            "key": "([Measures].[Actual Expense (1)],[Measure Simulations].[Marketing Budget Simulation].[Marketing Budget Simulation].[10 x Retention])",
            "width": 139
           },
           {
            "key": "([Measures].[Actual Expense (1)],[Measure Simulations].[Marketing Budget Simulation].[Marketing Budget Simulation].[5 x Retention])",
            "width": 139
           },
           {
            "key": "[Epoch].[Epoch].[Branch]",
            "width": 264
           }
          ],
          "columnsGroups": [
           {
            "captionProducer": "firstColumn",
            "cellFactory": "kpi-status",
            "selector": "kpi-status"
           },
           {
            "captionProducer": "firstColumn",
            "cellFactory": "lookup",
            "selector": "lookup"
           },
           {
            "captionProducer": "expiry",
            "cellFactory": "expiry",
            "selector": "kpi-expiry"
           }
          ],
          "defaultOptions": {},
          "expansion": {
           "automaticExpansion": true
          },
          "hideAddButton": true,
          "pinnedHeaderSelector": "member",
          "sortingMode": "non-breaking",
          "statisticsShown": true
         }
        },
        "contextValues": {},
        "mdx": "WITH  Member [Measures].[Actual Expense (1)] AS [Measures].[Actual Expense], CAPTION = [Measures].[Actual Expense].MEMBER_CAPTION, BACK_COLOR = \"transparent\", FORMAT_STRING = \"#,###\"    Member [Measure Simulations].[Marketing Budget Simulation].[5 x Retention - 10 x Retention] AS [Measure Simulations].[Marketing Budget Simulation].[10 x Retention] - [Measure Simulations].[Marketing Budget Simulation].[5 x Retention], CAPTION = \"Expense difference\"  SELECT NON EMPTY Crossjoin([Measures].[Actual Expense (1)], Union([Measure Simulations].[Marketing Budget Simulation].[Marketing Budget Simulation].Members, [Measure Simulations].[Marketing Budget Simulation].[5 x Retention - 10 x Retention])) ON COLUMNS, NON EMPTY [Epoch].[Epoch].[Branch].Members ON ROWS FROM [customer_cube] CELL PROPERTIES BACK_COLOR, FONT_FLAGS, FORE_COLOR, FORMATTED_VALUE, VALUE",
        "ranges": {
         "column": {
          "chunkSize": 50,
          "thresholdPercentage": 0.2
         },
         "row": {
          "chunkSize": 2000,
          "thresholdPercentage": 0.1
         }
        },
        "serverUrl": "",
        "updateMode": "once"
       },
       "containerKey": "pivot-table",
       "showTitleBar": false,
       "style": {}
      }
     }
    },
    "execution": {
     "iopub.execute_input": "2020-07-17T03:09:29.070977Z",
     "iopub.status.busy": "2020-07-17T03:09:13.937522Z",
     "iopub.status.idle": "2020-07-17T03:09:13.937522Z",
     "shell.execute_reply": "2020-07-17T03:09:31.161642Z",
     "shell.execute_reply.started": "2020-07-17T03:09:29.070977Z"
    }
   },
   "outputs": [
    {
     "data": {
      "application/vnd.atoti.v0+json": {
       "cube": "customer_cube",
       "name": null,
       "session": "Unnamed"
      },
      "text/plain": [
       "Install and enable the atoti JupyterLab extension to see this widget."
      ]
     },
     "metadata": {},
     "output_type": "display_data"
    }
   ],
   "source": [
    "cube.visualize()"
   ]
  },
  {
   "cell_type": "code",
   "execution_count": null,
   "metadata": {},
   "outputs": [],
   "source": []
  }
 ],
 "metadata": {
  "kernelspec": {
   "display_name": "Python 3",
   "language": "python",
   "name": "python3"
  },
  "language_info": {
   "codemirror_mode": {
    "name": "ipython",
    "version": 3
   },
   "file_extension": ".py",
   "mimetype": "text/x-python",
   "name": "python",
   "nbconvert_exporter": "python",
   "pygments_lexer": "ipython3",
   "version": "3.8.3"
  }
 },
 "nbformat": 4,
 "nbformat_minor": 4
}
