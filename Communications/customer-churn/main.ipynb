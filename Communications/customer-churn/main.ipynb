{
 "cells": [
  {
   "cell_type": "markdown",
   "metadata": {},
   "source": [
    "# Understanding Telco Customer Churn\n",
    "\n",
    "### A few definitions\n",
    "- [Customer attrition](https://en.wikipedia.org/wiki/Customer_attrition#:~:text=Customer%20attrition%2C%20also%20known%20as,loss%20of%20clients%20or%20customers.&text=Gross%20attrition%20is%20the%20loss,services%20during%20a%20particular%20period.), also known as customer churn is the loss of customers or subscription to goods/services by a business\n",
    "for a given period of time.\n",
    "- Customer attrition rate is the number of customers lost at the end of the period against the number of customers the business had at the start of the period. \n",
    "- Gross attrition is the loss of existing customers and their recurring revenue for contracted goods or services during the period\n",
    "- Net attrition is the loss of customers while factoring the gain of new customers within the same group and location\n",
    "- Monthly Recurring Revenue (MRR) is the recurring revenue expected on monthly basis for the subscribed goods/services\n",
    "- Gross Revenue Retention (GRR) rate measures the change in the MRR over the period, excluding benefits from expansion.\n",
    "- Net Revenue Retention (NRR) rate measures the change in the MRR over the period, including benefits from expansion.\n",
    "\n",
    "### Introduction\n",
    "\n",
    "Churn is a critical metric for subscription and SaaS companies as it tells us how the departing customers affects the company's monthly revenue and growth, consequently investors' confidence in the company as well.  \n",
    "\n",
    "The GRR is somewhat like a happiness indicator for the existing customers. Having high GRR shows that the company has high retention rates. Customers are happy with the services/products that they are provided with. Investors would be assured by this stability.  \n",
    "If a company has high GRR and even higher NRR, it shows that on top of retaining existing customers, the company has grown its customer base further.  \n",
    "High NRR coupled with low GRR implies that although the company has acquired many new customers, it has low retention rates.  \n",
    "So even if there is still revenue left over after the churn, there is high potential the new customers might churn too. The growth of the company becomes less predictable.  \n",
    "\n",
    "Telecommunication industry is highly sensitive to customer churns as technology advances and users' behaviour changed:\n",
    "- with Mobile Number Portability (MNP), customers can easily switch to another provider while preserving their number\n",
    "- OTT players such as Netflix, Amazon Prime Video, Disney+ are bypassing the traditional operators network such as cable, broadcast and satelite television\n",
    "- OTT applications such as WhatsApp, Google Hangout, Skype are cannibalizing the paid voice and messaging services\n",
    "- customers are less enticed to be contract bounded for handsets as new models get released so frequently\n",
    "\n",
    "In this notebook, we will look at the customer churn in the telecommunication sector.  \n",
    "Using the [Telco Customer Churn data](https://www.kaggle.com/blastchar/telco-customer-churn) from Kaggle, we explore the accuracy of 4 machine learning algorithms against the actual churn in the past month:  \n",
    "- Logistic Regression Prediction\n",
    "- Logistic Regression (SMOTE) Prediction\n",
    "- Naive Bayes Prediction\n",
    "- SVM Classifier Linear Prediction\n",
    "\n",
    "Note: we train the models with last month's churn data using the algorithm provided in [Telecom Customer Churn Prediction](https://www.kaggle.com/pavanraj159/telecom-customer-churn-prediction).  \n",
    "We compare the model's prediction against the same set of data for accuracy comparison.\n",
    "\n",
    "Assuming that we wish to retain 90% NRR for this particular telco, we will explore with atoti the impact of each model on:\n",
    "- Predicted revenue loss\n",
    "- Number of customers to retain\n",
    "- Expense spent to retain or replace customer\n",
    "\n",
    "Finally, we use what-if simulation to see how the above will change when we change:\n",
    "- the target NRR\n",
    "- the budget spent on customer retention or replacement"
   ]
  },
  {
   "cell_type": "markdown",
   "metadata": {},
   "source": [
    "### Things to install\n",
    "pip install imblearn  \n",
    "pip install sklearn"
   ]
  },
  {
   "cell_type": "code",
   "execution_count": 1,
   "metadata": {},
   "outputs": [
    {
     "name": "stdout",
     "output_type": "stream",
     "text": [
      "Requirement already satisfied: imblearn in /home/jbe/.conda/envs/atoti-release/lib/python3.7/site-packages (0.0)\n",
      "Requirement already satisfied: sklearn in /home/jbe/.conda/envs/atoti-release/lib/python3.7/site-packages (0.0)\n",
      "Requirement already satisfied: imbalanced-learn in /home/jbe/.conda/envs/atoti-release/lib/python3.7/site-packages (from imblearn) (0.7.0)\n",
      "Requirement already satisfied: scikit-learn in /home/jbe/.conda/envs/atoti-release/lib/python3.7/site-packages (from sklearn) (0.23.2)\n",
      "Requirement already satisfied: scipy>=0.19.1 in /home/jbe/.conda/envs/atoti-release/lib/python3.7/site-packages (from imbalanced-learn->imblearn) (1.5.2)\n",
      "Requirement already satisfied: numpy>=1.13.3 in /home/jbe/.conda/envs/atoti-release/lib/python3.7/site-packages (from imbalanced-learn->imblearn) (1.19.1)\n",
      "Requirement already satisfied: joblib>=0.11 in /home/jbe/.conda/envs/atoti-release/lib/python3.7/site-packages (from imbalanced-learn->imblearn) (0.16.0)\n",
      "Requirement already satisfied: threadpoolctl>=2.0.0 in /home/jbe/.conda/envs/atoti-release/lib/python3.7/site-packages (from scikit-learn->sklearn) (2.1.0)\n"
     ]
    }
   ],
   "source": [
    "!pip install imblearn sklearn"
   ]
  },
  {
   "cell_type": "code",
   "execution_count": 2,
   "metadata": {},
   "outputs": [
    {
     "name": "stdout",
     "output_type": "stream",
     "text": [
      "Welcome to atoti 0.4.3!\n",
      "\n",
      "By using this community edition, you agree with the license available at https://www.atoti.io/eula.\n",
      "Browse the official documentation at https://docs.atoti.io.\n",
      "Join the community at https://www.atoti.io/register.\n",
      "\n",
      "You can hide this message by setting the ATOTI_HIDE_EULA_MESSAGE environment variable to True.\n"
     ]
    }
   ],
   "source": [
    "import atoti as tt\n",
    "import numpy as np\n",
    "import pandas as pd\n",
    "from sklearn.model_selection import train_test_split\n",
    "\n",
    "from _utils import data_utils, prediction"
   ]
  },
  {
   "cell_type": "markdown",
   "metadata": {},
   "source": [
    "# Data preparation\n",
    "\n",
    "Using the [Telco Customer Churn data from Kaggle](https://www.kaggle.com/blastchar/telco-customer-churn), we perform the data clean up just as demonstrated in [Telecom Customer Churn Prediction](https://www.kaggle.com/pavanraj159/telecom-customer-churn-prediction)."
   ]
  },
  {
   "cell_type": "code",
   "execution_count": 3,
   "metadata": {},
   "outputs": [],
   "source": [
    "telcom = pd.read_csv(\n",
    "    \"https://data.atoti.io/notebooks/telco-churn/WA_Fn-UseC_-Telco-Customer-Churn.csv\"\n",
    ")\n",
    "# perform data clean up\n",
    "telcom = data_utils.data_cleanup(telcom)"
   ]
  },
  {
   "cell_type": "markdown",
   "metadata": {},
   "source": [
    "We create a few new columns in preparation for the machine learning output.  \n",
    "In the actual churn data, `ChurnProbability` is fixed as the customers have already churned. Hence we gave the probability a value 1.  \n",
    "The `ChurnPredicted` would be the actual churn in this base use case."
   ]
  },
  {
   "cell_type": "code",
   "execution_count": 4,
   "metadata": {},
   "outputs": [
    {
     "data": {
      "text/html": [
       "<div>\n",
       "<style scoped>\n",
       "    .dataframe tbody tr th:only-of-type {\n",
       "        vertical-align: middle;\n",
       "    }\n",
       "\n",
       "    .dataframe tbody tr th {\n",
       "        vertical-align: top;\n",
       "    }\n",
       "\n",
       "    .dataframe thead th {\n",
       "        text-align: right;\n",
       "    }\n",
       "</style>\n",
       "<table border=\"1\" class=\"dataframe\">\n",
       "  <thead>\n",
       "    <tr style=\"text-align: right;\">\n",
       "      <th></th>\n",
       "      <th>CustomerID</th>\n",
       "      <th>Gender</th>\n",
       "      <th>SeniorCitizen</th>\n",
       "      <th>Partner</th>\n",
       "      <th>Dependents</th>\n",
       "      <th>Tenure</th>\n",
       "      <th>PhoneService</th>\n",
       "      <th>MultipleLines</th>\n",
       "      <th>InternetService</th>\n",
       "      <th>OnlineSecurity</th>\n",
       "      <th>...</th>\n",
       "      <th>StreamingMovies</th>\n",
       "      <th>Contract</th>\n",
       "      <th>PaperlessBilling</th>\n",
       "      <th>PaymentMethod</th>\n",
       "      <th>MonthlyCharges</th>\n",
       "      <th>TotalCharges</th>\n",
       "      <th>Churn</th>\n",
       "      <th>TenureGroup</th>\n",
       "      <th>ChurnProbability</th>\n",
       "      <th>ChurnPredicted</th>\n",
       "    </tr>\n",
       "  </thead>\n",
       "  <tbody>\n",
       "    <tr>\n",
       "      <th>0</th>\n",
       "      <td>7590-VHVEG</td>\n",
       "      <td>Female</td>\n",
       "      <td>No</td>\n",
       "      <td>Yes</td>\n",
       "      <td>No</td>\n",
       "      <td>1</td>\n",
       "      <td>No</td>\n",
       "      <td>No phone service</td>\n",
       "      <td>DSL</td>\n",
       "      <td>No</td>\n",
       "      <td>...</td>\n",
       "      <td>No</td>\n",
       "      <td>Month-to-month</td>\n",
       "      <td>Yes</td>\n",
       "      <td>Electronic check</td>\n",
       "      <td>29.85</td>\n",
       "      <td>29.85</td>\n",
       "      <td>No</td>\n",
       "      <td>Tenure_0-12</td>\n",
       "      <td>1.0</td>\n",
       "      <td>No</td>\n",
       "    </tr>\n",
       "    <tr>\n",
       "      <th>1</th>\n",
       "      <td>5575-GNVDE</td>\n",
       "      <td>Male</td>\n",
       "      <td>No</td>\n",
       "      <td>No</td>\n",
       "      <td>No</td>\n",
       "      <td>34</td>\n",
       "      <td>Yes</td>\n",
       "      <td>No</td>\n",
       "      <td>DSL</td>\n",
       "      <td>Yes</td>\n",
       "      <td>...</td>\n",
       "      <td>No</td>\n",
       "      <td>One year</td>\n",
       "      <td>No</td>\n",
       "      <td>Mailed check</td>\n",
       "      <td>56.95</td>\n",
       "      <td>1889.50</td>\n",
       "      <td>No</td>\n",
       "      <td>Tenure_24-48</td>\n",
       "      <td>1.0</td>\n",
       "      <td>No</td>\n",
       "    </tr>\n",
       "    <tr>\n",
       "      <th>2</th>\n",
       "      <td>3668-QPYBK</td>\n",
       "      <td>Male</td>\n",
       "      <td>No</td>\n",
       "      <td>No</td>\n",
       "      <td>No</td>\n",
       "      <td>2</td>\n",
       "      <td>Yes</td>\n",
       "      <td>No</td>\n",
       "      <td>DSL</td>\n",
       "      <td>Yes</td>\n",
       "      <td>...</td>\n",
       "      <td>No</td>\n",
       "      <td>Month-to-month</td>\n",
       "      <td>Yes</td>\n",
       "      <td>Mailed check</td>\n",
       "      <td>53.85</td>\n",
       "      <td>108.15</td>\n",
       "      <td>Yes</td>\n",
       "      <td>Tenure_0-12</td>\n",
       "      <td>1.0</td>\n",
       "      <td>Yes</td>\n",
       "    </tr>\n",
       "    <tr>\n",
       "      <th>3</th>\n",
       "      <td>7795-CFOCW</td>\n",
       "      <td>Male</td>\n",
       "      <td>No</td>\n",
       "      <td>No</td>\n",
       "      <td>No</td>\n",
       "      <td>45</td>\n",
       "      <td>No</td>\n",
       "      <td>No phone service</td>\n",
       "      <td>DSL</td>\n",
       "      <td>Yes</td>\n",
       "      <td>...</td>\n",
       "      <td>No</td>\n",
       "      <td>One year</td>\n",
       "      <td>No</td>\n",
       "      <td>Bank transfer (automatic)</td>\n",
       "      <td>42.30</td>\n",
       "      <td>1840.75</td>\n",
       "      <td>No</td>\n",
       "      <td>Tenure_24-48</td>\n",
       "      <td>1.0</td>\n",
       "      <td>No</td>\n",
       "    </tr>\n",
       "    <tr>\n",
       "      <th>4</th>\n",
       "      <td>9237-HQITU</td>\n",
       "      <td>Female</td>\n",
       "      <td>No</td>\n",
       "      <td>No</td>\n",
       "      <td>No</td>\n",
       "      <td>2</td>\n",
       "      <td>Yes</td>\n",
       "      <td>No</td>\n",
       "      <td>Fiber optic</td>\n",
       "      <td>No</td>\n",
       "      <td>...</td>\n",
       "      <td>No</td>\n",
       "      <td>Month-to-month</td>\n",
       "      <td>Yes</td>\n",
       "      <td>Electronic check</td>\n",
       "      <td>70.70</td>\n",
       "      <td>151.65</td>\n",
       "      <td>Yes</td>\n",
       "      <td>Tenure_0-12</td>\n",
       "      <td>1.0</td>\n",
       "      <td>Yes</td>\n",
       "    </tr>\n",
       "  </tbody>\n",
       "</table>\n",
       "<p>5 rows × 24 columns</p>\n",
       "</div>"
      ],
      "text/plain": [
       "   CustomerID  Gender SeniorCitizen Partner Dependents  Tenure PhoneService  \\\n",
       "0  7590-VHVEG  Female            No     Yes         No       1           No   \n",
       "1  5575-GNVDE    Male            No      No         No      34          Yes   \n",
       "2  3668-QPYBK    Male            No      No         No       2          Yes   \n",
       "3  7795-CFOCW    Male            No      No         No      45           No   \n",
       "4  9237-HQITU  Female            No      No         No       2          Yes   \n",
       "\n",
       "      MultipleLines InternetService OnlineSecurity  ... StreamingMovies  \\\n",
       "0  No phone service             DSL             No  ...              No   \n",
       "1                No             DSL            Yes  ...              No   \n",
       "2                No             DSL            Yes  ...              No   \n",
       "3  No phone service             DSL            Yes  ...              No   \n",
       "4                No     Fiber optic             No  ...              No   \n",
       "\n",
       "         Contract PaperlessBilling              PaymentMethod MonthlyCharges  \\\n",
       "0  Month-to-month              Yes           Electronic check          29.85   \n",
       "1        One year               No               Mailed check          56.95   \n",
       "2  Month-to-month              Yes               Mailed check          53.85   \n",
       "3        One year               No  Bank transfer (automatic)          42.30   \n",
       "4  Month-to-month              Yes           Electronic check          70.70   \n",
       "\n",
       "  TotalCharges Churn   TenureGroup  ChurnProbability  ChurnPredicted  \n",
       "0        29.85    No   Tenure_0-12               1.0              No  \n",
       "1      1889.50    No  Tenure_24-48               1.0              No  \n",
       "2       108.15   Yes   Tenure_0-12               1.0             Yes  \n",
       "3      1840.75    No  Tenure_24-48               1.0              No  \n",
       "4       151.65   Yes   Tenure_0-12               1.0             Yes  \n",
       "\n",
       "[5 rows x 24 columns]"
      ]
     },
     "execution_count": 4,
     "metadata": {},
     "output_type": "execute_result"
    }
   ],
   "source": [
    "# since the statistics is based on previous month, Churn/Non Churn probability is fixed and therefore 1\n",
    "telcom[\"ChurnProbability\"] = 1.0\n",
    "telcom[\"ChurnPredicted\"] = telcom[\"Churn\"]\n",
    "\n",
    "telcom.head()"
   ]
  },
  {
   "cell_type": "markdown",
   "metadata": {},
   "source": [
    "## atoti cube creation  \n",
    "\n",
    "We have a simple cube that holds a single data store - Customer store."
   ]
  },
  {
   "cell_type": "code",
   "execution_count": 5,
   "metadata": {},
   "outputs": [],
   "source": [
    "# a session has to be created for atoti\n",
    "session = tt.create_session()"
   ]
  },
  {
   "cell_type": "code",
   "execution_count": 6,
   "metadata": {},
   "outputs": [
    {
     "data": {
      "text/html": [
       "<div>\n",
       "<style scoped>\n",
       "    .dataframe tbody tr th:only-of-type {\n",
       "        vertical-align: middle;\n",
       "    }\n",
       "\n",
       "    .dataframe tbody tr th {\n",
       "        vertical-align: top;\n",
       "    }\n",
       "\n",
       "    .dataframe thead th {\n",
       "        text-align: right;\n",
       "    }\n",
       "</style>\n",
       "<table border=\"1\" class=\"dataframe\">\n",
       "  <thead>\n",
       "    <tr style=\"text-align: right;\">\n",
       "      <th></th>\n",
       "      <th>Gender</th>\n",
       "      <th>SeniorCitizen</th>\n",
       "      <th>Partner</th>\n",
       "      <th>Dependents</th>\n",
       "      <th>Tenure</th>\n",
       "      <th>PhoneService</th>\n",
       "      <th>MultipleLines</th>\n",
       "      <th>InternetService</th>\n",
       "      <th>OnlineSecurity</th>\n",
       "      <th>OnlineBackup</th>\n",
       "      <th>...</th>\n",
       "      <th>StreamingMovies</th>\n",
       "      <th>Contract</th>\n",
       "      <th>PaperlessBilling</th>\n",
       "      <th>PaymentMethod</th>\n",
       "      <th>MonthlyCharges</th>\n",
       "      <th>TotalCharges</th>\n",
       "      <th>Churn</th>\n",
       "      <th>TenureGroup</th>\n",
       "      <th>ChurnProbability</th>\n",
       "      <th>ChurnPredicted</th>\n",
       "    </tr>\n",
       "    <tr>\n",
       "      <th>CustomerID</th>\n",
       "      <th></th>\n",
       "      <th></th>\n",
       "      <th></th>\n",
       "      <th></th>\n",
       "      <th></th>\n",
       "      <th></th>\n",
       "      <th></th>\n",
       "      <th></th>\n",
       "      <th></th>\n",
       "      <th></th>\n",
       "      <th></th>\n",
       "      <th></th>\n",
       "      <th></th>\n",
       "      <th></th>\n",
       "      <th></th>\n",
       "      <th></th>\n",
       "      <th></th>\n",
       "      <th></th>\n",
       "      <th></th>\n",
       "      <th></th>\n",
       "      <th></th>\n",
       "    </tr>\n",
       "  </thead>\n",
       "  <tbody>\n",
       "    <tr>\n",
       "      <th>7590-VHVEG</th>\n",
       "      <td>Female</td>\n",
       "      <td>No</td>\n",
       "      <td>Yes</td>\n",
       "      <td>No</td>\n",
       "      <td>1</td>\n",
       "      <td>No</td>\n",
       "      <td>No phone service</td>\n",
       "      <td>DSL</td>\n",
       "      <td>No</td>\n",
       "      <td>Yes</td>\n",
       "      <td>...</td>\n",
       "      <td>No</td>\n",
       "      <td>Month-to-month</td>\n",
       "      <td>Yes</td>\n",
       "      <td>Electronic check</td>\n",
       "      <td>29.85</td>\n",
       "      <td>29.85</td>\n",
       "      <td>No</td>\n",
       "      <td>Tenure_0-12</td>\n",
       "      <td>1.0</td>\n",
       "      <td>No</td>\n",
       "    </tr>\n",
       "    <tr>\n",
       "      <th>5575-GNVDE</th>\n",
       "      <td>Male</td>\n",
       "      <td>No</td>\n",
       "      <td>No</td>\n",
       "      <td>No</td>\n",
       "      <td>34</td>\n",
       "      <td>Yes</td>\n",
       "      <td>No</td>\n",
       "      <td>DSL</td>\n",
       "      <td>Yes</td>\n",
       "      <td>No</td>\n",
       "      <td>...</td>\n",
       "      <td>No</td>\n",
       "      <td>One year</td>\n",
       "      <td>No</td>\n",
       "      <td>Mailed check</td>\n",
       "      <td>56.95</td>\n",
       "      <td>1889.50</td>\n",
       "      <td>No</td>\n",
       "      <td>Tenure_24-48</td>\n",
       "      <td>1.0</td>\n",
       "      <td>No</td>\n",
       "    </tr>\n",
       "    <tr>\n",
       "      <th>3668-QPYBK</th>\n",
       "      <td>Male</td>\n",
       "      <td>No</td>\n",
       "      <td>No</td>\n",
       "      <td>No</td>\n",
       "      <td>2</td>\n",
       "      <td>Yes</td>\n",
       "      <td>No</td>\n",
       "      <td>DSL</td>\n",
       "      <td>Yes</td>\n",
       "      <td>Yes</td>\n",
       "      <td>...</td>\n",
       "      <td>No</td>\n",
       "      <td>Month-to-month</td>\n",
       "      <td>Yes</td>\n",
       "      <td>Mailed check</td>\n",
       "      <td>53.85</td>\n",
       "      <td>108.15</td>\n",
       "      <td>Yes</td>\n",
       "      <td>Tenure_0-12</td>\n",
       "      <td>1.0</td>\n",
       "      <td>Yes</td>\n",
       "    </tr>\n",
       "    <tr>\n",
       "      <th>7795-CFOCW</th>\n",
       "      <td>Male</td>\n",
       "      <td>No</td>\n",
       "      <td>No</td>\n",
       "      <td>No</td>\n",
       "      <td>45</td>\n",
       "      <td>No</td>\n",
       "      <td>No phone service</td>\n",
       "      <td>DSL</td>\n",
       "      <td>Yes</td>\n",
       "      <td>No</td>\n",
       "      <td>...</td>\n",
       "      <td>No</td>\n",
       "      <td>One year</td>\n",
       "      <td>No</td>\n",
       "      <td>Bank transfer (automatic)</td>\n",
       "      <td>42.30</td>\n",
       "      <td>1840.75</td>\n",
       "      <td>No</td>\n",
       "      <td>Tenure_24-48</td>\n",
       "      <td>1.0</td>\n",
       "      <td>No</td>\n",
       "    </tr>\n",
       "    <tr>\n",
       "      <th>9237-HQITU</th>\n",
       "      <td>Female</td>\n",
       "      <td>No</td>\n",
       "      <td>No</td>\n",
       "      <td>No</td>\n",
       "      <td>2</td>\n",
       "      <td>Yes</td>\n",
       "      <td>No</td>\n",
       "      <td>Fiber optic</td>\n",
       "      <td>No</td>\n",
       "      <td>No</td>\n",
       "      <td>...</td>\n",
       "      <td>No</td>\n",
       "      <td>Month-to-month</td>\n",
       "      <td>Yes</td>\n",
       "      <td>Electronic check</td>\n",
       "      <td>70.70</td>\n",
       "      <td>151.65</td>\n",
       "      <td>Yes</td>\n",
       "      <td>Tenure_0-12</td>\n",
       "      <td>1.0</td>\n",
       "      <td>Yes</td>\n",
       "    </tr>\n",
       "  </tbody>\n",
       "</table>\n",
       "<p>5 rows × 23 columns</p>\n",
       "</div>"
      ],
      "text/plain": [
       "            Gender SeniorCitizen Partner Dependents  Tenure PhoneService  \\\n",
       "CustomerID                                                                 \n",
       "7590-VHVEG  Female            No     Yes         No       1           No   \n",
       "5575-GNVDE    Male            No      No         No      34          Yes   \n",
       "3668-QPYBK    Male            No      No         No       2          Yes   \n",
       "7795-CFOCW    Male            No      No         No      45           No   \n",
       "9237-HQITU  Female            No      No         No       2          Yes   \n",
       "\n",
       "               MultipleLines InternetService OnlineSecurity OnlineBackup  ...  \\\n",
       "CustomerID                                                                ...   \n",
       "7590-VHVEG  No phone service             DSL             No          Yes  ...   \n",
       "5575-GNVDE                No             DSL            Yes           No  ...   \n",
       "3668-QPYBK                No             DSL            Yes          Yes  ...   \n",
       "7795-CFOCW  No phone service             DSL            Yes           No  ...   \n",
       "9237-HQITU                No     Fiber optic             No           No  ...   \n",
       "\n",
       "           StreamingMovies        Contract PaperlessBilling  \\\n",
       "CustomerID                                                    \n",
       "7590-VHVEG              No  Month-to-month              Yes   \n",
       "5575-GNVDE              No        One year               No   \n",
       "3668-QPYBK              No  Month-to-month              Yes   \n",
       "7795-CFOCW              No        One year               No   \n",
       "9237-HQITU              No  Month-to-month              Yes   \n",
       "\n",
       "                        PaymentMethod MonthlyCharges TotalCharges Churn  \\\n",
       "CustomerID                                                                \n",
       "7590-VHVEG           Electronic check          29.85        29.85    No   \n",
       "5575-GNVDE               Mailed check          56.95      1889.50    No   \n",
       "3668-QPYBK               Mailed check          53.85       108.15   Yes   \n",
       "7795-CFOCW  Bank transfer (automatic)          42.30      1840.75    No   \n",
       "9237-HQITU           Electronic check          70.70       151.65   Yes   \n",
       "\n",
       "             TenureGroup  ChurnProbability ChurnPredicted  \n",
       "CustomerID                                                 \n",
       "7590-VHVEG   Tenure_0-12               1.0             No  \n",
       "5575-GNVDE  Tenure_24-48               1.0             No  \n",
       "3668-QPYBK   Tenure_0-12               1.0            Yes  \n",
       "7795-CFOCW  Tenure_24-48               1.0             No  \n",
       "9237-HQITU   Tenure_0-12               1.0            Yes  \n",
       "\n",
       "[5 rows x 23 columns]"
      ]
     },
     "execution_count": 6,
     "metadata": {},
     "output_type": "execute_result"
    }
   ],
   "source": [
    "types = {\"ChurnProbability\": tt.types.FLOAT}\n",
    "\n",
    "customer_store = session.read_pandas(\n",
    "    telcom, keys=[\"CustomerID\"], store_name=\"customer_store\", types=types\n",
    ")\n",
    "customer_store.head()"
   ]
  },
  {
   "cell_type": "code",
   "execution_count": 7,
   "metadata": {},
   "outputs": [
    {
     "data": {
      "application/json": {
       "Dimensions": {
        "Hierarchies": {
         "Churn": [
          "Churn"
         ],
         "ChurnPredicted": [
          "ChurnPredicted"
         ],
         "Contract": [
          "Contract"
         ],
         "CustomerID": [
          "CustomerID"
         ],
         "Dependents": [
          "Dependents"
         ],
         "DeviceProtection": [
          "DeviceProtection"
         ],
         "Gender": [
          "Gender"
         ],
         "InternetService": [
          "InternetService"
         ],
         "MultipleLines": [
          "MultipleLines"
         ],
         "OnlineBackup": [
          "OnlineBackup"
         ],
         "OnlineSecurity": [
          "OnlineSecurity"
         ],
         "PaperlessBilling": [
          "PaperlessBilling"
         ],
         "Partner": [
          "Partner"
         ],
         "PaymentMethod": [
          "PaymentMethod"
         ],
         "PhoneService": [
          "PhoneService"
         ],
         "SeniorCitizen": [
          "SeniorCitizen"
         ],
         "StreamingMovies": [
          "StreamingMovies"
         ],
         "StreamingTV": [
          "StreamingTV"
         ],
         "TechSupport": [
          "TechSupport"
         ],
         "Tenure": [
          "Tenure"
         ],
         "TenureGroup": [
          "TenureGroup"
         ]
        }
       },
       "Measures": {
        "ChurnProbability.MEAN": {
         "formatter": "DOUBLE[#,###.00]"
        },
        "ChurnProbability.SUM": {
         "formatter": "DOUBLE[#,###.00]"
        },
        "MonthlyCharges.MEAN": {
         "formatter": "DOUBLE[#,###.00]"
        },
        "MonthlyCharges.SUM": {
         "formatter": "DOUBLE[#,###.00]"
        },
        "TotalCharges.MEAN": {
         "formatter": "DOUBLE[#,###.00]"
        },
        "TotalCharges.SUM": {
         "formatter": "DOUBLE[#,###.00]"
        },
        "contributors.COUNT": {
         "formatter": null
        }
       }
      },
      "text/html": [
       "<ul>\n",
       "<li>customer_cube\n",
       "  <ul>\n",
       "  <li>Dimensions\n",
       "    <ul>\n",
       "    <li>Hierarchies\n",
       "      <ul>\n",
       "      <li>Churn\n",
       "        <ol>\n",
       "        <li>Churn</li>\n",
       "        </ol>      </li>\n",
       "      <li>ChurnPredicted\n",
       "        <ol>\n",
       "        <li>ChurnPredicted</li>\n",
       "        </ol>      </li>\n",
       "      <li>Contract\n",
       "        <ol>\n",
       "        <li>Contract</li>\n",
       "        </ol>      </li>\n",
       "      <li>CustomerID\n",
       "        <ol>\n",
       "        <li>CustomerID</li>\n",
       "        </ol>      </li>\n",
       "      <li>Dependents\n",
       "        <ol>\n",
       "        <li>Dependents</li>\n",
       "        </ol>      </li>\n",
       "      <li>DeviceProtection\n",
       "        <ol>\n",
       "        <li>DeviceProtection</li>\n",
       "        </ol>      </li>\n",
       "      <li>Gender\n",
       "        <ol>\n",
       "        <li>Gender</li>\n",
       "        </ol>      </li>\n",
       "      <li>InternetService\n",
       "        <ol>\n",
       "        <li>InternetService</li>\n",
       "        </ol>      </li>\n",
       "      <li>MultipleLines\n",
       "        <ol>\n",
       "        <li>MultipleLines</li>\n",
       "        </ol>      </li>\n",
       "      <li>OnlineBackup\n",
       "        <ol>\n",
       "        <li>OnlineBackup</li>\n",
       "        </ol>      </li>\n",
       "      <li>OnlineSecurity\n",
       "        <ol>\n",
       "        <li>OnlineSecurity</li>\n",
       "        </ol>      </li>\n",
       "      <li>PaperlessBilling\n",
       "        <ol>\n",
       "        <li>PaperlessBilling</li>\n",
       "        </ol>      </li>\n",
       "      <li>Partner\n",
       "        <ol>\n",
       "        <li>Partner</li>\n",
       "        </ol>      </li>\n",
       "      <li>PaymentMethod\n",
       "        <ol>\n",
       "        <li>PaymentMethod</li>\n",
       "        </ol>      </li>\n",
       "      <li>PhoneService\n",
       "        <ol>\n",
       "        <li>PhoneService</li>\n",
       "        </ol>      </li>\n",
       "      <li>SeniorCitizen\n",
       "        <ol>\n",
       "        <li>SeniorCitizen</li>\n",
       "        </ol>      </li>\n",
       "      <li>StreamingMovies\n",
       "        <ol>\n",
       "        <li>StreamingMovies</li>\n",
       "        </ol>      </li>\n",
       "      <li>StreamingTV\n",
       "        <ol>\n",
       "        <li>StreamingTV</li>\n",
       "        </ol>      </li>\n",
       "      <li>TechSupport\n",
       "        <ol>\n",
       "        <li>TechSupport</li>\n",
       "        </ol>      </li>\n",
       "      <li>Tenure\n",
       "        <ol>\n",
       "        <li>Tenure</li>\n",
       "        </ol>      </li>\n",
       "      <li>TenureGroup\n",
       "        <ol>\n",
       "        <li>TenureGroup</li>\n",
       "        </ol>      </li>\n",
       "      </ul>\n",
       "    </li>\n",
       "    </ul>\n",
       "  </li>\n",
       "  <li>Measures\n",
       "    <ul>\n",
       "    <li>ChurnProbability.MEAN\n",
       "      <ul>\n",
       "      <li>formatter: DOUBLE[#,###.00]</li>\n",
       "      </ul>\n",
       "    </li>\n",
       "    <li>ChurnProbability.SUM\n",
       "      <ul>\n",
       "      <li>formatter: DOUBLE[#,###.00]</li>\n",
       "      </ul>\n",
       "    </li>\n",
       "    <li>MonthlyCharges.MEAN\n",
       "      <ul>\n",
       "      <li>formatter: DOUBLE[#,###.00]</li>\n",
       "      </ul>\n",
       "    </li>\n",
       "    <li>MonthlyCharges.SUM\n",
       "      <ul>\n",
       "      <li>formatter: DOUBLE[#,###.00]</li>\n",
       "      </ul>\n",
       "    </li>\n",
       "    <li>TotalCharges.MEAN\n",
       "      <ul>\n",
       "      <li>formatter: DOUBLE[#,###.00]</li>\n",
       "      </ul>\n",
       "    </li>\n",
       "    <li>TotalCharges.SUM\n",
       "      <ul>\n",
       "      <li>formatter: DOUBLE[#,###.00]</li>\n",
       "      </ul>\n",
       "    </li>\n",
       "    <li>contributors.COUNT\n",
       "      <ul>\n",
       "      <li>formatter: None</li>\n",
       "      </ul>\n",
       "    </li>\n",
       "    </ul>\n",
       "  </li>\n",
       "  </ul>\n",
       "</li>\n",
       "</ul>\n"
      ],
      "text/plain": [
       "<atoti.cube.Cube at 0x7f52c8e4bc90>"
      ]
     },
     "execution_count": 7,
     "metadata": {
      "application/json": {
       "expanded": false,
       "root": "customer_cube"
      }
     },
     "output_type": "execute_result"
    }
   ],
   "source": [
    "cube = session.create_cube(customer_store, \"customer_cube\")\n",
    "\n",
    "h = cube.hierarchies\n",
    "m = cube.measures\n",
    "l = cube.levels\n",
    "cube"
   ]
  },
  {
   "cell_type": "markdown",
   "metadata": {},
   "source": [
    "We create a simple function that helps change the dimension of our hierarchies as we group them into logical categories."
   ]
  },
  {
   "cell_type": "code",
   "execution_count": 8,
   "metadata": {},
   "outputs": [],
   "source": [
    "def set_dim(hier_name, dim_name):\n",
    "    h[hier_name].dimension = dim_name"
   ]
  },
  {
   "cell_type": "markdown",
   "metadata": {},
   "source": [
    "## Data classification using dimensions\n",
    "\n",
    "We re-classify the hierarchies under Customer, Demographic, Account and Services."
   ]
  },
  {
   "cell_type": "code",
   "execution_count": 9,
   "metadata": {},
   "outputs": [
    {
     "data": {
      "application/json": {
       "Dimensions": {
        "Account": {
         "Contract": [
          "Contract"
         ],
         "PaperlessBilling": [
          "PaperlessBilling"
         ],
         "PaymentMethod": [
          "PaymentMethod"
         ],
         "Tenure": [
          "Tenure"
         ],
         "TenureGroup": [
          "TenureGroup"
         ]
        },
        "Customer": {
         "Churn": [
          "Churn"
         ],
         "ChurnPredicted": [
          "ChurnPredicted"
         ],
         "CustomerID": [
          "CustomerID"
         ]
        },
        "Demographic": {
         "Dependents": [
          "Dependents"
         ],
         "Gender": [
          "Gender"
         ],
         "Partner": [
          "Partner"
         ],
         "SeniorCitizen": [
          "SeniorCitizen"
         ]
        },
        "Services": {
         "DeviceProtection": [
          "DeviceProtection"
         ],
         "InternetService": [
          "InternetService"
         ],
         "MultipleLines": [
          "MultipleLines"
         ],
         "OnlineBackup": [
          "OnlineBackup"
         ],
         "OnlineSecurity": [
          "OnlineSecurity"
         ],
         "PhoneService": [
          "PhoneService"
         ],
         "StreamingMovies": [
          "StreamingMovies"
         ],
         "StreamingTV": [
          "StreamingTV"
         ],
         "TechSupport": [
          "TechSupport"
         ]
        }
       },
       "Measures": {
        "ChurnProbability.MEAN": {
         "formatter": "DOUBLE[#,###.00]"
        },
        "ChurnProbability.SUM": {
         "formatter": "DOUBLE[#,###.00]"
        },
        "MonthlyCharges.MEAN": {
         "formatter": "DOUBLE[#,###.00]"
        },
        "MonthlyCharges.SUM": {
         "formatter": "DOUBLE[#,###.00]"
        },
        "TotalCharges.MEAN": {
         "formatter": "DOUBLE[#,###.00]"
        },
        "TotalCharges.SUM": {
         "formatter": "DOUBLE[#,###.00]"
        },
        "contributors.COUNT": {
         "formatter": null
        }
       }
      },
      "text/html": [
       "<ul>\n",
       "<li>customer_cube\n",
       "  <ul>\n",
       "  <li>Dimensions\n",
       "    <ul>\n",
       "    <li>Account\n",
       "      <ul>\n",
       "      <li>Contract\n",
       "        <ol>\n",
       "        <li>Contract</li>\n",
       "        </ol>      </li>\n",
       "      <li>PaperlessBilling\n",
       "        <ol>\n",
       "        <li>PaperlessBilling</li>\n",
       "        </ol>      </li>\n",
       "      <li>PaymentMethod\n",
       "        <ol>\n",
       "        <li>PaymentMethod</li>\n",
       "        </ol>      </li>\n",
       "      <li>Tenure\n",
       "        <ol>\n",
       "        <li>Tenure</li>\n",
       "        </ol>      </li>\n",
       "      <li>TenureGroup\n",
       "        <ol>\n",
       "        <li>TenureGroup</li>\n",
       "        </ol>      </li>\n",
       "      </ul>\n",
       "    </li>\n",
       "    <li>Customer\n",
       "      <ul>\n",
       "      <li>Churn\n",
       "        <ol>\n",
       "        <li>Churn</li>\n",
       "        </ol>      </li>\n",
       "      <li>ChurnPredicted\n",
       "        <ol>\n",
       "        <li>ChurnPredicted</li>\n",
       "        </ol>      </li>\n",
       "      <li>CustomerID\n",
       "        <ol>\n",
       "        <li>CustomerID</li>\n",
       "        </ol>      </li>\n",
       "      </ul>\n",
       "    </li>\n",
       "    <li>Demographic\n",
       "      <ul>\n",
       "      <li>Dependents\n",
       "        <ol>\n",
       "        <li>Dependents</li>\n",
       "        </ol>      </li>\n",
       "      <li>Gender\n",
       "        <ol>\n",
       "        <li>Gender</li>\n",
       "        </ol>      </li>\n",
       "      <li>Partner\n",
       "        <ol>\n",
       "        <li>Partner</li>\n",
       "        </ol>      </li>\n",
       "      <li>SeniorCitizen\n",
       "        <ol>\n",
       "        <li>SeniorCitizen</li>\n",
       "        </ol>      </li>\n",
       "      </ul>\n",
       "    </li>\n",
       "    <li>Services\n",
       "      <ul>\n",
       "      <li>DeviceProtection\n",
       "        <ol>\n",
       "        <li>DeviceProtection</li>\n",
       "        </ol>      </li>\n",
       "      <li>InternetService\n",
       "        <ol>\n",
       "        <li>InternetService</li>\n",
       "        </ol>      </li>\n",
       "      <li>MultipleLines\n",
       "        <ol>\n",
       "        <li>MultipleLines</li>\n",
       "        </ol>      </li>\n",
       "      <li>OnlineBackup\n",
       "        <ol>\n",
       "        <li>OnlineBackup</li>\n",
       "        </ol>      </li>\n",
       "      <li>OnlineSecurity\n",
       "        <ol>\n",
       "        <li>OnlineSecurity</li>\n",
       "        </ol>      </li>\n",
       "      <li>PhoneService\n",
       "        <ol>\n",
       "        <li>PhoneService</li>\n",
       "        </ol>      </li>\n",
       "      <li>StreamingMovies\n",
       "        <ol>\n",
       "        <li>StreamingMovies</li>\n",
       "        </ol>      </li>\n",
       "      <li>StreamingTV\n",
       "        <ol>\n",
       "        <li>StreamingTV</li>\n",
       "        </ol>      </li>\n",
       "      <li>TechSupport\n",
       "        <ol>\n",
       "        <li>TechSupport</li>\n",
       "        </ol>      </li>\n",
       "      </ul>\n",
       "    </li>\n",
       "    </ul>\n",
       "  </li>\n",
       "  <li>Measures\n",
       "    <ul>\n",
       "    <li>ChurnProbability.MEAN\n",
       "      <ul>\n",
       "      <li>formatter: DOUBLE[#,###.00]</li>\n",
       "      </ul>\n",
       "    </li>\n",
       "    <li>ChurnProbability.SUM\n",
       "      <ul>\n",
       "      <li>formatter: DOUBLE[#,###.00]</li>\n",
       "      </ul>\n",
       "    </li>\n",
       "    <li>MonthlyCharges.MEAN\n",
       "      <ul>\n",
       "      <li>formatter: DOUBLE[#,###.00]</li>\n",
       "      </ul>\n",
       "    </li>\n",
       "    <li>MonthlyCharges.SUM\n",
       "      <ul>\n",
       "      <li>formatter: DOUBLE[#,###.00]</li>\n",
       "      </ul>\n",
       "    </li>\n",
       "    <li>TotalCharges.MEAN\n",
       "      <ul>\n",
       "      <li>formatter: DOUBLE[#,###.00]</li>\n",
       "      </ul>\n",
       "    </li>\n",
       "    <li>TotalCharges.SUM\n",
       "      <ul>\n",
       "      <li>formatter: DOUBLE[#,###.00]</li>\n",
       "      </ul>\n",
       "    </li>\n",
       "    <li>contributors.COUNT\n",
       "      <ul>\n",
       "      <li>formatter: None</li>\n",
       "      </ul>\n",
       "    </li>\n",
       "    </ul>\n",
       "  </li>\n",
       "  </ul>\n",
       "</li>\n",
       "</ul>\n"
      ],
      "text/plain": [
       "<atoti.cube.Cube at 0x7f52c8e4bc90>"
      ]
     },
     "execution_count": 9,
     "metadata": {
      "application/json": {
       "expanded": false,
       "root": "customer_cube"
      }
     },
     "output_type": "execute_result"
    }
   ],
   "source": [
    "customer_hierarchy = [\"CustomerID\", \"Churn\", \"ChurnPredicted\"]\n",
    "[set_dim(hier_name, \"Customer\") for hier_name in customer_hierarchy]\n",
    "\n",
    "demographic_hierarchy = [\"Gender\", \"SeniorCitizen\", \"Partner\", \"Dependents\"]\n",
    "[set_dim(hier_name, \"Demographic\") for hier_name in demographic_hierarchy]\n",
    "\n",
    "account_hierarchy = [\n",
    "    \"Tenure\",\n",
    "    \"Contract\",\n",
    "    \"PaperlessBilling\",\n",
    "    \"PaymentMethod\",\n",
    "    \"TenureGroup\",\n",
    "]\n",
    "[set_dim(hier_name, \"Account\") for hier_name in account_hierarchy]\n",
    "\n",
    "services_hierarchy = [\n",
    "    \"PhoneService\",\n",
    "    \"MultipleLines\",\n",
    "    \"InternetService\",\n",
    "    \"OnlineSecurity\",\n",
    "    \"OnlineBackup\",\n",
    "    \"DeviceProtection\",\n",
    "    \"TechSupport\",\n",
    "    \"StreamingTV\",\n",
    "    \"StreamingMovies\",\n",
    "]\n",
    "[set_dim(hier_name, \"Services\") for hier_name in services_hierarchy]\n",
    "\n",
    "cube"
   ]
  },
  {
   "cell_type": "markdown",
   "metadata": {},
   "source": [
    "## Machine learning - Model training and Scenario creation\n",
    "\n",
    "In order to start our model training, we do some data preprocessing by converting the labeled values into binary values.  \n",
    "You can read up more on [LabelEncoder](https://scikit-learn.org/stable/modules/generated/sklearn.preprocessing.LabelEncoder.html)."
   ]
  },
  {
   "cell_type": "code",
   "execution_count": 10,
   "metadata": {},
   "outputs": [],
   "source": [
    "# Columns to ignore for model training\n",
    "ignore_col = [\"CustomerID\", \"ChurnPredicted\", \"ChurnProbability\"]\n",
    "# Target columns\n",
    "target_col = [\"Churn\"]\n",
    "\n",
    "binary_df = data_utils.data_preprocessing(telcom, ignore_col, target_col)"
   ]
  },
  {
   "cell_type": "code",
   "execution_count": 11,
   "metadata": {},
   "outputs": [
    {
     "data": {
      "text/html": [
       "<div>\n",
       "<style scoped>\n",
       "    .dataframe tbody tr th:only-of-type {\n",
       "        vertical-align: middle;\n",
       "    }\n",
       "\n",
       "    .dataframe tbody tr th {\n",
       "        vertical-align: top;\n",
       "    }\n",
       "\n",
       "    .dataframe thead th {\n",
       "        text-align: right;\n",
       "    }\n",
       "</style>\n",
       "<table border=\"1\" class=\"dataframe\">\n",
       "  <thead>\n",
       "    <tr style=\"text-align: right;\">\n",
       "      <th></th>\n",
       "      <th>CustomerID</th>\n",
       "      <th>Gender</th>\n",
       "      <th>SeniorCitizen</th>\n",
       "      <th>Partner</th>\n",
       "      <th>Dependents</th>\n",
       "      <th>PhoneService</th>\n",
       "      <th>OnlineSecurity</th>\n",
       "      <th>OnlineBackup</th>\n",
       "      <th>DeviceProtection</th>\n",
       "      <th>TechSupport</th>\n",
       "      <th>...</th>\n",
       "      <th>PaymentMethod_Mailed check</th>\n",
       "      <th>TenureGroup_Tenure_0-12</th>\n",
       "      <th>TenureGroup_Tenure_12-24</th>\n",
       "      <th>TenureGroup_Tenure_24-48</th>\n",
       "      <th>TenureGroup_Tenure_48-60</th>\n",
       "      <th>TenureGroup_Tenure_gt_60</th>\n",
       "      <th>ChurnProbability_1.0</th>\n",
       "      <th>Tenure</th>\n",
       "      <th>MonthlyCharges</th>\n",
       "      <th>TotalCharges</th>\n",
       "    </tr>\n",
       "  </thead>\n",
       "  <tbody>\n",
       "    <tr>\n",
       "      <th>0</th>\n",
       "      <td>7590-VHVEG</td>\n",
       "      <td>0</td>\n",
       "      <td>0</td>\n",
       "      <td>1</td>\n",
       "      <td>0</td>\n",
       "      <td>0</td>\n",
       "      <td>0</td>\n",
       "      <td>1</td>\n",
       "      <td>0</td>\n",
       "      <td>0</td>\n",
       "      <td>...</td>\n",
       "      <td>0</td>\n",
       "      <td>1</td>\n",
       "      <td>0</td>\n",
       "      <td>0</td>\n",
       "      <td>0</td>\n",
       "      <td>0</td>\n",
       "      <td>1</td>\n",
       "      <td>-1.280248</td>\n",
       "      <td>-1.161694</td>\n",
       "      <td>-0.994194</td>\n",
       "    </tr>\n",
       "    <tr>\n",
       "      <th>1</th>\n",
       "      <td>5575-GNVDE</td>\n",
       "      <td>1</td>\n",
       "      <td>0</td>\n",
       "      <td>0</td>\n",
       "      <td>0</td>\n",
       "      <td>1</td>\n",
       "      <td>1</td>\n",
       "      <td>0</td>\n",
       "      <td>1</td>\n",
       "      <td>0</td>\n",
       "      <td>...</td>\n",
       "      <td>1</td>\n",
       "      <td>0</td>\n",
       "      <td>0</td>\n",
       "      <td>1</td>\n",
       "      <td>0</td>\n",
       "      <td>0</td>\n",
       "      <td>1</td>\n",
       "      <td>0.064303</td>\n",
       "      <td>-0.260878</td>\n",
       "      <td>-0.173740</td>\n",
       "    </tr>\n",
       "    <tr>\n",
       "      <th>2</th>\n",
       "      <td>3668-QPYBK</td>\n",
       "      <td>1</td>\n",
       "      <td>0</td>\n",
       "      <td>0</td>\n",
       "      <td>0</td>\n",
       "      <td>1</td>\n",
       "      <td>1</td>\n",
       "      <td>1</td>\n",
       "      <td>0</td>\n",
       "      <td>0</td>\n",
       "      <td>...</td>\n",
       "      <td>1</td>\n",
       "      <td>1</td>\n",
       "      <td>0</td>\n",
       "      <td>0</td>\n",
       "      <td>0</td>\n",
       "      <td>0</td>\n",
       "      <td>1</td>\n",
       "      <td>-1.239504</td>\n",
       "      <td>-0.363923</td>\n",
       "      <td>-0.959649</td>\n",
       "    </tr>\n",
       "    <tr>\n",
       "      <th>3</th>\n",
       "      <td>7795-CFOCW</td>\n",
       "      <td>1</td>\n",
       "      <td>0</td>\n",
       "      <td>0</td>\n",
       "      <td>0</td>\n",
       "      <td>0</td>\n",
       "      <td>1</td>\n",
       "      <td>0</td>\n",
       "      <td>1</td>\n",
       "      <td>1</td>\n",
       "      <td>...</td>\n",
       "      <td>0</td>\n",
       "      <td>0</td>\n",
       "      <td>0</td>\n",
       "      <td>1</td>\n",
       "      <td>0</td>\n",
       "      <td>0</td>\n",
       "      <td>1</td>\n",
       "      <td>0.512486</td>\n",
       "      <td>-0.747850</td>\n",
       "      <td>-0.195248</td>\n",
       "    </tr>\n",
       "    <tr>\n",
       "      <th>4</th>\n",
       "      <td>9237-HQITU</td>\n",
       "      <td>0</td>\n",
       "      <td>0</td>\n",
       "      <td>0</td>\n",
       "      <td>0</td>\n",
       "      <td>1</td>\n",
       "      <td>0</td>\n",
       "      <td>0</td>\n",
       "      <td>0</td>\n",
       "      <td>0</td>\n",
       "      <td>...</td>\n",
       "      <td>0</td>\n",
       "      <td>1</td>\n",
       "      <td>0</td>\n",
       "      <td>0</td>\n",
       "      <td>0</td>\n",
       "      <td>0</td>\n",
       "      <td>1</td>\n",
       "      <td>-1.239504</td>\n",
       "      <td>0.196178</td>\n",
       "      <td>-0.940457</td>\n",
       "    </tr>\n",
       "    <tr>\n",
       "      <th>...</th>\n",
       "      <td>...</td>\n",
       "      <td>...</td>\n",
       "      <td>...</td>\n",
       "      <td>...</td>\n",
       "      <td>...</td>\n",
       "      <td>...</td>\n",
       "      <td>...</td>\n",
       "      <td>...</td>\n",
       "      <td>...</td>\n",
       "      <td>...</td>\n",
       "      <td>...</td>\n",
       "      <td>...</td>\n",
       "      <td>...</td>\n",
       "      <td>...</td>\n",
       "      <td>...</td>\n",
       "      <td>...</td>\n",
       "      <td>...</td>\n",
       "      <td>...</td>\n",
       "      <td>...</td>\n",
       "      <td>...</td>\n",
       "      <td>...</td>\n",
       "    </tr>\n",
       "    <tr>\n",
       "      <th>7027</th>\n",
       "      <td>6840-RESVB</td>\n",
       "      <td>1</td>\n",
       "      <td>0</td>\n",
       "      <td>1</td>\n",
       "      <td>1</td>\n",
       "      <td>1</td>\n",
       "      <td>1</td>\n",
       "      <td>0</td>\n",
       "      <td>1</td>\n",
       "      <td>1</td>\n",
       "      <td>...</td>\n",
       "      <td>1</td>\n",
       "      <td>0</td>\n",
       "      <td>1</td>\n",
       "      <td>0</td>\n",
       "      <td>0</td>\n",
       "      <td>0</td>\n",
       "      <td>1</td>\n",
       "      <td>-0.343137</td>\n",
       "      <td>0.664868</td>\n",
       "      <td>-0.129180</td>\n",
       "    </tr>\n",
       "    <tr>\n",
       "      <th>7028</th>\n",
       "      <td>2234-XADUH</td>\n",
       "      <td>0</td>\n",
       "      <td>0</td>\n",
       "      <td>1</td>\n",
       "      <td>1</td>\n",
       "      <td>1</td>\n",
       "      <td>0</td>\n",
       "      <td>1</td>\n",
       "      <td>1</td>\n",
       "      <td>0</td>\n",
       "      <td>...</td>\n",
       "      <td>0</td>\n",
       "      <td>0</td>\n",
       "      <td>0</td>\n",
       "      <td>0</td>\n",
       "      <td>0</td>\n",
       "      <td>1</td>\n",
       "      <td>1</td>\n",
       "      <td>1.612573</td>\n",
       "      <td>1.276493</td>\n",
       "      <td>2.241056</td>\n",
       "    </tr>\n",
       "    <tr>\n",
       "      <th>7029</th>\n",
       "      <td>4801-JZAZL</td>\n",
       "      <td>0</td>\n",
       "      <td>0</td>\n",
       "      <td>1</td>\n",
       "      <td>1</td>\n",
       "      <td>0</td>\n",
       "      <td>1</td>\n",
       "      <td>0</td>\n",
       "      <td>0</td>\n",
       "      <td>0</td>\n",
       "      <td>...</td>\n",
       "      <td>0</td>\n",
       "      <td>1</td>\n",
       "      <td>0</td>\n",
       "      <td>0</td>\n",
       "      <td>0</td>\n",
       "      <td>0</td>\n",
       "      <td>1</td>\n",
       "      <td>-0.872808</td>\n",
       "      <td>-1.170004</td>\n",
       "      <td>-0.854514</td>\n",
       "    </tr>\n",
       "    <tr>\n",
       "      <th>7030</th>\n",
       "      <td>8361-LTMKD</td>\n",
       "      <td>1</td>\n",
       "      <td>1</td>\n",
       "      <td>1</td>\n",
       "      <td>0</td>\n",
       "      <td>1</td>\n",
       "      <td>0</td>\n",
       "      <td>0</td>\n",
       "      <td>0</td>\n",
       "      <td>0</td>\n",
       "      <td>...</td>\n",
       "      <td>1</td>\n",
       "      <td>1</td>\n",
       "      <td>0</td>\n",
       "      <td>0</td>\n",
       "      <td>0</td>\n",
       "      <td>0</td>\n",
       "      <td>1</td>\n",
       "      <td>-1.158016</td>\n",
       "      <td>0.319168</td>\n",
       "      <td>-0.872095</td>\n",
       "    </tr>\n",
       "    <tr>\n",
       "      <th>7031</th>\n",
       "      <td>3186-AJIEK</td>\n",
       "      <td>1</td>\n",
       "      <td>0</td>\n",
       "      <td>0</td>\n",
       "      <td>0</td>\n",
       "      <td>1</td>\n",
       "      <td>1</td>\n",
       "      <td>0</td>\n",
       "      <td>1</td>\n",
       "      <td>1</td>\n",
       "      <td>...</td>\n",
       "      <td>0</td>\n",
       "      <td>0</td>\n",
       "      <td>0</td>\n",
       "      <td>0</td>\n",
       "      <td>0</td>\n",
       "      <td>1</td>\n",
       "      <td>1</td>\n",
       "      <td>1.368109</td>\n",
       "      <td>1.357932</td>\n",
       "      <td>2.012344</td>\n",
       "    </tr>\n",
       "  </tbody>\n",
       "</table>\n",
       "<p>7032 rows × 37 columns</p>\n",
       "</div>"
      ],
      "text/plain": [
       "      CustomerID  Gender  SeniorCitizen  Partner  Dependents  PhoneService  \\\n",
       "0     7590-VHVEG       0              0        1           0             0   \n",
       "1     5575-GNVDE       1              0        0           0             1   \n",
       "2     3668-QPYBK       1              0        0           0             1   \n",
       "3     7795-CFOCW       1              0        0           0             0   \n",
       "4     9237-HQITU       0              0        0           0             1   \n",
       "...          ...     ...            ...      ...         ...           ...   \n",
       "7027  6840-RESVB       1              0        1           1             1   \n",
       "7028  2234-XADUH       0              0        1           1             1   \n",
       "7029  4801-JZAZL       0              0        1           1             0   \n",
       "7030  8361-LTMKD       1              1        1           0             1   \n",
       "7031  3186-AJIEK       1              0        0           0             1   \n",
       "\n",
       "      OnlineSecurity  OnlineBackup  DeviceProtection  TechSupport  ...  \\\n",
       "0                  0             1                 0            0  ...   \n",
       "1                  1             0                 1            0  ...   \n",
       "2                  1             1                 0            0  ...   \n",
       "3                  1             0                 1            1  ...   \n",
       "4                  0             0                 0            0  ...   \n",
       "...              ...           ...               ...          ...  ...   \n",
       "7027               1             0                 1            1  ...   \n",
       "7028               0             1                 1            0  ...   \n",
       "7029               1             0                 0            0  ...   \n",
       "7030               0             0                 0            0  ...   \n",
       "7031               1             0                 1            1  ...   \n",
       "\n",
       "      PaymentMethod_Mailed check  TenureGroup_Tenure_0-12  \\\n",
       "0                              0                        1   \n",
       "1                              1                        0   \n",
       "2                              1                        1   \n",
       "3                              0                        0   \n",
       "4                              0                        1   \n",
       "...                          ...                      ...   \n",
       "7027                           1                        0   \n",
       "7028                           0                        0   \n",
       "7029                           0                        1   \n",
       "7030                           1                        1   \n",
       "7031                           0                        0   \n",
       "\n",
       "      TenureGroup_Tenure_12-24  TenureGroup_Tenure_24-48  \\\n",
       "0                            0                         0   \n",
       "1                            0                         1   \n",
       "2                            0                         0   \n",
       "3                            0                         1   \n",
       "4                            0                         0   \n",
       "...                        ...                       ...   \n",
       "7027                         1                         0   \n",
       "7028                         0                         0   \n",
       "7029                         0                         0   \n",
       "7030                         0                         0   \n",
       "7031                         0                         0   \n",
       "\n",
       "      TenureGroup_Tenure_48-60  TenureGroup_Tenure_gt_60  \\\n",
       "0                            0                         0   \n",
       "1                            0                         0   \n",
       "2                            0                         0   \n",
       "3                            0                         0   \n",
       "4                            0                         0   \n",
       "...                        ...                       ...   \n",
       "7027                         0                         0   \n",
       "7028                         0                         1   \n",
       "7029                         0                         0   \n",
       "7030                         0                         0   \n",
       "7031                         0                         1   \n",
       "\n",
       "      ChurnProbability_1.0    Tenure  MonthlyCharges  TotalCharges  \n",
       "0                        1 -1.280248       -1.161694     -0.994194  \n",
       "1                        1  0.064303       -0.260878     -0.173740  \n",
       "2                        1 -1.239504       -0.363923     -0.959649  \n",
       "3                        1  0.512486       -0.747850     -0.195248  \n",
       "4                        1 -1.239504        0.196178     -0.940457  \n",
       "...                    ...       ...             ...           ...  \n",
       "7027                     1 -0.343137        0.664868     -0.129180  \n",
       "7028                     1  1.612573        1.276493      2.241056  \n",
       "7029                     1 -0.872808       -1.170004     -0.854514  \n",
       "7030                     1 -1.158016        0.319168     -0.872095  \n",
       "7031                     1  1.368109        1.357932      2.012344  \n",
       "\n",
       "[7032 rows x 37 columns]"
      ]
     },
     "execution_count": 11,
     "metadata": {},
     "output_type": "execute_result"
    }
   ],
   "source": [
    "binary_df"
   ]
  },
  {
   "cell_type": "markdown",
   "metadata": {},
   "source": [
    "We split the data into train and test data to be used by the machine learning algorithms."
   ]
  },
  {
   "cell_type": "code",
   "execution_count": 12,
   "metadata": {},
   "outputs": [],
   "source": [
    "train, test = train_test_split(binary_df, test_size=0.25, random_state=111)\n",
    "\n",
    "# separating dependent and independent variables\n",
    "cols = [i for i in binary_df.columns if i not in ignore_col + target_col]\n",
    "train_X = train[cols]\n",
    "train_Y = train[target_col]\n",
    "test_X = test[cols]\n",
    "test_Y = test[target_col]\n",
    "\n",
    "X = binary_df[cols]\n",
    "Y = binary_df[target_col]"
   ]
  },
  {
   "cell_type": "markdown",
   "metadata": {},
   "source": [
    "### Model Training\n",
    "\n",
    "You can expand the below sections to look at how we train the models below. As we referenced the algorithm, we will not explained it further. Our purpose is to analyse the prediction and its impact on the telco churn."
   ]
  },
  {
   "cell_type": "markdown",
   "metadata": {},
   "source": [
    "#### Logistic Regression Model"
   ]
  },
  {
   "cell_type": "code",
   "execution_count": 13,
   "metadata": {},
   "outputs": [
    {
     "name": "stdout",
     "output_type": "stream",
     "text": [
      "LogisticRegression(multi_class='ovr', n_jobs=1, solver='liblinear')\n",
      "\n",
      " Classification report : \n",
      "               precision    recall  f1-score   support\n",
      "\n",
      "           0       0.83      0.91      0.87      1268\n",
      "           1       0.69      0.53      0.60       490\n",
      "\n",
      "    accuracy                           0.80      1758\n",
      "   macro avg       0.76      0.72      0.73      1758\n",
      "weighted avg       0.79      0.80      0.79      1758\n",
      "\n",
      "Accuracy   Score :  0.8014789533560864\n",
      "Area under curve :  0.7177557458314555 \n",
      "\n"
     ]
    }
   ],
   "source": [
    "from sklearn.linear_model import LogisticRegression\n",
    "\n",
    "# predictions,probabilities = ml.run_predictive(telcom)\n",
    "logit = LogisticRegression(\n",
    "    C=1.0,\n",
    "    class_weight=None,\n",
    "    dual=False,\n",
    "    fit_intercept=True,\n",
    "    intercept_scaling=1,\n",
    "    max_iter=100,\n",
    "    multi_class=\"ovr\",\n",
    "    n_jobs=1,\n",
    "    penalty=\"l2\",\n",
    "    random_state=None,\n",
    "    solver=\"liblinear\",\n",
    "    tol=0.0001,\n",
    "    verbose=0,\n",
    "    warm_start=False,\n",
    ")\n",
    "\n",
    "logit = prediction.churn_prediction(\n",
    "    logit, train_X, test_X, train_Y, test_Y, cols, \"coefficients\", threshold_plot=True\n",
    ")"
   ]
  },
  {
   "cell_type": "markdown",
   "metadata": {},
   "source": [
    "#### Logistic Regression (SMOTE) Model\n",
    "\n",
    "Synthetic Minority Over-sampling TEchnique (SMOTE) is used to resolve class imbalance problems."
   ]
  },
  {
   "cell_type": "code",
   "execution_count": 14,
   "metadata": {},
   "outputs": [
    {
     "name": "stdout",
     "output_type": "stream",
     "text": [
      "LogisticRegression(multi_class='ovr', n_jobs=1, solver='liblinear')\n",
      "\n",
      " Classification report : \n",
      "               precision    recall  f1-score   support\n",
      "\n",
      "           0       0.87      0.81      0.84      1268\n",
      "           1       0.59      0.69      0.64       490\n",
      "\n",
      "    accuracy                           0.78      1758\n",
      "   macro avg       0.73      0.75      0.74      1758\n",
      "weighted avg       0.79      0.78      0.79      1758\n",
      "\n",
      "Accuracy   Score :  0.7804323094425484\n",
      "Area under curve :  0.7538788386016867 \n",
      "\n"
     ]
    }
   ],
   "source": [
    "from imblearn.over_sampling import SMOTE\n",
    "\n",
    "smote_X = binary_df[cols]\n",
    "smote_Y = binary_df[target_col]\n",
    "\n",
    "# Split train and test data\n",
    "smote_train_X, smote_test_X, smote_train_Y, smote_test_Y = train_test_split(\n",
    "    smote_X, smote_Y, test_size=0.25, random_state=111\n",
    ")\n",
    "\n",
    "# oversampling minority class using smote\n",
    "os = SMOTE(random_state=0)\n",
    "os_smote_X, os_smote_Y = os.fit_sample(smote_train_X, smote_train_Y)\n",
    "os_smote_X = pd.DataFrame(data=os_smote_X, columns=cols)\n",
    "os_smote_Y = pd.DataFrame(data=os_smote_Y, columns=target_col)\n",
    "\n",
    "logit_smote = LogisticRegression(\n",
    "    C=1.0,\n",
    "    class_weight=None,\n",
    "    dual=False,\n",
    "    fit_intercept=True,\n",
    "    intercept_scaling=1,\n",
    "    max_iter=100,\n",
    "    multi_class=\"ovr\",\n",
    "    n_jobs=1,\n",
    "    penalty=\"l2\",\n",
    "    random_state=None,\n",
    "    solver=\"liblinear\",\n",
    "    tol=0.0001,\n",
    "    verbose=0,\n",
    "    warm_start=False,\n",
    ")\n",
    "\n",
    "logit_smote = prediction.churn_prediction(\n",
    "    logit_smote,\n",
    "    os_smote_X,\n",
    "    test_X,\n",
    "    os_smote_Y,\n",
    "    test_Y,\n",
    "    cols,\n",
    "    \"coefficients\",\n",
    "    threshold_plot=True,\n",
    ")"
   ]
  },
  {
   "cell_type": "markdown",
   "metadata": {},
   "source": [
    "#### Naive Bayes Model\n",
    "\n",
    "Gaussian Naive Bayes algorithm can be used with the hypothesis that features are independent from each other and their distribution being Gaussian."
   ]
  },
  {
   "cell_type": "code",
   "execution_count": 15,
   "metadata": {},
   "outputs": [
    {
     "name": "stdout",
     "output_type": "stream",
     "text": [
      "GaussianNB()\n",
      "\n",
      " Classification report : \n",
      "               precision    recall  f1-score   support\n",
      "\n",
      "           0       0.90      0.73      0.81      1268\n",
      "           1       0.53      0.80      0.64       490\n",
      "\n",
      "    accuracy                           0.75      1758\n",
      "   macro avg       0.72      0.76      0.72      1758\n",
      "weighted avg       0.80      0.75      0.76      1758\n",
      "\n",
      "Accuracy Score   :  0.7480091012514221\n",
      "Area under curve :  0.7645850769329814\n"
     ]
    }
   ],
   "source": [
    "from sklearn.naive_bayes import GaussianNB\n",
    "\n",
    "gnb = GaussianNB(priors=None)\n",
    "\n",
    "gnb = prediction.churn_prediction_alg(gnb, os_smote_X, test_X, os_smote_Y, test_Y)"
   ]
  },
  {
   "cell_type": "markdown",
   "metadata": {},
   "source": [
    "#### SVM Classifier Linear Model"
   ]
  },
  {
   "cell_type": "code",
   "execution_count": 16,
   "metadata": {},
   "outputs": [
    {
     "name": "stdout",
     "output_type": "stream",
     "text": [
      "SVC(gamma=1.0, kernel='linear', probability=True)\n",
      "\n",
      " Classification report : \n",
      "               precision    recall  f1-score   support\n",
      "\n",
      "           0       0.87      0.82      0.84      1268\n",
      "           1       0.60      0.67      0.63       490\n",
      "\n",
      "    accuracy                           0.78      1758\n",
      "   macro avg       0.73      0.75      0.74      1758\n",
      "weighted avg       0.79      0.78      0.79      1758\n",
      "\n",
      "Accuracy   Score :  0.7815699658703071\n",
      "Area under curve :  0.7471544453743643 \n",
      "\n"
     ]
    }
   ],
   "source": [
    "from sklearn.svm import SVC\n",
    "\n",
    "# Support vector classifier\n",
    "# using linear hyper plane\n",
    "svc_lin = SVC(\n",
    "    C=1.0,\n",
    "    cache_size=200,\n",
    "    class_weight=None,\n",
    "    coef0=0.0,\n",
    "    decision_function_shape=\"ovr\",\n",
    "    degree=3,\n",
    "    gamma=1.0,\n",
    "    kernel=\"linear\",\n",
    "    max_iter=-1,\n",
    "    probability=True,\n",
    "    random_state=None,\n",
    "    shrinking=True,\n",
    "    tol=0.001,\n",
    "    verbose=False,\n",
    ")\n",
    "\n",
    "svc_lin = prediction.churn_prediction(\n",
    "    svc_lin,\n",
    "    os_smote_X,\n",
    "    test_X,\n",
    "    os_smote_Y,\n",
    "    test_Y,\n",
    "    cols,\n",
    "    \"coefficients\",\n",
    "    threshold_plot=False,\n",
    ")"
   ]
  },
  {
   "cell_type": "markdown",
   "metadata": {},
   "source": [
    "### Predictions and Scenario creation\n",
    "\n",
    "Now that we have trained the model, we are going to load the full dataset into the model to get the corresponding prediction and probability. We run the function `model_scenario` to get the `ChurnPredicted` and `ChurnProbability`.\n",
    "\n",
    "We assign the prediction from the data models to `ChurnPredicted`. If churn is predicted, we assign its corresponding probability from the data model to `ChurnProbability`. This is because we are only interested in cases where customers are churning.\n",
    "\n",
    "We convert the binary result of `ChurnPredicted` to 'Yes' and 'No' value such that we can compare it against the actual `Churn`. If the prediction matches the actual churn, we assign the value 1 to its `PredictionAccuracy`. \n",
    "\n",
    "Thereafter, we load the resultant pandas dataframe into the `customer_store` as a [scenario](https://docs.atoti.io/0.4.1/tutorial/01-Basics.html#Source-simulation). "
   ]
  },
  {
   "cell_type": "code",
   "execution_count": 17,
   "metadata": {},
   "outputs": [],
   "source": [
    "# we run the same month data against the trained models and see its accuracy against the actual churn\n",
    "def model_scenario(predictions, probabilities):\n",
    "    churnProbability = np.amax(probabilities, axis=1)\n",
    "    churn_forecast = (telcom.copy()).drop(\n",
    "        [\"ChurnPredicted\", \"ChurnProbability\"], axis=1\n",
    "    )\n",
    "\n",
    "    churn_forecast = pd.concat(\n",
    "        [\n",
    "            churn_forecast,\n",
    "            pd.DataFrame(\n",
    "                {\"ChurnPredicted\": predictions, \"ChurnProbability\": churnProbability}\n",
    "            ),\n",
    "        ],\n",
    "        axis=1,\n",
    "    )\n",
    "\n",
    "    # we are not interested in the probability if it is predicted that the client will not churn\n",
    "    churn_forecast[\"ChurnProbability\"] = np.where(\n",
    "        churn_forecast[\"ChurnPredicted\"] == 1, churn_forecast[\"ChurnProbability\"], 0\n",
    "    )\n",
    "\n",
    "    churn_forecast[\"ChurnPredicted\"] = np.where(\n",
    "        churn_forecast[\"ChurnPredicted\"] == 1, \"Yes\", \"No\"\n",
    "    )\n",
    "\n",
    "    return churn_forecast"
   ]
  },
  {
   "cell_type": "markdown",
   "metadata": {},
   "source": [
    "#### Scenario 1 - Logistic Regression Prediction "
   ]
  },
  {
   "cell_type": "code",
   "execution_count": 18,
   "metadata": {},
   "outputs": [
    {
     "name": "stderr",
     "output_type": "stream",
     "text": [
      "The store has been sampled because there are more than 10000 lines in the files to load. Call Session.load_all_data() to trigger the full load of the data.\n"
     ]
    }
   ],
   "source": [
    "lr_prediction = logit.predict(X)\n",
    "lr_probability = logit.predict_proba(X)\n",
    "\n",
    "logit_df = model_scenario(lr_prediction, lr_probability)\n",
    "customer_store.scenarios[\"Logistic Regression Prediction\"].load_pandas(logit_df)"
   ]
  },
  {
   "cell_type": "markdown",
   "metadata": {},
   "source": [
    "#### Scenario 2 - Logistic Regression (SMOTE) Prediction"
   ]
  },
  {
   "cell_type": "code",
   "execution_count": 19,
   "metadata": {},
   "outputs": [],
   "source": [
    "smote_prediction = logit_smote.predict(X)\n",
    "smote_probability = logit_smote.predict_proba(X)\n",
    "\n",
    "smote_df = model_scenario(smote_prediction, smote_probability)\n",
    "customer_store.scenarios[\"Logistic Regression (SMOTE) Prediction\"].load_pandas(smote_df)"
   ]
  },
  {
   "cell_type": "markdown",
   "metadata": {},
   "source": [
    "#### Scenario 3 - Naive Bayes Prediction"
   ]
  },
  {
   "cell_type": "code",
   "execution_count": 20,
   "metadata": {},
   "outputs": [],
   "source": [
    "gnb_prediction = gnb.predict(X)\n",
    "gnb_probability = gnb.predict_proba(X)\n",
    "\n",
    "gnb_df = model_scenario(gnb_prediction, gnb_probability)\n",
    "customer_store.scenarios[\"Naive Bayes Prediction\"].load_pandas(gnb_df)"
   ]
  },
  {
   "cell_type": "markdown",
   "metadata": {},
   "source": [
    "#### Scenario 4 - SVM Classifier Linear Prediction"
   ]
  },
  {
   "cell_type": "code",
   "execution_count": 21,
   "metadata": {},
   "outputs": [],
   "source": [
    "svm_prediction = svc_lin.predict(X)\n",
    "svm_probability = svc_lin.predict_proba(X)\n",
    "\n",
    "svm_df = model_scenario(svm_prediction, svm_probability)\n",
    "customer_store.scenarios[\"SVM Classifier Linear Prediction\"].load_pandas(svm_df)"
   ]
  },
  {
   "cell_type": "markdown",
   "metadata": {},
   "source": [
    "## Telco Churn Data Analysis\n",
    "\n",
    "Large stores are sampled by default in atoti as we saw when we load the _Logistic Regression Prediction_ into the scenario.  \n",
    "Now that we are ready with our analysis, let's [load all our data](https://docs.atoti.io/0.4.1/tutorial/02-Configuration.html#Sampling-mode)."
   ]
  },
  {
   "cell_type": "code",
   "execution_count": 22,
   "metadata": {},
   "outputs": [],
   "source": [
    "session.load_all_data()"
   ]
  },
  {
   "cell_type": "markdown",
   "metadata": {},
   "source": [
    "Let's have a quick overview of each prediction results."
   ]
  },
  {
   "cell_type": "code",
   "execution_count": 23,
   "metadata": {
    "atoti": {
     "state": {
      "name": "Last month customer attrition by models",
      "type": "container",
      "value": {
       "body": {
        "configuration": {
         "mapping": {
          "horizontalSubplots": [],
          "splitBy": [
           "[Customer].[ChurnPredicted].[ChurnPredicted]"
          ],
          "values": [
           "[Measures].[contributors.COUNT]"
          ],
          "verticalSubplots": [],
          "yAxis": [
           "[Epoch].[Epoch].[Branch]"
          ]
         },
         "type": "plotly-clustered-bar-chart"
        },
        "query": {
         "mdx": "WITH  Member [Measures].[[Epoch]].[Epoch]].[Branch]]_for_order] AS [Epoch].[Epoch].CurrentMember.MEMBER_VALUE  SELECT NON EMPTY Order(Crossjoin([Epoch].[Epoch].[Branch].Members, [Customer].[ChurnPredicted].[ChurnPredicted].Members), [Measures].[[Epoch]].[Epoch]].[Branch]]_for_order], BDESC) ON ROWS, NON EMPTY [Measures].[contributors.COUNT] ON COLUMNS FROM [customer_cube] CELL PROPERTIES BACK_COLOR, FONT_FLAGS, FORE_COLOR, FORMATTED_VALUE, VALUE",
         "serverUrl": "",
         "updateMode": "once"
        }
       },
       "containerKey": "chart",
       "showTitleBar": false,
       "style": {}
      }
     }
    }
   },
   "outputs": [
    {
     "data": {
      "application/vnd.atoti.v0+json": {
       "cellSet": {
        "axes": [
         {
          "hierarchies": [
           {
            "dimension": "Measures",
            "hierarchy": "Measures"
           }
          ],
          "id": 0,
          "positions": [
           [
            {
             "captionPath": [
              "Count"
             ],
             "namePath": [
              "contributors.COUNT"
             ],
             "properties": {
              "DISPLAY_INFO": 0
             }
            }
           ]
          ]
         },
         {
          "hierarchies": [
           {
            "dimension": "Epoch",
            "hierarchy": "Epoch"
           },
           {
            "dimension": "Customer",
            "hierarchy": "ChurnPredicted"
           }
          ],
          "id": 1,
          "positions": [
           [
            {
             "captionPath": [
              "SVM Classifier Linear Prediction"
             ],
             "namePath": [
              "SVM Classifier Linear Prediction"
             ],
             "properties": {
              "DISPLAY_INFO": 0
             }
            },
            {
             "captionPath": [
              "AllMember",
              "No"
             ],
             "namePath": [
              "AllMember",
              "No"
             ],
             "properties": {
              "DISPLAY_INFO": 0
             }
            }
           ],
           [
            {
             "captionPath": [
              "SVM Classifier Linear Prediction"
             ],
             "namePath": [
              "SVM Classifier Linear Prediction"
             ],
             "properties": {
              "DISPLAY_INFO": 0
             }
            },
            {
             "captionPath": [
              "AllMember",
              "Yes"
             ],
             "namePath": [
              "AllMember",
              "Yes"
             ],
             "properties": {
              "DISPLAY_INFO": 131072
             }
            }
           ],
           [
            {
             "captionPath": [
              "Naive Bayes Prediction"
             ],
             "namePath": [
              "Naive Bayes Prediction"
             ],
             "properties": {
              "DISPLAY_INFO": 0
             }
            },
            {
             "captionPath": [
              "AllMember",
              "Yes"
             ],
             "namePath": [
              "AllMember",
              "Yes"
             ],
             "properties": {
              "DISPLAY_INFO": 131072
             }
            }
           ],
           [
            {
             "captionPath": [
              "Naive Bayes Prediction"
             ],
             "namePath": [
              "Naive Bayes Prediction"
             ],
             "properties": {
              "DISPLAY_INFO": 0
             }
            },
            {
             "captionPath": [
              "AllMember",
              "No"
             ],
             "namePath": [
              "AllMember",
              "No"
             ],
             "properties": {
              "DISPLAY_INFO": 131072
             }
            }
           ],
           [
            {
             "captionPath": [
              "Logistic Regression Prediction"
             ],
             "namePath": [
              "Logistic Regression Prediction"
             ],
             "properties": {
              "DISPLAY_INFO": 0
             }
            },
            {
             "captionPath": [
              "AllMember",
              "No"
             ],
             "namePath": [
              "AllMember",
              "No"
             ],
             "properties": {
              "DISPLAY_INFO": 131072
             }
            }
           ],
           [
            {
             "captionPath": [
              "Logistic Regression Prediction"
             ],
             "namePath": [
              "Logistic Regression Prediction"
             ],
             "properties": {
              "DISPLAY_INFO": 0
             }
            },
            {
             "captionPath": [
              "AllMember",
              "Yes"
             ],
             "namePath": [
              "AllMember",
              "Yes"
             ],
             "properties": {
              "DISPLAY_INFO": 131072
             }
            }
           ],
           [
            {
             "captionPath": [
              "Logistic Regression (SMOTE) Prediction"
             ],
             "namePath": [
              "Logistic Regression (SMOTE) Prediction"
             ],
             "properties": {
              "DISPLAY_INFO": 0
             }
            },
            {
             "captionPath": [
              "AllMember",
              "No"
             ],
             "namePath": [
              "AllMember",
              "No"
             ],
             "properties": {
              "DISPLAY_INFO": 131072
             }
            }
           ],
           [
            {
             "captionPath": [
              "Logistic Regression (SMOTE) Prediction"
             ],
             "namePath": [
              "Logistic Regression (SMOTE) Prediction"
             ],
             "properties": {
              "DISPLAY_INFO": 0
             }
            },
            {
             "captionPath": [
              "AllMember",
              "Yes"
             ],
             "namePath": [
              "AllMember",
              "Yes"
             ],
             "properties": {
              "DISPLAY_INFO": 131072
             }
            }
           ],
           [
            {
             "captionPath": [
              "Base"
             ],
             "namePath": [
              "Base"
             ],
             "properties": {
              "DISPLAY_INFO": 0
             }
            },
            {
             "captionPath": [
              "AllMember",
              "No"
             ],
             "namePath": [
              "AllMember",
              "No"
             ],
             "properties": {
              "DISPLAY_INFO": 131072
             }
            }
           ],
           [
            {
             "captionPath": [
              "Base"
             ],
             "namePath": [
              "Base"
             ],
             "properties": {
              "DISPLAY_INFO": 0
             }
            },
            {
             "captionPath": [
              "AllMember",
              "Yes"
             ],
             "namePath": [
              "AllMember",
              "Yes"
             ],
             "properties": {
              "DISPLAY_INFO": 131072
             }
            }
           ]
          ]
         }
        ],
        "cells": [
         {
          "formattedValue": "4,825",
          "ordinal": 0,
          "properties": {
           "BACK_COLOR": null,
           "FONT_FLAGS": 0,
           "FORE_COLOR": null
          },
          "value": 4825
         },
         {
          "formattedValue": "2,207",
          "ordinal": 1,
          "properties": {
           "BACK_COLOR": null,
           "FONT_FLAGS": 0,
           "FORE_COLOR": null
          },
          "value": 2207
         },
         {
          "formattedValue": "3,012",
          "ordinal": 2,
          "properties": {
           "BACK_COLOR": null,
           "FONT_FLAGS": 0,
           "FORE_COLOR": null
          },
          "value": 3012
         },
         {
          "formattedValue": "4,020",
          "ordinal": 3,
          "properties": {
           "BACK_COLOR": null,
           "FONT_FLAGS": 0,
           "FORE_COLOR": null
          },
          "value": 4020
         },
         {
          "formattedValue": "5,581",
          "ordinal": 4,
          "properties": {
           "BACK_COLOR": null,
           "FONT_FLAGS": 0,
           "FORE_COLOR": null
          },
          "value": 5581
         },
         {
          "formattedValue": "1,451",
          "ordinal": 5,
          "properties": {
           "BACK_COLOR": null,
           "FONT_FLAGS": 0,
           "FORE_COLOR": null
          },
          "value": 1451
         },
         {
          "formattedValue": "4,742",
          "ordinal": 6,
          "properties": {
           "BACK_COLOR": null,
           "FONT_FLAGS": 0,
           "FORE_COLOR": null
          },
          "value": 4742
         },
         {
          "formattedValue": "2,290",
          "ordinal": 7,
          "properties": {
           "BACK_COLOR": null,
           "FONT_FLAGS": 0,
           "FORE_COLOR": null
          },
          "value": 2290
         },
         {
          "formattedValue": "5,163",
          "ordinal": 8,
          "properties": {
           "BACK_COLOR": null,
           "FONT_FLAGS": 0,
           "FORE_COLOR": null
          },
          "value": 5163
         },
         {
          "formattedValue": "1,869",
          "ordinal": 9,
          "properties": {
           "BACK_COLOR": null,
           "FONT_FLAGS": 0,
           "FORE_COLOR": null
          },
          "value": 1869
         }
        ],
        "cube": "customer_cube",
        "defaultMembers": [
         {
          "captionPath": [
           "Count"
          ],
          "dimension": "Measures",
          "hierarchy": "Measures",
          "path": [
           "contributors.COUNT"
          ]
         },
         {
          "captionPath": [
           "Base"
          ],
          "dimension": "Epoch",
          "hierarchy": "Epoch",
          "path": [
           "Base"
          ]
         }
        ],
        "epoch": 1
       },
       "cube": "customer_cube",
       "error": null,
       "name": "Last month customer attrition by models",
       "session": "Unnamed"
      },
      "text/html": [
       "<img src=\"data:image/svg+xml;charset=utf8,%3C%3Fxml%20version%3D%221.0%22%20standalone%3D%22no%22%3F%3E%3Csvg%20xmlns%3D%22http%3A%2F%2Fwww.w3.org%2F2000%2Fsvg%22%20xmlns%3Axlink%3D%22http%3A%2F%2Fwww.w3.org%2F1999%2Fxlink%22%20viewBox%3D%220%200%201754%20360%22%3E%3Cdefs%20id%3D%22defs-9168ab%22%3E%3Cg%20class%3D%22clips%22%3E%3CclipPath%20id%3D%22clip9168abxyplot%22%20class%3D%22plotclip%22%3E%3Crect%20width%3D%221441%22%20height%3D%22250%22%2F%3E%3C%2FclipPath%3E%3CclipPath%20class%3D%22axesclip%22%20id%3D%22clip9168abx%22%3E%3Crect%20x%3D%22219%22%20y%3D%220%22%20width%3D%221441%22%20height%3D%22360%22%2F%3E%3C%2FclipPath%3E%3CclipPath%20class%3D%22axesclip%22%20id%3D%22clip9168aby%22%3E%3Crect%20x%3D%220%22%20y%3D%2230%22%20width%3D%221754%22%20height%3D%22250%22%2F%3E%3C%2FclipPath%3E%3CclipPath%20class%3D%22axesclip%22%20id%3D%22clip9168abxy%22%3E%3Crect%20x%3D%22219%22%20y%3D%2230%22%20width%3D%221441%22%20height%3D%22250%22%2F%3E%3C%2FclipPath%3E%3C%2Fg%3E%3Cg%20class%3D%22gradients%22%2F%3E%3C%2Fdefs%3E%3Cg%20class%3D%22bglayer%22%2F%3E%3Cg%20class%3D%22draglayer%20cursor-crosshair%22%3E%3Cg%20class%3D%22xy%22%3E%3Crect%20class%3D%22nsewdrag%20drag%22%20data-subplot%3D%22xy%22%20x%3D%22219%22%20y%3D%2230%22%20width%3D%221441%22%20height%3D%22250%22%20style%3D%22fill%3A%20transparent%3B%20stroke-width%3A%200%3B%20pointer-events%3A%20all%3B%22%2F%3E%3Crect%20class%3D%22nwdrag%20drag%20cursor-nw-resize%22%20data-subplot%3D%22xy%22%20x%3D%22199%22%20y%3D%2210%22%20width%3D%2220%22%20height%3D%2220%22%20style%3D%22fill%3A%20transparent%3B%20stroke-width%3A%200%3B%20pointer-events%3A%20all%3B%22%2F%3E%3Crect%20class%3D%22nedrag%20drag%20cursor-ne-resize%22%20data-subplot%3D%22xy%22%20x%3D%221660%22%20y%3D%2210%22%20width%3D%2220%22%20height%3D%2220%22%20style%3D%22fill%3A%20transparent%3B%20stroke-width%3A%200%3B%20pointer-events%3A%20all%3B%22%2F%3E%3Crect%20class%3D%22swdrag%20drag%20cursor-sw-resize%22%20data-subplot%3D%22xy%22%20x%3D%22199%22%20y%3D%22280%22%20width%3D%2220%22%20height%3D%2220%22%20style%3D%22fill%3A%20transparent%3B%20stroke-width%3A%200%3B%20pointer-events%3A%20all%3B%22%2F%3E%3Crect%20class%3D%22sedrag%20drag%20cursor-se-resize%22%20data-subplot%3D%22xy%22%20x%3D%221660%22%20y%3D%22280%22%20width%3D%2220%22%20height%3D%2220%22%20style%3D%22fill%3A%20transparent%3B%20stroke-width%3A%200%3B%20pointer-events%3A%20all%3B%22%2F%3E%3Crect%20class%3D%22ewdrag%20drag%20cursor-ew-resize%22%20data-subplot%3D%22xy%22%20x%3D%22363.1%22%20y%3D%22280.5%22%20width%3D%221152.8%22%20height%3D%2220%22%20style%3D%22fill%3A%20transparent%3B%20stroke-width%3A%200%3B%20pointer-events%3A%20all%3B%22%2F%3E%3Crect%20class%3D%22wdrag%20drag%20cursor-w-resize%22%20data-subplot%3D%22xy%22%20x%3D%22219%22%20y%3D%22280.5%22%20width%3D%22144.1%22%20height%3D%2220%22%20style%3D%22fill%3A%20transparent%3B%20stroke-width%3A%200%3B%20pointer-events%3A%20all%3B%22%2F%3E%3Crect%20class%3D%22edrag%20drag%20cursor-e-resize%22%20data-subplot%3D%22xy%22%20x%3D%221515.9%22%20y%3D%22280.5%22%20width%3D%22144.1%22%20height%3D%2220%22%20style%3D%22fill%3A%20transparent%3B%20stroke-width%3A%200%3B%20pointer-events%3A%20all%3B%22%2F%3E%3Crect%20class%3D%22nsdrag%20drag%20cursor-ns-resize%22%20data-subplot%3D%22xy%22%20x%3D%22198.5%22%20y%3D%2255%22%20width%3D%2220%22%20height%3D%22200%22%20style%3D%22fill%3A%20transparent%3B%20stroke-width%3A%200%3B%20pointer-events%3A%20all%3B%22%2F%3E%3Crect%20class%3D%22sdrag%20drag%20cursor-s-resize%22%20data-subplot%3D%22xy%22%20x%3D%22198.5%22%20y%3D%22255%22%20width%3D%2220%22%20height%3D%2225%22%20style%3D%22fill%3A%20transparent%3B%20stroke-width%3A%200%3B%20pointer-events%3A%20all%3B%22%2F%3E%3Crect%20class%3D%22ndrag%20drag%20cursor-n-resize%22%20data-subplot%3D%22xy%22%20x%3D%22198.5%22%20y%3D%2230%22%20width%3D%2220%22%20height%3D%2225%22%20style%3D%22fill%3A%20transparent%3B%20stroke-width%3A%200%3B%20pointer-events%3A%20all%3B%22%2F%3E%3C%2Fg%3E%3C%2Fg%3E%3Cg%20class%3D%22layer-below%22%3E%3Cg%20class%3D%22imagelayer%22%2F%3E%3Cg%20class%3D%22shapelayer%22%2F%3E%3C%2Fg%3E%3Cg%20class%3D%22cartesianlayer%22%3E%3Cg%20class%3D%22subplot%20xy%22%3E%3Cg%20class%3D%22layer-subplot%22%3E%3Cg%20class%3D%22shapelayer%22%2F%3E%3Cg%20class%3D%22imagelayer%22%2F%3E%3C%2Fg%3E%3Cg%20class%3D%22gridlayer%22%3E%3Cg%20class%3D%22x%22%3E%3Cpath%20class%3D%22xgrid%20crisp%22%20transform%3D%22translate(464.28999999999996%2C0)%22%20d%3D%22M0%2C30v250%22%20style%3D%22stroke%3A%20rgb(0%2C%200%2C%200)%3B%20stroke-opacity%3A%200.1625%3B%20stroke-width%3A%201px%3B%22%2F%3E%3Cpath%20class%3D%22xgrid%20crisp%22%20transform%3D%22translate(709.5799999999999%2C0)%22%20d%3D%22M0%2C30v250%22%20style%3D%22stroke%3A%20rgb(0%2C%200%2C%200)%3B%20stroke-opacity%3A%200.1625%3B%20stroke-width%3A%201px%3B%22%2F%3E%3Cpath%20class%3D%22xgrid%20crisp%22%20transform%3D%22translate(954.86%2C0)%22%20d%3D%22M0%2C30v250%22%20style%3D%22stroke%3A%20rgb(0%2C%200%2C%200)%3B%20stroke-opacity%3A%200.1625%3B%20stroke-width%3A%201px%3B%22%2F%3E%3Cpath%20class%3D%22xgrid%20crisp%22%20transform%3D%22translate(1200.15%2C0)%22%20d%3D%22M0%2C30v250%22%20style%3D%22stroke%3A%20rgb(0%2C%200%2C%200)%3B%20stroke-opacity%3A%200.1625%3B%20stroke-width%3A%201px%3B%22%2F%3E%3Cpath%20class%3D%22xgrid%20crisp%22%20transform%3D%22translate(1445.44%2C0)%22%20d%3D%22M0%2C30v250%22%20style%3D%22stroke%3A%20rgb(0%2C%200%2C%200)%3B%20stroke-opacity%3A%200.1625%3B%20stroke-width%3A%201px%3B%22%2F%3E%3C%2Fg%3E%3Cg%20class%3D%22y%22%3E%3Cpath%20class%3D%22ygrid%20crisp%22%20transform%3D%22translate(0%2C255)%22%20d%3D%22M219%2C0h1441%22%20style%3D%22stroke%3A%20rgb(0%2C%200%2C%200)%3B%20stroke-opacity%3A%200%3B%20stroke-width%3A%201px%3B%22%2F%3E%3Cpath%20class%3D%22ygrid%20crisp%22%20transform%3D%22translate(0%2C205)%22%20d%3D%22M219%2C0h1441%22%20style%3D%22stroke%3A%20rgb(0%2C%200%2C%200)%3B%20stroke-opacity%3A%200%3B%20stroke-width%3A%201px%3B%22%2F%3E%3Cpath%20class%3D%22ygrid%20crisp%22%20transform%3D%22translate(0%2C155)%22%20d%3D%22M219%2C0h1441%22%20style%3D%22stroke%3A%20rgb(0%2C%200%2C%200)%3B%20stroke-opacity%3A%200%3B%20stroke-width%3A%201px%3B%22%2F%3E%3Cpath%20class%3D%22ygrid%20crisp%22%20transform%3D%22translate(0%2C105)%22%20d%3D%22M219%2C0h1441%22%20style%3D%22stroke%3A%20rgb(0%2C%200%2C%200)%3B%20stroke-opacity%3A%200%3B%20stroke-width%3A%201px%3B%22%2F%3E%3Cpath%20class%3D%22ygrid%20crisp%22%20transform%3D%22translate(0%2C55)%22%20d%3D%22M219%2C0h1441%22%20style%3D%22stroke%3A%20rgb(0%2C%200%2C%200)%3B%20stroke-opacity%3A%200%3B%20stroke-width%3A%201px%3B%22%2F%3E%3C%2Fg%3E%3C%2Fg%3E%3Cg%20class%3D%22zerolinelayer%22%3E%3Cpath%20class%3D%22xzl%20zl%20crisp%22%20transform%3D%22translate(219%2C0)%22%20d%3D%22M0%2C30v250%22%20style%3D%22stroke%3A%20rgb(0%2C%200%2C%200)%3B%20stroke-opacity%3A%200.325%3B%20stroke-width%3A%201px%3B%22%2F%3E%3C%2Fg%3E%3Cpath%20class%3D%22xlines-below%22%2F%3E%3Cpath%20class%3D%22ylines-below%22%2F%3E%3Cg%20class%3D%22overlines-below%22%2F%3E%3Cg%20class%3D%22xaxislayer-below%22%2F%3E%3Cg%20class%3D%22yaxislayer-below%22%2F%3E%3Cg%20class%3D%22overaxes-below%22%2F%3E%3Cg%20class%3D%22plot%22%20transform%3D%22translate(219%2C%2030)%22%20clip-path%3D%22url('%23clip9168abxyplot')%22%3E%3Cg%20class%3D%22barlayer%20mlayer%22%3E%3Cg%20class%3D%22trace%20bars%22%20style%3D%22opacity%3A%201%3B%22%3E%3Cg%20class%3D%22points%22%3E%3Cg%20class%3D%22point%22%3E%3Cpath%20d%3D%22M0%2C245V225H1183.51V245Z%22%20style%3D%22vector-effect%3A%20non-scaling-stroke%3B%20opacity%3A%201%3B%20stroke-width%3A%200px%3B%20fill%3A%20rgb(78%2C%20121%2C%20167)%3B%20fill-opacity%3A%201%3B%22%2F%3E%3C%2Fg%3E%3Cg%20class%3D%22point%22%3E%3Cpath%20d%3D%22M0%2C195V175H986.06V195Z%22%20style%3D%22vector-effect%3A%20non-scaling-stroke%3B%20opacity%3A%201%3B%20stroke-width%3A%200px%3B%20fill%3A%20rgb(78%2C%20121%2C%20167)%3B%20fill-opacity%3A%201%3B%22%2F%3E%3C%2Fg%3E%3Cg%20class%3D%22point%22%3E%3Cpath%20d%3D%22M0%2C145V125H1368.95V145Z%22%20style%3D%22vector-effect%3A%20non-scaling-stroke%3B%20opacity%3A%201%3B%20stroke-width%3A%200px%3B%20fill%3A%20rgb(78%2C%20121%2C%20167)%3B%20fill-opacity%3A%201%3B%22%2F%3E%3C%2Fg%3E%3Cg%20class%3D%22point%22%3E%3Cpath%20d%3D%22M0%2C95V75H1163.15V95Z%22%20style%3D%22vector-effect%3A%20non-scaling-stroke%3B%20opacity%3A%201%3B%20stroke-width%3A%200px%3B%20fill%3A%20rgb(78%2C%20121%2C%20167)%3B%20fill-opacity%3A%201%3B%22%2F%3E%3C%2Fg%3E%3Cg%20class%3D%22point%22%3E%3Cpath%20d%3D%22M0%2C45V25H1266.42V45Z%22%20style%3D%22vector-effect%3A%20non-scaling-stroke%3B%20opacity%3A%201%3B%20stroke-width%3A%200px%3B%20fill%3A%20rgb(78%2C%20121%2C%20167)%3B%20fill-opacity%3A%201%3B%22%2F%3E%3C%2Fg%3E%3C%2Fg%3E%3C%2Fg%3E%3Cg%20class%3D%22trace%20bars%22%20style%3D%22opacity%3A%201%3B%22%3E%3Cg%20class%3D%22points%22%3E%3Cg%20class%3D%22point%22%3E%3Cpath%20d%3D%22M0%2C225V205H541.35V225Z%22%20style%3D%22vector-effect%3A%20non-scaling-stroke%3B%20opacity%3A%201%3B%20stroke-width%3A%200px%3B%20fill%3A%20rgb(242%2C%20142%2C%2044)%3B%20fill-opacity%3A%201%3B%22%2F%3E%3C%2Fg%3E%3Cg%20class%3D%22point%22%3E%3Cpath%20d%3D%22M0%2C175V155H738.81V175Z%22%20style%3D%22vector-effect%3A%20non-scaling-stroke%3B%20opacity%3A%201%3B%20stroke-width%3A%200px%3B%20fill%3A%20rgb(242%2C%20142%2C%2044)%3B%20fill-opacity%3A%201%3B%22%2F%3E%3C%2Fg%3E%3Cg%20class%3D%22point%22%3E%3Cpath%20d%3D%22M0%2C125V105H355.91V125Z%22%20style%3D%22vector-effect%3A%20non-scaling-stroke%3B%20opacity%3A%201%3B%20stroke-width%3A%200px%3B%20fill%3A%20rgb(242%2C%20142%2C%2044)%3B%20fill-opacity%3A%201%3B%22%2F%3E%3C%2Fg%3E%3Cg%20class%3D%22point%22%3E%3Cpath%20d%3D%22M0%2C75V55H561.71V75Z%22%20style%3D%22vector-effect%3A%20non-scaling-stroke%3B%20opacity%3A%201%3B%20stroke-width%3A%200px%3B%20fill%3A%20rgb(242%2C%20142%2C%2044)%3B%20fill-opacity%3A%201%3B%22%2F%3E%3C%2Fg%3E%3Cg%20class%3D%22point%22%3E%3Cpath%20d%3D%22M0%2C25V5H458.44V25Z%22%20style%3D%22vector-effect%3A%20non-scaling-stroke%3B%20opacity%3A%201%3B%20stroke-width%3A%200px%3B%20fill%3A%20rgb(242%2C%20142%2C%2044)%3B%20fill-opacity%3A%201%3B%22%2F%3E%3C%2Fg%3E%3C%2Fg%3E%3C%2Fg%3E%3C%2Fg%3E%3C%2Fg%3E%3Cg%20class%3D%22overplot%22%2F%3E%3Cpath%20class%3D%22xlines-above%20crisp%22%20d%3D%22M218%2C280.5H1660%22%20style%3D%22fill%3A%20none%3B%20stroke-width%3A%201px%3B%20stroke%3A%20rgb(0%2C%200%2C%200)%3B%20stroke-opacity%3A%200.1625%3B%22%2F%3E%3Cpath%20class%3D%22ylines-above%20crisp%22%20d%3D%22M218.5%2C30V280%22%20style%3D%22fill%3A%20none%3B%20stroke-width%3A%201px%3B%20stroke%3A%20rgb(0%2C%200%2C%200)%3B%20stroke-opacity%3A%200.1625%3B%22%2F%3E%3Cg%20class%3D%22overlines-above%22%2F%3E%3Cg%20class%3D%22xaxislayer-above%22%3E%3Cg%20class%3D%22xtick%22%3E%3Ctext%20text-anchor%3D%22middle%22%20x%3D%220%22%20y%3D%22295.4%22%20data-unformatted%3D%220%22%20data-math%3D%22N%22%20transform%3D%22translate(219%2C0)%22%20style%3D%22font-family%3A%20%26quot%3BOpen%20Sans%26quot%3B%2C%20verdana%2C%20arial%2C%20sans-serif%3B%20font-size%3A%2012px%3B%20fill%3A%20rgb(0%2C%200%2C%200)%3B%20fill-opacity%3A%200.65%3B%20white-space%3A%20pre%3B%22%3E0%3C%2Ftext%3E%3C%2Fg%3E%3Cg%20class%3D%22xtick%22%3E%3Ctext%20text-anchor%3D%22middle%22%20x%3D%220%22%20y%3D%22295.4%22%20data-unformatted%3D%221000%22%20data-math%3D%22N%22%20transform%3D%22translate(464.28999999999996%2C0)%22%20style%3D%22font-family%3A%20%26quot%3BOpen%20Sans%26quot%3B%2C%20verdana%2C%20arial%2C%20sans-serif%3B%20font-size%3A%2012px%3B%20fill%3A%20rgb(0%2C%200%2C%200)%3B%20fill-opacity%3A%200.65%3B%20white-space%3A%20pre%3B%22%3E1000%3C%2Ftext%3E%3C%2Fg%3E%3Cg%20class%3D%22xtick%22%3E%3Ctext%20text-anchor%3D%22middle%22%20x%3D%220%22%20y%3D%22295.4%22%20data-unformatted%3D%222000%22%20data-math%3D%22N%22%20transform%3D%22translate(709.5799999999999%2C0)%22%20style%3D%22font-family%3A%20%26quot%3BOpen%20Sans%26quot%3B%2C%20verdana%2C%20arial%2C%20sans-serif%3B%20font-size%3A%2012px%3B%20fill%3A%20rgb(0%2C%200%2C%200)%3B%20fill-opacity%3A%200.65%3B%20white-space%3A%20pre%3B%22%3E2000%3C%2Ftext%3E%3C%2Fg%3E%3Cg%20class%3D%22xtick%22%3E%3Ctext%20text-anchor%3D%22middle%22%20x%3D%220%22%20y%3D%22295.4%22%20data-unformatted%3D%223000%22%20data-math%3D%22N%22%20transform%3D%22translate(954.86%2C0)%22%20style%3D%22font-family%3A%20%26quot%3BOpen%20Sans%26quot%3B%2C%20verdana%2C%20arial%2C%20sans-serif%3B%20font-size%3A%2012px%3B%20fill%3A%20rgb(0%2C%200%2C%200)%3B%20fill-opacity%3A%200.65%3B%20white-space%3A%20pre%3B%22%3E3000%3C%2Ftext%3E%3C%2Fg%3E%3Cg%20class%3D%22xtick%22%3E%3Ctext%20text-anchor%3D%22middle%22%20x%3D%220%22%20y%3D%22295.4%22%20data-unformatted%3D%224000%22%20data-math%3D%22N%22%20transform%3D%22translate(1200.15%2C0)%22%20style%3D%22font-family%3A%20%26quot%3BOpen%20Sans%26quot%3B%2C%20verdana%2C%20arial%2C%20sans-serif%3B%20font-size%3A%2012px%3B%20fill%3A%20rgb(0%2C%200%2C%200)%3B%20fill-opacity%3A%200.65%3B%20white-space%3A%20pre%3B%22%3E4000%3C%2Ftext%3E%3C%2Fg%3E%3Cg%20class%3D%22xtick%22%3E%3Ctext%20text-anchor%3D%22middle%22%20x%3D%220%22%20y%3D%22295.4%22%20data-unformatted%3D%225000%22%20data-math%3D%22N%22%20transform%3D%22translate(1445.44%2C0)%22%20style%3D%22font-family%3A%20%26quot%3BOpen%20Sans%26quot%3B%2C%20verdana%2C%20arial%2C%20sans-serif%3B%20font-size%3A%2012px%3B%20fill%3A%20rgb(0%2C%200%2C%200)%3B%20fill-opacity%3A%200.65%3B%20white-space%3A%20pre%3B%22%3E5000%3C%2Ftext%3E%3C%2Fg%3E%3C%2Fg%3E%3Cg%20class%3D%22yaxislayer-above%22%3E%3Cg%20class%3D%22ytick%22%3E%3Ctext%20text-anchor%3D%22end%22%20x%3D%22215.6%22%20y%3D%224.199999999999999%22%20data-unformatted%3D%22SVM%20Classifier%20Linear%20Prediction%22%20data-math%3D%22N%22%20transform%3D%22translate(0%2C255)%22%20style%3D%22font-family%3A%20%26quot%3BOpen%20Sans%26quot%3B%2C%20verdana%2C%20arial%2C%20sans-serif%3B%20font-size%3A%2012px%3B%20fill%3A%20rgb(0%2C%200%2C%200)%3B%20fill-opacity%3A%200.65%3B%20white-space%3A%20pre%3B%22%3ESVM%20Classifier%20Linear%20Prediction%3C%2Ftext%3E%3C%2Fg%3E%3Cg%20class%3D%22ytick%22%3E%3Ctext%20text-anchor%3D%22end%22%20x%3D%22215.6%22%20y%3D%224.199999999999999%22%20data-unformatted%3D%22Naive%20Bayes%20Prediction%22%20data-math%3D%22N%22%20transform%3D%22translate(0%2C205)%22%20style%3D%22font-family%3A%20%26quot%3BOpen%20Sans%26quot%3B%2C%20verdana%2C%20arial%2C%20sans-serif%3B%20font-size%3A%2012px%3B%20fill%3A%20rgb(0%2C%200%2C%200)%3B%20fill-opacity%3A%200.65%3B%20white-space%3A%20pre%3B%22%3ENaive%20Bayes%20Prediction%3C%2Ftext%3E%3C%2Fg%3E%3Cg%20class%3D%22ytick%22%3E%3Ctext%20text-anchor%3D%22end%22%20x%3D%22215.6%22%20y%3D%224.199999999999999%22%20data-unformatted%3D%22Logistic%20Regression%20Prediction%22%20data-math%3D%22N%22%20transform%3D%22translate(0%2C155)%22%20style%3D%22font-family%3A%20%26quot%3BOpen%20Sans%26quot%3B%2C%20verdana%2C%20arial%2C%20sans-serif%3B%20font-size%3A%2012px%3B%20fill%3A%20rgb(0%2C%200%2C%200)%3B%20fill-opacity%3A%200.65%3B%20white-space%3A%20pre%3B%22%3ELogistic%20Regression%20Prediction%3C%2Ftext%3E%3C%2Fg%3E%3Cg%20class%3D%22ytick%22%3E%3Ctext%20text-anchor%3D%22end%22%20x%3D%22215.6%22%20y%3D%224.199999999999999%22%20data-unformatted%3D%22Logistic%20Regression%20(SMOTE)%20Prediction%22%20data-math%3D%22N%22%20transform%3D%22translate(0%2C105)%22%20style%3D%22font-family%3A%20%26quot%3BOpen%20Sans%26quot%3B%2C%20verdana%2C%20arial%2C%20sans-serif%3B%20font-size%3A%2012px%3B%20fill%3A%20rgb(0%2C%200%2C%200)%3B%20fill-opacity%3A%200.65%3B%20white-space%3A%20pre%3B%22%3ELogistic%20Regression%20(SMOTE)%20Prediction%3C%2Ftext%3E%3C%2Fg%3E%3Cg%20class%3D%22ytick%22%3E%3Ctext%20text-anchor%3D%22end%22%20x%3D%22215.6%22%20y%3D%224.199999999999999%22%20data-unformatted%3D%22Base%22%20data-math%3D%22N%22%20transform%3D%22translate(0%2C55)%22%20style%3D%22font-family%3A%20%26quot%3BOpen%20Sans%26quot%3B%2C%20verdana%2C%20arial%2C%20sans-serif%3B%20font-size%3A%2012px%3B%20fill%3A%20rgb(0%2C%200%2C%200)%3B%20fill-opacity%3A%200.65%3B%20white-space%3A%20pre%3B%22%3EBase%3C%2Ftext%3E%3C%2Fg%3E%3C%2Fg%3E%3Cg%20class%3D%22overaxes-above%22%2F%3E%3C%2Fg%3E%3C%2Fg%3E%3Cg%20class%3D%22polarlayer%22%2F%3E%3Cg%20class%3D%22ternarylayer%22%2F%3E%3Cg%20class%3D%22geolayer%22%2F%3E%3Cg%20class%3D%22funnelarealayer%22%2F%3E%3Cg%20class%3D%22pielayer%22%2F%3E%3Cg%20class%3D%22treemaplayer%22%2F%3E%3Cg%20class%3D%22sunburstlayer%22%2F%3E%3Cg%20class%3D%22glimages%22%2F%3E%3Cdefs%20id%3D%22topdefs-9168ab%22%3E%3Cg%20class%3D%22clips%22%2F%3E%3CclipPath%20id%3D%22legend9168ab%22%3E%3Crect%20width%3D%2265%22%20height%3D%2258%22%20x%3D%220%22%20y%3D%220%22%2F%3E%3C%2FclipPath%3E%3C%2Fdefs%3E%3Cg%20class%3D%22indicatorlayer%22%2F%3E%3Cg%20class%3D%22layer-above%22%3E%3Cg%20class%3D%22imagelayer%22%2F%3E%3Cg%20class%3D%22shapelayer%22%2F%3E%3C%2Fg%3E%3Cg%20class%3D%22infolayer%22%3E%3Cg%20class%3D%22legend%22%20pointer-events%3D%22all%22%20transform%3D%22translate(1688.82%2C%2030)%22%3E%3Crect%20class%3D%22bg%22%20shape-rendering%3D%22crispEdges%22%20width%3D%2265%22%20height%3D%2258%22%20x%3D%220%22%20y%3D%220%22%20style%3D%22stroke%3A%20rgb(68%2C%2068%2C%2068)%3B%20stroke-opacity%3A%201%3B%20fill%3A%20rgb(255%2C%20255%2C%20255)%3B%20fill-opacity%3A%201%3B%20stroke-width%3A%200px%3B%22%2F%3E%3Cg%20class%3D%22scrollbox%22%20transform%3D%22translate(0%2C%200)%22%20clip-path%3D%22url('%23legend9168ab')%22%3E%3Cg%20class%3D%22groups%22%20transform%3D%22translate(0%2C%200)%22%3E%3Cg%20class%3D%22traces%22%20transform%3D%22translate(0%2C%2014.5)%22%20style%3D%22opacity%3A%201%3B%22%3E%3Ctext%20class%3D%22legendtext%20user-select-none%22%20text-anchor%3D%22start%22%20x%3D%2240%22%20y%3D%224.680000000000001%22%20data-unformatted%3D%22No%22%20data-math%3D%22N%22%20style%3D%22font-family%3A%20%26quot%3BOpen%20Sans%26quot%3B%2C%20verdana%2C%20arial%2C%20sans-serif%3B%20font-size%3A%2012px%3B%20fill%3A%20rgb(0%2C%200%2C%200)%3B%20fill-opacity%3A%200.65%3B%20white-space%3A%20pre%3B%22%3ENo%3C%2Ftext%3E%3Cg%20class%3D%22layers%22%20style%3D%22opacity%3A%201%3B%22%3E%3Cg%20class%3D%22legendfill%22%2F%3E%3Cg%20class%3D%22legendlines%22%2F%3E%3Cg%20class%3D%22legendsymbols%22%3E%3Cg%20class%3D%22legendpoints%22%3E%3Cpath%20class%3D%22legendundefined%22%20d%3D%22M6%2C6H-6V-6H6Z%22%20transform%3D%22translate(20%2C0)%22%20style%3D%22stroke-width%3A%200px%3B%20fill%3A%20rgb(78%2C%20121%2C%20167)%3B%20fill-opacity%3A%201%3B%22%2F%3E%3C%2Fg%3E%3C%2Fg%3E%3C%2Fg%3E%3Crect%20class%3D%22legendtoggle%22%20pointer-events%3D%22all%22%20x%3D%220%22%20y%3D%22-9.5%22%20width%3D%2259.578125%22%20height%3D%2219%22%20style%3D%22cursor%3A%20pointer%3B%20fill%3A%20rgb(0%2C%200%2C%200)%3B%20fill-opacity%3A%200%3B%22%2F%3E%3C%2Fg%3E%3C%2Fg%3E%3Cg%20class%3D%22groups%22%20transform%3D%22translate(0%2C%2010)%22%3E%3Cg%20class%3D%22traces%22%20transform%3D%22translate(0%2C%2033.5)%22%20style%3D%22opacity%3A%201%3B%22%3E%3Ctext%20class%3D%22legendtext%20user-select-none%22%20text-anchor%3D%22start%22%20x%3D%2240%22%20y%3D%224.680000000000001%22%20data-unformatted%3D%22Yes%22%20data-math%3D%22N%22%20style%3D%22font-family%3A%20%26quot%3BOpen%20Sans%26quot%3B%2C%20verdana%2C%20arial%2C%20sans-serif%3B%20font-size%3A%2012px%3B%20fill%3A%20rgb(0%2C%200%2C%200)%3B%20fill-opacity%3A%200.65%3B%20white-space%3A%20pre%3B%22%3EYes%3C%2Ftext%3E%3Cg%20class%3D%22layers%22%20style%3D%22opacity%3A%201%3B%22%3E%3Cg%20class%3D%22legendfill%22%2F%3E%3Cg%20class%3D%22legendlines%22%2F%3E%3Cg%20class%3D%22legendsymbols%22%3E%3Cg%20class%3D%22legendpoints%22%3E%3Cpath%20class%3D%22legendundefined%22%20d%3D%22M6%2C6H-6V-6H6Z%22%20transform%3D%22translate(20%2C0)%22%20style%3D%22stroke-width%3A%200px%3B%20fill%3A%20rgb(242%2C%20142%2C%2044)%3B%20fill-opacity%3A%201%3B%22%2F%3E%3C%2Fg%3E%3C%2Fg%3E%3C%2Fg%3E%3Crect%20class%3D%22legendtoggle%22%20pointer-events%3D%22all%22%20x%3D%220%22%20y%3D%22-9.5%22%20width%3D%2259.578125%22%20height%3D%2219%22%20style%3D%22cursor%3A%20pointer%3B%20fill%3A%20rgb(0%2C%200%2C%200)%3B%20fill-opacity%3A%200%3B%22%2F%3E%3C%2Fg%3E%3C%2Fg%3E%3C%2Fg%3E%3Crect%20class%3D%22scrollbar%22%20rx%3D%2220%22%20ry%3D%223%22%20width%3D%220%22%20height%3D%220%22%20x%3D%220%22%20y%3D%220%22%20style%3D%22fill%3A%20rgb(128%2C%20139%2C%20164)%3B%20fill-opacity%3A%201%3B%22%2F%3E%3C%2Fg%3E%3Cg%20class%3D%22g-gtitle%22%2F%3E%3Cg%20class%3D%22g-xtitle%22%2F%3E%3Cg%20class%3D%22g-ytitle%22%2F%3E%3C%2Fg%3E%3Cg%20class%3D%22menulayer%22%2F%3E%3Cg%20class%3D%22zoomlayer%22%2F%3E%3Cg%20class%3D%22hoverlayer%22%2F%3E%3C%2Fsvg%3E\">"
      ],
      "text/plain": [
       "Open the notebook in JupyterLab with the atoti extension installed and enabled to see this widget."
      ]
     },
     "metadata": {},
     "output_type": "display_data"
    }
   ],
   "source": [
    "cube.visualize(\"Last month customer attrition by models\")"
   ]
  },
  {
   "cell_type": "markdown",
   "metadata": {},
   "source": [
    "This is just giving us the count for churned and retained customers. A more relevant view to asses our models it to look at accuracy and related metrics.\n",
    "\n",
    "#### Model Accuracy\n",
    "\n",
    "Let's look at the accuracy of the algorithm as we compute the number of correctly predicted churn cases in the pivot table below.  \n",
    "Looking at just the customers who churned, we see that _Logistic Regression Prediction_ has the highest percentage of correct prediction, 976 out of the 1,450 predicted true.  \n",
    "In fact, _Logistic Regression Prediction_ has the highest Accuracy score of 0.80 during the model training and _Naive Bayes Model_ has the lowest accuracy score of 0.74."
   ]
  },
  {
   "cell_type": "code",
   "execution_count": 24,
   "metadata": {},
   "outputs": [],
   "source": [
    "m[\"true positive\"] = tt.agg.sum(tt.filter(tt.where(l[\"Churn\"] == l[\"ChurnPredicted\"], 1, 0), l[\"ChurnPredicted\"] == \"Yes\"), scope=tt.scope.origin(l[\"CustomerID\"]))\n",
    "m[\"true negative\"] = tt.agg.sum(tt.filter(tt.where(l[\"Churn\"] == l[\"ChurnPredicted\"], 1, 0), l[\"ChurnPredicted\"] == \"No\"), scope=tt.scope.origin(l[\"CustomerID\"]))\n",
    "\n",
    "m[\"false positive\"] = tt.agg.sum(tt.filter(tt.where(l[\"Churn\"] != l[\"ChurnPredicted\"], 1, 0), l[\"ChurnPredicted\"] == \"Yes\"), scope=tt.scope.origin(l[\"CustomerID\"]))\n",
    "m[\"false negative\"] = tt.agg.sum(tt.filter(tt.where(l[\"Churn\"] != l[\"ChurnPredicted\"], 1, 0), l[\"ChurnPredicted\"] == \"No\"), scope=tt.scope.origin(l[\"CustomerID\"]))\n",
    "\n",
    "m[\"accuracy\"] = (m[\"true positive\"] + m[\"true negative\"])/m[\"contributors.COUNT\"]\n",
    "m[\"precision\"] = m[\"true positive\"]/ (m[\"true positive\"] + m[\"false positive\"])\n",
    "m[\"recall\"] = m[\"true positive\"]/ (m[\"true positive\"] + m[\"false negative\"])\n",
    "m[\"f1 score\"] = 2*(m[\"recall\"] * m[\"precision\"]) / (m[\"recall\"] + m[\"precision\"])"
   ]
  },
  {
   "cell_type": "code",
   "execution_count": 25,
   "metadata": {
    "atoti": {
     "height": 256,
     "state": {
      "name": "Algorithm Accuracy",
      "type": "container",
      "value": {
       "body": {
        "configuration": {
         "tabular": {
          "addButtonFilter": "numeric",
          "columnOrder": {
           "args": {
            "orderedColumns": [
             "c-treeCells-member",
             "[Measures].[accuracy]",
             "[Measures].[f1 score]",
             "[Measures].[precision]",
             "[Measures].[recall]"
            ]
           },
           "key": "explicit"
          },
          "columns": [
           {
            "key": "([Epoch].[Epoch].[Branch].[Base],[Measures].[ChurnProbability.SUM])",
            "width": 211
           },
           {
            "key": "([Epoch].[Epoch].[Branch].[Logistic Regression Prediction],[Measures].[ChurnProbability.SUM])",
            "width": 236
           },
           {
            "key": "([Epoch].[Epoch].[Branch].[Logistic Regression Prediction],[Measures].[contributors.COUNT])",
            "width": 293
           },
           {
            "key": "c-treeCells-member",
            "width": 262
           },
           {
            "key": "([Customer].[Churn].[ALL].[AllMember].[Yes],[Measures].[contributors.COUNT])",
            "width": 144
           }
          ],
          "columnsGroups": [
           {
            "captionProducer": "firstColumn",
            "cellFactory": "kpi-status",
            "selector": "kpi-status"
           },
           {
            "captionProducer": "firstColumn",
            "cellFactory": "lookup",
            "selector": "lookup"
           },
           {
            "captionProducer": "expiry",
            "cellFactory": "expiry",
            "selector": "kpi-expiry"
           },
           {
            "captionProducer": "columnMerge",
            "cellFactory": {
             "args": {},
             "key": "treeCells"
            },
            "selector": "member"
           }
          ],
          "defaultOptions": {},
          "expansion": {
           "automaticExpansion": true
          },
          "hideAddButton": true,
          "pinnedHeaderSelector": "member",
          "sortingMode": "non-breaking",
          "statisticsShown": true
         }
        },
        "contextValues": {},
        "mdx": "SELECT NON EMPTY Order([Epoch].[Epoch].[Branch].Members, [Measures].[accuracy], DESC) ON ROWS, NON EMPTY Hierarchize({[Measures].[accuracy], [Measures].[precision], [Measures].[recall], [Measures].[f1 score]}) ON COLUMNS FROM [customer_cube] CELL PROPERTIES BACK_COLOR, FONT_FLAGS, FORE_COLOR, FORMATTED_VALUE, VALUE",
        "ranges": {
         "column": {
          "chunkSize": 50,
          "thresholdPercentage": 0.2
         },
         "row": {
          "chunkSize": 2000,
          "thresholdPercentage": 0.1
         }
        },
        "serverUrl": ""
       },
       "containerKey": "pivot-table",
       "showTitleBar": false,
       "style": {}
      }
     }
    }
   },
   "outputs": [
    {
     "data": {
      "application/vnd.atoti.v0+json": {
       "cellSet": {
        "axes": [
         {
          "hierarchies": [
           {
            "dimension": "Measures",
            "hierarchy": "Measures"
           }
          ],
          "id": 0,
          "positions": [
           [
            {
             "captionPath": [
              "accuracy"
             ],
             "namePath": [
              "accuracy"
             ],
             "properties": {
              "DISPLAY_INFO": 0
             }
            }
           ],
           [
            {
             "captionPath": [
              "f1 score"
             ],
             "namePath": [
              "f1 score"
             ],
             "properties": {
              "DISPLAY_INFO": 0
             }
            }
           ],
           [
            {
             "captionPath": [
              "precision"
             ],
             "namePath": [
              "precision"
             ],
             "properties": {
              "DISPLAY_INFO": 0
             }
            }
           ],
           [
            {
             "captionPath": [
              "recall"
             ],
             "namePath": [
              "recall"
             ],
             "properties": {
              "DISPLAY_INFO": 0
             }
            }
           ]
          ]
         },
         {
          "hierarchies": [
           {
            "dimension": "Epoch",
            "hierarchy": "Epoch"
           }
          ],
          "id": 1,
          "positions": [
           [
            {
             "captionPath": [
              "Base"
             ],
             "namePath": [
              "Base"
             ],
             "properties": {
              "DISPLAY_INFO": 0
             }
            }
           ],
           [
            {
             "captionPath": [
              "Logistic Regression Prediction"
             ],
             "namePath": [
              "Logistic Regression Prediction"
             ],
             "properties": {
              "DISPLAY_INFO": 0
             }
            }
           ],
           [
            {
             "captionPath": [
              "SVM Classifier Linear Prediction"
             ],
             "namePath": [
              "SVM Classifier Linear Prediction"
             ],
             "properties": {
              "DISPLAY_INFO": 0
             }
            }
           ],
           [
            {
             "captionPath": [
              "Logistic Regression (SMOTE) Prediction"
             ],
             "namePath": [
              "Logistic Regression (SMOTE) Prediction"
             ],
             "properties": {
              "DISPLAY_INFO": 0
             }
            }
           ],
           [
            {
             "captionPath": [
              "Naive Bayes Prediction"
             ],
             "namePath": [
              "Naive Bayes Prediction"
             ],
             "properties": {
              "DISPLAY_INFO": 0
             }
            }
           ]
          ]
         }
        ],
        "cells": [
         {
          "formattedValue": "1.00",
          "ordinal": 0,
          "properties": {
           "BACK_COLOR": null,
           "FONT_FLAGS": 0,
           "FORE_COLOR": null
          },
          "value": 1
         },
         {
          "formattedValue": "1.00",
          "ordinal": 1,
          "properties": {
           "BACK_COLOR": null,
           "FONT_FLAGS": 0,
           "FORE_COLOR": null
          },
          "value": 1
         },
         {
          "formattedValue": "1.00",
          "ordinal": 2,
          "properties": {
           "BACK_COLOR": null,
           "FONT_FLAGS": 0,
           "FORE_COLOR": null
          },
          "value": 1
         },
         {
          "formattedValue": "1.00",
          "ordinal": 3,
          "properties": {
           "BACK_COLOR": null,
           "FONT_FLAGS": 0,
           "FORE_COLOR": null
          },
          "value": 1
         },
         {
          "formattedValue": ".81",
          "ordinal": 4,
          "properties": {
           "BACK_COLOR": null,
           "FONT_FLAGS": 0,
           "FORE_COLOR": null
          },
          "value": 0.805745164960182
         },
         {
          "formattedValue": ".59",
          "ordinal": 5,
          "properties": {
           "BACK_COLOR": null,
           "FONT_FLAGS": 0,
           "FORE_COLOR": null
          },
          "value": 0.5885542
         },
         {
          "formattedValue": ".67",
          "ordinal": 6,
          "properties": {
           "BACK_COLOR": null,
           "FONT_FLAGS": 0,
           "FORE_COLOR": null
          },
          "value": 0.67332876
         },
         {
          "formattedValue": ".52",
          "ordinal": 7,
          "properties": {
           "BACK_COLOR": null,
           "FONT_FLAGS": 0,
           "FORE_COLOR": null
          },
          "value": 0.5227394
         },
         {
          "formattedValue": ".78",
          "ordinal": 8,
          "properties": {
           "BACK_COLOR": null,
           "FONT_FLAGS": 0,
           "FORE_COLOR": null
          },
          "value": 0.7829920364050057
         },
         {
          "formattedValue": ".63",
          "ordinal": 9,
          "properties": {
           "BACK_COLOR": null,
           "FONT_FLAGS": 0,
           "FORE_COLOR": null
          },
          "value": 0.6256133
         },
         {
          "formattedValue": ".58",
          "ordinal": 10,
          "properties": {
           "BACK_COLOR": null,
           "FONT_FLAGS": 0,
           "FORE_COLOR": null
          },
          "value": 0.5777073
         },
         {
          "formattedValue": ".68",
          "ordinal": 11,
          "properties": {
           "BACK_COLOR": null,
           "FONT_FLAGS": 0,
           "FORE_COLOR": null
          },
          "value": 0.68218297
         },
         {
          "formattedValue": ".78",
          "ordinal": 12,
          "properties": {
           "BACK_COLOR": null,
           "FONT_FLAGS": 0,
           "FORE_COLOR": null
          },
          "value": 0.7808589306029579
         },
         {
          "formattedValue": ".63",
          "ordinal": 13,
          "properties": {
           "BACK_COLOR": null,
           "FONT_FLAGS": 0,
           "FORE_COLOR": null
          },
          "value": 0.6294782
         },
         {
          "formattedValue": ".57",
          "ordinal": 14,
          "properties": {
           "BACK_COLOR": null,
           "FONT_FLAGS": 0,
           "FORE_COLOR": null
          },
          "value": 0.5716157
         },
         {
          "formattedValue": ".70",
          "ordinal": 15,
          "properties": {
           "BACK_COLOR": null,
           "FONT_FLAGS": 0,
           "FORE_COLOR": null
          },
          "value": 0.70037454
         },
         {
          "formattedValue": ".73",
          "ordinal": 16,
          "properties": {
           "BACK_COLOR": null,
           "FONT_FLAGS": 0,
           "FORE_COLOR": null
          },
          "value": 0.7347838452787259
         },
         {
          "formattedValue": ".62",
          "ordinal": 17,
          "properties": {
           "BACK_COLOR": null,
           "FONT_FLAGS": 0,
           "FORE_COLOR": null
          },
          "value": 0.6179062
         },
         {
          "formattedValue": ".50",
          "ordinal": 18,
          "properties": {
           "BACK_COLOR": null,
           "FONT_FLAGS": 0,
           "FORE_COLOR": null
          },
          "value": 0.500664
         },
         {
          "formattedValue": ".81",
          "ordinal": 19,
          "properties": {
           "BACK_COLOR": null,
           "FONT_FLAGS": 0,
           "FORE_COLOR": null
          },
          "value": 0.8068486
         }
        ],
        "cube": "customer_cube",
        "defaultMembers": [
         {
          "captionPath": [
           "Count"
          ],
          "dimension": "Measures",
          "hierarchy": "Measures",
          "path": [
           "contributors.COUNT"
          ]
         },
         {
          "captionPath": [
           "Base"
          ],
          "dimension": "Epoch",
          "hierarchy": "Epoch",
          "path": [
           "Base"
          ]
         }
        ],
        "epoch": 1
       },
       "cube": "customer_cube",
       "error": null,
       "name": "Algorithm Accuracy",
       "session": "Unnamed"
      },
      "text/html": [
       "<img src=\"data:image/svg+xml;charset=utf8,%3C?xml%20version=%221.0%22%20standalone=%22no%22?%3E%0A%20%20%20%20%3Csvg%20xmlns=%22http://www.w3.org/2000/svg%22%20width=%221754%22%20height=%22256%22%3E%0A%20%20%20%20%20%20%3CforeignObject%20x=%220%22%20y=%220%22%20width=%22100%25%22%20height=%22100%25%22%3E%0A%20%20%20%20%20%20%20%20%3Cstyle%20type=%22text/css%22%3E.css-xsa55j-dock%20%7Bposition:%20relative;%20z-index:%200;%20height:%20100%25;%20background-color:%20rgb(255,%20255,%20255);%20display:%20flex;%20flex-direction:%20column%7D%0A.css-1ibuxvk-DockBody%20%7Bpadding-top:%200px;%20padding-left:%200px;%20padding-right:%200px;%20padding-bottom:%200px;%20flex-grow:%201;%20flex-shrink:%201;%20flex-basis:%200%25;%20box-sizing:%20border-box;%20position:%20relative;%20z-index:%200;%20overflow-x:%20hidden;%20overflow-y:%20hidden%7D%0A.css-14zuz97%20%7Bbackground-image:%20initial;%20background-position-x:%20initial;%20background-position-y:%20initial;%20background-size:%20initial;%20background-repeat-x:%20initial;%20background-repeat-y:%20initial;%20background-attachment:%20initial;%20background-origin:%20initial;%20background-color:%20rgba(0,%200,%200,%200.2);%20z-index:%201;%20box-sizing:%20border-box;%20background-clip:%20padding-box%7D%0A.css-14zuz97.vertical%20%7Bwidth:%2012px;%20margin-top:%200px;%20margin-right:%20-6px;%20margin-bottom:%200px;%20margin-left:%20-6px;%20border-left-width:%205.5px;%20border-left-style:%20solid;%20border-left-color:%20transparent;%20border-right-width:%205.5px;%20border-right-style:%20solid;%20border-right-color:%20transparent;%20cursor:%20col-resize%7D%0A.css-14zuz97.disabled%20%7Bdisplay:%20none%7D%0A.css-1lrljg1-EditorSplitPane%20%7Bbackground-color:%20rgb(255,%20255,%20255);%20flex-grow:%201;%20flex-shrink:%201;%20flex-basis:%200%25;%20margin-right:%200px;%20position:%20relative%7D%0A.css-15fz3t7-EditorSplitPane%20%7Bposition:%20absolute;%20top:%200px;%20bottom:%200px;%20left:%200px;%20right:%200px;%20display:%20flex;%20flex-direction:%20column%7D%0A.css-1k1fxuh-Tabular%20%7Bwidth:%20100%25;%20height:%20100%25;%20position:%20relative%7D%0A.css-10klw3m%20%7Bheight:%20100%25%7D%0A.css-mdjjdg-TabularHeader%20%7Bdisplay:%20flex%7D%0A.css-12nzxaz-PinnedTabularHeaders%20%7Bflex-shrink:%200;%20display:%20flex%7D%0A.css-s4fjko-TabularPinnSeparator%20%7Bwidth:%202px;%20height:%2028px;%20background-color:%20rgb(233,%20233,%20233)%7D%0A.css-5jtkjp-UnpinnedTabularHeaders%20%7Bdisplay:%20flex;%20position:%20absolute;%20left:%200px%7D%0A.css-1ozxxsr-TabularHeaderGroup%20%7Bposition:%20relative;%20width:%20262px%7D%0A.css-kr5787%20%7Bcolor:%20rgba(0,%200,%200,%200.85);%20display:%20flex;%20box-sizing:%20border-box;%20-webkit-box-align:%20center;%20align-items:%20center;%20height:%2028px;%20position:%20absolute;%20top:%200px;%20left:%200px;%20user-select:%20none;%20font-size:%2012px;%20line-height:%2022px;%20font-weight:%20600;%20border-bottom-width:%202px;%20border-bottom-style:%20solid;%20border-bottom-color:%20rgb(233,%20233,%20233);%20width:%20262px;%20border-right-width:%201px;%20border-right-style:%20solid;%20border-right-color:%20rgb(233,%20233,%20233)%7D%0A.css-19w2ip5-TabularHeaderCell%20%7Bcursor:%20default;%20-webkit-box-flex:%201;%20flex-grow:%201;%20flex-shrink:%201;%20box-sizing:%20border-box;%20padding-left:%204px;%20padding-right:%204px;%20padding-top:%204px;%20padding-bottom:%204px;%20height:%20100%25;%20overflow-x:%20hidden;%20overflow-y:%20hidden;%20display:%20flex;%20white-space:%20nowrap;%20-webkit-box-pack:%20start;%20justify-content:%20flex-start;%20align-items:%20flex-start%7D%0A.css-jpazdc-TabularHeaderCell%20%7Boverflow-x:%20hidden;%20overflow-y:%20hidden;%20text-overflow:%20ellipsis%7D%0A.css-y3oqqp%20%7Bfont-size:%2012px;%20line-height:%2022px;%20font-weight:%20600;%20color:%20rgba(0,%200,%200,%200.85)%7D%0A.css-c7y3a7-TabularHeaderCell%20%7Bflex-shrink:%200;%20height:%20100%25;%20display:%20flex;%20-webkit-box-pack:%20center;%20justify-content:%20center%7D%0A.css-iavfl9-HeaderResizer%20%7Bposition:%20absolute;%20z-index:%201;%20width:%2010px;%20height:%2028px;%20left:%20257px;%20top:%200px;%20cursor:%20col-resize%7D%0A.css-1xj5ahn-HeaderResizer%20%7Bposition:%20absolute;%20z-index:%201;%20height:%2010px;%20width:%20262px;%20left:%200px;%20top:%2023px;%20cursor:%20row-resize%7D%0A.css-1id6sm3-UnpinnedTabularRows%20%7Bposition:%20absolute;%20top:%200px;%20left:%200px%7D%0A.css-3cge9w%20%7Bcursor:%20cell;%20display:%20flex;%20height:%2028px;%20user-select:%20none%7D%0A.css-1mt4p19%20%7Bheight:%20100%25;%20box-sizing:%20border-box;%20display:%20flex;%20-webkit-box-pack:%20end;%20justify-content:%20flex-end;%20flex-direction:%20column;%20padding-top:%204px;%20padding-left:%204px;%20padding-right:%204px;%20padding-bottom:%203px;%20overflow-x:%20hidden;%20overflow-y:%20hidden;%20white-space:%20nowrap;%20border-right-width:%201px;%20border-right-style:%20solid;%20border-right-color:%20rgb(233,%20233,%20233);%20border-bottom-width:%20initial;%20border-bottom-style:%20none;%20border-bottom-color:%20initial;%20width:%20262px;%20align-items:%20flex-start;%20background-color:%20rgb(250,%20250,%20250)%7D%0A.css-9ssj44-TreeCell%20%7Bwidth:%20min-content%7D%0A.css-mkrhzq%20%7Bdisplay:%20flex;%20margin-left:%200px%7D%0A.css-1i6gc04%20%7Bcursor:%20pointer;%20margin-top:%202px;%20height:%20inherit;%20display:%20flex;%20-webkit-box-align:%20center;%20align-items:%20center;%20font-size:%2010px;%20width:%2016px%7D%0A.css-8uhtka%20%7Boverflow-x:%20hidden;%20overflow-y:%20hidden;%20text-overflow:%20ellipsis;%20white-space:%20nowrap%7D%0A.css-1ouk3zc-EditorSplitPane%20%7Bbackground-color:%20rgb(255,%20255,%20255);%20flex-grow:%201;%20flex-shrink:%201;%20flex-basis:%200%25%7D%0A.css-1jjvrwi-EditorSplitPane%20%7Bposition:%20absolute;%20top:%200px;%20bottom:%200px;%20left:%200px;%20right:%200px;%20overflow-y:%20auto%7D%0A.css-spgeye-Tabular%20%7Bposition:%20relative;%20height:%20100%25;%20width:%20761px%7D%0A.css-1u9hvb-UnpinnedTabularHeaders%20%7Boverflow-x:%20hidden;%20overflow-y:%20hidden;%20position:%20relative;%20width:%201492px;%20height:%2028px%7D%0A.css-10jzjg-TabularHeaderGroup%20%7Bposition:%20relative;%20width:%20480px%7D%0A.css-1q63qjm%20%7Bcolor:%20rgba(0,%200,%200,%200.85);%20display:%20flex;%20box-sizing:%20border-box;%20-webkit-box-align:%20center;%20align-items:%20center;%20height:%2028px;%20position:%20absolute;%20top:%200px;%20left:%200px;%20user-select:%20none;%20font-size:%2012px;%20line-height:%2022px;%20font-weight:%20600;%20border-bottom-width:%202px;%20border-bottom-style:%20solid;%20border-bottom-color:%20rgb(233,%20233,%20233);%20width:%20120px%7D%0A.css-pm742e%20%7Bcursor:%20pointer;%20margin-top:%202px;%20height:%20inherit;%20display:%20flex;%20-webkit-box-align:%20center;%20align-items:%20center;%20font-size:%2010px;%20-webkit-box-pack:%20center;%20justify-content:%20center;%20padding-left:%204px%7D%0A.css-1s5fhwe%20%7Bcursor:%20pointer;%20height:%20100%25;%20display:%20flex;%20-webkit-box-pack:%20center;%20justify-content:%20center;%20flex-direction:%20column%7D%0A.css-w64vkb-HeaderResizer%20%7Bposition:%20absolute;%20z-index:%201;%20width:%2010px;%20height:%2028px;%20left:%20115px;%20top:%200px;%20cursor:%20col-resize%7D%0A.css-tlxtaa-HeaderResizer%20%7Bposition:%20absolute;%20z-index:%201;%20height:%2010px;%20width:%20120px;%20left:%200px;%20top:%2023px;%20cursor:%20row-resize%7D%0A.css-lp3bnm%20%7Bcolor:%20rgba(0,%200,%200,%200.85);%20display:%20flex;%20box-sizing:%20border-box;%20-webkit-box-align:%20center;%20align-items:%20center;%20height:%2028px;%20position:%20absolute;%20top:%200px;%20left:%20120px;%20user-select:%20none;%20font-size:%2012px;%20line-height:%2022px;%20font-weight:%20600;%20border-bottom-width:%202px;%20border-bottom-style:%20solid;%20border-bottom-color:%20rgb(233,%20233,%20233);%20width:%20120px%7D%0A.css-y4zo4n-HeaderResizer%20%7Bposition:%20absolute;%20z-index:%201;%20width:%2010px;%20height:%2028px;%20left:%20235px;%20top:%200px;%20cursor:%20col-resize%7D%0A.css-8latmz-HeaderResizer%20%7Bposition:%20absolute;%20z-index:%201;%20height:%2010px;%20width:%20120px;%20left:%20120px;%20top:%2023px;%20cursor:%20row-resize%7D%0A.css-ihk5f%20%7Bcolor:%20rgba(0,%200,%200,%200.85);%20display:%20flex;%20box-sizing:%20border-box;%20-webkit-box-align:%20center;%20align-items:%20center;%20height:%2028px;%20position:%20absolute;%20top:%200px;%20left:%20240px;%20user-select:%20none;%20font-size:%2012px;%20line-height:%2022px;%20font-weight:%20600;%20border-bottom-width:%202px;%20border-bottom-style:%20solid;%20border-bottom-color:%20rgb(233,%20233,%20233);%20width:%20120px%7D%0A.css-x77esk-HeaderResizer%20%7Bposition:%20absolute;%20z-index:%201;%20width:%2010px;%20height:%2028px;%20left:%20355px;%20top:%200px;%20cursor:%20col-resize%7D%0A.css-qpzagx-HeaderResizer%20%7Bposition:%20absolute;%20z-index:%201;%20height:%2010px;%20width:%20120px;%20left:%20240px;%20top:%2023px;%20cursor:%20row-resize%7D%0A.css-1tl6a14%20%7Bcolor:%20rgba(0,%200,%200,%200.85);%20display:%20flex;%20box-sizing:%20border-box;%20-webkit-box-align:%20center;%20align-items:%20center;%20height:%2028px;%20position:%20absolute;%20top:%200px;%20left:%20360px;%20user-select:%20none;%20font-size:%2012px;%20line-height:%2022px;%20font-weight:%20600;%20border-bottom-width:%202px;%20border-bottom-style:%20solid;%20border-bottom-color:%20rgb(233,%20233,%20233);%20width:%20120px;%20border-right-width:%201px;%20border-right-style:%20solid;%20border-right-color:%20rgb(233,%20233,%20233)%7D%0A.css-1176us6-HeaderResizer%20%7Bposition:%20absolute;%20z-index:%201;%20width:%2010px;%20height:%2028px;%20left:%20475px;%20top:%200px;%20cursor:%20col-resize%7D%0A.css-1v86l1l-HeaderResizer%20%7Bposition:%20absolute;%20z-index:%201;%20height:%2010px;%20width:%20120px;%20left:%20360px;%20top:%2023px;%20cursor:%20row-resize%7D%0A.css-xl5p75-TabularBody%20%7Bposition:%20relative;%20overflow-x:%20hidden;%20overflow-y:%20hidden;%20top:%200px;%20width:%20744px;%20height:%20140px%7D%0A.css-1rg7p6u-PinnedTabularRows%20%7Bposition:%20absolute;%20height:%20140px;%20width:%20264px;%20overflow-x:%20hidden;%20overflow-y:%20hidden%7D%0A.css-jndodx-PinnedTabularRows%20%7Bposition:%20absolute;%20overflow-x:%20hidden;%20overflow-y:%20hidden;%20top:%200px;%20width:%20262px%7D%0A.css-h2tp6p%20%7Bheight:%20100%25;%20box-sizing:%20border-box;%20display:%20flex;%20-webkit-box-pack:%20end;%20justify-content:%20flex-end;%20flex-direction:%20column;%20padding-top:%204px;%20padding-left:%204px;%20padding-right:%204px;%20padding-bottom:%203px;%20overflow-x:%20hidden;%20overflow-y:%20hidden;%20white-space:%20nowrap;%20border-right-width:%201px;%20border-right-style:%20solid;%20border-right-color:%20rgb(233,%20233,%20233);%20border-bottom-width:%20initial;%20border-bottom-style:%20none;%20border-bottom-color:%20initial;%20width:%20262px;%20align-items:%20flex-start%7D%0A.css-1q7vn7h%20%7Bheight:%20100%25;%20box-sizing:%20border-box;%20display:%20flex;%20-webkit-box-pack:%20end;%20justify-content:%20flex-end;%20flex-direction:%20column;%20padding-top:%204px;%20padding-left:%204px;%20padding-right:%204px;%20padding-bottom:%203px;%20overflow-x:%20hidden;%20overflow-y:%20hidden;%20white-space:%20nowrap;%20border-right-width:%201px;%20border-right-style:%20solid;%20border-right-color:%20rgb(233,%20233,%20233);%20border-bottom-width:%201px;%20border-bottom-style:%20solid;%20border-bottom-color:%20rgb(233,%20233,%20233);%20width:%20262px;%20align-items:%20flex-start;%20background-color:%20rgb(250,%20250,%20250)%7D%0A.css-8r2ljj-PinnedTabularRows%20%7Bposition:%20absolute;%20right:%200px%7D%0A.css-8zvwca-PinnedTabularRows%20%7Bwidth:%202px;%20height:%20140px;%20background-color:%20rgb(233,%20233,%20233)%7D%0A.css-1313z39-UnpinnedTabularRows%20%7Bposition:%20absolute;%20overflow-x:%20hidden;%20overflow-y:%20hidden;%20left:%20264px;%20height:%20140px;%20width:%20480px%7D%0A.css-d9vofv-TabularCell%20%7Bheight:%2028px;%20box-sizing:%20border-box;%20display:%20flex;%20-webkit-box-pack:%20end;%20justify-content:%20flex-end;%20flex-direction:%20column;%20padding-top:%204px;%20padding-left:%204px;%20padding-right:%204px;%20padding-bottom:%203px;%20overflow-x:%20hidden;%20overflow-y:%20hidden;%20white-space:%20nowrap;%20border-right-width:%201px;%20border-right-style:%20solid;%20border-right-color:%20rgb(233,%20233,%20233);%20border-bottom-width:%201px;%20border-bottom-style:%20solid;%20border-bottom-color:%20rgb(233,%20233,%20233);%20width:%20120px;%20cursor:%20cell;%20user-select:%20none;%20text-align:%20right;%20align-items:%20flex-end%7D%0A.css-mkoicc-CaptionCellRenderer%20%7Bwidth:%20100%25;%20overflow-x:%20hidden;%20overflow-y:%20hidden;%20text-overflow:%20ellipsis;%20white-space:%20nowrap%7D%0A.css-t881dv-SelectionStatistics%20%7Bheight:%2020px;%20display:%20flex;%20padding-top:%205px;%20opacity:%200;%20transition-duration:%20300ms;%20transition-timing-function:%20ease;%20transition-delay:%200s;%20transition-property:%20opacity;%20position:%20absolute;%20right:%200px;%20left:%20unset%7D%0A.ant-root%20html,%20.ant-root%20%7Bwidth:%20100%25;%20height:%20100%25%7D%0A.ant-root%20*,%20.ant-root%20::before,%20.ant-root%20::after%20%7Bbox-sizing:%20border-box%7D%0A.ant-root%20%7Bmargin-top:%200px;%20margin-right:%200px;%20margin-bottom:%200px;%20margin-left:%200px;%20color:%20rgba(0,%200,%200,%200.65);%20font-size:%2014px;%20font-family:%20-apple-system,%20BlinkMacSystemFont,%20%22Segoe%20UI%22,%20%22PingFang%20SC%22,%20%22Hiragino%20Sans%20GB%22,%20%22Microsoft%20YaHei%22,%20%22Helvetica%20Neue%22,%20Helvetica,%20Arial,%20sans-serif,%20%22Apple%20Color%20Emoji%22,%20%22Segoe%20UI%20Emoji%22,%20%22Segoe%20UI%20Symbol%22;%20font-variant-ligatures:%20normal;%20font-variant-numeric:%20tabular-nums;%20font-variant-east-asian:%20normal;%20font-variant-caps:%20normal;%20line-height:%201.5;%20background-color:%20rgb(255,%20255,%20255);%20font-feature-settings:%20%22tnum%22;%20--antd-wave-shadow-color:%20undefined%7D%0A.ant-root%20.ant-typography%20%7Bcolor:%20rgba(0,%200,%200,%200.65)%7D%0A.css-1sxolix-Widget%20%7Bheight:%20100%25%7D%0A.css-1sxolix-Widget%20.ant-root:not(.atoti-widget-chooser)%20%7Bbox-shadow:%20none%7D%3C/style%3E%0A%20%20%20%20%20%20%20%20%3Cdiv%20xmlns=%22http://www.w3.org/1999/xhtml%22%20style=%22height:%20256px;%20width:%201754px%22%3E%0A%20%20%20%20%20%20%20%20%20%20%3Cdiv%20xmlns=%22http://www.w3.org/1999/xhtml%22%20class=%22css-1sxolix-Widget%22%3E%3Cdiv%20class=%22ant-root%20css-xsa55j-dock%22%3E%3Cdiv%20class=%22css-1ibuxvk-DockBody%22%3E%3Cdiv%20class=%22SplitPane%20%20vertical%20disabled%22%20style=%22display:%20flex;%20flex:%201%201%200%25;%20height:%20100%25;%20position:%20relative;%20outline:%20none;%20overflow:%20hidden;%20user-select:%20text;%20flex-direction:%20row;%20left:%200px;%20right:%200px;%22%3E%3Cdiv%20class=%22Pane%20vertical%20Pane1%20%20%22%20style=%22flex:%201%201%200%25;%20position:%20relative;%20outline:%20none;%20display:%20flex;%20background-color:%20rgb(255,%20255,%20255);%22%3E%3Cdiv%20class=%22css-1lrljg1-EditorSplitPane%22%3E%3Cdiv%20class=%22css-15fz3t7-EditorSplitPane%22%3E%3Cdiv%20class=%22css-1k1fxuh-Tabular%22%3E%3Cdiv%20class=%22css-10klw3m%22%3E%3Cdiv%20tabindex=%220%22%20class=%22css-spgeye-Tabular%22%3E%3Cdiv%20class=%22css-192kvjv-Tabular%22%3E%3Cdiv%20class=%22css-mdjjdg-TabularHeader%22%3E%3Cdiv%20class=%22css-12nzxaz-PinnedTabularHeaders%22%3E%3Cdiv%20class=%22css-1ozxxsr-TabularHeaderGroup%22%3E%3Cdiv%20class=%22css-kr5787%22%3E%3Cdiv%20class=%22css-19w2ip5-TabularHeaderCell%22%3E%3Cspan%20class=%22css-jpazdc-TabularHeaderCell%22%3E%3Cspan%3E%3Cspan%3E%3Cspan%20class=%22css-y3oqqp%22%3EScenario%3C/span%3E%3C/span%3E%3C/span%3E%3C/span%3E%3C/div%3E%3Cdiv%20class=%22css-c7y3a7-TabularHeaderCell%22%3E%3C/div%3E%3C/div%3E%3Cdiv%20class=%22css-iavfl9-HeaderResizer%22%3E%3C/div%3E%3Cdiv%20class=%22css-1xj5ahn-HeaderResizer%22%3E%3C/div%3E%3C/div%3E%3Cdiv%20class=%22css-s4fjko-TabularPinnSeparator%22%3E%3C/div%3E%3C/div%3E%3Cdiv%20class=%22css-1u9hvb-UnpinnedTabularHeaders%22%3E%3Cdiv%20class=%22css-5jtkjp-UnpinnedTabularHeaders%22%3E%3Cdiv%20class=%22css-10jzjg-TabularHeaderGroup%22%3E%3Cdiv%20class=%22css-1q63qjm%22%3E%3Cdiv%20class=%22css-pm742e%22%3E%3C/div%3E%3Cdiv%20class=%22css-19w2ip5-TabularHeaderCell%22%3E%3Cspan%20class=%22css-jpazdc-TabularHeaderCell%22%3E%3Cspan%3Eaccuracy%3C/span%3E%3C/span%3E%3C/div%3E%3Cdiv%20class=%22css-c7y3a7-TabularHeaderCell%22%3E%3Cdiv%20class=%22css-1s5fhwe%22%3E%3C/div%3E%3C/div%3E%3C/div%3E%3Cdiv%20class=%22css-w64vkb-HeaderResizer%22%3E%3C/div%3E%3Cdiv%20class=%22css-tlxtaa-HeaderResizer%22%3E%3C/div%3E%3Cdiv%20class=%22css-lp3bnm%22%3E%3Cdiv%20class=%22css-pm742e%22%3E%3C/div%3E%3Cdiv%20class=%22css-19w2ip5-TabularHeaderCell%22%3E%3Cspan%20class=%22css-jpazdc-TabularHeaderCell%22%3E%3Cspan%3Ef1%20score%3C/span%3E%3C/span%3E%3C/div%3E%3Cdiv%20class=%22css-c7y3a7-TabularHeaderCell%22%3E%3C/div%3E%3C/div%3E%3Cdiv%20class=%22css-y4zo4n-HeaderResizer%22%3E%3C/div%3E%3Cdiv%20class=%22css-8latmz-HeaderResizer%22%3E%3C/div%3E%3Cdiv%20class=%22css-ihk5f%22%3E%3Cdiv%20class=%22css-pm742e%22%3E%3C/div%3E%3Cdiv%20class=%22css-19w2ip5-TabularHeaderCell%22%3E%3Cspan%20class=%22css-jpazdc-TabularHeaderCell%22%3E%3Cspan%3Eprecision%3C/span%3E%3C/span%3E%3C/div%3E%3Cdiv%20class=%22css-c7y3a7-TabularHeaderCell%22%3E%3C/div%3E%3C/div%3E%3Cdiv%20class=%22css-x77esk-HeaderResizer%22%3E%3C/div%3E%3Cdiv%20class=%22css-qpzagx-HeaderResizer%22%3E%3C/div%3E%3Cdiv%20class=%22css-1tl6a14%22%3E%3Cdiv%20class=%22css-pm742e%22%3E%3C/div%3E%3Cdiv%20class=%22css-19w2ip5-TabularHeaderCell%22%3E%3Cspan%20class=%22css-jpazdc-TabularHeaderCell%22%3E%3Cspan%3Erecall%3C/span%3E%3C/span%3E%3C/div%3E%3Cdiv%20class=%22css-c7y3a7-TabularHeaderCell%22%3E%3C/div%3E%3C/div%3E%3Cdiv%20class=%22css-1176us6-HeaderResizer%22%3E%3C/div%3E%3Cdiv%20class=%22css-1v86l1l-HeaderResizer%22%3E%3C/div%3E%3C/div%3E%3C/div%3E%3C/div%3E%3C/div%3E%3Cdiv%20class=%22css-xl5p75-TabularBody%22%3E%3Cdiv%20class=%22css-1rg7p6u-PinnedTabularRows%22%3E%3Cdiv%20class=%22css-jndodx-PinnedTabularRows%22%3E%3Cdiv%20class=%22css-3cge9w%22%3E%3Cdiv%3E%3Cdiv%20class=%22css-1mt4p19%22%3E%3Cdiv%20class=%22css-9ssj44-TreeCell%22%3E%3Cdiv%20class=%22css-mkrhzq%22%3E%3Cdiv%20class=%22css-1i6gc04%22%3E%3C/div%3E%3Cspan%20class=%22ant-typography%20css-8uhtka%22%20style=%22font-size:%2012px;%20line-height:%2020px;%20font-weight:%20600;%20color:%20rgba(0,%200,%200,%200.85);%22%3EBase%3C/span%3E%3C/div%3E%3C/div%3E%3C/div%3E%3C/div%3E%3C/div%3E%3Cdiv%20class=%22css-3cge9w%22%3E%3Cdiv%3E%3Cdiv%20class=%22css-h2tp6p%22%3E%3Cdiv%20class=%22css-9ssj44-TreeCell%22%3E%3Cdiv%20class=%22css-mkrhzq%22%3E%3Cdiv%20class=%22css-1i6gc04%22%3E%3C/div%3E%3Cspan%20class=%22ant-typography%20css-8uhtka%22%20style=%22font-size:%2012px;%20line-height:%2020px;%20font-weight:%20600;%20color:%20rgba(0,%200,%200,%200.85);%22%3ELogistic%20Regression%20Prediction%3C/span%3E%3C/div%3E%3C/div%3E%3C/div%3E%3C/div%3E%3C/div%3E%3Cdiv%20class=%22css-3cge9w%22%3E%3Cdiv%3E%3Cdiv%20class=%22css-1mt4p19%22%3E%3Cdiv%20class=%22css-9ssj44-TreeCell%22%3E%3Cdiv%20class=%22css-mkrhzq%22%3E%3Cdiv%20class=%22css-1i6gc04%22%3E%3C/div%3E%3Cspan%20class=%22ant-typography%20css-8uhtka%22%20style=%22font-size:%2012px;%20line-height:%2020px;%20font-weight:%20600;%20color:%20rgba(0,%200,%200,%200.85);%22%3ESVM%20Classifier%20Linear%20Prediction%3C/span%3E%3C/div%3E%3C/div%3E%3C/div%3E%3C/div%3E%3C/div%3E%3Cdiv%20class=%22css-3cge9w%22%3E%3Cdiv%3E%3Cdiv%20class=%22css-h2tp6p%22%3E%3Cdiv%20class=%22css-9ssj44-TreeCell%22%3E%3Cdiv%20class=%22css-mkrhzq%22%3E%3Cdiv%20class=%22css-1i6gc04%22%3E%3C/div%3E%3Cspan%20class=%22ant-typography%20css-8uhtka%22%20style=%22font-size:%2012px;%20line-height:%2020px;%20font-weight:%20600;%20color:%20rgba(0,%200,%200,%200.85);%22%3ELogistic%20Regression%20(SMOTE)%20Prediction%3C/span%3E%3C/div%3E%3C/div%3E%3C/div%3E%3C/div%3E%3C/div%3E%3Cdiv%20class=%22css-3cge9w%22%3E%3Cdiv%3E%3Cdiv%20class=%22css-1q7vn7h%22%3E%3Cdiv%20class=%22css-9ssj44-TreeCell%22%3E%3Cdiv%20class=%22css-mkrhzq%22%3E%3Cdiv%20class=%22css-1i6gc04%22%3E%3C/div%3E%3Cspan%20class=%22ant-typography%20css-8uhtka%22%20style=%22font-size:%2012px;%20line-height:%2020px;%20font-weight:%20600;%20color:%20rgba(0,%200,%200,%200.85);%22%3ENaive%20Bayes%20Prediction%3C/span%3E%3C/div%3E%3C/div%3E%3C/div%3E%3C/div%3E%3C/div%3E%3C/div%3E%3Cdiv%20class=%22css-8r2ljj-PinnedTabularRows%22%3E%3Cdiv%20class=%22css-8zvwca-PinnedTabularRows%22%3E%3C/div%3E%3C/div%3E%3C/div%3E%3Cdiv%20class=%22css-1313z39-UnpinnedTabularRows%22%3E%3Cdiv%20class=%22css-1id6sm3-UnpinnedTabularRows%22%3E%3Cdiv%20class=%22css-3cge9w%22%3E%3Cdiv%3E%3Cdiv%20class=%22%20css-d9vofv-TabularCell%22%3E%3Cspan%20class=%22css-mkoicc-CaptionCellRenderer%22%3E%3Cspan%3E%3Cspan%20class=%22ant-typography%22%20style=%22font-size:%2012px;%20line-height:%2020px;%20font-weight:%20400;%22%3E1.00%3C/span%3E%3C/span%3E%3C/span%3E%3C/div%3E%3C/div%3E%3Cdiv%3E%3Cdiv%20class=%22%20css-d9vofv-TabularCell%22%3E%3Cspan%20class=%22css-mkoicc-CaptionCellRenderer%22%3E%3Cspan%3E%3Cspan%20class=%22ant-typography%22%20style=%22font-size:%2012px;%20line-height:%2020px;%20font-weight:%20400;%22%3E1.00%3C/span%3E%3C/span%3E%3C/span%3E%3C/div%3E%3C/div%3E%3Cdiv%3E%3Cdiv%20class=%22%20css-d9vofv-TabularCell%22%3E%3Cspan%20class=%22css-mkoicc-CaptionCellRenderer%22%3E%3Cspan%3E%3Cspan%20class=%22ant-typography%22%20style=%22font-size:%2012px;%20line-height:%2020px;%20font-weight:%20400;%22%3E1.00%3C/span%3E%3C/span%3E%3C/span%3E%3C/div%3E%3C/div%3E%3Cdiv%3E%3Cdiv%20class=%22%20css-d9vofv-TabularCell%22%3E%3Cspan%20class=%22css-mkoicc-CaptionCellRenderer%22%3E%3Cspan%3E%3Cspan%20class=%22ant-typography%22%20style=%22font-size:%2012px;%20line-height:%2020px;%20font-weight:%20400;%22%3E1.00%3C/span%3E%3C/span%3E%3C/span%3E%3C/div%3E%3C/div%3E%3C/div%3E%3Cdiv%20class=%22css-3cge9w%22%3E%3Cdiv%3E%3Cdiv%20class=%22%20css-d9vofv-TabularCell%22%3E%3Cspan%20class=%22css-mkoicc-CaptionCellRenderer%22%3E%3Cspan%3E%3Cspan%20class=%22ant-typography%22%20style=%22font-size:%2012px;%20line-height:%2020px;%20font-weight:%20400;%22%3E.81%3C/span%3E%3C/span%3E%3C/span%3E%3C/div%3E%3C/div%3E%3Cdiv%3E%3Cdiv%20class=%22%20css-d9vofv-TabularCell%22%3E%3Cspan%20class=%22css-mkoicc-CaptionCellRenderer%22%3E%3Cspan%3E%3Cspan%20class=%22ant-typography%22%20style=%22font-size:%2012px;%20line-height:%2020px;%20font-weight:%20400;%22%3E.59%3C/span%3E%3C/span%3E%3C/span%3E%3C/div%3E%3C/div%3E%3Cdiv%3E%3Cdiv%20class=%22%20css-d9vofv-TabularCell%22%3E%3Cspan%20class=%22css-mkoicc-CaptionCellRenderer%22%3E%3Cspan%3E%3Cspan%20class=%22ant-typography%22%20style=%22font-size:%2012px;%20line-height:%2020px;%20font-weight:%20400;%22%3E.67%3C/span%3E%3C/span%3E%3C/span%3E%3C/div%3E%3C/div%3E%3Cdiv%3E%3Cdiv%20class=%22%20css-d9vofv-TabularCell%22%3E%3Cspan%20class=%22css-mkoicc-CaptionCellRenderer%22%3E%3Cspan%3E%3Cspan%20class=%22ant-typography%22%20style=%22font-size:%2012px;%20line-height:%2020px;%20font-weight:%20400;%22%3E.52%3C/span%3E%3C/span%3E%3C/span%3E%3C/div%3E%3C/div%3E%3C/div%3E%3Cdiv%20class=%22css-3cge9w%22%3E%3Cdiv%3E%3Cdiv%20class=%22%20css-d9vofv-TabularCell%22%3E%3Cspan%20class=%22css-mkoicc-CaptionCellRenderer%22%3E%3Cspan%3E%3Cspan%20class=%22ant-typography%22%20style=%22font-size:%2012px;%20line-height:%2020px;%20font-weight:%20400;%22%3E.78%3C/span%3E%3C/span%3E%3C/span%3E%3C/div%3E%3C/div%3E%3Cdiv%3E%3Cdiv%20class=%22%20css-d9vofv-TabularCell%22%3E%3Cspan%20class=%22css-mkoicc-CaptionCellRenderer%22%3E%3Cspan%3E%3Cspan%20class=%22ant-typography%22%20style=%22font-size:%2012px;%20line-height:%2020px;%20font-weight:%20400;%22%3E.63%3C/span%3E%3C/span%3E%3C/span%3E%3C/div%3E%3C/div%3E%3Cdiv%3E%3Cdiv%20class=%22%20css-d9vofv-TabularCell%22%3E%3Cspan%20class=%22css-mkoicc-CaptionCellRenderer%22%3E%3Cspan%3E%3Cspan%20class=%22ant-typography%22%20style=%22font-size:%2012px;%20line-height:%2020px;%20font-weight:%20400;%22%3E.58%3C/span%3E%3C/span%3E%3C/span%3E%3C/div%3E%3C/div%3E%3Cdiv%3E%3Cdiv%20class=%22%20css-d9vofv-TabularCell%22%3E%3Cspan%20class=%22css-mkoicc-CaptionCellRenderer%22%3E%3Cspan%3E%3Cspan%20class=%22ant-typography%22%20style=%22font-size:%2012px;%20line-height:%2020px;%20font-weight:%20400;%22%3E.68%3C/span%3E%3C/span%3E%3C/span%3E%3C/div%3E%3C/div%3E%3C/div%3E%3Cdiv%20class=%22css-3cge9w%22%3E%3Cdiv%3E%3Cdiv%20class=%22%20css-d9vofv-TabularCell%22%3E%3Cspan%20class=%22css-mkoicc-CaptionCellRenderer%22%3E%3Cspan%3E%3Cspan%20class=%22ant-typography%22%20style=%22font-size:%2012px;%20line-height:%2020px;%20font-weight:%20400;%22%3E.78%3C/span%3E%3C/span%3E%3C/span%3E%3C/div%3E%3C/div%3E%3Cdiv%3E%3Cdiv%20class=%22%20css-d9vofv-TabularCell%22%3E%3Cspan%20class=%22css-mkoicc-CaptionCellRenderer%22%3E%3Cspan%3E%3Cspan%20class=%22ant-typography%22%20style=%22font-size:%2012px;%20line-height:%2020px;%20font-weight:%20400;%22%3E.63%3C/span%3E%3C/span%3E%3C/span%3E%3C/div%3E%3C/div%3E%3Cdiv%3E%3Cdiv%20class=%22%20css-d9vofv-TabularCell%22%3E%3Cspan%20class=%22css-mkoicc-CaptionCellRenderer%22%3E%3Cspan%3E%3Cspan%20class=%22ant-typography%22%20style=%22font-size:%2012px;%20line-height:%2020px;%20font-weight:%20400;%22%3E.57%3C/span%3E%3C/span%3E%3C/span%3E%3C/div%3E%3C/div%3E%3Cdiv%3E%3Cdiv%20class=%22%20css-d9vofv-TabularCell%22%3E%3Cspan%20class=%22css-mkoicc-CaptionCellRenderer%22%3E%3Cspan%3E%3Cspan%20class=%22ant-typography%22%20style=%22font-size:%2012px;%20line-height:%2020px;%20font-weight:%20400;%22%3E.70%3C/span%3E%3C/span%3E%3C/span%3E%3C/div%3E%3C/div%3E%3C/div%3E%3Cdiv%20class=%22css-3cge9w%22%3E%3Cdiv%3E%3Cdiv%20class=%22%20css-d9vofv-TabularCell%22%3E%3Cspan%20class=%22css-mkoicc-CaptionCellRenderer%22%3E%3Cspan%3E%3Cspan%20class=%22ant-typography%22%20style=%22font-size:%2012px;%20line-height:%2020px;%20font-weight:%20400;%22%3E.73%3C/span%3E%3C/span%3E%3C/span%3E%3C/div%3E%3C/div%3E%3Cdiv%3E%3Cdiv%20class=%22%20css-d9vofv-TabularCell%22%3E%3Cspan%20class=%22css-mkoicc-CaptionCellRenderer%22%3E%3Cspan%3E%3Cspan%20class=%22ant-typography%22%20style=%22font-size:%2012px;%20line-height:%2020px;%20font-weight:%20400;%22%3E.62%3C/span%3E%3C/span%3E%3C/span%3E%3C/div%3E%3C/div%3E%3Cdiv%3E%3Cdiv%20class=%22%20css-d9vofv-TabularCell%22%3E%3Cspan%20class=%22css-mkoicc-CaptionCellRenderer%22%3E%3Cspan%3E%3Cspan%20class=%22ant-typography%22%20style=%22font-size:%2012px;%20line-height:%2020px;%20font-weight:%20400;%22%3E.50%3C/span%3E%3C/span%3E%3C/span%3E%3C/div%3E%3C/div%3E%3Cdiv%3E%3Cdiv%20class=%22%20css-d9vofv-TabularCell%22%3E%3Cspan%20class=%22css-mkoicc-CaptionCellRenderer%22%3E%3Cspan%3E%3Cspan%20class=%22ant-typography%22%20style=%22font-size:%2012px;%20line-height:%2020px;%20font-weight:%20400;%22%3E.81%3C/span%3E%3C/span%3E%3C/span%3E%3C/div%3E%3C/div%3E%3C/div%3E%3C/div%3E%3C/div%3E%3C/div%3E%3C/div%3E%3Cdiv%20class=%22css-t881dv-SelectionStatistics%22%3E%3C/div%3E%3C/div%3E%3C/div%3E%3C/div%3E%3C/div%3E%3C/div%3E%3C/div%3E%3Cspan%20role=%22presentation%22%20class=%22css-14zuz97%20Resizer%20vertical%20disabled%22%3E%3C/span%3E%3Cdiv%20class=%22Pane%20vertical%20Pane2%20%20%22%20style=%22flex:%200%200%20auto;%20position:%20relative;%20outline:%20none;%20width:%200px;%20display:%20flex;%20background-color:%20rgb(255,%20255,%20255);%20overflow:%20auto;%22%3E%3Cdiv%20class=%22css-1ouk3zc-EditorSplitPane%22%3E%3Cdiv%20class=%22css-1jjvrwi-EditorSplitPane%22%3E%3C/div%3E%3C/div%3E%3C/div%3E%3C/div%3E%3C/div%3E%3C/div%3E%3C/div%3E%0A%20%20%20%20%20%20%20%20%3C/div%3E%0A%20%20%20%20%20%20%3C/foreignObject%3E%0A%20%20%20%20%3C/svg%3E\">"
      ],
      "text/plain": [
       "Open the notebook in JupyterLab with the atoti extension installed and enabled to see this widget."
      ]
     },
     "metadata": {},
     "output_type": "display_data"
    }
   ],
   "source": [
    "cube.visualize(\"Algorithm Accuracy\")"
   ]
  },
  {
   "cell_type": "markdown",
   "metadata": {},
   "source": [
    "#### Churn and MRR Analysis"
   ]
  },
  {
   "cell_type": "code",
   "execution_count": 26,
   "metadata": {
    "atoti": {
     "state": {
      "name": "Percentage customers churned last month",
      "type": "container",
      "value": {
       "body": {
        "configuration": {
         "mapping": {
          "horizontalSubplots": [],
          "splitBy": [],
          "values": [
           "[Measures].[contributors.COUNT]"
          ],
          "verticalSubplots": [],
          "xAxis": [
           "[Customer].[Churn].[Churn]"
          ]
         },
         "switchedTo": "plotly-pie-chart",
         "type": "plotly-line-chart"
        },
        "query": {
         "mdx": "SELECT NON EMPTY [Customer].[Churn].[Churn].Members ON ROWS, NON EMPTY [Measures].[contributors.COUNT] ON COLUMNS FROM [customer_cube] CELL PROPERTIES VALUE, FORMATTED_VALUE, BACK_COLOR, FORE_COLOR, FONT_FLAGS",
         "serverUrl": "",
         "updateMode": "once"
        }
       },
       "containerKey": "chart",
       "showTitleBar": false,
       "style": {}
      }
     }
    }
   },
   "outputs": [
    {
     "data": {
      "application/vnd.atoti.v0+json": {
       "cellSet": {
        "axes": [
         {
          "hierarchies": [
           {
            "dimension": "Measures",
            "hierarchy": "Measures"
           }
          ],
          "id": 0,
          "positions": [
           [
            {
             "captionPath": [
              "Count"
             ],
             "namePath": [
              "contributors.COUNT"
             ],
             "properties": {
              "DISPLAY_INFO": 0
             }
            }
           ]
          ]
         },
         {
          "hierarchies": [
           {
            "dimension": "Customer",
            "hierarchy": "Churn"
           }
          ],
          "id": 1,
          "positions": [
           [
            {
             "captionPath": [
              "AllMember",
              "No"
             ],
             "namePath": [
              "AllMember",
              "No"
             ],
             "properties": {
              "DISPLAY_INFO": 0
             }
            }
           ],
           [
            {
             "captionPath": [
              "AllMember",
              "Yes"
             ],
             "namePath": [
              "AllMember",
              "Yes"
             ],
             "properties": {
              "DISPLAY_INFO": 131072
             }
            }
           ]
          ]
         }
        ],
        "cells": [
         {
          "formattedValue": "5,163",
          "ordinal": 0,
          "properties": {
           "BACK_COLOR": null,
           "FONT_FLAGS": 0,
           "FORE_COLOR": null
          },
          "value": 5163
         },
         {
          "formattedValue": "1,869",
          "ordinal": 1,
          "properties": {
           "BACK_COLOR": null,
           "FONT_FLAGS": 0,
           "FORE_COLOR": null
          },
          "value": 1869
         }
        ],
        "cube": "customer_cube",
        "defaultMembers": [
         {
          "captionPath": [
           "Count"
          ],
          "dimension": "Measures",
          "hierarchy": "Measures",
          "path": [
           "contributors.COUNT"
          ]
         },
         {
          "captionPath": [
           "Base"
          ],
          "dimension": "Epoch",
          "hierarchy": "Epoch",
          "path": [
           "Base"
          ]
         }
        ],
        "epoch": 1
       },
       "cube": "customer_cube",
       "error": null,
       "name": "Percentage customers churned last month",
       "session": "Unnamed"
      },
      "text/html": [
       "<img src=\"data:image/svg+xml;charset=utf8,%3C%3Fxml%20version%3D%221.0%22%20standalone%3D%22no%22%3F%3E%3Csvg%20xmlns%3D%22http%3A%2F%2Fwww.w3.org%2F2000%2Fsvg%22%20xmlns%3Axlink%3D%22http%3A%2F%2Fwww.w3.org%2F1999%2Fxlink%22%20viewBox%3D%220%200%201754%20360%22%3E%3Cdefs%20id%3D%22defs-8feec0%22%3E%3Cg%20class%3D%22clips%22%2F%3E%3Cg%20class%3D%22gradients%22%2F%3E%3C%2Fdefs%3E%3Cg%20class%3D%22bglayer%22%2F%3E%3Cg%20class%3D%22draglayer%22%2F%3E%3Cg%20class%3D%22layer-below%22%3E%3Cg%20class%3D%22imagelayer%22%2F%3E%3Cg%20class%3D%22shapelayer%22%2F%3E%3C%2Fg%3E%3Cg%20class%3D%22cartesianlayer%22%2F%3E%3Cg%20class%3D%22polarlayer%22%2F%3E%3Cg%20class%3D%22ternarylayer%22%2F%3E%3Cg%20class%3D%22geolayer%22%2F%3E%3Cg%20class%3D%22funnelarealayer%22%2F%3E%3Cg%20class%3D%22pielayer%22%3E%3Cg%20class%3D%22trace%22%20stroke-linejoin%3D%22round%22%20style%3D%22opacity%3A%201%3B%22%3E%3Cg%20class%3D%22slice%22%3E%3Cpath%20class%3D%22surface%22%20d%3D%22M868.5%2C155l0%2C-125a125%2C125%200%201%201%20-124.38571210477788%2C137.3771815930491Z%22%20style%3D%22pointer-events%3A%20all%3B%20stroke-width%3A%200%3B%20fill%3A%20rgb(78%2C%20121%2C%20167)%3B%20fill-opacity%3A%201%3B%20stroke%3A%20rgb(68%2C%2068%2C%2068)%3B%20stroke-opacity%3A%201%3B%22%2F%3E%3C%2Fg%3E%3Cg%20class%3D%22slice%22%3E%3Cpath%20class%3D%22surface%22%20d%3D%22M868.5%2C155l-124.38571210477788%2C12.377181593049075a125%2C125%200%200%201%20124.38571210477788%2C-137.37718159304907Z%22%20style%3D%22pointer-events%3A%20all%3B%20stroke-width%3A%200%3B%20fill%3A%20rgb(242%2C%20142%2C%2044)%3B%20fill-opacity%3A%201%3B%20stroke%3A%20rgb(68%2C%2068%2C%2068)%3B%20stroke-opacity%3A%201%3B%22%2F%3E%3C%2Fg%3E%3C%2Fg%3E%3C%2Fg%3E%3Cg%20class%3D%22treemaplayer%22%2F%3E%3Cg%20class%3D%22sunburstlayer%22%2F%3E%3Cg%20class%3D%22glimages%22%2F%3E%3Cdefs%20id%3D%22topdefs-8feec0%22%3E%3Cg%20class%3D%22clips%22%2F%3E%3CclipPath%20id%3D%22legend8feec0%22%3E%3Crect%20width%3D%2265%22%20height%3D%2248%22%20x%3D%220%22%20y%3D%220%22%2F%3E%3C%2FclipPath%3E%3C%2Fdefs%3E%3Cg%20class%3D%22indicatorlayer%22%2F%3E%3Cg%20class%3D%22layer-above%22%3E%3Cg%20class%3D%22imagelayer%22%2F%3E%3Cg%20class%3D%22shapelayer%22%2F%3E%3C%2Fg%3E%3Cg%20class%3D%22infolayer%22%3E%3Cg%20class%3D%22legend%22%20pointer-events%3D%22all%22%20transform%3D%22translate(1688.54%2C%2030)%22%3E%3Crect%20class%3D%22bg%22%20shape-rendering%3D%22crispEdges%22%20style%3D%22stroke%3A%20rgb(68%2C%2068%2C%2068)%3B%20stroke-opacity%3A%201%3B%20fill%3A%20rgb(255%2C%20255%2C%20255)%3B%20fill-opacity%3A%201%3B%20stroke-width%3A%200px%3B%22%20width%3D%2265%22%20height%3D%2248%22%20x%3D%220%22%20y%3D%220%22%2F%3E%3Cg%20class%3D%22scrollbox%22%20transform%3D%22translate(0%2C%200)%22%20clip-path%3D%22url('%23legend8feec0')%22%3E%3Cg%20class%3D%22groups%22%3E%3Cg%20class%3D%22traces%22%20transform%3D%22translate(0%2C%2014.5)%22%20style%3D%22opacity%3A%201%3B%22%3E%3Ctext%20class%3D%22legendtext%20user-select-none%22%20text-anchor%3D%22start%22%20x%3D%2240%22%20y%3D%224.680000000000001%22%20data-unformatted%3D%22No%22%20data-math%3D%22N%22%20style%3D%22font-family%3A%20%26quot%3BOpen%20Sans%26quot%3B%2C%20verdana%2C%20arial%2C%20sans-serif%3B%20font-size%3A%2012px%3B%20fill%3A%20rgb(0%2C%200%2C%200)%3B%20fill-opacity%3A%200.65%3B%20white-space%3A%20pre%3B%22%3ENo%3C%2Ftext%3E%3Cg%20class%3D%22layers%22%20style%3D%22opacity%3A%201%3B%22%3E%3Cg%20class%3D%22legendfill%22%2F%3E%3Cg%20class%3D%22legendlines%22%2F%3E%3Cg%20class%3D%22legendsymbols%22%3E%3Cg%20class%3D%22legendpoints%22%3E%3Cpath%20class%3D%22legendpie%22%20d%3D%22M6%2C6H-6V-6H6Z%22%20transform%3D%22translate(20%2C0)%22%20style%3D%22stroke-width%3A%200%3B%20fill%3A%20rgb(78%2C%20121%2C%20167)%3B%20fill-opacity%3A%201%3B%20stroke%3A%20rgb(68%2C%2068%2C%2068)%3B%20stroke-opacity%3A%201%3B%22%2F%3E%3C%2Fg%3E%3C%2Fg%3E%3C%2Fg%3E%3Crect%20class%3D%22legendtoggle%22%20pointer-events%3D%22all%22%20x%3D%220%22%20y%3D%22-9.5%22%20width%3D%2259.578125%22%20height%3D%2219%22%20style%3D%22cursor%3A%20pointer%3B%20fill%3A%20rgb(0%2C%200%2C%200)%3B%20fill-opacity%3A%200%3B%22%2F%3E%3C%2Fg%3E%3Cg%20class%3D%22traces%22%20transform%3D%22translate(0%2C%2033.5)%22%20style%3D%22opacity%3A%201%3B%22%3E%3Ctext%20class%3D%22legendtext%20user-select-none%22%20text-anchor%3D%22start%22%20x%3D%2240%22%20y%3D%224.680000000000001%22%20data-unformatted%3D%22Yes%22%20data-math%3D%22N%22%20style%3D%22font-family%3A%20%26quot%3BOpen%20Sans%26quot%3B%2C%20verdana%2C%20arial%2C%20sans-serif%3B%20font-size%3A%2012px%3B%20fill%3A%20rgb(0%2C%200%2C%200)%3B%20fill-opacity%3A%200.65%3B%20white-space%3A%20pre%3B%22%3EYes%3C%2Ftext%3E%3Cg%20class%3D%22layers%22%20style%3D%22opacity%3A%201%3B%22%3E%3Cg%20class%3D%22legendfill%22%2F%3E%3Cg%20class%3D%22legendlines%22%2F%3E%3Cg%20class%3D%22legendsymbols%22%3E%3Cg%20class%3D%22legendpoints%22%3E%3Cpath%20class%3D%22legendpie%22%20d%3D%22M6%2C6H-6V-6H6Z%22%20transform%3D%22translate(20%2C0)%22%20style%3D%22stroke-width%3A%200%3B%20fill%3A%20rgb(242%2C%20142%2C%2044)%3B%20fill-opacity%3A%201%3B%20stroke%3A%20rgb(68%2C%2068%2C%2068)%3B%20stroke-opacity%3A%201%3B%22%2F%3E%3C%2Fg%3E%3C%2Fg%3E%3C%2Fg%3E%3Crect%20class%3D%22legendtoggle%22%20pointer-events%3D%22all%22%20x%3D%220%22%20y%3D%22-9.5%22%20width%3D%2259.578125%22%20height%3D%2219%22%20style%3D%22cursor%3A%20pointer%3B%20fill%3A%20rgb(0%2C%200%2C%200)%3B%20fill-opacity%3A%200%3B%22%2F%3E%3C%2Fg%3E%3C%2Fg%3E%3C%2Fg%3E%3Crect%20class%3D%22scrollbar%22%20rx%3D%2220%22%20ry%3D%223%22%20width%3D%220%22%20height%3D%220%22%20style%3D%22fill%3A%20rgb(128%2C%20139%2C%20164)%3B%20fill-opacity%3A%201%3B%22%20x%3D%220%22%20y%3D%220%22%2F%3E%3C%2Fg%3E%3Cg%20class%3D%22g-gtitle%22%2F%3E%3C%2Fg%3E%3Cg%20class%3D%22menulayer%22%2F%3E%3Cg%20class%3D%22zoomlayer%22%2F%3E%3Cg%20class%3D%22hoverlayer%22%2F%3E%3C%2Fsvg%3E\">"
      ],
      "text/plain": [
       "Open the notebook in JupyterLab with the atoti extension installed and enabled to see this widget."
      ]
     },
     "metadata": {},
     "output_type": "display_data"
    }
   ],
   "source": [
    "cube.visualize(\"Percentage customers churned last month\")"
   ]
  },
  {
   "cell_type": "markdown",
   "metadata": {},
   "source": [
    "We see that more than 25% customers churned last month. The telco would have lose all its customers in the few coming months if this attrition rate keeps up.  \n",
    "Let's see the impact on this in the telco's net revenue retention (NRR).\n",
    "\n",
    "Since we only have one month's data, we have a simple formula for calculating NRR:\n",
    "\n",
    "# NRR = $\\frac{MRR(initial) + Expansion - Churn}{MRR(initial)} $  \n",
    "\n",
    "We use [`atoti.total`](https://docs.atoti.io/0.4.1/lib/atoti.html?#atoti.total) to get the total _MonthlyCharges_ for _MRR Initial_ across all the customers because we want to ignore all filters for this measure.  \n",
    "The level `Churn` shows the actual status of customers churning, while the level `ChurnPredicted` reflects the predicted status from the models.  \n",
    "We get the revenue lost by taking the _MonthlyCharges_ for customers who have churned or predicted to churn."
   ]
  },
  {
   "cell_type": "code",
   "execution_count": 27,
   "metadata": {},
   "outputs": [],
   "source": [
    "m[\"MRR Initial\"] = tt.total(m[\"MonthlyCharges.SUM\"], on=h[\"CustomerID\"])\n",
    "\n",
    "m[\"Actual Revenue Lost\"] = tt.total(\n",
    "    tt.filter(m[\"MonthlyCharges.SUM\"], l[\"Churn\"] == \"Yes\"), on=h[\"CustomerID\"]\n",
    ")\n",
    "\n",
    "#  we use ChurnPredicted here instead of churn because we want to see the difference between the prediction and the actual churn\n",
    "m[\"Predicted Revenue Lost\"] = tt.total(\n",
    "    tt.filter(m[\"MonthlyCharges.SUM\"], l[\"ChurnPredicted\"] == \"Yes\"), on=h[\"CustomerID\"]\n",
    ")\n",
    "\n",
    "m[\"NRR\"] = (m[\"MRR Initial\"] - m[\"Predicted Revenue Lost\"]) / m[\"MRR Initial\"]"
   ]
  },
  {
   "cell_type": "markdown",
   "metadata": {},
   "source": [
    "From the below chart, we see the importance of choosing the correct machine learning model. We could grossly over-estimate or under-estimate the loss if we are not careful with our projection.  \n",
    "For one, _Naive Bayes Prediction_ would not be a good match based on the comparison below."
   ]
  },
  {
   "cell_type": "code",
   "execution_count": 28,
   "metadata": {
    "atoti": {
     "height": 217,
     "state": {
      "name": "NRR - Actual vs Predicted",
      "type": "container",
      "value": {
       "body": {
        "configuration": {
         "tabular": {
          "addButtonFilter": "numeric",
          "cellRenderers": [
           "tree-layout"
          ],
          "columnOrder": {
           "args": {
            "orderedColumns": [
             "c-treeCells-member",
             "[Measures].[MRR Initial]",
             "[Measures].[Actual Revenue Lost]",
             "[Measures].[Predicted Revenue Lost]",
             "[Measures].[Actual Revenue Lost - Predicted Revenue Lost]",
             "[Measures].[NRR]",
             "[Measures].[Revenue Compensation]"
            ]
           },
           "key": "explicit"
          },
          "columns": [
           {
            "key": "[Measures].[Actual Revenue Lost - Predicted Revenue Lost]",
            "width": 151
           },
           {
            "key": "c-treeCells-member",
            "width": 245
           },
           {
            "key": "[Measures].[Predicted Revenue Lost]",
            "width": 164
           }
          ],
          "columnsGroups": [
           {
            "captionProducer": "firstColumn",
            "cellFactory": "kpi-status",
            "selector": "kpi-status"
           },
           {
            "captionProducer": "firstColumn",
            "cellFactory": "lookup",
            "selector": "lookup"
           },
           {
            "captionProducer": "expiry",
            "cellFactory": "expiry",
            "selector": "kpi-expiry"
           },
           {
            "captionProducer": "columnMerge",
            "cellFactory": {
             "args": {},
             "key": "treeCells"
            },
            "selector": "member"
           }
          ],
          "defaultOptions": {},
          "expansion": {
           "automaticExpansion": true
          },
          "hideAddButton": true,
          "pinnedHeaderSelector": "member",
          "sortingMode": "non-breaking",
          "statisticsShown": true
         }
        },
        "contextValues": {},
        "mdx": "WITH  Member [Measures].[Actual Revenue Lost - Predicted Revenue Lost] AS [Measures].[Actual Revenue Lost] - [Measures].[Predicted Revenue Lost], CAPTION = \"Difference with Actual\", FORE_COLOR = CASE WHEN [Measures].[Actual Revenue Lost - Predicted Revenue Lost] > 0 THEN rgb(255, 0, 0) END, FORMAT_STRING = \"#,###.00\"  SELECT NON EMPTY Hierarchize([Epoch].[Epoch].[Branch].Members) ON ROWS, NON EMPTY {[Measures].[MRR Initial], [Measures].[Actual Revenue Lost], [Measures].[Actual Revenue Lost - Predicted Revenue Lost], [Measures].[Predicted Revenue Lost], [Measures].[NRR]} ON COLUMNS FROM [customer_cube] CELL PROPERTIES BACK_COLOR, FONT_FLAGS, FORE_COLOR, FORMATTED_VALUE, VALUE",
        "ranges": {
         "column": {
          "chunkSize": 50,
          "thresholdPercentage": 0.2
         },
         "row": {
          "chunkSize": 2000,
          "thresholdPercentage": 0.1
         }
        },
        "serverUrl": "",
        "updateMode": "once"
       },
       "containerKey": "pivot-table",
       "showTitleBar": false,
       "style": {}
      }
     }
    }
   },
   "outputs": [
    {
     "data": {
      "application/vnd.atoti.v0+json": {
       "cellSet": {
        "axes": [
         {
          "hierarchies": [
           {
            "dimension": "Measures",
            "hierarchy": "Measures"
           }
          ],
          "id": 0,
          "positions": [
           [
            {
             "captionPath": [
              "MRR Initial"
             ],
             "namePath": [
              "MRR Initial"
             ],
             "properties": {
              "DISPLAY_INFO": 0
             }
            }
           ],
           [
            {
             "captionPath": [
              "Actual Revenue Lost"
             ],
             "namePath": [
              "Actual Revenue Lost"
             ],
             "properties": {
              "DISPLAY_INFO": 0
             }
            }
           ],
           [
            {
             "captionPath": [
              "Difference with Actual"
             ],
             "namePath": [
              "Actual Revenue Lost - Predicted Revenue Lost"
             ],
             "properties": {
              "DISPLAY_INFO": 0
             }
            }
           ],
           [
            {
             "captionPath": [
              "Predicted Revenue Lost"
             ],
             "namePath": [
              "Predicted Revenue Lost"
             ],
             "properties": {
              "DISPLAY_INFO": 0
             }
            }
           ],
           [
            {
             "captionPath": [
              "NRR"
             ],
             "namePath": [
              "NRR"
             ],
             "properties": {
              "DISPLAY_INFO": 0
             }
            }
           ]
          ]
         },
         {
          "hierarchies": [
           {
            "dimension": "Epoch",
            "hierarchy": "Epoch"
           }
          ],
          "id": 1,
          "positions": [
           [
            {
             "captionPath": [
              "Base"
             ],
             "namePath": [
              "Base"
             ],
             "properties": {
              "DISPLAY_INFO": 0
             }
            }
           ],
           [
            {
             "captionPath": [
              "Logistic Regression (SMOTE) Prediction"
             ],
             "namePath": [
              "Logistic Regression (SMOTE) Prediction"
             ],
             "properties": {
              "DISPLAY_INFO": 0
             }
            }
           ],
           [
            {
             "captionPath": [
              "Logistic Regression Prediction"
             ],
             "namePath": [
              "Logistic Regression Prediction"
             ],
             "properties": {
              "DISPLAY_INFO": 0
             }
            }
           ],
           [
            {
             "captionPath": [
              "Naive Bayes Prediction"
             ],
             "namePath": [
              "Naive Bayes Prediction"
             ],
             "properties": {
              "DISPLAY_INFO": 0
             }
            }
           ],
           [
            {
             "captionPath": [
              "SVM Classifier Linear Prediction"
             ],
             "namePath": [
              "SVM Classifier Linear Prediction"
             ],
             "properties": {
              "DISPLAY_INFO": 0
             }
            }
           ]
          ]
         }
        ],
        "cells": [
         {
          "formattedValue": "455,661.00",
          "ordinal": 0,
          "properties": {
           "BACK_COLOR": null,
           "FONT_FLAGS": 0,
           "FORE_COLOR": null
          },
          "value": 455661.00000000023
         },
         {
          "formattedValue": "139,130.85",
          "ordinal": 1,
          "properties": {
           "BACK_COLOR": null,
           "FONT_FLAGS": 0,
           "FORE_COLOR": null
          },
          "value": 139130.84999999998
         },
         {
          "formattedValue": ".00",
          "ordinal": 2,
          "properties": {
           "BACK_COLOR": null,
           "FONT_FLAGS": 0,
           "FORE_COLOR": null
          },
          "value": 0
         },
         {
          "formattedValue": "139,130.85",
          "ordinal": 3,
          "properties": {
           "BACK_COLOR": null,
           "FONT_FLAGS": 0,
           "FORE_COLOR": null
          },
          "value": 139130.84999999998
         },
         {
          "formattedValue": ".69",
          "ordinal": 4,
          "properties": {
           "BACK_COLOR": null,
           "FONT_FLAGS": 0,
           "FORE_COLOR": null
          },
          "value": 0.6946614917669058
         },
         {
          "formattedValue": "455,661.00",
          "ordinal": 5,
          "properties": {
           "BACK_COLOR": null,
           "FONT_FLAGS": 0,
           "FORE_COLOR": null
          },
          "value": 455661.00000000023
         },
         {
          "formattedValue": "139,130.85",
          "ordinal": 6,
          "properties": {
           "BACK_COLOR": null,
           "FONT_FLAGS": 0,
           "FORE_COLOR": null
          },
          "value": 139130.84999999998
         },
         {
          "formattedValue": "-34,251.00",
          "ordinal": 7,
          "properties": {
           "BACK_COLOR": null,
           "FONT_FLAGS": 0,
           "FORE_COLOR": null
          },
          "value": -34251.00000000006
         },
         {
          "formattedValue": "173,381.85",
          "ordinal": 8,
          "properties": {
           "BACK_COLOR": null,
           "FONT_FLAGS": 0,
           "FORE_COLOR": null
          },
          "value": 173381.85000000003
         },
         {
          "formattedValue": ".62",
          "ordinal": 9,
          "properties": {
           "BACK_COLOR": null,
           "FONT_FLAGS": 0,
           "FORE_COLOR": null
          },
          "value": 0.6194937683936085
         },
         {
          "formattedValue": "455,661.00",
          "ordinal": 10,
          "properties": {
           "BACK_COLOR": null,
           "FONT_FLAGS": 0,
           "FORE_COLOR": null
          },
          "value": 455661.00000000023
         },
         {
          "formattedValue": "139,130.85",
          "ordinal": 11,
          "properties": {
           "BACK_COLOR": null,
           "FONT_FLAGS": 0,
           "FORE_COLOR": null
          },
          "value": 139130.84999999998
         },
         {
          "formattedValue": "22,307.05",
          "ordinal": 12,
          "properties": {
           "BACK_COLOR": null,
           "FONT_FLAGS": 0,
           "FORE_COLOR": 255
          },
          "value": 22307.04999999996
         },
         {
          "formattedValue": "116,823.80",
          "ordinal": 13,
          "properties": {
           "BACK_COLOR": null,
           "FONT_FLAGS": 0,
           "FORE_COLOR": null
          },
          "value": 116823.80000000002
         },
         {
          "formattedValue": ".74",
          "ordinal": 14,
          "properties": {
           "BACK_COLOR": null,
           "FONT_FLAGS": 0,
           "FORE_COLOR": null
          },
          "value": 0.7436168555131996
         },
         {
          "formattedValue": "455,661.00",
          "ordinal": 15,
          "properties": {
           "BACK_COLOR": null,
           "FONT_FLAGS": 0,
           "FORE_COLOR": null
          },
          "value": 455661.00000000023
         },
         {
          "formattedValue": "139,130.85",
          "ordinal": 16,
          "properties": {
           "BACK_COLOR": null,
           "FONT_FLAGS": 0,
           "FORE_COLOR": null
          },
          "value": 139130.84999999998
         },
         {
          "formattedValue": "-69,434.45",
          "ordinal": 17,
          "properties": {
           "BACK_COLOR": null,
           "FONT_FLAGS": 0,
           "FORE_COLOR": null
          },
          "value": -69434.45000000001
         },
         {
          "formattedValue": "208,565.30",
          "ordinal": 18,
          "properties": {
           "BACK_COLOR": null,
           "FONT_FLAGS": 0,
           "FORE_COLOR": null
          },
          "value": 208565.3
         },
         {
          "formattedValue": ".54",
          "ordinal": 19,
          "properties": {
           "BACK_COLOR": null,
           "FONT_FLAGS": 0,
           "FORE_COLOR": null
          },
          "value": 0.5422796772161763
         },
         {
          "formattedValue": "455,661.00",
          "ordinal": 20,
          "properties": {
           "BACK_COLOR": null,
           "FONT_FLAGS": 0,
           "FORE_COLOR": null
          },
          "value": 455661.00000000023
         },
         {
          "formattedValue": "139,130.85",
          "ordinal": 21,
          "properties": {
           "BACK_COLOR": null,
           "FONT_FLAGS": 0,
           "FORE_COLOR": null
          },
          "value": 139130.84999999998
         },
         {
          "formattedValue": "-29,447.80",
          "ordinal": 22,
          "properties": {
           "BACK_COLOR": null,
           "FONT_FLAGS": 0,
           "FORE_COLOR": null
          },
          "value": -29447.800000000017
         },
         {
          "formattedValue": "168,578.65",
          "ordinal": 23,
          "properties": {
           "BACK_COLOR": null,
           "FONT_FLAGS": 0,
           "FORE_COLOR": null
          },
          "value": 168578.65
         },
         {
          "formattedValue": ".63",
          "ordinal": 24,
          "properties": {
           "BACK_COLOR": null,
           "FONT_FLAGS": 0,
           "FORE_COLOR": null
          },
          "value": 0.6300349382545358
         }
        ],
        "cube": "customer_cube",
        "defaultMembers": [
         {
          "captionPath": [
           "Count"
          ],
          "dimension": "Measures",
          "hierarchy": "Measures",
          "path": [
           "contributors.COUNT"
          ]
         },
         {
          "captionPath": [
           "Base"
          ],
          "dimension": "Epoch",
          "hierarchy": "Epoch",
          "path": [
           "Base"
          ]
         }
        ],
        "epoch": 1
       },
       "cube": "customer_cube",
       "error": null,
       "name": "NRR - Actual vs Predicted",
       "session": "Unnamed"
      },
      "text/html": [
       "<img src=\"data:image/svg+xml;charset=utf8,%3C?xml%20version=%221.0%22%20standalone=%22no%22?%3E%0A%20%20%20%20%3Csvg%20xmlns=%22http://www.w3.org/2000/svg%22%20width=%221754%22%20height=%22217%22%3E%0A%20%20%20%20%20%20%3CforeignObject%20x=%220%22%20y=%220%22%20width=%22100%25%22%20height=%22100%25%22%3E%0A%20%20%20%20%20%20%20%20%3Cstyle%20type=%22text/css%22%3E.css-xsa55j-dock%20%7Bposition:%20relative;%20z-index:%200;%20height:%20100%25;%20background-color:%20rgb(255,%20255,%20255);%20display:%20flex;%20flex-direction:%20column%7D%0A.css-1ibuxvk-DockBody%20%7Bpadding-top:%200px;%20padding-left:%200px;%20padding-right:%200px;%20padding-bottom:%200px;%20flex-grow:%201;%20flex-shrink:%201;%20flex-basis:%200%25;%20box-sizing:%20border-box;%20position:%20relative;%20z-index:%200;%20overflow-x:%20hidden;%20overflow-y:%20hidden%7D%0A.css-14zuz97%20%7Bbackground-image:%20initial;%20background-position-x:%20initial;%20background-position-y:%20initial;%20background-size:%20initial;%20background-repeat-x:%20initial;%20background-repeat-y:%20initial;%20background-attachment:%20initial;%20background-origin:%20initial;%20background-color:%20rgba(0,%200,%200,%200.2);%20z-index:%201;%20box-sizing:%20border-box;%20background-clip:%20padding-box%7D%0A.css-14zuz97.vertical%20%7Bwidth:%2012px;%20margin-top:%200px;%20margin-right:%20-6px;%20margin-bottom:%200px;%20margin-left:%20-6px;%20border-left-width:%205.5px;%20border-left-style:%20solid;%20border-left-color:%20transparent;%20border-right-width:%205.5px;%20border-right-style:%20solid;%20border-right-color:%20transparent;%20cursor:%20col-resize%7D%0A.css-14zuz97.disabled%20%7Bdisplay:%20none%7D%0A.css-1lrljg1-EditorSplitPane%20%7Bbackground-color:%20rgb(255,%20255,%20255);%20flex-grow:%201;%20flex-shrink:%201;%20flex-basis:%200%25;%20margin-right:%200px;%20position:%20relative%7D%0A.css-15fz3t7-EditorSplitPane%20%7Bposition:%20absolute;%20top:%200px;%20bottom:%200px;%20left:%200px;%20right:%200px;%20display:%20flex;%20flex-direction:%20column%7D%0A.css-1k1fxuh-Tabular%20%7Bwidth:%20100%25;%20height:%20100%25;%20position:%20relative%7D%0A.css-10klw3m%20%7Bheight:%20100%25%7D%0A.css-mdjjdg-TabularHeader%20%7Bdisplay:%20flex%7D%0A.css-12nzxaz-PinnedTabularHeaders%20%7Bflex-shrink:%200;%20display:%20flex%7D%0A.css-s4fjko-TabularPinnSeparator%20%7Bwidth:%202px;%20height:%2028px;%20background-color:%20rgb(233,%20233,%20233)%7D%0A.css-5jtkjp-UnpinnedTabularHeaders%20%7Bdisplay:%20flex;%20position:%20absolute;%20left:%200px%7D%0A.css-19w2ip5-TabularHeaderCell%20%7Bcursor:%20default;%20-webkit-box-flex:%201;%20flex-grow:%201;%20flex-shrink:%201;%20box-sizing:%20border-box;%20padding-left:%204px;%20padding-right:%204px;%20padding-top:%204px;%20padding-bottom:%204px;%20height:%20100%25;%20overflow-x:%20hidden;%20overflow-y:%20hidden;%20display:%20flex;%20white-space:%20nowrap;%20-webkit-box-pack:%20start;%20justify-content:%20flex-start;%20align-items:%20flex-start%7D%0A.css-jpazdc-TabularHeaderCell%20%7Boverflow-x:%20hidden;%20overflow-y:%20hidden;%20text-overflow:%20ellipsis%7D%0A.css-y3oqqp%20%7Bfont-size:%2012px;%20line-height:%2022px;%20font-weight:%20600;%20color:%20rgba(0,%200,%200,%200.85)%7D%0A.css-c7y3a7-TabularHeaderCell%20%7Bflex-shrink:%200;%20height:%20100%25;%20display:%20flex;%20-webkit-box-pack:%20center;%20justify-content:%20center%7D%0A.css-1id6sm3-UnpinnedTabularRows%20%7Bposition:%20absolute;%20top:%200px;%20left:%200px%7D%0A.css-3cge9w%20%7Bcursor:%20cell;%20display:%20flex;%20height:%2028px;%20user-select:%20none%7D%0A.css-9ssj44-TreeCell%20%7Bwidth:%20min-content%7D%0A.css-mkrhzq%20%7Bdisplay:%20flex;%20margin-left:%200px%7D%0A.css-1i6gc04%20%7Bcursor:%20pointer;%20margin-top:%202px;%20height:%20inherit;%20display:%20flex;%20-webkit-box-align:%20center;%20align-items:%20center;%20font-size:%2010px;%20width:%2016px%7D%0A.css-8uhtka%20%7Boverflow-x:%20hidden;%20overflow-y:%20hidden;%20text-overflow:%20ellipsis;%20white-space:%20nowrap%7D%0A.css-1ouk3zc-EditorSplitPane%20%7Bbackground-color:%20rgb(255,%20255,%20255);%20flex-grow:%201;%20flex-shrink:%201;%20flex-basis:%200%25%7D%0A.css-1jjvrwi-EditorSplitPane%20%7Bposition:%20absolute;%20top:%200px;%20bottom:%200px;%20left:%200px;%20right:%200px;%20overflow-y:%20auto%7D%0A.css-1nvaeec-TabularHeaderGroup%20%7Bposition:%20relative;%20width:%20245px%7D%0A.css-9lo9j4%20%7Bcolor:%20rgba(0,%200,%200,%200.85);%20display:%20flex;%20box-sizing:%20border-box;%20-webkit-box-align:%20center;%20align-items:%20center;%20height:%2028px;%20position:%20absolute;%20top:%200px;%20left:%200px;%20user-select:%20none;%20font-size:%2012px;%20line-height:%2022px;%20font-weight:%20600;%20border-bottom-width:%202px;%20border-bottom-style:%20solid;%20border-bottom-color:%20rgb(233,%20233,%20233);%20width:%20245px;%20border-right-width:%201px;%20border-right-style:%20solid;%20border-right-color:%20rgb(233,%20233,%20233)%7D%0A.css-b06m8u-HeaderResizer%20%7Bposition:%20absolute;%20z-index:%201;%20width:%2010px;%20height:%2028px;%20left:%20240px;%20top:%200px;%20cursor:%20col-resize%7D%0A.css-cn55et-HeaderResizer%20%7Bposition:%20absolute;%20z-index:%201;%20height:%2010px;%20width:%20245px;%20left:%200px;%20top:%2023px;%20cursor:%20row-resize%7D%0A.css-7iaa5h%20%7Bheight:%20100%25;%20box-sizing:%20border-box;%20display:%20flex;%20-webkit-box-pack:%20end;%20justify-content:%20flex-end;%20flex-direction:%20column;%20padding-top:%204px;%20padding-left:%204px;%20padding-right:%204px;%20padding-bottom:%203px;%20overflow-x:%20hidden;%20overflow-y:%20hidden;%20white-space:%20nowrap;%20border-right-width:%201px;%20border-right-style:%20solid;%20border-right-color:%20rgb(233,%20233,%20233);%20border-bottom-width:%20initial;%20border-bottom-style:%20none;%20border-bottom-color:%20initial;%20width:%20245px;%20align-items:%20flex-start;%20background-color:%20rgb(250,%20250,%20250)%7D%0A.css-1q63qjm%20%7Bcolor:%20rgba(0,%200,%200,%200.85);%20display:%20flex;%20box-sizing:%20border-box;%20-webkit-box-align:%20center;%20align-items:%20center;%20height:%2028px;%20position:%20absolute;%20top:%200px;%20left:%200px;%20user-select:%20none;%20font-size:%2012px;%20line-height:%2022px;%20font-weight:%20600;%20border-bottom-width:%202px;%20border-bottom-style:%20solid;%20border-bottom-color:%20rgb(233,%20233,%20233);%20width:%20120px%7D%0A.css-pm742e%20%7Bcursor:%20pointer;%20margin-top:%202px;%20height:%20inherit;%20display:%20flex;%20-webkit-box-align:%20center;%20align-items:%20center;%20font-size:%2010px;%20-webkit-box-pack:%20center;%20justify-content:%20center;%20padding-left:%204px%7D%0A.css-w64vkb-HeaderResizer%20%7Bposition:%20absolute;%20z-index:%201;%20width:%2010px;%20height:%2028px;%20left:%20115px;%20top:%200px;%20cursor:%20col-resize%7D%0A.css-tlxtaa-HeaderResizer%20%7Bposition:%20absolute;%20z-index:%201;%20height:%2010px;%20width:%20120px;%20left:%200px;%20top:%2023px;%20cursor:%20row-resize%7D%0A.css-lp3bnm%20%7Bcolor:%20rgba(0,%200,%200,%200.85);%20display:%20flex;%20box-sizing:%20border-box;%20-webkit-box-align:%20center;%20align-items:%20center;%20height:%2028px;%20position:%20absolute;%20top:%200px;%20left:%20120px;%20user-select:%20none;%20font-size:%2012px;%20line-height:%2022px;%20font-weight:%20600;%20border-bottom-width:%202px;%20border-bottom-style:%20solid;%20border-bottom-color:%20rgb(233,%20233,%20233);%20width:%20120px%7D%0A.css-y4zo4n-HeaderResizer%20%7Bposition:%20absolute;%20z-index:%201;%20width:%2010px;%20height:%2028px;%20left:%20235px;%20top:%200px;%20cursor:%20col-resize%7D%0A.css-8latmz-HeaderResizer%20%7Bposition:%20absolute;%20z-index:%201;%20height:%2010px;%20width:%20120px;%20left:%20120px;%20top:%2023px;%20cursor:%20row-resize%7D%0A.css-8r2ljj-PinnedTabularRows%20%7Bposition:%20absolute;%20right:%200px%7D%0A.css-8zvwca-PinnedTabularRows%20%7Bwidth:%202px;%20height:%20140px;%20background-color:%20rgb(233,%20233,%20233)%7D%0A.css-mkoicc-CaptionCellRenderer%20%7Bwidth:%20100%25;%20overflow-x:%20hidden;%20overflow-y:%20hidden;%20text-overflow:%20ellipsis;%20white-space:%20nowrap%7D%0A.css-t881dv-SelectionStatistics%20%7Bheight:%2020px;%20display:%20flex;%20padding-top:%205px;%20opacity:%200;%20transition-duration:%20300ms;%20transition-timing-function:%20ease;%20transition-delay:%200s;%20transition-property:%20opacity;%20position:%20absolute;%20right:%200px;%20left:%20unset%7D%0A.css-1esib82-Tabular%20%7Bposition:%20relative;%20height:%20100%25;%20width:%20939px%7D%0A.css-1grydqd-UnpinnedTabularHeaders%20%7Boverflow-x:%20hidden;%20overflow-y:%20hidden;%20position:%20relative;%20width:%201509px;%20height:%2028px%7D%0A.css-ggaxet-TabularHeaderGroup%20%7Bposition:%20relative;%20width:%20675px%7D%0A.css-oeuxrm%20%7Bcolor:%20rgba(0,%200,%200,%200.85);%20display:%20flex;%20box-sizing:%20border-box;%20-webkit-box-align:%20center;%20align-items:%20center;%20height:%2028px;%20position:%20absolute;%20top:%200px;%20left:%20240px;%20user-select:%20none;%20font-size:%2012px;%20line-height:%2022px;%20font-weight:%20600;%20border-bottom-width:%202px;%20border-bottom-style:%20solid;%20border-bottom-color:%20rgb(233,%20233,%20233);%20width:%20164px%7D%0A.css-hepb7i-HeaderResizer%20%7Bposition:%20absolute;%20z-index:%201;%20width:%2010px;%20height:%2028px;%20left:%20399px;%20top:%200px;%20cursor:%20col-resize%7D%0A.css-8ur0lp-HeaderResizer%20%7Bposition:%20absolute;%20z-index:%201;%20height:%2010px;%20width:%20164px;%20left:%20240px;%20top:%2023px;%20cursor:%20row-resize%7D%0A.css-1f61f1q%20%7Bcolor:%20rgba(0,%200,%200,%200.85);%20display:%20flex;%20box-sizing:%20border-box;%20-webkit-box-align:%20center;%20align-items:%20center;%20height:%2028px;%20position:%20absolute;%20top:%200px;%20left:%20404px;%20user-select:%20none;%20font-size:%2012px;%20line-height:%2022px;%20font-weight:%20600;%20border-bottom-width:%202px;%20border-bottom-style:%20solid;%20border-bottom-color:%20rgb(233,%20233,%20233);%20width:%20151px%7D%0A.css-5x8zfe-HeaderResizer%20%7Bposition:%20absolute;%20z-index:%201;%20width:%2010px;%20height:%2028px;%20left:%20550px;%20top:%200px;%20cursor:%20col-resize%7D%0A.css-1pfyjcs-HeaderResizer%20%7Bposition:%20absolute;%20z-index:%201;%20height:%2010px;%20width:%20151px;%20left:%20404px;%20top:%2023px;%20cursor:%20row-resize%7D%0A.css-1n24r75%20%7Bcolor:%20rgba(0,%200,%200,%200.85);%20display:%20flex;%20box-sizing:%20border-box;%20-webkit-box-align:%20center;%20align-items:%20center;%20height:%2028px;%20position:%20absolute;%20top:%200px;%20left:%20555px;%20user-select:%20none;%20font-size:%2012px;%20line-height:%2022px;%20font-weight:%20600;%20border-bottom-width:%202px;%20border-bottom-style:%20solid;%20border-bottom-color:%20rgb(233,%20233,%20233);%20width:%20120px;%20border-right-width:%201px;%20border-right-style:%20solid;%20border-right-color:%20rgb(233,%20233,%20233)%7D%0A.css-4rrfv6-HeaderResizer%20%7Bposition:%20absolute;%20z-index:%201;%20width:%2010px;%20height:%2028px;%20left:%20670px;%20top:%200px;%20cursor:%20col-resize%7D%0A.css-15mg4yh-HeaderResizer%20%7Bposition:%20absolute;%20z-index:%201;%20height:%2010px;%20width:%20120px;%20left:%20555px;%20top:%2023px;%20cursor:%20row-resize%7D%0A.css-19gbr97-TabularBody%20%7Bposition:%20relative;%20overflow-x:%20hidden;%20overflow-y:%20hidden;%20top:%200px;%20width:%20922px;%20height:%20140px%7D%0A.css-oegauc-PinnedTabularRows%20%7Bposition:%20absolute;%20height:%20140px;%20width:%20247px;%20overflow-x:%20hidden;%20overflow-y:%20hidden%7D%0A.css-13wr8h5-PinnedTabularRows%20%7Bposition:%20absolute;%20overflow-x:%20hidden;%20overflow-y:%20hidden;%20top:%200px;%20width:%20245px%7D%0A.css-14nkn0z%20%7Bheight:%20100%25;%20box-sizing:%20border-box;%20display:%20flex;%20-webkit-box-pack:%20end;%20justify-content:%20flex-end;%20flex-direction:%20column;%20padding-top:%204px;%20padding-left:%204px;%20padding-right:%204px;%20padding-bottom:%203px;%20overflow-x:%20hidden;%20overflow-y:%20hidden;%20white-space:%20nowrap;%20border-right-width:%201px;%20border-right-style:%20solid;%20border-right-color:%20rgb(233,%20233,%20233);%20border-bottom-width:%20initial;%20border-bottom-style:%20none;%20border-bottom-color:%20initial;%20width:%20245px;%20align-items:%20flex-start%7D%0A.css-9wgx3s%20%7Bheight:%20100%25;%20box-sizing:%20border-box;%20display:%20flex;%20-webkit-box-pack:%20end;%20justify-content:%20flex-end;%20flex-direction:%20column;%20padding-top:%204px;%20padding-left:%204px;%20padding-right:%204px;%20padding-bottom:%203px;%20overflow-x:%20hidden;%20overflow-y:%20hidden;%20white-space:%20nowrap;%20border-right-width:%201px;%20border-right-style:%20solid;%20border-right-color:%20rgb(233,%20233,%20233);%20border-bottom-width:%201px;%20border-bottom-style:%20solid;%20border-bottom-color:%20rgb(233,%20233,%20233);%20width:%20245px;%20align-items:%20flex-start;%20background-color:%20rgb(250,%20250,%20250)%7D%0A.css-tj52o7-UnpinnedTabularRows%20%7Bposition:%20absolute;%20overflow-x:%20hidden;%20overflow-y:%20hidden;%20left:%20247px;%20height:%20140px;%20width:%20675px%7D%0A.css-1hcmypl-TabularCell%20%7Bheight:%2028px;%20box-sizing:%20border-box;%20display:%20flex;%20-webkit-box-pack:%20end;%20justify-content:%20flex-end;%20flex-direction:%20column;%20padding-top:%204px;%20padding-left:%204px;%20padding-right:%204px;%20padding-bottom:%203px;%20overflow-x:%20hidden;%20overflow-y:%20hidden;%20white-space:%20nowrap;%20border-right-width:%201px;%20border-right-style:%20solid;%20border-right-color:%20rgb(233,%20233,%20233);%20border-bottom-width:%20initial;%20border-bottom-style:%20none;%20border-bottom-color:%20initial;%20width:%20120px;%20background-color:%20rgb(250,%20250,%20250);%20cursor:%20cell;%20user-select:%20none;%20text-align:%20right;%20align-items:%20flex-end%7D%0A.css-fkgodp-TabularCell%20%7Bheight:%2028px;%20box-sizing:%20border-box;%20display:%20flex;%20-webkit-box-pack:%20end;%20justify-content:%20flex-end;%20flex-direction:%20column;%20padding-top:%204px;%20padding-left:%204px;%20padding-right:%204px;%20padding-bottom:%203px;%20overflow-x:%20hidden;%20overflow-y:%20hidden;%20white-space:%20nowrap;%20border-right-width:%201px;%20border-right-style:%20solid;%20border-right-color:%20rgb(233,%20233,%20233);%20border-bottom-width:%20initial;%20border-bottom-style:%20none;%20border-bottom-color:%20initial;%20width:%20164px;%20background-color:%20rgb(250,%20250,%20250);%20cursor:%20cell;%20user-select:%20none;%20text-align:%20right;%20align-items:%20flex-end%7D%0A.css-76qyu-TabularCell%20%7Bheight:%2028px;%20box-sizing:%20border-box;%20display:%20flex;%20-webkit-box-pack:%20end;%20justify-content:%20flex-end;%20flex-direction:%20column;%20padding-top:%204px;%20padding-left:%204px;%20padding-right:%204px;%20padding-bottom:%203px;%20overflow-x:%20hidden;%20overflow-y:%20hidden;%20white-space:%20nowrap;%20border-right-width:%201px;%20border-right-style:%20solid;%20border-right-color:%20rgb(233,%20233,%20233);%20border-bottom-width:%20initial;%20border-bottom-style:%20none;%20border-bottom-color:%20initial;%20width:%20151px;%20background-color:%20rgb(250,%20250,%20250);%20cursor:%20cell;%20user-select:%20none;%20text-align:%20right;%20align-items:%20flex-end%7D%0A.css-qazlap-TabularCell%20%7Bheight:%2028px;%20box-sizing:%20border-box;%20display:%20flex;%20-webkit-box-pack:%20end;%20justify-content:%20flex-end;%20flex-direction:%20column;%20padding-top:%204px;%20padding-left:%204px;%20padding-right:%204px;%20padding-bottom:%203px;%20overflow-x:%20hidden;%20overflow-y:%20hidden;%20white-space:%20nowrap;%20border-right-width:%201px;%20border-right-style:%20solid;%20border-right-color:%20rgb(233,%20233,%20233);%20border-bottom-width:%20initial;%20border-bottom-style:%20none;%20border-bottom-color:%20initial;%20width:%20120px;%20cursor:%20cell;%20user-select:%20none;%20text-align:%20right;%20align-items:%20flex-end%7D%0A.css-i6cshp-TabularCell%20%7Bheight:%2028px;%20box-sizing:%20border-box;%20display:%20flex;%20-webkit-box-pack:%20end;%20justify-content:%20flex-end;%20flex-direction:%20column;%20padding-top:%204px;%20padding-left:%204px;%20padding-right:%204px;%20padding-bottom:%203px;%20overflow-x:%20hidden;%20overflow-y:%20hidden;%20white-space:%20nowrap;%20border-right-width:%201px;%20border-right-style:%20solid;%20border-right-color:%20rgb(233,%20233,%20233);%20border-bottom-width:%20initial;%20border-bottom-style:%20none;%20border-bottom-color:%20initial;%20width:%20164px;%20cursor:%20cell;%20user-select:%20none;%20text-align:%20right;%20align-items:%20flex-end%7D%0A.css-1h4al49-TabularCell%20%7Bheight:%2028px;%20box-sizing:%20border-box;%20display:%20flex;%20-webkit-box-pack:%20end;%20justify-content:%20flex-end;%20flex-direction:%20column;%20padding-top:%204px;%20padding-left:%204px;%20padding-right:%204px;%20padding-bottom:%203px;%20overflow-x:%20hidden;%20overflow-y:%20hidden;%20white-space:%20nowrap;%20border-right-width:%201px;%20border-right-style:%20solid;%20border-right-color:%20rgb(233,%20233,%20233);%20border-bottom-width:%20initial;%20border-bottom-style:%20none;%20border-bottom-color:%20initial;%20width:%20151px;%20cursor:%20cell;%20user-select:%20none;%20text-align:%20right;%20align-items:%20flex-end%7D%0A.css-1mho7dq-TabularCell%20%7Bheight:%2028px;%20box-sizing:%20border-box;%20display:%20flex;%20-webkit-box-pack:%20end;%20justify-content:%20flex-end;%20flex-direction:%20column;%20padding-top:%204px;%20padding-left:%204px;%20padding-right:%204px;%20padding-bottom:%203px;%20overflow-x:%20hidden;%20overflow-y:%20hidden;%20white-space:%20nowrap;%20border-right-width:%201px;%20border-right-style:%20solid;%20border-right-color:%20rgb(233,%20233,%20233);%20border-bottom-width:%20initial;%20border-bottom-style:%20none;%20border-bottom-color:%20initial;%20width:%20151px;%20background-color:%20rgb(250,%20250,%20250);%20cursor:%20cell;%20user-select:%20none;%20text-align:%20right;%20color:%20rgb(255,%200,%200);%20align-items:%20flex-end%7D%0A.css-m3b6cx-TabularCell%20%7Bheight:%2028px;%20box-sizing:%20border-box;%20display:%20flex;%20-webkit-box-pack:%20end;%20justify-content:%20flex-end;%20flex-direction:%20column;%20padding-top:%204px;%20padding-left:%204px;%20padding-right:%204px;%20padding-bottom:%203px;%20overflow-x:%20hidden;%20overflow-y:%20hidden;%20white-space:%20nowrap;%20border-right-width:%201px;%20border-right-style:%20solid;%20border-right-color:%20rgb(233,%20233,%20233);%20border-bottom-width:%201px;%20border-bottom-style:%20solid;%20border-bottom-color:%20rgb(233,%20233,%20233);%20width:%20120px;%20background-color:%20rgb(250,%20250,%20250);%20cursor:%20cell;%20user-select:%20none;%20text-align:%20right;%20align-items:%20flex-end%7D%0A.css-cnldp0-TabularCell%20%7Bheight:%2028px;%20box-sizing:%20border-box;%20display:%20flex;%20-webkit-box-pack:%20end;%20justify-content:%20flex-end;%20flex-direction:%20column;%20padding-top:%204px;%20padding-left:%204px;%20padding-right:%204px;%20padding-bottom:%203px;%20overflow-x:%20hidden;%20overflow-y:%20hidden;%20white-space:%20nowrap;%20border-right-width:%201px;%20border-right-style:%20solid;%20border-right-color:%20rgb(233,%20233,%20233);%20border-bottom-width:%201px;%20border-bottom-style:%20solid;%20border-bottom-color:%20rgb(233,%20233,%20233);%20width:%20164px;%20background-color:%20rgb(250,%20250,%20250);%20cursor:%20cell;%20user-select:%20none;%20text-align:%20right;%20align-items:%20flex-end%7D%0A.css-1g9sk8k-TabularCell%20%7Bheight:%2028px;%20box-sizing:%20border-box;%20display:%20flex;%20-webkit-box-pack:%20end;%20justify-content:%20flex-end;%20flex-direction:%20column;%20padding-top:%204px;%20padding-left:%204px;%20padding-right:%204px;%20padding-bottom:%203px;%20overflow-x:%20hidden;%20overflow-y:%20hidden;%20white-space:%20nowrap;%20border-right-width:%201px;%20border-right-style:%20solid;%20border-right-color:%20rgb(233,%20233,%20233);%20border-bottom-width:%201px;%20border-bottom-style:%20solid;%20border-bottom-color:%20rgb(233,%20233,%20233);%20width:%20151px;%20background-color:%20rgb(250,%20250,%20250);%20cursor:%20cell;%20user-select:%20none;%20text-align:%20right;%20align-items:%20flex-end%7D%0A.ant-root%20html,%20.ant-root%20%7Bwidth:%20100%25;%20height:%20100%25%7D%0A.ant-root%20*,%20.ant-root%20::before,%20.ant-root%20::after%20%7Bbox-sizing:%20border-box%7D%0A.ant-root%20%7Bmargin-top:%200px;%20margin-right:%200px;%20margin-bottom:%200px;%20margin-left:%200px;%20color:%20rgba(0,%200,%200,%200.65);%20font-size:%2014px;%20font-family:%20-apple-system,%20BlinkMacSystemFont,%20%22Segoe%20UI%22,%20%22PingFang%20SC%22,%20%22Hiragino%20Sans%20GB%22,%20%22Microsoft%20YaHei%22,%20%22Helvetica%20Neue%22,%20Helvetica,%20Arial,%20sans-serif,%20%22Apple%20Color%20Emoji%22,%20%22Segoe%20UI%20Emoji%22,%20%22Segoe%20UI%20Symbol%22;%20font-variant-ligatures:%20normal;%20font-variant-numeric:%20tabular-nums;%20font-variant-east-asian:%20normal;%20font-variant-caps:%20normal;%20line-height:%201.5;%20background-color:%20rgb(255,%20255,%20255);%20font-feature-settings:%20%22tnum%22;%20--antd-wave-shadow-color:%20undefined%7D%0A.ant-root%20.ant-typography%20%7Bcolor:%20rgba(0,%200,%200,%200.65)%7D%0A.css-1sxolix-Widget%20%7Bheight:%20100%25%7D%0A.css-1sxolix-Widget%20.ant-root:not(.atoti-widget-chooser)%20%7Bbox-shadow:%20none%7D%3C/style%3E%0A%20%20%20%20%20%20%20%20%3Cdiv%20xmlns=%22http://www.w3.org/1999/xhtml%22%20style=%22height:%20217px;%20width:%201754px%22%3E%0A%20%20%20%20%20%20%20%20%20%20%3Cdiv%20xmlns=%22http://www.w3.org/1999/xhtml%22%20class=%22css-1sxolix-Widget%22%3E%3Cdiv%20class=%22ant-root%20css-xsa55j-dock%22%3E%3Cdiv%20class=%22css-1ibuxvk-DockBody%22%3E%3Cdiv%20class=%22SplitPane%20%20vertical%20disabled%22%20style=%22display:%20flex;%20flex:%201%201%200%25;%20height:%20100%25;%20position:%20relative;%20outline:%20none;%20overflow:%20hidden;%20user-select:%20text;%20flex-direction:%20row;%20left:%200px;%20right:%200px;%22%3E%3Cdiv%20class=%22Pane%20vertical%20Pane1%20%20%22%20style=%22flex:%201%201%200%25;%20position:%20relative;%20outline:%20none;%20display:%20flex;%20background-color:%20rgb(255,%20255,%20255);%22%3E%3Cdiv%20class=%22css-1lrljg1-EditorSplitPane%22%3E%3Cdiv%20class=%22css-15fz3t7-EditorSplitPane%22%3E%3Cdiv%20class=%22css-1k1fxuh-Tabular%22%3E%3Cdiv%20class=%22css-10klw3m%22%3E%3Cdiv%20tabindex=%220%22%20class=%22css-1esib82-Tabular%22%3E%3Cdiv%20class=%22css-192kvjv-Tabular%22%3E%3Cdiv%20class=%22css-mdjjdg-TabularHeader%22%3E%3Cdiv%20class=%22css-12nzxaz-PinnedTabularHeaders%22%3E%3Cdiv%20class=%22css-1nvaeec-TabularHeaderGroup%22%3E%3Cdiv%20class=%22css-9lo9j4%22%3E%3Cdiv%20class=%22css-19w2ip5-TabularHeaderCell%22%3E%3Cspan%20class=%22css-jpazdc-TabularHeaderCell%22%3E%3Cspan%3E%3Cspan%3E%3Cspan%20class=%22css-y3oqqp%22%3EScenario%3C/span%3E%3C/span%3E%3C/span%3E%3C/span%3E%3C/div%3E%3Cdiv%20class=%22css-c7y3a7-TabularHeaderCell%22%3E%3C/div%3E%3C/div%3E%3Cdiv%20class=%22css-b06m8u-HeaderResizer%22%3E%3C/div%3E%3Cdiv%20class=%22css-cn55et-HeaderResizer%22%3E%3C/div%3E%3C/div%3E%3Cdiv%20class=%22css-s4fjko-TabularPinnSeparator%22%3E%3C/div%3E%3C/div%3E%3Cdiv%20class=%22css-1grydqd-UnpinnedTabularHeaders%22%3E%3Cdiv%20class=%22css-5jtkjp-UnpinnedTabularHeaders%22%3E%3Cdiv%20class=%22css-ggaxet-TabularHeaderGroup%22%3E%3Cdiv%20class=%22css-1q63qjm%22%3E%3Cdiv%20class=%22css-pm742e%22%3E%3C/div%3E%3Cdiv%20class=%22css-19w2ip5-TabularHeaderCell%22%3E%3Cspan%20class=%22css-jpazdc-TabularHeaderCell%22%3E%3Cspan%3EMRR%20Initial%3C/span%3E%3C/span%3E%3C/div%3E%3Cdiv%20class=%22css-c7y3a7-TabularHeaderCell%22%3E%3C/div%3E%3C/div%3E%3Cdiv%20class=%22css-w64vkb-HeaderResizer%22%3E%3C/div%3E%3Cdiv%20class=%22css-tlxtaa-HeaderResizer%22%3E%3C/div%3E%3Cdiv%20class=%22css-lp3bnm%22%3E%3Cdiv%20class=%22css-pm742e%22%3E%3C/div%3E%3Cdiv%20class=%22css-19w2ip5-TabularHeaderCell%22%3E%3Cspan%20class=%22css-jpazdc-TabularHeaderCell%22%3E%3Cspan%3EActual%20Revenue%20Lost%3C/span%3E%3C/span%3E%3C/div%3E%3Cdiv%20class=%22css-c7y3a7-TabularHeaderCell%22%3E%3C/div%3E%3C/div%3E%3Cdiv%20class=%22css-y4zo4n-HeaderResizer%22%3E%3C/div%3E%3Cdiv%20class=%22css-8latmz-HeaderResizer%22%3E%3C/div%3E%3Cdiv%20class=%22css-oeuxrm%22%3E%3Cdiv%20class=%22css-pm742e%22%3E%3C/div%3E%3Cdiv%20class=%22css-19w2ip5-TabularHeaderCell%22%3E%3Cspan%20class=%22css-jpazdc-TabularHeaderCell%22%3E%3Cspan%3EPredicted%20Revenue%20Lost%3C/span%3E%3C/span%3E%3C/div%3E%3Cdiv%20class=%22css-c7y3a7-TabularHeaderCell%22%3E%3C/div%3E%3C/div%3E%3Cdiv%20class=%22css-hepb7i-HeaderResizer%22%3E%3C/div%3E%3Cdiv%20class=%22css-8ur0lp-HeaderResizer%22%3E%3C/div%3E%3Cdiv%20class=%22css-1f61f1q%22%3E%3Cdiv%20class=%22css-pm742e%22%3E%3C/div%3E%3Cdiv%20class=%22css-19w2ip5-TabularHeaderCell%22%3E%3Cspan%20class=%22css-jpazdc-TabularHeaderCell%22%3E%3Cspan%3EDifference%20with%20Actual%3C/span%3E%3C/span%3E%3C/div%3E%3Cdiv%20class=%22css-c7y3a7-TabularHeaderCell%22%3E%3C/div%3E%3C/div%3E%3Cdiv%20class=%22css-5x8zfe-HeaderResizer%22%3E%3C/div%3E%3Cdiv%20class=%22css-1pfyjcs-HeaderResizer%22%3E%3C/div%3E%3Cdiv%20class=%22css-1n24r75%22%3E%3Cdiv%20class=%22css-pm742e%22%3E%3C/div%3E%3Cdiv%20class=%22css-19w2ip5-TabularHeaderCell%22%3E%3Cspan%20class=%22css-jpazdc-TabularHeaderCell%22%3E%3Cspan%3ENRR%3C/span%3E%3C/span%3E%3C/div%3E%3Cdiv%20class=%22css-c7y3a7-TabularHeaderCell%22%3E%3C/div%3E%3C/div%3E%3Cdiv%20class=%22css-4rrfv6-HeaderResizer%22%3E%3C/div%3E%3Cdiv%20class=%22css-15mg4yh-HeaderResizer%22%3E%3C/div%3E%3C/div%3E%3C/div%3E%3C/div%3E%3C/div%3E%3Cdiv%20class=%22css-19gbr97-TabularBody%22%3E%3Cdiv%20class=%22css-oegauc-PinnedTabularRows%22%3E%3Cdiv%20class=%22css-13wr8h5-PinnedTabularRows%22%3E%3Cdiv%20class=%22css-3cge9w%22%3E%3Cdiv%3E%3Cdiv%20class=%22css-7iaa5h%22%3E%3Cdiv%20class=%22css-9ssj44-TreeCell%22%3E%3Cdiv%20class=%22css-mkrhzq%22%3E%3Cdiv%20class=%22css-1i6gc04%22%3E%3C/div%3E%3Cspan%20class=%22ant-typography%20css-8uhtka%22%20style=%22font-size:%2012px;%20line-height:%2020px;%20font-weight:%20600;%20color:%20rgba(0,%200,%200,%200.85);%22%3EBase%3C/span%3E%3C/div%3E%3C/div%3E%3C/div%3E%3C/div%3E%3C/div%3E%3Cdiv%20class=%22css-3cge9w%22%3E%3Cdiv%3E%3Cdiv%20class=%22css-14nkn0z%22%3E%3Cdiv%20class=%22css-9ssj44-TreeCell%22%3E%3Cdiv%20class=%22css-mkrhzq%22%3E%3Cdiv%20class=%22css-1i6gc04%22%3E%3C/div%3E%3Cspan%20class=%22ant-typography%20css-8uhtka%22%20style=%22font-size:%2012px;%20line-height:%2020px;%20font-weight:%20600;%20color:%20rgba(0,%200,%200,%200.85);%22%3ELogistic%20Regression%20(SMOTE)%20Prediction%3C/span%3E%3C/div%3E%3C/div%3E%3C/div%3E%3C/div%3E%3C/div%3E%3Cdiv%20class=%22css-3cge9w%22%3E%3Cdiv%3E%3Cdiv%20class=%22css-7iaa5h%22%3E%3Cdiv%20class=%22css-9ssj44-TreeCell%22%3E%3Cdiv%20class=%22css-mkrhzq%22%3E%3Cdiv%20class=%22css-1i6gc04%22%3E%3C/div%3E%3Cspan%20class=%22ant-typography%20css-8uhtka%22%20style=%22font-size:%2012px;%20line-height:%2020px;%20font-weight:%20600;%20color:%20rgba(0,%200,%200,%200.85);%22%3ELogistic%20Regression%20Prediction%3C/span%3E%3C/div%3E%3C/div%3E%3C/div%3E%3C/div%3E%3C/div%3E%3Cdiv%20class=%22css-3cge9w%22%3E%3Cdiv%3E%3Cdiv%20class=%22css-14nkn0z%22%3E%3Cdiv%20class=%22css-9ssj44-TreeCell%22%3E%3Cdiv%20class=%22css-mkrhzq%22%3E%3Cdiv%20class=%22css-1i6gc04%22%3E%3C/div%3E%3Cspan%20class=%22ant-typography%20css-8uhtka%22%20style=%22font-size:%2012px;%20line-height:%2020px;%20font-weight:%20600;%20color:%20rgba(0,%200,%200,%200.85);%22%3ENaive%20Bayes%20Prediction%3C/span%3E%3C/div%3E%3C/div%3E%3C/div%3E%3C/div%3E%3C/div%3E%3Cdiv%20class=%22css-3cge9w%22%3E%3Cdiv%3E%3Cdiv%20class=%22css-9wgx3s%22%3E%3Cdiv%20class=%22css-9ssj44-TreeCell%22%3E%3Cdiv%20class=%22css-mkrhzq%22%3E%3Cdiv%20class=%22css-1i6gc04%22%3E%3C/div%3E%3Cspan%20class=%22ant-typography%20css-8uhtka%22%20style=%22font-size:%2012px;%20line-height:%2020px;%20font-weight:%20600;%20color:%20rgba(0,%200,%200,%200.85);%22%3ESVM%20Classifier%20Linear%20Prediction%3C/span%3E%3C/div%3E%3C/div%3E%3C/div%3E%3C/div%3E%3C/div%3E%3C/div%3E%3Cdiv%20class=%22css-8r2ljj-PinnedTabularRows%22%3E%3Cdiv%20class=%22css-8zvwca-PinnedTabularRows%22%3E%3C/div%3E%3C/div%3E%3C/div%3E%3Cdiv%20class=%22css-tj52o7-UnpinnedTabularRows%22%3E%3Cdiv%20class=%22css-1id6sm3-UnpinnedTabularRows%22%3E%3Cdiv%20class=%22css-3cge9w%22%3E%3Cdiv%3E%3Cdiv%20class=%22%20css-1hcmypl-TabularCell%22%3E%3Cspan%20class=%22css-mkoicc-CaptionCellRenderer%22%3E%3Cspan%3E%3Cspan%20class=%22ant-typography%22%20style=%22font-size:%2012px;%20line-height:%2020px;%20font-weight:%20400;%22%3E455,661.00%3C/span%3E%3C/span%3E%3C/span%3E%3C/div%3E%3C/div%3E%3Cdiv%3E%3Cdiv%20class=%22%20css-1hcmypl-TabularCell%22%3E%3Cspan%20class=%22css-mkoicc-CaptionCellRenderer%22%3E%3Cspan%3E%3Cspan%20class=%22ant-typography%22%20style=%22font-size:%2012px;%20line-height:%2020px;%20font-weight:%20400;%22%3E139,130.85%3C/span%3E%3C/span%3E%3C/span%3E%3C/div%3E%3C/div%3E%3Cdiv%3E%3Cdiv%20class=%22%20css-fkgodp-TabularCell%22%3E%3Cspan%20class=%22css-mkoicc-CaptionCellRenderer%22%3E%3Cspan%3E%3Cspan%20class=%22ant-typography%22%20style=%22font-size:%2012px;%20line-height:%2020px;%20font-weight:%20400;%22%3E139,130.85%3C/span%3E%3C/span%3E%3C/span%3E%3C/div%3E%3C/div%3E%3Cdiv%3E%3Cdiv%20class=%22%20css-76qyu-TabularCell%22%3E%3Cspan%20class=%22css-mkoicc-CaptionCellRenderer%22%3E%3Cspan%3E%3Cspan%20class=%22ant-typography%22%20style=%22font-size:%2012px;%20line-height:%2020px;%20font-weight:%20400;%22%3E.00%3C/span%3E%3C/span%3E%3C/span%3E%3C/div%3E%3C/div%3E%3Cdiv%3E%3Cdiv%20class=%22%20css-1hcmypl-TabularCell%22%3E%3Cspan%20class=%22css-mkoicc-CaptionCellRenderer%22%3E%3Cspan%3E%3Cspan%20class=%22ant-typography%22%20style=%22font-size:%2012px;%20line-height:%2020px;%20font-weight:%20400;%22%3E.69%3C/span%3E%3C/span%3E%3C/span%3E%3C/div%3E%3C/div%3E%3C/div%3E%3Cdiv%20class=%22css-3cge9w%22%3E%3Cdiv%3E%3Cdiv%20class=%22%20css-qazlap-TabularCell%22%3E%3Cspan%20class=%22css-mkoicc-CaptionCellRenderer%22%3E%3Cspan%3E%3Cspan%20class=%22ant-typography%22%20style=%22font-size:%2012px;%20line-height:%2020px;%20font-weight:%20400;%22%3E455,661.00%3C/span%3E%3C/span%3E%3C/span%3E%3C/div%3E%3C/div%3E%3Cdiv%3E%3Cdiv%20class=%22%20css-qazlap-TabularCell%22%3E%3Cspan%20class=%22css-mkoicc-CaptionCellRenderer%22%3E%3Cspan%3E%3Cspan%20class=%22ant-typography%22%20style=%22font-size:%2012px;%20line-height:%2020px;%20font-weight:%20400;%22%3E139,130.85%3C/span%3E%3C/span%3E%3C/span%3E%3C/div%3E%3C/div%3E%3Cdiv%3E%3Cdiv%20class=%22%20css-i6cshp-TabularCell%22%3E%3Cspan%20class=%22css-mkoicc-CaptionCellRenderer%22%3E%3Cspan%3E%3Cspan%20class=%22ant-typography%22%20style=%22font-size:%2012px;%20line-height:%2020px;%20font-weight:%20400;%22%3E173,381.85%3C/span%3E%3C/span%3E%3C/span%3E%3C/div%3E%3C/div%3E%3Cdiv%3E%3Cdiv%20class=%22%20css-1h4al49-TabularCell%22%3E%3Cspan%20class=%22css-mkoicc-CaptionCellRenderer%22%3E%3Cspan%3E%3Cspan%20class=%22ant-typography%22%20style=%22font-size:%2012px;%20line-height:%2020px;%20font-weight:%20400;%22%3E-34,251.00%3C/span%3E%3C/span%3E%3C/span%3E%3C/div%3E%3C/div%3E%3Cdiv%3E%3Cdiv%20class=%22%20css-qazlap-TabularCell%22%3E%3Cspan%20class=%22css-mkoicc-CaptionCellRenderer%22%3E%3Cspan%3E%3Cspan%20class=%22ant-typography%22%20style=%22font-size:%2012px;%20line-height:%2020px;%20font-weight:%20400;%22%3E.62%3C/span%3E%3C/span%3E%3C/span%3E%3C/div%3E%3C/div%3E%3C/div%3E%3Cdiv%20class=%22css-3cge9w%22%3E%3Cdiv%3E%3Cdiv%20class=%22%20css-1hcmypl-TabularCell%22%3E%3Cspan%20class=%22css-mkoicc-CaptionCellRenderer%22%3E%3Cspan%3E%3Cspan%20class=%22ant-typography%22%20style=%22font-size:%2012px;%20line-height:%2020px;%20font-weight:%20400;%22%3E455,661.00%3C/span%3E%3C/span%3E%3C/span%3E%3C/div%3E%3C/div%3E%3Cdiv%3E%3Cdiv%20class=%22%20css-1hcmypl-TabularCell%22%3E%3Cspan%20class=%22css-mkoicc-CaptionCellRenderer%22%3E%3Cspan%3E%3Cspan%20class=%22ant-typography%22%20style=%22font-size:%2012px;%20line-height:%2020px;%20font-weight:%20400;%22%3E139,130.85%3C/span%3E%3C/span%3E%3C/span%3E%3C/div%3E%3C/div%3E%3Cdiv%3E%3Cdiv%20class=%22%20css-fkgodp-TabularCell%22%3E%3Cspan%20class=%22css-mkoicc-CaptionCellRenderer%22%3E%3Cspan%3E%3Cspan%20class=%22ant-typography%22%20style=%22font-size:%2012px;%20line-height:%2020px;%20font-weight:%20400;%22%3E116,823.80%3C/span%3E%3C/span%3E%3C/span%3E%3C/div%3E%3C/div%3E%3Cdiv%3E%3Cdiv%20class=%22%20css-1mho7dq-TabularCell%22%3E%3Cspan%20class=%22css-mkoicc-CaptionCellRenderer%22%3E%3Cspan%3E%3Cspan%20class=%22ant-typography%22%20style=%22font-size:%2012px;%20line-height:%2020px;%20font-weight:%20400;%20color:%20rgb(255,%200,%200);%22%3E22,307.05%3C/span%3E%3C/span%3E%3C/span%3E%3C/div%3E%3C/div%3E%3Cdiv%3E%3Cdiv%20class=%22%20css-1hcmypl-TabularCell%22%3E%3Cspan%20class=%22css-mkoicc-CaptionCellRenderer%22%3E%3Cspan%3E%3Cspan%20class=%22ant-typography%22%20style=%22font-size:%2012px;%20line-height:%2020px;%20font-weight:%20400;%22%3E.74%3C/span%3E%3C/span%3E%3C/span%3E%3C/div%3E%3C/div%3E%3C/div%3E%3Cdiv%20class=%22css-3cge9w%22%3E%3Cdiv%3E%3Cdiv%20class=%22%20css-qazlap-TabularCell%22%3E%3Cspan%20class=%22css-mkoicc-CaptionCellRenderer%22%3E%3Cspan%3E%3Cspan%20class=%22ant-typography%22%20style=%22font-size:%2012px;%20line-height:%2020px;%20font-weight:%20400;%22%3E455,661.00%3C/span%3E%3C/span%3E%3C/span%3E%3C/div%3E%3C/div%3E%3Cdiv%3E%3Cdiv%20class=%22%20css-qazlap-TabularCell%22%3E%3Cspan%20class=%22css-mkoicc-CaptionCellRenderer%22%3E%3Cspan%3E%3Cspan%20class=%22ant-typography%22%20style=%22font-size:%2012px;%20line-height:%2020px;%20font-weight:%20400;%22%3E139,130.85%3C/span%3E%3C/span%3E%3C/span%3E%3C/div%3E%3C/div%3E%3Cdiv%3E%3Cdiv%20class=%22%20css-i6cshp-TabularCell%22%3E%3Cspan%20class=%22css-mkoicc-CaptionCellRenderer%22%3E%3Cspan%3E%3Cspan%20class=%22ant-typography%22%20style=%22font-size:%2012px;%20line-height:%2020px;%20font-weight:%20400;%22%3E208,565.30%3C/span%3E%3C/span%3E%3C/span%3E%3C/div%3E%3C/div%3E%3Cdiv%3E%3Cdiv%20class=%22%20css-1h4al49-TabularCell%22%3E%3Cspan%20class=%22css-mkoicc-CaptionCellRenderer%22%3E%3Cspan%3E%3Cspan%20class=%22ant-typography%22%20style=%22font-size:%2012px;%20line-height:%2020px;%20font-weight:%20400;%22%3E-69,434.45%3C/span%3E%3C/span%3E%3C/span%3E%3C/div%3E%3C/div%3E%3Cdiv%3E%3Cdiv%20class=%22%20css-qazlap-TabularCell%22%3E%3Cspan%20class=%22css-mkoicc-CaptionCellRenderer%22%3E%3Cspan%3E%3Cspan%20class=%22ant-typography%22%20style=%22font-size:%2012px;%20line-height:%2020px;%20font-weight:%20400;%22%3E.54%3C/span%3E%3C/span%3E%3C/span%3E%3C/div%3E%3C/div%3E%3C/div%3E%3Cdiv%20class=%22css-3cge9w%22%3E%3Cdiv%3E%3Cdiv%20class=%22%20css-m3b6cx-TabularCell%22%3E%3Cspan%20class=%22css-mkoicc-CaptionCellRenderer%22%3E%3Cspan%3E%3Cspan%20class=%22ant-typography%22%20style=%22font-size:%2012px;%20line-height:%2020px;%20font-weight:%20400;%22%3E455,661.00%3C/span%3E%3C/span%3E%3C/span%3E%3C/div%3E%3C/div%3E%3Cdiv%3E%3Cdiv%20class=%22%20css-m3b6cx-TabularCell%22%3E%3Cspan%20class=%22css-mkoicc-CaptionCellRenderer%22%3E%3Cspan%3E%3Cspan%20class=%22ant-typography%22%20style=%22font-size:%2012px;%20line-height:%2020px;%20font-weight:%20400;%22%3E139,130.85%3C/span%3E%3C/span%3E%3C/span%3E%3C/div%3E%3C/div%3E%3Cdiv%3E%3Cdiv%20class=%22%20css-cnldp0-TabularCell%22%3E%3Cspan%20class=%22css-mkoicc-CaptionCellRenderer%22%3E%3Cspan%3E%3Cspan%20class=%22ant-typography%22%20style=%22font-size:%2012px;%20line-height:%2020px;%20font-weight:%20400;%22%3E168,578.65%3C/span%3E%3C/span%3E%3C/span%3E%3C/div%3E%3C/div%3E%3Cdiv%3E%3Cdiv%20class=%22%20css-1g9sk8k-TabularCell%22%3E%3Cspan%20class=%22css-mkoicc-CaptionCellRenderer%22%3E%3Cspan%3E%3Cspan%20class=%22ant-typography%22%20style=%22font-size:%2012px;%20line-height:%2020px;%20font-weight:%20400;%22%3E-29,447.80%3C/span%3E%3C/span%3E%3C/span%3E%3C/div%3E%3C/div%3E%3Cdiv%3E%3Cdiv%20class=%22%20css-m3b6cx-TabularCell%22%3E%3Cspan%20class=%22css-mkoicc-CaptionCellRenderer%22%3E%3Cspan%3E%3Cspan%20class=%22ant-typography%22%20style=%22font-size:%2012px;%20line-height:%2020px;%20font-weight:%20400;%22%3E.63%3C/span%3E%3C/span%3E%3C/span%3E%3C/div%3E%3C/div%3E%3C/div%3E%3C/div%3E%3C/div%3E%3C/div%3E%3C/div%3E%3Cdiv%20class=%22css-t881dv-SelectionStatistics%22%3E%3C/div%3E%3C/div%3E%3C/div%3E%3C/div%3E%3C/div%3E%3C/div%3E%3C/div%3E%3Cspan%20role=%22presentation%22%20class=%22css-14zuz97%20Resizer%20vertical%20disabled%22%3E%3C/span%3E%3Cdiv%20class=%22Pane%20vertical%20Pane2%20%20%22%20style=%22flex:%200%200%20auto;%20position:%20relative;%20outline:%20none;%20width:%200px;%20display:%20flex;%20background-color:%20rgb(255,%20255,%20255);%20overflow:%20auto;%22%3E%3Cdiv%20class=%22css-1ouk3zc-EditorSplitPane%22%3E%3Cdiv%20class=%22css-1jjvrwi-EditorSplitPane%22%3E%3C/div%3E%3C/div%3E%3C/div%3E%3C/div%3E%3C/div%3E%3C/div%3E%3C/div%3E%0A%20%20%20%20%20%20%20%20%3C/div%3E%0A%20%20%20%20%20%20%3C/foreignObject%3E%0A%20%20%20%20%3C/svg%3E\">"
      ],
      "text/plain": [
       "Open the notebook in JupyterLab with the atoti extension installed and enabled to see this widget."
      ]
     },
     "metadata": {},
     "output_type": "display_data"
    }
   ],
   "source": [
    "cube.visualize(\"NRR - Actual vs Predicted\")"
   ]
  },
  {
   "cell_type": "markdown",
   "metadata": {
    "execution": {
     "iopub.execute_input": "2020-07-16T10:50:02.048627Z",
     "iopub.status.busy": "2020-07-16T10:50:02.048627Z",
     "iopub.status.idle": "2020-07-16T10:50:02.052603Z",
     "shell.execute_reply": "2020-07-16T10:50:02.051622Z",
     "shell.execute_reply.started": "2020-07-16T10:50:02.048627Z"
    }
   },
   "source": [
    "#### Customer Retention Strategy\n",
    "\n",
    "We have to reduce the rate of attrition before the telco loses all its customers.  \n",
    "To do so, we have 2 potential strategies:\n",
    "1. retain existing customers through better service offers or discounts etc\n",
    "2. replace the churned customers through marketing effort\n",
    "\n",
    "According to [Harvard Business Review](https://hbr.org/2014/10/the-value-of-keeping-the-right-customers), it can cost 5 to 25 times more money to replace a customer than retaining one.  \n",
    "It is not realistic to assume we will be able to retain all customers, so let's make some assumptions:\n",
    "1. We aim to achieve a target NRR of 90%\n",
    "2. We compute the number of customers that we need to retain in order to achieve this target NRR\n",
    "3. For each customer identified, we will set aside a budget of $100 for retention purpose\n",
    "4. We do not know who has really churned yet\n",
    "\n",
    "Let's start by creating a measure for our target NRR. This is so that we can change our target later in our simulations."
   ]
  },
  {
   "cell_type": "code",
   "execution_count": 29,
   "metadata": {},
   "outputs": [],
   "source": [
    "m[\"TargetNRR\"] = 0.9"
   ]
  },
  {
   "cell_type": "markdown",
   "metadata": {},
   "source": [
    "To achieve the target NRR, we compute the maximum loss possible."
   ]
  },
  {
   "cell_type": "code",
   "execution_count": 30,
   "metadata": {},
   "outputs": [],
   "source": [
    "m[\"Max Loss Possible\"] = m[\"MRR Initial\"] - (m[\"TargetNRR\"] * m[\"MRR Initial\"])"
   ]
  },
  {
   "cell_type": "markdown",
   "metadata": {},
   "source": [
    "_Revenue Compensation_ here is the amount of money between what we predicted we will be loosing and the maximum loss we can have in order to achieve the target NRR.  \n",
    "We needed this as a target revenue amount that we need to obtain from the customers that are either to be retained or replaced."
   ]
  },
  {
   "cell_type": "code",
   "execution_count": 31,
   "metadata": {},
   "outputs": [],
   "source": [
    "m[\"Revenue Compensation\"] = m[\"Predicted Revenue Lost\"] - m[\"Max Loss Possible\"]"
   ]
  },
  {
   "cell_type": "markdown",
   "metadata": {},
   "source": [
    "Let's take the average _MonthlyCharges_ of those who are predicted to churn as the amount that each retained customer will give.  \n",
    "Notice we use [`atoti.parent_value`](https://docs.atoti.io/0.4.1/lib/atoti.html?#atoti.parent_value) on the `ChurnMean`, this is because we need this value to be constant across all the customers in order to have a constant retention size.\n",
    "\n",
    "By dividing the _Revenue Compensation_ by the average _MonthlyCharges_, we get the target number of customers to retain for each algorithm."
   ]
  },
  {
   "cell_type": "code",
   "execution_count": 32,
   "metadata": {},
   "outputs": [],
   "source": [
    "churnMean = tt.agg.mean(\n",
    "    tt.filter(m[\"MonthlyCharges.SUM\"], l[\"ChurnPredicted\"] == \"Yes\"),\n",
    "    scope=tt.scope.origin(l[\"CustomerID\"]),\n",
    ")\n",
    "\n",
    "m[\"Churn MonthlyCharges.MEAN\"] = tt.parent_value(\n",
    "    churnMean, on=h[\"CustomerID\"], total_value=churnMean\n",
    ")\n",
    "\n",
    "m[\"Retention size\"] = tt.total(\n",
    "    tt.ceil(m[\"Revenue Compensation\"] / m[\"Churn MonthlyCharges.MEAN\"]),\n",
    "    on=h[\"ChurnPredicted\"],\n",
    ")"
   ]
  },
  {
   "cell_type": "markdown",
   "metadata": {},
   "source": [
    "Let's also create a measure for _Predicted Churn Count_ so that we can see how many customers are predicted to churn and how many we intend to retain."
   ]
  },
  {
   "cell_type": "code",
   "execution_count": 33,
   "metadata": {},
   "outputs": [],
   "source": [
    "m[\"Predicted Churn Count\"] = tt.agg.sum(\n",
    "    tt.filter(m[\"contributors.COUNT\"], l[\"ChurnPredicted\"] == \"Yes\"),\n",
    "    scope=tt.scope.origin(l[\"CustomerID\"]),\n",
    ")"
   ]
  },
  {
   "cell_type": "code",
   "execution_count": 34,
   "metadata": {
    "atoti": {
     "height": 219,
     "state": {
      "name": "Predicted churn vs retention size",
      "type": "container",
      "value": {
       "body": {
        "configuration": {
         "tabular": {
          "addButtonFilter": "numeric",
          "cellRenderers": [
           "tree-layout"
          ],
          "columns": [
           {
            "key": "[Measures].[Churn MonthlyCharges.MEAN]",
            "width": 174
           },
           {
            "key": "[Measures].[Revenue Compensation]",
            "width": 178
           },
           {
            "key": "[Measures].[Predicted Churn Count]",
            "width": 154
           }
          ],
          "columnsGroups": [
           {
            "captionProducer": "firstColumn",
            "cellFactory": "kpi-status",
            "selector": "kpi-status"
           },
           {
            "captionProducer": "firstColumn",
            "cellFactory": "lookup",
            "selector": "lookup"
           },
           {
            "captionProducer": "expiry",
            "cellFactory": "expiry",
            "selector": "kpi-expiry"
           },
           {
            "captionProducer": "columnMerge",
            "cellFactory": {
             "args": {},
             "key": "treeCells"
            },
            "selector": "member"
           }
          ],
          "defaultOptions": {},
          "expansion": {
           "automaticExpansion": true
          },
          "hideAddButton": true,
          "pinnedHeaderSelector": "member",
          "sortingMode": "non-breaking",
          "statisticsShown": true
         }
        },
        "contextValues": {},
        "mdx": "SELECT NON EMPTY {[Measures].[Revenue Compensation], [Measures].[Churn MonthlyCharges.MEAN], [Measures].[Predicted Churn Count], [Measures].[Retention size]} ON COLUMNS, NON EMPTY Hierarchize([Epoch].[Epoch].[Branch].Members) ON ROWS FROM [customer_cube] CELL PROPERTIES VALUE, FORMATTED_VALUE, BACK_COLOR, FORE_COLOR, FONT_FLAGS",
        "ranges": {
         "column": {
          "chunkSize": 50,
          "thresholdPercentage": 0.2
         },
         "row": {
          "chunkSize": 2000,
          "thresholdPercentage": 0.1
         }
        },
        "serverUrl": "",
        "updateMode": "once"
       },
       "containerKey": "pivot-table",
       "showTitleBar": false,
       "style": {}
      }
     }
    }
   },
   "outputs": [
    {
     "data": {
      "application/vnd.atoti.v0+json": {
       "cellSet": {
        "axes": [
         {
          "hierarchies": [
           {
            "dimension": "Measures",
            "hierarchy": "Measures"
           }
          ],
          "id": 0,
          "positions": [
           [
            {
             "captionPath": [
              "Revenue Compensation"
             ],
             "namePath": [
              "Revenue Compensation"
             ],
             "properties": {
              "DISPLAY_INFO": 0
             }
            }
           ],
           [
            {
             "captionPath": [
              "Churn MonthlyCharges.MEAN"
             ],
             "namePath": [
              "Churn MonthlyCharges.MEAN"
             ],
             "properties": {
              "DISPLAY_INFO": 0
             }
            }
           ],
           [
            {
             "captionPath": [
              "Predicted Churn Count"
             ],
             "namePath": [
              "Predicted Churn Count"
             ],
             "properties": {
              "DISPLAY_INFO": 0
             }
            }
           ],
           [
            {
             "captionPath": [
              "Retention size"
             ],
             "namePath": [
              "Retention size"
             ],
             "properties": {
              "DISPLAY_INFO": 0
             }
            }
           ]
          ]
         },
         {
          "hierarchies": [
           {
            "dimension": "Epoch",
            "hierarchy": "Epoch"
           }
          ],
          "id": 1,
          "positions": [
           [
            {
             "captionPath": [
              "Base"
             ],
             "namePath": [
              "Base"
             ],
             "properties": {
              "DISPLAY_INFO": 0
             }
            }
           ],
           [
            {
             "captionPath": [
              "Logistic Regression (SMOTE) Prediction"
             ],
             "namePath": [
              "Logistic Regression (SMOTE) Prediction"
             ],
             "properties": {
              "DISPLAY_INFO": 0
             }
            }
           ],
           [
            {
             "captionPath": [
              "Logistic Regression Prediction"
             ],
             "namePath": [
              "Logistic Regression Prediction"
             ],
             "properties": {
              "DISPLAY_INFO": 0
             }
            }
           ],
           [
            {
             "captionPath": [
              "Naive Bayes Prediction"
             ],
             "namePath": [
              "Naive Bayes Prediction"
             ],
             "properties": {
              "DISPLAY_INFO": 0
             }
            }
           ],
           [
            {
             "captionPath": [
              "SVM Classifier Linear Prediction"
             ],
             "namePath": [
              "SVM Classifier Linear Prediction"
             ],
             "properties": {
              "DISPLAY_INFO": 0
             }
            }
           ]
          ]
         }
        ],
        "cells": [
         {
          "formattedValue": "93,564.75",
          "ordinal": 0,
          "properties": {
           "BACK_COLOR": null,
           "FONT_FLAGS": 0,
           "FORE_COLOR": null
          },
          "value": 93564.74999999994
         },
         {
          "formattedValue": "74.44",
          "ordinal": 1,
          "properties": {
           "BACK_COLOR": null,
           "FONT_FLAGS": 0,
           "FORE_COLOR": null
          },
          "value": 74.44133226324236
         },
         {
          "formattedValue": "1,869",
          "ordinal": 2,
          "properties": {
           "BACK_COLOR": null,
           "FONT_FLAGS": 0,
           "FORE_COLOR": null
          },
          "value": 1869
         },
         {
          "formattedValue": "1,257",
          "ordinal": 3,
          "properties": {
           "BACK_COLOR": null,
           "FONT_FLAGS": 0,
           "FORE_COLOR": null
          },
          "value": 1257
         },
         {
          "formattedValue": "127,815.75",
          "ordinal": 4,
          "properties": {
           "BACK_COLOR": null,
           "FONT_FLAGS": 0,
           "FORE_COLOR": null
          },
          "value": 127815.75
         },
         {
          "formattedValue": "75.71",
          "ordinal": 5,
          "properties": {
           "BACK_COLOR": null,
           "FONT_FLAGS": 0,
           "FORE_COLOR": null
          },
          "value": 75.71259825327512
         },
         {
          "formattedValue": "2,290",
          "ordinal": 6,
          "properties": {
           "BACK_COLOR": null,
           "FONT_FLAGS": 0,
           "FORE_COLOR": null
          },
          "value": 2290
         },
         {
          "formattedValue": "1,689",
          "ordinal": 7,
          "properties": {
           "BACK_COLOR": null,
           "FONT_FLAGS": 0,
           "FORE_COLOR": null
          },
          "value": 1689
         },
         {
          "formattedValue": "71,257.70",
          "ordinal": 8,
          "properties": {
           "BACK_COLOR": null,
           "FONT_FLAGS": 0,
           "FORE_COLOR": null
          },
          "value": 71257.69999999998
         },
         {
          "formattedValue": "80.51",
          "ordinal": 9,
          "properties": {
           "BACK_COLOR": null,
           "FONT_FLAGS": 0,
           "FORE_COLOR": null
          },
          "value": 80.51261199172986
         },
         {
          "formattedValue": "1,451",
          "ordinal": 10,
          "properties": {
           "BACK_COLOR": null,
           "FONT_FLAGS": 0,
           "FORE_COLOR": null
          },
          "value": 1451
         },
         {
          "formattedValue": "886",
          "ordinal": 11,
          "properties": {
           "BACK_COLOR": null,
           "FONT_FLAGS": 0,
           "FORE_COLOR": null
          },
          "value": 886
         },
         {
          "formattedValue": "162,999.20",
          "ordinal": 12,
          "properties": {
           "BACK_COLOR": null,
           "FONT_FLAGS": 0,
           "FORE_COLOR": null
          },
          "value": 162999.19999999995
         },
         {
          "formattedValue": "69.24",
          "ordinal": 13,
          "properties": {
           "BACK_COLOR": null,
           "FONT_FLAGS": 0,
           "FORE_COLOR": null
          },
          "value": 69.24478751660025
         },
         {
          "formattedValue": "3,012",
          "ordinal": 14,
          "properties": {
           "BACK_COLOR": null,
           "FONT_FLAGS": 0,
           "FORE_COLOR": null
          },
          "value": 3012
         },
         {
          "formattedValue": "2,354",
          "ordinal": 15,
          "properties": {
           "BACK_COLOR": null,
           "FONT_FLAGS": 0,
           "FORE_COLOR": null
          },
          "value": 2354
         },
         {
          "formattedValue": "123,012.55",
          "ordinal": 16,
          "properties": {
           "BACK_COLOR": null,
           "FONT_FLAGS": 0,
           "FORE_COLOR": null
          },
          "value": 123012.54999999996
         },
         {
          "formattedValue": "76.38",
          "ordinal": 17,
          "properties": {
           "BACK_COLOR": null,
           "FONT_FLAGS": 0,
           "FORE_COLOR": null
          },
          "value": 76.38362029904847
         },
         {
          "formattedValue": "2,207",
          "ordinal": 18,
          "properties": {
           "BACK_COLOR": null,
           "FONT_FLAGS": 0,
           "FORE_COLOR": null
          },
          "value": 2207
         },
         {
          "formattedValue": "1,611",
          "ordinal": 19,
          "properties": {
           "BACK_COLOR": null,
           "FONT_FLAGS": 0,
           "FORE_COLOR": null
          },
          "value": 1611
         }
        ],
        "cube": "customer_cube",
        "defaultMembers": [
         {
          "captionPath": [
           "Count"
          ],
          "dimension": "Measures",
          "hierarchy": "Measures",
          "path": [
           "contributors.COUNT"
          ]
         },
         {
          "captionPath": [
           "Base"
          ],
          "dimension": "Epoch",
          "hierarchy": "Epoch",
          "path": [
           "Base"
          ]
         }
        ],
        "epoch": 1
       },
       "cube": "customer_cube",
       "error": null,
       "name": "Predicted churn vs retention size",
       "session": "Unnamed"
      },
      "text/html": [
       "<img src=\"data:image/svg+xml;charset=utf8,%3C?xml%20version=%221.0%22%20standalone=%22no%22?%3E%0A%20%20%20%20%3Csvg%20xmlns=%22http://www.w3.org/2000/svg%22%20width=%221754%22%20height=%22219%22%3E%0A%20%20%20%20%20%20%3CforeignObject%20x=%220%22%20y=%220%22%20width=%22100%25%22%20height=%22100%25%22%3E%0A%20%20%20%20%20%20%20%20%3Cstyle%20type=%22text/css%22%3E.css-xsa55j-dock%20%7Bposition:%20relative;%20z-index:%200;%20height:%20100%25;%20background-color:%20rgb(255,%20255,%20255);%20display:%20flex;%20flex-direction:%20column%7D%0A.css-1ibuxvk-DockBody%20%7Bpadding-top:%200px;%20padding-left:%200px;%20padding-right:%200px;%20padding-bottom:%200px;%20flex-grow:%201;%20flex-shrink:%201;%20flex-basis:%200%25;%20box-sizing:%20border-box;%20position:%20relative;%20z-index:%200;%20overflow-x:%20hidden;%20overflow-y:%20hidden%7D%0A.css-14zuz97%20%7Bbackground-image:%20initial;%20background-position-x:%20initial;%20background-position-y:%20initial;%20background-size:%20initial;%20background-repeat-x:%20initial;%20background-repeat-y:%20initial;%20background-attachment:%20initial;%20background-origin:%20initial;%20background-color:%20rgba(0,%200,%200,%200.2);%20z-index:%201;%20box-sizing:%20border-box;%20background-clip:%20padding-box%7D%0A.css-14zuz97.vertical%20%7Bwidth:%2012px;%20margin-top:%200px;%20margin-right:%20-6px;%20margin-bottom:%200px;%20margin-left:%20-6px;%20border-left-width:%205.5px;%20border-left-style:%20solid;%20border-left-color:%20transparent;%20border-right-width:%205.5px;%20border-right-style:%20solid;%20border-right-color:%20transparent;%20cursor:%20col-resize%7D%0A.css-14zuz97.disabled%20%7Bdisplay:%20none%7D%0A.css-1lrljg1-EditorSplitPane%20%7Bbackground-color:%20rgb(255,%20255,%20255);%20flex-grow:%201;%20flex-shrink:%201;%20flex-basis:%200%25;%20margin-right:%200px;%20position:%20relative%7D%0A.css-15fz3t7-EditorSplitPane%20%7Bposition:%20absolute;%20top:%200px;%20bottom:%200px;%20left:%200px;%20right:%200px;%20display:%20flex;%20flex-direction:%20column%7D%0A.css-1k1fxuh-Tabular%20%7Bwidth:%20100%25;%20height:%20100%25;%20position:%20relative%7D%0A.css-10klw3m%20%7Bheight:%20100%25%7D%0A.css-mdjjdg-TabularHeader%20%7Bdisplay:%20flex%7D%0A.css-12nzxaz-PinnedTabularHeaders%20%7Bflex-shrink:%200;%20display:%20flex%7D%0A.css-s4fjko-TabularPinnSeparator%20%7Bwidth:%202px;%20height:%2028px;%20background-color:%20rgb(233,%20233,%20233)%7D%0A.css-5jtkjp-UnpinnedTabularHeaders%20%7Bdisplay:%20flex;%20position:%20absolute;%20left:%200px%7D%0A.css-19w2ip5-TabularHeaderCell%20%7Bcursor:%20default;%20-webkit-box-flex:%201;%20flex-grow:%201;%20flex-shrink:%201;%20box-sizing:%20border-box;%20padding-left:%204px;%20padding-right:%204px;%20padding-top:%204px;%20padding-bottom:%204px;%20height:%20100%25;%20overflow-x:%20hidden;%20overflow-y:%20hidden;%20display:%20flex;%20white-space:%20nowrap;%20-webkit-box-pack:%20start;%20justify-content:%20flex-start;%20align-items:%20flex-start%7D%0A.css-jpazdc-TabularHeaderCell%20%7Boverflow-x:%20hidden;%20overflow-y:%20hidden;%20text-overflow:%20ellipsis%7D%0A.css-y3oqqp%20%7Bfont-size:%2012px;%20line-height:%2022px;%20font-weight:%20600;%20color:%20rgba(0,%200,%200,%200.85)%7D%0A.css-c7y3a7-TabularHeaderCell%20%7Bflex-shrink:%200;%20height:%20100%25;%20display:%20flex;%20-webkit-box-pack:%20center;%20justify-content:%20center%7D%0A.css-1id6sm3-UnpinnedTabularRows%20%7Bposition:%20absolute;%20top:%200px;%20left:%200px%7D%0A.css-3cge9w%20%7Bcursor:%20cell;%20display:%20flex;%20height:%2028px;%20user-select:%20none%7D%0A.css-9ssj44-TreeCell%20%7Bwidth:%20min-content%7D%0A.css-mkrhzq%20%7Bdisplay:%20flex;%20margin-left:%200px%7D%0A.css-1i6gc04%20%7Bcursor:%20pointer;%20margin-top:%202px;%20height:%20inherit;%20display:%20flex;%20-webkit-box-align:%20center;%20align-items:%20center;%20font-size:%2010px;%20width:%2016px%7D%0A.css-8uhtka%20%7Boverflow-x:%20hidden;%20overflow-y:%20hidden;%20text-overflow:%20ellipsis;%20white-space:%20nowrap%7D%0A.css-1ouk3zc-EditorSplitPane%20%7Bbackground-color:%20rgb(255,%20255,%20255);%20flex-grow:%201;%20flex-shrink:%201;%20flex-basis:%200%25%7D%0A.css-1jjvrwi-EditorSplitPane%20%7Bposition:%20absolute;%20top:%200px;%20bottom:%200px;%20left:%200px;%20right:%200px;%20overflow-y:%20auto%7D%0A.css-90jv4-TabularHeaderGroup%20%7Bposition:%20relative;%20width:%20300px%7D%0A.css-7fgdvs%20%7Bcolor:%20rgba(0,%200,%200,%200.85);%20display:%20flex;%20box-sizing:%20border-box;%20-webkit-box-align:%20center;%20align-items:%20center;%20height:%2028px;%20position:%20absolute;%20top:%200px;%20left:%200px;%20user-select:%20none;%20font-size:%2012px;%20line-height:%2022px;%20font-weight:%20600;%20border-bottom-width:%202px;%20border-bottom-style:%20solid;%20border-bottom-color:%20rgb(233,%20233,%20233);%20width:%20300px;%20border-right-width:%201px;%20border-right-style:%20solid;%20border-right-color:%20rgb(233,%20233,%20233)%7D%0A.css-1xstd3f-HeaderResizer%20%7Bposition:%20absolute;%20z-index:%201;%20width:%2010px;%20height:%2028px;%20left:%20295px;%20top:%200px;%20cursor:%20col-resize%7D%0A.css-11buol4-HeaderResizer%20%7Bposition:%20absolute;%20z-index:%201;%20height:%2010px;%20width:%20300px;%20left:%200px;%20top:%2023px;%20cursor:%20row-resize%7D%0A.css-jyaidn%20%7Bheight:%20100%25;%20box-sizing:%20border-box;%20display:%20flex;%20-webkit-box-pack:%20end;%20justify-content:%20flex-end;%20flex-direction:%20column;%20padding-top:%204px;%20padding-left:%204px;%20padding-right:%204px;%20padding-bottom:%203px;%20overflow-x:%20hidden;%20overflow-y:%20hidden;%20white-space:%20nowrap;%20border-right-width:%201px;%20border-right-style:%20solid;%20border-right-color:%20rgb(233,%20233,%20233);%20border-bottom-width:%20initial;%20border-bottom-style:%20none;%20border-bottom-color:%20initial;%20width:%20300px;%20align-items:%20flex-start;%20background-color:%20rgb(250,%20250,%20250)%7D%0A.css-pm742e%20%7Bcursor:%20pointer;%20margin-top:%202px;%20height:%20inherit;%20display:%20flex;%20-webkit-box-align:%20center;%20align-items:%20center;%20font-size:%2010px;%20-webkit-box-pack:%20center;%20justify-content:%20center;%20padding-left:%204px%7D%0A.css-8r2ljj-PinnedTabularRows%20%7Bposition:%20absolute;%20right:%200px%7D%0A.css-8zvwca-PinnedTabularRows%20%7Bwidth:%202px;%20height:%20140px;%20background-color:%20rgb(233,%20233,%20233)%7D%0A.css-mkoicc-CaptionCellRenderer%20%7Bwidth:%20100%25;%20overflow-x:%20hidden;%20overflow-y:%20hidden;%20text-overflow:%20ellipsis;%20white-space:%20nowrap%7D%0A.css-t881dv-SelectionStatistics%20%7Bheight:%2020px;%20display:%20flex;%20padding-top:%205px;%20opacity:%200;%20transition-duration:%20300ms;%20transition-timing-function:%20ease;%20transition-delay:%200s;%20transition-property:%20opacity;%20position:%20absolute;%20right:%200px;%20left:%20unset%7D%0A.css-1hcmypl-TabularCell%20%7Bheight:%2028px;%20box-sizing:%20border-box;%20display:%20flex;%20-webkit-box-pack:%20end;%20justify-content:%20flex-end;%20flex-direction:%20column;%20padding-top:%204px;%20padding-left:%204px;%20padding-right:%204px;%20padding-bottom:%203px;%20overflow-x:%20hidden;%20overflow-y:%20hidden;%20white-space:%20nowrap;%20border-right-width:%201px;%20border-right-style:%20solid;%20border-right-color:%20rgb(233,%20233,%20233);%20border-bottom-width:%20initial;%20border-bottom-style:%20none;%20border-bottom-color:%20initial;%20width:%20120px;%20background-color:%20rgb(250,%20250,%20250);%20cursor:%20cell;%20user-select:%20none;%20text-align:%20right;%20align-items:%20flex-end%7D%0A.css-qazlap-TabularCell%20%7Bheight:%2028px;%20box-sizing:%20border-box;%20display:%20flex;%20-webkit-box-pack:%20end;%20justify-content:%20flex-end;%20flex-direction:%20column;%20padding-top:%204px;%20padding-left:%204px;%20padding-right:%204px;%20padding-bottom:%203px;%20overflow-x:%20hidden;%20overflow-y:%20hidden;%20white-space:%20nowrap;%20border-right-width:%201px;%20border-right-style:%20solid;%20border-right-color:%20rgb(233,%20233,%20233);%20border-bottom-width:%20initial;%20border-bottom-style:%20none;%20border-bottom-color:%20initial;%20width:%20120px;%20cursor:%20cell;%20user-select:%20none;%20text-align:%20right;%20align-items:%20flex-end%7D%0A.css-m3b6cx-TabularCell%20%7Bheight:%2028px;%20box-sizing:%20border-box;%20display:%20flex;%20-webkit-box-pack:%20end;%20justify-content:%20flex-end;%20flex-direction:%20column;%20padding-top:%204px;%20padding-left:%204px;%20padding-right:%204px;%20padding-bottom:%203px;%20overflow-x:%20hidden;%20overflow-y:%20hidden;%20white-space:%20nowrap;%20border-right-width:%201px;%20border-right-style:%20solid;%20border-right-color:%20rgb(233,%20233,%20233);%20border-bottom-width:%201px;%20border-bottom-style:%20solid;%20border-bottom-color:%20rgb(233,%20233,%20233);%20width:%20120px;%20background-color:%20rgb(250,%20250,%20250);%20cursor:%20cell;%20user-select:%20none;%20text-align:%20right;%20align-items:%20flex-end%7D%0A.css-zcyevw-Tabular%20%7Bposition:%20relative;%20height:%20100%25;%20width:%20945px%7D%0A.css-18qta1b-UnpinnedTabularHeaders%20%7Boverflow-x:%20hidden;%20overflow-y:%20hidden;%20position:%20relative;%20width:%201454px;%20height:%2028px%7D%0A.css-hdnk7c-TabularHeaderGroup%20%7Bposition:%20relative;%20width:%20626px%7D%0A.css-nlhacw%20%7Bcolor:%20rgba(0,%200,%200,%200.85);%20display:%20flex;%20box-sizing:%20border-box;%20-webkit-box-align:%20center;%20align-items:%20center;%20height:%2028px;%20position:%20absolute;%20top:%200px;%20left:%200px;%20user-select:%20none;%20font-size:%2012px;%20line-height:%2022px;%20font-weight:%20600;%20border-bottom-width:%202px;%20border-bottom-style:%20solid;%20border-bottom-color:%20rgb(233,%20233,%20233);%20width:%20178px%7D%0A.css-1y8incz-HeaderResizer%20%7Bposition:%20absolute;%20z-index:%201;%20width:%2010px;%20height:%2028px;%20left:%20173px;%20top:%200px;%20cursor:%20col-resize%7D%0A.css-s8n3ps-HeaderResizer%20%7Bposition:%20absolute;%20z-index:%201;%20height:%2010px;%20width:%20178px;%20left:%200px;%20top:%2023px;%20cursor:%20row-resize%7D%0A.css-fczwx1%20%7Bcolor:%20rgba(0,%200,%200,%200.85);%20display:%20flex;%20box-sizing:%20border-box;%20-webkit-box-align:%20center;%20align-items:%20center;%20height:%2028px;%20position:%20absolute;%20top:%200px;%20left:%20178px;%20user-select:%20none;%20font-size:%2012px;%20line-height:%2022px;%20font-weight:%20600;%20border-bottom-width:%202px;%20border-bottom-style:%20solid;%20border-bottom-color:%20rgb(233,%20233,%20233);%20width:%20174px%7D%0A.css-5cwlar-HeaderResizer%20%7Bposition:%20absolute;%20z-index:%201;%20width:%2010px;%20height:%2028px;%20left:%20347px;%20top:%200px;%20cursor:%20col-resize%7D%0A.css-trzcf5-HeaderResizer%20%7Bposition:%20absolute;%20z-index:%201;%20height:%2010px;%20width:%20174px;%20left:%20178px;%20top:%2023px;%20cursor:%20row-resize%7D%0A.css-1cxyq2e%20%7Bcolor:%20rgba(0,%200,%200,%200.85);%20display:%20flex;%20box-sizing:%20border-box;%20-webkit-box-align:%20center;%20align-items:%20center;%20height:%2028px;%20position:%20absolute;%20top:%200px;%20left:%20352px;%20user-select:%20none;%20font-size:%2012px;%20line-height:%2022px;%20font-weight:%20600;%20border-bottom-width:%202px;%20border-bottom-style:%20solid;%20border-bottom-color:%20rgb(233,%20233,%20233);%20width:%20154px%7D%0A.css-1c64ygc-HeaderResizer%20%7Bposition:%20absolute;%20z-index:%201;%20width:%2010px;%20height:%2028px;%20left:%20501px;%20top:%200px;%20cursor:%20col-resize%7D%0A.css-1wgdocj-HeaderResizer%20%7Bposition:%20absolute;%20z-index:%201;%20height:%2010px;%20width:%20154px;%20left:%20352px;%20top:%2023px;%20cursor:%20row-resize%7D%0A.css-1mo76xp%20%7Bcolor:%20rgba(0,%200,%200,%200.85);%20display:%20flex;%20box-sizing:%20border-box;%20-webkit-box-align:%20center;%20align-items:%20center;%20height:%2028px;%20position:%20absolute;%20top:%200px;%20left:%20506px;%20user-select:%20none;%20font-size:%2012px;%20line-height:%2022px;%20font-weight:%20600;%20border-bottom-width:%202px;%20border-bottom-style:%20solid;%20border-bottom-color:%20rgb(233,%20233,%20233);%20width:%20120px;%20border-right-width:%201px;%20border-right-style:%20solid;%20border-right-color:%20rgb(233,%20233,%20233)%7D%0A.css-kq8qun-HeaderResizer%20%7Bposition:%20absolute;%20z-index:%201;%20width:%2010px;%20height:%2028px;%20left:%20621px;%20top:%200px;%20cursor:%20col-resize%7D%0A.css-xtnsjt-HeaderResizer%20%7Bposition:%20absolute;%20z-index:%201;%20height:%2010px;%20width:%20120px;%20left:%20506px;%20top:%2023px;%20cursor:%20row-resize%7D%0A.css-149wr63-TabularBody%20%7Bposition:%20relative;%20overflow-x:%20hidden;%20overflow-y:%20hidden;%20top:%200px;%20width:%20928px;%20height:%20140px%7D%0A.css-1rtkhyk-PinnedTabularRows%20%7Bposition:%20absolute;%20height:%20140px;%20width:%20302px;%20overflow-x:%20hidden;%20overflow-y:%20hidden%7D%0A.css-134urz3-PinnedTabularRows%20%7Bposition:%20absolute;%20overflow-x:%20hidden;%20overflow-y:%20hidden;%20top:%200px;%20width:%20300px%7D%0A.css-dko0re%20%7Bheight:%20100%25;%20box-sizing:%20border-box;%20display:%20flex;%20-webkit-box-pack:%20end;%20justify-content:%20flex-end;%20flex-direction:%20column;%20padding-top:%204px;%20padding-left:%204px;%20padding-right:%204px;%20padding-bottom:%203px;%20overflow-x:%20hidden;%20overflow-y:%20hidden;%20white-space:%20nowrap;%20border-right-width:%201px;%20border-right-style:%20solid;%20border-right-color:%20rgb(233,%20233,%20233);%20border-bottom-width:%20initial;%20border-bottom-style:%20none;%20border-bottom-color:%20initial;%20width:%20300px;%20align-items:%20flex-start%7D%0A.css-jym0g7%20%7Bheight:%20100%25;%20box-sizing:%20border-box;%20display:%20flex;%20-webkit-box-pack:%20end;%20justify-content:%20flex-end;%20flex-direction:%20column;%20padding-top:%204px;%20padding-left:%204px;%20padding-right:%204px;%20padding-bottom:%203px;%20overflow-x:%20hidden;%20overflow-y:%20hidden;%20white-space:%20nowrap;%20border-right-width:%201px;%20border-right-style:%20solid;%20border-right-color:%20rgb(233,%20233,%20233);%20border-bottom-width:%201px;%20border-bottom-style:%20solid;%20border-bottom-color:%20rgb(233,%20233,%20233);%20width:%20300px;%20align-items:%20flex-start;%20background-color:%20rgb(250,%20250,%20250)%7D%0A.css-110sor9-UnpinnedTabularRows%20%7Bposition:%20absolute;%20overflow-x:%20hidden;%20overflow-y:%20hidden;%20left:%20302px;%20height:%20140px;%20width:%20626px%7D%0A.css-1kfuwkb-TabularCell%20%7Bheight:%2028px;%20box-sizing:%20border-box;%20display:%20flex;%20-webkit-box-pack:%20end;%20justify-content:%20flex-end;%20flex-direction:%20column;%20padding-top:%204px;%20padding-left:%204px;%20padding-right:%204px;%20padding-bottom:%203px;%20overflow-x:%20hidden;%20overflow-y:%20hidden;%20white-space:%20nowrap;%20border-right-width:%201px;%20border-right-style:%20solid;%20border-right-color:%20rgb(233,%20233,%20233);%20border-bottom-width:%20initial;%20border-bottom-style:%20none;%20border-bottom-color:%20initial;%20width:%20178px;%20background-color:%20rgb(250,%20250,%20250);%20cursor:%20cell;%20user-select:%20none;%20text-align:%20right;%20align-items:%20flex-end%7D%0A.css-1uch9pq-TabularCell%20%7Bheight:%2028px;%20box-sizing:%20border-box;%20display:%20flex;%20-webkit-box-pack:%20end;%20justify-content:%20flex-end;%20flex-direction:%20column;%20padding-top:%204px;%20padding-left:%204px;%20padding-right:%204px;%20padding-bottom:%203px;%20overflow-x:%20hidden;%20overflow-y:%20hidden;%20white-space:%20nowrap;%20border-right-width:%201px;%20border-right-style:%20solid;%20border-right-color:%20rgb(233,%20233,%20233);%20border-bottom-width:%20initial;%20border-bottom-style:%20none;%20border-bottom-color:%20initial;%20width:%20174px;%20background-color:%20rgb(250,%20250,%20250);%20cursor:%20cell;%20user-select:%20none;%20text-align:%20right;%20align-items:%20flex-end%7D%0A.css-1tfwdt7-TabularCell%20%7Bheight:%2028px;%20box-sizing:%20border-box;%20display:%20flex;%20-webkit-box-pack:%20end;%20justify-content:%20flex-end;%20flex-direction:%20column;%20padding-top:%204px;%20padding-left:%204px;%20padding-right:%204px;%20padding-bottom:%203px;%20overflow-x:%20hidden;%20overflow-y:%20hidden;%20white-space:%20nowrap;%20border-right-width:%201px;%20border-right-style:%20solid;%20border-right-color:%20rgb(233,%20233,%20233);%20border-bottom-width:%20initial;%20border-bottom-style:%20none;%20border-bottom-color:%20initial;%20width:%20154px;%20background-color:%20rgb(250,%20250,%20250);%20cursor:%20cell;%20user-select:%20none;%20text-align:%20right;%20align-items:%20flex-end%7D%0A.css-f4axzv-TabularCell%20%7Bheight:%2028px;%20box-sizing:%20border-box;%20display:%20flex;%20-webkit-box-pack:%20end;%20justify-content:%20flex-end;%20flex-direction:%20column;%20padding-top:%204px;%20padding-left:%204px;%20padding-right:%204px;%20padding-bottom:%203px;%20overflow-x:%20hidden;%20overflow-y:%20hidden;%20white-space:%20nowrap;%20border-right-width:%201px;%20border-right-style:%20solid;%20border-right-color:%20rgb(233,%20233,%20233);%20border-bottom-width:%20initial;%20border-bottom-style:%20none;%20border-bottom-color:%20initial;%20width:%20178px;%20cursor:%20cell;%20user-select:%20none;%20text-align:%20right;%20align-items:%20flex-end%7D%0A.css-e12za5-TabularCell%20%7Bheight:%2028px;%20box-sizing:%20border-box;%20display:%20flex;%20-webkit-box-pack:%20end;%20justify-content:%20flex-end;%20flex-direction:%20column;%20padding-top:%204px;%20padding-left:%204px;%20padding-right:%204px;%20padding-bottom:%203px;%20overflow-x:%20hidden;%20overflow-y:%20hidden;%20white-space:%20nowrap;%20border-right-width:%201px;%20border-right-style:%20solid;%20border-right-color:%20rgb(233,%20233,%20233);%20border-bottom-width:%20initial;%20border-bottom-style:%20none;%20border-bottom-color:%20initial;%20width:%20174px;%20cursor:%20cell;%20user-select:%20none;%20text-align:%20right;%20align-items:%20flex-end%7D%0A.css-nvrdsx-TabularCell%20%7Bheight:%2028px;%20box-sizing:%20border-box;%20display:%20flex;%20-webkit-box-pack:%20end;%20justify-content:%20flex-end;%20flex-direction:%20column;%20padding-top:%204px;%20padding-left:%204px;%20padding-right:%204px;%20padding-bottom:%203px;%20overflow-x:%20hidden;%20overflow-y:%20hidden;%20white-space:%20nowrap;%20border-right-width:%201px;%20border-right-style:%20solid;%20border-right-color:%20rgb(233,%20233,%20233);%20border-bottom-width:%20initial;%20border-bottom-style:%20none;%20border-bottom-color:%20initial;%20width:%20154px;%20cursor:%20cell;%20user-select:%20none;%20text-align:%20right;%20align-items:%20flex-end%7D%0A.css-7b2wno-TabularCell%20%7Bheight:%2028px;%20box-sizing:%20border-box;%20display:%20flex;%20-webkit-box-pack:%20end;%20justify-content:%20flex-end;%20flex-direction:%20column;%20padding-top:%204px;%20padding-left:%204px;%20padding-right:%204px;%20padding-bottom:%203px;%20overflow-x:%20hidden;%20overflow-y:%20hidden;%20white-space:%20nowrap;%20border-right-width:%201px;%20border-right-style:%20solid;%20border-right-color:%20rgb(233,%20233,%20233);%20border-bottom-width:%201px;%20border-bottom-style:%20solid;%20border-bottom-color:%20rgb(233,%20233,%20233);%20width:%20178px;%20background-color:%20rgb(250,%20250,%20250);%20cursor:%20cell;%20user-select:%20none;%20text-align:%20right;%20align-items:%20flex-end%7D%0A.css-1b669pk-TabularCell%20%7Bheight:%2028px;%20box-sizing:%20border-box;%20display:%20flex;%20-webkit-box-pack:%20end;%20justify-content:%20flex-end;%20flex-direction:%20column;%20padding-top:%204px;%20padding-left:%204px;%20padding-right:%204px;%20padding-bottom:%203px;%20overflow-x:%20hidden;%20overflow-y:%20hidden;%20white-space:%20nowrap;%20border-right-width:%201px;%20border-right-style:%20solid;%20border-right-color:%20rgb(233,%20233,%20233);%20border-bottom-width:%201px;%20border-bottom-style:%20solid;%20border-bottom-color:%20rgb(233,%20233,%20233);%20width:%20174px;%20background-color:%20rgb(250,%20250,%20250);%20cursor:%20cell;%20user-select:%20none;%20text-align:%20right;%20align-items:%20flex-end%7D%0A.css-1gbg0u-TabularCell%20%7Bheight:%2028px;%20box-sizing:%20border-box;%20display:%20flex;%20-webkit-box-pack:%20end;%20justify-content:%20flex-end;%20flex-direction:%20column;%20padding-top:%204px;%20padding-left:%204px;%20padding-right:%204px;%20padding-bottom:%203px;%20overflow-x:%20hidden;%20overflow-y:%20hidden;%20white-space:%20nowrap;%20border-right-width:%201px;%20border-right-style:%20solid;%20border-right-color:%20rgb(233,%20233,%20233);%20border-bottom-width:%201px;%20border-bottom-style:%20solid;%20border-bottom-color:%20rgb(233,%20233,%20233);%20width:%20154px;%20background-color:%20rgb(250,%20250,%20250);%20cursor:%20cell;%20user-select:%20none;%20text-align:%20right;%20align-items:%20flex-end%7D%0A.ant-root%20html,%20.ant-root%20%7Bwidth:%20100%25;%20height:%20100%25%7D%0A.ant-root%20*,%20.ant-root%20::before,%20.ant-root%20::after%20%7Bbox-sizing:%20border-box%7D%0A.ant-root%20%7Bmargin-top:%200px;%20margin-right:%200px;%20margin-bottom:%200px;%20margin-left:%200px;%20color:%20rgba(0,%200,%200,%200.65);%20font-size:%2014px;%20font-family:%20-apple-system,%20BlinkMacSystemFont,%20%22Segoe%20UI%22,%20%22PingFang%20SC%22,%20%22Hiragino%20Sans%20GB%22,%20%22Microsoft%20YaHei%22,%20%22Helvetica%20Neue%22,%20Helvetica,%20Arial,%20sans-serif,%20%22Apple%20Color%20Emoji%22,%20%22Segoe%20UI%20Emoji%22,%20%22Segoe%20UI%20Symbol%22;%20font-variant-ligatures:%20normal;%20font-variant-numeric:%20tabular-nums;%20font-variant-east-asian:%20normal;%20font-variant-caps:%20normal;%20line-height:%201.5;%20background-color:%20rgb(255,%20255,%20255);%20font-feature-settings:%20%22tnum%22;%20--antd-wave-shadow-color:%20undefined%7D%0A.ant-root%20.ant-typography%20%7Bcolor:%20rgba(0,%200,%200,%200.65)%7D%0A.css-1sxolix-Widget%20%7Bheight:%20100%25%7D%0A.css-1sxolix-Widget%20.ant-root:not(.atoti-widget-chooser)%20%7Bbox-shadow:%20none%7D%3C/style%3E%0A%20%20%20%20%20%20%20%20%3Cdiv%20xmlns=%22http://www.w3.org/1999/xhtml%22%20style=%22height:%20219px;%20width:%201754px%22%3E%0A%20%20%20%20%20%20%20%20%20%20%3Cdiv%20xmlns=%22http://www.w3.org/1999/xhtml%22%20class=%22css-1sxolix-Widget%22%3E%3Cdiv%20class=%22ant-root%20css-xsa55j-dock%22%3E%3Cdiv%20class=%22css-1ibuxvk-DockBody%22%3E%3Cdiv%20class=%22SplitPane%20%20vertical%20disabled%22%20style=%22display:%20flex;%20flex:%201%201%200%25;%20height:%20100%25;%20position:%20relative;%20outline:%20none;%20overflow:%20hidden;%20user-select:%20text;%20flex-direction:%20row;%20left:%200px;%20right:%200px;%22%3E%3Cdiv%20class=%22Pane%20vertical%20Pane1%20%20%22%20style=%22flex:%201%201%200%25;%20position:%20relative;%20outline:%20none;%20display:%20flex;%20background-color:%20rgb(255,%20255,%20255);%22%3E%3Cdiv%20class=%22css-1lrljg1-EditorSplitPane%22%3E%3Cdiv%20class=%22css-15fz3t7-EditorSplitPane%22%3E%3Cdiv%20class=%22css-1k1fxuh-Tabular%22%3E%3Cdiv%20class=%22css-10klw3m%22%3E%3Cdiv%20tabindex=%220%22%20class=%22css-zcyevw-Tabular%22%3E%3Cdiv%20class=%22css-192kvjv-Tabular%22%3E%3Cdiv%20class=%22css-mdjjdg-TabularHeader%22%3E%3Cdiv%20class=%22css-12nzxaz-PinnedTabularHeaders%22%3E%3Cdiv%20class=%22css-90jv4-TabularHeaderGroup%22%3E%3Cdiv%20class=%22css-7fgdvs%22%3E%3Cdiv%20class=%22css-19w2ip5-TabularHeaderCell%22%3E%3Cspan%20class=%22css-jpazdc-TabularHeaderCell%22%3E%3Cspan%3E%3Cspan%3E%3Cspan%20class=%22css-y3oqqp%22%3EScenario%3C/span%3E%3C/span%3E%3C/span%3E%3C/span%3E%3C/div%3E%3Cdiv%20class=%22css-c7y3a7-TabularHeaderCell%22%3E%3C/div%3E%3C/div%3E%3Cdiv%20class=%22css-1xstd3f-HeaderResizer%22%3E%3C/div%3E%3Cdiv%20class=%22css-11buol4-HeaderResizer%22%3E%3C/div%3E%3C/div%3E%3Cdiv%20class=%22css-s4fjko-TabularPinnSeparator%22%3E%3C/div%3E%3C/div%3E%3Cdiv%20class=%22css-18qta1b-UnpinnedTabularHeaders%22%3E%3Cdiv%20class=%22css-5jtkjp-UnpinnedTabularHeaders%22%3E%3Cdiv%20class=%22css-hdnk7c-TabularHeaderGroup%22%3E%3Cdiv%20class=%22css-nlhacw%22%3E%3Cdiv%20class=%22css-pm742e%22%3E%3C/div%3E%3Cdiv%20class=%22css-19w2ip5-TabularHeaderCell%22%3E%3Cspan%20class=%22css-jpazdc-TabularHeaderCell%22%3E%3Cspan%3ERevenue%20Compensation%3C/span%3E%3C/span%3E%3C/div%3E%3Cdiv%20class=%22css-c7y3a7-TabularHeaderCell%22%3E%3C/div%3E%3C/div%3E%3Cdiv%20class=%22css-1y8incz-HeaderResizer%22%3E%3C/div%3E%3Cdiv%20class=%22css-s8n3ps-HeaderResizer%22%3E%3C/div%3E%3Cdiv%20class=%22css-fczwx1%22%3E%3Cdiv%20class=%22css-pm742e%22%3E%3C/div%3E%3Cdiv%20class=%22css-19w2ip5-TabularHeaderCell%22%3E%3Cspan%20class=%22css-jpazdc-TabularHeaderCell%22%3E%3Cspan%3EChurn%20MonthlyCharges.MEAN%3C/span%3E%3C/span%3E%3C/div%3E%3Cdiv%20class=%22css-c7y3a7-TabularHeaderCell%22%3E%3C/div%3E%3C/div%3E%3Cdiv%20class=%22css-5cwlar-HeaderResizer%22%3E%3C/div%3E%3Cdiv%20class=%22css-trzcf5-HeaderResizer%22%3E%3C/div%3E%3Cdiv%20class=%22css-1cxyq2e%22%3E%3Cdiv%20class=%22css-pm742e%22%3E%3C/div%3E%3Cdiv%20class=%22css-19w2ip5-TabularHeaderCell%22%3E%3Cspan%20class=%22css-jpazdc-TabularHeaderCell%22%3E%3Cspan%3EPredicted%20Churn%20Count%3C/span%3E%3C/span%3E%3C/div%3E%3Cdiv%20class=%22css-c7y3a7-TabularHeaderCell%22%3E%3C/div%3E%3C/div%3E%3Cdiv%20class=%22css-1c64ygc-HeaderResizer%22%3E%3C/div%3E%3Cdiv%20class=%22css-1wgdocj-HeaderResizer%22%3E%3C/div%3E%3Cdiv%20class=%22css-1mo76xp%22%3E%3Cdiv%20class=%22css-pm742e%22%3E%3C/div%3E%3Cdiv%20class=%22css-19w2ip5-TabularHeaderCell%22%3E%3Cspan%20class=%22css-jpazdc-TabularHeaderCell%22%3E%3Cspan%3ERetention%20size%3C/span%3E%3C/span%3E%3C/div%3E%3Cdiv%20class=%22css-c7y3a7-TabularHeaderCell%22%3E%3C/div%3E%3C/div%3E%3Cdiv%20class=%22css-kq8qun-HeaderResizer%22%3E%3C/div%3E%3Cdiv%20class=%22css-xtnsjt-HeaderResizer%22%3E%3C/div%3E%3C/div%3E%3C/div%3E%3C/div%3E%3C/div%3E%3Cdiv%20class=%22css-149wr63-TabularBody%22%3E%3Cdiv%20class=%22css-1rtkhyk-PinnedTabularRows%22%3E%3Cdiv%20class=%22css-134urz3-PinnedTabularRows%22%3E%3Cdiv%20class=%22css-3cge9w%22%3E%3Cdiv%3E%3Cdiv%20class=%22css-jyaidn%22%3E%3Cdiv%20class=%22css-9ssj44-TreeCell%22%3E%3Cdiv%20class=%22css-mkrhzq%22%3E%3Cdiv%20class=%22css-1i6gc04%22%3E%3C/div%3E%3Cspan%20class=%22ant-typography%20css-8uhtka%22%20style=%22font-size:%2012px;%20line-height:%2020px;%20font-weight:%20600;%20color:%20rgba(0,%200,%200,%200.85);%22%3EBase%3C/span%3E%3C/div%3E%3C/div%3E%3C/div%3E%3C/div%3E%3C/div%3E%3Cdiv%20class=%22css-3cge9w%22%3E%3Cdiv%3E%3Cdiv%20class=%22css-dko0re%22%3E%3Cdiv%20class=%22css-9ssj44-TreeCell%22%3E%3Cdiv%20class=%22css-mkrhzq%22%3E%3Cdiv%20class=%22css-1i6gc04%22%3E%3C/div%3E%3Cspan%20class=%22ant-typography%20css-8uhtka%22%20style=%22font-size:%2012px;%20line-height:%2020px;%20font-weight:%20600;%20color:%20rgba(0,%200,%200,%200.85);%22%3ELogistic%20Regression%20(SMOTE)%20Prediction%3C/span%3E%3C/div%3E%3C/div%3E%3C/div%3E%3C/div%3E%3C/div%3E%3Cdiv%20class=%22css-3cge9w%22%3E%3Cdiv%3E%3Cdiv%20class=%22css-jyaidn%22%3E%3Cdiv%20class=%22css-9ssj44-TreeCell%22%3E%3Cdiv%20class=%22css-mkrhzq%22%3E%3Cdiv%20class=%22css-1i6gc04%22%3E%3C/div%3E%3Cspan%20class=%22ant-typography%20css-8uhtka%22%20style=%22font-size:%2012px;%20line-height:%2020px;%20font-weight:%20600;%20color:%20rgba(0,%200,%200,%200.85);%22%3ELogistic%20Regression%20Prediction%3C/span%3E%3C/div%3E%3C/div%3E%3C/div%3E%3C/div%3E%3C/div%3E%3Cdiv%20class=%22css-3cge9w%22%3E%3Cdiv%3E%3Cdiv%20class=%22css-dko0re%22%3E%3Cdiv%20class=%22css-9ssj44-TreeCell%22%3E%3Cdiv%20class=%22css-mkrhzq%22%3E%3Cdiv%20class=%22css-1i6gc04%22%3E%3C/div%3E%3Cspan%20class=%22ant-typography%20css-8uhtka%22%20style=%22font-size:%2012px;%20line-height:%2020px;%20font-weight:%20600;%20color:%20rgba(0,%200,%200,%200.85);%22%3ENaive%20Bayes%20Prediction%3C/span%3E%3C/div%3E%3C/div%3E%3C/div%3E%3C/div%3E%3C/div%3E%3Cdiv%20class=%22css-3cge9w%22%3E%3Cdiv%3E%3Cdiv%20class=%22css-jym0g7%22%3E%3Cdiv%20class=%22css-9ssj44-TreeCell%22%3E%3Cdiv%20class=%22css-mkrhzq%22%3E%3Cdiv%20class=%22css-1i6gc04%22%3E%3C/div%3E%3Cspan%20class=%22ant-typography%20css-8uhtka%22%20style=%22font-size:%2012px;%20line-height:%2020px;%20font-weight:%20600;%20color:%20rgba(0,%200,%200,%200.85);%22%3ESVM%20Classifier%20Linear%20Prediction%3C/span%3E%3C/div%3E%3C/div%3E%3C/div%3E%3C/div%3E%3C/div%3E%3C/div%3E%3Cdiv%20class=%22css-8r2ljj-PinnedTabularRows%22%3E%3Cdiv%20class=%22css-8zvwca-PinnedTabularRows%22%3E%3C/div%3E%3C/div%3E%3C/div%3E%3Cdiv%20class=%22css-110sor9-UnpinnedTabularRows%22%3E%3Cdiv%20class=%22css-1id6sm3-UnpinnedTabularRows%22%3E%3Cdiv%20class=%22css-3cge9w%22%3E%3Cdiv%3E%3Cdiv%20class=%22%20css-1kfuwkb-TabularCell%22%3E%3Cspan%20class=%22css-mkoicc-CaptionCellRenderer%22%3E%3Cspan%3E%3Cspan%20class=%22ant-typography%22%20style=%22font-size:%2012px;%20line-height:%2020px;%20font-weight:%20400;%22%3E93,564.75%3C/span%3E%3C/span%3E%3C/span%3E%3C/div%3E%3C/div%3E%3Cdiv%3E%3Cdiv%20class=%22%20css-1uch9pq-TabularCell%22%3E%3Cspan%20class=%22css-mkoicc-CaptionCellRenderer%22%3E%3Cspan%3E%3Cspan%20class=%22ant-typography%22%20style=%22font-size:%2012px;%20line-height:%2020px;%20font-weight:%20400;%22%3E74.44%3C/span%3E%3C/span%3E%3C/span%3E%3C/div%3E%3C/div%3E%3Cdiv%3E%3Cdiv%20class=%22%20css-1tfwdt7-TabularCell%22%3E%3Cspan%20class=%22css-mkoicc-CaptionCellRenderer%22%3E%3Cspan%3E%3Cspan%20class=%22ant-typography%22%20style=%22font-size:%2012px;%20line-height:%2020px;%20font-weight:%20400;%22%3E1,869%3C/span%3E%3C/span%3E%3C/span%3E%3C/div%3E%3C/div%3E%3Cdiv%3E%3Cdiv%20class=%22%20css-1hcmypl-TabularCell%22%3E%3Cspan%20class=%22css-mkoicc-CaptionCellRenderer%22%3E%3Cspan%3E%3Cspan%20class=%22ant-typography%22%20style=%22font-size:%2012px;%20line-height:%2020px;%20font-weight:%20400;%22%3E1,257%3C/span%3E%3C/span%3E%3C/span%3E%3C/div%3E%3C/div%3E%3C/div%3E%3Cdiv%20class=%22css-3cge9w%22%3E%3Cdiv%3E%3Cdiv%20class=%22%20css-f4axzv-TabularCell%22%3E%3Cspan%20class=%22css-mkoicc-CaptionCellRenderer%22%3E%3Cspan%3E%3Cspan%20class=%22ant-typography%22%20style=%22font-size:%2012px;%20line-height:%2020px;%20font-weight:%20400;%22%3E127,815.75%3C/span%3E%3C/span%3E%3C/span%3E%3C/div%3E%3C/div%3E%3Cdiv%3E%3Cdiv%20class=%22%20css-e12za5-TabularCell%22%3E%3Cspan%20class=%22css-mkoicc-CaptionCellRenderer%22%3E%3Cspan%3E%3Cspan%20class=%22ant-typography%22%20style=%22font-size:%2012px;%20line-height:%2020px;%20font-weight:%20400;%22%3E75.71%3C/span%3E%3C/span%3E%3C/span%3E%3C/div%3E%3C/div%3E%3Cdiv%3E%3Cdiv%20class=%22%20css-nvrdsx-TabularCell%22%3E%3Cspan%20class=%22css-mkoicc-CaptionCellRenderer%22%3E%3Cspan%3E%3Cspan%20class=%22ant-typography%22%20style=%22font-size:%2012px;%20line-height:%2020px;%20font-weight:%20400;%22%3E2,290%3C/span%3E%3C/span%3E%3C/span%3E%3C/div%3E%3C/div%3E%3Cdiv%3E%3Cdiv%20class=%22%20css-qazlap-TabularCell%22%3E%3Cspan%20class=%22css-mkoicc-CaptionCellRenderer%22%3E%3Cspan%3E%3Cspan%20class=%22ant-typography%22%20style=%22font-size:%2012px;%20line-height:%2020px;%20font-weight:%20400;%22%3E1,689%3C/span%3E%3C/span%3E%3C/span%3E%3C/div%3E%3C/div%3E%3C/div%3E%3Cdiv%20class=%22css-3cge9w%22%3E%3Cdiv%3E%3Cdiv%20class=%22%20css-1kfuwkb-TabularCell%22%3E%3Cspan%20class=%22css-mkoicc-CaptionCellRenderer%22%3E%3Cspan%3E%3Cspan%20class=%22ant-typography%22%20style=%22font-size:%2012px;%20line-height:%2020px;%20font-weight:%20400;%22%3E71,257.70%3C/span%3E%3C/span%3E%3C/span%3E%3C/div%3E%3C/div%3E%3Cdiv%3E%3Cdiv%20class=%22%20css-1uch9pq-TabularCell%22%3E%3Cspan%20class=%22css-mkoicc-CaptionCellRenderer%22%3E%3Cspan%3E%3Cspan%20class=%22ant-typography%22%20style=%22font-size:%2012px;%20line-height:%2020px;%20font-weight:%20400;%22%3E80.51%3C/span%3E%3C/span%3E%3C/span%3E%3C/div%3E%3C/div%3E%3Cdiv%3E%3Cdiv%20class=%22%20css-1tfwdt7-TabularCell%22%3E%3Cspan%20class=%22css-mkoicc-CaptionCellRenderer%22%3E%3Cspan%3E%3Cspan%20class=%22ant-typography%22%20style=%22font-size:%2012px;%20line-height:%2020px;%20font-weight:%20400;%22%3E1,451%3C/span%3E%3C/span%3E%3C/span%3E%3C/div%3E%3C/div%3E%3Cdiv%3E%3Cdiv%20class=%22%20css-1hcmypl-TabularCell%22%3E%3Cspan%20class=%22css-mkoicc-CaptionCellRenderer%22%3E%3Cspan%3E%3Cspan%20class=%22ant-typography%22%20style=%22font-size:%2012px;%20line-height:%2020px;%20font-weight:%20400;%22%3E886%3C/span%3E%3C/span%3E%3C/span%3E%3C/div%3E%3C/div%3E%3C/div%3E%3Cdiv%20class=%22css-3cge9w%22%3E%3Cdiv%3E%3Cdiv%20class=%22%20css-f4axzv-TabularCell%22%3E%3Cspan%20class=%22css-mkoicc-CaptionCellRenderer%22%3E%3Cspan%3E%3Cspan%20class=%22ant-typography%22%20style=%22font-size:%2012px;%20line-height:%2020px;%20font-weight:%20400;%22%3E162,999.20%3C/span%3E%3C/span%3E%3C/span%3E%3C/div%3E%3C/div%3E%3Cdiv%3E%3Cdiv%20class=%22%20css-e12za5-TabularCell%22%3E%3Cspan%20class=%22css-mkoicc-CaptionCellRenderer%22%3E%3Cspan%3E%3Cspan%20class=%22ant-typography%22%20style=%22font-size:%2012px;%20line-height:%2020px;%20font-weight:%20400;%22%3E69.24%3C/span%3E%3C/span%3E%3C/span%3E%3C/div%3E%3C/div%3E%3Cdiv%3E%3Cdiv%20class=%22%20css-nvrdsx-TabularCell%22%3E%3Cspan%20class=%22css-mkoicc-CaptionCellRenderer%22%3E%3Cspan%3E%3Cspan%20class=%22ant-typography%22%20style=%22font-size:%2012px;%20line-height:%2020px;%20font-weight:%20400;%22%3E3,012%3C/span%3E%3C/span%3E%3C/span%3E%3C/div%3E%3C/div%3E%3Cdiv%3E%3Cdiv%20class=%22%20css-qazlap-TabularCell%22%3E%3Cspan%20class=%22css-mkoicc-CaptionCellRenderer%22%3E%3Cspan%3E%3Cspan%20class=%22ant-typography%22%20style=%22font-size:%2012px;%20line-height:%2020px;%20font-weight:%20400;%22%3E2,354%3C/span%3E%3C/span%3E%3C/span%3E%3C/div%3E%3C/div%3E%3C/div%3E%3Cdiv%20class=%22css-3cge9w%22%3E%3Cdiv%3E%3Cdiv%20class=%22%20css-7b2wno-TabularCell%22%3E%3Cspan%20class=%22css-mkoicc-CaptionCellRenderer%22%3E%3Cspan%3E%3Cspan%20class=%22ant-typography%22%20style=%22font-size:%2012px;%20line-height:%2020px;%20font-weight:%20400;%22%3E123,012.55%3C/span%3E%3C/span%3E%3C/span%3E%3C/div%3E%3C/div%3E%3Cdiv%3E%3Cdiv%20class=%22%20css-1b669pk-TabularCell%22%3E%3Cspan%20class=%22css-mkoicc-CaptionCellRenderer%22%3E%3Cspan%3E%3Cspan%20class=%22ant-typography%22%20style=%22font-size:%2012px;%20line-height:%2020px;%20font-weight:%20400;%22%3E76.38%3C/span%3E%3C/span%3E%3C/span%3E%3C/div%3E%3C/div%3E%3Cdiv%3E%3Cdiv%20class=%22%20css-1gbg0u-TabularCell%22%3E%3Cspan%20class=%22css-mkoicc-CaptionCellRenderer%22%3E%3Cspan%3E%3Cspan%20class=%22ant-typography%22%20style=%22font-size:%2012px;%20line-height:%2020px;%20font-weight:%20400;%22%3E2,207%3C/span%3E%3C/span%3E%3C/span%3E%3C/div%3E%3C/div%3E%3Cdiv%3E%3Cdiv%20class=%22%20css-m3b6cx-TabularCell%22%3E%3Cspan%20class=%22css-mkoicc-CaptionCellRenderer%22%3E%3Cspan%3E%3Cspan%20class=%22ant-typography%22%20style=%22font-size:%2012px;%20line-height:%2020px;%20font-weight:%20400;%22%3E1,611%3C/span%3E%3C/span%3E%3C/span%3E%3C/div%3E%3C/div%3E%3C/div%3E%3C/div%3E%3C/div%3E%3C/div%3E%3C/div%3E%3Cdiv%20class=%22css-t881dv-SelectionStatistics%22%3E%3C/div%3E%3C/div%3E%3C/div%3E%3C/div%3E%3C/div%3E%3C/div%3E%3C/div%3E%3Cspan%20role=%22presentation%22%20class=%22css-14zuz97%20Resizer%20vertical%20disabled%22%3E%3C/span%3E%3Cdiv%20class=%22Pane%20vertical%20Pane2%20%20%22%20style=%22flex:%200%200%20auto;%20position:%20relative;%20outline:%20none;%20width:%200px;%20display:%20flex;%20background-color:%20rgb(255,%20255,%20255);%20overflow:%20auto;%22%3E%3Cdiv%20class=%22css-1ouk3zc-EditorSplitPane%22%3E%3Cdiv%20class=%22css-1jjvrwi-EditorSplitPane%22%3E%3C/div%3E%3C/div%3E%3C/div%3E%3C/div%3E%3C/div%3E%3C/div%3E%3C/div%3E%0A%20%20%20%20%20%20%20%20%3C/div%3E%0A%20%20%20%20%20%20%3C/foreignObject%3E%0A%20%20%20%20%3C/svg%3E\">"
      ],
      "text/plain": [
       "Open the notebook in JupyterLab with the atoti extension installed and enabled to see this widget."
      ]
     },
     "metadata": {},
     "output_type": "display_data"
    }
   ],
   "source": [
    "cube.visualize(\"Predicted churn vs retention size\")"
   ]
  },
  {
   "cell_type": "markdown",
   "metadata": {},
   "source": [
    "Now that we know the estimated number of customers to retain, how do we identify who to retain?  \n",
    "During data clean up, we ensured that only predicted churn customers have a value under _ChurnProbability_ and therefore eligible for retention.  \n",
    "However, we increase this possibility in _churnPositive_ if the _MonthyCharges_ of the customer is higher or equal to the average as the higher their recurring charges, the less customers we need to retain.\n",
    "\n",
    "We will be ranking the customers who has the highest possibility to churn by using [`atoti.rank`](https://docs.atoti.io/0.4.1/lib/atoti.html?#atoti.rank).  \n",
    "This allows us to identify the customers to be retained as those whose rank is lesser or equal to the retention size."
   ]
  },
  {
   "cell_type": "code",
   "execution_count": 35,
   "metadata": {},
   "outputs": [],
   "source": [
    "# we only rank those customers who are churning. We give higher weightage to customer with higher charge so as to minimize the lost\n",
    "m[\"churnPositive\"] = tt.where(\n",
    "    (m[\"MonthlyCharges.MEAN\"] >= m[\"Churn MonthlyCharges.MEAN\"])\n",
    "    & (m[\"ChurnProbability.MEAN\"] > 0),\n",
    "    m[\"ChurnProbability.MEAN\"] + 1,\n",
    "    m[\"ChurnProbability.MEAN\"],\n",
    ")\n",
    "\n",
    "m[\"Churn Rank\"] = tt.rank(\n",
    "    m[\"churnPositive\"], h[\"CustomerID\"], ascending=False, apply_filters=True\n",
    ")"
   ]
  },
  {
   "cell_type": "markdown",
   "metadata": {},
   "source": [
    "So let's set our _Retention budget_ and _Marketing budget_.\n",
    "\n",
    "For the customers identified for retention, we create a measure _Forecast Expense_ where we spend the _Retention budget_ and a measure _Full recruitment expense_ where we spend the _Marketing budget_."
   ]
  },
  {
   "cell_type": "code",
   "execution_count": 36,
   "metadata": {},
   "outputs": [],
   "source": [
    "m[\"Retention budget\"] = 100\n",
    "m[\"Marketing budget\"] = 500\n",
    "\n",
    "# we spent $100 on each of the customers identified and managed to retain all of them\n",
    "m[\"Forecast expense\"] = tt.agg.sum(\n",
    "    tt.where(\n",
    "        (m[\"Churn Rank\"] <= m[\"Retention size\"]) & (m[\"churnPositive\"] > 0),\n",
    "        m[\"Retention budget\"],\n",
    "        0,\n",
    "    ),\n",
    "    scope=tt.scope.origin(l[\"CustomerID\"]),\n",
    ")\n",
    "\n",
    "# we retained none of the customers, hence spending $500 to recruit number of new customers equivalent to the retention size\n",
    "m[\"Full recruitment expense\"] = tt.agg.sum(\n",
    "    tt.where(\n",
    "        (m[\"Churn Rank\"] <= m[\"Retention size\"]) & (m[\"churnPositive\"] > 0),\n",
    "        m[\"Marketing budget\"],\n",
    "        0,\n",
    "    ),\n",
    "    scope=tt.scope.origin(l[\"CustomerID\"]),\n",
    ")"
   ]
  },
  {
   "cell_type": "markdown",
   "metadata": {},
   "source": [
    "Based on the predicted churn, we see the expenses that we needed to maintain 90% NRR either to retain or replace the retention size.  \n",
    "We see the amount of saving we will have if we retained successfully our target customers.  \n",
    "We also see that _Logistic Regression Prediction_ allows us to maintain the same NRR with the lowest amount of money."
   ]
  },
  {
   "cell_type": "code",
   "execution_count": 37,
   "metadata": {
    "atoti": {
     "state": {
      "name": "Expenses on effort to maintain 90% NRR",
      "type": "container",
      "value": {
       "body": {
        "configuration": {
         "mapping": {
          "horizontalSubplots": [],
          "splitBy": [],
          "values": [
           "[Measures].[Forecast expense]",
           "[Measures].[Full recruitment expense]",
           "[Measures].[Saving]"
          ],
          "verticalSubplots": [],
          "xAxis": [
           "[Epoch].[Epoch].[Branch]"
          ]
         },
         "type": "plotly-clustered-column-chart"
        },
        "query": {
         "mdx": "WITH  Member [Measures].[Saving] AS [Measures].[Full recruitment expense] - [Measures].[Forecast expense], FORMAT_STRING = \"#,###.##\"  SELECT NON EMPTY Order([Epoch].[Epoch].[Branch].Members, [Measures].[Forecast expense], BASC) ON ROWS, NON EMPTY {[Measures].[Forecast expense], [Measures].[Full recruitment expense], [Measures].[Saving]} ON COLUMNS FROM [customer_cube] CELL PROPERTIES BACK_COLOR, FONT_FLAGS, FORE_COLOR, FORMATTED_VALUE, VALUE",
         "serverUrl": "",
         "updateMode": "once"
        }
       },
       "containerKey": "chart",
       "showTitleBar": false,
       "style": {}
      }
     }
    }
   },
   "outputs": [
    {
     "data": {
      "application/vnd.atoti.v0+json": {
       "cellSet": {
        "axes": [
         {
          "hierarchies": [
           {
            "dimension": "Measures",
            "hierarchy": "Measures"
           }
          ],
          "id": 0,
          "positions": [
           [
            {
             "captionPath": [
              "Forecast expense"
             ],
             "namePath": [
              "Forecast expense"
             ],
             "properties": {
              "DISPLAY_INFO": 0
             }
            }
           ],
           [
            {
             "captionPath": [
              "Full recruitment expense"
             ],
             "namePath": [
              "Full recruitment expense"
             ],
             "properties": {
              "DISPLAY_INFO": 0
             }
            }
           ],
           [
            {
             "captionPath": [
              "Saving"
             ],
             "namePath": [
              "Saving"
             ],
             "properties": {
              "DISPLAY_INFO": 0
             }
            }
           ]
          ]
         },
         {
          "hierarchies": [
           {
            "dimension": "Epoch",
            "hierarchy": "Epoch"
           }
          ],
          "id": 1,
          "positions": [
           [
            {
             "captionPath": [
              "Logistic Regression Prediction"
             ],
             "namePath": [
              "Logistic Regression Prediction"
             ],
             "properties": {
              "DISPLAY_INFO": 0
             }
            }
           ],
           [
            {
             "captionPath": [
              "Base"
             ],
             "namePath": [
              "Base"
             ],
             "properties": {
              "DISPLAY_INFO": 0
             }
            }
           ],
           [
            {
             "captionPath": [
              "SVM Classifier Linear Prediction"
             ],
             "namePath": [
              "SVM Classifier Linear Prediction"
             ],
             "properties": {
              "DISPLAY_INFO": 0
             }
            }
           ],
           [
            {
             "captionPath": [
              "Logistic Regression (SMOTE) Prediction"
             ],
             "namePath": [
              "Logistic Regression (SMOTE) Prediction"
             ],
             "properties": {
              "DISPLAY_INFO": 0
             }
            }
           ],
           [
            {
             "captionPath": [
              "Naive Bayes Prediction"
             ],
             "namePath": [
              "Naive Bayes Prediction"
             ],
             "properties": {
              "DISPLAY_INFO": 0
             }
            }
           ]
          ]
         }
        ],
        "cells": [
         {
          "formattedValue": "88,600",
          "ordinal": 0,
          "properties": {
           "BACK_COLOR": null,
           "FONT_FLAGS": 0,
           "FORE_COLOR": null
          },
          "value": 88600
         },
         {
          "formattedValue": "443,000",
          "ordinal": 1,
          "properties": {
           "BACK_COLOR": null,
           "FONT_FLAGS": 0,
           "FORE_COLOR": null
          },
          "value": 443000
         },
         {
          "formattedValue": "354,400",
          "ordinal": 2,
          "properties": {
           "BACK_COLOR": null,
           "FONT_FLAGS": 0,
           "FORE_COLOR": null
          },
          "value": 354400
         },
         {
          "formattedValue": "125,700",
          "ordinal": 3,
          "properties": {
           "BACK_COLOR": null,
           "FONT_FLAGS": 0,
           "FORE_COLOR": null
          },
          "value": 125700
         },
         {
          "formattedValue": "628,500",
          "ordinal": 4,
          "properties": {
           "BACK_COLOR": null,
           "FONT_FLAGS": 0,
           "FORE_COLOR": null
          },
          "value": 628500
         },
         {
          "formattedValue": "502,800",
          "ordinal": 5,
          "properties": {
           "BACK_COLOR": null,
           "FONT_FLAGS": 0,
           "FORE_COLOR": null
          },
          "value": 502800
         },
         {
          "formattedValue": "161,100",
          "ordinal": 6,
          "properties": {
           "BACK_COLOR": null,
           "FONT_FLAGS": 0,
           "FORE_COLOR": null
          },
          "value": 161100
         },
         {
          "formattedValue": "805,500",
          "ordinal": 7,
          "properties": {
           "BACK_COLOR": null,
           "FONT_FLAGS": 0,
           "FORE_COLOR": null
          },
          "value": 805500
         },
         {
          "formattedValue": "644,400",
          "ordinal": 8,
          "properties": {
           "BACK_COLOR": null,
           "FONT_FLAGS": 0,
           "FORE_COLOR": null
          },
          "value": 644400
         },
         {
          "formattedValue": "168,900",
          "ordinal": 9,
          "properties": {
           "BACK_COLOR": null,
           "FONT_FLAGS": 0,
           "FORE_COLOR": null
          },
          "value": 168900
         },
         {
          "formattedValue": "844,500",
          "ordinal": 10,
          "properties": {
           "BACK_COLOR": null,
           "FONT_FLAGS": 0,
           "FORE_COLOR": null
          },
          "value": 844500
         },
         {
          "formattedValue": "675,600",
          "ordinal": 11,
          "properties": {
           "BACK_COLOR": null,
           "FONT_FLAGS": 0,
           "FORE_COLOR": null
          },
          "value": 675600
         },
         {
          "formattedValue": "235,400",
          "ordinal": 12,
          "properties": {
           "BACK_COLOR": null,
           "FONT_FLAGS": 0,
           "FORE_COLOR": null
          },
          "value": 235400
         },
         {
          "formattedValue": "1,177,000",
          "ordinal": 13,
          "properties": {
           "BACK_COLOR": null,
           "FONT_FLAGS": 0,
           "FORE_COLOR": null
          },
          "value": 1177000
         },
         {
          "formattedValue": "941,600",
          "ordinal": 14,
          "properties": {
           "BACK_COLOR": null,
           "FONT_FLAGS": 0,
           "FORE_COLOR": null
          },
          "value": 941600
         }
        ],
        "cube": "customer_cube",
        "defaultMembers": [
         {
          "captionPath": [
           "Count"
          ],
          "dimension": "Measures",
          "hierarchy": "Measures",
          "path": [
           "contributors.COUNT"
          ]
         },
         {
          "captionPath": [
           "Base"
          ],
          "dimension": "Epoch",
          "hierarchy": "Epoch",
          "path": [
           "Base"
          ]
         }
        ],
        "epoch": 1
       },
       "cube": "customer_cube",
       "error": null,
       "name": "Expenses on effort to maintain 90% NRR",
       "session": "Unnamed"
      },
      "text/html": [
       "<img src=\"data:image/svg+xml;charset=utf8,%3C%3Fxml%20version%3D%221.0%22%20standalone%3D%22no%22%3F%3E%3Csvg%20xmlns%3D%22http%3A%2F%2Fwww.w3.org%2F2000%2Fsvg%22%20xmlns%3Axlink%3D%22http%3A%2F%2Fwww.w3.org%2F1999%2Fxlink%22%20viewBox%3D%220%200%201754%20360%22%3E%3Cdefs%20id%3D%22defs-5aa0b8%22%3E%3Cg%20class%3D%22clips%22%3E%3CclipPath%20id%3D%22clip5aa0b8xyplot%22%20class%3D%22plotclip%22%3E%3Crect%20width%3D%221468%22%20height%3D%22250%22%2F%3E%3C%2FclipPath%3E%3CclipPath%20class%3D%22axesclip%22%20id%3D%22clip5aa0b8x%22%3E%3Crect%20x%3D%2280%22%20y%3D%220%22%20width%3D%221468%22%20height%3D%22360%22%2F%3E%3C%2FclipPath%3E%3CclipPath%20class%3D%22axesclip%22%20id%3D%22clip5aa0b8y%22%3E%3Crect%20x%3D%220%22%20y%3D%2230%22%20width%3D%221754%22%20height%3D%22250%22%2F%3E%3C%2FclipPath%3E%3CclipPath%20class%3D%22axesclip%22%20id%3D%22clip5aa0b8xy%22%3E%3Crect%20x%3D%2280%22%20y%3D%2230%22%20width%3D%221468%22%20height%3D%22250%22%2F%3E%3C%2FclipPath%3E%3C%2Fg%3E%3Cg%20class%3D%22gradients%22%2F%3E%3C%2Fdefs%3E%3Cg%20class%3D%22bglayer%22%2F%3E%3Cg%20class%3D%22draglayer%20cursor-crosshair%22%3E%3Cg%20class%3D%22xy%22%3E%3Crect%20class%3D%22nsewdrag%20drag%22%20data-subplot%3D%22xy%22%20x%3D%2280%22%20y%3D%2230%22%20width%3D%221468%22%20height%3D%22250%22%20style%3D%22fill%3A%20transparent%3B%20stroke-width%3A%200%3B%20pointer-events%3A%20all%3B%22%2F%3E%3Crect%20class%3D%22nwdrag%20drag%20cursor-nw-resize%22%20data-subplot%3D%22xy%22%20x%3D%2260%22%20y%3D%2210%22%20width%3D%2220%22%20height%3D%2220%22%20style%3D%22fill%3A%20transparent%3B%20stroke-width%3A%200%3B%20pointer-events%3A%20all%3B%22%2F%3E%3Crect%20class%3D%22nedrag%20drag%20cursor-ne-resize%22%20data-subplot%3D%22xy%22%20x%3D%221548%22%20y%3D%2210%22%20width%3D%2220%22%20height%3D%2220%22%20style%3D%22fill%3A%20transparent%3B%20stroke-width%3A%200%3B%20pointer-events%3A%20all%3B%22%2F%3E%3Crect%20class%3D%22swdrag%20drag%20cursor-sw-resize%22%20data-subplot%3D%22xy%22%20x%3D%2260%22%20y%3D%22280%22%20width%3D%2220%22%20height%3D%2220%22%20style%3D%22fill%3A%20transparent%3B%20stroke-width%3A%200%3B%20pointer-events%3A%20all%3B%22%2F%3E%3Crect%20class%3D%22sedrag%20drag%20cursor-se-resize%22%20data-subplot%3D%22xy%22%20x%3D%221548%22%20y%3D%22280%22%20width%3D%2220%22%20height%3D%2220%22%20style%3D%22fill%3A%20transparent%3B%20stroke-width%3A%200%3B%20pointer-events%3A%20all%3B%22%2F%3E%3Crect%20class%3D%22ewdrag%20drag%20cursor-ew-resize%22%20data-subplot%3D%22xy%22%20x%3D%22226.8%22%20y%3D%22280.5%22%20width%3D%221174.4%22%20height%3D%2220%22%20style%3D%22fill%3A%20transparent%3B%20stroke-width%3A%200%3B%20pointer-events%3A%20all%3B%22%2F%3E%3Crect%20class%3D%22wdrag%20drag%20cursor-w-resize%22%20data-subplot%3D%22xy%22%20x%3D%2280%22%20y%3D%22280.5%22%20width%3D%22146.8%22%20height%3D%2220%22%20style%3D%22fill%3A%20transparent%3B%20stroke-width%3A%200%3B%20pointer-events%3A%20all%3B%22%2F%3E%3Crect%20class%3D%22edrag%20drag%20cursor-e-resize%22%20data-subplot%3D%22xy%22%20x%3D%221401.2%22%20y%3D%22280.5%22%20width%3D%22146.8%22%20height%3D%2220%22%20style%3D%22fill%3A%20transparent%3B%20stroke-width%3A%200%3B%20pointer-events%3A%20all%3B%22%2F%3E%3Crect%20class%3D%22nsdrag%20drag%20cursor-ns-resize%22%20data-subplot%3D%22xy%22%20x%3D%2259.5%22%20y%3D%2255%22%20width%3D%2220%22%20height%3D%22200%22%20style%3D%22fill%3A%20transparent%3B%20stroke-width%3A%200%3B%20pointer-events%3A%20all%3B%22%2F%3E%3Crect%20class%3D%22sdrag%20drag%20cursor-s-resize%22%20data-subplot%3D%22xy%22%20x%3D%2259.5%22%20y%3D%22255%22%20width%3D%2220%22%20height%3D%2225%22%20style%3D%22fill%3A%20transparent%3B%20stroke-width%3A%200%3B%20pointer-events%3A%20all%3B%22%2F%3E%3Crect%20class%3D%22ndrag%20drag%20cursor-n-resize%22%20data-subplot%3D%22xy%22%20x%3D%2259.5%22%20y%3D%2230%22%20width%3D%2220%22%20height%3D%2225%22%20style%3D%22fill%3A%20transparent%3B%20stroke-width%3A%200%3B%20pointer-events%3A%20all%3B%22%2F%3E%3C%2Fg%3E%3C%2Fg%3E%3Cg%20class%3D%22layer-below%22%3E%3Cg%20class%3D%22imagelayer%22%2F%3E%3Cg%20class%3D%22shapelayer%22%2F%3E%3C%2Fg%3E%3Cg%20class%3D%22cartesianlayer%22%3E%3Cg%20class%3D%22subplot%20xy%22%3E%3Cg%20class%3D%22layer-subplot%22%3E%3Cg%20class%3D%22shapelayer%22%2F%3E%3Cg%20class%3D%22imagelayer%22%2F%3E%3C%2Fg%3E%3Cg%20class%3D%22gridlayer%22%3E%3Cg%20class%3D%22x%22%3E%3Cpath%20class%3D%22xgrid%20crisp%22%20transform%3D%22translate(226.8%2C0)%22%20d%3D%22M0%2C30v250%22%20style%3D%22stroke%3A%20rgb(0%2C%200%2C%200)%3B%20stroke-opacity%3A%200%3B%20stroke-width%3A%201px%3B%22%2F%3E%3Cpath%20class%3D%22xgrid%20crisp%22%20transform%3D%22translate(520.4%2C0)%22%20d%3D%22M0%2C30v250%22%20style%3D%22stroke%3A%20rgb(0%2C%200%2C%200)%3B%20stroke-opacity%3A%200%3B%20stroke-width%3A%201px%3B%22%2F%3E%3Cpath%20class%3D%22xgrid%20crisp%22%20transform%3D%22translate(814%2C0)%22%20d%3D%22M0%2C30v250%22%20style%3D%22stroke%3A%20rgb(0%2C%200%2C%200)%3B%20stroke-opacity%3A%200%3B%20stroke-width%3A%201px%3B%22%2F%3E%3Cpath%20class%3D%22xgrid%20crisp%22%20transform%3D%22translate(1107.6%2C0)%22%20d%3D%22M0%2C30v250%22%20style%3D%22stroke%3A%20rgb(0%2C%200%2C%200)%3B%20stroke-opacity%3A%200%3B%20stroke-width%3A%201px%3B%22%2F%3E%3Cpath%20class%3D%22xgrid%20crisp%22%20transform%3D%22translate(1401.2%2C0)%22%20d%3D%22M0%2C30v250%22%20style%3D%22stroke%3A%20rgb(0%2C%200%2C%200)%3B%20stroke-opacity%3A%200%3B%20stroke-width%3A%201px%3B%22%2F%3E%3C%2Fg%3E%3Cg%20class%3D%22y%22%3E%3Cpath%20class%3D%22ygrid%20crisp%22%20transform%3D%22translate(0%2C239.64)%22%20d%3D%22M80%2C0h1468%22%20style%3D%22stroke%3A%20rgb(0%2C%200%2C%200)%3B%20stroke-opacity%3A%200.1625%3B%20stroke-width%3A%201px%3B%22%2F%3E%3Cpath%20class%3D%22ygrid%20crisp%22%20transform%3D%22translate(0%2C199.29)%22%20d%3D%22M80%2C0h1468%22%20style%3D%22stroke%3A%20rgb(0%2C%200%2C%200)%3B%20stroke-opacity%3A%200.1625%3B%20stroke-width%3A%201px%3B%22%2F%3E%3Cpath%20class%3D%22ygrid%20crisp%22%20transform%3D%22translate(0%2C158.93)%22%20d%3D%22M80%2C0h1468%22%20style%3D%22stroke%3A%20rgb(0%2C%200%2C%200)%3B%20stroke-opacity%3A%200.1625%3B%20stroke-width%3A%201px%3B%22%2F%3E%3Cpath%20class%3D%22ygrid%20crisp%22%20transform%3D%22translate(0%2C118.57)%22%20d%3D%22M80%2C0h1468%22%20style%3D%22stroke%3A%20rgb(0%2C%200%2C%200)%3B%20stroke-opacity%3A%200.1625%3B%20stroke-width%3A%201px%3B%22%2F%3E%3Cpath%20class%3D%22ygrid%20crisp%22%20transform%3D%22translate(0%2C78.22)%22%20d%3D%22M80%2C0h1468%22%20style%3D%22stroke%3A%20rgb(0%2C%200%2C%200)%3B%20stroke-opacity%3A%200.1625%3B%20stroke-width%3A%201px%3B%22%2F%3E%3Cpath%20class%3D%22ygrid%20crisp%22%20transform%3D%22translate(0%2C37.86)%22%20d%3D%22M80%2C0h1468%22%20style%3D%22stroke%3A%20rgb(0%2C%200%2C%200)%3B%20stroke-opacity%3A%200.1625%3B%20stroke-width%3A%201px%3B%22%2F%3E%3C%2Fg%3E%3C%2Fg%3E%3Cg%20class%3D%22zerolinelayer%22%3E%3Cpath%20class%3D%22yzl%20zl%20crisp%22%20transform%3D%22translate(0%2C280)%22%20d%3D%22M80%2C0h1468%22%20style%3D%22stroke%3A%20rgb(0%2C%200%2C%200)%3B%20stroke-opacity%3A%200.325%3B%20stroke-width%3A%201px%3B%22%2F%3E%3C%2Fg%3E%3Cpath%20class%3D%22xlines-below%22%2F%3E%3Cpath%20class%3D%22ylines-below%22%2F%3E%3Cg%20class%3D%22overlines-below%22%2F%3E%3Cg%20class%3D%22xaxislayer-below%22%2F%3E%3Cg%20class%3D%22yaxislayer-below%22%2F%3E%3Cg%20class%3D%22overaxes-below%22%2F%3E%3Cg%20class%3D%22plot%22%20transform%3D%22translate(80%2C%2030)%22%20clip-path%3D%22url('%23clip5aa0b8xyplot')%22%3E%3Cg%20class%3D%22barlayer%20mlayer%22%3E%3Cg%20class%3D%22trace%20bars%22%20style%3D%22opacity%3A%201%3B%22%3E%3Cg%20class%3D%22points%22%3E%3Cg%20class%3D%22point%22%3E%3Cpath%20d%3D%22M29.36%2C250V232.12H107.65V250Z%22%20style%3D%22vector-effect%3A%20non-scaling-stroke%3B%20opacity%3A%201%3B%20stroke-width%3A%200px%3B%20fill%3A%20rgb(78%2C%20121%2C%20167)%3B%20fill-opacity%3A%201%3B%22%2F%3E%3C%2Fg%3E%3Cg%20class%3D%22point%22%3E%3Cpath%20d%3D%22M322.96%2C250V224.64H401.25V250Z%22%20style%3D%22vector-effect%3A%20non-scaling-stroke%3B%20opacity%3A%201%3B%20stroke-width%3A%200px%3B%20fill%3A%20rgb(78%2C%20121%2C%20167)%3B%20fill-opacity%3A%201%3B%22%2F%3E%3C%2Fg%3E%3Cg%20class%3D%22point%22%3E%3Cpath%20d%3D%22M616.56%2C250V217.49H694.85V250Z%22%20style%3D%22vector-effect%3A%20non-scaling-stroke%3B%20opacity%3A%201%3B%20stroke-width%3A%200px%3B%20fill%3A%20rgb(78%2C%20121%2C%20167)%3B%20fill-opacity%3A%201%3B%22%2F%3E%3C%2Fg%3E%3Cg%20class%3D%22point%22%3E%3Cpath%20d%3D%22M910.16%2C250V215.92H988.45V250Z%22%20style%3D%22vector-effect%3A%20non-scaling-stroke%3B%20opacity%3A%201%3B%20stroke-width%3A%200px%3B%20fill%3A%20rgb(78%2C%20121%2C%20167)%3B%20fill-opacity%3A%201%3B%22%2F%3E%3C%2Fg%3E%3Cg%20class%3D%22point%22%3E%3Cpath%20d%3D%22M1203.76%2C250V202.5H1282.05V250Z%22%20style%3D%22vector-effect%3A%20non-scaling-stroke%3B%20opacity%3A%201%3B%20stroke-width%3A%200px%3B%20fill%3A%20rgb(78%2C%20121%2C%20167)%3B%20fill-opacity%3A%201%3B%22%2F%3E%3C%2Fg%3E%3C%2Fg%3E%3C%2Fg%3E%3Cg%20class%3D%22trace%20bars%22%20style%3D%22opacity%3A%201%3B%22%3E%3Cg%20class%3D%22points%22%3E%3Cg%20class%3D%22point%22%3E%3Cpath%20d%3D%22M107.65%2C250V160.61H185.95V250Z%22%20style%3D%22vector-effect%3A%20non-scaling-stroke%3B%20opacity%3A%201%3B%20stroke-width%3A%200px%3B%20fill%3A%20rgb(242%2C%20142%2C%2044)%3B%20fill-opacity%3A%201%3B%22%2F%3E%3C%2Fg%3E%3Cg%20class%3D%22point%22%3E%3Cpath%20d%3D%22M401.25%2C250V123.18H479.55V250Z%22%20style%3D%22vector-effect%3A%20non-scaling-stroke%3B%20opacity%3A%201%3B%20stroke-width%3A%200px%3B%20fill%3A%20rgb(242%2C%20142%2C%2044)%3B%20fill-opacity%3A%201%3B%22%2F%3E%3C%2Fg%3E%3Cg%20class%3D%22point%22%3E%3Cpath%20d%3D%22M694.85%2C250V87.46H773.15V250Z%22%20style%3D%22vector-effect%3A%20non-scaling-stroke%3B%20opacity%3A%201%3B%20stroke-width%3A%200px%3B%20fill%3A%20rgb(242%2C%20142%2C%2044)%3B%20fill-opacity%3A%201%3B%22%2F%3E%3C%2Fg%3E%3Cg%20class%3D%22point%22%3E%3Cpath%20d%3D%22M988.45%2C250V79.59H1066.75V250Z%22%20style%3D%22vector-effect%3A%20non-scaling-stroke%3B%20opacity%3A%201%3B%20stroke-width%3A%200px%3B%20fill%3A%20rgb(242%2C%20142%2C%2044)%3B%20fill-opacity%3A%201%3B%22%2F%3E%3C%2Fg%3E%3Cg%20class%3D%22point%22%3E%3Cpath%20d%3D%22M1282.05%2C250V12.5H1360.35V250Z%22%20style%3D%22vector-effect%3A%20non-scaling-stroke%3B%20opacity%3A%201%3B%20stroke-width%3A%200px%3B%20fill%3A%20rgb(242%2C%20142%2C%2044)%3B%20fill-opacity%3A%201%3B%22%2F%3E%3C%2Fg%3E%3C%2Fg%3E%3C%2Fg%3E%3Cg%20class%3D%22trace%20bars%22%20style%3D%22opacity%3A%201%3B%22%3E%3Cg%20class%3D%22points%22%3E%3Cg%20class%3D%22point%22%3E%3Cpath%20d%3D%22M185.95%2C250V178.49H264.24V250Z%22%20style%3D%22vector-effect%3A%20non-scaling-stroke%3B%20opacity%3A%201%3B%20stroke-width%3A%200px%3B%20fill%3A%20rgb(225%2C%2087%2C%2089)%3B%20fill-opacity%3A%201%3B%22%2F%3E%3C%2Fg%3E%3Cg%20class%3D%22point%22%3E%3Cpath%20d%3D%22M479.55%2C250V148.54H557.84V250Z%22%20style%3D%22vector-effect%3A%20non-scaling-stroke%3B%20opacity%3A%201%3B%20stroke-width%3A%200px%3B%20fill%3A%20rgb(225%2C%2087%2C%2089)%3B%20fill-opacity%3A%201%3B%22%2F%3E%3C%2Fg%3E%3Cg%20class%3D%22point%22%3E%3Cpath%20d%3D%22M773.15%2C250V119.97H851.44V250Z%22%20style%3D%22vector-effect%3A%20non-scaling-stroke%3B%20opacity%3A%201%3B%20stroke-width%3A%200px%3B%20fill%3A%20rgb(225%2C%2087%2C%2089)%3B%20fill-opacity%3A%201%3B%22%2F%3E%3C%2Fg%3E%3Cg%20class%3D%22point%22%3E%3Cpath%20d%3D%22M1066.75%2C250V113.67H1145.04V250Z%22%20style%3D%22vector-effect%3A%20non-scaling-stroke%3B%20opacity%3A%201%3B%20stroke-width%3A%200px%3B%20fill%3A%20rgb(225%2C%2087%2C%2089)%3B%20fill-opacity%3A%201%3B%22%2F%3E%3C%2Fg%3E%3Cg%20class%3D%22point%22%3E%3Cpath%20d%3D%22M1360.35%2C250V60H1438.64V250Z%22%20style%3D%22vector-effect%3A%20non-scaling-stroke%3B%20opacity%3A%201%3B%20stroke-width%3A%200px%3B%20fill%3A%20rgb(225%2C%2087%2C%2089)%3B%20fill-opacity%3A%201%3B%22%2F%3E%3C%2Fg%3E%3C%2Fg%3E%3C%2Fg%3E%3C%2Fg%3E%3C%2Fg%3E%3Cg%20class%3D%22overplot%22%2F%3E%3Cpath%20class%3D%22xlines-above%20crisp%22%20d%3D%22M79%2C280.5H1548%22%20style%3D%22fill%3A%20none%3B%20stroke-width%3A%201px%3B%20stroke%3A%20rgb(0%2C%200%2C%200)%3B%20stroke-opacity%3A%200.1625%3B%22%2F%3E%3Cpath%20class%3D%22ylines-above%20crisp%22%20d%3D%22M79.5%2C30V280%22%20style%3D%22fill%3A%20none%3B%20stroke-width%3A%201px%3B%20stroke%3A%20rgb(0%2C%200%2C%200)%3B%20stroke-opacity%3A%200.1625%3B%22%2F%3E%3Cg%20class%3D%22overlines-above%22%2F%3E%3Cg%20class%3D%22xaxislayer-above%22%3E%3Cg%20class%3D%22xtick%22%3E%3Ctext%20text-anchor%3D%22middle%22%20x%3D%220%22%20y%3D%22295.4%22%20data-unformatted%3D%22Logistic%20Regression%20Prediction%22%20data-math%3D%22N%22%20transform%3D%22translate(226.8%2C0)%22%20style%3D%22font-family%3A%20%26quot%3BOpen%20Sans%26quot%3B%2C%20verdana%2C%20arial%2C%20sans-serif%3B%20font-size%3A%2012px%3B%20fill%3A%20rgb(0%2C%200%2C%200)%3B%20fill-opacity%3A%200.65%3B%20white-space%3A%20pre%3B%22%3ELogistic%20Regression%20Prediction%3C%2Ftext%3E%3C%2Fg%3E%3Cg%20class%3D%22xtick%22%3E%3Ctext%20text-anchor%3D%22middle%22%20x%3D%220%22%20y%3D%22295.4%22%20data-unformatted%3D%22Base%22%20data-math%3D%22N%22%20transform%3D%22translate(520.4%2C0)%22%20style%3D%22font-family%3A%20%26quot%3BOpen%20Sans%26quot%3B%2C%20verdana%2C%20arial%2C%20sans-serif%3B%20font-size%3A%2012px%3B%20fill%3A%20rgb(0%2C%200%2C%200)%3B%20fill-opacity%3A%200.65%3B%20white-space%3A%20pre%3B%22%3EBase%3C%2Ftext%3E%3C%2Fg%3E%3Cg%20class%3D%22xtick%22%3E%3Ctext%20text-anchor%3D%22middle%22%20x%3D%220%22%20y%3D%22295.4%22%20data-unformatted%3D%22SVM%20Classifier%20Linear%20Prediction%22%20data-math%3D%22N%22%20transform%3D%22translate(814%2C0)%22%20style%3D%22font-family%3A%20%26quot%3BOpen%20Sans%26quot%3B%2C%20verdana%2C%20arial%2C%20sans-serif%3B%20font-size%3A%2012px%3B%20fill%3A%20rgb(0%2C%200%2C%200)%3B%20fill-opacity%3A%200.65%3B%20white-space%3A%20pre%3B%22%3ESVM%20Classifier%20Linear%20Prediction%3C%2Ftext%3E%3C%2Fg%3E%3Cg%20class%3D%22xtick%22%3E%3Ctext%20text-anchor%3D%22middle%22%20x%3D%220%22%20y%3D%22295.4%22%20data-unformatted%3D%22Logistic%20Regression%20(SMOTE)%20Prediction%22%20data-math%3D%22N%22%20transform%3D%22translate(1107.6%2C0)%22%20style%3D%22font-family%3A%20%26quot%3BOpen%20Sans%26quot%3B%2C%20verdana%2C%20arial%2C%20sans-serif%3B%20font-size%3A%2012px%3B%20fill%3A%20rgb(0%2C%200%2C%200)%3B%20fill-opacity%3A%200.65%3B%20white-space%3A%20pre%3B%22%3ELogistic%20Regression%20(SMOTE)%20Prediction%3C%2Ftext%3E%3C%2Fg%3E%3Cg%20class%3D%22xtick%22%3E%3Ctext%20text-anchor%3D%22middle%22%20x%3D%220%22%20y%3D%22295.4%22%20data-unformatted%3D%22Naive%20Bayes%20Prediction%22%20data-math%3D%22N%22%20transform%3D%22translate(1401.2%2C0)%22%20style%3D%22font-family%3A%20%26quot%3BOpen%20Sans%26quot%3B%2C%20verdana%2C%20arial%2C%20sans-serif%3B%20font-size%3A%2012px%3B%20fill%3A%20rgb(0%2C%200%2C%200)%3B%20fill-opacity%3A%200.65%3B%20white-space%3A%20pre%3B%22%3ENaive%20Bayes%20Prediction%3C%2Ftext%3E%3C%2Fg%3E%3C%2Fg%3E%3Cg%20class%3D%22yaxislayer-above%22%3E%3Cg%20class%3D%22ytick%22%3E%3Ctext%20text-anchor%3D%22end%22%20x%3D%2276.6%22%20y%3D%224.199999999999999%22%20data-unformatted%3D%220%22%20data-math%3D%22N%22%20transform%3D%22translate(0%2C280)%22%20style%3D%22font-family%3A%20%26quot%3BOpen%20Sans%26quot%3B%2C%20verdana%2C%20arial%2C%20sans-serif%3B%20font-size%3A%2012px%3B%20fill%3A%20rgb(0%2C%200%2C%200)%3B%20fill-opacity%3A%200.65%3B%20white-space%3A%20pre%3B%22%3E0%3C%2Ftext%3E%3C%2Fg%3E%3Cg%20class%3D%22ytick%22%3E%3Ctext%20text-anchor%3D%22end%22%20x%3D%2276.6%22%20y%3D%224.199999999999999%22%20data-unformatted%3D%220.2M%22%20data-math%3D%22N%22%20transform%3D%22translate(0%2C239.64)%22%20style%3D%22font-family%3A%20%26quot%3BOpen%20Sans%26quot%3B%2C%20verdana%2C%20arial%2C%20sans-serif%3B%20font-size%3A%2012px%3B%20fill%3A%20rgb(0%2C%200%2C%200)%3B%20fill-opacity%3A%200.65%3B%20white-space%3A%20pre%3B%22%3E0.2M%3C%2Ftext%3E%3C%2Fg%3E%3Cg%20class%3D%22ytick%22%3E%3Ctext%20text-anchor%3D%22end%22%20x%3D%2276.6%22%20y%3D%224.199999999999999%22%20data-unformatted%3D%220.4M%22%20data-math%3D%22N%22%20transform%3D%22translate(0%2C199.29)%22%20style%3D%22font-family%3A%20%26quot%3BOpen%20Sans%26quot%3B%2C%20verdana%2C%20arial%2C%20sans-serif%3B%20font-size%3A%2012px%3B%20fill%3A%20rgb(0%2C%200%2C%200)%3B%20fill-opacity%3A%200.65%3B%20white-space%3A%20pre%3B%22%3E0.4M%3C%2Ftext%3E%3C%2Fg%3E%3Cg%20class%3D%22ytick%22%3E%3Ctext%20text-anchor%3D%22end%22%20x%3D%2276.6%22%20y%3D%224.199999999999999%22%20data-unformatted%3D%220.6M%22%20data-math%3D%22N%22%20transform%3D%22translate(0%2C158.93)%22%20style%3D%22font-family%3A%20%26quot%3BOpen%20Sans%26quot%3B%2C%20verdana%2C%20arial%2C%20sans-serif%3B%20font-size%3A%2012px%3B%20fill%3A%20rgb(0%2C%200%2C%200)%3B%20fill-opacity%3A%200.65%3B%20white-space%3A%20pre%3B%22%3E0.6M%3C%2Ftext%3E%3C%2Fg%3E%3Cg%20class%3D%22ytick%22%3E%3Ctext%20text-anchor%3D%22end%22%20x%3D%2276.6%22%20y%3D%224.199999999999999%22%20data-unformatted%3D%220.8M%22%20data-math%3D%22N%22%20transform%3D%22translate(0%2C118.57)%22%20style%3D%22font-family%3A%20%26quot%3BOpen%20Sans%26quot%3B%2C%20verdana%2C%20arial%2C%20sans-serif%3B%20font-size%3A%2012px%3B%20fill%3A%20rgb(0%2C%200%2C%200)%3B%20fill-opacity%3A%200.65%3B%20white-space%3A%20pre%3B%22%3E0.8M%3C%2Ftext%3E%3C%2Fg%3E%3Cg%20class%3D%22ytick%22%3E%3Ctext%20text-anchor%3D%22end%22%20x%3D%2276.6%22%20y%3D%224.199999999999999%22%20data-unformatted%3D%221M%22%20data-math%3D%22N%22%20transform%3D%22translate(0%2C78.22)%22%20style%3D%22font-family%3A%20%26quot%3BOpen%20Sans%26quot%3B%2C%20verdana%2C%20arial%2C%20sans-serif%3B%20font-size%3A%2012px%3B%20fill%3A%20rgb(0%2C%200%2C%200)%3B%20fill-opacity%3A%200.65%3B%20white-space%3A%20pre%3B%22%3E1M%3C%2Ftext%3E%3C%2Fg%3E%3Cg%20class%3D%22ytick%22%3E%3Ctext%20text-anchor%3D%22end%22%20x%3D%2276.6%22%20y%3D%224.199999999999999%22%20data-unformatted%3D%221.2M%22%20data-math%3D%22N%22%20transform%3D%22translate(0%2C37.86)%22%20style%3D%22font-family%3A%20%26quot%3BOpen%20Sans%26quot%3B%2C%20verdana%2C%20arial%2C%20sans-serif%3B%20font-size%3A%2012px%3B%20fill%3A%20rgb(0%2C%200%2C%200)%3B%20fill-opacity%3A%200.65%3B%20white-space%3A%20pre%3B%22%3E1.2M%3C%2Ftext%3E%3C%2Fg%3E%3C%2Fg%3E%3Cg%20class%3D%22overaxes-above%22%2F%3E%3C%2Fg%3E%3C%2Fg%3E%3Cg%20class%3D%22polarlayer%22%2F%3E%3Cg%20class%3D%22ternarylayer%22%2F%3E%3Cg%20class%3D%22geolayer%22%2F%3E%3Cg%20class%3D%22funnelarealayer%22%2F%3E%3Cg%20class%3D%22pielayer%22%2F%3E%3Cg%20class%3D%22treemaplayer%22%2F%3E%3Cg%20class%3D%22sunburstlayer%22%2F%3E%3Cg%20class%3D%22glimages%22%2F%3E%3Cdefs%20id%3D%22topdefs-5aa0b8%22%3E%3Cg%20class%3D%22clips%22%2F%3E%3CclipPath%20id%3D%22legend5aa0b8%22%3E%3Crect%20width%3D%22177%22%20height%3D%2287%22%20x%3D%220%22%20y%3D%220%22%2F%3E%3C%2FclipPath%3E%3C%2Fdefs%3E%3Cg%20class%3D%22indicatorlayer%22%2F%3E%3Cg%20class%3D%22layer-above%22%3E%3Cg%20class%3D%22imagelayer%22%2F%3E%3Cg%20class%3D%22shapelayer%22%2F%3E%3C%2Fg%3E%3Cg%20class%3D%22infolayer%22%3E%3Cg%20class%3D%22legend%22%20pointer-events%3D%22all%22%20transform%3D%22translate(1577%2C%2030)%22%3E%3Crect%20class%3D%22bg%22%20shape-rendering%3D%22crispEdges%22%20style%3D%22stroke%3A%20rgb(68%2C%2068%2C%2068)%3B%20stroke-opacity%3A%201%3B%20fill%3A%20rgb(255%2C%20255%2C%20255)%3B%20fill-opacity%3A%201%3B%20stroke-width%3A%200px%3B%22%20width%3D%22177%22%20height%3D%2287%22%20x%3D%220%22%20y%3D%220%22%2F%3E%3Cg%20class%3D%22scrollbox%22%20transform%3D%22translate(0%2C%200)%22%20clip-path%3D%22url('%23legend5aa0b8')%22%3E%3Cg%20class%3D%22groups%22%20transform%3D%22translate(0%2C%200)%22%3E%3Cg%20class%3D%22traces%22%20transform%3D%22translate(0%2C%2014.5)%22%20style%3D%22opacity%3A%201%3B%22%3E%3Ctext%20class%3D%22legendtext%20user-select-none%22%20text-anchor%3D%22start%22%20x%3D%2240%22%20y%3D%224.680000000000001%22%20data-unformatted%3D%22Forecast%20expense%22%20data-math%3D%22N%22%20style%3D%22font-family%3A%20%26quot%3BOpen%20Sans%26quot%3B%2C%20verdana%2C%20arial%2C%20sans-serif%3B%20font-size%3A%2012px%3B%20fill%3A%20rgb(0%2C%200%2C%200)%3B%20fill-opacity%3A%200.65%3B%20white-space%3A%20pre%3B%22%3EForecast%20expense%3C%2Ftext%3E%3Cg%20class%3D%22layers%22%20style%3D%22opacity%3A%201%3B%22%3E%3Cg%20class%3D%22legendfill%22%2F%3E%3Cg%20class%3D%22legendlines%22%2F%3E%3Cg%20class%3D%22legendsymbols%22%3E%3Cg%20class%3D%22legendpoints%22%3E%3Cpath%20class%3D%22legendundefined%22%20d%3D%22M6%2C6H-6V-6H6Z%22%20transform%3D%22translate(20%2C0)%22%20style%3D%22stroke-width%3A%200px%3B%20fill%3A%20rgb(78%2C%20121%2C%20167)%3B%20fill-opacity%3A%201%3B%22%2F%3E%3C%2Fg%3E%3C%2Fg%3E%3C%2Fg%3E%3Crect%20class%3D%22legendtoggle%22%20pointer-events%3D%22all%22%20x%3D%220%22%20y%3D%22-9.5%22%20width%3D%22171.71875%22%20height%3D%2219%22%20style%3D%22cursor%3A%20pointer%3B%20fill%3A%20rgb(0%2C%200%2C%200)%3B%20fill-opacity%3A%200%3B%22%2F%3E%3C%2Fg%3E%3C%2Fg%3E%3Cg%20class%3D%22groups%22%20transform%3D%22translate(0%2C%2010)%22%3E%3Cg%20class%3D%22traces%22%20transform%3D%22translate(0%2C%2033.5)%22%20style%3D%22opacity%3A%201%3B%22%3E%3Ctext%20class%3D%22legendtext%20user-select-none%22%20text-anchor%3D%22start%22%20x%3D%2240%22%20y%3D%224.680000000000001%22%20data-unformatted%3D%22Full%20recruitment%20expense%22%20data-math%3D%22N%22%20style%3D%22font-family%3A%20%26quot%3BOpen%20Sans%26quot%3B%2C%20verdana%2C%20arial%2C%20sans-serif%3B%20font-size%3A%2012px%3B%20fill%3A%20rgb(0%2C%200%2C%200)%3B%20fill-opacity%3A%200.65%3B%20white-space%3A%20pre%3B%22%3EFull%20recruitment%20expense%3C%2Ftext%3E%3Cg%20class%3D%22layers%22%20style%3D%22opacity%3A%201%3B%22%3E%3Cg%20class%3D%22legendfill%22%2F%3E%3Cg%20class%3D%22legendlines%22%2F%3E%3Cg%20class%3D%22legendsymbols%22%3E%3Cg%20class%3D%22legendpoints%22%3E%3Cpath%20class%3D%22legendundefined%22%20d%3D%22M6%2C6H-6V-6H6Z%22%20transform%3D%22translate(20%2C0)%22%20style%3D%22stroke-width%3A%200px%3B%20fill%3A%20rgb(242%2C%20142%2C%2044)%3B%20fill-opacity%3A%201%3B%22%2F%3E%3C%2Fg%3E%3C%2Fg%3E%3C%2Fg%3E%3Crect%20class%3D%22legendtoggle%22%20pointer-events%3D%22all%22%20x%3D%220%22%20y%3D%22-9.5%22%20width%3D%22171.71875%22%20height%3D%2219%22%20style%3D%22cursor%3A%20pointer%3B%20fill%3A%20rgb(0%2C%200%2C%200)%3B%20fill-opacity%3A%200%3B%22%2F%3E%3C%2Fg%3E%3C%2Fg%3E%3Cg%20class%3D%22groups%22%20transform%3D%22translate(0%2C%2020)%22%3E%3Cg%20class%3D%22traces%22%20transform%3D%22translate(0%2C%2052.5)%22%20style%3D%22opacity%3A%201%3B%22%3E%3Ctext%20class%3D%22legendtext%20user-select-none%22%20text-anchor%3D%22start%22%20x%3D%2240%22%20y%3D%224.680000000000001%22%20data-unformatted%3D%22Saving%22%20data-math%3D%22N%22%20style%3D%22font-family%3A%20%26quot%3BOpen%20Sans%26quot%3B%2C%20verdana%2C%20arial%2C%20sans-serif%3B%20font-size%3A%2012px%3B%20fill%3A%20rgb(0%2C%200%2C%200)%3B%20fill-opacity%3A%200.65%3B%20white-space%3A%20pre%3B%22%3ESaving%3C%2Ftext%3E%3Cg%20class%3D%22layers%22%20style%3D%22opacity%3A%201%3B%22%3E%3Cg%20class%3D%22legendfill%22%2F%3E%3Cg%20class%3D%22legendlines%22%2F%3E%3Cg%20class%3D%22legendsymbols%22%3E%3Cg%20class%3D%22legendpoints%22%3E%3Cpath%20class%3D%22legendundefined%22%20d%3D%22M6%2C6H-6V-6H6Z%22%20transform%3D%22translate(20%2C0)%22%20style%3D%22stroke-width%3A%200px%3B%20fill%3A%20rgb(225%2C%2087%2C%2089)%3B%20fill-opacity%3A%201%3B%22%2F%3E%3C%2Fg%3E%3C%2Fg%3E%3C%2Fg%3E%3Crect%20class%3D%22legendtoggle%22%20pointer-events%3D%22all%22%20x%3D%220%22%20y%3D%22-9.5%22%20width%3D%22171.71875%22%20height%3D%2219%22%20style%3D%22cursor%3A%20pointer%3B%20fill%3A%20rgb(0%2C%200%2C%200)%3B%20fill-opacity%3A%200%3B%22%2F%3E%3C%2Fg%3E%3C%2Fg%3E%3C%2Fg%3E%3Crect%20class%3D%22scrollbar%22%20rx%3D%2220%22%20ry%3D%223%22%20width%3D%220%22%20height%3D%220%22%20style%3D%22fill%3A%20rgb(128%2C%20139%2C%20164)%3B%20fill-opacity%3A%201%3B%22%20x%3D%220%22%20y%3D%220%22%2F%3E%3C%2Fg%3E%3Cg%20class%3D%22g-gtitle%22%2F%3E%3Cg%20class%3D%22g-xtitle%22%2F%3E%3Cg%20class%3D%22g-ytitle%22%2F%3E%3C%2Fg%3E%3Cg%20class%3D%22menulayer%22%2F%3E%3Cg%20class%3D%22zoomlayer%22%2F%3E%3Cg%20class%3D%22hoverlayer%22%2F%3E%3C%2Fsvg%3E\">"
      ],
      "text/plain": [
       "Open the notebook in JupyterLab with the atoti extension installed and enabled to see this widget."
      ]
     },
     "metadata": {},
     "output_type": "display_data"
    }
   ],
   "source": [
    "cube.visualize(\"Expenses on effort to maintain 90% NRR\")"
   ]
  },
  {
   "cell_type": "markdown",
   "metadata": {},
   "source": [
    "#### Reality check\n",
    "\n",
    "Now let's compare our prediction against the actual churn results.\n",
    "\n",
    "We assume that those who we attempt to retain did not churn, the retention campaign is successful.  \n",
    "However, there are those who we didn't predict they will churn, and in fact churned.  \n",
    "We compute the new revenue lost on these assumption and understanding."
   ]
  },
  {
   "cell_type": "code",
   "execution_count": 38,
   "metadata": {},
   "outputs": [],
   "source": [
    "# those that were not predicted correctly by the algorithm or those that we did not attempt to retain will make up the revenue lost\n",
    "m[\"Post retention revenue lost\"] = tt.agg.sum(\n",
    "    tt.where(\n",
    "        m[\"Forecast expense\"] == 100,\n",
    "        0,\n",
    "        tt.where(l[\"Churn\"] == \"Yes\", m[\"MonthlyCharges.SUM\"], 0),\n",
    "    ),\n",
    "    scope=tt.scope.origin(l[\"CustomerID\"]),\n",
    ")\n",
    "\n",
    "m[\"Post retention NRR\"] = (\n",
    "    m[\"MonthlyCharges.SUM\"] - m[\"Post retention revenue lost\"]\n",
    ") / m[\"MonthlyCharges.SUM\"]"
   ]
  },
  {
   "cell_type": "markdown",
   "metadata": {},
   "source": [
    "In the table below, we see that NRR across the different prediction is above 80%, with _Naive Bayes Prediction_ retaining the most revenue (ignoring the base scenario).  \n",
    "However, it also incurrs the most expenses in retention which we saw earlier. This could be explained by the fact that it has a larger retention size of 2,354 compared to the rest.  \n",
    "This greatly increases the chances of identifying the correct customer who will churn compared to the rest of the prediction models."
   ]
  },
  {
   "cell_type": "code",
   "execution_count": 39,
   "metadata": {
    "atoti": {
     "height": 226,
     "state": {
      "name": "NRR after retention effort",
      "type": "container",
      "value": {
       "body": {
        "configuration": {
         "tabular": {
          "addButtonFilter": "numeric",
          "cellRenderers": [
           "tree-layout"
          ],
          "columnOrder": {
           "args": {
            "orderedColumns": [
             "c-treeCells-member",
             "[Measures].[MRR Initial]",
             "[Measures].[Actual Revenue Lost]",
             "[Measures].[Post retention revenue lost]",
             "[Measures].[Actual Revenue Lost - Post retention revenue lost]",
             "[Measures].[NRR (1)]",
             "[Measures].[Post retention NRR (1)]",
             "[Measures].[NRR - Post retention NRR]"
            ]
           },
           "key": "explicit"
          },
          "columns": [
           {
            "hide": false,
            "key": "[Measures].[Actual Revenue Lost - Predicted Revenue Lost]",
            "width": 151
           },
           {
            "key": "c-treeCells-member",
            "width": 245
           },
           {
            "hide": false,
            "key": "[Measures].[Predicted Revenue Lost]",
            "width": 164
           },
           {
            "hide": false,
            "key": "[Measures].[Actual Revenue Lost]",
            "width": 137
           },
           {
            "hide": false,
            "key": "[Measures].[Post retention revenue lost]",
            "width": 154
           }
          ],
          "columnsGroups": [
           {
            "captionProducer": "firstColumn",
            "cellFactory": "kpi-status",
            "selector": "kpi-status"
           },
           {
            "captionProducer": "firstColumn",
            "cellFactory": "lookup",
            "selector": "lookup"
           },
           {
            "captionProducer": "expiry",
            "cellFactory": "expiry",
            "selector": "kpi-expiry"
           },
           {
            "captionProducer": "columnMerge",
            "cellFactory": {
             "args": {},
             "key": "treeCells"
            },
            "selector": "member"
           }
          ],
          "defaultOptions": {},
          "expansion": {
           "automaticExpansion": true
          },
          "hideAddButton": true,
          "pinnedHeaderSelector": "member",
          "sortingMode": "non-breaking",
          "statisticsShown": true
         }
        },
        "contextValues": {},
        "mdx": "WITH  Member [Measures].[NRR - Post retention NRR] AS [Measures].[Post retention NRR] - [Measures].[NRR], CAPTION = \"Increase in NRR\", FORMAT_STRING = \"#,###.000\"    Member [Measures].[Post retention NRR (1)] AS [Measures].[Post retention NRR], FORMAT_STRING = \"#,###.000\", CAPTION = [Measures].[Post retention NRR].MEMBER_CAPTION    Member [Measures].[NRR (1)] AS [Measures].[NRR], FORMAT_STRING = \"#,###.000\", CAPTION = [Measures].[NRR].MEMBER_CAPTION    Member [Measures].[Actual Revenue Lost - Post retention revenue lost] AS [Measures].[Actual Revenue Lost] - [Measures].[Post retention revenue lost], CAPTION = \"Revenue Retained\", FORMAT_STRING = \"#,###.00\"  SELECT NON EMPTY Hierarchize([Epoch].[Epoch].[Branch].Members) ON ROWS, NON EMPTY {[Measures].[MRR Initial], [Measures].[Actual Revenue Lost], [Measures].[Post retention revenue lost], [Measures].[NRR (1)], [Measures].[Post retention NRR (1)], [Measures].[NRR - Post retention NRR], [Measures].[Actual Revenue Lost - Post retention revenue lost]} ON COLUMNS FROM [customer_cube] CELL PROPERTIES BACK_COLOR, FONT_FLAGS, FORE_COLOR, FORMATTED_VALUE, VALUE",
        "ranges": {
         "column": {
          "chunkSize": 50,
          "thresholdPercentage": 0.2
         },
         "row": {
          "chunkSize": 2000,
          "thresholdPercentage": 0.1
         }
        },
        "serverUrl": "",
        "updateMode": "once"
       },
       "containerKey": "pivot-table",
       "showTitleBar": false,
       "style": {}
      }
     }
    }
   },
   "outputs": [
    {
     "data": {
      "application/vnd.atoti.v0+json": {
       "cellSet": {
        "axes": [
         {
          "hierarchies": [
           {
            "dimension": "Measures",
            "hierarchy": "Measures"
           }
          ],
          "id": 0,
          "positions": [
           [
            {
             "captionPath": [
              "MRR Initial"
             ],
             "namePath": [
              "MRR Initial"
             ],
             "properties": {
              "DISPLAY_INFO": 0
             }
            }
           ],
           [
            {
             "captionPath": [
              "Actual Revenue Lost"
             ],
             "namePath": [
              "Actual Revenue Lost"
             ],
             "properties": {
              "DISPLAY_INFO": 0
             }
            }
           ],
           [
            {
             "captionPath": [
              "Post retention revenue lost"
             ],
             "namePath": [
              "Post retention revenue lost"
             ],
             "properties": {
              "DISPLAY_INFO": 0
             }
            }
           ],
           [
            {
             "captionPath": [
              "NRR"
             ],
             "namePath": [
              "NRR (1)"
             ],
             "properties": {
              "DISPLAY_INFO": 0
             }
            }
           ],
           [
            {
             "captionPath": [
              "Post retention NRR"
             ],
             "namePath": [
              "Post retention NRR (1)"
             ],
             "properties": {
              "DISPLAY_INFO": 0
             }
            }
           ],
           [
            {
             "captionPath": [
              "Increase in NRR"
             ],
             "namePath": [
              "NRR - Post retention NRR"
             ],
             "properties": {
              "DISPLAY_INFO": 0
             }
            }
           ],
           [
            {
             "captionPath": [
              "Revenue Retained"
             ],
             "namePath": [
              "Actual Revenue Lost - Post retention revenue lost"
             ],
             "properties": {
              "DISPLAY_INFO": 0
             }
            }
           ]
          ]
         },
         {
          "hierarchies": [
           {
            "dimension": "Epoch",
            "hierarchy": "Epoch"
           }
          ],
          "id": 1,
          "positions": [
           [
            {
             "captionPath": [
              "Base"
             ],
             "namePath": [
              "Base"
             ],
             "properties": {
              "DISPLAY_INFO": 0
             }
            }
           ],
           [
            {
             "captionPath": [
              "Logistic Regression (SMOTE) Prediction"
             ],
             "namePath": [
              "Logistic Regression (SMOTE) Prediction"
             ],
             "properties": {
              "DISPLAY_INFO": 0
             }
            }
           ],
           [
            {
             "captionPath": [
              "Logistic Regression Prediction"
             ],
             "namePath": [
              "Logistic Regression Prediction"
             ],
             "properties": {
              "DISPLAY_INFO": 0
             }
            }
           ],
           [
            {
             "captionPath": [
              "Naive Bayes Prediction"
             ],
             "namePath": [
              "Naive Bayes Prediction"
             ],
             "properties": {
              "DISPLAY_INFO": 0
             }
            }
           ],
           [
            {
             "captionPath": [
              "SVM Classifier Linear Prediction"
             ],
             "namePath": [
              "SVM Classifier Linear Prediction"
             ],
             "properties": {
              "DISPLAY_INFO": 0
             }
            }
           ]
          ]
         }
        ],
        "cells": [
         {
          "formattedValue": "455,661.00",
          "ordinal": 0,
          "properties": {
           "BACK_COLOR": null,
           "FONT_FLAGS": 0,
           "FORE_COLOR": null
          },
          "value": 455661.00000000023
         },
         {
          "formattedValue": "139,130.85",
          "ordinal": 1,
          "properties": {
           "BACK_COLOR": null,
           "FONT_FLAGS": 0,
           "FORE_COLOR": null
          },
          "value": 139130.84999999998
         },
         {
          "formattedValue": "9,392.35",
          "ordinal": 2,
          "properties": {
           "BACK_COLOR": null,
           "FONT_FLAGS": 0,
           "FORE_COLOR": null
          },
          "value": 9392.349999999991
         },
         {
          "formattedValue": ".695",
          "ordinal": 3,
          "properties": {
           "BACK_COLOR": null,
           "FONT_FLAGS": 0,
           "FORE_COLOR": null
          },
          "value": 0.6946614917669058
         },
         {
          "formattedValue": ".979",
          "ordinal": 4,
          "properties": {
           "BACK_COLOR": null,
           "FONT_FLAGS": 0,
           "FORE_COLOR": null
          },
          "value": 0.9793874174002164
         },
         {
          "formattedValue": ".285",
          "ordinal": 5,
          "properties": {
           "BACK_COLOR": null,
           "FONT_FLAGS": 0,
           "FORE_COLOR": null
          },
          "value": 0.28472592563331056
         },
         {
          "formattedValue": "129,738.50",
          "ordinal": 6,
          "properties": {
           "BACK_COLOR": null,
           "FONT_FLAGS": 0,
           "FORE_COLOR": null
          },
          "value": 129738.49999999999
         },
         {
          "formattedValue": "455,661.00",
          "ordinal": 7,
          "properties": {
           "BACK_COLOR": null,
           "FONT_FLAGS": 0,
           "FORE_COLOR": null
          },
          "value": 455661.00000000023
         },
         {
          "formattedValue": "139,130.85",
          "ordinal": 8,
          "properties": {
           "BACK_COLOR": null,
           "FONT_FLAGS": 0,
           "FORE_COLOR": null
          },
          "value": 139130.84999999998
         },
         {
          "formattedValue": "47,361.00",
          "ordinal": 9,
          "properties": {
           "BACK_COLOR": null,
           "FONT_FLAGS": 0,
           "FORE_COLOR": null
          },
          "value": 47361.00000000009
         },
         {
          "formattedValue": ".619",
          "ordinal": 10,
          "properties": {
           "BACK_COLOR": null,
           "FONT_FLAGS": 0,
           "FORE_COLOR": null
          },
          "value": 0.6194937683936087
         },
         {
          "formattedValue": ".896",
          "ordinal": 11,
          "properties": {
           "BACK_COLOR": null,
           "FONT_FLAGS": 0,
           "FORE_COLOR": null
          },
          "value": 0.8960608873702158
         },
         {
          "formattedValue": ".277",
          "ordinal": 12,
          "properties": {
           "BACK_COLOR": null,
           "FONT_FLAGS": 0,
           "FORE_COLOR": null
          },
          "value": 0.27656711897660713
         },
         {
          "formattedValue": "91,769.85",
          "ordinal": 13,
          "properties": {
           "BACK_COLOR": null,
           "FONT_FLAGS": 0,
           "FORE_COLOR": null
          },
          "value": 91769.84999999989
         },
         {
          "formattedValue": "455,661.00",
          "ordinal": 14,
          "properties": {
           "BACK_COLOR": null,
           "FONT_FLAGS": 0,
           "FORE_COLOR": null
          },
          "value": 455661.00000000023
         },
         {
          "formattedValue": "139,130.85",
          "ordinal": 15,
          "properties": {
           "BACK_COLOR": null,
           "FONT_FLAGS": 0,
           "FORE_COLOR": null
          },
          "value": 139130.84999999998
         },
         {
          "formattedValue": "70,424.20",
          "ordinal": 16,
          "properties": {
           "BACK_COLOR": null,
           "FONT_FLAGS": 0,
           "FORE_COLOR": null
          },
          "value": 70424.20000000007
         },
         {
          "formattedValue": ".744",
          "ordinal": 17,
          "properties": {
           "BACK_COLOR": null,
           "FONT_FLAGS": 0,
           "FORE_COLOR": null
          },
          "value": 0.7436168555131996
         },
         {
          "formattedValue": ".845",
          "ordinal": 18,
          "properties": {
           "BACK_COLOR": null,
           "FONT_FLAGS": 0,
           "FORE_COLOR": null
          },
          "value": 0.8454460662641744
         },
         {
          "formattedValue": ".102",
          "ordinal": 19,
          "properties": {
           "BACK_COLOR": null,
           "FONT_FLAGS": 0,
           "FORE_COLOR": null
          },
          "value": 0.10182921075097484
         },
         {
          "formattedValue": "68,706.65",
          "ordinal": 20,
          "properties": {
           "BACK_COLOR": null,
           "FONT_FLAGS": 0,
           "FORE_COLOR": null
          },
          "value": 68706.6499999999
         },
         {
          "formattedValue": "455,661.00",
          "ordinal": 21,
          "properties": {
           "BACK_COLOR": null,
           "FONT_FLAGS": 0,
           "FORE_COLOR": null
          },
          "value": 455661.00000000023
         },
         {
          "formattedValue": "139,130.85",
          "ordinal": 22,
          "properties": {
           "BACK_COLOR": null,
           "FONT_FLAGS": 0,
           "FORE_COLOR": null
          },
          "value": 139130.84999999998
         },
         {
          "formattedValue": "35,011.50",
          "ordinal": 23,
          "properties": {
           "BACK_COLOR": null,
           "FONT_FLAGS": 0,
           "FORE_COLOR": null
          },
          "value": 35011.500000000015
         },
         {
          "formattedValue": ".542",
          "ordinal": 24,
          "properties": {
           "BACK_COLOR": null,
           "FONT_FLAGS": 0,
           "FORE_COLOR": null
          },
          "value": 0.5422796772161763
         },
         {
          "formattedValue": ".923",
          "ordinal": 25,
          "properties": {
           "BACK_COLOR": null,
           "FONT_FLAGS": 0,
           "FORE_COLOR": null
          },
          "value": 0.9231632726961492
         },
         {
          "formattedValue": ".381",
          "ordinal": 26,
          "properties": {
           "BACK_COLOR": null,
           "FONT_FLAGS": 0,
           "FORE_COLOR": null
          },
          "value": 0.38088359547997286
         },
         {
          "formattedValue": "104,119.35",
          "ordinal": 27,
          "properties": {
           "BACK_COLOR": null,
           "FONT_FLAGS": 0,
           "FORE_COLOR": null
          },
          "value": 104119.34999999996
         },
         {
          "formattedValue": "455,661.00",
          "ordinal": 28,
          "properties": {
           "BACK_COLOR": null,
           "FONT_FLAGS": 0,
           "FORE_COLOR": null
          },
          "value": 455661.00000000023
         },
         {
          "formattedValue": "139,130.85",
          "ordinal": 29,
          "properties": {
           "BACK_COLOR": null,
           "FONT_FLAGS": 0,
           "FORE_COLOR": null
          },
          "value": 139130.84999999998
         },
         {
          "formattedValue": "49,710.75",
          "ordinal": 30,
          "properties": {
           "BACK_COLOR": null,
           "FONT_FLAGS": 0,
           "FORE_COLOR": null
          },
          "value": 49710.7500000001
         },
         {
          "formattedValue": ".630",
          "ordinal": 31,
          "properties": {
           "BACK_COLOR": null,
           "FONT_FLAGS": 0,
           "FORE_COLOR": null
          },
          "value": 0.6300349382545358
         },
         {
          "formattedValue": ".891",
          "ordinal": 32,
          "properties": {
           "BACK_COLOR": null,
           "FONT_FLAGS": 0,
           "FORE_COLOR": null
          },
          "value": 0.8909040931745309
         },
         {
          "formattedValue": ".261",
          "ordinal": 33,
          "properties": {
           "BACK_COLOR": null,
           "FONT_FLAGS": 0,
           "FORE_COLOR": null
          },
          "value": 0.26086915491999507
         },
         {
          "formattedValue": "89,420.10",
          "ordinal": 34,
          "properties": {
           "BACK_COLOR": null,
           "FONT_FLAGS": 0,
           "FORE_COLOR": null
          },
          "value": 89420.09999999987
         }
        ],
        "cube": "customer_cube",
        "defaultMembers": [
         {
          "captionPath": [
           "Count"
          ],
          "dimension": "Measures",
          "hierarchy": "Measures",
          "path": [
           "contributors.COUNT"
          ]
         },
         {
          "captionPath": [
           "Base"
          ],
          "dimension": "Epoch",
          "hierarchy": "Epoch",
          "path": [
           "Base"
          ]
         }
        ],
        "epoch": 1
       },
       "cube": "customer_cube",
       "error": null,
       "name": "NRR after retention effort",
       "session": "Unnamed"
      },
      "text/html": [
       "<img src=\"data:image/svg+xml;charset=utf8,%3C?xml%20version=%221.0%22%20standalone=%22no%22?%3E%0A%20%20%20%20%3Csvg%20xmlns=%22http://www.w3.org/2000/svg%22%20width=%221754%22%20height=%22226%22%3E%0A%20%20%20%20%20%20%3CforeignObject%20x=%220%22%20y=%220%22%20width=%22100%25%22%20height=%22100%25%22%3E%0A%20%20%20%20%20%20%20%20%3Cstyle%20type=%22text/css%22%3E.css-xsa55j-dock%20%7Bposition:%20relative;%20z-index:%200;%20height:%20100%25;%20background-color:%20rgb(255,%20255,%20255);%20display:%20flex;%20flex-direction:%20column%7D%0A.css-1ibuxvk-DockBody%20%7Bpadding-top:%200px;%20padding-left:%200px;%20padding-right:%200px;%20padding-bottom:%200px;%20flex-grow:%201;%20flex-shrink:%201;%20flex-basis:%200%25;%20box-sizing:%20border-box;%20position:%20relative;%20z-index:%200;%20overflow-x:%20hidden;%20overflow-y:%20hidden%7D%0A.css-14zuz97%20%7Bbackground-image:%20initial;%20background-position-x:%20initial;%20background-position-y:%20initial;%20background-size:%20initial;%20background-repeat-x:%20initial;%20background-repeat-y:%20initial;%20background-attachment:%20initial;%20background-origin:%20initial;%20background-color:%20rgba(0,%200,%200,%200.2);%20z-index:%201;%20box-sizing:%20border-box;%20background-clip:%20padding-box%7D%0A.css-14zuz97.vertical%20%7Bwidth:%2012px;%20margin-top:%200px;%20margin-right:%20-6px;%20margin-bottom:%200px;%20margin-left:%20-6px;%20border-left-width:%205.5px;%20border-left-style:%20solid;%20border-left-color:%20transparent;%20border-right-width:%205.5px;%20border-right-style:%20solid;%20border-right-color:%20transparent;%20cursor:%20col-resize%7D%0A.css-14zuz97.disabled%20%7Bdisplay:%20none%7D%0A.css-1lrljg1-EditorSplitPane%20%7Bbackground-color:%20rgb(255,%20255,%20255);%20flex-grow:%201;%20flex-shrink:%201;%20flex-basis:%200%25;%20margin-right:%200px;%20position:%20relative%7D%0A.css-15fz3t7-EditorSplitPane%20%7Bposition:%20absolute;%20top:%200px;%20bottom:%200px;%20left:%200px;%20right:%200px;%20display:%20flex;%20flex-direction:%20column%7D%0A.css-1k1fxuh-Tabular%20%7Bwidth:%20100%25;%20height:%20100%25;%20position:%20relative%7D%0A.css-10klw3m%20%7Bheight:%20100%25%7D%0A.css-mdjjdg-TabularHeader%20%7Bdisplay:%20flex%7D%0A.css-12nzxaz-PinnedTabularHeaders%20%7Bflex-shrink:%200;%20display:%20flex%7D%0A.css-s4fjko-TabularPinnSeparator%20%7Bwidth:%202px;%20height:%2028px;%20background-color:%20rgb(233,%20233,%20233)%7D%0A.css-5jtkjp-UnpinnedTabularHeaders%20%7Bdisplay:%20flex;%20position:%20absolute;%20left:%200px%7D%0A.css-19w2ip5-TabularHeaderCell%20%7Bcursor:%20default;%20-webkit-box-flex:%201;%20flex-grow:%201;%20flex-shrink:%201;%20box-sizing:%20border-box;%20padding-left:%204px;%20padding-right:%204px;%20padding-top:%204px;%20padding-bottom:%204px;%20height:%20100%25;%20overflow-x:%20hidden;%20overflow-y:%20hidden;%20display:%20flex;%20white-space:%20nowrap;%20-webkit-box-pack:%20start;%20justify-content:%20flex-start;%20align-items:%20flex-start%7D%0A.css-jpazdc-TabularHeaderCell%20%7Boverflow-x:%20hidden;%20overflow-y:%20hidden;%20text-overflow:%20ellipsis%7D%0A.css-y3oqqp%20%7Bfont-size:%2012px;%20line-height:%2022px;%20font-weight:%20600;%20color:%20rgba(0,%200,%200,%200.85)%7D%0A.css-c7y3a7-TabularHeaderCell%20%7Bflex-shrink:%200;%20height:%20100%25;%20display:%20flex;%20-webkit-box-pack:%20center;%20justify-content:%20center%7D%0A.css-1id6sm3-UnpinnedTabularRows%20%7Bposition:%20absolute;%20top:%200px;%20left:%200px%7D%0A.css-3cge9w%20%7Bcursor:%20cell;%20display:%20flex;%20height:%2028px;%20user-select:%20none%7D%0A.css-9ssj44-TreeCell%20%7Bwidth:%20min-content%7D%0A.css-mkrhzq%20%7Bdisplay:%20flex;%20margin-left:%200px%7D%0A.css-1i6gc04%20%7Bcursor:%20pointer;%20margin-top:%202px;%20height:%20inherit;%20display:%20flex;%20-webkit-box-align:%20center;%20align-items:%20center;%20font-size:%2010px;%20width:%2016px%7D%0A.css-8uhtka%20%7Boverflow-x:%20hidden;%20overflow-y:%20hidden;%20text-overflow:%20ellipsis;%20white-space:%20nowrap%7D%0A.css-1ouk3zc-EditorSplitPane%20%7Bbackground-color:%20rgb(255,%20255,%20255);%20flex-grow:%201;%20flex-shrink:%201;%20flex-basis:%200%25%7D%0A.css-1jjvrwi-EditorSplitPane%20%7Bposition:%20absolute;%20top:%200px;%20bottom:%200px;%20left:%200px;%20right:%200px;%20overflow-y:%20auto%7D%0A.css-1nvaeec-TabularHeaderGroup%20%7Bposition:%20relative;%20width:%20245px%7D%0A.css-9lo9j4%20%7Bcolor:%20rgba(0,%200,%200,%200.85);%20display:%20flex;%20box-sizing:%20border-box;%20-webkit-box-align:%20center;%20align-items:%20center;%20height:%2028px;%20position:%20absolute;%20top:%200px;%20left:%200px;%20user-select:%20none;%20font-size:%2012px;%20line-height:%2022px;%20font-weight:%20600;%20border-bottom-width:%202px;%20border-bottom-style:%20solid;%20border-bottom-color:%20rgb(233,%20233,%20233);%20width:%20245px;%20border-right-width:%201px;%20border-right-style:%20solid;%20border-right-color:%20rgb(233,%20233,%20233)%7D%0A.css-b06m8u-HeaderResizer%20%7Bposition:%20absolute;%20z-index:%201;%20width:%2010px;%20height:%2028px;%20left:%20240px;%20top:%200px;%20cursor:%20col-resize%7D%0A.css-cn55et-HeaderResizer%20%7Bposition:%20absolute;%20z-index:%201;%20height:%2010px;%20width:%20245px;%20left:%200px;%20top:%2023px;%20cursor:%20row-resize%7D%0A.css-7iaa5h%20%7Bheight:%20100%25;%20box-sizing:%20border-box;%20display:%20flex;%20-webkit-box-pack:%20end;%20justify-content:%20flex-end;%20flex-direction:%20column;%20padding-top:%204px;%20padding-left:%204px;%20padding-right:%204px;%20padding-bottom:%203px;%20overflow-x:%20hidden;%20overflow-y:%20hidden;%20white-space:%20nowrap;%20border-right-width:%201px;%20border-right-style:%20solid;%20border-right-color:%20rgb(233,%20233,%20233);%20border-bottom-width:%20initial;%20border-bottom-style:%20none;%20border-bottom-color:%20initial;%20width:%20245px;%20align-items:%20flex-start;%20background-color:%20rgb(250,%20250,%20250)%7D%0A.css-1q63qjm%20%7Bcolor:%20rgba(0,%200,%200,%200.85);%20display:%20flex;%20box-sizing:%20border-box;%20-webkit-box-align:%20center;%20align-items:%20center;%20height:%2028px;%20position:%20absolute;%20top:%200px;%20left:%200px;%20user-select:%20none;%20font-size:%2012px;%20line-height:%2022px;%20font-weight:%20600;%20border-bottom-width:%202px;%20border-bottom-style:%20solid;%20border-bottom-color:%20rgb(233,%20233,%20233);%20width:%20120px%7D%0A.css-pm742e%20%7Bcursor:%20pointer;%20margin-top:%202px;%20height:%20inherit;%20display:%20flex;%20-webkit-box-align:%20center;%20align-items:%20center;%20font-size:%2010px;%20-webkit-box-pack:%20center;%20justify-content:%20center;%20padding-left:%204px%7D%0A.css-w64vkb-HeaderResizer%20%7Bposition:%20absolute;%20z-index:%201;%20width:%2010px;%20height:%2028px;%20left:%20115px;%20top:%200px;%20cursor:%20col-resize%7D%0A.css-tlxtaa-HeaderResizer%20%7Bposition:%20absolute;%20z-index:%201;%20height:%2010px;%20width:%20120px;%20left:%200px;%20top:%2023px;%20cursor:%20row-resize%7D%0A.css-8r2ljj-PinnedTabularRows%20%7Bposition:%20absolute;%20right:%200px%7D%0A.css-8zvwca-PinnedTabularRows%20%7Bwidth:%202px;%20height:%20140px;%20background-color:%20rgb(233,%20233,%20233)%7D%0A.css-mkoicc-CaptionCellRenderer%20%7Bwidth:%20100%25;%20overflow-x:%20hidden;%20overflow-y:%20hidden;%20text-overflow:%20ellipsis;%20white-space:%20nowrap%7D%0A.css-t881dv-SelectionStatistics%20%7Bheight:%2020px;%20display:%20flex;%20padding-top:%205px;%20opacity:%200;%20transition-duration:%20300ms;%20transition-timing-function:%20ease;%20transition-delay:%200s;%20transition-property:%20opacity;%20position:%20absolute;%20right:%200px;%20left:%20unset%7D%0A.css-1grydqd-UnpinnedTabularHeaders%20%7Boverflow-x:%20hidden;%20overflow-y:%20hidden;%20position:%20relative;%20width:%201509px;%20height:%2028px%7D%0A.css-oegauc-PinnedTabularRows%20%7Bposition:%20absolute;%20height:%20140px;%20width:%20247px;%20overflow-x:%20hidden;%20overflow-y:%20hidden%7D%0A.css-13wr8h5-PinnedTabularRows%20%7Bposition:%20absolute;%20overflow-x:%20hidden;%20overflow-y:%20hidden;%20top:%200px;%20width:%20245px%7D%0A.css-14nkn0z%20%7Bheight:%20100%25;%20box-sizing:%20border-box;%20display:%20flex;%20-webkit-box-pack:%20end;%20justify-content:%20flex-end;%20flex-direction:%20column;%20padding-top:%204px;%20padding-left:%204px;%20padding-right:%204px;%20padding-bottom:%203px;%20overflow-x:%20hidden;%20overflow-y:%20hidden;%20white-space:%20nowrap;%20border-right-width:%201px;%20border-right-style:%20solid;%20border-right-color:%20rgb(233,%20233,%20233);%20border-bottom-width:%20initial;%20border-bottom-style:%20none;%20border-bottom-color:%20initial;%20width:%20245px;%20align-items:%20flex-start%7D%0A.css-9wgx3s%20%7Bheight:%20100%25;%20box-sizing:%20border-box;%20display:%20flex;%20-webkit-box-pack:%20end;%20justify-content:%20flex-end;%20flex-direction:%20column;%20padding-top:%204px;%20padding-left:%204px;%20padding-right:%204px;%20padding-bottom:%203px;%20overflow-x:%20hidden;%20overflow-y:%20hidden;%20white-space:%20nowrap;%20border-right-width:%201px;%20border-right-style:%20solid;%20border-right-color:%20rgb(233,%20233,%20233);%20border-bottom-width:%201px;%20border-bottom-style:%20solid;%20border-bottom-color:%20rgb(233,%20233,%20233);%20width:%20245px;%20align-items:%20flex-start;%20background-color:%20rgb(250,%20250,%20250)%7D%0A.css-1hcmypl-TabularCell%20%7Bheight:%2028px;%20box-sizing:%20border-box;%20display:%20flex;%20-webkit-box-pack:%20end;%20justify-content:%20flex-end;%20flex-direction:%20column;%20padding-top:%204px;%20padding-left:%204px;%20padding-right:%204px;%20padding-bottom:%203px;%20overflow-x:%20hidden;%20overflow-y:%20hidden;%20white-space:%20nowrap;%20border-right-width:%201px;%20border-right-style:%20solid;%20border-right-color:%20rgb(233,%20233,%20233);%20border-bottom-width:%20initial;%20border-bottom-style:%20none;%20border-bottom-color:%20initial;%20width:%20120px;%20background-color:%20rgb(250,%20250,%20250);%20cursor:%20cell;%20user-select:%20none;%20text-align:%20right;%20align-items:%20flex-end%7D%0A.css-qazlap-TabularCell%20%7Bheight:%2028px;%20box-sizing:%20border-box;%20display:%20flex;%20-webkit-box-pack:%20end;%20justify-content:%20flex-end;%20flex-direction:%20column;%20padding-top:%204px;%20padding-left:%204px;%20padding-right:%204px;%20padding-bottom:%203px;%20overflow-x:%20hidden;%20overflow-y:%20hidden;%20white-space:%20nowrap;%20border-right-width:%201px;%20border-right-style:%20solid;%20border-right-color:%20rgb(233,%20233,%20233);%20border-bottom-width:%20initial;%20border-bottom-style:%20none;%20border-bottom-color:%20initial;%20width:%20120px;%20cursor:%20cell;%20user-select:%20none;%20text-align:%20right;%20align-items:%20flex-end%7D%0A.css-m3b6cx-TabularCell%20%7Bheight:%2028px;%20box-sizing:%20border-box;%20display:%20flex;%20-webkit-box-pack:%20end;%20justify-content:%20flex-end;%20flex-direction:%20column;%20padding-top:%204px;%20padding-left:%204px;%20padding-right:%204px;%20padding-bottom:%203px;%20overflow-x:%20hidden;%20overflow-y:%20hidden;%20white-space:%20nowrap;%20border-right-width:%201px;%20border-right-style:%20solid;%20border-right-color:%20rgb(233,%20233,%20233);%20border-bottom-width:%201px;%20border-bottom-style:%20solid;%20border-bottom-color:%20rgb(233,%20233,%20233);%20width:%20120px;%20background-color:%20rgb(250,%20250,%20250);%20cursor:%20cell;%20user-select:%20none;%20text-align:%20right;%20align-items:%20flex-end%7D%0A.css-1tfwdt7-TabularCell%20%7Bheight:%2028px;%20box-sizing:%20border-box;%20display:%20flex;%20-webkit-box-pack:%20end;%20justify-content:%20flex-end;%20flex-direction:%20column;%20padding-top:%204px;%20padding-left:%204px;%20padding-right:%204px;%20padding-bottom:%203px;%20overflow-x:%20hidden;%20overflow-y:%20hidden;%20white-space:%20nowrap;%20border-right-width:%201px;%20border-right-style:%20solid;%20border-right-color:%20rgb(233,%20233,%20233);%20border-bottom-width:%20initial;%20border-bottom-style:%20none;%20border-bottom-color:%20initial;%20width:%20154px;%20background-color:%20rgb(250,%20250,%20250);%20cursor:%20cell;%20user-select:%20none;%20text-align:%20right;%20align-items:%20flex-end%7D%0A.css-nvrdsx-TabularCell%20%7Bheight:%2028px;%20box-sizing:%20border-box;%20display:%20flex;%20-webkit-box-pack:%20end;%20justify-content:%20flex-end;%20flex-direction:%20column;%20padding-top:%204px;%20padding-left:%204px;%20padding-right:%204px;%20padding-bottom:%203px;%20overflow-x:%20hidden;%20overflow-y:%20hidden;%20white-space:%20nowrap;%20border-right-width:%201px;%20border-right-style:%20solid;%20border-right-color:%20rgb(233,%20233,%20233);%20border-bottom-width:%20initial;%20border-bottom-style:%20none;%20border-bottom-color:%20initial;%20width:%20154px;%20cursor:%20cell;%20user-select:%20none;%20text-align:%20right;%20align-items:%20flex-end%7D%0A.css-1gbg0u-TabularCell%20%7Bheight:%2028px;%20box-sizing:%20border-box;%20display:%20flex;%20-webkit-box-pack:%20end;%20justify-content:%20flex-end;%20flex-direction:%20column;%20padding-top:%204px;%20padding-left:%204px;%20padding-right:%204px;%20padding-bottom:%203px;%20overflow-x:%20hidden;%20overflow-y:%20hidden;%20white-space:%20nowrap;%20border-right-width:%201px;%20border-right-style:%20solid;%20border-right-color:%20rgb(233,%20233,%20233);%20border-bottom-width:%201px;%20border-bottom-style:%20solid;%20border-bottom-color:%20rgb(233,%20233,%20233);%20width:%20154px;%20background-color:%20rgb(250,%20250,%20250);%20cursor:%20cell;%20user-select:%20none;%20text-align:%20right;%20align-items:%20flex-end%7D%0A.css-1qxg4yj-Tabular%20%7Bposition:%20relative;%20height:%20100%25;%20width:%201155px%7D%0A.css-1bucy7n-TabularHeaderGroup%20%7Bposition:%20relative;%20width:%20891px%7D%0A.css-uiz1qi%20%7Bcolor:%20rgba(0,%200,%200,%200.85);%20display:%20flex;%20box-sizing:%20border-box;%20-webkit-box-align:%20center;%20align-items:%20center;%20height:%2028px;%20position:%20absolute;%20top:%200px;%20left:%20120px;%20user-select:%20none;%20font-size:%2012px;%20line-height:%2022px;%20font-weight:%20600;%20border-bottom-width:%202px;%20border-bottom-style:%20solid;%20border-bottom-color:%20rgb(233,%20233,%20233);%20width:%20137px%7D%0A.css-odgtnq-HeaderResizer%20%7Bposition:%20absolute;%20z-index:%201;%20width:%2010px;%20height:%2028px;%20left:%20252px;%20top:%200px;%20cursor:%20col-resize%7D%0A.css-x1agrh-HeaderResizer%20%7Bposition:%20absolute;%20z-index:%201;%20height:%2010px;%20width:%20137px;%20left:%20120px;%20top:%2023px;%20cursor:%20row-resize%7D%0A.css-ac6dnv%20%7Bcolor:%20rgba(0,%200,%200,%200.85);%20display:%20flex;%20box-sizing:%20border-box;%20-webkit-box-align:%20center;%20align-items:%20center;%20height:%2028px;%20position:%20absolute;%20top:%200px;%20left:%20257px;%20user-select:%20none;%20font-size:%2012px;%20line-height:%2022px;%20font-weight:%20600;%20border-bottom-width:%202px;%20border-bottom-style:%20solid;%20border-bottom-color:%20rgb(233,%20233,%20233);%20width:%20154px%7D%0A.css-qgs61f-HeaderResizer%20%7Bposition:%20absolute;%20z-index:%201;%20width:%2010px;%20height:%2028px;%20left:%20406px;%20top:%200px;%20cursor:%20col-resize%7D%0A.css-1rl6sqs-HeaderResizer%20%7Bposition:%20absolute;%20z-index:%201;%20height:%2010px;%20width:%20154px;%20left:%20257px;%20top:%2023px;%20cursor:%20row-resize%7D%0A.css-165h8uk%20%7Bcolor:%20rgba(0,%200,%200,%200.85);%20display:%20flex;%20box-sizing:%20border-box;%20-webkit-box-align:%20center;%20align-items:%20center;%20height:%2028px;%20position:%20absolute;%20top:%200px;%20left:%20411px;%20user-select:%20none;%20font-size:%2012px;%20line-height:%2022px;%20font-weight:%20600;%20border-bottom-width:%202px;%20border-bottom-style:%20solid;%20border-bottom-color:%20rgb(233,%20233,%20233);%20width:%20120px%7D%0A.css-1ynbx4s-HeaderResizer%20%7Bposition:%20absolute;%20z-index:%201;%20width:%2010px;%20height:%2028px;%20left:%20526px;%20top:%200px;%20cursor:%20col-resize%7D%0A.css-1guz983-HeaderResizer%20%7Bposition:%20absolute;%20z-index:%201;%20height:%2010px;%20width:%20120px;%20left:%20411px;%20top:%2023px;%20cursor:%20row-resize%7D%0A.css-1l8bmrq%20%7Bcolor:%20rgba(0,%200,%200,%200.85);%20display:%20flex;%20box-sizing:%20border-box;%20-webkit-box-align:%20center;%20align-items:%20center;%20height:%2028px;%20position:%20absolute;%20top:%200px;%20left:%20531px;%20user-select:%20none;%20font-size:%2012px;%20line-height:%2022px;%20font-weight:%20600;%20border-bottom-width:%202px;%20border-bottom-style:%20solid;%20border-bottom-color:%20rgb(233,%20233,%20233);%20width:%20120px%7D%0A.css-17kzs9m-HeaderResizer%20%7Bposition:%20absolute;%20z-index:%201;%20width:%2010px;%20height:%2028px;%20left:%20646px;%20top:%200px;%20cursor:%20col-resize%7D%0A.css-4pb6s8-HeaderResizer%20%7Bposition:%20absolute;%20z-index:%201;%20height:%2010px;%20width:%20120px;%20left:%20531px;%20top:%2023px;%20cursor:%20row-resize%7D%0A.css-1x8ifey%20%7Bcolor:%20rgba(0,%200,%200,%200.85);%20display:%20flex;%20box-sizing:%20border-box;%20-webkit-box-align:%20center;%20align-items:%20center;%20height:%2028px;%20position:%20absolute;%20top:%200px;%20left:%20651px;%20user-select:%20none;%20font-size:%2012px;%20line-height:%2022px;%20font-weight:%20600;%20border-bottom-width:%202px;%20border-bottom-style:%20solid;%20border-bottom-color:%20rgb(233,%20233,%20233);%20width:%20120px%7D%0A.css-1i1j2x2-HeaderResizer%20%7Bposition:%20absolute;%20z-index:%201;%20width:%2010px;%20height:%2028px;%20left:%20766px;%20top:%200px;%20cursor:%20col-resize%7D%0A.css-ii9eac-HeaderResizer%20%7Bposition:%20absolute;%20z-index:%201;%20height:%2010px;%20width:%20120px;%20left:%20651px;%20top:%2023px;%20cursor:%20row-resize%7D%0A.css-1fzo998%20%7Bcolor:%20rgba(0,%200,%200,%200.85);%20display:%20flex;%20box-sizing:%20border-box;%20-webkit-box-align:%20center;%20align-items:%20center;%20height:%2028px;%20position:%20absolute;%20top:%200px;%20left:%20771px;%20user-select:%20none;%20font-size:%2012px;%20line-height:%2022px;%20font-weight:%20600;%20border-bottom-width:%202px;%20border-bottom-style:%20solid;%20border-bottom-color:%20rgb(233,%20233,%20233);%20width:%20120px;%20border-right-width:%201px;%20border-right-style:%20solid;%20border-right-color:%20rgb(233,%20233,%20233)%7D%0A.css-1vu7eh0-HeaderResizer%20%7Bposition:%20absolute;%20z-index:%201;%20width:%2010px;%20height:%2028px;%20left:%20886px;%20top:%200px;%20cursor:%20col-resize%7D%0A.css-cjp39e-HeaderResizer%20%7Bposition:%20absolute;%20z-index:%201;%20height:%2010px;%20width:%20120px;%20left:%20771px;%20top:%2023px;%20cursor:%20row-resize%7D%0A.css-eth0my-TabularBody%20%7Bposition:%20relative;%20overflow-x:%20hidden;%20overflow-y:%20hidden;%20top:%200px;%20width:%201138px;%20height:%20140px%7D%0A.css-jgyvz-UnpinnedTabularRows%20%7Bposition:%20absolute;%20overflow-x:%20hidden;%20overflow-y:%20hidden;%20left:%20247px;%20height:%20140px;%20width:%20891px%7D%0A.css-1vel0w2-TabularCell%20%7Bheight:%2028px;%20box-sizing:%20border-box;%20display:%20flex;%20-webkit-box-pack:%20end;%20justify-content:%20flex-end;%20flex-direction:%20column;%20padding-top:%204px;%20padding-left:%204px;%20padding-right:%204px;%20padding-bottom:%203px;%20overflow-x:%20hidden;%20overflow-y:%20hidden;%20white-space:%20nowrap;%20border-right-width:%201px;%20border-right-style:%20solid;%20border-right-color:%20rgb(233,%20233,%20233);%20border-bottom-width:%20initial;%20border-bottom-style:%20none;%20border-bottom-color:%20initial;%20width:%20137px;%20background-color:%20rgb(250,%20250,%20250);%20cursor:%20cell;%20user-select:%20none;%20text-align:%20right;%20align-items:%20flex-end%7D%0A.css-fpi7mx-TabularCell%20%7Bheight:%2028px;%20box-sizing:%20border-box;%20display:%20flex;%20-webkit-box-pack:%20end;%20justify-content:%20flex-end;%20flex-direction:%20column;%20padding-top:%204px;%20padding-left:%204px;%20padding-right:%204px;%20padding-bottom:%203px;%20overflow-x:%20hidden;%20overflow-y:%20hidden;%20white-space:%20nowrap;%20border-right-width:%201px;%20border-right-style:%20solid;%20border-right-color:%20rgb(233,%20233,%20233);%20border-bottom-width:%20initial;%20border-bottom-style:%20none;%20border-bottom-color:%20initial;%20width:%20137px;%20cursor:%20cell;%20user-select:%20none;%20text-align:%20right;%20align-items:%20flex-end%7D%0A.css-aed1bp-TabularCell%20%7Bheight:%2028px;%20box-sizing:%20border-box;%20display:%20flex;%20-webkit-box-pack:%20end;%20justify-content:%20flex-end;%20flex-direction:%20column;%20padding-top:%204px;%20padding-left:%204px;%20padding-right:%204px;%20padding-bottom:%203px;%20overflow-x:%20hidden;%20overflow-y:%20hidden;%20white-space:%20nowrap;%20border-right-width:%201px;%20border-right-style:%20solid;%20border-right-color:%20rgb(233,%20233,%20233);%20border-bottom-width:%201px;%20border-bottom-style:%20solid;%20border-bottom-color:%20rgb(233,%20233,%20233);%20width:%20137px;%20background-color:%20rgb(250,%20250,%20250);%20cursor:%20cell;%20user-select:%20none;%20text-align:%20right;%20align-items:%20flex-end%7D%0A.ant-root%20html,%20.ant-root%20%7Bwidth:%20100%25;%20height:%20100%25%7D%0A.ant-root%20*,%20.ant-root%20::before,%20.ant-root%20::after%20%7Bbox-sizing:%20border-box%7D%0A.ant-root%20%7Bmargin-top:%200px;%20margin-right:%200px;%20margin-bottom:%200px;%20margin-left:%200px;%20color:%20rgba(0,%200,%200,%200.65);%20font-size:%2014px;%20font-family:%20-apple-system,%20BlinkMacSystemFont,%20%22Segoe%20UI%22,%20%22PingFang%20SC%22,%20%22Hiragino%20Sans%20GB%22,%20%22Microsoft%20YaHei%22,%20%22Helvetica%20Neue%22,%20Helvetica,%20Arial,%20sans-serif,%20%22Apple%20Color%20Emoji%22,%20%22Segoe%20UI%20Emoji%22,%20%22Segoe%20UI%20Symbol%22;%20font-variant-ligatures:%20normal;%20font-variant-numeric:%20tabular-nums;%20font-variant-east-asian:%20normal;%20font-variant-caps:%20normal;%20line-height:%201.5;%20background-color:%20rgb(255,%20255,%20255);%20font-feature-settings:%20%22tnum%22;%20--antd-wave-shadow-color:%20undefined%7D%0A.ant-root%20.ant-typography%20%7Bcolor:%20rgba(0,%200,%200,%200.65)%7D%0A.css-1sxolix-Widget%20%7Bheight:%20100%25%7D%0A.css-1sxolix-Widget%20.ant-root:not(.atoti-widget-chooser)%20%7Bbox-shadow:%20none%7D%3C/style%3E%0A%20%20%20%20%20%20%20%20%3Cdiv%20xmlns=%22http://www.w3.org/1999/xhtml%22%20style=%22height:%20226px;%20width:%201754px%22%3E%0A%20%20%20%20%20%20%20%20%20%20%3Cdiv%20xmlns=%22http://www.w3.org/1999/xhtml%22%20class=%22css-1sxolix-Widget%22%3E%3Cdiv%20class=%22ant-root%20css-xsa55j-dock%22%3E%3Cdiv%20class=%22css-1ibuxvk-DockBody%22%3E%3Cdiv%20class=%22SplitPane%20%20vertical%20disabled%22%20style=%22display:%20flex;%20flex:%201%201%200%25;%20height:%20100%25;%20position:%20relative;%20outline:%20none;%20overflow:%20hidden;%20user-select:%20text;%20flex-direction:%20row;%20left:%200px;%20right:%200px;%22%3E%3Cdiv%20class=%22Pane%20vertical%20Pane1%20%20%22%20style=%22flex:%201%201%200%25;%20position:%20relative;%20outline:%20none;%20display:%20flex;%20background-color:%20rgb(255,%20255,%20255);%22%3E%3Cdiv%20class=%22css-1lrljg1-EditorSplitPane%22%3E%3Cdiv%20class=%22css-15fz3t7-EditorSplitPane%22%3E%3Cdiv%20class=%22css-1k1fxuh-Tabular%22%3E%3Cdiv%20class=%22css-10klw3m%22%3E%3Cdiv%20tabindex=%220%22%20class=%22css-1qxg4yj-Tabular%22%3E%3Cdiv%20class=%22css-192kvjv-Tabular%22%3E%3Cdiv%20class=%22css-mdjjdg-TabularHeader%22%3E%3Cdiv%20class=%22css-12nzxaz-PinnedTabularHeaders%22%3E%3Cdiv%20class=%22css-1nvaeec-TabularHeaderGroup%22%3E%3Cdiv%20class=%22css-9lo9j4%22%3E%3Cdiv%20class=%22css-19w2ip5-TabularHeaderCell%22%3E%3Cspan%20class=%22css-jpazdc-TabularHeaderCell%22%3E%3Cspan%3E%3Cspan%3E%3Cspan%20class=%22css-y3oqqp%22%3EScenario%3C/span%3E%3C/span%3E%3C/span%3E%3C/span%3E%3C/div%3E%3Cdiv%20class=%22css-c7y3a7-TabularHeaderCell%22%3E%3C/div%3E%3C/div%3E%3Cdiv%20class=%22css-b06m8u-HeaderResizer%22%3E%3C/div%3E%3Cdiv%20class=%22css-cn55et-HeaderResizer%22%3E%3C/div%3E%3C/div%3E%3Cdiv%20class=%22css-s4fjko-TabularPinnSeparator%22%3E%3C/div%3E%3C/div%3E%3Cdiv%20class=%22css-1grydqd-UnpinnedTabularHeaders%22%3E%3Cdiv%20class=%22css-5jtkjp-UnpinnedTabularHeaders%22%3E%3Cdiv%20class=%22css-1bucy7n-TabularHeaderGroup%22%3E%3Cdiv%20class=%22css-1q63qjm%22%3E%3Cdiv%20class=%22css-pm742e%22%3E%3C/div%3E%3Cdiv%20class=%22css-19w2ip5-TabularHeaderCell%22%3E%3Cspan%20class=%22css-jpazdc-TabularHeaderCell%22%3E%3Cspan%3EMRR%20Initial%3C/span%3E%3C/span%3E%3C/div%3E%3Cdiv%20class=%22css-c7y3a7-TabularHeaderCell%22%3E%3C/div%3E%3C/div%3E%3Cdiv%20class=%22css-w64vkb-HeaderResizer%22%3E%3C/div%3E%3Cdiv%20class=%22css-tlxtaa-HeaderResizer%22%3E%3C/div%3E%3Cdiv%20class=%22css-uiz1qi%22%3E%3Cdiv%20class=%22css-pm742e%22%3E%3C/div%3E%3Cdiv%20class=%22css-19w2ip5-TabularHeaderCell%22%3E%3Cspan%20class=%22css-jpazdc-TabularHeaderCell%22%3E%3Cspan%3EActual%20Revenue%20Lost%3C/span%3E%3C/span%3E%3C/div%3E%3Cdiv%20class=%22css-c7y3a7-TabularHeaderCell%22%3E%3C/div%3E%3C/div%3E%3Cdiv%20class=%22css-odgtnq-HeaderResizer%22%3E%3C/div%3E%3Cdiv%20class=%22css-x1agrh-HeaderResizer%22%3E%3C/div%3E%3Cdiv%20class=%22css-ac6dnv%22%3E%3Cdiv%20class=%22css-pm742e%22%3E%3C/div%3E%3Cdiv%20class=%22css-19w2ip5-TabularHeaderCell%22%3E%3Cspan%20class=%22css-jpazdc-TabularHeaderCell%22%3E%3Cspan%3EPost%20retention%20revenue%20lost%3C/span%3E%3C/span%3E%3C/div%3E%3Cdiv%20class=%22css-c7y3a7-TabularHeaderCell%22%3E%3C/div%3E%3C/div%3E%3Cdiv%20class=%22css-qgs61f-HeaderResizer%22%3E%3C/div%3E%3Cdiv%20class=%22css-1rl6sqs-HeaderResizer%22%3E%3C/div%3E%3Cdiv%20class=%22css-165h8uk%22%3E%3Cdiv%20class=%22css-pm742e%22%3E%3C/div%3E%3Cdiv%20class=%22css-19w2ip5-TabularHeaderCell%22%3E%3Cspan%20class=%22css-jpazdc-TabularHeaderCell%22%3E%3Cspan%3ERevenue%20Retained%3C/span%3E%3C/span%3E%3C/div%3E%3Cdiv%20class=%22css-c7y3a7-TabularHeaderCell%22%3E%3C/div%3E%3C/div%3E%3Cdiv%20class=%22css-1ynbx4s-HeaderResizer%22%3E%3C/div%3E%3Cdiv%20class=%22css-1guz983-HeaderResizer%22%3E%3C/div%3E%3Cdiv%20class=%22css-1l8bmrq%22%3E%3Cdiv%20class=%22css-pm742e%22%3E%3C/div%3E%3Cdiv%20class=%22css-19w2ip5-TabularHeaderCell%22%3E%3Cspan%20class=%22css-jpazdc-TabularHeaderCell%22%3E%3Cspan%3ENRR%3C/span%3E%3C/span%3E%3C/div%3E%3Cdiv%20class=%22css-c7y3a7-TabularHeaderCell%22%3E%3C/div%3E%3C/div%3E%3Cdiv%20class=%22css-17kzs9m-HeaderResizer%22%3E%3C/div%3E%3Cdiv%20class=%22css-4pb6s8-HeaderResizer%22%3E%3C/div%3E%3Cdiv%20class=%22css-1x8ifey%22%3E%3Cdiv%20class=%22css-pm742e%22%3E%3C/div%3E%3Cdiv%20class=%22css-19w2ip5-TabularHeaderCell%22%3E%3Cspan%20class=%22css-jpazdc-TabularHeaderCell%22%3E%3Cspan%3EPost%20retention%20NRR%3C/span%3E%3C/span%3E%3C/div%3E%3Cdiv%20class=%22css-c7y3a7-TabularHeaderCell%22%3E%3C/div%3E%3C/div%3E%3Cdiv%20class=%22css-1i1j2x2-HeaderResizer%22%3E%3C/div%3E%3Cdiv%20class=%22css-ii9eac-HeaderResizer%22%3E%3C/div%3E%3Cdiv%20class=%22css-1fzo998%22%3E%3Cdiv%20class=%22css-pm742e%22%3E%3C/div%3E%3Cdiv%20class=%22css-19w2ip5-TabularHeaderCell%22%3E%3Cspan%20class=%22css-jpazdc-TabularHeaderCell%22%3E%3Cspan%3EIncrease%20in%20NRR%3C/span%3E%3C/span%3E%3C/div%3E%3Cdiv%20class=%22css-c7y3a7-TabularHeaderCell%22%3E%3C/div%3E%3C/div%3E%3Cdiv%20class=%22css-1vu7eh0-HeaderResizer%22%3E%3C/div%3E%3Cdiv%20class=%22css-cjp39e-HeaderResizer%22%3E%3C/div%3E%3C/div%3E%3C/div%3E%3C/div%3E%3C/div%3E%3Cdiv%20class=%22css-eth0my-TabularBody%22%3E%3Cdiv%20class=%22css-oegauc-PinnedTabularRows%22%3E%3Cdiv%20class=%22css-13wr8h5-PinnedTabularRows%22%3E%3Cdiv%20class=%22css-3cge9w%22%3E%3Cdiv%3E%3Cdiv%20class=%22css-7iaa5h%22%3E%3Cdiv%20class=%22css-9ssj44-TreeCell%22%3E%3Cdiv%20class=%22css-mkrhzq%22%3E%3Cdiv%20class=%22css-1i6gc04%22%3E%3C/div%3E%3Cspan%20class=%22ant-typography%20css-8uhtka%22%20style=%22font-size:%2012px;%20line-height:%2020px;%20font-weight:%20600;%20color:%20rgba(0,%200,%200,%200.85);%22%3EBase%3C/span%3E%3C/div%3E%3C/div%3E%3C/div%3E%3C/div%3E%3C/div%3E%3Cdiv%20class=%22css-3cge9w%22%3E%3Cdiv%3E%3Cdiv%20class=%22css-14nkn0z%22%3E%3Cdiv%20class=%22css-9ssj44-TreeCell%22%3E%3Cdiv%20class=%22css-mkrhzq%22%3E%3Cdiv%20class=%22css-1i6gc04%22%3E%3C/div%3E%3Cspan%20class=%22ant-typography%20css-8uhtka%22%20style=%22font-size:%2012px;%20line-height:%2020px;%20font-weight:%20600;%20color:%20rgba(0,%200,%200,%200.85);%22%3ELogistic%20Regression%20(SMOTE)%20Prediction%3C/span%3E%3C/div%3E%3C/div%3E%3C/div%3E%3C/div%3E%3C/div%3E%3Cdiv%20class=%22css-3cge9w%22%3E%3Cdiv%3E%3Cdiv%20class=%22css-7iaa5h%22%3E%3Cdiv%20class=%22css-9ssj44-TreeCell%22%3E%3Cdiv%20class=%22css-mkrhzq%22%3E%3Cdiv%20class=%22css-1i6gc04%22%3E%3C/div%3E%3Cspan%20class=%22ant-typography%20css-8uhtka%22%20style=%22font-size:%2012px;%20line-height:%2020px;%20font-weight:%20600;%20color:%20rgba(0,%200,%200,%200.85);%22%3ELogistic%20Regression%20Prediction%3C/span%3E%3C/div%3E%3C/div%3E%3C/div%3E%3C/div%3E%3C/div%3E%3Cdiv%20class=%22css-3cge9w%22%3E%3Cdiv%3E%3Cdiv%20class=%22css-14nkn0z%22%3E%3Cdiv%20class=%22css-9ssj44-TreeCell%22%3E%3Cdiv%20class=%22css-mkrhzq%22%3E%3Cdiv%20class=%22css-1i6gc04%22%3E%3C/div%3E%3Cspan%20class=%22ant-typography%20css-8uhtka%22%20style=%22font-size:%2012px;%20line-height:%2020px;%20font-weight:%20600;%20color:%20rgba(0,%200,%200,%200.85);%22%3ENaive%20Bayes%20Prediction%3C/span%3E%3C/div%3E%3C/div%3E%3C/div%3E%3C/div%3E%3C/div%3E%3Cdiv%20class=%22css-3cge9w%22%3E%3Cdiv%3E%3Cdiv%20class=%22css-9wgx3s%22%3E%3Cdiv%20class=%22css-9ssj44-TreeCell%22%3E%3Cdiv%20class=%22css-mkrhzq%22%3E%3Cdiv%20class=%22css-1i6gc04%22%3E%3C/div%3E%3Cspan%20class=%22ant-typography%20css-8uhtka%22%20style=%22font-size:%2012px;%20line-height:%2020px;%20font-weight:%20600;%20color:%20rgba(0,%200,%200,%200.85);%22%3ESVM%20Classifier%20Linear%20Prediction%3C/span%3E%3C/div%3E%3C/div%3E%3C/div%3E%3C/div%3E%3C/div%3E%3C/div%3E%3Cdiv%20class=%22css-8r2ljj-PinnedTabularRows%22%3E%3Cdiv%20class=%22css-8zvwca-PinnedTabularRows%22%3E%3C/div%3E%3C/div%3E%3C/div%3E%3Cdiv%20class=%22css-jgyvz-UnpinnedTabularRows%22%3E%3Cdiv%20class=%22css-1id6sm3-UnpinnedTabularRows%22%3E%3Cdiv%20class=%22css-3cge9w%22%3E%3Cdiv%3E%3Cdiv%20class=%22%20css-1hcmypl-TabularCell%22%3E%3Cspan%20class=%22css-mkoicc-CaptionCellRenderer%22%3E%3Cspan%3E%3Cspan%20class=%22ant-typography%22%20style=%22font-size:%2012px;%20line-height:%2020px;%20font-weight:%20400;%22%3E455,661.00%3C/span%3E%3C/span%3E%3C/span%3E%3C/div%3E%3C/div%3E%3Cdiv%3E%3Cdiv%20class=%22%20css-1vel0w2-TabularCell%22%3E%3Cspan%20class=%22css-mkoicc-CaptionCellRenderer%22%3E%3Cspan%3E%3Cspan%20class=%22ant-typography%22%20style=%22font-size:%2012px;%20line-height:%2020px;%20font-weight:%20400;%22%3E139,130.85%3C/span%3E%3C/span%3E%3C/span%3E%3C/div%3E%3C/div%3E%3Cdiv%3E%3Cdiv%20class=%22%20css-1tfwdt7-TabularCell%22%3E%3Cspan%20class=%22css-mkoicc-CaptionCellRenderer%22%3E%3Cspan%3E%3Cspan%20class=%22ant-typography%22%20style=%22font-size:%2012px;%20line-height:%2020px;%20font-weight:%20400;%22%3E9,392.35%3C/span%3E%3C/span%3E%3C/span%3E%3C/div%3E%3C/div%3E%3Cdiv%3E%3Cdiv%20class=%22%20css-1hcmypl-TabularCell%22%3E%3Cspan%20class=%22css-mkoicc-CaptionCellRenderer%22%3E%3Cspan%3E%3Cspan%20class=%22ant-typography%22%20style=%22font-size:%2012px;%20line-height:%2020px;%20font-weight:%20400;%22%3E129,738.50%3C/span%3E%3C/span%3E%3C/span%3E%3C/div%3E%3C/div%3E%3Cdiv%3E%3Cdiv%20class=%22%20css-1hcmypl-TabularCell%22%3E%3Cspan%20class=%22css-mkoicc-CaptionCellRenderer%22%3E%3Cspan%3E%3Cspan%20class=%22ant-typography%22%20style=%22font-size:%2012px;%20line-height:%2020px;%20font-weight:%20400;%22%3E.695%3C/span%3E%3C/span%3E%3C/span%3E%3C/div%3E%3C/div%3E%3Cdiv%3E%3Cdiv%20class=%22%20css-1hcmypl-TabularCell%22%3E%3Cspan%20class=%22css-mkoicc-CaptionCellRenderer%22%3E%3Cspan%3E%3Cspan%20class=%22ant-typography%22%20style=%22font-size:%2012px;%20line-height:%2020px;%20font-weight:%20400;%22%3E.979%3C/span%3E%3C/span%3E%3C/span%3E%3C/div%3E%3C/div%3E%3Cdiv%3E%3Cdiv%20class=%22%20css-1hcmypl-TabularCell%22%3E%3Cspan%20class=%22css-mkoicc-CaptionCellRenderer%22%3E%3Cspan%3E%3Cspan%20class=%22ant-typography%22%20style=%22font-size:%2012px;%20line-height:%2020px;%20font-weight:%20400;%22%3E.285%3C/span%3E%3C/span%3E%3C/span%3E%3C/div%3E%3C/div%3E%3C/div%3E%3Cdiv%20class=%22css-3cge9w%22%3E%3Cdiv%3E%3Cdiv%20class=%22%20css-qazlap-TabularCell%22%3E%3Cspan%20class=%22css-mkoicc-CaptionCellRenderer%22%3E%3Cspan%3E%3Cspan%20class=%22ant-typography%22%20style=%22font-size:%2012px;%20line-height:%2020px;%20font-weight:%20400;%22%3E455,661.00%3C/span%3E%3C/span%3E%3C/span%3E%3C/div%3E%3C/div%3E%3Cdiv%3E%3Cdiv%20class=%22%20css-fpi7mx-TabularCell%22%3E%3Cspan%20class=%22css-mkoicc-CaptionCellRenderer%22%3E%3Cspan%3E%3Cspan%20class=%22ant-typography%22%20style=%22font-size:%2012px;%20line-height:%2020px;%20font-weight:%20400;%22%3E139,130.85%3C/span%3E%3C/span%3E%3C/span%3E%3C/div%3E%3C/div%3E%3Cdiv%3E%3Cdiv%20class=%22%20css-nvrdsx-TabularCell%22%3E%3Cspan%20class=%22css-mkoicc-CaptionCellRenderer%22%3E%3Cspan%3E%3Cspan%20class=%22ant-typography%22%20style=%22font-size:%2012px;%20line-height:%2020px;%20font-weight:%20400;%22%3E47,361.00%3C/span%3E%3C/span%3E%3C/span%3E%3C/div%3E%3C/div%3E%3Cdiv%3E%3Cdiv%20class=%22%20css-qazlap-TabularCell%22%3E%3Cspan%20class=%22css-mkoicc-CaptionCellRenderer%22%3E%3Cspan%3E%3Cspan%20class=%22ant-typography%22%20style=%22font-size:%2012px;%20line-height:%2020px;%20font-weight:%20400;%22%3E91,769.85%3C/span%3E%3C/span%3E%3C/span%3E%3C/div%3E%3C/div%3E%3Cdiv%3E%3Cdiv%20class=%22%20css-qazlap-TabularCell%22%3E%3Cspan%20class=%22css-mkoicc-CaptionCellRenderer%22%3E%3Cspan%3E%3Cspan%20class=%22ant-typography%22%20style=%22font-size:%2012px;%20line-height:%2020px;%20font-weight:%20400;%22%3E.619%3C/span%3E%3C/span%3E%3C/span%3E%3C/div%3E%3C/div%3E%3Cdiv%3E%3Cdiv%20class=%22%20css-qazlap-TabularCell%22%3E%3Cspan%20class=%22css-mkoicc-CaptionCellRenderer%22%3E%3Cspan%3E%3Cspan%20class=%22ant-typography%22%20style=%22font-size:%2012px;%20line-height:%2020px;%20font-weight:%20400;%22%3E.896%3C/span%3E%3C/span%3E%3C/span%3E%3C/div%3E%3C/div%3E%3Cdiv%3E%3Cdiv%20class=%22%20css-qazlap-TabularCell%22%3E%3Cspan%20class=%22css-mkoicc-CaptionCellRenderer%22%3E%3Cspan%3E%3Cspan%20class=%22ant-typography%22%20style=%22font-size:%2012px;%20line-height:%2020px;%20font-weight:%20400;%22%3E.277%3C/span%3E%3C/span%3E%3C/span%3E%3C/div%3E%3C/div%3E%3C/div%3E%3Cdiv%20class=%22css-3cge9w%22%3E%3Cdiv%3E%3Cdiv%20class=%22%20css-1hcmypl-TabularCell%22%3E%3Cspan%20class=%22css-mkoicc-CaptionCellRenderer%22%3E%3Cspan%3E%3Cspan%20class=%22ant-typography%22%20style=%22font-size:%2012px;%20line-height:%2020px;%20font-weight:%20400;%22%3E455,661.00%3C/span%3E%3C/span%3E%3C/span%3E%3C/div%3E%3C/div%3E%3Cdiv%3E%3Cdiv%20class=%22%20css-1vel0w2-TabularCell%22%3E%3Cspan%20class=%22css-mkoicc-CaptionCellRenderer%22%3E%3Cspan%3E%3Cspan%20class=%22ant-typography%22%20style=%22font-size:%2012px;%20line-height:%2020px;%20font-weight:%20400;%22%3E139,130.85%3C/span%3E%3C/span%3E%3C/span%3E%3C/div%3E%3C/div%3E%3Cdiv%3E%3Cdiv%20class=%22%20css-1tfwdt7-TabularCell%22%3E%3Cspan%20class=%22css-mkoicc-CaptionCellRenderer%22%3E%3Cspan%3E%3Cspan%20class=%22ant-typography%22%20style=%22font-size:%2012px;%20line-height:%2020px;%20font-weight:%20400;%22%3E70,424.20%3C/span%3E%3C/span%3E%3C/span%3E%3C/div%3E%3C/div%3E%3Cdiv%3E%3Cdiv%20class=%22%20css-1hcmypl-TabularCell%22%3E%3Cspan%20class=%22css-mkoicc-CaptionCellRenderer%22%3E%3Cspan%3E%3Cspan%20class=%22ant-typography%22%20style=%22font-size:%2012px;%20line-height:%2020px;%20font-weight:%20400;%22%3E68,706.65%3C/span%3E%3C/span%3E%3C/span%3E%3C/div%3E%3C/div%3E%3Cdiv%3E%3Cdiv%20class=%22%20css-1hcmypl-TabularCell%22%3E%3Cspan%20class=%22css-mkoicc-CaptionCellRenderer%22%3E%3Cspan%3E%3Cspan%20class=%22ant-typography%22%20style=%22font-size:%2012px;%20line-height:%2020px;%20font-weight:%20400;%22%3E.744%3C/span%3E%3C/span%3E%3C/span%3E%3C/div%3E%3C/div%3E%3Cdiv%3E%3Cdiv%20class=%22%20css-1hcmypl-TabularCell%22%3E%3Cspan%20class=%22css-mkoicc-CaptionCellRenderer%22%3E%3Cspan%3E%3Cspan%20class=%22ant-typography%22%20style=%22font-size:%2012px;%20line-height:%2020px;%20font-weight:%20400;%22%3E.845%3C/span%3E%3C/span%3E%3C/span%3E%3C/div%3E%3C/div%3E%3Cdiv%3E%3Cdiv%20class=%22%20css-1hcmypl-TabularCell%22%3E%3Cspan%20class=%22css-mkoicc-CaptionCellRenderer%22%3E%3Cspan%3E%3Cspan%20class=%22ant-typography%22%20style=%22font-size:%2012px;%20line-height:%2020px;%20font-weight:%20400;%22%3E.102%3C/span%3E%3C/span%3E%3C/span%3E%3C/div%3E%3C/div%3E%3C/div%3E%3Cdiv%20class=%22css-3cge9w%22%3E%3Cdiv%3E%3Cdiv%20class=%22%20css-qazlap-TabularCell%22%3E%3Cspan%20class=%22css-mkoicc-CaptionCellRenderer%22%3E%3Cspan%3E%3Cspan%20class=%22ant-typography%22%20style=%22font-size:%2012px;%20line-height:%2020px;%20font-weight:%20400;%22%3E455,661.00%3C/span%3E%3C/span%3E%3C/span%3E%3C/div%3E%3C/div%3E%3Cdiv%3E%3Cdiv%20class=%22%20css-fpi7mx-TabularCell%22%3E%3Cspan%20class=%22css-mkoicc-CaptionCellRenderer%22%3E%3Cspan%3E%3Cspan%20class=%22ant-typography%22%20style=%22font-size:%2012px;%20line-height:%2020px;%20font-weight:%20400;%22%3E139,130.85%3C/span%3E%3C/span%3E%3C/span%3E%3C/div%3E%3C/div%3E%3Cdiv%3E%3Cdiv%20class=%22%20css-nvrdsx-TabularCell%22%3E%3Cspan%20class=%22css-mkoicc-CaptionCellRenderer%22%3E%3Cspan%3E%3Cspan%20class=%22ant-typography%22%20style=%22font-size:%2012px;%20line-height:%2020px;%20font-weight:%20400;%22%3E35,011.50%3C/span%3E%3C/span%3E%3C/span%3E%3C/div%3E%3C/div%3E%3Cdiv%3E%3Cdiv%20class=%22%20css-qazlap-TabularCell%22%3E%3Cspan%20class=%22css-mkoicc-CaptionCellRenderer%22%3E%3Cspan%3E%3Cspan%20class=%22ant-typography%22%20style=%22font-size:%2012px;%20line-height:%2020px;%20font-weight:%20400;%22%3E104,119.35%3C/span%3E%3C/span%3E%3C/span%3E%3C/div%3E%3C/div%3E%3Cdiv%3E%3Cdiv%20class=%22%20css-qazlap-TabularCell%22%3E%3Cspan%20class=%22css-mkoicc-CaptionCellRenderer%22%3E%3Cspan%3E%3Cspan%20class=%22ant-typography%22%20style=%22font-size:%2012px;%20line-height:%2020px;%20font-weight:%20400;%22%3E.542%3C/span%3E%3C/span%3E%3C/span%3E%3C/div%3E%3C/div%3E%3Cdiv%3E%3Cdiv%20class=%22%20css-qazlap-TabularCell%22%3E%3Cspan%20class=%22css-mkoicc-CaptionCellRenderer%22%3E%3Cspan%3E%3Cspan%20class=%22ant-typography%22%20style=%22font-size:%2012px;%20line-height:%2020px;%20font-weight:%20400;%22%3E.923%3C/span%3E%3C/span%3E%3C/span%3E%3C/div%3E%3C/div%3E%3Cdiv%3E%3Cdiv%20class=%22%20css-qazlap-TabularCell%22%3E%3Cspan%20class=%22css-mkoicc-CaptionCellRenderer%22%3E%3Cspan%3E%3Cspan%20class=%22ant-typography%22%20style=%22font-size:%2012px;%20line-height:%2020px;%20font-weight:%20400;%22%3E.381%3C/span%3E%3C/span%3E%3C/span%3E%3C/div%3E%3C/div%3E%3C/div%3E%3Cdiv%20class=%22css-3cge9w%22%3E%3Cdiv%3E%3Cdiv%20class=%22%20css-m3b6cx-TabularCell%22%3E%3Cspan%20class=%22css-mkoicc-CaptionCellRenderer%22%3E%3Cspan%3E%3Cspan%20class=%22ant-typography%22%20style=%22font-size:%2012px;%20line-height:%2020px;%20font-weight:%20400;%22%3E455,661.00%3C/span%3E%3C/span%3E%3C/span%3E%3C/div%3E%3C/div%3E%3Cdiv%3E%3Cdiv%20class=%22%20css-aed1bp-TabularCell%22%3E%3Cspan%20class=%22css-mkoicc-CaptionCellRenderer%22%3E%3Cspan%3E%3Cspan%20class=%22ant-typography%22%20style=%22font-size:%2012px;%20line-height:%2020px;%20font-weight:%20400;%22%3E139,130.85%3C/span%3E%3C/span%3E%3C/span%3E%3C/div%3E%3C/div%3E%3Cdiv%3E%3Cdiv%20class=%22%20css-1gbg0u-TabularCell%22%3E%3Cspan%20class=%22css-mkoicc-CaptionCellRenderer%22%3E%3Cspan%3E%3Cspan%20class=%22ant-typography%22%20style=%22font-size:%2012px;%20line-height:%2020px;%20font-weight:%20400;%22%3E49,710.75%3C/span%3E%3C/span%3E%3C/span%3E%3C/div%3E%3C/div%3E%3Cdiv%3E%3Cdiv%20class=%22%20css-m3b6cx-TabularCell%22%3E%3Cspan%20class=%22css-mkoicc-CaptionCellRenderer%22%3E%3Cspan%3E%3Cspan%20class=%22ant-typography%22%20style=%22font-size:%2012px;%20line-height:%2020px;%20font-weight:%20400;%22%3E89,420.10%3C/span%3E%3C/span%3E%3C/span%3E%3C/div%3E%3C/div%3E%3Cdiv%3E%3Cdiv%20class=%22%20css-m3b6cx-TabularCell%22%3E%3Cspan%20class=%22css-mkoicc-CaptionCellRenderer%22%3E%3Cspan%3E%3Cspan%20class=%22ant-typography%22%20style=%22font-size:%2012px;%20line-height:%2020px;%20font-weight:%20400;%22%3E.630%3C/span%3E%3C/span%3E%3C/span%3E%3C/div%3E%3C/div%3E%3Cdiv%3E%3Cdiv%20class=%22%20css-m3b6cx-TabularCell%22%3E%3Cspan%20class=%22css-mkoicc-CaptionCellRenderer%22%3E%3Cspan%3E%3Cspan%20class=%22ant-typography%22%20style=%22font-size:%2012px;%20line-height:%2020px;%20font-weight:%20400;%22%3E.891%3C/span%3E%3C/span%3E%3C/span%3E%3C/div%3E%3C/div%3E%3Cdiv%3E%3Cdiv%20class=%22%20css-m3b6cx-TabularCell%22%3E%3Cspan%20class=%22css-mkoicc-CaptionCellRenderer%22%3E%3Cspan%3E%3Cspan%20class=%22ant-typography%22%20style=%22font-size:%2012px;%20line-height:%2020px;%20font-weight:%20400;%22%3E.261%3C/span%3E%3C/span%3E%3C/span%3E%3C/div%3E%3C/div%3E%3C/div%3E%3C/div%3E%3C/div%3E%3C/div%3E%3C/div%3E%3Cdiv%20class=%22css-t881dv-SelectionStatistics%22%3E%3C/div%3E%3C/div%3E%3C/div%3E%3C/div%3E%3C/div%3E%3C/div%3E%3C/div%3E%3Cspan%20role=%22presentation%22%20class=%22css-14zuz97%20Resizer%20vertical%20disabled%22%3E%3C/span%3E%3Cdiv%20class=%22Pane%20vertical%20Pane2%20%20%22%20style=%22flex:%200%200%20auto;%20position:%20relative;%20outline:%20none;%20width:%200px;%20display:%20flex;%20background-color:%20rgb(255,%20255,%20255);%20overflow:%20auto;%22%3E%3Cdiv%20class=%22css-1ouk3zc-EditorSplitPane%22%3E%3Cdiv%20class=%22css-1jjvrwi-EditorSplitPane%22%3E%3C/div%3E%3C/div%3E%3C/div%3E%3C/div%3E%3C/div%3E%3C/div%3E%3C/div%3E%0A%20%20%20%20%20%20%20%20%3C/div%3E%0A%20%20%20%20%20%20%3C/foreignObject%3E%0A%20%20%20%20%3C/svg%3E\">"
      ],
      "text/plain": [
       "Open the notebook in JupyterLab with the atoti extension installed and enabled to see this widget."
      ]
     },
     "metadata": {},
     "output_type": "display_data"
    }
   ],
   "source": [
    "cube.visualize(\"NRR after retention effort\")"
   ]
  },
  {
   "cell_type": "markdown",
   "metadata": {},
   "source": [
    "There exists a possibility that a customer has been predicted to churn but in fact, did not. In this case, the retention budget is kind of wasted.  \n",
    "We can see this in _Naive Bayes Prediction_ where it predicted 3,012 customers churning but only 1,508 of these customers actually churned.  \n",
    "\n",
    "Let's see how much of the expense was actually well-spent."
   ]
  },
  {
   "cell_type": "code",
   "execution_count": 40,
   "metadata": {},
   "outputs": [],
   "source": [
    "# the number of $100 spent who had no intention to churn at all, which meant a wrong prediction is made\n",
    "# we need to spend $500 to get replace these customers in order to achieve the 90% NRR\n",
    "m[\"Successful Retention Expense\"] = tt.agg.sum(\n",
    "    tt.where(\n",
    "        (m[\"Forecast expense\"] == 100) & (l[\"Churn\"] == \"Yes\"), m[\"Forecast expense\"], 0\n",
    "    ),\n",
    "    scope=tt.scope.origin(l[\"CustomerID\"]),\n",
    ")"
   ]
  },
  {
   "cell_type": "code",
   "execution_count": 41,
   "metadata": {
    "atoti": {
     "state": {
      "name": "Successful retention with respect to expenses",
      "type": "container",
      "value": {
       "body": {
        "configuration": {
         "mapping": {
          "horizontalSubplots": [],
          "splitBy": [],
          "values": [
           "[Measures].[Forecast expense]",
           "[Measures].[Successful Retention Expense]"
          ],
          "verticalSubplots": [],
          "xAxis": [
           "[Epoch].[Epoch].[Branch]"
          ]
         },
         "switchedTo": "plotly-clustered-column-chart",
         "type": "plotly-line-chart"
        },
        "query": {
         "mdx": "SELECT NON EMPTY {[Measures].[Forecast expense], [Measures].[Successful Retention Expense]} ON COLUMNS, NON EMPTY [Epoch].[Epoch].[Branch].Members ON ROWS FROM [customer_cube] CELL PROPERTIES VALUE, FORMATTED_VALUE, BACK_COLOR, FORE_COLOR, FONT_FLAGS",
         "serverUrl": "",
         "updateMode": "once"
        }
       },
       "containerKey": "chart",
       "showTitleBar": false,
       "style": {}
      }
     }
    }
   },
   "outputs": [
    {
     "data": {
      "application/vnd.atoti.v0+json": {
       "cellSet": {
        "axes": [
         {
          "hierarchies": [
           {
            "dimension": "Measures",
            "hierarchy": "Measures"
           }
          ],
          "id": 0,
          "positions": [
           [
            {
             "captionPath": [
              "Forecast expense"
             ],
             "namePath": [
              "Forecast expense"
             ],
             "properties": {
              "DISPLAY_INFO": 0
             }
            }
           ],
           [
            {
             "captionPath": [
              "Successful Retention Expense"
             ],
             "namePath": [
              "Successful Retention Expense"
             ],
             "properties": {
              "DISPLAY_INFO": 0
             }
            }
           ]
          ]
         },
         {
          "hierarchies": [
           {
            "dimension": "Epoch",
            "hierarchy": "Epoch"
           }
          ],
          "id": 1,
          "positions": [
           [
            {
             "captionPath": [
              "Base"
             ],
             "namePath": [
              "Base"
             ],
             "properties": {
              "DISPLAY_INFO": 0
             }
            }
           ],
           [
            {
             "captionPath": [
              "Logistic Regression (SMOTE) Prediction"
             ],
             "namePath": [
              "Logistic Regression (SMOTE) Prediction"
             ],
             "properties": {
              "DISPLAY_INFO": 0
             }
            }
           ],
           [
            {
             "captionPath": [
              "Logistic Regression Prediction"
             ],
             "namePath": [
              "Logistic Regression Prediction"
             ],
             "properties": {
              "DISPLAY_INFO": 0
             }
            }
           ],
           [
            {
             "captionPath": [
              "Naive Bayes Prediction"
             ],
             "namePath": [
              "Naive Bayes Prediction"
             ],
             "properties": {
              "DISPLAY_INFO": 0
             }
            }
           ],
           [
            {
             "captionPath": [
              "SVM Classifier Linear Prediction"
             ],
             "namePath": [
              "SVM Classifier Linear Prediction"
             ],
             "properties": {
              "DISPLAY_INFO": 0
             }
            }
           ]
          ]
         }
        ],
        "cells": [
         {
          "formattedValue": "125,700",
          "ordinal": 0,
          "properties": {
           "BACK_COLOR": null,
           "FONT_FLAGS": 0,
           "FORE_COLOR": null
          },
          "value": 125700
         },
         {
          "formattedValue": "168,300",
          "ordinal": 1,
          "properties": {
           "BACK_COLOR": null,
           "FONT_FLAGS": 0,
           "FORE_COLOR": null
          },
          "value": 168300
         },
         {
          "formattedValue": "168,900",
          "ordinal": 2,
          "properties": {
           "BACK_COLOR": null,
           "FONT_FLAGS": 0,
           "FORE_COLOR": null
          },
          "value": 168900
         },
         {
          "formattedValue": "112,900",
          "ordinal": 3,
          "properties": {
           "BACK_COLOR": null,
           "FONT_FLAGS": 0,
           "FORE_COLOR": null
          },
          "value": 112900
         },
         {
          "formattedValue": "88,600",
          "ordinal": 4,
          "properties": {
           "BACK_COLOR": null,
           "FONT_FLAGS": 0,
           "FORE_COLOR": null
          },
          "value": 88600
         },
         {
          "formattedValue": "80,500",
          "ordinal": 5,
          "properties": {
           "BACK_COLOR": null,
           "FONT_FLAGS": 0,
           "FORE_COLOR": null
          },
          "value": 80500
         },
         {
          "formattedValue": "235,400",
          "ordinal": 6,
          "properties": {
           "BACK_COLOR": null,
           "FONT_FLAGS": 0,
           "FORE_COLOR": null
          },
          "value": 235400
         },
         {
          "formattedValue": "132,100",
          "ordinal": 7,
          "properties": {
           "BACK_COLOR": null,
           "FONT_FLAGS": 0,
           "FORE_COLOR": null
          },
          "value": 132100
         },
         {
          "formattedValue": "161,100",
          "ordinal": 8,
          "properties": {
           "BACK_COLOR": null,
           "FONT_FLAGS": 0,
           "FORE_COLOR": null
          },
          "value": 161100
         },
         {
          "formattedValue": "109,600",
          "ordinal": 9,
          "properties": {
           "BACK_COLOR": null,
           "FONT_FLAGS": 0,
           "FORE_COLOR": null
          },
          "value": 109600
         }
        ],
        "cube": "customer_cube",
        "defaultMembers": [
         {
          "captionPath": [
           "Count"
          ],
          "dimension": "Measures",
          "hierarchy": "Measures",
          "path": [
           "contributors.COUNT"
          ]
         },
         {
          "captionPath": [
           "Base"
          ],
          "dimension": "Epoch",
          "hierarchy": "Epoch",
          "path": [
           "Base"
          ]
         }
        ],
        "epoch": 1
       },
       "cube": "customer_cube",
       "error": null,
       "name": "Successful retention with respect to expenses",
       "session": "Unnamed"
      },
      "text/html": [
       "<img src=\"data:image/svg+xml;charset=utf8,%3C%3Fxml%20version%3D%221.0%22%20standalone%3D%22no%22%3F%3E%3Csvg%20xmlns%3D%22http%3A%2F%2Fwww.w3.org%2F2000%2Fsvg%22%20xmlns%3Axlink%3D%22http%3A%2F%2Fwww.w3.org%2F1999%2Fxlink%22%20viewBox%3D%220%200%201754%20360%22%3E%3Cdefs%20id%3D%22defs-d3dc7a%22%3E%3Cg%20class%3D%22clips%22%3E%3CclipPath%20id%3D%22clipd3dc7axyplot%22%20class%3D%22plotclip%22%3E%3Crect%20width%3D%221436%22%20height%3D%22250%22%2F%3E%3C%2FclipPath%3E%3CclipPath%20class%3D%22axesclip%22%20id%3D%22clipd3dc7ax%22%3E%3Crect%20x%3D%2280%22%20y%3D%220%22%20width%3D%221436%22%20height%3D%22360%22%2F%3E%3C%2FclipPath%3E%3CclipPath%20class%3D%22axesclip%22%20id%3D%22clipd3dc7ay%22%3E%3Crect%20x%3D%220%22%20y%3D%2230%22%20width%3D%221754%22%20height%3D%22250%22%2F%3E%3C%2FclipPath%3E%3CclipPath%20class%3D%22axesclip%22%20id%3D%22clipd3dc7axy%22%3E%3Crect%20x%3D%2280%22%20y%3D%2230%22%20width%3D%221436%22%20height%3D%22250%22%2F%3E%3C%2FclipPath%3E%3C%2Fg%3E%3Cg%20class%3D%22gradients%22%2F%3E%3C%2Fdefs%3E%3Cg%20class%3D%22bglayer%22%2F%3E%3Cg%20class%3D%22draglayer%20cursor-crosshair%22%3E%3Cg%20class%3D%22xy%22%3E%3Crect%20class%3D%22nsewdrag%20drag%22%20data-subplot%3D%22xy%22%20x%3D%2280%22%20y%3D%2230%22%20width%3D%221436%22%20height%3D%22250%22%20style%3D%22fill%3A%20transparent%3B%20stroke-width%3A%200%3B%20pointer-events%3A%20all%3B%22%2F%3E%3Crect%20class%3D%22nwdrag%20drag%20cursor-nw-resize%22%20data-subplot%3D%22xy%22%20x%3D%2260%22%20y%3D%2210%22%20width%3D%2220%22%20height%3D%2220%22%20style%3D%22fill%3A%20transparent%3B%20stroke-width%3A%200%3B%20pointer-events%3A%20all%3B%22%2F%3E%3Crect%20class%3D%22nedrag%20drag%20cursor-ne-resize%22%20data-subplot%3D%22xy%22%20x%3D%221516%22%20y%3D%2210%22%20width%3D%2220%22%20height%3D%2220%22%20style%3D%22fill%3A%20transparent%3B%20stroke-width%3A%200%3B%20pointer-events%3A%20all%3B%22%2F%3E%3Crect%20class%3D%22swdrag%20drag%20cursor-sw-resize%22%20data-subplot%3D%22xy%22%20x%3D%2260%22%20y%3D%22280%22%20width%3D%2220%22%20height%3D%2220%22%20style%3D%22fill%3A%20transparent%3B%20stroke-width%3A%200%3B%20pointer-events%3A%20all%3B%22%2F%3E%3Crect%20class%3D%22sedrag%20drag%20cursor-se-resize%22%20data-subplot%3D%22xy%22%20x%3D%221516%22%20y%3D%22280%22%20width%3D%2220%22%20height%3D%2220%22%20style%3D%22fill%3A%20transparent%3B%20stroke-width%3A%200%3B%20pointer-events%3A%20all%3B%22%2F%3E%3Crect%20class%3D%22ewdrag%20drag%20cursor-ew-resize%22%20data-subplot%3D%22xy%22%20x%3D%22223.6%22%20y%3D%22280.5%22%20width%3D%221148.8%22%20height%3D%2220%22%20style%3D%22fill%3A%20transparent%3B%20stroke-width%3A%200%3B%20pointer-events%3A%20all%3B%22%2F%3E%3Crect%20class%3D%22wdrag%20drag%20cursor-w-resize%22%20data-subplot%3D%22xy%22%20x%3D%2280%22%20y%3D%22280.5%22%20width%3D%22143.6%22%20height%3D%2220%22%20style%3D%22fill%3A%20transparent%3B%20stroke-width%3A%200%3B%20pointer-events%3A%20all%3B%22%2F%3E%3Crect%20class%3D%22edrag%20drag%20cursor-e-resize%22%20data-subplot%3D%22xy%22%20x%3D%221372.4%22%20y%3D%22280.5%22%20width%3D%22143.6%22%20height%3D%2220%22%20style%3D%22fill%3A%20transparent%3B%20stroke-width%3A%200%3B%20pointer-events%3A%20all%3B%22%2F%3E%3Crect%20class%3D%22nsdrag%20drag%20cursor-ns-resize%22%20data-subplot%3D%22xy%22%20x%3D%2259.5%22%20y%3D%2255%22%20width%3D%2220%22%20height%3D%22200%22%20style%3D%22fill%3A%20transparent%3B%20stroke-width%3A%200%3B%20pointer-events%3A%20all%3B%22%2F%3E%3Crect%20class%3D%22sdrag%20drag%20cursor-s-resize%22%20data-subplot%3D%22xy%22%20x%3D%2259.5%22%20y%3D%22255%22%20width%3D%2220%22%20height%3D%2225%22%20style%3D%22fill%3A%20transparent%3B%20stroke-width%3A%200%3B%20pointer-events%3A%20all%3B%22%2F%3E%3Crect%20class%3D%22ndrag%20drag%20cursor-n-resize%22%20data-subplot%3D%22xy%22%20x%3D%2259.5%22%20y%3D%2230%22%20width%3D%2220%22%20height%3D%2225%22%20style%3D%22fill%3A%20transparent%3B%20stroke-width%3A%200%3B%20pointer-events%3A%20all%3B%22%2F%3E%3C%2Fg%3E%3C%2Fg%3E%3Cg%20class%3D%22layer-below%22%3E%3Cg%20class%3D%22imagelayer%22%2F%3E%3Cg%20class%3D%22shapelayer%22%2F%3E%3C%2Fg%3E%3Cg%20class%3D%22cartesianlayer%22%3E%3Cg%20class%3D%22subplot%20xy%22%3E%3Cg%20class%3D%22layer-subplot%22%3E%3Cg%20class%3D%22shapelayer%22%2F%3E%3Cg%20class%3D%22imagelayer%22%2F%3E%3C%2Fg%3E%3Cg%20class%3D%22gridlayer%22%3E%3Cg%20class%3D%22x%22%3E%3Cpath%20class%3D%22xgrid%20crisp%22%20transform%3D%22translate(223.6%2C0)%22%20d%3D%22M0%2C30v250%22%20style%3D%22stroke%3A%20rgb(0%2C%200%2C%200)%3B%20stroke-opacity%3A%200%3B%20stroke-width%3A%201px%3B%22%2F%3E%3Cpath%20class%3D%22xgrid%20crisp%22%20transform%3D%22translate(510.8%2C0)%22%20d%3D%22M0%2C30v250%22%20style%3D%22stroke%3A%20rgb(0%2C%200%2C%200)%3B%20stroke-opacity%3A%200%3B%20stroke-width%3A%201px%3B%22%2F%3E%3Cpath%20class%3D%22xgrid%20crisp%22%20transform%3D%22translate(798%2C0)%22%20d%3D%22M0%2C30v250%22%20style%3D%22stroke%3A%20rgb(0%2C%200%2C%200)%3B%20stroke-opacity%3A%200%3B%20stroke-width%3A%201px%3B%22%2F%3E%3Cpath%20class%3D%22xgrid%20crisp%22%20transform%3D%22translate(1085.2%2C0)%22%20d%3D%22M0%2C30v250%22%20style%3D%22stroke%3A%20rgb(0%2C%200%2C%200)%3B%20stroke-opacity%3A%200%3B%20stroke-width%3A%201px%3B%22%2F%3E%3Cpath%20class%3D%22xgrid%20crisp%22%20transform%3D%22translate(1372.4%2C0)%22%20d%3D%22M0%2C30v250%22%20style%3D%22stroke%3A%20rgb(0%2C%200%2C%200)%3B%20stroke-opacity%3A%200%3B%20stroke-width%3A%201px%3B%22%2F%3E%3C%2Fg%3E%3Cg%20class%3D%22y%22%3E%3Cpath%20class%3D%22ygrid%20crisp%22%20transform%3D%22translate(0%2C229.55)%22%20d%3D%22M80%2C0h1436%22%20style%3D%22stroke%3A%20rgb(0%2C%200%2C%200)%3B%20stroke-opacity%3A%200.1625%3B%20stroke-width%3A%201px%3B%22%2F%3E%3Cpath%20class%3D%22ygrid%20crisp%22%20transform%3D%22translate(0%2C179.11)%22%20d%3D%22M80%2C0h1436%22%20style%3D%22stroke%3A%20rgb(0%2C%200%2C%200)%3B%20stroke-opacity%3A%200.1625%3B%20stroke-width%3A%201px%3B%22%2F%3E%3Cpath%20class%3D%22ygrid%20crisp%22%20transform%3D%22translate(0%2C128.66)%22%20d%3D%22M80%2C0h1436%22%20style%3D%22stroke%3A%20rgb(0%2C%200%2C%200)%3B%20stroke-opacity%3A%200.1625%3B%20stroke-width%3A%201px%3B%22%2F%3E%3Cpath%20class%3D%22ygrid%20crisp%22%20transform%3D%22translate(0%2C78.22)%22%20d%3D%22M80%2C0h1436%22%20style%3D%22stroke%3A%20rgb(0%2C%200%2C%200)%3B%20stroke-opacity%3A%200.1625%3B%20stroke-width%3A%201px%3B%22%2F%3E%3C%2Fg%3E%3C%2Fg%3E%3Cg%20class%3D%22zerolinelayer%22%3E%3Cpath%20class%3D%22yzl%20zl%20crisp%22%20transform%3D%22translate(0%2C280)%22%20d%3D%22M80%2C0h1436%22%20style%3D%22stroke%3A%20rgb(0%2C%200%2C%200)%3B%20stroke-opacity%3A%200.325%3B%20stroke-width%3A%201px%3B%22%2F%3E%3C%2Fg%3E%3Cpath%20class%3D%22xlines-below%22%2F%3E%3Cpath%20class%3D%22ylines-below%22%2F%3E%3Cg%20class%3D%22overlines-below%22%2F%3E%3Cg%20class%3D%22xaxislayer-below%22%2F%3E%3Cg%20class%3D%22yaxislayer-below%22%2F%3E%3Cg%20class%3D%22overaxes-below%22%2F%3E%3Cg%20class%3D%22plot%22%20transform%3D%22translate(80%2C%2030)%22%20clip-path%3D%22url('%23clipd3dc7axyplot')%22%3E%3Cg%20class%3D%22barlayer%20mlayer%22%3E%3Cg%20class%3D%22trace%20bars%22%20style%3D%22opacity%3A%201%3B%22%3E%3Cg%20class%3D%22points%22%3E%3Cg%20class%3D%22point%22%3E%3Cpath%20d%3D%22M28.72%2C250V123.18H143.6V250Z%22%20style%3D%22vector-effect%3A%20non-scaling-stroke%3B%20opacity%3A%201%3B%20stroke-width%3A%200px%3B%20fill%3A%20rgb(78%2C%20121%2C%20167)%3B%20fill-opacity%3A%201%3B%22%2F%3E%3C%2Fg%3E%3Cg%20class%3D%22point%22%3E%3Cpath%20d%3D%22M315.92%2C250V79.59H430.8V250Z%22%20style%3D%22vector-effect%3A%20non-scaling-stroke%3B%20opacity%3A%201%3B%20stroke-width%3A%200px%3B%20fill%3A%20rgb(78%2C%20121%2C%20167)%3B%20fill-opacity%3A%201%3B%22%2F%3E%3C%2Fg%3E%3Cg%20class%3D%22point%22%3E%3Cpath%20d%3D%22M603.12%2C250V160.61H718V250Z%22%20style%3D%22vector-effect%3A%20non-scaling-stroke%3B%20opacity%3A%201%3B%20stroke-width%3A%200px%3B%20fill%3A%20rgb(78%2C%20121%2C%20167)%3B%20fill-opacity%3A%201%3B%22%2F%3E%3C%2Fg%3E%3Cg%20class%3D%22point%22%3E%3Cpath%20d%3D%22M890.32%2C250V12.5H1005.2V250Z%22%20style%3D%22vector-effect%3A%20non-scaling-stroke%3B%20opacity%3A%201%3B%20stroke-width%3A%200px%3B%20fill%3A%20rgb(78%2C%20121%2C%20167)%3B%20fill-opacity%3A%201%3B%22%2F%3E%3C%2Fg%3E%3Cg%20class%3D%22point%22%3E%3Cpath%20d%3D%22M1177.52%2C250V87.46H1292.4V250Z%22%20style%3D%22vector-effect%3A%20non-scaling-stroke%3B%20opacity%3A%201%3B%20stroke-width%3A%200px%3B%20fill%3A%20rgb(78%2C%20121%2C%20167)%3B%20fill-opacity%3A%201%3B%22%2F%3E%3C%2Fg%3E%3C%2Fg%3E%3C%2Fg%3E%3Cg%20class%3D%22trace%20bars%22%20style%3D%22opacity%3A%201%3B%22%3E%3Cg%20class%3D%22points%22%3E%3Cg%20class%3D%22point%22%3E%3Cpath%20d%3D%22M143.6%2C250V80.2H258.48V250Z%22%20style%3D%22vector-effect%3A%20non-scaling-stroke%3B%20opacity%3A%201%3B%20stroke-width%3A%200px%3B%20fill%3A%20rgb(242%2C%20142%2C%2044)%3B%20fill-opacity%3A%201%3B%22%2F%3E%3C%2Fg%3E%3Cg%20class%3D%22point%22%3E%3Cpath%20d%3D%22M430.8%2C250V136.09H545.68V250Z%22%20style%3D%22vector-effect%3A%20non-scaling-stroke%3B%20opacity%3A%201%3B%20stroke-width%3A%200px%3B%20fill%3A%20rgb(242%2C%20142%2C%2044)%3B%20fill-opacity%3A%201%3B%22%2F%3E%3C%2Fg%3E%3Cg%20class%3D%22point%22%3E%3Cpath%20d%3D%22M718%2C250V168.78H832.88V250Z%22%20style%3D%22vector-effect%3A%20non-scaling-stroke%3B%20opacity%3A%201%3B%20stroke-width%3A%200px%3B%20fill%3A%20rgb(242%2C%20142%2C%2044)%3B%20fill-opacity%3A%201%3B%22%2F%3E%3C%2Fg%3E%3Cg%20class%3D%22point%22%3E%3Cpath%20d%3D%22M1005.2%2C250V116.72H1120.08V250Z%22%20style%3D%22vector-effect%3A%20non-scaling-stroke%3B%20opacity%3A%201%3B%20stroke-width%3A%200px%3B%20fill%3A%20rgb(242%2C%20142%2C%2044)%3B%20fill-opacity%3A%201%3B%22%2F%3E%3C%2Fg%3E%3Cg%20class%3D%22point%22%3E%3Cpath%20d%3D%22M1292.4%2C250V139.42H1407.28V250Z%22%20style%3D%22vector-effect%3A%20non-scaling-stroke%3B%20opacity%3A%201%3B%20stroke-width%3A%200px%3B%20fill%3A%20rgb(242%2C%20142%2C%2044)%3B%20fill-opacity%3A%201%3B%22%2F%3E%3C%2Fg%3E%3C%2Fg%3E%3C%2Fg%3E%3C%2Fg%3E%3C%2Fg%3E%3Cg%20class%3D%22overplot%22%2F%3E%3Cpath%20class%3D%22xlines-above%20crisp%22%20d%3D%22M79%2C280.5H1516%22%20style%3D%22fill%3A%20none%3B%20stroke-width%3A%201px%3B%20stroke%3A%20rgb(0%2C%200%2C%200)%3B%20stroke-opacity%3A%200.1625%3B%22%2F%3E%3Cpath%20class%3D%22ylines-above%20crisp%22%20d%3D%22M79.5%2C30V280%22%20style%3D%22fill%3A%20none%3B%20stroke-width%3A%201px%3B%20stroke%3A%20rgb(0%2C%200%2C%200)%3B%20stroke-opacity%3A%200.1625%3B%22%2F%3E%3Cg%20class%3D%22overlines-above%22%2F%3E%3Cg%20class%3D%22xaxislayer-above%22%3E%3Cg%20class%3D%22xtick%22%3E%3Ctext%20text-anchor%3D%22middle%22%20x%3D%220%22%20y%3D%22295.4%22%20data-unformatted%3D%22Base%22%20data-math%3D%22N%22%20transform%3D%22translate(223.6%2C0)%22%20style%3D%22font-family%3A%20%26quot%3BOpen%20Sans%26quot%3B%2C%20verdana%2C%20arial%2C%20sans-serif%3B%20font-size%3A%2012px%3B%20fill%3A%20rgb(0%2C%200%2C%200)%3B%20fill-opacity%3A%200.65%3B%20white-space%3A%20pre%3B%22%3EBase%3C%2Ftext%3E%3C%2Fg%3E%3Cg%20class%3D%22xtick%22%3E%3Ctext%20text-anchor%3D%22middle%22%20x%3D%220%22%20y%3D%22295.4%22%20data-unformatted%3D%22Logistic%20Regression%20(SMOTE)%20Prediction%22%20data-math%3D%22N%22%20transform%3D%22translate(510.8%2C0)%22%20style%3D%22font-family%3A%20%26quot%3BOpen%20Sans%26quot%3B%2C%20verdana%2C%20arial%2C%20sans-serif%3B%20font-size%3A%2012px%3B%20fill%3A%20rgb(0%2C%200%2C%200)%3B%20fill-opacity%3A%200.65%3B%20white-space%3A%20pre%3B%22%3ELogistic%20Regression%20(SMOTE)%20Prediction%3C%2Ftext%3E%3C%2Fg%3E%3Cg%20class%3D%22xtick%22%3E%3Ctext%20text-anchor%3D%22middle%22%20x%3D%220%22%20y%3D%22295.4%22%20data-unformatted%3D%22Logistic%20Regression%20Prediction%22%20data-math%3D%22N%22%20transform%3D%22translate(798%2C0)%22%20style%3D%22font-family%3A%20%26quot%3BOpen%20Sans%26quot%3B%2C%20verdana%2C%20arial%2C%20sans-serif%3B%20font-size%3A%2012px%3B%20fill%3A%20rgb(0%2C%200%2C%200)%3B%20fill-opacity%3A%200.65%3B%20white-space%3A%20pre%3B%22%3ELogistic%20Regression%20Prediction%3C%2Ftext%3E%3C%2Fg%3E%3Cg%20class%3D%22xtick%22%3E%3Ctext%20text-anchor%3D%22middle%22%20x%3D%220%22%20y%3D%22295.4%22%20data-unformatted%3D%22Naive%20Bayes%20Prediction%22%20data-math%3D%22N%22%20transform%3D%22translate(1085.2%2C0)%22%20style%3D%22font-family%3A%20%26quot%3BOpen%20Sans%26quot%3B%2C%20verdana%2C%20arial%2C%20sans-serif%3B%20font-size%3A%2012px%3B%20fill%3A%20rgb(0%2C%200%2C%200)%3B%20fill-opacity%3A%200.65%3B%20white-space%3A%20pre%3B%22%3ENaive%20Bayes%20Prediction%3C%2Ftext%3E%3C%2Fg%3E%3Cg%20class%3D%22xtick%22%3E%3Ctext%20text-anchor%3D%22middle%22%20x%3D%220%22%20y%3D%22295.4%22%20data-unformatted%3D%22SVM%20Classifier%20Linear%20Prediction%22%20data-math%3D%22N%22%20transform%3D%22translate(1372.4%2C0)%22%20style%3D%22font-family%3A%20%26quot%3BOpen%20Sans%26quot%3B%2C%20verdana%2C%20arial%2C%20sans-serif%3B%20font-size%3A%2012px%3B%20fill%3A%20rgb(0%2C%200%2C%200)%3B%20fill-opacity%3A%200.65%3B%20white-space%3A%20pre%3B%22%3ESVM%20Classifier%20Linear%20Prediction%3C%2Ftext%3E%3C%2Fg%3E%3C%2Fg%3E%3Cg%20class%3D%22yaxislayer-above%22%3E%3Cg%20class%3D%22ytick%22%3E%3Ctext%20text-anchor%3D%22end%22%20x%3D%2276.6%22%20y%3D%224.199999999999999%22%20data-unformatted%3D%220%22%20data-math%3D%22N%22%20transform%3D%22translate(0%2C280)%22%20style%3D%22font-family%3A%20%26quot%3BOpen%20Sans%26quot%3B%2C%20verdana%2C%20arial%2C%20sans-serif%3B%20font-size%3A%2012px%3B%20fill%3A%20rgb(0%2C%200%2C%200)%3B%20fill-opacity%3A%200.65%3B%20white-space%3A%20pre%3B%22%3E0%3C%2Ftext%3E%3C%2Fg%3E%3Cg%20class%3D%22ytick%22%3E%3Ctext%20text-anchor%3D%22end%22%20x%3D%2276.6%22%20y%3D%224.199999999999999%22%20data-unformatted%3D%2250k%22%20data-math%3D%22N%22%20transform%3D%22translate(0%2C229.55)%22%20style%3D%22font-family%3A%20%26quot%3BOpen%20Sans%26quot%3B%2C%20verdana%2C%20arial%2C%20sans-serif%3B%20font-size%3A%2012px%3B%20fill%3A%20rgb(0%2C%200%2C%200)%3B%20fill-opacity%3A%200.65%3B%20white-space%3A%20pre%3B%22%3E50k%3C%2Ftext%3E%3C%2Fg%3E%3Cg%20class%3D%22ytick%22%3E%3Ctext%20text-anchor%3D%22end%22%20x%3D%2276.6%22%20y%3D%224.199999999999999%22%20data-unformatted%3D%22100k%22%20data-math%3D%22N%22%20transform%3D%22translate(0%2C179.11)%22%20style%3D%22font-family%3A%20%26quot%3BOpen%20Sans%26quot%3B%2C%20verdana%2C%20arial%2C%20sans-serif%3B%20font-size%3A%2012px%3B%20fill%3A%20rgb(0%2C%200%2C%200)%3B%20fill-opacity%3A%200.65%3B%20white-space%3A%20pre%3B%22%3E100k%3C%2Ftext%3E%3C%2Fg%3E%3Cg%20class%3D%22ytick%22%3E%3Ctext%20text-anchor%3D%22end%22%20x%3D%2276.6%22%20y%3D%224.199999999999999%22%20data-unformatted%3D%22150k%22%20data-math%3D%22N%22%20transform%3D%22translate(0%2C128.66)%22%20style%3D%22font-family%3A%20%26quot%3BOpen%20Sans%26quot%3B%2C%20verdana%2C%20arial%2C%20sans-serif%3B%20font-size%3A%2012px%3B%20fill%3A%20rgb(0%2C%200%2C%200)%3B%20fill-opacity%3A%200.65%3B%20white-space%3A%20pre%3B%22%3E150k%3C%2Ftext%3E%3C%2Fg%3E%3Cg%20class%3D%22ytick%22%3E%3Ctext%20text-anchor%3D%22end%22%20x%3D%2276.6%22%20y%3D%224.199999999999999%22%20data-unformatted%3D%22200k%22%20data-math%3D%22N%22%20transform%3D%22translate(0%2C78.22)%22%20style%3D%22font-family%3A%20%26quot%3BOpen%20Sans%26quot%3B%2C%20verdana%2C%20arial%2C%20sans-serif%3B%20font-size%3A%2012px%3B%20fill%3A%20rgb(0%2C%200%2C%200)%3B%20fill-opacity%3A%200.65%3B%20white-space%3A%20pre%3B%22%3E200k%3C%2Ftext%3E%3C%2Fg%3E%3C%2Fg%3E%3Cg%20class%3D%22overaxes-above%22%2F%3E%3C%2Fg%3E%3C%2Fg%3E%3Cg%20class%3D%22polarlayer%22%2F%3E%3Cg%20class%3D%22ternarylayer%22%2F%3E%3Cg%20class%3D%22geolayer%22%2F%3E%3Cg%20class%3D%22funnelarealayer%22%2F%3E%3Cg%20class%3D%22pielayer%22%2F%3E%3Cg%20class%3D%22treemaplayer%22%2F%3E%3Cg%20class%3D%22sunburstlayer%22%2F%3E%3Cg%20class%3D%22glimages%22%2F%3E%3Cdefs%20id%3D%22topdefs-d3dc7a%22%3E%3Cg%20class%3D%22clips%22%2F%3E%3CclipPath%20id%3D%22legendd3dc7a%22%3E%3Crect%20width%3D%22209%22%20height%3D%2258%22%20x%3D%220%22%20y%3D%220%22%2F%3E%3C%2FclipPath%3E%3C%2Fdefs%3E%3Cg%20class%3D%22indicatorlayer%22%2F%3E%3Cg%20class%3D%22layer-above%22%3E%3Cg%20class%3D%22imagelayer%22%2F%3E%3Cg%20class%3D%22shapelayer%22%2F%3E%3C%2Fg%3E%3Cg%20class%3D%22infolayer%22%3E%3Cg%20class%3D%22legend%22%20pointer-events%3D%22all%22%20transform%3D%22translate(1544.72%2C%2030)%22%3E%3Crect%20class%3D%22bg%22%20shape-rendering%3D%22crispEdges%22%20style%3D%22stroke%3A%20rgb(68%2C%2068%2C%2068)%3B%20stroke-opacity%3A%201%3B%20fill%3A%20rgb(255%2C%20255%2C%20255)%3B%20fill-opacity%3A%201%3B%20stroke-width%3A%200px%3B%22%20width%3D%22209%22%20height%3D%2258%22%20x%3D%220%22%20y%3D%220%22%2F%3E%3Cg%20class%3D%22scrollbox%22%20transform%3D%22translate(0%2C%200)%22%20clip-path%3D%22url('%23legendd3dc7a')%22%3E%3Cg%20class%3D%22groups%22%20transform%3D%22translate(0%2C%200)%22%3E%3Cg%20class%3D%22traces%22%20transform%3D%22translate(0%2C%2014.5)%22%20style%3D%22opacity%3A%201%3B%22%3E%3Ctext%20class%3D%22legendtext%20user-select-none%22%20text-anchor%3D%22start%22%20x%3D%2240%22%20y%3D%224.680000000000001%22%20data-unformatted%3D%22Forecast%20expense%22%20data-math%3D%22N%22%20style%3D%22font-family%3A%20%26quot%3BOpen%20Sans%26quot%3B%2C%20verdana%2C%20arial%2C%20sans-serif%3B%20font-size%3A%2012px%3B%20fill%3A%20rgb(0%2C%200%2C%200)%3B%20fill-opacity%3A%200.65%3B%20white-space%3A%20pre%3B%22%3EForecast%20expense%3C%2Ftext%3E%3Cg%20class%3D%22layers%22%20style%3D%22opacity%3A%201%3B%22%3E%3Cg%20class%3D%22legendfill%22%2F%3E%3Cg%20class%3D%22legendlines%22%2F%3E%3Cg%20class%3D%22legendsymbols%22%3E%3Cg%20class%3D%22legendpoints%22%3E%3Cpath%20class%3D%22legendundefined%22%20d%3D%22M6%2C6H-6V-6H6Z%22%20transform%3D%22translate(20%2C0)%22%20style%3D%22stroke-width%3A%200px%3B%20fill%3A%20rgb(78%2C%20121%2C%20167)%3B%20fill-opacity%3A%201%3B%22%2F%3E%3C%2Fg%3E%3C%2Fg%3E%3C%2Fg%3E%3Crect%20class%3D%22legendtoggle%22%20pointer-events%3D%22all%22%20x%3D%220%22%20y%3D%22-9.5%22%20width%3D%22203.09375%22%20height%3D%2219%22%20style%3D%22cursor%3A%20pointer%3B%20fill%3A%20rgb(0%2C%200%2C%200)%3B%20fill-opacity%3A%200%3B%22%2F%3E%3C%2Fg%3E%3C%2Fg%3E%3Cg%20class%3D%22groups%22%20transform%3D%22translate(0%2C%2010)%22%3E%3Cg%20class%3D%22traces%22%20transform%3D%22translate(0%2C%2033.5)%22%20style%3D%22opacity%3A%201%3B%22%3E%3Ctext%20class%3D%22legendtext%20user-select-none%22%20text-anchor%3D%22start%22%20x%3D%2240%22%20y%3D%224.680000000000001%22%20data-unformatted%3D%22Successful%20Retention%20Expense%22%20data-math%3D%22N%22%20style%3D%22font-family%3A%20%26quot%3BOpen%20Sans%26quot%3B%2C%20verdana%2C%20arial%2C%20sans-serif%3B%20font-size%3A%2012px%3B%20fill%3A%20rgb(0%2C%200%2C%200)%3B%20fill-opacity%3A%200.65%3B%20white-space%3A%20pre%3B%22%3ESuccessful%20Retention%20Expense%3C%2Ftext%3E%3Cg%20class%3D%22layers%22%20style%3D%22opacity%3A%201%3B%22%3E%3Cg%20class%3D%22legendfill%22%2F%3E%3Cg%20class%3D%22legendlines%22%2F%3E%3Cg%20class%3D%22legendsymbols%22%3E%3Cg%20class%3D%22legendpoints%22%3E%3Cpath%20class%3D%22legendundefined%22%20d%3D%22M6%2C6H-6V-6H6Z%22%20transform%3D%22translate(20%2C0)%22%20style%3D%22stroke-width%3A%200px%3B%20fill%3A%20rgb(242%2C%20142%2C%2044)%3B%20fill-opacity%3A%201%3B%22%2F%3E%3C%2Fg%3E%3C%2Fg%3E%3C%2Fg%3E%3Crect%20class%3D%22legendtoggle%22%20pointer-events%3D%22all%22%20x%3D%220%22%20y%3D%22-9.5%22%20width%3D%22203.09375%22%20height%3D%2219%22%20style%3D%22cursor%3A%20pointer%3B%20fill%3A%20rgb(0%2C%200%2C%200)%3B%20fill-opacity%3A%200%3B%22%2F%3E%3C%2Fg%3E%3C%2Fg%3E%3C%2Fg%3E%3Crect%20class%3D%22scrollbar%22%20rx%3D%2220%22%20ry%3D%223%22%20width%3D%220%22%20height%3D%220%22%20style%3D%22fill%3A%20rgb(128%2C%20139%2C%20164)%3B%20fill-opacity%3A%201%3B%22%20x%3D%220%22%20y%3D%220%22%2F%3E%3C%2Fg%3E%3Cg%20class%3D%22g-gtitle%22%2F%3E%3Cg%20class%3D%22g-xtitle%22%2F%3E%3Cg%20class%3D%22g-ytitle%22%2F%3E%3C%2Fg%3E%3Cg%20class%3D%22menulayer%22%2F%3E%3Cg%20class%3D%22zoomlayer%22%2F%3E%3Cg%20class%3D%22hoverlayer%22%2F%3E%3C%2Fsvg%3E\">"
      ],
      "text/plain": [
       "Open the notebook in JupyterLab with the atoti extension installed and enabled to see this widget."
      ]
     },
     "metadata": {},
     "output_type": "display_data"
    }
   ],
   "source": [
    "cube.visualize(\"Successful retention with respect to expenses\")"
   ]
  },
  {
   "cell_type": "markdown",
   "metadata": {},
   "source": [
    "For those models that didn't meet the 90% target NRR, chances are that it identified customers who didn't actually churn within the retention list.  \n",
    "Now we need to make up for this gap in the NRR, let's see how many new customers we need to recruit.  \n",
    "\n",
    "Again, we compute the difference between our _Post retention revenue lost_ with the _Max Loss Possible_ to see how much revenue we need to replace."
   ]
  },
  {
   "cell_type": "code",
   "execution_count": 42,
   "metadata": {},
   "outputs": [],
   "source": [
    "gap_to_target_nrr = m[\"TargetNRR\"] - m[\"Post retention NRR\"]\n",
    "\n",
    "m[\"Gap in revenue lost\"] = m[\"Post retention revenue lost\"] - m[\"Max Loss Possible\"]\n",
    "\n",
    "m[\"Clients to replace\"] = tt.total(\n",
    "    tt.where(\n",
    "        m[\"Gap in revenue lost\"] > 0,\n",
    "        tt.ceil(m[\"Gap in revenue lost\"] / m[\"Churn MonthlyCharges.MEAN\"]),\n",
    "        0,\n",
    "    ),\n",
    "    on=h[\"ChurnPredicted\"],\n",
    ")"
   ]
  },
  {
   "cell_type": "markdown",
   "metadata": {},
   "source": [
    "Money spent on retention is already spent. We have to add on marketing expense for replacing the customers.  \n",
    "Let's compute the _Actual Expense_."
   ]
  },
  {
   "cell_type": "code",
   "execution_count": 43,
   "metadata": {},
   "outputs": [],
   "source": [
    "m[\"Actual Marketing budget\"] = m[\"Clients to replace\"] * m[\"Marketing budget\"]\n",
    "m[\"Actual Expense\"] = m[\"Forecast expense\"] + m[\"Actual Marketing budget\"]"
   ]
  },
  {
   "cell_type": "markdown",
   "metadata": {},
   "source": [
    "Surprisingly, when we look at the NRR which are now above 90%, _Logistic Regression (SMOTE) Prediction_ turns out to be the most cost effective model!  "
   ]
  },
  {
   "cell_type": "code",
   "execution_count": 44,
   "metadata": {
    "atoti": {
     "height": 239,
     "state": {
      "name": "",
      "type": "container",
      "value": {
       "body": {
        "configuration": {
         "tabular": {
          "addButtonFilter": "numeric",
          "cellRenderers": [
           "tree-layout"
          ],
          "columnOrder": {
           "args": {
            "orderedColumns": [
             "c-treeCells-member",
             "[Measures].[Clients to replace]",
             "[Measures].[Final Revenue Lost]",
             "[Measures].[Post retention NRR (2)]",
             "[Measures].[Final NRR]",
             "[Measures].[Actual Expense (1)]"
            ]
           },
           "key": "explicit"
          },
          "columns": [
           {
            "key": "c-treeCells-member",
            "width": 258
           },
           {
            "hide": false,
            "key": "[Measures].[Post retention revenue lost]",
            "width": 198
           },
           {
            "key": "[Measures].[iif([Customer]].[Churn]].[ALL]].[AllMember]].[Yes]], 1, 0)]",
            "width": 903
           },
           {
            "key": "([Customer].[ChurnPredicted].[ALL].[AllMember].[No],[Measures].[PredictionAccuracy.SUM])",
            "width": 193
           },
           {
            "key": "([Customer].[ChurnPredicted].[ALL].[AllMember].[Yes],[Measures].[PredictionAccuracy.SUM])",
            "width": 182
           },
           {
            "key": "([Customer].[ChurnPredicted].[ALL].[AllMember].[Yes],[Measures].[contributors.COUNT])",
            "width": 140
           },
           {
            "hide": false,
            "key": "[Measures].[Predicted Revenue Lost]",
            "width": 140
           },
           {
            "hide": false,
            "key": "[Measures].[Predicted Revenue Lost - Post retention revenue lost]",
            "width": 100
           },
           {
            "hide": false,
            "key": "[Measures].[NRR (1) - NRR post retention (1)]",
            "width": 150
           },
           {
            "key": "[Measures].[MRR Initial]",
            "width": 128
           },
           {
            "hide": false,
            "key": "[Measures].[Revenue Compensation]",
            "width": 146
           },
           {
            "key": "[Measures].[NRR post retention (1) - NRR (1)]",
            "width": 141
           },
           {
            "key": "[Measures].[Retention size]",
            "width": 93
           },
           {
            "key": "[Measures].[NRR post retention (2)]",
            "width": 125
           },
           {
            "key": "[Measures].[Actual Expense]",
            "width": 133
           }
          ],
          "columnsGroups": [
           {
            "captionProducer": "firstColumn",
            "cellFactory": "kpi-status",
            "selector": "kpi-status"
           },
           {
            "captionProducer": "firstColumn",
            "cellFactory": "lookup",
            "selector": "lookup"
           },
           {
            "captionProducer": "expiry",
            "cellFactory": "expiry",
            "selector": "kpi-expiry"
           },
           {
            "captionProducer": "columnMerge",
            "cellFactory": {
             "args": {},
             "key": "treeCells"
            },
            "selector": "member"
           }
          ],
          "defaultOptions": {},
          "expansion": {
           "automaticExpansion": true
          },
          "hideAddButton": true,
          "pinnedHeaderSelector": "member",
          "sortingMode": "non-breaking",
          "statisticsShown": true
         }
        },
        "contextValues": {},
        "mdx": "WITH  Member [Measures].[Post retention NRR (1)] AS [Measures].[Post retention NRR], FORMAT_STRING = \"#,###.0000\", CAPTION = [Measures].[Post retention NRR].MEMBER_CAPTION    Member [Measures].[NRR (1)] AS [Measures].[NRR], FORMAT_STRING = \"#,###.0000\", CAPTION = [Measures].[NRR].MEMBER_CAPTION    Member [Measures].[[Epoch]].[Epoch]].[Branch]]_for_order] AS [Epoch].[Epoch].CurrentMember.MEMBER_VALUE    Member [Measures].[Post retention NRR (2)] AS [Measures].[Post retention NRR], FORMAT_STRING = \"#,###.000\", CAPTION = [Measures].[Post retention NRR].MEMBER_CAPTION    Member [Measures].[Final Revenue Lost] AS ([Measures].[Post retention revenue lost] - ([Measures].[Clients to replace] * [Measures].[Churn MonthlyCharges.MEAN])), FORMAT_STRING = \"#,###.##\"    Member [Measures].[Final NRR] AS ([Measures].[MRR Initial] - [Measures].[Final Revenue Lost]) / [Measures].[MRR Initial], FORMAT_STRING = \"#,###.000\"    Member [Measures].[Actual Expense (1)] AS [Measures].[Actual Expense], CAPTION = [Measures].[Actual Expense].MEMBER_CAPTION, BACK_COLOR = \"transparent\", FORMAT_STRING = \"#,###\", FONT_FLAGS = 1, FORE_COLOR = rgb(0, 0, 255)  SELECT NON EMPTY Order(Hierarchize(Union([Epoch].[Epoch].[Branch].Members, [Epoch].[Epoch].[Branch].[Logistic Regression Prediction])), [Measures].[[Epoch]].[Epoch]].[Branch]]_for_order], ASC) ON ROWS, NON EMPTY {[Measures].[Post retention NRR (2)], [Measures].[Clients to replace], [Measures].[Actual Expense (1)], [Measures].[Final Revenue Lost], [Measures].[Final NRR]} ON COLUMNS FROM [customer_cube] CELL PROPERTIES BACK_COLOR, FONT_FLAGS, FORE_COLOR, FORMATTED_VALUE, VALUE",
        "ranges": {
         "column": {
          "chunkSize": 50,
          "thresholdPercentage": 0.2
         },
         "row": {
          "chunkSize": 2000,
          "thresholdPercentage": 0.1
         }
        },
        "serverUrl": "",
        "updateMode": "once"
       },
       "containerKey": "pivot-table",
       "showTitleBar": false,
       "style": {}
      }
     }
    }
   },
   "outputs": [
    {
     "data": {
      "application/vnd.atoti.v0+json": {
       "cellSet": {
        "axes": [
         {
          "hierarchies": [
           {
            "dimension": "Measures",
            "hierarchy": "Measures"
           }
          ],
          "id": 0,
          "positions": [
           [
            {
             "captionPath": [
              "Post retention NRR"
             ],
             "namePath": [
              "Post retention NRR (2)"
             ],
             "properties": {
              "DISPLAY_INFO": 0
             }
            }
           ],
           [
            {
             "captionPath": [
              "Clients to replace"
             ],
             "namePath": [
              "Clients to replace"
             ],
             "properties": {
              "DISPLAY_INFO": 0
             }
            }
           ],
           [
            {
             "captionPath": [
              "Actual Expense"
             ],
             "namePath": [
              "Actual Expense (1)"
             ],
             "properties": {
              "DISPLAY_INFO": 0
             }
            }
           ],
           [
            {
             "captionPath": [
              "Final Revenue Lost"
             ],
             "namePath": [
              "Final Revenue Lost"
             ],
             "properties": {
              "DISPLAY_INFO": 0
             }
            }
           ],
           [
            {
             "captionPath": [
              "Final NRR"
             ],
             "namePath": [
              "Final NRR"
             ],
             "properties": {
              "DISPLAY_INFO": 0
             }
            }
           ]
          ]
         },
         {
          "hierarchies": [
           {
            "dimension": "Epoch",
            "hierarchy": "Epoch"
           }
          ],
          "id": 1,
          "positions": [
           [
            {
             "captionPath": [
              "Base"
             ],
             "namePath": [
              "Base"
             ],
             "properties": {
              "DISPLAY_INFO": 0
             }
            }
           ],
           [
            {
             "captionPath": [
              "Logistic Regression (SMOTE) Prediction"
             ],
             "namePath": [
              "Logistic Regression (SMOTE) Prediction"
             ],
             "properties": {
              "DISPLAY_INFO": 0
             }
            }
           ],
           [
            {
             "captionPath": [
              "Logistic Regression Prediction"
             ],
             "namePath": [
              "Logistic Regression Prediction"
             ],
             "properties": {
              "DISPLAY_INFO": 0
             }
            }
           ],
           [
            {
             "captionPath": [
              "Naive Bayes Prediction"
             ],
             "namePath": [
              "Naive Bayes Prediction"
             ],
             "properties": {
              "DISPLAY_INFO": 0
             }
            }
           ],
           [
            {
             "captionPath": [
              "SVM Classifier Linear Prediction"
             ],
             "namePath": [
              "SVM Classifier Linear Prediction"
             ],
             "properties": {
              "DISPLAY_INFO": 0
             }
            }
           ]
          ]
         }
        ],
        "cells": [
         {
          "formattedValue": ".979",
          "ordinal": 0,
          "properties": {
           "BACK_COLOR": null,
           "FONT_FLAGS": 0,
           "FORE_COLOR": null
          },
          "value": 0.9793874174002164
         },
         {
          "formattedValue": "0",
          "ordinal": 1,
          "properties": {
           "BACK_COLOR": null,
           "FONT_FLAGS": 0,
           "FORE_COLOR": null
          },
          "value": 0
         },
         {
          "formattedValue": "125,700",
          "ordinal": 2,
          "properties": {
           "BACK_COLOR": "transparent",
           "FONT_FLAGS": 1,
           "FORE_COLOR": 16711680
          },
          "value": 125700
         },
         {
          "formattedValue": "9,392.35",
          "ordinal": 3,
          "properties": {
           "BACK_COLOR": null,
           "FONT_FLAGS": 0,
           "FORE_COLOR": null
          },
          "value": 9392.349999999991
         },
         {
          "formattedValue": ".979",
          "ordinal": 4,
          "properties": {
           "BACK_COLOR": null,
           "FONT_FLAGS": 0,
           "FORE_COLOR": null
          },
          "value": 0.9793874174002164
         },
         {
          "formattedValue": ".896",
          "ordinal": 5,
          "properties": {
           "BACK_COLOR": null,
           "FONT_FLAGS": 0,
           "FORE_COLOR": null
          },
          "value": 0.8960608873702158
         },
         {
          "formattedValue": "24",
          "ordinal": 6,
          "properties": {
           "BACK_COLOR": null,
           "FONT_FLAGS": 0,
           "FORE_COLOR": null
          },
          "value": 24
         },
         {
          "formattedValue": "180,900",
          "ordinal": 7,
          "properties": {
           "BACK_COLOR": "transparent",
           "FONT_FLAGS": 1,
           "FORE_COLOR": 16711680
          },
          "value": 180900
         },
         {
          "formattedValue": "45,543.9",
          "ordinal": 8,
          "properties": {
           "BACK_COLOR": null,
           "FONT_FLAGS": 0,
           "FORE_COLOR": null
          },
          "value": 45543.89764192148
         },
         {
          "formattedValue": ".900",
          "ordinal": 9,
          "properties": {
           "BACK_COLOR": null,
           "FONT_FLAGS": 0,
           "FORE_COLOR": null
          },
          "value": 0.9000487256053921
         },
         {
          "formattedValue": ".845",
          "ordinal": 10,
          "properties": {
           "BACK_COLOR": null,
           "FONT_FLAGS": 0,
           "FORE_COLOR": null
          },
          "value": 0.8454460662641744
         },
         {
          "formattedValue": "309",
          "ordinal": 11,
          "properties": {
           "BACK_COLOR": null,
           "FONT_FLAGS": 0,
           "FORE_COLOR": null
          },
          "value": 309
         },
         {
          "formattedValue": "243,100",
          "ordinal": 12,
          "properties": {
           "BACK_COLOR": "transparent",
           "FONT_FLAGS": 1,
           "FORE_COLOR": 16711680
          },
          "value": 243100
         },
         {
          "formattedValue": "45,545.8",
          "ordinal": 13,
          "properties": {
           "BACK_COLOR": null,
           "FONT_FLAGS": 0,
           "FORE_COLOR": null
          },
          "value": 45545.80289455554
         },
         {
          "formattedValue": ".900",
          "ordinal": 14,
          "properties": {
           "BACK_COLOR": null,
           "FONT_FLAGS": 0,
           "FORE_COLOR": null
          },
          "value": 0.900044544311329
         },
         {
          "formattedValue": ".923",
          "ordinal": 15,
          "properties": {
           "BACK_COLOR": null,
           "FONT_FLAGS": 0,
           "FORE_COLOR": null
          },
          "value": 0.9231632726961492
         },
         {
          "formattedValue": "0",
          "ordinal": 16,
          "properties": {
           "BACK_COLOR": null,
           "FONT_FLAGS": 0,
           "FORE_COLOR": null
          },
          "value": 0
         },
         {
          "formattedValue": "235,400",
          "ordinal": 17,
          "properties": {
           "BACK_COLOR": "transparent",
           "FONT_FLAGS": 1,
           "FORE_COLOR": 16711680
          },
          "value": 235400
         },
         {
          "formattedValue": "35,011.5",
          "ordinal": 18,
          "properties": {
           "BACK_COLOR": null,
           "FONT_FLAGS": 0,
           "FORE_COLOR": null
          },
          "value": 35011.500000000015
         },
         {
          "formattedValue": ".923",
          "ordinal": 19,
          "properties": {
           "BACK_COLOR": null,
           "FONT_FLAGS": 0,
           "FORE_COLOR": null
          },
          "value": 0.9231632726961492
         },
         {
          "formattedValue": ".891",
          "ordinal": 20,
          "properties": {
           "BACK_COLOR": null,
           "FONT_FLAGS": 0,
           "FORE_COLOR": null
          },
          "value": 0.8909040931745309
         },
         {
          "formattedValue": "55",
          "ordinal": 21,
          "properties": {
           "BACK_COLOR": null,
           "FONT_FLAGS": 0,
           "FORE_COLOR": null
          },
          "value": 55
         },
         {
          "formattedValue": "188,600",
          "ordinal": 22,
          "properties": {
           "BACK_COLOR": "transparent",
           "FONT_FLAGS": 1,
           "FORE_COLOR": 16711680
          },
          "value": 188600
         },
         {
          "formattedValue": "45,509.65",
          "ordinal": 23,
          "properties": {
           "BACK_COLOR": null,
           "FONT_FLAGS": 0,
           "FORE_COLOR": null
          },
          "value": 45509.65088355244
         },
         {
          "formattedValue": ".900",
          "ordinal": 24,
          "properties": {
           "BACK_COLOR": null,
           "FONT_FLAGS": 0,
           "FORE_COLOR": null
          },
          "value": 0.9001238840200227
         }
        ],
        "cube": "customer_cube",
        "defaultMembers": [
         {
          "captionPath": [
           "Count"
          ],
          "dimension": "Measures",
          "hierarchy": "Measures",
          "path": [
           "contributors.COUNT"
          ]
         },
         {
          "captionPath": [
           "Base"
          ],
          "dimension": "Epoch",
          "hierarchy": "Epoch",
          "path": [
           "Base"
          ]
         }
        ],
        "epoch": 1
       },
       "cube": "customer_cube",
       "error": null,
       "name": null,
       "session": "Unnamed"
      },
      "text/html": [
       "<img src=\"data:image/svg+xml;charset=utf8,%3C?xml%20version=%221.0%22%20standalone=%22no%22?%3E%0A%20%20%20%20%3Csvg%20xmlns=%22http://www.w3.org/2000/svg%22%20width=%221754%22%20height=%22239%22%3E%0A%20%20%20%20%20%20%3CforeignObject%20x=%220%22%20y=%220%22%20width=%22100%25%22%20height=%22100%25%22%3E%0A%20%20%20%20%20%20%20%20%3Cstyle%20type=%22text/css%22%3E.css-xsa55j-dock%20%7Bposition:%20relative;%20z-index:%200;%20height:%20100%25;%20background-color:%20rgb(255,%20255,%20255);%20display:%20flex;%20flex-direction:%20column%7D%0A.css-1ibuxvk-DockBody%20%7Bpadding-top:%200px;%20padding-left:%200px;%20padding-right:%200px;%20padding-bottom:%200px;%20flex-grow:%201;%20flex-shrink:%201;%20flex-basis:%200%25;%20box-sizing:%20border-box;%20position:%20relative;%20z-index:%200;%20overflow-x:%20hidden;%20overflow-y:%20hidden%7D%0A.css-14zuz97%20%7Bbackground-image:%20initial;%20background-position-x:%20initial;%20background-position-y:%20initial;%20background-size:%20initial;%20background-repeat-x:%20initial;%20background-repeat-y:%20initial;%20background-attachment:%20initial;%20background-origin:%20initial;%20background-color:%20rgba(0,%200,%200,%200.2);%20z-index:%201;%20box-sizing:%20border-box;%20background-clip:%20padding-box%7D%0A.css-14zuz97.vertical%20%7Bwidth:%2012px;%20margin-top:%200px;%20margin-right:%20-6px;%20margin-bottom:%200px;%20margin-left:%20-6px;%20border-left-width:%205.5px;%20border-left-style:%20solid;%20border-left-color:%20transparent;%20border-right-width:%205.5px;%20border-right-style:%20solid;%20border-right-color:%20transparent;%20cursor:%20col-resize%7D%0A.css-14zuz97.disabled%20%7Bdisplay:%20none%7D%0A.css-1lrljg1-EditorSplitPane%20%7Bbackground-color:%20rgb(255,%20255,%20255);%20flex-grow:%201;%20flex-shrink:%201;%20flex-basis:%200%25;%20margin-right:%200px;%20position:%20relative%7D%0A.css-15fz3t7-EditorSplitPane%20%7Bposition:%20absolute;%20top:%200px;%20bottom:%200px;%20left:%200px;%20right:%200px;%20display:%20flex;%20flex-direction:%20column%7D%0A.css-1k1fxuh-Tabular%20%7Bwidth:%20100%25;%20height:%20100%25;%20position:%20relative%7D%0A.css-10klw3m%20%7Bheight:%20100%25%7D%0A.css-mdjjdg-TabularHeader%20%7Bdisplay:%20flex%7D%0A.css-12nzxaz-PinnedTabularHeaders%20%7Bflex-shrink:%200;%20display:%20flex%7D%0A.css-s4fjko-TabularPinnSeparator%20%7Bwidth:%202px;%20height:%2028px;%20background-color:%20rgb(233,%20233,%20233)%7D%0A.css-5jtkjp-UnpinnedTabularHeaders%20%7Bdisplay:%20flex;%20position:%20absolute;%20left:%200px%7D%0A.css-19w2ip5-TabularHeaderCell%20%7Bcursor:%20default;%20-webkit-box-flex:%201;%20flex-grow:%201;%20flex-shrink:%201;%20box-sizing:%20border-box;%20padding-left:%204px;%20padding-right:%204px;%20padding-top:%204px;%20padding-bottom:%204px;%20height:%20100%25;%20overflow-x:%20hidden;%20overflow-y:%20hidden;%20display:%20flex;%20white-space:%20nowrap;%20-webkit-box-pack:%20start;%20justify-content:%20flex-start;%20align-items:%20flex-start%7D%0A.css-jpazdc-TabularHeaderCell%20%7Boverflow-x:%20hidden;%20overflow-y:%20hidden;%20text-overflow:%20ellipsis%7D%0A.css-y3oqqp%20%7Bfont-size:%2012px;%20line-height:%2022px;%20font-weight:%20600;%20color:%20rgba(0,%200,%200,%200.85)%7D%0A.css-c7y3a7-TabularHeaderCell%20%7Bflex-shrink:%200;%20height:%20100%25;%20display:%20flex;%20-webkit-box-pack:%20center;%20justify-content:%20center%7D%0A.css-1id6sm3-UnpinnedTabularRows%20%7Bposition:%20absolute;%20top:%200px;%20left:%200px%7D%0A.css-3cge9w%20%7Bcursor:%20cell;%20display:%20flex;%20height:%2028px;%20user-select:%20none%7D%0A.css-9ssj44-TreeCell%20%7Bwidth:%20min-content%7D%0A.css-mkrhzq%20%7Bdisplay:%20flex;%20margin-left:%200px%7D%0A.css-1i6gc04%20%7Bcursor:%20pointer;%20margin-top:%202px;%20height:%20inherit;%20display:%20flex;%20-webkit-box-align:%20center;%20align-items:%20center;%20font-size:%2010px;%20width:%2016px%7D%0A.css-8uhtka%20%7Boverflow-x:%20hidden;%20overflow-y:%20hidden;%20text-overflow:%20ellipsis;%20white-space:%20nowrap%7D%0A.css-1ouk3zc-EditorSplitPane%20%7Bbackground-color:%20rgb(255,%20255,%20255);%20flex-grow:%201;%20flex-shrink:%201;%20flex-basis:%200%25%7D%0A.css-1jjvrwi-EditorSplitPane%20%7Bposition:%20absolute;%20top:%200px;%20bottom:%200px;%20left:%200px;%20right:%200px;%20overflow-y:%20auto%7D%0A.css-1d97b2m-TabularHeaderGroup%20%7Bposition:%20relative;%20width:%20258px%7D%0A.css-131hifx%20%7Bcolor:%20rgba(0,%200,%200,%200.85);%20display:%20flex;%20box-sizing:%20border-box;%20-webkit-box-align:%20center;%20align-items:%20center;%20height:%2028px;%20position:%20absolute;%20top:%200px;%20left:%200px;%20user-select:%20none;%20font-size:%2012px;%20line-height:%2022px;%20font-weight:%20600;%20border-bottom-width:%202px;%20border-bottom-style:%20solid;%20border-bottom-color:%20rgb(233,%20233,%20233);%20width:%20258px;%20border-right-width:%201px;%20border-right-style:%20solid;%20border-right-color:%20rgb(233,%20233,%20233)%7D%0A.css-1q3m8lo-HeaderResizer%20%7Bposition:%20absolute;%20z-index:%201;%20width:%2010px;%20height:%2028px;%20left:%20253px;%20top:%200px;%20cursor:%20col-resize%7D%0A.css-5dhdwq-HeaderResizer%20%7Bposition:%20absolute;%20z-index:%201;%20height:%2010px;%20width:%20258px;%20left:%200px;%20top:%2023px;%20cursor:%20row-resize%7D%0A.css-10660th%20%7Bheight:%20100%25;%20box-sizing:%20border-box;%20display:%20flex;%20-webkit-box-pack:%20end;%20justify-content:%20flex-end;%20flex-direction:%20column;%20padding-top:%204px;%20padding-left:%204px;%20padding-right:%204px;%20padding-bottom:%203px;%20overflow-x:%20hidden;%20overflow-y:%20hidden;%20white-space:%20nowrap;%20border-right-width:%201px;%20border-right-style:%20solid;%20border-right-color:%20rgb(233,%20233,%20233);%20border-bottom-width:%20initial;%20border-bottom-style:%20none;%20border-bottom-color:%20initial;%20width:%20258px;%20align-items:%20flex-start;%20background-color:%20rgb(250,%20250,%20250)%7D%0A.css-1q63qjm%20%7Bcolor:%20rgba(0,%200,%200,%200.85);%20display:%20flex;%20box-sizing:%20border-box;%20-webkit-box-align:%20center;%20align-items:%20center;%20height:%2028px;%20position:%20absolute;%20top:%200px;%20left:%200px;%20user-select:%20none;%20font-size:%2012px;%20line-height:%2022px;%20font-weight:%20600;%20border-bottom-width:%202px;%20border-bottom-style:%20solid;%20border-bottom-color:%20rgb(233,%20233,%20233);%20width:%20120px%7D%0A.css-pm742e%20%7Bcursor:%20pointer;%20margin-top:%202px;%20height:%20inherit;%20display:%20flex;%20-webkit-box-align:%20center;%20align-items:%20center;%20font-size:%2010px;%20-webkit-box-pack:%20center;%20justify-content:%20center;%20padding-left:%204px%7D%0A.css-w64vkb-HeaderResizer%20%7Bposition:%20absolute;%20z-index:%201;%20width:%2010px;%20height:%2028px;%20left:%20115px;%20top:%200px;%20cursor:%20col-resize%7D%0A.css-tlxtaa-HeaderResizer%20%7Bposition:%20absolute;%20z-index:%201;%20height:%2010px;%20width:%20120px;%20left:%200px;%20top:%2023px;%20cursor:%20row-resize%7D%0A.css-lp3bnm%20%7Bcolor:%20rgba(0,%200,%200,%200.85);%20display:%20flex;%20box-sizing:%20border-box;%20-webkit-box-align:%20center;%20align-items:%20center;%20height:%2028px;%20position:%20absolute;%20top:%200px;%20left:%20120px;%20user-select:%20none;%20font-size:%2012px;%20line-height:%2022px;%20font-weight:%20600;%20border-bottom-width:%202px;%20border-bottom-style:%20solid;%20border-bottom-color:%20rgb(233,%20233,%20233);%20width:%20120px%7D%0A.css-y4zo4n-HeaderResizer%20%7Bposition:%20absolute;%20z-index:%201;%20width:%2010px;%20height:%2028px;%20left:%20235px;%20top:%200px;%20cursor:%20col-resize%7D%0A.css-8latmz-HeaderResizer%20%7Bposition:%20absolute;%20z-index:%201;%20height:%2010px;%20width:%20120px;%20left:%20120px;%20top:%2023px;%20cursor:%20row-resize%7D%0A.css-ihk5f%20%7Bcolor:%20rgba(0,%200,%200,%200.85);%20display:%20flex;%20box-sizing:%20border-box;%20-webkit-box-align:%20center;%20align-items:%20center;%20height:%2028px;%20position:%20absolute;%20top:%200px;%20left:%20240px;%20user-select:%20none;%20font-size:%2012px;%20line-height:%2022px;%20font-weight:%20600;%20border-bottom-width:%202px;%20border-bottom-style:%20solid;%20border-bottom-color:%20rgb(233,%20233,%20233);%20width:%20120px%7D%0A.css-x77esk-HeaderResizer%20%7Bposition:%20absolute;%20z-index:%201;%20width:%2010px;%20height:%2028px;%20left:%20355px;%20top:%200px;%20cursor:%20col-resize%7D%0A.css-qpzagx-HeaderResizer%20%7Bposition:%20absolute;%20z-index:%201;%20height:%2010px;%20width:%20120px;%20left:%20240px;%20top:%2023px;%20cursor:%20row-resize%7D%0A.css-1176us6-HeaderResizer%20%7Bposition:%20absolute;%20z-index:%201;%20width:%2010px;%20height:%2028px;%20left:%20475px;%20top:%200px;%20cursor:%20col-resize%7D%0A.css-1v86l1l-HeaderResizer%20%7Bposition:%20absolute;%20z-index:%201;%20height:%2010px;%20width:%20120px;%20left:%20360px;%20top:%2023px;%20cursor:%20row-resize%7D%0A.css-8r2ljj-PinnedTabularRows%20%7Bposition:%20absolute;%20right:%200px%7D%0A.css-8zvwca-PinnedTabularRows%20%7Bwidth:%202px;%20height:%20140px;%20background-color:%20rgb(233,%20233,%20233)%7D%0A.css-mkoicc-CaptionCellRenderer%20%7Bwidth:%20100%25;%20overflow-x:%20hidden;%20overflow-y:%20hidden;%20text-overflow:%20ellipsis;%20white-space:%20nowrap%7D%0A.css-t881dv-SelectionStatistics%20%7Bheight:%2020px;%20display:%20flex;%20padding-top:%205px;%20opacity:%200;%20transition-duration:%20300ms;%20transition-timing-function:%20ease;%20transition-delay:%200s;%20transition-property:%20opacity;%20position:%20absolute;%20right:%200px;%20left:%20unset%7D%0A.css-1hcmypl-TabularCell%20%7Bheight:%2028px;%20box-sizing:%20border-box;%20display:%20flex;%20-webkit-box-pack:%20end;%20justify-content:%20flex-end;%20flex-direction:%20column;%20padding-top:%204px;%20padding-left:%204px;%20padding-right:%204px;%20padding-bottom:%203px;%20overflow-x:%20hidden;%20overflow-y:%20hidden;%20white-space:%20nowrap;%20border-right-width:%201px;%20border-right-style:%20solid;%20border-right-color:%20rgb(233,%20233,%20233);%20border-bottom-width:%20initial;%20border-bottom-style:%20none;%20border-bottom-color:%20initial;%20width:%20120px;%20background-color:%20rgb(250,%20250,%20250);%20cursor:%20cell;%20user-select:%20none;%20text-align:%20right;%20align-items:%20flex-end%7D%0A.css-qazlap-TabularCell%20%7Bheight:%2028px;%20box-sizing:%20border-box;%20display:%20flex;%20-webkit-box-pack:%20end;%20justify-content:%20flex-end;%20flex-direction:%20column;%20padding-top:%204px;%20padding-left:%204px;%20padding-right:%204px;%20padding-bottom:%203px;%20overflow-x:%20hidden;%20overflow-y:%20hidden;%20white-space:%20nowrap;%20border-right-width:%201px;%20border-right-style:%20solid;%20border-right-color:%20rgb(233,%20233,%20233);%20border-bottom-width:%20initial;%20border-bottom-style:%20none;%20border-bottom-color:%20initial;%20width:%20120px;%20cursor:%20cell;%20user-select:%20none;%20text-align:%20right;%20align-items:%20flex-end%7D%0A.css-m3b6cx-TabularCell%20%7Bheight:%2028px;%20box-sizing:%20border-box;%20display:%20flex;%20-webkit-box-pack:%20end;%20justify-content:%20flex-end;%20flex-direction:%20column;%20padding-top:%204px;%20padding-left:%204px;%20padding-right:%204px;%20padding-bottom:%203px;%20overflow-x:%20hidden;%20overflow-y:%20hidden;%20white-space:%20nowrap;%20border-right-width:%201px;%20border-right-style:%20solid;%20border-right-color:%20rgb(233,%20233,%20233);%20border-bottom-width:%201px;%20border-bottom-style:%20solid;%20border-bottom-color:%20rgb(233,%20233,%20233);%20width:%20120px;%20background-color:%20rgb(250,%20250,%20250);%20cursor:%20cell;%20user-select:%20none;%20text-align:%20right;%20align-items:%20flex-end%7D%0A.css-72x6n1-Tabular%20%7Bposition:%20relative;%20height:%20100%25;%20width:%20877px%7D%0A.css-hrl4j6-UnpinnedTabularHeaders%20%7Boverflow-x:%20hidden;%20overflow-y:%20hidden;%20position:%20relative;%20width:%201496px;%20height:%2028px%7D%0A.css-f1vz3q-TabularHeaderGroup%20%7Bposition:%20relative;%20width:%20600px%7D%0A.css-cmy2cz%20%7Bcolor:%20rgba(0,%200,%200,%200.85);%20display:%20flex;%20box-sizing:%20border-box;%20-webkit-box-align:%20center;%20align-items:%20center;%20height:%2028px;%20position:%20absolute;%20top:%200px;%20left:%20360px;%20user-select:%20none;%20font-size:%2012px;%20line-height:%2022px;%20font-weight:%20600;%20border-bottom-width:%202px;%20border-bottom-style:%20solid;%20border-bottom-color:%20rgb(233,%20233,%20233);%20width:%20120px%7D%0A.css-1lud7re%20%7Bcolor:%20rgba(0,%200,%200,%200.85);%20display:%20flex;%20box-sizing:%20border-box;%20-webkit-box-align:%20center;%20align-items:%20center;%20height:%2028px;%20position:%20absolute;%20top:%200px;%20left:%20480px;%20user-select:%20none;%20font-size:%2012px;%20line-height:%2022px;%20font-weight:%20600;%20border-bottom-width:%202px;%20border-bottom-style:%20solid;%20border-bottom-color:%20rgb(233,%20233,%20233);%20width:%20120px;%20border-right-width:%201px;%20border-right-style:%20solid;%20border-right-color:%20rgb(233,%20233,%20233)%7D%0A.css-rnpdgr-HeaderResizer%20%7Bposition:%20absolute;%20z-index:%201;%20width:%2010px;%20height:%2028px;%20left:%20595px;%20top:%200px;%20cursor:%20col-resize%7D%0A.css-vqbc0g-HeaderResizer%20%7Bposition:%20absolute;%20z-index:%201;%20height:%2010px;%20width:%20120px;%20left:%20480px;%20top:%2023px;%20cursor:%20row-resize%7D%0A.css-1rdoia9-TabularBody%20%7Bposition:%20relative;%20overflow-x:%20hidden;%20overflow-y:%20hidden;%20top:%200px;%20width:%20860px;%20height:%20140px%7D%0A.css-1d2acnr-PinnedTabularRows%20%7Bposition:%20absolute;%20height:%20140px;%20width:%20260px;%20overflow-x:%20hidden;%20overflow-y:%20hidden%7D%0A.css-115oauw-PinnedTabularRows%20%7Bposition:%20absolute;%20overflow-x:%20hidden;%20overflow-y:%20hidden;%20top:%200px;%20width:%20258px%7D%0A.css-1xxirpd%20%7Bheight:%20100%25;%20box-sizing:%20border-box;%20display:%20flex;%20-webkit-box-pack:%20end;%20justify-content:%20flex-end;%20flex-direction:%20column;%20padding-top:%204px;%20padding-left:%204px;%20padding-right:%204px;%20padding-bottom:%203px;%20overflow-x:%20hidden;%20overflow-y:%20hidden;%20white-space:%20nowrap;%20border-right-width:%201px;%20border-right-style:%20solid;%20border-right-color:%20rgb(233,%20233,%20233);%20border-bottom-width:%20initial;%20border-bottom-style:%20none;%20border-bottom-color:%20initial;%20width:%20258px;%20align-items:%20flex-start%7D%0A.css-1lqzvii%20%7Bheight:%20100%25;%20box-sizing:%20border-box;%20display:%20flex;%20-webkit-box-pack:%20end;%20justify-content:%20flex-end;%20flex-direction:%20column;%20padding-top:%204px;%20padding-left:%204px;%20padding-right:%204px;%20padding-bottom:%203px;%20overflow-x:%20hidden;%20overflow-y:%20hidden;%20white-space:%20nowrap;%20border-right-width:%201px;%20border-right-style:%20solid;%20border-right-color:%20rgb(233,%20233,%20233);%20border-bottom-width:%201px;%20border-bottom-style:%20solid;%20border-bottom-color:%20rgb(233,%20233,%20233);%20width:%20258px;%20align-items:%20flex-start;%20background-color:%20rgb(250,%20250,%20250)%7D%0A.css-20cu8c-UnpinnedTabularRows%20%7Bposition:%20absolute;%20overflow-x:%20hidden;%20overflow-y:%20hidden;%20left:%20260px;%20height:%20140px;%20width:%20600px%7D%0A.css-1qvxlg1-TabularCell%20%7Bheight:%2028px;%20box-sizing:%20border-box;%20display:%20flex;%20-webkit-box-pack:%20end;%20justify-content:%20flex-end;%20flex-direction:%20column;%20padding-top:%204px;%20padding-left:%204px;%20padding-right:%204px;%20padding-bottom:%203px;%20overflow-x:%20hidden;%20overflow-y:%20hidden;%20white-space:%20nowrap;%20border-right-width:%201px;%20border-right-style:%20solid;%20border-right-color:%20rgb(233,%20233,%20233);%20border-bottom-width:%20initial;%20border-bottom-style:%20none;%20border-bottom-color:%20initial;%20width:%20120px;%20background-color:%20transparent;%20cursor:%20cell;%20user-select:%20none;%20text-align:%20right;%20font-weight:%20bold;%20color:%20rgb(0,%200,%20255);%20align-items:%20flex-end%7D%0A.css-1g17rkf-TabularCell%20%7Bheight:%2028px;%20box-sizing:%20border-box;%20display:%20flex;%20-webkit-box-pack:%20end;%20justify-content:%20flex-end;%20flex-direction:%20column;%20padding-top:%204px;%20padding-left:%204px;%20padding-right:%204px;%20padding-bottom:%203px;%20overflow-x:%20hidden;%20overflow-y:%20hidden;%20white-space:%20nowrap;%20border-right-width:%201px;%20border-right-style:%20solid;%20border-right-color:%20rgb(233,%20233,%20233);%20border-bottom-width:%20initial;%20border-bottom-style:%20none;%20border-bottom-color:%20initial;%20width:%20120px;%20cursor:%20cell;%20user-select:%20none;%20text-align:%20right;%20background-color:%20transparent;%20font-weight:%20bold;%20color:%20rgb(0,%200,%20255);%20align-items:%20flex-end%7D%0A.css-171tgtu-TabularCell%20%7Bheight:%2028px;%20box-sizing:%20border-box;%20display:%20flex;%20-webkit-box-pack:%20end;%20justify-content:%20flex-end;%20flex-direction:%20column;%20padding-top:%204px;%20padding-left:%204px;%20padding-right:%204px;%20padding-bottom:%203px;%20overflow-x:%20hidden;%20overflow-y:%20hidden;%20white-space:%20nowrap;%20border-right-width:%201px;%20border-right-style:%20solid;%20border-right-color:%20rgb(233,%20233,%20233);%20border-bottom-width:%201px;%20border-bottom-style:%20solid;%20border-bottom-color:%20rgb(233,%20233,%20233);%20width:%20120px;%20background-color:%20transparent;%20cursor:%20cell;%20user-select:%20none;%20text-align:%20right;%20font-weight:%20bold;%20color:%20rgb(0,%200,%20255);%20align-items:%20flex-end%7D%0A.ant-root%20html,%20.ant-root%20%7Bwidth:%20100%25;%20height:%20100%25%7D%0A.ant-root%20*,%20.ant-root%20::before,%20.ant-root%20::after%20%7Bbox-sizing:%20border-box%7D%0A.ant-root%20%7Bmargin-top:%200px;%20margin-right:%200px;%20margin-bottom:%200px;%20margin-left:%200px;%20color:%20rgba(0,%200,%200,%200.65);%20font-size:%2014px;%20font-family:%20-apple-system,%20BlinkMacSystemFont,%20%22Segoe%20UI%22,%20%22PingFang%20SC%22,%20%22Hiragino%20Sans%20GB%22,%20%22Microsoft%20YaHei%22,%20%22Helvetica%20Neue%22,%20Helvetica,%20Arial,%20sans-serif,%20%22Apple%20Color%20Emoji%22,%20%22Segoe%20UI%20Emoji%22,%20%22Segoe%20UI%20Symbol%22;%20font-variant-ligatures:%20normal;%20font-variant-numeric:%20tabular-nums;%20font-variant-east-asian:%20normal;%20font-variant-caps:%20normal;%20line-height:%201.5;%20background-color:%20rgb(255,%20255,%20255);%20font-feature-settings:%20%22tnum%22;%20--antd-wave-shadow-color:%20undefined%7D%0A.ant-root%20.ant-typography%20%7Bcolor:%20rgba(0,%200,%200,%200.65)%7D%0A.css-1sxolix-Widget%20%7Bheight:%20100%25%7D%0A.css-1sxolix-Widget%20.ant-root:not(.atoti-widget-chooser)%20%7Bbox-shadow:%20none%7D%3C/style%3E%0A%20%20%20%20%20%20%20%20%3Cdiv%20xmlns=%22http://www.w3.org/1999/xhtml%22%20style=%22height:%20239px;%20width:%201754px%22%3E%0A%20%20%20%20%20%20%20%20%20%20%3Cdiv%20xmlns=%22http://www.w3.org/1999/xhtml%22%20class=%22css-1sxolix-Widget%22%3E%3Cdiv%20class=%22ant-root%20css-xsa55j-dock%22%3E%3Cdiv%20class=%22css-1ibuxvk-DockBody%22%3E%3Cdiv%20class=%22SplitPane%20%20vertical%20disabled%22%20style=%22display:%20flex;%20flex:%201%201%200%25;%20height:%20100%25;%20position:%20relative;%20outline:%20none;%20overflow:%20hidden;%20user-select:%20text;%20flex-direction:%20row;%20left:%200px;%20right:%200px;%22%3E%3Cdiv%20class=%22Pane%20vertical%20Pane1%20%20%22%20style=%22flex:%201%201%200%25;%20position:%20relative;%20outline:%20none;%20display:%20flex;%20background-color:%20rgb(255,%20255,%20255);%22%3E%3Cdiv%20class=%22css-1lrljg1-EditorSplitPane%22%3E%3Cdiv%20class=%22css-15fz3t7-EditorSplitPane%22%3E%3Cdiv%20class=%22css-1k1fxuh-Tabular%22%3E%3Cdiv%20class=%22css-10klw3m%22%3E%3Cdiv%20tabindex=%220%22%20class=%22css-72x6n1-Tabular%22%3E%3Cdiv%20class=%22css-192kvjv-Tabular%22%3E%3Cdiv%20class=%22css-mdjjdg-TabularHeader%22%3E%3Cdiv%20class=%22css-12nzxaz-PinnedTabularHeaders%22%3E%3Cdiv%20class=%22css-1d97b2m-TabularHeaderGroup%22%3E%3Cdiv%20class=%22css-131hifx%22%3E%3Cdiv%20class=%22css-19w2ip5-TabularHeaderCell%22%3E%3Cspan%20class=%22css-jpazdc-TabularHeaderCell%22%3E%3Cspan%3E%3Cspan%3E%3Cspan%20class=%22css-y3oqqp%22%3EScenario%3C/span%3E%3C/span%3E%3C/span%3E%3C/span%3E%3C/div%3E%3Cdiv%20class=%22css-c7y3a7-TabularHeaderCell%22%3E%3C/div%3E%3C/div%3E%3Cdiv%20class=%22css-1q3m8lo-HeaderResizer%22%3E%3C/div%3E%3Cdiv%20class=%22css-5dhdwq-HeaderResizer%22%3E%3C/div%3E%3C/div%3E%3Cdiv%20class=%22css-s4fjko-TabularPinnSeparator%22%3E%3C/div%3E%3C/div%3E%3Cdiv%20class=%22css-hrl4j6-UnpinnedTabularHeaders%22%3E%3Cdiv%20class=%22css-5jtkjp-UnpinnedTabularHeaders%22%3E%3Cdiv%20class=%22css-f1vz3q-TabularHeaderGroup%22%3E%3Cdiv%20class=%22css-1q63qjm%22%3E%3Cdiv%20class=%22css-pm742e%22%3E%3C/div%3E%3Cdiv%20class=%22css-19w2ip5-TabularHeaderCell%22%3E%3Cspan%20class=%22css-jpazdc-TabularHeaderCell%22%3E%3Cspan%3EClients%20to%20replace%3C/span%3E%3C/span%3E%3C/div%3E%3Cdiv%20class=%22css-c7y3a7-TabularHeaderCell%22%3E%3C/div%3E%3C/div%3E%3Cdiv%20class=%22css-w64vkb-HeaderResizer%22%3E%3C/div%3E%3Cdiv%20class=%22css-tlxtaa-HeaderResizer%22%3E%3C/div%3E%3Cdiv%20class=%22css-lp3bnm%22%3E%3Cdiv%20class=%22css-pm742e%22%3E%3C/div%3E%3Cdiv%20class=%22css-19w2ip5-TabularHeaderCell%22%3E%3Cspan%20class=%22css-jpazdc-TabularHeaderCell%22%3E%3Cspan%3EFinal%20Revenue%20Lost%3C/span%3E%3C/span%3E%3C/div%3E%3Cdiv%20class=%22css-c7y3a7-TabularHeaderCell%22%3E%3C/div%3E%3C/div%3E%3Cdiv%20class=%22css-y4zo4n-HeaderResizer%22%3E%3C/div%3E%3Cdiv%20class=%22css-8latmz-HeaderResizer%22%3E%3C/div%3E%3Cdiv%20class=%22css-ihk5f%22%3E%3Cdiv%20class=%22css-pm742e%22%3E%3C/div%3E%3Cdiv%20class=%22css-19w2ip5-TabularHeaderCell%22%3E%3Cspan%20class=%22css-jpazdc-TabularHeaderCell%22%3E%3Cspan%3EPost%20retention%20NRR%3C/span%3E%3C/span%3E%3C/div%3E%3Cdiv%20class=%22css-c7y3a7-TabularHeaderCell%22%3E%3C/div%3E%3C/div%3E%3Cdiv%20class=%22css-x77esk-HeaderResizer%22%3E%3C/div%3E%3Cdiv%20class=%22css-qpzagx-HeaderResizer%22%3E%3C/div%3E%3Cdiv%20class=%22css-cmy2cz%22%3E%3Cdiv%20class=%22css-pm742e%22%3E%3C/div%3E%3Cdiv%20class=%22css-19w2ip5-TabularHeaderCell%22%3E%3Cspan%20class=%22css-jpazdc-TabularHeaderCell%22%3E%3Cspan%3EFinal%20NRR%3C/span%3E%3C/span%3E%3C/div%3E%3Cdiv%20class=%22css-c7y3a7-TabularHeaderCell%22%3E%3C/div%3E%3C/div%3E%3Cdiv%20class=%22css-1176us6-HeaderResizer%22%3E%3C/div%3E%3Cdiv%20class=%22css-1v86l1l-HeaderResizer%22%3E%3C/div%3E%3Cdiv%20class=%22css-1lud7re%22%3E%3Cdiv%20class=%22css-pm742e%22%3E%3C/div%3E%3Cdiv%20class=%22css-19w2ip5-TabularHeaderCell%22%3E%3Cspan%20class=%22css-jpazdc-TabularHeaderCell%22%3E%3Cspan%3EActual%20Expense%3C/span%3E%3C/span%3E%3C/div%3E%3Cdiv%20class=%22css-c7y3a7-TabularHeaderCell%22%3E%3C/div%3E%3C/div%3E%3Cdiv%20class=%22css-rnpdgr-HeaderResizer%22%3E%3C/div%3E%3Cdiv%20class=%22css-vqbc0g-HeaderResizer%22%3E%3C/div%3E%3C/div%3E%3C/div%3E%3C/div%3E%3C/div%3E%3Cdiv%20class=%22css-1rdoia9-TabularBody%22%3E%3Cdiv%20class=%22css-1d2acnr-PinnedTabularRows%22%3E%3Cdiv%20class=%22css-115oauw-PinnedTabularRows%22%3E%3Cdiv%20class=%22css-3cge9w%22%3E%3Cdiv%3E%3Cdiv%20class=%22css-10660th%22%3E%3Cdiv%20class=%22css-9ssj44-TreeCell%22%3E%3Cdiv%20class=%22css-mkrhzq%22%3E%3Cdiv%20class=%22css-1i6gc04%22%3E%3C/div%3E%3Cspan%20class=%22ant-typography%20css-8uhtka%22%20style=%22font-size:%2012px;%20line-height:%2020px;%20font-weight:%20600;%20color:%20rgba(0,%200,%200,%200.85);%22%3EBase%3C/span%3E%3C/div%3E%3C/div%3E%3C/div%3E%3C/div%3E%3C/div%3E%3Cdiv%20class=%22css-3cge9w%22%3E%3Cdiv%3E%3Cdiv%20class=%22css-1xxirpd%22%3E%3Cdiv%20class=%22css-9ssj44-TreeCell%22%3E%3Cdiv%20class=%22css-mkrhzq%22%3E%3Cdiv%20class=%22css-1i6gc04%22%3E%3C/div%3E%3Cspan%20class=%22ant-typography%20css-8uhtka%22%20style=%22font-size:%2012px;%20line-height:%2020px;%20font-weight:%20600;%20color:%20rgba(0,%200,%200,%200.85);%22%3ELogistic%20Regression%20(SMOTE)%20Prediction%3C/span%3E%3C/div%3E%3C/div%3E%3C/div%3E%3C/div%3E%3C/div%3E%3Cdiv%20class=%22css-3cge9w%22%3E%3Cdiv%3E%3Cdiv%20class=%22css-10660th%22%3E%3Cdiv%20class=%22css-9ssj44-TreeCell%22%3E%3Cdiv%20class=%22css-mkrhzq%22%3E%3Cdiv%20class=%22css-1i6gc04%22%3E%3C/div%3E%3Cspan%20class=%22ant-typography%20css-8uhtka%22%20style=%22font-size:%2012px;%20line-height:%2020px;%20font-weight:%20600;%20color:%20rgba(0,%200,%200,%200.85);%22%3ELogistic%20Regression%20Prediction%3C/span%3E%3C/div%3E%3C/div%3E%3C/div%3E%3C/div%3E%3C/div%3E%3Cdiv%20class=%22css-3cge9w%22%3E%3Cdiv%3E%3Cdiv%20class=%22css-1xxirpd%22%3E%3Cdiv%20class=%22css-9ssj44-TreeCell%22%3E%3Cdiv%20class=%22css-mkrhzq%22%3E%3Cdiv%20class=%22css-1i6gc04%22%3E%3C/div%3E%3Cspan%20class=%22ant-typography%20css-8uhtka%22%20style=%22font-size:%2012px;%20line-height:%2020px;%20font-weight:%20600;%20color:%20rgba(0,%200,%200,%200.85);%22%3ENaive%20Bayes%20Prediction%3C/span%3E%3C/div%3E%3C/div%3E%3C/div%3E%3C/div%3E%3C/div%3E%3Cdiv%20class=%22css-3cge9w%22%3E%3Cdiv%3E%3Cdiv%20class=%22css-1lqzvii%22%3E%3Cdiv%20class=%22css-9ssj44-TreeCell%22%3E%3Cdiv%20class=%22css-mkrhzq%22%3E%3Cdiv%20class=%22css-1i6gc04%22%3E%3C/div%3E%3Cspan%20class=%22ant-typography%20css-8uhtka%22%20style=%22font-size:%2012px;%20line-height:%2020px;%20font-weight:%20600;%20color:%20rgba(0,%200,%200,%200.85);%22%3ESVM%20Classifier%20Linear%20Prediction%3C/span%3E%3C/div%3E%3C/div%3E%3C/div%3E%3C/div%3E%3C/div%3E%3C/div%3E%3Cdiv%20class=%22css-8r2ljj-PinnedTabularRows%22%3E%3Cdiv%20class=%22css-8zvwca-PinnedTabularRows%22%3E%3C/div%3E%3C/div%3E%3C/div%3E%3Cdiv%20class=%22css-20cu8c-UnpinnedTabularRows%22%3E%3Cdiv%20class=%22css-1id6sm3-UnpinnedTabularRows%22%3E%3Cdiv%20class=%22css-3cge9w%22%3E%3Cdiv%3E%3Cdiv%20class=%22%20css-1hcmypl-TabularCell%22%3E%3Cspan%20class=%22css-mkoicc-CaptionCellRenderer%22%3E%3Cspan%3E%3Cspan%20class=%22ant-typography%22%20style=%22font-size:%2012px;%20line-height:%2020px;%20font-weight:%20400;%22%3E0%3C/span%3E%3C/span%3E%3C/span%3E%3C/div%3E%3C/div%3E%3Cdiv%3E%3Cdiv%20class=%22%20css-1hcmypl-TabularCell%22%3E%3Cspan%20class=%22css-mkoicc-CaptionCellRenderer%22%3E%3Cspan%3E%3Cspan%20class=%22ant-typography%22%20style=%22font-size:%2012px;%20line-height:%2020px;%20font-weight:%20400;%22%3E9,392.35%3C/span%3E%3C/span%3E%3C/span%3E%3C/div%3E%3C/div%3E%3Cdiv%3E%3Cdiv%20class=%22%20css-1hcmypl-TabularCell%22%3E%3Cspan%20class=%22css-mkoicc-CaptionCellRenderer%22%3E%3Cspan%3E%3Cspan%20class=%22ant-typography%22%20style=%22font-size:%2012px;%20line-height:%2020px;%20font-weight:%20400;%22%3E.979%3C/span%3E%3C/span%3E%3C/span%3E%3C/div%3E%3C/div%3E%3Cdiv%3E%3Cdiv%20class=%22%20css-1hcmypl-TabularCell%22%3E%3Cspan%20class=%22css-mkoicc-CaptionCellRenderer%22%3E%3Cspan%3E%3Cspan%20class=%22ant-typography%22%20style=%22font-size:%2012px;%20line-height:%2020px;%20font-weight:%20400;%22%3E.979%3C/span%3E%3C/span%3E%3C/span%3E%3C/div%3E%3C/div%3E%3Cdiv%3E%3Cdiv%20class=%22%20css-1qvxlg1-TabularCell%22%3E%3Cspan%20class=%22css-mkoicc-CaptionCellRenderer%22%3E%3Cspan%3E%3Cspan%20class=%22ant-typography%22%20style=%22font-size:%2012px;%20line-height:%2020px;%20font-weight:%20bold;%20color:%20rgb(0,%200,%20255);%22%3E125,700%3C/span%3E%3C/span%3E%3C/span%3E%3C/div%3E%3C/div%3E%3C/div%3E%3Cdiv%20class=%22css-3cge9w%22%3E%3Cdiv%3E%3Cdiv%20class=%22%20css-qazlap-TabularCell%22%3E%3Cspan%20class=%22css-mkoicc-CaptionCellRenderer%22%3E%3Cspan%3E%3Cspan%20class=%22ant-typography%22%20style=%22font-size:%2012px;%20line-height:%2020px;%20font-weight:%20400;%22%3E24%3C/span%3E%3C/span%3E%3C/span%3E%3C/div%3E%3C/div%3E%3Cdiv%3E%3Cdiv%20class=%22%20css-qazlap-TabularCell%22%3E%3Cspan%20class=%22css-mkoicc-CaptionCellRenderer%22%3E%3Cspan%3E%3Cspan%20class=%22ant-typography%22%20style=%22font-size:%2012px;%20line-height:%2020px;%20font-weight:%20400;%22%3E45,543.9%3C/span%3E%3C/span%3E%3C/span%3E%3C/div%3E%3C/div%3E%3Cdiv%3E%3Cdiv%20class=%22%20css-qazlap-TabularCell%22%3E%3Cspan%20class=%22css-mkoicc-CaptionCellRenderer%22%3E%3Cspan%3E%3Cspan%20class=%22ant-typography%22%20style=%22font-size:%2012px;%20line-height:%2020px;%20font-weight:%20400;%22%3E.896%3C/span%3E%3C/span%3E%3C/span%3E%3C/div%3E%3C/div%3E%3Cdiv%3E%3Cdiv%20class=%22%20css-qazlap-TabularCell%22%3E%3Cspan%20class=%22css-mkoicc-CaptionCellRenderer%22%3E%3Cspan%3E%3Cspan%20class=%22ant-typography%22%20style=%22font-size:%2012px;%20line-height:%2020px;%20font-weight:%20400;%22%3E.900%3C/span%3E%3C/span%3E%3C/span%3E%3C/div%3E%3C/div%3E%3Cdiv%3E%3Cdiv%20class=%22%20css-1g17rkf-TabularCell%22%3E%3Cspan%20class=%22css-mkoicc-CaptionCellRenderer%22%3E%3Cspan%3E%3Cspan%20class=%22ant-typography%22%20style=%22font-size:%2012px;%20line-height:%2020px;%20font-weight:%20bold;%20color:%20rgb(0,%200,%20255);%22%3E180,900%3C/span%3E%3C/span%3E%3C/span%3E%3C/div%3E%3C/div%3E%3C/div%3E%3Cdiv%20class=%22css-3cge9w%22%3E%3Cdiv%3E%3Cdiv%20class=%22%20css-1hcmypl-TabularCell%22%3E%3Cspan%20class=%22css-mkoicc-CaptionCellRenderer%22%3E%3Cspan%3E%3Cspan%20class=%22ant-typography%22%20style=%22font-size:%2012px;%20line-height:%2020px;%20font-weight:%20400;%22%3E309%3C/span%3E%3C/span%3E%3C/span%3E%3C/div%3E%3C/div%3E%3Cdiv%3E%3Cdiv%20class=%22%20css-1hcmypl-TabularCell%22%3E%3Cspan%20class=%22css-mkoicc-CaptionCellRenderer%22%3E%3Cspan%3E%3Cspan%20class=%22ant-typography%22%20style=%22font-size:%2012px;%20line-height:%2020px;%20font-weight:%20400;%22%3E45,545.8%3C/span%3E%3C/span%3E%3C/span%3E%3C/div%3E%3C/div%3E%3Cdiv%3E%3Cdiv%20class=%22%20css-1hcmypl-TabularCell%22%3E%3Cspan%20class=%22css-mkoicc-CaptionCellRenderer%22%3E%3Cspan%3E%3Cspan%20class=%22ant-typography%22%20style=%22font-size:%2012px;%20line-height:%2020px;%20font-weight:%20400;%22%3E.845%3C/span%3E%3C/span%3E%3C/span%3E%3C/div%3E%3C/div%3E%3Cdiv%3E%3Cdiv%20class=%22%20css-1hcmypl-TabularCell%22%3E%3Cspan%20class=%22css-mkoicc-CaptionCellRenderer%22%3E%3Cspan%3E%3Cspan%20class=%22ant-typography%22%20style=%22font-size:%2012px;%20line-height:%2020px;%20font-weight:%20400;%22%3E.900%3C/span%3E%3C/span%3E%3C/span%3E%3C/div%3E%3C/div%3E%3Cdiv%3E%3Cdiv%20class=%22%20css-1qvxlg1-TabularCell%22%3E%3Cspan%20class=%22css-mkoicc-CaptionCellRenderer%22%3E%3Cspan%3E%3Cspan%20class=%22ant-typography%22%20style=%22font-size:%2012px;%20line-height:%2020px;%20font-weight:%20bold;%20color:%20rgb(0,%200,%20255);%22%3E243,100%3C/span%3E%3C/span%3E%3C/span%3E%3C/div%3E%3C/div%3E%3C/div%3E%3Cdiv%20class=%22css-3cge9w%22%3E%3Cdiv%3E%3Cdiv%20class=%22%20css-qazlap-TabularCell%22%3E%3Cspan%20class=%22css-mkoicc-CaptionCellRenderer%22%3E%3Cspan%3E%3Cspan%20class=%22ant-typography%22%20style=%22font-size:%2012px;%20line-height:%2020px;%20font-weight:%20400;%22%3E0%3C/span%3E%3C/span%3E%3C/span%3E%3C/div%3E%3C/div%3E%3Cdiv%3E%3Cdiv%20class=%22%20css-qazlap-TabularCell%22%3E%3Cspan%20class=%22css-mkoicc-CaptionCellRenderer%22%3E%3Cspan%3E%3Cspan%20class=%22ant-typography%22%20style=%22font-size:%2012px;%20line-height:%2020px;%20font-weight:%20400;%22%3E35,011.5%3C/span%3E%3C/span%3E%3C/span%3E%3C/div%3E%3C/div%3E%3Cdiv%3E%3Cdiv%20class=%22%20css-qazlap-TabularCell%22%3E%3Cspan%20class=%22css-mkoicc-CaptionCellRenderer%22%3E%3Cspan%3E%3Cspan%20class=%22ant-typography%22%20style=%22font-size:%2012px;%20line-height:%2020px;%20font-weight:%20400;%22%3E.923%3C/span%3E%3C/span%3E%3C/span%3E%3C/div%3E%3C/div%3E%3Cdiv%3E%3Cdiv%20class=%22%20css-qazlap-TabularCell%22%3E%3Cspan%20class=%22css-mkoicc-CaptionCellRenderer%22%3E%3Cspan%3E%3Cspan%20class=%22ant-typography%22%20style=%22font-size:%2012px;%20line-height:%2020px;%20font-weight:%20400;%22%3E.923%3C/span%3E%3C/span%3E%3C/span%3E%3C/div%3E%3C/div%3E%3Cdiv%3E%3Cdiv%20class=%22%20css-1g17rkf-TabularCell%22%3E%3Cspan%20class=%22css-mkoicc-CaptionCellRenderer%22%3E%3Cspan%3E%3Cspan%20class=%22ant-typography%22%20style=%22font-size:%2012px;%20line-height:%2020px;%20font-weight:%20bold;%20color:%20rgb(0,%200,%20255);%22%3E235,400%3C/span%3E%3C/span%3E%3C/span%3E%3C/div%3E%3C/div%3E%3C/div%3E%3Cdiv%20class=%22css-3cge9w%22%3E%3Cdiv%3E%3Cdiv%20class=%22%20css-m3b6cx-TabularCell%22%3E%3Cspan%20class=%22css-mkoicc-CaptionCellRenderer%22%3E%3Cspan%3E%3Cspan%20class=%22ant-typography%22%20style=%22font-size:%2012px;%20line-height:%2020px;%20font-weight:%20400;%22%3E55%3C/span%3E%3C/span%3E%3C/span%3E%3C/div%3E%3C/div%3E%3Cdiv%3E%3Cdiv%20class=%22%20css-m3b6cx-TabularCell%22%3E%3Cspan%20class=%22css-mkoicc-CaptionCellRenderer%22%3E%3Cspan%3E%3Cspan%20class=%22ant-typography%22%20style=%22font-size:%2012px;%20line-height:%2020px;%20font-weight:%20400;%22%3E45,509.65%3C/span%3E%3C/span%3E%3C/span%3E%3C/div%3E%3C/div%3E%3Cdiv%3E%3Cdiv%20class=%22%20css-m3b6cx-TabularCell%22%3E%3Cspan%20class=%22css-mkoicc-CaptionCellRenderer%22%3E%3Cspan%3E%3Cspan%20class=%22ant-typography%22%20style=%22font-size:%2012px;%20line-height:%2020px;%20font-weight:%20400;%22%3E.891%3C/span%3E%3C/span%3E%3C/span%3E%3C/div%3E%3C/div%3E%3Cdiv%3E%3Cdiv%20class=%22%20css-m3b6cx-TabularCell%22%3E%3Cspan%20class=%22css-mkoicc-CaptionCellRenderer%22%3E%3Cspan%3E%3Cspan%20class=%22ant-typography%22%20style=%22font-size:%2012px;%20line-height:%2020px;%20font-weight:%20400;%22%3E.900%3C/span%3E%3C/span%3E%3C/span%3E%3C/div%3E%3C/div%3E%3Cdiv%3E%3Cdiv%20class=%22%20css-171tgtu-TabularCell%22%3E%3Cspan%20class=%22css-mkoicc-CaptionCellRenderer%22%3E%3Cspan%3E%3Cspan%20class=%22ant-typography%22%20style=%22font-size:%2012px;%20line-height:%2020px;%20font-weight:%20bold;%20color:%20rgb(0,%200,%20255);%22%3E188,600%3C/span%3E%3C/span%3E%3C/span%3E%3C/div%3E%3C/div%3E%3C/div%3E%3C/div%3E%3C/div%3E%3C/div%3E%3C/div%3E%3Cdiv%20class=%22css-t881dv-SelectionStatistics%22%3E%3C/div%3E%3C/div%3E%3C/div%3E%3C/div%3E%3C/div%3E%3C/div%3E%3C/div%3E%3Cspan%20role=%22presentation%22%20class=%22css-14zuz97%20Resizer%20vertical%20disabled%22%3E%3C/span%3E%3Cdiv%20class=%22Pane%20vertical%20Pane2%20%20%22%20style=%22flex:%200%200%20auto;%20position:%20relative;%20outline:%20none;%20width:%200px;%20display:%20flex;%20background-color:%20rgb(255,%20255,%20255);%20overflow:%20auto;%22%3E%3Cdiv%20class=%22css-1ouk3zc-EditorSplitPane%22%3E%3Cdiv%20class=%22css-1jjvrwi-EditorSplitPane%22%3E%3C/div%3E%3C/div%3E%3C/div%3E%3C/div%3E%3C/div%3E%3C/div%3E%3C/div%3E%0A%20%20%20%20%20%20%20%20%3C/div%3E%0A%20%20%20%20%20%20%3C/foreignObject%3E%0A%20%20%20%20%3C/svg%3E\">"
      ],
      "text/plain": [
       "Open the notebook in JupyterLab with the atoti extension installed and enabled to see this widget."
      ]
     },
     "metadata": {},
     "output_type": "display_data"
    }
   ],
   "source": [
    "cube.visualize()"
   ]
  },
  {
   "cell_type": "markdown",
   "metadata": {},
   "source": [
    "Now if we compare _Logistic Regression (SMOTE) Prediction_ against _Naive Bayes Prediction_ that has the highest NRR, we see that for a 23% difference in revenue lost, we have to spend 29% more to achieve 90% NRR.  \n",
    "However, do keep in mind that the expense (difference of \\\\$53,200) is one time off, while the revenue (difference of \\\\$10,487.41) is recurring. \n",
    "It will take approximately 5 months to earn back the extra expense spent.  \n",
    "So we have to weight which model brings better value to the telco."
   ]
  },
  {
   "cell_type": "code",
   "execution_count": 45,
   "metadata": {
    "atoti": {
     "height": 143,
     "state": {
      "name": "Naive Bayes vs Logistic Regression (SMOTE)",
      "type": "container",
      "value": {
       "body": {
        "configuration": {
         "featuredValues": {}
        },
        "contextValues": {},
        "mdx": "WITH  Member [Measures].[Final Revenue Lost] AS ([Measures].[Post retention revenue lost] - ([Measures].[Clients to replace] * [Measures].[Churn MonthlyCharges.MEAN])), FORMAT_STRING = \"#,###.##\"  SELECT NON EMPTY {[Measures].[Final Revenue Lost], [Measures].[Actual Expense]} ON COLUMNS, {[Epoch].[Epoch].[Naive Bayes Prediction], [Epoch].[Epoch].[Logistic Regression (SMOTE) Prediction]} ON PAGES FROM [customer_cube] CELL PROPERTIES BACK_COLOR, FONT_FLAGS, FORE_COLOR, FORMATTED_VALUE, VALUE",
        "ranges": {
         "column": {
          "chunkSize": 20,
          "thresholdPercentage": 0.1
         },
         "row": {
          "chunkSize": 20,
          "thresholdPercentage": 0.1
         }
        },
        "serverUrl": "",
        "updateMode": "once"
       },
       "containerKey": "featured-values",
       "showTitleBar": false,
       "style": {}
      }
     }
    }
   },
   "outputs": [
    {
     "data": {
      "application/vnd.atoti.v0+json": {
       "cellSet": {
        "axes": [
         {
          "hierarchies": [
           {
            "dimension": "Measures",
            "hierarchy": "Measures"
           }
          ],
          "id": 0,
          "positions": [
           [
            {
             "captionPath": [
              "Final Revenue Lost"
             ],
             "namePath": [
              "Final Revenue Lost"
             ],
             "properties": {
              "DISPLAY_INFO": 0
             }
            }
           ],
           [
            {
             "captionPath": [
              "Actual Expense"
             ],
             "namePath": [
              "Actual Expense"
             ],
             "properties": {
              "DISPLAY_INFO": 0
             }
            }
           ]
          ]
         },
         {
          "hierarchies": [
           {
            "dimension": "Epoch",
            "hierarchy": "Epoch"
           }
          ],
          "id": 2,
          "positions": [
           [
            {
             "captionPath": [
              "Naive Bayes Prediction"
             ],
             "namePath": [
              "Naive Bayes Prediction"
             ],
             "properties": {
              "DISPLAY_INFO": 0
             }
            }
           ],
           [
            {
             "captionPath": [
              "Logistic Regression (SMOTE) Prediction"
             ],
             "namePath": [
              "Logistic Regression (SMOTE) Prediction"
             ],
             "properties": {
              "DISPLAY_INFO": 0
             }
            }
           ]
          ]
         }
        ],
        "cells": [
         {
          "formattedValue": "35,011.5",
          "ordinal": 0,
          "properties": {
           "BACK_COLOR": null,
           "FONT_FLAGS": 0,
           "FORE_COLOR": null
          },
          "value": 35011.500000000015
         },
         {
          "formattedValue": "235,400",
          "ordinal": 1,
          "properties": {
           "BACK_COLOR": null,
           "FONT_FLAGS": 0,
           "FORE_COLOR": null
          },
          "value": 235400
         },
         {
          "formattedValue": "45,543.9",
          "ordinal": 2,
          "properties": {
           "BACK_COLOR": null,
           "FONT_FLAGS": 0,
           "FORE_COLOR": null
          },
          "value": 45543.89764192148
         },
         {
          "formattedValue": "180,900",
          "ordinal": 3,
          "properties": {
           "BACK_COLOR": null,
           "FONT_FLAGS": 0,
           "FORE_COLOR": null
          },
          "value": 180900
         }
        ],
        "cube": "customer_cube",
        "defaultMembers": [
         {
          "captionPath": [
           "Count"
          ],
          "dimension": "Measures",
          "hierarchy": "Measures",
          "path": [
           "contributors.COUNT"
          ]
         },
         {
          "captionPath": [
           "Base"
          ],
          "dimension": "Epoch",
          "hierarchy": "Epoch",
          "path": [
           "Base"
          ]
         }
        ],
        "epoch": 1
       },
       "cube": "customer_cube",
       "error": null,
       "name": "Naive Bayes vs Logistic Regression (SMOTE)",
       "session": "Unnamed"
      },
      "text/html": [
       "<img src=\"data:image/svg+xml;charset=utf8,%3C?xml%20version=%221.0%22%20standalone=%22no%22?%3E%0A%20%20%20%20%3Csvg%20xmlns=%22http://www.w3.org/2000/svg%22%20width=%221754%22%20height=%22143%22%3E%0A%20%20%20%20%20%20%3CforeignObject%20x=%220%22%20y=%220%22%20width=%22100%25%22%20height=%22100%25%22%3E%0A%20%20%20%20%20%20%20%20%3Cstyle%20type=%22text/css%22%3E.css-xsa55j-dock%20%7Bposition:%20relative;%20z-index:%200;%20height:%20100%25;%20background-color:%20rgb(255,%20255,%20255);%20display:%20flex;%20flex-direction:%20column%7D%0A.css-1ibuxvk-DockBody%20%7Bpadding-top:%200px;%20padding-left:%200px;%20padding-right:%200px;%20padding-bottom:%200px;%20flex-grow:%201;%20flex-shrink:%201;%20flex-basis:%200%25;%20box-sizing:%20border-box;%20position:%20relative;%20z-index:%200;%20overflow-x:%20hidden;%20overflow-y:%20hidden%7D%0A.css-14zuz97%20%7Bbackground-image:%20initial;%20background-position-x:%20initial;%20background-position-y:%20initial;%20background-size:%20initial;%20background-repeat-x:%20initial;%20background-repeat-y:%20initial;%20background-attachment:%20initial;%20background-origin:%20initial;%20background-color:%20rgba(0,%200,%200,%200.2);%20z-index:%201;%20box-sizing:%20border-box;%20background-clip:%20padding-box%7D%0A.css-14zuz97.vertical%20%7Bwidth:%2012px;%20margin-top:%200px;%20margin-right:%20-6px;%20margin-bottom:%200px;%20margin-left:%20-6px;%20border-left-width:%205.5px;%20border-left-style:%20solid;%20border-left-color:%20transparent;%20border-right-width:%205.5px;%20border-right-style:%20solid;%20border-right-color:%20transparent;%20cursor:%20col-resize%7D%0A.css-14zuz97.disabled%20%7Bdisplay:%20none%7D%0A.css-1lrljg1-EditorSplitPane%20%7Bbackground-color:%20rgb(255,%20255,%20255);%20flex-grow:%201;%20flex-shrink:%201;%20flex-basis:%200%25;%20margin-right:%200px;%20position:%20relative%7D%0A.css-15fz3t7-EditorSplitPane%20%7Bposition:%20absolute;%20top:%200px;%20bottom:%200px;%20left:%200px;%20right:%200px;%20display:%20flex;%20flex-direction:%20column%7D%0A.css-1ouk3zc-EditorSplitPane%20%7Bbackground-color:%20rgb(255,%20255,%20255);%20flex-grow:%201;%20flex-shrink:%201;%20flex-basis:%200%25%7D%0A.css-1jjvrwi-EditorSplitPane%20%7Bposition:%20absolute;%20top:%200px;%20bottom:%200px;%20left:%200px;%20right:%200px;%20overflow-y:%20auto%7D%0A.css-1tklk88-FeaturedValues%20%7Bdisplay:%20flex;%20flex-direction:%20column;%20height:%20100%25;%20width:%20100%25;%20overflow-x:%20hidden;%20overflow-y:%20hidden%7D%0A.css-btdmby-FeaturedValues%20%7Boverflow-x:%20auto;%20overflow-y:%20auto;%20height:%20100%25%7D%0A.css-1g4yje1%20%7Bdisplay:%20flex;%20flex-direction:%20column;%20height:%20100%25%7D%0A.css-2imjyh%20%7Bdisplay:%20flex;%20flex-wrap:%20wrap%7D%0A.css-xie5j%20%7Bwidth:%20min-content;%20padding-right:%2015px%7D%0A.css-9v4jgi-featuredValue%20%7Bmargin-top:%206px;%20padding-top:%204px;%20padding-right:%206px;%20padding-bottom:%204px;%20padding-left:%206px%7D%0A.css-13etuq-TextField%20%7Bposition:%20relative;%20font-size:%2014px;%20line-height:%2022px;%20font-weight:%20600;%20color:%20rgba(0,%200,%200,%200.65)%7D%0A.css-g6zut1%20%7Bvisibility:%20hidden;%20position:%20fixed;%20white-space:%20pre;%20left:%20-1000px;%20top:%20-1000px%7D%0A.css-13f7ta7-featuredValue%20%7Bdisplay:%20flex;%20-webkit-box-align:%20center;%20align-items:%20center%7D%0A.css-8y022r-featuredValue%20%7Bcolor:%20rgba(0,%200,%200,%200.65);%20font-size:%2030px;%20white-space:%20nowrap;%20border-top-left-radius:%204px;%20border-top-right-radius:%204px;%20border-bottom-right-radius:%204px;%20border-bottom-left-radius:%204px;%20width:%20min-content;%20line-height:%2038px;%20overflow-x:%20hidden;%20overflow-y:%20hidden;%20text-overflow:%20ellipsis;%20padding-top:%203px;%20padding-right:%203px;%20padding-bottom:%203px;%20padding-left:%203px%7D%0A.css-qgb5l6-ComparisonValue%20%7Bfont-size:%2024px;%20line-height:%2038px;%20border-left-width:%202px;%20border-left-style:%20solid;%20border-left-color:%20rgb(233,%20233,%20233);%20margin-left:%205px;%20color:%20rgb(245,%2034,%2045);%20padding-top:%205px;%20padding-right:%205px;%20padding-bottom:%205px;%20padding-left:%205px%7D%0A.css-11pg2t2-ComparisonValue%20%7Bfont-size:%2024px;%20line-height:%2038px;%20border-left-width:%202px;%20border-left-style:%20solid;%20border-left-color:%20rgb(233,%20233,%20233);%20margin-left:%205px;%20color:%20rgb(82,%20196,%2026);%20padding-top:%205px;%20padding-right:%205px;%20padding-bottom:%205px;%20padding-left:%205px%7D%0A.ant-root%20html,%20.ant-root%20%7Bwidth:%20100%25;%20height:%20100%25%7D%0A.ant-root%20*,%20.ant-root%20::before,%20.ant-root%20::after%20%7Bbox-sizing:%20border-box%7D%0A.ant-root%20%7Bmargin-top:%200px;%20margin-right:%200px;%20margin-bottom:%200px;%20margin-left:%200px;%20color:%20rgba(0,%200,%200,%200.65);%20font-size:%2014px;%20font-family:%20-apple-system,%20BlinkMacSystemFont,%20%22Segoe%20UI%22,%20%22PingFang%20SC%22,%20%22Hiragino%20Sans%20GB%22,%20%22Microsoft%20YaHei%22,%20%22Helvetica%20Neue%22,%20Helvetica,%20Arial,%20sans-serif,%20%22Apple%20Color%20Emoji%22,%20%22Segoe%20UI%20Emoji%22,%20%22Segoe%20UI%20Symbol%22;%20font-variant-ligatures:%20normal;%20font-variant-numeric:%20tabular-nums;%20font-variant-east-asian:%20normal;%20font-variant-caps:%20normal;%20line-height:%201.5;%20background-color:%20rgb(255,%20255,%20255);%20font-feature-settings:%20%22tnum%22;%20--antd-wave-shadow-color:%20undefined%7D%0A.ant-root%20p%20%7Bmargin-top:%200px;%20margin-bottom:%201em%7D%0A.ant-root%20.anticon%20%7Bdisplay:%20inline-block;%20color:%20inherit;%20font-style:%20normal;%20line-height:%200;%20text-align:%20center;%20text-transform:%20none;%20vertical-align:%20-0.125em;%20text-rendering:%20optimizelegibility;%20-webkit-font-smoothing:%20antialiased%7D%0A.ant-root%20.ant-input%20%7Bbox-sizing:%20border-box;%20margin-top:%200px;%20margin-right:%200px;%20margin-bottom:%200px;%20margin-left:%200px;%20font-variant-ligatures:%20normal;%20font-variant-numeric:%20tabular-nums;%20font-variant-east-asian:%20normal;%20font-variant-caps:%20normal;%20list-style-position:%20initial;%20list-style-image:%20initial;%20list-style-type:%20none;%20font-feature-settings:%20%22tnum%22;%20position:%20relative;%20display:%20inline-block;%20width:%20100%25;%20height:%2032px;%20padding-top:%204px;%20padding-right:%2011px;%20padding-bottom:%204px;%20padding-left:%2011px;%20color:%20rgba(0,%200,%200,%200.65);%20font-size:%2014px;%20line-height:%2032px;%20background-color:%20rgb(255,%20255,%20255);%20background-image:%20none;%20border-top-width:%201px;%20border-right-width:%201px;%20border-bottom-width:%201px;%20border-left-width:%201px;%20border-top-style:%20solid;%20border-right-style:%20solid;%20border-bottom-style:%20solid;%20border-left-style:%20solid;%20border-top-color:%20rgb(217,%20217,%20217);%20border-right-color:%20rgb(217,%20217,%20217);%20border-bottom-color:%20rgb(217,%20217,%20217);%20border-left-color:%20rgb(217,%20217,%20217);%20border-image-source:%20initial;%20border-image-slice:%20initial;%20border-image-width:%20initial;%20border-image-outset:%20initial;%20border-image-repeat:%20initial;%20border-top-left-radius:%204px;%20border-top-right-radius:%204px;%20border-bottom-right-radius:%204px;%20border-bottom-left-radius:%204px;%20transition-duration:%200.3s;%20transition-timing-function:%20ease;%20transition-delay:%200s;%20transition-property:%20all%7D%0A.ant-root%20.ant-typography%20%7Bcolor:%20rgba(0,%200,%200,%200.65)%7D%0A.css-1sxolix-Widget%20%7Bheight:%20100%25%7D%0A.css-1sxolix-Widget%20.ant-root:not(.atoti-widget-chooser)%20%7Bbox-shadow:%20none%7D%3C/style%3E%0A%20%20%20%20%20%20%20%20%3Cdiv%20xmlns=%22http://www.w3.org/1999/xhtml%22%20style=%22height:%20143px;%20width:%201754px%22%3E%0A%20%20%20%20%20%20%20%20%20%20%3Cdiv%20xmlns=%22http://www.w3.org/1999/xhtml%22%20class=%22css-1sxolix-Widget%22%3E%3Cdiv%20class=%22ant-root%20css-xsa55j-dock%22%3E%3Cdiv%20class=%22css-1ibuxvk-DockBody%22%3E%3Cdiv%20class=%22SplitPane%20%20vertical%20disabled%22%20style=%22display:%20flex;%20flex:%201%201%200%25;%20height:%20100%25;%20position:%20relative;%20outline:%20none;%20overflow:%20hidden;%20user-select:%20text;%20flex-direction:%20row;%20left:%200px;%20right:%200px;%22%3E%3Cdiv%20class=%22Pane%20vertical%20Pane1%20%20%22%20style=%22flex:%201%201%200%25;%20position:%20relative;%20outline:%20none;%20display:%20flex;%20background-color:%20rgb(255,%20255,%20255);%22%3E%3Cdiv%20class=%22css-1lrljg1-EditorSplitPane%22%3E%3Cdiv%20class=%22css-15fz3t7-EditorSplitPane%22%3E%3Cdiv%20class=%22css-1tklk88-FeaturedValues%22%3E%3Cdiv%20class=%22css-btdmby-FeaturedValues%22%3E%3Cdiv%20class=%22css-1g4yje1%22%3E%3Cdiv%20class=%22css-2imjyh%22%3E%3Cdiv%20class=%22css-2imjyh%22%3E%3Cdiv%20class=%22css-xie5j%22%3E%3Cdiv%20class=%22css-9v4jgi-featuredValue%22%3E%3Cdiv%3E%3Cdiv%20class=%22css-13etuq-TextField%22%3E%3Cp%20class=%22ant-input%22%20style=%22font:%20inherit;%20height:%20initial;%20cursor:%20text;%20padding:%200px;%20border-radius:%204px;%20background-color:%20rgb(255,%20255,%20255);%20color:%20inherit;%20text-transform:%20none;%20border:%201px%20solid%20transparent;%20box-sizing:%20content-box;%20min-width:%20100%25;%20max-width:%20100%25;%20text-overflow:%20ellipsis;%20letter-spacing:%20inherit;%20transition:%20none%200s%20ease%200s;%20margin:%200px;%20width:%20292px;%22%3EFinal%20Revenue%20Lost%20%20Naive%20Bayes%20Prediction%3C/p%3E%3Cdiv%3E%3Cspan%20class=%22css-g6zut1%22%3EFinal%20Revenue%20Lost%20%20Naive%20Bayes%20Prediction%3C/span%3E%3Cspan%20class=%22css-g6zut1%22%3E%3C/span%3E%3C/div%3E%3C/div%3E%3C/div%3E%3Cdiv%20class=%22css-13f7ta7-featuredValue%22%3E%3Cdiv%20class=%22css-8y022r-featuredValue%22%3E35,011.5%3C/div%3E%3Cdiv%20class=%22css-qgb5l6-ComparisonValue%22%3E%3Cdiv%3E-23%25%3C/div%3E%3C/div%3E%3Ci%20aria-label=%22icon:%20arrow-down%22%20class=%22anticon%20anticon-arrow-down%22%20style=%22color:%20rgb(245,%2034,%2045);%22%3E%3C/i%3E%3C/div%3E%3Cspan%20class=%22ant-typography%22%20style=%22font-size:%2012px;%20line-height:%2020px;%20font-weight:%20400;%22%3E45,543.9%20%20Logistic%20Regression%20(SMOTE)%20Prediction%3C/span%3E%3C/div%3E%3C/div%3E%3Cdiv%20class=%22css-xie5j%22%3E%3Cdiv%20class=%22css-9v4jgi-featuredValue%22%3E%3Cdiv%3E%3Cdiv%20class=%22css-13etuq-TextField%22%3E%3Cp%20class=%22ant-input%22%20style=%22font:%20inherit;%20height:%20initial;%20cursor:%20text;%20padding:%200px;%20border-radius:%204px;%20background-color:%20rgb(255,%20255,%20255);%20color:%20inherit;%20text-transform:%20none;%20border:%201px%20solid%20transparent;%20box-sizing:%20content-box;%20min-width:%20100%25;%20max-width:%20100%25;%20text-overflow:%20ellipsis;%20letter-spacing:%20inherit;%20transition:%20none%200s%20ease%200s;%20margin:%200px;%20width:%20268px;%22%3EActual%20Expense%20%20Naive%20Bayes%20Prediction%3C/p%3E%3Cdiv%3E%3Cspan%20class=%22css-g6zut1%22%3EActual%20Expense%20%20Naive%20Bayes%20Prediction%3C/span%3E%3Cspan%20class=%22css-g6zut1%22%3E%3C/span%3E%3C/div%3E%3C/div%3E%3C/div%3E%3Cdiv%20class=%22css-13f7ta7-featuredValue%22%3E%3Cdiv%20class=%22css-8y022r-featuredValue%22%3E235,400%3C/div%3E%3Cdiv%20class=%22css-11pg2t2-ComparisonValue%22%3E%3Cdiv%3E30%25%3C/div%3E%3C/div%3E%3Ci%20aria-label=%22icon:%20arrow-up%22%20class=%22anticon%20anticon-arrow-up%22%20style=%22color:%20rgb(82,%20196,%2026);%22%3E%3C/i%3E%3C/div%3E%3Cspan%20class=%22ant-typography%22%20style=%22font-size:%2012px;%20line-height:%2020px;%20font-weight:%20400;%22%3E180,900%20%20Logistic%20Regression%20(SMOTE)%20Prediction%3C/span%3E%3C/div%3E%3C/div%3E%3C/div%3E%3C/div%3E%3C/div%3E%3C/div%3E%3C/div%3E%3C/div%3E%3C/div%3E%3C/div%3E%3Cspan%20role=%22presentation%22%20class=%22css-14zuz97%20Resizer%20vertical%20disabled%22%3E%3C/span%3E%3Cdiv%20class=%22Pane%20vertical%20Pane2%20%20%22%20style=%22flex:%200%200%20auto;%20position:%20relative;%20outline:%20none;%20width:%200px;%20display:%20flex;%20background-color:%20rgb(255,%20255,%20255);%20overflow:%20auto;%22%3E%3Cdiv%20class=%22css-1ouk3zc-EditorSplitPane%22%3E%3Cdiv%20class=%22css-1jjvrwi-EditorSplitPane%22%3E%3C/div%3E%3C/div%3E%3C/div%3E%3C/div%3E%3C/div%3E%3C/div%3E%3C/div%3E%0A%20%20%20%20%20%20%20%20%3C/div%3E%0A%20%20%20%20%20%20%3C/foreignObject%3E%0A%20%20%20%20%3C/svg%3E\">"
      ],
      "text/plain": [
       "Open the notebook in JupyterLab with the atoti extension installed and enabled to see this widget."
      ]
     },
     "metadata": {},
     "output_type": "display_data"
    }
   ],
   "source": [
    "cube.visualize(\"Naive Bayes vs Logistic Regression (SMOTE)\")"
   ]
  },
  {
   "cell_type": "markdown",
   "metadata": {},
   "source": [
    "## What-if we want 95% NRR?\n",
    "\n",
    "We can easily setup the simulation that allow us to replace the _TargetNRR_."
   ]
  },
  {
   "cell_type": "code",
   "execution_count": 46,
   "metadata": {},
   "outputs": [],
   "source": [
    "NRR_simulation = cube.setup_simulation(\n",
    "    \"NRR Simulation\", base_scenario=\"90% NRR\", replace=[m[\"TargetNRR\"]],\n",
    ").scenarios\n",
    "\n",
    "NRR_simulation[\"95% NRR\"] = 0.95"
   ]
  },
  {
   "cell_type": "markdown",
   "metadata": {},
   "source": [
    "We see the expense to achieve 95% NRR is close to 1.5 times the expense to achieve 90% NRR.  \n",
    "All the predictions have a gap with the targeted NRR, hence requires new recruitment of customers to replace those who have churn.  \n",
    "This consequently results in higher expenses."
   ]
  },
  {
   "cell_type": "code",
   "execution_count": 47,
   "metadata": {
    "atoti": {
     "height": 249,
     "state": {
      "name": "",
      "type": "container",
      "value": {
       "body": {
        "configuration": {
         "tabular": {
          "addButtonFilter": "numeric",
          "cellRenderers": [
           "tree-layout"
          ],
          "columnOrder": {
           "args": {
            "orderedColumns": [
             "c-treeCells-member",
             "([Measure Simulations].[NRR Simulation].[NRR Simulation].[90% NRR],[Measures].[Clients to replace])",
             "([Measure Simulations].[NRR Simulation].[NRR Simulation].[90% NRR],[Measures].[Final Revenue Lost])",
             "([Measure Simulations].[NRR Simulation].[NRR Simulation].[90% NRR],[Measures].[Actual Expense (1)])",
             "([Measure Simulations].[NRR Simulation].[NRR Simulation].[90% NRR],[Measures].[Post retention NRR (2)])",
             "([Measure Simulations].[NRR Simulation].[NRR Simulation].[90% NRR],[Measures].[Final NRR])",
             "([Measure Simulations].[NRR Simulation].[NRR Simulation].[95% NRR],[Measures].[Clients to replace])",
             "([Measure Simulations].[NRR Simulation].[NRR Simulation].[95% NRR],[Measures].[Final Revenue Lost])",
             "([Measure Simulations].[NRR Simulation].[NRR Simulation].[95% NRR],[Measures].[Actual Expense (1)])",
             "([Measure Simulations].[NRR Simulation].[NRR Simulation].[95% NRR],[Measures].[Post retention NRR (2)])",
             "([Measure Simulations].[NRR Simulation].[NRR Simulation].[95% NRR],[Measures].[Final NRR])"
            ]
           },
           "key": "explicit"
          },
          "columns": [
           {
            "key": "c-treeCells-member",
            "width": 258
           },
           {
            "hide": false,
            "key": "[Measures].[Post retention revenue lost]",
            "width": 198
           },
           {
            "key": "[Measures].[iif([Customer]].[Churn]].[ALL]].[AllMember]].[Yes]], 1, 0)]",
            "width": 903
           },
           {
            "key": "([Customer].[ChurnPredicted].[ALL].[AllMember].[No],[Measures].[PredictionAccuracy.SUM])",
            "width": 193
           },
           {
            "key": "([Customer].[ChurnPredicted].[ALL].[AllMember].[Yes],[Measures].[PredictionAccuracy.SUM])",
            "width": 182
           },
           {
            "key": "([Customer].[ChurnPredicted].[ALL].[AllMember].[Yes],[Measures].[contributors.COUNT])",
            "width": 140
           },
           {
            "hide": false,
            "key": "[Measures].[Predicted Revenue Lost]",
            "width": 140
           },
           {
            "hide": false,
            "key": "[Measures].[Predicted Revenue Lost - Post retention revenue lost]",
            "width": 100
           },
           {
            "hide": false,
            "key": "[Measures].[NRR (1) - NRR post retention (1)]",
            "width": 150
           },
           {
            "key": "[Measures].[MRR Initial]",
            "width": 128
           },
           {
            "hide": false,
            "key": "[Measures].[Revenue Compensation]",
            "width": 146
           },
           {
            "key": "[Measures].[NRR post retention (1) - NRR (1)]",
            "width": 141
           },
           {
            "key": "[Measures].[Retention size]",
            "width": 93
           },
           {
            "key": "[Measures].[NRR post retention (2)]",
            "width": 125
           },
           {
            "key": "[Measures].[Actual Expense]",
            "width": 133
           },
           {
            "key": "([Measure Simulations].[NRR Simulation].[NRR Simulation].[95% NRR],[Measures].[Final Revenue Lost])",
            "width": 141
           },
           {
            "key": "([Measure Simulations].[NRR Simulation].[NRR Simulation].[95% NRR],[Measures].[Final NRR])",
            "width": 123
           },
           {
            "key": "([Measure Simulations].[NRR Simulation].[NRR Simulation].[95% NRR],[Measures].[Post retention NRR (2)])",
            "width": 138
           },
           {
            "key": "([Measure Simulations].[NRR Simulation].[NRR Simulation].[95% NRR],[Measures].[Clients to replace])",
            "width": 131
           },
           {
            "key": "([Measure Simulations].[NRR Simulation].[NRR Simulation].[90% NRR],[Measures].[Final Revenue Lost])",
            "width": 144
           },
           {
            "key": "([Measure Simulations].[NRR Simulation].[NRR Simulation].[90% NRR],[Measures].[Post retention NRR (2)])",
            "width": 136
           }
          ],
          "columnsGroups": [
           {
            "captionProducer": "firstColumn",
            "cellFactory": "kpi-status",
            "selector": "kpi-status"
           },
           {
            "captionProducer": "firstColumn",
            "cellFactory": "lookup",
            "selector": "lookup"
           },
           {
            "captionProducer": "expiry",
            "cellFactory": "expiry",
            "selector": "kpi-expiry"
           },
           {
            "captionProducer": "columnMerge",
            "cellFactory": {
             "args": {},
             "key": "treeCells"
            },
            "selector": "member"
           }
          ],
          "defaultOptions": {},
          "expansion": {
           "automaticExpansion": true
          },
          "hideAddButton": true,
          "pinnedHeaderSelector": "member",
          "sortingMode": "non-breaking",
          "statisticsShown": true
         }
        },
        "contextValues": {},
        "mdx": "WITH  Member [Measures].[Post retention NRR (1)] AS [Measures].[Post retention NRR], FORMAT_STRING = \"#,###.0000\", CAPTION = [Measures].[Post retention NRR].MEMBER_CAPTION    Member [Measures].[NRR (1)] AS [Measures].[NRR], FORMAT_STRING = \"#,###.0000\", CAPTION = [Measures].[NRR].MEMBER_CAPTION    Member [Measures].[[Epoch]].[Epoch]].[Branch]]_for_order] AS [Epoch].[Epoch].CurrentMember.MEMBER_VALUE    Member [Measures].[Post retention NRR (2)] AS [Measures].[Post retention NRR], FORMAT_STRING = \"#,###.000\", CAPTION = [Measures].[Post retention NRR].MEMBER_CAPTION    Member [Measures].[Final Revenue Lost] AS ([Measures].[Post retention revenue lost] - ([Measures].[Clients to replace] * [Measures].[Churn MonthlyCharges.MEAN])), FORMAT_STRING = \"#,###.##\"    Member [Measures].[Final NRR] AS ([Measures].[MRR Initial] - [Measures].[Final Revenue Lost]) / [Measures].[MRR Initial], FORMAT_STRING = \"#,###.000\"    Member [Measures].[Actual Expense (1)] AS [Measures].[Actual Expense], CAPTION = [Measures].[Actual Expense].MEMBER_CAPTION, BACK_COLOR = \"transparent\", FORMAT_STRING = \"#,###\", FONT_FLAGS = 1, FORE_COLOR = rgb(0, 0, 255)  SELECT NON EMPTY Order(Hierarchize(Union([Epoch].[Epoch].[Branch].Members, [Epoch].[Epoch].[Branch].[Logistic Regression Prediction])), [Measures].[[Epoch]].[Epoch]].[Branch]]_for_order], ASC) ON ROWS, NON EMPTY Crossjoin([Measure Simulations].[NRR Simulation].[NRR Simulation].Members, {[Measures].[Post retention NRR (2)], [Measures].[Clients to replace], [Measures].[Actual Expense (1)], [Measures].[Final Revenue Lost], [Measures].[Final NRR]}) ON COLUMNS FROM [customer_cube] CELL PROPERTIES BACK_COLOR, FONT_FLAGS, FORE_COLOR, FORMATTED_VALUE, VALUE",
        "ranges": {
         "column": {
          "chunkSize": 50,
          "thresholdPercentage": 0.2
         },
         "row": {
          "chunkSize": 2000,
          "thresholdPercentage": 0.1
         }
        },
        "serverUrl": "",
        "updateMode": "once"
       },
       "containerKey": "pivot-table",
       "showTitleBar": false,
       "style": {}
      }
     }
    }
   },
   "outputs": [
    {
     "data": {
      "application/vnd.atoti.v0+json": {
       "cellSet": {
        "axes": [
         {
          "hierarchies": [
           {
            "dimension": "Measure Simulations",
            "hierarchy": "NRR Simulation"
           },
           {
            "dimension": "Measures",
            "hierarchy": "Measures"
           }
          ],
          "id": 0,
          "positions": [
           [
            {
             "captionPath": [
              "90% NRR"
             ],
             "namePath": [
              "90% NRR"
             ],
             "properties": {
              "DISPLAY_INFO": 0
             }
            },
            {
             "captionPath": [
              "Post retention NRR"
             ],
             "namePath": [
              "Post retention NRR (2)"
             ],
             "properties": {
              "DISPLAY_INFO": 0
             }
            }
           ],
           [
            {
             "captionPath": [
              "90% NRR"
             ],
             "namePath": [
              "90% NRR"
             ],
             "properties": {
              "DISPLAY_INFO": 0
             }
            },
            {
             "captionPath": [
              "Clients to replace"
             ],
             "namePath": [
              "Clients to replace"
             ],
             "properties": {
              "DISPLAY_INFO": 0
             }
            }
           ],
           [
            {
             "captionPath": [
              "90% NRR"
             ],
             "namePath": [
              "90% NRR"
             ],
             "properties": {
              "DISPLAY_INFO": 0
             }
            },
            {
             "captionPath": [
              "Actual Expense"
             ],
             "namePath": [
              "Actual Expense (1)"
             ],
             "properties": {
              "DISPLAY_INFO": 0
             }
            }
           ],
           [
            {
             "captionPath": [
              "90% NRR"
             ],
             "namePath": [
              "90% NRR"
             ],
             "properties": {
              "DISPLAY_INFO": 0
             }
            },
            {
             "captionPath": [
              "Final Revenue Lost"
             ],
             "namePath": [
              "Final Revenue Lost"
             ],
             "properties": {
              "DISPLAY_INFO": 0
             }
            }
           ],
           [
            {
             "captionPath": [
              "90% NRR"
             ],
             "namePath": [
              "90% NRR"
             ],
             "properties": {
              "DISPLAY_INFO": 0
             }
            },
            {
             "captionPath": [
              "Final NRR"
             ],
             "namePath": [
              "Final NRR"
             ],
             "properties": {
              "DISPLAY_INFO": 0
             }
            }
           ],
           [
            {
             "captionPath": [
              "95% NRR"
             ],
             "namePath": [
              "95% NRR"
             ],
             "properties": {
              "DISPLAY_INFO": 0
             }
            },
            {
             "captionPath": [
              "Post retention NRR"
             ],
             "namePath": [
              "Post retention NRR (2)"
             ],
             "properties": {
              "DISPLAY_INFO": 0
             }
            }
           ],
           [
            {
             "captionPath": [
              "95% NRR"
             ],
             "namePath": [
              "95% NRR"
             ],
             "properties": {
              "DISPLAY_INFO": 0
             }
            },
            {
             "captionPath": [
              "Clients to replace"
             ],
             "namePath": [
              "Clients to replace"
             ],
             "properties": {
              "DISPLAY_INFO": 0
             }
            }
           ],
           [
            {
             "captionPath": [
              "95% NRR"
             ],
             "namePath": [
              "95% NRR"
             ],
             "properties": {
              "DISPLAY_INFO": 0
             }
            },
            {
             "captionPath": [
              "Actual Expense"
             ],
             "namePath": [
              "Actual Expense (1)"
             ],
             "properties": {
              "DISPLAY_INFO": 0
             }
            }
           ],
           [
            {
             "captionPath": [
              "95% NRR"
             ],
             "namePath": [
              "95% NRR"
             ],
             "properties": {
              "DISPLAY_INFO": 0
             }
            },
            {
             "captionPath": [
              "Final Revenue Lost"
             ],
             "namePath": [
              "Final Revenue Lost"
             ],
             "properties": {
              "DISPLAY_INFO": 0
             }
            }
           ],
           [
            {
             "captionPath": [
              "95% NRR"
             ],
             "namePath": [
              "95% NRR"
             ],
             "properties": {
              "DISPLAY_INFO": 0
             }
            },
            {
             "captionPath": [
              "Final NRR"
             ],
             "namePath": [
              "Final NRR"
             ],
             "properties": {
              "DISPLAY_INFO": 0
             }
            }
           ]
          ]
         },
         {
          "hierarchies": [
           {
            "dimension": "Epoch",
            "hierarchy": "Epoch"
           }
          ],
          "id": 1,
          "positions": [
           [
            {
             "captionPath": [
              "Base"
             ],
             "namePath": [
              "Base"
             ],
             "properties": {
              "DISPLAY_INFO": 0
             }
            }
           ],
           [
            {
             "captionPath": [
              "Logistic Regression (SMOTE) Prediction"
             ],
             "namePath": [
              "Logistic Regression (SMOTE) Prediction"
             ],
             "properties": {
              "DISPLAY_INFO": 0
             }
            }
           ],
           [
            {
             "captionPath": [
              "Logistic Regression Prediction"
             ],
             "namePath": [
              "Logistic Regression Prediction"
             ],
             "properties": {
              "DISPLAY_INFO": 0
             }
            }
           ],
           [
            {
             "captionPath": [
              "Naive Bayes Prediction"
             ],
             "namePath": [
              "Naive Bayes Prediction"
             ],
             "properties": {
              "DISPLAY_INFO": 0
             }
            }
           ],
           [
            {
             "captionPath": [
              "SVM Classifier Linear Prediction"
             ],
             "namePath": [
              "SVM Classifier Linear Prediction"
             ],
             "properties": {
              "DISPLAY_INFO": 0
             }
            }
           ]
          ]
         }
        ],
        "cells": [
         {
          "formattedValue": ".979",
          "ordinal": 0,
          "properties": {
           "BACK_COLOR": null,
           "FONT_FLAGS": 0,
           "FORE_COLOR": null
          },
          "value": 0.9793874174002164
         },
         {
          "formattedValue": "0",
          "ordinal": 1,
          "properties": {
           "BACK_COLOR": null,
           "FONT_FLAGS": 0,
           "FORE_COLOR": null
          },
          "value": 0
         },
         {
          "formattedValue": "125,700",
          "ordinal": 2,
          "properties": {
           "BACK_COLOR": "transparent",
           "FONT_FLAGS": 1,
           "FORE_COLOR": 16711680
          },
          "value": 125700
         },
         {
          "formattedValue": "9,392.35",
          "ordinal": 3,
          "properties": {
           "BACK_COLOR": null,
           "FONT_FLAGS": 0,
           "FORE_COLOR": null
          },
          "value": 9392.349999999995
         },
         {
          "formattedValue": ".979",
          "ordinal": 4,
          "properties": {
           "BACK_COLOR": null,
           "FONT_FLAGS": 0,
           "FORE_COLOR": null
          },
          "value": 0.9793874174002164
         },
         {
          "formattedValue": ".989",
          "ordinal": 5,
          "properties": {
           "BACK_COLOR": null,
           "FONT_FLAGS": 0,
           "FORE_COLOR": null
          },
          "value": 0.9891415986884987
         },
         {
          "formattedValue": "0",
          "ordinal": 6,
          "properties": {
           "BACK_COLOR": null,
           "FONT_FLAGS": 0,
           "FORE_COLOR": null
          },
          "value": 0
         },
         {
          "formattedValue": "156,300",
          "ordinal": 7,
          "properties": {
           "BACK_COLOR": "transparent",
           "FONT_FLAGS": 1,
           "FORE_COLOR": 16711680
          },
          "value": 156300
         },
         {
          "formattedValue": "4,947.75",
          "ordinal": 8,
          "properties": {
           "BACK_COLOR": null,
           "FONT_FLAGS": 0,
           "FORE_COLOR": null
          },
          "value": 4947.749999999998
         },
         {
          "formattedValue": ".989",
          "ordinal": 9,
          "properties": {
           "BACK_COLOR": null,
           "FONT_FLAGS": 0,
           "FORE_COLOR": null
          },
          "value": 0.9891415986884987
         },
         {
          "formattedValue": ".896",
          "ordinal": 10,
          "properties": {
           "BACK_COLOR": null,
           "FONT_FLAGS": 0,
           "FORE_COLOR": null
          },
          "value": 0.8960608873702159
         },
         {
          "formattedValue": "24",
          "ordinal": 11,
          "properties": {
           "BACK_COLOR": null,
           "FONT_FLAGS": 0,
           "FORE_COLOR": null
          },
          "value": 24
         },
         {
          "formattedValue": "180,900",
          "ordinal": 12,
          "properties": {
           "BACK_COLOR": "transparent",
           "FONT_FLAGS": 1,
           "FORE_COLOR": 16711680
          },
          "value": 180900
         },
         {
          "formattedValue": "45,543.9",
          "ordinal": 13,
          "properties": {
           "BACK_COLOR": null,
           "FONT_FLAGS": 0,
           "FORE_COLOR": null
          },
          "value": 45543.897641921445
         },
         {
          "formattedValue": ".900",
          "ordinal": 14,
          "properties": {
           "BACK_COLOR": null,
           "FONT_FLAGS": 0,
           "FORE_COLOR": null
          },
          "value": 0.9000487256053921
         },
         {
          "formattedValue": ".906",
          "ordinal": 15,
          "properties": {
           "BACK_COLOR": null,
           "FONT_FLAGS": 0,
           "FORE_COLOR": null
          },
          "value": 0.9063957635171761
         },
         {
          "formattedValue": "263",
          "ordinal": 16,
          "properties": {
           "BACK_COLOR": null,
           "FONT_FLAGS": 0,
           "FORE_COLOR": null
          },
          "value": 263
         },
         {
          "formattedValue": "330,500",
          "ordinal": 17,
          "properties": {
           "BACK_COLOR": "transparent",
           "FONT_FLAGS": 1,
           "FORE_COLOR": 16711680
          },
          "value": 330500
         },
         {
          "formattedValue": "22,739.39",
          "ordinal": 18,
          "properties": {
           "BACK_COLOR": null,
           "FONT_FLAGS": 0,
           "FORE_COLOR": null
          },
          "value": 22739.38665938869
         },
         {
          "formattedValue": ".950",
          "ordinal": 19,
          "properties": {
           "BACK_COLOR": null,
           "FONT_FLAGS": 0,
           "FORE_COLOR": null
          },
          "value": 0.9500958241776482
         },
         {
          "formattedValue": ".845",
          "ordinal": 20,
          "properties": {
           "BACK_COLOR": null,
           "FONT_FLAGS": 0,
           "FORE_COLOR": null
          },
          "value": 0.8454460662641745
         },
         {
          "formattedValue": "309",
          "ordinal": 21,
          "properties": {
           "BACK_COLOR": null,
           "FONT_FLAGS": 0,
           "FORE_COLOR": null
          },
          "value": 309
         },
         {
          "formattedValue": "243,100",
          "ordinal": 22,
          "properties": {
           "BACK_COLOR": "transparent",
           "FONT_FLAGS": 1,
           "FORE_COLOR": 16711680
          },
          "value": 243100
         },
         {
          "formattedValue": "45,545.8",
          "ordinal": 23,
          "properties": {
           "BACK_COLOR": null,
           "FONT_FLAGS": 0,
           "FORE_COLOR": null
          },
          "value": 45545.80289455548
         },
         {
          "formattedValue": ".900",
          "ordinal": 24,
          "properties": {
           "BACK_COLOR": null,
           "FONT_FLAGS": 0,
           "FORE_COLOR": null
          },
          "value": 0.9000445443113291
         },
         {
          "formattedValue": ".857",
          "ordinal": 25,
          "properties": {
           "BACK_COLOR": null,
           "FONT_FLAGS": 0,
           "FORE_COLOR": null
          },
          "value": 0.8571838493968104
         },
         {
          "formattedValue": "526",
          "ordinal": 26,
          "properties": {
           "BACK_COLOR": null,
           "FONT_FLAGS": 0,
           "FORE_COLOR": null
          },
          "value": 526
         },
         {
          "formattedValue": "379,900",
          "ordinal": 27,
          "properties": {
           "BACK_COLOR": "transparent",
           "FONT_FLAGS": 1,
           "FORE_COLOR": 16711680
          },
          "value": 379900
         },
         {
          "formattedValue": "22,726.12",
          "ordinal": 28,
          "properties": {
           "BACK_COLOR": null,
           "FONT_FLAGS": 0,
           "FORE_COLOR": null
          },
          "value": 22726.116092350116
         },
         {
          "formattedValue": ".950",
          "ordinal": 29,
          "properties": {
           "BACK_COLOR": null,
           "FONT_FLAGS": 0,
           "FORE_COLOR": null
          },
          "value": 0.9501249479495719
         },
         {
          "formattedValue": ".923",
          "ordinal": 30,
          "properties": {
           "BACK_COLOR": null,
           "FONT_FLAGS": 0,
           "FORE_COLOR": null
          },
          "value": 0.9231632726961491
         },
         {
          "formattedValue": "0",
          "ordinal": 31,
          "properties": {
           "BACK_COLOR": null,
           "FONT_FLAGS": 0,
           "FORE_COLOR": null
          },
          "value": 0
         },
         {
          "formattedValue": "235,400",
          "ordinal": 32,
          "properties": {
           "BACK_COLOR": "transparent",
           "FONT_FLAGS": 1,
           "FORE_COLOR": 16711680
          },
          "value": 235400
         },
         {
          "formattedValue": "35,011.5",
          "ordinal": 33,
          "properties": {
           "BACK_COLOR": null,
           "FONT_FLAGS": 0,
           "FORE_COLOR": null
          },
          "value": 35011.50000000004
         },
         {
          "formattedValue": ".923",
          "ordinal": 34,
          "properties": {
           "BACK_COLOR": null,
           "FONT_FLAGS": 0,
           "FORE_COLOR": null
          },
          "value": 0.9231632726961491
         },
         {
          "formattedValue": ".933",
          "ordinal": 35,
          "properties": {
           "BACK_COLOR": null,
           "FONT_FLAGS": 0,
           "FORE_COLOR": null
          },
          "value": 0.9329714414882995
         },
         {
          "formattedValue": "113",
          "ordinal": 36,
          "properties": {
           "BACK_COLOR": null,
           "FONT_FLAGS": 0,
           "FORE_COLOR": null
          },
          "value": 113
         },
         {
          "formattedValue": "324,800",
          "ordinal": 37,
          "properties": {
           "BACK_COLOR": "transparent",
           "FONT_FLAGS": 1,
           "FORE_COLOR": 16711680
          },
          "value": 324800
         },
         {
          "formattedValue": "22,717.64",
          "ordinal": 38,
          "properties": {
           "BACK_COLOR": null,
           "FONT_FLAGS": 0,
           "FORE_COLOR": null
          },
          "value": 22717.63901062418
         },
         {
          "formattedValue": ".950",
          "ordinal": 39,
          "properties": {
           "BACK_COLOR": null,
           "FONT_FLAGS": 0,
           "FORE_COLOR": null
          },
          "value": 0.9501435518716235
         },
         {
          "formattedValue": ".891",
          "ordinal": 40,
          "properties": {
           "BACK_COLOR": null,
           "FONT_FLAGS": 0,
           "FORE_COLOR": null
          },
          "value": 0.890904093174531
         },
         {
          "formattedValue": "55",
          "ordinal": 41,
          "properties": {
           "BACK_COLOR": null,
           "FONT_FLAGS": 0,
           "FORE_COLOR": null
          },
          "value": 55
         },
         {
          "formattedValue": "188,600",
          "ordinal": 42,
          "properties": {
           "BACK_COLOR": "transparent",
           "FONT_FLAGS": 1,
           "FORE_COLOR": 16711680
          },
          "value": 188600
         },
         {
          "formattedValue": "45,509.65",
          "ordinal": 43,
          "properties": {
           "BACK_COLOR": null,
           "FONT_FLAGS": 0,
           "FORE_COLOR": null
          },
          "value": 45509.65088355237
         },
         {
          "formattedValue": ".900",
          "ordinal": 44,
          "properties": {
           "BACK_COLOR": null,
           "FONT_FLAGS": 0,
           "FORE_COLOR": null
          },
          "value": 0.9001238840200229
         },
         {
          "formattedValue": ".901",
          "ordinal": 45,
          "properties": {
           "BACK_COLOR": null,
           "FONT_FLAGS": 0,
           "FORE_COLOR": null
          },
          "value": 0.901113656863326
         },
         {
          "formattedValue": "292",
          "ordinal": 46,
          "properties": {
           "BACK_COLOR": null,
           "FONT_FLAGS": 0,
           "FORE_COLOR": null
          },
          "value": 292
         },
         {
          "formattedValue": "336,900",
          "ordinal": 47,
          "properties": {
           "BACK_COLOR": "transparent",
           "FONT_FLAGS": 1,
           "FORE_COLOR": 16711680
          },
          "value": 336900
         },
         {
          "formattedValue": "22,754.63",
          "ordinal": 48,
          "properties": {
           "BACK_COLOR": null,
           "FONT_FLAGS": 0,
           "FORE_COLOR": null
          },
          "value": 22754.632872677896
         },
         {
          "formattedValue": ".950",
          "ordinal": 49,
          "properties": {
           "BACK_COLOR": null,
           "FONT_FLAGS": 0,
           "FORE_COLOR": null
          },
          "value": 0.9500623646248464
         }
        ],
        "cube": "customer_cube",
        "defaultMembers": [
         {
          "captionPath": [
           "Count"
          ],
          "dimension": "Measures",
          "hierarchy": "Measures",
          "path": [
           "contributors.COUNT"
          ]
         },
         {
          "captionPath": [
           "90% NRR"
          ],
          "dimension": "Measure Simulations",
          "hierarchy": "NRR Simulation",
          "path": [
           "90% NRR"
          ]
         },
         {
          "captionPath": [
           "Base"
          ],
          "dimension": "Epoch",
          "hierarchy": "Epoch",
          "path": [
           "Base"
          ]
         }
        ],
        "epoch": 66
       },
       "cube": "customer_cube",
       "error": null,
       "name": null,
       "session": "Unnamed"
      },
      "text/html": [
       "<img src=\"data:image/svg+xml;charset=utf8,%3C?xml%20version=%221.0%22%20standalone=%22no%22?%3E%0A%20%20%20%20%3Csvg%20xmlns=%22http://www.w3.org/2000/svg%22%20width=%221754%22%20height=%22249%22%3E%0A%20%20%20%20%20%20%3CforeignObject%20x=%220%22%20y=%220%22%20width=%22100%25%22%20height=%22100%25%22%3E%0A%20%20%20%20%20%20%20%20%3Cstyle%20type=%22text/css%22%3E.css-xsa55j-dock%20%7Bposition:%20relative;%20z-index:%200;%20height:%20100%25;%20background-color:%20rgb(255,%20255,%20255);%20display:%20flex;%20flex-direction:%20column%7D%0A.css-1ibuxvk-DockBody%20%7Bpadding-top:%200px;%20padding-left:%200px;%20padding-right:%200px;%20padding-bottom:%200px;%20flex-grow:%201;%20flex-shrink:%201;%20flex-basis:%200%25;%20box-sizing:%20border-box;%20position:%20relative;%20z-index:%200;%20overflow-x:%20hidden;%20overflow-y:%20hidden%7D%0A.css-14zuz97%20%7Bbackground-image:%20initial;%20background-position-x:%20initial;%20background-position-y:%20initial;%20background-size:%20initial;%20background-repeat-x:%20initial;%20background-repeat-y:%20initial;%20background-attachment:%20initial;%20background-origin:%20initial;%20background-color:%20rgba(0,%200,%200,%200.2);%20z-index:%201;%20box-sizing:%20border-box;%20background-clip:%20padding-box%7D%0A.css-14zuz97.vertical%20%7Bwidth:%2012px;%20margin-top:%200px;%20margin-right:%20-6px;%20margin-bottom:%200px;%20margin-left:%20-6px;%20border-left-width:%205.5px;%20border-left-style:%20solid;%20border-left-color:%20transparent;%20border-right-width:%205.5px;%20border-right-style:%20solid;%20border-right-color:%20transparent;%20cursor:%20col-resize%7D%0A.css-14zuz97.disabled%20%7Bdisplay:%20none%7D%0A.css-1lrljg1-EditorSplitPane%20%7Bbackground-color:%20rgb(255,%20255,%20255);%20flex-grow:%201;%20flex-shrink:%201;%20flex-basis:%200%25;%20margin-right:%200px;%20position:%20relative%7D%0A.css-15fz3t7-EditorSplitPane%20%7Bposition:%20absolute;%20top:%200px;%20bottom:%200px;%20left:%200px;%20right:%200px;%20display:%20flex;%20flex-direction:%20column%7D%0A.css-1k1fxuh-Tabular%20%7Bwidth:%20100%25;%20height:%20100%25;%20position:%20relative%7D%0A.css-10klw3m%20%7Bheight:%20100%25%7D%0A.css-mdjjdg-TabularHeader%20%7Bdisplay:%20flex%7D%0A.css-12nzxaz-PinnedTabularHeaders%20%7Bflex-shrink:%200;%20display:%20flex%7D%0A.css-5jtkjp-UnpinnedTabularHeaders%20%7Bdisplay:%20flex;%20position:%20absolute;%20left:%200px%7D%0A.css-19w2ip5-TabularHeaderCell%20%7Bcursor:%20default;%20-webkit-box-flex:%201;%20flex-grow:%201;%20flex-shrink:%201;%20box-sizing:%20border-box;%20padding-left:%204px;%20padding-right:%204px;%20padding-top:%204px;%20padding-bottom:%204px;%20height:%20100%25;%20overflow-x:%20hidden;%20overflow-y:%20hidden;%20display:%20flex;%20white-space:%20nowrap;%20-webkit-box-pack:%20start;%20justify-content:%20flex-start;%20align-items:%20flex-start%7D%0A.css-jpazdc-TabularHeaderCell%20%7Boverflow-x:%20hidden;%20overflow-y:%20hidden;%20text-overflow:%20ellipsis%7D%0A.css-y3oqqp%20%7Bfont-size:%2012px;%20line-height:%2022px;%20font-weight:%20600;%20color:%20rgba(0,%200,%200,%200.85)%7D%0A.css-c7y3a7-TabularHeaderCell%20%7Bflex-shrink:%200;%20height:%20100%25;%20display:%20flex;%20-webkit-box-pack:%20center;%20justify-content:%20center%7D%0A.css-1id6sm3-UnpinnedTabularRows%20%7Bposition:%20absolute;%20top:%200px;%20left:%200px%7D%0A.css-3cge9w%20%7Bcursor:%20cell;%20display:%20flex;%20height:%2028px;%20user-select:%20none%7D%0A.css-9ssj44-TreeCell%20%7Bwidth:%20min-content%7D%0A.css-mkrhzq%20%7Bdisplay:%20flex;%20margin-left:%200px%7D%0A.css-1i6gc04%20%7Bcursor:%20pointer;%20margin-top:%202px;%20height:%20inherit;%20display:%20flex;%20-webkit-box-align:%20center;%20align-items:%20center;%20font-size:%2010px;%20width:%2016px%7D%0A.css-8uhtka%20%7Boverflow-x:%20hidden;%20overflow-y:%20hidden;%20text-overflow:%20ellipsis;%20white-space:%20nowrap%7D%0A.css-1ouk3zc-EditorSplitPane%20%7Bbackground-color:%20rgb(255,%20255,%20255);%20flex-grow:%201;%20flex-shrink:%201;%20flex-basis:%200%25%7D%0A.css-1jjvrwi-EditorSplitPane%20%7Bposition:%20absolute;%20top:%200px;%20bottom:%200px;%20left:%200px;%20right:%200px;%20overflow-y:%20auto%7D%0A.css-1d97b2m-TabularHeaderGroup%20%7Bposition:%20relative;%20width:%20258px%7D%0A.css-10660th%20%7Bheight:%20100%25;%20box-sizing:%20border-box;%20display:%20flex;%20-webkit-box-pack:%20end;%20justify-content:%20flex-end;%20flex-direction:%20column;%20padding-top:%204px;%20padding-left:%204px;%20padding-right:%204px;%20padding-bottom:%203px;%20overflow-x:%20hidden;%20overflow-y:%20hidden;%20white-space:%20nowrap;%20border-right-width:%201px;%20border-right-style:%20solid;%20border-right-color:%20rgb(233,%20233,%20233);%20border-bottom-width:%20initial;%20border-bottom-style:%20none;%20border-bottom-color:%20initial;%20width:%20258px;%20align-items:%20flex-start;%20background-color:%20rgb(250,%20250,%20250)%7D%0A.css-1qlioq-TabularPinnSeparator%20%7Bwidth:%202px;%20height:%2056px;%20background-color:%20rgb(233,%20233,%20233)%7D%0A.css-x0jgjd%20%7Bcolor:%20rgba(0,%200,%200,%200.85);%20display:%20flex;%20box-sizing:%20border-box;%20-webkit-box-align:%20center;%20align-items:%20center;%20height:%2056px;%20position:%20absolute;%20top:%200px;%20left:%200px;%20user-select:%20none;%20font-size:%2012px;%20line-height:%2022px;%20font-weight:%20600;%20border-bottom-width:%202px;%20border-bottom-style:%20solid;%20border-bottom-color:%20rgb(233,%20233,%20233);%20width:%20258px;%20border-right-width:%201px;%20border-right-style:%20solid;%20border-right-color:%20rgb(233,%20233,%20233)%7D%0A.css-1ag4cda-TabularHeaderCell%20%7Bcursor:%20default;%20-webkit-box-flex:%201;%20flex-grow:%201;%20flex-shrink:%201;%20box-sizing:%20border-box;%20padding-left:%204px;%20padding-right:%204px;%20padding-top:%204px;%20padding-bottom:%204px;%20height:%20100%25;%20overflow-x:%20hidden;%20overflow-y:%20hidden;%20display:%20flex;%20overflow-wrap:%20break-word;%20-webkit-box-pack:%20start;%20justify-content:%20flex-start;%20align-items:%20flex-start%7D%0A.css-1v7kbgv-HeaderResizer%20%7Bposition:%20absolute;%20z-index:%201;%20width:%2010px;%20height:%2056px;%20left:%20253px;%20top:%200px;%20cursor:%20col-resize%7D%0A.css-1jg1296-HeaderResizer%20%7Bposition:%20absolute;%20z-index:%201;%20height:%2010px;%20width:%20258px;%20left:%200px;%20top:%2051px;%20cursor:%20row-resize%7D%0A.css-pm742e%20%7Bcursor:%20pointer;%20margin-top:%202px;%20height:%20inherit;%20display:%20flex;%20-webkit-box-align:%20center;%20align-items:%20center;%20font-size:%2010px;%20-webkit-box-pack:%20center;%20justify-content:%20center;%20padding-left:%204px%7D%0A.css-tlxtaa-HeaderResizer%20%7Bposition:%20absolute;%20z-index:%201;%20height:%2010px;%20width:%20120px;%20left:%200px;%20top:%2023px;%20cursor:%20row-resize%7D%0A.css-8r2ljj-PinnedTabularRows%20%7Bposition:%20absolute;%20right:%200px%7D%0A.css-8zvwca-PinnedTabularRows%20%7Bwidth:%202px;%20height:%20140px;%20background-color:%20rgb(233,%20233,%20233)%7D%0A.css-mkoicc-CaptionCellRenderer%20%7Bwidth:%20100%25;%20overflow-x:%20hidden;%20overflow-y:%20hidden;%20text-overflow:%20ellipsis;%20white-space:%20nowrap%7D%0A.css-t881dv-SelectionStatistics%20%7Bheight:%2020px;%20display:%20flex;%20padding-top:%205px;%20opacity:%200;%20transition-duration:%20300ms;%20transition-timing-function:%20ease;%20transition-delay:%200s;%20transition-property:%20opacity;%20position:%20absolute;%20right:%200px;%20left:%20unset%7D%0A.css-1hcmypl-TabularCell%20%7Bheight:%2028px;%20box-sizing:%20border-box;%20display:%20flex;%20-webkit-box-pack:%20end;%20justify-content:%20flex-end;%20flex-direction:%20column;%20padding-top:%204px;%20padding-left:%204px;%20padding-right:%204px;%20padding-bottom:%203px;%20overflow-x:%20hidden;%20overflow-y:%20hidden;%20white-space:%20nowrap;%20border-right-width:%201px;%20border-right-style:%20solid;%20border-right-color:%20rgb(233,%20233,%20233);%20border-bottom-width:%20initial;%20border-bottom-style:%20none;%20border-bottom-color:%20initial;%20width:%20120px;%20background-color:%20rgb(250,%20250,%20250);%20cursor:%20cell;%20user-select:%20none;%20text-align:%20right;%20align-items:%20flex-end%7D%0A.css-qazlap-TabularCell%20%7Bheight:%2028px;%20box-sizing:%20border-box;%20display:%20flex;%20-webkit-box-pack:%20end;%20justify-content:%20flex-end;%20flex-direction:%20column;%20padding-top:%204px;%20padding-left:%204px;%20padding-right:%204px;%20padding-bottom:%203px;%20overflow-x:%20hidden;%20overflow-y:%20hidden;%20white-space:%20nowrap;%20border-right-width:%201px;%20border-right-style:%20solid;%20border-right-color:%20rgb(233,%20233,%20233);%20border-bottom-width:%20initial;%20border-bottom-style:%20none;%20border-bottom-color:%20initial;%20width:%20120px;%20cursor:%20cell;%20user-select:%20none;%20text-align:%20right;%20align-items:%20flex-end%7D%0A.css-m3b6cx-TabularCell%20%7Bheight:%2028px;%20box-sizing:%20border-box;%20display:%20flex;%20-webkit-box-pack:%20end;%20justify-content:%20flex-end;%20flex-direction:%20column;%20padding-top:%204px;%20padding-left:%204px;%20padding-right:%204px;%20padding-bottom:%203px;%20overflow-x:%20hidden;%20overflow-y:%20hidden;%20white-space:%20nowrap;%20border-right-width:%201px;%20border-right-style:%20solid;%20border-right-color:%20rgb(233,%20233,%20233);%20border-bottom-width:%201px;%20border-bottom-style:%20solid;%20border-bottom-color:%20rgb(233,%20233,%20233);%20width:%20120px;%20background-color:%20rgb(250,%20250,%20250);%20cursor:%20cell;%20user-select:%20none;%20text-align:%20right;%20align-items:%20flex-end%7D%0A.css-1d2acnr-PinnedTabularRows%20%7Bposition:%20absolute;%20height:%20140px;%20width:%20260px;%20overflow-x:%20hidden;%20overflow-y:%20hidden%7D%0A.css-115oauw-PinnedTabularRows%20%7Bposition:%20absolute;%20overflow-x:%20hidden;%20overflow-y:%20hidden;%20top:%200px;%20width:%20258px%7D%0A.css-1xxirpd%20%7Bheight:%20100%25;%20box-sizing:%20border-box;%20display:%20flex;%20-webkit-box-pack:%20end;%20justify-content:%20flex-end;%20flex-direction:%20column;%20padding-top:%204px;%20padding-left:%204px;%20padding-right:%204px;%20padding-bottom:%203px;%20overflow-x:%20hidden;%20overflow-y:%20hidden;%20white-space:%20nowrap;%20border-right-width:%201px;%20border-right-style:%20solid;%20border-right-color:%20rgb(233,%20233,%20233);%20border-bottom-width:%20initial;%20border-bottom-style:%20none;%20border-bottom-color:%20initial;%20width:%20258px;%20align-items:%20flex-start%7D%0A.css-1lqzvii%20%7Bheight:%20100%25;%20box-sizing:%20border-box;%20display:%20flex;%20-webkit-box-pack:%20end;%20justify-content:%20flex-end;%20flex-direction:%20column;%20padding-top:%204px;%20padding-left:%204px;%20padding-right:%204px;%20padding-bottom:%203px;%20overflow-x:%20hidden;%20overflow-y:%20hidden;%20white-space:%20nowrap;%20border-right-width:%201px;%20border-right-style:%20solid;%20border-right-color:%20rgb(233,%20233,%20233);%20border-bottom-width:%201px;%20border-bottom-style:%20solid;%20border-bottom-color:%20rgb(233,%20233,%20233);%20width:%20258px;%20align-items:%20flex-start;%20background-color:%20rgb(250,%20250,%20250)%7D%0A.css-1qvxlg1-TabularCell%20%7Bheight:%2028px;%20box-sizing:%20border-box;%20display:%20flex;%20-webkit-box-pack:%20end;%20justify-content:%20flex-end;%20flex-direction:%20column;%20padding-top:%204px;%20padding-left:%204px;%20padding-right:%204px;%20padding-bottom:%203px;%20overflow-x:%20hidden;%20overflow-y:%20hidden;%20white-space:%20nowrap;%20border-right-width:%201px;%20border-right-style:%20solid;%20border-right-color:%20rgb(233,%20233,%20233);%20border-bottom-width:%20initial;%20border-bottom-style:%20none;%20border-bottom-color:%20initial;%20width:%20120px;%20background-color:%20transparent;%20cursor:%20cell;%20user-select:%20none;%20text-align:%20right;%20font-weight:%20bold;%20color:%20rgb(0,%200,%20255);%20align-items:%20flex-end%7D%0A.css-1g17rkf-TabularCell%20%7Bheight:%2028px;%20box-sizing:%20border-box;%20display:%20flex;%20-webkit-box-pack:%20end;%20justify-content:%20flex-end;%20flex-direction:%20column;%20padding-top:%204px;%20padding-left:%204px;%20padding-right:%204px;%20padding-bottom:%203px;%20overflow-x:%20hidden;%20overflow-y:%20hidden;%20white-space:%20nowrap;%20border-right-width:%201px;%20border-right-style:%20solid;%20border-right-color:%20rgb(233,%20233,%20233);%20border-bottom-width:%20initial;%20border-bottom-style:%20none;%20border-bottom-color:%20initial;%20width:%20120px;%20cursor:%20cell;%20user-select:%20none;%20text-align:%20right;%20background-color:%20transparent;%20font-weight:%20bold;%20color:%20rgb(0,%200,%20255);%20align-items:%20flex-end%7D%0A.css-171tgtu-TabularCell%20%7Bheight:%2028px;%20box-sizing:%20border-box;%20display:%20flex;%20-webkit-box-pack:%20end;%20justify-content:%20flex-end;%20flex-direction:%20column;%20padding-top:%204px;%20padding-left:%204px;%20padding-right:%204px;%20padding-bottom:%203px;%20overflow-x:%20hidden;%20overflow-y:%20hidden;%20white-space:%20nowrap;%20border-right-width:%201px;%20border-right-style:%20solid;%20border-right-color:%20rgb(233,%20233,%20233);%20border-bottom-width:%201px;%20border-bottom-style:%20solid;%20border-bottom-color:%20rgb(233,%20233,%20233);%20width:%20120px;%20background-color:%20transparent;%20cursor:%20cell;%20user-select:%20none;%20text-align:%20right;%20font-weight:%20bold;%20color:%20rgb(0,%200,%20255);%20align-items:%20flex-end%7D%0A.css-oeriq1-Tabular%20%7Bposition:%20relative;%20height:%20100%25;%20width:%201570px%7D%0A.css-baf1j-UnpinnedTabularHeaders%20%7Boverflow-x:%20hidden;%20overflow-y:%20hidden;%20position:%20relative;%20width:%201496px;%20height:%2056px%7D%0A.css-d21oi8-TabularHeaderGroup%20%7Bposition:%20relative;%20width:%201293px%7D%0A.css-63vi8n%20%7Bfont-size:%2012px;%20line-height:%2022px;%20font-weight:%20600;%20color:%20rgba(0,%200,%200,%200.85);%20text-align:%20center;%20-webkit-box-align:%20center;%20align-items:%20center;%20box-sizing:%20border-box;%20padding-left:%203px;%20padding-right:%203px;%20padding-top:%204px;%20padding-bottom:%204px;%20border-right-width:%201px;%20border-right-style:%20solid;%20border-right-color:%20rgb(233,%20233,%20233);%20width:%20640px;%20height:%2028px;%20position:%20absolute;%20top:%200px;%20left:%200px;%20cursor:%20auto;%20user-select:%20none;%20white-space:%20nowrap;%20text-overflow:%20ellipsis;%20overflow-x:%20hidden;%20overflow-y:%20hidden%7D%0A.css-dmx9tj%20%7Bcolor:%20rgba(0,%200,%200,%200.85);%20display:%20flex;%20box-sizing:%20border-box;%20-webkit-box-align:%20center;%20align-items:%20center;%20height:%2028px;%20position:%20absolute;%20top:%2028px;%20left:%200px;%20user-select:%20none;%20font-size:%2012px;%20line-height:%2022px;%20font-weight:%20600;%20border-bottom-width:%202px;%20border-bottom-style:%20solid;%20border-bottom-color:%20rgb(233,%20233,%20233);%20width:%20120px%7D%0A.css-4qo1go-HeaderResizer%20%7Bposition:%20absolute;%20z-index:%201;%20width:%2010px;%20height:%2028px;%20left:%20115px;%20top:%2028px;%20cursor:%20col-resize%7D%0A.css-d4bedq-HeaderResizer%20%7Bposition:%20absolute;%20z-index:%201;%20height:%2010px;%20width:%20120px;%20left:%200px;%20top:%2051px;%20cursor:%20row-resize%7D%0A.css-fokukz-HeaderResizer%20%7Bposition:%20absolute;%20z-index:%201;%20height:%2010px;%20width:%20144px;%20left:%20120px;%20top:%2023px;%20cursor:%20row-resize%7D%0A.css-13vldhu%20%7Bcolor:%20rgba(0,%200,%200,%200.85);%20display:%20flex;%20box-sizing:%20border-box;%20-webkit-box-align:%20center;%20align-items:%20center;%20height:%2028px;%20position:%20absolute;%20top:%2028px;%20left:%20120px;%20user-select:%20none;%20font-size:%2012px;%20line-height:%2022px;%20font-weight:%20600;%20border-bottom-width:%202px;%20border-bottom-style:%20solid;%20border-bottom-color:%20rgb(233,%20233,%20233);%20width:%20144px%7D%0A.css-170zqpn-HeaderResizer%20%7Bposition:%20absolute;%20z-index:%201;%20width:%2010px;%20height:%2028px;%20left:%20259px;%20top:%2028px;%20cursor:%20col-resize%7D%0A.css-1bvppol-HeaderResizer%20%7Bposition:%20absolute;%20z-index:%201;%20height:%2010px;%20width:%20144px;%20left:%20120px;%20top:%2051px;%20cursor:%20row-resize%7D%0A.css-2u8yez-HeaderResizer%20%7Bposition:%20absolute;%20z-index:%201;%20height:%2010px;%20width:%20120px;%20left:%20264px;%20top:%2023px;%20cursor:%20row-resize%7D%0A.css-1klf0al%20%7Bcolor:%20rgba(0,%200,%200,%200.85);%20display:%20flex;%20box-sizing:%20border-box;%20-webkit-box-align:%20center;%20align-items:%20center;%20height:%2028px;%20position:%20absolute;%20top:%2028px;%20left:%20264px;%20user-select:%20none;%20font-size:%2012px;%20line-height:%2022px;%20font-weight:%20600;%20border-bottom-width:%202px;%20border-bottom-style:%20solid;%20border-bottom-color:%20rgb(233,%20233,%20233);%20width:%20120px%7D%0A.css-13n9ek-HeaderResizer%20%7Bposition:%20absolute;%20z-index:%201;%20width:%2010px;%20height:%2028px;%20left:%20379px;%20top:%2028px;%20cursor:%20col-resize%7D%0A.css-1umzdmd-HeaderResizer%20%7Bposition:%20absolute;%20z-index:%201;%20height:%2010px;%20width:%20120px;%20left:%20264px;%20top:%2051px;%20cursor:%20row-resize%7D%0A.css-1pwe9ko-HeaderResizer%20%7Bposition:%20absolute;%20z-index:%201;%20height:%2010px;%20width:%20136px;%20left:%20384px;%20top:%2023px;%20cursor:%20row-resize%7D%0A.css-1ozdq4s%20%7Bcolor:%20rgba(0,%200,%200,%200.85);%20display:%20flex;%20box-sizing:%20border-box;%20-webkit-box-align:%20center;%20align-items:%20center;%20height:%2028px;%20position:%20absolute;%20top:%2028px;%20left:%20384px;%20user-select:%20none;%20font-size:%2012px;%20line-height:%2022px;%20font-weight:%20600;%20border-bottom-width:%202px;%20border-bottom-style:%20solid;%20border-bottom-color:%20rgb(233,%20233,%20233);%20width:%20136px%7D%0A.css-74y6lf-HeaderResizer%20%7Bposition:%20absolute;%20z-index:%201;%20width:%2010px;%20height:%2028px;%20left:%20515px;%20top:%2028px;%20cursor:%20col-resize%7D%0A.css-4bhl7c-HeaderResizer%20%7Bposition:%20absolute;%20z-index:%201;%20height:%2010px;%20width:%20136px;%20left:%20384px;%20top:%2051px;%20cursor:%20row-resize%7D%0A.css-1k7g0qv-HeaderResizer%20%7Bposition:%20absolute;%20z-index:%201;%20height:%2010px;%20width:%20120px;%20left:%20520px;%20top:%2023px;%20cursor:%20row-resize%7D%0A.css-18utp4x%20%7Bcolor:%20rgba(0,%200,%200,%200.85);%20display:%20flex;%20box-sizing:%20border-box;%20-webkit-box-align:%20center;%20align-items:%20center;%20height:%2028px;%20position:%20absolute;%20top:%2028px;%20left:%20520px;%20user-select:%20none;%20font-size:%2012px;%20line-height:%2022px;%20font-weight:%20600;%20border-bottom-width:%202px;%20border-bottom-style:%20solid;%20border-bottom-color:%20rgb(233,%20233,%20233);%20width:%20120px;%20border-right-width:%201px;%20border-right-style:%20solid;%20border-right-color:%20rgb(233,%20233,%20233)%7D%0A.css-15bd7j0-HeaderResizer%20%7Bposition:%20absolute;%20z-index:%201;%20width:%2010px;%20height:%2028px;%20left:%20635px;%20top:%2028px;%20cursor:%20col-resize%7D%0A.css-cz16cs-HeaderResizer%20%7Bposition:%20absolute;%20z-index:%201;%20height:%2010px;%20width:%20120px;%20left:%20520px;%20top:%2051px;%20cursor:%20row-resize%7D%0A.css-12xte58%20%7Bfont-size:%2012px;%20line-height:%2022px;%20font-weight:%20600;%20color:%20rgba(0,%200,%200,%200.85);%20text-align:%20center;%20-webkit-box-align:%20center;%20align-items:%20center;%20box-sizing:%20border-box;%20padding-left:%203px;%20padding-right:%203px;%20padding-top:%204px;%20padding-bottom:%204px;%20border-right-width:%201px;%20border-right-style:%20solid;%20border-right-color:%20rgb(233,%20233,%20233);%20width:%20653px;%20height:%2028px;%20position:%20absolute;%20top:%200px;%20left:%20640px;%20cursor:%20auto;%20user-select:%20none;%20white-space:%20nowrap;%20text-overflow:%20ellipsis;%20overflow-x:%20hidden;%20overflow-y:%20hidden%7D%0A.css-8b3hbj-HeaderResizer%20%7Bposition:%20absolute;%20z-index:%201;%20height:%2010px;%20width:%20131px;%20left:%20640px;%20top:%2023px;%20cursor:%20row-resize%7D%0A.css-1op1dqa%20%7Bcolor:%20rgba(0,%200,%200,%200.85);%20display:%20flex;%20box-sizing:%20border-box;%20-webkit-box-align:%20center;%20align-items:%20center;%20height:%2028px;%20position:%20absolute;%20top:%2028px;%20left:%20640px;%20user-select:%20none;%20font-size:%2012px;%20line-height:%2022px;%20font-weight:%20600;%20border-bottom-width:%202px;%20border-bottom-style:%20solid;%20border-bottom-color:%20rgb(233,%20233,%20233);%20width:%20131px%7D%0A.css-1k8d30b-HeaderResizer%20%7Bposition:%20absolute;%20z-index:%201;%20width:%2010px;%20height:%2028px;%20left:%20766px;%20top:%2028px;%20cursor:%20col-resize%7D%0A.css-a1ht7h-HeaderResizer%20%7Bposition:%20absolute;%20z-index:%201;%20height:%2010px;%20width:%20131px;%20left:%20640px;%20top:%2051px;%20cursor:%20row-resize%7D%0A.css-1kuuk1h-HeaderResizer%20%7Bposition:%20absolute;%20z-index:%201;%20height:%2010px;%20width:%20141px;%20left:%20771px;%20top:%2023px;%20cursor:%20row-resize%7D%0A.css-1jloc1a%20%7Bcolor:%20rgba(0,%200,%200,%200.85);%20display:%20flex;%20box-sizing:%20border-box;%20-webkit-box-align:%20center;%20align-items:%20center;%20height:%2028px;%20position:%20absolute;%20top:%2028px;%20left:%20771px;%20user-select:%20none;%20font-size:%2012px;%20line-height:%2022px;%20font-weight:%20600;%20border-bottom-width:%202px;%20border-bottom-style:%20solid;%20border-bottom-color:%20rgb(233,%20233,%20233);%20width:%20141px%7D%0A.css-12si50s-HeaderResizer%20%7Bposition:%20absolute;%20z-index:%201;%20width:%2010px;%20height:%2028px;%20left:%20907px;%20top:%2028px;%20cursor:%20col-resize%7D%0A.css-144ubtg-HeaderResizer%20%7Bposition:%20absolute;%20z-index:%201;%20height:%2010px;%20width:%20141px;%20left:%20771px;%20top:%2051px;%20cursor:%20row-resize%7D%0A.css-t6je0g-HeaderResizer%20%7Bposition:%20absolute;%20z-index:%201;%20height:%2010px;%20width:%20120px;%20left:%20912px;%20top:%2023px;%20cursor:%20row-resize%7D%0A.css-r1xdts%20%7Bcolor:%20rgba(0,%200,%200,%200.85);%20display:%20flex;%20box-sizing:%20border-box;%20-webkit-box-align:%20center;%20align-items:%20center;%20height:%2028px;%20position:%20absolute;%20top:%2028px;%20left:%20912px;%20user-select:%20none;%20font-size:%2012px;%20line-height:%2022px;%20font-weight:%20600;%20border-bottom-width:%202px;%20border-bottom-style:%20solid;%20border-bottom-color:%20rgb(233,%20233,%20233);%20width:%20120px%7D%0A.css-1aa4w7z-HeaderResizer%20%7Bposition:%20absolute;%20z-index:%201;%20width:%2010px;%20height:%2028px;%20left:%201027px;%20top:%2028px;%20cursor:%20col-resize%7D%0A.css-1wb8bdv-HeaderResizer%20%7Bposition:%20absolute;%20z-index:%201;%20height:%2010px;%20width:%20120px;%20left:%20912px;%20top:%2051px;%20cursor:%20row-resize%7D%0A.css-1nooxk-HeaderResizer%20%7Bposition:%20absolute;%20z-index:%201;%20height:%2010px;%20width:%20138px;%20left:%201032px;%20top:%2023px;%20cursor:%20row-resize%7D%0A.css-r2qbwl%20%7Bcolor:%20rgba(0,%200,%200,%200.85);%20display:%20flex;%20box-sizing:%20border-box;%20-webkit-box-align:%20center;%20align-items:%20center;%20height:%2028px;%20position:%20absolute;%20top:%2028px;%20left:%201032px;%20user-select:%20none;%20font-size:%2012px;%20line-height:%2022px;%20font-weight:%20600;%20border-bottom-width:%202px;%20border-bottom-style:%20solid;%20border-bottom-color:%20rgb(233,%20233,%20233);%20width:%20138px%7D%0A.css-1f9z7nu-HeaderResizer%20%7Bposition:%20absolute;%20z-index:%201;%20width:%2010px;%20height:%2028px;%20left:%201165px;%20top:%2028px;%20cursor:%20col-resize%7D%0A.css-3283sb-HeaderResizer%20%7Bposition:%20absolute;%20z-index:%201;%20height:%2010px;%20width:%20138px;%20left:%201032px;%20top:%2051px;%20cursor:%20row-resize%7D%0A.css-47ucxl-HeaderResizer%20%7Bposition:%20absolute;%20z-index:%201;%20height:%2010px;%20width:%20123px;%20left:%201170px;%20top:%2023px;%20cursor:%20row-resize%7D%0A.css-1lekv0w%20%7Bcolor:%20rgba(0,%200,%200,%200.85);%20display:%20flex;%20box-sizing:%20border-box;%20-webkit-box-align:%20center;%20align-items:%20center;%20height:%2028px;%20position:%20absolute;%20top:%2028px;%20left:%201170px;%20user-select:%20none;%20font-size:%2012px;%20line-height:%2022px;%20font-weight:%20600;%20border-bottom-width:%202px;%20border-bottom-style:%20solid;%20border-bottom-color:%20rgb(233,%20233,%20233);%20width:%20123px;%20border-right-width:%201px;%20border-right-style:%20solid;%20border-right-color:%20rgb(233,%20233,%20233)%7D%0A.css-14972fy-HeaderResizer%20%7Bposition:%20absolute;%20z-index:%201;%20width:%2010px;%20height:%2028px;%20left:%201288px;%20top:%2028px;%20cursor:%20col-resize%7D%0A.css-1akt0kx-HeaderResizer%20%7Bposition:%20absolute;%20z-index:%201;%20height:%2010px;%20width:%20123px;%20left:%201170px;%20top:%2051px;%20cursor:%20row-resize%7D%0A.css-zjk10i-TabularBody%20%7Bposition:%20relative;%20overflow-x:%20hidden;%20overflow-y:%20hidden;%20top:%200px;%20width:%201553px;%20height:%20140px%7D%0A.css-r23o54-UnpinnedTabularRows%20%7Bposition:%20absolute;%20overflow-x:%20hidden;%20overflow-y:%20hidden;%20left:%20260px;%20height:%20140px;%20width:%201293px%7D%0A.css-sjvq2h-TabularCell%20%7Bheight:%2028px;%20box-sizing:%20border-box;%20display:%20flex;%20-webkit-box-pack:%20end;%20justify-content:%20flex-end;%20flex-direction:%20column;%20padding-top:%204px;%20padding-left:%204px;%20padding-right:%204px;%20padding-bottom:%203px;%20overflow-x:%20hidden;%20overflow-y:%20hidden;%20white-space:%20nowrap;%20border-right-width:%201px;%20border-right-style:%20solid;%20border-right-color:%20rgb(233,%20233,%20233);%20border-bottom-width:%20initial;%20border-bottom-style:%20none;%20border-bottom-color:%20initial;%20width:%20144px;%20background-color:%20rgb(250,%20250,%20250);%20cursor:%20cell;%20user-select:%20none;%20text-align:%20right;%20align-items:%20flex-end%7D%0A.css-1yt0cq0-TabularCell%20%7Bheight:%2028px;%20box-sizing:%20border-box;%20display:%20flex;%20-webkit-box-pack:%20end;%20justify-content:%20flex-end;%20flex-direction:%20column;%20padding-top:%204px;%20padding-left:%204px;%20padding-right:%204px;%20padding-bottom:%203px;%20overflow-x:%20hidden;%20overflow-y:%20hidden;%20white-space:%20nowrap;%20border-right-width:%201px;%20border-right-style:%20solid;%20border-right-color:%20rgb(233,%20233,%20233);%20border-bottom-width:%20initial;%20border-bottom-style:%20none;%20border-bottom-color:%20initial;%20width:%20136px;%20background-color:%20rgb(250,%20250,%20250);%20cursor:%20cell;%20user-select:%20none;%20text-align:%20right;%20align-items:%20flex-end%7D%0A.css-9rjz4u-TabularCell%20%7Bheight:%2028px;%20box-sizing:%20border-box;%20display:%20flex;%20-webkit-box-pack:%20end;%20justify-content:%20flex-end;%20flex-direction:%20column;%20padding-top:%204px;%20padding-left:%204px;%20padding-right:%204px;%20padding-bottom:%203px;%20overflow-x:%20hidden;%20overflow-y:%20hidden;%20white-space:%20nowrap;%20border-right-width:%201px;%20border-right-style:%20solid;%20border-right-color:%20rgb(233,%20233,%20233);%20border-bottom-width:%20initial;%20border-bottom-style:%20none;%20border-bottom-color:%20initial;%20width:%20131px;%20background-color:%20rgb(250,%20250,%20250);%20cursor:%20cell;%20user-select:%20none;%20text-align:%20right;%20align-items:%20flex-end%7D%0A.css-4mhmj7-TabularCell%20%7Bheight:%2028px;%20box-sizing:%20border-box;%20display:%20flex;%20-webkit-box-pack:%20end;%20justify-content:%20flex-end;%20flex-direction:%20column;%20padding-top:%204px;%20padding-left:%204px;%20padding-right:%204px;%20padding-bottom:%203px;%20overflow-x:%20hidden;%20overflow-y:%20hidden;%20white-space:%20nowrap;%20border-right-width:%201px;%20border-right-style:%20solid;%20border-right-color:%20rgb(233,%20233,%20233);%20border-bottom-width:%20initial;%20border-bottom-style:%20none;%20border-bottom-color:%20initial;%20width:%20141px;%20background-color:%20rgb(250,%20250,%20250);%20cursor:%20cell;%20user-select:%20none;%20text-align:%20right;%20align-items:%20flex-end%7D%0A.css-ggca7e-TabularCell%20%7Bheight:%2028px;%20box-sizing:%20border-box;%20display:%20flex;%20-webkit-box-pack:%20end;%20justify-content:%20flex-end;%20flex-direction:%20column;%20padding-top:%204px;%20padding-left:%204px;%20padding-right:%204px;%20padding-bottom:%203px;%20overflow-x:%20hidden;%20overflow-y:%20hidden;%20white-space:%20nowrap;%20border-right-width:%201px;%20border-right-style:%20solid;%20border-right-color:%20rgb(233,%20233,%20233);%20border-bottom-width:%20initial;%20border-bottom-style:%20none;%20border-bottom-color:%20initial;%20width:%20138px;%20background-color:%20rgb(250,%20250,%20250);%20cursor:%20cell;%20user-select:%20none;%20text-align:%20right;%20align-items:%20flex-end%7D%0A.css-187rvyj-TabularCell%20%7Bheight:%2028px;%20box-sizing:%20border-box;%20display:%20flex;%20-webkit-box-pack:%20end;%20justify-content:%20flex-end;%20flex-direction:%20column;%20padding-top:%204px;%20padding-left:%204px;%20padding-right:%204px;%20padding-bottom:%203px;%20overflow-x:%20hidden;%20overflow-y:%20hidden;%20white-space:%20nowrap;%20border-right-width:%201px;%20border-right-style:%20solid;%20border-right-color:%20rgb(233,%20233,%20233);%20border-bottom-width:%20initial;%20border-bottom-style:%20none;%20border-bottom-color:%20initial;%20width:%20123px;%20background-color:%20rgb(250,%20250,%20250);%20cursor:%20cell;%20user-select:%20none;%20text-align:%20right;%20align-items:%20flex-end%7D%0A.css-1ifrn0b-TabularCell%20%7Bheight:%2028px;%20box-sizing:%20border-box;%20display:%20flex;%20-webkit-box-pack:%20end;%20justify-content:%20flex-end;%20flex-direction:%20column;%20padding-top:%204px;%20padding-left:%204px;%20padding-right:%204px;%20padding-bottom:%203px;%20overflow-x:%20hidden;%20overflow-y:%20hidden;%20white-space:%20nowrap;%20border-right-width:%201px;%20border-right-style:%20solid;%20border-right-color:%20rgb(233,%20233,%20233);%20border-bottom-width:%20initial;%20border-bottom-style:%20none;%20border-bottom-color:%20initial;%20width:%20144px;%20cursor:%20cell;%20user-select:%20none;%20text-align:%20right;%20align-items:%20flex-end%7D%0A.css-zcia4q-TabularCell%20%7Bheight:%2028px;%20box-sizing:%20border-box;%20display:%20flex;%20-webkit-box-pack:%20end;%20justify-content:%20flex-end;%20flex-direction:%20column;%20padding-top:%204px;%20padding-left:%204px;%20padding-right:%204px;%20padding-bottom:%203px;%20overflow-x:%20hidden;%20overflow-y:%20hidden;%20white-space:%20nowrap;%20border-right-width:%201px;%20border-right-style:%20solid;%20border-right-color:%20rgb(233,%20233,%20233);%20border-bottom-width:%20initial;%20border-bottom-style:%20none;%20border-bottom-color:%20initial;%20width:%20136px;%20cursor:%20cell;%20user-select:%20none;%20text-align:%20right;%20align-items:%20flex-end%7D%0A.css-sykde1-TabularCell%20%7Bheight:%2028px;%20box-sizing:%20border-box;%20display:%20flex;%20-webkit-box-pack:%20end;%20justify-content:%20flex-end;%20flex-direction:%20column;%20padding-top:%204px;%20padding-left:%204px;%20padding-right:%204px;%20padding-bottom:%203px;%20overflow-x:%20hidden;%20overflow-y:%20hidden;%20white-space:%20nowrap;%20border-right-width:%201px;%20border-right-style:%20solid;%20border-right-color:%20rgb(233,%20233,%20233);%20border-bottom-width:%20initial;%20border-bottom-style:%20none;%20border-bottom-color:%20initial;%20width:%20131px;%20cursor:%20cell;%20user-select:%20none;%20text-align:%20right;%20align-items:%20flex-end%7D%0A.css-1pawv46-TabularCell%20%7Bheight:%2028px;%20box-sizing:%20border-box;%20display:%20flex;%20-webkit-box-pack:%20end;%20justify-content:%20flex-end;%20flex-direction:%20column;%20padding-top:%204px;%20padding-left:%204px;%20padding-right:%204px;%20padding-bottom:%203px;%20overflow-x:%20hidden;%20overflow-y:%20hidden;%20white-space:%20nowrap;%20border-right-width:%201px;%20border-right-style:%20solid;%20border-right-color:%20rgb(233,%20233,%20233);%20border-bottom-width:%20initial;%20border-bottom-style:%20none;%20border-bottom-color:%20initial;%20width:%20141px;%20cursor:%20cell;%20user-select:%20none;%20text-align:%20right;%20align-items:%20flex-end%7D%0A.css-ma9bjk-TabularCell%20%7Bheight:%2028px;%20box-sizing:%20border-box;%20display:%20flex;%20-webkit-box-pack:%20end;%20justify-content:%20flex-end;%20flex-direction:%20column;%20padding-top:%204px;%20padding-left:%204px;%20padding-right:%204px;%20padding-bottom:%203px;%20overflow-x:%20hidden;%20overflow-y:%20hidden;%20white-space:%20nowrap;%20border-right-width:%201px;%20border-right-style:%20solid;%20border-right-color:%20rgb(233,%20233,%20233);%20border-bottom-width:%20initial;%20border-bottom-style:%20none;%20border-bottom-color:%20initial;%20width:%20138px;%20cursor:%20cell;%20user-select:%20none;%20text-align:%20right;%20align-items:%20flex-end%7D%0A.css-1ujztlf-TabularCell%20%7Bheight:%2028px;%20box-sizing:%20border-box;%20display:%20flex;%20-webkit-box-pack:%20end;%20justify-content:%20flex-end;%20flex-direction:%20column;%20padding-top:%204px;%20padding-left:%204px;%20padding-right:%204px;%20padding-bottom:%203px;%20overflow-x:%20hidden;%20overflow-y:%20hidden;%20white-space:%20nowrap;%20border-right-width:%201px;%20border-right-style:%20solid;%20border-right-color:%20rgb(233,%20233,%20233);%20border-bottom-width:%20initial;%20border-bottom-style:%20none;%20border-bottom-color:%20initial;%20width:%20123px;%20cursor:%20cell;%20user-select:%20none;%20text-align:%20right;%20align-items:%20flex-end%7D%0A.css-o99h4r-TabularCell%20%7Bheight:%2028px;%20box-sizing:%20border-box;%20display:%20flex;%20-webkit-box-pack:%20end;%20justify-content:%20flex-end;%20flex-direction:%20column;%20padding-top:%204px;%20padding-left:%204px;%20padding-right:%204px;%20padding-bottom:%203px;%20overflow-x:%20hidden;%20overflow-y:%20hidden;%20white-space:%20nowrap;%20border-right-width:%201px;%20border-right-style:%20solid;%20border-right-color:%20rgb(233,%20233,%20233);%20border-bottom-width:%201px;%20border-bottom-style:%20solid;%20border-bottom-color:%20rgb(233,%20233,%20233);%20width:%20144px;%20background-color:%20rgb(250,%20250,%20250);%20cursor:%20cell;%20user-select:%20none;%20text-align:%20right;%20align-items:%20flex-end%7D%0A.css-k6yhq6-TabularCell%20%7Bheight:%2028px;%20box-sizing:%20border-box;%20display:%20flex;%20-webkit-box-pack:%20end;%20justify-content:%20flex-end;%20flex-direction:%20column;%20padding-top:%204px;%20padding-left:%204px;%20padding-right:%204px;%20padding-bottom:%203px;%20overflow-x:%20hidden;%20overflow-y:%20hidden;%20white-space:%20nowrap;%20border-right-width:%201px;%20border-right-style:%20solid;%20border-right-color:%20rgb(233,%20233,%20233);%20border-bottom-width:%201px;%20border-bottom-style:%20solid;%20border-bottom-color:%20rgb(233,%20233,%20233);%20width:%20136px;%20background-color:%20rgb(250,%20250,%20250);%20cursor:%20cell;%20user-select:%20none;%20text-align:%20right;%20align-items:%20flex-end%7D%0A.css-khj9nl-TabularCell%20%7Bheight:%2028px;%20box-sizing:%20border-box;%20display:%20flex;%20-webkit-box-pack:%20end;%20justify-content:%20flex-end;%20flex-direction:%20column;%20padding-top:%204px;%20padding-left:%204px;%20padding-right:%204px;%20padding-bottom:%203px;%20overflow-x:%20hidden;%20overflow-y:%20hidden;%20white-space:%20nowrap;%20border-right-width:%201px;%20border-right-style:%20solid;%20border-right-color:%20rgb(233,%20233,%20233);%20border-bottom-width:%201px;%20border-bottom-style:%20solid;%20border-bottom-color:%20rgb(233,%20233,%20233);%20width:%20131px;%20background-color:%20rgb(250,%20250,%20250);%20cursor:%20cell;%20user-select:%20none;%20text-align:%20right;%20align-items:%20flex-end%7D%0A.css-1urxify-TabularCell%20%7Bheight:%2028px;%20box-sizing:%20border-box;%20display:%20flex;%20-webkit-box-pack:%20end;%20justify-content:%20flex-end;%20flex-direction:%20column;%20padding-top:%204px;%20padding-left:%204px;%20padding-right:%204px;%20padding-bottom:%203px;%20overflow-x:%20hidden;%20overflow-y:%20hidden;%20white-space:%20nowrap;%20border-right-width:%201px;%20border-right-style:%20solid;%20border-right-color:%20rgb(233,%20233,%20233);%20border-bottom-width:%201px;%20border-bottom-style:%20solid;%20border-bottom-color:%20rgb(233,%20233,%20233);%20width:%20141px;%20background-color:%20rgb(250,%20250,%20250);%20cursor:%20cell;%20user-select:%20none;%20text-align:%20right;%20align-items:%20flex-end%7D%0A.css-jieek8-TabularCell%20%7Bheight:%2028px;%20box-sizing:%20border-box;%20display:%20flex;%20-webkit-box-pack:%20end;%20justify-content:%20flex-end;%20flex-direction:%20column;%20padding-top:%204px;%20padding-left:%204px;%20padding-right:%204px;%20padding-bottom:%203px;%20overflow-x:%20hidden;%20overflow-y:%20hidden;%20white-space:%20nowrap;%20border-right-width:%201px;%20border-right-style:%20solid;%20border-right-color:%20rgb(233,%20233,%20233);%20border-bottom-width:%201px;%20border-bottom-style:%20solid;%20border-bottom-color:%20rgb(233,%20233,%20233);%20width:%20138px;%20background-color:%20rgb(250,%20250,%20250);%20cursor:%20cell;%20user-select:%20none;%20text-align:%20right;%20align-items:%20flex-end%7D%0A.css-1mkp7hm-TabularCell%20%7Bheight:%2028px;%20box-sizing:%20border-box;%20display:%20flex;%20-webkit-box-pack:%20end;%20justify-content:%20flex-end;%20flex-direction:%20column;%20padding-top:%204px;%20padding-left:%204px;%20padding-right:%204px;%20padding-bottom:%203px;%20overflow-x:%20hidden;%20overflow-y:%20hidden;%20white-space:%20nowrap;%20border-right-width:%201px;%20border-right-style:%20solid;%20border-right-color:%20rgb(233,%20233,%20233);%20border-bottom-width:%201px;%20border-bottom-style:%20solid;%20border-bottom-color:%20rgb(233,%20233,%20233);%20width:%20123px;%20background-color:%20rgb(250,%20250,%20250);%20cursor:%20cell;%20user-select:%20none;%20text-align:%20right;%20align-items:%20flex-end%7D%0A.ant-root%20html,%20.ant-root%20%7Bwidth:%20100%25;%20height:%20100%25%7D%0A.ant-root%20*,%20.ant-root%20::before,%20.ant-root%20::after%20%7Bbox-sizing:%20border-box%7D%0A.ant-root%20%7Bmargin-top:%200px;%20margin-right:%200px;%20margin-bottom:%200px;%20margin-left:%200px;%20color:%20rgba(0,%200,%200,%200.65);%20font-size:%2014px;%20font-family:%20-apple-system,%20BlinkMacSystemFont,%20%22Segoe%20UI%22,%20%22PingFang%20SC%22,%20%22Hiragino%20Sans%20GB%22,%20%22Microsoft%20YaHei%22,%20%22Helvetica%20Neue%22,%20Helvetica,%20Arial,%20sans-serif,%20%22Apple%20Color%20Emoji%22,%20%22Segoe%20UI%20Emoji%22,%20%22Segoe%20UI%20Symbol%22;%20font-variant-ligatures:%20normal;%20font-variant-numeric:%20tabular-nums;%20font-variant-east-asian:%20normal;%20font-variant-caps:%20normal;%20line-height:%201.5;%20background-color:%20rgb(255,%20255,%20255);%20font-feature-settings:%20%22tnum%22;%20--antd-wave-shadow-color:%20undefined%7D%0A.ant-root%20.ant-typography%20%7Bcolor:%20rgba(0,%200,%200,%200.65)%7D%0A.css-1sxolix-Widget%20%7Bheight:%20100%25%7D%0A.css-1sxolix-Widget%20.ant-root:not(.atoti-widget-chooser)%20%7Bbox-shadow:%20none%7D%3C/style%3E%0A%20%20%20%20%20%20%20%20%3Cdiv%20xmlns=%22http://www.w3.org/1999/xhtml%22%20style=%22height:%20249px;%20width:%201754px%22%3E%0A%20%20%20%20%20%20%20%20%20%20%3Cdiv%20xmlns=%22http://www.w3.org/1999/xhtml%22%20class=%22css-1sxolix-Widget%22%3E%3Cdiv%20class=%22ant-root%20css-xsa55j-dock%22%3E%3Cdiv%20class=%22css-1ibuxvk-DockBody%22%3E%3Cdiv%20class=%22SplitPane%20%20vertical%20disabled%22%20style=%22display:%20flex;%20flex:%201%201%200%25;%20height:%20100%25;%20position:%20relative;%20outline:%20none;%20overflow:%20hidden;%20user-select:%20text;%20flex-direction:%20row;%20left:%200px;%20right:%200px;%22%3E%3Cdiv%20class=%22Pane%20vertical%20Pane1%20%20%22%20style=%22flex:%201%201%200%25;%20position:%20relative;%20outline:%20none;%20display:%20flex;%20background-color:%20rgb(255,%20255,%20255);%22%3E%3Cdiv%20class=%22css-1lrljg1-EditorSplitPane%22%3E%3Cdiv%20class=%22css-15fz3t7-EditorSplitPane%22%3E%3Cdiv%20class=%22css-1k1fxuh-Tabular%22%3E%3Cdiv%20class=%22css-10klw3m%22%3E%3Cdiv%20tabindex=%220%22%20class=%22css-oeriq1-Tabular%22%3E%3Cdiv%20class=%22css-192kvjv-Tabular%22%3E%3Cdiv%20class=%22css-mdjjdg-TabularHeader%22%3E%3Cdiv%20class=%22css-12nzxaz-PinnedTabularHeaders%22%3E%3Cdiv%20class=%22css-1d97b2m-TabularHeaderGroup%22%3E%3Cdiv%20class=%22css-x0jgjd%22%3E%3Cdiv%20class=%22css-1ag4cda-TabularHeaderCell%22%3E%3Cspan%20class=%22css-jpazdc-TabularHeaderCell%22%3E%3Cspan%3E%3Cspan%3E%3Cspan%20class=%22css-y3oqqp%22%3EScenario%3C/span%3E%3C/span%3E%3C/span%3E%3C/span%3E%3C/div%3E%3Cdiv%20class=%22css-c7y3a7-TabularHeaderCell%22%3E%3C/div%3E%3C/div%3E%3Cdiv%20class=%22css-1v7kbgv-HeaderResizer%22%3E%3C/div%3E%3Cdiv%20class=%22css-1jg1296-HeaderResizer%22%3E%3C/div%3E%3C/div%3E%3Cdiv%20class=%22css-1qlioq-TabularPinnSeparator%22%3E%3C/div%3E%3C/div%3E%3Cdiv%20class=%22css-baf1j-UnpinnedTabularHeaders%22%3E%3Cdiv%20class=%22css-5jtkjp-UnpinnedTabularHeaders%22%3E%3Cdiv%20class=%22css-d21oi8-TabularHeaderGroup%22%3E%3Cdiv%20class=%22css-63vi8n%22%3E90%25%20NRR%3C/div%3E%3Cdiv%20class=%22css-tlxtaa-HeaderResizer%22%3E%3C/div%3E%3Cdiv%20class=%22css-dmx9tj%22%3E%3Cdiv%20class=%22css-pm742e%22%3E%3C/div%3E%3Cdiv%20class=%22css-19w2ip5-TabularHeaderCell%22%3E%3Cspan%20class=%22css-jpazdc-TabularHeaderCell%22%3E%3Cspan%3EClients%20to%20replace%3C/span%3E%3C/span%3E%3C/div%3E%3Cdiv%20class=%22css-c7y3a7-TabularHeaderCell%22%3E%3C/div%3E%3C/div%3E%3Cdiv%20class=%22css-4qo1go-HeaderResizer%22%3E%3C/div%3E%3Cdiv%20class=%22css-d4bedq-HeaderResizer%22%3E%3C/div%3E%3Cdiv%20class=%22css-fokukz-HeaderResizer%22%3E%3C/div%3E%3Cdiv%20class=%22css-13vldhu%22%3E%3Cdiv%20class=%22css-pm742e%22%3E%3C/div%3E%3Cdiv%20class=%22css-19w2ip5-TabularHeaderCell%22%3E%3Cspan%20class=%22css-jpazdc-TabularHeaderCell%22%3E%3Cspan%3EFinal%20Revenue%20Lost%3C/span%3E%3C/span%3E%3C/div%3E%3Cdiv%20class=%22css-c7y3a7-TabularHeaderCell%22%3E%3C/div%3E%3C/div%3E%3Cdiv%20class=%22css-170zqpn-HeaderResizer%22%3E%3C/div%3E%3Cdiv%20class=%22css-1bvppol-HeaderResizer%22%3E%3C/div%3E%3Cdiv%20class=%22css-2u8yez-HeaderResizer%22%3E%3C/div%3E%3Cdiv%20class=%22css-1klf0al%22%3E%3Cdiv%20class=%22css-pm742e%22%3E%3C/div%3E%3Cdiv%20class=%22css-19w2ip5-TabularHeaderCell%22%3E%3Cspan%20class=%22css-jpazdc-TabularHeaderCell%22%3E%3Cspan%3EActual%20Expense%3C/span%3E%3C/span%3E%3C/div%3E%3Cdiv%20class=%22css-c7y3a7-TabularHeaderCell%22%3E%3C/div%3E%3C/div%3E%3Cdiv%20class=%22css-13n9ek-HeaderResizer%22%3E%3C/div%3E%3Cdiv%20class=%22css-1umzdmd-HeaderResizer%22%3E%3C/div%3E%3Cdiv%20class=%22css-1pwe9ko-HeaderResizer%22%3E%3C/div%3E%3Cdiv%20class=%22css-1ozdq4s%22%3E%3Cdiv%20class=%22css-pm742e%22%3E%3C/div%3E%3Cdiv%20class=%22css-19w2ip5-TabularHeaderCell%22%3E%3Cspan%20class=%22css-jpazdc-TabularHeaderCell%22%3E%3Cspan%3EPost%20retention%20NRR%3C/span%3E%3C/span%3E%3C/div%3E%3Cdiv%20class=%22css-c7y3a7-TabularHeaderCell%22%3E%3C/div%3E%3C/div%3E%3Cdiv%20class=%22css-74y6lf-HeaderResizer%22%3E%3C/div%3E%3Cdiv%20class=%22css-4bhl7c-HeaderResizer%22%3E%3C/div%3E%3Cdiv%20class=%22css-1k7g0qv-HeaderResizer%22%3E%3C/div%3E%3Cdiv%20class=%22css-18utp4x%22%3E%3Cdiv%20class=%22css-pm742e%22%3E%3C/div%3E%3Cdiv%20class=%22css-19w2ip5-TabularHeaderCell%22%3E%3Cspan%20class=%22css-jpazdc-TabularHeaderCell%22%3E%3Cspan%3EFinal%20NRR%3C/span%3E%3C/span%3E%3C/div%3E%3Cdiv%20class=%22css-c7y3a7-TabularHeaderCell%22%3E%3C/div%3E%3C/div%3E%3Cdiv%20class=%22css-15bd7j0-HeaderResizer%22%3E%3C/div%3E%3Cdiv%20class=%22css-cz16cs-HeaderResizer%22%3E%3C/div%3E%3Cdiv%20class=%22css-12xte58%22%3E95%25%20NRR%3C/div%3E%3Cdiv%20class=%22css-8b3hbj-HeaderResizer%22%3E%3C/div%3E%3Cdiv%20class=%22css-1op1dqa%22%3E%3Cdiv%20class=%22css-pm742e%22%3E%3C/div%3E%3Cdiv%20class=%22css-19w2ip5-TabularHeaderCell%22%3E%3Cspan%20class=%22css-jpazdc-TabularHeaderCell%22%3E%3Cspan%3EClients%20to%20replace%3C/span%3E%3C/span%3E%3C/div%3E%3Cdiv%20class=%22css-c7y3a7-TabularHeaderCell%22%3E%3C/div%3E%3C/div%3E%3Cdiv%20class=%22css-1k8d30b-HeaderResizer%22%3E%3C/div%3E%3Cdiv%20class=%22css-a1ht7h-HeaderResizer%22%3E%3C/div%3E%3Cdiv%20class=%22css-1kuuk1h-HeaderResizer%22%3E%3C/div%3E%3Cdiv%20class=%22css-1jloc1a%22%3E%3Cdiv%20class=%22css-pm742e%22%3E%3C/div%3E%3Cdiv%20class=%22css-19w2ip5-TabularHeaderCell%22%3E%3Cspan%20class=%22css-jpazdc-TabularHeaderCell%22%3E%3Cspan%3EFinal%20Revenue%20Lost%3C/span%3E%3C/span%3E%3C/div%3E%3Cdiv%20class=%22css-c7y3a7-TabularHeaderCell%22%3E%3C/div%3E%3C/div%3E%3Cdiv%20class=%22css-12si50s-HeaderResizer%22%3E%3C/div%3E%3Cdiv%20class=%22css-144ubtg-HeaderResizer%22%3E%3C/div%3E%3Cdiv%20class=%22css-t6je0g-HeaderResizer%22%3E%3C/div%3E%3Cdiv%20class=%22css-r1xdts%22%3E%3Cdiv%20class=%22css-pm742e%22%3E%3C/div%3E%3Cdiv%20class=%22css-19w2ip5-TabularHeaderCell%22%3E%3Cspan%20class=%22css-jpazdc-TabularHeaderCell%22%3E%3Cspan%3EActual%20Expense%3C/span%3E%3C/span%3E%3C/div%3E%3Cdiv%20class=%22css-c7y3a7-TabularHeaderCell%22%3E%3C/div%3E%3C/div%3E%3Cdiv%20class=%22css-1aa4w7z-HeaderResizer%22%3E%3C/div%3E%3Cdiv%20class=%22css-1wb8bdv-HeaderResizer%22%3E%3C/div%3E%3Cdiv%20class=%22css-1nooxk-HeaderResizer%22%3E%3C/div%3E%3Cdiv%20class=%22css-r2qbwl%22%3E%3Cdiv%20class=%22css-pm742e%22%3E%3C/div%3E%3Cdiv%20class=%22css-19w2ip5-TabularHeaderCell%22%3E%3Cspan%20class=%22css-jpazdc-TabularHeaderCell%22%3E%3Cspan%3EPost%20retention%20NRR%3C/span%3E%3C/span%3E%3C/div%3E%3Cdiv%20class=%22css-c7y3a7-TabularHeaderCell%22%3E%3C/div%3E%3C/div%3E%3Cdiv%20class=%22css-1f9z7nu-HeaderResizer%22%3E%3C/div%3E%3Cdiv%20class=%22css-3283sb-HeaderResizer%22%3E%3C/div%3E%3Cdiv%20class=%22css-47ucxl-HeaderResizer%22%3E%3C/div%3E%3Cdiv%20class=%22css-1lekv0w%22%3E%3Cdiv%20class=%22css-pm742e%22%3E%3C/div%3E%3Cdiv%20class=%22css-19w2ip5-TabularHeaderCell%22%3E%3Cspan%20class=%22css-jpazdc-TabularHeaderCell%22%3E%3Cspan%3EFinal%20NRR%3C/span%3E%3C/span%3E%3C/div%3E%3Cdiv%20class=%22css-c7y3a7-TabularHeaderCell%22%3E%3C/div%3E%3C/div%3E%3Cdiv%20class=%22css-14972fy-HeaderResizer%22%3E%3C/div%3E%3Cdiv%20class=%22css-1akt0kx-HeaderResizer%22%3E%3C/div%3E%3C/div%3E%3C/div%3E%3C/div%3E%3C/div%3E%3Cdiv%20class=%22css-zjk10i-TabularBody%22%3E%3Cdiv%20class=%22css-1d2acnr-PinnedTabularRows%22%3E%3Cdiv%20class=%22css-115oauw-PinnedTabularRows%22%3E%3Cdiv%20class=%22css-3cge9w%22%3E%3Cdiv%3E%3Cdiv%20class=%22css-10660th%22%3E%3Cdiv%20class=%22css-9ssj44-TreeCell%22%3E%3Cdiv%20class=%22css-mkrhzq%22%3E%3Cdiv%20class=%22css-1i6gc04%22%3E%3C/div%3E%3Cspan%20class=%22ant-typography%20css-8uhtka%22%20style=%22font-size:%2012px;%20line-height:%2020px;%20font-weight:%20600;%20color:%20rgba(0,%200,%200,%200.85);%22%3EBase%3C/span%3E%3C/div%3E%3C/div%3E%3C/div%3E%3C/div%3E%3C/div%3E%3Cdiv%20class=%22css-3cge9w%22%3E%3Cdiv%3E%3Cdiv%20class=%22css-1xxirpd%22%3E%3Cdiv%20class=%22css-9ssj44-TreeCell%22%3E%3Cdiv%20class=%22css-mkrhzq%22%3E%3Cdiv%20class=%22css-1i6gc04%22%3E%3C/div%3E%3Cspan%20class=%22ant-typography%20css-8uhtka%22%20style=%22font-size:%2012px;%20line-height:%2020px;%20font-weight:%20600;%20color:%20rgba(0,%200,%200,%200.85);%22%3ELogistic%20Regression%20(SMOTE)%20Prediction%3C/span%3E%3C/div%3E%3C/div%3E%3C/div%3E%3C/div%3E%3C/div%3E%3Cdiv%20class=%22css-3cge9w%22%3E%3Cdiv%3E%3Cdiv%20class=%22css-10660th%22%3E%3Cdiv%20class=%22css-9ssj44-TreeCell%22%3E%3Cdiv%20class=%22css-mkrhzq%22%3E%3Cdiv%20class=%22css-1i6gc04%22%3E%3C/div%3E%3Cspan%20class=%22ant-typography%20css-8uhtka%22%20style=%22font-size:%2012px;%20line-height:%2020px;%20font-weight:%20600;%20color:%20rgba(0,%200,%200,%200.85);%22%3ELogistic%20Regression%20Prediction%3C/span%3E%3C/div%3E%3C/div%3E%3C/div%3E%3C/div%3E%3C/div%3E%3Cdiv%20class=%22css-3cge9w%22%3E%3Cdiv%3E%3Cdiv%20class=%22css-1xxirpd%22%3E%3Cdiv%20class=%22css-9ssj44-TreeCell%22%3E%3Cdiv%20class=%22css-mkrhzq%22%3E%3Cdiv%20class=%22css-1i6gc04%22%3E%3C/div%3E%3Cspan%20class=%22ant-typography%20css-8uhtka%22%20style=%22font-size:%2012px;%20line-height:%2020px;%20font-weight:%20600;%20color:%20rgba(0,%200,%200,%200.85);%22%3ENaive%20Bayes%20Prediction%3C/span%3E%3C/div%3E%3C/div%3E%3C/div%3E%3C/div%3E%3C/div%3E%3Cdiv%20class=%22css-3cge9w%22%3E%3Cdiv%3E%3Cdiv%20class=%22css-1lqzvii%22%3E%3Cdiv%20class=%22css-9ssj44-TreeCell%22%3E%3Cdiv%20class=%22css-mkrhzq%22%3E%3Cdiv%20class=%22css-1i6gc04%22%3E%3C/div%3E%3Cspan%20class=%22ant-typography%20css-8uhtka%22%20style=%22font-size:%2012px;%20line-height:%2020px;%20font-weight:%20600;%20color:%20rgba(0,%200,%200,%200.85);%22%3ESVM%20Classifier%20Linear%20Prediction%3C/span%3E%3C/div%3E%3C/div%3E%3C/div%3E%3C/div%3E%3C/div%3E%3C/div%3E%3Cdiv%20class=%22css-8r2ljj-PinnedTabularRows%22%3E%3Cdiv%20class=%22css-8zvwca-PinnedTabularRows%22%3E%3C/div%3E%3C/div%3E%3C/div%3E%3Cdiv%20class=%22css-r23o54-UnpinnedTabularRows%22%3E%3Cdiv%20class=%22css-1id6sm3-UnpinnedTabularRows%22%3E%3Cdiv%20class=%22css-3cge9w%22%3E%3Cdiv%3E%3Cdiv%20class=%22%20css-1hcmypl-TabularCell%22%3E%3Cspan%20class=%22css-mkoicc-CaptionCellRenderer%22%3E%3Cspan%3E%3Cspan%20class=%22ant-typography%22%20style=%22font-size:%2012px;%20line-height:%2020px;%20font-weight:%20400;%22%3E0%3C/span%3E%3C/span%3E%3C/span%3E%3C/div%3E%3C/div%3E%3Cdiv%3E%3Cdiv%20class=%22%20css-sjvq2h-TabularCell%22%3E%3Cspan%20class=%22css-mkoicc-CaptionCellRenderer%22%3E%3Cspan%3E%3Cspan%20class=%22ant-typography%22%20style=%22font-size:%2012px;%20line-height:%2020px;%20font-weight:%20400;%22%3E9,392.35%3C/span%3E%3C/span%3E%3C/span%3E%3C/div%3E%3C/div%3E%3Cdiv%3E%3Cdiv%20class=%22%20css-1qvxlg1-TabularCell%22%3E%3Cspan%20class=%22css-mkoicc-CaptionCellRenderer%22%3E%3Cspan%3E%3Cspan%20class=%22ant-typography%22%20style=%22font-size:%2012px;%20line-height:%2020px;%20font-weight:%20bold;%20color:%20rgb(0,%200,%20255);%22%3E125,700%3C/span%3E%3C/span%3E%3C/span%3E%3C/div%3E%3C/div%3E%3Cdiv%3E%3Cdiv%20class=%22%20css-1yt0cq0-TabularCell%22%3E%3Cspan%20class=%22css-mkoicc-CaptionCellRenderer%22%3E%3Cspan%3E%3Cspan%20class=%22ant-typography%22%20style=%22font-size:%2012px;%20line-height:%2020px;%20font-weight:%20400;%22%3E.979%3C/span%3E%3C/span%3E%3C/span%3E%3C/div%3E%3C/div%3E%3Cdiv%3E%3Cdiv%20class=%22%20css-1hcmypl-TabularCell%22%3E%3Cspan%20class=%22css-mkoicc-CaptionCellRenderer%22%3E%3Cspan%3E%3Cspan%20class=%22ant-typography%22%20style=%22font-size:%2012px;%20line-height:%2020px;%20font-weight:%20400;%22%3E.979%3C/span%3E%3C/span%3E%3C/span%3E%3C/div%3E%3C/div%3E%3Cdiv%3E%3Cdiv%20class=%22%20css-9rjz4u-TabularCell%22%3E%3Cspan%20class=%22css-mkoicc-CaptionCellRenderer%22%3E%3Cspan%3E%3Cspan%20class=%22ant-typography%22%20style=%22font-size:%2012px;%20line-height:%2020px;%20font-weight:%20400;%22%3E0%3C/span%3E%3C/span%3E%3C/span%3E%3C/div%3E%3C/div%3E%3Cdiv%3E%3Cdiv%20class=%22%20css-4mhmj7-TabularCell%22%3E%3Cspan%20class=%22css-mkoicc-CaptionCellRenderer%22%3E%3Cspan%3E%3Cspan%20class=%22ant-typography%22%20style=%22font-size:%2012px;%20line-height:%2020px;%20font-weight:%20400;%22%3E4,947.75%3C/span%3E%3C/span%3E%3C/span%3E%3C/div%3E%3C/div%3E%3Cdiv%3E%3Cdiv%20class=%22%20css-1qvxlg1-TabularCell%22%3E%3Cspan%20class=%22css-mkoicc-CaptionCellRenderer%22%3E%3Cspan%3E%3Cspan%20class=%22ant-typography%22%20style=%22font-size:%2012px;%20line-height:%2020px;%20font-weight:%20bold;%20color:%20rgb(0,%200,%20255);%22%3E156,300%3C/span%3E%3C/span%3E%3C/span%3E%3C/div%3E%3C/div%3E%3Cdiv%3E%3Cdiv%20class=%22%20css-ggca7e-TabularCell%22%3E%3Cspan%20class=%22css-mkoicc-CaptionCellRenderer%22%3E%3Cspan%3E%3Cspan%20class=%22ant-typography%22%20style=%22font-size:%2012px;%20line-height:%2020px;%20font-weight:%20400;%22%3E.989%3C/span%3E%3C/span%3E%3C/span%3E%3C/div%3E%3C/div%3E%3Cdiv%3E%3Cdiv%20class=%22%20css-187rvyj-TabularCell%22%3E%3Cspan%20class=%22css-mkoicc-CaptionCellRenderer%22%3E%3Cspan%3E%3Cspan%20class=%22ant-typography%22%20style=%22font-size:%2012px;%20line-height:%2020px;%20font-weight:%20400;%22%3E.989%3C/span%3E%3C/span%3E%3C/span%3E%3C/div%3E%3C/div%3E%3C/div%3E%3Cdiv%20class=%22css-3cge9w%22%3E%3Cdiv%3E%3Cdiv%20class=%22%20css-qazlap-TabularCell%22%3E%3Cspan%20class=%22css-mkoicc-CaptionCellRenderer%22%3E%3Cspan%3E%3Cspan%20class=%22ant-typography%22%20style=%22font-size:%2012px;%20line-height:%2020px;%20font-weight:%20400;%22%3E24%3C/span%3E%3C/span%3E%3C/span%3E%3C/div%3E%3C/div%3E%3Cdiv%3E%3Cdiv%20class=%22%20css-1ifrn0b-TabularCell%22%3E%3Cspan%20class=%22css-mkoicc-CaptionCellRenderer%22%3E%3Cspan%3E%3Cspan%20class=%22ant-typography%22%20style=%22font-size:%2012px;%20line-height:%2020px;%20font-weight:%20400;%22%3E45,543.9%3C/span%3E%3C/span%3E%3C/span%3E%3C/div%3E%3C/div%3E%3Cdiv%3E%3Cdiv%20class=%22%20css-1g17rkf-TabularCell%22%3E%3Cspan%20class=%22css-mkoicc-CaptionCellRenderer%22%3E%3Cspan%3E%3Cspan%20class=%22ant-typography%22%20style=%22font-size:%2012px;%20line-height:%2020px;%20font-weight:%20bold;%20color:%20rgb(0,%200,%20255);%22%3E180,900%3C/span%3E%3C/span%3E%3C/span%3E%3C/div%3E%3C/div%3E%3Cdiv%3E%3Cdiv%20class=%22%20css-zcia4q-TabularCell%22%3E%3Cspan%20class=%22css-mkoicc-CaptionCellRenderer%22%3E%3Cspan%3E%3Cspan%20class=%22ant-typography%22%20style=%22font-size:%2012px;%20line-height:%2020px;%20font-weight:%20400;%22%3E.896%3C/span%3E%3C/span%3E%3C/span%3E%3C/div%3E%3C/div%3E%3Cdiv%3E%3Cdiv%20class=%22%20css-qazlap-TabularCell%22%3E%3Cspan%20class=%22css-mkoicc-CaptionCellRenderer%22%3E%3Cspan%3E%3Cspan%20class=%22ant-typography%22%20style=%22font-size:%2012px;%20line-height:%2020px;%20font-weight:%20400;%22%3E.900%3C/span%3E%3C/span%3E%3C/span%3E%3C/div%3E%3C/div%3E%3Cdiv%3E%3Cdiv%20class=%22%20css-sykde1-TabularCell%22%3E%3Cspan%20class=%22css-mkoicc-CaptionCellRenderer%22%3E%3Cspan%3E%3Cspan%20class=%22ant-typography%22%20style=%22font-size:%2012px;%20line-height:%2020px;%20font-weight:%20400;%22%3E263%3C/span%3E%3C/span%3E%3C/span%3E%3C/div%3E%3C/div%3E%3Cdiv%3E%3Cdiv%20class=%22%20css-1pawv46-TabularCell%22%3E%3Cspan%20class=%22css-mkoicc-CaptionCellRenderer%22%3E%3Cspan%3E%3Cspan%20class=%22ant-typography%22%20style=%22font-size:%2012px;%20line-height:%2020px;%20font-weight:%20400;%22%3E22,739.39%3C/span%3E%3C/span%3E%3C/span%3E%3C/div%3E%3C/div%3E%3Cdiv%3E%3Cdiv%20class=%22%20css-1g17rkf-TabularCell%22%3E%3Cspan%20class=%22css-mkoicc-CaptionCellRenderer%22%3E%3Cspan%3E%3Cspan%20class=%22ant-typography%22%20style=%22font-size:%2012px;%20line-height:%2020px;%20font-weight:%20bold;%20color:%20rgb(0,%200,%20255);%22%3E330,500%3C/span%3E%3C/span%3E%3C/span%3E%3C/div%3E%3C/div%3E%3Cdiv%3E%3Cdiv%20class=%22%20css-ma9bjk-TabularCell%22%3E%3Cspan%20class=%22css-mkoicc-CaptionCellRenderer%22%3E%3Cspan%3E%3Cspan%20class=%22ant-typography%22%20style=%22font-size:%2012px;%20line-height:%2020px;%20font-weight:%20400;%22%3E.906%3C/span%3E%3C/span%3E%3C/span%3E%3C/div%3E%3C/div%3E%3Cdiv%3E%3Cdiv%20class=%22%20css-1ujztlf-TabularCell%22%3E%3Cspan%20class=%22css-mkoicc-CaptionCellRenderer%22%3E%3Cspan%3E%3Cspan%20class=%22ant-typography%22%20style=%22font-size:%2012px;%20line-height:%2020px;%20font-weight:%20400;%22%3E.950%3C/span%3E%3C/span%3E%3C/span%3E%3C/div%3E%3C/div%3E%3C/div%3E%3Cdiv%20class=%22css-3cge9w%22%3E%3Cdiv%3E%3Cdiv%20class=%22%20css-1hcmypl-TabularCell%22%3E%3Cspan%20class=%22css-mkoicc-CaptionCellRenderer%22%3E%3Cspan%3E%3Cspan%20class=%22ant-typography%22%20style=%22font-size:%2012px;%20line-height:%2020px;%20font-weight:%20400;%22%3E309%3C/span%3E%3C/span%3E%3C/span%3E%3C/div%3E%3C/div%3E%3Cdiv%3E%3Cdiv%20class=%22%20css-sjvq2h-TabularCell%22%3E%3Cspan%20class=%22css-mkoicc-CaptionCellRenderer%22%3E%3Cspan%3E%3Cspan%20class=%22ant-typography%22%20style=%22font-size:%2012px;%20line-height:%2020px;%20font-weight:%20400;%22%3E45,545.8%3C/span%3E%3C/span%3E%3C/span%3E%3C/div%3E%3C/div%3E%3Cdiv%3E%3Cdiv%20class=%22%20css-1qvxlg1-TabularCell%22%3E%3Cspan%20class=%22css-mkoicc-CaptionCellRenderer%22%3E%3Cspan%3E%3Cspan%20class=%22ant-typography%22%20style=%22font-size:%2012px;%20line-height:%2020px;%20font-weight:%20bold;%20color:%20rgb(0,%200,%20255);%22%3E243,100%3C/span%3E%3C/span%3E%3C/span%3E%3C/div%3E%3C/div%3E%3Cdiv%3E%3Cdiv%20class=%22%20css-1yt0cq0-TabularCell%22%3E%3Cspan%20class=%22css-mkoicc-CaptionCellRenderer%22%3E%3Cspan%3E%3Cspan%20class=%22ant-typography%22%20style=%22font-size:%2012px;%20line-height:%2020px;%20font-weight:%20400;%22%3E.845%3C/span%3E%3C/span%3E%3C/span%3E%3C/div%3E%3C/div%3E%3Cdiv%3E%3Cdiv%20class=%22%20css-1hcmypl-TabularCell%22%3E%3Cspan%20class=%22css-mkoicc-CaptionCellRenderer%22%3E%3Cspan%3E%3Cspan%20class=%22ant-typography%22%20style=%22font-size:%2012px;%20line-height:%2020px;%20font-weight:%20400;%22%3E.900%3C/span%3E%3C/span%3E%3C/span%3E%3C/div%3E%3C/div%3E%3Cdiv%3E%3Cdiv%20class=%22%20css-9rjz4u-TabularCell%22%3E%3Cspan%20class=%22css-mkoicc-CaptionCellRenderer%22%3E%3Cspan%3E%3Cspan%20class=%22ant-typography%22%20style=%22font-size:%2012px;%20line-height:%2020px;%20font-weight:%20400;%22%3E526%3C/span%3E%3C/span%3E%3C/span%3E%3C/div%3E%3C/div%3E%3Cdiv%3E%3Cdiv%20class=%22%20css-4mhmj7-TabularCell%22%3E%3Cspan%20class=%22css-mkoicc-CaptionCellRenderer%22%3E%3Cspan%3E%3Cspan%20class=%22ant-typography%22%20style=%22font-size:%2012px;%20line-height:%2020px;%20font-weight:%20400;%22%3E22,726.12%3C/span%3E%3C/span%3E%3C/span%3E%3C/div%3E%3C/div%3E%3Cdiv%3E%3Cdiv%20class=%22%20css-1qvxlg1-TabularCell%22%3E%3Cspan%20class=%22css-mkoicc-CaptionCellRenderer%22%3E%3Cspan%3E%3Cspan%20class=%22ant-typography%22%20style=%22font-size:%2012px;%20line-height:%2020px;%20font-weight:%20bold;%20color:%20rgb(0,%200,%20255);%22%3E379,900%3C/span%3E%3C/span%3E%3C/span%3E%3C/div%3E%3C/div%3E%3Cdiv%3E%3Cdiv%20class=%22%20css-ggca7e-TabularCell%22%3E%3Cspan%20class=%22css-mkoicc-CaptionCellRenderer%22%3E%3Cspan%3E%3Cspan%20class=%22ant-typography%22%20style=%22font-size:%2012px;%20line-height:%2020px;%20font-weight:%20400;%22%3E.857%3C/span%3E%3C/span%3E%3C/span%3E%3C/div%3E%3C/div%3E%3Cdiv%3E%3Cdiv%20class=%22%20css-187rvyj-TabularCell%22%3E%3Cspan%20class=%22css-mkoicc-CaptionCellRenderer%22%3E%3Cspan%3E%3Cspan%20class=%22ant-typography%22%20style=%22font-size:%2012px;%20line-height:%2020px;%20font-weight:%20400;%22%3E.950%3C/span%3E%3C/span%3E%3C/span%3E%3C/div%3E%3C/div%3E%3C/div%3E%3Cdiv%20class=%22css-3cge9w%22%3E%3Cdiv%3E%3Cdiv%20class=%22%20css-qazlap-TabularCell%22%3E%3Cspan%20class=%22css-mkoicc-CaptionCellRenderer%22%3E%3Cspan%3E%3Cspan%20class=%22ant-typography%22%20style=%22font-size:%2012px;%20line-height:%2020px;%20font-weight:%20400;%22%3E0%3C/span%3E%3C/span%3E%3C/span%3E%3C/div%3E%3C/div%3E%3Cdiv%3E%3Cdiv%20class=%22%20css-1ifrn0b-TabularCell%22%3E%3Cspan%20class=%22css-mkoicc-CaptionCellRenderer%22%3E%3Cspan%3E%3Cspan%20class=%22ant-typography%22%20style=%22font-size:%2012px;%20line-height:%2020px;%20font-weight:%20400;%22%3E35,011.5%3C/span%3E%3C/span%3E%3C/span%3E%3C/div%3E%3C/div%3E%3Cdiv%3E%3Cdiv%20class=%22%20css-1g17rkf-TabularCell%22%3E%3Cspan%20class=%22css-mkoicc-CaptionCellRenderer%22%3E%3Cspan%3E%3Cspan%20class=%22ant-typography%22%20style=%22font-size:%2012px;%20line-height:%2020px;%20font-weight:%20bold;%20color:%20rgb(0,%200,%20255);%22%3E235,400%3C/span%3E%3C/span%3E%3C/span%3E%3C/div%3E%3C/div%3E%3Cdiv%3E%3Cdiv%20class=%22%20css-zcia4q-TabularCell%22%3E%3Cspan%20class=%22css-mkoicc-CaptionCellRenderer%22%3E%3Cspan%3E%3Cspan%20class=%22ant-typography%22%20style=%22font-size:%2012px;%20line-height:%2020px;%20font-weight:%20400;%22%3E.923%3C/span%3E%3C/span%3E%3C/span%3E%3C/div%3E%3C/div%3E%3Cdiv%3E%3Cdiv%20class=%22%20css-qazlap-TabularCell%22%3E%3Cspan%20class=%22css-mkoicc-CaptionCellRenderer%22%3E%3Cspan%3E%3Cspan%20class=%22ant-typography%22%20style=%22font-size:%2012px;%20line-height:%2020px;%20font-weight:%20400;%22%3E.923%3C/span%3E%3C/span%3E%3C/span%3E%3C/div%3E%3C/div%3E%3Cdiv%3E%3Cdiv%20class=%22%20css-sykde1-TabularCell%22%3E%3Cspan%20class=%22css-mkoicc-CaptionCellRenderer%22%3E%3Cspan%3E%3Cspan%20class=%22ant-typography%22%20style=%22font-size:%2012px;%20line-height:%2020px;%20font-weight:%20400;%22%3E113%3C/span%3E%3C/span%3E%3C/span%3E%3C/div%3E%3C/div%3E%3Cdiv%3E%3Cdiv%20class=%22%20css-1pawv46-TabularCell%22%3E%3Cspan%20class=%22css-mkoicc-CaptionCellRenderer%22%3E%3Cspan%3E%3Cspan%20class=%22ant-typography%22%20style=%22font-size:%2012px;%20line-height:%2020px;%20font-weight:%20400;%22%3E22,717.64%3C/span%3E%3C/span%3E%3C/span%3E%3C/div%3E%3C/div%3E%3Cdiv%3E%3Cdiv%20class=%22%20css-1g17rkf-TabularCell%22%3E%3Cspan%20class=%22css-mkoicc-CaptionCellRenderer%22%3E%3Cspan%3E%3Cspan%20class=%22ant-typography%22%20style=%22font-size:%2012px;%20line-height:%2020px;%20font-weight:%20bold;%20color:%20rgb(0,%200,%20255);%22%3E324,800%3C/span%3E%3C/span%3E%3C/span%3E%3C/div%3E%3C/div%3E%3Cdiv%3E%3Cdiv%20class=%22%20css-ma9bjk-TabularCell%22%3E%3Cspan%20class=%22css-mkoicc-CaptionCellRenderer%22%3E%3Cspan%3E%3Cspan%20class=%22ant-typography%22%20style=%22font-size:%2012px;%20line-height:%2020px;%20font-weight:%20400;%22%3E.933%3C/span%3E%3C/span%3E%3C/span%3E%3C/div%3E%3C/div%3E%3Cdiv%3E%3Cdiv%20class=%22%20css-1ujztlf-TabularCell%22%3E%3Cspan%20class=%22css-mkoicc-CaptionCellRenderer%22%3E%3Cspan%3E%3Cspan%20class=%22ant-typography%22%20style=%22font-size:%2012px;%20line-height:%2020px;%20font-weight:%20400;%22%3E.950%3C/span%3E%3C/span%3E%3C/span%3E%3C/div%3E%3C/div%3E%3C/div%3E%3Cdiv%20class=%22css-3cge9w%22%3E%3Cdiv%3E%3Cdiv%20class=%22%20css-m3b6cx-TabularCell%22%3E%3Cspan%20class=%22css-mkoicc-CaptionCellRenderer%22%3E%3Cspan%3E%3Cspan%20class=%22ant-typography%22%20style=%22font-size:%2012px;%20line-height:%2020px;%20font-weight:%20400;%22%3E55%3C/span%3E%3C/span%3E%3C/span%3E%3C/div%3E%3C/div%3E%3Cdiv%3E%3Cdiv%20class=%22%20css-o99h4r-TabularCell%22%3E%3Cspan%20class=%22css-mkoicc-CaptionCellRenderer%22%3E%3Cspan%3E%3Cspan%20class=%22ant-typography%22%20style=%22font-size:%2012px;%20line-height:%2020px;%20font-weight:%20400;%22%3E45,509.65%3C/span%3E%3C/span%3E%3C/span%3E%3C/div%3E%3C/div%3E%3Cdiv%3E%3Cdiv%20class=%22%20css-171tgtu-TabularCell%22%3E%3Cspan%20class=%22css-mkoicc-CaptionCellRenderer%22%3E%3Cspan%3E%3Cspan%20class=%22ant-typography%22%20style=%22font-size:%2012px;%20line-height:%2020px;%20font-weight:%20bold;%20color:%20rgb(0,%200,%20255);%22%3E188,600%3C/span%3E%3C/span%3E%3C/span%3E%3C/div%3E%3C/div%3E%3Cdiv%3E%3Cdiv%20class=%22%20css-k6yhq6-TabularCell%22%3E%3Cspan%20class=%22css-mkoicc-CaptionCellRenderer%22%3E%3Cspan%3E%3Cspan%20class=%22ant-typography%22%20style=%22font-size:%2012px;%20line-height:%2020px;%20font-weight:%20400;%22%3E.891%3C/span%3E%3C/span%3E%3C/span%3E%3C/div%3E%3C/div%3E%3Cdiv%3E%3Cdiv%20class=%22%20css-m3b6cx-TabularCell%22%3E%3Cspan%20class=%22css-mkoicc-CaptionCellRenderer%22%3E%3Cspan%3E%3Cspan%20class=%22ant-typography%22%20style=%22font-size:%2012px;%20line-height:%2020px;%20font-weight:%20400;%22%3E.900%3C/span%3E%3C/span%3E%3C/span%3E%3C/div%3E%3C/div%3E%3Cdiv%3E%3Cdiv%20class=%22%20css-khj9nl-TabularCell%22%3E%3Cspan%20class=%22css-mkoicc-CaptionCellRenderer%22%3E%3Cspan%3E%3Cspan%20class=%22ant-typography%22%20style=%22font-size:%2012px;%20line-height:%2020px;%20font-weight:%20400;%22%3E292%3C/span%3E%3C/span%3E%3C/span%3E%3C/div%3E%3C/div%3E%3Cdiv%3E%3Cdiv%20class=%22%20css-1urxify-TabularCell%22%3E%3Cspan%20class=%22css-mkoicc-CaptionCellRenderer%22%3E%3Cspan%3E%3Cspan%20class=%22ant-typography%22%20style=%22font-size:%2012px;%20line-height:%2020px;%20font-weight:%20400;%22%3E22,754.63%3C/span%3E%3C/span%3E%3C/span%3E%3C/div%3E%3C/div%3E%3Cdiv%3E%3Cdiv%20class=%22%20css-171tgtu-TabularCell%22%3E%3Cspan%20class=%22css-mkoicc-CaptionCellRenderer%22%3E%3Cspan%3E%3Cspan%20class=%22ant-typography%22%20style=%22font-size:%2012px;%20line-height:%2020px;%20font-weight:%20bold;%20color:%20rgb(0,%200,%20255);%22%3E336,900%3C/span%3E%3C/span%3E%3C/span%3E%3C/div%3E%3C/div%3E%3Cdiv%3E%3Cdiv%20class=%22%20css-jieek8-TabularCell%22%3E%3Cspan%20class=%22css-mkoicc-CaptionCellRenderer%22%3E%3Cspan%3E%3Cspan%20class=%22ant-typography%22%20style=%22font-size:%2012px;%20line-height:%2020px;%20font-weight:%20400;%22%3E.901%3C/span%3E%3C/span%3E%3C/span%3E%3C/div%3E%3C/div%3E%3Cdiv%3E%3Cdiv%20class=%22%20css-1mkp7hm-TabularCell%22%3E%3Cspan%20class=%22css-mkoicc-CaptionCellRenderer%22%3E%3Cspan%3E%3Cspan%20class=%22ant-typography%22%20style=%22font-size:%2012px;%20line-height:%2020px;%20font-weight:%20400;%22%3E.950%3C/span%3E%3C/span%3E%3C/span%3E%3C/div%3E%3C/div%3E%3C/div%3E%3C/div%3E%3C/div%3E%3C/div%3E%3C/div%3E%3Cdiv%20class=%22css-t881dv-SelectionStatistics%22%3E%3C/div%3E%3C/div%3E%3C/div%3E%3C/div%3E%3C/div%3E%3C/div%3E%3C/div%3E%3Cspan%20role=%22presentation%22%20class=%22css-14zuz97%20Resizer%20vertical%20disabled%22%3E%3C/span%3E%3Cdiv%20class=%22Pane%20vertical%20Pane2%20%20%22%20style=%22flex:%200%200%20auto;%20position:%20relative;%20outline:%20none;%20width:%200px;%20display:%20flex;%20background-color:%20rgb(255,%20255,%20255);%20overflow:%20auto;%22%3E%3Cdiv%20class=%22css-1ouk3zc-EditorSplitPane%22%3E%3Cdiv%20class=%22css-1jjvrwi-EditorSplitPane%22%3E%3C/div%3E%3C/div%3E%3C/div%3E%3C/div%3E%3C/div%3E%3C/div%3E%3C/div%3E%0A%20%20%20%20%20%20%20%20%3C/div%3E%0A%20%20%20%20%20%20%3C/foreignObject%3E%0A%20%20%20%20%3C/svg%3E\">"
      ],
      "text/plain": [
       "Open the notebook in JupyterLab with the atoti extension installed and enabled to see this widget."
      ]
     },
     "metadata": {},
     "output_type": "display_data"
    }
   ],
   "source": [
    "cube.visualize()"
   ]
  },
  {
   "cell_type": "markdown",
   "metadata": {},
   "source": [
    "## What-if Marketing budget is twice the expected?\n",
    "\n",
    "We can easily setup the simulation that allow us to scale the _Marketing budget_."
   ]
  },
  {
   "cell_type": "code",
   "execution_count": 48,
   "metadata": {},
   "outputs": [],
   "source": [
    "marketing_budget_simulation = cube.setup_simulation(\n",
    "    \"Marketing Budget Simulation\",\n",
    "    base_scenario=\"5 x Retention\",\n",
    "    multiply=[m[\"Marketing budget\"]],\n",
    ").scenarios"
   ]
  },
  {
   "cell_type": "markdown",
   "metadata": {},
   "source": [
    "We create a scenario where we multiply _Marketing budget_ by 2."
   ]
  },
  {
   "cell_type": "code",
   "execution_count": 49,
   "metadata": {},
   "outputs": [],
   "source": [
    "marketing_budget_simulation[\"10 x Retention\"] = 2"
   ]
  },
  {
   "cell_type": "markdown",
   "metadata": {},
   "source": [
    "We see the Final NRR and Actual Expense being recomputed. This increase in _Marketing budget_ does not impact the _Naive Bayes Prediction_ model as its NRR exceeds 90% if the retention rate is 100%.  "
   ]
  },
  {
   "cell_type": "code",
   "execution_count": 50,
   "metadata": {
    "atoti": {
     "height": 267,
     "state": {
      "name": "",
      "type": "container",
      "value": {
       "body": {
        "configuration": {
         "tabular": {
          "cellRenderers": [
           "pivot-layout"
          ],
          "columnOrder": {
           "args": {
            "orderedColumns": [
             "[Epoch].[Epoch].[Branch]",
             "([Measures].[Actual Expense (1)],[Measure Simulations].[Marketing Budget Simulation].[Marketing Budget Simulation].[5 x Retention])",
             "([Measures].[Actual Expense (1)],[Measure Simulations].[Marketing Budget Simulation].[Marketing Budget Simulation].[10 x Retention])",
             "([Measures].[Actual Expense (1)],[Measure Simulations].[Marketing Budget Simulation].[Marketing Budget Simulation].[5 x Retention - 10 x Retention])"
            ]
           },
           "key": "explicit"
          },
          "columns": [
           {
            "key": "([Measures].[Actual Expense (1)],[Measure Simulations].[Marketing Budget Simulation].[Marketing Budget Simulation].[5 x Retention - 10 x Retention])",
            "width": 161
           },
           {
            "key": "([Measures].[Actual Expense (1)],[Measure Simulations].[Marketing Budget Simulation].[Marketing Budget Simulation].[10 x Retention])",
            "width": 139
           },
           {
            "key": "([Measures].[Actual Expense (1)],[Measure Simulations].[Marketing Budget Simulation].[Marketing Budget Simulation].[5 x Retention])",
            "width": 139
           },
           {
            "key": "[Epoch].[Epoch].[Branch]",
            "width": 264
           }
          ],
          "columnsGroups": [
           {
            "captionProducer": "firstColumn",
            "cellFactory": "kpi-status",
            "selector": "kpi-status"
           },
           {
            "captionProducer": "firstColumn",
            "cellFactory": "lookup",
            "selector": "lookup"
           },
           {
            "captionProducer": "expiry",
            "cellFactory": "expiry",
            "selector": "kpi-expiry"
           }
          ],
          "defaultOptions": {},
          "expansion": {
           "automaticExpansion": true
          },
          "hideAddButton": true,
          "pinnedHeaderSelector": "member",
          "sortingMode": "non-breaking",
          "statisticsShown": true
         }
        },
        "contextValues": {},
        "mdx": "WITH  Member [Measures].[Actual Expense (1)] AS [Measures].[Actual Expense], CAPTION = [Measures].[Actual Expense].MEMBER_CAPTION, BACK_COLOR = \"transparent\", FORMAT_STRING = \"#,###\"    Member [Measure Simulations].[Marketing Budget Simulation].[5 x Retention - 10 x Retention] AS [Measure Simulations].[Marketing Budget Simulation].[10 x Retention] - [Measure Simulations].[Marketing Budget Simulation].[5 x Retention], CAPTION = \"Expense difference\"  SELECT NON EMPTY Crossjoin([Measures].[Actual Expense (1)], Union([Measure Simulations].[Marketing Budget Simulation].[Marketing Budget Simulation].Members, [Measure Simulations].[Marketing Budget Simulation].[5 x Retention - 10 x Retention])) ON COLUMNS, NON EMPTY [Epoch].[Epoch].[Branch].Members ON ROWS FROM [customer_cube] CELL PROPERTIES BACK_COLOR, FONT_FLAGS, FORE_COLOR, FORMATTED_VALUE, VALUE",
        "ranges": {
         "column": {
          "chunkSize": 50,
          "thresholdPercentage": 0.2
         },
         "row": {
          "chunkSize": 2000,
          "thresholdPercentage": 0.1
         }
        },
        "serverUrl": "",
        "updateMode": "once"
       },
       "containerKey": "pivot-table",
       "showTitleBar": false,
       "style": {}
      }
     }
    }
   },
   "outputs": [
    {
     "data": {
      "application/vnd.atoti.v0+json": {
       "cellSet": {
        "axes": [
         {
          "hierarchies": [
           {
            "dimension": "Measures",
            "hierarchy": "Measures"
           },
           {
            "dimension": "Measure Simulations",
            "hierarchy": "Marketing Budget Simulation"
           }
          ],
          "id": 0,
          "positions": [
           [
            {
             "captionPath": [
              "Actual Expense"
             ],
             "namePath": [
              "Actual Expense (1)"
             ],
             "properties": {
              "DISPLAY_INFO": 0
             }
            },
            {
             "captionPath": [
              "5 x Retention"
             ],
             "namePath": [
              "5 x Retention"
             ],
             "properties": {
              "DISPLAY_INFO": 0
             }
            }
           ],
           [
            {
             "captionPath": [
              "Actual Expense"
             ],
             "namePath": [
              "Actual Expense (1)"
             ],
             "properties": {
              "DISPLAY_INFO": 0
             }
            },
            {
             "captionPath": [
              "10 x Retention"
             ],
             "namePath": [
              "10 x Retention"
             ],
             "properties": {
              "DISPLAY_INFO": 0
             }
            }
           ],
           [
            {
             "captionPath": [
              "Actual Expense"
             ],
             "namePath": [
              "Actual Expense (1)"
             ],
             "properties": {
              "DISPLAY_INFO": 0
             }
            },
            {
             "captionPath": [
              "Expense difference"
             ],
             "namePath": [
              "5 x Retention - 10 x Retention"
             ],
             "properties": {
              "DISPLAY_INFO": 0
             }
            }
           ]
          ]
         },
         {
          "hierarchies": [
           {
            "dimension": "Epoch",
            "hierarchy": "Epoch"
           }
          ],
          "id": 1,
          "positions": [
           [
            {
             "captionPath": [
              "Base"
             ],
             "namePath": [
              "Base"
             ],
             "properties": {
              "DISPLAY_INFO": 0
             }
            }
           ],
           [
            {
             "captionPath": [
              "Logistic Regression (SMOTE) Prediction"
             ],
             "namePath": [
              "Logistic Regression (SMOTE) Prediction"
             ],
             "properties": {
              "DISPLAY_INFO": 0
             }
            }
           ],
           [
            {
             "captionPath": [
              "Logistic Regression Prediction"
             ],
             "namePath": [
              "Logistic Regression Prediction"
             ],
             "properties": {
              "DISPLAY_INFO": 0
             }
            }
           ],
           [
            {
             "captionPath": [
              "Naive Bayes Prediction"
             ],
             "namePath": [
              "Naive Bayes Prediction"
             ],
             "properties": {
              "DISPLAY_INFO": 0
             }
            }
           ],
           [
            {
             "captionPath": [
              "SVM Classifier Linear Prediction"
             ],
             "namePath": [
              "SVM Classifier Linear Prediction"
             ],
             "properties": {
              "DISPLAY_INFO": 0
             }
            }
           ]
          ]
         }
        ],
        "cells": [
         {
          "formattedValue": "125,700",
          "ordinal": 0,
          "properties": {
           "BACK_COLOR": "transparent",
           "FONT_FLAGS": 0,
           "FORE_COLOR": null
          },
          "value": 125700
         },
         {
          "formattedValue": "125,700",
          "ordinal": 1,
          "properties": {
           "BACK_COLOR": "transparent",
           "FONT_FLAGS": 0,
           "FORE_COLOR": null
          },
          "value": 125700
         },
         {
          "formattedValue": "0",
          "ordinal": 2,
          "properties": {
           "BACK_COLOR": "transparent",
           "FONT_FLAGS": 0,
           "FORE_COLOR": null
          },
          "value": 0
         },
         {
          "formattedValue": "180,900",
          "ordinal": 3,
          "properties": {
           "BACK_COLOR": "transparent",
           "FONT_FLAGS": 0,
           "FORE_COLOR": null
          },
          "value": 180900
         },
         {
          "formattedValue": "192,900",
          "ordinal": 4,
          "properties": {
           "BACK_COLOR": "transparent",
           "FONT_FLAGS": 0,
           "FORE_COLOR": null
          },
          "value": 192900
         },
         {
          "formattedValue": "12,000",
          "ordinal": 5,
          "properties": {
           "BACK_COLOR": "transparent",
           "FONT_FLAGS": 0,
           "FORE_COLOR": null
          },
          "value": 12000
         },
         {
          "formattedValue": "243,100",
          "ordinal": 6,
          "properties": {
           "BACK_COLOR": "transparent",
           "FONT_FLAGS": 0,
           "FORE_COLOR": null
          },
          "value": 243100
         },
         {
          "formattedValue": "397,600",
          "ordinal": 7,
          "properties": {
           "BACK_COLOR": "transparent",
           "FONT_FLAGS": 0,
           "FORE_COLOR": null
          },
          "value": 397600
         },
         {
          "formattedValue": "154,500",
          "ordinal": 8,
          "properties": {
           "BACK_COLOR": "transparent",
           "FONT_FLAGS": 0,
           "FORE_COLOR": null
          },
          "value": 154500
         },
         {
          "formattedValue": "235,400",
          "ordinal": 9,
          "properties": {
           "BACK_COLOR": "transparent",
           "FONT_FLAGS": 0,
           "FORE_COLOR": null
          },
          "value": 235400
         },
         {
          "formattedValue": "235,400",
          "ordinal": 10,
          "properties": {
           "BACK_COLOR": "transparent",
           "FONT_FLAGS": 0,
           "FORE_COLOR": null
          },
          "value": 235400
         },
         {
          "formattedValue": "0",
          "ordinal": 11,
          "properties": {
           "BACK_COLOR": "transparent",
           "FONT_FLAGS": 0,
           "FORE_COLOR": null
          },
          "value": 0
         },
         {
          "formattedValue": "188,600",
          "ordinal": 12,
          "properties": {
           "BACK_COLOR": "transparent",
           "FONT_FLAGS": 0,
           "FORE_COLOR": null
          },
          "value": 188600
         },
         {
          "formattedValue": "216,100",
          "ordinal": 13,
          "properties": {
           "BACK_COLOR": "transparent",
           "FONT_FLAGS": 0,
           "FORE_COLOR": null
          },
          "value": 216100
         },
         {
          "formattedValue": "27,500",
          "ordinal": 14,
          "properties": {
           "BACK_COLOR": "transparent",
           "FONT_FLAGS": 0,
           "FORE_COLOR": null
          },
          "value": 27500
         }
        ],
        "cube": "customer_cube",
        "defaultMembers": [
         {
          "captionPath": [
           "Count"
          ],
          "dimension": "Measures",
          "hierarchy": "Measures",
          "path": [
           "contributors.COUNT"
          ]
         },
         {
          "captionPath": [
           "90% NRR"
          ],
          "dimension": "Measure Simulations",
          "hierarchy": "NRR Simulation",
          "path": [
           "90% NRR"
          ]
         },
         {
          "captionPath": [
           "5 x Retention"
          ],
          "dimension": "Measure Simulations",
          "hierarchy": "Marketing Budget Simulation",
          "path": [
           "5 x Retention"
          ]
         },
         {
          "captionPath": [
           "Base"
          ],
          "dimension": "Epoch",
          "hierarchy": "Epoch",
          "path": [
           "Base"
          ]
         }
        ],
        "epoch": 126
       },
       "cube": "customer_cube",
       "error": null,
       "name": null,
       "session": "Unnamed"
      },
      "text/html": [
       "<img src=\"data:image/svg+xml;charset=utf8,%3C?xml%20version=%221.0%22%20standalone=%22no%22?%3E%0A%20%20%20%20%3Csvg%20xmlns=%22http://www.w3.org/2000/svg%22%20width=%221754%22%20height=%22267%22%3E%0A%20%20%20%20%20%20%3CforeignObject%20x=%220%22%20y=%220%22%20width=%22100%25%22%20height=%22100%25%22%3E%0A%20%20%20%20%20%20%20%20%3Cstyle%20type=%22text/css%22%3E.css-xsa55j-dock%20%7Bposition:%20relative;%20z-index:%200;%20height:%20100%25;%20background-color:%20rgb(255,%20255,%20255);%20display:%20flex;%20flex-direction:%20column%7D%0A.css-1ibuxvk-DockBody%20%7Bpadding-top:%200px;%20padding-left:%200px;%20padding-right:%200px;%20padding-bottom:%200px;%20flex-grow:%201;%20flex-shrink:%201;%20flex-basis:%200%25;%20box-sizing:%20border-box;%20position:%20relative;%20z-index:%200;%20overflow-x:%20hidden;%20overflow-y:%20hidden%7D%0A.css-14zuz97%20%7Bbackground-image:%20initial;%20background-position-x:%20initial;%20background-position-y:%20initial;%20background-size:%20initial;%20background-repeat-x:%20initial;%20background-repeat-y:%20initial;%20background-attachment:%20initial;%20background-origin:%20initial;%20background-color:%20rgba(0,%200,%200,%200.2);%20z-index:%201;%20box-sizing:%20border-box;%20background-clip:%20padding-box%7D%0A.css-14zuz97.vertical%20%7Bwidth:%2012px;%20margin-top:%200px;%20margin-right:%20-6px;%20margin-bottom:%200px;%20margin-left:%20-6px;%20border-left-width:%205.5px;%20border-left-style:%20solid;%20border-left-color:%20transparent;%20border-right-width:%205.5px;%20border-right-style:%20solid;%20border-right-color:%20transparent;%20cursor:%20col-resize%7D%0A.css-14zuz97.disabled%20%7Bdisplay:%20none%7D%0A.css-1lrljg1-EditorSplitPane%20%7Bbackground-color:%20rgb(255,%20255,%20255);%20flex-grow:%201;%20flex-shrink:%201;%20flex-basis:%200%25;%20margin-right:%200px;%20position:%20relative%7D%0A.css-15fz3t7-EditorSplitPane%20%7Bposition:%20absolute;%20top:%200px;%20bottom:%200px;%20left:%200px;%20right:%200px;%20display:%20flex;%20flex-direction:%20column%7D%0A.css-1k1fxuh-Tabular%20%7Bwidth:%20100%25;%20height:%20100%25;%20position:%20relative%7D%0A.css-10klw3m%20%7Bheight:%20100%25%7D%0A.css-mdjjdg-TabularHeader%20%7Bdisplay:%20flex%7D%0A.css-12nzxaz-PinnedTabularHeaders%20%7Bflex-shrink:%200;%20display:%20flex%7D%0A.css-5jtkjp-UnpinnedTabularHeaders%20%7Bdisplay:%20flex;%20position:%20absolute;%20left:%200px%7D%0A.css-19w2ip5-TabularHeaderCell%20%7Bcursor:%20default;%20-webkit-box-flex:%201;%20flex-grow:%201;%20flex-shrink:%201;%20box-sizing:%20border-box;%20padding-left:%204px;%20padding-right:%204px;%20padding-top:%204px;%20padding-bottom:%204px;%20height:%20100%25;%20overflow-x:%20hidden;%20overflow-y:%20hidden;%20display:%20flex;%20white-space:%20nowrap;%20-webkit-box-pack:%20start;%20justify-content:%20flex-start;%20align-items:%20flex-start%7D%0A.css-jpazdc-TabularHeaderCell%20%7Boverflow-x:%20hidden;%20overflow-y:%20hidden;%20text-overflow:%20ellipsis%7D%0A.css-c7y3a7-TabularHeaderCell%20%7Bflex-shrink:%200;%20height:%20100%25;%20display:%20flex;%20-webkit-box-pack:%20center;%20justify-content:%20center%7D%0A.css-1id6sm3-UnpinnedTabularRows%20%7Bposition:%20absolute;%20top:%200px;%20left:%200px%7D%0A.css-3cge9w%20%7Bcursor:%20cell;%20display:%20flex;%20height:%2028px;%20user-select:%20none%7D%0A.css-1ouk3zc-EditorSplitPane%20%7Bbackground-color:%20rgb(255,%20255,%20255);%20flex-grow:%201;%20flex-shrink:%201;%20flex-basis:%200%25%7D%0A.css-1jjvrwi-EditorSplitPane%20%7Bposition:%20absolute;%20top:%200px;%20bottom:%200px;%20left:%200px;%20right:%200px;%20overflow-y:%20auto%7D%0A.css-1qlioq-TabularPinnSeparator%20%7Bwidth:%202px;%20height:%2056px;%20background-color:%20rgb(233,%20233,%20233)%7D%0A.css-1ag4cda-TabularHeaderCell%20%7Bcursor:%20default;%20-webkit-box-flex:%201;%20flex-grow:%201;%20flex-shrink:%201;%20box-sizing:%20border-box;%20padding-left:%204px;%20padding-right:%204px;%20padding-top:%204px;%20padding-bottom:%204px;%20height:%20100%25;%20overflow-x:%20hidden;%20overflow-y:%20hidden;%20display:%20flex;%20overflow-wrap:%20break-word;%20-webkit-box-pack:%20start;%20justify-content:%20flex-start;%20align-items:%20flex-start%7D%0A.css-18e17sr-TabularHeaderGroup%20%7Bposition:%20relative;%20width:%20264px%7D%0A.css-1uztktw%20%7Bcolor:%20rgba(0,%200,%200,%200.85);%20display:%20flex;%20box-sizing:%20border-box;%20-webkit-box-align:%20center;%20align-items:%20center;%20height:%2056px;%20position:%20absolute;%20top:%200px;%20left:%200px;%20user-select:%20none;%20font-size:%2012px;%20line-height:%2022px;%20font-weight:%20600;%20border-bottom-width:%202px;%20border-bottom-style:%20solid;%20border-bottom-color:%20rgb(233,%20233,%20233);%20width:%20264px;%20border-right-width:%201px;%20border-right-style:%20solid;%20border-right-color:%20rgb(233,%20233,%20233)%7D%0A.css-7q0jqh-HeaderResizer%20%7Bposition:%20absolute;%20z-index:%201;%20width:%2010px;%20height:%2056px;%20left:%20259px;%20top:%200px;%20cursor:%20col-resize%7D%0A.css-1dc07fb-HeaderResizer%20%7Bposition:%20absolute;%20z-index:%201;%20height:%2010px;%20width:%20264px;%20left:%200px;%20top:%2051px;%20cursor:%20row-resize%7D%0A.css-1f2ewkc-TabularCell%20%7Bheight:%2028px;%20box-sizing:%20border-box;%20display:%20flex;%20-webkit-box-pack:%20end;%20justify-content:%20flex-end;%20flex-direction:%20column;%20padding-top:%204px;%20padding-left:%204px;%20padding-right:%204px;%20padding-bottom:%203px;%20overflow-x:%20hidden;%20overflow-y:%20hidden;%20white-space:%20nowrap;%20border-right-width:%201px;%20border-right-style:%20solid;%20border-right-color:%20rgb(233,%20233,%20233);%20border-bottom-width:%201px;%20border-bottom-style:%20solid;%20border-bottom-color:%20rgb(233,%20233,%20233);%20width:%20264px;%20background-color:%20rgb(250,%20250,%20250);%20cursor:%20cell;%20user-select:%20none;%20align-items:%20flex-start%7D%0A.css-aw842i-MergedHeaderCell%20%7Bdisplay:%20flex%7D%0A.css-1la3ujz%20%7Bcursor:%20pointer;%20padding-top:%200px;%20padding-right:%200px;%20padding-bottom:%200px;%20padding-left:%200px;%20width:%2016px;%20margin-top:%202px;%20height:%20inherit;%20display:%20flex;%20-webkit-box-align:%20center;%20align-items:%20center;%20font-size:%2010px%7D%0A.css-tufl8b-MergedHeaderCell%20%7Bwidth:%20100%25;%20overflow-x:%20hidden;%20overflow-y:%20hidden;%20text-overflow:%20ellipsis;%20white-space:%20nowrap%7D%0A.css-pm742e%20%7Bcursor:%20pointer;%20margin-top:%202px;%20height:%20inherit;%20display:%20flex;%20-webkit-box-align:%20center;%20align-items:%20center;%20font-size:%2010px;%20-webkit-box-pack:%20center;%20justify-content:%20center;%20padding-left:%204px%7D%0A.css-8r2ljj-PinnedTabularRows%20%7Bposition:%20absolute;%20right:%200px%7D%0A.css-8zvwca-PinnedTabularRows%20%7Bwidth:%202px;%20height:%20140px;%20background-color:%20rgb(233,%20233,%20233)%7D%0A.css-mkoicc-CaptionCellRenderer%20%7Bwidth:%20100%25;%20overflow-x:%20hidden;%20overflow-y:%20hidden;%20text-overflow:%20ellipsis;%20white-space:%20nowrap%7D%0A.css-t881dv-SelectionStatistics%20%7Bheight:%2020px;%20display:%20flex;%20padding-top:%205px;%20opacity:%200;%20transition-duration:%20300ms;%20transition-timing-function:%20ease;%20transition-delay:%200s;%20transition-property:%20opacity;%20position:%20absolute;%20right:%200px;%20left:%20unset%7D%0A.css-1g4e8gy-Tabular%20%7Bposition:%20relative;%20height:%20100%25;%20width:%20722px%7D%0A.css-2x08ou-UnpinnedTabularHeaders%20%7Boverflow-x:%20hidden;%20overflow-y:%20hidden;%20position:%20relative;%20width:%201490px;%20height:%2056px%7D%0A.css-3j2n73-TabularHeaderGroup%20%7Bposition:%20relative;%20width:%20439px%7D%0A.css-1rtmp5q%20%7Bfont-size:%2012px;%20line-height:%2022px;%20font-weight:%20600;%20color:%20rgba(0,%200,%200,%200.85);%20text-align:%20center;%20-webkit-box-align:%20center;%20align-items:%20center;%20box-sizing:%20border-box;%20padding-left:%203px;%20padding-right:%203px;%20padding-top:%204px;%20padding-bottom:%204px;%20border-right-width:%201px;%20border-right-style:%20solid;%20border-right-color:%20rgb(233,%20233,%20233);%20width:%20439px;%20height:%2028px;%20position:%20absolute;%20top:%200px;%20left:%200px;%20cursor:%20auto;%20user-select:%20none;%20white-space:%20nowrap;%20text-overflow:%20ellipsis;%20overflow-x:%20hidden;%20overflow-y:%20hidden%7D%0A.css-13l4294-HeaderResizer%20%7Bposition:%20absolute;%20z-index:%201;%20height:%2010px;%20width:%20139px;%20left:%200px;%20top:%2023px;%20cursor:%20row-resize%7D%0A.css-5shqs0%20%7Bcolor:%20rgba(0,%200,%200,%200.85);%20display:%20flex;%20box-sizing:%20border-box;%20-webkit-box-align:%20center;%20align-items:%20center;%20height:%2028px;%20position:%20absolute;%20top:%2028px;%20left:%200px;%20user-select:%20none;%20font-size:%2012px;%20line-height:%2022px;%20font-weight:%20600;%20border-bottom-width:%202px;%20border-bottom-style:%20solid;%20border-bottom-color:%20rgb(233,%20233,%20233);%20width:%20139px%7D%0A.css-qz4w9e-HeaderResizer%20%7Bposition:%20absolute;%20z-index:%201;%20width:%2010px;%20height:%2028px;%20left:%20134px;%20top:%2028px;%20cursor:%20col-resize%7D%0A.css-1mtr61g-HeaderResizer%20%7Bposition:%20absolute;%20z-index:%201;%20height:%2010px;%20width:%20139px;%20left:%200px;%20top:%2051px;%20cursor:%20row-resize%7D%0A.css-90gbeq-HeaderResizer%20%7Bposition:%20absolute;%20z-index:%201;%20height:%2010px;%20width:%20139px;%20left:%20139px;%20top:%2023px;%20cursor:%20row-resize%7D%0A.css-5vaiog%20%7Bcolor:%20rgba(0,%200,%200,%200.85);%20display:%20flex;%20box-sizing:%20border-box;%20-webkit-box-align:%20center;%20align-items:%20center;%20height:%2028px;%20position:%20absolute;%20top:%2028px;%20left:%20139px;%20user-select:%20none;%20font-size:%2012px;%20line-height:%2022px;%20font-weight:%20600;%20border-bottom-width:%202px;%20border-bottom-style:%20solid;%20border-bottom-color:%20rgb(233,%20233,%20233);%20width:%20139px%7D%0A.css-1e95oul-HeaderResizer%20%7Bposition:%20absolute;%20z-index:%201;%20width:%2010px;%20height:%2028px;%20left:%20273px;%20top:%2028px;%20cursor:%20col-resize%7D%0A.css-12ievei-HeaderResizer%20%7Bposition:%20absolute;%20z-index:%201;%20height:%2010px;%20width:%20139px;%20left:%20139px;%20top:%2051px;%20cursor:%20row-resize%7D%0A.css-qnbmuq-HeaderResizer%20%7Bposition:%20absolute;%20z-index:%201;%20height:%2010px;%20width:%20161px;%20left:%20278px;%20top:%2023px;%20cursor:%20row-resize%7D%0A.css-a6w1j8%20%7Bcolor:%20rgba(0,%200,%200,%200.85);%20display:%20flex;%20box-sizing:%20border-box;%20-webkit-box-align:%20center;%20align-items:%20center;%20height:%2028px;%20position:%20absolute;%20top:%2028px;%20left:%20278px;%20user-select:%20none;%20font-size:%2012px;%20line-height:%2022px;%20font-weight:%20600;%20border-bottom-width:%202px;%20border-bottom-style:%20solid;%20border-bottom-color:%20rgb(233,%20233,%20233);%20width:%20161px;%20border-right-width:%201px;%20border-right-style:%20solid;%20border-right-color:%20rgb(233,%20233,%20233)%7D%0A.css-lr5dav-HeaderResizer%20%7Bposition:%20absolute;%20z-index:%201;%20width:%2010px;%20height:%2028px;%20left:%20434px;%20top:%2028px;%20cursor:%20col-resize%7D%0A.css-y7hi62-HeaderResizer%20%7Bposition:%20absolute;%20z-index:%201;%20height:%2010px;%20width:%20161px;%20left:%20278px;%20top:%2051px;%20cursor:%20row-resize%7D%0A.css-a0d3hp-TabularBody%20%7Bposition:%20relative;%20overflow-x:%20hidden;%20overflow-y:%20hidden;%20top:%200px;%20width:%20705px;%20height:%20140px%7D%0A.css-2avf98-PinnedTabularRows%20%7Bposition:%20absolute;%20height:%20140px;%20width:%20266px;%20overflow-x:%20hidden;%20overflow-y:%20hidden%7D%0A.css-1ekceme-PinnedTabularRows%20%7Bposition:%20absolute;%20overflow-x:%20hidden;%20overflow-y:%20hidden;%20top:%200px;%20width:%20264px%7D%0A.css-asyvh7-TabularCell%20%7Bheight:%2028px;%20box-sizing:%20border-box;%20display:%20flex;%20-webkit-box-pack:%20end;%20justify-content:%20flex-end;%20flex-direction:%20column;%20padding-top:%204px;%20padding-left:%204px;%20padding-right:%204px;%20padding-bottom:%203px;%20overflow-x:%20hidden;%20overflow-y:%20hidden;%20white-space:%20nowrap;%20border-right-width:%201px;%20border-right-style:%20solid;%20border-right-color:%20rgb(233,%20233,%20233);%20border-bottom-width:%201px;%20border-bottom-style:%20solid;%20border-bottom-color:%20rgb(233,%20233,%20233);%20width:%20264px;%20cursor:%20cell;%20user-select:%20none;%20align-items:%20flex-start%7D%0A.css-noky6s-UnpinnedTabularRows%20%7Bposition:%20absolute;%20overflow-x:%20hidden;%20overflow-y:%20hidden;%20left:%20266px;%20height:%20140px;%20width:%20439px%7D%0A.css-5dwb1h-TabularCell%20%7Bheight:%2028px;%20box-sizing:%20border-box;%20display:%20flex;%20-webkit-box-pack:%20end;%20justify-content:%20flex-end;%20flex-direction:%20column;%20padding-top:%204px;%20padding-left:%204px;%20padding-right:%204px;%20padding-bottom:%203px;%20overflow-x:%20hidden;%20overflow-y:%20hidden;%20white-space:%20nowrap;%20border-right-width:%201px;%20border-right-style:%20solid;%20border-right-color:%20rgb(233,%20233,%20233);%20border-bottom-width:%201px;%20border-bottom-style:%20solid;%20border-bottom-color:%20rgb(233,%20233,%20233);%20width:%20139px;%20background-color:%20transparent;%20cursor:%20cell;%20user-select:%20none;%20text-align:%20right;%20align-items:%20flex-end%7D%0A.css-e0k2fz-TabularCell%20%7Bheight:%2028px;%20box-sizing:%20border-box;%20display:%20flex;%20-webkit-box-pack:%20end;%20justify-content:%20flex-end;%20flex-direction:%20column;%20padding-top:%204px;%20padding-left:%204px;%20padding-right:%204px;%20padding-bottom:%203px;%20overflow-x:%20hidden;%20overflow-y:%20hidden;%20white-space:%20nowrap;%20border-right-width:%201px;%20border-right-style:%20solid;%20border-right-color:%20rgb(233,%20233,%20233);%20border-bottom-width:%201px;%20border-bottom-style:%20solid;%20border-bottom-color:%20rgb(233,%20233,%20233);%20width:%20161px;%20background-color:%20transparent;%20cursor:%20cell;%20user-select:%20none;%20text-align:%20right;%20align-items:%20flex-end%7D%0A.css-1vo01bk-TabularCell%20%7Bheight:%2028px;%20box-sizing:%20border-box;%20display:%20flex;%20-webkit-box-pack:%20end;%20justify-content:%20flex-end;%20flex-direction:%20column;%20padding-top:%204px;%20padding-left:%204px;%20padding-right:%204px;%20padding-bottom:%203px;%20overflow-x:%20hidden;%20overflow-y:%20hidden;%20white-space:%20nowrap;%20border-right-width:%201px;%20border-right-style:%20solid;%20border-right-color:%20rgb(233,%20233,%20233);%20border-bottom-width:%201px;%20border-bottom-style:%20solid;%20border-bottom-color:%20rgb(233,%20233,%20233);%20width:%20139px;%20cursor:%20cell;%20user-select:%20none;%20text-align:%20right;%20background-color:%20transparent;%20align-items:%20flex-end%7D%0A.css-1o0asqi-TabularCell%20%7Bheight:%2028px;%20box-sizing:%20border-box;%20display:%20flex;%20-webkit-box-pack:%20end;%20justify-content:%20flex-end;%20flex-direction:%20column;%20padding-top:%204px;%20padding-left:%204px;%20padding-right:%204px;%20padding-bottom:%203px;%20overflow-x:%20hidden;%20overflow-y:%20hidden;%20white-space:%20nowrap;%20border-right-width:%201px;%20border-right-style:%20solid;%20border-right-color:%20rgb(233,%20233,%20233);%20border-bottom-width:%201px;%20border-bottom-style:%20solid;%20border-bottom-color:%20rgb(233,%20233,%20233);%20width:%20161px;%20cursor:%20cell;%20user-select:%20none;%20text-align:%20right;%20background-color:%20transparent;%20align-items:%20flex-end%7D%0A.ant-root%20html,%20.ant-root%20%7Bwidth:%20100%25;%20height:%20100%25%7D%0A.ant-root%20*,%20.ant-root%20::before,%20.ant-root%20::after%20%7Bbox-sizing:%20border-box%7D%0A.ant-root%20%7Bmargin-top:%200px;%20margin-right:%200px;%20margin-bottom:%200px;%20margin-left:%200px;%20color:%20rgba(0,%200,%200,%200.65);%20font-size:%2014px;%20font-family:%20-apple-system,%20BlinkMacSystemFont,%20%22Segoe%20UI%22,%20%22PingFang%20SC%22,%20%22Hiragino%20Sans%20GB%22,%20%22Microsoft%20YaHei%22,%20%22Helvetica%20Neue%22,%20Helvetica,%20Arial,%20sans-serif,%20%22Apple%20Color%20Emoji%22,%20%22Segoe%20UI%20Emoji%22,%20%22Segoe%20UI%20Symbol%22;%20font-variant-ligatures:%20normal;%20font-variant-numeric:%20tabular-nums;%20font-variant-east-asian:%20normal;%20font-variant-caps:%20normal;%20line-height:%201.5;%20background-color:%20rgb(255,%20255,%20255);%20font-feature-settings:%20%22tnum%22;%20--antd-wave-shadow-color:%20undefined%7D%0A.ant-root%20.ant-typography%20%7Bcolor:%20rgba(0,%200,%200,%200.65)%7D%0A.css-1sxolix-Widget%20%7Bheight:%20100%25%7D%0A.css-1sxolix-Widget%20.ant-root:not(.atoti-widget-chooser)%20%7Bbox-shadow:%20none%7D%3C/style%3E%0A%20%20%20%20%20%20%20%20%3Cdiv%20xmlns=%22http://www.w3.org/1999/xhtml%22%20style=%22height:%20267px;%20width:%201754px%22%3E%0A%20%20%20%20%20%20%20%20%20%20%3Cdiv%20xmlns=%22http://www.w3.org/1999/xhtml%22%20class=%22css-1sxolix-Widget%22%3E%3Cdiv%20class=%22ant-root%20css-xsa55j-dock%22%3E%3Cdiv%20class=%22css-1ibuxvk-DockBody%22%3E%3Cdiv%20class=%22SplitPane%20%20vertical%20disabled%22%20style=%22display:%20flex;%20flex:%201%201%200%25;%20height:%20100%25;%20position:%20relative;%20outline:%20none;%20overflow:%20hidden;%20user-select:%20text;%20flex-direction:%20row;%20left:%200px;%20right:%200px;%22%3E%3Cdiv%20class=%22Pane%20vertical%20Pane1%20%20%22%20style=%22flex:%201%201%200%25;%20position:%20relative;%20outline:%20none;%20display:%20flex;%20background-color:%20rgb(255,%20255,%20255);%22%3E%3Cdiv%20class=%22css-1lrljg1-EditorSplitPane%22%3E%3Cdiv%20class=%22css-15fz3t7-EditorSplitPane%22%3E%3Cdiv%20class=%22css-1k1fxuh-Tabular%22%3E%3Cdiv%20class=%22css-10klw3m%22%3E%3Cdiv%20tabindex=%220%22%20class=%22css-1g4e8gy-Tabular%22%3E%3Cdiv%20class=%22css-192kvjv-Tabular%22%3E%3Cdiv%20class=%22css-mdjjdg-TabularHeader%22%3E%3Cdiv%20class=%22css-12nzxaz-PinnedTabularHeaders%22%3E%3Cdiv%20class=%22css-18e17sr-TabularHeaderGroup%22%3E%3Cdiv%20class=%22css-1uztktw%22%3E%3Cdiv%20class=%22css-1ag4cda-TabularHeaderCell%22%3E%3Cspan%20class=%22css-jpazdc-TabularHeaderCell%22%3E%3Cspan%3EScenario%3C/span%3E%3C/span%3E%3C/div%3E%3Cdiv%20class=%22css-c7y3a7-TabularHeaderCell%22%3E%3C/div%3E%3C/div%3E%3Cdiv%20class=%22css-7q0jqh-HeaderResizer%22%3E%3C/div%3E%3Cdiv%20class=%22css-1dc07fb-HeaderResizer%22%3E%3C/div%3E%3C/div%3E%3Cdiv%20class=%22css-1qlioq-TabularPinnSeparator%22%3E%3C/div%3E%3C/div%3E%3Cdiv%20class=%22css-2x08ou-UnpinnedTabularHeaders%22%3E%3Cdiv%20class=%22css-5jtkjp-UnpinnedTabularHeaders%22%3E%3Cdiv%20class=%22css-3j2n73-TabularHeaderGroup%22%3E%3Cdiv%20class=%22css-1rtmp5q%22%3EActual%20Expense%3C/div%3E%3Cdiv%20class=%22css-13l4294-HeaderResizer%22%3E%3C/div%3E%3Cdiv%20class=%22css-5shqs0%22%3E%3Cdiv%20class=%22css-pm742e%22%3E%3C/div%3E%3Cdiv%20class=%22css-19w2ip5-TabularHeaderCell%22%3E%3Cspan%20class=%22css-jpazdc-TabularHeaderCell%22%3E%3Cspan%3E5%20x%20Retention%3C/span%3E%3C/span%3E%3C/div%3E%3Cdiv%20class=%22css-c7y3a7-TabularHeaderCell%22%3E%3C/div%3E%3C/div%3E%3Cdiv%20class=%22css-qz4w9e-HeaderResizer%22%3E%3C/div%3E%3Cdiv%20class=%22css-1mtr61g-HeaderResizer%22%3E%3C/div%3E%3Cdiv%20class=%22css-90gbeq-HeaderResizer%22%3E%3C/div%3E%3Cdiv%20class=%22css-5vaiog%22%3E%3Cdiv%20class=%22css-pm742e%22%3E%3C/div%3E%3Cdiv%20class=%22css-19w2ip5-TabularHeaderCell%22%3E%3Cspan%20class=%22css-jpazdc-TabularHeaderCell%22%3E%3Cspan%3E10%20x%20Retention%3C/span%3E%3C/span%3E%3C/div%3E%3Cdiv%20class=%22css-c7y3a7-TabularHeaderCell%22%3E%3C/div%3E%3C/div%3E%3Cdiv%20class=%22css-1e95oul-HeaderResizer%22%3E%3C/div%3E%3Cdiv%20class=%22css-12ievei-HeaderResizer%22%3E%3C/div%3E%3Cdiv%20class=%22css-qnbmuq-HeaderResizer%22%3E%3C/div%3E%3Cdiv%20class=%22css-a6w1j8%22%3E%3Cdiv%20class=%22css-pm742e%22%3E%3C/div%3E%3Cdiv%20class=%22css-19w2ip5-TabularHeaderCell%22%3E%3Cspan%20class=%22css-jpazdc-TabularHeaderCell%22%3E%3Cspan%3EExpense%20difference%3C/span%3E%3C/span%3E%3C/div%3E%3Cdiv%20class=%22css-c7y3a7-TabularHeaderCell%22%3E%3C/div%3E%3C/div%3E%3Cdiv%20class=%22css-lr5dav-HeaderResizer%22%3E%3C/div%3E%3Cdiv%20class=%22css-y7hi62-HeaderResizer%22%3E%3C/div%3E%3C/div%3E%3C/div%3E%3C/div%3E%3C/div%3E%3Cdiv%20class=%22css-a0d3hp-TabularBody%22%3E%3Cdiv%20class=%22css-2avf98-PinnedTabularRows%22%3E%3Cdiv%20class=%22css-1ekceme-PinnedTabularRows%22%3E%3Cdiv%20class=%22css-3cge9w%22%3E%3Cdiv%3E%3Cdiv%20class=%22%20css-1f2ewkc-TabularCell%22%3E%3Cdiv%20class=%22css-aw842i-MergedHeaderCell%22%3E%3Cdiv%20class=%22css-1la3ujz%22%3E%3C/div%3E%3Cspan%20class=%22css-tufl8b-MergedHeaderCell%22%3E%3Cspan%3E%3Cspan%20class=%22ant-typography%22%20style=%22font-size:%2012px;%20line-height:%2020px;%20font-weight:%20600;%20color:%20rgba(0,%200,%200,%200.85);%22%3EBase%3C/span%3E%3C/span%3E%3C/span%3E%3C/div%3E%3C/div%3E%3C/div%3E%3C/div%3E%3Cdiv%20class=%22css-3cge9w%22%3E%3Cdiv%3E%3Cdiv%20class=%22%20css-asyvh7-TabularCell%22%3E%3Cdiv%20class=%22css-aw842i-MergedHeaderCell%22%3E%3Cdiv%20class=%22css-1la3ujz%22%3E%3C/div%3E%3Cspan%20class=%22css-tufl8b-MergedHeaderCell%22%3E%3Cspan%3E%3Cspan%20class=%22ant-typography%22%20style=%22font-size:%2012px;%20line-height:%2020px;%20font-weight:%20600;%20color:%20rgba(0,%200,%200,%200.85);%22%3ELogistic%20Regression%20(SMOTE)%20Prediction%3C/span%3E%3C/span%3E%3C/span%3E%3C/div%3E%3C/div%3E%3C/div%3E%3C/div%3E%3Cdiv%20class=%22css-3cge9w%22%3E%3Cdiv%3E%3Cdiv%20class=%22%20css-1f2ewkc-TabularCell%22%3E%3Cdiv%20class=%22css-aw842i-MergedHeaderCell%22%3E%3Cdiv%20class=%22css-1la3ujz%22%3E%3C/div%3E%3Cspan%20class=%22css-tufl8b-MergedHeaderCell%22%3E%3Cspan%3E%3Cspan%20class=%22ant-typography%22%20style=%22font-size:%2012px;%20line-height:%2020px;%20font-weight:%20600;%20color:%20rgba(0,%200,%200,%200.85);%22%3ELogistic%20Regression%20Prediction%3C/span%3E%3C/span%3E%3C/span%3E%3C/div%3E%3C/div%3E%3C/div%3E%3C/div%3E%3Cdiv%20class=%22css-3cge9w%22%3E%3Cdiv%3E%3Cdiv%20class=%22%20css-asyvh7-TabularCell%22%3E%3Cdiv%20class=%22css-aw842i-MergedHeaderCell%22%3E%3Cdiv%20class=%22css-1la3ujz%22%3E%3C/div%3E%3Cspan%20class=%22css-tufl8b-MergedHeaderCell%22%3E%3Cspan%3E%3Cspan%20class=%22ant-typography%22%20style=%22font-size:%2012px;%20line-height:%2020px;%20font-weight:%20600;%20color:%20rgba(0,%200,%200,%200.85);%22%3ENaive%20Bayes%20Prediction%3C/span%3E%3C/span%3E%3C/span%3E%3C/div%3E%3C/div%3E%3C/div%3E%3C/div%3E%3Cdiv%20class=%22css-3cge9w%22%3E%3Cdiv%3E%3Cdiv%20class=%22%20css-1f2ewkc-TabularCell%22%3E%3Cdiv%20class=%22css-aw842i-MergedHeaderCell%22%3E%3Cdiv%20class=%22css-1la3ujz%22%3E%3C/div%3E%3Cspan%20class=%22css-tufl8b-MergedHeaderCell%22%3E%3Cspan%3E%3Cspan%20class=%22ant-typography%22%20style=%22font-size:%2012px;%20line-height:%2020px;%20font-weight:%20600;%20color:%20rgba(0,%200,%200,%200.85);%22%3ESVM%20Classifier%20Linear%20Prediction%3C/span%3E%3C/span%3E%3C/span%3E%3C/div%3E%3C/div%3E%3C/div%3E%3C/div%3E%3C/div%3E%3Cdiv%20class=%22css-8r2ljj-PinnedTabularRows%22%3E%3Cdiv%20class=%22css-8zvwca-PinnedTabularRows%22%3E%3C/div%3E%3C/div%3E%3C/div%3E%3Cdiv%20class=%22css-noky6s-UnpinnedTabularRows%22%3E%3Cdiv%20class=%22css-1id6sm3-UnpinnedTabularRows%22%3E%3Cdiv%20class=%22css-3cge9w%22%3E%3Cdiv%3E%3Cdiv%20class=%22%20css-5dwb1h-TabularCell%22%3E%3Cspan%20class=%22css-mkoicc-CaptionCellRenderer%22%3E%3Cspan%3E%3Cspan%20class=%22ant-typography%22%20style=%22font-size:%2012px;%20line-height:%2020px;%20font-weight:%20400;%22%3E125,700%3C/span%3E%3C/span%3E%3C/span%3E%3C/div%3E%3C/div%3E%3Cdiv%3E%3Cdiv%20class=%22%20css-5dwb1h-TabularCell%22%3E%3Cspan%20class=%22css-mkoicc-CaptionCellRenderer%22%3E%3Cspan%3E%3Cspan%20class=%22ant-typography%22%20style=%22font-size:%2012px;%20line-height:%2020px;%20font-weight:%20400;%22%3E125,700%3C/span%3E%3C/span%3E%3C/span%3E%3C/div%3E%3C/div%3E%3Cdiv%3E%3Cdiv%20class=%22%20css-e0k2fz-TabularCell%22%3E%3Cspan%20class=%22css-mkoicc-CaptionCellRenderer%22%3E%3Cspan%3E%3Cspan%20class=%22ant-typography%22%20style=%22font-size:%2012px;%20line-height:%2020px;%20font-weight:%20400;%22%3E0%3C/span%3E%3C/span%3E%3C/span%3E%3C/div%3E%3C/div%3E%3C/div%3E%3Cdiv%20class=%22css-3cge9w%22%3E%3Cdiv%3E%3Cdiv%20class=%22%20css-1vo01bk-TabularCell%22%3E%3Cspan%20class=%22css-mkoicc-CaptionCellRenderer%22%3E%3Cspan%3E%3Cspan%20class=%22ant-typography%22%20style=%22font-size:%2012px;%20line-height:%2020px;%20font-weight:%20400;%22%3E180,900%3C/span%3E%3C/span%3E%3C/span%3E%3C/div%3E%3C/div%3E%3Cdiv%3E%3Cdiv%20class=%22%20css-1vo01bk-TabularCell%22%3E%3Cspan%20class=%22css-mkoicc-CaptionCellRenderer%22%3E%3Cspan%3E%3Cspan%20class=%22ant-typography%22%20style=%22font-size:%2012px;%20line-height:%2020px;%20font-weight:%20400;%22%3E192,900%3C/span%3E%3C/span%3E%3C/span%3E%3C/div%3E%3C/div%3E%3Cdiv%3E%3Cdiv%20class=%22%20css-1o0asqi-TabularCell%22%3E%3Cspan%20class=%22css-mkoicc-CaptionCellRenderer%22%3E%3Cspan%3E%3Cspan%20class=%22ant-typography%22%20style=%22font-size:%2012px;%20line-height:%2020px;%20font-weight:%20400;%22%3E12,000%3C/span%3E%3C/span%3E%3C/span%3E%3C/div%3E%3C/div%3E%3C/div%3E%3Cdiv%20class=%22css-3cge9w%22%3E%3Cdiv%3E%3Cdiv%20class=%22%20css-5dwb1h-TabularCell%22%3E%3Cspan%20class=%22css-mkoicc-CaptionCellRenderer%22%3E%3Cspan%3E%3Cspan%20class=%22ant-typography%22%20style=%22font-size:%2012px;%20line-height:%2020px;%20font-weight:%20400;%22%3E243,100%3C/span%3E%3C/span%3E%3C/span%3E%3C/div%3E%3C/div%3E%3Cdiv%3E%3Cdiv%20class=%22%20css-5dwb1h-TabularCell%22%3E%3Cspan%20class=%22css-mkoicc-CaptionCellRenderer%22%3E%3Cspan%3E%3Cspan%20class=%22ant-typography%22%20style=%22font-size:%2012px;%20line-height:%2020px;%20font-weight:%20400;%22%3E397,600%3C/span%3E%3C/span%3E%3C/span%3E%3C/div%3E%3C/div%3E%3Cdiv%3E%3Cdiv%20class=%22%20css-e0k2fz-TabularCell%22%3E%3Cspan%20class=%22css-mkoicc-CaptionCellRenderer%22%3E%3Cspan%3E%3Cspan%20class=%22ant-typography%22%20style=%22font-size:%2012px;%20line-height:%2020px;%20font-weight:%20400;%22%3E154,500%3C/span%3E%3C/span%3E%3C/span%3E%3C/div%3E%3C/div%3E%3C/div%3E%3Cdiv%20class=%22css-3cge9w%22%3E%3Cdiv%3E%3Cdiv%20class=%22%20css-1vo01bk-TabularCell%22%3E%3Cspan%20class=%22css-mkoicc-CaptionCellRenderer%22%3E%3Cspan%3E%3Cspan%20class=%22ant-typography%22%20style=%22font-size:%2012px;%20line-height:%2020px;%20font-weight:%20400;%22%3E235,400%3C/span%3E%3C/span%3E%3C/span%3E%3C/div%3E%3C/div%3E%3Cdiv%3E%3Cdiv%20class=%22%20css-1vo01bk-TabularCell%22%3E%3Cspan%20class=%22css-mkoicc-CaptionCellRenderer%22%3E%3Cspan%3E%3Cspan%20class=%22ant-typography%22%20style=%22font-size:%2012px;%20line-height:%2020px;%20font-weight:%20400;%22%3E235,400%3C/span%3E%3C/span%3E%3C/span%3E%3C/div%3E%3C/div%3E%3Cdiv%3E%3Cdiv%20class=%22%20css-1o0asqi-TabularCell%22%3E%3Cspan%20class=%22css-mkoicc-CaptionCellRenderer%22%3E%3Cspan%3E%3Cspan%20class=%22ant-typography%22%20style=%22font-size:%2012px;%20line-height:%2020px;%20font-weight:%20400;%22%3E0%3C/span%3E%3C/span%3E%3C/span%3E%3C/div%3E%3C/div%3E%3C/div%3E%3Cdiv%20class=%22css-3cge9w%22%3E%3Cdiv%3E%3Cdiv%20class=%22%20css-5dwb1h-TabularCell%22%3E%3Cspan%20class=%22css-mkoicc-CaptionCellRenderer%22%3E%3Cspan%3E%3Cspan%20class=%22ant-typography%22%20style=%22font-size:%2012px;%20line-height:%2020px;%20font-weight:%20400;%22%3E188,600%3C/span%3E%3C/span%3E%3C/span%3E%3C/div%3E%3C/div%3E%3Cdiv%3E%3Cdiv%20class=%22%20css-5dwb1h-TabularCell%22%3E%3Cspan%20class=%22css-mkoicc-CaptionCellRenderer%22%3E%3Cspan%3E%3Cspan%20class=%22ant-typography%22%20style=%22font-size:%2012px;%20line-height:%2020px;%20font-weight:%20400;%22%3E216,100%3C/span%3E%3C/span%3E%3C/span%3E%3C/div%3E%3C/div%3E%3Cdiv%3E%3Cdiv%20class=%22%20css-e0k2fz-TabularCell%22%3E%3Cspan%20class=%22css-mkoicc-CaptionCellRenderer%22%3E%3Cspan%3E%3Cspan%20class=%22ant-typography%22%20style=%22font-size:%2012px;%20line-height:%2020px;%20font-weight:%20400;%22%3E27,500%3C/span%3E%3C/span%3E%3C/span%3E%3C/div%3E%3C/div%3E%3C/div%3E%3C/div%3E%3C/div%3E%3C/div%3E%3C/div%3E%3Cdiv%20class=%22css-t881dv-SelectionStatistics%22%3E%3C/div%3E%3C/div%3E%3C/div%3E%3C/div%3E%3C/div%3E%3C/div%3E%3C/div%3E%3Cspan%20role=%22presentation%22%20class=%22css-14zuz97%20Resizer%20vertical%20disabled%22%3E%3C/span%3E%3Cdiv%20class=%22Pane%20vertical%20Pane2%20%20%22%20style=%22flex:%200%200%20auto;%20position:%20relative;%20outline:%20none;%20width:%200px;%20display:%20flex;%20background-color:%20rgb(255,%20255,%20255);%20overflow:%20auto;%22%3E%3Cdiv%20class=%22css-1ouk3zc-EditorSplitPane%22%3E%3Cdiv%20class=%22css-1jjvrwi-EditorSplitPane%22%3E%3C/div%3E%3C/div%3E%3C/div%3E%3C/div%3E%3C/div%3E%3C/div%3E%3C/div%3E%0A%20%20%20%20%20%20%20%20%3C/div%3E%0A%20%20%20%20%20%20%3C/foreignObject%3E%0A%20%20%20%20%3C/svg%3E\">"
      ],
      "text/plain": [
       "Open the notebook in JupyterLab with the atoti extension installed and enabled to see this widget."
      ]
     },
     "metadata": {},
     "output_type": "display_data"
    }
   ],
   "source": [
    "cube.visualize()"
   ]
  },
  {
   "cell_type": "code",
   "execution_count": null,
   "metadata": {},
   "outputs": [],
   "source": []
  }
 ],
 "metadata": {
  "kernelspec": {
   "display_name": "Python 3",
   "language": "python",
   "name": "python3"
  },
  "language_info": {
   "codemirror_mode": {
    "name": "ipython",
    "version": 3
   },
   "file_extension": ".py",
   "mimetype": "text/x-python",
   "name": "python",
   "nbconvert_exporter": "python",
   "pygments_lexer": "ipython3",
   "version": "3.7.8"
  }
 },
 "nbformat": 4,
 "nbformat_minor": 4
}
