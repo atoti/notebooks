{
 "cells": [
  {
   "cell_type": "markdown",
   "metadata": {},
   "source": [
    "# Interactive hypothesis testing\n",
    "\n",
    "If you need to test a hypothesis interactively along multiple dimensions or their combinations, we are showing below an example demonstrating how this can be achieved with [atoti](https://docs.atoti.io)."
   ]
  },
  {
   "cell_type": "markdown",
   "metadata": {},
   "source": [
    "# Imports"
   ]
  },
  {
   "cell_type": "code",
   "execution_count": 1,
   "metadata": {},
   "outputs": [],
   "source": [
    "import numpy as np\n",
    "from scipy.stats import norm, t\n",
    "import pandas as pd\n",
    "from IPython.display import display"
   ]
  },
  {
   "cell_type": "code",
   "execution_count": 2,
   "metadata": {},
   "outputs": [
    {
     "name": "stdout",
     "output_type": "stream",
     "text": [
      "Welcome to atoti 0.4.2.20200617181308!\n",
      "\n",
      "By using this community edition, you agree with the license available at https://www.atoti.io/eula.\n",
      "Browse the official documentation at https://docs.atoti.io.\n",
      "Join the community at https://www.atoti.io/register.\n",
      "\n",
      "You can hide this message by setting the ATOTI_HIDE_EULA_MESSAGE environment variable to True.\n"
     ]
    }
   ],
   "source": [
    "import atoti as tt"
   ]
  },
  {
   "cell_type": "markdown",
   "metadata": {},
   "source": [
    "## Raw data"
   ]
  },
  {
   "cell_type": "code",
   "execution_count": 3,
   "metadata": {},
   "outputs": [],
   "source": [
    "# Example data is taken from kaggle user submission:\n",
    "# https://www.kaggle.com/steveahn/memory-test-on-drugged-islanders-data\n",
    "df = pd.read_csv(\"Islander_data.csv\")\n",
    "df = df.reset_index()\n",
    "# FIXME: joining critical values store using an artificial key:\n",
    "df['Experiment'] = \"Experiment\""
   ]
  },
  {
   "cell_type": "code",
   "execution_count": 4,
   "metadata": {},
   "outputs": [],
   "source": [
    "# Vectorizing before and after measurements for convenience\n",
    "df['MemoryScoresVector'] = df['Mem_Score_Before'].astype(str) + \";\" + df['Mem_Score_After'].astype(str)"
   ]
  },
  {
   "cell_type": "code",
   "execution_count": 5,
   "metadata": {},
   "outputs": [],
   "source": [
    "df = df[['index', 'first_name', 'last_name', 'age', 'Happy_Sad_group', 'Dosage',\n",
    "       'Drug', 'Diff', 'MemoryScoresVector', \"Experiment\"]]"
   ]
  },
  {
   "cell_type": "markdown",
   "metadata": {},
   "source": [
    "## Launching atoti app"
   ]
  },
  {
   "cell_type": "code",
   "execution_count": 6,
   "metadata": {},
   "outputs": [],
   "source": [
    "session = tt.create_session()\n",
    "observations_datastore = session.read_pandas(\n",
    "    df, keys=[\"index\"], array_sep = \";\", store_name=\"Observations\"\n",
    ")\n",
    "cube = session.create_cube(observations_datastore)\n",
    "\n",
    "h = cube.hierarchies\n",
    "l = cube.levels\n",
    "m = cube.measures"
   ]
  },
  {
   "cell_type": "markdown",
   "metadata": {},
   "source": [
    "## URL of atoti app\n",
    "\n",
    "The following cell displays URL of atoti app:"
   ]
  },
  {
   "cell_type": "code",
   "execution_count": 7,
   "metadata": {},
   "outputs": [
    {
     "data": {
      "text/plain": [
       "'http://localhost:60059'"
      ]
     },
     "execution_count": 7,
     "metadata": {},
     "output_type": "execute_result"
    }
   ],
   "source": [
    "session.url"
   ]
  },
  {
   "cell_type": "markdown",
   "metadata": {},
   "source": [
    "# Inline data visualization\n",
    "\n",
    "By running the next cell, we embed an data visualization widget - slice and dice in the notebook."
   ]
  },
  {
   "cell_type": "code",
   "execution_count": 9,
   "metadata": {},
   "outputs": [
    {
     "data": {
      "application/vnd.atoti.v0+json": {
       "cube": "Observations",
       "name": null,
       "session": "Unnamed"
      },
      "text/plain": [
       "Install and enable the atoti JupyterLab extension to see this widget."
      ]
     },
     "metadata": {},
     "output_type": "display_data"
    }
   ],
   "source": [
    "cube.visualize()"
   ]
  },
  {
   "cell_type": "markdown",
   "metadata": {},
   "source": [
    "# Adding a custom grouping - age groups\n",
    "\n",
    "I want to group obvervations by age. To achieve that, I'm creating and uploading **age to group mapping** into a separate data store:"
   ]
  },
  {
   "cell_type": "code",
   "execution_count": 10,
   "metadata": {},
   "outputs": [],
   "source": [
    "age_groups_store = session.read_pandas(\n",
    "    pd.DataFrame(\n",
    "        data=[(\"0-25Y\", i) for i in range(25)]\n",
    "        + [(\"25Y - 50Y\", i) for i in range(25, 50)]\n",
    "        + [(\"50Y+\", i) for i in range(50, 100)],\n",
    "        columns=[\"age group\", \"age\"],\n",
    "    ),\n",
    "    keys=[\"age\"],\n",
    "    store_name=\"Age Groups\",\n",
    ")\n",
    "\n",
    "observations_datastore.join(age_groups_store)"
   ]
  },
  {
   "cell_type": "markdown",
   "metadata": {},
   "source": [
    "We will start using this grouping in one of the following cells."
   ]
  },
  {
   "cell_type": "markdown",
   "metadata": {},
   "source": [
    "# \"Before and After\" dimension\n",
    "\n",
    "I have loaded the before and after measurements in vectorized format: (before, after), and now I want to access the first and the second elements using a \"Before and After\" hierarchy. The following cell is creating it:"
   ]
  },
  {
   "cell_type": "code",
   "execution_count": 11,
   "metadata": {},
   "outputs": [
    {
     "data": {
      "image/svg+xml": [
       "<svg xmlns=\"http://www.w3.org/2000/svg\" xmlns:xlink=\"http://www.w3.org/1999/xlink\" width=\"504px\" height=\"412px\" viewBox=\"0.00 0.00 503.67 412.00\">\n",
       "<g id=\"graph0\" class=\"graph\" transform=\"scale(1.0 1.0) rotate(0) translate(4 408)\">\n",
       "<title>Observations schema</title>\n",
       "<polygon fill=\"white\" stroke=\"transparent\" points=\"-4,4 -4,-408 499.67,-408 499.67,4 -4,4\"/>\n",
       "<!-- Observations -->\n",
       "<g id=\"node1\" class=\"node\">\n",
       "<title>Observations</title>\n",
       "<polygon fill=\"none\" stroke=\"black\" points=\"8.5,-364 8.5,-400 197.5,-400 197.5,-364 8.5,-364\"/>\n",
       "<text text-anchor=\"start\" x=\"66.06\" y=\"-378.8\" font-family=\"Times,serif\" font-weight=\"bold\" font-size=\"14.00\">Observations</text>\n",
       "<polygon fill=\"none\" stroke=\"black\" points=\"8.5,-328 8.5,-364 197.5,-364 197.5,-328 8.5,-328\"/>\n",
       "<text text-anchor=\"start\" x=\"19.5\" y=\"-342.8\" font-family=\"Times,serif\" font-weight=\"bold\" font-size=\"14.00\">Key</text>\n",
       "<text text-anchor=\"start\" x=\"42.82\" y=\"-342.8\" font-family=\"Times,serif\" font-size=\"14.00\">  index </text>\n",
       "<text text-anchor=\"start\" x=\"84.43\" y=\"-342.8\" font-family=\"Times,serif\" font-style=\"italic\" font-size=\"14.00\">long</text>\n",
       "<text text-anchor=\"start\" x=\"109.32\" y=\"-342.8\" font-family=\"Times,serif\" font-size=\"14.00\"> </text>\n",
       "<polygon fill=\"none\" stroke=\"black\" points=\"8.5,-292 8.5,-328 197.5,-328 197.5,-292 8.5,-292\"/>\n",
       "<text text-anchor=\"start\" x=\"19.5\" y=\"-306.8\" font-family=\"Times,serif\" font-size=\"14.00\">first_name </text>\n",
       "<text text-anchor=\"start\" x=\"82.1\" y=\"-306.8\" font-family=\"Times,serif\" font-style=\"italic\" font-size=\"14.00\">String</text>\n",
       "<text text-anchor=\"start\" x=\"116.33\" y=\"-306.8\" font-family=\"Times,serif\" font-size=\"14.00\"> </text>\n",
       "<polygon fill=\"none\" stroke=\"black\" points=\"8.5,-256 8.5,-292 197.5,-292 197.5,-256 8.5,-256\"/>\n",
       "<text text-anchor=\"start\" x=\"19.5\" y=\"-270.8\" font-family=\"Times,serif\" font-size=\"14.00\">last_name </text>\n",
       "<text text-anchor=\"start\" x=\"79.76\" y=\"-270.8\" font-family=\"Times,serif\" font-style=\"italic\" font-size=\"14.00\">String</text>\n",
       "<text text-anchor=\"start\" x=\"113.99\" y=\"-270.8\" font-family=\"Times,serif\" font-size=\"14.00\"> </text>\n",
       "<polygon fill=\"none\" stroke=\"black\" points=\"8.5,-220 8.5,-256 197.5,-256 197.5,-220 8.5,-220\"/>\n",
       "<text text-anchor=\"start\" x=\"19.5\" y=\"-234.8\" font-family=\"Times,serif\" font-size=\"14.00\">age </text>\n",
       "<text text-anchor=\"start\" x=\"42.43\" y=\"-234.8\" font-family=\"Times,serif\" font-style=\"italic\" font-size=\"14.00\">long</text>\n",
       "<text text-anchor=\"start\" x=\"67.32\" y=\"-234.8\" font-family=\"Times,serif\" font-size=\"14.00\"> </text>\n",
       "<polygon fill=\"none\" stroke=\"black\" points=\"8.5,-184 8.5,-220 197.5,-220 197.5,-184 8.5,-184\"/>\n",
       "<text text-anchor=\"start\" x=\"19.5\" y=\"-198.8\" font-family=\"Times,serif\" font-size=\"14.00\">Happy_Sad_group </text>\n",
       "<text text-anchor=\"start\" x=\"127.99\" y=\"-198.8\" font-family=\"Times,serif\" font-style=\"italic\" font-size=\"14.00\">String</text>\n",
       "<text text-anchor=\"start\" x=\"162.21\" y=\"-198.8\" font-family=\"Times,serif\" font-size=\"14.00\"> </text>\n",
       "<polygon fill=\"none\" stroke=\"black\" points=\"8.5,-148 8.5,-184 197.5,-184 197.5,-148 8.5,-148\"/>\n",
       "<text text-anchor=\"start\" x=\"19.5\" y=\"-162.8\" font-family=\"Times,serif\" font-size=\"14.00\">Dosage </text>\n",
       "<text text-anchor=\"start\" x=\"64.99\" y=\"-162.8\" font-family=\"Times,serif\" font-style=\"italic\" font-size=\"14.00\">long</text>\n",
       "<text text-anchor=\"start\" x=\"89.88\" y=\"-162.8\" font-family=\"Times,serif\" font-size=\"14.00\"> </text>\n",
       "<polygon fill=\"none\" stroke=\"black\" points=\"8.5,-112 8.5,-148 197.5,-148 197.5,-112 8.5,-112\"/>\n",
       "<text text-anchor=\"start\" x=\"19.5\" y=\"-126.8\" font-family=\"Times,serif\" font-size=\"14.00\">Drug </text>\n",
       "<text text-anchor=\"start\" x=\"51.77\" y=\"-126.8\" font-family=\"Times,serif\" font-style=\"italic\" font-size=\"14.00\">String</text>\n",
       "<text text-anchor=\"start\" x=\"86\" y=\"-126.8\" font-family=\"Times,serif\" font-size=\"14.00\"> </text>\n",
       "<polygon fill=\"none\" stroke=\"black\" points=\"8.5,-76 8.5,-112 197.5,-112 197.5,-76 8.5,-76\"/>\n",
       "<text text-anchor=\"start\" x=\"19.5\" y=\"-90.8\" font-family=\"Times,serif\" font-size=\"14.00\">Diff </text>\n",
       "<text text-anchor=\"start\" x=\"46.08\" y=\"-90.8\" font-family=\"Times,serif\" font-style=\"italic\" font-size=\"14.00\">double</text>\n",
       "<text text-anchor=\"start\" x=\"84.18\" y=\"-90.8\" font-family=\"Times,serif\" font-size=\"14.00\"> </text>\n",
       "<polygon fill=\"none\" stroke=\"black\" points=\"8.5,-40 8.5,-76 197.5,-76 197.5,-40 8.5,-40\"/>\n",
       "<text text-anchor=\"start\" x=\"19.41\" y=\"-54.8\" font-family=\"Times,serif\" font-size=\"14.00\">MemoryScoresVector </text>\n",
       "<text text-anchor=\"start\" x=\"144.99\" y=\"-54.8\" font-family=\"Times,serif\" font-style=\"italic\" font-size=\"14.00\">double</text>\n",
       "<text text-anchor=\"start\" x=\"183.09\" y=\"-54.8\" font-family=\"Times,serif\" font-size=\"14.00\"> </text>\n",
       "<polygon fill=\"none\" stroke=\"black\" points=\"8.5,-4 8.5,-40 197.5,-40 197.5,-4 8.5,-4\"/>\n",
       "<text text-anchor=\"start\" x=\"19.5\" y=\"-18.8\" font-family=\"Times,serif\" font-size=\"14.00\">Experiment </text>\n",
       "<text text-anchor=\"start\" x=\"88.31\" y=\"-18.8\" font-family=\"Times,serif\" font-style=\"italic\" font-size=\"14.00\">String</text>\n",
       "<text text-anchor=\"start\" x=\"122.54\" y=\"-18.8\" font-family=\"Times,serif\" font-size=\"14.00\"> </text>\n",
       "</g>\n",
       "<!-- Age Groups -->\n",
       "<g id=\"node2\" class=\"node\">\n",
       "<title>Age Groups</title>\n",
       "<polygon fill=\"none\" stroke=\"black\" points=\"339.17,-287 339.17,-323 457.17,-323 457.17,-287 339.17,-287\"/>\n",
       "<text text-anchor=\"start\" x=\"364.15\" y=\"-301.8\" font-family=\"Times,serif\" font-weight=\"bold\" font-size=\"14.00\">Age Groups</text>\n",
       "<polygon fill=\"none\" stroke=\"black\" points=\"339.17,-251 339.17,-287 457.17,-287 457.17,-251 339.17,-251\"/>\n",
       "<text text-anchor=\"start\" x=\"350.17\" y=\"-265.8\" font-family=\"Times,serif\" font-weight=\"bold\" font-size=\"14.00\">Key</text>\n",
       "<text text-anchor=\"start\" x=\"373.5\" y=\"-265.8\" font-family=\"Times,serif\" font-size=\"14.00\">  age </text>\n",
       "<text text-anchor=\"start\" x=\"403.42\" y=\"-265.8\" font-family=\"Times,serif\" font-style=\"italic\" font-size=\"14.00\">long</text>\n",
       "<text text-anchor=\"start\" x=\"428.31\" y=\"-265.8\" font-family=\"Times,serif\" font-size=\"14.00\"> </text>\n",
       "<polygon fill=\"none\" stroke=\"black\" points=\"339.17,-215 339.17,-251 457.17,-251 457.17,-215 339.17,-215\"/>\n",
       "<text text-anchor=\"start\" x=\"349.76\" y=\"-229.8\" font-family=\"Times,serif\" font-size=\"14.00\">age group </text>\n",
       "<text text-anchor=\"start\" x=\"408.85\" y=\"-229.8\" font-family=\"Times,serif\" font-style=\"italic\" font-size=\"14.00\">String</text>\n",
       "<text text-anchor=\"start\" x=\"443.08\" y=\"-229.8\" font-family=\"Times,serif\" font-size=\"14.00\"> </text>\n",
       "</g>\n",
       "<!-- Observations&#45;&gt;Age Groups -->\n",
       "<g id=\"edge2\" class=\"edge\">\n",
       "<title>Observations-&gt;Age Groups</title>\n",
       "<path fill=\"none\" stroke=\"black\" d=\"M205.39,-225.25C243.4,-233.92 285.85,-243.6 321.13,-251.65\"/>\n",
       "<polygon fill=\"black\" stroke=\"black\" points=\"320.36,-255.07 330.89,-253.88 321.92,-248.24 320.36,-255.07\"/>\n",
       "<text text-anchor=\"middle\" x=\"252.84\" y=\"-244.48\" font-family=\"Times,serif\" font-size=\"14.00\">age → age</text>\n",
       "</g>\n",
       "<!-- Before or After -->\n",
       "<g id=\"node3\" class=\"node\">\n",
       "<title>Before or After</title>\n",
       "<polygon fill=\"none\" stroke=\"black\" points=\"309.17,-153 309.17,-189 488.17,-189 488.17,-153 309.17,-153\"/>\n",
       "<text text-anchor=\"start\" x=\"355.91\" y=\"-167.8\" font-family=\"Times,serif\" font-weight=\"bold\" font-size=\"14.00\">Before or After</text>\n",
       "<polygon fill=\"none\" stroke=\"black\" points=\"309.17,-117 309.17,-153 488.17,-153 488.17,-117 309.17,-117\"/>\n",
       "<text text-anchor=\"start\" x=\"320.13\" y=\"-131.8\" font-family=\"Times,serif\" font-weight=\"bold\" font-size=\"14.00\">Key</text>\n",
       "<text text-anchor=\"start\" x=\"343.46\" y=\"-131.8\" font-family=\"Times,serif\" font-size=\"14.00\">  Before or After </text>\n",
       "<text text-anchor=\"start\" x=\"439.48\" y=\"-131.8\" font-family=\"Times,serif\" font-style=\"italic\" font-size=\"14.00\">String</text>\n",
       "<text text-anchor=\"start\" x=\"473.71\" y=\"-131.8\" font-family=\"Times,serif\" font-size=\"14.00\"> </text>\n",
       "<polygon fill=\"none\" stroke=\"black\" points=\"309.17,-81 309.17,-117 488.17,-117 488.17,-81 309.17,-81\"/>\n",
       "<text text-anchor=\"start\" x=\"320.17\" y=\"-95.8\" font-family=\"Times,serif\" font-size=\"14.00\">Before or After__index </text>\n",
       "<text text-anchor=\"start\" x=\"454.3\" y=\"-95.8\" font-family=\"Times,serif\" font-style=\"italic\" font-size=\"14.00\">int</text>\n",
       "<text text-anchor=\"start\" x=\"469.08\" y=\"-95.8\" font-family=\"Times,serif\" font-size=\"14.00\"> </text>\n",
       "</g>\n",
       "<!-- Observations&#45;&gt;Before or After -->\n",
       "<g id=\"edge1\" class=\"edge\">\n",
       "<title>Observations-&gt;Before or After</title>\n",
       "<path fill=\"none\" stroke=\"black\" stroke-dasharray=\"5,2\" d=\"M205.39,-178.75C232.83,-172.49 262.59,-165.7 290.3,-159.38\"/>\n",
       "<polygon fill=\"black\" stroke=\"black\" points=\"291.43,-162.71 300.4,-157.08 289.88,-155.89 291.43,-162.71\"/>\n",
       "</g>\n",
       "</g>\n",
       "</svg>"
      ],
      "text/plain": [
       "<IPython.core.display.SVG object>"
      ]
     },
     "metadata": {},
     "output_type": "display_data"
    }
   ],
   "source": [
    "cube.create_parameter_hierarchy(\n",
    "    \"Before or After\", [\"Before\", \"After\"], index_measure=\"Before After Index\"\n",
    ")\n",
    "\n",
    "# Setting the Before and After to slicing to switch off\n",
    "# the aggregation between before and after measurements\n",
    "h[\"Before or After\"].slicing = True\n",
    "\n",
    "# Sorting the hierarchy, so that the Before measurements show first:\n",
    "l[\"Before or After\"].comparator = tt.comparator.DESC\n",
    "\n",
    "# Hiding the vector from the user interface:\n",
    "m[\"MemoryScoresVector.MEAN\"].visible = False\n",
    "\n",
    "# The new parameter hierarchy is visible in the cube schema:\n",
    "display(cube.schema)\n",
    "\n",
    "# This measure will display Memory Scores for the \"Before\" and \"After\" measurements:\n",
    "m['MemoryScores'] = m['MemoryScoresVector.MEAN'][m['Before After Index']]"
   ]
  },
  {
   "cell_type": "markdown",
   "metadata": {},
   "source": [
    "From the following visualization we can tell, that on average:\n",
    "-    for the Drug **\"T\"** memory scores **did not increase** in all age groups,\n",
    "-    for the Drug **\"A\"** memory scores **increased in both age groups**, with a bigger impact in group 25Y-50Y,\n",
    "-    for the Drug **\"S\"** the scores **fluctuated**, they slighly decreased and slighly increased in groups 25Y-50Y and 50Y+ accordingly."
   ]
  },
  {
   "cell_type": "code",
   "execution_count": 13,
   "metadata": {
    "atoti": {
     "state": {
      "name": "Average memory score by drug",
      "type": "container",
      "value": {
       "body": {
        "configuration": {
         "mapping": {
          "horizontalSubplots": [
           "[Hierarchies].[Drug].[Drug]"
          ],
          "splitBy": [
           "[Hierarchies].[Before or After].[Before or After]"
          ],
          "values": [
           "[Measures].[MemoryScores]"
          ],
          "verticalSubplots": [],
          "xAxis": [
           "[Hierarchies].[age group].[age group]"
          ]
         },
         "subplotModeEnabled": true,
         "switchedTo": "plotly-clustered-column-chart",
         "type": "plotly-line-chart"
        },
        "query": {
         "mdx": "SELECT NON EMPTY [Measures].[MemoryScores] ON COLUMNS, NON EMPTY Crossjoin([Hierarchies].[age group].[age group].Members, [Hierarchies].[Before or After].[Before or After].Members, [Hierarchies].[Drug].[Drug].Members) ON ROWS FROM [Observations] CELL PROPERTIES VALUE, FORMATTED_VALUE, BACK_COLOR, FORE_COLOR, FONT_FLAGS",
         "serverUrl": "",
         "updateMode": "once"
        }
       },
       "containerKey": "chart",
       "showTitleBar": false,
       "style": {}
      }
     }
    }
   },
   "outputs": [
    {
     "data": {
      "application/vnd.atoti.v0+json": {
       "cube": "Observations",
       "name": "Average memory score by drug",
       "session": "Unnamed"
      },
      "text/plain": [
       "Install and enable the atoti JupyterLab extension to see this widget."
      ]
     },
     "metadata": {},
     "output_type": "display_data"
    }
   ],
   "source": [
    "cube.visualize(\"Average memory score by drug\")"
   ]
  },
  {
   "cell_type": "markdown",
   "metadata": {},
   "source": [
    "# Slice-and-dice basic statistics"
   ]
  },
  {
   "cell_type": "code",
   "execution_count": 14,
   "metadata": {},
   "outputs": [],
   "source": [
    "m['Mean'] = tt.agg.mean(m['MemoryScores'], scope = tt.scope.origin(l['index']))\n",
    "m['Mean'] = tt.agg.mean(m['MemoryScores'], scope = tt.scope.origin(l['index']))\n",
    "m['Std'] = tt.agg.std(m['MemoryScores'], scope = tt.scope.origin(l['index']))\n",
    "m['Min'] = tt.agg.min(m['MemoryScores'], scope = tt.scope.origin(l['index']))\n",
    "m['Max'] = tt.agg.max(m['MemoryScores'], scope = tt.scope.origin(l['index']))\n",
    "m['25%'] =  tt.agg.quantile(m['MemoryScores'], 0.25, scope = tt.scope.origin(l['index']))\n",
    "m['50%'] =  tt.agg.quantile(m['MemoryScores'], 0.50, scope = tt.scope.origin(l['index']))\n",
    "m['75%'] =  tt.agg.quantile(m['MemoryScores'], 0.75, scope = tt.scope.origin(l['index']))"
   ]
  },
  {
   "cell_type": "markdown",
   "metadata": {},
   "source": [
    "We can now slice-and-dice those statistics using any attribute available in the data.\n",
    "\n",
    "This is an example, where the Happy or Sad field has been put onto the columns. Every time I bring an additional attribute into the view, the statistics - such averages, standard deviation and quantiles - are recomputed from the raw data."
   ]
  },
  {
   "cell_type": "code",
   "execution_count": 16,
   "metadata": {
    "atoti": {
     "state": {
      "name": "Basic statistics slice-and-dice",
      "type": "container",
      "value": {
       "body": {
        "configuration": {
         "tabular": {
          "addButtonFilter": "numeric",
          "cellRenderers": [
           "tree-layout"
          ],
          "columns": [
           {
            "key": "c-treeCells-member",
            "width": 127
           }
          ],
          "columnsGroups": [
           {
            "captionProducer": "firstColumn",
            "cellFactory": "kpi-status",
            "selector": "kpi-status"
           },
           {
            "captionProducer": "firstColumn",
            "cellFactory": "lookup",
            "selector": "lookup"
           },
           {
            "captionProducer": "expiry",
            "cellFactory": "expiry",
            "selector": "kpi-expiry"
           },
           {
            "captionProducer": "columnMerge",
            "cellFactory": {
             "args": {},
             "key": "treeCells"
            },
            "selector": "member"
           }
          ],
          "defaultOptions": {},
          "expansion": {
           "automaticExpansion": true
          },
          "hideAddButton": true,
          "pinnedHeaderSelector": "member",
          "sortingMode": "non-breaking",
          "statisticsShown": true
         }
        },
        "contextValues": {},
        "mdx": "SELECT NON EMPTY Crossjoin(Hierarchize([Hierarchies].[Before or After].[Before or After].Members), Hierarchize(DrilldownLevel([Hierarchies].[Happy_Sad_group].[ALL].[AllMember]))) ON COLUMNS, NON EMPTY {[Measures].[contributors.COUNT], [Measures].[Mean], [Measures].[Std], [Measures].[Min], [Measures].[25%], [Measures].[50%], [Measures].[75%], [Measures].[Max]} ON ROWS FROM [Observations] CELL PROPERTIES VALUE, FORMATTED_VALUE, BACK_COLOR, FORE_COLOR, FONT_FLAGS",
        "ranges": {
         "column": {
          "chunkSize": 50,
          "thresholdPercentage": 0.2
         },
         "row": {
          "chunkSize": 2000,
          "thresholdPercentage": 0.1
         }
        },
        "serverUrl": "",
        "updateMode": "once"
       },
       "containerKey": "pivot-table",
       "showTitleBar": false,
       "style": {}
      }
     }
    }
   },
   "outputs": [
    {
     "data": {
      "application/vnd.atoti.v0+json": {
       "cube": "Observations",
       "name": "Basic statistics slice-and-dice",
       "session": "Unnamed"
      },
      "text/plain": [
       "Install and enable the atoti JupyterLab extension to see this widget."
      ]
     },
     "metadata": {},
     "output_type": "display_data"
    }
   ],
   "source": [
    "cube.visualize(\"Basic statistics slice-and-dice\")"
   ]
  },
  {
   "cell_type": "markdown",
   "metadata": {},
   "source": [
    "# Interactive Z confidence interval"
   ]
  },
  {
   "cell_type": "code",
   "execution_count": 17,
   "metadata": {},
   "outputs": [],
   "source": [
    "alpha = 0.05\n",
    "\n",
    "m['95% point'] = norm.ppf(1 - alpha / 2.)\n",
    "m['Z confidence left'] = m['Mean'] - m['95% point'] * m['Std']\n",
    "m['Z confidence right'] = m['Mean'] + m['95% point'] * m['Std']"
   ]
  },
  {
   "cell_type": "markdown",
   "metadata": {},
   "source": [
    "We have just created the metrics to visualize confidence intervals interactively."
   ]
  },
  {
   "cell_type": "code",
   "execution_count": 19,
   "metadata": {
    "atoti": {
     "state": {
      "name": "Interactive confidence intervals",
      "type": "container",
      "value": {
       "body": {
        "configuration": {
         "tabular": {
          "addButtonFilter": "numeric",
          "cellRenderers": [
           "tree-layout"
          ],
          "columns": [],
          "columnsGroups": [
           {
            "captionProducer": "firstColumn",
            "cellFactory": "kpi-status",
            "selector": "kpi-status"
           },
           {
            "captionProducer": "firstColumn",
            "cellFactory": "lookup",
            "selector": "lookup"
           },
           {
            "captionProducer": "expiry",
            "cellFactory": "expiry",
            "selector": "kpi-expiry"
           },
           {
            "captionProducer": "columnMerge",
            "cellFactory": {
             "args": {},
             "key": "treeCells"
            },
            "selector": "member"
           }
          ],
          "defaultOptions": {
           "headerHeight": 51
          },
          "expansion": {
           "automaticExpansion": true
          },
          "hideAddButton": true,
          "pinnedHeaderSelector": "member",
          "sortingMode": "non-breaking",
          "statisticsShown": true
         }
        },
        "contextValues": {},
        "mdx": "SELECT NON EMPTY Crossjoin(Hierarchize([Hierarchies].[Before or After].[Before or After].Members), {[Measures].[Z confidence left], [Measures].[Z confidence right]}) ON COLUMNS, NON EMPTY Hierarchize(Union(Crossjoin(DrilldownLevel([Hierarchies].[Drug].[ALL].[AllMember]), [Hierarchies].[age group].DefaultMember), Crossjoin([Hierarchies].[Drug].[ALL].[AllMember].[A], [Hierarchies].[age group].[age group].Members))) ON ROWS FROM [Observations] CELL PROPERTIES VALUE, FORMATTED_VALUE, BACK_COLOR, FORE_COLOR, FONT_FLAGS",
        "ranges": {
         "column": {
          "chunkSize": 50,
          "thresholdPercentage": 0.2
         },
         "row": {
          "chunkSize": 2000,
          "thresholdPercentage": 0.1
         }
        },
        "serverUrl": "",
        "updateMode": "once"
       },
       "containerKey": "pivot-table",
       "showTitleBar": false,
       "style": {}
      }
     }
    }
   },
   "outputs": [
    {
     "data": {
      "application/vnd.atoti.v0+json": {
       "cube": "Observations",
       "name": "Interactive confidence intervals",
       "session": "Unnamed"
      },
      "text/plain": [
       "Install and enable the atoti JupyterLab extension to see this widget."
      ]
     },
     "metadata": {},
     "output_type": "display_data"
    }
   ],
   "source": [
    "cube.visualize(\"Interactive confidence intervals\")"
   ]
  },
  {
   "cell_type": "markdown",
   "metadata": {},
   "source": [
    "# Refining the application"
   ]
  },
  {
   "cell_type": "code",
   "execution_count": 21,
   "metadata": {},
   "outputs": [],
   "source": [
    "# This cell is hiding undesired default metrics.\n",
    "# To create a cube without any default metrics, create_cube need to be used with parameter mode = `no_measures`\n",
    "m['MemoryScoresVector.SUM'].visible = False\n",
    "m['Diff.SUM'].visible = False"
   ]
  },
  {
   "cell_type": "markdown",
   "metadata": {},
   "source": [
    "# Paired t-test\n",
    "\n",
    "Let's see how a paired t-test can be applied in atoti.\n",
    "\n",
    "A [paired t-test](https://en.wikipedia.org/wiki/Student%27s_t-test#Paired_samples) is a classical routine that can help testing a medication efficacy, given the before and after measurements. We will check that the data provides evidence that will allow us to reject the null hypothesis:\n",
    "\n",
    "- H0: on average, there's no difference in observations before and after, $\\mu_{diff}=0$\n",
    "- H1: on average, the score after is bigger than before, $\\mu_{diff}>0$"
   ]
  },
  {
   "cell_type": "markdown",
   "metadata": {},
   "source": [
    "To compute the t-statistic, we'd need mean, stdev and the number of observations. We do have a measure for mean - `Diff.MEAN` - and a measure for the number of observations - `contributors.COUNT`. Let's compute stdev."
   ]
  },
  {
   "cell_type": "code",
   "execution_count": 26,
   "metadata": {},
   "outputs": [],
   "source": [
    "# Measure displaying individual differences:\n",
    "m['Diff'] = tt.agg.single_value(observations_datastore['Diff'])"
   ]
  },
  {
   "cell_type": "code",
   "execution_count": 27,
   "metadata": {},
   "outputs": [],
   "source": [
    "# Computing standard deviation of differences.\n",
    "m['Diff.Std'] = tt.agg.std(m['Diff'], scope = tt.scope.origin(l['index']))"
   ]
  },
  {
   "cell_type": "code",
   "execution_count": 28,
   "metadata": {},
   "outputs": [],
   "source": [
    "m['t-statistic'] = m['Diff.MEAN']/(m['Diff.Std']/tt.sqrt(m['contributors.COUNT']))"
   ]
  },
  {
   "cell_type": "markdown",
   "metadata": {},
   "source": [
    "We will be comparing the `t-statistic` to the right tail _critical value_, and if it's above the critical value, we will conclude that the data provides the evidence to reject the null hypothesis. Let's load 95% critical value into the cube."
   ]
  },
  {
   "cell_type": "code",
   "execution_count": null,
   "metadata": {},
   "outputs": [],
   "source": [
    "# FIXME: tried tt.at to pick critical value \n",
    "\n",
    "# critical_values_datastore = session.read_pandas(\n",
    "#     pd.DataFrame(\n",
    "#         data={\n",
    "#             \"Experiment\": [\"Experiment\"]*df.shape[0],\n",
    "#             \"Degrees of freedom\": [d for d in range(1, df.shape[0] + 1)],\n",
    "#             \"critical value\": [t.ppf(0.95, d) for d in range(1, df.shape[0] + 1)]\n",
    "#         }\n",
    "#     ),\n",
    "#     store_name=\"CriticalValues\",\n",
    "# #     types = {\"Degrees of freedom\": tt.types.STRING},\n",
    "#     #     types = {\"Degrees of freedom\": tt.types.STRING},\n",
    "#     keys=[\"Experiment\", \"Degrees of freedom\"]\n",
    "# )\n",
    "\n",
    "# observations_datastore.join(critical_values_datastore, mapping = {\"Experiment\": \"Experiment\"})\n",
    "\n",
    "# h['Degrees of freedom'].slicing = True\n",
    "# m['test'] = tt.at(m['critical value.VALUE'], {l['Degrees of freedom']: 2})"
   ]
  },
  {
   "cell_type": "code",
   "execution_count": 29,
   "metadata": {},
   "outputs": [
    {
     "data": {
      "text/html": [
       "<div>\n",
       "<style scoped>\n",
       "    .dataframe tbody tr th:only-of-type {\n",
       "        vertical-align: middle;\n",
       "    }\n",
       "\n",
       "    .dataframe tbody tr th {\n",
       "        vertical-align: top;\n",
       "    }\n",
       "\n",
       "    .dataframe thead th {\n",
       "        text-align: right;\n",
       "    }\n",
       "</style>\n",
       "<table border=\"1\" class=\"dataframe\">\n",
       "  <thead>\n",
       "    <tr style=\"text-align: right;\">\n",
       "      <th></th>\n",
       "      <th>t-critical vector</th>\n",
       "    </tr>\n",
       "    <tr>\n",
       "      <th>Experiment</th>\n",
       "      <th></th>\n",
       "    </tr>\n",
       "  </thead>\n",
       "  <tbody>\n",
       "    <tr>\n",
       "      <th>Experiment</th>\n",
       "      <td>doubleVector[198]{6.314, ...}</td>\n",
       "    </tr>\n",
       "  </tbody>\n",
       "</table>\n",
       "</div>"
      ],
      "text/plain": [
       "                        t-critical vector\n",
       "Experiment                               \n",
       "Experiment  doubleVector[198]{6.314, ...}"
      ]
     },
     "execution_count": 29,
     "metadata": {},
     "output_type": "execute_result"
    }
   ],
   "source": [
    "t_critical_values_datastore = session.read_pandas(\n",
    "    pd.DataFrame(\n",
    "        data={\n",
    "            \"Experiment\": [\"Experiment\"],\n",
    "            \"t-critical vector\": \";\".join([\"{:.3f}\".format(t.ppf(0.95, d)) for d in range(1, df.shape[0] + 1)])\n",
    "        }\n",
    "    ),\n",
    "    store_name=\"TCriticalValues\",\n",
    "    keys=[\"Experiment\"],\n",
    "    array_sep=\";\",\n",
    ")\n",
    "t_critical_values_datastore.head(3)"
   ]
  },
  {
   "cell_type": "code",
   "execution_count": 30,
   "metadata": {},
   "outputs": [],
   "source": [
    "observations_datastore.join(t_critical_values_datastore, mapping = {\"Experiment\": \"Experiment\"})"
   ]
  },
  {
   "cell_type": "markdown",
   "metadata": {},
   "source": [
    "Now, depending on the number of observations for each cell, we can pick a critical value using the following syntax:"
   ]
  },
  {
   "cell_type": "code",
   "execution_count": 31,
   "metadata": {},
   "outputs": [],
   "source": [
    "# FIXME: m['T Critical Value'] = m['t-critical vector.VALUE'][tt.round(m['contributors.COUNT'])]\n",
    "# - giving this exception: UnsupportedOperationException: Cannot read 'int' value from an instance of ArrayChunkLongNullable\n",
    "m[\"t-critical value\"] = m[\"t-critical vector.VALUE\"][50]"
   ]
  },
  {
   "cell_type": "code",
   "execution_count": 32,
   "metadata": {},
   "outputs": [],
   "source": [
    "# FIXME: m['Test Result'] = tt.where(m[\"t-statistic\"]>=m['T Critical Value'], \"H0 rejected\", \"Can't reject H0\")\n",
    "# - returns nothing.\n",
    "m[\"Test Result\"] = m[\"t-statistic\"] > m[\"t-critical value\"]"
   ]
  },
  {
   "cell_type": "markdown",
   "metadata": {},
   "source": [
    "The `Test Result` metric is visualizing the result of t-test every time we expand and collapse data."
   ]
  },
  {
   "cell_type": "code",
   "execution_count": 34,
   "metadata": {
    "atoti": {
     "state": {
      "name": "",
      "type": "container",
      "value": {
       "body": {
        "configuration": {
         "tabular": {
          "addButtonFilter": "numeric",
          "cellRenderers": [
           "tree-layout"
          ],
          "columnsGroups": [
           {
            "captionProducer": "firstColumn",
            "cellFactory": "kpi-status",
            "selector": "kpi-status"
           },
           {
            "captionProducer": "firstColumn",
            "cellFactory": "lookup",
            "selector": "lookup"
           },
           {
            "captionProducer": "expiry",
            "cellFactory": "expiry",
            "selector": "kpi-expiry"
           },
           {
            "captionProducer": "columnMerge",
            "cellFactory": {
             "args": {},
             "key": "treeCells"
            },
            "selector": "member"
           }
          ],
          "defaultOptions": {},
          "expansion": {
           "automaticExpansion": true
          },
          "hideAddButton": true,
          "pinnedHeaderSelector": "member",
          "sortingMode": "non-breaking",
          "statisticsShown": true
         }
        },
        "contextValues": {},
        "mdx": "SELECT NON EMPTY {[Measures].[contributors.COUNT], [Measures].[Test Result], [Measures].[t-critical value], [Measures].[t-statistic]} ON COLUMNS, NON EMPTY Hierarchize(DrilldownLevel([Hierarchies].[Drug].[ALL].[AllMember])) ON ROWS FROM [Observations] CELL PROPERTIES VALUE, FORMATTED_VALUE, BACK_COLOR, FORE_COLOR, FONT_FLAGS",
        "ranges": {
         "column": {
          "chunkSize": 50,
          "thresholdPercentage": 0.2
         },
         "row": {
          "chunkSize": 2000,
          "thresholdPercentage": 0.1
         }
        },
        "serverUrl": "",
        "updateMode": "once"
       },
       "containerKey": "pivot-table",
       "showTitleBar": false,
       "style": {}
      }
     }
    }
   },
   "outputs": [
    {
     "data": {
      "application/vnd.atoti.v0+json": {
       "cube": "Observations",
       "name": null,
       "session": "Unnamed"
      },
      "text/plain": [
       "Install and enable the atoti JupyterLab extension to see this widget."
      ]
     },
     "metadata": {},
     "output_type": "display_data"
    }
   ],
   "source": [
    "cube.visualize()"
   ]
  },
  {
   "cell_type": "markdown",
   "metadata": {},
   "source": [
    "# Seaborn charts for distribution analysis"
   ]
  },
  {
   "cell_type": "code",
   "execution_count": 36,
   "metadata": {},
   "outputs": [],
   "source": [
    "import seaborn as sns\n",
    "import matplotlib.pyplot as plt\n",
    "sns.set(style=\"ticks\", color_codes=True)"
   ]
  },
  {
   "cell_type": "code",
   "execution_count": 38,
   "metadata": {},
   "outputs": [
    {
     "data": {
      "text/html": [
       "<div>\n",
       "<style scoped>\n",
       "    .dataframe tbody tr th:only-of-type {\n",
       "        vertical-align: middle;\n",
       "    }\n",
       "\n",
       "    .dataframe tbody tr th {\n",
       "        vertical-align: top;\n",
       "    }\n",
       "\n",
       "    .dataframe thead th {\n",
       "        text-align: right;\n",
       "    }\n",
       "</style>\n",
       "<table border=\"1\" class=\"dataframe\">\n",
       "  <thead>\n",
       "    <tr style=\"text-align: right;\">\n",
       "      <th></th>\n",
       "      <th>index</th>\n",
       "      <th>Drug</th>\n",
       "      <th>Diff.MEAN</th>\n",
       "    </tr>\n",
       "  </thead>\n",
       "  <tbody>\n",
       "    <tr>\n",
       "      <th>0</th>\n",
       "      <td>0</td>\n",
       "      <td>A</td>\n",
       "      <td>-2.3</td>\n",
       "    </tr>\n",
       "    <tr>\n",
       "      <th>1</th>\n",
       "      <td>1</td>\n",
       "      <td>A</td>\n",
       "      <td>-0.9</td>\n",
       "    </tr>\n",
       "    <tr>\n",
       "      <th>2</th>\n",
       "      <td>2</td>\n",
       "      <td>A</td>\n",
       "      <td>-4.6</td>\n",
       "    </tr>\n",
       "  </tbody>\n",
       "</table>\n",
       "</div>"
      ],
      "text/plain": [
       "  index Drug  Diff.MEAN\n",
       "0     0    A       -2.3\n",
       "1     1    A       -0.9\n",
       "2     2    A       -4.6"
      ]
     },
     "metadata": {},
     "output_type": "display_data"
    },
    {
     "data": {
      "image/png": "[encoded data removed]",
      "text/plain": [
       "<Figure size 360x360 with 1 Axes>"
      ]
     },
     "metadata": {},
     "output_type": "display_data"
    }
   ],
   "source": [
    "# Boxplot - memory score effect by drug\n",
    "d = cube.query(m['Diff.MEAN'], levels = [l['index'], l['Drug']]).reset_index()\n",
    "display(d.head(3))\n",
    "sns.catplot(x=\"Drug\", y=\"Diff.MEAN\", kind=\"box\", data=d);"
   ]
  },
  {
   "cell_type": "code",
   "execution_count": 39,
   "metadata": {},
   "outputs": [
    {
     "data": {
      "text/html": [
       "<div>\n",
       "<style scoped>\n",
       "    .dataframe tbody tr th:only-of-type {\n",
       "        vertical-align: middle;\n",
       "    }\n",
       "\n",
       "    .dataframe tbody tr th {\n",
       "        vertical-align: top;\n",
       "    }\n",
       "\n",
       "    .dataframe thead th {\n",
       "        text-align: right;\n",
       "    }\n",
       "</style>\n",
       "<table border=\"1\" class=\"dataframe\">\n",
       "  <thead>\n",
       "    <tr style=\"text-align: right;\">\n",
       "      <th></th>\n",
       "      <th>index</th>\n",
       "      <th>Drug</th>\n",
       "      <th>Happy_Sad_group</th>\n",
       "      <th>Diff.MEAN</th>\n",
       "    </tr>\n",
       "  </thead>\n",
       "  <tbody>\n",
       "    <tr>\n",
       "      <th>0</th>\n",
       "      <td>0</td>\n",
       "      <td>A</td>\n",
       "      <td>H</td>\n",
       "      <td>-2.3</td>\n",
       "    </tr>\n",
       "    <tr>\n",
       "      <th>1</th>\n",
       "      <td>1</td>\n",
       "      <td>A</td>\n",
       "      <td>S</td>\n",
       "      <td>-0.9</td>\n",
       "    </tr>\n",
       "    <tr>\n",
       "      <th>2</th>\n",
       "      <td>2</td>\n",
       "      <td>A</td>\n",
       "      <td>H</td>\n",
       "      <td>-4.6</td>\n",
       "    </tr>\n",
       "  </tbody>\n",
       "</table>\n",
       "</div>"
      ],
      "text/plain": [
       "  index Drug Happy_Sad_group  Diff.MEAN\n",
       "0     0    A               H       -2.3\n",
       "1     1    A               S       -0.9\n",
       "2     2    A               H       -4.6"
      ]
     },
     "metadata": {},
     "output_type": "display_data"
    },
    {
     "data": {
      "image/png": "[encoded data removed]",
      "text/plain": [
       "<Figure size 468.425x360 with 1 Axes>"
      ]
     },
     "metadata": {},
     "output_type": "display_data"
    }
   ],
   "source": [
    "# Boxplot - memory score effect by drug and Happy_Sad_group\n",
    "d = cube.query(m['Diff.MEAN'], levels = [l['index'], l['Drug'], l['Happy_Sad_group']]).reset_index()\n",
    "display(d.head(3))\n",
    "sns.catplot(x=\"Drug\", y=\"Diff.MEAN\", hue = \"Happy_Sad_group\", kind=\"box\", data=d);"
   ]
  },
  {
   "cell_type": "code",
   "execution_count": 40,
   "metadata": {},
   "outputs": [
    {
     "data": {
      "text/plain": [
       "<matplotlib.legend.Legend at 0x1257464c0>"
      ]
     },
     "execution_count": 40,
     "metadata": {},
     "output_type": "execute_result"
    },
    {
     "data": {
      "image/png": "[encoded data removed]",
      "text/plain": [
       "<Figure size 432x288 with 1 Axes>"
      ]
     },
     "metadata": {},
     "output_type": "display_data"
    }
   ],
   "source": [
    "# Drug A before and after empirical distribution histogram\n",
    "\n",
    "sns.distplot(\n",
    "    cube.query(\n",
    "        m[\"MemoryScores\"],\n",
    "        levels=[l[\"index\"]],\n",
    "        condition=(l[\"Drug\"] == \"A\") & (l[\"Before or After\"] == \"Before\"),\n",
    "    )[\"MemoryScores\"],\n",
    "    label=\"Before\",\n",
    ")\n",
    "sns.distplot(\n",
    "    cube.query(\n",
    "        m[\"MemoryScores\"],\n",
    "        levels=[l[\"index\"]],\n",
    "        condition=(l[\"Drug\"] == \"A\") & (l[\"Before or After\"] == \"After\"),\n",
    "    )[\"MemoryScores\"],\n",
    "    label=\"After\",\n",
    ")\n",
    "plt.legend()"
   ]
  }
 ],
 "metadata": {
  "kernelspec": {
   "display_name": "Python 3",
   "language": "python",
   "name": "python3"
  },
  "language_info": {
   "codemirror_mode": {
    "name": "ipython",
    "version": 3
   },
   "file_extension": ".py",
   "mimetype": "text/x-python",
   "name": "python",
   "nbconvert_exporter": "python",
   "pygments_lexer": "ipython3",
   "version": "3.8.3"
  }
 },
 "nbformat": 4,
 "nbformat_minor": 4
}
