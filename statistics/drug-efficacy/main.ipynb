{
 "cells": [
  {
   "cell_type": "markdown",
   "metadata": {},
   "source": [
    "# Interactive hypothesis testing\n",
    "\n",
    "If you need to test a hypothesis interactively along multiple dimensions or their combinations, check out the example below that demonstrates how this can be achieved with [atoti](https://docs.atoti.io).\n",
    "\n",
    "atoti provides a python interface to define custom aggregation functions - we will look at an example on implementing a [paired t-test](https://en.wikipedia.org/wiki/Student's_t-test#Paired_samples) as an aggregation function. Plus, it provides an interface to create dashboards that can be shared with team members.\n",
    "\n",
    "<img src=\"./app-preview.gif\" alt=\"Interactive app preview\" width=\"70%\" style=\"display:block;margin-left: auto;margin-right: auto;\">"
   ]
  },
  {
   "cell_type": "markdown",
   "metadata": {},
   "source": [
    "In this notebook we will be studying the impact of certain anti-anxiety medicine as well as a person’s mood on **memory recall ability** - based on a dataset from a kaggle user submission - [Islanders data](https://www.kaggle.com/steveahn/memory-test-on-drugged-islanders-data): \n",
    "\n",
    "- Dataset contains observations on treatment with Alprazolam and Triazolam, as well as Sugar (in the control group) - see column **Drug** below,\n",
    "- Trials has been collected for different dosages - see column **Dosage**\n",
    "- Participants were primed with happy and sad memories ten minutes before the memory test - see column **Happy_Sad_group** as it is believed that a person's mood may impact memory recall.\n",
    "- Memory scores represent response time, i.e. how long it takes to finish the memory test. Higher Memory scores means the ability actually reduces\n",
    "\n",
    "We will implement measures that evaluate the effect of drugs onto memory recall and visualize the result returning \"H0 rejected\" if data provides evidence that the average response time increases after the treatment. "
   ]
  },
  {
   "cell_type": "markdown",
   "metadata": {},
   "source": [
    "# Imports"
   ]
  },
  {
   "cell_type": "code",
   "execution_count": 1,
   "metadata": {},
   "outputs": [],
   "source": [
    "# uncomment this to install scipy\n",
    "# !pip install scipy"
   ]
  },
  {
   "cell_type": "code",
   "execution_count": 2,
   "metadata": {},
   "outputs": [],
   "source": [
    "import pandas as pd\n",
    "from scipy.stats import norm, t"
   ]
  },
  {
   "cell_type": "code",
   "execution_count": 3,
   "metadata": {},
   "outputs": [
    {
     "name": "stdout",
     "output_type": "stream",
     "text": [
      "Welcome to atoti 0.4.3.20200731141215!\n",
      "\n",
      "By using this community edition, you agree with the license available at https://www.atoti.io/eula.\n",
      "Browse the official documentation at https://docs.atoti.io.\n",
      "Join the community at https://www.atoti.io/register.\n",
      "\n",
      "You can hide this message by setting the ATOTI_HIDE_EULA_MESSAGE environment variable to True.\n"
     ]
    }
   ],
   "source": [
    "import atoti as tt"
   ]
  },
  {
   "cell_type": "markdown",
   "metadata": {},
   "source": [
    "## Raw data"
   ]
  },
  {
   "cell_type": "code",
   "execution_count": 4,
   "metadata": {},
   "outputs": [
    {
     "data": {
      "text/html": [
       "<div>\n",
       "<style scoped>\n",
       "    .dataframe tbody tr th:only-of-type {\n",
       "        vertical-align: middle;\n",
       "    }\n",
       "\n",
       "    .dataframe tbody tr th {\n",
       "        vertical-align: top;\n",
       "    }\n",
       "\n",
       "    .dataframe thead th {\n",
       "        text-align: right;\n",
       "    }\n",
       "</style>\n",
       "<table border=\"1\" class=\"dataframe\">\n",
       "  <thead>\n",
       "    <tr style=\"text-align: right;\">\n",
       "      <th></th>\n",
       "      <th>Patient_Id</th>\n",
       "      <th>first_name</th>\n",
       "      <th>last_name</th>\n",
       "      <th>age</th>\n",
       "      <th>Happy_Sad_group</th>\n",
       "      <th>Dosage</th>\n",
       "      <th>Drug</th>\n",
       "      <th>Before or After</th>\n",
       "      <th>MemoryScores</th>\n",
       "    </tr>\n",
       "  </thead>\n",
       "  <tbody>\n",
       "    <tr>\n",
       "      <th>395</th>\n",
       "      <td>Patient_197</td>\n",
       "      <td>Chloe</td>\n",
       "      <td>Takahashi</td>\n",
       "      <td>32</td>\n",
       "      <td>Sad</td>\n",
       "      <td>3</td>\n",
       "      <td>Triazolam</td>\n",
       "      <td>After</td>\n",
       "      <td>42.1</td>\n",
       "    </tr>\n",
       "    <tr>\n",
       "      <th>3</th>\n",
       "      <td>Patient_3</td>\n",
       "      <td>Holly</td>\n",
       "      <td>Carrasco</td>\n",
       "      <td>50</td>\n",
       "      <td>Sad</td>\n",
       "      <td>1</td>\n",
       "      <td>Alprazolam</td>\n",
       "      <td>Before</td>\n",
       "      <td>51.7</td>\n",
       "    </tr>\n",
       "    <tr>\n",
       "      <th>249</th>\n",
       "      <td>Patient_51</td>\n",
       "      <td>Hina</td>\n",
       "      <td>Durand</td>\n",
       "      <td>43</td>\n",
       "      <td>Happy</td>\n",
       "      <td>3</td>\n",
       "      <td>Alprazolam</td>\n",
       "      <td>After</td>\n",
       "      <td>69.2</td>\n",
       "    </tr>\n",
       "    <tr>\n",
       "      <th>177</th>\n",
       "      <td>Patient_177</td>\n",
       "      <td>Amy</td>\n",
       "      <td>Carrasco</td>\n",
       "      <td>38</td>\n",
       "      <td>Happy</td>\n",
       "      <td>3</td>\n",
       "      <td>Triazolam</td>\n",
       "      <td>Before</td>\n",
       "      <td>44.9</td>\n",
       "    </tr>\n",
       "    <tr>\n",
       "      <th>8</th>\n",
       "      <td>Patient_8</td>\n",
       "      <td>Josefa</td>\n",
       "      <td>Durand</td>\n",
       "      <td>29</td>\n",
       "      <td>Happy</td>\n",
       "      <td>1</td>\n",
       "      <td>Alprazolam</td>\n",
       "      <td>Before</td>\n",
       "      <td>56.2</td>\n",
       "    </tr>\n",
       "  </tbody>\n",
       "</table>\n",
       "</div>"
      ],
      "text/plain": [
       "      Patient_Id first_name  last_name  age Happy_Sad_group  Dosage  \\\n",
       "395  Patient_197      Chloe  Takahashi   32             Sad       3   \n",
       "3      Patient_3      Holly   Carrasco   50             Sad       1   \n",
       "249   Patient_51       Hina     Durand   43           Happy       3   \n",
       "177  Patient_177        Amy   Carrasco   38           Happy       3   \n",
       "8      Patient_8     Josefa     Durand   29           Happy       1   \n",
       "\n",
       "           Drug Before or After  MemoryScores  \n",
       "395   Triazolam           After          42.1  \n",
       "3    Alprazolam          Before          51.7  \n",
       "249  Alprazolam           After          69.2  \n",
       "177   Triazolam          Before          44.9  \n",
       "8    Alprazolam          Before          56.2  "
      ]
     },
     "execution_count": 4,
     "metadata": {},
     "output_type": "execute_result"
    }
   ],
   "source": [
    "# Example data is taken from kaggle user submission:\n",
    "# https://www.kaggle.com/steveahn/memory-test-on-drugged-islanders-data\n",
    "# The example was slightly pre-processed for convenience.\n",
    "df = pd.read_csv(\"https://data.atoti.io/notebooks/drug-efficacy/Islander_data.csv\")\n",
    "df.sample(5)"
   ]
  },
  {
   "cell_type": "markdown",
   "metadata": {},
   "source": [
    "## Launching atoti app"
   ]
  },
  {
   "cell_type": "code",
   "execution_count": 5,
   "metadata": {},
   "outputs": [],
   "source": [
    "# creating a session - it spins up an in-memory database - similar to Apache Spark - ready to slice’n’dice your big data set.\n",
    "# In addition to that, it launches a dashboarding Tableau-like web-app\n",
    "from atoti.config import create_config\n",
    "\n",
    "config = create_config(metadata_db=\"./metadata.db\")\n",
    "session = tt.create_session(config=config)\n",
    "\n",
    "# loading initial dataset\n",
    "observations_datastore = session.read_pandas(\n",
    "    df, keys=[\"Patient_Id\", \"Before or After\"], store_name=\"Observations\"\n",
    ")\n",
    "\n",
    "# creating a cube -\n",
    "cube = session.create_cube(observations_datastore)"
   ]
  },
  {
   "cell_type": "markdown",
   "metadata": {},
   "source": [
    "## URL of atoti app\n",
    "\n",
    "The following cell displays URL of the atoti app:"
   ]
  },
  {
   "cell_type": "code",
   "execution_count": 6,
   "metadata": {},
   "outputs": [
    {
     "data": {
      "text/plain": [
       "'http://localhost:51865'"
      ]
     },
     "execution_count": 6,
     "metadata": {},
     "output_type": "execute_result"
    }
   ],
   "source": [
    "session.url"
   ]
  },
  {
   "cell_type": "markdown",
   "metadata": {},
   "source": [
    "# Inline data visualization\n",
    "\n",
    "By running the next cell, we embed a data visualization widget - to slice and dice data inside the notebook."
   ]
  },
  {
   "cell_type": "code",
   "execution_count": 8,
   "metadata": {
    "atoti": {
     "height": 249,
     "state": {
      "name": "",
      "type": "container",
      "value": {
       "body": {
        "configuration": {
         "tabular": {
          "addButtonFilter": "numeric",
          "cellRenderers": [
           "tree-layout"
          ],
          "columns": [
           {
            "key": "([Measures].[MemoryScores.MEAN],[Hierarchies].[Before or After].[ALL].[AllMember].[After])",
            "width": 138
           }
          ],
          "columnsGroups": [
           {
            "captionProducer": "firstColumn",
            "cellFactory": "kpi-status",
            "selector": "kpi-status"
           },
           {
            "captionProducer": "firstColumn",
            "cellFactory": "lookup",
            "selector": "lookup"
           },
           {
            "captionProducer": "expiry",
            "cellFactory": "expiry",
            "selector": "kpi-expiry"
           },
           {
            "captionProducer": "columnMerge",
            "cellFactory": {
             "args": {},
             "key": "treeCells"
            },
            "selector": "member"
           }
          ],
          "defaultOptions": {
           "headerHeight": 44
          },
          "expansion": {
           "automaticExpansion": true
          },
          "hideAddButton": true,
          "pinnedHeaderSelector": "member",
          "sortingMode": "non-breaking",
          "statisticsShown": true
         }
        },
        "contextValues": {},
        "mdx": "SELECT NON EMPTY Hierarchize(DrilldownLevel([Hierarchies].[Drug].[ALL].[AllMember])) ON ROWS, NON EMPTY Crossjoin([Measures].[MemoryScores.MEAN], Hierarchize(DrilldownLevel([Hierarchies].[Before or After].[ALL].[AllMember]))) ON COLUMNS FROM [Observations] CELL PROPERTIES VALUE, FORMATTED_VALUE, BACK_COLOR, FORE_COLOR, FONT_FLAGS",
        "ranges": {
         "column": {
          "chunkSize": 50,
          "thresholdPercentage": 0.2
         },
         "row": {
          "chunkSize": 2000,
          "thresholdPercentage": 0.1
         }
        },
        "serverUrl": "",
        "updateMode": "once"
       },
       "containerKey": "pivot-table",
       "showTitleBar": false,
       "style": {}
      }
     }
    }
   },
   "outputs": [
    {
     "data": {
      "application/vnd.atoti.v0+json": {
       "cube": "Observations",
       "name": null,
       "session": "Unnamed"
      },
      "text/plain": [
       "Install and enable the atoti JupyterLab extension to see this widget."
      ]
     },
     "metadata": {},
     "output_type": "display_data"
    }
   ],
   "source": [
    "cube.visualize()"
   ]
  },
  {
   "cell_type": "markdown",
   "metadata": {},
   "source": [
    "# Refining the application"
   ]
  },
  {
   "cell_type": "code",
   "execution_count": 8,
   "metadata": {},
   "outputs": [
    {
     "data": {
      "application/json": {
       "Dimensions": {
        "Hierarchies": {
         "Before or After": [
          "Before or After"
         ],
         "Dosage": [
          "Dosage"
         ],
         "Drug": [
          "Drug"
         ],
         "Happy_Sad_group": [
          "Happy_Sad_group"
         ],
         "Patient_Id": [
          "Patient_Id"
         ],
         "age": [
          "age"
         ],
         "first_name": [
          "first_name"
         ],
         "last_name": [
          "last_name"
         ]
        }
       },
       "Measures": {
        "MemoryScores.MEAN": {
         "formatter": "DOUBLE[#,###.00]",
         "visible": true
        },
        "MemoryScores.SUM": {
         "formatter": "DOUBLE[#,###.00]",
         "visible": true
        },
        "contributors.COUNT": {
         "formatter": null,
         "visible": true
        }
       }
      },
      "text/html": [
       "<ul>\n",
       "<li>Observations\n",
       "  <ul>\n",
       "  <li>Dimensions\n",
       "    <ul>\n",
       "    <li>Hierarchies\n",
       "      <ul>\n",
       "      <li>Before or After\n",
       "        <ol>\n",
       "        <li>Before or After</li>\n",
       "        </ol>      </li>\n",
       "      <li>Dosage\n",
       "        <ol>\n",
       "        <li>Dosage</li>\n",
       "        </ol>      </li>\n",
       "      <li>Drug\n",
       "        <ol>\n",
       "        <li>Drug</li>\n",
       "        </ol>      </li>\n",
       "      <li>Happy_Sad_group\n",
       "        <ol>\n",
       "        <li>Happy_Sad_group</li>\n",
       "        </ol>      </li>\n",
       "      <li>Patient_Id\n",
       "        <ol>\n",
       "        <li>Patient_Id</li>\n",
       "        </ol>      </li>\n",
       "      <li>age\n",
       "        <ol>\n",
       "        <li>age</li>\n",
       "        </ol>      </li>\n",
       "      <li>first_name\n",
       "        <ol>\n",
       "        <li>first_name</li>\n",
       "        </ol>      </li>\n",
       "      <li>last_name\n",
       "        <ol>\n",
       "        <li>last_name</li>\n",
       "        </ol>      </li>\n",
       "      </ul>\n",
       "    </li>\n",
       "    </ul>\n",
       "  </li>\n",
       "  <li>Measures\n",
       "    <ul>\n",
       "    <li>MemoryScores.MEAN\n",
       "      <ul>\n",
       "      <li>formatter: DOUBLE[#,###.00]</li>\n",
       "      <li>visible: True</li>\n",
       "      </ul>\n",
       "    </li>\n",
       "    <li>MemoryScores.SUM\n",
       "      <ul>\n",
       "      <li>formatter: DOUBLE[#,###.00]</li>\n",
       "      <li>visible: True</li>\n",
       "      </ul>\n",
       "    </li>\n",
       "    <li>contributors.COUNT\n",
       "      <ul>\n",
       "      <li>formatter: None</li>\n",
       "      <li>visible: True</li>\n",
       "      </ul>\n",
       "    </li>\n",
       "    </ul>\n",
       "  </li>\n",
       "  </ul>\n",
       "</li>\n",
       "</ul>\n"
      ],
      "text/plain": [
       "<atoti.cube.Cube at 0x1876e918c40>"
      ]
     },
     "execution_count": 8,
     "metadata": {
      "application/json": {
       "expanded": false,
       "root": "Observations"
      }
     },
     "output_type": "execute_result"
    }
   ],
   "source": [
    "# Quick access to manage hierarchies, levels and measures\n",
    "h = cube.hierarchies\n",
    "l = cube.levels\n",
    "m = cube.measures\n",
    "\n",
    "# Explore the hierarchies and measures created in the cube\n",
    "cube"
   ]
  },
  {
   "cell_type": "code",
   "execution_count": 9,
   "metadata": {},
   "outputs": [],
   "source": [
    "# Sorting the hierarchy, so that the Before measurements show first:\n",
    "l[\"Before or After\"].comparator = tt.comparator.DESC\n",
    "\n",
    "# This cell is hiding undesired metrics created by default.\n",
    "# To create a cube without any default metrics, create_cube need to be used with parameter mode = `no_measures`\n",
    "m[\"MemoryScores.SUM\"].visible = False"
   ]
  },
  {
   "cell_type": "markdown",
   "metadata": {},
   "source": [
    "# Adding attributes\n",
    "\n",
    "We are going to group the observations by age. To achieve that, let's create and upload a **age to group mapping** into a separate data store:"
   ]
  },
  {
   "cell_type": "code",
   "execution_count": 10,
   "metadata": {},
   "outputs": [],
   "source": [
    "age_groups_store = session.read_pandas(\n",
    "    pd.DataFrame(\n",
    "        data=[(\"0-25Y\", i) for i in range(25)]\n",
    "        + [(\"25Y - 40Y\", i) for i in range(25, 40)]\n",
    "        + [(\"40Y - 55Y\", i) for i in range(40, 55)]\n",
    "        + [(\"55Y+\", i) for i in range(55, 100)],\n",
    "        columns=[\"age group\", \"age\"],\n",
    "    ),\n",
    "    keys=[\"age\"],\n",
    "    store_name=\"Age Groups\",\n",
    ")\n",
    "\n",
    "observations_datastore.join(age_groups_store)"
   ]
  },
  {
   "cell_type": "markdown",
   "metadata": {},
   "source": [
    "We will start using this grouping in the following cell."
   ]
  },
  {
   "cell_type": "code",
   "execution_count": 12,
   "metadata": {
    "atoti": {
     "height": 225,
     "state": {
      "name": "",
      "type": "container",
      "value": {
       "body": {
        "configuration": {
         "tabular": {
          "addButtonFilter": "numeric",
          "cellRenderers": [
           "tree-layout"
          ],
          "columns": [
           {
            "key": "[Measures].[Mem_Score_After.SUM]",
            "width": 210
           },
           {
            "key": "[Measures].[Mem_Score_Before.MEAN]",
            "width": 222
           },
           {
            "key": "[Measures].[MemoryScores.MEAN]",
            "width": 190
           }
          ],
          "columnsGroups": [
           {
            "captionProducer": "firstColumn",
            "cellFactory": "kpi-status",
            "selector": "kpi-status"
           },
           {
            "captionProducer": "firstColumn",
            "cellFactory": "lookup",
            "selector": "lookup"
           },
           {
            "captionProducer": "expiry",
            "cellFactory": "expiry",
            "selector": "kpi-expiry"
           },
           {
            "captionProducer": "columnMerge",
            "cellFactory": {
             "args": {},
             "key": "treeCells"
            },
            "selector": "member"
           }
          ],
          "defaultOptions": {},
          "expansion": {
           "automaticExpansion": true
          },
          "hideAddButton": true,
          "pinnedHeaderSelector": "member",
          "sortingMode": "non-breaking",
          "statisticsShown": true
         }
        },
        "contextValues": {},
        "mdx": "SELECT NON EMPTY Hierarchize(DrilldownLevel([Hierarchies].[age group].[ALL].[AllMember])) ON ROWS, NON EMPTY [Measures].[MemoryScores.MEAN] ON COLUMNS FROM [Observations] CELL PROPERTIES VALUE, FORMATTED_VALUE, BACK_COLOR, FORE_COLOR, FONT_FLAGS",
        "ranges": {
         "column": {
          "chunkSize": 50,
          "thresholdPercentage": 0.2
         },
         "row": {
          "chunkSize": 2000,
          "thresholdPercentage": 0.1
         }
        },
        "serverUrl": "",
        "updateMode": "once"
       },
       "containerKey": "pivot-table",
       "showTitleBar": false,
       "style": {}
      }
     }
    }
   },
   "outputs": [
    {
     "data": {
      "application/vnd.atoti.v0+json": {
       "cube": "Observations",
       "name": null,
       "session": "Unnamed"
      },
      "text/plain": [
       "Install and enable the atoti JupyterLab extension to see this widget."
      ]
     },
     "metadata": {},
     "output_type": "display_data"
    }
   ],
   "source": [
    "cube.visualize()"
   ]
  },
  {
   "cell_type": "code",
   "execution_count": 13,
   "metadata": {},
   "outputs": [
    {
     "data": {
      "image/svg+xml": [
       "<svg xmlns=\"http://www.w3.org/2000/svg\" xmlns:xlink=\"http://www.w3.org/1999/xlink\" width=\"442px\" height=\"386px\" viewBox=\"0.00 0.00 442.00 386.00\">\n",
       "<g id=\"graph0\" class=\"graph\" transform=\"scale(1.0 1.0) rotate(0) translate(4 382)\">\n",
       "<title>Observations schema</title>\n",
       "<polygon fill=\"white\" stroke=\"none\" points=\"-4,4 -4,-382 438,-382 438,4 -4,4\"/>\n",
       "<!-- Observations -->\n",
       "<g id=\"node1\" class=\"node\"><title>Observations</title>\n",
       "<polygon fill=\"none\" stroke=\"black\" points=\"8,-337 8,-374 192,-374 192,-337 8,-337\"/>\n",
       "<text text-anchor=\"start\" x=\"59\" y=\"-352.8\" font-family=\"Times New Roman,serif\" font-weight=\"bold\" font-size=\"14.00\">Observations</text>\n",
       "<polygon fill=\"none\" stroke=\"black\" points=\"8,-300 8,-337 192,-337 192,-300 8,-300\"/>\n",
       "<text text-anchor=\"start\" x=\"19\" y=\"-315.8\" font-family=\"Times New Roman,serif\" font-weight=\"bold\" font-size=\"14.00\">Key</text>\n",
       "<text text-anchor=\"start\" x=\"44\" y=\"-315.8\" font-family=\"Times New Roman,serif\" font-size=\"14.00\">  Patient_Id </text>\n",
       "<text text-anchor=\"start\" x=\"113\" y=\"-315.8\" font-family=\"Times New Roman,serif\" font-style=\"italic\" font-size=\"14.00\">String</text>\n",
       "<text text-anchor=\"start\" x=\"149\" y=\"-315.8\" font-family=\"Times New Roman,serif\" font-size=\"14.00\"> </text>\n",
       "<polygon fill=\"none\" stroke=\"black\" points=\"8,-263 8,-300 192,-300 192,-263 8,-263\"/>\n",
       "<text text-anchor=\"start\" x=\"19\" y=\"-278.8\" font-family=\"Times New Roman,serif\" font-weight=\"bold\" font-size=\"14.00\">Key</text>\n",
       "<text text-anchor=\"start\" x=\"44\" y=\"-278.8\" font-family=\"Times New Roman,serif\" font-size=\"14.00\">  Before or After </text>\n",
       "<text text-anchor=\"start\" x=\"141\" y=\"-278.8\" font-family=\"Times New Roman,serif\" font-style=\"italic\" font-size=\"14.00\">String</text>\n",
       "<text text-anchor=\"start\" x=\"177\" y=\"-278.8\" font-family=\"Times New Roman,serif\" font-size=\"14.00\"> </text>\n",
       "<polygon fill=\"none\" stroke=\"black\" points=\"8,-226 8,-263 192,-263 192,-226 8,-226\"/>\n",
       "<text text-anchor=\"start\" x=\"19\" y=\"-241.8\" font-family=\"Times New Roman,serif\" font-size=\"14.00\">first_name </text>\n",
       "<text text-anchor=\"start\" x=\"82\" y=\"-241.8\" font-family=\"Times New Roman,serif\" font-style=\"italic\" font-size=\"14.00\">String</text>\n",
       "<text text-anchor=\"start\" x=\"118\" y=\"-241.8\" font-family=\"Times New Roman,serif\" font-size=\"14.00\"> </text>\n",
       "<polygon fill=\"none\" stroke=\"black\" points=\"8,-189 8,-226 192,-226 192,-189 8,-189\"/>\n",
       "<text text-anchor=\"start\" x=\"19\" y=\"-204.8\" font-family=\"Times New Roman,serif\" font-size=\"14.00\">last_name </text>\n",
       "<text text-anchor=\"start\" x=\"79\" y=\"-204.8\" font-family=\"Times New Roman,serif\" font-style=\"italic\" font-size=\"14.00\">String</text>\n",
       "<text text-anchor=\"start\" x=\"115\" y=\"-204.8\" font-family=\"Times New Roman,serif\" font-size=\"14.00\"> </text>\n",
       "<polygon fill=\"none\" stroke=\"black\" points=\"8,-152 8,-189 192,-189 192,-152 8,-152\"/>\n",
       "<text text-anchor=\"start\" x=\"19\" y=\"-167.8\" font-family=\"Times New Roman,serif\" font-size=\"14.00\">age </text>\n",
       "<text text-anchor=\"start\" x=\"42\" y=\"-167.8\" font-family=\"Times New Roman,serif\" font-style=\"italic\" font-size=\"14.00\">long</text>\n",
       "<text text-anchor=\"start\" x=\"68\" y=\"-167.8\" font-family=\"Times New Roman,serif\" font-size=\"14.00\"> </text>\n",
       "<polygon fill=\"none\" stroke=\"black\" points=\"8,-115 8,-152 192,-152 192,-115 8,-115\"/>\n",
       "<text text-anchor=\"start\" x=\"19\" y=\"-130.8\" font-family=\"Times New Roman,serif\" font-size=\"14.00\">Happy_Sad_group </text>\n",
       "<text text-anchor=\"start\" x=\"131\" y=\"-130.8\" font-family=\"Times New Roman,serif\" font-style=\"italic\" font-size=\"14.00\">String</text>\n",
       "<text text-anchor=\"start\" x=\"167\" y=\"-130.8\" font-family=\"Times New Roman,serif\" font-size=\"14.00\"> </text>\n",
       "<polygon fill=\"none\" stroke=\"black\" points=\"8,-78 8,-115 192,-115 192,-78 8,-78\"/>\n",
       "<text text-anchor=\"start\" x=\"19\" y=\"-93.8\" font-family=\"Times New Roman,serif\" font-size=\"14.00\">Dosage </text>\n",
       "<text text-anchor=\"start\" x=\"65\" y=\"-93.8\" font-family=\"Times New Roman,serif\" font-style=\"italic\" font-size=\"14.00\">long</text>\n",
       "<text text-anchor=\"start\" x=\"91\" y=\"-93.8\" font-family=\"Times New Roman,serif\" font-size=\"14.00\"> </text>\n",
       "<polygon fill=\"none\" stroke=\"black\" points=\"8,-41 8,-78 192,-78 192,-41 8,-41\"/>\n",
       "<text text-anchor=\"start\" x=\"19\" y=\"-56.8\" font-family=\"Times New Roman,serif\" font-size=\"14.00\">Drug </text>\n",
       "<text text-anchor=\"start\" x=\"51\" y=\"-56.8\" font-family=\"Times New Roman,serif\" font-style=\"italic\" font-size=\"14.00\">String</text>\n",
       "<text text-anchor=\"start\" x=\"87\" y=\"-56.8\" font-family=\"Times New Roman,serif\" font-size=\"14.00\"> </text>\n",
       "<polygon fill=\"none\" stroke=\"black\" points=\"8,-4 8,-41 192,-41 192,-4 8,-4\"/>\n",
       "<text text-anchor=\"start\" x=\"19\" y=\"-19.8\" font-family=\"Times New Roman,serif\" font-size=\"14.00\">MemoryScores </text>\n",
       "<text text-anchor=\"start\" x=\"110\" y=\"-19.8\" font-family=\"Times New Roman,serif\" font-style=\"italic\" font-size=\"14.00\">double</text>\n",
       "<text text-anchor=\"start\" x=\"150\" y=\"-19.8\" font-family=\"Times New Roman,serif\" font-size=\"14.00\"> </text>\n",
       "</g>\n",
       "<!-- Age Groups -->\n",
       "<g id=\"node2\" class=\"node\"><title>Age Groups</title>\n",
       "<polygon fill=\"none\" stroke=\"black\" points=\"304,-207 304,-244 426,-244 426,-207 304,-207\"/>\n",
       "<text text-anchor=\"start\" x=\"328\" y=\"-222.8\" font-family=\"Times New Roman,serif\" font-weight=\"bold\" font-size=\"14.00\">Age Groups</text>\n",
       "<polygon fill=\"none\" stroke=\"black\" points=\"304,-170 304,-207 426,-207 426,-170 304,-170\"/>\n",
       "<text text-anchor=\"start\" x=\"315\" y=\"-185.8\" font-family=\"Times New Roman,serif\" font-weight=\"bold\" font-size=\"14.00\">Key</text>\n",
       "<text text-anchor=\"start\" x=\"340\" y=\"-185.8\" font-family=\"Times New Roman,serif\" font-size=\"14.00\">  age </text>\n",
       "<text text-anchor=\"start\" x=\"371\" y=\"-185.8\" font-family=\"Times New Roman,serif\" font-style=\"italic\" font-size=\"14.00\">long</text>\n",
       "<text text-anchor=\"start\" x=\"397\" y=\"-185.8\" font-family=\"Times New Roman,serif\" font-size=\"14.00\"> </text>\n",
       "<polygon fill=\"none\" stroke=\"black\" points=\"304,-133 304,-170 426,-170 426,-133 304,-133\"/>\n",
       "<text text-anchor=\"start\" x=\"315\" y=\"-148.8\" font-family=\"Times New Roman,serif\" font-size=\"14.00\">age group </text>\n",
       "<text text-anchor=\"start\" x=\"375\" y=\"-148.8\" font-family=\"Times New Roman,serif\" font-style=\"italic\" font-size=\"14.00\">String</text>\n",
       "<text text-anchor=\"start\" x=\"411\" y=\"-148.8\" font-family=\"Times New Roman,serif\" font-size=\"14.00\"> </text>\n",
       "</g>\n",
       "<!-- Observations&#45;&gt;Age Groups -->\n",
       "<g id=\"edge1\" class=\"edge\"><title>Observations-&gt;Age Groups</title>\n",
       "<path fill=\"none\" stroke=\"black\" d=\"M200.054,-189C228.331,-189 258.742,-189 285.601,-189\"/>\n",
       "<polygon fill=\"black\" stroke=\"black\" points=\"285.709,-192.5 295.709,-189 285.709,-185.5 285.709,-192.5\"/>\n",
       "<text text-anchor=\"middle\" x=\"248\" y=\"-192.8\" font-family=\"Times New Roman,serif\" font-size=\"14.00\">age → age</text>\n",
       "</g>\n",
       "</g>\n",
       "</svg>"
      ],
      "text/plain": [
       "<IPython.core.display.SVG object>"
      ]
     },
     "execution_count": 13,
     "metadata": {},
     "output_type": "execute_result"
    }
   ],
   "source": [
    "cube.schema"
   ]
  },
  {
   "cell_type": "markdown",
   "metadata": {},
   "source": [
    "From the following visualization we can tell, that on average:\n",
    "\n",
    "-    for the Drug **\"Triazolam\"** memory scores **did not materially increase** in all age groups,\n",
    "-    for the Drug **\"Alprazolam\"** memory response times **increased in all the age groups**, with a bigger impact in group 25Y-50Y,\n",
    "-    for the Drug **\"Sugar\"** the scores **fluctuated**, they slighly decreased and slighly increased in groups 25Y-50Y and 50Y+ accordingly."
   ]
  },
  {
   "cell_type": "code",
   "execution_count": 15,
   "metadata": {
    "atoti": {
     "state": {
      "name": "Average memory score by drug",
      "type": "container",
      "value": {
       "body": {
        "configuration": {
         "mapping": {
          "horizontalSubplots": [
           "[Hierarchies].[Drug].[Drug]"
          ],
          "splitBy": [
           "[Hierarchies].[Before or After].[Before or After]"
          ],
          "values": [
           "[Measures].[MemoryScores.MEAN]"
          ],
          "verticalSubplots": [],
          "xAxis": [
           "[Hierarchies].[age group].[age group]"
          ]
         },
         "subplotModeEnabled": true,
         "type": "plotly-clustered-column-chart"
        },
        "query": {
         "mdx": "SELECT NON EMPTY Crossjoin([Hierarchies].[age group].[age group].Members, [Hierarchies].[Before or After].[Before or After].Members, [Hierarchies].[Drug].[Drug].Members) ON ROWS, NON EMPTY [Measures].[MemoryScores.MEAN] ON COLUMNS FROM [Observations] CELL PROPERTIES VALUE, FORMATTED_VALUE, BACK_COLOR, FORE_COLOR, FONT_FLAGS",
         "serverUrl": "",
         "updateMode": "once"
        }
       },
       "containerKey": "chart",
       "showTitleBar": false,
       "style": {}
      }
     }
    }
   },
   "outputs": [
    {
     "data": {
      "application/vnd.atoti.v0+json": {
       "cube": "Observations",
       "name": "Average memory score by drug",
       "session": "Unnamed"
      },
      "text/plain": [
       "Install and enable the atoti JupyterLab extension to see this widget."
      ]
     },
     "metadata": {},
     "output_type": "display_data"
    }
   ],
   "source": [
    "cube.visualize(\"Average memory score by drug\")"
   ]
  },
  {
   "cell_type": "markdown",
   "metadata": {},
   "source": [
    "# Slice-and-dice basic statistics"
   ]
  },
  {
   "cell_type": "code",
   "execution_count": 16,
   "metadata": {},
   "outputs": [],
   "source": [
    "m[\"Mean\"] = tt.agg.mean(observations_datastore[\"MemoryScores\"])\n",
    "m[\"Std\"] = tt.agg.std(observations_datastore[\"MemoryScores\"])\n",
    "m[\"Min\"] = tt.agg.min(observations_datastore[\"MemoryScores\"])\n",
    "m[\"Max\"] = tt.agg.max(observations_datastore[\"MemoryScores\"])\n",
    "m[\"25%\"] = tt.agg.quantile(observations_datastore[\"MemoryScores\"], 0.25)\n",
    "m[\"50%\"] = tt.agg.quantile(observations_datastore[\"MemoryScores\"], 0.50)\n",
    "m[\"75%\"] = tt.agg.quantile(observations_datastore[\"MemoryScores\"], 0.75)"
   ]
  },
  {
   "cell_type": "markdown",
   "metadata": {},
   "source": [
    "We can now slice-and-dice those statistics using any attribute available in the data.\n",
    "\n",
    "This is an example, where the Happy or Sad field has been put onto the columns. Every time we bring an additional attribute into the view, the statistics - such averages, standard deviation and quantiles - are recomputed from the raw data."
   ]
  },
  {
   "cell_type": "code",
   "execution_count": 18,
   "metadata": {
    "atoti": {
     "height": 326,
     "state": {
      "name": "Basic statistics slice-and-dice",
      "type": "container",
      "value": {
       "body": {
        "configuration": {
         "tabular": {
          "addButtonFilter": "numeric",
          "cellRenderers": [
           "tree-layout"
          ],
          "columns": [
           {
            "key": "c-treeCells-member",
            "width": 130
           }
          ],
          "columnsGroups": [
           {
            "captionProducer": "firstColumn",
            "cellFactory": "kpi-status",
            "selector": "kpi-status"
           },
           {
            "captionProducer": "firstColumn",
            "cellFactory": "lookup",
            "selector": "lookup"
           },
           {
            "captionProducer": "expiry",
            "cellFactory": "expiry",
            "selector": "kpi-expiry"
           },
           {
            "captionProducer": "columnMerge",
            "cellFactory": {
             "args": {},
             "key": "treeCells"
            },
            "selector": "member"
           }
          ],
          "defaultOptions": {},
          "expansion": {
           "automaticExpansion": true
          },
          "hideAddButton": true,
          "pinnedHeaderSelector": "member",
          "sortingMode": "non-breaking",
          "statisticsShown": true
         }
        },
        "contextValues": {},
        "mdx": "SELECT NON EMPTY Hierarchize({[Measures].[contributors.COUNT], [Measures].[Std], [Measures].[Min], [Measures].[25%], [Measures].[50%], [Measures].[75%], [Measures].[Max], [Measures].[Mean]}) ON ROWS, NON EMPTY Hierarchize(DrilldownLevel([Hierarchies].[Happy_Sad_group].[ALL].[AllMember])) ON COLUMNS FROM [Observations] CELL PROPERTIES VALUE, FORMATTED_VALUE, BACK_COLOR, FORE_COLOR, FONT_FLAGS",
        "ranges": {
         "column": {
          "chunkSize": 50,
          "thresholdPercentage": 0.2
         },
         "row": {
          "chunkSize": 2000,
          "thresholdPercentage": 0.1
         }
        },
        "serverUrl": "",
        "updateMode": "once"
       },
       "containerKey": "pivot-table",
       "showTitleBar": false,
       "style": {}
      }
     }
    }
   },
   "outputs": [
    {
     "data": {
      "application/vnd.atoti.v0+json": {
       "cube": "Observations",
       "name": "Basic statistics slice-and-dice",
       "session": "Unnamed"
      },
      "text/plain": [
       "Install and enable the atoti JupyterLab extension to see this widget."
      ]
     },
     "metadata": {},
     "output_type": "display_data"
    }
   ],
   "source": [
    "cube.visualize(\"Basic statistics slice-and-dice\")"
   ]
  },
  {
   "cell_type": "markdown",
   "metadata": {},
   "source": [
    "Let's also set up measures to interactively evaluate left and right boundaries of the 95% [confidence interval](https://en.wikipedia.org/wiki/Confidence_interval).\n",
    "\n",
    "In this case we are creating a measure on top of the existing measures - \"Mean\" and \"Std\" - that we have just defined above."
   ]
  },
  {
   "cell_type": "code",
   "execution_count": 19,
   "metadata": {},
   "outputs": [],
   "source": [
    "alpha = 0.05\n",
    "\n",
    "m[\"95% point\"] = norm.ppf(1 - alpha / 2.0)\n",
    "m[\"Z confidence left\"] = m[\"Mean\"] - m[\"95% point\"] * m[\"Std\"]\n",
    "m[\"Z confidence right\"] = m[\"Mean\"] + m[\"95% point\"] * m[\"Std\"]"
   ]
  },
  {
   "cell_type": "markdown",
   "metadata": {},
   "source": [
    "We have just created the metrics to visualize confidence intervals interactively. The \"After\" intervals are wider and include the \"Before\" intervals, so it's difficult to say if the treatment has increased the memory scores. Let's run a statistical test to check that - in the next section."
   ]
  },
  {
   "cell_type": "code",
   "execution_count": 21,
   "metadata": {
    "atoti": {
     "height": 254,
     "state": {
      "name": "Interactive confidence intervals",
      "type": "container",
      "value": {
       "body": {
        "configuration": {
         "tabular": {
          "addButtonFilter": "numeric",
          "cellRenderers": [
           "tree-layout"
          ],
          "columns": [
           {
            "key": "c-treeCells-member",
            "width": 170
           }
          ],
          "columnsGroups": [
           {
            "captionProducer": "firstColumn",
            "cellFactory": "kpi-status",
            "selector": "kpi-status"
           },
           {
            "captionProducer": "firstColumn",
            "cellFactory": "lookup",
            "selector": "lookup"
           },
           {
            "captionProducer": "expiry",
            "cellFactory": "expiry",
            "selector": "kpi-expiry"
           },
           {
            "captionProducer": "columnMerge",
            "cellFactory": {
             "args": {},
             "key": "treeCells"
            },
            "selector": "member"
           }
          ],
          "defaultOptions": {
           "headerHeight": 51
          },
          "expansion": {
           "automaticExpansion": true
          },
          "hideAddButton": true,
          "pinnedHeaderSelector": "member",
          "sortingMode": "non-breaking",
          "statisticsShown": true
         }
        },
        "contextValues": {},
        "mdx": "SELECT NON EMPTY Crossjoin(Hierarchize([Hierarchies].[Before or After].[Before or After].Members), {[Measures].[Z confidence left], [Measures].[Z confidence right], [Measures].[Mean], [Measures].[50%]}) ON COLUMNS, NON EMPTY Hierarchize(DrilldownLevel([Hierarchies].[Happy_Sad_group].[ALL].[AllMember])) ON ROWS FROM [Observations] CELL PROPERTIES VALUE, FORMATTED_VALUE, BACK_COLOR, FORE_COLOR, FONT_FLAGS",
        "ranges": {
         "column": {
          "chunkSize": 50,
          "thresholdPercentage": 0.2
         },
         "row": {
          "chunkSize": 2000,
          "thresholdPercentage": 0.1
         }
        },
        "serverUrl": "",
        "updateMode": "once"
       },
       "containerKey": "pivot-table",
       "showTitleBar": false,
       "style": {}
      }
     }
    }
   },
   "outputs": [
    {
     "data": {
      "application/vnd.atoti.v0+json": {
       "cube": "Observations",
       "name": "Interactive confidence intervals",
       "session": "Unnamed"
      },
      "text/plain": [
       "Install and enable the atoti JupyterLab extension to see this widget."
      ]
     },
     "metadata": {},
     "output_type": "display_data"
    }
   ],
   "source": [
    "cube.visualize(\"Interactive confidence intervals\")"
   ]
  },
  {
   "cell_type": "markdown",
   "metadata": {},
   "source": [
    "# Paired t-test\n",
    "\n",
    "Let's see how a paired t-test can be applied in atoti.\n",
    "\n",
    "As a refresher, a paired t-test is one of the [statistical hypothesis tests](https://en.wikipedia.org/wiki/Statistical_hypothesis_testing) that can help testing a medication effect, given the before and after measurements. We will check that the data provides evidence that will allow us to reject the [null hypothesis](https://en.wikipedia.org/wiki/Null_hypothesis):\n",
    "\n",
    "- H0: on average, there's no difference in the memory scores before and after treatment, \n",
    "- H1: on average, the memory score after the treatment is bigger (response time longer) than before, \n",
    "\n",
    "Or:\n",
    "\n",
    "- H0: mean difference of memory scores is equal to 0, mu = 0\n",
    "- H1: mean difference of memory scores between after and before measurements is above 0, mu>0.\n"
   ]
  },
  {
   "cell_type": "markdown",
   "metadata": {},
   "source": [
    "Firstly, we need to compute t-statistic for the differences between memory scores after and before treatment, the statistic is defined as per the formula:\n",
    "\n",
    "$$t_{statistic} = \\frac{\\bar{x}}{s/\\sqrt{n}}$$\n",
    "\n",
    "where \n",
    "- $\\bar{x}$: the mean value of the memory score differences \n",
    "- $n$: the number of observations\n",
    "- $s$: standard deviation of the memory score differences\n",
    "\n",
    "We'd need to provide mean differences, stdev of differences and the number of differences (patients) participated in the test.\n",
    "\n",
    "Let's create a measure for the difference. Let's use atoti `.filter` function to create average memory scores for the \"Before\" and \"After\" measurements, and then taking their difference."
   ]
  },
  {
   "cell_type": "code",
   "execution_count": 22,
   "metadata": {},
   "outputs": [],
   "source": [
    "m[\"MemoryScoresAfter.Mean\"] = tt.filter(\n",
    "    m[\"MemoryScores.MEAN\"], l[\"Before or After\"] == \"After\"\n",
    ")\n",
    "m[\"MemoryScoresBefore.Mean\"] = tt.filter(\n",
    "    m[\"MemoryScores.MEAN\"], l[\"Before or After\"] == \"Before\"\n",
    ")\n",
    "\n",
    "m[\"Diff.Mean\"] = m[\"MemoryScoresAfter.Mean\"] - m[\"MemoryScoresBefore.Mean\"]\n",
    "m[\"Diff.Mean\"].formatter = \"DOUBLE[#,##0.00]\""
   ]
  },
  {
   "cell_type": "code",
   "execution_count": 24,
   "metadata": {
    "atoti": {
     "height": 191,
     "state": {
      "name": "",
      "type": "container",
      "value": {
       "body": {
        "configuration": {
         "tabular": {
          "addButtonFilter": "numeric",
          "cellRenderers": [
           "tree-layout"
          ],
          "columns": [
           {
            "key": "[Measures].[MemoryScoresAfter.Mean]",
            "width": 175
           }
          ],
          "columnsGroups": [
           {
            "captionProducer": "firstColumn",
            "cellFactory": "kpi-status",
            "selector": "kpi-status"
           },
           {
            "captionProducer": "firstColumn",
            "cellFactory": "lookup",
            "selector": "lookup"
           },
           {
            "captionProducer": "expiry",
            "cellFactory": "expiry",
            "selector": "kpi-expiry"
           },
           {
            "captionProducer": "columnMerge",
            "cellFactory": {
             "args": {},
             "key": "treeCells"
            },
            "selector": "member"
           }
          ],
          "defaultOptions": {},
          "expansion": {
           "automaticExpansion": true
          },
          "hideAddButton": true,
          "pinnedHeaderSelector": "member",
          "sortingMode": "non-breaking",
          "statisticsShown": true
         }
        },
        "contextValues": {},
        "mdx": "SELECT NON EMPTY {[Measures].[Diff.Mean], [Measures].[MemoryScoresBefore.Mean], [Measures].[MemoryScoresAfter.Mean]} ON COLUMNS, NON EMPTY Hierarchize(DrilldownLevel([Hierarchies].[Drug].[ALL].[AllMember])) ON ROWS FROM [Observations] CELL PROPERTIES VALUE, FORMATTED_VALUE, BACK_COLOR, FORE_COLOR, FONT_FLAGS",
        "ranges": {
         "column": {
          "chunkSize": 50,
          "thresholdPercentage": 0.2
         },
         "row": {
          "chunkSize": 2000,
          "thresholdPercentage": 0.1
         }
        },
        "serverUrl": "",
        "updateMode": "once"
       },
       "containerKey": "pivot-table",
       "showTitleBar": false,
       "style": {}
      }
     }
    }
   },
   "outputs": [
    {
     "data": {
      "application/vnd.atoti.v0+json": {
       "cube": "Observations",
       "name": null,
       "session": "Unnamed"
      },
      "text/plain": [
       "Install and enable the atoti JupyterLab extension to see this widget."
      ]
     },
     "metadata": {},
     "output_type": "display_data"
    }
   ],
   "source": [
    "cube.visualize()"
   ]
  },
  {
   "cell_type": "code",
   "execution_count": 25,
   "metadata": {},
   "outputs": [],
   "source": [
    "# Computing standard deviation of differences:\n",
    "m[\"Diff.Std\"] = tt.agg.std(m[\"Diff.Mean\"], scope=tt.scope.origin(l[\"Patient_Id\"]))\n",
    "\n",
    "# Number of patients observed - each patient has 2 records, one for before and another for after\n",
    "m[\"Number of observations\"] = tt.agg.count_distinct(\n",
    "    observations_datastore[\"Patient_Id\"]\n",
    ")\n",
    "\n",
    "# Computing the t-statistic per formula above:\n",
    "m[\"t-statistic\"] = m[\"Diff.Mean\"] / (\n",
    "    m[\"Diff.Std\"] / tt.sqrt(m[\"Number of observations\"])\n",
    ")\n",
    "m[\"t-statistic\"].formatter = \"DOUBLE[0.00]\""
   ]
  },
  {
   "cell_type": "markdown",
   "metadata": {},
   "source": [
    "We will be comparing the `t-statistic` to the right tail _critical value_, and if it's above the critical value, we will conclude that the data provides the evidence to reject the null hypothesis. Let's load 95% critical values for different [degrees of freedom](https://en.wikipedia.org/wiki/Degrees_of_freedom_(statistics)) into the cube."
   ]
  },
  {
   "cell_type": "markdown",
   "metadata": {},
   "source": [
    "Now, depending on the number of observations for each cell, we will pick a critical value and visualize it as a measure:"
   ]
  },
  {
   "cell_type": "code",
   "execution_count": 26,
   "metadata": {},
   "outputs": [],
   "source": [
    "# Loading a \"table\" of critical values, 101 values in total.\n",
    "# For experiments with more than 101 degrees of freedom, we approximate the critical value, for 95% confidence - with value 1.645.\n",
    "m[\"t-critical values list\"] = [t.ppf(0.95, d) for d in range(1, 101)] + [1.645]\n",
    "\n",
    "# Computing degrees of freedom as the number of observations minus 1:\n",
    "degrees_of_freedom = m[\"Number of observations\"] - 1\n",
    "\n",
    "# Shifting the df by -1 to use as an index and look up critical value from the list:\n",
    "df_as_index = degrees_of_freedom - 1\n",
    "\n",
    "# If there're too many observations (more than 101), we'll cap it:\n",
    "capped_df_as_index = tt.where(df_as_index > 100, 100, df_as_index)\n",
    "\n",
    "# This measure will be looking up a critical value for the current scope:\n",
    "m[\"t-critical\"] = m[\"t-critical values list\"][capped_df_as_index]"
   ]
  },
  {
   "cell_type": "markdown",
   "metadata": {},
   "source": [
    "This measure is displaying whether the observed t-statistics is to the right from the critical value, i.e. there's evidence that H0 can be rejected. It will visualize the result of t-test every time we expand and collapse data:"
   ]
  },
  {
   "cell_type": "code",
   "execution_count": 27,
   "metadata": {},
   "outputs": [],
   "source": [
    "m[\"Test Result\"] = tt.where(\n",
    "    m[\"t-statistic\"] > m[\"t-critical\"], \"H0 rejected\", \"Can't reject H0\"\n",
    ")"
   ]
  },
  {
   "cell_type": "markdown",
   "metadata": {},
   "source": [
    "In the next session we'll see how to use the measure created above to visualize the test result."
   ]
  },
  {
   "cell_type": "markdown",
   "metadata": {},
   "source": [
    "# Interactive hypothesis testing"
   ]
  },
  {
   "cell_type": "markdown",
   "metadata": {},
   "source": [
    "Now we can experiment and re-group our data and apply the test interactively:\n",
    "\n",
    "- **\"H0 rejected\"** will mean that the data provides evidence that mean difference is not 0, meaning, there's a statistically significant impact of treatment onto the memory scores.\n",
    "- **\"Can't reject H0\"** will mean that t-statistic is smaller than the critical value, and we can't reject the null hypothesis.\n",
    "\n",
    "We expand by the name of the drug, then by dosages, then by patient \"Happy/Sad\" group, and this is what we found out:\n",
    "\n",
    "- there's an evidence that **Drug Aprazolam** had impact on the memory scores (response time), while Sugar and Triazolam did not, \n",
    "- when we break down the Drug Aprazolam observations **by dosage** -  we notice that only the dosages 1 and 2 are statistically significant, \n",
    "- if we further expand to \"Happy/Sad\" group, and for the \"Happy\" patients only the higher dosage impacted the memory score."
   ]
  },
  {
   "cell_type": "code",
   "execution_count": 29,
   "metadata": {
    "atoti": {
     "state": {
      "name": "",
      "type": "container",
      "value": {
       "body": {
        "configuration": {
         "tabular": {
          "addButtonFilter": "numeric",
          "cellRenderers": [
           "tree-layout"
          ],
          "columns": [
           {
            "key": "c-treeCells-member",
            "width": 153
           }
          ],
          "columnsGroups": [
           {
            "captionProducer": "firstColumn",
            "cellFactory": "kpi-status",
            "selector": "kpi-status"
           },
           {
            "captionProducer": "firstColumn",
            "cellFactory": "lookup",
            "selector": "lookup"
           },
           {
            "captionProducer": "expiry",
            "cellFactory": "expiry",
            "selector": "kpi-expiry"
           },
           {
            "captionProducer": "columnMerge",
            "cellFactory": {
             "args": {},
             "key": "treeCells"
            },
            "selector": "member"
           }
          ],
          "defaultOptions": {
           "headerHeight": 58
          },
          "expansion": {
           "automaticExpansion": true
          },
          "hideAddButton": true,
          "pinnedHeaderSelector": "member",
          "sortingMode": "non-breaking",
          "statisticsShown": true
         }
        },
        "contextValues": {},
        "mdx": "WITH  Member [Measures].[Test Result (1)] AS [Measures].[Test Result], BACK_COLOR = CASE WHEN [Measures].[Test Result (1)] = \"H0 rejected\" THEN rgb(217, 234, 211) END, CAPTION = [Measures].[Test Result].MEMBER_CAPTION  SELECT NON EMPTY {[Measures].[Test Result (1)], [Measures].[t-statistic], [Measures].[t-critical], [Measures].[Number of observations], [Measures].[Diff.Mean], [Measures].[MemoryScoresAfter.Mean], [Measures].[MemoryScoresBefore.Mean]} ON COLUMNS, NON EMPTY Hierarchize(Crossjoin(Union(DrilldownLevel([Hierarchies].[Drug].[ALL].[AllMember]), [Hierarchies].[Drug].[ALL].[AllMember].[A], [Hierarchies].[Drug].[ALL].[AllMember].[S], [Hierarchies].[Drug].[ALL].[AllMember].[Aprazolam]), [Hierarchies].[Happy_Sad_group].[Happy_Sad_group].Members)) ON ROWS FROM [Observations] CELL PROPERTIES BACK_COLOR, FONT_FLAGS, FORE_COLOR, FORMATTED_VALUE, VALUE",
        "ranges": {
         "column": {
          "chunkSize": 50,
          "thresholdPercentage": 0.2
         },
         "row": {
          "chunkSize": 2000,
          "thresholdPercentage": 0.1
         }
        },
        "serverUrl": "",
        "updateMode": "once"
       },
       "containerKey": "pivot-table",
       "showTitleBar": false,
       "style": {}
      }
     }
    }
   },
   "outputs": [
    {
     "data": {
      "application/vnd.atoti.v0+json": {
       "cube": "Observations",
       "name": null,
       "session": "Unnamed"
      },
      "text/plain": [
       "Install and enable the atoti JupyterLab extension to see this widget."
      ]
     },
     "metadata": {},
     "output_type": "display_data"
    }
   ],
   "source": [
    "cube.visualize()"
   ]
  },
  {
   "cell_type": "markdown",
   "metadata": {},
   "source": [
    "# Quick simulation\n",
    "\n",
    "Let's make a quick comparison of the test results under the 95%, 97.5%, 99% confidence levels by loading new critical values into simulations. As a reminder, we've been using the 95% critical values so far."
   ]
  },
  {
   "cell_type": "code",
   "execution_count": 30,
   "metadata": {},
   "outputs": [],
   "source": [
    "# creating a new simulation to override critical values, and giving a name to the initial values\n",
    "confidence_levels = cube.setup_simulation(\n",
    "    \"Confidence Levels\", replace=[m[\"t-critical values list\"]], base_scenario=\"95%\"\n",
    ").scenarios\n",
    "# creating new critical values based on 0.975 and 0.99 confidence levels\n",
    "confidence_levels[\"97.5%\"] = [t.ppf(0.975, d) for d in range(1, 101)] + [1.960]\n",
    "confidence_levels[\"99%\"] = [t.ppf(0.99, d) for d in range(1, 101)] + [2.326]"
   ]
  },
  {
   "cell_type": "markdown",
   "metadata": {},
   "source": [
    "Let's expand Test results for Sugar and we'll see that the hypothesis is rejected for dosage 1 under the 95% and 97.5% confidence levels - implying that memory reponse time increases for patients taking low dosage of sugar (placebo). Most probably we are making Type I error - false positive result. Increasing the confidence level helps to reduce the probability of Type I error, in our case, H0 is not rejected for Sugar with 99% confidence level."
   ]
  },
  {
   "cell_type": "code",
   "execution_count": 32,
   "metadata": {
    "atoti": {
     "state": {
      "name": "",
      "type": "container",
      "value": {
       "body": {
        "configuration": {
         "tabular": {
          "addButtonFilter": "numeric",
          "cellRenderers": [
           "tree-layout"
          ],
          "columns": [
           {
            "key": "c-treeCells-member",
            "width": 132
           }
          ],
          "columnsGroups": [
           {
            "captionProducer": "firstColumn",
            "cellFactory": "kpi-status",
            "selector": "kpi-status"
           },
           {
            "captionProducer": "firstColumn",
            "cellFactory": "lookup",
            "selector": "lookup"
           },
           {
            "captionProducer": "expiry",
            "cellFactory": "expiry",
            "selector": "kpi-expiry"
           },
           {
            "captionProducer": "columnMerge",
            "cellFactory": {
             "args": {},
             "key": "treeCells"
            },
            "selector": "member"
           }
          ],
          "defaultOptions": {},
          "expansion": {
           "automaticExpansion": true
          },
          "hideAddButton": true,
          "pinnedHeaderSelector": "member",
          "sortingMode": "non-breaking",
          "statisticsShown": true
         }
        },
        "contextValues": {},
        "mdx": "WITH  Member [Measures].[Test Result (1)] AS [Measures].[Test Result], BACK_COLOR = CASE WHEN [Measures].[Test Result (1)] = \"H0 rejected\" THEN rgb(217, 234, 211) END, CAPTION = [Measures].[Test Result].MEMBER_CAPTION  SELECT NON EMPTY Crossjoin({[Measures].[Test Result (1)], [Measures].[t-critical]}, Hierarchize([Measure Simulations].[Confidence Levels].[Confidence Levels].Members)) ON COLUMNS, NON EMPTY Except(Crossjoin(Hierarchize(Union(DrilldownLevel([Hierarchies].[Drug].[ALL].[AllMember]), [Hierarchies].[Drug].[ALL].[AllMember].[Drug A], [Hierarchies].[Drug].[ALL].[AllMember].[Drug S], [Hierarchies].[Drug].[ALL].[AllMember].[Drug T])), Hierarchize(DrilldownLevel([Hierarchies].[Dosage].[ALL].[AllMember]))), Union(Crossjoin([Hierarchies].[Drug].[ALL].[AllMember].[Drug A], [Hierarchies].[Dosage].[Dosage].Members), Crossjoin([Hierarchies].[Drug].[ALL].[AllMember].[Drug T], [Hierarchies].[Dosage].[Dosage].Members))) ON ROWS FROM [Observations] CELL PROPERTIES BACK_COLOR, FONT_FLAGS, FORE_COLOR, FORMATTED_VALUE, VALUE",
        "ranges": {
         "column": {
          "chunkSize": 50,
          "thresholdPercentage": 0.2
         },
         "row": {
          "chunkSize": 2000,
          "thresholdPercentage": 0.1
         }
        },
        "serverUrl": "",
        "updateMode": "once"
       },
       "containerKey": "pivot-table",
       "showTitleBar": false,
       "style": {}
      }
     }
    }
   },
   "outputs": [
    {
     "data": {
      "application/vnd.atoti.v0+json": {
       "cube": "Observations",
       "name": null,
       "session": "Unnamed"
      },
      "text/plain": [
       "Install and enable the atoti JupyterLab extension to see this widget."
      ]
     },
     "metadata": {},
     "output_type": "display_data"
    }
   ],
   "source": [
    "cube.visualize()"
   ]
  },
  {
   "cell_type": "markdown",
   "metadata": {},
   "source": [
    "# Alternative data sets"
   ]
  },
  {
   "cell_type": "markdown",
   "metadata": {},
   "source": [
    "Let's imagine that we obtained memory scores data using an alternative methodology, and want to compare the test results side-by-side with the original approach."
   ]
  },
  {
   "cell_type": "code",
   "execution_count": 33,
   "metadata": {},
   "outputs": [],
   "source": [
    "observations_datastore.scenarios[\"Multicenter study data\"].load_csv(\n",
    "    \"s3://data.atoti.io/notebooks/drug-efficacy/Multi_center_study_data.csv\"\n",
    ")"
   ]
  },
  {
   "cell_type": "code",
   "execution_count": 35,
   "metadata": {
    "atoti": {
     "state": {
      "name": "",
      "type": "container",
      "value": {
       "body": {
        "configuration": {
         "tabular": {
          "addButtonFilter": "numeric",
          "cellRenderers": [
           "tree-layout"
          ],
          "columnOrder": {
           "args": {
            "orderedColumns": [
             "c-treeCells-member",
             "([Measures].[Test Result (1)],[Epoch].[Epoch].[Branch].[Multicenter study data2])",
             "([Measures].[Test Result (1)],[Epoch].[Epoch].[Branch].[Base])",
             "([Measures].[Test Result (1)],[Epoch].[Epoch].[Branch].[Multicenter study data])",
             "([Measures].[contributors.COUNT],[Epoch].[Epoch].[Branch].[Base])",
             "([Measures].[contributors.COUNT],[Epoch].[Epoch].[Branch].[Multicenter study data])",
             "([Measures].[contributors.COUNT],[Epoch].[Epoch].[Branch].[Multicenter study data2])",
             "([Measures].[t-statistic],[Epoch].[Epoch].[Branch].[Base])",
             "([Measures].[t-statistic],[Epoch].[Epoch].[Branch].[Multicenter study data])",
             "([Measures].[t-statistic],[Epoch].[Epoch].[Branch].[Multicenter study data2])",
             "([Measures].[t-critical],[Epoch].[Epoch].[Branch].[Base])",
             "([Measures].[t-critical],[Epoch].[Epoch].[Branch].[Multicenter study data])",
             "([Measures].[t-critical],[Epoch].[Epoch].[Branch].[Multicenter study data2])"
            ]
           },
           "key": "explicit"
          },
          "columnsGroups": [
           {
            "captionProducer": "firstColumn",
            "cellFactory": "kpi-status",
            "selector": "kpi-status"
           },
           {
            "captionProducer": "firstColumn",
            "cellFactory": "lookup",
            "selector": "lookup"
           },
           {
            "captionProducer": "expiry",
            "cellFactory": "expiry",
            "selector": "kpi-expiry"
           },
           {
            "captionProducer": "columnMerge",
            "cellFactory": {
             "args": {},
             "key": "treeCells"
            },
            "selector": "member"
           }
          ],
          "defaultOptions": {
           "headerHeight": 64
          },
          "expansion": {
           "automaticExpansion": true
          },
          "hideAddButton": true,
          "pinnedHeaderSelector": "member",
          "sortingMode": "non-breaking",
          "statisticsShown": true
         }
        },
        "contextValues": {},
        "mdx": "WITH  Member [Measures].[Test Result (1)] AS [Measures].[Test Result], BACK_COLOR = CASE WHEN [Measures].[Test Result (1)] = \"H0 rejected\" THEN rgb(217, 234, 211) END, CAPTION = [Measures].[Test Result].MEMBER_CAPTION  SELECT NON EMPTY Crossjoin({[Measures].[Test Result (1)], [Measures].[contributors.COUNT], [Measures].[t-statistic]}, Hierarchize([Epoch].[Epoch].[Branch].Members)) ON COLUMNS, NON EMPTY Hierarchize(DrilldownLevel([Hierarchies].[Drug].[ALL].[AllMember])) ON ROWS FROM [Observations] CELL PROPERTIES BACK_COLOR, FONT_FLAGS, FORE_COLOR, FORMATTED_VALUE, VALUE",
        "ranges": {
         "column": {
          "chunkSize": 50,
          "thresholdPercentage": 0.2
         },
         "row": {
          "chunkSize": 2000,
          "thresholdPercentage": 0.1
         }
        },
        "serverUrl": "",
        "updateMode": "once"
       },
       "containerKey": "pivot-table",
       "showTitleBar": false,
       "style": {}
      }
     }
    }
   },
   "outputs": [
    {
     "data": {
      "application/vnd.atoti.v0+json": {
       "cube": "Observations",
       "name": null,
       "session": "Unnamed"
      },
      "text/plain": [
       "Install and enable the atoti JupyterLab extension to see this widget."
      ]
     },
     "metadata": {},
     "output_type": "display_data"
    }
   ],
   "source": [
    "cube.visualize()"
   ]
  },
  {
   "cell_type": "markdown",
   "metadata": {},
   "source": [
    "# Conclusion\n",
    "\n",
    "In this notebook we have configured an analytical application for **exploratory data analysis**, that allows us to **interactively browse** the data and re-compute statistics, such as mean, stdev, etc, as well as more complex functions - such as hypothesis test metrics - **on-the-fly**. Even though the example has a handful of observation, atoti's backend is designed to handle big data. Please refer to this white page is you want to learn about the [technology](https://activeviam.com/images/pdf/white-papers/ActiveViam_Technical_White_Paper_-_ActivePivot.pdf) on atoti's backend.\n",
    "\n",
    "The application comes with a **user interface**, so the results of the analysis can be visualized in a dashboard and presented to users:\n"
   ]
  },
  {
   "cell_type": "code",
   "execution_count": 36,
   "metadata": {},
   "outputs": [
    {
     "data": {
      "text/plain": [
       "'http://localhost:51865/#/dashboard/3f7'"
      ]
     },
     "execution_count": 36,
     "metadata": {},
     "output_type": "execute_result"
    }
   ],
   "source": [
    "session.url + \"/#/dashboard/3f7\""
   ]
  }
 ],
 "metadata": {
  "kernelspec": {
   "display_name": "Python 3",
   "language": "python",
   "name": "python3"
  },
  "language_info": {
   "codemirror_mode": {
    "name": "ipython",
    "version": 3
   },
   "file_extension": ".py",
   "mimetype": "text/x-python",
   "name": "python",
   "nbconvert_exporter": "python",
   "pygments_lexer": "ipython3",
   "version": "3.8.5"
  }
 },
 "nbformat": 4,
 "nbformat_minor": 4
}
