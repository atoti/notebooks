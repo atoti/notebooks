{
 "cells": [
  {
   "cell_type": "markdown",
   "metadata": {},
   "source": [
    "# Interactive hypothesis testing\n",
    "\n",
    "If you need to test a hypothesis interactively along multiple dimensions or their combinations, we are showing below an example demonstrating how this can be achieved with [atoti](https://docs.atoti.io).\n",
    "\n",
    "atoti provides a python interface to define custom aggregation function - we will look at an example of implementing a paired t-test as an aggregation function. Plus, it provides an interface to create dashboards and share results with customers.\n",
    "\n",
    "<img src=\"./app-preview.gif\" alt=\"Interactive app preview\" width=\"70%\" style=\"display:block;margin-left: auto;margin-right: auto;\">"
   ]
  },
  {
   "cell_type": "markdown",
   "metadata": {},
   "source": [
    "# Imports"
   ]
  },
  {
   "cell_type": "code",
   "execution_count": 1,
   "metadata": {},
   "outputs": [],
   "source": [
    "import numpy as np\n",
    "import pandas as pd\n",
    "from IPython.display import display\n",
    "from scipy.stats import norm, t"
   ]
  },
  {
   "cell_type": "code",
   "execution_count": 2,
   "metadata": {},
   "outputs": [
    {
     "name": "stdout",
     "output_type": "stream",
     "text": [
      "Welcome to atoti 0.4.3.20200729154535!\n",
      "\n",
      "By using this community edition, you agree with the license available at https://www.atoti.io/eula.\n",
      "Browse the official documentation at https://docs.atoti.io.\n",
      "Join the community at https://www.atoti.io/register.\n",
      "\n",
      "You can hide this message by setting the ATOTI_HIDE_EULA_MESSAGE environment variable to True.\n"
     ]
    }
   ],
   "source": [
    "import atoti as tt"
   ]
  },
  {
   "cell_type": "markdown",
   "metadata": {},
   "source": [
    "## Raw data"
   ]
  },
  {
   "cell_type": "code",
   "execution_count": 32,
   "metadata": {},
   "outputs": [
    {
     "data": {
      "text/html": [
       "<div>\n",
       "<style scoped>\n",
       "    .dataframe tbody tr th:only-of-type {\n",
       "        vertical-align: middle;\n",
       "    }\n",
       "\n",
       "    .dataframe tbody tr th {\n",
       "        vertical-align: top;\n",
       "    }\n",
       "\n",
       "    .dataframe thead th {\n",
       "        text-align: right;\n",
       "    }\n",
       "</style>\n",
       "<table border=\"1\" class=\"dataframe\">\n",
       "  <thead>\n",
       "    <tr style=\"text-align: right;\">\n",
       "      <th></th>\n",
       "      <th>index</th>\n",
       "      <th>first_name</th>\n",
       "      <th>last_name</th>\n",
       "      <th>age</th>\n",
       "      <th>Happy_Sad_group</th>\n",
       "      <th>Dosage</th>\n",
       "      <th>Drug</th>\n",
       "      <th>Mem_Score_Before</th>\n",
       "      <th>Mem_Score_After</th>\n",
       "      <th>Diff</th>\n",
       "    </tr>\n",
       "  </thead>\n",
       "  <tbody>\n",
       "    <tr>\n",
       "      <th>154</th>\n",
       "      <td>154</td>\n",
       "      <td>Sophie</td>\n",
       "      <td>Takahashi</td>\n",
       "      <td>46</td>\n",
       "      <td>Sad</td>\n",
       "      <td>1</td>\n",
       "      <td>Drug T</td>\n",
       "      <td>82.4</td>\n",
       "      <td>83.1</td>\n",
       "      <td>0.7</td>\n",
       "    </tr>\n",
       "    <tr>\n",
       "      <th>87</th>\n",
       "      <td>87</td>\n",
       "      <td>Rin</td>\n",
       "      <td>Takahashi</td>\n",
       "      <td>30</td>\n",
       "      <td>Happy</td>\n",
       "      <td>1</td>\n",
       "      <td>Drug S</td>\n",
       "      <td>59.6</td>\n",
       "      <td>56.8</td>\n",
       "      <td>-2.8</td>\n",
       "    </tr>\n",
       "    <tr>\n",
       "      <th>59</th>\n",
       "      <td>59</td>\n",
       "      <td>Ren</td>\n",
       "      <td>Lopez</td>\n",
       "      <td>47</td>\n",
       "      <td>Happy</td>\n",
       "      <td>3</td>\n",
       "      <td>Drug A</td>\n",
       "      <td>65.6</td>\n",
       "      <td>86.4</td>\n",
       "      <td>20.8</td>\n",
       "    </tr>\n",
       "    <tr>\n",
       "      <th>12</th>\n",
       "      <td>12</td>\n",
       "      <td>Ayano</td>\n",
       "      <td>Kennedy</td>\n",
       "      <td>39</td>\n",
       "      <td>Happy</td>\n",
       "      <td>1</td>\n",
       "      <td>Drug A</td>\n",
       "      <td>35.5</td>\n",
       "      <td>40.7</td>\n",
       "      <td>5.2</td>\n",
       "    </tr>\n",
       "    <tr>\n",
       "      <th>39</th>\n",
       "      <td>39</td>\n",
       "      <td>Jun</td>\n",
       "      <td>Rodriguez</td>\n",
       "      <td>35</td>\n",
       "      <td>Sad</td>\n",
       "      <td>2</td>\n",
       "      <td>Drug A</td>\n",
       "      <td>40.8</td>\n",
       "      <td>63.0</td>\n",
       "      <td>22.2</td>\n",
       "    </tr>\n",
       "  </tbody>\n",
       "</table>\n",
       "</div>"
      ],
      "text/plain": [
       "     index first_name  last_name  age Happy_Sad_group  Dosage    Drug  \\\n",
       "154    154     Sophie  Takahashi   46             Sad       1  Drug T   \n",
       "87      87        Rin  Takahashi   30           Happy       1  Drug S   \n",
       "59      59        Ren      Lopez   47           Happy       3  Drug A   \n",
       "12      12      Ayano    Kennedy   39           Happy       1  Drug A   \n",
       "39      39        Jun  Rodriguez   35             Sad       2  Drug A   \n",
       "\n",
       "     Mem_Score_Before  Mem_Score_After  Diff  \n",
       "154              82.4             83.1   0.7  \n",
       "87               59.6             56.8  -2.8  \n",
       "59               65.6             86.4  20.8  \n",
       "12               35.5             40.7   5.2  \n",
       "39               40.8             63.0  22.2  "
      ]
     },
     "execution_count": 32,
     "metadata": {},
     "output_type": "execute_result"
    }
   ],
   "source": [
    "# Example data is taken from kaggle user submission:\n",
    "# https://www.kaggle.com/steveahn/memory-test-on-drugged-islanders-data\n",
    "df = pd.read_csv(\"http://data.atoti.io/notebooks/drug-efficacy/Islander_data.csv\")\n",
    "df = df.reset_index()\n",
    "df['Drug'] = \"Drug \" + df['Drug'].astype(str)\n",
    "df['Happy_Sad_group'] = df['Happy_Sad_group'].map(lambda x: \"Happy\" if x==\"H\" else \"Sad\")\n",
    "df.sample(5)"
   ]
  },
  {
   "cell_type": "code",
   "execution_count": 4,
   "metadata": {},
   "outputs": [],
   "source": [
    "# Vectorizing the measurements -  as we want a hierarchy to expand stats by \"before\" and \"after\"\n",
    "df[\"MemoryScoresVector\"] = (\n",
    "    df[\"Mem_Score_Before\"].astype(str) + \";\" + df[\"Mem_Score_After\"].astype(str)\n",
    ")"
   ]
  },
  {
   "cell_type": "markdown",
   "metadata": {},
   "source": [
    "## Launching atoti app"
   ]
  },
  {
   "cell_type": "code",
   "execution_count": 5,
   "metadata": {},
   "outputs": [],
   "source": [
    "from atoti.config import create_config\n",
    "\n",
    "config = create_config(metadata_db=\"./metadata.db\")\n",
    "\n",
    "session = tt.create_session(config=config)\n",
    "observations_datastore = session.read_pandas(\n",
    "    df, keys=[\"index\"], array_sep=\";\", store_name=\"Observations\"\n",
    ")\n",
    "cube = session.create_cube(observations_datastore)\n",
    "\n",
    "h = cube.hierarchies\n",
    "l = cube.levels\n",
    "m = cube.measures"
   ]
  },
  {
   "cell_type": "markdown",
   "metadata": {},
   "source": [
    "## URL of atoti app\n",
    "\n",
    "The following cell displays URL of the atoti app:"
   ]
  },
  {
   "cell_type": "code",
   "execution_count": 6,
   "metadata": {},
   "outputs": [
    {
     "data": {
      "text/plain": [
       "'http://localhost:60829'"
      ]
     },
     "execution_count": 6,
     "metadata": {},
     "output_type": "execute_result"
    }
   ],
   "source": [
    "session.url"
   ]
  },
  {
   "cell_type": "markdown",
   "metadata": {},
   "source": [
    "# Inline data visualization\n",
    "\n",
    "By running the next cell, we embed a data visualization widget - to slice and dice data inside the notebook."
   ]
  },
  {
   "cell_type": "code",
   "execution_count": 8,
   "metadata": {},
   "outputs": [
    {
     "data": {
      "application/vnd.atoti.v0+json": {
       "cube": "Observations",
       "name": null,
       "session": "Unnamed"
      },
      "text/plain": [
       "Install and enable the atoti JupyterLab extension to see this widget."
      ]
     },
     "metadata": {},
     "output_type": "display_data"
    }
   ],
   "source": [
    "cube.visualize()"
   ]
  },
  {
   "cell_type": "markdown",
   "metadata": {},
   "source": [
    "# Adding a custom grouping - age groups\n",
    "\n",
    "I want to group obvervations by age. To achieve that, I'm creating and uploading **age to group mapping** into a separate data store:"
   ]
  },
  {
   "cell_type": "code",
   "execution_count": 9,
   "metadata": {},
   "outputs": [],
   "source": [
    "age_groups_store = session.read_pandas(\n",
    "    pd.DataFrame(\n",
    "        data=[(\"0-25Y\", i) for i in range(25)]\n",
    "        + [(\"25Y - 40Y\", i) for i in range(25, 40)]\n",
    "        + [(\"40Y - 55Y\", i) for i in range(40, 55)]\n",
    "        + [(\"55Y+\", i) for i in range(55, 100)],\n",
    "        columns=[\"age group\", \"age\"],\n",
    "    ),\n",
    "    keys=[\"age\"],\n",
    "    store_name=\"Age Groups\",\n",
    ")\n",
    "\n",
    "observations_datastore.join(age_groups_store)"
   ]
  },
  {
   "cell_type": "markdown",
   "metadata": {},
   "source": [
    "We will start using this grouping in one of the following cells."
   ]
  },
  {
   "cell_type": "markdown",
   "metadata": {},
   "source": [
    "# \"Before and After\" dimension\n",
    "\n",
    "I have loaded the before and after measurements in vectorized format: (before, after), and now I want to access the first and the second elements using a \"Before and After\" hierarchy. "
   ]
  },
  {
   "cell_type": "code",
   "execution_count": 10,
   "metadata": {},
   "outputs": [
    {
     "data": {
      "image/svg+xml": [
       "<svg xmlns=\"http://www.w3.org/2000/svg\" xmlns:xlink=\"http://www.w3.org/1999/xlink\" width=\"513px\" height=\"448px\" viewBox=\"0.00 0.00 512.67 448.00\">\n",
       "<g id=\"graph0\" class=\"graph\" transform=\"scale(1.0 1.0) rotate(0) translate(4 444)\">\n",
       "<title>Observations schema</title>\n",
       "<polygon fill=\"white\" stroke=\"transparent\" points=\"-4,4 -4,-444 508.67,-444 508.67,4 -4,4\"/>\n",
       "<!-- Observations -->\n",
       "<g id=\"node1\" class=\"node\">\n",
       "<title>Observations</title>\n",
       "<polygon fill=\"none\" stroke=\"black\" points=\"8,-400 8,-436 206,-436 206,-400 8,-400\"/>\n",
       "<text text-anchor=\"start\" x=\"70.06\" y=\"-414.8\" font-family=\"Times,serif\" font-weight=\"bold\" font-size=\"14.00\">Observations</text>\n",
       "<polygon fill=\"none\" stroke=\"black\" points=\"8,-364 8,-400 206,-400 206,-364 8,-364\"/>\n",
       "<text text-anchor=\"start\" x=\"19\" y=\"-378.8\" font-family=\"Times,serif\" font-weight=\"bold\" font-size=\"14.00\">Key</text>\n",
       "<text text-anchor=\"start\" x=\"42.32\" y=\"-378.8\" font-family=\"Times,serif\" font-size=\"14.00\">  index </text>\n",
       "<text text-anchor=\"start\" x=\"83.93\" y=\"-378.8\" font-family=\"Times,serif\" font-style=\"italic\" font-size=\"14.00\">long</text>\n",
       "<text text-anchor=\"start\" x=\"108.82\" y=\"-378.8\" font-family=\"Times,serif\" font-size=\"14.00\"> </text>\n",
       "<polygon fill=\"none\" stroke=\"black\" points=\"8,-328 8,-364 206,-364 206,-328 8,-328\"/>\n",
       "<text text-anchor=\"start\" x=\"19\" y=\"-342.8\" font-family=\"Times,serif\" font-size=\"14.00\">first_name </text>\n",
       "<text text-anchor=\"start\" x=\"81.6\" y=\"-342.8\" font-family=\"Times,serif\" font-style=\"italic\" font-size=\"14.00\">String</text>\n",
       "<text text-anchor=\"start\" x=\"115.83\" y=\"-342.8\" font-family=\"Times,serif\" font-size=\"14.00\"> </text>\n",
       "<polygon fill=\"none\" stroke=\"black\" points=\"8,-292 8,-328 206,-328 206,-292 8,-292\"/>\n",
       "<text text-anchor=\"start\" x=\"19\" y=\"-306.8\" font-family=\"Times,serif\" font-size=\"14.00\">last_name </text>\n",
       "<text text-anchor=\"start\" x=\"79.26\" y=\"-306.8\" font-family=\"Times,serif\" font-style=\"italic\" font-size=\"14.00\">String</text>\n",
       "<text text-anchor=\"start\" x=\"113.49\" y=\"-306.8\" font-family=\"Times,serif\" font-size=\"14.00\"> </text>\n",
       "<polygon fill=\"none\" stroke=\"black\" points=\"8,-256 8,-292 206,-292 206,-256 8,-256\"/>\n",
       "<text text-anchor=\"start\" x=\"19\" y=\"-270.8\" font-family=\"Times,serif\" font-size=\"14.00\">age </text>\n",
       "<text text-anchor=\"start\" x=\"41.93\" y=\"-270.8\" font-family=\"Times,serif\" font-style=\"italic\" font-size=\"14.00\">long</text>\n",
       "<text text-anchor=\"start\" x=\"66.82\" y=\"-270.8\" font-family=\"Times,serif\" font-size=\"14.00\"> </text>\n",
       "<polygon fill=\"none\" stroke=\"black\" points=\"8,-220 8,-256 206,-256 206,-220 8,-220\"/>\n",
       "<text text-anchor=\"start\" x=\"19\" y=\"-234.8\" font-family=\"Times,serif\" font-size=\"14.00\">Happy_Sad_group </text>\n",
       "<text text-anchor=\"start\" x=\"127.49\" y=\"-234.8\" font-family=\"Times,serif\" font-style=\"italic\" font-size=\"14.00\">String</text>\n",
       "<text text-anchor=\"start\" x=\"161.71\" y=\"-234.8\" font-family=\"Times,serif\" font-size=\"14.00\"> </text>\n",
       "<polygon fill=\"none\" stroke=\"black\" points=\"8,-184 8,-220 206,-220 206,-184 8,-184\"/>\n",
       "<text text-anchor=\"start\" x=\"19\" y=\"-198.8\" font-family=\"Times,serif\" font-size=\"14.00\">Dosage </text>\n",
       "<text text-anchor=\"start\" x=\"64.49\" y=\"-198.8\" font-family=\"Times,serif\" font-style=\"italic\" font-size=\"14.00\">long</text>\n",
       "<text text-anchor=\"start\" x=\"89.38\" y=\"-198.8\" font-family=\"Times,serif\" font-size=\"14.00\"> </text>\n",
       "<polygon fill=\"none\" stroke=\"black\" points=\"8,-148 8,-184 206,-184 206,-148 8,-148\"/>\n",
       "<text text-anchor=\"start\" x=\"19\" y=\"-162.8\" font-family=\"Times,serif\" font-size=\"14.00\">Drug </text>\n",
       "<text text-anchor=\"start\" x=\"51.27\" y=\"-162.8\" font-family=\"Times,serif\" font-style=\"italic\" font-size=\"14.00\">String</text>\n",
       "<text text-anchor=\"start\" x=\"85.5\" y=\"-162.8\" font-family=\"Times,serif\" font-size=\"14.00\"> </text>\n",
       "<polygon fill=\"none\" stroke=\"black\" points=\"8,-112 8,-148 206,-148 206,-112 8,-112\"/>\n",
       "<text text-anchor=\"start\" x=\"19\" y=\"-126.8\" font-family=\"Times,serif\" font-size=\"14.00\">Mem_Score_Before </text>\n",
       "<text text-anchor=\"start\" x=\"136.02\" y=\"-126.8\" font-family=\"Times,serif\" font-style=\"italic\" font-size=\"14.00\">double</text>\n",
       "<text text-anchor=\"start\" x=\"174.12\" y=\"-126.8\" font-family=\"Times,serif\" font-size=\"14.00\"> </text>\n",
       "<polygon fill=\"none\" stroke=\"black\" points=\"8,-76 8,-112 206,-112 206,-76 8,-76\"/>\n",
       "<text text-anchor=\"start\" x=\"19\" y=\"-90.8\" font-family=\"Times,serif\" font-size=\"14.00\">Mem_Score_After </text>\n",
       "<text text-anchor=\"start\" x=\"127.47\" y=\"-90.8\" font-family=\"Times,serif\" font-style=\"italic\" font-size=\"14.00\">double</text>\n",
       "<text text-anchor=\"start\" x=\"165.57\" y=\"-90.8\" font-family=\"Times,serif\" font-size=\"14.00\"> </text>\n",
       "<polygon fill=\"none\" stroke=\"black\" points=\"8,-40 8,-76 206,-76 206,-40 8,-40\"/>\n",
       "<text text-anchor=\"start\" x=\"19\" y=\"-54.8\" font-family=\"Times,serif\" font-size=\"14.00\">Diff </text>\n",
       "<text text-anchor=\"start\" x=\"45.58\" y=\"-54.8\" font-family=\"Times,serif\" font-style=\"italic\" font-size=\"14.00\">double</text>\n",
       "<text text-anchor=\"start\" x=\"83.68\" y=\"-54.8\" font-family=\"Times,serif\" font-size=\"14.00\"> </text>\n",
       "<polygon fill=\"none\" stroke=\"black\" points=\"8,-4 8,-40 206,-40 206,-4 8,-4\"/>\n",
       "<text text-anchor=\"start\" x=\"18.75\" y=\"-18.8\" font-family=\"Times,serif\" font-size=\"14.00\">MemoryScoresVector </text>\n",
       "<text text-anchor=\"start\" x=\"144.32\" y=\"-18.8\" font-family=\"Times,serif\" font-style=\"italic\" font-size=\"14.00\">double[]</text>\n",
       "<text text-anchor=\"start\" x=\"191.75\" y=\"-18.8\" font-family=\"Times,serif\" font-size=\"14.00\"> </text>\n",
       "</g>\n",
       "<!-- Age Groups -->\n",
       "<g id=\"node2\" class=\"node\">\n",
       "<title>Age Groups</title>\n",
       "<polygon fill=\"none\" stroke=\"black\" points=\"348.17,-305 348.17,-341 466.17,-341 466.17,-305 348.17,-305\"/>\n",
       "<text text-anchor=\"start\" x=\"373.15\" y=\"-319.8\" font-family=\"Times,serif\" font-weight=\"bold\" font-size=\"14.00\">Age Groups</text>\n",
       "<polygon fill=\"none\" stroke=\"black\" points=\"348.17,-269 348.17,-305 466.17,-305 466.17,-269 348.17,-269\"/>\n",
       "<text text-anchor=\"start\" x=\"359.17\" y=\"-283.8\" font-family=\"Times,serif\" font-weight=\"bold\" font-size=\"14.00\">Key</text>\n",
       "<text text-anchor=\"start\" x=\"382.5\" y=\"-283.8\" font-family=\"Times,serif\" font-size=\"14.00\">  age </text>\n",
       "<text text-anchor=\"start\" x=\"412.42\" y=\"-283.8\" font-family=\"Times,serif\" font-style=\"italic\" font-size=\"14.00\">long</text>\n",
       "<text text-anchor=\"start\" x=\"437.31\" y=\"-283.8\" font-family=\"Times,serif\" font-size=\"14.00\"> </text>\n",
       "<polygon fill=\"none\" stroke=\"black\" points=\"348.17,-233 348.17,-269 466.17,-269 466.17,-233 348.17,-233\"/>\n",
       "<text text-anchor=\"start\" x=\"358.76\" y=\"-247.8\" font-family=\"Times,serif\" font-size=\"14.00\">age group </text>\n",
       "<text text-anchor=\"start\" x=\"417.85\" y=\"-247.8\" font-family=\"Times,serif\" font-style=\"italic\" font-size=\"14.00\">String</text>\n",
       "<text text-anchor=\"start\" x=\"452.08\" y=\"-247.8\" font-family=\"Times,serif\" font-size=\"14.00\"> </text>\n",
       "</g>\n",
       "<!-- Observations&#45;&gt;Age Groups -->\n",
       "<g id=\"edge2\" class=\"edge\">\n",
       "<title>Observations-&gt;Age Groups</title>\n",
       "<path fill=\"none\" stroke=\"black\" d=\"M214.38,-243.9C252.44,-252.46 294.55,-261.92 329.59,-269.79\"/>\n",
       "<polygon fill=\"black\" stroke=\"black\" points=\"329.23,-273.3 339.75,-272.08 330.76,-266.47 329.23,-273.3\"/>\n",
       "<text text-anchor=\"middle\" x=\"261.84\" y=\"-262.48\" font-family=\"Times,serif\" font-size=\"14.00\">age → age</text>\n",
       "</g>\n",
       "<!-- Before or After -->\n",
       "<g id=\"node3\" class=\"node\">\n",
       "<title>Before or After</title>\n",
       "<polygon fill=\"none\" stroke=\"black\" points=\"318.17,-171 318.17,-207 497.17,-207 497.17,-171 318.17,-171\"/>\n",
       "<text text-anchor=\"start\" x=\"364.91\" y=\"-185.8\" font-family=\"Times,serif\" font-weight=\"bold\" font-size=\"14.00\">Before or After</text>\n",
       "<polygon fill=\"none\" stroke=\"black\" points=\"318.17,-135 318.17,-171 497.17,-171 497.17,-135 318.17,-135\"/>\n",
       "<text text-anchor=\"start\" x=\"329.13\" y=\"-149.8\" font-family=\"Times,serif\" font-weight=\"bold\" font-size=\"14.00\">Key</text>\n",
       "<text text-anchor=\"start\" x=\"352.46\" y=\"-149.8\" font-family=\"Times,serif\" font-size=\"14.00\">  Before or After </text>\n",
       "<text text-anchor=\"start\" x=\"448.48\" y=\"-149.8\" font-family=\"Times,serif\" font-style=\"italic\" font-size=\"14.00\">String</text>\n",
       "<text text-anchor=\"start\" x=\"482.71\" y=\"-149.8\" font-family=\"Times,serif\" font-size=\"14.00\"> </text>\n",
       "<polygon fill=\"none\" stroke=\"black\" points=\"318.17,-99 318.17,-135 497.17,-135 497.17,-99 318.17,-99\"/>\n",
       "<text text-anchor=\"start\" x=\"329.17\" y=\"-113.8\" font-family=\"Times,serif\" font-size=\"14.00\">Before or After__index </text>\n",
       "<text text-anchor=\"start\" x=\"463.3\" y=\"-113.8\" font-family=\"Times,serif\" font-style=\"italic\" font-size=\"14.00\">int</text>\n",
       "<text text-anchor=\"start\" x=\"478.08\" y=\"-113.8\" font-family=\"Times,serif\" font-size=\"14.00\"> </text>\n",
       "</g>\n",
       "<!-- Observations&#45;&gt;Before or After -->\n",
       "<g id=\"edge1\" class=\"edge\">\n",
       "<title>Observations-&gt;Before or After</title>\n",
       "<path fill=\"none\" stroke=\"black\" stroke-dasharray=\"5,2\" d=\"M214.38,-196.1C241.94,-189.9 271.62,-183.23 299.21,-177.03\"/>\n",
       "<polygon fill=\"black\" stroke=\"black\" points=\"300.28,-180.38 309.27,-174.77 298.75,-173.55 300.28,-180.38\"/>\n",
       "</g>\n",
       "</g>\n",
       "</svg>"
      ],
      "text/plain": [
       "<IPython.core.display.SVG object>"
      ]
     },
     "metadata": {},
     "output_type": "display_data"
    }
   ],
   "source": [
    "cube.create_parameter_hierarchy(\n",
    "    \"Before or After\", [\"Before\", \"After\"], index_measure=\"Before After Index\"\n",
    ")\n",
    "\n",
    "# Setting the Before and After to slicing to switch off\n",
    "# the aggregation between before and after measurements\n",
    "h[\"Before or After\"].slicing = True\n",
    "\n",
    "# Sorting the hierarchy, so that the Before measurements show first:\n",
    "l[\"Before or After\"].comparator = tt.comparator.DESC\n",
    "\n",
    "# The new parameter hierarchy is visible in the cube schema:\n",
    "display(cube.schema)\n",
    "\n",
    "# Now having created a hierarchy for the \"Before\" and \"After\", let's link it to the \"MemoryScores\" vector\n",
    "m[\"MemoryScores\"] = m[\"MemoryScoresVector.MEAN\"][m[\"Before After Index\"]]"
   ]
  },
  {
   "cell_type": "markdown",
   "metadata": {},
   "source": [
    "From the following visualization we can tell, that on average:\n",
    "-    for the Drug **\"T\"** memory scores **did not increase** in all age groups,\n",
    "-    for the Drug **\"A\"** memory scores **increased in both age groups**, with a bigger impact in group 25Y-50Y,\n",
    "-    for the Drug **\"S\"** the scores **fluctuated**, they slighly decreased and slighly increased in groups 25Y-50Y and 50Y+ accordingly."
   ]
  },
  {
   "cell_type": "code",
   "execution_count": 12,
   "metadata": {
    "atoti": {
     "state": {
      "name": "Average memory score by drug",
      "type": "container",
      "value": {
       "body": {
        "configuration": {
         "mapping": {
          "horizontalSubplots": [
           "[Hierarchies].[Drug].[Drug]"
          ],
          "splitBy": [
           "[Hierarchies].[Before or After].[Before or After]"
          ],
          "values": [
           "[Measures].[MemoryScores]"
          ],
          "verticalSubplots": [],
          "xAxis": [
           "[Hierarchies].[age group].[age group]"
          ]
         },
         "subplotModeEnabled": true,
         "switchedTo": "plotly-clustered-column-chart",
         "type": "plotly-line-chart"
        },
        "query": {
         "mdx": "SELECT NON EMPTY [Measures].[MemoryScores] ON COLUMNS, NON EMPTY Crossjoin([Hierarchies].[age group].[age group].Members, [Hierarchies].[Before or After].[Before or After].Members, [Hierarchies].[Drug].[Drug].Members) ON ROWS FROM [Observations] CELL PROPERTIES VALUE, FORMATTED_VALUE, BACK_COLOR, FORE_COLOR, FONT_FLAGS",
         "serverUrl": "",
         "updateMode": "once"
        }
       },
       "containerKey": "chart",
       "showTitleBar": false,
       "style": {}
      }
     }
    }
   },
   "outputs": [
    {
     "data": {
      "application/vnd.atoti.v0+json": {
       "cube": "Observations",
       "name": "Average memory score by drug",
       "session": "Unnamed"
      },
      "text/plain": [
       "Install and enable the atoti JupyterLab extension to see this widget."
      ]
     },
     "metadata": {},
     "output_type": "display_data"
    }
   ],
   "source": [
    "cube.visualize(\"Average memory score by drug\")"
   ]
  },
  {
   "cell_type": "markdown",
   "metadata": {},
   "source": [
    "# Slice-and-dice basic statistics"
   ]
  },
  {
   "cell_type": "code",
   "execution_count": 13,
   "metadata": {},
   "outputs": [],
   "source": [
    "m[\"Mean\"] = tt.agg.mean(m[\"MemoryScores\"], scope=tt.scope.origin(l[\"index\"]))\n",
    "m[\"Mean\"] = tt.agg.mean(m[\"MemoryScores\"], scope=tt.scope.origin(l[\"index\"]))\n",
    "m[\"Std\"] = tt.agg.std(m[\"MemoryScores\"], scope=tt.scope.origin(l[\"index\"]))\n",
    "m[\"Min\"] = tt.agg.min(m[\"MemoryScores\"], scope=tt.scope.origin(l[\"index\"]))\n",
    "m[\"Max\"] = tt.agg.max(m[\"MemoryScores\"], scope=tt.scope.origin(l[\"index\"]))\n",
    "m[\"25%\"] = tt.agg.quantile(m[\"MemoryScores\"], 0.25, scope=tt.scope.origin(l[\"index\"]))\n",
    "m[\"50%\"] = tt.agg.quantile(m[\"MemoryScores\"], 0.50, scope=tt.scope.origin(l[\"index\"]))\n",
    "m[\"75%\"] = tt.agg.quantile(m[\"MemoryScores\"], 0.75, scope=tt.scope.origin(l[\"index\"]))"
   ]
  },
  {
   "cell_type": "markdown",
   "metadata": {},
   "source": [
    "We can now slice-and-dice those statistics using any attribute available in the data.\n",
    "\n",
    "This is an example, where the Happy or Sad field has been put onto the columns. Every time I bring an additional attribute into the view, the statistics - such averages, standard deviation and quantiles - are recomputed from the raw data."
   ]
  },
  {
   "cell_type": "code",
   "execution_count": 17,
   "metadata": {
    "atoti": {
     "state": {
      "name": "Basic statistics slice-and-dice",
      "type": "container",
      "value": {
       "body": {
        "configuration": {
         "tabular": {
          "addButtonFilter": "numeric",
          "cellRenderers": [
           "tree-layout"
          ],
          "columns": [
           {
            "key": "c-treeCells-member",
            "width": 127
           }
          ],
          "columnsGroups": [
           {
            "captionProducer": "firstColumn",
            "cellFactory": "kpi-status",
            "selector": "kpi-status"
           },
           {
            "captionProducer": "firstColumn",
            "cellFactory": "lookup",
            "selector": "lookup"
           },
           {
            "captionProducer": "expiry",
            "cellFactory": "expiry",
            "selector": "kpi-expiry"
           },
           {
            "captionProducer": "columnMerge",
            "cellFactory": {
             "args": {},
             "key": "treeCells"
            },
            "selector": "member"
           }
          ],
          "defaultOptions": {},
          "expansion": {
           "automaticExpansion": true
          },
          "hideAddButton": true,
          "pinnedHeaderSelector": "member",
          "sortingMode": "non-breaking",
          "statisticsShown": true
         }
        },
        "contextValues": {},
        "mdx": "SELECT NON EMPTY Crossjoin(Hierarchize([Hierarchies].[Before or After].[Before or After].Members), Hierarchize(DrilldownLevel([Hierarchies].[Happy_Sad_group].[ALL].[AllMember]))) ON COLUMNS, NON EMPTY {[Measures].[contributors.COUNT], [Measures].[Mean], [Measures].[Std], [Measures].[Min], [Measures].[25%], [Measures].[50%], [Measures].[75%], [Measures].[Max]} ON ROWS FROM [Observations] CELL PROPERTIES VALUE, FORMATTED_VALUE, BACK_COLOR, FORE_COLOR, FONT_FLAGS",
        "ranges": {
         "column": {
          "chunkSize": 50,
          "thresholdPercentage": 0.2
         },
         "row": {
          "chunkSize": 2000,
          "thresholdPercentage": 0.1
         }
        },
        "serverUrl": "",
        "updateMode": "once"
       },
       "containerKey": "pivot-table",
       "showTitleBar": false,
       "style": {}
      }
     }
    }
   },
   "outputs": [
    {
     "data": {
      "application/vnd.atoti.v0+json": {
       "cube": "Observations",
       "name": "Basic statistics slice-and-dice",
       "session": "Unnamed"
      },
      "text/plain": [
       "Install and enable the atoti JupyterLab extension to see this widget."
      ]
     },
     "metadata": {},
     "output_type": "display_data"
    }
   ],
   "source": [
    "cube.visualize(\"Basic statistics slice-and-dice\")"
   ]
  },
  {
   "cell_type": "markdown",
   "metadata": {},
   "source": [
    "# Interactive Z confidence interval"
   ]
  },
  {
   "cell_type": "code",
   "execution_count": 18,
   "metadata": {},
   "outputs": [],
   "source": [
    "alpha = 0.05\n",
    "\n",
    "m[\"95% point\"] = norm.ppf(1 - alpha / 2.0)\n",
    "m[\"Z confidence left\"] = m[\"Mean\"] - m[\"95% point\"] * m[\"Std\"]\n",
    "m[\"Z confidence right\"] = m[\"Mean\"] + m[\"95% point\"] * m[\"Std\"]"
   ]
  },
  {
   "cell_type": "markdown",
   "metadata": {},
   "source": [
    "We have just created the metrics to visualize confidence intervals interactively."
   ]
  },
  {
   "cell_type": "code",
   "execution_count": 20,
   "metadata": {
    "atoti": {
     "state": {
      "name": "Interactive confidence intervals",
      "type": "container",
      "value": {
       "body": {
        "configuration": {
         "tabular": {
          "addButtonFilter": "numeric",
          "cellRenderers": [
           "tree-layout"
          ],
          "columns": [],
          "columnsGroups": [
           {
            "captionProducer": "firstColumn",
            "cellFactory": "kpi-status",
            "selector": "kpi-status"
           },
           {
            "captionProducer": "firstColumn",
            "cellFactory": "lookup",
            "selector": "lookup"
           },
           {
            "captionProducer": "expiry",
            "cellFactory": "expiry",
            "selector": "kpi-expiry"
           },
           {
            "captionProducer": "columnMerge",
            "cellFactory": {
             "args": {},
             "key": "treeCells"
            },
            "selector": "member"
           }
          ],
          "defaultOptions": {
           "headerHeight": 51
          },
          "expansion": {
           "automaticExpansion": true
          },
          "hideAddButton": true,
          "pinnedHeaderSelector": "member",
          "sortingMode": "non-breaking",
          "statisticsShown": true
         }
        },
        "contextValues": {},
        "mdx": "SELECT NON EMPTY Crossjoin(Hierarchize([Hierarchies].[Before or After].[Before or After].Members), {[Measures].[Z confidence left], [Measures].[Z confidence right]}) ON COLUMNS, NON EMPTY Hierarchize(Union(Crossjoin(DrilldownLevel([Hierarchies].[Drug].[ALL].[AllMember]), [Hierarchies].[age group].DefaultMember), Crossjoin([Hierarchies].[Drug].[ALL].[AllMember].[A], [Hierarchies].[age group].[age group].Members))) ON ROWS FROM [Observations] CELL PROPERTIES VALUE, FORMATTED_VALUE, BACK_COLOR, FORE_COLOR, FONT_FLAGS",
        "ranges": {
         "column": {
          "chunkSize": 50,
          "thresholdPercentage": 0.2
         },
         "row": {
          "chunkSize": 2000,
          "thresholdPercentage": 0.1
         }
        },
        "serverUrl": "",
        "updateMode": "once"
       },
       "containerKey": "pivot-table",
       "showTitleBar": false,
       "style": {}
      }
     }
    }
   },
   "outputs": [
    {
     "data": {
      "application/vnd.atoti.v0+json": {
       "cube": "Observations",
       "name": "Interactive confidence intervals",
       "session": "Unnamed"
      },
      "text/plain": [
       "Install and enable the atoti JupyterLab extension to see this widget."
      ]
     },
     "metadata": {},
     "output_type": "display_data"
    }
   ],
   "source": [
    "cube.visualize(\"Interactive confidence intervals\")"
   ]
  },
  {
   "cell_type": "markdown",
   "metadata": {},
   "source": [
    "# Refining the application"
   ]
  },
  {
   "cell_type": "code",
   "execution_count": 21,
   "metadata": {},
   "outputs": [],
   "source": [
    "# This cell is hiding undesired metrics created by default.\n",
    "# To create a cube without any default metrics, create_cube need to be used with parameter mode = `no_measures`\n",
    "m[\"MemoryScoresVector.SUM\"].visible = False\n",
    "m[\"MemoryScoresVector.MEAN\"].visible = False\n",
    "m[\"Mem_Score_Before.SUM\"].visible = False\n",
    "m[\"Mem_Score_After.SUM\"].visible = False\n",
    "m[\"Diff.SUM\"].visible = False\n",
    "m[\"Diff.MEAN\"].formatter = \"DOUBLE[0.00]\""
   ]
  },
  {
   "cell_type": "markdown",
   "metadata": {},
   "source": [
    "# Paired t-test\n",
    "\n",
    "Let's see how a paired t-test can be applied in atoti.\n",
    "\n",
    "A [paired t-test](https://en.wikipedia.org/wiki/Student%27s_t-test#Paired_samples) is a classical routine that can help testing a medication efficacy, given the before and after measurements. We will check that the data provides evidence that will allow us to reject the null hypothesis:\n",
    "\n",
    "- H0: on average, there's no difference in observations before and after, $\\mu_{diff}=0$\n",
    "- H1: on average, the score after is bigger than before, $\\mu_{diff}>0$"
   ]
  },
  {
   "cell_type": "markdown",
   "metadata": {},
   "source": [
    "To compute the t-statistic, we'd need mean, stdev and the number of observations:\n",
    "\n",
    "$$t_{statistic} = \\frac{\\bar{x}}{s/\\sqrt{n}}$$\n",
    "\n",
    "The measure for the mean $\\bar{x}$ - `Diff.MEAN` - and a measure for the number of observations $n$ - `contributors.COUNT` - were created automatically upon cube creation. Let's add a measure to compute stdev $s$."
   ]
  },
  {
   "cell_type": "code",
   "execution_count": 22,
   "metadata": {},
   "outputs": [],
   "source": [
    "# Measure displaying individual differences:\n",
    "m[\"Diff\"] = tt.agg.single_value(observations_datastore[\"Diff\"])\n",
    "\n",
    "# Computing standard deviation of differences:\n",
    "m[\"Diff.Std\"] = tt.agg.std(m[\"Diff\"], scope=tt.scope.origin(l[\"index\"]))\n",
    "\n",
    "# Computing the t-statistic per formula above:\n",
    "m[\"t-statistic\"] = m[\"Diff.MEAN\"] / (m[\"Diff.Std\"] / tt.sqrt(m[\"contributors.COUNT\"]))\n",
    "m[\"t-statistic\"].formatter = \"DOUBLE[0.00]\""
   ]
  },
  {
   "cell_type": "markdown",
   "metadata": {},
   "source": [
    "We will be comparing the `t-statistic` to the right tail _critical value_, and if it's above the critical value, we will conclude that the data provides the evidence to reject the null hypothesis. Let's load 95% critical value into the cube."
   ]
  },
  {
   "cell_type": "markdown",
   "metadata": {},
   "source": [
    "Now, depending on the number of observations for each cell, we will pick a critical value and visualize it as a measure:"
   ]
  },
  {
   "cell_type": "code",
   "execution_count": 23,
   "metadata": {},
   "outputs": [],
   "source": [
    "# Loading a \"table\" of critical values, 101 values in total.\n",
    "m[\"t-critical values list\"] = [t.ppf(0.95, d) for d in range(1, 101)] + [1.645]\n",
    "\n",
    "# Computing degrees of freedom as the number of observations minus 1:\n",
    "df = m[\"contributors.COUNT\"] - 1\n",
    "\n",
    "# Shifting the df by -1 to use as an index and pick up critical value from the list:\n",
    "df_as_index = df - 1\n",
    "\n",
    "# If there're too many observations (more than 101), we'll cap it:\n",
    "capped_df_as_index = tt.where(df_as_index > 100, 100, df_as_index)\n",
    "\n",
    "# This measure will be looking up a critical value for the current scope:\n",
    "m[\"t-critical\"] = m[\"t-critical values list\"][capped_df_as_index]"
   ]
  },
  {
   "cell_type": "markdown",
   "metadata": {},
   "source": [
    "This measure is displaying wether the observed t-statistics is to the right from the critical value, i.e. there's evidence that H0 can be rejected. It will visualize the result of t-test every time we expand and collapse data."
   ]
  },
  {
   "cell_type": "code",
   "execution_count": 24,
   "metadata": {},
   "outputs": [],
   "source": [
    "m[\"Test Result\"] = tt.where(\n",
    "    m[\"t-statistic\"] > m[\"t-critical\"], \"H0 rejected\", \"Can't reject H0\"\n",
    ")"
   ]
  },
  {
   "cell_type": "markdown",
   "metadata": {},
   "source": [
    "In the next session we'll see how to use the measure created above to visualize the test result."
   ]
  },
  {
   "cell_type": "markdown",
   "metadata": {},
   "source": [
    "# Interactive hypothesis testing"
   ]
  },
  {
   "cell_type": "markdown",
   "metadata": {},
   "source": [
    "Now we can experiment and re-group our data and apply the test interactively.\n",
    "\n",
    "We expand by the name of the drug, then by dosages, then by patient \"Happy/Sad\" group, and this is what we found out:\n",
    "\n",
    "- there's an evidence that **Drug A** was efficient overall, while drugs \"S\", \"T\" did not provide a significant improvement in the memory scores, \n",
    "- when we break down the Drug A observations **by dosage** -  we notice that only the dosages 1 and 2 are statistically efficient, \n",
    "- if we further expand to \"Happy/Sad\" group, and for the \"Happy\" patients only the higher dosage impacted the memory score."
   ]
  },
  {
   "cell_type": "code",
   "execution_count": 26,
   "metadata": {
    "atoti": {
     "state": {
      "name": "",
      "type": "container",
      "value": {
       "body": {
        "configuration": {
         "tabular": {
          "addButtonFilter": "numeric",
          "cellRenderers": [
           "tree-layout"
          ],
          "columns": [
           {
            "key": "c-treeCells-member",
            "width": 153
           }
          ],
          "columnsGroups": [
           {
            "captionProducer": "firstColumn",
            "cellFactory": "kpi-status",
            "selector": "kpi-status"
           },
           {
            "captionProducer": "firstColumn",
            "cellFactory": "lookup",
            "selector": "lookup"
           },
           {
            "captionProducer": "expiry",
            "cellFactory": "expiry",
            "selector": "kpi-expiry"
           },
           {
            "captionProducer": "columnMerge",
            "cellFactory": {
             "args": {},
             "key": "treeCells"
            },
            "selector": "member"
           }
          ],
          "defaultOptions": {
           "headerHeight": 58
          },
          "expansion": {
           "automaticExpansion": true
          },
          "hideAddButton": true,
          "pinnedHeaderSelector": "member",
          "sortingMode": "non-breaking",
          "statisticsShown": true
         }
        },
        "contextValues": {},
        "mdx": "WITH  Member [Measures].[Test Result (1)] AS [Measures].[Test Result], BACK_COLOR = CASE WHEN [Measures].[Test Result (1)] = \"H0 rejected\" THEN rgb(217, 234, 211) END, CAPTION = [Measures].[Test Result].MEMBER_CAPTION  SELECT NON EMPTY {[Measures].[Test Result (1)], [Measures].[contributors.COUNT], [Measures].[t-statistic], [Measures].[t-critical], [Measures].[Diff.MEAN], [Measures].[Mem_Score_After.MEAN], [Measures].[Mem_Score_Before.MEAN]} ON COLUMNS, NON EMPTY Except(Hierarchize(Union(Crossjoin(DrilldownLevel([Hierarchies].[Drug].[ALL].[AllMember]), [Hierarchies].[Dosage].DefaultMember), Crossjoin([Hierarchies].[Drug].[ALL].[AllMember].[A], [Hierarchies].[Dosage].DefaultMember), Crossjoin([Hierarchies].[Drug].[ALL].[AllMember].[S], [Hierarchies].[Dosage].DefaultMember), Crossjoin([Hierarchies].[Drug].[ALL].[AllMember].[A], Descendants({[Hierarchies].[Dosage].[ALL].[AllMember]}, [Hierarchies].[Dosage].[Dosage])), Crossjoin([Hierarchies].[Drug].[ALL].[AllMember].[Drug S], [Hierarchies].[Dosage].[Dosage].Members))), Crossjoin([Hierarchies].[Drug].[ALL].[AllMember].[S], [Hierarchies].[Dosage].[Dosage].Members)) ON ROWS FROM [Observations] CELL PROPERTIES BACK_COLOR, FONT_FLAGS, FORE_COLOR, FORMATTED_VALUE, VALUE",
        "ranges": {
         "column": {
          "chunkSize": 50,
          "thresholdPercentage": 0.2
         },
         "row": {
          "chunkSize": 2000,
          "thresholdPercentage": 0.1
         }
        },
        "serverUrl": "",
        "updateMode": "once"
       },
       "containerKey": "pivot-table",
       "showTitleBar": false,
       "style": {}
      }
     }
    }
   },
   "outputs": [
    {
     "data": {
      "application/vnd.atoti.v0+json": {
       "cube": "Observations",
       "name": null,
       "session": "Unnamed"
      },
      "text/plain": [
       "Install and enable the atoti JupyterLab extension to see this widget."
      ]
     },
     "metadata": {},
     "output_type": "display_data"
    }
   ],
   "source": [
    "cube.visualize()"
   ]
  },
  {
   "cell_type": "markdown",
   "metadata": {},
   "source": [
    "# Quick simulation\n",
    "\n",
    "Let's make a quick comparison of the test results under the 95%, 97.5%, 99% confidence levels by loading new critical values into simulations. As a reminder, we've been using the 95% critical values so far."
   ]
  },
  {
   "cell_type": "code",
   "execution_count": 27,
   "metadata": {},
   "outputs": [],
   "source": [
    "# creating a new simulation to override critical values, and giving a name to the initial values\n",
    "confidence_levels = cube.setup_simulation(\n",
    "    \"Confidence Levels\", replace=[m[\"t-critical values list\"]], base_scenario=\"95%\"\n",
    ").scenarios\n",
    "# creating new critical values based on 0.975 and 0.99 confidence levels\n",
    "confidence_levels[\"97.5%\"] = [t.ppf(0.975, d) for d in range(1, 101)] + [1.960]\n",
    "confidence_levels[\"99%\"] = [t.ppf(0.99, d) for d in range(1, 101)] + [2.326]"
   ]
  },
  {
   "cell_type": "markdown",
   "metadata": {},
   "source": [
    "The below calculations show that for Drug S and Dosage 1, the hypothesis would be accepted at 95% and 97.5% level. But the increase in the memory score is quite small. Testing at 99% confidence level doesn't allow to reject the null hypothesis, that there's no much difference in the memory scores before and after treatment with Drug S and Dosage 1."
   ]
  },
  {
   "cell_type": "code",
   "execution_count": 29,
   "metadata": {
    "atoti": {
     "state": {
      "name": "",
      "type": "container",
      "value": {
       "body": {
        "configuration": {
         "tabular": {
          "addButtonFilter": "numeric",
          "cellRenderers": [
           "tree-layout"
          ],
          "columns": [
           {
            "key": "c-treeCells-member",
            "width": 132
           }
          ],
          "columnsGroups": [
           {
            "captionProducer": "firstColumn",
            "cellFactory": "kpi-status",
            "selector": "kpi-status"
           },
           {
            "captionProducer": "firstColumn",
            "cellFactory": "lookup",
            "selector": "lookup"
           },
           {
            "captionProducer": "expiry",
            "cellFactory": "expiry",
            "selector": "kpi-expiry"
           },
           {
            "captionProducer": "columnMerge",
            "cellFactory": {
             "args": {},
             "key": "treeCells"
            },
            "selector": "member"
           }
          ],
          "defaultOptions": {},
          "expansion": {
           "automaticExpansion": true
          },
          "hideAddButton": true,
          "pinnedHeaderSelector": "member",
          "sortingMode": "non-breaking",
          "statisticsShown": true
         }
        },
        "contextValues": {},
        "mdx": "WITH  Member [Measures].[Test Result (1)] AS [Measures].[Test Result], BACK_COLOR = CASE WHEN [Measures].[Test Result (1)] = \"H0 rejected\" THEN rgb(217, 234, 211) END, CAPTION = [Measures].[Test Result].MEMBER_CAPTION  SELECT NON EMPTY Crossjoin({[Measures].[Test Result (1)], [Measures].[contributors.COUNT], [Measures].[Diff.MEAN]}, Hierarchize([Measure Simulations].[Confidence Levels].[Confidence Levels].Members)) ON COLUMNS, NON EMPTY Except(Crossjoin(Hierarchize(Union(DrilldownLevel([Hierarchies].[Drug].[ALL].[AllMember]), [Hierarchies].[Drug].[ALL].[AllMember].[Drug A], [Hierarchies].[Drug].[ALL].[AllMember].[Drug S], [Hierarchies].[Drug].[ALL].[AllMember].[Drug T])), Hierarchize(DrilldownLevel([Hierarchies].[Dosage].[ALL].[AllMember]))), Union(Crossjoin([Hierarchies].[Drug].[ALL].[AllMember].[Drug A], [Hierarchies].[Dosage].[Dosage].Members), Crossjoin([Hierarchies].[Drug].[ALL].[AllMember].[Drug T], [Hierarchies].[Dosage].[Dosage].Members))) ON ROWS FROM [Observations] CELL PROPERTIES BACK_COLOR, FONT_FLAGS, FORE_COLOR, FORMATTED_VALUE, VALUE",
        "ranges": {
         "column": {
          "chunkSize": 50,
          "thresholdPercentage": 0.2
         },
         "row": {
          "chunkSize": 2000,
          "thresholdPercentage": 0.1
         }
        },
        "serverUrl": "",
        "updateMode": "once"
       },
       "containerKey": "pivot-table",
       "showTitleBar": false,
       "style": {}
      }
     }
    }
   },
   "outputs": [
    {
     "data": {
      "application/vnd.atoti.v0+json": {
       "cube": "Observations",
       "name": null,
       "session": "Unnamed"
      },
      "text/plain": [
       "Install and enable the atoti JupyterLab extension to see this widget."
      ]
     },
     "metadata": {},
     "output_type": "display_data"
    }
   ],
   "source": [
    "cube.visualize()"
   ]
  },
  {
   "cell_type": "markdown",
   "metadata": {},
   "source": [
    "# Conclusion\n",
    "\n",
    "In this notebook we have configured an analytical application for **exploratory data analysis**, that allows to **interactively browse** the data and re-compute statistics, such as mean, stdev, etc, as well as more complex functions - such as hypothesis test metrics - **on-the-fly**. Eventhough the example has a handfull of observation, atoti's backend is designed to handle big data. Please refer to this white page is you want to learn about the [technology](https://activeviam.com/images/pdf/white-papers/ActiveViam_Technical_White_Paper_-_ActivePivot.pdf) on atoti's backend.\n",
    "\n",
    "The application comes with a **user interface**, so the results of the analysis can be visualized in a dashboard and presented to users:\n"
   ]
  },
  {
   "cell_type": "code",
   "execution_count": 30,
   "metadata": {},
   "outputs": [
    {
     "data": {
      "text/plain": [
       "'http://localhost:60829/#/dashboard/3f7'"
      ]
     },
     "execution_count": 30,
     "metadata": {},
     "output_type": "execute_result"
    }
   ],
   "source": [
    "session.url + \"/#/dashboard/3f7\""
   ]
  }
 ],
 "metadata": {
  "kernelspec": {
   "display_name": "Python 3",
   "language": "python",
   "name": "python3"
  },
  "language_info": {
   "codemirror_mode": {
    "name": "ipython",
    "version": 3
   },
   "file_extension": ".py",
   "mimetype": "text/x-python",
   "name": "python",
   "nbconvert_exporter": "python",
   "pygments_lexer": "ipython3",
   "version": "3.8.5"
  }
 },
 "nbformat": 4,
 "nbformat_minor": 4
}
