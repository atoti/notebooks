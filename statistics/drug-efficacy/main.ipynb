{
 "cells": [
  {
   "cell_type": "markdown",
   "metadata": {},
   "source": [
    "# Interactive hypothesis testing\n",
    "\n",
    "If you need to test a hypothesis interactively along multiple dimensions or their combinations, check out the example below that demonstrates how this can be achieved with [atoti](https://docs.atoti.io).\n",
    "\n",
    "atoti provides a python interface to define custom aggregation functions - we will look at an example on implementing a [paired t-test](https://en.wikipedia.org/wiki/Student's_t-test#Paired_samples) as an aggregation function. Plus, it provides an interface to create dashboards that can be shared with team members.\n",
    "\n",
    "<img src=\"./app-preview.gif\" alt=\"Interactive app preview\" width=\"70%\" style=\"display:block;margin-left: auto;margin-right: auto;\">"
   ]
  },
  {
   "cell_type": "markdown",
   "metadata": {},
   "source": [
    "In this notebook we will be studying the impact of certain anti-anxiety medicine as well as a person’s mood on **memory recall ability** - based on a dataset from a kaggle user submission - [Islanders data](https://www.kaggle.com/steveahn/memory-test-on-drugged-islanders-data): \n",
    "\n",
    "- Dataset contains observations on treatment with Alprazolam and Triazolam, as well as Sugar (in the control group) - see column **Drug** below,\n",
    "- Trials has been collected for different dosages - see column **Dosage**\n",
    "- Participants were primed with happy and sad memories ten minutes before the memory test - see column **Happy_Sad_group** as it is believed that a person's mood may impact memory recall.\n",
    "- Memory scores represent response time, i.e. how long it takes to finish the memory test. Higher Memory scores means the ability actually reduces\n",
    "\n",
    "![Experiment schema](./experiment-schema.png)\n",
    "\n",
    "We will implement measures that evaluate the effect of drugs onto memory recall and visualize the result returning \"H0 rejected\" if data provides evidence that the average response time increases after the treatment. "
   ]
  },
  {
   "cell_type": "markdown",
   "metadata": {},
   "source": [
    "# Imports"
   ]
  },
  {
   "cell_type": "code",
   "execution_count": 1,
   "metadata": {},
   "outputs": [
    {
     "name": "stdout",
     "output_type": "stream",
     "text": [
      "Requirement already satisfied: scipy in /home/jbe/.conda/envs/release/lib/python3.8/site-packages (1.5.2)\n",
      "Requirement already satisfied: numpy>=1.14.5 in /home/jbe/.conda/envs/release/lib/python3.8/site-packages (from scipy) (1.19.1)\n"
     ]
    }
   ],
   "source": [
    "!pip install scipy"
   ]
  },
  {
   "cell_type": "code",
   "execution_count": 2,
   "metadata": {},
   "outputs": [],
   "source": [
    "import pandas as pd\n",
    "from scipy.stats import norm, t"
   ]
  },
  {
   "cell_type": "code",
   "execution_count": 3,
   "metadata": {},
   "outputs": [
    {
     "name": "stdout",
     "output_type": "stream",
     "text": [
      "Welcome to atoti 0.4.3!\n",
      "\n",
      "By using this community edition, you agree with the license available at https://www.atoti.io/eula.\n",
      "Browse the official documentation at https://docs.atoti.io.\n",
      "Join the community at https://www.atoti.io/register.\n",
      "\n",
      "You can hide this message by setting the ATOTI_HIDE_EULA_MESSAGE environment variable to True.\n"
     ]
    }
   ],
   "source": [
    "import atoti as tt"
   ]
  },
  {
   "cell_type": "markdown",
   "metadata": {},
   "source": [
    "## Raw data"
   ]
  },
  {
   "cell_type": "code",
   "execution_count": 4,
   "metadata": {},
   "outputs": [
    {
     "data": {
      "text/html": [
       "<div>\n",
       "<style scoped>\n",
       "    .dataframe tbody tr th:only-of-type {\n",
       "        vertical-align: middle;\n",
       "    }\n",
       "\n",
       "    .dataframe tbody tr th {\n",
       "        vertical-align: top;\n",
       "    }\n",
       "\n",
       "    .dataframe thead th {\n",
       "        text-align: right;\n",
       "    }\n",
       "</style>\n",
       "<table border=\"1\" class=\"dataframe\">\n",
       "  <thead>\n",
       "    <tr style=\"text-align: right;\">\n",
       "      <th></th>\n",
       "      <th>Patient_Id</th>\n",
       "      <th>first_name</th>\n",
       "      <th>last_name</th>\n",
       "      <th>age</th>\n",
       "      <th>Happy_Sad_group</th>\n",
       "      <th>Dosage</th>\n",
       "      <th>Drug</th>\n",
       "      <th>Before or After</th>\n",
       "      <th>MemoryScores</th>\n",
       "    </tr>\n",
       "  </thead>\n",
       "  <tbody>\n",
       "    <tr>\n",
       "      <th>335</th>\n",
       "      <td>Patient_137</td>\n",
       "      <td>William</td>\n",
       "      <td>Carrasco</td>\n",
       "      <td>62</td>\n",
       "      <td>Happy</td>\n",
       "      <td>1</td>\n",
       "      <td>Triazolam</td>\n",
       "      <td>After</td>\n",
       "      <td>102.0</td>\n",
       "    </tr>\n",
       "    <tr>\n",
       "      <th>55</th>\n",
       "      <td>Patient_55</td>\n",
       "      <td>Daichi</td>\n",
       "      <td>Gonzalez</td>\n",
       "      <td>68</td>\n",
       "      <td>Happy</td>\n",
       "      <td>3</td>\n",
       "      <td>Alprazolam</td>\n",
       "      <td>Before</td>\n",
       "      <td>41.9</td>\n",
       "    </tr>\n",
       "    <tr>\n",
       "      <th>253</th>\n",
       "      <td>Patient_55</td>\n",
       "      <td>Daichi</td>\n",
       "      <td>Gonzalez</td>\n",
       "      <td>68</td>\n",
       "      <td>Happy</td>\n",
       "      <td>3</td>\n",
       "      <td>Alprazolam</td>\n",
       "      <td>After</td>\n",
       "      <td>67.4</td>\n",
       "    </tr>\n",
       "    <tr>\n",
       "      <th>353</th>\n",
       "      <td>Patient_155</td>\n",
       "      <td>Chloe</td>\n",
       "      <td>Carrasco</td>\n",
       "      <td>60</td>\n",
       "      <td>Happy</td>\n",
       "      <td>2</td>\n",
       "      <td>Triazolam</td>\n",
       "      <td>After</td>\n",
       "      <td>73.1</td>\n",
       "    </tr>\n",
       "    <tr>\n",
       "      <th>368</th>\n",
       "      <td>Patient_170</td>\n",
       "      <td>Conor</td>\n",
       "      <td>Novak</td>\n",
       "      <td>38</td>\n",
       "      <td>Sad</td>\n",
       "      <td>2</td>\n",
       "      <td>Triazolam</td>\n",
       "      <td>After</td>\n",
       "      <td>47.4</td>\n",
       "    </tr>\n",
       "  </tbody>\n",
       "</table>\n",
       "</div>"
      ],
      "text/plain": [
       "      Patient_Id first_name last_name  age Happy_Sad_group  Dosage  \\\n",
       "335  Patient_137    William  Carrasco   62           Happy       1   \n",
       "55    Patient_55     Daichi  Gonzalez   68           Happy       3   \n",
       "253   Patient_55     Daichi  Gonzalez   68           Happy       3   \n",
       "353  Patient_155      Chloe  Carrasco   60           Happy       2   \n",
       "368  Patient_170      Conor     Novak   38             Sad       2   \n",
       "\n",
       "           Drug Before or After  MemoryScores  \n",
       "335   Triazolam           After         102.0  \n",
       "55   Alprazolam          Before          41.9  \n",
       "253  Alprazolam           After          67.4  \n",
       "353   Triazolam           After          73.1  \n",
       "368   Triazolam           After          47.4  "
      ]
     },
     "execution_count": 4,
     "metadata": {},
     "output_type": "execute_result"
    }
   ],
   "source": [
    "# Example data is taken from kaggle user submission:\n",
    "# https://www.kaggle.com/steveahn/memory-test-on-drugged-islanders-data\n",
    "# The example was slightly pre-processed for convenience.\n",
    "df = pd.read_csv(\"https://data.atoti.io/notebooks/drug-efficacy/Islander_data.csv\")\n",
    "df.sample(5)"
   ]
  },
  {
   "cell_type": "markdown",
   "metadata": {},
   "source": [
    "## Launching atoti app"
   ]
  },
  {
   "cell_type": "code",
   "execution_count": 5,
   "metadata": {},
   "outputs": [],
   "source": [
    "# creating a session - it spins up an in-memory database - similar to Apache Spark - ready to slice’n’dice your big data set.\n",
    "# In addition to that, it launches a dashboarding Tableau-like web-app\n",
    "from atoti.config import create_config\n",
    "\n",
    "config = create_config(metadata_db=\"./metadata.db\")\n",
    "session = tt.create_session(config=config)\n",
    "\n",
    "# loading initial dataset\n",
    "observations_datastore = session.read_pandas(\n",
    "    df, keys=[\"Patient_Id\", \"Before or After\"], store_name=\"Observations\"\n",
    ")\n",
    "\n",
    "# creating a cube -\n",
    "cube = session.create_cube(observations_datastore)"
   ]
  },
  {
   "cell_type": "markdown",
   "metadata": {},
   "source": [
    "## URL of atoti app\n",
    "\n",
    "The following cell displays URL of the atoti app:"
   ]
  },
  {
   "cell_type": "code",
   "execution_count": 6,
   "metadata": {},
   "outputs": [
    {
     "data": {
      "text/plain": [
       "'http://localhost:39323'"
      ]
     },
     "execution_count": 6,
     "metadata": {},
     "output_type": "execute_result"
    }
   ],
   "source": [
    "session.url"
   ]
  },
  {
   "cell_type": "markdown",
   "metadata": {},
   "source": [
    "# Inline data visualization\n",
    "\n",
    "By running the next cell, we embed a data visualization widget - to slice and dice data inside the notebook."
   ]
  },
  {
   "cell_type": "code",
   "execution_count": 7,
   "metadata": {
    "atoti": {
     "height": 249,
     "state": {
      "name": "",
      "type": "container",
      "value": {
       "body": {
        "configuration": {
         "tabular": {
          "addButtonFilter": "numeric",
          "cellRenderers": [
           "tree-layout"
          ],
          "columns": [
           {
            "key": "([Measures].[MemoryScores.MEAN],[Hierarchies].[Before or After].[ALL].[AllMember].[After])",
            "width": 138
           }
          ],
          "columnsGroups": [
           {
            "captionProducer": "firstColumn",
            "cellFactory": "kpi-status",
            "selector": "kpi-status"
           },
           {
            "captionProducer": "firstColumn",
            "cellFactory": "lookup",
            "selector": "lookup"
           },
           {
            "captionProducer": "expiry",
            "cellFactory": "expiry",
            "selector": "kpi-expiry"
           },
           {
            "captionProducer": "columnMerge",
            "cellFactory": {
             "args": {},
             "key": "treeCells"
            },
            "selector": "member"
           }
          ],
          "defaultOptions": {
           "headerHeight": 44
          },
          "expansion": {
           "automaticExpansion": true
          },
          "hideAddButton": true,
          "pinnedHeaderSelector": "member",
          "sortingMode": "non-breaking",
          "statisticsShown": true
         }
        },
        "contextValues": {},
        "mdx": "SELECT NON EMPTY Hierarchize(DrilldownLevel([Hierarchies].[Drug].[ALL].[AllMember])) ON ROWS, NON EMPTY Crossjoin([Measures].[MemoryScores.MEAN], Hierarchize(DrilldownLevel([Hierarchies].[Before or After].[ALL].[AllMember]))) ON COLUMNS FROM [Observations] CELL PROPERTIES VALUE, FORMATTED_VALUE, BACK_COLOR, FORE_COLOR, FONT_FLAGS",
        "ranges": {
         "column": {
          "chunkSize": 50,
          "thresholdPercentage": 0.2
         },
         "row": {
          "chunkSize": 2000,
          "thresholdPercentage": 0.1
         }
        },
        "serverUrl": "",
        "updateMode": "once"
       },
       "containerKey": "pivot-table",
       "showTitleBar": false,
       "style": {}
      }
     }
    }
   },
   "outputs": [
    {
     "data": {
      "application/vnd.atoti.v0+json": {
       "cellSet": {
        "axes": [
         {
          "hierarchies": [
           {
            "dimension": "Measures",
            "hierarchy": "Measures"
           },
           {
            "dimension": "Hierarchies",
            "hierarchy": "Before or After"
           }
          ],
          "id": 0,
          "positions": [
           [
            {
             "captionPath": [
              "MemoryScores.MEAN"
             ],
             "namePath": [
              "MemoryScores.MEAN"
             ],
             "properties": {
              "DISPLAY_INFO": 0
             }
            },
            {
             "captionPath": [
              "AllMember"
             ],
             "namePath": [
              "AllMember"
             ],
             "properties": {
              "DISPLAY_INFO": 65538
             }
            }
           ],
           [
            {
             "captionPath": [
              "MemoryScores.MEAN"
             ],
             "namePath": [
              "MemoryScores.MEAN"
             ],
             "properties": {
              "DISPLAY_INFO": 0
             }
            },
            {
             "captionPath": [
              "AllMember",
              "After"
             ],
             "namePath": [
              "AllMember",
              "After"
             ],
             "properties": {
              "DISPLAY_INFO": 0
             }
            }
           ],
           [
            {
             "captionPath": [
              "MemoryScores.MEAN"
             ],
             "namePath": [
              "MemoryScores.MEAN"
             ],
             "properties": {
              "DISPLAY_INFO": 0
             }
            },
            {
             "captionPath": [
              "AllMember",
              "Before"
             ],
             "namePath": [
              "AllMember",
              "Before"
             ],
             "properties": {
              "DISPLAY_INFO": 131072
             }
            }
           ]
          ]
         },
         {
          "hierarchies": [
           {
            "dimension": "Hierarchies",
            "hierarchy": "Drug"
           }
          ],
          "id": 1,
          "positions": [
           [
            {
             "captionPath": [
              "AllMember"
             ],
             "namePath": [
              "AllMember"
             ],
             "properties": {
              "DISPLAY_INFO": 65539
             }
            }
           ],
           [
            {
             "captionPath": [
              "AllMember",
              "Alprazolam"
             ],
             "namePath": [
              "AllMember",
              "Alprazolam"
             ],
             "properties": {
              "DISPLAY_INFO": 0
             }
            }
           ],
           [
            {
             "captionPath": [
              "AllMember",
              "Sugar"
             ],
             "namePath": [
              "AllMember",
              "Sugar"
             ],
             "properties": {
              "DISPLAY_INFO": 131072
             }
            }
           ],
           [
            {
             "captionPath": [
              "AllMember",
              "Triazolam"
             ],
             "namePath": [
              "AllMember",
              "Triazolam"
             ],
             "properties": {
              "DISPLAY_INFO": 131072
             }
            }
           ]
          ]
         }
        ],
        "cells": [
         {
          "formattedValue": "59.44",
          "ordinal": 0,
          "properties": {
           "BACK_COLOR": null,
           "FONT_FLAGS": 0,
           "FORE_COLOR": null
          },
          "value": 59.4449494949495
         },
         {
          "formattedValue": "60.92",
          "ordinal": 1,
          "properties": {
           "BACK_COLOR": null,
           "FONT_FLAGS": 0,
           "FORE_COLOR": null
          },
          "value": 60.92222222222222
         },
         {
          "formattedValue": "57.97",
          "ordinal": 2,
          "properties": {
           "BACK_COLOR": null,
           "FONT_FLAGS": 0,
           "FORE_COLOR": null
          },
          "value": 57.96767676767678
         },
         {
          "formattedValue": "62.95",
          "ordinal": 3,
          "properties": {
           "BACK_COLOR": null,
           "FONT_FLAGS": 0,
           "FORE_COLOR": null
          },
          "value": 62.94701492537313
         },
         {
          "formattedValue": "67.68",
          "ordinal": 4,
          "properties": {
           "BACK_COLOR": null,
           "FONT_FLAGS": 0,
           "FORE_COLOR": null
          },
          "value": 67.68208955223882
         },
         {
          "formattedValue": "58.21",
          "ordinal": 5,
          "properties": {
           "BACK_COLOR": null,
           "FONT_FLAGS": 0,
           "FORE_COLOR": null
          },
          "value": 58.21194029850746
         },
         {
          "formattedValue": "58.40",
          "ordinal": 6,
          "properties": {
           "BACK_COLOR": null,
           "FONT_FLAGS": 0,
           "FORE_COLOR": null
          },
          "value": 58.39924242424242
         },
         {
          "formattedValue": "58.31",
          "ordinal": 7,
          "properties": {
           "BACK_COLOR": null,
           "FONT_FLAGS": 0,
           "FORE_COLOR": null
          },
          "value": 58.31363636363637
         },
         {
          "formattedValue": "58.48",
          "ordinal": 8,
          "properties": {
           "BACK_COLOR": null,
           "FONT_FLAGS": 0,
           "FORE_COLOR": null
          },
          "value": 58.48484848484848
         },
         {
          "formattedValue": "56.90",
          "ordinal": 9,
          "properties": {
           "BACK_COLOR": null,
           "FONT_FLAGS": 0,
           "FORE_COLOR": null
          },
          "value": 56.89692307692308
         },
         {
          "formattedValue": "56.60",
          "ordinal": 10,
          "properties": {
           "BACK_COLOR": null,
           "FONT_FLAGS": 0,
           "FORE_COLOR": null
          },
          "value": 56.60307692307692
         },
         {
          "formattedValue": "57.19",
          "ordinal": 11,
          "properties": {
           "BACK_COLOR": null,
           "FONT_FLAGS": 0,
           "FORE_COLOR": null
          },
          "value": 57.190769230769234
         }
        ],
        "cube": "Observations",
        "defaultMembers": [
         {
          "captionPath": [
           "Count"
          ],
          "dimension": "Measures",
          "hierarchy": "Measures",
          "path": [
           "contributors.COUNT"
          ]
         },
         {
          "captionPath": [
           "Base"
          ],
          "dimension": "Epoch",
          "hierarchy": "Epoch",
          "path": [
           "Base"
          ]
         }
        ],
        "epoch": 1
       },
       "cube": "Observations",
       "error": null,
       "name": null,
       "session": "Unnamed"
      },
      "text/html": [
       "<img src=\"data:image/svg+xml;charset=utf8,%3C?xml%20version=%221.0%22%20standalone=%22no%22?%3E%0A%20%20%20%20%3Csvg%20xmlns=%22http://www.w3.org/2000/svg%22%20width=%221541%22%20height=%22249%22%3E%0A%20%20%20%20%20%20%3CforeignObject%20x=%220%22%20y=%220%22%20width=%22100%25%22%20height=%22100%25%22%3E%0A%20%20%20%20%20%20%20%20%3Cstyle%20type=%22text/css%22%3E.css-xsa55j-dock%20%7Bposition:%20relative;%20z-index:%200;%20height:%20100%25;%20background-color:%20rgb(255,%20255,%20255);%20display:%20flex;%20flex-direction:%20column%7D%0A.css-1ibuxvk-DockBody%20%7Bpadding-top:%200px;%20padding-left:%200px;%20padding-right:%200px;%20padding-bottom:%200px;%20flex-grow:%201;%20flex-shrink:%201;%20flex-basis:%200%25;%20box-sizing:%20border-box;%20position:%20relative;%20z-index:%200;%20overflow-x:%20hidden;%20overflow-y:%20hidden%7D%0A.css-14zuz97%20%7Bbackground-image:%20initial;%20background-position-x:%20initial;%20background-position-y:%20initial;%20background-size:%20initial;%20background-repeat-x:%20initial;%20background-repeat-y:%20initial;%20background-attachment:%20initial;%20background-origin:%20initial;%20background-color:%20rgba(0,%200,%200,%200.2);%20z-index:%201;%20box-sizing:%20border-box;%20background-clip:%20padding-box%7D%0A.css-14zuz97.vertical%20%7Bwidth:%2012px;%20margin-top:%200px;%20margin-right:%20-6px;%20margin-bottom:%200px;%20margin-left:%20-6px;%20border-left-width:%205.5px;%20border-left-style:%20solid;%20border-left-color:%20transparent;%20border-right-width:%205.5px;%20border-right-style:%20solid;%20border-right-color:%20transparent;%20cursor:%20col-resize%7D%0A.css-14zuz97.disabled%20%7Bdisplay:%20none%7D%0A.css-1lrljg1-EditorSplitPane%20%7Bbackground-color:%20rgb(255,%20255,%20255);%20flex-grow:%201;%20flex-shrink:%201;%20flex-basis:%200%25;%20margin-right:%200px;%20position:%20relative%7D%0A.css-15fz3t7-EditorSplitPane%20%7Bposition:%20absolute;%20top:%200px;%20bottom:%200px;%20left:%200px;%20right:%200px;%20display:%20flex;%20flex-direction:%20column%7D%0A.css-1ouk3zc-EditorSplitPane%20%7Bbackground-color:%20rgb(255,%20255,%20255);%20flex-grow:%201;%20flex-shrink:%201;%20flex-basis:%200%25%7D%0A.css-1jjvrwi-EditorSplitPane%20%7Bposition:%20absolute;%20top:%200px;%20bottom:%200px;%20left:%200px;%20right:%200px;%20overflow-y:%20auto%7D%0A.css-1k1fxuh-Tabular%20%7Bwidth:%20100%25;%20height:%20100%25;%20position:%20relative%7D%0A.css-10klw3m%20%7Bheight:%20100%25%7D%0A.css-mdjjdg-TabularHeader%20%7Bdisplay:%20flex%7D%0A.css-12nzxaz-PinnedTabularHeaders%20%7Bflex-shrink:%200;%20display:%20flex%7D%0A.css-5jtkjp-UnpinnedTabularHeaders%20%7Bdisplay:%20flex;%20position:%20absolute;%20left:%200px%7D%0A.css-jpazdc-TabularHeaderCell%20%7Boverflow-x:%20hidden;%20overflow-y:%20hidden;%20text-overflow:%20ellipsis%7D%0A.css-y3oqqp%20%7Bfont-size:%2012px;%20line-height:%2022px;%20font-weight:%20600;%20color:%20rgba(0,%200,%200,%200.85)%7D%0A.css-c7y3a7-TabularHeaderCell%20%7Bflex-shrink:%200;%20height:%20100%25;%20display:%20flex;%20-webkit-box-pack:%20center;%20justify-content:%20center%7D%0A.css-1id6sm3-UnpinnedTabularRows%20%7Bposition:%20absolute;%20top:%200px;%20left:%200px%7D%0A.css-3cge9w%20%7Bcursor:%20cell;%20display:%20flex;%20height:%2028px;%20user-select:%20none%7D%0A.css-9ssj44-TreeCell%20%7Bwidth:%20min-content%7D%0A.css-mkrhzq%20%7Bdisplay:%20flex;%20margin-left:%200px%7D%0A.css-8uhtka%20%7Boverflow-x:%20hidden;%20overflow-y:%20hidden;%20text-overflow:%20ellipsis;%20white-space:%20nowrap%7D%0A.css-pm742e%20%7Bcursor:%20pointer;%20margin-top:%202px;%20height:%20inherit;%20display:%20flex;%20-webkit-box-align:%20center;%20align-items:%20center;%20font-size:%2010px;%20-webkit-box-pack:%20center;%20justify-content:%20center;%20padding-left:%204px%7D%0A.css-1i6gc04%20%7Bcursor:%20pointer;%20margin-top:%202px;%20height:%20inherit;%20display:%20flex;%20-webkit-box-align:%20center;%20align-items:%20center;%20font-size:%2010px;%20width:%2016px%7D%0A.css-8r2ljj-PinnedTabularRows%20%7Bposition:%20absolute;%20right:%200px%7D%0A.css-mkoicc-CaptionCellRenderer%20%7Bwidth:%20100%25;%20overflow-x:%20hidden;%20overflow-y:%20hidden;%20text-overflow:%20ellipsis;%20white-space:%20nowrap%7D%0A.css-t881dv-SelectionStatistics%20%7Bheight:%2020px;%20display:%20flex;%20padding-top:%205px;%20opacity:%200;%20transition-duration:%20300ms;%20transition-timing-function:%20ease;%20transition-delay:%200s;%20transition-property:%20opacity;%20position:%20absolute;%20right:%200px;%20left:%20unset%7D%0A.css-1ag4cda-TabularHeaderCell%20%7Bcursor:%20default;%20-webkit-box-flex:%201;%20flex-grow:%201;%20flex-shrink:%201;%20box-sizing:%20border-box;%20padding-left:%204px;%20padding-right:%204px;%20padding-top:%204px;%20padding-bottom:%204px;%20height:%20100%25;%20overflow-x:%20hidden;%20overflow-y:%20hidden;%20display:%20flex;%20overflow-wrap:%20break-word;%20-webkit-box-pack:%20start;%20justify-content:%20flex-start;%20align-items:%20flex-start%7D%0A.css-11k5ac9-PinnedTabularRows%20%7Bwidth:%202px;%20height:%20112px;%20background-color:%20rgb(233,%20233,%20233)%7D%0A.css-90jv4-TabularHeaderGroup%20%7Bposition:%20relative;%20width:%20300px%7D%0A.css-dko0re%20%7Bheight:%20100%25;%20box-sizing:%20border-box;%20display:%20flex;%20-webkit-box-pack:%20end;%20justify-content:%20flex-end;%20flex-direction:%20column;%20padding-top:%204px;%20padding-left:%204px;%20padding-right:%204px;%20padding-bottom:%203px;%20overflow-x:%20hidden;%20overflow-y:%20hidden;%20white-space:%20nowrap;%20border-right-width:%201px;%20border-right-style:%20solid;%20border-right-color:%20rgb(233,%20233,%20233);%20border-bottom-width:%20initial;%20border-bottom-style:%20none;%20border-bottom-color:%20initial;%20width:%20300px;%20align-items:%20flex-start%7D%0A.css-134urz3-PinnedTabularRows%20%7Bposition:%20absolute;%20overflow-x:%20hidden;%20overflow-y:%20hidden;%20top:%200px;%20width:%20300px%7D%0A.css-jyaidn%20%7Bheight:%20100%25;%20box-sizing:%20border-box;%20display:%20flex;%20-webkit-box-pack:%20end;%20justify-content:%20flex-end;%20flex-direction:%20column;%20padding-top:%204px;%20padding-left:%204px;%20padding-right:%204px;%20padding-bottom:%203px;%20overflow-x:%20hidden;%20overflow-y:%20hidden;%20white-space:%20nowrap;%20border-right-width:%201px;%20border-right-style:%20solid;%20border-right-color:%20rgb(233,%20233,%20233);%20border-bottom-width:%20initial;%20border-bottom-style:%20none;%20border-bottom-color:%20initial;%20width:%20300px;%20align-items:%20flex-start;%20background-color:%20rgb(250,%20250,%20250)%7D%0A.css-166mc38%20%7Bheight:%20100%25;%20box-sizing:%20border-box;%20display:%20flex;%20-webkit-box-pack:%20end;%20justify-content:%20flex-end;%20flex-direction:%20column;%20padding-top:%204px;%20padding-left:%204px;%20padding-right:%204px;%20padding-bottom:%203px;%20overflow-x:%20hidden;%20overflow-y:%20hidden;%20white-space:%20nowrap;%20border-right-width:%201px;%20border-right-style:%20solid;%20border-right-color:%20rgb(233,%20233,%20233);%20border-bottom-width:%201px;%20border-bottom-style:%20solid;%20border-bottom-color:%20rgb(233,%20233,%20233);%20width:%20300px;%20align-items:%20flex-start%7D%0A.css-1hcmypl-TabularCell%20%7Bheight:%2028px;%20box-sizing:%20border-box;%20display:%20flex;%20-webkit-box-pack:%20end;%20justify-content:%20flex-end;%20flex-direction:%20column;%20padding-top:%204px;%20padding-left:%204px;%20padding-right:%204px;%20padding-bottom:%203px;%20overflow-x:%20hidden;%20overflow-y:%20hidden;%20white-space:%20nowrap;%20border-right-width:%201px;%20border-right-style:%20solid;%20border-right-color:%20rgb(233,%20233,%20233);%20border-bottom-width:%20initial;%20border-bottom-style:%20none;%20border-bottom-color:%20initial;%20width:%20120px;%20background-color:%20rgb(250,%20250,%20250);%20cursor:%20cell;%20user-select:%20none;%20text-align:%20right;%20align-items:%20flex-end%7D%0A.css-qazlap-TabularCell%20%7Bheight:%2028px;%20box-sizing:%20border-box;%20display:%20flex;%20-webkit-box-pack:%20end;%20justify-content:%20flex-end;%20flex-direction:%20column;%20padding-top:%204px;%20padding-left:%204px;%20padding-right:%204px;%20padding-bottom:%203px;%20overflow-x:%20hidden;%20overflow-y:%20hidden;%20white-space:%20nowrap;%20border-right-width:%201px;%20border-right-style:%20solid;%20border-right-color:%20rgb(233,%20233,%20233);%20border-bottom-width:%20initial;%20border-bottom-style:%20none;%20border-bottom-color:%20initial;%20width:%20120px;%20cursor:%20cell;%20user-select:%20none;%20text-align:%20right;%20align-items:%20flex-end%7D%0A.css-pgwbrq-TabularPinnSeparator%20%7Bwidth:%202px;%20height:%2088px;%20background-color:%20rgb(233,%20233,%20233)%7D%0A.css-kwz1ke%20%7Bcolor:%20rgba(0,%200,%200,%200.85);%20display:%20flex;%20box-sizing:%20border-box;%20-webkit-box-align:%20center;%20align-items:%20center;%20height:%2088px;%20position:%20absolute;%20top:%200px;%20left:%200px;%20user-select:%20none;%20font-size:%2012px;%20line-height:%2022px;%20font-weight:%20600;%20border-bottom-width:%202px;%20border-bottom-style:%20solid;%20border-bottom-color:%20rgb(233,%20233,%20233);%20width:%20300px;%20border-right-width:%201px;%20border-right-style:%20solid;%20border-right-color:%20rgb(233,%20233,%20233)%7D%0A.css-15z2uvr-HeaderResizer%20%7Bposition:%20absolute;%20z-index:%201;%20width:%2010px;%20height:%2088px;%20left:%20295px;%20top:%200px;%20cursor:%20col-resize%7D%0A.css-8mdirl-HeaderResizer%20%7Bposition:%20absolute;%20z-index:%201;%20height:%2010px;%20width:%20300px;%20left:%200px;%20top:%2083px;%20cursor:%20row-resize%7D%0A.css-13vtqji-TabularCell%20%7Bheight:%2028px;%20box-sizing:%20border-box;%20display:%20flex;%20-webkit-box-pack:%20end;%20justify-content:%20flex-end;%20flex-direction:%20column;%20padding-top:%204px;%20padding-left:%204px;%20padding-right:%204px;%20padding-bottom:%203px;%20overflow-x:%20hidden;%20overflow-y:%20hidden;%20white-space:%20nowrap;%20border-right-width:%201px;%20border-right-style:%20solid;%20border-right-color:%20rgb(233,%20233,%20233);%20border-bottom-width:%201px;%20border-bottom-style:%20solid;%20border-bottom-color:%20rgb(233,%20233,%20233);%20width:%20120px;%20cursor:%20cell;%20user-select:%20none;%20text-align:%20right;%20align-items:%20flex-end%7D%0A.css-ca96ix-PinnedTabularRows%20%7Bposition:%20absolute;%20height:%20112px;%20width:%20302px;%20overflow-x:%20hidden;%20overflow-y:%20hidden%7D%0A.css-1g0tqea-Tabular%20%7Bposition:%20relative;%20height:%20100%25;%20width:%20697px%7D%0A.css-cum2n-UnpinnedTabularHeaders%20%7Boverflow-x:%20hidden;%20overflow-y:%20hidden;%20position:%20relative;%20width:%201241px;%20height:%2088px%7D%0A.css-1o5rf1n-TabularHeaderGroup%20%7Bposition:%20relative;%20width:%20378px%7D%0A.css-gqzh1b%20%7Bcolor:%20rgba(0,%200,%200,%200.85);%20display:%20flex;%20box-sizing:%20border-box;%20-webkit-box-align:%20center;%20align-items:%20center;%20height:%2088px;%20position:%20absolute;%20top:%200px;%20left:%200px;%20user-select:%20none;%20font-size:%2012px;%20line-height:%2022px;%20font-weight:%20600;%20border-bottom-width:%202px;%20border-bottom-style:%20solid;%20border-bottom-color:%20rgb(233,%20233,%20233);%20width:%20120px;%20border-right-width:%201px;%20border-right-style:%20solid;%20border-right-color:%20rgb(233,%20233,%20233)%7D%0A.css-12cmnvf-HeaderResizer%20%7Bposition:%20absolute;%20z-index:%201;%20width:%2010px;%20height:%2088px;%20left:%20115px;%20top:%200px;%20cursor:%20col-resize%7D%0A.css-735uz3-HeaderResizer%20%7Bposition:%20absolute;%20z-index:%201;%20height:%2010px;%20width:%20120px;%20left:%200px;%20top:%2083px;%20cursor:%20row-resize%7D%0A.css-1fjwass%20%7Bfont-size:%2012px;%20line-height:%2022px;%20font-weight:%20600;%20color:%20rgba(0,%200,%200,%200.85);%20text-align:%20center;%20-webkit-box-align:%20center;%20align-items:%20center;%20box-sizing:%20border-box;%20padding-left:%203px;%20padding-right:%203px;%20padding-top:%204px;%20padding-bottom:%204px;%20border-right-width:%201px;%20border-right-style:%20solid;%20border-right-color:%20rgb(233,%20233,%20233);%20width:%20258px;%20height:%2044px;%20position:%20absolute;%20top:%200px;%20left:%20120px;%20cursor:%20auto;%20user-select:%20none;%20white-space:%20nowrap;%20text-overflow:%20ellipsis;%20overflow-x:%20hidden;%20overflow-y:%20hidden%7D%0A.css-1do09lp-HeaderResizer%20%7Bposition:%20absolute;%20z-index:%201;%20height:%2010px;%20width:%20138px;%20left:%20120px;%20top:%2039px;%20cursor:%20row-resize%7D%0A.css-scs4vc%20%7Bcolor:%20rgba(0,%200,%200,%200.85);%20display:%20flex;%20box-sizing:%20border-box;%20-webkit-box-align:%20center;%20align-items:%20center;%20height:%2044px;%20position:%20absolute;%20top:%2044px;%20left:%20120px;%20user-select:%20none;%20font-size:%2012px;%20line-height:%2022px;%20font-weight:%20600;%20border-bottom-width:%202px;%20border-bottom-style:%20solid;%20border-bottom-color:%20rgb(233,%20233,%20233);%20width:%20138px%7D%0A.css-t44zju-HeaderResizer%20%7Bposition:%20absolute;%20z-index:%201;%20width:%2010px;%20height:%2044px;%20left:%20253px;%20top:%2044px;%20cursor:%20col-resize%7D%0A.css-198ve1g-HeaderResizer%20%7Bposition:%20absolute;%20z-index:%201;%20height:%2010px;%20width:%20138px;%20left:%20120px;%20top:%2083px;%20cursor:%20row-resize%7D%0A.css-cn9tvr-HeaderResizer%20%7Bposition:%20absolute;%20z-index:%201;%20height:%2010px;%20width:%20120px;%20left:%20258px;%20top:%2039px;%20cursor:%20row-resize%7D%0A.css-1out93k%20%7Bcolor:%20rgba(0,%200,%200,%200.85);%20display:%20flex;%20box-sizing:%20border-box;%20-webkit-box-align:%20center;%20align-items:%20center;%20height:%2044px;%20position:%20absolute;%20top:%2044px;%20left:%20258px;%20user-select:%20none;%20font-size:%2012px;%20line-height:%2022px;%20font-weight:%20600;%20border-bottom-width:%202px;%20border-bottom-style:%20solid;%20border-bottom-color:%20rgb(233,%20233,%20233);%20width:%20120px;%20border-right-width:%201px;%20border-right-style:%20solid;%20border-right-color:%20rgb(233,%20233,%20233)%7D%0A.css-m63xjc-HeaderResizer%20%7Bposition:%20absolute;%20z-index:%201;%20width:%2010px;%20height:%2044px;%20left:%20373px;%20top:%2044px;%20cursor:%20col-resize%7D%0A.css-2gv6ub-HeaderResizer%20%7Bposition:%20absolute;%20z-index:%201;%20height:%2010px;%20width:%20120px;%20left:%20258px;%20top:%2083px;%20cursor:%20row-resize%7D%0A.css-9vg7qt-TabularBody%20%7Bposition:%20relative;%20overflow-x:%20hidden;%20overflow-y:%20hidden;%20top:%200px;%20width:%20680px;%20height:%20112px%7D%0A.css-1y9swao-UnpinnedTabularRows%20%7Bposition:%20absolute;%20overflow-x:%20hidden;%20overflow-y:%20hidden;%20left:%20302px;%20height:%20112px;%20width:%20378px%7D%0A.css-ggca7e-TabularCell%20%7Bheight:%2028px;%20box-sizing:%20border-box;%20display:%20flex;%20-webkit-box-pack:%20end;%20justify-content:%20flex-end;%20flex-direction:%20column;%20padding-top:%204px;%20padding-left:%204px;%20padding-right:%204px;%20padding-bottom:%203px;%20overflow-x:%20hidden;%20overflow-y:%20hidden;%20white-space:%20nowrap;%20border-right-width:%201px;%20border-right-style:%20solid;%20border-right-color:%20rgb(233,%20233,%20233);%20border-bottom-width:%20initial;%20border-bottom-style:%20none;%20border-bottom-color:%20initial;%20width:%20138px;%20background-color:%20rgb(250,%20250,%20250);%20cursor:%20cell;%20user-select:%20none;%20text-align:%20right;%20align-items:%20flex-end%7D%0A.css-ma9bjk-TabularCell%20%7Bheight:%2028px;%20box-sizing:%20border-box;%20display:%20flex;%20-webkit-box-pack:%20end;%20justify-content:%20flex-end;%20flex-direction:%20column;%20padding-top:%204px;%20padding-left:%204px;%20padding-right:%204px;%20padding-bottom:%203px;%20overflow-x:%20hidden;%20overflow-y:%20hidden;%20white-space:%20nowrap;%20border-right-width:%201px;%20border-right-style:%20solid;%20border-right-color:%20rgb(233,%20233,%20233);%20border-bottom-width:%20initial;%20border-bottom-style:%20none;%20border-bottom-color:%20initial;%20width:%20138px;%20cursor:%20cell;%20user-select:%20none;%20text-align:%20right;%20align-items:%20flex-end%7D%0A.css-lueqe3-TabularCell%20%7Bheight:%2028px;%20box-sizing:%20border-box;%20display:%20flex;%20-webkit-box-pack:%20end;%20justify-content:%20flex-end;%20flex-direction:%20column;%20padding-top:%204px;%20padding-left:%204px;%20padding-right:%204px;%20padding-bottom:%203px;%20overflow-x:%20hidden;%20overflow-y:%20hidden;%20white-space:%20nowrap;%20border-right-width:%201px;%20border-right-style:%20solid;%20border-right-color:%20rgb(233,%20233,%20233);%20border-bottom-width:%201px;%20border-bottom-style:%20solid;%20border-bottom-color:%20rgb(233,%20233,%20233);%20width:%20138px;%20cursor:%20cell;%20user-select:%20none;%20text-align:%20right;%20align-items:%20flex-end%7D%0A.ant-root%20html,%20.ant-root%20%7Bwidth:%20100%25;%20height:%20100%25%7D%0A.ant-root%20*,%20.ant-root%20::before,%20.ant-root%20::after%20%7Bbox-sizing:%20border-box%7D%0A.ant-root%20%7Bmargin-top:%200px;%20margin-right:%200px;%20margin-bottom:%200px;%20margin-left:%200px;%20color:%20rgba(0,%200,%200,%200.65);%20font-size:%2014px;%20font-family:%20-apple-system,%20BlinkMacSystemFont,%20%22Segoe%20UI%22,%20%22PingFang%20SC%22,%20%22Hiragino%20Sans%20GB%22,%20%22Microsoft%20YaHei%22,%20%22Helvetica%20Neue%22,%20Helvetica,%20Arial,%20sans-serif,%20%22Apple%20Color%20Emoji%22,%20%22Segoe%20UI%20Emoji%22,%20%22Segoe%20UI%20Symbol%22;%20font-variant-ligatures:%20normal;%20font-variant-numeric:%20tabular-nums;%20font-variant-east-asian:%20normal;%20font-variant-caps:%20normal;%20line-height:%201.5;%20background-color:%20rgb(255,%20255,%20255);%20font-feature-settings:%20%22tnum%22;%20--antd-wave-shadow-color:%20undefined%7D%0A.ant-root%20.anticon%20%7Bdisplay:%20inline-block;%20color:%20inherit;%20font-style:%20normal;%20line-height:%200;%20text-align:%20center;%20text-transform:%20none;%20vertical-align:%20-0.125em;%20text-rendering:%20optimizelegibility;%20-webkit-font-smoothing:%20antialiased%7D%0A.ant-root%20.ant-typography%20%7Bcolor:%20rgba(0,%200,%200,%200.65)%7D%0A.css-1sxolix-Widget%20%7Bheight:%20100%25%7D%0A.css-1sxolix-Widget%20.ant-root:not(.atoti-widget-chooser)%20%7Bbox-shadow:%20none%7D%3C/style%3E%0A%20%20%20%20%20%20%20%20%3Cdiv%20xmlns=%22http://www.w3.org/1999/xhtml%22%20style=%22height:%20249px;%20width:%201541px%22%3E%0A%20%20%20%20%20%20%20%20%20%20%3Cdiv%20xmlns=%22http://www.w3.org/1999/xhtml%22%20class=%22css-1sxolix-Widget%22%3E%3Cdiv%20class=%22ant-root%20css-xsa55j-dock%22%3E%3Cdiv%20class=%22css-1ibuxvk-DockBody%22%3E%3Cdiv%20class=%22SplitPane%20%20vertical%20disabled%22%20style=%22display:%20flex;%20flex:%201%201%200%25;%20height:%20100%25;%20position:%20relative;%20outline:%20none;%20overflow:%20hidden;%20user-select:%20text;%20flex-direction:%20row;%20left:%200px;%20right:%200px;%22%3E%3Cdiv%20class=%22Pane%20vertical%20Pane1%20%20%22%20style=%22flex:%201%201%200%25;%20position:%20relative;%20outline:%20none;%20display:%20flex;%20background-color:%20rgb(255,%20255,%20255);%22%3E%3Cdiv%20class=%22css-1lrljg1-EditorSplitPane%22%3E%3Cdiv%20class=%22css-15fz3t7-EditorSplitPane%22%3E%3Cdiv%20class=%22css-1k1fxuh-Tabular%22%3E%3Cdiv%20class=%22css-10klw3m%22%3E%3Cdiv%20tabindex=%220%22%20class=%22css-1g0tqea-Tabular%22%3E%3Cdiv%20class=%22css-192kvjv-Tabular%22%3E%3Cdiv%20class=%22css-mdjjdg-TabularHeader%22%3E%3Cdiv%20class=%22css-12nzxaz-PinnedTabularHeaders%22%3E%3Cdiv%20class=%22css-90jv4-TabularHeaderGroup%22%3E%3Cdiv%20class=%22css-kwz1ke%22%3E%3Cdiv%20class=%22css-1ag4cda-TabularHeaderCell%22%3E%3Cspan%20class=%22css-jpazdc-TabularHeaderCell%22%3E%3Cspan%3E%3Cspan%3E%3Cspan%20class=%22css-y3oqqp%22%3EDrug%3C/span%3E%3C/span%3E%3C/span%3E%3C/span%3E%3C/div%3E%3Cdiv%20class=%22css-c7y3a7-TabularHeaderCell%22%3E%3C/div%3E%3C/div%3E%3Cdiv%20class=%22css-15z2uvr-HeaderResizer%22%3E%3C/div%3E%3Cdiv%20class=%22css-8mdirl-HeaderResizer%22%3E%3C/div%3E%3C/div%3E%3Cdiv%20class=%22css-pgwbrq-TabularPinnSeparator%22%3E%3C/div%3E%3C/div%3E%3Cdiv%20class=%22css-cum2n-UnpinnedTabularHeaders%22%3E%3Cdiv%20class=%22css-5jtkjp-UnpinnedTabularHeaders%22%3E%3Cdiv%20class=%22css-1o5rf1n-TabularHeaderGroup%22%3E%3Cdiv%20class=%22css-gqzh1b%22%3E%3Cdiv%20class=%22css-pm742e%22%3E%3Ci%20aria-label=%22icon:%20down%22%20width=%221em%22%20height=%221em%22%20class=%22anticon%20anticon-down%22%3E%3C/i%3E%3C/div%3E%3Cdiv%20class=%22css-1ag4cda-TabularHeaderCell%22%3E%3Cspan%20class=%22css-jpazdc-TabularHeaderCell%22%3E%3Cspan%3ETotal%20MemoryScores.MEAN%3C/span%3E%3C/span%3E%3C/div%3E%3Cdiv%20class=%22css-c7y3a7-TabularHeaderCell%22%3E%3C/div%3E%3C/div%3E%3Cdiv%20class=%22css-12cmnvf-HeaderResizer%22%3E%3C/div%3E%3Cdiv%20class=%22css-735uz3-HeaderResizer%22%3E%3C/div%3E%3Cdiv%20class=%22css-1fjwass%22%3EMemoryScores.MEAN%3C/div%3E%3Cdiv%20class=%22css-1do09lp-HeaderResizer%22%3E%3C/div%3E%3Cdiv%20class=%22css-scs4vc%22%3E%3Cdiv%20class=%22css-pm742e%22%3E%3C/div%3E%3Cdiv%20class=%22css-1ag4cda-TabularHeaderCell%22%3E%3Cspan%20class=%22css-jpazdc-TabularHeaderCell%22%3E%3Cspan%3EAfter%3C/span%3E%3C/span%3E%3C/div%3E%3Cdiv%20class=%22css-c7y3a7-TabularHeaderCell%22%3E%3C/div%3E%3C/div%3E%3Cdiv%20class=%22css-t44zju-HeaderResizer%22%3E%3C/div%3E%3Cdiv%20class=%22css-198ve1g-HeaderResizer%22%3E%3C/div%3E%3Cdiv%20class=%22css-cn9tvr-HeaderResizer%22%3E%3C/div%3E%3Cdiv%20class=%22css-1out93k%22%3E%3Cdiv%20class=%22css-pm742e%22%3E%3C/div%3E%3Cdiv%20class=%22css-1ag4cda-TabularHeaderCell%22%3E%3Cspan%20class=%22css-jpazdc-TabularHeaderCell%22%3E%3Cspan%3EBefore%3C/span%3E%3C/span%3E%3C/div%3E%3Cdiv%20class=%22css-c7y3a7-TabularHeaderCell%22%3E%3C/div%3E%3C/div%3E%3Cdiv%20class=%22css-m63xjc-HeaderResizer%22%3E%3C/div%3E%3Cdiv%20class=%22css-2gv6ub-HeaderResizer%22%3E%3C/div%3E%3C/div%3E%3C/div%3E%3C/div%3E%3C/div%3E%3Cdiv%20class=%22css-9vg7qt-TabularBody%22%3E%3Cdiv%20class=%22css-ca96ix-PinnedTabularRows%22%3E%3Cdiv%20class=%22css-134urz3-PinnedTabularRows%22%3E%3Cdiv%20class=%22css-3cge9w%22%3E%3Cdiv%3E%3Cdiv%20class=%22css-jyaidn%22%3E%3Cdiv%20class=%22css-9ssj44-TreeCell%22%3E%3Cdiv%20class=%22css-mkrhzq%22%3E%3Cspan%20class=%22ant-typography%20css-8uhtka%22%20style=%22font-size:%2012px;%20line-height:%2020px;%20font-weight:%20600;%20color:%20rgba(0,%200,%200,%200.85);%22%3ETotal%20Drug%3C/span%3E%3C/div%3E%3C/div%3E%3C/div%3E%3C/div%3E%3C/div%3E%3Cdiv%20class=%22css-3cge9w%22%3E%3Cdiv%3E%3Cdiv%20class=%22css-dko0re%22%3E%3Cdiv%20class=%22css-9ssj44-TreeCell%22%3E%3Cdiv%20class=%22css-mkrhzq%22%3E%3Cdiv%20class=%22css-1i6gc04%22%3E%3C/div%3E%3Cspan%20class=%22ant-typography%20css-8uhtka%22%20style=%22font-size:%2012px;%20line-height:%2020px;%20font-weight:%20600;%20color:%20rgba(0,%200,%200,%200.85);%22%3EAlprazolam%3C/span%3E%3C/div%3E%3C/div%3E%3C/div%3E%3C/div%3E%3C/div%3E%3Cdiv%20class=%22css-3cge9w%22%3E%3Cdiv%3E%3Cdiv%20class=%22css-jyaidn%22%3E%3Cdiv%20class=%22css-9ssj44-TreeCell%22%3E%3Cdiv%20class=%22css-mkrhzq%22%3E%3Cdiv%20class=%22css-1i6gc04%22%3E%3C/div%3E%3Cspan%20class=%22ant-typography%20css-8uhtka%22%20style=%22font-size:%2012px;%20line-height:%2020px;%20font-weight:%20600;%20color:%20rgba(0,%200,%200,%200.85);%22%3ESugar%3C/span%3E%3C/div%3E%3C/div%3E%3C/div%3E%3C/div%3E%3C/div%3E%3Cdiv%20class=%22css-3cge9w%22%3E%3Cdiv%3E%3Cdiv%20class=%22css-166mc38%22%3E%3Cdiv%20class=%22css-9ssj44-TreeCell%22%3E%3Cdiv%20class=%22css-mkrhzq%22%3E%3Cdiv%20class=%22css-1i6gc04%22%3E%3C/div%3E%3Cspan%20class=%22ant-typography%20css-8uhtka%22%20style=%22font-size:%2012px;%20line-height:%2020px;%20font-weight:%20600;%20color:%20rgba(0,%200,%200,%200.85);%22%3ETriazolam%3C/span%3E%3C/div%3E%3C/div%3E%3C/div%3E%3C/div%3E%3C/div%3E%3C/div%3E%3Cdiv%20class=%22css-8r2ljj-PinnedTabularRows%22%3E%3Cdiv%20class=%22css-11k5ac9-PinnedTabularRows%22%3E%3C/div%3E%3C/div%3E%3C/div%3E%3Cdiv%20class=%22css-1y9swao-UnpinnedTabularRows%22%3E%3Cdiv%20class=%22css-1id6sm3-UnpinnedTabularRows%22%3E%3Cdiv%20class=%22css-3cge9w%22%3E%3Cdiv%3E%3Cdiv%20class=%22%20css-1hcmypl-TabularCell%22%3E%3Cspan%20class=%22css-mkoicc-CaptionCellRenderer%22%3E%3Cspan%3E%3Cspan%20class=%22ant-typography%22%20style=%22font-size:%2012px;%20line-height:%2020px;%20font-weight:%20400;%22%3E59.44%3C/span%3E%3C/span%3E%3C/span%3E%3C/div%3E%3C/div%3E%3Cdiv%3E%3Cdiv%20class=%22%20css-ggca7e-TabularCell%22%3E%3Cspan%20class=%22css-mkoicc-CaptionCellRenderer%22%3E%3Cspan%3E%3Cspan%20class=%22ant-typography%22%20style=%22font-size:%2012px;%20line-height:%2020px;%20font-weight:%20400;%22%3E60.92%3C/span%3E%3C/span%3E%3C/span%3E%3C/div%3E%3C/div%3E%3Cdiv%3E%3Cdiv%20class=%22%20css-1hcmypl-TabularCell%22%3E%3Cspan%20class=%22css-mkoicc-CaptionCellRenderer%22%3E%3Cspan%3E%3Cspan%20class=%22ant-typography%22%20style=%22font-size:%2012px;%20line-height:%2020px;%20font-weight:%20400;%22%3E57.97%3C/span%3E%3C/span%3E%3C/span%3E%3C/div%3E%3C/div%3E%3C/div%3E%3Cdiv%20class=%22css-3cge9w%22%3E%3Cdiv%3E%3Cdiv%20class=%22%20css-qazlap-TabularCell%22%3E%3Cspan%20class=%22css-mkoicc-CaptionCellRenderer%22%3E%3Cspan%3E%3Cspan%20class=%22ant-typography%22%20style=%22font-size:%2012px;%20line-height:%2020px;%20font-weight:%20400;%22%3E62.95%3C/span%3E%3C/span%3E%3C/span%3E%3C/div%3E%3C/div%3E%3Cdiv%3E%3Cdiv%20class=%22%20css-ma9bjk-TabularCell%22%3E%3Cspan%20class=%22css-mkoicc-CaptionCellRenderer%22%3E%3Cspan%3E%3Cspan%20class=%22ant-typography%22%20style=%22font-size:%2012px;%20line-height:%2020px;%20font-weight:%20400;%22%3E67.68%3C/span%3E%3C/span%3E%3C/span%3E%3C/div%3E%3C/div%3E%3Cdiv%3E%3Cdiv%20class=%22%20css-qazlap-TabularCell%22%3E%3Cspan%20class=%22css-mkoicc-CaptionCellRenderer%22%3E%3Cspan%3E%3Cspan%20class=%22ant-typography%22%20style=%22font-size:%2012px;%20line-height:%2020px;%20font-weight:%20400;%22%3E58.21%3C/span%3E%3C/span%3E%3C/span%3E%3C/div%3E%3C/div%3E%3C/div%3E%3Cdiv%20class=%22css-3cge9w%22%3E%3Cdiv%3E%3Cdiv%20class=%22%20css-1hcmypl-TabularCell%22%3E%3Cspan%20class=%22css-mkoicc-CaptionCellRenderer%22%3E%3Cspan%3E%3Cspan%20class=%22ant-typography%22%20style=%22font-size:%2012px;%20line-height:%2020px;%20font-weight:%20400;%22%3E58.40%3C/span%3E%3C/span%3E%3C/span%3E%3C/div%3E%3C/div%3E%3Cdiv%3E%3Cdiv%20class=%22%20css-ggca7e-TabularCell%22%3E%3Cspan%20class=%22css-mkoicc-CaptionCellRenderer%22%3E%3Cspan%3E%3Cspan%20class=%22ant-typography%22%20style=%22font-size:%2012px;%20line-height:%2020px;%20font-weight:%20400;%22%3E58.31%3C/span%3E%3C/span%3E%3C/span%3E%3C/div%3E%3C/div%3E%3Cdiv%3E%3Cdiv%20class=%22%20css-1hcmypl-TabularCell%22%3E%3Cspan%20class=%22css-mkoicc-CaptionCellRenderer%22%3E%3Cspan%3E%3Cspan%20class=%22ant-typography%22%20style=%22font-size:%2012px;%20line-height:%2020px;%20font-weight:%20400;%22%3E58.48%3C/span%3E%3C/span%3E%3C/span%3E%3C/div%3E%3C/div%3E%3C/div%3E%3Cdiv%20class=%22css-3cge9w%22%3E%3Cdiv%3E%3Cdiv%20class=%22%20css-13vtqji-TabularCell%22%3E%3Cspan%20class=%22css-mkoicc-CaptionCellRenderer%22%3E%3Cspan%3E%3Cspan%20class=%22ant-typography%22%20style=%22font-size:%2012px;%20line-height:%2020px;%20font-weight:%20400;%22%3E56.90%3C/span%3E%3C/span%3E%3C/span%3E%3C/div%3E%3C/div%3E%3Cdiv%3E%3Cdiv%20class=%22%20css-lueqe3-TabularCell%22%3E%3Cspan%20class=%22css-mkoicc-CaptionCellRenderer%22%3E%3Cspan%3E%3Cspan%20class=%22ant-typography%22%20style=%22font-size:%2012px;%20line-height:%2020px;%20font-weight:%20400;%22%3E56.60%3C/span%3E%3C/span%3E%3C/span%3E%3C/div%3E%3C/div%3E%3Cdiv%3E%3Cdiv%20class=%22%20css-13vtqji-TabularCell%22%3E%3Cspan%20class=%22css-mkoicc-CaptionCellRenderer%22%3E%3Cspan%3E%3Cspan%20class=%22ant-typography%22%20style=%22font-size:%2012px;%20line-height:%2020px;%20font-weight:%20400;%22%3E57.19%3C/span%3E%3C/span%3E%3C/span%3E%3C/div%3E%3C/div%3E%3C/div%3E%3C/div%3E%3C/div%3E%3C/div%3E%3C/div%3E%3Cdiv%20class=%22css-t881dv-SelectionStatistics%22%3E%3C/div%3E%3C/div%3E%3C/div%3E%3C/div%3E%3C/div%3E%3C/div%3E%3C/div%3E%3Cspan%20role=%22presentation%22%20class=%22css-14zuz97%20Resizer%20vertical%20disabled%22%3E%3C/span%3E%3Cdiv%20class=%22Pane%20vertical%20Pane2%20%20%22%20style=%22flex:%200%200%20auto;%20position:%20relative;%20outline:%20none;%20width:%200px;%20display:%20flex;%20background-color:%20rgb(255,%20255,%20255);%20overflow:%20auto;%22%3E%3Cdiv%20class=%22css-1ouk3zc-EditorSplitPane%22%3E%3Cdiv%20class=%22css-1jjvrwi-EditorSplitPane%22%3E%3C/div%3E%3C/div%3E%3C/div%3E%3C/div%3E%3C/div%3E%3C/div%3E%3C/div%3E%0A%20%20%20%20%20%20%20%20%3C/div%3E%0A%20%20%20%20%20%20%3C/foreignObject%3E%0A%20%20%20%20%3C/svg%3E\">"
      ],
      "text/plain": [
       "Open the notebook in JupyterLab with the atoti extension installed and enabled to see this widget."
      ]
     },
     "metadata": {},
     "output_type": "display_data"
    }
   ],
   "source": [
    "cube.visualize()"
   ]
  },
  {
   "cell_type": "markdown",
   "metadata": {},
   "source": [
    "# Refining the application"
   ]
  },
  {
   "cell_type": "code",
   "execution_count": 8,
   "metadata": {},
   "outputs": [
    {
     "data": {
      "application/json": {
       "Dimensions": {
        "Hierarchies": {
         "Before or After": [
          "Before or After"
         ],
         "Dosage": [
          "Dosage"
         ],
         "Drug": [
          "Drug"
         ],
         "Happy_Sad_group": [
          "Happy_Sad_group"
         ],
         "Patient_Id": [
          "Patient_Id"
         ],
         "age": [
          "age"
         ],
         "first_name": [
          "first_name"
         ],
         "last_name": [
          "last_name"
         ]
        }
       },
       "Measures": {
        "MemoryScores.MEAN": {
         "formatter": "DOUBLE[#,###.00]"
        },
        "MemoryScores.SUM": {
         "formatter": "DOUBLE[#,###.00]"
        },
        "contributors.COUNT": {
         "formatter": null
        }
       }
      },
      "text/html": [
       "<ul>\n",
       "<li>Observations\n",
       "  <ul>\n",
       "  <li>Dimensions\n",
       "    <ul>\n",
       "    <li>Hierarchies\n",
       "      <ul>\n",
       "      <li>Before or After\n",
       "        <ol>\n",
       "        <li>Before or After</li>\n",
       "        </ol>      </li>\n",
       "      <li>Dosage\n",
       "        <ol>\n",
       "        <li>Dosage</li>\n",
       "        </ol>      </li>\n",
       "      <li>Drug\n",
       "        <ol>\n",
       "        <li>Drug</li>\n",
       "        </ol>      </li>\n",
       "      <li>Happy_Sad_group\n",
       "        <ol>\n",
       "        <li>Happy_Sad_group</li>\n",
       "        </ol>      </li>\n",
       "      <li>Patient_Id\n",
       "        <ol>\n",
       "        <li>Patient_Id</li>\n",
       "        </ol>      </li>\n",
       "      <li>age\n",
       "        <ol>\n",
       "        <li>age</li>\n",
       "        </ol>      </li>\n",
       "      <li>first_name\n",
       "        <ol>\n",
       "        <li>first_name</li>\n",
       "        </ol>      </li>\n",
       "      <li>last_name\n",
       "        <ol>\n",
       "        <li>last_name</li>\n",
       "        </ol>      </li>\n",
       "      </ul>\n",
       "    </li>\n",
       "    </ul>\n",
       "  </li>\n",
       "  <li>Measures\n",
       "    <ul>\n",
       "    <li>MemoryScores.MEAN\n",
       "      <ul>\n",
       "      <li>formatter: DOUBLE[#,###.00]</li>\n",
       "      </ul>\n",
       "    </li>\n",
       "    <li>MemoryScores.SUM\n",
       "      <ul>\n",
       "      <li>formatter: DOUBLE[#,###.00]</li>\n",
       "      </ul>\n",
       "    </li>\n",
       "    <li>contributors.COUNT\n",
       "      <ul>\n",
       "      <li>formatter: None</li>\n",
       "      </ul>\n",
       "    </li>\n",
       "    </ul>\n",
       "  </li>\n",
       "  </ul>\n",
       "</li>\n",
       "</ul>\n"
      ],
      "text/plain": [
       "<atoti.cube.Cube at 0x7fcb97edbe20>"
      ]
     },
     "execution_count": 8,
     "metadata": {
      "application/json": {
       "expanded": false,
       "root": "Observations"
      }
     },
     "output_type": "execute_result"
    }
   ],
   "source": [
    "# Quick access to manage hierarchies, levels and measures\n",
    "h = cube.hierarchies\n",
    "l = cube.levels\n",
    "m = cube.measures\n",
    "\n",
    "# Explore the hierarchies and measures created in the cube\n",
    "cube"
   ]
  },
  {
   "cell_type": "code",
   "execution_count": 9,
   "metadata": {},
   "outputs": [],
   "source": [
    "# Sorting the hierarchy, so that the Before measurements show first:\n",
    "l[\"Before or After\"].comparator = tt.comparator.DESC\n",
    "\n",
    "# This cell is hiding undesired metrics created by default.\n",
    "# To create a cube without any default metrics, create_cube need to be used with parameter mode = `no_measures`\n",
    "m[\"MemoryScores.SUM\"].visible = False"
   ]
  },
  {
   "cell_type": "markdown",
   "metadata": {},
   "source": [
    "# Adding attributes\n",
    "\n",
    "We are going to group the observations by age. To achieve that, let's create and upload a **age to group mapping** into a separate data store:"
   ]
  },
  {
   "cell_type": "code",
   "execution_count": 10,
   "metadata": {},
   "outputs": [],
   "source": [
    "age_groups_store = session.read_pandas(\n",
    "    pd.DataFrame(\n",
    "        data=[(\"0-25Y\", i) for i in range(25)]\n",
    "        + [(\"25Y - 40Y\", i) for i in range(25, 40)]\n",
    "        + [(\"40Y - 55Y\", i) for i in range(40, 55)]\n",
    "        + [(\"55Y+\", i) for i in range(55, 100)],\n",
    "        columns=[\"age group\", \"age\"],\n",
    "    ),\n",
    "    keys=[\"age\"],\n",
    "    store_name=\"Age Groups\",\n",
    ")\n",
    "\n",
    "observations_datastore.join(age_groups_store)"
   ]
  },
  {
   "cell_type": "code",
   "execution_count": 11,
   "metadata": {},
   "outputs": [
    {
     "data": {
      "image/svg+xml": [
       "<svg xmlns=\"http://www.w3.org/2000/svg\" xmlns:xlink=\"http://www.w3.org/1999/xlink\" width=\"473px\" height=\"258px\" viewBox=\"0.00 0.00 473.00 258.00\">\n",
       "<g id=\"graph0\" class=\"graph\" transform=\"scale(1.0 1.0) rotate(0) translate(4 254)\">\n",
       "<title>Observations schema</title>\n",
       "<polygon fill=\"white\" stroke=\"transparent\" points=\"-4,4 -4,-254 469,-254 469,4 -4,4\"/>\n",
       "<!-- Observations -->\n",
       "<g id=\"node1\" class=\"node\">\n",
       "<title>Observations</title>\n",
       "<text text-anchor=\"start\" x=\"65\" y=\"-230.6\" font-family=\"-apple-system, BlinkMacSystemFont, 'Segoe UI', Helvetica, Arial, sans-serif, 'Apple Color Emoji', 'Segoe UI Emoji', 'Segoe UI Symbol'\" font-weight=\"bold\" font-size=\"13.00\">Observations</text>\n",
       "<polygon fill=\"#f5f5f5\" stroke=\"transparent\" points=\"9.5,-197 9.5,-221 40.5,-221 40.5,-197 9.5,-197\"/>\n",
       "<text text-anchor=\"start\" x=\"14.5\" y=\"-206.6\" font-family=\"-apple-system, BlinkMacSystemFont, 'Segoe UI', Helvetica, Arial, sans-serif, 'Apple Color Emoji', 'Segoe UI Emoji', 'Segoe UI Symbol'\" font-weight=\"bold\" font-size=\"13.00\">key</text>\n",
       "<polygon fill=\"#f5f5f5\" stroke=\"transparent\" points=\"40.5,-197 40.5,-221 153.5,-221 153.5,-197 40.5,-197\"/>\n",
       "<text text-anchor=\"start\" x=\"45.5\" y=\"-205.6\" font-family=\"-apple-system, BlinkMacSystemFont, 'Segoe UI', Helvetica, Arial, sans-serif, 'Apple Color Emoji', 'Segoe UI Emoji', 'Segoe UI Symbol'\" font-size=\"13.00\">Patient_Id</text>\n",
       "<polygon fill=\"#f5f5f5\" stroke=\"transparent\" points=\"153.5,-197 153.5,-221 200.5,-221 200.5,-197 153.5,-197\"/>\n",
       "<text text-anchor=\"start\" x=\"161.5\" y=\"-206.6\" font-family=\"-apple-system, BlinkMacSystemFont, 'Segoe UI', Helvetica, Arial, sans-serif, 'Apple Color Emoji', 'Segoe UI Emoji', 'Segoe UI Symbol'\" font-style=\"italic\" font-size=\"13.00\">String</text>\n",
       "<polygon fill=\"#ffffff\" stroke=\"transparent\" points=\"9.5,-173 9.5,-197 40.5,-197 40.5,-173 9.5,-173\"/>\n",
       "<polygon fill=\"#ffffff\" stroke=\"transparent\" points=\"40.5,-173 40.5,-197 153.5,-197 153.5,-173 40.5,-173\"/>\n",
       "<text text-anchor=\"start\" x=\"45.5\" y=\"-181.6\" font-family=\"-apple-system, BlinkMacSystemFont, 'Segoe UI', Helvetica, Arial, sans-serif, 'Apple Color Emoji', 'Segoe UI Emoji', 'Segoe UI Symbol'\" font-size=\"13.00\">first_name</text>\n",
       "<polygon fill=\"#ffffff\" stroke=\"transparent\" points=\"153.5,-173 153.5,-197 200.5,-197 200.5,-173 153.5,-173\"/>\n",
       "<text text-anchor=\"start\" x=\"161.5\" y=\"-182.6\" font-family=\"-apple-system, BlinkMacSystemFont, 'Segoe UI', Helvetica, Arial, sans-serif, 'Apple Color Emoji', 'Segoe UI Emoji', 'Segoe UI Symbol'\" font-style=\"italic\" font-size=\"13.00\">String</text>\n",
       "<polygon fill=\"#f5f5f5\" stroke=\"transparent\" points=\"9.5,-149 9.5,-173 40.5,-173 40.5,-149 9.5,-149\"/>\n",
       "<polygon fill=\"#f5f5f5\" stroke=\"transparent\" points=\"40.5,-149 40.5,-173 153.5,-173 153.5,-149 40.5,-149\"/>\n",
       "<text text-anchor=\"start\" x=\"45.5\" y=\"-157.6\" font-family=\"-apple-system, BlinkMacSystemFont, 'Segoe UI', Helvetica, Arial, sans-serif, 'Apple Color Emoji', 'Segoe UI Emoji', 'Segoe UI Symbol'\" font-size=\"13.00\">last_name</text>\n",
       "<polygon fill=\"#f5f5f5\" stroke=\"transparent\" points=\"153.5,-149 153.5,-173 200.5,-173 200.5,-149 153.5,-149\"/>\n",
       "<text text-anchor=\"start\" x=\"161.5\" y=\"-158.6\" font-family=\"-apple-system, BlinkMacSystemFont, 'Segoe UI', Helvetica, Arial, sans-serif, 'Apple Color Emoji', 'Segoe UI Emoji', 'Segoe UI Symbol'\" font-style=\"italic\" font-size=\"13.00\">String</text>\n",
       "<polygon fill=\"#ffffff\" stroke=\"transparent\" points=\"9.5,-125 9.5,-149 40.5,-149 40.5,-125 9.5,-125\"/>\n",
       "<polygon fill=\"#ffffff\" stroke=\"transparent\" points=\"40.5,-125 40.5,-149 153.5,-149 153.5,-125 40.5,-125\"/>\n",
       "<text text-anchor=\"start\" x=\"45.5\" y=\"-133.6\" font-family=\"-apple-system, BlinkMacSystemFont, 'Segoe UI', Helvetica, Arial, sans-serif, 'Apple Color Emoji', 'Segoe UI Emoji', 'Segoe UI Symbol'\" font-size=\"13.00\">age</text>\n",
       "<polygon fill=\"#ffffff\" stroke=\"transparent\" points=\"153.5,-125 153.5,-149 200.5,-149 200.5,-125 153.5,-125\"/>\n",
       "<text text-anchor=\"start\" x=\"171.5\" y=\"-134.6\" font-family=\"-apple-system, BlinkMacSystemFont, 'Segoe UI', Helvetica, Arial, sans-serif, 'Apple Color Emoji', 'Segoe UI Emoji', 'Segoe UI Symbol'\" font-style=\"italic\" font-size=\"13.00\">long</text>\n",
       "<polygon fill=\"#f5f5f5\" stroke=\"transparent\" points=\"9.5,-101 9.5,-125 40.5,-125 40.5,-101 9.5,-101\"/>\n",
       "<polygon fill=\"#f5f5f5\" stroke=\"transparent\" points=\"40.5,-101 40.5,-125 153.5,-125 153.5,-101 40.5,-101\"/>\n",
       "<text text-anchor=\"start\" x=\"45.5\" y=\"-109.6\" font-family=\"-apple-system, BlinkMacSystemFont, 'Segoe UI', Helvetica, Arial, sans-serif, 'Apple Color Emoji', 'Segoe UI Emoji', 'Segoe UI Symbol'\" font-size=\"13.00\">Happy_Sad_group</text>\n",
       "<polygon fill=\"#f5f5f5\" stroke=\"transparent\" points=\"153.5,-101 153.5,-125 200.5,-125 200.5,-101 153.5,-101\"/>\n",
       "<text text-anchor=\"start\" x=\"161.5\" y=\"-110.6\" font-family=\"-apple-system, BlinkMacSystemFont, 'Segoe UI', Helvetica, Arial, sans-serif, 'Apple Color Emoji', 'Segoe UI Emoji', 'Segoe UI Symbol'\" font-style=\"italic\" font-size=\"13.00\">String</text>\n",
       "<polygon fill=\"#ffffff\" stroke=\"transparent\" points=\"9.5,-77 9.5,-101 40.5,-101 40.5,-77 9.5,-77\"/>\n",
       "<polygon fill=\"#ffffff\" stroke=\"transparent\" points=\"40.5,-77 40.5,-101 153.5,-101 153.5,-77 40.5,-77\"/>\n",
       "<text text-anchor=\"start\" x=\"45.5\" y=\"-85.6\" font-family=\"-apple-system, BlinkMacSystemFont, 'Segoe UI', Helvetica, Arial, sans-serif, 'Apple Color Emoji', 'Segoe UI Emoji', 'Segoe UI Symbol'\" font-size=\"13.00\">Dosage</text>\n",
       "<polygon fill=\"#ffffff\" stroke=\"transparent\" points=\"153.5,-77 153.5,-101 200.5,-101 200.5,-77 153.5,-77\"/>\n",
       "<text text-anchor=\"start\" x=\"171.5\" y=\"-86.6\" font-family=\"-apple-system, BlinkMacSystemFont, 'Segoe UI', Helvetica, Arial, sans-serif, 'Apple Color Emoji', 'Segoe UI Emoji', 'Segoe UI Symbol'\" font-style=\"italic\" font-size=\"13.00\">long</text>\n",
       "<polygon fill=\"#f5f5f5\" stroke=\"transparent\" points=\"9.5,-53 9.5,-77 40.5,-77 40.5,-53 9.5,-53\"/>\n",
       "<polygon fill=\"#f5f5f5\" stroke=\"transparent\" points=\"40.5,-53 40.5,-77 153.5,-77 153.5,-53 40.5,-53\"/>\n",
       "<text text-anchor=\"start\" x=\"45.5\" y=\"-61.6\" font-family=\"-apple-system, BlinkMacSystemFont, 'Segoe UI', Helvetica, Arial, sans-serif, 'Apple Color Emoji', 'Segoe UI Emoji', 'Segoe UI Symbol'\" font-size=\"13.00\">Drug</text>\n",
       "<polygon fill=\"#f5f5f5\" stroke=\"transparent\" points=\"153.5,-53 153.5,-77 200.5,-77 200.5,-53 153.5,-53\"/>\n",
       "<text text-anchor=\"start\" x=\"161.5\" y=\"-62.6\" font-family=\"-apple-system, BlinkMacSystemFont, 'Segoe UI', Helvetica, Arial, sans-serif, 'Apple Color Emoji', 'Segoe UI Emoji', 'Segoe UI Symbol'\" font-style=\"italic\" font-size=\"13.00\">String</text>\n",
       "<polygon fill=\"#ffffff\" stroke=\"transparent\" points=\"9.5,-29 9.5,-53 40.5,-53 40.5,-29 9.5,-29\"/>\n",
       "<text text-anchor=\"start\" x=\"14.5\" y=\"-38.6\" font-family=\"-apple-system, BlinkMacSystemFont, 'Segoe UI', Helvetica, Arial, sans-serif, 'Apple Color Emoji', 'Segoe UI Emoji', 'Segoe UI Symbol'\" font-weight=\"bold\" font-size=\"13.00\">key</text>\n",
       "<polygon fill=\"#ffffff\" stroke=\"transparent\" points=\"40.5,-29 40.5,-53 153.5,-53 153.5,-29 40.5,-29\"/>\n",
       "<text text-anchor=\"start\" x=\"45.5\" y=\"-37.6\" font-family=\"-apple-system, BlinkMacSystemFont, 'Segoe UI', Helvetica, Arial, sans-serif, 'Apple Color Emoji', 'Segoe UI Emoji', 'Segoe UI Symbol'\" font-size=\"13.00\">Before or After</text>\n",
       "<polygon fill=\"#ffffff\" stroke=\"transparent\" points=\"153.5,-29 153.5,-53 200.5,-53 200.5,-29 153.5,-29\"/>\n",
       "<text text-anchor=\"start\" x=\"161.5\" y=\"-38.6\" font-family=\"-apple-system, BlinkMacSystemFont, 'Segoe UI', Helvetica, Arial, sans-serif, 'Apple Color Emoji', 'Segoe UI Emoji', 'Segoe UI Symbol'\" font-style=\"italic\" font-size=\"13.00\">String</text>\n",
       "<polygon fill=\"#f5f5f5\" stroke=\"transparent\" points=\"9.5,-5 9.5,-29 40.5,-29 40.5,-5 9.5,-5\"/>\n",
       "<polygon fill=\"#f5f5f5\" stroke=\"transparent\" points=\"40.5,-5 40.5,-29 153.5,-29 153.5,-5 40.5,-5\"/>\n",
       "<text text-anchor=\"start\" x=\"45.5\" y=\"-13.6\" font-family=\"-apple-system, BlinkMacSystemFont, 'Segoe UI', Helvetica, Arial, sans-serif, 'Apple Color Emoji', 'Segoe UI Emoji', 'Segoe UI Symbol'\" font-size=\"13.00\">MemoryScores</text>\n",
       "<polygon fill=\"#f5f5f5\" stroke=\"transparent\" points=\"153.5,-5 153.5,-29 200.5,-29 200.5,-5 153.5,-5\"/>\n",
       "<text text-anchor=\"start\" x=\"158.5\" y=\"-14.6\" font-family=\"-apple-system, BlinkMacSystemFont, 'Segoe UI', Helvetica, Arial, sans-serif, 'Apple Color Emoji', 'Segoe UI Emoji', 'Segoe UI Symbol'\" font-style=\"italic\" font-size=\"13.00\">double</text>\n",
       "<polygon fill=\"none\" stroke=\"black\" points=\"8,-4 8,-246 201,-246 201,-4 8,-4\"/>\n",
       "</g>\n",
       "<!-- Age Groups -->\n",
       "<g id=\"node2\" class=\"node\">\n",
       "<title>Age Groups</title>\n",
       "<text text-anchor=\"start\" x=\"350\" y=\"-146.6\" font-family=\"-apple-system, BlinkMacSystemFont, 'Segoe UI', Helvetica, Arial, sans-serif, 'Apple Color Emoji', 'Segoe UI Emoji', 'Segoe UI Symbol'\" font-weight=\"bold\" font-size=\"13.00\">Age Groups</text>\n",
       "<polygon fill=\"#f5f5f5\" stroke=\"transparent\" points=\"315.5,-113 315.5,-137 346.5,-137 346.5,-113 315.5,-113\"/>\n",
       "<polygon fill=\"#f5f5f5\" stroke=\"transparent\" points=\"346.5,-113 346.5,-137 412.5,-137 412.5,-113 346.5,-113\"/>\n",
       "<text text-anchor=\"start\" x=\"351.5\" y=\"-121.6\" font-family=\"-apple-system, BlinkMacSystemFont, 'Segoe UI', Helvetica, Arial, sans-serif, 'Apple Color Emoji', 'Segoe UI Emoji', 'Segoe UI Symbol'\" font-size=\"13.00\">age group</text>\n",
       "<polygon fill=\"#f5f5f5\" stroke=\"transparent\" points=\"412.5,-113 412.5,-137 456.5,-137 456.5,-113 412.5,-113\"/>\n",
       "<text text-anchor=\"start\" x=\"417.5\" y=\"-122.6\" font-family=\"-apple-system, BlinkMacSystemFont, 'Segoe UI', Helvetica, Arial, sans-serif, 'Apple Color Emoji', 'Segoe UI Emoji', 'Segoe UI Symbol'\" font-style=\"italic\" font-size=\"13.00\">String</text>\n",
       "<polygon fill=\"#ffffff\" stroke=\"transparent\" points=\"315.5,-89 315.5,-113 346.5,-113 346.5,-89 315.5,-89\"/>\n",
       "<text text-anchor=\"start\" x=\"320.5\" y=\"-98.6\" font-family=\"-apple-system, BlinkMacSystemFont, 'Segoe UI', Helvetica, Arial, sans-serif, 'Apple Color Emoji', 'Segoe UI Emoji', 'Segoe UI Symbol'\" font-weight=\"bold\" font-size=\"13.00\">key</text>\n",
       "<polygon fill=\"#ffffff\" stroke=\"transparent\" points=\"346.5,-89 346.5,-113 412.5,-113 412.5,-89 346.5,-89\"/>\n",
       "<text text-anchor=\"start\" x=\"351.5\" y=\"-97.6\" font-family=\"-apple-system, BlinkMacSystemFont, 'Segoe UI', Helvetica, Arial, sans-serif, 'Apple Color Emoji', 'Segoe UI Emoji', 'Segoe UI Symbol'\" font-size=\"13.00\">age</text>\n",
       "<polygon fill=\"#ffffff\" stroke=\"transparent\" points=\"412.5,-89 412.5,-113 456.5,-113 456.5,-89 412.5,-89\"/>\n",
       "<text text-anchor=\"start\" x=\"427.5\" y=\"-98.6\" font-family=\"-apple-system, BlinkMacSystemFont, 'Segoe UI', Helvetica, Arial, sans-serif, 'Apple Color Emoji', 'Segoe UI Emoji', 'Segoe UI Symbol'\" font-style=\"italic\" font-size=\"13.00\">long</text>\n",
       "<polygon fill=\"none\" stroke=\"black\" points=\"314,-88 314,-162 457,-162 457,-88 314,-88\"/>\n",
       "</g>\n",
       "<!-- Observations&#45;&gt;Age Groups -->\n",
       "<g id=\"edge1\" class=\"edge\">\n",
       "<title>Observations-&gt;Age Groups</title>\n",
       "<path fill=\"none\" stroke=\"black\" d=\"M209.39,-125C237.69,-125 268.08,-125 295.48,-125\"/>\n",
       "<polygon fill=\"black\" stroke=\"black\" points=\"295.82,-128.5 305.82,-125 295.82,-121.5 295.82,-128.5\"/>\n",
       "<text text-anchor=\"middle\" x=\"257.5\" y=\"-128.6\" font-family=\"-apple-system, BlinkMacSystemFont, 'Segoe UI', Helvetica, Arial, sans-serif, 'Apple Color Emoji', 'Segoe UI Emoji', 'Segoe UI Symbol'\" font-size=\"13.00\">age → age</text>\n",
       "</g>\n",
       "</g>\n",
       "</svg>"
      ],
      "text/plain": [
       "<IPython.core.display.SVG object>"
      ]
     },
     "execution_count": 11,
     "metadata": {},
     "output_type": "execute_result"
    }
   ],
   "source": [
    "cube.schema"
   ]
  },
  {
   "cell_type": "markdown",
   "metadata": {},
   "source": [
    "We will start using this grouping in the following cell."
   ]
  },
  {
   "cell_type": "code",
   "execution_count": 12,
   "metadata": {
    "atoti": {
     "height": 225,
     "state": {
      "name": "",
      "type": "container",
      "value": {
       "body": {
        "configuration": {
         "tabular": {
          "addButtonFilter": "numeric",
          "cellRenderers": [
           "tree-layout"
          ],
          "columns": [
           {
            "key": "[Measures].[Mem_Score_After.SUM]",
            "width": 210
           },
           {
            "key": "[Measures].[Mem_Score_Before.MEAN]",
            "width": 222
           },
           {
            "key": "[Measures].[MemoryScores.MEAN]",
            "width": 190
           }
          ],
          "columnsGroups": [
           {
            "captionProducer": "firstColumn",
            "cellFactory": "kpi-status",
            "selector": "kpi-status"
           },
           {
            "captionProducer": "firstColumn",
            "cellFactory": "lookup",
            "selector": "lookup"
           },
           {
            "captionProducer": "expiry",
            "cellFactory": "expiry",
            "selector": "kpi-expiry"
           },
           {
            "captionProducer": "columnMerge",
            "cellFactory": {
             "args": {},
             "key": "treeCells"
            },
            "selector": "member"
           }
          ],
          "defaultOptions": {},
          "expansion": {
           "automaticExpansion": true
          },
          "hideAddButton": true,
          "pinnedHeaderSelector": "member",
          "sortingMode": "non-breaking",
          "statisticsShown": true
         }
        },
        "contextValues": {},
        "mdx": "SELECT NON EMPTY Hierarchize(DrilldownLevel([Hierarchies].[age group].[ALL].[AllMember])) ON ROWS, NON EMPTY [Measures].[MemoryScores.MEAN] ON COLUMNS FROM [Observations] CELL PROPERTIES VALUE, FORMATTED_VALUE, BACK_COLOR, FORE_COLOR, FONT_FLAGS",
        "ranges": {
         "column": {
          "chunkSize": 50,
          "thresholdPercentage": 0.2
         },
         "row": {
          "chunkSize": 2000,
          "thresholdPercentage": 0.1
         }
        },
        "serverUrl": "",
        "updateMode": "once"
       },
       "containerKey": "pivot-table",
       "showTitleBar": false,
       "style": {}
      }
     }
    }
   },
   "outputs": [
    {
     "data": {
      "application/vnd.atoti.v0+json": {
       "cellSet": {
        "axes": [
         {
          "hierarchies": [
           {
            "dimension": "Measures",
            "hierarchy": "Measures"
           }
          ],
          "id": 0,
          "positions": [
           [
            {
             "captionPath": [
              "MemoryScores.MEAN"
             ],
             "namePath": [
              "MemoryScores.MEAN"
             ],
             "properties": {
              "DISPLAY_INFO": 0
             }
            }
           ]
          ]
         },
         {
          "hierarchies": [
           {
            "dimension": "Hierarchies",
            "hierarchy": "age group"
           }
          ],
          "id": 1,
          "positions": [
           [
            {
             "captionPath": [
              "AllMember"
             ],
             "namePath": [
              "AllMember"
             ],
             "properties": {
              "DISPLAY_INFO": 65541
             }
            }
           ],
           [
            {
             "captionPath": [
              "AllMember",
              "0-25Y"
             ],
             "namePath": [
              "AllMember",
              "0-25Y"
             ],
             "properties": {
              "DISPLAY_INFO": 0
             }
            }
           ],
           [
            {
             "captionPath": [
              "AllMember",
              "25Y - 40Y"
             ],
             "namePath": [
              "AllMember",
              "25Y - 40Y"
             ],
             "properties": {
              "DISPLAY_INFO": 131072
             }
            }
           ],
           [
            {
             "captionPath": [
              "AllMember",
              "40Y - 55Y"
             ],
             "namePath": [
              "AllMember",
              "40Y - 55Y"
             ],
             "properties": {
              "DISPLAY_INFO": 131072
             }
            }
           ],
           [
            {
             "captionPath": [
              "AllMember",
              "55Y+"
             ],
             "namePath": [
              "AllMember",
              "55Y+"
             ],
             "properties": {
              "DISPLAY_INFO": 131072
             }
            }
           ]
          ]
         }
        ],
        "cells": [
         {
          "formattedValue": "59.44",
          "ordinal": 0,
          "properties": {
           "BACK_COLOR": null,
           "FONT_FLAGS": 0,
           "FORE_COLOR": null
          },
          "value": 59.4449494949495
         },
         {
          "formattedValue": "55.40",
          "ordinal": 1,
          "properties": {
           "BACK_COLOR": null,
           "FONT_FLAGS": 0,
           "FORE_COLOR": null
          },
          "value": 55.400000000000006
         },
         {
          "formattedValue": "59.52",
          "ordinal": 2,
          "properties": {
           "BACK_COLOR": null,
           "FONT_FLAGS": 0,
           "FORE_COLOR": null
          },
          "value": 59.521249999999995
         },
         {
          "formattedValue": "57.27",
          "ordinal": 3,
          "properties": {
           "BACK_COLOR": null,
           "FONT_FLAGS": 0,
           "FORE_COLOR": null
          },
          "value": 57.275
         },
         {
          "formattedValue": "65.80",
          "ordinal": 4,
          "properties": {
           "BACK_COLOR": null,
           "FONT_FLAGS": 0,
           "FORE_COLOR": null
          },
          "value": 65.8
         }
        ],
        "cube": "Observations",
        "defaultMembers": [
         {
          "captionPath": [
           "Count"
          ],
          "dimension": "Measures",
          "hierarchy": "Measures",
          "path": [
           "contributors.COUNT"
          ]
         },
         {
          "captionPath": [
           "Base"
          ],
          "dimension": "Epoch",
          "hierarchy": "Epoch",
          "path": [
           "Base"
          ]
         }
        ],
        "epoch": 2
       },
       "cube": "Observations",
       "error": null,
       "name": null,
       "session": "Unnamed"
      },
      "text/html": [
       "<img src=\"data:image/svg+xml;charset=utf8,%3C?xml%20version=%221.0%22%20standalone=%22no%22?%3E%0A%20%20%20%20%3Csvg%20xmlns=%22http://www.w3.org/2000/svg%22%20width=%221541%22%20height=%22225%22%3E%0A%20%20%20%20%20%20%3CforeignObject%20x=%220%22%20y=%220%22%20width=%22100%25%22%20height=%22100%25%22%3E%0A%20%20%20%20%20%20%20%20%3Cstyle%20type=%22text/css%22%3E.css-xsa55j-dock%20%7Bposition:%20relative;%20z-index:%200;%20height:%20100%25;%20background-color:%20rgb(255,%20255,%20255);%20display:%20flex;%20flex-direction:%20column%7D%0A.css-1ibuxvk-DockBody%20%7Bpadding-top:%200px;%20padding-left:%200px;%20padding-right:%200px;%20padding-bottom:%200px;%20flex-grow:%201;%20flex-shrink:%201;%20flex-basis:%200%25;%20box-sizing:%20border-box;%20position:%20relative;%20z-index:%200;%20overflow-x:%20hidden;%20overflow-y:%20hidden%7D%0A.css-14zuz97%20%7Bbackground-image:%20initial;%20background-position-x:%20initial;%20background-position-y:%20initial;%20background-size:%20initial;%20background-repeat-x:%20initial;%20background-repeat-y:%20initial;%20background-attachment:%20initial;%20background-origin:%20initial;%20background-color:%20rgba(0,%200,%200,%200.2);%20z-index:%201;%20box-sizing:%20border-box;%20background-clip:%20padding-box%7D%0A.css-14zuz97.vertical%20%7Bwidth:%2012px;%20margin-top:%200px;%20margin-right:%20-6px;%20margin-bottom:%200px;%20margin-left:%20-6px;%20border-left-width:%205.5px;%20border-left-style:%20solid;%20border-left-color:%20transparent;%20border-right-width:%205.5px;%20border-right-style:%20solid;%20border-right-color:%20transparent;%20cursor:%20col-resize%7D%0A.css-14zuz97.disabled%20%7Bdisplay:%20none%7D%0A.css-1lrljg1-EditorSplitPane%20%7Bbackground-color:%20rgb(255,%20255,%20255);%20flex-grow:%201;%20flex-shrink:%201;%20flex-basis:%200%25;%20margin-right:%200px;%20position:%20relative%7D%0A.css-15fz3t7-EditorSplitPane%20%7Bposition:%20absolute;%20top:%200px;%20bottom:%200px;%20left:%200px;%20right:%200px;%20display:%20flex;%20flex-direction:%20column%7D%0A.css-1ouk3zc-EditorSplitPane%20%7Bbackground-color:%20rgb(255,%20255,%20255);%20flex-grow:%201;%20flex-shrink:%201;%20flex-basis:%200%25%7D%0A.css-1jjvrwi-EditorSplitPane%20%7Bposition:%20absolute;%20top:%200px;%20bottom:%200px;%20left:%200px;%20right:%200px;%20overflow-y:%20auto%7D%0A.css-1k1fxuh-Tabular%20%7Bwidth:%20100%25;%20height:%20100%25;%20position:%20relative%7D%0A.css-10klw3m%20%7Bheight:%20100%25%7D%0A.css-mdjjdg-TabularHeader%20%7Bdisplay:%20flex%7D%0A.css-12nzxaz-PinnedTabularHeaders%20%7Bflex-shrink:%200;%20display:%20flex%7D%0A.css-s4fjko-TabularPinnSeparator%20%7Bwidth:%202px;%20height:%2028px;%20background-color:%20rgb(233,%20233,%20233)%7D%0A.css-5jtkjp-UnpinnedTabularHeaders%20%7Bdisplay:%20flex;%20position:%20absolute;%20left:%200px%7D%0A.css-19w2ip5-TabularHeaderCell%20%7Bcursor:%20default;%20-webkit-box-flex:%201;%20flex-grow:%201;%20flex-shrink:%201;%20box-sizing:%20border-box;%20padding-left:%204px;%20padding-right:%204px;%20padding-top:%204px;%20padding-bottom:%204px;%20height:%20100%25;%20overflow-x:%20hidden;%20overflow-y:%20hidden;%20display:%20flex;%20white-space:%20nowrap;%20-webkit-box-pack:%20start;%20justify-content:%20flex-start;%20align-items:%20flex-start%7D%0A.css-jpazdc-TabularHeaderCell%20%7Boverflow-x:%20hidden;%20overflow-y:%20hidden;%20text-overflow:%20ellipsis%7D%0A.css-y3oqqp%20%7Bfont-size:%2012px;%20line-height:%2022px;%20font-weight:%20600;%20color:%20rgba(0,%200,%200,%200.85)%7D%0A.css-c7y3a7-TabularHeaderCell%20%7Bflex-shrink:%200;%20height:%20100%25;%20display:%20flex;%20-webkit-box-pack:%20center;%20justify-content:%20center%7D%0A.css-1id6sm3-UnpinnedTabularRows%20%7Bposition:%20absolute;%20top:%200px;%20left:%200px%7D%0A.css-3cge9w%20%7Bcursor:%20cell;%20display:%20flex;%20height:%2028px;%20user-select:%20none%7D%0A.css-9ssj44-TreeCell%20%7Bwidth:%20min-content%7D%0A.css-mkrhzq%20%7Bdisplay:%20flex;%20margin-left:%200px%7D%0A.css-8uhtka%20%7Boverflow-x:%20hidden;%20overflow-y:%20hidden;%20text-overflow:%20ellipsis;%20white-space:%20nowrap%7D%0A.css-pm742e%20%7Bcursor:%20pointer;%20margin-top:%202px;%20height:%20inherit;%20display:%20flex;%20-webkit-box-align:%20center;%20align-items:%20center;%20font-size:%2010px;%20-webkit-box-pack:%20center;%20justify-content:%20center;%20padding-left:%204px%7D%0A.css-1i6gc04%20%7Bcursor:%20pointer;%20margin-top:%202px;%20height:%20inherit;%20display:%20flex;%20-webkit-box-align:%20center;%20align-items:%20center;%20font-size:%2010px;%20width:%2016px%7D%0A.css-8r2ljj-PinnedTabularRows%20%7Bposition:%20absolute;%20right:%200px%7D%0A.css-mkoicc-CaptionCellRenderer%20%7Bwidth:%20100%25;%20overflow-x:%20hidden;%20overflow-y:%20hidden;%20text-overflow:%20ellipsis;%20white-space:%20nowrap%7D%0A.css-t881dv-SelectionStatistics%20%7Bheight:%2020px;%20display:%20flex;%20padding-top:%205px;%20opacity:%200;%20transition-duration:%20300ms;%20transition-timing-function:%20ease;%20transition-delay:%200s;%20transition-property:%20opacity;%20position:%20absolute;%20right:%200px;%20left:%20unset%7D%0A.css-90jv4-TabularHeaderGroup%20%7Bposition:%20relative;%20width:%20300px%7D%0A.css-7fgdvs%20%7Bcolor:%20rgba(0,%200,%200,%200.85);%20display:%20flex;%20box-sizing:%20border-box;%20-webkit-box-align:%20center;%20align-items:%20center;%20height:%2028px;%20position:%20absolute;%20top:%200px;%20left:%200px;%20user-select:%20none;%20font-size:%2012px;%20line-height:%2022px;%20font-weight:%20600;%20border-bottom-width:%202px;%20border-bottom-style:%20solid;%20border-bottom-color:%20rgb(233,%20233,%20233);%20width:%20300px;%20border-right-width:%201px;%20border-right-style:%20solid;%20border-right-color:%20rgb(233,%20233,%20233)%7D%0A.css-1xstd3f-HeaderResizer%20%7Bposition:%20absolute;%20z-index:%201;%20width:%2010px;%20height:%2028px;%20left:%20295px;%20top:%200px;%20cursor:%20col-resize%7D%0A.css-11buol4-HeaderResizer%20%7Bposition:%20absolute;%20z-index:%201;%20height:%2010px;%20width:%20300px;%20left:%200px;%20top:%2023px;%20cursor:%20row-resize%7D%0A.css-dko0re%20%7Bheight:%20100%25;%20box-sizing:%20border-box;%20display:%20flex;%20-webkit-box-pack:%20end;%20justify-content:%20flex-end;%20flex-direction:%20column;%20padding-top:%204px;%20padding-left:%204px;%20padding-right:%204px;%20padding-bottom:%203px;%20overflow-x:%20hidden;%20overflow-y:%20hidden;%20white-space:%20nowrap;%20border-right-width:%201px;%20border-right-style:%20solid;%20border-right-color:%20rgb(233,%20233,%20233);%20border-bottom-width:%20initial;%20border-bottom-style:%20none;%20border-bottom-color:%20initial;%20width:%20300px;%20align-items:%20flex-start%7D%0A.css-1vx52ag-UnpinnedTabularHeaders%20%7Boverflow-x:%20hidden;%20overflow-y:%20hidden;%20position:%20relative;%20width:%201241px;%20height:%2028px%7D%0A.css-134urz3-PinnedTabularRows%20%7Bposition:%20absolute;%20overflow-x:%20hidden;%20overflow-y:%20hidden;%20top:%200px;%20width:%20300px%7D%0A.css-jyaidn%20%7Bheight:%20100%25;%20box-sizing:%20border-box;%20display:%20flex;%20-webkit-box-pack:%20end;%20justify-content:%20flex-end;%20flex-direction:%20column;%20padding-top:%204px;%20padding-left:%204px;%20padding-right:%204px;%20padding-bottom:%203px;%20overflow-x:%20hidden;%20overflow-y:%20hidden;%20white-space:%20nowrap;%20border-right-width:%201px;%20border-right-style:%20solid;%20border-right-color:%20rgb(233,%20233,%20233);%20border-bottom-width:%20initial;%20border-bottom-style:%20none;%20border-bottom-color:%20initial;%20width:%20300px;%20align-items:%20flex-start;%20background-color:%20rgb(250,%20250,%20250)%7D%0A.css-qy2zlt-Tabular%20%7Bposition:%20relative;%20height:%20100%25;%20width:%20509px%7D%0A.css-1v90vwf-TabularHeaderGroup%20%7Bposition:%20relative;%20width:%20190px%7D%0A.css-102oxfu%20%7Bcolor:%20rgba(0,%200,%200,%200.85);%20display:%20flex;%20box-sizing:%20border-box;%20-webkit-box-align:%20center;%20align-items:%20center;%20height:%2028px;%20position:%20absolute;%20top:%200px;%20left:%200px;%20user-select:%20none;%20font-size:%2012px;%20line-height:%2022px;%20font-weight:%20600;%20border-bottom-width:%202px;%20border-bottom-style:%20solid;%20border-bottom-color:%20rgb(233,%20233,%20233);%20width:%20190px;%20border-right-width:%201px;%20border-right-style:%20solid;%20border-right-color:%20rgb(233,%20233,%20233)%7D%0A.css-ckizwt-HeaderResizer%20%7Bposition:%20absolute;%20z-index:%201;%20width:%2010px;%20height:%2028px;%20left:%20185px;%20top:%200px;%20cursor:%20col-resize%7D%0A.css-1p38txt-HeaderResizer%20%7Bposition:%20absolute;%20z-index:%201;%20height:%2010px;%20width:%20190px;%20left:%200px;%20top:%2023px;%20cursor:%20row-resize%7D%0A.css-1xdd83b-TabularBody%20%7Bposition:%20relative;%20overflow-x:%20hidden;%20overflow-y:%20hidden;%20top:%200px;%20width:%20492px;%20height:%20140px%7D%0A.css-1rtkhyk-PinnedTabularRows%20%7Bposition:%20absolute;%20height:%20140px;%20width:%20302px;%20overflow-x:%20hidden;%20overflow-y:%20hidden%7D%0A.css-jym0g7%20%7Bheight:%20100%25;%20box-sizing:%20border-box;%20display:%20flex;%20-webkit-box-pack:%20end;%20justify-content:%20flex-end;%20flex-direction:%20column;%20padding-top:%204px;%20padding-left:%204px;%20padding-right:%204px;%20padding-bottom:%203px;%20overflow-x:%20hidden;%20overflow-y:%20hidden;%20white-space:%20nowrap;%20border-right-width:%201px;%20border-right-style:%20solid;%20border-right-color:%20rgb(233,%20233,%20233);%20border-bottom-width:%201px;%20border-bottom-style:%20solid;%20border-bottom-color:%20rgb(233,%20233,%20233);%20width:%20300px;%20align-items:%20flex-start;%20background-color:%20rgb(250,%20250,%20250)%7D%0A.css-8zvwca-PinnedTabularRows%20%7Bwidth:%202px;%20height:%20140px;%20background-color:%20rgb(233,%20233,%20233)%7D%0A.css-10towoe-UnpinnedTabularRows%20%7Bposition:%20absolute;%20overflow-x:%20hidden;%20overflow-y:%20hidden;%20left:%20302px;%20height:%20140px;%20width:%20190px%7D%0A.css-1lf1yf1-TabularCell%20%7Bheight:%2028px;%20box-sizing:%20border-box;%20display:%20flex;%20-webkit-box-pack:%20end;%20justify-content:%20flex-end;%20flex-direction:%20column;%20padding-top:%204px;%20padding-left:%204px;%20padding-right:%204px;%20padding-bottom:%203px;%20overflow-x:%20hidden;%20overflow-y:%20hidden;%20white-space:%20nowrap;%20border-right-width:%201px;%20border-right-style:%20solid;%20border-right-color:%20rgb(233,%20233,%20233);%20border-bottom-width:%20initial;%20border-bottom-style:%20none;%20border-bottom-color:%20initial;%20width:%20190px;%20background-color:%20rgb(250,%20250,%20250);%20cursor:%20cell;%20user-select:%20none;%20text-align:%20right;%20align-items:%20flex-end%7D%0A.css-r501dj-TabularCell%20%7Bheight:%2028px;%20box-sizing:%20border-box;%20display:%20flex;%20-webkit-box-pack:%20end;%20justify-content:%20flex-end;%20flex-direction:%20column;%20padding-top:%204px;%20padding-left:%204px;%20padding-right:%204px;%20padding-bottom:%203px;%20overflow-x:%20hidden;%20overflow-y:%20hidden;%20white-space:%20nowrap;%20border-right-width:%201px;%20border-right-style:%20solid;%20border-right-color:%20rgb(233,%20233,%20233);%20border-bottom-width:%20initial;%20border-bottom-style:%20none;%20border-bottom-color:%20initial;%20width:%20190px;%20cursor:%20cell;%20user-select:%20none;%20text-align:%20right;%20align-items:%20flex-end%7D%0A.css-1pvmdv6-TabularCell%20%7Bheight:%2028px;%20box-sizing:%20border-box;%20display:%20flex;%20-webkit-box-pack:%20end;%20justify-content:%20flex-end;%20flex-direction:%20column;%20padding-top:%204px;%20padding-left:%204px;%20padding-right:%204px;%20padding-bottom:%203px;%20overflow-x:%20hidden;%20overflow-y:%20hidden;%20white-space:%20nowrap;%20border-right-width:%201px;%20border-right-style:%20solid;%20border-right-color:%20rgb(233,%20233,%20233);%20border-bottom-width:%201px;%20border-bottom-style:%20solid;%20border-bottom-color:%20rgb(233,%20233,%20233);%20width:%20190px;%20background-color:%20rgb(250,%20250,%20250);%20cursor:%20cell;%20user-select:%20none;%20text-align:%20right;%20align-items:%20flex-end%7D%0A.ant-root%20html,%20.ant-root%20%7Bwidth:%20100%25;%20height:%20100%25%7D%0A.ant-root%20*,%20.ant-root%20::before,%20.ant-root%20::after%20%7Bbox-sizing:%20border-box%7D%0A.ant-root%20%7Bmargin-top:%200px;%20margin-right:%200px;%20margin-bottom:%200px;%20margin-left:%200px;%20color:%20rgba(0,%200,%200,%200.65);%20font-size:%2014px;%20font-family:%20-apple-system,%20BlinkMacSystemFont,%20%22Segoe%20UI%22,%20%22PingFang%20SC%22,%20%22Hiragino%20Sans%20GB%22,%20%22Microsoft%20YaHei%22,%20%22Helvetica%20Neue%22,%20Helvetica,%20Arial,%20sans-serif,%20%22Apple%20Color%20Emoji%22,%20%22Segoe%20UI%20Emoji%22,%20%22Segoe%20UI%20Symbol%22;%20font-variant-ligatures:%20normal;%20font-variant-numeric:%20tabular-nums;%20font-variant-east-asian:%20normal;%20font-variant-caps:%20normal;%20line-height:%201.5;%20background-color:%20rgb(255,%20255,%20255);%20font-feature-settings:%20%22tnum%22;%20--antd-wave-shadow-color:%20undefined%7D%0A.ant-root%20.ant-typography%20%7Bcolor:%20rgba(0,%200,%200,%200.65)%7D%0A.css-1sxolix-Widget%20%7Bheight:%20100%25%7D%0A.css-1sxolix-Widget%20.ant-root:not(.atoti-widget-chooser)%20%7Bbox-shadow:%20none%7D%3C/style%3E%0A%20%20%20%20%20%20%20%20%3Cdiv%20xmlns=%22http://www.w3.org/1999/xhtml%22%20style=%22height:%20225px;%20width:%201541px%22%3E%0A%20%20%20%20%20%20%20%20%20%20%3Cdiv%20xmlns=%22http://www.w3.org/1999/xhtml%22%20class=%22css-1sxolix-Widget%22%3E%3Cdiv%20class=%22ant-root%20css-xsa55j-dock%22%3E%3Cdiv%20class=%22css-1ibuxvk-DockBody%22%3E%3Cdiv%20class=%22SplitPane%20%20vertical%20disabled%22%20style=%22display:%20flex;%20flex:%201%201%200%25;%20height:%20100%25;%20position:%20relative;%20outline:%20none;%20overflow:%20hidden;%20user-select:%20text;%20flex-direction:%20row;%20left:%200px;%20right:%200px;%22%3E%3Cdiv%20class=%22Pane%20vertical%20Pane1%20%20%22%20style=%22flex:%201%201%200%25;%20position:%20relative;%20outline:%20none;%20display:%20flex;%20background-color:%20rgb(255,%20255,%20255);%22%3E%3Cdiv%20class=%22css-1lrljg1-EditorSplitPane%22%3E%3Cdiv%20class=%22css-15fz3t7-EditorSplitPane%22%3E%3Cdiv%20class=%22css-1k1fxuh-Tabular%22%3E%3Cdiv%20class=%22css-10klw3m%22%3E%3Cdiv%20tabindex=%220%22%20class=%22css-qy2zlt-Tabular%22%3E%3Cdiv%20class=%22css-192kvjv-Tabular%22%3E%3Cdiv%20class=%22css-mdjjdg-TabularHeader%22%3E%3Cdiv%20class=%22css-12nzxaz-PinnedTabularHeaders%22%3E%3Cdiv%20class=%22css-90jv4-TabularHeaderGroup%22%3E%3Cdiv%20class=%22css-7fgdvs%22%3E%3Cdiv%20class=%22css-19w2ip5-TabularHeaderCell%22%3E%3Cspan%20class=%22css-jpazdc-TabularHeaderCell%22%3E%3Cspan%3E%3Cspan%3E%3Cspan%20class=%22css-y3oqqp%22%3Eage%20group%3C/span%3E%3C/span%3E%3C/span%3E%3C/span%3E%3C/div%3E%3Cdiv%20class=%22css-c7y3a7-TabularHeaderCell%22%3E%3C/div%3E%3C/div%3E%3Cdiv%20class=%22css-1xstd3f-HeaderResizer%22%3E%3C/div%3E%3Cdiv%20class=%22css-11buol4-HeaderResizer%22%3E%3C/div%3E%3C/div%3E%3Cdiv%20class=%22css-s4fjko-TabularPinnSeparator%22%3E%3C/div%3E%3C/div%3E%3Cdiv%20class=%22css-1vx52ag-UnpinnedTabularHeaders%22%3E%3Cdiv%20class=%22css-5jtkjp-UnpinnedTabularHeaders%22%3E%3Cdiv%20class=%22css-1v90vwf-TabularHeaderGroup%22%3E%3Cdiv%20class=%22css-102oxfu%22%3E%3Cdiv%20class=%22css-pm742e%22%3E%3C/div%3E%3Cdiv%20class=%22css-19w2ip5-TabularHeaderCell%22%3E%3Cspan%20class=%22css-jpazdc-TabularHeaderCell%22%3E%3Cspan%3EMemoryScores.MEAN%3C/span%3E%3C/span%3E%3C/div%3E%3Cdiv%20class=%22css-c7y3a7-TabularHeaderCell%22%3E%3C/div%3E%3C/div%3E%3Cdiv%20class=%22css-ckizwt-HeaderResizer%22%3E%3C/div%3E%3Cdiv%20class=%22css-1p38txt-HeaderResizer%22%3E%3C/div%3E%3C/div%3E%3C/div%3E%3C/div%3E%3C/div%3E%3Cdiv%20class=%22css-1xdd83b-TabularBody%22%3E%3Cdiv%20class=%22css-1rtkhyk-PinnedTabularRows%22%3E%3Cdiv%20class=%22css-134urz3-PinnedTabularRows%22%3E%3Cdiv%20class=%22css-3cge9w%22%3E%3Cdiv%3E%3Cdiv%20class=%22css-jyaidn%22%3E%3Cdiv%20class=%22css-9ssj44-TreeCell%22%3E%3Cdiv%20class=%22css-mkrhzq%22%3E%3Cspan%20class=%22ant-typography%20css-8uhtka%22%20style=%22font-size:%2012px;%20line-height:%2020px;%20font-weight:%20600;%20color:%20rgba(0,%200,%200,%200.85);%22%3ETotal%20age%20group%3C/span%3E%3C/div%3E%3C/div%3E%3C/div%3E%3C/div%3E%3C/div%3E%3Cdiv%20class=%22css-3cge9w%22%3E%3Cdiv%3E%3Cdiv%20class=%22css-dko0re%22%3E%3Cdiv%20class=%22css-9ssj44-TreeCell%22%3E%3Cdiv%20class=%22css-mkrhzq%22%3E%3Cdiv%20class=%22css-1i6gc04%22%3E%3C/div%3E%3Cspan%20class=%22ant-typography%20css-8uhtka%22%20style=%22font-size:%2012px;%20line-height:%2020px;%20font-weight:%20600;%20color:%20rgba(0,%200,%200,%200.85);%22%3E0-25Y%3C/span%3E%3C/div%3E%3C/div%3E%3C/div%3E%3C/div%3E%3C/div%3E%3Cdiv%20class=%22css-3cge9w%22%3E%3Cdiv%3E%3Cdiv%20class=%22css-jyaidn%22%3E%3Cdiv%20class=%22css-9ssj44-TreeCell%22%3E%3Cdiv%20class=%22css-mkrhzq%22%3E%3Cdiv%20class=%22css-1i6gc04%22%3E%3C/div%3E%3Cspan%20class=%22ant-typography%20css-8uhtka%22%20style=%22font-size:%2012px;%20line-height:%2020px;%20font-weight:%20600;%20color:%20rgba(0,%200,%200,%200.85);%22%3E25Y%20-%2040Y%3C/span%3E%3C/div%3E%3C/div%3E%3C/div%3E%3C/div%3E%3C/div%3E%3Cdiv%20class=%22css-3cge9w%22%3E%3Cdiv%3E%3Cdiv%20class=%22css-dko0re%22%3E%3Cdiv%20class=%22css-9ssj44-TreeCell%22%3E%3Cdiv%20class=%22css-mkrhzq%22%3E%3Cdiv%20class=%22css-1i6gc04%22%3E%3C/div%3E%3Cspan%20class=%22ant-typography%20css-8uhtka%22%20style=%22font-size:%2012px;%20line-height:%2020px;%20font-weight:%20600;%20color:%20rgba(0,%200,%200,%200.85);%22%3E40Y%20-%2055Y%3C/span%3E%3C/div%3E%3C/div%3E%3C/div%3E%3C/div%3E%3C/div%3E%3Cdiv%20class=%22css-3cge9w%22%3E%3Cdiv%3E%3Cdiv%20class=%22css-jym0g7%22%3E%3Cdiv%20class=%22css-9ssj44-TreeCell%22%3E%3Cdiv%20class=%22css-mkrhzq%22%3E%3Cdiv%20class=%22css-1i6gc04%22%3E%3C/div%3E%3Cspan%20class=%22ant-typography%20css-8uhtka%22%20style=%22font-size:%2012px;%20line-height:%2020px;%20font-weight:%20600;%20color:%20rgba(0,%200,%200,%200.85);%22%3E55Y+%3C/span%3E%3C/div%3E%3C/div%3E%3C/div%3E%3C/div%3E%3C/div%3E%3C/div%3E%3Cdiv%20class=%22css-8r2ljj-PinnedTabularRows%22%3E%3Cdiv%20class=%22css-8zvwca-PinnedTabularRows%22%3E%3C/div%3E%3C/div%3E%3C/div%3E%3Cdiv%20class=%22css-10towoe-UnpinnedTabularRows%22%3E%3Cdiv%20class=%22css-1id6sm3-UnpinnedTabularRows%22%3E%3Cdiv%20class=%22css-3cge9w%22%3E%3Cdiv%3E%3Cdiv%20class=%22%20css-1lf1yf1-TabularCell%22%3E%3Cspan%20class=%22css-mkoicc-CaptionCellRenderer%22%3E%3Cspan%3E%3Cspan%20class=%22ant-typography%22%20style=%22font-size:%2012px;%20line-height:%2020px;%20font-weight:%20400;%22%3E59.44%3C/span%3E%3C/span%3E%3C/span%3E%3C/div%3E%3C/div%3E%3C/div%3E%3Cdiv%20class=%22css-3cge9w%22%3E%3Cdiv%3E%3Cdiv%20class=%22%20css-r501dj-TabularCell%22%3E%3Cspan%20class=%22css-mkoicc-CaptionCellRenderer%22%3E%3Cspan%3E%3Cspan%20class=%22ant-typography%22%20style=%22font-size:%2012px;%20line-height:%2020px;%20font-weight:%20400;%22%3E55.40%3C/span%3E%3C/span%3E%3C/span%3E%3C/div%3E%3C/div%3E%3C/div%3E%3Cdiv%20class=%22css-3cge9w%22%3E%3Cdiv%3E%3Cdiv%20class=%22%20css-1lf1yf1-TabularCell%22%3E%3Cspan%20class=%22css-mkoicc-CaptionCellRenderer%22%3E%3Cspan%3E%3Cspan%20class=%22ant-typography%22%20style=%22font-size:%2012px;%20line-height:%2020px;%20font-weight:%20400;%22%3E59.52%3C/span%3E%3C/span%3E%3C/span%3E%3C/div%3E%3C/div%3E%3C/div%3E%3Cdiv%20class=%22css-3cge9w%22%3E%3Cdiv%3E%3Cdiv%20class=%22%20css-r501dj-TabularCell%22%3E%3Cspan%20class=%22css-mkoicc-CaptionCellRenderer%22%3E%3Cspan%3E%3Cspan%20class=%22ant-typography%22%20style=%22font-size:%2012px;%20line-height:%2020px;%20font-weight:%20400;%22%3E57.27%3C/span%3E%3C/span%3E%3C/span%3E%3C/div%3E%3C/div%3E%3C/div%3E%3Cdiv%20class=%22css-3cge9w%22%3E%3Cdiv%3E%3Cdiv%20class=%22%20css-1pvmdv6-TabularCell%22%3E%3Cspan%20class=%22css-mkoicc-CaptionCellRenderer%22%3E%3Cspan%3E%3Cspan%20class=%22ant-typography%22%20style=%22font-size:%2012px;%20line-height:%2020px;%20font-weight:%20400;%22%3E65.80%3C/span%3E%3C/span%3E%3C/span%3E%3C/div%3E%3C/div%3E%3C/div%3E%3C/div%3E%3C/div%3E%3C/div%3E%3C/div%3E%3Cdiv%20class=%22css-t881dv-SelectionStatistics%22%3E%3C/div%3E%3C/div%3E%3C/div%3E%3C/div%3E%3C/div%3E%3C/div%3E%3C/div%3E%3Cspan%20role=%22presentation%22%20class=%22css-14zuz97%20Resizer%20vertical%20disabled%22%3E%3C/span%3E%3Cdiv%20class=%22Pane%20vertical%20Pane2%20%20%22%20style=%22flex:%200%200%20auto;%20position:%20relative;%20outline:%20none;%20width:%200px;%20display:%20flex;%20background-color:%20rgb(255,%20255,%20255);%20overflow:%20auto;%22%3E%3Cdiv%20class=%22css-1ouk3zc-EditorSplitPane%22%3E%3Cdiv%20class=%22css-1jjvrwi-EditorSplitPane%22%3E%3C/div%3E%3C/div%3E%3C/div%3E%3C/div%3E%3C/div%3E%3C/div%3E%3C/div%3E%0A%20%20%20%20%20%20%20%20%3C/div%3E%0A%20%20%20%20%20%20%3C/foreignObject%3E%0A%20%20%20%20%3C/svg%3E\">"
      ],
      "text/plain": [
       "Open the notebook in JupyterLab with the atoti extension installed and enabled to see this widget."
      ]
     },
     "metadata": {},
     "output_type": "display_data"
    }
   ],
   "source": [
    "cube.visualize()"
   ]
  },
  {
   "cell_type": "markdown",
   "metadata": {},
   "source": [
    "From the following visualization we can tell, that on average:\n",
    "\n",
    "-    for the Drug **\"Triazolam\"** memory scores **did not materially increase** in all age groups,\n",
    "-    for the Drug **\"Alprazolam\"** memory response times **increased in all the age groups**, with a bigger impact in group 25Y-50Y,\n",
    "-    for the Drug **\"Sugar\"** the scores **fluctuated**, but nothing that seems significant."
   ]
  },
  {
   "cell_type": "code",
   "execution_count": 13,
   "metadata": {
    "atoti": {
     "state": {
      "name": "Average memory score by drug",
      "type": "container",
      "value": {
       "body": {
        "configuration": {
         "mapping": {
          "horizontalSubplots": [
           "[Hierarchies].[Drug].[Drug]"
          ],
          "splitBy": [
           "[Hierarchies].[Before or After].[Before or After]"
          ],
          "values": [
           "[Measures].[MemoryScores.MEAN]"
          ],
          "verticalSubplots": [],
          "xAxis": [
           "[Hierarchies].[age group].[age group]"
          ]
         },
         "subplotModeEnabled": true,
         "type": "plotly-clustered-column-chart"
        },
        "query": {
         "mdx": "SELECT NON EMPTY Crossjoin([Hierarchies].[age group].[age group].Members, [Hierarchies].[Before or After].[Before or After].Members, [Hierarchies].[Drug].[Drug].Members) ON ROWS, NON EMPTY [Measures].[MemoryScores.MEAN] ON COLUMNS FROM [Observations] CELL PROPERTIES VALUE, FORMATTED_VALUE, BACK_COLOR, FORE_COLOR, FONT_FLAGS",
         "serverUrl": "",
         "updateMode": "once"
        }
       },
       "containerKey": "chart",
       "showTitleBar": false,
       "style": {}
      }
     }
    }
   },
   "outputs": [
    {
     "data": {
      "application/vnd.atoti.v0+json": {
       "cellSet": {
        "axes": [
         {
          "hierarchies": [
           {
            "dimension": "Measures",
            "hierarchy": "Measures"
           }
          ],
          "id": 0,
          "positions": [
           [
            {
             "captionPath": [
              "MemoryScores.MEAN"
             ],
             "namePath": [
              "MemoryScores.MEAN"
             ],
             "properties": {
              "DISPLAY_INFO": 0
             }
            }
           ]
          ]
         },
         {
          "hierarchies": [
           {
            "dimension": "Hierarchies",
            "hierarchy": "age group"
           },
           {
            "dimension": "Hierarchies",
            "hierarchy": "Before or After"
           },
           {
            "dimension": "Hierarchies",
            "hierarchy": "Drug"
           }
          ],
          "id": 1,
          "positions": [
           [
            {
             "captionPath": [
              "AllMember",
              "0-25Y"
             ],
             "namePath": [
              "AllMember",
              "0-25Y"
             ],
             "properties": {
              "DISPLAY_INFO": 0
             }
            },
            {
             "captionPath": [
              "AllMember",
              "Before"
             ],
             "namePath": [
              "AllMember",
              "Before"
             ],
             "properties": {
              "DISPLAY_INFO": 0
             }
            },
            {
             "captionPath": [
              "AllMember",
              "Triazolam"
             ],
             "namePath": [
              "AllMember",
              "Triazolam"
             ],
             "properties": {
              "DISPLAY_INFO": 0
             }
            }
           ],
           [
            {
             "captionPath": [
              "AllMember",
              "0-25Y"
             ],
             "namePath": [
              "AllMember",
              "0-25Y"
             ],
             "properties": {
              "DISPLAY_INFO": 131072
             }
            },
            {
             "captionPath": [
              "AllMember",
              "After"
             ],
             "namePath": [
              "AllMember",
              "After"
             ],
             "properties": {
              "DISPLAY_INFO": 131072
             }
            },
            {
             "captionPath": [
              "AllMember",
              "Triazolam"
             ],
             "namePath": [
              "AllMember",
              "Triazolam"
             ],
             "properties": {
              "DISPLAY_INFO": 131072
             }
            }
           ],
           [
            {
             "captionPath": [
              "AllMember",
              "25Y - 40Y"
             ],
             "namePath": [
              "AllMember",
              "25Y - 40Y"
             ],
             "properties": {
              "DISPLAY_INFO": 131072
             }
            },
            {
             "captionPath": [
              "AllMember",
              "Before"
             ],
             "namePath": [
              "AllMember",
              "Before"
             ],
             "properties": {
              "DISPLAY_INFO": 131072
             }
            },
            {
             "captionPath": [
              "AllMember",
              "Alprazolam"
             ],
             "namePath": [
              "AllMember",
              "Alprazolam"
             ],
             "properties": {
              "DISPLAY_INFO": 131072
             }
            }
           ],
           [
            {
             "captionPath": [
              "AllMember",
              "25Y - 40Y"
             ],
             "namePath": [
              "AllMember",
              "25Y - 40Y"
             ],
             "properties": {
              "DISPLAY_INFO": 131072
             }
            },
            {
             "captionPath": [
              "AllMember",
              "Before"
             ],
             "namePath": [
              "AllMember",
              "Before"
             ],
             "properties": {
              "DISPLAY_INFO": 131072
             }
            },
            {
             "captionPath": [
              "AllMember",
              "Sugar"
             ],
             "namePath": [
              "AllMember",
              "Sugar"
             ],
             "properties": {
              "DISPLAY_INFO": 131072
             }
            }
           ],
           [
            {
             "captionPath": [
              "AllMember",
              "25Y - 40Y"
             ],
             "namePath": [
              "AllMember",
              "25Y - 40Y"
             ],
             "properties": {
              "DISPLAY_INFO": 131072
             }
            },
            {
             "captionPath": [
              "AllMember",
              "Before"
             ],
             "namePath": [
              "AllMember",
              "Before"
             ],
             "properties": {
              "DISPLAY_INFO": 131072
             }
            },
            {
             "captionPath": [
              "AllMember",
              "Triazolam"
             ],
             "namePath": [
              "AllMember",
              "Triazolam"
             ],
             "properties": {
              "DISPLAY_INFO": 131072
             }
            }
           ],
           [
            {
             "captionPath": [
              "AllMember",
              "25Y - 40Y"
             ],
             "namePath": [
              "AllMember",
              "25Y - 40Y"
             ],
             "properties": {
              "DISPLAY_INFO": 131072
             }
            },
            {
             "captionPath": [
              "AllMember",
              "After"
             ],
             "namePath": [
              "AllMember",
              "After"
             ],
             "properties": {
              "DISPLAY_INFO": 131072
             }
            },
            {
             "captionPath": [
              "AllMember",
              "Alprazolam"
             ],
             "namePath": [
              "AllMember",
              "Alprazolam"
             ],
             "properties": {
              "DISPLAY_INFO": 131072
             }
            }
           ],
           [
            {
             "captionPath": [
              "AllMember",
              "25Y - 40Y"
             ],
             "namePath": [
              "AllMember",
              "25Y - 40Y"
             ],
             "properties": {
              "DISPLAY_INFO": 131072
             }
            },
            {
             "captionPath": [
              "AllMember",
              "After"
             ],
             "namePath": [
              "AllMember",
              "After"
             ],
             "properties": {
              "DISPLAY_INFO": 131072
             }
            },
            {
             "captionPath": [
              "AllMember",
              "Sugar"
             ],
             "namePath": [
              "AllMember",
              "Sugar"
             ],
             "properties": {
              "DISPLAY_INFO": 131072
             }
            }
           ],
           [
            {
             "captionPath": [
              "AllMember",
              "25Y - 40Y"
             ],
             "namePath": [
              "AllMember",
              "25Y - 40Y"
             ],
             "properties": {
              "DISPLAY_INFO": 131072
             }
            },
            {
             "captionPath": [
              "AllMember",
              "After"
             ],
             "namePath": [
              "AllMember",
              "After"
             ],
             "properties": {
              "DISPLAY_INFO": 131072
             }
            },
            {
             "captionPath": [
              "AllMember",
              "Triazolam"
             ],
             "namePath": [
              "AllMember",
              "Triazolam"
             ],
             "properties": {
              "DISPLAY_INFO": 131072
             }
            }
           ],
           [
            {
             "captionPath": [
              "AllMember",
              "40Y - 55Y"
             ],
             "namePath": [
              "AllMember",
              "40Y - 55Y"
             ],
             "properties": {
              "DISPLAY_INFO": 131072
             }
            },
            {
             "captionPath": [
              "AllMember",
              "Before"
             ],
             "namePath": [
              "AllMember",
              "Before"
             ],
             "properties": {
              "DISPLAY_INFO": 131072
             }
            },
            {
             "captionPath": [
              "AllMember",
              "Alprazolam"
             ],
             "namePath": [
              "AllMember",
              "Alprazolam"
             ],
             "properties": {
              "DISPLAY_INFO": 131072
             }
            }
           ],
           [
            {
             "captionPath": [
              "AllMember",
              "40Y - 55Y"
             ],
             "namePath": [
              "AllMember",
              "40Y - 55Y"
             ],
             "properties": {
              "DISPLAY_INFO": 131072
             }
            },
            {
             "captionPath": [
              "AllMember",
              "Before"
             ],
             "namePath": [
              "AllMember",
              "Before"
             ],
             "properties": {
              "DISPLAY_INFO": 131072
             }
            },
            {
             "captionPath": [
              "AllMember",
              "Sugar"
             ],
             "namePath": [
              "AllMember",
              "Sugar"
             ],
             "properties": {
              "DISPLAY_INFO": 131072
             }
            }
           ],
           [
            {
             "captionPath": [
              "AllMember",
              "40Y - 55Y"
             ],
             "namePath": [
              "AllMember",
              "40Y - 55Y"
             ],
             "properties": {
              "DISPLAY_INFO": 131072
             }
            },
            {
             "captionPath": [
              "AllMember",
              "Before"
             ],
             "namePath": [
              "AllMember",
              "Before"
             ],
             "properties": {
              "DISPLAY_INFO": 131072
             }
            },
            {
             "captionPath": [
              "AllMember",
              "Triazolam"
             ],
             "namePath": [
              "AllMember",
              "Triazolam"
             ],
             "properties": {
              "DISPLAY_INFO": 131072
             }
            }
           ],
           [
            {
             "captionPath": [
              "AllMember",
              "40Y - 55Y"
             ],
             "namePath": [
              "AllMember",
              "40Y - 55Y"
             ],
             "properties": {
              "DISPLAY_INFO": 131072
             }
            },
            {
             "captionPath": [
              "AllMember",
              "After"
             ],
             "namePath": [
              "AllMember",
              "After"
             ],
             "properties": {
              "DISPLAY_INFO": 131072
             }
            },
            {
             "captionPath": [
              "AllMember",
              "Alprazolam"
             ],
             "namePath": [
              "AllMember",
              "Alprazolam"
             ],
             "properties": {
              "DISPLAY_INFO": 131072
             }
            }
           ],
           [
            {
             "captionPath": [
              "AllMember",
              "40Y - 55Y"
             ],
             "namePath": [
              "AllMember",
              "40Y - 55Y"
             ],
             "properties": {
              "DISPLAY_INFO": 131072
             }
            },
            {
             "captionPath": [
              "AllMember",
              "After"
             ],
             "namePath": [
              "AllMember",
              "After"
             ],
             "properties": {
              "DISPLAY_INFO": 131072
             }
            },
            {
             "captionPath": [
              "AllMember",
              "Sugar"
             ],
             "namePath": [
              "AllMember",
              "Sugar"
             ],
             "properties": {
              "DISPLAY_INFO": 131072
             }
            }
           ],
           [
            {
             "captionPath": [
              "AllMember",
              "40Y - 55Y"
             ],
             "namePath": [
              "AllMember",
              "40Y - 55Y"
             ],
             "properties": {
              "DISPLAY_INFO": 131072
             }
            },
            {
             "captionPath": [
              "AllMember",
              "After"
             ],
             "namePath": [
              "AllMember",
              "After"
             ],
             "properties": {
              "DISPLAY_INFO": 131072
             }
            },
            {
             "captionPath": [
              "AllMember",
              "Triazolam"
             ],
             "namePath": [
              "AllMember",
              "Triazolam"
             ],
             "properties": {
              "DISPLAY_INFO": 131072
             }
            }
           ],
           [
            {
             "captionPath": [
              "AllMember",
              "55Y+"
             ],
             "namePath": [
              "AllMember",
              "55Y+"
             ],
             "properties": {
              "DISPLAY_INFO": 131072
             }
            },
            {
             "captionPath": [
              "AllMember",
              "Before"
             ],
             "namePath": [
              "AllMember",
              "Before"
             ],
             "properties": {
              "DISPLAY_INFO": 131072
             }
            },
            {
             "captionPath": [
              "AllMember",
              "Alprazolam"
             ],
             "namePath": [
              "AllMember",
              "Alprazolam"
             ],
             "properties": {
              "DISPLAY_INFO": 131072
             }
            }
           ],
           [
            {
             "captionPath": [
              "AllMember",
              "55Y+"
             ],
             "namePath": [
              "AllMember",
              "55Y+"
             ],
             "properties": {
              "DISPLAY_INFO": 131072
             }
            },
            {
             "captionPath": [
              "AllMember",
              "Before"
             ],
             "namePath": [
              "AllMember",
              "Before"
             ],
             "properties": {
              "DISPLAY_INFO": 131072
             }
            },
            {
             "captionPath": [
              "AllMember",
              "Sugar"
             ],
             "namePath": [
              "AllMember",
              "Sugar"
             ],
             "properties": {
              "DISPLAY_INFO": 131072
             }
            }
           ],
           [
            {
             "captionPath": [
              "AllMember",
              "55Y+"
             ],
             "namePath": [
              "AllMember",
              "55Y+"
             ],
             "properties": {
              "DISPLAY_INFO": 131072
             }
            },
            {
             "captionPath": [
              "AllMember",
              "Before"
             ],
             "namePath": [
              "AllMember",
              "Before"
             ],
             "properties": {
              "DISPLAY_INFO": 131072
             }
            },
            {
             "captionPath": [
              "AllMember",
              "Triazolam"
             ],
             "namePath": [
              "AllMember",
              "Triazolam"
             ],
             "properties": {
              "DISPLAY_INFO": 131072
             }
            }
           ],
           [
            {
             "captionPath": [
              "AllMember",
              "55Y+"
             ],
             "namePath": [
              "AllMember",
              "55Y+"
             ],
             "properties": {
              "DISPLAY_INFO": 131072
             }
            },
            {
             "captionPath": [
              "AllMember",
              "After"
             ],
             "namePath": [
              "AllMember",
              "After"
             ],
             "properties": {
              "DISPLAY_INFO": 131072
             }
            },
            {
             "captionPath": [
              "AllMember",
              "Alprazolam"
             ],
             "namePath": [
              "AllMember",
              "Alprazolam"
             ],
             "properties": {
              "DISPLAY_INFO": 131072
             }
            }
           ],
           [
            {
             "captionPath": [
              "AllMember",
              "55Y+"
             ],
             "namePath": [
              "AllMember",
              "55Y+"
             ],
             "properties": {
              "DISPLAY_INFO": 131072
             }
            },
            {
             "captionPath": [
              "AllMember",
              "After"
             ],
             "namePath": [
              "AllMember",
              "After"
             ],
             "properties": {
              "DISPLAY_INFO": 131072
             }
            },
            {
             "captionPath": [
              "AllMember",
              "Sugar"
             ],
             "namePath": [
              "AllMember",
              "Sugar"
             ],
             "properties": {
              "DISPLAY_INFO": 131072
             }
            }
           ],
           [
            {
             "captionPath": [
              "AllMember",
              "55Y+"
             ],
             "namePath": [
              "AllMember",
              "55Y+"
             ],
             "properties": {
              "DISPLAY_INFO": 131072
             }
            },
            {
             "captionPath": [
              "AllMember",
              "After"
             ],
             "namePath": [
              "AllMember",
              "After"
             ],
             "properties": {
              "DISPLAY_INFO": 131072
             }
            },
            {
             "captionPath": [
              "AllMember",
              "Triazolam"
             ],
             "namePath": [
              "AllMember",
              "Triazolam"
             ],
             "properties": {
              "DISPLAY_INFO": 131072
             }
            }
           ]
          ]
         }
        ],
        "cells": [
         {
          "formattedValue": "57.10",
          "ordinal": 0,
          "properties": {
           "BACK_COLOR": null,
           "FONT_FLAGS": 0,
           "FORE_COLOR": null
          },
          "value": 57.1
         },
         {
          "formattedValue": "53.70",
          "ordinal": 1,
          "properties": {
           "BACK_COLOR": null,
           "FONT_FLAGS": 0,
           "FORE_COLOR": null
          },
          "value": 53.7
         },
         {
          "formattedValue": "60.95",
          "ordinal": 2,
          "properties": {
           "BACK_COLOR": null,
           "FONT_FLAGS": 0,
           "FORE_COLOR": null
          },
          "value": 60.95
         },
         {
          "formattedValue": "58.09",
          "ordinal": 3,
          "properties": {
           "BACK_COLOR": null,
           "FONT_FLAGS": 0,
           "FORE_COLOR": null
          },
          "value": 58.08604651162791
         },
         {
          "formattedValue": "54.58",
          "ordinal": 4,
          "properties": {
           "BACK_COLOR": null,
           "FONT_FLAGS": 0,
           "FORE_COLOR": null
          },
          "value": 54.578378378378375
         },
         {
          "formattedValue": "71.41",
          "ordinal": 5,
          "properties": {
           "BACK_COLOR": null,
           "FONT_FLAGS": 0,
           "FORE_COLOR": null
          },
          "value": 71.41
         },
         {
          "formattedValue": "57.51",
          "ordinal": 6,
          "properties": {
           "BACK_COLOR": null,
           "FONT_FLAGS": 0,
           "FORE_COLOR": null
          },
          "value": 57.509302325581395
         },
         {
          "formattedValue": "54.07",
          "ordinal": 7,
          "properties": {
           "BACK_COLOR": null,
           "FONT_FLAGS": 0,
           "FORE_COLOR": null
          },
          "value": 54.07297297297298
         },
         {
          "formattedValue": "52.73",
          "ordinal": 8,
          "properties": {
           "BACK_COLOR": null,
           "FONT_FLAGS": 0,
           "FORE_COLOR": null
          },
          "value": 52.73333333333333
         },
         {
          "formattedValue": "57.40",
          "ordinal": 9,
          "properties": {
           "BACK_COLOR": null,
           "FONT_FLAGS": 0,
           "FORE_COLOR": null
          },
          "value": 57.4
         },
         {
          "formattedValue": "56.70",
          "ordinal": 10,
          "properties": {
           "BACK_COLOR": null,
           "FONT_FLAGS": 0,
           "FORE_COLOR": null
          },
          "value": 56.70000000000001
         },
         {
          "formattedValue": "62.14",
          "ordinal": 11,
          "properties": {
           "BACK_COLOR": null,
           "FONT_FLAGS": 0,
           "FORE_COLOR": null
          },
          "value": 62.13809523809524
         },
         {
          "formattedValue": "57.54",
          "ordinal": 12,
          "properties": {
           "BACK_COLOR": null,
           "FONT_FLAGS": 0,
           "FORE_COLOR": null
          },
          "value": 57.53684210526315
         },
         {
          "formattedValue": "57.07",
          "ordinal": 13,
          "properties": {
           "BACK_COLOR": null,
           "FONT_FLAGS": 0,
           "FORE_COLOR": null
          },
          "value": 57.06666666666667
         },
         {
          "formattedValue": "59.13",
          "ordinal": 14,
          "properties": {
           "BACK_COLOR": null,
           "FONT_FLAGS": 0,
           "FORE_COLOR": null
          },
          "value": 59.133333333333326
         },
         {
          "formattedValue": "67.92",
          "ordinal": 15,
          "properties": {
           "BACK_COLOR": null,
           "FONT_FLAGS": 0,
           "FORE_COLOR": null
          },
          "value": 67.925
         },
         {
          "formattedValue": "68.92",
          "ordinal": 16,
          "properties": {
           "BACK_COLOR": null,
           "FONT_FLAGS": 0,
           "FORE_COLOR": null
          },
          "value": 68.92222222222222
         },
         {
          "formattedValue": "62.23",
          "ordinal": 17,
          "properties": {
           "BACK_COLOR": null,
           "FONT_FLAGS": 0,
           "FORE_COLOR": null
          },
          "value": 62.23333333333334
         },
         {
          "formattedValue": "70.65",
          "ordinal": 18,
          "properties": {
           "BACK_COLOR": null,
           "FONT_FLAGS": 0,
           "FORE_COLOR": null
          },
          "value": 70.65
         },
         {
          "formattedValue": "66.40",
          "ordinal": 19,
          "properties": {
           "BACK_COLOR": null,
           "FONT_FLAGS": 0,
           "FORE_COLOR": null
          },
          "value": 66.40000000000002
         }
        ],
        "cube": "Observations",
        "defaultMembers": [
         {
          "captionPath": [
           "Count"
          ],
          "dimension": "Measures",
          "hierarchy": "Measures",
          "path": [
           "contributors.COUNT"
          ]
         },
         {
          "captionPath": [
           "Base"
          ],
          "dimension": "Epoch",
          "hierarchy": "Epoch",
          "path": [
           "Base"
          ]
         }
        ],
        "epoch": 2
       },
       "cube": "Observations",
       "error": null,
       "name": "Average memory score by drug",
       "session": "Unnamed"
      },
      "text/html": [
       "<img src=\"data:image/svg+xml;charset=utf8,%3C%3Fxml%20version%3D%221.0%22%20standalone%3D%22no%22%3F%3E%3Csvg%20xmlns%3D%22http%3A%2F%2Fwww.w3.org%2F2000%2Fsvg%22%20xmlns%3Axlink%3D%22http%3A%2F%2Fwww.w3.org%2F1999%2Fxlink%22%20viewBox%3D%220%200%201541%20360%22%3E%3Cdefs%20id%3D%22defs-f46795%22%3E%3Cg%20class%3D%22clips%22%3E%3CclipPath%20id%3D%22clipf46795xyplot%22%20class%3D%22plotclip%22%3E%3Crect%20width%3D%22419.89655172413796%22%20height%3D%22250%22%2F%3E%3C%2FclipPath%3E%3CclipPath%20id%3D%22clipf46795x2yplot%22%20class%3D%22plotclip%22%3E%3Crect%20width%3D%22419.89655172413785%22%20height%3D%22250%22%2F%3E%3C%2FclipPath%3E%3CclipPath%20id%3D%22clipf46795x3yplot%22%20class%3D%22plotclip%22%3E%3Crect%20width%3D%22419.89655172413785%22%20height%3D%22250%22%2F%3E%3C%2FclipPath%3E%3CclipPath%20class%3D%22axesclip%22%20id%3D%22clipf46795x%22%3E%3Crect%20x%3D%2280%22%20y%3D%220%22%20width%3D%22419.89655172413796%22%20height%3D%22360%22%2F%3E%3C%2FclipPath%3E%3CclipPath%20class%3D%22axesclip%22%20id%3D%22clipf46795y%22%3E%3Crect%20x%3D%220%22%20y%3D%2230%22%20width%3D%221541%22%20height%3D%22250%22%2F%3E%3C%2FclipPath%3E%3CclipPath%20class%3D%22axesclip%22%20id%3D%22clipf46795xy%22%3E%3Crect%20x%3D%2280%22%20y%3D%2230%22%20width%3D%22419.89655172413796%22%20height%3D%22250%22%2F%3E%3C%2FclipPath%3E%3CclipPath%20class%3D%22axesclip%22%20id%3D%22clipf46795x2%22%3E%3Crect%20x%3D%22546.551724137931%22%20y%3D%220%22%20width%3D%22419.89655172413785%22%20height%3D%22360%22%2F%3E%3C%2FclipPath%3E%3CclipPath%20class%3D%22axesclip%22%20id%3D%22clipf46795x2y%22%3E%3Crect%20x%3D%22546.551724137931%22%20y%3D%2230%22%20width%3D%22419.89655172413785%22%20height%3D%22250%22%2F%3E%3C%2FclipPath%3E%3CclipPath%20class%3D%22axesclip%22%20id%3D%22clipf46795x3%22%3E%3Crect%20x%3D%221013.1034482758621%22%20y%3D%220%22%20width%3D%22419.89655172413785%22%20height%3D%22360%22%2F%3E%3C%2FclipPath%3E%3CclipPath%20class%3D%22axesclip%22%20id%3D%22clipf46795x3y%22%3E%3Crect%20x%3D%221013.1034482758621%22%20y%3D%2230%22%20width%3D%22419.89655172413785%22%20height%3D%22250%22%2F%3E%3C%2FclipPath%3E%3C%2Fg%3E%3Cg%20class%3D%22gradients%22%2F%3E%3C%2Fdefs%3E%3Cg%20class%3D%22bglayer%22%2F%3E%3Cg%20class%3D%22draglayer%20cursor-crosshair%22%3E%3Cg%20class%3D%22xy%22%3E%3Crect%20class%3D%22nsewdrag%20drag%22%20data-subplot%3D%22xy%22%20x%3D%2280%22%20y%3D%2230%22%20width%3D%22419.89655172413796%22%20height%3D%22250%22%20style%3D%22fill%3A%20transparent%3B%20stroke-width%3A%200%3B%20pointer-events%3A%20all%3B%22%2F%3E%3Crect%20class%3D%22nwdrag%20drag%20cursor-nw-resize%22%20data-subplot%3D%22xy%22%20x%3D%2260%22%20y%3D%2210%22%20width%3D%2220%22%20height%3D%2220%22%20style%3D%22fill%3A%20transparent%3B%20stroke-width%3A%200%3B%20pointer-events%3A%20all%3B%22%2F%3E%3Crect%20class%3D%22nedrag%20drag%20cursor-ne-resize%22%20data-subplot%3D%22xy%22%20x%3D%22499.89655172413796%22%20y%3D%2210%22%20width%3D%2220%22%20height%3D%2220%22%20style%3D%22fill%3A%20transparent%3B%20stroke-width%3A%200%3B%20pointer-events%3A%20all%3B%22%2F%3E%3Crect%20class%3D%22swdrag%20drag%20cursor-sw-resize%22%20data-subplot%3D%22xy%22%20x%3D%2260%22%20y%3D%22280%22%20width%3D%2220%22%20height%3D%2220%22%20style%3D%22fill%3A%20transparent%3B%20stroke-width%3A%200%3B%20pointer-events%3A%20all%3B%22%2F%3E%3Crect%20class%3D%22sedrag%20drag%20cursor-se-resize%22%20data-subplot%3D%22xy%22%20x%3D%22499.89655172413796%22%20y%3D%22280%22%20width%3D%2220%22%20height%3D%2220%22%20style%3D%22fill%3A%20transparent%3B%20stroke-width%3A%200%3B%20pointer-events%3A%20all%3B%22%2F%3E%3Crect%20class%3D%22ewdrag%20drag%20cursor-ew-resize%22%20data-subplot%3D%22xy%22%20x%3D%22121.98965517241379%22%20y%3D%22280.5%22%20width%3D%22335.9172413793104%22%20height%3D%2220%22%20style%3D%22fill%3A%20transparent%3B%20stroke-width%3A%200%3B%20pointer-events%3A%20all%3B%22%2F%3E%3Crect%20class%3D%22wdrag%20drag%20cursor-w-resize%22%20data-subplot%3D%22xy%22%20x%3D%2280%22%20y%3D%22280.5%22%20width%3D%2241.9896551724138%22%20height%3D%2220%22%20style%3D%22fill%3A%20transparent%3B%20stroke-width%3A%200%3B%20pointer-events%3A%20all%3B%22%2F%3E%3Crect%20class%3D%22edrag%20drag%20cursor-e-resize%22%20data-subplot%3D%22xy%22%20x%3D%22457.9068965517242%22%20y%3D%22280.5%22%20width%3D%2241.9896551724138%22%20height%3D%2220%22%20style%3D%22fill%3A%20transparent%3B%20stroke-width%3A%200%3B%20pointer-events%3A%20all%3B%22%2F%3E%3Crect%20class%3D%22nsdrag%20drag%20cursor-ns-resize%22%20data-subplot%3D%22xy%22%20x%3D%2259.5%22%20y%3D%2255%22%20width%3D%2220%22%20height%3D%22200%22%20style%3D%22fill%3A%20transparent%3B%20stroke-width%3A%200%3B%20pointer-events%3A%20all%3B%22%2F%3E%3Crect%20class%3D%22sdrag%20drag%20cursor-s-resize%22%20data-subplot%3D%22xy%22%20x%3D%2259.5%22%20y%3D%22255%22%20width%3D%2220%22%20height%3D%2225%22%20style%3D%22fill%3A%20transparent%3B%20stroke-width%3A%200%3B%20pointer-events%3A%20all%3B%22%2F%3E%3Crect%20class%3D%22ndrag%20drag%20cursor-n-resize%22%20data-subplot%3D%22xy%22%20x%3D%2259.5%22%20y%3D%2230%22%20width%3D%2220%22%20height%3D%2225%22%20style%3D%22fill%3A%20transparent%3B%20stroke-width%3A%200%3B%20pointer-events%3A%20all%3B%22%2F%3E%3C%2Fg%3E%3Cg%20class%3D%22x2y%22%3E%3Crect%20class%3D%22nsewdrag%20drag%22%20data-subplot%3D%22x2y%22%20x%3D%22546.551724137931%22%20y%3D%2230%22%20width%3D%22419.89655172413785%22%20height%3D%22250%22%20style%3D%22fill%3A%20transparent%3B%20stroke-width%3A%200%3B%20pointer-events%3A%20all%3B%22%2F%3E%3Crect%20class%3D%22nwdrag%20drag%20cursor-nw-resize%22%20data-subplot%3D%22x2y%22%20x%3D%22526.551724137931%22%20y%3D%2210%22%20width%3D%2220%22%20height%3D%2220%22%20style%3D%22fill%3A%20transparent%3B%20stroke-width%3A%200%3B%20pointer-events%3A%20all%3B%22%2F%3E%3Crect%20class%3D%22nedrag%20drag%20cursor-ne-resize%22%20data-subplot%3D%22x2y%22%20x%3D%22966.4482758620688%22%20y%3D%2210%22%20width%3D%2220%22%20height%3D%2220%22%20style%3D%22fill%3A%20transparent%3B%20stroke-width%3A%200%3B%20pointer-events%3A%20all%3B%22%2F%3E%3Crect%20class%3D%22swdrag%20drag%20cursor-sw-resize%22%20data-subplot%3D%22x2y%22%20x%3D%22526.551724137931%22%20y%3D%22280%22%20width%3D%2220%22%20height%3D%2220%22%20style%3D%22fill%3A%20transparent%3B%20stroke-width%3A%200%3B%20pointer-events%3A%20all%3B%22%2F%3E%3Crect%20class%3D%22sedrag%20drag%20cursor-se-resize%22%20data-subplot%3D%22x2y%22%20x%3D%22966.4482758620688%22%20y%3D%22280%22%20width%3D%2220%22%20height%3D%2220%22%20style%3D%22fill%3A%20transparent%3B%20stroke-width%3A%200%3B%20pointer-events%3A%20all%3B%22%2F%3E%3Crect%20class%3D%22ewdrag%20drag%20cursor-ew-resize%22%20data-subplot%3D%22x2y%22%20x%3D%22588.5413793103448%22%20y%3D%22280.5%22%20width%3D%22335.9172413793103%22%20height%3D%2220%22%20style%3D%22fill%3A%20transparent%3B%20stroke-width%3A%200%3B%20pointer-events%3A%20all%3B%22%2F%3E%3Crect%20class%3D%22wdrag%20drag%20cursor-w-resize%22%20data-subplot%3D%22x2y%22%20x%3D%22546.551724137931%22%20y%3D%22280.5%22%20width%3D%2241.98965517241379%22%20height%3D%2220%22%20style%3D%22fill%3A%20transparent%3B%20stroke-width%3A%200%3B%20pointer-events%3A%20all%3B%22%2F%3E%3Crect%20class%3D%22edrag%20drag%20cursor-e-resize%22%20data-subplot%3D%22x2y%22%20x%3D%22924.4586206896552%22%20y%3D%22280.5%22%20width%3D%2241.98965517241379%22%20height%3D%2220%22%20style%3D%22fill%3A%20transparent%3B%20stroke-width%3A%200%3B%20pointer-events%3A%20all%3B%22%2F%3E%3C%2Fg%3E%3Cg%20class%3D%22x3y%22%3E%3Crect%20class%3D%22nsewdrag%20drag%22%20data-subplot%3D%22x3y%22%20x%3D%221013.1034482758621%22%20y%3D%2230%22%20width%3D%22419.89655172413785%22%20height%3D%22250%22%20style%3D%22fill%3A%20transparent%3B%20stroke-width%3A%200%3B%20pointer-events%3A%20all%3B%22%2F%3E%3Crect%20class%3D%22nwdrag%20drag%20cursor-nw-resize%22%20data-subplot%3D%22x3y%22%20x%3D%22993.1034482758621%22%20y%3D%2210%22%20width%3D%2220%22%20height%3D%2220%22%20style%3D%22fill%3A%20transparent%3B%20stroke-width%3A%200%3B%20pointer-events%3A%20all%3B%22%2F%3E%3Crect%20class%3D%22nedrag%20drag%20cursor-ne-resize%22%20data-subplot%3D%22x3y%22%20x%3D%221433%22%20y%3D%2210%22%20width%3D%2220%22%20height%3D%2220%22%20style%3D%22fill%3A%20transparent%3B%20stroke-width%3A%200%3B%20pointer-events%3A%20all%3B%22%2F%3E%3Crect%20class%3D%22swdrag%20drag%20cursor-sw-resize%22%20data-subplot%3D%22x3y%22%20x%3D%22993.1034482758621%22%20y%3D%22280%22%20width%3D%2220%22%20height%3D%2220%22%20style%3D%22fill%3A%20transparent%3B%20stroke-width%3A%200%3B%20pointer-events%3A%20all%3B%22%2F%3E%3Crect%20class%3D%22sedrag%20drag%20cursor-se-resize%22%20data-subplot%3D%22x3y%22%20x%3D%221433%22%20y%3D%22280%22%20width%3D%2220%22%20height%3D%2220%22%20style%3D%22fill%3A%20transparent%3B%20stroke-width%3A%200%3B%20pointer-events%3A%20all%3B%22%2F%3E%3Crect%20class%3D%22ewdrag%20drag%20cursor-ew-resize%22%20data-subplot%3D%22x3y%22%20x%3D%221055.093103448276%22%20y%3D%22280.5%22%20width%3D%22335.9172413793103%22%20height%3D%2220%22%20style%3D%22fill%3A%20transparent%3B%20stroke-width%3A%200%3B%20pointer-events%3A%20all%3B%22%2F%3E%3Crect%20class%3D%22wdrag%20drag%20cursor-w-resize%22%20data-subplot%3D%22x3y%22%20x%3D%221013.1034482758621%22%20y%3D%22280.5%22%20width%3D%2241.98965517241379%22%20height%3D%2220%22%20style%3D%22fill%3A%20transparent%3B%20stroke-width%3A%200%3B%20pointer-events%3A%20all%3B%22%2F%3E%3Crect%20class%3D%22edrag%20drag%20cursor-e-resize%22%20data-subplot%3D%22x3y%22%20x%3D%221391.010344827586%22%20y%3D%22280.5%22%20width%3D%2241.98965517241379%22%20height%3D%2220%22%20style%3D%22fill%3A%20transparent%3B%20stroke-width%3A%200%3B%20pointer-events%3A%20all%3B%22%2F%3E%3C%2Fg%3E%3C%2Fg%3E%3Cg%20class%3D%22layer-below%22%3E%3Cg%20class%3D%22imagelayer%22%2F%3E%3Cg%20class%3D%22shapelayer%22%2F%3E%3C%2Fg%3E%3Cg%20class%3D%22cartesianlayer%22%3E%3Cg%20class%3D%22subplot%20xy%22%3E%3Cg%20class%3D%22layer-subplot%22%3E%3Cg%20class%3D%22shapelayer%22%2F%3E%3Cg%20class%3D%22imagelayer%22%2F%3E%3C%2Fg%3E%3Cg%20class%3D%22gridlayer%22%3E%3Cg%20class%3D%22x%22%3E%3Cpath%20class%3D%22xgrid%20crisp%22%20transform%3D%22translate(132.49%2C0)%22%20d%3D%22M0%2C30v250%22%20style%3D%22stroke%3A%20rgb(0%2C%200%2C%200)%3B%20stroke-opacity%3A%200%3B%20stroke-width%3A%201px%3B%22%2F%3E%3Cpath%20class%3D%22xgrid%20crisp%22%20transform%3D%22translate(237.46%2C0)%22%20d%3D%22M0%2C30v250%22%20style%3D%22stroke%3A%20rgb(0%2C%200%2C%200)%3B%20stroke-opacity%3A%200%3B%20stroke-width%3A%201px%3B%22%2F%3E%3Cpath%20class%3D%22xgrid%20crisp%22%20transform%3D%22translate(342.44%2C0)%22%20d%3D%22M0%2C30v250%22%20style%3D%22stroke%3A%20rgb(0%2C%200%2C%200)%3B%20stroke-opacity%3A%200%3B%20stroke-width%3A%201px%3B%22%2F%3E%3Cpath%20class%3D%22xgrid%20crisp%22%20transform%3D%22translate(447.41%2C0)%22%20d%3D%22M0%2C30v250%22%20style%3D%22stroke%3A%20rgb(0%2C%200%2C%200)%3B%20stroke-opacity%3A%200%3B%20stroke-width%3A%201px%3B%22%2F%3E%3C%2Fg%3E%3Cg%20class%3D%22y%22%3E%3Cpath%20class%3D%22ygrid%20crisp%22%20transform%3D%22translate(0%2C213.48)%22%20d%3D%22M80%2C0h419.89655172413796%22%20style%3D%22stroke%3A%20rgb(0%2C%200%2C%200)%3B%20stroke-opacity%3A%200.1625%3B%20stroke-width%3A%201px%3B%22%2F%3E%3Cpath%20class%3D%22ygrid%20crisp%22%20transform%3D%22translate(0%2C146.97)%22%20d%3D%22M80%2C0h419.89655172413796%22%20style%3D%22stroke%3A%20rgb(0%2C%200%2C%200)%3B%20stroke-opacity%3A%200.1625%3B%20stroke-width%3A%201px%3B%22%2F%3E%3Cpath%20class%3D%22ygrid%20crisp%22%20transform%3D%22translate(0%2C80.45)%22%20d%3D%22M80%2C0h419.89655172413796%22%20style%3D%22stroke%3A%20rgb(0%2C%200%2C%200)%3B%20stroke-opacity%3A%200.1625%3B%20stroke-width%3A%201px%3B%22%2F%3E%3C%2Fg%3E%3C%2Fg%3E%3Cg%20class%3D%22zerolinelayer%22%3E%3Cpath%20class%3D%22yzl%20zl%20crisp%22%20transform%3D%22translate(0%2C280)%22%20d%3D%22M80%2C0h419.89655172413796%22%20style%3D%22stroke%3A%20rgb(0%2C%200%2C%200)%3B%20stroke-opacity%3A%200.325%3B%20stroke-width%3A%201px%3B%22%2F%3E%3C%2Fg%3E%3Cpath%20class%3D%22xlines-below%22%2F%3E%3Cpath%20class%3D%22ylines-below%22%2F%3E%3Cg%20class%3D%22overlines-below%22%2F%3E%3Cg%20class%3D%22xaxislayer-below%22%2F%3E%3Cg%20class%3D%22yaxislayer-below%22%2F%3E%3Cg%20class%3D%22overaxes-below%22%2F%3E%3Cg%20class%3D%22plot%22%20transform%3D%22translate(80%2C%2030)%22%20clip-path%3D%22url('%23clipf46795xyplot')%22%3E%3Cg%20class%3D%22barlayer%20mlayer%22%3E%3Cg%20class%3D%22trace%20bars%22%20style%3D%22opacity%3A%201%3B%22%3E%3Cg%20class%3D%22points%22%3E%3Cg%20class%3D%22point%22%3E%3Cpath%20d%3D%22M10.5%2C250V60.09H52.49V250Z%22%20style%3D%22vector-effect%3A%20non-scaling-stroke%3B%20opacity%3A%201%3B%20stroke-width%3A%200px%3B%20fill%3A%20rgb(78%2C%20121%2C%20167)%3B%20fill-opacity%3A%201%3B%22%2F%3E%3C%2Fg%3E%3Cg%20class%3D%22point%22%3E%3Cpath%20d%3D%22M115.47%2C250V68.48H157.46V250Z%22%20style%3D%22vector-effect%3A%20non-scaling-stroke%3B%20opacity%3A%201%3B%20stroke-width%3A%200px%3B%20fill%3A%20rgb(78%2C%20121%2C%20167)%3B%20fill-opacity%3A%201%3B%22%2F%3E%3C%2Fg%3E%3Cg%20class%3D%22point%22%3E%3Cpath%20d%3D%22M220.45%2C250V61.42H262.44V250Z%22%20style%3D%22vector-effect%3A%20non-scaling-stroke%3B%20opacity%3A%201%3B%20stroke-width%3A%200px%3B%20fill%3A%20rgb(78%2C%20121%2C%20167)%3B%20fill-opacity%3A%201%3B%22%2F%3E%3C%2Fg%3E%3Cg%20class%3D%22point%22%3E%3Cpath%20d%3D%22M325.42%2C250V20.77H367.41V250Z%22%20style%3D%22vector-effect%3A%20non-scaling-stroke%3B%20opacity%3A%201%3B%20stroke-width%3A%200px%3B%20fill%3A%20rgb(78%2C%20121%2C%20167)%3B%20fill-opacity%3A%201%3B%22%2F%3E%3C%2Fg%3E%3C%2Fg%3E%3C%2Fg%3E%3Cg%20class%3D%22trace%20bars%22%20style%3D%22opacity%3A%201%3B%22%3E%3Cg%20class%3D%22points%22%3E%3Cg%20class%3D%22point%22%3E%3Cpath%20d%3D%22M52.49%2C250V71.4H94.48V250Z%22%20style%3D%22vector-effect%3A%20non-scaling-stroke%3B%20opacity%3A%201%3B%20stroke-width%3A%200px%3B%20fill%3A%20rgb(242%2C%20142%2C%2044)%3B%20fill-opacity%3A%201%3B%22%2F%3E%3C%2Fg%3E%3Cg%20class%3D%22point%22%3E%3Cpath%20d%3D%22M157.46%2C250V70.16H199.45V250Z%22%20style%3D%22vector-effect%3A%20non-scaling-stroke%3B%20opacity%3A%201%3B%20stroke-width%3A%200px%3B%20fill%3A%20rgb(242%2C%20142%2C%2044)%3B%20fill-opacity%3A%201%3B%22%2F%3E%3C%2Fg%3E%3Cg%20class%3D%22point%22%3E%3Cpath%20d%3D%22M262.44%2C250V60.2H304.43V250Z%22%20style%3D%22vector-effect%3A%20non-scaling-stroke%3B%20opacity%3A%201%3B%20stroke-width%3A%200px%3B%20fill%3A%20rgb(242%2C%20142%2C%2044)%3B%20fill-opacity%3A%201%3B%22%2F%3E%3C%2Fg%3E%3Cg%20class%3D%22point%22%3E%3Cpath%20d%3D%22M367.41%2C250V29.16H409.4V250Z%22%20style%3D%22vector-effect%3A%20non-scaling-stroke%3B%20opacity%3A%201%3B%20stroke-width%3A%200px%3B%20fill%3A%20rgb(242%2C%20142%2C%2044)%3B%20fill-opacity%3A%201%3B%22%2F%3E%3C%2Fg%3E%3C%2Fg%3E%3C%2Fg%3E%3C%2Fg%3E%3C%2Fg%3E%3Cg%20class%3D%22overplot%22%2F%3E%3Cpath%20class%3D%22xlines-above%20crisp%22%20d%3D%22M79%2C280.5H499.89655172413796%22%20style%3D%22fill%3A%20none%3B%20stroke-width%3A%201px%3B%20stroke%3A%20rgb(0%2C%200%2C%200)%3B%20stroke-opacity%3A%200.1625%3B%22%2F%3E%3Cpath%20class%3D%22ylines-above%20crisp%22%20d%3D%22M79.5%2C30V280%22%20style%3D%22fill%3A%20none%3B%20stroke-width%3A%201px%3B%20stroke%3A%20rgb(0%2C%200%2C%200)%3B%20stroke-opacity%3A%200.1625%3B%22%2F%3E%3Cg%20class%3D%22overlines-above%22%2F%3E%3Cg%20class%3D%22xaxislayer-above%22%3E%3Cg%20class%3D%22xtick%22%3E%3Ctext%20text-anchor%3D%22middle%22%20x%3D%220%22%20y%3D%22295.4%22%20data-unformatted%3D%220-25Y%22%20data-math%3D%22N%22%20transform%3D%22translate(132.49%2C0)%22%20style%3D%22font-family%3A%20%26quot%3BOpen%20Sans%26quot%3B%2C%20verdana%2C%20arial%2C%20sans-serif%3B%20font-size%3A%2012px%3B%20fill%3A%20rgb(0%2C%200%2C%200)%3B%20fill-opacity%3A%200.65%3B%20white-space%3A%20pre%3B%22%3E0-25Y%3C%2Ftext%3E%3C%2Fg%3E%3Cg%20class%3D%22xtick%22%3E%3Ctext%20text-anchor%3D%22middle%22%20x%3D%220%22%20y%3D%22295.4%22%20data-unformatted%3D%2225Y%20-%2040Y%22%20data-math%3D%22N%22%20transform%3D%22translate(237.46%2C0)%22%20style%3D%22font-family%3A%20%26quot%3BOpen%20Sans%26quot%3B%2C%20verdana%2C%20arial%2C%20sans-serif%3B%20font-size%3A%2012px%3B%20fill%3A%20rgb(0%2C%200%2C%200)%3B%20fill-opacity%3A%200.65%3B%20white-space%3A%20pre%3B%22%3E25Y%20-%2040Y%3C%2Ftext%3E%3C%2Fg%3E%3Cg%20class%3D%22xtick%22%3E%3Ctext%20text-anchor%3D%22middle%22%20x%3D%220%22%20y%3D%22295.4%22%20data-unformatted%3D%2240Y%20-%2055Y%22%20data-math%3D%22N%22%20transform%3D%22translate(342.44%2C0)%22%20style%3D%22font-family%3A%20%26quot%3BOpen%20Sans%26quot%3B%2C%20verdana%2C%20arial%2C%20sans-serif%3B%20font-size%3A%2012px%3B%20fill%3A%20rgb(0%2C%200%2C%200)%3B%20fill-opacity%3A%200.65%3B%20white-space%3A%20pre%3B%22%3E40Y%20-%2055Y%3C%2Ftext%3E%3C%2Fg%3E%3Cg%20class%3D%22xtick%22%3E%3Ctext%20text-anchor%3D%22middle%22%20x%3D%220%22%20y%3D%22295.4%22%20data-unformatted%3D%2255Y%2B%22%20data-math%3D%22N%22%20transform%3D%22translate(447.41%2C0)%22%20style%3D%22font-family%3A%20%26quot%3BOpen%20Sans%26quot%3B%2C%20verdana%2C%20arial%2C%20sans-serif%3B%20font-size%3A%2012px%3B%20fill%3A%20rgb(0%2C%200%2C%200)%3B%20fill-opacity%3A%200.65%3B%20white-space%3A%20pre%3B%22%3E55Y%2B%3C%2Ftext%3E%3C%2Fg%3E%3C%2Fg%3E%3Cg%20class%3D%22yaxislayer-above%22%3E%3Cg%20class%3D%22ytick%22%3E%3Ctext%20text-anchor%3D%22end%22%20x%3D%2276.6%22%20y%3D%224.199999999999999%22%20data-unformatted%3D%220%22%20data-math%3D%22N%22%20transform%3D%22translate(0%2C280)%22%20style%3D%22font-family%3A%20%26quot%3BOpen%20Sans%26quot%3B%2C%20verdana%2C%20arial%2C%20sans-serif%3B%20font-size%3A%2012px%3B%20fill%3A%20rgb(0%2C%200%2C%200)%3B%20fill-opacity%3A%200.65%3B%20white-space%3A%20pre%3B%22%3E0%3C%2Ftext%3E%3C%2Fg%3E%3Cg%20class%3D%22ytick%22%3E%3Ctext%20text-anchor%3D%22end%22%20x%3D%2276.6%22%20y%3D%224.199999999999999%22%20data-unformatted%3D%2220%22%20data-math%3D%22N%22%20transform%3D%22translate(0%2C213.48)%22%20style%3D%22font-family%3A%20%26quot%3BOpen%20Sans%26quot%3B%2C%20verdana%2C%20arial%2C%20sans-serif%3B%20font-size%3A%2012px%3B%20fill%3A%20rgb(0%2C%200%2C%200)%3B%20fill-opacity%3A%200.65%3B%20white-space%3A%20pre%3B%22%3E20%3C%2Ftext%3E%3C%2Fg%3E%3Cg%20class%3D%22ytick%22%3E%3Ctext%20text-anchor%3D%22end%22%20x%3D%2276.6%22%20y%3D%224.199999999999999%22%20data-unformatted%3D%2240%22%20data-math%3D%22N%22%20transform%3D%22translate(0%2C146.97)%22%20style%3D%22font-family%3A%20%26quot%3BOpen%20Sans%26quot%3B%2C%20verdana%2C%20arial%2C%20sans-serif%3B%20font-size%3A%2012px%3B%20fill%3A%20rgb(0%2C%200%2C%200)%3B%20fill-opacity%3A%200.65%3B%20white-space%3A%20pre%3B%22%3E40%3C%2Ftext%3E%3C%2Fg%3E%3Cg%20class%3D%22ytick%22%3E%3Ctext%20text-anchor%3D%22end%22%20x%3D%2276.6%22%20y%3D%224.199999999999999%22%20data-unformatted%3D%2260%22%20data-math%3D%22N%22%20transform%3D%22translate(0%2C80.45)%22%20style%3D%22font-family%3A%20%26quot%3BOpen%20Sans%26quot%3B%2C%20verdana%2C%20arial%2C%20sans-serif%3B%20font-size%3A%2012px%3B%20fill%3A%20rgb(0%2C%200%2C%200)%3B%20fill-opacity%3A%200.65%3B%20white-space%3A%20pre%3B%22%3E60%3C%2Ftext%3E%3C%2Fg%3E%3C%2Fg%3E%3Cg%20class%3D%22overaxes-above%22%2F%3E%3C%2Fg%3E%3Cg%20class%3D%22subplot%20x2y%22%3E%3Cg%20class%3D%22layer-subplot%22%3E%3Cg%20class%3D%22shapelayer%22%2F%3E%3Cg%20class%3D%22imagelayer%22%2F%3E%3C%2Fg%3E%3Cg%20class%3D%22gridlayer%22%3E%3Cg%20class%3D%22x2%22%2F%3E%3Cg%20class%3D%22y%22%3E%3Cpath%20class%3D%22ygrid%20crisp%22%20transform%3D%22translate(0%2C213.48)%22%20d%3D%22M546.551724137931%2C0h419.89655172413785%22%20style%3D%22stroke%3A%20rgb(0%2C%200%2C%200)%3B%20stroke-opacity%3A%200.1625%3B%20stroke-width%3A%201px%3B%22%2F%3E%3Cpath%20class%3D%22ygrid%20crisp%22%20transform%3D%22translate(0%2C146.97)%22%20d%3D%22M546.551724137931%2C0h419.89655172413785%22%20style%3D%22stroke%3A%20rgb(0%2C%200%2C%200)%3B%20stroke-opacity%3A%200.1625%3B%20stroke-width%3A%201px%3B%22%2F%3E%3Cpath%20class%3D%22ygrid%20crisp%22%20transform%3D%22translate(0%2C80.45)%22%20d%3D%22M546.551724137931%2C0h419.89655172413785%22%20style%3D%22stroke%3A%20rgb(0%2C%200%2C%200)%3B%20stroke-opacity%3A%200.1625%3B%20stroke-width%3A%201px%3B%22%2F%3E%3C%2Fg%3E%3C%2Fg%3E%3Cg%20class%3D%22zerolinelayer%22%3E%3Cpath%20class%3D%22yzl%20zl%20crisp%22%20transform%3D%22translate(0%2C280)%22%20d%3D%22M546.551724137931%2C0h419.89655172413785%22%20style%3D%22stroke%3A%20rgb(0%2C%200%2C%200)%3B%20stroke-opacity%3A%200.325%3B%20stroke-width%3A%201px%3B%22%2F%3E%3C%2Fg%3E%3Cpath%20class%3D%22xlines-below%22%2F%3E%3Cpath%20class%3D%22ylines-below%22%2F%3E%3Cg%20class%3D%22overlines-below%22%2F%3E%3Cg%20class%3D%22xaxislayer-below%22%2F%3E%3Cg%20class%3D%22yaxislayer-below%22%2F%3E%3Cg%20class%3D%22overaxes-below%22%2F%3E%3Cg%20class%3D%22plot%22%20transform%3D%22translate(546.551724137931%2C%2030)%22%20clip-path%3D%22url('%23clipf46795x2yplot')%22%3E%3Cg%20class%3D%22barlayer%20mlayer%22%3E%3Cg%20class%3D%22trace%20bars%22%20style%3D%22opacity%3A%201%3B%22%3E%3Cg%20class%3D%22points%22%3E%3Cg%20class%3D%22point%22%3E%3Cpath%20d%3D%22M10.5%2C250V250H52.49V250Z%22%20style%3D%22vector-effect%3A%20non-scaling-stroke%3B%20opacity%3A%201%3B%20stroke-width%3A%200px%3B%20fill%3A%20rgb(78%2C%20121%2C%20167)%3B%20fill-opacity%3A%201%3B%22%2F%3E%3C%2Fg%3E%3Cg%20class%3D%22point%22%3E%3Cpath%20d%3D%22M115.47%2C250V47.29H157.46V250Z%22%20style%3D%22vector-effect%3A%20non-scaling-stroke%3B%20opacity%3A%201%3B%20stroke-width%3A%200px%3B%20fill%3A%20rgb(78%2C%20121%2C%20167)%3B%20fill-opacity%3A%201%3B%22%2F%3E%3C%2Fg%3E%3Cg%20class%3D%22point%22%3E%3Cpath%20d%3D%22M220.45%2C250V74.62H262.44V250Z%22%20style%3D%22vector-effect%3A%20non-scaling-stroke%3B%20opacity%3A%201%3B%20stroke-width%3A%200px%3B%20fill%3A%20rgb(78%2C%20121%2C%20167)%3B%20fill-opacity%3A%201%3B%22%2F%3E%3C%2Fg%3E%3Cg%20class%3D%22point%22%3E%3Cpath%20d%3D%22M325.42%2C250V53.33H367.41V250Z%22%20style%3D%22vector-effect%3A%20non-scaling-stroke%3B%20opacity%3A%201%3B%20stroke-width%3A%200px%3B%20fill%3A%20rgb(78%2C%20121%2C%20167)%3B%20fill-opacity%3A%201%3B%22%2F%3E%3C%2Fg%3E%3C%2Fg%3E%3C%2Fg%3E%3Cg%20class%3D%22trace%20bars%22%20style%3D%22opacity%3A%201%3B%22%3E%3Cg%20class%3D%22points%22%3E%3Cg%20class%3D%22point%22%3E%3Cpath%20d%3D%22M52.49%2C250V250H94.48V250Z%22%20style%3D%22vector-effect%3A%20non-scaling-stroke%3B%20opacity%3A%201%3B%20stroke-width%3A%200px%3B%20fill%3A%20rgb(242%2C%20142%2C%2044)%3B%20fill-opacity%3A%201%3B%22%2F%3E%3C%2Fg%3E%3Cg%20class%3D%22point%22%3E%3Cpath%20d%3D%22M157.46%2C250V12.5H199.45V250Z%22%20style%3D%22vector-effect%3A%20non-scaling-stroke%3B%20opacity%3A%201%3B%20stroke-width%3A%200px%3B%20fill%3A%20rgb(242%2C%20142%2C%2044)%3B%20fill-opacity%3A%201%3B%22%2F%3E%3C%2Fg%3E%3Cg%20class%3D%22point%22%3E%3Cpath%20d%3D%22M262.44%2C250V43.34H304.42V250Z%22%20style%3D%22vector-effect%3A%20non-scaling-stroke%3B%20opacity%3A%201%3B%20stroke-width%3A%200px%3B%20fill%3A%20rgb(242%2C%20142%2C%2044)%3B%20fill-opacity%3A%201%3B%22%2F%3E%3C%2Fg%3E%3Cg%20class%3D%22point%22%3E%3Cpath%20d%3D%22M367.41%2C250V43.02H409.4V250Z%22%20style%3D%22vector-effect%3A%20non-scaling-stroke%3B%20opacity%3A%201%3B%20stroke-width%3A%200px%3B%20fill%3A%20rgb(242%2C%20142%2C%2044)%3B%20fill-opacity%3A%201%3B%22%2F%3E%3C%2Fg%3E%3C%2Fg%3E%3C%2Fg%3E%3C%2Fg%3E%3C%2Fg%3E%3Cg%20class%3D%22overplot%22%2F%3E%3Cpath%20class%3D%22xlines-above%20crisp%22%20d%3D%22M0%2C0%22%20style%3D%22fill%3A%20none%3B%22%2F%3E%3Cpath%20class%3D%22ylines-above%20crisp%22%20d%3D%22M0%2C0%22%20style%3D%22fill%3A%20none%3B%22%2F%3E%3Cg%20class%3D%22overlines-above%22%2F%3E%3Cg%20class%3D%22xaxislayer-above%22%3E%3Cg%20class%3D%22x2tick%22%3E%3Ctext%20text-anchor%3D%22middle%22%20x%3D%220%22%20y%3D%22293%22%20data-unformatted%3D%220-25Y%22%20data-math%3D%22N%22%20transform%3D%22translate(599.041724137931%2C0)%22%20style%3D%22font-family%3A%20%26quot%3BOpen%20Sans%26quot%3B%2C%20verdana%2C%20arial%2C%20sans-serif%3B%20font-size%3A%2012px%3B%20fill%3A%20rgb(0%2C%200%2C%200)%3B%20fill-opacity%3A%200.65%3B%20white-space%3A%20pre%3B%22%3E0-25Y%3C%2Ftext%3E%3C%2Fg%3E%3Cg%20class%3D%22x2tick%22%3E%3Ctext%20text-anchor%3D%22middle%22%20x%3D%220%22%20y%3D%22293%22%20data-unformatted%3D%2225Y%20-%2040Y%22%20data-math%3D%22N%22%20transform%3D%22translate(704.0117241379311%2C0)%22%20style%3D%22font-family%3A%20%26quot%3BOpen%20Sans%26quot%3B%2C%20verdana%2C%20arial%2C%20sans-serif%3B%20font-size%3A%2012px%3B%20fill%3A%20rgb(0%2C%200%2C%200)%3B%20fill-opacity%3A%200.65%3B%20white-space%3A%20pre%3B%22%3E25Y%20-%2040Y%3C%2Ftext%3E%3C%2Fg%3E%3Cg%20class%3D%22x2tick%22%3E%3Ctext%20text-anchor%3D%22middle%22%20x%3D%220%22%20y%3D%22293%22%20data-unformatted%3D%2240Y%20-%2055Y%22%20data-math%3D%22N%22%20transform%3D%22translate(808.991724137931%2C0)%22%20style%3D%22font-family%3A%20%26quot%3BOpen%20Sans%26quot%3B%2C%20verdana%2C%20arial%2C%20sans-serif%3B%20font-size%3A%2012px%3B%20fill%3A%20rgb(0%2C%200%2C%200)%3B%20fill-opacity%3A%200.65%3B%20white-space%3A%20pre%3B%22%3E40Y%20-%2055Y%3C%2Ftext%3E%3C%2Fg%3E%3Cg%20class%3D%22x2tick%22%3E%3Ctext%20text-anchor%3D%22middle%22%20x%3D%220%22%20y%3D%22293%22%20data-unformatted%3D%2255Y%2B%22%20data-math%3D%22N%22%20transform%3D%22translate(913.961724137931%2C0)%22%20style%3D%22font-family%3A%20%26quot%3BOpen%20Sans%26quot%3B%2C%20verdana%2C%20arial%2C%20sans-serif%3B%20font-size%3A%2012px%3B%20fill%3A%20rgb(0%2C%200%2C%200)%3B%20fill-opacity%3A%200.65%3B%20white-space%3A%20pre%3B%22%3E55Y%2B%3C%2Ftext%3E%3C%2Fg%3E%3C%2Fg%3E%3Cg%20class%3D%22yaxislayer-above%22%2F%3E%3Cg%20class%3D%22overaxes-above%22%2F%3E%3C%2Fg%3E%3Cg%20class%3D%22subplot%20x3y%22%3E%3Cg%20class%3D%22layer-subplot%22%3E%3Cg%20class%3D%22shapelayer%22%2F%3E%3Cg%20class%3D%22imagelayer%22%2F%3E%3C%2Fg%3E%3Cg%20class%3D%22gridlayer%22%3E%3Cg%20class%3D%22x3%22%2F%3E%3Cg%20class%3D%22y%22%3E%3Cpath%20class%3D%22ygrid%20crisp%22%20transform%3D%22translate(0%2C213.48)%22%20d%3D%22M1013.1034482758621%2C0h419.89655172413785%22%20style%3D%22stroke%3A%20rgb(0%2C%200%2C%200)%3B%20stroke-opacity%3A%200.1625%3B%20stroke-width%3A%201px%3B%22%2F%3E%3Cpath%20class%3D%22ygrid%20crisp%22%20transform%3D%22translate(0%2C146.97)%22%20d%3D%22M1013.1034482758621%2C0h419.89655172413785%22%20style%3D%22stroke%3A%20rgb(0%2C%200%2C%200)%3B%20stroke-opacity%3A%200.1625%3B%20stroke-width%3A%201px%3B%22%2F%3E%3Cpath%20class%3D%22ygrid%20crisp%22%20transform%3D%22translate(0%2C80.45)%22%20d%3D%22M1013.1034482758621%2C0h419.89655172413785%22%20style%3D%22stroke%3A%20rgb(0%2C%200%2C%200)%3B%20stroke-opacity%3A%200.1625%3B%20stroke-width%3A%201px%3B%22%2F%3E%3C%2Fg%3E%3C%2Fg%3E%3Cg%20class%3D%22zerolinelayer%22%3E%3Cpath%20class%3D%22yzl%20zl%20crisp%22%20transform%3D%22translate(0%2C280)%22%20d%3D%22M1013.1034482758621%2C0h419.89655172413785%22%20style%3D%22stroke%3A%20rgb(0%2C%200%2C%200)%3B%20stroke-opacity%3A%200.325%3B%20stroke-width%3A%201px%3B%22%2F%3E%3C%2Fg%3E%3Cpath%20class%3D%22xlines-below%22%2F%3E%3Cpath%20class%3D%22ylines-below%22%2F%3E%3Cg%20class%3D%22overlines-below%22%2F%3E%3Cg%20class%3D%22xaxislayer-below%22%2F%3E%3Cg%20class%3D%22yaxislayer-below%22%2F%3E%3Cg%20class%3D%22overaxes-below%22%2F%3E%3Cg%20class%3D%22plot%22%20transform%3D%22translate(1013.1034482758621%2C%2030)%22%20clip-path%3D%22url('%23clipf46795x3yplot')%22%3E%3Cg%20class%3D%22barlayer%20mlayer%22%3E%3Cg%20class%3D%22trace%20bars%22%20style%3D%22opacity%3A%201%3B%22%3E%3Cg%20class%3D%22points%22%3E%3Cg%20class%3D%22point%22%3E%3Cpath%20d%3D%22M10.5%2C250V250H52.49V250Z%22%20style%3D%22vector-effect%3A%20non-scaling-stroke%3B%20opacity%3A%201%3B%20stroke-width%3A%200px%3B%20fill%3A%20rgb(78%2C%20121%2C%20167)%3B%20fill-opacity%3A%201%3B%22%2F%3E%3C%2Fg%3E%3Cg%20class%3D%22point%22%3E%3Cpath%20d%3D%22M115.47%2C250V56.81H157.46V250Z%22%20style%3D%22vector-effect%3A%20non-scaling-stroke%3B%20opacity%3A%201%3B%20stroke-width%3A%200px%3B%20fill%3A%20rgb(78%2C%20121%2C%20167)%3B%20fill-opacity%3A%201%3B%22%2F%3E%3C%2Fg%3E%3Cg%20class%3D%22point%22%3E%3Cpath%20d%3D%22M220.45%2C250V59.1H262.44V250Z%22%20style%3D%22vector-effect%3A%20non-scaling-stroke%3B%20opacity%3A%201%3B%20stroke-width%3A%200px%3B%20fill%3A%20rgb(78%2C%20121%2C%20167)%3B%20fill-opacity%3A%201%3B%22%2F%3E%3C%2Fg%3E%3Cg%20class%3D%22point%22%3E%3Cpath%20d%3D%22M325.42%2C250V24.09H367.41V250Z%22%20style%3D%22vector-effect%3A%20non-scaling-stroke%3B%20opacity%3A%201%3B%20stroke-width%3A%200px%3B%20fill%3A%20rgb(78%2C%20121%2C%20167)%3B%20fill-opacity%3A%201%3B%22%2F%3E%3C%2Fg%3E%3C%2Fg%3E%3C%2Fg%3E%3Cg%20class%3D%22trace%20bars%22%20style%3D%22opacity%3A%201%3B%22%3E%3Cg%20class%3D%22points%22%3E%3Cg%20class%3D%22point%22%3E%3Cpath%20d%3D%22M52.49%2C250V250H94.48V250Z%22%20style%3D%22vector-effect%3A%20non-scaling-stroke%3B%20opacity%3A%201%3B%20stroke-width%3A%200px%3B%20fill%3A%20rgb(242%2C%20142%2C%2044)%3B%20fill-opacity%3A%201%3B%22%2F%3E%3C%2Fg%3E%3Cg%20class%3D%22point%22%3E%3Cpath%20d%3D%22M157.46%2C250V58.73H199.45V250Z%22%20style%3D%22vector-effect%3A%20non-scaling-stroke%3B%20opacity%3A%201%3B%20stroke-width%3A%200px%3B%20fill%3A%20rgb(242%2C%20142%2C%2044)%3B%20fill-opacity%3A%201%3B%22%2F%3E%3C%2Fg%3E%3Cg%20class%3D%22point%22%3E%3Cpath%20d%3D%22M262.44%2C250V58.64H304.42V250Z%22%20style%3D%22vector-effect%3A%20non-scaling-stroke%3B%20opacity%3A%201%3B%20stroke-width%3A%200px%3B%20fill%3A%20rgb(242%2C%20142%2C%2044)%3B%20fill-opacity%3A%201%3B%22%2F%3E%3C%2Fg%3E%3Cg%20class%3D%22point%22%3E%3Cpath%20d%3D%22M367.41%2C250V15.03H409.4V250Z%22%20style%3D%22vector-effect%3A%20non-scaling-stroke%3B%20opacity%3A%201%3B%20stroke-width%3A%200px%3B%20fill%3A%20rgb(242%2C%20142%2C%2044)%3B%20fill-opacity%3A%201%3B%22%2F%3E%3C%2Fg%3E%3C%2Fg%3E%3C%2Fg%3E%3C%2Fg%3E%3C%2Fg%3E%3Cg%20class%3D%22overplot%22%2F%3E%3Cpath%20class%3D%22xlines-above%20crisp%22%20d%3D%22M0%2C0%22%20style%3D%22fill%3A%20none%3B%22%2F%3E%3Cpath%20class%3D%22ylines-above%20crisp%22%20d%3D%22M0%2C0%22%20style%3D%22fill%3A%20none%3B%22%2F%3E%3Cg%20class%3D%22overlines-above%22%2F%3E%3Cg%20class%3D%22xaxislayer-above%22%3E%3Cg%20class%3D%22x3tick%22%3E%3Ctext%20text-anchor%3D%22middle%22%20x%3D%220%22%20y%3D%22293%22%20data-unformatted%3D%220-25Y%22%20data-math%3D%22N%22%20transform%3D%22translate(1065.593448275862%2C0)%22%20style%3D%22font-family%3A%20%26quot%3BOpen%20Sans%26quot%3B%2C%20verdana%2C%20arial%2C%20sans-serif%3B%20font-size%3A%2012px%3B%20fill%3A%20rgb(0%2C%200%2C%200)%3B%20fill-opacity%3A%200.65%3B%20white-space%3A%20pre%3B%22%3E0-25Y%3C%2Ftext%3E%3C%2Fg%3E%3Cg%20class%3D%22x3tick%22%3E%3Ctext%20text-anchor%3D%22middle%22%20x%3D%220%22%20y%3D%22293%22%20data-unformatted%3D%2225Y%20-%2040Y%22%20data-math%3D%22N%22%20transform%3D%22translate(1170.5634482758621%2C0)%22%20style%3D%22font-family%3A%20%26quot%3BOpen%20Sans%26quot%3B%2C%20verdana%2C%20arial%2C%20sans-serif%3B%20font-size%3A%2012px%3B%20fill%3A%20rgb(0%2C%200%2C%200)%3B%20fill-opacity%3A%200.65%3B%20white-space%3A%20pre%3B%22%3E25Y%20-%2040Y%3C%2Ftext%3E%3C%2Fg%3E%3Cg%20class%3D%22x3tick%22%3E%3Ctext%20text-anchor%3D%22middle%22%20x%3D%220%22%20y%3D%22293%22%20data-unformatted%3D%2240Y%20-%2055Y%22%20data-math%3D%22N%22%20transform%3D%22translate(1275.5434482758621%2C0)%22%20style%3D%22font-family%3A%20%26quot%3BOpen%20Sans%26quot%3B%2C%20verdana%2C%20arial%2C%20sans-serif%3B%20font-size%3A%2012px%3B%20fill%3A%20rgb(0%2C%200%2C%200)%3B%20fill-opacity%3A%200.65%3B%20white-space%3A%20pre%3B%22%3E40Y%20-%2055Y%3C%2Ftext%3E%3C%2Fg%3E%3Cg%20class%3D%22x3tick%22%3E%3Ctext%20text-anchor%3D%22middle%22%20x%3D%220%22%20y%3D%22293%22%20data-unformatted%3D%2255Y%2B%22%20data-math%3D%22N%22%20transform%3D%22translate(1380.5134482758622%2C0)%22%20style%3D%22font-family%3A%20%26quot%3BOpen%20Sans%26quot%3B%2C%20verdana%2C%20arial%2C%20sans-serif%3B%20font-size%3A%2012px%3B%20fill%3A%20rgb(0%2C%200%2C%200)%3B%20fill-opacity%3A%200.65%3B%20white-space%3A%20pre%3B%22%3E55Y%2B%3C%2Ftext%3E%3C%2Fg%3E%3C%2Fg%3E%3Cg%20class%3D%22yaxislayer-above%22%2F%3E%3Cg%20class%3D%22overaxes-above%22%2F%3E%3C%2Fg%3E%3C%2Fg%3E%3Cg%20class%3D%22polarlayer%22%2F%3E%3Cg%20class%3D%22ternarylayer%22%2F%3E%3Cg%20class%3D%22geolayer%22%2F%3E%3Cg%20class%3D%22funnelarealayer%22%2F%3E%3Cg%20class%3D%22pielayer%22%2F%3E%3Cg%20class%3D%22treemaplayer%22%2F%3E%3Cg%20class%3D%22sunburstlayer%22%2F%3E%3Cg%20class%3D%22glimages%22%2F%3E%3Cdefs%20id%3D%22topdefs-f46795%22%3E%3Cg%20class%3D%22clips%22%2F%3E%3CclipPath%20id%3D%22legendf46795%22%3E%3Crect%20width%3D%2281%22%20height%3D%2258%22%20x%3D%220%22%20y%3D%220%22%2F%3E%3C%2FclipPath%3E%3C%2Fdefs%3E%3Cg%20class%3D%22indicatorlayer%22%2F%3E%3Cg%20class%3D%22layer-above%22%3E%3Cg%20class%3D%22imagelayer%22%2F%3E%3Cg%20class%3D%22shapelayer%22%2F%3E%3C%2Fg%3E%3Cg%20class%3D%22infolayer%22%3E%3Cg%20class%3D%22legend%22%20pointer-events%3D%22all%22%20transform%3D%22translate(1460%2C%2030)%22%3E%3Crect%20class%3D%22bg%22%20shape-rendering%3D%22crispEdges%22%20style%3D%22stroke%3A%20rgb(68%2C%2068%2C%2068)%3B%20stroke-opacity%3A%201%3B%20fill%3A%20rgb(255%2C%20255%2C%20255)%3B%20fill-opacity%3A%201%3B%20stroke-width%3A%200px%3B%22%20width%3D%2281%22%20height%3D%2258%22%20x%3D%220%22%20y%3D%220%22%2F%3E%3Cg%20class%3D%22scrollbox%22%20transform%3D%22translate(0%2C%200)%22%20clip-path%3D%22url('%23legendf46795')%22%3E%3Cg%20class%3D%22groups%22%20transform%3D%22translate(0%2C%200)%22%3E%3Cg%20class%3D%22traces%22%20transform%3D%22translate(0%2C%2014.5)%22%20style%3D%22opacity%3A%201%3B%22%3E%3Ctext%20class%3D%22legendtext%20user-select-none%22%20text-anchor%3D%22start%22%20x%3D%2240%22%20y%3D%224.680000000000001%22%20data-unformatted%3D%22Before%22%20data-math%3D%22N%22%20style%3D%22font-family%3A%20%26quot%3BOpen%20Sans%26quot%3B%2C%20verdana%2C%20arial%2C%20sans-serif%3B%20font-size%3A%2012px%3B%20fill%3A%20rgb(0%2C%200%2C%200)%3B%20fill-opacity%3A%200.65%3B%20white-space%3A%20pre%3B%22%3EBefore%3C%2Ftext%3E%3Cg%20class%3D%22layers%22%20style%3D%22opacity%3A%201%3B%22%3E%3Cg%20class%3D%22legendfill%22%2F%3E%3Cg%20class%3D%22legendlines%22%2F%3E%3Cg%20class%3D%22legendsymbols%22%3E%3Cg%20class%3D%22legendpoints%22%3E%3Cpath%20class%3D%22legendundefined%22%20d%3D%22M6%2C6H-6V-6H6Z%22%20transform%3D%22translate(20%2C0)%22%20style%3D%22stroke-width%3A%200px%3B%20fill%3A%20rgb(78%2C%20121%2C%20167)%3B%20fill-opacity%3A%201%3B%22%2F%3E%3C%2Fg%3E%3C%2Fg%3E%3C%2Fg%3E%3Crect%20class%3D%22legendtoggle%22%20pointer-events%3D%22all%22%20x%3D%220%22%20y%3D%22-9.5%22%20width%3D%2275.6875%22%20height%3D%2219%22%20style%3D%22cursor%3A%20pointer%3B%20fill%3A%20rgb(0%2C%200%2C%200)%3B%20fill-opacity%3A%200%3B%22%2F%3E%3C%2Fg%3E%3C%2Fg%3E%3Cg%20class%3D%22groups%22%20transform%3D%22translate(0%2C%2010)%22%3E%3Cg%20class%3D%22traces%22%20transform%3D%22translate(0%2C%2033.5)%22%20style%3D%22opacity%3A%201%3B%22%3E%3Ctext%20class%3D%22legendtext%20user-select-none%22%20text-anchor%3D%22start%22%20x%3D%2240%22%20y%3D%224.680000000000001%22%20data-unformatted%3D%22After%22%20data-math%3D%22N%22%20style%3D%22font-family%3A%20%26quot%3BOpen%20Sans%26quot%3B%2C%20verdana%2C%20arial%2C%20sans-serif%3B%20font-size%3A%2012px%3B%20fill%3A%20rgb(0%2C%200%2C%200)%3B%20fill-opacity%3A%200.65%3B%20white-space%3A%20pre%3B%22%3EAfter%3C%2Ftext%3E%3Cg%20class%3D%22layers%22%20style%3D%22opacity%3A%201%3B%22%3E%3Cg%20class%3D%22legendfill%22%2F%3E%3Cg%20class%3D%22legendlines%22%2F%3E%3Cg%20class%3D%22legendsymbols%22%3E%3Cg%20class%3D%22legendpoints%22%3E%3Cpath%20class%3D%22legendundefined%22%20d%3D%22M6%2C6H-6V-6H6Z%22%20transform%3D%22translate(20%2C0)%22%20style%3D%22stroke-width%3A%200px%3B%20fill%3A%20rgb(242%2C%20142%2C%2044)%3B%20fill-opacity%3A%201%3B%22%2F%3E%3C%2Fg%3E%3C%2Fg%3E%3C%2Fg%3E%3Crect%20class%3D%22legendtoggle%22%20pointer-events%3D%22all%22%20x%3D%220%22%20y%3D%22-9.5%22%20width%3D%2275.6875%22%20height%3D%2219%22%20style%3D%22cursor%3A%20pointer%3B%20fill%3A%20rgb(0%2C%200%2C%200)%3B%20fill-opacity%3A%200%3B%22%2F%3E%3C%2Fg%3E%3C%2Fg%3E%3C%2Fg%3E%3Crect%20class%3D%22scrollbar%22%20rx%3D%2220%22%20ry%3D%223%22%20width%3D%220%22%20height%3D%220%22%20style%3D%22fill%3A%20rgb(128%2C%20139%2C%20164)%3B%20fill-opacity%3A%201%3B%22%20x%3D%220%22%20y%3D%220%22%2F%3E%3C%2Fg%3E%3Cg%20class%3D%22g-gtitle%22%2F%3E%3Cg%20class%3D%22g-xtitle%22%3E%3Ctext%20class%3D%22xtitle%22%20x%3D%22289.94827586206895%22%20y%3D%22332%22%20text-anchor%3D%22middle%22%20data-unformatted%3D%22Triazolam%22%20data-math%3D%22N%22%20style%3D%22font-family%3A%20%26quot%3BOpen%20Sans%26quot%3B%2C%20verdana%2C%20arial%2C%20sans-serif%3B%20font-size%3A%2014px%3B%20fill%3A%20rgb(0%2C%200%2C%200)%3B%20opacity%3A%200.65%3B%20font-weight%3A%20normal%3B%20white-space%3A%20pre%3B%22%3ETriazolam%3C%2Ftext%3E%3C%2Fg%3E%3Cg%20class%3D%22g-x2title%22%3E%3Ctext%20class%3D%22x2title%22%20x%3D%22756.5%22%20y%3D%22332%22%20text-anchor%3D%22middle%22%20data-unformatted%3D%22Alprazolam%22%20data-math%3D%22N%22%20style%3D%22font-family%3A%20%26quot%3BOpen%20Sans%26quot%3B%2C%20verdana%2C%20arial%2C%20sans-serif%3B%20font-size%3A%2014px%3B%20fill%3A%20rgb(0%2C%200%2C%200)%3B%20opacity%3A%200.65%3B%20font-weight%3A%20normal%3B%20white-space%3A%20pre%3B%22%3EAlprazolam%3C%2Ftext%3E%3C%2Fg%3E%3Cg%20class%3D%22g-x3title%22%3E%3Ctext%20class%3D%22x3title%22%20x%3D%221223.051724137931%22%20y%3D%22332%22%20text-anchor%3D%22middle%22%20data-unformatted%3D%22Sugar%22%20data-math%3D%22N%22%20style%3D%22font-family%3A%20%26quot%3BOpen%20Sans%26quot%3B%2C%20verdana%2C%20arial%2C%20sans-serif%3B%20font-size%3A%2014px%3B%20fill%3A%20rgb(0%2C%200%2C%200)%3B%20opacity%3A%200.65%3B%20font-weight%3A%20normal%3B%20white-space%3A%20pre%3B%22%3ESugar%3C%2Ftext%3E%3C%2Fg%3E%3Cg%20class%3D%22g-ytitle%22%2F%3E%3C%2Fg%3E%3Cg%20class%3D%22menulayer%22%2F%3E%3Cg%20class%3D%22zoomlayer%22%2F%3E%3Cg%20class%3D%22hoverlayer%22%2F%3E%3C%2Fsvg%3E\">"
      ],
      "text/plain": [
       "Open the notebook in JupyterLab with the atoti extension installed and enabled to see this widget."
      ]
     },
     "metadata": {},
     "output_type": "display_data"
    }
   ],
   "source": [
    "cube.visualize(\"Average memory score by drug\")"
   ]
  },
  {
   "cell_type": "markdown",
   "metadata": {},
   "source": [
    "# Slice-and-dice basic statistics"
   ]
  },
  {
   "cell_type": "code",
   "execution_count": 14,
   "metadata": {},
   "outputs": [],
   "source": [
    "m[\"Mean\"] = tt.agg.mean(observations_datastore[\"MemoryScores\"])\n",
    "m[\"Std\"] = tt.agg.std(observations_datastore[\"MemoryScores\"])\n",
    "m[\"Min\"] = tt.agg.min(observations_datastore[\"MemoryScores\"])\n",
    "m[\"Max\"] = tt.agg.max(observations_datastore[\"MemoryScores\"])\n",
    "m[\"25%\"] = tt.agg.quantile(observations_datastore[\"MemoryScores\"], 0.25)\n",
    "m[\"50%\"] = tt.agg.quantile(observations_datastore[\"MemoryScores\"], 0.50)\n",
    "m[\"75%\"] = tt.agg.quantile(observations_datastore[\"MemoryScores\"], 0.75)"
   ]
  },
  {
   "cell_type": "markdown",
   "metadata": {},
   "source": [
    "We can now slice-and-dice those statistics using any attribute available in the data.\n",
    "\n",
    "This is an example, where the Happy or Sad field has been put onto the columns. Every time we bring an additional attribute into the view, the statistics - such averages, standard deviation and quantiles - are recomputed from the raw data."
   ]
  },
  {
   "cell_type": "code",
   "execution_count": 15,
   "metadata": {
    "atoti": {
     "height": 326,
     "state": {
      "name": "Basic statistics slice-and-dice",
      "type": "container",
      "value": {
       "body": {
        "configuration": {
         "tabular": {
          "addButtonFilter": "numeric",
          "cellRenderers": [
           "tree-layout"
          ],
          "columns": [
           {
            "key": "c-treeCells-member",
            "width": 130
           }
          ],
          "columnsGroups": [
           {
            "captionProducer": "firstColumn",
            "cellFactory": "kpi-status",
            "selector": "kpi-status"
           },
           {
            "captionProducer": "firstColumn",
            "cellFactory": "lookup",
            "selector": "lookup"
           },
           {
            "captionProducer": "expiry",
            "cellFactory": "expiry",
            "selector": "kpi-expiry"
           },
           {
            "captionProducer": "columnMerge",
            "cellFactory": {
             "args": {},
             "key": "treeCells"
            },
            "selector": "member"
           }
          ],
          "defaultOptions": {},
          "expansion": {
           "automaticExpansion": true
          },
          "hideAddButton": true,
          "pinnedHeaderSelector": "member",
          "sortingMode": "non-breaking",
          "statisticsShown": true
         }
        },
        "contextValues": {},
        "mdx": "SELECT NON EMPTY Hierarchize({[Measures].[contributors.COUNT], [Measures].[Std], [Measures].[Min], [Measures].[25%], [Measures].[50%], [Measures].[75%], [Measures].[Max], [Measures].[Mean]}) ON ROWS, NON EMPTY Hierarchize(DrilldownLevel([Hierarchies].[Happy_Sad_group].[ALL].[AllMember])) ON COLUMNS FROM [Observations] CELL PROPERTIES VALUE, FORMATTED_VALUE, BACK_COLOR, FORE_COLOR, FONT_FLAGS",
        "ranges": {
         "column": {
          "chunkSize": 50,
          "thresholdPercentage": 0.2
         },
         "row": {
          "chunkSize": 2000,
          "thresholdPercentage": 0.1
         }
        },
        "serverUrl": "",
        "updateMode": "once"
       },
       "containerKey": "pivot-table",
       "showTitleBar": false,
       "style": {}
      }
     }
    }
   },
   "outputs": [
    {
     "data": {
      "application/vnd.atoti.v0+json": {
       "cellSet": {
        "axes": [
         {
          "hierarchies": [
           {
            "dimension": "Hierarchies",
            "hierarchy": "Happy_Sad_group"
           }
          ],
          "id": 0,
          "positions": [
           [
            {
             "captionPath": [
              "AllMember"
             ],
             "namePath": [
              "AllMember"
             ],
             "properties": {
              "DISPLAY_INFO": 65538
             }
            }
           ],
           [
            {
             "captionPath": [
              "AllMember",
              "Happy"
             ],
             "namePath": [
              "AllMember",
              "Happy"
             ],
             "properties": {
              "DISPLAY_INFO": 0
             }
            }
           ],
           [
            {
             "captionPath": [
              "AllMember",
              "Sad"
             ],
             "namePath": [
              "AllMember",
              "Sad"
             ],
             "properties": {
              "DISPLAY_INFO": 131072
             }
            }
           ]
          ]
         },
         {
          "hierarchies": [
           {
            "dimension": "Measures",
            "hierarchy": "Measures"
           }
          ],
          "id": 1,
          "positions": [
           [
            {
             "captionPath": [
              "25%"
             ],
             "namePath": [
              "25%"
             ],
             "properties": {
              "DISPLAY_INFO": 0
             }
            }
           ],
           [
            {
             "captionPath": [
              "50%"
             ],
             "namePath": [
              "50%"
             ],
             "properties": {
              "DISPLAY_INFO": 0
             }
            }
           ],
           [
            {
             "captionPath": [
              "75%"
             ],
             "namePath": [
              "75%"
             ],
             "properties": {
              "DISPLAY_INFO": 0
             }
            }
           ],
           [
            {
             "captionPath": [
              "Max"
             ],
             "namePath": [
              "Max"
             ],
             "properties": {
              "DISPLAY_INFO": 0
             }
            }
           ],
           [
            {
             "captionPath": [
              "Mean"
             ],
             "namePath": [
              "Mean"
             ],
             "properties": {
              "DISPLAY_INFO": 0
             }
            }
           ],
           [
            {
             "captionPath": [
              "Min"
             ],
             "namePath": [
              "Min"
             ],
             "properties": {
              "DISPLAY_INFO": 0
             }
            }
           ],
           [
            {
             "captionPath": [
              "Std"
             ],
             "namePath": [
              "Std"
             ],
             "properties": {
              "DISPLAY_INFO": 0
             }
            }
           ],
           [
            {
             "captionPath": [
              "Count"
             ],
             "namePath": [
              "contributors.COUNT"
             ],
             "properties": {
              "DISPLAY_INFO": 0
             }
            }
           ]
          ]
         }
        ],
        "cells": [
         {
          "formattedValue": "46.88",
          "ordinal": 0,
          "properties": {
           "BACK_COLOR": null,
           "FONT_FLAGS": 0,
           "FORE_COLOR": null
          },
          "value": 46.875
         },
         {
          "formattedValue": "46.85",
          "ordinal": 1,
          "properties": {
           "BACK_COLOR": null,
           "FONT_FLAGS": 0,
           "FORE_COLOR": null
          },
          "value": 46.849999999999994
         },
         {
          "formattedValue": "46.90",
          "ordinal": 2,
          "properties": {
           "BACK_COLOR": null,
           "FONT_FLAGS": 0,
           "FORE_COLOR": null
          },
          "value": 46.9
         },
         {
          "formattedValue": "55.95",
          "ordinal": 3,
          "properties": {
           "BACK_COLOR": null,
           "FONT_FLAGS": 0,
           "FORE_COLOR": null
          },
          "value": 55.95
         },
         {
          "formattedValue": "56.25",
          "ordinal": 4,
          "properties": {
           "BACK_COLOR": null,
           "FONT_FLAGS": 0,
           "FORE_COLOR": null
          },
          "value": 56.25
         },
         {
          "formattedValue": "55.15",
          "ordinal": 5,
          "properties": {
           "BACK_COLOR": null,
           "FONT_FLAGS": 0,
           "FORE_COLOR": null
          },
          "value": 55.150000000000006
         },
         {
          "formattedValue": "71.00",
          "ordinal": 6,
          "properties": {
           "BACK_COLOR": null,
           "FONT_FLAGS": 0,
           "FORE_COLOR": null
          },
          "value": 71
         },
         {
          "formattedValue": "69.20",
          "ordinal": 7,
          "properties": {
           "BACK_COLOR": null,
           "FONT_FLAGS": 0,
           "FORE_COLOR": null
          },
          "value": 69.2
         },
         {
          "formattedValue": "72.40",
          "ordinal": 8,
          "properties": {
           "BACK_COLOR": null,
           "FONT_FLAGS": 0,
           "FORE_COLOR": null
          },
          "value": 72.4
         },
         {
          "formattedValue": "120.00",
          "ordinal": 9,
          "properties": {
           "BACK_COLOR": null,
           "FONT_FLAGS": 0,
           "FORE_COLOR": null
          },
          "value": 120
         },
         {
          "formattedValue": "114.00",
          "ordinal": 10,
          "properties": {
           "BACK_COLOR": null,
           "FONT_FLAGS": 0,
           "FORE_COLOR": null
          },
          "value": 114
         },
         {
          "formattedValue": "120.00",
          "ordinal": 11,
          "properties": {
           "BACK_COLOR": null,
           "FONT_FLAGS": 0,
           "FORE_COLOR": null
          },
          "value": 120
         },
         {
          "formattedValue": "59.44",
          "ordinal": 12,
          "properties": {
           "BACK_COLOR": null,
           "FONT_FLAGS": 0,
           "FORE_COLOR": null
          },
          "value": 59.4449494949495
         },
         {
          "formattedValue": "59.21",
          "ordinal": 13,
          "properties": {
           "BACK_COLOR": null,
           "FONT_FLAGS": 0,
           "FORE_COLOR": null
          },
          "value": 59.21010101010101
         },
         {
          "formattedValue": "59.68",
          "ordinal": 14,
          "properties": {
           "BACK_COLOR": null,
           "FONT_FLAGS": 0,
           "FORE_COLOR": null
          },
          "value": 59.67979797979799
         },
         {
          "formattedValue": "27.10",
          "ordinal": 15,
          "properties": {
           "BACK_COLOR": null,
           "FONT_FLAGS": 0,
           "FORE_COLOR": null
          },
          "value": 27.1
         },
         {
          "formattedValue": "27.10",
          "ordinal": 16,
          "properties": {
           "BACK_COLOR": null,
           "FONT_FLAGS": 0,
           "FORE_COLOR": null
          },
          "value": 27.1
         },
         {
          "formattedValue": "28.30",
          "ordinal": 17,
          "properties": {
           "BACK_COLOR": null,
           "FONT_FLAGS": 0,
           "FORE_COLOR": null
          },
          "value": 28.3
         },
         {
          "formattedValue": "17.03",
          "ordinal": 18,
          "properties": {
           "BACK_COLOR": null,
           "FONT_FLAGS": 0,
           "FORE_COLOR": null
          },
          "value": 17.03404631675906
         },
         {
          "formattedValue": "16.97",
          "ordinal": 19,
          "properties": {
           "BACK_COLOR": null,
           "FONT_FLAGS": 0,
           "FORE_COLOR": null
          },
          "value": 16.966081390711373
         },
         {
          "formattedValue": "17.14",
          "ordinal": 20,
          "properties": {
           "BACK_COLOR": null,
           "FONT_FLAGS": 0,
           "FORE_COLOR": null
          },
          "value": 17.141515962776673
         },
         {
          "formattedValue": "396",
          "ordinal": 21,
          "properties": {
           "BACK_COLOR": null,
           "FONT_FLAGS": 0,
           "FORE_COLOR": null
          },
          "value": 396
         },
         {
          "formattedValue": "198",
          "ordinal": 22,
          "properties": {
           "BACK_COLOR": null,
           "FONT_FLAGS": 0,
           "FORE_COLOR": null
          },
          "value": 198
         },
         {
          "formattedValue": "198",
          "ordinal": 23,
          "properties": {
           "BACK_COLOR": null,
           "FONT_FLAGS": 0,
           "FORE_COLOR": null
          },
          "value": 198
         }
        ],
        "cube": "Observations",
        "defaultMembers": [
         {
          "captionPath": [
           "Count"
          ],
          "dimension": "Measures",
          "hierarchy": "Measures",
          "path": [
           "contributors.COUNT"
          ]
         },
         {
          "captionPath": [
           "Base"
          ],
          "dimension": "Epoch",
          "hierarchy": "Epoch",
          "path": [
           "Base"
          ]
         }
        ],
        "epoch": 2
       },
       "cube": "Observations",
       "error": null,
       "name": "Basic statistics slice-and-dice",
       "session": "Unnamed"
      },
      "text/html": [
       "<img src=\"data:image/svg+xml;charset=utf8,%3C?xml%20version=%221.0%22%20standalone=%22no%22?%3E%0A%20%20%20%20%3Csvg%20xmlns=%22http://www.w3.org/2000/svg%22%20width=%221541%22%20height=%22326%22%3E%0A%20%20%20%20%20%20%3CforeignObject%20x=%220%22%20y=%220%22%20width=%22100%25%22%20height=%22100%25%22%3E%0A%20%20%20%20%20%20%20%20%3Cstyle%20type=%22text/css%22%3E.css-xsa55j-dock%20%7Bposition:%20relative;%20z-index:%200;%20height:%20100%25;%20background-color:%20rgb(255,%20255,%20255);%20display:%20flex;%20flex-direction:%20column%7D%0A.css-1ibuxvk-DockBody%20%7Bpadding-top:%200px;%20padding-left:%200px;%20padding-right:%200px;%20padding-bottom:%200px;%20flex-grow:%201;%20flex-shrink:%201;%20flex-basis:%200%25;%20box-sizing:%20border-box;%20position:%20relative;%20z-index:%200;%20overflow-x:%20hidden;%20overflow-y:%20hidden%7D%0A.css-14zuz97%20%7Bbackground-image:%20initial;%20background-position-x:%20initial;%20background-position-y:%20initial;%20background-size:%20initial;%20background-repeat-x:%20initial;%20background-repeat-y:%20initial;%20background-attachment:%20initial;%20background-origin:%20initial;%20background-color:%20rgba(0,%200,%200,%200.2);%20z-index:%201;%20box-sizing:%20border-box;%20background-clip:%20padding-box%7D%0A.css-14zuz97.vertical%20%7Bwidth:%2012px;%20margin-top:%200px;%20margin-right:%20-6px;%20margin-bottom:%200px;%20margin-left:%20-6px;%20border-left-width:%205.5px;%20border-left-style:%20solid;%20border-left-color:%20transparent;%20border-right-width:%205.5px;%20border-right-style:%20solid;%20border-right-color:%20transparent;%20cursor:%20col-resize%7D%0A.css-14zuz97.disabled%20%7Bdisplay:%20none%7D%0A.css-1lrljg1-EditorSplitPane%20%7Bbackground-color:%20rgb(255,%20255,%20255);%20flex-grow:%201;%20flex-shrink:%201;%20flex-basis:%200%25;%20margin-right:%200px;%20position:%20relative%7D%0A.css-15fz3t7-EditorSplitPane%20%7Bposition:%20absolute;%20top:%200px;%20bottom:%200px;%20left:%200px;%20right:%200px;%20display:%20flex;%20flex-direction:%20column%7D%0A.css-1ouk3zc-EditorSplitPane%20%7Bbackground-color:%20rgb(255,%20255,%20255);%20flex-grow:%201;%20flex-shrink:%201;%20flex-basis:%200%25%7D%0A.css-1jjvrwi-EditorSplitPane%20%7Bposition:%20absolute;%20top:%200px;%20bottom:%200px;%20left:%200px;%20right:%200px;%20overflow-y:%20auto%7D%0A.css-1k1fxuh-Tabular%20%7Bwidth:%20100%25;%20height:%20100%25;%20position:%20relative%7D%0A.css-10klw3m%20%7Bheight:%20100%25%7D%0A.css-mdjjdg-TabularHeader%20%7Bdisplay:%20flex%7D%0A.css-12nzxaz-PinnedTabularHeaders%20%7Bflex-shrink:%200;%20display:%20flex%7D%0A.css-s4fjko-TabularPinnSeparator%20%7Bwidth:%202px;%20height:%2028px;%20background-color:%20rgb(233,%20233,%20233)%7D%0A.css-5jtkjp-UnpinnedTabularHeaders%20%7Bdisplay:%20flex;%20position:%20absolute;%20left:%200px%7D%0A.css-19w2ip5-TabularHeaderCell%20%7Bcursor:%20default;%20-webkit-box-flex:%201;%20flex-grow:%201;%20flex-shrink:%201;%20box-sizing:%20border-box;%20padding-left:%204px;%20padding-right:%204px;%20padding-top:%204px;%20padding-bottom:%204px;%20height:%20100%25;%20overflow-x:%20hidden;%20overflow-y:%20hidden;%20display:%20flex;%20white-space:%20nowrap;%20-webkit-box-pack:%20start;%20justify-content:%20flex-start;%20align-items:%20flex-start%7D%0A.css-jpazdc-TabularHeaderCell%20%7Boverflow-x:%20hidden;%20overflow-y:%20hidden;%20text-overflow:%20ellipsis%7D%0A.css-y3oqqp%20%7Bfont-size:%2012px;%20line-height:%2022px;%20font-weight:%20600;%20color:%20rgba(0,%200,%200,%200.85)%7D%0A.css-c7y3a7-TabularHeaderCell%20%7Bflex-shrink:%200;%20height:%20100%25;%20display:%20flex;%20-webkit-box-pack:%20center;%20justify-content:%20center%7D%0A.css-1id6sm3-UnpinnedTabularRows%20%7Bposition:%20absolute;%20top:%200px;%20left:%200px%7D%0A.css-3cge9w%20%7Bcursor:%20cell;%20display:%20flex;%20height:%2028px;%20user-select:%20none%7D%0A.css-9ssj44-TreeCell%20%7Bwidth:%20min-content%7D%0A.css-mkrhzq%20%7Bdisplay:%20flex;%20margin-left:%200px%7D%0A.css-8uhtka%20%7Boverflow-x:%20hidden;%20overflow-y:%20hidden;%20text-overflow:%20ellipsis;%20white-space:%20nowrap%7D%0A.css-1q63qjm%20%7Bcolor:%20rgba(0,%200,%200,%200.85);%20display:%20flex;%20box-sizing:%20border-box;%20-webkit-box-align:%20center;%20align-items:%20center;%20height:%2028px;%20position:%20absolute;%20top:%200px;%20left:%200px;%20user-select:%20none;%20font-size:%2012px;%20line-height:%2022px;%20font-weight:%20600;%20border-bottom-width:%202px;%20border-bottom-style:%20solid;%20border-bottom-color:%20rgb(233,%20233,%20233);%20width:%20120px%7D%0A.css-pm742e%20%7Bcursor:%20pointer;%20margin-top:%202px;%20height:%20inherit;%20display:%20flex;%20-webkit-box-align:%20center;%20align-items:%20center;%20font-size:%2010px;%20-webkit-box-pack:%20center;%20justify-content:%20center;%20padding-left:%204px%7D%0A.css-w64vkb-HeaderResizer%20%7Bposition:%20absolute;%20z-index:%201;%20width:%2010px;%20height:%2028px;%20left:%20115px;%20top:%200px;%20cursor:%20col-resize%7D%0A.css-tlxtaa-HeaderResizer%20%7Bposition:%20absolute;%20z-index:%201;%20height:%2010px;%20width:%20120px;%20left:%200px;%20top:%2023px;%20cursor:%20row-resize%7D%0A.css-1i6gc04%20%7Bcursor:%20pointer;%20margin-top:%202px;%20height:%20inherit;%20display:%20flex;%20-webkit-box-align:%20center;%20align-items:%20center;%20font-size:%2010px;%20width:%2016px%7D%0A.css-8r2ljj-PinnedTabularRows%20%7Bposition:%20absolute;%20right:%200px%7D%0A.css-mkoicc-CaptionCellRenderer%20%7Bwidth:%20100%25;%20overflow-x:%20hidden;%20overflow-y:%20hidden;%20text-overflow:%20ellipsis;%20white-space:%20nowrap%7D%0A.css-t881dv-SelectionStatistics%20%7Bheight:%2020px;%20display:%20flex;%20padding-top:%205px;%20opacity:%200;%20transition-duration:%20300ms;%20transition-timing-function:%20ease;%20transition-delay:%200s;%20transition-property:%20opacity;%20position:%20absolute;%20right:%200px;%20left:%20unset%7D%0A.css-8latmz-HeaderResizer%20%7Bposition:%20absolute;%20z-index:%201;%20height:%2010px;%20width:%20120px;%20left:%20120px;%20top:%2023px;%20cursor:%20row-resize%7D%0A.css-qpzagx-HeaderResizer%20%7Bposition:%20absolute;%20z-index:%201;%20height:%2010px;%20width:%20120px;%20left:%20240px;%20top:%2023px;%20cursor:%20row-resize%7D%0A.css-lp3bnm%20%7Bcolor:%20rgba(0,%200,%200,%200.85);%20display:%20flex;%20box-sizing:%20border-box;%20-webkit-box-align:%20center;%20align-items:%20center;%20height:%2028px;%20position:%20absolute;%20top:%200px;%20left:%20120px;%20user-select:%20none;%20font-size:%2012px;%20line-height:%2022px;%20font-weight:%20600;%20border-bottom-width:%202px;%20border-bottom-style:%20solid;%20border-bottom-color:%20rgb(233,%20233,%20233);%20width:%20120px%7D%0A.css-y4zo4n-HeaderResizer%20%7Bposition:%20absolute;%20z-index:%201;%20width:%2010px;%20height:%2028px;%20left:%20235px;%20top:%200px;%20cursor:%20col-resize%7D%0A.css-x77esk-HeaderResizer%20%7Bposition:%20absolute;%20z-index:%201;%20width:%2010px;%20height:%2028px;%20left:%20355px;%20top:%200px;%20cursor:%20col-resize%7D%0A.css-ysfs2f-PinnedTabularRows%20%7Bwidth:%202px;%20height:%20224px;%20background-color:%20rgb(233,%20233,%20233)%7D%0A.css-1hcmypl-TabularCell%20%7Bheight:%2028px;%20box-sizing:%20border-box;%20display:%20flex;%20-webkit-box-pack:%20end;%20justify-content:%20flex-end;%20flex-direction:%20column;%20padding-top:%204px;%20padding-left:%204px;%20padding-right:%204px;%20padding-bottom:%203px;%20overflow-x:%20hidden;%20overflow-y:%20hidden;%20white-space:%20nowrap;%20border-right-width:%201px;%20border-right-style:%20solid;%20border-right-color:%20rgb(233,%20233,%20233);%20border-bottom-width:%20initial;%20border-bottom-style:%20none;%20border-bottom-color:%20initial;%20width:%20120px;%20background-color:%20rgb(250,%20250,%20250);%20cursor:%20cell;%20user-select:%20none;%20text-align:%20right;%20align-items:%20flex-end%7D%0A.css-qazlap-TabularCell%20%7Bheight:%2028px;%20box-sizing:%20border-box;%20display:%20flex;%20-webkit-box-pack:%20end;%20justify-content:%20flex-end;%20flex-direction:%20column;%20padding-top:%204px;%20padding-left:%204px;%20padding-right:%204px;%20padding-bottom:%203px;%20overflow-x:%20hidden;%20overflow-y:%20hidden;%20white-space:%20nowrap;%20border-right-width:%201px;%20border-right-style:%20solid;%20border-right-color:%20rgb(233,%20233,%20233);%20border-bottom-width:%20initial;%20border-bottom-style:%20none;%20border-bottom-color:%20initial;%20width:%20120px;%20cursor:%20cell;%20user-select:%20none;%20text-align:%20right;%20align-items:%20flex-end%7D%0A.css-ggx54o-TabularHeaderGroup%20%7Bposition:%20relative;%20width:%20130px%7D%0A.css-a6s0k4%20%7Bcolor:%20rgba(0,%200,%200,%200.85);%20display:%20flex;%20box-sizing:%20border-box;%20-webkit-box-align:%20center;%20align-items:%20center;%20height:%2028px;%20position:%20absolute;%20top:%200px;%20left:%200px;%20user-select:%20none;%20font-size:%2012px;%20line-height:%2022px;%20font-weight:%20600;%20border-bottom-width:%202px;%20border-bottom-style:%20solid;%20border-bottom-color:%20rgb(233,%20233,%20233);%20width:%20130px;%20border-right-width:%201px;%20border-right-style:%20solid;%20border-right-color:%20rgb(233,%20233,%20233)%7D%0A.css-i5xh85-HeaderResizer%20%7Bposition:%20absolute;%20z-index:%201;%20width:%2010px;%20height:%2028px;%20left:%20125px;%20top:%200px;%20cursor:%20col-resize%7D%0A.css-1akixhl-HeaderResizer%20%7Bposition:%20absolute;%20z-index:%201;%20height:%2010px;%20width:%20130px;%20left:%200px;%20top:%2023px;%20cursor:%20row-resize%7D%0A.css-1dneml5%20%7Bheight:%20100%25;%20box-sizing:%20border-box;%20display:%20flex;%20-webkit-box-pack:%20end;%20justify-content:%20flex-end;%20flex-direction:%20column;%20padding-top:%204px;%20padding-left:%204px;%20padding-right:%204px;%20padding-bottom:%203px;%20overflow-x:%20hidden;%20overflow-y:%20hidden;%20white-space:%20nowrap;%20border-right-width:%201px;%20border-right-style:%20solid;%20border-right-color:%20rgb(233,%20233,%20233);%20border-bottom-width:%20initial;%20border-bottom-style:%20none;%20border-bottom-color:%20initial;%20width:%20130px;%20align-items:%20flex-start;%20background-color:%20rgb(250,%20250,%20250)%7D%0A.css-qy2zlt-Tabular%20%7Bposition:%20relative;%20height:%20100%25;%20width:%20509px%7D%0A.css-8wo6jo-UnpinnedTabularHeaders%20%7Boverflow-x:%20hidden;%20overflow-y:%20hidden;%20position:%20relative;%20width:%201411px;%20height:%2028px%7D%0A.css-5jzd07-TabularHeaderGroup%20%7Bposition:%20relative;%20width:%20360px%7D%0A.css-15z1ius%20%7Bcolor:%20rgba(0,%200,%200,%200.85);%20display:%20flex;%20box-sizing:%20border-box;%20-webkit-box-align:%20center;%20align-items:%20center;%20height:%2028px;%20position:%20absolute;%20top:%200px;%20left:%20240px;%20user-select:%20none;%20font-size:%2012px;%20line-height:%2022px;%20font-weight:%20600;%20border-bottom-width:%202px;%20border-bottom-style:%20solid;%20border-bottom-color:%20rgb(233,%20233,%20233);%20width:%20120px;%20border-right-width:%201px;%20border-right-style:%20solid;%20border-right-color:%20rgb(233,%20233,%20233)%7D%0A.css-1mzt9fm-TabularBody%20%7Bposition:%20relative;%20overflow-x:%20hidden;%20overflow-y:%20hidden;%20top:%200px;%20width:%20492px;%20height:%20224px%7D%0A.css-m1uh5c-PinnedTabularRows%20%7Bposition:%20absolute;%20height:%20224px;%20width:%20132px;%20overflow-x:%20hidden;%20overflow-y:%20hidden%7D%0A.css-pwna5l-PinnedTabularRows%20%7Bposition:%20absolute;%20overflow-x:%20hidden;%20overflow-y:%20hidden;%20top:%200px;%20width:%20130px%7D%0A.css-6k0m00%20%7Bheight:%20100%25;%20box-sizing:%20border-box;%20display:%20flex;%20-webkit-box-pack:%20end;%20justify-content:%20flex-end;%20flex-direction:%20column;%20padding-top:%204px;%20padding-left:%204px;%20padding-right:%204px;%20padding-bottom:%203px;%20overflow-x:%20hidden;%20overflow-y:%20hidden;%20white-space:%20nowrap;%20border-right-width:%201px;%20border-right-style:%20solid;%20border-right-color:%20rgb(233,%20233,%20233);%20border-bottom-width:%20initial;%20border-bottom-style:%20none;%20border-bottom-color:%20initial;%20width:%20130px;%20align-items:%20flex-start%7D%0A.css-1xcnxus%20%7Bheight:%20100%25;%20box-sizing:%20border-box;%20display:%20flex;%20-webkit-box-pack:%20end;%20justify-content:%20flex-end;%20flex-direction:%20column;%20padding-top:%204px;%20padding-left:%204px;%20padding-right:%204px;%20padding-bottom:%203px;%20overflow-x:%20hidden;%20overflow-y:%20hidden;%20white-space:%20nowrap;%20border-right-width:%201px;%20border-right-style:%20solid;%20border-right-color:%20rgb(233,%20233,%20233);%20border-bottom-width:%201px;%20border-bottom-style:%20solid;%20border-bottom-color:%20rgb(233,%20233,%20233);%20width:%20130px;%20align-items:%20flex-start%7D%0A.css-4obbkx-UnpinnedTabularRows%20%7Bposition:%20absolute;%20overflow-x:%20hidden;%20overflow-y:%20hidden;%20left:%20132px;%20height:%20224px;%20width:%20360px%7D%0A.css-13vtqji-TabularCell%20%7Bheight:%2028px;%20box-sizing:%20border-box;%20display:%20flex;%20-webkit-box-pack:%20end;%20justify-content:%20flex-end;%20flex-direction:%20column;%20padding-top:%204px;%20padding-left:%204px;%20padding-right:%204px;%20padding-bottom:%203px;%20overflow-x:%20hidden;%20overflow-y:%20hidden;%20white-space:%20nowrap;%20border-right-width:%201px;%20border-right-style:%20solid;%20border-right-color:%20rgb(233,%20233,%20233);%20border-bottom-width:%201px;%20border-bottom-style:%20solid;%20border-bottom-color:%20rgb(233,%20233,%20233);%20width:%20120px;%20cursor:%20cell;%20user-select:%20none;%20text-align:%20right;%20align-items:%20flex-end%7D%0A.ant-root%20html,%20.ant-root%20%7Bwidth:%20100%25;%20height:%20100%25%7D%0A.ant-root%20*,%20.ant-root%20::before,%20.ant-root%20::after%20%7Bbox-sizing:%20border-box%7D%0A.ant-root%20%7Bmargin-top:%200px;%20margin-right:%200px;%20margin-bottom:%200px;%20margin-left:%200px;%20color:%20rgba(0,%200,%200,%200.65);%20font-size:%2014px;%20font-family:%20-apple-system,%20BlinkMacSystemFont,%20%22Segoe%20UI%22,%20%22PingFang%20SC%22,%20%22Hiragino%20Sans%20GB%22,%20%22Microsoft%20YaHei%22,%20%22Helvetica%20Neue%22,%20Helvetica,%20Arial,%20sans-serif,%20%22Apple%20Color%20Emoji%22,%20%22Segoe%20UI%20Emoji%22,%20%22Segoe%20UI%20Symbol%22;%20font-variant-ligatures:%20normal;%20font-variant-numeric:%20tabular-nums;%20font-variant-east-asian:%20normal;%20font-variant-caps:%20normal;%20line-height:%201.5;%20background-color:%20rgb(255,%20255,%20255);%20font-feature-settings:%20%22tnum%22;%20--antd-wave-shadow-color:%20undefined%7D%0A.ant-root%20.ant-typography%20%7Bcolor:%20rgba(0,%200,%200,%200.65)%7D%0A.css-1sxolix-Widget%20%7Bheight:%20100%25%7D%0A.css-1sxolix-Widget%20.ant-root:not(.atoti-widget-chooser)%20%7Bbox-shadow:%20none%7D%3C/style%3E%0A%20%20%20%20%20%20%20%20%3Cdiv%20xmlns=%22http://www.w3.org/1999/xhtml%22%20style=%22height:%20326px;%20width:%201541px%22%3E%0A%20%20%20%20%20%20%20%20%20%20%3Cdiv%20xmlns=%22http://www.w3.org/1999/xhtml%22%20class=%22css-1sxolix-Widget%22%3E%3Cdiv%20class=%22ant-root%20css-xsa55j-dock%22%3E%3Cdiv%20class=%22css-1ibuxvk-DockBody%22%3E%3Cdiv%20class=%22SplitPane%20%20vertical%20disabled%22%20style=%22display:%20flex;%20flex:%201%201%200%25;%20height:%20100%25;%20position:%20relative;%20outline:%20none;%20overflow:%20hidden;%20user-select:%20text;%20flex-direction:%20row;%20left:%200px;%20right:%200px;%22%3E%3Cdiv%20class=%22Pane%20vertical%20Pane1%20%20%22%20style=%22flex:%201%201%200%25;%20position:%20relative;%20outline:%20none;%20display:%20flex;%20background-color:%20rgb(255,%20255,%20255);%22%3E%3Cdiv%20class=%22css-1lrljg1-EditorSplitPane%22%3E%3Cdiv%20class=%22css-15fz3t7-EditorSplitPane%22%3E%3Cdiv%20class=%22css-1k1fxuh-Tabular%22%3E%3Cdiv%20class=%22css-10klw3m%22%3E%3Cdiv%20tabindex=%220%22%20class=%22css-qy2zlt-Tabular%22%3E%3Cdiv%20class=%22css-192kvjv-Tabular%22%3E%3Cdiv%20class=%22css-mdjjdg-TabularHeader%22%3E%3Cdiv%20class=%22css-12nzxaz-PinnedTabularHeaders%22%3E%3Cdiv%20class=%22css-ggx54o-TabularHeaderGroup%22%3E%3Cdiv%20class=%22css-a6s0k4%22%3E%3Cdiv%20class=%22css-19w2ip5-TabularHeaderCell%22%3E%3Cspan%20class=%22css-jpazdc-TabularHeaderCell%22%3E%3Cspan%3E%3Cspan%3E%3Cspan%20class=%22css-y3oqqp%22%3EMeasures%3C/span%3E%3C/span%3E%3C/span%3E%3C/span%3E%3C/div%3E%3Cdiv%20class=%22css-c7y3a7-TabularHeaderCell%22%3E%3C/div%3E%3C/div%3E%3Cdiv%20class=%22css-i5xh85-HeaderResizer%22%3E%3C/div%3E%3Cdiv%20class=%22css-1akixhl-HeaderResizer%22%3E%3C/div%3E%3C/div%3E%3Cdiv%20class=%22css-s4fjko-TabularPinnSeparator%22%3E%3C/div%3E%3C/div%3E%3Cdiv%20class=%22css-8wo6jo-UnpinnedTabularHeaders%22%3E%3Cdiv%20class=%22css-5jtkjp-UnpinnedTabularHeaders%22%3E%3Cdiv%20class=%22css-5jzd07-TabularHeaderGroup%22%3E%3Cdiv%20class=%22css-1q63qjm%22%3E%3Cdiv%20class=%22css-19w2ip5-TabularHeaderCell%22%3E%3Cspan%20class=%22css-jpazdc-TabularHeaderCell%22%3E%3Cspan%3ETotal%3C/span%3E%3C/span%3E%3C/div%3E%3Cdiv%20class=%22css-c7y3a7-TabularHeaderCell%22%3E%3C/div%3E%3C/div%3E%3Cdiv%20class=%22css-w64vkb-HeaderResizer%22%3E%3C/div%3E%3Cdiv%20class=%22css-tlxtaa-HeaderResizer%22%3E%3C/div%3E%3Cdiv%20class=%22css-lp3bnm%22%3E%3Cdiv%20class=%22css-pm742e%22%3E%3C/div%3E%3Cdiv%20class=%22css-19w2ip5-TabularHeaderCell%22%3E%3Cspan%20class=%22css-jpazdc-TabularHeaderCell%22%3E%3Cspan%3EHappy%3C/span%3E%3C/span%3E%3C/div%3E%3Cdiv%20class=%22css-c7y3a7-TabularHeaderCell%22%3E%3C/div%3E%3C/div%3E%3Cdiv%20class=%22css-y4zo4n-HeaderResizer%22%3E%3C/div%3E%3Cdiv%20class=%22css-8latmz-HeaderResizer%22%3E%3C/div%3E%3Cdiv%20class=%22css-15z1ius%22%3E%3Cdiv%20class=%22css-pm742e%22%3E%3C/div%3E%3Cdiv%20class=%22css-19w2ip5-TabularHeaderCell%22%3E%3Cspan%20class=%22css-jpazdc-TabularHeaderCell%22%3E%3Cspan%3ESad%3C/span%3E%3C/span%3E%3C/div%3E%3Cdiv%20class=%22css-c7y3a7-TabularHeaderCell%22%3E%3C/div%3E%3C/div%3E%3Cdiv%20class=%22css-x77esk-HeaderResizer%22%3E%3C/div%3E%3Cdiv%20class=%22css-qpzagx-HeaderResizer%22%3E%3C/div%3E%3C/div%3E%3C/div%3E%3C/div%3E%3C/div%3E%3Cdiv%20class=%22css-1mzt9fm-TabularBody%22%3E%3Cdiv%20class=%22css-m1uh5c-PinnedTabularRows%22%3E%3Cdiv%20class=%22css-pwna5l-PinnedTabularRows%22%3E%3Cdiv%20class=%22css-3cge9w%22%3E%3Cdiv%3E%3Cdiv%20class=%22css-1dneml5%22%3E%3Cdiv%20class=%22css-9ssj44-TreeCell%22%3E%3Cdiv%20class=%22css-mkrhzq%22%3E%3Cdiv%20class=%22css-1i6gc04%22%3E%3C/div%3E%3Cspan%20class=%22ant-typography%20css-8uhtka%22%20style=%22font-size:%2012px;%20line-height:%2020px;%20font-weight:%20600;%20color:%20rgba(0,%200,%200,%200.85);%22%3E25%25%3C/span%3E%3C/div%3E%3C/div%3E%3C/div%3E%3C/div%3E%3C/div%3E%3Cdiv%20class=%22css-3cge9w%22%3E%3Cdiv%3E%3Cdiv%20class=%22css-6k0m00%22%3E%3Cdiv%20class=%22css-9ssj44-TreeCell%22%3E%3Cdiv%20class=%22css-mkrhzq%22%3E%3Cdiv%20class=%22css-1i6gc04%22%3E%3C/div%3E%3Cspan%20class=%22ant-typography%20css-8uhtka%22%20style=%22font-size:%2012px;%20line-height:%2020px;%20font-weight:%20600;%20color:%20rgba(0,%200,%200,%200.85);%22%3E50%25%3C/span%3E%3C/div%3E%3C/div%3E%3C/div%3E%3C/div%3E%3C/div%3E%3Cdiv%20class=%22css-3cge9w%22%3E%3Cdiv%3E%3Cdiv%20class=%22css-1dneml5%22%3E%3Cdiv%20class=%22css-9ssj44-TreeCell%22%3E%3Cdiv%20class=%22css-mkrhzq%22%3E%3Cdiv%20class=%22css-1i6gc04%22%3E%3C/div%3E%3Cspan%20class=%22ant-typography%20css-8uhtka%22%20style=%22font-size:%2012px;%20line-height:%2020px;%20font-weight:%20600;%20color:%20rgba(0,%200,%200,%200.85);%22%3E75%25%3C/span%3E%3C/div%3E%3C/div%3E%3C/div%3E%3C/div%3E%3C/div%3E%3Cdiv%20class=%22css-3cge9w%22%3E%3Cdiv%3E%3Cdiv%20class=%22css-6k0m00%22%3E%3Cdiv%20class=%22css-9ssj44-TreeCell%22%3E%3Cdiv%20class=%22css-mkrhzq%22%3E%3Cdiv%20class=%22css-1i6gc04%22%3E%3C/div%3E%3Cspan%20class=%22ant-typography%20css-8uhtka%22%20style=%22font-size:%2012px;%20line-height:%2020px;%20font-weight:%20600;%20color:%20rgba(0,%200,%200,%200.85);%22%3EMax%3C/span%3E%3C/div%3E%3C/div%3E%3C/div%3E%3C/div%3E%3C/div%3E%3Cdiv%20class=%22css-3cge9w%22%3E%3Cdiv%3E%3Cdiv%20class=%22css-1dneml5%22%3E%3Cdiv%20class=%22css-9ssj44-TreeCell%22%3E%3Cdiv%20class=%22css-mkrhzq%22%3E%3Cdiv%20class=%22css-1i6gc04%22%3E%3C/div%3E%3Cspan%20class=%22ant-typography%20css-8uhtka%22%20style=%22font-size:%2012px;%20line-height:%2020px;%20font-weight:%20600;%20color:%20rgba(0,%200,%200,%200.85);%22%3EMean%3C/span%3E%3C/div%3E%3C/div%3E%3C/div%3E%3C/div%3E%3C/div%3E%3Cdiv%20class=%22css-3cge9w%22%3E%3Cdiv%3E%3Cdiv%20class=%22css-6k0m00%22%3E%3Cdiv%20class=%22css-9ssj44-TreeCell%22%3E%3Cdiv%20class=%22css-mkrhzq%22%3E%3Cdiv%20class=%22css-1i6gc04%22%3E%3C/div%3E%3Cspan%20class=%22ant-typography%20css-8uhtka%22%20style=%22font-size:%2012px;%20line-height:%2020px;%20font-weight:%20600;%20color:%20rgba(0,%200,%200,%200.85);%22%3EMin%3C/span%3E%3C/div%3E%3C/div%3E%3C/div%3E%3C/div%3E%3C/div%3E%3Cdiv%20class=%22css-3cge9w%22%3E%3Cdiv%3E%3Cdiv%20class=%22css-1dneml5%22%3E%3Cdiv%20class=%22css-9ssj44-TreeCell%22%3E%3Cdiv%20class=%22css-mkrhzq%22%3E%3Cdiv%20class=%22css-1i6gc04%22%3E%3C/div%3E%3Cspan%20class=%22ant-typography%20css-8uhtka%22%20style=%22font-size:%2012px;%20line-height:%2020px;%20font-weight:%20600;%20color:%20rgba(0,%200,%200,%200.85);%22%3EStd%3C/span%3E%3C/div%3E%3C/div%3E%3C/div%3E%3C/div%3E%3C/div%3E%3Cdiv%20class=%22css-3cge9w%22%3E%3Cdiv%3E%3Cdiv%20class=%22css-1xcnxus%22%3E%3Cdiv%20class=%22css-9ssj44-TreeCell%22%3E%3Cdiv%20class=%22css-mkrhzq%22%3E%3Cdiv%20class=%22css-1i6gc04%22%3E%3C/div%3E%3Cspan%20class=%22ant-typography%20css-8uhtka%22%20style=%22font-size:%2012px;%20line-height:%2020px;%20font-weight:%20600;%20color:%20rgba(0,%200,%200,%200.85);%22%3ECount%3C/span%3E%3C/div%3E%3C/div%3E%3C/div%3E%3C/div%3E%3C/div%3E%3C/div%3E%3Cdiv%20class=%22css-8r2ljj-PinnedTabularRows%22%3E%3Cdiv%20class=%22css-ysfs2f-PinnedTabularRows%22%3E%3C/div%3E%3C/div%3E%3C/div%3E%3Cdiv%20class=%22css-4obbkx-UnpinnedTabularRows%22%3E%3Cdiv%20class=%22css-1id6sm3-UnpinnedTabularRows%22%3E%3Cdiv%20class=%22css-3cge9w%22%3E%3Cdiv%3E%3Cdiv%20class=%22%20css-1hcmypl-TabularCell%22%3E%3Cspan%20class=%22css-mkoicc-CaptionCellRenderer%22%3E%3Cspan%3E%3Cspan%20class=%22ant-typography%22%20style=%22font-size:%2012px;%20line-height:%2020px;%20font-weight:%20400;%22%3E46.88%3C/span%3E%3C/span%3E%3C/span%3E%3C/div%3E%3C/div%3E%3Cdiv%3E%3Cdiv%20class=%22%20css-1hcmypl-TabularCell%22%3E%3Cspan%20class=%22css-mkoicc-CaptionCellRenderer%22%3E%3Cspan%3E%3Cspan%20class=%22ant-typography%22%20style=%22font-size:%2012px;%20line-height:%2020px;%20font-weight:%20400;%22%3E46.85%3C/span%3E%3C/span%3E%3C/span%3E%3C/div%3E%3C/div%3E%3Cdiv%3E%3Cdiv%20class=%22%20css-1hcmypl-TabularCell%22%3E%3Cspan%20class=%22css-mkoicc-CaptionCellRenderer%22%3E%3Cspan%3E%3Cspan%20class=%22ant-typography%22%20style=%22font-size:%2012px;%20line-height:%2020px;%20font-weight:%20400;%22%3E46.90%3C/span%3E%3C/span%3E%3C/span%3E%3C/div%3E%3C/div%3E%3C/div%3E%3Cdiv%20class=%22css-3cge9w%22%3E%3Cdiv%3E%3Cdiv%20class=%22%20css-qazlap-TabularCell%22%3E%3Cspan%20class=%22css-mkoicc-CaptionCellRenderer%22%3E%3Cspan%3E%3Cspan%20class=%22ant-typography%22%20style=%22font-size:%2012px;%20line-height:%2020px;%20font-weight:%20400;%22%3E55.95%3C/span%3E%3C/span%3E%3C/span%3E%3C/div%3E%3C/div%3E%3Cdiv%3E%3Cdiv%20class=%22%20css-qazlap-TabularCell%22%3E%3Cspan%20class=%22css-mkoicc-CaptionCellRenderer%22%3E%3Cspan%3E%3Cspan%20class=%22ant-typography%22%20style=%22font-size:%2012px;%20line-height:%2020px;%20font-weight:%20400;%22%3E56.25%3C/span%3E%3C/span%3E%3C/span%3E%3C/div%3E%3C/div%3E%3Cdiv%3E%3Cdiv%20class=%22%20css-qazlap-TabularCell%22%3E%3Cspan%20class=%22css-mkoicc-CaptionCellRenderer%22%3E%3Cspan%3E%3Cspan%20class=%22ant-typography%22%20style=%22font-size:%2012px;%20line-height:%2020px;%20font-weight:%20400;%22%3E55.15%3C/span%3E%3C/span%3E%3C/span%3E%3C/div%3E%3C/div%3E%3C/div%3E%3Cdiv%20class=%22css-3cge9w%22%3E%3Cdiv%3E%3Cdiv%20class=%22%20css-1hcmypl-TabularCell%22%3E%3Cspan%20class=%22css-mkoicc-CaptionCellRenderer%22%3E%3Cspan%3E%3Cspan%20class=%22ant-typography%22%20style=%22font-size:%2012px;%20line-height:%2020px;%20font-weight:%20400;%22%3E71.00%3C/span%3E%3C/span%3E%3C/span%3E%3C/div%3E%3C/div%3E%3Cdiv%3E%3Cdiv%20class=%22%20css-1hcmypl-TabularCell%22%3E%3Cspan%20class=%22css-mkoicc-CaptionCellRenderer%22%3E%3Cspan%3E%3Cspan%20class=%22ant-typography%22%20style=%22font-size:%2012px;%20line-height:%2020px;%20font-weight:%20400;%22%3E69.20%3C/span%3E%3C/span%3E%3C/span%3E%3C/div%3E%3C/div%3E%3Cdiv%3E%3Cdiv%20class=%22%20css-1hcmypl-TabularCell%22%3E%3Cspan%20class=%22css-mkoicc-CaptionCellRenderer%22%3E%3Cspan%3E%3Cspan%20class=%22ant-typography%22%20style=%22font-size:%2012px;%20line-height:%2020px;%20font-weight:%20400;%22%3E72.40%3C/span%3E%3C/span%3E%3C/span%3E%3C/div%3E%3C/div%3E%3C/div%3E%3Cdiv%20class=%22css-3cge9w%22%3E%3Cdiv%3E%3Cdiv%20class=%22%20css-qazlap-TabularCell%22%3E%3Cspan%20class=%22css-mkoicc-CaptionCellRenderer%22%3E%3Cspan%3E%3Cspan%20class=%22ant-typography%22%20style=%22font-size:%2012px;%20line-height:%2020px;%20font-weight:%20400;%22%3E120.00%3C/span%3E%3C/span%3E%3C/span%3E%3C/div%3E%3C/div%3E%3Cdiv%3E%3Cdiv%20class=%22%20css-qazlap-TabularCell%22%3E%3Cspan%20class=%22css-mkoicc-CaptionCellRenderer%22%3E%3Cspan%3E%3Cspan%20class=%22ant-typography%22%20style=%22font-size:%2012px;%20line-height:%2020px;%20font-weight:%20400;%22%3E114.00%3C/span%3E%3C/span%3E%3C/span%3E%3C/div%3E%3C/div%3E%3Cdiv%3E%3Cdiv%20class=%22%20css-qazlap-TabularCell%22%3E%3Cspan%20class=%22css-mkoicc-CaptionCellRenderer%22%3E%3Cspan%3E%3Cspan%20class=%22ant-typography%22%20style=%22font-size:%2012px;%20line-height:%2020px;%20font-weight:%20400;%22%3E120.00%3C/span%3E%3C/span%3E%3C/span%3E%3C/div%3E%3C/div%3E%3C/div%3E%3Cdiv%20class=%22css-3cge9w%22%3E%3Cdiv%3E%3Cdiv%20class=%22%20css-1hcmypl-TabularCell%22%3E%3Cspan%20class=%22css-mkoicc-CaptionCellRenderer%22%3E%3Cspan%3E%3Cspan%20class=%22ant-typography%22%20style=%22font-size:%2012px;%20line-height:%2020px;%20font-weight:%20400;%22%3E59.44%3C/span%3E%3C/span%3E%3C/span%3E%3C/div%3E%3C/div%3E%3Cdiv%3E%3Cdiv%20class=%22%20css-1hcmypl-TabularCell%22%3E%3Cspan%20class=%22css-mkoicc-CaptionCellRenderer%22%3E%3Cspan%3E%3Cspan%20class=%22ant-typography%22%20style=%22font-size:%2012px;%20line-height:%2020px;%20font-weight:%20400;%22%3E59.21%3C/span%3E%3C/span%3E%3C/span%3E%3C/div%3E%3C/div%3E%3Cdiv%3E%3Cdiv%20class=%22%20css-1hcmypl-TabularCell%22%3E%3Cspan%20class=%22css-mkoicc-CaptionCellRenderer%22%3E%3Cspan%3E%3Cspan%20class=%22ant-typography%22%20style=%22font-size:%2012px;%20line-height:%2020px;%20font-weight:%20400;%22%3E59.68%3C/span%3E%3C/span%3E%3C/span%3E%3C/div%3E%3C/div%3E%3C/div%3E%3Cdiv%20class=%22css-3cge9w%22%3E%3Cdiv%3E%3Cdiv%20class=%22%20css-qazlap-TabularCell%22%3E%3Cspan%20class=%22css-mkoicc-CaptionCellRenderer%22%3E%3Cspan%3E%3Cspan%20class=%22ant-typography%22%20style=%22font-size:%2012px;%20line-height:%2020px;%20font-weight:%20400;%22%3E27.10%3C/span%3E%3C/span%3E%3C/span%3E%3C/div%3E%3C/div%3E%3Cdiv%3E%3Cdiv%20class=%22%20css-qazlap-TabularCell%22%3E%3Cspan%20class=%22css-mkoicc-CaptionCellRenderer%22%3E%3Cspan%3E%3Cspan%20class=%22ant-typography%22%20style=%22font-size:%2012px;%20line-height:%2020px;%20font-weight:%20400;%22%3E27.10%3C/span%3E%3C/span%3E%3C/span%3E%3C/div%3E%3C/div%3E%3Cdiv%3E%3Cdiv%20class=%22%20css-qazlap-TabularCell%22%3E%3Cspan%20class=%22css-mkoicc-CaptionCellRenderer%22%3E%3Cspan%3E%3Cspan%20class=%22ant-typography%22%20style=%22font-size:%2012px;%20line-height:%2020px;%20font-weight:%20400;%22%3E28.30%3C/span%3E%3C/span%3E%3C/span%3E%3C/div%3E%3C/div%3E%3C/div%3E%3Cdiv%20class=%22css-3cge9w%22%3E%3Cdiv%3E%3Cdiv%20class=%22%20css-1hcmypl-TabularCell%22%3E%3Cspan%20class=%22css-mkoicc-CaptionCellRenderer%22%3E%3Cspan%3E%3Cspan%20class=%22ant-typography%22%20style=%22font-size:%2012px;%20line-height:%2020px;%20font-weight:%20400;%22%3E17.03%3C/span%3E%3C/span%3E%3C/span%3E%3C/div%3E%3C/div%3E%3Cdiv%3E%3Cdiv%20class=%22%20css-1hcmypl-TabularCell%22%3E%3Cspan%20class=%22css-mkoicc-CaptionCellRenderer%22%3E%3Cspan%3E%3Cspan%20class=%22ant-typography%22%20style=%22font-size:%2012px;%20line-height:%2020px;%20font-weight:%20400;%22%3E16.97%3C/span%3E%3C/span%3E%3C/span%3E%3C/div%3E%3C/div%3E%3Cdiv%3E%3Cdiv%20class=%22%20css-1hcmypl-TabularCell%22%3E%3Cspan%20class=%22css-mkoicc-CaptionCellRenderer%22%3E%3Cspan%3E%3Cspan%20class=%22ant-typography%22%20style=%22font-size:%2012px;%20line-height:%2020px;%20font-weight:%20400;%22%3E17.14%3C/span%3E%3C/span%3E%3C/span%3E%3C/div%3E%3C/div%3E%3C/div%3E%3Cdiv%20class=%22css-3cge9w%22%3E%3Cdiv%3E%3Cdiv%20class=%22%20css-13vtqji-TabularCell%22%3E%3Cspan%20class=%22css-mkoicc-CaptionCellRenderer%22%3E%3Cspan%3E%3Cspan%20class=%22ant-typography%22%20style=%22font-size:%2012px;%20line-height:%2020px;%20font-weight:%20400;%22%3E396%3C/span%3E%3C/span%3E%3C/span%3E%3C/div%3E%3C/div%3E%3Cdiv%3E%3Cdiv%20class=%22%20css-13vtqji-TabularCell%22%3E%3Cspan%20class=%22css-mkoicc-CaptionCellRenderer%22%3E%3Cspan%3E%3Cspan%20class=%22ant-typography%22%20style=%22font-size:%2012px;%20line-height:%2020px;%20font-weight:%20400;%22%3E198%3C/span%3E%3C/span%3E%3C/span%3E%3C/div%3E%3C/div%3E%3Cdiv%3E%3Cdiv%20class=%22%20css-13vtqji-TabularCell%22%3E%3Cspan%20class=%22css-mkoicc-CaptionCellRenderer%22%3E%3Cspan%3E%3Cspan%20class=%22ant-typography%22%20style=%22font-size:%2012px;%20line-height:%2020px;%20font-weight:%20400;%22%3E198%3C/span%3E%3C/span%3E%3C/span%3E%3C/div%3E%3C/div%3E%3C/div%3E%3C/div%3E%3C/div%3E%3C/div%3E%3C/div%3E%3Cdiv%20class=%22css-t881dv-SelectionStatistics%22%3E%3C/div%3E%3C/div%3E%3C/div%3E%3C/div%3E%3C/div%3E%3C/div%3E%3C/div%3E%3Cspan%20role=%22presentation%22%20class=%22css-14zuz97%20Resizer%20vertical%20disabled%22%3E%3C/span%3E%3Cdiv%20class=%22Pane%20vertical%20Pane2%20%20%22%20style=%22flex:%200%200%20auto;%20position:%20relative;%20outline:%20none;%20width:%200px;%20display:%20flex;%20background-color:%20rgb(255,%20255,%20255);%20overflow:%20auto;%22%3E%3Cdiv%20class=%22css-1ouk3zc-EditorSplitPane%22%3E%3Cdiv%20class=%22css-1jjvrwi-EditorSplitPane%22%3E%3C/div%3E%3C/div%3E%3C/div%3E%3C/div%3E%3C/div%3E%3C/div%3E%3C/div%3E%0A%20%20%20%20%20%20%20%20%3C/div%3E%0A%20%20%20%20%20%20%3C/foreignObject%3E%0A%20%20%20%20%3C/svg%3E\">"
      ],
      "text/plain": [
       "Open the notebook in JupyterLab with the atoti extension installed and enabled to see this widget."
      ]
     },
     "metadata": {},
     "output_type": "display_data"
    }
   ],
   "source": [
    "cube.visualize(\"Basic statistics slice-and-dice\")"
   ]
  },
  {
   "cell_type": "markdown",
   "metadata": {},
   "source": [
    "Let's also set up measures to interactively evaluate left and right boundaries of the 95% [confidence interval](https://en.wikipedia.org/wiki/Confidence_interval).\n",
    "\n",
    "In this case we are creating a measure on top of the existing measures - \"Mean\" and \"Std\" - that we have just defined above."
   ]
  },
  {
   "cell_type": "code",
   "execution_count": 16,
   "metadata": {},
   "outputs": [],
   "source": [
    "alpha = 0.05\n",
    "\n",
    "m[\"95% point\"] = norm.ppf(1 - alpha / 2.0)\n",
    "m[\"Z confidence left\"] = m[\"Mean\"] - m[\"95% point\"] * m[\"Std\"]\n",
    "m[\"Z confidence right\"] = m[\"Mean\"] + m[\"95% point\"] * m[\"Std\"]"
   ]
  },
  {
   "cell_type": "markdown",
   "metadata": {},
   "source": [
    "We have just created the metrics to visualize confidence intervals interactively. The \"After\" intervals are wider and include the \"Before\" intervals, so it's difficult to say if the treatment has increased the memory scores. Let's run a statistical test to check that - in the next section."
   ]
  },
  {
   "cell_type": "code",
   "execution_count": 17,
   "metadata": {
    "atoti": {
     "height": 254,
     "state": {
      "name": "Interactive confidence intervals",
      "type": "container",
      "value": {
       "body": {
        "configuration": {
         "tabular": {
          "addButtonFilter": "numeric",
          "cellRenderers": [
           "tree-layout"
          ],
          "columns": [
           {
            "key": "c-treeCells-member",
            "width": 170
           }
          ],
          "columnsGroups": [
           {
            "captionProducer": "firstColumn",
            "cellFactory": "kpi-status",
            "selector": "kpi-status"
           },
           {
            "captionProducer": "firstColumn",
            "cellFactory": "lookup",
            "selector": "lookup"
           },
           {
            "captionProducer": "expiry",
            "cellFactory": "expiry",
            "selector": "kpi-expiry"
           },
           {
            "captionProducer": "columnMerge",
            "cellFactory": {
             "args": {},
             "key": "treeCells"
            },
            "selector": "member"
           }
          ],
          "defaultOptions": {
           "headerHeight": 51
          },
          "expansion": {
           "automaticExpansion": true
          },
          "hideAddButton": true,
          "pinnedHeaderSelector": "member",
          "sortingMode": "non-breaking",
          "statisticsShown": true
         }
        },
        "contextValues": {},
        "mdx": "SELECT NON EMPTY Crossjoin(Hierarchize([Hierarchies].[Before or After].[Before or After].Members), {[Measures].[Z confidence left], [Measures].[Z confidence right], [Measures].[Mean], [Measures].[50%]}) ON COLUMNS, NON EMPTY Hierarchize(DrilldownLevel([Hierarchies].[Happy_Sad_group].[ALL].[AllMember])) ON ROWS FROM [Observations] CELL PROPERTIES VALUE, FORMATTED_VALUE, BACK_COLOR, FORE_COLOR, FONT_FLAGS",
        "ranges": {
         "column": {
          "chunkSize": 50,
          "thresholdPercentage": 0.2
         },
         "row": {
          "chunkSize": 2000,
          "thresholdPercentage": 0.1
         }
        },
        "serverUrl": "",
        "updateMode": "once"
       },
       "containerKey": "pivot-table",
       "showTitleBar": false,
       "style": {}
      }
     }
    }
   },
   "outputs": [
    {
     "data": {
      "application/vnd.atoti.v0+json": {
       "cellSet": {
        "axes": [
         {
          "hierarchies": [
           {
            "dimension": "Hierarchies",
            "hierarchy": "Before or After"
           },
           {
            "dimension": "Measures",
            "hierarchy": "Measures"
           }
          ],
          "id": 0,
          "positions": [
           [
            {
             "captionPath": [
              "AllMember",
              "Before"
             ],
             "namePath": [
              "AllMember",
              "Before"
             ],
             "properties": {
              "DISPLAY_INFO": 0
             }
            },
            {
             "captionPath": [
              "Z confidence left"
             ],
             "namePath": [
              "Z confidence left"
             ],
             "properties": {
              "DISPLAY_INFO": 0
             }
            }
           ],
           [
            {
             "captionPath": [
              "AllMember",
              "Before"
             ],
             "namePath": [
              "AllMember",
              "Before"
             ],
             "properties": {
              "DISPLAY_INFO": 131072
             }
            },
            {
             "captionPath": [
              "Z confidence right"
             ],
             "namePath": [
              "Z confidence right"
             ],
             "properties": {
              "DISPLAY_INFO": 0
             }
            }
           ],
           [
            {
             "captionPath": [
              "AllMember",
              "Before"
             ],
             "namePath": [
              "AllMember",
              "Before"
             ],
             "properties": {
              "DISPLAY_INFO": 131072
             }
            },
            {
             "captionPath": [
              "Mean"
             ],
             "namePath": [
              "Mean"
             ],
             "properties": {
              "DISPLAY_INFO": 0
             }
            }
           ],
           [
            {
             "captionPath": [
              "AllMember",
              "Before"
             ],
             "namePath": [
              "AllMember",
              "Before"
             ],
             "properties": {
              "DISPLAY_INFO": 131072
             }
            },
            {
             "captionPath": [
              "50%"
             ],
             "namePath": [
              "50%"
             ],
             "properties": {
              "DISPLAY_INFO": 0
             }
            }
           ],
           [
            {
             "captionPath": [
              "AllMember",
              "After"
             ],
             "namePath": [
              "AllMember",
              "After"
             ],
             "properties": {
              "DISPLAY_INFO": 131072
             }
            },
            {
             "captionPath": [
              "Z confidence left"
             ],
             "namePath": [
              "Z confidence left"
             ],
             "properties": {
              "DISPLAY_INFO": 0
             }
            }
           ],
           [
            {
             "captionPath": [
              "AllMember",
              "After"
             ],
             "namePath": [
              "AllMember",
              "After"
             ],
             "properties": {
              "DISPLAY_INFO": 131072
             }
            },
            {
             "captionPath": [
              "Z confidence right"
             ],
             "namePath": [
              "Z confidence right"
             ],
             "properties": {
              "DISPLAY_INFO": 0
             }
            }
           ],
           [
            {
             "captionPath": [
              "AllMember",
              "After"
             ],
             "namePath": [
              "AllMember",
              "After"
             ],
             "properties": {
              "DISPLAY_INFO": 131072
             }
            },
            {
             "captionPath": [
              "Mean"
             ],
             "namePath": [
              "Mean"
             ],
             "properties": {
              "DISPLAY_INFO": 0
             }
            }
           ],
           [
            {
             "captionPath": [
              "AllMember",
              "After"
             ],
             "namePath": [
              "AllMember",
              "After"
             ],
             "properties": {
              "DISPLAY_INFO": 131072
             }
            },
            {
             "captionPath": [
              "50%"
             ],
             "namePath": [
              "50%"
             ],
             "properties": {
              "DISPLAY_INFO": 0
             }
            }
           ]
          ]
         },
         {
          "hierarchies": [
           {
            "dimension": "Hierarchies",
            "hierarchy": "Happy_Sad_group"
           }
          ],
          "id": 1,
          "positions": [
           [
            {
             "captionPath": [
              "AllMember"
             ],
             "namePath": [
              "AllMember"
             ],
             "properties": {
              "DISPLAY_INFO": 65538
             }
            }
           ],
           [
            {
             "captionPath": [
              "AllMember",
              "Happy"
             ],
             "namePath": [
              "AllMember",
              "Happy"
             ],
             "properties": {
              "DISPLAY_INFO": 0
             }
            }
           ],
           [
            {
             "captionPath": [
              "AllMember",
              "Sad"
             ],
             "namePath": [
              "AllMember",
              "Sad"
             ],
             "properties": {
              "DISPLAY_INFO": 131072
             }
            }
           ]
          ]
         }
        ],
        "cells": [
         {
          "formattedValue": "27.07",
          "ordinal": 0,
          "properties": {
           "BACK_COLOR": null,
           "FONT_FLAGS": 0,
           "FORE_COLOR": null
          },
          "value": 27.066871272588088
         },
         {
          "formattedValue": "88.87",
          "ordinal": 1,
          "properties": {
           "BACK_COLOR": null,
           "FONT_FLAGS": 0,
           "FORE_COLOR": null
          },
          "value": 88.86848226276547
         },
         {
          "formattedValue": "57.97",
          "ordinal": 2,
          "properties": {
           "BACK_COLOR": null,
           "FONT_FLAGS": 0,
           "FORE_COLOR": null
          },
          "value": 57.96767676767678
         },
         {
          "formattedValue": "54.80",
          "ordinal": 3,
          "properties": {
           "BACK_COLOR": null,
           "FONT_FLAGS": 0,
           "FORE_COLOR": null
          },
          "value": 54.8
         },
         {
          "formattedValue": "25.38",
          "ordinal": 4,
          "properties": {
           "BACK_COLOR": null,
           "FONT_FLAGS": 0,
           "FORE_COLOR": null
          },
          "value": 25.380526960571153
         },
         {
          "formattedValue": "96.46",
          "ordinal": 5,
          "properties": {
           "BACK_COLOR": null,
           "FONT_FLAGS": 0,
           "FORE_COLOR": null
          },
          "value": 96.46391748387327
         },
         {
          "formattedValue": "60.92",
          "ordinal": 6,
          "properties": {
           "BACK_COLOR": null,
           "FONT_FLAGS": 0,
           "FORE_COLOR": null
          },
          "value": 60.92222222222222
         },
         {
          "formattedValue": "56.75",
          "ordinal": 7,
          "properties": {
           "BACK_COLOR": null,
           "FONT_FLAGS": 0,
           "FORE_COLOR": null
          },
          "value": 56.75
         },
         {
          "formattedValue": "25.93",
          "ordinal": 8,
          "properties": {
           "BACK_COLOR": null,
           "FONT_FLAGS": 0,
           "FORE_COLOR": null
          },
          "value": 25.93456956822433
         },
         {
          "formattedValue": "89.75",
          "ordinal": 9,
          "properties": {
           "BACK_COLOR": null,
           "FONT_FLAGS": 0,
           "FORE_COLOR": null
          },
          "value": 89.75229911864436
         },
         {
          "formattedValue": "57.84",
          "ordinal": 10,
          "properties": {
           "BACK_COLOR": null,
           "FONT_FLAGS": 0,
           "FORE_COLOR": null
          },
          "value": 57.843434343434346
         },
         {
          "formattedValue": "55.20",
          "ordinal": 11,
          "properties": {
           "BACK_COLOR": null,
           "FONT_FLAGS": 0,
           "FORE_COLOR": null
          },
          "value": 55.2
         },
         {
          "formattedValue": "26.08",
          "ordinal": 12,
          "properties": {
           "BACK_COLOR": null,
           "FONT_FLAGS": 0,
           "FORE_COLOR": null
          },
          "value": 26.078608210078485
         },
         {
          "formattedValue": "95.07",
          "ordinal": 13,
          "properties": {
           "BACK_COLOR": null,
           "FONT_FLAGS": 0,
           "FORE_COLOR": null
          },
          "value": 95.07492714345688
         },
         {
          "formattedValue": "60.58",
          "ordinal": 14,
          "properties": {
           "BACK_COLOR": null,
           "FONT_FLAGS": 0,
           "FORE_COLOR": null
          },
          "value": 60.57676767676768
         },
         {
          "formattedValue": "56.80",
          "ordinal": 15,
          "properties": {
           "BACK_COLOR": null,
           "FONT_FLAGS": 0,
           "FORE_COLOR": null
          },
          "value": 56.8
         },
         {
          "formattedValue": "28.07",
          "ordinal": 16,
          "properties": {
           "BACK_COLOR": null,
           "FONT_FLAGS": 0,
           "FORE_COLOR": null
          },
          "value": 28.07246597668216
         },
         {
          "formattedValue": "88.11",
          "ordinal": 17,
          "properties": {
           "BACK_COLOR": null,
           "FONT_FLAGS": 0,
           "FORE_COLOR": null
          },
          "value": 88.11137240715624
         },
         {
          "formattedValue": "58.09",
          "ordinal": 18,
          "properties": {
           "BACK_COLOR": null,
           "FONT_FLAGS": 0,
           "FORE_COLOR": null
          },
          "value": 58.091919191919196
         },
         {
          "formattedValue": "54.60",
          "ordinal": 19,
          "properties": {
           "BACK_COLOR": null,
           "FONT_FLAGS": 0,
           "FORE_COLOR": null
          },
          "value": 54.6
         },
         {
          "formattedValue": "24.55",
          "ordinal": 20,
          "properties": {
           "BACK_COLOR": null,
           "FONT_FLAGS": 0,
           "FORE_COLOR": null
          },
          "value": 24.548950065345736
         },
         {
          "formattedValue": "97.99",
          "ordinal": 21,
          "properties": {
           "BACK_COLOR": null,
           "FONT_FLAGS": 0,
           "FORE_COLOR": null
          },
          "value": 97.98640347000776
         },
         {
          "formattedValue": "61.27",
          "ordinal": 22,
          "properties": {
           "BACK_COLOR": null,
           "FONT_FLAGS": 0,
           "FORE_COLOR": null
          },
          "value": 61.26767676767675
         },
         {
          "formattedValue": "56.60",
          "ordinal": 23,
          "properties": {
           "BACK_COLOR": null,
           "FONT_FLAGS": 0,
           "FORE_COLOR": null
          },
          "value": 56.6
         }
        ],
        "cube": "Observations",
        "defaultMembers": [
         {
          "captionPath": [
           "Count"
          ],
          "dimension": "Measures",
          "hierarchy": "Measures",
          "path": [
           "contributors.COUNT"
          ]
         },
         {
          "captionPath": [
           "Base"
          ],
          "dimension": "Epoch",
          "hierarchy": "Epoch",
          "path": [
           "Base"
          ]
         }
        ],
        "epoch": 2
       },
       "cube": "Observations",
       "error": null,
       "name": "Interactive confidence intervals",
       "session": "Unnamed"
      },
      "text/html": [
       "<img src=\"data:image/svg+xml;charset=utf8,%3C?xml%20version=%221.0%22%20standalone=%22no%22?%3E%0A%20%20%20%20%3Csvg%20xmlns=%22http://www.w3.org/2000/svg%22%20width=%221541%22%20height=%22254%22%3E%0A%20%20%20%20%20%20%3CforeignObject%20x=%220%22%20y=%220%22%20width=%22100%25%22%20height=%22100%25%22%3E%0A%20%20%20%20%20%20%20%20%3Cstyle%20type=%22text/css%22%3E.css-xsa55j-dock%20%7Bposition:%20relative;%20z-index:%200;%20height:%20100%25;%20background-color:%20rgb(255,%20255,%20255);%20display:%20flex;%20flex-direction:%20column%7D%0A.css-1ibuxvk-DockBody%20%7Bpadding-top:%200px;%20padding-left:%200px;%20padding-right:%200px;%20padding-bottom:%200px;%20flex-grow:%201;%20flex-shrink:%201;%20flex-basis:%200%25;%20box-sizing:%20border-box;%20position:%20relative;%20z-index:%200;%20overflow-x:%20hidden;%20overflow-y:%20hidden%7D%0A.css-14zuz97%20%7Bbackground-image:%20initial;%20background-position-x:%20initial;%20background-position-y:%20initial;%20background-size:%20initial;%20background-repeat-x:%20initial;%20background-repeat-y:%20initial;%20background-attachment:%20initial;%20background-origin:%20initial;%20background-color:%20rgba(0,%200,%200,%200.2);%20z-index:%201;%20box-sizing:%20border-box;%20background-clip:%20padding-box%7D%0A.css-14zuz97.vertical%20%7Bwidth:%2012px;%20margin-top:%200px;%20margin-right:%20-6px;%20margin-bottom:%200px;%20margin-left:%20-6px;%20border-left-width:%205.5px;%20border-left-style:%20solid;%20border-left-color:%20transparent;%20border-right-width:%205.5px;%20border-right-style:%20solid;%20border-right-color:%20transparent;%20cursor:%20col-resize%7D%0A.css-14zuz97.disabled%20%7Bdisplay:%20none%7D%0A.css-1lrljg1-EditorSplitPane%20%7Bbackground-color:%20rgb(255,%20255,%20255);%20flex-grow:%201;%20flex-shrink:%201;%20flex-basis:%200%25;%20margin-right:%200px;%20position:%20relative%7D%0A.css-15fz3t7-EditorSplitPane%20%7Bposition:%20absolute;%20top:%200px;%20bottom:%200px;%20left:%200px;%20right:%200px;%20display:%20flex;%20flex-direction:%20column%7D%0A.css-1ouk3zc-EditorSplitPane%20%7Bbackground-color:%20rgb(255,%20255,%20255);%20flex-grow:%201;%20flex-shrink:%201;%20flex-basis:%200%25%7D%0A.css-1jjvrwi-EditorSplitPane%20%7Bposition:%20absolute;%20top:%200px;%20bottom:%200px;%20left:%200px;%20right:%200px;%20overflow-y:%20auto%7D%0A.css-1k1fxuh-Tabular%20%7Bwidth:%20100%25;%20height:%20100%25;%20position:%20relative%7D%0A.css-10klw3m%20%7Bheight:%20100%25%7D%0A.css-mdjjdg-TabularHeader%20%7Bdisplay:%20flex%7D%0A.css-12nzxaz-PinnedTabularHeaders%20%7Bflex-shrink:%200;%20display:%20flex%7D%0A.css-5jtkjp-UnpinnedTabularHeaders%20%7Bdisplay:%20flex;%20position:%20absolute;%20left:%200px%7D%0A.css-jpazdc-TabularHeaderCell%20%7Boverflow-x:%20hidden;%20overflow-y:%20hidden;%20text-overflow:%20ellipsis%7D%0A.css-y3oqqp%20%7Bfont-size:%2012px;%20line-height:%2022px;%20font-weight:%20600;%20color:%20rgba(0,%200,%200,%200.85)%7D%0A.css-c7y3a7-TabularHeaderCell%20%7Bflex-shrink:%200;%20height:%20100%25;%20display:%20flex;%20-webkit-box-pack:%20center;%20justify-content:%20center%7D%0A.css-1id6sm3-UnpinnedTabularRows%20%7Bposition:%20absolute;%20top:%200px;%20left:%200px%7D%0A.css-3cge9w%20%7Bcursor:%20cell;%20display:%20flex;%20height:%2028px;%20user-select:%20none%7D%0A.css-9ssj44-TreeCell%20%7Bwidth:%20min-content%7D%0A.css-mkrhzq%20%7Bdisplay:%20flex;%20margin-left:%200px%7D%0A.css-8uhtka%20%7Boverflow-x:%20hidden;%20overflow-y:%20hidden;%20text-overflow:%20ellipsis;%20white-space:%20nowrap%7D%0A.css-pm742e%20%7Bcursor:%20pointer;%20margin-top:%202px;%20height:%20inherit;%20display:%20flex;%20-webkit-box-align:%20center;%20align-items:%20center;%20font-size:%2010px;%20-webkit-box-pack:%20center;%20justify-content:%20center;%20padding-left:%204px%7D%0A.css-1i6gc04%20%7Bcursor:%20pointer;%20margin-top:%202px;%20height:%20inherit;%20display:%20flex;%20-webkit-box-align:%20center;%20align-items:%20center;%20font-size:%2010px;%20width:%2016px%7D%0A.css-8r2ljj-PinnedTabularRows%20%7Bposition:%20absolute;%20right:%200px%7D%0A.css-mkoicc-CaptionCellRenderer%20%7Bwidth:%20100%25;%20overflow-x:%20hidden;%20overflow-y:%20hidden;%20text-overflow:%20ellipsis;%20white-space:%20nowrap%7D%0A.css-t881dv-SelectionStatistics%20%7Bheight:%2020px;%20display:%20flex;%20padding-top:%205px;%20opacity:%200;%20transition-duration:%20300ms;%20transition-timing-function:%20ease;%20transition-delay:%200s;%20transition-property:%20opacity;%20position:%20absolute;%20right:%200px;%20left:%20unset%7D%0A.css-1ag4cda-TabularHeaderCell%20%7Bcursor:%20default;%20-webkit-box-flex:%201;%20flex-grow:%201;%20flex-shrink:%201;%20box-sizing:%20border-box;%20padding-left:%204px;%20padding-right:%204px;%20padding-top:%204px;%20padding-bottom:%204px;%20height:%20100%25;%20overflow-x:%20hidden;%20overflow-y:%20hidden;%20display:%20flex;%20overflow-wrap:%20break-word;%20-webkit-box-pack:%20start;%20justify-content:%20flex-start;%20align-items:%20flex-start%7D%0A.css-1ged4iv-TabularHeaderGroup%20%7Bposition:%20relative;%20width:%20960px%7D%0A.css-1hcmypl-TabularCell%20%7Bheight:%2028px;%20box-sizing:%20border-box;%20display:%20flex;%20-webkit-box-pack:%20end;%20justify-content:%20flex-end;%20flex-direction:%20column;%20padding-top:%204px;%20padding-left:%204px;%20padding-right:%204px;%20padding-bottom:%203px;%20overflow-x:%20hidden;%20overflow-y:%20hidden;%20white-space:%20nowrap;%20border-right-width:%201px;%20border-right-style:%20solid;%20border-right-color:%20rgb(233,%20233,%20233);%20border-bottom-width:%20initial;%20border-bottom-style:%20none;%20border-bottom-color:%20initial;%20width:%20120px;%20background-color:%20rgb(250,%20250,%20250);%20cursor:%20cell;%20user-select:%20none;%20text-align:%20right;%20align-items:%20flex-end%7D%0A.css-qazlap-TabularCell%20%7Bheight:%2028px;%20box-sizing:%20border-box;%20display:%20flex;%20-webkit-box-pack:%20end;%20justify-content:%20flex-end;%20flex-direction:%20column;%20padding-top:%204px;%20padding-left:%204px;%20padding-right:%204px;%20padding-bottom:%203px;%20overflow-x:%20hidden;%20overflow-y:%20hidden;%20white-space:%20nowrap;%20border-right-width:%201px;%20border-right-style:%20solid;%20border-right-color:%20rgb(233,%20233,%20233);%20border-bottom-width:%20initial;%20border-bottom-style:%20none;%20border-bottom-color:%20initial;%20width:%20120px;%20cursor:%20cell;%20user-select:%20none;%20text-align:%20right;%20align-items:%20flex-end%7D%0A.css-45xfzm-TabularPinnSeparator%20%7Bwidth:%202px;%20height:%20102px;%20background-color:%20rgb(233,%20233,%20233)%7D%0A.css-1cika2j-TabularHeaderGroup%20%7Bposition:%20relative;%20width:%20170px%7D%0A.css-1vn66ed%20%7Bcolor:%20rgba(0,%200,%200,%200.85);%20display:%20flex;%20box-sizing:%20border-box;%20-webkit-box-align:%20center;%20align-items:%20center;%20height:%20102px;%20position:%20absolute;%20top:%200px;%20left:%200px;%20user-select:%20none;%20font-size:%2012px;%20line-height:%2022px;%20font-weight:%20600;%20border-bottom-width:%202px;%20border-bottom-style:%20solid;%20border-bottom-color:%20rgb(233,%20233,%20233);%20width:%20170px;%20border-right-width:%201px;%20border-right-style:%20solid;%20border-right-color:%20rgb(233,%20233,%20233)%7D%0A.css-1gw5nh6-HeaderResizer%20%7Bposition:%20absolute;%20z-index:%201;%20width:%2010px;%20height:%20102px;%20left:%20165px;%20top:%200px;%20cursor:%20col-resize%7D%0A.css-1d5rn20-HeaderResizer%20%7Bposition:%20absolute;%20z-index:%201;%20height:%2010px;%20width:%20170px;%20left:%200px;%20top:%2097px;%20cursor:%20row-resize%7D%0A.css-mnv5rg%20%7Bheight:%20100%25;%20box-sizing:%20border-box;%20display:%20flex;%20-webkit-box-pack:%20end;%20justify-content:%20flex-end;%20flex-direction:%20column;%20padding-top:%204px;%20padding-left:%204px;%20padding-right:%204px;%20padding-bottom:%203px;%20overflow-x:%20hidden;%20overflow-y:%20hidden;%20white-space:%20nowrap;%20border-right-width:%201px;%20border-right-style:%20solid;%20border-right-color:%20rgb(233,%20233,%20233);%20border-bottom-width:%20initial;%20border-bottom-style:%20none;%20border-bottom-color:%20initial;%20width:%20170px;%20align-items:%20flex-start;%20background-color:%20rgb(250,%20250,%20250)%7D%0A.css-s3aw4i-Tabular%20%7Bposition:%20relative;%20height:%20100%25;%20width:%201149px%7D%0A.css-19urrvq-UnpinnedTabularHeaders%20%7Boverflow-x:%20hidden;%20overflow-y:%20hidden;%20position:%20relative;%20width:%201371px;%20height:%20102px%7D%0A.css-f564yw%20%7Bfont-size:%2012px;%20line-height:%2022px;%20font-weight:%20600;%20color:%20rgba(0,%200,%200,%200.85);%20text-align:%20center;%20-webkit-box-align:%20center;%20align-items:%20center;%20box-sizing:%20border-box;%20padding-left:%203px;%20padding-right:%203px;%20padding-top:%204px;%20padding-bottom:%204px;%20border-right-width:%201px;%20border-right-style:%20solid;%20border-right-color:%20rgb(233,%20233,%20233);%20width:%20480px;%20height:%2051px;%20position:%20absolute;%20top:%200px;%20left:%200px;%20cursor:%20auto;%20user-select:%20none;%20white-space:%20nowrap;%20text-overflow:%20ellipsis;%20overflow-x:%20hidden;%20overflow-y:%20hidden%7D%0A.css-1sza37a-HeaderResizer%20%7Bposition:%20absolute;%20z-index:%201;%20height:%2010px;%20width:%20120px;%20left:%200px;%20top:%2046px;%20cursor:%20row-resize%7D%0A.css-1bza4we%20%7Bcolor:%20rgba(0,%200,%200,%200.85);%20display:%20flex;%20box-sizing:%20border-box;%20-webkit-box-align:%20center;%20align-items:%20center;%20height:%2051px;%20position:%20absolute;%20top:%2051px;%20left:%200px;%20user-select:%20none;%20font-size:%2012px;%20line-height:%2022px;%20font-weight:%20600;%20border-bottom-width:%202px;%20border-bottom-style:%20solid;%20border-bottom-color:%20rgb(233,%20233,%20233);%20width:%20120px%7D%0A.css-13wui84-HeaderResizer%20%7Bposition:%20absolute;%20z-index:%201;%20width:%2010px;%20height:%2051px;%20left:%20115px;%20top:%2051px;%20cursor:%20col-resize%7D%0A.css-1u2dkqd-HeaderResizer%20%7Bposition:%20absolute;%20z-index:%201;%20height:%2010px;%20width:%20120px;%20left:%200px;%20top:%2097px;%20cursor:%20row-resize%7D%0A.css-1vg59ee-HeaderResizer%20%7Bposition:%20absolute;%20z-index:%201;%20height:%2010px;%20width:%20120px;%20left:%20120px;%20top:%2046px;%20cursor:%20row-resize%7D%0A.css-stj3o1%20%7Bcolor:%20rgba(0,%200,%200,%200.85);%20display:%20flex;%20box-sizing:%20border-box;%20-webkit-box-align:%20center;%20align-items:%20center;%20height:%2051px;%20position:%20absolute;%20top:%2051px;%20left:%20120px;%20user-select:%20none;%20font-size:%2012px;%20line-height:%2022px;%20font-weight:%20600;%20border-bottom-width:%202px;%20border-bottom-style:%20solid;%20border-bottom-color:%20rgb(233,%20233,%20233);%20width:%20120px%7D%0A.css-1u40gei-HeaderResizer%20%7Bposition:%20absolute;%20z-index:%201;%20width:%2010px;%20height:%2051px;%20left:%20235px;%20top:%2051px;%20cursor:%20col-resize%7D%0A.css-1naiqbi-HeaderResizer%20%7Bposition:%20absolute;%20z-index:%201;%20height:%2010px;%20width:%20120px;%20left:%20120px;%20top:%2097px;%20cursor:%20row-resize%7D%0A.css-eq8ept-HeaderResizer%20%7Bposition:%20absolute;%20z-index:%201;%20height:%2010px;%20width:%20120px;%20left:%20240px;%20top:%2046px;%20cursor:%20row-resize%7D%0A.css-c1gxtl%20%7Bcolor:%20rgba(0,%200,%200,%200.85);%20display:%20flex;%20box-sizing:%20border-box;%20-webkit-box-align:%20center;%20align-items:%20center;%20height:%2051px;%20position:%20absolute;%20top:%2051px;%20left:%20240px;%20user-select:%20none;%20font-size:%2012px;%20line-height:%2022px;%20font-weight:%20600;%20border-bottom-width:%202px;%20border-bottom-style:%20solid;%20border-bottom-color:%20rgb(233,%20233,%20233);%20width:%20120px%7D%0A.css-h5s5sd-HeaderResizer%20%7Bposition:%20absolute;%20z-index:%201;%20width:%2010px;%20height:%2051px;%20left:%20355px;%20top:%2051px;%20cursor:%20col-resize%7D%0A.css-1l6onwj-HeaderResizer%20%7Bposition:%20absolute;%20z-index:%201;%20height:%2010px;%20width:%20120px;%20left:%20240px;%20top:%2097px;%20cursor:%20row-resize%7D%0A.css-1appsoe-HeaderResizer%20%7Bposition:%20absolute;%20z-index:%201;%20height:%2010px;%20width:%20120px;%20left:%20360px;%20top:%2046px;%20cursor:%20row-resize%7D%0A.css-x73ko0%20%7Bcolor:%20rgba(0,%200,%200,%200.85);%20display:%20flex;%20box-sizing:%20border-box;%20-webkit-box-align:%20center;%20align-items:%20center;%20height:%2051px;%20position:%20absolute;%20top:%2051px;%20left:%20360px;%20user-select:%20none;%20font-size:%2012px;%20line-height:%2022px;%20font-weight:%20600;%20border-bottom-width:%202px;%20border-bottom-style:%20solid;%20border-bottom-color:%20rgb(233,%20233,%20233);%20width:%20120px;%20border-right-width:%201px;%20border-right-style:%20solid;%20border-right-color:%20rgb(233,%20233,%20233)%7D%0A.css-8qhncd-HeaderResizer%20%7Bposition:%20absolute;%20z-index:%201;%20width:%2010px;%20height:%2051px;%20left:%20475px;%20top:%2051px;%20cursor:%20col-resize%7D%0A.css-1en3jbm-HeaderResizer%20%7Bposition:%20absolute;%20z-index:%201;%20height:%2010px;%20width:%20120px;%20left:%20360px;%20top:%2097px;%20cursor:%20row-resize%7D%0A.css-a0jlyx%20%7Bfont-size:%2012px;%20line-height:%2022px;%20font-weight:%20600;%20color:%20rgba(0,%200,%200,%200.85);%20text-align:%20center;%20-webkit-box-align:%20center;%20align-items:%20center;%20box-sizing:%20border-box;%20padding-left:%203px;%20padding-right:%203px;%20padding-top:%204px;%20padding-bottom:%204px;%20border-right-width:%201px;%20border-right-style:%20solid;%20border-right-color:%20rgb(233,%20233,%20233);%20width:%20480px;%20height:%2051px;%20position:%20absolute;%20top:%200px;%20left:%20480px;%20cursor:%20auto;%20user-select:%20none;%20white-space:%20nowrap;%20text-overflow:%20ellipsis;%20overflow-x:%20hidden;%20overflow-y:%20hidden%7D%0A.css-101hyz2-HeaderResizer%20%7Bposition:%20absolute;%20z-index:%201;%20height:%2010px;%20width:%20120px;%20left:%20480px;%20top:%2046px;%20cursor:%20row-resize%7D%0A.css-19tmtx9%20%7Bcolor:%20rgba(0,%200,%200,%200.85);%20display:%20flex;%20box-sizing:%20border-box;%20-webkit-box-align:%20center;%20align-items:%20center;%20height:%2051px;%20position:%20absolute;%20top:%2051px;%20left:%20480px;%20user-select:%20none;%20font-size:%2012px;%20line-height:%2022px;%20font-weight:%20600;%20border-bottom-width:%202px;%20border-bottom-style:%20solid;%20border-bottom-color:%20rgb(233,%20233,%20233);%20width:%20120px%7D%0A.css-1nyhezo-HeaderResizer%20%7Bposition:%20absolute;%20z-index:%201;%20width:%2010px;%20height:%2051px;%20left:%20595px;%20top:%2051px;%20cursor:%20col-resize%7D%0A.css-14rgipi-HeaderResizer%20%7Bposition:%20absolute;%20z-index:%201;%20height:%2010px;%20width:%20120px;%20left:%20480px;%20top:%2097px;%20cursor:%20row-resize%7D%0A.css-1dm2nle-HeaderResizer%20%7Bposition:%20absolute;%20z-index:%201;%20height:%2010px;%20width:%20120px;%20left:%20600px;%20top:%2046px;%20cursor:%20row-resize%7D%0A.css-1pgws0s%20%7Bcolor:%20rgba(0,%200,%200,%200.85);%20display:%20flex;%20box-sizing:%20border-box;%20-webkit-box-align:%20center;%20align-items:%20center;%20height:%2051px;%20position:%20absolute;%20top:%2051px;%20left:%20600px;%20user-select:%20none;%20font-size:%2012px;%20line-height:%2022px;%20font-weight:%20600;%20border-bottom-width:%202px;%20border-bottom-style:%20solid;%20border-bottom-color:%20rgb(233,%20233,%20233);%20width:%20120px%7D%0A.css-heobw3-HeaderResizer%20%7Bposition:%20absolute;%20z-index:%201;%20width:%2010px;%20height:%2051px;%20left:%20715px;%20top:%2051px;%20cursor:%20col-resize%7D%0A.css-4ie48o-HeaderResizer%20%7Bposition:%20absolute;%20z-index:%201;%20height:%2010px;%20width:%20120px;%20left:%20600px;%20top:%2097px;%20cursor:%20row-resize%7D%0A.css-2gaq8i-HeaderResizer%20%7Bposition:%20absolute;%20z-index:%201;%20height:%2010px;%20width:%20120px;%20left:%20720px;%20top:%2046px;%20cursor:%20row-resize%7D%0A.css-1gpo13v%20%7Bcolor:%20rgba(0,%200,%200,%200.85);%20display:%20flex;%20box-sizing:%20border-box;%20-webkit-box-align:%20center;%20align-items:%20center;%20height:%2051px;%20position:%20absolute;%20top:%2051px;%20left:%20720px;%20user-select:%20none;%20font-size:%2012px;%20line-height:%2022px;%20font-weight:%20600;%20border-bottom-width:%202px;%20border-bottom-style:%20solid;%20border-bottom-color:%20rgb(233,%20233,%20233);%20width:%20120px%7D%0A.css-anksvf-HeaderResizer%20%7Bposition:%20absolute;%20z-index:%201;%20width:%2010px;%20height:%2051px;%20left:%20835px;%20top:%2051px;%20cursor:%20col-resize%7D%0A.css-1q27wo6-HeaderResizer%20%7Bposition:%20absolute;%20z-index:%201;%20height:%2010px;%20width:%20120px;%20left:%20720px;%20top:%2097px;%20cursor:%20row-resize%7D%0A.css-ueyoym-HeaderResizer%20%7Bposition:%20absolute;%20z-index:%201;%20height:%2010px;%20width:%20120px;%20left:%20840px;%20top:%2046px;%20cursor:%20row-resize%7D%0A.css-1fdxiqf%20%7Bcolor:%20rgba(0,%200,%200,%200.85);%20display:%20flex;%20box-sizing:%20border-box;%20-webkit-box-align:%20center;%20align-items:%20center;%20height:%2051px;%20position:%20absolute;%20top:%2051px;%20left:%20840px;%20user-select:%20none;%20font-size:%2012px;%20line-height:%2022px;%20font-weight:%20600;%20border-bottom-width:%202px;%20border-bottom-style:%20solid;%20border-bottom-color:%20rgb(233,%20233,%20233);%20width:%20120px;%20border-right-width:%201px;%20border-right-style:%20solid;%20border-right-color:%20rgb(233,%20233,%20233)%7D%0A.css-kupozt-HeaderResizer%20%7Bposition:%20absolute;%20z-index:%201;%20width:%2010px;%20height:%2051px;%20left:%20955px;%20top:%2051px;%20cursor:%20col-resize%7D%0A.css-3wfxvt-HeaderResizer%20%7Bposition:%20absolute;%20z-index:%201;%20height:%2010px;%20width:%20120px;%20left:%20840px;%20top:%2097px;%20cursor:%20row-resize%7D%0A.css-w5hr7g-TabularBody%20%7Bposition:%20relative;%20overflow-x:%20hidden;%20overflow-y:%20hidden;%20top:%200px;%20width:%201132px;%20height:%2084px%7D%0A.css-16w1oc8-PinnedTabularRows%20%7Bposition:%20absolute;%20height:%2084px;%20width:%20172px;%20overflow-x:%20hidden;%20overflow-y:%20hidden%7D%0A.css-glc6r-PinnedTabularRows%20%7Bposition:%20absolute;%20overflow-x:%20hidden;%20overflow-y:%20hidden;%20top:%200px;%20width:%20170px%7D%0A.css-1mbutki%20%7Bheight:%20100%25;%20box-sizing:%20border-box;%20display:%20flex;%20-webkit-box-pack:%20end;%20justify-content:%20flex-end;%20flex-direction:%20column;%20padding-top:%204px;%20padding-left:%204px;%20padding-right:%204px;%20padding-bottom:%203px;%20overflow-x:%20hidden;%20overflow-y:%20hidden;%20white-space:%20nowrap;%20border-right-width:%201px;%20border-right-style:%20solid;%20border-right-color:%20rgb(233,%20233,%20233);%20border-bottom-width:%20initial;%20border-bottom-style:%20none;%20border-bottom-color:%20initial;%20width:%20170px;%20align-items:%20flex-start%7D%0A.css-1jl5hz8%20%7Bheight:%20100%25;%20box-sizing:%20border-box;%20display:%20flex;%20-webkit-box-pack:%20end;%20justify-content:%20flex-end;%20flex-direction:%20column;%20padding-top:%204px;%20padding-left:%204px;%20padding-right:%204px;%20padding-bottom:%203px;%20overflow-x:%20hidden;%20overflow-y:%20hidden;%20white-space:%20nowrap;%20border-right-width:%201px;%20border-right-style:%20solid;%20border-right-color:%20rgb(233,%20233,%20233);%20border-bottom-width:%201px;%20border-bottom-style:%20solid;%20border-bottom-color:%20rgb(233,%20233,%20233);%20width:%20170px;%20align-items:%20flex-start;%20background-color:%20rgb(250,%20250,%20250)%7D%0A.css-rq1rb8-PinnedTabularRows%20%7Bwidth:%202px;%20height:%2084px;%20background-color:%20rgb(233,%20233,%20233)%7D%0A.css-yjjfbx-UnpinnedTabularRows%20%7Bposition:%20absolute;%20overflow-x:%20hidden;%20overflow-y:%20hidden;%20left:%20172px;%20height:%2084px;%20width:%20960px%7D%0A.css-m3b6cx-TabularCell%20%7Bheight:%2028px;%20box-sizing:%20border-box;%20display:%20flex;%20-webkit-box-pack:%20end;%20justify-content:%20flex-end;%20flex-direction:%20column;%20padding-top:%204px;%20padding-left:%204px;%20padding-right:%204px;%20padding-bottom:%203px;%20overflow-x:%20hidden;%20overflow-y:%20hidden;%20white-space:%20nowrap;%20border-right-width:%201px;%20border-right-style:%20solid;%20border-right-color:%20rgb(233,%20233,%20233);%20border-bottom-width:%201px;%20border-bottom-style:%20solid;%20border-bottom-color:%20rgb(233,%20233,%20233);%20width:%20120px;%20background-color:%20rgb(250,%20250,%20250);%20cursor:%20cell;%20user-select:%20none;%20text-align:%20right;%20align-items:%20flex-end%7D%0A.ant-root%20html,%20.ant-root%20%7Bwidth:%20100%25;%20height:%20100%25%7D%0A.ant-root%20*,%20.ant-root%20::before,%20.ant-root%20::after%20%7Bbox-sizing:%20border-box%7D%0A.ant-root%20%7Bmargin-top:%200px;%20margin-right:%200px;%20margin-bottom:%200px;%20margin-left:%200px;%20color:%20rgba(0,%200,%200,%200.65);%20font-size:%2014px;%20font-family:%20-apple-system,%20BlinkMacSystemFont,%20%22Segoe%20UI%22,%20%22PingFang%20SC%22,%20%22Hiragino%20Sans%20GB%22,%20%22Microsoft%20YaHei%22,%20%22Helvetica%20Neue%22,%20Helvetica,%20Arial,%20sans-serif,%20%22Apple%20Color%20Emoji%22,%20%22Segoe%20UI%20Emoji%22,%20%22Segoe%20UI%20Symbol%22;%20font-variant-ligatures:%20normal;%20font-variant-numeric:%20tabular-nums;%20font-variant-east-asian:%20normal;%20font-variant-caps:%20normal;%20line-height:%201.5;%20background-color:%20rgb(255,%20255,%20255);%20font-feature-settings:%20%22tnum%22;%20--antd-wave-shadow-color:%20undefined%7D%0A.ant-root%20.ant-typography%20%7Bcolor:%20rgba(0,%200,%200,%200.65)%7D%0A.css-1sxolix-Widget%20%7Bheight:%20100%25%7D%0A.css-1sxolix-Widget%20.ant-root:not(.atoti-widget-chooser)%20%7Bbox-shadow:%20none%7D%3C/style%3E%0A%20%20%20%20%20%20%20%20%3Cdiv%20xmlns=%22http://www.w3.org/1999/xhtml%22%20style=%22height:%20254px;%20width:%201541px%22%3E%0A%20%20%20%20%20%20%20%20%20%20%3Cdiv%20xmlns=%22http://www.w3.org/1999/xhtml%22%20class=%22css-1sxolix-Widget%22%3E%3Cdiv%20class=%22ant-root%20css-xsa55j-dock%22%3E%3Cdiv%20class=%22css-1ibuxvk-DockBody%22%3E%3Cdiv%20class=%22SplitPane%20%20vertical%20disabled%22%20style=%22display:%20flex;%20flex:%201%201%200%25;%20height:%20100%25;%20position:%20relative;%20outline:%20none;%20overflow:%20hidden;%20user-select:%20text;%20flex-direction:%20row;%20left:%200px;%20right:%200px;%22%3E%3Cdiv%20class=%22Pane%20vertical%20Pane1%20%20%22%20style=%22flex:%201%201%200%25;%20position:%20relative;%20outline:%20none;%20display:%20flex;%20background-color:%20rgb(255,%20255,%20255);%22%3E%3Cdiv%20class=%22css-1lrljg1-EditorSplitPane%22%3E%3Cdiv%20class=%22css-15fz3t7-EditorSplitPane%22%3E%3Cdiv%20class=%22css-1k1fxuh-Tabular%22%3E%3Cdiv%20class=%22css-10klw3m%22%3E%3Cdiv%20tabindex=%220%22%20class=%22css-s3aw4i-Tabular%22%3E%3Cdiv%20class=%22css-192kvjv-Tabular%22%3E%3Cdiv%20class=%22css-mdjjdg-TabularHeader%22%3E%3Cdiv%20class=%22css-12nzxaz-PinnedTabularHeaders%22%3E%3Cdiv%20class=%22css-1cika2j-TabularHeaderGroup%22%3E%3Cdiv%20class=%22css-1vn66ed%22%3E%3Cdiv%20class=%22css-1ag4cda-TabularHeaderCell%22%3E%3Cspan%20class=%22css-jpazdc-TabularHeaderCell%22%3E%3Cspan%3E%3Cspan%3E%3Cspan%20class=%22css-y3oqqp%22%3EHappy_Sad_group%3C/span%3E%3C/span%3E%3C/span%3E%3C/span%3E%3C/div%3E%3Cdiv%20class=%22css-c7y3a7-TabularHeaderCell%22%3E%3C/div%3E%3C/div%3E%3Cdiv%20class=%22css-1gw5nh6-HeaderResizer%22%3E%3C/div%3E%3Cdiv%20class=%22css-1d5rn20-HeaderResizer%22%3E%3C/div%3E%3C/div%3E%3Cdiv%20class=%22css-45xfzm-TabularPinnSeparator%22%3E%3C/div%3E%3C/div%3E%3Cdiv%20class=%22css-19urrvq-UnpinnedTabularHeaders%22%3E%3Cdiv%20class=%22css-5jtkjp-UnpinnedTabularHeaders%22%3E%3Cdiv%20class=%22css-1ged4iv-TabularHeaderGroup%22%3E%3Cdiv%20class=%22css-f564yw%22%3EBefore%3C/div%3E%3Cdiv%20class=%22css-1sza37a-HeaderResizer%22%3E%3C/div%3E%3Cdiv%20class=%22css-1bza4we%22%3E%3Cdiv%20class=%22css-pm742e%22%3E%3C/div%3E%3Cdiv%20class=%22css-1ag4cda-TabularHeaderCell%22%3E%3Cspan%20class=%22css-jpazdc-TabularHeaderCell%22%3E%3Cspan%3EZ%20confidence%20left%3C/span%3E%3C/span%3E%3C/div%3E%3Cdiv%20class=%22css-c7y3a7-TabularHeaderCell%22%3E%3C/div%3E%3C/div%3E%3Cdiv%20class=%22css-13wui84-HeaderResizer%22%3E%3C/div%3E%3Cdiv%20class=%22css-1u2dkqd-HeaderResizer%22%3E%3C/div%3E%3Cdiv%20class=%22css-1vg59ee-HeaderResizer%22%3E%3C/div%3E%3Cdiv%20class=%22css-stj3o1%22%3E%3Cdiv%20class=%22css-pm742e%22%3E%3C/div%3E%3Cdiv%20class=%22css-1ag4cda-TabularHeaderCell%22%3E%3Cspan%20class=%22css-jpazdc-TabularHeaderCell%22%3E%3Cspan%3EZ%20confidence%20right%3C/span%3E%3C/span%3E%3C/div%3E%3Cdiv%20class=%22css-c7y3a7-TabularHeaderCell%22%3E%3C/div%3E%3C/div%3E%3Cdiv%20class=%22css-1u40gei-HeaderResizer%22%3E%3C/div%3E%3Cdiv%20class=%22css-1naiqbi-HeaderResizer%22%3E%3C/div%3E%3Cdiv%20class=%22css-eq8ept-HeaderResizer%22%3E%3C/div%3E%3Cdiv%20class=%22css-c1gxtl%22%3E%3Cdiv%20class=%22css-pm742e%22%3E%3C/div%3E%3Cdiv%20class=%22css-1ag4cda-TabularHeaderCell%22%3E%3Cspan%20class=%22css-jpazdc-TabularHeaderCell%22%3E%3Cspan%3EMean%3C/span%3E%3C/span%3E%3C/div%3E%3Cdiv%20class=%22css-c7y3a7-TabularHeaderCell%22%3E%3C/div%3E%3C/div%3E%3Cdiv%20class=%22css-h5s5sd-HeaderResizer%22%3E%3C/div%3E%3Cdiv%20class=%22css-1l6onwj-HeaderResizer%22%3E%3C/div%3E%3Cdiv%20class=%22css-1appsoe-HeaderResizer%22%3E%3C/div%3E%3Cdiv%20class=%22css-x73ko0%22%3E%3Cdiv%20class=%22css-pm742e%22%3E%3C/div%3E%3Cdiv%20class=%22css-1ag4cda-TabularHeaderCell%22%3E%3Cspan%20class=%22css-jpazdc-TabularHeaderCell%22%3E%3Cspan%3E50%25%3C/span%3E%3C/span%3E%3C/div%3E%3Cdiv%20class=%22css-c7y3a7-TabularHeaderCell%22%3E%3C/div%3E%3C/div%3E%3Cdiv%20class=%22css-8qhncd-HeaderResizer%22%3E%3C/div%3E%3Cdiv%20class=%22css-1en3jbm-HeaderResizer%22%3E%3C/div%3E%3Cdiv%20class=%22css-a0jlyx%22%3EAfter%3C/div%3E%3Cdiv%20class=%22css-101hyz2-HeaderResizer%22%3E%3C/div%3E%3Cdiv%20class=%22css-19tmtx9%22%3E%3Cdiv%20class=%22css-pm742e%22%3E%3C/div%3E%3Cdiv%20class=%22css-1ag4cda-TabularHeaderCell%22%3E%3Cspan%20class=%22css-jpazdc-TabularHeaderCell%22%3E%3Cspan%3EZ%20confidence%20left%3C/span%3E%3C/span%3E%3C/div%3E%3Cdiv%20class=%22css-c7y3a7-TabularHeaderCell%22%3E%3C/div%3E%3C/div%3E%3Cdiv%20class=%22css-1nyhezo-HeaderResizer%22%3E%3C/div%3E%3Cdiv%20class=%22css-14rgipi-HeaderResizer%22%3E%3C/div%3E%3Cdiv%20class=%22css-1dm2nle-HeaderResizer%22%3E%3C/div%3E%3Cdiv%20class=%22css-1pgws0s%22%3E%3Cdiv%20class=%22css-pm742e%22%3E%3C/div%3E%3Cdiv%20class=%22css-1ag4cda-TabularHeaderCell%22%3E%3Cspan%20class=%22css-jpazdc-TabularHeaderCell%22%3E%3Cspan%3EZ%20confidence%20right%3C/span%3E%3C/span%3E%3C/div%3E%3Cdiv%20class=%22css-c7y3a7-TabularHeaderCell%22%3E%3C/div%3E%3C/div%3E%3Cdiv%20class=%22css-heobw3-HeaderResizer%22%3E%3C/div%3E%3Cdiv%20class=%22css-4ie48o-HeaderResizer%22%3E%3C/div%3E%3Cdiv%20class=%22css-2gaq8i-HeaderResizer%22%3E%3C/div%3E%3Cdiv%20class=%22css-1gpo13v%22%3E%3Cdiv%20class=%22css-pm742e%22%3E%3C/div%3E%3Cdiv%20class=%22css-1ag4cda-TabularHeaderCell%22%3E%3Cspan%20class=%22css-jpazdc-TabularHeaderCell%22%3E%3Cspan%3EMean%3C/span%3E%3C/span%3E%3C/div%3E%3Cdiv%20class=%22css-c7y3a7-TabularHeaderCell%22%3E%3C/div%3E%3C/div%3E%3Cdiv%20class=%22css-anksvf-HeaderResizer%22%3E%3C/div%3E%3Cdiv%20class=%22css-1q27wo6-HeaderResizer%22%3E%3C/div%3E%3Cdiv%20class=%22css-ueyoym-HeaderResizer%22%3E%3C/div%3E%3Cdiv%20class=%22css-1fdxiqf%22%3E%3Cdiv%20class=%22css-pm742e%22%3E%3C/div%3E%3Cdiv%20class=%22css-1ag4cda-TabularHeaderCell%22%3E%3Cspan%20class=%22css-jpazdc-TabularHeaderCell%22%3E%3Cspan%3E50%25%3C/span%3E%3C/span%3E%3C/div%3E%3Cdiv%20class=%22css-c7y3a7-TabularHeaderCell%22%3E%3C/div%3E%3C/div%3E%3Cdiv%20class=%22css-kupozt-HeaderResizer%22%3E%3C/div%3E%3Cdiv%20class=%22css-3wfxvt-HeaderResizer%22%3E%3C/div%3E%3C/div%3E%3C/div%3E%3C/div%3E%3C/div%3E%3Cdiv%20class=%22css-w5hr7g-TabularBody%22%3E%3Cdiv%20class=%22css-16w1oc8-PinnedTabularRows%22%3E%3Cdiv%20class=%22css-glc6r-PinnedTabularRows%22%3E%3Cdiv%20class=%22css-3cge9w%22%3E%3Cdiv%3E%3Cdiv%20class=%22css-mnv5rg%22%3E%3Cdiv%20class=%22css-9ssj44-TreeCell%22%3E%3Cdiv%20class=%22css-mkrhzq%22%3E%3Cspan%20class=%22ant-typography%20css-8uhtka%22%20style=%22font-size:%2012px;%20line-height:%2020px;%20font-weight:%20600;%20color:%20rgba(0,%200,%200,%200.85);%22%3ETotal%20Happy_Sad_group%3C/span%3E%3C/div%3E%3C/div%3E%3C/div%3E%3C/div%3E%3C/div%3E%3Cdiv%20class=%22css-3cge9w%22%3E%3Cdiv%3E%3Cdiv%20class=%22css-1mbutki%22%3E%3Cdiv%20class=%22css-9ssj44-TreeCell%22%3E%3Cdiv%20class=%22css-mkrhzq%22%3E%3Cdiv%20class=%22css-1i6gc04%22%3E%3C/div%3E%3Cspan%20class=%22ant-typography%20css-8uhtka%22%20style=%22font-size:%2012px;%20line-height:%2020px;%20font-weight:%20600;%20color:%20rgba(0,%200,%200,%200.85);%22%3EHappy%3C/span%3E%3C/div%3E%3C/div%3E%3C/div%3E%3C/div%3E%3C/div%3E%3Cdiv%20class=%22css-3cge9w%22%3E%3Cdiv%3E%3Cdiv%20class=%22css-1jl5hz8%22%3E%3Cdiv%20class=%22css-9ssj44-TreeCell%22%3E%3Cdiv%20class=%22css-mkrhzq%22%3E%3Cdiv%20class=%22css-1i6gc04%22%3E%3C/div%3E%3Cspan%20class=%22ant-typography%20css-8uhtka%22%20style=%22font-size:%2012px;%20line-height:%2020px;%20font-weight:%20600;%20color:%20rgba(0,%200,%200,%200.85);%22%3ESad%3C/span%3E%3C/div%3E%3C/div%3E%3C/div%3E%3C/div%3E%3C/div%3E%3C/div%3E%3Cdiv%20class=%22css-8r2ljj-PinnedTabularRows%22%3E%3Cdiv%20class=%22css-rq1rb8-PinnedTabularRows%22%3E%3C/div%3E%3C/div%3E%3C/div%3E%3Cdiv%20class=%22css-yjjfbx-UnpinnedTabularRows%22%3E%3Cdiv%20class=%22css-1id6sm3-UnpinnedTabularRows%22%3E%3Cdiv%20class=%22css-3cge9w%22%3E%3Cdiv%3E%3Cdiv%20class=%22%20css-1hcmypl-TabularCell%22%3E%3Cspan%20class=%22css-mkoicc-CaptionCellRenderer%22%3E%3Cspan%3E%3Cspan%20class=%22ant-typography%22%20style=%22font-size:%2012px;%20line-height:%2020px;%20font-weight:%20400;%22%3E27.07%3C/span%3E%3C/span%3E%3C/span%3E%3C/div%3E%3C/div%3E%3Cdiv%3E%3Cdiv%20class=%22%20css-1hcmypl-TabularCell%22%3E%3Cspan%20class=%22css-mkoicc-CaptionCellRenderer%22%3E%3Cspan%3E%3Cspan%20class=%22ant-typography%22%20style=%22font-size:%2012px;%20line-height:%2020px;%20font-weight:%20400;%22%3E88.87%3C/span%3E%3C/span%3E%3C/span%3E%3C/div%3E%3C/div%3E%3Cdiv%3E%3Cdiv%20class=%22%20css-1hcmypl-TabularCell%22%3E%3Cspan%20class=%22css-mkoicc-CaptionCellRenderer%22%3E%3Cspan%3E%3Cspan%20class=%22ant-typography%22%20style=%22font-size:%2012px;%20line-height:%2020px;%20font-weight:%20400;%22%3E57.97%3C/span%3E%3C/span%3E%3C/span%3E%3C/div%3E%3C/div%3E%3Cdiv%3E%3Cdiv%20class=%22%20css-1hcmypl-TabularCell%22%3E%3Cspan%20class=%22css-mkoicc-CaptionCellRenderer%22%3E%3Cspan%3E%3Cspan%20class=%22ant-typography%22%20style=%22font-size:%2012px;%20line-height:%2020px;%20font-weight:%20400;%22%3E54.80%3C/span%3E%3C/span%3E%3C/span%3E%3C/div%3E%3C/div%3E%3Cdiv%3E%3Cdiv%20class=%22%20css-1hcmypl-TabularCell%22%3E%3Cspan%20class=%22css-mkoicc-CaptionCellRenderer%22%3E%3Cspan%3E%3Cspan%20class=%22ant-typography%22%20style=%22font-size:%2012px;%20line-height:%2020px;%20font-weight:%20400;%22%3E25.38%3C/span%3E%3C/span%3E%3C/span%3E%3C/div%3E%3C/div%3E%3Cdiv%3E%3Cdiv%20class=%22%20css-1hcmypl-TabularCell%22%3E%3Cspan%20class=%22css-mkoicc-CaptionCellRenderer%22%3E%3Cspan%3E%3Cspan%20class=%22ant-typography%22%20style=%22font-size:%2012px;%20line-height:%2020px;%20font-weight:%20400;%22%3E96.46%3C/span%3E%3C/span%3E%3C/span%3E%3C/div%3E%3C/div%3E%3Cdiv%3E%3Cdiv%20class=%22%20css-1hcmypl-TabularCell%22%3E%3Cspan%20class=%22css-mkoicc-CaptionCellRenderer%22%3E%3Cspan%3E%3Cspan%20class=%22ant-typography%22%20style=%22font-size:%2012px;%20line-height:%2020px;%20font-weight:%20400;%22%3E60.92%3C/span%3E%3C/span%3E%3C/span%3E%3C/div%3E%3C/div%3E%3Cdiv%3E%3Cdiv%20class=%22%20css-1hcmypl-TabularCell%22%3E%3Cspan%20class=%22css-mkoicc-CaptionCellRenderer%22%3E%3Cspan%3E%3Cspan%20class=%22ant-typography%22%20style=%22font-size:%2012px;%20line-height:%2020px;%20font-weight:%20400;%22%3E56.75%3C/span%3E%3C/span%3E%3C/span%3E%3C/div%3E%3C/div%3E%3C/div%3E%3Cdiv%20class=%22css-3cge9w%22%3E%3Cdiv%3E%3Cdiv%20class=%22%20css-qazlap-TabularCell%22%3E%3Cspan%20class=%22css-mkoicc-CaptionCellRenderer%22%3E%3Cspan%3E%3Cspan%20class=%22ant-typography%22%20style=%22font-size:%2012px;%20line-height:%2020px;%20font-weight:%20400;%22%3E25.93%3C/span%3E%3C/span%3E%3C/span%3E%3C/div%3E%3C/div%3E%3Cdiv%3E%3Cdiv%20class=%22%20css-qazlap-TabularCell%22%3E%3Cspan%20class=%22css-mkoicc-CaptionCellRenderer%22%3E%3Cspan%3E%3Cspan%20class=%22ant-typography%22%20style=%22font-size:%2012px;%20line-height:%2020px;%20font-weight:%20400;%22%3E89.75%3C/span%3E%3C/span%3E%3C/span%3E%3C/div%3E%3C/div%3E%3Cdiv%3E%3Cdiv%20class=%22%20css-qazlap-TabularCell%22%3E%3Cspan%20class=%22css-mkoicc-CaptionCellRenderer%22%3E%3Cspan%3E%3Cspan%20class=%22ant-typography%22%20style=%22font-size:%2012px;%20line-height:%2020px;%20font-weight:%20400;%22%3E57.84%3C/span%3E%3C/span%3E%3C/span%3E%3C/div%3E%3C/div%3E%3Cdiv%3E%3Cdiv%20class=%22%20css-qazlap-TabularCell%22%3E%3Cspan%20class=%22css-mkoicc-CaptionCellRenderer%22%3E%3Cspan%3E%3Cspan%20class=%22ant-typography%22%20style=%22font-size:%2012px;%20line-height:%2020px;%20font-weight:%20400;%22%3E55.20%3C/span%3E%3C/span%3E%3C/span%3E%3C/div%3E%3C/div%3E%3Cdiv%3E%3Cdiv%20class=%22%20css-qazlap-TabularCell%22%3E%3Cspan%20class=%22css-mkoicc-CaptionCellRenderer%22%3E%3Cspan%3E%3Cspan%20class=%22ant-typography%22%20style=%22font-size:%2012px;%20line-height:%2020px;%20font-weight:%20400;%22%3E26.08%3C/span%3E%3C/span%3E%3C/span%3E%3C/div%3E%3C/div%3E%3Cdiv%3E%3Cdiv%20class=%22%20css-qazlap-TabularCell%22%3E%3Cspan%20class=%22css-mkoicc-CaptionCellRenderer%22%3E%3Cspan%3E%3Cspan%20class=%22ant-typography%22%20style=%22font-size:%2012px;%20line-height:%2020px;%20font-weight:%20400;%22%3E95.07%3C/span%3E%3C/span%3E%3C/span%3E%3C/div%3E%3C/div%3E%3Cdiv%3E%3Cdiv%20class=%22%20css-qazlap-TabularCell%22%3E%3Cspan%20class=%22css-mkoicc-CaptionCellRenderer%22%3E%3Cspan%3E%3Cspan%20class=%22ant-typography%22%20style=%22font-size:%2012px;%20line-height:%2020px;%20font-weight:%20400;%22%3E60.58%3C/span%3E%3C/span%3E%3C/span%3E%3C/div%3E%3C/div%3E%3Cdiv%3E%3Cdiv%20class=%22%20css-qazlap-TabularCell%22%3E%3Cspan%20class=%22css-mkoicc-CaptionCellRenderer%22%3E%3Cspan%3E%3Cspan%20class=%22ant-typography%22%20style=%22font-size:%2012px;%20line-height:%2020px;%20font-weight:%20400;%22%3E56.80%3C/span%3E%3C/span%3E%3C/span%3E%3C/div%3E%3C/div%3E%3C/div%3E%3Cdiv%20class=%22css-3cge9w%22%3E%3Cdiv%3E%3Cdiv%20class=%22%20css-m3b6cx-TabularCell%22%3E%3Cspan%20class=%22css-mkoicc-CaptionCellRenderer%22%3E%3Cspan%3E%3Cspan%20class=%22ant-typography%22%20style=%22font-size:%2012px;%20line-height:%2020px;%20font-weight:%20400;%22%3E28.07%3C/span%3E%3C/span%3E%3C/span%3E%3C/div%3E%3C/div%3E%3Cdiv%3E%3Cdiv%20class=%22%20css-m3b6cx-TabularCell%22%3E%3Cspan%20class=%22css-mkoicc-CaptionCellRenderer%22%3E%3Cspan%3E%3Cspan%20class=%22ant-typography%22%20style=%22font-size:%2012px;%20line-height:%2020px;%20font-weight:%20400;%22%3E88.11%3C/span%3E%3C/span%3E%3C/span%3E%3C/div%3E%3C/div%3E%3Cdiv%3E%3Cdiv%20class=%22%20css-m3b6cx-TabularCell%22%3E%3Cspan%20class=%22css-mkoicc-CaptionCellRenderer%22%3E%3Cspan%3E%3Cspan%20class=%22ant-typography%22%20style=%22font-size:%2012px;%20line-height:%2020px;%20font-weight:%20400;%22%3E58.09%3C/span%3E%3C/span%3E%3C/span%3E%3C/div%3E%3C/div%3E%3Cdiv%3E%3Cdiv%20class=%22%20css-m3b6cx-TabularCell%22%3E%3Cspan%20class=%22css-mkoicc-CaptionCellRenderer%22%3E%3Cspan%3E%3Cspan%20class=%22ant-typography%22%20style=%22font-size:%2012px;%20line-height:%2020px;%20font-weight:%20400;%22%3E54.60%3C/span%3E%3C/span%3E%3C/span%3E%3C/div%3E%3C/div%3E%3Cdiv%3E%3Cdiv%20class=%22%20css-m3b6cx-TabularCell%22%3E%3Cspan%20class=%22css-mkoicc-CaptionCellRenderer%22%3E%3Cspan%3E%3Cspan%20class=%22ant-typography%22%20style=%22font-size:%2012px;%20line-height:%2020px;%20font-weight:%20400;%22%3E24.55%3C/span%3E%3C/span%3E%3C/span%3E%3C/div%3E%3C/div%3E%3Cdiv%3E%3Cdiv%20class=%22%20css-m3b6cx-TabularCell%22%3E%3Cspan%20class=%22css-mkoicc-CaptionCellRenderer%22%3E%3Cspan%3E%3Cspan%20class=%22ant-typography%22%20style=%22font-size:%2012px;%20line-height:%2020px;%20font-weight:%20400;%22%3E97.99%3C/span%3E%3C/span%3E%3C/span%3E%3C/div%3E%3C/div%3E%3Cdiv%3E%3Cdiv%20class=%22%20css-m3b6cx-TabularCell%22%3E%3Cspan%20class=%22css-mkoicc-CaptionCellRenderer%22%3E%3Cspan%3E%3Cspan%20class=%22ant-typography%22%20style=%22font-size:%2012px;%20line-height:%2020px;%20font-weight:%20400;%22%3E61.27%3C/span%3E%3C/span%3E%3C/span%3E%3C/div%3E%3C/div%3E%3Cdiv%3E%3Cdiv%20class=%22%20css-m3b6cx-TabularCell%22%3E%3Cspan%20class=%22css-mkoicc-CaptionCellRenderer%22%3E%3Cspan%3E%3Cspan%20class=%22ant-typography%22%20style=%22font-size:%2012px;%20line-height:%2020px;%20font-weight:%20400;%22%3E56.60%3C/span%3E%3C/span%3E%3C/span%3E%3C/div%3E%3C/div%3E%3C/div%3E%3C/div%3E%3C/div%3E%3C/div%3E%3C/div%3E%3Cdiv%20class=%22css-t881dv-SelectionStatistics%22%3E%3C/div%3E%3C/div%3E%3C/div%3E%3C/div%3E%3C/div%3E%3C/div%3E%3C/div%3E%3Cspan%20role=%22presentation%22%20class=%22css-14zuz97%20Resizer%20vertical%20disabled%22%3E%3C/span%3E%3Cdiv%20class=%22Pane%20vertical%20Pane2%20%20%22%20style=%22flex:%200%200%20auto;%20position:%20relative;%20outline:%20none;%20width:%200px;%20display:%20flex;%20background-color:%20rgb(255,%20255,%20255);%20overflow:%20auto;%22%3E%3Cdiv%20class=%22css-1ouk3zc-EditorSplitPane%22%3E%3Cdiv%20class=%22css-1jjvrwi-EditorSplitPane%22%3E%3C/div%3E%3C/div%3E%3C/div%3E%3C/div%3E%3C/div%3E%3C/div%3E%3C/div%3E%0A%20%20%20%20%20%20%20%20%3C/div%3E%0A%20%20%20%20%20%20%3C/foreignObject%3E%0A%20%20%20%20%3C/svg%3E\">"
      ],
      "text/plain": [
       "Open the notebook in JupyterLab with the atoti extension installed and enabled to see this widget."
      ]
     },
     "metadata": {},
     "output_type": "display_data"
    }
   ],
   "source": [
    "cube.visualize(\"Interactive confidence intervals\")"
   ]
  },
  {
   "cell_type": "markdown",
   "metadata": {},
   "source": [
    "# Paired t-test\n",
    "\n",
    "Let's see how a paired t-test can be applied in atoti.\n",
    "\n",
    "As a refresher, a paired t-test is one of the [statistical hypothesis tests](https://en.wikipedia.org/wiki/Statistical_hypothesis_testing) that can help testing a medication effect, given the before and after measurements. We will check that the data provides evidence that will allow us to reject the [null hypothesis](https://en.wikipedia.org/wiki/Null_hypothesis):\n",
    "\n",
    "- H0: on average, there's no difference in the memory scores before and after treatment, \n",
    "- H1: on average, the memory score after the treatment is bigger (response time longer) than before, \n",
    "\n",
    "Or:\n",
    "\n",
    "- H0: mean difference of memory scores is equal to 0, mu = 0\n",
    "- H1: mean difference of memory scores between after and before measurements is above 0, mu>0.\n"
   ]
  },
  {
   "cell_type": "markdown",
   "metadata": {},
   "source": [
    "Firstly, we need to compute t-statistic for the differences between memory scores after and before treatment, the statistic is defined as per the formula:\n",
    "\n",
    "$$t_{statistic} = \\frac{\\bar{x}}{s/\\sqrt{n}}$$\n",
    "\n",
    "where \n",
    "- $\\bar{x}$: the mean value of the memory score differences \n",
    "- $n$: the number of observations\n",
    "- $s$: standard deviation of the memory score differences\n",
    "\n",
    "We'd need to provide mean differences, stdev of differences and the number of differences (patients) participated in the test.\n",
    "\n",
    "Let's create a measure for the difference. Let's use atoti `.filter` function to create average memory scores for the \"Before\" and \"After\" measurements, and then taking their difference."
   ]
  },
  {
   "cell_type": "code",
   "execution_count": 18,
   "metadata": {},
   "outputs": [],
   "source": [
    "m[\"MemoryScoresAfter.Mean\"] = tt.filter(\n",
    "    m[\"MemoryScores.MEAN\"], l[\"Before or After\"] == \"After\"\n",
    ")\n",
    "m[\"MemoryScoresBefore.Mean\"] = tt.filter(\n",
    "    m[\"MemoryScores.MEAN\"], l[\"Before or After\"] == \"Before\"\n",
    ")\n",
    "\n",
    "m[\"Diff.Mean\"] = m[\"MemoryScoresAfter.Mean\"] - m[\"MemoryScoresBefore.Mean\"]\n",
    "m[\"Diff.Mean\"].formatter = \"DOUBLE[#,##0.00]\""
   ]
  },
  {
   "cell_type": "code",
   "execution_count": 19,
   "metadata": {
    "atoti": {
     "height": 191,
     "state": {
      "name": "",
      "type": "container",
      "value": {
       "body": {
        "configuration": {
         "tabular": {
          "addButtonFilter": "numeric",
          "cellRenderers": [
           "tree-layout"
          ],
          "columns": [
           {
            "key": "[Measures].[MemoryScoresAfter.Mean]",
            "width": 175
           }
          ],
          "columnsGroups": [
           {
            "captionProducer": "firstColumn",
            "cellFactory": "kpi-status",
            "selector": "kpi-status"
           },
           {
            "captionProducer": "firstColumn",
            "cellFactory": "lookup",
            "selector": "lookup"
           },
           {
            "captionProducer": "expiry",
            "cellFactory": "expiry",
            "selector": "kpi-expiry"
           },
           {
            "captionProducer": "columnMerge",
            "cellFactory": {
             "args": {},
             "key": "treeCells"
            },
            "selector": "member"
           }
          ],
          "defaultOptions": {},
          "expansion": {
           "automaticExpansion": true
          },
          "hideAddButton": true,
          "pinnedHeaderSelector": "member",
          "sortingMode": "non-breaking",
          "statisticsShown": true
         }
        },
        "contextValues": {},
        "mdx": "SELECT NON EMPTY {[Measures].[Diff.Mean], [Measures].[MemoryScoresBefore.Mean], [Measures].[MemoryScoresAfter.Mean]} ON COLUMNS, NON EMPTY Hierarchize(DrilldownLevel([Hierarchies].[Drug].[ALL].[AllMember])) ON ROWS FROM [Observations] CELL PROPERTIES VALUE, FORMATTED_VALUE, BACK_COLOR, FORE_COLOR, FONT_FLAGS",
        "ranges": {
         "column": {
          "chunkSize": 50,
          "thresholdPercentage": 0.2
         },
         "row": {
          "chunkSize": 2000,
          "thresholdPercentage": 0.1
         }
        },
        "serverUrl": "",
        "updateMode": "once"
       },
       "containerKey": "pivot-table",
       "showTitleBar": false,
       "style": {}
      }
     }
    }
   },
   "outputs": [
    {
     "data": {
      "application/vnd.atoti.v0+json": {
       "cellSet": {
        "axes": [
         {
          "hierarchies": [
           {
            "dimension": "Measures",
            "hierarchy": "Measures"
           }
          ],
          "id": 0,
          "positions": [
           [
            {
             "captionPath": [
              "Diff.Mean"
             ],
             "namePath": [
              "Diff.Mean"
             ],
             "properties": {
              "DISPLAY_INFO": 0
             }
            }
           ],
           [
            {
             "captionPath": [
              "MemoryScoresBefore.Mean"
             ],
             "namePath": [
              "MemoryScoresBefore.Mean"
             ],
             "properties": {
              "DISPLAY_INFO": 0
             }
            }
           ],
           [
            {
             "captionPath": [
              "MemoryScoresAfter.Mean"
             ],
             "namePath": [
              "MemoryScoresAfter.Mean"
             ],
             "properties": {
              "DISPLAY_INFO": 0
             }
            }
           ]
          ]
         },
         {
          "hierarchies": [
           {
            "dimension": "Hierarchies",
            "hierarchy": "Drug"
           }
          ],
          "id": 1,
          "positions": [
           [
            {
             "captionPath": [
              "AllMember"
             ],
             "namePath": [
              "AllMember"
             ],
             "properties": {
              "DISPLAY_INFO": 65539
             }
            }
           ],
           [
            {
             "captionPath": [
              "AllMember",
              "Alprazolam"
             ],
             "namePath": [
              "AllMember",
              "Alprazolam"
             ],
             "properties": {
              "DISPLAY_INFO": 0
             }
            }
           ],
           [
            {
             "captionPath": [
              "AllMember",
              "Sugar"
             ],
             "namePath": [
              "AllMember",
              "Sugar"
             ],
             "properties": {
              "DISPLAY_INFO": 131072
             }
            }
           ],
           [
            {
             "captionPath": [
              "AllMember",
              "Triazolam"
             ],
             "namePath": [
              "AllMember",
              "Triazolam"
             ],
             "properties": {
              "DISPLAY_INFO": 131072
             }
            }
           ]
          ]
         }
        ],
        "cells": [
         {
          "formattedValue": "2.95",
          "ordinal": 0,
          "properties": {
           "BACK_COLOR": null,
           "FONT_FLAGS": 0,
           "FORE_COLOR": null
          },
          "value": 2.954545454545439
         },
         {
          "formattedValue": "57.97",
          "ordinal": 1,
          "properties": {
           "BACK_COLOR": null,
           "FONT_FLAGS": 0,
           "FORE_COLOR": null
          },
          "value": 57.96767676767678
         },
         {
          "formattedValue": "60.92",
          "ordinal": 2,
          "properties": {
           "BACK_COLOR": null,
           "FONT_FLAGS": 0,
           "FORE_COLOR": null
          },
          "value": 60.92222222222222
         },
         {
          "formattedValue": "9.47",
          "ordinal": 3,
          "properties": {
           "BACK_COLOR": null,
           "FONT_FLAGS": 0,
           "FORE_COLOR": null
          },
          "value": 9.470149253731364
         },
         {
          "formattedValue": "58.21",
          "ordinal": 4,
          "properties": {
           "BACK_COLOR": null,
           "FONT_FLAGS": 0,
           "FORE_COLOR": null
          },
          "value": 58.21194029850746
         },
         {
          "formattedValue": "67.68",
          "ordinal": 5,
          "properties": {
           "BACK_COLOR": null,
           "FONT_FLAGS": 0,
           "FORE_COLOR": null
          },
          "value": 67.68208955223882
         },
         {
          "formattedValue": "-0.17",
          "ordinal": 6,
          "properties": {
           "BACK_COLOR": null,
           "FONT_FLAGS": 0,
           "FORE_COLOR": null
          },
          "value": -0.1712121212121076
         },
         {
          "formattedValue": "58.48",
          "ordinal": 7,
          "properties": {
           "BACK_COLOR": null,
           "FONT_FLAGS": 0,
           "FORE_COLOR": null
          },
          "value": 58.48484848484848
         },
         {
          "formattedValue": "58.31",
          "ordinal": 8,
          "properties": {
           "BACK_COLOR": null,
           "FONT_FLAGS": 0,
           "FORE_COLOR": null
          },
          "value": 58.31363636363637
         },
         {
          "formattedValue": "-0.59",
          "ordinal": 9,
          "properties": {
           "BACK_COLOR": null,
           "FONT_FLAGS": 0,
           "FORE_COLOR": null
          },
          "value": -0.5876923076923148
         },
         {
          "formattedValue": "57.19",
          "ordinal": 10,
          "properties": {
           "BACK_COLOR": null,
           "FONT_FLAGS": 0,
           "FORE_COLOR": null
          },
          "value": 57.190769230769234
         },
         {
          "formattedValue": "56.60",
          "ordinal": 11,
          "properties": {
           "BACK_COLOR": null,
           "FONT_FLAGS": 0,
           "FORE_COLOR": null
          },
          "value": 56.60307692307692
         }
        ],
        "cube": "Observations",
        "defaultMembers": [
         {
          "captionPath": [
           "Count"
          ],
          "dimension": "Measures",
          "hierarchy": "Measures",
          "path": [
           "contributors.COUNT"
          ]
         },
         {
          "captionPath": [
           "Base"
          ],
          "dimension": "Epoch",
          "hierarchy": "Epoch",
          "path": [
           "Base"
          ]
         }
        ],
        "epoch": 2
       },
       "cube": "Observations",
       "error": null,
       "name": null,
       "session": "Unnamed"
      },
      "text/html": [
       "<img src=\"data:image/svg+xml;charset=utf8,%3C?xml%20version=%221.0%22%20standalone=%22no%22?%3E%0A%20%20%20%20%3Csvg%20xmlns=%22http://www.w3.org/2000/svg%22%20width=%221541%22%20height=%22191%22%3E%0A%20%20%20%20%20%20%3CforeignObject%20x=%220%22%20y=%220%22%20width=%22100%25%22%20height=%22100%25%22%3E%0A%20%20%20%20%20%20%20%20%3Cstyle%20type=%22text/css%22%3E.css-xsa55j-dock%20%7Bposition:%20relative;%20z-index:%200;%20height:%20100%25;%20background-color:%20rgb(255,%20255,%20255);%20display:%20flex;%20flex-direction:%20column%7D%0A.css-1ibuxvk-DockBody%20%7Bpadding-top:%200px;%20padding-left:%200px;%20padding-right:%200px;%20padding-bottom:%200px;%20flex-grow:%201;%20flex-shrink:%201;%20flex-basis:%200%25;%20box-sizing:%20border-box;%20position:%20relative;%20z-index:%200;%20overflow-x:%20hidden;%20overflow-y:%20hidden%7D%0A.css-14zuz97%20%7Bbackground-image:%20initial;%20background-position-x:%20initial;%20background-position-y:%20initial;%20background-size:%20initial;%20background-repeat-x:%20initial;%20background-repeat-y:%20initial;%20background-attachment:%20initial;%20background-origin:%20initial;%20background-color:%20rgba(0,%200,%200,%200.2);%20z-index:%201;%20box-sizing:%20border-box;%20background-clip:%20padding-box%7D%0A.css-14zuz97.vertical%20%7Bwidth:%2012px;%20margin-top:%200px;%20margin-right:%20-6px;%20margin-bottom:%200px;%20margin-left:%20-6px;%20border-left-width:%205.5px;%20border-left-style:%20solid;%20border-left-color:%20transparent;%20border-right-width:%205.5px;%20border-right-style:%20solid;%20border-right-color:%20transparent;%20cursor:%20col-resize%7D%0A.css-14zuz97.disabled%20%7Bdisplay:%20none%7D%0A.css-1lrljg1-EditorSplitPane%20%7Bbackground-color:%20rgb(255,%20255,%20255);%20flex-grow:%201;%20flex-shrink:%201;%20flex-basis:%200%25;%20margin-right:%200px;%20position:%20relative%7D%0A.css-15fz3t7-EditorSplitPane%20%7Bposition:%20absolute;%20top:%200px;%20bottom:%200px;%20left:%200px;%20right:%200px;%20display:%20flex;%20flex-direction:%20column%7D%0A.css-1ouk3zc-EditorSplitPane%20%7Bbackground-color:%20rgb(255,%20255,%20255);%20flex-grow:%201;%20flex-shrink:%201;%20flex-basis:%200%25%7D%0A.css-1jjvrwi-EditorSplitPane%20%7Bposition:%20absolute;%20top:%200px;%20bottom:%200px;%20left:%200px;%20right:%200px;%20overflow-y:%20auto%7D%0A.css-1k1fxuh-Tabular%20%7Bwidth:%20100%25;%20height:%20100%25;%20position:%20relative%7D%0A.css-10klw3m%20%7Bheight:%20100%25%7D%0A.css-mdjjdg-TabularHeader%20%7Bdisplay:%20flex%7D%0A.css-12nzxaz-PinnedTabularHeaders%20%7Bflex-shrink:%200;%20display:%20flex%7D%0A.css-s4fjko-TabularPinnSeparator%20%7Bwidth:%202px;%20height:%2028px;%20background-color:%20rgb(233,%20233,%20233)%7D%0A.css-5jtkjp-UnpinnedTabularHeaders%20%7Bdisplay:%20flex;%20position:%20absolute;%20left:%200px%7D%0A.css-19w2ip5-TabularHeaderCell%20%7Bcursor:%20default;%20-webkit-box-flex:%201;%20flex-grow:%201;%20flex-shrink:%201;%20box-sizing:%20border-box;%20padding-left:%204px;%20padding-right:%204px;%20padding-top:%204px;%20padding-bottom:%204px;%20height:%20100%25;%20overflow-x:%20hidden;%20overflow-y:%20hidden;%20display:%20flex;%20white-space:%20nowrap;%20-webkit-box-pack:%20start;%20justify-content:%20flex-start;%20align-items:%20flex-start%7D%0A.css-jpazdc-TabularHeaderCell%20%7Boverflow-x:%20hidden;%20overflow-y:%20hidden;%20text-overflow:%20ellipsis%7D%0A.css-y3oqqp%20%7Bfont-size:%2012px;%20line-height:%2022px;%20font-weight:%20600;%20color:%20rgba(0,%200,%200,%200.85)%7D%0A.css-c7y3a7-TabularHeaderCell%20%7Bflex-shrink:%200;%20height:%20100%25;%20display:%20flex;%20-webkit-box-pack:%20center;%20justify-content:%20center%7D%0A.css-1id6sm3-UnpinnedTabularRows%20%7Bposition:%20absolute;%20top:%200px;%20left:%200px%7D%0A.css-3cge9w%20%7Bcursor:%20cell;%20display:%20flex;%20height:%2028px;%20user-select:%20none%7D%0A.css-9ssj44-TreeCell%20%7Bwidth:%20min-content%7D%0A.css-mkrhzq%20%7Bdisplay:%20flex;%20margin-left:%200px%7D%0A.css-8uhtka%20%7Boverflow-x:%20hidden;%20overflow-y:%20hidden;%20text-overflow:%20ellipsis;%20white-space:%20nowrap%7D%0A.css-1q63qjm%20%7Bcolor:%20rgba(0,%200,%200,%200.85);%20display:%20flex;%20box-sizing:%20border-box;%20-webkit-box-align:%20center;%20align-items:%20center;%20height:%2028px;%20position:%20absolute;%20top:%200px;%20left:%200px;%20user-select:%20none;%20font-size:%2012px;%20line-height:%2022px;%20font-weight:%20600;%20border-bottom-width:%202px;%20border-bottom-style:%20solid;%20border-bottom-color:%20rgb(233,%20233,%20233);%20width:%20120px%7D%0A.css-pm742e%20%7Bcursor:%20pointer;%20margin-top:%202px;%20height:%20inherit;%20display:%20flex;%20-webkit-box-align:%20center;%20align-items:%20center;%20font-size:%2010px;%20-webkit-box-pack:%20center;%20justify-content:%20center;%20padding-left:%204px%7D%0A.css-w64vkb-HeaderResizer%20%7Bposition:%20absolute;%20z-index:%201;%20width:%2010px;%20height:%2028px;%20left:%20115px;%20top:%200px;%20cursor:%20col-resize%7D%0A.css-tlxtaa-HeaderResizer%20%7Bposition:%20absolute;%20z-index:%201;%20height:%2010px;%20width:%20120px;%20left:%200px;%20top:%2023px;%20cursor:%20row-resize%7D%0A.css-1i6gc04%20%7Bcursor:%20pointer;%20margin-top:%202px;%20height:%20inherit;%20display:%20flex;%20-webkit-box-align:%20center;%20align-items:%20center;%20font-size:%2010px;%20width:%2016px%7D%0A.css-8r2ljj-PinnedTabularRows%20%7Bposition:%20absolute;%20right:%200px%7D%0A.css-mkoicc-CaptionCellRenderer%20%7Bwidth:%20100%25;%20overflow-x:%20hidden;%20overflow-y:%20hidden;%20text-overflow:%20ellipsis;%20white-space:%20nowrap%7D%0A.css-t881dv-SelectionStatistics%20%7Bheight:%2020px;%20display:%20flex;%20padding-top:%205px;%20opacity:%200;%20transition-duration:%20300ms;%20transition-timing-function:%20ease;%20transition-delay:%200s;%20transition-property:%20opacity;%20position:%20absolute;%20right:%200px;%20left:%20unset%7D%0A.css-8latmz-HeaderResizer%20%7Bposition:%20absolute;%20z-index:%201;%20height:%2010px;%20width:%20120px;%20left:%20120px;%20top:%2023px;%20cursor:%20row-resize%7D%0A.css-11k5ac9-PinnedTabularRows%20%7Bwidth:%202px;%20height:%20112px;%20background-color:%20rgb(233,%20233,%20233)%7D%0A.css-90jv4-TabularHeaderGroup%20%7Bposition:%20relative;%20width:%20300px%7D%0A.css-7fgdvs%20%7Bcolor:%20rgba(0,%200,%200,%200.85);%20display:%20flex;%20box-sizing:%20border-box;%20-webkit-box-align:%20center;%20align-items:%20center;%20height:%2028px;%20position:%20absolute;%20top:%200px;%20left:%200px;%20user-select:%20none;%20font-size:%2012px;%20line-height:%2022px;%20font-weight:%20600;%20border-bottom-width:%202px;%20border-bottom-style:%20solid;%20border-bottom-color:%20rgb(233,%20233,%20233);%20width:%20300px;%20border-right-width:%201px;%20border-right-style:%20solid;%20border-right-color:%20rgb(233,%20233,%20233)%7D%0A.css-1xstd3f-HeaderResizer%20%7Bposition:%20absolute;%20z-index:%201;%20width:%2010px;%20height:%2028px;%20left:%20295px;%20top:%200px;%20cursor:%20col-resize%7D%0A.css-11buol4-HeaderResizer%20%7Bposition:%20absolute;%20z-index:%201;%20height:%2010px;%20width:%20300px;%20left:%200px;%20top:%2023px;%20cursor:%20row-resize%7D%0A.css-dko0re%20%7Bheight:%20100%25;%20box-sizing:%20border-box;%20display:%20flex;%20-webkit-box-pack:%20end;%20justify-content:%20flex-end;%20flex-direction:%20column;%20padding-top:%204px;%20padding-left:%204px;%20padding-right:%204px;%20padding-bottom:%203px;%20overflow-x:%20hidden;%20overflow-y:%20hidden;%20white-space:%20nowrap;%20border-right-width:%201px;%20border-right-style:%20solid;%20border-right-color:%20rgb(233,%20233,%20233);%20border-bottom-width:%20initial;%20border-bottom-style:%20none;%20border-bottom-color:%20initial;%20width:%20300px;%20align-items:%20flex-start%7D%0A.css-1vx52ag-UnpinnedTabularHeaders%20%7Boverflow-x:%20hidden;%20overflow-y:%20hidden;%20position:%20relative;%20width:%201241px;%20height:%2028px%7D%0A.css-lp3bnm%20%7Bcolor:%20rgba(0,%200,%200,%200.85);%20display:%20flex;%20box-sizing:%20border-box;%20-webkit-box-align:%20center;%20align-items:%20center;%20height:%2028px;%20position:%20absolute;%20top:%200px;%20left:%20120px;%20user-select:%20none;%20font-size:%2012px;%20line-height:%2022px;%20font-weight:%20600;%20border-bottom-width:%202px;%20border-bottom-style:%20solid;%20border-bottom-color:%20rgb(233,%20233,%20233);%20width:%20120px%7D%0A.css-y4zo4n-HeaderResizer%20%7Bposition:%20absolute;%20z-index:%201;%20width:%2010px;%20height:%2028px;%20left:%20235px;%20top:%200px;%20cursor:%20col-resize%7D%0A.css-134urz3-PinnedTabularRows%20%7Bposition:%20absolute;%20overflow-x:%20hidden;%20overflow-y:%20hidden;%20top:%200px;%20width:%20300px%7D%0A.css-jyaidn%20%7Bheight:%20100%25;%20box-sizing:%20border-box;%20display:%20flex;%20-webkit-box-pack:%20end;%20justify-content:%20flex-end;%20flex-direction:%20column;%20padding-top:%204px;%20padding-left:%204px;%20padding-right:%204px;%20padding-bottom:%203px;%20overflow-x:%20hidden;%20overflow-y:%20hidden;%20white-space:%20nowrap;%20border-right-width:%201px;%20border-right-style:%20solid;%20border-right-color:%20rgb(233,%20233,%20233);%20border-bottom-width:%20initial;%20border-bottom-style:%20none;%20border-bottom-color:%20initial;%20width:%20300px;%20align-items:%20flex-start;%20background-color:%20rgb(250,%20250,%20250)%7D%0A.css-166mc38%20%7Bheight:%20100%25;%20box-sizing:%20border-box;%20display:%20flex;%20-webkit-box-pack:%20end;%20justify-content:%20flex-end;%20flex-direction:%20column;%20padding-top:%204px;%20padding-left:%204px;%20padding-right:%204px;%20padding-bottom:%203px;%20overflow-x:%20hidden;%20overflow-y:%20hidden;%20white-space:%20nowrap;%20border-right-width:%201px;%20border-right-style:%20solid;%20border-right-color:%20rgb(233,%20233,%20233);%20border-bottom-width:%201px;%20border-bottom-style:%20solid;%20border-bottom-color:%20rgb(233,%20233,%20233);%20width:%20300px;%20align-items:%20flex-start%7D%0A.css-1hcmypl-TabularCell%20%7Bheight:%2028px;%20box-sizing:%20border-box;%20display:%20flex;%20-webkit-box-pack:%20end;%20justify-content:%20flex-end;%20flex-direction:%20column;%20padding-top:%204px;%20padding-left:%204px;%20padding-right:%204px;%20padding-bottom:%203px;%20overflow-x:%20hidden;%20overflow-y:%20hidden;%20white-space:%20nowrap;%20border-right-width:%201px;%20border-right-style:%20solid;%20border-right-color:%20rgb(233,%20233,%20233);%20border-bottom-width:%20initial;%20border-bottom-style:%20none;%20border-bottom-color:%20initial;%20width:%20120px;%20background-color:%20rgb(250,%20250,%20250);%20cursor:%20cell;%20user-select:%20none;%20text-align:%20right;%20align-items:%20flex-end%7D%0A.css-qazlap-TabularCell%20%7Bheight:%2028px;%20box-sizing:%20border-box;%20display:%20flex;%20-webkit-box-pack:%20end;%20justify-content:%20flex-end;%20flex-direction:%20column;%20padding-top:%204px;%20padding-left:%204px;%20padding-right:%204px;%20padding-bottom:%203px;%20overflow-x:%20hidden;%20overflow-y:%20hidden;%20white-space:%20nowrap;%20border-right-width:%201px;%20border-right-style:%20solid;%20border-right-color:%20rgb(233,%20233,%20233);%20border-bottom-width:%20initial;%20border-bottom-style:%20none;%20border-bottom-color:%20initial;%20width:%20120px;%20cursor:%20cell;%20user-select:%20none;%20text-align:%20right;%20align-items:%20flex-end%7D%0A.css-13vtqji-TabularCell%20%7Bheight:%2028px;%20box-sizing:%20border-box;%20display:%20flex;%20-webkit-box-pack:%20end;%20justify-content:%20flex-end;%20flex-direction:%20column;%20padding-top:%204px;%20padding-left:%204px;%20padding-right:%204px;%20padding-bottom:%203px;%20overflow-x:%20hidden;%20overflow-y:%20hidden;%20white-space:%20nowrap;%20border-right-width:%201px;%20border-right-style:%20solid;%20border-right-color:%20rgb(233,%20233,%20233);%20border-bottom-width:%201px;%20border-bottom-style:%20solid;%20border-bottom-color:%20rgb(233,%20233,%20233);%20width:%20120px;%20cursor:%20cell;%20user-select:%20none;%20text-align:%20right;%20align-items:%20flex-end%7D%0A.css-1fwj2ba-Tabular%20%7Bposition:%20relative;%20height:%20100%25;%20width:%20734px%7D%0A.css-1x6qzd9-TabularHeaderGroup%20%7Bposition:%20relative;%20width:%20415px%7D%0A.css-fp5t7r%20%7Bcolor:%20rgba(0,%200,%200,%200.85);%20display:%20flex;%20box-sizing:%20border-box;%20-webkit-box-align:%20center;%20align-items:%20center;%20height:%2028px;%20position:%20absolute;%20top:%200px;%20left:%20240px;%20user-select:%20none;%20font-size:%2012px;%20line-height:%2022px;%20font-weight:%20600;%20border-bottom-width:%202px;%20border-bottom-style:%20solid;%20border-bottom-color:%20rgb(233,%20233,%20233);%20width:%20175px;%20border-right-width:%201px;%20border-right-style:%20solid;%20border-right-color:%20rgb(233,%20233,%20233)%7D%0A.css-uxfr3i-HeaderResizer%20%7Bposition:%20absolute;%20z-index:%201;%20width:%2010px;%20height:%2028px;%20left:%20410px;%20top:%200px;%20cursor:%20col-resize%7D%0A.css-1vzqu3j-HeaderResizer%20%7Bposition:%20absolute;%20z-index:%201;%20height:%2010px;%20width:%20175px;%20left:%20240px;%20top:%2023px;%20cursor:%20row-resize%7D%0A.css-e477ik-TabularBody%20%7Bposition:%20relative;%20overflow-x:%20hidden;%20overflow-y:%20hidden;%20top:%200px;%20width:%20717px;%20height:%20112px%7D%0A.css-ca96ix-PinnedTabularRows%20%7Bposition:%20absolute;%20height:%20112px;%20width:%20302px;%20overflow-x:%20hidden;%20overflow-y:%20hidden%7D%0A.css-3kfrf-UnpinnedTabularRows%20%7Bposition:%20absolute;%20overflow-x:%20hidden;%20overflow-y:%20hidden;%20left:%20302px;%20height:%20112px;%20width:%20415px%7D%0A.css-zp1mr8-TabularCell%20%7Bheight:%2028px;%20box-sizing:%20border-box;%20display:%20flex;%20-webkit-box-pack:%20end;%20justify-content:%20flex-end;%20flex-direction:%20column;%20padding-top:%204px;%20padding-left:%204px;%20padding-right:%204px;%20padding-bottom:%203px;%20overflow-x:%20hidden;%20overflow-y:%20hidden;%20white-space:%20nowrap;%20border-right-width:%201px;%20border-right-style:%20solid;%20border-right-color:%20rgb(233,%20233,%20233);%20border-bottom-width:%20initial;%20border-bottom-style:%20none;%20border-bottom-color:%20initial;%20width:%20175px;%20background-color:%20rgb(250,%20250,%20250);%20cursor:%20cell;%20user-select:%20none;%20text-align:%20right;%20align-items:%20flex-end%7D%0A.css-1eydvfj-TabularCell%20%7Bheight:%2028px;%20box-sizing:%20border-box;%20display:%20flex;%20-webkit-box-pack:%20end;%20justify-content:%20flex-end;%20flex-direction:%20column;%20padding-top:%204px;%20padding-left:%204px;%20padding-right:%204px;%20padding-bottom:%203px;%20overflow-x:%20hidden;%20overflow-y:%20hidden;%20white-space:%20nowrap;%20border-right-width:%201px;%20border-right-style:%20solid;%20border-right-color:%20rgb(233,%20233,%20233);%20border-bottom-width:%20initial;%20border-bottom-style:%20none;%20border-bottom-color:%20initial;%20width:%20175px;%20cursor:%20cell;%20user-select:%20none;%20text-align:%20right;%20align-items:%20flex-end%7D%0A.css-1op9eev-TabularCell%20%7Bheight:%2028px;%20box-sizing:%20border-box;%20display:%20flex;%20-webkit-box-pack:%20end;%20justify-content:%20flex-end;%20flex-direction:%20column;%20padding-top:%204px;%20padding-left:%204px;%20padding-right:%204px;%20padding-bottom:%203px;%20overflow-x:%20hidden;%20overflow-y:%20hidden;%20white-space:%20nowrap;%20border-right-width:%201px;%20border-right-style:%20solid;%20border-right-color:%20rgb(233,%20233,%20233);%20border-bottom-width:%201px;%20border-bottom-style:%20solid;%20border-bottom-color:%20rgb(233,%20233,%20233);%20width:%20175px;%20cursor:%20cell;%20user-select:%20none;%20text-align:%20right;%20align-items:%20flex-end%7D%0A.ant-root%20html,%20.ant-root%20%7Bwidth:%20100%25;%20height:%20100%25%7D%0A.ant-root%20*,%20.ant-root%20::before,%20.ant-root%20::after%20%7Bbox-sizing:%20border-box%7D%0A.ant-root%20%7Bmargin-top:%200px;%20margin-right:%200px;%20margin-bottom:%200px;%20margin-left:%200px;%20color:%20rgba(0,%200,%200,%200.65);%20font-size:%2014px;%20font-family:%20-apple-system,%20BlinkMacSystemFont,%20%22Segoe%20UI%22,%20%22PingFang%20SC%22,%20%22Hiragino%20Sans%20GB%22,%20%22Microsoft%20YaHei%22,%20%22Helvetica%20Neue%22,%20Helvetica,%20Arial,%20sans-serif,%20%22Apple%20Color%20Emoji%22,%20%22Segoe%20UI%20Emoji%22,%20%22Segoe%20UI%20Symbol%22;%20font-variant-ligatures:%20normal;%20font-variant-numeric:%20tabular-nums;%20font-variant-east-asian:%20normal;%20font-variant-caps:%20normal;%20line-height:%201.5;%20background-color:%20rgb(255,%20255,%20255);%20font-feature-settings:%20%22tnum%22;%20--antd-wave-shadow-color:%20undefined%7D%0A.ant-root%20.ant-typography%20%7Bcolor:%20rgba(0,%200,%200,%200.65)%7D%0A.css-1sxolix-Widget%20%7Bheight:%20100%25%7D%0A.css-1sxolix-Widget%20.ant-root:not(.atoti-widget-chooser)%20%7Bbox-shadow:%20none%7D%3C/style%3E%0A%20%20%20%20%20%20%20%20%3Cdiv%20xmlns=%22http://www.w3.org/1999/xhtml%22%20style=%22height:%20191px;%20width:%201541px%22%3E%0A%20%20%20%20%20%20%20%20%20%20%3Cdiv%20xmlns=%22http://www.w3.org/1999/xhtml%22%20class=%22css-1sxolix-Widget%22%3E%3Cdiv%20class=%22ant-root%20css-xsa55j-dock%22%3E%3Cdiv%20class=%22css-1ibuxvk-DockBody%22%3E%3Cdiv%20class=%22SplitPane%20%20vertical%20disabled%22%20style=%22display:%20flex;%20flex:%201%201%200%25;%20height:%20100%25;%20position:%20relative;%20outline:%20none;%20overflow:%20hidden;%20user-select:%20text;%20flex-direction:%20row;%20left:%200px;%20right:%200px;%22%3E%3Cdiv%20class=%22Pane%20vertical%20Pane1%20%20%22%20style=%22flex:%201%201%200%25;%20position:%20relative;%20outline:%20none;%20display:%20flex;%20background-color:%20rgb(255,%20255,%20255);%22%3E%3Cdiv%20class=%22css-1lrljg1-EditorSplitPane%22%3E%3Cdiv%20class=%22css-15fz3t7-EditorSplitPane%22%3E%3Cdiv%20class=%22css-1k1fxuh-Tabular%22%3E%3Cdiv%20class=%22css-10klw3m%22%3E%3Cdiv%20tabindex=%220%22%20class=%22css-1fwj2ba-Tabular%22%3E%3Cdiv%20class=%22css-192kvjv-Tabular%22%3E%3Cdiv%20class=%22css-mdjjdg-TabularHeader%22%3E%3Cdiv%20class=%22css-12nzxaz-PinnedTabularHeaders%22%3E%3Cdiv%20class=%22css-90jv4-TabularHeaderGroup%22%3E%3Cdiv%20class=%22css-7fgdvs%22%3E%3Cdiv%20class=%22css-19w2ip5-TabularHeaderCell%22%3E%3Cspan%20class=%22css-jpazdc-TabularHeaderCell%22%3E%3Cspan%3E%3Cspan%3E%3Cspan%20class=%22css-y3oqqp%22%3EDrug%3C/span%3E%3C/span%3E%3C/span%3E%3C/span%3E%3C/div%3E%3Cdiv%20class=%22css-c7y3a7-TabularHeaderCell%22%3E%3C/div%3E%3C/div%3E%3Cdiv%20class=%22css-1xstd3f-HeaderResizer%22%3E%3C/div%3E%3Cdiv%20class=%22css-11buol4-HeaderResizer%22%3E%3C/div%3E%3C/div%3E%3Cdiv%20class=%22css-s4fjko-TabularPinnSeparator%22%3E%3C/div%3E%3C/div%3E%3Cdiv%20class=%22css-1vx52ag-UnpinnedTabularHeaders%22%3E%3Cdiv%20class=%22css-5jtkjp-UnpinnedTabularHeaders%22%3E%3Cdiv%20class=%22css-1x6qzd9-TabularHeaderGroup%22%3E%3Cdiv%20class=%22css-1q63qjm%22%3E%3Cdiv%20class=%22css-pm742e%22%3E%3C/div%3E%3Cdiv%20class=%22css-19w2ip5-TabularHeaderCell%22%3E%3Cspan%20class=%22css-jpazdc-TabularHeaderCell%22%3E%3Cspan%3EDiff.Mean%3C/span%3E%3C/span%3E%3C/div%3E%3Cdiv%20class=%22css-c7y3a7-TabularHeaderCell%22%3E%3C/div%3E%3C/div%3E%3Cdiv%20class=%22css-w64vkb-HeaderResizer%22%3E%3C/div%3E%3Cdiv%20class=%22css-tlxtaa-HeaderResizer%22%3E%3C/div%3E%3Cdiv%20class=%22css-lp3bnm%22%3E%3Cdiv%20class=%22css-pm742e%22%3E%3C/div%3E%3Cdiv%20class=%22css-19w2ip5-TabularHeaderCell%22%3E%3Cspan%20class=%22css-jpazdc-TabularHeaderCell%22%3E%3Cspan%3EMemoryScoresBefore.Mean%3C/span%3E%3C/span%3E%3C/div%3E%3Cdiv%20class=%22css-c7y3a7-TabularHeaderCell%22%3E%3C/div%3E%3C/div%3E%3Cdiv%20class=%22css-y4zo4n-HeaderResizer%22%3E%3C/div%3E%3Cdiv%20class=%22css-8latmz-HeaderResizer%22%3E%3C/div%3E%3Cdiv%20class=%22css-fp5t7r%22%3E%3Cdiv%20class=%22css-pm742e%22%3E%3C/div%3E%3Cdiv%20class=%22css-19w2ip5-TabularHeaderCell%22%3E%3Cspan%20class=%22css-jpazdc-TabularHeaderCell%22%3E%3Cspan%3EMemoryScoresAfter.Mean%3C/span%3E%3C/span%3E%3C/div%3E%3Cdiv%20class=%22css-c7y3a7-TabularHeaderCell%22%3E%3C/div%3E%3C/div%3E%3Cdiv%20class=%22css-uxfr3i-HeaderResizer%22%3E%3C/div%3E%3Cdiv%20class=%22css-1vzqu3j-HeaderResizer%22%3E%3C/div%3E%3C/div%3E%3C/div%3E%3C/div%3E%3C/div%3E%3Cdiv%20class=%22css-e477ik-TabularBody%22%3E%3Cdiv%20class=%22css-ca96ix-PinnedTabularRows%22%3E%3Cdiv%20class=%22css-134urz3-PinnedTabularRows%22%3E%3Cdiv%20class=%22css-3cge9w%22%3E%3Cdiv%3E%3Cdiv%20class=%22css-jyaidn%22%3E%3Cdiv%20class=%22css-9ssj44-TreeCell%22%3E%3Cdiv%20class=%22css-mkrhzq%22%3E%3Cspan%20class=%22ant-typography%20css-8uhtka%22%20style=%22font-size:%2012px;%20line-height:%2020px;%20font-weight:%20600;%20color:%20rgba(0,%200,%200,%200.85);%22%3ETotal%20Drug%3C/span%3E%3C/div%3E%3C/div%3E%3C/div%3E%3C/div%3E%3C/div%3E%3Cdiv%20class=%22css-3cge9w%22%3E%3Cdiv%3E%3Cdiv%20class=%22css-dko0re%22%3E%3Cdiv%20class=%22css-9ssj44-TreeCell%22%3E%3Cdiv%20class=%22css-mkrhzq%22%3E%3Cdiv%20class=%22css-1i6gc04%22%3E%3C/div%3E%3Cspan%20class=%22ant-typography%20css-8uhtka%22%20style=%22font-size:%2012px;%20line-height:%2020px;%20font-weight:%20600;%20color:%20rgba(0,%200,%200,%200.85);%22%3EAlprazolam%3C/span%3E%3C/div%3E%3C/div%3E%3C/div%3E%3C/div%3E%3C/div%3E%3Cdiv%20class=%22css-3cge9w%22%3E%3Cdiv%3E%3Cdiv%20class=%22css-jyaidn%22%3E%3Cdiv%20class=%22css-9ssj44-TreeCell%22%3E%3Cdiv%20class=%22css-mkrhzq%22%3E%3Cdiv%20class=%22css-1i6gc04%22%3E%3C/div%3E%3Cspan%20class=%22ant-typography%20css-8uhtka%22%20style=%22font-size:%2012px;%20line-height:%2020px;%20font-weight:%20600;%20color:%20rgba(0,%200,%200,%200.85);%22%3ESugar%3C/span%3E%3C/div%3E%3C/div%3E%3C/div%3E%3C/div%3E%3C/div%3E%3Cdiv%20class=%22css-3cge9w%22%3E%3Cdiv%3E%3Cdiv%20class=%22css-166mc38%22%3E%3Cdiv%20class=%22css-9ssj44-TreeCell%22%3E%3Cdiv%20class=%22css-mkrhzq%22%3E%3Cdiv%20class=%22css-1i6gc04%22%3E%3C/div%3E%3Cspan%20class=%22ant-typography%20css-8uhtka%22%20style=%22font-size:%2012px;%20line-height:%2020px;%20font-weight:%20600;%20color:%20rgba(0,%200,%200,%200.85);%22%3ETriazolam%3C/span%3E%3C/div%3E%3C/div%3E%3C/div%3E%3C/div%3E%3C/div%3E%3C/div%3E%3Cdiv%20class=%22css-8r2ljj-PinnedTabularRows%22%3E%3Cdiv%20class=%22css-11k5ac9-PinnedTabularRows%22%3E%3C/div%3E%3C/div%3E%3C/div%3E%3Cdiv%20class=%22css-3kfrf-UnpinnedTabularRows%22%3E%3Cdiv%20class=%22css-1id6sm3-UnpinnedTabularRows%22%3E%3Cdiv%20class=%22css-3cge9w%22%3E%3Cdiv%3E%3Cdiv%20class=%22%20css-1hcmypl-TabularCell%22%3E%3Cspan%20class=%22css-mkoicc-CaptionCellRenderer%22%3E%3Cspan%3E%3Cspan%20class=%22ant-typography%22%20style=%22font-size:%2012px;%20line-height:%2020px;%20font-weight:%20400;%22%3E2.95%3C/span%3E%3C/span%3E%3C/span%3E%3C/div%3E%3C/div%3E%3Cdiv%3E%3Cdiv%20class=%22%20css-1hcmypl-TabularCell%22%3E%3Cspan%20class=%22css-mkoicc-CaptionCellRenderer%22%3E%3Cspan%3E%3Cspan%20class=%22ant-typography%22%20style=%22font-size:%2012px;%20line-height:%2020px;%20font-weight:%20400;%22%3E57.97%3C/span%3E%3C/span%3E%3C/span%3E%3C/div%3E%3C/div%3E%3Cdiv%3E%3Cdiv%20class=%22%20css-zp1mr8-TabularCell%22%3E%3Cspan%20class=%22css-mkoicc-CaptionCellRenderer%22%3E%3Cspan%3E%3Cspan%20class=%22ant-typography%22%20style=%22font-size:%2012px;%20line-height:%2020px;%20font-weight:%20400;%22%3E60.92%3C/span%3E%3C/span%3E%3C/span%3E%3C/div%3E%3C/div%3E%3C/div%3E%3Cdiv%20class=%22css-3cge9w%22%3E%3Cdiv%3E%3Cdiv%20class=%22%20css-qazlap-TabularCell%22%3E%3Cspan%20class=%22css-mkoicc-CaptionCellRenderer%22%3E%3Cspan%3E%3Cspan%20class=%22ant-typography%22%20style=%22font-size:%2012px;%20line-height:%2020px;%20font-weight:%20400;%22%3E9.47%3C/span%3E%3C/span%3E%3C/span%3E%3C/div%3E%3C/div%3E%3Cdiv%3E%3Cdiv%20class=%22%20css-qazlap-TabularCell%22%3E%3Cspan%20class=%22css-mkoicc-CaptionCellRenderer%22%3E%3Cspan%3E%3Cspan%20class=%22ant-typography%22%20style=%22font-size:%2012px;%20line-height:%2020px;%20font-weight:%20400;%22%3E58.21%3C/span%3E%3C/span%3E%3C/span%3E%3C/div%3E%3C/div%3E%3Cdiv%3E%3Cdiv%20class=%22%20css-1eydvfj-TabularCell%22%3E%3Cspan%20class=%22css-mkoicc-CaptionCellRenderer%22%3E%3Cspan%3E%3Cspan%20class=%22ant-typography%22%20style=%22font-size:%2012px;%20line-height:%2020px;%20font-weight:%20400;%22%3E67.68%3C/span%3E%3C/span%3E%3C/span%3E%3C/div%3E%3C/div%3E%3C/div%3E%3Cdiv%20class=%22css-3cge9w%22%3E%3Cdiv%3E%3Cdiv%20class=%22%20css-1hcmypl-TabularCell%22%3E%3Cspan%20class=%22css-mkoicc-CaptionCellRenderer%22%3E%3Cspan%3E%3Cspan%20class=%22ant-typography%22%20style=%22font-size:%2012px;%20line-height:%2020px;%20font-weight:%20400;%22%3E-0.17%3C/span%3E%3C/span%3E%3C/span%3E%3C/div%3E%3C/div%3E%3Cdiv%3E%3Cdiv%20class=%22%20css-1hcmypl-TabularCell%22%3E%3Cspan%20class=%22css-mkoicc-CaptionCellRenderer%22%3E%3Cspan%3E%3Cspan%20class=%22ant-typography%22%20style=%22font-size:%2012px;%20line-height:%2020px;%20font-weight:%20400;%22%3E58.48%3C/span%3E%3C/span%3E%3C/span%3E%3C/div%3E%3C/div%3E%3Cdiv%3E%3Cdiv%20class=%22%20css-zp1mr8-TabularCell%22%3E%3Cspan%20class=%22css-mkoicc-CaptionCellRenderer%22%3E%3Cspan%3E%3Cspan%20class=%22ant-typography%22%20style=%22font-size:%2012px;%20line-height:%2020px;%20font-weight:%20400;%22%3E58.31%3C/span%3E%3C/span%3E%3C/span%3E%3C/div%3E%3C/div%3E%3C/div%3E%3Cdiv%20class=%22css-3cge9w%22%3E%3Cdiv%3E%3Cdiv%20class=%22%20css-13vtqji-TabularCell%22%3E%3Cspan%20class=%22css-mkoicc-CaptionCellRenderer%22%3E%3Cspan%3E%3Cspan%20class=%22ant-typography%22%20style=%22font-size:%2012px;%20line-height:%2020px;%20font-weight:%20400;%22%3E-0.59%3C/span%3E%3C/span%3E%3C/span%3E%3C/div%3E%3C/div%3E%3Cdiv%3E%3Cdiv%20class=%22%20css-13vtqji-TabularCell%22%3E%3Cspan%20class=%22css-mkoicc-CaptionCellRenderer%22%3E%3Cspan%3E%3Cspan%20class=%22ant-typography%22%20style=%22font-size:%2012px;%20line-height:%2020px;%20font-weight:%20400;%22%3E57.19%3C/span%3E%3C/span%3E%3C/span%3E%3C/div%3E%3C/div%3E%3Cdiv%3E%3Cdiv%20class=%22%20css-1op9eev-TabularCell%22%3E%3Cspan%20class=%22css-mkoicc-CaptionCellRenderer%22%3E%3Cspan%3E%3Cspan%20class=%22ant-typography%22%20style=%22font-size:%2012px;%20line-height:%2020px;%20font-weight:%20400;%22%3E56.60%3C/span%3E%3C/span%3E%3C/span%3E%3C/div%3E%3C/div%3E%3C/div%3E%3C/div%3E%3C/div%3E%3C/div%3E%3C/div%3E%3Cdiv%20class=%22css-t881dv-SelectionStatistics%22%3E%3C/div%3E%3C/div%3E%3C/div%3E%3C/div%3E%3C/div%3E%3C/div%3E%3C/div%3E%3Cspan%20role=%22presentation%22%20class=%22css-14zuz97%20Resizer%20vertical%20disabled%22%3E%3C/span%3E%3Cdiv%20class=%22Pane%20vertical%20Pane2%20%20%22%20style=%22flex:%200%200%20auto;%20position:%20relative;%20outline:%20none;%20width:%200px;%20display:%20flex;%20background-color:%20rgb(255,%20255,%20255);%20overflow:%20auto;%22%3E%3Cdiv%20class=%22css-1ouk3zc-EditorSplitPane%22%3E%3Cdiv%20class=%22css-1jjvrwi-EditorSplitPane%22%3E%3C/div%3E%3C/div%3E%3C/div%3E%3C/div%3E%3C/div%3E%3C/div%3E%3C/div%3E%0A%20%20%20%20%20%20%20%20%3C/div%3E%0A%20%20%20%20%20%20%3C/foreignObject%3E%0A%20%20%20%20%3C/svg%3E\">"
      ],
      "text/plain": [
       "Open the notebook in JupyterLab with the atoti extension installed and enabled to see this widget."
      ]
     },
     "metadata": {},
     "output_type": "display_data"
    }
   ],
   "source": [
    "cube.visualize()"
   ]
  },
  {
   "cell_type": "code",
   "execution_count": 20,
   "metadata": {},
   "outputs": [],
   "source": [
    "# Computing standard deviation of differences:\n",
    "m[\"Diff.Std\"] = tt.agg.std(m[\"Diff.Mean\"], scope=tt.scope.origin(l[\"Patient_Id\"]))\n",
    "\n",
    "# Number of patients observed - each patient has 2 records, one for before and another for after\n",
    "m[\"Number of observations\"] = tt.agg.count_distinct(\n",
    "    observations_datastore[\"Patient_Id\"]\n",
    ")\n",
    "\n",
    "# Computing the t-statistic per formula above:\n",
    "m[\"t-statistic\"] = m[\"Diff.Mean\"] / (\n",
    "    m[\"Diff.Std\"] / tt.sqrt(m[\"Number of observations\"])\n",
    ")\n",
    "m[\"t-statistic\"].formatter = \"DOUBLE[0.00]\""
   ]
  },
  {
   "cell_type": "markdown",
   "metadata": {},
   "source": [
    "We will be comparing the `t-statistic` to the right tail _critical value_, and if it's above the critical value, we will conclude that the data provides the evidence to reject the null hypothesis. Let's load 95% critical values for different [degrees of freedom](https://en.wikipedia.org/wiki/Degrees_of_freedom_(statistics)) into the cube.\n",
    "\n",
    "![t-test table](./t-test-table.jpg)\n",
    "\n",
    "Now, depending on the number of observations for each cell, we will pick a critical value and visualize it as a measure:"
   ]
  },
  {
   "cell_type": "code",
   "execution_count": 21,
   "metadata": {},
   "outputs": [],
   "source": [
    "# Loading a \"table\" of critical values, 101 values in total.\n",
    "# For experiments with more than 101 degrees of freedom, we approximate the critical value, for 95% confidence - with value 1.960.\n",
    "m[\"t-critical values list\"] = [t.ppf(0.95, d) for d in range(1, 101)] + [1.96]\n",
    "\n",
    "# Computing degrees of freedom as the number of observations minus 1:\n",
    "degrees_of_freedom = m[\"Number of observations\"] - 1\n",
    "\n",
    "# Shifting the df by -1 to use as an index and look up critical value from the list:\n",
    "df_as_index = degrees_of_freedom - 1\n",
    "\n",
    "# If there're too many observations (more than 101), we'll cap it:\n",
    "capped_df_as_index = tt.where(df_as_index > 100, 100, df_as_index)\n",
    "\n",
    "# This measure will be looking up a critical value for the current scope:\n",
    "m[\"t-critical\"] = m[\"t-critical values list\"][capped_df_as_index]"
   ]
  },
  {
   "cell_type": "markdown",
   "metadata": {},
   "source": [
    "This measure is displaying whether the observed t-statistics is to the right from the critical value, i.e. there's evidence that H0 can be rejected. It will visualize the result of t-test every time we expand and collapse data:"
   ]
  },
  {
   "cell_type": "code",
   "execution_count": 22,
   "metadata": {},
   "outputs": [],
   "source": [
    "m[\"Test Result\"] = tt.where(\n",
    "    m[\"t-statistic\"] > m[\"t-critical\"], \"H0 rejected\", \"Can't reject H0\"\n",
    ")"
   ]
  },
  {
   "cell_type": "markdown",
   "metadata": {},
   "source": [
    "In the next session we'll see how to use the measure created above to visualize the test result."
   ]
  },
  {
   "cell_type": "markdown",
   "metadata": {},
   "source": [
    "# Interactive hypothesis testing"
   ]
  },
  {
   "cell_type": "markdown",
   "metadata": {},
   "source": [
    "Now we can experiment and re-group our data and apply the test interactively:\n",
    "\n",
    "- **\"H0 rejected\"** will mean that the data provides evidence that mean difference is not 0, meaning, there's a statistically significant impact of treatment onto the memory scores.\n",
    "- **\"Can't reject H0\"** will mean that t-statistic is smaller than the critical value, and we can't reject the null hypothesis.\n",
    "\n",
    "We expand by the name of the drug, then by dosages, then by patient \"Happy/Sad\" group, and this is what we found out:\n",
    "\n",
    "- there's an evidence that **Drug Aprazolam** had impact on the memory scores (response time), while Sugar and Triazolam did not, \n",
    "- when we break down the Drug Aprazolam observations **by dosage** -  we notice that only the dosages 1 and 2 are statistically significant, \n",
    "- if we further expand to \"Happy/Sad\" group, and for the \"Happy\" patients only the higher dosage impacted the memory score."
   ]
  },
  {
   "cell_type": "code",
   "execution_count": 23,
   "metadata": {
    "atoti": {
     "state": {
      "name": "",
      "type": "container",
      "value": {
       "body": {
        "configuration": {
         "tabular": {
          "addButtonFilter": "numeric",
          "cellRenderers": [
           "tree-layout"
          ],
          "columns": [
           {
            "key": "c-treeCells-member",
            "width": 153
           }
          ],
          "columnsGroups": [
           {
            "captionProducer": "firstColumn",
            "cellFactory": "kpi-status",
            "selector": "kpi-status"
           },
           {
            "captionProducer": "firstColumn",
            "cellFactory": "lookup",
            "selector": "lookup"
           },
           {
            "captionProducer": "expiry",
            "cellFactory": "expiry",
            "selector": "kpi-expiry"
           },
           {
            "captionProducer": "columnMerge",
            "cellFactory": {
             "args": {},
             "key": "treeCells"
            },
            "selector": "member"
           }
          ],
          "defaultOptions": {
           "headerHeight": 58
          },
          "expansion": {
           "automaticExpansion": true
          },
          "hideAddButton": true,
          "pinnedHeaderSelector": "member",
          "sortingMode": "non-breaking",
          "statisticsShown": true
         }
        },
        "contextValues": {},
        "mdx": "WITH  Member [Measures].[Test Result (1)] AS [Measures].[Test Result], BACK_COLOR = CASE WHEN [Measures].[Test Result (1)] = \"H0 rejected\" THEN rgb(217, 234, 211) END, CAPTION = [Measures].[Test Result].MEMBER_CAPTION  SELECT NON EMPTY {[Measures].[Test Result (1)], [Measures].[t-statistic], [Measures].[t-critical], [Measures].[Number of observations], [Measures].[Diff.Mean], [Measures].[MemoryScoresAfter.Mean], [Measures].[MemoryScoresBefore.Mean]} ON COLUMNS, NON EMPTY Hierarchize(Crossjoin(Union(DrilldownLevel([Hierarchies].[Drug].[ALL].[AllMember]), [Hierarchies].[Drug].[ALL].[AllMember].[A], [Hierarchies].[Drug].[ALL].[AllMember].[S], [Hierarchies].[Drug].[ALL].[AllMember].[Aprazolam]), [Hierarchies].[Happy_Sad_group].[Happy_Sad_group].Members)) ON ROWS FROM [Observations] CELL PROPERTIES BACK_COLOR, FONT_FLAGS, FORE_COLOR, FORMATTED_VALUE, VALUE",
        "ranges": {
         "column": {
          "chunkSize": 50,
          "thresholdPercentage": 0.2
         },
         "row": {
          "chunkSize": 2000,
          "thresholdPercentage": 0.1
         }
        },
        "serverUrl": ""
       },
       "containerKey": "pivot-table",
       "showTitleBar": false,
       "style": {}
      }
     }
    }
   },
   "outputs": [
    {
     "data": {
      "application/vnd.atoti.v0+json": {
       "cellSet": {
        "axes": [
         {
          "hierarchies": [
           {
            "dimension": "Measures",
            "hierarchy": "Measures"
           }
          ],
          "id": 0,
          "positions": [
           [
            {
             "captionPath": [
              "Test Result"
             ],
             "namePath": [
              "Test Result (1)"
             ],
             "properties": {
              "DISPLAY_INFO": 0
             }
            }
           ],
           [
            {
             "captionPath": [
              "t-statistic"
             ],
             "namePath": [
              "t-statistic"
             ],
             "properties": {
              "DISPLAY_INFO": 0
             }
            }
           ],
           [
            {
             "captionPath": [
              "t-critical"
             ],
             "namePath": [
              "t-critical"
             ],
             "properties": {
              "DISPLAY_INFO": 0
             }
            }
           ],
           [
            {
             "captionPath": [
              "Number of observations"
             ],
             "namePath": [
              "Number of observations"
             ],
             "properties": {
              "DISPLAY_INFO": 0
             }
            }
           ],
           [
            {
             "captionPath": [
              "Diff.Mean"
             ],
             "namePath": [
              "Diff.Mean"
             ],
             "properties": {
              "DISPLAY_INFO": 0
             }
            }
           ],
           [
            {
             "captionPath": [
              "MemoryScoresAfter.Mean"
             ],
             "namePath": [
              "MemoryScoresAfter.Mean"
             ],
             "properties": {
              "DISPLAY_INFO": 0
             }
            }
           ],
           [
            {
             "captionPath": [
              "MemoryScoresBefore.Mean"
             ],
             "namePath": [
              "MemoryScoresBefore.Mean"
             ],
             "properties": {
              "DISPLAY_INFO": 0
             }
            }
           ]
          ]
         },
         {
          "hierarchies": [
           {
            "dimension": "Hierarchies",
            "hierarchy": "Drug"
           },
           {
            "dimension": "Hierarchies",
            "hierarchy": "Happy_Sad_group"
           }
          ],
          "id": 1,
          "positions": [
           [
            {
             "captionPath": [
              "AllMember",
              "Alprazolam"
             ],
             "namePath": [
              "AllMember",
              "Alprazolam"
             ],
             "properties": {
              "DISPLAY_INFO": 0
             }
            },
            {
             "captionPath": [
              "AllMember",
              "Happy"
             ],
             "namePath": [
              "AllMember",
              "Happy"
             ],
             "properties": {
              "DISPLAY_INFO": 0
             }
            }
           ],
           [
            {
             "captionPath": [
              "AllMember",
              "Alprazolam"
             ],
             "namePath": [
              "AllMember",
              "Alprazolam"
             ],
             "properties": {
              "DISPLAY_INFO": 131072
             }
            },
            {
             "captionPath": [
              "AllMember",
              "Sad"
             ],
             "namePath": [
              "AllMember",
              "Sad"
             ],
             "properties": {
              "DISPLAY_INFO": 131072
             }
            }
           ],
           [
            {
             "captionPath": [
              "AllMember",
              "Sugar"
             ],
             "namePath": [
              "AllMember",
              "Sugar"
             ],
             "properties": {
              "DISPLAY_INFO": 131072
             }
            },
            {
             "captionPath": [
              "AllMember",
              "Happy"
             ],
             "namePath": [
              "AllMember",
              "Happy"
             ],
             "properties": {
              "DISPLAY_INFO": 131072
             }
            }
           ],
           [
            {
             "captionPath": [
              "AllMember",
              "Sugar"
             ],
             "namePath": [
              "AllMember",
              "Sugar"
             ],
             "properties": {
              "DISPLAY_INFO": 131072
             }
            },
            {
             "captionPath": [
              "AllMember",
              "Sad"
             ],
             "namePath": [
              "AllMember",
              "Sad"
             ],
             "properties": {
              "DISPLAY_INFO": 131072
             }
            }
           ],
           [
            {
             "captionPath": [
              "AllMember",
              "Triazolam"
             ],
             "namePath": [
              "AllMember",
              "Triazolam"
             ],
             "properties": {
              "DISPLAY_INFO": 131072
             }
            },
            {
             "captionPath": [
              "AllMember",
              "Happy"
             ],
             "namePath": [
              "AllMember",
              "Happy"
             ],
             "properties": {
              "DISPLAY_INFO": 131072
             }
            }
           ],
           [
            {
             "captionPath": [
              "AllMember",
              "Triazolam"
             ],
             "namePath": [
              "AllMember",
              "Triazolam"
             ],
             "properties": {
              "DISPLAY_INFO": 131072
             }
            },
            {
             "captionPath": [
              "AllMember",
              "Sad"
             ],
             "namePath": [
              "AllMember",
              "Sad"
             ],
             "properties": {
              "DISPLAY_INFO": 131072
             }
            }
           ]
          ]
         }
        ],
        "cells": [
         {
          "formattedValue": "H0 rejected",
          "ordinal": 0,
          "properties": {
           "BACK_COLOR": 13888217,
           "FONT_FLAGS": 0,
           "FORE_COLOR": null
          },
          "value": "H0 rejected"
         },
         {
          "formattedValue": "3.61",
          "ordinal": 1,
          "properties": {
           "BACK_COLOR": null,
           "FONT_FLAGS": 0,
           "FORE_COLOR": null
          },
          "value": 3.611093913948524
         },
         {
          "formattedValue": "1.69",
          "ordinal": 2,
          "properties": {
           "BACK_COLOR": null,
           "FONT_FLAGS": 0,
           "FORE_COLOR": null
          },
          "value": 1.6938887423906548
         },
         {
          "formattedValue": "33",
          "ordinal": 3,
          "properties": {
           "BACK_COLOR": null,
           "FONT_FLAGS": 0,
           "FORE_COLOR": null
          },
          "value": 33
         },
         {
          "formattedValue": "8.36",
          "ordinal": 4,
          "properties": {
           "BACK_COLOR": null,
           "FONT_FLAGS": 0,
           "FORE_COLOR": null
          },
          "value": 8.363636363636367
         },
         {
          "formattedValue": "65.47",
          "ordinal": 5,
          "properties": {
           "BACK_COLOR": null,
           "FONT_FLAGS": 0,
           "FORE_COLOR": null
          },
          "value": 65.46969696969697
         },
         {
          "formattedValue": "57.11",
          "ordinal": 6,
          "properties": {
           "BACK_COLOR": null,
           "FONT_FLAGS": 0,
           "FORE_COLOR": null
          },
          "value": 57.1060606060606
         },
         {
          "formattedValue": "H0 rejected",
          "ordinal": 7,
          "properties": {
           "BACK_COLOR": 13888217,
           "FONT_FLAGS": 0,
           "FORE_COLOR": null
          },
          "value": "H0 rejected"
         },
         {
          "formattedValue": "4.62",
          "ordinal": 8,
          "properties": {
           "BACK_COLOR": null,
           "FONT_FLAGS": 0,
           "FORE_COLOR": null
          },
          "value": 4.617856944795143
         },
         {
          "formattedValue": "1.69",
          "ordinal": 9,
          "properties": {
           "BACK_COLOR": null,
           "FONT_FLAGS": 0,
           "FORE_COLOR": null
          },
          "value": 1.6923603038977453
         },
         {
          "formattedValue": "34",
          "ordinal": 10,
          "properties": {
           "BACK_COLOR": null,
           "FONT_FLAGS": 0,
           "FORE_COLOR": null
          },
          "value": 34
         },
         {
          "formattedValue": "10.54",
          "ordinal": 11,
          "properties": {
           "BACK_COLOR": null,
           "FONT_FLAGS": 0,
           "FORE_COLOR": null
          },
          "value": 10.544117647058819
         },
         {
          "formattedValue": "69.83",
          "ordinal": 12,
          "properties": {
           "BACK_COLOR": null,
           "FONT_FLAGS": 0,
           "FORE_COLOR": null
          },
          "value": 69.82941176470588
         },
         {
          "formattedValue": "59.29",
          "ordinal": 13,
          "properties": {
           "BACK_COLOR": null,
           "FONT_FLAGS": 0,
           "FORE_COLOR": null
          },
          "value": 59.28529411764706
         },
         {
          "formattedValue": "Can't reject H0",
          "ordinal": 14,
          "properties": {
           "BACK_COLOR": null,
           "FONT_FLAGS": 0,
           "FORE_COLOR": null
          },
          "value": "Can't reject H0"
         },
         {
          "formattedValue": "0.02",
          "ordinal": 15,
          "properties": {
           "BACK_COLOR": null,
           "FONT_FLAGS": 0,
           "FORE_COLOR": null
          },
          "value": 0.02298863746320926
         },
         {
          "formattedValue": "1.69",
          "ordinal": 16,
          "properties": {
           "BACK_COLOR": null,
           "FONT_FLAGS": 0,
           "FORE_COLOR": null
          },
          "value": 1.6938887423906548
         },
         {
          "formattedValue": "33",
          "ordinal": 17,
          "properties": {
           "BACK_COLOR": null,
           "FONT_FLAGS": 0,
           "FORE_COLOR": null
          },
          "value": 33
         },
         {
          "formattedValue": "0.02",
          "ordinal": 18,
          "properties": {
           "BACK_COLOR": null,
           "FONT_FLAGS": 0,
           "FORE_COLOR": null
          },
          "value": 0.02121212121211613
         },
         {
          "formattedValue": "58.34",
          "ordinal": 19,
          "properties": {
           "BACK_COLOR": null,
           "FONT_FLAGS": 0,
           "FORE_COLOR": null
          },
          "value": 58.336363636363636
         },
         {
          "formattedValue": "58.32",
          "ordinal": 20,
          "properties": {
           "BACK_COLOR": null,
           "FONT_FLAGS": 0,
           "FORE_COLOR": null
          },
          "value": 58.31515151515152
         },
         {
          "formattedValue": "Can't reject H0",
          "ordinal": 21,
          "properties": {
           "BACK_COLOR": null,
           "FONT_FLAGS": 0,
           "FORE_COLOR": null
          },
          "value": "Can't reject H0"
         },
         {
          "formattedValue": "-0.23",
          "ordinal": 22,
          "properties": {
           "BACK_COLOR": null,
           "FONT_FLAGS": 0,
           "FORE_COLOR": null
          },
          "value": -0.2251474990390801
         },
         {
          "formattedValue": "1.69",
          "ordinal": 23,
          "properties": {
           "BACK_COLOR": null,
           "FONT_FLAGS": 0,
           "FORE_COLOR": null
          },
          "value": 1.6938887423906548
         },
         {
          "formattedValue": "33",
          "ordinal": 24,
          "properties": {
           "BACK_COLOR": null,
           "FONT_FLAGS": 0,
           "FORE_COLOR": null
          },
          "value": 33
         },
         {
          "formattedValue": "-0.36",
          "ordinal": 25,
          "properties": {
           "BACK_COLOR": null,
           "FONT_FLAGS": 0,
           "FORE_COLOR": null
          },
          "value": -0.36363636363635976
         },
         {
          "formattedValue": "58.29",
          "ordinal": 26,
          "properties": {
           "BACK_COLOR": null,
           "FONT_FLAGS": 0,
           "FORE_COLOR": null
          },
          "value": 58.29090909090909
         },
         {
          "formattedValue": "58.65",
          "ordinal": 27,
          "properties": {
           "BACK_COLOR": null,
           "FONT_FLAGS": 0,
           "FORE_COLOR": null
          },
          "value": 58.65454545454545
         },
         {
          "formattedValue": "Can't reject H0",
          "ordinal": 28,
          "properties": {
           "BACK_COLOR": null,
           "FONT_FLAGS": 0,
           "FORE_COLOR": null
          },
          "value": "Can't reject H0"
         },
         {
          "formattedValue": "-0.12",
          "ordinal": 29,
          "properties": {
           "BACK_COLOR": null,
           "FONT_FLAGS": 0,
           "FORE_COLOR": null
          },
          "value": -0.12407640669231856
         },
         {
          "formattedValue": "1.69",
          "ordinal": 30,
          "properties": {
           "BACK_COLOR": null,
           "FONT_FLAGS": 0,
           "FORE_COLOR": null
          },
          "value": 1.6938887423906548
         },
         {
          "formattedValue": "33",
          "ordinal": 31,
          "properties": {
           "BACK_COLOR": null,
           "FONT_FLAGS": 0,
           "FORE_COLOR": null
          },
          "value": 33
         },
         {
          "formattedValue": "-0.18",
          "ordinal": 32,
          "properties": {
           "BACK_COLOR": null,
           "FONT_FLAGS": 0,
           "FORE_COLOR": null
          },
          "value": -0.18484848484848726
         },
         {
          "formattedValue": "57.92",
          "ordinal": 33,
          "properties": {
           "BACK_COLOR": null,
           "FONT_FLAGS": 0,
           "FORE_COLOR": null
          },
          "value": 57.92424242424242
         },
         {
          "formattedValue": "58.11",
          "ordinal": 34,
          "properties": {
           "BACK_COLOR": null,
           "FONT_FLAGS": 0,
           "FORE_COLOR": null
          },
          "value": 58.10909090909091
         },
         {
          "formattedValue": "Can't reject H0",
          "ordinal": 35,
          "properties": {
           "BACK_COLOR": null,
           "FONT_FLAGS": 0,
           "FORE_COLOR": null
          },
          "value": "Can't reject H0"
         },
         {
          "formattedValue": "-1.07",
          "ordinal": 36,
          "properties": {
           "BACK_COLOR": null,
           "FONT_FLAGS": 0,
           "FORE_COLOR": null
          },
          "value": -1.0676668844033965
         },
         {
          "formattedValue": "1.70",
          "ordinal": 37,
          "properties": {
           "BACK_COLOR": null,
           "FONT_FLAGS": 0,
           "FORE_COLOR": null
          },
          "value": 1.6955187891366663
         },
         {
          "formattedValue": "32",
          "ordinal": 38,
          "properties": {
           "BACK_COLOR": null,
           "FONT_FLAGS": 0,
           "FORE_COLOR": null
          },
          "value": 32
         },
         {
          "formattedValue": "-1.00",
          "ordinal": 39,
          "properties": {
           "BACK_COLOR": null,
           "FONT_FLAGS": 0,
           "FORE_COLOR": null
          },
          "value": -1.0031249999999972
         },
         {
          "formattedValue": "55.24",
          "ordinal": 40,
          "properties": {
           "BACK_COLOR": null,
           "FONT_FLAGS": 0,
           "FORE_COLOR": null
          },
          "value": 55.240624999999994
         },
         {
          "formattedValue": "56.24",
          "ordinal": 41,
          "properties": {
           "BACK_COLOR": null,
           "FONT_FLAGS": 0,
           "FORE_COLOR": null
          },
          "value": 56.24374999999999
         }
        ],
        "cube": "Observations",
        "defaultMembers": [
         {
          "captionPath": [
           "Count"
          ],
          "dimension": "Measures",
          "hierarchy": "Measures",
          "path": [
           "contributors.COUNT"
          ]
         },
         {
          "captionPath": [
           "Base"
          ],
          "dimension": "Epoch",
          "hierarchy": "Epoch",
          "path": [
           "Base"
          ]
         }
        ],
        "epoch": 2
       },
       "cube": "Observations",
       "error": null,
       "name": null,
       "session": "Unnamed"
      },
      "text/html": [
       "<img src=\"data:image/svg+xml;charset=utf8,%3C?xml%20version=%221.0%22%20standalone=%22no%22?%3E%0A%20%20%20%20%3Csvg%20xmlns=%22http://www.w3.org/2000/svg%22%20width=%221541%22%20height=%22360%22%3E%0A%20%20%20%20%20%20%3CforeignObject%20x=%220%22%20y=%220%22%20width=%22100%25%22%20height=%22100%25%22%3E%0A%20%20%20%20%20%20%20%20%3Cstyle%20type=%22text/css%22%3E.css-xsa55j-dock%20%7Bposition:%20relative;%20z-index:%200;%20height:%20100%25;%20background-color:%20rgb(255,%20255,%20255);%20display:%20flex;%20flex-direction:%20column%7D%0A.css-1ibuxvk-DockBody%20%7Bpadding-top:%200px;%20padding-left:%200px;%20padding-right:%200px;%20padding-bottom:%200px;%20flex-grow:%201;%20flex-shrink:%201;%20flex-basis:%200%25;%20box-sizing:%20border-box;%20position:%20relative;%20z-index:%200;%20overflow-x:%20hidden;%20overflow-y:%20hidden%7D%0A.css-14zuz97%20%7Bbackground-image:%20initial;%20background-position-x:%20initial;%20background-position-y:%20initial;%20background-size:%20initial;%20background-repeat-x:%20initial;%20background-repeat-y:%20initial;%20background-attachment:%20initial;%20background-origin:%20initial;%20background-color:%20rgba(0,%200,%200,%200.2);%20z-index:%201;%20box-sizing:%20border-box;%20background-clip:%20padding-box%7D%0A.css-14zuz97.vertical%20%7Bwidth:%2012px;%20margin-top:%200px;%20margin-right:%20-6px;%20margin-bottom:%200px;%20margin-left:%20-6px;%20border-left-width:%205.5px;%20border-left-style:%20solid;%20border-left-color:%20transparent;%20border-right-width:%205.5px;%20border-right-style:%20solid;%20border-right-color:%20transparent;%20cursor:%20col-resize%7D%0A.css-14zuz97.disabled%20%7Bdisplay:%20none%7D%0A.css-1lrljg1-EditorSplitPane%20%7Bbackground-color:%20rgb(255,%20255,%20255);%20flex-grow:%201;%20flex-shrink:%201;%20flex-basis:%200%25;%20margin-right:%200px;%20position:%20relative%7D%0A.css-15fz3t7-EditorSplitPane%20%7Bposition:%20absolute;%20top:%200px;%20bottom:%200px;%20left:%200px;%20right:%200px;%20display:%20flex;%20flex-direction:%20column%7D%0A.css-1ouk3zc-EditorSplitPane%20%7Bbackground-color:%20rgb(255,%20255,%20255);%20flex-grow:%201;%20flex-shrink:%201;%20flex-basis:%200%25%7D%0A.css-1jjvrwi-EditorSplitPane%20%7Bposition:%20absolute;%20top:%200px;%20bottom:%200px;%20left:%200px;%20right:%200px;%20overflow-y:%20auto%7D%0A.css-1k1fxuh-Tabular%20%7Bwidth:%20100%25;%20height:%20100%25;%20position:%20relative%7D%0A.css-10klw3m%20%7Bheight:%20100%25%7D%0A.css-mdjjdg-TabularHeader%20%7Bdisplay:%20flex%7D%0A.css-12nzxaz-PinnedTabularHeaders%20%7Bflex-shrink:%200;%20display:%20flex%7D%0A.css-5jtkjp-UnpinnedTabularHeaders%20%7Bdisplay:%20flex;%20position:%20absolute;%20left:%200px%7D%0A.css-jpazdc-TabularHeaderCell%20%7Boverflow-x:%20hidden;%20overflow-y:%20hidden;%20text-overflow:%20ellipsis%7D%0A.css-y3oqqp%20%7Bfont-size:%2012px;%20line-height:%2022px;%20font-weight:%20600;%20color:%20rgba(0,%200,%200,%200.85)%7D%0A.css-c7y3a7-TabularHeaderCell%20%7Bflex-shrink:%200;%20height:%20100%25;%20display:%20flex;%20-webkit-box-pack:%20center;%20justify-content:%20center%7D%0A.css-1id6sm3-UnpinnedTabularRows%20%7Bposition:%20absolute;%20top:%200px;%20left:%200px%7D%0A.css-3cge9w%20%7Bcursor:%20cell;%20display:%20flex;%20height:%2028px;%20user-select:%20none%7D%0A.css-9ssj44-TreeCell%20%7Bwidth:%20min-content%7D%0A.css-8uhtka%20%7Boverflow-x:%20hidden;%20overflow-y:%20hidden;%20text-overflow:%20ellipsis;%20white-space:%20nowrap%7D%0A.css-pm742e%20%7Bcursor:%20pointer;%20margin-top:%202px;%20height:%20inherit;%20display:%20flex;%20-webkit-box-align:%20center;%20align-items:%20center;%20font-size:%2010px;%20-webkit-box-pack:%20center;%20justify-content:%20center;%20padding-left:%204px%7D%0A.css-1i6gc04%20%7Bcursor:%20pointer;%20margin-top:%202px;%20height:%20inherit;%20display:%20flex;%20-webkit-box-align:%20center;%20align-items:%20center;%20font-size:%2010px;%20width:%2016px%7D%0A.css-iqyuzw%20%7Bdisplay:%20flex;%20margin-left:%2016px%7D%0A.css-8r2ljj-PinnedTabularRows%20%7Bposition:%20absolute;%20right:%200px%7D%0A.css-mkoicc-CaptionCellRenderer%20%7Bwidth:%20100%25;%20overflow-x:%20hidden;%20overflow-y:%20hidden;%20text-overflow:%20ellipsis;%20white-space:%20nowrap%7D%0A.css-t881dv-SelectionStatistics%20%7Bheight:%2020px;%20display:%20flex;%20padding-top:%205px;%20opacity:%200;%20transition-duration:%20300ms;%20transition-timing-function:%20ease;%20transition-delay:%200s;%20transition-property:%20opacity;%20position:%20absolute;%20right:%200px;%20left:%20unset%7D%0A.css-1ag4cda-TabularHeaderCell%20%7Bcursor:%20default;%20-webkit-box-flex:%201;%20flex-grow:%201;%20flex-shrink:%201;%20box-sizing:%20border-box;%20padding-left:%204px;%20padding-right:%204px;%20padding-top:%204px;%20padding-bottom:%204px;%20height:%20100%25;%20overflow-x:%20hidden;%20overflow-y:%20hidden;%20display:%20flex;%20overflow-wrap:%20break-word;%20-webkit-box-pack:%20start;%20justify-content:%20flex-start;%20align-items:%20flex-start%7D%0A.css-1hcmypl-TabularCell%20%7Bheight:%2028px;%20box-sizing:%20border-box;%20display:%20flex;%20-webkit-box-pack:%20end;%20justify-content:%20flex-end;%20flex-direction:%20column;%20padding-top:%204px;%20padding-left:%204px;%20padding-right:%204px;%20padding-bottom:%203px;%20overflow-x:%20hidden;%20overflow-y:%20hidden;%20white-space:%20nowrap;%20border-right-width:%201px;%20border-right-style:%20solid;%20border-right-color:%20rgb(233,%20233,%20233);%20border-bottom-width:%20initial;%20border-bottom-style:%20none;%20border-bottom-color:%20initial;%20width:%20120px;%20background-color:%20rgb(250,%20250,%20250);%20cursor:%20cell;%20user-select:%20none;%20text-align:%20right;%20align-items:%20flex-end%7D%0A.css-qazlap-TabularCell%20%7Bheight:%2028px;%20box-sizing:%20border-box;%20display:%20flex;%20-webkit-box-pack:%20end;%20justify-content:%20flex-end;%20flex-direction:%20column;%20padding-top:%204px;%20padding-left:%204px;%20padding-right:%204px;%20padding-bottom:%203px;%20overflow-x:%20hidden;%20overflow-y:%20hidden;%20white-space:%20nowrap;%20border-right-width:%201px;%20border-right-style:%20solid;%20border-right-color:%20rgb(233,%20233,%20233);%20border-bottom-width:%20initial;%20border-bottom-style:%20none;%20border-bottom-color:%20initial;%20width:%20120px;%20cursor:%20cell;%20user-select:%20none;%20text-align:%20right;%20align-items:%20flex-end%7D%0A.css-qc9d98-TabularCell%20%7Bheight:%2028px;%20box-sizing:%20border-box;%20display:%20flex;%20-webkit-box-pack:%20end;%20justify-content:%20flex-end;%20flex-direction:%20column;%20padding-top:%204px;%20padding-left:%204px;%20padding-right:%204px;%20padding-bottom:%203px;%20overflow-x:%20hidden;%20overflow-y:%20hidden;%20white-space:%20nowrap;%20border-right-width:%201px;%20border-right-style:%20solid;%20border-right-color:%20rgb(233,%20233,%20233);%20border-bottom-width:%20initial;%20border-bottom-style:%20none;%20border-bottom-color:%20initial;%20width:%20120px;%20border-top-width:%201px;%20border-top-style:%20solid;%20border-top-color:%20rgb(233,%20233,%20233);%20cursor:%20cell;%20user-select:%20none;%20text-align:%20right;%20align-items:%20flex-end%7D%0A.css-1utdj85-TabularPinnSeparator%20%7Bwidth:%202px;%20height:%2058px;%20background-color:%20rgb(233,%20233,%20233)%7D%0A.css-19syzzg-TabularHeaderGroup%20%7Bposition:%20relative;%20width:%20153px%7D%0A.css-1u1q9mv%20%7Bcolor:%20rgba(0,%200,%200,%200.85);%20display:%20flex;%20box-sizing:%20border-box;%20-webkit-box-align:%20center;%20align-items:%20center;%20height:%2058px;%20position:%20absolute;%20top:%200px;%20left:%200px;%20user-select:%20none;%20font-size:%2012px;%20line-height:%2022px;%20font-weight:%20600;%20border-bottom-width:%202px;%20border-bottom-style:%20solid;%20border-bottom-color:%20rgb(233,%20233,%20233);%20width:%20153px;%20border-right-width:%201px;%20border-right-style:%20solid;%20border-right-color:%20rgb(233,%20233,%20233)%7D%0A.css-nxcbzd-HeaderResizer%20%7Bposition:%20absolute;%20z-index:%201;%20width:%2010px;%20height:%2058px;%20left:%20148px;%20top:%200px;%20cursor:%20col-resize%7D%0A.css-1e87a1q-HeaderResizer%20%7Bposition:%20absolute;%20z-index:%201;%20height:%2010px;%20width:%20153px;%20left:%200px;%20top:%2053px;%20cursor:%20row-resize%7D%0A.css-26enc9%20%7Bheight:%20100%25;%20box-sizing:%20border-box;%20display:%20flex;%20-webkit-box-pack:%20end;%20justify-content:%20flex-end;%20flex-direction:%20column;%20padding-top:%204px;%20padding-left:%204px;%20padding-right:%204px;%20padding-bottom:%203px;%20overflow-x:%20hidden;%20overflow-y:%20hidden;%20white-space:%20nowrap;%20border-right-width:%201px;%20border-right-style:%20solid;%20border-right-color:%20rgb(233,%20233,%20233);%20border-bottom-width:%20initial;%20border-bottom-style:%20none;%20border-bottom-color:%20initial;%20width:%20153px;%20align-items:%20flex-start%7D%0A.css-m3b6cx-TabularCell%20%7Bheight:%2028px;%20box-sizing:%20border-box;%20display:%20flex;%20-webkit-box-pack:%20end;%20justify-content:%20flex-end;%20flex-direction:%20column;%20padding-top:%204px;%20padding-left:%204px;%20padding-right:%204px;%20padding-bottom:%203px;%20overflow-x:%20hidden;%20overflow-y:%20hidden;%20white-space:%20nowrap;%20border-right-width:%201px;%20border-right-style:%20solid;%20border-right-color:%20rgb(233,%20233,%20233);%20border-bottom-width:%201px;%20border-bottom-style:%20solid;%20border-bottom-color:%20rgb(233,%20233,%20233);%20width:%20120px;%20background-color:%20rgb(250,%20250,%20250);%20cursor:%20cell;%20user-select:%20none;%20text-align:%20right;%20align-items:%20flex-end%7D%0A.css-1t7q2l3-Tabular%20%7Bposition:%20relative;%20height:%20100%25;%20width:%201012px%7D%0A.css-1aq54jc-UnpinnedTabularHeaders%20%7Boverflow-x:%20hidden;%20overflow-y:%20hidden;%20position:%20relative;%20width:%201388px;%20height:%2058px%7D%0A.css-15ph82w-TabularHeaderGroup%20%7Bposition:%20relative;%20width:%20840px%7D%0A.css-att92w%20%7Bcolor:%20rgba(0,%200,%200,%200.85);%20display:%20flex;%20box-sizing:%20border-box;%20-webkit-box-align:%20center;%20align-items:%20center;%20height:%2058px;%20position:%20absolute;%20top:%200px;%20left:%200px;%20user-select:%20none;%20font-size:%2012px;%20line-height:%2022px;%20font-weight:%20600;%20border-bottom-width:%202px;%20border-bottom-style:%20solid;%20border-bottom-color:%20rgb(233,%20233,%20233);%20width:%20120px%7D%0A.css-jees8t-HeaderResizer%20%7Bposition:%20absolute;%20z-index:%201;%20width:%2010px;%20height:%2058px;%20left:%20115px;%20top:%200px;%20cursor:%20col-resize%7D%0A.css-vpo1ln-HeaderResizer%20%7Bposition:%20absolute;%20z-index:%201;%20height:%2010px;%20width:%20120px;%20left:%200px;%20top:%2053px;%20cursor:%20row-resize%7D%0A.css-oygqmi%20%7Bcolor:%20rgba(0,%200,%200,%200.85);%20display:%20flex;%20box-sizing:%20border-box;%20-webkit-box-align:%20center;%20align-items:%20center;%20height:%2058px;%20position:%20absolute;%20top:%200px;%20left:%20120px;%20user-select:%20none;%20font-size:%2012px;%20line-height:%2022px;%20font-weight:%20600;%20border-bottom-width:%202px;%20border-bottom-style:%20solid;%20border-bottom-color:%20rgb(233,%20233,%20233);%20width:%20120px%7D%0A.css-r153iz-HeaderResizer%20%7Bposition:%20absolute;%20z-index:%201;%20width:%2010px;%20height:%2058px;%20left:%20235px;%20top:%200px;%20cursor:%20col-resize%7D%0A.css-1xmr83l-HeaderResizer%20%7Bposition:%20absolute;%20z-index:%201;%20height:%2010px;%20width:%20120px;%20left:%20120px;%20top:%2053px;%20cursor:%20row-resize%7D%0A.css-1wvephh%20%7Bcolor:%20rgba(0,%200,%200,%200.85);%20display:%20flex;%20box-sizing:%20border-box;%20-webkit-box-align:%20center;%20align-items:%20center;%20height:%2058px;%20position:%20absolute;%20top:%200px;%20left:%20240px;%20user-select:%20none;%20font-size:%2012px;%20line-height:%2022px;%20font-weight:%20600;%20border-bottom-width:%202px;%20border-bottom-style:%20solid;%20border-bottom-color:%20rgb(233,%20233,%20233);%20width:%20120px%7D%0A.css-hffvaw-HeaderResizer%20%7Bposition:%20absolute;%20z-index:%201;%20width:%2010px;%20height:%2058px;%20left:%20355px;%20top:%200px;%20cursor:%20col-resize%7D%0A.css-1f671n9-HeaderResizer%20%7Bposition:%20absolute;%20z-index:%201;%20height:%2010px;%20width:%20120px;%20left:%20240px;%20top:%2053px;%20cursor:%20row-resize%7D%0A.css-jtefeo%20%7Bcolor:%20rgba(0,%200,%200,%200.85);%20display:%20flex;%20box-sizing:%20border-box;%20-webkit-box-align:%20center;%20align-items:%20center;%20height:%2058px;%20position:%20absolute;%20top:%200px;%20left:%20360px;%20user-select:%20none;%20font-size:%2012px;%20line-height:%2022px;%20font-weight:%20600;%20border-bottom-width:%202px;%20border-bottom-style:%20solid;%20border-bottom-color:%20rgb(233,%20233,%20233);%20width:%20120px%7D%0A.css-efe0sp-HeaderResizer%20%7Bposition:%20absolute;%20z-index:%201;%20width:%2010px;%20height:%2058px;%20left:%20475px;%20top:%200px;%20cursor:%20col-resize%7D%0A.css-obx4fl-HeaderResizer%20%7Bposition:%20absolute;%20z-index:%201;%20height:%2010px;%20width:%20120px;%20left:%20360px;%20top:%2053px;%20cursor:%20row-resize%7D%0A.css-gm3795%20%7Bcolor:%20rgba(0,%200,%200,%200.85);%20display:%20flex;%20box-sizing:%20border-box;%20-webkit-box-align:%20center;%20align-items:%20center;%20height:%2058px;%20position:%20absolute;%20top:%200px;%20left:%20480px;%20user-select:%20none;%20font-size:%2012px;%20line-height:%2022px;%20font-weight:%20600;%20border-bottom-width:%202px;%20border-bottom-style:%20solid;%20border-bottom-color:%20rgb(233,%20233,%20233);%20width:%20120px%7D%0A.css-1n9snn7-HeaderResizer%20%7Bposition:%20absolute;%20z-index:%201;%20width:%2010px;%20height:%2058px;%20left:%20595px;%20top:%200px;%20cursor:%20col-resize%7D%0A.css-97g8vl-HeaderResizer%20%7Bposition:%20absolute;%20z-index:%201;%20height:%2010px;%20width:%20120px;%20left:%20480px;%20top:%2053px;%20cursor:%20row-resize%7D%0A.css-jqc3jq%20%7Bcolor:%20rgba(0,%200,%200,%200.85);%20display:%20flex;%20box-sizing:%20border-box;%20-webkit-box-align:%20center;%20align-items:%20center;%20height:%2058px;%20position:%20absolute;%20top:%200px;%20left:%20600px;%20user-select:%20none;%20font-size:%2012px;%20line-height:%2022px;%20font-weight:%20600;%20border-bottom-width:%202px;%20border-bottom-style:%20solid;%20border-bottom-color:%20rgb(233,%20233,%20233);%20width:%20120px%7D%0A.css-10of5ny-HeaderResizer%20%7Bposition:%20absolute;%20z-index:%201;%20width:%2010px;%20height:%2058px;%20left:%20715px;%20top:%200px;%20cursor:%20col-resize%7D%0A.css-13avpvu-HeaderResizer%20%7Bposition:%20absolute;%20z-index:%201;%20height:%2010px;%20width:%20120px;%20left:%20600px;%20top:%2053px;%20cursor:%20row-resize%7D%0A.css-fm3q7g%20%7Bcolor:%20rgba(0,%200,%200,%200.85);%20display:%20flex;%20box-sizing:%20border-box;%20-webkit-box-align:%20center;%20align-items:%20center;%20height:%2058px;%20position:%20absolute;%20top:%200px;%20left:%20720px;%20user-select:%20none;%20font-size:%2012px;%20line-height:%2022px;%20font-weight:%20600;%20border-bottom-width:%202px;%20border-bottom-style:%20solid;%20border-bottom-color:%20rgb(233,%20233,%20233);%20width:%20120px;%20border-right-width:%201px;%20border-right-style:%20solid;%20border-right-color:%20rgb(233,%20233,%20233)%7D%0A.css-9vdl6f-HeaderResizer%20%7Bposition:%20absolute;%20z-index:%201;%20width:%2010px;%20height:%2058px;%20left:%20835px;%20top:%200px;%20cursor:%20col-resize%7D%0A.css-xujc1v-HeaderResizer%20%7Bposition:%20absolute;%20z-index:%201;%20height:%2010px;%20width:%20120px;%20left:%20720px;%20top:%2053px;%20cursor:%20row-resize%7D%0A.css-7da080-TabularBody%20%7Bposition:%20relative;%20overflow-x:%20hidden;%20overflow-y:%20hidden;%20top:%200px;%20width:%20995px;%20height:%20252px%7D%0A.css-14ermb7-PinnedTabularRows%20%7Bposition:%20absolute;%20height:%20252px;%20width:%20155px;%20overflow-x:%20hidden;%20overflow-y:%20hidden%7D%0A.css-ggutx1-PinnedTabularRows%20%7Bposition:%20absolute;%20overflow-x:%20hidden;%20overflow-y:%20hidden;%20top:%200px;%20width:%20153px%7D%0A.css-1m1nrkq%20%7Bheight:%20100%25;%20box-sizing:%20border-box;%20display:%20flex;%20-webkit-box-pack:%20end;%20justify-content:%20flex-end;%20flex-direction:%20column;%20padding-top:%204px;%20padding-left:%204px;%20padding-right:%204px;%20padding-bottom:%203px;%20overflow-x:%20hidden;%20overflow-y:%20hidden;%20white-space:%20nowrap;%20border-right-width:%201px;%20border-right-style:%20solid;%20border-right-color:%20rgb(233,%20233,%20233);%20border-bottom-width:%20initial;%20border-bottom-style:%20none;%20border-bottom-color:%20initial;%20width:%20153px;%20align-items:%20flex-start;%20background-color:%20rgb(250,%20250,%20250)%7D%0A.css-wzx22s%20%7Bheight:%20100%25;%20box-sizing:%20border-box;%20display:%20flex;%20-webkit-box-pack:%20end;%20justify-content:%20flex-end;%20flex-direction:%20column;%20padding-top:%204px;%20padding-left:%204px;%20padding-right:%204px;%20padding-bottom:%203px;%20overflow-x:%20hidden;%20overflow-y:%20hidden;%20white-space:%20nowrap;%20border-right-width:%201px;%20border-right-style:%20solid;%20border-right-color:%20rgb(233,%20233,%20233);%20border-bottom-width:%20initial;%20border-bottom-style:%20none;%20border-bottom-color:%20initial;%20width:%20153px;%20align-items:%20flex-start;%20border-top-width:%201px;%20border-top-style:%20solid;%20border-top-color:%20rgb(233,%20233,%20233)%7D%0A.css-19qndfw%20%7Bheight:%20100%25;%20box-sizing:%20border-box;%20display:%20flex;%20-webkit-box-pack:%20end;%20justify-content:%20flex-end;%20flex-direction:%20column;%20padding-top:%204px;%20padding-left:%204px;%20padding-right:%204px;%20padding-bottom:%203px;%20overflow-x:%20hidden;%20overflow-y:%20hidden;%20white-space:%20nowrap;%20border-right-width:%201px;%20border-right-style:%20solid;%20border-right-color:%20rgb(233,%20233,%20233);%20border-bottom-width:%201px;%20border-bottom-style:%20solid;%20border-bottom-color:%20rgb(233,%20233,%20233);%20width:%20153px;%20align-items:%20flex-start;%20background-color:%20rgb(250,%20250,%20250)%7D%0A.css-17u1e8e-PinnedTabularRows%20%7Bwidth:%202px;%20height:%20252px;%20background-color:%20rgb(233,%20233,%20233)%7D%0A.css-14wqj5x-UnpinnedTabularRows%20%7Bposition:%20absolute;%20overflow-x:%20hidden;%20overflow-y:%20hidden;%20left:%20155px;%20height:%20252px;%20width:%20840px%7D%0A.css-k8n4c6-TabularCell%20%7Bheight:%2028px;%20box-sizing:%20border-box;%20display:%20flex;%20-webkit-box-pack:%20end;%20justify-content:%20flex-end;%20flex-direction:%20column;%20padding-top:%204px;%20padding-left:%204px;%20padding-right:%204px;%20padding-bottom:%203px;%20overflow-x:%20hidden;%20overflow-y:%20hidden;%20white-space:%20nowrap;%20border-right-width:%201px;%20border-right-style:%20solid;%20border-right-color:%20rgb(233,%20233,%20233);%20border-bottom-width:%20initial;%20border-bottom-style:%20none;%20border-bottom-color:%20initial;%20width:%20120px;%20cursor:%20cell;%20user-select:%20none;%20text-align:%20right;%20background-color:%20rgb(217,%20234,%20211);%20align-items:%20flex-end%7D%0A.css-10yddu9-TabularCell%20%7Bheight:%2028px;%20box-sizing:%20border-box;%20display:%20flex;%20-webkit-box-pack:%20end;%20justify-content:%20flex-end;%20flex-direction:%20column;%20padding-top:%204px;%20padding-left:%204px;%20padding-right:%204px;%20padding-bottom:%203px;%20overflow-x:%20hidden;%20overflow-y:%20hidden;%20white-space:%20nowrap;%20border-right-width:%201px;%20border-right-style:%20solid;%20border-right-color:%20rgb(233,%20233,%20233);%20border-bottom-width:%20initial;%20border-bottom-style:%20none;%20border-bottom-color:%20initial;%20width:%20120px;%20background-color:%20rgb(217,%20234,%20211);%20cursor:%20cell;%20user-select:%20none;%20text-align:%20right;%20align-items:%20flex-end%7D%0A.ant-root%20html,%20.ant-root%20%7Bwidth:%20100%25;%20height:%20100%25%7D%0A.ant-root%20*,%20.ant-root%20::before,%20.ant-root%20::after%20%7Bbox-sizing:%20border-box%7D%0A.ant-root%20%7Bmargin-top:%200px;%20margin-right:%200px;%20margin-bottom:%200px;%20margin-left:%200px;%20color:%20rgba(0,%200,%200,%200.65);%20font-size:%2014px;%20font-family:%20-apple-system,%20BlinkMacSystemFont,%20%22Segoe%20UI%22,%20%22PingFang%20SC%22,%20%22Hiragino%20Sans%20GB%22,%20%22Microsoft%20YaHei%22,%20%22Helvetica%20Neue%22,%20Helvetica,%20Arial,%20sans-serif,%20%22Apple%20Color%20Emoji%22,%20%22Segoe%20UI%20Emoji%22,%20%22Segoe%20UI%20Symbol%22;%20font-variant-ligatures:%20normal;%20font-variant-numeric:%20tabular-nums;%20font-variant-east-asian:%20normal;%20font-variant-caps:%20normal;%20line-height:%201.5;%20background-color:%20rgb(255,%20255,%20255);%20font-feature-settings:%20%22tnum%22;%20--antd-wave-shadow-color:%20undefined%7D%0A.ant-root%20.ant-typography%20%7Bcolor:%20rgba(0,%200,%200,%200.65)%7D%0A.css-1sxolix-Widget%20%7Bheight:%20100%25%7D%0A.css-1sxolix-Widget%20.ant-root:not(.atoti-widget-chooser)%20%7Bbox-shadow:%20none%7D%3C/style%3E%0A%20%20%20%20%20%20%20%20%3Cdiv%20xmlns=%22http://www.w3.org/1999/xhtml%22%20style=%22height:%20360px;%20width:%201541px%22%3E%0A%20%20%20%20%20%20%20%20%20%20%3Cdiv%20xmlns=%22http://www.w3.org/1999/xhtml%22%20class=%22css-1sxolix-Widget%22%3E%3Cdiv%20class=%22ant-root%20css-xsa55j-dock%22%3E%3Cdiv%20class=%22css-1ibuxvk-DockBody%22%3E%3Cdiv%20class=%22SplitPane%20%20vertical%20disabled%22%20style=%22display:%20flex;%20flex:%201%201%200%25;%20height:%20100%25;%20position:%20relative;%20outline:%20none;%20overflow:%20hidden;%20user-select:%20text;%20flex-direction:%20row;%20left:%200px;%20right:%200px;%22%3E%3Cdiv%20class=%22Pane%20vertical%20Pane1%20%20%22%20style=%22flex:%201%201%200%25;%20position:%20relative;%20outline:%20none;%20display:%20flex;%20background-color:%20rgb(255,%20255,%20255);%22%3E%3Cdiv%20class=%22css-1lrljg1-EditorSplitPane%22%3E%3Cdiv%20class=%22css-15fz3t7-EditorSplitPane%22%3E%3Cdiv%20class=%22css-1k1fxuh-Tabular%22%3E%3Cdiv%20class=%22css-10klw3m%22%3E%3Cdiv%20tabindex=%220%22%20class=%22css-1t7q2l3-Tabular%22%3E%3Cdiv%20class=%22css-192kvjv-Tabular%22%3E%3Cdiv%20class=%22css-mdjjdg-TabularHeader%22%3E%3Cdiv%20class=%22css-12nzxaz-PinnedTabularHeaders%22%3E%3Cdiv%20class=%22css-19syzzg-TabularHeaderGroup%22%3E%3Cdiv%20class=%22css-1u1q9mv%22%3E%3Cdiv%20class=%22css-1ag4cda-TabularHeaderCell%22%3E%3Cspan%20class=%22css-jpazdc-TabularHeaderCell%22%3E%3Cspan%3E%3Cspan%3E%3Cspan%20class=%22css-y3oqqp%22%3EDrug%20/%20Happy_Sad_group%3C/span%3E%3C/span%3E%3C/span%3E%3C/span%3E%3C/div%3E%3Cdiv%20class=%22css-c7y3a7-TabularHeaderCell%22%3E%3C/div%3E%3C/div%3E%3Cdiv%20class=%22css-nxcbzd-HeaderResizer%22%3E%3C/div%3E%3Cdiv%20class=%22css-1e87a1q-HeaderResizer%22%3E%3C/div%3E%3C/div%3E%3Cdiv%20class=%22css-1utdj85-TabularPinnSeparator%22%3E%3C/div%3E%3C/div%3E%3Cdiv%20class=%22css-1aq54jc-UnpinnedTabularHeaders%22%3E%3Cdiv%20class=%22css-5jtkjp-UnpinnedTabularHeaders%22%3E%3Cdiv%20class=%22css-15ph82w-TabularHeaderGroup%22%3E%3Cdiv%20class=%22css-att92w%22%3E%3Cdiv%20class=%22css-pm742e%22%3E%3C/div%3E%3Cdiv%20class=%22css-1ag4cda-TabularHeaderCell%22%3E%3Cspan%20class=%22css-jpazdc-TabularHeaderCell%22%3E%3Cspan%3ETest%20Result%3C/span%3E%3C/span%3E%3C/div%3E%3Cdiv%20class=%22css-c7y3a7-TabularHeaderCell%22%3E%3C/div%3E%3C/div%3E%3Cdiv%20class=%22css-jees8t-HeaderResizer%22%3E%3C/div%3E%3Cdiv%20class=%22css-vpo1ln-HeaderResizer%22%3E%3C/div%3E%3Cdiv%20class=%22css-oygqmi%22%3E%3Cdiv%20class=%22css-pm742e%22%3E%3C/div%3E%3Cdiv%20class=%22css-1ag4cda-TabularHeaderCell%22%3E%3Cspan%20class=%22css-jpazdc-TabularHeaderCell%22%3E%3Cspan%3Et-statistic%3C/span%3E%3C/span%3E%3C/div%3E%3Cdiv%20class=%22css-c7y3a7-TabularHeaderCell%22%3E%3C/div%3E%3C/div%3E%3Cdiv%20class=%22css-r153iz-HeaderResizer%22%3E%3C/div%3E%3Cdiv%20class=%22css-1xmr83l-HeaderResizer%22%3E%3C/div%3E%3Cdiv%20class=%22css-1wvephh%22%3E%3Cdiv%20class=%22css-pm742e%22%3E%3C/div%3E%3Cdiv%20class=%22css-1ag4cda-TabularHeaderCell%22%3E%3Cspan%20class=%22css-jpazdc-TabularHeaderCell%22%3E%3Cspan%3Et-critical%3C/span%3E%3C/span%3E%3C/div%3E%3Cdiv%20class=%22css-c7y3a7-TabularHeaderCell%22%3E%3C/div%3E%3C/div%3E%3Cdiv%20class=%22css-hffvaw-HeaderResizer%22%3E%3C/div%3E%3Cdiv%20class=%22css-1f671n9-HeaderResizer%22%3E%3C/div%3E%3Cdiv%20class=%22css-jtefeo%22%3E%3Cdiv%20class=%22css-pm742e%22%3E%3C/div%3E%3Cdiv%20class=%22css-1ag4cda-TabularHeaderCell%22%3E%3Cspan%20class=%22css-jpazdc-TabularHeaderCell%22%3E%3Cspan%3ENumber%20of%20observations%3C/span%3E%3C/span%3E%3C/div%3E%3Cdiv%20class=%22css-c7y3a7-TabularHeaderCell%22%3E%3C/div%3E%3C/div%3E%3Cdiv%20class=%22css-efe0sp-HeaderResizer%22%3E%3C/div%3E%3Cdiv%20class=%22css-obx4fl-HeaderResizer%22%3E%3C/div%3E%3Cdiv%20class=%22css-gm3795%22%3E%3Cdiv%20class=%22css-pm742e%22%3E%3C/div%3E%3Cdiv%20class=%22css-1ag4cda-TabularHeaderCell%22%3E%3Cspan%20class=%22css-jpazdc-TabularHeaderCell%22%3E%3Cspan%3EDiff.Mean%3C/span%3E%3C/span%3E%3C/div%3E%3Cdiv%20class=%22css-c7y3a7-TabularHeaderCell%22%3E%3C/div%3E%3C/div%3E%3Cdiv%20class=%22css-1n9snn7-HeaderResizer%22%3E%3C/div%3E%3Cdiv%20class=%22css-97g8vl-HeaderResizer%22%3E%3C/div%3E%3Cdiv%20class=%22css-jqc3jq%22%3E%3Cdiv%20class=%22css-pm742e%22%3E%3C/div%3E%3Cdiv%20class=%22css-1ag4cda-TabularHeaderCell%22%3E%3Cspan%20class=%22css-jpazdc-TabularHeaderCell%22%3E%3Cspan%3EMemoryScoresAfter.Mean%3C/span%3E%3C/span%3E%3C/div%3E%3Cdiv%20class=%22css-c7y3a7-TabularHeaderCell%22%3E%3C/div%3E%3C/div%3E%3Cdiv%20class=%22css-10of5ny-HeaderResizer%22%3E%3C/div%3E%3Cdiv%20class=%22css-13avpvu-HeaderResizer%22%3E%3C/div%3E%3Cdiv%20class=%22css-fm3q7g%22%3E%3Cdiv%20class=%22css-pm742e%22%3E%3C/div%3E%3Cdiv%20class=%22css-1ag4cda-TabularHeaderCell%22%3E%3Cspan%20class=%22css-jpazdc-TabularHeaderCell%22%3E%3Cspan%3EMemoryScoresBefore.Mean%3C/span%3E%3C/span%3E%3C/div%3E%3Cdiv%20class=%22css-c7y3a7-TabularHeaderCell%22%3E%3C/div%3E%3C/div%3E%3Cdiv%20class=%22css-9vdl6f-HeaderResizer%22%3E%3C/div%3E%3Cdiv%20class=%22css-xujc1v-HeaderResizer%22%3E%3C/div%3E%3C/div%3E%3C/div%3E%3C/div%3E%3C/div%3E%3Cdiv%20class=%22css-7da080-TabularBody%22%3E%3Cdiv%20class=%22css-14ermb7-PinnedTabularRows%22%3E%3Cdiv%20class=%22css-ggutx1-PinnedTabularRows%22%3E%3Cdiv%20class=%22css-3cge9w%22%3E%3Cdiv%3E%3Cdiv%20class=%22css-26enc9%22%3E%3Cdiv%20class=%22css-9ssj44-TreeCell%22%3E%3Cdiv%20class=%22css-iqyuzw%22%3E%3Cspan%20class=%22ant-typography%20css-8uhtka%22%20style=%22font-size:%2012px;%20line-height:%2020px;%20font-weight:%20600;%20color:%20rgba(0,%200,%200,%200.85);%22%3EAlprazolam%3C/span%3E%3C/div%3E%3C/div%3E%3C/div%3E%3C/div%3E%3C/div%3E%3Cdiv%20class=%22css-3cge9w%22%3E%3Cdiv%3E%3Cdiv%20class=%22css-26enc9%22%3E%3Cdiv%20class=%22css-9ssj44-TreeCell%22%3E%3Cdiv%20class=%22css-iqyuzw%22%3E%3Cdiv%20class=%22css-1i6gc04%22%3E%3C/div%3E%3Cspan%20class=%22ant-typography%20css-8uhtka%22%20style=%22font-size:%2012px;%20line-height:%2020px;%20font-weight:%20600;%20color:%20rgba(0,%200,%200,%200.65);%22%3EHappy%3C/span%3E%3C/div%3E%3C/div%3E%3C/div%3E%3C/div%3E%3C/div%3E%3Cdiv%20class=%22css-3cge9w%22%3E%3Cdiv%3E%3Cdiv%20class=%22css-1m1nrkq%22%3E%3Cdiv%20class=%22css-9ssj44-TreeCell%22%3E%3Cdiv%20class=%22css-iqyuzw%22%3E%3Cdiv%20class=%22css-1i6gc04%22%3E%3C/div%3E%3Cspan%20class=%22ant-typography%20css-8uhtka%22%20style=%22font-size:%2012px;%20line-height:%2020px;%20font-weight:%20600;%20color:%20rgba(0,%200,%200,%200.65);%22%3ESad%3C/span%3E%3C/div%3E%3C/div%3E%3C/div%3E%3C/div%3E%3C/div%3E%3Cdiv%20class=%22css-3cge9w%22%3E%3Cdiv%3E%3Cdiv%20class=%22css-wzx22s%22%3E%3Cdiv%20class=%22css-9ssj44-TreeCell%22%3E%3Cdiv%20class=%22css-iqyuzw%22%3E%3Cspan%20class=%22ant-typography%20css-8uhtka%22%20style=%22font-size:%2012px;%20line-height:%2020px;%20font-weight:%20600;%20color:%20rgba(0,%200,%200,%200.85);%22%3ESugar%3C/span%3E%3C/div%3E%3C/div%3E%3C/div%3E%3C/div%3E%3C/div%3E%3Cdiv%20class=%22css-3cge9w%22%3E%3Cdiv%3E%3Cdiv%20class=%22css-1m1nrkq%22%3E%3Cdiv%20class=%22css-9ssj44-TreeCell%22%3E%3Cdiv%20class=%22css-iqyuzw%22%3E%3Cdiv%20class=%22css-1i6gc04%22%3E%3C/div%3E%3Cspan%20class=%22ant-typography%20css-8uhtka%22%20style=%22font-size:%2012px;%20line-height:%2020px;%20font-weight:%20600;%20color:%20rgba(0,%200,%200,%200.65);%22%3EHappy%3C/span%3E%3C/div%3E%3C/div%3E%3C/div%3E%3C/div%3E%3C/div%3E%3Cdiv%20class=%22css-3cge9w%22%3E%3Cdiv%3E%3Cdiv%20class=%22css-26enc9%22%3E%3Cdiv%20class=%22css-9ssj44-TreeCell%22%3E%3Cdiv%20class=%22css-iqyuzw%22%3E%3Cdiv%20class=%22css-1i6gc04%22%3E%3C/div%3E%3Cspan%20class=%22ant-typography%20css-8uhtka%22%20style=%22font-size:%2012px;%20line-height:%2020px;%20font-weight:%20600;%20color:%20rgba(0,%200,%200,%200.65);%22%3ESad%3C/span%3E%3C/div%3E%3C/div%3E%3C/div%3E%3C/div%3E%3C/div%3E%3Cdiv%20class=%22css-3cge9w%22%3E%3Cdiv%3E%3Cdiv%20class=%22css-wzx22s%22%3E%3Cdiv%20class=%22css-9ssj44-TreeCell%22%3E%3Cdiv%20class=%22css-iqyuzw%22%3E%3Cspan%20class=%22ant-typography%20css-8uhtka%22%20style=%22font-size:%2012px;%20line-height:%2020px;%20font-weight:%20600;%20color:%20rgba(0,%200,%200,%200.85);%22%3ETriazolam%3C/span%3E%3C/div%3E%3C/div%3E%3C/div%3E%3C/div%3E%3C/div%3E%3Cdiv%20class=%22css-3cge9w%22%3E%3Cdiv%3E%3Cdiv%20class=%22css-26enc9%22%3E%3Cdiv%20class=%22css-9ssj44-TreeCell%22%3E%3Cdiv%20class=%22css-iqyuzw%22%3E%3Cdiv%20class=%22css-1i6gc04%22%3E%3C/div%3E%3Cspan%20class=%22ant-typography%20css-8uhtka%22%20style=%22font-size:%2012px;%20line-height:%2020px;%20font-weight:%20600;%20color:%20rgba(0,%200,%200,%200.65);%22%3EHappy%3C/span%3E%3C/div%3E%3C/div%3E%3C/div%3E%3C/div%3E%3C/div%3E%3Cdiv%20class=%22css-3cge9w%22%3E%3Cdiv%3E%3Cdiv%20class=%22css-19qndfw%22%3E%3Cdiv%20class=%22css-9ssj44-TreeCell%22%3E%3Cdiv%20class=%22css-iqyuzw%22%3E%3Cdiv%20class=%22css-1i6gc04%22%3E%3C/div%3E%3Cspan%20class=%22ant-typography%20css-8uhtka%22%20style=%22font-size:%2012px;%20line-height:%2020px;%20font-weight:%20600;%20color:%20rgba(0,%200,%200,%200.65);%22%3ESad%3C/span%3E%3C/div%3E%3C/div%3E%3C/div%3E%3C/div%3E%3C/div%3E%3C/div%3E%3Cdiv%20class=%22css-8r2ljj-PinnedTabularRows%22%3E%3Cdiv%20class=%22css-17u1e8e-PinnedTabularRows%22%3E%3C/div%3E%3C/div%3E%3C/div%3E%3Cdiv%20class=%22css-14wqj5x-UnpinnedTabularRows%22%3E%3Cdiv%20class=%22css-1id6sm3-UnpinnedTabularRows%22%3E%3Cdiv%20class=%22css-3cge9w%22%3E%3Cdiv%3E%3Cdiv%20class=%22%20css-qazlap-TabularCell%22%3E%C2%A0%3C/div%3E%3C/div%3E%3Cdiv%3E%3Cdiv%20class=%22%20css-qazlap-TabularCell%22%3E%C2%A0%3C/div%3E%3C/div%3E%3Cdiv%3E%3Cdiv%20class=%22%20css-qazlap-TabularCell%22%3E%C2%A0%3C/div%3E%3C/div%3E%3Cdiv%3E%3Cdiv%20class=%22%20css-qazlap-TabularCell%22%3E%C2%A0%3C/div%3E%3C/div%3E%3Cdiv%3E%3Cdiv%20class=%22%20css-qazlap-TabularCell%22%3E%C2%A0%3C/div%3E%3C/div%3E%3Cdiv%3E%3Cdiv%20class=%22%20css-qazlap-TabularCell%22%3E%C2%A0%3C/div%3E%3C/div%3E%3Cdiv%3E%3Cdiv%20class=%22%20css-qazlap-TabularCell%22%3E%C2%A0%3C/div%3E%3C/div%3E%3C/div%3E%3Cdiv%20class=%22css-3cge9w%22%3E%3Cdiv%3E%3Cdiv%20class=%22%20css-k8n4c6-TabularCell%22%3E%3Cspan%20class=%22css-mkoicc-CaptionCellRenderer%22%3E%3Cspan%3E%3Cspan%20class=%22ant-typography%22%20style=%22font-size:%2012px;%20line-height:%2020px;%20font-weight:%20400;%22%3EH0%20rejected%3C/span%3E%3C/span%3E%3C/span%3E%3C/div%3E%3C/div%3E%3Cdiv%3E%3Cdiv%20class=%22%20css-qazlap-TabularCell%22%3E%3Cspan%20class=%22css-mkoicc-CaptionCellRenderer%22%3E%3Cspan%3E%3Cspan%20class=%22ant-typography%22%20style=%22font-size:%2012px;%20line-height:%2020px;%20font-weight:%20400;%22%3E3.61%3C/span%3E%3C/span%3E%3C/span%3E%3C/div%3E%3C/div%3E%3Cdiv%3E%3Cdiv%20class=%22%20css-qazlap-TabularCell%22%3E%3Cspan%20class=%22css-mkoicc-CaptionCellRenderer%22%3E%3Cspan%3E%3Cspan%20class=%22ant-typography%22%20style=%22font-size:%2012px;%20line-height:%2020px;%20font-weight:%20400;%22%3E1.69%3C/span%3E%3C/span%3E%3C/span%3E%3C/div%3E%3C/div%3E%3Cdiv%3E%3Cdiv%20class=%22%20css-qazlap-TabularCell%22%3E%3Cspan%20class=%22css-mkoicc-CaptionCellRenderer%22%3E%3Cspan%3E%3Cspan%20class=%22ant-typography%22%20style=%22font-size:%2012px;%20line-height:%2020px;%20font-weight:%20400;%22%3E33%3C/span%3E%3C/span%3E%3C/span%3E%3C/div%3E%3C/div%3E%3Cdiv%3E%3Cdiv%20class=%22%20css-qazlap-TabularCell%22%3E%3Cspan%20class=%22css-mkoicc-CaptionCellRenderer%22%3E%3Cspan%3E%3Cspan%20class=%22ant-typography%22%20style=%22font-size:%2012px;%20line-height:%2020px;%20font-weight:%20400;%22%3E8.36%3C/span%3E%3C/span%3E%3C/span%3E%3C/div%3E%3C/div%3E%3Cdiv%3E%3Cdiv%20class=%22%20css-qazlap-TabularCell%22%3E%3Cspan%20class=%22css-mkoicc-CaptionCellRenderer%22%3E%3Cspan%3E%3Cspan%20class=%22ant-typography%22%20style=%22font-size:%2012px;%20line-height:%2020px;%20font-weight:%20400;%22%3E65.47%3C/span%3E%3C/span%3E%3C/span%3E%3C/div%3E%3C/div%3E%3Cdiv%3E%3Cdiv%20class=%22%20css-qazlap-TabularCell%22%3E%3Cspan%20class=%22css-mkoicc-CaptionCellRenderer%22%3E%3Cspan%3E%3Cspan%20class=%22ant-typography%22%20style=%22font-size:%2012px;%20line-height:%2020px;%20font-weight:%20400;%22%3E57.11%3C/span%3E%3C/span%3E%3C/span%3E%3C/div%3E%3C/div%3E%3C/div%3E%3Cdiv%20class=%22css-3cge9w%22%3E%3Cdiv%3E%3Cdiv%20class=%22%20css-10yddu9-TabularCell%22%3E%3Cspan%20class=%22css-mkoicc-CaptionCellRenderer%22%3E%3Cspan%3E%3Cspan%20class=%22ant-typography%22%20style=%22font-size:%2012px;%20line-height:%2020px;%20font-weight:%20400;%22%3EH0%20rejected%3C/span%3E%3C/span%3E%3C/span%3E%3C/div%3E%3C/div%3E%3Cdiv%3E%3Cdiv%20class=%22%20css-1hcmypl-TabularCell%22%3E%3Cspan%20class=%22css-mkoicc-CaptionCellRenderer%22%3E%3Cspan%3E%3Cspan%20class=%22ant-typography%22%20style=%22font-size:%2012px;%20line-height:%2020px;%20font-weight:%20400;%22%3E4.62%3C/span%3E%3C/span%3E%3C/span%3E%3C/div%3E%3C/div%3E%3Cdiv%3E%3Cdiv%20class=%22%20css-1hcmypl-TabularCell%22%3E%3Cspan%20class=%22css-mkoicc-CaptionCellRenderer%22%3E%3Cspan%3E%3Cspan%20class=%22ant-typography%22%20style=%22font-size:%2012px;%20line-height:%2020px;%20font-weight:%20400;%22%3E1.69%3C/span%3E%3C/span%3E%3C/span%3E%3C/div%3E%3C/div%3E%3Cdiv%3E%3Cdiv%20class=%22%20css-1hcmypl-TabularCell%22%3E%3Cspan%20class=%22css-mkoicc-CaptionCellRenderer%22%3E%3Cspan%3E%3Cspan%20class=%22ant-typography%22%20style=%22font-size:%2012px;%20line-height:%2020px;%20font-weight:%20400;%22%3E34%3C/span%3E%3C/span%3E%3C/span%3E%3C/div%3E%3C/div%3E%3Cdiv%3E%3Cdiv%20class=%22%20css-1hcmypl-TabularCell%22%3E%3Cspan%20class=%22css-mkoicc-CaptionCellRenderer%22%3E%3Cspan%3E%3Cspan%20class=%22ant-typography%22%20style=%22font-size:%2012px;%20line-height:%2020px;%20font-weight:%20400;%22%3E10.54%3C/span%3E%3C/span%3E%3C/span%3E%3C/div%3E%3C/div%3E%3Cdiv%3E%3Cdiv%20class=%22%20css-1hcmypl-TabularCell%22%3E%3Cspan%20class=%22css-mkoicc-CaptionCellRenderer%22%3E%3Cspan%3E%3Cspan%20class=%22ant-typography%22%20style=%22font-size:%2012px;%20line-height:%2020px;%20font-weight:%20400;%22%3E69.83%3C/span%3E%3C/span%3E%3C/span%3E%3C/div%3E%3C/div%3E%3Cdiv%3E%3Cdiv%20class=%22%20css-1hcmypl-TabularCell%22%3E%3Cspan%20class=%22css-mkoicc-CaptionCellRenderer%22%3E%3Cspan%3E%3Cspan%20class=%22ant-typography%22%20style=%22font-size:%2012px;%20line-height:%2020px;%20font-weight:%20400;%22%3E59.29%3C/span%3E%3C/span%3E%3C/span%3E%3C/div%3E%3C/div%3E%3C/div%3E%3Cdiv%20class=%22css-3cge9w%22%3E%3Cdiv%3E%3Cdiv%20class=%22%20css-qc9d98-TabularCell%22%3E%C2%A0%3C/div%3E%3C/div%3E%3Cdiv%3E%3Cdiv%20class=%22%20css-qc9d98-TabularCell%22%3E%C2%A0%3C/div%3E%3C/div%3E%3Cdiv%3E%3Cdiv%20class=%22%20css-qc9d98-TabularCell%22%3E%C2%A0%3C/div%3E%3C/div%3E%3Cdiv%3E%3Cdiv%20class=%22%20css-qc9d98-TabularCell%22%3E%C2%A0%3C/div%3E%3C/div%3E%3Cdiv%3E%3Cdiv%20class=%22%20css-qc9d98-TabularCell%22%3E%C2%A0%3C/div%3E%3C/div%3E%3Cdiv%3E%3Cdiv%20class=%22%20css-qc9d98-TabularCell%22%3E%C2%A0%3C/div%3E%3C/div%3E%3Cdiv%3E%3Cdiv%20class=%22%20css-qc9d98-TabularCell%22%3E%C2%A0%3C/div%3E%3C/div%3E%3C/div%3E%3Cdiv%20class=%22css-3cge9w%22%3E%3Cdiv%3E%3Cdiv%20class=%22%20css-1hcmypl-TabularCell%22%3E%3Cspan%20class=%22css-mkoicc-CaptionCellRenderer%22%3E%3Cspan%3E%3Cspan%20class=%22ant-typography%22%20style=%22font-size:%2012px;%20line-height:%2020px;%20font-weight:%20400;%22%3ECan't%20reject%20H0%3C/span%3E%3C/span%3E%3C/span%3E%3C/div%3E%3C/div%3E%3Cdiv%3E%3Cdiv%20class=%22%20css-1hcmypl-TabularCell%22%3E%3Cspan%20class=%22css-mkoicc-CaptionCellRenderer%22%3E%3Cspan%3E%3Cspan%20class=%22ant-typography%22%20style=%22font-size:%2012px;%20line-height:%2020px;%20font-weight:%20400;%22%3E0.02%3C/span%3E%3C/span%3E%3C/span%3E%3C/div%3E%3C/div%3E%3Cdiv%3E%3Cdiv%20class=%22%20css-1hcmypl-TabularCell%22%3E%3Cspan%20class=%22css-mkoicc-CaptionCellRenderer%22%3E%3Cspan%3E%3Cspan%20class=%22ant-typography%22%20style=%22font-size:%2012px;%20line-height:%2020px;%20font-weight:%20400;%22%3E1.69%3C/span%3E%3C/span%3E%3C/span%3E%3C/div%3E%3C/div%3E%3Cdiv%3E%3Cdiv%20class=%22%20css-1hcmypl-TabularCell%22%3E%3Cspan%20class=%22css-mkoicc-CaptionCellRenderer%22%3E%3Cspan%3E%3Cspan%20class=%22ant-typography%22%20style=%22font-size:%2012px;%20line-height:%2020px;%20font-weight:%20400;%22%3E33%3C/span%3E%3C/span%3E%3C/span%3E%3C/div%3E%3C/div%3E%3Cdiv%3E%3Cdiv%20class=%22%20css-1hcmypl-TabularCell%22%3E%3Cspan%20class=%22css-mkoicc-CaptionCellRenderer%22%3E%3Cspan%3E%3Cspan%20class=%22ant-typography%22%20style=%22font-size:%2012px;%20line-height:%2020px;%20font-weight:%20400;%22%3E0.02%3C/span%3E%3C/span%3E%3C/span%3E%3C/div%3E%3C/div%3E%3Cdiv%3E%3Cdiv%20class=%22%20css-1hcmypl-TabularCell%22%3E%3Cspan%20class=%22css-mkoicc-CaptionCellRenderer%22%3E%3Cspan%3E%3Cspan%20class=%22ant-typography%22%20style=%22font-size:%2012px;%20line-height:%2020px;%20font-weight:%20400;%22%3E58.34%3C/span%3E%3C/span%3E%3C/span%3E%3C/div%3E%3C/div%3E%3Cdiv%3E%3Cdiv%20class=%22%20css-1hcmypl-TabularCell%22%3E%3Cspan%20class=%22css-mkoicc-CaptionCellRenderer%22%3E%3Cspan%3E%3Cspan%20class=%22ant-typography%22%20style=%22font-size:%2012px;%20line-height:%2020px;%20font-weight:%20400;%22%3E58.32%3C/span%3E%3C/span%3E%3C/span%3E%3C/div%3E%3C/div%3E%3C/div%3E%3Cdiv%20class=%22css-3cge9w%22%3E%3Cdiv%3E%3Cdiv%20class=%22%20css-qazlap-TabularCell%22%3E%3Cspan%20class=%22css-mkoicc-CaptionCellRenderer%22%3E%3Cspan%3E%3Cspan%20class=%22ant-typography%22%20style=%22font-size:%2012px;%20line-height:%2020px;%20font-weight:%20400;%22%3ECan't%20reject%20H0%3C/span%3E%3C/span%3E%3C/span%3E%3C/div%3E%3C/div%3E%3Cdiv%3E%3Cdiv%20class=%22%20css-qazlap-TabularCell%22%3E%3Cspan%20class=%22css-mkoicc-CaptionCellRenderer%22%3E%3Cspan%3E%3Cspan%20class=%22ant-typography%22%20style=%22font-size:%2012px;%20line-height:%2020px;%20font-weight:%20400;%22%3E-0.23%3C/span%3E%3C/span%3E%3C/span%3E%3C/div%3E%3C/div%3E%3Cdiv%3E%3Cdiv%20class=%22%20css-qazlap-TabularCell%22%3E%3Cspan%20class=%22css-mkoicc-CaptionCellRenderer%22%3E%3Cspan%3E%3Cspan%20class=%22ant-typography%22%20style=%22font-size:%2012px;%20line-height:%2020px;%20font-weight:%20400;%22%3E1.69%3C/span%3E%3C/span%3E%3C/span%3E%3C/div%3E%3C/div%3E%3Cdiv%3E%3Cdiv%20class=%22%20css-qazlap-TabularCell%22%3E%3Cspan%20class=%22css-mkoicc-CaptionCellRenderer%22%3E%3Cspan%3E%3Cspan%20class=%22ant-typography%22%20style=%22font-size:%2012px;%20line-height:%2020px;%20font-weight:%20400;%22%3E33%3C/span%3E%3C/span%3E%3C/span%3E%3C/div%3E%3C/div%3E%3Cdiv%3E%3Cdiv%20class=%22%20css-qazlap-TabularCell%22%3E%3Cspan%20class=%22css-mkoicc-CaptionCellRenderer%22%3E%3Cspan%3E%3Cspan%20class=%22ant-typography%22%20style=%22font-size:%2012px;%20line-height:%2020px;%20font-weight:%20400;%22%3E-0.36%3C/span%3E%3C/span%3E%3C/span%3E%3C/div%3E%3C/div%3E%3Cdiv%3E%3Cdiv%20class=%22%20css-qazlap-TabularCell%22%3E%3Cspan%20class=%22css-mkoicc-CaptionCellRenderer%22%3E%3Cspan%3E%3Cspan%20class=%22ant-typography%22%20style=%22font-size:%2012px;%20line-height:%2020px;%20font-weight:%20400;%22%3E58.29%3C/span%3E%3C/span%3E%3C/span%3E%3C/div%3E%3C/div%3E%3Cdiv%3E%3Cdiv%20class=%22%20css-qazlap-TabularCell%22%3E%3Cspan%20class=%22css-mkoicc-CaptionCellRenderer%22%3E%3Cspan%3E%3Cspan%20class=%22ant-typography%22%20style=%22font-size:%2012px;%20line-height:%2020px;%20font-weight:%20400;%22%3E58.65%3C/span%3E%3C/span%3E%3C/span%3E%3C/div%3E%3C/div%3E%3C/div%3E%3Cdiv%20class=%22css-3cge9w%22%3E%3Cdiv%3E%3Cdiv%20class=%22%20css-qc9d98-TabularCell%22%3E%C2%A0%3C/div%3E%3C/div%3E%3Cdiv%3E%3Cdiv%20class=%22%20css-qc9d98-TabularCell%22%3E%C2%A0%3C/div%3E%3C/div%3E%3Cdiv%3E%3Cdiv%20class=%22%20css-qc9d98-TabularCell%22%3E%C2%A0%3C/div%3E%3C/div%3E%3Cdiv%3E%3Cdiv%20class=%22%20css-qc9d98-TabularCell%22%3E%C2%A0%3C/div%3E%3C/div%3E%3Cdiv%3E%3Cdiv%20class=%22%20css-qc9d98-TabularCell%22%3E%C2%A0%3C/div%3E%3C/div%3E%3Cdiv%3E%3Cdiv%20class=%22%20css-qc9d98-TabularCell%22%3E%C2%A0%3C/div%3E%3C/div%3E%3Cdiv%3E%3Cdiv%20class=%22%20css-qc9d98-TabularCell%22%3E%C2%A0%3C/div%3E%3C/div%3E%3C/div%3E%3Cdiv%20class=%22css-3cge9w%22%3E%3Cdiv%3E%3Cdiv%20class=%22%20css-qazlap-TabularCell%22%3E%3Cspan%20class=%22css-mkoicc-CaptionCellRenderer%22%3E%3Cspan%3E%3Cspan%20class=%22ant-typography%22%20style=%22font-size:%2012px;%20line-height:%2020px;%20font-weight:%20400;%22%3ECan't%20reject%20H0%3C/span%3E%3C/span%3E%3C/span%3E%3C/div%3E%3C/div%3E%3Cdiv%3E%3Cdiv%20class=%22%20css-qazlap-TabularCell%22%3E%3Cspan%20class=%22css-mkoicc-CaptionCellRenderer%22%3E%3Cspan%3E%3Cspan%20class=%22ant-typography%22%20style=%22font-size:%2012px;%20line-height:%2020px;%20font-weight:%20400;%22%3E-0.12%3C/span%3E%3C/span%3E%3C/span%3E%3C/div%3E%3C/div%3E%3Cdiv%3E%3Cdiv%20class=%22%20css-qazlap-TabularCell%22%3E%3Cspan%20class=%22css-mkoicc-CaptionCellRenderer%22%3E%3Cspan%3E%3Cspan%20class=%22ant-typography%22%20style=%22font-size:%2012px;%20line-height:%2020px;%20font-weight:%20400;%22%3E1.69%3C/span%3E%3C/span%3E%3C/span%3E%3C/div%3E%3C/div%3E%3Cdiv%3E%3Cdiv%20class=%22%20css-qazlap-TabularCell%22%3E%3Cspan%20class=%22css-mkoicc-CaptionCellRenderer%22%3E%3Cspan%3E%3Cspan%20class=%22ant-typography%22%20style=%22font-size:%2012px;%20line-height:%2020px;%20font-weight:%20400;%22%3E33%3C/span%3E%3C/span%3E%3C/span%3E%3C/div%3E%3C/div%3E%3Cdiv%3E%3Cdiv%20class=%22%20css-qazlap-TabularCell%22%3E%3Cspan%20class=%22css-mkoicc-CaptionCellRenderer%22%3E%3Cspan%3E%3Cspan%20class=%22ant-typography%22%20style=%22font-size:%2012px;%20line-height:%2020px;%20font-weight:%20400;%22%3E-0.18%3C/span%3E%3C/span%3E%3C/span%3E%3C/div%3E%3C/div%3E%3Cdiv%3E%3Cdiv%20class=%22%20css-qazlap-TabularCell%22%3E%3Cspan%20class=%22css-mkoicc-CaptionCellRenderer%22%3E%3Cspan%3E%3Cspan%20class=%22ant-typography%22%20style=%22font-size:%2012px;%20line-height:%2020px;%20font-weight:%20400;%22%3E57.92%3C/span%3E%3C/span%3E%3C/span%3E%3C/div%3E%3C/div%3E%3Cdiv%3E%3Cdiv%20class=%22%20css-qazlap-TabularCell%22%3E%3Cspan%20class=%22css-mkoicc-CaptionCellRenderer%22%3E%3Cspan%3E%3Cspan%20class=%22ant-typography%22%20style=%22font-size:%2012px;%20line-height:%2020px;%20font-weight:%20400;%22%3E58.11%3C/span%3E%3C/span%3E%3C/span%3E%3C/div%3E%3C/div%3E%3C/div%3E%3Cdiv%20class=%22css-3cge9w%22%3E%3Cdiv%3E%3Cdiv%20class=%22%20css-m3b6cx-TabularCell%22%3E%3Cspan%20class=%22css-mkoicc-CaptionCellRenderer%22%3E%3Cspan%3E%3Cspan%20class=%22ant-typography%22%20style=%22font-size:%2012px;%20line-height:%2020px;%20font-weight:%20400;%22%3ECan't%20reject%20H0%3C/span%3E%3C/span%3E%3C/span%3E%3C/div%3E%3C/div%3E%3Cdiv%3E%3Cdiv%20class=%22%20css-m3b6cx-TabularCell%22%3E%3Cspan%20class=%22css-mkoicc-CaptionCellRenderer%22%3E%3Cspan%3E%3Cspan%20class=%22ant-typography%22%20style=%22font-size:%2012px;%20line-height:%2020px;%20font-weight:%20400;%22%3E-1.07%3C/span%3E%3C/span%3E%3C/span%3E%3C/div%3E%3C/div%3E%3Cdiv%3E%3Cdiv%20class=%22%20css-m3b6cx-TabularCell%22%3E%3Cspan%20class=%22css-mkoicc-CaptionCellRenderer%22%3E%3Cspan%3E%3Cspan%20class=%22ant-typography%22%20style=%22font-size:%2012px;%20line-height:%2020px;%20font-weight:%20400;%22%3E1.70%3C/span%3E%3C/span%3E%3C/span%3E%3C/div%3E%3C/div%3E%3Cdiv%3E%3Cdiv%20class=%22%20css-m3b6cx-TabularCell%22%3E%3Cspan%20class=%22css-mkoicc-CaptionCellRenderer%22%3E%3Cspan%3E%3Cspan%20class=%22ant-typography%22%20style=%22font-size:%2012px;%20line-height:%2020px;%20font-weight:%20400;%22%3E32%3C/span%3E%3C/span%3E%3C/span%3E%3C/div%3E%3C/div%3E%3Cdiv%3E%3Cdiv%20class=%22%20css-m3b6cx-TabularCell%22%3E%3Cspan%20class=%22css-mkoicc-CaptionCellRenderer%22%3E%3Cspan%3E%3Cspan%20class=%22ant-typography%22%20style=%22font-size:%2012px;%20line-height:%2020px;%20font-weight:%20400;%22%3E-1.00%3C/span%3E%3C/span%3E%3C/span%3E%3C/div%3E%3C/div%3E%3Cdiv%3E%3Cdiv%20class=%22%20css-m3b6cx-TabularCell%22%3E%3Cspan%20class=%22css-mkoicc-CaptionCellRenderer%22%3E%3Cspan%3E%3Cspan%20class=%22ant-typography%22%20style=%22font-size:%2012px;%20line-height:%2020px;%20font-weight:%20400;%22%3E55.24%3C/span%3E%3C/span%3E%3C/span%3E%3C/div%3E%3C/div%3E%3Cdiv%3E%3Cdiv%20class=%22%20css-m3b6cx-TabularCell%22%3E%3Cspan%20class=%22css-mkoicc-CaptionCellRenderer%22%3E%3Cspan%3E%3Cspan%20class=%22ant-typography%22%20style=%22font-size:%2012px;%20line-height:%2020px;%20font-weight:%20400;%22%3E56.24%3C/span%3E%3C/span%3E%3C/span%3E%3C/div%3E%3C/div%3E%3C/div%3E%3C/div%3E%3C/div%3E%3C/div%3E%3C/div%3E%3Cdiv%20class=%22css-t881dv-SelectionStatistics%22%3E%3C/div%3E%3C/div%3E%3C/div%3E%3C/div%3E%3C/div%3E%3C/div%3E%3C/div%3E%3Cspan%20role=%22presentation%22%20class=%22css-14zuz97%20Resizer%20vertical%20disabled%22%3E%3C/span%3E%3Cdiv%20class=%22Pane%20vertical%20Pane2%20%20%22%20style=%22flex:%200%200%20auto;%20position:%20relative;%20outline:%20none;%20width:%200px;%20display:%20flex;%20background-color:%20rgb(255,%20255,%20255);%20overflow:%20auto;%22%3E%3Cdiv%20class=%22css-1ouk3zc-EditorSplitPane%22%3E%3Cdiv%20class=%22css-1jjvrwi-EditorSplitPane%22%3E%3C/div%3E%3C/div%3E%3C/div%3E%3C/div%3E%3C/div%3E%3C/div%3E%3C/div%3E%0A%20%20%20%20%20%20%20%20%3C/div%3E%0A%20%20%20%20%20%20%3C/foreignObject%3E%0A%20%20%20%20%3C/svg%3E\">"
      ],
      "text/plain": [
       "Open the notebook in JupyterLab with the atoti extension installed and enabled to see this widget."
      ]
     },
     "metadata": {},
     "output_type": "display_data"
    }
   ],
   "source": [
    "cube.visualize()"
   ]
  },
  {
   "cell_type": "markdown",
   "metadata": {},
   "source": [
    "# Quick simulation\n",
    "\n",
    "Let's make a quick comparison of the test results under the 95%, 97.5%, 99% confidence levels by loading new critical values into simulations. As a reminder, we've been using the 95% critical values so far."
   ]
  },
  {
   "cell_type": "code",
   "execution_count": 24,
   "metadata": {},
   "outputs": [],
   "source": [
    "# creating a new simulation to override critical values, and giving a name to the initial values\n",
    "confidence_levels = cube.setup_simulation(\n",
    "    \"Confidence Levels\", replace=[m[\"t-critical values list\"]], base_scenario=\"95%\"\n",
    ").scenarios\n",
    "# creating new critical values based on 0.975 and 0.99 confidence levels\n",
    "confidence_levels[\"97.5%\"] = [t.ppf(0.975, d) for d in range(1, 101)] + [1.960]\n",
    "confidence_levels[\"99%\"] = [t.ppf(0.99, d) for d in range(1, 101)] + [2.326]"
   ]
  },
  {
   "cell_type": "markdown",
   "metadata": {},
   "source": [
    "Let's expand Test results for Sugar and we'll see that the hypothesis is rejected for dosage 1 under the 95% and 97.5% confidence levels - implying that memory reponse time increases for patients taking low dosage of sugar (placebo). Most probably we are making Type I error - false positive result. Increasing the confidence level helps to reduce the probability of Type I error, in our case, H0 is not rejected for Sugar with 99% confidence level."
   ]
  },
  {
   "cell_type": "code",
   "execution_count": 25,
   "metadata": {
    "atoti": {
     "state": {
      "name": "",
      "type": "container",
      "value": {
       "body": {
        "configuration": {
         "tabular": {
          "addButtonFilter": "numeric",
          "cellRenderers": [
           "tree-layout"
          ],
          "columns": [
           {
            "key": "c-treeCells-member",
            "width": 132
           }
          ],
          "columnsGroups": [
           {
            "captionProducer": "firstColumn",
            "cellFactory": "kpi-status",
            "selector": "kpi-status"
           },
           {
            "captionProducer": "firstColumn",
            "cellFactory": "lookup",
            "selector": "lookup"
           },
           {
            "captionProducer": "expiry",
            "cellFactory": "expiry",
            "selector": "kpi-expiry"
           },
           {
            "captionProducer": "columnMerge",
            "cellFactory": {
             "args": {},
             "key": "treeCells"
            },
            "selector": "member"
           }
          ],
          "defaultOptions": {},
          "expansion": {
           "automaticExpansion": true
          },
          "hideAddButton": true,
          "pinnedHeaderSelector": "member",
          "sortingMode": "non-breaking",
          "statisticsShown": true
         }
        },
        "contextValues": {},
        "mdx": "WITH  Member [Measures].[Test Result (1)] AS [Measures].[Test Result], BACK_COLOR = CASE WHEN [Measures].[Test Result (1)] = \"H0 rejected\" THEN rgb(217, 234, 211) END, CAPTION = [Measures].[Test Result].MEMBER_CAPTION  SELECT NON EMPTY Crossjoin({[Measures].[Test Result (1)], [Measures].[t-critical]}, Hierarchize([Measure Simulations].[Confidence Levels].[Confidence Levels].Members)) ON COLUMNS, NON EMPTY Except(Crossjoin(Hierarchize(Union(DrilldownLevel([Hierarchies].[Drug].[ALL].[AllMember]), [Hierarchies].[Drug].[ALL].[AllMember].[Drug A], [Hierarchies].[Drug].[ALL].[AllMember].[Drug S], [Hierarchies].[Drug].[ALL].[AllMember].[Drug T])), Hierarchize(DrilldownLevel([Hierarchies].[Dosage].[ALL].[AllMember]))), Union(Crossjoin([Hierarchies].[Drug].[ALL].[AllMember].[Drug A], [Hierarchies].[Dosage].[Dosage].Members), Crossjoin([Hierarchies].[Drug].[ALL].[AllMember].[Drug T], [Hierarchies].[Dosage].[Dosage].Members))) ON ROWS FROM [Observations] CELL PROPERTIES BACK_COLOR, FONT_FLAGS, FORE_COLOR, FORMATTED_VALUE, VALUE",
        "ranges": {
         "column": {
          "chunkSize": 50,
          "thresholdPercentage": 0.2
         },
         "row": {
          "chunkSize": 2000,
          "thresholdPercentage": 0.1
         }
        },
        "serverUrl": "",
        "updateMode": "once"
       },
       "containerKey": "pivot-table",
       "showTitleBar": false,
       "style": {}
      }
     }
    }
   },
   "outputs": [
    {
     "data": {
      "application/vnd.atoti.v0+json": {
       "cellSet": {
        "axes": [
         {
          "hierarchies": [
           {
            "dimension": "Measures",
            "hierarchy": "Measures"
           },
           {
            "dimension": "Measure Simulations",
            "hierarchy": "Confidence Levels"
           }
          ],
          "id": 0,
          "positions": [
           [
            {
             "captionPath": [
              "Test Result"
             ],
             "namePath": [
              "Test Result (1)"
             ],
             "properties": {
              "DISPLAY_INFO": 0
             }
            },
            {
             "captionPath": [
              "95%"
             ],
             "namePath": [
              "95%"
             ],
             "properties": {
              "DISPLAY_INFO": 0
             }
            }
           ],
           [
            {
             "captionPath": [
              "Test Result"
             ],
             "namePath": [
              "Test Result (1)"
             ],
             "properties": {
              "DISPLAY_INFO": 0
             }
            },
            {
             "captionPath": [
              "97.5%"
             ],
             "namePath": [
              "97.5%"
             ],
             "properties": {
              "DISPLAY_INFO": 0
             }
            }
           ],
           [
            {
             "captionPath": [
              "Test Result"
             ],
             "namePath": [
              "Test Result (1)"
             ],
             "properties": {
              "DISPLAY_INFO": 0
             }
            },
            {
             "captionPath": [
              "99%"
             ],
             "namePath": [
              "99%"
             ],
             "properties": {
              "DISPLAY_INFO": 0
             }
            }
           ],
           [
            {
             "captionPath": [
              "t-critical"
             ],
             "namePath": [
              "t-critical"
             ],
             "properties": {
              "DISPLAY_INFO": 0
             }
            },
            {
             "captionPath": [
              "95%"
             ],
             "namePath": [
              "95%"
             ],
             "properties": {
              "DISPLAY_INFO": 0
             }
            }
           ],
           [
            {
             "captionPath": [
              "t-critical"
             ],
             "namePath": [
              "t-critical"
             ],
             "properties": {
              "DISPLAY_INFO": 0
             }
            },
            {
             "captionPath": [
              "97.5%"
             ],
             "namePath": [
              "97.5%"
             ],
             "properties": {
              "DISPLAY_INFO": 0
             }
            }
           ],
           [
            {
             "captionPath": [
              "t-critical"
             ],
             "namePath": [
              "t-critical"
             ],
             "properties": {
              "DISPLAY_INFO": 0
             }
            },
            {
             "captionPath": [
              "99%"
             ],
             "namePath": [
              "99%"
             ],
             "properties": {
              "DISPLAY_INFO": 0
             }
            }
           ]
          ]
         },
         {
          "hierarchies": [
           {
            "dimension": "Hierarchies",
            "hierarchy": "Drug"
           },
           {
            "dimension": "Hierarchies",
            "hierarchy": "Dosage"
           }
          ],
          "id": 1,
          "positions": [
           [
            {
             "captionPath": [
              "AllMember"
             ],
             "namePath": [
              "AllMember"
             ],
             "properties": {
              "DISPLAY_INFO": 65539
             }
            },
            {
             "captionPath": [
              "AllMember"
             ],
             "namePath": [
              "AllMember"
             ],
             "properties": {
              "DISPLAY_INFO": 3
             }
            }
           ],
           [
            {
             "captionPath": [
              "AllMember",
              "Alprazolam"
             ],
             "namePath": [
              "AllMember",
              "Alprazolam"
             ],
             "properties": {
              "DISPLAY_INFO": 0
             }
            },
            {
             "captionPath": [
              "AllMember"
             ],
             "namePath": [
              "AllMember"
             ],
             "properties": {
              "DISPLAY_INFO": 65539
             }
            }
           ],
           [
            {
             "captionPath": [
              "AllMember",
              "Alprazolam"
             ],
             "namePath": [
              "AllMember",
              "Alprazolam"
             ],
             "properties": {
              "DISPLAY_INFO": 131072
             }
            },
            {
             "captionPath": [
              "AllMember",
              "1"
             ],
             "namePath": [
              "AllMember",
              "1"
             ],
             "properties": {
              "DISPLAY_INFO": 0
             }
            }
           ],
           [
            {
             "captionPath": [
              "AllMember",
              "Alprazolam"
             ],
             "namePath": [
              "AllMember",
              "Alprazolam"
             ],
             "properties": {
              "DISPLAY_INFO": 131072
             }
            },
            {
             "captionPath": [
              "AllMember",
              "2"
             ],
             "namePath": [
              "AllMember",
              "2"
             ],
             "properties": {
              "DISPLAY_INFO": 131072
             }
            }
           ],
           [
            {
             "captionPath": [
              "AllMember",
              "Alprazolam"
             ],
             "namePath": [
              "AllMember",
              "Alprazolam"
             ],
             "properties": {
              "DISPLAY_INFO": 131072
             }
            },
            {
             "captionPath": [
              "AllMember",
              "3"
             ],
             "namePath": [
              "AllMember",
              "3"
             ],
             "properties": {
              "DISPLAY_INFO": 131072
             }
            }
           ],
           [
            {
             "captionPath": [
              "AllMember",
              "Sugar"
             ],
             "namePath": [
              "AllMember",
              "Sugar"
             ],
             "properties": {
              "DISPLAY_INFO": 131072
             }
            },
            {
             "captionPath": [
              "AllMember"
             ],
             "namePath": [
              "AllMember"
             ],
             "properties": {
              "DISPLAY_INFO": 65539
             }
            }
           ],
           [
            {
             "captionPath": [
              "AllMember",
              "Sugar"
             ],
             "namePath": [
              "AllMember",
              "Sugar"
             ],
             "properties": {
              "DISPLAY_INFO": 131072
             }
            },
            {
             "captionPath": [
              "AllMember",
              "1"
             ],
             "namePath": [
              "AllMember",
              "1"
             ],
             "properties": {
              "DISPLAY_INFO": 0
             }
            }
           ],
           [
            {
             "captionPath": [
              "AllMember",
              "Sugar"
             ],
             "namePath": [
              "AllMember",
              "Sugar"
             ],
             "properties": {
              "DISPLAY_INFO": 131072
             }
            },
            {
             "captionPath": [
              "AllMember",
              "2"
             ],
             "namePath": [
              "AllMember",
              "2"
             ],
             "properties": {
              "DISPLAY_INFO": 131072
             }
            }
           ],
           [
            {
             "captionPath": [
              "AllMember",
              "Sugar"
             ],
             "namePath": [
              "AllMember",
              "Sugar"
             ],
             "properties": {
              "DISPLAY_INFO": 131072
             }
            },
            {
             "captionPath": [
              "AllMember",
              "3"
             ],
             "namePath": [
              "AllMember",
              "3"
             ],
             "properties": {
              "DISPLAY_INFO": 131072
             }
            }
           ],
           [
            {
             "captionPath": [
              "AllMember",
              "Triazolam"
             ],
             "namePath": [
              "AllMember",
              "Triazolam"
             ],
             "properties": {
              "DISPLAY_INFO": 131072
             }
            },
            {
             "captionPath": [
              "AllMember"
             ],
             "namePath": [
              "AllMember"
             ],
             "properties": {
              "DISPLAY_INFO": 65539
             }
            }
           ],
           [
            {
             "captionPath": [
              "AllMember",
              "Triazolam"
             ],
             "namePath": [
              "AllMember",
              "Triazolam"
             ],
             "properties": {
              "DISPLAY_INFO": 131072
             }
            },
            {
             "captionPath": [
              "AllMember",
              "1"
             ],
             "namePath": [
              "AllMember",
              "1"
             ],
             "properties": {
              "DISPLAY_INFO": 0
             }
            }
           ],
           [
            {
             "captionPath": [
              "AllMember",
              "Triazolam"
             ],
             "namePath": [
              "AllMember",
              "Triazolam"
             ],
             "properties": {
              "DISPLAY_INFO": 131072
             }
            },
            {
             "captionPath": [
              "AllMember",
              "2"
             ],
             "namePath": [
              "AllMember",
              "2"
             ],
             "properties": {
              "DISPLAY_INFO": 131072
             }
            }
           ],
           [
            {
             "captionPath": [
              "AllMember",
              "Triazolam"
             ],
             "namePath": [
              "AllMember",
              "Triazolam"
             ],
             "properties": {
              "DISPLAY_INFO": 131072
             }
            },
            {
             "captionPath": [
              "AllMember",
              "3"
             ],
             "namePath": [
              "AllMember",
              "3"
             ],
             "properties": {
              "DISPLAY_INFO": 131072
             }
            }
           ]
          ]
         }
        ],
        "cells": [
         {
          "formattedValue": "H0 rejected",
          "ordinal": 0,
          "properties": {
           "BACK_COLOR": 13888217,
           "FONT_FLAGS": 0,
           "FORE_COLOR": null
          },
          "value": "H0 rejected"
         },
         {
          "formattedValue": "H0 rejected",
          "ordinal": 1,
          "properties": {
           "BACK_COLOR": 13888217,
           "FONT_FLAGS": 0,
           "FORE_COLOR": null
          },
          "value": "H0 rejected"
         },
         {
          "formattedValue": "H0 rejected",
          "ordinal": 2,
          "properties": {
           "BACK_COLOR": 13888217,
           "FONT_FLAGS": 0,
           "FORE_COLOR": null
          },
          "value": "H0 rejected"
         },
         {
          "formattedValue": "1.96",
          "ordinal": 3,
          "properties": {
           "BACK_COLOR": null,
           "FONT_FLAGS": 0,
           "FORE_COLOR": null
          },
          "value": 1.96
         },
         {
          "formattedValue": "1.96",
          "ordinal": 4,
          "properties": {
           "BACK_COLOR": null,
           "FONT_FLAGS": 0,
           "FORE_COLOR": null
          },
          "value": 1.96
         },
         {
          "formattedValue": "2.33",
          "ordinal": 5,
          "properties": {
           "BACK_COLOR": null,
           "FONT_FLAGS": 0,
           "FORE_COLOR": null
          },
          "value": 2.326
         },
         {
          "formattedValue": "H0 rejected",
          "ordinal": 6,
          "properties": {
           "BACK_COLOR": 13888217,
           "FONT_FLAGS": 0,
           "FORE_COLOR": null
          },
          "value": "H0 rejected"
         },
         {
          "formattedValue": "H0 rejected",
          "ordinal": 7,
          "properties": {
           "BACK_COLOR": 13888217,
           "FONT_FLAGS": 0,
           "FORE_COLOR": null
          },
          "value": "H0 rejected"
         },
         {
          "formattedValue": "H0 rejected",
          "ordinal": 8,
          "properties": {
           "BACK_COLOR": 13888217,
           "FONT_FLAGS": 0,
           "FORE_COLOR": null
          },
          "value": "H0 rejected"
         },
         {
          "formattedValue": "1.67",
          "ordinal": 9,
          "properties": {
           "BACK_COLOR": null,
           "FONT_FLAGS": 0,
           "FORE_COLOR": null
          },
          "value": 1.6682705140701908
         },
         {
          "formattedValue": "2.00",
          "ordinal": 10,
          "properties": {
           "BACK_COLOR": null,
           "FONT_FLAGS": 0,
           "FORE_COLOR": null
          },
          "value": 1.9965644183594744
         },
         {
          "formattedValue": "2.38",
          "ordinal": 11,
          "properties": {
           "BACK_COLOR": null,
           "FONT_FLAGS": 0,
           "FORE_COLOR": null
          },
          "value": 2.3841857376781808
         },
         {
          "formattedValue": "Can't reject H0",
          "ordinal": 12,
          "properties": {
           "BACK_COLOR": null,
           "FONT_FLAGS": 0,
           "FORE_COLOR": null
          },
          "value": "Can't reject H0"
         },
         {
          "formattedValue": "Can't reject H0",
          "ordinal": 13,
          "properties": {
           "BACK_COLOR": null,
           "FONT_FLAGS": 0,
           "FORE_COLOR": null
          },
          "value": "Can't reject H0"
         },
         {
          "formattedValue": "Can't reject H0",
          "ordinal": 14,
          "properties": {
           "BACK_COLOR": null,
           "FONT_FLAGS": 0,
           "FORE_COLOR": null
          },
          "value": "Can't reject H0"
         },
         {
          "formattedValue": "1.72",
          "ordinal": 15,
          "properties": {
           "BACK_COLOR": null,
           "FONT_FLAGS": 0,
           "FORE_COLOR": null
          },
          "value": 1.717144374380242
         },
         {
          "formattedValue": "2.07",
          "ordinal": 16,
          "properties": {
           "BACK_COLOR": null,
           "FONT_FLAGS": 0,
           "FORE_COLOR": null
          },
          "value": 2.0738730679040147
         },
         {
          "formattedValue": "2.51",
          "ordinal": 17,
          "properties": {
           "BACK_COLOR": null,
           "FONT_FLAGS": 0,
           "FORE_COLOR": null
          },
          "value": 2.508324552898667
         },
         {
          "formattedValue": "H0 rejected",
          "ordinal": 18,
          "properties": {
           "BACK_COLOR": 13888217,
           "FONT_FLAGS": 0,
           "FORE_COLOR": null
          },
          "value": "H0 rejected"
         },
         {
          "formattedValue": "H0 rejected",
          "ordinal": 19,
          "properties": {
           "BACK_COLOR": 13888217,
           "FONT_FLAGS": 0,
           "FORE_COLOR": null
          },
          "value": "H0 rejected"
         },
         {
          "formattedValue": "H0 rejected",
          "ordinal": 20,
          "properties": {
           "BACK_COLOR": 13888217,
           "FONT_FLAGS": 0,
           "FORE_COLOR": null
          },
          "value": "H0 rejected"
         },
         {
          "formattedValue": "1.72",
          "ordinal": 21,
          "properties": {
           "BACK_COLOR": null,
           "FONT_FLAGS": 0,
           "FORE_COLOR": null
          },
          "value": 1.7207429028118775
         },
         {
          "formattedValue": "2.08",
          "ordinal": 22,
          "properties": {
           "BACK_COLOR": null,
           "FONT_FLAGS": 0,
           "FORE_COLOR": null
          },
          "value": 2.079613844727662
         },
         {
          "formattedValue": "2.52",
          "ordinal": 23,
          "properties": {
           "BACK_COLOR": null,
           "FONT_FLAGS": 0,
           "FORE_COLOR": null
          },
          "value": 2.517648016044097
         },
         {
          "formattedValue": "H0 rejected",
          "ordinal": 24,
          "properties": {
           "BACK_COLOR": 13888217,
           "FONT_FLAGS": 0,
           "FORE_COLOR": null
          },
          "value": "H0 rejected"
         },
         {
          "formattedValue": "H0 rejected",
          "ordinal": 25,
          "properties": {
           "BACK_COLOR": 13888217,
           "FONT_FLAGS": 0,
           "FORE_COLOR": null
          },
          "value": "H0 rejected"
         },
         {
          "formattedValue": "H0 rejected",
          "ordinal": 26,
          "properties": {
           "BACK_COLOR": 13888217,
           "FONT_FLAGS": 0,
           "FORE_COLOR": null
          },
          "value": "H0 rejected"
         },
         {
          "formattedValue": "1.72",
          "ordinal": 27,
          "properties": {
           "BACK_COLOR": null,
           "FONT_FLAGS": 0,
           "FORE_COLOR": null
          },
          "value": 1.7207429028118775
         },
         {
          "formattedValue": "2.08",
          "ordinal": 28,
          "properties": {
           "BACK_COLOR": null,
           "FONT_FLAGS": 0,
           "FORE_COLOR": null
          },
          "value": 2.079613844727662
         },
         {
          "formattedValue": "2.52",
          "ordinal": 29,
          "properties": {
           "BACK_COLOR": null,
           "FONT_FLAGS": 0,
           "FORE_COLOR": null
          },
          "value": 2.517648016044097
         },
         {
          "formattedValue": "Can't reject H0",
          "ordinal": 30,
          "properties": {
           "BACK_COLOR": null,
           "FONT_FLAGS": 0,
           "FORE_COLOR": null
          },
          "value": "Can't reject H0"
         },
         {
          "formattedValue": "Can't reject H0",
          "ordinal": 31,
          "properties": {
           "BACK_COLOR": null,
           "FONT_FLAGS": 0,
           "FORE_COLOR": null
          },
          "value": "Can't reject H0"
         },
         {
          "formattedValue": "Can't reject H0",
          "ordinal": 32,
          "properties": {
           "BACK_COLOR": null,
           "FONT_FLAGS": 0,
           "FORE_COLOR": null
          },
          "value": "Can't reject H0"
         },
         {
          "formattedValue": "1.67",
          "ordinal": 33,
          "properties": {
           "BACK_COLOR": null,
           "FONT_FLAGS": 0,
           "FORE_COLOR": null
          },
          "value": 1.6686359756775713
         },
         {
          "formattedValue": "2.00",
          "ordinal": 34,
          "properties": {
           "BACK_COLOR": null,
           "FONT_FLAGS": 0,
           "FORE_COLOR": null
          },
          "value": 1.9971379077520122
         },
         {
          "formattedValue": "2.39",
          "ordinal": 35,
          "properties": {
           "BACK_COLOR": null,
           "FONT_FLAGS": 0,
           "FORE_COLOR": null
          },
          "value": 2.3850968127155197
         },
         {
          "formattedValue": "H0 rejected",
          "ordinal": 36,
          "properties": {
           "BACK_COLOR": 13888217,
           "FONT_FLAGS": 0,
           "FORE_COLOR": null
          },
          "value": "H0 rejected"
         },
         {
          "formattedValue": "H0 rejected",
          "ordinal": 37,
          "properties": {
           "BACK_COLOR": 13888217,
           "FONT_FLAGS": 0,
           "FORE_COLOR": null
          },
          "value": "H0 rejected"
         },
         {
          "formattedValue": "Can't reject H0",
          "ordinal": 38,
          "properties": {
           "BACK_COLOR": null,
           "FONT_FLAGS": 0,
           "FORE_COLOR": null
          },
          "value": "Can't reject H0"
         },
         {
          "formattedValue": "1.72",
          "ordinal": 39,
          "properties": {
           "BACK_COLOR": null,
           "FONT_FLAGS": 0,
           "FORE_COLOR": null
          },
          "value": 1.7207429028118775
         },
         {
          "formattedValue": "2.08",
          "ordinal": 40,
          "properties": {
           "BACK_COLOR": null,
           "FONT_FLAGS": 0,
           "FORE_COLOR": null
          },
          "value": 2.079613844727662
         },
         {
          "formattedValue": "2.52",
          "ordinal": 41,
          "properties": {
           "BACK_COLOR": null,
           "FONT_FLAGS": 0,
           "FORE_COLOR": null
          },
          "value": 2.517648016044097
         },
         {
          "formattedValue": "Can't reject H0",
          "ordinal": 42,
          "properties": {
           "BACK_COLOR": null,
           "FONT_FLAGS": 0,
           "FORE_COLOR": null
          },
          "value": "Can't reject H0"
         },
         {
          "formattedValue": "Can't reject H0",
          "ordinal": 43,
          "properties": {
           "BACK_COLOR": null,
           "FONT_FLAGS": 0,
           "FORE_COLOR": null
          },
          "value": "Can't reject H0"
         },
         {
          "formattedValue": "Can't reject H0",
          "ordinal": 44,
          "properties": {
           "BACK_COLOR": null,
           "FONT_FLAGS": 0,
           "FORE_COLOR": null
          },
          "value": "Can't reject H0"
         },
         {
          "formattedValue": "1.72",
          "ordinal": 45,
          "properties": {
           "BACK_COLOR": null,
           "FONT_FLAGS": 0,
           "FORE_COLOR": null
          },
          "value": 1.7207429028118775
         },
         {
          "formattedValue": "2.08",
          "ordinal": 46,
          "properties": {
           "BACK_COLOR": null,
           "FONT_FLAGS": 0,
           "FORE_COLOR": null
          },
          "value": 2.079613844727662
         },
         {
          "formattedValue": "2.52",
          "ordinal": 47,
          "properties": {
           "BACK_COLOR": null,
           "FONT_FLAGS": 0,
           "FORE_COLOR": null
          },
          "value": 2.517648016044097
         },
         {
          "formattedValue": "Can't reject H0",
          "ordinal": 48,
          "properties": {
           "BACK_COLOR": null,
           "FONT_FLAGS": 0,
           "FORE_COLOR": null
          },
          "value": "Can't reject H0"
         },
         {
          "formattedValue": "Can't reject H0",
          "ordinal": 49,
          "properties": {
           "BACK_COLOR": null,
           "FONT_FLAGS": 0,
           "FORE_COLOR": null
          },
          "value": "Can't reject H0"
         },
         {
          "formattedValue": "Can't reject H0",
          "ordinal": 50,
          "properties": {
           "BACK_COLOR": null,
           "FONT_FLAGS": 0,
           "FORE_COLOR": null
          },
          "value": "Can't reject H0"
         },
         {
          "formattedValue": "1.72",
          "ordinal": 51,
          "properties": {
           "BACK_COLOR": null,
           "FONT_FLAGS": 0,
           "FORE_COLOR": null
          },
          "value": 1.7207429028118775
         },
         {
          "formattedValue": "2.08",
          "ordinal": 52,
          "properties": {
           "BACK_COLOR": null,
           "FONT_FLAGS": 0,
           "FORE_COLOR": null
          },
          "value": 2.079613844727662
         },
         {
          "formattedValue": "2.52",
          "ordinal": 53,
          "properties": {
           "BACK_COLOR": null,
           "FONT_FLAGS": 0,
           "FORE_COLOR": null
          },
          "value": 2.517648016044097
         },
         {
          "formattedValue": "Can't reject H0",
          "ordinal": 54,
          "properties": {
           "BACK_COLOR": null,
           "FONT_FLAGS": 0,
           "FORE_COLOR": null
          },
          "value": "Can't reject H0"
         },
         {
          "formattedValue": "Can't reject H0",
          "ordinal": 55,
          "properties": {
           "BACK_COLOR": null,
           "FONT_FLAGS": 0,
           "FORE_COLOR": null
          },
          "value": "Can't reject H0"
         },
         {
          "formattedValue": "Can't reject H0",
          "ordinal": 56,
          "properties": {
           "BACK_COLOR": null,
           "FONT_FLAGS": 0,
           "FORE_COLOR": null
          },
          "value": "Can't reject H0"
         },
         {
          "formattedValue": "1.67",
          "ordinal": 57,
          "properties": {
           "BACK_COLOR": null,
           "FONT_FLAGS": 0,
           "FORE_COLOR": null
          },
          "value": 1.669013024840352
         },
         {
          "formattedValue": "2.00",
          "ordinal": 58,
          "properties": {
           "BACK_COLOR": null,
           "FONT_FLAGS": 0,
           "FORE_COLOR": null
          },
          "value": 1.9977296536259734
         },
         {
          "formattedValue": "2.39",
          "ordinal": 59,
          "properties": {
           "BACK_COLOR": null,
           "FONT_FLAGS": 0,
           "FORE_COLOR": null
          },
          "value": 2.3860370460693847
         },
         {
          "formattedValue": "Can't reject H0",
          "ordinal": 60,
          "properties": {
           "BACK_COLOR": null,
           "FONT_FLAGS": 0,
           "FORE_COLOR": null
          },
          "value": "Can't reject H0"
         },
         {
          "formattedValue": "Can't reject H0",
          "ordinal": 61,
          "properties": {
           "BACK_COLOR": null,
           "FONT_FLAGS": 0,
           "FORE_COLOR": null
          },
          "value": "Can't reject H0"
         },
         {
          "formattedValue": "Can't reject H0",
          "ordinal": 62,
          "properties": {
           "BACK_COLOR": null,
           "FONT_FLAGS": 0,
           "FORE_COLOR": null
          },
          "value": "Can't reject H0"
         },
         {
          "formattedValue": "1.72",
          "ordinal": 63,
          "properties": {
           "BACK_COLOR": null,
           "FONT_FLAGS": 0,
           "FORE_COLOR": null
          },
          "value": 1.7207429028118775
         },
         {
          "formattedValue": "2.08",
          "ordinal": 64,
          "properties": {
           "BACK_COLOR": null,
           "FONT_FLAGS": 0,
           "FORE_COLOR": null
          },
          "value": 2.079613844727662
         },
         {
          "formattedValue": "2.52",
          "ordinal": 65,
          "properties": {
           "BACK_COLOR": null,
           "FONT_FLAGS": 0,
           "FORE_COLOR": null
          },
          "value": 2.517648016044097
         },
         {
          "formattedValue": "Can't reject H0",
          "ordinal": 66,
          "properties": {
           "BACK_COLOR": null,
           "FONT_FLAGS": 0,
           "FORE_COLOR": null
          },
          "value": "Can't reject H0"
         },
         {
          "formattedValue": "Can't reject H0",
          "ordinal": 67,
          "properties": {
           "BACK_COLOR": null,
           "FONT_FLAGS": 0,
           "FORE_COLOR": null
          },
          "value": "Can't reject H0"
         },
         {
          "formattedValue": "Can't reject H0",
          "ordinal": 68,
          "properties": {
           "BACK_COLOR": null,
           "FONT_FLAGS": 0,
           "FORE_COLOR": null
          },
          "value": "Can't reject H0"
         },
         {
          "formattedValue": "1.72",
          "ordinal": 69,
          "properties": {
           "BACK_COLOR": null,
           "FONT_FLAGS": 0,
           "FORE_COLOR": null
          },
          "value": 1.7207429028118775
         },
         {
          "formattedValue": "2.08",
          "ordinal": 70,
          "properties": {
           "BACK_COLOR": null,
           "FONT_FLAGS": 0,
           "FORE_COLOR": null
          },
          "value": 2.079613844727662
         },
         {
          "formattedValue": "2.52",
          "ordinal": 71,
          "properties": {
           "BACK_COLOR": null,
           "FONT_FLAGS": 0,
           "FORE_COLOR": null
          },
          "value": 2.517648016044097
         },
         {
          "formattedValue": "Can't reject H0",
          "ordinal": 72,
          "properties": {
           "BACK_COLOR": null,
           "FONT_FLAGS": 0,
           "FORE_COLOR": null
          },
          "value": "Can't reject H0"
         },
         {
          "formattedValue": "Can't reject H0",
          "ordinal": 73,
          "properties": {
           "BACK_COLOR": null,
           "FONT_FLAGS": 0,
           "FORE_COLOR": null
          },
          "value": "Can't reject H0"
         },
         {
          "formattedValue": "Can't reject H0",
          "ordinal": 74,
          "properties": {
           "BACK_COLOR": null,
           "FONT_FLAGS": 0,
           "FORE_COLOR": null
          },
          "value": "Can't reject H0"
         },
         {
          "formattedValue": "1.72",
          "ordinal": 75,
          "properties": {
           "BACK_COLOR": null,
           "FONT_FLAGS": 0,
           "FORE_COLOR": null
          },
          "value": 1.7247182429207857
         },
         {
          "formattedValue": "2.09",
          "ordinal": 76,
          "properties": {
           "BACK_COLOR": null,
           "FONT_FLAGS": 0,
           "FORE_COLOR": null
          },
          "value": 2.0859634472658364
         },
         {
          "formattedValue": "2.53",
          "ordinal": 77,
          "properties": {
           "BACK_COLOR": null,
           "FONT_FLAGS": 0,
           "FORE_COLOR": null
          },
          "value": 2.527977002740546
         }
        ],
        "cube": "Observations",
        "defaultMembers": [
         {
          "captionPath": [
           "Count"
          ],
          "dimension": "Measures",
          "hierarchy": "Measures",
          "path": [
           "contributors.COUNT"
          ]
         },
         {
          "captionPath": [
           "95%"
          ],
          "dimension": "Measure Simulations",
          "hierarchy": "Confidence Levels",
          "path": [
           "95%"
          ]
         },
         {
          "captionPath": [
           "Base"
          ],
          "dimension": "Epoch",
          "hierarchy": "Epoch",
          "path": [
           "Base"
          ]
         }
        ],
        "epoch": 5
       },
       "cube": "Observations",
       "error": null,
       "name": null,
       "session": "Unnamed"
      },
      "text/html": [
       "<img src=\"data:image/svg+xml;charset=utf8,%3C?xml%20version=%221.0%22%20standalone=%22no%22?%3E%0A%20%20%20%20%3Csvg%20xmlns=%22http://www.w3.org/2000/svg%22%20width=%221541%22%20height=%22360%22%3E%0A%20%20%20%20%20%20%3CforeignObject%20x=%220%22%20y=%220%22%20width=%22100%25%22%20height=%22100%25%22%3E%0A%20%20%20%20%20%20%20%20%3Cstyle%20type=%22text/css%22%3E.css-xsa55j-dock%20%7Bposition:%20relative;%20z-index:%200;%20height:%20100%25;%20background-color:%20rgb(255,%20255,%20255);%20display:%20flex;%20flex-direction:%20column%7D%0A.css-1ibuxvk-DockBody%20%7Bpadding-top:%200px;%20padding-left:%200px;%20padding-right:%200px;%20padding-bottom:%200px;%20flex-grow:%201;%20flex-shrink:%201;%20flex-basis:%200%25;%20box-sizing:%20border-box;%20position:%20relative;%20z-index:%200;%20overflow-x:%20hidden;%20overflow-y:%20hidden%7D%0A.css-14zuz97%20%7Bbackground-image:%20initial;%20background-position-x:%20initial;%20background-position-y:%20initial;%20background-size:%20initial;%20background-repeat-x:%20initial;%20background-repeat-y:%20initial;%20background-attachment:%20initial;%20background-origin:%20initial;%20background-color:%20rgba(0,%200,%200,%200.2);%20z-index:%201;%20box-sizing:%20border-box;%20background-clip:%20padding-box%7D%0A.css-14zuz97.vertical%20%7Bwidth:%2012px;%20margin-top:%200px;%20margin-right:%20-6px;%20margin-bottom:%200px;%20margin-left:%20-6px;%20border-left-width:%205.5px;%20border-left-style:%20solid;%20border-left-color:%20transparent;%20border-right-width:%205.5px;%20border-right-style:%20solid;%20border-right-color:%20transparent;%20cursor:%20col-resize%7D%0A.css-14zuz97.disabled%20%7Bdisplay:%20none%7D%0A.css-1lrljg1-EditorSplitPane%20%7Bbackground-color:%20rgb(255,%20255,%20255);%20flex-grow:%201;%20flex-shrink:%201;%20flex-basis:%200%25;%20margin-right:%200px;%20position:%20relative%7D%0A.css-15fz3t7-EditorSplitPane%20%7Bposition:%20absolute;%20top:%200px;%20bottom:%200px;%20left:%200px;%20right:%200px;%20display:%20flex;%20flex-direction:%20column%7D%0A.css-1ouk3zc-EditorSplitPane%20%7Bbackground-color:%20rgb(255,%20255,%20255);%20flex-grow:%201;%20flex-shrink:%201;%20flex-basis:%200%25%7D%0A.css-1jjvrwi-EditorSplitPane%20%7Bposition:%20absolute;%20top:%200px;%20bottom:%200px;%20left:%200px;%20right:%200px;%20overflow-y:%20auto%7D%0A.css-1k1fxuh-Tabular%20%7Bwidth:%20100%25;%20height:%20100%25;%20position:%20relative%7D%0A.css-10klw3m%20%7Bheight:%20100%25%7D%0A.css-mdjjdg-TabularHeader%20%7Bdisplay:%20flex%7D%0A.css-12nzxaz-PinnedTabularHeaders%20%7Bflex-shrink:%200;%20display:%20flex%7D%0A.css-5jtkjp-UnpinnedTabularHeaders%20%7Bdisplay:%20flex;%20position:%20absolute;%20left:%200px%7D%0A.css-19w2ip5-TabularHeaderCell%20%7Bcursor:%20default;%20-webkit-box-flex:%201;%20flex-grow:%201;%20flex-shrink:%201;%20box-sizing:%20border-box;%20padding-left:%204px;%20padding-right:%204px;%20padding-top:%204px;%20padding-bottom:%204px;%20height:%20100%25;%20overflow-x:%20hidden;%20overflow-y:%20hidden;%20display:%20flex;%20white-space:%20nowrap;%20-webkit-box-pack:%20start;%20justify-content:%20flex-start;%20align-items:%20flex-start%7D%0A.css-jpazdc-TabularHeaderCell%20%7Boverflow-x:%20hidden;%20overflow-y:%20hidden;%20text-overflow:%20ellipsis%7D%0A.css-y3oqqp%20%7Bfont-size:%2012px;%20line-height:%2022px;%20font-weight:%20600;%20color:%20rgba(0,%200,%200,%200.85)%7D%0A.css-c7y3a7-TabularHeaderCell%20%7Bflex-shrink:%200;%20height:%20100%25;%20display:%20flex;%20-webkit-box-pack:%20center;%20justify-content:%20center%7D%0A.css-1id6sm3-UnpinnedTabularRows%20%7Bposition:%20absolute;%20top:%200px;%20left:%200px%7D%0A.css-3cge9w%20%7Bcursor:%20cell;%20display:%20flex;%20height:%2028px;%20user-select:%20none%7D%0A.css-9ssj44-TreeCell%20%7Bwidth:%20min-content%7D%0A.css-mkrhzq%20%7Bdisplay:%20flex;%20margin-left:%200px%7D%0A.css-8uhtka%20%7Boverflow-x:%20hidden;%20overflow-y:%20hidden;%20text-overflow:%20ellipsis;%20white-space:%20nowrap%7D%0A.css-pm742e%20%7Bcursor:%20pointer;%20margin-top:%202px;%20height:%20inherit;%20display:%20flex;%20-webkit-box-align:%20center;%20align-items:%20center;%20font-size:%2010px;%20-webkit-box-pack:%20center;%20justify-content:%20center;%20padding-left:%204px%7D%0A.css-tlxtaa-HeaderResizer%20%7Bposition:%20absolute;%20z-index:%201;%20height:%2010px;%20width:%20120px;%20left:%200px;%20top:%2023px;%20cursor:%20row-resize%7D%0A.css-1i6gc04%20%7Bcursor:%20pointer;%20margin-top:%202px;%20height:%20inherit;%20display:%20flex;%20-webkit-box-align:%20center;%20align-items:%20center;%20font-size:%2010px;%20width:%2016px%7D%0A.css-iqyuzw%20%7Bdisplay:%20flex;%20margin-left:%2016px%7D%0A.css-8r2ljj-PinnedTabularRows%20%7Bposition:%20absolute;%20right:%200px%7D%0A.css-mkoicc-CaptionCellRenderer%20%7Bwidth:%20100%25;%20overflow-x:%20hidden;%20overflow-y:%20hidden;%20text-overflow:%20ellipsis;%20white-space:%20nowrap%7D%0A.css-t881dv-SelectionStatistics%20%7Bheight:%2020px;%20display:%20flex;%20padding-top:%205px;%20opacity:%200;%20transition-duration:%20300ms;%20transition-timing-function:%20ease;%20transition-delay:%200s;%20transition-property:%20opacity;%20position:%20absolute;%20right:%200px;%20left:%20unset%7D%0A.css-1qlioq-TabularPinnSeparator%20%7Bwidth:%202px;%20height:%2056px;%20background-color:%20rgb(233,%20233,%20233)%7D%0A.css-1ag4cda-TabularHeaderCell%20%7Bcursor:%20default;%20-webkit-box-flex:%201;%20flex-grow:%201;%20flex-shrink:%201;%20box-sizing:%20border-box;%20padding-left:%204px;%20padding-right:%204px;%20padding-top:%204px;%20padding-bottom:%204px;%20height:%20100%25;%20overflow-x:%20hidden;%20overflow-y:%20hidden;%20display:%20flex;%20overflow-wrap:%20break-word;%20-webkit-box-pack:%20start;%20justify-content:%20flex-start;%20align-items:%20flex-start%7D%0A.css-15v3rnj-TabularHeaderGroup%20%7Bposition:%20relative;%20width:%20132px%7D%0A.css-wzq3q2%20%7Bcolor:%20rgba(0,%200,%200,%200.85);%20display:%20flex;%20box-sizing:%20border-box;%20-webkit-box-align:%20center;%20align-items:%20center;%20height:%2056px;%20position:%20absolute;%20top:%200px;%20left:%200px;%20user-select:%20none;%20font-size:%2012px;%20line-height:%2022px;%20font-weight:%20600;%20border-bottom-width:%202px;%20border-bottom-style:%20solid;%20border-bottom-color:%20rgb(233,%20233,%20233);%20width:%20132px;%20border-right-width:%201px;%20border-right-style:%20solid;%20border-right-color:%20rgb(233,%20233,%20233)%7D%0A.css-4de027-HeaderResizer%20%7Bposition:%20absolute;%20z-index:%201;%20width:%2010px;%20height:%2056px;%20left:%20127px;%20top:%200px;%20cursor:%20col-resize%7D%0A.css-t82l2i-HeaderResizer%20%7Bposition:%20absolute;%20z-index:%201;%20height:%2010px;%20width:%20132px;%20left:%200px;%20top:%2051px;%20cursor:%20row-resize%7D%0A.css-j5206n%20%7Bheight:%20100%25;%20box-sizing:%20border-box;%20display:%20flex;%20-webkit-box-pack:%20end;%20justify-content:%20flex-end;%20flex-direction:%20column;%20padding-top:%204px;%20padding-left:%204px;%20padding-right:%204px;%20padding-bottom:%203px;%20overflow-x:%20hidden;%20overflow-y:%20hidden;%20white-space:%20nowrap;%20border-right-width:%201px;%20border-right-style:%20solid;%20border-right-color:%20rgb(233,%20233,%20233);%20border-bottom-width:%20initial;%20border-bottom-style:%20none;%20border-bottom-color:%20initial;%20width:%20132px;%20align-items:%20flex-start;%20background-color:%20rgb(250,%20250,%20250)%7D%0A.css-d4bedq-HeaderResizer%20%7Bposition:%20absolute;%20z-index:%201;%20height:%2010px;%20width:%20120px;%20left:%200px;%20top:%2051px;%20cursor:%20row-resize%7D%0A.css-8latmz-HeaderResizer%20%7Bposition:%20absolute;%20z-index:%201;%20height:%2010px;%20width:%20120px;%20left:%20120px;%20top:%2023px;%20cursor:%20row-resize%7D%0A.css-1d6po3z%20%7Bcolor:%20rgba(0,%200,%200,%200.85);%20display:%20flex;%20box-sizing:%20border-box;%20-webkit-box-align:%20center;%20align-items:%20center;%20height:%2028px;%20position:%20absolute;%20top:%2028px;%20left:%20120px;%20user-select:%20none;%20font-size:%2012px;%20line-height:%2022px;%20font-weight:%20600;%20border-bottom-width:%202px;%20border-bottom-style:%20solid;%20border-bottom-color:%20rgb(233,%20233,%20233);%20width:%20120px%7D%0A.css-siecsx-HeaderResizer%20%7Bposition:%20absolute;%20z-index:%201;%20width:%2010px;%20height:%2028px;%20left:%20235px;%20top:%2028px;%20cursor:%20col-resize%7D%0A.css-1qxaz9c-HeaderResizer%20%7Bposition:%20absolute;%20z-index:%201;%20height:%2010px;%20width:%20120px;%20left:%20120px;%20top:%2051px;%20cursor:%20row-resize%7D%0A.css-qpzagx-HeaderResizer%20%7Bposition:%20absolute;%20z-index:%201;%20height:%2010px;%20width:%20120px;%20left:%20240px;%20top:%2023px;%20cursor:%20row-resize%7D%0A.css-ennrn3-HeaderResizer%20%7Bposition:%20absolute;%20z-index:%201;%20width:%2010px;%20height:%2028px;%20left:%20355px;%20top:%2028px;%20cursor:%20col-resize%7D%0A.css-1ilv73b-HeaderResizer%20%7Bposition:%20absolute;%20z-index:%201;%20height:%2010px;%20width:%20120px;%20left:%20240px;%20top:%2051px;%20cursor:%20row-resize%7D%0A.css-1v86l1l-HeaderResizer%20%7Bposition:%20absolute;%20z-index:%201;%20height:%2010px;%20width:%20120px;%20left:%20360px;%20top:%2023px;%20cursor:%20row-resize%7D%0A.css-18fj8qs%20%7Bcolor:%20rgba(0,%200,%200,%200.85);%20display:%20flex;%20box-sizing:%20border-box;%20-webkit-box-align:%20center;%20align-items:%20center;%20height:%2028px;%20position:%20absolute;%20top:%2028px;%20left:%20360px;%20user-select:%20none;%20font-size:%2012px;%20line-height:%2022px;%20font-weight:%20600;%20border-bottom-width:%202px;%20border-bottom-style:%20solid;%20border-bottom-color:%20rgb(233,%20233,%20233);%20width:%20120px%7D%0A.css-10s8a8y-HeaderResizer%20%7Bposition:%20absolute;%20z-index:%201;%20width:%2010px;%20height:%2028px;%20left:%20475px;%20top:%2028px;%20cursor:%20col-resize%7D%0A.css-6bbxag-HeaderResizer%20%7Bposition:%20absolute;%20z-index:%201;%20height:%2010px;%20width:%20120px;%20left:%20360px;%20top:%2051px;%20cursor:%20row-resize%7D%0A.css-vqbc0g-HeaderResizer%20%7Bposition:%20absolute;%20z-index:%201;%20height:%2010px;%20width:%20120px;%20left:%20480px;%20top:%2023px;%20cursor:%20row-resize%7D%0A.css-s54zbd-HeaderResizer%20%7Bposition:%20absolute;%20z-index:%201;%20width:%2010px;%20height:%2028px;%20left:%20595px;%20top:%2028px;%20cursor:%20col-resize%7D%0A.css-109w555-HeaderResizer%20%7Bposition:%20absolute;%20z-index:%201;%20height:%2010px;%20width:%20120px;%20left:%20480px;%20top:%2051px;%20cursor:%20row-resize%7D%0A.css-1czkwdb-UnpinnedTabularHeaders%20%7Boverflow-x:%20hidden;%20overflow-y:%20hidden;%20position:%20relative;%20width:%201409px;%20height:%2056px%7D%0A.css-dmx9tj%20%7Bcolor:%20rgba(0,%200,%200,%200.85);%20display:%20flex;%20box-sizing:%20border-box;%20-webkit-box-align:%20center;%20align-items:%20center;%20height:%2028px;%20position:%20absolute;%20top:%2028px;%20left:%200px;%20user-select:%20none;%20font-size:%2012px;%20line-height:%2022px;%20font-weight:%20600;%20border-bottom-width:%202px;%20border-bottom-style:%20solid;%20border-bottom-color:%20rgb(233,%20233,%20233);%20width:%20120px%7D%0A.css-4qo1go-HeaderResizer%20%7Bposition:%20absolute;%20z-index:%201;%20width:%2010px;%20height:%2028px;%20left:%20115px;%20top:%2028px;%20cursor:%20col-resize%7D%0A.css-o6093x%20%7Bcolor:%20rgba(0,%200,%200,%200.85);%20display:%20flex;%20box-sizing:%20border-box;%20-webkit-box-align:%20center;%20align-items:%20center;%20height:%2028px;%20position:%20absolute;%20top:%2028px;%20left:%20480px;%20user-select:%20none;%20font-size:%2012px;%20line-height:%2022px;%20font-weight:%20600;%20border-bottom-width:%202px;%20border-bottom-style:%20solid;%20border-bottom-color:%20rgb(233,%20233,%20233);%20width:%20120px%7D%0A.css-15y4bts-HeaderResizer%20%7Bposition:%20absolute;%20z-index:%201;%20height:%2010px;%20width:%20120px;%20left:%20600px;%20top:%2023px;%20cursor:%20row-resize%7D%0A.css-g1r08q%20%7Bcolor:%20rgba(0,%200,%200,%200.85);%20display:%20flex;%20box-sizing:%20border-box;%20-webkit-box-align:%20center;%20align-items:%20center;%20height:%2028px;%20position:%20absolute;%20top:%2028px;%20left:%20600px;%20user-select:%20none;%20font-size:%2012px;%20line-height:%2022px;%20font-weight:%20600;%20border-bottom-width:%202px;%20border-bottom-style:%20solid;%20border-bottom-color:%20rgb(233,%20233,%20233);%20width:%20120px;%20border-right-width:%201px;%20border-right-style:%20solid;%20border-right-color:%20rgb(233,%20233,%20233)%7D%0A.css-pk0ga1-HeaderResizer%20%7Bposition:%20absolute;%20z-index:%201;%20width:%2010px;%20height:%2028px;%20left:%20715px;%20top:%2028px;%20cursor:%20col-resize%7D%0A.css-1s7uybd-HeaderResizer%20%7Bposition:%20absolute;%20z-index:%201;%20height:%2010px;%20width:%20120px;%20left:%20600px;%20top:%2051px;%20cursor:%20row-resize%7D%0A.css-1p9muhq-PinnedTabularRows%20%7Bposition:%20absolute;%20overflow-x:%20hidden;%20overflow-y:%20hidden;%20top:%200px;%20width:%20132px%7D%0A.css-u5988i%20%7Bheight:%20100%25;%20box-sizing:%20border-box;%20display:%20flex;%20-webkit-box-pack:%20end;%20justify-content:%20flex-end;%20flex-direction:%20column;%20padding-top:%204px;%20padding-left:%204px;%20padding-right:%204px;%20padding-bottom:%203px;%20overflow-x:%20hidden;%20overflow-y:%20hidden;%20white-space:%20nowrap;%20border-right-width:%201px;%20border-right-style:%20solid;%20border-right-color:%20rgb(233,%20233,%20233);%20border-bottom-width:%20initial;%20border-bottom-style:%20none;%20border-bottom-color:%20initial;%20width:%20132px;%20align-items:%20flex-start%7D%0A.css-jo0cd8%20%7Bcolor:%20rgba(0,%200,%200,%200.85);%20display:%20flex;%20box-sizing:%20border-box;%20-webkit-box-align:%20center;%20align-items:%20center;%20height:%2028px;%20position:%20absolute;%20top:%2028px;%20left:%20240px;%20user-select:%20none;%20font-size:%2012px;%20line-height:%2022px;%20font-weight:%20600;%20border-bottom-width:%202px;%20border-bottom-style:%20solid;%20border-bottom-color:%20rgb(233,%20233,%20233);%20width:%20120px;%20border-right-width:%201px;%20border-right-style:%20solid;%20border-right-color:%20rgb(233,%20233,%20233)%7D%0A.css-wvyx8h-PinnedTabularRows%20%7Bwidth:%202px;%20height:%20336px;%20background-color:%20rgb(233,%20233,%20233)%7D%0A.css-1hcmypl-TabularCell%20%7Bheight:%2028px;%20box-sizing:%20border-box;%20display:%20flex;%20-webkit-box-pack:%20end;%20justify-content:%20flex-end;%20flex-direction:%20column;%20padding-top:%204px;%20padding-left:%204px;%20padding-right:%204px;%20padding-bottom:%203px;%20overflow-x:%20hidden;%20overflow-y:%20hidden;%20white-space:%20nowrap;%20border-right-width:%201px;%20border-right-style:%20solid;%20border-right-color:%20rgb(233,%20233,%20233);%20border-bottom-width:%20initial;%20border-bottom-style:%20none;%20border-bottom-color:%20initial;%20width:%20120px;%20background-color:%20rgb(250,%20250,%20250);%20cursor:%20cell;%20user-select:%20none;%20text-align:%20right;%20align-items:%20flex-end%7D%0A.css-qazlap-TabularCell%20%7Bheight:%2028px;%20box-sizing:%20border-box;%20display:%20flex;%20-webkit-box-pack:%20end;%20justify-content:%20flex-end;%20flex-direction:%20column;%20padding-top:%204px;%20padding-left:%204px;%20padding-right:%204px;%20padding-bottom:%203px;%20overflow-x:%20hidden;%20overflow-y:%20hidden;%20white-space:%20nowrap;%20border-right-width:%201px;%20border-right-style:%20solid;%20border-right-color:%20rgb(233,%20233,%20233);%20border-bottom-width:%20initial;%20border-bottom-style:%20none;%20border-bottom-color:%20initial;%20width:%20120px;%20cursor:%20cell;%20user-select:%20none;%20text-align:%20right;%20align-items:%20flex-end%7D%0A.css-1l1020t%20%7Bheight:%20284px;%20overflow-y:%20auto;%20overflow-x:%20hidden;%20z-index:%201%7D%0A.css-12yr8py-TabularHeaderGroup%20%7Bposition:%20relative;%20width:%20720px%7D%0A.css-1ff70g5%20%7Bfont-size:%2012px;%20line-height:%2022px;%20font-weight:%20600;%20color:%20rgba(0,%200,%200,%200.85);%20text-align:%20center;%20-webkit-box-align:%20center;%20align-items:%20center;%20box-sizing:%20border-box;%20padding-left:%203px;%20padding-right:%203px;%20padding-top:%204px;%20padding-bottom:%204px;%20border-right-width:%201px;%20border-right-style:%20solid;%20border-right-color:%20rgb(233,%20233,%20233);%20width:%20360px;%20height:%2028px;%20position:%20absolute;%20top:%200px;%20left:%200px;%20cursor:%20auto;%20user-select:%20none;%20white-space:%20nowrap;%20text-overflow:%20ellipsis;%20overflow-x:%20hidden;%20overflow-y:%20hidden%7D%0A.css-skapwg%20%7Bfont-size:%2012px;%20line-height:%2022px;%20font-weight:%20600;%20color:%20rgba(0,%200,%200,%200.85);%20text-align:%20center;%20-webkit-box-align:%20center;%20align-items:%20center;%20box-sizing:%20border-box;%20padding-left:%203px;%20padding-right:%203px;%20padding-top:%204px;%20padding-bottom:%204px;%20border-right-width:%201px;%20border-right-style:%20solid;%20border-right-color:%20rgb(233,%20233,%20233);%20width:%20360px;%20height:%2028px;%20position:%20absolute;%20top:%200px;%20left:%20360px;%20cursor:%20auto;%20user-select:%20none;%20white-space:%20nowrap;%20text-overflow:%20ellipsis;%20overflow-x:%20hidden;%20overflow-y:%20hidden%7D%0A.css-qc9d98-TabularCell%20%7Bheight:%2028px;%20box-sizing:%20border-box;%20display:%20flex;%20-webkit-box-pack:%20end;%20justify-content:%20flex-end;%20flex-direction:%20column;%20padding-top:%204px;%20padding-left:%204px;%20padding-right:%204px;%20padding-bottom:%203px;%20overflow-x:%20hidden;%20overflow-y:%20hidden;%20white-space:%20nowrap;%20border-right-width:%201px;%20border-right-style:%20solid;%20border-right-color:%20rgb(233,%20233,%20233);%20border-bottom-width:%20initial;%20border-bottom-style:%20none;%20border-bottom-color:%20initial;%20width:%20120px;%20border-top-width:%201px;%20border-top-style:%20solid;%20border-top-color:%20rgb(233,%20233,%20233);%20cursor:%20cell;%20user-select:%20none;%20text-align:%20right;%20align-items:%20flex-end%7D%0A.css-k8n4c6-TabularCell%20%7Bheight:%2028px;%20box-sizing:%20border-box;%20display:%20flex;%20-webkit-box-pack:%20end;%20justify-content:%20flex-end;%20flex-direction:%20column;%20padding-top:%204px;%20padding-left:%204px;%20padding-right:%204px;%20padding-bottom:%203px;%20overflow-x:%20hidden;%20overflow-y:%20hidden;%20white-space:%20nowrap;%20border-right-width:%201px;%20border-right-style:%20solid;%20border-right-color:%20rgb(233,%20233,%20233);%20border-bottom-width:%20initial;%20border-bottom-style:%20none;%20border-bottom-color:%20initial;%20width:%20120px;%20cursor:%20cell;%20user-select:%20none;%20text-align:%20right;%20background-color:%20rgb(217,%20234,%20211);%20align-items:%20flex-end%7D%0A.css-10yddu9-TabularCell%20%7Bheight:%2028px;%20box-sizing:%20border-box;%20display:%20flex;%20-webkit-box-pack:%20end;%20justify-content:%20flex-end;%20flex-direction:%20column;%20padding-top:%204px;%20padding-left:%204px;%20padding-right:%204px;%20padding-bottom:%203px;%20overflow-x:%20hidden;%20overflow-y:%20hidden;%20white-space:%20nowrap;%20border-right-width:%201px;%20border-right-style:%20solid;%20border-right-color:%20rgb(233,%20233,%20233);%20border-bottom-width:%20initial;%20border-bottom-style:%20none;%20border-bottom-color:%20initial;%20width:%20120px;%20background-color:%20rgb(217,%20234,%20211);%20cursor:%20cell;%20user-select:%20none;%20text-align:%20right;%20align-items:%20flex-end%7D%0A.css-1gl4227-Tabular%20%7Bposition:%20relative;%20height:%20100%25;%20width:%20871px%7D%0A.css-blbt6g-TabularBody%20%7Bposition:%20relative;%20overflow-x:%20hidden;%20overflow-y:%20hidden;%20top:%200px;%20width:%20871px;%20height:%20284px%7D%0A.css-13kbe4v-PinnedTabularRows%20%7Bposition:%20absolute;%20height:%20284px;%20width:%20134px;%20overflow-x:%20hidden;%20overflow-y:%20hidden%7D%0A.css-ed3vu5%20%7Bheight:%20100%25;%20box-sizing:%20border-box;%20display:%20flex;%20-webkit-box-pack:%20end;%20justify-content:%20flex-end;%20flex-direction:%20column;%20padding-top:%204px;%20padding-left:%204px;%20padding-right:%204px;%20padding-bottom:%203px;%20overflow-x:%20hidden;%20overflow-y:%20hidden;%20white-space:%20nowrap;%20border-right-width:%201px;%20border-right-style:%20solid;%20border-right-color:%20rgb(233,%20233,%20233);%20border-bottom-width:%20initial;%20border-bottom-style:%20none;%20border-bottom-color:%20initial;%20width:%20132px;%20align-items:%20flex-start;%20border-top-width:%201px;%20border-top-style:%20solid;%20border-top-color:%20rgb(233,%20233,%20233)%7D%0A.css-cxwxvo-UnpinnedTabularRows%20%7Bposition:%20absolute;%20overflow-x:%20hidden;%20overflow-y:%20hidden;%20left:%20134px;%20height:%20284px;%20width:%20720px%7D%0A.css-1r5juj9-TabularCell%20%7Bheight:%2028px;%20box-sizing:%20border-box;%20display:%20flex;%20-webkit-box-pack:%20end;%20justify-content:%20flex-end;%20flex-direction:%20column;%20padding-top:%204px;%20padding-left:%204px;%20padding-right:%204px;%20padding-bottom:%203px;%20overflow-x:%20hidden;%20overflow-y:%20hidden;%20white-space:%20nowrap;%20border-right-width:%201px;%20border-right-style:%20solid;%20border-right-color:%20rgb(233,%20233,%20233);%20border-bottom-width:%20initial;%20border-bottom-style:%20none;%20border-bottom-color:%20initial;%20width:%20120px;%20border-top-width:%201px;%20border-top-style:%20solid;%20border-top-color:%20rgb(233,%20233,%20233);%20cursor:%20cell;%20user-select:%20none;%20text-align:%20right;%20background-color:%20rgb(217,%20234,%20211);%20align-items:%20flex-end%7D%0A.css-16q3o3m%20%7Bheight:%203692px;%20width:%201px%7D%0A.ant-root%20html,%20.ant-root%20%7Bwidth:%20100%25;%20height:%20100%25%7D%0A.ant-root%20*,%20.ant-root%20::before,%20.ant-root%20::after%20%7Bbox-sizing:%20border-box%7D%0A.ant-root%20%7Bmargin-top:%200px;%20margin-right:%200px;%20margin-bottom:%200px;%20margin-left:%200px;%20color:%20rgba(0,%200,%200,%200.65);%20font-size:%2014px;%20font-family:%20-apple-system,%20BlinkMacSystemFont,%20%22Segoe%20UI%22,%20%22PingFang%20SC%22,%20%22Hiragino%20Sans%20GB%22,%20%22Microsoft%20YaHei%22,%20%22Helvetica%20Neue%22,%20Helvetica,%20Arial,%20sans-serif,%20%22Apple%20Color%20Emoji%22,%20%22Segoe%20UI%20Emoji%22,%20%22Segoe%20UI%20Symbol%22;%20font-variant-ligatures:%20normal;%20font-variant-numeric:%20tabular-nums;%20font-variant-east-asian:%20normal;%20font-variant-caps:%20normal;%20line-height:%201.5;%20background-color:%20rgb(255,%20255,%20255);%20font-feature-settings:%20%22tnum%22;%20--antd-wave-shadow-color:%20undefined%7D%0A.ant-root%20.anticon%20%7Bdisplay:%20inline-block;%20color:%20inherit;%20font-style:%20normal;%20line-height:%200;%20text-align:%20center;%20text-transform:%20none;%20vertical-align:%20-0.125em;%20text-rendering:%20optimizelegibility;%20-webkit-font-smoothing:%20antialiased%7D%0A.ant-root%20.ant-typography%20%7Bcolor:%20rgba(0,%200,%200,%200.65)%7D%0A.css-1sxolix-Widget%20%7Bheight:%20100%25%7D%0A.css-1sxolix-Widget%20.ant-root:not(.atoti-widget-chooser)%20%7Bbox-shadow:%20none%7D%3C/style%3E%0A%20%20%20%20%20%20%20%20%3Cdiv%20xmlns=%22http://www.w3.org/1999/xhtml%22%20style=%22height:%20360px;%20width:%201541px%22%3E%0A%20%20%20%20%20%20%20%20%20%20%3Cdiv%20xmlns=%22http://www.w3.org/1999/xhtml%22%20class=%22css-1sxolix-Widget%22%3E%3Cdiv%20class=%22ant-root%20css-xsa55j-dock%22%3E%3Cdiv%20class=%22css-1ibuxvk-DockBody%22%3E%3Cdiv%20class=%22SplitPane%20%20vertical%20disabled%22%20style=%22display:%20flex;%20flex:%201%201%200%25;%20height:%20100%25;%20position:%20relative;%20outline:%20none;%20overflow:%20hidden;%20user-select:%20text;%20flex-direction:%20row;%20left:%200px;%20right:%200px;%22%3E%3Cdiv%20class=%22Pane%20vertical%20Pane1%20%20%22%20style=%22flex:%201%201%200%25;%20position:%20relative;%20outline:%20none;%20display:%20flex;%20background-color:%20rgb(255,%20255,%20255);%22%3E%3Cdiv%20class=%22css-1lrljg1-EditorSplitPane%22%3E%3Cdiv%20class=%22css-15fz3t7-EditorSplitPane%22%3E%3Cdiv%20class=%22css-1k1fxuh-Tabular%22%3E%3Cdiv%20class=%22css-10klw3m%22%3E%3Cdiv%20tabindex=%220%22%20class=%22css-1gl4227-Tabular%22%3E%3Cdiv%20class=%22css-192kvjv-Tabular%22%3E%3Cdiv%20class=%22css-mdjjdg-TabularHeader%22%3E%3Cdiv%20class=%22css-12nzxaz-PinnedTabularHeaders%22%3E%3Cdiv%20class=%22css-15v3rnj-TabularHeaderGroup%22%3E%3Cdiv%20class=%22css-wzq3q2%22%3E%3Cdiv%20class=%22css-1ag4cda-TabularHeaderCell%22%3E%3Cspan%20class=%22css-jpazdc-TabularHeaderCell%22%3E%3Cspan%3E%3Cspan%3E%3Cspan%20class=%22css-y3oqqp%22%3EDrug%20/%20Dosage%3C/span%3E%3C/span%3E%3C/span%3E%3C/span%3E%3C/div%3E%3Cdiv%20class=%22css-c7y3a7-TabularHeaderCell%22%3E%3C/div%3E%3C/div%3E%3Cdiv%20class=%22css-4de027-HeaderResizer%22%3E%3C/div%3E%3Cdiv%20class=%22css-t82l2i-HeaderResizer%22%3E%3C/div%3E%3C/div%3E%3Cdiv%20class=%22css-1qlioq-TabularPinnSeparator%22%3E%3C/div%3E%3C/div%3E%3Cdiv%20class=%22css-1czkwdb-UnpinnedTabularHeaders%22%3E%3Cdiv%20class=%22css-5jtkjp-UnpinnedTabularHeaders%22%3E%3Cdiv%20class=%22css-12yr8py-TabularHeaderGroup%22%3E%3Cdiv%20class=%22css-1ff70g5%22%3ETest%20Result%3C/div%3E%3Cdiv%20class=%22css-tlxtaa-HeaderResizer%22%3E%3C/div%3E%3Cdiv%20class=%22css-dmx9tj%22%3E%3Cdiv%20class=%22css-pm742e%22%3E%3C/div%3E%3Cdiv%20class=%22css-19w2ip5-TabularHeaderCell%22%3E%3Cspan%20class=%22css-jpazdc-TabularHeaderCell%22%3E%3Cspan%3E95%25%3C/span%3E%3C/span%3E%3C/div%3E%3Cdiv%20class=%22css-c7y3a7-TabularHeaderCell%22%3E%3C/div%3E%3C/div%3E%3Cdiv%20class=%22css-4qo1go-HeaderResizer%22%3E%3C/div%3E%3Cdiv%20class=%22css-d4bedq-HeaderResizer%22%3E%3C/div%3E%3Cdiv%20class=%22css-8latmz-HeaderResizer%22%3E%3C/div%3E%3Cdiv%20class=%22css-1d6po3z%22%3E%3Cdiv%20class=%22css-pm742e%22%3E%3C/div%3E%3Cdiv%20class=%22css-19w2ip5-TabularHeaderCell%22%3E%3Cspan%20class=%22css-jpazdc-TabularHeaderCell%22%3E%3Cspan%3E97.5%25%3C/span%3E%3C/span%3E%3C/div%3E%3Cdiv%20class=%22css-c7y3a7-TabularHeaderCell%22%3E%3C/div%3E%3C/div%3E%3Cdiv%20class=%22css-siecsx-HeaderResizer%22%3E%3C/div%3E%3Cdiv%20class=%22css-1qxaz9c-HeaderResizer%22%3E%3C/div%3E%3Cdiv%20class=%22css-qpzagx-HeaderResizer%22%3E%3C/div%3E%3Cdiv%20class=%22css-jo0cd8%22%3E%3Cdiv%20class=%22css-pm742e%22%3E%3C/div%3E%3Cdiv%20class=%22css-19w2ip5-TabularHeaderCell%22%3E%3Cspan%20class=%22css-jpazdc-TabularHeaderCell%22%3E%3Cspan%3E99%25%3C/span%3E%3C/span%3E%3C/div%3E%3Cdiv%20class=%22css-c7y3a7-TabularHeaderCell%22%3E%3C/div%3E%3C/div%3E%3Cdiv%20class=%22css-ennrn3-HeaderResizer%22%3E%3C/div%3E%3Cdiv%20class=%22css-1ilv73b-HeaderResizer%22%3E%3C/div%3E%3Cdiv%20class=%22css-skapwg%22%3Et-critical%3C/div%3E%3Cdiv%20class=%22css-1v86l1l-HeaderResizer%22%3E%3C/div%3E%3Cdiv%20class=%22css-18fj8qs%22%3E%3Cdiv%20class=%22css-pm742e%22%3E%3C/div%3E%3Cdiv%20class=%22css-19w2ip5-TabularHeaderCell%22%3E%3Cspan%20class=%22css-jpazdc-TabularHeaderCell%22%3E%3Cspan%3E95%25%3C/span%3E%3C/span%3E%3C/div%3E%3Cdiv%20class=%22css-c7y3a7-TabularHeaderCell%22%3E%3C/div%3E%3C/div%3E%3Cdiv%20class=%22css-10s8a8y-HeaderResizer%22%3E%3C/div%3E%3Cdiv%20class=%22css-6bbxag-HeaderResizer%22%3E%3C/div%3E%3Cdiv%20class=%22css-vqbc0g-HeaderResizer%22%3E%3C/div%3E%3Cdiv%20class=%22css-o6093x%22%3E%3Cdiv%20class=%22css-pm742e%22%3E%3C/div%3E%3Cdiv%20class=%22css-19w2ip5-TabularHeaderCell%22%3E%3Cspan%20class=%22css-jpazdc-TabularHeaderCell%22%3E%3Cspan%3E97.5%25%3C/span%3E%3C/span%3E%3C/div%3E%3Cdiv%20class=%22css-c7y3a7-TabularHeaderCell%22%3E%3C/div%3E%3C/div%3E%3Cdiv%20class=%22css-s54zbd-HeaderResizer%22%3E%3C/div%3E%3Cdiv%20class=%22css-109w555-HeaderResizer%22%3E%3C/div%3E%3Cdiv%20class=%22css-15y4bts-HeaderResizer%22%3E%3C/div%3E%3Cdiv%20class=%22css-g1r08q%22%3E%3Cdiv%20class=%22css-pm742e%22%3E%3C/div%3E%3Cdiv%20class=%22css-19w2ip5-TabularHeaderCell%22%3E%3Cspan%20class=%22css-jpazdc-TabularHeaderCell%22%3E%3Cspan%3E99%25%3C/span%3E%3C/span%3E%3C/div%3E%3Cdiv%20class=%22css-c7y3a7-TabularHeaderCell%22%3E%3C/div%3E%3C/div%3E%3Cdiv%20class=%22css-pk0ga1-HeaderResizer%22%3E%3C/div%3E%3Cdiv%20class=%22css-1s7uybd-HeaderResizer%22%3E%3C/div%3E%3C/div%3E%3C/div%3E%3C/div%3E%3C/div%3E%3Cdiv%20class=%22css-blbt6g-TabularBody%22%3E%3Cdiv%20class=%22css-13kbe4v-PinnedTabularRows%22%3E%3Cdiv%20class=%22css-1p9muhq-PinnedTabularRows%22%3E%3Cdiv%20class=%22css-3cge9w%22%3E%3Cdiv%3E%3Cdiv%20class=%22css-u5988i%22%3E%3Cdiv%20class=%22css-9ssj44-TreeCell%22%3E%3Cdiv%20class=%22css-mkrhzq%22%3E%3Cspan%20class=%22ant-typography%20css-8uhtka%22%20style=%22font-size:%2012px;%20line-height:%2020px;%20font-weight:%20600;%20color:%20rgba(0,%200,%200,%200.85);%22%3ETotal%20Drug%3C/span%3E%3C/div%3E%3C/div%3E%3C/div%3E%3C/div%3E%3C/div%3E%3Cdiv%20class=%22css-3cge9w%22%3E%3Cdiv%3E%3Cdiv%20class=%22css-ed3vu5%22%3E%3Cdiv%20class=%22css-9ssj44-TreeCell%22%3E%3Cdiv%20class=%22css-mkrhzq%22%3E%3Cdiv%20class=%22css-1i6gc04%22%3E%3Ci%20aria-label=%22icon:%20down%22%20width=%221em%22%20height=%221em%22%20class=%22anticon%20anticon-down%22%3E%3C/i%3E%3C/div%3E%3Cspan%20class=%22ant-typography%20css-8uhtka%22%20style=%22font-size:%2012px;%20line-height:%2020px;%20font-weight:%20600;%20color:%20rgba(0,%200,%200,%200.85);%22%3EAlprazolam%3C/span%3E%3C/div%3E%3C/div%3E%3C/div%3E%3C/div%3E%3C/div%3E%3Cdiv%20class=%22css-3cge9w%22%3E%3Cdiv%3E%3Cdiv%20class=%22css-j5206n%22%3E%3Cdiv%20class=%22css-9ssj44-TreeCell%22%3E%3Cdiv%20class=%22css-iqyuzw%22%3E%3Cdiv%20class=%22css-1i6gc04%22%3E%3C/div%3E%3Cspan%20class=%22ant-typography%20css-8uhtka%22%20style=%22font-size:%2012px;%20line-height:%2020px;%20font-weight:%20600;%20color:%20rgba(0,%200,%200,%200.65);%22%3E1%3C/span%3E%3C/div%3E%3C/div%3E%3C/div%3E%3C/div%3E%3C/div%3E%3Cdiv%20class=%22css-3cge9w%22%3E%3Cdiv%3E%3Cdiv%20class=%22css-u5988i%22%3E%3Cdiv%20class=%22css-9ssj44-TreeCell%22%3E%3Cdiv%20class=%22css-iqyuzw%22%3E%3Cdiv%20class=%22css-1i6gc04%22%3E%3C/div%3E%3Cspan%20class=%22ant-typography%20css-8uhtka%22%20style=%22font-size:%2012px;%20line-height:%2020px;%20font-weight:%20600;%20color:%20rgba(0,%200,%200,%200.65);%22%3E2%3C/span%3E%3C/div%3E%3C/div%3E%3C/div%3E%3C/div%3E%3C/div%3E%3Cdiv%20class=%22css-3cge9w%22%3E%3Cdiv%3E%3Cdiv%20class=%22css-j5206n%22%3E%3Cdiv%20class=%22css-9ssj44-TreeCell%22%3E%3Cdiv%20class=%22css-iqyuzw%22%3E%3Cdiv%20class=%22css-1i6gc04%22%3E%3C/div%3E%3Cspan%20class=%22ant-typography%20css-8uhtka%22%20style=%22font-size:%2012px;%20line-height:%2020px;%20font-weight:%20600;%20color:%20rgba(0,%200,%200,%200.65);%22%3E3%3C/span%3E%3C/div%3E%3C/div%3E%3C/div%3E%3C/div%3E%3C/div%3E%3Cdiv%20class=%22css-3cge9w%22%3E%3Cdiv%3E%3Cdiv%20class=%22css-ed3vu5%22%3E%3Cdiv%20class=%22css-9ssj44-TreeCell%22%3E%3Cdiv%20class=%22css-mkrhzq%22%3E%3Cdiv%20class=%22css-1i6gc04%22%3E%3Ci%20aria-label=%22icon:%20down%22%20width=%221em%22%20height=%221em%22%20class=%22anticon%20anticon-down%22%3E%3C/i%3E%3C/div%3E%3Cspan%20class=%22ant-typography%20css-8uhtka%22%20style=%22font-size:%2012px;%20line-height:%2020px;%20font-weight:%20600;%20color:%20rgba(0,%200,%200,%200.85);%22%3ESugar%3C/span%3E%3C/div%3E%3C/div%3E%3C/div%3E%3C/div%3E%3C/div%3E%3Cdiv%20class=%22css-3cge9w%22%3E%3Cdiv%3E%3Cdiv%20class=%22css-j5206n%22%3E%3Cdiv%20class=%22css-9ssj44-TreeCell%22%3E%3Cdiv%20class=%22css-iqyuzw%22%3E%3Cdiv%20class=%22css-1i6gc04%22%3E%3C/div%3E%3Cspan%20class=%22ant-typography%20css-8uhtka%22%20style=%22font-size:%2012px;%20line-height:%2020px;%20font-weight:%20600;%20color:%20rgba(0,%200,%200,%200.65);%22%3E1%3C/span%3E%3C/div%3E%3C/div%3E%3C/div%3E%3C/div%3E%3C/div%3E%3Cdiv%20class=%22css-3cge9w%22%3E%3Cdiv%3E%3Cdiv%20class=%22css-u5988i%22%3E%3Cdiv%20class=%22css-9ssj44-TreeCell%22%3E%3Cdiv%20class=%22css-iqyuzw%22%3E%3Cdiv%20class=%22css-1i6gc04%22%3E%3C/div%3E%3Cspan%20class=%22ant-typography%20css-8uhtka%22%20style=%22font-size:%2012px;%20line-height:%2020px;%20font-weight:%20600;%20color:%20rgba(0,%200,%200,%200.65);%22%3E2%3C/span%3E%3C/div%3E%3C/div%3E%3C/div%3E%3C/div%3E%3C/div%3E%3Cdiv%20class=%22css-3cge9w%22%3E%3Cdiv%3E%3Cdiv%20class=%22css-j5206n%22%3E%3Cdiv%20class=%22css-9ssj44-TreeCell%22%3E%3Cdiv%20class=%22css-iqyuzw%22%3E%3Cdiv%20class=%22css-1i6gc04%22%3E%3C/div%3E%3Cspan%20class=%22ant-typography%20css-8uhtka%22%20style=%22font-size:%2012px;%20line-height:%2020px;%20font-weight:%20600;%20color:%20rgba(0,%200,%200,%200.65);%22%3E3%3C/span%3E%3C/div%3E%3C/div%3E%3C/div%3E%3C/div%3E%3C/div%3E%3Cdiv%20class=%22css-3cge9w%22%3E%3Cdiv%3E%3Cdiv%20class=%22css-ed3vu5%22%3E%3Cdiv%20class=%22css-9ssj44-TreeCell%22%3E%3Cdiv%20class=%22css-mkrhzq%22%3E%3Cdiv%20class=%22css-1i6gc04%22%3E%3Ci%20aria-label=%22icon:%20down%22%20width=%221em%22%20height=%221em%22%20class=%22anticon%20anticon-down%22%3E%3C/i%3E%3C/div%3E%3Cspan%20class=%22ant-typography%20css-8uhtka%22%20style=%22font-size:%2012px;%20line-height:%2020px;%20font-weight:%20600;%20color:%20rgba(0,%200,%200,%200.85);%22%3ETriazolam%3C/span%3E%3C/div%3E%3C/div%3E%3C/div%3E%3C/div%3E%3C/div%3E%3Cdiv%20class=%22css-3cge9w%22%3E%3Cdiv%3E%3Cdiv%20class=%22css-j5206n%22%3E%3Cdiv%20class=%22css-9ssj44-TreeCell%22%3E%3Cdiv%20class=%22css-iqyuzw%22%3E%3Cdiv%20class=%22css-1i6gc04%22%3E%3C/div%3E%3Cspan%20class=%22ant-typography%20css-8uhtka%22%20style=%22font-size:%2012px;%20line-height:%2020px;%20font-weight:%20600;%20color:%20rgba(0,%200,%200,%200.65);%22%3E1%3C/span%3E%3C/div%3E%3C/div%3E%3C/div%3E%3C/div%3E%3C/div%3E%3Cdiv%20class=%22css-3cge9w%22%3E%3Cdiv%3E%3Cdiv%20class=%22css-u5988i%22%3E%3Cdiv%20class=%22css-9ssj44-TreeCell%22%3E%3Cdiv%20class=%22css-iqyuzw%22%3E%3Cdiv%20class=%22css-1i6gc04%22%3E%3C/div%3E%3Cspan%20class=%22ant-typography%20css-8uhtka%22%20style=%22font-size:%2012px;%20line-height:%2020px;%20font-weight:%20600;%20color:%20rgba(0,%200,%200,%200.65);%22%3E2%3C/span%3E%3C/div%3E%3C/div%3E%3C/div%3E%3C/div%3E%3C/div%3E%3C/div%3E%3Cdiv%20class=%22css-8r2ljj-PinnedTabularRows%22%3E%3Cdiv%20class=%22css-wvyx8h-PinnedTabularRows%22%3E%3C/div%3E%3C/div%3E%3C/div%3E%3Cdiv%20class=%22css-cxwxvo-UnpinnedTabularRows%22%3E%3Cdiv%20class=%22css-1id6sm3-UnpinnedTabularRows%22%3E%3Cdiv%20class=%22css-3cge9w%22%3E%3Cdiv%3E%3Cdiv%20class=%22%20css-k8n4c6-TabularCell%22%3E%3Cspan%20class=%22css-mkoicc-CaptionCellRenderer%22%3E%3Cspan%3E%3Cspan%20class=%22ant-typography%22%20style=%22font-size:%2012px;%20line-height:%2020px;%20font-weight:%20400;%22%3EH0%20rejected%3C/span%3E%3C/span%3E%3C/span%3E%3C/div%3E%3C/div%3E%3Cdiv%3E%3Cdiv%20class=%22%20css-k8n4c6-TabularCell%22%3E%3Cspan%20class=%22css-mkoicc-CaptionCellRenderer%22%3E%3Cspan%3E%3Cspan%20class=%22ant-typography%22%20style=%22font-size:%2012px;%20line-height:%2020px;%20font-weight:%20400;%22%3EH0%20rejected%3C/span%3E%3C/span%3E%3C/span%3E%3C/div%3E%3C/div%3E%3Cdiv%3E%3Cdiv%20class=%22%20css-k8n4c6-TabularCell%22%3E%3Cspan%20class=%22css-mkoicc-CaptionCellRenderer%22%3E%3Cspan%3E%3Cspan%20class=%22ant-typography%22%20style=%22font-size:%2012px;%20line-height:%2020px;%20font-weight:%20400;%22%3EH0%20rejected%3C/span%3E%3C/span%3E%3C/span%3E%3C/div%3E%3C/div%3E%3Cdiv%3E%3Cdiv%20class=%22%20css-qazlap-TabularCell%22%3E%3Cspan%20class=%22css-mkoicc-CaptionCellRenderer%22%3E%3Cspan%3E%3Cspan%20class=%22ant-typography%22%20style=%22font-size:%2012px;%20line-height:%2020px;%20font-weight:%20400;%22%3E1.96%3C/span%3E%3C/span%3E%3C/span%3E%3C/div%3E%3C/div%3E%3Cdiv%3E%3Cdiv%20class=%22%20css-qazlap-TabularCell%22%3E%3Cspan%20class=%22css-mkoicc-CaptionCellRenderer%22%3E%3Cspan%3E%3Cspan%20class=%22ant-typography%22%20style=%22font-size:%2012px;%20line-height:%2020px;%20font-weight:%20400;%22%3E1.96%3C/span%3E%3C/span%3E%3C/span%3E%3C/div%3E%3C/div%3E%3Cdiv%3E%3Cdiv%20class=%22%20css-qazlap-TabularCell%22%3E%3Cspan%20class=%22css-mkoicc-CaptionCellRenderer%22%3E%3Cspan%3E%3Cspan%20class=%22ant-typography%22%20style=%22font-size:%2012px;%20line-height:%2020px;%20font-weight:%20400;%22%3E2.33%3C/span%3E%3C/span%3E%3C/span%3E%3C/div%3E%3C/div%3E%3C/div%3E%3Cdiv%20class=%22css-3cge9w%22%3E%3Cdiv%3E%3Cdiv%20class=%22%20css-1r5juj9-TabularCell%22%3E%3Cspan%20class=%22css-mkoicc-CaptionCellRenderer%22%3E%3Cspan%3E%3Cspan%20class=%22ant-typography%22%20style=%22font-size:%2012px;%20line-height:%2020px;%20font-weight:%20400;%22%3EH0%20rejected%3C/span%3E%3C/span%3E%3C/span%3E%3C/div%3E%3C/div%3E%3Cdiv%3E%3Cdiv%20class=%22%20css-1r5juj9-TabularCell%22%3E%3Cspan%20class=%22css-mkoicc-CaptionCellRenderer%22%3E%3Cspan%3E%3Cspan%20class=%22ant-typography%22%20style=%22font-size:%2012px;%20line-height:%2020px;%20font-weight:%20400;%22%3EH0%20rejected%3C/span%3E%3C/span%3E%3C/span%3E%3C/div%3E%3C/div%3E%3Cdiv%3E%3Cdiv%20class=%22%20css-1r5juj9-TabularCell%22%3E%3Cspan%20class=%22css-mkoicc-CaptionCellRenderer%22%3E%3Cspan%3E%3Cspan%20class=%22ant-typography%22%20style=%22font-size:%2012px;%20line-height:%2020px;%20font-weight:%20400;%22%3EH0%20rejected%3C/span%3E%3C/span%3E%3C/span%3E%3C/div%3E%3C/div%3E%3Cdiv%3E%3Cdiv%20class=%22%20css-qc9d98-TabularCell%22%3E%3Cspan%20class=%22css-mkoicc-CaptionCellRenderer%22%3E%3Cspan%3E%3Cspan%20class=%22ant-typography%22%20style=%22font-size:%2012px;%20line-height:%2020px;%20font-weight:%20400;%22%3E1.67%3C/span%3E%3C/span%3E%3C/span%3E%3C/div%3E%3C/div%3E%3Cdiv%3E%3Cdiv%20class=%22%20css-qc9d98-TabularCell%22%3E%3Cspan%20class=%22css-mkoicc-CaptionCellRenderer%22%3E%3Cspan%3E%3Cspan%20class=%22ant-typography%22%20style=%22font-size:%2012px;%20line-height:%2020px;%20font-weight:%20400;%22%3E2.00%3C/span%3E%3C/span%3E%3C/span%3E%3C/div%3E%3C/div%3E%3Cdiv%3E%3Cdiv%20class=%22%20css-qc9d98-TabularCell%22%3E%3Cspan%20class=%22css-mkoicc-CaptionCellRenderer%22%3E%3Cspan%3E%3Cspan%20class=%22ant-typography%22%20style=%22font-size:%2012px;%20line-height:%2020px;%20font-weight:%20400;%22%3E2.38%3C/span%3E%3C/span%3E%3C/span%3E%3C/div%3E%3C/div%3E%3C/div%3E%3Cdiv%20class=%22css-3cge9w%22%3E%3Cdiv%3E%3Cdiv%20class=%22%20css-1hcmypl-TabularCell%22%3E%3Cspan%20class=%22css-mkoicc-CaptionCellRenderer%22%3E%3Cspan%3E%3Cspan%20class=%22ant-typography%22%20style=%22font-size:%2012px;%20line-height:%2020px;%20font-weight:%20400;%22%3ECan't%20reject%20H0%3C/span%3E%3C/span%3E%3C/span%3E%3C/div%3E%3C/div%3E%3Cdiv%3E%3Cdiv%20class=%22%20css-1hcmypl-TabularCell%22%3E%3Cspan%20class=%22css-mkoicc-CaptionCellRenderer%22%3E%3Cspan%3E%3Cspan%20class=%22ant-typography%22%20style=%22font-size:%2012px;%20line-height:%2020px;%20font-weight:%20400;%22%3ECan't%20reject%20H0%3C/span%3E%3C/span%3E%3C/span%3E%3C/div%3E%3C/div%3E%3Cdiv%3E%3Cdiv%20class=%22%20css-1hcmypl-TabularCell%22%3E%3Cspan%20class=%22css-mkoicc-CaptionCellRenderer%22%3E%3Cspan%3E%3Cspan%20class=%22ant-typography%22%20style=%22font-size:%2012px;%20line-height:%2020px;%20font-weight:%20400;%22%3ECan't%20reject%20H0%3C/span%3E%3C/span%3E%3C/span%3E%3C/div%3E%3C/div%3E%3Cdiv%3E%3Cdiv%20class=%22%20css-1hcmypl-TabularCell%22%3E%3Cspan%20class=%22css-mkoicc-CaptionCellRenderer%22%3E%3Cspan%3E%3Cspan%20class=%22ant-typography%22%20style=%22font-size:%2012px;%20line-height:%2020px;%20font-weight:%20400;%22%3E1.72%3C/span%3E%3C/span%3E%3C/span%3E%3C/div%3E%3C/div%3E%3Cdiv%3E%3Cdiv%20class=%22%20css-1hcmypl-TabularCell%22%3E%3Cspan%20class=%22css-mkoicc-CaptionCellRenderer%22%3E%3Cspan%3E%3Cspan%20class=%22ant-typography%22%20style=%22font-size:%2012px;%20line-height:%2020px;%20font-weight:%20400;%22%3E2.07%3C/span%3E%3C/span%3E%3C/span%3E%3C/div%3E%3C/div%3E%3Cdiv%3E%3Cdiv%20class=%22%20css-1hcmypl-TabularCell%22%3E%3Cspan%20class=%22css-mkoicc-CaptionCellRenderer%22%3E%3Cspan%3E%3Cspan%20class=%22ant-typography%22%20style=%22font-size:%2012px;%20line-height:%2020px;%20font-weight:%20400;%22%3E2.51%3C/span%3E%3C/span%3E%3C/span%3E%3C/div%3E%3C/div%3E%3C/div%3E%3Cdiv%20class=%22css-3cge9w%22%3E%3Cdiv%3E%3Cdiv%20class=%22%20css-k8n4c6-TabularCell%22%3E%3Cspan%20class=%22css-mkoicc-CaptionCellRenderer%22%3E%3Cspan%3E%3Cspan%20class=%22ant-typography%22%20style=%22font-size:%2012px;%20line-height:%2020px;%20font-weight:%20400;%22%3EH0%20rejected%3C/span%3E%3C/span%3E%3C/span%3E%3C/div%3E%3C/div%3E%3Cdiv%3E%3Cdiv%20class=%22%20css-k8n4c6-TabularCell%22%3E%3Cspan%20class=%22css-mkoicc-CaptionCellRenderer%22%3E%3Cspan%3E%3Cspan%20class=%22ant-typography%22%20style=%22font-size:%2012px;%20line-height:%2020px;%20font-weight:%20400;%22%3EH0%20rejected%3C/span%3E%3C/span%3E%3C/span%3E%3C/div%3E%3C/div%3E%3Cdiv%3E%3Cdiv%20class=%22%20css-k8n4c6-TabularCell%22%3E%3Cspan%20class=%22css-mkoicc-CaptionCellRenderer%22%3E%3Cspan%3E%3Cspan%20class=%22ant-typography%22%20style=%22font-size:%2012px;%20line-height:%2020px;%20font-weight:%20400;%22%3EH0%20rejected%3C/span%3E%3C/span%3E%3C/span%3E%3C/div%3E%3C/div%3E%3Cdiv%3E%3Cdiv%20class=%22%20css-qazlap-TabularCell%22%3E%3Cspan%20class=%22css-mkoicc-CaptionCellRenderer%22%3E%3Cspan%3E%3Cspan%20class=%22ant-typography%22%20style=%22font-size:%2012px;%20line-height:%2020px;%20font-weight:%20400;%22%3E1.72%3C/span%3E%3C/span%3E%3C/span%3E%3C/div%3E%3C/div%3E%3Cdiv%3E%3Cdiv%20class=%22%20css-qazlap-TabularCell%22%3E%3Cspan%20class=%22css-mkoicc-CaptionCellRenderer%22%3E%3Cspan%3E%3Cspan%20class=%22ant-typography%22%20style=%22font-size:%2012px;%20line-height:%2020px;%20font-weight:%20400;%22%3E2.08%3C/span%3E%3C/span%3E%3C/span%3E%3C/div%3E%3C/div%3E%3Cdiv%3E%3Cdiv%20class=%22%20css-qazlap-TabularCell%22%3E%3Cspan%20class=%22css-mkoicc-CaptionCellRenderer%22%3E%3Cspan%3E%3Cspan%20class=%22ant-typography%22%20style=%22font-size:%2012px;%20line-height:%2020px;%20font-weight:%20400;%22%3E2.52%3C/span%3E%3C/span%3E%3C/span%3E%3C/div%3E%3C/div%3E%3C/div%3E%3Cdiv%20class=%22css-3cge9w%22%3E%3Cdiv%3E%3Cdiv%20class=%22%20css-10yddu9-TabularCell%22%3E%3Cspan%20class=%22css-mkoicc-CaptionCellRenderer%22%3E%3Cspan%3E%3Cspan%20class=%22ant-typography%22%20style=%22font-size:%2012px;%20line-height:%2020px;%20font-weight:%20400;%22%3EH0%20rejected%3C/span%3E%3C/span%3E%3C/span%3E%3C/div%3E%3C/div%3E%3Cdiv%3E%3Cdiv%20class=%22%20css-10yddu9-TabularCell%22%3E%3Cspan%20class=%22css-mkoicc-CaptionCellRenderer%22%3E%3Cspan%3E%3Cspan%20class=%22ant-typography%22%20style=%22font-size:%2012px;%20line-height:%2020px;%20font-weight:%20400;%22%3EH0%20rejected%3C/span%3E%3C/span%3E%3C/span%3E%3C/div%3E%3C/div%3E%3Cdiv%3E%3Cdiv%20class=%22%20css-10yddu9-TabularCell%22%3E%3Cspan%20class=%22css-mkoicc-CaptionCellRenderer%22%3E%3Cspan%3E%3Cspan%20class=%22ant-typography%22%20style=%22font-size:%2012px;%20line-height:%2020px;%20font-weight:%20400;%22%3EH0%20rejected%3C/span%3E%3C/span%3E%3C/span%3E%3C/div%3E%3C/div%3E%3Cdiv%3E%3Cdiv%20class=%22%20css-1hcmypl-TabularCell%22%3E%3Cspan%20class=%22css-mkoicc-CaptionCellRenderer%22%3E%3Cspan%3E%3Cspan%20class=%22ant-typography%22%20style=%22font-size:%2012px;%20line-height:%2020px;%20font-weight:%20400;%22%3E1.72%3C/span%3E%3C/span%3E%3C/span%3E%3C/div%3E%3C/div%3E%3Cdiv%3E%3Cdiv%20class=%22%20css-1hcmypl-TabularCell%22%3E%3Cspan%20class=%22css-mkoicc-CaptionCellRenderer%22%3E%3Cspan%3E%3Cspan%20class=%22ant-typography%22%20style=%22font-size:%2012px;%20line-height:%2020px;%20font-weight:%20400;%22%3E2.08%3C/span%3E%3C/span%3E%3C/span%3E%3C/div%3E%3C/div%3E%3Cdiv%3E%3Cdiv%20class=%22%20css-1hcmypl-TabularCell%22%3E%3Cspan%20class=%22css-mkoicc-CaptionCellRenderer%22%3E%3Cspan%3E%3Cspan%20class=%22ant-typography%22%20style=%22font-size:%2012px;%20line-height:%2020px;%20font-weight:%20400;%22%3E2.52%3C/span%3E%3C/span%3E%3C/span%3E%3C/div%3E%3C/div%3E%3C/div%3E%3Cdiv%20class=%22css-3cge9w%22%3E%3Cdiv%3E%3Cdiv%20class=%22%20css-qc9d98-TabularCell%22%3E%3Cspan%20class=%22css-mkoicc-CaptionCellRenderer%22%3E%3Cspan%3E%3Cspan%20class=%22ant-typography%22%20style=%22font-size:%2012px;%20line-height:%2020px;%20font-weight:%20400;%22%3ECan't%20reject%20H0%3C/span%3E%3C/span%3E%3C/span%3E%3C/div%3E%3C/div%3E%3Cdiv%3E%3Cdiv%20class=%22%20css-qc9d98-TabularCell%22%3E%3Cspan%20class=%22css-mkoicc-CaptionCellRenderer%22%3E%3Cspan%3E%3Cspan%20class=%22ant-typography%22%20style=%22font-size:%2012px;%20line-height:%2020px;%20font-weight:%20400;%22%3ECan't%20reject%20H0%3C/span%3E%3C/span%3E%3C/span%3E%3C/div%3E%3C/div%3E%3Cdiv%3E%3Cdiv%20class=%22%20css-qc9d98-TabularCell%22%3E%3Cspan%20class=%22css-mkoicc-CaptionCellRenderer%22%3E%3Cspan%3E%3Cspan%20class=%22ant-typography%22%20style=%22font-size:%2012px;%20line-height:%2020px;%20font-weight:%20400;%22%3ECan't%20reject%20H0%3C/span%3E%3C/span%3E%3C/span%3E%3C/div%3E%3C/div%3E%3Cdiv%3E%3Cdiv%20class=%22%20css-qc9d98-TabularCell%22%3E%3Cspan%20class=%22css-mkoicc-CaptionCellRenderer%22%3E%3Cspan%3E%3Cspan%20class=%22ant-typography%22%20style=%22font-size:%2012px;%20line-height:%2020px;%20font-weight:%20400;%22%3E1.67%3C/span%3E%3C/span%3E%3C/span%3E%3C/div%3E%3C/div%3E%3Cdiv%3E%3Cdiv%20class=%22%20css-qc9d98-TabularCell%22%3E%3Cspan%20class=%22css-mkoicc-CaptionCellRenderer%22%3E%3Cspan%3E%3Cspan%20class=%22ant-typography%22%20style=%22font-size:%2012px;%20line-height:%2020px;%20font-weight:%20400;%22%3E2.00%3C/span%3E%3C/span%3E%3C/span%3E%3C/div%3E%3C/div%3E%3Cdiv%3E%3Cdiv%20class=%22%20css-qc9d98-TabularCell%22%3E%3Cspan%20class=%22css-mkoicc-CaptionCellRenderer%22%3E%3Cspan%3E%3Cspan%20class=%22ant-typography%22%20style=%22font-size:%2012px;%20line-height:%2020px;%20font-weight:%20400;%22%3E2.39%3C/span%3E%3C/span%3E%3C/span%3E%3C/div%3E%3C/div%3E%3C/div%3E%3Cdiv%20class=%22css-3cge9w%22%3E%3Cdiv%3E%3Cdiv%20class=%22%20css-10yddu9-TabularCell%22%3E%3Cspan%20class=%22css-mkoicc-CaptionCellRenderer%22%3E%3Cspan%3E%3Cspan%20class=%22ant-typography%22%20style=%22font-size:%2012px;%20line-height:%2020px;%20font-weight:%20400;%22%3EH0%20rejected%3C/span%3E%3C/span%3E%3C/span%3E%3C/div%3E%3C/div%3E%3Cdiv%3E%3Cdiv%20class=%22%20css-10yddu9-TabularCell%22%3E%3Cspan%20class=%22css-mkoicc-CaptionCellRenderer%22%3E%3Cspan%3E%3Cspan%20class=%22ant-typography%22%20style=%22font-size:%2012px;%20line-height:%2020px;%20font-weight:%20400;%22%3EH0%20rejected%3C/span%3E%3C/span%3E%3C/span%3E%3C/div%3E%3C/div%3E%3Cdiv%3E%3Cdiv%20class=%22%20css-1hcmypl-TabularCell%22%3E%3Cspan%20class=%22css-mkoicc-CaptionCellRenderer%22%3E%3Cspan%3E%3Cspan%20class=%22ant-typography%22%20style=%22font-size:%2012px;%20line-height:%2020px;%20font-weight:%20400;%22%3ECan't%20reject%20H0%3C/span%3E%3C/span%3E%3C/span%3E%3C/div%3E%3C/div%3E%3Cdiv%3E%3Cdiv%20class=%22%20css-1hcmypl-TabularCell%22%3E%3Cspan%20class=%22css-mkoicc-CaptionCellRenderer%22%3E%3Cspan%3E%3Cspan%20class=%22ant-typography%22%20style=%22font-size:%2012px;%20line-height:%2020px;%20font-weight:%20400;%22%3E1.72%3C/span%3E%3C/span%3E%3C/span%3E%3C/div%3E%3C/div%3E%3Cdiv%3E%3Cdiv%20class=%22%20css-1hcmypl-TabularCell%22%3E%3Cspan%20class=%22css-mkoicc-CaptionCellRenderer%22%3E%3Cspan%3E%3Cspan%20class=%22ant-typography%22%20style=%22font-size:%2012px;%20line-height:%2020px;%20font-weight:%20400;%22%3E2.08%3C/span%3E%3C/span%3E%3C/span%3E%3C/div%3E%3C/div%3E%3Cdiv%3E%3Cdiv%20class=%22%20css-1hcmypl-TabularCell%22%3E%3Cspan%20class=%22css-mkoicc-CaptionCellRenderer%22%3E%3Cspan%3E%3Cspan%20class=%22ant-typography%22%20style=%22font-size:%2012px;%20line-height:%2020px;%20font-weight:%20400;%22%3E2.52%3C/span%3E%3C/span%3E%3C/span%3E%3C/div%3E%3C/div%3E%3C/div%3E%3Cdiv%20class=%22css-3cge9w%22%3E%3Cdiv%3E%3Cdiv%20class=%22%20css-qazlap-TabularCell%22%3E%3Cspan%20class=%22css-mkoicc-CaptionCellRenderer%22%3E%3Cspan%3E%3Cspan%20class=%22ant-typography%22%20style=%22font-size:%2012px;%20line-height:%2020px;%20font-weight:%20400;%22%3ECan't%20reject%20H0%3C/span%3E%3C/span%3E%3C/span%3E%3C/div%3E%3C/div%3E%3Cdiv%3E%3Cdiv%20class=%22%20css-qazlap-TabularCell%22%3E%3Cspan%20class=%22css-mkoicc-CaptionCellRenderer%22%3E%3Cspan%3E%3Cspan%20class=%22ant-typography%22%20style=%22font-size:%2012px;%20line-height:%2020px;%20font-weight:%20400;%22%3ECan't%20reject%20H0%3C/span%3E%3C/span%3E%3C/span%3E%3C/div%3E%3C/div%3E%3Cdiv%3E%3Cdiv%20class=%22%20css-qazlap-TabularCell%22%3E%3Cspan%20class=%22css-mkoicc-CaptionCellRenderer%22%3E%3Cspan%3E%3Cspan%20class=%22ant-typography%22%20style=%22font-size:%2012px;%20line-height:%2020px;%20font-weight:%20400;%22%3ECan't%20reject%20H0%3C/span%3E%3C/span%3E%3C/span%3E%3C/div%3E%3C/div%3E%3Cdiv%3E%3Cdiv%20class=%22%20css-qazlap-TabularCell%22%3E%3Cspan%20class=%22css-mkoicc-CaptionCellRenderer%22%3E%3Cspan%3E%3Cspan%20class=%22ant-typography%22%20style=%22font-size:%2012px;%20line-height:%2020px;%20font-weight:%20400;%22%3E1.72%3C/span%3E%3C/span%3E%3C/span%3E%3C/div%3E%3C/div%3E%3Cdiv%3E%3Cdiv%20class=%22%20css-qazlap-TabularCell%22%3E%3Cspan%20class=%22css-mkoicc-CaptionCellRenderer%22%3E%3Cspan%3E%3Cspan%20class=%22ant-typography%22%20style=%22font-size:%2012px;%20line-height:%2020px;%20font-weight:%20400;%22%3E2.08%3C/span%3E%3C/span%3E%3C/span%3E%3C/div%3E%3C/div%3E%3Cdiv%3E%3Cdiv%20class=%22%20css-qazlap-TabularCell%22%3E%3Cspan%20class=%22css-mkoicc-CaptionCellRenderer%22%3E%3Cspan%3E%3Cspan%20class=%22ant-typography%22%20style=%22font-size:%2012px;%20line-height:%2020px;%20font-weight:%20400;%22%3E2.52%3C/span%3E%3C/span%3E%3C/span%3E%3C/div%3E%3C/div%3E%3C/div%3E%3Cdiv%20class=%22css-3cge9w%22%3E%3Cdiv%3E%3Cdiv%20class=%22%20css-1hcmypl-TabularCell%22%3E%3Cspan%20class=%22css-mkoicc-CaptionCellRenderer%22%3E%3Cspan%3E%3Cspan%20class=%22ant-typography%22%20style=%22font-size:%2012px;%20line-height:%2020px;%20font-weight:%20400;%22%3ECan't%20reject%20H0%3C/span%3E%3C/span%3E%3C/span%3E%3C/div%3E%3C/div%3E%3Cdiv%3E%3Cdiv%20class=%22%20css-1hcmypl-TabularCell%22%3E%3Cspan%20class=%22css-mkoicc-CaptionCellRenderer%22%3E%3Cspan%3E%3Cspan%20class=%22ant-typography%22%20style=%22font-size:%2012px;%20line-height:%2020px;%20font-weight:%20400;%22%3ECan't%20reject%20H0%3C/span%3E%3C/span%3E%3C/span%3E%3C/div%3E%3C/div%3E%3Cdiv%3E%3Cdiv%20class=%22%20css-1hcmypl-TabularCell%22%3E%3Cspan%20class=%22css-mkoicc-CaptionCellRenderer%22%3E%3Cspan%3E%3Cspan%20class=%22ant-typography%22%20style=%22font-size:%2012px;%20line-height:%2020px;%20font-weight:%20400;%22%3ECan't%20reject%20H0%3C/span%3E%3C/span%3E%3C/span%3E%3C/div%3E%3C/div%3E%3Cdiv%3E%3Cdiv%20class=%22%20css-1hcmypl-TabularCell%22%3E%3Cspan%20class=%22css-mkoicc-CaptionCellRenderer%22%3E%3Cspan%3E%3Cspan%20class=%22ant-typography%22%20style=%22font-size:%2012px;%20line-height:%2020px;%20font-weight:%20400;%22%3E1.72%3C/span%3E%3C/span%3E%3C/span%3E%3C/div%3E%3C/div%3E%3Cdiv%3E%3Cdiv%20class=%22%20css-1hcmypl-TabularCell%22%3E%3Cspan%20class=%22css-mkoicc-CaptionCellRenderer%22%3E%3Cspan%3E%3Cspan%20class=%22ant-typography%22%20style=%22font-size:%2012px;%20line-height:%2020px;%20font-weight:%20400;%22%3E2.08%3C/span%3E%3C/span%3E%3C/span%3E%3C/div%3E%3C/div%3E%3Cdiv%3E%3Cdiv%20class=%22%20css-1hcmypl-TabularCell%22%3E%3Cspan%20class=%22css-mkoicc-CaptionCellRenderer%22%3E%3Cspan%3E%3Cspan%20class=%22ant-typography%22%20style=%22font-size:%2012px;%20line-height:%2020px;%20font-weight:%20400;%22%3E2.52%3C/span%3E%3C/span%3E%3C/span%3E%3C/div%3E%3C/div%3E%3C/div%3E%3Cdiv%20class=%22css-3cge9w%22%3E%3Cdiv%3E%3Cdiv%20class=%22%20css-qc9d98-TabularCell%22%3E%3Cspan%20class=%22css-mkoicc-CaptionCellRenderer%22%3E%3Cspan%3E%3Cspan%20class=%22ant-typography%22%20style=%22font-size:%2012px;%20line-height:%2020px;%20font-weight:%20400;%22%3ECan't%20reject%20H0%3C/span%3E%3C/span%3E%3C/span%3E%3C/div%3E%3C/div%3E%3Cdiv%3E%3Cdiv%20class=%22%20css-qc9d98-TabularCell%22%3E%3Cspan%20class=%22css-mkoicc-CaptionCellRenderer%22%3E%3Cspan%3E%3Cspan%20class=%22ant-typography%22%20style=%22font-size:%2012px;%20line-height:%2020px;%20font-weight:%20400;%22%3ECan't%20reject%20H0%3C/span%3E%3C/span%3E%3C/span%3E%3C/div%3E%3C/div%3E%3Cdiv%3E%3Cdiv%20class=%22%20css-qc9d98-TabularCell%22%3E%3Cspan%20class=%22css-mkoicc-CaptionCellRenderer%22%3E%3Cspan%3E%3Cspan%20class=%22ant-typography%22%20style=%22font-size:%2012px;%20line-height:%2020px;%20font-weight:%20400;%22%3ECan't%20reject%20H0%3C/span%3E%3C/span%3E%3C/span%3E%3C/div%3E%3C/div%3E%3Cdiv%3E%3Cdiv%20class=%22%20css-qc9d98-TabularCell%22%3E%3Cspan%20class=%22css-mkoicc-CaptionCellRenderer%22%3E%3Cspan%3E%3Cspan%20class=%22ant-typography%22%20style=%22font-size:%2012px;%20line-height:%2020px;%20font-weight:%20400;%22%3E1.67%3C/span%3E%3C/span%3E%3C/span%3E%3C/div%3E%3C/div%3E%3Cdiv%3E%3Cdiv%20class=%22%20css-qc9d98-TabularCell%22%3E%3Cspan%20class=%22css-mkoicc-CaptionCellRenderer%22%3E%3Cspan%3E%3Cspan%20class=%22ant-typography%22%20style=%22font-size:%2012px;%20line-height:%2020px;%20font-weight:%20400;%22%3E2.00%3C/span%3E%3C/span%3E%3C/span%3E%3C/div%3E%3C/div%3E%3Cdiv%3E%3Cdiv%20class=%22%20css-qc9d98-TabularCell%22%3E%3Cspan%20class=%22css-mkoicc-CaptionCellRenderer%22%3E%3Cspan%3E%3Cspan%20class=%22ant-typography%22%20style=%22font-size:%2012px;%20line-height:%2020px;%20font-weight:%20400;%22%3E2.39%3C/span%3E%3C/span%3E%3C/span%3E%3C/div%3E%3C/div%3E%3C/div%3E%3Cdiv%20class=%22css-3cge9w%22%3E%3Cdiv%3E%3Cdiv%20class=%22%20css-1hcmypl-TabularCell%22%3E%3Cspan%20class=%22css-mkoicc-CaptionCellRenderer%22%3E%3Cspan%3E%3Cspan%20class=%22ant-typography%22%20style=%22font-size:%2012px;%20line-height:%2020px;%20font-weight:%20400;%22%3ECan't%20reject%20H0%3C/span%3E%3C/span%3E%3C/span%3E%3C/div%3E%3C/div%3E%3Cdiv%3E%3Cdiv%20class=%22%20css-1hcmypl-TabularCell%22%3E%3Cspan%20class=%22css-mkoicc-CaptionCellRenderer%22%3E%3Cspan%3E%3Cspan%20class=%22ant-typography%22%20style=%22font-size:%2012px;%20line-height:%2020px;%20font-weight:%20400;%22%3ECan't%20reject%20H0%3C/span%3E%3C/span%3E%3C/span%3E%3C/div%3E%3C/div%3E%3Cdiv%3E%3Cdiv%20class=%22%20css-1hcmypl-TabularCell%22%3E%3Cspan%20class=%22css-mkoicc-CaptionCellRenderer%22%3E%3Cspan%3E%3Cspan%20class=%22ant-typography%22%20style=%22font-size:%2012px;%20line-height:%2020px;%20font-weight:%20400;%22%3ECan't%20reject%20H0%3C/span%3E%3C/span%3E%3C/span%3E%3C/div%3E%3C/div%3E%3Cdiv%3E%3Cdiv%20class=%22%20css-1hcmypl-TabularCell%22%3E%3Cspan%20class=%22css-mkoicc-CaptionCellRenderer%22%3E%3Cspan%3E%3Cspan%20class=%22ant-typography%22%20style=%22font-size:%2012px;%20line-height:%2020px;%20font-weight:%20400;%22%3E1.72%3C/span%3E%3C/span%3E%3C/span%3E%3C/div%3E%3C/div%3E%3Cdiv%3E%3Cdiv%20class=%22%20css-1hcmypl-TabularCell%22%3E%3Cspan%20class=%22css-mkoicc-CaptionCellRenderer%22%3E%3Cspan%3E%3Cspan%20class=%22ant-typography%22%20style=%22font-size:%2012px;%20line-height:%2020px;%20font-weight:%20400;%22%3E2.08%3C/span%3E%3C/span%3E%3C/span%3E%3C/div%3E%3C/div%3E%3Cdiv%3E%3Cdiv%20class=%22%20css-1hcmypl-TabularCell%22%3E%3Cspan%20class=%22css-mkoicc-CaptionCellRenderer%22%3E%3Cspan%3E%3Cspan%20class=%22ant-typography%22%20style=%22font-size:%2012px;%20line-height:%2020px;%20font-weight:%20400;%22%3E2.52%3C/span%3E%3C/span%3E%3C/span%3E%3C/div%3E%3C/div%3E%3C/div%3E%3Cdiv%20class=%22css-3cge9w%22%3E%3Cdiv%3E%3Cdiv%20class=%22%20css-qazlap-TabularCell%22%3E%3Cspan%20class=%22css-mkoicc-CaptionCellRenderer%22%3E%3Cspan%3E%3Cspan%20class=%22ant-typography%22%20style=%22font-size:%2012px;%20line-height:%2020px;%20font-weight:%20400;%22%3ECan't%20reject%20H0%3C/span%3E%3C/span%3E%3C/span%3E%3C/div%3E%3C/div%3E%3Cdiv%3E%3Cdiv%20class=%22%20css-qazlap-TabularCell%22%3E%3Cspan%20class=%22css-mkoicc-CaptionCellRenderer%22%3E%3Cspan%3E%3Cspan%20class=%22ant-typography%22%20style=%22font-size:%2012px;%20line-height:%2020px;%20font-weight:%20400;%22%3ECan't%20reject%20H0%3C/span%3E%3C/span%3E%3C/span%3E%3C/div%3E%3C/div%3E%3Cdiv%3E%3Cdiv%20class=%22%20css-qazlap-TabularCell%22%3E%3Cspan%20class=%22css-mkoicc-CaptionCellRenderer%22%3E%3Cspan%3E%3Cspan%20class=%22ant-typography%22%20style=%22font-size:%2012px;%20line-height:%2020px;%20font-weight:%20400;%22%3ECan't%20reject%20H0%3C/span%3E%3C/span%3E%3C/span%3E%3C/div%3E%3C/div%3E%3Cdiv%3E%3Cdiv%20class=%22%20css-qazlap-TabularCell%22%3E%3Cspan%20class=%22css-mkoicc-CaptionCellRenderer%22%3E%3Cspan%3E%3Cspan%20class=%22ant-typography%22%20style=%22font-size:%2012px;%20line-height:%2020px;%20font-weight:%20400;%22%3E1.72%3C/span%3E%3C/span%3E%3C/span%3E%3C/div%3E%3C/div%3E%3Cdiv%3E%3Cdiv%20class=%22%20css-qazlap-TabularCell%22%3E%3Cspan%20class=%22css-mkoicc-CaptionCellRenderer%22%3E%3Cspan%3E%3Cspan%20class=%22ant-typography%22%20style=%22font-size:%2012px;%20line-height:%2020px;%20font-weight:%20400;%22%3E2.08%3C/span%3E%3C/span%3E%3C/span%3E%3C/div%3E%3C/div%3E%3Cdiv%3E%3Cdiv%20class=%22%20css-qazlap-TabularCell%22%3E%3Cspan%20class=%22css-mkoicc-CaptionCellRenderer%22%3E%3Cspan%3E%3Cspan%20class=%22ant-typography%22%20style=%22font-size:%2012px;%20line-height:%2020px;%20font-weight:%20400;%22%3E2.52%3C/span%3E%3C/span%3E%3C/span%3E%3C/div%3E%3C/div%3E%3C/div%3E%3C/div%3E%3C/div%3E%3Cdiv%20class=%22css-1l1020t%22%3E%3Cdiv%20class=%22css-16q3o3m%22%3E%3C/div%3E%3C/div%3E%3C/div%3E%3C/div%3E%3Cdiv%20class=%22css-t881dv-SelectionStatistics%22%3E%3C/div%3E%3C/div%3E%3C/div%3E%3C/div%3E%3C/div%3E%3C/div%3E%3C/div%3E%3Cspan%20role=%22presentation%22%20class=%22css-14zuz97%20Resizer%20vertical%20disabled%22%3E%3C/span%3E%3Cdiv%20class=%22Pane%20vertical%20Pane2%20%20%22%20style=%22flex:%200%200%20auto;%20position:%20relative;%20outline:%20none;%20width:%200px;%20display:%20flex;%20background-color:%20rgb(255,%20255,%20255);%20overflow:%20auto;%22%3E%3Cdiv%20class=%22css-1ouk3zc-EditorSplitPane%22%3E%3Cdiv%20class=%22css-1jjvrwi-EditorSplitPane%22%3E%3C/div%3E%3C/div%3E%3C/div%3E%3C/div%3E%3C/div%3E%3C/div%3E%3C/div%3E%0A%20%20%20%20%20%20%20%20%3C/div%3E%0A%20%20%20%20%20%20%3C/foreignObject%3E%0A%20%20%20%20%3C/svg%3E\">"
      ],
      "text/plain": [
       "Open the notebook in JupyterLab with the atoti extension installed and enabled to see this widget."
      ]
     },
     "metadata": {},
     "output_type": "display_data"
    }
   ],
   "source": [
    "cube.visualize()"
   ]
  },
  {
   "cell_type": "markdown",
   "metadata": {},
   "source": [
    "# Alternative data sets"
   ]
  },
  {
   "cell_type": "markdown",
   "metadata": {},
   "source": [
    "Let's imagine that we obtained memory scores data using an alternative methodology, and want to compare the test results side-by-side with the original approach."
   ]
  },
  {
   "cell_type": "code",
   "execution_count": 26,
   "metadata": {},
   "outputs": [],
   "source": [
    "observations_datastore.scenarios[\"Multicenter study data\"].load_csv(\n",
    "    \"s3://data.atoti.io/notebooks/drug-efficacy/Multi_center_study_data.csv\"\n",
    ")"
   ]
  },
  {
   "cell_type": "code",
   "execution_count": 27,
   "metadata": {
    "atoti": {
     "state": {
      "name": "",
      "type": "container",
      "value": {
       "body": {
        "configuration": {
         "tabular": {
          "addButtonFilter": "numeric",
          "cellRenderers": [
           "tree-layout"
          ],
          "columnOrder": {
           "args": {
            "orderedColumns": [
             "c-treeCells-member",
             "([Measures].[Test Result (1)],[Epoch].[Epoch].[Branch].[Multicenter study data2])",
             "([Measures].[Test Result (1)],[Epoch].[Epoch].[Branch].[Base])",
             "([Measures].[Test Result (1)],[Epoch].[Epoch].[Branch].[Multicenter study data])",
             "([Measures].[contributors.COUNT],[Epoch].[Epoch].[Branch].[Base])",
             "([Measures].[contributors.COUNT],[Epoch].[Epoch].[Branch].[Multicenter study data])",
             "([Measures].[contributors.COUNT],[Epoch].[Epoch].[Branch].[Multicenter study data2])",
             "([Measures].[t-statistic],[Epoch].[Epoch].[Branch].[Base])",
             "([Measures].[t-statistic],[Epoch].[Epoch].[Branch].[Multicenter study data])",
             "([Measures].[t-statistic],[Epoch].[Epoch].[Branch].[Multicenter study data2])",
             "([Measures].[t-critical],[Epoch].[Epoch].[Branch].[Base])",
             "([Measures].[t-critical],[Epoch].[Epoch].[Branch].[Multicenter study data])",
             "([Measures].[t-critical],[Epoch].[Epoch].[Branch].[Multicenter study data2])"
            ]
           },
           "key": "explicit"
          },
          "columnsGroups": [
           {
            "captionProducer": "firstColumn",
            "cellFactory": "kpi-status",
            "selector": "kpi-status"
           },
           {
            "captionProducer": "firstColumn",
            "cellFactory": "lookup",
            "selector": "lookup"
           },
           {
            "captionProducer": "expiry",
            "cellFactory": "expiry",
            "selector": "kpi-expiry"
           },
           {
            "captionProducer": "columnMerge",
            "cellFactory": {
             "args": {},
             "key": "treeCells"
            },
            "selector": "member"
           }
          ],
          "defaultOptions": {
           "headerHeight": 64
          },
          "expansion": {
           "automaticExpansion": true
          },
          "hideAddButton": true,
          "pinnedHeaderSelector": "member",
          "sortingMode": "non-breaking",
          "statisticsShown": true
         }
        },
        "contextValues": {},
        "mdx": "WITH  Member [Measures].[Test Result (1)] AS [Measures].[Test Result], BACK_COLOR = CASE WHEN [Measures].[Test Result (1)] = \"H0 rejected\" THEN rgb(217, 234, 211) END, CAPTION = [Measures].[Test Result].MEMBER_CAPTION  SELECT NON EMPTY Crossjoin({[Measures].[Test Result (1)], [Measures].[contributors.COUNT], [Measures].[t-statistic]}, Hierarchize([Epoch].[Epoch].[Branch].Members)) ON COLUMNS, NON EMPTY Hierarchize(DrilldownLevel([Hierarchies].[Drug].[ALL].[AllMember])) ON ROWS FROM [Observations] CELL PROPERTIES BACK_COLOR, FONT_FLAGS, FORE_COLOR, FORMATTED_VALUE, VALUE",
        "ranges": {
         "column": {
          "chunkSize": 50,
          "thresholdPercentage": 0.2
         },
         "row": {
          "chunkSize": 2000,
          "thresholdPercentage": 0.1
         }
        },
        "serverUrl": "",
        "updateMode": "once"
       },
       "containerKey": "pivot-table",
       "showTitleBar": false,
       "style": {}
      }
     }
    }
   },
   "outputs": [
    {
     "data": {
      "application/vnd.atoti.v0+json": {
       "cellSet": {
        "axes": [
         {
          "hierarchies": [
           {
            "dimension": "Measures",
            "hierarchy": "Measures"
           },
           {
            "dimension": "Epoch",
            "hierarchy": "Epoch"
           }
          ],
          "id": 0,
          "positions": [
           [
            {
             "captionPath": [
              "Test Result"
             ],
             "namePath": [
              "Test Result (1)"
             ],
             "properties": {
              "DISPLAY_INFO": 0
             }
            },
            {
             "captionPath": [
              "Base"
             ],
             "namePath": [
              "Base"
             ],
             "properties": {
              "DISPLAY_INFO": 0
             }
            }
           ],
           [
            {
             "captionPath": [
              "Test Result"
             ],
             "namePath": [
              "Test Result (1)"
             ],
             "properties": {
              "DISPLAY_INFO": 0
             }
            },
            {
             "captionPath": [
              "Multicenter study data"
             ],
             "namePath": [
              "Multicenter study data"
             ],
             "properties": {
              "DISPLAY_INFO": 0
             }
            }
           ],
           [
            {
             "captionPath": [
              "Count"
             ],
             "namePath": [
              "contributors.COUNT"
             ],
             "properties": {
              "DISPLAY_INFO": 0
             }
            },
            {
             "captionPath": [
              "Base"
             ],
             "namePath": [
              "Base"
             ],
             "properties": {
              "DISPLAY_INFO": 0
             }
            }
           ],
           [
            {
             "captionPath": [
              "Count"
             ],
             "namePath": [
              "contributors.COUNT"
             ],
             "properties": {
              "DISPLAY_INFO": 0
             }
            },
            {
             "captionPath": [
              "Multicenter study data"
             ],
             "namePath": [
              "Multicenter study data"
             ],
             "properties": {
              "DISPLAY_INFO": 0
             }
            }
           ],
           [
            {
             "captionPath": [
              "t-statistic"
             ],
             "namePath": [
              "t-statistic"
             ],
             "properties": {
              "DISPLAY_INFO": 0
             }
            },
            {
             "captionPath": [
              "Base"
             ],
             "namePath": [
              "Base"
             ],
             "properties": {
              "DISPLAY_INFO": 0
             }
            }
           ],
           [
            {
             "captionPath": [
              "t-statistic"
             ],
             "namePath": [
              "t-statistic"
             ],
             "properties": {
              "DISPLAY_INFO": 0
             }
            },
            {
             "captionPath": [
              "Multicenter study data"
             ],
             "namePath": [
              "Multicenter study data"
             ],
             "properties": {
              "DISPLAY_INFO": 0
             }
            }
           ]
          ]
         },
         {
          "hierarchies": [
           {
            "dimension": "Hierarchies",
            "hierarchy": "Drug"
           }
          ],
          "id": 1,
          "positions": [
           [
            {
             "captionPath": [
              "AllMember"
             ],
             "namePath": [
              "AllMember"
             ],
             "properties": {
              "DISPLAY_INFO": 65539
             }
            }
           ],
           [
            {
             "captionPath": [
              "AllMember",
              "Alprazolam"
             ],
             "namePath": [
              "AllMember",
              "Alprazolam"
             ],
             "properties": {
              "DISPLAY_INFO": 0
             }
            }
           ],
           [
            {
             "captionPath": [
              "AllMember",
              "Sugar"
             ],
             "namePath": [
              "AllMember",
              "Sugar"
             ],
             "properties": {
              "DISPLAY_INFO": 131072
             }
            }
           ],
           [
            {
             "captionPath": [
              "AllMember",
              "Triazolam"
             ],
             "namePath": [
              "AllMember",
              "Triazolam"
             ],
             "properties": {
              "DISPLAY_INFO": 131072
             }
            }
           ]
          ]
         }
        ],
        "cells": [
         {
          "formattedValue": "H0 rejected",
          "ordinal": 0,
          "properties": {
           "BACK_COLOR": 13888217,
           "FONT_FLAGS": 0,
           "FORE_COLOR": null
          },
          "value": "H0 rejected"
         },
         {
          "formattedValue": "H0 rejected",
          "ordinal": 1,
          "properties": {
           "BACK_COLOR": 13888217,
           "FONT_FLAGS": 0,
           "FORE_COLOR": null
          },
          "value": "H0 rejected"
         },
         {
          "formattedValue": "396",
          "ordinal": 2,
          "properties": {
           "BACK_COLOR": null,
           "FONT_FLAGS": 0,
           "FORE_COLOR": null
          },
          "value": 396
         },
         {
          "formattedValue": "397",
          "ordinal": 3,
          "properties": {
           "BACK_COLOR": null,
           "FONT_FLAGS": 0,
           "FORE_COLOR": null
          },
          "value": 397
         },
         {
          "formattedValue": "3.87",
          "ordinal": 4,
          "properties": {
           "BACK_COLOR": null,
           "FONT_FLAGS": 0,
           "FORE_COLOR": null
          },
          "value": 3.865706740208377
         },
         {
          "formattedValue": "3.88",
          "ordinal": 5,
          "properties": {
           "BACK_COLOR": null,
           "FONT_FLAGS": 0,
           "FORE_COLOR": null
          },
          "value": 3.875456331330118
         },
         {
          "formattedValue": "H0 rejected",
          "ordinal": 6,
          "properties": {
           "BACK_COLOR": 13888217,
           "FONT_FLAGS": 0,
           "FORE_COLOR": null
          },
          "value": "H0 rejected"
         },
         {
          "formattedValue": "H0 rejected",
          "ordinal": 7,
          "properties": {
           "BACK_COLOR": 13888217,
           "FONT_FLAGS": 0,
           "FORE_COLOR": null
          },
          "value": "H0 rejected"
         },
         {
          "formattedValue": "134",
          "ordinal": 8,
          "properties": {
           "BACK_COLOR": null,
           "FONT_FLAGS": 0,
           "FORE_COLOR": null
          },
          "value": 134
         },
         {
          "formattedValue": "134",
          "ordinal": 9,
          "properties": {
           "BACK_COLOR": null,
           "FONT_FLAGS": 0,
           "FORE_COLOR": null
          },
          "value": 134
         },
         {
          "formattedValue": "5.85",
          "ordinal": 10,
          "properties": {
           "BACK_COLOR": null,
           "FONT_FLAGS": 0,
           "FORE_COLOR": null
          },
          "value": 5.848567939730855
         },
         {
          "formattedValue": "5.85",
          "ordinal": 11,
          "properties": {
           "BACK_COLOR": null,
           "FONT_FLAGS": 0,
           "FORE_COLOR": null
          },
          "value": 5.848567939730855
         },
         {
          "formattedValue": "Can't reject H0",
          "ordinal": 12,
          "properties": {
           "BACK_COLOR": null,
           "FONT_FLAGS": 0,
           "FORE_COLOR": null
          },
          "value": "Can't reject H0"
         },
         {
          "formattedValue": "Can't reject H0",
          "ordinal": 13,
          "properties": {
           "BACK_COLOR": null,
           "FONT_FLAGS": 0,
           "FORE_COLOR": null
          },
          "value": "Can't reject H0"
         },
         {
          "formattedValue": "132",
          "ordinal": 14,
          "properties": {
           "BACK_COLOR": null,
           "FONT_FLAGS": 0,
           "FORE_COLOR": null
          },
          "value": 132
         },
         {
          "formattedValue": "133",
          "ordinal": 15,
          "properties": {
           "BACK_COLOR": null,
           "FONT_FLAGS": 0,
           "FORE_COLOR": null
          },
          "value": 133
         },
         {
          "formattedValue": "-0.19",
          "ordinal": 16,
          "properties": {
           "BACK_COLOR": null,
           "FONT_FLAGS": 0,
           "FORE_COLOR": null
          },
          "value": -0.18545974088425185
         },
         {
          "formattedValue": "-0.19",
          "ordinal": 17,
          "properties": {
           "BACK_COLOR": null,
           "FONT_FLAGS": 0,
           "FORE_COLOR": null
          },
          "value": -0.18685945689909397
         },
         {
          "formattedValue": "Can't reject H0",
          "ordinal": 18,
          "properties": {
           "BACK_COLOR": null,
           "FONT_FLAGS": 0,
           "FORE_COLOR": null
          },
          "value": "Can't reject H0"
         },
         {
          "formattedValue": "Can't reject H0",
          "ordinal": 19,
          "properties": {
           "BACK_COLOR": null,
           "FONT_FLAGS": 0,
           "FORE_COLOR": null
          },
          "value": "Can't reject H0"
         },
         {
          "formattedValue": "130",
          "ordinal": 20,
          "properties": {
           "BACK_COLOR": null,
           "FONT_FLAGS": 0,
           "FORE_COLOR": null
          },
          "value": 130
         },
         {
          "formattedValue": "130",
          "ordinal": 21,
          "properties": {
           "BACK_COLOR": null,
           "FONT_FLAGS": 0,
           "FORE_COLOR": null
          },
          "value": 130
         },
         {
          "formattedValue": "-0.67",
          "ordinal": 22,
          "properties": {
           "BACK_COLOR": null,
           "FONT_FLAGS": 0,
           "FORE_COLOR": null
          },
          "value": -0.6669171283034325
         },
         {
          "formattedValue": "-0.67",
          "ordinal": 23,
          "properties": {
           "BACK_COLOR": null,
           "FONT_FLAGS": 0,
           "FORE_COLOR": null
          },
          "value": -0.6669171283034325
         }
        ],
        "cube": "Observations",
        "defaultMembers": [
         {
          "captionPath": [
           "Count"
          ],
          "dimension": "Measures",
          "hierarchy": "Measures",
          "path": [
           "contributors.COUNT"
          ]
         },
         {
          "captionPath": [
           "95%"
          ],
          "dimension": "Measure Simulations",
          "hierarchy": "Confidence Levels",
          "path": [
           "95%"
          ]
         },
         {
          "captionPath": [
           "Base"
          ],
          "dimension": "Epoch",
          "hierarchy": "Epoch",
          "path": [
           "Base"
          ]
         }
        ],
        "epoch": 5
       },
       "cube": "Observations",
       "error": null,
       "name": null,
       "session": "Unnamed"
      },
      "text/html": [
       "<img src=\"data:image/svg+xml;charset=utf8,%3C?xml%20version=%221.0%22%20standalone=%22no%22?%3E%0A%20%20%20%20%3Csvg%20xmlns=%22http://www.w3.org/2000/svg%22%20width=%221541%22%20height=%22360%22%3E%0A%20%20%20%20%20%20%3CforeignObject%20x=%220%22%20y=%220%22%20width=%22100%25%22%20height=%22100%25%22%3E%0A%20%20%20%20%20%20%20%20%3Cstyle%20type=%22text/css%22%3E.css-xsa55j-dock%20%7Bposition:%20relative;%20z-index:%200;%20height:%20100%25;%20background-color:%20rgb(255,%20255,%20255);%20display:%20flex;%20flex-direction:%20column%7D%0A.css-1ibuxvk-DockBody%20%7Bpadding-top:%200px;%20padding-left:%200px;%20padding-right:%200px;%20padding-bottom:%200px;%20flex-grow:%201;%20flex-shrink:%201;%20flex-basis:%200%25;%20box-sizing:%20border-box;%20position:%20relative;%20z-index:%200;%20overflow-x:%20hidden;%20overflow-y:%20hidden%7D%0A.css-14zuz97%20%7Bbackground-image:%20initial;%20background-position-x:%20initial;%20background-position-y:%20initial;%20background-size:%20initial;%20background-repeat-x:%20initial;%20background-repeat-y:%20initial;%20background-attachment:%20initial;%20background-origin:%20initial;%20background-color:%20rgba(0,%200,%200,%200.2);%20z-index:%201;%20box-sizing:%20border-box;%20background-clip:%20padding-box%7D%0A.css-14zuz97.vertical%20%7Bwidth:%2012px;%20margin-top:%200px;%20margin-right:%20-6px;%20margin-bottom:%200px;%20margin-left:%20-6px;%20border-left-width:%205.5px;%20border-left-style:%20solid;%20border-left-color:%20transparent;%20border-right-width:%205.5px;%20border-right-style:%20solid;%20border-right-color:%20transparent;%20cursor:%20col-resize%7D%0A.css-14zuz97.disabled%20%7Bdisplay:%20none%7D%0A.css-1lrljg1-EditorSplitPane%20%7Bbackground-color:%20rgb(255,%20255,%20255);%20flex-grow:%201;%20flex-shrink:%201;%20flex-basis:%200%25;%20margin-right:%200px;%20position:%20relative%7D%0A.css-15fz3t7-EditorSplitPane%20%7Bposition:%20absolute;%20top:%200px;%20bottom:%200px;%20left:%200px;%20right:%200px;%20display:%20flex;%20flex-direction:%20column%7D%0A.css-1ouk3zc-EditorSplitPane%20%7Bbackground-color:%20rgb(255,%20255,%20255);%20flex-grow:%201;%20flex-shrink:%201;%20flex-basis:%200%25%7D%0A.css-1jjvrwi-EditorSplitPane%20%7Bposition:%20absolute;%20top:%200px;%20bottom:%200px;%20left:%200px;%20right:%200px;%20overflow-y:%20auto%7D%0A.css-1k1fxuh-Tabular%20%7Bwidth:%20100%25;%20height:%20100%25;%20position:%20relative%7D%0A.css-10klw3m%20%7Bheight:%20100%25%7D%0A.css-mdjjdg-TabularHeader%20%7Bdisplay:%20flex%7D%0A.css-12nzxaz-PinnedTabularHeaders%20%7Bflex-shrink:%200;%20display:%20flex%7D%0A.css-5jtkjp-UnpinnedTabularHeaders%20%7Bdisplay:%20flex;%20position:%20absolute;%20left:%200px%7D%0A.css-jpazdc-TabularHeaderCell%20%7Boverflow-x:%20hidden;%20overflow-y:%20hidden;%20text-overflow:%20ellipsis%7D%0A.css-y3oqqp%20%7Bfont-size:%2012px;%20line-height:%2022px;%20font-weight:%20600;%20color:%20rgba(0,%200,%200,%200.85)%7D%0A.css-c7y3a7-TabularHeaderCell%20%7Bflex-shrink:%200;%20height:%20100%25;%20display:%20flex;%20-webkit-box-pack:%20center;%20justify-content:%20center%7D%0A.css-1id6sm3-UnpinnedTabularRows%20%7Bposition:%20absolute;%20top:%200px;%20left:%200px%7D%0A.css-3cge9w%20%7Bcursor:%20cell;%20display:%20flex;%20height:%2028px;%20user-select:%20none%7D%0A.css-9ssj44-TreeCell%20%7Bwidth:%20min-content%7D%0A.css-mkrhzq%20%7Bdisplay:%20flex;%20margin-left:%200px%7D%0A.css-8uhtka%20%7Boverflow-x:%20hidden;%20overflow-y:%20hidden;%20text-overflow:%20ellipsis;%20white-space:%20nowrap%7D%0A.css-pm742e%20%7Bcursor:%20pointer;%20margin-top:%202px;%20height:%20inherit;%20display:%20flex;%20-webkit-box-align:%20center;%20align-items:%20center;%20font-size:%2010px;%20-webkit-box-pack:%20center;%20justify-content:%20center;%20padding-left:%204px%7D%0A.css-1i6gc04%20%7Bcursor:%20pointer;%20margin-top:%202px;%20height:%20inherit;%20display:%20flex;%20-webkit-box-align:%20center;%20align-items:%20center;%20font-size:%2010px;%20width:%2016px%7D%0A.css-8r2ljj-PinnedTabularRows%20%7Bposition:%20absolute;%20right:%200px%7D%0A.css-mkoicc-CaptionCellRenderer%20%7Bwidth:%20100%25;%20overflow-x:%20hidden;%20overflow-y:%20hidden;%20text-overflow:%20ellipsis;%20white-space:%20nowrap%7D%0A.css-t881dv-SelectionStatistics%20%7Bheight:%2020px;%20display:%20flex;%20padding-top:%205px;%20opacity:%200;%20transition-duration:%20300ms;%20transition-timing-function:%20ease;%20transition-delay:%200s;%20transition-property:%20opacity;%20position:%20absolute;%20right:%200px;%20left:%20unset%7D%0A.css-1ag4cda-TabularHeaderCell%20%7Bcursor:%20default;%20-webkit-box-flex:%201;%20flex-grow:%201;%20flex-shrink:%201;%20box-sizing:%20border-box;%20padding-left:%204px;%20padding-right:%204px;%20padding-top:%204px;%20padding-bottom:%204px;%20height:%20100%25;%20overflow-x:%20hidden;%20overflow-y:%20hidden;%20display:%20flex;%20overflow-wrap:%20break-word;%20-webkit-box-pack:%20start;%20justify-content:%20flex-start;%20align-items:%20flex-start%7D%0A.css-11k5ac9-PinnedTabularRows%20%7Bwidth:%202px;%20height:%20112px;%20background-color:%20rgb(233,%20233,%20233)%7D%0A.css-90jv4-TabularHeaderGroup%20%7Bposition:%20relative;%20width:%20300px%7D%0A.css-dko0re%20%7Bheight:%20100%25;%20box-sizing:%20border-box;%20display:%20flex;%20-webkit-box-pack:%20end;%20justify-content:%20flex-end;%20flex-direction:%20column;%20padding-top:%204px;%20padding-left:%204px;%20padding-right:%204px;%20padding-bottom:%203px;%20overflow-x:%20hidden;%20overflow-y:%20hidden;%20white-space:%20nowrap;%20border-right-width:%201px;%20border-right-style:%20solid;%20border-right-color:%20rgb(233,%20233,%20233);%20border-bottom-width:%20initial;%20border-bottom-style:%20none;%20border-bottom-color:%20initial;%20width:%20300px;%20align-items:%20flex-start%7D%0A.css-134urz3-PinnedTabularRows%20%7Bposition:%20absolute;%20overflow-x:%20hidden;%20overflow-y:%20hidden;%20top:%200px;%20width:%20300px%7D%0A.css-jyaidn%20%7Bheight:%20100%25;%20box-sizing:%20border-box;%20display:%20flex;%20-webkit-box-pack:%20end;%20justify-content:%20flex-end;%20flex-direction:%20column;%20padding-top:%204px;%20padding-left:%204px;%20padding-right:%204px;%20padding-bottom:%203px;%20overflow-x:%20hidden;%20overflow-y:%20hidden;%20white-space:%20nowrap;%20border-right-width:%201px;%20border-right-style:%20solid;%20border-right-color:%20rgb(233,%20233,%20233);%20border-bottom-width:%20initial;%20border-bottom-style:%20none;%20border-bottom-color:%20initial;%20width:%20300px;%20align-items:%20flex-start;%20background-color:%20rgb(250,%20250,%20250)%7D%0A.css-166mc38%20%7Bheight:%20100%25;%20box-sizing:%20border-box;%20display:%20flex;%20-webkit-box-pack:%20end;%20justify-content:%20flex-end;%20flex-direction:%20column;%20padding-top:%204px;%20padding-left:%204px;%20padding-right:%204px;%20padding-bottom:%203px;%20overflow-x:%20hidden;%20overflow-y:%20hidden;%20white-space:%20nowrap;%20border-right-width:%201px;%20border-right-style:%20solid;%20border-right-color:%20rgb(233,%20233,%20233);%20border-bottom-width:%201px;%20border-bottom-style:%20solid;%20border-bottom-color:%20rgb(233,%20233,%20233);%20width:%20300px;%20align-items:%20flex-start%7D%0A.css-1hcmypl-TabularCell%20%7Bheight:%2028px;%20box-sizing:%20border-box;%20display:%20flex;%20-webkit-box-pack:%20end;%20justify-content:%20flex-end;%20flex-direction:%20column;%20padding-top:%204px;%20padding-left:%204px;%20padding-right:%204px;%20padding-bottom:%203px;%20overflow-x:%20hidden;%20overflow-y:%20hidden;%20white-space:%20nowrap;%20border-right-width:%201px;%20border-right-style:%20solid;%20border-right-color:%20rgb(233,%20233,%20233);%20border-bottom-width:%20initial;%20border-bottom-style:%20none;%20border-bottom-color:%20initial;%20width:%20120px;%20background-color:%20rgb(250,%20250,%20250);%20cursor:%20cell;%20user-select:%20none;%20text-align:%20right;%20align-items:%20flex-end%7D%0A.css-qazlap-TabularCell%20%7Bheight:%2028px;%20box-sizing:%20border-box;%20display:%20flex;%20-webkit-box-pack:%20end;%20justify-content:%20flex-end;%20flex-direction:%20column;%20padding-top:%204px;%20padding-left:%204px;%20padding-right:%204px;%20padding-bottom:%203px;%20overflow-x:%20hidden;%20overflow-y:%20hidden;%20white-space:%20nowrap;%20border-right-width:%201px;%20border-right-style:%20solid;%20border-right-color:%20rgb(233,%20233,%20233);%20border-bottom-width:%20initial;%20border-bottom-style:%20none;%20border-bottom-color:%20initial;%20width:%20120px;%20cursor:%20cell;%20user-select:%20none;%20text-align:%20right;%20align-items:%20flex-end%7D%0A.css-jhoio-Tabular%20%7Bposition:%20relative;%20height:%20100%25;%20width:%201039px%7D%0A.css-12yr8py-TabularHeaderGroup%20%7Bposition:%20relative;%20width:%20720px%7D%0A.css-1ldls9z-TabularPinnSeparator%20%7Bwidth:%202px;%20height:%20128px;%20background-color:%20rgb(233,%20233,%20233)%7D%0A.css-zdwkvh%20%7Bcolor:%20rgba(0,%200,%200,%200.85);%20display:%20flex;%20box-sizing:%20border-box;%20-webkit-box-align:%20center;%20align-items:%20center;%20height:%20128px;%20position:%20absolute;%20top:%200px;%20left:%200px;%20user-select:%20none;%20font-size:%2012px;%20line-height:%2022px;%20font-weight:%20600;%20border-bottom-width:%202px;%20border-bottom-style:%20solid;%20border-bottom-color:%20rgb(233,%20233,%20233);%20width:%20300px;%20border-right-width:%201px;%20border-right-style:%20solid;%20border-right-color:%20rgb(233,%20233,%20233)%7D%0A.css-16hs4t2-HeaderResizer%20%7Bposition:%20absolute;%20z-index:%201;%20width:%2010px;%20height:%20128px;%20left:%20295px;%20top:%200px;%20cursor:%20col-resize%7D%0A.css-buszcd-HeaderResizer%20%7Bposition:%20absolute;%20z-index:%201;%20height:%2010px;%20width:%20300px;%20left:%200px;%20top:%20123px;%20cursor:%20row-resize%7D%0A.css-13vtqji-TabularCell%20%7Bheight:%2028px;%20box-sizing:%20border-box;%20display:%20flex;%20-webkit-box-pack:%20end;%20justify-content:%20flex-end;%20flex-direction:%20column;%20padding-top:%204px;%20padding-left:%204px;%20padding-right:%204px;%20padding-bottom:%203px;%20overflow-x:%20hidden;%20overflow-y:%20hidden;%20white-space:%20nowrap;%20border-right-width:%201px;%20border-right-style:%20solid;%20border-right-color:%20rgb(233,%20233,%20233);%20border-bottom-width:%201px;%20border-bottom-style:%20solid;%20border-bottom-color:%20rgb(233,%20233,%20233);%20width:%20120px;%20cursor:%20cell;%20user-select:%20none;%20text-align:%20right;%20align-items:%20flex-end%7D%0A.css-ca96ix-PinnedTabularRows%20%7Bposition:%20absolute;%20height:%20112px;%20width:%20302px;%20overflow-x:%20hidden;%20overflow-y:%20hidden%7D%0A.css-k8n4c6-TabularCell%20%7Bheight:%2028px;%20box-sizing:%20border-box;%20display:%20flex;%20-webkit-box-pack:%20end;%20justify-content:%20flex-end;%20flex-direction:%20column;%20padding-top:%204px;%20padding-left:%204px;%20padding-right:%204px;%20padding-bottom:%203px;%20overflow-x:%20hidden;%20overflow-y:%20hidden;%20white-space:%20nowrap;%20border-right-width:%201px;%20border-right-style:%20solid;%20border-right-color:%20rgb(233,%20233,%20233);%20border-bottom-width:%20initial;%20border-bottom-style:%20none;%20border-bottom-color:%20initial;%20width:%20120px;%20cursor:%20cell;%20user-select:%20none;%20text-align:%20right;%20background-color:%20rgb(217,%20234,%20211);%20align-items:%20flex-end%7D%0A.css-10yddu9-TabularCell%20%7Bheight:%2028px;%20box-sizing:%20border-box;%20display:%20flex;%20-webkit-box-pack:%20end;%20justify-content:%20flex-end;%20flex-direction:%20column;%20padding-top:%204px;%20padding-left:%204px;%20padding-right:%204px;%20padding-bottom:%203px;%20overflow-x:%20hidden;%20overflow-y:%20hidden;%20white-space:%20nowrap;%20border-right-width:%201px;%20border-right-style:%20solid;%20border-right-color:%20rgb(233,%20233,%20233);%20border-bottom-width:%20initial;%20border-bottom-style:%20none;%20border-bottom-color:%20initial;%20width:%20120px;%20background-color:%20rgb(217,%20234,%20211);%20cursor:%20cell;%20user-select:%20none;%20text-align:%20right;%20align-items:%20flex-end%7D%0A.css-cvoqzv-UnpinnedTabularHeaders%20%7Boverflow-x:%20hidden;%20overflow-y:%20hidden;%20position:%20relative;%20width:%201241px;%20height:%20128px%7D%0A.css-1h6fzct%20%7Bfont-size:%2012px;%20line-height:%2022px;%20font-weight:%20600;%20color:%20rgba(0,%200,%200,%200.85);%20text-align:%20center;%20-webkit-box-align:%20center;%20align-items:%20center;%20box-sizing:%20border-box;%20padding-left:%203px;%20padding-right:%203px;%20padding-top:%204px;%20padding-bottom:%204px;%20border-right-width:%201px;%20border-right-style:%20solid;%20border-right-color:%20rgb(233,%20233,%20233);%20width:%20240px;%20height:%2064px;%20position:%20absolute;%20top:%200px;%20left:%200px;%20cursor:%20auto;%20user-select:%20none;%20white-space:%20nowrap;%20text-overflow:%20ellipsis;%20overflow-x:%20hidden;%20overflow-y:%20hidden%7D%0A.css-1wgsfkt-HeaderResizer%20%7Bposition:%20absolute;%20z-index:%201;%20height:%2010px;%20width:%20120px;%20left:%200px;%20top:%2059px;%20cursor:%20row-resize%7D%0A.css-63h702%20%7Bcolor:%20rgba(0,%200,%200,%200.85);%20display:%20flex;%20box-sizing:%20border-box;%20-webkit-box-align:%20center;%20align-items:%20center;%20height:%2064px;%20position:%20absolute;%20top:%2064px;%20left:%200px;%20user-select:%20none;%20font-size:%2012px;%20line-height:%2022px;%20font-weight:%20600;%20border-bottom-width:%202px;%20border-bottom-style:%20solid;%20border-bottom-color:%20rgb(233,%20233,%20233);%20width:%20120px%7D%0A.css-32npcs-HeaderResizer%20%7Bposition:%20absolute;%20z-index:%201;%20width:%2010px;%20height:%2064px;%20left:%20115px;%20top:%2064px;%20cursor:%20col-resize%7D%0A.css-1js96y7-HeaderResizer%20%7Bposition:%20absolute;%20z-index:%201;%20height:%2010px;%20width:%20120px;%20left:%200px;%20top:%20123px;%20cursor:%20row-resize%7D%0A.css-1pc4b35-HeaderResizer%20%7Bposition:%20absolute;%20z-index:%201;%20height:%2010px;%20width:%20120px;%20left:%20120px;%20top:%2059px;%20cursor:%20row-resize%7D%0A.css-1x5fp2y%20%7Bcolor:%20rgba(0,%200,%200,%200.85);%20display:%20flex;%20box-sizing:%20border-box;%20-webkit-box-align:%20center;%20align-items:%20center;%20height:%2064px;%20position:%20absolute;%20top:%2064px;%20left:%20120px;%20user-select:%20none;%20font-size:%2012px;%20line-height:%2022px;%20font-weight:%20600;%20border-bottom-width:%202px;%20border-bottom-style:%20solid;%20border-bottom-color:%20rgb(233,%20233,%20233);%20width:%20120px;%20border-right-width:%201px;%20border-right-style:%20solid;%20border-right-color:%20rgb(233,%20233,%20233)%7D%0A.css-972y39-HeaderResizer%20%7Bposition:%20absolute;%20z-index:%201;%20width:%2010px;%20height:%2064px;%20left:%20235px;%20top:%2064px;%20cursor:%20col-resize%7D%0A.css-ij5yh9-HeaderResizer%20%7Bposition:%20absolute;%20z-index:%201;%20height:%2010px;%20width:%20120px;%20left:%20120px;%20top:%20123px;%20cursor:%20row-resize%7D%0A.css-z4ib2m%20%7Bfont-size:%2012px;%20line-height:%2022px;%20font-weight:%20600;%20color:%20rgba(0,%200,%200,%200.85);%20text-align:%20center;%20-webkit-box-align:%20center;%20align-items:%20center;%20box-sizing:%20border-box;%20padding-left:%203px;%20padding-right:%203px;%20padding-top:%204px;%20padding-bottom:%204px;%20border-right-width:%201px;%20border-right-style:%20solid;%20border-right-color:%20rgb(233,%20233,%20233);%20width:%20240px;%20height:%2064px;%20position:%20absolute;%20top:%200px;%20left:%20240px;%20cursor:%20auto;%20user-select:%20none;%20white-space:%20nowrap;%20text-overflow:%20ellipsis;%20overflow-x:%20hidden;%20overflow-y:%20hidden%7D%0A.css-yg19e8-HeaderResizer%20%7Bposition:%20absolute;%20z-index:%201;%20height:%2010px;%20width:%20120px;%20left:%20240px;%20top:%2059px;%20cursor:%20row-resize%7D%0A.css-1dcn1ck%20%7Bcolor:%20rgba(0,%200,%200,%200.85);%20display:%20flex;%20box-sizing:%20border-box;%20-webkit-box-align:%20center;%20align-items:%20center;%20height:%2064px;%20position:%20absolute;%20top:%2064px;%20left:%20240px;%20user-select:%20none;%20font-size:%2012px;%20line-height:%2022px;%20font-weight:%20600;%20border-bottom-width:%202px;%20border-bottom-style:%20solid;%20border-bottom-color:%20rgb(233,%20233,%20233);%20width:%20120px%7D%0A.css-9dedy5-HeaderResizer%20%7Bposition:%20absolute;%20z-index:%201;%20width:%2010px;%20height:%2064px;%20left:%20355px;%20top:%2064px;%20cursor:%20col-resize%7D%0A.css-fv8s7f-HeaderResizer%20%7Bposition:%20absolute;%20z-index:%201;%20height:%2010px;%20width:%20120px;%20left:%20240px;%20top:%20123px;%20cursor:%20row-resize%7D%0A.css-1yw79wt-HeaderResizer%20%7Bposition:%20absolute;%20z-index:%201;%20height:%2010px;%20width:%20120px;%20left:%20360px;%20top:%2059px;%20cursor:%20row-resize%7D%0A.css-uw6le2%20%7Bcolor:%20rgba(0,%200,%200,%200.85);%20display:%20flex;%20box-sizing:%20border-box;%20-webkit-box-align:%20center;%20align-items:%20center;%20height:%2064px;%20position:%20absolute;%20top:%2064px;%20left:%20360px;%20user-select:%20none;%20font-size:%2012px;%20line-height:%2022px;%20font-weight:%20600;%20border-bottom-width:%202px;%20border-bottom-style:%20solid;%20border-bottom-color:%20rgb(233,%20233,%20233);%20width:%20120px;%20border-right-width:%201px;%20border-right-style:%20solid;%20border-right-color:%20rgb(233,%20233,%20233)%7D%0A.css-1igzw23-HeaderResizer%20%7Bposition:%20absolute;%20z-index:%201;%20width:%2010px;%20height:%2064px;%20left:%20475px;%20top:%2064px;%20cursor:%20col-resize%7D%0A.css-11mp0vd-HeaderResizer%20%7Bposition:%20absolute;%20z-index:%201;%20height:%2010px;%20width:%20120px;%20left:%20360px;%20top:%20123px;%20cursor:%20row-resize%7D%0A.css-fdyl0a%20%7Bfont-size:%2012px;%20line-height:%2022px;%20font-weight:%20600;%20color:%20rgba(0,%200,%200,%200.85);%20text-align:%20center;%20-webkit-box-align:%20center;%20align-items:%20center;%20box-sizing:%20border-box;%20padding-left:%203px;%20padding-right:%203px;%20padding-top:%204px;%20padding-bottom:%204px;%20border-right-width:%201px;%20border-right-style:%20solid;%20border-right-color:%20rgb(233,%20233,%20233);%20width:%20240px;%20height:%2064px;%20position:%20absolute;%20top:%200px;%20left:%20480px;%20cursor:%20auto;%20user-select:%20none;%20white-space:%20nowrap;%20text-overflow:%20ellipsis;%20overflow-x:%20hidden;%20overflow-y:%20hidden%7D%0A.css-fny0ec-HeaderResizer%20%7Bposition:%20absolute;%20z-index:%201;%20height:%2010px;%20width:%20120px;%20left:%20480px;%20top:%2059px;%20cursor:%20row-resize%7D%0A.css-1s9uek6%20%7Bcolor:%20rgba(0,%200,%200,%200.85);%20display:%20flex;%20box-sizing:%20border-box;%20-webkit-box-align:%20center;%20align-items:%20center;%20height:%2064px;%20position:%20absolute;%20top:%2064px;%20left:%20480px;%20user-select:%20none;%20font-size:%2012px;%20line-height:%2022px;%20font-weight:%20600;%20border-bottom-width:%202px;%20border-bottom-style:%20solid;%20border-bottom-color:%20rgb(233,%20233,%20233);%20width:%20120px%7D%0A.css-1cw1yln-HeaderResizer%20%7Bposition:%20absolute;%20z-index:%201;%20width:%2010px;%20height:%2064px;%20left:%20595px;%20top:%2064px;%20cursor:%20col-resize%7D%0A.css-1wnpcqv-HeaderResizer%20%7Bposition:%20absolute;%20z-index:%201;%20height:%2010px;%20width:%20120px;%20left:%20480px;%20top:%20123px;%20cursor:%20row-resize%7D%0A.css-czrptd-HeaderResizer%20%7Bposition:%20absolute;%20z-index:%201;%20height:%2010px;%20width:%20120px;%20left:%20600px;%20top:%2059px;%20cursor:%20row-resize%7D%0A.css-1ev43vw%20%7Bcolor:%20rgba(0,%200,%200,%200.85);%20display:%20flex;%20box-sizing:%20border-box;%20-webkit-box-align:%20center;%20align-items:%20center;%20height:%2064px;%20position:%20absolute;%20top:%2064px;%20left:%20600px;%20user-select:%20none;%20font-size:%2012px;%20line-height:%2022px;%20font-weight:%20600;%20border-bottom-width:%202px;%20border-bottom-style:%20solid;%20border-bottom-color:%20rgb(233,%20233,%20233);%20width:%20120px;%20border-right-width:%201px;%20border-right-style:%20solid;%20border-right-color:%20rgb(233,%20233,%20233)%7D%0A.css-s1l83i-HeaderResizer%20%7Bposition:%20absolute;%20z-index:%201;%20width:%2010px;%20height:%2064px;%20left:%20715px;%20top:%2064px;%20cursor:%20col-resize%7D%0A.css-1k01g38-HeaderResizer%20%7Bposition:%20absolute;%20z-index:%201;%20height:%2010px;%20width:%20120px;%20left:%20600px;%20top:%20123px;%20cursor:%20row-resize%7D%0A.css-18fvk5r-TabularBody%20%7Bposition:%20relative;%20overflow-x:%20hidden;%20overflow-y:%20hidden;%20top:%200px;%20width:%201022px;%20height:%20112px%7D%0A.css-hztbo5-UnpinnedTabularRows%20%7Bposition:%20absolute;%20overflow-x:%20hidden;%20overflow-y:%20hidden;%20left:%20302px;%20height:%20112px;%20width:%20720px%7D%0A.ant-root%20html,%20.ant-root%20%7Bwidth:%20100%25;%20height:%20100%25%7D%0A.ant-root%20*,%20.ant-root%20::before,%20.ant-root%20::after%20%7Bbox-sizing:%20border-box%7D%0A.ant-root%20%7Bmargin-top:%200px;%20margin-right:%200px;%20margin-bottom:%200px;%20margin-left:%200px;%20color:%20rgba(0,%200,%200,%200.65);%20font-size:%2014px;%20font-family:%20-apple-system,%20BlinkMacSystemFont,%20%22Segoe%20UI%22,%20%22PingFang%20SC%22,%20%22Hiragino%20Sans%20GB%22,%20%22Microsoft%20YaHei%22,%20%22Helvetica%20Neue%22,%20Helvetica,%20Arial,%20sans-serif,%20%22Apple%20Color%20Emoji%22,%20%22Segoe%20UI%20Emoji%22,%20%22Segoe%20UI%20Symbol%22;%20font-variant-ligatures:%20normal;%20font-variant-numeric:%20tabular-nums;%20font-variant-east-asian:%20normal;%20font-variant-caps:%20normal;%20line-height:%201.5;%20background-color:%20rgb(255,%20255,%20255);%20font-feature-settings:%20%22tnum%22;%20--antd-wave-shadow-color:%20undefined%7D%0A.ant-root%20.ant-typography%20%7Bcolor:%20rgba(0,%200,%200,%200.65)%7D%0A.css-1sxolix-Widget%20%7Bheight:%20100%25%7D%0A.css-1sxolix-Widget%20.ant-root:not(.atoti-widget-chooser)%20%7Bbox-shadow:%20none%7D%3C/style%3E%0A%20%20%20%20%20%20%20%20%3Cdiv%20xmlns=%22http://www.w3.org/1999/xhtml%22%20style=%22height:%20360px;%20width:%201541px%22%3E%0A%20%20%20%20%20%20%20%20%20%20%3Cdiv%20xmlns=%22http://www.w3.org/1999/xhtml%22%20class=%22css-1sxolix-Widget%22%3E%3Cdiv%20class=%22ant-root%20css-xsa55j-dock%22%3E%3Cdiv%20class=%22css-1ibuxvk-DockBody%22%3E%3Cdiv%20class=%22SplitPane%20%20vertical%20disabled%22%20style=%22display:%20flex;%20flex:%201%201%200%25;%20height:%20100%25;%20position:%20relative;%20outline:%20none;%20overflow:%20hidden;%20user-select:%20text;%20flex-direction:%20row;%20left:%200px;%20right:%200px;%22%3E%3Cdiv%20class=%22Pane%20vertical%20Pane1%20%20%22%20style=%22flex:%201%201%200%25;%20position:%20relative;%20outline:%20none;%20display:%20flex;%20background-color:%20rgb(255,%20255,%20255);%22%3E%3Cdiv%20class=%22css-1lrljg1-EditorSplitPane%22%3E%3Cdiv%20class=%22css-15fz3t7-EditorSplitPane%22%3E%3Cdiv%20class=%22css-1k1fxuh-Tabular%22%3E%3Cdiv%20class=%22css-10klw3m%22%3E%3Cdiv%20tabindex=%220%22%20class=%22css-jhoio-Tabular%22%3E%3Cdiv%20class=%22css-192kvjv-Tabular%22%3E%3Cdiv%20class=%22css-mdjjdg-TabularHeader%22%3E%3Cdiv%20class=%22css-12nzxaz-PinnedTabularHeaders%22%3E%3Cdiv%20class=%22css-90jv4-TabularHeaderGroup%22%3E%3Cdiv%20class=%22css-zdwkvh%22%3E%3Cdiv%20class=%22css-1ag4cda-TabularHeaderCell%22%3E%3Cspan%20class=%22css-jpazdc-TabularHeaderCell%22%3E%3Cspan%3E%3Cspan%3E%3Cspan%20class=%22css-y3oqqp%22%3EDrug%3C/span%3E%3C/span%3E%3C/span%3E%3C/span%3E%3C/div%3E%3Cdiv%20class=%22css-c7y3a7-TabularHeaderCell%22%3E%3C/div%3E%3C/div%3E%3Cdiv%20class=%22css-16hs4t2-HeaderResizer%22%3E%3C/div%3E%3Cdiv%20class=%22css-buszcd-HeaderResizer%22%3E%3C/div%3E%3C/div%3E%3Cdiv%20class=%22css-1ldls9z-TabularPinnSeparator%22%3E%3C/div%3E%3C/div%3E%3Cdiv%20class=%22css-cvoqzv-UnpinnedTabularHeaders%22%3E%3Cdiv%20class=%22css-5jtkjp-UnpinnedTabularHeaders%22%3E%3Cdiv%20class=%22css-12yr8py-TabularHeaderGroup%22%3E%3Cdiv%20class=%22css-1h6fzct%22%3ETest%20Result%3C/div%3E%3Cdiv%20class=%22css-1wgsfkt-HeaderResizer%22%3E%3C/div%3E%3Cdiv%20class=%22css-63h702%22%3E%3Cdiv%20class=%22css-pm742e%22%3E%3C/div%3E%3Cdiv%20class=%22css-1ag4cda-TabularHeaderCell%22%3E%3Cspan%20class=%22css-jpazdc-TabularHeaderCell%22%3E%3Cspan%3EBase%3C/span%3E%3C/span%3E%3C/div%3E%3Cdiv%20class=%22css-c7y3a7-TabularHeaderCell%22%3E%3C/div%3E%3C/div%3E%3Cdiv%20class=%22css-32npcs-HeaderResizer%22%3E%3C/div%3E%3Cdiv%20class=%22css-1js96y7-HeaderResizer%22%3E%3C/div%3E%3Cdiv%20class=%22css-1pc4b35-HeaderResizer%22%3E%3C/div%3E%3Cdiv%20class=%22css-1x5fp2y%22%3E%3Cdiv%20class=%22css-pm742e%22%3E%3C/div%3E%3Cdiv%20class=%22css-1ag4cda-TabularHeaderCell%22%3E%3Cspan%20class=%22css-jpazdc-TabularHeaderCell%22%3E%3Cspan%3EMulticenter%20study%20data%3C/span%3E%3C/span%3E%3C/div%3E%3Cdiv%20class=%22css-c7y3a7-TabularHeaderCell%22%3E%3C/div%3E%3C/div%3E%3Cdiv%20class=%22css-972y39-HeaderResizer%22%3E%3C/div%3E%3Cdiv%20class=%22css-ij5yh9-HeaderResizer%22%3E%3C/div%3E%3Cdiv%20class=%22css-z4ib2m%22%3ECount%3C/div%3E%3Cdiv%20class=%22css-yg19e8-HeaderResizer%22%3E%3C/div%3E%3Cdiv%20class=%22css-1dcn1ck%22%3E%3Cdiv%20class=%22css-pm742e%22%3E%3C/div%3E%3Cdiv%20class=%22css-1ag4cda-TabularHeaderCell%22%3E%3Cspan%20class=%22css-jpazdc-TabularHeaderCell%22%3E%3Cspan%3EBase%3C/span%3E%3C/span%3E%3C/div%3E%3Cdiv%20class=%22css-c7y3a7-TabularHeaderCell%22%3E%3C/div%3E%3C/div%3E%3Cdiv%20class=%22css-9dedy5-HeaderResizer%22%3E%3C/div%3E%3Cdiv%20class=%22css-fv8s7f-HeaderResizer%22%3E%3C/div%3E%3Cdiv%20class=%22css-1yw79wt-HeaderResizer%22%3E%3C/div%3E%3Cdiv%20class=%22css-uw6le2%22%3E%3Cdiv%20class=%22css-pm742e%22%3E%3C/div%3E%3Cdiv%20class=%22css-1ag4cda-TabularHeaderCell%22%3E%3Cspan%20class=%22css-jpazdc-TabularHeaderCell%22%3E%3Cspan%3EMulticenter%20study%20data%3C/span%3E%3C/span%3E%3C/div%3E%3Cdiv%20class=%22css-c7y3a7-TabularHeaderCell%22%3E%3C/div%3E%3C/div%3E%3Cdiv%20class=%22css-1igzw23-HeaderResizer%22%3E%3C/div%3E%3Cdiv%20class=%22css-11mp0vd-HeaderResizer%22%3E%3C/div%3E%3Cdiv%20class=%22css-fdyl0a%22%3Et-statistic%3C/div%3E%3Cdiv%20class=%22css-fny0ec-HeaderResizer%22%3E%3C/div%3E%3Cdiv%20class=%22css-1s9uek6%22%3E%3Cdiv%20class=%22css-pm742e%22%3E%3C/div%3E%3Cdiv%20class=%22css-1ag4cda-TabularHeaderCell%22%3E%3Cspan%20class=%22css-jpazdc-TabularHeaderCell%22%3E%3Cspan%3EBase%3C/span%3E%3C/span%3E%3C/div%3E%3Cdiv%20class=%22css-c7y3a7-TabularHeaderCell%22%3E%3C/div%3E%3C/div%3E%3Cdiv%20class=%22css-1cw1yln-HeaderResizer%22%3E%3C/div%3E%3Cdiv%20class=%22css-1wnpcqv-HeaderResizer%22%3E%3C/div%3E%3Cdiv%20class=%22css-czrptd-HeaderResizer%22%3E%3C/div%3E%3Cdiv%20class=%22css-1ev43vw%22%3E%3Cdiv%20class=%22css-pm742e%22%3E%3C/div%3E%3Cdiv%20class=%22css-1ag4cda-TabularHeaderCell%22%3E%3Cspan%20class=%22css-jpazdc-TabularHeaderCell%22%3E%3Cspan%3EMulticenter%20study%20data%3C/span%3E%3C/span%3E%3C/div%3E%3Cdiv%20class=%22css-c7y3a7-TabularHeaderCell%22%3E%3C/div%3E%3C/div%3E%3Cdiv%20class=%22css-s1l83i-HeaderResizer%22%3E%3C/div%3E%3Cdiv%20class=%22css-1k01g38-HeaderResizer%22%3E%3C/div%3E%3C/div%3E%3C/div%3E%3C/div%3E%3C/div%3E%3Cdiv%20class=%22css-18fvk5r-TabularBody%22%3E%3Cdiv%20class=%22css-ca96ix-PinnedTabularRows%22%3E%3Cdiv%20class=%22css-134urz3-PinnedTabularRows%22%3E%3Cdiv%20class=%22css-3cge9w%22%3E%3Cdiv%3E%3Cdiv%20class=%22css-jyaidn%22%3E%3Cdiv%20class=%22css-9ssj44-TreeCell%22%3E%3Cdiv%20class=%22css-mkrhzq%22%3E%3Cspan%20class=%22ant-typography%20css-8uhtka%22%20style=%22font-size:%2012px;%20line-height:%2020px;%20font-weight:%20600;%20color:%20rgba(0,%200,%200,%200.85);%22%3ETotal%20Drug%3C/span%3E%3C/div%3E%3C/div%3E%3C/div%3E%3C/div%3E%3C/div%3E%3Cdiv%20class=%22css-3cge9w%22%3E%3Cdiv%3E%3Cdiv%20class=%22css-dko0re%22%3E%3Cdiv%20class=%22css-9ssj44-TreeCell%22%3E%3Cdiv%20class=%22css-mkrhzq%22%3E%3Cdiv%20class=%22css-1i6gc04%22%3E%3C/div%3E%3Cspan%20class=%22ant-typography%20css-8uhtka%22%20style=%22font-size:%2012px;%20line-height:%2020px;%20font-weight:%20600;%20color:%20rgba(0,%200,%200,%200.85);%22%3EAlprazolam%3C/span%3E%3C/div%3E%3C/div%3E%3C/div%3E%3C/div%3E%3C/div%3E%3Cdiv%20class=%22css-3cge9w%22%3E%3Cdiv%3E%3Cdiv%20class=%22css-jyaidn%22%3E%3Cdiv%20class=%22css-9ssj44-TreeCell%22%3E%3Cdiv%20class=%22css-mkrhzq%22%3E%3Cdiv%20class=%22css-1i6gc04%22%3E%3C/div%3E%3Cspan%20class=%22ant-typography%20css-8uhtka%22%20style=%22font-size:%2012px;%20line-height:%2020px;%20font-weight:%20600;%20color:%20rgba(0,%200,%200,%200.85);%22%3ESugar%3C/span%3E%3C/div%3E%3C/div%3E%3C/div%3E%3C/div%3E%3C/div%3E%3Cdiv%20class=%22css-3cge9w%22%3E%3Cdiv%3E%3Cdiv%20class=%22css-166mc38%22%3E%3Cdiv%20class=%22css-9ssj44-TreeCell%22%3E%3Cdiv%20class=%22css-mkrhzq%22%3E%3Cdiv%20class=%22css-1i6gc04%22%3E%3C/div%3E%3Cspan%20class=%22ant-typography%20css-8uhtka%22%20style=%22font-size:%2012px;%20line-height:%2020px;%20font-weight:%20600;%20color:%20rgba(0,%200,%200,%200.85);%22%3ETriazolam%3C/span%3E%3C/div%3E%3C/div%3E%3C/div%3E%3C/div%3E%3C/div%3E%3C/div%3E%3Cdiv%20class=%22css-8r2ljj-PinnedTabularRows%22%3E%3Cdiv%20class=%22css-11k5ac9-PinnedTabularRows%22%3E%3C/div%3E%3C/div%3E%3C/div%3E%3Cdiv%20class=%22css-hztbo5-UnpinnedTabularRows%22%3E%3Cdiv%20class=%22css-1id6sm3-UnpinnedTabularRows%22%3E%3Cdiv%20class=%22css-3cge9w%22%3E%3Cdiv%3E%3Cdiv%20class=%22%20css-10yddu9-TabularCell%22%3E%3Cspan%20class=%22css-mkoicc-CaptionCellRenderer%22%3E%3Cspan%3E%3Cspan%20class=%22ant-typography%22%20style=%22font-size:%2012px;%20line-height:%2020px;%20font-weight:%20400;%22%3EH0%20rejected%3C/span%3E%3C/span%3E%3C/span%3E%3C/div%3E%3C/div%3E%3Cdiv%3E%3Cdiv%20class=%22%20css-10yddu9-TabularCell%22%3E%3Cspan%20class=%22css-mkoicc-CaptionCellRenderer%22%3E%3Cspan%3E%3Cspan%20class=%22ant-typography%22%20style=%22font-size:%2012px;%20line-height:%2020px;%20font-weight:%20400;%22%3EH0%20rejected%3C/span%3E%3C/span%3E%3C/span%3E%3C/div%3E%3C/div%3E%3Cdiv%3E%3Cdiv%20class=%22%20css-1hcmypl-TabularCell%22%3E%3Cspan%20class=%22css-mkoicc-CaptionCellRenderer%22%3E%3Cspan%3E%3Cspan%20class=%22ant-typography%22%20style=%22font-size:%2012px;%20line-height:%2020px;%20font-weight:%20400;%22%3E396%3C/span%3E%3C/span%3E%3C/span%3E%3C/div%3E%3C/div%3E%3Cdiv%3E%3Cdiv%20class=%22%20css-1hcmypl-TabularCell%22%3E%3Cspan%20class=%22css-mkoicc-CaptionCellRenderer%22%3E%3Cspan%3E%3Cspan%20class=%22ant-typography%22%20style=%22font-size:%2012px;%20line-height:%2020px;%20font-weight:%20400;%22%3E397%3C/span%3E%3C/span%3E%3C/span%3E%3C/div%3E%3C/div%3E%3Cdiv%3E%3Cdiv%20class=%22%20css-1hcmypl-TabularCell%22%3E%3Cspan%20class=%22css-mkoicc-CaptionCellRenderer%22%3E%3Cspan%3E%3Cspan%20class=%22ant-typography%22%20style=%22font-size:%2012px;%20line-height:%2020px;%20font-weight:%20400;%22%3E3.87%3C/span%3E%3C/span%3E%3C/span%3E%3C/div%3E%3C/div%3E%3Cdiv%3E%3Cdiv%20class=%22%20css-1hcmypl-TabularCell%22%3E%3Cspan%20class=%22css-mkoicc-CaptionCellRenderer%22%3E%3Cspan%3E%3Cspan%20class=%22ant-typography%22%20style=%22font-size:%2012px;%20line-height:%2020px;%20font-weight:%20400;%22%3E3.88%3C/span%3E%3C/span%3E%3C/span%3E%3C/div%3E%3C/div%3E%3C/div%3E%3Cdiv%20class=%22css-3cge9w%22%3E%3Cdiv%3E%3Cdiv%20class=%22%20css-k8n4c6-TabularCell%22%3E%3Cspan%20class=%22css-mkoicc-CaptionCellRenderer%22%3E%3Cspan%3E%3Cspan%20class=%22ant-typography%22%20style=%22font-size:%2012px;%20line-height:%2020px;%20font-weight:%20400;%22%3EH0%20rejected%3C/span%3E%3C/span%3E%3C/span%3E%3C/div%3E%3C/div%3E%3Cdiv%3E%3Cdiv%20class=%22%20css-k8n4c6-TabularCell%22%3E%3Cspan%20class=%22css-mkoicc-CaptionCellRenderer%22%3E%3Cspan%3E%3Cspan%20class=%22ant-typography%22%20style=%22font-size:%2012px;%20line-height:%2020px;%20font-weight:%20400;%22%3EH0%20rejected%3C/span%3E%3C/span%3E%3C/span%3E%3C/div%3E%3C/div%3E%3Cdiv%3E%3Cdiv%20class=%22%20css-qazlap-TabularCell%22%3E%3Cspan%20class=%22css-mkoicc-CaptionCellRenderer%22%3E%3Cspan%3E%3Cspan%20class=%22ant-typography%22%20style=%22font-size:%2012px;%20line-height:%2020px;%20font-weight:%20400;%22%3E134%3C/span%3E%3C/span%3E%3C/span%3E%3C/div%3E%3C/div%3E%3Cdiv%3E%3Cdiv%20class=%22%20css-qazlap-TabularCell%22%3E%3Cspan%20class=%22css-mkoicc-CaptionCellRenderer%22%3E%3Cspan%3E%3Cspan%20class=%22ant-typography%22%20style=%22font-size:%2012px;%20line-height:%2020px;%20font-weight:%20400;%22%3E134%3C/span%3E%3C/span%3E%3C/span%3E%3C/div%3E%3C/div%3E%3Cdiv%3E%3Cdiv%20class=%22%20css-qazlap-TabularCell%22%3E%3Cspan%20class=%22css-mkoicc-CaptionCellRenderer%22%3E%3Cspan%3E%3Cspan%20class=%22ant-typography%22%20style=%22font-size:%2012px;%20line-height:%2020px;%20font-weight:%20400;%22%3E5.85%3C/span%3E%3C/span%3E%3C/span%3E%3C/div%3E%3C/div%3E%3Cdiv%3E%3Cdiv%20class=%22%20css-qazlap-TabularCell%22%3E%3Cspan%20class=%22css-mkoicc-CaptionCellRenderer%22%3E%3Cspan%3E%3Cspan%20class=%22ant-typography%22%20style=%22font-size:%2012px;%20line-height:%2020px;%20font-weight:%20400;%22%3E5.85%3C/span%3E%3C/span%3E%3C/span%3E%3C/div%3E%3C/div%3E%3C/div%3E%3Cdiv%20class=%22css-3cge9w%22%3E%3Cdiv%3E%3Cdiv%20class=%22%20css-1hcmypl-TabularCell%22%3E%3Cspan%20class=%22css-mkoicc-CaptionCellRenderer%22%3E%3Cspan%3E%3Cspan%20class=%22ant-typography%22%20style=%22font-size:%2012px;%20line-height:%2020px;%20font-weight:%20400;%22%3ECan't%20reject%20H0%3C/span%3E%3C/span%3E%3C/span%3E%3C/div%3E%3C/div%3E%3Cdiv%3E%3Cdiv%20class=%22%20css-1hcmypl-TabularCell%22%3E%3Cspan%20class=%22css-mkoicc-CaptionCellRenderer%22%3E%3Cspan%3E%3Cspan%20class=%22ant-typography%22%20style=%22font-size:%2012px;%20line-height:%2020px;%20font-weight:%20400;%22%3ECan't%20reject%20H0%3C/span%3E%3C/span%3E%3C/span%3E%3C/div%3E%3C/div%3E%3Cdiv%3E%3Cdiv%20class=%22%20css-1hcmypl-TabularCell%22%3E%3Cspan%20class=%22css-mkoicc-CaptionCellRenderer%22%3E%3Cspan%3E%3Cspan%20class=%22ant-typography%22%20style=%22font-size:%2012px;%20line-height:%2020px;%20font-weight:%20400;%22%3E132%3C/span%3E%3C/span%3E%3C/span%3E%3C/div%3E%3C/div%3E%3Cdiv%3E%3Cdiv%20class=%22%20css-1hcmypl-TabularCell%22%3E%3Cspan%20class=%22css-mkoicc-CaptionCellRenderer%22%3E%3Cspan%3E%3Cspan%20class=%22ant-typography%22%20style=%22font-size:%2012px;%20line-height:%2020px;%20font-weight:%20400;%22%3E133%3C/span%3E%3C/span%3E%3C/span%3E%3C/div%3E%3C/div%3E%3Cdiv%3E%3Cdiv%20class=%22%20css-1hcmypl-TabularCell%22%3E%3Cspan%20class=%22css-mkoicc-CaptionCellRenderer%22%3E%3Cspan%3E%3Cspan%20class=%22ant-typography%22%20style=%22font-size:%2012px;%20line-height:%2020px;%20font-weight:%20400;%22%3E-0.19%3C/span%3E%3C/span%3E%3C/span%3E%3C/div%3E%3C/div%3E%3Cdiv%3E%3Cdiv%20class=%22%20css-1hcmypl-TabularCell%22%3E%3Cspan%20class=%22css-mkoicc-CaptionCellRenderer%22%3E%3Cspan%3E%3Cspan%20class=%22ant-typography%22%20style=%22font-size:%2012px;%20line-height:%2020px;%20font-weight:%20400;%22%3E-0.19%3C/span%3E%3C/span%3E%3C/span%3E%3C/div%3E%3C/div%3E%3C/div%3E%3Cdiv%20class=%22css-3cge9w%22%3E%3Cdiv%3E%3Cdiv%20class=%22%20css-13vtqji-TabularCell%22%3E%3Cspan%20class=%22css-mkoicc-CaptionCellRenderer%22%3E%3Cspan%3E%3Cspan%20class=%22ant-typography%22%20style=%22font-size:%2012px;%20line-height:%2020px;%20font-weight:%20400;%22%3ECan't%20reject%20H0%3C/span%3E%3C/span%3E%3C/span%3E%3C/div%3E%3C/div%3E%3Cdiv%3E%3Cdiv%20class=%22%20css-13vtqji-TabularCell%22%3E%3Cspan%20class=%22css-mkoicc-CaptionCellRenderer%22%3E%3Cspan%3E%3Cspan%20class=%22ant-typography%22%20style=%22font-size:%2012px;%20line-height:%2020px;%20font-weight:%20400;%22%3ECan't%20reject%20H0%3C/span%3E%3C/span%3E%3C/span%3E%3C/div%3E%3C/div%3E%3Cdiv%3E%3Cdiv%20class=%22%20css-13vtqji-TabularCell%22%3E%3Cspan%20class=%22css-mkoicc-CaptionCellRenderer%22%3E%3Cspan%3E%3Cspan%20class=%22ant-typography%22%20style=%22font-size:%2012px;%20line-height:%2020px;%20font-weight:%20400;%22%3E130%3C/span%3E%3C/span%3E%3C/span%3E%3C/div%3E%3C/div%3E%3Cdiv%3E%3Cdiv%20class=%22%20css-13vtqji-TabularCell%22%3E%3Cspan%20class=%22css-mkoicc-CaptionCellRenderer%22%3E%3Cspan%3E%3Cspan%20class=%22ant-typography%22%20style=%22font-size:%2012px;%20line-height:%2020px;%20font-weight:%20400;%22%3E130%3C/span%3E%3C/span%3E%3C/span%3E%3C/div%3E%3C/div%3E%3Cdiv%3E%3Cdiv%20class=%22%20css-13vtqji-TabularCell%22%3E%3Cspan%20class=%22css-mkoicc-CaptionCellRenderer%22%3E%3Cspan%3E%3Cspan%20class=%22ant-typography%22%20style=%22font-size:%2012px;%20line-height:%2020px;%20font-weight:%20400;%22%3E-0.67%3C/span%3E%3C/span%3E%3C/span%3E%3C/div%3E%3C/div%3E%3Cdiv%3E%3Cdiv%20class=%22%20css-13vtqji-TabularCell%22%3E%3Cspan%20class=%22css-mkoicc-CaptionCellRenderer%22%3E%3Cspan%3E%3Cspan%20class=%22ant-typography%22%20style=%22font-size:%2012px;%20line-height:%2020px;%20font-weight:%20400;%22%3E-0.67%3C/span%3E%3C/span%3E%3C/span%3E%3C/div%3E%3C/div%3E%3C/div%3E%3C/div%3E%3C/div%3E%3C/div%3E%3C/div%3E%3Cdiv%20class=%22css-t881dv-SelectionStatistics%22%3E%3C/div%3E%3C/div%3E%3C/div%3E%3C/div%3E%3C/div%3E%3C/div%3E%3C/div%3E%3Cspan%20role=%22presentation%22%20class=%22css-14zuz97%20Resizer%20vertical%20disabled%22%3E%3C/span%3E%3Cdiv%20class=%22Pane%20vertical%20Pane2%20%20%22%20style=%22flex:%200%200%20auto;%20position:%20relative;%20outline:%20none;%20width:%200px;%20display:%20flex;%20background-color:%20rgb(255,%20255,%20255);%20overflow:%20auto;%22%3E%3Cdiv%20class=%22css-1ouk3zc-EditorSplitPane%22%3E%3Cdiv%20class=%22css-1jjvrwi-EditorSplitPane%22%3E%3C/div%3E%3C/div%3E%3C/div%3E%3C/div%3E%3C/div%3E%3C/div%3E%3C/div%3E%0A%20%20%20%20%20%20%20%20%3C/div%3E%0A%20%20%20%20%20%20%3C/foreignObject%3E%0A%20%20%20%20%3C/svg%3E\">"
      ],
      "text/plain": [
       "Open the notebook in JupyterLab with the atoti extension installed and enabled to see this widget."
      ]
     },
     "metadata": {},
     "output_type": "display_data"
    }
   ],
   "source": [
    "cube.visualize()"
   ]
  },
  {
   "cell_type": "markdown",
   "metadata": {},
   "source": [
    "# Conclusion\n",
    "\n",
    "In this notebook we have configured an analytical application for **exploratory data analysis**, that allows us to **interactively browse** the data and re-compute statistics, such as mean, stdev, etc, as well as more complex functions - such as hypothesis test metrics - **on-the-fly**. Even though the example has a handful of observation, atoti's backend is designed to handle big data. Please refer to this white page is you want to learn about the [technology](https://activeviam.com/images/pdf/white-papers/ActiveViam_Technical_White_Paper_-_ActivePivot.pdf) on atoti's backend.\n",
    "\n",
    "The application comes with a **user interface**, so the results of the analysis can be visualized in a dashboard and presented to users:\n"
   ]
  },
  {
   "cell_type": "code",
   "execution_count": 28,
   "metadata": {},
   "outputs": [
    {
     "data": {
      "text/plain": [
       "'http://localhost:39323/#/dashboard/3f7'"
      ]
     },
     "execution_count": 28,
     "metadata": {},
     "output_type": "execute_result"
    }
   ],
   "source": [
    "session.url + \"/#/dashboard/3f7\""
   ]
  },
  {
   "cell_type": "code",
   "execution_count": null,
   "metadata": {},
   "outputs": [],
   "source": []
  }
 ],
 "metadata": {
  "kernelspec": {
   "display_name": "Python 3",
   "language": "python",
   "name": "python3"
  },
  "language_info": {
   "codemirror_mode": {
    "name": "ipython",
    "version": 3
   },
   "file_extension": ".py",
   "mimetype": "text/x-python",
   "name": "python",
   "nbconvert_exporter": "python",
   "pygments_lexer": "ipython3",
   "version": "3.8.5"
  }
 },
 "nbformat": 4,
 "nbformat_minor": 4
}
