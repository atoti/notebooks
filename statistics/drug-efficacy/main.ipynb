{
 "cells": [
  {
   "cell_type": "markdown",
   "metadata": {},
   "source": [
    "# Interactive hypothesis testing\n",
    "\n",
    "If you need to test a hypothesis interactively along multiple dimensions or their combinations, check out the example below that demonstrates how this can be achieved with [atoti](https://docs.atoti.io).\n",
    "\n",
    "atoti provides a python interface to define custom aggregation functions - we will look at an example on implementing a [paired t-test](https://en.wikipedia.org/wiki/Student's_t-test#Paired_samples) as an aggregation function. Plus, it provides an interface to create dashboards that can be shared with team members.\n",
    "\n",
    "<img src=\"./app-preview.gif\" alt=\"Interactive app preview\" width=\"70%\" style=\"display:block;margin-left: auto;margin-right: auto;\">"
   ]
  },
  {
   "cell_type": "markdown",
   "metadata": {},
   "source": [
    "In this notebook we will be studying the impact of certain anti-anxiety medicine as well as a person’s mood on **memory recall ability** - based on a dataset from a kaggle user submission - [Islanders data](https://www.kaggle.com/steveahn/memory-test-on-drugged-islanders-data): \n",
    "\n",
    "- Dataset contains observations on treatment with Alprazolam and Triazolam, as well as Sugar (in the control group) - see column **Drug** below,\n",
    "- Trials has been collected for different dosages - see column **Dosage**\n",
    "- Participants were primed with happy and sad memories ten minutes before the memory test - see column **Happy_Sad_group** as it is believed that a person's mood may impact memory recall.\n",
    "- Memory scores represent response time, i.e. how long it takes to finish the memory test. Higher Memory scores means the ability actually reduces\n",
    "\n",
    "We will implement measures that evaluate the effect of drugs onto memory recall and visualize the result returning \"H0 rejected\" if data provides evidence that the average response time increases after the treatment. "
   ]
  },
  {
   "cell_type": "markdown",
   "metadata": {},
   "source": [
    "# Imports"
   ]
  },
  {
   "cell_type": "code",
   "execution_count": 1,
   "metadata": {},
   "outputs": [],
   "source": [
    "import pandas as pd\n",
    "from scipy.stats import norm, t"
   ]
  },
  {
   "cell_type": "code",
   "execution_count": 2,
   "metadata": {},
   "outputs": [
    {
     "name": "stdout",
     "output_type": "stream",
     "text": [
      "Welcome to atoti 0.4.3.20200729154535!\n",
      "\n",
      "By using this community edition, you agree with the license available at https://www.atoti.io/eula.\n",
      "Browse the official documentation at https://docs.atoti.io.\n",
      "Join the community at https://www.atoti.io/register.\n",
      "\n",
      "You can hide this message by setting the ATOTI_HIDE_EULA_MESSAGE environment variable to True.\n"
     ]
    }
   ],
   "source": [
    "import atoti as tt"
   ]
  },
  {
   "cell_type": "markdown",
   "metadata": {},
   "source": [
    "## Raw data"
   ]
  },
  {
   "cell_type": "code",
   "execution_count": 3,
   "metadata": {},
   "outputs": [
    {
     "data": {
      "text/html": [
       "<div>\n",
       "<style scoped>\n",
       "    .dataframe tbody tr th:only-of-type {\n",
       "        vertical-align: middle;\n",
       "    }\n",
       "\n",
       "    .dataframe tbody tr th {\n",
       "        vertical-align: top;\n",
       "    }\n",
       "\n",
       "    .dataframe thead th {\n",
       "        text-align: right;\n",
       "    }\n",
       "</style>\n",
       "<table border=\"1\" class=\"dataframe\">\n",
       "  <thead>\n",
       "    <tr style=\"text-align: right;\">\n",
       "      <th></th>\n",
       "      <th>Patient_Id</th>\n",
       "      <th>first_name</th>\n",
       "      <th>last_name</th>\n",
       "      <th>age</th>\n",
       "      <th>Happy_Sad_group</th>\n",
       "      <th>Dosage</th>\n",
       "      <th>Drug</th>\n",
       "      <th>Before or After</th>\n",
       "      <th>MemoryScores</th>\n",
       "    </tr>\n",
       "  </thead>\n",
       "  <tbody>\n",
       "    <tr>\n",
       "      <th>338</th>\n",
       "      <td>Patient_140</td>\n",
       "      <td>Emma</td>\n",
       "      <td>Durand</td>\n",
       "      <td>34</td>\n",
       "      <td>Sad</td>\n",
       "      <td>1</td>\n",
       "      <td>Triazolam</td>\n",
       "      <td>After</td>\n",
       "      <td>40.5</td>\n",
       "    </tr>\n",
       "    <tr>\n",
       "      <th>336</th>\n",
       "      <td>Patient_138</td>\n",
       "      <td>William</td>\n",
       "      <td>Carrasco</td>\n",
       "      <td>54</td>\n",
       "      <td>Sad</td>\n",
       "      <td>1</td>\n",
       "      <td>Triazolam</td>\n",
       "      <td>After</td>\n",
       "      <td>66.8</td>\n",
       "    </tr>\n",
       "    <tr>\n",
       "      <th>228</th>\n",
       "      <td>Patient_30</td>\n",
       "      <td>Fernado</td>\n",
       "      <td>Durand</td>\n",
       "      <td>53</td>\n",
       "      <td>Sad</td>\n",
       "      <td>2</td>\n",
       "      <td>Alprazolam</td>\n",
       "      <td>After</td>\n",
       "      <td>79.6</td>\n",
       "    </tr>\n",
       "    <tr>\n",
       "      <th>274</th>\n",
       "      <td>Patient_76</td>\n",
       "      <td>William</td>\n",
       "      <td>Durand</td>\n",
       "      <td>42</td>\n",
       "      <td>Sad</td>\n",
       "      <td>1</td>\n",
       "      <td>Sugar</td>\n",
       "      <td>After</td>\n",
       "      <td>44.1</td>\n",
       "    </tr>\n",
       "    <tr>\n",
       "      <th>113</th>\n",
       "      <td>Patient_113</td>\n",
       "      <td>Eva</td>\n",
       "      <td>Carrasco</td>\n",
       "      <td>34</td>\n",
       "      <td>Happy</td>\n",
       "      <td>3</td>\n",
       "      <td>Sugar</td>\n",
       "      <td>Before</td>\n",
       "      <td>45.0</td>\n",
       "    </tr>\n",
       "  </tbody>\n",
       "</table>\n",
       "</div>"
      ],
      "text/plain": [
       "      Patient_Id first_name last_name  age Happy_Sad_group  Dosage  \\\n",
       "338  Patient_140       Emma    Durand   34             Sad       1   \n",
       "336  Patient_138    William  Carrasco   54             Sad       1   \n",
       "228   Patient_30    Fernado    Durand   53             Sad       2   \n",
       "274   Patient_76    William    Durand   42             Sad       1   \n",
       "113  Patient_113        Eva  Carrasco   34           Happy       3   \n",
       "\n",
       "           Drug Before or After  MemoryScores  \n",
       "338   Triazolam           After          40.5  \n",
       "336   Triazolam           After          66.8  \n",
       "228  Alprazolam           After          79.6  \n",
       "274       Sugar           After          44.1  \n",
       "113       Sugar          Before          45.0  "
      ]
     },
     "execution_count": 3,
     "metadata": {},
     "output_type": "execute_result"
    }
   ],
   "source": [
    "# Example data is taken from kaggle user submission:\n",
    "# https://www.kaggle.com/steveahn/memory-test-on-drugged-islanders-data\n",
    "# The example was slightly pre-processed for convenience.\n",
    "df = pd.read_csv(\"https://data.atoti.io/notebooks/drug-efficacy/Islander_data.csv\")\n",
    "df.sample(5)"
   ]
  },
  {
   "cell_type": "markdown",
   "metadata": {},
   "source": [
    "## Launching atoti app"
   ]
  },
  {
   "cell_type": "code",
   "execution_count": 4,
   "metadata": {},
   "outputs": [],
   "source": [
    "# creating a session - it spins up an in-memory database - similar to Apache Spark - ready to slice’n’dice your big data set.\n",
    "# In addition to that, it launches a dashboarding Tableau-like web-app\n",
    "from atoti.config import create_config\n",
    "\n",
    "config = create_config(metadata_db=\"./metadata.db\")\n",
    "session = tt.create_session(config=config)\n",
    "\n",
    "# loading initial dataset\n",
    "observations_datastore = session.read_pandas(\n",
    "    df, keys=[\"Patient_Id\", \"Before or After\"], store_name=\"Observations\"\n",
    ")\n",
    "\n",
    "# creating a cube -\n",
    "cube = session.create_cube(observations_datastore)"
   ]
  },
  {
   "cell_type": "markdown",
   "metadata": {},
   "source": [
    "## URL of atoti app\n",
    "\n",
    "The following cell displays URL of the atoti app:"
   ]
  },
  {
   "cell_type": "code",
   "execution_count": 5,
   "metadata": {},
   "outputs": [
    {
     "data": {
      "text/plain": [
       "'http://localhost:53300'"
      ]
     },
     "execution_count": 5,
     "metadata": {},
     "output_type": "execute_result"
    }
   ],
   "source": [
    "session.url"
   ]
  },
  {
   "cell_type": "markdown",
   "metadata": {},
   "source": [
    "# Inline data visualization\n",
    "\n",
    "By running the next cell, we embed a data visualization widget - to slice and dice data inside the notebook."
   ]
  },
  {
   "cell_type": "code",
   "execution_count": 7,
   "metadata": {
    "atoti": {
     "height": 249,
     "state": {
      "name": "",
      "type": "container",
      "value": {
       "body": {
        "configuration": {
         "tabular": {
          "addButtonFilter": "numeric",
          "cellRenderers": [
           "tree-layout"
          ],
          "columns": [
           {
            "key": "([Measures].[MemoryScores.MEAN],[Hierarchies].[Before or After].[ALL].[AllMember].[After])",
            "width": 138
           }
          ],
          "columnsGroups": [
           {
            "captionProducer": "firstColumn",
            "cellFactory": "kpi-status",
            "selector": "kpi-status"
           },
           {
            "captionProducer": "firstColumn",
            "cellFactory": "lookup",
            "selector": "lookup"
           },
           {
            "captionProducer": "expiry",
            "cellFactory": "expiry",
            "selector": "kpi-expiry"
           },
           {
            "captionProducer": "columnMerge",
            "cellFactory": {
             "args": {},
             "key": "treeCells"
            },
            "selector": "member"
           }
          ],
          "defaultOptions": {
           "headerHeight": 44
          },
          "expansion": {
           "automaticExpansion": true
          },
          "hideAddButton": true,
          "pinnedHeaderSelector": "member",
          "sortingMode": "non-breaking",
          "statisticsShown": true
         }
        },
        "contextValues": {},
        "mdx": "SELECT NON EMPTY Hierarchize(DrilldownLevel([Hierarchies].[Drug].[ALL].[AllMember])) ON ROWS, NON EMPTY Crossjoin([Measures].[MemoryScores.MEAN], Hierarchize(DrilldownLevel([Hierarchies].[Before or After].[ALL].[AllMember]))) ON COLUMNS FROM [Observations] CELL PROPERTIES VALUE, FORMATTED_VALUE, BACK_COLOR, FORE_COLOR, FONT_FLAGS",
        "ranges": {
         "column": {
          "chunkSize": 50,
          "thresholdPercentage": 0.2
         },
         "row": {
          "chunkSize": 2000,
          "thresholdPercentage": 0.1
         }
        },
        "serverUrl": "",
        "updateMode": "once"
       },
       "containerKey": "pivot-table",
       "showTitleBar": false,
       "style": {}
      }
     }
    }
   },
   "outputs": [
    {
     "data": {
      "application/vnd.atoti.v0+json": {
       "cube": "Observations",
       "name": null,
       "session": "Unnamed"
      },
      "text/plain": [
       "Install and enable the atoti JupyterLab extension to see this widget."
      ]
     },
     "metadata": {},
     "output_type": "display_data"
    }
   ],
   "source": [
    "cube.visualize()"
   ]
  },
  {
   "cell_type": "markdown",
   "metadata": {},
   "source": [
    "# Refining the application"
   ]
  },
  {
   "cell_type": "code",
   "execution_count": 7,
   "metadata": {},
   "outputs": [],
   "source": [
    "# Quick access to manage hierarchies, levels and measures\n",
    "h = cube.hierarchies\n",
    "l = cube.levels\n",
    "m = cube.measures\n",
    "\n",
    "# Sorting the hierarchy, so that the Before measurements show first:\n",
    "l[\"Before or After\"].comparator = tt.comparator.DESC\n",
    "\n",
    "# This cell is hiding undesired metrics created by default.\n",
    "# To create a cube without any default metrics, create_cube need to be used with parameter mode = `no_measures`\n",
    "m[\"MemoryScores.SUM\"].visible = False"
   ]
  },
  {
   "cell_type": "markdown",
   "metadata": {},
   "source": [
    "# Adding attributes\n",
    "\n",
    "I want to group observations by age. To achieve that, I'm creating and uploading **age to group mapping** into a separate data store:"
   ]
  },
  {
   "cell_type": "code",
   "execution_count": 8,
   "metadata": {},
   "outputs": [],
   "source": [
    "age_groups_store = session.read_pandas(\n",
    "    pd.DataFrame(\n",
    "        data=[(\"0-25Y\", i) for i in range(25)]\n",
    "        + [(\"25Y - 40Y\", i) for i in range(25, 40)]\n",
    "        + [(\"40Y - 55Y\", i) for i in range(40, 55)]\n",
    "        + [(\"55Y+\", i) for i in range(55, 100)],\n",
    "        columns=[\"age group\", \"age\"],\n",
    "    ),\n",
    "    keys=[\"age\"],\n",
    "    store_name=\"Age Groups\",\n",
    ")\n",
    "\n",
    "observations_datastore.join(age_groups_store)"
   ]
  },
  {
   "cell_type": "markdown",
   "metadata": {},
   "source": [
    "We will start using this grouping in one of the following cells."
   ]
  },
  {
   "cell_type": "code",
   "execution_count": 10,
   "metadata": {
    "atoti": {
     "state": {
      "name": "",
      "type": "container",
      "value": {
       "body": {
        "configuration": {
         "tabular": {
          "addButtonFilter": "numeric",
          "cellRenderers": [
           "tree-layout"
          ],
          "columns": [
           {
            "key": "[Measures].[Mem_Score_After.SUM]",
            "width": 210
           },
           {
            "key": "[Measures].[Mem_Score_Before.MEAN]",
            "width": 222
           },
           {
            "key": "[Measures].[MemoryScores.MEAN]",
            "width": 190
           }
          ],
          "columnsGroups": [
           {
            "captionProducer": "firstColumn",
            "cellFactory": "kpi-status",
            "selector": "kpi-status"
           },
           {
            "captionProducer": "firstColumn",
            "cellFactory": "lookup",
            "selector": "lookup"
           },
           {
            "captionProducer": "expiry",
            "cellFactory": "expiry",
            "selector": "kpi-expiry"
           },
           {
            "captionProducer": "columnMerge",
            "cellFactory": {
             "args": {},
             "key": "treeCells"
            },
            "selector": "member"
           }
          ],
          "defaultOptions": {},
          "expansion": {
           "automaticExpansion": true
          },
          "hideAddButton": true,
          "pinnedHeaderSelector": "member",
          "sortingMode": "non-breaking",
          "statisticsShown": true
         }
        },
        "contextValues": {},
        "mdx": "SELECT NON EMPTY Hierarchize(DrilldownLevel([Hierarchies].[age group].[ALL].[AllMember])) ON ROWS, NON EMPTY [Measures].[MemoryScores.MEAN] ON COLUMNS FROM [Observations] CELL PROPERTIES VALUE, FORMATTED_VALUE, BACK_COLOR, FORE_COLOR, FONT_FLAGS",
        "ranges": {
         "column": {
          "chunkSize": 50,
          "thresholdPercentage": 0.2
         },
         "row": {
          "chunkSize": 2000,
          "thresholdPercentage": 0.1
         }
        },
        "serverUrl": "",
        "updateMode": "once"
       },
       "containerKey": "pivot-table",
       "showTitleBar": false,
       "style": {}
      }
     }
    }
   },
   "outputs": [
    {
     "data": {
      "application/vnd.atoti.v0+json": {
       "cube": "Observations",
       "name": null,
       "session": "Unnamed"
      },
      "text/plain": [
       "Install and enable the atoti JupyterLab extension to see this widget."
      ]
     },
     "metadata": {},
     "output_type": "display_data"
    }
   ],
   "source": [
    "cube.visualize()"
   ]
  },
  {
   "cell_type": "code",
   "execution_count": 11,
   "metadata": {},
   "outputs": [
    {
     "data": {
      "image/svg+xml": [
       "<svg xmlns=\"http://www.w3.org/2000/svg\" xmlns:xlink=\"http://www.w3.org/1999/xlink\" width=\"433px\" height=\"376px\" viewBox=\"0.00 0.00 432.67 376.00\">\n",
       "<g id=\"graph0\" class=\"graph\" transform=\"scale(1.0 1.0) rotate(0) translate(4 372)\">\n",
       "<title>Observations schema</title>\n",
       "<polygon fill=\"white\" stroke=\"transparent\" points=\"-4,4 -4,-372 428.67,-372 428.67,4 -4,4\"/>\n",
       "<!-- Observations -->\n",
       "<g id=\"node1\" class=\"node\">\n",
       "<title>Observations</title>\n",
       "<polygon fill=\"none\" stroke=\"black\" points=\"8.5,-328 8.5,-364 187.5,-364 187.5,-328 8.5,-328\"/>\n",
       "<text text-anchor=\"start\" x=\"61.06\" y=\"-342.8\" font-family=\"Times,serif\" font-weight=\"bold\" font-size=\"14.00\">Observations</text>\n",
       "<polygon fill=\"none\" stroke=\"black\" points=\"8.5,-292 8.5,-328 187.5,-328 187.5,-292 8.5,-292\"/>\n",
       "<text text-anchor=\"start\" x=\"19.5\" y=\"-306.8\" font-family=\"Times,serif\" font-weight=\"bold\" font-size=\"14.00\">Key</text>\n",
       "<text text-anchor=\"start\" x=\"42.82\" y=\"-306.8\" font-family=\"Times,serif\" font-size=\"14.00\">  Patient_Id </text>\n",
       "<text text-anchor=\"start\" x=\"110.87\" y=\"-306.8\" font-family=\"Times,serif\" font-style=\"italic\" font-size=\"14.00\">String</text>\n",
       "<text text-anchor=\"start\" x=\"145.1\" y=\"-306.8\" font-family=\"Times,serif\" font-size=\"14.00\"> </text>\n",
       "<polygon fill=\"none\" stroke=\"black\" points=\"8.5,-256 8.5,-292 187.5,-292 187.5,-256 8.5,-256\"/>\n",
       "<text text-anchor=\"start\" x=\"19.46\" y=\"-270.8\" font-family=\"Times,serif\" font-weight=\"bold\" font-size=\"14.00\">Key</text>\n",
       "<text text-anchor=\"start\" x=\"42.79\" y=\"-270.8\" font-family=\"Times,serif\" font-size=\"14.00\">  Before or After </text>\n",
       "<text text-anchor=\"start\" x=\"138.81\" y=\"-270.8\" font-family=\"Times,serif\" font-style=\"italic\" font-size=\"14.00\">String</text>\n",
       "<text text-anchor=\"start\" x=\"173.04\" y=\"-270.8\" font-family=\"Times,serif\" font-size=\"14.00\"> </text>\n",
       "<polygon fill=\"none\" stroke=\"black\" points=\"8.5,-220 8.5,-256 187.5,-256 187.5,-220 8.5,-220\"/>\n",
       "<text text-anchor=\"start\" x=\"19.5\" y=\"-234.8\" font-family=\"Times,serif\" font-size=\"14.00\">first_name </text>\n",
       "<text text-anchor=\"start\" x=\"82.1\" y=\"-234.8\" font-family=\"Times,serif\" font-style=\"italic\" font-size=\"14.00\">String</text>\n",
       "<text text-anchor=\"start\" x=\"116.33\" y=\"-234.8\" font-family=\"Times,serif\" font-size=\"14.00\"> </text>\n",
       "<polygon fill=\"none\" stroke=\"black\" points=\"8.5,-184 8.5,-220 187.5,-220 187.5,-184 8.5,-184\"/>\n",
       "<text text-anchor=\"start\" x=\"19.5\" y=\"-198.8\" font-family=\"Times,serif\" font-size=\"14.00\">last_name </text>\n",
       "<text text-anchor=\"start\" x=\"79.76\" y=\"-198.8\" font-family=\"Times,serif\" font-style=\"italic\" font-size=\"14.00\">String</text>\n",
       "<text text-anchor=\"start\" x=\"113.99\" y=\"-198.8\" font-family=\"Times,serif\" font-size=\"14.00\"> </text>\n",
       "<polygon fill=\"none\" stroke=\"black\" points=\"8.5,-148 8.5,-184 187.5,-184 187.5,-148 8.5,-148\"/>\n",
       "<text text-anchor=\"start\" x=\"19.5\" y=\"-162.8\" font-family=\"Times,serif\" font-size=\"14.00\">age </text>\n",
       "<text text-anchor=\"start\" x=\"42.43\" y=\"-162.8\" font-family=\"Times,serif\" font-style=\"italic\" font-size=\"14.00\">long</text>\n",
       "<text text-anchor=\"start\" x=\"67.32\" y=\"-162.8\" font-family=\"Times,serif\" font-size=\"14.00\"> </text>\n",
       "<polygon fill=\"none\" stroke=\"black\" points=\"8.5,-112 8.5,-148 187.5,-148 187.5,-112 8.5,-112\"/>\n",
       "<text text-anchor=\"start\" x=\"19.5\" y=\"-126.8\" font-family=\"Times,serif\" font-size=\"14.00\">Happy_Sad_group </text>\n",
       "<text text-anchor=\"start\" x=\"127.99\" y=\"-126.8\" font-family=\"Times,serif\" font-style=\"italic\" font-size=\"14.00\">String</text>\n",
       "<text text-anchor=\"start\" x=\"162.21\" y=\"-126.8\" font-family=\"Times,serif\" font-size=\"14.00\"> </text>\n",
       "<polygon fill=\"none\" stroke=\"black\" points=\"8.5,-76 8.5,-112 187.5,-112 187.5,-76 8.5,-76\"/>\n",
       "<text text-anchor=\"start\" x=\"19.5\" y=\"-90.8\" font-family=\"Times,serif\" font-size=\"14.00\">Dosage </text>\n",
       "<text text-anchor=\"start\" x=\"64.99\" y=\"-90.8\" font-family=\"Times,serif\" font-style=\"italic\" font-size=\"14.00\">long</text>\n",
       "<text text-anchor=\"start\" x=\"89.88\" y=\"-90.8\" font-family=\"Times,serif\" font-size=\"14.00\"> </text>\n",
       "<polygon fill=\"none\" stroke=\"black\" points=\"8.5,-40 8.5,-76 187.5,-76 187.5,-40 8.5,-40\"/>\n",
       "<text text-anchor=\"start\" x=\"19.5\" y=\"-54.8\" font-family=\"Times,serif\" font-size=\"14.00\">Drug </text>\n",
       "<text text-anchor=\"start\" x=\"51.77\" y=\"-54.8\" font-family=\"Times,serif\" font-style=\"italic\" font-size=\"14.00\">String</text>\n",
       "<text text-anchor=\"start\" x=\"86\" y=\"-54.8\" font-family=\"Times,serif\" font-size=\"14.00\"> </text>\n",
       "<polygon fill=\"none\" stroke=\"black\" points=\"8.5,-4 8.5,-40 187.5,-40 187.5,-4 8.5,-4\"/>\n",
       "<text text-anchor=\"start\" x=\"19.5\" y=\"-18.8\" font-family=\"Times,serif\" font-size=\"14.00\">MemoryScores </text>\n",
       "<text text-anchor=\"start\" x=\"108.54\" y=\"-18.8\" font-family=\"Times,serif\" font-style=\"italic\" font-size=\"14.00\">double</text>\n",
       "<text text-anchor=\"start\" x=\"146.64\" y=\"-18.8\" font-family=\"Times,serif\" font-size=\"14.00\"> </text>\n",
       "</g>\n",
       "<!-- Age Groups -->\n",
       "<g id=\"node2\" class=\"node\">\n",
       "<title>Age Groups</title>\n",
       "<polygon fill=\"none\" stroke=\"black\" points=\"298.67,-202 298.67,-238 416.67,-238 416.67,-202 298.67,-202\"/>\n",
       "<text text-anchor=\"start\" x=\"323.65\" y=\"-216.8\" font-family=\"Times,serif\" font-weight=\"bold\" font-size=\"14.00\">Age Groups</text>\n",
       "<polygon fill=\"none\" stroke=\"black\" points=\"298.67,-166 298.67,-202 416.67,-202 416.67,-166 298.67,-166\"/>\n",
       "<text text-anchor=\"start\" x=\"309.67\" y=\"-180.8\" font-family=\"Times,serif\" font-weight=\"bold\" font-size=\"14.00\">Key</text>\n",
       "<text text-anchor=\"start\" x=\"333\" y=\"-180.8\" font-family=\"Times,serif\" font-size=\"14.00\">  age </text>\n",
       "<text text-anchor=\"start\" x=\"362.92\" y=\"-180.8\" font-family=\"Times,serif\" font-style=\"italic\" font-size=\"14.00\">long</text>\n",
       "<text text-anchor=\"start\" x=\"387.81\" y=\"-180.8\" font-family=\"Times,serif\" font-size=\"14.00\"> </text>\n",
       "<polygon fill=\"none\" stroke=\"black\" points=\"298.67,-130 298.67,-166 416.67,-166 416.67,-130 298.67,-130\"/>\n",
       "<text text-anchor=\"start\" x=\"309.26\" y=\"-144.8\" font-family=\"Times,serif\" font-size=\"14.00\">age group </text>\n",
       "<text text-anchor=\"start\" x=\"368.35\" y=\"-144.8\" font-family=\"Times,serif\" font-style=\"italic\" font-size=\"14.00\">String</text>\n",
       "<text text-anchor=\"start\" x=\"402.58\" y=\"-144.8\" font-family=\"Times,serif\" font-size=\"14.00\"> </text>\n",
       "</g>\n",
       "<!-- Observations&#45;&gt;Age Groups -->\n",
       "<g id=\"edge1\" class=\"edge\">\n",
       "<title>Observations-&gt;Age Groups</title>\n",
       "<path fill=\"none\" stroke=\"black\" d=\"M195,-184C223.19,-184 253.61,-184 280.36,-184\"/>\n",
       "<polygon fill=\"black\" stroke=\"black\" points=\"280.43,-187.5 290.43,-184 280.43,-180.5 280.43,-187.5\"/>\n",
       "<text text-anchor=\"middle\" x=\"242.84\" y=\"-187.48\" font-family=\"Times,serif\" font-size=\"14.00\">age → age</text>\n",
       "</g>\n",
       "</g>\n",
       "</svg>"
      ],
      "text/plain": [
       "<IPython.core.display.SVG object>"
      ]
     },
     "execution_count": 11,
     "metadata": {},
     "output_type": "execute_result"
    }
   ],
   "source": [
    "cube.schema"
   ]
  },
  {
   "cell_type": "markdown",
   "metadata": {},
   "source": [
    "From the following visualization we can tell, that on average:\n",
    "\n",
    "-    for the Drug **\"Triazolam\"** memory scores **did not materially increase** in all age groups,\n",
    "-    for the Drug **\"Alprazolam\"** memory response times **increased in all the age groups**, with a bigger impact in group 25Y-50Y,\n",
    "-    for the Drug **\"Sugar\"** the scores **fluctuated**, they slighly decreased and slighly increased in groups 25Y-50Y and 50Y+ accordingly."
   ]
  },
  {
   "cell_type": "code",
   "execution_count": 13,
   "metadata": {
    "atoti": {
     "state": {
      "name": "Average memory score by drug",
      "type": "container",
      "value": {
       "body": {
        "configuration": {
         "mapping": {
          "horizontalSubplots": [
           "[Hierarchies].[Drug].[Drug]"
          ],
          "splitBy": [
           "[Hierarchies].[Before or After].[Before or After]"
          ],
          "values": [
           "[Measures].[MemoryScores.MEAN]"
          ],
          "verticalSubplots": [],
          "xAxis": [
           "[Hierarchies].[age group].[age group]"
          ]
         },
         "subplotModeEnabled": true,
         "type": "plotly-clustered-column-chart"
        },
        "query": {
         "mdx": "SELECT NON EMPTY Crossjoin([Hierarchies].[age group].[age group].Members, [Hierarchies].[Before or After].[Before or After].Members, [Hierarchies].[Drug].[Drug].Members) ON ROWS, NON EMPTY [Measures].[MemoryScores.MEAN] ON COLUMNS FROM [Observations] CELL PROPERTIES VALUE, FORMATTED_VALUE, BACK_COLOR, FORE_COLOR, FONT_FLAGS",
         "serverUrl": "",
         "updateMode": "once"
        }
       },
       "containerKey": "chart",
       "showTitleBar": false,
       "style": {}
      }
     }
    }
   },
   "outputs": [
    {
     "data": {
      "application/vnd.atoti.v0+json": {
       "cube": "Observations",
       "name": "Average memory score by drug",
       "session": "Unnamed"
      },
      "text/plain": [
       "Install and enable the atoti JupyterLab extension to see this widget."
      ]
     },
     "metadata": {},
     "output_type": "display_data"
    }
   ],
   "source": [
    "cube.visualize(\"Average memory score by drug\")"
   ]
  },
  {
   "cell_type": "markdown",
   "metadata": {},
   "source": [
    "# Slice-and-dice basic statistics"
   ]
  },
  {
   "cell_type": "code",
   "execution_count": 14,
   "metadata": {},
   "outputs": [],
   "source": [
    "m[\"Mean\"] = tt.agg.mean(observations_datastore[\"MemoryScores\"])\n",
    "m[\"Std\"] = tt.agg.std(observations_datastore[\"MemoryScores\"])\n",
    "m[\"Min\"] = tt.agg.min(observations_datastore[\"MemoryScores\"])\n",
    "m[\"Max\"] = tt.agg.max(observations_datastore[\"MemoryScores\"])\n",
    "m[\"25%\"] = tt.agg.quantile(observations_datastore[\"MemoryScores\"], 0.25)\n",
    "m[\"50%\"] = tt.agg.quantile(observations_datastore[\"MemoryScores\"], 0.50)\n",
    "m[\"75%\"] = tt.agg.quantile(observations_datastore[\"MemoryScores\"], 0.75)"
   ]
  },
  {
   "cell_type": "markdown",
   "metadata": {},
   "source": [
    "We can now slice-and-dice those statistics using any attribute available in the data.\n",
    "\n",
    "This is an example, where the Happy or Sad field has been put onto the columns. Every time I bring an additional attribute into the view, the statistics - such averages, standard deviation and quantiles - are recomputed from the raw data."
   ]
  },
  {
   "cell_type": "code",
   "execution_count": 16,
   "metadata": {
    "atoti": {
     "height": 545,
     "state": {
      "name": "Basic statistics slice-and-dice",
      "type": "container",
      "value": {
       "body": {
        "configuration": {
         "tabular": {
          "addButtonFilter": "numeric",
          "cellRenderers": [
           "tree-layout"
          ],
          "columns": [
           {
            "key": "c-treeCells-member",
            "width": 223
           }
          ],
          "columnsGroups": [
           {
            "captionProducer": "firstColumn",
            "cellFactory": "kpi-status",
            "selector": "kpi-status"
           },
           {
            "captionProducer": "firstColumn",
            "cellFactory": "lookup",
            "selector": "lookup"
           },
           {
            "captionProducer": "expiry",
            "cellFactory": "expiry",
            "selector": "kpi-expiry"
           },
           {
            "captionProducer": "columnMerge",
            "cellFactory": {
             "args": {},
             "key": "treeCells"
            },
            "selector": "member"
           }
          ],
          "defaultOptions": {},
          "expansion": {
           "automaticExpansion": true
          },
          "hideAddButton": true,
          "pinnedHeaderSelector": "member",
          "sortingMode": "non-breaking",
          "statisticsShown": true
         }
        },
        "contextValues": {},
        "mdx": "SELECT NON EMPTY Hierarchize({[Measures].[contributors.COUNT], [Measures].[Std], [Measures].[Min], [Measures].[25%], [Measures].[50%], [Measures].[75%], [Measures].[Max], [Measures].[Mean]}) ON ROWS, NON EMPTY Hierarchize(DrilldownLevel([Hierarchies].[Happy_Sad_group].[ALL].[AllMember])) ON COLUMNS FROM [Observations] CELL PROPERTIES VALUE, FORMATTED_VALUE, BACK_COLOR, FORE_COLOR, FONT_FLAGS",
        "ranges": {
         "column": {
          "chunkSize": 50,
          "thresholdPercentage": 0.2
         },
         "row": {
          "chunkSize": 2000,
          "thresholdPercentage": 0.1
         }
        },
        "serverUrl": "",
        "updateMode": "once"
       },
       "containerKey": "pivot-table",
       "showTitleBar": false,
       "style": {}
      }
     }
    }
   },
   "outputs": [
    {
     "data": {
      "application/vnd.atoti.v0+json": {
       "cube": "Observations",
       "name": "Basic statistics slice-and-dice",
       "session": "Unnamed"
      },
      "text/plain": [
       "Install and enable the atoti JupyterLab extension to see this widget."
      ]
     },
     "metadata": {},
     "output_type": "display_data"
    }
   ],
   "source": [
    "cube.visualize(\"Basic statistics slice-and-dice\")"
   ]
  },
  {
   "cell_type": "markdown",
   "metadata": {},
   "source": [
    "Let's also set up measures to interactively evaluate left and right boundaries of the 95% [confidence interval](https://en.wikipedia.org/wiki/Confidence_interval).\n",
    "\n",
    "In this case we are creating a measure on top of the existing measures - \"Mean\" and \"Std\" - that we have just defined above."
   ]
  },
  {
   "cell_type": "code",
   "execution_count": 17,
   "metadata": {},
   "outputs": [],
   "source": [
    "alpha = 0.05\n",
    "\n",
    "m[\"95% point\"] = norm.ppf(1 - alpha / 2.0)\n",
    "m[\"Z confidence left\"] = m[\"Mean\"] - m[\"95% point\"] * m[\"Std\"]\n",
    "m[\"Z confidence right\"] = m[\"Mean\"] + m[\"95% point\"] * m[\"Std\"]"
   ]
  },
  {
   "cell_type": "markdown",
   "metadata": {},
   "source": [
    "We have just created the metrics to visualize confidence intervals interactively. The \"After\" intervals are wider and include the \"Before\" intervals, so it's difficult to say if the treatment has increased the memory scores. Let's run a statistical test to check that - in the next section."
   ]
  },
  {
   "cell_type": "code",
   "execution_count": 19,
   "metadata": {
    "atoti": {
     "state": {
      "name": "Interactive confidence intervals",
      "type": "container",
      "value": {
       "body": {
        "configuration": {
         "tabular": {
          "addButtonFilter": "numeric",
          "cellRenderers": [
           "tree-layout"
          ],
          "columns": [],
          "columnsGroups": [
           {
            "captionProducer": "firstColumn",
            "cellFactory": "kpi-status",
            "selector": "kpi-status"
           },
           {
            "captionProducer": "firstColumn",
            "cellFactory": "lookup",
            "selector": "lookup"
           },
           {
            "captionProducer": "expiry",
            "cellFactory": "expiry",
            "selector": "kpi-expiry"
           },
           {
            "captionProducer": "columnMerge",
            "cellFactory": {
             "args": {},
             "key": "treeCells"
            },
            "selector": "member"
           }
          ],
          "defaultOptions": {
           "headerHeight": 51
          },
          "expansion": {
           "automaticExpansion": true
          },
          "hideAddButton": true,
          "pinnedHeaderSelector": "member",
          "sortingMode": "non-breaking",
          "statisticsShown": true
         }
        },
        "contextValues": {},
        "mdx": "SELECT NON EMPTY Crossjoin(Hierarchize([Hierarchies].[Before or After].[Before or After].Members), {[Measures].[Z confidence left], [Measures].[Z confidence right], [Measures].[Mean], [Measures].[50%]}) ON COLUMNS, NON EMPTY Hierarchize(DrilldownLevel([Hierarchies].[Happy_Sad_group].[ALL].[AllMember])) ON ROWS FROM [Observations] CELL PROPERTIES VALUE, FORMATTED_VALUE, BACK_COLOR, FORE_COLOR, FONT_FLAGS",
        "ranges": {
         "column": {
          "chunkSize": 50,
          "thresholdPercentage": 0.2
         },
         "row": {
          "chunkSize": 2000,
          "thresholdPercentage": 0.1
         }
        },
        "serverUrl": "",
        "updateMode": "once"
       },
       "containerKey": "pivot-table",
       "showTitleBar": false,
       "style": {}
      }
     }
    }
   },
   "outputs": [
    {
     "data": {
      "application/vnd.atoti.v0+json": {
       "cube": "Observations",
       "name": "Interactive confidence intervals",
       "session": "Unnamed"
      },
      "text/plain": [
       "Install and enable the atoti JupyterLab extension to see this widget."
      ]
     },
     "metadata": {},
     "output_type": "display_data"
    }
   ],
   "source": [
    "cube.visualize(\"Interactive confidence intervals\")"
   ]
  },
  {
   "cell_type": "markdown",
   "metadata": {},
   "source": [
    "# Paired t-test\n",
    "\n",
    "Let's see how a paired t-test can be applied in atoti.\n",
    "\n",
    "As a refresher, a paired t-test is one of the [statistical hypothesis tests](https://en.wikipedia.org/wiki/Statistical_hypothesis_testing) that can help testing a medication effect, given the before and after measurements. We will check that the data provides evidence that will allow us to reject the [null hypothesis](https://en.wikipedia.org/wiki/Null_hypothesis):\n",
    "\n",
    "- H0: on average, there's no difference in the memory scores before and after treatment, \n",
    "- H1: on average, the memory score after the treatment is bigger (response time longer) than before, \n",
    "\n",
    "Or:\n",
    "\n",
    "- H0: mean difference of memory scores is equal to 0, mu = 0\n",
    "- H1: mean difference of memory scores between after and before measurements is above 0, mu>0.\n"
   ]
  },
  {
   "cell_type": "markdown",
   "metadata": {},
   "source": [
    "Firstly, we need to compute t-statistic for the differences between memory scores after and before treatment, the statistic is defined as per the formula:\n",
    "\n",
    "$$t_{statistic} = \\frac{\\bar{x}}{s/\\sqrt{n}}$$\n",
    "\n",
    "where \n",
    "- $\\bar{x}$: the mean value of the memory score differences \n",
    "- $n$: the number of observations\n",
    "- $s$: standard deviation of the memory score differences\n",
    "\n",
    "We'd need to provide mean differences, stdev of differences and the number of differences (patients) participated in the test.\n",
    "\n",
    "Let's create a measure for the difference. I'm using atoti `.filter` function to create average memory scores for the \"Before\" and \"After\" measurements, and then taking their difference."
   ]
  },
  {
   "cell_type": "code",
   "execution_count": 20,
   "metadata": {},
   "outputs": [],
   "source": [
    "m[\"MemoryScoresAfter.Mean\"] = tt.filter(\n",
    "    m[\"MemoryScores.MEAN\"], l[\"Before or After\"] == \"After\"\n",
    ")\n",
    "m[\"MemoryScoresBefore.Mean\"] = tt.filter(\n",
    "    m[\"MemoryScores.MEAN\"], l[\"Before or After\"] == \"Before\"\n",
    ")\n",
    "\n",
    "m[\"Diff.Mean\"] = m[\"MemoryScoresAfter.Mean\"] - m[\"MemoryScoresBefore.Mean\"]\n",
    "m[\"Diff.Mean\"].formatter = \"DOUBLE[#,##0.00]\""
   ]
  },
  {
   "cell_type": "code",
   "execution_count": 22,
   "metadata": {
    "atoti": {
     "height": 177,
     "state": {
      "name": "",
      "type": "container",
      "value": {
       "body": {
        "configuration": {
         "tabular": {
          "addButtonFilter": "numeric",
          "cellRenderers": [
           "tree-layout"
          ],
          "columnsGroups": [
           {
            "captionProducer": "firstColumn",
            "cellFactory": "kpi-status",
            "selector": "kpi-status"
           },
           {
            "captionProducer": "firstColumn",
            "cellFactory": "lookup",
            "selector": "lookup"
           },
           {
            "captionProducer": "expiry",
            "cellFactory": "expiry",
            "selector": "kpi-expiry"
           },
           {
            "captionProducer": "columnMerge",
            "cellFactory": {
             "args": {},
             "key": "treeCells"
            },
            "selector": "member"
           }
          ],
          "defaultOptions": {},
          "expansion": {
           "automaticExpansion": true
          },
          "hideAddButton": true,
          "pinnedHeaderSelector": "member",
          "sortingMode": "non-breaking",
          "statisticsShown": true
         }
        },
        "contextValues": {},
        "mdx": "SELECT NON EMPTY {[Measures].[Diff.Mean], [Measures].[MemoryScoresBefore.Mean], [Measures].[MemoryScoresAfter.Mean]} ON COLUMNS, NON EMPTY Hierarchize(DrilldownLevel([Hierarchies].[Drug].[ALL].[AllMember])) ON ROWS FROM [Observations] CELL PROPERTIES VALUE, FORMATTED_VALUE, BACK_COLOR, FORE_COLOR, FONT_FLAGS",
        "ranges": {
         "column": {
          "chunkSize": 50,
          "thresholdPercentage": 0.2
         },
         "row": {
          "chunkSize": 2000,
          "thresholdPercentage": 0.1
         }
        },
        "serverUrl": "",
        "updateMode": "once"
       },
       "containerKey": "pivot-table",
       "showTitleBar": false,
       "style": {}
      }
     }
    }
   },
   "outputs": [
    {
     "data": {
      "application/vnd.atoti.v0+json": {
       "cube": "Observations",
       "name": null,
       "session": "Unnamed"
      },
      "text/plain": [
       "Install and enable the atoti JupyterLab extension to see this widget."
      ]
     },
     "metadata": {},
     "output_type": "display_data"
    }
   ],
   "source": [
    "cube.visualize()"
   ]
  },
  {
   "cell_type": "code",
   "execution_count": 23,
   "metadata": {},
   "outputs": [],
   "source": [
    "# Computing standard deviation of differences:\n",
    "m[\"Diff.Std\"] = tt.agg.std(m[\"Diff.Mean\"], scope=tt.scope.origin(l[\"Patient_Id\"]))\n",
    "\n",
    "# Number of observations\n",
    "m[\"Number of observations\"] = tt.agg.count_distinct(\n",
    "    observations_datastore[\"Patient_Id\"]\n",
    ")\n",
    "\n",
    "# Computing the t-statistic per formula above:\n",
    "m[\"t-statistic\"] = m[\"Diff.Mean\"] / (\n",
    "    m[\"Diff.Std\"] / tt.sqrt(m[\"Number of observations\"])\n",
    ")\n",
    "m[\"t-statistic\"].formatter = \"DOUBLE[0.00]\""
   ]
  },
  {
   "cell_type": "markdown",
   "metadata": {},
   "source": [
    "We will be comparing the `t-statistic` to the right tail _critical value_, and if it's above the critical value, we will conclude that the data provides the evidence to reject the null hypothesis. Let's load 95% critical values for different [degrees of freedom](https://en.wikipedia.org/wiki/Degrees_of_freedom_(statistics)) into the cube."
   ]
  },
  {
   "cell_type": "markdown",
   "metadata": {},
   "source": [
    "Now, depending on the number of observations for each cell, we will pick a critical value and visualize it as a measure:"
   ]
  },
  {
   "cell_type": "code",
   "execution_count": 24,
   "metadata": {},
   "outputs": [],
   "source": [
    "# Loading a \"table\" of critical values, 101 values in total.\n",
    "# For experiments with more than 101 degrees of freedom, we approximate the critical value, for 95% confidence - with value 1.645.\n",
    "m[\"t-critical values list\"] = [t.ppf(0.95, d) for d in range(1, 101)] + [1.645]\n",
    "\n",
    "# Computing degrees of freedom as the number of observations minus 1:\n",
    "degrees_of_freedom = m[\"Number of observations\"] - 1\n",
    "\n",
    "# Shifting the df by -1 to use as an index and look up critical value from the list:\n",
    "df_as_index = degrees_of_freedom - 1\n",
    "\n",
    "# If there're too many observations (more than 101), we'll cap it:\n",
    "capped_df_as_index = tt.where(df_as_index > 100, 100, df_as_index)\n",
    "\n",
    "# This measure will be looking up a critical value for the current scope:\n",
    "m[\"t-critical\"] = m[\"t-critical values list\"][capped_df_as_index]"
   ]
  },
  {
   "cell_type": "markdown",
   "metadata": {},
   "source": [
    "This measure is displaying whether the observed t-statistics is to the right from the critical value, i.e. there's evidence that H0 can be rejected. It will visualize the result of t-test every time we expand and collapse data:"
   ]
  },
  {
   "cell_type": "code",
   "execution_count": 25,
   "metadata": {},
   "outputs": [],
   "source": [
    "m[\"Test Result\"] = tt.where(\n",
    "    m[\"t-statistic\"] > m[\"t-critical\"], \"H0 rejected\", \"Can't reject H0\"\n",
    ")"
   ]
  },
  {
   "cell_type": "markdown",
   "metadata": {},
   "source": [
    "In the next session we'll see how to use the measure created above to visualize the test result."
   ]
  },
  {
   "cell_type": "markdown",
   "metadata": {},
   "source": [
    "# Interactive hypothesis testing"
   ]
  },
  {
   "cell_type": "markdown",
   "metadata": {},
   "source": [
    "Now we can experiment and re-group our data and apply the test interactively:\n",
    "\n",
    "- **\"H0 rejected\"** will mean that the data provides evidence that mean difference is not 0, meaning, there's a statistically significant impact of treatment onto the memory scores.\n",
    "- **\"Can't reject H0\"** will mean that t-statistic is smaller than the critical value, and we can't reject the null hypothesis.\n",
    "\n",
    "We expand by the name of the drug, then by dosages, then by patient \"Happy/Sad\" group, and this is what we found out:\n",
    "\n",
    "- there's an evidence that **Drug Aprazolam** had impact on the memory scores (response time), while Sugar and Triazolam did not, \n",
    "- when we break down the Drug Aprazolam observations **by dosage** -  we notice that only the dosages 1 and 2 are statistically significant, \n",
    "- if we further expand to \"Happy/Sad\" group, and for the \"Happy\" patients only the higher dosage impacted the memory score."
   ]
  },
  {
   "cell_type": "code",
   "execution_count": 27,
   "metadata": {
    "atoti": {
     "state": {
      "name": "",
      "type": "container",
      "value": {
       "body": {
        "configuration": {
         "tabular": {
          "addButtonFilter": "numeric",
          "cellRenderers": [
           "tree-layout"
          ],
          "columns": [
           {
            "key": "c-treeCells-member",
            "width": 153
           }
          ],
          "columnsGroups": [
           {
            "captionProducer": "firstColumn",
            "cellFactory": "kpi-status",
            "selector": "kpi-status"
           },
           {
            "captionProducer": "firstColumn",
            "cellFactory": "lookup",
            "selector": "lookup"
           },
           {
            "captionProducer": "expiry",
            "cellFactory": "expiry",
            "selector": "kpi-expiry"
           },
           {
            "captionProducer": "columnMerge",
            "cellFactory": {
             "args": {},
             "key": "treeCells"
            },
            "selector": "member"
           }
          ],
          "defaultOptions": {
           "headerHeight": 58
          },
          "expansion": {
           "automaticExpansion": true
          },
          "hideAddButton": true,
          "pinnedHeaderSelector": "member",
          "sortingMode": "non-breaking",
          "statisticsShown": true
         }
        },
        "contextValues": {},
        "mdx": "WITH  Member [Measures].[Test Result (1)] AS [Measures].[Test Result], BACK_COLOR = CASE WHEN [Measures].[Test Result (1)] = \"H0 rejected\" THEN rgb(217, 234, 211) END, CAPTION = [Measures].[Test Result].MEMBER_CAPTION  SELECT NON EMPTY {[Measures].[Test Result (1)], [Measures].[t-statistic], [Measures].[t-critical], [Measures].[Number of observations], [Measures].[Diff.Mean], [Measures].[MemoryScoresAfter.Mean], [Measures].[MemoryScoresBefore.Mean]} ON COLUMNS, NON EMPTY Hierarchize(Crossjoin(Union(DrilldownLevel([Hierarchies].[Drug].[ALL].[AllMember]), [Hierarchies].[Drug].[ALL].[AllMember].[A], [Hierarchies].[Drug].[ALL].[AllMember].[S], [Hierarchies].[Drug].[ALL].[AllMember].[Aprazolam]), [Hierarchies].[Happy_Sad_group].[Happy_Sad_group].Members)) ON ROWS FROM [Observations] CELL PROPERTIES BACK_COLOR, FONT_FLAGS, FORE_COLOR, FORMATTED_VALUE, VALUE",
        "ranges": {
         "column": {
          "chunkSize": 50,
          "thresholdPercentage": 0.2
         },
         "row": {
          "chunkSize": 2000,
          "thresholdPercentage": 0.1
         }
        },
        "serverUrl": "",
        "updateMode": "once"
       },
       "containerKey": "pivot-table",
       "showTitleBar": false,
       "style": {}
      }
     }
    }
   },
   "outputs": [
    {
     "data": {
      "application/vnd.atoti.v0+json": {
       "cube": "Observations",
       "name": null,
       "session": "Unnamed"
      },
      "text/plain": [
       "Install and enable the atoti JupyterLab extension to see this widget."
      ]
     },
     "metadata": {},
     "output_type": "display_data"
    }
   ],
   "source": [
    "cube.visualize()"
   ]
  },
  {
   "cell_type": "markdown",
   "metadata": {},
   "source": [
    "# Quick simulation\n",
    "\n",
    "Let's make a quick comparison of the test results under the 95%, 97.5%, 99% confidence levels by loading new critical values into simulations. As a reminder, we've been using the 95% critical values so far."
   ]
  },
  {
   "cell_type": "code",
   "execution_count": 29,
   "metadata": {},
   "outputs": [],
   "source": [
    "# creating a new simulation to override critical values, and giving a name to the initial values\n",
    "confidence_levels = cube.setup_simulation(\n",
    "    \"Confidence Levels\", replace=[m[\"t-critical values list\"]], base_scenario=\"95%\"\n",
    ").scenarios\n",
    "# creating new critical values based on 0.975 and 0.99 confidence levels\n",
    "confidence_levels[\"97.5%\"] = [t.ppf(0.975, d) for d in range(1, 101)] + [1.960]\n",
    "confidence_levels[\"99%\"] = [t.ppf(0.99, d) for d in range(1, 101)] + [2.326]"
   ]
  },
  {
   "cell_type": "markdown",
   "metadata": {},
   "source": [
    "Let's expand Test results for Sugar and we'll see that the hypothesis is rejected for dosage 1 under the 95% and 97.5% confidence levels - implying that memory reponse time increases for patients taking low dosage of sugar (placebo). Most probably we are making Type I error - false positive result. Increasing the confidence level helps to reduce the probability of Type I error, in our case, H0 is not rejected for Sugar with 99% confidence level."
   ]
  },
  {
   "cell_type": "code",
   "execution_count": 31,
   "metadata": {
    "atoti": {
     "state": {
      "name": "",
      "type": "container",
      "value": {
       "body": {
        "configuration": {
         "tabular": {
          "addButtonFilter": "numeric",
          "cellRenderers": [
           "tree-layout"
          ],
          "columns": [
           {
            "key": "c-treeCells-member",
            "width": 132
           }
          ],
          "columnsGroups": [
           {
            "captionProducer": "firstColumn",
            "cellFactory": "kpi-status",
            "selector": "kpi-status"
           },
           {
            "captionProducer": "firstColumn",
            "cellFactory": "lookup",
            "selector": "lookup"
           },
           {
            "captionProducer": "expiry",
            "cellFactory": "expiry",
            "selector": "kpi-expiry"
           },
           {
            "captionProducer": "columnMerge",
            "cellFactory": {
             "args": {},
             "key": "treeCells"
            },
            "selector": "member"
           }
          ],
          "defaultOptions": {},
          "expansion": {
           "automaticExpansion": true
          },
          "hideAddButton": true,
          "pinnedHeaderSelector": "member",
          "sortingMode": "non-breaking",
          "statisticsShown": true
         }
        },
        "contextValues": {},
        "mdx": "WITH  Member [Measures].[Test Result (1)] AS [Measures].[Test Result], BACK_COLOR = CASE WHEN [Measures].[Test Result (1)] = \"H0 rejected\" THEN rgb(217, 234, 211) END, CAPTION = [Measures].[Test Result].MEMBER_CAPTION  SELECT NON EMPTY Crossjoin({[Measures].[Test Result (1)], [Measures].[t-critical]}, Hierarchize([Measure Simulations].[Confidence Levels].[Confidence Levels].Members)) ON COLUMNS, NON EMPTY Except(Crossjoin(Hierarchize(Union(DrilldownLevel([Hierarchies].[Drug].[ALL].[AllMember]), [Hierarchies].[Drug].[ALL].[AllMember].[Drug A], [Hierarchies].[Drug].[ALL].[AllMember].[Drug S], [Hierarchies].[Drug].[ALL].[AllMember].[Drug T])), Hierarchize(DrilldownLevel([Hierarchies].[Dosage].[ALL].[AllMember]))), Union(Crossjoin([Hierarchies].[Drug].[ALL].[AllMember].[Drug A], [Hierarchies].[Dosage].[Dosage].Members), Crossjoin([Hierarchies].[Drug].[ALL].[AllMember].[Drug T], [Hierarchies].[Dosage].[Dosage].Members))) ON ROWS FROM [Observations] CELL PROPERTIES BACK_COLOR, FONT_FLAGS, FORE_COLOR, FORMATTED_VALUE, VALUE",
        "ranges": {
         "column": {
          "chunkSize": 50,
          "thresholdPercentage": 0.2
         },
         "row": {
          "chunkSize": 2000,
          "thresholdPercentage": 0.1
         }
        },
        "serverUrl": "",
        "updateMode": "once"
       },
       "containerKey": "pivot-table",
       "showTitleBar": false,
       "style": {}
      }
     }
    }
   },
   "outputs": [
    {
     "data": {
      "application/vnd.atoti.v0+json": {
       "cube": "Observations",
       "name": null,
       "session": "Unnamed"
      },
      "text/plain": [
       "Install and enable the atoti JupyterLab extension to see this widget."
      ]
     },
     "metadata": {},
     "output_type": "display_data"
    }
   ],
   "source": [
    "cube.visualize()"
   ]
  },
  {
   "cell_type": "markdown",
   "metadata": {},
   "source": [
    "# Alternative data sets"
   ]
  },
  {
   "cell_type": "markdown",
   "metadata": {},
   "source": [
    "Let's imagine that we obtained memory scores data using an alternative methodology, and want to compare the test results side-by-side with the original approach."
   ]
  },
  {
   "cell_type": "code",
   "execution_count": 32,
   "metadata": {},
   "outputs": [],
   "source": [
    "observations_datastore.scenarios[\"Multicenter study data\"].load_csv(\n",
    "    \"https://data.atoti.io/notebooks/drug-efficacy/Multi_center_study_data.csv\"\n",
    ")"
   ]
  },
  {
   "cell_type": "code",
   "execution_count": 34,
   "metadata": {
    "atoti": {
     "state": {
      "name": "",
      "type": "container",
      "value": {
       "body": {
        "configuration": {
         "tabular": {
          "addButtonFilter": "numeric",
          "cellRenderers": [
           "tree-layout"
          ],
          "columnOrder": {
           "args": {
            "orderedColumns": [
             "c-treeCells-member",
             "([Measures].[Test Result (1)],[Epoch].[Epoch].[Branch].[Multicenter study data2])",
             "([Measures].[Test Result (1)],[Epoch].[Epoch].[Branch].[Base])",
             "([Measures].[Test Result (1)],[Epoch].[Epoch].[Branch].[Multicenter study data])",
             "([Measures].[contributors.COUNT],[Epoch].[Epoch].[Branch].[Base])",
             "([Measures].[contributors.COUNT],[Epoch].[Epoch].[Branch].[Multicenter study data])",
             "([Measures].[contributors.COUNT],[Epoch].[Epoch].[Branch].[Multicenter study data2])",
             "([Measures].[t-statistic],[Epoch].[Epoch].[Branch].[Base])",
             "([Measures].[t-statistic],[Epoch].[Epoch].[Branch].[Multicenter study data])",
             "([Measures].[t-statistic],[Epoch].[Epoch].[Branch].[Multicenter study data2])",
             "([Measures].[t-critical],[Epoch].[Epoch].[Branch].[Base])",
             "([Measures].[t-critical],[Epoch].[Epoch].[Branch].[Multicenter study data])",
             "([Measures].[t-critical],[Epoch].[Epoch].[Branch].[Multicenter study data2])"
            ]
           },
           "key": "explicit"
          },
          "columnsGroups": [
           {
            "captionProducer": "firstColumn",
            "cellFactory": "kpi-status",
            "selector": "kpi-status"
           },
           {
            "captionProducer": "firstColumn",
            "cellFactory": "lookup",
            "selector": "lookup"
           },
           {
            "captionProducer": "expiry",
            "cellFactory": "expiry",
            "selector": "kpi-expiry"
           },
           {
            "captionProducer": "columnMerge",
            "cellFactory": {
             "args": {},
             "key": "treeCells"
            },
            "selector": "member"
           }
          ],
          "defaultOptions": {
           "headerHeight": 64
          },
          "expansion": {
           "automaticExpansion": true
          },
          "hideAddButton": true,
          "pinnedHeaderSelector": "member",
          "sortingMode": "non-breaking",
          "statisticsShown": true
         }
        },
        "contextValues": {},
        "mdx": "WITH  Member [Measures].[Test Result (1)] AS [Measures].[Test Result], BACK_COLOR = CASE WHEN [Measures].[Test Result (1)] = \"H0 rejected\" THEN rgb(217, 234, 211) END, CAPTION = [Measures].[Test Result].MEMBER_CAPTION  SELECT NON EMPTY Crossjoin({[Measures].[Test Result (1)], [Measures].[contributors.COUNT], [Measures].[t-statistic]}, Hierarchize([Epoch].[Epoch].[Branch].Members)) ON COLUMNS, NON EMPTY Hierarchize(DrilldownLevel([Hierarchies].[Drug].[ALL].[AllMember])) ON ROWS FROM [Observations] CELL PROPERTIES BACK_COLOR, FONT_FLAGS, FORE_COLOR, FORMATTED_VALUE, VALUE",
        "ranges": {
         "column": {
          "chunkSize": 50,
          "thresholdPercentage": 0.2
         },
         "row": {
          "chunkSize": 2000,
          "thresholdPercentage": 0.1
         }
        },
        "serverUrl": "",
        "updateMode": "once"
       },
       "containerKey": "pivot-table",
       "showTitleBar": false,
       "style": {}
      }
     }
    }
   },
   "outputs": [
    {
     "data": {
      "application/vnd.atoti.v0+json": {
       "cube": "Observations",
       "name": null,
       "session": "Unnamed"
      },
      "text/plain": [
       "Install and enable the atoti JupyterLab extension to see this widget."
      ]
     },
     "metadata": {},
     "output_type": "display_data"
    }
   ],
   "source": [
    "cube.visualize()"
   ]
  },
  {
   "cell_type": "markdown",
   "metadata": {},
   "source": [
    "# Conclusion\n",
    "\n",
    "In this notebook we have configured an analytical application for **exploratory data analysis**, that allows to **interactively browse** the data and re-compute statistics, such as mean, stdev, etc, as well as more complex functions - such as hypothesis test metrics - **on-the-fly**. Even though the example has a handful of observation, atoti's backend is designed to handle big data. Please refer to this white page is you want to learn about the [technology](https://activeviam.com/images/pdf/white-papers/ActiveViam_Technical_White_Paper_-_ActivePivot.pdf) on atoti's backend.\n",
    "\n",
    "The application comes with a **user interface**, so the results of the analysis can be visualized in a dashboard and presented to users:\n"
   ]
  },
  {
   "cell_type": "code",
   "execution_count": null,
   "metadata": {},
   "outputs": [],
   "source": [
    "session.url + \"/#/dashboard/3f7\""
   ]
  }
 ],
 "metadata": {
  "kernelspec": {
   "display_name": "Python 3",
   "language": "python",
   "name": "python3"
  },
  "language_info": {
   "codemirror_mode": {
    "name": "ipython",
    "version": 3
   },
   "file_extension": ".py",
   "mimetype": "text/x-python",
   "name": "python",
   "nbconvert_exporter": "python",
   "pygments_lexer": "ipython3",
   "version": "3.8.5"
  }
 },
 "nbformat": 4,
 "nbformat_minor": 4
}
