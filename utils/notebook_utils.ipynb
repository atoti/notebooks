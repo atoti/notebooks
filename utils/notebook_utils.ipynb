{
 "cells": [
  {
   "cell_type": "code",
   "execution_count": 1,
   "metadata": {},
   "outputs": [],
   "source": [
    "# checking if file has already been downloaded \n",
    "def download_source(cwd: str, url: str, filename: str):\n",
    "    \"\"\"This function downloads data file from the given url to the working directory (cwd).\n",
    "\n",
    "    Args:\n",
    "        cwd: current working directory.\n",
    "        url: url for the source file\n",
    "        filename: filename of the downloaded file\n",
    "    \"\"\"\n",
    "    if os.path.isfile(cwd + \"/\" + filename):\n",
    "        print(filename + ' already downloaded.')\n",
    "    else:\n",
    "        wget.download(url, out=cwd)"
   ]
  },
  {
   "cell_type": "code",
   "execution_count": null,
   "metadata": {},
   "outputs": [],
   "source": []
  }
 ],
 "metadata": {
  "kernelspec": {
   "display_name": "Python 3",
   "language": "python",
   "name": "python3"
  },
  "language_info": {
   "codemirror_mode": {
    "name": "ipython",
    "version": 3
   },
   "file_extension": ".py",
   "mimetype": "text/x-python",
   "name": "python",
   "nbconvert_exporter": "python",
   "pygments_lexer": "ipython3",
   "version": "3.7.6"
  }
 },
 "nbformat": 4,
 "nbformat_minor": 4
}
