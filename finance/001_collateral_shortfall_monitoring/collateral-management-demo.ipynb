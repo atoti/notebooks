{
 "cells": [
  {
   "cell_type": "markdown",
   "metadata": {},
   "source": [
    "# From Zero to Hero in Collateral Shortfall Monitoring\n",
    "\n",
    "### Introduction\n",
    "\n",
    "In this notebook, we will showcase how quickly a dashboard can be put together for a simplified use case of Collateral Shortfall monitoring with Atoti libraries.  \n",
    "  \n",
    "Collateral is a form of credit risk mitigation where an asset is accepted as security for extending a loan. \n",
    "Collateral Shortfall occurs when the collateral value goes below the cash out value. That meant that the value of collateral is less that what it is expected to be, due to a variety of factors such as market fluctuations, contracts enforceability etc. \n",
    "\n",
    "We will be creating a multi-dimension data cube and derive the various measures such as market value, collateral value after haircut, cash out value over account and thereafter, the Collateral shortfall for the accounts. \n",
    "\n",
    "Leveraging on the data cube and Atoti's data visualization, we will put together dashboards that reflects collateral status of accounts. Cherry on top, we will perform some *What if Analysis* to demonstrate the impact on Collateral in the below scenarios:  \n",
    "\n",
    "- Haircut simulation where there is a consumption slowdown in the Consumer Cyclical sector in Italy and France\n",
    "- Technology slump where price value for the sector dipped by 30%\n",
    "- Cash out simulation where cash out increase by 10%"
   ]
  },
  {
   "cell_type": "code",
   "execution_count": null,
   "metadata": {},
   "outputs": [],
   "source": [
    "import atoti as tt\n",
    "import pandas as pd\n",
    "# conda install python-wget if you haven't installed wget\n",
    "import wget\n",
    "\n",
    "# last run version: '1.0.3'\n",
    "pd.__version__"
   ]
  },
  {
   "cell_type": "code",
   "execution_count": null,
   "metadata": {},
   "outputs": [],
   "source": [
    "current_version = tt.__version__\n",
    "used_version = '0.3.0.20200325172102'\n",
    "\n",
    "# In the event a newer version of Atoti is used, please update the necessary functions according to the changelog\n",
    "if used_version != current_version:\n",
    "    raise ValueError('Version mismatch')"
   ]
  },
  {
   "cell_type": "code",
   "execution_count": null,
   "metadata": {},
   "outputs": [],
   "source": [
    "# downloading data files for this notebook - skip if you already have\n",
    "wget.download('http://data.atoti.io/notebooks/collateral-shortfall-monitoring/assets_positions.csv')\n",
    "wget.download('http://data.atoti.io/notebooks/collateral-shortfall-monitoring/assets_prices.csv')\n",
    "wget.download('http://data.atoti.io/notebooks/collateral-shortfall-monitoring/assets_attributes.parquet')\n",
    "wget.download('http://data.atoti.io/notebooks/collateral-shortfall-monitoring/loans_positions.csv')"
   ]
  },
  {
   "cell_type": "code",
   "execution_count": null,
   "metadata": {},
   "outputs": [],
   "source": [
    "#tell atoti to load the database containing the UI dashboards\n",
    "config = tt.config.create_config(metadata_db=\"./metadata.db\")\n",
    "\n",
    "# a session has to be created for atoti\n",
    "session = tt.create_session(config=config)"
   ]
  },
  {
   "cell_type": "markdown",
   "metadata": {},
   "source": [
    "### Data loading\n",
    "session is used to read data of formats csv, parquet, pandas dataframe, numpy and spark   \n",
    "refer to https://www.atoti.io/documentation/tutorial/08-data-sources.html   \n",
    "   \n",
    "#### Loading csv"
   ]
  },
  {
   "cell_type": "code",
   "execution_count": null,
   "metadata": {},
   "outputs": [],
   "source": [
    "asset_positions_store = session.read_csv('assets_positions.csv', keys=['Account','Asset_Code'], store_name='asset_positions_store')"
   ]
  },
  {
   "cell_type": "code",
   "execution_count": null,
   "metadata": {},
   "outputs": [],
   "source": [
    "# use store.head(n) preview the first n rows loaded into the store where needed\n",
    "# likewise, you can use store.columns to preview the columns in the store\n",
    "# or store.shape to see the number of rows and columns loaded into the store\n",
    "asset_positions_store.head(5)"
   ]
  },
  {
   "cell_type": "code",
   "execution_count": null,
   "metadata": {},
   "outputs": [],
   "source": [
    "assets_prices = session.read_csv('assets_prices.csv', keys=['Asset_Code','Date'], store_name='assets_prices_store')"
   ]
  },
  {
   "cell_type": "markdown",
   "metadata": {},
   "source": [
    "### Loading parquet"
   ]
  },
  {
   "cell_type": "code",
   "execution_count": null,
   "metadata": {},
   "outputs": [],
   "source": [
    "assets_store = session.read_parquet('assets_attributes.parquet', keys=['Asset_Code'], store_name='assets_store')"
   ]
  },
  {
   "cell_type": "markdown",
   "metadata": {},
   "source": [
    "### Loading csv via pandas before session loads pandas dataframe   \n",
    "Being able to load pandas dataframe allows us flexibility of data manipulations using dataframe in the way we are used to.  \n",
    "This also meant that existing programs using dataframe to consume data can easily be migrated over to Atoti."
   ]
  },
  {
   "cell_type": "code",
   "execution_count": null,
   "metadata": {},
   "outputs": [],
   "source": [
    "loans_positions_df =pd.read_csv('loans_positions.csv')"
   ]
  },
  {
   "cell_type": "code",
   "execution_count": null,
   "metadata": {},
   "outputs": [],
   "source": [
    "loans_positions_store = session.read_pandas(loans_positions_df, keys=['Account'], store_name='loans_positions_store')"
   ]
  },
  {
   "cell_type": "markdown",
   "metadata": {},
   "source": [
    "### Joining datastore"
   ]
  },
  {
   "cell_type": "code",
   "execution_count": null,
   "metadata": {},
   "outputs": [],
   "source": [
    "asset_positions_store.join(assets_store, mapping={'Asset_Code' : 'Asset_Code'})"
   ]
  },
  {
   "cell_type": "code",
   "execution_count": null,
   "metadata": {},
   "outputs": [],
   "source": [
    "asset_positions_store.join(loans_positions_store, mapping={'Account' : 'Account'})"
   ]
  },
  {
   "cell_type": "code",
   "execution_count": null,
   "metadata": {},
   "outputs": [],
   "source": [
    "# take note that we are slicing the data by 'Date' column. \n",
    "# this means that we always view a subset of the cube by one date by default\n",
    "asset_positions_store.join(assets_prices, mapping={'Asset_Code' : 'Asset_Code'}, slicing_columns=['Date'])"
   ]
  },
  {
   "cell_type": "code",
   "execution_count": null,
   "metadata": {},
   "outputs": [],
   "source": [
    "# Use head(joined_columns=True) to view the results of the joined references\n",
    "asset_positions_store.head(joined_columns=True)"
   ]
  },
  {
   "cell_type": "markdown",
   "metadata": {},
   "source": [
    "### Cube creation"
   ]
  },
  {
   "cell_type": "code",
   "execution_count": null,
   "metadata": {},
   "outputs": [],
   "source": [
    "asset_positions_cube = session.create_cube(asset_positions_store, 'Collateral_Management')"
   ]
  },
  {
   "cell_type": "markdown",
   "metadata": {},
   "source": [
    "### Quick analysis with cube.visualize"
   ]
  },
  {
   "cell_type": "code",
   "execution_count": null,
   "metadata": {
    "atoti": {
     "state": {
      "name": "",
      "type": "container",
      "value": {
       "body": {
        "configuration": {
         "tabular": {
          "addButtonFilter": "numeric",
          "columnsGroups": [
           {
            "captionProducer": "firstColumn",
            "cellFactory": "kpi-status",
            "selector": "kpi-status"
           },
           {
            "captionProducer": "firstColumn",
            "cellFactory": "lookup",
            "selector": "lookup"
           },
           {
            "captionProducer": "expiry",
            "cellFactory": "expiry",
            "selector": "kpi-expiry"
           },
           {
            "captionProducer": "columnMerge",
            "cellFactory": {
             "args": {
              "automaticExpansion": true
             },
             "key": "treeCells"
            },
            "selector": "member"
           }
          ],
          "defaultOptions": {},
          "hideAddButton": true,
          "lineNumbers": true,
          "pinnedHeaderSelector": "member",
          "sortingMode": "non-breaking",
          "statisticsShown": true
         }
        },
        "contextValues": {},
        "mdx": "SELECT NON EMPTY {[Measures].[Quantity.SUM], [Measures].[Cash_Out.VALUE]} ON COLUMNS, NON EMPTY Crossjoin(Hierarchize(DrilldownLevel([Hierarchies].[Account].[ALL].[AllMember])), Hierarchize(DrilldownLevel([Hierarchies].[Sector].[ALL].[AllMember])), Hierarchize(DrilldownLevel([Hierarchies].[Country].[ALL].[AllMember]))) ON ROWS FROM [Collateral_Management] CELL PROPERTIES VALUE, FORMATTED_VALUE, BACK_COLOR, FORE_COLOR, FONT_FLAGS",
        "ranges": {
         "column": {
          "chunkSize": 50,
          "thresholdPercentage": 0.2
         },
         "row": {
          "chunkSize": 2000,
          "thresholdPercentage": 0.1
         }
        },
        "serverUrl": "",
        "updateMode": "once"
       },
       "containerKey": "pivot-table",
       "showTitleBar": false,
       "style": {}
      }
     }
    }
   },
   "outputs": [],
   "source": [
    "# we can perform drill-down to different hierarchies in a pivot table\n",
    "asset_positions_cube.visualize()"
   ]
  },
  {
   "cell_type": "code",
   "execution_count": null,
   "metadata": {
    "atoti": {
     "state": {
      "name": "",
      "type": "container",
      "value": {
       "body": {
        "configuration": {
         "mapping": {
          "horizontal": [],
          "splitBy": [
           "[Hierarchies].[Asset_Code].[Asset_Code]"
          ],
          "values": [
           "[Measures].[Price.VALUE]"
          ],
          "vertical": [],
          "xAxis": [
           "[Hierarchies].[Date].[Date]"
          ]
         },
         "type": "plotly-line-chart"
        },
        "query": {
         "mdx": "SELECT NON EMPTY Crossjoin([Hierarchies].[Date].[Date].Members, [Hierarchies].[Asset_Code].[Asset_Code].Members) ON ROWS, NON EMPTY [Measures].[Price.VALUE] ON COLUMNS FROM [Collateral_Management] CELL PROPERTIES VALUE, FORMATTED_VALUE, BACK_COLOR, FORE_COLOR, FONT_FLAGS",
         "serverUrl": "",
         "updateMode": "once"
        }
       },
       "containerKey": "chart",
       "showTitleBar": false,
       "style": {}
      }
     }
    }
   },
   "outputs": [],
   "source": [
    "# we can look at the price.VALUE across Date, further split the charts by Asset_Code\n",
    "asset_positions_cube.visualize()"
   ]
  },
  {
   "cell_type": "code",
   "execution_count": null,
   "metadata": {
    "atoti": {
     "state": {
      "name": "times-series",
      "type": "container",
      "value": {
       "body": {
        "configuration": {
         "tabular": {
          "addButtonFilter": "numeric",
          "columnsGroups": [
           {
            "captionProducer": "firstColumn",
            "cellFactory": "kpi-status",
            "selector": "kpi-status"
           },
           {
            "captionProducer": "firstColumn",
            "cellFactory": "lookup",
            "selector": "lookup"
           },
           {
            "captionProducer": "expiry",
            "cellFactory": "expiry",
            "selector": "kpi-expiry"
           },
           {
            "captionProducer": "columnMerge",
            "cellFactory": {
             "args": {
              "automaticExpansion": true
             },
             "key": "treeCells"
            },
            "selector": "member"
           }
          ],
          "defaultOptions": {},
          "hideAddButton": true,
          "lineNumbers": true,
          "pinnedHeaderSelector": "member",
          "sortingMode": "non-breaking",
          "statisticsShown": true
         }
        },
        "contextValues": {},
        "mdx": "SELECT NON EMPTY {[Measures].[Haircut.VALUE]} ON COLUMNS, NON EMPTY Crossjoin(Hierarchize(DrilldownLevel([Hierarchies].[Country].[ALL].[AllMember])), Hierarchize(DrilldownLevel([Hierarchies].[Sector].[ALL].[AllMember])), Hierarchize(DrilldownLevel([Hierarchies].[Asset_Code].[ALL].[AllMember]))) ON ROWS FROM [Collateral_Management] CELL PROPERTIES VALUE, FORMATTED_VALUE, BACK_COLOR, FORE_COLOR, FONT_FLAGS",
        "ranges": {
         "column": {
          "chunkSize": 50,
          "thresholdPercentage": 0.2
         },
         "row": {
          "chunkSize": 2000,
          "thresholdPercentage": 0.1
         }
        },
        "serverUrl": "",
        "updateMode": "once"
       },
       "containerKey": "pivot-table",
       "showTitleBar": false,
       "style": {}
      }
     }
    }
   },
   "outputs": [],
   "source": [
    "# give a meaningful title to the visualization. This helps to reconcile the objective of the visual and also could be the title of \n",
    "# the widget when visual is published\n",
    "asset_positions_cube.visualize('times-series')"
   ]
  },
  {
   "cell_type": "code",
   "execution_count": null,
   "metadata": {
    "atoti": {
     "state": {
      "name": "explore-dataset-using-pivot-table",
      "type": "container",
      "value": {
       "body": {
        "configuration": {
         "tabular": {
          "addButtonFilter": "numeric",
          "columnsGroups": [
           {
            "captionProducer": "firstColumn",
            "cellFactory": "kpi-status",
            "selector": "kpi-status"
           },
           {
            "captionProducer": "firstColumn",
            "cellFactory": "lookup",
            "selector": "lookup"
           },
           {
            "captionProducer": "expiry",
            "cellFactory": "expiry",
            "selector": "kpi-expiry"
           },
           {
            "captionProducer": "columnMerge",
            "cellFactory": {
             "args": {
              "automaticExpansion": true
             },
             "key": "treeCells"
            },
            "selector": "member"
           }
          ],
          "defaultOptions": {},
          "hideAddButton": true,
          "lineNumbers": true,
          "pinnedHeaderSelector": "member",
          "sortingMode": "non-breaking",
          "statisticsShown": true
         }
        },
        "contextValues": {},
        "mdx": "SELECT NON EMPTY {[Measures].[Quantity.SUM]} ON COLUMNS, NON EMPTY Crossjoin(Hierarchize(DrilldownLevel([Hierarchies].[Account].[ALL].[AllMember])), Hierarchize(DrilldownLevel([Hierarchies].[Sector].[ALL].[AllMember]))) ON ROWS FROM [Collateral_Management] CELL PROPERTIES VALUE, FORMATTED_VALUE, BACK_COLOR, FORE_COLOR, FONT_FLAGS",
        "ranges": {
         "column": {
          "chunkSize": 50,
          "thresholdPercentage": 0.2
         },
         "row": {
          "chunkSize": 2000,
          "thresholdPercentage": 0.1
         }
        },
        "serverUrl": "",
        "updateMode": "once"
       },
       "containerKey": "pivot-table",
       "showTitleBar": false,
       "style": {}
      }
     }
    }
   },
   "outputs": [],
   "source": [
    "asset_positions_cube.visualize('explore-dataset-using-pivot-table')"
   ]
  },
  {
   "cell_type": "markdown",
   "metadata": {},
   "source": [
    "### Cube structure\n",
    "During cube creation, numeric values are automatically created as measures. Non numeric values are automatically translated to levels under hierarchy of the same name. This can be [configured](https://www.atoti.io/documentation/lib/atoti.html#atoti.session.Session.create_cube) differently."
   ]
  },
  {
   "cell_type": "code",
   "execution_count": null,
   "metadata": {},
   "outputs": [],
   "source": [
    "m = asset_positions_cube.measures\n",
    "h = asset_positions_cube.hierarchies\n",
    "lvl = asset_positions_cube.levels"
   ]
  },
  {
   "cell_type": "code",
   "execution_count": null,
   "metadata": {},
   "outputs": [],
   "source": [
    "m"
   ]
  },
  {
   "cell_type": "markdown",
   "metadata": {},
   "source": [
    "### Creating new measures  \n",
    "From the data we have, we can derive the following:   \n",
    "$Market Value = Price \\times Quantity$  \n",
    "$Collateral Value = Market Value \\times (1 - Haircut)$   \n",
    "  \n",
    "The above measures are aggregated over the Account and Asset Code levels in order to compute the Collateral Shortfall at account level:  \n",
    "$Collateral Shortfall = Collateral Value - Cash Out$   \n",
    "Where Cash Out is also aggregated at account level\"            "
   ]
  },
  {
   "cell_type": "code",
   "execution_count": null,
   "metadata": {},
   "outputs": [],
   "source": [
    "m['Market Value'] = tt.agg.sum(m['Price.VALUE'] * m['Quantity.SUM'], scope=tt.scope.origin('Account', 'Asset_Code'))"
   ]
  },
  {
   "cell_type": "code",
   "execution_count": null,
   "metadata": {},
   "outputs": [],
   "source": [
    "m['Collateral Value'] = tt.agg.sum(m['Price.VALUE'] * m['Quantity.SUM'] * (1-m['Haircut.VALUE']), tt.scope.origin('Account', 'Asset_Code'))"
   ]
  },
  {
   "cell_type": "code",
   "execution_count": null,
   "metadata": {},
   "outputs": [],
   "source": [
    "m['Cash Out'] = tt.agg.sum(m['Cash_Out.VALUE'], tt.scope.origin('Account'))"
   ]
  },
  {
   "cell_type": "code",
   "execution_count": null,
   "metadata": {},
   "outputs": [],
   "source": [
    "m['Collateral Shortfall'] = m['Collateral Value'] - m['Cash Out']"
   ]
  },
  {
   "cell_type": "code",
   "execution_count": null,
   "metadata": {},
   "outputs": [],
   "source": [
    "m"
   ]
  },
  {
   "cell_type": "markdown",
   "metadata": {},
   "source": [
    "### Monitoring Collateral Shortfall  \n",
    "We create a pivot table for with the Collateral Shortfall, Market Value, Cash Out and Collateral Value for Accounts.  \n",
    "Negative Collateral Shortfall were highlighted in red. Feel free to click on the `>` to drill-down to other hierarchies such as Sector to account for the shortfall. "
   ]
  },
  {
   "cell_type": "code",
   "execution_count": null,
   "metadata": {
    "atoti": {
     "height": 255,
     "state": {
      "name": "Collateral Shortfall",
      "type": "container",
      "value": {
       "body": {
        "configuration": {
         "tabular": {
          "addButtonFilter": "numeric",
          "columnsGroups": [
           {
            "captionProducer": "firstColumn",
            "cellFactory": "kpi-status",
            "selector": "kpi-status"
           },
           {
            "captionProducer": "firstColumn",
            "cellFactory": "lookup",
            "selector": "lookup"
           },
           {
            "captionProducer": "expiry",
            "cellFactory": "expiry",
            "selector": "kpi-expiry"
           },
           {
            "captionProducer": "columnMerge",
            "cellFactory": {
             "args": {
              "automaticExpansion": true
             },
             "key": "treeCells"
            },
            "selector": "member"
           }
          ],
          "defaultOptions": {},
          "hideAddButton": true,
          "lineNumbers": true,
          "pinnedHeaderSelector": "member",
          "sortingMode": "non-breaking",
          "statisticsShown": true
         }
        },
        "contextValues": {},
        "mdx": "WITH  Member [Measures].[Collateral Shortfall (1)] AS [Measures].[Collateral Shortfall], CAPTION = [Measures].[Collateral Shortfall].MEMBER_CAPTION, BACK_COLOR = CASE WHEN [Measures].[Collateral Shortfall (1)] >= 0 THEN \"transparent\" WHEN [Measures].[Collateral Shortfall (1)] <= 0 THEN \"transparent\" END, FORE_COLOR = CASE WHEN [Measures].[Collateral Shortfall (1)] >= 0 THEN rgb(44, 160, 44) WHEN [Measures].[Collateral Shortfall (1)] <= 0 THEN rgb(255, 0, 0) END, FORMAT_STRING = \"#,###.00\"  SELECT NON EMPTY {[Measures].[Collateral Shortfall (1)], [Measures].[Market Value], [Measures].[Cash Out], [Measures].[Collateral Value]} ON COLUMNS, NON EMPTY Hierarchize(DrilldownLevel([Hierarchies].[Account].[ALL].[AllMember])) ON ROWS FROM [Collateral_Management] CELL PROPERTIES BACK_COLOR, FONT_FLAGS, FORE_COLOR, FORMATTED_VALUE, VALUE",
        "ranges": {
         "column": {
          "chunkSize": 50,
          "thresholdPercentage": 0.2
         },
         "row": {
          "chunkSize": 2000,
          "thresholdPercentage": 0.1
         }
        },
        "serverUrl": "",
        "updateMode": "once"
       },
       "containerKey": "pivot-table",
       "showTitleBar": false,
       "style": {}
      }
     }
    }
   },
   "outputs": [],
   "source": [
    "asset_positions_cube.visualize('Collateral Shortfall')"
   ]
  },
  {
   "cell_type": "markdown",
   "metadata": {},
   "source": [
    "In view of all accounts, using a Gauge chart will show us that we are not yet in shortfall and how far we are from it.   \n",
    "The red marker shows the total Market value, which is the maximum threshold before shortfall will occur."
   ]
  },
  {
   "cell_type": "code",
   "execution_count": null,
   "metadata": {
    "atoti": {
     "state": {
      "name": "total-cash-out",
      "type": "container",
      "value": {
       "body": {
        "configuration": {
         "mapping": {
          "goal": [
           "[Measures].[Collateral Value]"
          ],
          "maximum": [
           "[Measures].[Market Value]"
          ],
          "minimum": [],
          "value": [
           "[Measures].[Cash Out]"
          ]
         },
         "type": "plotly-gauge-chart"
        },
        "query": {
         "mdx": "SELECT NON EMPTY {[Measures].[Cash Out], [Measures].[Collateral Value], [Measures].[Market Value]} ON COLUMNS FROM [Collateral_Management] CELL PROPERTIES VALUE, FORMATTED_VALUE, BACK_COLOR, FORE_COLOR, FONT_FLAGS",
         "serverUrl": "",
         "updateMode": "once"
        }
       },
       "containerKey": "chart",
       "showTitleBar": false,
       "style": {}
      }
     }
    }
   },
   "outputs": [],
   "source": [
    "asset_positions_cube.visualize('total-cash-out')"
   ]
  },
  {
   "cell_type": "markdown",
   "metadata": {},
   "source": [
    "### Total Cash out Bank wide  \n",
    "  \n",
    "We can use a Tree map to visualize the asset concentration. A well diversified portfolio will help to reduce the collateral risks."
   ]
  },
  {
   "cell_type": "code",
   "execution_count": null,
   "metadata": {
    "atoti": {
     "state": {
      "name": "Asset_Concentration",
      "type": "container",
      "value": {
       "body": {
        "configuration": {
         "mapping": {
          "horizontal": [],
          "splitBy": [],
          "values": [
           "[Measures].[Market Value]"
          ],
          "vertical": [],
          "xAxis": [
           "[Hierarchies].[Sector].[Sector]",
           "[Hierarchies].[Country].[Country]"
          ]
         },
         "switchedTo": "plotly-tree-map",
         "type": "plotly-line-chart"
        },
        "query": {
         "mdx": "SELECT NON EMPTY Crossjoin([Hierarchies].[Sector].[Sector].Members, [Hierarchies].[Country].[Country].Members) ON ROWS, NON EMPTY [Measures].[Market Value] ON COLUMNS FROM [Collateral_Management] CELL PROPERTIES VALUE, FORMATTED_VALUE, BACK_COLOR, FORE_COLOR, FONT_FLAGS",
         "serverUrl": "",
         "updateMode": "once"
        }
       },
       "containerKey": "chart",
       "showTitleBar": false,
       "style": {}
      }
     }
    }
   },
   "outputs": [],
   "source": [
    "asset_positions_cube.visualize('Asset_Concentration')"
   ]
  },
  {
   "cell_type": "markdown",
   "metadata": {},
   "source": [
    "## Atoti UI and Dashboard creation\n",
    "Until now, we have created a few visualizations. We can right-click on the visuals to publish them as widgets.\n",
    "These widgets can then be used to build a dashboard.  \n",
    "\n",
    "<img src=\"http://data.atoti.io/notebooks/collateral-shortfall-monitoring/collateral_dashboard.gif\" alt=\"collateral_dashboard\" style=\"zoom:40%;\" />"
   ]
  },
  {
   "cell_type": "code",
   "execution_count": null,
   "metadata": {},
   "outputs": [],
   "source": [
    "from IPython.display import Markdown as md \n",
    "md(\"[\" + session.url + \"/#/dashboard/d13](\" + session.url + \"/#/dashboard/d13)\")"
   ]
  },
  {
   "cell_type": "markdown",
   "metadata": {},
   "source": [
    "Click on the URL above to view the dashboard that was prepared. We can use the quick filter to select an account for viewing.  \n",
    "You can also do a right-click drillthrough to investigate the underlying data.  \n",
    "  \n",
    "If you wish to play with the UI and explore the data by yourself, [you can have a look at our UI documentation here](https://www.activeviam.com/activeui/documentation/index.html)."
   ]
  },
  {
   "cell_type": "markdown",
   "metadata": {},
   "source": [
    "## Simulations\n",
    "Now that we have basic monitoring on Collateral Shortfall, we can do some simulations in the data cube without having to duplicate or reload data.  \n",
    "  \n",
    "### Setup Haircut Simulation\n",
    "We are going to perform a Haircut simulation where there is a consumption slowdown in the Consumer Cyclical sector in Italy and France.  \n",
    "In this use case, we will replace the value of haircut for the mentioned sector and country to see its downstream impact on the Collaterals."
   ]
  },
  {
   "cell_type": "code",
   "execution_count": null,
   "metadata": {},
   "outputs": [],
   "source": [
    "# we have to do a setup_simulation, where scenarios added to this simulation will follow the same pattern of simulation (E.g. same levels and method on measure, in this case, replace Haircut) \n",
    "# we set the base_scenario_name to \"Current Market Condition\" - this is the original set of data currently in the cube \n",
    "haircut_simulation = asset_positions_cube.setup_simulation(\"Haircut Simulation\", per=[lvl[\"Sector\"],lvl[\"Country\"]], replace=[m[\"Haircut.VALUE\"]], base_scenario_name = \"Current Market Condition\")"
   ]
  },
  {
   "cell_type": "code",
   "execution_count": null,
   "metadata": {},
   "outputs": [],
   "source": [
    "# create a new scenario with a meaningful name\n",
    "consumption_slowdown = haircut_simulation.scenarios['Consumption Slowdown']"
   ]
  },
  {
   "cell_type": "code",
   "execution_count": null,
   "metadata": {},
   "outputs": [],
   "source": [
    "# parameters in the sequence of levels defined in the \"per\" during setup_simulation \n",
    "consumption_slowdown += (\"Consumer Cyclical\", \"Italy\", 0.20, tt.simulation.Priority.CRITICAL) \n",
    "consumption_slowdown += (\"Consumer Cyclical\", \"France\", 0.15, tt.simulation.Priority.CRITICAL)"
   ]
  },
  {
   "cell_type": "markdown",
   "metadata": {},
   "source": [
    "#### Analysing the impact of Consumption Slowdown  \n",
    "  \n",
    "We create a chart showing Collateral Shortfall against Account, split by *Haircut Simulation* - the Measure Simulation we just created.  \n",
    "We will be able to see that with a slowdown in Italy ad France, *Gates & Melinda* will go into shortfall and the shortfall amount for *Buffet* increased dramatically.   \n",
    "The Consumer Cyclical  in Italy and France does not impact *Daniel EK*, *Musk* and *Niel*."
   ]
  },
  {
   "cell_type": "code",
   "execution_count": null,
   "metadata": {
    "atoti": {
     "state": {
      "name": "Consumption Slowdown",
      "type": "container",
      "value": {
       "body": {
        "configuration": {
         "mapping": {
          "horizontal": [],
          "splitBy": [
           "[Measure Simulations].[Haircut Simulation].[Haircut Simulation]"
          ],
          "values": [
           "[Measures].[Collateral Shortfall]"
          ],
          "vertical": [],
          "xAxis": [
           "[Hierarchies].[Account].[Account]"
          ]
         },
         "type": "plotly-clustered-column-chart"
        },
        "query": {
         "mdx": "SELECT NON EMPTY Crossjoin([Hierarchies].[Account].[Account].Members, [Measure Simulations].[Haircut Simulation].[Haircut Simulation].Members) ON ROWS, NON EMPTY [Measures].[Collateral Shortfall] ON COLUMNS FROM [Collateral_Management] CELL PROPERTIES VALUE, FORMATTED_VALUE, BACK_COLOR, FORE_COLOR, FONT_FLAGS",
         "serverUrl": "",
         "updateMode": "once"
        }
       },
       "containerKey": "chart",
       "showTitleBar": false,
       "style": {}
      }
     }
    }
   },
   "outputs": [],
   "source": [
    "asset_positions_cube.visualize('Consumption Slowdown')"
   ]
  },
  {
   "cell_type": "markdown",
   "metadata": {},
   "source": [
    "With a pivot table, we can easily see the amount of collateral generated by the *Consumer Cyclical* sector in Italy and France."
   ]
  },
  {
   "cell_type": "code",
   "execution_count": null,
   "metadata": {
    "atoti": {
     "state": {
      "name": "Consumption Slowdown by Sector",
      "type": "container",
      "value": {
       "body": {
        "configuration": {
         "tabular": {
          "addButtonFilter": "numeric",
          "columnsGroups": [
           {
            "captionProducer": "firstColumn",
            "cellFactory": "kpi-status",
            "selector": "kpi-status"
           },
           {
            "captionProducer": "firstColumn",
            "cellFactory": "lookup",
            "selector": "lookup"
           },
           {
            "captionProducer": "expiry",
            "cellFactory": "expiry",
            "selector": "kpi-expiry"
           },
           {
            "captionProducer": "columnMerge",
            "cellFactory": {
             "args": {
              "automaticExpansion": true
             },
             "key": "treeCells"
            },
            "selector": "member"
           }
          ],
          "defaultOptions": {},
          "hideAddButton": true,
          "lineNumbers": true,
          "pinnedHeaderSelector": "member",
          "sortingMode": "non-breaking",
          "statisticsShown": true
         }
        },
        "contextValues": {},
        "mdx": "WITH  Member [Measure Simulations].[Haircut Simulation].[Current Market Condition - Consumption Slowdown] AS [Measure Simulations].[Haircut Simulation].[Current Market Condition] - [Measure Simulations].[Haircut Simulation].[Consumption Slowdown], CAPTION = \"Current Market Condition - Consumption Slowdown\"  SELECT NON EMPTY Crossjoin([Measures].[Collateral Shortfall], Union([Measure Simulations].[Haircut Simulation].[Haircut Simulation].Members, [Measure Simulations].[Haircut Simulation].[Current Market Condition - Consumption Slowdown])) ON COLUMNS, NON EMPTY Crossjoin([Hierarchies].[Country].[Country].Members, [Hierarchies].[Sector].[Sector].Members) ON ROWS FROM [Collateral_Management] CELL PROPERTIES BACK_COLOR, FONT_FLAGS, FORE_COLOR, FORMATTED_VALUE, VALUE",
        "ranges": {
         "column": {
          "chunkSize": 50,
          "thresholdPercentage": 0.2
         },
         "row": {
          "chunkSize": 2000,
          "thresholdPercentage": 0.1
         }
        },
        "serverUrl": "",
        "updateMode": "once"
       },
       "containerKey": "pivot-table",
       "showTitleBar": false,
       "style": {}
      }
     }
    }
   },
   "outputs": [],
   "source": [
    "asset_positions_cube.visualize('Consumption Slowdown by Sector')"
   ]
  },
  {
   "cell_type": "markdown",
   "metadata": {},
   "source": [
    "### Market Value Simulation\n",
    "We are going to create a new set of simulation where technology sector goes into a slump and price value for the sector dipped by 30%.  \n",
    "We see that while the levels we will be simulating on is the same as the previous simulation, now instead of replacing the Haircut value, we will multiply the Price value by 0.7.  "
   ]
  },
  {
   "cell_type": "code",
   "execution_count": null,
   "metadata": {},
   "outputs": [],
   "source": [
    "market_value_simulation = asset_positions_cube.setup_simulation(\"Market Value Simulation\", per=[lvl[\"Sector\"],lvl[\"Country\"]], multiply=[m[\"Price.VALUE\"]], base_scenario_name = \"Current Market Condition\")"
   ]
  },
  {
   "cell_type": "code",
   "execution_count": null,
   "metadata": {},
   "outputs": [],
   "source": [
    "tech_bubble = market_value_simulation.scenarios[\"Tech Bubble ?\"]"
   ]
  },
  {
   "cell_type": "code",
   "execution_count": null,
   "metadata": {},
   "outputs": [],
   "source": [
    "# we are going to simulate a slump technology in all countries, therefore we pass the value `*` for country level\n",
    "tech_bubble += (\"Technology\", \"*\", 0.70, tt.simulation.Priority.CRITICAL)"
   ]
  },
  {
   "cell_type": "markdown",
   "metadata": {},
   "source": [
    "#### Analysing the impact of Technology slump  \n",
    "  \n",
    "As before, we plot a chart of Collateral Shortfall against Account. However, we are going to do a split by the *Market Simulation* that we just created.  \n",
    "We will see the technology giant such as *Gates & Melinda* suffering greatly as their shortfall goes beyond 1.5 million.  \n",
    "Likewise Buffet with 1/6 of assets in Technology also suffered."
   ]
  },
  {
   "cell_type": "code",
   "execution_count": null,
   "metadata": {
    "atoti": {
     "state": {
      "name": "Tech Bubble ?",
      "type": "container",
      "value": {
       "body": {
        "configuration": {
         "mapping": {
          "horizontal": [],
          "splitBy": [
           "[Measure Simulations].[Market Value Simulation].[Market Value Simulation]"
          ],
          "values": [
           "[Measures].[Collateral Shortfall]"
          ],
          "vertical": [],
          "yAxis": [
           "[Hierarchies].[Account].[Account]"
          ]
         },
         "type": "plotly-clustered-bar-chart"
        },
        "query": {
         "mdx": "SELECT NON EMPTY [Measures].[Collateral Shortfall] ON COLUMNS, NON EMPTY Crossjoin([Hierarchies].[Account].[Account].Members, [Measure Simulations].[Market Value Simulation].[Market Value Simulation].Members) ON ROWS FROM [Collateral_Management] CELL PROPERTIES VALUE, FORMATTED_VALUE, BACK_COLOR, FORE_COLOR, FONT_FLAGS",
         "serverUrl": "",
         "updateMode": "once"
        }
       },
       "containerKey": "chart",
       "showTitleBar": false,
       "style": {}
      }
     }
    }
   },
   "outputs": [],
   "source": [
    "asset_positions_cube.visualize(\"Tech Bubble ?\")"
   ]
  },
  {
   "cell_type": "markdown",
   "metadata": {},
   "source": [
    "As we drill-in further to simulation for *Buffet* vs *Gates*, we see that *Buffet* has greater shortfall as they have a higher Cash Out value for the Technology sector than *Gates* while their market value was the same. "
   ]
  },
  {
   "cell_type": "code",
   "execution_count": null,
   "metadata": {
    "atoti": {
     "height": 337,
     "state": {
      "name": "Market Simulation - Gates vs Buffet",
      "type": "container",
      "value": {
       "body": {
        "configuration": {
         "tabular": {
          "addButtonFilter": "numeric",
          "columnsGroups": [
           {
            "captionProducer": "firstColumn",
            "cellFactory": "kpi-status",
            "selector": "kpi-status"
           },
           {
            "captionProducer": "firstColumn",
            "cellFactory": "lookup",
            "selector": "lookup"
           },
           {
            "captionProducer": "expiry",
            "cellFactory": "expiry",
            "selector": "kpi-expiry"
           },
           {
            "captionProducer": "columnMerge",
            "cellFactory": {
             "args": {
              "automaticExpansion": true
             },
             "key": "treeCells"
            },
            "selector": "member"
           }
          ],
          "defaultOptions": {},
          "hideAddButton": true,
          "lineNumbers": true,
          "pinnedHeaderSelector": "member",
          "sortingMode": "non-breaking",
          "statisticsShown": true
         }
        },
        "contextValues": {},
        "mdx": "WITH  Member [Measures].[Collateral Shortfall (1)] AS [Measures].[Collateral Shortfall], CAPTION = [Measures].[Collateral Shortfall].MEMBER_CAPTION, BACK_COLOR = CASE WHEN [Measures].[Collateral Shortfall (1)] >= 0 THEN \"transparent\" WHEN [Measures].[Collateral Shortfall (1)] <= 0 THEN \"transparent\" END, FORE_COLOR = CASE WHEN [Measures].[Collateral Shortfall (1)] >= 0 THEN rgb(44, 160, 44) WHEN [Measures].[Collateral Shortfall (1)] <= 0 THEN rgb(255, 0, 0) END, FORMAT_STRING = \"#,###.00\"  SELECT NON EMPTY {[Measures].[Collateral Shortfall (1)], [Measures].[Market Value], [Measures].[Cash Out], [Measures].[Collateral Value]} ON COLUMNS, NON EMPTY Hierarchize(Union(Crossjoin(DrilldownLevel([Hierarchies].[Account].[ALL].[AllMember]), [Hierarchies].[Sector].DefaultMember), Crossjoin([Hierarchies].[Account].[ALL].[AllMember].[Buffet], [Hierarchies].[Sector].[Sector].Members), Crossjoin([Hierarchies].[Account].[ALL].[AllMember].[Gates & Melinda], Descendants({[Hierarchies].[Sector].[ALL].[AllMember]}, [Hierarchies].[Sector].[Sector])))) ON ROWS FROM (SELECT {[Hierarchies].[Account].[ALL].[AllMember].[Gates & Melinda], [Hierarchies].[Account].[ALL].[AllMember].[Buffet]} ON COLUMNS FROM [Collateral_Management]) WHERE [Measure Simulations].[Market Value Simulation].[Market Value Simulation].[Tech Bubble ?] CELL PROPERTIES BACK_COLOR, FONT_FLAGS, FORE_COLOR, FORMATTED_VALUE, VALUE",
        "ranges": {
         "column": {
          "chunkSize": 50,
          "thresholdPercentage": 0.2
         },
         "row": {
          "chunkSize": 2000,
          "thresholdPercentage": 0.1
         }
        },
        "serverUrl": "",
        "updateMode": "once"
       },
       "containerKey": "pivot-table",
       "showTitleBar": false,
       "style": {}
      }
     }
    }
   },
   "outputs": [],
   "source": [
    "asset_positions_cube.visualize(\"Market Simulation - Gates vs Buffet\")"
   ]
  },
  {
   "cell_type": "markdown",
   "metadata": {},
   "source": [
    "### Setup Cash out Simulation\n",
    "\n",
    "The previous simulations we have done is called Measure simulations. We will now create a different kind of simulation call Source simulation. \n",
    "Source simulation as the name suggest, we manipulate the source data before uploading into the store.  \n",
    "In this case, we take the loans_positions_df that was loaded into the cube previously and modify the Cash_Out value.\n",
    "\n",
    "This is a Cash out simulation where cash out value increases by 10%."
   ]
  },
  {
   "cell_type": "code",
   "execution_count": null,
   "metadata": {},
   "outputs": [],
   "source": [
    "loans_positions_df[\"Cash_Out\"] = loans_positions_df[\"Cash_Out\"].apply(lambda x: (1+0.1)*x)"
   ]
  },
  {
   "cell_type": "code",
   "execution_count": null,
   "metadata": {},
   "outputs": [],
   "source": [
    "loans_positions_df"
   ]
  },
  {
   "cell_type": "code",
   "execution_count": null,
   "metadata": {},
   "outputs": [],
   "source": [
    "# In Source Simulation, we do not perform simulation_setup. We just load it to the store as scenarios.\n",
    "predictive_simulation = loans_positions_store.scenarios[\"Cash out Increase\"].load_pandas(loans_positions_df, truncate=True)"
   ]
  },
  {
   "cell_type": "markdown",
   "metadata": {},
   "source": [
    "#### Analysing the impact of increase in Cash Out\n",
    "\n",
    "While cash out increases but collateral value remains the same, we see that the shortfall situation is worsen."
   ]
  },
  {
   "cell_type": "code",
   "execution_count": null,
   "metadata": {
    "atoti": {
     "state": {
      "name": "Cash out Increase",
      "type": "container",
      "value": {
       "body": {
        "configuration": {
         "mapping": {
          "horizontal": [],
          "splitBy": [
           "[Epoch].[Epoch].[Branch]"
          ],
          "values": [
           "[Measures].[Collateral Shortfall]"
          ],
          "vertical": [],
          "xAxis": [
           "[Hierarchies].[Account].[Account]"
          ]
         },
         "type": "plotly-clustered-column-chart"
        },
        "query": {
         "mdx": "SELECT NON EMPTY Crossjoin([Hierarchies].[Account].[Account].Members, [Epoch].[Epoch].[Branch].Members) ON ROWS, NON EMPTY [Measures].[Collateral Shortfall] ON COLUMNS FROM [Collateral_Management] CELL PROPERTIES VALUE, FORMATTED_VALUE, BACK_COLOR, FORE_COLOR, FONT_FLAGS",
         "serverUrl": "",
         "updateMode": "once"
        }
       },
       "containerKey": "chart",
       "showTitleBar": false,
       "style": {}
      }
     }
    }
   },
   "outputs": [],
   "source": [
    "asset_positions_cube.visualize(\"Cash out Increase\")"
   ]
  },
  {
   "cell_type": "markdown",
   "metadata": {},
   "source": [
    "#### Activate Source Simulation\n",
    "\n",
    "In Atoti UI, we have 2 kinds of widgets for simulations:  \n",
    "\n",
    "- Measure Simulations\n",
    "  - enable user to update, create new or duplicate simulations\n",
    "  - available upon setup_simulation\n",
    "- Source Simulations\n",
    "  - enable users to upload their modified source files via UI as simulation\n",
    "  - have to explicitly enable to be accessible from UI\n",
    "  \n",
    "Next we will enable source simulation."
   ]
  },
  {
   "cell_type": "code",
   "execution_count": null,
   "metadata": {},
   "outputs": [],
   "source": [
    "loans_positions_store.source_simulation_enabled = True"
   ]
  },
  {
   "cell_type": "markdown",
   "metadata": {},
   "source": [
    "Once you have enabled the source simulation, you can proceed to integrate the Source Simulations widget in your dashboard.  \n",
    "<img src=\"http://data.atoti.io/notebooks/collateral-shortfall-monitoring/source_simulation.gif\" alt=\"source_simulation\" style=\"zoom:40%;\" />"
   ]
  },
  {
   "cell_type": "code",
   "execution_count": null,
   "metadata": {},
   "outputs": [],
   "source": [
    "# this command gives the URL to the Atoti UI for the session\n",
    "session.url"
   ]
  }
 ],
 "metadata": {
  "kernelspec": {
   "display_name": "Python 3",
   "language": "python",
   "name": "python3"
  },
  "language_info": {
   "codemirror_mode": {
    "name": "ipython",
    "version": 3
   },
   "file_extension": ".py",
   "mimetype": "text/x-python",
   "name": "python",
   "nbconvert_exporter": "python",
   "pygments_lexer": "ipython3",
   "version": "3.7.6"
  }
 },
 "nbformat": 4,
 "nbformat_minor": 4
}
