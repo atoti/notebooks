{
 "cells": [
  {
   "cell_type": "markdown",
   "metadata": {},
   "source": [
    "## PnL Explain :  Estimating PnL using sensitivities and Market Data\n",
    "\n",
    "### Introduction\n",
    "\n",
    "The PnL explain technique seeks to estimate the daily PnL from the change in the underlying risk factors.\n",
    "In this case the risk factors are the yield curve rates for each tenor with a yield curve.\n",
    "\n",
    "Usually a portfolio risk manager will monitor the risk factors that impact his portfolio, instead of monitoring all the positions booked in his portfolio. To assess what will be the value of his portfolio, a portfolio risk manager is interested in performing what if analysis based on a scenario of the risk factor values.\n",
    "\n",
    "In this notebook, we perform a simplified PnL Explained by using Delta(Δ) to represent our sensitivity instead of the full Greek. We will utilize the various features of Atoti libraries to:\n",
    "\n",
    "- load data into a multi-dimensional cube\n",
    "\n",
    "* Explore the Data using the embedded visualization or Atoti UI\n",
    "* Calculate Estimated PnL using sensitivities and Market Data\n",
    "* Run multiple scenarios of the Yield Curve Stress Test"
   ]
  },
  {
   "cell_type": "code",
   "execution_count": null,
   "metadata": {},
   "outputs": [],
   "source": [
    "import atoti as tt\n",
    "import wget"
   ]
  },
  {
   "cell_type": "code",
   "execution_count": null,
   "metadata": {},
   "outputs": [],
   "source": [
    "current_version = tt.__version__\n",
    "used_version = '0.3.0.20200325172102'\n",
    "\n",
    "# In the event a newer version of Atoti is used, please update the necessary functions according to the changelog\n",
    "if used_version != current_version:\n",
    "    raise ValueError('Version mismatch')"
   ]
  },
  {
   "cell_type": "code",
   "execution_count": null,
   "metadata": {},
   "outputs": [],
   "source": [
    "#tell atoti to load the database containing the UI dashboards\n",
    "config = tt.config.create_config(metadata_db=\"./metadata.db\")\n",
    "\n",
    "# you can pass in the parameter sampling_mode=tt.sampling.FULL to change the default sampling mode\n",
    "# a session has to be created for atoti\n",
    "session = tt.create_session(config=config, sampling_mode=tt.sampling.FULL)"
   ]
  },
  {
   "cell_type": "markdown",
   "metadata": {},
   "source": [
    "## 1.1 Loading Data and creating ActivePivot multidimensional environment\n",
    "### Creating Atoti DataStore"
   ]
  },
  {
   "cell_type": "code",
   "execution_count": null,
   "metadata": {},
   "outputs": [],
   "source": [
    "# downloading data files for this notebook - skip if you already have\n",
    "wget.download('http://data.atoti.io/notebooks/pnl-explained/position_sensitivities.csv')\n",
    "wget.download('http://data.atoti.io/notebooks/pnl-explained/position_data.csv')\n",
    "wget.download('http://data.atoti.io/notebooks/pnl-explained/trading_desk.csv')\n",
    "wget.download('http://data.atoti.io/notebooks/pnl-explained/market_data.csv')"
   ]
  },
  {
   "cell_type": "markdown",
   "metadata": {},
   "source": [
    "There are many ways Atoti can [consume data](https://www.atoti.io/documentation/tutorial/08-data-sources.html). In this notebook, we will be using read_csv to load data into the datastores."
   ]
  },
  {
   "cell_type": "markdown",
   "metadata": {},
   "source": [
    "### Position Sensitivities"
   ]
  },
  {
   "cell_type": "code",
   "execution_count": null,
   "metadata": {},
   "outputs": [],
   "source": [
    "position_sensitivity_store = session.read_csv('position_sensitivities.csv', \n",
    "                                            keys=['book_id', 'instrument_code', 'currency', 'curve', 'tenor'], \n",
    "                                            store_name=\"Position Sensitivities Store\")"
   ]
  },
  {
   "cell_type": "code",
   "execution_count": null,
   "metadata": {},
   "outputs": [],
   "source": [
    "# you can use head(n) to view the first n rows of the store.\n",
    "# likewise, you can use position_sensitivity_store.columns to view the columns available in the store\n",
    "# lastly, you can use position_sensitivity_store.shape to view the number of rows and columns loaded into the store\n",
    "position_sensitivity_store.head(5)"
   ]
  },
  {
   "cell_type": "markdown",
   "metadata": {},
   "source": [
    "### Position Data"
   ]
  },
  {
   "cell_type": "code",
   "execution_count": null,
   "metadata": {},
   "outputs": [],
   "source": [
    "position_store = session.read_csv('position_data.csv', \n",
    "                                            keys=['book_id', 'instrument_code'], \n",
    "                                            store_name=\"Position Store\")"
   ]
  },
  {
   "cell_type": "code",
   "execution_count": null,
   "metadata": {},
   "outputs": [],
   "source": [
    "position_store.head(5)"
   ]
  },
  {
   "cell_type": "markdown",
   "metadata": {},
   "source": [
    "### Portfolio structure"
   ]
  },
  {
   "cell_type": "code",
   "execution_count": null,
   "metadata": {},
   "outputs": [],
   "source": [
    "trading_desk_store = session.read_csv('trading_desk.csv', keys=['book_id'], store_name=\"Trading Desk\")"
   ]
  },
  {
   "cell_type": "code",
   "execution_count": null,
   "metadata": {},
   "outputs": [],
   "source": [
    "trading_desk_store.head(5)"
   ]
  },
  {
   "cell_type": "markdown",
   "metadata": {},
   "source": [
    "### Market data"
   ]
  },
  {
   "cell_type": "code",
   "execution_count": null,
   "metadata": {},
   "outputs": [],
   "source": [
    "market_data_store = session.read_csv('market_data.csv', keys=['currency', 'curve','tenor'], store_name=\"Market Data\")"
   ]
  },
  {
   "cell_type": "code",
   "execution_count": null,
   "metadata": {},
   "outputs": [],
   "source": [
    "market_data_store.head()"
   ]
  },
  {
   "cell_type": "markdown",
   "metadata": {},
   "source": [
    "### Creating references between stores  \n",
    "\n",
    "We will proceed to set up references between the stores that we just created as follows:\n",
    "<img src=\"http://data.atoti.io/notebooks/pnl-explained/datastore_relations.png\" alt=\"datastore relationship\" style=\"zoom:40%;\" />\n",
    "  \n",
    "We can see that all the stores are joined to *Position Sensitivities Store*, this is what we call the base store.  \n",
    "For a record to be reachable in the cube, it must exists in the base store.  \n",
    "We will perform the join from position_sensitivity_store."
   ]
  },
  {
   "cell_type": "code",
   "execution_count": null,
   "metadata": {},
   "outputs": [],
   "source": [
    "position_sensitivity_store.join(trading_desk_store, mapping={'book_id' : 'book_id'})"
   ]
  },
  {
   "cell_type": "code",
   "execution_count": null,
   "metadata": {},
   "outputs": [],
   "source": [
    "position_sensitivity_store.join(position_store, mapping={'book_id' : 'book_id', 'instrument_code' : 'instrument_code'})"
   ]
  },
  {
   "cell_type": "code",
   "execution_count": null,
   "metadata": {},
   "outputs": [],
   "source": [
    "position_sensitivity_store.join(market_data_store, mapping={'currency' : 'currency', 'curve':'curve', 'tenor':'tenor'})"
   ]
  },
  {
   "cell_type": "code",
   "execution_count": null,
   "metadata": {},
   "outputs": [],
   "source": [
    "# using joined_columns=True allows you to preview the joins created\n",
    "position_sensitivity_store.head(joined_columns=True)"
   ]
  },
  {
   "cell_type": "markdown",
   "metadata": {},
   "source": [
    "### Creating cube  \n",
    "We create the cube using the base store *position_sensitivity_store*.  \n",
    "Note that we haven't pass in any [mode](https://www.atoti.io/documentation/lib/atoti.html#atoti.session.Session.create_cube) in create_cube(). This meant that a hierarchy will be automatically created for each non-numeric column and measure will be automatically created for each numeric column.  "
   ]
  },
  {
   "cell_type": "code",
   "execution_count": null,
   "metadata": {},
   "outputs": [],
   "source": [
    "position_sensitivity_cube = session.create_cube(position_sensitivity_store, \"Position_Sensitivities\")"
   ]
  },
  {
   "cell_type": "markdown",
   "metadata": {},
   "source": [
    "### Explore the Data Set as a Cube\n",
    "\n",
    "We have the option to visualize the cube in chart, feature-value, pivot-table or tabular.  \n",
    "Let's look at the sensitivity across currency for each asset class."
   ]
  },
  {
   "cell_type": "code",
   "execution_count": null,
   "metadata": {
    "activeviam": {
     "state": {
      "name": "",
      "type": "container",
      "value": {
       "body": {
        "configuration": {
         "mapping": {
          "horizontal": [],
          "splitBy": [
           "[Hierarchies].[business_unit].[business_unit]"
          ],
          "values": [
           "[Measures].[sensi.SUM]"
          ],
          "vertical": [],
          "xAxis": [
           "[Hierarchies].[currency].[currency]"
          ]
         },
         "type": "plotly-clustered-column-chart"
        },
        "query": {
         "mdx": "SELECT NON EMPTY Crossjoin([Hierarchies].[currency].[currency].Members, [Hierarchies].[business_unit].[business_unit].Members) ON ROWS, NON EMPTY [Measures].[sensi.SUM] ON COLUMNS FROM (SELECT TopCount(Filter([Hierarchies].[book].Levels(1).Members, NOT IsEmpty([Measures].[sensi.SUM])), 5, [Measures].[sensi.SUM]) ON COLUMNS FROM [Position_Sensitivities]) CELL PROPERTIES VALUE, FORMATTED_VALUE, BACK_COLOR, FORE_COLOR, FONT_FLAGS",
         "serverUrl": "",
         "updateMode": "once"
        }
       },
       "containerKey": "chart",
       "showTitleBar": false,
       "style": {}
      }
     }
    },
    "atoti": {
     "state": {
      "name": "",
      "type": "container",
      "value": {
       "body": {
        "configuration": {
         "mapping": {
          "horizontal": [],
          "splitBy": [
           "[Hierarchies].[business_unit].[business_unit]"
          ],
          "values": [
           "[Measures].[sensi.SUM]"
          ],
          "vertical": [],
          "xAxis": [
           "[Hierarchies].[currency].[currency]"
          ]
         },
         "switchedTo": "plotly-clustered-bar-chart",
         "type": "plotly-line-chart"
        },
        "query": {
         "mdx": "SELECT NON EMPTY Crossjoin([Hierarchies].[currency].[currency].Members, [Hierarchies].[business_unit].[business_unit].Members) ON ROWS, NON EMPTY [Measures].[sensi.SUM] ON COLUMNS FROM [Position_Sensitivities] CELL PROPERTIES VALUE, FORMATTED_VALUE, BACK_COLOR, FORE_COLOR, FONT_FLAGS",
         "serverUrl": "",
         "updateMode": "once"
        }
       },
       "containerKey": "chart",
       "showTitleBar": false,
       "style": {}
      }
     }
    }
   },
   "outputs": [],
   "source": [
    "position_sensitivity_cube.visualize()"
   ]
  },
  {
   "cell_type": "markdown",
   "metadata": {},
   "source": [
    "### Adding business logic calculation  \n",
    "  \n",
    "Let's assign a variable to the attributes of the cube, so that we can:  \n",
    "* create measures\n",
    "* create hierarchies "
   ]
  },
  {
   "cell_type": "code",
   "execution_count": null,
   "metadata": {},
   "outputs": [],
   "source": [
    "m = position_sensitivity_cube.measures\n",
    "h = position_sensitivity_cube.hierarchies\n",
    "lvl = position_sensitivity_cube.levels"
   ]
  },
  {
   "cell_type": "code",
   "execution_count": null,
   "metadata": {},
   "outputs": [],
   "source": [
    "# inspect what hierarchies have been automatically generated during cube creation\n",
    "h"
   ]
  },
  {
   "cell_type": "code",
   "execution_count": null,
   "metadata": {},
   "outputs": [],
   "source": [
    "# inspect what measures have been automatically generated during cube creation\n",
    "m"
   ]
  },
  {
   "cell_type": "markdown",
   "metadata": {},
   "source": [
    "#### Creating Measure\n",
    "\n",
    "From the *Market Data* store, we have the *start of day* and *end of day* value which we used to calculated the change in yields. \n",
    "We derive our Delta by applying `sensi.SUM` to the notional. We, then apply Delta to our change in yield to get the impact of prices:\n",
    "  \n",
    "$Theoretical Pnl = (Delta) \\times (Yield Change)$  \n",
    "\n",
    "We will aggregate the *Theoretical PnL* over the levels listed in the scope below as we will be exploring the measure over these levels."
   ]
  },
  {
   "cell_type": "code",
   "execution_count": null,
   "metadata": {},
   "outputs": [],
   "source": [
    "m['Theoretical PnL'] = tt.agg.sum(m['sensi.SUM'] * (m['last.VALUE']-m['start_of_day.VALUE']) * m['notional.SUM'], scope=tt.scope.origin('currency', 'curve', 'tenor', 'book_id', 'instrument_code'))"
   ]
  },
  {
   "cell_type": "markdown",
   "metadata": {},
   "source": [
    "### Adding new multi-level hierarchy for portfolio structure  \n",
    "\n",
    "Based on the data that are of interest to the Buy-Side and Sell-Side, we are going to see how we can structure hierarchies to facilitate the navigation of data in a cube.  "
   ]
  },
  {
   "cell_type": "markdown",
   "metadata": {},
   "source": [
    "#### Asset Mangement : Buy-Side  \n",
    "\n",
    "*Buy-Side* purchases stocks, securities and other financial products based on the needs and strategy of a portfolio's need.  \n",
    "It would make data navigation more intuitive by creating an *Investment Portfolio Hierarchy* that has Asset Class, Sub Asset Class, Fund and Portfolio as levels.  \n",
    "We would be able to have a global view over the Asset Class level. If we need more granular information, we can easily drill-down to the Sub Asset class, Fund and all the way down to the portfolio holding the Asset."
   ]
  },
  {
   "cell_type": "code",
   "execution_count": null,
   "metadata": {},
   "outputs": [],
   "source": [
    "h[\"Investment Portfolio Hierarchy\"] = {\n",
    "    'Asset Class':position_sensitivity_cube.levels['asset_class'],\n",
    "    'Sub Asset Class':position_sensitivity_cube.levels['sub_asset_class'],\n",
    "    'Fund' : position_sensitivity_cube.levels['fund'], \n",
    "    'Portfolio':position_sensitivity_cube.levels['portfolio']\n",
    "}"
   ]
  },
  {
   "cell_type": "markdown",
   "metadata": {},
   "source": [
    "#### Investment Banks : Sell-Side  \n",
    "\n",
    "*Sell-Side* help companies to raise dept and equity capital and then sell those securities to the *Buy-Side*.  \\\n",
    "*Sell-Side* would then be interested in having a global view over the *Business Unit* such as Rates & Credit, Forex, Equity etc.    \n",
    "They could then drill-down to the *Sub Business Unit* to see its performance, the *Trading Desk* and all the way to the *Book* level."
   ]
  },
  {
   "cell_type": "code",
   "execution_count": null,
   "metadata": {},
   "outputs": [],
   "source": [
    "h[\"Trading Book Hierarchy\"] = {\n",
    "    'Business Unit':lvl['business_unit'],\n",
    "    'Sub Business Unit':lvl['sub_business_unit'],\n",
    "    'Trading Desk' : lvl['trading_desk'], \n",
    "    'Book':lvl['book']\n",
    "}"
   ]
  },
  {
   "cell_type": "markdown",
   "metadata": {},
   "source": [
    "### Explore the Theoretical PnL by Investment Portfolio Hierarchy\n",
    "\n",
    "We shall explore the Theoretical PnL from the Buy-Side perspective.  \n",
    "  \n",
    "Let's visualize the data in a chart to see the spread of the *Theoretical PnL* across the funds for each *Asset Class*."
   ]
  },
  {
   "cell_type": "code",
   "execution_count": null,
   "metadata": {
    "activeviam": {
     "state": {
      "name": "",
      "type": "container",
      "value": {
       "body": {
        "configuration": {
         "mapping": {
          "stackBy": [
           "[Hierarchies].[Investment Portfolio Hierarchy].[Fund]"
          ],
          "values": [
           "[Measures].[Theoretical PnL]"
          ],
          "xAxis": [
           "[Hierarchies].[Investment Portfolio Hierarchy].[Asset Class]"
          ]
         },
         "type": "plotly-100-stacked-column-chart"
        },
        "query": {
         "mdx": "SELECT NON EMPTY [Measures].[Theoretical PnL] ON COLUMNS, NON EMPTY [Hierarchies].[Investment Portfolio Hierarchy].[Fund].Members ON ROWS FROM [Position_Sensitivities] CELL PROPERTIES VALUE, FORMATTED_VALUE, BACK_COLOR, FORE_COLOR, FONT_FLAGS",
         "serverUrl": "",
         "updateMode": "once"
        }
       },
       "containerKey": "chart",
       "showTitleBar": false,
       "style": {}
      }
     }
    },
    "atoti": {
     "state": {
      "name": "Theoretical PnL spread across funds",
      "type": "container",
      "value": {
       "body": {
        "configuration": {
         "mapping": {
          "stackBy": [
           "[Hierarchies].[Investment Portfolio Hierarchy].[Fund]"
          ],
          "values": [
           "[Measures].[Theoretical PnL]"
          ],
          "xAxis": [
           "[Hierarchies].[Investment Portfolio Hierarchy].[Asset Class]"
          ]
         },
         "type": "plotly-100-stacked-column-chart"
        },
        "query": {
         "mdx": "SELECT NON EMPTY [Hierarchies].[Investment Portfolio Hierarchy].[Fund].Members ON ROWS, NON EMPTY [Measures].[Theoretical PnL] ON COLUMNS FROM [Position_Sensitivities] CELL PROPERTIES VALUE, FORMATTED_VALUE, BACK_COLOR, FORE_COLOR, FONT_FLAGS",
         "serverUrl": "",
         "updateMode": "once"
        }
       },
       "containerKey": "chart",
       "showTitleBar": false,
       "style": {}
      }
     }
    }
   },
   "outputs": [],
   "source": [
    "position_sensitivity_cube.visualize(\"Theoretical PnL spread across funds\")"
   ]
  },
  {
   "cell_type": "markdown",
   "metadata": {},
   "source": [
    "In the next 2 visualizations, we shall see the impact of having the *Investment Portfolio Hierarchy*.\n",
    "\n",
    "In the first tree map, we perform a split at the *portfolio* level from *Investment Portfolio Hierarchy*. This means that we are drilling down from the Asset class to Sub Asset Class, Fund and then to the Portfolio level. E.g. we will see the portfolio HE01 under the Asset Class *Rates & Credit* and *Forex*.\n",
    "\n",
    "In the second tree map, we perform a split at the *portfolio* hierarchy. Hence we will only see the collective *Theoretical PnL* of the portfolio. E.g. we will only see 1 HE01 in this map."
   ]
  },
  {
   "cell_type": "code",
   "execution_count": null,
   "metadata": {
    "activeviam": {
     "state": {
      "name": "",
      "type": "container",
      "value": {
       "body": {
        "configuration": {
         "mapping": {
          "splitBy": [
           "[Hierarchies].[Investment Portfolio Hierarchy].[Portfolio]"
          ],
          "values": [
           "[Measures].[Theoretical PnL]"
          ]
         },
         "type": "plotly-tree-map"
        },
        "query": {
         "mdx": "SELECT NON EMPTY [Measures].[Theoretical PnL] ON COLUMNS, NON EMPTY [Hierarchies].[Investment Portfolio Hierarchy].[Portfolio].Members ON ROWS FROM [Position_Sensitivities] CELL PROPERTIES VALUE, FORMATTED_VALUE, BACK_COLOR, FORE_COLOR, FONT_FLAGS",
         "serverUrl": "",
         "updateMode": "once"
        }
       },
       "containerKey": "chart",
       "showTitleBar": false,
       "style": {}
      }
     }
    },
    "atoti": {
     "state": {
      "name": "Investment Portfolio concentration",
      "type": "container",
      "value": {
       "body": {
        "configuration": {
         "mapping": {
          "splitBy": [
           "[Hierarchies].[Investment Portfolio Hierarchy].[Portfolio]"
          ],
          "values": [
           "[Measures].[Theoretical PnL]"
          ]
         },
         "type": "plotly-tree-map"
        },
        "query": {
         "mdx": "SELECT NON EMPTY [Measures].[Theoretical PnL] ON COLUMNS, NON EMPTY [Hierarchies].[Investment Portfolio Hierarchy].[Portfolio].Members ON ROWS FROM [Position_Sensitivities] CELL PROPERTIES VALUE, FORMATTED_VALUE, BACK_COLOR, FORE_COLOR, FONT_FLAGS",
         "serverUrl": "",
         "updateMode": "once"
        }
       },
       "containerKey": "chart",
       "showTitleBar": false,
       "style": {}
      }
     }
    }
   },
   "outputs": [],
   "source": [
    "position_sensitivity_cube.visualize(\"Investment Portfolio concentration\")"
   ]
  },
  {
   "cell_type": "code",
   "execution_count": null,
   "metadata": {
    "atoti": {
     "state": {
      "name": "Portfolio concentration",
      "type": "container",
      "value": {
       "body": {
        "configuration": {
         "mapping": {
          "splitBy": [
           "[Hierarchies].[portfolio].[portfolio]"
          ],
          "values": [
           "[Measures].[Theoretical PnL]"
          ]
         },
         "type": "plotly-tree-map"
        },
        "query": {
         "mdx": "SELECT NON EMPTY [Hierarchies].[portfolio].[portfolio].Members ON ROWS, NON EMPTY [Measures].[Theoretical PnL] ON COLUMNS FROM [Position_Sensitivities] CELL PROPERTIES VALUE, FORMATTED_VALUE, BACK_COLOR, FORE_COLOR, FONT_FLAGS",
         "serverUrl": "",
         "updateMode": "once"
        }
       },
       "containerKey": "chart",
       "showTitleBar": false,
       "style": {}
      }
     }
    }
   },
   "outputs": [],
   "source": [
    "position_sensitivity_cube.visualize(\"Portfolio concentration\")"
   ]
  },
  {
   "cell_type": "markdown",
   "metadata": {},
   "source": [
    "In the below pivot-table, we can easily drill-down the levels in the *Investment Portfolio Hierarchy* to see measures at granular levels.  \n",
    "Naturally, this could also be achieved by clicking on `>+` and manually adding a hierarchy to drill down to. It's just a little more tedious."
   ]
  },
  {
   "cell_type": "code",
   "execution_count": null,
   "metadata": {
    "activeviam": {
     "state": {
      "name": "Investment Portfolio Hierarchy Pivot Table",
      "type": "container",
      "value": {
       "body": {
        "configuration": {
         "tabular": {
          "addButtonFilter": "numeric",
          "columns": [
           {
            "key": "c-treeCells-member",
            "width": 486
           }
          ],
          "columnsGroups": [
           {
            "captionProducer": "firstColumn",
            "cellFactory": "kpi-status",
            "selector": "kpi-status"
           },
           {
            "captionProducer": "firstColumn",
            "cellFactory": "lookup",
            "selector": "lookup"
           },
           {
            "captionProducer": "expiry",
            "cellFactory": "expiry",
            "selector": "kpi-expiry"
           },
           {
            "captionProducer": "columnMerge",
            "cellFactory": {
             "args": {
              "automaticExpansion": true
             },
             "key": "treeCells"
            },
            "selector": "member"
           }
          ],
          "defaultOptions": {},
          "hideAddButton": true,
          "lineNumbers": true,
          "pinnedHeaderSelector": "member",
          "sortingMode": "non-breaking",
          "statisticsShown": true
         }
        },
        "contextValues": {},
        "mdx": "SELECT NON EMPTY Hierarchize(Union(Crossjoin(Union(DrilldownLevel([Hierarchies].[Investment Portfolio Hierarchy].[ALL].[AllMember]), Descendants({[Hierarchies].[Investment Portfolio Hierarchy].[ALL].[AllMember].[Forex]}, [Hierarchies].[Investment Portfolio Hierarchy].[Sub Asset Class]), Descendants({[Hierarchies].[Investment Portfolio Hierarchy].[ALL].[AllMember].[Rates & Credit]}, [Hierarchies].[Investment Portfolio Hierarchy].[Sub Asset Class]), Descendants({[Hierarchies].[Investment Portfolio Hierarchy].[ALL].[AllMember].[Equity]}, [Hierarchies].[Investment Portfolio Hierarchy].[Sub Asset Class]), Descendants({[Hierarchies].[Investment Portfolio Hierarchy].[ALL].[AllMember].[Equity].[Domestic Equity]}, [Hierarchies].[Investment Portfolio Hierarchy].[Fund]), Descendants({[Hierarchies].[Investment Portfolio Hierarchy].[ALL].[AllMember].[Equity].[Domestic Equity].[Poseidon]}, [Hierarchies].[Investment Portfolio Hierarchy].[Portfolio])), [Hierarchies].[instrument_code].DefaultMember), Crossjoin([Hierarchies].[Investment Portfolio Hierarchy].[ALL].[AllMember].[Equity].[Domestic Equity].[Poseidon].[PO01], [Hierarchies].[instrument_code].[instrument_code].Members), Crossjoin([Hierarchies].[Investment Portfolio Hierarchy].[ALL].[AllMember].[Equity].[Domestic Equity].[Poseidon].[PO01], Descendants({[Hierarchies].[instrument_code].[ALL].[AllMember].[UK00180009]}, [Hierarchies].[instrument_code].[instrument_code])))) ON ROWS, NON EMPTY {[Measures].[Theoretical PnL], [Measures].[sensi.SUM], [Measures].[contributors.COUNT]} ON COLUMNS FROM [Position_Sensitivities] CELL PROPERTIES VALUE, FORMATTED_VALUE, BACK_COLOR, FORE_COLOR, FONT_FLAGS",
        "ranges": {
         "column": {
          "chunkSize": 50,
          "thresholdPercentage": 0.2
         },
         "row": {
          "chunkSize": 2000,
          "thresholdPercentage": 0.1
         }
        },
        "serverUrl": "",
        "updateMode": "once"
       },
       "containerKey": "pivot-table",
       "showTitleBar": false,
       "style": {}
      }
     }
    },
    "atoti": {
     "height": 426,
     "state": {
      "name": "Investment Portfolio Hierarchy Pivot Table",
      "type": "container",
      "value": {
       "body": {
        "configuration": {
         "tabular": {
          "addButtonFilter": "numeric",
          "columnsGroups": [
           {
            "captionProducer": "firstColumn",
            "cellFactory": "kpi-status",
            "selector": "kpi-status"
           },
           {
            "captionProducer": "firstColumn",
            "cellFactory": "lookup",
            "selector": "lookup"
           },
           {
            "captionProducer": "expiry",
            "cellFactory": "expiry",
            "selector": "kpi-expiry"
           },
           {
            "captionProducer": "columnMerge",
            "cellFactory": {
             "args": {
              "automaticExpansion": true
             },
             "key": "treeCells"
            },
            "selector": "member"
           }
          ],
          "defaultOptions": {},
          "hideAddButton": true,
          "lineNumbers": true,
          "pinnedHeaderSelector": "member",
          "sortingMode": "non-breaking",
          "statisticsShown": true
         }
        },
        "contextValues": {},
        "mdx": "SELECT NON EMPTY Hierarchize(Union(DrilldownLevel([Hierarchies].[Investment Portfolio Hierarchy].[ALL].[AllMember]), Descendants({[Hierarchies].[Investment Portfolio Hierarchy].[ALL].[AllMember].[Rates & Credit]}, [Hierarchies].[Investment Portfolio Hierarchy].[Sub Asset Class]), Descendants({[Hierarchies].[Investment Portfolio Hierarchy].[ALL].[AllMember].[Rates & Credit].[Domestic Rates & Credit]}, [Hierarchies].[Investment Portfolio Hierarchy].[Fund]), Descendants({[Hierarchies].[Investment Portfolio Hierarchy].[ALL].[AllMember].[Rates & Credit].[Domestic Rates & Credit].[Hermes]}, [Hierarchies].[Investment Portfolio Hierarchy].[Portfolio]))) ON ROWS, NON EMPTY {[Measures].[Theoretical PnL], [Measures].[sensi.SUM], [Measures].[contributors.COUNT]} ON COLUMNS FROM [Position_Sensitivities] CELL PROPERTIES VALUE, FORMATTED_VALUE, BACK_COLOR, FORE_COLOR, FONT_FLAGS",
        "ranges": {
         "column": {
          "chunkSize": 50,
          "thresholdPercentage": 0.2
         },
         "row": {
          "chunkSize": 2000,
          "thresholdPercentage": 0.1
         }
        },
        "serverUrl": "",
        "updateMode": "once"
       },
       "containerKey": "pivot-table",
       "showTitleBar": false,
       "style": {}
      }
     }
    }
   },
   "outputs": [],
   "source": [
    "position_sensitivity_cube.visualize('Investment Portfolio Hierarchy Pivot Table')"
   ]
  },
  {
   "cell_type": "markdown",
   "metadata": {},
   "source": [
    "#### Yield Curve\n",
    "\n",
    "The *Yield Curve* gives insights to the future interest rate changes and economic activity. \n",
    "  \n",
    "A normal yield curve which shows an upward curve, shows longer-term bonds having higher yields than short-term ones. Short-term interest rates are the lowest because there is less embedded inflation risk. This shows economic expansion.\n",
    "\n",
    "An inverted curve which has a downward slope, is a sign of an upcoming recession. The shorter-term bonds yields higher than the longer-term ones.  \n",
    "\n",
    "A flat or humped yield curve shows that the yields for shorter- and longer-term bonds are very close to each other. Investors are expecting interest rates to remain about the same, probably an economic transition.\n",
    "  \n",
    "We will use the start of day and last rates against the tenor to plot our yield curve. We should be able to see a normal upward yield curve in the chart below."
   ]
  },
  {
   "cell_type": "code",
   "execution_count": null,
   "metadata": {
    "activeviam": {
     "state": {
      "name": "Yield Curve",
      "type": "container",
      "value": {
       "body": {
        "configuration": {
         "mapping": {
          "splitBy": [
           "[Hierarchies].[currency].[currency]",
           "[Hierarchies].[curve].[curve]"
          ],
          "values": [
           "[Measures].[start_of_day.VALUE]",
           "[Measures].[last.VALUE]"
          ],
          "xAxis": [
           "[Hierarchies].[tenor].[tenor]"
          ]
         },
         "plotly": {
          "layout": {
           "xaxis": {
            "title": "Theoretical PnL"
           },
           "yaxis": {
            "title": "Tenor"
           }
          }
         },
         "type": "plotly-line-chart"
        },
        "query": {
         "mdx": "SELECT NON EMPTY Crossjoin([Hierarchies].[tenor].[tenor].Members, [Hierarchies].[currency].[currency].Members, [Hierarchies].[curve].[curve].Members) ON ROWS, NON EMPTY {[Measures].[start_of_day.VALUE], [Measures].[last.VALUE]} ON COLUMNS FROM (SELECT [Hierarchies].[currency].[ALL].[AllMember].[EUR] ON COLUMNS FROM (SELECT [Hierarchies].[curve].[ALL].[AllMember].[EUR-Govt-FR] ON COLUMNS FROM [Position_Sensitivities])) CELL PROPERTIES VALUE, FORMATTED_VALUE, BACK_COLOR, FORE_COLOR, FONT_FLAGS",
         "serverUrl": "",
         "updateMode": "once"
        }
       },
       "containerKey": "chart",
       "showTitleBar": false,
       "style": {}
      }
     }
    },
    "atoti": {
     "height": 350,
     "state": {
      "name": "Yield Curve",
      "type": "container",
      "value": {
       "body": {
        "configuration": {
         "mapping": {
          "horizontal": [],
          "splitBy": [
           "[Hierarchies].[currency].[currency]"
          ],
          "values": [
           "[Measures].[start_of_day.VALUE]",
           "[Measures].[last.VALUE]"
          ],
          "vertical": [],
          "xAxis": [
           "[Hierarchies].[tenor].[tenor]"
          ]
         },
         "plotly": {
          "layout": {
           "xaxis": {
            "title": "Theoretical PnL"
           },
           "yaxis": {
            "title": "Tenor"
           }
          }
         },
         "type": "plotly-line-chart"
        },
        "query": {
         "mdx": "SELECT NON EMPTY Crossjoin([Hierarchies].[tenor].[tenor].Members, [Hierarchies].[currency].[currency].Members) ON ROWS, NON EMPTY {[Measures].[start_of_day.VALUE], [Measures].[last.VALUE]} ON COLUMNS FROM [Position_Sensitivities] CELL PROPERTIES VALUE, FORMATTED_VALUE, BACK_COLOR, FORE_COLOR, FONT_FLAGS",
         "serverUrl": "",
         "updateMode": "once"
        }
       },
       "containerKey": "chart",
       "showTitleBar": false,
       "style": {}
      }
     }
    }
   },
   "outputs": [],
   "source": [
    "position_sensitivity_cube.visualize('Yield Curve')"
   ]
  },
  {
   "cell_type": "markdown",
   "metadata": {},
   "source": [
    "We see that *Rates & Credit* has the highest *Theoretical PnL* among the Asset class."
   ]
  },
  {
   "cell_type": "code",
   "execution_count": null,
   "metadata": {
    "activeviam": {
     "state": {
      "name": "Theoretical PnL",
      "type": "container",
      "value": {
       "body": {
        "configuration": {
         "mapping": {
          "splitBy": [],
          "values": [
           "[Measures].[Theoretical PnL]"
          ],
          "yAxis": [
           "[Hierarchies].[asset_class].[asset_class]"
          ]
         },
         "type": "plotly-clustered-bar-chart"
        },
        "query": {
         "mdx": "SELECT NON EMPTY [Measures].[Theoretical PnL] ON COLUMNS, NON EMPTY [Hierarchies].[asset_class].[asset_class].Members ON ROWS FROM [Position_Sensitivities] CELL PROPERTIES VALUE, FORMATTED_VALUE, BACK_COLOR, FORE_COLOR, FONT_FLAGS",
         "serverUrl": "",
         "updateMode": "once"
        }
       },
       "containerKey": "chart",
       "showTitleBar": false,
       "style": {}
      }
     }
    },
    "atoti": {
     "state": {
      "name": "Theoretical PnL",
      "type": "container",
      "value": {
       "body": {
        "configuration": {
         "mapping": {
          "horizontal": [],
          "splitBy": [],
          "values": [
           "[Measures].[Theoretical PnL]"
          ],
          "vertical": [],
          "xAxis": [
           "[Hierarchies].[asset_class].[asset_class]"
          ]
         },
         "switchedTo": "plotly-clustered-bar-chart",
         "type": "plotly-line-chart"
        },
        "query": {
         "mdx": "SELECT NON EMPTY [Measures].[Theoretical PnL] ON COLUMNS, NON EMPTY [Hierarchies].[asset_class].[asset_class].Members ON ROWS FROM [Position_Sensitivities] CELL PROPERTIES VALUE, FORMATTED_VALUE, BACK_COLOR, FORE_COLOR, FONT_FLAGS",
         "serverUrl": "",
         "updateMode": "once"
        }
       },
       "containerKey": "chart",
       "showTitleBar": false,
       "style": {}
      }
     }
    }
   },
   "outputs": [],
   "source": [
    "position_sensitivity_cube.visualize('Theoretical PnL')"
   ]
  },
  {
   "cell_type": "markdown",
   "metadata": {},
   "source": [
    "### What-ifs  \n",
    "We will run simulations to see the impact of shifts in curves: \n",
    "- Parallel Shift\n",
    "- Curve Inversion\n",
    "- Curve Inversion Stress\n"
   ]
  },
  {
   "cell_type": "markdown",
   "metadata": {},
   "source": [
    "By applying sensitivity against the Asset Class and Currency, we can see that the 3 peaks are in the order of *Rates & Credit, EUR*, *Forex, EUR* and lastly *Equity, EUR*. "
   ]
  },
  {
   "cell_type": "code",
   "execution_count": null,
   "metadata": {
    "atoti": {
     "state": {
      "name": "Risk Map",
      "type": "container",
      "value": {
       "body": {
        "configuration": {
         "mapping": {
          "axis": [
           "[Hierarchies].[Investment Portfolio Hierarchy].[Asset Class]",
           "[Hierarchies].[currency].[currency]"
          ],
          "splitBy": [],
          "values": [
           "[Measures].[sensi.SUM]"
          ]
         },
         "type": "plotly-radar-chart"
        },
        "query": {
         "mdx": "SELECT NON EMPTY Crossjoin([Hierarchies].[Investment Portfolio Hierarchy].[Asset Class].Members, [Hierarchies].[currency].[currency].Members) ON ROWS, NON EMPTY [Measures].[sensi.SUM] ON COLUMNS FROM [Position_Sensitivities] CELL PROPERTIES VALUE, FORMATTED_VALUE, BACK_COLOR, FORE_COLOR, FONT_FLAGS",
         "serverUrl": "",
         "updateMode": "once"
        }
       },
       "containerKey": "chart",
       "showTitleBar": false,
       "style": {}
      }
     }
    }
   },
   "outputs": [],
   "source": [
    "position_sensitivity_cube.visualize(\"Risk Map\")"
   ]
  },
  {
   "cell_type": "markdown",
   "metadata": {},
   "source": [
    "Let's start by setting up a simulation based on *tenor* and *currency*, that fluctuates the *last.VALUE*. \n",
    "We will label the curve derived from the original cube data as *Last Curve*"
   ]
  },
  {
   "cell_type": "code",
   "execution_count": null,
   "metadata": {},
   "outputs": [],
   "source": [
    "curve_simulation = position_sensitivity_cube.setup_simulation(\"Curve Simulation\", per=[lvl[\"tenor\"],lvl[\"currency\"]], add=[m[\"last.VALUE\"]], base_scenario_name = 'Last Curve')"
   ]
  },
  {
   "cell_type": "markdown",
   "metadata": {},
   "source": [
    "#### Shift Simulation  \n",
    "  \n",
    "A parallel shift in the yield curve happens when the interest rates on all fixed-income maturities increase or decrease by the same number of basis point.  \n",
    "The curve does not change but it shifts to the left or to the right. This is most common when the yield curve is upward sloping.  \n",
    "  \n",
    "This simulation is important for investors who might liquidate their positions before maturity, as the shift can cause bond prices to fluctuate substantially.  \n",
    "Investors could mitigate this risk by reducing the bond duration, alleviate the volatility.\n",
    "  \n",
    "We will simulate parallel shift in yield curve by applying a negative 10 bps shift on the last rate for Euro currency on all Tenor."
   ]
  },
  {
   "cell_type": "code",
   "execution_count": null,
   "metadata": {},
   "outputs": [],
   "source": [
    "# create the scenario\n",
    "curve_shift = curve_simulation.scenarios['Curve Parallel Shift']"
   ]
  },
  {
   "cell_type": "code",
   "execution_count": null,
   "metadata": {},
   "outputs": [],
   "source": [
    "# state the condition of the scenario. -0.001 will be added to the last.VALUE for EUR\n",
    "curve_shift += (\"*\", \"EUR\", -0.001, tt.simulation.Priority.CRITICAL)"
   ]
  },
  {
   "cell_type": "code",
   "execution_count": null,
   "metadata": {},
   "outputs": [],
   "source": [
    "# preview the condition of the simulation\n",
    "curve_shift.head(5)"
   ]
  },
  {
   "cell_type": "markdown",
   "metadata": {},
   "source": [
    "##### Explore Curve Parallel Shift scenario impact on Theoretical PnL  \n",
    "  \n",
    "We see that while the curve retains its shape, all the data points moved to the right of the graph."
   ]
  },
  {
   "cell_type": "code",
   "execution_count": null,
   "metadata": {
    "activeviam": {
     "state": {
      "name": "Yield Curve Curve Parallel Shift",
      "type": "container",
      "value": {
       "body": {
        "configuration": {
         "mapping": {
          "splitBy": [],
          "values": [
           "[Measures].[start_of_day.VALUE]",
           "[Measures].[last.VALUE]"
          ],
          "xAxis": [
           "[Hierarchies].[tenor].[tenor]"
          ]
         },
         "type": "plotly-line-chart"
        },
        "query": {
         "mdx": "SELECT NON EMPTY [Hierarchies].[tenor].[tenor].Members ON ROWS, NON EMPTY {[Measures].[start_of_day.VALUE], [Measures].[last.VALUE]} ON COLUMNS FROM [Position_Sensitivities] WHERE ([Measure Simulations].[Curve Simulation].[Curve Simulation].[Curve Parallel Shift], [Hierarchies].[currency].[ALL].[AllMember].[EUR]) CELL PROPERTIES VALUE, FORMATTED_VALUE, BACK_COLOR, FORE_COLOR, FONT_FLAGS",
         "serverUrl": "",
         "updateMode": "once"
        }
       },
       "containerKey": "chart",
       "showTitleBar": false,
       "style": {}
      }
     }
    },
    "atoti": {
     "height": 347,
     "state": {
      "name": "Yield Curve Curve Parallel Shift",
      "type": "container",
      "value": {
       "body": {
        "configuration": {
         "mapping": {
          "horizontal": [],
          "splitBy": [
           "[Measure Simulations].[Curve Simulation].[Curve Simulation]"
          ],
          "values": [
           "[Measures].[start_of_day.VALUE]",
           "[Measures].[last.VALUE]"
          ],
          "vertical": [],
          "xAxis": [
           "[Hierarchies].[tenor].[tenor]"
          ]
         },
         "type": "plotly-line-chart"
        },
        "query": {
         "mdx": "SELECT NON EMPTY {[Measures].[start_of_day.VALUE], [Measures].[last.VALUE]} ON COLUMNS, NON EMPTY Crossjoin([Hierarchies].[tenor].[tenor].Members, [Measure Simulations].[Curve Simulation].[Curve Simulation].Members) ON ROWS FROM (SELECT {[Measure Simulations].[Curve Simulation].[Curve Simulation].[Curve Parallel Shift], [Measure Simulations].[Curve Simulation].[Curve Simulation].[Last Curve]} ON COLUMNS FROM [Position_Sensitivities] WHERE [Hierarchies].[currency].[ALL].[AllMember].[EUR]) WHERE [Hierarchies].[currency].[ALL].[AllMember].[EUR] CELL PROPERTIES VALUE, FORMATTED_VALUE, BACK_COLOR, FORE_COLOR, FONT_FLAGS",
         "serverUrl": "",
         "updateMode": "once"
        }
       },
       "containerKey": "chart",
       "showTitleBar": false,
       "style": {}
      }
     }
    }
   },
   "outputs": [],
   "source": [
    "position_sensitivity_cube.visualize('Yield Curve Curve Parallel Shift')"
   ]
  },
  {
   "cell_type": "markdown",
   "metadata": {},
   "source": [
    "We go into the investment portfolio to see the impact of this shift on the *Theoretical PnL*.  \\\n",
    "We see the *Theoretical PnL* went negative on a 10bps shift, with *Rates & Credit* suffering the most loss.  "
   ]
  },
  {
   "cell_type": "code",
   "execution_count": null,
   "metadata": {
    "activeviam": {
     "state": {
      "name": "Theoretical PnL Parallel Shift",
      "type": "container",
      "value": {
       "body": {
        "configuration": {
         "mapping": {
          "splitBy": [
           "[Measure Simulations].[Curve Simulation].[Curve Simulation]"
          ],
          "values": [
           "[Measures].[Theoretical PnL]"
          ],
          "yAxis": [
           "[Hierarchies].[Investment Portfolio Hierarchy].[Asset Class]"
          ]
         },
         "type": "plotly-clustered-bar-chart"
        },
        "query": {
         "mdx": "SELECT NON EMPTY Crossjoin([Hierarchies].[Investment Portfolio Hierarchy].[Asset Class].Members, [Measure Simulations].[Curve Simulation].[Curve Simulation].Members) ON ROWS, NON EMPTY [Measures].[Theoretical PnL] ON COLUMNS FROM [Position_Sensitivities] CELL PROPERTIES VALUE, FORMATTED_VALUE, BACK_COLOR, FORE_COLOR, FONT_FLAGS",
         "serverUrl": "",
         "updateMode": "once"
        }
       },
       "containerKey": "chart",
       "showTitleBar": false,
       "style": {}
      }
     }
    },
    "atoti": {
     "state": {
      "name": "Theoretical PnL Parallel Shift - Investment Portfolio",
      "type": "container",
      "value": {
       "body": {
        "configuration": {
         "mapping": {
          "horizontal": [],
          "splitBy": [
           "[Measure Simulations].[Curve Simulation].[Curve Simulation]"
          ],
          "values": [
           "[Measures].[Theoretical PnL]"
          ],
          "vertical": [],
          "yAxis": [
           "[Hierarchies].[Investment Portfolio Hierarchy].[Asset Class]"
          ]
         },
         "type": "plotly-clustered-bar-chart"
        },
        "query": {
         "mdx": "SELECT NON EMPTY [Measures].[Theoretical PnL] ON COLUMNS, NON EMPTY Crossjoin([Hierarchies].[Investment Portfolio Hierarchy].[Asset Class].Members, [Measure Simulations].[Curve Simulation].[Curve Simulation].Members) ON ROWS FROM (SELECT {[Measure Simulations].[Curve Simulation].[Curve Simulation].[Curve Parallel Shift], [Measure Simulations].[Curve Simulation].[Curve Simulation].[Last Curve]} ON COLUMNS FROM [Position_Sensitivities] WHERE [Hierarchies].[currency].[ALL].[AllMember].[EUR]) WHERE [Hierarchies].[currency].[ALL].[AllMember].[EUR] CELL PROPERTIES VALUE, FORMATTED_VALUE, BACK_COLOR, FORE_COLOR, FONT_FLAGS",
         "serverUrl": "",
         "updateMode": "once"
        }
       },
       "containerKey": "chart",
       "showTitleBar": false,
       "style": {}
      }
     }
    }
   },
   "outputs": [],
   "source": [
    "position_sensitivity_cube.visualize('Theoretical PnL Parallel Shift - Investment Portfolio')"
   ]
  },
  {
   "cell_type": "markdown",
   "metadata": {},
   "source": [
    "#### Curve Inversion Simulation\n",
    "\n",
    "An inverted yield curve is a predictor of economic recession as it implies that interest rates are going to fall. In fact, recessions usually cause interest rates to fall.  \n",
    "  \n",
    "Short-term bills are expected to plummet if recession is coming, as Federal Reserve will lower the fed funds rate when economy slows down. Therefore investors may avoid Treasurys with maturities of less than two years to have a safe investment. This sets back the demand for those bills and sends their yields up. Higher demands in the longer-term instruments lower the yields, hence an inverted curve occurs."
   ]
  },
  {
   "cell_type": "markdown",
   "metadata": {},
   "source": [
    "Let's run a simulation on the currency EUR and see the impact on the *Theoretical PnL*.\n",
    "We will set a negative 20bps on `last.VALUE` for the currency EUR for tenors 5Y and above and observe the change in the curve shape."
   ]
  },
  {
   "cell_type": "code",
   "execution_count": null,
   "metadata": {},
   "outputs": [],
   "source": [
    "curve_inversion = curve_simulation.scenarios['Curve Inversion']"
   ]
  },
  {
   "cell_type": "code",
   "execution_count": null,
   "metadata": {},
   "outputs": [],
   "source": [
    "curve_inversion += (\"5Y\", \"EUR\", -0.002, tt.simulation.Priority.CRITICAL)\n",
    "curve_inversion += (\"6Y\", \"EUR\", -0.002, tt.simulation.Priority.CRITICAL)\n",
    "curve_inversion += (\"7Y\", \"EUR\", -0.002, tt.simulation.Priority.CRITICAL)\n",
    "curve_inversion += (\"8Y\", \"EUR\", -0.002, tt.simulation.Priority.CRITICAL)\n",
    "curve_inversion += (\"9Y\", \"EUR\", -0.002, tt.simulation.Priority.CRITICAL)"
   ]
  },
  {
   "cell_type": "code",
   "execution_count": null,
   "metadata": {},
   "outputs": [],
   "source": [
    "curve_inversion.head(5)"
   ]
  },
  {
   "cell_type": "markdown",
   "metadata": {},
   "source": [
    "##### Explore Curve Inversion scenario impact on Theoretical PnL  \n",
    "  \n",
    "We see a slight inversion in the curve from the tenor 4Y to 5Y before it becomes a shift to the right, as in the case of a parallel shift.  \n",
    "In this case, we predict that the yields will dip for instruments with more than 5Y maturity."
   ]
  },
  {
   "cell_type": "code",
   "execution_count": null,
   "metadata": {
    "activeviam": {
     "state": {
      "name": "Yield Curve Inversion",
      "type": "container",
      "value": {
       "body": {
        "configuration": {
         "mapping": {
          "splitBy": [],
          "values": [
           "[Measures].[last.VALUE]",
           "[Measures].[start_of_day.VALUE]"
          ],
          "xAxis": [
           "[Hierarchies].[tenor].[tenor]"
          ]
         },
         "type": "plotly-line-chart"
        },
        "query": {
         "mdx": "SELECT NON EMPTY [Hierarchies].[tenor].[tenor].Members ON ROWS, NON EMPTY {[Measures].[last.VALUE], [Measures].[start_of_day.VALUE]} ON COLUMNS FROM [Position_Sensitivities] WHERE ([Hierarchies].[currency].[ALL].[AllMember].[EUR], [Measure Simulations].[Curve Simulation].[Curve Simulation].[Curve Inversion]) CELL PROPERTIES VALUE, FORMATTED_VALUE, BACK_COLOR, FORE_COLOR, FONT_FLAGS",
         "serverUrl": "",
         "updateMode": "once"
        }
       },
       "containerKey": "chart",
       "showTitleBar": false,
       "style": {}
      }
     }
    },
    "atoti": {
     "state": {
      "name": "Yield Curve Inversion",
      "type": "container",
      "value": {
       "body": {
        "configuration": {
         "mapping": {
          "horizontal": [],
          "splitBy": [
           "[Measure Simulations].[Curve Simulation].[Curve Simulation]"
          ],
          "values": [
           "[Measures].[last.VALUE]",
           "[Measures].[start_of_day.VALUE]"
          ],
          "vertical": [],
          "xAxis": [
           "[Hierarchies].[tenor].[tenor]"
          ]
         },
         "type": "plotly-line-chart"
        },
        "query": {
         "mdx": "SELECT NON EMPTY {[Measures].[last.VALUE], [Measures].[start_of_day.VALUE]} ON COLUMNS, NON EMPTY Crossjoin([Hierarchies].[tenor].[tenor].Members, [Measure Simulations].[Curve Simulation].[Curve Simulation].Members) ON ROWS FROM (SELECT {[Measure Simulations].[Curve Simulation].[Curve Simulation].[Curve Inversion], [Measure Simulations].[Curve Simulation].[Curve Simulation].[Last Curve]} ON COLUMNS FROM [Position_Sensitivities]) WHERE [Hierarchies].[currency].[ALL].[AllMember].[EUR] CELL PROPERTIES VALUE, FORMATTED_VALUE, BACK_COLOR, FORE_COLOR, FONT_FLAGS",
         "serverUrl": "",
         "updateMode": "once"
        }
       },
       "containerKey": "chart",
       "showTitleBar": false,
       "style": {}
      }
     }
    }
   },
   "outputs": [],
   "source": [
    "position_sensitivity_cube.visualize('Yield Curve Inversion')"
   ]
  },
  {
   "cell_type": "markdown",
   "metadata": {},
   "source": [
    "As expected, we can see drastic drop in the *Theoretical PnL* across all the asset classes, the greatest loss incurred in the asset class *Rates & Credit*."
   ]
  },
  {
   "cell_type": "code",
   "execution_count": null,
   "metadata": {
    "activeviam": {
     "state": {
      "name": "Theoretical PnL Curve Inversion",
      "type": "container",
      "value": {
       "body": {
        "configuration": {
         "mapping": {
          "splitBy": [
           "[Measure Simulations].[Curve Simulation].[Curve Simulation]"
          ],
          "values": [
           "[Measures].[Theoretical PnL]"
          ],
          "yAxis": [
           "[Hierarchies].[Investment Portfolio Hierarchy].[Asset Class]"
          ]
         },
         "type": "plotly-clustered-bar-chart"
        },
        "query": {
         "mdx": "SELECT NON EMPTY Crossjoin([Hierarchies].[Investment Portfolio Hierarchy].[Asset Class].Members, [Measure Simulations].[Curve Simulation].[Curve Simulation].Members) ON ROWS, NON EMPTY [Measures].[Theoretical PnL] ON COLUMNS FROM [Position_Sensitivities] CELL PROPERTIES VALUE, FORMATTED_VALUE, BACK_COLOR, FORE_COLOR, FONT_FLAGS",
         "serverUrl": "",
         "updateMode": "once"
        }
       },
       "containerKey": "chart",
       "showTitleBar": false,
       "style": {}
      }
     }
    },
    "atoti": {
     "state": {
      "name": "Theoretical PnL Curve Inversion",
      "type": "container",
      "value": {
       "body": {
        "configuration": {
         "mapping": {
          "horizontal": [],
          "splitBy": [
           "[Measure Simulations].[Curve Simulation].[Curve Simulation]"
          ],
          "values": [
           "[Measures].[Theoretical PnL]"
          ],
          "vertical": [],
          "yAxis": [
           "[Hierarchies].[Investment Portfolio Hierarchy].[Asset Class]"
          ]
         },
         "type": "plotly-clustered-bar-chart"
        },
        "query": {
         "mdx": "SELECT NON EMPTY [Measures].[Theoretical PnL] ON COLUMNS, NON EMPTY Crossjoin([Hierarchies].[Investment Portfolio Hierarchy].[Asset Class].Members, [Measure Simulations].[Curve Simulation].[Curve Simulation].Members) ON ROWS FROM (SELECT {[Measure Simulations].[Curve Simulation].[Curve Simulation].[Curve Inversion], [Measure Simulations].[Curve Simulation].[Curve Simulation].[Last Curve]} ON COLUMNS FROM [Position_Sensitivities]) WHERE [Hierarchies].[currency].[ALL].[AllMember].[EUR] CELL PROPERTIES VALUE, FORMATTED_VALUE, BACK_COLOR, FORE_COLOR, FONT_FLAGS",
         "serverUrl": "",
         "updateMode": "once"
        }
       },
       "containerKey": "chart",
       "showTitleBar": false,
       "style": {}
      }
     }
    }
   },
   "outputs": [],
   "source": [
    "position_sensitivity_cube.visualize('Theoretical PnL Curve Inversion')"
   ]
  },
  {
   "cell_type": "code",
   "execution_count": null,
   "metadata": {
    "atoti": {
     "state": {
      "name": "Theoretical PnL against Tenor",
      "type": "container",
      "value": {
       "body": {
        "configuration": {
         "mapping": {
          "horizontal": [],
          "splitBy": [
           "[Measure Simulations].[Curve Simulation].[Curve Simulation]",
           "[Hierarchies].[Investment Portfolio Hierarchy].[Asset Class]"
          ],
          "values": [
           "[Measures].[Theoretical PnL]"
          ],
          "vertical": [],
          "xAxis": [
           "[Hierarchies].[tenor].[tenor]"
          ]
         },
         "type": "plotly-clustered-column-chart"
        },
        "query": {
         "mdx": "SELECT NON EMPTY Crossjoin([Hierarchies].[tenor].[tenor].Members, [Measure Simulations].[Curve Simulation].[Curve Simulation].Members, [Hierarchies].[Investment Portfolio Hierarchy].[Asset Class].Members) ON ROWS, NON EMPTY [Measures].[Theoretical PnL] ON COLUMNS FROM (SELECT {[Measure Simulations].[Curve Simulation].[Curve Simulation].[Curve Inversion], [Measure Simulations].[Curve Simulation].[Curve Simulation].[Last Curve]} ON COLUMNS FROM [Position_Sensitivities]) CELL PROPERTIES VALUE, FORMATTED_VALUE, BACK_COLOR, FORE_COLOR, FONT_FLAGS",
         "serverUrl": "",
         "updateMode": "once"
        }
       },
       "containerKey": "chart",
       "showTitleBar": false,
       "style": {}
      }
     }
    }
   },
   "outputs": [],
   "source": [
    "position_sensitivity_cube.visualize(\"Theoretical PnL against Tenor\")"
   ]
  },
  {
   "cell_type": "markdown",
   "metadata": {},
   "source": [
    "#### Curve Inversion Stress Simulation  \n",
    "  \n",
    "We will create a new scenario where we stress the curve further by assuming further drops in rates for the longer-term instruments.  "
   ]
  },
  {
   "cell_type": "code",
   "execution_count": null,
   "metadata": {},
   "outputs": [],
   "source": [
    "curve_inversion_stress = curve_simulation.scenarios['Curve Inversion Stress']"
   ]
  },
  {
   "cell_type": "code",
   "execution_count": null,
   "metadata": {},
   "outputs": [],
   "source": [
    "curve_inversion_stress += (\"5Y\", \"EUR\", -0.002, tt.simulation.Priority.CRITICAL)\n",
    "curve_inversion_stress += (\"6Y\", \"EUR\", -0.002, tt.simulation.Priority.CRITICAL)\n",
    "curve_inversion_stress += (\"7Y\", \"EUR\", -0.004, tt.simulation.Priority.CRITICAL)\n",
    "curve_inversion_stress += (\"8Y\", \"EUR\", -0.004, tt.simulation.Priority.CRITICAL)\n",
    "curve_inversion_stress += (\"9Y\", \"EUR\", -0.004, tt.simulation.Priority.CRITICAL)"
   ]
  },
  {
   "cell_type": "code",
   "execution_count": null,
   "metadata": {},
   "outputs": [],
   "source": [
    "curve_inversion_stress.head(5)"
   ]
  },
  {
   "cell_type": "markdown",
   "metadata": {},
   "source": [
    "##### Explore Curve Inversion Stress scenario impact on Theoretical PnL  \n",
    "  \n",
    "We see the curve is starting to slope more downward."
   ]
  },
  {
   "cell_type": "code",
   "execution_count": null,
   "metadata": {
    "activeviam": {
     "state": {
      "name": "Yield Curve Inversion Stress",
      "type": "container",
      "value": {
       "body": {
        "configuration": {
         "mapping": {
          "splitBy": [],
          "values": [
           "[Measures].[start_of_day.VALUE]",
           "[Measures].[last.VALUE]"
          ],
          "xAxis": [
           "[Hierarchies].[tenor].[tenor]"
          ]
         },
         "type": "plotly-line-chart"
        },
        "query": {
         "mdx": "SELECT NON EMPTY [Hierarchies].[tenor].[tenor].Members ON ROWS, NON EMPTY {[Measures].[start_of_day.VALUE], [Measures].[last.VALUE]} ON COLUMNS FROM [Position_Sensitivities] WHERE ([Hierarchies].[currency].[ALL].[AllMember].[EUR], [Measure Simulations].[Curve Simulation].[Curve Simulation].[Curve Inversion Stress]) CELL PROPERTIES VALUE, FORMATTED_VALUE, BACK_COLOR, FORE_COLOR, FONT_FLAGS",
         "serverUrl": "",
         "updateMode": "once"
        }
       },
       "containerKey": "chart",
       "showTitleBar": false,
       "style": {}
      }
     }
    },
    "atoti": {
     "state": {
      "name": "Yield Curve Inversion Stress",
      "type": "container",
      "value": {
       "body": {
        "configuration": {
         "mapping": {
          "horizontal": [],
          "splitBy": [
           "[Measure Simulations].[Curve Simulation].[Curve Simulation]"
          ],
          "values": [
           "[Measures].[start_of_day.VALUE]",
           "[Measures].[last.VALUE]"
          ],
          "vertical": [],
          "xAxis": [
           "[Hierarchies].[tenor].[tenor]"
          ]
         },
         "type": "plotly-line-chart"
        },
        "query": {
         "mdx": "SELECT NON EMPTY {[Measures].[start_of_day.VALUE], [Measures].[last.VALUE]} ON COLUMNS, NON EMPTY Crossjoin([Hierarchies].[tenor].[tenor].Members, [Measure Simulations].[Curve Simulation].[Curve Simulation].Members) ON ROWS FROM (SELECT {[Measure Simulations].[Curve Simulation].[Curve Simulation].[Curve Inversion Stress], [Measure Simulations].[Curve Simulation].[Curve Simulation].[Last Curve]} ON COLUMNS FROM [Position_Sensitivities]) WHERE [Hierarchies].[currency].[ALL].[AllMember].[EUR] CELL PROPERTIES VALUE, FORMATTED_VALUE, BACK_COLOR, FORE_COLOR, FONT_FLAGS",
         "serverUrl": "",
         "updateMode": "once"
        }
       },
       "containerKey": "chart",
       "showTitleBar": false,
       "style": {}
      }
     }
    }
   },
   "outputs": [],
   "source": [
    "position_sensitivity_cube.visualize('Yield Curve Inversion Stress')"
   ]
  },
  {
   "cell_type": "markdown",
   "metadata": {},
   "source": [
    "We see the downward slope dipped further in the stress scenario."
   ]
  },
  {
   "cell_type": "code",
   "execution_count": null,
   "metadata": {
    "activeviam": {
     "state": {
      "name": "Theoretical PnL Curve Inversion Stress",
      "type": "container",
      "value": {
       "body": {
        "configuration": {
         "mapping": {
          "splitBy": [
           "[Measure Simulations].[Curve Simulation].[Curve Simulation]"
          ],
          "values": [
           "[Measures].[Theoretical PnL]"
          ],
          "xAxis": [
           "[Hierarchies].[Investment Portfolio Hierarchy].[Asset Class]"
          ]
         },
         "switchedTo": "plotly-clustered-bar-chart",
         "type": "plotly-line-chart"
        },
        "query": {
         "mdx": "SELECT NON EMPTY Crossjoin([Hierarchies].[Investment Portfolio Hierarchy].[Asset Class].Members, [Measure Simulations].[Curve Simulation].[Curve Simulation].Members) ON ROWS, NON EMPTY [Measures].[Theoretical PnL] ON COLUMNS FROM [Position_Sensitivities] CELL PROPERTIES VALUE, FORMATTED_VALUE, BACK_COLOR, FORE_COLOR, FONT_FLAGS",
         "serverUrl": "",
         "updateMode": "once"
        }
       },
       "containerKey": "chart",
       "showTitleBar": false,
       "style": {}
      }
     }
    },
    "atoti": {
     "state": {
      "name": "Theoretical PnL Curve Inversion Stress",
      "type": "container",
      "value": {
       "body": {
        "configuration": {
         "mapping": {
          "horizontal": [],
          "splitBy": [
           "[Measure Simulations].[Curve Simulation].[Curve Simulation]"
          ],
          "values": [
           "[Measures].[Theoretical PnL]"
          ],
          "vertical": [],
          "xAxis": [
           "[Hierarchies].[tenor].[tenor]"
          ]
         },
         "type": "plotly-line-chart"
        },
        "query": {
         "mdx": "SELECT NON EMPTY Crossjoin([Hierarchies].[tenor].[tenor].Members, [Measure Simulations].[Curve Simulation].[Curve Simulation].Members) ON ROWS, NON EMPTY [Measures].[Theoretical PnL] ON COLUMNS FROM (SELECT {[Measure Simulations].[Curve Simulation].[Curve Simulation].[Curve Inversion Stress], [Measure Simulations].[Curve Simulation].[Curve Simulation].[Curve Inversion], [Measure Simulations].[Curve Simulation].[Curve Simulation].[Last Curve]} ON COLUMNS FROM [Position_Sensitivities]) CELL PROPERTIES VALUE, FORMATTED_VALUE, BACK_COLOR, FORE_COLOR, FONT_FLAGS",
         "serverUrl": "",
         "updateMode": "once"
        }
       },
       "containerKey": "chart",
       "showTitleBar": false,
       "style": {}
      }
     }
    }
   },
   "outputs": [],
   "source": [
    "position_sensitivity_cube.visualize('Theoretical PnL Curve Inversion Stress')"
   ]
  },
  {
   "cell_type": "code",
   "execution_count": null,
   "metadata": {
    "activeviam": {
     "state": {
      "name": "Scenarios Comparaison",
      "type": "container",
      "value": {
       "body": {
        "configuration": {
         "featuredValues": {}
        },
        "contextValues": {},
        "mdx": "SELECT {[Measure Simulations].[Curve Simulation].[Curve Inversion], [Measure Simulations].[Curve Simulation].[Curve Inversion Stress]} ON PAGES, NON EMPTY [Measures].[Theoretical PnL] ON COLUMNS, NON EMPTY Hierarchize(DrilldownLevel([Hierarchies].[trading_desk].[ALL].[AllMember])) ON ROWS FROM [Position_Sensitivities] CELL PROPERTIES VALUE, FORMATTED_VALUE, BACK_COLOR, FORE_COLOR, FONT_FLAGS",
        "ranges": {
         "column": {
          "chunkSize": 20,
          "thresholdPercentage": 0.1
         },
         "row": {
          "chunkSize": 20,
          "thresholdPercentage": 0.1
         }
        },
        "serverUrl": "",
        "updateMode": "once"
       },
       "containerKey": "featured-values",
       "showTitleBar": false,
       "style": {}
      }
     }
    },
    "atoti": {
     "state": {
      "name": "Scenarios Comparison",
      "type": "container",
      "value": {
       "body": {
        "configuration": {
         "featuredValues": {}
        },
        "contextValues": {},
        "mdx": "SELECT {[Measure Simulations].[Curve Simulation].[Curve Inversion Stress], [Measure Simulations].[Curve Simulation].[Curve Inversion]} ON PAGES, NON EMPTY [Measures].[Theoretical PnL] ON COLUMNS, NON EMPTY Hierarchize(DrilldownLevel([Hierarchies].[trading_desk].[ALL].[AllMember])) ON ROWS FROM [Position_Sensitivities] CELL PROPERTIES VALUE, FORMATTED_VALUE, BACK_COLOR, FORE_COLOR, FONT_FLAGS",
        "ranges": {
         "column": {
          "chunkSize": 20,
          "thresholdPercentage": 0.1
         },
         "row": {
          "chunkSize": 20,
          "thresholdPercentage": 0.1
         }
        },
        "serverUrl": "",
        "updateMode": "once"
       },
       "containerKey": "featured-values",
       "showTitleBar": false,
       "style": {}
      }
     }
    }
   },
   "outputs": [],
   "source": [
    "position_sensitivity_cube.visualize('Scenarios Comparison')"
   ]
  },
  {
   "cell_type": "code",
   "execution_count": null,
   "metadata": {},
   "outputs": [],
   "source": [
    "session.url"
   ]
  },
  {
   "cell_type": "markdown",
   "metadata": {},
   "source": [
    "### Build Your Standalone App using ActiveUI:\n",
    "\n",
    "* Publish Yield Curve and PnL Views\n",
    "* Add Page Quick filters\n",
    "* Compare scenarios\n",
    "* Save Dashboards"
   ]
  },
  {
   "cell_type": "markdown",
   "metadata": {},
   "source": [
    "We can publish the visualizations above as widgets to Atoti UI. Click on *Open App* when you have published all the widgets of interest.  \n",
    "\n",
    "<img src=\"http://data.atoti.io/notebooks/pnl-explained/publish_widget.gif\" alt=\"publish widget\" style=\"zoom:40%;\" />"
   ]
  },
  {
   "cell_type": "markdown",
   "metadata": {},
   "source": [
    "We can quickly put together a PnL Explained dashboard.  \n",
    "\n",
    "<img src=\"http://data.atoti.io/notebooks/pnl-explained/dashboard_design.gif\" alt=\"dashboard design\" style=\"zoom:40%;\" />"
   ]
  },
  {
   "cell_type": "code",
   "execution_count": null,
   "metadata": {},
   "outputs": [],
   "source": [
    "from IPython.display import Markdown as md \n",
    "md(\"[\" + session.url + \"/#/dashboard/680](\" + session.url + \"/#/dashboard/680)\")"
   ]
  },
  {
   "cell_type": "code",
   "execution_count": null,
   "metadata": {},
   "outputs": [],
   "source": []
  }
 ],
 "metadata": {
  "kernelspec": {
   "display_name": "Python 3",
   "language": "python",
   "name": "python3"
  },
  "language_info": {
   "codemirror_mode": {
    "name": "ipython",
    "version": 3
   },
   "file_extension": ".py",
   "mimetype": "text/x-python",
   "name": "python",
   "nbconvert_exporter": "python",
   "pygments_lexer": "ipython3",
   "version": "3.7.6"
  }
 },
 "nbformat": 4,
 "nbformat_minor": 4
}
