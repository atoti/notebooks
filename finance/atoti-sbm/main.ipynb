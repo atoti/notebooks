{
 "cells": [
  {
   "cell_type": "markdown",
   "metadata": {},
   "source": [
    "# Introduction\n",
    "\n",
    "Run this notebook to create an analytical application for the SBM charge - based of the Equity Delta Example. The input data will be stored in-memory and Atoti will perform the computation \"on-the-fly\" based on user query. You can filter, drill down and explore your data and the SBM metrics.\n",
    "\n",
    "## About SBM\n",
    "\n",
    "You will find below how the SBM logic can be described in python and injected into Atoti. We'll narrow down the use case to Equity Delta charge for simplicity. The other aggregation chains can be added in a similar manner.\n",
    "\n",
    "Sensitivity-based mathod is one of the parametric market risk methodologies. It can be used to compute a VaR-like metric from sensitivities using pre-calibrated risk weights and correlations, through a sequence of nested variance covariance formulae. Due to its multiple benefits (see [2]), the method is widely used both internally by orgazations to manage market risk, as well as by Regulators for capital requirements purposes (FRTB) as well as margining (SIMM). \n",
    "\n",
    "The notebook assumes that the reader is familiar with the sensitivity-based method and terminology.\n",
    "\n",
    "## What to expect\n",
    "\n",
    "In this notebook, we'll read the required sensitivities and calculation parameters and create a chain of measures aggregating data:\n",
    "\n",
    "sensitivities by trade -> weighted sensitivities by risk factor -> charges by bucket -> equity delta margin\n",
    "\n",
    "\n",
    "## Input data\n",
    "\n",
    "Input data is sourced in a CRIF-like format - see [3].\n",
    "\n",
    "## References \n",
    "\n",
    "- [1]: Consolidated Basel Framework Chapter MAR21: https://www.bis.org/basel_framework/chapter/MAR/21.htm?inforce=20220101. \n",
    "- [2]: ISDA SIMM(TM): From Principles to Model Specification: https://www.isda.org/a/vAiDE/simm-from-principles-to-model-specification-4-mar-2016-v4-public.pdf\n",
    "- [3]: ISDA Risk Data Standard: https://www.isda.org/a/owEDE/risk-data-standards-v1-36-public.pdf\n",
    "\n",
    "# Input data files\n",
    "\n",
    "These are the csv-files that we need to illustrate the Equity Delta aggregation:\n",
    "\n",
    "- \"bigger_data.csv\" - sensitivities in a CRIF-like format\n",
    "- \"eq_delta_gamma.csv\" - cross-bucket correlations, set for each pair of buckets\n",
    "- \"eq_delta_rho.csv\" - risk factor correlations, set per bucket, i.e. all pairs of risk factors in a given bucket have the same correlation\n",
    "- \"eq_delta_rw.csv\" - risk weights, set per bucket and per risk factor type (stored in Label2 crif field)\n",
    "\n",
    "The example data files are stored in s3.\n",
    "\n",
    "Let's start by launching atoti cube and web app:"
   ]
  },
  {
   "cell_type": "code",
   "execution_count": 1,
   "metadata": {},
   "outputs": [
    {
     "name": "stdout",
     "output_type": "stream",
     "text": [
      "Welcome to atoti 0.4.3!\n",
      "\n",
      "By using this community edition, you agree with the license available at https://www.atoti.io/eula.\n",
      "Browse the official documentation at https://docs.atoti.io.\n",
      "Join the community at https://www.atoti.io/register.\n",
      "\n",
      "You can hide this message by setting the ATOTI_HIDE_EULA_MESSAGE environment variable to True.\n"
     ]
    },
    {
     "data": {
      "text/plain": [
       "'http://localhost:58723'"
      ]
     },
     "execution_count": 1,
     "metadata": {},
     "output_type": "execute_result"
    }
   ],
   "source": [
    "import atoti as tt\n",
    "import pandas as pd\n",
    "from atoti.config import create_config\n",
    "\n",
    "session = tt.create_session(\n",
    "    config=\"./configuration.yaml\", sampling_mode=tt.sampling.FULL\n",
    ")\n",
    "\n",
    "session.url"
   ]
  },
  {
   "cell_type": "markdown",
   "metadata": {},
   "source": [
    "# Sensitivities datastore"
   ]
  },
  {
   "cell_type": "code",
   "execution_count": 2,
   "metadata": {
    "scrolled": true
   },
   "outputs": [],
   "source": [
    "risks_store = session.read_csv(\n",
    "    \"s3://data.atoti.io/notebooks/sbm/bigger_data.csv\",\n",
    "    keys=[\"TradeID\", \"PortfolioID\", \"RiskType\", \"Qualifier\", \"Label2\"],\n",
    "    store_name=\"Risks\",\n",
    "    types={\"Bucket\": tt.types.STRING},\n",
    ")\n",
    "\n",
    "cube = session.create_cube(risks_store)\n",
    "lvl = cube.levels\n",
    "m = cube.measures\n",
    "h = cube.hierarchies"
   ]
  },
  {
   "cell_type": "code",
   "execution_count": 3,
   "metadata": {},
   "outputs": [
    {
     "data": {
      "text/html": [
       "<div>\n",
       "<style scoped>\n",
       "    .dataframe tbody tr th:only-of-type {\n",
       "        vertical-align: middle;\n",
       "    }\n",
       "\n",
       "    .dataframe tbody tr th {\n",
       "        vertical-align: top;\n",
       "    }\n",
       "\n",
       "    .dataframe thead th {\n",
       "        text-align: right;\n",
       "    }\n",
       "</style>\n",
       "<table border=\"1\" class=\"dataframe\">\n",
       "  <thead>\n",
       "    <tr style=\"text-align: right;\">\n",
       "      <th></th>\n",
       "      <th></th>\n",
       "      <th></th>\n",
       "      <th></th>\n",
       "      <th></th>\n",
       "      <th>AmountUSD</th>\n",
       "      <th>Bucket</th>\n",
       "    </tr>\n",
       "    <tr>\n",
       "      <th>TradeID</th>\n",
       "      <th>PortfolioID</th>\n",
       "      <th>RiskType</th>\n",
       "      <th>Qualifier</th>\n",
       "      <th>Label2</th>\n",
       "      <th></th>\n",
       "      <th></th>\n",
       "    </tr>\n",
       "  </thead>\n",
       "  <tbody>\n",
       "    <tr>\n",
       "      <th>0</th>\n",
       "      <th>Bigger_Portfolio</th>\n",
       "      <th>Risk_Equity</th>\n",
       "      <th>Wilmar International</th>\n",
       "      <th>REPO</th>\n",
       "      <td>-10332.09</td>\n",
       "      <td>1</td>\n",
       "    </tr>\n",
       "    <tr>\n",
       "      <th>52</th>\n",
       "      <th>Bigger_Portfolio</th>\n",
       "      <th>Risk_Equity</th>\n",
       "      <th>Zurich Insurance Group</th>\n",
       "      <th>REPO</th>\n",
       "      <td>-2148.42</td>\n",
       "      <td>8</td>\n",
       "    </tr>\n",
       "    <tr>\n",
       "      <th>56</th>\n",
       "      <th>Bigger_Portfolio</th>\n",
       "      <th>Risk_Equity</th>\n",
       "      <th>FAW Group</th>\n",
       "      <th>REPO</th>\n",
       "      <td>22932.05</td>\n",
       "      <td>9</td>\n",
       "    </tr>\n",
       "    <tr>\n",
       "      <th>63</th>\n",
       "      <th>Bigger_Portfolio</th>\n",
       "      <th>Risk_Equity</th>\n",
       "      <th>Lukoil</th>\n",
       "      <th>SPOT</th>\n",
       "      <td>111553.68</td>\n",
       "      <td>9</td>\n",
       "    </tr>\n",
       "    <tr>\n",
       "      <th>73</th>\n",
       "      <th>Bigger_Portfolio</th>\n",
       "      <th>Risk_Equity</th>\n",
       "      <th>Christian Dior</th>\n",
       "      <th>SPOT</th>\n",
       "      <td>-1961608.41</td>\n",
       "      <td>10</td>\n",
       "    </tr>\n",
       "  </tbody>\n",
       "</table>\n",
       "</div>"
      ],
      "text/plain": [
       "                                                                     AmountUSD  \\\n",
       "TradeID PortfolioID      RiskType    Qualifier              Label2               \n",
       "0       Bigger_Portfolio Risk_Equity Wilmar International   REPO     -10332.09   \n",
       "52      Bigger_Portfolio Risk_Equity Zurich Insurance Group REPO      -2148.42   \n",
       "56      Bigger_Portfolio Risk_Equity FAW Group              REPO      22932.05   \n",
       "63      Bigger_Portfolio Risk_Equity Lukoil                 SPOT     111553.68   \n",
       "73      Bigger_Portfolio Risk_Equity Christian Dior         SPOT   -1961608.41   \n",
       "\n",
       "                                                                    Bucket  \n",
       "TradeID PortfolioID      RiskType    Qualifier              Label2          \n",
       "0       Bigger_Portfolio Risk_Equity Wilmar International   REPO         1  \n",
       "52      Bigger_Portfolio Risk_Equity Zurich Insurance Group REPO         8  \n",
       "56      Bigger_Portfolio Risk_Equity FAW Group              REPO         9  \n",
       "63      Bigger_Portfolio Risk_Equity Lukoil                 SPOT         9  \n",
       "73      Bigger_Portfolio Risk_Equity Christian Dior         SPOT        10  "
      ]
     },
     "execution_count": 3,
     "metadata": {},
     "output_type": "execute_result"
    }
   ],
   "source": [
    "# So far we have loaded data only into the risks_store\n",
    "risks_store.head()"
   ]
  },
  {
   "cell_type": "code",
   "execution_count": 4,
   "metadata": {},
   "outputs": [],
   "source": [
    "# creating a comparator to sort buckets as numbers:\n",
    "# FIXME\n",
    "# The \"First term\" formula gives an exception - unhashable type - if the comparator is enabled\n",
    "# lvl[\"Bucket\"].comparator = tt.comparator.first_members([str(i) for i in range(1, 13)])"
   ]
  },
  {
   "cell_type": "markdown",
   "metadata": {},
   "source": [
    "At this point, a cube has been created, and we can start browsing the sensitivities:"
   ]
  },
  {
   "cell_type": "code",
   "execution_count": 5,
   "metadata": {
    "atoti": {
     "state": {
      "name": "",
      "type": "container",
      "value": {
       "body": {
        "configuration": {
         "tabular": {
          "addButtonFilter": "numeric",
          "columns": [],
          "columnsGroups": [
           {
            "captionProducer": "firstColumn",
            "cellFactory": "kpi-status",
            "selector": "kpi-status"
           },
           {
            "captionProducer": "firstColumn",
            "cellFactory": "lookup",
            "selector": "lookup"
           },
           {
            "captionProducer": "expiry",
            "cellFactory": "expiry",
            "selector": "kpi-expiry"
           },
           {
            "captionProducer": "columnMerge",
            "cellFactory": {
             "args": {
              "automaticExpansion": true
             },
             "key": "treeCells"
            },
            "selector": "member"
           }
          ],
          "defaultOptions": {},
          "hideAddButton": true,
          "lineNumbers": true,
          "pinnedHeaderSelector": "member",
          "sortingMode": "non-breaking",
          "statisticsShown": true
         }
        },
        "contextValues": {},
        "mdx": "SELECT NON EMPTY {[Measures].[AmountUSD.SUM], [Measures].[contributors.COUNT]} ON COLUMNS, NON EMPTY Crossjoin(Hierarchize(DrilldownLevel([Hierarchies].[RiskType].[ALL].[AllMember])), Hierarchize(DrilldownLevel([Hierarchies].[Bucket].[ALL].[AllMember]))) ON ROWS FROM [Risks] CELL PROPERTIES VALUE, FORMATTED_VALUE, BACK_COLOR, FORE_COLOR, FONT_FLAGS",
        "ranges": {
         "column": {
          "chunkSize": 50,
          "thresholdPercentage": 0.2
         },
         "row": {
          "chunkSize": 2000,
          "thresholdPercentage": 0.1
         }
        },
        "serverUrl": ""
       },
       "containerKey": "pivot-table",
       "showTitleBar": false,
       "style": {}
      }
     }
    }
   },
   "outputs": [
    {
     "data": {
      "application/vnd.atoti.v0+json": {
       "cellSet": {
        "axes": [
         {
          "hierarchies": [
           {
            "dimension": "Measures",
            "hierarchy": "Measures"
           }
          ],
          "id": 0,
          "positions": [
           [
            {
             "captionPath": [
              "AmountUSD.SUM"
             ],
             "namePath": [
              "AmountUSD.SUM"
             ],
             "properties": {
              "DISPLAY_INFO": 0
             }
            }
           ],
           [
            {
             "captionPath": [
              "Count"
             ],
             "namePath": [
              "contributors.COUNT"
             ],
             "properties": {
              "DISPLAY_INFO": 0
             }
            }
           ]
          ]
         },
         {
          "hierarchies": [
           {
            "dimension": "Hierarchies",
            "hierarchy": "RiskType"
           },
           {
            "dimension": "Hierarchies",
            "hierarchy": "Bucket"
           }
          ],
          "id": 1,
          "positions": [
           [
            {
             "captionPath": [
              "AllMember"
             ],
             "namePath": [
              "AllMember"
             ],
             "properties": {
              "DISPLAY_INFO": 65537
             }
            },
            {
             "captionPath": [
              "AllMember"
             ],
             "namePath": [
              "AllMember"
             ],
             "properties": {
              "DISPLAY_INFO": 11
             }
            }
           ],
           [
            {
             "captionPath": [
              "AllMember",
              "Risk_Equity"
             ],
             "namePath": [
              "AllMember",
              "Risk_Equity"
             ],
             "properties": {
              "DISPLAY_INFO": 0
             }
            },
            {
             "captionPath": [
              "AllMember"
             ],
             "namePath": [
              "AllMember"
             ],
             "properties": {
              "DISPLAY_INFO": 65547
             }
            }
           ],
           [
            {
             "captionPath": [
              "AllMember",
              "Risk_Equity"
             ],
             "namePath": [
              "AllMember",
              "Risk_Equity"
             ],
             "properties": {
              "DISPLAY_INFO": 131072
             }
            },
            {
             "captionPath": [
              "AllMember",
              "1"
             ],
             "namePath": [
              "AllMember",
              "1"
             ],
             "properties": {
              "DISPLAY_INFO": 0
             }
            }
           ],
           [
            {
             "captionPath": [
              "AllMember",
              "Risk_Equity"
             ],
             "namePath": [
              "AllMember",
              "Risk_Equity"
             ],
             "properties": {
              "DISPLAY_INFO": 131072
             }
            },
            {
             "captionPath": [
              "AllMember",
              "10"
             ],
             "namePath": [
              "AllMember",
              "10"
             ],
             "properties": {
              "DISPLAY_INFO": 131072
             }
            }
           ],
           [
            {
             "captionPath": [
              "AllMember",
              "Risk_Equity"
             ],
             "namePath": [
              "AllMember",
              "Risk_Equity"
             ],
             "properties": {
              "DISPLAY_INFO": 131072
             }
            },
            {
             "captionPath": [
              "AllMember",
              "11"
             ],
             "namePath": [
              "AllMember",
              "11"
             ],
             "properties": {
              "DISPLAY_INFO": 131072
             }
            }
           ],
           [
            {
             "captionPath": [
              "AllMember",
              "Risk_Equity"
             ],
             "namePath": [
              "AllMember",
              "Risk_Equity"
             ],
             "properties": {
              "DISPLAY_INFO": 131072
             }
            },
            {
             "captionPath": [
              "AllMember",
              "12"
             ],
             "namePath": [
              "AllMember",
              "12"
             ],
             "properties": {
              "DISPLAY_INFO": 131072
             }
            }
           ],
           [
            {
             "captionPath": [
              "AllMember",
              "Risk_Equity"
             ],
             "namePath": [
              "AllMember",
              "Risk_Equity"
             ],
             "properties": {
              "DISPLAY_INFO": 131072
             }
            },
            {
             "captionPath": [
              "AllMember",
              "2"
             ],
             "namePath": [
              "AllMember",
              "2"
             ],
             "properties": {
              "DISPLAY_INFO": 131072
             }
            }
           ],
           [
            {
             "captionPath": [
              "AllMember",
              "Risk_Equity"
             ],
             "namePath": [
              "AllMember",
              "Risk_Equity"
             ],
             "properties": {
              "DISPLAY_INFO": 131072
             }
            },
            {
             "captionPath": [
              "AllMember",
              "3"
             ],
             "namePath": [
              "AllMember",
              "3"
             ],
             "properties": {
              "DISPLAY_INFO": 131072
             }
            }
           ],
           [
            {
             "captionPath": [
              "AllMember",
              "Risk_Equity"
             ],
             "namePath": [
              "AllMember",
              "Risk_Equity"
             ],
             "properties": {
              "DISPLAY_INFO": 131072
             }
            },
            {
             "captionPath": [
              "AllMember",
              "4"
             ],
             "namePath": [
              "AllMember",
              "4"
             ],
             "properties": {
              "DISPLAY_INFO": 131072
             }
            }
           ],
           [
            {
             "captionPath": [
              "AllMember",
              "Risk_Equity"
             ],
             "namePath": [
              "AllMember",
              "Risk_Equity"
             ],
             "properties": {
              "DISPLAY_INFO": 131072
             }
            },
            {
             "captionPath": [
              "AllMember",
              "5"
             ],
             "namePath": [
              "AllMember",
              "5"
             ],
             "properties": {
              "DISPLAY_INFO": 131072
             }
            }
           ],
           [
            {
             "captionPath": [
              "AllMember",
              "Risk_Equity"
             ],
             "namePath": [
              "AllMember",
              "Risk_Equity"
             ],
             "properties": {
              "DISPLAY_INFO": 131072
             }
            },
            {
             "captionPath": [
              "AllMember",
              "7"
             ],
             "namePath": [
              "AllMember",
              "7"
             ],
             "properties": {
              "DISPLAY_INFO": 131072
             }
            }
           ],
           [
            {
             "captionPath": [
              "AllMember",
              "Risk_Equity"
             ],
             "namePath": [
              "AllMember",
              "Risk_Equity"
             ],
             "properties": {
              "DISPLAY_INFO": 131072
             }
            },
            {
             "captionPath": [
              "AllMember",
              "8"
             ],
             "namePath": [
              "AllMember",
              "8"
             ],
             "properties": {
              "DISPLAY_INFO": 131072
             }
            }
           ],
           [
            {
             "captionPath": [
              "AllMember",
              "Risk_Equity"
             ],
             "namePath": [
              "AllMember",
              "Risk_Equity"
             ],
             "properties": {
              "DISPLAY_INFO": 131072
             }
            },
            {
             "captionPath": [
              "AllMember",
              "9"
             ],
             "namePath": [
              "AllMember",
              "9"
             ],
             "properties": {
              "DISPLAY_INFO": 131072
             }
            }
           ]
          ]
         }
        ],
        "cells": [
         {
          "formattedValue": "-13,094,165.64",
          "ordinal": 0,
          "properties": {
           "BACK_COLOR": null,
           "FONT_FLAGS": 0,
           "FORE_COLOR": null
          },
          "value": -13094165.63938193
         },
         {
          "formattedValue": "1,571",
          "ordinal": 1,
          "properties": {
           "BACK_COLOR": null,
           "FONT_FLAGS": 0,
           "FORE_COLOR": null
          },
          "value": 1571
         },
         {
          "formattedValue": "-13,094,165.64",
          "ordinal": 2,
          "properties": {
           "BACK_COLOR": null,
           "FONT_FLAGS": 0,
           "FORE_COLOR": null
          },
          "value": -13094165.63938193
         },
         {
          "formattedValue": "1,571",
          "ordinal": 3,
          "properties": {
           "BACK_COLOR": null,
           "FONT_FLAGS": 0,
           "FORE_COLOR": null
          },
          "value": 1571
         },
         {
          "formattedValue": "-3,651,938.54",
          "ordinal": 4,
          "properties": {
           "BACK_COLOR": null,
           "FONT_FLAGS": 0,
           "FORE_COLOR": null
          },
          "value": -3651938.54
         },
         {
          "formattedValue": "2",
          "ordinal": 5,
          "properties": {
           "BACK_COLOR": null,
           "FONT_FLAGS": 0,
           "FORE_COLOR": null
          },
          "value": 2
         },
         {
          "formattedValue": "-5,652,387.69",
          "ordinal": 6,
          "properties": {
           "BACK_COLOR": null,
           "FONT_FLAGS": 0,
           "FORE_COLOR": null
          },
          "value": -5652387.694999999
         },
         {
          "formattedValue": "8",
          "ordinal": 7,
          "properties": {
           "BACK_COLOR": null,
           "FONT_FLAGS": 0,
           "FORE_COLOR": null
          },
          "value": 8
         },
         {
          "formattedValue": "9,197,909.98",
          "ordinal": 8,
          "properties": {
           "BACK_COLOR": null,
           "FONT_FLAGS": 0,
           "FORE_COLOR": null
          },
          "value": 9197909.983
         },
         {
          "formattedValue": "8",
          "ordinal": 9,
          "properties": {
           "BACK_COLOR": null,
           "FONT_FLAGS": 0,
           "FORE_COLOR": null
          },
          "value": 8
         },
         {
          "formattedValue": "-1,913,082.01",
          "ordinal": 10,
          "properties": {
           "BACK_COLOR": null,
           "FONT_FLAGS": 0,
           "FORE_COLOR": null
          },
          "value": -1913082.01
         },
         {
          "formattedValue": "2",
          "ordinal": 11,
          "properties": {
           "BACK_COLOR": null,
           "FONT_FLAGS": 0,
           "FORE_COLOR": null
          },
          "value": 2
         },
         {
          "formattedValue": "-2,395,024.80",
          "ordinal": 12,
          "properties": {
           "BACK_COLOR": null,
           "FONT_FLAGS": 0,
           "FORE_COLOR": null
          },
          "value": -2395024.8003819296
         },
         {
          "formattedValue": "1,485",
          "ordinal": 13,
          "properties": {
           "BACK_COLOR": null,
           "FONT_FLAGS": 0,
           "FORE_COLOR": null
          },
          "value": 1485
         },
         {
          "formattedValue": "-12,887.44",
          "ordinal": 14,
          "properties": {
           "BACK_COLOR": null,
           "FONT_FLAGS": 0,
           "FORE_COLOR": null
          },
          "value": -12887.44
         },
         {
          "formattedValue": "2",
          "ordinal": 15,
          "properties": {
           "BACK_COLOR": null,
           "FONT_FLAGS": 0,
           "FORE_COLOR": null
          },
          "value": 2
         },
         {
          "formattedValue": "-1,030,083.30",
          "ordinal": 16,
          "properties": {
           "BACK_COLOR": null,
           "FONT_FLAGS": 0,
           "FORE_COLOR": null
          },
          "value": -1030083.2999999998
         },
         {
          "formattedValue": "4",
          "ordinal": 17,
          "properties": {
           "BACK_COLOR": null,
           "FONT_FLAGS": 0,
           "FORE_COLOR": null
          },
          "value": 4
         },
         {
          "formattedValue": "1,443,720.07",
          "ordinal": 18,
          "properties": {
           "BACK_COLOR": null,
           "FONT_FLAGS": 0,
           "FORE_COLOR": null
          },
          "value": 1443720.07
         },
         {
          "formattedValue": "18",
          "ordinal": 19,
          "properties": {
           "BACK_COLOR": null,
           "FONT_FLAGS": 0,
           "FORE_COLOR": null
          },
          "value": 18
         },
         {
          "formattedValue": "239,581.20",
          "ordinal": 20,
          "properties": {
           "BACK_COLOR": null,
           "FONT_FLAGS": 0,
           "FORE_COLOR": null
          },
          "value": 239581.20299999934
         },
         {
          "formattedValue": "14",
          "ordinal": 21,
          "properties": {
           "BACK_COLOR": null,
           "FONT_FLAGS": 0,
           "FORE_COLOR": null
          },
          "value": 14
         },
         {
          "formattedValue": "-10,423,086.77",
          "ordinal": 22,
          "properties": {
           "BACK_COLOR": null,
           "FONT_FLAGS": 0,
           "FORE_COLOR": null
          },
          "value": -10423086.77
         },
         {
          "formattedValue": "14",
          "ordinal": 23,
          "properties": {
           "BACK_COLOR": null,
           "FONT_FLAGS": 0,
           "FORE_COLOR": null
          },
          "value": 14
         },
         {
          "formattedValue": "1,103,113.66",
          "ordinal": 24,
          "properties": {
           "BACK_COLOR": null,
           "FONT_FLAGS": 0,
           "FORE_COLOR": null
          },
          "value": 1103113.6599999997
         },
         {
          "formattedValue": "14",
          "ordinal": 25,
          "properties": {
           "BACK_COLOR": null,
           "FONT_FLAGS": 0,
           "FORE_COLOR": null
          },
          "value": 14
         }
        ],
        "cube": "Risks",
        "defaultMembers": [
         {
          "captionPath": [
           "Count"
          ],
          "dimension": "Measures",
          "hierarchy": "Measures",
          "path": [
           "contributors.COUNT"
          ]
         },
         {
          "captionPath": [
           "Base"
          ],
          "dimension": "Epoch",
          "hierarchy": "Epoch",
          "path": [
           "Base"
          ]
         }
        ],
        "epoch": 1
       },
       "cube": "Risks",
       "error": null,
       "name": null,
       "session": "Unnamed"
      },
      "text/plain": [
       "Open the notebook in JupyterLab with the atoti extension installed and enabled to see this widget."
      ]
     },
     "metadata": {},
     "output_type": "display_data"
    }
   ],
   "source": [
    "cube.visualize()"
   ]
  },
  {
   "cell_type": "code",
   "execution_count": 6,
   "metadata": {},
   "outputs": [],
   "source": [
    "# Let's create a first measure - to count distinct Qualifiers\n",
    "m['Distinct Qualifiers Count'] = tt.agg.count_distinct(risks_store['Qualifier'])"
   ]
  },
  {
   "cell_type": "code",
   "execution_count": 7,
   "metadata": {
    "atoti": {
     "state": {
      "name": "",
      "type": "container",
      "value": {
       "body": {
        "configuration": {
         "tabular": {
          "addButtonFilter": "numeric",
          "cellRenderers": [
           "tree-layout"
          ],
          "columnsGroups": [
           {
            "captionProducer": "firstColumn",
            "cellFactory": "kpi-status",
            "selector": "kpi-status"
           },
           {
            "captionProducer": "firstColumn",
            "cellFactory": "lookup",
            "selector": "lookup"
           },
           {
            "captionProducer": "expiry",
            "cellFactory": "expiry",
            "selector": "kpi-expiry"
           },
           {
            "captionProducer": "columnMerge",
            "cellFactory": {
             "args": {},
             "key": "treeCells"
            },
            "selector": "member"
           }
          ],
          "defaultOptions": {},
          "expansion": {
           "automaticExpansion": true
          },
          "hideAddButton": true,
          "pinnedHeaderSelector": "member",
          "sortingMode": "non-breaking",
          "statisticsShown": true
         }
        },
        "contextValues": {},
        "mdx": "SELECT NON EMPTY [Measures].[Distinct Qualifiers Count] ON COLUMNS, NON EMPTY Hierarchize(DrilldownLevel([Hierarchies].[Bucket].[ALL].[AllMember])) ON ROWS FROM [Risks] CELL PROPERTIES VALUE, FORMATTED_VALUE, BACK_COLOR, FORE_COLOR, FONT_FLAGS",
        "ranges": {
         "column": {
          "chunkSize": 50,
          "thresholdPercentage": 0.2
         },
         "row": {
          "chunkSize": 2000,
          "thresholdPercentage": 0.1
         }
        },
        "serverUrl": ""
       },
       "containerKey": "pivot-table",
       "showTitleBar": false,
       "style": {}
      }
     }
    }
   },
   "outputs": [
    {
     "data": {
      "application/vnd.atoti.v0+json": {
       "cellSet": {
        "axes": [
         {
          "hierarchies": [
           {
            "dimension": "Measures",
            "hierarchy": "Measures"
           }
          ],
          "id": 0,
          "positions": [
           [
            {
             "captionPath": [
              "Distinct Qualifiers Count"
             ],
             "namePath": [
              "Distinct Qualifiers Count"
             ],
             "properties": {
              "DISPLAY_INFO": 0
             }
            }
           ]
          ]
         },
         {
          "hierarchies": [
           {
            "dimension": "Hierarchies",
            "hierarchy": "Bucket"
           }
          ],
          "id": 1,
          "positions": [
           [
            {
             "captionPath": [
              "AllMember"
             ],
             "namePath": [
              "AllMember"
             ],
             "properties": {
              "DISPLAY_INFO": 65547
             }
            }
           ],
           [
            {
             "captionPath": [
              "AllMember",
              "1"
             ],
             "namePath": [
              "AllMember",
              "1"
             ],
             "properties": {
              "DISPLAY_INFO": 0
             }
            }
           ],
           [
            {
             "captionPath": [
              "AllMember",
              "10"
             ],
             "namePath": [
              "AllMember",
              "10"
             ],
             "properties": {
              "DISPLAY_INFO": 131072
             }
            }
           ],
           [
            {
             "captionPath": [
              "AllMember",
              "11"
             ],
             "namePath": [
              "AllMember",
              "11"
             ],
             "properties": {
              "DISPLAY_INFO": 131072
             }
            }
           ],
           [
            {
             "captionPath": [
              "AllMember",
              "12"
             ],
             "namePath": [
              "AllMember",
              "12"
             ],
             "properties": {
              "DISPLAY_INFO": 131072
             }
            }
           ],
           [
            {
             "captionPath": [
              "AllMember",
              "2"
             ],
             "namePath": [
              "AllMember",
              "2"
             ],
             "properties": {
              "DISPLAY_INFO": 131072
             }
            }
           ],
           [
            {
             "captionPath": [
              "AllMember",
              "3"
             ],
             "namePath": [
              "AllMember",
              "3"
             ],
             "properties": {
              "DISPLAY_INFO": 131072
             }
            }
           ],
           [
            {
             "captionPath": [
              "AllMember",
              "4"
             ],
             "namePath": [
              "AllMember",
              "4"
             ],
             "properties": {
              "DISPLAY_INFO": 131072
             }
            }
           ],
           [
            {
             "captionPath": [
              "AllMember",
              "5"
             ],
             "namePath": [
              "AllMember",
              "5"
             ],
             "properties": {
              "DISPLAY_INFO": 131072
             }
            }
           ],
           [
            {
             "captionPath": [
              "AllMember",
              "7"
             ],
             "namePath": [
              "AllMember",
              "7"
             ],
             "properties": {
              "DISPLAY_INFO": 131072
             }
            }
           ],
           [
            {
             "captionPath": [
              "AllMember",
              "8"
             ],
             "namePath": [
              "AllMember",
              "8"
             ],
             "properties": {
              "DISPLAY_INFO": 131072
             }
            }
           ],
           [
            {
             "captionPath": [
              "AllMember",
              "9"
             ],
             "namePath": [
              "AllMember",
              "9"
             ],
             "properties": {
              "DISPLAY_INFO": 131072
             }
            }
           ]
          ]
         }
        ],
        "cells": [
         {
          "formattedValue": "1,044",
          "ordinal": 0,
          "properties": {
           "BACK_COLOR": null,
           "FONT_FLAGS": 0,
           "FORE_COLOR": null
          },
          "value": 1044
         },
         {
          "formattedValue": "1",
          "ordinal": 1,
          "properties": {
           "BACK_COLOR": null,
           "FONT_FLAGS": 0,
           "FORE_COLOR": null
          },
          "value": 1
         },
         {
          "formattedValue": "4",
          "ordinal": 2,
          "properties": {
           "BACK_COLOR": null,
           "FONT_FLAGS": 0,
           "FORE_COLOR": null
          },
          "value": 4
         },
         {
          "formattedValue": "4",
          "ordinal": 3,
          "properties": {
           "BACK_COLOR": null,
           "FONT_FLAGS": 0,
           "FORE_COLOR": null
          },
          "value": 4
         },
         {
          "formattedValue": "1",
          "ordinal": 4,
          "properties": {
           "BACK_COLOR": null,
           "FONT_FLAGS": 0,
           "FORE_COLOR": null
          },
          "value": 1
         },
         {
          "formattedValue": "1,000",
          "ordinal": 5,
          "properties": {
           "BACK_COLOR": null,
           "FONT_FLAGS": 0,
           "FORE_COLOR": null
          },
          "value": 1000
         },
         {
          "formattedValue": "1",
          "ordinal": 6,
          "properties": {
           "BACK_COLOR": null,
           "FONT_FLAGS": 0,
           "FORE_COLOR": null
          },
          "value": 1
         },
         {
          "formattedValue": "2",
          "ordinal": 7,
          "properties": {
           "BACK_COLOR": null,
           "FONT_FLAGS": 0,
           "FORE_COLOR": null
          },
          "value": 2
         },
         {
          "formattedValue": "9",
          "ordinal": 8,
          "properties": {
           "BACK_COLOR": null,
           "FONT_FLAGS": 0,
           "FORE_COLOR": null
          },
          "value": 9
         },
         {
          "formattedValue": "8",
          "ordinal": 9,
          "properties": {
           "BACK_COLOR": null,
           "FONT_FLAGS": 0,
           "FORE_COLOR": null
          },
          "value": 8
         },
         {
          "formattedValue": "7",
          "ordinal": 10,
          "properties": {
           "BACK_COLOR": null,
           "FONT_FLAGS": 0,
           "FORE_COLOR": null
          },
          "value": 7
         },
         {
          "formattedValue": "7",
          "ordinal": 11,
          "properties": {
           "BACK_COLOR": null,
           "FONT_FLAGS": 0,
           "FORE_COLOR": null
          },
          "value": 7
         }
        ],
        "cube": "Risks",
        "defaultMembers": [
         {
          "captionPath": [
           "Count"
          ],
          "dimension": "Measures",
          "hierarchy": "Measures",
          "path": [
           "contributors.COUNT"
          ]
         },
         {
          "captionPath": [
           "Base"
          ],
          "dimension": "Epoch",
          "hierarchy": "Epoch",
          "path": [
           "Base"
          ]
         }
        ],
        "epoch": 1
       },
       "cube": "Risks",
       "error": null,
       "name": null,
       "session": "Unnamed"
      },
      "text/plain": [
       "Open the notebook in JupyterLab with the atoti extension installed and enabled to see this widget."
      ]
     },
     "metadata": {},
     "output_type": "display_data"
    }
   ],
   "source": [
    "cube.visualize()"
   ]
  },
  {
   "cell_type": "markdown",
   "metadata": {},
   "source": [
    "# Risk weights datastore"
   ]
  },
  {
   "cell_type": "code",
   "execution_count": 8,
   "metadata": {},
   "outputs": [],
   "source": [
    "# the risk weights data store is created from a csv:\n",
    "eq_delta_risk_weights_store = session.read_csv(\n",
    "    \"s3://data.atoti.io/notebooks/sbm/parameters/eq_delta_rw.csv\",\n",
    "    keys=[\"Bucket\", \"Label2\"],\n",
    "    types={\"Bucket\": tt.types.STRING},\n",
    "    store_name=\"RiskWeights\",\n",
    ")\n",
    "\n",
    "# risks store is joined with the risk weights store\n",
    "risks_store.join(eq_delta_risk_weights_store)"
   ]
  },
  {
   "cell_type": "code",
   "execution_count": 9,
   "metadata": {},
   "outputs": [
    {
     "data": {
      "text/html": [
       "<div>\n",
       "<style scoped>\n",
       "    .dataframe tbody tr th:only-of-type {\n",
       "        vertical-align: middle;\n",
       "    }\n",
       "\n",
       "    .dataframe tbody tr th {\n",
       "        vertical-align: top;\n",
       "    }\n",
       "\n",
       "    .dataframe thead th {\n",
       "        text-align: right;\n",
       "    }\n",
       "</style>\n",
       "<table border=\"1\" class=\"dataframe\">\n",
       "  <thead>\n",
       "    <tr style=\"text-align: right;\">\n",
       "      <th></th>\n",
       "      <th></th>\n",
       "      <th>RW</th>\n",
       "    </tr>\n",
       "    <tr>\n",
       "      <th>Bucket</th>\n",
       "      <th>Label2</th>\n",
       "      <th></th>\n",
       "    </tr>\n",
       "  </thead>\n",
       "  <tbody>\n",
       "    <tr>\n",
       "      <th>1</th>\n",
       "      <th>SPOT</th>\n",
       "      <td>0.55</td>\n",
       "    </tr>\n",
       "    <tr>\n",
       "      <th>2</th>\n",
       "      <th>SPOT</th>\n",
       "      <td>0.60</td>\n",
       "    </tr>\n",
       "    <tr>\n",
       "      <th>3</th>\n",
       "      <th>SPOT</th>\n",
       "      <td>0.45</td>\n",
       "    </tr>\n",
       "    <tr>\n",
       "      <th>4</th>\n",
       "      <th>SPOT</th>\n",
       "      <td>0.55</td>\n",
       "    </tr>\n",
       "    <tr>\n",
       "      <th>5</th>\n",
       "      <th>SPOT</th>\n",
       "      <td>0.30</td>\n",
       "    </tr>\n",
       "  </tbody>\n",
       "</table>\n",
       "</div>"
      ],
      "text/plain": [
       "                 RW\n",
       "Bucket Label2      \n",
       "1      SPOT    0.55\n",
       "2      SPOT    0.60\n",
       "3      SPOT    0.45\n",
       "4      SPOT    0.55\n",
       "5      SPOT    0.30"
      ]
     },
     "execution_count": 9,
     "metadata": {},
     "output_type": "execute_result"
    }
   ],
   "source": [
    "eq_delta_risk_weights_store.head(5)"
   ]
  },
  {
   "cell_type": "markdown",
   "metadata": {},
   "source": [
    "The risk weights are now available in the cube as a measure.\n",
    "The measure is defined for Bucket and Label2 - these hierarchies need to be present into the view."
   ]
  },
  {
   "cell_type": "code",
   "execution_count": 10,
   "metadata": {
    "atoti": {
     "state": {
      "name": "",
      "type": "container",
      "value": {
       "body": {
        "configuration": {
         "tabular": {
          "addButtonFilter": "numeric",
          "columnsGroups": [
           {
            "captionProducer": "firstColumn",
            "cellFactory": "kpi-status",
            "selector": "kpi-status"
           },
           {
            "captionProducer": "firstColumn",
            "cellFactory": "lookup",
            "selector": "lookup"
           },
           {
            "captionProducer": "expiry",
            "cellFactory": "expiry",
            "selector": "kpi-expiry"
           },
           {
            "captionProducer": "columnMerge",
            "cellFactory": {
             "args": {
              "automaticExpansion": true
             },
             "key": "treeCells"
            },
            "selector": "member"
           }
          ],
          "defaultOptions": {},
          "hideAddButton": true,
          "lineNumbers": true,
          "pinnedHeaderSelector": "member",
          "sortingMode": "non-breaking",
          "statisticsShown": true
         }
        },
        "contextValues": {},
        "mdx": "SELECT NON EMPTY [Measures].[RW.VALUE] ON COLUMNS, NON EMPTY Crossjoin(Hierarchize(DrilldownLevel([Hierarchies].[Bucket].[ALL].[AllMember])), Hierarchize(DrilldownLevel([Hierarchies].[Label2].[ALL].[AllMember]))) ON ROWS FROM [Risks] CELL PROPERTIES VALUE, FORMATTED_VALUE, BACK_COLOR, FORE_COLOR, FONT_FLAGS",
        "ranges": {
         "column": {
          "chunkSize": 50,
          "thresholdPercentage": 0.2
         },
         "row": {
          "chunkSize": 2000,
          "thresholdPercentage": 0.1
         }
        },
        "serverUrl": "",
        "updateMode": "once"
       },
       "containerKey": "pivot-table",
       "showTitleBar": false,
       "style": {}
      }
     }
    }
   },
   "outputs": [
    {
     "data": {
      "application/vnd.atoti.v0+json": {
       "cellSet": {
        "axes": [
         {
          "hierarchies": [
           {
            "dimension": "Measures",
            "hierarchy": "Measures"
           }
          ],
          "id": 0,
          "positions": [
           [
            {
             "captionPath": [
              "RW.VALUE"
             ],
             "namePath": [
              "RW.VALUE"
             ],
             "properties": {
              "DISPLAY_INFO": 0
             }
            }
           ]
          ]
         },
         {
          "hierarchies": [
           {
            "dimension": "Hierarchies",
            "hierarchy": "Bucket"
           },
           {
            "dimension": "Hierarchies",
            "hierarchy": "Label2"
           }
          ],
          "id": 1,
          "positions": [
           [
            {
             "captionPath": [
              "AllMember",
              "1"
             ],
             "namePath": [
              "AllMember",
              "1"
             ],
             "properties": {
              "DISPLAY_INFO": 0
             }
            },
            {
             "captionPath": [
              "AllMember",
              "REPO"
             ],
             "namePath": [
              "AllMember",
              "REPO"
             ],
             "properties": {
              "DISPLAY_INFO": 0
             }
            }
           ],
           [
            {
             "captionPath": [
              "AllMember",
              "1"
             ],
             "namePath": [
              "AllMember",
              "1"
             ],
             "properties": {
              "DISPLAY_INFO": 131072
             }
            },
            {
             "captionPath": [
              "AllMember",
              "SPOT"
             ],
             "namePath": [
              "AllMember",
              "SPOT"
             ],
             "properties": {
              "DISPLAY_INFO": 131072
             }
            }
           ],
           [
            {
             "captionPath": [
              "AllMember",
              "10"
             ],
             "namePath": [
              "AllMember",
              "10"
             ],
             "properties": {
              "DISPLAY_INFO": 131072
             }
            },
            {
             "captionPath": [
              "AllMember",
              "REPO"
             ],
             "namePath": [
              "AllMember",
              "REPO"
             ],
             "properties": {
              "DISPLAY_INFO": 131072
             }
            }
           ],
           [
            {
             "captionPath": [
              "AllMember",
              "10"
             ],
             "namePath": [
              "AllMember",
              "10"
             ],
             "properties": {
              "DISPLAY_INFO": 131072
             }
            },
            {
             "captionPath": [
              "AllMember",
              "SPOT"
             ],
             "namePath": [
              "AllMember",
              "SPOT"
             ],
             "properties": {
              "DISPLAY_INFO": 131072
             }
            }
           ],
           [
            {
             "captionPath": [
              "AllMember",
              "11"
             ],
             "namePath": [
              "AllMember",
              "11"
             ],
             "properties": {
              "DISPLAY_INFO": 131072
             }
            },
            {
             "captionPath": [
              "AllMember",
              "REPO"
             ],
             "namePath": [
              "AllMember",
              "REPO"
             ],
             "properties": {
              "DISPLAY_INFO": 131072
             }
            }
           ],
           [
            {
             "captionPath": [
              "AllMember",
              "11"
             ],
             "namePath": [
              "AllMember",
              "11"
             ],
             "properties": {
              "DISPLAY_INFO": 131072
             }
            },
            {
             "captionPath": [
              "AllMember",
              "SPOT"
             ],
             "namePath": [
              "AllMember",
              "SPOT"
             ],
             "properties": {
              "DISPLAY_INFO": 131072
             }
            }
           ],
           [
            {
             "captionPath": [
              "AllMember",
              "12"
             ],
             "namePath": [
              "AllMember",
              "12"
             ],
             "properties": {
              "DISPLAY_INFO": 131072
             }
            },
            {
             "captionPath": [
              "AllMember",
              "REPO"
             ],
             "namePath": [
              "AllMember",
              "REPO"
             ],
             "properties": {
              "DISPLAY_INFO": 131072
             }
            }
           ],
           [
            {
             "captionPath": [
              "AllMember",
              "12"
             ],
             "namePath": [
              "AllMember",
              "12"
             ],
             "properties": {
              "DISPLAY_INFO": 131072
             }
            },
            {
             "captionPath": [
              "AllMember",
              "SPOT"
             ],
             "namePath": [
              "AllMember",
              "SPOT"
             ],
             "properties": {
              "DISPLAY_INFO": 131072
             }
            }
           ],
           [
            {
             "captionPath": [
              "AllMember",
              "2"
             ],
             "namePath": [
              "AllMember",
              "2"
             ],
             "properties": {
              "DISPLAY_INFO": 131072
             }
            },
            {
             "captionPath": [
              "AllMember",
              "REPO"
             ],
             "namePath": [
              "AllMember",
              "REPO"
             ],
             "properties": {
              "DISPLAY_INFO": 131072
             }
            }
           ],
           [
            {
             "captionPath": [
              "AllMember",
              "2"
             ],
             "namePath": [
              "AllMember",
              "2"
             ],
             "properties": {
              "DISPLAY_INFO": 131072
             }
            },
            {
             "captionPath": [
              "AllMember",
              "SPOT"
             ],
             "namePath": [
              "AllMember",
              "SPOT"
             ],
             "properties": {
              "DISPLAY_INFO": 131072
             }
            }
           ],
           [
            {
             "captionPath": [
              "AllMember",
              "3"
             ],
             "namePath": [
              "AllMember",
              "3"
             ],
             "properties": {
              "DISPLAY_INFO": 131072
             }
            },
            {
             "captionPath": [
              "AllMember",
              "REPO"
             ],
             "namePath": [
              "AllMember",
              "REPO"
             ],
             "properties": {
              "DISPLAY_INFO": 131072
             }
            }
           ],
           [
            {
             "captionPath": [
              "AllMember",
              "3"
             ],
             "namePath": [
              "AllMember",
              "3"
             ],
             "properties": {
              "DISPLAY_INFO": 131072
             }
            },
            {
             "captionPath": [
              "AllMember",
              "SPOT"
             ],
             "namePath": [
              "AllMember",
              "SPOT"
             ],
             "properties": {
              "DISPLAY_INFO": 131072
             }
            }
           ],
           [
            {
             "captionPath": [
              "AllMember",
              "4"
             ],
             "namePath": [
              "AllMember",
              "4"
             ],
             "properties": {
              "DISPLAY_INFO": 131072
             }
            },
            {
             "captionPath": [
              "AllMember",
              "REPO"
             ],
             "namePath": [
              "AllMember",
              "REPO"
             ],
             "properties": {
              "DISPLAY_INFO": 131072
             }
            }
           ],
           [
            {
             "captionPath": [
              "AllMember",
              "4"
             ],
             "namePath": [
              "AllMember",
              "4"
             ],
             "properties": {
              "DISPLAY_INFO": 131072
             }
            },
            {
             "captionPath": [
              "AllMember",
              "SPOT"
             ],
             "namePath": [
              "AllMember",
              "SPOT"
             ],
             "properties": {
              "DISPLAY_INFO": 131072
             }
            }
           ],
           [
            {
             "captionPath": [
              "AllMember",
              "5"
             ],
             "namePath": [
              "AllMember",
              "5"
             ],
             "properties": {
              "DISPLAY_INFO": 131072
             }
            },
            {
             "captionPath": [
              "AllMember",
              "REPO"
             ],
             "namePath": [
              "AllMember",
              "REPO"
             ],
             "properties": {
              "DISPLAY_INFO": 131072
             }
            }
           ],
           [
            {
             "captionPath": [
              "AllMember",
              "5"
             ],
             "namePath": [
              "AllMember",
              "5"
             ],
             "properties": {
              "DISPLAY_INFO": 131072
             }
            },
            {
             "captionPath": [
              "AllMember",
              "SPOT"
             ],
             "namePath": [
              "AllMember",
              "SPOT"
             ],
             "properties": {
              "DISPLAY_INFO": 131072
             }
            }
           ],
           [
            {
             "captionPath": [
              "AllMember",
              "7"
             ],
             "namePath": [
              "AllMember",
              "7"
             ],
             "properties": {
              "DISPLAY_INFO": 131072
             }
            },
            {
             "captionPath": [
              "AllMember",
              "REPO"
             ],
             "namePath": [
              "AllMember",
              "REPO"
             ],
             "properties": {
              "DISPLAY_INFO": 131072
             }
            }
           ],
           [
            {
             "captionPath": [
              "AllMember",
              "7"
             ],
             "namePath": [
              "AllMember",
              "7"
             ],
             "properties": {
              "DISPLAY_INFO": 131072
             }
            },
            {
             "captionPath": [
              "AllMember",
              "SPOT"
             ],
             "namePath": [
              "AllMember",
              "SPOT"
             ],
             "properties": {
              "DISPLAY_INFO": 131072
             }
            }
           ],
           [
            {
             "captionPath": [
              "AllMember",
              "8"
             ],
             "namePath": [
              "AllMember",
              "8"
             ],
             "properties": {
              "DISPLAY_INFO": 131072
             }
            },
            {
             "captionPath": [
              "AllMember",
              "REPO"
             ],
             "namePath": [
              "AllMember",
              "REPO"
             ],
             "properties": {
              "DISPLAY_INFO": 131072
             }
            }
           ],
           [
            {
             "captionPath": [
              "AllMember",
              "8"
             ],
             "namePath": [
              "AllMember",
              "8"
             ],
             "properties": {
              "DISPLAY_INFO": 131072
             }
            },
            {
             "captionPath": [
              "AllMember",
              "SPOT"
             ],
             "namePath": [
              "AllMember",
              "SPOT"
             ],
             "properties": {
              "DISPLAY_INFO": 131072
             }
            }
           ],
           [
            {
             "captionPath": [
              "AllMember",
              "9"
             ],
             "namePath": [
              "AllMember",
              "9"
             ],
             "properties": {
              "DISPLAY_INFO": 131072
             }
            },
            {
             "captionPath": [
              "AllMember",
              "REPO"
             ],
             "namePath": [
              "AllMember",
              "REPO"
             ],
             "properties": {
              "DISPLAY_INFO": 131072
             }
            }
           ],
           [
            {
             "captionPath": [
              "AllMember",
              "9"
             ],
             "namePath": [
              "AllMember",
              "9"
             ],
             "properties": {
              "DISPLAY_INFO": 131072
             }
            },
            {
             "captionPath": [
              "AllMember",
              "SPOT"
             ],
             "namePath": [
              "AllMember",
              "SPOT"
             ],
             "properties": {
              "DISPLAY_INFO": 131072
             }
            }
           ]
          ]
         }
        ],
        "cells": [
         {
          "formattedValue": ".01",
          "ordinal": 0,
          "properties": {
           "BACK_COLOR": null,
           "FONT_FLAGS": 0,
           "FORE_COLOR": null
          },
          "value": 0.0055
         },
         {
          "formattedValue": ".55",
          "ordinal": 1,
          "properties": {
           "BACK_COLOR": null,
           "FONT_FLAGS": 0,
           "FORE_COLOR": null
          },
          "value": 0.55
         },
         {
          "formattedValue": ".01",
          "ordinal": 2,
          "properties": {
           "BACK_COLOR": null,
           "FONT_FLAGS": 0,
           "FORE_COLOR": null
          },
          "value": 0.005
         },
         {
          "formattedValue": ".50",
          "ordinal": 3,
          "properties": {
           "BACK_COLOR": null,
           "FONT_FLAGS": 0,
           "FORE_COLOR": null
          },
          "value": 0.5
         },
         {
          "formattedValue": ".01",
          "ordinal": 4,
          "properties": {
           "BACK_COLOR": null,
           "FONT_FLAGS": 0,
           "FORE_COLOR": null
          },
          "value": 0.007
         },
         {
          "formattedValue": ".70",
          "ordinal": 5,
          "properties": {
           "BACK_COLOR": null,
           "FONT_FLAGS": 0,
           "FORE_COLOR": null
          },
          "value": 0.7
         },
         {
          "formattedValue": ".00",
          "ordinal": 6,
          "properties": {
           "BACK_COLOR": null,
           "FONT_FLAGS": 0,
           "FORE_COLOR": null
          },
          "value": 0.0015
         },
         {
          "formattedValue": ".15",
          "ordinal": 7,
          "properties": {
           "BACK_COLOR": null,
           "FONT_FLAGS": 0,
           "FORE_COLOR": null
          },
          "value": 0.15
         },
         {
          "formattedValue": ".01",
          "ordinal": 8,
          "properties": {
           "BACK_COLOR": null,
           "FONT_FLAGS": 0,
           "FORE_COLOR": null
          },
          "value": 0.006
         },
         {
          "formattedValue": ".60",
          "ordinal": 9,
          "properties": {
           "BACK_COLOR": null,
           "FONT_FLAGS": 0,
           "FORE_COLOR": null
          },
          "value": 0.6
         },
         {
          "formattedValue": ".00",
          "ordinal": 10,
          "properties": {
           "BACK_COLOR": null,
           "FONT_FLAGS": 0,
           "FORE_COLOR": null
          },
          "value": 0.0045
         },
         {
          "formattedValue": ".45",
          "ordinal": 11,
          "properties": {
           "BACK_COLOR": null,
           "FONT_FLAGS": 0,
           "FORE_COLOR": null
          },
          "value": 0.45
         },
         {
          "formattedValue": ".01",
          "ordinal": 12,
          "properties": {
           "BACK_COLOR": null,
           "FONT_FLAGS": 0,
           "FORE_COLOR": null
          },
          "value": 0.0055
         },
         {
          "formattedValue": ".55",
          "ordinal": 13,
          "properties": {
           "BACK_COLOR": null,
           "FONT_FLAGS": 0,
           "FORE_COLOR": null
          },
          "value": 0.55
         },
         {
          "formattedValue": ".00",
          "ordinal": 14,
          "properties": {
           "BACK_COLOR": null,
           "FONT_FLAGS": 0,
           "FORE_COLOR": null
          },
          "value": 0.003
         },
         {
          "formattedValue": ".30",
          "ordinal": 15,
          "properties": {
           "BACK_COLOR": null,
           "FONT_FLAGS": 0,
           "FORE_COLOR": null
          },
          "value": 0.3
         },
         {
          "formattedValue": ".00",
          "ordinal": 16,
          "properties": {
           "BACK_COLOR": null,
           "FONT_FLAGS": 0,
           "FORE_COLOR": null
          },
          "value": 0.004
         },
         {
          "formattedValue": ".40",
          "ordinal": 17,
          "properties": {
           "BACK_COLOR": null,
           "FONT_FLAGS": 0,
           "FORE_COLOR": null
          },
          "value": 0.4
         },
         {
          "formattedValue": ".01",
          "ordinal": 18,
          "properties": {
           "BACK_COLOR": null,
           "FONT_FLAGS": 0,
           "FORE_COLOR": null
          },
          "value": 0.005
         },
         {
          "formattedValue": ".50",
          "ordinal": 19,
          "properties": {
           "BACK_COLOR": null,
           "FONT_FLAGS": 0,
           "FORE_COLOR": null
          },
          "value": 0.5
         },
         {
          "formattedValue": ".01",
          "ordinal": 20,
          "properties": {
           "BACK_COLOR": null,
           "FONT_FLAGS": 0,
           "FORE_COLOR": null
          },
          "value": 0.007
         },
         {
          "formattedValue": ".70",
          "ordinal": 21,
          "properties": {
           "BACK_COLOR": null,
           "FONT_FLAGS": 0,
           "FORE_COLOR": null
          },
          "value": 0.7
         }
        ],
        "cube": "Risks",
        "defaultMembers": [
         {
          "captionPath": [
           "Count"
          ],
          "dimension": "Measures",
          "hierarchy": "Measures",
          "path": [
           "contributors.COUNT"
          ]
         },
         {
          "captionPath": [
           "Base"
          ],
          "dimension": "Epoch",
          "hierarchy": "Epoch",
          "path": [
           "Base"
          ]
         }
        ],
        "epoch": 2
       },
       "cube": "Risks",
       "error": null,
       "name": null,
       "session": "Unnamed"
      },
      "text/plain": [
       "Open the notebook in JupyterLab with the atoti extension installed and enabled to see this widget."
      ]
     },
     "metadata": {},
     "output_type": "display_data"
    }
   ],
   "source": [
    "cube.visualize()"
   ]
  },
  {
   "cell_type": "code",
   "execution_count": 11,
   "metadata": {},
   "outputs": [],
   "source": [
    "# Let's put it into a folder and format as percentages:\n",
    "m[\"RW.VALUE\"].folder = \"Parameters\"\n",
    "m[\"RW.VALUE\"].formatter = \"DOUBLE[#%]\""
   ]
  },
  {
   "cell_type": "code",
   "execution_count": 12,
   "metadata": {
    "atoti": {
     "state": {
      "name": "",
      "type": "container",
      "value": {
       "body": {
        "configuration": {
         "tabular": {
          "addButtonFilter": "numeric",
          "columnsGroups": [
           {
            "captionProducer": "firstColumn",
            "cellFactory": "kpi-status",
            "selector": "kpi-status"
           },
           {
            "captionProducer": "firstColumn",
            "cellFactory": "lookup",
            "selector": "lookup"
           },
           {
            "captionProducer": "expiry",
            "cellFactory": "expiry",
            "selector": "kpi-expiry"
           },
           {
            "captionProducer": "columnMerge",
            "cellFactory": {
             "args": {
              "automaticExpansion": true
             },
             "key": "treeCells"
            },
            "selector": "member"
           }
          ],
          "defaultOptions": {},
          "hideAddButton": true,
          "lineNumbers": true,
          "pinnedHeaderSelector": "member",
          "sortingMode": "non-breaking",
          "statisticsShown": true
         }
        },
        "contextValues": {},
        "mdx": "SELECT NON EMPTY [Measures].[RW.VALUE] ON COLUMNS, NON EMPTY Crossjoin(Hierarchize(DrilldownLevel([Hierarchies].[Bucket].[ALL].[AllMember])), Hierarchize(DrilldownLevel([Hierarchies].[Label2].[ALL].[AllMember]))) ON ROWS FROM [Risks] CELL PROPERTIES VALUE, FORMATTED_VALUE, BACK_COLOR, FORE_COLOR, FONT_FLAGS",
        "ranges": {
         "column": {
          "chunkSize": 50,
          "thresholdPercentage": 0.2
         },
         "row": {
          "chunkSize": 2000,
          "thresholdPercentage": 0.1
         }
        },
        "serverUrl": "",
        "updateMode": "once"
       },
       "containerKey": "pivot-table",
       "showTitleBar": false,
       "style": {}
      }
     }
    }
   },
   "outputs": [
    {
     "data": {
      "application/vnd.atoti.v0+json": {
       "cellSet": {
        "axes": [
         {
          "hierarchies": [
           {
            "dimension": "Measures",
            "hierarchy": "Measures"
           }
          ],
          "id": 0,
          "positions": [
           [
            {
             "captionPath": [
              "RW.VALUE"
             ],
             "namePath": [
              "RW.VALUE"
             ],
             "properties": {
              "DISPLAY_INFO": 0
             }
            }
           ]
          ]
         },
         {
          "hierarchies": [
           {
            "dimension": "Hierarchies",
            "hierarchy": "Bucket"
           },
           {
            "dimension": "Hierarchies",
            "hierarchy": "Label2"
           }
          ],
          "id": 1,
          "positions": [
           [
            {
             "captionPath": [
              "AllMember",
              "1"
             ],
             "namePath": [
              "AllMember",
              "1"
             ],
             "properties": {
              "DISPLAY_INFO": 0
             }
            },
            {
             "captionPath": [
              "AllMember",
              "REPO"
             ],
             "namePath": [
              "AllMember",
              "REPO"
             ],
             "properties": {
              "DISPLAY_INFO": 0
             }
            }
           ],
           [
            {
             "captionPath": [
              "AllMember",
              "1"
             ],
             "namePath": [
              "AllMember",
              "1"
             ],
             "properties": {
              "DISPLAY_INFO": 131072
             }
            },
            {
             "captionPath": [
              "AllMember",
              "SPOT"
             ],
             "namePath": [
              "AllMember",
              "SPOT"
             ],
             "properties": {
              "DISPLAY_INFO": 131072
             }
            }
           ],
           [
            {
             "captionPath": [
              "AllMember",
              "10"
             ],
             "namePath": [
              "AllMember",
              "10"
             ],
             "properties": {
              "DISPLAY_INFO": 131072
             }
            },
            {
             "captionPath": [
              "AllMember",
              "REPO"
             ],
             "namePath": [
              "AllMember",
              "REPO"
             ],
             "properties": {
              "DISPLAY_INFO": 131072
             }
            }
           ],
           [
            {
             "captionPath": [
              "AllMember",
              "10"
             ],
             "namePath": [
              "AllMember",
              "10"
             ],
             "properties": {
              "DISPLAY_INFO": 131072
             }
            },
            {
             "captionPath": [
              "AllMember",
              "SPOT"
             ],
             "namePath": [
              "AllMember",
              "SPOT"
             ],
             "properties": {
              "DISPLAY_INFO": 131072
             }
            }
           ],
           [
            {
             "captionPath": [
              "AllMember",
              "11"
             ],
             "namePath": [
              "AllMember",
              "11"
             ],
             "properties": {
              "DISPLAY_INFO": 131072
             }
            },
            {
             "captionPath": [
              "AllMember",
              "REPO"
             ],
             "namePath": [
              "AllMember",
              "REPO"
             ],
             "properties": {
              "DISPLAY_INFO": 131072
             }
            }
           ],
           [
            {
             "captionPath": [
              "AllMember",
              "11"
             ],
             "namePath": [
              "AllMember",
              "11"
             ],
             "properties": {
              "DISPLAY_INFO": 131072
             }
            },
            {
             "captionPath": [
              "AllMember",
              "SPOT"
             ],
             "namePath": [
              "AllMember",
              "SPOT"
             ],
             "properties": {
              "DISPLAY_INFO": 131072
             }
            }
           ],
           [
            {
             "captionPath": [
              "AllMember",
              "12"
             ],
             "namePath": [
              "AllMember",
              "12"
             ],
             "properties": {
              "DISPLAY_INFO": 131072
             }
            },
            {
             "captionPath": [
              "AllMember",
              "REPO"
             ],
             "namePath": [
              "AllMember",
              "REPO"
             ],
             "properties": {
              "DISPLAY_INFO": 131072
             }
            }
           ],
           [
            {
             "captionPath": [
              "AllMember",
              "12"
             ],
             "namePath": [
              "AllMember",
              "12"
             ],
             "properties": {
              "DISPLAY_INFO": 131072
             }
            },
            {
             "captionPath": [
              "AllMember",
              "SPOT"
             ],
             "namePath": [
              "AllMember",
              "SPOT"
             ],
             "properties": {
              "DISPLAY_INFO": 131072
             }
            }
           ],
           [
            {
             "captionPath": [
              "AllMember",
              "2"
             ],
             "namePath": [
              "AllMember",
              "2"
             ],
             "properties": {
              "DISPLAY_INFO": 131072
             }
            },
            {
             "captionPath": [
              "AllMember",
              "REPO"
             ],
             "namePath": [
              "AllMember",
              "REPO"
             ],
             "properties": {
              "DISPLAY_INFO": 131072
             }
            }
           ],
           [
            {
             "captionPath": [
              "AllMember",
              "2"
             ],
             "namePath": [
              "AllMember",
              "2"
             ],
             "properties": {
              "DISPLAY_INFO": 131072
             }
            },
            {
             "captionPath": [
              "AllMember",
              "SPOT"
             ],
             "namePath": [
              "AllMember",
              "SPOT"
             ],
             "properties": {
              "DISPLAY_INFO": 131072
             }
            }
           ],
           [
            {
             "captionPath": [
              "AllMember",
              "3"
             ],
             "namePath": [
              "AllMember",
              "3"
             ],
             "properties": {
              "DISPLAY_INFO": 131072
             }
            },
            {
             "captionPath": [
              "AllMember",
              "REPO"
             ],
             "namePath": [
              "AllMember",
              "REPO"
             ],
             "properties": {
              "DISPLAY_INFO": 131072
             }
            }
           ],
           [
            {
             "captionPath": [
              "AllMember",
              "3"
             ],
             "namePath": [
              "AllMember",
              "3"
             ],
             "properties": {
              "DISPLAY_INFO": 131072
             }
            },
            {
             "captionPath": [
              "AllMember",
              "SPOT"
             ],
             "namePath": [
              "AllMember",
              "SPOT"
             ],
             "properties": {
              "DISPLAY_INFO": 131072
             }
            }
           ],
           [
            {
             "captionPath": [
              "AllMember",
              "4"
             ],
             "namePath": [
              "AllMember",
              "4"
             ],
             "properties": {
              "DISPLAY_INFO": 131072
             }
            },
            {
             "captionPath": [
              "AllMember",
              "REPO"
             ],
             "namePath": [
              "AllMember",
              "REPO"
             ],
             "properties": {
              "DISPLAY_INFO": 131072
             }
            }
           ],
           [
            {
             "captionPath": [
              "AllMember",
              "4"
             ],
             "namePath": [
              "AllMember",
              "4"
             ],
             "properties": {
              "DISPLAY_INFO": 131072
             }
            },
            {
             "captionPath": [
              "AllMember",
              "SPOT"
             ],
             "namePath": [
              "AllMember",
              "SPOT"
             ],
             "properties": {
              "DISPLAY_INFO": 131072
             }
            }
           ],
           [
            {
             "captionPath": [
              "AllMember",
              "5"
             ],
             "namePath": [
              "AllMember",
              "5"
             ],
             "properties": {
              "DISPLAY_INFO": 131072
             }
            },
            {
             "captionPath": [
              "AllMember",
              "REPO"
             ],
             "namePath": [
              "AllMember",
              "REPO"
             ],
             "properties": {
              "DISPLAY_INFO": 131072
             }
            }
           ],
           [
            {
             "captionPath": [
              "AllMember",
              "5"
             ],
             "namePath": [
              "AllMember",
              "5"
             ],
             "properties": {
              "DISPLAY_INFO": 131072
             }
            },
            {
             "captionPath": [
              "AllMember",
              "SPOT"
             ],
             "namePath": [
              "AllMember",
              "SPOT"
             ],
             "properties": {
              "DISPLAY_INFO": 131072
             }
            }
           ],
           [
            {
             "captionPath": [
              "AllMember",
              "7"
             ],
             "namePath": [
              "AllMember",
              "7"
             ],
             "properties": {
              "DISPLAY_INFO": 131072
             }
            },
            {
             "captionPath": [
              "AllMember",
              "REPO"
             ],
             "namePath": [
              "AllMember",
              "REPO"
             ],
             "properties": {
              "DISPLAY_INFO": 131072
             }
            }
           ],
           [
            {
             "captionPath": [
              "AllMember",
              "7"
             ],
             "namePath": [
              "AllMember",
              "7"
             ],
             "properties": {
              "DISPLAY_INFO": 131072
             }
            },
            {
             "captionPath": [
              "AllMember",
              "SPOT"
             ],
             "namePath": [
              "AllMember",
              "SPOT"
             ],
             "properties": {
              "DISPLAY_INFO": 131072
             }
            }
           ],
           [
            {
             "captionPath": [
              "AllMember",
              "8"
             ],
             "namePath": [
              "AllMember",
              "8"
             ],
             "properties": {
              "DISPLAY_INFO": 131072
             }
            },
            {
             "captionPath": [
              "AllMember",
              "REPO"
             ],
             "namePath": [
              "AllMember",
              "REPO"
             ],
             "properties": {
              "DISPLAY_INFO": 131072
             }
            }
           ],
           [
            {
             "captionPath": [
              "AllMember",
              "8"
             ],
             "namePath": [
              "AllMember",
              "8"
             ],
             "properties": {
              "DISPLAY_INFO": 131072
             }
            },
            {
             "captionPath": [
              "AllMember",
              "SPOT"
             ],
             "namePath": [
              "AllMember",
              "SPOT"
             ],
             "properties": {
              "DISPLAY_INFO": 131072
             }
            }
           ],
           [
            {
             "captionPath": [
              "AllMember",
              "9"
             ],
             "namePath": [
              "AllMember",
              "9"
             ],
             "properties": {
              "DISPLAY_INFO": 131072
             }
            },
            {
             "captionPath": [
              "AllMember",
              "REPO"
             ],
             "namePath": [
              "AllMember",
              "REPO"
             ],
             "properties": {
              "DISPLAY_INFO": 131072
             }
            }
           ],
           [
            {
             "captionPath": [
              "AllMember",
              "9"
             ],
             "namePath": [
              "AllMember",
              "9"
             ],
             "properties": {
              "DISPLAY_INFO": 131072
             }
            },
            {
             "captionPath": [
              "AllMember",
              "SPOT"
             ],
             "namePath": [
              "AllMember",
              "SPOT"
             ],
             "properties": {
              "DISPLAY_INFO": 131072
             }
            }
           ]
          ]
         }
        ],
        "cells": [
         {
          "formattedValue": "1%",
          "ordinal": 0,
          "properties": {
           "BACK_COLOR": null,
           "FONT_FLAGS": 0,
           "FORE_COLOR": null
          },
          "value": 0.0055
         },
         {
          "formattedValue": "55%",
          "ordinal": 1,
          "properties": {
           "BACK_COLOR": null,
           "FONT_FLAGS": 0,
           "FORE_COLOR": null
          },
          "value": 0.55
         },
         {
          "formattedValue": "0%",
          "ordinal": 2,
          "properties": {
           "BACK_COLOR": null,
           "FONT_FLAGS": 0,
           "FORE_COLOR": null
          },
          "value": 0.005
         },
         {
          "formattedValue": "50%",
          "ordinal": 3,
          "properties": {
           "BACK_COLOR": null,
           "FONT_FLAGS": 0,
           "FORE_COLOR": null
          },
          "value": 0.5
         },
         {
          "formattedValue": "1%",
          "ordinal": 4,
          "properties": {
           "BACK_COLOR": null,
           "FONT_FLAGS": 0,
           "FORE_COLOR": null
          },
          "value": 0.007
         },
         {
          "formattedValue": "70%",
          "ordinal": 5,
          "properties": {
           "BACK_COLOR": null,
           "FONT_FLAGS": 0,
           "FORE_COLOR": null
          },
          "value": 0.7
         },
         {
          "formattedValue": "0%",
          "ordinal": 6,
          "properties": {
           "BACK_COLOR": null,
           "FONT_FLAGS": 0,
           "FORE_COLOR": null
          },
          "value": 0.0015
         },
         {
          "formattedValue": "15%",
          "ordinal": 7,
          "properties": {
           "BACK_COLOR": null,
           "FONT_FLAGS": 0,
           "FORE_COLOR": null
          },
          "value": 0.15
         },
         {
          "formattedValue": "1%",
          "ordinal": 8,
          "properties": {
           "BACK_COLOR": null,
           "FONT_FLAGS": 0,
           "FORE_COLOR": null
          },
          "value": 0.006
         },
         {
          "formattedValue": "60%",
          "ordinal": 9,
          "properties": {
           "BACK_COLOR": null,
           "FONT_FLAGS": 0,
           "FORE_COLOR": null
          },
          "value": 0.6
         },
         {
          "formattedValue": "0%",
          "ordinal": 10,
          "properties": {
           "BACK_COLOR": null,
           "FONT_FLAGS": 0,
           "FORE_COLOR": null
          },
          "value": 0.0045
         },
         {
          "formattedValue": "45%",
          "ordinal": 11,
          "properties": {
           "BACK_COLOR": null,
           "FONT_FLAGS": 0,
           "FORE_COLOR": null
          },
          "value": 0.45
         },
         {
          "formattedValue": "1%",
          "ordinal": 12,
          "properties": {
           "BACK_COLOR": null,
           "FONT_FLAGS": 0,
           "FORE_COLOR": null
          },
          "value": 0.0055
         },
         {
          "formattedValue": "55%",
          "ordinal": 13,
          "properties": {
           "BACK_COLOR": null,
           "FONT_FLAGS": 0,
           "FORE_COLOR": null
          },
          "value": 0.55
         },
         {
          "formattedValue": "0%",
          "ordinal": 14,
          "properties": {
           "BACK_COLOR": null,
           "FONT_FLAGS": 0,
           "FORE_COLOR": null
          },
          "value": 0.003
         },
         {
          "formattedValue": "30%",
          "ordinal": 15,
          "properties": {
           "BACK_COLOR": null,
           "FONT_FLAGS": 0,
           "FORE_COLOR": null
          },
          "value": 0.3
         },
         {
          "formattedValue": "0%",
          "ordinal": 16,
          "properties": {
           "BACK_COLOR": null,
           "FONT_FLAGS": 0,
           "FORE_COLOR": null
          },
          "value": 0.004
         },
         {
          "formattedValue": "40%",
          "ordinal": 17,
          "properties": {
           "BACK_COLOR": null,
           "FONT_FLAGS": 0,
           "FORE_COLOR": null
          },
          "value": 0.4
         },
         {
          "formattedValue": "0%",
          "ordinal": 18,
          "properties": {
           "BACK_COLOR": null,
           "FONT_FLAGS": 0,
           "FORE_COLOR": null
          },
          "value": 0.005
         },
         {
          "formattedValue": "50%",
          "ordinal": 19,
          "properties": {
           "BACK_COLOR": null,
           "FONT_FLAGS": 0,
           "FORE_COLOR": null
          },
          "value": 0.5
         },
         {
          "formattedValue": "1%",
          "ordinal": 20,
          "properties": {
           "BACK_COLOR": null,
           "FONT_FLAGS": 0,
           "FORE_COLOR": null
          },
          "value": 0.007
         },
         {
          "formattedValue": "70%",
          "ordinal": 21,
          "properties": {
           "BACK_COLOR": null,
           "FONT_FLAGS": 0,
           "FORE_COLOR": null
          },
          "value": 0.7
         }
        ],
        "cube": "Risks",
        "defaultMembers": [
         {
          "captionPath": [
           "Count"
          ],
          "dimension": "Measures",
          "hierarchy": "Measures",
          "path": [
           "contributors.COUNT"
          ]
         },
         {
          "captionPath": [
           "Base"
          ],
          "dimension": "Epoch",
          "hierarchy": "Epoch",
          "path": [
           "Base"
          ]
         }
        ],
        "epoch": 2
       },
       "cube": "Risks",
       "error": null,
       "name": null,
       "session": "Unnamed"
      },
      "text/plain": [
       "Open the notebook in JupyterLab with the atoti extension installed and enabled to see this widget."
      ]
     },
     "metadata": {},
     "output_type": "display_data"
    }
   ],
   "source": [
    "cube.visualize()"
   ]
  },
  {
   "cell_type": "markdown",
   "metadata": {},
   "source": [
    "# Weighted sensitivities\n",
    "\n",
    "In this section, we'll create a measure to compute weighted sensitivities defined in\n",
    "[MAR21.4](https://www.bis.org/basel_framework/chapter/MAR/21.htm?inforce=20220101#paragraph_MAR_21_20220101_21_4):\n",
    "\n",
    "$$WS_k=RW_k \\cdot s_k$$\n",
    "\n",
    "As the risk weights are defined for each Bucket and Label2, this is the level where sensitivities need to be multiplied by the risk weight.\n"
   ]
  },
  {
   "cell_type": "code",
   "execution_count": 13,
   "metadata": {},
   "outputs": [],
   "source": [
    "# The input sensitivities are multplied by the risk weight for each Bucket and Label2,\n",
    "# and then summed up to obtain weighted sensitivities:\n",
    "m[\"WS\"] = tt.agg.sum(\n",
    "    m[\"AmountUSD.SUM\"] * m[\"RW.VALUE\"],\n",
    "    scope=tt.scope.origin(lvl[\"Bucket\"], lvl[\"Label2\"]),\n",
    ")"
   ]
  },
  {
   "cell_type": "code",
   "execution_count": 14,
   "metadata": {
    "atoti": {
     "state": {
      "name": "",
      "type": "container",
      "value": {
       "body": {
        "configuration": {
         "tabular": {
          "addButtonFilter": "numeric",
          "columnsGroups": [
           {
            "captionProducer": "firstColumn",
            "cellFactory": "kpi-status",
            "selector": "kpi-status"
           },
           {
            "captionProducer": "firstColumn",
            "cellFactory": "lookup",
            "selector": "lookup"
           },
           {
            "captionProducer": "expiry",
            "cellFactory": "expiry",
            "selector": "kpi-expiry"
           },
           {
            "captionProducer": "columnMerge",
            "cellFactory": {
             "args": {
              "automaticExpansion": true
             },
             "key": "treeCells"
            },
            "selector": "member"
           }
          ],
          "defaultOptions": {},
          "hideAddButton": true,
          "lineNumbers": true,
          "pinnedHeaderSelector": "member",
          "sortingMode": "non-breaking",
          "statisticsShown": true
         }
        },
        "contextValues": {},
        "mdx": "SELECT NON EMPTY [Measures].[WS] ON COLUMNS, NON EMPTY Hierarchize(DrilldownLevel([Hierarchies].[Bucket].[ALL].[AllMember])) ON ROWS FROM [Risks] CELL PROPERTIES VALUE, FORMATTED_VALUE, BACK_COLOR, FORE_COLOR, FONT_FLAGS",
        "ranges": {
         "column": {
          "chunkSize": 50,
          "thresholdPercentage": 0.2
         },
         "row": {
          "chunkSize": 2000,
          "thresholdPercentage": 0.1
         }
        },
        "serverUrl": "",
        "updateMode": "once"
       },
       "containerKey": "pivot-table",
       "showTitleBar": false,
       "style": {}
      }
     }
    }
   },
   "outputs": [
    {
     "data": {
      "application/vnd.atoti.v0+json": {
       "cellSet": {
        "axes": [
         {
          "hierarchies": [
           {
            "dimension": "Measures",
            "hierarchy": "Measures"
           }
          ],
          "id": 0,
          "positions": [
           [
            {
             "captionPath": [
              "WS"
             ],
             "namePath": [
              "WS"
             ],
             "properties": {
              "DISPLAY_INFO": 0
             }
            }
           ]
          ]
         },
         {
          "hierarchies": [
           {
            "dimension": "Hierarchies",
            "hierarchy": "Bucket"
           }
          ],
          "id": 1,
          "positions": [
           [
            {
             "captionPath": [
              "AllMember"
             ],
             "namePath": [
              "AllMember"
             ],
             "properties": {
              "DISPLAY_INFO": 65547
             }
            }
           ],
           [
            {
             "captionPath": [
              "AllMember",
              "1"
             ],
             "namePath": [
              "AllMember",
              "1"
             ],
             "properties": {
              "DISPLAY_INFO": 0
             }
            }
           ],
           [
            {
             "captionPath": [
              "AllMember",
              "10"
             ],
             "namePath": [
              "AllMember",
              "10"
             ],
             "properties": {
              "DISPLAY_INFO": 131072
             }
            }
           ],
           [
            {
             "captionPath": [
              "AllMember",
              "11"
             ],
             "namePath": [
              "AllMember",
              "11"
             ],
             "properties": {
              "DISPLAY_INFO": 131072
             }
            }
           ],
           [
            {
             "captionPath": [
              "AllMember",
              "12"
             ],
             "namePath": [
              "AllMember",
              "12"
             ],
             "properties": {
              "DISPLAY_INFO": 131072
             }
            }
           ],
           [
            {
             "captionPath": [
              "AllMember",
              "2"
             ],
             "namePath": [
              "AllMember",
              "2"
             ],
             "properties": {
              "DISPLAY_INFO": 131072
             }
            }
           ],
           [
            {
             "captionPath": [
              "AllMember",
              "3"
             ],
             "namePath": [
              "AllMember",
              "3"
             ],
             "properties": {
              "DISPLAY_INFO": 131072
             }
            }
           ],
           [
            {
             "captionPath": [
              "AllMember",
              "4"
             ],
             "namePath": [
              "AllMember",
              "4"
             ],
             "properties": {
              "DISPLAY_INFO": 131072
             }
            }
           ],
           [
            {
             "captionPath": [
              "AllMember",
              "5"
             ],
             "namePath": [
              "AllMember",
              "5"
             ],
             "properties": {
              "DISPLAY_INFO": 131072
             }
            }
           ],
           [
            {
             "captionPath": [
              "AllMember",
              "7"
             ],
             "namePath": [
              "AllMember",
              "7"
             ],
             "properties": {
              "DISPLAY_INFO": 131072
             }
            }
           ],
           [
            {
             "captionPath": [
              "AllMember",
              "8"
             ],
             "namePath": [
              "AllMember",
              "8"
             ],
             "properties": {
              "DISPLAY_INFO": 131072
             }
            }
           ],
           [
            {
             "captionPath": [
              "AllMember",
              "9"
             ],
             "namePath": [
              "AllMember",
              "9"
             ],
             "properties": {
              "DISPLAY_INFO": 131072
             }
            }
           ]
          ]
         }
        ],
        "cells": [
         {
          "formattedValue": "-5,090,583.39",
          "ordinal": 0,
          "properties": {
           "BACK_COLOR": null,
           "FONT_FLAGS": 0,
           "FORE_COLOR": null
          },
          "value": -5090583.391036649
         },
         {
          "formattedValue": "-2,002,940.37",
          "ordinal": 1,
          "properties": {
           "BACK_COLOR": null,
           "FONT_FLAGS": 0,
           "FORE_COLOR": null
          },
          "value": -2002940.3739950003
         },
         {
          "formattedValue": "-2,810,353.83",
          "ordinal": 2,
          "properties": {
           "BACK_COLOR": null,
           "FONT_FLAGS": 0,
           "FORE_COLOR": null
          },
          "value": -2810353.8262150004
         },
         {
          "formattedValue": "6,418,348.71",
          "ordinal": 3,
          "properties": {
           "BACK_COLOR": null,
           "FONT_FLAGS": 0,
           "FORE_COLOR": null
          },
          "value": 6418348.708218999
         },
         {
          "formattedValue": "-286,992.44",
          "ordinal": 4,
          "properties": {
           "BACK_COLOR": null,
           "FONT_FLAGS": 0,
           "FORE_COLOR": null
          },
          "value": -286992.43512
         },
         {
          "formattedValue": "-1,935,112.16",
          "ordinal": 5,
          "properties": {
           "BACK_COLOR": null,
           "FONT_FLAGS": 0,
           "FORE_COLOR": null
          },
          "value": -1935112.163651651
         },
         {
          "formattedValue": "-4,757.81",
          "ordinal": 6,
          "properties": {
           "BACK_COLOR": null,
           "FONT_FLAGS": 0,
           "FORE_COLOR": null
          },
          "value": -4757.813550000001
         },
         {
          "formattedValue": "-557,071.45",
          "ordinal": 7,
          "properties": {
           "BACK_COLOR": null,
           "FONT_FLAGS": 0,
           "FORE_COLOR": null
          },
          "value": -557071.4496599999
         },
         {
          "formattedValue": "429,349.43",
          "ordinal": 8,
          "properties": {
           "BACK_COLOR": null,
           "FONT_FLAGS": 0,
           "FORE_COLOR": null
          },
          "value": 429349.42838999996
         },
         {
          "formattedValue": "91,493.41",
          "ordinal": 9,
          "properties": {
           "BACK_COLOR": null,
           "FONT_FLAGS": 0,
           "FORE_COLOR": null
          },
          "value": 91493.41059599974
         },
         {
          "formattedValue": "-5,177,444.73",
          "ordinal": 10,
          "properties": {
           "BACK_COLOR": null,
           "FONT_FLAGS": 0,
           "FORE_COLOR": null
          },
          "value": -5177444.7259
         },
         {
          "formattedValue": "744,897.85",
          "ordinal": 11,
          "properties": {
           "BACK_COLOR": null,
           "FONT_FLAGS": 0,
           "FORE_COLOR": null
          },
          "value": 744897.8498499996
         }
        ],
        "cube": "Risks",
        "defaultMembers": [
         {
          "captionPath": [
           "Count"
          ],
          "dimension": "Measures",
          "hierarchy": "Measures",
          "path": [
           "contributors.COUNT"
          ]
         },
         {
          "captionPath": [
           "Base"
          ],
          "dimension": "Epoch",
          "hierarchy": "Epoch",
          "path": [
           "Base"
          ]
         }
        ],
        "epoch": 2
       },
       "cube": "Risks",
       "error": null,
       "name": null,
       "session": "Unnamed"
      },
      "text/plain": [
       "Open the notebook in JupyterLab with the atoti extension installed and enabled to see this widget."
      ]
     },
     "metadata": {},
     "output_type": "display_data"
    }
   ],
   "source": [
    "cube.visualize()"
   ]
  },
  {
   "cell_type": "markdown",
   "metadata": {},
   "source": [
    "# Bucket-level aggregation\n",
    "\n",
    "The weighted sensitivities by risk factor are rolled up into charges by bucket (\"bucket-level charges\"), using a variance-covariance-type of formula that can be found in the [MAR21.4](https://www.bis.org/basel_framework/chapter/MAR/21.htm?inforce=20220101#paragraph_MAR_21_20220101_21_4):\n",
    "\n",
    "$$K_{b} =\\sqrt{max \\left( 0, \\sum _{k\\in b} WS_{k}^{2} +\\sum _{k\\in b}\\sum\n",
    "  _{l\\in b, l\\neq k}\\rho_{kl}\\cdot WS_k \\cdot WS_l\\right)}$$\n",
    "  \n",
    "In this section we'll create measures visualizing bucket-level charges. \n",
    "\n",
    "We will be leveraging the fact, that some of the risk factor pairs are correlated with the same correlation parameter, and provide a more computationally efficient calculation. "
   ]
  },
  {
   "cell_type": "markdown",
   "metadata": {},
   "source": [
    "## Risk factor correlations"
   ]
  },
  {
   "cell_type": "markdown",
   "metadata": {},
   "source": [
    "The parameter $\\rho_{kl}$ denotes correlation between two risk factors $k$ and $l$ in a pair of risk factors. The rules defining the equity delta correlations are set in [MAR21.78](https://www.bis.org/basel_framework/chapter/MAR/21.htm?inforce=20220101#paragraph_MAR_21_20220101_21_78).\n",
    "\n",
    "The rules can be summarised for each pair of risk factors as follows:\n",
    "\n",
    "- Case 1: same name, different type: a single value -> 0.999\n",
    "- Case 2: different name, same type: a single value depending on bucket, for example, 0.15\n",
    "- Case 3: different name, different type: value depending on risk factor multiplier by 0.999, for example, 0.15 x 0.999\n",
    "\n",
    "Stylized example:\n",
    "\n",
    "\n",
    "| risk factors | name1-spot | name1-repo | name2-spot | name2-repo |\n",
    "|------------|-------------|-------------|-------------|-------------|\n",
    "| name1-spot | 1 |  |  |  |\n",
    "| name1-repo | same_name_diff_type | 1 |  |  |\n",
    "| name2-spot | rho_by_name | rho_by_name x type_multiplier | 1 |  |\n",
    "| name2-repo | rho_by_name x type_multiplier | rho_by_name x type_multiplier | same_name_diff_type | 1 |"
   ]
  },
  {
   "cell_type": "code",
   "execution_count": 15,
   "metadata": {},
   "outputs": [],
   "source": [
    "# Equity delta risk factor is defined as a combination of fields - \"Qualifier\" and \"Label2\", i.e. equity name and risk factor type.\n",
    "# Creating variables:\n",
    "same_risk_factor = 1.0\n",
    "same_name_diff_type = 0.999\n",
    "diff_type_multiplier = 0.999"
   ]
  },
  {
   "cell_type": "code",
   "execution_count": 16,
   "metadata": {
    "scrolled": true
   },
   "outputs": [
    {
     "data": {
      "text/html": [
       "<div>\n",
       "<style scoped>\n",
       "    .dataframe tbody tr th:only-of-type {\n",
       "        vertical-align: middle;\n",
       "    }\n",
       "\n",
       "    .dataframe tbody tr th {\n",
       "        vertical-align: top;\n",
       "    }\n",
       "\n",
       "    .dataframe thead th {\n",
       "        text-align: right;\n",
       "    }\n",
       "</style>\n",
       "<table border=\"1\" class=\"dataframe\">\n",
       "  <thead>\n",
       "    <tr style=\"text-align: right;\">\n",
       "      <th></th>\n",
       "      <th>names_correlation</th>\n",
       "    </tr>\n",
       "    <tr>\n",
       "      <th>Bucket</th>\n",
       "      <th></th>\n",
       "    </tr>\n",
       "  </thead>\n",
       "  <tbody>\n",
       "    <tr>\n",
       "      <th>1</th>\n",
       "      <td>0.15</td>\n",
       "    </tr>\n",
       "    <tr>\n",
       "      <th>2</th>\n",
       "      <td>0.15</td>\n",
       "    </tr>\n",
       "    <tr>\n",
       "      <th>3</th>\n",
       "      <td>0.15</td>\n",
       "    </tr>\n",
       "    <tr>\n",
       "      <th>4</th>\n",
       "      <td>0.15</td>\n",
       "    </tr>\n",
       "    <tr>\n",
       "      <th>5</th>\n",
       "      <td>0.25</td>\n",
       "    </tr>\n",
       "  </tbody>\n",
       "</table>\n",
       "</div>"
      ],
      "text/plain": [
       "        names_correlation\n",
       "Bucket                   \n",
       "1                    0.15\n",
       "2                    0.15\n",
       "3                    0.15\n",
       "4                    0.15\n",
       "5                    0.25"
      ]
     },
     "execution_count": 16,
     "metadata": {},
     "output_type": "execute_result"
    }
   ],
   "source": [
    "# Creating a datastore holding correlations defined per bucket ([MAR21.78](2)):\n",
    "eq_delta_rho = session.read_csv(\n",
    "    \"s3://data.atoti.io/notebooks/sbm/parameters/eq_delta_rho.csv\",\n",
    "    keys=[\"Bucket\"],\n",
    "    types={\"Bucket\": tt.types.STRING},\n",
    "    store_name=\"RiskFactorCorrelations\",\n",
    ")\n",
    "risks_store.join(eq_delta_rho)\n",
    "eq_delta_rho.head(5)"
   ]
  },
  {
   "cell_type": "code",
   "execution_count": 17,
   "metadata": {},
   "outputs": [],
   "source": [
    "# Let's put it into a folder and format as percentages:\n",
    "m[\"names_correlation.VALUE\"].folder = \"Parameters\"\n",
    "m[\"names_correlation.VALUE\"].formatter = \"DOUBLE[0.00]\""
   ]
  },
  {
   "cell_type": "code",
   "execution_count": 18,
   "metadata": {
    "atoti": {
     "state": {
      "name": "",
      "type": "container",
      "value": {
       "body": {
        "configuration": {
         "tabular": {
          "addButtonFilter": "numeric",
          "columnsGroups": [
           {
            "captionProducer": "firstColumn",
            "cellFactory": "kpi-status",
            "selector": "kpi-status"
           },
           {
            "captionProducer": "firstColumn",
            "cellFactory": "lookup",
            "selector": "lookup"
           },
           {
            "captionProducer": "expiry",
            "cellFactory": "expiry",
            "selector": "kpi-expiry"
           },
           {
            "captionProducer": "columnMerge",
            "cellFactory": {
             "args": {
              "automaticExpansion": true
             },
             "key": "treeCells"
            },
            "selector": "member"
           }
          ],
          "defaultOptions": {},
          "hideAddButton": true,
          "lineNumbers": true,
          "pinnedHeaderSelector": "member",
          "sortingMode": "non-breaking",
          "statisticsShown": true
         }
        },
        "contextValues": {},
        "mdx": "SELECT NON EMPTY [Measures].[names_correlation.VALUE] ON COLUMNS, NON EMPTY Hierarchize(DrilldownLevel([Hierarchies].[Bucket].[ALL].[AllMember])) ON ROWS FROM [Risks] CELL PROPERTIES VALUE, FORMATTED_VALUE, BACK_COLOR, FORE_COLOR, FONT_FLAGS",
        "ranges": {
         "column": {
          "chunkSize": 50,
          "thresholdPercentage": 0.2
         },
         "row": {
          "chunkSize": 2000,
          "thresholdPercentage": 0.1
         }
        },
        "serverUrl": "",
        "updateMode": "once"
       },
       "containerKey": "pivot-table",
       "showTitleBar": false,
       "style": {}
      }
     }
    }
   },
   "outputs": [
    {
     "data": {
      "application/vnd.atoti.v0+json": {
       "cellSet": {
        "axes": [
         {
          "hierarchies": [
           {
            "dimension": "Measures",
            "hierarchy": "Measures"
           }
          ],
          "id": 0,
          "positions": [
           [
            {
             "captionPath": [
              "names_correlation.VALUE"
             ],
             "namePath": [
              "names_correlation.VALUE"
             ],
             "properties": {
              "DISPLAY_INFO": 0
             }
            }
           ]
          ]
         },
         {
          "hierarchies": [
           {
            "dimension": "Hierarchies",
            "hierarchy": "Bucket"
           }
          ],
          "id": 1,
          "positions": [
           [
            {
             "captionPath": [
              "AllMember",
              "1"
             ],
             "namePath": [
              "AllMember",
              "1"
             ],
             "properties": {
              "DISPLAY_INFO": 0
             }
            }
           ],
           [
            {
             "captionPath": [
              "AllMember",
              "10"
             ],
             "namePath": [
              "AllMember",
              "10"
             ],
             "properties": {
              "DISPLAY_INFO": 131072
             }
            }
           ],
           [
            {
             "captionPath": [
              "AllMember",
              "12"
             ],
             "namePath": [
              "AllMember",
              "12"
             ],
             "properties": {
              "DISPLAY_INFO": 131072
             }
            }
           ],
           [
            {
             "captionPath": [
              "AllMember",
              "2"
             ],
             "namePath": [
              "AllMember",
              "2"
             ],
             "properties": {
              "DISPLAY_INFO": 131072
             }
            }
           ],
           [
            {
             "captionPath": [
              "AllMember",
              "3"
             ],
             "namePath": [
              "AllMember",
              "3"
             ],
             "properties": {
              "DISPLAY_INFO": 131072
             }
            }
           ],
           [
            {
             "captionPath": [
              "AllMember",
              "4"
             ],
             "namePath": [
              "AllMember",
              "4"
             ],
             "properties": {
              "DISPLAY_INFO": 131072
             }
            }
           ],
           [
            {
             "captionPath": [
              "AllMember",
              "5"
             ],
             "namePath": [
              "AllMember",
              "5"
             ],
             "properties": {
              "DISPLAY_INFO": 131072
             }
            }
           ],
           [
            {
             "captionPath": [
              "AllMember",
              "7"
             ],
             "namePath": [
              "AllMember",
              "7"
             ],
             "properties": {
              "DISPLAY_INFO": 131072
             }
            }
           ],
           [
            {
             "captionPath": [
              "AllMember",
              "8"
             ],
             "namePath": [
              "AllMember",
              "8"
             ],
             "properties": {
              "DISPLAY_INFO": 131072
             }
            }
           ],
           [
            {
             "captionPath": [
              "AllMember",
              "9"
             ],
             "namePath": [
              "AllMember",
              "9"
             ],
             "properties": {
              "DISPLAY_INFO": 131072
             }
            }
           ]
          ]
         }
        ],
        "cells": [
         {
          "formattedValue": "0.15",
          "ordinal": 0,
          "properties": {
           "BACK_COLOR": null,
           "FONT_FLAGS": 0,
           "FORE_COLOR": null
          },
          "value": 0.15
         },
         {
          "formattedValue": "0.12",
          "ordinal": 1,
          "properties": {
           "BACK_COLOR": null,
           "FONT_FLAGS": 0,
           "FORE_COLOR": null
          },
          "value": 0.125
         },
         {
          "formattedValue": "0.80",
          "ordinal": 2,
          "properties": {
           "BACK_COLOR": null,
           "FONT_FLAGS": 0,
           "FORE_COLOR": null
          },
          "value": 0.8
         },
         {
          "formattedValue": "0.15",
          "ordinal": 3,
          "properties": {
           "BACK_COLOR": null,
           "FONT_FLAGS": 0,
           "FORE_COLOR": null
          },
          "value": 0.15
         },
         {
          "formattedValue": "0.15",
          "ordinal": 4,
          "properties": {
           "BACK_COLOR": null,
           "FONT_FLAGS": 0,
           "FORE_COLOR": null
          },
          "value": 0.15
         },
         {
          "formattedValue": "0.15",
          "ordinal": 5,
          "properties": {
           "BACK_COLOR": null,
           "FONT_FLAGS": 0,
           "FORE_COLOR": null
          },
          "value": 0.15
         },
         {
          "formattedValue": "0.25",
          "ordinal": 6,
          "properties": {
           "BACK_COLOR": null,
           "FONT_FLAGS": 0,
           "FORE_COLOR": null
          },
          "value": 0.25
         },
         {
          "formattedValue": "0.25",
          "ordinal": 7,
          "properties": {
           "BACK_COLOR": null,
           "FONT_FLAGS": 0,
           "FORE_COLOR": null
          },
          "value": 0.25
         },
         {
          "formattedValue": "0.25",
          "ordinal": 8,
          "properties": {
           "BACK_COLOR": null,
           "FONT_FLAGS": 0,
           "FORE_COLOR": null
          },
          "value": 0.25
         },
         {
          "formattedValue": "0.07",
          "ordinal": 9,
          "properties": {
           "BACK_COLOR": null,
           "FONT_FLAGS": 0,
           "FORE_COLOR": null
          },
          "value": 0.075
         }
        ],
        "cube": "Risks",
        "defaultMembers": [
         {
          "captionPath": [
           "Count"
          ],
          "dimension": "Measures",
          "hierarchy": "Measures",
          "path": [
           "contributors.COUNT"
          ]
         },
         {
          "captionPath": [
           "Base"
          ],
          "dimension": "Epoch",
          "hierarchy": "Epoch",
          "path": [
           "Base"
          ]
         }
        ],
        "epoch": 3
       },
       "cube": "Risks",
       "error": null,
       "name": null,
       "session": "Unnamed"
      },
      "text/plain": [
       "Open the notebook in JupyterLab with the atoti extension installed and enabled to see this widget."
      ]
     },
     "metadata": {},
     "output_type": "display_data"
    }
   ],
   "source": [
    "cube.visualize()"
   ]
  },
  {
   "cell_type": "markdown",
   "metadata": {},
   "source": [
    "Since many of the risk factor pairs share the same correlation value, it is possible to optimize the variance-covariance aggregation. The efficiency of this calculation is critical when the data cardinality along the risk factor is high.\n",
    "\n",
    "We decompose the formula into the three components:\n",
    "1. contribution of pairs with both risk factors being spot - same correlation $\\rho_{names}$ set per bucket,\n",
    "2. contribution of pairs with both risk factors being repo - same correlation $\\rho_{names}$ set per bucket,\n",
    "3. contribution of pairs where one risk factor is spot, another one is repo - same correlation $\\rho_{names} \\cdot 0.999$. We'd need to account that for some of the pairs where one risk factor is spot, one is repo some the equity names will match and need to be correlated at 0.999\n",
    "\n",
    "\n",
    "Let's start with the pairs where both risk factors are either spot or repo - cases 1. and 2. above. Since for any $k$ and $l$ the correlation $\\rho_{kl}$ will be equal to correlation defined per bucket $\\rho_{names}$, their contribution can be rewritten:\n",
    "\n",
    "$$ \\sum_k WS_k^2 +  \\sum_k \\sum_{l \\neq k} \\rho_{kl} WS_k WS_l = \\\\ \\sum_k WS_k^2 + \\rho_{names} \\cdot \\left(\\left( \\sum_k WS_k \\right)^2 - \\sum_k WS_k^2  \\right) = \\\\ (1-\\rho_{names}) \\cdot \\sum_k WS_k^2 + \\rho_{names} \\cdot \\left( \\sum_k WS_k \\right)^2  \\label{reduced_formula} \\tag{reduced_formula}$$"
   ]
  },
  {
   "cell_type": "code",
   "execution_count": 19,
   "metadata": {},
   "outputs": [],
   "source": [
    "# This measure will display sum of WS_k squared by risk factor (Qualifier + Label2):\n",
    "m[\"sum squares\"] = tt.agg.square_sum(\n",
    "    m[\"WS\"], scope=tt.scope.origin(lvl[\"Qualifier\"], lvl[\"Label2\"])\n",
    ")"
   ]
  },
  {
   "cell_type": "code",
   "execution_count": 20,
   "metadata": {},
   "outputs": [],
   "source": [
    "reduced_formula = (1 - m[\"names_correlation.VALUE\"]) * m[\"sum squares\"] + m[\n",
    "    \"names_correlation.VALUE\"\n",
    "] * m[\"WS\"] ** 2\n",
    "\n",
    "# Total contribution of:\n",
    "# - pairs having only spot risk factors,\n",
    "# - pairs having only repo risk factors,\n",
    "# is the sum of the reduced formula by Label2 members.\n",
    "\n",
    "m[\"spot&repo pairs contribution\"] = tt.agg.sum(\n",
    "    reduced_formula, scope=tt.scope.origin(lvl[\"Label2\"])\n",
    ")"
   ]
  },
  {
   "cell_type": "markdown",
   "metadata": {},
   "source": [
    "The contribution of the risk factors where one risk factor belongs to \"SPOT\" and the other belongs to \"REPO\" - case 3 above - can be rewritten:\n",
    "\n",
    "$$ \\sum_k WS_k^2 +  \\sum_k \\sum_{l \\neq k} \\rho_{kl} WS_k WS_l = \\\\ \\vec{WS_{repo}^T} \\cdot J_{n_{repo}, n_{spot}} \\cdot \\vec{WS_{spot}} \\cdot \\rho_{names} \\cdot 0.999 + 0.999 \\cdot (1 - \\rho_{names}) \\sum_{n\\in names}{WS_n^{repo} \\cdot WS_n^{spot}} \\label{spot_vs_repo} $$\n",
    "\n",
    "where:\n",
    "- J - is a matrix of ones,\n",
    "- first term in the above formula performs aggregation of all sensitivities, as if they all are correlated at $\\rho_{names}$,\n",
    "- the second term is to correct the first term and to account for the fact that risk factors, where spot and repo risk factors have the same equity name, must be correlated at 0.999.\n"
   ]
  },
  {
   "cell_type": "markdown",
   "metadata": {},
   "source": [
    "**First term**\n",
    "\n",
    "The measure `sum WS_repo |J| WS_spot` will display $\\vec{WS_{repo}^T} \\cdot J_{n_{repo}, n_{spot}} \\cdot \\vec{WS_{spot}} $."
   ]
  },
  {
   "cell_type": "code",
   "execution_count": 21,
   "metadata": {},
   "outputs": [],
   "source": [
    "# filtering for repo and spot risk factors:\n",
    "m[\"WS_spot\"] = tt.filter(m[\"WS\"], lvl[\"Label2\"] == \"SPOT\")\n",
    "m[\"WS_repo\"] = tt.filter(m[\"WS\"], lvl[\"Label2\"] == \"REPO\")\n",
    "\n",
    "# Collect WS of the spot risk factors in a vector and show against every qualifier in a bucket:\n",
    "weights_vector = tt.agg._vector(\n",
    "    m[\"WS_spot\"], scope=tt.scope.origin(lvl[\"Bucket\"], lvl[\"Qualifier\"])\n",
    ")\n",
    "\n",
    "# FIXME\n",
    "# m[\"spot vector\"] = tt.parent_value(\n",
    "#     weights_vector, on=[h[\"Qualifier\"], h[\"Label2\"]]\n",
    "# )\n",
    "m[\"spot vector\"] = weights_vector\n",
    "\n",
    "# cross product of weighted sensitivities for the names, having both spot and repo sensitivities:\n",
    "# Multiply vector WS of the spot risk factors by WS of each repo risk factor sum them up\n",
    "repo_scalar_x_spot_vector = m[\"WS_repo\"] * m[\"spot vector\"]\n",
    "m[\"sum WS_repo |J| WS_spot\"] = tt.agg.stop(\n",
    "    tt.agg.sum(\n",
    "        tt.array.sum(repo_scalar_x_spot_vector),\n",
    "        scope=tt.scope.origin(lvl[\"Bucket\"], lvl[\"Qualifier\"]),\n",
    "    ),\n",
    "    lvl[\"Bucket\"],\n",
    ")"
   ]
  },
  {
   "cell_type": "markdown",
   "metadata": {},
   "source": [
    "**Second term**\n",
    "\n",
    "The measure `sum WS repo and spot` will display $\\sum_{n\\in names}{WS_n^{repo} \\cdot WS_n^{spot}}$"
   ]
  },
  {
   "cell_type": "code",
   "execution_count": 22,
   "metadata": {},
   "outputs": [],
   "source": [
    "# FIXME\n",
    "# Below formula will multiply by null - might be a bad style??"
   ]
  },
  {
   "cell_type": "code",
   "execution_count": 23,
   "metadata": {},
   "outputs": [],
   "source": [
    "m[\"WS_spot_parent\"] = tt.agg.sum(m[\"WS_spot\"], scope=tt.scope.origin(lvl[\"Label2\"]))\n",
    "m[\"WS_repo_parent\"] = tt.agg.sum(m[\"WS_repo\"], scope=tt.scope.origin(lvl[\"Label2\"]))\n",
    "m[\"sum WS repo and spot\"] = tt.agg.stop(\n",
    "    tt.agg.sum(\n",
    "        m[\"WS_spot_parent\"] * m[\"WS_repo_parent\"],\n",
    "        scope=tt.scope.origin(lvl[\"Qualifier\"]),\n",
    "    ),\n",
    "    lvl[\"Bucket\"],\n",
    ")"
   ]
  },
  {
   "cell_type": "markdown",
   "metadata": {},
   "source": [
    "**Combined result cross spot & repo pairs**"
   ]
  },
  {
   "cell_type": "code",
   "execution_count": 24,
   "metadata": {},
   "outputs": [],
   "source": [
    "# final contribution of the pairs where one risk factor is spot, one is repo\n",
    "m[\"cross repo spot contribution\"] = (\n",
    "    m[\"names_correlation.VALUE\"] * m[\"sum WS_repo |J| WS_spot\"] * 0.999\n",
    "    + 0.999 * (1 - m[\"names_correlation.VALUE\"]) * m[\"sum WS repo and spot\"]\n",
    ")"
   ]
  },
  {
   "cell_type": "markdown",
   "metadata": {},
   "source": [
    "**Total Kb**"
   ]
  },
  {
   "cell_type": "code",
   "execution_count": 25,
   "metadata": {},
   "outputs": [],
   "source": [
    "m[\"Kb\"] = tt.where(\n",
    "    lvl[\"Bucket\"] == \"11\",\n",
    "    tt.agg.sum(tt.abs(m[\"WS\"]), scope=tt.scope.origin(lvl[\"Qualifier\"], lvl[\"Label2\"])),\n",
    "    tt.sqrt(\n",
    "        tt.max(\n",
    "            0, m[\"spot&repo pairs contribution\"] + 2 * m[\"cross repo spot contribution\"]\n",
    "        )\n",
    "    ),\n",
    ")"
   ]
  },
  {
   "cell_type": "code",
   "execution_count": 26,
   "metadata": {},
   "outputs": [
    {
     "data": {
      "application/vnd.atoti.query-result.v0+json": {
       "context": {
        "queriesTimeLimit": 30
       },
       "createEquivalentWidgetCode": "cube.visualize()",
       "mdx": "SELECT [Measures].[Kb] ON COLUMNS, NON EMPTY [Hierarchies].[Bucket].[Bucket].Members ON ROWS FROM [Risks]"
      },
      "text/html": [
       "<div>\n",
       "<style scoped>\n",
       "    .dataframe tbody tr th:only-of-type {\n",
       "        vertical-align: middle;\n",
       "    }\n",
       "\n",
       "    .dataframe tbody tr th {\n",
       "        vertical-align: top;\n",
       "    }\n",
       "\n",
       "    .dataframe thead th {\n",
       "        text-align: right;\n",
       "    }\n",
       "</style>\n",
       "<table border=\"1\" class=\"dataframe\">\n",
       "  <thead>\n",
       "    <tr style=\"text-align: right;\">\n",
       "      <th></th>\n",
       "      <th>Kb</th>\n",
       "    </tr>\n",
       "    <tr>\n",
       "      <th>Bucket</th>\n",
       "      <th></th>\n",
       "    </tr>\n",
       "  </thead>\n",
       "  <tbody>\n",
       "    <tr>\n",
       "      <th>1</th>\n",
       "      <td>2,002,940.32</td>\n",
       "    </tr>\n",
       "    <tr>\n",
       "      <th>10</th>\n",
       "      <td>1,819,298.42</td>\n",
       "    </tr>\n",
       "    <tr>\n",
       "      <th>11</th>\n",
       "      <td>6,418,348.71</td>\n",
       "    </tr>\n",
       "    <tr>\n",
       "      <th>12</th>\n",
       "      <td>286,992.44</td>\n",
       "    </tr>\n",
       "    <tr>\n",
       "      <th>2</th>\n",
       "      <td>1,248,390.74</td>\n",
       "    </tr>\n",
       "    <tr>\n",
       "      <th>3</th>\n",
       "      <td>4,757.80</td>\n",
       "    </tr>\n",
       "    <tr>\n",
       "      <th>4</th>\n",
       "      <td>758,459.35</td>\n",
       "    </tr>\n",
       "    <tr>\n",
       "      <th>5</th>\n",
       "      <td>456,854.09</td>\n",
       "    </tr>\n",
       "    <tr>\n",
       "      <th>7</th>\n",
       "      <td>932,675.38</td>\n",
       "    </tr>\n",
       "    <tr>\n",
       "      <th>8</th>\n",
       "      <td>3,937,688.19</td>\n",
       "    </tr>\n",
       "    <tr>\n",
       "      <th>9</th>\n",
       "      <td>2,234,805.92</td>\n",
       "    </tr>\n",
       "  </tbody>\n",
       "</table>\n",
       "</div>"
      ],
      "text/plain": [
       "                  Kb\n",
       "Bucket              \n",
       "1       2,002,940.32\n",
       "10      1,819,298.42\n",
       "11      6,418,348.71\n",
       "12        286,992.44\n",
       "2       1,248,390.74\n",
       "3           4,757.80\n",
       "4         758,459.35\n",
       "5         456,854.09\n",
       "7         932,675.38\n",
       "8       3,937,688.19\n",
       "9       2,234,805.92"
      ]
     },
     "execution_count": 26,
     "metadata": {},
     "output_type": "execute_result"
    }
   ],
   "source": [
    "cube.query(\n",
    "    m[\"Kb\"],\n",
    "    levels=lvl[\"Bucket\"]\n",
    ")"
   ]
  },
  {
   "cell_type": "markdown",
   "metadata": {},
   "source": [
    "# Cross-bucket aggregation"
   ]
  },
  {
   "cell_type": "markdown",
   "metadata": {},
   "source": [
    "## Bucket correlations"
   ]
  },
  {
   "cell_type": "code",
   "execution_count": 27,
   "metadata": {},
   "outputs": [],
   "source": [
    "eq_delta_buckets_correlations = session.read_csv(\n",
    "    \"s3://data.atoti.io/notebooks/sbm/parameters/eq_delta_gamma.csv\",\n",
    "    keys=[\"Bucket\", \"Other Bucket\"],\n",
    "    types={\"Bucket\": tt.types.STRING, \"Other Bucket\": tt.types.STRING},\n",
    "    store_name=\"eq_delta_corr_outer\",\n",
    ")\n",
    "risks_store.join(eq_delta_buckets_correlations)"
   ]
  },
  {
   "cell_type": "code",
   "execution_count": 28,
   "metadata": {
    "atoti": {
     "state": {
      "name": "",
      "type": "container",
      "value": {
       "body": {
        "configuration": {
         "tabular": {
          "addButtonFilter": "numeric",
          "columnsGroups": [
           {
            "captionProducer": "firstColumn",
            "cellFactory": "kpi-status",
            "selector": "kpi-status"
           },
           {
            "captionProducer": "firstColumn",
            "cellFactory": "lookup",
            "selector": "lookup"
           },
           {
            "captionProducer": "expiry",
            "cellFactory": "expiry",
            "selector": "kpi-expiry"
           },
           {
            "captionProducer": "columnMerge",
            "cellFactory": {
             "args": {
              "automaticExpansion": true
             },
             "key": "treeCells"
            },
            "selector": "member"
           }
          ],
          "defaultOptions": {},
          "hideAddButton": true,
          "lineNumbers": true,
          "pinnedHeaderSelector": "member",
          "sortingMode": "non-breaking",
          "statisticsShown": true
         }
        },
        "contextValues": {},
        "mdx": "SELECT NON EMPTY Crossjoin([Measures].[gamma.VALUE], [Hierarchies].[Other Bucket].[Other Bucket].Members) ON COLUMNS, NON EMPTY Hierarchize(DrilldownLevel([Hierarchies].[Bucket].[ALL].[AllMember])) ON ROWS FROM [Risks] CELL PROPERTIES VALUE, FORMATTED_VALUE, BACK_COLOR, FORE_COLOR, FONT_FLAGS",
        "ranges": {
         "column": {
          "chunkSize": 50,
          "thresholdPercentage": 0.2
         },
         "row": {
          "chunkSize": 2000,
          "thresholdPercentage": 0.1
         }
        },
        "serverUrl": "",
        "updateMode": "once"
       },
       "containerKey": "pivot-table",
       "showTitleBar": false,
       "style": {}
      }
     }
    }
   },
   "outputs": [
    {
     "data": {
      "application/vnd.atoti.v0+json": {
       "cellSet": {
        "axes": [
         {
          "hierarchies": [
           {
            "dimension": "Measures",
            "hierarchy": "Measures"
           },
           {
            "dimension": "Hierarchies",
            "hierarchy": "Other Bucket"
           }
          ],
          "id": 0,
          "positions": [
           [
            {
             "captionPath": [
              "gamma.VALUE"
             ],
             "namePath": [
              "gamma.VALUE"
             ],
             "properties": {
              "DISPLAY_INFO": 0
             }
            },
            {
             "captionPath": [
              "AllMember",
              "1"
             ],
             "namePath": [
              "AllMember",
              "1"
             ],
             "properties": {
              "DISPLAY_INFO": 0
             }
            }
           ],
           [
            {
             "captionPath": [
              "gamma.VALUE"
             ],
             "namePath": [
              "gamma.VALUE"
             ],
             "properties": {
              "DISPLAY_INFO": 0
             }
            },
            {
             "captionPath": [
              "AllMember",
              "10"
             ],
             "namePath": [
              "AllMember",
              "10"
             ],
             "properties": {
              "DISPLAY_INFO": 131072
             }
            }
           ],
           [
            {
             "captionPath": [
              "gamma.VALUE"
             ],
             "namePath": [
              "gamma.VALUE"
             ],
             "properties": {
              "DISPLAY_INFO": 0
             }
            },
            {
             "captionPath": [
              "AllMember",
              "11"
             ],
             "namePath": [
              "AllMember",
              "11"
             ],
             "properties": {
              "DISPLAY_INFO": 131072
             }
            }
           ],
           [
            {
             "captionPath": [
              "gamma.VALUE"
             ],
             "namePath": [
              "gamma.VALUE"
             ],
             "properties": {
              "DISPLAY_INFO": 0
             }
            },
            {
             "captionPath": [
              "AllMember",
              "12"
             ],
             "namePath": [
              "AllMember",
              "12"
             ],
             "properties": {
              "DISPLAY_INFO": 131072
             }
            }
           ],
           [
            {
             "captionPath": [
              "gamma.VALUE"
             ],
             "namePath": [
              "gamma.VALUE"
             ],
             "properties": {
              "DISPLAY_INFO": 0
             }
            },
            {
             "captionPath": [
              "AllMember",
              "13"
             ],
             "namePath": [
              "AllMember",
              "13"
             ],
             "properties": {
              "DISPLAY_INFO": 131072
             }
            }
           ],
           [
            {
             "captionPath": [
              "gamma.VALUE"
             ],
             "namePath": [
              "gamma.VALUE"
             ],
             "properties": {
              "DISPLAY_INFO": 0
             }
            },
            {
             "captionPath": [
              "AllMember",
              "2"
             ],
             "namePath": [
              "AllMember",
              "2"
             ],
             "properties": {
              "DISPLAY_INFO": 131072
             }
            }
           ],
           [
            {
             "captionPath": [
              "gamma.VALUE"
             ],
             "namePath": [
              "gamma.VALUE"
             ],
             "properties": {
              "DISPLAY_INFO": 0
             }
            },
            {
             "captionPath": [
              "AllMember",
              "3"
             ],
             "namePath": [
              "AllMember",
              "3"
             ],
             "properties": {
              "DISPLAY_INFO": 131072
             }
            }
           ],
           [
            {
             "captionPath": [
              "gamma.VALUE"
             ],
             "namePath": [
              "gamma.VALUE"
             ],
             "properties": {
              "DISPLAY_INFO": 0
             }
            },
            {
             "captionPath": [
              "AllMember",
              "4"
             ],
             "namePath": [
              "AllMember",
              "4"
             ],
             "properties": {
              "DISPLAY_INFO": 131072
             }
            }
           ],
           [
            {
             "captionPath": [
              "gamma.VALUE"
             ],
             "namePath": [
              "gamma.VALUE"
             ],
             "properties": {
              "DISPLAY_INFO": 0
             }
            },
            {
             "captionPath": [
              "AllMember",
              "5"
             ],
             "namePath": [
              "AllMember",
              "5"
             ],
             "properties": {
              "DISPLAY_INFO": 131072
             }
            }
           ],
           [
            {
             "captionPath": [
              "gamma.VALUE"
             ],
             "namePath": [
              "gamma.VALUE"
             ],
             "properties": {
              "DISPLAY_INFO": 0
             }
            },
            {
             "captionPath": [
              "AllMember",
              "6"
             ],
             "namePath": [
              "AllMember",
              "6"
             ],
             "properties": {
              "DISPLAY_INFO": 131072
             }
            }
           ],
           [
            {
             "captionPath": [
              "gamma.VALUE"
             ],
             "namePath": [
              "gamma.VALUE"
             ],
             "properties": {
              "DISPLAY_INFO": 0
             }
            },
            {
             "captionPath": [
              "AllMember",
              "7"
             ],
             "namePath": [
              "AllMember",
              "7"
             ],
             "properties": {
              "DISPLAY_INFO": 131072
             }
            }
           ],
           [
            {
             "captionPath": [
              "gamma.VALUE"
             ],
             "namePath": [
              "gamma.VALUE"
             ],
             "properties": {
              "DISPLAY_INFO": 0
             }
            },
            {
             "captionPath": [
              "AllMember",
              "8"
             ],
             "namePath": [
              "AllMember",
              "8"
             ],
             "properties": {
              "DISPLAY_INFO": 131072
             }
            }
           ],
           [
            {
             "captionPath": [
              "gamma.VALUE"
             ],
             "namePath": [
              "gamma.VALUE"
             ],
             "properties": {
              "DISPLAY_INFO": 0
             }
            },
            {
             "captionPath": [
              "AllMember",
              "9"
             ],
             "namePath": [
              "AllMember",
              "9"
             ],
             "properties": {
              "DISPLAY_INFO": 131072
             }
            }
           ]
          ]
         },
         {
          "hierarchies": [
           {
            "dimension": "Hierarchies",
            "hierarchy": "Bucket"
           }
          ],
          "id": 1,
          "positions": [
           [
            {
             "captionPath": [
              "AllMember"
             ],
             "namePath": [
              "AllMember"
             ],
             "properties": {
              "DISPLAY_INFO": 65547
             }
            }
           ],
           [
            {
             "captionPath": [
              "AllMember",
              "1"
             ],
             "namePath": [
              "AllMember",
              "1"
             ],
             "properties": {
              "DISPLAY_INFO": 0
             }
            }
           ],
           [
            {
             "captionPath": [
              "AllMember",
              "10"
             ],
             "namePath": [
              "AllMember",
              "10"
             ],
             "properties": {
              "DISPLAY_INFO": 131072
             }
            }
           ],
           [
            {
             "captionPath": [
              "AllMember",
              "11"
             ],
             "namePath": [
              "AllMember",
              "11"
             ],
             "properties": {
              "DISPLAY_INFO": 131072
             }
            }
           ],
           [
            {
             "captionPath": [
              "AllMember",
              "12"
             ],
             "namePath": [
              "AllMember",
              "12"
             ],
             "properties": {
              "DISPLAY_INFO": 131072
             }
            }
           ],
           [
            {
             "captionPath": [
              "AllMember",
              "2"
             ],
             "namePath": [
              "AllMember",
              "2"
             ],
             "properties": {
              "DISPLAY_INFO": 131072
             }
            }
           ],
           [
            {
             "captionPath": [
              "AllMember",
              "3"
             ],
             "namePath": [
              "AllMember",
              "3"
             ],
             "properties": {
              "DISPLAY_INFO": 131072
             }
            }
           ],
           [
            {
             "captionPath": [
              "AllMember",
              "4"
             ],
             "namePath": [
              "AllMember",
              "4"
             ],
             "properties": {
              "DISPLAY_INFO": 131072
             }
            }
           ],
           [
            {
             "captionPath": [
              "AllMember",
              "5"
             ],
             "namePath": [
              "AllMember",
              "5"
             ],
             "properties": {
              "DISPLAY_INFO": 131072
             }
            }
           ],
           [
            {
             "captionPath": [
              "AllMember",
              "7"
             ],
             "namePath": [
              "AllMember",
              "7"
             ],
             "properties": {
              "DISPLAY_INFO": 131072
             }
            }
           ],
           [
            {
             "captionPath": [
              "AllMember",
              "8"
             ],
             "namePath": [
              "AllMember",
              "8"
             ],
             "properties": {
              "DISPLAY_INFO": 131072
             }
            }
           ],
           [
            {
             "captionPath": [
              "AllMember",
              "9"
             ],
             "namePath": [
              "AllMember",
              "9"
             ],
             "properties": {
              "DISPLAY_INFO": 131072
             }
            }
           ]
          ]
         }
        ],
        "cells": [
         {
          "formattedValue": ".00",
          "ordinal": 2,
          "properties": {
           "BACK_COLOR": null,
           "FONT_FLAGS": 0,
           "FORE_COLOR": null
          },
          "value": 0
         },
         {
          "formattedValue": ".00",
          "ordinal": 13,
          "properties": {
           "BACK_COLOR": null,
           "FONT_FLAGS": 0,
           "FORE_COLOR": null
          },
          "value": 0
         },
         {
          "formattedValue": ".15",
          "ordinal": 14,
          "properties": {
           "BACK_COLOR": null,
           "FONT_FLAGS": 0,
           "FORE_COLOR": null
          },
          "value": 0.15
         },
         {
          "formattedValue": ".00",
          "ordinal": 15,
          "properties": {
           "BACK_COLOR": null,
           "FONT_FLAGS": 0,
           "FORE_COLOR": null
          },
          "value": 0
         },
         {
          "formattedValue": ".45",
          "ordinal": 16,
          "properties": {
           "BACK_COLOR": null,
           "FONT_FLAGS": 0,
           "FORE_COLOR": null
          },
          "value": 0.45
         },
         {
          "formattedValue": ".45",
          "ordinal": 17,
          "properties": {
           "BACK_COLOR": null,
           "FONT_FLAGS": 0,
           "FORE_COLOR": null
          },
          "value": 0.45
         },
         {
          "formattedValue": ".15",
          "ordinal": 18,
          "properties": {
           "BACK_COLOR": null,
           "FONT_FLAGS": 0,
           "FORE_COLOR": null
          },
          "value": 0.15
         },
         {
          "formattedValue": ".15",
          "ordinal": 19,
          "properties": {
           "BACK_COLOR": null,
           "FONT_FLAGS": 0,
           "FORE_COLOR": null
          },
          "value": 0.15
         },
         {
          "formattedValue": ".15",
          "ordinal": 20,
          "properties": {
           "BACK_COLOR": null,
           "FONT_FLAGS": 0,
           "FORE_COLOR": null
          },
          "value": 0.15
         },
         {
          "formattedValue": ".15",
          "ordinal": 21,
          "properties": {
           "BACK_COLOR": null,
           "FONT_FLAGS": 0,
           "FORE_COLOR": null
          },
          "value": 0.15
         },
         {
          "formattedValue": ".15",
          "ordinal": 22,
          "properties": {
           "BACK_COLOR": null,
           "FONT_FLAGS": 0,
           "FORE_COLOR": null
          },
          "value": 0.15
         },
         {
          "formattedValue": ".15",
          "ordinal": 23,
          "properties": {
           "BACK_COLOR": null,
           "FONT_FLAGS": 0,
           "FORE_COLOR": null
          },
          "value": 0.15
         },
         {
          "formattedValue": ".15",
          "ordinal": 24,
          "properties": {
           "BACK_COLOR": null,
           "FONT_FLAGS": 0,
           "FORE_COLOR": null
          },
          "value": 0.15
         },
         {
          "formattedValue": ".15",
          "ordinal": 25,
          "properties": {
           "BACK_COLOR": null,
           "FONT_FLAGS": 0,
           "FORE_COLOR": null
          },
          "value": 0.15
         },
         {
          "formattedValue": ".15",
          "ordinal": 26,
          "properties": {
           "BACK_COLOR": null,
           "FONT_FLAGS": 0,
           "FORE_COLOR": null
          },
          "value": 0.15
         },
         {
          "formattedValue": ".00",
          "ordinal": 27,
          "properties": {
           "BACK_COLOR": null,
           "FONT_FLAGS": 0,
           "FORE_COLOR": null
          },
          "value": 0
         },
         {
          "formattedValue": ".00",
          "ordinal": 28,
          "properties": {
           "BACK_COLOR": null,
           "FONT_FLAGS": 0,
           "FORE_COLOR": null
          },
          "value": 0
         },
         {
          "formattedValue": ".45",
          "ordinal": 29,
          "properties": {
           "BACK_COLOR": null,
           "FONT_FLAGS": 0,
           "FORE_COLOR": null
          },
          "value": 0.45
         },
         {
          "formattedValue": ".45",
          "ordinal": 30,
          "properties": {
           "BACK_COLOR": null,
           "FONT_FLAGS": 0,
           "FORE_COLOR": null
          },
          "value": 0.45
         },
         {
          "formattedValue": ".15",
          "ordinal": 31,
          "properties": {
           "BACK_COLOR": null,
           "FONT_FLAGS": 0,
           "FORE_COLOR": null
          },
          "value": 0.15
         },
         {
          "formattedValue": ".15",
          "ordinal": 32,
          "properties": {
           "BACK_COLOR": null,
           "FONT_FLAGS": 0,
           "FORE_COLOR": null
          },
          "value": 0.15
         },
         {
          "formattedValue": ".15",
          "ordinal": 33,
          "properties": {
           "BACK_COLOR": null,
           "FONT_FLAGS": 0,
           "FORE_COLOR": null
          },
          "value": 0.15
         },
         {
          "formattedValue": ".15",
          "ordinal": 34,
          "properties": {
           "BACK_COLOR": null,
           "FONT_FLAGS": 0,
           "FORE_COLOR": null
          },
          "value": 0.15
         },
         {
          "formattedValue": ".15",
          "ordinal": 35,
          "properties": {
           "BACK_COLOR": null,
           "FONT_FLAGS": 0,
           "FORE_COLOR": null
          },
          "value": 0.15
         },
         {
          "formattedValue": ".15",
          "ordinal": 36,
          "properties": {
           "BACK_COLOR": null,
           "FONT_FLAGS": 0,
           "FORE_COLOR": null
          },
          "value": 0.15
         },
         {
          "formattedValue": ".15",
          "ordinal": 37,
          "properties": {
           "BACK_COLOR": null,
           "FONT_FLAGS": 0,
           "FORE_COLOR": null
          },
          "value": 0.15
         },
         {
          "formattedValue": ".15",
          "ordinal": 38,
          "properties": {
           "BACK_COLOR": null,
           "FONT_FLAGS": 0,
           "FORE_COLOR": null
          },
          "value": 0.15
         },
         {
          "formattedValue": ".00",
          "ordinal": 39,
          "properties": {
           "BACK_COLOR": null,
           "FONT_FLAGS": 0,
           "FORE_COLOR": null
          },
          "value": 0
         },
         {
          "formattedValue": ".00",
          "ordinal": 40,
          "properties": {
           "BACK_COLOR": null,
           "FONT_FLAGS": 0,
           "FORE_COLOR": null
          },
          "value": 0
         },
         {
          "formattedValue": ".00",
          "ordinal": 41,
          "properties": {
           "BACK_COLOR": null,
           "FONT_FLAGS": 0,
           "FORE_COLOR": null
          },
          "value": 0
         },
         {
          "formattedValue": ".00",
          "ordinal": 42,
          "properties": {
           "BACK_COLOR": null,
           "FONT_FLAGS": 0,
           "FORE_COLOR": null
          },
          "value": 0
         },
         {
          "formattedValue": ".00",
          "ordinal": 43,
          "properties": {
           "BACK_COLOR": null,
           "FONT_FLAGS": 0,
           "FORE_COLOR": null
          },
          "value": 0
         },
         {
          "formattedValue": ".00",
          "ordinal": 44,
          "properties": {
           "BACK_COLOR": null,
           "FONT_FLAGS": 0,
           "FORE_COLOR": null
          },
          "value": 0
         },
         {
          "formattedValue": ".00",
          "ordinal": 45,
          "properties": {
           "BACK_COLOR": null,
           "FONT_FLAGS": 0,
           "FORE_COLOR": null
          },
          "value": 0
         },
         {
          "formattedValue": ".00",
          "ordinal": 46,
          "properties": {
           "BACK_COLOR": null,
           "FONT_FLAGS": 0,
           "FORE_COLOR": null
          },
          "value": 0
         },
         {
          "formattedValue": ".00",
          "ordinal": 47,
          "properties": {
           "BACK_COLOR": null,
           "FONT_FLAGS": 0,
           "FORE_COLOR": null
          },
          "value": 0
         },
         {
          "formattedValue": ".00",
          "ordinal": 48,
          "properties": {
           "BACK_COLOR": null,
           "FONT_FLAGS": 0,
           "FORE_COLOR": null
          },
          "value": 0
         },
         {
          "formattedValue": ".00",
          "ordinal": 49,
          "properties": {
           "BACK_COLOR": null,
           "FONT_FLAGS": 0,
           "FORE_COLOR": null
          },
          "value": 0
         },
         {
          "formattedValue": ".00",
          "ordinal": 50,
          "properties": {
           "BACK_COLOR": null,
           "FONT_FLAGS": 0,
           "FORE_COLOR": null
          },
          "value": 0
         },
         {
          "formattedValue": ".00",
          "ordinal": 51,
          "properties": {
           "BACK_COLOR": null,
           "FONT_FLAGS": 0,
           "FORE_COLOR": null
          },
          "value": 0
         },
         {
          "formattedValue": ".45",
          "ordinal": 52,
          "properties": {
           "BACK_COLOR": null,
           "FONT_FLAGS": 0,
           "FORE_COLOR": null
          },
          "value": 0.45
         },
         {
          "formattedValue": ".45",
          "ordinal": 53,
          "properties": {
           "BACK_COLOR": null,
           "FONT_FLAGS": 0,
           "FORE_COLOR": null
          },
          "value": 0.45
         },
         {
          "formattedValue": ".00",
          "ordinal": 54,
          "properties": {
           "BACK_COLOR": null,
           "FONT_FLAGS": 0,
           "FORE_COLOR": null
          },
          "value": 0
         },
         {
          "formattedValue": ".00",
          "ordinal": 55,
          "properties": {
           "BACK_COLOR": null,
           "FONT_FLAGS": 0,
           "FORE_COLOR": null
          },
          "value": 0
         },
         {
          "formattedValue": ".75",
          "ordinal": 56,
          "properties": {
           "BACK_COLOR": null,
           "FONT_FLAGS": 0,
           "FORE_COLOR": null
          },
          "value": 0.75
         },
         {
          "formattedValue": ".45",
          "ordinal": 57,
          "properties": {
           "BACK_COLOR": null,
           "FONT_FLAGS": 0,
           "FORE_COLOR": null
          },
          "value": 0.45
         },
         {
          "formattedValue": ".45",
          "ordinal": 58,
          "properties": {
           "BACK_COLOR": null,
           "FONT_FLAGS": 0,
           "FORE_COLOR": null
          },
          "value": 0.45
         },
         {
          "formattedValue": ".45",
          "ordinal": 59,
          "properties": {
           "BACK_COLOR": null,
           "FONT_FLAGS": 0,
           "FORE_COLOR": null
          },
          "value": 0.45
         },
         {
          "formattedValue": ".45",
          "ordinal": 60,
          "properties": {
           "BACK_COLOR": null,
           "FONT_FLAGS": 0,
           "FORE_COLOR": null
          },
          "value": 0.45
         },
         {
          "formattedValue": ".45",
          "ordinal": 61,
          "properties": {
           "BACK_COLOR": null,
           "FONT_FLAGS": 0,
           "FORE_COLOR": null
          },
          "value": 0.45
         },
         {
          "formattedValue": ".45",
          "ordinal": 62,
          "properties": {
           "BACK_COLOR": null,
           "FONT_FLAGS": 0,
           "FORE_COLOR": null
          },
          "value": 0.45
         },
         {
          "formattedValue": ".45",
          "ordinal": 63,
          "properties": {
           "BACK_COLOR": null,
           "FONT_FLAGS": 0,
           "FORE_COLOR": null
          },
          "value": 0.45
         },
         {
          "formattedValue": ".45",
          "ordinal": 64,
          "properties": {
           "BACK_COLOR": null,
           "FONT_FLAGS": 0,
           "FORE_COLOR": null
          },
          "value": 0.45
         },
         {
          "formattedValue": ".15",
          "ordinal": 65,
          "properties": {
           "BACK_COLOR": null,
           "FONT_FLAGS": 0,
           "FORE_COLOR": null
          },
          "value": 0.15
         },
         {
          "formattedValue": ".15",
          "ordinal": 66,
          "properties": {
           "BACK_COLOR": null,
           "FONT_FLAGS": 0,
           "FORE_COLOR": null
          },
          "value": 0.15
         },
         {
          "formattedValue": ".00",
          "ordinal": 67,
          "properties": {
           "BACK_COLOR": null,
           "FONT_FLAGS": 0,
           "FORE_COLOR": null
          },
          "value": 0
         },
         {
          "formattedValue": ".45",
          "ordinal": 68,
          "properties": {
           "BACK_COLOR": null,
           "FONT_FLAGS": 0,
           "FORE_COLOR": null
          },
          "value": 0.45
         },
         {
          "formattedValue": ".45",
          "ordinal": 69,
          "properties": {
           "BACK_COLOR": null,
           "FONT_FLAGS": 0,
           "FORE_COLOR": null
          },
          "value": 0.45
         },
         {
          "formattedValue": ".00",
          "ordinal": 70,
          "properties": {
           "BACK_COLOR": null,
           "FONT_FLAGS": 0,
           "FORE_COLOR": null
          },
          "value": 0
         },
         {
          "formattedValue": ".15",
          "ordinal": 71,
          "properties": {
           "BACK_COLOR": null,
           "FONT_FLAGS": 0,
           "FORE_COLOR": null
          },
          "value": 0.15
         },
         {
          "formattedValue": ".15",
          "ordinal": 72,
          "properties": {
           "BACK_COLOR": null,
           "FONT_FLAGS": 0,
           "FORE_COLOR": null
          },
          "value": 0.15
         },
         {
          "formattedValue": ".15",
          "ordinal": 73,
          "properties": {
           "BACK_COLOR": null,
           "FONT_FLAGS": 0,
           "FORE_COLOR": null
          },
          "value": 0.15
         },
         {
          "formattedValue": ".15",
          "ordinal": 74,
          "properties": {
           "BACK_COLOR": null,
           "FONT_FLAGS": 0,
           "FORE_COLOR": null
          },
          "value": 0.15
         },
         {
          "formattedValue": ".15",
          "ordinal": 75,
          "properties": {
           "BACK_COLOR": null,
           "FONT_FLAGS": 0,
           "FORE_COLOR": null
          },
          "value": 0.15
         },
         {
          "formattedValue": ".15",
          "ordinal": 76,
          "properties": {
           "BACK_COLOR": null,
           "FONT_FLAGS": 0,
           "FORE_COLOR": null
          },
          "value": 0.15
         },
         {
          "formattedValue": ".15",
          "ordinal": 77,
          "properties": {
           "BACK_COLOR": null,
           "FONT_FLAGS": 0,
           "FORE_COLOR": null
          },
          "value": 0.15
         },
         {
          "formattedValue": ".15",
          "ordinal": 78,
          "properties": {
           "BACK_COLOR": null,
           "FONT_FLAGS": 0,
           "FORE_COLOR": null
          },
          "value": 0.15
         },
         {
          "formattedValue": ".15",
          "ordinal": 79,
          "properties": {
           "BACK_COLOR": null,
           "FONT_FLAGS": 0,
           "FORE_COLOR": null
          },
          "value": 0.15
         },
         {
          "formattedValue": ".00",
          "ordinal": 80,
          "properties": {
           "BACK_COLOR": null,
           "FONT_FLAGS": 0,
           "FORE_COLOR": null
          },
          "value": 0
         },
         {
          "formattedValue": ".45",
          "ordinal": 81,
          "properties": {
           "BACK_COLOR": null,
           "FONT_FLAGS": 0,
           "FORE_COLOR": null
          },
          "value": 0.45
         },
         {
          "formattedValue": ".45",
          "ordinal": 82,
          "properties": {
           "BACK_COLOR": null,
           "FONT_FLAGS": 0,
           "FORE_COLOR": null
          },
          "value": 0.45
         },
         {
          "formattedValue": ".15",
          "ordinal": 83,
          "properties": {
           "BACK_COLOR": null,
           "FONT_FLAGS": 0,
           "FORE_COLOR": null
          },
          "value": 0.15
         },
         {
          "formattedValue": ".00",
          "ordinal": 84,
          "properties": {
           "BACK_COLOR": null,
           "FONT_FLAGS": 0,
           "FORE_COLOR": null
          },
          "value": 0
         },
         {
          "formattedValue": ".15",
          "ordinal": 85,
          "properties": {
           "BACK_COLOR": null,
           "FONT_FLAGS": 0,
           "FORE_COLOR": null
          },
          "value": 0.15
         },
         {
          "formattedValue": ".15",
          "ordinal": 86,
          "properties": {
           "BACK_COLOR": null,
           "FONT_FLAGS": 0,
           "FORE_COLOR": null
          },
          "value": 0.15
         },
         {
          "formattedValue": ".15",
          "ordinal": 87,
          "properties": {
           "BACK_COLOR": null,
           "FONT_FLAGS": 0,
           "FORE_COLOR": null
          },
          "value": 0.15
         },
         {
          "formattedValue": ".15",
          "ordinal": 88,
          "properties": {
           "BACK_COLOR": null,
           "FONT_FLAGS": 0,
           "FORE_COLOR": null
          },
          "value": 0.15
         },
         {
          "formattedValue": ".15",
          "ordinal": 89,
          "properties": {
           "BACK_COLOR": null,
           "FONT_FLAGS": 0,
           "FORE_COLOR": null
          },
          "value": 0.15
         },
         {
          "formattedValue": ".15",
          "ordinal": 90,
          "properties": {
           "BACK_COLOR": null,
           "FONT_FLAGS": 0,
           "FORE_COLOR": null
          },
          "value": 0.15
         },
         {
          "formattedValue": ".15",
          "ordinal": 91,
          "properties": {
           "BACK_COLOR": null,
           "FONT_FLAGS": 0,
           "FORE_COLOR": null
          },
          "value": 0.15
         },
         {
          "formattedValue": ".15",
          "ordinal": 92,
          "properties": {
           "BACK_COLOR": null,
           "FONT_FLAGS": 0,
           "FORE_COLOR": null
          },
          "value": 0.15
         },
         {
          "formattedValue": ".00",
          "ordinal": 93,
          "properties": {
           "BACK_COLOR": null,
           "FONT_FLAGS": 0,
           "FORE_COLOR": null
          },
          "value": 0
         },
         {
          "formattedValue": ".45",
          "ordinal": 94,
          "properties": {
           "BACK_COLOR": null,
           "FONT_FLAGS": 0,
           "FORE_COLOR": null
          },
          "value": 0.45
         },
         {
          "formattedValue": ".45",
          "ordinal": 95,
          "properties": {
           "BACK_COLOR": null,
           "FONT_FLAGS": 0,
           "FORE_COLOR": null
          },
          "value": 0.45
         },
         {
          "formattedValue": ".15",
          "ordinal": 96,
          "properties": {
           "BACK_COLOR": null,
           "FONT_FLAGS": 0,
           "FORE_COLOR": null
          },
          "value": 0.15
         },
         {
          "formattedValue": ".15",
          "ordinal": 97,
          "properties": {
           "BACK_COLOR": null,
           "FONT_FLAGS": 0,
           "FORE_COLOR": null
          },
          "value": 0.15
         },
         {
          "formattedValue": ".00",
          "ordinal": 98,
          "properties": {
           "BACK_COLOR": null,
           "FONT_FLAGS": 0,
           "FORE_COLOR": null
          },
          "value": 0
         },
         {
          "formattedValue": ".15",
          "ordinal": 99,
          "properties": {
           "BACK_COLOR": null,
           "FONT_FLAGS": 0,
           "FORE_COLOR": null
          },
          "value": 0.15
         },
         {
          "formattedValue": ".15",
          "ordinal": 100,
          "properties": {
           "BACK_COLOR": null,
           "FONT_FLAGS": 0,
           "FORE_COLOR": null
          },
          "value": 0.15
         },
         {
          "formattedValue": ".15",
          "ordinal": 101,
          "properties": {
           "BACK_COLOR": null,
           "FONT_FLAGS": 0,
           "FORE_COLOR": null
          },
          "value": 0.15
         },
         {
          "formattedValue": ".15",
          "ordinal": 102,
          "properties": {
           "BACK_COLOR": null,
           "FONT_FLAGS": 0,
           "FORE_COLOR": null
          },
          "value": 0.15
         },
         {
          "formattedValue": ".15",
          "ordinal": 103,
          "properties": {
           "BACK_COLOR": null,
           "FONT_FLAGS": 0,
           "FORE_COLOR": null
          },
          "value": 0.15
         },
         {
          "formattedValue": ".15",
          "ordinal": 104,
          "properties": {
           "BACK_COLOR": null,
           "FONT_FLAGS": 0,
           "FORE_COLOR": null
          },
          "value": 0.15
         },
         {
          "formattedValue": ".15",
          "ordinal": 105,
          "properties": {
           "BACK_COLOR": null,
           "FONT_FLAGS": 0,
           "FORE_COLOR": null
          },
          "value": 0.15
         },
         {
          "formattedValue": ".00",
          "ordinal": 106,
          "properties": {
           "BACK_COLOR": null,
           "FONT_FLAGS": 0,
           "FORE_COLOR": null
          },
          "value": 0
         },
         {
          "formattedValue": ".45",
          "ordinal": 107,
          "properties": {
           "BACK_COLOR": null,
           "FONT_FLAGS": 0,
           "FORE_COLOR": null
          },
          "value": 0.45
         },
         {
          "formattedValue": ".45",
          "ordinal": 108,
          "properties": {
           "BACK_COLOR": null,
           "FONT_FLAGS": 0,
           "FORE_COLOR": null
          },
          "value": 0.45
         },
         {
          "formattedValue": ".15",
          "ordinal": 109,
          "properties": {
           "BACK_COLOR": null,
           "FONT_FLAGS": 0,
           "FORE_COLOR": null
          },
          "value": 0.15
         },
         {
          "formattedValue": ".15",
          "ordinal": 110,
          "properties": {
           "BACK_COLOR": null,
           "FONT_FLAGS": 0,
           "FORE_COLOR": null
          },
          "value": 0.15
         },
         {
          "formattedValue": ".15",
          "ordinal": 111,
          "properties": {
           "BACK_COLOR": null,
           "FONT_FLAGS": 0,
           "FORE_COLOR": null
          },
          "value": 0.15
         },
         {
          "formattedValue": ".00",
          "ordinal": 112,
          "properties": {
           "BACK_COLOR": null,
           "FONT_FLAGS": 0,
           "FORE_COLOR": null
          },
          "value": 0
         },
         {
          "formattedValue": ".15",
          "ordinal": 113,
          "properties": {
           "BACK_COLOR": null,
           "FONT_FLAGS": 0,
           "FORE_COLOR": null
          },
          "value": 0.15
         },
         {
          "formattedValue": ".15",
          "ordinal": 114,
          "properties": {
           "BACK_COLOR": null,
           "FONT_FLAGS": 0,
           "FORE_COLOR": null
          },
          "value": 0.15
         },
         {
          "formattedValue": ".15",
          "ordinal": 115,
          "properties": {
           "BACK_COLOR": null,
           "FONT_FLAGS": 0,
           "FORE_COLOR": null
          },
          "value": 0.15
         },
         {
          "formattedValue": ".15",
          "ordinal": 116,
          "properties": {
           "BACK_COLOR": null,
           "FONT_FLAGS": 0,
           "FORE_COLOR": null
          },
          "value": 0.15
         },
         {
          "formattedValue": ".15",
          "ordinal": 117,
          "properties": {
           "BACK_COLOR": null,
           "FONT_FLAGS": 0,
           "FORE_COLOR": null
          },
          "value": 0.15
         },
         {
          "formattedValue": ".15",
          "ordinal": 118,
          "properties": {
           "BACK_COLOR": null,
           "FONT_FLAGS": 0,
           "FORE_COLOR": null
          },
          "value": 0.15
         },
         {
          "formattedValue": ".00",
          "ordinal": 119,
          "properties": {
           "BACK_COLOR": null,
           "FONT_FLAGS": 0,
           "FORE_COLOR": null
          },
          "value": 0
         },
         {
          "formattedValue": ".45",
          "ordinal": 120,
          "properties": {
           "BACK_COLOR": null,
           "FONT_FLAGS": 0,
           "FORE_COLOR": null
          },
          "value": 0.45
         },
         {
          "formattedValue": ".45",
          "ordinal": 121,
          "properties": {
           "BACK_COLOR": null,
           "FONT_FLAGS": 0,
           "FORE_COLOR": null
          },
          "value": 0.45
         },
         {
          "formattedValue": ".15",
          "ordinal": 122,
          "properties": {
           "BACK_COLOR": null,
           "FONT_FLAGS": 0,
           "FORE_COLOR": null
          },
          "value": 0.15
         },
         {
          "formattedValue": ".15",
          "ordinal": 123,
          "properties": {
           "BACK_COLOR": null,
           "FONT_FLAGS": 0,
           "FORE_COLOR": null
          },
          "value": 0.15
         },
         {
          "formattedValue": ".15",
          "ordinal": 124,
          "properties": {
           "BACK_COLOR": null,
           "FONT_FLAGS": 0,
           "FORE_COLOR": null
          },
          "value": 0.15
         },
         {
          "formattedValue": ".15",
          "ordinal": 125,
          "properties": {
           "BACK_COLOR": null,
           "FONT_FLAGS": 0,
           "FORE_COLOR": null
          },
          "value": 0.15
         },
         {
          "formattedValue": ".15",
          "ordinal": 126,
          "properties": {
           "BACK_COLOR": null,
           "FONT_FLAGS": 0,
           "FORE_COLOR": null
          },
          "value": 0.15
         },
         {
          "formattedValue": ".00",
          "ordinal": 127,
          "properties": {
           "BACK_COLOR": null,
           "FONT_FLAGS": 0,
           "FORE_COLOR": null
          },
          "value": 0
         },
         {
          "formattedValue": ".15",
          "ordinal": 128,
          "properties": {
           "BACK_COLOR": null,
           "FONT_FLAGS": 0,
           "FORE_COLOR": null
          },
          "value": 0.15
         },
         {
          "formattedValue": ".15",
          "ordinal": 129,
          "properties": {
           "BACK_COLOR": null,
           "FONT_FLAGS": 0,
           "FORE_COLOR": null
          },
          "value": 0.15
         },
         {
          "formattedValue": ".15",
          "ordinal": 130,
          "properties": {
           "BACK_COLOR": null,
           "FONT_FLAGS": 0,
           "FORE_COLOR": null
          },
          "value": 0.15
         },
         {
          "formattedValue": ".15",
          "ordinal": 131,
          "properties": {
           "BACK_COLOR": null,
           "FONT_FLAGS": 0,
           "FORE_COLOR": null
          },
          "value": 0.15
         },
         {
          "formattedValue": ".00",
          "ordinal": 132,
          "properties": {
           "BACK_COLOR": null,
           "FONT_FLAGS": 0,
           "FORE_COLOR": null
          },
          "value": 0
         },
         {
          "formattedValue": ".45",
          "ordinal": 133,
          "properties": {
           "BACK_COLOR": null,
           "FONT_FLAGS": 0,
           "FORE_COLOR": null
          },
          "value": 0.45
         },
         {
          "formattedValue": ".45",
          "ordinal": 134,
          "properties": {
           "BACK_COLOR": null,
           "FONT_FLAGS": 0,
           "FORE_COLOR": null
          },
          "value": 0.45
         },
         {
          "formattedValue": ".15",
          "ordinal": 135,
          "properties": {
           "BACK_COLOR": null,
           "FONT_FLAGS": 0,
           "FORE_COLOR": null
          },
          "value": 0.15
         },
         {
          "formattedValue": ".15",
          "ordinal": 136,
          "properties": {
           "BACK_COLOR": null,
           "FONT_FLAGS": 0,
           "FORE_COLOR": null
          },
          "value": 0.15
         },
         {
          "formattedValue": ".15",
          "ordinal": 137,
          "properties": {
           "BACK_COLOR": null,
           "FONT_FLAGS": 0,
           "FORE_COLOR": null
          },
          "value": 0.15
         },
         {
          "formattedValue": ".15",
          "ordinal": 138,
          "properties": {
           "BACK_COLOR": null,
           "FONT_FLAGS": 0,
           "FORE_COLOR": null
          },
          "value": 0.15
         },
         {
          "formattedValue": ".15",
          "ordinal": 139,
          "properties": {
           "BACK_COLOR": null,
           "FONT_FLAGS": 0,
           "FORE_COLOR": null
          },
          "value": 0.15
         },
         {
          "formattedValue": ".15",
          "ordinal": 140,
          "properties": {
           "BACK_COLOR": null,
           "FONT_FLAGS": 0,
           "FORE_COLOR": null
          },
          "value": 0.15
         },
         {
          "formattedValue": ".00",
          "ordinal": 141,
          "properties": {
           "BACK_COLOR": null,
           "FONT_FLAGS": 0,
           "FORE_COLOR": null
          },
          "value": 0
         },
         {
          "formattedValue": ".15",
          "ordinal": 142,
          "properties": {
           "BACK_COLOR": null,
           "FONT_FLAGS": 0,
           "FORE_COLOR": null
          },
          "value": 0.15
         },
         {
          "formattedValue": ".15",
          "ordinal": 143,
          "properties": {
           "BACK_COLOR": null,
           "FONT_FLAGS": 0,
           "FORE_COLOR": null
          },
          "value": 0.15
         },
         {
          "formattedValue": ".15",
          "ordinal": 144,
          "properties": {
           "BACK_COLOR": null,
           "FONT_FLAGS": 0,
           "FORE_COLOR": null
          },
          "value": 0.15
         },
         {
          "formattedValue": ".00",
          "ordinal": 145,
          "properties": {
           "BACK_COLOR": null,
           "FONT_FLAGS": 0,
           "FORE_COLOR": null
          },
          "value": 0
         },
         {
          "formattedValue": ".45",
          "ordinal": 146,
          "properties": {
           "BACK_COLOR": null,
           "FONT_FLAGS": 0,
           "FORE_COLOR": null
          },
          "value": 0.45
         },
         {
          "formattedValue": ".45",
          "ordinal": 147,
          "properties": {
           "BACK_COLOR": null,
           "FONT_FLAGS": 0,
           "FORE_COLOR": null
          },
          "value": 0.45
         },
         {
          "formattedValue": ".15",
          "ordinal": 148,
          "properties": {
           "BACK_COLOR": null,
           "FONT_FLAGS": 0,
           "FORE_COLOR": null
          },
          "value": 0.15
         },
         {
          "formattedValue": ".15",
          "ordinal": 149,
          "properties": {
           "BACK_COLOR": null,
           "FONT_FLAGS": 0,
           "FORE_COLOR": null
          },
          "value": 0.15
         },
         {
          "formattedValue": ".15",
          "ordinal": 150,
          "properties": {
           "BACK_COLOR": null,
           "FONT_FLAGS": 0,
           "FORE_COLOR": null
          },
          "value": 0.15
         },
         {
          "formattedValue": ".15",
          "ordinal": 151,
          "properties": {
           "BACK_COLOR": null,
           "FONT_FLAGS": 0,
           "FORE_COLOR": null
          },
          "value": 0.15
         },
         {
          "formattedValue": ".15",
          "ordinal": 152,
          "properties": {
           "BACK_COLOR": null,
           "FONT_FLAGS": 0,
           "FORE_COLOR": null
          },
          "value": 0.15
         },
         {
          "formattedValue": ".15",
          "ordinal": 153,
          "properties": {
           "BACK_COLOR": null,
           "FONT_FLAGS": 0,
           "FORE_COLOR": null
          },
          "value": 0.15
         },
         {
          "formattedValue": ".15",
          "ordinal": 154,
          "properties": {
           "BACK_COLOR": null,
           "FONT_FLAGS": 0,
           "FORE_COLOR": null
          },
          "value": 0.15
         },
         {
          "formattedValue": ".00",
          "ordinal": 155,
          "properties": {
           "BACK_COLOR": null,
           "FONT_FLAGS": 0,
           "FORE_COLOR": null
          },
          "value": 0
         }
        ],
        "cube": "Risks",
        "defaultMembers": [
         {
          "captionPath": [
           "Count"
          ],
          "dimension": "Measures",
          "hierarchy": "Measures",
          "path": [
           "contributors.COUNT"
          ]
         },
         {
          "captionPath": [
           "Base"
          ],
          "dimension": "Epoch",
          "hierarchy": "Epoch",
          "path": [
           "Base"
          ]
         }
        ],
        "epoch": 4
       },
       "cube": "Risks",
       "error": null,
       "name": null,
       "session": "Unnamed"
      },
      "text/plain": [
       "Open the notebook in JupyterLab with the atoti extension installed and enabled to see this widget."
      ]
     },
     "metadata": {},
     "output_type": "display_data"
    }
   ],
   "source": [
    "cube.visualize()"
   ]
  },
  {
   "cell_type": "markdown",
   "metadata": {},
   "source": [
    "## Aggregating across buckets"
   ]
  },
  {
   "cell_type": "code",
   "execution_count": 29,
   "metadata": {},
   "outputs": [],
   "source": [
    "# 21.4(5)(a):\n",
    "m[\"WSb\"] = m[\"WS\"]\n",
    "m[\"WSc\"] = tt.at(m[\"WS\"], {lvl[\"Bucket\"]: lvl[\"Other Bucket\"]})\n",
    "m[\"sum Kb2 + sum sum WSb WSc gamma\"] = tt.agg.square_sum(\n",
    "    m[\"Kb\"], scope=tt.scope.origin(lvl[\"Bucket\"])\n",
    ") + tt.agg.sum(\n",
    "    m[\"WSb\"] * m[\"WSc\"] * m[\"gamma.VALUE\"],\n",
    "    scope=tt.scope.origin(lvl[\"Bucket\"], lvl[\"Other Bucket\"]),\n",
    ")\n",
    "\n",
    "# 21.4(5)(b):\n",
    "m[\"Sb\"] = tt.max(tt.min(m[\"WS\"], m[\"Kb\"]), -1.0 * m[\"Kb\"])\n",
    "m[\"Sc\"] = tt.at(m[\"Sb\"], {lvl[\"Bucket\"]: lvl[\"Other Bucket\"]})\n",
    "m[\"sum Kb2 + sum sum Sb Sc gamma\"] = tt.agg.square_sum(\n",
    "    m[\"Kb\"], scope=tt.scope.origin(lvl[\"Bucket\"])\n",
    ") + tt.agg.sum(\n",
    "    m[\"Sb\"] * m[\"Sc\"] * m[\"gamma.VALUE\"],\n",
    "    scope=tt.scope.origin(lvl[\"Bucket\"], lvl[\"Other Bucket\"]),\n",
    ")\n",
    "\n",
    "m[\"Delta Margin\"] = tt.where(\n",
    "    m[\"sum Kb2 + sum sum WSb WSc gamma\"] > 0,\n",
    "    tt.sqrt(m[\"sum Kb2 + sum sum WSb WSc gamma\"]),\n",
    "    tt.sqrt(m[\"sum Kb2 + sum sum Sb Sc gamma\"]),\n",
    ")"
   ]
  },
  {
   "cell_type": "code",
   "execution_count": 30,
   "metadata": {},
   "outputs": [
    {
     "data": {
      "application/vnd.atoti.query-result.v0+json": {
       "context": {
        "queriesTimeLimit": 30
       },
       "createEquivalentWidgetCode": "cube.visualize()",
       "mdx": "SELECT [Measures].[Delta Margin] ON COLUMNS FROM [Risks]"
      },
      "text/html": [
       "<div>\n",
       "<style scoped>\n",
       "    .dataframe tbody tr th:only-of-type {\n",
       "        vertical-align: middle;\n",
       "    }\n",
       "\n",
       "    .dataframe tbody tr th {\n",
       "        vertical-align: top;\n",
       "    }\n",
       "\n",
       "    .dataframe thead th {\n",
       "        text-align: right;\n",
       "    }\n",
       "</style>\n",
       "<table border=\"1\" class=\"dataframe\">\n",
       "  <thead>\n",
       "    <tr style=\"text-align: right;\">\n",
       "      <th></th>\n",
       "      <th>Delta Margin</th>\n",
       "    </tr>\n",
       "  </thead>\n",
       "  <tbody>\n",
       "    <tr>\n",
       "      <th>0</th>\n",
       "      <td>9,357,984.34</td>\n",
       "    </tr>\n",
       "  </tbody>\n",
       "</table>\n",
       "</div>"
      ],
      "text/plain": [
       "   Delta Margin\n",
       "0  9,357,984.34"
      ]
     },
     "execution_count": 30,
     "metadata": {},
     "output_type": "execute_result"
    }
   ],
   "source": [
    "cube.query(\n",
    "    m[\"Delta Margin\"]\n",
    ")"
   ]
  }
 ],
 "metadata": {
  "kernelspec": {
   "display_name": "Python 3",
   "language": "python",
   "name": "python3"
  },
  "language_info": {
   "codemirror_mode": {
    "name": "ipython",
    "version": 3
   },
   "file_extension": ".py",
   "mimetype": "text/x-python",
   "name": "python",
   "nbconvert_exporter": "python",
   "pygments_lexer": "ipython3",
   "version": "3.8.5"
  },
  "latex_envs": {
   "LaTeX_envs_menu_present": true,
   "autoclose": false,
   "autocomplete": true,
   "bibliofile": "biblio.bib",
   "cite_by": "apalike",
   "current_citInitial": 1,
   "eqLabelWithNumbers": true,
   "eqNumInitial": 1,
   "hotkeys": {
    "equation": "Ctrl-E",
    "itemize": "Ctrl-I"
   },
   "labels_anchors": false,
   "latex_user_defs": false,
   "report_style_numbering": false,
   "user_envs_cfg": false
  },
  "toc": {
   "base_numbering": 1,
   "nav_menu": {},
   "number_sections": true,
   "sideBar": true,
   "skip_h1_title": false,
   "title_cell": "Table of Contents",
   "title_sidebar": "Contents",
   "toc_cell": false,
   "toc_position": {
    "height": "calc(100% - 180px)",
    "left": "10px",
    "top": "150px",
    "width": "305.517px"
   },
   "toc_section_display": true,
   "toc_window_display": true
  },
  "varInspector": {
   "cols": {
    "lenName": 16,
    "lenType": 16,
    "lenVar": 40
   },
   "kernels_config": {
    "python": {
     "delete_cmd_postfix": "",
     "delete_cmd_prefix": "del ",
     "library": "var_list.py",
     "varRefreshCmd": "print(var_dic_list())"
    },
    "r": {
     "delete_cmd_postfix": ") ",
     "delete_cmd_prefix": "rm(",
     "library": "var_list.r",
     "varRefreshCmd": "cat(var_dic_list()) "
    }
   },
   "types_to_exclude": [
    "module",
    "function",
    "builtin_function_or_method",
    "instance",
    "_Feature"
   ],
   "window_display": false
  }
 },
 "nbformat": 4,
 "nbformat_minor": 4
}
