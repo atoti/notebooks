{
 "cells": [
  {
   "cell_type": "markdown",
   "metadata": {},
   "source": [
    "# Real-time risk with atoti"
   ]
  },
  {
   "cell_type": "markdown",
   "metadata": {},
   "source": [
    "# Imports"
   ]
  },
  {
   "cell_type": "code",
   "execution_count": 1,
   "metadata": {},
   "outputs": [],
   "source": [
    "import QuantLib as ql \n",
    "import time\n",
    "from datetime import datetime, timedelta\n",
    "import pandas as pd\n",
    "import yfinance as yf\n",
    "import numpy as np\n",
    "import random\n",
    "from collections import namedtuple"
   ]
  },
  {
   "cell_type": "markdown",
   "metadata": {},
   "source": [
    "## atoti session"
   ]
  },
  {
   "cell_type": "code",
   "execution_count": 2,
   "metadata": {},
   "outputs": [
    {
     "name": "stdout",
     "output_type": "stream",
     "text": [
      "Welcome to atoti 0.4.2.20200617181308!\n",
      "\n",
      "By using this community edition, you agree with the license available at https://www.atoti.io/eula.\n",
      "Browse the official documentation at https://docs.atoti.io.\n",
      "Join the community at https://www.atoti.io/register.\n",
      "\n",
      "You can hide this message by setting the ATOTI_HIDE_EULA_MESSAGE environment variable to True.\n"
     ]
    }
   ],
   "source": [
    "import atoti as tt\n",
    "import pandas as pd\n",
    "from atoti.config import create_config\n",
    "\n",
    "config = create_config(metadata_db=\"./metadata.db\", max_memory = \"8G\", sampling_mode=tt.sampling.FULL)\n",
    "session = tt.create_session(config=config)"
   ]
  },
  {
   "cell_type": "markdown",
   "metadata": {},
   "source": [
    "# atoti cube"
   ]
  },
  {
   "cell_type": "code",
   "execution_count": 3,
   "metadata": {},
   "outputs": [],
   "source": [
    "sensitivities_store = session.read_csv(\n",
    "    \"risk_data.csv\",\n",
    "    keys=[\"AsOfDate\",\"TradeId\", \"RiskFactor\"],\n",
    "    store_name=\"Sensitivities\",\n",
    "    types = {\"TradeId\": tt.types.STRING, \"AsOfDate\": tt.types.LOCAL_DATE},\n",
    "    watch=True # this will make the data store watch for file updates and fetch new data\n",
    ")"
   ]
  },
  {
   "cell_type": "code",
   "execution_count": 4,
   "metadata": {},
   "outputs": [
    {
     "data": {
      "text/html": [
       "<div>\n",
       "<style scoped>\n",
       "    .dataframe tbody tr th:only-of-type {\n",
       "        vertical-align: middle;\n",
       "    }\n",
       "\n",
       "    .dataframe tbody tr th {\n",
       "        vertical-align: top;\n",
       "    }\n",
       "\n",
       "    .dataframe thead th {\n",
       "        text-align: right;\n",
       "    }\n",
       "</style>\n",
       "<table border=\"1\" class=\"dataframe\">\n",
       "  <thead>\n",
       "    <tr style=\"text-align: right;\">\n",
       "      <th></th>\n",
       "      <th></th>\n",
       "      <th></th>\n",
       "      <th>MarketValue</th>\n",
       "      <th>Delta</th>\n",
       "    </tr>\n",
       "    <tr>\n",
       "      <th>AsOfDate</th>\n",
       "      <th>TradeId</th>\n",
       "      <th>RiskFactor</th>\n",
       "      <th></th>\n",
       "      <th></th>\n",
       "    </tr>\n",
       "  </thead>\n",
       "  <tbody>\n",
       "    <tr>\n",
       "      <th rowspan=\"3\" valign=\"top\">2020-07-01</th>\n",
       "      <th>0</th>\n",
       "      <th>OXY</th>\n",
       "      <td>9.953595</td>\n",
       "      <td>218.150880</td>\n",
       "    </tr>\n",
       "    <tr>\n",
       "      <th>1</th>\n",
       "      <th>AAPL</th>\n",
       "      <td>200.165575</td>\n",
       "      <td>-4469.315240</td>\n",
       "    </tr>\n",
       "    <tr>\n",
       "      <th>2</th>\n",
       "      <th>AAPL</th>\n",
       "      <td>192.338869</td>\n",
       "      <td>4854.344159</td>\n",
       "    </tr>\n",
       "  </tbody>\n",
       "</table>\n",
       "</div>"
      ],
      "text/plain": [
       "                               MarketValue        Delta\n",
       "AsOfDate   TradeId RiskFactor                          \n",
       "2020-07-01 0       OXY            9.953595   218.150880\n",
       "           1       AAPL         200.165575 -4469.315240\n",
       "           2       AAPL         192.338869  4854.344159"
      ]
     },
     "execution_count": 4,
     "metadata": {},
     "output_type": "execute_result"
    }
   ],
   "source": [
    "sensitivities_store.head(3)"
   ]
  },
  {
   "cell_type": "code",
   "execution_count": 5,
   "metadata": {},
   "outputs": [],
   "source": [
    "market_data_store = session.read_pandas(\n",
    "    pd.DataFrame(columns=[\"AsOfDate\", \"Instrument\", \"Quote\"]),\n",
    "    keys=[\"AsOfDate\", \"Instrument\"],\n",
    "    store_name=\"Market Data Store\",\n",
    "    types = {\"AsOfDate\": tt.types.LOCAL_DATE, \"Instrument\": tt.types.STRING, \"Quote\": tt.types.DOUBLE}\n",
    ")"
   ]
  },
  {
   "cell_type": "code",
   "execution_count": 6,
   "metadata": {},
   "outputs": [],
   "source": [
    "# example\n",
    "market_data_store.append((\"2020-05-01\", \"AAPL\", 310.0))"
   ]
  },
  {
   "cell_type": "code",
   "execution_count": 7,
   "metadata": {},
   "outputs": [
    {
     "data": {
      "text/html": [
       "<div>\n",
       "<style scoped>\n",
       "    .dataframe tbody tr th:only-of-type {\n",
       "        vertical-align: middle;\n",
       "    }\n",
       "\n",
       "    .dataframe tbody tr th {\n",
       "        vertical-align: top;\n",
       "    }\n",
       "\n",
       "    .dataframe thead th {\n",
       "        text-align: right;\n",
       "    }\n",
       "</style>\n",
       "<table border=\"1\" class=\"dataframe\">\n",
       "  <thead>\n",
       "    <tr style=\"text-align: right;\">\n",
       "      <th></th>\n",
       "      <th></th>\n",
       "      <th>Quote</th>\n",
       "    </tr>\n",
       "    <tr>\n",
       "      <th>AsOfDate</th>\n",
       "      <th>Instrument</th>\n",
       "      <th></th>\n",
       "    </tr>\n",
       "  </thead>\n",
       "  <tbody>\n",
       "    <tr>\n",
       "      <th>2020-05-01</th>\n",
       "      <th>AAPL</th>\n",
       "      <td>310.0</td>\n",
       "    </tr>\n",
       "  </tbody>\n",
       "</table>\n",
       "</div>"
      ],
      "text/plain": [
       "                       Quote\n",
       "AsOfDate   Instrument       \n",
       "2020-05-01 AAPL        310.0"
      ]
     },
     "execution_count": 7,
     "metadata": {},
     "output_type": "execute_result"
    }
   ],
   "source": [
    "market_data_store.head(3)"
   ]
  },
  {
   "cell_type": "code",
   "execution_count": 8,
   "metadata": {},
   "outputs": [],
   "source": [
    "# This join will link sensitivities store and market data store and allow displaying sensitivities next to quotes.\n",
    "sensitivities_store.join(market_data_store, mapping={\"AsOfDate\": \"AsOfDate\", \"RiskFactor\": \"Instrument\"})\n",
    "\n",
    "cube = session.create_cube(\n",
    "    sensitivities_store, \"Sensitivities\")  \n",
    "m = cube.measures\n",
    "\n",
    "# Hiding automatically created measures for mean\n",
    "m['MarketValue.MEAN'].visible = False \n",
    "m['Delta.MEAN'].visible = False"
   ]
  },
  {
   "cell_type": "code",
   "execution_count": 9,
   "metadata": {},
   "outputs": [
    {
     "data": {
      "application/json": {
       "Hierarchies": {
        "AsOfDate (slicing)": [
         "AsOfDate"
        ],
        "RiskFactor": [
         "RiskFactor"
        ],
        "TradeId": [
         "TradeId"
        ]
       }
      },
      "text/html": [
       "<ul>\n",
       "<li>Dimensions\n",
       "  <ul>\n",
       "  <li>Hierarchies\n",
       "    <ul>\n",
       "    <li>AsOfDate (slicing)\n",
       "      <ol>\n",
       "      <li>AsOfDate</li>\n",
       "      </ol>    </li>\n",
       "    <li>RiskFactor\n",
       "      <ol>\n",
       "      <li>RiskFactor</li>\n",
       "      </ol>    </li>\n",
       "    <li>TradeId\n",
       "      <ol>\n",
       "      <li>TradeId</li>\n",
       "      </ol>    </li>\n",
       "    </ul>\n",
       "  </li>\n",
       "  </ul>\n",
       "</li>\n",
       "</ul>\n"
      ],
      "text/plain": [
       "Hierarchies()"
      ]
     },
     "execution_count": 9,
     "metadata": {
      "application/json": {
       "expanded": true,
       "root": "Dimensions"
      }
     },
     "output_type": "execute_result"
    }
   ],
   "source": [
    "lvl = cube.levels\n",
    "h = cube.hierarchies\n",
    "h['AsOfDate'].slicing = True\n",
    "h"
   ]
  },
  {
   "cell_type": "code",
   "execution_count": 11,
   "metadata": {
    "atoti": {
     "state": {
      "name": "",
      "type": "container",
      "value": {
       "body": {
        "configuration": {
         "tabular": {
          "addButtonFilter": "numeric",
          "cellRenderers": [
           "tree-layout"
          ],
          "columnsGroups": [
           {
            "captionProducer": "firstColumn",
            "cellFactory": "kpi-status",
            "selector": "kpi-status"
           },
           {
            "captionProducer": "firstColumn",
            "cellFactory": "lookup",
            "selector": "lookup"
           },
           {
            "captionProducer": "expiry",
            "cellFactory": "expiry",
            "selector": "kpi-expiry"
           },
           {
            "captionProducer": "columnMerge",
            "cellFactory": {
             "args": {},
             "key": "treeCells"
            },
            "selector": "member"
           }
          ],
          "defaultOptions": {},
          "expansion": {
           "automaticExpansion": true
          },
          "hideAddButton": true,
          "pinnedHeaderSelector": "member",
          "sortingMode": "non-breaking",
          "statisticsShown": true
         }
        },
        "contextValues": {},
        "mdx": "SELECT NON EMPTY {[Measures].[Delta.SUM], [Measures].[MarketValue.SUM]} ON COLUMNS, NON EMPTY Hierarchize([Hierarchies].[AsOfDate].[AsOfDate].Members) ON ROWS FROM [Sensitivities] CELL PROPERTIES VALUE, FORMATTED_VALUE, BACK_COLOR, FORE_COLOR, FONT_FLAGS",
        "ranges": {
         "column": {
          "chunkSize": 50,
          "thresholdPercentage": 0.2
         },
         "row": {
          "chunkSize": 2000,
          "thresholdPercentage": 0.1
         }
        },
        "serverUrl": "",
        "updateMode": "once"
       },
       "containerKey": "pivot-table",
       "showTitleBar": false,
       "style": {}
      }
     }
    }
   },
   "outputs": [
    {
     "data": {
      "application/vnd.atoti.v0+json": {
       "cube": "Sensitivities",
       "name": null,
       "session": "Unnamed"
      },
      "text/plain": [
       "Install and enable the atoti JupyterLab extension to see this widget."
      ]
     },
     "metadata": {},
     "output_type": "display_data"
    }
   ],
   "source": [
    "cube.visualize()"
   ]
  },
  {
   "cell_type": "code",
   "execution_count": 11,
   "metadata": {},
   "outputs": [],
   "source": [
    "lvl[\"AsOfDate\"].comparator = tt.comparator.DESC"
   ]
  },
  {
   "cell_type": "code",
   "execution_count": 12,
   "metadata": {},
   "outputs": [
    {
     "data": {
      "text/plain": [
       "'http://localhost:61767'"
      ]
     },
     "execution_count": 12,
     "metadata": {},
     "output_type": "execute_result"
    }
   ],
   "source": [
    "session.url"
   ]
  },
  {
   "cell_type": "markdown",
   "metadata": {},
   "source": [
    "# Fetching market data\n",
    "\n",
    "I'm fetching stock prices data which I will stream later in this notebook to emulate a real-time data source."
   ]
  },
  {
   "cell_type": "code",
   "execution_count": 23,
   "metadata": {},
   "outputs": [
    {
     "data": {
      "text/plain": [
       "1594078449.000074"
      ]
     },
     "execution_count": 23,
     "metadata": {},
     "output_type": "execute_result"
    }
   ],
   "source": [
    "datetime.datetime.today().timestamp()"
   ]
  },
  {
   "cell_type": "code",
   "execution_count": 29,
   "metadata": {},
   "outputs": [],
   "source": [
    "import requests\n",
    "import pandas as pd\n",
    "import arrow\n",
    "import datetime\n",
    "import os\n",
    "from functools import reduce\n",
    "\n",
    "tickers = \"OXY MSFT AAPL\"\n",
    "today = datetime.datetime.strptime(\"2020-07-06\", \"%Y-%m-%d\")\n",
    "\n",
    "# setting up a period\n",
    "dt2 = today + timedelta(days=5)\n",
    "p2 = int(dt2.timestamp())\n",
    "\n",
    "\n",
    "def get_quote_data(\n",
    "    symbol=\"AAPL\", period1=int(today.timestamp()), period2=p2, data_interval=\"1m\"\n",
    "):\n",
    "    # This function is fetching historical intraday spot prices from yfinance\n",
    "    res = requests.get(\n",
    "        \"https://query1.finance.yahoo.com/v8/finance/chart/{symbol}?&period1={period1}&period2={period2}&interval={data_interval}\".format(\n",
    "            **locals()\n",
    "        )\n",
    "    )\n",
    "    data = res.json()\n",
    "    body = data[\"chart\"][\"result\"][0]\n",
    "    dt = pd.Series(\n",
    "        map(lambda x: arrow.get(x).datetime.replace(tzinfo=None), body[\"timestamp\"]),\n",
    "        name=\"Datetime\",\n",
    "    )\n",
    "    df = pd.DataFrame(body[\"indicators\"][\"quote\"][0], index=dt)\n",
    "    df = df.loc[:, (\"close\")]\n",
    "    return df\n",
    "\n",
    "\n"
   ]
  },
  {
   "cell_type": "code",
   "execution_count": 30,
   "metadata": {},
   "outputs": [
    {
     "data": {
      "text/html": [
       "<div>\n",
       "<style scoped>\n",
       "    .dataframe tbody tr th:only-of-type {\n",
       "        vertical-align: middle;\n",
       "    }\n",
       "\n",
       "    .dataframe tbody tr th {\n",
       "        vertical-align: top;\n",
       "    }\n",
       "\n",
       "    .dataframe thead th {\n",
       "        text-align: right;\n",
       "    }\n",
       "</style>\n",
       "<table border=\"1\" class=\"dataframe\">\n",
       "  <thead>\n",
       "    <tr style=\"text-align: right;\">\n",
       "      <th></th>\n",
       "      <th>OXY</th>\n",
       "      <th>MSFT</th>\n",
       "      <th>AAPL</th>\n",
       "    </tr>\n",
       "    <tr>\n",
       "      <th>Datetime</th>\n",
       "      <th></th>\n",
       "      <th></th>\n",
       "      <th></th>\n",
       "    </tr>\n",
       "  </thead>\n",
       "  <tbody>\n",
       "    <tr>\n",
       "      <th>2020-07-06 13:30:00</th>\n",
       "      <td>18.070000</td>\n",
       "      <td>208.860001</td>\n",
       "      <td>370.459991</td>\n",
       "    </tr>\n",
       "    <tr>\n",
       "      <th>2020-07-06 13:31:00</th>\n",
       "      <td>18.090000</td>\n",
       "      <td>208.559998</td>\n",
       "      <td>371.197510</td>\n",
       "    </tr>\n",
       "    <tr>\n",
       "      <th>2020-07-06 13:32:00</th>\n",
       "      <td>18.059999</td>\n",
       "      <td>208.904999</td>\n",
       "      <td>371.470001</td>\n",
       "    </tr>\n",
       "    <tr>\n",
       "      <th>2020-07-06 13:33:00</th>\n",
       "      <td>17.959999</td>\n",
       "      <td>208.575104</td>\n",
       "      <td>371.190002</td>\n",
       "    </tr>\n",
       "    <tr>\n",
       "      <th>2020-07-06 13:34:00</th>\n",
       "      <td>17.910000</td>\n",
       "      <td>208.679993</td>\n",
       "      <td>371.410004</td>\n",
       "    </tr>\n",
       "    <tr>\n",
       "      <th>2020-07-06 13:35:00</th>\n",
       "      <td>17.864799</td>\n",
       "      <td>209.244995</td>\n",
       "      <td>371.779999</td>\n",
       "    </tr>\n",
       "    <tr>\n",
       "      <th>2020-07-06 13:36:00</th>\n",
       "      <td>17.910000</td>\n",
       "      <td>208.956100</td>\n",
       "      <td>371.890015</td>\n",
       "    </tr>\n",
       "    <tr>\n",
       "      <th>2020-07-06 13:37:00</th>\n",
       "      <td>17.915001</td>\n",
       "      <td>208.899994</td>\n",
       "      <td>371.720001</td>\n",
       "    </tr>\n",
       "    <tr>\n",
       "      <th>2020-07-06 13:38:00</th>\n",
       "      <td>17.990000</td>\n",
       "      <td>208.979996</td>\n",
       "      <td>371.100098</td>\n",
       "    </tr>\n",
       "    <tr>\n",
       "      <th>2020-07-06 13:39:00</th>\n",
       "      <td>18.080000</td>\n",
       "      <td>208.770004</td>\n",
       "      <td>370.836792</td>\n",
       "    </tr>\n",
       "  </tbody>\n",
       "</table>\n",
       "</div>"
      ],
      "text/plain": [
       "                           OXY        MSFT        AAPL\n",
       "Datetime                                              \n",
       "2020-07-06 13:30:00  18.070000  208.860001  370.459991\n",
       "2020-07-06 13:31:00  18.090000  208.559998  371.197510\n",
       "2020-07-06 13:32:00  18.059999  208.904999  371.470001\n",
       "2020-07-06 13:33:00  17.959999  208.575104  371.190002\n",
       "2020-07-06 13:34:00  17.910000  208.679993  371.410004\n",
       "2020-07-06 13:35:00  17.864799  209.244995  371.779999\n",
       "2020-07-06 13:36:00  17.910000  208.956100  371.890015\n",
       "2020-07-06 13:37:00  17.915001  208.899994  371.720001\n",
       "2020-07-06 13:38:00  17.990000  208.979996  371.100098\n",
       "2020-07-06 13:39:00  18.080000  208.770004  370.836792"
      ]
     },
     "execution_count": 30,
     "metadata": {},
     "output_type": "execute_result"
    }
   ],
   "source": [
    "dfs = [get_quote_data(inst) for inst in tickers.split()]\n",
    "historic_spot_prices = reduce(\n",
    "    lambda left, right: pd.merge(left, right, how=\"outer\", on=\"Datetime\"), dfs\n",
    ")\n",
    "historic_spot_prices.columns = tickers.split()\n",
    "historic_spot_prices.head(10)"
   ]
  },
  {
   "cell_type": "markdown",
   "metadata": {},
   "source": [
    "# Trades\n",
    "\n",
    "I'm generating a portfolio that I will be repricing when prices change."
   ]
  },
  {
   "cell_type": "code",
   "execution_count": 31,
   "metadata": {},
   "outputs": [
    {
     "data": {
      "text/plain": [
       "[Trade(TradeId=0, Ticker='AAPL', Book='EQ_VOL_HED', Product='EQ_Option', Quantity=50, Strike=373.1099853515625, Maturity=datetime.datetime(2036, 2, 19, 0, 0), OptionType='put'),\n",
       " Trade(TradeId=1, Ticker='AAPL', Book='EQ_SMAL_EM', Product='EQ_Option', Quantity=-100, Strike=374.71978759765625, Maturity=datetime.datetime(2025, 12, 26, 0, 0), OptionType='put'),\n",
       " Trade(TradeId=2, Ticker='OXY', Book='EQ_STRUCT', Product='EQ_Option', Quantity=-50, Strike=18.100000381469727, Maturity=datetime.datetime(2032, 11, 6, 0, 0), OptionType='put')]"
      ]
     },
     "execution_count": 31,
     "metadata": {},
     "output_type": "execute_result"
    }
   ],
   "source": [
    "Trade = namedtuple('Trade', 'TradeId Ticker Book Product Quantity Strike Maturity OptionType')\n",
    "def generate_positions(num):\n",
    "    positions = []\n",
    "    for i in range(num):\n",
    "        t = random.choice(tickers.split())\n",
    "        p = Trade(TradeId = i,\n",
    "                  Ticker = t, \n",
    "                  Book = random.choice([\"EQ_VOL_HED\", \"EQ_STRUCT\", \"EQ_LARG_DM\", \"EQ_WAREHOU\", \"EQ_SMAL_EM\"]),\n",
    "                  Product = \"EQ_Option\",\n",
    "                  Quantity = random.choice([100,-100,50,-50]), \n",
    "                  Strike = random.choice(historic_spot_prices[t].dropna()), \n",
    "                  Maturity = today + timedelta(days = random.randint(0, 365*20)), \n",
    "                  OptionType = random.choice(['call', 'put']))\n",
    "        positions.append(p)\n",
    "    return positions\n",
    "\n",
    "positions = generate_positions(20)\n",
    "positions[:3]"
   ]
  },
  {
   "cell_type": "markdown",
   "metadata": {},
   "source": [
    "# Enriching risk data - Trade Attributes and Portfolio Structure"
   ]
  },
  {
   "cell_type": "code",
   "execution_count": 32,
   "metadata": {},
   "outputs": [],
   "source": [
    "trade_attributes = session.read_pandas(\n",
    "    pd.DataFrame(positions),\n",
    "    types={\"TradeId\": tt.types.STRING, \"Strike\": tt.types.STRING},\n",
    "    keys=[\"TradeId\"],\n",
    "    store_name=\"Trade Attributes\",\n",
    ")"
   ]
  },
  {
   "cell_type": "code",
   "execution_count": 33,
   "metadata": {},
   "outputs": [],
   "source": [
    "book_hierarchy = session.read_pandas(\n",
    "    pd.DataFrame(\n",
    "        data={\n",
    "            \"Book\": [\n",
    "                \"EQ_VOL_HED\",\n",
    "                \"EQ_STRUCT\",\n",
    "                \"EQ_LARG_DM\",\n",
    "                \"EQ_WAREHOU\",\n",
    "                \"EQ_SMAL_EM\",\n",
    "            ],\n",
    "            \"Desk\": [\n",
    "                \"Structuring\",\n",
    "                \"Structuring\",\n",
    "                \"Equity Trading\",\n",
    "                \"Equity Trading\",\n",
    "                \"Equity Trading\",\n",
    "            ],\n",
    "            \"Business Unit\": [\n",
    "                \"Equities\",\n",
    "                \"Equities\",\n",
    "                \"Equities\",\n",
    "                \"Equities\",\n",
    "                \"Equities\",\n",
    "            ],\n",
    "        }\n",
    "    ),\n",
    "    keys=[\"Book\"],\n",
    "    store_name=\"Book Hierarchy\"\n",
    ")\n",
    "\n"
   ]
  },
  {
   "cell_type": "code",
   "execution_count": 34,
   "metadata": {},
   "outputs": [],
   "source": [
    "sensitivities_store.join(trade_attributes)\n",
    "trade_attributes.join(book_hierarchy)\n",
    "\n",
    "h[\"Portfolio Structure\"] = {\n",
    "    \"Business Unit\": lvl[\"Business Unit\"],\n",
    "    \"Desk\": lvl['Desk'],\n",
    "    \"Book\": lvl['Book']\n",
    "}"
   ]
  },
  {
   "cell_type": "code",
   "execution_count": 36,
   "metadata": {
    "atoti": {
     "state": {
      "name": "",
      "type": "container",
      "value": {
       "body": {
        "configuration": {
         "tabular": {
          "addButtonFilter": "numeric",
          "cellRenderers": [
           "tree-layout"
          ],
          "columns": [],
          "columnsGroups": [
           {
            "captionProducer": "firstColumn",
            "cellFactory": "kpi-status",
            "selector": "kpi-status"
           },
           {
            "captionProducer": "firstColumn",
            "cellFactory": "lookup",
            "selector": "lookup"
           },
           {
            "captionProducer": "expiry",
            "cellFactory": "expiry",
            "selector": "kpi-expiry"
           },
           {
            "captionProducer": "columnMerge",
            "cellFactory": {
             "args": {},
             "key": "treeCells"
            },
            "selector": "member"
           }
          ],
          "defaultOptions": {},
          "expansion": {
           "automaticExpansion": true
          },
          "hideAddButton": true,
          "pinnedHeaderSelector": "member",
          "sortingMode": "non-breaking",
          "statisticsShown": true
         }
        },
        "contextValues": {},
        "mdx": "SELECT NON EMPTY Hierarchize(Union(Crossjoin(Union(DrilldownLevel([Hierarchies].[Portfolio Structure].[ALL].[AllMember]), Descendants({[Hierarchies].[Portfolio Structure].[ALL].[AllMember].[Equities]}, [Hierarchies].[Portfolio Structure].[Desk]), Descendants({[Hierarchies].[Portfolio Structure].[ALL].[AllMember].[Equities].[Equity Trading]}, [Hierarchies].[Portfolio Structure].[Book])), [Hierarchies].[RiskFactor].DefaultMember), Crossjoin([Hierarchies].[Portfolio Structure].[ALL].[AllMember].[Equities].[Equity Trading].[EQ_LARG_DM], [Hierarchies].[RiskFactor].[RiskFactor].Members))) ON ROWS, NON EMPTY [Measures].[Delta.SUM] ON COLUMNS FROM [Sensitivities] CELL PROPERTIES VALUE, FORMATTED_VALUE, BACK_COLOR, FORE_COLOR, FONT_FLAGS",
        "ranges": {
         "column": {
          "chunkSize": 50,
          "thresholdPercentage": 0.2
         },
         "row": {
          "chunkSize": 2000,
          "thresholdPercentage": 0.1
         }
        },
        "serverUrl": "",
        "updateMode": "realTime"
       },
       "containerKey": "pivot-table",
       "showTitleBar": false,
       "style": {}
      }
     }
    }
   },
   "outputs": [
    {
     "data": {
      "application/vnd.atoti.v0+json": {
       "cube": "Sensitivities",
       "name": null,
       "session": "Unnamed"
      },
      "text/plain": [
       "Install and enable the atoti JupyterLab extension to see this widget."
      ]
     },
     "metadata": {},
     "output_type": "display_data"
    }
   ],
   "source": [
    "cube.visualize()"
   ]
  },
  {
   "cell_type": "markdown",
   "metadata": {},
   "source": [
    "# Cube schema"
   ]
  },
  {
   "cell_type": "code",
   "execution_count": 37,
   "metadata": {},
   "outputs": [
    {
     "data": {
      "image/svg+xml": [
       "<svg xmlns=\"http://www.w3.org/2000/svg\" xmlns:xlink=\"http://www.w3.org/1999/xlink\" width=\"839px\" height=\"510px\" viewBox=\"0.00 0.00 839.40 510.00\">\n",
       "<g id=\"graph0\" class=\"graph\" transform=\"scale(1.0 1.0) rotate(0) translate(4 506)\">\n",
       "<title>Sensitivities schema</title>\n",
       "<polygon fill=\"white\" stroke=\"transparent\" points=\"-4,4 -4,-506 835.4,-506 835.4,4 -4,4\"/>\n",
       "<!-- Sensitivities -->\n",
       "<g id=\"node1\" class=\"node\">\n",
       "<title>Sensitivities</title>\n",
       "<polygon fill=\"none\" stroke=\"black\" points=\"8.5,-368 8.5,-404 181.5,-404 181.5,-368 8.5,-368\"/>\n",
       "<text text-anchor=\"start\" x=\"60.78\" y=\"-382.8\" font-family=\"Times,serif\" font-weight=\"bold\" font-size=\"14.00\">Sensitivities</text>\n",
       "<polygon fill=\"none\" stroke=\"black\" points=\"8.5,-332 8.5,-368 181.5,-368 181.5,-332 8.5,-332\"/>\n",
       "<text text-anchor=\"start\" x=\"19.19\" y=\"-346.8\" font-family=\"Times,serif\" font-weight=\"bold\" font-size=\"14.00\">Key</text>\n",
       "<text text-anchor=\"start\" x=\"42.52\" y=\"-346.8\" font-family=\"Times,serif\" font-size=\"14.00\">  AsOfDate </text>\n",
       "<text text-anchor=\"start\" x=\"109.01\" y=\"-346.8\" font-family=\"Times,serif\" font-style=\"italic\" font-size=\"14.00\">LocalDate</text>\n",
       "<text text-anchor=\"start\" x=\"167.31\" y=\"-346.8\" font-family=\"Times,serif\" font-size=\"14.00\"> </text>\n",
       "<polygon fill=\"none\" stroke=\"black\" points=\"8.5,-296 8.5,-332 181.5,-332 181.5,-296 8.5,-296\"/>\n",
       "<text text-anchor=\"start\" x=\"19.5\" y=\"-310.8\" font-family=\"Times,serif\" font-weight=\"bold\" font-size=\"14.00\">Key</text>\n",
       "<text text-anchor=\"start\" x=\"42.82\" y=\"-310.8\" font-family=\"Times,serif\" font-size=\"14.00\">  TradeId </text>\n",
       "<text text-anchor=\"start\" x=\"96.9\" y=\"-310.8\" font-family=\"Times,serif\" font-style=\"italic\" font-size=\"14.00\">String</text>\n",
       "<text text-anchor=\"start\" x=\"131.12\" y=\"-310.8\" font-family=\"Times,serif\" font-size=\"14.00\"> </text>\n",
       "<polygon fill=\"none\" stroke=\"black\" points=\"8.5,-260 8.5,-296 181.5,-296 181.5,-260 8.5,-260\"/>\n",
       "<text text-anchor=\"start\" x=\"19.5\" y=\"-274.8\" font-family=\"Times,serif\" font-weight=\"bold\" font-size=\"14.00\">Key</text>\n",
       "<text text-anchor=\"start\" x=\"42.82\" y=\"-274.8\" font-family=\"Times,serif\" font-size=\"14.00\">  RiskFactor </text>\n",
       "<text text-anchor=\"start\" x=\"114.77\" y=\"-274.8\" font-family=\"Times,serif\" font-style=\"italic\" font-size=\"14.00\">String</text>\n",
       "<text text-anchor=\"start\" x=\"148.99\" y=\"-274.8\" font-family=\"Times,serif\" font-size=\"14.00\"> </text>\n",
       "<polygon fill=\"none\" stroke=\"black\" points=\"8.5,-224 8.5,-260 181.5,-260 181.5,-224 8.5,-224\"/>\n",
       "<text text-anchor=\"start\" x=\"19.5\" y=\"-238.8\" font-family=\"Times,serif\" font-size=\"14.00\">MarketValue </text>\n",
       "<text text-anchor=\"start\" x=\"95.3\" y=\"-238.8\" font-family=\"Times,serif\" font-style=\"italic\" font-size=\"14.00\">double</text>\n",
       "<text text-anchor=\"start\" x=\"133.41\" y=\"-238.8\" font-family=\"Times,serif\" font-size=\"14.00\"> </text>\n",
       "<polygon fill=\"none\" stroke=\"black\" points=\"8.5,-188 8.5,-224 181.5,-224 181.5,-188 8.5,-188\"/>\n",
       "<text text-anchor=\"start\" x=\"19.5\" y=\"-202.8\" font-family=\"Times,serif\" font-size=\"14.00\">Delta </text>\n",
       "<text text-anchor=\"start\" x=\"53.32\" y=\"-202.8\" font-family=\"Times,serif\" font-style=\"italic\" font-size=\"14.00\">double</text>\n",
       "<text text-anchor=\"start\" x=\"91.42\" y=\"-202.8\" font-family=\"Times,serif\" font-size=\"14.00\"> </text>\n",
       "</g>\n",
       "<!-- Market Data Store -->\n",
       "<g id=\"node2\" class=\"node\">\n",
       "<title>Market Data Store</title>\n",
       "<polygon fill=\"none\" stroke=\"black\" points=\"376.41,-462 376.41,-498 549.41,-498 549.41,-462 376.41,-462\"/>\n",
       "<text text-anchor=\"start\" x=\"411.21\" y=\"-476.8\" font-family=\"Times,serif\" font-weight=\"bold\" font-size=\"14.00\">Market Data Store</text>\n",
       "<polygon fill=\"none\" stroke=\"black\" points=\"376.41,-426 376.41,-462 549.41,-462 549.41,-426 376.41,-426\"/>\n",
       "<text text-anchor=\"start\" x=\"387.1\" y=\"-440.8\" font-family=\"Times,serif\" font-weight=\"bold\" font-size=\"14.00\">Key</text>\n",
       "<text text-anchor=\"start\" x=\"410.43\" y=\"-440.8\" font-family=\"Times,serif\" font-size=\"14.00\">  AsOfDate </text>\n",
       "<text text-anchor=\"start\" x=\"476.92\" y=\"-440.8\" font-family=\"Times,serif\" font-style=\"italic\" font-size=\"14.00\">LocalDate</text>\n",
       "<text text-anchor=\"start\" x=\"535.22\" y=\"-440.8\" font-family=\"Times,serif\" font-size=\"14.00\"> </text>\n",
       "<polygon fill=\"none\" stroke=\"black\" points=\"376.41,-390 376.41,-426 549.41,-426 549.41,-390 376.41,-390\"/>\n",
       "<text text-anchor=\"start\" x=\"387.41\" y=\"-404.8\" font-family=\"Times,serif\" font-weight=\"bold\" font-size=\"14.00\">Key</text>\n",
       "<text text-anchor=\"start\" x=\"410.74\" y=\"-404.8\" font-family=\"Times,serif\" font-size=\"14.00\">  Instrument </text>\n",
       "<text text-anchor=\"start\" x=\"481.89\" y=\"-404.8\" font-family=\"Times,serif\" font-style=\"italic\" font-size=\"14.00\">String</text>\n",
       "<text text-anchor=\"start\" x=\"516.12\" y=\"-404.8\" font-family=\"Times,serif\" font-size=\"14.00\"> </text>\n",
       "<polygon fill=\"none\" stroke=\"black\" points=\"376.41,-354 376.41,-390 549.41,-390 549.41,-354 376.41,-354\"/>\n",
       "<text text-anchor=\"start\" x=\"387.41\" y=\"-368.8\" font-family=\"Times,serif\" font-size=\"14.00\">Quote </text>\n",
       "<text text-anchor=\"start\" x=\"425.13\" y=\"-368.8\" font-family=\"Times,serif\" font-style=\"italic\" font-size=\"14.00\">double</text>\n",
       "<text text-anchor=\"start\" x=\"463.23\" y=\"-368.8\" font-family=\"Times,serif\" font-size=\"14.00\"> </text>\n",
       "</g>\n",
       "<!-- Sensitivities&#45;&gt;Market Data Store -->\n",
       "<g id=\"edge2\" class=\"edge\">\n",
       "<title>Sensitivities-&gt;Market Data Store</title>\n",
       "<path fill=\"none\" stroke=\"black\" d=\"M189.26,-329.31C240.99,-347.69 305.33,-370.55 358.46,-389.42\"/>\n",
       "<polygon fill=\"black\" stroke=\"black\" points=\"357.3,-392.73 367.9,-392.78 359.65,-386.13 357.3,-392.73\"/>\n",
       "<text text-anchor=\"middle\" x=\"278.46\" y=\"-401.17\" font-family=\"Times,serif\" font-size=\"14.00\">AsOfDate → AsOfDate</text>\n",
       "<text text-anchor=\"middle\" x=\"278.46\" y=\"-386.48\" font-family=\"Times,serif\" font-size=\"14.00\">RiskFactor → Instrument</text>\n",
       "</g>\n",
       "<!-- Trade Attributes -->\n",
       "<g id=\"node3\" class=\"node\">\n",
       "<title>Trade Attributes</title>\n",
       "<polygon fill=\"none\" stroke=\"black\" points=\"394.41,-292 394.41,-328 531.41,-328 531.41,-292 394.41,-292\"/>\n",
       "<text text-anchor=\"start\" x=\"417.47\" y=\"-306.8\" font-family=\"Times,serif\" font-weight=\"bold\" font-size=\"14.00\">Trade Attributes</text>\n",
       "<polygon fill=\"none\" stroke=\"black\" points=\"394.41,-256 394.41,-292 531.41,-292 531.41,-256 394.41,-256\"/>\n",
       "<text text-anchor=\"start\" x=\"405.35\" y=\"-270.8\" font-family=\"Times,serif\" font-weight=\"bold\" font-size=\"14.00\">Key</text>\n",
       "<text text-anchor=\"start\" x=\"428.67\" y=\"-270.8\" font-family=\"Times,serif\" font-size=\"14.00\">  TradeId </text>\n",
       "<text text-anchor=\"start\" x=\"482.75\" y=\"-270.8\" font-family=\"Times,serif\" font-style=\"italic\" font-size=\"14.00\">String</text>\n",
       "<text text-anchor=\"start\" x=\"516.97\" y=\"-270.8\" font-family=\"Times,serif\" font-size=\"14.00\"> </text>\n",
       "<polygon fill=\"none\" stroke=\"black\" points=\"394.41,-220 394.41,-256 531.41,-256 531.41,-220 394.41,-220\"/>\n",
       "<text text-anchor=\"start\" x=\"405.41\" y=\"-234.8\" font-family=\"Times,serif\" font-size=\"14.00\">Ticker </text>\n",
       "<text text-anchor=\"start\" x=\"444.96\" y=\"-234.8\" font-family=\"Times,serif\" font-style=\"italic\" font-size=\"14.00\">String</text>\n",
       "<text text-anchor=\"start\" x=\"479.19\" y=\"-234.8\" font-family=\"Times,serif\" font-size=\"14.00\"> </text>\n",
       "<polygon fill=\"none\" stroke=\"black\" points=\"394.41,-184 394.41,-220 531.41,-220 531.41,-184 394.41,-184\"/>\n",
       "<text text-anchor=\"start\" x=\"405.41\" y=\"-198.8\" font-family=\"Times,serif\" font-size=\"14.00\">Book </text>\n",
       "<text text-anchor=\"start\" x=\"439.25\" y=\"-198.8\" font-family=\"Times,serif\" font-style=\"italic\" font-size=\"14.00\">String</text>\n",
       "<text text-anchor=\"start\" x=\"473.48\" y=\"-198.8\" font-family=\"Times,serif\" font-size=\"14.00\"> </text>\n",
       "<polygon fill=\"none\" stroke=\"black\" points=\"394.41,-148 394.41,-184 531.41,-184 531.41,-148 394.41,-148\"/>\n",
       "<text text-anchor=\"start\" x=\"405.41\" y=\"-162.8\" font-family=\"Times,serif\" font-size=\"14.00\">Product </text>\n",
       "<text text-anchor=\"start\" x=\"452.46\" y=\"-162.8\" font-family=\"Times,serif\" font-style=\"italic\" font-size=\"14.00\">String</text>\n",
       "<text text-anchor=\"start\" x=\"486.69\" y=\"-162.8\" font-family=\"Times,serif\" font-size=\"14.00\"> </text>\n",
       "<polygon fill=\"none\" stroke=\"black\" points=\"394.41,-112 394.41,-148 531.41,-148 531.41,-112 394.41,-112\"/>\n",
       "<text text-anchor=\"start\" x=\"405.41\" y=\"-126.8\" font-family=\"Times,serif\" font-size=\"14.00\">Quantity </text>\n",
       "<text text-anchor=\"start\" x=\"457.91\" y=\"-126.8\" font-family=\"Times,serif\" font-style=\"italic\" font-size=\"14.00\">long</text>\n",
       "<text text-anchor=\"start\" x=\"482.79\" y=\"-126.8\" font-family=\"Times,serif\" font-size=\"14.00\"> </text>\n",
       "<polygon fill=\"none\" stroke=\"black\" points=\"394.41,-76 394.41,-112 531.41,-112 531.41,-76 394.41,-76\"/>\n",
       "<text text-anchor=\"start\" x=\"405.41\" y=\"-90.8\" font-family=\"Times,serif\" font-size=\"14.00\">Strike </text>\n",
       "<text text-anchor=\"start\" x=\"442.35\" y=\"-90.8\" font-family=\"Times,serif\" font-style=\"italic\" font-size=\"14.00\">String</text>\n",
       "<text text-anchor=\"start\" x=\"476.58\" y=\"-90.8\" font-family=\"Times,serif\" font-size=\"14.00\"> </text>\n",
       "<polygon fill=\"none\" stroke=\"black\" points=\"394.41,-40 394.41,-76 531.41,-76 531.41,-40 394.41,-40\"/>\n",
       "<text text-anchor=\"start\" x=\"405.41\" y=\"-54.8\" font-family=\"Times,serif\" font-size=\"14.00\">Maturity </text>\n",
       "<text text-anchor=\"start\" x=\"457.91\" y=\"-54.8\" font-family=\"Times,serif\" font-style=\"italic\" font-size=\"14.00\">LocalDate</text>\n",
       "<text text-anchor=\"start\" x=\"516.2\" y=\"-54.8\" font-family=\"Times,serif\" font-size=\"14.00\"> </text>\n",
       "<polygon fill=\"none\" stroke=\"black\" points=\"394.41,-4 394.41,-40 531.41,-40 531.41,-4 394.41,-4\"/>\n",
       "<text text-anchor=\"start\" x=\"405.41\" y=\"-18.8\" font-family=\"Times,serif\" font-size=\"14.00\">OptionType </text>\n",
       "<text text-anchor=\"start\" x=\"475.59\" y=\"-18.8\" font-family=\"Times,serif\" font-style=\"italic\" font-size=\"14.00\">String</text>\n",
       "<text text-anchor=\"start\" x=\"509.82\" y=\"-18.8\" font-family=\"Times,serif\" font-size=\"14.00\"> </text>\n",
       "</g>\n",
       "<!-- Sensitivities&#45;&gt;Trade Attributes -->\n",
       "<g id=\"edge1\" class=\"edge\">\n",
       "<title>Sensitivities-&gt;Trade Attributes</title>\n",
       "<path fill=\"none\" stroke=\"black\" d=\"M189.26,-262.69C246.9,-242.21 320.2,-216.17 376.19,-196.28\"/>\n",
       "<polygon fill=\"black\" stroke=\"black\" points=\"377.48,-199.53 385.73,-192.89 375.14,-192.94 377.48,-199.53\"/>\n",
       "<text text-anchor=\"middle\" x=\"278.46\" y=\"-256.48\" font-family=\"Times,serif\" font-size=\"14.00\">TradeId → TradeId</text>\n",
       "</g>\n",
       "<!-- Book Hierarchy -->\n",
       "<g id=\"node4\" class=\"node\">\n",
       "<title>Book Hierarchy</title>\n",
       "<polygon fill=\"none\" stroke=\"black\" points=\"682.9,-202 682.9,-238 823.9,-238 823.9,-202 682.9,-202\"/>\n",
       "<text text-anchor=\"start\" x=\"708.5\" y=\"-216.8\" font-family=\"Times,serif\" font-weight=\"bold\" font-size=\"14.00\">Book Hierarchy</text>\n",
       "<polygon fill=\"none\" stroke=\"black\" points=\"682.9,-166 682.9,-202 823.9,-202 823.9,-166 682.9,-166\"/>\n",
       "<text text-anchor=\"start\" x=\"693.9\" y=\"-180.8\" font-family=\"Times,serif\" font-weight=\"bold\" font-size=\"14.00\">Key</text>\n",
       "<text text-anchor=\"start\" x=\"717.23\" y=\"-180.8\" font-family=\"Times,serif\" font-size=\"14.00\">  Book </text>\n",
       "<text text-anchor=\"start\" x=\"758.07\" y=\"-180.8\" font-family=\"Times,serif\" font-style=\"italic\" font-size=\"14.00\">String</text>\n",
       "<text text-anchor=\"start\" x=\"792.29\" y=\"-180.8\" font-family=\"Times,serif\" font-size=\"14.00\"> </text>\n",
       "<polygon fill=\"none\" stroke=\"black\" points=\"682.9,-130 682.9,-166 823.9,-166 823.9,-130 682.9,-130\"/>\n",
       "<text text-anchor=\"start\" x=\"693.9\" y=\"-144.8\" font-family=\"Times,serif\" font-size=\"14.00\">Desk </text>\n",
       "<text text-anchor=\"start\" x=\"726.18\" y=\"-144.8\" font-family=\"Times,serif\" font-style=\"italic\" font-size=\"14.00\">String</text>\n",
       "<text text-anchor=\"start\" x=\"760.4\" y=\"-144.8\" font-family=\"Times,serif\" font-size=\"14.00\"> </text>\n",
       "<polygon fill=\"none\" stroke=\"black\" points=\"682.9,-94 682.9,-130 823.9,-130 823.9,-94 682.9,-94\"/>\n",
       "<text text-anchor=\"start\" x=\"693.7\" y=\"-108.8\" font-family=\"Times,serif\" font-size=\"14.00\">Business Unit </text>\n",
       "<text text-anchor=\"start\" x=\"775.38\" y=\"-108.8\" font-family=\"Times,serif\" font-style=\"italic\" font-size=\"14.00\">String</text>\n",
       "<text text-anchor=\"start\" x=\"809.6\" y=\"-108.8\" font-family=\"Times,serif\" font-size=\"14.00\"> </text>\n",
       "</g>\n",
       "<!-- Trade Attributes&#45;&gt;Book Hierarchy -->\n",
       "<g id=\"edge3\" class=\"edge\">\n",
       "<title>Trade Attributes-&gt;Book Hierarchy</title>\n",
       "<path fill=\"none\" stroke=\"black\" d=\"M539.21,-166C577.53,-166 624.23,-166 664.11,-166\"/>\n",
       "<polygon fill=\"black\" stroke=\"black\" points=\"664.35,-169.5 674.35,-166 664.35,-162.5 664.35,-169.5\"/>\n",
       "<text text-anchor=\"middle\" x=\"615.66\" y=\"-169.48\" font-family=\"Times,serif\" font-size=\"14.00\">Book → Book</text>\n",
       "</g>\n",
       "</g>\n",
       "</svg>"
      ],
      "text/plain": [
       "<IPython.core.display.SVG object>"
      ]
     },
     "execution_count": 37,
     "metadata": {},
     "output_type": "execute_result"
    }
   ],
   "source": [
    "cube.schema"
   ]
  },
  {
   "cell_type": "markdown",
   "metadata": {},
   "source": [
    "# Pricing\n",
    "\n",
    "I'm defining functions to mockup an pricing engine. I'm using QuantLib implementation of the Black-Scholes formulae. "
   ]
  },
  {
   "cell_type": "code",
   "execution_count": 38,
   "metadata": {},
   "outputs": [],
   "source": [
    "def reprice_trade(spot_price, trade, calc_date):\n",
    "    # This function takes option trade object and spot prices and computes valuation and risk metrics.\n",
    "    # Volatility and interest rates are set to some constants for simplicity.\n",
    "    \n",
    "    calculation_date = ql.Date(calc_date.day, calc_date.month, calc_date.year)\n",
    "    ql.Settings.instance().evaluationDate = calculation_date\n",
    "        \n",
    "    # conventions\n",
    "    day_count = ql.Actual365Fixed()\n",
    "    calendar = ql.UnitedStates()\n",
    "    volatility = 0.3\n",
    "    dividend_rate = 0.0163\n",
    "    risk_free_rate = 0.001\n",
    "\n",
    "    maturity = getattr(trade, \"Maturity\")\n",
    "    \n",
    "    maturity_date = ql.Date(\n",
    "        maturity.day, maturity.month, maturity.year\n",
    "    )\n",
    "    option_type = ql.Option.Call if trade.OptionType == \"Call\" else ql.Option.Put\n",
    "    strike_price = trade.Strike\n",
    "\n",
    "    # construct the European Option\n",
    "    payoff = ql.PlainVanillaPayoff(option_type, strike_price)\n",
    "    exercise = ql.EuropeanExercise(maturity_date)\n",
    "    european_option = ql.VanillaOption(payoff, exercise)\n",
    "\n",
    "    # The Black-Scholes-Merto process is constructed here.\n",
    "    spot_handle = ql.QuoteHandle(ql.SimpleQuote(spot_price))\n",
    "    flat_ts = ql.YieldTermStructureHandle(\n",
    "        ql.FlatForward(calculation_date, risk_free_rate, day_count)\n",
    "    )\n",
    "    dividend_yield = ql.YieldTermStructureHandle(\n",
    "        ql.FlatForward(calculation_date, dividend_rate, day_count)\n",
    "    )\n",
    "    flat_vol_ts = ql.BlackVolTermStructureHandle(\n",
    "        ql.BlackConstantVol(calculation_date, calendar, volatility, day_count)\n",
    "    )\n",
    "    bsm_process = ql.BlackScholesMertonProcess(\n",
    "        spot_handle, dividend_yield, flat_ts, flat_vol_ts\n",
    "    )\n",
    "\n",
    "    european_option.setPricingEngine(ql.AnalyticEuropeanEngine(bsm_process))\n",
    "\n",
    "    return {\n",
    "        \"AsOfDate\": calc_date.strftime(\"%Y-%m-%d\"),\n",
    "        \"TradeId\": getattr(trade, \"TradeId\"),\n",
    "        \"RiskFactor\": getattr(trade, \"Ticker\"),\n",
    "        \"MarketValue\": european_option.NPV(),\n",
    "        \"Delta\": european_option.delta() * spot_price * getattr(trade, \"Quantity\"),\n",
    "    }\n",
    "\n",
    "def reprice_portfolio(market_data, positions, calc_date):\n",
    "    # This function reprices trades and greeks if market data is available,\n",
    "    # and returns new risk numbers as a dataframe\n",
    "    risk = []\n",
    "    for trade in positions:\n",
    "        spot_price_update = market_data[getattr(trade, \"Ticker\")]\n",
    "        if not np.isnan(spot_price_update):\n",
    "            risk = risk + [reprice_trade(spot_price_update, trade, calc_date)]\n",
    "    return pd.DataFrame(data = risk)\n"
   ]
  },
  {
   "cell_type": "markdown",
   "metadata": {},
   "source": [
    "# Loading T-1 risk data "
   ]
  },
  {
   "cell_type": "code",
   "execution_count": 39,
   "metadata": {},
   "outputs": [],
   "source": [
    "md = historic_spot_prices.head(1).to_dict(orient = \"records\")[0]\n",
    "calc_date = today + timedelta(days = -1)\n",
    "reprice_portfolio(md, positions, calc_date).to_csv(\"risk_data.csv\", index = False)"
   ]
  },
  {
   "cell_type": "code",
   "execution_count": 40,
   "metadata": {},
   "outputs": [
    {
     "name": "stdout",
     "output_type": "stream",
     "text": [
      "('2020-07-05', 'OXY', 18.06999969482422)\n",
      "('2020-07-05', 'MSFT', 208.86000061035156)\n",
      "('2020-07-05', 'AAPL', 370.4599914550781)\n"
     ]
    }
   ],
   "source": [
    "for i in list(md.items()):\n",
    "    if not np.isnan(i[1]):\n",
    "        print((calc_date.strftime(\"%Y-%m-%d\"), i[0], i[1]))\n",
    "        market_data_store.append((calc_date.strftime(\"%Y-%m-%d\"), i[0], i[1]))"
   ]
  },
  {
   "cell_type": "code",
   "execution_count": 41,
   "metadata": {},
   "outputs": [
    {
     "data": {
      "text/html": [
       "<div>\n",
       "<style scoped>\n",
       "    .dataframe tbody tr th:only-of-type {\n",
       "        vertical-align: middle;\n",
       "    }\n",
       "\n",
       "    .dataframe tbody tr th {\n",
       "        vertical-align: top;\n",
       "    }\n",
       "\n",
       "    .dataframe thead th {\n",
       "        text-align: right;\n",
       "    }\n",
       "</style>\n",
       "<table border=\"1\" class=\"dataframe\">\n",
       "  <thead>\n",
       "    <tr style=\"text-align: right;\">\n",
       "      <th></th>\n",
       "      <th></th>\n",
       "      <th>Quote</th>\n",
       "    </tr>\n",
       "    <tr>\n",
       "      <th>AsOfDate</th>\n",
       "      <th>Instrument</th>\n",
       "      <th></th>\n",
       "    </tr>\n",
       "  </thead>\n",
       "  <tbody>\n",
       "    <tr>\n",
       "      <th>2020-05-01</th>\n",
       "      <th>AAPL</th>\n",
       "      <td>310.000000</td>\n",
       "    </tr>\n",
       "    <tr>\n",
       "      <th rowspan=\"3\" valign=\"top\">2020-07-05</th>\n",
       "      <th>OXY</th>\n",
       "      <td>18.070000</td>\n",
       "    </tr>\n",
       "    <tr>\n",
       "      <th>MSFT</th>\n",
       "      <td>208.860001</td>\n",
       "    </tr>\n",
       "    <tr>\n",
       "      <th>AAPL</th>\n",
       "      <td>370.459991</td>\n",
       "    </tr>\n",
       "  </tbody>\n",
       "</table>\n",
       "</div>"
      ],
      "text/plain": [
       "                            Quote\n",
       "AsOfDate   Instrument            \n",
       "2020-05-01 AAPL        310.000000\n",
       "2020-07-05 OXY          18.070000\n",
       "           MSFT        208.860001\n",
       "           AAPL        370.459991"
      ]
     },
     "execution_count": 41,
     "metadata": {},
     "output_type": "execute_result"
    }
   ],
   "source": [
    "market_data_store.head(5)"
   ]
  },
  {
   "cell_type": "markdown",
   "metadata": {},
   "source": [
    "# Start real-time sources\n",
    "\n",
    "I think section I'm emulating a market data feed, which is triggering portfolio repricing."
   ]
  },
  {
   "cell_type": "code",
   "execution_count": null,
   "metadata": {},
   "outputs": [],
   "source": [
    "import threading, queue\n",
    "spot_update_queue = queue.Queue()\n",
    "\n",
    "def start_spot_publisher():\n",
    "    current_time = -1\n",
    "    for idx, row in historic_spot_prices.iterrows():\n",
    "        next_time = idx\n",
    "        if current_time != -1:\n",
    "            dt = (next_time - current_time).total_seconds() / 100.0\n",
    "            time.sleep(dt)\n",
    "        current_time = idx\n",
    "        spot_update_queue.put((idx,row.to_dict()))\n",
    "    spot_update_queue.join()\n",
    "    print('All work completed')\n",
    "\n",
    "    \n",
    "def start_spot_update_listener():\n",
    "    while True:\n",
    "        calc_date, spot_prices_by_ticker = spot_update_queue.get()\n",
    "\n",
    "        \n",
    "        # Saving risk numbers into a file.\n",
    "        # The sensitivities data store will \"watch\" the file and fetch updates.\n",
    "        reprice_portfolio(spot_prices_by_ticker, positions, calc_date).to_csv(\"risk_data.csv\", index = False)\n",
    "        \n",
    "        # Example of injecting the data directly into a datastore.\n",
    "        # New stock prices are appended to the market data store.\n",
    "        for i in list(spot_prices_by_ticker.items()):\n",
    "            if not np.isnan(i[1]):\n",
    "                print((calc_date.strftime(\"%Y-%m-%d\"), i[0], i[1]))\n",
    "                market_data_store.append((calc_date.strftime(\"%Y-%m-%d\"), i[0], i[1]))\n",
    "\n",
    "        spot_update_queue.task_done()\n",
    "\n",
    "threading.Thread(target=start_spot_update_listener, daemon=True).start()\n",
    "start_spot_publisher()"
   ]
  },
  {
   "cell_type": "code",
   "execution_count": null,
   "metadata": {},
   "outputs": [],
   "source": []
  }
 ],
 "metadata": {
  "kernelspec": {
   "display_name": "Python 3",
   "language": "python",
   "name": "python3"
  },
  "language_info": {
   "codemirror_mode": {
    "name": "ipython",
    "version": 3
   },
   "file_extension": ".py",
   "mimetype": "text/x-python",
   "name": "python",
   "nbconvert_exporter": "python",
   "pygments_lexer": "ipython3",
   "version": "3.8.3"
  }
 },
 "nbformat": 4,
 "nbformat_minor": 4
}
