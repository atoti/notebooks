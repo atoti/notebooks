{
 "cells": [
  {
   "cell_type": "markdown",
   "metadata": {},
   "source": [
    "# Real-time risk with atoti"
   ]
  },
  {
   "cell_type": "markdown",
   "metadata": {},
   "source": [
    "## Introduction\n",
    "\n",
    "In our example we will create a real-time risk dashboard using atoti.\n",
    "\n",
    "We will consolidate various sensitivities for an equity options portfolio as a data example. We are going to simulate a live feed of market quotes and use QuantLib to recalculate sensitivities on the fly, stream updated risk numbers to an atoti-powered in-memory cube which will update our risk dashboard.\n",
    "\n",
    "Have a look at the GIF of the running atoti application below. On the left, we have a real-time market data feed which is a replay of historical stock prices. On the bottom, there are our trades and on the right, we have risk data continuously re-calculated and re-aggregated at various levels. Every time market data is updated, a chain of actions is performed automatically, resulting in an update to the risk summary table. With this in mind, let’s dive deep into the details!\n",
    "\n",
    "<img src=\"./app-preview.gif\" alt=\"Real-time risk app preview\" width=\"100%\">"
   ]
  },
  {
   "cell_type": "markdown",
   "metadata": {},
   "source": [
    "# Imports"
   ]
  },
  {
   "cell_type": "code",
   "execution_count": 1,
   "metadata": {},
   "outputs": [],
   "source": [
    "import time\n",
    "from datetime import datetime, timedelta\n",
    "import pandas as pd"
   ]
  },
  {
   "cell_type": "markdown",
   "metadata": {},
   "source": [
    "# atoti session\n",
    "\n",
    "The first step is to create atoti session for an in-memory data cube:"
   ]
  },
  {
   "cell_type": "code",
   "execution_count": 2,
   "metadata": {},
   "outputs": [
    {
     "name": "stdout",
     "output_type": "stream",
     "text": [
      "Welcome to atoti 0.4.2.20200617181308!\n",
      "\n",
      "By using this community edition, you agree with the license available at https://www.atoti.io/eula.\n",
      "Browse the official documentation at https://docs.atoti.io.\n",
      "Join the community at https://www.atoti.io/register.\n",
      "\n",
      "You can hide this message by setting the ATOTI_HIDE_EULA_MESSAGE environment variable to True.\n"
     ]
    }
   ],
   "source": [
    "import atoti as tt\n",
    "\n",
    "from atoti.config import create_config\n",
    "\n",
    "config = create_config(\n",
    "    metadata_db=\"./metadata.db\", max_memory=\"8G\", sampling_mode=tt.sampling.FULL\n",
    ")\n",
    "session = tt.create_session(config=config)"
   ]
  },
  {
   "cell_type": "markdown",
   "metadata": {},
   "source": [
    "# atoti for real-time update\n",
    "\n",
    "As we discussed, we have two live feeds in our app - a market data feed simulating the tick stock price time-series which is then producing a feed of risk numbers by recalculating option greeks with a Quantlib function. You can easily replace them with your own real time data sources - for example, live trade feeds, sensitivity updates, stress-testing numbers, etc. \n",
    "\n",
    "atoti provides **multiple ways to implement real-time update**: \n",
    "\n",
    "- the first is by using the reactive datastores - it tells atoti to observe a file or a folder and fetch updates as soon as there are any, \n",
    "- the second is the “append” command that pushes new data into a data store forcing re-calculation. Both methods are illustrated below,\n",
    "- please refer to the documentation to read about other methods, such as listening to a [kafka feed](https://docs.atoti.io/0.4.2/lib/atoti.html?highlight=kafka#atoti.store.Store.load_kafka).\n",
    "\n",
    "**Data visualization** in the atoti app supports the “continuous queries” feature, enabling widgets to automatically refresh the results every time a single contribution changes in the data store. You can toggle between “Turn on real-time”, “Refresh periodically” and “Pause query” for each widget in the atoti app, as shown in this picture:\n",
    "\n",
    "\n",
    "<img src=\"./widget-query-mode.png\" alt=\"Widget query mode\" width=\"70%\">"
   ]
  },
  {
   "cell_type": "markdown",
   "metadata": {},
   "source": [
    "To access atoti dashboards open this URL:"
   ]
  },
  {
   "cell_type": "code",
   "execution_count": 3,
   "metadata": {},
   "outputs": [
    {
     "data": {
      "text/plain": [
       "'http://localhost:56539'"
      ]
     },
     "execution_count": 3,
     "metadata": {},
     "output_type": "execute_result"
    }
   ],
   "source": [
    "session.url"
   ]
  },
  {
   "cell_type": "markdown",
   "metadata": {},
   "source": [
    "# atoti data cube"
   ]
  },
  {
   "cell_type": "markdown",
   "metadata": {},
   "source": [
    "Let's create a cube with two datastores: one for the market data and one for the risk metrics. \n",
    "\n",
    "atoti provides two methods for the real-time update: the first is by using the reactive datastores - it tells atoti to observe a file or a folder and fetch updates as soon as there are any, and the second is the “append” command that pushes new data into a data store forcing re-calculation. \n",
    "\n",
    "We are creating the `sensitivity_store` and connecting it to a source, in our case a csv file on disc, by setting the parameter `watch` to `True`:"
   ]
  },
  {
   "cell_type": "code",
   "execution_count": 4,
   "metadata": {},
   "outputs": [],
   "source": [
    "sensitivities_store = session.read_csv(\n",
    "    \"risk_data.csv\",\n",
    "    keys=[\"AsOfDate\", \"TradeId\", \"RiskFactor\"],\n",
    "    store_name=\"Sensitivities\",\n",
    "    types={\"TradeId\": tt.types.STRING, \"AsOfDate\": tt.types.LOCAL_DATE},\n",
    "    watch=True, \n",
    ")"
   ]
  },
  {
   "cell_type": "markdown",
   "metadata": {},
   "source": [
    "The parameter `watch = True` makes the `sensitivities_store` fetch the updates from the file on the disk automatically when it changes. The parameter `watch` is available for `read_csv` and `read_parquet` functions, as described in the atoti [doc](https://docs.atoti.io/0.4.1/lib/atoti.html?highlight=watch#atoti.session.Session.read_csv).\n",
    "\n",
    "\n",
    "To implement real-time instrument prices, we’ll be pushing new values using the datastore `append` command. In the following cell, we're creating the `market_data_store`. As you probably noticed, we are not setting the `watch` parameter as in the previous example, as it defaults to `False`:"
   ]
  },
  {
   "cell_type": "code",
   "execution_count": 5,
   "metadata": {},
   "outputs": [],
   "source": [
    "market_data_store = session.read_csv(\n",
    "    \"market_data.csv\",\n",
    "    keys=[\"AsOfDate\", \"Instrument\"],\n",
    "    store_name=\"Market Data Store\",\n",
    "    types={\n",
    "        \"AsOfDate\": tt.types.LOCAL_DATE,\n",
    "        \"Instrument\": tt.types.STRING,\n",
    "        \"Quote\": tt.types.DOUBLE,\n",
    "    },\n",
    ")"
   ]
  },
  {
   "cell_type": "markdown",
   "metadata": {},
   "source": [
    "At any time, we can use the `append` command to inject new records, for example:"
   ]
  },
  {
   "cell_type": "code",
   "execution_count": 6,
   "metadata": {},
   "outputs": [
    {
     "data": {
      "text/html": [
       "<div>\n",
       "<style scoped>\n",
       "    .dataframe tbody tr th:only-of-type {\n",
       "        vertical-align: middle;\n",
       "    }\n",
       "\n",
       "    .dataframe tbody tr th {\n",
       "        vertical-align: top;\n",
       "    }\n",
       "\n",
       "    .dataframe thead th {\n",
       "        text-align: right;\n",
       "    }\n",
       "</style>\n",
       "<table border=\"1\" class=\"dataframe\">\n",
       "  <thead>\n",
       "    <tr style=\"text-align: right;\">\n",
       "      <th></th>\n",
       "      <th></th>\n",
       "      <th>Quote</th>\n",
       "    </tr>\n",
       "    <tr>\n",
       "      <th>AsOfDate</th>\n",
       "      <th>Instrument</th>\n",
       "      <th></th>\n",
       "    </tr>\n",
       "  </thead>\n",
       "  <tbody>\n",
       "    <tr>\n",
       "      <th rowspan=\"3\" valign=\"top\">2020-07-08</th>\n",
       "      <th>OXY</th>\n",
       "      <td>17.239901</td>\n",
       "    </tr>\n",
       "    <tr>\n",
       "      <th>MSFT</th>\n",
       "      <td>215.589996</td>\n",
       "    </tr>\n",
       "    <tr>\n",
       "      <th>AAPL</th>\n",
       "      <td>383.820007</td>\n",
       "    </tr>\n",
       "    <tr>\n",
       "      <th>2020-05-01</th>\n",
       "      <th>AAPL</th>\n",
       "      <td>310.000000</td>\n",
       "    </tr>\n",
       "  </tbody>\n",
       "</table>\n",
       "</div>"
      ],
      "text/plain": [
       "                            Quote\n",
       "AsOfDate   Instrument            \n",
       "2020-07-08 OXY          17.239901\n",
       "           MSFT        215.589996\n",
       "           AAPL        383.820007\n",
       "2020-05-01 AAPL        310.000000"
      ]
     },
     "execution_count": 6,
     "metadata": {},
     "output_type": "execute_result"
    }
   ],
   "source": [
    "market_data_store.append((\"2020-05-01\", \"AAPL\", 310.0))\n",
    "market_data_store.head(5)"
   ]
  },
  {
   "cell_type": "markdown",
   "metadata": {},
   "source": [
    "This `join` will link the `sensitivities_store` and the `market_data_store` and allow displaying sensitivities next to quotes."
   ]
  },
  {
   "cell_type": "code",
   "execution_count": 7,
   "metadata": {},
   "outputs": [],
   "source": [
    "sensitivities_store.join(\n",
    "    market_data_store, mapping={\"AsOfDate\": \"AsOfDate\", \"RiskFactor\": \"Instrument\"}\n",
    ")"
   ]
  },
  {
   "cell_type": "markdown",
   "metadata": {},
   "source": [
    "Finally, we need to run the `create_cube` command."
   ]
  },
  {
   "cell_type": "code",
   "execution_count": 8,
   "metadata": {},
   "outputs": [],
   "source": [
    "cube = session.create_cube(sensitivities_store, \"Sensitivities\")"
   ]
  },
  {
   "cell_type": "code",
   "execution_count": 9,
   "metadata": {},
   "outputs": [
    {
     "data": {
      "image/svg+xml": [
       "<svg xmlns=\"http://www.w3.org/2000/svg\" xmlns:xlink=\"http://www.w3.org/1999/xlink\" width=\"565px\" height=\"232px\" viewBox=\"0.00 0.00 564.91 232.00\">\n",
       "<g id=\"graph0\" class=\"graph\" transform=\"scale(1.0 1.0) rotate(0) translate(4 228)\">\n",
       "<title>Sensitivities schema</title>\n",
       "<polygon fill=\"white\" stroke=\"transparent\" points=\"-4,4 -4,-228 560.91,-228 560.91,4 -4,4\"/>\n",
       "<!-- Sensitivities -->\n",
       "<g id=\"node1\" class=\"node\">\n",
       "<title>Sensitivities</title>\n",
       "<polygon fill=\"none\" stroke=\"black\" points=\"8.5,-184 8.5,-220 181.5,-220 181.5,-184 8.5,-184\"/>\n",
       "<text text-anchor=\"start\" x=\"60.78\" y=\"-198.8\" font-family=\"Times,serif\" font-weight=\"bold\" font-size=\"14.00\">Sensitivities</text>\n",
       "<polygon fill=\"none\" stroke=\"black\" points=\"8.5,-148 8.5,-184 181.5,-184 181.5,-148 8.5,-148\"/>\n",
       "<text text-anchor=\"start\" x=\"19.19\" y=\"-162.8\" font-family=\"Times,serif\" font-weight=\"bold\" font-size=\"14.00\">Key</text>\n",
       "<text text-anchor=\"start\" x=\"42.52\" y=\"-162.8\" font-family=\"Times,serif\" font-size=\"14.00\">  AsOfDate </text>\n",
       "<text text-anchor=\"start\" x=\"109.01\" y=\"-162.8\" font-family=\"Times,serif\" font-style=\"italic\" font-size=\"14.00\">LocalDate</text>\n",
       "<text text-anchor=\"start\" x=\"167.31\" y=\"-162.8\" font-family=\"Times,serif\" font-size=\"14.00\"> </text>\n",
       "<polygon fill=\"none\" stroke=\"black\" points=\"8.5,-112 8.5,-148 181.5,-148 181.5,-112 8.5,-112\"/>\n",
       "<text text-anchor=\"start\" x=\"19.5\" y=\"-126.8\" font-family=\"Times,serif\" font-weight=\"bold\" font-size=\"14.00\">Key</text>\n",
       "<text text-anchor=\"start\" x=\"42.82\" y=\"-126.8\" font-family=\"Times,serif\" font-size=\"14.00\">  TradeId </text>\n",
       "<text text-anchor=\"start\" x=\"96.9\" y=\"-126.8\" font-family=\"Times,serif\" font-style=\"italic\" font-size=\"14.00\">String</text>\n",
       "<text text-anchor=\"start\" x=\"131.12\" y=\"-126.8\" font-family=\"Times,serif\" font-size=\"14.00\"> </text>\n",
       "<polygon fill=\"none\" stroke=\"black\" points=\"8.5,-76 8.5,-112 181.5,-112 181.5,-76 8.5,-76\"/>\n",
       "<text text-anchor=\"start\" x=\"19.5\" y=\"-90.8\" font-family=\"Times,serif\" font-weight=\"bold\" font-size=\"14.00\">Key</text>\n",
       "<text text-anchor=\"start\" x=\"42.82\" y=\"-90.8\" font-family=\"Times,serif\" font-size=\"14.00\">  RiskFactor </text>\n",
       "<text text-anchor=\"start\" x=\"114.77\" y=\"-90.8\" font-family=\"Times,serif\" font-style=\"italic\" font-size=\"14.00\">String</text>\n",
       "<text text-anchor=\"start\" x=\"148.99\" y=\"-90.8\" font-family=\"Times,serif\" font-size=\"14.00\"> </text>\n",
       "<polygon fill=\"none\" stroke=\"black\" points=\"8.5,-40 8.5,-76 181.5,-76 181.5,-40 8.5,-40\"/>\n",
       "<text text-anchor=\"start\" x=\"19.5\" y=\"-54.8\" font-family=\"Times,serif\" font-size=\"14.00\">MarketValue </text>\n",
       "<text text-anchor=\"start\" x=\"95.3\" y=\"-54.8\" font-family=\"Times,serif\" font-style=\"italic\" font-size=\"14.00\">double</text>\n",
       "<text text-anchor=\"start\" x=\"133.41\" y=\"-54.8\" font-family=\"Times,serif\" font-size=\"14.00\"> </text>\n",
       "<polygon fill=\"none\" stroke=\"black\" points=\"8.5,-4 8.5,-40 181.5,-40 181.5,-4 8.5,-4\"/>\n",
       "<text text-anchor=\"start\" x=\"19.5\" y=\"-18.8\" font-family=\"Times,serif\" font-size=\"14.00\">Delta </text>\n",
       "<text text-anchor=\"start\" x=\"53.32\" y=\"-18.8\" font-family=\"Times,serif\" font-style=\"italic\" font-size=\"14.00\">double</text>\n",
       "<text text-anchor=\"start\" x=\"91.42\" y=\"-18.8\" font-family=\"Times,serif\" font-size=\"14.00\"> </text>\n",
       "</g>\n",
       "<!-- Market Data Store -->\n",
       "<g id=\"node2\" class=\"node\">\n",
       "<title>Market Data Store</title>\n",
       "<polygon fill=\"none\" stroke=\"black\" points=\"376.41,-148 376.41,-184 549.41,-184 549.41,-148 376.41,-148\"/>\n",
       "<text text-anchor=\"start\" x=\"411.21\" y=\"-162.8\" font-family=\"Times,serif\" font-weight=\"bold\" font-size=\"14.00\">Market Data Store</text>\n",
       "<polygon fill=\"none\" stroke=\"black\" points=\"376.41,-112 376.41,-148 549.41,-148 549.41,-112 376.41,-112\"/>\n",
       "<text text-anchor=\"start\" x=\"387.1\" y=\"-126.8\" font-family=\"Times,serif\" font-weight=\"bold\" font-size=\"14.00\">Key</text>\n",
       "<text text-anchor=\"start\" x=\"410.43\" y=\"-126.8\" font-family=\"Times,serif\" font-size=\"14.00\">  AsOfDate </text>\n",
       "<text text-anchor=\"start\" x=\"476.92\" y=\"-126.8\" font-family=\"Times,serif\" font-style=\"italic\" font-size=\"14.00\">LocalDate</text>\n",
       "<text text-anchor=\"start\" x=\"535.22\" y=\"-126.8\" font-family=\"Times,serif\" font-size=\"14.00\"> </text>\n",
       "<polygon fill=\"none\" stroke=\"black\" points=\"376.41,-76 376.41,-112 549.41,-112 549.41,-76 376.41,-76\"/>\n",
       "<text text-anchor=\"start\" x=\"387.41\" y=\"-90.8\" font-family=\"Times,serif\" font-weight=\"bold\" font-size=\"14.00\">Key</text>\n",
       "<text text-anchor=\"start\" x=\"410.74\" y=\"-90.8\" font-family=\"Times,serif\" font-size=\"14.00\">  Instrument </text>\n",
       "<text text-anchor=\"start\" x=\"481.89\" y=\"-90.8\" font-family=\"Times,serif\" font-style=\"italic\" font-size=\"14.00\">String</text>\n",
       "<text text-anchor=\"start\" x=\"516.12\" y=\"-90.8\" font-family=\"Times,serif\" font-size=\"14.00\"> </text>\n",
       "<polygon fill=\"none\" stroke=\"black\" points=\"376.41,-40 376.41,-76 549.41,-76 549.41,-40 376.41,-40\"/>\n",
       "<text text-anchor=\"start\" x=\"387.41\" y=\"-54.8\" font-family=\"Times,serif\" font-size=\"14.00\">Quote </text>\n",
       "<text text-anchor=\"start\" x=\"425.13\" y=\"-54.8\" font-family=\"Times,serif\" font-style=\"italic\" font-size=\"14.00\">double</text>\n",
       "<text text-anchor=\"start\" x=\"463.23\" y=\"-54.8\" font-family=\"Times,serif\" font-size=\"14.00\"> </text>\n",
       "</g>\n",
       "<!-- Sensitivities&#45;&gt;Market Data Store -->\n",
       "<g id=\"edge1\" class=\"edge\">\n",
       "<title>Sensitivities-&gt;Market Data Store</title>\n",
       "<path fill=\"none\" stroke=\"black\" d=\"M189.26,-112C240.78,-112 304.8,-112 357.8,-112\"/>\n",
       "<polygon fill=\"black\" stroke=\"black\" points=\"357.9,-115.5 367.9,-112 357.9,-108.5 357.9,-115.5\"/>\n",
       "<text text-anchor=\"middle\" x=\"278.46\" y=\"-130.17\" font-family=\"Times,serif\" font-size=\"14.00\">AsOfDate → AsOfDate</text>\n",
       "<text text-anchor=\"middle\" x=\"278.46\" y=\"-115.48\" font-family=\"Times,serif\" font-size=\"14.00\">RiskFactor → Instrument</text>\n",
       "</g>\n",
       "</g>\n",
       "</svg>"
      ],
      "text/plain": [
       "<IPython.core.display.SVG object>"
      ]
     },
     "execution_count": 9,
     "metadata": {},
     "output_type": "execute_result"
    }
   ],
   "source": [
    "cube.schema"
   ]
  },
  {
   "cell_type": "markdown",
   "metadata": {},
   "source": [
    "We can start exploring the data in the cube. The following command serves for a quick inline atoti visualization:"
   ]
  },
  {
   "cell_type": "code",
   "execution_count": 11,
   "metadata": {
    "atoti": {
     "state": {
      "name": "",
      "type": "container",
      "value": {
       "body": {
        "configuration": {
         "tabular": {
          "addButtonFilter": "numeric",
          "cellRenderers": [
           "tree-layout"
          ],
          "columnsGroups": [
           {
            "captionProducer": "firstColumn",
            "cellFactory": "kpi-status",
            "selector": "kpi-status"
           },
           {
            "captionProducer": "firstColumn",
            "cellFactory": "lookup",
            "selector": "lookup"
           },
           {
            "captionProducer": "expiry",
            "cellFactory": "expiry",
            "selector": "kpi-expiry"
           },
           {
            "captionProducer": "columnMerge",
            "cellFactory": {
             "args": {},
             "key": "treeCells"
            },
            "selector": "member"
           }
          ],
          "defaultOptions": {},
          "expansion": {
           "automaticExpansion": true
          },
          "hideAddButton": true,
          "pinnedHeaderSelector": "member",
          "sortingMode": "non-breaking",
          "statisticsShown": true
         }
        },
        "contextValues": {},
        "mdx": "SELECT NON EMPTY {[Measures].[Delta.SUM], [Measures].[MarketValue.SUM], [Measures].[Quote.VALUE]} ON COLUMNS, NON EMPTY Crossjoin(Hierarchize([Hierarchies].[AsOfDate].[AsOfDate].Members), Hierarchize(DrilldownLevel([Hierarchies].[RiskFactor].[ALL].[AllMember]))) ON ROWS FROM [Sensitivities] CELL PROPERTIES VALUE, FORMATTED_VALUE, BACK_COLOR, FORE_COLOR, FONT_FLAGS",
        "ranges": {
         "column": {
          "chunkSize": 50,
          "thresholdPercentage": 0.2
         },
         "row": {
          "chunkSize": 2000,
          "thresholdPercentage": 0.1
         }
        },
        "serverUrl": "",
        "updateMode": "once"
       },
       "containerKey": "pivot-table",
       "showTitleBar": false,
       "style": {}
      }
     }
    }
   },
   "outputs": [
    {
     "data": {
      "application/vnd.atoti.v0+json": {
       "cube": "Sensitivities",
       "name": null,
       "session": "Unnamed"
      },
      "text/plain": [
       "Install and enable the atoti JupyterLab extension to see this widget."
      ]
     },
     "metadata": {},
     "output_type": "display_data"
    }
   ],
   "source": [
    "cube.visualize()"
   ]
  },
  {
   "cell_type": "markdown",
   "metadata": {},
   "source": [
    "# Refining the cube\n",
    "\n",
    "The `create_cube` command triggered the creation of default measures and dimensions, which can be further customized and refined, we are creating variables to access their collections:"
   ]
  },
  {
   "cell_type": "code",
   "execution_count": 11,
   "metadata": {},
   "outputs": [],
   "source": [
    "m = cube.measures\n",
    "lvl = cube.levels\n",
    "h = cube.hierarchies"
   ]
  },
  {
   "cell_type": "markdown",
   "metadata": {},
   "source": [
    "The following cell **hides the created measures** for the mean:"
   ]
  },
  {
   "cell_type": "code",
   "execution_count": 12,
   "metadata": {},
   "outputs": [],
   "source": [
    "m[\"MarketValue.MEAN\"].visible = False\n",
    "m[\"Delta.MEAN\"].visible = False"
   ]
  },
  {
   "cell_type": "markdown",
   "metadata": {},
   "source": [
    "The next cell is making the date dimension slicing, so that there's no summation across dates:"
   ]
  },
  {
   "cell_type": "code",
   "execution_count": 13,
   "metadata": {},
   "outputs": [],
   "source": [
    "# TODO: why am I getting UI error \"c is undefined\":"
   ]
  },
  {
   "cell_type": "code",
   "execution_count": 14,
   "metadata": {},
   "outputs": [],
   "source": [
    "h[\"AsOfDate\"].slicing = True"
   ]
  },
  {
   "cell_type": "markdown",
   "metadata": {},
   "source": [
    "The next cell will sort dates in desc order:"
   ]
  },
  {
   "cell_type": "code",
   "execution_count": 15,
   "metadata": {},
   "outputs": [],
   "source": [
    "lvl[\"AsOfDate\"].comparator = tt.comparator.DESC"
   ]
  },
  {
   "cell_type": "markdown",
   "metadata": {},
   "source": [
    "Please refer to the atoti documentation to learn about other ways to refine your cube, in particular about creating custom aggregation functions: [New measures](https://docs.atoti.io/0.4.1/tutorial/01-Basics.html#New-measures)."
   ]
  },
  {
   "cell_type": "markdown",
   "metadata": {},
   "source": [
    "# Enriching risk data - trade attributes and multi-level book structure"
   ]
  },
  {
   "cell_type": "markdown",
   "metadata": {},
   "source": [
    "To facilitate the analysis, we can enrich the metrics with additional attributes such as risk factors, regions, sectors, trade typologies, etc. \n",
    "\n",
    "In this example, we are adding trade attribute data and linking trades to a multi-level booking hierarchy. "
   ]
  },
  {
   "cell_type": "code",
   "execution_count": 16,
   "metadata": {},
   "outputs": [],
   "source": [
    "trade_attributes = session.read_csv(\n",
    "    \"trade_attributes.csv\",\n",
    "    types={\"TradeId\": tt.types.STRING, \"Strike\": tt.types.STRING},\n",
    "    keys=[\"TradeId\"],\n",
    "    store_name=\"Trade Attributes\",\n",
    ")\n",
    "\n",
    "sensitivities_store.join(trade_attributes)"
   ]
  },
  {
   "cell_type": "code",
   "execution_count": 17,
   "metadata": {},
   "outputs": [],
   "source": [
    "book_hierarchy = session.read_pandas(\n",
    "    pd.DataFrame(\n",
    "        data={\n",
    "            \"Book\": [\n",
    "                \"EQ_VOL_HED\",\n",
    "                \"EQ_STRUCT\",\n",
    "                \"EQ_LARG_DM\",\n",
    "                \"EQ_WAREHOU\",\n",
    "                \"EQ_SMAL_EM\",\n",
    "            ],\n",
    "            \"Desk\": [\n",
    "                \"Structuring\",\n",
    "                \"Structuring\",\n",
    "                \"Equity Trading\",\n",
    "                \"Equity Trading\",\n",
    "                \"Equity Trading\",\n",
    "            ],\n",
    "            \"Business Unit\": [\n",
    "                \"Equities\",\n",
    "                \"Equities\",\n",
    "                \"Equities\",\n",
    "                \"Equities\",\n",
    "                \"Equities\",\n",
    "            ],\n",
    "        }\n",
    "    ),\n",
    "    keys=[\"Book\"],\n",
    "    store_name=\"Book Hierarchy\",\n",
    ")\n",
    "\n",
    "trade_attributes.join(book_hierarchy)"
   ]
  },
  {
   "cell_type": "code",
   "execution_count": 18,
   "metadata": {},
   "outputs": [
    {
     "data": {
      "image/svg+xml": [
       "<svg xmlns=\"http://www.w3.org/2000/svg\" xmlns:xlink=\"http://www.w3.org/1999/xlink\" width=\"839px\" height=\"510px\" viewBox=\"0.00 0.00 839.40 510.00\">\n",
       "<g id=\"graph0\" class=\"graph\" transform=\"scale(1.0 1.0) rotate(0) translate(4 506)\">\n",
       "<title>Sensitivities schema</title>\n",
       "<polygon fill=\"white\" stroke=\"transparent\" points=\"-4,4 -4,-506 835.4,-506 835.4,4 -4,4\"/>\n",
       "<!-- Sensitivities -->\n",
       "<g id=\"node1\" class=\"node\">\n",
       "<title>Sensitivities</title>\n",
       "<polygon fill=\"none\" stroke=\"black\" points=\"8.5,-368 8.5,-404 181.5,-404 181.5,-368 8.5,-368\"/>\n",
       "<text text-anchor=\"start\" x=\"60.78\" y=\"-382.8\" font-family=\"Times,serif\" font-weight=\"bold\" font-size=\"14.00\">Sensitivities</text>\n",
       "<polygon fill=\"none\" stroke=\"black\" points=\"8.5,-332 8.5,-368 181.5,-368 181.5,-332 8.5,-332\"/>\n",
       "<text text-anchor=\"start\" x=\"19.19\" y=\"-346.8\" font-family=\"Times,serif\" font-weight=\"bold\" font-size=\"14.00\">Key</text>\n",
       "<text text-anchor=\"start\" x=\"42.52\" y=\"-346.8\" font-family=\"Times,serif\" font-size=\"14.00\">  AsOfDate </text>\n",
       "<text text-anchor=\"start\" x=\"109.01\" y=\"-346.8\" font-family=\"Times,serif\" font-style=\"italic\" font-size=\"14.00\">LocalDate</text>\n",
       "<text text-anchor=\"start\" x=\"167.31\" y=\"-346.8\" font-family=\"Times,serif\" font-size=\"14.00\"> </text>\n",
       "<polygon fill=\"none\" stroke=\"black\" points=\"8.5,-296 8.5,-332 181.5,-332 181.5,-296 8.5,-296\"/>\n",
       "<text text-anchor=\"start\" x=\"19.5\" y=\"-310.8\" font-family=\"Times,serif\" font-weight=\"bold\" font-size=\"14.00\">Key</text>\n",
       "<text text-anchor=\"start\" x=\"42.82\" y=\"-310.8\" font-family=\"Times,serif\" font-size=\"14.00\">  TradeId </text>\n",
       "<text text-anchor=\"start\" x=\"96.9\" y=\"-310.8\" font-family=\"Times,serif\" font-style=\"italic\" font-size=\"14.00\">String</text>\n",
       "<text text-anchor=\"start\" x=\"131.12\" y=\"-310.8\" font-family=\"Times,serif\" font-size=\"14.00\"> </text>\n",
       "<polygon fill=\"none\" stroke=\"black\" points=\"8.5,-260 8.5,-296 181.5,-296 181.5,-260 8.5,-260\"/>\n",
       "<text text-anchor=\"start\" x=\"19.5\" y=\"-274.8\" font-family=\"Times,serif\" font-weight=\"bold\" font-size=\"14.00\">Key</text>\n",
       "<text text-anchor=\"start\" x=\"42.82\" y=\"-274.8\" font-family=\"Times,serif\" font-size=\"14.00\">  RiskFactor </text>\n",
       "<text text-anchor=\"start\" x=\"114.77\" y=\"-274.8\" font-family=\"Times,serif\" font-style=\"italic\" font-size=\"14.00\">String</text>\n",
       "<text text-anchor=\"start\" x=\"148.99\" y=\"-274.8\" font-family=\"Times,serif\" font-size=\"14.00\"> </text>\n",
       "<polygon fill=\"none\" stroke=\"black\" points=\"8.5,-224 8.5,-260 181.5,-260 181.5,-224 8.5,-224\"/>\n",
       "<text text-anchor=\"start\" x=\"19.5\" y=\"-238.8\" font-family=\"Times,serif\" font-size=\"14.00\">MarketValue </text>\n",
       "<text text-anchor=\"start\" x=\"95.3\" y=\"-238.8\" font-family=\"Times,serif\" font-style=\"italic\" font-size=\"14.00\">double</text>\n",
       "<text text-anchor=\"start\" x=\"133.41\" y=\"-238.8\" font-family=\"Times,serif\" font-size=\"14.00\"> </text>\n",
       "<polygon fill=\"none\" stroke=\"black\" points=\"8.5,-188 8.5,-224 181.5,-224 181.5,-188 8.5,-188\"/>\n",
       "<text text-anchor=\"start\" x=\"19.5\" y=\"-202.8\" font-family=\"Times,serif\" font-size=\"14.00\">Delta </text>\n",
       "<text text-anchor=\"start\" x=\"53.32\" y=\"-202.8\" font-family=\"Times,serif\" font-style=\"italic\" font-size=\"14.00\">double</text>\n",
       "<text text-anchor=\"start\" x=\"91.42\" y=\"-202.8\" font-family=\"Times,serif\" font-size=\"14.00\"> </text>\n",
       "</g>\n",
       "<!-- Market Data Store -->\n",
       "<g id=\"node2\" class=\"node\">\n",
       "<title>Market Data Store</title>\n",
       "<polygon fill=\"none\" stroke=\"black\" points=\"376.41,-462 376.41,-498 549.41,-498 549.41,-462 376.41,-462\"/>\n",
       "<text text-anchor=\"start\" x=\"411.21\" y=\"-476.8\" font-family=\"Times,serif\" font-weight=\"bold\" font-size=\"14.00\">Market Data Store</text>\n",
       "<polygon fill=\"none\" stroke=\"black\" points=\"376.41,-426 376.41,-462 549.41,-462 549.41,-426 376.41,-426\"/>\n",
       "<text text-anchor=\"start\" x=\"387.1\" y=\"-440.8\" font-family=\"Times,serif\" font-weight=\"bold\" font-size=\"14.00\">Key</text>\n",
       "<text text-anchor=\"start\" x=\"410.43\" y=\"-440.8\" font-family=\"Times,serif\" font-size=\"14.00\">  AsOfDate </text>\n",
       "<text text-anchor=\"start\" x=\"476.92\" y=\"-440.8\" font-family=\"Times,serif\" font-style=\"italic\" font-size=\"14.00\">LocalDate</text>\n",
       "<text text-anchor=\"start\" x=\"535.22\" y=\"-440.8\" font-family=\"Times,serif\" font-size=\"14.00\"> </text>\n",
       "<polygon fill=\"none\" stroke=\"black\" points=\"376.41,-390 376.41,-426 549.41,-426 549.41,-390 376.41,-390\"/>\n",
       "<text text-anchor=\"start\" x=\"387.41\" y=\"-404.8\" font-family=\"Times,serif\" font-weight=\"bold\" font-size=\"14.00\">Key</text>\n",
       "<text text-anchor=\"start\" x=\"410.74\" y=\"-404.8\" font-family=\"Times,serif\" font-size=\"14.00\">  Instrument </text>\n",
       "<text text-anchor=\"start\" x=\"481.89\" y=\"-404.8\" font-family=\"Times,serif\" font-style=\"italic\" font-size=\"14.00\">String</text>\n",
       "<text text-anchor=\"start\" x=\"516.12\" y=\"-404.8\" font-family=\"Times,serif\" font-size=\"14.00\"> </text>\n",
       "<polygon fill=\"none\" stroke=\"black\" points=\"376.41,-354 376.41,-390 549.41,-390 549.41,-354 376.41,-354\"/>\n",
       "<text text-anchor=\"start\" x=\"387.41\" y=\"-368.8\" font-family=\"Times,serif\" font-size=\"14.00\">Quote </text>\n",
       "<text text-anchor=\"start\" x=\"425.13\" y=\"-368.8\" font-family=\"Times,serif\" font-style=\"italic\" font-size=\"14.00\">double</text>\n",
       "<text text-anchor=\"start\" x=\"463.23\" y=\"-368.8\" font-family=\"Times,serif\" font-size=\"14.00\"> </text>\n",
       "</g>\n",
       "<!-- Sensitivities&#45;&gt;Market Data Store -->\n",
       "<g id=\"edge2\" class=\"edge\">\n",
       "<title>Sensitivities-&gt;Market Data Store</title>\n",
       "<path fill=\"none\" stroke=\"black\" d=\"M189.26,-329.31C240.99,-347.69 305.33,-370.55 358.46,-389.42\"/>\n",
       "<polygon fill=\"black\" stroke=\"black\" points=\"357.3,-392.73 367.9,-392.78 359.65,-386.13 357.3,-392.73\"/>\n",
       "<text text-anchor=\"middle\" x=\"278.46\" y=\"-401.17\" font-family=\"Times,serif\" font-size=\"14.00\">AsOfDate → AsOfDate</text>\n",
       "<text text-anchor=\"middle\" x=\"278.46\" y=\"-386.48\" font-family=\"Times,serif\" font-size=\"14.00\">RiskFactor → Instrument</text>\n",
       "</g>\n",
       "<!-- Trade Attributes -->\n",
       "<g id=\"node3\" class=\"node\">\n",
       "<title>Trade Attributes</title>\n",
       "<polygon fill=\"none\" stroke=\"black\" points=\"394.41,-292 394.41,-328 531.41,-328 531.41,-292 394.41,-292\"/>\n",
       "<text text-anchor=\"start\" x=\"417.47\" y=\"-306.8\" font-family=\"Times,serif\" font-weight=\"bold\" font-size=\"14.00\">Trade Attributes</text>\n",
       "<polygon fill=\"none\" stroke=\"black\" points=\"394.41,-256 394.41,-292 531.41,-292 531.41,-256 394.41,-256\"/>\n",
       "<text text-anchor=\"start\" x=\"405.35\" y=\"-270.8\" font-family=\"Times,serif\" font-weight=\"bold\" font-size=\"14.00\">Key</text>\n",
       "<text text-anchor=\"start\" x=\"428.67\" y=\"-270.8\" font-family=\"Times,serif\" font-size=\"14.00\">  TradeId </text>\n",
       "<text text-anchor=\"start\" x=\"482.75\" y=\"-270.8\" font-family=\"Times,serif\" font-style=\"italic\" font-size=\"14.00\">String</text>\n",
       "<text text-anchor=\"start\" x=\"516.97\" y=\"-270.8\" font-family=\"Times,serif\" font-size=\"14.00\"> </text>\n",
       "<polygon fill=\"none\" stroke=\"black\" points=\"394.41,-220 394.41,-256 531.41,-256 531.41,-220 394.41,-220\"/>\n",
       "<text text-anchor=\"start\" x=\"405.41\" y=\"-234.8\" font-family=\"Times,serif\" font-size=\"14.00\">Ticker </text>\n",
       "<text text-anchor=\"start\" x=\"444.96\" y=\"-234.8\" font-family=\"Times,serif\" font-style=\"italic\" font-size=\"14.00\">String</text>\n",
       "<text text-anchor=\"start\" x=\"479.19\" y=\"-234.8\" font-family=\"Times,serif\" font-size=\"14.00\"> </text>\n",
       "<polygon fill=\"none\" stroke=\"black\" points=\"394.41,-184 394.41,-220 531.41,-220 531.41,-184 394.41,-184\"/>\n",
       "<text text-anchor=\"start\" x=\"405.41\" y=\"-198.8\" font-family=\"Times,serif\" font-size=\"14.00\">Book </text>\n",
       "<text text-anchor=\"start\" x=\"439.25\" y=\"-198.8\" font-family=\"Times,serif\" font-style=\"italic\" font-size=\"14.00\">String</text>\n",
       "<text text-anchor=\"start\" x=\"473.48\" y=\"-198.8\" font-family=\"Times,serif\" font-size=\"14.00\"> </text>\n",
       "<polygon fill=\"none\" stroke=\"black\" points=\"394.41,-148 394.41,-184 531.41,-184 531.41,-148 394.41,-148\"/>\n",
       "<text text-anchor=\"start\" x=\"405.41\" y=\"-162.8\" font-family=\"Times,serif\" font-size=\"14.00\">Product </text>\n",
       "<text text-anchor=\"start\" x=\"452.46\" y=\"-162.8\" font-family=\"Times,serif\" font-style=\"italic\" font-size=\"14.00\">String</text>\n",
       "<text text-anchor=\"start\" x=\"486.69\" y=\"-162.8\" font-family=\"Times,serif\" font-size=\"14.00\"> </text>\n",
       "<polygon fill=\"none\" stroke=\"black\" points=\"394.41,-112 394.41,-148 531.41,-148 531.41,-112 394.41,-112\"/>\n",
       "<text text-anchor=\"start\" x=\"405.41\" y=\"-126.8\" font-family=\"Times,serif\" font-size=\"14.00\">Quantity </text>\n",
       "<text text-anchor=\"start\" x=\"457.91\" y=\"-126.8\" font-family=\"Times,serif\" font-style=\"italic\" font-size=\"14.00\">int</text>\n",
       "<text text-anchor=\"start\" x=\"472.68\" y=\"-126.8\" font-family=\"Times,serif\" font-size=\"14.00\"> </text>\n",
       "<polygon fill=\"none\" stroke=\"black\" points=\"394.41,-76 394.41,-112 531.41,-112 531.41,-76 394.41,-76\"/>\n",
       "<text text-anchor=\"start\" x=\"405.41\" y=\"-90.8\" font-family=\"Times,serif\" font-size=\"14.00\">Strike </text>\n",
       "<text text-anchor=\"start\" x=\"442.35\" y=\"-90.8\" font-family=\"Times,serif\" font-style=\"italic\" font-size=\"14.00\">String</text>\n",
       "<text text-anchor=\"start\" x=\"476.58\" y=\"-90.8\" font-family=\"Times,serif\" font-size=\"14.00\"> </text>\n",
       "<polygon fill=\"none\" stroke=\"black\" points=\"394.41,-40 394.41,-76 531.41,-76 531.41,-40 394.41,-40\"/>\n",
       "<text text-anchor=\"start\" x=\"405.41\" y=\"-54.8\" font-family=\"Times,serif\" font-size=\"14.00\">Maturity </text>\n",
       "<text text-anchor=\"start\" x=\"457.91\" y=\"-54.8\" font-family=\"Times,serif\" font-style=\"italic\" font-size=\"14.00\">LocalDate</text>\n",
       "<text text-anchor=\"start\" x=\"516.2\" y=\"-54.8\" font-family=\"Times,serif\" font-size=\"14.00\"> </text>\n",
       "<polygon fill=\"none\" stroke=\"black\" points=\"394.41,-4 394.41,-40 531.41,-40 531.41,-4 394.41,-4\"/>\n",
       "<text text-anchor=\"start\" x=\"405.41\" y=\"-18.8\" font-family=\"Times,serif\" font-size=\"14.00\">OptionType </text>\n",
       "<text text-anchor=\"start\" x=\"475.59\" y=\"-18.8\" font-family=\"Times,serif\" font-style=\"italic\" font-size=\"14.00\">String</text>\n",
       "<text text-anchor=\"start\" x=\"509.82\" y=\"-18.8\" font-family=\"Times,serif\" font-size=\"14.00\"> </text>\n",
       "</g>\n",
       "<!-- Sensitivities&#45;&gt;Trade Attributes -->\n",
       "<g id=\"edge1\" class=\"edge\">\n",
       "<title>Sensitivities-&gt;Trade Attributes</title>\n",
       "<path fill=\"none\" stroke=\"black\" d=\"M189.26,-262.69C246.9,-242.21 320.2,-216.17 376.19,-196.28\"/>\n",
       "<polygon fill=\"black\" stroke=\"black\" points=\"377.48,-199.53 385.73,-192.89 375.14,-192.94 377.48,-199.53\"/>\n",
       "<text text-anchor=\"middle\" x=\"278.46\" y=\"-256.48\" font-family=\"Times,serif\" font-size=\"14.00\">TradeId → TradeId</text>\n",
       "</g>\n",
       "<!-- Book Hierarchy -->\n",
       "<g id=\"node4\" class=\"node\">\n",
       "<title>Book Hierarchy</title>\n",
       "<polygon fill=\"none\" stroke=\"black\" points=\"682.9,-202 682.9,-238 823.9,-238 823.9,-202 682.9,-202\"/>\n",
       "<text text-anchor=\"start\" x=\"708.5\" y=\"-216.8\" font-family=\"Times,serif\" font-weight=\"bold\" font-size=\"14.00\">Book Hierarchy</text>\n",
       "<polygon fill=\"none\" stroke=\"black\" points=\"682.9,-166 682.9,-202 823.9,-202 823.9,-166 682.9,-166\"/>\n",
       "<text text-anchor=\"start\" x=\"693.9\" y=\"-180.8\" font-family=\"Times,serif\" font-weight=\"bold\" font-size=\"14.00\">Key</text>\n",
       "<text text-anchor=\"start\" x=\"717.23\" y=\"-180.8\" font-family=\"Times,serif\" font-size=\"14.00\">  Book </text>\n",
       "<text text-anchor=\"start\" x=\"758.07\" y=\"-180.8\" font-family=\"Times,serif\" font-style=\"italic\" font-size=\"14.00\">String</text>\n",
       "<text text-anchor=\"start\" x=\"792.29\" y=\"-180.8\" font-family=\"Times,serif\" font-size=\"14.00\"> </text>\n",
       "<polygon fill=\"none\" stroke=\"black\" points=\"682.9,-130 682.9,-166 823.9,-166 823.9,-130 682.9,-130\"/>\n",
       "<text text-anchor=\"start\" x=\"693.9\" y=\"-144.8\" font-family=\"Times,serif\" font-size=\"14.00\">Desk </text>\n",
       "<text text-anchor=\"start\" x=\"726.18\" y=\"-144.8\" font-family=\"Times,serif\" font-style=\"italic\" font-size=\"14.00\">String</text>\n",
       "<text text-anchor=\"start\" x=\"760.4\" y=\"-144.8\" font-family=\"Times,serif\" font-size=\"14.00\"> </text>\n",
       "<polygon fill=\"none\" stroke=\"black\" points=\"682.9,-94 682.9,-130 823.9,-130 823.9,-94 682.9,-94\"/>\n",
       "<text text-anchor=\"start\" x=\"693.7\" y=\"-108.8\" font-family=\"Times,serif\" font-size=\"14.00\">Business Unit </text>\n",
       "<text text-anchor=\"start\" x=\"775.38\" y=\"-108.8\" font-family=\"Times,serif\" font-style=\"italic\" font-size=\"14.00\">String</text>\n",
       "<text text-anchor=\"start\" x=\"809.6\" y=\"-108.8\" font-family=\"Times,serif\" font-size=\"14.00\"> </text>\n",
       "</g>\n",
       "<!-- Trade Attributes&#45;&gt;Book Hierarchy -->\n",
       "<g id=\"edge3\" class=\"edge\">\n",
       "<title>Trade Attributes-&gt;Book Hierarchy</title>\n",
       "<path fill=\"none\" stroke=\"black\" d=\"M539.21,-166C577.53,-166 624.23,-166 664.11,-166\"/>\n",
       "<polygon fill=\"black\" stroke=\"black\" points=\"664.35,-169.5 674.35,-166 664.35,-162.5 664.35,-169.5\"/>\n",
       "<text text-anchor=\"middle\" x=\"615.66\" y=\"-169.48\" font-family=\"Times,serif\" font-size=\"14.00\">Book → Book</text>\n",
       "</g>\n",
       "</g>\n",
       "</svg>"
      ],
      "text/plain": [
       "<IPython.core.display.SVG object>"
      ]
     },
     "execution_count": 18,
     "metadata": {},
     "output_type": "execute_result"
    }
   ],
   "source": [
    "cube.schema"
   ]
  },
  {
   "cell_type": "markdown",
   "metadata": {},
   "source": [
    "In fact, the **attributes do not have to be static**. They can be refreshed as soon as data arrives. For example, by adding a “Trade status” into the `trade_attributes` store I could use it to tag trades as “Terminated” and filter them out from the view."
   ]
  },
  {
   "cell_type": "markdown",
   "metadata": {},
   "source": [
    "In the following cell, we are creating a hierarchy representing ogranisational structure:"
   ]
  },
  {
   "cell_type": "code",
   "execution_count": 19,
   "metadata": {},
   "outputs": [],
   "source": [
    "h[\"Portfolio Structure\"] = {\n",
    "    \"Business Unit\": lvl[\"Business Unit\"],\n",
    "    \"Desk\": lvl[\"Desk\"],\n",
    "    \"Book\": lvl[\"Book\"],\n",
    "}"
   ]
  },
  {
   "cell_type": "markdown",
   "metadata": {},
   "source": [
    "We can expand and collapse data along the multi-level hierarchy:"
   ]
  },
  {
   "cell_type": "code",
   "execution_count": 21,
   "metadata": {
    "atoti": {
     "state": {
      "name": "",
      "type": "container",
      "value": {
       "body": {
        "configuration": {
         "tabular": {
          "addButtonFilter": "numeric",
          "cellRenderers": [
           "tree-layout"
          ],
          "columnsGroups": [
           {
            "captionProducer": "firstColumn",
            "cellFactory": "kpi-status",
            "selector": "kpi-status"
           },
           {
            "captionProducer": "firstColumn",
            "cellFactory": "lookup",
            "selector": "lookup"
           },
           {
            "captionProducer": "expiry",
            "cellFactory": "expiry",
            "selector": "kpi-expiry"
           },
           {
            "captionProducer": "columnMerge",
            "cellFactory": {
             "args": {},
             "key": "treeCells"
            },
            "selector": "member"
           }
          ],
          "defaultOptions": {},
          "expansion": {
           "automaticExpansion": true
          },
          "hideAddButton": true,
          "pinnedHeaderSelector": "member",
          "sortingMode": "non-breaking",
          "statisticsShown": true
         }
        },
        "contextValues": {},
        "mdx": "SELECT NON EMPTY Hierarchize(DrilldownLevel([Hierarchies].[Portfolio Structure].[ALL].[AllMember])) ON ROWS, NON EMPTY [Measures].[Delta.SUM] ON COLUMNS FROM [Sensitivities] CELL PROPERTIES VALUE, FORMATTED_VALUE, BACK_COLOR, FORE_COLOR, FONT_FLAGS",
        "ranges": {
         "column": {
          "chunkSize": 50,
          "thresholdPercentage": 0.2
         },
         "row": {
          "chunkSize": 2000,
          "thresholdPercentage": 0.1
         }
        },
        "serverUrl": "",
        "updateMode": "once"
       },
       "containerKey": "pivot-table",
       "showTitleBar": false,
       "style": {}
      }
     }
    }
   },
   "outputs": [
    {
     "data": {
      "application/vnd.atoti.v0+json": {
       "cube": "Sensitivities",
       "name": null,
       "session": "Unnamed"
      },
      "text/plain": [
       "Install and enable the atoti JupyterLab extension to see this widget."
      ]
     },
     "metadata": {},
     "output_type": "display_data"
    }
   ],
   "source": [
    "cube.visualize()"
   ]
  },
  {
   "cell_type": "markdown",
   "metadata": {},
   "source": [
    "# Start real-time sources\n",
    "\n",
    "In the following section I'm emulating a market data feed, which is triggering portfolio repricing. \n",
    "\n",
    "A real pricing library is mocked up by a function computing greeks using a QuantLib implementation of the Black-Scholes formulae. "
   ]
  },
  {
   "cell_type": "code",
   "execution_count": 22,
   "metadata": {},
   "outputs": [],
   "source": [
    "from pricing_engine_emulator import reprice_trade, reprice_portfolio"
   ]
  },
  {
   "cell_type": "markdown",
   "metadata": {},
   "source": [
    "Open a dashboard via this link - you will see the most recent portfolio summary. The widgets are switched to the \"real-time\" query mode, but the data is not updating just yet. "
   ]
  },
  {
   "cell_type": "code",
   "execution_count": 24,
   "metadata": {},
   "outputs": [
    {
     "data": {
      "text/plain": [
       "'http://localhost:56539/#/dashboard/8b4'"
      ]
     },
     "execution_count": 24,
     "metadata": {},
     "output_type": "execute_result"
    }
   ],
   "source": [
    "session.url + \"/#/dashboard/8b4\""
   ]
  },
  {
   "cell_type": "markdown",
   "metadata": {},
   "source": [
    "To simulate the market data updates, I am going to replay historical stock prices available from Yahoo Finance. This code snippet downloads historical data and pushes new tick updates into a queue. The publisher waits for the `should_publish` event, which is triggered in the subsequent cells."
   ]
  },
  {
   "cell_type": "code",
   "execution_count": 25,
   "metadata": {},
   "outputs": [],
   "source": [
    "import threading, queue\n",
    "\n",
    "should_publish = threading.Event()\n",
    "\n",
    "spot_update_queue = queue.Queue()\n",
    "tick_data = pd.read_csv(\n",
    "    \"stock_price_tick_data.csv\", index_col=\"AsOfDate\", parse_dates=[\"AsOfDate\"]\n",
    ")\n",
    "positions = pd.read_csv(\"trade_attributes.csv\", parse_dates=[\"Maturity\"])\n",
    "\n",
    "\n",
    "def start_spot_publisher():\n",
    "    # The publisher is replaying tick_data.\n",
    "    # It waits for the should publish event.\n",
    "    \n",
    "    current_time = -1\n",
    "    for idx, row in tick_data.iterrows():\n",
    "        next_time = idx\n",
    "        if current_time != -1:\n",
    "            dt = (next_time - current_time).total_seconds() / 100.0\n",
    "            time.sleep(dt)\n",
    "        current_time = idx\n",
    "        print(\"\\rawaiting for publishing update \" + str(idx), end='')        \n",
    "        should_publish.wait()\n",
    "        print(\"\\rpublishing update \" + str(idx), end='')        \n",
    "        spot_update_queue.put((idx, row.to_dict()))\n",
    "    spot_update_queue.join()\n",
    "    print(\"All work completed\")\n",
    "\n",
    "\n",
    "def start_spot_update_listener():\n",
    "    print(\"Real time updates started\")\n",
    "    while True:\n",
    "        calc_date, spot_prices_by_ticker = spot_update_queue.get()\n",
    "\n",
    "        \"\"\"\n",
    "        As discussed above, I'm illustrating the \"reactive\" data store \n",
    "        by configuring it with the parameter watch set to True.\n",
    "        With the following code I'm updating the file on disc:\n",
    "        \"\"\"\n",
    "        reprice_portfolio(spot_prices_by_ticker, positions, calc_date).to_csv(\n",
    "            \"risk_data.csv\", index=False\n",
    "        )\n",
    "\n",
    "        \"\"\"\n",
    "        The second example of real-time implementation - is injecting the data \n",
    "        directly into a datastore.\n",
    "        With the following code I'm appending the new stock prices to the market data store.\n",
    "        \"\"\"\n",
    "        for i in list(spot_prices_by_ticker.items()):\n",
    "            if not pd.isnull(i[1]):\n",
    "                print((calc_date.strftime(\"%Y-%m-%d\"), i[0], i[1]))\n",
    "                market_data_store.append((calc_date.strftime(\"%Y-%m-%d\"), i[0], i[1]))\n",
    "\n",
    "        spot_update_queue.task_done()\n",
    "\n",
    "\n",
    "listener_thread = threading.Thread(target=start_spot_update_listener, daemon=True)\n",
    "publisher_thread = threading.Thread(target=start_spot_publisher, daemon=True)"
   ]
  },
  {
   "cell_type": "markdown",
   "metadata": {},
   "source": [
    "\n",
    "Run the next cell to start the real-time feeds - and see the cells in the dashboards blinking if then contributing data changes."
   ]
  },
  {
   "cell_type": "code",
   "execution_count": null,
   "metadata": {},
   "outputs": [],
   "source": [
    "publisher_thread.start()\n",
    "listener_thread.start()\n",
    "# start publishing\n",
    "should_publish.set()"
   ]
  },
  {
   "cell_type": "code",
   "execution_count": null,
   "metadata": {},
   "outputs": [],
   "source": [
    "# pause publishing\n",
    "should_publish.clear()"
   ]
  }
 ],
 "metadata": {
  "kernelspec": {
   "display_name": "Python 3",
   "language": "python",
   "name": "python3"
  },
  "language_info": {
   "codemirror_mode": {
    "name": "ipython",
    "version": 3
   },
   "file_extension": ".py",
   "mimetype": "text/x-python",
   "name": "python",
   "nbconvert_exporter": "python",
   "pygments_lexer": "ipython3",
   "version": "3.8.3"
  }
 },
 "nbformat": 4,
 "nbformat_minor": 4
}
