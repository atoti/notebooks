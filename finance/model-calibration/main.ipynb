{
 "cells": [
  {
   "cell_type": "markdown",
   "metadata": {},
   "source": [
    "# Stressed VaR calibration with atoti\n",
    "\n",
    "## A quick introduction\n",
    "\n",
    "This jupyter notebook will demonstrate how atoti can help to analyse and explore **Value-at-Risk** across observation windows. This tool can be particularly useful for clients looking to **recalibrate the period** of significant stress relevant to their portfolio, for instance, from the **Global Financial Crisis of 2008** to the **Coronavirus Market Crash of 2020**. \n",
    "\n",
    "We will focus on the step-by-step implementation of an analytical cube for the rolling VaR use case in atoti. It will be possible to explore portfolio in the app as illustrated with this gif:\n",
    "\n",
    "![Stressed VaR app preview](app-preview.gif)\n",
    "\n",
    "See also:\n",
    "\n",
    "- What is \"VaR\" on the investopedia: https://www.investopedia.com/terms/v/var.asp\n",
    "- Financial organisations have to report to the regulator the stress period chosen by the bank and the rationale for this choice. Please refer to the EBA Guidlines to read more about this requirement: https://eba.europa.eu/sites/default/documents/files/documents/10180/104547/cce3fca5-67ca-4513-a540-67942204ef43/EBA-BS-2012-78--GL-on-Stressed-VaR-.pdf?retry=1\n",
    "\n",
    "# Importing libraries\n",
    "\n",
    "We will be using atoti and pandas today."
   ]
  },
  {
   "cell_type": "code",
   "execution_count": 1,
   "metadata": {},
   "outputs": [
    {
     "name": "stdout",
     "output_type": "stream",
     "text": [
      "Welcome to atoti 0.4.2.20200617181308!\n",
      "\n",
      "By using this community edition, you agree with the license available at https://www.atoti.io/eula.\n",
      "Browse the official documentation at https://docs.atoti.io.\n",
      "Join the community at https://www.atoti.io/register.\n",
      "\n",
      "You can hide this message by setting the ATOTI_HIDE_EULA_MESSAGE environment variable to True.\n"
     ]
    }
   ],
   "source": [
    "import atoti as tt\n",
    "import pandas as pd"
   ]
  },
  {
   "cell_type": "markdown",
   "metadata": {},
   "source": [
    "# Sample data overview\n",
    "\n",
    "For the purposes of this demonstration, we'll use a simplified data model that can be adjusted for a real-life use case. The datastores that we'll need include:\n",
    "\n",
    "- positions: books, stock tickers and positions market values in USD (long and short positions),\n",
    "- historical returns: vectors of stock prices and daily changes, we will be multiplying market values by stock price changes to obtain a simulated historical P&L for the demonstration. **As a best practice we load the returns as vectors. This reduces the size of the files and memory requirement, and speeds up the calculations.**\n",
    "- business calendar with the list of historical/business dates.\n",
    "\n",
    "The first two data stores can be replaced with full revaluation P&L vectors from a risk system. \n",
    "\n",
    "You can also enrich the data with other dimensions and attributes, for instance, Product Hierarchies, Risk Factor attributes, Legal entities."
   ]
  },
  {
   "cell_type": "markdown",
   "metadata": {},
   "source": [
    "# Creating an atoti session and loading data"
   ]
  },
  {
   "cell_type": "code",
   "execution_count": 2,
   "metadata": {},
   "outputs": [
    {
     "data": {
      "text/plain": [
       "'http://localhost:61438'"
      ]
     },
     "execution_count": 2,
     "metadata": {},
     "output_type": "execute_result"
    }
   ],
   "source": [
    "# Starting atoti session\n",
    "from atoti.config import create_config\n",
    "config = create_config(metadata_db=\"./metadata.db\", max_memory = \"8G\", sampling_mode=tt.sampling.FULL)\n",
    "session = tt.create_session(config=config)\n",
    "# URL to atoti UI:\n",
    "session.url"
   ]
  },
  {
   "cell_type": "markdown",
   "metadata": {},
   "source": [
    "Let's load historical data into a store from a csv file.\n",
    "Read more about the supported input data sources on the https://docs.atoti.io/.\n",
    "By setting array_sep, atoti will recognize the input data is in vectorized format."
   ]
  },
  {
   "cell_type": "code",
   "execution_count": 3,
   "metadata": {},
   "outputs": [
    {
     "data": {
      "text/html": [
       "<div>\n",
       "<style scoped>\n",
       "    .dataframe tbody tr th:only-of-type {\n",
       "        vertical-align: middle;\n",
       "    }\n",
       "\n",
       "    .dataframe tbody tr th {\n",
       "        vertical-align: top;\n",
       "    }\n",
       "\n",
       "    .dataframe thead th {\n",
       "        text-align: right;\n",
       "    }\n",
       "</style>\n",
       "<table border=\"1\" class=\"dataframe\">\n",
       "  <thead>\n",
       "    <tr style=\"text-align: right;\">\n",
       "      <th></th>\n",
       "      <th>Returns</th>\n",
       "      <th>Prices</th>\n",
       "    </tr>\n",
       "    <tr>\n",
       "      <th>Stock</th>\n",
       "      <th></th>\n",
       "      <th></th>\n",
       "    </tr>\n",
       "  </thead>\n",
       "  <tbody>\n",
       "    <tr>\n",
       "      <th>APA</th>\n",
       "      <td>doubleVector[3635]{-0.002821133740173898, ...}</td>\n",
       "      <td>doubleVector[3635]{58.06625747680664, ...}</td>\n",
       "    </tr>\n",
       "    <tr>\n",
       "      <th>CCL</th>\n",
       "      <td>doubleVector[3635]{-0.0038484012008623836, ...}</td>\n",
       "      <td>doubleVector[3635]{36.2109375, ...}</td>\n",
       "    </tr>\n",
       "    <tr>\n",
       "      <th>EOG</th>\n",
       "      <td>doubleVector[3635]{0.001013001435978822, ...}</td>\n",
       "      <td>doubleVector[3635]{35.61472702026367, ...}</td>\n",
       "    </tr>\n",
       "  </tbody>\n",
       "</table>\n",
       "</div>"
      ],
      "text/plain": [
       "                                               Returns  \\\n",
       "Stock                                                    \n",
       "APA     doubleVector[3635]{-0.002821133740173898, ...}   \n",
       "CCL    doubleVector[3635]{-0.0038484012008623836, ...}   \n",
       "EOG      doubleVector[3635]{0.001013001435978822, ...}   \n",
       "\n",
       "                                           Prices  \n",
       "Stock                                              \n",
       "APA    doubleVector[3635]{58.06625747680664, ...}  \n",
       "CCL           doubleVector[3635]{36.2109375, ...}  \n",
       "EOG    doubleVector[3635]{35.61472702026367, ...}  "
      ]
     },
     "execution_count": 3,
     "metadata": {},
     "output_type": "execute_result"
    }
   ],
   "source": [
    "market_data_store = session.read_csv(\n",
    "    \"s3://data.atoti.io/notebooks/model-calibration/stock_price_returns.csv\",\n",
    "    keys=[\"Stock\"],\n",
    "    store_name=\"StockData\",\n",
    "    array_sep=\";\"\n",
    ")\n",
    "\n",
    "market_data_store.head(3)"
   ]
  },
  {
   "cell_type": "markdown",
   "metadata": {},
   "source": [
    "As a best practice we load the returns as vectors. This reduces the size of the files and memory requirement, and speeds up the calculations.\n",
    "\n",
    "Now let's load the positions."
   ]
  },
  {
   "cell_type": "code",
   "execution_count": 4,
   "metadata": {},
   "outputs": [
    {
     "data": {
      "text/html": [
       "<div>\n",
       "<style scoped>\n",
       "    .dataframe tbody tr th:only-of-type {\n",
       "        vertical-align: middle;\n",
       "    }\n",
       "\n",
       "    .dataframe tbody tr th {\n",
       "        vertical-align: top;\n",
       "    }\n",
       "\n",
       "    .dataframe thead th {\n",
       "        text-align: right;\n",
       "    }\n",
       "</style>\n",
       "<table border=\"1\" class=\"dataframe\">\n",
       "  <thead>\n",
       "    <tr style=\"text-align: right;\">\n",
       "      <th></th>\n",
       "      <th></th>\n",
       "      <th></th>\n",
       "      <th>Portfolio</th>\n",
       "      <th>AmountUSD</th>\n",
       "    </tr>\n",
       "    <tr>\n",
       "      <th>Book</th>\n",
       "      <th>Stock</th>\n",
       "      <th>TradeId</th>\n",
       "      <th></th>\n",
       "      <th></th>\n",
       "    </tr>\n",
       "  </thead>\n",
       "  <tbody>\n",
       "    <tr>\n",
       "      <th rowspan=\"3\" valign=\"top\">Indices</th>\n",
       "      <th rowspan=\"3\" valign=\"top\">^DJI</th>\n",
       "      <th>Trade_0f062c06</th>\n",
       "      <td>US</td>\n",
       "      <td>278.852596</td>\n",
       "    </tr>\n",
       "    <tr>\n",
       "      <th>Trade_0f07b6de</th>\n",
       "      <td>US</td>\n",
       "      <td>234.577111</td>\n",
       "    </tr>\n",
       "    <tr>\n",
       "      <th>Trade_0f08ca56</th>\n",
       "      <td>US</td>\n",
       "      <td>96.053106</td>\n",
       "    </tr>\n",
       "  </tbody>\n",
       "</table>\n",
       "</div>"
      ],
      "text/plain": [
       "                             Portfolio   AmountUSD\n",
       "Book    Stock TradeId                             \n",
       "Indices ^DJI  Trade_0f062c06        US  278.852596\n",
       "              Trade_0f07b6de        US  234.577111\n",
       "              Trade_0f08ca56        US   96.053106"
      ]
     },
     "execution_count": 4,
     "metadata": {},
     "output_type": "execute_result"
    }
   ],
   "source": [
    "positions_store = session.read_csv(\n",
    "    \"s3://data.atoti.io/notebooks/model-calibration/positions_snapshot.csv\",\n",
    "    keys=[\"Book\", \"Stock\", \"TradeId\"],\n",
    "    store_name=\"Positions\",\n",
    "    types={\"AmountUSD\": tt.types.DOUBLE},\n",
    ")\n",
    "\n",
    "positions_store.head(3)"
   ]
  },
  {
   "cell_type": "markdown",
   "metadata": {},
   "source": [
    "In the following cell we are linking positions data and market data using `join`: an atoti join is not like a pandas join/merge that creates one big table but more like SQL join: we keep two separate tables but there is a reference from one to another so the joined table will enrich the base data with more attributes. Follow this link to read more in the atoti's tutorial: https://docs.atoti.io/0.4.1/tutorial/01-Basics.html#Join . "
   ]
  },
  {
   "cell_type": "code",
   "execution_count": 5,
   "metadata": {},
   "outputs": [],
   "source": [
    "positions_store.join(market_data_store)"
   ]
  },
  {
   "cell_type": "markdown",
   "metadata": {},
   "source": [
    "# Creating an OLAP cube"
   ]
  },
  {
   "cell_type": "code",
   "execution_count": 6,
   "metadata": {},
   "outputs": [
    {
     "data": {
      "application/json": {
       "Dimensions": {
        "Hierarchies": {
         "Book": [
          "Book"
         ],
         "Portfolio": [
          "Portfolio"
         ],
         "Stock": [
          "Stock"
         ],
         "TradeId": [
          "TradeId"
         ]
        }
       },
       "Measures": {
        "AmountUSD.MEAN": {
         "formatter": "DOUBLE[#,###.00]",
         "visible": true
        },
        "AmountUSD.SUM": {
         "formatter": "DOUBLE[#,###.00]",
         "visible": true
        },
        "Prices.VALUE": {
         "formatter": null,
         "visible": true
        },
        "Returns.VALUE": {
         "formatter": null,
         "visible": true
        },
        "contributors.COUNT": {
         "formatter": null,
         "visible": true
        }
       }
      },
      "text/html": [
       "<ul>\n",
       "<li>Historical VaR Cube\n",
       "  <ul>\n",
       "  <li>Dimensions\n",
       "    <ul>\n",
       "    <li>Hierarchies\n",
       "      <ul>\n",
       "      <li>Book\n",
       "        <ol>\n",
       "        <li>Book</li>\n",
       "        </ol>      </li>\n",
       "      <li>Portfolio\n",
       "        <ol>\n",
       "        <li>Portfolio</li>\n",
       "        </ol>      </li>\n",
       "      <li>Stock\n",
       "        <ol>\n",
       "        <li>Stock</li>\n",
       "        </ol>      </li>\n",
       "      <li>TradeId\n",
       "        <ol>\n",
       "        <li>TradeId</li>\n",
       "        </ol>      </li>\n",
       "      </ul>\n",
       "    </li>\n",
       "    </ul>\n",
       "  </li>\n",
       "  <li>Measures\n",
       "    <ul>\n",
       "    <li>AmountUSD.MEAN\n",
       "      <ul>\n",
       "      <li>formatter: DOUBLE[#,###.00]</li>\n",
       "      <li>visible: True</li>\n",
       "      </ul>\n",
       "    </li>\n",
       "    <li>AmountUSD.SUM\n",
       "      <ul>\n",
       "      <li>formatter: DOUBLE[#,###.00]</li>\n",
       "      <li>visible: True</li>\n",
       "      </ul>\n",
       "    </li>\n",
       "    <li>Prices.VALUE\n",
       "      <ul>\n",
       "      <li>formatter: None</li>\n",
       "      <li>visible: True</li>\n",
       "      </ul>\n",
       "    </li>\n",
       "    <li>Returns.VALUE\n",
       "      <ul>\n",
       "      <li>formatter: None</li>\n",
       "      <li>visible: True</li>\n",
       "      </ul>\n",
       "    </li>\n",
       "    <li>contributors.COUNT\n",
       "      <ul>\n",
       "      <li>formatter: None</li>\n",
       "      <li>visible: True</li>\n",
       "      </ul>\n",
       "    </li>\n",
       "    </ul>\n",
       "  </li>\n",
       "  </ul>\n",
       "</li>\n",
       "</ul>\n"
      ],
      "text/plain": [
       "<atoti.cube.Cube at 0x1153ff7c0>"
      ]
     },
     "execution_count": 6,
     "metadata": {
      "application/json": {
       "expanded": false,
       "root": "Historical VaR Cube"
      }
     },
     "output_type": "execute_result"
    }
   ],
   "source": [
    "cube = session.create_cube(positions_store, \"Historical VaR Cube\", mode=\"auto\")\n",
    "h = cube.hierarchies\n",
    "l = cube.levels\n",
    "m = cube.measures\n",
    "cube"
   ]
  },
  {
   "cell_type": "code",
   "execution_count": 7,
   "metadata": {},
   "outputs": [
    {
     "data": {
      "image/svg+xml": [
       "<svg xmlns=\"http://www.w3.org/2000/svg\" xmlns:xlink=\"http://www.w3.org/1999/xlink\" width=\"427px\" height=\"232px\" viewBox=\"0.00 0.00 426.59 232.00\">\n",
       "<g id=\"graph0\" class=\"graph\" transform=\"scale(1.0 1.0) rotate(0) translate(4 228)\">\n",
       "<title>Historical VaR Cube schema</title>\n",
       "<polygon fill=\"white\" stroke=\"transparent\" points=\"-4,4 -4,-228 422.59,-228 422.59,4 -4,4\"/>\n",
       "<!-- Positions -->\n",
       "<g id=\"node1\" class=\"node\">\n",
       "<title>Positions</title>\n",
       "<polygon fill=\"none\" stroke=\"black\" points=\"8.5,-184 8.5,-220 149.5,-220 149.5,-184 8.5,-184\"/>\n",
       "<text text-anchor=\"start\" x=\"53.32\" y=\"-198.8\" font-family=\"Times,serif\" font-weight=\"bold\" font-size=\"14.00\">Positions</text>\n",
       "<polygon fill=\"none\" stroke=\"black\" points=\"8.5,-148 8.5,-184 149.5,-184 149.5,-148 8.5,-148\"/>\n",
       "<text text-anchor=\"start\" x=\"19.5\" y=\"-162.8\" font-family=\"Times,serif\" font-weight=\"bold\" font-size=\"14.00\">Key</text>\n",
       "<text text-anchor=\"start\" x=\"42.82\" y=\"-162.8\" font-family=\"Times,serif\" font-size=\"14.00\">  Book </text>\n",
       "<text text-anchor=\"start\" x=\"83.66\" y=\"-162.8\" font-family=\"Times,serif\" font-style=\"italic\" font-size=\"14.00\">String</text>\n",
       "<text text-anchor=\"start\" x=\"117.89\" y=\"-162.8\" font-family=\"Times,serif\" font-size=\"14.00\"> </text>\n",
       "<polygon fill=\"none\" stroke=\"black\" points=\"8.5,-112 8.5,-148 149.5,-148 149.5,-112 8.5,-112\"/>\n",
       "<text text-anchor=\"start\" x=\"19.5\" y=\"-126.8\" font-family=\"Times,serif\" font-weight=\"bold\" font-size=\"14.00\">Key</text>\n",
       "<text text-anchor=\"start\" x=\"42.82\" y=\"-126.8\" font-family=\"Times,serif\" font-size=\"14.00\">  Stock </text>\n",
       "<text text-anchor=\"start\" x=\"85.21\" y=\"-126.8\" font-family=\"Times,serif\" font-style=\"italic\" font-size=\"14.00\">String</text>\n",
       "<text text-anchor=\"start\" x=\"119.44\" y=\"-126.8\" font-family=\"Times,serif\" font-size=\"14.00\"> </text>\n",
       "<polygon fill=\"none\" stroke=\"black\" points=\"8.5,-76 8.5,-112 149.5,-112 149.5,-76 8.5,-76\"/>\n",
       "<text text-anchor=\"start\" x=\"19.5\" y=\"-90.8\" font-family=\"Times,serif\" font-weight=\"bold\" font-size=\"14.00\">Key</text>\n",
       "<text text-anchor=\"start\" x=\"42.82\" y=\"-90.8\" font-family=\"Times,serif\" font-size=\"14.00\">  TradeId </text>\n",
       "<text text-anchor=\"start\" x=\"96.9\" y=\"-90.8\" font-family=\"Times,serif\" font-style=\"italic\" font-size=\"14.00\">String</text>\n",
       "<text text-anchor=\"start\" x=\"131.12\" y=\"-90.8\" font-family=\"Times,serif\" font-size=\"14.00\"> </text>\n",
       "<polygon fill=\"none\" stroke=\"black\" points=\"8.5,-40 8.5,-76 149.5,-76 149.5,-40 8.5,-40\"/>\n",
       "<text text-anchor=\"start\" x=\"19.5\" y=\"-54.8\" font-family=\"Times,serif\" font-size=\"14.00\">Portfolio </text>\n",
       "<text text-anchor=\"start\" x=\"72.78\" y=\"-54.8\" font-family=\"Times,serif\" font-style=\"italic\" font-size=\"14.00\">String</text>\n",
       "<text text-anchor=\"start\" x=\"107.01\" y=\"-54.8\" font-family=\"Times,serif\" font-size=\"14.00\"> </text>\n",
       "<polygon fill=\"none\" stroke=\"black\" points=\"8.5,-4 8.5,-40 149.5,-40 149.5,-4 8.5,-4\"/>\n",
       "<text text-anchor=\"start\" x=\"19.5\" y=\"-18.8\" font-family=\"Times,serif\" font-size=\"14.00\">AmountUSD </text>\n",
       "<text text-anchor=\"start\" x=\"96.9\" y=\"-18.8\" font-family=\"Times,serif\" font-style=\"italic\" font-size=\"14.00\">double</text>\n",
       "<text text-anchor=\"start\" x=\"135\" y=\"-18.8\" font-family=\"Times,serif\" font-size=\"14.00\"> </text>\n",
       "</g>\n",
       "<!-- StockData -->\n",
       "<g id=\"node2\" class=\"node\">\n",
       "<title>StockData</title>\n",
       "<polygon fill=\"none\" stroke=\"black\" points=\"286.09,-148 286.09,-184 411.09,-184 411.09,-148 286.09,-148\"/>\n",
       "<text text-anchor=\"start\" x=\"319.44\" y=\"-162.8\" font-family=\"Times,serif\" font-weight=\"bold\" font-size=\"14.00\">StockData</text>\n",
       "<polygon fill=\"none\" stroke=\"black\" points=\"286.09,-112 286.09,-148 411.09,-148 411.09,-112 286.09,-112\"/>\n",
       "<text text-anchor=\"start\" x=\"296.87\" y=\"-126.8\" font-family=\"Times,serif\" font-weight=\"bold\" font-size=\"14.00\">Key</text>\n",
       "<text text-anchor=\"start\" x=\"320.2\" y=\"-126.8\" font-family=\"Times,serif\" font-size=\"14.00\">  Stock </text>\n",
       "<text text-anchor=\"start\" x=\"362.59\" y=\"-126.8\" font-family=\"Times,serif\" font-style=\"italic\" font-size=\"14.00\">String</text>\n",
       "<text text-anchor=\"start\" x=\"396.82\" y=\"-126.8\" font-family=\"Times,serif\" font-size=\"14.00\"> </text>\n",
       "<polygon fill=\"none\" stroke=\"black\" points=\"286.09,-76 286.09,-112 411.09,-112 411.09,-76 286.09,-76\"/>\n",
       "<text text-anchor=\"start\" x=\"297.09\" y=\"-90.8\" font-family=\"Times,serif\" font-size=\"14.00\">Returns </text>\n",
       "<text text-anchor=\"start\" x=\"344.15\" y=\"-90.8\" font-family=\"Times,serif\" font-style=\"italic\" font-size=\"14.00\">double</text>\n",
       "<text text-anchor=\"start\" x=\"382.25\" y=\"-90.8\" font-family=\"Times,serif\" font-size=\"14.00\"> </text>\n",
       "<polygon fill=\"none\" stroke=\"black\" points=\"286.09,-40 286.09,-76 411.09,-76 411.09,-40 286.09,-40\"/>\n",
       "<text text-anchor=\"start\" x=\"297.09\" y=\"-54.8\" font-family=\"Times,serif\" font-size=\"14.00\">Prices </text>\n",
       "<text text-anchor=\"start\" x=\"334.81\" y=\"-54.8\" font-family=\"Times,serif\" font-style=\"italic\" font-size=\"14.00\">double</text>\n",
       "<text text-anchor=\"start\" x=\"372.91\" y=\"-54.8\" font-family=\"Times,serif\" font-size=\"14.00\"> </text>\n",
       "</g>\n",
       "<!-- Positions&#45;&gt;StockData -->\n",
       "<g id=\"edge1\" class=\"edge\">\n",
       "<title>Positions-&gt;StockData</title>\n",
       "<path fill=\"none\" stroke=\"black\" d=\"M157.26,-112C191.81,-112 232.44,-112 267.24,-112\"/>\n",
       "<polygon fill=\"black\" stroke=\"black\" points=\"267.36,-115.5 277.36,-112 267.36,-108.5 267.36,-115.5\"/>\n",
       "<text text-anchor=\"middle\" x=\"217.3\" y=\"-115.48\" font-family=\"Times,serif\" font-size=\"14.00\">Stock → Stock</text>\n",
       "</g>\n",
       "</g>\n",
       "</svg>"
      ],
      "text/plain": [
       "<IPython.core.display.SVG object>"
      ]
     },
     "execution_count": 7,
     "metadata": {},
     "output_type": "execute_result"
    }
   ],
   "source": [
    "cube.schema"
   ]
  },
  {
   "cell_type": "markdown",
   "metadata": {},
   "source": [
    "The default aggregation functions created at this step allow to display position's market values - see measure `AmountUSD.SUM`. We'll be adding user-defined aggregation functions in addition to the default ones."
   ]
  },
  {
   "cell_type": "markdown",
   "metadata": {},
   "source": [
    "# Business hierarchies"
   ]
  },
  {
   "cell_type": "markdown",
   "metadata": {},
   "source": [
    "Users can create multi-level hierarchies to expand data order natural to their area. For example, let's put Books under Portfolios to create a two-level Business Hierarchy:"
   ]
  },
  {
   "cell_type": "code",
   "execution_count": 8,
   "metadata": {},
   "outputs": [],
   "source": [
    "h[\"Portfolio Structure\"] = {\n",
    "    \"Portfolio\": l[\"Portfolio\"],\n",
    "    \"Book\": l['Book']\n",
    "}"
   ]
  },
  {
   "cell_type": "markdown",
   "metadata": {},
   "source": [
    " We are using the multi-level `Portfolio Structure` to expand portfolio's Market Value."
   ]
  },
  {
   "cell_type": "code",
   "execution_count": 10,
   "metadata": {
    "atoti": {
     "state": {
      "name": "",
      "type": "container",
      "value": {
       "body": {
        "configuration": {
         "tabular": {
          "addButtonFilter": "numeric",
          "columns": [
           {
            "key": "[Measures].[AmountUSD.SUM]",
            "width": 176
           }
          ],
          "columnsGroups": [
           {
            "captionProducer": "firstColumn",
            "cellFactory": "kpi-status",
            "selector": "kpi-status"
           },
           {
            "captionProducer": "firstColumn",
            "cellFactory": "lookup",
            "selector": "lookup"
           },
           {
            "captionProducer": "expiry",
            "cellFactory": "expiry",
            "selector": "kpi-expiry"
           },
           {
            "captionProducer": "columnMerge",
            "cellFactory": {
             "args": {},
             "key": "treeCells"
            },
            "selector": "member"
           }
          ],
          "defaultOptions": {},
          "expansion": {
           "automaticExpansion": true
          },
          "hideAddButton": true,
          "pinnedHeaderSelector": "member",
          "sortingMode": "non-breaking",
          "statisticsShown": true
         }
        },
        "contextValues": {},
        "mdx": "SELECT NON EMPTY Hierarchize(Union(DrilldownLevel([Hierarchies].[Portfolio Structure].[ALL].[AllMember]), Descendants({[Hierarchies].[Portfolio Structure].[ALL].[AllMember].[US]}, [Hierarchies].[Portfolio Structure].[Book]))) ON ROWS, NON EMPTY [Measures].[AmountUSD.SUM] ON COLUMNS FROM [Historical VaR Cube] CELL PROPERTIES VALUE, FORMATTED_VALUE, BACK_COLOR, FORE_COLOR, FONT_FLAGS",
        "ranges": {
         "column": {
          "chunkSize": 50,
          "thresholdPercentage": 0.2
         },
         "row": {
          "chunkSize": 2000,
          "thresholdPercentage": 0.1
         }
        },
        "serverUrl": "",
        "updateMode": "once"
       },
       "containerKey": "pivot-table",
       "showTitleBar": false,
       "style": {}
      }
     }
    }
   },
   "outputs": [
    {
     "data": {
      "application/vnd.atoti.v0+json": {
       "cube": "Historical VaR Cube",
       "name": null,
       "session": "Unnamed"
      },
      "text/plain": [
       "Install and enable the atoti JupyterLab extension to see this widget."
      ]
     },
     "metadata": {},
     "output_type": "display_data"
    }
   ],
   "source": [
    "cube.visualize()"
   ]
  },
  {
   "cell_type": "markdown",
   "metadata": {},
   "source": [
    "# User-defined measure for the VaR vector\n",
    "\n",
    "In our simple example, we multiply the positions market values -  `AmountUSD`  - by the stock returns - `Returns.VALUE` for each name, and then summing them up across positions to obtain the historical VaR vectors. This step is not necessary if P&L vectors are delivered by a risk system. "
   ]
  },
  {
   "cell_type": "code",
   "execution_count": 11,
   "metadata": {},
   "outputs": [],
   "source": [
    "m[\"VaR Vector\"] = tt.agg.sum(\n",
    "    m[\"AmountUSD.SUM\"] * m[\"Returns.VALUE\"], scope=tt.scope.origin(l[\"Stock\"])\n",
    ")"
   ]
  },
  {
   "cell_type": "markdown",
   "metadata": {},
   "source": [
    "The `VaR vector` is a technical measure displaying all P&L values in one cell - it is not a user friendly presentation of the simulated P&Ls. We will create a VaR aggregation from the vector and also we'll make it possible to view individual scenarios. Continue reading to learn how. "
   ]
  },
  {
   "cell_type": "code",
   "execution_count": 13,
   "metadata": {
    "atoti": {
     "state": {
      "name": "",
      "type": "container",
      "value": {
       "body": {
        "configuration": {
         "tabular": {
          "addButtonFilter": "numeric",
          "columns": [
           {
            "key": "[Measures].[VaR Vector]",
            "width": 173
           }
          ],
          "columnsGroups": [
           {
            "captionProducer": "firstColumn",
            "cellFactory": "kpi-status",
            "selector": "kpi-status"
           },
           {
            "captionProducer": "firstColumn",
            "cellFactory": "lookup",
            "selector": "lookup"
           },
           {
            "captionProducer": "expiry",
            "cellFactory": "expiry",
            "selector": "kpi-expiry"
           },
           {
            "captionProducer": "columnMerge",
            "cellFactory": {
             "args": {},
             "key": "treeCells"
            },
            "selector": "member"
           }
          ],
          "defaultOptions": {},
          "expansion": {
           "automaticExpansion": true
          },
          "hideAddButton": true,
          "pinnedHeaderSelector": "member",
          "sortingMode": "non-breaking",
          "statisticsShown": true
         }
        },
        "contextValues": {},
        "mdx": "SELECT NON EMPTY [Measures].[VaR Vector] ON COLUMNS, NON EMPTY Hierarchize(DrilldownLevel([Hierarchies].[Portfolio Structure].[ALL].[AllMember])) ON ROWS FROM [Historical VaR Cube] CELL PROPERTIES VALUE, FORMATTED_VALUE, BACK_COLOR, FORE_COLOR, FONT_FLAGS",
        "ranges": {
         "column": {
          "chunkSize": 50,
          "thresholdPercentage": 0.2
         },
         "row": {
          "chunkSize": 2000,
          "thresholdPercentage": 0.1
         }
        },
        "serverUrl": "",
        "updateMode": "once"
       },
       "containerKey": "pivot-table",
       "showTitleBar": false,
       "style": {}
      }
     }
    }
   },
   "outputs": [
    {
     "data": {
      "application/vnd.atoti.v0+json": {
       "cube": "Historical VaR Cube",
       "name": null,
       "session": "Unnamed"
      },
      "text/plain": [
       "Install and enable the atoti JupyterLab extension to see this widget."
      ]
     },
     "metadata": {},
     "output_type": "display_data"
    }
   ],
   "source": [
    "cube.visualize()"
   ]
  },
  {
   "cell_type": "markdown",
   "metadata": {},
   "source": [
    "# View P&L scenarios by Date - \"Vector Expansion\""
   ]
  },
  {
   "cell_type": "markdown",
   "metadata": {},
   "source": [
    "With the `VaR Vector` we can view P&L in vectorized format which is not user-friendly. Let's create a hierarchy that will allow to display P&L value by historical date - this approach is referred to as vector expansion in atoti applications."
   ]
  },
  {
   "cell_type": "code",
   "execution_count": 14,
   "metadata": {},
   "outputs": [],
   "source": [
    "calendar = pd.read_csv(\"http://data.atoti.io/notebooks/model-calibration/business_calendar.csv\")['Date']\n",
    "\n",
    "cube.create_parameter_hierarchy(\n",
    "    \"Historical Dates\", list(calendar), index_measure=\"Date Index\",\n",
    ")\n",
    "# Setting the hierarchy to non-slicing, as required by \n",
    "# the max_member aggregation function - see later - this behaviour might change in future versions.\n",
    "h[\"Historical Dates\"].slicing = False"
   ]
  },
  {
   "cell_type": "markdown",
   "metadata": {},
   "source": [
    "**Parameter hierarchy** as a hierarchy that is not based on the facts of the stores but will be used for a parameter in the analysis. \n",
    "For instance the historical dates are not a column of the data but you will be able to use it and filter on a date."
   ]
  },
  {
   "cell_type": "code",
   "execution_count": 15,
   "metadata": {},
   "outputs": [],
   "source": [
    "# This new measure will pick an element from the VaR vector:\n",
    "m[\"PnL at date\"] = m[\"VaR Vector\"][m[\"Date Index\"]]\n",
    "m[\"PnL at date\"].formatter = \"DOUBLE[#,##0.#]\"\n",
    "m[\"Return at date\"] = m[\"Returns.VALUE\"][m[\"Date Index\"]]\n",
    "m[\"Return at date\"].formatter = \"DOUBLE[#,##0.#%]\"\n",
    "m[\"Price at date\"] = m[\"Prices.VALUE\"][m[\"Date Index\"]]"
   ]
  },
  {
   "cell_type": "markdown",
   "metadata": {},
   "source": [
    "Open this bookmark that makes use of the `PnL at date` and the `Return at date` measures to **zoom in the tail scenarios**:"
   ]
  },
  {
   "cell_type": "code",
   "execution_count": 16,
   "metadata": {},
   "outputs": [
    {
     "data": {
      "text/plain": [
       "'http://localhost:61438/#/dashboard/cae'"
      ]
     },
     "execution_count": 16,
     "metadata": {},
     "output_type": "execute_result"
    }
   ],
   "source": [
    "session.url + \"/#/dashboard/cae\""
   ]
  },
  {
   "cell_type": "markdown",
   "metadata": {},
   "source": [
    "# Creating Sliding Windows"
   ]
  },
  {
   "cell_type": "markdown",
   "metadata": {},
   "source": [
    "We want to compute VaRs for different observation windows to see which period would lead to the most conservative VaR for our current portfolio. Such a \"worst\" window will be a good candidate for the Stressed VaR calibration and will be a focus for further analysis and decomposition."
   ]
  },
  {
   "cell_type": "code",
   "execution_count": 17,
   "metadata": {},
   "outputs": [],
   "source": [
    "# Lets create a measure for the observation window length:\n",
    "m['Lookback Window'] = 260"
   ]
  },
  {
   "cell_type": "code",
   "execution_count": 18,
   "metadata": {},
   "outputs": [],
   "source": [
    "# This is a measure picking a subset of scenarios preceeding and including each observation date,\n",
    "# i.e. historical rolling window:\n",
    "m[\"VaR Sub-Vector\"] = m[\"VaR Vector\"][\n",
    "    m[\"Date Index\"] - m[\"Lookback Window\"] + 1 : m[\"Date Index\"] + 1\n",
    "]"
   ]
  },
  {
   "cell_type": "markdown",
   "metadata": {},
   "source": [
    "The Sub-Vector measure requires having historical dates in the view. \n",
    "\n",
    "Now for each desired scope, the `VaR Sub-Vector` measure will pick 260 most recent values from the `VaR vector`. The below view is filtered for the 3 most recent historical dates. This result is not suitable for human consumption, but still showing it here for illustration purposes - each vector is a sub-vector shifted 1 day forward."
   ]
  },
  {
   "cell_type": "code",
   "execution_count": 20,
   "metadata": {
    "atoti": {
     "state": {
      "name": "",
      "type": "container",
      "value": {
       "body": {
        "configuration": {
         "tabular": {
          "addButtonFilter": "numeric",
          "columns": [
           {
            "key": "([Hierarchies].[Historical Dates].[ALL].[AllMember].[2020-06-10],[Measures].[VaR Sub-Vector])",
            "width": 295
           }
          ],
          "columnsGroups": [
           {
            "captionProducer": "firstColumn",
            "cellFactory": "kpi-status",
            "selector": "kpi-status"
           },
           {
            "captionProducer": "firstColumn",
            "cellFactory": "lookup",
            "selector": "lookup"
           },
           {
            "captionProducer": "expiry",
            "cellFactory": "expiry",
            "selector": "kpi-expiry"
           },
           {
            "captionProducer": "columnMerge",
            "cellFactory": {
             "args": {},
             "key": "treeCells"
            },
            "selector": "member"
           }
          ],
          "defaultOptions": {},
          "expansion": {
           "automaticExpansion": true
          },
          "hideAddButton": true,
          "pinnedHeaderSelector": "member",
          "sortingMode": "non-breaking",
          "statisticsShown": true
         }
        },
        "contextValues": {},
        "mdx": "SELECT NON EMPTY Crossjoin([Hierarchies].[Historical Dates].[Historical Dates].Members, [Measures].[VaR Sub-Vector]) ON COLUMNS, NON EMPTY Hierarchize(DrilldownLevel([Hierarchies].[Portfolio Structure].[ALL].[AllMember])) ON ROWS FROM (SELECT Subset(Order([Hierarchies].[Historical Dates].[Historical Dates].Members, [Hierarchies].[Historical Dates].CurrentMember.MemberValue, BDESC), 0, 3) ON COLUMNS FROM [Historical VaR Cube]) CELL PROPERTIES VALUE, FORMATTED_VALUE, BACK_COLOR, FORE_COLOR, FONT_FLAGS",
        "ranges": {
         "column": {
          "chunkSize": 50,
          "thresholdPercentage": 0.2
         },
         "row": {
          "chunkSize": 2000,
          "thresholdPercentage": 0.1
         }
        },
        "serverUrl": "",
        "updateMode": "once"
       },
       "containerKey": "pivot-table",
       "showTitleBar": false,
       "style": {}
      }
     }
    }
   },
   "outputs": [
    {
     "data": {
      "application/vnd.atoti.v0+json": {
       "cube": "Historical VaR Cube",
       "name": null,
       "session": "Unnamed"
      },
      "text/plain": [
       "Install and enable the atoti JupyterLab extension to see this widget."
      ]
     },
     "metadata": {},
     "output_type": "display_data"
    }
   ],
   "source": [
    "cube.visualize()"
   ]
  },
  {
   "cell_type": "markdown",
   "metadata": {},
   "source": [
    "# Adding Sliding VaR measure\n",
    "\n",
    "In this notebook, we'll apply a simple quantile function to the subvector to obtain a VaR estimate. Please read about about **tail measures using kernel functions** in our future blog posts, in particular, using kernel function for ES calculation."
   ]
  },
  {
   "cell_type": "code",
   "execution_count": 21,
   "metadata": {},
   "outputs": [],
   "source": [
    "m[\"1d 99% VaR Sliding\"] = -tt.array.quantile(m[\"VaR Sub-Vector\"], 0.01)"
   ]
  },
  {
   "cell_type": "code",
   "execution_count": 22,
   "metadata": {},
   "outputs": [],
   "source": [
    "# This measure is computing the worst VaR value:\n",
    "m['Worst VaR'] = tt.agg.max(m[\"1d 99% VaR Sliding\"],scope=tt.scope.origin(l['Historical Dates']))\n",
    "m[\"Worst VaR\"].formatter = \"DOUBLE[#,##0.#]\"\n",
    "# This measure is computing the worst VaR window (identified by the end date):\n",
    "m['Worst VaR Period End'] = tt.agg.max_member(m[\"1d 99% VaR Sliding\"],l['Historical Dates']) "
   ]
  },
  {
   "cell_type": "markdown",
   "metadata": {},
   "source": [
    "In the following cell, we are visualising the `Worst VaR` and the end of the corresponding period. By bringing the business structure into the view, we can interactively re-evaluate these metrics."
   ]
  },
  {
   "cell_type": "code",
   "execution_count": 27,
   "metadata": {
    "atoti": {
     "state": {
      "name": "",
      "type": "container",
      "value": {
       "body": {
        "configuration": {
         "tabular": {
          "addButtonFilter": "numeric",
          "columnsGroups": [
           {
            "captionProducer": "firstColumn",
            "cellFactory": "kpi-status",
            "selector": "kpi-status"
           },
           {
            "captionProducer": "firstColumn",
            "cellFactory": "lookup",
            "selector": "lookup"
           },
           {
            "captionProducer": "expiry",
            "cellFactory": "expiry",
            "selector": "kpi-expiry"
           },
           {
            "captionProducer": "columnMerge",
            "cellFactory": {
             "args": {},
             "key": "treeCells"
            },
            "selector": "member"
           }
          ],
          "defaultOptions": {
           "headerHeight": 61
          },
          "expansion": {
           "automaticExpansion": true
          },
          "hideAddButton": true,
          "pinnedHeaderSelector": "member",
          "sortingMode": "non-breaking",
          "statisticsShown": true
         }
        },
        "contextValues": {},
        "mdx": "WITH  Member [Measures].[Worst VaR Period End (1)] AS [Measures].[Worst VaR Period End], BACK_COLOR = CASE WHEN year([Measures].[Worst VaR Period End (1)]) >= 2019 THEN rgb(255, 242, 204) END, CAPTION = [Measures].[Worst VaR Period End].MEMBER_CAPTION  SELECT NON EMPTY Hierarchize(Union(DrilldownLevel([Hierarchies].[Portfolio Structure].[ALL].[AllMember]), Descendants({[Hierarchies].[Portfolio Structure].[ALL].[AllMember].[US]}, [Hierarchies].[Portfolio Structure].[Book]))) ON ROWS, NON EMPTY {[Measures].[Worst VaR], [Measures].[Worst VaR Period End (1)]} ON COLUMNS FROM [Historical VaR Cube] CELL PROPERTIES BACK_COLOR, FONT_FLAGS, FORE_COLOR, FORMATTED_VALUE, VALUE",
        "ranges": {
         "column": {
          "chunkSize": 50,
          "thresholdPercentage": 0.2
         },
         "row": {
          "chunkSize": 2000,
          "thresholdPercentage": 0.1
         }
        },
        "serverUrl": "",
        "updateMode": "once"
       },
       "containerKey": "pivot-table",
       "showTitleBar": false,
       "style": {}
      }
     }
    }
   },
   "outputs": [
    {
     "data": {
      "application/vnd.atoti.v0+json": {
       "cube": "Historical VaR Cube",
       "name": null,
       "session": "Unnamed"
      },
      "text/plain": [
       "Install and enable the atoti JupyterLab extension to see this widget."
      ]
     },
     "metadata": {},
     "output_type": "display_data"
    }
   ],
   "source": [
    "cube.visualize()"
   ]
  },
  {
   "cell_type": "markdown",
   "metadata": {},
   "source": [
    "As we want to display the `Worst VaR` on charts, we are creating a \"parent_value\" for this measure. It will display the `Worst VaR` calculated across all observation windows - next to each of the historical dates."
   ]
  },
  {
   "cell_type": "code",
   "execution_count": 23,
   "metadata": {},
   "outputs": [],
   "source": [
    "m[\"Worst VaR propagate to each date\"] = tt.parent_value(\n",
    "    m[\"Worst VaR\"], on=h[\"Historical Dates\"], apply_filters=True\n",
    ")"
   ]
  },
  {
   "cell_type": "markdown",
   "metadata": {},
   "source": [
    "The default value for the `apply_filters` parameter in the `parent_value` function in atoti is set to `False`, which means that the measure will not respect any filters in the view: the `Worst VaR` would be computed across all positions and observation windows no matter what book we have selected, and propagated back to historical dates. We want the `Worst VaR` measure to respect the filters, for instance, on Books or Trades, hence setting the `apply_filters` to `True`.\n",
    "\n",
    "As expected, VaR chart is step-wise and goes up and down every time extreme scenarios leave and enter the observation window - let's **visualize sliding VaR by historical observation periods**:"
   ]
  },
  {
   "cell_type": "code",
   "execution_count": 32,
   "metadata": {
    "atoti": {
     "state": {
      "name": "",
      "type": "container",
      "value": {
       "body": {
        "configuration": {
         "mapping": {
          "horizontalSubplots": [],
          "splitBy": [],
          "values": [
           "[Measures].[Worst VaR propagate to each date]",
           "[Measures].[1d 99% VaR Sliding]"
          ],
          "verticalSubplots": [],
          "xAxis": [
           "[Hierarchies].[Historical Dates].[Historical Dates]"
          ]
         },
         "plotly": {
          "data": {
           "commonTraceOverride": {
            "marker": {
             "size": 1
            }
           }
          },
          "layout": {
           "legend": {
            "x": 0.3,
            "xanchor": "middle",
            "y": -0.3,
            "yanchor": "top"
           }
          }
         },
         "type": "plotly-line-chart"
        },
        "query": {
         "mdx": "SELECT NON EMPTY {[Measures].[Worst VaR propagate to each date], [Measures].[1d 99% VaR Sliding]} ON COLUMNS, NON EMPTY [Hierarchies].[Historical Dates].[Historical Dates].Members ON ROWS FROM [Historical VaR Cube] CELL PROPERTIES VALUE, FORMATTED_VALUE, BACK_COLOR, FORE_COLOR, FONT_FLAGS",
         "serverUrl": "",
         "updateMode": "once"
        }
       },
       "containerKey": "chart",
       "showTitleBar": false,
       "style": {}
      }
     }
    }
   },
   "outputs": [
    {
     "data": {
      "application/vnd.atoti.v0+json": {
       "cube": "Historical VaR Cube",
       "name": null,
       "session": "Unnamed"
      },
      "text/plain": [
       "Install and enable the atoti JupyterLab extension to see this widget."
      ]
     },
     "metadata": {},
     "output_type": "display_data"
    }
   ],
   "source": [
    "cube.visualize()"
   ]
  },
  {
   "cell_type": "markdown",
   "metadata": {},
   "source": [
    "We can explore the metrics interactively, in a dashboard. Open the following link and expand portfolios - the `Worst VaR` will recompute interactively - there seems to be a new peak for the \"US\" portfolio, coming from the \"Oil&Gas\" and \"Travel Services\" books. "
   ]
  },
  {
   "cell_type": "code",
   "execution_count": 30,
   "metadata": {},
   "outputs": [
    {
     "data": {
      "text/plain": [
       "'http://localhost:61438/#/dashboard/564'"
      ]
     },
     "execution_count": 30,
     "metadata": {},
     "output_type": "execute_result"
    }
   ],
   "source": [
    "session.url + \"/#/dashboard/564\""
   ]
  },
  {
   "cell_type": "markdown",
   "metadata": {},
   "source": [
    "# What-If on different lookback setting\n",
    "\n",
    "You can experiment with the observation window length to evaluate a potential impact of switching to a shorter window on the risk numbers. The stressed VaR framework requires a 1-year period, but you may want to switch to a shorter window for the current VaR analysis.\n",
    "\n",
    "Let's create a what-if simulation and changing the `Lookback Window` measure to shorter and longer lengths. Now the different `Lookback Windows` scenarios are available in the UI for analysis. As expected, the shorter the observation window, the faster VaR metric reacts to changes in market volatility. "
   ]
  },
  {
   "cell_type": "code",
   "execution_count": null,
   "metadata": {},
   "outputs": [],
   "source": [
    "lookback_windows = cube.setup_simulation(\n",
    "    \"Lookback Windows\", replace=[m[\"Lookback Window\"]], base_scenario=\"260 days\"\n",
    ").scenarios\n",
    "lookback_windows[\"10 days\"] = 10\n",
    "lookback_windows[\"120 days\"] = 120\n",
    "lookback_windows[\"2600 days\"] = 2600"
   ]
  },
  {
   "cell_type": "code",
   "execution_count": null,
   "metadata": {
    "atoti": {
     "state": {
      "name": "",
      "type": "container",
      "value": {
       "body": {
        "configuration": {
         "mapping": {
          "horizontalSubplots": [],
          "splitBy": [
           "[Measure Simulations].[Lookback Windows].[Lookback Windows]"
          ],
          "values": [
           "[Measures].[1d 99% VaR Sliding]"
          ],
          "verticalSubplots": [],
          "xAxis": [
           "[Hierarchies].[Historical Dates].[Historical Dates]"
          ]
         },
         "plotly": {
          "data": {
           "commonTraceOverride": {
            "marker": {
             "size": 1
            }
           }
          }
         },
         "type": "plotly-line-chart"
        },
        "query": {
         "mdx": "SELECT NON EMPTY {[Measures].[1d 99% VaR Sliding]} ON COLUMNS, NON EMPTY Crossjoin([Hierarchies].[Historical Dates].[Historical Dates].Members, [Measure Simulations].[Lookback Windows].[Lookback Windows].Members) ON ROWS FROM [Historical VaR Cube] CELL PROPERTIES VALUE, FORMATTED_VALUE, BACK_COLOR, FORE_COLOR, FONT_FLAGS",
         "serverUrl": "",
         "updateMode": "once"
        }
       },
       "containerKey": "chart",
       "showTitleBar": false,
       "style": {}
      }
     }
    }
   },
   "outputs": [],
   "source": [
    "cube.visualize()"
   ]
  }
 ],
 "metadata": {
  "kernelspec": {
   "display_name": "Python 3",
   "language": "python",
   "name": "python3"
  },
  "language_info": {
   "codemirror_mode": {
    "name": "ipython",
    "version": 3
   },
   "file_extension": ".py",
   "mimetype": "text/x-python",
   "name": "python",
   "nbconvert_exporter": "python",
   "pygments_lexer": "ipython3",
   "version": "3.8.3"
  }
 },
 "nbformat": 4,
 "nbformat_minor": 4
}
