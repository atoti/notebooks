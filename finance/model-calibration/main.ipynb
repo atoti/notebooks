{
 "cells": [
  {
   "cell_type": "markdown",
   "metadata": {},
   "source": [
    "### Value at Risk\n",
    "\n",
    "For a given confidence level and a time period, Value at Risk (VaR) is the largest possible loss based on the market condition then.  \\\n",
    "The VaR models assume that the expected fluactuation in returns are captured by the volatilies and correlations.  \n",
    "\n",
    "<img src=\"HistoricalPriceIndexvsVaR.png\" alt=\"Price Index vs VaR\" width=\"300\"/>\n",
    "Source from [Optimal MRM](https://www.youtube.com/watch?v=L5nYuDsdmU0)  \n",
    "\n",
    "In the graph above, VaR is computed based on 2 years historical price indices. As a result, VaR only just started increasing while volatility peaked during the Global Financial crisis in 2007. VaR peaked when the index stablized at the bottom. VaR remains high until it falls out of the 2 years historical view of the crisis.   \n",
    "Stress VaR is hence introduced to assess the impact of extreme price changes on a bank's portfolio:\n",
    "- Measure to be calculated weekly based on a 10 days holding period at 99% confidence level\n",
    "- Model risk factor input to be derived from historical data over continuous 12 months period of significant financial stress as relevant to the bank's portfolio\n",
    "- Risk factor under stress market condition to be recalibrated annually\n",
    "\n",
    "Types of stress testing model include:  \n",
    "- Variance covariance\n",
    "- Historical simulation\n",
    "- Monte Carlo simulation\n",
    "  \n",
    "In this notebook, we will run historical simulation with stock price returns from Yahoo Finance between June 2007 and June 2020.  \n",
    "Within these years, there were many major economic crisis such as 2007-2009 financial crisis, 2009-2019 Greek Government-debt crisis.  \n",
    "Using atoti, we will create sliding windows of:\n",
    "- 10 days for the stress VaR\n",
    "- 260 days for Market Data Window  \n"
   ]
  },
  {
   "cell_type": "code",
   "execution_count": 1,
   "metadata": {},
   "outputs": [
    {
     "name": "stdout",
     "output_type": "stream",
     "text": [
      "Welcome to atoti 0.4.0!\n",
      "\n",
      "By using this community edition, you agree with the license available at https://www.atoti.io/eula.\n",
      "Browse the official documentation at https://docs.atoti.io.\n",
      "Join the community at https://www.atoti.io/register.\n",
      "\n",
      "You can hide this message by setting the ATOTI_HIDE_EULA_MESSAGE environment variable to True.\n"
     ]
    }
   ],
   "source": [
    "import atoti as tt\n",
    "import pandas as pd"
   ]
  },
  {
   "cell_type": "markdown",
   "metadata": {},
   "source": [
    "Each PnL value in the returned vector corresponds to a scenario at the same index position."
   ]
  },
  {
   "cell_type": "markdown",
   "metadata": {},
   "source": [
    "Let's start by loading the historical data into a store.  \n",
    "By setting array_sep, atoti will recognize the Values column as a vector."
   ]
  },
  {
   "cell_type": "code",
   "execution_count": 2,
   "metadata": {},
   "outputs": [
    {
     "data": {
      "text/html": [
       "<div>\n",
       "<style scoped>\n",
       "    .dataframe tbody tr th:only-of-type {\n",
       "        vertical-align: middle;\n",
       "    }\n",
       "\n",
       "    .dataframe tbody tr th {\n",
       "        vertical-align: top;\n",
       "    }\n",
       "\n",
       "    .dataframe thead th {\n",
       "        text-align: right;\n",
       "    }\n",
       "</style>\n",
       "<table border=\"1\" class=\"dataframe\">\n",
       "  <thead>\n",
       "    <tr style=\"text-align: right;\">\n",
       "      <th></th>\n",
       "      <th></th>\n",
       "      <th>AmountUSD</th>\n",
       "      <th>Values</th>\n",
       "    </tr>\n",
       "    <tr>\n",
       "      <th>Book</th>\n",
       "      <th>Stock</th>\n",
       "      <th></th>\n",
       "      <th></th>\n",
       "    </tr>\n",
       "  </thead>\n",
       "  <tbody>\n",
       "    <tr>\n",
       "      <th rowspan=\"2\" valign=\"top\">US Indices</th>\n",
       "      <th>^DJI</th>\n",
       "      <td>1000.0</td>\n",
       "      <td>doubleVector[3273]{-0.005912434756927598, ...}</td>\n",
       "    </tr>\n",
       "    <tr>\n",
       "      <th>^GSPC</th>\n",
       "      <td>1000.0</td>\n",
       "      <td>doubleVector[3273]{-0.005347069382311664, ...}</td>\n",
       "    </tr>\n",
       "    <tr>\n",
       "      <th rowspan=\"2\" valign=\"top\">US Technology CFD</th>\n",
       "      <th>AAPL</th>\n",
       "      <td>-500.0</td>\n",
       "      <td>doubleVector[3273]{0.011044374078303498, ...}</td>\n",
       "    </tr>\n",
       "    <tr>\n",
       "      <th>GOOG</th>\n",
       "      <td>600.0</td>\n",
       "      <td>doubleVector[3273]{0.023211776660613914, ...}</td>\n",
       "    </tr>\n",
       "    <tr>\n",
       "      <th rowspan=\"3\" valign=\"top\">MSCI stocks</th>\n",
       "      <th>LUKOY</th>\n",
       "      <td>-100.0</td>\n",
       "      <td>doubleVector[3273]{-0.0070968325852278635, ...}</td>\n",
       "    </tr>\n",
       "    <tr>\n",
       "      <th>OGZPY</th>\n",
       "      <td>-200.0</td>\n",
       "      <td>doubleVector[3273]{0.00780197057413945, ...}</td>\n",
       "    </tr>\n",
       "    <tr>\n",
       "      <th>ROSYY</th>\n",
       "      <td>200.0</td>\n",
       "      <td>doubleVector[3273]{0.010795350954879934, ...}</td>\n",
       "    </tr>\n",
       "  </tbody>\n",
       "</table>\n",
       "</div>"
      ],
      "text/plain": [
       "                         AmountUSD  \\\n",
       "Book              Stock              \n",
       "US Indices        ^DJI      1000.0   \n",
       "                  ^GSPC     1000.0   \n",
       "US Technology CFD AAPL      -500.0   \n",
       "                  GOOG       600.0   \n",
       "MSCI stocks       LUKOY     -100.0   \n",
       "                  OGZPY     -200.0   \n",
       "                  ROSYY      200.0   \n",
       "\n",
       "                                                                  Values  \n",
       "Book              Stock                                                   \n",
       "US Indices        ^DJI    doubleVector[3273]{-0.005912434756927598, ...}  \n",
       "                  ^GSPC   doubleVector[3273]{-0.005347069382311664, ...}  \n",
       "US Technology CFD AAPL     doubleVector[3273]{0.011044374078303498, ...}  \n",
       "                  GOOG     doubleVector[3273]{0.023211776660613914, ...}  \n",
       "MSCI stocks       LUKOY  doubleVector[3273]{-0.0070968325852278635, ...}  \n",
       "                  OGZPY     doubleVector[3273]{0.00780197057413945, ...}  \n",
       "                  ROSYY    doubleVector[3273]{0.010795350954879934, ...}  "
      ]
     },
     "execution_count": 2,
     "metadata": {},
     "output_type": "execute_result"
    }
   ],
   "source": [
    "session = tt.create_session()\n",
    "\n",
    "types = {\"AmountUSD\": tt.types.DOUBLE}\n",
    "calibration_store = session.read_csv(\n",
    "    \"s3://data.atoti.io/notebooks/model-calibration/book_values_snapshot.csv\",\n",
    "    keys=[\"Book\", \"Stock\"],\n",
    "    store_name=\"CalibrationStore\",\n",
    "    array_sep=\";\",\n",
    "    types=types,\n",
    ")\n",
    "\n",
    "calibration_store.head(10)"
   ]
  },
  {
   "cell_type": "markdown",
   "metadata": {},
   "source": [
    "Let's also load up the scenarios. Each of the values in the above vector is the PnL for a scenario at the corresponding index."
   ]
  },
  {
   "cell_type": "code",
   "execution_count": 3,
   "metadata": {},
   "outputs": [
    {
     "data": {
      "text/plain": [
       "['2007-06-05',\n",
       " '2007-06-06',\n",
       " '2007-06-07',\n",
       " '2007-06-08',\n",
       " '2007-06-11',\n",
       " '2007-06-12',\n",
       " '2007-06-13',\n",
       " '2007-06-14',\n",
       " '2007-06-15',\n",
       " '2007-06-18']"
      ]
     },
     "execution_count": 3,
     "metadata": {},
     "output_type": "execute_result"
    }
   ],
   "source": [
    "scenarios = pd.read_csv(\n",
    "    \"https://data.atoti.io/notebooks/model-calibration/scenario_snapshot.csv\"\n",
    ")[\"Date\"].to_list()\n",
    "scenarios[:10]"
   ]
  },
  {
   "cell_type": "code",
   "execution_count": 4,
   "metadata": {},
   "outputs": [],
   "source": [
    "### Getting data from simulator\n",
    "# in the event you would like to get different data set from Yahoo Finance, uncomment the below and change the year from which you would like to start from\n",
    "# Refer to https://pypi.org/project/yfinance/\n",
    "#\n",
    "# from utils import simulator\n",
    "#\n",
    "# historical_data = simulator.scenarios(2007)\n",
    "# book_values = historical_data[0]\n",
    "# scenarios = historical_data[1]"
   ]
  },
  {
   "cell_type": "code",
   "execution_count": 5,
   "metadata": {},
   "outputs": [],
   "source": [
    "cube = session.create_cube(calibration_store, \"Calibration_Cube\", mode=\"auto\")"
   ]
  },
  {
   "cell_type": "code",
   "execution_count": 6,
   "metadata": {},
   "outputs": [
    {
     "data": {
      "application/json": {
       "Dimensions": {
        "Hierarchies": {
         "Book": [
          "Book"
         ],
         "Stock": [
          "Stock"
         ]
        }
       },
       "Measures": {
        "AmountUSD.MEAN": {
         "formatter": "DOUBLE[#,###.00]",
         "visible": true
        },
        "AmountUSD.SUM": {
         "formatter": "DOUBLE[#,###.00]",
         "visible": true
        },
        "Values.MEAN": {
         "formatter": null,
         "visible": true
        },
        "Values.SUM": {
         "formatter": null,
         "visible": true
        },
        "contributors.COUNT": {
         "formatter": null,
         "visible": true
        }
       }
      },
      "text/html": [
       "<ul>\n",
       "<li>Calibration_Cube\n",
       "  <ul>\n",
       "  <li>Dimensions\n",
       "    <ul>\n",
       "    <li>Hierarchies\n",
       "      <ul>\n",
       "      <li>Book\n",
       "        <ol>\n",
       "        <li>Book</li>\n",
       "        </ol>      </li>\n",
       "      <li>Stock\n",
       "        <ol>\n",
       "        <li>Stock</li>\n",
       "        </ol>      </li>\n",
       "      </ul>\n",
       "    </li>\n",
       "    </ul>\n",
       "  </li>\n",
       "  <li>Measures\n",
       "    <ul>\n",
       "    <li>AmountUSD.MEAN\n",
       "      <ul>\n",
       "      <li>formatter: DOUBLE[#,###.00]</li>\n",
       "      <li>visible: True</li>\n",
       "      </ul>\n",
       "    </li>\n",
       "    <li>AmountUSD.SUM\n",
       "      <ul>\n",
       "      <li>formatter: DOUBLE[#,###.00]</li>\n",
       "      <li>visible: True</li>\n",
       "      </ul>\n",
       "    </li>\n",
       "    <li>Values.MEAN\n",
       "      <ul>\n",
       "      <li>formatter: None</li>\n",
       "      <li>visible: True</li>\n",
       "      </ul>\n",
       "    </li>\n",
       "    <li>Values.SUM\n",
       "      <ul>\n",
       "      <li>formatter: None</li>\n",
       "      <li>visible: True</li>\n",
       "      </ul>\n",
       "    </li>\n",
       "    <li>contributors.COUNT\n",
       "      <ul>\n",
       "      <li>formatter: None</li>\n",
       "      <li>visible: True</li>\n",
       "      </ul>\n",
       "    </li>\n",
       "    </ul>\n",
       "  </li>\n",
       "  </ul>\n",
       "</li>\n",
       "</ul>\n"
      ],
      "text/plain": [
       "<atoti.cube.Cube at 0x24761a7da00>"
      ]
     },
     "execution_count": 6,
     "metadata": {
      "application/json": {
       "expanded": false,
       "root": "Calibration_Cube"
      }
     },
     "output_type": "execute_result"
    }
   ],
   "source": [
    "h = cube.hierarchies\n",
    "l = cube.levels\n",
    "m = cube.measures\n",
    "cube"
   ]
  },
  {
   "cell_type": "markdown",
   "metadata": {},
   "source": [
    "We multiply the position _AmountUSD_ with the _Values.SUM_ vector to get the hypothetical PnL values for the past years."
   ]
  },
  {
   "cell_type": "code",
   "execution_count": 7,
   "metadata": {},
   "outputs": [],
   "source": [
    "hypothetical_pnl_vector = m[\"AmountUSD.SUM\"] * m[\"Values.SUM\"]\n",
    "m[\"Hypothetical PnL Vector\"] = tt.agg.sum(\n",
    "    hypothetical_pnl_vector, scope=tt.scope.origin(l[\"Stock\"])\n",
    ")"
   ]
  },
  {
   "cell_type": "markdown",
   "metadata": {},
   "source": [
    "We can now get the hypothetical PnL vector at stock and book level."
   ]
  },
  {
   "cell_type": "code",
   "execution_count": 9,
   "metadata": {
    "atoti": {
     "height": 194,
     "state": {
      "name": "",
      "type": "container",
      "value": {
       "body": {
        "configuration": {
         "tabular": {
          "addButtonFilter": "numeric",
          "columns": [
           {
            "key": "[Measures].[Position Vector]",
            "width": 513
           },
           {
            "key": "[Measures].[Hypothetical PnL Vector]",
            "width": 322
           },
           {
            "key": "c-treeCells-member",
            "width": 237
           }
          ],
          "columnsGroups": [
           {
            "captionProducer": "firstColumn",
            "cellFactory": "kpi-status",
            "selector": "kpi-status"
           },
           {
            "captionProducer": "firstColumn",
            "cellFactory": "lookup",
            "selector": "lookup"
           },
           {
            "captionProducer": "expiry",
            "cellFactory": "expiry",
            "selector": "kpi-expiry"
           },
           {
            "captionProducer": "columnMerge",
            "cellFactory": {
             "args": {},
             "key": "treeCells"
            },
            "selector": "member"
           }
          ],
          "defaultOptions": {},
          "expansion": {
           "automaticExpansion": true
          },
          "hideAddButton": true,
          "pinnedHeaderSelector": "member",
          "sortingMode": "non-breaking",
          "statisticsShown": true
         }
        },
        "contextValues": {},
        "mdx": "SELECT NON EMPTY [Measures].[Hypothetical PnL Vector] ON COLUMNS, NON EMPTY Hierarchize(Union(Crossjoin([Hierarchies].[Book].[Book].Members, [Hierarchies].[Stock].DefaultMember), Crossjoin([Hierarchies].[Book].[ALL].[AllMember].[US Technology CFD], [Hierarchies].[Stock].[Stock].Members))) ON ROWS FROM [Calibration_Cube] CELL PROPERTIES VALUE, FORMATTED_VALUE, BACK_COLOR, FORE_COLOR, FONT_FLAGS",
        "ranges": {
         "column": {
          "chunkSize": 50,
          "thresholdPercentage": 0.2
         },
         "row": {
          "chunkSize": 2000,
          "thresholdPercentage": 0.1
         }
        },
        "serverUrl": "",
        "updateMode": "once"
       },
       "containerKey": "pivot-table",
       "showTitleBar": false,
       "style": {}
      }
     }
    }
   },
   "outputs": [
    {
     "data": {
      "application/vnd.atoti.v0+json": {
       "cube": "Calibration_Cube",
       "name": null,
       "session": "Unnamed"
      },
      "text/plain": [
       "Install and enable the atoti JupyterLab extension to see this widget."
      ]
     },
     "metadata": {},
     "output_type": "display_data"
    }
   ],
   "source": [
    "cube.visualize()"
   ]
  },
  {
   "cell_type": "markdown",
   "metadata": {},
   "source": [
    "We will create an arbitrary single-level static hierarchy with the dates of the historical data which we labelled as scenarios."
   ]
  },
  {
   "cell_type": "code",
   "execution_count": 9,
   "metadata": {},
   "outputs": [],
   "source": [
    "cube.create_parameter_hierarchy(\n",
    "    \"Scenarios\", scenarios, index_measure=\"Date Index\",\n",
    ")"
   ]
  },
  {
   "cell_type": "code",
   "execution_count": 10,
   "metadata": {},
   "outputs": [
    {
     "data": {
      "application/json": {
       "Hierarchies": {
        "Book": [
         "Book"
        ],
        "Scenarios (slicing)": [
         "Scenarios"
        ],
        "Stock": [
         "Stock"
        ]
       }
      },
      "text/html": [
       "<ul>\n",
       "<li>Dimensions\n",
       "  <ul>\n",
       "  <li>Hierarchies\n",
       "    <ul>\n",
       "    <li>Book\n",
       "      <ol>\n",
       "      <li>Book</li>\n",
       "      </ol>    </li>\n",
       "    <li>Scenarios (slicing)\n",
       "      <ol>\n",
       "      <li>Scenarios</li>\n",
       "      </ol>    </li>\n",
       "    <li>Stock\n",
       "      <ol>\n",
       "      <li>Stock</li>\n",
       "      </ol>    </li>\n",
       "    </ul>\n",
       "  </li>\n",
       "  </ul>\n",
       "</li>\n",
       "</ul>\n"
      ],
      "text/plain": [
       "Hierarchies()"
      ]
     },
     "execution_count": 10,
     "metadata": {
      "application/json": {
       "expanded": true,
       "root": "Dimensions"
      }
     },
     "output_type": "execute_result"
    }
   ],
   "source": [
    "h"
   ]
  },
  {
   "cell_type": "markdown",
   "metadata": {},
   "source": [
    "Since we have a corresponding hypothetical PnL for each date scenario, we can get the PnL at date by using the date index against the vector."
   ]
  },
  {
   "cell_type": "code",
   "execution_count": 11,
   "metadata": {},
   "outputs": [],
   "source": [
    "m[\"PnL at date\"] = m[\"Hypothetical PnL Vector\"][m[\"Date Index\"]]"
   ]
  },
  {
   "cell_type": "markdown",
   "metadata": {},
   "source": [
    "Let's do some simple verification. In the following Pivot table, we can see the PnL value for each date scenario.  \n",
    "For each date, we can drill down to the books and Ticker. "
   ]
  },
  {
   "cell_type": "code",
   "execution_count": 13,
   "metadata": {
    "atoti": {
     "height": 399,
     "state": {
      "name": "",
      "type": "container",
      "value": {
       "body": {
        "configuration": {
         "tabular": {
          "addButtonFilter": "numeric",
          "columns": [
           {
            "key": "[Measures].[Hypothetical PnL Vector]",
            "width": 748
           },
           {
            "key": "[Measures].[PnL at date]",
            "width": 217
           }
          ],
          "columnsGroups": [
           {
            "captionProducer": "firstColumn",
            "cellFactory": "kpi-status",
            "selector": "kpi-status"
           },
           {
            "captionProducer": "firstColumn",
            "cellFactory": "lookup",
            "selector": "lookup"
           },
           {
            "captionProducer": "expiry",
            "cellFactory": "expiry",
            "selector": "kpi-expiry"
           },
           {
            "captionProducer": "columnMerge",
            "cellFactory": {
             "args": {},
             "key": "treeCells"
            },
            "selector": "member"
           }
          ],
          "defaultOptions": {},
          "expansion": {
           "automaticExpansion": true
          },
          "hideAddButton": true,
          "pinnedHeaderSelector": "member",
          "sortingMode": "non-breaking",
          "statisticsShown": true
         }
        },
        "contextValues": {},
        "mdx": "SELECT NON EMPTY Hierarchize(Union(Crossjoin(Union([Hierarchies].[Scenarios].[Scenarios].Members, [Hierarchies].[Scenarios].[Scenarios].[2010-06-04]), [Hierarchies].[Book].DefaultMember, [Hierarchies].[Stock].DefaultMember), Crossjoin([Hierarchies].[Scenarios].[Scenarios].[2006-01-04], [Hierarchies].[Book].[Book].Members, [Hierarchies].[Stock].DefaultMember), Crossjoin([Hierarchies].[Scenarios].[Scenarios].[2006-01-04], [Hierarchies].[Book].[ALL].[AllMember].[US Technology CFD], [Hierarchies].[Stock].[Stock].Members))) ON ROWS, NON EMPTY {[Measures].[Date Index], [Measures].[AmountUSD.SUM], [Measures].[PnL at date]} ON COLUMNS FROM [Calibration_Cube] CELL PROPERTIES VALUE, FORMATTED_VALUE, BACK_COLOR, FORE_COLOR, FONT_FLAGS",
        "ranges": {
         "column": {
          "chunkSize": 50,
          "thresholdPercentage": 0.2
         },
         "row": {
          "chunkSize": 2000,
          "thresholdPercentage": 0.1
         }
        },
        "serverUrl": "",
        "updateMode": "once"
       },
       "containerKey": "pivot-table",
       "showTitleBar": false,
       "style": {}
      }
     }
    }
   },
   "outputs": [
    {
     "data": {
      "application/vnd.atoti.v0+json": {
       "cube": "Calibration_Cube",
       "name": null,
       "session": "Unnamed"
      },
      "text/plain": [
       "Install and enable the atoti JupyterLab extension to see this widget."
      ]
     },
     "metadata": {},
     "output_type": "display_data"
    }
   ],
   "source": [
    "cube.visualize()"
   ]
  },
  {
   "cell_type": "markdown",
   "metadata": {},
   "source": [
    "Let's create the stressed VaR using 10 days of historical PnL. We do so by creating a sliding window of 10 - creating a new vector that contains the 10 PnL values before the current PnL value from the vector."
   ]
  },
  {
   "cell_type": "code",
   "execution_count": 14,
   "metadata": {},
   "outputs": [],
   "source": [
    "m[\"Stress Sliding Vector\"] = m[\"Hypothetical PnL Vector\"][\n",
    "    m[\"Date Index\"] - 10 : m[\"Date Index\"]\n",
    "]\n",
    "\n",
    "m[\"sVaR\"] = tt.array.quantile(m[\"Stress Sliding Vector\"], 0.99)"
   ]
  },
  {
   "cell_type": "markdown",
   "metadata": {},
   "source": [
    "Similarly for the Market Data, we are going to create a sliding window of 260 banking days."
   ]
  },
  {
   "cell_type": "code",
   "execution_count": 15,
   "metadata": {
    "atoti": {
     "state": {
      "name": "",
      "type": "container",
      "value": {
       "body": {
        "configuration": {},
        "query": {
         "mdx": "SELECT FROM [Calibration_Cube] CELL PROPERTIES VALUE, FORMATTED_VALUE, BACK_COLOR, FORE_COLOR, FONT_FLAGS"
        }
       },
       "containerKey": "chart",
       "showTitleBar": false
      }
     }
    }
   },
   "outputs": [],
   "source": [
    "m[\"Sliding Vector\"] = m[\"Hypothetical PnL Vector\"][\n",
    "    m[\"Date Index\"] - 260 : m[\"Date Index\"]\n",
    "]"
   ]
  },
  {
   "cell_type": "markdown",
   "metadata": {},
   "source": [
    "Now for each Date scenario, we have a list of vectors that contains 260 days worth of historical PnL.  \\\n",
    "Let's compute the stressed VaR for this window at 99% confidence level."
   ]
  },
  {
   "cell_type": "code",
   "execution_count": 16,
   "metadata": {},
   "outputs": [],
   "source": [
    "m[\"Sliding sVaR\"] = tt.array.quantile(m[\"Sliding Vector\"], 0.99)"
   ]
  },
  {
   "cell_type": "markdown",
   "metadata": {
    "atoti": {
     "state": {
      "name": "",
      "type": "container",
      "value": {
       "body": {
        "configuration": {
         "tabular": {
          "addButtonFilter": "numeric",
          "columns": [
           {
            "key": "[Measures].[Sliding Vector]",
            "width": 283
           },
           {
            "key": "[Measures].[Sliding VaR 99]",
            "width": 136
           }
          ],
          "columnsGroups": [
           {
            "captionProducer": "firstColumn",
            "cellFactory": "kpi-status",
            "selector": "kpi-status"
           },
           {
            "captionProducer": "firstColumn",
            "cellFactory": "lookup",
            "selector": "lookup"
           },
           {
            "captionProducer": "expiry",
            "cellFactory": "expiry",
            "selector": "kpi-expiry"
           },
           {
            "captionProducer": "columnMerge",
            "cellFactory": {
             "args": {},
             "key": "treeCells"
            },
            "selector": "member"
           }
          ],
          "defaultOptions": {},
          "expansion": {
           "automaticExpansion": true
          },
          "hideAddButton": true,
          "pinnedHeaderSelector": "member",
          "sortingMode": "non-breaking",
          "statisticsShown": true
         }
        },
        "contextValues": {},
        "mdx": "SELECT NON EMPTY [Hierarchies].[Scenarios].[Scenarios].Members ON ROWS, NON EMPTY {[Measures].[Sliding Vector], [Measures].[Sliding VaR 99]} ON COLUMNS FROM [Calibration_Cube] CELL PROPERTIES VALUE, FORMATTED_VALUE, BACK_COLOR, FORE_COLOR, FONT_FLAGS",
        "ranges": {
         "column": {
          "chunkSize": 50,
          "thresholdPercentage": 0.2
         },
         "row": {
          "chunkSize": 2000,
          "thresholdPercentage": 0.1
         }
        },
        "serverUrl": "",
        "updateMode": "once"
       },
       "containerKey": "pivot-table",
       "showTitleBar": false,
       "style": {}
      }
     }
    }
   },
   "source": [
    "Let's see how the Sliding sVaR compares to sVaR. "
   ]
  },
  {
   "cell_type": "code",
   "execution_count": 18,
   "metadata": {
    "atoti": {
     "state": {
      "name": "",
      "type": "container",
      "value": {
       "body": {
        "configuration": {
         "mapping": {
          "horizontalSubplots": [],
          "splitBy": [],
          "values": [
           "[Measures].[Sliding sVaR]",
           "[Measures].[sVaR]"
          ],
          "verticalSubplots": [],
          "xAxis": [
           "[Hierarchies].[Scenarios].[Scenarios]"
          ]
         },
         "type": "plotly-line-chart"
        },
        "query": {
         "mdx": "SELECT NON EMPTY {[Measures].[Sliding sVaR], [Measures].[sVaR]} ON COLUMNS, NON EMPTY [Hierarchies].[Scenarios].[Scenarios].Members ON ROWS FROM [Calibration_Cube] WHERE [Hierarchies].[Book].[ALL].[AllMember].[MSCI stocks] CELL PROPERTIES VALUE, FORMATTED_VALUE, BACK_COLOR, FORE_COLOR, FONT_FLAGS",
         "serverUrl": "",
         "updateMode": "once"
        }
       },
       "containerKey": "chart",
       "showTitleBar": false,
       "style": {}
      }
     }
    }
   },
   "outputs": [
    {
     "data": {
      "application/vnd.atoti.v0+json": {
       "cube": "Calibration_Cube",
       "name": null,
       "session": "Unnamed"
      },
      "text/plain": [
       "Install and enable the atoti JupyterLab extension to see this widget."
      ]
     },
     "metadata": {},
     "output_type": "display_data"
    }
   ],
   "source": [
    "cube.visualize()"
   ]
  },
  {
   "cell_type": "markdown",
   "metadata": {},
   "source": [
    "Looking at the MSCI book, the overall shape of both the sliding sVaR and sVaR are generally consistent. We see sharp contrast in 2011.  \n",
    "Let's look at what happened in 2011.\n",
    "\n",
    "<img src=\"crisis_timeline.jpg\" alt=\"Crisis Timeline\" width=\"600\"/>  \n",
    "\n",
    "Source from [ABC News](https://www.abc.net.au/news/2015-06-23/greek-debt-crisis-timeline/6564930?nw=0)  \n",
    "\n",
    "From the above charts of the events flow of Greek debt crisis, we see the similar trend as what we generated."
   ]
  },
  {
   "cell_type": "code",
   "execution_count": null,
   "metadata": {},
   "outputs": [],
   "source": []
  }
 ],
 "metadata": {
  "kernelspec": {
   "display_name": "Python 3",
   "language": "python",
   "name": "python3"
  },
  "language_info": {
   "codemirror_mode": {
    "name": "ipython",
    "version": 3
   },
   "file_extension": ".py",
   "mimetype": "text/x-python",
   "name": "python",
   "nbconvert_exporter": "python",
   "pygments_lexer": "ipython3",
   "version": "3.8.2"
  }
 },
 "nbformat": 4,
 "nbformat_minor": 4
}
