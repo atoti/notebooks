{
 "cells": [
  {
   "cell_type": "markdown",
   "metadata": {},
   "source": [
    "## PnL Explain :  Estimating PnL using sensitivities and Market Data\n",
    "\n",
    "\n",
    "### A few definitions:\n",
    "\n",
    "- [Portfolio](https://www.investopedia.com/terms/p/portfolio.asp) refers to any collection of financial assets such as stocks, bonds and cash. \n",
    "- [PnL](https://www.investopedia.com/terms/p/plstatement.asp) is a common term used in trading referring to the total \"Profit and Loss\" made by a portfolio over a certain time period.\n",
    "- [Maturity date](https://www.investopedia.com/terms/m/maturitydate.asp) refers to the due date on which a borrower must pay back the principal of a debt, i.e. the initial amount of money borrowed.\n",
    "- [Tenor](https://www.investopedia.com/terms/t/tenor.asp) refers to the length of time remaining in a contract, while maturity refers to the initial length of the agreement upon its inception. The tenor of a financial instrument declines over time, whereas its maturity remains constant.\n",
    "- [Yield curve](https://www.investopedia.com/terms/y/yieldcurve.asp) is a graphical representation of interest rates per maturity date.\n",
    "- [Sensitivity](https://www.investopedia.com/terms/s/sensitivity.asp) is the magnitude of a financial instrument's reaction to changes in underlying factors.\n",
    "- [Greeks](https://www.investopedia.com/terms/g/greeks.asp) describes the different dimensions of risk involved in taking an options position. \n",
    "- [Delta](https://www.investopedia.com/terms/d/delta.asp), in particular, is a first-order greek, and represents the ratio that compares the change in the price of an asset to the corresponding change in the price of its derivative. For example, if a stock option has a delta value of 0.75, this means that if the underlying stock increases in price by 1 dollar per share, the option on it will rise by 0.75 dollars per share.\n",
    "\n",
    "### Introduction\n",
    "\n",
    "The PnL explain technique seeks to estimate the daily PnL from the change in the underlying risk factors.\n",
    "In this case the risk factors are determined by the yield curve plotting interest rates for each tenor.\n",
    "\n",
    "Usually, a portfolio risk manager will monitor the risk factors that impact his portfolio, instead of monitoring all the positions booked in his portfolio. To assess what will be the value of his portfolio, a portfolio risk manager is interested in performing what-if analysis based on a scenario of the risk factor values.\n",
    "\n",
    "In this notebook, we perform a simplified PnL Explained by using Delta(Δ) to represent our sensitivity instead of the full Greeks. We will utilize the various features of Atoti libraries to:\n",
    "\n",
    "- Load data into a multi-dimensional cube\n",
    "- Explore the Data using the embedded visualization or Atoti UI\n",
    "- Calculate Estimated PnL using sensitivities and Market Data\n",
    "- Run multiple scenarios of the Yield Curve Stress Test"
   ]
  },
  {
   "cell_type": "code",
   "execution_count": 1,
   "metadata": {},
   "outputs": [
    {
     "name": "stdout",
     "output_type": "stream",
     "text": [
      "Welcome to Atoti 0.3.1!\n",
      "\n",
      "By using this community edition, you agree with the license available at https://www.atoti.io/eula.\n",
      "Browse the official documentation at https://docs.atoti.io.\n",
      "Join the community at https://www.atoti.io/register.\n",
      "\n",
      "You can hide this message by setting the ATOTI_HIDE_EULA_MESSAGE environment variable to True.\n"
     ]
    }
   ],
   "source": [
    "import atoti as tt"
   ]
  },
  {
   "cell_type": "code",
   "execution_count": 2,
   "metadata": {},
   "outputs": [],
   "source": [
    "# tell atoti to load the database containing the UI dashboards\n",
    "config = tt.config.create_config(metadata_db=\"./metadata.db\")\n",
    "\n",
    "# you can pass in the parameter sampling_mode=tt.sampling.FULL to change the default sampling mode\n",
    "# a session has to be created for atoti\n",
    "session = tt.create_session(config=config, sampling_mode=tt.sampling.FULL)"
   ]
  },
  {
   "cell_type": "markdown",
   "metadata": {},
   "source": [
    "## 1.1 Loading Data and creating ActivePivot multidimensional environment\n",
    "### Creating Atoti DataStore"
   ]
  },
  {
   "cell_type": "markdown",
   "metadata": {},
   "source": [
    "There are many ways Atoti can consume data. In this notebook, we will be using read_csv to load data into the datastores."
   ]
  },
  {
   "cell_type": "markdown",
   "metadata": {},
   "source": [
    "### Position Sensitivities"
   ]
  },
  {
   "cell_type": "code",
   "execution_count": 3,
   "metadata": {},
   "outputs": [],
   "source": [
    "position_sensitivity_store = session.read_csv(\n",
    "    \"s3://data.atoti.io/notebooks/pnl-explained/position_sensitivities.csv\",\n",
    "    keys=[\"book_id\", \"instrument_code\", \"currency\", \"curve\", \"tenor\"],\n",
    "    store_name=\"Position Sensitivities Store\",\n",
    ")"
   ]
  },
  {
   "cell_type": "code",
   "execution_count": 4,
   "metadata": {},
   "outputs": [
    {
     "data": {
      "text/html": [
       "<div>\n",
       "<style scoped>\n",
       "    .dataframe tbody tr th:only-of-type {\n",
       "        vertical-align: middle;\n",
       "    }\n",
       "\n",
       "    .dataframe tbody tr th {\n",
       "        vertical-align: top;\n",
       "    }\n",
       "\n",
       "    .dataframe thead th {\n",
       "        text-align: right;\n",
       "    }\n",
       "</style>\n",
       "<table border=\"1\" class=\"dataframe\">\n",
       "  <thead>\n",
       "    <tr style=\"text-align: right;\">\n",
       "      <th></th>\n",
       "      <th></th>\n",
       "      <th></th>\n",
       "      <th></th>\n",
       "      <th></th>\n",
       "      <th>notional</th>\n",
       "      <th>sensi</th>\n",
       "    </tr>\n",
       "    <tr>\n",
       "      <th>book_id</th>\n",
       "      <th>instrument_code</th>\n",
       "      <th>currency</th>\n",
       "      <th>curve</th>\n",
       "      <th>tenor</th>\n",
       "      <th></th>\n",
       "      <th></th>\n",
       "    </tr>\n",
       "  </thead>\n",
       "  <tbody>\n",
       "    <tr>\n",
       "      <th rowspan=\"5\" valign=\"top\">1</th>\n",
       "      <th rowspan=\"5\" valign=\"top\">NL00000001</th>\n",
       "      <th rowspan=\"5\" valign=\"top\">EUR</th>\n",
       "      <th rowspan=\"5\" valign=\"top\">EUR-Govt-NL</th>\n",
       "      <th>1Y</th>\n",
       "      <td>10000000.0</td>\n",
       "      <td>0.01</td>\n",
       "    </tr>\n",
       "    <tr>\n",
       "      <th>2Y</th>\n",
       "      <td>10000000.0</td>\n",
       "      <td>0.01</td>\n",
       "    </tr>\n",
       "    <tr>\n",
       "      <th>3Y</th>\n",
       "      <td>10000000.0</td>\n",
       "      <td>0.01</td>\n",
       "    </tr>\n",
       "    <tr>\n",
       "      <th>4Y</th>\n",
       "      <td>10000000.0</td>\n",
       "      <td>0.01</td>\n",
       "    </tr>\n",
       "    <tr>\n",
       "      <th>5Y</th>\n",
       "      <td>10000000.0</td>\n",
       "      <td>0.01</td>\n",
       "    </tr>\n",
       "  </tbody>\n",
       "</table>\n",
       "</div>"
      ],
      "text/plain": [
       "                                                      notional  sensi\n",
       "book_id instrument_code currency curve       tenor                   \n",
       "1       NL00000001      EUR      EUR-Govt-NL 1Y     10000000.0   0.01\n",
       "                                             2Y     10000000.0   0.01\n",
       "                                             3Y     10000000.0   0.01\n",
       "                                             4Y     10000000.0   0.01\n",
       "                                             5Y     10000000.0   0.01"
      ]
     },
     "execution_count": 4,
     "metadata": {},
     "output_type": "execute_result"
    }
   ],
   "source": [
    "# you can use head(n) to view the first n rows of the store.\n",
    "# likewise, you can use position_sensitivity_store.columns to view the columns available in the store\n",
    "# lastly, you can use position_sensitivity_store.shape to view the number of rows and columns loaded into the store\n",
    "position_sensitivity_store.head(5)"
   ]
  },
  {
   "cell_type": "markdown",
   "metadata": {},
   "source": [
    "### Position Data"
   ]
  },
  {
   "cell_type": "code",
   "execution_count": 5,
   "metadata": {},
   "outputs": [],
   "source": [
    "position_store = session.read_csv(\n",
    "    \"s3://data.atoti.io/notebooks/pnl-explained/position_data.csv\",\n",
    "    keys=[\"book_id\", \"instrument_code\"],\n",
    "    store_name=\"Position Store\",\n",
    ")"
   ]
  },
  {
   "cell_type": "code",
   "execution_count": 6,
   "metadata": {},
   "outputs": [
    {
     "data": {
      "text/html": [
       "<div>\n",
       "<style scoped>\n",
       "    .dataframe tbody tr th:only-of-type {\n",
       "        vertical-align: middle;\n",
       "    }\n",
       "\n",
       "    .dataframe tbody tr th {\n",
       "        vertical-align: top;\n",
       "    }\n",
       "\n",
       "    .dataframe thead th {\n",
       "        text-align: right;\n",
       "    }\n",
       "</style>\n",
       "<table border=\"1\" class=\"dataframe\">\n",
       "  <thead>\n",
       "    <tr style=\"text-align: right;\">\n",
       "      <th></th>\n",
       "      <th></th>\n",
       "      <th>maturity_date</th>\n",
       "      <th>coupon_rate</th>\n",
       "      <th>nominal</th>\n",
       "      <th>currency</th>\n",
       "      <th>curve</th>\n",
       "      <th>issuer_country</th>\n",
       "    </tr>\n",
       "    <tr>\n",
       "      <th>book_id</th>\n",
       "      <th>instrument_code</th>\n",
       "      <th></th>\n",
       "      <th></th>\n",
       "      <th></th>\n",
       "      <th></th>\n",
       "      <th></th>\n",
       "      <th></th>\n",
       "    </tr>\n",
       "  </thead>\n",
       "  <tbody>\n",
       "    <tr>\n",
       "      <th>1</th>\n",
       "      <th>NL00000001</th>\n",
       "      <td>1</td>\n",
       "      <td>0.03</td>\n",
       "      <td>10000000.0</td>\n",
       "      <td>EUR</td>\n",
       "      <td>EUR-Govt-NL</td>\n",
       "      <td>Netherlands</td>\n",
       "    </tr>\n",
       "    <tr>\n",
       "      <th>2</th>\n",
       "      <th>SE00001009</th>\n",
       "      <td>9</td>\n",
       "      <td>0.03</td>\n",
       "      <td>10000000.0</td>\n",
       "      <td>SEK</td>\n",
       "      <td>EUR-Govt-SE</td>\n",
       "      <td>Sweden</td>\n",
       "    </tr>\n",
       "    <tr>\n",
       "      <th>3</th>\n",
       "      <th>CH00002001</th>\n",
       "      <td>1</td>\n",
       "      <td>0.01</td>\n",
       "      <td>10000000.0</td>\n",
       "      <td>CHF</td>\n",
       "      <td>CHF-Govt-CH</td>\n",
       "      <td>Switzerland</td>\n",
       "    </tr>\n",
       "    <tr>\n",
       "      <th>4</th>\n",
       "      <th>IT00003007</th>\n",
       "      <td>7</td>\n",
       "      <td>0.02</td>\n",
       "      <td>10000000.0</td>\n",
       "      <td>EUR</td>\n",
       "      <td>EUR-Govt-IT</td>\n",
       "      <td>Italy</td>\n",
       "    </tr>\n",
       "    <tr>\n",
       "      <th>5</th>\n",
       "      <th>IT00004007</th>\n",
       "      <td>7</td>\n",
       "      <td>0.02</td>\n",
       "      <td>10000000.0</td>\n",
       "      <td>EUR</td>\n",
       "      <td>EUR-Govt-IT</td>\n",
       "      <td>Italy</td>\n",
       "    </tr>\n",
       "  </tbody>\n",
       "</table>\n",
       "</div>"
      ],
      "text/plain": [
       "                         maturity_date  coupon_rate     nominal currency  \\\n",
       "book_id instrument_code                                                    \n",
       "1       NL00000001                   1         0.03  10000000.0      EUR   \n",
       "2       SE00001009                   9         0.03  10000000.0      SEK   \n",
       "3       CH00002001                   1         0.01  10000000.0      CHF   \n",
       "4       IT00003007                   7         0.02  10000000.0      EUR   \n",
       "5       IT00004007                   7         0.02  10000000.0      EUR   \n",
       "\n",
       "                               curve issuer_country  \n",
       "book_id instrument_code                              \n",
       "1       NL00000001       EUR-Govt-NL    Netherlands  \n",
       "2       SE00001009       EUR-Govt-SE         Sweden  \n",
       "3       CH00002001       CHF-Govt-CH    Switzerland  \n",
       "4       IT00003007       EUR-Govt-IT          Italy  \n",
       "5       IT00004007       EUR-Govt-IT          Italy  "
      ]
     },
     "execution_count": 6,
     "metadata": {},
     "output_type": "execute_result"
    }
   ],
   "source": [
    "position_store.head(5)"
   ]
  },
  {
   "cell_type": "markdown",
   "metadata": {},
   "source": [
    "### Portfolio structure"
   ]
  },
  {
   "cell_type": "code",
   "execution_count": 7,
   "metadata": {},
   "outputs": [],
   "source": [
    "trading_desk_store = session.read_csv(\n",
    "    \"s3://data.atoti.io/notebooks/pnl-explained/trading_desk.csv\",\n",
    "    keys=[\"book_id\"],\n",
    "    store_name=\"Trading Desk\",\n",
    ")"
   ]
  },
  {
   "cell_type": "code",
   "execution_count": 8,
   "metadata": {},
   "outputs": [
    {
     "data": {
      "text/html": [
       "<div>\n",
       "<style scoped>\n",
       "    .dataframe tbody tr th:only-of-type {\n",
       "        vertical-align: middle;\n",
       "    }\n",
       "\n",
       "    .dataframe tbody tr th {\n",
       "        vertical-align: top;\n",
       "    }\n",
       "\n",
       "    .dataframe thead th {\n",
       "        text-align: right;\n",
       "    }\n",
       "</style>\n",
       "<table border=\"1\" class=\"dataframe\">\n",
       "  <thead>\n",
       "    <tr style=\"text-align: right;\">\n",
       "      <th></th>\n",
       "      <th>book</th>\n",
       "      <th>trading_desk</th>\n",
       "      <th>sub_business_unit</th>\n",
       "      <th>business_unit</th>\n",
       "      <th>folio_id</th>\n",
       "      <th>portfolio</th>\n",
       "      <th>fund</th>\n",
       "      <th>sub_asset_class</th>\n",
       "      <th>asset_class</th>\n",
       "    </tr>\n",
       "    <tr>\n",
       "      <th>book_id</th>\n",
       "      <th></th>\n",
       "      <th></th>\n",
       "      <th></th>\n",
       "      <th></th>\n",
       "      <th></th>\n",
       "      <th></th>\n",
       "      <th></th>\n",
       "      <th></th>\n",
       "      <th></th>\n",
       "    </tr>\n",
       "  </thead>\n",
       "  <tbody>\n",
       "    <tr>\n",
       "      <th>1</th>\n",
       "      <td>HE01</td>\n",
       "      <td>Hermes</td>\n",
       "      <td>Domestic Rates &amp; Credit</td>\n",
       "      <td>Rates &amp; Credit</td>\n",
       "      <td>1</td>\n",
       "      <td>HE01</td>\n",
       "      <td>Hermes</td>\n",
       "      <td>Domestic Rates &amp; Credit</td>\n",
       "      <td>Rates &amp; Credit</td>\n",
       "    </tr>\n",
       "    <tr>\n",
       "      <th>2</th>\n",
       "      <td>HE02</td>\n",
       "      <td>Hermes</td>\n",
       "      <td>Domestic Rates &amp; Credit</td>\n",
       "      <td>Rates &amp; Credit</td>\n",
       "      <td>2</td>\n",
       "      <td>HE02</td>\n",
       "      <td>Hermes</td>\n",
       "      <td>Domestic Rates &amp; Credit</td>\n",
       "      <td>Rates &amp; Credit</td>\n",
       "    </tr>\n",
       "    <tr>\n",
       "      <th>3</th>\n",
       "      <td>HE03</td>\n",
       "      <td>Hermes</td>\n",
       "      <td>Domestic Rates &amp; Credit</td>\n",
       "      <td>Rates &amp; Credit</td>\n",
       "      <td>3</td>\n",
       "      <td>HE03</td>\n",
       "      <td>Hermes</td>\n",
       "      <td>Domestic Rates &amp; Credit</td>\n",
       "      <td>Rates &amp; Credit</td>\n",
       "    </tr>\n",
       "    <tr>\n",
       "      <th>4</th>\n",
       "      <td>HE04</td>\n",
       "      <td>Hermes</td>\n",
       "      <td>Domestic Rates &amp; Credit</td>\n",
       "      <td>Rates &amp; Credit</td>\n",
       "      <td>4</td>\n",
       "      <td>HE04</td>\n",
       "      <td>Hermes</td>\n",
       "      <td>Domestic Rates &amp; Credit</td>\n",
       "      <td>Rates &amp; Credit</td>\n",
       "    </tr>\n",
       "    <tr>\n",
       "      <th>5</th>\n",
       "      <td>ZE01</td>\n",
       "      <td>Zeus</td>\n",
       "      <td>Domestic Rates &amp; Credit</td>\n",
       "      <td>Rates &amp; Credit</td>\n",
       "      <td>5</td>\n",
       "      <td>ZE01</td>\n",
       "      <td>Zeus</td>\n",
       "      <td>Domestic Rates &amp; Credit</td>\n",
       "      <td>Rates &amp; Credit</td>\n",
       "    </tr>\n",
       "  </tbody>\n",
       "</table>\n",
       "</div>"
      ],
      "text/plain": [
       "         book trading_desk        sub_business_unit   business_unit  folio_id  \\\n",
       "book_id                                                                         \n",
       "1        HE01       Hermes  Domestic Rates & Credit  Rates & Credit         1   \n",
       "2        HE02       Hermes  Domestic Rates & Credit  Rates & Credit         2   \n",
       "3        HE03       Hermes  Domestic Rates & Credit  Rates & Credit         3   \n",
       "4        HE04       Hermes  Domestic Rates & Credit  Rates & Credit         4   \n",
       "5        ZE01         Zeus  Domestic Rates & Credit  Rates & Credit         5   \n",
       "\n",
       "        portfolio    fund          sub_asset_class     asset_class  \n",
       "book_id                                                             \n",
       "1            HE01  Hermes  Domestic Rates & Credit  Rates & Credit  \n",
       "2            HE02  Hermes  Domestic Rates & Credit  Rates & Credit  \n",
       "3            HE03  Hermes  Domestic Rates & Credit  Rates & Credit  \n",
       "4            HE04  Hermes  Domestic Rates & Credit  Rates & Credit  \n",
       "5            ZE01    Zeus  Domestic Rates & Credit  Rates & Credit  "
      ]
     },
     "execution_count": 8,
     "metadata": {},
     "output_type": "execute_result"
    }
   ],
   "source": [
    "trading_desk_store.head(5)"
   ]
  },
  {
   "cell_type": "markdown",
   "metadata": {},
   "source": [
    "### Market data"
   ]
  },
  {
   "cell_type": "code",
   "execution_count": 9,
   "metadata": {},
   "outputs": [],
   "source": [
    "market_data_store = session.read_csv(\n",
    "    \"s3://data.atoti.io/notebooks/pnl-explained/market_data.csv\",\n",
    "    keys=[\"currency\", \"curve\", \"tenor\"],\n",
    "    store_name=\"Market Data\",\n",
    ")"
   ]
  },
  {
   "cell_type": "code",
   "execution_count": 10,
   "metadata": {},
   "outputs": [
    {
     "data": {
      "text/html": [
       "<div>\n",
       "<style scoped>\n",
       "    .dataframe tbody tr th:only-of-type {\n",
       "        vertical-align: middle;\n",
       "    }\n",
       "\n",
       "    .dataframe tbody tr th {\n",
       "        vertical-align: top;\n",
       "    }\n",
       "\n",
       "    .dataframe thead th {\n",
       "        text-align: right;\n",
       "    }\n",
       "</style>\n",
       "<table border=\"1\" class=\"dataframe\">\n",
       "  <thead>\n",
       "    <tr style=\"text-align: right;\">\n",
       "      <th></th>\n",
       "      <th></th>\n",
       "      <th></th>\n",
       "      <th>start_of_day</th>\n",
       "      <th>last</th>\n",
       "    </tr>\n",
       "    <tr>\n",
       "      <th>currency</th>\n",
       "      <th>curve</th>\n",
       "      <th>tenor</th>\n",
       "      <th></th>\n",
       "      <th></th>\n",
       "    </tr>\n",
       "  </thead>\n",
       "  <tbody>\n",
       "    <tr>\n",
       "      <th rowspan=\"5\" valign=\"top\">EUR</th>\n",
       "      <th rowspan=\"5\" valign=\"top\">EUR-Govt-FR</th>\n",
       "      <th>1Y</th>\n",
       "      <td>0.010</td>\n",
       "      <td>0.0101</td>\n",
       "    </tr>\n",
       "    <tr>\n",
       "      <th>2Y</th>\n",
       "      <td>0.015</td>\n",
       "      <td>0.0151</td>\n",
       "    </tr>\n",
       "    <tr>\n",
       "      <th>3Y</th>\n",
       "      <td>0.016</td>\n",
       "      <td>0.0161</td>\n",
       "    </tr>\n",
       "    <tr>\n",
       "      <th>4Y</th>\n",
       "      <td>0.017</td>\n",
       "      <td>0.0171</td>\n",
       "    </tr>\n",
       "    <tr>\n",
       "      <th>5Y</th>\n",
       "      <td>0.018</td>\n",
       "      <td>0.0181</td>\n",
       "    </tr>\n",
       "  </tbody>\n",
       "</table>\n",
       "</div>"
      ],
      "text/plain": [
       "                            start_of_day    last\n",
       "currency curve       tenor                      \n",
       "EUR      EUR-Govt-FR 1Y            0.010  0.0101\n",
       "                     2Y            0.015  0.0151\n",
       "                     3Y            0.016  0.0161\n",
       "                     4Y            0.017  0.0171\n",
       "                     5Y            0.018  0.0181"
      ]
     },
     "execution_count": 10,
     "metadata": {},
     "output_type": "execute_result"
    }
   ],
   "source": [
    "market_data_store.head()"
   ]
  },
  {
   "cell_type": "markdown",
   "metadata": {},
   "source": [
    "### Creating references between stores  \n",
    "\n",
    "We will proceed to set up references between the stores that we just created as follows:  \n",
    "\n",
    "<img src=\"http://data.atoti.io/notebooks/pnl-explained/datastore_relations.png\" alt=\"datastore relationship\" style=\"zoom:40%;\" />\n",
    "  \n",
    "We can see that all the stores are joined to *Position Sensitivities Store*, this is what we call the base store.  \n",
    "For a record to be reachable in the cube, it must exists in the base store.  \n",
    "We will perform the join from position_sensitivity_store."
   ]
  },
  {
   "cell_type": "code",
   "execution_count": 11,
   "metadata": {},
   "outputs": [],
   "source": [
    "position_sensitivity_store.join(trading_desk_store, mapping={\"book_id\": \"book_id\"})"
   ]
  },
  {
   "cell_type": "code",
   "execution_count": 12,
   "metadata": {},
   "outputs": [],
   "source": [
    "position_sensitivity_store.join(\n",
    "    position_store, mapping={\"book_id\": \"book_id\", \"instrument_code\": \"instrument_code\"}\n",
    ")"
   ]
  },
  {
   "cell_type": "code",
   "execution_count": 13,
   "metadata": {},
   "outputs": [],
   "source": [
    "position_sensitivity_store.join(\n",
    "    market_data_store,\n",
    "    mapping={\"currency\": \"currency\", \"curve\": \"curve\", \"tenor\": \"tenor\"},\n",
    ")"
   ]
  },
  {
   "cell_type": "markdown",
   "metadata": {},
   "source": [
    "### Creating cube  \n",
    "We create the cube using the base store *position_sensitivity_store*.   \n",
    "Note that we have not passed in any mode in create_cube().  \n",
    "This means that a hierarchy will be automatically created for each non-numeric column and measure will be automatically created for each numeric column.  "
   ]
  },
  {
   "cell_type": "code",
   "execution_count": 14,
   "metadata": {},
   "outputs": [],
   "source": [
    "position_sensitivity_cube = session.create_cube(\n",
    "    position_sensitivity_store, \"Position_Sensitivities\"\n",
    ")"
   ]
  },
  {
   "cell_type": "markdown",
   "metadata": {},
   "source": [
    "### Explore the Data Set as a Cube\n",
    "\n",
    "We have the option to visualize the cube in chart, feature-value, pivot-table or tabular.  \n",
    "Let's look at the sensitivity across currency for each asset class."
   ]
  },
  {
   "cell_type": "code",
   "execution_count": 16,
   "metadata": {
    "activeviam": {
     "state": {
      "name": "",
      "type": "container",
      "value": {
       "body": {
        "configuration": {
         "mapping": {
          "horizontal": [],
          "splitBy": [
           "[Hierarchies].[business_unit].[business_unit]"
          ],
          "values": [
           "[Measures].[sensi.SUM]"
          ],
          "vertical": [],
          "xAxis": [
           "[Hierarchies].[currency].[currency]"
          ]
         },
         "type": "plotly-clustered-column-chart"
        },
        "query": {
         "mdx": "SELECT NON EMPTY Crossjoin([Hierarchies].[currency].[currency].Members, [Hierarchies].[business_unit].[business_unit].Members) ON ROWS, NON EMPTY [Measures].[sensi.SUM] ON COLUMNS FROM (SELECT TopCount(Filter([Hierarchies].[book].Levels(1).Members, NOT IsEmpty([Measures].[sensi.SUM])), 5, [Measures].[sensi.SUM]) ON COLUMNS FROM [Position_Sensitivities]) CELL PROPERTIES VALUE, FORMATTED_VALUE, BACK_COLOR, FORE_COLOR, FONT_FLAGS",
         "serverUrl": "",
         "updateMode": "once"
        }
       },
       "containerKey": "chart",
       "showTitleBar": false,
       "style": {}
      }
     }
    },
    "atoti": {
     "state": {
      "name": "",
      "type": "container",
      "value": {
       "body": {
        "configuration": {
         "mapping": {
          "horizontal": [],
          "splitBy": [
           "[Hierarchies].[business_unit].[business_unit]"
          ],
          "values": [
           "[Measures].[sensi.SUM]"
          ],
          "vertical": [],
          "xAxis": [
           "[Hierarchies].[currency].[currency]"
          ]
         },
         "switchedTo": "plotly-clustered-bar-chart",
         "type": "plotly-line-chart"
        },
        "query": {
         "mdx": "SELECT NON EMPTY Crossjoin([Hierarchies].[currency].[currency].Members, [Hierarchies].[business_unit].[business_unit].Members) ON ROWS, NON EMPTY [Measures].[sensi.SUM] ON COLUMNS FROM [Position_Sensitivities] CELL PROPERTIES VALUE, FORMATTED_VALUE, BACK_COLOR, FORE_COLOR, FONT_FLAGS",
         "serverUrl": "",
         "updateMode": "once"
        }
       },
       "containerKey": "chart",
       "showTitleBar": false,
       "style": {}
      }
     }
    }
   },
   "outputs": [
    {
     "data": {
      "application/vnd.atoti.v0+json": {
       "cube": "Position_Sensitivities",
       "name": null,
       "session": "Unnamed"
      },
      "text/plain": [
       "Install the Atoti JupyterLab extension to see this widget."
      ]
     },
     "metadata": {},
     "output_type": "display_data"
    }
   ],
   "source": [
    "position_sensitivity_cube.visualize()"
   ]
  },
  {
   "cell_type": "markdown",
   "metadata": {},
   "source": [
    "### Adding business logic calculation  \n",
    "  \n",
    "Let's assign a variable to the attributes of the cube, so that we can:  \n",
    "* create measures\n",
    "* create hierarchies "
   ]
  },
  {
   "cell_type": "code",
   "execution_count": 17,
   "metadata": {},
   "outputs": [],
   "source": [
    "m = position_sensitivity_cube.measures\n",
    "h = position_sensitivity_cube.hierarchies\n",
    "lvl = position_sensitivity_cube.levels"
   ]
  },
  {
   "cell_type": "code",
   "execution_count": 18,
   "metadata": {},
   "outputs": [
    {
     "data": {
      "application/json": {
       "Hierarchies": {
        "asset_class": [
         "asset_class"
        ],
        "book": [
         "book"
        ],
        "book_id": [
         "book_id"
        ],
        "business_unit": [
         "business_unit"
        ],
        "currency": [
         "currency"
        ],
        "curve": [
         "curve"
        ],
        "folio_id": [
         "folio_id"
        ],
        "fund": [
         "fund"
        ],
        "instrument_code": [
         "instrument_code"
        ],
        "issuer_country": [
         "issuer_country"
        ],
        "maturity_date": [
         "maturity_date"
        ],
        "portfolio": [
         "portfolio"
        ],
        "sub_asset_class": [
         "sub_asset_class"
        ],
        "sub_business_unit": [
         "sub_business_unit"
        ],
        "tenor": [
         "tenor"
        ],
        "trading_desk": [
         "trading_desk"
        ]
       }
      },
      "text/html": [
       "<ul>\n",
       "<li>Dimensions\n",
       "  <ul>\n",
       "  <li>Hierarchies\n",
       "    <ul>\n",
       "    <li>asset_class\n",
       "      <ol>\n",
       "      <li>asset_class</li>\n",
       "      </ol>    </li>\n",
       "    <li>book\n",
       "      <ol>\n",
       "      <li>book</li>\n",
       "      </ol>    </li>\n",
       "    <li>book_id\n",
       "      <ol>\n",
       "      <li>book_id</li>\n",
       "      </ol>    </li>\n",
       "    <li>business_unit\n",
       "      <ol>\n",
       "      <li>business_unit</li>\n",
       "      </ol>    </li>\n",
       "    <li>currency\n",
       "      <ol>\n",
       "      <li>currency</li>\n",
       "      </ol>    </li>\n",
       "    <li>curve\n",
       "      <ol>\n",
       "      <li>curve</li>\n",
       "      </ol>    </li>\n",
       "    <li>folio_id\n",
       "      <ol>\n",
       "      <li>folio_id</li>\n",
       "      </ol>    </li>\n",
       "    <li>fund\n",
       "      <ol>\n",
       "      <li>fund</li>\n",
       "      </ol>    </li>\n",
       "    <li>instrument_code\n",
       "      <ol>\n",
       "      <li>instrument_code</li>\n",
       "      </ol>    </li>\n",
       "    <li>issuer_country\n",
       "      <ol>\n",
       "      <li>issuer_country</li>\n",
       "      </ol>    </li>\n",
       "    <li>maturity_date\n",
       "      <ol>\n",
       "      <li>maturity_date</li>\n",
       "      </ol>    </li>\n",
       "    <li>portfolio\n",
       "      <ol>\n",
       "      <li>portfolio</li>\n",
       "      </ol>    </li>\n",
       "    <li>sub_asset_class\n",
       "      <ol>\n",
       "      <li>sub_asset_class</li>\n",
       "      </ol>    </li>\n",
       "    <li>sub_business_unit\n",
       "      <ol>\n",
       "      <li>sub_business_unit</li>\n",
       "      </ol>    </li>\n",
       "    <li>tenor\n",
       "      <ol>\n",
       "      <li>tenor</li>\n",
       "      </ol>    </li>\n",
       "    <li>trading_desk\n",
       "      <ol>\n",
       "      <li>trading_desk</li>\n",
       "      </ol>    </li>\n",
       "    </ul>\n",
       "  </li>\n",
       "  </ul>\n",
       "</li>\n",
       "</ul>\n"
      ],
      "text/plain": [
       "Hierarchies()"
      ]
     },
     "execution_count": 18,
     "metadata": {
      "application/json": {
       "expanded": true,
       "root": "Dimensions"
      }
     },
     "output_type": "execute_result"
    }
   ],
   "source": [
    "# inspect what hierarchies have been automatically generated during cube creation\n",
    "h"
   ]
  },
  {
   "cell_type": "code",
   "execution_count": 19,
   "metadata": {},
   "outputs": [
    {
     "data": {
      "application/json": {
       "contributors.COUNT": {
        "formatter": null,
        "visible": true
       },
       "coupon_rate.VALUE": {
        "formatter": "DOUBLE[#,###.00]",
        "visible": true
       },
       "last.VALUE": {
        "formatter": "DOUBLE[#,###.00]",
        "visible": true
       },
       "nominal.VALUE": {
        "formatter": "DOUBLE[#,###.00]",
        "visible": true
       },
       "notional.AVG": {
        "formatter": "DOUBLE[#,###.00]",
        "visible": true
       },
       "notional.SUM": {
        "formatter": "DOUBLE[#,###.00]",
        "visible": true
       },
       "sensi.AVG": {
        "formatter": "DOUBLE[#,###.00]",
        "visible": true
       },
       "sensi.SUM": {
        "formatter": "DOUBLE[#,###.00]",
        "visible": true
       },
       "start_of_day.VALUE": {
        "formatter": "DOUBLE[#,###.00]",
        "visible": true
       }
      },
      "text/html": [
       "<ul>\n",
       "<li>Measures\n",
       "  <ul>\n",
       "  <li>contributors.COUNT\n",
       "    <ul>\n",
       "    <li>formatter: None</li>\n",
       "    <li>visible: True</li>\n",
       "    </ul>\n",
       "  </li>\n",
       "  <li>coupon_rate.VALUE\n",
       "    <ul>\n",
       "    <li>formatter: DOUBLE[#,###.00]</li>\n",
       "    <li>visible: True</li>\n",
       "    </ul>\n",
       "  </li>\n",
       "  <li>last.VALUE\n",
       "    <ul>\n",
       "    <li>formatter: DOUBLE[#,###.00]</li>\n",
       "    <li>visible: True</li>\n",
       "    </ul>\n",
       "  </li>\n",
       "  <li>nominal.VALUE\n",
       "    <ul>\n",
       "    <li>formatter: DOUBLE[#,###.00]</li>\n",
       "    <li>visible: True</li>\n",
       "    </ul>\n",
       "  </li>\n",
       "  <li>notional.AVG\n",
       "    <ul>\n",
       "    <li>formatter: DOUBLE[#,###.00]</li>\n",
       "    <li>visible: True</li>\n",
       "    </ul>\n",
       "  </li>\n",
       "  <li>notional.SUM\n",
       "    <ul>\n",
       "    <li>formatter: DOUBLE[#,###.00]</li>\n",
       "    <li>visible: True</li>\n",
       "    </ul>\n",
       "  </li>\n",
       "  <li>sensi.AVG\n",
       "    <ul>\n",
       "    <li>formatter: DOUBLE[#,###.00]</li>\n",
       "    <li>visible: True</li>\n",
       "    </ul>\n",
       "  </li>\n",
       "  <li>sensi.SUM\n",
       "    <ul>\n",
       "    <li>formatter: DOUBLE[#,###.00]</li>\n",
       "    <li>visible: True</li>\n",
       "    </ul>\n",
       "  </li>\n",
       "  <li>start_of_day.VALUE\n",
       "    <ul>\n",
       "    <li>formatter: DOUBLE[#,###.00]</li>\n",
       "    <li>visible: True</li>\n",
       "    </ul>\n",
       "  </li>\n",
       "  </ul>\n",
       "</li>\n",
       "</ul>\n"
      ],
      "text/plain": [
       "Measures()"
      ]
     },
     "execution_count": 19,
     "metadata": {
      "application/json": {
       "expanded": false,
       "root": "Measures"
      }
     },
     "output_type": "execute_result"
    }
   ],
   "source": [
    "# inspect what measures have been automatically generated during cube creation\n",
    "m"
   ]
  },
  {
   "cell_type": "markdown",
   "metadata": {},
   "source": [
    "#### Creating Measures\n",
    "\n",
    "From the *Market Data* store, we have the *start of day* and *end of day* value which we used to calculate the change in yields.  \n",
    "We derive our Delta by applying `sensi.SUM` to the [notional](https://www.investopedia.com/terms/n/notionalvalue.asp). We, then apply Delta to our change in yield to get the impact of prices:\n",
    "  \n",
    "$Theoretical Pnl = (Delta) \\times (Yield Change)$  \n",
    "\n",
    "We will aggregate the *Theoretical PnL* over the levels listed in the scope below as we will be exploring the measure over these levels."
   ]
  },
  {
   "cell_type": "code",
   "execution_count": 20,
   "metadata": {},
   "outputs": [],
   "source": [
    "m[\"Theoretical PnL\"] = tt.agg.sum(\n",
    "    m[\"sensi.SUM\"] * (m[\"last.VALUE\"] - m[\"start_of_day.VALUE\"]) * m[\"notional.SUM\"],\n",
    "    scope=tt.scope.origin(\"currency\", \"curve\", \"tenor\", \"book_id\", \"instrument_code\"),\n",
    ")"
   ]
  },
  {
   "cell_type": "markdown",
   "metadata": {},
   "source": [
    "### Adding new multi-level hierarchy for portfolio structure  \n",
    "\n",
    "Based on the data that are of interest to the [Buy-Side](https://www.investopedia.com/terms/b/buyside.asp) and [Sell-Side](https://www.investopedia.com/terms/s/sellside.asp), we are going to see how we can structure hierarchies to facilitate the navigation of data in a cube.  "
   ]
  },
  {
   "cell_type": "markdown",
   "metadata": {},
   "source": [
    "#### Asset Mangement : Buy-Side  \n",
    "\n",
    "*Buy-Side* purchases stocks, securities and other financial products, according to the needs and strategy of a portfolio.  \n",
    "It would make data navigation more intuitive to create an *Investment Portfolio Hierarchy* that has Asset Class, Sub Asset Class, Fund and Portfolio as levels.  \n",
    "We would be able to have a global view over the Asset Class level.  \n",
    "If we needed more granular information, we could easily drill-down to the Sub Asset class, Fund and all the way down to the portfolio holding the Asset."
   ]
  },
  {
   "cell_type": "code",
   "execution_count": 21,
   "metadata": {},
   "outputs": [],
   "source": [
    "h[\"Investment Portfolio Hierarchy\"] = {\n",
    "    \"Asset Class\": position_sensitivity_cube.levels[\"asset_class\"],\n",
    "    \"Sub Asset Class\": position_sensitivity_cube.levels[\"sub_asset_class\"],\n",
    "    \"Fund\": position_sensitivity_cube.levels[\"fund\"],\n",
    "    \"Portfolio\": position_sensitivity_cube.levels[\"portfolio\"],\n",
    "}"
   ]
  },
  {
   "cell_type": "markdown",
   "metadata": {},
   "source": [
    "#### Investment Banks : Sell-Side  \n",
    "\n",
    "*Sell-Side* help companies to raise debt and equity capital and then sell those securities to the *Buy-Side*.  \\\n",
    "*Sell-Side* would then be interested in having a global view over the *Business Unit* such as Rates & Credit, Forex, Equity etc.    \n",
    "They could then drill-down to the *Sub Business Unit* to see its performance, the *Trading Desk* and all the way to the *Book* level."
   ]
  },
  {
   "cell_type": "code",
   "execution_count": 22,
   "metadata": {},
   "outputs": [],
   "source": [
    "h[\"Trading Book Hierarchy\"] = {\n",
    "    \"Business Unit\": lvl[\"business_unit\"],\n",
    "    \"Sub Business Unit\": lvl[\"sub_business_unit\"],\n",
    "    \"Trading Desk\": lvl[\"trading_desk\"],\n",
    "    \"Book\": lvl[\"book\"],\n",
    "}"
   ]
  },
  {
   "cell_type": "markdown",
   "metadata": {},
   "source": [
    "### Explore the Theoretical PnL by Investment Portfolio Hierarchy\n",
    "\n",
    "We shall explore the Theoretical PnL from the Buy-Side perspective.  \n",
    "  \n",
    "Let's visualize the data in a chart to see the spread of the *Theoretical PnL* across the funds for each *Asset Class*."
   ]
  },
  {
   "cell_type": "code",
   "execution_count": 24,
   "metadata": {
    "activeviam": {
     "state": {
      "name": "",
      "type": "container",
      "value": {
       "body": {
        "configuration": {
         "mapping": {
          "stackBy": [
           "[Hierarchies].[Investment Portfolio Hierarchy].[Fund]"
          ],
          "values": [
           "[Measures].[Theoretical PnL]"
          ],
          "xAxis": [
           "[Hierarchies].[Investment Portfolio Hierarchy].[Asset Class]"
          ]
         },
         "type": "plotly-100-stacked-column-chart"
        },
        "query": {
         "mdx": "SELECT NON EMPTY [Measures].[Theoretical PnL] ON COLUMNS, NON EMPTY [Hierarchies].[Investment Portfolio Hierarchy].[Fund].Members ON ROWS FROM [Position_Sensitivities] CELL PROPERTIES VALUE, FORMATTED_VALUE, BACK_COLOR, FORE_COLOR, FONT_FLAGS",
         "serverUrl": "",
         "updateMode": "once"
        }
       },
       "containerKey": "chart",
       "showTitleBar": false,
       "style": {}
      }
     }
    },
    "atoti": {
     "state": {
      "name": "Theoretical PnL spread across funds",
      "type": "container",
      "value": {
       "body": {
        "configuration": {
         "mapping": {
          "stackBy": [
           "[Hierarchies].[Investment Portfolio Hierarchy].[Fund]"
          ],
          "values": [
           "[Measures].[Theoretical PnL]"
          ],
          "xAxis": [
           "[Hierarchies].[Investment Portfolio Hierarchy].[Asset Class]"
          ]
         },
         "type": "plotly-100-stacked-column-chart"
        },
        "query": {
         "mdx": "SELECT NON EMPTY [Hierarchies].[Investment Portfolio Hierarchy].[Fund].Members ON ROWS, NON EMPTY [Measures].[Theoretical PnL] ON COLUMNS FROM [Position_Sensitivities] CELL PROPERTIES VALUE, FORMATTED_VALUE, BACK_COLOR, FORE_COLOR, FONT_FLAGS",
         "serverUrl": "",
         "updateMode": "once"
        }
       },
       "containerKey": "chart",
       "showTitleBar": false,
       "style": {}
      }
     }
    }
   },
   "outputs": [
    {
     "data": {
      "application/vnd.atoti.v0+json": {
       "cube": "Position_Sensitivities",
       "name": "Theoretical PnL spread across funds",
       "session": "Unnamed"
      },
      "text/plain": [
       "Install the Atoti JupyterLab extension to see this widget."
      ]
     },
     "metadata": {},
     "output_type": "display_data"
    }
   ],
   "source": [
    "position_sensitivity_cube.visualize(\"Theoretical PnL spread across funds\")"
   ]
  },
  {
   "cell_type": "markdown",
   "metadata": {},
   "source": [
    "In the next 2 visualizations, we shall see the impact of having the *Investment Portfolio Hierarchy*.\n",
    "\n",
    "In the first tree map, we perform a split at the *portfolio* level from *Investment Portfolio Hierarchy*. This means that we are drilling down from the Asset class to Sub Asset Class, Fund and then to the Portfolio level. E.g. we will see the portfolio HE01 under the Asset Class *Rates & Credit* and *Forex*."
   ]
  },
  {
   "cell_type": "code",
   "execution_count": 26,
   "metadata": {
    "activeviam": {
     "state": {
      "name": "",
      "type": "container",
      "value": {
       "body": {
        "configuration": {
         "mapping": {
          "splitBy": [
           "[Hierarchies].[Investment Portfolio Hierarchy].[Portfolio]"
          ],
          "values": [
           "[Measures].[Theoretical PnL]"
          ]
         },
         "type": "plotly-tree-map"
        },
        "query": {
         "mdx": "SELECT NON EMPTY [Measures].[Theoretical PnL] ON COLUMNS, NON EMPTY [Hierarchies].[Investment Portfolio Hierarchy].[Portfolio].Members ON ROWS FROM [Position_Sensitivities] CELL PROPERTIES VALUE, FORMATTED_VALUE, BACK_COLOR, FORE_COLOR, FONT_FLAGS",
         "serverUrl": "",
         "updateMode": "once"
        }
       },
       "containerKey": "chart",
       "showTitleBar": false,
       "style": {}
      }
     }
    },
    "atoti": {
     "height": 333,
     "state": {
      "name": "Investment Portfolio concentration",
      "type": "container",
      "value": {
       "body": {
        "configuration": {
         "mapping": {
          "splitBy": [
           "[Hierarchies].[Investment Portfolio Hierarchy].[Portfolio]"
          ],
          "values": [
           "[Measures].[Theoretical PnL]"
          ]
         },
         "type": "plotly-tree-map"
        },
        "query": {
         "mdx": "SELECT NON EMPTY [Measures].[Theoretical PnL] ON COLUMNS, NON EMPTY [Hierarchies].[Investment Portfolio Hierarchy].[Portfolio].Members ON ROWS FROM [Position_Sensitivities] CELL PROPERTIES VALUE, FORMATTED_VALUE, BACK_COLOR, FORE_COLOR, FONT_FLAGS",
         "serverUrl": "",
         "updateMode": "once"
        }
       },
       "containerKey": "chart",
       "showTitleBar": false,
       "style": {}
      }
     }
    }
   },
   "outputs": [
    {
     "data": {
      "application/vnd.atoti.v0+json": {
       "cube": "Position_Sensitivities",
       "name": "Investment Portfolio concentration",
       "session": "Unnamed"
      },
      "text/plain": [
       "Install the Atoti JupyterLab extension to see this widget."
      ]
     },
     "metadata": {},
     "output_type": "display_data"
    }
   ],
   "source": [
    "position_sensitivity_cube.visualize(\"Investment Portfolio concentration\")"
   ]
  },
  {
   "cell_type": "markdown",
   "metadata": {},
   "source": [
    "In this second tree map, we perform a split at the *portfolio* hierarchy.  \n",
    "Hence we will only see the collective *Theoretical PnL* of the portfolio. E.g. we will only see 1 HE01 in this map."
   ]
  },
  {
   "cell_type": "code",
   "execution_count": 28,
   "metadata": {
    "atoti": {
     "state": {
      "name": "Portfolio concentration",
      "type": "container",
      "value": {
       "body": {
        "configuration": {
         "mapping": {
          "splitBy": [
           "[Hierarchies].[portfolio].[portfolio]"
          ],
          "values": [
           "[Measures].[Theoretical PnL]"
          ]
         },
         "type": "plotly-tree-map"
        },
        "query": {
         "mdx": "SELECT NON EMPTY [Hierarchies].[portfolio].[portfolio].Members ON ROWS, NON EMPTY [Measures].[Theoretical PnL] ON COLUMNS FROM [Position_Sensitivities] CELL PROPERTIES VALUE, FORMATTED_VALUE, BACK_COLOR, FORE_COLOR, FONT_FLAGS",
         "serverUrl": "",
         "updateMode": "once"
        }
       },
       "containerKey": "chart",
       "showTitleBar": false,
       "style": {}
      }
     }
    }
   },
   "outputs": [
    {
     "data": {
      "application/vnd.atoti.v0+json": {
       "cube": "Position_Sensitivities",
       "name": "Portfolio concentration",
       "session": "Unnamed"
      },
      "text/plain": [
       "Install the Atoti JupyterLab extension to see this widget."
      ]
     },
     "metadata": {},
     "output_type": "display_data"
    }
   ],
   "source": [
    "position_sensitivity_cube.visualize(\"Portfolio concentration\")"
   ]
  },
  {
   "cell_type": "markdown",
   "metadata": {},
   "source": [
    "In the below pivot-table, we can easily drill-down the levels in the *Investment Portfolio Hierarchy* to see measures at granular levels.  \n",
    "Naturally, this could also be achieved by clicking on `>+` and manually adding a hierarchy to drill down to. It's just a little more tedious."
   ]
  },
  {
   "cell_type": "code",
   "execution_count": 30,
   "metadata": {
    "activeviam": {
     "state": {
      "name": "Investment Portfolio Hierarchy Pivot Table",
      "type": "container",
      "value": {
       "body": {
        "configuration": {
         "tabular": {
          "addButtonFilter": "numeric",
          "columns": [
           {
            "key": "c-treeCells-member",
            "width": 486
           }
          ],
          "columnsGroups": [
           {
            "captionProducer": "firstColumn",
            "cellFactory": "kpi-status",
            "selector": "kpi-status"
           },
           {
            "captionProducer": "firstColumn",
            "cellFactory": "lookup",
            "selector": "lookup"
           },
           {
            "captionProducer": "expiry",
            "cellFactory": "expiry",
            "selector": "kpi-expiry"
           },
           {
            "captionProducer": "columnMerge",
            "cellFactory": {
             "args": {
              "automaticExpansion": true
             },
             "key": "treeCells"
            },
            "selector": "member"
           }
          ],
          "defaultOptions": {},
          "hideAddButton": true,
          "lineNumbers": true,
          "pinnedHeaderSelector": "member",
          "sortingMode": "non-breaking",
          "statisticsShown": true
         }
        },
        "contextValues": {},
        "mdx": "SELECT NON EMPTY Hierarchize(Union(Crossjoin(Union(DrilldownLevel([Hierarchies].[Investment Portfolio Hierarchy].[ALL].[AllMember]), Descendants({[Hierarchies].[Investment Portfolio Hierarchy].[ALL].[AllMember].[Forex]}, [Hierarchies].[Investment Portfolio Hierarchy].[Sub Asset Class]), Descendants({[Hierarchies].[Investment Portfolio Hierarchy].[ALL].[AllMember].[Rates & Credit]}, [Hierarchies].[Investment Portfolio Hierarchy].[Sub Asset Class]), Descendants({[Hierarchies].[Investment Portfolio Hierarchy].[ALL].[AllMember].[Equity]}, [Hierarchies].[Investment Portfolio Hierarchy].[Sub Asset Class]), Descendants({[Hierarchies].[Investment Portfolio Hierarchy].[ALL].[AllMember].[Equity].[Domestic Equity]}, [Hierarchies].[Investment Portfolio Hierarchy].[Fund]), Descendants({[Hierarchies].[Investment Portfolio Hierarchy].[ALL].[AllMember].[Equity].[Domestic Equity].[Poseidon]}, [Hierarchies].[Investment Portfolio Hierarchy].[Portfolio])), [Hierarchies].[instrument_code].DefaultMember), Crossjoin([Hierarchies].[Investment Portfolio Hierarchy].[ALL].[AllMember].[Equity].[Domestic Equity].[Poseidon].[PO01], [Hierarchies].[instrument_code].[instrument_code].Members), Crossjoin([Hierarchies].[Investment Portfolio Hierarchy].[ALL].[AllMember].[Equity].[Domestic Equity].[Poseidon].[PO01], Descendants({[Hierarchies].[instrument_code].[ALL].[AllMember].[UK00180009]}, [Hierarchies].[instrument_code].[instrument_code])))) ON ROWS, NON EMPTY {[Measures].[Theoretical PnL], [Measures].[sensi.SUM], [Measures].[contributors.COUNT]} ON COLUMNS FROM [Position_Sensitivities] CELL PROPERTIES VALUE, FORMATTED_VALUE, BACK_COLOR, FORE_COLOR, FONT_FLAGS",
        "ranges": {
         "column": {
          "chunkSize": 50,
          "thresholdPercentage": 0.2
         },
         "row": {
          "chunkSize": 2000,
          "thresholdPercentage": 0.1
         }
        },
        "serverUrl": "",
        "updateMode": "once"
       },
       "containerKey": "pivot-table",
       "showTitleBar": false,
       "style": {}
      }
     }
    },
    "atoti": {
     "height": 426,
     "state": {
      "name": "Investment Portfolio Hierarchy Pivot Table",
      "type": "container",
      "value": {
       "body": {
        "configuration": {
         "tabular": {
          "addButtonFilter": "numeric",
          "columnsGroups": [
           {
            "captionProducer": "firstColumn",
            "cellFactory": "kpi-status",
            "selector": "kpi-status"
           },
           {
            "captionProducer": "firstColumn",
            "cellFactory": "lookup",
            "selector": "lookup"
           },
           {
            "captionProducer": "expiry",
            "cellFactory": "expiry",
            "selector": "kpi-expiry"
           },
           {
            "captionProducer": "columnMerge",
            "cellFactory": {
             "args": {
              "automaticExpansion": true
             },
             "key": "treeCells"
            },
            "selector": "member"
           }
          ],
          "defaultOptions": {},
          "hideAddButton": true,
          "lineNumbers": true,
          "pinnedHeaderSelector": "member",
          "sortingMode": "non-breaking",
          "statisticsShown": true
         }
        },
        "contextValues": {},
        "mdx": "SELECT NON EMPTY Hierarchize(Union(DrilldownLevel([Hierarchies].[Investment Portfolio Hierarchy].[ALL].[AllMember]), Descendants({[Hierarchies].[Investment Portfolio Hierarchy].[ALL].[AllMember].[Rates & Credit]}, [Hierarchies].[Investment Portfolio Hierarchy].[Sub Asset Class]), Descendants({[Hierarchies].[Investment Portfolio Hierarchy].[ALL].[AllMember].[Rates & Credit].[Domestic Rates & Credit]}, [Hierarchies].[Investment Portfolio Hierarchy].[Fund]), Descendants({[Hierarchies].[Investment Portfolio Hierarchy].[ALL].[AllMember].[Rates & Credit].[Domestic Rates & Credit].[Hermes]}, [Hierarchies].[Investment Portfolio Hierarchy].[Portfolio]))) ON ROWS, NON EMPTY {[Measures].[Theoretical PnL], [Measures].[sensi.SUM], [Measures].[contributors.COUNT]} ON COLUMNS FROM [Position_Sensitivities] CELL PROPERTIES VALUE, FORMATTED_VALUE, BACK_COLOR, FORE_COLOR, FONT_FLAGS",
        "ranges": {
         "column": {
          "chunkSize": 50,
          "thresholdPercentage": 0.2
         },
         "row": {
          "chunkSize": 2000,
          "thresholdPercentage": 0.1
         }
        },
        "serverUrl": "",
        "updateMode": "once"
       },
       "containerKey": "pivot-table",
       "showTitleBar": false,
       "style": {}
      }
     }
    }
   },
   "outputs": [
    {
     "data": {
      "application/vnd.atoti.v0+json": {
       "cube": "Position_Sensitivities",
       "name": "Investment Portfolio Hierarchy Pivot Table",
       "session": "Unnamed"
      },
      "text/plain": [
       "Install the Atoti JupyterLab extension to see this widget."
      ]
     },
     "metadata": {},
     "output_type": "display_data"
    }
   ],
   "source": [
    "position_sensitivity_cube.visualize(\"Investment Portfolio Hierarchy Pivot Table\")"
   ]
  },
  {
   "cell_type": "markdown",
   "metadata": {},
   "source": [
    "#### Yield Curve\n",
    "\n",
    "The *Yield Curve* gives insights to the future interest rate changes and economic activity. \n",
    "  \n",
    "A normal yield curve which shows an upward curve, shows longer-term bonds having higher yields than short-term ones. Short-term interest rates are the lowest because there is less embedded inflation risk. This shows economic expansion.\n",
    "\n",
    "An inverted curve which has a downward slope, is a sign of an upcoming recession. The shorter-term bonds yields higher than the longer-term ones.  \n",
    "\n",
    "A flat or humped yield curve shows that the yields for shorter- and longer-term bonds are very close to each other. Investors are expecting interest rates to remain about the same, probably an economic transition.\n",
    "  \n",
    "We will use the start of day and last rates against the tenor to plot our yield curve. We should be able to see a normal upward yield curve in the chart below."
   ]
  },
  {
   "cell_type": "code",
   "execution_count": 32,
   "metadata": {
    "activeviam": {
     "state": {
      "name": "Yield Curve",
      "type": "container",
      "value": {
       "body": {
        "configuration": {
         "mapping": {
          "splitBy": [
           "[Hierarchies].[currency].[currency]",
           "[Hierarchies].[curve].[curve]"
          ],
          "values": [
           "[Measures].[start_of_day.VALUE]",
           "[Measures].[last.VALUE]"
          ],
          "xAxis": [
           "[Hierarchies].[tenor].[tenor]"
          ]
         },
         "plotly": {
          "layout": {
           "xaxis": {
            "title": "Tenor"
           },
           "yaxis": {
            "title": "Yield"
           }
          }
         },
         "type": "plotly-line-chart"
        },
        "query": {
         "mdx": "SELECT NON EMPTY Crossjoin([Hierarchies].[tenor].[tenor].Members, [Hierarchies].[currency].[currency].Members, [Hierarchies].[curve].[curve].Members) ON ROWS, NON EMPTY {[Measures].[start_of_day.VALUE], [Measures].[last.VALUE]} ON COLUMNS FROM (SELECT [Hierarchies].[currency].[ALL].[AllMember].[EUR] ON COLUMNS FROM (SELECT [Hierarchies].[curve].[ALL].[AllMember].[EUR-Govt-FR] ON COLUMNS FROM [Position_Sensitivities])) CELL PROPERTIES VALUE, FORMATTED_VALUE, BACK_COLOR, FORE_COLOR, FONT_FLAGS",
         "serverUrl": "",
         "updateMode": "once"
        }
       },
       "containerKey": "chart",
       "showTitleBar": false,
       "style": {}
      }
     }
    },
    "atoti": {
     "height": 350,
     "state": {
      "name": "Yield Curve",
      "type": "container",
      "value": {
       "body": {
        "configuration": {
         "mapping": {
          "horizontal": [],
          "splitBy": [
           "[Hierarchies].[currency].[currency]"
          ],
          "values": [
           "[Measures].[start_of_day.VALUE]",
           "[Measures].[last.VALUE]"
          ],
          "vertical": [],
          "xAxis": [
           "[Hierarchies].[tenor].[tenor]"
          ]
         },
         "plotly": {
          "layout": {
           "xaxis": {
            "title": "Theoretical PnL"
           },
           "yaxis": {
            "title": "Tenor"
           }
          }
         },
         "type": "plotly-line-chart"
        },
        "query": {
         "mdx": "SELECT NON EMPTY Crossjoin([Hierarchies].[tenor].[tenor].Members, [Hierarchies].[currency].[currency].Members) ON ROWS, NON EMPTY {[Measures].[start_of_day.VALUE], [Measures].[last.VALUE]} ON COLUMNS FROM [Position_Sensitivities] CELL PROPERTIES VALUE, FORMATTED_VALUE, BACK_COLOR, FORE_COLOR, FONT_FLAGS",
         "serverUrl": "",
         "updateMode": "once"
        }
       },
       "containerKey": "chart",
       "showTitleBar": false,
       "style": {}
      }
     }
    }
   },
   "outputs": [
    {
     "data": {
      "application/vnd.atoti.v0+json": {
       "cube": "Position_Sensitivities",
       "name": "Yield Curve",
       "session": "Unnamed"
      },
      "text/plain": [
       "Install the Atoti JupyterLab extension to see this widget."
      ]
     },
     "metadata": {},
     "output_type": "display_data"
    }
   ],
   "source": [
    "position_sensitivity_cube.visualize(\"Yield Curve\")"
   ]
  },
  {
   "cell_type": "markdown",
   "metadata": {},
   "source": [
    "We see that *Rates & Credit* has the highest *Theoretical PnL* among the Asset class."
   ]
  },
  {
   "cell_type": "code",
   "execution_count": 34,
   "metadata": {
    "activeviam": {
     "state": {
      "name": "Theoretical PnL",
      "type": "container",
      "value": {
       "body": {
        "configuration": {
         "mapping": {
          "splitBy": [],
          "values": [
           "[Measures].[Theoretical PnL]"
          ],
          "yAxis": [
           "[Hierarchies].[asset_class].[asset_class]"
          ]
         },
         "type": "plotly-clustered-bar-chart"
        },
        "query": {
         "mdx": "SELECT NON EMPTY [Measures].[Theoretical PnL] ON COLUMNS, NON EMPTY [Hierarchies].[asset_class].[asset_class].Members ON ROWS FROM [Position_Sensitivities] CELL PROPERTIES VALUE, FORMATTED_VALUE, BACK_COLOR, FORE_COLOR, FONT_FLAGS",
         "serverUrl": "",
         "updateMode": "once"
        }
       },
       "containerKey": "chart",
       "showTitleBar": false,
       "style": {}
      }
     }
    },
    "atoti": {
     "state": {
      "name": "Theoretical PnL",
      "type": "container",
      "value": {
       "body": {
        "configuration": {
         "mapping": {
          "horizontal": [],
          "splitBy": [],
          "values": [
           "[Measures].[Theoretical PnL]"
          ],
          "vertical": [],
          "xAxis": [
           "[Hierarchies].[asset_class].[asset_class]"
          ]
         },
         "switchedTo": "plotly-clustered-bar-chart",
         "type": "plotly-line-chart"
        },
        "query": {
         "mdx": "SELECT NON EMPTY [Measures].[Theoretical PnL] ON COLUMNS, NON EMPTY [Hierarchies].[asset_class].[asset_class].Members ON ROWS FROM [Position_Sensitivities] CELL PROPERTIES VALUE, FORMATTED_VALUE, BACK_COLOR, FORE_COLOR, FONT_FLAGS",
         "serverUrl": "",
         "updateMode": "once"
        }
       },
       "containerKey": "chart",
       "showTitleBar": false,
       "style": {}
      }
     }
    }
   },
   "outputs": [
    {
     "data": {
      "application/vnd.atoti.v0+json": {
       "cube": "Position_Sensitivities",
       "name": "Theoretical PnL",
       "session": "Unnamed"
      },
      "text/plain": [
       "Install the Atoti JupyterLab extension to see this widget."
      ]
     },
     "metadata": {},
     "output_type": "display_data"
    }
   ],
   "source": [
    "position_sensitivity_cube.visualize(\"Theoretical PnL\")"
   ]
  },
  {
   "cell_type": "markdown",
   "metadata": {},
   "source": [
    "### What-ifs  \n",
    "We will run simulations to see the impact of shifts in curves: \n",
    "- Parallel Shift\n",
    "- Curve Inversion\n",
    "- Curve Inversion Stress\n"
   ]
  },
  {
   "cell_type": "markdown",
   "metadata": {},
   "source": [
    "By applying sensitivity against the Asset Class and Currency, we can see that the 3 peaks are in the order of *Rates & Credit, EUR*, *Forex, EUR* and lastly *Equity, EUR*. "
   ]
  },
  {
   "cell_type": "code",
   "execution_count": 36,
   "metadata": {
    "atoti": {
     "state": {
      "name": "Risk Map",
      "type": "container",
      "value": {
       "body": {
        "configuration": {
         "mapping": {
          "axis": [
           "[Hierarchies].[Investment Portfolio Hierarchy].[Asset Class]",
           "[Hierarchies].[currency].[currency]"
          ],
          "splitBy": [],
          "values": [
           "[Measures].[sensi.SUM]"
          ]
         },
         "type": "plotly-radar-chart"
        },
        "query": {
         "mdx": "SELECT NON EMPTY Crossjoin([Hierarchies].[Investment Portfolio Hierarchy].[Asset Class].Members, [Hierarchies].[currency].[currency].Members) ON ROWS, NON EMPTY [Measures].[sensi.SUM] ON COLUMNS FROM [Position_Sensitivities] CELL PROPERTIES VALUE, FORMATTED_VALUE, BACK_COLOR, FORE_COLOR, FONT_FLAGS",
         "serverUrl": "",
         "updateMode": "once"
        }
       },
       "containerKey": "chart",
       "showTitleBar": false,
       "style": {}
      }
     }
    }
   },
   "outputs": [
    {
     "data": {
      "application/vnd.atoti.v0+json": {
       "cube": "Position_Sensitivities",
       "name": "Risk Map",
       "session": "Unnamed"
      },
      "text/plain": [
       "Install the Atoti JupyterLab extension to see this widget."
      ]
     },
     "metadata": {},
     "output_type": "display_data"
    }
   ],
   "source": [
    "position_sensitivity_cube.visualize(\"Risk Map\")"
   ]
  },
  {
   "cell_type": "markdown",
   "metadata": {},
   "source": [
    "Let's start by setting up a simulation based on *tenor* and *currency*, that fluctuates the *last.VALUE*. \n",
    "We will label the curve derived from the original cube data as *Last Curve*"
   ]
  },
  {
   "cell_type": "code",
   "execution_count": 37,
   "metadata": {},
   "outputs": [],
   "source": [
    "curve_simulation = position_sensitivity_cube.setup_simulation(\n",
    "    \"Curve Simulation\",\n",
    "    per=[lvl[\"tenor\"], lvl[\"currency\"]],\n",
    "    add=[m[\"last.VALUE\"]],\n",
    "    base_scenario_name=\"Last Curve\",\n",
    ")"
   ]
  },
  {
   "cell_type": "markdown",
   "metadata": {},
   "source": [
    "#### Shift Simulation  \n",
    "  \n",
    "A parallel shift in the yield curve happens when the interest rates on all fixed-income maturities increase or decrease by the same number of basis point.  \n",
    "The curve does not change but it shifts to the left or to the right. This is most common when the yield curve is upward sloping.  \n",
    "  \n",
    "This simulation is important for investors who might liquidate their positions before maturity, as the shift can cause bond prices to fluctuate substantially.  \n",
    "Investors could mitigate this risk by reducing the bond duration, alleviate the volatility.\n",
    "  \n",
    "We will simulate parallel shift in yield curve by applying a negative 10 [bps](https://www.investopedia.com/ask/answers/what-basis-point-bps/) shift on the last rate for Euro currency on all Tenor."
   ]
  },
  {
   "cell_type": "code",
   "execution_count": 38,
   "metadata": {},
   "outputs": [],
   "source": [
    "# create the scenario\n",
    "curve_shift = curve_simulation.scenarios[\"Curve Parallel Shift\"]"
   ]
  },
  {
   "cell_type": "code",
   "execution_count": 39,
   "metadata": {},
   "outputs": [],
   "source": [
    "# state the condition of the scenario. -0.001 will be added to the last.VALUE for EUR\n",
    "curve_shift += (\"*\", \"EUR\", -0.001, tt.simulation.Priority.CRITICAL)"
   ]
  },
  {
   "cell_type": "code",
   "execution_count": 40,
   "metadata": {},
   "outputs": [
    {
     "data": {
      "text/html": [
       "<div>\n",
       "<style scoped>\n",
       "    .dataframe tbody tr th:only-of-type {\n",
       "        vertical-align: middle;\n",
       "    }\n",
       "\n",
       "    .dataframe tbody tr th {\n",
       "        vertical-align: top;\n",
       "    }\n",
       "\n",
       "    .dataframe thead th {\n",
       "        text-align: right;\n",
       "    }\n",
       "</style>\n",
       "<table border=\"1\" class=\"dataframe\">\n",
       "  <thead>\n",
       "    <tr style=\"text-align: right;\">\n",
       "      <th></th>\n",
       "      <th></th>\n",
       "      <th>Curve Simulation_last.VALUE_add</th>\n",
       "      <th>Priority</th>\n",
       "    </tr>\n",
       "    <tr>\n",
       "      <th>tenor</th>\n",
       "      <th>currency</th>\n",
       "      <th></th>\n",
       "      <th></th>\n",
       "    </tr>\n",
       "  </thead>\n",
       "  <tbody>\n",
       "    <tr>\n",
       "      <th>*</th>\n",
       "      <th>EUR</th>\n",
       "      <td>-0.001</td>\n",
       "      <td>3.0</td>\n",
       "    </tr>\n",
       "  </tbody>\n",
       "</table>\n",
       "</div>"
      ],
      "text/plain": [
       "                Curve Simulation_last.VALUE_add  Priority\n",
       "tenor currency                                           \n",
       "*     EUR                                -0.001       3.0"
      ]
     },
     "execution_count": 40,
     "metadata": {},
     "output_type": "execute_result"
    }
   ],
   "source": [
    "# preview the condition of the simulation\n",
    "curve_shift.head(5)"
   ]
  },
  {
   "cell_type": "markdown",
   "metadata": {},
   "source": [
    "##### Explore Curve Parallel Shift scenario impact on Theoretical PnL  \n",
    "  \n",
    "We see that while the curve retains its shape, all the data points moved to the right of the graph."
   ]
  },
  {
   "cell_type": "code",
   "execution_count": 42,
   "metadata": {
    "activeviam": {
     "state": {
      "name": "Yield Curve Curve Parallel Shift",
      "type": "container",
      "value": {
       "body": {
        "configuration": {
         "mapping": {
          "splitBy": [],
          "values": [
           "[Measures].[start_of_day.VALUE]",
           "[Measures].[last.VALUE]"
          ],
          "xAxis": [
           "[Hierarchies].[tenor].[tenor]"
          ]
         },
         "type": "plotly-line-chart"
        },
        "query": {
         "mdx": "SELECT NON EMPTY [Hierarchies].[tenor].[tenor].Members ON ROWS, NON EMPTY {[Measures].[start_of_day.VALUE], [Measures].[last.VALUE]} ON COLUMNS FROM [Position_Sensitivities] WHERE ([Measure Simulations].[Curve Simulation].[Curve Simulation].[Curve Parallel Shift], [Hierarchies].[currency].[ALL].[AllMember].[EUR]) CELL PROPERTIES VALUE, FORMATTED_VALUE, BACK_COLOR, FORE_COLOR, FONT_FLAGS",
         "serverUrl": "",
         "updateMode": "once"
        }
       },
       "containerKey": "chart",
       "showTitleBar": false,
       "style": {}
      }
     }
    },
    "atoti": {
     "height": 347,
     "state": {
      "name": "Yield Curve Curve Parallel Shift",
      "type": "container",
      "value": {
       "body": {
        "configuration": {
         "mapping": {
          "horizontal": [],
          "splitBy": [
           "[Measure Simulations].[Curve Simulation].[Curve Simulation]"
          ],
          "values": [
           "[Measures].[start_of_day.VALUE]",
           "[Measures].[last.VALUE]"
          ],
          "vertical": [],
          "xAxis": [
           "[Hierarchies].[tenor].[tenor]"
          ]
         },
         "type": "plotly-line-chart"
        },
        "query": {
         "mdx": "SELECT NON EMPTY {[Measures].[start_of_day.VALUE], [Measures].[last.VALUE]} ON COLUMNS, NON EMPTY Crossjoin([Hierarchies].[tenor].[tenor].Members, [Measure Simulations].[Curve Simulation].[Curve Simulation].Members) ON ROWS FROM (SELECT {[Measure Simulations].[Curve Simulation].[Curve Simulation].[Curve Parallel Shift], [Measure Simulations].[Curve Simulation].[Curve Simulation].[Last Curve]} ON COLUMNS FROM [Position_Sensitivities] WHERE [Hierarchies].[currency].[ALL].[AllMember].[EUR]) WHERE [Hierarchies].[currency].[ALL].[AllMember].[EUR] CELL PROPERTIES VALUE, FORMATTED_VALUE, BACK_COLOR, FORE_COLOR, FONT_FLAGS",
         "serverUrl": "",
         "updateMode": "once"
        }
       },
       "containerKey": "chart",
       "showTitleBar": false,
       "style": {}
      }
     }
    }
   },
   "outputs": [
    {
     "data": {
      "application/vnd.atoti.v0+json": {
       "cube": "Position_Sensitivities",
       "name": "Yield Curve Curve Parallel Shift",
       "session": "Unnamed"
      },
      "text/plain": [
       "Install the Atoti JupyterLab extension to see this widget."
      ]
     },
     "metadata": {},
     "output_type": "display_data"
    }
   ],
   "source": [
    "position_sensitivity_cube.visualize(\"Yield Curve Curve Parallel Shift\")"
   ]
  },
  {
   "cell_type": "markdown",
   "metadata": {},
   "source": [
    "Let's now go into the investment portfolio to see the impact of this shift on the *Theoretical PnL*.  \\\n",
    "We see the *Theoretical PnL* went negative on a 10bps shift, with *Rates & Credit* suffering the most loss.  "
   ]
  },
  {
   "cell_type": "code",
   "execution_count": 44,
   "metadata": {
    "activeviam": {
     "state": {
      "name": "Theoretical PnL Parallel Shift",
      "type": "container",
      "value": {
       "body": {
        "configuration": {
         "mapping": {
          "splitBy": [
           "[Measure Simulations].[Curve Simulation].[Curve Simulation]"
          ],
          "values": [
           "[Measures].[Theoretical PnL]"
          ],
          "yAxis": [
           "[Hierarchies].[Investment Portfolio Hierarchy].[Asset Class]"
          ]
         },
         "type": "plotly-clustered-bar-chart"
        },
        "query": {
         "mdx": "SELECT NON EMPTY Crossjoin([Hierarchies].[Investment Portfolio Hierarchy].[Asset Class].Members, [Measure Simulations].[Curve Simulation].[Curve Simulation].Members) ON ROWS, NON EMPTY [Measures].[Theoretical PnL] ON COLUMNS FROM [Position_Sensitivities] CELL PROPERTIES VALUE, FORMATTED_VALUE, BACK_COLOR, FORE_COLOR, FONT_FLAGS",
         "serverUrl": "",
         "updateMode": "once"
        }
       },
       "containerKey": "chart",
       "showTitleBar": false,
       "style": {}
      }
     }
    },
    "atoti": {
     "state": {
      "name": "Theoretical PnL Parallel Shift - Investment Portfolio",
      "type": "container",
      "value": {
       "body": {
        "configuration": {
         "mapping": {
          "horizontal": [],
          "splitBy": [
           "[Measure Simulations].[Curve Simulation].[Curve Simulation]"
          ],
          "values": [
           "[Measures].[Theoretical PnL]"
          ],
          "vertical": [],
          "yAxis": [
           "[Hierarchies].[Investment Portfolio Hierarchy].[Asset Class]"
          ]
         },
         "type": "plotly-clustered-bar-chart"
        },
        "query": {
         "mdx": "SELECT NON EMPTY [Measures].[Theoretical PnL] ON COLUMNS, NON EMPTY Crossjoin([Hierarchies].[Investment Portfolio Hierarchy].[Asset Class].Members, [Measure Simulations].[Curve Simulation].[Curve Simulation].Members) ON ROWS FROM (SELECT {[Measure Simulations].[Curve Simulation].[Curve Simulation].[Curve Parallel Shift], [Measure Simulations].[Curve Simulation].[Curve Simulation].[Last Curve]} ON COLUMNS FROM [Position_Sensitivities] WHERE [Hierarchies].[currency].[ALL].[AllMember].[EUR]) WHERE [Hierarchies].[currency].[ALL].[AllMember].[EUR] CELL PROPERTIES VALUE, FORMATTED_VALUE, BACK_COLOR, FORE_COLOR, FONT_FLAGS",
         "serverUrl": "",
         "updateMode": "once"
        }
       },
       "containerKey": "chart",
       "showTitleBar": false,
       "style": {}
      }
     }
    }
   },
   "outputs": [
    {
     "data": {
      "application/vnd.atoti.v0+json": {
       "cube": "Position_Sensitivities",
       "name": "Theoretical PnL Parallel Shift - Investment Portfolio",
       "session": "Unnamed"
      },
      "text/plain": [
       "Install the Atoti JupyterLab extension to see this widget."
      ]
     },
     "metadata": {},
     "output_type": "display_data"
    }
   ],
   "source": [
    "position_sensitivity_cube.visualize(\n",
    "    \"Theoretical PnL Parallel Shift - Investment Portfolio\"\n",
    ")"
   ]
  },
  {
   "cell_type": "markdown",
   "metadata": {},
   "source": [
    "#### Curve Inversion Simulation\n",
    "\n",
    "An inverted yield curve is a predictor of economic recession as it implies that interest rates are going to fall. In fact, recessions usually cause interest rates to fall.  \n",
    "  \n",
    "Short-term bills are expected to plummet if recession is coming, as Federal Reserve will lower the fed funds rate when economy slows down. Therefore investors may avoid Treasurys with maturities of less than two years to have a safe investment. This sets back the demand for those bills and sends their yields up. Higher demands in the longer-term instruments lower the yields, hence an inverted curve occurs."
   ]
  },
  {
   "cell_type": "markdown",
   "metadata": {},
   "source": [
    "Let's run a simulation on the currency EUR and see the impact on the *Theoretical PnL*.\n",
    "We will set a negative 20bps on `last.VALUE` for the currency EUR for tenors 5Y and above and observe the change in the curve shape."
   ]
  },
  {
   "cell_type": "code",
   "execution_count": 45,
   "metadata": {},
   "outputs": [],
   "source": [
    "curve_inversion = curve_simulation.scenarios[\"Curve Inversion\"]"
   ]
  },
  {
   "cell_type": "code",
   "execution_count": 46,
   "metadata": {},
   "outputs": [],
   "source": [
    "curve_inversion += (\"5Y\", \"EUR\", -0.002, tt.simulation.Priority.CRITICAL)\n",
    "curve_inversion += (\"6Y\", \"EUR\", -0.002, tt.simulation.Priority.CRITICAL)\n",
    "curve_inversion += (\"7Y\", \"EUR\", -0.002, tt.simulation.Priority.CRITICAL)\n",
    "curve_inversion += (\"8Y\", \"EUR\", -0.002, tt.simulation.Priority.CRITICAL)\n",
    "curve_inversion += (\"9Y\", \"EUR\", -0.002, tt.simulation.Priority.CRITICAL)"
   ]
  },
  {
   "cell_type": "code",
   "execution_count": 47,
   "metadata": {},
   "outputs": [
    {
     "data": {
      "text/html": [
       "<div>\n",
       "<style scoped>\n",
       "    .dataframe tbody tr th:only-of-type {\n",
       "        vertical-align: middle;\n",
       "    }\n",
       "\n",
       "    .dataframe tbody tr th {\n",
       "        vertical-align: top;\n",
       "    }\n",
       "\n",
       "    .dataframe thead th {\n",
       "        text-align: right;\n",
       "    }\n",
       "</style>\n",
       "<table border=\"1\" class=\"dataframe\">\n",
       "  <thead>\n",
       "    <tr style=\"text-align: right;\">\n",
       "      <th></th>\n",
       "      <th></th>\n",
       "      <th>Curve Simulation_last.VALUE_add</th>\n",
       "      <th>Priority</th>\n",
       "    </tr>\n",
       "    <tr>\n",
       "      <th>tenor</th>\n",
       "      <th>currency</th>\n",
       "      <th></th>\n",
       "      <th></th>\n",
       "    </tr>\n",
       "  </thead>\n",
       "  <tbody>\n",
       "    <tr>\n",
       "      <th>5Y</th>\n",
       "      <th>EUR</th>\n",
       "      <td>-0.002</td>\n",
       "      <td>3.0</td>\n",
       "    </tr>\n",
       "    <tr>\n",
       "      <th>6Y</th>\n",
       "      <th>EUR</th>\n",
       "      <td>-0.002</td>\n",
       "      <td>3.0</td>\n",
       "    </tr>\n",
       "    <tr>\n",
       "      <th>7Y</th>\n",
       "      <th>EUR</th>\n",
       "      <td>-0.002</td>\n",
       "      <td>3.0</td>\n",
       "    </tr>\n",
       "    <tr>\n",
       "      <th>8Y</th>\n",
       "      <th>EUR</th>\n",
       "      <td>-0.002</td>\n",
       "      <td>3.0</td>\n",
       "    </tr>\n",
       "    <tr>\n",
       "      <th>9Y</th>\n",
       "      <th>EUR</th>\n",
       "      <td>-0.002</td>\n",
       "      <td>3.0</td>\n",
       "    </tr>\n",
       "  </tbody>\n",
       "</table>\n",
       "</div>"
      ],
      "text/plain": [
       "                Curve Simulation_last.VALUE_add  Priority\n",
       "tenor currency                                           \n",
       "5Y    EUR                                -0.002       3.0\n",
       "6Y    EUR                                -0.002       3.0\n",
       "7Y    EUR                                -0.002       3.0\n",
       "8Y    EUR                                -0.002       3.0\n",
       "9Y    EUR                                -0.002       3.0"
      ]
     },
     "execution_count": 47,
     "metadata": {},
     "output_type": "execute_result"
    }
   ],
   "source": [
    "curve_inversion.head(5)"
   ]
  },
  {
   "cell_type": "markdown",
   "metadata": {},
   "source": [
    "##### Explore Curve Inversion scenario impact on Theoretical PnL  \n",
    "  \n",
    "We see a slight inversion in the curve from the tenor 4Y to 5Y before it becomes a shift to the right, as in the case of a parallel shift.  \n",
    "In this case, we predict that the yields will dip for instruments with more than 5Y maturity."
   ]
  },
  {
   "cell_type": "code",
   "execution_count": 49,
   "metadata": {
    "activeviam": {
     "state": {
      "name": "Yield Curve Inversion",
      "type": "container",
      "value": {
       "body": {
        "configuration": {
         "mapping": {
          "splitBy": [],
          "values": [
           "[Measures].[last.VALUE]",
           "[Measures].[start_of_day.VALUE]"
          ],
          "xAxis": [
           "[Hierarchies].[tenor].[tenor]"
          ]
         },
         "type": "plotly-line-chart"
        },
        "query": {
         "mdx": "SELECT NON EMPTY [Hierarchies].[tenor].[tenor].Members ON ROWS, NON EMPTY {[Measures].[last.VALUE], [Measures].[start_of_day.VALUE]} ON COLUMNS FROM [Position_Sensitivities] WHERE ([Hierarchies].[currency].[ALL].[AllMember].[EUR], [Measure Simulations].[Curve Simulation].[Curve Simulation].[Curve Inversion]) CELL PROPERTIES VALUE, FORMATTED_VALUE, BACK_COLOR, FORE_COLOR, FONT_FLAGS",
         "serverUrl": "",
         "updateMode": "once"
        }
       },
       "containerKey": "chart",
       "showTitleBar": false,
       "style": {}
      }
     }
    },
    "atoti": {
     "state": {
      "name": "Yield Curve Inversion",
      "type": "container",
      "value": {
       "body": {
        "configuration": {
         "mapping": {
          "horizontal": [],
          "splitBy": [
           "[Measure Simulations].[Curve Simulation].[Curve Simulation]"
          ],
          "values": [
           "[Measures].[last.VALUE]",
           "[Measures].[start_of_day.VALUE]"
          ],
          "vertical": [],
          "xAxis": [
           "[Hierarchies].[tenor].[tenor]"
          ]
         },
         "type": "plotly-line-chart"
        },
        "query": {
         "mdx": "SELECT NON EMPTY {[Measures].[last.VALUE], [Measures].[start_of_day.VALUE]} ON COLUMNS, NON EMPTY Crossjoin([Hierarchies].[tenor].[tenor].Members, [Measure Simulations].[Curve Simulation].[Curve Simulation].Members) ON ROWS FROM (SELECT {[Measure Simulations].[Curve Simulation].[Curve Simulation].[Curve Inversion], [Measure Simulations].[Curve Simulation].[Curve Simulation].[Last Curve]} ON COLUMNS FROM [Position_Sensitivities]) WHERE [Hierarchies].[currency].[ALL].[AllMember].[EUR] CELL PROPERTIES VALUE, FORMATTED_VALUE, BACK_COLOR, FORE_COLOR, FONT_FLAGS",
         "serverUrl": "",
         "updateMode": "once"
        }
       },
       "containerKey": "chart",
       "showTitleBar": false,
       "style": {}
      }
     }
    }
   },
   "outputs": [
    {
     "data": {
      "application/vnd.atoti.v0+json": {
       "cube": "Position_Sensitivities",
       "name": "Yield Curve Inversion",
       "session": "Unnamed"
      },
      "text/plain": [
       "Install the Atoti JupyterLab extension to see this widget."
      ]
     },
     "metadata": {},
     "output_type": "display_data"
    }
   ],
   "source": [
    "position_sensitivity_cube.visualize(\"Yield Curve Inversion\")"
   ]
  },
  {
   "cell_type": "markdown",
   "metadata": {},
   "source": [
    "As expected, we can see drastic drop in the *Theoretical PnL* across all the asset classes, the greatest loss incurred in the asset class *Rates & Credit*."
   ]
  },
  {
   "cell_type": "code",
   "execution_count": 51,
   "metadata": {
    "activeviam": {
     "state": {
      "name": "Theoretical PnL Curve Inversion",
      "type": "container",
      "value": {
       "body": {
        "configuration": {
         "mapping": {
          "splitBy": [
           "[Measure Simulations].[Curve Simulation].[Curve Simulation]"
          ],
          "values": [
           "[Measures].[Theoretical PnL]"
          ],
          "yAxis": [
           "[Hierarchies].[Investment Portfolio Hierarchy].[Asset Class]"
          ]
         },
         "type": "plotly-clustered-bar-chart"
        },
        "query": {
         "mdx": "SELECT NON EMPTY Crossjoin([Hierarchies].[Investment Portfolio Hierarchy].[Asset Class].Members, [Measure Simulations].[Curve Simulation].[Curve Simulation].Members) ON ROWS, NON EMPTY [Measures].[Theoretical PnL] ON COLUMNS FROM [Position_Sensitivities] CELL PROPERTIES VALUE, FORMATTED_VALUE, BACK_COLOR, FORE_COLOR, FONT_FLAGS",
         "serverUrl": "",
         "updateMode": "once"
        }
       },
       "containerKey": "chart",
       "showTitleBar": false,
       "style": {}
      }
     }
    },
    "atoti": {
     "state": {
      "name": "Theoretical PnL Curve Inversion",
      "type": "container",
      "value": {
       "body": {
        "configuration": {
         "mapping": {
          "horizontal": [],
          "splitBy": [
           "[Measure Simulations].[Curve Simulation].[Curve Simulation]"
          ],
          "values": [
           "[Measures].[Theoretical PnL]"
          ],
          "vertical": [],
          "yAxis": [
           "[Hierarchies].[Investment Portfolio Hierarchy].[Asset Class]"
          ]
         },
         "type": "plotly-clustered-bar-chart"
        },
        "query": {
         "mdx": "SELECT NON EMPTY [Measures].[Theoretical PnL] ON COLUMNS, NON EMPTY Crossjoin([Hierarchies].[Investment Portfolio Hierarchy].[Asset Class].Members, [Measure Simulations].[Curve Simulation].[Curve Simulation].Members) ON ROWS FROM (SELECT {[Measure Simulations].[Curve Simulation].[Curve Simulation].[Curve Inversion], [Measure Simulations].[Curve Simulation].[Curve Simulation].[Last Curve]} ON COLUMNS FROM [Position_Sensitivities]) WHERE [Hierarchies].[currency].[ALL].[AllMember].[EUR] CELL PROPERTIES VALUE, FORMATTED_VALUE, BACK_COLOR, FORE_COLOR, FONT_FLAGS",
         "serverUrl": "",
         "updateMode": "once"
        }
       },
       "containerKey": "chart",
       "showTitleBar": false,
       "style": {}
      }
     }
    }
   },
   "outputs": [
    {
     "data": {
      "application/vnd.atoti.v0+json": {
       "cube": "Position_Sensitivities",
       "name": "Theoretical PnL Curve Inversion",
       "session": "Unnamed"
      },
      "text/plain": [
       "Install the Atoti JupyterLab extension to see this widget."
      ]
     },
     "metadata": {},
     "output_type": "display_data"
    }
   ],
   "source": [
    "position_sensitivity_cube.visualize(\"Theoretical PnL Curve Inversion\")"
   ]
  },
  {
   "cell_type": "code",
   "execution_count": 53,
   "metadata": {
    "atoti": {
     "state": {
      "name": "Theoretical PnL against Tenor",
      "type": "container",
      "value": {
       "body": {
        "configuration": {
         "mapping": {
          "horizontal": [],
          "splitBy": [
           "[Measure Simulations].[Curve Simulation].[Curve Simulation]",
           "[Hierarchies].[Investment Portfolio Hierarchy].[Asset Class]"
          ],
          "values": [
           "[Measures].[Theoretical PnL]"
          ],
          "vertical": [],
          "xAxis": [
           "[Hierarchies].[tenor].[tenor]"
          ]
         },
         "type": "plotly-clustered-column-chart"
        },
        "query": {
         "mdx": "SELECT NON EMPTY Crossjoin([Hierarchies].[tenor].[tenor].Members, [Measure Simulations].[Curve Simulation].[Curve Simulation].Members, [Hierarchies].[Investment Portfolio Hierarchy].[Asset Class].Members) ON ROWS, NON EMPTY [Measures].[Theoretical PnL] ON COLUMNS FROM (SELECT {[Measure Simulations].[Curve Simulation].[Curve Simulation].[Curve Inversion], [Measure Simulations].[Curve Simulation].[Curve Simulation].[Last Curve]} ON COLUMNS FROM [Position_Sensitivities]) CELL PROPERTIES VALUE, FORMATTED_VALUE, BACK_COLOR, FORE_COLOR, FONT_FLAGS",
         "serverUrl": "",
         "updateMode": "once"
        }
       },
       "containerKey": "chart",
       "showTitleBar": false,
       "style": {}
      }
     }
    }
   },
   "outputs": [
    {
     "data": {
      "application/vnd.atoti.v0+json": {
       "cube": "Position_Sensitivities",
       "name": "Theoretical PnL against Tenor",
       "session": "Unnamed"
      },
      "text/plain": [
       "Install the Atoti JupyterLab extension to see this widget."
      ]
     },
     "metadata": {},
     "output_type": "display_data"
    }
   ],
   "source": [
    "position_sensitivity_cube.visualize(\"Theoretical PnL against Tenor\")"
   ]
  },
  {
   "cell_type": "markdown",
   "metadata": {},
   "source": [
    "#### Curve Inversion Stress Simulation  \n",
    "  \n",
    "We will create a new scenario where we stress the curve further by assuming further drops in rates for the longer-term instruments.  "
   ]
  },
  {
   "cell_type": "code",
   "execution_count": 54,
   "metadata": {},
   "outputs": [],
   "source": [
    "curve_inversion_stress = curve_simulation.scenarios[\"Curve Inversion Stress\"]"
   ]
  },
  {
   "cell_type": "code",
   "execution_count": 55,
   "metadata": {},
   "outputs": [],
   "source": [
    "curve_inversion_stress += (\"5Y\", \"EUR\", -0.002, tt.simulation.Priority.CRITICAL)\n",
    "curve_inversion_stress += (\"6Y\", \"EUR\", -0.002, tt.simulation.Priority.CRITICAL)\n",
    "curve_inversion_stress += (\"7Y\", \"EUR\", -0.004, tt.simulation.Priority.CRITICAL)\n",
    "curve_inversion_stress += (\"8Y\", \"EUR\", -0.004, tt.simulation.Priority.CRITICAL)\n",
    "curve_inversion_stress += (\"9Y\", \"EUR\", -0.004, tt.simulation.Priority.CRITICAL)"
   ]
  },
  {
   "cell_type": "code",
   "execution_count": 56,
   "metadata": {},
   "outputs": [
    {
     "data": {
      "text/html": [
       "<div>\n",
       "<style scoped>\n",
       "    .dataframe tbody tr th:only-of-type {\n",
       "        vertical-align: middle;\n",
       "    }\n",
       "\n",
       "    .dataframe tbody tr th {\n",
       "        vertical-align: top;\n",
       "    }\n",
       "\n",
       "    .dataframe thead th {\n",
       "        text-align: right;\n",
       "    }\n",
       "</style>\n",
       "<table border=\"1\" class=\"dataframe\">\n",
       "  <thead>\n",
       "    <tr style=\"text-align: right;\">\n",
       "      <th></th>\n",
       "      <th></th>\n",
       "      <th>Curve Simulation_last.VALUE_add</th>\n",
       "      <th>Priority</th>\n",
       "    </tr>\n",
       "    <tr>\n",
       "      <th>tenor</th>\n",
       "      <th>currency</th>\n",
       "      <th></th>\n",
       "      <th></th>\n",
       "    </tr>\n",
       "  </thead>\n",
       "  <tbody>\n",
       "    <tr>\n",
       "      <th>5Y</th>\n",
       "      <th>EUR</th>\n",
       "      <td>-0.002</td>\n",
       "      <td>3.0</td>\n",
       "    </tr>\n",
       "    <tr>\n",
       "      <th>6Y</th>\n",
       "      <th>EUR</th>\n",
       "      <td>-0.002</td>\n",
       "      <td>3.0</td>\n",
       "    </tr>\n",
       "    <tr>\n",
       "      <th>7Y</th>\n",
       "      <th>EUR</th>\n",
       "      <td>-0.004</td>\n",
       "      <td>3.0</td>\n",
       "    </tr>\n",
       "    <tr>\n",
       "      <th>8Y</th>\n",
       "      <th>EUR</th>\n",
       "      <td>-0.004</td>\n",
       "      <td>3.0</td>\n",
       "    </tr>\n",
       "    <tr>\n",
       "      <th>9Y</th>\n",
       "      <th>EUR</th>\n",
       "      <td>-0.004</td>\n",
       "      <td>3.0</td>\n",
       "    </tr>\n",
       "  </tbody>\n",
       "</table>\n",
       "</div>"
      ],
      "text/plain": [
       "                Curve Simulation_last.VALUE_add  Priority\n",
       "tenor currency                                           \n",
       "5Y    EUR                                -0.002       3.0\n",
       "6Y    EUR                                -0.002       3.0\n",
       "7Y    EUR                                -0.004       3.0\n",
       "8Y    EUR                                -0.004       3.0\n",
       "9Y    EUR                                -0.004       3.0"
      ]
     },
     "execution_count": 56,
     "metadata": {},
     "output_type": "execute_result"
    }
   ],
   "source": [
    "curve_inversion_stress.head(5)"
   ]
  },
  {
   "cell_type": "markdown",
   "metadata": {},
   "source": [
    "##### Explore Curve Inversion Stress scenario impact on Theoretical PnL  \n",
    "  \n",
    "We see the curve is starting to slope more downward."
   ]
  },
  {
   "cell_type": "code",
   "execution_count": 58,
   "metadata": {
    "activeviam": {
     "state": {
      "name": "Yield Curve Inversion Stress",
      "type": "container",
      "value": {
       "body": {
        "configuration": {
         "mapping": {
          "splitBy": [],
          "values": [
           "[Measures].[start_of_day.VALUE]",
           "[Measures].[last.VALUE]"
          ],
          "xAxis": [
           "[Hierarchies].[tenor].[tenor]"
          ]
         },
         "type": "plotly-line-chart"
        },
        "query": {
         "mdx": "SELECT NON EMPTY [Hierarchies].[tenor].[tenor].Members ON ROWS, NON EMPTY {[Measures].[start_of_day.VALUE], [Measures].[last.VALUE]} ON COLUMNS FROM [Position_Sensitivities] WHERE ([Hierarchies].[currency].[ALL].[AllMember].[EUR], [Measure Simulations].[Curve Simulation].[Curve Simulation].[Curve Inversion Stress]) CELL PROPERTIES VALUE, FORMATTED_VALUE, BACK_COLOR, FORE_COLOR, FONT_FLAGS",
         "serverUrl": "",
         "updateMode": "once"
        }
       },
       "containerKey": "chart",
       "showTitleBar": false,
       "style": {}
      }
     }
    },
    "atoti": {
     "state": {
      "name": "Yield Curve Inversion Stress",
      "type": "container",
      "value": {
       "body": {
        "configuration": {
         "mapping": {
          "horizontal": [],
          "splitBy": [
           "[Measure Simulations].[Curve Simulation].[Curve Simulation]"
          ],
          "values": [
           "[Measures].[start_of_day.VALUE]",
           "[Measures].[last.VALUE]"
          ],
          "vertical": [],
          "xAxis": [
           "[Hierarchies].[tenor].[tenor]"
          ]
         },
         "type": "plotly-line-chart"
        },
        "query": {
         "mdx": "SELECT NON EMPTY {[Measures].[start_of_day.VALUE], [Measures].[last.VALUE]} ON COLUMNS, NON EMPTY Crossjoin([Hierarchies].[tenor].[tenor].Members, [Measure Simulations].[Curve Simulation].[Curve Simulation].Members) ON ROWS FROM (SELECT {[Measure Simulations].[Curve Simulation].[Curve Simulation].[Curve Inversion Stress], [Measure Simulations].[Curve Simulation].[Curve Simulation].[Last Curve]} ON COLUMNS FROM [Position_Sensitivities]) WHERE [Hierarchies].[currency].[ALL].[AllMember].[EUR] CELL PROPERTIES VALUE, FORMATTED_VALUE, BACK_COLOR, FORE_COLOR, FONT_FLAGS",
         "serverUrl": "",
         "updateMode": "once"
        }
       },
       "containerKey": "chart",
       "showTitleBar": false,
       "style": {}
      }
     }
    }
   },
   "outputs": [
    {
     "data": {
      "application/vnd.atoti.v0+json": {
       "cube": "Position_Sensitivities",
       "name": "Yield Curve Inversion Stress",
       "session": "Unnamed"
      },
      "text/plain": [
       "Install the Atoti JupyterLab extension to see this widget."
      ]
     },
     "metadata": {},
     "output_type": "display_data"
    }
   ],
   "source": [
    "position_sensitivity_cube.visualize(\"Yield Curve Inversion Stress\")"
   ]
  },
  {
   "cell_type": "markdown",
   "metadata": {},
   "source": [
    "We see the downward slope dipped further in the stress scenario."
   ]
  },
  {
   "cell_type": "code",
   "execution_count": 60,
   "metadata": {
    "activeviam": {
     "state": {
      "name": "Theoretical PnL Curve Inversion Stress",
      "type": "container",
      "value": {
       "body": {
        "configuration": {
         "mapping": {
          "splitBy": [
           "[Measure Simulations].[Curve Simulation].[Curve Simulation]"
          ],
          "values": [
           "[Measures].[Theoretical PnL]"
          ],
          "xAxis": [
           "[Hierarchies].[Investment Portfolio Hierarchy].[Asset Class]"
          ]
         },
         "switchedTo": "plotly-clustered-bar-chart",
         "type": "plotly-line-chart"
        },
        "query": {
         "mdx": "SELECT NON EMPTY Crossjoin([Hierarchies].[Investment Portfolio Hierarchy].[Asset Class].Members, [Measure Simulations].[Curve Simulation].[Curve Simulation].Members) ON ROWS, NON EMPTY [Measures].[Theoretical PnL] ON COLUMNS FROM [Position_Sensitivities] CELL PROPERTIES VALUE, FORMATTED_VALUE, BACK_COLOR, FORE_COLOR, FONT_FLAGS",
         "serverUrl": "",
         "updateMode": "once"
        }
       },
       "containerKey": "chart",
       "showTitleBar": false,
       "style": {}
      }
     }
    },
    "atoti": {
     "state": {
      "name": "Theoretical PnL Curve Inversion Stress",
      "type": "container",
      "value": {
       "body": {
        "configuration": {
         "mapping": {
          "horizontal": [],
          "splitBy": [
           "[Measure Simulations].[Curve Simulation].[Curve Simulation]"
          ],
          "values": [
           "[Measures].[Theoretical PnL]"
          ],
          "vertical": [],
          "xAxis": [
           "[Hierarchies].[tenor].[tenor]"
          ]
         },
         "type": "plotly-line-chart"
        },
        "query": {
         "mdx": "SELECT NON EMPTY Crossjoin([Hierarchies].[tenor].[tenor].Members, [Measure Simulations].[Curve Simulation].[Curve Simulation].Members) ON ROWS, NON EMPTY [Measures].[Theoretical PnL] ON COLUMNS FROM (SELECT {[Measure Simulations].[Curve Simulation].[Curve Simulation].[Curve Inversion Stress], [Measure Simulations].[Curve Simulation].[Curve Simulation].[Curve Inversion], [Measure Simulations].[Curve Simulation].[Curve Simulation].[Last Curve]} ON COLUMNS FROM [Position_Sensitivities]) CELL PROPERTIES VALUE, FORMATTED_VALUE, BACK_COLOR, FORE_COLOR, FONT_FLAGS",
         "serverUrl": "",
         "updateMode": "once"
        }
       },
       "containerKey": "chart",
       "showTitleBar": false,
       "style": {}
      }
     }
    }
   },
   "outputs": [
    {
     "data": {
      "application/vnd.atoti.v0+json": {
       "cube": "Position_Sensitivities",
       "name": "Theoretical PnL Curve Inversion Stress",
       "session": "Unnamed"
      },
      "text/plain": [
       "Install the Atoti JupyterLab extension to see this widget."
      ]
     },
     "metadata": {},
     "output_type": "display_data"
    }
   ],
   "source": [
    "position_sensitivity_cube.visualize(\"Theoretical PnL Curve Inversion Stress\")"
   ]
  },
  {
   "cell_type": "code",
   "execution_count": 62,
   "metadata": {
    "activeviam": {
     "state": {
      "name": "Scenarios Comparaison",
      "type": "container",
      "value": {
       "body": {
        "configuration": {
         "featuredValues": {}
        },
        "contextValues": {},
        "mdx": "SELECT {[Measure Simulations].[Curve Simulation].[Curve Inversion], [Measure Simulations].[Curve Simulation].[Curve Inversion Stress]} ON PAGES, NON EMPTY [Measures].[Theoretical PnL] ON COLUMNS, NON EMPTY Hierarchize(DrilldownLevel([Hierarchies].[trading_desk].[ALL].[AllMember])) ON ROWS FROM [Position_Sensitivities] CELL PROPERTIES VALUE, FORMATTED_VALUE, BACK_COLOR, FORE_COLOR, FONT_FLAGS",
        "ranges": {
         "column": {
          "chunkSize": 20,
          "thresholdPercentage": 0.1
         },
         "row": {
          "chunkSize": 20,
          "thresholdPercentage": 0.1
         }
        },
        "serverUrl": "",
        "updateMode": "once"
       },
       "containerKey": "featured-values",
       "showTitleBar": false,
       "style": {}
      }
     }
    },
    "atoti": {
     "state": {
      "name": "Scenarios Comparison",
      "type": "container",
      "value": {
       "body": {
        "configuration": {
         "featuredValues": {}
        },
        "contextValues": {},
        "mdx": "SELECT {[Measure Simulations].[Curve Simulation].[Curve Inversion Stress], [Measure Simulations].[Curve Simulation].[Curve Inversion]} ON PAGES, NON EMPTY [Measures].[Theoretical PnL] ON COLUMNS, NON EMPTY Hierarchize(DrilldownLevel([Hierarchies].[trading_desk].[ALL].[AllMember])) ON ROWS FROM [Position_Sensitivities] CELL PROPERTIES VALUE, FORMATTED_VALUE, BACK_COLOR, FORE_COLOR, FONT_FLAGS",
        "ranges": {
         "column": {
          "chunkSize": 20,
          "thresholdPercentage": 0.1
         },
         "row": {
          "chunkSize": 20,
          "thresholdPercentage": 0.1
         }
        },
        "serverUrl": "",
        "updateMode": "once"
       },
       "containerKey": "featured-values",
       "showTitleBar": false,
       "style": {}
      }
     }
    }
   },
   "outputs": [
    {
     "data": {
      "application/vnd.atoti.v0+json": {
       "cube": "Position_Sensitivities",
       "name": "Scenarios Comparison",
       "session": "Unnamed"
      },
      "text/plain": [
       "Install the Atoti JupyterLab extension to see this widget."
      ]
     },
     "metadata": {},
     "output_type": "display_data"
    }
   ],
   "source": [
    "position_sensitivity_cube.visualize(\"Scenarios Comparison\")"
   ]
  },
  {
   "cell_type": "markdown",
   "metadata": {},
   "source": [
    "### Build Your Standalone App using Atoti UI:\n",
    "\n",
    "* Publish Yield Curve and PnL Views\n",
    "* Add Page Quick filters\n",
    "* Compare scenarios\n",
    "* Save Dashboards  \n",
    "  \n",
    "You can access Atoti UI with the link below:"
   ]
  },
  {
   "cell_type": "code",
   "execution_count": 63,
   "metadata": {},
   "outputs": [
    {
     "data": {
      "text/plain": [
       "'http://localhost:36393'"
      ]
     },
     "execution_count": 63,
     "metadata": {},
     "output_type": "execute_result"
    }
   ],
   "source": [
    "session.url"
   ]
  },
  {
   "cell_type": "markdown",
   "metadata": {},
   "source": [
    "We can publish the visualizations above as widgets to Atoti UI. Click on *Open App* when you have published all the widgets of interest.  \n",
    "\n",
    "<img src=\"http://data.atoti.io/notebooks/pnl-explained/publish_widget.gif\" alt=\"publish widget\" style=\"zoom:40%;\" />"
   ]
  },
  {
   "cell_type": "markdown",
   "metadata": {},
   "source": [
    "We can quickly put together a PnL Explained dashboard.  \n",
    "\n",
    "<img src=\"http://data.atoti.io/notebooks/pnl-explained/dashboard_design.gif\" alt=\"dashboard design\" style=\"zoom:40%;\" />  \n",
    "  \n",
    "Access the above dashboard with the link provided below:"
   ]
  },
  {
   "cell_type": "code",
   "execution_count": 64,
   "metadata": {},
   "outputs": [
    {
     "data": {
      "text/plain": [
       "'http://localhost:36393/#/dashboard/4c8'"
      ]
     },
     "execution_count": 64,
     "metadata": {},
     "output_type": "execute_result"
    }
   ],
   "source": [
    "session.url + \"/#/dashboard/4c8\""
   ]
  }
 ],
 "metadata": {
  "kernelspec": {
   "display_name": "Python 3",
   "language": "python",
   "name": "python3"
  },
  "language_info": {
   "codemirror_mode": {
    "name": "ipython",
    "version": 3
   },
   "file_extension": ".py",
   "mimetype": "text/x-python",
   "name": "python",
   "nbconvert_exporter": "python",
   "pygments_lexer": "ipython3",
   "version": "3.7.6"
  }
 },
 "nbformat": 4,
 "nbformat_minor": 4
}
