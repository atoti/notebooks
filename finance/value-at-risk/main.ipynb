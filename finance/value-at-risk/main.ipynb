{
 "cells": [
  {
   "cell_type": "markdown",
   "metadata": {},
   "source": [
    "# Value at Risk: A simple way to monitor market risk with Atoti\n",
    "\n",
    "Financial institutions all have to find a balance between profit and risk. The more risk taken the higher the profit can be. However if we want to avoid collapses such as that of Lehman Brothers in 2008, risk has to be controlled.  \n",
    "\n",
    "There are several kinds of risk:\n",
    "- Shortfall of a counterparty, also known as credit risk: This is the risk that a borrower cannot repay its credit\n",
    "- Market risk: This is the risk that certain assets could lose their value. For example one might invest in wine bottle in the hope that they gain value with age while they might not.\n",
    "\n",
    "Market risk is widely monitored in finance. Institutions have large portfolios with a lot of assets, and forecasting the value of each asset is simply impossible as COVID-19 kindly reminded us recently. The key is then to assess what are the (statistical) chances that the value of certain assets remain in a certain envelope and what the potential losses are. This is where the value at risk – or VaR – comes into action.\n",
    "\n",
    "There are different approaches to calculating the VaR. The one we will use in this notebook is based on the aggregation of simulated profit & losses, and then calculated using a percentile of the empirical distribution.\n",
    "\n",
    "We will see how we can compute and aggregate pretty easily this non-linear indicator with Atoti, and then perform simulations around it."
   ]
  },
  {
   "cell_type": "markdown",
   "metadata": {},
   "source": [
    "## Importing the necessary libraries"
   ]
  },
  {
   "cell_type": "code",
   "execution_count": 1,
   "metadata": {},
   "outputs": [
    {
     "name": "stdout",
     "output_type": "stream",
     "text": [
      "Welcome to atoti 0.4.0!\n",
      "\n",
      "By using this community edition, you agree with the license available at https://www.atoti.io/eula.\n",
      "Browse the official documentation at https://docs.atoti.io.\n",
      "Join the community at https://www.atoti.io/register.\n",
      "\n",
      "You can hide this message by setting the ATOTI_HIDE_EULA_MESSAGE environment variable to True.\n"
     ]
    }
   ],
   "source": [
    "import atoti"
   ]
  },
  {
   "cell_type": "markdown",
   "metadata": {},
   "source": [
    "## Data Loading\n",
    "#### Initializing Atoti"
   ]
  },
  {
   "cell_type": "code",
   "execution_count": 2,
   "metadata": {},
   "outputs": [],
   "source": [
    "from atoti.config import create_config\n",
    "\n",
    "# tell atoti to load the database containing the UI dashboards\n",
    "config = create_config(metadata_db=\"./metadata.db\")\n",
    "session = atoti.create_session(config=config)"
   ]
  },
  {
   "cell_type": "markdown",
   "metadata": {},
   "source": [
    "#### Loading the data"
   ]
  },
  {
   "cell_type": "markdown",
   "metadata": {},
   "source": [
    "Instruments are financial products. In this notebook they are foreign exchange options."
   ]
  },
  {
   "cell_type": "code",
   "execution_count": 3,
   "metadata": {},
   "outputs": [],
   "source": [
    "instruments = session.read_csv(\n",
    "    \"s3://data.atoti.io/notebooks/var/instruments.csv\",\n",
    "    keys=[\"instrument_code\"],\n",
    "    store_name=\"Instruments\",\n",
    ")"
   ]
  },
  {
   "cell_type": "code",
   "execution_count": 4,
   "metadata": {},
   "outputs": [
    {
     "data": {
      "text/html": [
       "<div>\n",
       "<style scoped>\n",
       "    .dataframe tbody tr th:only-of-type {\n",
       "        vertical-align: middle;\n",
       "    }\n",
       "\n",
       "    .dataframe tbody tr th {\n",
       "        vertical-align: top;\n",
       "    }\n",
       "\n",
       "    .dataframe thead th {\n",
       "        text-align: right;\n",
       "    }\n",
       "</style>\n",
       "<table border=\"1\" class=\"dataframe\">\n",
       "  <thead>\n",
       "    <tr style=\"text-align: right;\">\n",
       "      <th></th>\n",
       "      <th>underlying_code</th>\n",
       "      <th>strike</th>\n",
       "      <th>option_type</th>\n",
       "      <th>maturity</th>\n",
       "      <th>contract_size</th>\n",
       "    </tr>\n",
       "    <tr>\n",
       "      <th>instrument_code</th>\n",
       "      <th></th>\n",
       "      <th></th>\n",
       "      <th></th>\n",
       "      <th></th>\n",
       "      <th></th>\n",
       "    </tr>\n",
       "  </thead>\n",
       "  <tbody>\n",
       "    <tr>\n",
       "      <th>EURUSD=X c 1 @1.251000</th>\n",
       "      <td>EURUSD=X</td>\n",
       "      <td>1.251000</td>\n",
       "      <td>c</td>\n",
       "      <td>1</td>\n",
       "      <td>100000</td>\n",
       "    </tr>\n",
       "    <tr>\n",
       "      <th>EURUSD=X p 1 @1.251000</th>\n",
       "      <td>EURUSD=X</td>\n",
       "      <td>1.251000</td>\n",
       "      <td>p</td>\n",
       "      <td>1</td>\n",
       "      <td>100000</td>\n",
       "    </tr>\n",
       "    <tr>\n",
       "      <th>EURUSD=X c 1 @1.106200</th>\n",
       "      <td>EURUSD=X</td>\n",
       "      <td>1.106200</td>\n",
       "      <td>c</td>\n",
       "      <td>1</td>\n",
       "      <td>100000</td>\n",
       "    </tr>\n",
       "    <tr>\n",
       "      <th>EURUSD=X p 1 @1.106200</th>\n",
       "      <td>EURUSD=X</td>\n",
       "      <td>1.106200</td>\n",
       "      <td>p</td>\n",
       "      <td>1</td>\n",
       "      <td>100000</td>\n",
       "    </tr>\n",
       "    <tr>\n",
       "      <th>EURUSD=X c 1 @1.163233</th>\n",
       "      <td>EURUSD=X</td>\n",
       "      <td>1.163233</td>\n",
       "      <td>c</td>\n",
       "      <td>1</td>\n",
       "      <td>100000</td>\n",
       "    </tr>\n",
       "  </tbody>\n",
       "</table>\n",
       "</div>"
      ],
      "text/plain": [
       "                       underlying_code    strike option_type  maturity  \\\n",
       "instrument_code                                                          \n",
       "EURUSD=X c 1 @1.251000        EURUSD=X  1.251000           c         1   \n",
       "EURUSD=X p 1 @1.251000        EURUSD=X  1.251000           p         1   \n",
       "EURUSD=X c 1 @1.106200        EURUSD=X  1.106200           c         1   \n",
       "EURUSD=X p 1 @1.106200        EURUSD=X  1.106200           p         1   \n",
       "EURUSD=X c 1 @1.163233        EURUSD=X  1.163233           c         1   \n",
       "\n",
       "                        contract_size  \n",
       "instrument_code                        \n",
       "EURUSD=X c 1 @1.251000         100000  \n",
       "EURUSD=X p 1 @1.251000         100000  \n",
       "EURUSD=X c 1 @1.106200         100000  \n",
       "EURUSD=X p 1 @1.106200         100000  \n",
       "EURUSD=X c 1 @1.163233         100000  "
      ]
     },
     "execution_count": 4,
     "metadata": {},
     "output_type": "execute_result"
    }
   ],
   "source": [
    "instruments.head()"
   ]
  },
  {
   "cell_type": "markdown",
   "metadata": {},
   "source": [
    "The analytics store gives more information on each instrument, more notably:\n",
    "- The PnL (profit and loss) of the previous day\n",
    "- A vector of the PnLs of the instrument for the last 272 days. PnLs are typically calculated by complex price engines and such vectors would be their output."
   ]
  },
  {
   "cell_type": "code",
   "execution_count": 5,
   "metadata": {},
   "outputs": [],
   "source": [
    "analytics = session.read_csv(\n",
    "    \"s3://data.atoti.io/notebooks/var/instruments_pricing_vol_depth_272.csv\",\n",
    "    keys=[\"instrument_code\"],\n",
    "    store_name=\"Instruments Analytics\",\n",
    "    sep=\"|\",\n",
    "    array_sep=\";\",\n",
    ")"
   ]
  },
  {
   "cell_type": "code",
   "execution_count": 6,
   "metadata": {},
   "outputs": [
    {
     "data": {
      "text/html": [
       "<div>\n",
       "<style scoped>\n",
       "    .dataframe tbody tr th:only-of-type {\n",
       "        vertical-align: middle;\n",
       "    }\n",
       "\n",
       "    .dataframe tbody tr th {\n",
       "        vertical-align: top;\n",
       "    }\n",
       "\n",
       "    .dataframe thead th {\n",
       "        text-align: right;\n",
       "    }\n",
       "</style>\n",
       "<table border=\"1\" class=\"dataframe\">\n",
       "  <thead>\n",
       "    <tr style=\"text-align: right;\">\n",
       "      <th></th>\n",
       "      <th>pnl_vector</th>\n",
       "      <th>vector_size</th>\n",
       "      <th>pnl</th>\n",
       "      <th>value_change_get_values_last</th>\n",
       "    </tr>\n",
       "    <tr>\n",
       "      <th>instrument_code</th>\n",
       "      <th></th>\n",
       "      <th></th>\n",
       "      <th></th>\n",
       "      <th></th>\n",
       "    </tr>\n",
       "  </thead>\n",
       "  <tbody>\n",
       "    <tr>\n",
       "      <th>EURAUD=X c 1 @1.480500</th>\n",
       "      <td>doubleVector[272]{12624.202770457445, ...}</td>\n",
       "      <td>272.0</td>\n",
       "      <td>12624.202770</td>\n",
       "      <td>-219.999998</td>\n",
       "    </tr>\n",
       "    <tr>\n",
       "      <th>EURAUD=X c 1 @1.578882</th>\n",
       "      <td>doubleVector[272]{4308.278694271345, ...}</td>\n",
       "      <td>272.0</td>\n",
       "      <td>4308.278694</td>\n",
       "      <td>-219.597787</td>\n",
       "    </tr>\n",
       "    <tr>\n",
       "      <th>EURAUD=X c 1 @1.662000</th>\n",
       "      <td>doubleVector[272]{-1744.4302935895314, ...}</td>\n",
       "      <td>272.0</td>\n",
       "      <td>-1744.430294</td>\n",
       "      <td>-168.476599</td>\n",
       "    </tr>\n",
       "    <tr>\n",
       "      <th>EURAUD=X p 1 @1.480500</th>\n",
       "      <td>doubleVector[272]{-20519.06471441983, ...}</td>\n",
       "      <td>272.0</td>\n",
       "      <td>-20519.064714</td>\n",
       "      <td>0.000002</td>\n",
       "    </tr>\n",
       "    <tr>\n",
       "      <th>EURAUD=X p 1 @1.578882</th>\n",
       "      <td>doubleVector[272]{-10239.767451773394, ...}</td>\n",
       "      <td>272.0</td>\n",
       "      <td>-10239.767452</td>\n",
       "      <td>0.402213</td>\n",
       "    </tr>\n",
       "  </tbody>\n",
       "</table>\n",
       "</div>"
      ],
      "text/plain": [
       "                                                         pnl_vector  \\\n",
       "instrument_code                                                       \n",
       "EURAUD=X c 1 @1.480500   doubleVector[272]{12624.202770457445, ...}   \n",
       "EURAUD=X c 1 @1.578882    doubleVector[272]{4308.278694271345, ...}   \n",
       "EURAUD=X c 1 @1.662000  doubleVector[272]{-1744.4302935895314, ...}   \n",
       "EURAUD=X p 1 @1.480500   doubleVector[272]{-20519.06471441983, ...}   \n",
       "EURAUD=X p 1 @1.578882  doubleVector[272]{-10239.767451773394, ...}   \n",
       "\n",
       "                        vector_size           pnl  \\\n",
       "instrument_code                                     \n",
       "EURAUD=X c 1 @1.480500        272.0  12624.202770   \n",
       "EURAUD=X c 1 @1.578882        272.0   4308.278694   \n",
       "EURAUD=X c 1 @1.662000        272.0  -1744.430294   \n",
       "EURAUD=X p 1 @1.480500        272.0 -20519.064714   \n",
       "EURAUD=X p 1 @1.578882        272.0 -10239.767452   \n",
       "\n",
       "                        value_change_get_values_last  \n",
       "instrument_code                                       \n",
       "EURAUD=X c 1 @1.480500                   -219.999998  \n",
       "EURAUD=X c 1 @1.578882                   -219.597787  \n",
       "EURAUD=X c 1 @1.662000                   -168.476599  \n",
       "EURAUD=X p 1 @1.480500                      0.000002  \n",
       "EURAUD=X p 1 @1.578882                      0.402213  "
      ]
     },
     "execution_count": 6,
     "metadata": {},
     "output_type": "execute_result"
    }
   ],
   "source": [
    "analytics.head()"
   ]
  },
  {
   "cell_type": "code",
   "execution_count": 7,
   "metadata": {},
   "outputs": [],
   "source": [
    "# We will force the type of those two columns so that when using auto mode to create the cube, they will directly create sum and avg measures.\n",
    "# Since Int columns create hierarchies in auto mode, another solution would have been to create the measures manually.\n",
    "positions_store_types = {\n",
    "    \"quantity\": atoti.types.DOUBLE,\n",
    "    \"purchase_price\": atoti.types.DOUBLE,\n",
    "}"
   ]
  },
  {
   "cell_type": "markdown",
   "metadata": {},
   "source": [
    "Positions give us the quantities of each instrument we currently hold in our portfolio.  \n",
    "They are grouped into books."
   ]
  },
  {
   "cell_type": "code",
   "execution_count": 8,
   "metadata": {},
   "outputs": [],
   "source": [
    "positions = session.read_csv(\n",
    "    \"s3://data.atoti.io/notebooks/var/positions.csv\",\n",
    "    keys=[\"instrument_code\", \"book_id\"],\n",
    "    store_name=\"Positions\",\n",
    "    types=positions_store_types,\n",
    ")"
   ]
  },
  {
   "cell_type": "code",
   "execution_count": 9,
   "metadata": {},
   "outputs": [
    {
     "data": {
      "text/html": [
       "<div>\n",
       "<style scoped>\n",
       "    .dataframe tbody tr th:only-of-type {\n",
       "        vertical-align: middle;\n",
       "    }\n",
       "\n",
       "    .dataframe tbody tr th {\n",
       "        vertical-align: top;\n",
       "    }\n",
       "\n",
       "    .dataframe thead th {\n",
       "        text-align: right;\n",
       "    }\n",
       "</style>\n",
       "<table border=\"1\" class=\"dataframe\">\n",
       "  <thead>\n",
       "    <tr style=\"text-align: right;\">\n",
       "      <th></th>\n",
       "      <th></th>\n",
       "      <th>underlying</th>\n",
       "      <th>quantity</th>\n",
       "      <th>purchase_price</th>\n",
       "    </tr>\n",
       "    <tr>\n",
       "      <th>instrument_code</th>\n",
       "      <th>book_id</th>\n",
       "      <th></th>\n",
       "      <th></th>\n",
       "      <th></th>\n",
       "    </tr>\n",
       "  </thead>\n",
       "  <tbody>\n",
       "    <tr>\n",
       "      <th rowspan=\"5\" valign=\"top\">EURUSD=X c 1 @1.251000</th>\n",
       "      <th>1</th>\n",
       "      <td>EURUSD=X</td>\n",
       "      <td>1.0</td>\n",
       "      <td>0.0</td>\n",
       "    </tr>\n",
       "    <tr>\n",
       "      <th>2</th>\n",
       "      <td>EURUSD=X</td>\n",
       "      <td>1.0</td>\n",
       "      <td>0.0</td>\n",
       "    </tr>\n",
       "    <tr>\n",
       "      <th>3</th>\n",
       "      <td>EURUSD=X</td>\n",
       "      <td>1.0</td>\n",
       "      <td>0.0</td>\n",
       "    </tr>\n",
       "    <tr>\n",
       "      <th>4</th>\n",
       "      <td>EURUSD=X</td>\n",
       "      <td>1.0</td>\n",
       "      <td>0.0</td>\n",
       "    </tr>\n",
       "    <tr>\n",
       "      <th>5</th>\n",
       "      <td>EURUSD=X</td>\n",
       "      <td>1.0</td>\n",
       "      <td>0.0</td>\n",
       "    </tr>\n",
       "  </tbody>\n",
       "</table>\n",
       "</div>"
      ],
      "text/plain": [
       "                               underlying  quantity  purchase_price\n",
       "instrument_code        book_id                                     \n",
       "EURUSD=X c 1 @1.251000 1         EURUSD=X       1.0             0.0\n",
       "                       2         EURUSD=X       1.0             0.0\n",
       "                       3         EURUSD=X       1.0             0.0\n",
       "                       4         EURUSD=X       1.0             0.0\n",
       "                       5         EURUSD=X       1.0             0.0"
      ]
     },
     "execution_count": 9,
     "metadata": {},
     "output_type": "execute_result"
    }
   ],
   "source": [
    "positions.head()"
   ]
  },
  {
   "cell_type": "markdown",
   "metadata": {},
   "source": [
    "### Data model and cube\n",
    "We will first join the three previous stores altogether."
   ]
  },
  {
   "cell_type": "code",
   "execution_count": 10,
   "metadata": {},
   "outputs": [],
   "source": [
    "positions.join(instruments)\n",
    "instruments.join(analytics)"
   ]
  },
  {
   "cell_type": "markdown",
   "metadata": {},
   "source": [
    "To start our analysis, we create our cube using `Positions` as the base store."
   ]
  },
  {
   "cell_type": "code",
   "execution_count": 11,
   "metadata": {},
   "outputs": [],
   "source": [
    "cube = session.create_cube(positions, \"Positions\")"
   ]
  },
  {
   "cell_type": "code",
   "execution_count": 12,
   "metadata": {},
   "outputs": [
    {
     "data": {
      "image/svg+xml": [
       "<svg height=\"275px\" viewBox=\"0.00 0.00 1186.00 275.00\" width=\"1186px\" xmlns=\"http://www.w3.org/2000/svg\" xmlns:xlink=\"http://www.w3.org/1999/xlink\">\n",
       "<g class=\"graph\" id=\"graph0\" transform=\"scale(1.0 1.0) rotate(0) translate(4 271)\">\n",
       "<title>Positions schema</title>\n",
       "<polygon fill=\"white\" points=\"-4,4 -4,-271 1182,-271 1182,4 -4,4\" stroke=\"transparent\"/>\n",
       "<!-- Positions -->\n",
       "<g class=\"node\" id=\"node1\">\n",
       "<title>Positions</title>\n",
       "<polygon fill=\"none\" points=\"8,-207.5 8,-244.5 202,-244.5 202,-207.5 8,-207.5\" stroke=\"black\"/>\n",
       "<text font-family=\"Times,serif\" font-size=\"14.00\" font-weight=\"bold\" text-anchor=\"start\" x=\"77.5\" y=\"-223.3\">Positions</text>\n",
       "<polygon fill=\"none\" points=\"8,-170.5 8,-207.5 202,-207.5 202,-170.5 8,-170.5\" stroke=\"black\"/>\n",
       "<text font-family=\"Times,serif\" font-size=\"14.00\" font-weight=\"bold\" text-anchor=\"start\" x=\"19\" y=\"-186.3\">Key</text>\n",
       "<text font-family=\"Times,serif\" font-size=\"14.00\" text-anchor=\"start\" x=\"44\" y=\"-186.3\">  instrument_code </text>\n",
       "<text font-family=\"Times,serif\" font-size=\"14.00\" font-style=\"italic\" text-anchor=\"start\" x=\"151\" y=\"-186.3\">String</text>\n",
       "<text font-family=\"Times,serif\" font-size=\"14.00\" text-anchor=\"start\" x=\"187\" y=\"-186.3\"> </text>\n",
       "<polygon fill=\"none\" points=\"8,-133.5 8,-170.5 202,-170.5 202,-133.5 8,-133.5\" stroke=\"black\"/>\n",
       "<text font-family=\"Times,serif\" font-size=\"14.00\" font-weight=\"bold\" text-anchor=\"start\" x=\"19\" y=\"-149.3\">Key</text>\n",
       "<text font-family=\"Times,serif\" font-size=\"14.00\" text-anchor=\"start\" x=\"44\" y=\"-149.3\">  book_id </text>\n",
       "<text font-family=\"Times,serif\" font-size=\"14.00\" font-style=\"italic\" text-anchor=\"start\" x=\"105\" y=\"-149.3\">int</text>\n",
       "<text font-family=\"Times,serif\" font-size=\"14.00\" text-anchor=\"start\" x=\"121\" y=\"-149.3\"> </text>\n",
       "<polygon fill=\"none\" points=\"8,-96.5 8,-133.5 202,-133.5 202,-96.5 8,-96.5\" stroke=\"black\"/>\n",
       "<text font-family=\"Times,serif\" font-size=\"14.00\" text-anchor=\"start\" x=\"19\" y=\"-112.3\">underlying </text>\n",
       "<text font-family=\"Times,serif\" font-size=\"14.00\" font-style=\"italic\" text-anchor=\"start\" x=\"86\" y=\"-112.3\">String</text>\n",
       "<text font-family=\"Times,serif\" font-size=\"14.00\" text-anchor=\"start\" x=\"122\" y=\"-112.3\"> </text>\n",
       "<polygon fill=\"none\" points=\"8,-59.5 8,-96.5 202,-96.5 202,-59.5 8,-59.5\" stroke=\"black\"/>\n",
       "<text font-family=\"Times,serif\" font-size=\"14.00\" text-anchor=\"start\" x=\"19\" y=\"-75.3\">quantity </text>\n",
       "<text font-family=\"Times,serif\" font-size=\"14.00\" font-style=\"italic\" text-anchor=\"start\" x=\"71\" y=\"-75.3\">double</text>\n",
       "<text font-family=\"Times,serif\" font-size=\"14.00\" text-anchor=\"start\" x=\"111\" y=\"-75.3\"> </text>\n",
       "<polygon fill=\"none\" points=\"8,-22.5 8,-59.5 202,-59.5 202,-22.5 8,-22.5\" stroke=\"black\"/>\n",
       "<text font-family=\"Times,serif\" font-size=\"14.00\" text-anchor=\"start\" x=\"19\" y=\"-38.3\">purchase_price </text>\n",
       "<text font-family=\"Times,serif\" font-size=\"14.00\" font-style=\"italic\" text-anchor=\"start\" x=\"109\" y=\"-38.3\">double</text>\n",
       "<text font-family=\"Times,serif\" font-size=\"14.00\" text-anchor=\"start\" x=\"149\" y=\"-38.3\"> </text>\n",
       "</g>\n",
       "<!-- Instruments -->\n",
       "<g class=\"node\" id=\"node2\">\n",
       "<title>Instruments</title>\n",
       "<polygon fill=\"none\" points=\"467,-225.5 467,-262.5 661,-262.5 661,-225.5 467,-225.5\" stroke=\"black\"/>\n",
       "<text font-family=\"Times,serif\" font-size=\"14.00\" font-weight=\"bold\" text-anchor=\"start\" x=\"527\" y=\"-241.3\">Instruments</text>\n",
       "<polygon fill=\"none\" points=\"467,-188.5 467,-225.5 661,-225.5 661,-188.5 467,-188.5\" stroke=\"black\"/>\n",
       "<text font-family=\"Times,serif\" font-size=\"14.00\" font-weight=\"bold\" text-anchor=\"start\" x=\"478\" y=\"-204.3\">Key</text>\n",
       "<text font-family=\"Times,serif\" font-size=\"14.00\" text-anchor=\"start\" x=\"503\" y=\"-204.3\">  instrument_code </text>\n",
       "<text font-family=\"Times,serif\" font-size=\"14.00\" font-style=\"italic\" text-anchor=\"start\" x=\"610\" y=\"-204.3\">String</text>\n",
       "<text font-family=\"Times,serif\" font-size=\"14.00\" text-anchor=\"start\" x=\"646\" y=\"-204.3\"> </text>\n",
       "<polygon fill=\"none\" points=\"467,-151.5 467,-188.5 661,-188.5 661,-151.5 467,-151.5\" stroke=\"black\"/>\n",
       "<text font-family=\"Times,serif\" font-size=\"14.00\" text-anchor=\"start\" x=\"478\" y=\"-167.3\">underlying_code </text>\n",
       "<text font-family=\"Times,serif\" font-size=\"14.00\" font-style=\"italic\" text-anchor=\"start\" x=\"580\" y=\"-167.3\">String</text>\n",
       "<text font-family=\"Times,serif\" font-size=\"14.00\" text-anchor=\"start\" x=\"616\" y=\"-167.3\"> </text>\n",
       "<polygon fill=\"none\" points=\"467,-114.5 467,-151.5 661,-151.5 661,-114.5 467,-114.5\" stroke=\"black\"/>\n",
       "<text font-family=\"Times,serif\" font-size=\"14.00\" text-anchor=\"start\" x=\"478\" y=\"-130.3\">strike </text>\n",
       "<text font-family=\"Times,serif\" font-size=\"14.00\" font-style=\"italic\" text-anchor=\"start\" x=\"513\" y=\"-130.3\">double</text>\n",
       "<text font-family=\"Times,serif\" font-size=\"14.00\" text-anchor=\"start\" x=\"553\" y=\"-130.3\"> </text>\n",
       "<polygon fill=\"none\" points=\"467,-77.5 467,-114.5 661,-114.5 661,-77.5 467,-77.5\" stroke=\"black\"/>\n",
       "<text font-family=\"Times,serif\" font-size=\"14.00\" text-anchor=\"start\" x=\"478\" y=\"-93.3\">option_type </text>\n",
       "<text font-family=\"Times,serif\" font-size=\"14.00\" font-style=\"italic\" text-anchor=\"start\" x=\"552\" y=\"-93.3\">String</text>\n",
       "<text font-family=\"Times,serif\" font-size=\"14.00\" text-anchor=\"start\" x=\"588\" y=\"-93.3\"> </text>\n",
       "<polygon fill=\"none\" points=\"467,-40.5 467,-77.5 661,-77.5 661,-40.5 467,-40.5\" stroke=\"black\"/>\n",
       "<text font-family=\"Times,serif\" font-size=\"14.00\" text-anchor=\"start\" x=\"478\" y=\"-56.3\">maturity </text>\n",
       "<text font-family=\"Times,serif\" font-size=\"14.00\" font-style=\"italic\" text-anchor=\"start\" x=\"530\" y=\"-56.3\">int</text>\n",
       "<text font-family=\"Times,serif\" font-size=\"14.00\" text-anchor=\"start\" x=\"546\" y=\"-56.3\"> </text>\n",
       "<polygon fill=\"none\" points=\"467,-3.5 467,-40.5 661,-40.5 661,-3.5 467,-3.5\" stroke=\"black\"/>\n",
       "<text font-family=\"Times,serif\" font-size=\"14.00\" text-anchor=\"start\" x=\"478\" y=\"-19.3\">contract_size </text>\n",
       "<text font-family=\"Times,serif\" font-size=\"14.00\" font-style=\"italic\" text-anchor=\"start\" x=\"556\" y=\"-19.3\">int</text>\n",
       "<text font-family=\"Times,serif\" font-size=\"14.00\" text-anchor=\"start\" x=\"572\" y=\"-19.3\"> </text>\n",
       "</g>\n",
       "<!-- Positions&#45;&gt;Instruments -->\n",
       "<g class=\"edge\" id=\"edge1\">\n",
       "<title>Positions-&gt;Instruments</title>\n",
       "<path d=\"M210.27,-133.5C281.35,-133.5 375.47,-133.5 448.6,-133.5\" fill=\"none\" stroke=\"black\"/>\n",
       "<polygon fill=\"black\" points=\"448.78,-137 458.78,-133.5 448.78,-130 448.78,-137\" stroke=\"black\"/>\n",
       "<text font-family=\"Times,serif\" font-size=\"14.00\" text-anchor=\"middle\" x=\"334.5\" y=\"-137.3\">instrument_code → instrument_code</text>\n",
       "</g>\n",
       "<!-- Instruments Analytics -->\n",
       "<g class=\"node\" id=\"node3\">\n",
       "<title>Instruments Analytics</title>\n",
       "<polygon fill=\"none\" points=\"926,-207.5 926,-244.5 1170,-244.5 1170,-207.5 926,-207.5\" stroke=\"black\"/>\n",
       "<text font-family=\"Times,serif\" font-size=\"14.00\" font-weight=\"bold\" text-anchor=\"start\" x=\"981\" y=\"-223.3\">Instruments Analytics</text>\n",
       "<polygon fill=\"none\" points=\"926,-170.5 926,-207.5 1170,-207.5 1170,-170.5 926,-170.5\" stroke=\"black\"/>\n",
       "<text font-family=\"Times,serif\" font-size=\"14.00\" font-weight=\"bold\" text-anchor=\"start\" x=\"937\" y=\"-186.3\">Key</text>\n",
       "<text font-family=\"Times,serif\" font-size=\"14.00\" text-anchor=\"start\" x=\"962\" y=\"-186.3\">  instrument_code </text>\n",
       "<text font-family=\"Times,serif\" font-size=\"14.00\" font-style=\"italic\" text-anchor=\"start\" x=\"1069\" y=\"-186.3\">String</text>\n",
       "<text font-family=\"Times,serif\" font-size=\"14.00\" text-anchor=\"start\" x=\"1105\" y=\"-186.3\"> </text>\n",
       "<polygon fill=\"none\" points=\"926,-133.5 926,-170.5 1170,-170.5 1170,-133.5 926,-133.5\" stroke=\"black\"/>\n",
       "<text font-family=\"Times,serif\" font-size=\"14.00\" text-anchor=\"start\" x=\"937\" y=\"-149.3\">pnl_vector </text>\n",
       "<text font-family=\"Times,serif\" font-size=\"14.00\" font-style=\"italic\" text-anchor=\"start\" x=\"1003\" y=\"-149.3\">double</text>\n",
       "<text font-family=\"Times,serif\" font-size=\"14.00\" text-anchor=\"start\" x=\"1043\" y=\"-149.3\"> </text>\n",
       "<polygon fill=\"none\" points=\"926,-96.5 926,-133.5 1170,-133.5 1170,-96.5 926,-96.5\" stroke=\"black\"/>\n",
       "<text font-family=\"Times,serif\" font-size=\"14.00\" text-anchor=\"start\" x=\"937\" y=\"-112.3\">vector_size </text>\n",
       "<text font-family=\"Times,serif\" font-size=\"14.00\" font-style=\"italic\" text-anchor=\"start\" x=\"1005\" y=\"-112.3\">double</text>\n",
       "<text font-family=\"Times,serif\" font-size=\"14.00\" text-anchor=\"start\" x=\"1045\" y=\"-112.3\"> </text>\n",
       "<polygon fill=\"none\" points=\"926,-59.5 926,-96.5 1170,-96.5 1170,-59.5 926,-59.5\" stroke=\"black\"/>\n",
       "<text font-family=\"Times,serif\" font-size=\"14.00\" text-anchor=\"start\" x=\"937\" y=\"-75.3\">pnl </text>\n",
       "<text font-family=\"Times,serif\" font-size=\"14.00\" font-style=\"italic\" text-anchor=\"start\" x=\"960\" y=\"-75.3\">double</text>\n",
       "<text font-family=\"Times,serif\" font-size=\"14.00\" text-anchor=\"start\" x=\"1000\" y=\"-75.3\"> </text>\n",
       "<polygon fill=\"none\" points=\"926,-22.5 926,-59.5 1170,-59.5 1170,-22.5 926,-22.5\" stroke=\"black\"/>\n",
       "<text font-family=\"Times,serif\" font-size=\"14.00\" text-anchor=\"start\" x=\"937\" y=\"-38.3\">value_change_get_values_last </text>\n",
       "<text font-family=\"Times,serif\" font-size=\"14.00\" font-style=\"italic\" text-anchor=\"start\" x=\"1115\" y=\"-38.3\">double</text>\n",
       "<text font-family=\"Times,serif\" font-size=\"14.00\" text-anchor=\"start\" x=\"1155\" y=\"-38.3\"> </text>\n",
       "</g>\n",
       "<!-- Instruments&#45;&gt;Instruments Analytics -->\n",
       "<g class=\"edge\" id=\"edge2\">\n",
       "<title>Instruments-&gt;Instruments Analytics</title>\n",
       "<path d=\"M669.29,-133.5C739.1,-133.5 831.77,-133.5 907.85,-133.5\" fill=\"none\" stroke=\"black\"/>\n",
       "<polygon fill=\"black\" points=\"907.99,-137 917.99,-133.5 907.99,-130 907.99,-137\" stroke=\"black\"/>\n",
       "<text font-family=\"Times,serif\" font-size=\"14.00\" text-anchor=\"middle\" x=\"793.5\" y=\"-137.3\">instrument_code → instrument_code</text>\n",
       "</g>\n",
       "</g>\n",
       "</svg>"
      ],
      "text/plain": [
       "<IPython.core.display.SVG object>"
      ]
     },
     "execution_count": 12,
     "metadata": {},
     "output_type": "execute_result"
    }
   ],
   "source": [
    "cube.schema"
   ]
  },
  {
   "cell_type": "markdown",
   "metadata": {},
   "source": [
    "In auto mode, Atoti creates hierarchies for each column that is not of type float, sum and average measures for each column of type float.  \n",
    "This can of course be fine-tuned to either switch to full manual mode and create hierarchies/measures yourself, or simply edit what has been created automatically (adding a hierarchy for a numerical column for example). The available cube creation modes are detailed in the [documentation](https://docs.atoti.io).   \n",
    "\n",
    "Below you can explore which measures/levels/hierarchies have been automatically created in our cube."
   ]
  },
  {
   "cell_type": "code",
   "execution_count": 13,
   "metadata": {},
   "outputs": [
    {
     "data": {
      "application/json": {
       "Dimensions": {
        "Hierarchies": {
         "book_id": [
          "book_id"
         ],
         "contract_size": [
          "contract_size"
         ],
         "instrument_code": [
          "instrument_code"
         ],
         "maturity": [
          "maturity"
         ],
         "option_type": [
          "option_type"
         ],
         "underlying": [
          "underlying"
         ],
         "underlying_code": [
          "underlying_code"
         ]
        }
       },
       "Measures": {
        "contributors.COUNT": {
         "formatter": null,
         "visible": true
        },
        "pnl.VALUE": {
         "formatter": "DOUBLE[#,###.00]",
         "visible": true
        },
        "pnl_vector.VALUE": {
         "formatter": null,
         "visible": true
        },
        "purchase_price.MEAN": {
         "formatter": "DOUBLE[#,###.00]",
         "visible": true
        },
        "purchase_price.SUM": {
         "formatter": "DOUBLE[#,###.00]",
         "visible": true
        },
        "quantity.MEAN": {
         "formatter": "DOUBLE[#,###.00]",
         "visible": true
        },
        "quantity.SUM": {
         "formatter": "DOUBLE[#,###.00]",
         "visible": true
        },
        "strike.VALUE": {
         "formatter": "DOUBLE[#,###.00]",
         "visible": true
        },
        "value_change_get_values_last.VALUE": {
         "formatter": "DOUBLE[#,###.00]",
         "visible": true
        },
        "vector_size.VALUE": {
         "formatter": "DOUBLE[#,###.00]",
         "visible": true
        }
       }
      },
      "text/html": [
       "<ul>\n",
       "<li>Positions\n",
       "  <ul>\n",
       "  <li>Dimensions\n",
       "    <ul>\n",
       "    <li>Hierarchies\n",
       "      <ul>\n",
       "      <li>book_id\n",
       "        <ol>\n",
       "        <li>book_id</li>\n",
       "        </ol>      </li>\n",
       "      <li>contract_size\n",
       "        <ol>\n",
       "        <li>contract_size</li>\n",
       "        </ol>      </li>\n",
       "      <li>instrument_code\n",
       "        <ol>\n",
       "        <li>instrument_code</li>\n",
       "        </ol>      </li>\n",
       "      <li>maturity\n",
       "        <ol>\n",
       "        <li>maturity</li>\n",
       "        </ol>      </li>\n",
       "      <li>option_type\n",
       "        <ol>\n",
       "        <li>option_type</li>\n",
       "        </ol>      </li>\n",
       "      <li>underlying\n",
       "        <ol>\n",
       "        <li>underlying</li>\n",
       "        </ol>      </li>\n",
       "      <li>underlying_code\n",
       "        <ol>\n",
       "        <li>underlying_code</li>\n",
       "        </ol>      </li>\n",
       "      </ul>\n",
       "    </li>\n",
       "    </ul>\n",
       "  </li>\n",
       "  <li>Measures\n",
       "    <ul>\n",
       "    <li>contributors.COUNT\n",
       "      <ul>\n",
       "      <li>formatter: None</li>\n",
       "      <li>visible: True</li>\n",
       "      </ul>\n",
       "    </li>\n",
       "    <li>pnl.VALUE\n",
       "      <ul>\n",
       "      <li>formatter: DOUBLE[#,###.00]</li>\n",
       "      <li>visible: True</li>\n",
       "      </ul>\n",
       "    </li>\n",
       "    <li>pnl_vector.VALUE\n",
       "      <ul>\n",
       "      <li>formatter: None</li>\n",
       "      <li>visible: True</li>\n",
       "      </ul>\n",
       "    </li>\n",
       "    <li>purchase_price.MEAN\n",
       "      <ul>\n",
       "      <li>formatter: DOUBLE[#,###.00]</li>\n",
       "      <li>visible: True</li>\n",
       "      </ul>\n",
       "    </li>\n",
       "    <li>purchase_price.SUM\n",
       "      <ul>\n",
       "      <li>formatter: DOUBLE[#,###.00]</li>\n",
       "      <li>visible: True</li>\n",
       "      </ul>\n",
       "    </li>\n",
       "    <li>quantity.MEAN\n",
       "      <ul>\n",
       "      <li>formatter: DOUBLE[#,###.00]</li>\n",
       "      <li>visible: True</li>\n",
       "      </ul>\n",
       "    </li>\n",
       "    <li>quantity.SUM\n",
       "      <ul>\n",
       "      <li>formatter: DOUBLE[#,###.00]</li>\n",
       "      <li>visible: True</li>\n",
       "      </ul>\n",
       "    </li>\n",
       "    <li>strike.VALUE\n",
       "      <ul>\n",
       "      <li>formatter: DOUBLE[#,###.00]</li>\n",
       "      <li>visible: True</li>\n",
       "      </ul>\n",
       "    </li>\n",
       "    <li>value_change_get_values_last.VALUE\n",
       "      <ul>\n",
       "      <li>formatter: DOUBLE[#,###.00]</li>\n",
       "      <li>visible: True</li>\n",
       "      </ul>\n",
       "    </li>\n",
       "    <li>vector_size.VALUE\n",
       "      <ul>\n",
       "      <li>formatter: DOUBLE[#,###.00]</li>\n",
       "      <li>visible: True</li>\n",
       "      </ul>\n",
       "    </li>\n",
       "    </ul>\n",
       "  </li>\n",
       "  </ul>\n",
       "</li>\n",
       "</ul>\n"
      ],
      "text/plain": [
       "<atoti.cube.Cube at 0x7f32a532d190>"
      ]
     },
     "execution_count": 13,
     "metadata": {
      "application/json": {
       "expanded": false,
       "root": "Positions"
      }
     },
     "output_type": "execute_result"
    }
   ],
   "source": [
    "m = cube.measures\n",
    "h = cube.hierarchies\n",
    "lvl = cube.levels\n",
    "cube"
   ]
  },
  {
   "cell_type": "markdown",
   "metadata": {},
   "source": [
    "A simple command lets you run Atoti's UI directly in the notebook. This is pretty convenient to explore the data you just loaded or make sure the measures defined produce the correct results."
   ]
  },
  {
   "cell_type": "code",
   "execution_count": 15,
   "metadata": {
    "atoti": {
     "state": {
      "name": "",
      "type": "container",
      "value": {
       "body": {
        "configuration": {
         "tabular": {
          "addButtonFilter": "numeric",
          "columns": [
           {
            "key": "[Measures].[pnl_vector.VALUE]",
            "width": 382
           }
          ],
          "columnsGroups": [
           {
            "captionProducer": "firstColumn",
            "cellFactory": "kpi-status",
            "selector": "kpi-status"
           },
           {
            "captionProducer": "firstColumn",
            "cellFactory": "lookup",
            "selector": "lookup"
           },
           {
            "captionProducer": "expiry",
            "cellFactory": "expiry",
            "selector": "kpi-expiry"
           },
           {
            "captionProducer": "columnMerge",
            "cellFactory": {
             "args": {
              "automaticExpansion": true
             },
             "key": "treeCells"
            },
            "selector": "member"
           }
          ],
          "defaultOptions": {},
          "hideAddButton": true,
          "lineNumbers": true,
          "pinnedHeaderSelector": "member",
          "sortingMode": "non-breaking",
          "statisticsShown": true
         }
        },
        "contextValues": {},
        "mdx": "SELECT NON EMPTY Crossjoin(Hierarchize(DrilldownLevel([Hierarchies].[underlying].[ALL].[AllMember])), Hierarchize(DrilldownLevel([Hierarchies].[instrument_code].[ALL].[AllMember])), Hierarchize(DrilldownLevel([Hierarchies].[book_id].[ALL].[AllMember]))) ON ROWS, NON EMPTY {[Measures].[quantity.SUM], [Measures].[pnl.VALUE], [Measures].[pnl_vector.VALUE]} ON COLUMNS FROM [Positions] CELL PROPERTIES VALUE, FORMATTED_VALUE, BACK_COLOR, FORE_COLOR, FONT_FLAGS",
        "ranges": {
         "column": {
          "chunkSize": 50,
          "thresholdPercentage": 0.2
         },
         "row": {
          "chunkSize": 2000,
          "thresholdPercentage": 0.1
         }
        },
        "serverUrl": "",
        "updateMode": "once"
       },
       "containerKey": "pivot-table",
       "showTitleBar": false,
       "style": {}
      }
     }
    }
   },
   "outputs": [
    {
     "data": {
      "application/vnd.atoti.v0+json": {
       "cube": "Positions",
       "name": null,
       "session": "Unnamed"
      },
      "text/plain": [
       "Install and enable the atoti JupyterLab extension to see this widget."
      ]
     },
     "metadata": {},
     "output_type": "display_data"
    }
   ],
   "source": [
    "cube.visualize()"
   ]
  },
  {
   "cell_type": "markdown",
   "metadata": {},
   "source": [
    "#### Computing the PnL of the previous day"
   ]
  },
  {
   "cell_type": "code",
   "execution_count": 15,
   "metadata": {},
   "outputs": [],
   "source": [
    "# Let's give this measure a more user friendly name\n",
    "m[\"Quantity\"] = m[\"quantity.SUM\"]"
   ]
  },
  {
   "cell_type": "code",
   "execution_count": 16,
   "metadata": {},
   "outputs": [],
   "source": [
    "m[\"PnL\"] = atoti.agg.sum(\n",
    "    m[\"quantity.SUM\"] * m[\"pnl.VALUE\"], scope=atoti.scope.origin(lvl[\"instrument_code\"])\n",
    ")"
   ]
  },
  {
   "cell_type": "markdown",
   "metadata": {},
   "source": [
    "### Looking at the PnL in various ways\n",
    "Run the following cells to see the Atoti visualizations"
   ]
  },
  {
   "cell_type": "code",
   "execution_count": 18,
   "metadata": {
    "activeviam": {
     "state": {
      "name": "PnL Pivot Table",
      "type": "container",
      "value": {
       "body": {
        "configuration": {
         "tabular": {
          "addButtonFilter": "numeric",
          "columns": [],
          "columnsGroups": [
           {
            "captionProducer": "firstColumn",
            "cellFactory": "kpi-status",
            "selector": "kpi-status"
           },
           {
            "captionProducer": "firstColumn",
            "cellFactory": "lookup",
            "selector": "lookup"
           },
           {
            "captionProducer": "expiry",
            "cellFactory": "expiry",
            "selector": "kpi-expiry"
           },
           {
            "captionProducer": "columnMerge",
            "cellFactory": {
             "args": {
              "automaticExpansion": true
             },
             "key": "treeCells"
            },
            "selector": "member"
           }
          ],
          "defaultOptions": {},
          "hideAddButton": true,
          "lineNumbers": true,
          "pinnedHeaderSelector": "member",
          "sortingMode": "non-breaking",
          "statisticsShown": true
         }
        },
        "contextValues": {},
        "mdx": "SELECT NON EMPTY Crossjoin(Hierarchize(DrilldownLevel([Hierarchies].[underlying].[ALL].[AllMember])), Hierarchize(DrilldownLevel([Hierarchies].[option_type].[ALL].[AllMember]))) ON ROWS, NON EMPTY {[Measures].[contributors.COUNT], [Measures].[Quantity], [Measures].[PnL]} ON COLUMNS FROM [Positions] CELL PROPERTIES VALUE, FORMATTED_VALUE, BACK_COLOR, FORE_COLOR, FONT_FLAGS",
        "ranges": {
         "column": {
          "chunkSize": 50,
          "thresholdPercentage": 0.2
         },
         "row": {
          "chunkSize": 2000,
          "thresholdPercentage": 0.1
         }
        },
        "serverUrl": "",
        "updateMode": "once"
       },
       "containerKey": "pivot-table",
       "showTitleBar": false,
       "style": {}
      }
     }
    },
    "atoti": {
     "state": {
      "name": "PnL Pivot Table",
      "type": "container",
      "value": {
       "body": {
        "configuration": {
         "tabular": {
          "addButtonFilter": "numeric",
          "columnsGroups": [
           {
            "captionProducer": "firstColumn",
            "cellFactory": "kpi-status",
            "selector": "kpi-status"
           },
           {
            "captionProducer": "firstColumn",
            "cellFactory": "lookup",
            "selector": "lookup"
           },
           {
            "captionProducer": "expiry",
            "cellFactory": "expiry",
            "selector": "kpi-expiry"
           },
           {
            "captionProducer": "columnMerge",
            "cellFactory": {
             "args": {
              "automaticExpansion": true
             },
             "key": "treeCells"
            },
            "selector": "member"
           }
          ],
          "defaultOptions": {},
          "hideAddButton": true,
          "lineNumbers": true,
          "pinnedHeaderSelector": "member",
          "sortingMode": "non-breaking",
          "statisticsShown": true
         }
        },
        "contextValues": {},
        "mdx": "SELECT NON EMPTY Crossjoin(Hierarchize(DrilldownLevel([Hierarchies].[book_id].[ALL].[AllMember])), Hierarchize(DrilldownLevel([Hierarchies].[underlying].[ALL].[AllMember])), Hierarchize(DrilldownLevel([Hierarchies].[instrument_code].[ALL].[AllMember]))) ON ROWS, NON EMPTY {[Measures].[PnL], [Measures].[Quantity], [Measures].[pnl.VALUE]} ON COLUMNS FROM [Positions] CELL PROPERTIES VALUE, FORMATTED_VALUE, BACK_COLOR, FORE_COLOR, FONT_FLAGS",
        "ranges": {
         "column": {
          "chunkSize": 50,
          "thresholdPercentage": 0.2
         },
         "row": {
          "chunkSize": 2000,
          "thresholdPercentage": 0.1
         }
        },
        "serverUrl": "",
        "updateMode": "once"
       },
       "containerKey": "pivot-table",
       "showTitleBar": false,
       "style": {}
      }
     }
    }
   },
   "outputs": [
    {
     "data": {
      "application/vnd.atoti.v0+json": {
       "cube": "Positions",
       "name": "PnL Pivot Table",
       "session": "Unnamed"
      },
      "text/plain": [
       "Install and enable the atoti JupyterLab extension to see this widget."
      ]
     },
     "metadata": {},
     "output_type": "display_data"
    }
   ],
   "source": [
    "cube.visualize(name=\"PnL Pivot Table\")"
   ]
  },
  {
   "cell_type": "code",
   "execution_count": 20,
   "metadata": {
    "activeviam": {
     "state": {
      "name": "PnL book 2",
      "type": "container",
      "value": {
       "body": {
        "configuration": {
         "mapping": {
          "horizontal": [],
          "stackBy": [
           "[Hierarchies].[option_type].[option_type]"
          ],
          "values": [
           "[Measures].[PnL]"
          ],
          "vertical": [],
          "xAxis": [
           "[Hierarchies].[book_id].[book_id]"
          ]
         },
         "type": "plotly-stacked-column-chart"
        },
        "query": {
         "mdx": "SELECT NON EMPTY [Measures].[PnL] ON COLUMNS, NON EMPTY Crossjoin([Hierarchies].[book_id].[book_id].Members, [Hierarchies].[option_type].[option_type].Members) ON ROWS FROM [Positions] CELL PROPERTIES VALUE, FORMATTED_VALUE, BACK_COLOR, FORE_COLOR, FONT_FLAGS",
         "serverUrl": "",
         "updateMode": "once"
        }
       },
       "containerKey": "chart",
       "showTitleBar": false,
       "style": {}
      }
     }
    },
    "atoti": {
     "state": {
      "name": "PnL by Option Type Chart",
      "type": "container",
      "value": {
       "body": {
        "configuration": {
         "mapping": {
          "horizontal": [],
          "splitBy": [
           "[Hierarchies].[option_type].[option_type]"
          ],
          "values": [
           "[Measures].[PnL]"
          ],
          "vertical": [],
          "xAxis": [
           "[Hierarchies].[book_id].[book_id]"
          ]
         },
         "type": "plotly-clustered-column-chart"
        },
        "query": {
         "mdx": "SELECT NON EMPTY Crossjoin([Hierarchies].[book_id].[book_id].Members, [Hierarchies].[option_type].[option_type].Members) ON ROWS, NON EMPTY [Measures].[PnL] ON COLUMNS FROM [Positions] CELL PROPERTIES VALUE, FORMATTED_VALUE, BACK_COLOR, FORE_COLOR, FONT_FLAGS",
         "serverUrl": "",
         "updateMode": "once"
        }
       },
       "containerKey": "chart",
       "showTitleBar": false,
       "style": {}
      }
     }
    }
   },
   "outputs": [
    {
     "data": {
      "application/vnd.atoti.v0+json": {
       "cube": "Positions",
       "name": "PnL by Option Type Chart",
       "session": "Unnamed"
      },
      "text/plain": [
       "Install and enable the atoti JupyterLab extension to see this widget."
      ]
     },
     "metadata": {},
     "output_type": "display_data"
    }
   ],
   "source": [
    "cube.visualize(\"PnL by Option Type Chart\")"
   ]
  },
  {
   "cell_type": "markdown",
   "metadata": {},
   "source": [
    "### Collaboration tools\n",
    "All the tables/charts created in the notebook can be published and made available in Atoti's UI, a user friendly interface where anybody can create dashboards, share them, and drill down the data.\n",
    "\n",
    "Atoti's UI can be reached with a link using command `session.url`  \n",
    "Run the cell below to have a look at a dashboard we have prepared using the above chart and pivot table."
   ]
  },
  {
   "cell_type": "code",
   "execution_count": 21,
   "metadata": {},
   "outputs": [
    {
     "data": {
      "text/plain": [
       "'http://localhost:33285/#/dashboard/ee8'"
      ]
     },
     "execution_count": 21,
     "metadata": {},
     "output_type": "execute_result"
    }
   ],
   "source": [
    "session.url + \"/#/dashboard/ee8\""
   ]
  },
  {
   "cell_type": "markdown",
   "metadata": {},
   "source": [
    "### Customizing hierarchies\n",
    "\n",
    "In large organizations, books usually belong to business units that are made up of smaller sub-business units and different trading desks.  \n",
    "Atoti lets you add new hierarchies on the fly without having to add columns into existing tables or re-launch time consuming batch computations.\n",
    "\n",
    "In this example we will import a file containing level information on Business Units, Sub-Business Units, Trading Desks and Book. Since we already have book IDs linked to our instruments, we will simply use this new information to create an additional hierarchy with these levels under it."
   ]
  },
  {
   "cell_type": "code",
   "execution_count": 22,
   "metadata": {},
   "outputs": [],
   "source": [
    "trading_desks = session.read_csv(\n",
    "    \"s3://data.atoti.io/notebooks/var/trading_desk.csv\",\n",
    "    keys=[\"book_id\"],\n",
    "    store_name=\"Trading Desk\",\n",
    ")\n",
    "positions.join(trading_desks)\n",
    "\n",
    "h[\"Trading Book Hierarchy\"] = {\n",
    "    \"Business Unit\": lvl[\"business_unit\"],\n",
    "    \"Sub Business Unit\": lvl[\"sub_business_unit\"],\n",
    "    \"Trading Desk\": lvl[\"trading_desk\"],\n",
    "    \"Book\": lvl[\"book\"],\n",
    "}"
   ]
  },
  {
   "cell_type": "markdown",
   "metadata": {},
   "source": [
    "The cube structure has been modified on the fly, we can now use the new hierarchy on any visualization. The data model becomes the following:"
   ]
  },
  {
   "cell_type": "code",
   "execution_count": 23,
   "metadata": {},
   "outputs": [
    {
     "data": {
      "image/svg+xml": [
       "<svg height=\"524px\" viewBox=\"0.00 0.00 1186.00 523.50\" width=\"1186px\" xmlns=\"http://www.w3.org/2000/svg\" xmlns:xlink=\"http://www.w3.org/1999/xlink\">\n",
       "<g class=\"graph\" id=\"graph0\" transform=\"scale(1.0 1.0) rotate(0) translate(4 519.5)\">\n",
       "<title>Positions schema</title>\n",
       "<polygon fill=\"white\" points=\"-4,4 -4,-519.5 1182,-519.5 1182,4 -4,4\" stroke=\"transparent\"/>\n",
       "<!-- Positions -->\n",
       "<g class=\"node\" id=\"node1\">\n",
       "<title>Positions</title>\n",
       "<polygon fill=\"none\" points=\"8,-208 8,-245 202,-245 202,-208 8,-208\" stroke=\"black\"/>\n",
       "<text font-family=\"Times,serif\" font-size=\"14.00\" font-weight=\"bold\" text-anchor=\"start\" x=\"77.5\" y=\"-223.8\">Positions</text>\n",
       "<polygon fill=\"none\" points=\"8,-171 8,-208 202,-208 202,-171 8,-171\" stroke=\"black\"/>\n",
       "<text font-family=\"Times,serif\" font-size=\"14.00\" font-weight=\"bold\" text-anchor=\"start\" x=\"19\" y=\"-186.8\">Key</text>\n",
       "<text font-family=\"Times,serif\" font-size=\"14.00\" text-anchor=\"start\" x=\"44\" y=\"-186.8\">  instrument_code </text>\n",
       "<text font-family=\"Times,serif\" font-size=\"14.00\" font-style=\"italic\" text-anchor=\"start\" x=\"151\" y=\"-186.8\">String</text>\n",
       "<text font-family=\"Times,serif\" font-size=\"14.00\" text-anchor=\"start\" x=\"187\" y=\"-186.8\"> </text>\n",
       "<polygon fill=\"none\" points=\"8,-134 8,-171 202,-171 202,-134 8,-134\" stroke=\"black\"/>\n",
       "<text font-family=\"Times,serif\" font-size=\"14.00\" font-weight=\"bold\" text-anchor=\"start\" x=\"19\" y=\"-149.8\">Key</text>\n",
       "<text font-family=\"Times,serif\" font-size=\"14.00\" text-anchor=\"start\" x=\"44\" y=\"-149.8\">  book_id </text>\n",
       "<text font-family=\"Times,serif\" font-size=\"14.00\" font-style=\"italic\" text-anchor=\"start\" x=\"105\" y=\"-149.8\">int</text>\n",
       "<text font-family=\"Times,serif\" font-size=\"14.00\" text-anchor=\"start\" x=\"121\" y=\"-149.8\"> </text>\n",
       "<polygon fill=\"none\" points=\"8,-97 8,-134 202,-134 202,-97 8,-97\" stroke=\"black\"/>\n",
       "<text font-family=\"Times,serif\" font-size=\"14.00\" text-anchor=\"start\" x=\"19\" y=\"-112.8\">underlying </text>\n",
       "<text font-family=\"Times,serif\" font-size=\"14.00\" font-style=\"italic\" text-anchor=\"start\" x=\"86\" y=\"-112.8\">String</text>\n",
       "<text font-family=\"Times,serif\" font-size=\"14.00\" text-anchor=\"start\" x=\"122\" y=\"-112.8\"> </text>\n",
       "<polygon fill=\"none\" points=\"8,-60 8,-97 202,-97 202,-60 8,-60\" stroke=\"black\"/>\n",
       "<text font-family=\"Times,serif\" font-size=\"14.00\" text-anchor=\"start\" x=\"19\" y=\"-75.8\">quantity </text>\n",
       "<text font-family=\"Times,serif\" font-size=\"14.00\" font-style=\"italic\" text-anchor=\"start\" x=\"71\" y=\"-75.8\">double</text>\n",
       "<text font-family=\"Times,serif\" font-size=\"14.00\" text-anchor=\"start\" x=\"111\" y=\"-75.8\"> </text>\n",
       "<polygon fill=\"none\" points=\"8,-23 8,-60 202,-60 202,-23 8,-23\" stroke=\"black\"/>\n",
       "<text font-family=\"Times,serif\" font-size=\"14.00\" text-anchor=\"start\" x=\"19\" y=\"-38.8\">purchase_price </text>\n",
       "<text font-family=\"Times,serif\" font-size=\"14.00\" font-style=\"italic\" text-anchor=\"start\" x=\"109\" y=\"-38.8\">double</text>\n",
       "<text font-family=\"Times,serif\" font-size=\"14.00\" text-anchor=\"start\" x=\"149\" y=\"-38.8\"> </text>\n",
       "</g>\n",
       "<!-- Instruments -->\n",
       "<g class=\"node\" id=\"node2\">\n",
       "<title>Instruments</title>\n",
       "<polygon fill=\"none\" points=\"467,-474 467,-511 661,-511 661,-474 467,-474\" stroke=\"black\"/>\n",
       "<text font-family=\"Times,serif\" font-size=\"14.00\" font-weight=\"bold\" text-anchor=\"start\" x=\"527\" y=\"-489.8\">Instruments</text>\n",
       "<polygon fill=\"none\" points=\"467,-437 467,-474 661,-474 661,-437 467,-437\" stroke=\"black\"/>\n",
       "<text font-family=\"Times,serif\" font-size=\"14.00\" font-weight=\"bold\" text-anchor=\"start\" x=\"478\" y=\"-452.8\">Key</text>\n",
       "<text font-family=\"Times,serif\" font-size=\"14.00\" text-anchor=\"start\" x=\"503\" y=\"-452.8\">  instrument_code </text>\n",
       "<text font-family=\"Times,serif\" font-size=\"14.00\" font-style=\"italic\" text-anchor=\"start\" x=\"610\" y=\"-452.8\">String</text>\n",
       "<text font-family=\"Times,serif\" font-size=\"14.00\" text-anchor=\"start\" x=\"646\" y=\"-452.8\"> </text>\n",
       "<polygon fill=\"none\" points=\"467,-400 467,-437 661,-437 661,-400 467,-400\" stroke=\"black\"/>\n",
       "<text font-family=\"Times,serif\" font-size=\"14.00\" text-anchor=\"start\" x=\"478\" y=\"-415.8\">underlying_code </text>\n",
       "<text font-family=\"Times,serif\" font-size=\"14.00\" font-style=\"italic\" text-anchor=\"start\" x=\"580\" y=\"-415.8\">String</text>\n",
       "<text font-family=\"Times,serif\" font-size=\"14.00\" text-anchor=\"start\" x=\"616\" y=\"-415.8\"> </text>\n",
       "<polygon fill=\"none\" points=\"467,-363 467,-400 661,-400 661,-363 467,-363\" stroke=\"black\"/>\n",
       "<text font-family=\"Times,serif\" font-size=\"14.00\" text-anchor=\"start\" x=\"478\" y=\"-378.8\">strike </text>\n",
       "<text font-family=\"Times,serif\" font-size=\"14.00\" font-style=\"italic\" text-anchor=\"start\" x=\"513\" y=\"-378.8\">double</text>\n",
       "<text font-family=\"Times,serif\" font-size=\"14.00\" text-anchor=\"start\" x=\"553\" y=\"-378.8\"> </text>\n",
       "<polygon fill=\"none\" points=\"467,-326 467,-363 661,-363 661,-326 467,-326\" stroke=\"black\"/>\n",
       "<text font-family=\"Times,serif\" font-size=\"14.00\" text-anchor=\"start\" x=\"478\" y=\"-341.8\">option_type </text>\n",
       "<text font-family=\"Times,serif\" font-size=\"14.00\" font-style=\"italic\" text-anchor=\"start\" x=\"552\" y=\"-341.8\">String</text>\n",
       "<text font-family=\"Times,serif\" font-size=\"14.00\" text-anchor=\"start\" x=\"588\" y=\"-341.8\"> </text>\n",
       "<polygon fill=\"none\" points=\"467,-289 467,-326 661,-326 661,-289 467,-289\" stroke=\"black\"/>\n",
       "<text font-family=\"Times,serif\" font-size=\"14.00\" text-anchor=\"start\" x=\"478\" y=\"-304.8\">maturity </text>\n",
       "<text font-family=\"Times,serif\" font-size=\"14.00\" font-style=\"italic\" text-anchor=\"start\" x=\"530\" y=\"-304.8\">int</text>\n",
       "<text font-family=\"Times,serif\" font-size=\"14.00\" text-anchor=\"start\" x=\"546\" y=\"-304.8\"> </text>\n",
       "<polygon fill=\"none\" points=\"467,-252 467,-289 661,-289 661,-252 467,-252\" stroke=\"black\"/>\n",
       "<text font-family=\"Times,serif\" font-size=\"14.00\" text-anchor=\"start\" x=\"478\" y=\"-267.8\">contract_size </text>\n",
       "<text font-family=\"Times,serif\" font-size=\"14.00\" font-style=\"italic\" text-anchor=\"start\" x=\"556\" y=\"-267.8\">int</text>\n",
       "<text font-family=\"Times,serif\" font-size=\"14.00\" text-anchor=\"start\" x=\"572\" y=\"-267.8\"> </text>\n",
       "</g>\n",
       "<!-- Positions&#45;&gt;Instruments -->\n",
       "<g class=\"edge\" id=\"edge2\">\n",
       "<title>Positions-&gt;Instruments</title>\n",
       "<path d=\"M210.27,-190.59C281.79,-229.39 376.62,-280.86 449.95,-320.65\" fill=\"none\" stroke=\"black\"/>\n",
       "<polygon fill=\"black\" points=\"448.32,-323.75 458.78,-325.44 451.66,-317.6 448.32,-323.75\" stroke=\"black\"/>\n",
       "<text font-family=\"Times,serif\" font-size=\"14.00\" text-anchor=\"middle\" x=\"334.5\" y=\"-319.8\">instrument_code → instrument_code</text>\n",
       "</g>\n",
       "<!-- Trading Desk -->\n",
       "<g class=\"node\" id=\"node4\">\n",
       "<title>Trading Desk</title>\n",
       "<polygon fill=\"none\" points=\"478,-189 478,-226 650,-226 650,-189 478,-189\" stroke=\"black\"/>\n",
       "<text font-family=\"Times,serif\" font-size=\"14.00\" font-weight=\"bold\" text-anchor=\"start\" x=\"521.5\" y=\"-204.8\">Trading Desk</text>\n",
       "<polygon fill=\"none\" points=\"478,-152 478,-189 650,-189 650,-152 478,-152\" stroke=\"black\"/>\n",
       "<text font-family=\"Times,serif\" font-size=\"14.00\" font-weight=\"bold\" text-anchor=\"start\" x=\"489\" y=\"-167.8\">Key</text>\n",
       "<text font-family=\"Times,serif\" font-size=\"14.00\" text-anchor=\"start\" x=\"514\" y=\"-167.8\">  book_id </text>\n",
       "<text font-family=\"Times,serif\" font-size=\"14.00\" font-style=\"italic\" text-anchor=\"start\" x=\"575\" y=\"-167.8\">int</text>\n",
       "<text font-family=\"Times,serif\" font-size=\"14.00\" text-anchor=\"start\" x=\"591\" y=\"-167.8\"> </text>\n",
       "<polygon fill=\"none\" points=\"478,-115 478,-152 650,-152 650,-115 478,-115\" stroke=\"black\"/>\n",
       "<text font-family=\"Times,serif\" font-size=\"14.00\" text-anchor=\"start\" x=\"489\" y=\"-130.8\">book </text>\n",
       "<text font-family=\"Times,serif\" font-size=\"14.00\" font-style=\"italic\" text-anchor=\"start\" x=\"523\" y=\"-130.8\">String</text>\n",
       "<text font-family=\"Times,serif\" font-size=\"14.00\" text-anchor=\"start\" x=\"559\" y=\"-130.8\"> </text>\n",
       "<polygon fill=\"none\" points=\"478,-78 478,-115 650,-115 650,-78 478,-78\" stroke=\"black\"/>\n",
       "<text font-family=\"Times,serif\" font-size=\"14.00\" text-anchor=\"start\" x=\"489\" y=\"-93.8\">trading_desk </text>\n",
       "<text font-family=\"Times,serif\" font-size=\"14.00\" font-style=\"italic\" text-anchor=\"start\" x=\"568\" y=\"-93.8\">String</text>\n",
       "<text font-family=\"Times,serif\" font-size=\"14.00\" text-anchor=\"start\" x=\"604\" y=\"-93.8\"> </text>\n",
       "<polygon fill=\"none\" points=\"478,-41 478,-78 650,-78 650,-41 478,-41\" stroke=\"black\"/>\n",
       "<text font-family=\"Times,serif\" font-size=\"14.00\" text-anchor=\"start\" x=\"489\" y=\"-56.8\">sub_business_unit </text>\n",
       "<text font-family=\"Times,serif\" font-size=\"14.00\" font-style=\"italic\" text-anchor=\"start\" x=\"599\" y=\"-56.8\">String</text>\n",
       "<text font-family=\"Times,serif\" font-size=\"14.00\" text-anchor=\"start\" x=\"635\" y=\"-56.8\"> </text>\n",
       "<polygon fill=\"none\" points=\"478,-4 478,-41 650,-41 650,-4 478,-4\" stroke=\"black\"/>\n",
       "<text font-family=\"Times,serif\" font-size=\"14.00\" text-anchor=\"start\" x=\"489\" y=\"-19.8\">business_unit </text>\n",
       "<text font-family=\"Times,serif\" font-size=\"14.00\" font-style=\"italic\" text-anchor=\"start\" x=\"571\" y=\"-19.8\">String</text>\n",
       "<text font-family=\"Times,serif\" font-size=\"14.00\" text-anchor=\"start\" x=\"607\" y=\"-19.8\"> </text>\n",
       "</g>\n",
       "<!-- Positions&#45;&gt;Trading Desk -->\n",
       "<g class=\"edge\" id=\"edge1\">\n",
       "<title>Positions-&gt;Trading Desk</title>\n",
       "<path d=\"M210.27,-129.66C284.87,-126.56 384.85,-122.41 459.32,-119.31\" fill=\"none\" stroke=\"black\"/>\n",
       "<polygon fill=\"black\" points=\"459.81,-122.79 469.65,-118.88 459.51,-115.8 459.81,-122.79\" stroke=\"black\"/>\n",
       "<text font-family=\"Times,serif\" font-size=\"14.00\" text-anchor=\"middle\" x=\"334.5\" y=\"-132.8\">book_id → book_id</text>\n",
       "</g>\n",
       "<!-- Instruments Analytics -->\n",
       "<g class=\"node\" id=\"node3\">\n",
       "<title>Instruments Analytics</title>\n",
       "<polygon fill=\"none\" points=\"926,-456 926,-493 1170,-493 1170,-456 926,-456\" stroke=\"black\"/>\n",
       "<text font-family=\"Times,serif\" font-size=\"14.00\" font-weight=\"bold\" text-anchor=\"start\" x=\"981\" y=\"-471.8\">Instruments Analytics</text>\n",
       "<polygon fill=\"none\" points=\"926,-419 926,-456 1170,-456 1170,-419 926,-419\" stroke=\"black\"/>\n",
       "<text font-family=\"Times,serif\" font-size=\"14.00\" font-weight=\"bold\" text-anchor=\"start\" x=\"937\" y=\"-434.8\">Key</text>\n",
       "<text font-family=\"Times,serif\" font-size=\"14.00\" text-anchor=\"start\" x=\"962\" y=\"-434.8\">  instrument_code </text>\n",
       "<text font-family=\"Times,serif\" font-size=\"14.00\" font-style=\"italic\" text-anchor=\"start\" x=\"1069\" y=\"-434.8\">String</text>\n",
       "<text font-family=\"Times,serif\" font-size=\"14.00\" text-anchor=\"start\" x=\"1105\" y=\"-434.8\"> </text>\n",
       "<polygon fill=\"none\" points=\"926,-382 926,-419 1170,-419 1170,-382 926,-382\" stroke=\"black\"/>\n",
       "<text font-family=\"Times,serif\" font-size=\"14.00\" text-anchor=\"start\" x=\"937\" y=\"-397.8\">pnl_vector </text>\n",
       "<text font-family=\"Times,serif\" font-size=\"14.00\" font-style=\"italic\" text-anchor=\"start\" x=\"1003\" y=\"-397.8\">double</text>\n",
       "<text font-family=\"Times,serif\" font-size=\"14.00\" text-anchor=\"start\" x=\"1043\" y=\"-397.8\"> </text>\n",
       "<polygon fill=\"none\" points=\"926,-345 926,-382 1170,-382 1170,-345 926,-345\" stroke=\"black\"/>\n",
       "<text font-family=\"Times,serif\" font-size=\"14.00\" text-anchor=\"start\" x=\"937\" y=\"-360.8\">vector_size </text>\n",
       "<text font-family=\"Times,serif\" font-size=\"14.00\" font-style=\"italic\" text-anchor=\"start\" x=\"1005\" y=\"-360.8\">double</text>\n",
       "<text font-family=\"Times,serif\" font-size=\"14.00\" text-anchor=\"start\" x=\"1045\" y=\"-360.8\"> </text>\n",
       "<polygon fill=\"none\" points=\"926,-308 926,-345 1170,-345 1170,-308 926,-308\" stroke=\"black\"/>\n",
       "<text font-family=\"Times,serif\" font-size=\"14.00\" text-anchor=\"start\" x=\"937\" y=\"-323.8\">pnl </text>\n",
       "<text font-family=\"Times,serif\" font-size=\"14.00\" font-style=\"italic\" text-anchor=\"start\" x=\"960\" y=\"-323.8\">double</text>\n",
       "<text font-family=\"Times,serif\" font-size=\"14.00\" text-anchor=\"start\" x=\"1000\" y=\"-323.8\"> </text>\n",
       "<polygon fill=\"none\" points=\"926,-271 926,-308 1170,-308 1170,-271 926,-271\" stroke=\"black\"/>\n",
       "<text font-family=\"Times,serif\" font-size=\"14.00\" text-anchor=\"start\" x=\"937\" y=\"-286.8\">value_change_get_values_last </text>\n",
       "<text font-family=\"Times,serif\" font-size=\"14.00\" font-style=\"italic\" text-anchor=\"start\" x=\"1115\" y=\"-286.8\">double</text>\n",
       "<text font-family=\"Times,serif\" font-size=\"14.00\" text-anchor=\"start\" x=\"1155\" y=\"-286.8\"> </text>\n",
       "</g>\n",
       "<!-- Instruments&#45;&gt;Instruments Analytics -->\n",
       "<g class=\"edge\" id=\"edge3\">\n",
       "<title>Instruments-&gt;Instruments Analytics</title>\n",
       "<path d=\"M669.29,-382C739.1,-382 831.77,-382 907.85,-382\" fill=\"none\" stroke=\"black\"/>\n",
       "<polygon fill=\"black\" points=\"907.99,-385.5 917.99,-382 907.99,-378.5 907.99,-385.5\" stroke=\"black\"/>\n",
       "<text font-family=\"Times,serif\" font-size=\"14.00\" text-anchor=\"middle\" x=\"793.5\" y=\"-385.8\">instrument_code → instrument_code</text>\n",
       "</g>\n",
       "</g>\n",
       "</svg>"
      ],
      "text/plain": [
       "<IPython.core.display.SVG object>"
      ]
     },
     "execution_count": 23,
     "metadata": {},
     "output_type": "execute_result"
    }
   ],
   "source": [
    "cube.schema"
   ]
  },
  {
   "cell_type": "code",
   "execution_count": 25,
   "metadata": {
    "activeviam": {
     "state": {
      "name": "Business Hierarchy Pivot Table",
      "type": "container",
      "value": {
       "body": {
        "configuration": {
         "mapping": {
          "splitBy": [
           "[Hierarchies].[book].[book]",
           "[Hierarchies].[underlying].[underlying]"
          ],
          "values": [
           "[Measures].[PnL]"
          ]
         },
         "type": "plotly-tree-map"
        },
        "query": {
         "mdx": "SELECT NON EMPTY [Measures].[PnL] ON COLUMNS, NON EMPTY Crossjoin([Hierarchies].[book].[book].Members, [Hierarchies].[underlying].[underlying].Members) ON ROWS FROM (SELECT {[Hierarchies].[underlying].[ALL].[AllMember].[EURAUD=X], [Hierarchies].[underlying].[ALL].[AllMember].[EURCHF=X], [Hierarchies].[underlying].[ALL].[AllMember].[EURCNY=X], [Hierarchies].[underlying].[ALL].[AllMember].[EURJPY=X], [Hierarchies].[underlying].[ALL].[AllMember].[EURSEK=X], [Hierarchies].[underlying].[ALL].[AllMember].[EURUSD=X]} ON COLUMNS FROM [Positions]) CELL PROPERTIES VALUE, FORMATTED_VALUE, BACK_COLOR, FORE_COLOR, FONT_FLAGS",
         "serverUrl": "",
         "updateMode": "once"
        }
       },
       "containerKey": "chart",
       "showTitleBar": false,
       "style": {}
      }
     }
    },
    "atoti": {
     "state": {
      "name": "Business Hierarchy Pivot Table",
      "type": "container",
      "value": {
       "body": {
        "configuration": {
         "tabular": {
          "addButtonFilter": "numeric",
          "columnsGroups": [
           {
            "captionProducer": "firstColumn",
            "cellFactory": "kpi-status",
            "selector": "kpi-status"
           },
           {
            "captionProducer": "firstColumn",
            "cellFactory": "lookup",
            "selector": "lookup"
           },
           {
            "captionProducer": "expiry",
            "cellFactory": "expiry",
            "selector": "kpi-expiry"
           },
           {
            "captionProducer": "columnMerge",
            "cellFactory": {
             "args": {
              "automaticExpansion": true
             },
             "key": "treeCells"
            },
            "selector": "member"
           }
          ],
          "defaultOptions": {},
          "hideAddButton": true,
          "lineNumbers": true,
          "pinnedHeaderSelector": "member",
          "sortingMode": "non-breaking",
          "statisticsShown": true
         }
        },
        "contextValues": {},
        "mdx": "SELECT NON EMPTY Hierarchize(Union(DrilldownLevel([Hierarchies].[Trading Book Hierarchy].[ALL].[AllMember]), Descendants({[Hierarchies].[Trading Book Hierarchy].[ALL].[AllMember].[Forex]}, [Hierarchies].[Trading Book Hierarchy].[Sub Business Unit]), Descendants({[Hierarchies].[Trading Book Hierarchy].[ALL].[AllMember].[Forex].[Developed Market]}, [Hierarchies].[Trading Book Hierarchy].[Trading Desk]), Descendants({[Hierarchies].[Trading Book Hierarchy].[ALL].[AllMember].[Forex].[Developed Market].[Hermes]}, [Hierarchies].[Trading Book Hierarchy].[Book]))) ON ROWS, NON EMPTY {[Measures].[PnL], [Measures].[Quantity]} ON COLUMNS FROM [Positions] CELL PROPERTIES VALUE, FORMATTED_VALUE, BACK_COLOR, FORE_COLOR, FONT_FLAGS",
        "ranges": {
         "column": {
          "chunkSize": 50,
          "thresholdPercentage": 0.2
         },
         "row": {
          "chunkSize": 2000,
          "thresholdPercentage": 0.1
         }
        },
        "serverUrl": "",
        "updateMode": "once"
       },
       "containerKey": "pivot-table",
       "showTitleBar": false,
       "style": {}
      }
     }
    }
   },
   "outputs": [
    {
     "data": {
      "application/vnd.atoti.v0+json": {
       "cube": "Positions",
       "name": "Business Hierarchy Pivot Table",
       "session": "Unnamed"
      },
      "text/plain": [
       "Install and enable the atoti JupyterLab extension to see this widget."
      ]
     },
     "metadata": {},
     "output_type": "display_data"
    }
   ],
   "source": [
    "cube.visualize(\"Business Hierarchy Pivot Table\")"
   ]
  },
  {
   "cell_type": "markdown",
   "metadata": {},
   "source": [
    "### Value at Risk\n",
    "\n",
    "We have vectors of the PnLs of every instrument for the last 272 days for each instrument. \n",
    "First thing we will do is define a \"scaled vector\" measure that will multiply those PnLs vectors by the quantities we hold in our positions at instrument level, aggregate it as a sum above."
   ]
  },
  {
   "cell_type": "code",
   "execution_count": 26,
   "metadata": {},
   "outputs": [],
   "source": [
    "scaled_pnl_vector = m[\"Quantity\"] * m[\"pnl_vector.VALUE\"]\n",
    "m[\"Position Vector\"] = atoti.agg.sum(\n",
    "    scaled_pnl_vector, scope=atoti.scope.origin(lvl[\"instrument_code\"])\n",
    ")"
   ]
  },
  {
   "cell_type": "markdown",
   "metadata": {},
   "source": [
    "From [Wikipedia](https://en.wikipedia.org/wiki/Value_at_risk):    \n",
    "Value at risk (VaR) \\[...\\] estimates how much a set of investments might lose (with a given probability), given normal market conditions, in a set time period such as a day.  \n",
    "For a given portfolio, time horizon, and probability $\\rho$, the $\\rho$ VaR can be defined informally as the maximum possible loss during that time after we exclude all worse outcomes whose combined probability is at most $\\rho$. \n",
    "\n",
    "In our notebook, we will rather use a confidence level that is $1 - \\rho$, where $\\rho$ is a 5% chance that we will make a loss greater than the maximum possible loss calculated.  \n",
    "The maximum possible loss will be computed based on the past PnLs that we have per instrument in vectors."
   ]
  },
  {
   "cell_type": "code",
   "execution_count": 27,
   "metadata": {},
   "outputs": [],
   "source": [
    "m[\"Confidence Level\"] = 0.95\n",
    "m[\"VaR\"] = atoti.array.quantile(m[\"Position Vector\"], m[\"Confidence Level\"])"
   ]
  },
  {
   "cell_type": "code",
   "execution_count": 29,
   "metadata": {
    "atoti": {
     "state": {
      "name": "",
      "type": "container",
      "value": {
       "body": {
        "configuration": {
         "tabular": {
          "addButtonFilter": "numeric",
          "columnsGroups": [
           {
            "captionProducer": "firstColumn",
            "cellFactory": "kpi-status",
            "selector": "kpi-status"
           },
           {
            "captionProducer": "firstColumn",
            "cellFactory": "lookup",
            "selector": "lookup"
           },
           {
            "captionProducer": "expiry",
            "cellFactory": "expiry",
            "selector": "kpi-expiry"
           },
           {
            "captionProducer": "columnMerge",
            "cellFactory": {
             "args": {
              "automaticExpansion": true
             },
             "key": "treeCells"
            },
            "selector": "member"
           }
          ],
          "defaultOptions": {},
          "hideAddButton": true,
          "lineNumbers": true,
          "pinnedHeaderSelector": "member",
          "sortingMode": "non-breaking",
          "statisticsShown": true
         }
        },
        "contextValues": {},
        "mdx": "SELECT NON EMPTY Hierarchize(Union(DrilldownLevel([Hierarchies].[Trading Book Hierarchy].[ALL].[AllMember]), Descendants({[Hierarchies].[Trading Book Hierarchy].[ALL].[AllMember].[Forex]}, [Hierarchies].[Trading Book Hierarchy].[Sub Business Unit]), Descendants({[Hierarchies].[Trading Book Hierarchy].[ALL].[AllMember].[Forex].[Emerging Market]}, [Hierarchies].[Trading Book Hierarchy].[Trading Desk]), Descendants({[Hierarchies].[Trading Book Hierarchy].[ALL].[AllMember].[Forex].[Emerging Market].[Apollo]}, [Hierarchies].[Trading Book Hierarchy].[Book]))) ON ROWS, NON EMPTY {[Measures].[PnL], [Measures].[VaR]} ON COLUMNS FROM [Positions] CELL PROPERTIES VALUE, FORMATTED_VALUE, BACK_COLOR, FORE_COLOR, FONT_FLAGS",
        "ranges": {
         "column": {
          "chunkSize": 50,
          "thresholdPercentage": 0.2
         },
         "row": {
          "chunkSize": 2000,
          "thresholdPercentage": 0.1
         }
        },
        "serverUrl": "",
        "updateMode": "once"
       },
       "containerKey": "pivot-table",
       "showTitleBar": false,
       "style": {}
      }
     }
    }
   },
   "outputs": [
    {
     "data": {
      "application/vnd.atoti.v0+json": {
       "cube": "Positions",
       "name": null,
       "session": "Unnamed"
      },
      "text/plain": [
       "Install and enable the atoti JupyterLab extension to see this widget."
      ]
     },
     "metadata": {},
     "output_type": "display_data"
    }
   ],
   "source": [
    "cube.visualize()"
   ]
  },
  {
   "cell_type": "markdown",
   "metadata": {},
   "source": [
    "The results above show that with a 95% confidence level, we are sure that the maximum loss would be 2,757,370.12 for Forex.\n",
    "\n",
    "95% is an arbitrary value, what if the extreme cases are ten times worse than what we have? Or what if chosing a lower confidence level would tremendously decrease the VaR?\n",
    "\n",
    "This kind of simulation is pretty easy to put in place with Atoti.  \n",
    "Below we setup a simulation on measure `Confidence level` then define what its value should be in various scenarios."
   ]
  },
  {
   "cell_type": "code",
   "execution_count": 30,
   "metadata": {},
   "outputs": [],
   "source": [
    "confidence_levels = cube.setup_simulation(\n",
    "    \"Confidence Level\", replace=[m[\"Confidence Level\"]], base_scenario=\"95%\"\n",
    ").scenarios\n",
    "\n",
    "confidence_levels[\"90%\"] = 0.90\n",
    "confidence_levels[\"98%\"] = 0.98\n",
    "confidence_levels[\"99%\"] = 0.99\n",
    "confidence_levels[\"Worst\"] = 1.0"
   ]
  },
  {
   "cell_type": "markdown",
   "metadata": {},
   "source": [
    "Once the simulation is setup, we can access its different values using the new `Confidence level` hierarchy that has automatically been created"
   ]
  },
  {
   "cell_type": "code",
   "execution_count": 32,
   "metadata": {
    "activeviam": {
     "state": {
      "name": "VAR 98% on SBU",
      "type": "container",
      "value": {
       "body": {
        "configuration": {
         "featuredValues": {}
        },
        "contextValues": {},
        "mdx": "SELECT NON EMPTY Crossjoin(Hierarchize([Epoch].[Epoch].[Branch].Members), Hierarchize([Measure Simulations].[Confidence Level].[Confidence Level].Members), [Hierarchies].[Trading Book Hierarchy].[Trading Desk].Members) ON ROWS, NON EMPTY [Measures].[VaR] ON COLUMNS FROM [Positions] CELL PROPERTIES VALUE, FORMATTED_VALUE, BACK_COLOR, FORE_COLOR, FONT_FLAGS",
        "ranges": {
         "column": {
          "chunkSize": 20,
          "thresholdPercentage": 0.1
         },
         "row": {
          "chunkSize": 20,
          "thresholdPercentage": 0.1
         }
        },
        "serverUrl": "",
        "updateMode": "once"
       },
       "containerKey": "featured-values",
       "showTitleBar": false,
       "style": {}
      }
     }
    },
    "atoti": {
     "state": {
      "name": "VaR per scenario",
      "type": "container",
      "value": {
       "body": {
        "configuration": {
         "tabular": {
          "addButtonFilter": "numeric",
          "columnsGroups": [
           {
            "captionProducer": "firstColumn",
            "cellFactory": "kpi-status",
            "selector": "kpi-status"
           },
           {
            "captionProducer": "firstColumn",
            "cellFactory": "lookup",
            "selector": "lookup"
           },
           {
            "captionProducer": "expiry",
            "cellFactory": "expiry",
            "selector": "kpi-expiry"
           },
           {
            "captionProducer": "columnMerge",
            "cellFactory": {
             "args": {
              "automaticExpansion": true
             },
             "key": "treeCells"
            },
            "selector": "member"
           }
          ],
          "defaultOptions": {},
          "hideAddButton": true,
          "lineNumbers": true,
          "pinnedHeaderSelector": "member",
          "sortingMode": "non-breaking",
          "statisticsShown": true
         }
        },
        "contextValues": {},
        "mdx": "SELECT NON EMPTY Hierarchize(Union(DrilldownLevel([Hierarchies].[Trading Book Hierarchy].[ALL].[AllMember]), Descendants({[Hierarchies].[Trading Book Hierarchy].[ALL].[AllMember].[Forex]}, [Hierarchies].[Trading Book Hierarchy].[Sub Business Unit]), Descendants({[Hierarchies].[Trading Book Hierarchy].[ALL].[AllMember].[Forex].[Developed Market]}, [Hierarchies].[Trading Book Hierarchy].[Trading Desk]), Descendants({[Hierarchies].[Trading Book Hierarchy].[ALL].[AllMember].[Forex].[Developed Market].[Hermes]}, [Hierarchies].[Trading Book Hierarchy].[Book]))) ON ROWS, NON EMPTY Crossjoin([Measures].[VaR], Hierarchize([Measure Simulations].[Confidence Level].[Confidence Level].Members)) ON COLUMNS FROM [Positions] CELL PROPERTIES VALUE, FORMATTED_VALUE, BACK_COLOR, FORE_COLOR, FONT_FLAGS",
        "ranges": {
         "column": {
          "chunkSize": 50,
          "thresholdPercentage": 0.2
         },
         "row": {
          "chunkSize": 2000,
          "thresholdPercentage": 0.1
         }
        },
        "serverUrl": "",
        "updateMode": "once"
       },
       "containerKey": "pivot-table",
       "showTitleBar": false,
       "style": {}
      }
     }
    }
   },
   "outputs": [
    {
     "data": {
      "application/vnd.atoti.v0+json": {
       "cube": "Positions",
       "name": "VaR per scenario",
       "session": "Unnamed"
      },
      "text/plain": [
       "Install and enable the atoti JupyterLab extension to see this widget."
      ]
     },
     "metadata": {},
     "output_type": "display_data"
    }
   ],
   "source": [
    "cube.visualize(\"VaR per scenario\")"
   ]
  },
  {
   "cell_type": "code",
   "execution_count": 34,
   "metadata": {
    "atoti": {
     "state": {
      "name": "VaR per scenario in a chart",
      "type": "container",
      "value": {
       "body": {
        "configuration": {
         "mapping": {
          "horizontal": [],
          "splitBy": [
           "[Measure Simulations].[Confidence Level].[Confidence Level]"
          ],
          "values": [
           "[Measures].[VaR]"
          ],
          "vertical": [],
          "xAxis": [
           "[Hierarchies].[Trading Book Hierarchy].[Trading Desk]"
          ]
         },
         "switchedTo": "plotly-clustered-column-chart",
         "type": "plotly-line-chart"
        },
        "query": {
         "mdx": "SELECT NON EMPTY Crossjoin([Hierarchies].[Trading Book Hierarchy].[Trading Desk].Members, [Measure Simulations].[Confidence Level].[Confidence Level].Members) ON ROWS, NON EMPTY [Measures].[VaR] ON COLUMNS FROM [Positions] CELL PROPERTIES VALUE, FORMATTED_VALUE, BACK_COLOR, FORE_COLOR, FONT_FLAGS",
         "serverUrl": "",
         "updateMode": "once"
        }
       },
       "containerKey": "chart",
       "showTitleBar": false,
       "style": {}
      }
     }
    }
   },
   "outputs": [
    {
     "data": {
      "application/vnd.atoti.v0+json": {
       "cube": "Positions",
       "name": "VaR per scenario in a chart",
       "session": "Unnamed"
      },
      "text/plain": [
       "Install and enable the atoti JupyterLab extension to see this widget."
      ]
     },
     "metadata": {},
     "output_type": "display_data"
    }
   ],
   "source": [
    "cube.visualize(\"VaR per scenario in a chart\")"
   ]
  },
  {
   "cell_type": "markdown",
   "metadata": {},
   "source": [
    "### Marginal VaR\n",
    "\n",
    "Since the VaR is not additive – the sum of the VaRs of multiple elements is not equal to the VaR of their parent in a hierarchy – contributory measures are used by Risk Managers to analyze the impact of a Sub-Portfolio on the Value at Risk of the total Portfolio. These measures can help to track down individual positions that have significant effects on VaR. Furthermore, contributory measures can be a useful tool in hypothetical analyses of portfolio development versus VaR development.\n",
    "\n",
    "One of those measures, the marginal VaR, computes the contribution of one element on the VaR of its parent.\n",
    "\n",
    "Cells below detail how the marginal VaR is defined with Atoti."
   ]
  },
  {
   "cell_type": "code",
   "execution_count": 35,
   "metadata": {},
   "outputs": [],
   "source": [
    "m[\"Parent Position Vector Ex\"] = atoti.agg.sum(\n",
    "    m[\"Position Vector\"],\n",
    "    scope=atoti.scope.siblings(h[\"Trading Book Hierarchy\"], exclude_self=True),\n",
    ")"
   ]
  },
  {
   "cell_type": "code",
   "execution_count": 36,
   "metadata": {},
   "outputs": [],
   "source": [
    "m[\"Parent VaR Ex\"] = atoti.array.quantile(\n",
    "    m[\"Parent Position Vector Ex\"], m[\"Confidence Level\"]\n",
    ")\n",
    "m[\"Parent VaR\"] = atoti.parent_value(m[\"VaR\"], h[\"Trading Book Hierarchy\"])\n",
    "m[\"Marginal VaR\"] = m[\"Parent VaR\"] - m[\"Parent VaR Ex\"]"
   ]
  },
  {
   "cell_type": "markdown",
   "metadata": {},
   "source": [
    "That's it, our marginal VaR is computed, let's have a look at where we could reduce the VaR the most now."
   ]
  },
  {
   "cell_type": "code",
   "execution_count": 38,
   "metadata": {
    "atoti": {
     "state": {
      "name": "",
      "type": "container",
      "value": {
       "body": {
        "configuration": {
         "tabular": {
          "addButtonFilter": "numeric",
          "columnsGroups": [
           {
            "captionProducer": "firstColumn",
            "cellFactory": "kpi-status",
            "selector": "kpi-status"
           },
           {
            "captionProducer": "firstColumn",
            "cellFactory": "lookup",
            "selector": "lookup"
           },
           {
            "captionProducer": "expiry",
            "cellFactory": "expiry",
            "selector": "kpi-expiry"
           },
           {
            "captionProducer": "columnMerge",
            "cellFactory": {
             "args": {
              "automaticExpansion": true
             },
             "key": "treeCells"
            },
            "selector": "member"
           }
          ],
          "defaultOptions": {},
          "hideAddButton": true,
          "lineNumbers": true,
          "pinnedHeaderSelector": "member",
          "sortingMode": "non-breaking",
          "statisticsShown": true
         }
        },
        "contextValues": {},
        "mdx": "SELECT NON EMPTY Hierarchize(Union(DrilldownLevel([Hierarchies].[Trading Book Hierarchy].[ALL].[AllMember]), Descendants({[Hierarchies].[Trading Book Hierarchy].[ALL].[AllMember].[Forex]}, [Hierarchies].[Trading Book Hierarchy].[Sub Business Unit]), Descendants({[Hierarchies].[Trading Book Hierarchy].[ALL].[AllMember].[Forex].[Developed Market]}, [Hierarchies].[Trading Book Hierarchy].[Trading Desk]), Descendants({[Hierarchies].[Trading Book Hierarchy].[ALL].[AllMember].[Forex].[Developed Market].[Hermes]}, [Hierarchies].[Trading Book Hierarchy].[Book]))) ON ROWS, NON EMPTY {[Measures].[VaR], [Measures].[Marginal VaR]} ON COLUMNS FROM [Positions] CELL PROPERTIES VALUE, FORMATTED_VALUE, BACK_COLOR, FORE_COLOR, FONT_FLAGS",
        "ranges": {
         "column": {
          "chunkSize": 50,
          "thresholdPercentage": 0.2
         },
         "row": {
          "chunkSize": 2000,
          "thresholdPercentage": 0.1
         }
        },
        "serverUrl": "",
        "updateMode": "once"
       },
       "containerKey": "pivot-table",
       "showTitleBar": false,
       "style": {}
      }
     }
    }
   },
   "outputs": [
    {
     "data": {
      "application/vnd.atoti.v0+json": {
       "cube": "Positions",
       "name": null,
       "session": "Unnamed"
      },
      "text/plain": [
       "Install and enable the atoti JupyterLab extension to see this widget."
      ]
     },
     "metadata": {},
     "output_type": "display_data"
    }
   ],
   "source": [
    "cube.visualize()"
   ]
  },
  {
   "cell_type": "markdown",
   "metadata": {},
   "source": [
    "## PnL Models Comparison\n",
    "\n",
    "The VaR calculation is heavily based on the PnL vectors that depend on the results of our instruments pricers, and the history that we have.  \n",
    "What would happen if pricers used a different model, or if we changed the amount of history we use to compute the VaR.\n",
    "\n",
    "Atoti also lets you perform easy simulations on data tables that were loaded.  \n",
    "Here we have another analytics file with PnL vectors but only for the last 150 days.  \n",
    "We will load this new file in the analytics store, but in a new scenario called \"Model short volatility\"."
   ]
  },
  {
   "cell_type": "code",
   "execution_count": 39,
   "metadata": {},
   "outputs": [],
   "source": [
    "new_analytics_file = (\n",
    "    \"s3://data.atoti.io/notebooks/var/instruments_pricing_vol_depth_150.csv\"\n",
    ")\n",
    "analytics.scenarios[\"Model short Volatility\"].load_csv(\n",
    "    new_analytics_file, sep=\"|\", array_sep=\";\"\n",
    ")"
   ]
  },
  {
   "cell_type": "markdown",
   "metadata": {},
   "source": [
    "And that's it, there is no need to re-load any of the previous files, re-define measures or perform batch computations. Everything we have previously defined is available in both our previous and this new scenario.  \n",
    "Let's have a look at it."
   ]
  },
  {
   "cell_type": "code",
   "execution_count": 41,
   "metadata": {
    "activeviam": {
     "state": {
      "name": "PnL comparaison Model Short Volatility",
      "type": "container",
      "value": {
       "body": {
        "configuration": {
         "mapping": {
          "horizontal": [],
          "splitBy": [
           "[Epoch].[Epoch].[Branch]"
          ],
          "values": [
           "[Measures].[PnL]"
          ],
          "vertical": [],
          "xAxis": [
           "[Hierarchies].[Trading Book Hierarchy].[Book]"
          ]
         },
         "type": "plotly-clustered-column-chart"
        },
        "query": {
         "mdx": "SELECT NON EMPTY Crossjoin([Hierarchies].[Trading Book Hierarchy].[Book].Members, [Epoch].[Epoch].[Branch].Members) ON ROWS, NON EMPTY [Measures].[PnL] ON COLUMNS FROM [Positions] CELL PROPERTIES VALUE, FORMATTED_VALUE, BACK_COLOR, FORE_COLOR, FONT_FLAGS",
         "serverUrl": "",
         "updateMode": "once"
        }
       },
       "containerKey": "chart",
       "showTitleBar": false,
       "style": {}
      }
     }
    },
    "atoti": {
     "state": {
      "name": "Pivot table comparison Model Short Volatility",
      "type": "container",
      "value": {
       "body": {
        "configuration": {
         "tabular": {
          "addButtonFilter": "numeric",
          "columnOrder": {
           "args": {
            "orderedColumns": [
             "__lineNumber__",
             "c-treeCells-member",
             "([Measures].[VaR],[Epoch].[Epoch].[Branch].[Base])",
             "([Measures].[VaR],[Epoch].[Epoch].[Branch].[Model short Volatility])",
             "([Measures].[VaR],[Epoch].[Epoch].[Branch].[Base - Model short Volatility])",
             "([Measures].[Marginal VaR],[Epoch].[Epoch].[Branch].[Base])",
             "([Measures].[Marginal VaR],[Epoch].[Epoch].[Branch].[Model short Volatility])",
             "([Measures].[Marginal VaR],[Epoch].[Epoch].[Branch].[Base - Model short Volatility])"
            ]
           },
           "key": "explicit"
          },
          "columns": [
           {
            "key": "([Measures].[VaR],[Epoch].[Epoch].[Branch].[Model short Volatility])",
            "width": 163
           },
           {
            "key": "([Measures].[Marginal VaR],[Epoch].[Epoch].[Branch].[Model short Volatility])",
            "width": 159
           },
           {
            "key": "c-treeCells-member",
            "width": 203
           },
           {
            "captions": [
             "VaR",
             "Difference"
            ],
            "key": "([Measures].[VaR],[Epoch].[Epoch].[Branch].[Base - Model short Volatility])",
            "width": 133
           },
           {
            "captions": [
             "Marginal VaR",
             "Difference"
            ],
            "key": "([Measures].[Marginal VaR],[Epoch].[Epoch].[Branch].[Base - Model short Volatility])"
           }
          ],
          "columnsGroups": [
           {
            "captionProducer": "firstColumn",
            "cellFactory": "kpi-status",
            "selector": "kpi-status"
           },
           {
            "captionProducer": "firstColumn",
            "cellFactory": "lookup",
            "selector": "lookup"
           },
           {
            "captionProducer": "expiry",
            "cellFactory": "expiry",
            "selector": "kpi-expiry"
           },
           {
            "captionProducer": "columnMerge",
            "cellFactory": {
             "args": {
              "automaticExpansion": true
             },
             "key": "treeCells"
            },
            "selector": "member"
           }
          ],
          "defaultOptions": {},
          "hideAddButton": true,
          "lineNumbers": true,
          "pinnedHeaderSelector": "member",
          "sortingMode": "non-breaking",
          "statisticsShown": true
         }
        },
        "contextValues": {},
        "mdx": "WITH  Member [Epoch].[Epoch].[Base - Model short Volatility] AS [Epoch].[Epoch].[Base] - [Epoch].[Epoch].[Model short Volatility], CAPTION = \"Base - Model short Volatility\"  SELECT NON EMPTY Hierarchize(Union(DrilldownLevel([Hierarchies].[Trading Book Hierarchy].[ALL].[AllMember]), Descendants({[Hierarchies].[Trading Book Hierarchy].[ALL].[AllMember].[Forex]}, [Hierarchies].[Trading Book Hierarchy].[Sub Business Unit]), Descendants({[Hierarchies].[Trading Book Hierarchy].[ALL].[AllMember].[Forex].[Developed Market]}, [Hierarchies].[Trading Book Hierarchy].[Trading Desk]))) ON ROWS, NON EMPTY Crossjoin({[Measures].[VaR], [Measures].[Marginal VaR]}, Hierarchize(Union([Epoch].[Epoch].[Branch].Members, [Epoch].[Epoch].[Base - Model short Volatility]))) ON COLUMNS FROM [Positions] CELL PROPERTIES BACK_COLOR, FONT_FLAGS, FORE_COLOR, FORMATTED_VALUE, VALUE",
        "ranges": {
         "column": {
          "chunkSize": 50,
          "thresholdPercentage": 0.2
         },
         "row": {
          "chunkSize": 2000,
          "thresholdPercentage": 0.1
         }
        },
        "serverUrl": "",
        "updateMode": "once"
       },
       "containerKey": "pivot-table",
       "showTitleBar": false,
       "style": {}
      }
     }
    }
   },
   "outputs": [
    {
     "data": {
      "application/vnd.atoti.v0+json": {
       "cube": "Positions",
       "name": "Pivot table comparison Model Short Volatility",
       "session": "Unnamed"
      },
      "text/plain": [
       "Install and enable the atoti JupyterLab extension to see this widget."
      ]
     },
     "metadata": {},
     "output_type": "display_data"
    }
   ],
   "source": [
    "cube.visualize(\"Pivot table comparison Model Short Volatility\")"
   ]
  },
  {
   "cell_type": "code",
   "execution_count": 43,
   "metadata": {
    "activeviam": {
     "state": {
      "name": "VAR Comaraison Model Short Volatility",
      "type": "container",
      "value": {
       "body": {
        "configuration": {
         "mapping": {
          "splitBy": [
           "[Epoch].[Epoch].[Branch]"
          ],
          "values": [
           "[Measures].[VaR]"
          ],
          "xAxis": [
           "[Hierarchies].[trading_desk].[trading_desk]"
          ]
         },
         "type": "plotly-clustered-column-chart"
        },
        "query": {
         "mdx": "SELECT NON EMPTY Crossjoin([Hierarchies].[trading_desk].[trading_desk].Members, [Epoch].[Epoch].[Branch].Members) ON ROWS, NON EMPTY [Measures].[VaR] ON COLUMNS FROM [Positions] CELL PROPERTIES VALUE, FORMATTED_VALUE, BACK_COLOR, FORE_COLOR, FONT_FLAGS",
         "serverUrl": "",
         "updateMode": "once"
        }
       },
       "containerKey": "chart",
       "showTitleBar": false,
       "style": {}
      }
     }
    },
    "atoti": {
     "state": {
      "name": "VAR comparison Model Short Volatility",
      "type": "container",
      "value": {
       "body": {
        "configuration": {
         "mapping": {
          "horizontal": [],
          "splitBy": [
           "[Epoch].[Epoch].[Branch]"
          ],
          "values": [
           "[Measures].[VaR]"
          ],
          "vertical": [],
          "xAxis": [
           "[Hierarchies].[book].[book]"
          ]
         },
         "type": "plotly-clustered-column-chart"
        },
        "query": {
         "mdx": "SELECT NON EMPTY Crossjoin([Hierarchies].[book].[book].Members, [Epoch].[Epoch].[Branch].Members) ON ROWS, NON EMPTY {[Measures].[VaR]} ON COLUMNS FROM [Positions] CELL PROPERTIES VALUE, FORMATTED_VALUE, BACK_COLOR, FORE_COLOR, FONT_FLAGS",
         "serverUrl": "",
         "updateMode": "once"
        }
       },
       "containerKey": "chart",
       "showTitleBar": false,
       "style": {}
      }
     }
    }
   },
   "outputs": [
    {
     "data": {
      "application/vnd.atoti.v0+json": {
       "cube": "Positions",
       "name": "VAR comparison Model Short Volatility",
       "session": "Unnamed"
      },
      "text/plain": [
       "Install and enable the atoti JupyterLab extension to see this widget."
      ]
     },
     "metadata": {},
     "output_type": "display_data"
    }
   ],
   "source": [
    "cube.visualize(\"VAR comparison Model Short Volatility\")"
   ]
  },
  {
   "cell_type": "markdown",
   "metadata": {},
   "source": [
    "## Combined Scenarios\n",
    "\n",
    "We may also combine scenarios together and answer questions such as \"What would be the VaR and Marginal VaR for the Short Volatility model combined with the 95% and 98% confidence level scenarios?\""
   ]
  },
  {
   "cell_type": "code",
   "execution_count": 45,
   "metadata": {
    "atoti": {
     "state": {
      "name": "Combined Scenarios",
      "type": "container",
      "value": {
       "body": {
        "configuration": {
         "tabular": {
          "addButtonFilter": "numeric",
          "columnsGroups": [
           {
            "captionProducer": "firstColumn",
            "cellFactory": "kpi-status",
            "selector": "kpi-status"
           },
           {
            "captionProducer": "firstColumn",
            "cellFactory": "lookup",
            "selector": "lookup"
           },
           {
            "captionProducer": "expiry",
            "cellFactory": "expiry",
            "selector": "kpi-expiry"
           },
           {
            "captionProducer": "columnMerge",
            "cellFactory": {
             "args": {},
             "key": "treeCells"
            },
            "selector": "member"
           }
          ],
          "defaultOptions": {},
          "expansion": {
           "automaticExpansion": true
          },
          "hideAddButton": true,
          "pinnedHeaderSelector": "member",
          "sortingMode": "non-breaking",
          "statisticsShown": true
         }
        },
        "contextValues": {},
        "mdx": "SELECT NON EMPTY Hierarchize(Union(DrilldownLevel([Hierarchies].[Trading Book Hierarchy].[ALL].[AllMember]), Descendants({[Hierarchies].[Trading Book Hierarchy].[ALL].[AllMember].[Forex]}, [Hierarchies].[Trading Book Hierarchy].[Sub Business Unit]), Descendants({[Hierarchies].[Trading Book Hierarchy].[ALL].[AllMember].[Forex].[Frontier Market]}, [Hierarchies].[Trading Book Hierarchy].[Trading Desk]), Descendants({[Hierarchies].[Trading Book Hierarchy].[ALL].[AllMember].[Forex].[Frontier Market].[Chronos]}, [Hierarchies].[Trading Book Hierarchy].[Book]))) ON ROWS, NON EMPTY Crossjoin([Measure Simulations].[Confidence Level].[Confidence Level].Members, [Epoch].[Epoch].[Branch].Members, {[Measures].[VaR], [Measures].[Marginal VaR]}) ON COLUMNS FROM (SELECT {[Measure Simulations].[Confidence Level].[Confidence Level].[95%], [Measure Simulations].[Confidence Level].[Confidence Level].[98%]} ON COLUMNS FROM [Positions]) CELL PROPERTIES VALUE, FORMATTED_VALUE, BACK_COLOR, FORE_COLOR, FONT_FLAGS",
        "ranges": {
         "column": {
          "chunkSize": 50,
          "thresholdPercentage": 0.2
         },
         "row": {
          "chunkSize": 2000,
          "thresholdPercentage": 0.1
         }
        },
        "serverUrl": "",
        "updateMode": "once"
       },
       "containerKey": "pivot-table",
       "showTitleBar": false,
       "style": {}
      }
     }
    }
   },
   "outputs": [
    {
     "data": {
      "application/vnd.atoti.v0+json": {
       "cube": "Positions",
       "name": "Combined Scenarios",
       "session": "Unnamed"
      },
      "text/plain": [
       "Install and enable the atoti JupyterLab extension to see this widget."
      ]
     },
     "metadata": {},
     "output_type": "display_data"
    }
   ],
   "source": [
    "cube.visualize(\"Combined Scenarios\")"
   ]
  }
 ],
 "metadata": {
  "kernelspec": {
   "display_name": "Python 3",
   "language": "python",
   "name": "python3"
  },
  "language_info": {
   "codemirror_mode": {
    "name": "ipython",
    "version": 3
   },
   "file_extension": ".py",
   "mimetype": "text/x-python",
   "name": "python",
   "nbconvert_exporter": "python",
   "pygments_lexer": "ipython3",
   "version": "3.7.6"
  }
 },
 "nbformat": 4,
 "nbformat_minor": 4
}
