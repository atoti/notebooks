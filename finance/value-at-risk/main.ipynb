{
 "cells": [
  {
   "cell_type": "markdown",
   "metadata": {},
   "source": [
    "# Value at Risk: A simple way to monitor market risk with Atoti\n",
    "\n",
    "Financial institutions all have to find a balance between profit and risk. The more risk taken the higher the profit can be. However if we want to avoid collapses such as that of Lehman Brothers in 2008, risk has to be controlled.  \n",
    "\n",
    "There are several kinds of risk:\n",
    "- Shortfall of a counterparty also know as credit risk: This is the risk that a borrower cannot pay its credit\n",
    "- Market risk: This is the risk that certain assets could lose their value. For example one might invest in wine bottle in the hope that they gain value with age while they might not.\n",
    "\n",
    "Market risk is widely monitored in finance. Institutions have large portfolios with a lot of assets, and forecasting the value of each asset is simply impossible as COVID-19 kindly reminded us recently. The key is then to assess what are the (statistical) chances that the value of certain assets remain in a certain envelope and what the potential losses are. This is where the value at risk – or VaR – comes into action.\n",
    "\n",
    "There are various different approaches to calculating the VaR. The one we will use in this notebook is based on the aggregation of simulated profit & losses, and then calculated using a percentile of the empirical distribution.\n",
    "\n",
    "We will see how we can compute and aggregate pretty easily this non-linear indicator with Atoti, and then perform simulations around it."
   ]
  },
  {
   "cell_type": "markdown",
   "metadata": {},
   "source": [
    "## Importing the necessary libraries"
   ]
  },
  {
   "cell_type": "code",
   "execution_count": 1,
   "metadata": {},
   "outputs": [
    {
     "name": "stdout",
     "output_type": "stream",
     "text": [
      "Welcome to Atoti 0.3.1!\n",
      "\n",
      "By using this community edition, you agree with the license available at https://www.atoti.io/eula.\n",
      "Browse the official documentation at https://docs.atoti.io.\n",
      "Join the community at https://www.atoti.io/register.\n",
      "\n",
      "You can hide this message by setting the ATOTI_HIDE_EULA_MESSAGE environment variable to True.\n"
     ]
    }
   ],
   "source": [
    "import pandas as pd\n",
    "import atoti\n",
    "import sys  \n",
    "sys.path.append('../../utils')\n",
    "import notebook_utils\n",
    "# You will need wget to load the data this notebook uses.\n",
    "# If you do not already have it installed: conda install python-wget"
   ]
  },
  {
   "cell_type": "markdown",
   "metadata": {},
   "source": [
    "## Data Loading\n",
    "#### Initializing Atoti"
   ]
  },
  {
   "cell_type": "code",
   "execution_count": 2,
   "metadata": {},
   "outputs": [],
   "source": [
    "from atoti.config import create_config\n",
    "#tell atoti to load the database containing the UI dashboards\n",
    "config = create_config(metadata_db=\"./metadata.db\")\n",
    "session = atoti.create_session(config=config)"
   ]
  },
  {
   "cell_type": "markdown",
   "metadata": {},
   "source": [
    "#### Downloading the notebook demo data"
   ]
  },
  {
   "cell_type": "code",
   "execution_count": 3,
   "metadata": {},
   "outputs": [
    {
     "name": "stdout",
     "output_type": "stream",
     "text": [
      "instruments.csv already downloaded.\n",
      "instruments_pricing_vol_depth_272.csv already downloaded.\n",
      "positions.csv already downloaded.\n",
      "trading_desk.csv already downloaded.\n",
      "instruments_pricing_vol_depth_150.csv already downloaded.\n"
     ]
    }
   ],
   "source": [
    "notebook_utils.download_source('http://data.atoti.io/notebooks/var/instruments.csv')\n",
    "notebook_utils.download_source('http://data.atoti.io/notebooks/var/instruments_pricing_vol_depth_272.csv')\n",
    "notebook_utils.download_source('http://data.atoti.io/notebooks/var/positions.csv')\n",
    "notebook_utils.download_source('http://data.atoti.io/notebooks/var/trading_desk.csv')\n",
    "notebook_utils.download_source('http://data.atoti.io/notebooks/var/instruments_pricing_vol_depth_150.csv')"
   ]
  },
  {
   "cell_type": "markdown",
   "metadata": {},
   "source": [
    "Instruments are financial products. In this notebook they are foreign exchange options."
   ]
  },
  {
   "cell_type": "code",
   "execution_count": 4,
   "metadata": {},
   "outputs": [],
   "source": [
    "instruments = session.read_csv('instruments.csv', keys=['instrument_code'], store_name=\"Instruments\")"
   ]
  },
  {
   "cell_type": "code",
   "execution_count": 5,
   "metadata": {},
   "outputs": [
    {
     "data": {
      "text/html": [
       "<div>\n",
       "<style scoped>\n",
       "    .dataframe tbody tr th:only-of-type {\n",
       "        vertical-align: middle;\n",
       "    }\n",
       "\n",
       "    .dataframe tbody tr th {\n",
       "        vertical-align: top;\n",
       "    }\n",
       "\n",
       "    .dataframe thead th {\n",
       "        text-align: right;\n",
       "    }\n",
       "</style>\n",
       "<table border=\"1\" class=\"dataframe\">\n",
       "  <thead>\n",
       "    <tr style=\"text-align: right;\">\n",
       "      <th></th>\n",
       "      <th>underlying_code</th>\n",
       "      <th>strike</th>\n",
       "      <th>option_type</th>\n",
       "      <th>maturity</th>\n",
       "      <th>contract_size</th>\n",
       "    </tr>\n",
       "    <tr>\n",
       "      <th>instrument_code</th>\n",
       "      <th></th>\n",
       "      <th></th>\n",
       "      <th></th>\n",
       "      <th></th>\n",
       "      <th></th>\n",
       "    </tr>\n",
       "  </thead>\n",
       "  <tbody>\n",
       "    <tr>\n",
       "      <th>EURUSD=X c 1 @1.251000</th>\n",
       "      <td>EURUSD=X</td>\n",
       "      <td>1.251000</td>\n",
       "      <td>c</td>\n",
       "      <td>1</td>\n",
       "      <td>100000</td>\n",
       "    </tr>\n",
       "    <tr>\n",
       "      <th>EURUSD=X p 1 @1.251000</th>\n",
       "      <td>EURUSD=X</td>\n",
       "      <td>1.251000</td>\n",
       "      <td>p</td>\n",
       "      <td>1</td>\n",
       "      <td>100000</td>\n",
       "    </tr>\n",
       "    <tr>\n",
       "      <th>EURUSD=X c 1 @1.106200</th>\n",
       "      <td>EURUSD=X</td>\n",
       "      <td>1.106200</td>\n",
       "      <td>c</td>\n",
       "      <td>1</td>\n",
       "      <td>100000</td>\n",
       "    </tr>\n",
       "    <tr>\n",
       "      <th>EURUSD=X p 1 @1.106200</th>\n",
       "      <td>EURUSD=X</td>\n",
       "      <td>1.106200</td>\n",
       "      <td>p</td>\n",
       "      <td>1</td>\n",
       "      <td>100000</td>\n",
       "    </tr>\n",
       "    <tr>\n",
       "      <th>EURUSD=X c 1 @1.163233</th>\n",
       "      <td>EURUSD=X</td>\n",
       "      <td>1.163233</td>\n",
       "      <td>c</td>\n",
       "      <td>1</td>\n",
       "      <td>100000</td>\n",
       "    </tr>\n",
       "  </tbody>\n",
       "</table>\n",
       "</div>"
      ],
      "text/plain": [
       "                       underlying_code    strike option_type  maturity  \\\n",
       "instrument_code                                                          \n",
       "EURUSD=X c 1 @1.251000        EURUSD=X  1.251000           c         1   \n",
       "EURUSD=X p 1 @1.251000        EURUSD=X  1.251000           p         1   \n",
       "EURUSD=X c 1 @1.106200        EURUSD=X  1.106200           c         1   \n",
       "EURUSD=X p 1 @1.106200        EURUSD=X  1.106200           p         1   \n",
       "EURUSD=X c 1 @1.163233        EURUSD=X  1.163233           c         1   \n",
       "\n",
       "                        contract_size  \n",
       "instrument_code                        \n",
       "EURUSD=X c 1 @1.251000         100000  \n",
       "EURUSD=X p 1 @1.251000         100000  \n",
       "EURUSD=X c 1 @1.106200         100000  \n",
       "EURUSD=X p 1 @1.106200         100000  \n",
       "EURUSD=X c 1 @1.163233         100000  "
      ]
     },
     "execution_count": 5,
     "metadata": {},
     "output_type": "execute_result"
    }
   ],
   "source": [
    "instruments.head()"
   ]
  },
  {
   "cell_type": "markdown",
   "metadata": {},
   "source": [
    "The analytics store gives more information on each instrument, more notably:\n",
    "- The PnL (profit and loss) of the previous day\n",
    "- A vector of the PnLs of the instrument for the last 272 days. PnLs are typically calculated by complex price engines and such vectors would be their result."
   ]
  },
  {
   "cell_type": "code",
   "execution_count": 6,
   "metadata": {},
   "outputs": [],
   "source": [
    "analytics = session.read_csv('instruments_pricing_vol_depth_272.csv', keys=['instrument_code'], store_name=\"Instruments Analytics\", sep=\"|\", array_sep=\";\")"
   ]
  },
  {
   "cell_type": "code",
   "execution_count": 7,
   "metadata": {},
   "outputs": [
    {
     "data": {
      "text/html": [
       "<div>\n",
       "<style scoped>\n",
       "    .dataframe tbody tr th:only-of-type {\n",
       "        vertical-align: middle;\n",
       "    }\n",
       "\n",
       "    .dataframe tbody tr th {\n",
       "        vertical-align: top;\n",
       "    }\n",
       "\n",
       "    .dataframe thead th {\n",
       "        text-align: right;\n",
       "    }\n",
       "</style>\n",
       "<table border=\"1\" class=\"dataframe\">\n",
       "  <thead>\n",
       "    <tr style=\"text-align: right;\">\n",
       "      <th></th>\n",
       "      <th>pnl_vector</th>\n",
       "      <th>vector_size</th>\n",
       "      <th>pnl</th>\n",
       "      <th>value_change_get_values_last</th>\n",
       "    </tr>\n",
       "    <tr>\n",
       "      <th>instrument_code</th>\n",
       "      <th></th>\n",
       "      <th></th>\n",
       "      <th></th>\n",
       "      <th></th>\n",
       "    </tr>\n",
       "  </thead>\n",
       "  <tbody>\n",
       "    <tr>\n",
       "      <th>EURAUD=X c 1 @1.480500</th>\n",
       "      <td>doubleVector[272]{12624.202770457445, ...}</td>\n",
       "      <td>272.0</td>\n",
       "      <td>12624.202770</td>\n",
       "      <td>-219.999998</td>\n",
       "    </tr>\n",
       "    <tr>\n",
       "      <th>EURAUD=X c 1 @1.578882</th>\n",
       "      <td>doubleVector[272]{4308.278694271345, ...}</td>\n",
       "      <td>272.0</td>\n",
       "      <td>4308.278694</td>\n",
       "      <td>-219.597787</td>\n",
       "    </tr>\n",
       "    <tr>\n",
       "      <th>EURAUD=X c 1 @1.662000</th>\n",
       "      <td>doubleVector[272]{-1744.4302935895314, ...}</td>\n",
       "      <td>272.0</td>\n",
       "      <td>-1744.430294</td>\n",
       "      <td>-168.476599</td>\n",
       "    </tr>\n",
       "    <tr>\n",
       "      <th>EURAUD=X p 1 @1.480500</th>\n",
       "      <td>doubleVector[272]{-20519.06471441983, ...}</td>\n",
       "      <td>272.0</td>\n",
       "      <td>-20519.064714</td>\n",
       "      <td>0.000002</td>\n",
       "    </tr>\n",
       "    <tr>\n",
       "      <th>EURAUD=X p 1 @1.578882</th>\n",
       "      <td>doubleVector[272]{-10239.767451773394, ...}</td>\n",
       "      <td>272.0</td>\n",
       "      <td>-10239.767452</td>\n",
       "      <td>0.402213</td>\n",
       "    </tr>\n",
       "  </tbody>\n",
       "</table>\n",
       "</div>"
      ],
      "text/plain": [
       "                                                         pnl_vector  \\\n",
       "instrument_code                                                       \n",
       "EURAUD=X c 1 @1.480500   doubleVector[272]{12624.202770457445, ...}   \n",
       "EURAUD=X c 1 @1.578882    doubleVector[272]{4308.278694271345, ...}   \n",
       "EURAUD=X c 1 @1.662000  doubleVector[272]{-1744.4302935895314, ...}   \n",
       "EURAUD=X p 1 @1.480500   doubleVector[272]{-20519.06471441983, ...}   \n",
       "EURAUD=X p 1 @1.578882  doubleVector[272]{-10239.767451773394, ...}   \n",
       "\n",
       "                        vector_size           pnl  \\\n",
       "instrument_code                                     \n",
       "EURAUD=X c 1 @1.480500        272.0  12624.202770   \n",
       "EURAUD=X c 1 @1.578882        272.0   4308.278694   \n",
       "EURAUD=X c 1 @1.662000        272.0  -1744.430294   \n",
       "EURAUD=X p 1 @1.480500        272.0 -20519.064714   \n",
       "EURAUD=X p 1 @1.578882        272.0 -10239.767452   \n",
       "\n",
       "                        value_change_get_values_last  \n",
       "instrument_code                                       \n",
       "EURAUD=X c 1 @1.480500                   -219.999998  \n",
       "EURAUD=X c 1 @1.578882                   -219.597787  \n",
       "EURAUD=X c 1 @1.662000                   -168.476599  \n",
       "EURAUD=X p 1 @1.480500                      0.000002  \n",
       "EURAUD=X p 1 @1.578882                      0.402213  "
      ]
     },
     "execution_count": 7,
     "metadata": {},
     "output_type": "execute_result"
    }
   ],
   "source": [
    "analytics.head()"
   ]
  },
  {
   "cell_type": "code",
   "execution_count": 8,
   "metadata": {},
   "outputs": [],
   "source": [
    "# We will force the type of those two columns so that when using auto mode to create the cube, they will directly create sum and avg measures. \n",
    "# Since Int columns create hierarchies in auto mode, another solution would have been to create the measures manually.\n",
    "positions_store_types = {\n",
    "    \"quantity\": atoti.types.DOUBLE,\n",
    "    \"purchase_price\": atoti.types.DOUBLE,\n",
    "}"
   ]
  },
  {
   "cell_type": "markdown",
   "metadata": {},
   "source": [
    "Positions give us the quantities of each instrument we currently hold in our portfolio.  \n",
    "They are grouped into books."
   ]
  },
  {
   "cell_type": "code",
   "execution_count": 9,
   "metadata": {},
   "outputs": [],
   "source": [
    "positions = session.read_csv('positions.csv', keys=['instrument_code','book_id'], store_name=\"Positions\", types=positions_store_types)"
   ]
  },
  {
   "cell_type": "code",
   "execution_count": 10,
   "metadata": {},
   "outputs": [
    {
     "data": {
      "text/html": [
       "<div>\n",
       "<style scoped>\n",
       "    .dataframe tbody tr th:only-of-type {\n",
       "        vertical-align: middle;\n",
       "    }\n",
       "\n",
       "    .dataframe tbody tr th {\n",
       "        vertical-align: top;\n",
       "    }\n",
       "\n",
       "    .dataframe thead th {\n",
       "        text-align: right;\n",
       "    }\n",
       "</style>\n",
       "<table border=\"1\" class=\"dataframe\">\n",
       "  <thead>\n",
       "    <tr style=\"text-align: right;\">\n",
       "      <th></th>\n",
       "      <th></th>\n",
       "      <th>underlying</th>\n",
       "      <th>quantity</th>\n",
       "      <th>purchase_price</th>\n",
       "    </tr>\n",
       "    <tr>\n",
       "      <th>instrument_code</th>\n",
       "      <th>book_id</th>\n",
       "      <th></th>\n",
       "      <th></th>\n",
       "      <th></th>\n",
       "    </tr>\n",
       "  </thead>\n",
       "  <tbody>\n",
       "    <tr>\n",
       "      <th rowspan=\"5\" valign=\"top\">EURUSD=X c 1 @1.251000</th>\n",
       "      <th>1</th>\n",
       "      <td>EURUSD=X</td>\n",
       "      <td>1.0</td>\n",
       "      <td>0.0</td>\n",
       "    </tr>\n",
       "    <tr>\n",
       "      <th>2</th>\n",
       "      <td>EURUSD=X</td>\n",
       "      <td>1.0</td>\n",
       "      <td>0.0</td>\n",
       "    </tr>\n",
       "    <tr>\n",
       "      <th>3</th>\n",
       "      <td>EURUSD=X</td>\n",
       "      <td>1.0</td>\n",
       "      <td>0.0</td>\n",
       "    </tr>\n",
       "    <tr>\n",
       "      <th>4</th>\n",
       "      <td>EURUSD=X</td>\n",
       "      <td>1.0</td>\n",
       "      <td>0.0</td>\n",
       "    </tr>\n",
       "    <tr>\n",
       "      <th>5</th>\n",
       "      <td>EURUSD=X</td>\n",
       "      <td>1.0</td>\n",
       "      <td>0.0</td>\n",
       "    </tr>\n",
       "  </tbody>\n",
       "</table>\n",
       "</div>"
      ],
      "text/plain": [
       "                               underlying  quantity  purchase_price\n",
       "instrument_code        book_id                                     \n",
       "EURUSD=X c 1 @1.251000 1         EURUSD=X       1.0             0.0\n",
       "                       2         EURUSD=X       1.0             0.0\n",
       "                       3         EURUSD=X       1.0             0.0\n",
       "                       4         EURUSD=X       1.0             0.0\n",
       "                       5         EURUSD=X       1.0             0.0"
      ]
     },
     "execution_count": 10,
     "metadata": {},
     "output_type": "execute_result"
    }
   ],
   "source": [
    "positions.head()"
   ]
  },
  {
   "cell_type": "markdown",
   "metadata": {},
   "source": [
    "### Data model and cube\n",
    "We will first join the three previous stores altogether to form the following data model:\n",
    "\n",
    "![Data model](img/model1.JPG)"
   ]
  },
  {
   "cell_type": "code",
   "execution_count": 11,
   "metadata": {},
   "outputs": [],
   "source": [
    "positions.join(instruments)\n",
    "instruments.join(analytics)"
   ]
  },
  {
   "cell_type": "markdown",
   "metadata": {},
   "source": [
    "Then create an OLAP cube on top of that to start our analysis."
   ]
  },
  {
   "cell_type": "code",
   "execution_count": 12,
   "metadata": {},
   "outputs": [],
   "source": [
    "cube = session.create_cube(positions, \"Positions\")"
   ]
  },
  {
   "cell_type": "markdown",
   "metadata": {},
   "source": [
    "In auto mode, Atoti creates hierarchies for each string columns, sum and average measures for each numerical column.  \n",
    "This can of course be fine-tuned to either switch to full manual mode and create hierarchies/measures yourself, or simply edit what has been created automatically (adding a hierarchy for a numerical column for example). The available cube creation modes are detailed in the [documentation](https://docs.atoti.io/0.3.1/lib/atoti.html?highlight=create#atoti.session.Session.create_cube).   \n",
    "\n",
    "Below you can explore which measures/levels/hierarchies have been automatically created in our cube."
   ]
  },
  {
   "cell_type": "code",
   "execution_count": 13,
   "metadata": {},
   "outputs": [
    {
     "data": {
      "application/json": {
       "Dimensions": {
        "Hierarchies": {
         "book_id": [
          "book_id"
         ],
         "contract_size": [
          "contract_size"
         ],
         "instrument_code": [
          "instrument_code"
         ],
         "maturity": [
          "maturity"
         ],
         "option_type": [
          "option_type"
         ],
         "underlying": [
          "underlying"
         ],
         "underlying_code": [
          "underlying_code"
         ]
        }
       },
       "Measures": {
        "contributors.COUNT": {
         "formatter": null,
         "visible": true
        },
        "pnl.VALUE": {
         "formatter": "DOUBLE[#,###.00]",
         "visible": true
        },
        "pnl_vector.VALUE": {
         "formatter": null,
         "visible": true
        },
        "purchase_price.AVG": {
         "formatter": "DOUBLE[#,###.00]",
         "visible": true
        },
        "purchase_price.SUM": {
         "formatter": "DOUBLE[#,###.00]",
         "visible": true
        },
        "quantity.AVG": {
         "formatter": "DOUBLE[#,###.00]",
         "visible": true
        },
        "quantity.SUM": {
         "formatter": "DOUBLE[#,###.00]",
         "visible": true
        },
        "strike.VALUE": {
         "formatter": "DOUBLE[#,###.00]",
         "visible": true
        },
        "value_change_get_values_last.VALUE": {
         "formatter": "DOUBLE[#,###.00]",
         "visible": true
        },
        "vector_size.VALUE": {
         "formatter": "DOUBLE[#,###.00]",
         "visible": true
        }
       }
      },
      "text/html": [
       "<ul>\n",
       "<li>Positions\n",
       "  <ul>\n",
       "  <li>Dimensions\n",
       "    <ul>\n",
       "    <li>Hierarchies\n",
       "      <ul>\n",
       "      <li>book_id\n",
       "        <ol>\n",
       "        <li>book_id</li>\n",
       "        </ol>      </li>\n",
       "      <li>contract_size\n",
       "        <ol>\n",
       "        <li>contract_size</li>\n",
       "        </ol>      </li>\n",
       "      <li>instrument_code\n",
       "        <ol>\n",
       "        <li>instrument_code</li>\n",
       "        </ol>      </li>\n",
       "      <li>maturity\n",
       "        <ol>\n",
       "        <li>maturity</li>\n",
       "        </ol>      </li>\n",
       "      <li>option_type\n",
       "        <ol>\n",
       "        <li>option_type</li>\n",
       "        </ol>      </li>\n",
       "      <li>underlying\n",
       "        <ol>\n",
       "        <li>underlying</li>\n",
       "        </ol>      </li>\n",
       "      <li>underlying_code\n",
       "        <ol>\n",
       "        <li>underlying_code</li>\n",
       "        </ol>      </li>\n",
       "      </ul>\n",
       "    </li>\n",
       "    </ul>\n",
       "  </li>\n",
       "  <li>Measures\n",
       "    <ul>\n",
       "    <li>contributors.COUNT\n",
       "      <ul>\n",
       "      <li>formatter: None</li>\n",
       "      <li>visible: True</li>\n",
       "      </ul>\n",
       "    </li>\n",
       "    <li>pnl.VALUE\n",
       "      <ul>\n",
       "      <li>formatter: DOUBLE[#,###.00]</li>\n",
       "      <li>visible: True</li>\n",
       "      </ul>\n",
       "    </li>\n",
       "    <li>pnl_vector.VALUE\n",
       "      <ul>\n",
       "      <li>formatter: None</li>\n",
       "      <li>visible: True</li>\n",
       "      </ul>\n",
       "    </li>\n",
       "    <li>purchase_price.AVG\n",
       "      <ul>\n",
       "      <li>formatter: DOUBLE[#,###.00]</li>\n",
       "      <li>visible: True</li>\n",
       "      </ul>\n",
       "    </li>\n",
       "    <li>purchase_price.SUM\n",
       "      <ul>\n",
       "      <li>formatter: DOUBLE[#,###.00]</li>\n",
       "      <li>visible: True</li>\n",
       "      </ul>\n",
       "    </li>\n",
       "    <li>quantity.AVG\n",
       "      <ul>\n",
       "      <li>formatter: DOUBLE[#,###.00]</li>\n",
       "      <li>visible: True</li>\n",
       "      </ul>\n",
       "    </li>\n",
       "    <li>quantity.SUM\n",
       "      <ul>\n",
       "      <li>formatter: DOUBLE[#,###.00]</li>\n",
       "      <li>visible: True</li>\n",
       "      </ul>\n",
       "    </li>\n",
       "    <li>strike.VALUE\n",
       "      <ul>\n",
       "      <li>formatter: DOUBLE[#,###.00]</li>\n",
       "      <li>visible: True</li>\n",
       "      </ul>\n",
       "    </li>\n",
       "    <li>value_change_get_values_last.VALUE\n",
       "      <ul>\n",
       "      <li>formatter: DOUBLE[#,###.00]</li>\n",
       "      <li>visible: True</li>\n",
       "      </ul>\n",
       "    </li>\n",
       "    <li>vector_size.VALUE\n",
       "      <ul>\n",
       "      <li>formatter: DOUBLE[#,###.00]</li>\n",
       "      <li>visible: True</li>\n",
       "      </ul>\n",
       "    </li>\n",
       "    </ul>\n",
       "  </li>\n",
       "  </ul>\n",
       "</li>\n",
       "</ul>\n"
      ],
      "text/plain": [
       "<atoti.cube.Cube at 0x261eb0c1f48>"
      ]
     },
     "execution_count": 13,
     "metadata": {
      "application/json": {
       "expanded": false,
       "root": "Positions"
      }
     },
     "output_type": "execute_result"
    }
   ],
   "source": [
    "m = cube.measures\n",
    "h = cube.hierarchies\n",
    "l = cube.levels\n",
    "cube"
   ]
  },
  {
   "cell_type": "markdown",
   "metadata": {},
   "source": [
    "A simple command lets you run the Atoti UI directly in our notebook. Pretty convenient to explore the data you just loaded or make sure the measures defined produce the correct results."
   ]
  },
  {
   "cell_type": "code",
   "execution_count": 15,
   "metadata": {
    "atoti": {
     "state": {
      "name": "",
      "type": "container",
      "value": {
       "body": {
        "configuration": {
         "tabular": {
          "addButtonFilter": "numeric",
          "columns": [
           {
            "key": "[Measures].[pnl_vector.VALUE]",
            "width": 382
           }
          ],
          "columnsGroups": [
           {
            "captionProducer": "firstColumn",
            "cellFactory": "kpi-status",
            "selector": "kpi-status"
           },
           {
            "captionProducer": "firstColumn",
            "cellFactory": "lookup",
            "selector": "lookup"
           },
           {
            "captionProducer": "expiry",
            "cellFactory": "expiry",
            "selector": "kpi-expiry"
           },
           {
            "captionProducer": "columnMerge",
            "cellFactory": {
             "args": {
              "automaticExpansion": true
             },
             "key": "treeCells"
            },
            "selector": "member"
           }
          ],
          "defaultOptions": {},
          "hideAddButton": true,
          "lineNumbers": true,
          "pinnedHeaderSelector": "member",
          "sortingMode": "non-breaking",
          "statisticsShown": true
         }
        },
        "contextValues": {},
        "mdx": "SELECT NON EMPTY Crossjoin(Hierarchize(DrilldownLevel([Hierarchies].[underlying].[ALL].[AllMember])), Hierarchize(DrilldownLevel([Hierarchies].[instrument_code].[ALL].[AllMember])), Hierarchize(DrilldownLevel([Hierarchies].[book_id].[ALL].[AllMember]))) ON ROWS, NON EMPTY {[Measures].[quantity.SUM], [Measures].[pnl.VALUE], [Measures].[pnl_vector.VALUE]} ON COLUMNS FROM [Positions] CELL PROPERTIES VALUE, FORMATTED_VALUE, BACK_COLOR, FORE_COLOR, FONT_FLAGS",
        "ranges": {
         "column": {
          "chunkSize": 50,
          "thresholdPercentage": 0.2
         },
         "row": {
          "chunkSize": 2000,
          "thresholdPercentage": 0.1
         }
        },
        "serverUrl": "",
        "updateMode": "once"
       },
       "containerKey": "pivot-table",
       "showTitleBar": false,
       "style": {}
      }
     }
    }
   },
   "outputs": [
    {
     "data": {
      "application/vnd.atoti.v0+json": {
       "cube": "Positions",
       "name": null,
       "session": "Unnamed"
      },
      "text/plain": [
       "Install the Atoti JupyterLab extension to see this widget."
      ]
     },
     "metadata": {},
     "output_type": "display_data"
    }
   ],
   "source": [
    "cube.visualize()"
   ]
  },
  {
   "cell_type": "markdown",
   "metadata": {},
   "source": [
    "#### Computing the PnL of the previous day"
   ]
  },
  {
   "cell_type": "code",
   "execution_count": 15,
   "metadata": {},
   "outputs": [],
   "source": [
    "# Let's give this measure a more user friendly name\n",
    "m[\"Quantity\"] = m[\"quantity.SUM\"]"
   ]
  },
  {
   "cell_type": "code",
   "execution_count": 16,
   "metadata": {},
   "outputs": [],
   "source": [
    "m[\"PnL\"] = atoti.agg.sum(m[\"quantity.SUM\"] * m[\"pnl.VALUE\"], scope=atoti.scope.origin('instrument_code'))"
   ]
  },
  {
   "cell_type": "markdown",
   "metadata": {},
   "source": [
    "### Looking a the PnL in various ways\n",
    "Run the following cells to see the Atoti visualizations"
   ]
  },
  {
   "cell_type": "code",
   "execution_count": 18,
   "metadata": {
    "activeviam": {
     "state": {
      "name": "PnL Pivot Table",
      "type": "container",
      "value": {
       "body": {
        "configuration": {
         "tabular": {
          "addButtonFilter": "numeric",
          "columns": [],
          "columnsGroups": [
           {
            "captionProducer": "firstColumn",
            "cellFactory": "kpi-status",
            "selector": "kpi-status"
           },
           {
            "captionProducer": "firstColumn",
            "cellFactory": "lookup",
            "selector": "lookup"
           },
           {
            "captionProducer": "expiry",
            "cellFactory": "expiry",
            "selector": "kpi-expiry"
           },
           {
            "captionProducer": "columnMerge",
            "cellFactory": {
             "args": {
              "automaticExpansion": true
             },
             "key": "treeCells"
            },
            "selector": "member"
           }
          ],
          "defaultOptions": {},
          "hideAddButton": true,
          "lineNumbers": true,
          "pinnedHeaderSelector": "member",
          "sortingMode": "non-breaking",
          "statisticsShown": true
         }
        },
        "contextValues": {},
        "mdx": "SELECT NON EMPTY Crossjoin(Hierarchize(DrilldownLevel([Hierarchies].[underlying].[ALL].[AllMember])), Hierarchize(DrilldownLevel([Hierarchies].[option_type].[ALL].[AllMember]))) ON ROWS, NON EMPTY {[Measures].[contributors.COUNT], [Measures].[Quantity], [Measures].[PnL]} ON COLUMNS FROM [Positions] CELL PROPERTIES VALUE, FORMATTED_VALUE, BACK_COLOR, FORE_COLOR, FONT_FLAGS",
        "ranges": {
         "column": {
          "chunkSize": 50,
          "thresholdPercentage": 0.2
         },
         "row": {
          "chunkSize": 2000,
          "thresholdPercentage": 0.1
         }
        },
        "serverUrl": "",
        "updateMode": "once"
       },
       "containerKey": "pivot-table",
       "showTitleBar": false,
       "style": {}
      }
     }
    },
    "atoti": {
     "state": {
      "name": "PnL Pivot Table",
      "type": "container",
      "value": {
       "body": {
        "configuration": {
         "tabular": {
          "addButtonFilter": "numeric",
          "columnsGroups": [
           {
            "captionProducer": "firstColumn",
            "cellFactory": "kpi-status",
            "selector": "kpi-status"
           },
           {
            "captionProducer": "firstColumn",
            "cellFactory": "lookup",
            "selector": "lookup"
           },
           {
            "captionProducer": "expiry",
            "cellFactory": "expiry",
            "selector": "kpi-expiry"
           },
           {
            "captionProducer": "columnMerge",
            "cellFactory": {
             "args": {
              "automaticExpansion": true
             },
             "key": "treeCells"
            },
            "selector": "member"
           }
          ],
          "defaultOptions": {},
          "hideAddButton": true,
          "lineNumbers": true,
          "pinnedHeaderSelector": "member",
          "sortingMode": "non-breaking",
          "statisticsShown": true
         }
        },
        "contextValues": {},
        "mdx": "SELECT NON EMPTY Crossjoin(Hierarchize(DrilldownLevel([Hierarchies].[book_id].[ALL].[AllMember])), Hierarchize(DrilldownLevel([Hierarchies].[underlying].[ALL].[AllMember])), Hierarchize(DrilldownLevel([Hierarchies].[instrument_code].[ALL].[AllMember]))) ON ROWS, NON EMPTY {[Measures].[PnL], [Measures].[Quantity]} ON COLUMNS FROM [Positions] CELL PROPERTIES VALUE, FORMATTED_VALUE, BACK_COLOR, FORE_COLOR, FONT_FLAGS",
        "ranges": {
         "column": {
          "chunkSize": 50,
          "thresholdPercentage": 0.2
         },
         "row": {
          "chunkSize": 2000,
          "thresholdPercentage": 0.1
         }
        },
        "serverUrl": "",
        "updateMode": "once"
       },
       "containerKey": "pivot-table",
       "showTitleBar": false,
       "style": {}
      }
     }
    }
   },
   "outputs": [
    {
     "data": {
      "application/vnd.atoti.v0+json": {
       "cube": "Positions",
       "name": "PnL Pivot Table",
       "session": "Unnamed"
      },
      "text/plain": [
       "Install the Atoti JupyterLab extension to see this widget."
      ]
     },
     "metadata": {},
     "output_type": "display_data"
    }
   ],
   "source": [
    "cube.visualize(name=\"PnL Pivot Table\")"
   ]
  },
  {
   "cell_type": "code",
   "execution_count": 20,
   "metadata": {
    "activeviam": {
     "state": {
      "name": "PnL book 2",
      "type": "container",
      "value": {
       "body": {
        "configuration": {
         "mapping": {
          "horizontal": [],
          "stackBy": [
           "[Hierarchies].[option_type].[option_type]"
          ],
          "values": [
           "[Measures].[PnL]"
          ],
          "vertical": [],
          "xAxis": [
           "[Hierarchies].[book_id].[book_id]"
          ]
         },
         "type": "plotly-stacked-column-chart"
        },
        "query": {
         "mdx": "SELECT NON EMPTY [Measures].[PnL] ON COLUMNS, NON EMPTY Crossjoin([Hierarchies].[book_id].[book_id].Members, [Hierarchies].[option_type].[option_type].Members) ON ROWS FROM [Positions] CELL PROPERTIES VALUE, FORMATTED_VALUE, BACK_COLOR, FORE_COLOR, FONT_FLAGS",
         "serverUrl": "",
         "updateMode": "once"
        }
       },
       "containerKey": "chart",
       "showTitleBar": false,
       "style": {}
      }
     }
    },
    "atoti": {
     "state": {
      "name": "PnL by Option Type Chart",
      "type": "container",
      "value": {
       "body": {
        "configuration": {
         "mapping": {
          "horizontal": [],
          "splitBy": [
           "[Hierarchies].[option_type].[option_type]"
          ],
          "values": [
           "[Measures].[PnL]"
          ],
          "vertical": [],
          "xAxis": [
           "[Hierarchies].[book_id].[book_id]"
          ]
         },
         "type": "plotly-clustered-column-chart"
        },
        "query": {
         "mdx": "SELECT NON EMPTY Crossjoin([Hierarchies].[book_id].[book_id].Members, [Hierarchies].[option_type].[option_type].Members) ON ROWS, NON EMPTY [Measures].[PnL] ON COLUMNS FROM [Positions] CELL PROPERTIES VALUE, FORMATTED_VALUE, BACK_COLOR, FORE_COLOR, FONT_FLAGS",
         "serverUrl": "",
         "updateMode": "once"
        }
       },
       "containerKey": "chart",
       "showTitleBar": false,
       "style": {}
      }
     }
    }
   },
   "outputs": [
    {
     "data": {
      "application/vnd.atoti.v0+json": {
       "cube": "Positions",
       "name": "PnL by Option Type Chart",
       "session": "Unnamed"
      },
      "text/plain": [
       "Install the Atoti JupyterLab extension to see this widget."
      ]
     },
     "metadata": {},
     "output_type": "display_data"
    }
   ],
   "source": [
    "cube.visualize(\"PnL by Option Type Chart\")"
   ]
  },
  {
   "cell_type": "markdown",
   "metadata": {},
   "source": [
    "### Collaboration tools\n",
    "All the tables/charts created in the notebook can be published and made available in Atoti UI, a user friendly interface where anybody can create dashboards, share them, and drill down the data.\n",
    "\n",
    "Atoti UI can be reached with a link using command `session.url`  \n",
    "Run the cell below to have a look at a dashboard we have prepared using the above chart and pivot table."
   ]
  },
  {
   "cell_type": "code",
   "execution_count": 21,
   "metadata": {},
   "outputs": [
    {
     "data": {
      "text/markdown": [
       "[http://localhost:62836/#/dashboard/ee8](http://localhost:62836/#/dashboard/ee8)"
      ],
      "text/plain": [
       "<IPython.core.display.Markdown object>"
      ]
     },
     "execution_count": 21,
     "metadata": {},
     "output_type": "execute_result"
    }
   ],
   "source": [
    "from IPython.display import Markdown as md\n",
    "md(\"[\" + session.url + \"/#/dashboard/ee8](\" + session.url + \"/#/dashboard/ee8)\")"
   ]
  },
  {
   "cell_type": "markdown",
   "metadata": {},
   "source": [
    "### Customizing hierarchies\n",
    "\n",
    "In large organizations, books usually belong to business units that are made up of smaller sub-business units and different trading desks.  \n",
    "Atoti lets you add new hierarchies on the fly without having to add columns into existing tables or re-launch time consuming batch computations.\n",
    "\n",
    "In this example we will import a file containing level information on Business Units, Sub-Business Units, Trading Desks and Book. Since we already have book IDs linked to our instruments, we will simply use this new information to create an additional hierarchy with these levels under it."
   ]
  },
  {
   "cell_type": "code",
   "execution_count": 22,
   "metadata": {},
   "outputs": [],
   "source": [
    "trading_desks = session.read_csv('trading_desk.csv', keys=['book_id'], store_name=\"Trading Desk\")\n",
    "positions.join(trading_desks)\n",
    "\n",
    "h[\"Trading Book Hierarchy\"] = {\n",
    "    'Business Unit':l['business_unit'],\n",
    "    'Sub Business Unit':l['sub_business_unit'],\n",
    "    'Trading Desk' : l['trading_desk'], \n",
    "    'Book':l['book']\n",
    "}"
   ]
  },
  {
   "cell_type": "markdown",
   "metadata": {},
   "source": [
    "The data model becomes the following:\n",
    "\n",
    "![New data model with trading desk hierarchy](img/model2.JPG)\n",
    "\n",
    "The cube structure has been modified on the fly, we can now use the new hierarchy on any visualization."
   ]
  },
  {
   "cell_type": "code",
   "execution_count": 24,
   "metadata": {
    "activeviam": {
     "state": {
      "name": "Business Hierarchy Pivot Table",
      "type": "container",
      "value": {
       "body": {
        "configuration": {
         "mapping": {
          "splitBy": [
           "[Hierarchies].[book].[book]",
           "[Hierarchies].[underlying].[underlying]"
          ],
          "values": [
           "[Measures].[PnL]"
          ]
         },
         "type": "plotly-tree-map"
        },
        "query": {
         "mdx": "SELECT NON EMPTY [Measures].[PnL] ON COLUMNS, NON EMPTY Crossjoin([Hierarchies].[book].[book].Members, [Hierarchies].[underlying].[underlying].Members) ON ROWS FROM (SELECT {[Hierarchies].[underlying].[ALL].[AllMember].[EURAUD=X], [Hierarchies].[underlying].[ALL].[AllMember].[EURCHF=X], [Hierarchies].[underlying].[ALL].[AllMember].[EURCNY=X], [Hierarchies].[underlying].[ALL].[AllMember].[EURJPY=X], [Hierarchies].[underlying].[ALL].[AllMember].[EURSEK=X], [Hierarchies].[underlying].[ALL].[AllMember].[EURUSD=X]} ON COLUMNS FROM [Positions]) CELL PROPERTIES VALUE, FORMATTED_VALUE, BACK_COLOR, FORE_COLOR, FONT_FLAGS",
         "serverUrl": "",
         "updateMode": "once"
        }
       },
       "containerKey": "chart",
       "showTitleBar": false,
       "style": {}
      }
     }
    },
    "atoti": {
     "state": {
      "name": "Business Hierarchy Pivot Table",
      "type": "container",
      "value": {
       "body": {
        "configuration": {
         "tabular": {
          "addButtonFilter": "numeric",
          "columnsGroups": [
           {
            "captionProducer": "firstColumn",
            "cellFactory": "kpi-status",
            "selector": "kpi-status"
           },
           {
            "captionProducer": "firstColumn",
            "cellFactory": "lookup",
            "selector": "lookup"
           },
           {
            "captionProducer": "expiry",
            "cellFactory": "expiry",
            "selector": "kpi-expiry"
           },
           {
            "captionProducer": "columnMerge",
            "cellFactory": {
             "args": {
              "automaticExpansion": true
             },
             "key": "treeCells"
            },
            "selector": "member"
           }
          ],
          "defaultOptions": {},
          "hideAddButton": true,
          "lineNumbers": true,
          "pinnedHeaderSelector": "member",
          "sortingMode": "non-breaking",
          "statisticsShown": true
         }
        },
        "contextValues": {},
        "mdx": "SELECT NON EMPTY Hierarchize(Union(DrilldownLevel([Hierarchies].[Trading Book Hierarchy].[ALL].[AllMember]), Descendants({[Hierarchies].[Trading Book Hierarchy].[ALL].[AllMember].[Forex]}, [Hierarchies].[Trading Book Hierarchy].[Sub Business Unit]), Descendants({[Hierarchies].[Trading Book Hierarchy].[ALL].[AllMember].[Forex].[Developed Market]}, [Hierarchies].[Trading Book Hierarchy].[Trading Desk]), Descendants({[Hierarchies].[Trading Book Hierarchy].[ALL].[AllMember].[Forex].[Developed Market].[Hermes]}, [Hierarchies].[Trading Book Hierarchy].[Book]))) ON ROWS, NON EMPTY {[Measures].[PnL], [Measures].[Quantity]} ON COLUMNS FROM [Positions] CELL PROPERTIES VALUE, FORMATTED_VALUE, BACK_COLOR, FORE_COLOR, FONT_FLAGS",
        "ranges": {
         "column": {
          "chunkSize": 50,
          "thresholdPercentage": 0.2
         },
         "row": {
          "chunkSize": 2000,
          "thresholdPercentage": 0.1
         }
        },
        "serverUrl": "",
        "updateMode": "once"
       },
       "containerKey": "pivot-table",
       "showTitleBar": false,
       "style": {}
      }
     }
    }
   },
   "outputs": [
    {
     "data": {
      "application/vnd.atoti.v0+json": {
       "cube": "Positions",
       "name": "Business Hierarchy Pivot Table",
       "session": "Unnamed"
      },
      "text/plain": [
       "Install the Atoti JupyterLab extension to see this widget."
      ]
     },
     "metadata": {},
     "output_type": "display_data"
    }
   ],
   "source": [
    "cube.visualize(\"Business Hierarchy Pivot Table\")"
   ]
  },
  {
   "cell_type": "markdown",
   "metadata": {},
   "source": [
    "### Value at Risk\n",
    "\n",
    "We have vectors of the PnLs of every instrument for the last 272 days.  \n",
    "First thing we will do is define a \"scaled vector\" measure that will multiply those PnLs vectors by the quantities we hold in our positions at instrument level, aggregate it as a sum above."
   ]
  },
  {
   "cell_type": "code",
   "execution_count": 25,
   "metadata": {},
   "outputs": [],
   "source": [
    "scaled_pnl_vector = m[\"Quantity\"] * m[\"pnl_vector.VALUE\"]\n",
    "m['Position Vector'] = atoti.agg.sum(scaled_pnl_vector, scope=atoti.scope.origin('instrument_code'))"
   ]
  },
  {
   "cell_type": "markdown",
   "metadata": {},
   "source": [
    "From [Wikipedia](https://en.wikipedia.org/wiki/Value_at_risk):    \n",
    "Value at risk (VaR) \\[...\\] estimates how much a set of investments might lose (with a given probability), given normal market conditions, in a set time period such as a day.  \n",
    "For a given portfolio, time horizon, and probability $\\rho$, the p VaR can be defined informally as the maximum possible loss during that time after we exclude all worse outcomes whose combined probability is at most $\\rho$. \n",
    "\n",
    "In our notebook, we will rather use a confidence level that is $1 - \\rho$. The maximum possible loss will be computed based on the past PnLs that we have per instrument in vectors."
   ]
  },
  {
   "cell_type": "code",
   "execution_count": 26,
   "metadata": {},
   "outputs": [],
   "source": [
    "m[\"Confidence Level\"] = 0.95\n",
    "m[\"VaR\"] = atoti.array.percentile(m[\"Position Vector\"], m[\"Confidence Level\"])"
   ]
  },
  {
   "cell_type": "code",
   "execution_count": 28,
   "metadata": {
    "atoti": {
     "state": {
      "name": "",
      "type": "container",
      "value": {
       "body": {
        "configuration": {
         "tabular": {
          "addButtonFilter": "numeric",
          "columnsGroups": [
           {
            "captionProducer": "firstColumn",
            "cellFactory": "kpi-status",
            "selector": "kpi-status"
           },
           {
            "captionProducer": "firstColumn",
            "cellFactory": "lookup",
            "selector": "lookup"
           },
           {
            "captionProducer": "expiry",
            "cellFactory": "expiry",
            "selector": "kpi-expiry"
           },
           {
            "captionProducer": "columnMerge",
            "cellFactory": {
             "args": {
              "automaticExpansion": true
             },
             "key": "treeCells"
            },
            "selector": "member"
           }
          ],
          "defaultOptions": {},
          "hideAddButton": true,
          "lineNumbers": true,
          "pinnedHeaderSelector": "member",
          "sortingMode": "non-breaking",
          "statisticsShown": true
         }
        },
        "contextValues": {},
        "mdx": "SELECT NON EMPTY Hierarchize(Union(DrilldownLevel([Hierarchies].[Trading Book Hierarchy].[ALL].[AllMember]), Descendants({[Hierarchies].[Trading Book Hierarchy].[ALL].[AllMember].[Forex]}, [Hierarchies].[Trading Book Hierarchy].[Sub Business Unit]), Descendants({[Hierarchies].[Trading Book Hierarchy].[ALL].[AllMember].[Forex].[Emerging Market]}, [Hierarchies].[Trading Book Hierarchy].[Trading Desk]), Descendants({[Hierarchies].[Trading Book Hierarchy].[ALL].[AllMember].[Forex].[Emerging Market].[Apollo]}, [Hierarchies].[Trading Book Hierarchy].[Book]))) ON ROWS, NON EMPTY {[Measures].[PnL], [Measures].[VaR]} ON COLUMNS FROM [Positions] CELL PROPERTIES VALUE, FORMATTED_VALUE, BACK_COLOR, FORE_COLOR, FONT_FLAGS",
        "ranges": {
         "column": {
          "chunkSize": 50,
          "thresholdPercentage": 0.2
         },
         "row": {
          "chunkSize": 2000,
          "thresholdPercentage": 0.1
         }
        },
        "serverUrl": "",
        "updateMode": "once"
       },
       "containerKey": "pivot-table",
       "showTitleBar": false,
       "style": {}
      }
     }
    }
   },
   "outputs": [
    {
     "data": {
      "application/vnd.atoti.v0+json": {
       "cube": "Positions",
       "name": null,
       "session": "Unnamed"
      },
      "text/plain": [
       "Install the Atoti JupyterLab extension to see this widget."
      ]
     },
     "metadata": {},
     "output_type": "display_data"
    }
   ],
   "source": [
    "cube.visualize()"
   ]
  },
  {
   "cell_type": "markdown",
   "metadata": {},
   "source": [
    "95% is an arbitrary value, what if the extreme cases are ten times worse than what we have? Or what if chosing a lower confidence level would tremendously decrease the VaR?\n",
    "\n",
    "This kind of simulation is pretty easy to put in place with Atoti.  \n",
    "Below we setup a simulation on measure `Confidence level` then define what its value should be in various scenarios."
   ]
  },
  {
   "cell_type": "code",
   "execution_count": 29,
   "metadata": {},
   "outputs": [],
   "source": [
    "confidence_levels = cube.setup_simulation(\"Confidence Level\", replace=[m[\"Confidence Level\"]]).scenarios;\n",
    "\n",
    "confidence_levels[\"90%\"] = 0.90\n",
    "confidence_levels[\"98%\"] = 0.98\n",
    "confidence_levels[\"99%\"] = 0.99\n",
    "confidence_levels[\"Worst\"] = 1.0"
   ]
  },
  {
   "cell_type": "markdown",
   "metadata": {},
   "source": [
    "Once the simulation is setup, we can access its different values using a new `Confidence level` hierarchy that has automatically been created"
   ]
  },
  {
   "cell_type": "code",
   "execution_count": 31,
   "metadata": {
    "activeviam": {
     "state": {
      "name": "VAR 98% on SBU",
      "type": "container",
      "value": {
       "body": {
        "configuration": {
         "featuredValues": {}
        },
        "contextValues": {},
        "mdx": "SELECT NON EMPTY Crossjoin(Hierarchize([Epoch].[Epoch].[Branch].Members), Hierarchize([Measure Simulations].[Confidence Level].[Confidence Level].Members), [Hierarchies].[Trading Book Hierarchy].[Trading Desk].Members) ON ROWS, NON EMPTY [Measures].[VaR] ON COLUMNS FROM [Positions] CELL PROPERTIES VALUE, FORMATTED_VALUE, BACK_COLOR, FORE_COLOR, FONT_FLAGS",
        "ranges": {
         "column": {
          "chunkSize": 20,
          "thresholdPercentage": 0.1
         },
         "row": {
          "chunkSize": 20,
          "thresholdPercentage": 0.1
         }
        },
        "serverUrl": "",
        "updateMode": "once"
       },
       "containerKey": "featured-values",
       "showTitleBar": false,
       "style": {}
      }
     }
    },
    "atoti": {
     "state": {
      "name": "VaR per scenario",
      "type": "container",
      "value": {
       "body": {
        "configuration": {
         "tabular": {
          "addButtonFilter": "numeric",
          "columnsGroups": [
           {
            "captionProducer": "firstColumn",
            "cellFactory": "kpi-status",
            "selector": "kpi-status"
           },
           {
            "captionProducer": "firstColumn",
            "cellFactory": "lookup",
            "selector": "lookup"
           },
           {
            "captionProducer": "expiry",
            "cellFactory": "expiry",
            "selector": "kpi-expiry"
           },
           {
            "captionProducer": "columnMerge",
            "cellFactory": {
             "args": {
              "automaticExpansion": true
             },
             "key": "treeCells"
            },
            "selector": "member"
           }
          ],
          "defaultOptions": {},
          "hideAddButton": true,
          "lineNumbers": true,
          "pinnedHeaderSelector": "member",
          "sortingMode": "non-breaking",
          "statisticsShown": true
         }
        },
        "contextValues": {},
        "mdx": "SELECT NON EMPTY Hierarchize(Union(DrilldownLevel([Hierarchies].[Trading Book Hierarchy].[ALL].[AllMember]), Descendants({[Hierarchies].[Trading Book Hierarchy].[ALL].[AllMember].[Forex]}, [Hierarchies].[Trading Book Hierarchy].[Sub Business Unit]), Descendants({[Hierarchies].[Trading Book Hierarchy].[ALL].[AllMember].[Forex].[Developed Market]}, [Hierarchies].[Trading Book Hierarchy].[Trading Desk]), Descendants({[Hierarchies].[Trading Book Hierarchy].[ALL].[AllMember].[Forex].[Developed Market].[Hermes]}, [Hierarchies].[Trading Book Hierarchy].[Book]))) ON ROWS, NON EMPTY Crossjoin([Measures].[VaR], Hierarchize([Measure Simulations].[Confidence Level].[Confidence Level].Members)) ON COLUMNS FROM [Positions] CELL PROPERTIES VALUE, FORMATTED_VALUE, BACK_COLOR, FORE_COLOR, FONT_FLAGS",
        "ranges": {
         "column": {
          "chunkSize": 50,
          "thresholdPercentage": 0.2
         },
         "row": {
          "chunkSize": 2000,
          "thresholdPercentage": 0.1
         }
        },
        "serverUrl": "",
        "updateMode": "once"
       },
       "containerKey": "pivot-table",
       "showTitleBar": false,
       "style": {}
      }
     }
    }
   },
   "outputs": [
    {
     "data": {
      "application/vnd.atoti.v0+json": {
       "cube": "Positions",
       "name": "VaR per scenario",
       "session": "Unnamed"
      },
      "text/plain": [
       "Install the Atoti JupyterLab extension to see this widget."
      ]
     },
     "metadata": {},
     "output_type": "display_data"
    }
   ],
   "source": [
    "cube.visualize(\"VaR per scenario\")"
   ]
  },
  {
   "cell_type": "code",
   "execution_count": 33,
   "metadata": {
    "atoti": {
     "state": {
      "name": "VaR per scenario in a chart",
      "type": "container",
      "value": {
       "body": {
        "configuration": {
         "mapping": {
          "horizontal": [],
          "splitBy": [
           "[Measure Simulations].[Confidence Level].[Confidence Level]"
          ],
          "values": [
           "[Measures].[VaR]"
          ],
          "vertical": [],
          "xAxis": [
           "[Hierarchies].[Trading Book Hierarchy].[Trading Desk]"
          ]
         },
         "switchedTo": "plotly-clustered-column-chart",
         "type": "plotly-line-chart"
        },
        "query": {
         "mdx": "SELECT NON EMPTY Crossjoin([Hierarchies].[Trading Book Hierarchy].[Trading Desk].Members, [Measure Simulations].[Confidence Level].[Confidence Level].Members) ON ROWS, NON EMPTY [Measures].[VaR] ON COLUMNS FROM [Positions] CELL PROPERTIES VALUE, FORMATTED_VALUE, BACK_COLOR, FORE_COLOR, FONT_FLAGS",
         "serverUrl": "",
         "updateMode": "once"
        }
       },
       "containerKey": "chart",
       "showTitleBar": false,
       "style": {}
      }
     }
    }
   },
   "outputs": [
    {
     "data": {
      "application/vnd.atoti.v0+json": {
       "cube": "Positions",
       "name": "VaR per scenario in a chart",
       "session": "Unnamed"
      },
      "text/plain": [
       "Install the Atoti JupyterLab extension to see this widget."
      ]
     },
     "metadata": {},
     "output_type": "display_data"
    }
   ],
   "source": [
    "cube.visualize(\"VaR per scenario in a chart\")"
   ]
  },
  {
   "cell_type": "markdown",
   "metadata": {},
   "source": [
    "### Marginal VaR\n",
    "\n",
    "Since the VaR is not additive – the sum of the VaRs of multiple elements is not equal to the VaR of their parent in a hierarchy – contributory measures are used by Risk Managers to analyze the impact of a Sub-Portfolio on the Value at Risk of the total Portfolio. These measures can help to track down individual positions that have significant effects on VaR. Furthermore, contributory measures can be a useful tool in hypothetical analyses of portfolio development versus VaR development.\n",
    "\n",
    "One of those measures, the marginal VaR, computes the contribution of one element on the VaR of its parent.\n",
    "\n",
    "Cells below detail how the marginal VaR is defined with Atoti."
   ]
  },
  {
   "cell_type": "code",
   "execution_count": 34,
   "metadata": {},
   "outputs": [],
   "source": [
    "m[\"Parent Position Vector Ex\"] = atoti.agg.sum(\n",
    "    m[\"Position Vector\"],\n",
    "    scope=atoti.scope.siblings(h[\"Trading Book Hierarchy\"], exclude_self=True),\n",
    ")"
   ]
  },
  {
   "cell_type": "code",
   "execution_count": 35,
   "metadata": {},
   "outputs": [],
   "source": [
    "m[\"Parent VaR Ex\"] = atoti.array.percentile(m[\"Parent Position Vector Ex\"], m[\"Confidence Level\"])\n",
    "m[\"Parent VaR\"] = atoti.parent_value(m[\"VaR\"], h[\"Trading Book Hierarchy\"])\n",
    "m[\"Marginal VaR\"] = m[\"Parent VaR\"] - m[\"Parent VaR Ex\"]"
   ]
  },
  {
   "cell_type": "markdown",
   "metadata": {},
   "source": [
    "That's it, our marginal VaR is computed, let's have a look at where we could reduce the VaR the most now."
   ]
  },
  {
   "cell_type": "code",
   "execution_count": 37,
   "metadata": {
    "atoti": {
     "state": {
      "name": "",
      "type": "container",
      "value": {
       "body": {
        "configuration": {
         "tabular": {
          "addButtonFilter": "numeric",
          "columnsGroups": [
           {
            "captionProducer": "firstColumn",
            "cellFactory": "kpi-status",
            "selector": "kpi-status"
           },
           {
            "captionProducer": "firstColumn",
            "cellFactory": "lookup",
            "selector": "lookup"
           },
           {
            "captionProducer": "expiry",
            "cellFactory": "expiry",
            "selector": "kpi-expiry"
           },
           {
            "captionProducer": "columnMerge",
            "cellFactory": {
             "args": {
              "automaticExpansion": true
             },
             "key": "treeCells"
            },
            "selector": "member"
           }
          ],
          "defaultOptions": {},
          "hideAddButton": true,
          "lineNumbers": true,
          "pinnedHeaderSelector": "member",
          "sortingMode": "non-breaking",
          "statisticsShown": true
         }
        },
        "contextValues": {},
        "mdx": "SELECT NON EMPTY Hierarchize(Union(DrilldownLevel([Hierarchies].[Trading Book Hierarchy].[ALL].[AllMember]), Descendants({[Hierarchies].[Trading Book Hierarchy].[ALL].[AllMember].[Forex]}, [Hierarchies].[Trading Book Hierarchy].[Sub Business Unit]), Descendants({[Hierarchies].[Trading Book Hierarchy].[ALL].[AllMember].[Forex].[Developed Market]}, [Hierarchies].[Trading Book Hierarchy].[Trading Desk]), Descendants({[Hierarchies].[Trading Book Hierarchy].[ALL].[AllMember].[Forex].[Developed Market].[Hermes]}, [Hierarchies].[Trading Book Hierarchy].[Book]))) ON ROWS, NON EMPTY {[Measures].[VaR], [Measures].[Marginal VaR]} ON COLUMNS FROM [Positions] CELL PROPERTIES VALUE, FORMATTED_VALUE, BACK_COLOR, FORE_COLOR, FONT_FLAGS",
        "ranges": {
         "column": {
          "chunkSize": 50,
          "thresholdPercentage": 0.2
         },
         "row": {
          "chunkSize": 2000,
          "thresholdPercentage": 0.1
         }
        },
        "serverUrl": "",
        "updateMode": "once"
       },
       "containerKey": "pivot-table",
       "showTitleBar": false,
       "style": {}
      }
     }
    }
   },
   "outputs": [
    {
     "data": {
      "application/vnd.atoti.v0+json": {
       "cube": "Positions",
       "name": null,
       "session": "Unnamed"
      },
      "text/plain": [
       "Install the Atoti JupyterLab extension to see this widget."
      ]
     },
     "metadata": {},
     "output_type": "display_data"
    }
   ],
   "source": [
    "cube.visualize()"
   ]
  },
  {
   "cell_type": "markdown",
   "metadata": {},
   "source": [
    "## PnL Models Comparison\n",
    "\n",
    "The VaR calculation is heavily based on the PnL vectors that depend on the results of our instruments pricers, and the history that we have.  \n",
    "What would happen if pricers used a different model, or if we changed the amount of history we use to compute the VaR.\n",
    "\n",
    "Atoti also lets you perform easy simulations on data tables that were loaded.  \n",
    "Here we have another analytics file with PnL vectors but only for the last 150 days.  \n",
    "What we will do is ask Atoti to load this new file in the analytics store, but in a new scenario called \"Model short volatility\"."
   ]
  },
  {
   "cell_type": "code",
   "execution_count": 38,
   "metadata": {},
   "outputs": [],
   "source": [
    "new_analytics_file = 'instruments_pricing_vol_depth_150.csv'\n",
    "analytics.scenarios['Model short Volatility'].load_csv(new_analytics_file, sep=\"|\", array_sep=\";\")"
   ]
  },
  {
   "cell_type": "markdown",
   "metadata": {},
   "source": [
    "And that's it, no need to re-load any other file, re-define measures or perform batch computations. Everything we have previously defined is available on both our previous and this new scenario.  \n",
    "Let's have a look at it."
   ]
  },
  {
   "cell_type": "code",
   "execution_count": 40,
   "metadata": {
    "activeviam": {
     "state": {
      "name": "PnL comparaison Model Short Volatility",
      "type": "container",
      "value": {
       "body": {
        "configuration": {
         "mapping": {
          "horizontal": [],
          "splitBy": [
           "[Epoch].[Epoch].[Branch]"
          ],
          "values": [
           "[Measures].[PnL]"
          ],
          "vertical": [],
          "xAxis": [
           "[Hierarchies].[Trading Book Hierarchy].[Book]"
          ]
         },
         "type": "plotly-clustered-column-chart"
        },
        "query": {
         "mdx": "SELECT NON EMPTY Crossjoin([Hierarchies].[Trading Book Hierarchy].[Book].Members, [Epoch].[Epoch].[Branch].Members) ON ROWS, NON EMPTY [Measures].[PnL] ON COLUMNS FROM [Positions] CELL PROPERTIES VALUE, FORMATTED_VALUE, BACK_COLOR, FORE_COLOR, FONT_FLAGS",
         "serverUrl": "",
         "updateMode": "once"
        }
       },
       "containerKey": "chart",
       "showTitleBar": false,
       "style": {}
      }
     }
    },
    "atoti": {
     "state": {
      "name": "PnL comparison Model Short Volatility",
      "type": "container",
      "value": {
       "body": {
        "configuration": {
         "tabular": {
          "addButtonFilter": "numeric",
          "columnOrder": {
           "args": {
            "orderedColumns": [
             "__lineNumber__",
             "c-treeCells-member",
             "([Measures].[VaR],[Epoch].[Epoch].[Branch].[Base])",
             "([Measures].[VaR],[Epoch].[Epoch].[Branch].[Model short Volatility])",
             "([Measures].[VaR],[Epoch].[Epoch].[Branch].[Base - Model short Volatility])",
             "([Measures].[Marginal VaR],[Epoch].[Epoch].[Branch].[Base])",
             "([Measures].[Marginal VaR],[Epoch].[Epoch].[Branch].[Model short Volatility])",
             "([Measures].[Marginal VaR],[Epoch].[Epoch].[Branch].[Base - Model short Volatility])"
            ]
           },
           "key": "explicit"
          },
          "columns": [
           {
            "key": "([Measures].[VaR],[Epoch].[Epoch].[Branch].[Model short Volatility])",
            "width": 163
           },
           {
            "key": "([Measures].[Marginal VaR],[Epoch].[Epoch].[Branch].[Model short Volatility])",
            "width": 159
           },
           {
            "key": "c-treeCells-member",
            "width": 203
           },
           {
            "captions": [
             "VaR",
             "Difference"
            ],
            "key": "([Measures].[VaR],[Epoch].[Epoch].[Branch].[Base - Model short Volatility])",
            "width": 133
           },
           {
            "captions": [
             "Marginal VaR",
             "Difference"
            ],
            "key": "([Measures].[Marginal VaR],[Epoch].[Epoch].[Branch].[Base - Model short Volatility])"
           }
          ],
          "columnsGroups": [
           {
            "captionProducer": "firstColumn",
            "cellFactory": "kpi-status",
            "selector": "kpi-status"
           },
           {
            "captionProducer": "firstColumn",
            "cellFactory": "lookup",
            "selector": "lookup"
           },
           {
            "captionProducer": "expiry",
            "cellFactory": "expiry",
            "selector": "kpi-expiry"
           },
           {
            "captionProducer": "columnMerge",
            "cellFactory": {
             "args": {
              "automaticExpansion": true
             },
             "key": "treeCells"
            },
            "selector": "member"
           }
          ],
          "defaultOptions": {},
          "hideAddButton": true,
          "lineNumbers": true,
          "pinnedHeaderSelector": "member",
          "sortingMode": "non-breaking",
          "statisticsShown": true
         }
        },
        "contextValues": {},
        "mdx": "WITH  Member [Epoch].[Epoch].[Base - Model short Volatility] AS [Epoch].[Epoch].[Base] - [Epoch].[Epoch].[Model short Volatility], CAPTION = \"Base - Model short Volatility\"  SELECT NON EMPTY Hierarchize(Union(DrilldownLevel([Hierarchies].[Trading Book Hierarchy].[ALL].[AllMember]), Descendants({[Hierarchies].[Trading Book Hierarchy].[ALL].[AllMember].[Forex]}, [Hierarchies].[Trading Book Hierarchy].[Sub Business Unit]), Descendants({[Hierarchies].[Trading Book Hierarchy].[ALL].[AllMember].[Forex].[Developed Market]}, [Hierarchies].[Trading Book Hierarchy].[Trading Desk]))) ON ROWS, NON EMPTY Crossjoin({[Measures].[VaR], [Measures].[Marginal VaR]}, Hierarchize(Union([Epoch].[Epoch].[Branch].Members, [Epoch].[Epoch].[Base - Model short Volatility]))) ON COLUMNS FROM [Positions] CELL PROPERTIES BACK_COLOR, FONT_FLAGS, FORE_COLOR, FORMATTED_VALUE, VALUE",
        "ranges": {
         "column": {
          "chunkSize": 50,
          "thresholdPercentage": 0.2
         },
         "row": {
          "chunkSize": 2000,
          "thresholdPercentage": 0.1
         }
        },
        "serverUrl": "",
        "updateMode": "once"
       },
       "containerKey": "pivot-table",
       "showTitleBar": false,
       "style": {}
      }
     }
    }
   },
   "outputs": [
    {
     "data": {
      "application/vnd.atoti.v0+json": {
       "cube": "Positions",
       "name": "PnL comparison Model Short Volatility",
       "session": "Unnamed"
      },
      "text/plain": [
       "Install the Atoti JupyterLab extension to see this widget."
      ]
     },
     "metadata": {},
     "output_type": "display_data"
    }
   ],
   "source": [
    "cube.visualize(\"Pivot table comparison Model Short Volatility\")"
   ]
  },
  {
   "cell_type": "code",
   "execution_count": 42,
   "metadata": {
    "activeviam": {
     "state": {
      "name": "VAR Comaraison Model Short Volatility",
      "type": "container",
      "value": {
       "body": {
        "configuration": {
         "mapping": {
          "splitBy": [
           "[Epoch].[Epoch].[Branch]"
          ],
          "values": [
           "[Measures].[VaR]"
          ],
          "xAxis": [
           "[Hierarchies].[trading_desk].[trading_desk]"
          ]
         },
         "type": "plotly-clustered-column-chart"
        },
        "query": {
         "mdx": "SELECT NON EMPTY Crossjoin([Hierarchies].[trading_desk].[trading_desk].Members, [Epoch].[Epoch].[Branch].Members) ON ROWS, NON EMPTY [Measures].[VaR] ON COLUMNS FROM [Positions] CELL PROPERTIES VALUE, FORMATTED_VALUE, BACK_COLOR, FORE_COLOR, FONT_FLAGS",
         "serverUrl": "",
         "updateMode": "once"
        }
       },
       "containerKey": "chart",
       "showTitleBar": false,
       "style": {}
      }
     }
    },
    "atoti": {
     "state": {
      "name": "VAR Comaraison Model Short Volatility",
      "type": "container",
      "value": {
       "body": {
        "configuration": {
         "mapping": {
          "horizontal": [],
          "splitBy": [
           "[Epoch].[Epoch].[Branch]"
          ],
          "values": [
           "[Measures].[VaR]"
          ],
          "vertical": [],
          "xAxis": [
           "[Hierarchies].[book].[book]"
          ]
         },
         "type": "plotly-clustered-column-chart"
        },
        "query": {
         "mdx": "SELECT NON EMPTY Crossjoin([Hierarchies].[book].[book].Members, [Epoch].[Epoch].[Branch].Members) ON ROWS, NON EMPTY {[Measures].[VaR]} ON COLUMNS FROM [Positions] CELL PROPERTIES VALUE, FORMATTED_VALUE, BACK_COLOR, FORE_COLOR, FONT_FLAGS",
         "serverUrl": "",
         "updateMode": "once"
        }
       },
       "containerKey": "chart",
       "showTitleBar": false,
       "style": {}
      }
     }
    }
   },
   "outputs": [
    {
     "data": {
      "application/vnd.atoti.v0+json": {
       "cube": "Positions",
       "name": "VAR Comaraison Model Short Volatility",
       "session": "Unnamed"
      },
      "text/plain": [
       "Install the Atoti JupyterLab extension to see this widget."
      ]
     },
     "metadata": {},
     "output_type": "display_data"
    }
   ],
   "source": [
    "cube.visualize(\"VAR comparison Model Short Volatility\")"
   ]
  },
  {
   "cell_type": "code",
   "execution_count": null,
   "metadata": {},
   "outputs": [],
   "source": []
  },
  {
   "cell_type": "code",
   "execution_count": null,
   "metadata": {},
   "outputs": [],
   "source": []
  }
 ],
 "metadata": {
  "kernelspec": {
   "display_name": "Python 3",
   "language": "python",
   "name": "python3"
  },
  "language_info": {
   "codemirror_mode": {
    "name": "ipython",
    "version": 3
   },
   "file_extension": ".py",
   "mimetype": "text/x-python",
   "name": "python",
   "nbconvert_exporter": "python",
   "pygments_lexer": "ipython3",
   "version": "3.7.6"
  }
 },
 "nbformat": 4,
 "nbformat_minor": 4
}
