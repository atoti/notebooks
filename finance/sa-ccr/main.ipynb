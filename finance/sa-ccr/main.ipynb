{
 "cells": [
  {
   "cell_type": "markdown",
   "metadata": {},
   "source": [
    "# SA-CCR analytical app\n",
    "\n",
    "This notebook implements an interactive analytical app for SA-CCR analytics in python using Jupyter Notebook and [atoti](https://www.atoti.io).\n",
    "\n",
    "As a quick reminder, the SA-CCR is a regulatory methodology for computing EAD (Exposure At Default) which is part of the consolidated basel framework. It is already implemented for financial institutions in Europe by the Regulation (EU) 2019/876 (CRR II) and will be applicable from June 2021 and January 2022 in the US. In this post, I will walk you through the calculations as defined in the BCBS 279 document.\n",
    "\n",
    "In this notebook we'll start by creating an atoti app, then we'll load sample data and implement all the necessary chains for aggregating EAD from trades notionals and attributes and supervisory parameters.\n",
    "\n",
    "We will be referring to the relevant paragraphs of the Consolidated Basel Framework [CRE52](https://www.bis.org/basel_framework/chapter/CRE/52.htm?inforce=20191215) - see numbers in the square brackets."
   ]
  },
  {
   "cell_type": "markdown",
   "metadata": {},
   "source": [
    "## Importing and launching atoti\n",
    "\n"
   ]
  },
  {
   "cell_type": "code",
   "execution_count": 1,
   "metadata": {},
   "outputs": [
    {
     "name": "stdout",
     "output_type": "stream",
     "text": [
      "Welcome to atoti 0.4.3.20200729154535!\n",
      "\n",
      "By using this community edition, you agree with the license available at https://www.atoti.io/eula.\n",
      "Browse the official documentation at https://docs.atoti.io.\n",
      "Join the community at https://www.atoti.io/register.\n",
      "\n",
      "You can hide this message by setting the ATOTI_HIDE_EULA_MESSAGE environment variable to True.\n"
     ]
    },
    {
     "data": {
      "text/plain": [
       "'http://localhost:55428'"
      ]
     },
     "execution_count": 1,
     "metadata": {},
     "output_type": "execute_result"
    }
   ],
   "source": [
    "import atoti as tt\n",
    "\n",
    "config = tt.config.create_config(metadata_db=\"./metadata.db\")\n",
    "session = tt.create_session(config=config)\n",
    "session.url"
   ]
  },
  {
   "cell_type": "markdown",
   "metadata": {},
   "source": [
    "## Input data"
   ]
  },
  {
   "cell_type": "markdown",
   "metadata": {},
   "source": [
    "In the following cell we are creating in-memory datastores, by reading csv files hosted on s3:\n",
    "\n",
    "- `trades_store` with information on the trades, books, notionals, market values, classified into maturity buckets, risk classes and hedging sets. The time period parameters Mi, Ei, Si and Ti [52.31] are also provided in this file \n",
    "- `books_store` linking books and desks\n",
    "- `counterparties_store` proving counterparty attributes, such as name, rating, sector - for analytical purposes\n",
    "- `countries_store` enriching the data with geographical attributes\n",
    "- `desks_store` providing desk information\n",
    "- `nettingSets_store` providing netting set attributes, for instance, the MPOR, and linking to couterparties\n",
    "- `products_store` with a product typology\n",
    "- `supervisoryParameters_store` - values set in section \"Supervisory specified parameters\" - please see [52.72]\n",
    "\n",
    "As you can see, in addition to the csv file location, I'm specifying for each data store the key fields and the field types."
   ]
  },
  {
   "cell_type": "code",
   "execution_count": 2,
   "metadata": {},
   "outputs": [],
   "source": [
    "trades_store = session.read_csv(\n",
    "    \"s3://data.atoti.io/notebooks/sa-ccr/inverted/trades_preprocessed/trades_preprocessed_2020-01-13.csv\",\n",
    "    keys=[\"AsOfDate\", \"TradeId\"],\n",
    "    types={\n",
    "        \"Notional\": tt.types.DOUBLE,\n",
    "        \"MarketValue\": tt.types.DOUBLE,\n",
    "        \"AsOfDate\": tt.types.LOCAL_DATE,\n",
    "        \"Mi\": tt.types.LOCAL_DATE,\n",
    "        \"Si\": tt.types.LOCAL_DATE,\n",
    "        \"Ti\": tt.types.LOCAL_DATE,\n",
    "        \"Ei\": tt.types.LOCAL_DATE,\n",
    "    },\n",
    ")\n",
    "\n",
    "books_store = session.read_csv(\n",
    "    \"s3://data.atoti.io/notebooks/sa-ccr/inverted/books/books_2020-01-13.csv\",\n",
    "    keys=[\"AsOfDate\", \"BookId\"],\n",
    ")\n",
    "counterparties_store = session.read_csv(\n",
    "    \"s3://data.atoti.io/notebooks/sa-ccr/inverted/counterparties/counterparties_2020-01-13.csv\",\n",
    "    keys=[\"AsOfDate\", \"CounterpartyId\"],\n",
    ")\n",
    "countries_store = session.read_csv(\n",
    "    \"s3://data.atoti.io/notebooks/sa-ccr/inverted/countries.csv\", keys=[\"Country\"]\n",
    ")\n",
    "desks_store = session.read_csv(\n",
    "    \"s3://data.atoti.io/notebooks/sa-ccr/inverted/desks/desks_2020-01-13.csv\",\n",
    "    keys=[\"AsOfDate\", \"DeskId\"],\n",
    ")\n",
    "nettingSets_store = session.read_csv(\n",
    "    \"s3://data.atoti.io/notebooks/sa-ccr/inverted/nettingSets/nettingSets_2020-01-13.csv\",\n",
    "    keys=[\"AsOfDate\", \"NettingId\"],\n",
    "    types={\"MPOR\": tt.types.DOUBLE, \"Collateral\": tt.types.DOUBLE},\n",
    ")\n",
    "products_store = session.read_csv(\n",
    "    \"s3://data.atoti.io/notebooks/sa-ccr/inverted/products/products_2020-01-13.csv\",\n",
    "    keys=[\"ProductId\"],\n",
    ")\n",
    "supervisoryParameters_store = session.read_csv(\n",
    "    \"s3://data.atoti.io/notebooks/sa-ccr/static/supervisoryParameters.csv\",\n",
    "    keys=[\"AssetClass\", \"Subclass\"],\n",
    ")"
   ]
  },
  {
   "cell_type": "markdown",
   "metadata": {},
   "source": [
    "I'm using the \"join\" command to link the data between different data stores. If I'm not explicitely defining the mapping, then atoti will link the fields having the same name."
   ]
  },
  {
   "cell_type": "code",
   "execution_count": 3,
   "metadata": {},
   "outputs": [],
   "source": [
    "trades_store.join(books_store, mapping={\"BookId\": \"BookId\", \"AsOfDate\": \"AsOfDate\"})\n",
    "trades_store.join(\n",
    "    products_store, mapping={\"ProductId\": \"ProductId\", \"AsOfDate\": \"AsOfDate\"}\n",
    ")\n",
    "trades_store.join(\n",
    "    nettingSets_store, mapping={\"NettingSetId\": \"NettingId\", \"AsOfDate\": \"AsOfDate\"}\n",
    ")\n",
    "trades_store.join(\n",
    "    supervisoryParameters_store,\n",
    "    mapping={\"AssetClass\": \"AssetClass\", \"SP_subclass\": \"Subclass\"},\n",
    ")\n",
    "nettingSets_store.join(\n",
    "    counterparties_store,\n",
    "    mapping={\"CounterpartyId\": \"CounterpartyId\", \"AsOfDate\": \"AsOfDate\"},\n",
    ")\n",
    "counterparties_store.join(countries_store, mapping={\"CountryOfAddress\": \"Country\"})\n",
    "books_store.join(desks_store)"
   ]
  },
  {
   "cell_type": "markdown",
   "metadata": {},
   "source": [
    "As a next step, I'm creating the cube:"
   ]
  },
  {
   "cell_type": "code",
   "execution_count": 4,
   "metadata": {},
   "outputs": [],
   "source": [
    "# Usually atoti's create_cube command creates .SUM and .MEAN measures automatically from numerical data inputs,\n",
    "# to prevent that I'm running the comman will the mode = no_measures\n",
    "cube = session.create_cube(trades_store, \"main_cube\", mode=\"no_measures\")"
   ]
  },
  {
   "cell_type": "markdown",
   "metadata": {},
   "source": [
    "Let's display the current data model schema:"
   ]
  },
  {
   "cell_type": "code",
   "execution_count": 5,
   "metadata": {},
   "outputs": [
    {
     "data": {
      "image/svg+xml": [
       "<svg xmlns=\"http://www.w3.org/2000/svg\" xmlns:xlink=\"http://www.w3.org/1999/xlink\" width=\"1479px\" height=\"1225px\" viewBox=\"0.00 0.00 1479.14 1225.00\">\n",
       "<g id=\"graph0\" class=\"graph\" transform=\"scale(1.0 1.0) rotate(0) translate(4 1221)\">\n",
       "<title>main_cube schema</title>\n",
       "<polygon fill=\"white\" stroke=\"transparent\" points=\"-4,4 -4,-1221 1475.14,-1221 1475.14,4 -4,4\"/>\n",
       "<!-- trades_preprocessed_2020&#45;01&#45;13.csv -->\n",
       "<g id=\"node1\" class=\"node\">\n",
       "<title>trades_preprocessed_2020-01-13.csv</title>\n",
       "<polygon fill=\"none\" stroke=\"black\" points=\"8.5,-1177 8.5,-1213 237.5,-1213 237.5,-1177 8.5,-1177\"/>\n",
       "<text text-anchor=\"start\" x=\"19\" y=\"-1191.8\" font-family=\"Times,serif\" font-weight=\"bold\" font-size=\"14.00\">trades_preprocessed_2020-01-13.csv</text>\n",
       "<polygon fill=\"none\" stroke=\"black\" points=\"8.5,-1141 8.5,-1177 237.5,-1177 237.5,-1141 8.5,-1141\"/>\n",
       "<text text-anchor=\"start\" x=\"19.5\" y=\"-1155.8\" font-family=\"Times,serif\" font-weight=\"bold\" font-size=\"14.00\">Key</text>\n",
       "<text text-anchor=\"start\" x=\"42.82\" y=\"-1155.8\" font-family=\"Times,serif\" font-size=\"14.00\">  AsOfDate </text>\n",
       "<text text-anchor=\"start\" x=\"109.32\" y=\"-1155.8\" font-family=\"Times,serif\" font-style=\"italic\" font-size=\"14.00\">LocalDate</text>\n",
       "<text text-anchor=\"start\" x=\"167.61\" y=\"-1155.8\" font-family=\"Times,serif\" font-size=\"14.00\"> </text>\n",
       "<polygon fill=\"none\" stroke=\"black\" points=\"8.5,-1105 8.5,-1141 237.5,-1141 237.5,-1105 8.5,-1105\"/>\n",
       "<text text-anchor=\"start\" x=\"19.5\" y=\"-1119.8\" font-family=\"Times,serif\" font-weight=\"bold\" font-size=\"14.00\">Key</text>\n",
       "<text text-anchor=\"start\" x=\"42.82\" y=\"-1119.8\" font-family=\"Times,serif\" font-size=\"14.00\">  TradeId </text>\n",
       "<text text-anchor=\"start\" x=\"96.9\" y=\"-1119.8\" font-family=\"Times,serif\" font-style=\"italic\" font-size=\"14.00\">String</text>\n",
       "<text text-anchor=\"start\" x=\"131.12\" y=\"-1119.8\" font-family=\"Times,serif\" font-size=\"14.00\"> </text>\n",
       "<polygon fill=\"none\" stroke=\"black\" points=\"8.5,-1069 8.5,-1105 237.5,-1105 237.5,-1069 8.5,-1069\"/>\n",
       "<text text-anchor=\"start\" x=\"19.5\" y=\"-1083.8\" font-family=\"Times,serif\" font-size=\"14.00\">ProductId </text>\n",
       "<text text-anchor=\"start\" x=\"78.21\" y=\"-1083.8\" font-family=\"Times,serif\" font-style=\"italic\" font-size=\"14.00\">String</text>\n",
       "<text text-anchor=\"start\" x=\"112.44\" y=\"-1083.8\" font-family=\"Times,serif\" font-size=\"14.00\"> </text>\n",
       "<polygon fill=\"none\" stroke=\"black\" points=\"8.5,-1033 8.5,-1069 237.5,-1069 237.5,-1033 8.5,-1033\"/>\n",
       "<text text-anchor=\"start\" x=\"19.5\" y=\"-1047.8\" font-family=\"Times,serif\" font-size=\"14.00\">NettingSetId </text>\n",
       "<text text-anchor=\"start\" x=\"94.54\" y=\"-1047.8\" font-family=\"Times,serif\" font-style=\"italic\" font-size=\"14.00\">String</text>\n",
       "<text text-anchor=\"start\" x=\"128.77\" y=\"-1047.8\" font-family=\"Times,serif\" font-size=\"14.00\"> </text>\n",
       "<polygon fill=\"none\" stroke=\"black\" points=\"8.5,-997 8.5,-1033 237.5,-1033 237.5,-997 8.5,-997\"/>\n",
       "<text text-anchor=\"start\" x=\"19.5\" y=\"-1011.8\" font-family=\"Times,serif\" font-size=\"14.00\">BankEntityId </text>\n",
       "<text text-anchor=\"start\" x=\"98.43\" y=\"-1011.8\" font-family=\"Times,serif\" font-style=\"italic\" font-size=\"14.00\">int</text>\n",
       "<text text-anchor=\"start\" x=\"113.21\" y=\"-1011.8\" font-family=\"Times,serif\" font-size=\"14.00\"> </text>\n",
       "<polygon fill=\"none\" stroke=\"black\" points=\"8.5,-961 8.5,-997 237.5,-997 237.5,-961 8.5,-961\"/>\n",
       "<text text-anchor=\"start\" x=\"19.5\" y=\"-975.8\" font-family=\"Times,serif\" font-size=\"14.00\">BookId </text>\n",
       "<text text-anchor=\"start\" x=\"65\" y=\"-975.8\" font-family=\"Times,serif\" font-style=\"italic\" font-size=\"14.00\">String</text>\n",
       "<text text-anchor=\"start\" x=\"99.23\" y=\"-975.8\" font-family=\"Times,serif\" font-size=\"14.00\"> </text>\n",
       "<polygon fill=\"none\" stroke=\"black\" points=\"8.5,-925 8.5,-961 237.5,-961 237.5,-925 8.5,-925\"/>\n",
       "<text text-anchor=\"start\" x=\"19.5\" y=\"-939.8\" font-family=\"Times,serif\" font-size=\"14.00\">Direction </text>\n",
       "<text text-anchor=\"start\" x=\"75.87\" y=\"-939.8\" font-family=\"Times,serif\" font-style=\"italic\" font-size=\"14.00\">String</text>\n",
       "<text text-anchor=\"start\" x=\"110.1\" y=\"-939.8\" font-family=\"Times,serif\" font-size=\"14.00\"> </text>\n",
       "<polygon fill=\"none\" stroke=\"black\" points=\"8.5,-889 8.5,-925 237.5,-925 237.5,-889 8.5,-889\"/>\n",
       "<text text-anchor=\"start\" x=\"19.5\" y=\"-903.8\" font-family=\"Times,serif\" font-size=\"14.00\">Notional </text>\n",
       "<text text-anchor=\"start\" x=\"71.99\" y=\"-903.8\" font-family=\"Times,serif\" font-style=\"italic\" font-size=\"14.00\">double</text>\n",
       "<text text-anchor=\"start\" x=\"110.1\" y=\"-903.8\" font-family=\"Times,serif\" font-size=\"14.00\"> </text>\n",
       "<polygon fill=\"none\" stroke=\"black\" points=\"8.5,-853 8.5,-889 237.5,-889 237.5,-853 8.5,-853\"/>\n",
       "<text text-anchor=\"start\" x=\"19.5\" y=\"-867.8\" font-family=\"Times,serif\" font-size=\"14.00\">MarketValue </text>\n",
       "<text text-anchor=\"start\" x=\"95.3\" y=\"-867.8\" font-family=\"Times,serif\" font-style=\"italic\" font-size=\"14.00\">double</text>\n",
       "<text text-anchor=\"start\" x=\"133.41\" y=\"-867.8\" font-family=\"Times,serif\" font-size=\"14.00\"> </text>\n",
       "<polygon fill=\"none\" stroke=\"black\" points=\"8.5,-817 8.5,-853 237.5,-853 237.5,-817 8.5,-817\"/>\n",
       "<text text-anchor=\"start\" x=\"19.5\" y=\"-831.8\" font-family=\"Times,serif\" font-size=\"14.00\">InputCurrency </text>\n",
       "<text text-anchor=\"start\" x=\"104.64\" y=\"-831.8\" font-family=\"Times,serif\" font-style=\"italic\" font-size=\"14.00\">String</text>\n",
       "<text text-anchor=\"start\" x=\"138.87\" y=\"-831.8\" font-family=\"Times,serif\" font-size=\"14.00\"> </text>\n",
       "<polygon fill=\"none\" stroke=\"black\" points=\"8.5,-781 8.5,-817 237.5,-817 237.5,-781 8.5,-781\"/>\n",
       "<text text-anchor=\"start\" x=\"19.5\" y=\"-795.8\" font-family=\"Times,serif\" font-size=\"14.00\">Instrument </text>\n",
       "<text text-anchor=\"start\" x=\"83.66\" y=\"-795.8\" font-family=\"Times,serif\" font-style=\"italic\" font-size=\"14.00\">String</text>\n",
       "<text text-anchor=\"start\" x=\"117.88\" y=\"-795.8\" font-family=\"Times,serif\" font-size=\"14.00\"> </text>\n",
       "<polygon fill=\"none\" stroke=\"black\" points=\"8.5,-745 8.5,-781 237.5,-781 237.5,-745 8.5,-745\"/>\n",
       "<text text-anchor=\"start\" x=\"19.5\" y=\"-759.8\" font-family=\"Times,serif\" font-size=\"14.00\">AssetClass </text>\n",
       "<text text-anchor=\"start\" x=\"84.45\" y=\"-759.8\" font-family=\"Times,serif\" font-style=\"italic\" font-size=\"14.00\">String</text>\n",
       "<text text-anchor=\"start\" x=\"118.68\" y=\"-759.8\" font-family=\"Times,serif\" font-size=\"14.00\"> </text>\n",
       "<polygon fill=\"none\" stroke=\"black\" points=\"8.5,-709 8.5,-745 237.5,-745 237.5,-709 8.5,-709\"/>\n",
       "<text text-anchor=\"start\" x=\"19.5\" y=\"-723.8\" font-family=\"Times,serif\" font-size=\"14.00\">SubClass </text>\n",
       "<text text-anchor=\"start\" x=\"75.12\" y=\"-723.8\" font-family=\"Times,serif\" font-style=\"italic\" font-size=\"14.00\">String</text>\n",
       "<text text-anchor=\"start\" x=\"109.35\" y=\"-723.8\" font-family=\"Times,serif\" font-size=\"14.00\"> </text>\n",
       "<polygon fill=\"none\" stroke=\"black\" points=\"8.5,-673 8.5,-709 237.5,-709 237.5,-673 8.5,-673\"/>\n",
       "<text text-anchor=\"start\" x=\"19.5\" y=\"-687.8\" font-family=\"Times,serif\" font-size=\"14.00\">OptionType </text>\n",
       "<text text-anchor=\"start\" x=\"89.68\" y=\"-687.8\" font-family=\"Times,serif\" font-style=\"italic\" font-size=\"14.00\">String</text>\n",
       "<text text-anchor=\"start\" x=\"123.91\" y=\"-687.8\" font-family=\"Times,serif\" font-size=\"14.00\"> </text>\n",
       "<polygon fill=\"none\" stroke=\"black\" points=\"8.5,-637 8.5,-673 237.5,-673 237.5,-637 8.5,-637\"/>\n",
       "<text text-anchor=\"start\" x=\"19.5\" y=\"-651.8\" font-family=\"Times,serif\" font-size=\"14.00\">Underlying </text>\n",
       "<text text-anchor=\"start\" x=\"86.77\" y=\"-651.8\" font-family=\"Times,serif\" font-style=\"italic\" font-size=\"14.00\">String</text>\n",
       "<text text-anchor=\"start\" x=\"120.99\" y=\"-651.8\" font-family=\"Times,serif\" font-size=\"14.00\"> </text>\n",
       "<polygon fill=\"none\" stroke=\"black\" points=\"8.5,-601 8.5,-637 237.5,-637 237.5,-601 8.5,-601\"/>\n",
       "<text text-anchor=\"start\" x=\"19.5\" y=\"-615.8\" font-family=\"Times,serif\" font-size=\"14.00\">UnderlyingType </text>\n",
       "<text text-anchor=\"start\" x=\"114.55\" y=\"-615.8\" font-family=\"Times,serif\" font-style=\"italic\" font-size=\"14.00\">String</text>\n",
       "<text text-anchor=\"start\" x=\"148.78\" y=\"-615.8\" font-family=\"Times,serif\" font-size=\"14.00\"> </text>\n",
       "<polygon fill=\"none\" stroke=\"black\" points=\"8.5,-565 8.5,-601 237.5,-601 237.5,-565 8.5,-565\"/>\n",
       "<text text-anchor=\"start\" x=\"19.5\" y=\"-579.8\" font-family=\"Times,serif\" font-size=\"14.00\">Si </text>\n",
       "<text text-anchor=\"start\" x=\"34.68\" y=\"-579.8\" font-family=\"Times,serif\" font-style=\"italic\" font-size=\"14.00\">LocalDate</text>\n",
       "<text text-anchor=\"start\" x=\"92.97\" y=\"-579.8\" font-family=\"Times,serif\" font-size=\"14.00\"> </text>\n",
       "<polygon fill=\"none\" stroke=\"black\" points=\"8.5,-529 8.5,-565 237.5,-565 237.5,-529 8.5,-529\"/>\n",
       "<text text-anchor=\"start\" x=\"19.5\" y=\"-543.8\" font-family=\"Times,serif\" font-size=\"14.00\">Ei </text>\n",
       "<text text-anchor=\"start\" x=\"35.44\" y=\"-543.8\" font-family=\"Times,serif\" font-style=\"italic\" font-size=\"14.00\">LocalDate</text>\n",
       "<text text-anchor=\"start\" x=\"93.74\" y=\"-543.8\" font-family=\"Times,serif\" font-size=\"14.00\"> </text>\n",
       "<polygon fill=\"none\" stroke=\"black\" points=\"8.5,-493 8.5,-529 237.5,-529 237.5,-493 8.5,-493\"/>\n",
       "<text text-anchor=\"start\" x=\"19.5\" y=\"-507.8\" font-family=\"Times,serif\" font-size=\"14.00\">Mi </text>\n",
       "<text text-anchor=\"start\" x=\"39.34\" y=\"-507.8\" font-family=\"Times,serif\" font-style=\"italic\" font-size=\"14.00\">LocalDate</text>\n",
       "<text text-anchor=\"start\" x=\"97.63\" y=\"-507.8\" font-family=\"Times,serif\" font-size=\"14.00\"> </text>\n",
       "<polygon fill=\"none\" stroke=\"black\" points=\"8.5,-457 8.5,-493 237.5,-493 237.5,-457 8.5,-457\"/>\n",
       "<text text-anchor=\"start\" x=\"19.5\" y=\"-471.8\" font-family=\"Times,serif\" font-size=\"14.00\">Ti </text>\n",
       "<text text-anchor=\"start\" x=\"34.96\" y=\"-471.8\" font-family=\"Times,serif\" font-style=\"italic\" font-size=\"14.00\">LocalDate</text>\n",
       "<text text-anchor=\"start\" x=\"93.25\" y=\"-471.8\" font-family=\"Times,serif\" font-size=\"14.00\"> </text>\n",
       "<polygon fill=\"none\" stroke=\"black\" points=\"8.5,-421 8.5,-457 237.5,-457 237.5,-421 8.5,-421\"/>\n",
       "<text text-anchor=\"start\" x=\"19.5\" y=\"-435.8\" font-family=\"Times,serif\" font-size=\"14.00\">Strike Price </text>\n",
       "<text text-anchor=\"start\" x=\"88.71\" y=\"-435.8\" font-family=\"Times,serif\" font-style=\"italic\" font-size=\"14.00\">double</text>\n",
       "<text text-anchor=\"start\" x=\"126.81\" y=\"-435.8\" font-family=\"Times,serif\" font-size=\"14.00\"> </text>\n",
       "<polygon fill=\"none\" stroke=\"black\" points=\"8.5,-385 8.5,-421 237.5,-421 237.5,-385 8.5,-385\"/>\n",
       "<text text-anchor=\"start\" x=\"19.5\" y=\"-399.8\" font-family=\"Times,serif\" font-size=\"14.00\">Underlying Price </text>\n",
       "<text text-anchor=\"start\" x=\"119.03\" y=\"-399.8\" font-family=\"Times,serif\" font-style=\"italic\" font-size=\"14.00\">double</text>\n",
       "<text text-anchor=\"start\" x=\"157.13\" y=\"-399.8\" font-family=\"Times,serif\" font-size=\"14.00\"> </text>\n",
       "<polygon fill=\"none\" stroke=\"black\" points=\"8.5,-349 8.5,-385 237.5,-385 237.5,-349 8.5,-349\"/>\n",
       "<text text-anchor=\"start\" x=\"19.5\" y=\"-363.8\" font-family=\"Times,serif\" font-size=\"14.00\">Attachment </text>\n",
       "<text text-anchor=\"start\" x=\"88.31\" y=\"-363.8\" font-family=\"Times,serif\" font-style=\"italic\" font-size=\"14.00\">double</text>\n",
       "<text text-anchor=\"start\" x=\"126.41\" y=\"-363.8\" font-family=\"Times,serif\" font-size=\"14.00\"> </text>\n",
       "<polygon fill=\"none\" stroke=\"black\" points=\"8.5,-313 8.5,-349 237.5,-349 237.5,-313 8.5,-313\"/>\n",
       "<text text-anchor=\"start\" x=\"19.5\" y=\"-327.8\" font-family=\"Times,serif\" font-size=\"14.00\">Detachment </text>\n",
       "<text text-anchor=\"start\" x=\"90.63\" y=\"-327.8\" font-family=\"Times,serif\" font-style=\"italic\" font-size=\"14.00\">double</text>\n",
       "<text text-anchor=\"start\" x=\"128.74\" y=\"-327.8\" font-family=\"Times,serif\" font-size=\"14.00\"> </text>\n",
       "<polygon fill=\"none\" stroke=\"black\" points=\"8.5,-277 8.5,-313 237.5,-313 237.5,-277 8.5,-277\"/>\n",
       "<text text-anchor=\"start\" x=\"19.5\" y=\"-291.8\" font-family=\"Times,serif\" font-size=\"14.00\">IndependentAmount </text>\n",
       "<text text-anchor=\"start\" x=\"138.08\" y=\"-291.8\" font-family=\"Times,serif\" font-style=\"italic\" font-size=\"14.00\">String</text>\n",
       "<text text-anchor=\"start\" x=\"172.31\" y=\"-291.8\" font-family=\"Times,serif\" font-size=\"14.00\"> </text>\n",
       "<polygon fill=\"none\" stroke=\"black\" points=\"8.5,-241 8.5,-277 237.5,-277 237.5,-241 8.5,-241\"/>\n",
       "<text text-anchor=\"start\" x=\"19.5\" y=\"-255.8\" font-family=\"Times,serif\" font-size=\"14.00\">Fund </text>\n",
       "<text text-anchor=\"start\" x=\"51.79\" y=\"-255.8\" font-family=\"Times,serif\" font-style=\"italic\" font-size=\"14.00\">String</text>\n",
       "<text text-anchor=\"start\" x=\"86.01\" y=\"-255.8\" font-family=\"Times,serif\" font-size=\"14.00\"> </text>\n",
       "<polygon fill=\"none\" stroke=\"black\" points=\"8.5,-205 8.5,-241 237.5,-241 237.5,-205 8.5,-205\"/>\n",
       "<text text-anchor=\"start\" x=\"19.5\" y=\"-219.8\" font-family=\"Times,serif\" font-size=\"14.00\">Mi_pd </text>\n",
       "<text text-anchor=\"start\" x=\"60.34\" y=\"-219.8\" font-family=\"Times,serif\" font-style=\"italic\" font-size=\"14.00\">int</text>\n",
       "<text text-anchor=\"start\" x=\"75.12\" y=\"-219.8\" font-family=\"Times,serif\" font-size=\"14.00\"> </text>\n",
       "<polygon fill=\"none\" stroke=\"black\" points=\"8.5,-169 8.5,-205 237.5,-205 237.5,-169 8.5,-169\"/>\n",
       "<text text-anchor=\"start\" x=\"19.5\" y=\"-183.8\" font-family=\"Times,serif\" font-size=\"14.00\">MaturityBuckets </text>\n",
       "<text text-anchor=\"start\" x=\"117.1\" y=\"-183.8\" font-family=\"Times,serif\" font-style=\"italic\" font-size=\"14.00\">int</text>\n",
       "<text text-anchor=\"start\" x=\"131.88\" y=\"-183.8\" font-family=\"Times,serif\" font-size=\"14.00\"> </text>\n",
       "<polygon fill=\"none\" stroke=\"black\" points=\"8.5,-133 8.5,-169 237.5,-169 237.5,-133 8.5,-133\"/>\n",
       "<text text-anchor=\"start\" x=\"19.5\" y=\"-147.8\" font-family=\"Times,serif\" font-size=\"14.00\">RiskClass </text>\n",
       "<text text-anchor=\"start\" x=\"79.01\" y=\"-147.8\" font-family=\"Times,serif\" font-style=\"italic\" font-size=\"14.00\">String</text>\n",
       "<text text-anchor=\"start\" x=\"113.24\" y=\"-147.8\" font-family=\"Times,serif\" font-size=\"14.00\"> </text>\n",
       "<polygon fill=\"none\" stroke=\"black\" points=\"8.5,-97 8.5,-133 237.5,-133 237.5,-97 8.5,-97\"/>\n",
       "<text text-anchor=\"start\" x=\"19.5\" y=\"-111.8\" font-family=\"Times,serif\" font-size=\"14.00\">Hedge_Set </text>\n",
       "<text text-anchor=\"start\" x=\"84.43\" y=\"-111.8\" font-family=\"Times,serif\" font-style=\"italic\" font-size=\"14.00\">String</text>\n",
       "<text text-anchor=\"start\" x=\"118.66\" y=\"-111.8\" font-family=\"Times,serif\" font-size=\"14.00\"> </text>\n",
       "<polygon fill=\"none\" stroke=\"black\" points=\"8.5,-61 8.5,-97 237.5,-97 237.5,-61 8.5,-61\"/>\n",
       "<text text-anchor=\"start\" x=\"19.5\" y=\"-75.8\" font-family=\"Times,serif\" font-size=\"14.00\">SP_subclass </text>\n",
       "<text text-anchor=\"start\" x=\"92.23\" y=\"-75.8\" font-family=\"Times,serif\" font-style=\"italic\" font-size=\"14.00\">String</text>\n",
       "<text text-anchor=\"start\" x=\"126.46\" y=\"-75.8\" font-family=\"Times,serif\" font-size=\"14.00\"> </text>\n",
       "</g>\n",
       "<!-- books_2020&#45;01&#45;13.csv -->\n",
       "<g id=\"node2\" class=\"node\">\n",
       "<title>books_2020-01-13.csv</title>\n",
       "<polygon fill=\"none\" stroke=\"black\" points=\"461.52,-1090 461.52,-1126 634.52,-1126 634.52,-1090 461.52,-1090\"/>\n",
       "<text text-anchor=\"start\" x=\"484.05\" y=\"-1104.8\" font-family=\"Times,serif\" font-weight=\"bold\" font-size=\"14.00\">books_2020-01-13.csv</text>\n",
       "<polygon fill=\"none\" stroke=\"black\" points=\"461.52,-1054 461.52,-1090 634.52,-1090 634.52,-1054 461.52,-1054\"/>\n",
       "<text text-anchor=\"start\" x=\"472.21\" y=\"-1068.8\" font-family=\"Times,serif\" font-weight=\"bold\" font-size=\"14.00\">Key</text>\n",
       "<text text-anchor=\"start\" x=\"495.53\" y=\"-1068.8\" font-family=\"Times,serif\" font-size=\"14.00\">  AsOfDate </text>\n",
       "<text text-anchor=\"start\" x=\"562.03\" y=\"-1068.8\" font-family=\"Times,serif\" font-style=\"italic\" font-size=\"14.00\">LocalDate</text>\n",
       "<text text-anchor=\"start\" x=\"620.32\" y=\"-1068.8\" font-family=\"Times,serif\" font-size=\"14.00\"> </text>\n",
       "<polygon fill=\"none\" stroke=\"black\" points=\"461.52,-1018 461.52,-1054 634.52,-1054 634.52,-1018 461.52,-1018\"/>\n",
       "<text text-anchor=\"start\" x=\"472.52\" y=\"-1032.8\" font-family=\"Times,serif\" font-weight=\"bold\" font-size=\"14.00\">Key</text>\n",
       "<text text-anchor=\"start\" x=\"495.84\" y=\"-1032.8\" font-family=\"Times,serif\" font-size=\"14.00\">  BookId </text>\n",
       "<text text-anchor=\"start\" x=\"548.34\" y=\"-1032.8\" font-family=\"Times,serif\" font-style=\"italic\" font-size=\"14.00\">String</text>\n",
       "<text text-anchor=\"start\" x=\"582.57\" y=\"-1032.8\" font-family=\"Times,serif\" font-size=\"14.00\"> </text>\n",
       "<polygon fill=\"none\" stroke=\"black\" points=\"461.52,-982 461.52,-1018 634.52,-1018 634.52,-982 461.52,-982\"/>\n",
       "<text text-anchor=\"start\" x=\"472.52\" y=\"-996.8\" font-family=\"Times,serif\" font-size=\"14.00\">BookDescription </text>\n",
       "<text text-anchor=\"start\" x=\"571.67\" y=\"-996.8\" font-family=\"Times,serif\" font-style=\"italic\" font-size=\"14.00\">String</text>\n",
       "<text text-anchor=\"start\" x=\"605.9\" y=\"-996.8\" font-family=\"Times,serif\" font-size=\"14.00\"> </text>\n",
       "<polygon fill=\"none\" stroke=\"black\" points=\"461.52,-946 461.52,-982 634.52,-982 634.52,-946 461.52,-946\"/>\n",
       "<text text-anchor=\"start\" x=\"472.52\" y=\"-960.8\" font-family=\"Times,serif\" font-size=\"14.00\">DeskId </text>\n",
       "<text text-anchor=\"start\" x=\"516.45\" y=\"-960.8\" font-family=\"Times,serif\" font-style=\"italic\" font-size=\"14.00\">String</text>\n",
       "<text text-anchor=\"start\" x=\"550.68\" y=\"-960.8\" font-family=\"Times,serif\" font-size=\"14.00\"> </text>\n",
       "</g>\n",
       "<!-- trades_preprocessed_2020&#45;01&#45;13.csv&#45;&gt;books_2020&#45;01&#45;13.csv -->\n",
       "<g id=\"edge4\" class=\"edge\">\n",
       "<title>trades_preprocessed_2020-01-13.csv-&gt;books_2020-01-13.csv</title>\n",
       "<path fill=\"none\" stroke=\"black\" d=\"M245.12,-765.28C251.13,-771.3 257.11,-777.24 263,-783 333.61,-852.08 353.15,-867.41 427.02,-933 432.92,-938.24 439.01,-943.61 445.17,-949.01\"/>\n",
       "<polygon fill=\"black\" stroke=\"black\" points=\"443.17,-951.91 453,-955.86 447.78,-946.64 443.17,-951.91\"/>\n",
       "<text text-anchor=\"middle\" x=\"336.01\" y=\"-932.17\" font-family=\"Times,serif\" font-size=\"14.00\">AsOfDate → AsOfDate</text>\n",
       "<text text-anchor=\"middle\" x=\"336.01\" y=\"-917.48\" font-family=\"Times,serif\" font-size=\"14.00\">BookId → BookId</text>\n",
       "</g>\n",
       "<!-- products_2020&#45;01&#45;13.csv -->\n",
       "<g id=\"node4\" class=\"node\">\n",
       "<title>products_2020-01-13.csv</title>\n",
       "<polygon fill=\"none\" stroke=\"black\" points=\"465.52,-884 465.52,-920 629.52,-920 629.52,-884 465.52,-884\"/>\n",
       "<text text-anchor=\"start\" x=\"476.17\" y=\"-898.8\" font-family=\"Times,serif\" font-weight=\"bold\" font-size=\"14.00\">products_2020-01-13.csv</text>\n",
       "<polygon fill=\"none\" stroke=\"black\" points=\"465.52,-848 465.52,-884 629.52,-884 629.52,-848 465.52,-848\"/>\n",
       "<text text-anchor=\"start\" x=\"476.52\" y=\"-862.8\" font-family=\"Times,serif\" font-weight=\"bold\" font-size=\"14.00\">Key</text>\n",
       "<text text-anchor=\"start\" x=\"499.84\" y=\"-862.8\" font-family=\"Times,serif\" font-size=\"14.00\">  ProductId </text>\n",
       "<text text-anchor=\"start\" x=\"565.55\" y=\"-862.8\" font-family=\"Times,serif\" font-style=\"italic\" font-size=\"14.00\">String</text>\n",
       "<text text-anchor=\"start\" x=\"599.78\" y=\"-862.8\" font-family=\"Times,serif\" font-size=\"14.00\"> </text>\n",
       "<polygon fill=\"none\" stroke=\"black\" points=\"465.52,-812 465.52,-848 629.52,-848 629.52,-812 465.52,-812\"/>\n",
       "<text text-anchor=\"start\" x=\"476.52\" y=\"-826.8\" font-family=\"Times,serif\" font-size=\"14.00\">AsOfDate </text>\n",
       "<text text-anchor=\"start\" x=\"536.77\" y=\"-826.8\" font-family=\"Times,serif\" font-style=\"italic\" font-size=\"14.00\">LocalDate</text>\n",
       "<text text-anchor=\"start\" x=\"595.07\" y=\"-826.8\" font-family=\"Times,serif\" font-size=\"14.00\"> </text>\n",
       "<polygon fill=\"none\" stroke=\"black\" points=\"465.52,-776 465.52,-812 629.52,-812 629.52,-776 465.52,-776\"/>\n",
       "<text text-anchor=\"start\" x=\"476.52\" y=\"-790.8\" font-family=\"Times,serif\" font-size=\"14.00\">ProductFamily </text>\n",
       "<text text-anchor=\"start\" x=\"563.24\" y=\"-790.8\" font-family=\"Times,serif\" font-style=\"italic\" font-size=\"14.00\">String</text>\n",
       "<text text-anchor=\"start\" x=\"597.46\" y=\"-790.8\" font-family=\"Times,serif\" font-size=\"14.00\"> </text>\n",
       "<polygon fill=\"none\" stroke=\"black\" points=\"465.52,-740 465.52,-776 629.52,-776 629.52,-740 465.52,-740\"/>\n",
       "<text text-anchor=\"start\" x=\"476.52\" y=\"-754.8\" font-family=\"Times,serif\" font-size=\"14.00\">ProductCategory </text>\n",
       "<text text-anchor=\"start\" x=\"574.88\" y=\"-754.8\" font-family=\"Times,serif\" font-style=\"italic\" font-size=\"14.00\">String</text>\n",
       "<text text-anchor=\"start\" x=\"609.11\" y=\"-754.8\" font-family=\"Times,serif\" font-size=\"14.00\"> </text>\n",
       "<polygon fill=\"none\" stroke=\"black\" points=\"465.52,-704 465.52,-740 629.52,-740 629.52,-704 465.52,-704\"/>\n",
       "<text text-anchor=\"start\" x=\"476.52\" y=\"-718.8\" font-family=\"Times,serif\" font-size=\"14.00\">TradingProduct </text>\n",
       "<text text-anchor=\"start\" x=\"567.4\" y=\"-718.8\" font-family=\"Times,serif\" font-style=\"italic\" font-size=\"14.00\">String</text>\n",
       "<text text-anchor=\"start\" x=\"601.63\" y=\"-718.8\" font-family=\"Times,serif\" font-size=\"14.00\"> </text>\n",
       "</g>\n",
       "<!-- trades_preprocessed_2020&#45;01&#45;13.csv&#45;&gt;products_2020&#45;01&#45;13.csv -->\n",
       "<g id=\"edge3\" class=\"edge\">\n",
       "<title>trades_preprocessed_2020-01-13.csv-&gt;products_2020-01-13.csv</title>\n",
       "<path fill=\"none\" stroke=\"black\" d=\"M245,-687.27C309.3,-713.87 387.25,-746.11 447.78,-771.15\"/>\n",
       "<polygon fill=\"black\" stroke=\"black\" points=\"446.76,-774.52 457.34,-775.11 449.43,-768.05 446.76,-774.52\"/>\n",
       "<text text-anchor=\"middle\" x=\"336.01\" y=\"-768.17\" font-family=\"Times,serif\" font-size=\"14.00\">AsOfDate → AsOfDate</text>\n",
       "<text text-anchor=\"middle\" x=\"336.01\" y=\"-753.48\" font-family=\"Times,serif\" font-size=\"14.00\">ProductId → ProductId</text>\n",
       "</g>\n",
       "<!-- nettingSets_2020&#45;01&#45;13.csv -->\n",
       "<g id=\"node5\" class=\"node\">\n",
       "<title>nettingSets_2020-01-13.csv</title>\n",
       "<polygon fill=\"none\" stroke=\"black\" points=\"458.52,-642 458.52,-678 636.52,-678 636.52,-642 458.52,-642\"/>\n",
       "<text text-anchor=\"start\" x=\"469.16\" y=\"-656.8\" font-family=\"Times,serif\" font-weight=\"bold\" font-size=\"14.00\">nettingSets_2020-01-13.csv</text>\n",
       "<polygon fill=\"none\" stroke=\"black\" points=\"458.52,-606 458.52,-642 636.52,-642 636.52,-606 458.52,-606\"/>\n",
       "<text text-anchor=\"start\" x=\"469.52\" y=\"-620.8\" font-family=\"Times,serif\" font-weight=\"bold\" font-size=\"14.00\">Key</text>\n",
       "<text text-anchor=\"start\" x=\"492.84\" y=\"-620.8\" font-family=\"Times,serif\" font-size=\"14.00\">  AsOfDate </text>\n",
       "<text text-anchor=\"start\" x=\"559.33\" y=\"-620.8\" font-family=\"Times,serif\" font-style=\"italic\" font-size=\"14.00\">LocalDate</text>\n",
       "<text text-anchor=\"start\" x=\"617.63\" y=\"-620.8\" font-family=\"Times,serif\" font-size=\"14.00\"> </text>\n",
       "<polygon fill=\"none\" stroke=\"black\" points=\"458.52,-570 458.52,-606 636.52,-606 636.52,-570 458.52,-570\"/>\n",
       "<text text-anchor=\"start\" x=\"469.52\" y=\"-584.8\" font-family=\"Times,serif\" font-weight=\"bold\" font-size=\"14.00\">Key</text>\n",
       "<text text-anchor=\"start\" x=\"492.84\" y=\"-584.8\" font-family=\"Times,serif\" font-size=\"14.00\">  NettingId </text>\n",
       "<text text-anchor=\"start\" x=\"557\" y=\"-584.8\" font-family=\"Times,serif\" font-style=\"italic\" font-size=\"14.00\">String</text>\n",
       "<text text-anchor=\"start\" x=\"591.22\" y=\"-584.8\" font-family=\"Times,serif\" font-size=\"14.00\"> </text>\n",
       "<polygon fill=\"none\" stroke=\"black\" points=\"458.52,-534 458.52,-570 636.52,-570 636.52,-534 458.52,-534\"/>\n",
       "<text text-anchor=\"start\" x=\"469.52\" y=\"-548.8\" font-family=\"Times,serif\" font-size=\"14.00\">NettingName </text>\n",
       "<text text-anchor=\"start\" x=\"548.44\" y=\"-548.8\" font-family=\"Times,serif\" font-style=\"italic\" font-size=\"14.00\">String</text>\n",
       "<text text-anchor=\"start\" x=\"582.66\" y=\"-548.8\" font-family=\"Times,serif\" font-size=\"14.00\"> </text>\n",
       "<polygon fill=\"none\" stroke=\"black\" points=\"458.52,-498 458.52,-534 636.52,-534 636.52,-498 458.52,-498\"/>\n",
       "<text text-anchor=\"start\" x=\"469.52\" y=\"-512.8\" font-family=\"Times,serif\" font-size=\"14.00\">NettingType </text>\n",
       "<text text-anchor=\"start\" x=\"542.8\" y=\"-512.8\" font-family=\"Times,serif\" font-style=\"italic\" font-size=\"14.00\">String</text>\n",
       "<text text-anchor=\"start\" x=\"577.02\" y=\"-512.8\" font-family=\"Times,serif\" font-size=\"14.00\"> </text>\n",
       "<polygon fill=\"none\" stroke=\"black\" points=\"458.52,-462 458.52,-498 636.52,-498 636.52,-462 458.52,-462\"/>\n",
       "<text text-anchor=\"start\" x=\"469.52\" y=\"-476.8\" font-family=\"Times,serif\" font-size=\"14.00\">CounterpartyId </text>\n",
       "<text text-anchor=\"start\" x=\"558.55\" y=\"-476.8\" font-family=\"Times,serif\" font-style=\"italic\" font-size=\"14.00\">String</text>\n",
       "<text text-anchor=\"start\" x=\"592.77\" y=\"-476.8\" font-family=\"Times,serif\" font-size=\"14.00\"> </text>\n",
       "<polygon fill=\"none\" stroke=\"black\" points=\"458.52,-426 458.52,-462 636.52,-462 636.52,-426 458.52,-426\"/>\n",
       "<text text-anchor=\"start\" x=\"469.52\" y=\"-440.8\" font-family=\"Times,serif\" font-size=\"14.00\">MPOR </text>\n",
       "<text text-anchor=\"start\" x=\"512.7\" y=\"-440.8\" font-family=\"Times,serif\" font-style=\"italic\" font-size=\"14.00\">double</text>\n",
       "<text text-anchor=\"start\" x=\"550.8\" y=\"-440.8\" font-family=\"Times,serif\" font-size=\"14.00\"> </text>\n",
       "<polygon fill=\"none\" stroke=\"black\" points=\"458.52,-390 458.52,-426 636.52,-426 636.52,-390 458.52,-390\"/>\n",
       "<text text-anchor=\"start\" x=\"469.52\" y=\"-404.8\" font-family=\"Times,serif\" font-size=\"14.00\">Collateral </text>\n",
       "<text text-anchor=\"start\" x=\"528.22\" y=\"-404.8\" font-family=\"Times,serif\" font-style=\"italic\" font-size=\"14.00\">double</text>\n",
       "<text text-anchor=\"start\" x=\"566.32\" y=\"-404.8\" font-family=\"Times,serif\" font-size=\"14.00\"> </text>\n",
       "<polygon fill=\"none\" stroke=\"black\" points=\"458.52,-354 458.52,-390 636.52,-390 636.52,-354 458.52,-354\"/>\n",
       "<text text-anchor=\"start\" x=\"469.52\" y=\"-368.8\" font-family=\"Times,serif\" font-size=\"14.00\">NICA </text>\n",
       "<text text-anchor=\"start\" x=\"506.47\" y=\"-368.8\" font-family=\"Times,serif\" font-style=\"italic\" font-size=\"14.00\">double</text>\n",
       "<text text-anchor=\"start\" x=\"544.57\" y=\"-368.8\" font-family=\"Times,serif\" font-size=\"14.00\"> </text>\n",
       "<polygon fill=\"none\" stroke=\"black\" points=\"458.52,-318 458.52,-354 636.52,-354 636.52,-318 458.52,-318\"/>\n",
       "<text text-anchor=\"start\" x=\"469.52\" y=\"-332.8\" font-family=\"Times,serif\" font-size=\"14.00\">TH </text>\n",
       "<text text-anchor=\"start\" x=\"491.68\" y=\"-332.8\" font-family=\"Times,serif\" font-style=\"italic\" font-size=\"14.00\">double</text>\n",
       "<text text-anchor=\"start\" x=\"529.78\" y=\"-332.8\" font-family=\"Times,serif\" font-size=\"14.00\"> </text>\n",
       "<polygon fill=\"none\" stroke=\"black\" points=\"458.52,-282 458.52,-318 636.52,-318 636.52,-282 458.52,-282\"/>\n",
       "<text text-anchor=\"start\" x=\"469.52\" y=\"-296.8\" font-family=\"Times,serif\" font-size=\"14.00\">MTA </text>\n",
       "<text text-anchor=\"start\" x=\"502.25\" y=\"-296.8\" font-family=\"Times,serif\" font-style=\"italic\" font-size=\"14.00\">double</text>\n",
       "<text text-anchor=\"start\" x=\"540.35\" y=\"-296.8\" font-family=\"Times,serif\" font-size=\"14.00\"> </text>\n",
       "<polygon fill=\"none\" stroke=\"black\" points=\"458.52,-246 458.52,-282 636.52,-282 636.52,-246 458.52,-246\"/>\n",
       "<text text-anchor=\"start\" x=\"469.52\" y=\"-260.8\" font-family=\"Times,serif\" font-size=\"14.00\">InputCurrency </text>\n",
       "<text text-anchor=\"start\" x=\"554.66\" y=\"-260.8\" font-family=\"Times,serif\" font-style=\"italic\" font-size=\"14.00\">String</text>\n",
       "<text text-anchor=\"start\" x=\"588.88\" y=\"-260.8\" font-family=\"Times,serif\" font-size=\"14.00\"> </text>\n",
       "</g>\n",
       "<!-- trades_preprocessed_2020&#45;01&#45;13.csv&#45;&gt;nettingSets_2020&#45;01&#45;13.csv -->\n",
       "<g id=\"edge2\" class=\"edge\">\n",
       "<title>trades_preprocessed_2020-01-13.csv-&gt;nettingSets_2020-01-13.csv</title>\n",
       "<path fill=\"none\" stroke=\"black\" d=\"M245,-586.73C306.87,-561.14 381.37,-530.32 440.83,-505.72\"/>\n",
       "<polygon fill=\"black\" stroke=\"black\" points=\"442.34,-508.88 450.24,-501.83 439.66,-502.42 442.34,-508.88\"/>\n",
       "<text text-anchor=\"middle\" x=\"336.01\" y=\"-593.17\" font-family=\"Times,serif\" font-size=\"14.00\">AsOfDate → AsOfDate</text>\n",
       "<text text-anchor=\"middle\" x=\"336.01\" y=\"-578.48\" font-family=\"Times,serif\" font-size=\"14.00\">NettingSetId → NettingId</text>\n",
       "</g>\n",
       "<!-- supervisoryParameters.csv -->\n",
       "<g id=\"node8\" class=\"node\">\n",
       "<title>supervisoryParameters.csv</title>\n",
       "<polygon fill=\"none\" stroke=\"black\" points=\"435.52,-184 435.52,-220 660.52,-220 660.52,-184 435.52,-184\"/>\n",
       "<text text-anchor=\"start\" x=\"473.18\" y=\"-198.8\" font-family=\"Times,serif\" font-weight=\"bold\" font-size=\"14.00\">supervisoryParameters.csv</text>\n",
       "<polygon fill=\"none\" stroke=\"black\" points=\"435.52,-148 435.52,-184 660.52,-184 660.52,-148 435.52,-148\"/>\n",
       "<text text-anchor=\"start\" x=\"446.52\" y=\"-162.8\" font-family=\"Times,serif\" font-weight=\"bold\" font-size=\"14.00\">Key</text>\n",
       "<text text-anchor=\"start\" x=\"469.84\" y=\"-162.8\" font-family=\"Times,serif\" font-size=\"14.00\">  AssetClass </text>\n",
       "<text text-anchor=\"start\" x=\"541.02\" y=\"-162.8\" font-family=\"Times,serif\" font-style=\"italic\" font-size=\"14.00\">String</text>\n",
       "<text text-anchor=\"start\" x=\"575.25\" y=\"-162.8\" font-family=\"Times,serif\" font-size=\"14.00\"> </text>\n",
       "<polygon fill=\"none\" stroke=\"black\" points=\"435.52,-112 435.52,-148 660.52,-148 660.52,-112 435.52,-112\"/>\n",
       "<text text-anchor=\"start\" x=\"446.52\" y=\"-126.8\" font-family=\"Times,serif\" font-weight=\"bold\" font-size=\"14.00\">Key</text>\n",
       "<text text-anchor=\"start\" x=\"469.84\" y=\"-126.8\" font-family=\"Times,serif\" font-size=\"14.00\">  Subclass </text>\n",
       "<text text-anchor=\"start\" x=\"529.34\" y=\"-126.8\" font-family=\"Times,serif\" font-style=\"italic\" font-size=\"14.00\">String</text>\n",
       "<text text-anchor=\"start\" x=\"563.57\" y=\"-126.8\" font-family=\"Times,serif\" font-size=\"14.00\"> </text>\n",
       "<polygon fill=\"none\" stroke=\"black\" points=\"435.52,-76 435.52,-112 660.52,-112 660.52,-76 435.52,-76\"/>\n",
       "<text text-anchor=\"start\" x=\"446.52\" y=\"-90.8\" font-family=\"Times,serif\" font-size=\"14.00\">SupervisoryFactor </text>\n",
       "<text text-anchor=\"start\" x=\"553.44\" y=\"-90.8\" font-family=\"Times,serif\" font-style=\"italic\" font-size=\"14.00\">double</text>\n",
       "<text text-anchor=\"start\" x=\"591.55\" y=\"-90.8\" font-family=\"Times,serif\" font-size=\"14.00\"> </text>\n",
       "<polygon fill=\"none\" stroke=\"black\" points=\"435.52,-40 435.52,-76 660.52,-76 660.52,-40 435.52,-40\"/>\n",
       "<text text-anchor=\"start\" x=\"446.52\" y=\"-54.8\" font-family=\"Times,serif\" font-size=\"14.00\">Correlation </text>\n",
       "<text text-anchor=\"start\" x=\"513.77\" y=\"-54.8\" font-family=\"Times,serif\" font-style=\"italic\" font-size=\"14.00\">double</text>\n",
       "<text text-anchor=\"start\" x=\"551.88\" y=\"-54.8\" font-family=\"Times,serif\" font-size=\"14.00\"> </text>\n",
       "<polygon fill=\"none\" stroke=\"black\" points=\"435.52,-4 435.52,-40 660.52,-40 660.52,-4 435.52,-4\"/>\n",
       "<text text-anchor=\"start\" x=\"446.26\" y=\"-18.8\" font-family=\"Times,serif\" font-size=\"14.00\">SupervisoryOptionVolatility </text>\n",
       "<text text-anchor=\"start\" x=\"608.17\" y=\"-18.8\" font-family=\"Times,serif\" font-style=\"italic\" font-size=\"14.00\">double</text>\n",
       "<text text-anchor=\"start\" x=\"646.27\" y=\"-18.8\" font-family=\"Times,serif\" font-size=\"14.00\"> </text>\n",
       "</g>\n",
       "<!-- trades_preprocessed_2020&#45;01&#45;13.csv&#45;&gt;supervisoryParameters.csv -->\n",
       "<g id=\"edge1\" class=\"edge\">\n",
       "<title>trades_preprocessed_2020-01-13.csv-&gt;supervisoryParameters.csv</title>\n",
       "<path fill=\"none\" stroke=\"black\" d=\"M245.19,-464.47C298.79,-391.33 363.84,-306.24 427.02,-233 427.33,-232.64 427.64,-232.27 427.96,-231.91\"/>\n",
       "<polygon fill=\"black\" stroke=\"black\" points=\"430.72,-234.07 434.69,-224.24 425.46,-229.45 430.72,-234.07\"/>\n",
       "<text text-anchor=\"middle\" x=\"336.01\" y=\"-457.17\" font-family=\"Times,serif\" font-size=\"14.00\">SP_subclass → Subclass</text>\n",
       "<text text-anchor=\"middle\" x=\"336.01\" y=\"-442.48\" font-family=\"Times,serif\" font-size=\"14.00\">AssetClass → AssetClass</text>\n",
       "</g>\n",
       "<!-- desks_2020&#45;01&#45;13.csv -->\n",
       "<g id=\"node3\" class=\"node\">\n",
       "<title>desks_2020-01-13.csv</title>\n",
       "<polygon fill=\"none\" stroke=\"black\" points=\"915.39,-1072 915.39,-1108 1088.39,-1108 1088.39,-1072 915.39,-1072\"/>\n",
       "<text text-anchor=\"start\" x=\"939.1\" y=\"-1086.8\" font-family=\"Times,serif\" font-weight=\"bold\" font-size=\"14.00\">desks_2020-01-13.csv</text>\n",
       "<polygon fill=\"none\" stroke=\"black\" points=\"915.39,-1036 915.39,-1072 1088.39,-1072 1088.39,-1036 915.39,-1036\"/>\n",
       "<text text-anchor=\"start\" x=\"926.09\" y=\"-1050.8\" font-family=\"Times,serif\" font-weight=\"bold\" font-size=\"14.00\">Key</text>\n",
       "<text text-anchor=\"start\" x=\"949.41\" y=\"-1050.8\" font-family=\"Times,serif\" font-size=\"14.00\">  AsOfDate </text>\n",
       "<text text-anchor=\"start\" x=\"1015.9\" y=\"-1050.8\" font-family=\"Times,serif\" font-style=\"italic\" font-size=\"14.00\">LocalDate</text>\n",
       "<text text-anchor=\"start\" x=\"1074.2\" y=\"-1050.8\" font-family=\"Times,serif\" font-size=\"14.00\"> </text>\n",
       "<polygon fill=\"none\" stroke=\"black\" points=\"915.39,-1000 915.39,-1036 1088.39,-1036 1088.39,-1000 915.39,-1000\"/>\n",
       "<text text-anchor=\"start\" x=\"926.39\" y=\"-1014.8\" font-family=\"Times,serif\" font-weight=\"bold\" font-size=\"14.00\">Key</text>\n",
       "<text text-anchor=\"start\" x=\"949.72\" y=\"-1014.8\" font-family=\"Times,serif\" font-size=\"14.00\">  DeskId </text>\n",
       "<text text-anchor=\"start\" x=\"1000.65\" y=\"-1014.8\" font-family=\"Times,serif\" font-style=\"italic\" font-size=\"14.00\">String</text>\n",
       "<text text-anchor=\"start\" x=\"1034.88\" y=\"-1014.8\" font-family=\"Times,serif\" font-size=\"14.00\"> </text>\n",
       "<polygon fill=\"none\" stroke=\"black\" points=\"915.39,-964 915.39,-1000 1088.39,-1000 1088.39,-964 915.39,-964\"/>\n",
       "<text text-anchor=\"start\" x=\"926.39\" y=\"-978.8\" font-family=\"Times,serif\" font-size=\"14.00\">DeskName </text>\n",
       "<text text-anchor=\"start\" x=\"992.09\" y=\"-978.8\" font-family=\"Times,serif\" font-style=\"italic\" font-size=\"14.00\">String</text>\n",
       "<text text-anchor=\"start\" x=\"1026.32\" y=\"-978.8\" font-family=\"Times,serif\" font-size=\"14.00\"> </text>\n",
       "</g>\n",
       "<!-- books_2020&#45;01&#45;13.csv&#45;&gt;desks_2020&#45;01&#45;13.csv -->\n",
       "<g id=\"edge5\" class=\"edge\">\n",
       "<title>books_2020-01-13.csv-&gt;desks_2020-01-13.csv</title>\n",
       "<path fill=\"none\" stroke=\"black\" d=\"M642.15,-1036C716.37,-1036 820,-1036 896.72,-1036\"/>\n",
       "<polygon fill=\"black\" stroke=\"black\" points=\"896.88,-1039.5 906.88,-1036 896.88,-1032.5 896.88,-1039.5\"/>\n",
       "<text text-anchor=\"middle\" x=\"781.95\" y=\"-1054.17\" font-family=\"Times,serif\" font-size=\"14.00\">AsOfDate → AsOfDate</text>\n",
       "<text text-anchor=\"middle\" x=\"781.95\" y=\"-1039.48\" font-family=\"Times,serif\" font-size=\"14.00\">DeskId → DeskId</text>\n",
       "</g>\n",
       "<!-- counterparties_2020&#45;01&#45;13.csv -->\n",
       "<g id=\"node6\" class=\"node\">\n",
       "<title>counterparties_2020-01-13.csv</title>\n",
       "<polygon fill=\"none\" stroke=\"black\" points=\"904.39,-570 904.39,-606 1099.39,-606 1099.39,-570 904.39,-570\"/>\n",
       "<text text-anchor=\"start\" x=\"915\" y=\"-584.8\" font-family=\"Times,serif\" font-weight=\"bold\" font-size=\"14.00\">counterparties_2020-01-13.csv</text>\n",
       "<polygon fill=\"none\" stroke=\"black\" points=\"904.39,-534 904.39,-570 1099.39,-570 1099.39,-534 904.39,-534\"/>\n",
       "<text text-anchor=\"start\" x=\"915.39\" y=\"-548.8\" font-family=\"Times,serif\" font-weight=\"bold\" font-size=\"14.00\">Key</text>\n",
       "<text text-anchor=\"start\" x=\"938.72\" y=\"-548.8\" font-family=\"Times,serif\" font-size=\"14.00\">  AsOfDate </text>\n",
       "<text text-anchor=\"start\" x=\"1005.21\" y=\"-548.8\" font-family=\"Times,serif\" font-style=\"italic\" font-size=\"14.00\">LocalDate</text>\n",
       "<text text-anchor=\"start\" x=\"1063.51\" y=\"-548.8\" font-family=\"Times,serif\" font-size=\"14.00\"> </text>\n",
       "<polygon fill=\"none\" stroke=\"black\" points=\"904.39,-498 904.39,-534 1099.39,-534 1099.39,-498 904.39,-498\"/>\n",
       "<text text-anchor=\"start\" x=\"915.39\" y=\"-512.8\" font-family=\"Times,serif\" font-weight=\"bold\" font-size=\"14.00\">Key</text>\n",
       "<text text-anchor=\"start\" x=\"938.72\" y=\"-512.8\" font-family=\"Times,serif\" font-size=\"14.00\">  CounterpartyId </text>\n",
       "<text text-anchor=\"start\" x=\"1034.75\" y=\"-512.8\" font-family=\"Times,serif\" font-style=\"italic\" font-size=\"14.00\">String</text>\n",
       "<text text-anchor=\"start\" x=\"1068.98\" y=\"-512.8\" font-family=\"Times,serif\" font-size=\"14.00\"> </text>\n",
       "<polygon fill=\"none\" stroke=\"black\" points=\"904.39,-462 904.39,-498 1099.39,-498 1099.39,-462 904.39,-462\"/>\n",
       "<text text-anchor=\"start\" x=\"915.39\" y=\"-476.8\" font-family=\"Times,serif\" font-size=\"14.00\">CounterpartyName </text>\n",
       "<text text-anchor=\"start\" x=\"1026.19\" y=\"-476.8\" font-family=\"Times,serif\" font-style=\"italic\" font-size=\"14.00\">String</text>\n",
       "<text text-anchor=\"start\" x=\"1060.42\" y=\"-476.8\" font-family=\"Times,serif\" font-size=\"14.00\"> </text>\n",
       "<polygon fill=\"none\" stroke=\"black\" points=\"904.39,-426 904.39,-462 1099.39,-462 1099.39,-426 904.39,-426\"/>\n",
       "<text text-anchor=\"start\" x=\"915.39\" y=\"-440.8\" font-family=\"Times,serif\" font-size=\"14.00\">Rating </text>\n",
       "<text text-anchor=\"start\" x=\"956.22\" y=\"-440.8\" font-family=\"Times,serif\" font-style=\"italic\" font-size=\"14.00\">String</text>\n",
       "<text text-anchor=\"start\" x=\"990.45\" y=\"-440.8\" font-family=\"Times,serif\" font-size=\"14.00\"> </text>\n",
       "<polygon fill=\"none\" stroke=\"black\" points=\"904.39,-390 904.39,-426 1099.39,-426 1099.39,-390 904.39,-390\"/>\n",
       "<text text-anchor=\"start\" x=\"915.39\" y=\"-404.8\" font-family=\"Times,serif\" font-size=\"14.00\">Sector </text>\n",
       "<text text-anchor=\"start\" x=\"954.66\" y=\"-404.8\" font-family=\"Times,serif\" font-style=\"italic\" font-size=\"14.00\">String</text>\n",
       "<text text-anchor=\"start\" x=\"988.89\" y=\"-404.8\" font-family=\"Times,serif\" font-size=\"14.00\"> </text>\n",
       "<polygon fill=\"none\" stroke=\"black\" points=\"904.39,-354 904.39,-390 1099.39,-390 1099.39,-354 904.39,-354\"/>\n",
       "<text text-anchor=\"start\" x=\"915.39\" y=\"-368.8\" font-family=\"Times,serif\" font-size=\"14.00\">CountryOfAddress </text>\n",
       "<text text-anchor=\"start\" x=\"1025.44\" y=\"-368.8\" font-family=\"Times,serif\" font-style=\"italic\" font-size=\"14.00\">String</text>\n",
       "<text text-anchor=\"start\" x=\"1059.67\" y=\"-368.8\" font-family=\"Times,serif\" font-size=\"14.00\"> </text>\n",
       "<polygon fill=\"none\" stroke=\"black\" points=\"904.39,-318 904.39,-354 1099.39,-354 1099.39,-318 904.39,-318\"/>\n",
       "<text text-anchor=\"start\" x=\"915.39\" y=\"-332.8\" font-family=\"Times,serif\" font-size=\"14.00\">CountryOfRisk </text>\n",
       "<text text-anchor=\"start\" x=\"1005.23\" y=\"-332.8\" font-family=\"Times,serif\" font-style=\"italic\" font-size=\"14.00\">String</text>\n",
       "<text text-anchor=\"start\" x=\"1039.46\" y=\"-332.8\" font-family=\"Times,serif\" font-size=\"14.00\"> </text>\n",
       "</g>\n",
       "<!-- nettingSets_2020&#45;01&#45;13.csv&#45;&gt;counterparties_2020&#45;01&#45;13.csv -->\n",
       "<g id=\"edge6\" class=\"edge\">\n",
       "<title>nettingSets_2020-01-13.csv-&gt;counterparties_2020-01-13.csv</title>\n",
       "<path fill=\"none\" stroke=\"black\" d=\"M644.62,-462C715.04,-462 810.91,-462 885.4,-462\"/>\n",
       "<polygon fill=\"black\" stroke=\"black\" points=\"885.76,-465.5 895.76,-462 885.76,-458.5 885.76,-465.5\"/>\n",
       "<text text-anchor=\"middle\" x=\"781.95\" y=\"-480.17\" font-family=\"Times,serif\" font-size=\"14.00\">AsOfDate → AsOfDate</text>\n",
       "<text text-anchor=\"middle\" x=\"781.95\" y=\"-465.48\" font-family=\"Times,serif\" font-size=\"14.00\">CounterpartyId → CounterpartyId</text>\n",
       "</g>\n",
       "<!-- countries.csv -->\n",
       "<g id=\"node7\" class=\"node\">\n",
       "<title>countries.csv</title>\n",
       "<polygon fill=\"none\" stroke=\"black\" points=\"1324.64,-570 1324.64,-606 1463.64,-606 1463.64,-570 1324.64,-570\"/>\n",
       "<text text-anchor=\"start\" x=\"1357.4\" y=\"-584.8\" font-family=\"Times,serif\" font-weight=\"bold\" font-size=\"14.00\">countries.csv</text>\n",
       "<polygon fill=\"none\" stroke=\"black\" points=\"1324.64,-534 1324.64,-570 1463.64,-570 1463.64,-534 1324.64,-534\"/>\n",
       "<text text-anchor=\"start\" x=\"1335.42\" y=\"-548.8\" font-family=\"Times,serif\" font-weight=\"bold\" font-size=\"14.00\">Key</text>\n",
       "<text text-anchor=\"start\" x=\"1358.75\" y=\"-548.8\" font-family=\"Times,serif\" font-size=\"14.00\">  Country </text>\n",
       "<text text-anchor=\"start\" x=\"1415.14\" y=\"-548.8\" font-family=\"Times,serif\" font-style=\"italic\" font-size=\"14.00\">String</text>\n",
       "<text text-anchor=\"start\" x=\"1449.36\" y=\"-548.8\" font-family=\"Times,serif\" font-size=\"14.00\"> </text>\n",
       "<polygon fill=\"none\" stroke=\"black\" points=\"1324.64,-498 1324.64,-534 1463.64,-534 1463.64,-498 1324.64,-498\"/>\n",
       "<text text-anchor=\"start\" x=\"1335.64\" y=\"-512.8\" font-family=\"Times,serif\" font-size=\"14.00\">Region </text>\n",
       "<text text-anchor=\"start\" x=\"1379.58\" y=\"-512.8\" font-family=\"Times,serif\" font-style=\"italic\" font-size=\"14.00\">String</text>\n",
       "<text text-anchor=\"start\" x=\"1413.81\" y=\"-512.8\" font-family=\"Times,serif\" font-size=\"14.00\"> </text>\n",
       "<polygon fill=\"none\" stroke=\"black\" points=\"1324.64,-462 1324.64,-498 1463.64,-498 1463.64,-462 1324.64,-462\"/>\n",
       "<text text-anchor=\"start\" x=\"1335.64\" y=\"-476.8\" font-family=\"Times,serif\" font-size=\"14.00\">SubRegion </text>\n",
       "<text text-anchor=\"start\" x=\"1401.37\" y=\"-476.8\" font-family=\"Times,serif\" font-style=\"italic\" font-size=\"14.00\">String</text>\n",
       "<text text-anchor=\"start\" x=\"1435.6\" y=\"-476.8\" font-family=\"Times,serif\" font-size=\"14.00\"> </text>\n",
       "<polygon fill=\"none\" stroke=\"black\" points=\"1324.64,-426 1324.64,-462 1463.64,-462 1463.64,-426 1324.64,-426\"/>\n",
       "<text text-anchor=\"start\" x=\"1335.64\" y=\"-440.8\" font-family=\"Times,serif\" font-size=\"14.00\">CodeISO </text>\n",
       "<text text-anchor=\"start\" x=\"1391.25\" y=\"-440.8\" font-family=\"Times,serif\" font-style=\"italic\" font-size=\"14.00\">String</text>\n",
       "<text text-anchor=\"start\" x=\"1425.48\" y=\"-440.8\" font-family=\"Times,serif\" font-size=\"14.00\"> </text>\n",
       "<polygon fill=\"none\" stroke=\"black\" points=\"1324.64,-390 1324.64,-426 1463.64,-426 1463.64,-390 1324.64,-390\"/>\n",
       "<text text-anchor=\"start\" x=\"1335.64\" y=\"-404.8\" font-family=\"Times,serif\" font-size=\"14.00\">CodeIOC </text>\n",
       "<text text-anchor=\"start\" x=\"1392.81\" y=\"-404.8\" font-family=\"Times,serif\" font-style=\"italic\" font-size=\"14.00\">String</text>\n",
       "<text text-anchor=\"start\" x=\"1427.03\" y=\"-404.8\" font-family=\"Times,serif\" font-size=\"14.00\"> </text>\n",
       "<polygon fill=\"none\" stroke=\"black\" points=\"1324.64,-354 1324.64,-390 1463.64,-390 1463.64,-354 1324.64,-354\"/>\n",
       "<text text-anchor=\"start\" x=\"1335.64\" y=\"-368.8\" font-family=\"Times,serif\" font-size=\"14.00\">Latitude </text>\n",
       "<text text-anchor=\"start\" x=\"1385.79\" y=\"-368.8\" font-family=\"Times,serif\" font-style=\"italic\" font-size=\"14.00\">double</text>\n",
       "<text text-anchor=\"start\" x=\"1423.9\" y=\"-368.8\" font-family=\"Times,serif\" font-size=\"14.00\"> </text>\n",
       "<polygon fill=\"none\" stroke=\"black\" points=\"1324.64,-318 1324.64,-354 1463.64,-354 1463.64,-318 1324.64,-318\"/>\n",
       "<text text-anchor=\"start\" x=\"1335.64\" y=\"-332.8\" font-family=\"Times,serif\" font-size=\"14.00\">Longitude </text>\n",
       "<text text-anchor=\"start\" x=\"1396.69\" y=\"-332.8\" font-family=\"Times,serif\" font-style=\"italic\" font-size=\"14.00\">double</text>\n",
       "<text text-anchor=\"start\" x=\"1434.79\" y=\"-332.8\" font-family=\"Times,serif\" font-size=\"14.00\"> </text>\n",
       "</g>\n",
       "<!-- counterparties_2020&#45;01&#45;13.csv&#45;&gt;countries.csv -->\n",
       "<g id=\"edge7\" class=\"edge\">\n",
       "<title>counterparties_2020-01-13.csv-&gt;countries.csv</title>\n",
       "<path fill=\"none\" stroke=\"black\" d=\"M1106.97,-462C1169.06,-462 1246.86,-462 1305.58,-462\"/>\n",
       "<polygon fill=\"black\" stroke=\"black\" points=\"1305.95,-465.5 1315.95,-462 1305.95,-458.5 1305.95,-465.5\"/>\n",
       "<text text-anchor=\"middle\" x=\"1211.52\" y=\"-465.48\" font-family=\"Times,serif\" font-size=\"14.00\">CountryOfAddress → Country</text>\n",
       "</g>\n",
       "</g>\n",
       "</svg>"
      ],
      "text/plain": [
       "<IPython.core.display.SVG object>"
      ]
     },
     "execution_count": 5,
     "metadata": {},
     "output_type": "execute_result"
    }
   ],
   "source": [
    "cube.schema"
   ]
  },
  {
   "cell_type": "markdown",
   "metadata": {},
   "source": [
    "Having the cube created I can view the measures and dimensions and create quick in-line data visualizations using the following command:"
   ]
  },
  {
   "cell_type": "code",
   "execution_count": 7,
   "metadata": {
    "atoti": {
     "state": {
      "name": "",
      "type": "container",
      "value": {
       "body": {
        "configuration": {
         "tabular": {
          "addButtonFilter": "numeric",
          "cellRenderers": [
           "tree-layout"
          ],
          "columnsGroups": [
           {
            "captionProducer": "firstColumn",
            "cellFactory": "kpi-status",
            "selector": "kpi-status"
           },
           {
            "captionProducer": "firstColumn",
            "cellFactory": "lookup",
            "selector": "lookup"
           },
           {
            "captionProducer": "expiry",
            "cellFactory": "expiry",
            "selector": "kpi-expiry"
           },
           {
            "captionProducer": "columnMerge",
            "cellFactory": {
             "args": {},
             "key": "treeCells"
            },
            "selector": "member"
           }
          ],
          "defaultOptions": {},
          "expansion": {
           "automaticExpansion": true
          },
          "hideAddButton": true,
          "pinnedHeaderSelector": "member",
          "sortingMode": "non-breaking",
          "statisticsShown": true
         }
        },
        "mdx": "SELECT FROM [main_cube] CELL PROPERTIES VALUE, FORMATTED_VALUE, BACK_COLOR, FORE_COLOR, FONT_FLAGS",
        "ranges": {
         "column": {
          "chunkSize": 50,
          "thresholdPercentage": 0.2
         },
         "row": {
          "chunkSize": 2000,
          "thresholdPercentage": 0.1
         }
        }
       },
       "containerKey": "pivot-table",
       "showTitleBar": false
      }
     }
    }
   },
   "outputs": [
    {
     "data": {
      "application/vnd.atoti.v0+json": {
       "cube": "main_cube",
       "name": null,
       "session": "Unnamed"
      },
      "text/plain": [
       "Install and enable the atoti JupyterLab extension to see this widget."
      ]
     },
     "metadata": {},
     "output_type": "display_data"
    }
   ],
   "source": [
    "cube.visualize()"
   ]
  },
  {
   "cell_type": "markdown",
   "metadata": {},
   "source": [
    "But we haven't defined any measures, hence there's not much to analyze yet."
   ]
  },
  {
   "cell_type": "markdown",
   "metadata": {},
   "source": [
    "## Aggregation functions for the input data\n",
    "\n",
    "I can start creating first metrics and refining the cube analytics, by accessing the cube's levels, measures and hierarchies:"
   ]
  },
  {
   "cell_type": "code",
   "execution_count": 7,
   "metadata": {},
   "outputs": [],
   "source": [
    "lvl = cube.levels\n",
    "m = cube.measures\n",
    "h = cube.hierarchies"
   ]
  },
  {
   "cell_type": "markdown",
   "metadata": {},
   "source": [
    "Now, let's create aggregation functions to visualize the input data: for additive metrics like \"Notional\" I'm using atoti's `sum` and for measures that are not additive, I'm using `single_value`:"
   ]
  },
  {
   "cell_type": "code",
   "execution_count": 8,
   "metadata": {},
   "outputs": [],
   "source": [
    "# Trades metrics:\n",
    "m[\"Notional\"] = tt.agg.sum(trades_store[\"Notional\"])\n",
    "m[\"MarketValue\"] = tt.agg.sum(trades_store[\"MarketValue\"])\n",
    "m[\"Attachment\"] = tt.agg.single_value(trades_store[\"Attachment\"])\n",
    "m[\"Detachment\"] = tt.agg.single_value(trades_store[\"Detachment\"])\n",
    "m[\"Underlying Price\"] = tt.agg.single_value(trades_store[\"Underlying Price\"])\n",
    "m[\"Strike Price\"] = tt.agg.single_value(trades_store[\"Strike Price\"])\n",
    "\n",
    "# Netting sets metrics\n",
    "m[\"Collateral.VALUE\"] = tt.agg.single_value(nettingSets_store[\"Collateral\"])\n",
    "m[\"MPOR.VALUE\"] = tt.agg.single_value(nettingSets_store[\"MPOR\"])\n",
    "m[\"MTA.VALUE\"] = tt.agg.single_value(nettingSets_store[\"MTA\"])\n",
    "m[\"NICA.VALUE\"] = tt.agg.single_value(nettingSets_store[\"NICA\"])\n",
    "m[\"TH.VALUE\"] = tt.agg.single_value(nettingSets_store[\"TH\"])\n",
    "\n",
    "# Supervisory parameters\n",
    "m[\"SupervisoryFactor\"] = tt.agg.single_value(\n",
    "    supervisoryParameters_store[\"SupervisoryFactor\"]\n",
    ")\n",
    "m[\"Correlation\"] = tt.agg.single_value(supervisoryParameters_store[\"Correlation\"])\n",
    "m[\"Supervisory_Option_Volatility\"] = tt.agg.single_value(\n",
    "    supervisoryParameters_store[\"SupervisoryOptionVolatility\"]\n",
    ")\n",
    "\n",
    "# Formatting and putting into folders\n",
    "m[\"Supervisory_Option_Volatility\"].folder = \"Trade effective folder\"\n",
    "m[\"SupervisoryFactor\"].formatter = \"DOUBLE[#,###.0000]\"\n",
    "m[\"SupervisoryFactor\"].folder = \"Technical\"\n",
    "m[\"Correlation\"].folder = \"Technical\""
   ]
  },
  {
   "cell_type": "code",
   "execution_count": 10,
   "metadata": {
    "atoti": {
     "state": {
      "name": "",
      "type": "container",
      "value": {
       "body": {
        "configuration": {
         "tabular": {
          "addButtonFilter": "numeric",
          "cellRenderers": [
           "tree-layout"
          ],
          "columns": [],
          "columnsGroups": [
           {
            "captionProducer": "firstColumn",
            "cellFactory": "kpi-status",
            "selector": "kpi-status"
           },
           {
            "captionProducer": "firstColumn",
            "cellFactory": "lookup",
            "selector": "lookup"
           },
           {
            "captionProducer": "expiry",
            "cellFactory": "expiry",
            "selector": "kpi-expiry"
           },
           {
            "captionProducer": "columnMerge",
            "cellFactory": {
             "args": {},
             "key": "treeCells"
            },
            "selector": "member"
           }
          ],
          "defaultOptions": {},
          "expansion": {
           "automaticExpansion": true
          },
          "hideAddButton": true,
          "pinnedHeaderSelector": "member",
          "sortingMode": "non-breaking",
          "statisticsShown": true
         }
        },
        "contextValues": {},
        "mdx": "SELECT NON EMPTY {[Measures].[Notional], [Measures].[MarketValue]} ON COLUMNS, NON EMPTY Hierarchize(Union(Crossjoin(DrilldownLevel([Hierarchies].[DeskName].[ALL].[AllMember]), [Hierarchies].[BookId].DefaultMember), Crossjoin([Hierarchies].[DeskName].[ALL].[AllMember].[desk n°1], [Hierarchies].[BookId].[BookId].Members))) ON ROWS FROM [main_cube] CELL PROPERTIES VALUE, FORMATTED_VALUE, BACK_COLOR, FORE_COLOR, FONT_FLAGS",
        "ranges": {
         "column": {
          "chunkSize": 50,
          "thresholdPercentage": 0.2
         },
         "row": {
          "chunkSize": 2000,
          "thresholdPercentage": 0.1
         }
        },
        "serverUrl": "",
        "updateMode": "once"
       },
       "containerKey": "pivot-table",
       "showTitleBar": false,
       "style": {}
      }
     }
    }
   },
   "outputs": [
    {
     "data": {
      "application/vnd.atoti.v0+json": {
       "cube": "main_cube",
       "name": null,
       "session": "Unnamed"
      },
      "text/plain": [
       "Install and enable the atoti JupyterLab extension to see this widget."
      ]
     },
     "metadata": {},
     "output_type": "display_data"
    }
   ],
   "source": [
    "cube.visualize()"
   ]
  },
  {
   "cell_type": "markdown",
   "metadata": {},
   "source": [
    "## Grouping attributes into folders\n",
    "\n",
    "I'm grouping the attributes into logical 'folders' so that it's easier to find them in the app:"
   ]
  },
  {
   "cell_type": "code",
   "execution_count": 11,
   "metadata": {},
   "outputs": [],
   "source": [
    "h[\"AsOfDate\"].dimension = \"AsOfDate\"\n",
    "\n",
    "h[\"AssetClass\"].dimension = \"AssetClass\"\n",
    "h[\"SubClass\"].dimension = \"AssetClass\"\n",
    "\n",
    "h[\"CounterpartyName\"].dimension = \"Counterparties\"\n",
    "h[\"Rating\"].dimension = \"Counterparties\"\n",
    "h[\"Sector\"].dimension = \"Counterparties\"\n",
    "\n",
    "h[\"CountryOfRisk\"].dimension = \"Countries\"\n",
    "h[\"CountryOfAddress\"].dimension = \"Countries\"\n",
    "\n",
    "h[\"Direction\"].dimension = \"Direction\"\n",
    "\n",
    "h[\"Hedge_Set\"].dimension = \"Hedge_Set\"\n",
    "\n",
    "h[\"Instrument\"].dimension = \"Instrument\"\n",
    "\n",
    "h[\"MaturityBuckets\"].dimension = \"MaturityBuckets\"\n",
    "\n",
    "h[\"NettingName\"].dimension = \"NettingSets\"\n",
    "h[\"NettingType\"].dimension = \"NettingSets\"\n",
    "h[\"NettingSetId\"].dimension = \"NettingSets\"\n",
    "\n",
    "h[\"OptionType\"].dimension = \"OptionType\"\n",
    "\n",
    "h[\"ProductId\"].dimension = \"ProductId\"\n",
    "\n",
    "h[\"RiskClass\"].dimension = \"RiskClass\"\n",
    "\n",
    "h[\"TradeId\"].dimension = \"TradeId\"\n",
    "\n",
    "h[\"Ei\"].dimension = \"TradeAttributes\"\n",
    "h[\"Mi\"].dimension = \"TradeAttributes\"\n",
    "h[\"Si\"].dimension = \"TradeAttributes\"\n",
    "h[\"Ti\"].dimension = \"TradeAttributes\"\n",
    "\n",
    "h[\"InputCurrency\"].dimension = \"TradeInputCurrency\"\n",
    "\n",
    "h[\"Underlying\"].dimension = \"Underlyings\"\n",
    "h[\"UnderlyingType\"].dimension = \"Underlyings\"\n",
    "\n",
    "# Setting up a hierarchy as slicing will prevent aggregations across dates:\n",
    "h[\"AsOfDate\"].slicing = True\n",
    "# Comparator will sort the dates:\n",
    "lvl[\"AsOfDate\"].comparator = tt.comparator.DESC"
   ]
  },
  {
   "cell_type": "code",
   "execution_count": 13,
   "metadata": {
    "atoti": {
     "state": {
      "name": "",
      "type": "container",
      "value": {
       "body": {
        "configuration": {
         "tabular": {
          "addButtonFilter": "numeric",
          "cellRenderers": [
           "tree-layout"
          ],
          "columnsGroups": [
           {
            "captionProducer": "firstColumn",
            "cellFactory": "kpi-status",
            "selector": "kpi-status"
           },
           {
            "captionProducer": "firstColumn",
            "cellFactory": "lookup",
            "selector": "lookup"
           },
           {
            "captionProducer": "expiry",
            "cellFactory": "expiry",
            "selector": "kpi-expiry"
           },
           {
            "captionProducer": "columnMerge",
            "cellFactory": {
             "args": {},
             "key": "treeCells"
            },
            "selector": "member"
           }
          ],
          "defaultOptions": {},
          "expansion": {
           "automaticExpansion": true
          },
          "hideAddButton": true,
          "pinnedHeaderSelector": "member",
          "sortingMode": "non-breaking",
          "statisticsShown": true
         }
        },
        "mdx": "SELECT FROM [main_cube] CELL PROPERTIES VALUE, FORMATTED_VALUE, BACK_COLOR, FORE_COLOR, FONT_FLAGS",
        "ranges": {
         "column": {
          "chunkSize": 50,
          "thresholdPercentage": 0.2
         },
         "row": {
          "chunkSize": 2000,
          "thresholdPercentage": 0.1
         }
        }
       },
       "containerKey": "pivot-table",
       "showTitleBar": false
      }
     }
    }
   },
   "outputs": [
    {
     "data": {
      "application/vnd.atoti.v0+json": {
       "cube": "main_cube",
       "name": null,
       "session": "Unnamed"
      },
      "text/plain": [
       "Install and enable the atoti JupyterLab extension to see this widget."
      ]
     },
     "metadata": {},
     "output_type": "display_data"
    }
   ],
   "source": [
    "cube.visualize()"
   ]
  },
  {
   "cell_type": "markdown",
   "metadata": {},
   "source": [
    "# SA-CCR calculations\n",
    "\n",
    "In this section we will create aggregation functions (measures) to compute EAD from the input data described above.\n",
    "\n",
    "We will proceed bottom-up  - starting with the supervisory duration metric, then move onto the trade-level adjusted notional, maturity factors, delta adjustments, addons and the necessary EAD components. \n",
    "\n",
    "We will keep referring to the correponding paragraphs of the [CRE52](https://www.bis.org/basel_framework/chapter/CRE/52.htm?inforce=20191215) as we progress."
   ]
  },
  {
   "cell_type": "markdown",
   "metadata": {},
   "source": [
    "## Supervisory duration - [52.34]"
   ]
  },
  {
   "cell_type": "markdown",
   "metadata": {},
   "source": [
    "In this section we will compute Supervisory Duration per formula defined in CRE52 para [52.34]:\n",
    "\n",
    "$$SupervisoryDuration = \\frac{(exp(-0.05*S_i) - exp(-0.05*E_i))}{0.05}$$ for Credits and Interest Rates and 1 for other Asset Classes. \n",
    "\n",
    "In this expression, $S_i$ is based on the start date of trade $i$ and $E_i$ the end date of trade $i$."
   ]
  },
  {
   "cell_type": "code",
   "execution_count": 14,
   "metadata": {},
   "outputs": [],
   "source": [
    "number_of_days_in_year = 365.25"
   ]
  },
  {
   "cell_type": "code",
   "execution_count": 15,
   "metadata": {},
   "outputs": [],
   "source": [
    "# Computing Si and Ei based on the time periods input data and the current date,\n",
    "# for Interest Rate and Credit Risk classes:\n",
    "m[\"s_i_diff\"] = tt.filter(\n",
    "    tt.date_diff(lvl[\"AsOfDate\"], lvl[\"Si\"], unit=\"days\") / number_of_days_in_year,\n",
    "    lvl[\"RiskClass\"].isin(\"Interest Rate\", \"Credit\"),\n",
    ")\n",
    "m[\"e_i_diff\"] = tt.filter(\n",
    "    tt.date_diff(lvl[\"AsOfDate\"], lvl[\"Ei\"], unit=\"days\") / number_of_days_in_year,\n",
    "    lvl[\"RiskClass\"].isin(\"Interest Rate\", \"Credit\"),\n",
    ")\n",
    "\n",
    "# Placing the metrics into the right folder:\n",
    "m[\"s_i_diff\"].folder = \"Trade Effective\\\\Detail\"\n",
    "m[\"e_i_diff\"].folder = \"Trade Effective\\\\Detail\"\n",
    "\n",
    "# The following code will create a measure allowing us to visualize the supervisory duration\n",
    "m[\"Supervisory_Duration\"] = tt.where(\n",
    "    lvl[\"RiskClass\"].isin(\"Interest Rate\", \"Credit\"),\n",
    "    (tt.exp(-0.05 * m[\"s_i_diff\"]) - tt.exp(-0.05 * m[\"e_i_diff\"])) / 0.05,\n",
    "    1.0,\n",
    ")\n",
    "m[\"Supervisory_Duration\"].folder = \"Trade Effective\""
   ]
  },
  {
   "cell_type": "code",
   "execution_count": 17,
   "metadata": {
    "atoti": {
     "state": {
      "name": "",
      "type": "container",
      "value": {
       "body": {
        "configuration": {
         "tabular": {
          "addButtonFilter": "numeric",
          "columns": [
           {
            "key": "([AsOfDate].[AsOfDate].[AsOfDate].[2020-01-17],[Measures].[Supervisory_Duration])",
            "width": 164
           },
           {
            "key": "([AsOfDate].[AsOfDate].[AsOfDate].[2020-01-17],[Measures].[SDCSN])",
            "width": 80
           },
           {
            "key": "([AsOfDate].[AsOfDate].[AsOfDate].[2020-01-17],[Measures].[SDCI])",
            "width": 80
           },
           {
            "key": "([AsOfDate].[AsOfDate].[AsOfDate].[2020-01-17],[Measures].[SDIR])",
            "width": 80
           },
           {
            "key": "([AsOfDate].[AsOfDate].[AsOfDate].[2020-01-17],[Measures].[e_i])",
            "width": 80
           },
           {
            "key": "([AsOfDate].[AsOfDate].[AsOfDate].[2020-01-17],[Measures].[s_i_diff])",
            "width": 80
           }
          ],
          "columnsGroups": [
           {
            "captionProducer": "firstColumn",
            "cellFactory": "kpi-status",
            "selector": "kpi-status"
           },
           {
            "captionProducer": "firstColumn",
            "cellFactory": "lookup",
            "selector": "lookup"
           },
           {
            "captionProducer": "expiry",
            "cellFactory": "expiry",
            "selector": "kpi-expiry"
           },
           {
            "captionProducer": "columnMerge",
            "cellFactory": {
             "args": {
              "automaticExpansion": true
             },
             "key": "treeCells"
            },
            "selector": "member"
           }
          ],
          "defaultOptions": {
           "headerHeight": 30
          },
          "hideAddButton": true,
          "lineNumbers": true,
          "pinnedHeaderSelector": "member",
          "sortingMode": "non-breaking",
          "statisticsShown": true
         }
        },
        "contextValues": {},
        "mdx": "SELECT NON EMPTY Crossjoin(Hierarchize([AsOfDate].[AsOfDate].[AsOfDate].Members), {[Measures].[s_i_diff], [Measures].[e_i_diff], [Measures].[Supervisory_Duration]}) ON COLUMNS, NON EMPTY Crossjoin(Hierarchize(DrilldownLevel([RiskClass].[RiskClass].[ALL].[AllMember])), Hierarchize(DrilldownLevel([TradeAttributes].[Si].[ALL].[AllMember])), Hierarchize(DrilldownLevel([TradeAttributes].[Ei].[ALL].[AllMember]))) ON ROWS FROM [main_cube] CELL PROPERTIES VALUE, FORMATTED_VALUE, BACK_COLOR, FORE_COLOR, FONT_FLAGS",
        "ranges": {
         "column": {
          "chunkSize": 50,
          "thresholdPercentage": 0.2
         },
         "row": {
          "chunkSize": 2000,
          "thresholdPercentage": 0.1
         }
        },
        "serverUrl": "",
        "updateMode": "once"
       },
       "containerKey": "pivot-table",
       "showTitleBar": false,
       "style": {}
      }
     }
    }
   },
   "outputs": [
    {
     "data": {
      "application/vnd.atoti.v0+json": {
       "cube": "main_cube",
       "name": null,
       "session": "Unnamed"
      },
      "text/plain": [
       "Install and enable the atoti JupyterLab extension to see this widget."
      ]
     },
     "metadata": {},
     "output_type": "display_data"
    }
   ],
   "source": [
    "# cube.pivot(measures=[s_i_diff, e_i_diff, SDIR, SDCI, SDCSN, Supervisory_Duration], rows=[\"AssetClass\", \"Si\", \"Ei\"], columns=\"AsOfDate\")\n",
    "cube.visualize()"
   ]
  },
  {
   "cell_type": "markdown",
   "metadata": {},
   "source": [
    "## Trade-level adjusted notional (for trade i): di - [52.34]\n",
    "\n",
    "In this step we compute the Adjusted notional. Please review the paragraphs of the CRE52 [52.33] - [52.34] for more information on the defintinions of these formula.\n",
    "\n",
    "$$AdjustedNotional = Notional * SupervisoryDuration$$"
   ]
  },
  {
   "cell_type": "code",
   "execution_count": 18,
   "metadata": {},
   "outputs": [],
   "source": [
    "# The generic formula for the Adjusted Notional\n",
    "# We will later apply it on trade level:\n",
    "m[\"Adjusted_Notional\"] = tt.agg.sum(\n",
    "    m[\"Notional\"] * m[\"Supervisory_Duration\"], scope=tt.scope.origin(lvl[\"AssetClass\"])\n",
    ")\n",
    "m[\"Adjusted_Notional\"].folder = \"Trade Effective\""
   ]
  },
  {
   "cell_type": "markdown",
   "metadata": {},
   "source": [
    "## Maturity factors - [52.48] - [52.53]\n",
    "\n",
    "The Maturity Factor takes different values, depending on wether the trade is margined or unmargined:\n",
    "\n",
    "margined :\n",
    "\n",
    "$$MF = 1.5 * \\sqrt{\\frac{MPOR}{1 year}}$$\n",
    "\n",
    "unmargined :\n",
    "\n",
    "$$MF = \\sqrt{\\frac{min(M_i, 1year)}{1year}}$$\n",
    "\n",
    "The $MPOR$ is the Margin Period Of Risk, provided in the input dataset. $M_i$ is the maturity of trade $i$"
   ]
  },
  {
   "cell_type": "code",
   "execution_count": 19,
   "metadata": {},
   "outputs": [],
   "source": [
    "# THis measure will compute date difference depending on the value date and the maturity date:\n",
    "m[\"m_i_diff\"] = tt.date_diff(lvl[\"AsOfDate\"], lvl[\"Mi\"], unit=\"days\")\n",
    "m[\"m_i_diff\"].folder = \"Trade Effective\\\\Detail\"\n",
    "\n",
    "# This measure will compute maturity factor, depending on wether the trade is margined or unmargined:\n",
    "m[\"Maturity_Factor\"] = tt.where(\n",
    "    lvl[\"NettingType\"] == \"margined\",\n",
    "    1.5 * tt.sqrt(m[\"MPOR.VALUE\"] / number_of_days_in_year),\n",
    "    tt.sqrt(min(m[\"m_i_diff\"], number_of_days_in_year) / number_of_days_in_year),\n",
    ")\n",
    "m[\"Maturity_Factor\"].folder = \"Trade Effective\""
   ]
  },
  {
   "cell_type": "markdown",
   "metadata": {},
   "source": [
    "## Supervisory delta adjustments - [52.38] - [52.41]\n",
    "\n",
    "Supervisory Delta takes different values depending on the nature of the instrument: \n",
    "\n",
    "| $\\delta_i$        | Bought / Long in the primary risk factor                                          | Sold / Short in the primary risk factor                                            |\n",
    "|-------------------|-----------------------------------------------------------------------------------|----------------------------------------------------------------------------------  |\n",
    "| Call Options      | $+ \\Phi(\\frac{ln(P_i / K_i) + 0.5 * \\sigma_i^2 * T_i}{\\sigma_i * \\sqrt{T_i}})$    | $ - \\Phi(\\frac{ln(P_i / K_i) + 0.5 * \\sigma_i^2 * T_i}{\\sigma_i * \\sqrt{T_i}})$    |\n",
    "| Put Options       | $- \\Phi( - \\frac{ln(P_i / K_i) + 0.5 * \\sigma_i^2 * T_i}{\\sigma_i * \\sqrt{T_i}})$ | $ + \\Phi( - \\frac{ln(P_i / K_i) + 0.5 * \\sigma_i^2 * T_i}{\\sigma_i * \\sqrt{T_i}})$ |\n",
    "| CDO tranches      | $+ \\frac{15}{(1+14*A_i)*(1+14*D_i)}$                                              | $- \\frac{15}{(1+14*A_i)*(1+14*D_i)}$                                               |\n",
    "| Other Instruments | $+1$                                                                              | $-1$                                                                               |\n",
    "\n",
    "Where $\\Phi$ is the Normal distribution function,\n",
    "\n",
    "$P_i$ is the Underlying Price of trade $i$,\n",
    "\n",
    "$K_i$ is the Strike Price of trade $i$,\n",
    "\n",
    "$\\sigma_i$ is the Supervisory Volatility of trade $i$,\n",
    "\n",
    "$T_i$ is the latest contractual exercise date of the option $i$\n",
    "\n",
    "$A_i$ is the Attachment value of the CDO tranche $i$\n",
    "\n",
    "and $D_i$ is the Detachment value of the CDO tranche $i$"
   ]
  },
  {
   "cell_type": "code",
   "execution_count": 20,
   "metadata": {},
   "outputs": [],
   "source": [
    "from math import pi\n",
    "\n",
    "# Creating a measure to serve as an indicator:\n",
    "m[\"one\"] = 1.0\n",
    "m[\"one\"].visible = False\n",
    "\n",
    "# Computing time period until Ti:\n",
    "m[\"t_i_diff\"] = (\n",
    "    tt.date_diff(lvl[\"AsOfDate\"], lvl[\"Ti\"], unit=\"days\") / number_of_days_in_year\n",
    ")\n",
    "m[\"t_i_diff\"].folder = \"Trade Effective\\\\Detail\"\n",
    "\n",
    "# This measure will set an indicator for the \"Other instruments\" case:\n",
    "S_delta_else_long = tt.filter(\n",
    "    m[\"one\"],\n",
    "    (lvl[\"Direction\"] == \"Long\")\n",
    "    & (lvl[\"Instrument\"] != \"option\")\n",
    "    & (lvl[\"Instrument\"] != \"CDO\"),\n",
    ")\n",
    "S_delta_else_short = tt.filter(\n",
    "    (-1.0) * m[\"one\"],\n",
    "    (lvl[\"Direction\"] == \"Short\")\n",
    "    & (lvl[\"Instrument\"] != \"option\")\n",
    "    & (lvl[\"Instrument\"] != \"CDO\"),\n",
    ")\n",
    "\n",
    "def phi(x):\n",
    "    \"\"\" Normal distribution function \"\"\"\n",
    "    return (1.0 + tt.math.erf(x / tt.sqrt(2))) / 2.0\n",
    "\n",
    "\n",
    "put = tt.where(lvl[\"OptionType\"] == \"P\", -1.0, 1.0)\n",
    "\n",
    "bought = tt.where(m[\"MarketValue\"] > 0, 1.0, -1.0)\n",
    "\n",
    "m[\"lnPK\"] = tt.log(m[\"Underlying Price\"] / m[\"Strike Price\"])\n",
    "m[\"lnPK\"].folder = \"Trade Effective\\\\Detail\"\n",
    "m[\"sigma_sqrtTi\"] = m[\"Supervisory_Option_Volatility\"] * tt.sqrt(m[\"t_i_diff\"])\n",
    "m[\"sigma_sqrtTi\"].folder = \"Trade Effective\\\\Detail\"\n",
    "m[\"argument_phi\"] = (m[\"lnPK\"] + 0.5 * (m[\"sigma_sqrtTi\"] ** 2)) / m[\"sigma_sqrtTi\"]\n",
    "m[\"argument_phi\"].folder = \"Trade Effective\\\\Detail\"\n",
    "\n",
    "S_delta_option = tt.filter(\n",
    "    bought * put * phi(put * m[\"argument_phi\"]), lvl[\"Instrument\"] == \"option\"\n",
    ")\n",
    "\n",
    "S_delta_CDO = tt.filter(\n",
    "    bought * 15.0 / ((1.0 + 14.0 * m[\"Attachment\"]) * (1.0 + 14.0 * m[\"Detachment\"])),\n",
    "    lvl[\"Instrument\"] == \"CDO\"\n",
    ")\n",
    "\n",
    "m[\"S_delta\"] = S_delta_option + S_delta_else_long + S_delta_else_short + S_delta_CDO\n",
    "m[\"S_delta\"].folder = 'Trade Effective\\\\Detail'"
   ]
  },
  {
   "cell_type": "markdown",
   "metadata": {},
   "source": [
    "## Trade Effective Notional - [52.30]\n",
    "\n",
    "Bringing the trade effective notional components together and calculating on trade level:"
   ]
  },
  {
   "cell_type": "code",
   "execution_count": 21,
   "metadata": {},
   "outputs": [],
   "source": [
    "m[\"Trade_Effective_Notional\"] = tt.agg.sum(\n",
    "    m[\"Adjusted_Notional\"] * m[\"S_delta\"] * m[\"Maturity_Factor\"],\n",
    "    scope=tt.scope.origin(lvl[\"TradeId\"]),\n",
    ")"
   ]
  },
  {
   "cell_type": "code",
   "execution_count": 23,
   "metadata": {
    "atoti": {
     "height": 671,
     "state": {
      "name": "",
      "type": "container",
      "value": {
       "body": {
        "configuration": {
         "tabular": {
          "addButtonFilter": "numeric",
          "autoResizeHeight": true,
          "columns": [],
          "columnsGroups": [
           {
            "captionProducer": "firstColumn",
            "cellFactory": "kpi-status",
            "selector": "kpi-status"
           },
           {
            "captionProducer": "firstColumn",
            "cellFactory": "lookup",
            "selector": "lookup"
           },
           {
            "captionProducer": "expiry",
            "cellFactory": "expiry",
            "selector": "kpi-expiry"
           },
           {
            "captionProducer": "columnMerge",
            "cellFactory": {
             "args": {
              "automaticExpansion": true
             },
             "key": "treeCells"
            },
            "selector": "member"
           }
          ],
          "defaultOptions": {
           "headerHeight": 74
          },
          "hideAddButton": true,
          "lineNumbers": true,
          "pinnedHeaderSelector": "member",
          "sortingMode": "non-breaking",
          "statisticsShown": true
         }
        },
        "contextValues": {},
        "mdx": "SELECT NON EMPTY {[Measures].[Adjusted_Notional], [Measures].[Maturity_Factor], [Measures].[S_delta], [Measures].[Trade_Effective_Notional]} ON COLUMNS, NON EMPTY Hierarchize(Union(Crossjoin(Hierarchize(DrilldownLevel([AssetClass].[AssetClass].[ALL].[AllMember])), Hierarchize(DrilldownLevel([OptionType].[OptionType].[ALL].[AllMember])), [NettingSets].[NettingType].DefaultMember, Hierarchize(DrilldownLevel([TradeAttributes].[Ti].[ALL].[AllMember])), Hierarchize(DrilldownLevel([TradeId].[TradeId].[ALL].[AllMember]))), Crossjoin([AssetClass].[AssetClass].[ALL].[AllMember].[Interest Rate], [OptionType].[OptionType].[ALL].[AllMember].[C], [NettingSets].[NettingType].DefaultMember, Hierarchize(DrilldownLevel([TradeAttributes].[Ti].[ALL].[AllMember])), Hierarchize(DrilldownLevel([TradeId].[TradeId].[ALL].[AllMember]))), Crossjoin([AssetClass].[AssetClass].[ALL].[AllMember].[Interest Rate], [OptionType].[OptionType].[ALL].[AllMember].[C], [NettingSets].[NettingType].[NettingType].Members, Hierarchize(DrilldownLevel([TradeAttributes].[Ti].[ALL].[AllMember])), Hierarchize(DrilldownLevel([TradeId].[TradeId].[ALL].[AllMember]))), Crossjoin([AssetClass].[AssetClass].[ALL].[AllMember].[Interest Rate], [OptionType].[OptionType].[ALL].[AllMember].[P], Descendants({[NettingSets].[NettingType].[ALL].[AllMember]}, [NettingSets].[NettingType].[NettingType]), Hierarchize(DrilldownLevel([TradeAttributes].[Ti].[ALL].[AllMember])), Hierarchize(DrilldownLevel([TradeId].[TradeId].[ALL].[AllMember]))))) ON ROWS FROM (SELECT Except([TradeAttributes].[Ti].[Ti].Members, {[TradeAttributes].[Ti].[ALL].[AllMember].[N/A]}) ON COLUMNS FROM [main_cube]) CELL PROPERTIES VALUE, FORMATTED_VALUE, BACK_COLOR, FORE_COLOR, FONT_FLAGS",
        "ranges": {
         "column": {
          "chunkSize": 50,
          "thresholdPercentage": 0.2
         },
         "row": {
          "chunkSize": 2000,
          "thresholdPercentage": 0.1
         }
        },
        "serverUrl": "",
        "updateMode": "once"
       },
       "containerKey": "pivot-table",
       "showTitleBar": false,
       "style": {}
      }
     }
    }
   },
   "outputs": [
    {
     "data": {
      "application/vnd.atoti.v0+json": {
       "cube": "main_cube",
       "name": null,
       "session": "Unnamed"
      },
      "text/plain": [
       "Install and enable the atoti JupyterLab extension to see this widget."
      ]
     },
     "metadata": {},
     "output_type": "display_data"
    }
   ],
   "source": [
    "cube.visualize()"
   ]
  },
  {
   "cell_type": "markdown",
   "metadata": {},
   "source": [
    "## Asset class level add-ons - [52.55]\n",
    "\n",
    "We now start to compute the asset class addon, as the sum of the add-ons calculated for each asset class within the netting set."
   ]
  },
  {
   "cell_type": "markdown",
   "metadata": {},
   "source": [
    "## Add-on for interest rate derivatives - [52.56]\n",
    "\n",
    "The steps for computing $Addon^{IR}$ are set in [52.57].\n",
    "\n",
    "- For Interest Rates, each hedging set is defined as currency. \n",
    "- Each hedge set is then separated in maturity buckets depending on $M_i$. If $M_i$ is less than one year, the trade goes in the first Maturity Bucket, if it is between one and five years, the trade goes in the second Maturity Bucket, and if it is more than 5 years the trade goes in the third Maturity Bucket.\n",
    "- In each Maturity Bucket $k$ of Hedge Set $j$, the effective notional $EN_{j,k}$ is the sum of the Trade Effective Notionals of the trades. \n",
    "\n",
    "The effective notional $EN_{HS}$ of the Hedge Set $HS$ is then determined with the following formula :\n",
    "\n",
    "$$EN_{HS} = ( D_{B1}^2 + D_{B2}^2 + D_{B3}^2 + 1.4 * D_{B1} * D_{B2} + 1.4 * D_{B2} * D_{B3} + 0.6 * D_{B1} * D_{B3} )^{\\frac{1}{2}}$$\n"
   ]
  },
  {
   "cell_type": "code",
   "execution_count": 24,
   "metadata": {},
   "outputs": [],
   "source": [
    "# Step 1 Filtering the trade effective notionals of the Interest rate risk class only:\n",
    "m[\"Effective_notional_IR_j_k\"] = tt.filter(\n",
    "    m[\"Trade_Effective_Notional\"], lvl[\"AssetClass\"] == \"Interest Rate\"\n",
    ")\n",
    "# Putting into the right folder and applying formatting:\n",
    "m[\"Effective_notional_IR_j_k\"].folder = \"Add-On\\\\Interest Rate\\\\Detail\"\n",
    "m[\"Effective_notional_IR_j_k\"].formatter = \"DOUBLE[#,###]\""
   ]
  },
  {
   "cell_type": "code",
   "execution_count": 25,
   "metadata": {},
   "outputs": [],
   "source": [
    "# Step 2 Allocating trades into Hedging Sets - provided in the input data\n",
    "# Step 3 Allocating trades into Maturity Buckets - provided in the input data"
   ]
  },
  {
   "cell_type": "code",
   "execution_count": 26,
   "metadata": {},
   "outputs": [],
   "source": [
    "# Step 4 Adding together effective notionals by Hedging Set and Maturity Bucket - see \"scope parameter\n",
    "# Step 5 Calculating effecting notional of the hedging set - denoted as \"Effective_notional_IR_j\" below:\n",
    "\n",
    "# This measure will compute sum of squares for each given scope:\n",
    "m[\"squared_Djk\"] = tt.agg.square_sum(\n",
    "    m[\"Effective_notional_IR_j_k\"],\n",
    "    scope=tt.scope.origin(lvl[\"Hedge_Set\"], lvl[\"MaturityBuckets\"]),\n",
    ")\n",
    "# Putting into the right folder:\n",
    "m[\"squared_Djk\"].folder = \"Add-On\\\\Interest Rate\\\\Detail\"\n",
    "\n",
    "effective_notional_per_hedging_set = tt.agg.sum(\n",
    "    m[\"Effective_notional_IR_j_k\"], scope=tt.scope.origin(lvl[\"Hedge_Set\"])\n",
    ")\n",
    "\n",
    "# Filtering for the effective notional buckets D_B1, D_B2, D_b3 - see [52.57]\n",
    "effective_notional_per_hedge_set_mb1 = tt.filter(\n",
    "    effective_notional_per_hedging_set, lvl[\"MaturityBuckets\"] == 1\n",
    ")\n",
    "effective_notional_per_hedge_set_mb2 = tt.filter(\n",
    "    effective_notional_per_hedging_set, lvl[\"MaturityBuckets\"] == 2\n",
    ")\n",
    "effective_notional_per_hedge_set_mb3 = tt.filter(\n",
    "    effective_notional_per_hedging_set, lvl[\"MaturityBuckets\"] == 3\n",
    ")\n",
    "\n",
    "m[\"Effective_notional_IR_j\"] = tt.sqrt(\n",
    "    m[\"squared_Djk\"]\n",
    "    + 1.4 * effective_notional_per_hedge_set_mb1 * effective_notional_per_hedge_set_mb2\n",
    "    + 1.4 * effective_notional_per_hedge_set_mb2 * effective_notional_per_hedge_set_mb3\n",
    "    + 0.6 * effective_notional_per_hedge_set_mb1 * effective_notional_per_hedge_set_mb3\n",
    ")\n",
    "\n",
    "# Putting into the right folder and applying formatting\n",
    "m[\"Effective_notional_IR_j\"].folder = \"Add-On\\\\Interest Rate\\\\Detail\"\n",
    "m[\"Effective_notional_IR_j\"].formatter = \"DOUBLE[#,###]\""
   ]
  },
  {
   "cell_type": "markdown",
   "metadata": {},
   "source": [
    "The Add-On for each hedge set is then simply : \n",
    "\n",
    "$$AddOn_{j}^{(IR)} = SF^{(IR)} * EN_j $$"
   ]
  },
  {
   "cell_type": "code",
   "execution_count": 27,
   "metadata": {},
   "outputs": [],
   "source": [
    "# Step 6\n",
    "# Generic measure computing the product\n",
    "m[\"AddOn_IR_j\"] = m[\"SupervisoryFactor\"] * m[\"Effective_notional_IR_j\"]\n",
    "m[\"AddOn_IR_j\"].folder = \"Add-On\\\\Interest Rate\\\\Detail\"\n",
    "m[\"AddOn_IR_j\"].formatter = \"DOUBLE[#,###]\"\n",
    "\n",
    "# Step 7\n",
    "# Aggregating the multiplication and summing up across hedging sets:\n",
    "m[\"AddOn_IR\"] = tt.agg.sum(m[\"AddOn_IR_j\"], scope=tt.scope.origin(lvl[\"Hedge_Set\"]))\n",
    "m[\"AddOn_IR\"].folder = \"Add-On\\\\Interest Rate\"\n",
    "m[\"AddOn_IR\"].formatter = \"DOUBLE[#,###]\""
   ]
  },
  {
   "cell_type": "code",
   "execution_count": 29,
   "metadata": {
    "atoti": {
     "state": {
      "name": "",
      "type": "container",
      "value": {
       "body": {
        "configuration": {
         "tabular": {
          "addButtonFilter": "numeric",
          "autoResizeHeight": true,
          "columnsGroups": [
           {
            "captionProducer": "firstColumn",
            "cellFactory": "kpi-status",
            "selector": "kpi-status"
           },
           {
            "captionProducer": "firstColumn",
            "cellFactory": "lookup",
            "selector": "lookup"
           },
           {
            "captionProducer": "expiry",
            "cellFactory": "expiry",
            "selector": "kpi-expiry"
           },
           {
            "captionProducer": "columnMerge",
            "cellFactory": {
             "args": {
              "automaticExpansion": true
             },
             "key": "treeCells"
            },
            "selector": "member"
           }
          ],
          "defaultOptions": {
           "headerHeight": 74
          },
          "hideAddButton": true,
          "lineNumbers": true,
          "pinnedHeaderSelector": "member",
          "sortingMode": "non-breaking",
          "statisticsShown": true
         }
        },
        "contextValues": {},
        "mdx": "SELECT NON EMPTY {[Measures].[Effective_notional_IR_j_k], [Measures].[Effective_notional_IR_j], [Measures].[SupervisoryFactor], [Measures].[AddOn_IR_j], [Measures].[AddOn_IR], [Measures].[squared_Djk]} ON COLUMNS, NON EMPTY Crossjoin(Hierarchize(DrilldownLevel([Hedge_Set].[Hedge_Set].[ALL].[AllMember])), Hierarchize(DrilldownLevel([MaturityBuckets].[MaturityBuckets].[ALL].[AllMember]))) ON ROWS FROM [main_cube] WHERE [AssetClass].[AssetClass].[ALL].[AllMember].[Interest Rate] CELL PROPERTIES VALUE, FORMATTED_VALUE, BACK_COLOR, FORE_COLOR, FONT_FLAGS",
        "ranges": {
         "column": {
          "chunkSize": 50,
          "thresholdPercentage": 0.2
         },
         "row": {
          "chunkSize": 2000,
          "thresholdPercentage": 0.1
         }
        },
        "serverUrl": "",
        "updateMode": "once"
       },
       "containerKey": "pivot-table",
       "showTitleBar": false,
       "style": {}
      }
     }
    }
   },
   "outputs": [
    {
     "data": {
      "application/vnd.atoti.v0+json": {
       "cube": "main_cube",
       "name": null,
       "session": "Unnamed"
      },
      "text/plain": [
       "Install and enable the atoti JupyterLab extension to see this widget."
      ]
     },
     "metadata": {},
     "output_type": "display_data"
    }
   ],
   "source": [
    "cube.visualize()"
   ]
  },
  {
   "cell_type": "markdown",
   "metadata": {},
   "source": [
    "## Add-on for credit derivatives - [52.60] - [52.64]\n",
    "\n",
    "There is only one Hedge Set for Credit derivatives. In this Hedge Set, the trades are grouped depending on which entity issued them. The Add-On for an entity is the sum of the Trade Effective Notionals of the corresponding trades, multiplied by the Supervisory Factor. The Supervisory Factor depends on the rating of the entity. \n"
   ]
  },
  {
   "cell_type": "code",
   "execution_count": 30,
   "metadata": {},
   "outputs": [],
   "source": [
    "m[\"AddOn_CR_per_entity\"] = tt.filter(\n",
    "    m[\"SupervisoryFactor\"] * m[\"Trade_Effective_Notional\"], lvl[\"RiskClass\"] == \"Credit\"\n",
    ")\n",
    "m[\"AddOn_CR_per_entity\"].folder = \"Add-On\\\\Credit\"\n",
    "m[\"AddOn_CR_per_entity\"].formatter = \"DOUBLE[#,###]\""
   ]
  },
  {
   "cell_type": "markdown",
   "metadata": {},
   "source": [
    "After determining the AddOn per entity, we can deduce the Credit AddOn with the following formula  - see para [52.61] :\n",
    "\n",
    "$$ AddOn^{(CR)} = [(\\sum_{k} \\rho_{k}^{(CR)} *  AddOn(Entity_{k}) )^{2} + \\sum_{k} (1-(\\rho_{k}^{(CR)} )^{2}) *  (AddOn(Entity_{k}))^{2} ]^{1/2}$$\n",
    "\n",
    "where $\\rho_k^{(CR)}$ is the Correlation. It takes different values wether the trade's Asset Class is Credit Single Name or Credit Index (the two possible Asset Class for Credit derivatives)."
   ]
  },
  {
   "cell_type": "code",
   "execution_count": 31,
   "metadata": {},
   "outputs": [],
   "source": [
    "# THe first term of the above formula:\n",
    "squared_sum_CR = (\n",
    "    tt.agg.sum(\n",
    "        m[\"Correlation\"] * m[\"AddOn_CR_per_entity\"],\n",
    "        scope=tt.scope.origin(lvl[\"Underlying\"]),\n",
    "    )\n",
    "    ** 2\n",
    ")\n",
    "\n",
    "# The second term of the above formula:\n",
    "sum_of_squares_CR = tt.agg.sum(\n",
    "    (1.0 - (m[\"Correlation\"] ** 2)) * (m[\"AddOn_CR_per_entity\"] ** 2),\n",
    "    scope=tt.scope.origin(lvl[\"Underlying\"]),\n",
    ")\n",
    "\n",
    "# Addon\n",
    "m[\"AddOn_CR\"] = tt.sqrt(squared_sum_CR + sum_of_squares_CR)\n",
    "m[\"AddOn_CR\"].folder = \"Add-On\\\\Credit\"\n",
    "m[\"AddOn_CR\"].formatter = \"DOUBLE[#,###]\""
   ]
  },
  {
   "cell_type": "code",
   "execution_count": 33,
   "metadata": {
    "atoti": {
     "state": {
      "name": "",
      "type": "container",
      "value": {
       "body": {
        "configuration": {
         "tabular": {
          "addButtonFilter": "numeric",
          "columnsGroups": [
           {
            "captionProducer": "firstColumn",
            "cellFactory": "kpi-status",
            "selector": "kpi-status"
           },
           {
            "captionProducer": "firstColumn",
            "cellFactory": "lookup",
            "selector": "lookup"
           },
           {
            "captionProducer": "expiry",
            "cellFactory": "expiry",
            "selector": "kpi-expiry"
           },
           {
            "captionProducer": "columnMerge",
            "cellFactory": {
             "args": {},
             "key": "treeCells"
            },
            "selector": "member"
           }
          ],
          "defaultOptions": {},
          "expansion": {
           "automaticExpansion": true
          },
          "hideAddButton": true,
          "pinnedHeaderSelector": "member",
          "sortingMode": "non-breaking",
          "statisticsShown": true
         }
        },
        "contextValues": {},
        "mdx": "SELECT NON EMPTY Crossjoin(Hierarchize(DrilldownLevel([Hedge_Set].[Hedge_Set].[ALL].[AllMember])), Hierarchize(DrilldownLevel([Underlyings].[Underlying].[ALL].[AllMember]))) ON ROWS, NON EMPTY {[Measures].[Trade_Effective_Notional], [Measures].[SupervisoryFactor], [Measures].[AddOn_CR_per_entity], [Measures].[Correlation], [Measures].[AddOn_CR]} ON COLUMNS FROM (SELECT {[AssetClass].[AssetClass].[ALL].[AllMember].[Credit Index], [AssetClass].[AssetClass].[ALL].[AllMember].[Credit Single Name]} ON COLUMNS FROM [main_cube]) CELL PROPERTIES VALUE, FORMATTED_VALUE, BACK_COLOR, FORE_COLOR, FONT_FLAGS",
        "ranges": {
         "column": {
          "chunkSize": 50,
          "thresholdPercentage": 0.2
         },
         "row": {
          "chunkSize": 2000,
          "thresholdPercentage": 0.1
         }
        },
        "serverUrl": "",
        "updateMode": "once"
       },
       "containerKey": "pivot-table",
       "showTitleBar": false,
       "style": {}
      }
     }
    }
   },
   "outputs": [
    {
     "data": {
      "application/vnd.atoti.v0+json": {
       "cube": "main_cube",
       "name": null,
       "session": "Unnamed"
      },
      "text/plain": [
       "Install and enable the atoti JupyterLab extension to see this widget."
      ]
     },
     "metadata": {},
     "output_type": "display_data"
    }
   ],
   "source": [
    "cube.visualize()"
   ]
  },
  {
   "cell_type": "markdown",
   "metadata": {},
   "source": [
    "## Add-on for commodity derivatives - [52.69] - [52.71]\n",
    "\n",
    "Commodities are broken down into 4 Hedging Sets : Energy, Metals, Agricultural and Others depending on the underlying.\n",
    "\n",
    "Inside these Hedging Sets, the trades are grouped following the type of commodity. For example, inside the Energy Hedge Set, trades may belong to the \"Oil/Gas\" bucket, or to the \"Electricity\" bucket.\n",
    "\n",
    "The Add-On for one of these bucket is simply the sum of the Trade Effective Notionals, multiplied by the Supervisory Factor (different for each Hedge Set).\n",
    "\n",
    "Within each hedging set $j$, the add-on is calculated following the formula in [52.70]:\n",
    "\n",
    "$$ AddOn_{HS_{j}}^{(CO)} = [(\\rho_{j}^{(CO)} * \\sum_{k}  AddOn(Type_{k}^{ j}) )^{2} + (1-(\\rho_{j}^{(CO)} )^{2}) * \\sum_{k}  (AddOn(Type_{k}^{ j}))^{2} ]^{1/2}$$\n",
    "\n",
    "Where $\\rho_j^{(CO)}$ is the Correlation and $Type_k^j$ the $k$-th type bucket of Hedge Set $j$.\n",
    "\n",
    "The global commodity Add-On is then the sum of the 4 Hedge Set Add-Ons"
   ]
  },
  {
   "cell_type": "code",
   "execution_count": 34,
   "metadata": {},
   "outputs": [],
   "source": [
    "m[\"AddOn_CO_j_k\"] = tt.filter(\n",
    "    m[\"SupervisoryFactor\"] * m[\"Trade_Effective_Notional\"],\n",
    "    lvl[\"AssetClass\"] == \"Commodity\",\n",
    ")\n",
    "m[\"AddOn_CO_j_k\"].folder = 'Add-On\\\\Commodity'\n",
    "m[\"AddOn_CO_j_k\"].formatter = \"DOUBLE[#,###]\""
   ]
  },
  {
   "cell_type": "code",
   "execution_count": 35,
   "metadata": {},
   "outputs": [],
   "source": [
    "# The first term of the above formula:\n",
    "squared_sum_CO = (\n",
    "    tt.agg.sum(\n",
    "        m[\"Correlation\"] * m[\"AddOn_CO_j_k\"],\n",
    "        scope=tt.scope.origin(lvl[\"Underlying\"], lvl[\"UnderlyingType\"]),\n",
    "    )\n",
    "    ** 2\n",
    ")\n",
    "\n",
    "# The second term of the above formula:\n",
    "\n",
    "sum_of_squares_CO = tt.agg.sum(\n",
    "    (1.0 - (m[\"Correlation\"] ** 2)) * (m[\"AddOn_CO_j_k\"] ** 2),\n",
    "    scope=tt.scope.origin(lvl[\"Underlying\"], lvl[\"UnderlyingType\"]),\n",
    ")\n",
    "\n",
    "# Generic measure computing the product\n",
    "m[\"AddOn_CO_j\"] = tt.sqrt(squared_sum_CO + sum_of_squares_CO)\n",
    "m[\"AddOn_CO_j\"].folder = 'Add-On\\\\Commodity'\n",
    "m[\"AddOn_CO_j\"].formatter = \"DOUBLE[#,###]\"\n",
    "\n",
    "# Add on as a sum of products over all hedging sets\n",
    "m[\"AddOn_CO\"] = tt.agg.sum(m[\"AddOn_CO_j\"], scope=tt.scope.origin(lvl[\"Hedge_Set\"]))\n",
    "m[\"AddOn_CO\"].folder = 'Add-On\\\\Commodity'\n",
    "m[\"AddOn_CO\"].formatter = \"DOUBLE[#,###]\""
   ]
  },
  {
   "cell_type": "code",
   "execution_count": 37,
   "metadata": {
    "atoti": {
     "state": {
      "name": "",
      "type": "container",
      "value": {
       "body": {
        "configuration": {
         "tabular": {
          "addButtonFilter": "numeric",
          "columnsGroups": [
           {
            "captionProducer": "firstColumn",
            "cellFactory": "kpi-status",
            "selector": "kpi-status"
           },
           {
            "captionProducer": "firstColumn",
            "cellFactory": "lookup",
            "selector": "lookup"
           },
           {
            "captionProducer": "expiry",
            "cellFactory": "expiry",
            "selector": "kpi-expiry"
           },
           {
            "captionProducer": "columnMerge",
            "cellFactory": {
             "args": {
              "automaticExpansion": true
             },
             "key": "treeCells"
            },
            "selector": "member"
           }
          ],
          "defaultOptions": {},
          "hideAddButton": true,
          "lineNumbers": true,
          "pinnedHeaderSelector": "member",
          "sortingMode": "non-breaking",
          "statisticsShown": true
         }
        },
        "contextValues": {},
        "mdx": "SELECT NON EMPTY Crossjoin(Hierarchize(DrilldownLevel([Hedge_Set].[Hedge_Set].[ALL].[AllMember])), Hierarchize(DrilldownLevel([Underlyings].[UnderlyingType].[ALL].[AllMember]))) ON ROWS, NON EMPTY {[Measures].[Trade_Effective_Notional], [Measures].[SupervisoryFactor], [Measures].[AddOn_CO_j_k], [Measures].[Correlation], [Measures].[AddOn_CO_j], [Measures].[AddOn_CO]} ON COLUMNS FROM [main_cube] WHERE [AssetClass].[AssetClass].[ALL].[AllMember].[Commodity] CELL PROPERTIES VALUE, FORMATTED_VALUE, BACK_COLOR, FORE_COLOR, FONT_FLAGS",
        "ranges": {
         "column": {
          "chunkSize": 50,
          "thresholdPercentage": 0.2
         },
         "row": {
          "chunkSize": 2000,
          "thresholdPercentage": 0.1
         }
        },
        "serverUrl": "",
        "updateMode": "once"
       },
       "containerKey": "pivot-table",
       "showTitleBar": false,
       "style": {}
      }
     }
    }
   },
   "outputs": [
    {
     "data": {
      "application/vnd.atoti.v0+json": {
       "cube": "main_cube",
       "name": null,
       "session": "Unnamed"
      },
      "text/plain": [
       "Install and enable the atoti JupyterLab extension to see this widget."
      ]
     },
     "metadata": {},
     "output_type": "display_data"
    }
   ],
   "source": [
    "cube.visualize()"
   ]
  },
  {
   "cell_type": "markdown",
   "metadata": {},
   "source": [
    "## Add-on for foreign exchange derivatives - [52.58] - [52.59]\n",
    "\n",
    "Foreign Exchange trades are separated in one Hedge Set for each currency pair (paragraph 170). \n",
    "Inside of each Hedge Sets, the add-on is determined by multiplying the absolute value of the sum of Trade Effective Notionals by the corresponding Supervisory Factor :\n",
    "\n",
    "$$AddOn_{HS_{j}}^{(FX)} = SF_{j}^{(FX)} * |EffectiveNotional_{j}^{(FX)}| $$\n",
    "\n",
    "and :\n",
    "\n",
    "$$AddOn^{(FX)} = \\sum_{j} AddOn_{HS_{j}}^{(FX)} $$\n"
   ]
  },
  {
   "cell_type": "code",
   "execution_count": 38,
   "metadata": {},
   "outputs": [],
   "source": [
    "m[\"AddOn_FX_j\"] = tt.filter(\n",
    "    m[\"SupervisoryFactor\"] * tt.abs(m[\"Trade_Effective_Notional\"]),\n",
    "    lvl[\"AssetClass\"] == \"FX\",\n",
    ")\n",
    "m[\"AddOn_FX_j\"].folder = \"Add-On\\\\FX\"\n",
    "m[\"AddOn_FX_j\"].formatter = \"DOUBLE[#,###]\"\n",
    "\n",
    "\n",
    "m[\"AddOn_FX\"] = tt.agg.sum(m[\"AddOn_FX_j\"], scope=tt.scope.origin(lvl[\"Hedge_Set\"]))\n",
    "m[\"AddOn_FX\"].folder = \"Add-On\\\\FX\"\n",
    "m[\"AddOn_FX\"].formatter = \"DOUBLE[#,###]\""
   ]
  },
  {
   "cell_type": "code",
   "execution_count": 40,
   "metadata": {
    "atoti": {
     "state": {
      "name": "",
      "type": "container",
      "value": {
       "body": {
        "configuration": {
         "tabular": {
          "addButtonFilter": "numeric",
          "columnsGroups": [
           {
            "captionProducer": "firstColumn",
            "cellFactory": "kpi-status",
            "selector": "kpi-status"
           },
           {
            "captionProducer": "firstColumn",
            "cellFactory": "lookup",
            "selector": "lookup"
           },
           {
            "captionProducer": "expiry",
            "cellFactory": "expiry",
            "selector": "kpi-expiry"
           },
           {
            "captionProducer": "columnMerge",
            "cellFactory": {
             "args": {},
             "key": "treeCells"
            },
            "selector": "member"
           }
          ],
          "defaultOptions": {},
          "expansion": {
           "automaticExpansion": true
          },
          "hideAddButton": true,
          "pinnedHeaderSelector": "member",
          "sortingMode": "non-breaking",
          "statisticsShown": true
         }
        },
        "contextValues": {},
        "mdx": "SELECT NON EMPTY Hierarchize(DrilldownLevel([Hedge_Set].[Hedge_Set].[ALL].[AllMember])) ON ROWS, NON EMPTY {[Measures].[Trade_Effective_Notional], [Measures].[SupervisoryFactor], [Measures].[AddOn_FX_j], [Measures].[AddOn_FX]} ON COLUMNS FROM [main_cube] WHERE [AssetClass].[AssetClass].[ALL].[AllMember].[FX] CELL PROPERTIES VALUE, FORMATTED_VALUE, BACK_COLOR, FORE_COLOR, FONT_FLAGS",
        "ranges": {
         "column": {
          "chunkSize": 50,
          "thresholdPercentage": 0.2
         },
         "row": {
          "chunkSize": 2000,
          "thresholdPercentage": 0.1
         }
        },
        "serverUrl": "",
        "updateMode": "once"
       },
       "containerKey": "pivot-table",
       "showTitleBar": false,
       "style": {}
      }
     }
    }
   },
   "outputs": [
    {
     "data": {
      "application/vnd.atoti.v0+json": {
       "cube": "main_cube",
       "name": null,
       "session": "Unnamed"
      },
      "text/plain": [
       "Install and enable the atoti JupyterLab extension to see this widget."
      ]
     },
     "metadata": {},
     "output_type": "display_data"
    }
   ],
   "source": [
    "cube.visualize()"
   ]
  },
  {
   "cell_type": "markdown",
   "metadata": {},
   "source": [
    "## Add-on for equity derivatives - [52.65] - [52.68]\n",
    "\n",
    "Equity Add-On is determined in the same way as Credit Add-On. The trades are grouped under a single Hedge Set, and grouped by entity inside. However, the supervisory factor no longer depends on the rating of the entity but rather on wether the trade's Asset Class is Equity Index or Equity Single Name. The formula to determine its value from the Trade Effective Notional is in [52.65]:\n",
    "\n",
    "$$ AddOn^{(EQ)} = [(\\sum_{k} \\rho_{k}^{(EQ)} *  AddOn(Entity_{k}) )^{2} + \\sum_{k} (1-(\\rho_{k}^{(EQ)} )^{2}) *  (AddOn(Entity_{k}))^{2} ]^{1/2}$$\n",
    "\n",
    "where $\\rho_{k}$ is the correlation factor corresponding to entity k\n"
   ]
  },
  {
   "cell_type": "code",
   "execution_count": 41,
   "metadata": {},
   "outputs": [],
   "source": [
    "m[\"AddOn_EQ_per_entity\"] = tt.filter(\n",
    "    m[\"SupervisoryFactor\"] * m[\"Trade_Effective_Notional\"], lvl[\"RiskClass\"] == \"Equity\"\n",
    ")\n",
    "m[\"AddOn_EQ_per_entity\"].folder = 'Add-On\\\\Equity'\n",
    "m[\"AddOn_EQ_per_entity\"].formatter = \"DOUBLE[#,###]\""
   ]
  },
  {
   "cell_type": "code",
   "execution_count": 42,
   "metadata": {},
   "outputs": [],
   "source": [
    "# The first term of the above formula:\n",
    "squared_sum_EQ = (\n",
    "    tt.agg.sum(\n",
    "        m[\"Correlation\"] * m[\"AddOn_EQ_per_entity\"],\n",
    "        scope=tt.scope.origin(lvl[\"Underlying\"]),\n",
    "    )\n",
    "    ** 2\n",
    ")\n",
    "\n",
    "# The second term of the above formula:\n",
    "sum_of_squares_EQ = tt.agg.sum(\n",
    "    (1.0 - (m[\"Correlation\"] ** 2)) * (m[\"AddOn_EQ_per_entity\"] ** 2),\n",
    "    scope=tt.scope.origin(lvl[\"Underlying\"]),\n",
    ")\n",
    "\n",
    "m[\"AddOn_EQ\"] = tt.sqrt(squared_sum_EQ + sum_of_squares_EQ)\n",
    "m[\"AddOn_EQ\"].folder = \"Add-On\\\\Equity\"\n",
    "m[\"AddOn_EQ\"].formatter = \"DOUBLE[#,###]\""
   ]
  },
  {
   "cell_type": "code",
   "execution_count": 44,
   "metadata": {
    "atoti": {
     "state": {
      "name": "",
      "type": "container",
      "value": {
       "body": {
        "configuration": {
         "tabular": {
          "addButtonFilter": "numeric",
          "columnsGroups": [
           {
            "captionProducer": "firstColumn",
            "cellFactory": "kpi-status",
            "selector": "kpi-status"
           },
           {
            "captionProducer": "firstColumn",
            "cellFactory": "lookup",
            "selector": "lookup"
           },
           {
            "captionProducer": "expiry",
            "cellFactory": "expiry",
            "selector": "kpi-expiry"
           },
           {
            "captionProducer": "columnMerge",
            "cellFactory": {
             "args": {},
             "key": "treeCells"
            },
            "selector": "member"
           }
          ],
          "defaultOptions": {},
          "expansion": {
           "automaticExpansion": true
          },
          "hideAddButton": true,
          "pinnedHeaderSelector": "member",
          "sortingMode": "non-breaking",
          "statisticsShown": true
         }
        },
        "contextValues": {},
        "mdx": "SELECT NON EMPTY Crossjoin(Hierarchize(DrilldownLevel([Hedge_Set].[Hedge_Set].[ALL].[AllMember])), Hierarchize(DrilldownLevel([Underlyings].[Underlying].[ALL].[AllMember]))) ON ROWS, NON EMPTY {[Measures].[Trade_Effective_Notional], [Measures].[SupervisoryFactor], [Measures].[AddOn_EQ_per_entity], [Measures].[Correlation], [Measures].[AddOn_EQ]} ON COLUMNS FROM [main_cube] WHERE [RiskClass].[RiskClass].[ALL].[AllMember].[Equity] CELL PROPERTIES VALUE, FORMATTED_VALUE, BACK_COLOR, FORE_COLOR, FONT_FLAGS",
        "ranges": {
         "column": {
          "chunkSize": 50,
          "thresholdPercentage": 0.2
         },
         "row": {
          "chunkSize": 2000,
          "thresholdPercentage": 0.1
         }
        },
        "serverUrl": "",
        "updateMode": "once"
       },
       "containerKey": "pivot-table",
       "showTitleBar": false,
       "style": {}
      }
     }
    }
   },
   "outputs": [
    {
     "data": {
      "application/vnd.atoti.v0+json": {
       "cube": "main_cube",
       "name": null,
       "session": "Unnamed"
      },
      "text/plain": [
       "Install and enable the atoti JupyterLab extension to see this widget."
      ]
     },
     "metadata": {},
     "output_type": "display_data"
    }
   ],
   "source": [
    "cube.visualize()"
   ]
  },
  {
   "cell_type": "markdown",
   "metadata": {},
   "source": [
    "## Aggregate add-on - [52.24]\n",
    "\n",
    "Now that we have determined the add-on corresponding to every risk class, we can determine the aggregated add-on, as their sum, and then calculate the EAD.\n",
    "\n",
    "The Add-on aggregate is simply the sum of all five Risk Class Add-Ons"
   ]
  },
  {
   "cell_type": "code",
   "execution_count": 45,
   "metadata": {},
   "outputs": [],
   "source": [
    "# This measure will be displaying aggregate AddOn\n",
    "m[\"AddOn\"] = (\n",
    "    m[\"AddOn_CR\"] + m[\"AddOn_IR\"] + m[\"AddOn_CO\"] + m[\"AddOn_FX\"] + m[\"AddOn_EQ\"]\n",
    ")\n",
    "m[\"AddOn\"].folder = \"Add-On\"\n",
    "m[\"AddOn\"].formatter = \"DOUBLE[#,###]\"\n",
    "\n",
    "# Creating a measure displaying day-to-day differences\n",
    "m[\"AddOn D2D %\"] = (\n",
    "    m[\"AddOn\"] - tt.shift(m[\"AddOn\"], on=lvl[\"AsOfDate\"], offset=1)\n",
    ") / m[\"AddOn\"]\n",
    "\n",
    "m[\"AddOn D2D %\"].folder = \"Add-On\"\n",
    "m[\"AddOn D2D %\"].formatter = \"DOUBLE[#,###.00%]\""
   ]
  },
  {
   "cell_type": "markdown",
   "metadata": {},
   "source": [
    "## Multiplier - [52.23]\n",
    "\n",
    "In this section we will compute the multiplier, defined per formula:\n",
    "    \n",
    "$$multiplier = min(1, Floor + (1-Floor)*exp(\\frac{V-C}{2*(1-Floor)*AddOn^{aggregate}})$$ \n",
    "\n",
    "(where $Floor = 0.05$ is another fixed parameter)"
   ]
  },
  {
   "cell_type": "code",
   "execution_count": 46,
   "metadata": {},
   "outputs": [],
   "source": [
    "floor = 0.05\n",
    "alpha = 1.4\n",
    "m[\"Multiplier\"] = tt.min(\n",
    "    1.0,\n",
    "    floor\n",
    "    + (1 - floor)\n",
    "    * tt.exp(\n",
    "        (m[\"MarketValue\"] - m[\"Collateral.VALUE\"]) / (2 * (1 - floor) * m[\"AddOn\"])\n",
    "    ),\n",
    ")\n",
    "m[\"Multiplier\"].formatter = \"DOUBLE[#,###]\""
   ]
  },
  {
   "cell_type": "markdown",
   "metadata": {},
   "source": [
    "## PFE add-on for each netting set - [52.20]\n",
    "\n",
    "Having the aggregate AddOn and the multiplier, computing the PFE is per formula: $PFE = multiplier * AddOn^{aggregate}$"
   ]
  },
  {
   "cell_type": "code",
   "execution_count": 47,
   "metadata": {},
   "outputs": [],
   "source": [
    "m[\"PFE\"] = m[\"Multiplier\"] * m[\"AddOn\"]\n",
    "m[\"PFE\"].formatter = \"DOUBLE[#,###]\""
   ]
  },
  {
   "cell_type": "markdown",
   "metadata": {},
   "source": [
    "## Replacement cost - [52.10]\n",
    "\n",
    "The Replacement Cost is $RC = max(V-C,0)$ \n",
    "\n",
    "($V$ is the value of derivative transactions and $C$ is the haircut value of\n",
    "net collateral held)"
   ]
  },
  {
   "cell_type": "code",
   "execution_count": 48,
   "metadata": {},
   "outputs": [],
   "source": [
    "m[\"RC\"] = tt.max(m[\"MarketValue\"] - m[\"Collateral.VALUE\"], 0)\n",
    "m[\"RC\"].formatter = \"DOUBLE[#,###]\""
   ]
  },
  {
   "cell_type": "markdown",
   "metadata": {},
   "source": [
    "# EAD - [52.1]\n",
    "\n",
    "$$EAD = \\alpha * (RC + PFE)$$\n",
    "\n",
    "where $alpha = 1.4$ (fixed parameter), "
   ]
  },
  {
   "cell_type": "code",
   "execution_count": 49,
   "metadata": {},
   "outputs": [],
   "source": [
    "m[\"EAD\"] = tt.agg.sum(\n",
    "    alpha * (m[\"RC\"] + m[\"PFE\"]), scope=tt.scope.origin(lvl[\"NettingSetId\"])\n",
    ")\n",
    "m[\"EAD\"].formatter = \"DOUBLE[#,###]\"\n",
    "\n",
    "\n",
    "# Creating a measure for day-to-day differences\n",
    "m[\"EAD D2D %\"] = (\n",
    "    m[\"EAD\"] - tt.shift(m[\"EAD\"], on=lvl[\"AsOfDate\"], offset=1)\n",
    ") / m[\"EAD\"]"
   ]
  },
  {
   "cell_type": "markdown",
   "metadata": {},
   "source": [
    "Here, we have a recap of the final values for the AddOn, multiplier, PFE, RC and EAD for each of the 10 Netting Sets of our example."
   ]
  },
  {
   "cell_type": "markdown",
   "metadata": {},
   "source": [
    "# Loading more data"
   ]
  },
  {
   "cell_type": "markdown",
   "metadata": {},
   "source": [
    "The following cell will upload data for additional value dates into the existing datastores:"
   ]
  },
  {
   "cell_type": "code",
   "execution_count": 59,
   "metadata": {},
   "outputs": [],
   "source": [
    "for d in [\"2020-01-14\", \"2020-01-15\", \"2020-01-16\", \"2020-01-17\"]:\n",
    "    trades_store.load_csv(\n",
    "        \"s3://data.atoti.io/notebooks/sa-ccr/inverted/trades_preprocessed/trades_preprocessed_\"\n",
    "        + d\n",
    "        + \".csv\"\n",
    "    )\n",
    "    books_store.load_csv(\n",
    "        \"s3://data.atoti.io/notebooks/sa-ccr/inverted/books/books_\" + d + \".csv\"\n",
    "    )\n",
    "    counterparties_store.load_csv(\n",
    "        \"s3://data.atoti.io/notebooks/sa-ccr/inverted/counterparties/counterparties_\"\n",
    "        + d\n",
    "        + \".csv\"\n",
    "    )\n",
    "    desks_store.load_csv(\n",
    "        \"s3://data.atoti.io/notebooks/sa-ccr/inverted/desks/desks_\" + d + \".csv\"\n",
    "    )\n",
    "    nettingSets_store.load_csv(\n",
    "        \"s3://data.atoti.io/notebooks/sa-ccr/inverted/nettingSets/nettingSets_\"\n",
    "        + d\n",
    "        + \".csv\"\n",
    "    )\n",
    "    products_store.load_csv(\n",
    "        \"s3://data.atoti.io/notebooks/sa-ccr/inverted/products/products_\" + d + \".csv\"\n",
    "    )\n",
    "    \n",
    "# This will enable the load_all_data mode, otherwise atoti will sample data to speed up development process\n",
    "session.load_all_data()"
   ]
  },
  {
   "cell_type": "markdown",
   "metadata": {},
   "source": [
    "# Simulations"
   ]
  },
  {
   "cell_type": "markdown",
   "metadata": {},
   "source": [
    "atoti provides a powerful simulation framework. \n",
    "\n",
    "Below we will explore a few examples of uploading alternative data into our app to instantly see the impact on the capital charge metrics."
   ]
  },
  {
   "cell_type": "code",
   "execution_count": null,
   "metadata": {},
   "outputs": [],
   "source": [
    "trades_store.source_simulation_enabled = True"
   ]
  },
  {
   "cell_type": "code",
   "execution_count": null,
   "metadata": {},
   "outputs": [],
   "source": [
    "def get_trade_df(asOfDate):\n",
    "    return pd.read_csv(\"https://data.atoti.io/notebooks/sa-ccr/inverted/trades_preprocessed/\" + \"trades_preprocessed_\" + asOfDate + \".csv\")"
   ]
  },
  {
   "cell_type": "code",
   "execution_count": null,
   "metadata": {},
   "outputs": [],
   "source": [
    "session.url"
   ]
  },
  {
   "cell_type": "markdown",
   "metadata": {},
   "source": [
    "## Changing a firm's rating"
   ]
  },
  {
   "cell_type": "code",
   "execution_count": null,
   "metadata": {},
   "outputs": [],
   "source": [
    "def firm_simulation(scenarioName, asOfDate, firm, rating):\n",
    "    trades = get_trade_df(asOfDate)\n",
    "    trades = trades[trades[\"Underlying\"] == firm]\n",
    "    trades = trades.assign(SubClass = rating)\n",
    "    trades = trades.assign(SP_subclass = rating)\n",
    "    trades_store.scenarios[scenarioName].load_pandas(trades)   \n",
    "    session.load_all_data()"
   ]
  },
  {
   "cell_type": "markdown",
   "metadata": {},
   "source": [
    "For this first simulation, we change the rating of firm 10 from A to BB. The expected result of this simulation is an increase of the risk for trades relative to firm 10, since it is now less reliable.\n",
    "In the calculations, the firm rating only impacted the supervisory factor for Credit Single Name trades. When we look at the Add-On for these trades (CSN + firm 10), we see that it has effectively increased (from 1M to 2.6M), just as expected. The EAD has increased too, from 171M to 189M."
   ]
  },
  {
   "cell_type": "code",
   "execution_count": null,
   "metadata": {},
   "outputs": [],
   "source": [
    "firm_simulation(\"Firm 2 AAA to BBB\", \"2020-01-17\", \"Firm2\", \"BBB\")"
   ]
  },
  {
   "cell_type": "code",
   "execution_count": null,
   "metadata": {
    "atoti": {
     "state": {
      "name": "",
      "type": "container",
      "value": {
       "body": {
        "configuration": {
         "tabular": {
          "addButtonFilter": "numeric",
          "columnsGroups": [
           {
            "captionProducer": "firstColumn",
            "cellFactory": "kpi-status",
            "selector": "kpi-status"
           },
           {
            "captionProducer": "firstColumn",
            "cellFactory": "lookup",
            "selector": "lookup"
           },
           {
            "captionProducer": "expiry",
            "cellFactory": "expiry",
            "selector": "kpi-expiry"
           },
           {
            "captionProducer": "columnMerge",
            "cellFactory": {
             "args": {},
             "key": "treeCells"
            },
            "selector": "member"
           }
          ],
          "defaultOptions": {},
          "expansion": {
           "automaticExpansion": true
          },
          "hideAddButton": true,
          "pinnedHeaderSelector": "member",
          "sortingMode": "non-breaking",
          "statisticsShown": true
         }
        },
        "contextValues": {},
        "mdx": "SELECT NON EMPTY Crossjoin(Hierarchize(DrilldownLevel([AssetClass].[AssetClass].[ALL].[AllMember])), Hierarchize(DrilldownLevel([Underlyings].[Underlying].[ALL].[AllMember])), Hierarchize(DrilldownLevel([AssetClass].[SubClass].[ALL].[AllMember]))) ON ROWS, NON EMPTY Crossjoin([Measures].[AddOn_CR], Hierarchize([Epoch].[Epoch].[Branch].Members)) ON COLUMNS FROM (SELECT [AssetClass].[AssetClass].[ALL].[AllMember].[Credit Single Name] ON COLUMNS FROM [main_cube]) CELL PROPERTIES VALUE, FORMATTED_VALUE, BACK_COLOR, FORE_COLOR, FONT_FLAGS",
        "ranges": {
         "column": {
          "chunkSize": 50,
          "thresholdPercentage": 0.2
         },
         "row": {
          "chunkSize": 2000,
          "thresholdPercentage": 0.1
         }
        },
        "serverUrl": "",
        "updateMode": "once"
       },
       "containerKey": "pivot-table",
       "showTitleBar": false,
       "style": {}
      }
     }
    }
   },
   "outputs": [],
   "source": [
    "cube.visualize()"
   ]
  },
  {
   "cell_type": "code",
   "execution_count": null,
   "metadata": {
    "atoti": {
     "state": {
      "name": "",
      "type": "container",
      "value": {
       "body": {
        "configuration": {
         "featuredValues": {
          "locations": {
           "[Epoch].[Epoch].[Base],[Measures].[AddOn_CR]": {
            "title": "Base AddOn_CR "
           }
          }
         }
        },
        "contextValues": {},
        "mdx": "SELECT NON EMPTY {[Measures].[EAD]} ON COLUMNS, NON EMPTY Hierarchize([Epoch].[Epoch].[Branch].Members) ON ROWS FROM (SELECT {[Epoch].[Epoch].[Branch].[Base], [Epoch].[Epoch].[Branch].[Firm 10 A to BB]} ON COLUMNS FROM (SELECT {[AssetClass].[AssetClass].[ALL].[AllMember].[Credit Index], [AssetClass].[AssetClass].[ALL].[AllMember].[Credit Single Name]} ON COLUMNS FROM [main_cube])) CELL PROPERTIES VALUE, FORMATTED_VALUE, BACK_COLOR, FORE_COLOR, FONT_FLAGS",
        "ranges": {
         "column": {
          "chunkSize": 20,
          "thresholdPercentage": 0.1
         },
         "row": {
          "chunkSize": 20,
          "thresholdPercentage": 0.1
         }
        },
        "serverUrl": "",
        "updateMode": "once"
       },
       "containerKey": "featured-values",
       "showTitleBar": false,
       "style": {}
      }
     }
    }
   },
   "outputs": [],
   "source": [
    "cube.visualize()"
   ]
  },
  {
   "cell_type": "markdown",
   "metadata": {},
   "source": [
    "## Changing maturity dates"
   ]
  },
  {
   "cell_type": "code",
   "execution_count": null,
   "metadata": {},
   "outputs": [],
   "source": [
    "import dateutil.relativedelta\n",
    "import datetime\n",
    "\n",
    "def move_maturity(maturity, maturity_month_move):\n",
    "    maturity = datetime.datetime.strptime(maturity, \"%Y-%m-%d\")\n",
    "    return maturity + dateutil.relativedelta.relativedelta(months=maturity_month_move)\n",
    "\n",
    "# levels: array of levels name\n",
    "# filters: array of array of filters value\n",
    "def maturity_simulation(scenarioName, asOfDate, maturity_month_move, levels = [], filters = []):\n",
    "    trades = get_trade_df(asOfDate)\n",
    "    filter_condition = None\n",
    "    at_least_one_condition = False\n",
    "#     trades = update_trade_df(trades)\n",
    "    for i in range(0,len(levels)):\n",
    "        level = levels[i]\n",
    "        if (level != None):\n",
    "            level_filter = None\n",
    "            at_least_one_level_filter = False\n",
    "            filter = filters[i]\n",
    "            if (filter != None):\n",
    "                for filter_value in filter:\n",
    "                    level_filter_to_add = trades[level] == filter_value\n",
    "                    if (at_least_one_level_filter):\n",
    "                        level_filter = (level_filter | level_filter_to_add)\n",
    "                    else:\n",
    "                        level_filter = level_filter_to_add\n",
    "                        at_least_one_level_filter = True\n",
    "            if (at_least_one_level_filter):\n",
    "                if (at_least_one_condition):\n",
    "                    filter_condition = (filter_condition & level_filter)\n",
    "                else:\n",
    "                    filter_condition = level_filter\n",
    "                    at_least_one_condition = True\n",
    "    if (at_least_one_condition):\n",
    "        trades = trades[filter_condition]\n",
    "\n",
    "    trades[\"Mi\"] = trades[\"Mi\"].apply(move_maturity, args=(maturity_month_move,))\n",
    "    #Adding Maturity Buckets\n",
    "    trades[\"Mi_pd\"] = (\n",
    "        pd.to_datetime(trades[\"Mi\"]) - pd.to_datetime(trades[\"AsOfDate\"])\n",
    "    ).dt.days\n",
    "\n",
    "    trades.loc[trades[\"Mi_pd\"] <= number_of_days_in_year,\"MaturityBuckets\"] = \"1\"\n",
    "    trades.loc[\n",
    "        (trades[\"Mi_pd\"] > number_of_days_in_year) & (trades[\"Mi_pd\"] <= (5*365.25)),\n",
    "        \"MaturityBuckets\",\n",
    "    ] = \"2\"\n",
    "    trades.loc[trades[\"Mi_pd\"] > (5*365.25),\"MaturityBuckets\"] = \"3\"\n",
    "\n",
    "    trades_store.scenarios[scenarioName].load_pandas(trades)  \n",
    "    session.load_all_data()\n",
    "    \n",
    "def initialise_branch(scenario, asOfDate):\n",
    "    maturity_simulation(scenario, asOfDate, 0, [], [])    \n",
    "    "
   ]
  },
  {
   "cell_type": "code",
   "execution_count": null,
   "metadata": {},
   "outputs": [],
   "source": [
    "maturity_simulation(\n",
    "    \"Prediction 2020-01-20 as of 2020-01-17\",\n",
    "    date_str(dates[-1]),\n",
    "    -212, \n",
    "    [\"RiskClass\", \"TradeId\"], \n",
    "    [[\"Interest Rate\"], [\"t7\"]],\n",
    ")"
   ]
  },
  {
   "cell_type": "code",
   "execution_count": null,
   "metadata": {
    "atoti": {
     "state": {
      "name": "",
      "type": "container",
      "value": {
       "body": {
        "configuration": {
         "tabular": {
          "addButtonFilter": "numeric",
          "columns": [
           {
            "key": "([Measures].[AddOn_IR],[Epoch].[Epoch].[Branch].[Prediction 2020-01-20 as of 2020-01-17])",
            "width": 278
           }
          ],
          "columnsGroups": [
           {
            "captionProducer": "firstColumn",
            "cellFactory": "kpi-status",
            "selector": "kpi-status"
           },
           {
            "captionProducer": "firstColumn",
            "cellFactory": "lookup",
            "selector": "lookup"
           },
           {
            "captionProducer": "expiry",
            "cellFactory": "expiry",
            "selector": "kpi-expiry"
           },
           {
            "captionProducer": "columnMerge",
            "cellFactory": {
             "args": {},
             "key": "treeCells"
            },
            "selector": "member"
           }
          ],
          "defaultOptions": {},
          "expansion": {
           "automaticExpansion": true
          },
          "hideAddButton": true,
          "pinnedHeaderSelector": "member",
          "sortingMode": "non-breaking",
          "statisticsShown": true
         }
        },
        "contextValues": {},
        "mdx": "SELECT NON EMPTY Crossjoin(Hierarchize(DrilldownLevel([AssetClass].[AssetClass].[ALL].[AllMember])), Hierarchize(DrilldownLevel([Hedge_Set].[Hedge_Set].[ALL].[AllMember])), Hierarchize(DrilldownLevel([MaturityBuckets].[MaturityBuckets].[ALL].[AllMember])), Hierarchize(DrilldownLevel([TradeId].[TradeId].[ALL].[AllMember]))) ON ROWS, NON EMPTY Crossjoin([Measures].[AddOn_IR], Hierarchize([Epoch].[Epoch].[Branch].Members)) ON COLUMNS FROM (SELECT {[Epoch].[Epoch].[Branch].[Base], [Epoch].[Epoch].[Branch].[Prediction 2020-01-20 as of 2020-01-17]} ON COLUMNS FROM (SELECT [Hedge_Set].[Hedge_Set].[ALL].[AllMember].[GBP] ON COLUMNS FROM (SELECT [AssetClass].[AssetClass].[ALL].[AllMember].[Interest Rate] ON COLUMNS FROM [main_cube]))) CELL PROPERTIES VALUE, FORMATTED_VALUE, BACK_COLOR, FORE_COLOR, FONT_FLAGS",
        "ranges": {
         "column": {
          "chunkSize": 50,
          "thresholdPercentage": 0.2
         },
         "row": {
          "chunkSize": 2000,
          "thresholdPercentage": 0.1
         }
        },
        "serverUrl": "",
        "updateMode": "once"
       },
       "containerKey": "pivot-table",
       "showTitleBar": false,
       "style": {}
      }
     }
    }
   },
   "outputs": [],
   "source": [
    "cube.visualize()"
   ]
  },
  {
   "cell_type": "markdown",
   "metadata": {},
   "source": [
    "Another simulation that can be done is to change the maturity of a trade or trades. For Interest Rates trades, a change in maturity can change the Maturity Bucket of the trade. Given how the add-on is calculated for IR hedge sets, this shift in maturity will affect the global add-on in a more unpredictable manner than in the previous simulation, depending on what other trades there is in the three maturirty buckets of the affected hedge set.\n",
    "\n",
    "Here, we significatively reduced the maturity of trade 7, moving it from the 3rd to the 1st maturity bucket. It resulted in a large increase of the Add-On, as the 1st maturity bucket was initially empty, and the addition of trade 7 added several previousy null terms to the equation."
   ]
  },
  {
   "cell_type": "code",
   "execution_count": null,
   "metadata": {},
   "outputs": [],
   "source": [
    "maturity_simulation(\n",
    "    \"Prediction 2020-01-20 as of 2020-01-17\", \n",
    "    date_str(dates[-1]),\n",
    "    -50, \n",
    "    [\"Hedge_Set\"], \n",
    "    [[\"JPY\"]],\n",
    ")"
   ]
  },
  {
   "cell_type": "code",
   "execution_count": null,
   "metadata": {
    "atoti": {
     "state": {
      "name": "",
      "type": "container",
      "value": {
       "body": {
        "configuration": {
         "tabular": {
          "addButtonFilter": "numeric",
          "columns": [
           {
            "key": "([Measures].[AddOn_IR],[Epoch].[Epoch].[Branch].[Prediction 2020-01-20 as of 2020-01-17])",
            "width": 319
           }
          ],
          "columnsGroups": [
           {
            "captionProducer": "firstColumn",
            "cellFactory": "kpi-status",
            "selector": "kpi-status"
           },
           {
            "captionProducer": "firstColumn",
            "cellFactory": "lookup",
            "selector": "lookup"
           },
           {
            "captionProducer": "expiry",
            "cellFactory": "expiry",
            "selector": "kpi-expiry"
           },
           {
            "captionProducer": "columnMerge",
            "cellFactory": {
             "args": {},
             "key": "treeCells"
            },
            "selector": "member"
           }
          ],
          "defaultOptions": {},
          "expansion": {
           "automaticExpansion": true
          },
          "hideAddButton": true,
          "pinnedHeaderSelector": "member",
          "sortingMode": "non-breaking",
          "statisticsShown": true
         }
        },
        "contextValues": {},
        "mdx": "SELECT NON EMPTY Crossjoin(Hierarchize(DrilldownLevel([AssetClass].[AssetClass].[ALL].[AllMember])), Hierarchize(DrilldownLevel([Hedge_Set].[Hedge_Set].[ALL].[AllMember])), Hierarchize(DrilldownLevel([MaturityBuckets].[MaturityBuckets].[ALL].[AllMember])), Hierarchize(DrilldownLevel([TradeId].[TradeId].[ALL].[AllMember]))) ON ROWS, NON EMPTY Crossjoin([Measures].[AddOn_IR], Hierarchize([Epoch].[Epoch].[Branch].Members)) ON COLUMNS FROM (SELECT {[Epoch].[Epoch].[Branch].[Base], [Epoch].[Epoch].[Branch].[Prediction 2020-01-20 as of 2020-01-17]} ON COLUMNS FROM (SELECT [Hedge_Set].[Hedge_Set].[ALL].[AllMember].[JPY] ON COLUMNS FROM (SELECT [AssetClass].[AssetClass].[ALL].[AllMember].[Interest Rate] ON COLUMNS FROM [main_cube]))) CELL PROPERTIES VALUE, FORMATTED_VALUE, BACK_COLOR, FORE_COLOR, FONT_FLAGS",
        "ranges": {
         "column": {
          "chunkSize": 50,
          "thresholdPercentage": 0.2
         },
         "row": {
          "chunkSize": 2000,
          "thresholdPercentage": 0.1
         }
        },
        "serverUrl": "",
        "updateMode": "once"
       },
       "containerKey": "pivot-table",
       "showTitleBar": false,
       "style": {}
      }
     }
    }
   },
   "outputs": [],
   "source": [
    "cube.visualize()"
   ]
  },
  {
   "cell_type": "markdown",
   "metadata": {},
   "source": [
    "In this second maturity bucket simulation we lower the maturity of all trades in the JPY Hedge Set. All the trades that were previously in the 2nd and 3rd maturity buckets are now in the 1st, which ends up decreasing the global add-on, as the trades are no longer separated in different buckets."
   ]
  },
  {
   "cell_type": "code",
   "execution_count": null,
   "metadata": {
    "atoti": {
     "state": {
      "name": "",
      "type": "container",
      "value": {
       "body": {
        "configuration": {
         "tabular": {
          "addButtonFilter": "numeric",
          "columnOrder": {
           "args": {
            "orderedColumns": [
             "c-treeCells-member",
             "([Measures].[AddOn],[Epoch].[Epoch].[Branch].[Base])",
             "([Measures].[AddOn],[Epoch].[Epoch].[Branch].[Firm 10 A to BB])",
             "([Measures].[AddOn],[Epoch].[Epoch].[Branch].[Prediction 2020-01-20 as of 2020-01-17])",
             "([Measures].[AddOn],[Epoch].[Epoch].[Branch].[Firm 10 A to BB - Base])",
             "([Measures].[AddOn],[Epoch].[Epoch].[Branch].[Prediction 2020-01-20 as of 2020-01-17 - Base])"
            ]
           },
           "key": "explicit"
          },
          "columns": [
           {
            "key": "([Measures].[AddOn],[Epoch].[Epoch].[Branch].[Prediction 2020-01-20 as of 2020-01-17])",
            "width": 278
           },
           {
            "key": "([Measures].[AddOn],[Epoch].[Epoch].[Branch].[Firm 10 A to BB - Base])",
            "width": 188
           },
           {
            "key": "([Measures].[AddOn],[Epoch].[Epoch].[Branch].[Prediction 2020-01-20 as of 2020-01-17 - Base])",
            "width": 334
           }
          ],
          "columnsGroups": [
           {
            "captionProducer": "firstColumn",
            "cellFactory": "kpi-status",
            "selector": "kpi-status"
           },
           {
            "captionProducer": "firstColumn",
            "cellFactory": "lookup",
            "selector": "lookup"
           },
           {
            "captionProducer": "expiry",
            "cellFactory": "expiry",
            "selector": "kpi-expiry"
           },
           {
            "captionProducer": "columnMerge",
            "cellFactory": {
             "args": {},
             "key": "treeCells"
            },
            "selector": "member"
           }
          ],
          "defaultOptions": {
           "headerHeight": 56
          },
          "expansion": {
           "automaticExpansion": true
          },
          "hideAddButton": true,
          "pinnedHeaderSelector": "member",
          "sortingMode": "non-breaking",
          "statisticsShown": true
         }
        },
        "contextValues": {},
        "mdx": "SELECT NON EMPTY Crossjoin(Hierarchize(DrilldownLevel([RiskClass].[RiskClass].[ALL].[AllMember])), Hierarchize(DrilldownLevel([NettingSets].[NettingSetId].[ALL].[AllMember])), Hierarchize([AsOfDate].[AsOfDate].[AsOfDate].Members)) ON ROWS, NON EMPTY Crossjoin([Measures].[AddOn], Hierarchize([Epoch].[Epoch].[Branch].Members)) ON COLUMNS FROM [main_cube] CELL PROPERTIES BACK_COLOR, FONT_FLAGS, FORE_COLOR, FORMATTED_VALUE, VALUE",
        "ranges": {
         "column": {
          "chunkSize": 50,
          "thresholdPercentage": 0.2
         },
         "row": {
          "chunkSize": 2000,
          "thresholdPercentage": 0.1
         }
        },
        "serverUrl": "",
        "updateMode": "once"
       },
       "containerKey": "pivot-table",
       "showTitleBar": false,
       "style": {}
      }
     }
    }
   },
   "outputs": [],
   "source": [
    "cube.visualize()"
   ]
  },
  {
   "cell_type": "markdown",
   "metadata": {},
   "source": [
    "This overview of the simulations shows the impact each has had on the Risk Class Add-Ons as well as the global Add-On."
   ]
  }
 ],
 "metadata": {
  "kernelspec": {
   "display_name": "Python 3",
   "language": "python",
   "name": "python3"
  },
  "language_info": {
   "codemirror_mode": {
    "name": "ipython",
    "version": 3
   },
   "file_extension": ".py",
   "mimetype": "text/x-python",
   "name": "python",
   "nbconvert_exporter": "python",
   "pygments_lexer": "ipython3",
   "version": "3.8.5"
  },
  "toc-autonumbering": false,
  "toc-showcode": false,
  "toc-showmarkdowntxt": false,
  "toc-showtags": false
 },
 "nbformat": 4,
 "nbformat_minor": 4
}
