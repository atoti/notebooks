{
 "cells": [
  {
   "cell_type": "markdown",
   "metadata": {},
   "source": [
    "# SA-CCR Demo\n",
    "\n",
    "## Imports and session creation\n"
   ]
  },
  {
   "cell_type": "code",
   "execution_count": 1,
   "metadata": {},
   "outputs": [],
   "source": [
    "import atoti as tt\n",
    "import datetime as dt\n",
    "import datetime\n",
    "from math import pi, sqrt\n",
    "import numpy as np\n",
    "from pandas.tseries.offsets import BDay\n",
    "import pandas as pd"
   ]
  },
  {
   "cell_type": "code",
   "execution_count": 2,
   "metadata": {},
   "outputs": [
    {
     "data": {
      "text/plain": [
       "'http://localhost:53962'"
      ]
     },
     "execution_count": 2,
     "metadata": {},
     "output_type": "execute_result"
    }
   ],
   "source": [
    "config = tt.config.create_config(metadata_db=\"./metadata.db\")\n",
    "session = tt.create_session(config = config)\n",
    "session.url"
   ]
  },
  {
   "cell_type": "markdown",
   "metadata": {},
   "source": [
    "## Data Loading"
   ]
  },
  {
   "cell_type": "code",
   "execution_count": 3,
   "metadata": {},
   "outputs": [],
   "source": [
    "number_of_days_in_year = 365.25\n",
    "number_of_dates = 5\n",
    "today =  dt.date(2020, 1, 13)\n",
    "dates = []\n",
    "for i in range(number_of_dates):\n",
    "    dates.append((today + BDay(i)))\n",
    "\n",
    "data_folder = \"s3://data.atoti.io/notebooks/sa-ccr/\"\n",
    "data_folder_static = data_folder + \"static/\"\n",
    "data_folder_generated = data_folder + \"inverted/\"\n",
    "data_folder_simulations = data_folder + \"simulations/\""
   ]
  },
  {
   "cell_type": "code",
   "execution_count": 4,
   "metadata": {},
   "outputs": [],
   "source": [
    "#Creating the session and loading the data files into stores\n",
    "def date_str(date):\n",
    "    return str(date)[0:10]\n",
    "\n",
    "store = session.read_csv(\n",
    "    data_folder_generated + \"trades_preprocessed/trades_preprocessed_2020-01-13.csv\",\n",
    "    keys = [\"AsOfDate\",\"TradeId\"],\n",
    "    types= {\n",
    "        \"Notional\": tt.types.DOUBLE,\n",
    "        \"MarketValue\": tt.types.DOUBLE,\n",
    "        \"AsOfDate\": tt.types.LOCAL_DATE,\n",
    "        \"Mi\": tt.types.LOCAL_DATE,\n",
    "        \"Si\": tt.types.LOCAL_DATE,\n",
    "        \"Ti\": tt.types.LOCAL_DATE,\n",
    "        \"Ei\": tt.types.LOCAL_DATE\n",
    "}\n",
    ")\n",
    "\n",
    "books_store = session.read_csv(\n",
    "    data_folder_generated + \"books/books_2020-01-13.csv\", \n",
    "    keys = [\"AsOfDate\",\"BookId\"]\n",
    ")\n",
    "counterparties_store = session.read_csv(\n",
    "    data_folder_generated + \"counterparties/counterparties_2020-01-13.csv\", \n",
    "    keys = [\"AsOfDate\",\"CounterpartyId\"]\n",
    ") \n",
    "countries_store = session.read_csv(\n",
    "    data_folder_generated + \"countries.csv\", keys = [\"Country\"]\n",
    ")\n",
    "desks_store = session.read_csv(\n",
    "    data_folder_generated + \"desks/desks_2020-01-13.csv\", \n",
    "    keys = [\"AsOfDate\",\"DeskId\"]\n",
    ")\n",
    "nettingSets_store = session.read_csv(\n",
    "    data_folder_generated + \"nettingSets/nettingSets_2020-01-13.csv\", \n",
    "    keys = [\"AsOfDate\",\"NettingId\"], \n",
    "    types = {\"MPOR\": tt.types.DOUBLE , \"Collateral\": tt.types.DOUBLE}\n",
    ")\n",
    "products_store = session.read_csv(\n",
    "    data_folder_generated + \"products/products_2020-01-13.csv\",\n",
    "    keys = [\"ProductId\"]\n",
    ")\n",
    "supervisoryParameters_store = session.read_csv(\n",
    "    data_folder_static + \"supervisoryParameters.csv\",\n",
    "    keys = [\"AssetClass\",\"Subclass\"]\n",
    ")\n",
    "\n",
    "for i in range(14,18):\n",
    "    store.load_csv(data_folder_generated + \"trades_preprocessed/trades_preprocessed_2020-01-\" \n",
    "                   + str(i) + \".csv\")\n",
    "    books_store.load_csv(data_folder_generated + \"books/books_2020-01-\"\n",
    "                         + str(i) + \".csv\")\n",
    "    counterparties_store.load_csv(data_folder_generated + \"counterparties/counterparties_2020-01-\"\n",
    "                                  + str(i) + \".csv\")\n",
    "    desks_store.load_csv(data_folder_generated + \"desks/desks_2020-01-\"\n",
    "                         + str(i) + \".csv\")\n",
    "    nettingSets_store.load_csv(data_folder_generated + \"nettingSets/nettingSets_2020-01-\"\n",
    "                               + str(i) + \".csv\")\n",
    "    products_store.load_csv(data_folder_generated + \"products/products_2020-01-\"\n",
    "                            + str(i) + \".csv\")\n",
    "\n",
    "\n",
    "session.load_all_data()"
   ]
  },
  {
   "cell_type": "code",
   "execution_count": 5,
   "metadata": {},
   "outputs": [
    {
     "data": {
      "text/html": [
       "<div>\n",
       "<style scoped>\n",
       "    .dataframe tbody tr th:only-of-type {\n",
       "        vertical-align: middle;\n",
       "    }\n",
       "\n",
       "    .dataframe tbody tr th {\n",
       "        vertical-align: top;\n",
       "    }\n",
       "\n",
       "    .dataframe thead th {\n",
       "        text-align: right;\n",
       "    }\n",
       "</style>\n",
       "<table border=\"1\" class=\"dataframe\">\n",
       "  <thead>\n",
       "    <tr style=\"text-align: right;\">\n",
       "      <th></th>\n",
       "      <th></th>\n",
       "      <th>ProductId</th>\n",
       "      <th>NettingSetId</th>\n",
       "      <th>BankEntityId</th>\n",
       "      <th>BookId</th>\n",
       "      <th>Direction</th>\n",
       "      <th>Notional</th>\n",
       "      <th>MarketValue</th>\n",
       "      <th>InputCurrency</th>\n",
       "      <th>Instrument</th>\n",
       "      <th>AssetClass</th>\n",
       "      <th>...</th>\n",
       "      <th>Underlying Price</th>\n",
       "      <th>Attachment</th>\n",
       "      <th>Detachment</th>\n",
       "      <th>IndependentAmount</th>\n",
       "      <th>Fund</th>\n",
       "      <th>Mi_pd</th>\n",
       "      <th>MaturityBuckets</th>\n",
       "      <th>RiskClass</th>\n",
       "      <th>Hedge_Set</th>\n",
       "      <th>SP_subclass</th>\n",
       "    </tr>\n",
       "    <tr>\n",
       "      <th>AsOfDate</th>\n",
       "      <th>TradeId</th>\n",
       "      <th></th>\n",
       "      <th></th>\n",
       "      <th></th>\n",
       "      <th></th>\n",
       "      <th></th>\n",
       "      <th></th>\n",
       "      <th></th>\n",
       "      <th></th>\n",
       "      <th></th>\n",
       "      <th></th>\n",
       "      <th></th>\n",
       "      <th></th>\n",
       "      <th></th>\n",
       "      <th></th>\n",
       "      <th></th>\n",
       "      <th></th>\n",
       "      <th></th>\n",
       "      <th></th>\n",
       "      <th></th>\n",
       "      <th></th>\n",
       "      <th></th>\n",
       "    </tr>\n",
       "  </thead>\n",
       "  <tbody>\n",
       "    <tr>\n",
       "      <th rowspan=\"5\" valign=\"top\">2020-01-13</th>\n",
       "      <th>t1</th>\n",
       "      <td>prod1</td>\n",
       "      <td>EX1</td>\n",
       "      <td>1</td>\n",
       "      <td>book1</td>\n",
       "      <td>Short</td>\n",
       "      <td>30000000.0</td>\n",
       "      <td>-400.0</td>\n",
       "      <td>GBP</td>\n",
       "      <td>forward</td>\n",
       "      <td>Commodity</td>\n",
       "      <td>...</td>\n",
       "      <td>NaN</td>\n",
       "      <td>NaN</td>\n",
       "      <td>NaN</td>\n",
       "      <td>NaN</td>\n",
       "      <td>Fund_0</td>\n",
       "      <td>1461</td>\n",
       "      <td>2</td>\n",
       "      <td>Commodity</td>\n",
       "      <td>Energy</td>\n",
       "      <td>Electricity</td>\n",
       "    </tr>\n",
       "    <tr>\n",
       "      <th>t2</th>\n",
       "      <td>prod2</td>\n",
       "      <td>EX1</td>\n",
       "      <td>1</td>\n",
       "      <td>book1</td>\n",
       "      <td>Long</td>\n",
       "      <td>46000000.0</td>\n",
       "      <td>0.0</td>\n",
       "      <td>GBP</td>\n",
       "      <td>CDS</td>\n",
       "      <td>Credit Index</td>\n",
       "      <td>...</td>\n",
       "      <td>NaN</td>\n",
       "      <td>NaN</td>\n",
       "      <td>NaN</td>\n",
       "      <td>NaN</td>\n",
       "      <td>Fund_1</td>\n",
       "      <td>2922</td>\n",
       "      <td>3</td>\n",
       "      <td>Credit</td>\n",
       "      <td>Credit</td>\n",
       "      <td>SG</td>\n",
       "    </tr>\n",
       "    <tr>\n",
       "      <th>t3</th>\n",
       "      <td>prod3</td>\n",
       "      <td>EX1</td>\n",
       "      <td>1</td>\n",
       "      <td>book1</td>\n",
       "      <td>Long</td>\n",
       "      <td>6700.0</td>\n",
       "      <td>39760000.0</td>\n",
       "      <td>GBP</td>\n",
       "      <td>Cash Equity</td>\n",
       "      <td>Equity Single Name</td>\n",
       "      <td>...</td>\n",
       "      <td>5934.328358</td>\n",
       "      <td>NaN</td>\n",
       "      <td>NaN</td>\n",
       "      <td>NaN</td>\n",
       "      <td>Fund_2</td>\n",
       "      <td>10958</td>\n",
       "      <td>3</td>\n",
       "      <td>Equity</td>\n",
       "      <td>Equity</td>\n",
       "      <td>N/A</td>\n",
       "    </tr>\n",
       "    <tr>\n",
       "      <th>t4</th>\n",
       "      <td>prod4</td>\n",
       "      <td>EX1</td>\n",
       "      <td>1</td>\n",
       "      <td>book1</td>\n",
       "      <td>Short</td>\n",
       "      <td>36000000.0</td>\n",
       "      <td>-11000.0</td>\n",
       "      <td>GBP</td>\n",
       "      <td>swap</td>\n",
       "      <td>Interest Rate</td>\n",
       "      <td>...</td>\n",
       "      <td>NaN</td>\n",
       "      <td>NaN</td>\n",
       "      <td>NaN</td>\n",
       "      <td>NaN</td>\n",
       "      <td>Fund_3</td>\n",
       "      <td>4749</td>\n",
       "      <td>3</td>\n",
       "      <td>Interest Rate</td>\n",
       "      <td>JPY</td>\n",
       "      <td>N/A</td>\n",
       "    </tr>\n",
       "    <tr>\n",
       "      <th>t5</th>\n",
       "      <td>prod5</td>\n",
       "      <td>EX1</td>\n",
       "      <td>1</td>\n",
       "      <td>book1</td>\n",
       "      <td>Long</td>\n",
       "      <td>10000000.0</td>\n",
       "      <td>150.0</td>\n",
       "      <td>GBP</td>\n",
       "      <td>forward</td>\n",
       "      <td>Commodity</td>\n",
       "      <td>...</td>\n",
       "      <td>NaN</td>\n",
       "      <td>NaN</td>\n",
       "      <td>NaN</td>\n",
       "      <td>NaN</td>\n",
       "      <td>Fund_4</td>\n",
       "      <td>1461</td>\n",
       "      <td>2</td>\n",
       "      <td>Commodity</td>\n",
       "      <td>Energy</td>\n",
       "      <td>Electricity</td>\n",
       "    </tr>\n",
       "  </tbody>\n",
       "</table>\n",
       "<p>5 rows × 29 columns</p>\n",
       "</div>"
      ],
      "text/plain": [
       "                   ProductId NettingSetId  BankEntityId BookId Direction  \\\n",
       "AsOfDate   TradeId                                                         \n",
       "2020-01-13 t1          prod1          EX1             1  book1     Short   \n",
       "           t2          prod2          EX1             1  book1      Long   \n",
       "           t3          prod3          EX1             1  book1      Long   \n",
       "           t4          prod4          EX1             1  book1     Short   \n",
       "           t5          prod5          EX1             1  book1      Long   \n",
       "\n",
       "                      Notional  MarketValue InputCurrency   Instrument  \\\n",
       "AsOfDate   TradeId                                                       \n",
       "2020-01-13 t1       30000000.0       -400.0           GBP      forward   \n",
       "           t2       46000000.0          0.0           GBP          CDS   \n",
       "           t3           6700.0   39760000.0           GBP  Cash Equity   \n",
       "           t4       36000000.0     -11000.0           GBP         swap   \n",
       "           t5       10000000.0        150.0           GBP      forward   \n",
       "\n",
       "                            AssetClass  ... Underlying Price  Attachment  \\\n",
       "AsOfDate   TradeId                      ...                                \n",
       "2020-01-13 t1                Commodity  ...              NaN         NaN   \n",
       "           t2             Credit Index  ...              NaN         NaN   \n",
       "           t3       Equity Single Name  ...      5934.328358         NaN   \n",
       "           t4            Interest Rate  ...              NaN         NaN   \n",
       "           t5                Commodity  ...              NaN         NaN   \n",
       "\n",
       "                   Detachment IndependentAmount    Fund  Mi_pd  \\\n",
       "AsOfDate   TradeId                                               \n",
       "2020-01-13 t1             NaN               NaN  Fund_0   1461   \n",
       "           t2             NaN               NaN  Fund_1   2922   \n",
       "           t3             NaN               NaN  Fund_2  10958   \n",
       "           t4             NaN               NaN  Fund_3   4749   \n",
       "           t5             NaN               NaN  Fund_4   1461   \n",
       "\n",
       "                   MaturityBuckets      RiskClass  Hedge_Set  SP_subclass  \n",
       "AsOfDate   TradeId                                                         \n",
       "2020-01-13 t1                    2      Commodity     Energy  Electricity  \n",
       "           t2                    3         Credit     Credit           SG  \n",
       "           t3                    3         Equity     Equity          N/A  \n",
       "           t4                    3  Interest Rate        JPY          N/A  \n",
       "           t5                    2      Commodity     Energy  Electricity  \n",
       "\n",
       "[5 rows x 29 columns]"
      ]
     },
     "execution_count": 5,
     "metadata": {},
     "output_type": "execute_result"
    }
   ],
   "source": [
    "store.head()"
   ]
  },
  {
   "cell_type": "code",
   "execution_count": 6,
   "metadata": {},
   "outputs": [],
   "source": [
    "#Making the appropriate jointures\n",
    "\n",
    "books_store.join(desks_store)\n",
    "store.join(books_store, mapping = {\"BookId\": \"BookId\", \"AsOfDate\": \"AsOfDate\"})\n",
    "store.join(products_store, mapping = {\"ProductId\": \"ProductId\", \"AsOfDate\": \"AsOfDate\"})\n",
    "store.join(\n",
    "    nettingSets_store, mapping = {\"NettingSetId\": \"NettingId\", \"AsOfDate\": \"AsOfDate\"}\n",
    ")\n",
    "store.join(\n",
    "    supervisoryParameters_store, \n",
    "    mapping = {\"AssetClass\": \"AssetClass\", \"SP_subclass\": \"Subclass\"}\n",
    ")\n",
    "nettingSets_store.join(\n",
    "    counterparties_store, \n",
    "    mapping = {\"CounterpartyId\": \"CounterpartyId\", \"AsOfDate\": \"AsOfDate\"}\n",
    ")\n",
    "counterparties_store.join(countries_store, mapping = {\"CountryOfAddress\": \"Country\"})"
   ]
  },
  {
   "cell_type": "code",
   "execution_count": 7,
   "metadata": {},
   "outputs": [
    {
     "data": {
      "text/html": [
       "<div>\n",
       "<style scoped>\n",
       "    .dataframe tbody tr th:only-of-type {\n",
       "        vertical-align: middle;\n",
       "    }\n",
       "\n",
       "    .dataframe tbody tr th {\n",
       "        vertical-align: top;\n",
       "    }\n",
       "\n",
       "    .dataframe thead th {\n",
       "        text-align: right;\n",
       "    }\n",
       "</style>\n",
       "<table border=\"1\" class=\"dataframe\">\n",
       "  <thead>\n",
       "    <tr style=\"text-align: right;\">\n",
       "      <th></th>\n",
       "      <th></th>\n",
       "      <th>ProductId</th>\n",
       "      <th>NettingSetId</th>\n",
       "      <th>BankEntityId</th>\n",
       "      <th>BookId</th>\n",
       "      <th>Direction</th>\n",
       "      <th>Notional</th>\n",
       "      <th>MarketValue</th>\n",
       "      <th>InputCurrency</th>\n",
       "      <th>Instrument</th>\n",
       "      <th>AssetClass</th>\n",
       "      <th>...</th>\n",
       "      <th>Underlying Price</th>\n",
       "      <th>Attachment</th>\n",
       "      <th>Detachment</th>\n",
       "      <th>IndependentAmount</th>\n",
       "      <th>Fund</th>\n",
       "      <th>Mi_pd</th>\n",
       "      <th>MaturityBuckets</th>\n",
       "      <th>RiskClass</th>\n",
       "      <th>Hedge_Set</th>\n",
       "      <th>SP_subclass</th>\n",
       "    </tr>\n",
       "    <tr>\n",
       "      <th>AsOfDate</th>\n",
       "      <th>TradeId</th>\n",
       "      <th></th>\n",
       "      <th></th>\n",
       "      <th></th>\n",
       "      <th></th>\n",
       "      <th></th>\n",
       "      <th></th>\n",
       "      <th></th>\n",
       "      <th></th>\n",
       "      <th></th>\n",
       "      <th></th>\n",
       "      <th></th>\n",
       "      <th></th>\n",
       "      <th></th>\n",
       "      <th></th>\n",
       "      <th></th>\n",
       "      <th></th>\n",
       "      <th></th>\n",
       "      <th></th>\n",
       "      <th></th>\n",
       "      <th></th>\n",
       "      <th></th>\n",
       "    </tr>\n",
       "  </thead>\n",
       "  <tbody>\n",
       "    <tr>\n",
       "      <th rowspan=\"5\" valign=\"top\">2020-01-13</th>\n",
       "      <th>t1</th>\n",
       "      <td>prod1</td>\n",
       "      <td>EX1</td>\n",
       "      <td>1</td>\n",
       "      <td>book1</td>\n",
       "      <td>Short</td>\n",
       "      <td>30000000.0</td>\n",
       "      <td>-400.0</td>\n",
       "      <td>GBP</td>\n",
       "      <td>forward</td>\n",
       "      <td>Commodity</td>\n",
       "      <td>...</td>\n",
       "      <td>NaN</td>\n",
       "      <td>NaN</td>\n",
       "      <td>NaN</td>\n",
       "      <td>NaN</td>\n",
       "      <td>Fund_0</td>\n",
       "      <td>1461</td>\n",
       "      <td>2</td>\n",
       "      <td>Commodity</td>\n",
       "      <td>Energy</td>\n",
       "      <td>Electricity</td>\n",
       "    </tr>\n",
       "    <tr>\n",
       "      <th>t2</th>\n",
       "      <td>prod2</td>\n",
       "      <td>EX1</td>\n",
       "      <td>1</td>\n",
       "      <td>book1</td>\n",
       "      <td>Long</td>\n",
       "      <td>46000000.0</td>\n",
       "      <td>0.0</td>\n",
       "      <td>GBP</td>\n",
       "      <td>CDS</td>\n",
       "      <td>Credit Index</td>\n",
       "      <td>...</td>\n",
       "      <td>NaN</td>\n",
       "      <td>NaN</td>\n",
       "      <td>NaN</td>\n",
       "      <td>NaN</td>\n",
       "      <td>Fund_1</td>\n",
       "      <td>2922</td>\n",
       "      <td>3</td>\n",
       "      <td>Credit</td>\n",
       "      <td>Credit</td>\n",
       "      <td>SG</td>\n",
       "    </tr>\n",
       "    <tr>\n",
       "      <th>t3</th>\n",
       "      <td>prod3</td>\n",
       "      <td>EX1</td>\n",
       "      <td>1</td>\n",
       "      <td>book1</td>\n",
       "      <td>Long</td>\n",
       "      <td>6700.0</td>\n",
       "      <td>39760000.0</td>\n",
       "      <td>GBP</td>\n",
       "      <td>Cash Equity</td>\n",
       "      <td>Equity Single Name</td>\n",
       "      <td>...</td>\n",
       "      <td>5934.328358</td>\n",
       "      <td>NaN</td>\n",
       "      <td>NaN</td>\n",
       "      <td>NaN</td>\n",
       "      <td>Fund_2</td>\n",
       "      <td>10958</td>\n",
       "      <td>3</td>\n",
       "      <td>Equity</td>\n",
       "      <td>Equity</td>\n",
       "      <td>N/A</td>\n",
       "    </tr>\n",
       "    <tr>\n",
       "      <th>t4</th>\n",
       "      <td>prod4</td>\n",
       "      <td>EX1</td>\n",
       "      <td>1</td>\n",
       "      <td>book1</td>\n",
       "      <td>Short</td>\n",
       "      <td>36000000.0</td>\n",
       "      <td>-11000.0</td>\n",
       "      <td>GBP</td>\n",
       "      <td>swap</td>\n",
       "      <td>Interest Rate</td>\n",
       "      <td>...</td>\n",
       "      <td>NaN</td>\n",
       "      <td>NaN</td>\n",
       "      <td>NaN</td>\n",
       "      <td>NaN</td>\n",
       "      <td>Fund_3</td>\n",
       "      <td>4749</td>\n",
       "      <td>3</td>\n",
       "      <td>Interest Rate</td>\n",
       "      <td>JPY</td>\n",
       "      <td>N/A</td>\n",
       "    </tr>\n",
       "    <tr>\n",
       "      <th>t5</th>\n",
       "      <td>prod5</td>\n",
       "      <td>EX1</td>\n",
       "      <td>1</td>\n",
       "      <td>book1</td>\n",
       "      <td>Long</td>\n",
       "      <td>10000000.0</td>\n",
       "      <td>150.0</td>\n",
       "      <td>GBP</td>\n",
       "      <td>forward</td>\n",
       "      <td>Commodity</td>\n",
       "      <td>...</td>\n",
       "      <td>NaN</td>\n",
       "      <td>NaN</td>\n",
       "      <td>NaN</td>\n",
       "      <td>NaN</td>\n",
       "      <td>Fund_4</td>\n",
       "      <td>1461</td>\n",
       "      <td>2</td>\n",
       "      <td>Commodity</td>\n",
       "      <td>Energy</td>\n",
       "      <td>Electricity</td>\n",
       "    </tr>\n",
       "  </tbody>\n",
       "</table>\n",
       "<p>5 rows × 29 columns</p>\n",
       "</div>"
      ],
      "text/plain": [
       "                   ProductId NettingSetId  BankEntityId BookId Direction  \\\n",
       "AsOfDate   TradeId                                                         \n",
       "2020-01-13 t1          prod1          EX1             1  book1     Short   \n",
       "           t2          prod2          EX1             1  book1      Long   \n",
       "           t3          prod3          EX1             1  book1      Long   \n",
       "           t4          prod4          EX1             1  book1     Short   \n",
       "           t5          prod5          EX1             1  book1      Long   \n",
       "\n",
       "                      Notional  MarketValue InputCurrency   Instrument  \\\n",
       "AsOfDate   TradeId                                                       \n",
       "2020-01-13 t1       30000000.0       -400.0           GBP      forward   \n",
       "           t2       46000000.0          0.0           GBP          CDS   \n",
       "           t3           6700.0   39760000.0           GBP  Cash Equity   \n",
       "           t4       36000000.0     -11000.0           GBP         swap   \n",
       "           t5       10000000.0        150.0           GBP      forward   \n",
       "\n",
       "                            AssetClass  ... Underlying Price  Attachment  \\\n",
       "AsOfDate   TradeId                      ...                                \n",
       "2020-01-13 t1                Commodity  ...              NaN         NaN   \n",
       "           t2             Credit Index  ...              NaN         NaN   \n",
       "           t3       Equity Single Name  ...      5934.328358         NaN   \n",
       "           t4            Interest Rate  ...              NaN         NaN   \n",
       "           t5                Commodity  ...              NaN         NaN   \n",
       "\n",
       "                   Detachment IndependentAmount    Fund  Mi_pd  \\\n",
       "AsOfDate   TradeId                                               \n",
       "2020-01-13 t1             NaN               NaN  Fund_0   1461   \n",
       "           t2             NaN               NaN  Fund_1   2922   \n",
       "           t3             NaN               NaN  Fund_2  10958   \n",
       "           t4             NaN               NaN  Fund_3   4749   \n",
       "           t5             NaN               NaN  Fund_4   1461   \n",
       "\n",
       "                   MaturityBuckets      RiskClass  Hedge_Set  SP_subclass  \n",
       "AsOfDate   TradeId                                                         \n",
       "2020-01-13 t1                    2      Commodity     Energy  Electricity  \n",
       "           t2                    3         Credit     Credit           SG  \n",
       "           t3                    3         Equity     Equity          N/A  \n",
       "           t4                    3  Interest Rate        JPY          N/A  \n",
       "           t5                    2      Commodity     Energy  Electricity  \n",
       "\n",
       "[5 rows x 29 columns]"
      ]
     },
     "execution_count": 7,
     "metadata": {},
     "output_type": "execute_result"
    }
   ],
   "source": [
    "store.head()"
   ]
  },
  {
   "cell_type": "markdown",
   "metadata": {},
   "source": [
    "## Cube creation, basic hierarchies and measures"
   ]
  },
  {
   "cell_type": "code",
   "execution_count": 8,
   "metadata": {},
   "outputs": [
    {
     "data": {
      "text/html": [
       "<div>\n",
       "<style scoped>\n",
       "    .dataframe tbody tr th:only-of-type {\n",
       "        vertical-align: middle;\n",
       "    }\n",
       "\n",
       "    .dataframe tbody tr th {\n",
       "        vertical-align: top;\n",
       "    }\n",
       "\n",
       "    .dataframe thead th {\n",
       "        text-align: right;\n",
       "    }\n",
       "</style>\n",
       "<table border=\"1\" class=\"dataframe\">\n",
       "  <thead>\n",
       "    <tr style=\"text-align: right;\">\n",
       "      <th></th>\n",
       "      <th>contributors.COUNT</th>\n",
       "    </tr>\n",
       "  </thead>\n",
       "  <tbody>\n",
       "    <tr>\n",
       "      <th>0</th>\n",
       "      <td>2548</td>\n",
       "    </tr>\n",
       "  </tbody>\n",
       "</table>\n",
       "</div>"
      ],
      "text/plain": [
       "   contributors.COUNT\n",
       "0                2548"
      ]
     },
     "execution_count": 8,
     "metadata": {},
     "output_type": "execute_result"
    }
   ],
   "source": [
    "cube = session.create_cube(store, \"main_cube\", mode = \"no_measures\")\n",
    "cube.query()"
   ]
  },
  {
   "cell_type": "code",
   "execution_count": 9,
   "metadata": {},
   "outputs": [
    {
     "data": {
      "image/svg+xml": [
       "<svg xmlns=\"http://www.w3.org/2000/svg\" xmlns:xlink=\"http://www.w3.org/1999/xlink\" width=\"1527px\" height=\"1334px\" viewBox=\"0.00 0.00 1527.00 1334.00\">\n",
       "<g id=\"graph0\" class=\"graph\" transform=\"scale(1.0 1.0) rotate(0) translate(4 1330)\">\n",
       "<title>main_cube schema</title>\n",
       "<polygon fill=\"white\" stroke=\"none\" points=\"-4,4 -4,-1330 1523,-1330 1523,4 -4,4\"/>\n",
       "<!-- trades_preprocessed_2020&#45;01&#45;13.csv -->\n",
       "<g id=\"node1\" class=\"node\"><title>trades_preprocessed_2020-01-13.csv</title>\n",
       "<polygon fill=\"none\" stroke=\"black\" points=\"8.5,-1285 8.5,-1322 257.5,-1322 257.5,-1285 8.5,-1285\"/>\n",
       "<text text-anchor=\"start\" x=\"19.5\" y=\"-1300.8\" font-family=\"Times New Roman,serif\" font-weight=\"bold\" font-size=\"14.00\">trades_preprocessed_2020-01-13.csv</text>\n",
       "<polygon fill=\"none\" stroke=\"black\" points=\"8.5,-1248 8.5,-1285 257.5,-1285 257.5,-1248 8.5,-1248\"/>\n",
       "<text text-anchor=\"start\" x=\"19.5\" y=\"-1263.8\" font-family=\"Times New Roman,serif\" font-weight=\"bold\" font-size=\"14.00\">Key</text>\n",
       "<text text-anchor=\"start\" x=\"44.5\" y=\"-1263.8\" font-family=\"Times New Roman,serif\" font-size=\"14.00\">  AsOfDate </text>\n",
       "<text text-anchor=\"start\" x=\"112.5\" y=\"-1263.8\" font-family=\"Times New Roman,serif\" font-style=\"italic\" font-size=\"14.00\">LocalDate</text>\n",
       "<text text-anchor=\"start\" x=\"173.5\" y=\"-1263.8\" font-family=\"Times New Roman,serif\" font-size=\"14.00\"> </text>\n",
       "<polygon fill=\"none\" stroke=\"black\" points=\"8.5,-1211 8.5,-1248 257.5,-1248 257.5,-1211 8.5,-1211\"/>\n",
       "<text text-anchor=\"start\" x=\"19.5\" y=\"-1226.8\" font-family=\"Times New Roman,serif\" font-weight=\"bold\" font-size=\"14.00\">Key</text>\n",
       "<text text-anchor=\"start\" x=\"44.5\" y=\"-1226.8\" font-family=\"Times New Roman,serif\" font-size=\"14.00\">  TradeId </text>\n",
       "<text text-anchor=\"start\" x=\"101.5\" y=\"-1226.8\" font-family=\"Times New Roman,serif\" font-style=\"italic\" font-size=\"14.00\">String</text>\n",
       "<text text-anchor=\"start\" x=\"137.5\" y=\"-1226.8\" font-family=\"Times New Roman,serif\" font-size=\"14.00\"> </text>\n",
       "<polygon fill=\"none\" stroke=\"black\" points=\"8.5,-1174 8.5,-1211 257.5,-1211 257.5,-1174 8.5,-1174\"/>\n",
       "<text text-anchor=\"start\" x=\"19.5\" y=\"-1189.8\" font-family=\"Times New Roman,serif\" font-size=\"14.00\">ProductId </text>\n",
       "<text text-anchor=\"start\" x=\"80.5\" y=\"-1189.8\" font-family=\"Times New Roman,serif\" font-style=\"italic\" font-size=\"14.00\">String</text>\n",
       "<text text-anchor=\"start\" x=\"116.5\" y=\"-1189.8\" font-family=\"Times New Roman,serif\" font-size=\"14.00\"> </text>\n",
       "<polygon fill=\"none\" stroke=\"black\" points=\"8.5,-1137 8.5,-1174 257.5,-1174 257.5,-1137 8.5,-1137\"/>\n",
       "<text text-anchor=\"start\" x=\"19.5\" y=\"-1152.8\" font-family=\"Times New Roman,serif\" font-size=\"14.00\">NettingSetId </text>\n",
       "<text text-anchor=\"start\" x=\"93.5\" y=\"-1152.8\" font-family=\"Times New Roman,serif\" font-style=\"italic\" font-size=\"14.00\">String</text>\n",
       "<text text-anchor=\"start\" x=\"129.5\" y=\"-1152.8\" font-family=\"Times New Roman,serif\" font-size=\"14.00\"> </text>\n",
       "<polygon fill=\"none\" stroke=\"black\" points=\"8.5,-1100 8.5,-1137 257.5,-1137 257.5,-1100 8.5,-1100\"/>\n",
       "<text text-anchor=\"start\" x=\"19.5\" y=\"-1115.8\" font-family=\"Times New Roman,serif\" font-size=\"14.00\">BankEntityId </text>\n",
       "<text text-anchor=\"start\" x=\"96.5\" y=\"-1115.8\" font-family=\"Times New Roman,serif\" font-style=\"italic\" font-size=\"14.00\">int</text>\n",
       "<text text-anchor=\"start\" x=\"112.5\" y=\"-1115.8\" font-family=\"Times New Roman,serif\" font-size=\"14.00\"> </text>\n",
       "<polygon fill=\"none\" stroke=\"black\" points=\"8.5,-1063 8.5,-1100 257.5,-1100 257.5,-1063 8.5,-1063\"/>\n",
       "<text text-anchor=\"start\" x=\"19.5\" y=\"-1078.8\" font-family=\"Times New Roman,serif\" font-size=\"14.00\">BookId </text>\n",
       "<text text-anchor=\"start\" x=\"66.5\" y=\"-1078.8\" font-family=\"Times New Roman,serif\" font-style=\"italic\" font-size=\"14.00\">String</text>\n",
       "<text text-anchor=\"start\" x=\"102.5\" y=\"-1078.8\" font-family=\"Times New Roman,serif\" font-size=\"14.00\"> </text>\n",
       "<polygon fill=\"none\" stroke=\"black\" points=\"8.5,-1026 8.5,-1063 257.5,-1063 257.5,-1026 8.5,-1026\"/>\n",
       "<text text-anchor=\"start\" x=\"19.5\" y=\"-1041.8\" font-family=\"Times New Roman,serif\" font-size=\"14.00\">Direction </text>\n",
       "<text text-anchor=\"start\" x=\"74.5\" y=\"-1041.8\" font-family=\"Times New Roman,serif\" font-style=\"italic\" font-size=\"14.00\">String</text>\n",
       "<text text-anchor=\"start\" x=\"110.5\" y=\"-1041.8\" font-family=\"Times New Roman,serif\" font-size=\"14.00\"> </text>\n",
       "<polygon fill=\"none\" stroke=\"black\" points=\"8.5,-989 8.5,-1026 257.5,-1026 257.5,-989 8.5,-989\"/>\n",
       "<text text-anchor=\"start\" x=\"19.5\" y=\"-1004.8\" font-family=\"Times New Roman,serif\" font-size=\"14.00\">Notional </text>\n",
       "<text text-anchor=\"start\" x=\"71.5\" y=\"-1004.8\" font-family=\"Times New Roman,serif\" font-style=\"italic\" font-size=\"14.00\">double</text>\n",
       "<text text-anchor=\"start\" x=\"111.5\" y=\"-1004.8\" font-family=\"Times New Roman,serif\" font-size=\"14.00\"> </text>\n",
       "<polygon fill=\"none\" stroke=\"black\" points=\"8.5,-952 8.5,-989 257.5,-989 257.5,-952 8.5,-952\"/>\n",
       "<text text-anchor=\"start\" x=\"19.5\" y=\"-967.8\" font-family=\"Times New Roman,serif\" font-size=\"14.00\">MarketValue </text>\n",
       "<text text-anchor=\"start\" x=\"94.5\" y=\"-967.8\" font-family=\"Times New Roman,serif\" font-style=\"italic\" font-size=\"14.00\">double</text>\n",
       "<text text-anchor=\"start\" x=\"134.5\" y=\"-967.8\" font-family=\"Times New Roman,serif\" font-size=\"14.00\"> </text>\n",
       "<polygon fill=\"none\" stroke=\"black\" points=\"8.5,-915 8.5,-952 257.5,-952 257.5,-915 8.5,-915\"/>\n",
       "<text text-anchor=\"start\" x=\"19.5\" y=\"-930.8\" font-family=\"Times New Roman,serif\" font-size=\"14.00\">InputCurrency </text>\n",
       "<text text-anchor=\"start\" x=\"104.5\" y=\"-930.8\" font-family=\"Times New Roman,serif\" font-style=\"italic\" font-size=\"14.00\">String</text>\n",
       "<text text-anchor=\"start\" x=\"140.5\" y=\"-930.8\" font-family=\"Times New Roman,serif\" font-size=\"14.00\"> </text>\n",
       "<polygon fill=\"none\" stroke=\"black\" points=\"8.5,-878 8.5,-915 257.5,-915 257.5,-878 8.5,-878\"/>\n",
       "<text text-anchor=\"start\" x=\"19.5\" y=\"-893.8\" font-family=\"Times New Roman,serif\" font-size=\"14.00\">Instrument </text>\n",
       "<text text-anchor=\"start\" x=\"83.5\" y=\"-893.8\" font-family=\"Times New Roman,serif\" font-style=\"italic\" font-size=\"14.00\">String</text>\n",
       "<text text-anchor=\"start\" x=\"119.5\" y=\"-893.8\" font-family=\"Times New Roman,serif\" font-size=\"14.00\"> </text>\n",
       "<polygon fill=\"none\" stroke=\"black\" points=\"8.5,-841 8.5,-878 257.5,-878 257.5,-841 8.5,-841\"/>\n",
       "<text text-anchor=\"start\" x=\"19.5\" y=\"-856.8\" font-family=\"Times New Roman,serif\" font-size=\"14.00\">AssetClass </text>\n",
       "<text text-anchor=\"start\" x=\"86.5\" y=\"-856.8\" font-family=\"Times New Roman,serif\" font-style=\"italic\" font-size=\"14.00\">String</text>\n",
       "<text text-anchor=\"start\" x=\"122.5\" y=\"-856.8\" font-family=\"Times New Roman,serif\" font-size=\"14.00\"> </text>\n",
       "<polygon fill=\"none\" stroke=\"black\" points=\"8.5,-804 8.5,-841 257.5,-841 257.5,-804 8.5,-804\"/>\n",
       "<text text-anchor=\"start\" x=\"19.5\" y=\"-819.8\" font-family=\"Times New Roman,serif\" font-size=\"14.00\">SubClass </text>\n",
       "<text text-anchor=\"start\" x=\"77.5\" y=\"-819.8\" font-family=\"Times New Roman,serif\" font-style=\"italic\" font-size=\"14.00\">String</text>\n",
       "<text text-anchor=\"start\" x=\"113.5\" y=\"-819.8\" font-family=\"Times New Roman,serif\" font-size=\"14.00\"> </text>\n",
       "<polygon fill=\"none\" stroke=\"black\" points=\"8.5,-767 8.5,-804 257.5,-804 257.5,-767 8.5,-767\"/>\n",
       "<text text-anchor=\"start\" x=\"19.5\" y=\"-782.8\" font-family=\"Times New Roman,serif\" font-size=\"14.00\">OptionType </text>\n",
       "<text text-anchor=\"start\" x=\"92.5\" y=\"-782.8\" font-family=\"Times New Roman,serif\" font-style=\"italic\" font-size=\"14.00\">String</text>\n",
       "<text text-anchor=\"start\" x=\"128.5\" y=\"-782.8\" font-family=\"Times New Roman,serif\" font-size=\"14.00\"> </text>\n",
       "<polygon fill=\"none\" stroke=\"black\" points=\"8.5,-730 8.5,-767 257.5,-767 257.5,-730 8.5,-730\"/>\n",
       "<text text-anchor=\"start\" x=\"19.5\" y=\"-745.8\" font-family=\"Times New Roman,serif\" font-size=\"14.00\">Underlying </text>\n",
       "<text text-anchor=\"start\" x=\"84.5\" y=\"-745.8\" font-family=\"Times New Roman,serif\" font-style=\"italic\" font-size=\"14.00\">String</text>\n",
       "<text text-anchor=\"start\" x=\"120.5\" y=\"-745.8\" font-family=\"Times New Roman,serif\" font-size=\"14.00\"> </text>\n",
       "<polygon fill=\"none\" stroke=\"black\" points=\"8.5,-693 8.5,-730 257.5,-730 257.5,-693 8.5,-693\"/>\n",
       "<text text-anchor=\"start\" x=\"19.5\" y=\"-708.8\" font-family=\"Times New Roman,serif\" font-size=\"14.00\">UnderlyingType </text>\n",
       "<text text-anchor=\"start\" x=\"113.5\" y=\"-708.8\" font-family=\"Times New Roman,serif\" font-style=\"italic\" font-size=\"14.00\">String</text>\n",
       "<text text-anchor=\"start\" x=\"149.5\" y=\"-708.8\" font-family=\"Times New Roman,serif\" font-size=\"14.00\"> </text>\n",
       "<polygon fill=\"none\" stroke=\"black\" points=\"8.5,-656 8.5,-693 257.5,-693 257.5,-656 8.5,-656\"/>\n",
       "<text text-anchor=\"start\" x=\"19.5\" y=\"-671.8\" font-family=\"Times New Roman,serif\" font-size=\"14.00\">Si </text>\n",
       "<text text-anchor=\"start\" x=\"35.5\" y=\"-671.8\" font-family=\"Times New Roman,serif\" font-style=\"italic\" font-size=\"14.00\">LocalDate</text>\n",
       "<text text-anchor=\"start\" x=\"96.5\" y=\"-671.8\" font-family=\"Times New Roman,serif\" font-size=\"14.00\"> </text>\n",
       "<polygon fill=\"none\" stroke=\"black\" points=\"8.5,-619 8.5,-656 257.5,-656 257.5,-619 8.5,-619\"/>\n",
       "<text text-anchor=\"start\" x=\"19.5\" y=\"-634.8\" font-family=\"Times New Roman,serif\" font-size=\"14.00\">Ei </text>\n",
       "<text text-anchor=\"start\" x=\"35.5\" y=\"-634.8\" font-family=\"Times New Roman,serif\" font-style=\"italic\" font-size=\"14.00\">LocalDate</text>\n",
       "<text text-anchor=\"start\" x=\"96.5\" y=\"-634.8\" font-family=\"Times New Roman,serif\" font-size=\"14.00\"> </text>\n",
       "<polygon fill=\"none\" stroke=\"black\" points=\"8.5,-582 8.5,-619 257.5,-619 257.5,-582 8.5,-582\"/>\n",
       "<text text-anchor=\"start\" x=\"19.5\" y=\"-597.8\" font-family=\"Times New Roman,serif\" font-size=\"14.00\">Mi </text>\n",
       "<text text-anchor=\"start\" x=\"38.5\" y=\"-597.8\" font-family=\"Times New Roman,serif\" font-style=\"italic\" font-size=\"14.00\">LocalDate</text>\n",
       "<text text-anchor=\"start\" x=\"99.5\" y=\"-597.8\" font-family=\"Times New Roman,serif\" font-size=\"14.00\"> </text>\n",
       "<polygon fill=\"none\" stroke=\"black\" points=\"8.5,-545 8.5,-582 257.5,-582 257.5,-545 8.5,-545\"/>\n",
       "<text text-anchor=\"start\" x=\"19.5\" y=\"-560.8\" font-family=\"Times New Roman,serif\" font-size=\"14.00\">Ti </text>\n",
       "<text text-anchor=\"start\" x=\"35.5\" y=\"-560.8\" font-family=\"Times New Roman,serif\" font-style=\"italic\" font-size=\"14.00\">LocalDate</text>\n",
       "<text text-anchor=\"start\" x=\"96.5\" y=\"-560.8\" font-family=\"Times New Roman,serif\" font-size=\"14.00\"> </text>\n",
       "<polygon fill=\"none\" stroke=\"black\" points=\"8.5,-508 8.5,-545 257.5,-545 257.5,-508 8.5,-508\"/>\n",
       "<text text-anchor=\"start\" x=\"19.5\" y=\"-523.8\" font-family=\"Times New Roman,serif\" font-size=\"14.00\">Strike Price </text>\n",
       "<text text-anchor=\"start\" x=\"88.5\" y=\"-523.8\" font-family=\"Times New Roman,serif\" font-style=\"italic\" font-size=\"14.00\">double</text>\n",
       "<text text-anchor=\"start\" x=\"128.5\" y=\"-523.8\" font-family=\"Times New Roman,serif\" font-size=\"14.00\"> </text>\n",
       "<polygon fill=\"none\" stroke=\"black\" points=\"8.5,-471 8.5,-508 257.5,-508 257.5,-471 8.5,-471\"/>\n",
       "<text text-anchor=\"start\" x=\"19.5\" y=\"-486.8\" font-family=\"Times New Roman,serif\" font-size=\"14.00\">Underlying Price </text>\n",
       "<text text-anchor=\"start\" x=\"116.5\" y=\"-486.8\" font-family=\"Times New Roman,serif\" font-style=\"italic\" font-size=\"14.00\">double</text>\n",
       "<text text-anchor=\"start\" x=\"156.5\" y=\"-486.8\" font-family=\"Times New Roman,serif\" font-size=\"14.00\"> </text>\n",
       "<polygon fill=\"none\" stroke=\"black\" points=\"8.5,-434 8.5,-471 257.5,-471 257.5,-434 8.5,-434\"/>\n",
       "<text text-anchor=\"start\" x=\"19.5\" y=\"-449.8\" font-family=\"Times New Roman,serif\" font-size=\"14.00\">Attachment </text>\n",
       "<text text-anchor=\"start\" x=\"87.5\" y=\"-449.8\" font-family=\"Times New Roman,serif\" font-style=\"italic\" font-size=\"14.00\">double</text>\n",
       "<text text-anchor=\"start\" x=\"127.5\" y=\"-449.8\" font-family=\"Times New Roman,serif\" font-size=\"14.00\"> </text>\n",
       "<polygon fill=\"none\" stroke=\"black\" points=\"8.5,-397 8.5,-434 257.5,-434 257.5,-397 8.5,-397\"/>\n",
       "<text text-anchor=\"start\" x=\"19.5\" y=\"-412.8\" font-family=\"Times New Roman,serif\" font-size=\"14.00\">Detachment </text>\n",
       "<text text-anchor=\"start\" x=\"89.5\" y=\"-412.8\" font-family=\"Times New Roman,serif\" font-style=\"italic\" font-size=\"14.00\">double</text>\n",
       "<text text-anchor=\"start\" x=\"129.5\" y=\"-412.8\" font-family=\"Times New Roman,serif\" font-size=\"14.00\"> </text>\n",
       "<polygon fill=\"none\" stroke=\"black\" points=\"8.5,-360 8.5,-397 257.5,-397 257.5,-360 8.5,-360\"/>\n",
       "<text text-anchor=\"start\" x=\"19.5\" y=\"-375.8\" font-family=\"Times New Roman,serif\" font-size=\"14.00\">IndependentAmount </text>\n",
       "<text text-anchor=\"start\" x=\"137.5\" y=\"-375.8\" font-family=\"Times New Roman,serif\" font-style=\"italic\" font-size=\"14.00\">String</text>\n",
       "<text text-anchor=\"start\" x=\"173.5\" y=\"-375.8\" font-family=\"Times New Roman,serif\" font-size=\"14.00\"> </text>\n",
       "<polygon fill=\"none\" stroke=\"black\" points=\"8.5,-323 8.5,-360 257.5,-360 257.5,-323 8.5,-323\"/>\n",
       "<text text-anchor=\"start\" x=\"19.5\" y=\"-338.8\" font-family=\"Times New Roman,serif\" font-size=\"14.00\">Fund </text>\n",
       "<text text-anchor=\"start\" x=\"53.5\" y=\"-338.8\" font-family=\"Times New Roman,serif\" font-style=\"italic\" font-size=\"14.00\">String</text>\n",
       "<text text-anchor=\"start\" x=\"89.5\" y=\"-338.8\" font-family=\"Times New Roman,serif\" font-size=\"14.00\"> </text>\n",
       "<polygon fill=\"none\" stroke=\"black\" points=\"8.5,-286 8.5,-323 257.5,-323 257.5,-286 8.5,-286\"/>\n",
       "<text text-anchor=\"start\" x=\"19.5\" y=\"-301.8\" font-family=\"Times New Roman,serif\" font-size=\"14.00\">Mi_pd </text>\n",
       "<text text-anchor=\"start\" x=\"61.5\" y=\"-301.8\" font-family=\"Times New Roman,serif\" font-style=\"italic\" font-size=\"14.00\">int</text>\n",
       "<text text-anchor=\"start\" x=\"77.5\" y=\"-301.8\" font-family=\"Times New Roman,serif\" font-size=\"14.00\"> </text>\n",
       "<polygon fill=\"none\" stroke=\"black\" points=\"8.5,-249 8.5,-286 257.5,-286 257.5,-249 8.5,-249\"/>\n",
       "<text text-anchor=\"start\" x=\"19.5\" y=\"-264.8\" font-family=\"Times New Roman,serif\" font-size=\"14.00\">MaturityBuckets </text>\n",
       "<text text-anchor=\"start\" x=\"115.5\" y=\"-264.8\" font-family=\"Times New Roman,serif\" font-style=\"italic\" font-size=\"14.00\">int</text>\n",
       "<text text-anchor=\"start\" x=\"131.5\" y=\"-264.8\" font-family=\"Times New Roman,serif\" font-size=\"14.00\"> </text>\n",
       "<polygon fill=\"none\" stroke=\"black\" points=\"8.5,-212 8.5,-249 257.5,-249 257.5,-212 8.5,-212\"/>\n",
       "<text text-anchor=\"start\" x=\"19.5\" y=\"-227.8\" font-family=\"Times New Roman,serif\" font-size=\"14.00\">RiskClass </text>\n",
       "<text text-anchor=\"start\" x=\"80.5\" y=\"-227.8\" font-family=\"Times New Roman,serif\" font-style=\"italic\" font-size=\"14.00\">String</text>\n",
       "<text text-anchor=\"start\" x=\"116.5\" y=\"-227.8\" font-family=\"Times New Roman,serif\" font-size=\"14.00\"> </text>\n",
       "<polygon fill=\"none\" stroke=\"black\" points=\"8.5,-175 8.5,-212 257.5,-212 257.5,-175 8.5,-175\"/>\n",
       "<text text-anchor=\"start\" x=\"19.5\" y=\"-190.8\" font-family=\"Times New Roman,serif\" font-size=\"14.00\">Hedge_Set </text>\n",
       "<text text-anchor=\"start\" x=\"85.5\" y=\"-190.8\" font-family=\"Times New Roman,serif\" font-style=\"italic\" font-size=\"14.00\">String</text>\n",
       "<text text-anchor=\"start\" x=\"121.5\" y=\"-190.8\" font-family=\"Times New Roman,serif\" font-size=\"14.00\"> </text>\n",
       "<polygon fill=\"none\" stroke=\"black\" points=\"8.5,-138 8.5,-175 257.5,-175 257.5,-138 8.5,-138\"/>\n",
       "<text text-anchor=\"start\" x=\"19.5\" y=\"-153.8\" font-family=\"Times New Roman,serif\" font-size=\"14.00\">SP_subclass </text>\n",
       "<text text-anchor=\"start\" x=\"95.5\" y=\"-153.8\" font-family=\"Times New Roman,serif\" font-style=\"italic\" font-size=\"14.00\">String</text>\n",
       "<text text-anchor=\"start\" x=\"131.5\" y=\"-153.8\" font-family=\"Times New Roman,serif\" font-size=\"14.00\"> </text>\n",
       "</g>\n",
       "<!-- books_2020&#45;01&#45;13.csv -->\n",
       "<g id=\"node2\" class=\"node\"><title>books_2020-01-13.csv</title>\n",
       "<polygon fill=\"none\" stroke=\"black\" points=\"479,-1118 479,-1155 659,-1155 659,-1118 479,-1118\"/>\n",
       "<text text-anchor=\"start\" x=\"500.5\" y=\"-1133.8\" font-family=\"Times New Roman,serif\" font-weight=\"bold\" font-size=\"14.00\">books_2020-01-13.csv</text>\n",
       "<polygon fill=\"none\" stroke=\"black\" points=\"479,-1081 479,-1118 659,-1118 659,-1081 479,-1081\"/>\n",
       "<text text-anchor=\"start\" x=\"490\" y=\"-1096.8\" font-family=\"Times New Roman,serif\" font-weight=\"bold\" font-size=\"14.00\">Key</text>\n",
       "<text text-anchor=\"start\" x=\"515\" y=\"-1096.8\" font-family=\"Times New Roman,serif\" font-size=\"14.00\">  AsOfDate </text>\n",
       "<text text-anchor=\"start\" x=\"583\" y=\"-1096.8\" font-family=\"Times New Roman,serif\" font-style=\"italic\" font-size=\"14.00\">LocalDate</text>\n",
       "<text text-anchor=\"start\" x=\"644\" y=\"-1096.8\" font-family=\"Times New Roman,serif\" font-size=\"14.00\"> </text>\n",
       "<polygon fill=\"none\" stroke=\"black\" points=\"479,-1044 479,-1081 659,-1081 659,-1044 479,-1044\"/>\n",
       "<text text-anchor=\"start\" x=\"490\" y=\"-1059.8\" font-family=\"Times New Roman,serif\" font-weight=\"bold\" font-size=\"14.00\">Key</text>\n",
       "<text text-anchor=\"start\" x=\"515\" y=\"-1059.8\" font-family=\"Times New Roman,serif\" font-size=\"14.00\">  BookId </text>\n",
       "<text text-anchor=\"start\" x=\"570\" y=\"-1059.8\" font-family=\"Times New Roman,serif\" font-style=\"italic\" font-size=\"14.00\">String</text>\n",
       "<text text-anchor=\"start\" x=\"606\" y=\"-1059.8\" font-family=\"Times New Roman,serif\" font-size=\"14.00\"> </text>\n",
       "<polygon fill=\"none\" stroke=\"black\" points=\"479,-1007 479,-1044 659,-1044 659,-1007 479,-1007\"/>\n",
       "<text text-anchor=\"start\" x=\"490\" y=\"-1022.8\" font-family=\"Times New Roman,serif\" font-size=\"14.00\">BookDescription </text>\n",
       "<text text-anchor=\"start\" x=\"590\" y=\"-1022.8\" font-family=\"Times New Roman,serif\" font-style=\"italic\" font-size=\"14.00\">String</text>\n",
       "<text text-anchor=\"start\" x=\"626\" y=\"-1022.8\" font-family=\"Times New Roman,serif\" font-size=\"14.00\"> </text>\n",
       "<polygon fill=\"none\" stroke=\"black\" points=\"479,-970 479,-1007 659,-1007 659,-970 479,-970\"/>\n",
       "<text text-anchor=\"start\" x=\"490\" y=\"-985.8\" font-family=\"Times New Roman,serif\" font-size=\"14.00\">DeskId </text>\n",
       "<text text-anchor=\"start\" x=\"535\" y=\"-985.8\" font-family=\"Times New Roman,serif\" font-style=\"italic\" font-size=\"14.00\">String</text>\n",
       "<text text-anchor=\"start\" x=\"571\" y=\"-985.8\" font-family=\"Times New Roman,serif\" font-size=\"14.00\"> </text>\n",
       "</g>\n",
       "<!-- trades_preprocessed_2020&#45;01&#45;13.csv&#45;&gt;books_2020&#45;01&#45;13.csv -->\n",
       "<g id=\"edge4\" class=\"edge\"><title>trades_preprocessed_2020-01-13.csv-&gt;books_2020-01-13.csv</title>\n",
       "<path fill=\"none\" stroke=\"black\" d=\"M265.043,-830.815C328.26,-879.264 403.008,-936.55 462.439,-982.098\"/>\n",
       "<polygon fill=\"black\" stroke=\"black\" points=\"460.654,-985.14 470.72,-988.445 464.912,-979.584 460.654,-985.14\"/>\n",
       "<text text-anchor=\"middle\" x=\"356.5\" y=\"-973.8\" font-family=\"Times New Roman,serif\" font-size=\"14.00\">AsOfDate → AsOfDate</text>\n",
       "<text text-anchor=\"middle\" x=\"356.5\" y=\"-958.8\" font-family=\"Times New Roman,serif\" font-size=\"14.00\">BookId → BookId</text>\n",
       "</g>\n",
       "<!-- products_2020&#45;01&#45;13.csv -->\n",
       "<g id=\"node4\" class=\"node\"><title>products_2020-01-13.csv</title>\n",
       "<polygon fill=\"none\" stroke=\"black\" points=\"481,-907 481,-944 657,-944 657,-907 481,-907\"/>\n",
       "<text text-anchor=\"start\" x=\"492\" y=\"-922.8\" font-family=\"Times New Roman,serif\" font-weight=\"bold\" font-size=\"14.00\">products_2020-01-13.csv</text>\n",
       "<polygon fill=\"none\" stroke=\"black\" points=\"481,-870 481,-907 657,-907 657,-870 481,-870\"/>\n",
       "<text text-anchor=\"start\" x=\"492\" y=\"-885.8\" font-family=\"Times New Roman,serif\" font-weight=\"bold\" font-size=\"14.00\">Key</text>\n",
       "<text text-anchor=\"start\" x=\"517\" y=\"-885.8\" font-family=\"Times New Roman,serif\" font-size=\"14.00\">  ProductId </text>\n",
       "<text text-anchor=\"start\" x=\"586\" y=\"-885.8\" font-family=\"Times New Roman,serif\" font-style=\"italic\" font-size=\"14.00\">String</text>\n",
       "<text text-anchor=\"start\" x=\"622\" y=\"-885.8\" font-family=\"Times New Roman,serif\" font-size=\"14.00\"> </text>\n",
       "<polygon fill=\"none\" stroke=\"black\" points=\"481,-833 481,-870 657,-870 657,-833 481,-833\"/>\n",
       "<text text-anchor=\"start\" x=\"492\" y=\"-848.8\" font-family=\"Times New Roman,serif\" font-size=\"14.00\">AsOfDate </text>\n",
       "<text text-anchor=\"start\" x=\"553\" y=\"-848.8\" font-family=\"Times New Roman,serif\" font-style=\"italic\" font-size=\"14.00\">LocalDate</text>\n",
       "<text text-anchor=\"start\" x=\"614\" y=\"-848.8\" font-family=\"Times New Roman,serif\" font-size=\"14.00\"> </text>\n",
       "<polygon fill=\"none\" stroke=\"black\" points=\"481,-796 481,-833 657,-833 657,-796 481,-796\"/>\n",
       "<text text-anchor=\"start\" x=\"492\" y=\"-811.8\" font-family=\"Times New Roman,serif\" font-size=\"14.00\">ProductFamily </text>\n",
       "<text text-anchor=\"start\" x=\"579\" y=\"-811.8\" font-family=\"Times New Roman,serif\" font-style=\"italic\" font-size=\"14.00\">String</text>\n",
       "<text text-anchor=\"start\" x=\"615\" y=\"-811.8\" font-family=\"Times New Roman,serif\" font-size=\"14.00\"> </text>\n",
       "<polygon fill=\"none\" stroke=\"black\" points=\"481,-759 481,-796 657,-796 657,-759 481,-759\"/>\n",
       "<text text-anchor=\"start\" x=\"492\" y=\"-774.8\" font-family=\"Times New Roman,serif\" font-size=\"14.00\">ProductCategory </text>\n",
       "<text text-anchor=\"start\" x=\"592\" y=\"-774.8\" font-family=\"Times New Roman,serif\" font-style=\"italic\" font-size=\"14.00\">String</text>\n",
       "<text text-anchor=\"start\" x=\"628\" y=\"-774.8\" font-family=\"Times New Roman,serif\" font-size=\"14.00\"> </text>\n",
       "<polygon fill=\"none\" stroke=\"black\" points=\"481,-722 481,-759 657,-759 657,-722 481,-722\"/>\n",
       "<text text-anchor=\"start\" x=\"492\" y=\"-737.8\" font-family=\"Times New Roman,serif\" font-size=\"14.00\">TradingProduct </text>\n",
       "<text text-anchor=\"start\" x=\"585\" y=\"-737.8\" font-family=\"Times New Roman,serif\" font-style=\"italic\" font-size=\"14.00\">String</text>\n",
       "<text text-anchor=\"start\" x=\"621\" y=\"-737.8\" font-family=\"Times New Roman,serif\" font-size=\"14.00\"> </text>\n",
       "</g>\n",
       "<!-- trades_preprocessed_2020&#45;01&#45;13.csv&#45;&gt;products_2020&#45;01&#45;13.csv -->\n",
       "<g id=\"edge3\" class=\"edge\"><title>trades_preprocessed_2020-01-13.csv-&gt;products_2020-01-13.csv</title>\n",
       "<path fill=\"none\" stroke=\"black\" d=\"M265.043,-761.183C328.453,-776.214 403.464,-793.996 462.982,-808.105\"/>\n",
       "<polygon fill=\"black\" stroke=\"black\" points=\"462.235,-811.525 472.773,-810.426 463.85,-804.714 462.235,-811.525\"/>\n",
       "<text text-anchor=\"middle\" x=\"356.5\" y=\"-817.8\" font-family=\"Times New Roman,serif\" font-size=\"14.00\">AsOfDate → AsOfDate</text>\n",
       "<text text-anchor=\"middle\" x=\"356.5\" y=\"-802.8\" font-family=\"Times New Roman,serif\" font-size=\"14.00\">ProductId → ProductId</text>\n",
       "</g>\n",
       "<!-- nettingSets_2020&#45;01&#45;13.csv -->\n",
       "<g id=\"node5\" class=\"node\"><title>nettingSets_2020-01-13.csv</title>\n",
       "<polygon fill=\"none\" stroke=\"black\" points=\"474,-659 474,-696 664,-696 664,-659 474,-659\"/>\n",
       "<text text-anchor=\"start\" x=\"485\" y=\"-674.8\" font-family=\"Times New Roman,serif\" font-weight=\"bold\" font-size=\"14.00\">nettingSets_2020-01-13.csv</text>\n",
       "<polygon fill=\"none\" stroke=\"black\" points=\"474,-622 474,-659 664,-659 664,-622 474,-622\"/>\n",
       "<text text-anchor=\"start\" x=\"485\" y=\"-637.8\" font-family=\"Times New Roman,serif\" font-weight=\"bold\" font-size=\"14.00\">Key</text>\n",
       "<text text-anchor=\"start\" x=\"510\" y=\"-637.8\" font-family=\"Times New Roman,serif\" font-size=\"14.00\">  AsOfDate </text>\n",
       "<text text-anchor=\"start\" x=\"578\" y=\"-637.8\" font-family=\"Times New Roman,serif\" font-style=\"italic\" font-size=\"14.00\">LocalDate</text>\n",
       "<text text-anchor=\"start\" x=\"639\" y=\"-637.8\" font-family=\"Times New Roman,serif\" font-size=\"14.00\"> </text>\n",
       "<polygon fill=\"none\" stroke=\"black\" points=\"474,-585 474,-622 664,-622 664,-585 474,-585\"/>\n",
       "<text text-anchor=\"start\" x=\"485\" y=\"-600.8\" font-family=\"Times New Roman,serif\" font-weight=\"bold\" font-size=\"14.00\">Key</text>\n",
       "<text text-anchor=\"start\" x=\"510\" y=\"-600.8\" font-family=\"Times New Roman,serif\" font-size=\"14.00\">  NettingId </text>\n",
       "<text text-anchor=\"start\" x=\"574\" y=\"-600.8\" font-family=\"Times New Roman,serif\" font-style=\"italic\" font-size=\"14.00\">String</text>\n",
       "<text text-anchor=\"start\" x=\"610\" y=\"-600.8\" font-family=\"Times New Roman,serif\" font-size=\"14.00\"> </text>\n",
       "<polygon fill=\"none\" stroke=\"black\" points=\"474,-548 474,-585 664,-585 664,-548 474,-548\"/>\n",
       "<text text-anchor=\"start\" x=\"485\" y=\"-563.8\" font-family=\"Times New Roman,serif\" font-size=\"14.00\">NettingName </text>\n",
       "<text text-anchor=\"start\" x=\"561\" y=\"-563.8\" font-family=\"Times New Roman,serif\" font-style=\"italic\" font-size=\"14.00\">String</text>\n",
       "<text text-anchor=\"start\" x=\"597\" y=\"-563.8\" font-family=\"Times New Roman,serif\" font-size=\"14.00\"> </text>\n",
       "<polygon fill=\"none\" stroke=\"black\" points=\"474,-511 474,-548 664,-548 664,-511 474,-511\"/>\n",
       "<text text-anchor=\"start\" x=\"485\" y=\"-526.8\" font-family=\"Times New Roman,serif\" font-size=\"14.00\">NettingType </text>\n",
       "<text text-anchor=\"start\" x=\"558\" y=\"-526.8\" font-family=\"Times New Roman,serif\" font-style=\"italic\" font-size=\"14.00\">String</text>\n",
       "<text text-anchor=\"start\" x=\"594\" y=\"-526.8\" font-family=\"Times New Roman,serif\" font-size=\"14.00\"> </text>\n",
       "<polygon fill=\"none\" stroke=\"black\" points=\"474,-474 474,-511 664,-511 664,-474 474,-474\"/>\n",
       "<text text-anchor=\"start\" x=\"485\" y=\"-489.8\" font-family=\"Times New Roman,serif\" font-size=\"14.00\">CounterpartyId </text>\n",
       "<text text-anchor=\"start\" x=\"575\" y=\"-489.8\" font-family=\"Times New Roman,serif\" font-style=\"italic\" font-size=\"14.00\">String</text>\n",
       "<text text-anchor=\"start\" x=\"611\" y=\"-489.8\" font-family=\"Times New Roman,serif\" font-size=\"14.00\"> </text>\n",
       "<polygon fill=\"none\" stroke=\"black\" points=\"474,-437 474,-474 664,-474 664,-437 474,-437\"/>\n",
       "<text text-anchor=\"start\" x=\"485\" y=\"-452.8\" font-family=\"Times New Roman,serif\" font-size=\"14.00\">MPOR </text>\n",
       "<text text-anchor=\"start\" x=\"530\" y=\"-452.8\" font-family=\"Times New Roman,serif\" font-style=\"italic\" font-size=\"14.00\">double</text>\n",
       "<text text-anchor=\"start\" x=\"570\" y=\"-452.8\" font-family=\"Times New Roman,serif\" font-size=\"14.00\"> </text>\n",
       "<polygon fill=\"none\" stroke=\"black\" points=\"474,-400 474,-437 664,-437 664,-400 474,-400\"/>\n",
       "<text text-anchor=\"start\" x=\"485\" y=\"-415.8\" font-family=\"Times New Roman,serif\" font-size=\"14.00\">Collateral </text>\n",
       "<text text-anchor=\"start\" x=\"542\" y=\"-415.8\" font-family=\"Times New Roman,serif\" font-style=\"italic\" font-size=\"14.00\">double</text>\n",
       "<text text-anchor=\"start\" x=\"582\" y=\"-415.8\" font-family=\"Times New Roman,serif\" font-size=\"14.00\"> </text>\n",
       "<polygon fill=\"none\" stroke=\"black\" points=\"474,-363 474,-400 664,-400 664,-363 474,-363\"/>\n",
       "<text text-anchor=\"start\" x=\"485\" y=\"-378.8\" font-family=\"Times New Roman,serif\" font-size=\"14.00\">NICA </text>\n",
       "<text text-anchor=\"start\" x=\"523\" y=\"-378.8\" font-family=\"Times New Roman,serif\" font-style=\"italic\" font-size=\"14.00\">double</text>\n",
       "<text text-anchor=\"start\" x=\"563\" y=\"-378.8\" font-family=\"Times New Roman,serif\" font-size=\"14.00\"> </text>\n",
       "<polygon fill=\"none\" stroke=\"black\" points=\"474,-326 474,-363 664,-363 664,-326 474,-326\"/>\n",
       "<text text-anchor=\"start\" x=\"485\" y=\"-341.8\" font-family=\"Times New Roman,serif\" font-size=\"14.00\">TH </text>\n",
       "<text text-anchor=\"start\" x=\"508\" y=\"-341.8\" font-family=\"Times New Roman,serif\" font-style=\"italic\" font-size=\"14.00\">double</text>\n",
       "<text text-anchor=\"start\" x=\"548\" y=\"-341.8\" font-family=\"Times New Roman,serif\" font-size=\"14.00\"> </text>\n",
       "<polygon fill=\"none\" stroke=\"black\" points=\"474,-289 474,-326 664,-326 664,-289 474,-289\"/>\n",
       "<text text-anchor=\"start\" x=\"485\" y=\"-304.8\" font-family=\"Times New Roman,serif\" font-size=\"14.00\">MTA </text>\n",
       "<text text-anchor=\"start\" x=\"520\" y=\"-304.8\" font-family=\"Times New Roman,serif\" font-style=\"italic\" font-size=\"14.00\">double</text>\n",
       "<text text-anchor=\"start\" x=\"560\" y=\"-304.8\" font-family=\"Times New Roman,serif\" font-size=\"14.00\"> </text>\n",
       "<polygon fill=\"none\" stroke=\"black\" points=\"474,-252 474,-289 664,-289 664,-252 474,-252\"/>\n",
       "<text text-anchor=\"start\" x=\"485\" y=\"-267.8\" font-family=\"Times New Roman,serif\" font-size=\"14.00\">InputCurrency </text>\n",
       "<text text-anchor=\"start\" x=\"570\" y=\"-267.8\" font-family=\"Times New Roman,serif\" font-style=\"italic\" font-size=\"14.00\">String</text>\n",
       "<text text-anchor=\"start\" x=\"606\" y=\"-267.8\" font-family=\"Times New Roman,serif\" font-size=\"14.00\"> </text>\n",
       "</g>\n",
       "<!-- trades_preprocessed_2020&#45;01&#45;13.csv&#45;&gt;nettingSets_2020&#45;01&#45;13.csv -->\n",
       "<g id=\"edge2\" class=\"edge\"><title>trades_preprocessed_2020-01-13.csv-&gt;nettingSets_2020-01-13.csv</title>\n",
       "<path fill=\"none\" stroke=\"black\" d=\"M265.043,-652.497C326.339,-616.383 398.474,-573.882 456.977,-539.413\"/>\n",
       "<polygon fill=\"black\" stroke=\"black\" points=\"459.037,-542.262 465.876,-534.17 455.483,-536.231 459.037,-542.262\"/>\n",
       "<text text-anchor=\"middle\" x=\"356.5\" y=\"-657.8\" font-family=\"Times New Roman,serif\" font-size=\"14.00\">AsOfDate → AsOfDate</text>\n",
       "<text text-anchor=\"middle\" x=\"356.5\" y=\"-642.8\" font-family=\"Times New Roman,serif\" font-size=\"14.00\">NettingSetId → NettingId</text>\n",
       "</g>\n",
       "<!-- supervisoryParameters.csv -->\n",
       "<g id=\"node8\" class=\"node\"><title>supervisoryParameters.csv</title>\n",
       "<polygon fill=\"none\" stroke=\"black\" points=\"456,-189 456,-226 682,-226 682,-189 456,-189\"/>\n",
       "<text text-anchor=\"start\" x=\"486\" y=\"-204.8\" font-family=\"Times New Roman,serif\" font-weight=\"bold\" font-size=\"14.00\">supervisoryParameters.csv</text>\n",
       "<polygon fill=\"none\" stroke=\"black\" points=\"456,-152 456,-189 682,-189 682,-152 456,-152\"/>\n",
       "<text text-anchor=\"start\" x=\"467\" y=\"-167.8\" font-family=\"Times New Roman,serif\" font-weight=\"bold\" font-size=\"14.00\">Key</text>\n",
       "<text text-anchor=\"start\" x=\"492\" y=\"-167.8\" font-family=\"Times New Roman,serif\" font-size=\"14.00\">  AssetClass </text>\n",
       "<text text-anchor=\"start\" x=\"566\" y=\"-167.8\" font-family=\"Times New Roman,serif\" font-style=\"italic\" font-size=\"14.00\">String</text>\n",
       "<text text-anchor=\"start\" x=\"602\" y=\"-167.8\" font-family=\"Times New Roman,serif\" font-size=\"14.00\"> </text>\n",
       "<polygon fill=\"none\" stroke=\"black\" points=\"456,-115 456,-152 682,-152 682,-115 456,-115\"/>\n",
       "<text text-anchor=\"start\" x=\"467\" y=\"-130.8\" font-family=\"Times New Roman,serif\" font-weight=\"bold\" font-size=\"14.00\">Key</text>\n",
       "<text text-anchor=\"start\" x=\"492\" y=\"-130.8\" font-family=\"Times New Roman,serif\" font-size=\"14.00\">  Subclass </text>\n",
       "<text text-anchor=\"start\" x=\"554\" y=\"-130.8\" font-family=\"Times New Roman,serif\" font-style=\"italic\" font-size=\"14.00\">String</text>\n",
       "<text text-anchor=\"start\" x=\"590\" y=\"-130.8\" font-family=\"Times New Roman,serif\" font-size=\"14.00\"> </text>\n",
       "<polygon fill=\"none\" stroke=\"black\" points=\"456,-78 456,-115 682,-115 682,-78 456,-78\"/>\n",
       "<text text-anchor=\"start\" x=\"467\" y=\"-93.8\" font-family=\"Times New Roman,serif\" font-size=\"14.00\">SupervisoryFactor </text>\n",
       "<text text-anchor=\"start\" x=\"576\" y=\"-93.8\" font-family=\"Times New Roman,serif\" font-style=\"italic\" font-size=\"14.00\">double</text>\n",
       "<text text-anchor=\"start\" x=\"616\" y=\"-93.8\" font-family=\"Times New Roman,serif\" font-size=\"14.00\"> </text>\n",
       "<polygon fill=\"none\" stroke=\"black\" points=\"456,-41 456,-78 682,-78 682,-41 456,-41\"/>\n",
       "<text text-anchor=\"start\" x=\"467\" y=\"-56.8\" font-family=\"Times New Roman,serif\" font-size=\"14.00\">Correlation </text>\n",
       "<text text-anchor=\"start\" x=\"534\" y=\"-56.8\" font-family=\"Times New Roman,serif\" font-style=\"italic\" font-size=\"14.00\">double</text>\n",
       "<text text-anchor=\"start\" x=\"574\" y=\"-56.8\" font-family=\"Times New Roman,serif\" font-size=\"14.00\"> </text>\n",
       "<polygon fill=\"none\" stroke=\"black\" points=\"456,-4 456,-41 682,-41 682,-4 456,-4\"/>\n",
       "<text text-anchor=\"start\" x=\"467\" y=\"-19.8\" font-family=\"Times New Roman,serif\" font-size=\"14.00\">SupervisoryOptionVolatility </text>\n",
       "<text text-anchor=\"start\" x=\"627\" y=\"-19.8\" font-family=\"Times New Roman,serif\" font-style=\"italic\" font-size=\"14.00\">double</text>\n",
       "<text text-anchor=\"start\" x=\"667\" y=\"-19.8\" font-family=\"Times New Roman,serif\" font-size=\"14.00\"> </text>\n",
       "</g>\n",
       "<!-- trades_preprocessed_2020&#45;01&#45;13.csv&#45;&gt;supervisoryParameters.csv -->\n",
       "<g id=\"edge1\" class=\"edge\"><title>trades_preprocessed_2020-01-13.csv-&gt;supervisoryParameters.csv</title>\n",
       "<path fill=\"none\" stroke=\"black\" d=\"M265.18,-503.891C318.369,-418.31 382.598,-321.662 448,-239 448.218,-238.725 448.436,-238.449 448.655,-238.174\"/>\n",
       "<polygon fill=\"black\" stroke=\"black\" points=\"451.563,-240.145 455.137,-230.171 446.123,-235.739 451.563,-240.145\"/>\n",
       "<text text-anchor=\"middle\" x=\"356.5\" y=\"-492.8\" font-family=\"Times New Roman,serif\" font-size=\"14.00\">SP_subclass → Subclass</text>\n",
       "<text text-anchor=\"middle\" x=\"356.5\" y=\"-477.8\" font-family=\"Times New Roman,serif\" font-size=\"14.00\">AssetClass → AssetClass</text>\n",
       "</g>\n",
       "<!-- desks_2020&#45;01&#45;13.csv -->\n",
       "<g id=\"node3\" class=\"node\"><title>desks_2020-01-13.csv</title>\n",
       "<polygon fill=\"none\" stroke=\"black\" points=\"942.5,-1100 942.5,-1137 1122.5,-1137 1122.5,-1100 942.5,-1100\"/>\n",
       "<text text-anchor=\"start\" x=\"965\" y=\"-1115.8\" font-family=\"Times New Roman,serif\" font-weight=\"bold\" font-size=\"14.00\">desks_2020-01-13.csv</text>\n",
       "<polygon fill=\"none\" stroke=\"black\" points=\"942.5,-1063 942.5,-1100 1122.5,-1100 1122.5,-1063 942.5,-1063\"/>\n",
       "<text text-anchor=\"start\" x=\"953.5\" y=\"-1078.8\" font-family=\"Times New Roman,serif\" font-weight=\"bold\" font-size=\"14.00\">Key</text>\n",
       "<text text-anchor=\"start\" x=\"978.5\" y=\"-1078.8\" font-family=\"Times New Roman,serif\" font-size=\"14.00\">  AsOfDate </text>\n",
       "<text text-anchor=\"start\" x=\"1046.5\" y=\"-1078.8\" font-family=\"Times New Roman,serif\" font-style=\"italic\" font-size=\"14.00\">LocalDate</text>\n",
       "<text text-anchor=\"start\" x=\"1107.5\" y=\"-1078.8\" font-family=\"Times New Roman,serif\" font-size=\"14.00\"> </text>\n",
       "<polygon fill=\"none\" stroke=\"black\" points=\"942.5,-1026 942.5,-1063 1122.5,-1063 1122.5,-1026 942.5,-1026\"/>\n",
       "<text text-anchor=\"start\" x=\"953.5\" y=\"-1041.8\" font-family=\"Times New Roman,serif\" font-weight=\"bold\" font-size=\"14.00\">Key</text>\n",
       "<text text-anchor=\"start\" x=\"978.5\" y=\"-1041.8\" font-family=\"Times New Roman,serif\" font-size=\"14.00\">  DeskId </text>\n",
       "<text text-anchor=\"start\" x=\"1030.5\" y=\"-1041.8\" font-family=\"Times New Roman,serif\" font-style=\"italic\" font-size=\"14.00\">String</text>\n",
       "<text text-anchor=\"start\" x=\"1066.5\" y=\"-1041.8\" font-family=\"Times New Roman,serif\" font-size=\"14.00\"> </text>\n",
       "<polygon fill=\"none\" stroke=\"black\" points=\"942.5,-989 942.5,-1026 1122.5,-1026 1122.5,-989 942.5,-989\"/>\n",
       "<text text-anchor=\"start\" x=\"953.5\" y=\"-1004.8\" font-family=\"Times New Roman,serif\" font-size=\"14.00\">DeskName </text>\n",
       "<text text-anchor=\"start\" x=\"1018.5\" y=\"-1004.8\" font-family=\"Times New Roman,serif\" font-style=\"italic\" font-size=\"14.00\">String</text>\n",
       "<text text-anchor=\"start\" x=\"1054.5\" y=\"-1004.8\" font-family=\"Times New Roman,serif\" font-size=\"14.00\"> </text>\n",
       "</g>\n",
       "<!-- books_2020&#45;01&#45;13.csv&#45;&gt;desks_2020&#45;01&#45;13.csv -->\n",
       "<g id=\"edge5\" class=\"edge\"><title>books_2020-01-13.csv-&gt;desks_2020-01-13.csv</title>\n",
       "<path fill=\"none\" stroke=\"black\" d=\"M667.027,-1063C742.174,-1063 846.214,-1063 923.906,-1063\"/>\n",
       "<polygon fill=\"black\" stroke=\"black\" points=\"924.207,-1066.5 934.206,-1063 924.206,-1059.5 924.207,-1066.5\"/>\n",
       "<text text-anchor=\"middle\" x=\"804.5\" y=\"-1081.8\" font-family=\"Times New Roman,serif\" font-size=\"14.00\">AsOfDate → AsOfDate</text>\n",
       "<text text-anchor=\"middle\" x=\"804.5\" y=\"-1066.8\" font-family=\"Times New Roman,serif\" font-size=\"14.00\">DeskId → DeskId</text>\n",
       "</g>\n",
       "<!-- counterparties_2020&#45;01&#45;13.csv -->\n",
       "<g id=\"node6\" class=\"node\"><title>counterparties_2020-01-13.csv</title>\n",
       "<polygon fill=\"none\" stroke=\"black\" points=\"927.5,-585 927.5,-622 1138.5,-622 1138.5,-585 927.5,-585\"/>\n",
       "<text text-anchor=\"start\" x=\"938.5\" y=\"-600.8\" font-family=\"Times New Roman,serif\" font-weight=\"bold\" font-size=\"14.00\">counterparties_2020-01-13.csv</text>\n",
       "<polygon fill=\"none\" stroke=\"black\" points=\"927.5,-548 927.5,-585 1138.5,-585 1138.5,-548 927.5,-548\"/>\n",
       "<text text-anchor=\"start\" x=\"938.5\" y=\"-563.8\" font-family=\"Times New Roman,serif\" font-weight=\"bold\" font-size=\"14.00\">Key</text>\n",
       "<text text-anchor=\"start\" x=\"963.5\" y=\"-563.8\" font-family=\"Times New Roman,serif\" font-size=\"14.00\">  AsOfDate </text>\n",
       "<text text-anchor=\"start\" x=\"1031.5\" y=\"-563.8\" font-family=\"Times New Roman,serif\" font-style=\"italic\" font-size=\"14.00\">LocalDate</text>\n",
       "<text text-anchor=\"start\" x=\"1092.5\" y=\"-563.8\" font-family=\"Times New Roman,serif\" font-size=\"14.00\"> </text>\n",
       "<polygon fill=\"none\" stroke=\"black\" points=\"927.5,-511 927.5,-548 1138.5,-548 1138.5,-511 927.5,-511\"/>\n",
       "<text text-anchor=\"start\" x=\"938.5\" y=\"-526.8\" font-family=\"Times New Roman,serif\" font-weight=\"bold\" font-size=\"14.00\">Key</text>\n",
       "<text text-anchor=\"start\" x=\"963.5\" y=\"-526.8\" font-family=\"Times New Roman,serif\" font-size=\"14.00\">  CounterpartyId </text>\n",
       "<text text-anchor=\"start\" x=\"1060.5\" y=\"-526.8\" font-family=\"Times New Roman,serif\" font-style=\"italic\" font-size=\"14.00\">String</text>\n",
       "<text text-anchor=\"start\" x=\"1096.5\" y=\"-526.8\" font-family=\"Times New Roman,serif\" font-size=\"14.00\"> </text>\n",
       "<polygon fill=\"none\" stroke=\"black\" points=\"927.5,-474 927.5,-511 1138.5,-511 1138.5,-474 927.5,-474\"/>\n",
       "<text text-anchor=\"start\" x=\"938.5\" y=\"-489.8\" font-family=\"Times New Roman,serif\" font-size=\"14.00\">CounterpartyName </text>\n",
       "<text text-anchor=\"start\" x=\"1048.5\" y=\"-489.8\" font-family=\"Times New Roman,serif\" font-style=\"italic\" font-size=\"14.00\">String</text>\n",
       "<text text-anchor=\"start\" x=\"1084.5\" y=\"-489.8\" font-family=\"Times New Roman,serif\" font-size=\"14.00\"> </text>\n",
       "<polygon fill=\"none\" stroke=\"black\" points=\"927.5,-437 927.5,-474 1138.5,-474 1138.5,-437 927.5,-437\"/>\n",
       "<text text-anchor=\"start\" x=\"938.5\" y=\"-452.8\" font-family=\"Times New Roman,serif\" font-size=\"14.00\">Rating </text>\n",
       "<text text-anchor=\"start\" x=\"978.5\" y=\"-452.8\" font-family=\"Times New Roman,serif\" font-style=\"italic\" font-size=\"14.00\">String</text>\n",
       "<text text-anchor=\"start\" x=\"1014.5\" y=\"-452.8\" font-family=\"Times New Roman,serif\" font-size=\"14.00\"> </text>\n",
       "<polygon fill=\"none\" stroke=\"black\" points=\"927.5,-400 927.5,-437 1138.5,-437 1138.5,-400 927.5,-400\"/>\n",
       "<text text-anchor=\"start\" x=\"938.5\" y=\"-415.8\" font-family=\"Times New Roman,serif\" font-size=\"14.00\">Sector </text>\n",
       "<text text-anchor=\"start\" x=\"979.5\" y=\"-415.8\" font-family=\"Times New Roman,serif\" font-style=\"italic\" font-size=\"14.00\">String</text>\n",
       "<text text-anchor=\"start\" x=\"1015.5\" y=\"-415.8\" font-family=\"Times New Roman,serif\" font-size=\"14.00\"> </text>\n",
       "<polygon fill=\"none\" stroke=\"black\" points=\"927.5,-363 927.5,-400 1138.5,-400 1138.5,-363 927.5,-363\"/>\n",
       "<text text-anchor=\"start\" x=\"938.5\" y=\"-378.8\" font-family=\"Times New Roman,serif\" font-size=\"14.00\">CountryOfAddress </text>\n",
       "<text text-anchor=\"start\" x=\"1050.5\" y=\"-378.8\" font-family=\"Times New Roman,serif\" font-style=\"italic\" font-size=\"14.00\">String</text>\n",
       "<text text-anchor=\"start\" x=\"1086.5\" y=\"-378.8\" font-family=\"Times New Roman,serif\" font-size=\"14.00\"> </text>\n",
       "<polygon fill=\"none\" stroke=\"black\" points=\"927.5,-326 927.5,-363 1138.5,-363 1138.5,-326 927.5,-326\"/>\n",
       "<text text-anchor=\"start\" x=\"938.5\" y=\"-341.8\" font-family=\"Times New Roman,serif\" font-size=\"14.00\">CountryOfRisk </text>\n",
       "<text text-anchor=\"start\" x=\"1029.5\" y=\"-341.8\" font-family=\"Times New Roman,serif\" font-style=\"italic\" font-size=\"14.00\">String</text>\n",
       "<text text-anchor=\"start\" x=\"1065.5\" y=\"-341.8\" font-family=\"Times New Roman,serif\" font-size=\"14.00\"> </text>\n",
       "</g>\n",
       "<!-- nettingSets_2020&#45;01&#45;13.csv&#45;&gt;counterparties_2020&#45;01&#45;13.csv -->\n",
       "<g id=\"edge6\" class=\"edge\"><title>nettingSets_2020-01-13.csv-&gt;counterparties_2020-01-13.csv</title>\n",
       "<path fill=\"none\" stroke=\"black\" d=\"M672.136,-474C741.867,-474 834.624,-474 908.432,-474\"/>\n",
       "<polygon fill=\"black\" stroke=\"black\" points=\"908.717,-477.5 918.717,-474 908.717,-470.5 908.717,-477.5\"/>\n",
       "<text text-anchor=\"middle\" x=\"804.5\" y=\"-492.8\" font-family=\"Times New Roman,serif\" font-size=\"14.00\">AsOfDate → AsOfDate</text>\n",
       "<text text-anchor=\"middle\" x=\"804.5\" y=\"-477.8\" font-family=\"Times New Roman,serif\" font-size=\"14.00\">CounterpartyId → CounterpartyId</text>\n",
       "</g>\n",
       "<!-- countries.csv -->\n",
       "<g id=\"node7\" class=\"node\"><title>countries.csv</title>\n",
       "<polygon fill=\"none\" stroke=\"black\" points=\"1366.5,-585 1366.5,-622 1511.5,-622 1511.5,-585 1366.5,-585\"/>\n",
       "<text text-anchor=\"start\" x=\"1399\" y=\"-600.8\" font-family=\"Times New Roman,serif\" font-weight=\"bold\" font-size=\"14.00\">countries.csv</text>\n",
       "<polygon fill=\"none\" stroke=\"black\" points=\"1366.5,-548 1366.5,-585 1511.5,-585 1511.5,-548 1366.5,-548\"/>\n",
       "<text text-anchor=\"start\" x=\"1377.5\" y=\"-563.8\" font-family=\"Times New Roman,serif\" font-weight=\"bold\" font-size=\"14.00\">Key</text>\n",
       "<text text-anchor=\"start\" x=\"1402.5\" y=\"-563.8\" font-family=\"Times New Roman,serif\" font-size=\"14.00\">  Country </text>\n",
       "<text text-anchor=\"start\" x=\"1460.5\" y=\"-563.8\" font-family=\"Times New Roman,serif\" font-style=\"italic\" font-size=\"14.00\">String</text>\n",
       "<text text-anchor=\"start\" x=\"1496.5\" y=\"-563.8\" font-family=\"Times New Roman,serif\" font-size=\"14.00\"> </text>\n",
       "<polygon fill=\"none\" stroke=\"black\" points=\"1366.5,-511 1366.5,-548 1511.5,-548 1511.5,-511 1366.5,-511\"/>\n",
       "<text text-anchor=\"start\" x=\"1377.5\" y=\"-526.8\" font-family=\"Times New Roman,serif\" font-size=\"14.00\">Region </text>\n",
       "<text text-anchor=\"start\" x=\"1421.5\" y=\"-526.8\" font-family=\"Times New Roman,serif\" font-style=\"italic\" font-size=\"14.00\">String</text>\n",
       "<text text-anchor=\"start\" x=\"1457.5\" y=\"-526.8\" font-family=\"Times New Roman,serif\" font-size=\"14.00\"> </text>\n",
       "<polygon fill=\"none\" stroke=\"black\" points=\"1366.5,-474 1366.5,-511 1511.5,-511 1511.5,-474 1366.5,-474\"/>\n",
       "<text text-anchor=\"start\" x=\"1377.5\" y=\"-489.8\" font-family=\"Times New Roman,serif\" font-size=\"14.00\">SubRegion </text>\n",
       "<text text-anchor=\"start\" x=\"1444.5\" y=\"-489.8\" font-family=\"Times New Roman,serif\" font-style=\"italic\" font-size=\"14.00\">String</text>\n",
       "<text text-anchor=\"start\" x=\"1480.5\" y=\"-489.8\" font-family=\"Times New Roman,serif\" font-size=\"14.00\"> </text>\n",
       "<polygon fill=\"none\" stroke=\"black\" points=\"1366.5,-437 1366.5,-474 1511.5,-474 1511.5,-437 1366.5,-437\"/>\n",
       "<text text-anchor=\"start\" x=\"1377.5\" y=\"-452.8\" font-family=\"Times New Roman,serif\" font-size=\"14.00\">CodeISO </text>\n",
       "<text text-anchor=\"start\" x=\"1435.5\" y=\"-452.8\" font-family=\"Times New Roman,serif\" font-style=\"italic\" font-size=\"14.00\">String</text>\n",
       "<text text-anchor=\"start\" x=\"1471.5\" y=\"-452.8\" font-family=\"Times New Roman,serif\" font-size=\"14.00\"> </text>\n",
       "<polygon fill=\"none\" stroke=\"black\" points=\"1366.5,-400 1366.5,-437 1511.5,-437 1511.5,-400 1366.5,-400\"/>\n",
       "<text text-anchor=\"start\" x=\"1377.5\" y=\"-415.8\" font-family=\"Times New Roman,serif\" font-size=\"14.00\">CodeIOC </text>\n",
       "<text text-anchor=\"start\" x=\"1437.5\" y=\"-415.8\" font-family=\"Times New Roman,serif\" font-style=\"italic\" font-size=\"14.00\">String</text>\n",
       "<text text-anchor=\"start\" x=\"1473.5\" y=\"-415.8\" font-family=\"Times New Roman,serif\" font-size=\"14.00\"> </text>\n",
       "<polygon fill=\"none\" stroke=\"black\" points=\"1366.5,-363 1366.5,-400 1511.5,-400 1511.5,-363 1366.5,-363\"/>\n",
       "<text text-anchor=\"start\" x=\"1377.5\" y=\"-378.8\" font-family=\"Times New Roman,serif\" font-size=\"14.00\">Latitude </text>\n",
       "<text text-anchor=\"start\" x=\"1426.5\" y=\"-378.8\" font-family=\"Times New Roman,serif\" font-style=\"italic\" font-size=\"14.00\">double</text>\n",
       "<text text-anchor=\"start\" x=\"1466.5\" y=\"-378.8\" font-family=\"Times New Roman,serif\" font-size=\"14.00\"> </text>\n",
       "<polygon fill=\"none\" stroke=\"black\" points=\"1366.5,-326 1366.5,-363 1511.5,-363 1511.5,-326 1366.5,-326\"/>\n",
       "<text text-anchor=\"start\" x=\"1377.5\" y=\"-341.8\" font-family=\"Times New Roman,serif\" font-size=\"14.00\">Longitude </text>\n",
       "<text text-anchor=\"start\" x=\"1438.5\" y=\"-341.8\" font-family=\"Times New Roman,serif\" font-style=\"italic\" font-size=\"14.00\">double</text>\n",
       "<text text-anchor=\"start\" x=\"1478.5\" y=\"-341.8\" font-family=\"Times New Roman,serif\" font-size=\"14.00\"> </text>\n",
       "</g>\n",
       "<!-- counterparties_2020&#45;01&#45;13.csv&#45;&gt;countries.csv -->\n",
       "<g id=\"edge7\" class=\"edge\"><title>counterparties_2020-01-13.csv-&gt;countries.csv</title>\n",
       "<path fill=\"none\" stroke=\"black\" d=\"M1146.04,-474C1209.71,-474 1288.25,-474 1347.75,-474\"/>\n",
       "<polygon fill=\"black\" stroke=\"black\" points=\"1347.88,-477.5 1357.88,-474 1347.88,-470.5 1347.88,-477.5\"/>\n",
       "<text text-anchor=\"middle\" x=\"1252\" y=\"-477.8\" font-family=\"Times New Roman,serif\" font-size=\"14.00\">CountryOfAddress → Country</text>\n",
       "</g>\n",
       "</g>\n",
       "</svg>"
      ],
      "text/plain": [
       "<IPython.core.display.SVG object>"
      ]
     },
     "execution_count": 9,
     "metadata": {},
     "output_type": "execute_result"
    }
   ],
   "source": [
    "cube.schema"
   ]
  },
  {
   "cell_type": "code",
   "execution_count": 10,
   "metadata": {},
   "outputs": [],
   "source": [
    "lvl = cube.levels\n",
    "m = cube.measures\n",
    "h = cube.hierarchies\n",
    "h[\"AsOfDate\"].slicing = True\n",
    "lvl[\"AsOfDate\"].comparator = tt.comparator.DESC"
   ]
  },
  {
   "cell_type": "code",
   "execution_count": 11,
   "metadata": {},
   "outputs": [],
   "source": [
    "#Regrouping the hierarchies in the proper dimensions\n",
    "\n",
    "h[\"AsOfDate\"].dimension = \"AsOfDate\"\n",
    "\n",
    "h[\"AssetClass\"].dimension =\"AssetClass\"\n",
    "h[\"SubClass\"].dimension = \"AssetClass\"\n",
    "\n",
    "h[\"CounterpartyName\"].dimension = \"Counterparties\"\n",
    "h[\"Rating\"].dimension = \"Counterparties\"\n",
    "h[\"Sector\"].dimension = \"Counterparties\"\n",
    "\n",
    "h[\"CountryOfRisk\"].dimension = \"Countries\"\n",
    "h[\"CountryOfAddress\"].dimension = \"Countries\"\n",
    "\n",
    "h[\"Direction\"].dimension = \"Direction\"\n",
    "\n",
    "h[\"Hedge_Set\"].dimension = \"Hedge_Set\"\n",
    "\n",
    "h[\"Instrument\"].dimension = \"Instrument\"\n",
    "\n",
    "h[\"MaturityBuckets\"].dimension = \"MaturityBuckets\"\n",
    "\n",
    "h[\"NettingName\"].dimension = \"NettingSets\"\n",
    "h[\"NettingType\"].dimension = \"NettingSets\"\n",
    "h[\"NettingSetId\"].dimension = \"NettingSets\"\n",
    "\n",
    "h[\"OptionType\"].dimension = \"OptionType\"\n",
    "\n",
    "h[\"ProductId\"].dimension = \"ProductId\"\n",
    "\n",
    "h[\"RiskClass\"].dimension = \"RiskClass\"\n",
    "\n",
    "h[\"TradeId\"].dimension = \"TradeId\"\n",
    "\n",
    "h[\"Ei\"].dimension = \"TradeAttributes\"\n",
    "h[\"Mi\"].dimension = \"TradeAttributes\"\n",
    "h[\"Si\"].dimension = \"TradeAttributes\"\n",
    "h[\"Ti\"].dimension = \"TradeAttributes\"\n",
    "\n",
    "h[\"InputCurrency\"].dimension = \"TradeInputCurrency\"\n",
    "\n",
    "h[\"Underlying\"].dimension = \"Underlyings\"\n",
    "h[\"UnderlyingType\"].dimension = \"Underlyings\"\n",
    "\n"
   ]
  },
  {
   "cell_type": "code",
   "execution_count": 12,
   "metadata": {},
   "outputs": [],
   "source": [
    "add_on_folder = \"Add-On\"\n",
    "commodity_folder = \"Commodity\"\n",
    "equity_folder = \"Equity\"\n",
    "fx_folder = \"FX\"\n",
    "credit_folder = \"Credit\"\n",
    "ir_folder = \"Interest Rate\"\n",
    "technical_folder = \"Technical\"\n",
    "separator_folder = \"\\\\\"\n",
    "\n",
    "trade_effective_folder = \"Trade Effective\"\n",
    "detail_folder = \"Detail\"\n"
   ]
  },
  {
   "cell_type": "markdown",
   "metadata": {},
   "source": [
    "#### Creating the measures needed"
   ]
  },
  {
   "cell_type": "code",
   "execution_count": 13,
   "metadata": {},
   "outputs": [],
   "source": [
    "m[\"Notional\"] = tt.agg.sum(store[\"Notional\"])\n",
    "m[\"MarketValue\"] = tt.agg.sum(store[\"MarketValue\"])\n",
    "m[\"Attachment\"] = tt.agg.single_value(store[\"Attachment\"])\n",
    "m[\"Detachment\"] = tt.agg.single_value(store[\"Detachment\"])\n",
    "m[\"Underlying Price\"] = tt.agg.single_value(store[\"Underlying Price\"])\n",
    "m[\"Strike Price\"] = tt.agg.single_value(store[\"Strike Price\"])\n",
    "                \n",
    "                \n",
    "m[\"Collateral.VALUE\"] = tt.agg.single_value(nettingSets_store[\"Collateral\"])\n",
    "m[\"MPOR.VALUE\"] = tt.agg.single_value(nettingSets_store[\"MPOR\"])\n",
    "m[\"MTA.VALUE\"] = tt.agg.single_value(nettingSets_store[\"MTA\"])\n",
    "m[\"NICA.VALUE\"] = tt.agg.single_value(nettingSets_store[\"NICA\"])\n",
    "m[\"TH.VALUE\"] = tt.agg.single_value(nettingSets_store[\"TH\"])\n",
    "                \n",
    "m[\"SupervisoryFactor\"] = tt.agg.single_value(\n",
    "    supervisoryParameters_store[\"SupervisoryFactor\"]\n",
    ")\n",
    "m[\"Correlation\"] = tt.agg.single_value(supervisoryParameters_store[\"Correlation\"])\n",
    "m[\"Supervisory_Option_Volatility\"] = tt.agg.single_value(\n",
    "    supervisoryParameters_store[\"SupervisoryOptionVolatility\"]\n",
    ")\n",
    "\n",
    "\n",
    "m[\"Supervisory_Option_Volatility\"].folder = trade_effective_folder\n",
    "m[\"SupervisoryFactor\"].formatter = \"DOUBLE[#,###.0000]\"\n",
    "m[\"SupervisoryFactor\"].folder = technical_folder\n",
    "m[\"Correlation\"].folder = technical_folder\n"
   ]
  },
  {
   "cell_type": "markdown",
   "metadata": {},
   "source": [
    "# SA-CCR calculations\n",
    "\n",
    "The goal of this notebook is to determine the Exposure At Default (EAD) of a bank. The EAD is a risk indicator, that grows with the risk. It is aggregated from all the trades the bank is involved in, according to the folowing process:\n",
    "\n",
    "- For each trade, the Notional is converted to the Trade Effective Notional\n",
    "- The Trade Effective Notional is then aggregated across Risk Classes to form the $AddOn^{Agg}$, a main component of the EAD\n",
    "- The EAD is determined using the $AddOn^{Agg}$\n",
    "\n",
    "For the purpose of the demo, as the initial Basel data was too small (22 trades), we generated a similar dataset, with more than 500 trades following the same format, spread across 10 Netting Sets and the 5 Risk Classes. These trades are represented for everyday of a business week, with parameters such as the market value of the trades changing from one day to the others, and some new trades being issued. Furthermore, some useful hierarchies directly derived from the data but that weren't present in the dataset were added to the files during their generation to speed up calculations. All the following pivot tables and graphs use these generated trades. "
   ]
  },
  {
   "cell_type": "markdown",
   "metadata": {},
   "source": [
    "## Trade Effective Notional Calculations\n",
    "\n",
    "The first thing to determine in order to compute the EAD is the Trade Effective Notional. Derived from the Notional of the trades, it is the main component of the Add-Ons that are aggregated to make the EAD\n",
    "\n",
    "In order to determine the Trade Effective Notional, we first need to compute the Adjusted notional.\n",
    "\n",
    "$$AdjustedNotional = Notional * SupervisoryDuration$$\n",
    "\n",
    "$$SupervisoryDuration = \\frac{(exp(-0.05*S_i) - exp(-0.05*E_i))}{0.05}$$ for Credits and Interest Rates and 1 for other Asset Classes. \n",
    "\n",
    "In this expression, $S_i$ is the start date of trade $i$ and $E_i$ the end date of trade $i$  (see saccr paragraph 157)"
   ]
  },
  {
   "cell_type": "code",
   "execution_count": 14,
   "metadata": {},
   "outputs": [],
   "source": [
    "m[\"s_i_diff\"] = tt.filter(\n",
    "    tt.date_diff(lvl[\"AsOfDate\"], lvl[\"Si\"], unit = \"days\")/number_of_days_in_year,\n",
    "    lvl[\"RiskClass\"].isin(\"Interest Rate\", \"Credit\")\n",
    ")\n",
    "m[\"e_i_diff\"] = tt.filter(\n",
    "    tt.date_diff(lvl[\"AsOfDate\"], lvl[\"Ei\"], unit = \"days\")/number_of_days_in_year, \n",
    "    lvl[\"RiskClass\"].isin(\"Interest Rate\", \"Credit\")\n",
    ")\n",
    " \n",
    "    \n",
    "m[\"s_i_diff\"].folder = trade_effective_folder + separator_folder + detail_folder\n",
    "m[\"e_i_diff\"].folder = trade_effective_folder + separator_folder + detail_folder\n",
    "\n",
    "m[\"Supervisory_Duration\"] = tt.where(\n",
    "    lvl[\"RiskClass\"].isin(\"Interest Rate\", \"Credit\"),\n",
    "    (tt.exp(-0.05*m[\"s_i_diff\"])-tt.exp(-0.05*m[\"e_i_diff\"]))/0.05,\n",
    "    1.0\n",
    ")\n",
    "m[\"Supervisory_Duration\"].folder = trade_effective_folder"
   ]
  },
  {
   "cell_type": "code",
   "execution_count": 16,
   "metadata": {
    "atoti": {
     "state": {
      "name": "",
      "type": "container",
      "value": {
       "body": {
        "configuration": {
         "tabular": {
          "addButtonFilter": "numeric",
          "columns": [
           {
            "key": "([AsOfDate].[AsOfDate].[AsOfDate].[2020-01-17],[Measures].[Supervisory_Duration])",
            "width": 164
           },
           {
            "key": "([AsOfDate].[AsOfDate].[AsOfDate].[2020-01-17],[Measures].[SDCSN])",
            "width": 80
           },
           {
            "key": "([AsOfDate].[AsOfDate].[AsOfDate].[2020-01-17],[Measures].[SDCI])",
            "width": 80
           },
           {
            "key": "([AsOfDate].[AsOfDate].[AsOfDate].[2020-01-17],[Measures].[SDIR])",
            "width": 80
           },
           {
            "key": "([AsOfDate].[AsOfDate].[AsOfDate].[2020-01-17],[Measures].[e_i])",
            "width": 80
           },
           {
            "key": "([AsOfDate].[AsOfDate].[AsOfDate].[2020-01-17],[Measures].[s_i_diff])",
            "width": 80
           }
          ],
          "columnsGroups": [
           {
            "captionProducer": "firstColumn",
            "cellFactory": "kpi-status",
            "selector": "kpi-status"
           },
           {
            "captionProducer": "firstColumn",
            "cellFactory": "lookup",
            "selector": "lookup"
           },
           {
            "captionProducer": "expiry",
            "cellFactory": "expiry",
            "selector": "kpi-expiry"
           },
           {
            "captionProducer": "columnMerge",
            "cellFactory": {
             "args": {
              "automaticExpansion": true
             },
             "key": "treeCells"
            },
            "selector": "member"
           }
          ],
          "defaultOptions": {
           "headerHeight": 30
          },
          "hideAddButton": true,
          "lineNumbers": true,
          "pinnedHeaderSelector": "member",
          "sortingMode": "non-breaking",
          "statisticsShown": true
         }
        },
        "contextValues": {},
        "mdx": "SELECT NON EMPTY Crossjoin(Hierarchize([AsOfDate].[AsOfDate].[AsOfDate].Members), {[Measures].[s_i_diff], [Measures].[e_i_diff], [Measures].[Supervisory_Duration]}) ON COLUMNS, NON EMPTY Crossjoin(Hierarchize(DrilldownLevel([RiskClass].[RiskClass].[ALL].[AllMember])), Hierarchize(DrilldownLevel([TradeAttributes].[Si].[ALL].[AllMember])), Hierarchize(DrilldownLevel([TradeAttributes].[Ei].[ALL].[AllMember]))) ON ROWS FROM [main_cube] CELL PROPERTIES VALUE, FORMATTED_VALUE, BACK_COLOR, FORE_COLOR, FONT_FLAGS",
        "ranges": {
         "column": {
          "chunkSize": 50,
          "thresholdPercentage": 0.2
         },
         "row": {
          "chunkSize": 2000,
          "thresholdPercentage": 0.1
         }
        },
        "serverUrl": "",
        "updateMode": "once"
       },
       "containerKey": "pivot-table",
       "showTitleBar": false,
       "style": {}
      }
     }
    }
   },
   "outputs": [
    {
     "data": {
      "application/vnd.atoti.v0+json": {
       "cube": "main_cube",
       "name": null,
       "session": "Unnamed"
      },
      "text/plain": [
       "Install and enable the atoti JupyterLab extension to see this widget."
      ]
     },
     "metadata": {},
     "output_type": "display_data"
    }
   ],
   "source": [
    "# cube.pivot(measures=[s_i_diff, e_i_diff, SDIR, SDCI, SDCSN, Supervisory_Duration], rows=[\"AssetClass\", \"Si\", \"Ei\"], columns=\"AsOfDate\")\n",
    "cube.visualize()"
   ]
  },
  {
   "cell_type": "markdown",
   "metadata": {},
   "source": [
    "Adding Adjusted Notional"
   ]
  },
  {
   "cell_type": "code",
   "execution_count": 16,
   "metadata": {},
   "outputs": [],
   "source": [
    "m[\"Adjusted_Notional\"] = tt.agg.sum(\n",
    "    m[\"Notional\"]*m[\"Supervisory_Duration\"], scope = tt.scope.origin(lvl[\"AssetClass\"])\n",
    ")\n",
    "m[\"Adjusted_Notional\"].folder = trade_effective_folder"
   ]
  },
  {
   "cell_type": "markdown",
   "metadata": {},
   "source": [
    "Now we can determine the Trade Effective Notional : \n",
    "\n",
    "$$TradeEffectiveNotional = AdjustedNotional * MaturityFactor * SupervisoryDelta$$\n",
    "\n",
    "The Maturity Factor takes different values, depending on wether the trade is margined or unmargined (paragraph 164):\n",
    "\n",
    "margined :\n",
    "\n",
    "$$MF = 1.5 * \\sqrt{\\frac{MPOR}{1 year}}$$\n",
    "\n",
    "unmargined :\n",
    "\n",
    "$$MF = \\sqrt{\\frac{min(M_i, 1year)}{1year}}$$\n",
    "\n",
    "The $MPOR$ is the Margin Period Of Risk, given in the dataset. $M_i$ is the maturity of trade $i$"
   ]
  },
  {
   "cell_type": "code",
   "execution_count": 17,
   "metadata": {},
   "outputs": [],
   "source": [
    "m[\"m_i_diff\"] = tt.date_diff(lvl[\"AsOfDate\"], lvl[\"Mi\"], unit = \"days\")\n",
    "m[\"m_i_diff\"].folder = trade_effective_folder + separator_folder + detail_folder\n",
    "\n",
    "m[\"Maturity_Factor\"] = tt.where(\n",
    "    lvl[\"NettingType\"] == \"margined\",\n",
    "    1.5 * tt.sqrt(m[\"MPOR.VALUE\"]/number_of_days_in_year), \n",
    "    tt.sqrt(min(m[\"m_i_diff\"], number_of_days_in_year)/number_of_days_in_year)\n",
    ")\n",
    "m[\"Maturity_Factor\"].folder = trade_effective_folder\n"
   ]
  },
  {
   "cell_type": "markdown",
   "metadata": {},
   "source": [
    "Supervisory Delta takes different values depending on the nature of the instrument (paragraph 159) : \n",
    "\n",
    "| $\\delta_i$        | Bought / Long in the primary risk factor                                          | Sold / Short in the primary risk factor                                            |\n",
    "|-------------------|-----------------------------------------------------------------------------------|----------------------------------------------------------------------------------  |\n",
    "| Call Options      | $+ \\Phi(\\frac{ln(P_i / K_i) + 0.5 * \\sigma_i^2 * T_i}{\\sigma_i * \\sqrt{T_i}})$    | $ - \\Phi(\\frac{ln(P_i / K_i) + 0.5 * \\sigma_i^2 * T_i}{\\sigma_i * \\sqrt{T_i}})$    |\n",
    "| Put Options       | $- \\Phi( - \\frac{ln(P_i / K_i) + 0.5 * \\sigma_i^2 * T_i}{\\sigma_i * \\sqrt{T_i}})$ | $ + \\Phi( - \\frac{ln(P_i / K_i) + 0.5 * \\sigma_i^2 * T_i}{\\sigma_i * \\sqrt{T_i}})$ |\n",
    "| CDO tranches      | $+ \\frac{15}{(1+14*A_i)*(1+14*D_i)}$                                              | $- \\frac{15}{(1+14*A_i)*(1+14*D_i)}$                                               |\n",
    "| Other Instruments | $+1$                                                                              | $-1$                                                                               |\n",
    "\n",
    "Where $\\Phi$ is the Normal distribution function,\n",
    "\n",
    "$P_i$ is the Underlying Price of trade $i$,\n",
    "\n",
    "$K_i$ is the Strike Price of trade $i$,\n",
    "\n",
    "$\\sigma_i$ is the Supervisory Volatility of trade $i$,\n",
    "\n",
    "$T_i$ is the latest contractual exercise date of the option $i$\n",
    "\n",
    "$A_i$ is the Attachment value of the CDO tranche $i$\n",
    "\n",
    "and $D_i$ is the Detachment value of the CDO tranche $i$"
   ]
  },
  {
   "cell_type": "code",
   "execution_count": 18,
   "metadata": {},
   "outputs": [],
   "source": [
    "m[\"one\"] = 1.0\n",
    "m[\"one\"].visible = False\n",
    "\n",
    "m[\"t_i_diff\"] = (\n",
    "    tt.date_diff(lvl[\"AsOfDate\"], lvl[\"Ti\"], unit = \"days\") / number_of_days_in_year\n",
    ")\n",
    "m[\"t_i_diff\"].folder = trade_effective_folder + separator_folder + detail_folder\n",
    "\n",
    "S_delta_else_long = tt.filter(\n",
    "    m[\"one\"],\n",
    "    (lvl[\"Direction\"] == \"Long\") \n",
    "    & (lvl[\"Instrument\"] != \"option\") \n",
    "    & (lvl[\"Instrument\"] != \"CDO\")\n",
    ")\n",
    "S_delta_else_short = tt.filter(\n",
    "    (-1.0)*m[\"one\"], \n",
    "    (lvl[\"Direction\"] == \"Short\") \n",
    "    & (lvl[\"Instrument\"] != \"option\") \n",
    "    & (lvl[\"Instrument\"] != \"CDO\")\n",
    ")\n",
    "\n",
    "def dl_erf(x):\n",
    "    \"\"\" Taylor expansion of the error function at order 9 \"\"\"\n",
    "    return (2/sqrt(pi)) * (\n",
    "        x  - (1.0/3.0) * (x**3) + (1.0/10.0) * (x**5) - (1.0/42.0) * (x**7) \n",
    "    )\n",
    "    \n",
    "\n",
    "def phi(x): \n",
    "    \"\"\" Normal distribution function \"\"\"\n",
    "    return (1.0 + dl_erf(x/sqrt(2))) / 2.0\n",
    "\n",
    "put = tt.where(lvl[\"OptionType\"] == \"P\", -1.0, 1.0)\n",
    "\n",
    "\n",
    "bought = tt.where(m[\"MarketValue\"]>0, 1.0, -1.0)\n",
    "\n",
    "m[\"lnPK\"] = tt.log(m[\"Underlying Price\"]/m[\"Strike Price\"])\n",
    "m[\"lnPK\"].folder = trade_effective_folder + separator_folder + detail_folder\n",
    "m[\"sigma_sqrtTi\"] = m[\"Supervisory_Option_Volatility\"] * tt.sqrt(m[\"t_i_diff\"])\n",
    "m[\"sigma_sqrtTi\"].folder = trade_effective_folder + separator_folder + detail_folder\n",
    "m[\"argument_phi\"] = (m[\"lnPK\"]  +  0.5 * (m[\"sigma_sqrtTi\"]**2)) / m[\"sigma_sqrtTi\"]\n",
    "m[\"argument_phi\"].folder = trade_effective_folder + separator_folder + detail_folder\n",
    "\n",
    "S_delta_option = tt.filter(\n",
    "    bought * put * phi( put * m[\"argument_phi\"])  , lvl[\"Instrument\"] == \"option\"\n",
    ")\n",
    "\n",
    "S_delta_CDO = tt.filter(\n",
    "    bought * 15.0 / ((1.0 + 14.0 * m[\"Attachment\"]) * (1.0 + 14.0 * m[\"Detachment\"])),\n",
    "    lvl[\"Instrument\"] == \"CDO\",\n",
    ")\n",
    "\n",
    "m[\"S_delta\"] = S_delta_option + S_delta_else_long + S_delta_else_short + S_delta_CDO\n",
    "m[\"S_delta\"].folder = trade_effective_folder + separator_folder + detail_folder"
   ]
  },
  {
   "cell_type": "markdown",
   "metadata": {},
   "source": [
    "Adding Trade Effective Notional"
   ]
  },
  {
   "cell_type": "code",
   "execution_count": 19,
   "metadata": {},
   "outputs": [],
   "source": [
    "m[\"Trade_Effective_Notional\"] = tt.agg.sum(\n",
    "    m[\"Adjusted_Notional\"] * m[\"S_delta\"] * m[\"Maturity_Factor\"], \n",
    "    scope = tt.scope.origin(lvl[\"TradeId\"]),\n",
    ")"
   ]
  },
  {
   "cell_type": "code",
   "execution_count": 21,
   "metadata": {
    "atoti": {
     "height": 671,
     "state": {
      "name": "",
      "type": "container",
      "value": {
       "body": {
        "configuration": {
         "tabular": {
          "addButtonFilter": "numeric",
          "autoResizeHeight": true,
          "columns": [],
          "columnsGroups": [
           {
            "captionProducer": "firstColumn",
            "cellFactory": "kpi-status",
            "selector": "kpi-status"
           },
           {
            "captionProducer": "firstColumn",
            "cellFactory": "lookup",
            "selector": "lookup"
           },
           {
            "captionProducer": "expiry",
            "cellFactory": "expiry",
            "selector": "kpi-expiry"
           },
           {
            "captionProducer": "columnMerge",
            "cellFactory": {
             "args": {
              "automaticExpansion": true
             },
             "key": "treeCells"
            },
            "selector": "member"
           }
          ],
          "defaultOptions": {
           "headerHeight": 51
          },
          "hideAddButton": true,
          "lineNumbers": true,
          "pinnedHeaderSelector": "member",
          "sortingMode": "non-breaking",
          "statisticsShown": true
         }
        },
        "contextValues": {},
        "mdx": "SELECT NON EMPTY {[Measures].[Adjusted_Notional], [Measures].[Maturity_Factor], [Measures].[S_delta], [Measures].[Trade_Effective_Notional]} ON COLUMNS, NON EMPTY Hierarchize(Union(Crossjoin(Hierarchize(DrilldownLevel([AssetClass].[AssetClass].[ALL].[AllMember])), Hierarchize(DrilldownLevel([OptionType].[OptionType].[ALL].[AllMember])), [NettingSets].[NettingType].DefaultMember, Hierarchize(DrilldownLevel([TradeAttributes].[Ti].[ALL].[AllMember])), Hierarchize(DrilldownLevel([TradeId].[TradeId].[ALL].[AllMember]))), Crossjoin([AssetClass].[AssetClass].[ALL].[AllMember].[Interest Rate], [OptionType].[OptionType].[ALL].[AllMember].[C], [NettingSets].[NettingType].DefaultMember, Hierarchize(DrilldownLevel([TradeAttributes].[Ti].[ALL].[AllMember])), Hierarchize(DrilldownLevel([TradeId].[TradeId].[ALL].[AllMember]))), Crossjoin([AssetClass].[AssetClass].[ALL].[AllMember].[Interest Rate], [OptionType].[OptionType].[ALL].[AllMember].[C], [NettingSets].[NettingType].[NettingType].Members, Hierarchize(DrilldownLevel([TradeAttributes].[Ti].[ALL].[AllMember])), Hierarchize(DrilldownLevel([TradeId].[TradeId].[ALL].[AllMember]))), Crossjoin([AssetClass].[AssetClass].[ALL].[AllMember].[Interest Rate], [OptionType].[OptionType].[ALL].[AllMember].[P], Descendants({[NettingSets].[NettingType].[ALL].[AllMember]}, [NettingSets].[NettingType].[NettingType]), Hierarchize(DrilldownLevel([TradeAttributes].[Ti].[ALL].[AllMember])), Hierarchize(DrilldownLevel([TradeId].[TradeId].[ALL].[AllMember]))))) ON ROWS FROM (SELECT Except([TradeAttributes].[Ti].[Ti].Members, {[TradeAttributes].[Ti].[ALL].[AllMember].[N/A]}) ON COLUMNS FROM [main_cube]) CELL PROPERTIES VALUE, FORMATTED_VALUE, BACK_COLOR, FORE_COLOR, FONT_FLAGS",
        "ranges": {
         "column": {
          "chunkSize": 50,
          "thresholdPercentage": 0.2
         },
         "row": {
          "chunkSize": 2000,
          "thresholdPercentage": 0.1
         }
        },
        "serverUrl": "",
        "updateMode": "once"
       },
       "containerKey": "pivot-table",
       "showTitleBar": false,
       "style": {}
      }
     }
    }
   },
   "outputs": [
    {
     "data": {
      "application/vnd.atoti.v0+json": {
       "cube": "main_cube",
       "name": null,
       "session": "Unnamed"
      },
      "text/plain": [
       "Install and enable the atoti JupyterLab extension to see this widget."
      ]
     },
     "metadata": {},
     "output_type": "display_data"
    }
   ],
   "source": [
    "cube.visualize()"
   ]
  },
  {
   "cell_type": "markdown",
   "metadata": {},
   "source": [
    "## Add-on Calculations\n",
    "\n",
    "Each trade has a RiskClass (or AssetClass) which corresponds to its primary risk factor. There are 5 Risk Classes : Interest Rate (IR), Credit (CR), Commodity (CO), Foreign Exchange (FX) and Equity (EQ). The Add-On aggregate used in the EAD calculations is the sum of the 5 add-ons determined for each one of these Risk Classes. Each Class is divided in Hedge Sets. The Add-On is aggregated from the Trade Effective Notional in each Hedge Set, following different formulas depending on the Risk Class. The Add-On of a Risk Class is the sum of the Add-Ons of its Hedge Sets. (part I/B) \n",
    "\n",
    "### 1: Interest Rates (IR) add on\n",
    "\n",
    "Interest rates are separated in one hedge set for each currency used.\n",
    "Each hedge set is then separated in maturity buckets depending on $M_i$. If $M_i$ is less than one year, the trade goes in the first Maturity Bucket, if it is between one and five years, the trade goes in the second Maturity Bucket, and if it is more than 5 years the trade goes in the third Maturity Bucket.\n",
    "\n",
    "\n",
    "In each Maturity Bucket $k$ of Hedge Set $j$, the effective notional $EN_{j,k}$ is the sum of the Trade Effective Notionals of the trades. \n",
    "The effective notional $EN_j$ of the Hedge Set $j$ is then determined with the following formula :\n",
    "\n",
    "$$EN_{j} = ( EN_{j,1}^2 + EN_{j,2}^2 + EN_{j,3}^2 + 1.4 * EN_{j,1} * EN_{j,2} + 1.4 * EN_{j,2} * EN_{j,3} + 0.6 * EN_{j,1} * EN_{j,3} )^{\\frac{1}{2}}$$\n",
    "\n",
    "The Add-On for each hedge set is then simply : \n",
    "\n",
    "$$AddOn_{j}^{(IR)} = SF^{(IR)} * EN_j $$\n",
    "\n",
    "where $SF^{IR}$ is the Supervisory Factor for Interest Rate assets (given in the supervisory parameters store)\n",
    "\n",
    "The Add_On for Interest Rate assets is then the sum of the $AddOn_{j}^{(IR)}$ on the hedge sets.\n"
   ]
  },
  {
   "cell_type": "code",
   "execution_count": 22,
   "metadata": {},
   "outputs": [],
   "source": [
    "m[\"Effective_notional_IR_j_k\"] = tt.filter(\n",
    "    m[\"Trade_Effective_Notional\"], lvl[\"AssetClass\"] == \"Interest Rate\"\n",
    ")\n",
    "m[\"Effective_notional_IR_j_k\"].folder = (\n",
    "    add_on_folder + separator_folder + ir_folder + separator_folder + detail_folder\n",
    ")\n",
    "m[\"Effective_notional_IR_j_k\"].formatter = \"DOUBLE[#,###]\"\n"
   ]
  },
  {
   "cell_type": "code",
   "execution_count": 23,
   "metadata": {},
   "outputs": [],
   "source": [
    "m[\"carres_Djk\"] = tt.agg.sum(\n",
    "    (m[\"Effective_notional_IR_j_k\"]**2), \n",
    "    scope = tt.scope.origin(lvl[\"Hedge_Set\"],lvl[\"MaturityBuckets\"]),\n",
    ") \n",
    "m[\"carres_Djk\"].folder = (\n",
    "    add_on_folder + separator_folder + ir_folder + separator_folder + detail_folder\n",
    ")"
   ]
  },
  {
   "cell_type": "code",
   "execution_count": 24,
   "metadata": {},
   "outputs": [],
   "source": [
    "effective_notional_per_hedge_set = tt.agg.sum(\n",
    "    m[\"Effective_notional_IR_j_k\"], scope = tt.scope.origin(lvl[\"Hedge_Set\"])\n",
    ")\n",
    "\n",
    "effective_notional_per_hedge_set_mb1 = tt.filter(\n",
    "    effective_notional_per_hedge_set, lvl[\"MaturityBuckets\"] == 1\n",
    ")\n",
    "effective_notional_per_hedge_set_mb2 = tt.filter(\n",
    "    effective_notional_per_hedge_set, lvl[\"MaturityBuckets\"] == 2\n",
    ")\n",
    "effective_notional_per_hedge_set_mb3 = tt.filter(\n",
    "    effective_notional_per_hedge_set, lvl[\"MaturityBuckets\"] == 3\n",
    ")\n",
    "\n",
    "m[\"Effective_notional_IR_j\"] = tt.sqrt(\n",
    "    m[\"carres_Djk\"] \n",
    "    + 1.4 * effective_notional_per_hedge_set_mb1 * effective_notional_per_hedge_set_mb2 \n",
    "    + 1.4 * effective_notional_per_hedge_set_mb2 * effective_notional_per_hedge_set_mb3 \n",
    "    + 0.6 * effective_notional_per_hedge_set_mb1 * effective_notional_per_hedge_set_mb3\n",
    ")\n",
    "m[\"Effective_notional_IR_j\"].folder = (\n",
    "    add_on_folder + separator_folder + ir_folder + separator_folder + detail_folder\n",
    ")\n",
    "m[\"Effective_notional_IR_j\"].formatter = \"DOUBLE[#,###]\"\n"
   ]
  },
  {
   "cell_type": "code",
   "execution_count": 25,
   "metadata": {},
   "outputs": [],
   "source": [
    "m[\"AddOn_IR_j\"] = m[\"SupervisoryFactor\"] * m[\"Effective_notional_IR_j\"]\n",
    "m[\"AddOn_IR_j\"].folder = (\n",
    "    add_on_folder + separator_folder + ir_folder + separator_folder + detail_folder\n",
    ")\n",
    "m[\"AddOn_IR_j\"].formatter = \"DOUBLE[#,###]\"\n",
    "m[\"AddOn_IR\"] =tt.agg.sum(m[\"AddOn_IR_j\"], scope = tt.scope.origin(lvl[\"Hedge_Set\"]))\n",
    "m[\"AddOn_IR\"].folder = add_on_folder + separator_folder + ir_folder\n",
    "m[\"AddOn_IR\"].formatter = \"DOUBLE[#,###]\""
   ]
  },
  {
   "cell_type": "code",
   "execution_count": 27,
   "metadata": {
    "atoti": {
     "state": {
      "name": "",
      "type": "container",
      "value": {
       "body": {
        "configuration": {
         "tabular": {
          "addButtonFilter": "numeric",
          "autoResizeHeight": true,
          "columnsGroups": [
           {
            "captionProducer": "firstColumn",
            "cellFactory": "kpi-status",
            "selector": "kpi-status"
           },
           {
            "captionProducer": "firstColumn",
            "cellFactory": "lookup",
            "selector": "lookup"
           },
           {
            "captionProducer": "expiry",
            "cellFactory": "expiry",
            "selector": "kpi-expiry"
           },
           {
            "captionProducer": "columnMerge",
            "cellFactory": {
             "args": {
              "automaticExpansion": true
             },
             "key": "treeCells"
            },
            "selector": "member"
           }
          ],
          "defaultOptions": {
           "headerHeight": 51
          },
          "hideAddButton": true,
          "lineNumbers": true,
          "pinnedHeaderSelector": "member",
          "sortingMode": "non-breaking",
          "statisticsShown": true
         }
        },
        "contextValues": {},
        "mdx": "SELECT NON EMPTY {[Measures].[Effective_notional_IR_j_k], [Measures].[carres_Djk], [Measures].[Effective_notional_IR_j], [Measures].[SupervisoryFactor], [Measures].[AddOn_IR_j], [Measures].[AddOn_IR]} ON COLUMNS, NON EMPTY Crossjoin(Hierarchize(DrilldownLevel([Hedge_Set].[Hedge_Set].[ALL].[AllMember])), Hierarchize(DrilldownLevel([MaturityBuckets].[MaturityBuckets].[ALL].[AllMember]))) ON ROWS FROM [main_cube] WHERE [AssetClass].[AssetClass].[ALL].[AllMember].[Interest Rate] CELL PROPERTIES VALUE, FORMATTED_VALUE, BACK_COLOR, FORE_COLOR, FONT_FLAGS",
        "ranges": {
         "column": {
          "chunkSize": 50,
          "thresholdPercentage": 0.2
         },
         "row": {
          "chunkSize": 2000,
          "thresholdPercentage": 0.1
         }
        },
        "serverUrl": "",
        "updateMode": "once"
       },
       "containerKey": "pivot-table",
       "showTitleBar": false,
       "style": {}
      }
     }
    }
   },
   "outputs": [
    {
     "data": {
      "application/vnd.atoti.v0+json": {
       "cube": "main_cube",
       "name": null,
       "session": "Unnamed"
      },
      "text/plain": [
       "Install and enable the atoti JupyterLab extension to see this widget."
      ]
     },
     "metadata": {},
     "output_type": "display_data"
    }
   ],
   "source": [
    "cube.visualize()"
   ]
  },
  {
   "cell_type": "markdown",
   "metadata": {},
   "source": [
    "### 2: Credit (CR) add on\n",
    "\n",
    "There is only one Hedge Set for Credit derivatives. In this Hedge Set, the trades are grouped depending on which entity issued them. The Add-On for an entity is the sum of the Trade Effective Notionals of the corresponding trades, multiplied by the Supervisory Factor. The Supervisory Factor depends on the rating of the entity. \n"
   ]
  },
  {
   "cell_type": "code",
   "execution_count": 28,
   "metadata": {},
   "outputs": [],
   "source": [
    "m[\"AddOn_CR_per_entity\"] = tt.filter(\n",
    "    m[\"SupervisoryFactor\"] * m[\"Trade_Effective_Notional\"], lvl[\"RiskClass\"] == \"Credit\"\n",
    ")\n",
    "m[\"AddOn_CR_per_entity\"].folder = add_on_folder + separator_folder + credit_folder\n",
    "m[\"AddOn_CR_per_entity\"].formatter = \"DOUBLE[#,###]\"\n"
   ]
  },
  {
   "cell_type": "markdown",
   "metadata": {},
   "source": [
    "After determining the AddOn per entity, we can deduce the Credit AddOn with the following formula (paragraph 173) :\n",
    "\n",
    "$$ AddOn^{(CR)} = [(\\sum_{k} \\rho_{k}^{(CR)} *  AddOn(Entity_{k}) )^{2} + \\sum_{k} (1-(\\rho_{k}^{(CR)} )^{2}) *  (AddOn(Entity_{k}))^{2} ]^{1/2}$$\n",
    "\n",
    "where $\\rho_k^{(CR)}$ is the Correlation. It takes different values wether the trade's Asset Class is Credit Single Name or Credit Index (the two possible Asset Class for Credit derivatives)."
   ]
  },
  {
   "cell_type": "code",
   "execution_count": 29,
   "metadata": {},
   "outputs": [],
   "source": [
    "squared_sum_CR = (\n",
    "    tt.agg.sum(\n",
    "        m[\"Correlation\"] * m[\"AddOn_CR_per_entity\"],\n",
    "        scope = tt.scope.origin(lvl[\"Underlying\"])\n",
    "    )\n",
    "    ** 2\n",
    ")\n",
    "\n",
    "sum_of_squares_CR = tt.agg.sum( \n",
    "    (1.0 - (m[\"Correlation\"]**2)) * (m[\"AddOn_CR_per_entity\"]**2),\n",
    "    scope = tt.scope.origin(lvl[\"Underlying\"]),\n",
    ")\n",
    "\n",
    "m[\"AddOn_CR\"] = tt.sqrt(squared_sum_CR + sum_of_squares_CR)\n",
    "m[\"AddOn_CR\"].folder = add_on_folder + separator_folder + credit_folder\n",
    "m[\"AddOn_CR\"].formatter = \"DOUBLE[#,###]\"\n"
   ]
  },
  {
   "cell_type": "code",
   "execution_count": 31,
   "metadata": {
    "atoti": {
     "state": {
      "name": "",
      "type": "container",
      "value": {
       "body": {
        "configuration": {
         "tabular": {
          "addButtonFilter": "numeric",
          "columnsGroups": [
           {
            "captionProducer": "firstColumn",
            "cellFactory": "kpi-status",
            "selector": "kpi-status"
           },
           {
            "captionProducer": "firstColumn",
            "cellFactory": "lookup",
            "selector": "lookup"
           },
           {
            "captionProducer": "expiry",
            "cellFactory": "expiry",
            "selector": "kpi-expiry"
           },
           {
            "captionProducer": "columnMerge",
            "cellFactory": {
             "args": {},
             "key": "treeCells"
            },
            "selector": "member"
           }
          ],
          "defaultOptions": {},
          "expansion": {
           "automaticExpansion": true
          },
          "hideAddButton": true,
          "pinnedHeaderSelector": "member",
          "sortingMode": "non-breaking",
          "statisticsShown": true
         }
        },
        "contextValues": {},
        "mdx": "SELECT NON EMPTY Crossjoin(Hierarchize(DrilldownLevel([Hedge_Set].[Hedge_Set].[ALL].[AllMember])), Hierarchize(DrilldownLevel([Underlyings].[Underlying].[ALL].[AllMember]))) ON ROWS, NON EMPTY {[Measures].[Trade_Effective_Notional], [Measures].[SupervisoryFactor], [Measures].[AddOn_CR_per_entity], [Measures].[Correlation], [Measures].[AddOn_CR]} ON COLUMNS FROM (SELECT {[AssetClass].[AssetClass].[ALL].[AllMember].[Credit Index], [AssetClass].[AssetClass].[ALL].[AllMember].[Credit Single Name]} ON COLUMNS FROM [main_cube]) CELL PROPERTIES VALUE, FORMATTED_VALUE, BACK_COLOR, FORE_COLOR, FONT_FLAGS",
        "ranges": {
         "column": {
          "chunkSize": 50,
          "thresholdPercentage": 0.2
         },
         "row": {
          "chunkSize": 2000,
          "thresholdPercentage": 0.1
         }
        },
        "serverUrl": "",
        "updateMode": "once"
       },
       "containerKey": "pivot-table",
       "showTitleBar": false,
       "style": {}
      }
     }
    }
   },
   "outputs": [
    {
     "data": {
      "application/vnd.atoti.v0+json": {
       "cube": "main_cube",
       "name": null,
       "session": "Unnamed"
      },
      "text/plain": [
       "Install and enable the atoti JupyterLab extension to see this widget."
      ]
     },
     "metadata": {},
     "output_type": "display_data"
    }
   ],
   "source": [
    "cube.visualize()"
   ]
  },
  {
   "cell_type": "markdown",
   "metadata": {},
   "source": [
    "### 3: Commodity (CO) Add-On\n",
    "\n",
    "Commodities are separated in 4 Hedge Sets : Energy, Metals, Agricultural and Others depending on the commodity exchanged.\n",
    "Inside these Hedge Sets, the trades are grouped following the underlying type of commodity exchanged. For example, inside the Energy Hedge Set, trades may belong to the \"Oil/Gas\" bucket, or to the \"Electricity\" bucket.\n",
    "The Add-On for one of these bucket is simply the sum of the Trade Effective Notionals, multiplied by the Supervisory Factor (different for each Hedge Set).\n",
    "\n",
    "Within each hedging set $j$, the add-on is calculated following the formula in paragraph 179 :\n",
    "\n",
    "$$ AddOn_{HS_{j}}^{(CO)} = [(\\rho_{j}^{(CO)} * \\sum_{k}  AddOn(Type_{k}^{ j}) )^{2} + (1-(\\rho_{j}^{(CO)} )^{2}) * \\sum_{k}  (AddOn(Type_{k}^{ j}))^{2} ]^{1/2}$$\n",
    "\n",
    "Where $\\rho_j^{(CO)}$ is the Correlation and $Type_k^j$ the $k$-th type bucket of Hedge Set $j$.\n",
    "\n",
    "The global commodity Add-On is then the sum of the 4 Hedge Set Add-Ons"
   ]
  },
  {
   "cell_type": "code",
   "execution_count": 32,
   "metadata": {},
   "outputs": [],
   "source": [
    "m[\"AddOn_CO_j_k\"] = tt.filter(\n",
    "    m[\"SupervisoryFactor\"] * m[\"Trade_Effective_Notional\"], \n",
    "    lvl[\"AssetClass\"] == \"Commodity\",\n",
    ")\n",
    "m[\"AddOn_CO_j_k\"].folder = add_on_folder + separator_folder + commodity_folder\n",
    "m[\"AddOn_CO_j_k\"].formatter = \"DOUBLE[#,###]\"\n"
   ]
  },
  {
   "cell_type": "code",
   "execution_count": 33,
   "metadata": {},
   "outputs": [],
   "source": [
    "squared_sum_CO = (\n",
    "    tt.agg.sum(\n",
    "        m[\"Correlation\"] * m[\"AddOn_CO_j_k\"],\n",
    "        scope = tt.scope.origin(lvl[\"Underlying\"],lvl[\"UnderlyingType\"])\n",
    "    )\n",
    "    ** 2\n",
    ")\n",
    "sum_of_squares_CO = tt.agg.sum(\n",
    "    (1.0 - (m[\"Correlation\"]**2)) * (m[\"AddOn_CO_j_k\"]**2), \n",
    "    scope = tt.scope.origin(lvl[\"Underlying\"],lvl[\"UnderlyingType\"]),\n",
    ")\n",
    "m[\"AddOn_CO_j\"] = tt.sqrt(squared_sum_CO + sum_of_squares_CO)\n",
    "m[\"AddOn_CO_j\"].folder = add_on_folder + separator_folder + commodity_folder\n",
    "m[\"AddOn_CO_j\"].formatter = \"DOUBLE[#,###]\"\n",
    "\n",
    "\n",
    "m[\"AddOn_CO\"] = tt.agg.sum(m[\"AddOn_CO_j\"], scope = tt.scope.origin(lvl[\"Hedge_Set\"]))\n",
    "m[\"AddOn_CO\"].folder = add_on_folder + separator_folder + commodity_folder\n",
    "m[\"AddOn_CO\"].formatter = \"DOUBLE[#,###]\""
   ]
  },
  {
   "cell_type": "code",
   "execution_count": 35,
   "metadata": {
    "atoti": {
     "state": {
      "name": "",
      "type": "container",
      "value": {
       "body": {
        "configuration": {
         "tabular": {
          "addButtonFilter": "numeric",
          "columnsGroups": [
           {
            "captionProducer": "firstColumn",
            "cellFactory": "kpi-status",
            "selector": "kpi-status"
           },
           {
            "captionProducer": "firstColumn",
            "cellFactory": "lookup",
            "selector": "lookup"
           },
           {
            "captionProducer": "expiry",
            "cellFactory": "expiry",
            "selector": "kpi-expiry"
           },
           {
            "captionProducer": "columnMerge",
            "cellFactory": {
             "args": {
              "automaticExpansion": true
             },
             "key": "treeCells"
            },
            "selector": "member"
           }
          ],
          "defaultOptions": {},
          "hideAddButton": true,
          "lineNumbers": true,
          "pinnedHeaderSelector": "member",
          "sortingMode": "non-breaking",
          "statisticsShown": true
         }
        },
        "contextValues": {},
        "mdx": "SELECT NON EMPTY Crossjoin(Hierarchize(DrilldownLevel([Hedge_Set].[Hedge_Set].[ALL].[AllMember])), Hierarchize(DrilldownLevel([Underlyings].[UnderlyingType].[ALL].[AllMember]))) ON ROWS, NON EMPTY {[Measures].[Trade_Effective_Notional], [Measures].[SupervisoryFactor], [Measures].[AddOn_CO_j_k], [Measures].[Correlation], [Measures].[AddOn_CO_j], [Measures].[AddOn_CO]} ON COLUMNS FROM [main_cube] WHERE [AssetClass].[AssetClass].[ALL].[AllMember].[Commodity] CELL PROPERTIES VALUE, FORMATTED_VALUE, BACK_COLOR, FORE_COLOR, FONT_FLAGS",
        "ranges": {
         "column": {
          "chunkSize": 50,
          "thresholdPercentage": 0.2
         },
         "row": {
          "chunkSize": 2000,
          "thresholdPercentage": 0.1
         }
        },
        "serverUrl": "",
        "updateMode": "once"
       },
       "containerKey": "pivot-table",
       "showTitleBar": false,
       "style": {}
      }
     }
    }
   },
   "outputs": [
    {
     "data": {
      "application/vnd.atoti.v0+json": {
       "cube": "main_cube",
       "name": null,
       "session": "Unnamed"
      },
      "text/plain": [
       "Install and enable the atoti JupyterLab extension to see this widget."
      ]
     },
     "metadata": {},
     "output_type": "display_data"
    }
   ],
   "source": [
    "cube.visualize()"
   ]
  },
  {
   "cell_type": "markdown",
   "metadata": {},
   "source": [
    "### 4: Foreign Exchange (FX) Add-On\n",
    "\n",
    "Foreign Exchange trades are separated in one Hedge Set for each currency pair (paragraph 170). \n",
    "Inside of each Hedge Sets, the add-on is determined by multiplying the absolute value of the sum of Trade Effective Notionals by the corresponding Supervisory Factor :\n",
    "\n",
    "$$AddOn_{HS_{j}}^{(FX)} = SF_{j}^{(FX)} * |EffectiveNotional_{j}^{(FX)}| $$\n",
    "\n",
    "and :\n",
    "\n",
    "$$AddOn^{(FX)} = \\sum_{j} AddOn_{HS_{j}}^{(FX)} $$\n"
   ]
  },
  {
   "cell_type": "code",
   "execution_count": 36,
   "metadata": {},
   "outputs": [],
   "source": [
    "m[\"AddOn_FX_j\"] = tt.filter(\n",
    "    m[\"SupervisoryFactor\"] * tt.abs(m[\"Trade_Effective_Notional\"]),\n",
    "    lvl[\"AssetClass\"] == \"FX\",\n",
    ")\n",
    "m[\"AddOn_FX_j\"].folder = add_on_folder + separator_folder + fx_folder\n",
    "m[\"AddOn_FX_j\"].formatter = \"DOUBLE[#,###]\"\n",
    "\n",
    "\n",
    "m[\"AddOn_FX\"] = tt.agg.sum(m[\"AddOn_FX_j\"], scope = tt.scope.origin(lvl[\"Hedge_Set\"]))\n",
    "m[\"AddOn_FX\"].folder = add_on_folder + separator_folder + fx_folder\n",
    "m[\"AddOn_FX\"].formatter = \"DOUBLE[#,###]\"\n"
   ]
  },
  {
   "cell_type": "code",
   "execution_count": 38,
   "metadata": {
    "atoti": {
     "state": {
      "name": "",
      "type": "container",
      "value": {
       "body": {
        "configuration": {
         "tabular": {
          "addButtonFilter": "numeric",
          "columnsGroups": [
           {
            "captionProducer": "firstColumn",
            "cellFactory": "kpi-status",
            "selector": "kpi-status"
           },
           {
            "captionProducer": "firstColumn",
            "cellFactory": "lookup",
            "selector": "lookup"
           },
           {
            "captionProducer": "expiry",
            "cellFactory": "expiry",
            "selector": "kpi-expiry"
           },
           {
            "captionProducer": "columnMerge",
            "cellFactory": {
             "args": {},
             "key": "treeCells"
            },
            "selector": "member"
           }
          ],
          "defaultOptions": {},
          "expansion": {
           "automaticExpansion": true
          },
          "hideAddButton": true,
          "pinnedHeaderSelector": "member",
          "sortingMode": "non-breaking",
          "statisticsShown": true
         }
        },
        "contextValues": {},
        "mdx": "SELECT NON EMPTY Hierarchize(DrilldownLevel([Hedge_Set].[Hedge_Set].[ALL].[AllMember])) ON ROWS, NON EMPTY {[Measures].[Trade_Effective_Notional], [Measures].[SupervisoryFactor], [Measures].[AddOn_FX_j], [Measures].[AddOn_FX]} ON COLUMNS FROM [main_cube] WHERE [AssetClass].[AssetClass].[ALL].[AllMember].[FX] CELL PROPERTIES VALUE, FORMATTED_VALUE, BACK_COLOR, FORE_COLOR, FONT_FLAGS",
        "ranges": {
         "column": {
          "chunkSize": 50,
          "thresholdPercentage": 0.2
         },
         "row": {
          "chunkSize": 2000,
          "thresholdPercentage": 0.1
         }
        },
        "serverUrl": "",
        "updateMode": "once"
       },
       "containerKey": "pivot-table",
       "showTitleBar": false,
       "style": {}
      }
     }
    }
   },
   "outputs": [
    {
     "data": {
      "application/vnd.atoti.v0+json": {
       "cube": "main_cube",
       "name": null,
       "session": "Unnamed"
      },
      "text/plain": [
       "Install and enable the atoti JupyterLab extension to see this widget."
      ]
     },
     "metadata": {},
     "output_type": "display_data"
    }
   ],
   "source": [
    "cube.visualize()"
   ]
  },
  {
   "cell_type": "markdown",
   "metadata": {},
   "source": [
    "### 5: Equity (EQ) derivatives Add-On\n",
    "\n",
    "Equity Add-On is determined in the same way as Credit Add-On. The trades are grouped under a single Hedge Set, and grouped by entity inside. However, the supervisory factor no longer depends on the rating of the entity but rather on wether the trade's Asset Class is Equity Index or Equity Single Name. The formula to determine its value from the Trade Effective Notional is in paragraph 177 :\n",
    "\n",
    "$$ AddOn^{(EQ)} = [(\\sum_{k} \\rho_{k}^{(EQ)} *  AddOn(Entity_{k}) )^{2} + \\sum_{k} (1-(\\rho_{k}^{(EQ)} )^{2}) *  (AddOn(Entity_{k}))^{2} ]^{1/2}$$\n",
    "\n",
    "where $\\rho_{k}$ is the correlation factor corresponding to entity k\n"
   ]
  },
  {
   "cell_type": "code",
   "execution_count": 39,
   "metadata": {},
   "outputs": [],
   "source": [
    "m[\"AddOn_EQ_per_entity\"] = tt.filter(\n",
    "    m[\"SupervisoryFactor\"] * m[\"Trade_Effective_Notional\"], lvl[\"RiskClass\"] == \"Equity\"\n",
    ")\n",
    "m[\"AddOn_EQ_per_entity\"].folder = add_on_folder + separator_folder + equity_folder\n",
    "m[\"AddOn_EQ_per_entity\"].formatter = \"DOUBLE[#,###]\"\n"
   ]
  },
  {
   "cell_type": "code",
   "execution_count": 40,
   "metadata": {},
   "outputs": [],
   "source": [
    "squared_sum_EQ = (\n",
    "    tt.agg.sum(\n",
    "        m[\"Correlation\"] * m[\"AddOn_EQ_per_entity\"],\n",
    "        scope = tt.scope.origin(lvl[\"Underlying\"])\n",
    "    )\n",
    "    ** 2\n",
    ")\n",
    "\n",
    "sum_of_squares_EQ = tt.agg.sum( \n",
    "    (1.0 - (m[\"Correlation\"]**2)) * (m[\"AddOn_EQ_per_entity\"] ** 2), \n",
    "    scope = tt.scope.origin(lvl[\"Underlying\"]),\n",
    ")\n",
    "\n",
    "m[\"AddOn_EQ\"] = tt.sqrt(squared_sum_EQ + sum_of_squares_EQ)\n",
    "m[\"AddOn_EQ\"].folder = add_on_folder + separator_folder + equity_folder\n",
    "m[\"AddOn_EQ\"].formatter = \"DOUBLE[#,###]\"\n"
   ]
  },
  {
   "cell_type": "code",
   "execution_count": 42,
   "metadata": {
    "atoti": {
     "state": {
      "name": "",
      "type": "container",
      "value": {
       "body": {
        "configuration": {
         "tabular": {
          "addButtonFilter": "numeric",
          "columnsGroups": [
           {
            "captionProducer": "firstColumn",
            "cellFactory": "kpi-status",
            "selector": "kpi-status"
           },
           {
            "captionProducer": "firstColumn",
            "cellFactory": "lookup",
            "selector": "lookup"
           },
           {
            "captionProducer": "expiry",
            "cellFactory": "expiry",
            "selector": "kpi-expiry"
           },
           {
            "captionProducer": "columnMerge",
            "cellFactory": {
             "args": {},
             "key": "treeCells"
            },
            "selector": "member"
           }
          ],
          "defaultOptions": {},
          "expansion": {
           "automaticExpansion": true
          },
          "hideAddButton": true,
          "pinnedHeaderSelector": "member",
          "sortingMode": "non-breaking",
          "statisticsShown": true
         }
        },
        "contextValues": {},
        "mdx": "SELECT NON EMPTY Crossjoin(Hierarchize(DrilldownLevel([Hedge_Set].[Hedge_Set].[ALL].[AllMember])), Hierarchize(DrilldownLevel([Underlyings].[Underlying].[ALL].[AllMember]))) ON ROWS, NON EMPTY {[Measures].[Trade_Effective_Notional], [Measures].[SupervisoryFactor], [Measures].[AddOn_EQ_per_entity], [Measures].[Correlation], [Measures].[AddOn_EQ]} ON COLUMNS FROM [main_cube] WHERE [RiskClass].[RiskClass].[ALL].[AllMember].[Equity] CELL PROPERTIES VALUE, FORMATTED_VALUE, BACK_COLOR, FORE_COLOR, FONT_FLAGS",
        "ranges": {
         "column": {
          "chunkSize": 50,
          "thresholdPercentage": 0.2
         },
         "row": {
          "chunkSize": 2000,
          "thresholdPercentage": 0.1
         }
        },
        "serverUrl": "",
        "updateMode": "once"
       },
       "containerKey": "pivot-table",
       "showTitleBar": false,
       "style": {}
      }
     }
    }
   },
   "outputs": [
    {
     "data": {
      "application/vnd.atoti.v0+json": {
       "cube": "main_cube",
       "name": null,
       "session": "Unnamed"
      },
      "text/plain": [
       "Install and enable the atoti JupyterLab extension to see this widget."
      ]
     },
     "metadata": {},
     "output_type": "display_data"
    }
   ],
   "source": [
    "cube.visualize()"
   ]
  },
  {
   "cell_type": "markdown",
   "metadata": {},
   "source": [
    "## Final Calculations\n",
    "Now that we have determined the add-on corresponding to every risk class, we can determine the aggregated add-on, as their sum, and then calculate the EAD.\n",
    "\n",
    "The Add-on aggregate is simply the sum of all five Risk Class Add-Ons"
   ]
  },
  {
   "cell_type": "code",
   "execution_count": 43,
   "metadata": {},
   "outputs": [],
   "source": [
    "m[\"AddOn\"] = (\n",
    "    m[\"AddOn_CR\"] + m[\"AddOn_IR\"] + m[\"AddOn_CO\"] + m[\"AddOn_FX\"] + m[\"AddOn_EQ\"]\n",
    ")\n",
    "m[\"AddOn\"].folder = add_on_folder\n",
    "m[\"AddOn\"].formatter = \"DOUBLE[#,###]\"\n",
    "\n",
    "m[\"AddOn D2D %\"] = (\n",
    "    m[\"AddOn\"] - tt.shift(m[\"AddOn\"], on=lvl[\"AsOfDate\"], offset = 1)\n",
    ") / m[\"AddOn\"]\n",
    "\n",
    "m[\"AddOn D2D %\"].folder = add_on_folder\n",
    "m[\"AddOn D2D %\"].formatter = \"DOUBLE[#,###.00%]\""
   ]
  },
  {
   "cell_type": "markdown",
   "metadata": {},
   "source": [
    "$$EAD = \\alpha * (RC + PFE)$$\n",
    "\n",
    "where $alpha = 1.4$ (fixed parameter), \n",
    "\n",
    "the Replacement Cost  $RC = max(V-C,0)$ \n",
    "\n",
    "($V$ is the value of derivative transactions and $C$ is the haircut value of\n",
    "net collateral held)\n",
    "\n",
    "\n",
    "and the Potential Future Exposure $PFE = multiplier * AddOn^{aggregate}$\n",
    "\n",
    "with \n",
    "\n",
    "$$multiplier = min(1, Floor + (1-Floor)*exp(\\frac{V-C}{2*(1-Floor)*AddOn^{aggregate}})$$ \n",
    "\n",
    "(where $Floor = 0.05$ is another fixed parameter)"
   ]
  },
  {
   "cell_type": "code",
   "execution_count": 44,
   "metadata": {},
   "outputs": [],
   "source": [
    "floor = 0.05\n",
    "alpha = 1.4\n",
    "m[\"Multiplier\"] = tt.min(\n",
    "    1.0, \n",
    "    floor \n",
    "    + (1 - floor)\n",
    "    * tt.exp(\n",
    "        (m[\"MarketValue\"] - m[\"Collateral.VALUE\"])/(2 * (1 - floor) * m[\"AddOn\"])\n",
    "    ),\n",
    ")\n",
    "m[\"Multiplier\"].formatter = \"DOUBLE[#,###]\"\n",
    "\n",
    "m[\"PFE\"] = m[\"Multiplier\"] * m[\"AddOn\"]\n",
    "m[\"PFE\"].formatter = \"DOUBLE[#,###]\"\n",
    "\n",
    "m[\"RC\"] = tt.max(m[\"MarketValue\"] - m[\"Collateral.VALUE\"],0)\n",
    "m[\"RC\"].formatter = \"DOUBLE[#,###]\"\n",
    "\n",
    "m[\"EAD\"] = tt.agg.sum(\n",
    "    alpha * (m[\"RC\"] + m[\"PFE\"]), scope = tt.scope.origin(lvl[\"NettingSetId\"])\n",
    ")\n",
    "m[\"EAD\"].formatter = \"DOUBLE[#,###]\"\n"
   ]
  },
  {
   "cell_type": "code",
   "execution_count": 46,
   "metadata": {
    "atoti": {
     "state": {
      "name": "",
      "type": "container",
      "value": {
       "body": {
        "configuration": {
         "featuredValues": {}
        },
        "contextValues": {},
        "mdx": "SELECT NON EMPTY {[Measures].[AddOn], [Measures].[Multiplier], [Measures].[PFE], [Measures].[RC], [Measures].[EAD]} ON COLUMNS, NON EMPTY Hierarchize(DrilldownLevel([NettingSets].[NettingSetId].[ALL].[AllMember])) ON ROWS FROM [main_cube] CELL PROPERTIES VALUE, FORMATTED_VALUE, BACK_COLOR, FORE_COLOR, FONT_FLAGS",
        "ranges": {
         "column": {
          "chunkSize": 20,
          "thresholdPercentage": 0.1
         },
         "row": {
          "chunkSize": 20,
          "thresholdPercentage": 0.1
         }
        },
        "serverUrl": "",
        "updateMode": "once"
       },
       "containerKey": "featured-values",
       "showTitleBar": false,
       "style": {}
      }
     }
    }
   },
   "outputs": [
    {
     "data": {
      "application/vnd.atoti.v0+json": {
       "cube": "main_cube",
       "name": null,
       "session": "Unnamed"
      },
      "text/plain": [
       "Install and enable the atoti JupyterLab extension to see this widget."
      ]
     },
     "metadata": {},
     "output_type": "display_data"
    }
   ],
   "source": [
    "cube.visualize()"
   ]
  },
  {
   "cell_type": "markdown",
   "metadata": {},
   "source": [
    "Here, we have a recap of the final values for the AddOn, multiplier, PFE, RC and EAD for each of the 10 Netting Sets of our example."
   ]
  },
  {
   "cell_type": "code",
   "execution_count": 48,
   "metadata": {
    "atoti": {
     "state": {
      "name": "",
      "type": "container",
      "value": {
       "body": {
        "configuration": {
         "mapping": {
          "horizontalSubplots": [],
          "splitBy": [
           "[NettingSets].[NettingSetId].[NettingSetId]"
          ],
          "values": [
           "[Measures].[EAD]"
          ],
          "verticalSubplots": [],
          "xAxis": [
           "[AsOfDate].[AsOfDate].[AsOfDate]"
          ]
         },
         "type": "plotly-line-chart"
        },
        "query": {
         "mdx": "SELECT NON EMPTY Crossjoin([AsOfDate].[AsOfDate].[AsOfDate].Members, [NettingSets].[NettingSetId].[NettingSetId].Members) ON ROWS, NON EMPTY [Measures].[EAD] ON COLUMNS FROM [main_cube] CELL PROPERTIES VALUE, FORMATTED_VALUE, BACK_COLOR, FORE_COLOR, FONT_FLAGS",
         "serverUrl": "",
         "updateMode": "once"
        }
       },
       "containerKey": "chart",
       "showTitleBar": false,
       "style": {}
      }
     }
    }
   },
   "outputs": [
    {
     "data": {
      "application/vnd.atoti.v0+json": {
       "cube": "main_cube",
       "name": null,
       "session": "Unnamed"
      },
      "text/plain": [
       "Install and enable the atoti JupyterLab extension to see this widget."
      ]
     },
     "metadata": {},
     "output_type": "display_data"
    }
   ],
   "source": [
    "cube.visualize()"
   ]
  },
  {
   "cell_type": "markdown",
   "metadata": {},
   "source": [
    "This graph shows the evolution of the EAD for each Netting Set over the course of the business week represented in the dataset."
   ]
  },
  {
   "cell_type": "code",
   "execution_count": 50,
   "metadata": {
    "atoti": {
     "state": {
      "name": "",
      "type": "container",
      "value": {
       "body": {
        "configuration": {
         "mapping": {
          "horizontalSubplots": [],
          "splitBy": [
           "[RiskClass].[RiskClass].[RiskClass]"
          ],
          "values": [
           "[Measures].[AddOn]"
          ],
          "verticalSubplots": [],
          "xAxis": [
           "[AsOfDate].[AsOfDate].[AsOfDate]"
          ]
         },
         "type": "plotly-line-chart"
        },
        "query": {
         "mdx": "SELECT NON EMPTY [Measures].[AddOn] ON COLUMNS, NON EMPTY Crossjoin([AsOfDate].[AsOfDate].[AsOfDate].Members, [RiskClass].[RiskClass].[RiskClass].Members) ON ROWS FROM [main_cube] CELL PROPERTIES VALUE, FORMATTED_VALUE, BACK_COLOR, FORE_COLOR, FONT_FLAGS",
         "serverUrl": "",
         "updateMode": "once"
        }
       },
       "containerKey": "chart",
       "showTitleBar": false,
       "style": {}
      }
     }
    }
   },
   "outputs": [
    {
     "data": {
      "application/vnd.atoti.v0+json": {
       "cube": "main_cube",
       "name": null,
       "session": "Unnamed"
      },
      "text/plain": [
       "Install and enable the atoti JupyterLab extension to see this widget."
      ]
     },
     "metadata": {},
     "output_type": "display_data"
    }
   ],
   "source": [
    "cube.visualize()"
   ]
  },
  {
   "cell_type": "markdown",
   "metadata": {},
   "source": [
    "This graph shows the evolution of the AddOn for each RiskClass over the course of the business week represented in the dataset."
   ]
  },
  {
   "cell_type": "code",
   "execution_count": 52,
   "metadata": {
    "atoti": {
     "state": {
      "name": "",
      "type": "container",
      "value": {
       "body": {
        "configuration": {
         "featuredValues": {}
        },
        "contextValues": {},
        "mdx": "SELECT {[AsOfDate].[AsOfDate].[2020-01-17], [AsOfDate].[AsOfDate].[2020-01-16]} ON PAGES, NON EMPTY Hierarchize(DrilldownLevel([RiskClass].[RiskClass].[ALL].[AllMember])) ON ROWS, NON EMPTY [Measures].[AddOn] ON COLUMNS FROM [main_cube] CELL PROPERTIES VALUE, FORMATTED_VALUE, BACK_COLOR, FORE_COLOR, FONT_FLAGS",
        "ranges": {
         "column": {
          "chunkSize": 20,
          "thresholdPercentage": 0.1
         },
         "row": {
          "chunkSize": 20,
          "thresholdPercentage": 0.1
         }
        },
        "serverUrl": "",
        "updateMode": "once"
       },
       "containerKey": "featured-values",
       "showTitleBar": false,
       "style": {}
      }
     }
    }
   },
   "outputs": [
    {
     "data": {
      "application/vnd.atoti.v0+json": {
       "cube": "main_cube",
       "name": null,
       "session": "Unnamed"
      },
      "text/plain": [
       "Install and enable the atoti JupyterLab extension to see this widget."
      ]
     },
     "metadata": {},
     "output_type": "display_data"
    }
   ],
   "source": [
    "cube.visualize()"
   ]
  },
  {
   "cell_type": "markdown",
   "metadata": {},
   "source": [
    "Here, we can observe the variations in EAD and Add-On over the course of the business week. A simple use case for a business user would be to identify the source of a variation observed in these graphs. For instance, in the last 24h, we can see the Commodity Add-On going up byabout 8% (from 101M to 110M). This corresponds to huge increase in risk, that may be an issue. Therefore, knowing the reason behind this change is important. In the following tables, we will try to identify which trade or trades are at the origin of this observation. "
   ]
  },
  {
   "cell_type": "code",
   "execution_count": 54,
   "metadata": {
    "atoti": {
     "state": {
      "name": "",
      "type": "container",
      "value": {
       "body": {
        "configuration": {
         "tabular": {
          "addButtonFilter": "numeric",
          "columns": [],
          "columnsGroups": [
           {
            "captionProducer": "firstColumn",
            "cellFactory": "kpi-status",
            "selector": "kpi-status"
           },
           {
            "captionProducer": "firstColumn",
            "cellFactory": "lookup",
            "selector": "lookup"
           },
           {
            "captionProducer": "expiry",
            "cellFactory": "expiry",
            "selector": "kpi-expiry"
           },
           {
            "captionProducer": "columnMerge",
            "cellFactory": {
             "args": {},
             "key": "treeCells"
            },
            "selector": "member"
           }
          ],
          "defaultOptions": {},
          "expansion": {
           "automaticExpansion": true
          },
          "hideAddButton": true,
          "pinnedHeaderSelector": "member",
          "sortingMode": "non-breaking",
          "statisticsShown": true
         }
        },
        "contextValues": {},
        "mdx": "SELECT NON EMPTY Hierarchize(Union(Crossjoin(DrilldownLevel([RiskClass].[RiskClass].[ALL].[AllMember]), [NettingSets].[NettingName].DefaultMember), Crossjoin([RiskClass].[RiskClass].[ALL].[AllMember].[Commodity], [NettingSets].[NettingName].[NettingName].Members))) ON ROWS, NON EMPTY {[Measures].[AddOn], [Measures].[AddOn D2D %]} ON COLUMNS FROM [main_cube] CELL PROPERTIES VALUE, FORMATTED_VALUE, BACK_COLOR, FORE_COLOR, FONT_FLAGS",
        "ranges": {
         "column": {
          "chunkSize": 50,
          "thresholdPercentage": 0.2
         },
         "row": {
          "chunkSize": 2000,
          "thresholdPercentage": 0.1
         }
        },
        "serverUrl": "",
        "updateMode": "once"
       },
       "containerKey": "pivot-table",
       "showTitleBar": false,
       "style": {}
      }
     }
    }
   },
   "outputs": [
    {
     "data": {
      "application/vnd.atoti.v0+json": {
       "cube": "main_cube",
       "name": null,
       "session": "Unnamed"
      },
      "text/plain": [
       "Install and enable the atoti JupyterLab extension to see this widget."
      ]
     },
     "metadata": {},
     "output_type": "display_data"
    }
   ],
   "source": [
    "cube.visualize()"
   ]
  },
  {
   "cell_type": "code",
   "execution_count": 56,
   "metadata": {
    "atoti": {
     "state": {
      "name": "",
      "type": "container",
      "value": {
       "body": {
        "configuration": {
         "tabular": {
          "addButtonFilter": "numeric",
          "columnOrder": {
           "args": {
            "orderedColumns": [
             "c-treeCells-member",
             "([Measures].[AddOn_CO],[AsOfDate].[AsOfDate].[AsOfDate].[2020-01-17])",
             "([Measures].[AddOn_CO],[AsOfDate].[AsOfDate].[AsOfDate].[2020-01-16])"
            ]
           },
           "key": "explicit"
          },
          "columns": [
           {
            "key": "([Measures].[AddOn_CO],[AsOfDate].[AsOfDate].[AsOfDate].[2020-01-17])",
            "width": 119
           },
           {
            "key": "([Measures].[AddOn_CO],[AsOfDate].[AsOfDate].[AsOfDate].[2020-01-17 - 2020-01-16])",
            "width": 179
           }
          ],
          "columnsGroups": [
           {
            "captionProducer": "firstColumn",
            "cellFactory": "kpi-status",
            "selector": "kpi-status"
           },
           {
            "captionProducer": "firstColumn",
            "cellFactory": "lookup",
            "selector": "lookup"
           },
           {
            "captionProducer": "expiry",
            "cellFactory": "expiry",
            "selector": "kpi-expiry"
           },
           {
            "captionProducer": "columnMerge",
            "cellFactory": {
             "args": {},
             "key": "treeCells"
            },
            "selector": "member"
           }
          ],
          "defaultOptions": {},
          "expansion": {
           "automaticExpansion": true
          },
          "hideAddButton": true,
          "pinnedHeaderSelector": "member",
          "sortingMode": "non-breaking",
          "statisticsShown": true
         }
        },
        "contextValues": {},
        "mdx": "WITH  Member [AsOfDate].[AsOfDate].[2020-01-17 - 2020-01-16] AS [AsOfDate].[AsOfDate].[2020-01-17] - [AsOfDate].[AsOfDate].[2020-01-16], CAPTION = \"2020-01-17 - 2020-01-16\"  SELECT NON EMPTY Except(Crossjoin(Hierarchize(DrilldownLevel([NettingSets].[NettingSetId].[ALL].[AllMember])), Hierarchize(DrilldownLevel([Hedge_Set].[Hedge_Set].[ALL].[AllMember])), Hierarchize(DrilldownLevel([Underlyings].[UnderlyingType].[ALL].[AllMember])), Hierarchize(DrilldownLevel([TradeId].[TradeId].[ALL].[AllMember]))), Union(Crossjoin([NettingSets].[NettingSetId].[ALL].[AllMember].[EX4], [Hedge_Set].[Hedge_Set].[ALL].[AllMember].[Agricultural], Union(Crossjoin(Union([Underlyings].[UnderlyingType].[ALL].[AllMember], [Underlyings].[UnderlyingType].[UnderlyingType].Members), [TradeId].[TradeId].[TradeId].Members), Crossjoin([Underlyings].[UnderlyingType].[UnderlyingType].Members, Union([TradeId].[TradeId].[ALL].[AllMember], [TradeId].[TradeId].[TradeId].Members)))), Crossjoin([NettingSets].[NettingSetId].[ALL].[AllMember].[EX4], [Hedge_Set].[Hedge_Set].[ALL].[AllMember].[Others], Union(Crossjoin(Union([Underlyings].[UnderlyingType].[ALL].[AllMember], [Underlyings].[UnderlyingType].[UnderlyingType].Members), [TradeId].[TradeId].[TradeId].Members), Crossjoin([Underlyings].[UnderlyingType].[UnderlyingType].Members, Union([TradeId].[TradeId].[ALL].[AllMember], [TradeId].[TradeId].[TradeId].Members)))), Crossjoin([NettingSets].[NettingSetId].[ALL].[AllMember].[EX4], [Hedge_Set].[Hedge_Set].[ALL].[AllMember].[Metals], [Underlyings].[UnderlyingType].[ALL].[AllMember].[Platinum], [TradeId].[TradeId].[TradeId].Members))) ON ROWS, NON EMPTY Crossjoin([Measures].[AddOn_CO], Hierarchize(Union([AsOfDate].[AsOfDate].[AsOfDate].Members, [AsOfDate].[AsOfDate].[2020-01-17 - 2020-01-16]))) ON COLUMNS FROM (SELECT Subset(Order([AsOfDate].[AsOfDate].[AsOfDate].Members, [AsOfDate].[AsOfDate].CurrentMember.MemberValue, BDESC), 0, 2) ON COLUMNS FROM (SELECT [NettingSets].[NettingSetId].[ALL].[AllMember].[EX4] ON COLUMNS FROM [main_cube]) WHERE [RiskClass].[RiskClass].[ALL].[AllMember].[Commodity]) WHERE [RiskClass].[RiskClass].[ALL].[AllMember].[Commodity] CELL PROPERTIES BACK_COLOR, FONT_FLAGS, FORE_COLOR, FORMATTED_VALUE, VALUE",
        "ranges": {
         "column": {
          "chunkSize": 50,
          "thresholdPercentage": 0.2
         },
         "row": {
          "chunkSize": 2000,
          "thresholdPercentage": 0.1
         }
        },
        "serverUrl": "",
        "updateMode": "once"
       },
       "containerKey": "pivot-table",
       "showTitleBar": false,
       "style": {}
      }
     }
    }
   },
   "outputs": [
    {
     "data": {
      "application/vnd.atoti.v0+json": {
       "cube": "main_cube",
       "name": null,
       "session": "Unnamed"
      },
      "text/plain": [
       "Install and enable the atoti JupyterLab extension to see this widget."
      ]
     },
     "metadata": {},
     "output_type": "display_data"
    }
   ],
   "source": [
    "cube.visualize()"
   ]
  },
  {
   "cell_type": "markdown",
   "metadata": {},
   "source": [
    "After going down the pivot tables, we find out the change in CO add-on was due to the apparition of a new gold trade between the 16/01 and the 17/01. This new addition to the notional was at the root of the sudden shift in global add-on."
   ]
  },
  {
   "cell_type": "markdown",
   "metadata": {},
   "source": [
    "# Simulations : changing the rate of a firm"
   ]
  },
  {
   "cell_type": "markdown",
   "metadata": {},
   "source": [
    "It is also possible to make simulations, to see the impact a sudden change of one of the usually constant variables would have on the add-on and the EAD.\n",
    "The simulations presented here consist in changing the rating of one of the firms issuing the trades. \n",
    "In a first simulation, we downgrade Firm 4 's rating from AA to A. In a second one, we push the change a bit further by downgrading it to BBB.\n",
    "In the calculations, the firm rating only impacted the supervisory factor for CR derivatives, so we only expect the $AddOn^{(CR)}$ to be impacted.\n",
    "Since the AddOn and the EAD are measures of risk that grow when the risk increases, we expect these two indicators to grow between each simulation."
   ]
  },
  {
   "cell_type": "code",
   "execution_count": 57,
   "metadata": {},
   "outputs": [],
   "source": [
    "store.source_simulation_enabled = True"
   ]
  },
  {
   "cell_type": "code",
   "execution_count": 58,
   "metadata": {},
   "outputs": [
    {
     "data": {
      "text/plain": [
       "<bound method Session.load_all_data of <atoti.session.Session object at 0x000002E4F0494A60>>"
      ]
     },
     "execution_count": 58,
     "metadata": {},
     "output_type": "execute_result"
    }
   ],
   "source": [
    "store.scenarios[\"Firm4 AA to BBB\"].load_csv(data_folder_simulations\n",
    "                                            + \"firm4_AA_to_BBB.csv\")\n",
    "store.scenarios[\"Firm4 AA to A\"].load_csv(data_folder_simulations \n",
    "                                          + \"firm4_AA_to_A.csv\")\n",
    "\n",
    "session.load_all_data"
   ]
  },
  {
   "cell_type": "code",
   "execution_count": 60,
   "metadata": {
    "atoti": {
     "state": {
      "name": "",
      "type": "container",
      "value": {
       "body": {
        "configuration": {
         "tabular": {
          "addButtonFilter": "numeric",
          "columns": [
           {
            "key": "([Measures].[AddOn_CR],[Epoch].[Epoch].[Branch].[Base])",
            "width": 155
           },
           {
            "key": "([Measures].[AddOn_CR],[Epoch].[Epoch].[Branch].[Firm4 AA to A])",
            "width": 164
           },
           {
            "key": "([Measures].[AddOn_CR],[Epoch].[Epoch].[Branch].[Firm4 AA to BBB])",
            "width": 160
           }
          ],
          "columnsGroups": [
           {
            "captionProducer": "firstColumn",
            "cellFactory": "kpi-status",
            "selector": "kpi-status"
           },
           {
            "captionProducer": "firstColumn",
            "cellFactory": "lookup",
            "selector": "lookup"
           },
           {
            "captionProducer": "expiry",
            "cellFactory": "expiry",
            "selector": "kpi-expiry"
           },
           {
            "captionProducer": "columnMerge",
            "cellFactory": {
             "args": {},
             "key": "treeCells"
            },
            "selector": "member"
           }
          ],
          "defaultOptions": {},
          "expansion": {
           "automaticExpansion": true
          },
          "hideAddButton": true,
          "pinnedHeaderSelector": "member",
          "sortingMode": "non-breaking",
          "statisticsShown": true
         }
        },
        "contextValues": {},
        "mdx": "SELECT NON EMPTY Crossjoin(Hierarchize(DrilldownLevel([AssetClass].[AssetClass].[ALL].[AllMember])), Hierarchize(DrilldownLevel([Underlyings].[Underlying].[ALL].[AllMember])), Hierarchize(DrilldownLevel([AssetClass].[SubClass].[ALL].[AllMember]))) ON ROWS, NON EMPTY Crossjoin([Measures].[AddOn_CR], Hierarchize([Epoch].[Epoch].[Branch].Members)) ON COLUMNS FROM (SELECT [AssetClass].[AssetClass].[ALL].[AllMember].[Credit Single Name] ON COLUMNS FROM [main_cube]) CELL PROPERTIES VALUE, FORMATTED_VALUE, BACK_COLOR, FORE_COLOR, FONT_FLAGS",
        "ranges": {
         "column": {
          "chunkSize": 50,
          "thresholdPercentage": 0.2
         },
         "row": {
          "chunkSize": 2000,
          "thresholdPercentage": 0.1
         }
        },
        "serverUrl": "",
        "updateMode": "once"
       },
       "containerKey": "pivot-table",
       "showTitleBar": false,
       "style": {}
      }
     }
    }
   },
   "outputs": [
    {
     "data": {
      "application/vnd.atoti.v0+json": {
       "cube": "main_cube",
       "name": null,
       "session": "Unnamed"
      },
      "text/plain": [
       "Install and enable the atoti JupyterLab extension to see this widget."
      ]
     },
     "metadata": {},
     "output_type": "display_data"
    }
   ],
   "source": [
    "cube.visualize()"
   ]
  },
  {
   "cell_type": "markdown",
   "metadata": {},
   "source": [
    "When we look at the Add-On for these trades (CSN + firm 10), we see that it has effectively increased, from 2.9M to 3.2M to 4.1M for firm 4, just as expected."
   ]
  },
  {
   "cell_type": "code",
   "execution_count": 62,
   "metadata": {
    "atoti": {
     "state": {
      "name": "",
      "type": "container",
      "value": {
       "body": {
        "configuration": {
         "featuredValues": {}
        },
        "contextValues": {},
        "mdx": "SELECT NON EMPTY {[Measures].[EAD]} ON COLUMNS, NON EMPTY Hierarchize([Epoch].[Epoch].[Branch].Members) ON ROWS FROM [main_cube] CELL PROPERTIES VALUE, FORMATTED_VALUE, BACK_COLOR, FORE_COLOR, FONT_FLAGS",
        "ranges": {
         "column": {
          "chunkSize": 20,
          "thresholdPercentage": 0.1
         },
         "row": {
          "chunkSize": 20,
          "thresholdPercentage": 0.1
         }
        },
        "serverUrl": "",
        "updateMode": "once"
       },
       "containerKey": "featured-values",
       "showTitleBar": false,
       "style": {}
      }
     }
    }
   },
   "outputs": [
    {
     "data": {
      "application/vnd.atoti.v0+json": {
       "cube": "main_cube",
       "name": null,
       "session": "Unnamed"
      },
      "text/plain": [
       "Install and enable the atoti JupyterLab extension to see this widget."
      ]
     },
     "metadata": {},
     "output_type": "display_data"
    }
   ],
   "source": [
    "cube.visualize()"
   ]
  },
  {
   "cell_type": "markdown",
   "metadata": {},
   "source": [
    "On observe bien également une montée de l'EAD global."
   ]
  },
  {
   "cell_type": "code",
   "execution_count": null,
   "metadata": {},
   "outputs": [],
   "source": []
  }
 ],
 "metadata": {
  "kernelspec": {
   "display_name": "Python 3",
   "language": "python",
   "name": "python3"
  },
  "language_info": {
   "codemirror_mode": {
    "name": "ipython",
    "version": 3
   },
   "file_extension": ".py",
   "mimetype": "text/x-python",
   "name": "python",
   "nbconvert_exporter": "python",
   "pygments_lexer": "ipython3",
   "version": "3.8.3"
  }
 },
 "nbformat": 4,
 "nbformat_minor": 4
}
