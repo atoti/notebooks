{
 "cells": [
  {
   "cell_type": "markdown",
   "metadata": {},
   "source": [
    "# SA-CCR analytical app\n",
    "\n",
    "This notebook provides a reference implementation of interactive analytical app for SA-CCR analytics in python using Jupyter Notebook and [atoti](https://www.atoti.io).\n",
    "\n",
    "<img src=./app-preview.gif/ width = 70%>\n",
    "\n",
    "As a quick reminder, the SA-CCR is a regulatory methodology for computing EAD (Exposure At Default) which is part of the consolidated basel framework. It is already implemented for financial institutions in Europe by the Regulation (EU) 2019/876 (CRR II) and will be applicable from June 2021 and January 2022 in the US. In this post, I will walk you through code snippets implementing calculations as defined in the BCBS 279 document.\n",
    "\n",
    "We'll start by creating an atoti app, then we'll load sample data and implement chains of calculations aggregating EAD from trades, collateral and supervisory parameters on-the-fly. This chart is summarizing the calculation chains:\n",
    "\n",
    "<img src=./SA-CCR.svg/ width = 50%>\n",
    "\n",
    "We will be referring to the relevant paragraphs of the Consolidated Basel Framework [CRE52](https://www.bis.org/basel_framework/chapter/CRE/52.htm?inforce=20191215) - see numbers in the square brackets."
   ]
  },
  {
   "cell_type": "code",
   "execution_count": 1,
   "metadata": {},
   "outputs": [],
   "source": [
    "import pandas as pd\n",
    "\n",
    "pd.set_option(\"display.max_rows\", 30)\n",
    "pd.set_option(\"display.max_columns\", 100)\n",
    "pd.options.display.float_format = \"{:,.2f}\".format"
   ]
  },
  {
   "cell_type": "markdown",
   "metadata": {},
   "source": [
    "# Launch atoti"
   ]
  },
  {
   "cell_type": "code",
   "execution_count": 2,
   "metadata": {},
   "outputs": [
    {
     "name": "stdout",
     "output_type": "stream",
     "text": [
      "Welcome to atoti 0.4.3!\n",
      "\n",
      "By using this community edition, you agree with the license available at https://www.atoti.io/eula.\n",
      "Browse the official documentation at https://docs.atoti.io.\n",
      "Join the community at https://www.atoti.io/register.\n",
      "\n",
      "You can hide this message by setting the ATOTI_HIDE_EULA_MESSAGE environment variable to True.\n"
     ]
    },
    {
     "data": {
      "text/plain": [
       "'http://localhost:59522'"
      ]
     },
     "execution_count": 2,
     "metadata": {},
     "output_type": "execute_result"
    }
   ],
   "source": [
    "import atoti as tt\n",
    "\n",
    "config = tt.config.create_config(metadata_db=\"./metadata.db\")\n",
    "session = tt.create_session(config=config)\n",
    "session.url"
   ]
  },
  {
   "cell_type": "markdown",
   "metadata": {},
   "source": [
    "## Input data"
   ]
  },
  {
   "cell_type": "markdown",
   "metadata": {},
   "source": [
    "In this section we will load the data used by the EAD aggregation into in-memory datastores and start creating a cube. The sample data will be fetched from csv files hosted on s3, and you can replace them with your own sources.\n",
    "\n",
    "- `trades_store` with information on the trades, books, notionals, market values, classified into asset classes. The time period parameter dates - Mi, Ei, Si and Ti [52.31] - are also provided in this file/\n",
    "- `nettingSets_store` providing netting set attributes, for instance, the MPOR and collateral\n",
    "- `supervisoryParameters_store` - values set in section [52.72] \"Supervisory specified parameters\"."
   ]
  },
  {
   "cell_type": "code",
   "execution_count": 3,
   "metadata": {},
   "outputs": [
    {
     "data": {
      "text/html": [
       "<div>\n",
       "<style scoped>\n",
       "    .dataframe tbody tr th:only-of-type {\n",
       "        vertical-align: middle;\n",
       "    }\n",
       "\n",
       "    .dataframe tbody tr th {\n",
       "        vertical-align: top;\n",
       "    }\n",
       "\n",
       "    .dataframe thead th {\n",
       "        text-align: right;\n",
       "    }\n",
       "</style>\n",
       "<table border=\"1\" class=\"dataframe\">\n",
       "  <thead>\n",
       "    <tr style=\"text-align: right;\">\n",
       "      <th></th>\n",
       "      <th></th>\n",
       "      <th>NettingSetId</th>\n",
       "      <th>BookId</th>\n",
       "      <th>Direction</th>\n",
       "      <th>Notional</th>\n",
       "      <th>MarketValue</th>\n",
       "      <th>AssetClass</th>\n",
       "      <th>SubClass</th>\n",
       "      <th>OptionType</th>\n",
       "      <th>Underlying</th>\n",
       "      <th>Si_Date</th>\n",
       "      <th>Ei_Date</th>\n",
       "      <th>Mi_Date</th>\n",
       "      <th>Ti_Date</th>\n",
       "      <th>Strike Price</th>\n",
       "      <th>Underlying Price</th>\n",
       "      <th>AttachPoint</th>\n",
       "      <th>DetachPoint</th>\n",
       "      <th>IsCDO</th>\n",
       "    </tr>\n",
       "    <tr>\n",
       "      <th>AsOfDate</th>\n",
       "      <th>TradeId</th>\n",
       "      <th></th>\n",
       "      <th></th>\n",
       "      <th></th>\n",
       "      <th></th>\n",
       "      <th></th>\n",
       "      <th></th>\n",
       "      <th></th>\n",
       "      <th></th>\n",
       "      <th></th>\n",
       "      <th></th>\n",
       "      <th></th>\n",
       "      <th></th>\n",
       "      <th></th>\n",
       "      <th></th>\n",
       "      <th></th>\n",
       "      <th></th>\n",
       "      <th></th>\n",
       "      <th></th>\n",
       "    </tr>\n",
       "  </thead>\n",
       "  <tbody>\n",
       "    <tr>\n",
       "      <th rowspan=\"3\" valign=\"top\">2020-01-13</th>\n",
       "      <th>t428</th>\n",
       "      <td>EX9</td>\n",
       "      <td>Book7</td>\n",
       "      <td>-1</td>\n",
       "      <td>2,000,000.00</td>\n",
       "      <td>-70,000.00</td>\n",
       "      <td>FX</td>\n",
       "      <td>No SubClass</td>\n",
       "      <td>None</td>\n",
       "      <td>JPYGBP</td>\n",
       "      <td>2020-01-13</td>\n",
       "      <td>2020-06-13</td>\n",
       "      <td>2025-01-13</td>\n",
       "      <td>2028-01-13</td>\n",
       "      <td>nan</td>\n",
       "      <td>nan</td>\n",
       "      <td>nan</td>\n",
       "      <td>nan</td>\n",
       "      <td>N</td>\n",
       "    </tr>\n",
       "    <tr>\n",
       "      <th>t72</th>\n",
       "      <td>EX2</td>\n",
       "      <td>Book1</td>\n",
       "      <td>1</td>\n",
       "      <td>27,000,000.00</td>\n",
       "      <td>73,000.00</td>\n",
       "      <td>IR</td>\n",
       "      <td>No SubClass</td>\n",
       "      <td>C</td>\n",
       "      <td>AUD</td>\n",
       "      <td>2025-01-13</td>\n",
       "      <td>2020-06-13</td>\n",
       "      <td>2033-01-13</td>\n",
       "      <td>2020-05-13</td>\n",
       "      <td>6.88</td>\n",
       "      <td>7.01</td>\n",
       "      <td>nan</td>\n",
       "      <td>nan</td>\n",
       "      <td>N</td>\n",
       "    </tr>\n",
       "    <tr>\n",
       "      <th>t251</th>\n",
       "      <td>EX6</td>\n",
       "      <td>Book0</td>\n",
       "      <td>-1</td>\n",
       "      <td>5,200.00</td>\n",
       "      <td>-30,340,000.00</td>\n",
       "      <td>EQ_SN</td>\n",
       "      <td>No SubClass</td>\n",
       "      <td>None</td>\n",
       "      <td>EX6.CH</td>\n",
       "      <td>2020-01-13</td>\n",
       "      <td>2028-01-13</td>\n",
       "      <td>2054-01-13</td>\n",
       "      <td>2028-01-13</td>\n",
       "      <td>nan</td>\n",
       "      <td>-5,834.62</td>\n",
       "      <td>nan</td>\n",
       "      <td>nan</td>\n",
       "      <td>N</td>\n",
       "    </tr>\n",
       "  </tbody>\n",
       "</table>\n",
       "</div>"
      ],
      "text/plain": [
       "                   NettingSetId BookId  Direction      Notional  \\\n",
       "AsOfDate   TradeId                                                \n",
       "2020-01-13 t428             EX9  Book7         -1  2,000,000.00   \n",
       "           t72              EX2  Book1          1 27,000,000.00   \n",
       "           t251             EX6  Book0         -1      5,200.00   \n",
       "\n",
       "                      MarketValue AssetClass     SubClass OptionType  \\\n",
       "AsOfDate   TradeId                                                     \n",
       "2020-01-13 t428        -70,000.00         FX  No SubClass       None   \n",
       "           t72          73,000.00         IR  No SubClass          C   \n",
       "           t251    -30,340,000.00      EQ_SN  No SubClass       None   \n",
       "\n",
       "                   Underlying    Si_Date    Ei_Date    Mi_Date    Ti_Date  \\\n",
       "AsOfDate   TradeId                                                          \n",
       "2020-01-13 t428        JPYGBP 2020-01-13 2020-06-13 2025-01-13 2028-01-13   \n",
       "           t72            AUD 2025-01-13 2020-06-13 2033-01-13 2020-05-13   \n",
       "           t251        EX6.CH 2020-01-13 2028-01-13 2054-01-13 2028-01-13   \n",
       "\n",
       "                    Strike Price  Underlying Price  AttachPoint  DetachPoint  \\\n",
       "AsOfDate   TradeId                                                             \n",
       "2020-01-13 t428              nan               nan          nan          nan   \n",
       "           t72              6.88              7.01          nan          nan   \n",
       "           t251              nan         -5,834.62          nan          nan   \n",
       "\n",
       "                   IsCDO  \n",
       "AsOfDate   TradeId        \n",
       "2020-01-13 t428        N  \n",
       "           t72         N  \n",
       "           t251        N  "
      ]
     },
     "execution_count": 3,
     "metadata": {},
     "output_type": "execute_result"
    }
   ],
   "source": [
    "trades_store = session.read_csv(\n",
    "    \"s3://data.atoti.io/notebooks/sa-ccr/T0/trades.csv\",\n",
    "    keys=[\"AsOfDate\", \"TradeId\"],\n",
    "    types={\n",
    "        \"Notional\": tt.types.DOUBLE,\n",
    "        \"MarketValue\": tt.types.DOUBLE,\n",
    "        \"AsOfDate\": tt.types.LOCAL_DATE,\n",
    "        \"Mi_Date\": tt.types.LOCAL_DATE,\n",
    "        \"Si_Date\": tt.types.LOCAL_DATE,\n",
    "        \"Ti_Date\": tt.types.LOCAL_DATE,\n",
    "        \"Ei_Date\": tt.types.LOCAL_DATE,\n",
    "    },\n",
    "    store_name=\"Trades\",\n",
    ")\n",
    "trades_store.head(3)"
   ]
  },
  {
   "cell_type": "markdown",
   "metadata": {},
   "source": [
    "Let's now load netting set attributes - providing info about collateral and csa details - and link them to trades:"
   ]
  },
  {
   "cell_type": "code",
   "execution_count": 4,
   "metadata": {},
   "outputs": [
    {
     "data": {
      "text/html": [
       "<div>\n",
       "<style scoped>\n",
       "    .dataframe tbody tr th:only-of-type {\n",
       "        vertical-align: middle;\n",
       "    }\n",
       "\n",
       "    .dataframe tbody tr th {\n",
       "        vertical-align: top;\n",
       "    }\n",
       "\n",
       "    .dataframe thead th {\n",
       "        text-align: right;\n",
       "    }\n",
       "</style>\n",
       "<table border=\"1\" class=\"dataframe\">\n",
       "  <thead>\n",
       "    <tr style=\"text-align: right;\">\n",
       "      <th></th>\n",
       "      <th></th>\n",
       "      <th>CounterpartyId</th>\n",
       "      <th>MPOR</th>\n",
       "      <th>Collateral</th>\n",
       "      <th>NICA</th>\n",
       "      <th>TH</th>\n",
       "      <th>MTA</th>\n",
       "      <th>isMargined</th>\n",
       "    </tr>\n",
       "    <tr>\n",
       "      <th>AsOfDate</th>\n",
       "      <th>NettingSetId</th>\n",
       "      <th></th>\n",
       "      <th></th>\n",
       "      <th></th>\n",
       "      <th></th>\n",
       "      <th></th>\n",
       "      <th></th>\n",
       "      <th></th>\n",
       "    </tr>\n",
       "  </thead>\n",
       "  <tbody>\n",
       "    <tr>\n",
       "      <th rowspan=\"3\" valign=\"top\">2020-01-13</th>\n",
       "      <th>EX1</th>\n",
       "      <td>cpt1</td>\n",
       "      <td>0.00</td>\n",
       "      <td>0.00</td>\n",
       "      <td>nan</td>\n",
       "      <td>nan</td>\n",
       "      <td>nan</td>\n",
       "      <td>N</td>\n",
       "    </tr>\n",
       "    <tr>\n",
       "      <th>EX2</th>\n",
       "      <td>cpt1</td>\n",
       "      <td>0.00</td>\n",
       "      <td>0.00</td>\n",
       "      <td>nan</td>\n",
       "      <td>nan</td>\n",
       "      <td>nan</td>\n",
       "      <td>N</td>\n",
       "    </tr>\n",
       "    <tr>\n",
       "      <th>EX3</th>\n",
       "      <td>cpt2</td>\n",
       "      <td>0.00</td>\n",
       "      <td>0.00</td>\n",
       "      <td>nan</td>\n",
       "      <td>nan</td>\n",
       "      <td>nan</td>\n",
       "      <td>N</td>\n",
       "    </tr>\n",
       "  </tbody>\n",
       "</table>\n",
       "</div>"
      ],
      "text/plain": [
       "                        CounterpartyId  MPOR  Collateral  NICA  TH  MTA  \\\n",
       "AsOfDate   NettingSetId                                                   \n",
       "2020-01-13 EX1                    cpt1  0.00        0.00   nan nan  nan   \n",
       "           EX2                    cpt1  0.00        0.00   nan nan  nan   \n",
       "           EX3                    cpt2  0.00        0.00   nan nan  nan   \n",
       "\n",
       "                        isMargined  \n",
       "AsOfDate   NettingSetId             \n",
       "2020-01-13 EX1                   N  \n",
       "           EX2                   N  \n",
       "           EX3                   N  "
      ]
     },
     "execution_count": 4,
     "metadata": {},
     "output_type": "execute_result"
    }
   ],
   "source": [
    "nettingSets_store = session.read_csv(\n",
    "    \"s3://data.atoti.io/notebooks/sa-ccr/T0/netting-set-attributes.csv\",\n",
    "    keys=[\"AsOfDate\", \"NettingSetId\"],\n",
    "    types={\"MPOR\": tt.types.DOUBLE, \"Collateral\": tt.types.DOUBLE},\n",
    "    store_name=\"NettingSets\",\n",
    ")\n",
    "\n",
    "trades_store.join(\n",
    "    nettingSets_store, mapping={\"NettingSetId\": \"NettingSetId\", \"AsOfDate\": \"AsOfDate\"}\n",
    ")\n",
    "nettingSets_store.head(3)"
   ]
  },
  {
   "cell_type": "markdown",
   "metadata": {},
   "source": [
    "In the next cell I'm loading parameters into a separate store and using the \"join\" command to link parameters to trades:"
   ]
  },
  {
   "cell_type": "code",
   "execution_count": 5,
   "metadata": {},
   "outputs": [],
   "source": [
    "supervisoryParameters_store = session.read_csv(\n",
    "    \"s3://data.atoti.io/notebooks/sa-ccr/T0/parameters.csv\", keys=[\"AssetClass\", \"SubClass\"], store_name=\"Parameters\",\n",
    ")\n",
    "\n",
    "trades_store.join(\n",
    "    supervisoryParameters_store,\n",
    "    mapping={\"AssetClass\": \"AssetClass\", \"SubClass\": \"SubClass\"},\n",
    ")"
   ]
  },
  {
   "cell_type": "code",
   "execution_count": 6,
   "metadata": {},
   "outputs": [
    {
     "data": {
      "text/html": [
       "<div>\n",
       "<style scoped>\n",
       "    .dataframe tbody tr th:only-of-type {\n",
       "        vertical-align: middle;\n",
       "    }\n",
       "\n",
       "    .dataframe tbody tr th {\n",
       "        vertical-align: top;\n",
       "    }\n",
       "\n",
       "    .dataframe thead th {\n",
       "        text-align: right;\n",
       "    }\n",
       "</style>\n",
       "<table border=\"1\" class=\"dataframe\">\n",
       "  <thead>\n",
       "    <tr style=\"text-align: right;\">\n",
       "      <th></th>\n",
       "      <th></th>\n",
       "      <th>SupervisoryFactor</th>\n",
       "      <th>Correlation</th>\n",
       "      <th>SupervisoryOptionVolatility</th>\n",
       "      <th>HS</th>\n",
       "    </tr>\n",
       "    <tr>\n",
       "      <th>AssetClass</th>\n",
       "      <th>SubClass</th>\n",
       "      <th></th>\n",
       "      <th></th>\n",
       "      <th></th>\n",
       "      <th></th>\n",
       "    </tr>\n",
       "  </thead>\n",
       "  <tbody>\n",
       "    <tr>\n",
       "      <th>IR</th>\n",
       "      <th>No SubClass</th>\n",
       "      <td>0.01</td>\n",
       "      <td>nan</td>\n",
       "      <td>0.50</td>\n",
       "      <td>nan</td>\n",
       "    </tr>\n",
       "    <tr>\n",
       "      <th>FX</th>\n",
       "      <th>No SubClass</th>\n",
       "      <td>0.04</td>\n",
       "      <td>nan</td>\n",
       "      <td>0.15</td>\n",
       "      <td>nan</td>\n",
       "    </tr>\n",
       "    <tr>\n",
       "      <th>CR_SN</th>\n",
       "      <th>AAA</th>\n",
       "      <td>0.00</td>\n",
       "      <td>0.50</td>\n",
       "      <td>1.00</td>\n",
       "      <td>nan</td>\n",
       "    </tr>\n",
       "  </tbody>\n",
       "</table>\n",
       "</div>"
      ],
      "text/plain": [
       "                        SupervisoryFactor  Correlation  \\\n",
       "AssetClass SubClass                                      \n",
       "IR         No SubClass               0.01          nan   \n",
       "FX         No SubClass               0.04          nan   \n",
       "CR_SN      AAA                       0.00         0.50   \n",
       "\n",
       "                        SupervisoryOptionVolatility  HS  \n",
       "AssetClass SubClass                                      \n",
       "IR         No SubClass                         0.50 nan  \n",
       "FX         No SubClass                         0.15 nan  \n",
       "CR_SN      AAA                                 1.00 nan  "
      ]
     },
     "execution_count": 6,
     "metadata": {},
     "output_type": "execute_result"
    }
   ],
   "source": [
    "supervisoryParameters_store.head(3)"
   ]
  },
  {
   "cell_type": "markdown",
   "metadata": {},
   "source": [
    "As a next step, I'm creating the cube:"
   ]
  },
  {
   "cell_type": "code",
   "execution_count": 7,
   "metadata": {},
   "outputs": [],
   "source": [
    "# Usually atoti's create_cube command creates .SUM and .MEAN measures automatically from numerical data inputs,\n",
    "# to prevent that I'm running the comman will the mode = no_measures\n",
    "cube = session.create_cube(trades_store, \"SA-CCR\", mode=\"no_measures\")"
   ]
  },
  {
   "cell_type": "code",
   "execution_count": 8,
   "metadata": {},
   "outputs": [],
   "source": [
    "lvl = cube.levels\n",
    "m = cube.measures\n",
    "h = cube.hierarchies"
   ]
  },
  {
   "cell_type": "code",
   "execution_count": 9,
   "metadata": {},
   "outputs": [],
   "source": [
    "# Setting the date dimension to slicing, so that measures do not aggregate risk coming from different business dates:\n",
    "h[\"AsOfDate\"].slicing = True"
   ]
  },
  {
   "cell_type": "markdown",
   "metadata": {},
   "source": [
    "Let's display the current data model schema. Later in this notebook we'll extend this data model with additional attributes, but this is the minimum set of fields that we'd need to compute EAD."
   ]
  },
  {
   "cell_type": "code",
   "execution_count": 10,
   "metadata": {},
   "outputs": [
    {
     "data": {
      "image/svg+xml": [
       "<svg xmlns=\"http://www.w3.org/2000/svg\" xmlns:xlink=\"http://www.w3.org/1999/xlink\" width=\"699px\" height=\"522px\" viewBox=\"0.00 0.00 699.00 522.00\">\n",
       "<g id=\"graph0\" class=\"graph\" transform=\"scale(1.0 1.0) rotate(0) translate(4 518)\">\n",
       "<title>SA-CCR schema</title>\n",
       "<polygon fill=\"white\" stroke=\"transparent\" points=\"-4,4 -4,-518 695,-518 695,4 -4,4\"/>\n",
       "<!-- Trades -->\n",
       "<g id=\"node1\" class=\"node\">\n",
       "<title>Trades</title>\n",
       "<text text-anchor=\"start\" x=\"91.5\" y=\"-494.6\" font-family=\"-apple-system, BlinkMacSystemFont, 'Segoe UI', Helvetica, Arial, sans-serif, 'Apple Color Emoji', 'Segoe UI Emoji', 'Segoe UI Symbol'\" font-weight=\"bold\" font-size=\"13.00\">Trades</text>\n",
       "<polygon fill=\"#f5f5f5\" stroke=\"transparent\" points=\"9.5,-461 9.5,-485 41.5,-485 41.5,-461 9.5,-461\"/>\n",
       "<text text-anchor=\"start\" x=\"14.5\" y=\"-470.6\" font-family=\"-apple-system, BlinkMacSystemFont, 'Segoe UI', Helvetica, Arial, sans-serif, 'Apple Color Emoji', 'Segoe UI Emoji', 'Segoe UI Symbol'\" font-weight=\"bold\" font-size=\"13.00\">key</text>\n",
       "<polygon fill=\"#f5f5f5\" stroke=\"transparent\" points=\"41.5,-461 41.5,-485 147.5,-485 147.5,-461 41.5,-461\"/>\n",
       "<text text-anchor=\"start\" x=\"46.5\" y=\"-469.6\" font-family=\"-apple-system, BlinkMacSystemFont, 'Segoe UI', Helvetica, Arial, sans-serif, 'Apple Color Emoji', 'Segoe UI Emoji', 'Segoe UI Symbol'\" font-size=\"13.00\">AsOfDate</text>\n",
       "<polygon fill=\"#f5f5f5\" stroke=\"transparent\" points=\"147.5,-461 147.5,-485 216.5,-485 216.5,-461 147.5,-461\"/>\n",
       "<text text-anchor=\"start\" x=\"152.5\" y=\"-470.6\" font-family=\"-apple-system, BlinkMacSystemFont, 'Segoe UI', Helvetica, Arial, sans-serif, 'Apple Color Emoji', 'Segoe UI Emoji', 'Segoe UI Symbol'\" font-style=\"italic\" font-size=\"13.00\">LocalDate</text>\n",
       "<polygon fill=\"#ffffff\" stroke=\"transparent\" points=\"9.5,-437 9.5,-461 41.5,-461 41.5,-437 9.5,-437\"/>\n",
       "<text text-anchor=\"start\" x=\"14.5\" y=\"-446.6\" font-family=\"-apple-system, BlinkMacSystemFont, 'Segoe UI', Helvetica, Arial, sans-serif, 'Apple Color Emoji', 'Segoe UI Emoji', 'Segoe UI Symbol'\" font-weight=\"bold\" font-size=\"13.00\">key</text>\n",
       "<polygon fill=\"#ffffff\" stroke=\"transparent\" points=\"41.5,-437 41.5,-461 147.5,-461 147.5,-437 41.5,-437\"/>\n",
       "<text text-anchor=\"start\" x=\"46.5\" y=\"-445.6\" font-family=\"-apple-system, BlinkMacSystemFont, 'Segoe UI', Helvetica, Arial, sans-serif, 'Apple Color Emoji', 'Segoe UI Emoji', 'Segoe UI Symbol'\" font-size=\"13.00\">TradeId</text>\n",
       "<polygon fill=\"#ffffff\" stroke=\"transparent\" points=\"147.5,-437 147.5,-461 216.5,-461 216.5,-437 147.5,-437\"/>\n",
       "<text text-anchor=\"start\" x=\"177.5\" y=\"-446.6\" font-family=\"-apple-system, BlinkMacSystemFont, 'Segoe UI', Helvetica, Arial, sans-serif, 'Apple Color Emoji', 'Segoe UI Emoji', 'Segoe UI Symbol'\" font-style=\"italic\" font-size=\"13.00\">String</text>\n",
       "<polygon fill=\"#f5f5f5\" stroke=\"transparent\" points=\"9.5,-413 9.5,-437 41.5,-437 41.5,-413 9.5,-413\"/>\n",
       "<polygon fill=\"#f5f5f5\" stroke=\"transparent\" points=\"41.5,-413 41.5,-437 147.5,-437 147.5,-413 41.5,-413\"/>\n",
       "<text text-anchor=\"start\" x=\"46.5\" y=\"-421.6\" font-family=\"-apple-system, BlinkMacSystemFont, 'Segoe UI', Helvetica, Arial, sans-serif, 'Apple Color Emoji', 'Segoe UI Emoji', 'Segoe UI Symbol'\" font-size=\"13.00\">NettingSetId</text>\n",
       "<polygon fill=\"#f5f5f5\" stroke=\"transparent\" points=\"147.5,-413 147.5,-437 216.5,-437 216.5,-413 147.5,-413\"/>\n",
       "<text text-anchor=\"start\" x=\"177.5\" y=\"-422.6\" font-family=\"-apple-system, BlinkMacSystemFont, 'Segoe UI', Helvetica, Arial, sans-serif, 'Apple Color Emoji', 'Segoe UI Emoji', 'Segoe UI Symbol'\" font-style=\"italic\" font-size=\"13.00\">String</text>\n",
       "<polygon fill=\"#ffffff\" stroke=\"transparent\" points=\"9.5,-389 9.5,-413 41.5,-413 41.5,-389 9.5,-389\"/>\n",
       "<polygon fill=\"#ffffff\" stroke=\"transparent\" points=\"41.5,-389 41.5,-413 147.5,-413 147.5,-389 41.5,-389\"/>\n",
       "<text text-anchor=\"start\" x=\"46.5\" y=\"-397.6\" font-family=\"-apple-system, BlinkMacSystemFont, 'Segoe UI', Helvetica, Arial, sans-serif, 'Apple Color Emoji', 'Segoe UI Emoji', 'Segoe UI Symbol'\" font-size=\"13.00\">BookId</text>\n",
       "<polygon fill=\"#ffffff\" stroke=\"transparent\" points=\"147.5,-389 147.5,-413 216.5,-413 216.5,-389 147.5,-389\"/>\n",
       "<text text-anchor=\"start\" x=\"177.5\" y=\"-398.6\" font-family=\"-apple-system, BlinkMacSystemFont, 'Segoe UI', Helvetica, Arial, sans-serif, 'Apple Color Emoji', 'Segoe UI Emoji', 'Segoe UI Symbol'\" font-style=\"italic\" font-size=\"13.00\">String</text>\n",
       "<polygon fill=\"#f5f5f5\" stroke=\"transparent\" points=\"9.5,-365 9.5,-389 41.5,-389 41.5,-365 9.5,-365\"/>\n",
       "<polygon fill=\"#f5f5f5\" stroke=\"transparent\" points=\"41.5,-365 41.5,-389 147.5,-389 147.5,-365 41.5,-365\"/>\n",
       "<text text-anchor=\"start\" x=\"46.5\" y=\"-373.6\" font-family=\"-apple-system, BlinkMacSystemFont, 'Segoe UI', Helvetica, Arial, sans-serif, 'Apple Color Emoji', 'Segoe UI Emoji', 'Segoe UI Symbol'\" font-size=\"13.00\">Direction</text>\n",
       "<polygon fill=\"#f5f5f5\" stroke=\"transparent\" points=\"147.5,-365 147.5,-389 216.5,-389 216.5,-365 147.5,-365\"/>\n",
       "<text text-anchor=\"start\" x=\"197.5\" y=\"-374.6\" font-family=\"-apple-system, BlinkMacSystemFont, 'Segoe UI', Helvetica, Arial, sans-serif, 'Apple Color Emoji', 'Segoe UI Emoji', 'Segoe UI Symbol'\" font-style=\"italic\" font-size=\"13.00\">int</text>\n",
       "<polygon fill=\"#ffffff\" stroke=\"transparent\" points=\"9.5,-341 9.5,-365 41.5,-365 41.5,-341 9.5,-341\"/>\n",
       "<polygon fill=\"#ffffff\" stroke=\"transparent\" points=\"41.5,-341 41.5,-365 147.5,-365 147.5,-341 41.5,-341\"/>\n",
       "<text text-anchor=\"start\" x=\"46.5\" y=\"-349.6\" font-family=\"-apple-system, BlinkMacSystemFont, 'Segoe UI', Helvetica, Arial, sans-serif, 'Apple Color Emoji', 'Segoe UI Emoji', 'Segoe UI Symbol'\" font-size=\"13.00\">Notional</text>\n",
       "<polygon fill=\"#ffffff\" stroke=\"transparent\" points=\"147.5,-341 147.5,-365 216.5,-365 216.5,-341 147.5,-341\"/>\n",
       "<text text-anchor=\"start\" x=\"171.5\" y=\"-350.6\" font-family=\"-apple-system, BlinkMacSystemFont, 'Segoe UI', Helvetica, Arial, sans-serif, 'Apple Color Emoji', 'Segoe UI Emoji', 'Segoe UI Symbol'\" font-style=\"italic\" font-size=\"13.00\">double</text>\n",
       "<polygon fill=\"#f5f5f5\" stroke=\"transparent\" points=\"9.5,-317 9.5,-341 41.5,-341 41.5,-317 9.5,-317\"/>\n",
       "<polygon fill=\"#f5f5f5\" stroke=\"transparent\" points=\"41.5,-317 41.5,-341 147.5,-341 147.5,-317 41.5,-317\"/>\n",
       "<text text-anchor=\"start\" x=\"46.5\" y=\"-325.6\" font-family=\"-apple-system, BlinkMacSystemFont, 'Segoe UI', Helvetica, Arial, sans-serif, 'Apple Color Emoji', 'Segoe UI Emoji', 'Segoe UI Symbol'\" font-size=\"13.00\">MarketValue</text>\n",
       "<polygon fill=\"#f5f5f5\" stroke=\"transparent\" points=\"147.5,-317 147.5,-341 216.5,-341 216.5,-317 147.5,-317\"/>\n",
       "<text text-anchor=\"start\" x=\"171.5\" y=\"-326.6\" font-family=\"-apple-system, BlinkMacSystemFont, 'Segoe UI', Helvetica, Arial, sans-serif, 'Apple Color Emoji', 'Segoe UI Emoji', 'Segoe UI Symbol'\" font-style=\"italic\" font-size=\"13.00\">double</text>\n",
       "<polygon fill=\"#ffffff\" stroke=\"transparent\" points=\"9.5,-293 9.5,-317 41.5,-317 41.5,-293 9.5,-293\"/>\n",
       "<polygon fill=\"#ffffff\" stroke=\"transparent\" points=\"41.5,-293 41.5,-317 147.5,-317 147.5,-293 41.5,-293\"/>\n",
       "<text text-anchor=\"start\" x=\"46.5\" y=\"-301.6\" font-family=\"-apple-system, BlinkMacSystemFont, 'Segoe UI', Helvetica, Arial, sans-serif, 'Apple Color Emoji', 'Segoe UI Emoji', 'Segoe UI Symbol'\" font-size=\"13.00\">AssetClass</text>\n",
       "<polygon fill=\"#ffffff\" stroke=\"transparent\" points=\"147.5,-293 147.5,-317 216.5,-317 216.5,-293 147.5,-293\"/>\n",
       "<text text-anchor=\"start\" x=\"177.5\" y=\"-302.6\" font-family=\"-apple-system, BlinkMacSystemFont, 'Segoe UI', Helvetica, Arial, sans-serif, 'Apple Color Emoji', 'Segoe UI Emoji', 'Segoe UI Symbol'\" font-style=\"italic\" font-size=\"13.00\">String</text>\n",
       "<polygon fill=\"#f5f5f5\" stroke=\"transparent\" points=\"9.5,-269 9.5,-293 41.5,-293 41.5,-269 9.5,-269\"/>\n",
       "<polygon fill=\"#f5f5f5\" stroke=\"transparent\" points=\"41.5,-269 41.5,-293 147.5,-293 147.5,-269 41.5,-269\"/>\n",
       "<text text-anchor=\"start\" x=\"46.5\" y=\"-277.6\" font-family=\"-apple-system, BlinkMacSystemFont, 'Segoe UI', Helvetica, Arial, sans-serif, 'Apple Color Emoji', 'Segoe UI Emoji', 'Segoe UI Symbol'\" font-size=\"13.00\">SubClass</text>\n",
       "<polygon fill=\"#f5f5f5\" stroke=\"transparent\" points=\"147.5,-269 147.5,-293 216.5,-293 216.5,-269 147.5,-269\"/>\n",
       "<text text-anchor=\"start\" x=\"177.5\" y=\"-278.6\" font-family=\"-apple-system, BlinkMacSystemFont, 'Segoe UI', Helvetica, Arial, sans-serif, 'Apple Color Emoji', 'Segoe UI Emoji', 'Segoe UI Symbol'\" font-style=\"italic\" font-size=\"13.00\">String</text>\n",
       "<polygon fill=\"#ffffff\" stroke=\"transparent\" points=\"9.5,-245 9.5,-269 41.5,-269 41.5,-245 9.5,-245\"/>\n",
       "<polygon fill=\"#ffffff\" stroke=\"transparent\" points=\"41.5,-245 41.5,-269 147.5,-269 147.5,-245 41.5,-245\"/>\n",
       "<text text-anchor=\"start\" x=\"46.5\" y=\"-253.6\" font-family=\"-apple-system, BlinkMacSystemFont, 'Segoe UI', Helvetica, Arial, sans-serif, 'Apple Color Emoji', 'Segoe UI Emoji', 'Segoe UI Symbol'\" font-size=\"13.00\">OptionType</text>\n",
       "<polygon fill=\"#ffffff\" stroke=\"transparent\" points=\"147.5,-245 147.5,-269 216.5,-269 216.5,-245 147.5,-245\"/>\n",
       "<text text-anchor=\"start\" x=\"177.5\" y=\"-254.6\" font-family=\"-apple-system, BlinkMacSystemFont, 'Segoe UI', Helvetica, Arial, sans-serif, 'Apple Color Emoji', 'Segoe UI Emoji', 'Segoe UI Symbol'\" font-style=\"italic\" font-size=\"13.00\">String</text>\n",
       "<polygon fill=\"#f5f5f5\" stroke=\"transparent\" points=\"9.5,-221 9.5,-245 41.5,-245 41.5,-221 9.5,-221\"/>\n",
       "<polygon fill=\"#f5f5f5\" stroke=\"transparent\" points=\"41.5,-221 41.5,-245 147.5,-245 147.5,-221 41.5,-221\"/>\n",
       "<text text-anchor=\"start\" x=\"46.5\" y=\"-229.6\" font-family=\"-apple-system, BlinkMacSystemFont, 'Segoe UI', Helvetica, Arial, sans-serif, 'Apple Color Emoji', 'Segoe UI Emoji', 'Segoe UI Symbol'\" font-size=\"13.00\">Underlying</text>\n",
       "<polygon fill=\"#f5f5f5\" stroke=\"transparent\" points=\"147.5,-221 147.5,-245 216.5,-245 216.5,-221 147.5,-221\"/>\n",
       "<text text-anchor=\"start\" x=\"177.5\" y=\"-230.6\" font-family=\"-apple-system, BlinkMacSystemFont, 'Segoe UI', Helvetica, Arial, sans-serif, 'Apple Color Emoji', 'Segoe UI Emoji', 'Segoe UI Symbol'\" font-style=\"italic\" font-size=\"13.00\">String</text>\n",
       "<polygon fill=\"#ffffff\" stroke=\"transparent\" points=\"9.5,-197 9.5,-221 41.5,-221 41.5,-197 9.5,-197\"/>\n",
       "<polygon fill=\"#ffffff\" stroke=\"transparent\" points=\"41.5,-197 41.5,-221 147.5,-221 147.5,-197 41.5,-197\"/>\n",
       "<text text-anchor=\"start\" x=\"46.5\" y=\"-205.6\" font-family=\"-apple-system, BlinkMacSystemFont, 'Segoe UI', Helvetica, Arial, sans-serif, 'Apple Color Emoji', 'Segoe UI Emoji', 'Segoe UI Symbol'\" font-size=\"13.00\">Si_Date</text>\n",
       "<polygon fill=\"#ffffff\" stroke=\"transparent\" points=\"147.5,-197 147.5,-221 216.5,-221 216.5,-197 147.5,-197\"/>\n",
       "<text text-anchor=\"start\" x=\"152.5\" y=\"-206.6\" font-family=\"-apple-system, BlinkMacSystemFont, 'Segoe UI', Helvetica, Arial, sans-serif, 'Apple Color Emoji', 'Segoe UI Emoji', 'Segoe UI Symbol'\" font-style=\"italic\" font-size=\"13.00\">LocalDate</text>\n",
       "<polygon fill=\"#f5f5f5\" stroke=\"transparent\" points=\"9.5,-173 9.5,-197 41.5,-197 41.5,-173 9.5,-173\"/>\n",
       "<polygon fill=\"#f5f5f5\" stroke=\"transparent\" points=\"41.5,-173 41.5,-197 147.5,-197 147.5,-173 41.5,-173\"/>\n",
       "<text text-anchor=\"start\" x=\"46.5\" y=\"-181.6\" font-family=\"-apple-system, BlinkMacSystemFont, 'Segoe UI', Helvetica, Arial, sans-serif, 'Apple Color Emoji', 'Segoe UI Emoji', 'Segoe UI Symbol'\" font-size=\"13.00\">Ei_Date</text>\n",
       "<polygon fill=\"#f5f5f5\" stroke=\"transparent\" points=\"147.5,-173 147.5,-197 216.5,-197 216.5,-173 147.5,-173\"/>\n",
       "<text text-anchor=\"start\" x=\"152.5\" y=\"-182.6\" font-family=\"-apple-system, BlinkMacSystemFont, 'Segoe UI', Helvetica, Arial, sans-serif, 'Apple Color Emoji', 'Segoe UI Emoji', 'Segoe UI Symbol'\" font-style=\"italic\" font-size=\"13.00\">LocalDate</text>\n",
       "<polygon fill=\"#ffffff\" stroke=\"transparent\" points=\"9.5,-149 9.5,-173 41.5,-173 41.5,-149 9.5,-149\"/>\n",
       "<polygon fill=\"#ffffff\" stroke=\"transparent\" points=\"41.5,-149 41.5,-173 147.5,-173 147.5,-149 41.5,-149\"/>\n",
       "<text text-anchor=\"start\" x=\"46.5\" y=\"-157.6\" font-family=\"-apple-system, BlinkMacSystemFont, 'Segoe UI', Helvetica, Arial, sans-serif, 'Apple Color Emoji', 'Segoe UI Emoji', 'Segoe UI Symbol'\" font-size=\"13.00\">Mi_Date</text>\n",
       "<polygon fill=\"#ffffff\" stroke=\"transparent\" points=\"147.5,-149 147.5,-173 216.5,-173 216.5,-149 147.5,-149\"/>\n",
       "<text text-anchor=\"start\" x=\"152.5\" y=\"-158.6\" font-family=\"-apple-system, BlinkMacSystemFont, 'Segoe UI', Helvetica, Arial, sans-serif, 'Apple Color Emoji', 'Segoe UI Emoji', 'Segoe UI Symbol'\" font-style=\"italic\" font-size=\"13.00\">LocalDate</text>\n",
       "<polygon fill=\"#f5f5f5\" stroke=\"transparent\" points=\"9.5,-125 9.5,-149 41.5,-149 41.5,-125 9.5,-125\"/>\n",
       "<polygon fill=\"#f5f5f5\" stroke=\"transparent\" points=\"41.5,-125 41.5,-149 147.5,-149 147.5,-125 41.5,-125\"/>\n",
       "<text text-anchor=\"start\" x=\"46.5\" y=\"-133.6\" font-family=\"-apple-system, BlinkMacSystemFont, 'Segoe UI', Helvetica, Arial, sans-serif, 'Apple Color Emoji', 'Segoe UI Emoji', 'Segoe UI Symbol'\" font-size=\"13.00\">Ti_Date</text>\n",
       "<polygon fill=\"#f5f5f5\" stroke=\"transparent\" points=\"147.5,-125 147.5,-149 216.5,-149 216.5,-125 147.5,-125\"/>\n",
       "<text text-anchor=\"start\" x=\"152.5\" y=\"-134.6\" font-family=\"-apple-system, BlinkMacSystemFont, 'Segoe UI', Helvetica, Arial, sans-serif, 'Apple Color Emoji', 'Segoe UI Emoji', 'Segoe UI Symbol'\" font-style=\"italic\" font-size=\"13.00\">LocalDate</text>\n",
       "<polygon fill=\"#ffffff\" stroke=\"transparent\" points=\"9.5,-101 9.5,-125 41.5,-125 41.5,-101 9.5,-101\"/>\n",
       "<polygon fill=\"#ffffff\" stroke=\"transparent\" points=\"41.5,-101 41.5,-125 147.5,-125 147.5,-101 41.5,-101\"/>\n",
       "<text text-anchor=\"start\" x=\"46.5\" y=\"-109.6\" font-family=\"-apple-system, BlinkMacSystemFont, 'Segoe UI', Helvetica, Arial, sans-serif, 'Apple Color Emoji', 'Segoe UI Emoji', 'Segoe UI Symbol'\" font-size=\"13.00\">Strike Price</text>\n",
       "<polygon fill=\"#ffffff\" stroke=\"transparent\" points=\"147.5,-101 147.5,-125 216.5,-125 216.5,-101 147.5,-101\"/>\n",
       "<text text-anchor=\"start\" x=\"171.5\" y=\"-110.6\" font-family=\"-apple-system, BlinkMacSystemFont, 'Segoe UI', Helvetica, Arial, sans-serif, 'Apple Color Emoji', 'Segoe UI Emoji', 'Segoe UI Symbol'\" font-style=\"italic\" font-size=\"13.00\">double</text>\n",
       "<polygon fill=\"#f5f5f5\" stroke=\"transparent\" points=\"9.5,-77 9.5,-101 41.5,-101 41.5,-77 9.5,-77\"/>\n",
       "<polygon fill=\"#f5f5f5\" stroke=\"transparent\" points=\"41.5,-77 41.5,-101 147.5,-101 147.5,-77 41.5,-77\"/>\n",
       "<text text-anchor=\"start\" x=\"46.5\" y=\"-85.6\" font-family=\"-apple-system, BlinkMacSystemFont, 'Segoe UI', Helvetica, Arial, sans-serif, 'Apple Color Emoji', 'Segoe UI Emoji', 'Segoe UI Symbol'\" font-size=\"13.00\">Underlying Price</text>\n",
       "<polygon fill=\"#f5f5f5\" stroke=\"transparent\" points=\"147.5,-77 147.5,-101 216.5,-101 216.5,-77 147.5,-77\"/>\n",
       "<text text-anchor=\"start\" x=\"171.5\" y=\"-86.6\" font-family=\"-apple-system, BlinkMacSystemFont, 'Segoe UI', Helvetica, Arial, sans-serif, 'Apple Color Emoji', 'Segoe UI Emoji', 'Segoe UI Symbol'\" font-style=\"italic\" font-size=\"13.00\">double</text>\n",
       "<polygon fill=\"#ffffff\" stroke=\"transparent\" points=\"9.5,-53 9.5,-77 41.5,-77 41.5,-53 9.5,-53\"/>\n",
       "<polygon fill=\"#ffffff\" stroke=\"transparent\" points=\"41.5,-53 41.5,-77 147.5,-77 147.5,-53 41.5,-53\"/>\n",
       "<text text-anchor=\"start\" x=\"46.5\" y=\"-61.6\" font-family=\"-apple-system, BlinkMacSystemFont, 'Segoe UI', Helvetica, Arial, sans-serif, 'Apple Color Emoji', 'Segoe UI Emoji', 'Segoe UI Symbol'\" font-size=\"13.00\">AttachPoint</text>\n",
       "<polygon fill=\"#ffffff\" stroke=\"transparent\" points=\"147.5,-53 147.5,-77 216.5,-77 216.5,-53 147.5,-53\"/>\n",
       "<text text-anchor=\"start\" x=\"171.5\" y=\"-62.6\" font-family=\"-apple-system, BlinkMacSystemFont, 'Segoe UI', Helvetica, Arial, sans-serif, 'Apple Color Emoji', 'Segoe UI Emoji', 'Segoe UI Symbol'\" font-style=\"italic\" font-size=\"13.00\">double</text>\n",
       "<polygon fill=\"#f5f5f5\" stroke=\"transparent\" points=\"9.5,-29 9.5,-53 41.5,-53 41.5,-29 9.5,-29\"/>\n",
       "<polygon fill=\"#f5f5f5\" stroke=\"transparent\" points=\"41.5,-29 41.5,-53 147.5,-53 147.5,-29 41.5,-29\"/>\n",
       "<text text-anchor=\"start\" x=\"46.5\" y=\"-37.6\" font-family=\"-apple-system, BlinkMacSystemFont, 'Segoe UI', Helvetica, Arial, sans-serif, 'Apple Color Emoji', 'Segoe UI Emoji', 'Segoe UI Symbol'\" font-size=\"13.00\">DetachPoint</text>\n",
       "<polygon fill=\"#f5f5f5\" stroke=\"transparent\" points=\"147.5,-29 147.5,-53 216.5,-53 216.5,-29 147.5,-29\"/>\n",
       "<text text-anchor=\"start\" x=\"171.5\" y=\"-38.6\" font-family=\"-apple-system, BlinkMacSystemFont, 'Segoe UI', Helvetica, Arial, sans-serif, 'Apple Color Emoji', 'Segoe UI Emoji', 'Segoe UI Symbol'\" font-style=\"italic\" font-size=\"13.00\">double</text>\n",
       "<polygon fill=\"#ffffff\" stroke=\"transparent\" points=\"9.5,-5 9.5,-29 41.5,-29 41.5,-5 9.5,-5\"/>\n",
       "<polygon fill=\"#ffffff\" stroke=\"transparent\" points=\"41.5,-5 41.5,-29 147.5,-29 147.5,-5 41.5,-5\"/>\n",
       "<text text-anchor=\"start\" x=\"46.5\" y=\"-13.6\" font-family=\"-apple-system, BlinkMacSystemFont, 'Segoe UI', Helvetica, Arial, sans-serif, 'Apple Color Emoji', 'Segoe UI Emoji', 'Segoe UI Symbol'\" font-size=\"13.00\">IsCDO</text>\n",
       "<polygon fill=\"#ffffff\" stroke=\"transparent\" points=\"147.5,-5 147.5,-29 216.5,-29 216.5,-5 147.5,-5\"/>\n",
       "<text text-anchor=\"start\" x=\"177.5\" y=\"-14.6\" font-family=\"-apple-system, BlinkMacSystemFont, 'Segoe UI', Helvetica, Arial, sans-serif, 'Apple Color Emoji', 'Segoe UI Emoji', 'Segoe UI Symbol'\" font-style=\"italic\" font-size=\"13.00\">String</text>\n",
       "<polygon fill=\"none\" stroke=\"black\" points=\"8,-4 8,-510 217,-510 217,-4 8,-4\"/>\n",
       "</g>\n",
       "<!-- NettingSets -->\n",
       "<g id=\"node2\" class=\"node\">\n",
       "<title>NettingSets</title>\n",
       "<text text-anchor=\"start\" x=\"522\" y=\"-478.6\" font-family=\"-apple-system, BlinkMacSystemFont, 'Segoe UI', Helvetica, Arial, sans-serif, 'Apple Color Emoji', 'Segoe UI Emoji', 'Segoe UI Symbol'\" font-weight=\"bold\" font-size=\"13.00\">NettingSets</text>\n",
       "<polygon fill=\"#f5f5f5\" stroke=\"transparent\" points=\"460,-445 460,-469 492,-469 492,-445 460,-445\"/>\n",
       "<text text-anchor=\"start\" x=\"465\" y=\"-454.6\" font-family=\"-apple-system, BlinkMacSystemFont, 'Segoe UI', Helvetica, Arial, sans-serif, 'Apple Color Emoji', 'Segoe UI Emoji', 'Segoe UI Symbol'\" font-weight=\"bold\" font-size=\"13.00\">key</text>\n",
       "<polygon fill=\"#f5f5f5\" stroke=\"transparent\" points=\"492,-445 492,-469 588,-469 588,-445 492,-445\"/>\n",
       "<text text-anchor=\"start\" x=\"497\" y=\"-453.6\" font-family=\"-apple-system, BlinkMacSystemFont, 'Segoe UI', Helvetica, Arial, sans-serif, 'Apple Color Emoji', 'Segoe UI Emoji', 'Segoe UI Symbol'\" font-size=\"13.00\">AsOfDate</text>\n",
       "<polygon fill=\"#f5f5f5\" stroke=\"transparent\" points=\"588,-445 588,-469 657,-469 657,-445 588,-445\"/>\n",
       "<text text-anchor=\"start\" x=\"593\" y=\"-454.6\" font-family=\"-apple-system, BlinkMacSystemFont, 'Segoe UI', Helvetica, Arial, sans-serif, 'Apple Color Emoji', 'Segoe UI Emoji', 'Segoe UI Symbol'\" font-style=\"italic\" font-size=\"13.00\">LocalDate</text>\n",
       "<polygon fill=\"#ffffff\" stroke=\"transparent\" points=\"460,-421 460,-445 492,-445 492,-421 460,-421\"/>\n",
       "<text text-anchor=\"start\" x=\"465\" y=\"-430.6\" font-family=\"-apple-system, BlinkMacSystemFont, 'Segoe UI', Helvetica, Arial, sans-serif, 'Apple Color Emoji', 'Segoe UI Emoji', 'Segoe UI Symbol'\" font-weight=\"bold\" font-size=\"13.00\">key</text>\n",
       "<polygon fill=\"#ffffff\" stroke=\"transparent\" points=\"492,-421 492,-445 588,-445 588,-421 492,-421\"/>\n",
       "<text text-anchor=\"start\" x=\"497\" y=\"-429.6\" font-family=\"-apple-system, BlinkMacSystemFont, 'Segoe UI', Helvetica, Arial, sans-serif, 'Apple Color Emoji', 'Segoe UI Emoji', 'Segoe UI Symbol'\" font-size=\"13.00\">NettingSetId</text>\n",
       "<polygon fill=\"#ffffff\" stroke=\"transparent\" points=\"588,-421 588,-445 657,-445 657,-421 588,-421\"/>\n",
       "<text text-anchor=\"start\" x=\"618\" y=\"-430.6\" font-family=\"-apple-system, BlinkMacSystemFont, 'Segoe UI', Helvetica, Arial, sans-serif, 'Apple Color Emoji', 'Segoe UI Emoji', 'Segoe UI Symbol'\" font-style=\"italic\" font-size=\"13.00\">String</text>\n",
       "<polygon fill=\"#f5f5f5\" stroke=\"transparent\" points=\"460,-397 460,-421 492,-421 492,-397 460,-397\"/>\n",
       "<polygon fill=\"#f5f5f5\" stroke=\"transparent\" points=\"492,-397 492,-421 588,-421 588,-397 492,-397\"/>\n",
       "<text text-anchor=\"start\" x=\"497\" y=\"-405.6\" font-family=\"-apple-system, BlinkMacSystemFont, 'Segoe UI', Helvetica, Arial, sans-serif, 'Apple Color Emoji', 'Segoe UI Emoji', 'Segoe UI Symbol'\" font-size=\"13.00\">CounterpartyId</text>\n",
       "<polygon fill=\"#f5f5f5\" stroke=\"transparent\" points=\"588,-397 588,-421 657,-421 657,-397 588,-397\"/>\n",
       "<text text-anchor=\"start\" x=\"618\" y=\"-406.6\" font-family=\"-apple-system, BlinkMacSystemFont, 'Segoe UI', Helvetica, Arial, sans-serif, 'Apple Color Emoji', 'Segoe UI Emoji', 'Segoe UI Symbol'\" font-style=\"italic\" font-size=\"13.00\">String</text>\n",
       "<polygon fill=\"#ffffff\" stroke=\"transparent\" points=\"460,-373 460,-397 492,-397 492,-373 460,-373\"/>\n",
       "<polygon fill=\"#ffffff\" stroke=\"transparent\" points=\"492,-373 492,-397 588,-397 588,-373 492,-373\"/>\n",
       "<text text-anchor=\"start\" x=\"497\" y=\"-381.6\" font-family=\"-apple-system, BlinkMacSystemFont, 'Segoe UI', Helvetica, Arial, sans-serif, 'Apple Color Emoji', 'Segoe UI Emoji', 'Segoe UI Symbol'\" font-size=\"13.00\">MPOR</text>\n",
       "<polygon fill=\"#ffffff\" stroke=\"transparent\" points=\"588,-373 588,-397 657,-397 657,-373 588,-373\"/>\n",
       "<text text-anchor=\"start\" x=\"612\" y=\"-382.6\" font-family=\"-apple-system, BlinkMacSystemFont, 'Segoe UI', Helvetica, Arial, sans-serif, 'Apple Color Emoji', 'Segoe UI Emoji', 'Segoe UI Symbol'\" font-style=\"italic\" font-size=\"13.00\">double</text>\n",
       "<polygon fill=\"#f5f5f5\" stroke=\"transparent\" points=\"460,-349 460,-373 492,-373 492,-349 460,-349\"/>\n",
       "<polygon fill=\"#f5f5f5\" stroke=\"transparent\" points=\"492,-349 492,-373 588,-373 588,-349 492,-349\"/>\n",
       "<text text-anchor=\"start\" x=\"497\" y=\"-357.6\" font-family=\"-apple-system, BlinkMacSystemFont, 'Segoe UI', Helvetica, Arial, sans-serif, 'Apple Color Emoji', 'Segoe UI Emoji', 'Segoe UI Symbol'\" font-size=\"13.00\">Collateral</text>\n",
       "<polygon fill=\"#f5f5f5\" stroke=\"transparent\" points=\"588,-349 588,-373 657,-373 657,-349 588,-349\"/>\n",
       "<text text-anchor=\"start\" x=\"612\" y=\"-358.6\" font-family=\"-apple-system, BlinkMacSystemFont, 'Segoe UI', Helvetica, Arial, sans-serif, 'Apple Color Emoji', 'Segoe UI Emoji', 'Segoe UI Symbol'\" font-style=\"italic\" font-size=\"13.00\">double</text>\n",
       "<polygon fill=\"#ffffff\" stroke=\"transparent\" points=\"460,-325 460,-349 492,-349 492,-325 460,-325\"/>\n",
       "<polygon fill=\"#ffffff\" stroke=\"transparent\" points=\"492,-325 492,-349 588,-349 588,-325 492,-325\"/>\n",
       "<text text-anchor=\"start\" x=\"497\" y=\"-333.6\" font-family=\"-apple-system, BlinkMacSystemFont, 'Segoe UI', Helvetica, Arial, sans-serif, 'Apple Color Emoji', 'Segoe UI Emoji', 'Segoe UI Symbol'\" font-size=\"13.00\">NICA</text>\n",
       "<polygon fill=\"#ffffff\" stroke=\"transparent\" points=\"588,-325 588,-349 657,-349 657,-325 588,-325\"/>\n",
       "<text text-anchor=\"start\" x=\"612\" y=\"-334.6\" font-family=\"-apple-system, BlinkMacSystemFont, 'Segoe UI', Helvetica, Arial, sans-serif, 'Apple Color Emoji', 'Segoe UI Emoji', 'Segoe UI Symbol'\" font-style=\"italic\" font-size=\"13.00\">double</text>\n",
       "<polygon fill=\"#f5f5f5\" stroke=\"transparent\" points=\"460,-301 460,-325 492,-325 492,-301 460,-301\"/>\n",
       "<polygon fill=\"#f5f5f5\" stroke=\"transparent\" points=\"492,-301 492,-325 588,-325 588,-301 492,-301\"/>\n",
       "<text text-anchor=\"start\" x=\"497\" y=\"-309.6\" font-family=\"-apple-system, BlinkMacSystemFont, 'Segoe UI', Helvetica, Arial, sans-serif, 'Apple Color Emoji', 'Segoe UI Emoji', 'Segoe UI Symbol'\" font-size=\"13.00\">TH</text>\n",
       "<polygon fill=\"#f5f5f5\" stroke=\"transparent\" points=\"588,-301 588,-325 657,-325 657,-301 588,-301\"/>\n",
       "<text text-anchor=\"start\" x=\"612\" y=\"-310.6\" font-family=\"-apple-system, BlinkMacSystemFont, 'Segoe UI', Helvetica, Arial, sans-serif, 'Apple Color Emoji', 'Segoe UI Emoji', 'Segoe UI Symbol'\" font-style=\"italic\" font-size=\"13.00\">double</text>\n",
       "<polygon fill=\"#ffffff\" stroke=\"transparent\" points=\"460,-277 460,-301 492,-301 492,-277 460,-277\"/>\n",
       "<polygon fill=\"#ffffff\" stroke=\"transparent\" points=\"492,-277 492,-301 588,-301 588,-277 492,-277\"/>\n",
       "<text text-anchor=\"start\" x=\"497\" y=\"-285.6\" font-family=\"-apple-system, BlinkMacSystemFont, 'Segoe UI', Helvetica, Arial, sans-serif, 'Apple Color Emoji', 'Segoe UI Emoji', 'Segoe UI Symbol'\" font-size=\"13.00\">MTA</text>\n",
       "<polygon fill=\"#ffffff\" stroke=\"transparent\" points=\"588,-277 588,-301 657,-301 657,-277 588,-277\"/>\n",
       "<text text-anchor=\"start\" x=\"612\" y=\"-286.6\" font-family=\"-apple-system, BlinkMacSystemFont, 'Segoe UI', Helvetica, Arial, sans-serif, 'Apple Color Emoji', 'Segoe UI Emoji', 'Segoe UI Symbol'\" font-style=\"italic\" font-size=\"13.00\">double</text>\n",
       "<polygon fill=\"#f5f5f5\" stroke=\"transparent\" points=\"460,-253 460,-277 492,-277 492,-253 460,-253\"/>\n",
       "<polygon fill=\"#f5f5f5\" stroke=\"transparent\" points=\"492,-253 492,-277 588,-277 588,-253 492,-253\"/>\n",
       "<text text-anchor=\"start\" x=\"497\" y=\"-261.6\" font-family=\"-apple-system, BlinkMacSystemFont, 'Segoe UI', Helvetica, Arial, sans-serif, 'Apple Color Emoji', 'Segoe UI Emoji', 'Segoe UI Symbol'\" font-size=\"13.00\">isMargined</text>\n",
       "<polygon fill=\"#f5f5f5\" stroke=\"transparent\" points=\"588,-253 588,-277 657,-277 657,-253 588,-253\"/>\n",
       "<text text-anchor=\"start\" x=\"618\" y=\"-262.6\" font-family=\"-apple-system, BlinkMacSystemFont, 'Segoe UI', Helvetica, Arial, sans-serif, 'Apple Color Emoji', 'Segoe UI Emoji', 'Segoe UI Symbol'\" font-style=\"italic\" font-size=\"13.00\">String</text>\n",
       "<polygon fill=\"none\" stroke=\"black\" points=\"458.5,-252 458.5,-494 657.5,-494 657.5,-252 458.5,-252\"/>\n",
       "</g>\n",
       "<!-- Trades&#45;&gt;NettingSets -->\n",
       "<g id=\"edge2\" class=\"edge\">\n",
       "<title>Trades-&gt;NettingSets</title>\n",
       "<path fill=\"none\" stroke=\"black\" d=\"M225.13,-286.2C290.92,-303.4 374.04,-325.15 440.64,-342.56\"/>\n",
       "<polygon fill=\"black\" stroke=\"black\" points=\"439.78,-345.96 450.34,-345.1 441.55,-339.19 439.78,-345.96\"/>\n",
       "<text text-anchor=\"middle\" x=\"325\" y=\"-349.6\" font-family=\"-apple-system, BlinkMacSystemFont, 'Segoe UI', Helvetica, Arial, sans-serif, 'Apple Color Emoji', 'Segoe UI Emoji', 'Segoe UI Symbol'\" font-size=\"13.00\">AsOfDate → AsOfDate</text>\n",
       "<text text-anchor=\"middle\" x=\"325\" y=\"-335.6\" font-family=\"-apple-system, BlinkMacSystemFont, 'Segoe UI', Helvetica, Arial, sans-serif, 'Apple Color Emoji', 'Segoe UI Emoji', 'Segoe UI Symbol'\" font-size=\"13.00\">NettingSetId → NettingSetId</text>\n",
       "</g>\n",
       "<!-- Parameters -->\n",
       "<g id=\"node3\" class=\"node\">\n",
       "<title>Parameters</title>\n",
       "<text text-anchor=\"start\" x=\"522.5\" y=\"-210.6\" font-family=\"-apple-system, BlinkMacSystemFont, 'Segoe UI', Helvetica, Arial, sans-serif, 'Apple Color Emoji', 'Segoe UI Emoji', 'Segoe UI Symbol'\" font-weight=\"bold\" font-size=\"13.00\">Parameters</text>\n",
       "<polygon fill=\"#f5f5f5\" stroke=\"transparent\" points=\"434,-177 434,-201 466,-201 466,-177 434,-177\"/>\n",
       "<text text-anchor=\"start\" x=\"439\" y=\"-186.6\" font-family=\"-apple-system, BlinkMacSystemFont, 'Segoe UI', Helvetica, Arial, sans-serif, 'Apple Color Emoji', 'Segoe UI Emoji', 'Segoe UI Symbol'\" font-weight=\"bold\" font-size=\"13.00\">key</text>\n",
       "<polygon fill=\"#f5f5f5\" stroke=\"transparent\" points=\"466,-177 466,-201 632,-201 632,-177 466,-177\"/>\n",
       "<text text-anchor=\"start\" x=\"471\" y=\"-185.6\" font-family=\"-apple-system, BlinkMacSystemFont, 'Segoe UI', Helvetica, Arial, sans-serif, 'Apple Color Emoji', 'Segoe UI Emoji', 'Segoe UI Symbol'\" font-size=\"13.00\">AssetClass</text>\n",
       "<polygon fill=\"#f5f5f5\" stroke=\"transparent\" points=\"632,-177 632,-201 682,-201 682,-177 632,-177\"/>\n",
       "<text text-anchor=\"start\" x=\"643\" y=\"-186.6\" font-family=\"-apple-system, BlinkMacSystemFont, 'Segoe UI', Helvetica, Arial, sans-serif, 'Apple Color Emoji', 'Segoe UI Emoji', 'Segoe UI Symbol'\" font-style=\"italic\" font-size=\"13.00\">String</text>\n",
       "<polygon fill=\"#ffffff\" stroke=\"transparent\" points=\"434,-153 434,-177 466,-177 466,-153 434,-153\"/>\n",
       "<text text-anchor=\"start\" x=\"439\" y=\"-162.6\" font-family=\"-apple-system, BlinkMacSystemFont, 'Segoe UI', Helvetica, Arial, sans-serif, 'Apple Color Emoji', 'Segoe UI Emoji', 'Segoe UI Symbol'\" font-weight=\"bold\" font-size=\"13.00\">key</text>\n",
       "<polygon fill=\"#ffffff\" stroke=\"transparent\" points=\"466,-153 466,-177 632,-177 632,-153 466,-153\"/>\n",
       "<text text-anchor=\"start\" x=\"471\" y=\"-161.6\" font-family=\"-apple-system, BlinkMacSystemFont, 'Segoe UI', Helvetica, Arial, sans-serif, 'Apple Color Emoji', 'Segoe UI Emoji', 'Segoe UI Symbol'\" font-size=\"13.00\">SubClass</text>\n",
       "<polygon fill=\"#ffffff\" stroke=\"transparent\" points=\"632,-153 632,-177 682,-177 682,-153 632,-153\"/>\n",
       "<text text-anchor=\"start\" x=\"643\" y=\"-162.6\" font-family=\"-apple-system, BlinkMacSystemFont, 'Segoe UI', Helvetica, Arial, sans-serif, 'Apple Color Emoji', 'Segoe UI Emoji', 'Segoe UI Symbol'\" font-style=\"italic\" font-size=\"13.00\">String</text>\n",
       "<polygon fill=\"#f5f5f5\" stroke=\"transparent\" points=\"434,-129 434,-153 466,-153 466,-129 434,-129\"/>\n",
       "<polygon fill=\"#f5f5f5\" stroke=\"transparent\" points=\"466,-129 466,-153 632,-153 632,-129 466,-129\"/>\n",
       "<text text-anchor=\"start\" x=\"471\" y=\"-137.6\" font-family=\"-apple-system, BlinkMacSystemFont, 'Segoe UI', Helvetica, Arial, sans-serif, 'Apple Color Emoji', 'Segoe UI Emoji', 'Segoe UI Symbol'\" font-size=\"13.00\">SupervisoryFactor</text>\n",
       "<polygon fill=\"#f5f5f5\" stroke=\"transparent\" points=\"632,-129 632,-153 682,-153 682,-129 632,-129\"/>\n",
       "<text text-anchor=\"start\" x=\"637\" y=\"-138.6\" font-family=\"-apple-system, BlinkMacSystemFont, 'Segoe UI', Helvetica, Arial, sans-serif, 'Apple Color Emoji', 'Segoe UI Emoji', 'Segoe UI Symbol'\" font-style=\"italic\" font-size=\"13.00\">double</text>\n",
       "<polygon fill=\"#ffffff\" stroke=\"transparent\" points=\"434,-105 434,-129 466,-129 466,-105 434,-105\"/>\n",
       "<polygon fill=\"#ffffff\" stroke=\"transparent\" points=\"466,-105 466,-129 632,-129 632,-105 466,-105\"/>\n",
       "<text text-anchor=\"start\" x=\"471\" y=\"-113.6\" font-family=\"-apple-system, BlinkMacSystemFont, 'Segoe UI', Helvetica, Arial, sans-serif, 'Apple Color Emoji', 'Segoe UI Emoji', 'Segoe UI Symbol'\" font-size=\"13.00\">Correlation</text>\n",
       "<polygon fill=\"#ffffff\" stroke=\"transparent\" points=\"632,-105 632,-129 682,-129 682,-105 632,-105\"/>\n",
       "<text text-anchor=\"start\" x=\"637\" y=\"-114.6\" font-family=\"-apple-system, BlinkMacSystemFont, 'Segoe UI', Helvetica, Arial, sans-serif, 'Apple Color Emoji', 'Segoe UI Emoji', 'Segoe UI Symbol'\" font-style=\"italic\" font-size=\"13.00\">double</text>\n",
       "<polygon fill=\"#f5f5f5\" stroke=\"transparent\" points=\"434,-81 434,-105 466,-105 466,-81 434,-81\"/>\n",
       "<polygon fill=\"#f5f5f5\" stroke=\"transparent\" points=\"466,-81 466,-105 632,-105 632,-81 466,-81\"/>\n",
       "<text text-anchor=\"start\" x=\"471\" y=\"-89.6\" font-family=\"-apple-system, BlinkMacSystemFont, 'Segoe UI', Helvetica, Arial, sans-serif, 'Apple Color Emoji', 'Segoe UI Emoji', 'Segoe UI Symbol'\" font-size=\"13.00\">SupervisoryOptionVolatility</text>\n",
       "<polygon fill=\"#f5f5f5\" stroke=\"transparent\" points=\"632,-81 632,-105 682,-105 682,-81 632,-81\"/>\n",
       "<text text-anchor=\"start\" x=\"637\" y=\"-90.6\" font-family=\"-apple-system, BlinkMacSystemFont, 'Segoe UI', Helvetica, Arial, sans-serif, 'Apple Color Emoji', 'Segoe UI Emoji', 'Segoe UI Symbol'\" font-style=\"italic\" font-size=\"13.00\">double</text>\n",
       "<polygon fill=\"#ffffff\" stroke=\"transparent\" points=\"434,-57 434,-81 466,-81 466,-57 434,-57\"/>\n",
       "<polygon fill=\"#ffffff\" stroke=\"transparent\" points=\"466,-57 466,-81 632,-81 632,-57 466,-57\"/>\n",
       "<text text-anchor=\"start\" x=\"471\" y=\"-65.6\" font-family=\"-apple-system, BlinkMacSystemFont, 'Segoe UI', Helvetica, Arial, sans-serif, 'Apple Color Emoji', 'Segoe UI Emoji', 'Segoe UI Symbol'\" font-size=\"13.00\">HS</text>\n",
       "<polygon fill=\"#ffffff\" stroke=\"transparent\" points=\"632,-57 632,-81 682,-81 682,-57 632,-57\"/>\n",
       "<text text-anchor=\"start\" x=\"643\" y=\"-66.6\" font-family=\"-apple-system, BlinkMacSystemFont, 'Segoe UI', Helvetica, Arial, sans-serif, 'Apple Color Emoji', 'Segoe UI Emoji', 'Segoe UI Symbol'\" font-style=\"italic\" font-size=\"13.00\">String</text>\n",
       "<polygon fill=\"none\" stroke=\"black\" points=\"433,-56 433,-226 683,-226 683,-56 433,-56\"/>\n",
       "</g>\n",
       "<!-- Trades&#45;&gt;Parameters -->\n",
       "<g id=\"edge1\" class=\"edge\">\n",
       "<title>Trades-&gt;Parameters</title>\n",
       "<path fill=\"none\" stroke=\"black\" d=\"M225.13,-227.8C282.73,-212.74 353.62,-194.19 415.07,-178.12\"/>\n",
       "<polygon fill=\"black\" stroke=\"black\" points=\"416.06,-181.48 424.85,-175.56 414.29,-174.71 416.06,-181.48\"/>\n",
       "<text text-anchor=\"middle\" x=\"325\" y=\"-239.6\" font-family=\"-apple-system, BlinkMacSystemFont, 'Segoe UI', Helvetica, Arial, sans-serif, 'Apple Color Emoji', 'Segoe UI Emoji', 'Segoe UI Symbol'\" font-size=\"13.00\">SubClass → SubClass</text>\n",
       "<text text-anchor=\"middle\" x=\"325\" y=\"-225.6\" font-family=\"-apple-system, BlinkMacSystemFont, 'Segoe UI', Helvetica, Arial, sans-serif, 'Apple Color Emoji', 'Segoe UI Emoji', 'Segoe UI Symbol'\" font-size=\"13.00\">AssetClass → AssetClass</text>\n",
       "</g>\n",
       "</g>\n",
       "</svg>"
      ],
      "text/plain": [
       "<IPython.core.display.SVG object>"
      ]
     },
     "execution_count": 10,
     "metadata": {},
     "output_type": "execute_result"
    }
   ],
   "source": [
    "cube.schema"
   ]
  },
  {
   "cell_type": "markdown",
   "metadata": {},
   "source": [
    "# SA-CCR calculations\n",
    "\n",
    "In this section we will create aggregation functions (measures) to compute EAD from the input data described above.\n",
    "\n",
    "We will proceed bottom-up  - starting with the supervisory duration metric, then move onto the trade-level adjusted notional, maturity factors, delta adjustments, addons and the necessary EAD components. \n",
    "\n",
    "We will keep referring to the correponding paragraphs of the [CRE52](https://www.bis.org/basel_framework/chapter/CRE/52.htm?inforce=20191215) as we progress."
   ]
  },
  {
   "cell_type": "markdown",
   "metadata": {},
   "source": [
    "## Supervisory duration - [52.34]"
   ]
  },
  {
   "cell_type": "markdown",
   "metadata": {},
   "source": [
    "In this section we will compute Supervisory Duration per formula defined in CRE52 para [52.34]:\n",
    "\n",
    "$$SupervisoryDuration = max(\\text{10 business days}, \\frac{(e^{-0.05*S_i} - e^{-0.05*E_i})}{0.05})$$ for Credit Spread and Interest Rates. We assume it to be equal to 1 for all other Asset Classes. \n",
    "\n",
    "In this expression, time period parameters are defined in [52.31] as follows:\n",
    "\n",
    "- $S_i$ is the period of time from the valuation date until start of the time period referenced by an interest rate or credit contract\n",
    "- and $E_i$ is the period of time from the valuation date until the end of the time period referenced by an interest rate or credit contract.\n",
    "\n",
    "We will compute them from the Si and Ei dates provided in the input data."
   ]
  },
  {
   "cell_type": "code",
   "execution_count": 11,
   "metadata": {},
   "outputs": [],
   "source": [
    "number_of_days_in_year = 365\n",
    "\n",
    "si_date_diff = (\n",
    "    tt.date_diff(lvl[\"AsOfDate\"], lvl[\"Si_Date\"], unit=\"days\") / number_of_days_in_year\n",
    ")\n",
    "ei_date_diff = (\n",
    "    tt.date_diff(lvl[\"AsOfDate\"], lvl[\"Ei_Date\"], unit=\"days\") / number_of_days_in_year\n",
    ")\n",
    "\n",
    "# The Si and Ei measures will be computed only for the interest rates and credit spread products.\n",
    "m[\"Si\"] = tt.filter(si_date_diff, lvl[\"AssetClass\"].isin(\"IR\", \"CR_IDX\", \"CR_SN\"),)\n",
    "m[\"Ei\"] = tt.filter(ei_date_diff, lvl[\"AssetClass\"].isin(\"IR\", \"CR_IDX\", \"CR_SN\"),)\n",
    "\n",
    "# Supervisory duration is floored at 10 business dates - see [52.34]\n",
    "supervisory_duration_floor = 10 / 250\n",
    "\n",
    "# The following code will create a measure allowing us to visualize the supervisory duration\n",
    "m[\"Supervisory_Duration\"] = tt.where(\n",
    "    lvl[\"AssetClass\"].isin(\"IR\", \"CR_IDX\", \"CR_SN\"),\n",
    "    tt.max(\n",
    "        (tt.exp(-0.05 * m[\"Si\"]) - tt.exp(-0.05 * m[\"Ei\"])) / 0.05,\n",
    "        supervisory_duration_floor,\n",
    "    ),\n",
    "    1.0,\n",
    ")\n",
    "m[\"Supervisory_Duration\"].formatter = \"DOUBLE[#0,0000]\""
   ]
  },
  {
   "cell_type": "code",
   "execution_count": 12,
   "metadata": {},
   "outputs": [
    {
     "data": {
      "text/html": [
       "<div>\n",
       "<style scoped>\n",
       "    .dataframe tbody tr th:only-of-type {\n",
       "        vertical-align: middle;\n",
       "    }\n",
       "\n",
       "    .dataframe tbody tr th {\n",
       "        vertical-align: top;\n",
       "    }\n",
       "\n",
       "    .dataframe thead th {\n",
       "        text-align: right;\n",
       "    }\n",
       "</style>\n",
       "<table border=\"1\" class=\"dataframe\">\n",
       "  <thead>\n",
       "    <tr style=\"text-align: right;\">\n",
       "      <th></th>\n",
       "      <th></th>\n",
       "      <th></th>\n",
       "      <th>Supervisory_Duration</th>\n",
       "      <th>Si</th>\n",
       "      <th>Ei</th>\n",
       "    </tr>\n",
       "    <tr>\n",
       "      <th>AssetClass</th>\n",
       "      <th>Si_Date</th>\n",
       "      <th>Ei_Date</th>\n",
       "      <th></th>\n",
       "      <th></th>\n",
       "      <th></th>\n",
       "    </tr>\n",
       "  </thead>\n",
       "  <tbody>\n",
       "    <tr>\n",
       "      <th>CO</th>\n",
       "      <th>2020-01-13</th>\n",
       "      <th>2028-01-13</th>\n",
       "      <td>1.00</td>\n",
       "      <td>nan</td>\n",
       "      <td>nan</td>\n",
       "    </tr>\n",
       "    <tr>\n",
       "      <th rowspan=\"2\" valign=\"top\">CR_IDX</th>\n",
       "      <th rowspan=\"2\" valign=\"top\">2020-01-13</th>\n",
       "      <th>2025-01-13</th>\n",
       "      <td>4.43</td>\n",
       "      <td>0.00</td>\n",
       "      <td>5.01</td>\n",
       "    </tr>\n",
       "    <tr>\n",
       "      <th>2026-01-13</th>\n",
       "      <td>5.19</td>\n",
       "      <td>0.00</td>\n",
       "      <td>6.01</td>\n",
       "    </tr>\n",
       "  </tbody>\n",
       "</table>\n",
       "</div>"
      ],
      "text/plain": [
       "                                  Supervisory_Duration   Si   Ei\n",
       "AssetClass Si_Date    Ei_Date                                   \n",
       "CO         2020-01-13 2028-01-13                  1.00  nan  nan\n",
       "CR_IDX     2020-01-13 2025-01-13                  4.43 0.00 5.01\n",
       "                      2026-01-13                  5.19 0.00 6.01"
      ]
     },
     "execution_count": 12,
     "metadata": {},
     "output_type": "execute_result"
    }
   ],
   "source": [
    "# The levels required to compute Supervisory_Duration can be computed __above__ trade level, as\n",
    "# the minimum required attributes are: Si_Date, Ei_Date and AssetClass.\n",
    "cube.query(\n",
    "    m[\"Supervisory_Duration\"],\n",
    "    m[\"Si\"],\n",
    "    m[\"Ei\"],\n",
    "    levels=[lvl[\"AssetClass\"], lvl[\"Si_Date\"], lvl[\"Ei_Date\"]],\n",
    ").head(3)"
   ]
  },
  {
   "cell_type": "markdown",
   "metadata": {},
   "source": [
    "## Trade-level adjusted notional (for trade i): di - [52.34]\n",
    "\n",
    "Having defined the Supervisory Duration measure, we'll apply it to notionals input data to obtain adjusted notional. Please review the paragraphs of the CRE52 [52.33] - [52.34] for more information on the defintinions of these formula.\n",
    "\n",
    "$$AdjustedNotional = Notional * SupervisoryDuration$$"
   ]
  },
  {
   "cell_type": "code",
   "execution_count": 13,
   "metadata": {
    "atoti": {
     "state": {
      "name": "",
      "type": "container",
      "value": {
       "body": {
        "configuration": {
         "tabular": {
          "addButtonFilter": "numeric",
          "cellRenderers": [
           "tree-layout"
          ],
          "columnsGroups": [
           {
            "captionProducer": "firstColumn",
            "cellFactory": "kpi-status",
            "selector": "kpi-status"
           },
           {
            "captionProducer": "firstColumn",
            "cellFactory": "lookup",
            "selector": "lookup"
           },
           {
            "captionProducer": "expiry",
            "cellFactory": "expiry",
            "selector": "kpi-expiry"
           },
           {
            "captionProducer": "columnMerge",
            "cellFactory": {
             "args": {},
             "key": "treeCells"
            },
            "selector": "member"
           }
          ],
          "defaultOptions": {},
          "expansion": {
           "automaticExpansion": true
          },
          "hideAddButton": true,
          "pinnedHeaderSelector": "member",
          "sortingMode": "non-breaking",
          "statisticsShown": true
         }
        },
        "contextValues": {},
        "mdx": "SELECT NON EMPTY Crossjoin([Measures].[Supervisory_Duration], [Hierarchies].[AssetClass].[AssetClass].Members) ON COLUMNS, NON EMPTY Crossjoin([Hierarchies].[Si_Date].[Si_Date].Members, [Hierarchies].[Ei_Date].[Ei_Date].Members, [Hierarchies].[AsOfDate].[AsOfDate].Members) ON ROWS FROM [SA-CCR] WHERE [Hierarchies].[TransactionId].[ALL].[AllMember].[Tr001] CELL PROPERTIES VALUE, FORMATTED_VALUE, BACK_COLOR, FORE_COLOR, FONT_FLAGS",
        "ranges": {
         "column": {
          "chunkSize": 50,
          "thresholdPercentage": 0.2
         },
         "row": {
          "chunkSize": 2000,
          "thresholdPercentage": 0.1
         }
        },
        "serverUrl": "",
        "updateMode": "once"
       },
       "containerKey": "pivot-table",
       "showTitleBar": false,
       "style": {}
      }
     }
    }
   },
   "outputs": [],
   "source": [
    "# This measure will aggregate input data - Notional Field\n",
    "# We assume that all Notionals are provided in the same currency, otherwise we'd need to apply\n",
    "# FX rates here.\n",
    "m[\"Notional\"] = tt.agg.sum(trades_store[\"Notional\"])"
   ]
  },
  {
   "cell_type": "code",
   "execution_count": 14,
   "metadata": {},
   "outputs": [],
   "source": [
    "# Aggregation is applied per AssetClass, Si_Date and Ei_Dates as these are the levels\n",
    "# required by the Supervisory_Duration calculation.\n",
    "\n",
    "m[\"Adjusted_Notional\"] = tt.agg.sum(\n",
    "    m[\"Notional\"] * m[\"Supervisory_Duration\"],\n",
    "    scope=tt.scope.origin(lvl[\"AssetClass\"], lvl[\"Si_Date\"], lvl[\"Ei_Date\"]),\n",
    ")"
   ]
  },
  {
   "cell_type": "code",
   "execution_count": 15,
   "metadata": {},
   "outputs": [
    {
     "data": {
      "text/html": [
       "<div>\n",
       "<style scoped>\n",
       "    .dataframe tbody tr th:only-of-type {\n",
       "        vertical-align: middle;\n",
       "    }\n",
       "\n",
       "    .dataframe tbody tr th {\n",
       "        vertical-align: top;\n",
       "    }\n",
       "\n",
       "    .dataframe thead th {\n",
       "        text-align: right;\n",
       "    }\n",
       "</style>\n",
       "<table border=\"1\" class=\"dataframe\">\n",
       "  <thead>\n",
       "    <tr style=\"text-align: right;\">\n",
       "      <th></th>\n",
       "      <th>Adjusted_Notional</th>\n",
       "    </tr>\n",
       "    <tr>\n",
       "      <th>TradeId</th>\n",
       "      <th></th>\n",
       "    </tr>\n",
       "  </thead>\n",
       "  <tbody>\n",
       "    <tr>\n",
       "      <th>t1</th>\n",
       "      <td>30,000,000.00</td>\n",
       "    </tr>\n",
       "    <tr>\n",
       "      <th>t10</th>\n",
       "      <td>18,000,000.00</td>\n",
       "    </tr>\n",
       "    <tr>\n",
       "      <th>t100</th>\n",
       "      <td>9,000.00</td>\n",
       "    </tr>\n",
       "  </tbody>\n",
       "</table>\n",
       "</div>"
      ],
      "text/plain": [
       "         Adjusted_Notional\n",
       "TradeId                   \n",
       "t1           30,000,000.00\n",
       "t10          18,000,000.00\n",
       "t100              9,000.00"
      ]
     },
     "execution_count": 15,
     "metadata": {},
     "output_type": "execute_result"
    }
   ],
   "source": [
    "cube.query(m[\"Adjusted_Notional\"], levels=[lvl[\"TradeId\"]]).head(3)"
   ]
  },
  {
   "cell_type": "markdown",
   "metadata": {},
   "source": [
    "## Maturity factors - [52.48] - [52.53]\n",
    "\n",
    "The Maturity Factor takes different values, depending on whether the trade is unmargined or margined:\n",
    "\n",
    "unmargined [52.48]:\n",
    "\n",
    "$$MF = \\sqrt{\\frac{min(M_i, 1year)}{1year}}$$\n",
    "\n",
    "margined [52.52]:\n",
    "\n",
    "$$MF = 1.5 * \\sqrt{\\frac{MPOR}{1 year}}$$\n",
    "\n",
    "In the above formulae:\n",
    "\n",
    "- $MPOR$ is the Margin Period Of Risk, provided in the input dataset, let's assume it has been provided in calendar days (not business days)\n",
    "- $M_i$ is the maturity of trade $i$"
   ]
  },
  {
   "cell_type": "code",
   "execution_count": 16,
   "metadata": {},
   "outputs": [],
   "source": [
    "# Measure for the input MPOR values:\n",
    "m[\"MPOR\"] = tt.agg.single_value(nettingSets_store[\"MPOR\"])"
   ]
  },
  {
   "cell_type": "code",
   "execution_count": 17,
   "metadata": {},
   "outputs": [],
   "source": [
    "# This measure will compute date difference depending on the value date and the maturity date:\n",
    "m[\"Mi\"] = tt.date_diff(lvl[\"AsOfDate\"], lvl[\"Mi_Date\"], unit=\"days\")\n",
    "\n",
    "# MF_unmargined formula examples takes into account 10 days business days floor for Mi:\n",
    "MF_floor = 10\n",
    "MF_unmargined = tt.sqrt(\n",
    "    tt.min(tt.max(m[\"Mi\"], MF_floor), number_of_days_in_year) / number_of_days_in_year\n",
    ")\n",
    "\n",
    "# In the following calculation of MF_margined we assume that MPOR is provided in calendar days.\n",
    "# Please note that this formula might need to be adjusted to incorporate floors defined in [52.50].\n",
    "MF_margined = 1.5 * tt.sqrt(m[\"MPOR\"] / number_of_days_in_year)\n",
    "\n",
    "\n",
    "# This measure will compute maturity factor, depending on whether the trade is margined or unmargined:\n",
    "m[\"Maturity_Factor\"] = tt.agg.single_value(\n",
    "    tt.where(lvl[\"isMargined\"] == \"Y\", MF_margined, MF_unmargined,),\n",
    "    scope=tt.scope.origin(lvl[\"NettingSetId\"]),\n",
    ")"
   ]
  },
  {
   "cell_type": "code",
   "execution_count": 18,
   "metadata": {
    "scrolled": true
   },
   "outputs": [
    {
     "data": {
      "text/html": [
       "<div>\n",
       "<style scoped>\n",
       "    .dataframe tbody tr th:only-of-type {\n",
       "        vertical-align: middle;\n",
       "    }\n",
       "\n",
       "    .dataframe tbody tr th {\n",
       "        vertical-align: top;\n",
       "    }\n",
       "\n",
       "    .dataframe thead th {\n",
       "        text-align: right;\n",
       "    }\n",
       "</style>\n",
       "<table border=\"1\" class=\"dataframe\">\n",
       "  <thead>\n",
       "    <tr style=\"text-align: right;\">\n",
       "      <th></th>\n",
       "      <th></th>\n",
       "      <th>Maturity_Factor</th>\n",
       "    </tr>\n",
       "    <tr>\n",
       "      <th>NettingSetId</th>\n",
       "      <th>Mi_Date</th>\n",
       "      <th></th>\n",
       "    </tr>\n",
       "  </thead>\n",
       "  <tbody>\n",
       "    <tr>\n",
       "      <th rowspan=\"3\" valign=\"top\">EX1</th>\n",
       "      <th>2021-01-13</th>\n",
       "      <td>1.00</td>\n",
       "    </tr>\n",
       "    <tr>\n",
       "      <th>2022-01-13</th>\n",
       "      <td>1.00</td>\n",
       "    </tr>\n",
       "    <tr>\n",
       "      <th>2023-01-13</th>\n",
       "      <td>1.00</td>\n",
       "    </tr>\n",
       "  </tbody>\n",
       "</table>\n",
       "</div>"
      ],
      "text/plain": [
       "                         Maturity_Factor\n",
       "NettingSetId Mi_Date                    \n",
       "EX1          2021-01-13             1.00\n",
       "             2022-01-13             1.00\n",
       "             2023-01-13             1.00"
      ]
     },
     "execution_count": 18,
     "metadata": {},
     "output_type": "execute_result"
    }
   ],
   "source": [
    "# Maturity Factor requires NettingSetId and the Mi date:\n",
    "cube.query(m[\"Maturity_Factor\"], levels=[lvl[\"NettingSetId\"], lvl[\"Mi_Date\"]]).head(3)"
   ]
  },
  {
   "cell_type": "markdown",
   "metadata": {},
   "source": [
    "## Supervisory delta adjustments - [52.38] - [52.41]\n",
    "\n",
    "Supervisory Delta takes different values depending on the nature of the instrument: \n",
    "\n",
    "| $\\delta_i$        | Bought / Long in the primary risk factor                                          | Sold / Short in the primary risk factor                                            |\n",
    "|-------------------|-----------------------------------------------------------------------------------|----------------------------------------------------------------------------------  |\n",
    "| Call Options      | $+ \\Phi(\\frac{ln(P_i / K_i) + 0.5 * \\sigma_i^2 * T_i}{\\sigma_i * \\sqrt{T_i}})$    | $ - \\Phi(\\frac{ln(P_i / K_i) + 0.5 * \\sigma_i^2 * T_i}{\\sigma_i * \\sqrt{T_i}})$    |\n",
    "| Put Options       | $- \\Phi( - \\frac{ln(P_i / K_i) + 0.5 * \\sigma_i^2 * T_i}{\\sigma_i * \\sqrt{T_i}})$ | $ + \\Phi( - \\frac{ln(P_i / K_i) + 0.5 * \\sigma_i^2 * T_i}{\\sigma_i * \\sqrt{T_i}})$ |\n",
    "| CDO tranches      | $+ \\frac{15}{(1+14*A_i)*(1+14*D_i)}$                                              | $- \\frac{15}{(1+14*A_i)*(1+14*D_i)}$                                               |\n",
    "| Other Instruments | $+1$                                                                              | $-1$                                                                               |\n",
    "\n",
    "Where $\\Phi$ is the standard normal cumulative distribution function,\n",
    "\n",
    "- $P_i$ is the Underlying Price of trade $i$,\n",
    "- $K_i$ is the Strike Price of trade $i$,\n",
    "- $\\sigma_i$ is the Supervisory Volatility of trade $i$,\n",
    "- $T_i$ is the latest contractual exercise date of the option $i$\n",
    "- $A_i$ is the Attachment Point of the CDO tranche $i$\n",
    "- and $D_i$ is the Detachment Point of the CDO tranche $i$\n",
    "\n",
    "Delta adjustment will be applied to trade-level effective notional, together with maturity factor to obtain effective notional. We'll define Delta adjustment for any trade as product of:\n",
    "\n",
    "- Long/Short indicator: 1 or -1\n",
    "- Delta adjustment for call options or 1 - `call_multiplier`,\n",
    "- Delta adjustment for put options or 1 - `put_multiplier`,\n",
    "- CDO adjustment or 1 - `cdo_multiplier`.\n",
    "\n",
    "Let's start by adding measures displaying input data:"
   ]
  },
  {
   "cell_type": "code",
   "execution_count": 19,
   "metadata": {},
   "outputs": [],
   "source": [
    "# Measure displaying supervisory option volatility parameter (input data):\n",
    "m[\"Supervisory_Option_Volatility\"] = tt.agg.single_value(\n",
    "    supervisoryParameters_store[\"SupervisoryOptionVolatility\"]\n",
    ")\n",
    "\n",
    "# Measures displaying trade parameters (input data):\n",
    "m[\"Underlying Price\"] = tt.agg.single_value(trades_store[\"Underlying Price\"])\n",
    "m[\"Strike Price\"] = tt.agg.single_value(trades_store[\"Strike Price\"])\n",
    "m[\"AttachPoint\"] = tt.agg.single_value(trades_store[\"AttachPoint\"])\n",
    "m[\"DetachPoint\"] = tt.agg.single_value(trades_store[\"DetachPoint\"])"
   ]
  },
  {
   "cell_type": "markdown",
   "metadata": {},
   "source": [
    "And this measure will display 1/-1 for long/short positions."
   ]
  },
  {
   "cell_type": "code",
   "execution_count": 20,
   "metadata": {},
   "outputs": [],
   "source": [
    "m[\"Direction\"] = tt.agg.single_value(trades_store[\"Direction\"])"
   ]
  },
  {
   "cell_type": "markdown",
   "metadata": {},
   "source": [
    "Let's move onto computing options delta adjustment. To compute time to expiry in years from trade's expiry date attribute, we can use the following syntax:"
   ]
  },
  {
   "cell_type": "code",
   "execution_count": 21,
   "metadata": {},
   "outputs": [],
   "source": [
    "# Computing time period until options' expiry Ti:\n",
    "m[\"Ti\"] = (\n",
    "    tt.date_diff(lvl[\"AsOfDate\"], lvl[\"Ti_Date\"], unit=\"days\") / number_of_days_in_year\n",
    ")"
   ]
  },
  {
   "cell_type": "code",
   "execution_count": 22,
   "metadata": {},
   "outputs": [],
   "source": [
    "# Cumulative function of the standard normal distribution using atoti erf.\n",
    "# See formula https://en.wikipedia.org/wiki/Error_function#Cumulative_distribution_function\n",
    "def CDF(x):\n",
    "    return (1.0 + tt.math.erf(x / tt.sqrt(2))) / 2.0"
   ]
  },
  {
   "cell_type": "code",
   "execution_count": 23,
   "metadata": {},
   "outputs": [],
   "source": [
    "# We'll wrap the argument of the CDF function into a measure:\n",
    "m[\"d\"] = (\n",
    "    tt.log(m[\"Underlying Price\"] / m[\"Strike Price\"])\n",
    "    + 0.5 * (m[\"Supervisory_Option_Volatility\"] ** 2) * m[\"Ti\"]\n",
    ") / (m[\"Supervisory_Option_Volatility\"] * tt.sqrt(m[\"Ti\"]))"
   ]
  },
  {
   "cell_type": "code",
   "execution_count": 24,
   "metadata": {},
   "outputs": [
    {
     "data": {
      "text/html": [
       "<div>\n",
       "<style scoped>\n",
       "    .dataframe tbody tr th:only-of-type {\n",
       "        vertical-align: middle;\n",
       "    }\n",
       "\n",
       "    .dataframe tbody tr th {\n",
       "        vertical-align: top;\n",
       "    }\n",
       "\n",
       "    .dataframe thead th {\n",
       "        text-align: right;\n",
       "    }\n",
       "</style>\n",
       "<table border=\"1\" class=\"dataframe\">\n",
       "  <thead>\n",
       "    <tr style=\"text-align: right;\">\n",
       "      <th></th>\n",
       "      <th></th>\n",
       "      <th>d</th>\n",
       "    </tr>\n",
       "    <tr>\n",
       "      <th>TradeId</th>\n",
       "      <th>Ti_Date</th>\n",
       "      <th></th>\n",
       "    </tr>\n",
       "  </thead>\n",
       "  <tbody>\n",
       "    <tr>\n",
       "      <th>t111</th>\n",
       "      <th>2020-04-13</th>\n",
       "      <td>0.15</td>\n",
       "    </tr>\n",
       "    <tr>\n",
       "      <th>t118</th>\n",
       "      <th>2020-02-13</th>\n",
       "      <td>0.18</td>\n",
       "    </tr>\n",
       "    <tr>\n",
       "      <th>t126</th>\n",
       "      <th>2020-04-13</th>\n",
       "      <td>0.53</td>\n",
       "    </tr>\n",
       "  </tbody>\n",
       "</table>\n",
       "</div>"
      ],
      "text/plain": [
       "                      d\n",
       "TradeId Ti_Date        \n",
       "t111    2020-04-13 0.15\n",
       "t118    2020-02-13 0.18\n",
       "t126    2020-04-13 0.53"
      ]
     },
     "execution_count": 24,
     "metadata": {},
     "output_type": "execute_result"
    }
   ],
   "source": [
    "cube.query(\n",
    "    m[\"d\"],\n",
    "    levels=[lvl[\"TradeId\"], lvl[\"Ti_Date\"]],\n",
    "    condition=lvl[\"OptionType\"].isin(\"C\", \"P\"),\n",
    ").head(3)"
   ]
  },
  {
   "cell_type": "markdown",
   "metadata": {},
   "source": [
    "Finally, the call and put multipliers can be defined as follows:"
   ]
  },
  {
   "cell_type": "code",
   "execution_count": 25,
   "metadata": {},
   "outputs": [],
   "source": [
    "call_multiplier = tt.where(lvl[\"OptionType\"] == \"C\", CDF(m[\"d\"]), 1.0)\n",
    "put_multiplier = tt.where(lvl[\"OptionType\"] == \"P\", -CDF(-m[\"d\"]), 1.0)"
   ]
  },
  {
   "cell_type": "markdown",
   "metadata": {},
   "source": [
    "Using the \"AttachPoint\" and \"DetachPoint\" values, the delta adjustment for CDO positions can be defined as follows:"
   ]
  },
  {
   "cell_type": "code",
   "execution_count": 26,
   "metadata": {},
   "outputs": [],
   "source": [
    "cdo_multiplier = tt.where(\n",
    "    lvl[\"IsCDO\"] == \"Y\",\n",
    "    15.0 / ((1.0 + 14.0 * m[\"AttachPoint\"]) * (1.0 + 14.0 * m[\"DetachPoint\"])),\n",
    "    1.0,\n",
    ")"
   ]
  },
  {
   "cell_type": "markdown",
   "metadata": {},
   "source": [
    "Using product of the above multipliers we will define the combined Delta Adjustment measure:"
   ]
  },
  {
   "cell_type": "code",
   "execution_count": 27,
   "metadata": {},
   "outputs": [],
   "source": [
    "m[\"Delta_Adjustment\"] = (\n",
    "    m[\"Direction\"] * call_multiplier * put_multiplier * cdo_multiplier\n",
    ")"
   ]
  },
  {
   "cell_type": "markdown",
   "metadata": {},
   "source": [
    "## Trade Effective Notional - [52.30]\n",
    "\n",
    "Bringing the trade effective notional components together and calculating on trade level:"
   ]
  },
  {
   "cell_type": "code",
   "execution_count": 28,
   "metadata": {},
   "outputs": [],
   "source": [
    "m[\"Trade_Effective_Notional\"] = tt.agg.sum(\n",
    "    m[\"Adjusted_Notional\"] * m[\"Delta_Adjustment\"] * m[\"Maturity_Factor\"],\n",
    "    scope=tt.scope.origin(\n",
    "        lvl[\"TradeId\"],\n",
    "        lvl[\"NettingSetId\"],\n",
    "        lvl[\"OptionType\"],\n",
    "        lvl[\"Mi_Date\"],\n",
    "        lvl[\"IsCDO\"],\n",
    "        lvl[\"Ti_Date\"],\n",
    "    ),\n",
    ")"
   ]
  },
  {
   "cell_type": "code",
   "execution_count": 30,
   "metadata": {},
   "outputs": [
    {
     "data": {
      "text/html": [
       "<div>\n",
       "<style scoped>\n",
       "    .dataframe tbody tr th:only-of-type {\n",
       "        vertical-align: middle;\n",
       "    }\n",
       "\n",
       "    .dataframe tbody tr th {\n",
       "        vertical-align: top;\n",
       "    }\n",
       "\n",
       "    .dataframe thead th {\n",
       "        text-align: right;\n",
       "    }\n",
       "</style>\n",
       "<table border=\"1\" class=\"dataframe\">\n",
       "  <thead>\n",
       "    <tr style=\"text-align: right;\">\n",
       "      <th></th>\n",
       "      <th></th>\n",
       "      <th></th>\n",
       "      <th></th>\n",
       "      <th></th>\n",
       "      <th></th>\n",
       "      <th>Trade_Effective_Notional</th>\n",
       "      <th>Adjusted_Notional</th>\n",
       "      <th>Delta_Adjustment</th>\n",
       "      <th>Maturity_Factor</th>\n",
       "    </tr>\n",
       "    <tr>\n",
       "      <th>TradeId</th>\n",
       "      <th>NettingSetId</th>\n",
       "      <th>OptionType</th>\n",
       "      <th>Mi_Date</th>\n",
       "      <th>IsCDO</th>\n",
       "      <th>Ti_Date</th>\n",
       "      <th></th>\n",
       "      <th></th>\n",
       "      <th></th>\n",
       "      <th></th>\n",
       "    </tr>\n",
       "  </thead>\n",
       "  <tbody>\n",
       "    <tr>\n",
       "      <th>t1</th>\n",
       "      <th>EX1</th>\n",
       "      <th>N/A</th>\n",
       "      <th>2024-01-13</th>\n",
       "      <th>N</th>\n",
       "      <th>2028-01-13</th>\n",
       "      <td>-30,000,000.00</td>\n",
       "      <td>30,000,000.00</td>\n",
       "      <td>-1.00</td>\n",
       "      <td>1.00</td>\n",
       "    </tr>\n",
       "    <tr>\n",
       "      <th>t10</th>\n",
       "      <th>EX1</th>\n",
       "      <th>N/A</th>\n",
       "      <th>2024-01-13</th>\n",
       "      <th>N</th>\n",
       "      <th>2028-01-13</th>\n",
       "      <td>18,000,000.00</td>\n",
       "      <td>18,000,000.00</td>\n",
       "      <td>1.00</td>\n",
       "      <td>1.00</td>\n",
       "    </tr>\n",
       "    <tr>\n",
       "      <th>t100</th>\n",
       "      <th>EX2</th>\n",
       "      <th>N/A</th>\n",
       "      <th>2055-01-13</th>\n",
       "      <th>N</th>\n",
       "      <th>2028-01-13</th>\n",
       "      <td>9,000.00</td>\n",
       "      <td>9,000.00</td>\n",
       "      <td>1.00</td>\n",
       "      <td>1.00</td>\n",
       "    </tr>\n",
       "  </tbody>\n",
       "</table>\n",
       "</div>"
      ],
      "text/plain": [
       "                                                             Trade_Effective_Notional  \\\n",
       "TradeId NettingSetId OptionType Mi_Date    IsCDO Ti_Date                                \n",
       "t1      EX1          N/A        2024-01-13 N     2028-01-13            -30,000,000.00   \n",
       "t10     EX1          N/A        2024-01-13 N     2028-01-13             18,000,000.00   \n",
       "t100    EX2          N/A        2055-01-13 N     2028-01-13                  9,000.00   \n",
       "\n",
       "                                                             Adjusted_Notional  \\\n",
       "TradeId NettingSetId OptionType Mi_Date    IsCDO Ti_Date                         \n",
       "t1      EX1          N/A        2024-01-13 N     2028-01-13      30,000,000.00   \n",
       "t10     EX1          N/A        2024-01-13 N     2028-01-13      18,000,000.00   \n",
       "t100    EX2          N/A        2055-01-13 N     2028-01-13           9,000.00   \n",
       "\n",
       "                                                             Delta_Adjustment  \\\n",
       "TradeId NettingSetId OptionType Mi_Date    IsCDO Ti_Date                        \n",
       "t1      EX1          N/A        2024-01-13 N     2028-01-13             -1.00   \n",
       "t10     EX1          N/A        2024-01-13 N     2028-01-13              1.00   \n",
       "t100    EX2          N/A        2055-01-13 N     2028-01-13              1.00   \n",
       "\n",
       "                                                             Maturity_Factor  \n",
       "TradeId NettingSetId OptionType Mi_Date    IsCDO Ti_Date                      \n",
       "t1      EX1          N/A        2024-01-13 N     2028-01-13             1.00  \n",
       "t10     EX1          N/A        2024-01-13 N     2028-01-13             1.00  \n",
       "t100    EX2          N/A        2055-01-13 N     2028-01-13             1.00  "
      ]
     },
     "execution_count": 30,
     "metadata": {},
     "output_type": "execute_result"
    }
   ],
   "source": [
    "cube.query(\n",
    "    m[\"Trade_Effective_Notional\"],\n",
    "    m[\"Adjusted_Notional\"],\n",
    "    m[\"Delta_Adjustment\"],\n",
    "    m[\"Maturity_Factor\"],\n",
    "    levels=[\n",
    "        lvl[\"TradeId\"],\n",
    "        lvl[\"NettingSetId\"],\n",
    "        lvl[\"OptionType\"],\n",
    "        lvl[\"Mi_Date\"],\n",
    "        lvl[\"IsCDO\"],\n",
    "        lvl[\"Ti_Date\"],\n",
    "    ],\n",
    ").head(3)"
   ]
  },
  {
   "cell_type": "markdown",
   "metadata": {},
   "source": [
    "## Asset class level add-ons - [52.55]\n",
    "\n",
    "Having obtained the trade effective notionals reflecting the necessary supervisory adjustments, we can use them to compute AddOns for each of the five asset classes."
   ]
  },
  {
   "cell_type": "markdown",
   "metadata": {},
   "source": [
    "## Add-on for interest rate derivatives - [52.56]\n",
    "\n",
    "The steps for computing $Addon^{IR}$ are set in [52.57].\n",
    "\n",
    "\n",
    "- For Interest Rates, each Hedging Set is defined as currency - in our data model it comes from the field Underlying. \n",
    "- Each hedge set is then separated in maturity buckets depending on $M_i$. If $M_i$ is less than one year, the trade goes in the first Maturity Bucket, if it is between one and five years, the trade goes in the second Maturity Bucket, and if it is more than 5 years the trade goes in the third Maturity Bucket.\n",
    "- In each Maturity Bucket and each Hedging Set, the effective notional is the sum of the Trade Effective Notionals of the trades. \n",
    "\n",
    "The effective notional $EN_{HS}$ of the Hedge Set $HS$ is then determined with the following formula :\n",
    "\n",
    "$$EN_{HS} = ( D_{B1}^2 + D_{B2}^2 + D_{B3}^2 + 1.4 * D_{B1} * D_{B2} + 1.4 * D_{B2} * D_{B3} + 0.6 * D_{B1} * D_{B3} )^{\\frac{1}{2}}$$\n"
   ]
  },
  {
   "cell_type": "code",
   "execution_count": 31,
   "metadata": {},
   "outputs": [],
   "source": [
    "# Step 1 Filtering the trade effective notionals of the Interest rate risk class only:\n",
    "m[\"Effective_notional_IR\"] = tt.filter(\n",
    "    m[\"Trade_Effective_Notional\"], lvl[\"AssetClass\"] == \"IR\"\n",
    ")"
   ]
  },
  {
   "cell_type": "code",
   "execution_count": 31,
   "metadata": {},
   "outputs": [],
   "source": [
    "# Step 2 Allocating trades into Hedging Sets - for IR we'll use \"RiskFactorCcy\" as Hedging Set."
   ]
  },
  {
   "cell_type": "code",
   "execution_count": 32,
   "metadata": {},
   "outputs": [
    {
     "data": {
      "application/vnd.atoti.query-result.v0+json": {
       "context": {
        "queriesTimeLimit": 30
       },
       "createEquivalentWidgetCode": "cube.visualize()",
       "mdx": "SELECT [Measures].[Effective_notional_IR] ON COLUMNS FROM [SA-CCR]"
      },
      "text/html": [
       "<div>\n",
       "<style scoped>\n",
       "    .dataframe tbody tr th:only-of-type {\n",
       "        vertical-align: middle;\n",
       "    }\n",
       "\n",
       "    .dataframe tbody tr th {\n",
       "        vertical-align: top;\n",
       "    }\n",
       "\n",
       "    .dataframe thead th {\n",
       "        text-align: right;\n",
       "    }\n",
       "</style>\n",
       "<table border=\"1\" class=\"dataframe\">\n",
       "  <thead>\n",
       "    <tr style=\"text-align: right;\">\n",
       "      <th></th>\n",
       "      <th>Effective_notional_IR</th>\n",
       "    </tr>\n",
       "  </thead>\n",
       "  <tbody>\n",
       "    <tr>\n",
       "      <th>0</th>\n",
       "      <td>2,949,671,733.30</td>\n",
       "    </tr>\n",
       "  </tbody>\n",
       "</table>\n",
       "</div>"
      ],
      "text/plain": [
       "  Effective_notional_IR\n",
       "0      2,949,671,733.30"
      ]
     },
     "execution_count": 32,
     "metadata": {},
     "output_type": "execute_result"
    }
   ],
   "source": [
    "cube.query(m[\"Effective_notional_IR\"])"
   ]
  },
  {
   "cell_type": "code",
   "execution_count": 33,
   "metadata": {},
   "outputs": [],
   "source": [
    "# Step 3 Allocating trades into Maturity Buckets and\n",
    "# Step 4 Adding together effective notionals\n",
    "\n",
    "# We use tt.where condition and filtering for the effective notional buckets -  D_B1, D_B2, D_b3\n",
    "# Ei is computed from the Ei_Date attribute, hence we are summing up by Ei_Date.\n",
    "m[\"D_B1\"] = tt.agg.sum(\n",
    "    tt.where(m[\"Ei\"] < 1.0, m[\"Effective_notional_IR\"], 0.0),\n",
    "    scope=tt.scope.origin(lvl[\"Ei_Date\"]),\n",
    ")\n",
    "m[\"D_B2\"] = tt.agg.sum(\n",
    "    tt.where((m[\"Ei\"] >= 1.0) & (m[\"Ei\"] < 5.0), m[\"Effective_notional_IR\"], 0.0),\n",
    "    scope=tt.scope.origin(lvl[\"Ei_Date\"]),\n",
    ")\n",
    "m[\"D_B3\"] = tt.agg.sum(\n",
    "    tt.where(m[\"Ei\"] >= 5.0, m[\"Effective_notional_IR\"], 0.0),\n",
    "    scope=tt.scope.origin(lvl[\"Ei_Date\"]),\n",
    ")"
   ]
  },
  {
   "cell_type": "code",
   "execution_count": 34,
   "metadata": {},
   "outputs": [
    {
     "data": {
      "application/vnd.atoti.query-result.v0+json": {
       "context": {
        "queriesTimeLimit": 30
       },
       "createEquivalentWidgetCode": "cube.visualize()",
       "mdx": "SELECT {[Measures].[Effective_notional_IR],[Measures].[D_B1],[Measures].[D_B2],[Measures].[D_B3]} ON COLUMNS FROM [SA-CCR]"
      },
      "text/html": [
       "<div>\n",
       "<style scoped>\n",
       "    .dataframe tbody tr th:only-of-type {\n",
       "        vertical-align: middle;\n",
       "    }\n",
       "\n",
       "    .dataframe tbody tr th {\n",
       "        vertical-align: top;\n",
       "    }\n",
       "\n",
       "    .dataframe thead th {\n",
       "        text-align: right;\n",
       "    }\n",
       "</style>\n",
       "<table border=\"1\" class=\"dataframe\">\n",
       "  <thead>\n",
       "    <tr style=\"text-align: right;\">\n",
       "      <th></th>\n",
       "      <th>Effective_notional_IR</th>\n",
       "      <th>D_B1</th>\n",
       "      <th>D_B2</th>\n",
       "      <th>D_B3</th>\n",
       "    </tr>\n",
       "  </thead>\n",
       "  <tbody>\n",
       "    <tr>\n",
       "      <th>0</th>\n",
       "      <td>2,949,671,733.30</td>\n",
       "      <td>629,383.05</td>\n",
       "      <td>.00</td>\n",
       "      <td>2,949,042,350.25</td>\n",
       "    </tr>\n",
       "  </tbody>\n",
       "</table>\n",
       "</div>"
      ],
      "text/plain": [
       "  Effective_notional_IR        D_B1 D_B2              D_B3\n",
       "0      2,949,671,733.30  629,383.05  .00  2,949,042,350.25"
      ]
     },
     "execution_count": 34,
     "metadata": {},
     "output_type": "execute_result"
    }
   ],
   "source": [
    "cube.query(m[\"Effective_notional_IR\"], m[\"D_B1\"], m[\"D_B2\"], m[\"D_B3\"])"
   ]
  },
  {
   "cell_type": "code",
   "execution_count": 35,
   "metadata": {},
   "outputs": [
    {
     "data": {
      "text/html": [
       "<div>\n",
       "<style scoped>\n",
       "    .dataframe tbody tr th:only-of-type {\n",
       "        vertical-align: middle;\n",
       "    }\n",
       "\n",
       "    .dataframe tbody tr th {\n",
       "        vertical-align: top;\n",
       "    }\n",
       "\n",
       "    .dataframe thead th {\n",
       "        text-align: right;\n",
       "    }\n",
       "</style>\n",
       "<table border=\"1\" class=\"dataframe\">\n",
       "  <thead>\n",
       "    <tr style=\"text-align: right;\">\n",
       "      <th></th>\n",
       "      <th></th>\n",
       "      <th>Ei</th>\n",
       "    </tr>\n",
       "    <tr>\n",
       "      <th>TradeId</th>\n",
       "      <th>Ei_Date</th>\n",
       "      <th></th>\n",
       "    </tr>\n",
       "  </thead>\n",
       "  <tbody>\n",
       "    <tr>\n",
       "      <th>t362</th>\n",
       "      <th>2026-01-13</th>\n",
       "      <td>6.01</td>\n",
       "    </tr>\n",
       "    <tr>\n",
       "      <th>t55</th>\n",
       "      <th>2034-01-13</th>\n",
       "      <td>14.01</td>\n",
       "    </tr>\n",
       "    <tr>\n",
       "      <th>t435</th>\n",
       "      <th>2039-01-13</th>\n",
       "      <td>19.01</td>\n",
       "    </tr>\n",
       "  </tbody>\n",
       "</table>\n",
       "</div>"
      ],
      "text/plain": [
       "                      Ei\n",
       "TradeId Ei_Date         \n",
       "t362    2026-01-13  6.01\n",
       "t55     2034-01-13 14.01\n",
       "t435    2039-01-13 19.01"
      ]
     },
     "execution_count": 35,
     "metadata": {},
     "output_type": "execute_result"
    }
   ],
   "source": [
    "cube.query(m[\"Ei\"], levels=[lvl[\"TradeId\"], lvl[\"Ei_Date\"]]).sample(3)"
   ]
  },
  {
   "cell_type": "code",
   "execution_count": 36,
   "metadata": {},
   "outputs": [],
   "source": [
    "# Step 5 Calculating effecting notional of the hedging set - and summing them up across hedging sets.\n",
    "# As a reminder, a hedging set is a combination of RiskFactorCcy and Underlying fields for interest rates:\n",
    "\n",
    "m[\"Effective_notional_IR_Offset_Formula\"] = tt.agg.sum(\n",
    "    tt.sqrt(\n",
    "        m[\"D_B1\"] ** 2\n",
    "        + m[\"D_B2\"] ** 2\n",
    "        + m[\"D_B3\"] ** 2\n",
    "        + 1.4 * m[\"D_B1\"] * m[\"D_B2\"]\n",
    "        + 1.4 * m[\"D_B2\"] * m[\"D_B3\"]\n",
    "        + 0.6 * m[\"D_B1\"] * m[\"D_B3\"]\n",
    "    ),\n",
    "    scope=tt.scope.origin(lvl[\"Underlying\"]),\n",
    ")\n",
    "\n",
    "m[\"Effective_notional_IR_NoOffset_Formula\"] = tt.agg.sum(\n",
    "    tt.abs(m[\"D_B1\"]) + tt.abs(m[\"D_B2\"]) + tt.abs(m[\"D_B3\"]),\n",
    "    scope=tt.scope.origin(lvl[\"Underlying\"]),\n",
    ")"
   ]
  },
  {
   "cell_type": "markdown",
   "metadata": {},
   "source": [
    "The Add-On for each hedge set is then simply : \n",
    "\n",
    "$$AddOn_{j}^{(IR)} = SF^{(IR)} * EN_j $$\n",
    "\n",
    "Let's display the Supervisory Factor:"
   ]
  },
  {
   "cell_type": "code",
   "execution_count": 37,
   "metadata": {
    "scrolled": true
   },
   "outputs": [
    {
     "data": {
      "application/vnd.atoti.query-result.v0+json": {
       "context": {
        "queriesTimeLimit": 30
       },
       "createEquivalentWidgetCode": "cube.visualize()",
       "mdx": "SELECT [Measures].[SupervisoryFactor] ON COLUMNS FROM (SELECT ({[Hierarchies].[AssetClass].[ALL].[AllMember].[IR]}) ON COLUMNS FROM [SA-CCR])"
      },
      "text/html": [
       "<div>\n",
       "<style scoped>\n",
       "    .dataframe tbody tr th:only-of-type {\n",
       "        vertical-align: middle;\n",
       "    }\n",
       "\n",
       "    .dataframe tbody tr th {\n",
       "        vertical-align: top;\n",
       "    }\n",
       "\n",
       "    .dataframe thead th {\n",
       "        text-align: right;\n",
       "    }\n",
       "</style>\n",
       "<table border=\"1\" class=\"dataframe\">\n",
       "  <thead>\n",
       "    <tr style=\"text-align: right;\">\n",
       "      <th></th>\n",
       "      <th>SupervisoryFactor</th>\n",
       "    </tr>\n",
       "  </thead>\n",
       "  <tbody>\n",
       "    <tr>\n",
       "      <th>0</th>\n",
       "      <td>.01</td>\n",
       "    </tr>\n",
       "  </tbody>\n",
       "</table>\n",
       "</div>"
      ],
      "text/plain": [
       "  SupervisoryFactor\n",
       "0               .01"
      ]
     },
     "execution_count": 37,
     "metadata": {},
     "output_type": "execute_result"
    }
   ],
   "source": [
    "m[\"SupervisoryFactor\"] = tt.agg.single_value(\n",
    "    supervisoryParameters_store[\"SupervisoryFactor\"]\n",
    ")\n",
    "# You may want to further adjust the Supervisory Factor by checking if the trade is a \"basis\" trade\n",
    "# please see [52.46]. In our case, we don't account for that.\n",
    "\n",
    "cube.query(m[\"SupervisoryFactor\"], condition=lvl[\"AssetClass\"] == \"IR\")"
   ]
  },
  {
   "cell_type": "markdown",
   "metadata": {},
   "source": [
    "Finally, the AddOn:"
   ]
  },
  {
   "cell_type": "code",
   "execution_count": 38,
   "metadata": {},
   "outputs": [],
   "source": [
    "m[\"AddOn_IR\"] = tt.agg.sum(\n",
    "    m[\"SupervisoryFactor\"] * m[\"Effective_notional_IR_Offset_Formula\"],\n",
    "    scope=tt.scope.origin(lvl[\"AssetClass\"]),\n",
    ")\n",
    "# Use No Offset Formula here if the bank chose not to recognize netting\n",
    "m[\"AddOn_IR_NoOffset_Formula\"] = tt.agg.sum(\n",
    "    m[\"SupervisoryFactor\"] * m[\"Effective_notional_IR_NoOffset_Formula\"],\n",
    "    scope=tt.scope.origin(lvl[\"AssetClass\"]),\n",
    ")"
   ]
  },
  {
   "cell_type": "markdown",
   "metadata": {},
   "source": [
    "## Add-on for credit derivatives - [52.60] - [52.64]\n",
    "\n",
    "There is only one Hedge Set for Credit derivatives. In this Hedge Set, the trades are grouped depending on which entity issued them. The Add-On for an entity is the sum of the Trade Effective Notionals of the corresponding trades, multiplied by the Supervisory Factor. The Supervisory Factor depends on the rating of the entity. \n"
   ]
  },
  {
   "cell_type": "code",
   "execution_count": 39,
   "metadata": {},
   "outputs": [],
   "source": [
    "effective_notional_CR = tt.filter(\n",
    "    m[\"Trade_Effective_Notional\"], lvl[\"AssetClass\"].isin(\"CR_IDX\", \"CR_SN\")\n",
    ")\n",
    "\n",
    "\n",
    "# summing up by AssetClass and SubClass as these are the levels where SupervisoryFactors are defined:\n",
    "m[\"AddOn_CR_per_entity\"] = tt.agg.sum(\n",
    "    m[\"SupervisoryFactor\"] * effective_notional_CR,\n",
    "    scope=tt.scope.origin(lvl[\"AssetClass\"], lvl[\"SubClass\"]),\n",
    ")"
   ]
  },
  {
   "cell_type": "markdown",
   "metadata": {},
   "source": [
    "After determining the AddOn per entity, we can deduce the Credit AddOn with the following formula  - see para [52.61] :\n",
    "\n",
    "$$ AddOn^{Credit} = \\left[\\left(\\sum_{entity} \\rho_{entity} *  AddOn_{entity} \\right)^{2} + \\sum_{entity} (1-(\\rho_{entity})^{2}) *  (AddOn_{entity})^{2} \\right]^{1/2}$$\n",
    "\n",
    "where $\\rho_{entity}$ is the Correlation. It takes different values for names being Credit Single Name or Credit Index."
   ]
  },
  {
   "cell_type": "code",
   "execution_count": 40,
   "metadata": {},
   "outputs": [
    {
     "data": {
      "application/vnd.atoti.query-result.v0+json": {
       "context": {
        "queriesTimeLimit": 30
       },
       "createEquivalentWidgetCode": "cube.visualize()",
       "mdx": "SELECT [Measures].[Correlation] ON COLUMNS, NON EMPTY [Hierarchies].[AssetClass].[AssetClass].Members ON ROWS FROM [SA-CCR]"
      },
      "text/html": [
       "<div>\n",
       "<style scoped>\n",
       "    .dataframe tbody tr th:only-of-type {\n",
       "        vertical-align: middle;\n",
       "    }\n",
       "\n",
       "    .dataframe tbody tr th {\n",
       "        vertical-align: top;\n",
       "    }\n",
       "\n",
       "    .dataframe thead th {\n",
       "        text-align: right;\n",
       "    }\n",
       "</style>\n",
       "<table border=\"1\" class=\"dataframe\">\n",
       "  <thead>\n",
       "    <tr style=\"text-align: right;\">\n",
       "      <th></th>\n",
       "      <th>Correlation</th>\n",
       "    </tr>\n",
       "    <tr>\n",
       "      <th>AssetClass</th>\n",
       "      <th></th>\n",
       "    </tr>\n",
       "  </thead>\n",
       "  <tbody>\n",
       "    <tr>\n",
       "      <th>CO</th>\n",
       "      <td>.40</td>\n",
       "    </tr>\n",
       "    <tr>\n",
       "      <th>CR_IDX</th>\n",
       "      <td>.80</td>\n",
       "    </tr>\n",
       "    <tr>\n",
       "      <th>CR_SN</th>\n",
       "      <td>.50</td>\n",
       "    </tr>\n",
       "    <tr>\n",
       "      <th>EQ_SN</th>\n",
       "      <td>.50</td>\n",
       "    </tr>\n",
       "  </tbody>\n",
       "</table>\n",
       "</div>"
      ],
      "text/plain": [
       "           Correlation\n",
       "AssetClass            \n",
       "CO                 .40\n",
       "CR_IDX             .80\n",
       "CR_SN              .50\n",
       "EQ_SN              .50"
      ]
     },
     "execution_count": 40,
     "metadata": {},
     "output_type": "execute_result"
    }
   ],
   "source": [
    "m[\"Correlation\"] = tt.agg.single_value(supervisoryParameters_store[\"Correlation\"])\n",
    "cube.query(m[\"Correlation\"], levels=lvl[\"AssetClass\"])"
   ]
  },
  {
   "cell_type": "code",
   "execution_count": 41,
   "metadata": {},
   "outputs": [],
   "source": [
    "# The first term of the above formula:\n",
    "AddOn_CR_systematic = (\n",
    "    tt.agg.sum(\n",
    "        m[\"Correlation\"] * m[\"AddOn_CR_per_entity\"],\n",
    "        scope=tt.scope.origin(lvl[\"Underlying\"]),\n",
    "    )\n",
    "    ** 2\n",
    ")\n",
    "\n",
    "# The second term of the above formula:\n",
    "AddOn_CR_idiosyncratic = tt.agg.sum(\n",
    "    (1.0 - (m[\"Correlation\"] ** 2)) * (m[\"AddOn_CR_per_entity\"] ** 2),\n",
    "    scope=tt.scope.origin(lvl[\"Underlying\"]),\n",
    ")\n",
    "\n",
    "m[\"AddOn_CR\"] = tt.sqrt(AddOn_CR_systematic + AddOn_CR_idiosyncratic)"
   ]
  },
  {
   "cell_type": "markdown",
   "metadata": {},
   "source": [
    "## Add-on for commodity derivatives - [52.69] - [52.71]\n",
    "\n",
    "Commodities are broken down into 4 Hedging Sets (hierarchy \"HS\"): Energy, Metals, Agricultural and Others. Inside these Hedging Sets, the trades are grouped by commodity type - in our data model this is represented by the \"SubClass\" field.\n",
    "\n",
    "The main formulae and step-by-step instruction is provided in the [52.70]:\n",
    "\n",
    "$$ AddOn_{HS}^{CO} = \\left[\\left(\\sum_{CommType} \\rho_{CommType}\\cdot AddOn_{CommType}\\right)^{2} + \\sum_{CommType}  (1-\\rho_{CommType}^2)* AddOn_{CommType}^{2} \\right]^{1/2}$$\n",
    "\n",
    "$$AddOn^{CO} = \\sum_{HS}AddOn_{HS}^{CO}$$\n"
   ]
  },
  {
   "cell_type": "code",
   "execution_count": 42,
   "metadata": {},
   "outputs": [],
   "source": [
    "# Step 3 Calculate the combined effective notional\n",
    "effective_notional_CO = tt.filter(\n",
    "    m[\"Trade_Effective_Notional\"], lvl[\"AssetClass\"] == \"CO\"\n",
    ")\n",
    "\n",
    "# Step 4 Calculate the add-on for each commodity type\n",
    "AddOn_CommType = tt.agg.sum(\n",
    "    m[\"SupervisoryFactor\"] * effective_notional_CO,\n",
    "    scope=tt.scope.origin(lvl[\"AssetClass\"], lvl[\"SubClass\"]),\n",
    ")"
   ]
  },
  {
   "cell_type": "code",
   "execution_count": 43,
   "metadata": {},
   "outputs": [],
   "source": [
    "# Step 5\n",
    "# The first term of the above formula:\n",
    "AddOn_CO_systematic = (\n",
    "    tt.agg.sum(\n",
    "        m[\"Correlation\"] * AddOn_CommType, scope=tt.scope.origin(lvl[\"SubClass\"]),\n",
    "    )\n",
    "    ** 2\n",
    ")\n",
    "\n",
    "# The second term of the above formula:\n",
    "AddOn_CO_idiosyncratic = tt.agg.sum(\n",
    "    (1.0 - (m[\"Correlation\"] ** 2)) * (AddOn_CommType ** 2),\n",
    "    scope=tt.scope.origin(lvl[\"SubClass\"]),\n",
    ")\n",
    "\n",
    "# Generic measure computing the product\n",
    "AddOn_CO_HS = tt.sqrt(AddOn_CO_systematic + AddOn_CO_idiosyncratic)\n",
    "\n",
    "# Add on as a sum of products over all hedging sets\n",
    "m[\"AddOn_CO\"] = tt.agg.sum(AddOn_CO_HS, scope=tt.scope.origin(lvl[\"HS\"]))"
   ]
  },
  {
   "cell_type": "code",
   "execution_count": 44,
   "metadata": {},
   "outputs": [
    {
     "data": {
      "application/vnd.atoti.query-result.v0+json": {
       "context": {
        "queriesTimeLimit": 30
       },
       "createEquivalentWidgetCode": "cube.visualize()",
       "mdx": "SELECT [Measures].[AddOn_CO] ON COLUMNS, NON EMPTY [Hierarchies].[HS].[HS].Members ON ROWS FROM [SA-CCR]"
      },
      "text/html": [
       "<div>\n",
       "<style scoped>\n",
       "    .dataframe tbody tr th:only-of-type {\n",
       "        vertical-align: middle;\n",
       "    }\n",
       "\n",
       "    .dataframe tbody tr th {\n",
       "        vertical-align: top;\n",
       "    }\n",
       "\n",
       "    .dataframe thead th {\n",
       "        text-align: right;\n",
       "    }\n",
       "</style>\n",
       "<table border=\"1\" class=\"dataframe\">\n",
       "  <thead>\n",
       "    <tr style=\"text-align: right;\">\n",
       "      <th></th>\n",
       "      <th>AddOn_CO</th>\n",
       "    </tr>\n",
       "    <tr>\n",
       "      <th>HS</th>\n",
       "      <th></th>\n",
       "    </tr>\n",
       "  </thead>\n",
       "  <tbody>\n",
       "    <tr>\n",
       "      <th>Agricultural</th>\n",
       "      <td>6,120,000.00</td>\n",
       "    </tr>\n",
       "    <tr>\n",
       "      <th>Energy</th>\n",
       "      <td>43,007,147.78</td>\n",
       "    </tr>\n",
       "    <tr>\n",
       "      <th>Metals</th>\n",
       "      <td>10,154,326.76</td>\n",
       "    </tr>\n",
       "    <tr>\n",
       "      <th>Other</th>\n",
       "      <td>12,084,520.96</td>\n",
       "    </tr>\n",
       "  </tbody>\n",
       "</table>\n",
       "</div>"
      ],
      "text/plain": [
       "                   AddOn_CO\n",
       "HS                         \n",
       "Agricultural   6,120,000.00\n",
       "Energy        43,007,147.78\n",
       "Metals        10,154,326.76\n",
       "Other         12,084,520.96"
      ]
     },
     "execution_count": 44,
     "metadata": {},
     "output_type": "execute_result"
    }
   ],
   "source": [
    "cube.query(m[\"AddOn_CO\"], levels=lvl[\"HS\"])"
   ]
  },
  {
   "cell_type": "markdown",
   "metadata": {},
   "source": [
    "## Add-on for foreign exchange derivatives - [52.58] - [52.59]\n",
    "\n",
    "Step-by-step instruction for calculating $AddOn^{FX}$ are provided in the [52.59]. Hedging sets - are different currency pairs, which can be found in the field \"Underlying\" in our data model.\n",
    "\n",
    "Let's jump to Step 4 and compute $AddOn_{HS}^{FX} = | EN_{HS} | \\cdot SF$"
   ]
  },
  {
   "cell_type": "code",
   "execution_count": 45,
   "metadata": {},
   "outputs": [],
   "source": [
    "EN_HS_FX = tt.filter(m[\"Trade_Effective_Notional\"], lvl[\"AssetClass\"] == \"FX\",)\n",
    "\n",
    "\n",
    "# Step 5: Sum up across absolute values of EN_HS multiplied by supervisory factor by currency pairs:\n",
    "m[\"AddOn_FX\"] = tt.agg.sum(\n",
    "    tt.abs(EN_HS_FX) * m[\"SupervisoryFactor\"], scope=tt.scope.origin(lvl[\"Underlying\"]),\n",
    ")"
   ]
  },
  {
   "cell_type": "code",
   "execution_count": 46,
   "metadata": {},
   "outputs": [
    {
     "data": {
      "text/html": [
       "<div>\n",
       "<style scoped>\n",
       "    .dataframe tbody tr th:only-of-type {\n",
       "        vertical-align: middle;\n",
       "    }\n",
       "\n",
       "    .dataframe tbody tr th {\n",
       "        vertical-align: top;\n",
       "    }\n",
       "\n",
       "    .dataframe thead th {\n",
       "        text-align: right;\n",
       "    }\n",
       "</style>\n",
       "<table border=\"1\" class=\"dataframe\">\n",
       "  <thead>\n",
       "    <tr style=\"text-align: right;\">\n",
       "      <th></th>\n",
       "      <th>AddOn_FX</th>\n",
       "      <th>Trade_Effective_Notional</th>\n",
       "      <th>SupervisoryFactor</th>\n",
       "    </tr>\n",
       "    <tr>\n",
       "      <th>Underlying</th>\n",
       "      <th></th>\n",
       "      <th></th>\n",
       "      <th></th>\n",
       "    </tr>\n",
       "  </thead>\n",
       "  <tbody>\n",
       "    <tr>\n",
       "      <th>USDJPY</th>\n",
       "      <td>2,200,000.00</td>\n",
       "      <td>55,000,000.00</td>\n",
       "      <td>0.04</td>\n",
       "    </tr>\n",
       "    <tr>\n",
       "      <th>JPYUSD</th>\n",
       "      <td>2,127,022.47</td>\n",
       "      <td>53,175,561.72</td>\n",
       "      <td>0.04</td>\n",
       "    </tr>\n",
       "    <tr>\n",
       "      <th>USDEUR</th>\n",
       "      <td>3,240,000.00</td>\n",
       "      <td>81,000,000.00</td>\n",
       "      <td>0.04</td>\n",
       "    </tr>\n",
       "  </tbody>\n",
       "</table>\n",
       "</div>"
      ],
      "text/plain": [
       "               AddOn_FX  Trade_Effective_Notional  SupervisoryFactor\n",
       "Underlying                                                          \n",
       "USDJPY     2,200,000.00             55,000,000.00               0.04\n",
       "JPYUSD     2,127,022.47             53,175,561.72               0.04\n",
       "USDEUR     3,240,000.00             81,000,000.00               0.04"
      ]
     },
     "execution_count": 46,
     "metadata": {},
     "output_type": "execute_result"
    }
   ],
   "source": [
    "cube.query(\n",
    "    m[\"AddOn_FX\"],\n",
    "    m[\"Trade_Effective_Notional\"],\n",
    "    m[\"SupervisoryFactor\"],\n",
    "    levels=[lvl[\"Underlying\"]],\n",
    "    condition=lvl[\"AssetClass\"] == \"FX\",\n",
    ").sample(3)"
   ]
  },
  {
   "cell_type": "markdown",
   "metadata": {},
   "source": [
    "## Add-on for equity derivatives - [52.65] - [52.68]\n",
    "\n",
    "Equity Add-On is determined in the same way as Credit Add-On. The trades are grouped under a single Hedge Set, and grouped by entity inside. However, the supervisory factor no longer depends on the rating of the entity but rather on wether the trade's Asset Class is Equity Index or Equity Single Name. The formula for the Equity Addon is defined in para [52.66]:\n",
    "\n",
    "\n",
    "$$ AddOn^{Equity} = \\left[\\left(\\sum_{entity} \\rho_{entity}\\cdot AddOn_{entity}\\right)^{2} + \\sum_{entity}  (1-\\rho_{entity}^2)* AddOn_{entity}^{2} \\right]^{1/2}$$\n",
    "\n",
    "\n",
    "\n",
    "where $\\rho_{k}$ is the correlation factor corresponding to entity k\n"
   ]
  },
  {
   "cell_type": "code",
   "execution_count": 47,
   "metadata": {},
   "outputs": [],
   "source": [
    "AddOn_EQ_entity = tt.filter(\n",
    "    m[\"SupervisoryFactor\"] * m[\"Trade_Effective_Notional\"],\n",
    "    lvl[\"AssetClass\"].isin(\"EQ_SN\", \"EQ_IDX\"),\n",
    ")"
   ]
  },
  {
   "cell_type": "code",
   "execution_count": 48,
   "metadata": {},
   "outputs": [],
   "source": [
    "AddOn_EQ_systematic = tt.agg.sum(\n",
    "    (m[\"Correlation\"] * AddOn_EQ_entity) ** 2, scope=tt.scope.origin(lvl[\"Underlying\"]),\n",
    ")\n",
    "\n",
    "AddOn_EQ_idiosyncratic = tt.agg.sum(\n",
    "    (1.0 - (m[\"Correlation\"] ** 2)) * (AddOn_EQ_entity ** 2),\n",
    "    scope=tt.scope.origin(lvl[\"Underlying\"]),\n",
    ")\n",
    "\n",
    "m[\"AddOn_EQ\"] = tt.sqrt(AddOn_EQ_systematic + AddOn_EQ_idiosyncratic)"
   ]
  },
  {
   "cell_type": "code",
   "execution_count": 49,
   "metadata": {},
   "outputs": [
    {
     "data": {
      "application/vnd.atoti.query-result.v0+json": {
       "context": {
        "queriesTimeLimit": 30
       },
       "createEquivalentWidgetCode": "cube.visualize()",
       "mdx": "SELECT [Measures].[AddOn_EQ] ON COLUMNS FROM [SA-CCR]"
      },
      "text/html": [
       "<div>\n",
       "<style scoped>\n",
       "    .dataframe tbody tr th:only-of-type {\n",
       "        vertical-align: middle;\n",
       "    }\n",
       "\n",
       "    .dataframe tbody tr th {\n",
       "        vertical-align: top;\n",
       "    }\n",
       "\n",
       "    .dataframe thead th {\n",
       "        text-align: right;\n",
       "    }\n",
       "</style>\n",
       "<table border=\"1\" class=\"dataframe\">\n",
       "  <thead>\n",
       "    <tr style=\"text-align: right;\">\n",
       "      <th></th>\n",
       "      <th>AddOn_EQ</th>\n",
       "    </tr>\n",
       "  </thead>\n",
       "  <tbody>\n",
       "    <tr>\n",
       "      <th>0</th>\n",
       "      <td>21,117.42</td>\n",
       "    </tr>\n",
       "  </tbody>\n",
       "</table>\n",
       "</div>"
      ],
      "text/plain": [
       "    AddOn_EQ\n",
       "0  21,117.42"
      ]
     },
     "execution_count": 49,
     "metadata": {},
     "output_type": "execute_result"
    }
   ],
   "source": [
    "cube.query(m[\"AddOn_EQ\"])"
   ]
  },
  {
   "cell_type": "markdown",
   "metadata": {},
   "source": [
    "## Aggregate add-on - [52.24]\n",
    "\n",
    "The Add-on aggregate is simply the sum of all five Asset Class Add-Ons:"
   ]
  },
  {
   "cell_type": "code",
   "execution_count": 50,
   "metadata": {},
   "outputs": [],
   "source": [
    "# This measure will be displaying aggregate AddOn\n",
    "m[\"AddOn\"] = (\n",
    "    m[\"AddOn_CR\"] + m[\"AddOn_IR\"] + m[\"AddOn_CO\"] + m[\"AddOn_FX\"] + m[\"AddOn_EQ\"]\n",
    ")"
   ]
  },
  {
   "cell_type": "code",
   "execution_count": 51,
   "metadata": {},
   "outputs": [
    {
     "data": {
      "application/vnd.atoti.query-result.v0+json": {
       "context": {
        "queriesTimeLimit": 30
       },
       "createEquivalentWidgetCode": "cube.visualize()",
       "mdx": "SELECT {[Measures].[AddOn],[Measures].[AddOn_CR],[Measures].[AddOn_IR],[Measures].[AddOn_CO],[Measures].[AddOn_FX],[Measures].[AddOn_EQ]} ON COLUMNS FROM [SA-CCR]"
      },
      "text/html": [
       "<div>\n",
       "<style scoped>\n",
       "    .dataframe tbody tr th:only-of-type {\n",
       "        vertical-align: middle;\n",
       "    }\n",
       "\n",
       "    .dataframe tbody tr th {\n",
       "        vertical-align: top;\n",
       "    }\n",
       "\n",
       "    .dataframe thead th {\n",
       "        text-align: right;\n",
       "    }\n",
       "</style>\n",
       "<table border=\"1\" class=\"dataframe\">\n",
       "  <thead>\n",
       "    <tr style=\"text-align: right;\">\n",
       "      <th></th>\n",
       "      <th>AddOn</th>\n",
       "      <th>AddOn_CR</th>\n",
       "      <th>AddOn_IR</th>\n",
       "      <th>AddOn_CO</th>\n",
       "      <th>AddOn_FX</th>\n",
       "      <th>AddOn_EQ</th>\n",
       "    </tr>\n",
       "  </thead>\n",
       "  <tbody>\n",
       "    <tr>\n",
       "      <th>0</th>\n",
       "      <td>337,264,378.54</td>\n",
       "      <td>189,030,872.50</td>\n",
       "      <td>18,489,820.57</td>\n",
       "      <td>71,365,995.50</td>\n",
       "      <td>58,356,572.54</td>\n",
       "      <td>21,117.42</td>\n",
       "    </tr>\n",
       "  </tbody>\n",
       "</table>\n",
       "</div>"
      ],
      "text/plain": [
       "            AddOn        AddOn_CR       AddOn_IR       AddOn_CO  \\\n",
       "0  337,264,378.54  189,030,872.50  18,489,820.57  71,365,995.50   \n",
       "\n",
       "        AddOn_FX   AddOn_EQ  \n",
       "0  58,356,572.54  21,117.42  "
      ]
     },
     "execution_count": 51,
     "metadata": {},
     "output_type": "execute_result"
    }
   ],
   "source": [
    "cube.query(\n",
    "    m[\"AddOn\"],\n",
    "    m[\"AddOn_CR\"],\n",
    "    m[\"AddOn_IR\"],\n",
    "    m[\"AddOn_CO\"],\n",
    "    m[\"AddOn_FX\"],\n",
    "    m[\"AddOn_EQ\"],\n",
    ")"
   ]
  },
  {
   "cell_type": "markdown",
   "metadata": {},
   "source": [
    "## Multiplier - [52.23]\n",
    "\n",
    "In this section we will compute the multiplier, defined per formula:\n",
    "    \n",
    "$$multiplier = min(1, Floor + (1-Floor)*exp(\\frac{V-C}{2*(1-Floor)*AddOn^{aggregate}}))$$ \n",
    "\n",
    "(where $Floor = 0.05$ is another fixed parameter)"
   ]
  },
  {
   "cell_type": "code",
   "execution_count": 52,
   "metadata": {},
   "outputs": [],
   "source": [
    "# Let's display V - value of the positions:\n",
    "m[\"MarketValue\"] = tt.agg.sum(trades_store[\"MarketValue\"])\n",
    "\n",
    "# Let's also display C - value of collateral (after haircut) - from the input data\n",
    "m[\"Collateral\"] = tt.agg.sum(nettingSets_store[\"Collateral\"])"
   ]
  },
  {
   "cell_type": "code",
   "execution_count": 53,
   "metadata": {},
   "outputs": [],
   "source": [
    "floor = 0.05\n",
    "alpha = 1.4\n",
    "m[\"Multiplier\"] = tt.agg.single_value(\n",
    "    tt.min(\n",
    "        1.0,\n",
    "        floor\n",
    "        + (1 - floor)\n",
    "        * tt.exp((m[\"MarketValue\"] - m[\"Collateral\"]) / (2 * (1 - floor) * m[\"AddOn\"])),\n",
    "    ),\n",
    "    scope=tt.scope.origin(lvl[\"NettingSetId\"]),\n",
    ")"
   ]
  },
  {
   "cell_type": "code",
   "execution_count": 54,
   "metadata": {},
   "outputs": [
    {
     "data": {
      "text/html": [
       "<div>\n",
       "<style scoped>\n",
       "    .dataframe tbody tr th:only-of-type {\n",
       "        vertical-align: middle;\n",
       "    }\n",
       "\n",
       "    .dataframe tbody tr th {\n",
       "        vertical-align: top;\n",
       "    }\n",
       "\n",
       "    .dataframe thead th {\n",
       "        text-align: right;\n",
       "    }\n",
       "</style>\n",
       "<table border=\"1\" class=\"dataframe\">\n",
       "  <thead>\n",
       "    <tr style=\"text-align: right;\">\n",
       "      <th></th>\n",
       "      <th>Multiplier</th>\n",
       "    </tr>\n",
       "    <tr>\n",
       "      <th>NettingSetId</th>\n",
       "      <th></th>\n",
       "    </tr>\n",
       "  </thead>\n",
       "  <tbody>\n",
       "    <tr>\n",
       "      <th>EX10</th>\n",
       "      <td>1.00</td>\n",
       "    </tr>\n",
       "    <tr>\n",
       "      <th>EX7</th>\n",
       "      <td>1.00</td>\n",
       "    </tr>\n",
       "    <tr>\n",
       "      <th>EX2</th>\n",
       "      <td>1.00</td>\n",
       "    </tr>\n",
       "  </tbody>\n",
       "</table>\n",
       "</div>"
      ],
      "text/plain": [
       "              Multiplier\n",
       "NettingSetId            \n",
       "EX10                1.00\n",
       "EX7                 1.00\n",
       "EX2                 1.00"
      ]
     },
     "execution_count": 54,
     "metadata": {},
     "output_type": "execute_result"
    }
   ],
   "source": [
    "cube.query(m[\"Multiplier\"], levels=lvl[\"NettingSetId\"]).sample(3)"
   ]
  },
  {
   "cell_type": "markdown",
   "metadata": {},
   "source": [
    "## PFE add-on for each netting set - [52.20]\n",
    "\n",
    "Having defined the aggregate AddOn and the multiplier, the PFE is obtained per formula: $PFE = multiplier * AddOn^{aggregate}$  - which is computed for each netting set and then summed up."
   ]
  },
  {
   "cell_type": "code",
   "execution_count": 55,
   "metadata": {},
   "outputs": [],
   "source": [
    "m[\"PFE\"] = tt.agg.sum(\n",
    "    m[\"Multiplier\"] * m[\"AddOn\"], scope=tt.scope.origin(lvl[\"NettingSetId\"])\n",
    ")"
   ]
  },
  {
   "cell_type": "code",
   "execution_count": 56,
   "metadata": {},
   "outputs": [
    {
     "data": {
      "application/vnd.atoti.query-result.v0+json": {
       "context": {
        "queriesTimeLimit": 30
       },
       "createEquivalentWidgetCode": "cube.visualize()",
       "mdx": "SELECT [Measures].[PFE] ON COLUMNS FROM [SA-CCR]"
      },
      "text/html": [
       "<div>\n",
       "<style scoped>\n",
       "    .dataframe tbody tr th:only-of-type {\n",
       "        vertical-align: middle;\n",
       "    }\n",
       "\n",
       "    .dataframe tbody tr th {\n",
       "        vertical-align: top;\n",
       "    }\n",
       "\n",
       "    .dataframe thead th {\n",
       "        text-align: right;\n",
       "    }\n",
       "</style>\n",
       "<table border=\"1\" class=\"dataframe\">\n",
       "  <thead>\n",
       "    <tr style=\"text-align: right;\">\n",
       "      <th></th>\n",
       "      <th>PFE</th>\n",
       "    </tr>\n",
       "  </thead>\n",
       "  <tbody>\n",
       "    <tr>\n",
       "      <th>0</th>\n",
       "      <td>637,681,350.88</td>\n",
       "    </tr>\n",
       "  </tbody>\n",
       "</table>\n",
       "</div>"
      ],
      "text/plain": [
       "              PFE\n",
       "0  637,681,350.88"
      ]
     },
     "execution_count": 56,
     "metadata": {},
     "output_type": "execute_result"
    }
   ],
   "source": [
    "cube.query(m[\"PFE\"])"
   ]
  },
  {
   "cell_type": "markdown",
   "metadata": {},
   "source": [
    "## Replacement cost - [52.10] - [52.18]\n",
    "\n",
    "The Replacement Cost is $RC = max(V-C,0)$  for unmargined transactions and $RC = max(V-C, TH + MTA - NICA, 0)$. \n",
    "\n",
    "In this formula:\n",
    "\n",
    "- $V$ is the market value of derivative transactions, \n",
    "- $C$ is the haircut value of net collateral held (if any)), \n",
    "- TH - positive threshold before the counterparty must send the bank collateral, \n",
    "- MTA - minimum transfer amount applicable to the counterparty, \n",
    "- NICA - net independent collateral amount."
   ]
  },
  {
   "cell_type": "code",
   "execution_count": 57,
   "metadata": {},
   "outputs": [
    {
     "data": {
      "application/vnd.atoti.query-result.v0+json": {
       "context": {
        "queriesTimeLimit": 30
       },
       "createEquivalentWidgetCode": "cube.visualize()",
       "mdx": "SELECT {[Measures].[TH],[Measures].[MTA],[Measures].[NICA]} ON COLUMNS, NON EMPTY [Hierarchies].[NettingSetId].[NettingSetId].Members ON ROWS FROM [SA-CCR]"
      },
      "text/html": [
       "<div>\n",
       "<style scoped>\n",
       "    .dataframe tbody tr th:only-of-type {\n",
       "        vertical-align: middle;\n",
       "    }\n",
       "\n",
       "    .dataframe tbody tr th {\n",
       "        vertical-align: top;\n",
       "    }\n",
       "\n",
       "    .dataframe thead th {\n",
       "        text-align: right;\n",
       "    }\n",
       "</style>\n",
       "<table border=\"1\" class=\"dataframe\">\n",
       "  <thead>\n",
       "    <tr style=\"text-align: right;\">\n",
       "      <th></th>\n",
       "      <th>TH</th>\n",
       "      <th>MTA</th>\n",
       "      <th>NICA</th>\n",
       "    </tr>\n",
       "    <tr>\n",
       "      <th>NettingSetId</th>\n",
       "      <th></th>\n",
       "      <th></th>\n",
       "      <th></th>\n",
       "    </tr>\n",
       "  </thead>\n",
       "  <tbody>\n",
       "    <tr>\n",
       "      <th>EX10</th>\n",
       "      <td>.00</td>\n",
       "      <td>5,000.00</td>\n",
       "      <td>170,388.00</td>\n",
       "    </tr>\n",
       "  </tbody>\n",
       "</table>\n",
       "</div>"
      ],
      "text/plain": [
       "               TH       MTA        NICA\n",
       "NettingSetId                           \n",
       "EX10          .00  5,000.00  170,388.00"
      ]
     },
     "execution_count": 57,
     "metadata": {},
     "output_type": "execute_result"
    }
   ],
   "source": [
    "# Let's start by disaplying TH, MTA and NICA parameters of netting sets:\n",
    "m[\"TH\"] = tt.agg.single_value(nettingSets_store[\"TH\"])\n",
    "m[\"MTA\"] = tt.agg.single_value(nettingSets_store[\"MTA\"])\n",
    "m[\"NICA\"] = tt.agg.single_value(nettingSets_store[\"NICA\"])\n",
    "cube.query(m[\"TH\"], m[\"MTA\"], m[\"NICA\"], levels=lvl[\"NettingSetId\"])"
   ]
  },
  {
   "cell_type": "code",
   "execution_count": 58,
   "metadata": {},
   "outputs": [],
   "source": [
    "RC_unmargined = tt.max(m[\"MarketValue\"] - m[\"Collateral\"], 0)\n",
    "\n",
    "RC_margined = tt.max(\n",
    "    m[\"MarketValue\"] - m[\"Collateral\"], m[\"TH\"] + m[\"MTA\"] - m[\"NICA\"], 0,\n",
    ")\n",
    "\n",
    "m[\"RC\"] = tt.agg.sum(\n",
    "    tt.where(lvl[\"isMargined\"] == \"Y\", RC_margined, RC_unmargined,),\n",
    "    scope=tt.scope.origin(lvl[\"NettingSetId\"]),\n",
    ")"
   ]
  },
  {
   "cell_type": "code",
   "execution_count": 59,
   "metadata": {},
   "outputs": [
    {
     "data": {
      "application/vnd.atoti.query-result.v0+json": {
       "context": {
        "queriesTimeLimit": 30
       },
       "createEquivalentWidgetCode": "cube.visualize()",
       "mdx": "SELECT {[Measures].[RC],[Measures].[MarketValue],[Measures].[Collateral]} ON COLUMNS, NON EMPTY [Hierarchies].[isMargined].[isMargined].Members ON ROWS FROM [SA-CCR]"
      },
      "text/html": [
       "<div>\n",
       "<style scoped>\n",
       "    .dataframe tbody tr th:only-of-type {\n",
       "        vertical-align: middle;\n",
       "    }\n",
       "\n",
       "    .dataframe tbody tr th {\n",
       "        vertical-align: top;\n",
       "    }\n",
       "\n",
       "    .dataframe thead th {\n",
       "        text-align: right;\n",
       "    }\n",
       "</style>\n",
       "<table border=\"1\" class=\"dataframe\">\n",
       "  <thead>\n",
       "    <tr style=\"text-align: right;\">\n",
       "      <th></th>\n",
       "      <th>RC</th>\n",
       "      <th>MarketValue</th>\n",
       "      <th>Collateral</th>\n",
       "    </tr>\n",
       "    <tr>\n",
       "      <th>isMargined</th>\n",
       "      <th></th>\n",
       "      <th></th>\n",
       "      <th></th>\n",
       "    </tr>\n",
       "  </thead>\n",
       "  <tbody>\n",
       "    <tr>\n",
       "      <th>N</th>\n",
       "      <td>885,078,290.00</td>\n",
       "      <td>885,078,290.00</td>\n",
       "      <td>.00</td>\n",
       "    </tr>\n",
       "    <tr>\n",
       "      <th>Y</th>\n",
       "      <td>157,771,095.00</td>\n",
       "      <td>168,903,160.00</td>\n",
       "      <td>11,132,065.00</td>\n",
       "    </tr>\n",
       "  </tbody>\n",
       "</table>\n",
       "</div>"
      ],
      "text/plain": [
       "                        RC     MarketValue     Collateral\n",
       "isMargined                                               \n",
       "N           885,078,290.00  885,078,290.00            .00\n",
       "Y           157,771,095.00  168,903,160.00  11,132,065.00"
      ]
     },
     "execution_count": 59,
     "metadata": {},
     "output_type": "execute_result"
    }
   ],
   "source": [
    "cube.query(m[\"RC\"], m[\"MarketValue\"], m[\"Collateral\"], levels=lvl[\"isMargined\"])"
   ]
  },
  {
   "cell_type": "markdown",
   "metadata": {},
   "source": [
    "# EAD - [52.1]\n",
    "\n",
    "$$EAD = \\alpha * (RC + PFE)$$\n",
    "\n",
    "where $alpha = 1.4$ (fixed parameter), "
   ]
  },
  {
   "cell_type": "code",
   "execution_count": 60,
   "metadata": {},
   "outputs": [],
   "source": [
    "alpha = 1.4\n",
    "m[\"EAD\"] = tt.agg.sum(\n",
    "    alpha * (m[\"RC\"] + m[\"PFE\"]), scope=tt.scope.origin(lvl[\"NettingSetId\"])\n",
    ")"
   ]
  },
  {
   "cell_type": "markdown",
   "metadata": {},
   "source": [
    "# Formatting\n",
    "\n",
    "The following cell will allocate measures to folders in the cube explorer, and apply formatting."
   ]
  },
  {
   "cell_type": "code",
   "execution_count": 61,
   "metadata": {},
   "outputs": [],
   "source": [
    "for measure in sorted(list(m)):\n",
    "    if (\n",
    "        measure.startswith(\"AddOn\")\n",
    "        or measure.startswith(\"D_\")\n",
    "        or measure\n",
    "        in [\n",
    "            \"Effective_notional_IR_NoOffset_Formula\",\n",
    "            \"Effective_notional_IR_Offset_Formula\",\n",
    "            \"Effective_notional_IR_j_k\",\n",
    "            \"Effective_notional_IR\",\n",
    "        ]\n",
    "    ):\n",
    "        m[measure].formatter = \"DOUBLE[#,###]\"\n",
    "        m[measure].folder = \"AddOn\"\n",
    "    elif measure in [\n",
    "        \"Correlation\",\n",
    "        \"SupervisoryFactor\",\n",
    "        \"Supervisory_Option_Volatility\",\n",
    "    ]:\n",
    "        m[measure].formatter = \"DOUBLE[#,###.0000]\"\n",
    "        m[measure].folder = \"Supervisory Parameters\"\n",
    "\n",
    "    elif measure in [\n",
    "        \"Direction\",\n",
    "        \"DetachPoint\",\n",
    "        \"AttachPoint\",\n",
    "        \"MarketValue\",\n",
    "        \"Notional\",\n",
    "        \"Underlying Price\",\n",
    "        \"Strike Price\",\n",
    "    ]:\n",
    "        m[measure].formatter = \"DOUBLE[#,###.0000]\"\n",
    "        m[measure].folder = \"Trades Input Data\"\n",
    "\n",
    "    elif measure in [\"Collateral\", \"TH\", \"MTA\", \"NICA\", \"MPOR\"]:\n",
    "        m[measure].formatter = \"DOUBLE[#,###]\"\n",
    "        m[measure].folder = \"Netting Sets Input Data\"\n",
    "\n",
    "    elif measure in [\"Mi\", \"Ei\", \"Si\", \"Ti\"]:\n",
    "        m[measure].formatter = \"DOUBLE[#,###.##]\"\n",
    "        m[measure].folder = \"Time period parameters\"\n",
    "\n",
    "    elif measure in [\n",
    "        \"Delta_Adjustment\",\n",
    "        \"Supervisory_Duration\",\n",
    "        \"Adjusted_Notional\",\n",
    "        \"Maturity_Factor\",\n",
    "        \"d\",\n",
    "        \"Trade_Effective_Notional\",\n",
    "        \"Adjusted_Notional x Delta_Adjustment\",\n",
    "    ]:\n",
    "        m[measure].formatter = \"DOUBLE[#,###.00]\"\n",
    "        m[measure].folder = \"Derived Interim Results\"\n",
    "    m['EAD'].formatter = \"DOUBLE[#,###]\"\n",
    "    m['PFE'].formatter = \"DOUBLE[#,###]\"\n",
    "    m['RC'].formatter = \"DOUBLE[#,###]\""
   ]
  },
  {
   "cell_type": "markdown",
   "metadata": {},
   "source": [
    "# Enriching the data"
   ]
  },
  {
   "cell_type": "markdown",
   "metadata": {},
   "source": [
    "Having implemented the core metrics for computing EAD from trades data and parameters, we can enrich trades and netting sets data with additional attributes. As an example, let's load business units and link them to trades via book:"
   ]
  },
  {
   "cell_type": "code",
   "execution_count": 62,
   "metadata": {},
   "outputs": [],
   "source": [
    "books_store = session.read_csv(\n",
    "    \"s3://data.atoti.io/notebooks/sa-ccr/T0/books.csv\", keys=[\"AsOfDate\", \"BookId\"], store_name=\"BookStructure\",\n",
    ")\n",
    "\n",
    "trades_store.join(books_store, mapping={\"BookId\": \"BookId\", \"AsOfDate\": \"AsOfDate\"})"
   ]
  },
  {
   "cell_type": "code",
   "execution_count": 63,
   "metadata": {},
   "outputs": [
    {
     "data": {
      "image/svg+xml": [
       "<svg xmlns=\"http://www.w3.org/2000/svg\" xmlns:xlink=\"http://www.w3.org/1999/xlink\" width=\"699px\" height=\"622px\" viewBox=\"0.00 0.00 699.00 622.00\">\n",
       "<g id=\"graph0\" class=\"graph\" transform=\"scale(1.0 1.0) rotate(0) translate(4 618)\">\n",
       "<title>SA-CCR schema</title>\n",
       "<polygon fill=\"white\" stroke=\"transparent\" points=\"-4,4 -4,-618 695,-618 695,4 -4,4\"/>\n",
       "<!-- Trades -->\n",
       "<g id=\"node1\" class=\"node\">\n",
       "<title>Trades</title>\n",
       "<text text-anchor=\"start\" x=\"91.5\" y=\"-494.6\" font-family=\"-apple-system, BlinkMacSystemFont, 'Segoe UI', Helvetica, Arial, sans-serif, 'Apple Color Emoji', 'Segoe UI Emoji', 'Segoe UI Symbol'\" font-weight=\"bold\" font-size=\"13.00\">Trades</text>\n",
       "<polygon fill=\"#f5f5f5\" stroke=\"transparent\" points=\"9.5,-461 9.5,-485 41.5,-485 41.5,-461 9.5,-461\"/>\n",
       "<text text-anchor=\"start\" x=\"14.5\" y=\"-470.6\" font-family=\"-apple-system, BlinkMacSystemFont, 'Segoe UI', Helvetica, Arial, sans-serif, 'Apple Color Emoji', 'Segoe UI Emoji', 'Segoe UI Symbol'\" font-weight=\"bold\" font-size=\"13.00\">key</text>\n",
       "<polygon fill=\"#f5f5f5\" stroke=\"transparent\" points=\"41.5,-461 41.5,-485 147.5,-485 147.5,-461 41.5,-461\"/>\n",
       "<text text-anchor=\"start\" x=\"46.5\" y=\"-469.6\" font-family=\"-apple-system, BlinkMacSystemFont, 'Segoe UI', Helvetica, Arial, sans-serif, 'Apple Color Emoji', 'Segoe UI Emoji', 'Segoe UI Symbol'\" font-size=\"13.00\">AsOfDate</text>\n",
       "<polygon fill=\"#f5f5f5\" stroke=\"transparent\" points=\"147.5,-461 147.5,-485 216.5,-485 216.5,-461 147.5,-461\"/>\n",
       "<text text-anchor=\"start\" x=\"152.5\" y=\"-470.6\" font-family=\"-apple-system, BlinkMacSystemFont, 'Segoe UI', Helvetica, Arial, sans-serif, 'Apple Color Emoji', 'Segoe UI Emoji', 'Segoe UI Symbol'\" font-style=\"italic\" font-size=\"13.00\">LocalDate</text>\n",
       "<polygon fill=\"#ffffff\" stroke=\"transparent\" points=\"9.5,-437 9.5,-461 41.5,-461 41.5,-437 9.5,-437\"/>\n",
       "<text text-anchor=\"start\" x=\"14.5\" y=\"-446.6\" font-family=\"-apple-system, BlinkMacSystemFont, 'Segoe UI', Helvetica, Arial, sans-serif, 'Apple Color Emoji', 'Segoe UI Emoji', 'Segoe UI Symbol'\" font-weight=\"bold\" font-size=\"13.00\">key</text>\n",
       "<polygon fill=\"#ffffff\" stroke=\"transparent\" points=\"41.5,-437 41.5,-461 147.5,-461 147.5,-437 41.5,-437\"/>\n",
       "<text text-anchor=\"start\" x=\"46.5\" y=\"-445.6\" font-family=\"-apple-system, BlinkMacSystemFont, 'Segoe UI', Helvetica, Arial, sans-serif, 'Apple Color Emoji', 'Segoe UI Emoji', 'Segoe UI Symbol'\" font-size=\"13.00\">TradeId</text>\n",
       "<polygon fill=\"#ffffff\" stroke=\"transparent\" points=\"147.5,-437 147.5,-461 216.5,-461 216.5,-437 147.5,-437\"/>\n",
       "<text text-anchor=\"start\" x=\"177.5\" y=\"-446.6\" font-family=\"-apple-system, BlinkMacSystemFont, 'Segoe UI', Helvetica, Arial, sans-serif, 'Apple Color Emoji', 'Segoe UI Emoji', 'Segoe UI Symbol'\" font-style=\"italic\" font-size=\"13.00\">String</text>\n",
       "<polygon fill=\"#f5f5f5\" stroke=\"transparent\" points=\"9.5,-413 9.5,-437 41.5,-437 41.5,-413 9.5,-413\"/>\n",
       "<polygon fill=\"#f5f5f5\" stroke=\"transparent\" points=\"41.5,-413 41.5,-437 147.5,-437 147.5,-413 41.5,-413\"/>\n",
       "<text text-anchor=\"start\" x=\"46.5\" y=\"-421.6\" font-family=\"-apple-system, BlinkMacSystemFont, 'Segoe UI', Helvetica, Arial, sans-serif, 'Apple Color Emoji', 'Segoe UI Emoji', 'Segoe UI Symbol'\" font-size=\"13.00\">NettingSetId</text>\n",
       "<polygon fill=\"#f5f5f5\" stroke=\"transparent\" points=\"147.5,-413 147.5,-437 216.5,-437 216.5,-413 147.5,-413\"/>\n",
       "<text text-anchor=\"start\" x=\"177.5\" y=\"-422.6\" font-family=\"-apple-system, BlinkMacSystemFont, 'Segoe UI', Helvetica, Arial, sans-serif, 'Apple Color Emoji', 'Segoe UI Emoji', 'Segoe UI Symbol'\" font-style=\"italic\" font-size=\"13.00\">String</text>\n",
       "<polygon fill=\"#ffffff\" stroke=\"transparent\" points=\"9.5,-389 9.5,-413 41.5,-413 41.5,-389 9.5,-389\"/>\n",
       "<polygon fill=\"#ffffff\" stroke=\"transparent\" points=\"41.5,-389 41.5,-413 147.5,-413 147.5,-389 41.5,-389\"/>\n",
       "<text text-anchor=\"start\" x=\"46.5\" y=\"-397.6\" font-family=\"-apple-system, BlinkMacSystemFont, 'Segoe UI', Helvetica, Arial, sans-serif, 'Apple Color Emoji', 'Segoe UI Emoji', 'Segoe UI Symbol'\" font-size=\"13.00\">BookId</text>\n",
       "<polygon fill=\"#ffffff\" stroke=\"transparent\" points=\"147.5,-389 147.5,-413 216.5,-413 216.5,-389 147.5,-389\"/>\n",
       "<text text-anchor=\"start\" x=\"177.5\" y=\"-398.6\" font-family=\"-apple-system, BlinkMacSystemFont, 'Segoe UI', Helvetica, Arial, sans-serif, 'Apple Color Emoji', 'Segoe UI Emoji', 'Segoe UI Symbol'\" font-style=\"italic\" font-size=\"13.00\">String</text>\n",
       "<polygon fill=\"#f5f5f5\" stroke=\"transparent\" points=\"9.5,-365 9.5,-389 41.5,-389 41.5,-365 9.5,-365\"/>\n",
       "<polygon fill=\"#f5f5f5\" stroke=\"transparent\" points=\"41.5,-365 41.5,-389 147.5,-389 147.5,-365 41.5,-365\"/>\n",
       "<text text-anchor=\"start\" x=\"46.5\" y=\"-373.6\" font-family=\"-apple-system, BlinkMacSystemFont, 'Segoe UI', Helvetica, Arial, sans-serif, 'Apple Color Emoji', 'Segoe UI Emoji', 'Segoe UI Symbol'\" font-size=\"13.00\">Direction</text>\n",
       "<polygon fill=\"#f5f5f5\" stroke=\"transparent\" points=\"147.5,-365 147.5,-389 216.5,-389 216.5,-365 147.5,-365\"/>\n",
       "<text text-anchor=\"start\" x=\"197.5\" y=\"-374.6\" font-family=\"-apple-system, BlinkMacSystemFont, 'Segoe UI', Helvetica, Arial, sans-serif, 'Apple Color Emoji', 'Segoe UI Emoji', 'Segoe UI Symbol'\" font-style=\"italic\" font-size=\"13.00\">int</text>\n",
       "<polygon fill=\"#ffffff\" stroke=\"transparent\" points=\"9.5,-341 9.5,-365 41.5,-365 41.5,-341 9.5,-341\"/>\n",
       "<polygon fill=\"#ffffff\" stroke=\"transparent\" points=\"41.5,-341 41.5,-365 147.5,-365 147.5,-341 41.5,-341\"/>\n",
       "<text text-anchor=\"start\" x=\"46.5\" y=\"-349.6\" font-family=\"-apple-system, BlinkMacSystemFont, 'Segoe UI', Helvetica, Arial, sans-serif, 'Apple Color Emoji', 'Segoe UI Emoji', 'Segoe UI Symbol'\" font-size=\"13.00\">Notional</text>\n",
       "<polygon fill=\"#ffffff\" stroke=\"transparent\" points=\"147.5,-341 147.5,-365 216.5,-365 216.5,-341 147.5,-341\"/>\n",
       "<text text-anchor=\"start\" x=\"171.5\" y=\"-350.6\" font-family=\"-apple-system, BlinkMacSystemFont, 'Segoe UI', Helvetica, Arial, sans-serif, 'Apple Color Emoji', 'Segoe UI Emoji', 'Segoe UI Symbol'\" font-style=\"italic\" font-size=\"13.00\">double</text>\n",
       "<polygon fill=\"#f5f5f5\" stroke=\"transparent\" points=\"9.5,-317 9.5,-341 41.5,-341 41.5,-317 9.5,-317\"/>\n",
       "<polygon fill=\"#f5f5f5\" stroke=\"transparent\" points=\"41.5,-317 41.5,-341 147.5,-341 147.5,-317 41.5,-317\"/>\n",
       "<text text-anchor=\"start\" x=\"46.5\" y=\"-325.6\" font-family=\"-apple-system, BlinkMacSystemFont, 'Segoe UI', Helvetica, Arial, sans-serif, 'Apple Color Emoji', 'Segoe UI Emoji', 'Segoe UI Symbol'\" font-size=\"13.00\">MarketValue</text>\n",
       "<polygon fill=\"#f5f5f5\" stroke=\"transparent\" points=\"147.5,-317 147.5,-341 216.5,-341 216.5,-317 147.5,-317\"/>\n",
       "<text text-anchor=\"start\" x=\"171.5\" y=\"-326.6\" font-family=\"-apple-system, BlinkMacSystemFont, 'Segoe UI', Helvetica, Arial, sans-serif, 'Apple Color Emoji', 'Segoe UI Emoji', 'Segoe UI Symbol'\" font-style=\"italic\" font-size=\"13.00\">double</text>\n",
       "<polygon fill=\"#ffffff\" stroke=\"transparent\" points=\"9.5,-293 9.5,-317 41.5,-317 41.5,-293 9.5,-293\"/>\n",
       "<polygon fill=\"#ffffff\" stroke=\"transparent\" points=\"41.5,-293 41.5,-317 147.5,-317 147.5,-293 41.5,-293\"/>\n",
       "<text text-anchor=\"start\" x=\"46.5\" y=\"-301.6\" font-family=\"-apple-system, BlinkMacSystemFont, 'Segoe UI', Helvetica, Arial, sans-serif, 'Apple Color Emoji', 'Segoe UI Emoji', 'Segoe UI Symbol'\" font-size=\"13.00\">AssetClass</text>\n",
       "<polygon fill=\"#ffffff\" stroke=\"transparent\" points=\"147.5,-293 147.5,-317 216.5,-317 216.5,-293 147.5,-293\"/>\n",
       "<text text-anchor=\"start\" x=\"177.5\" y=\"-302.6\" font-family=\"-apple-system, BlinkMacSystemFont, 'Segoe UI', Helvetica, Arial, sans-serif, 'Apple Color Emoji', 'Segoe UI Emoji', 'Segoe UI Symbol'\" font-style=\"italic\" font-size=\"13.00\">String</text>\n",
       "<polygon fill=\"#f5f5f5\" stroke=\"transparent\" points=\"9.5,-269 9.5,-293 41.5,-293 41.5,-269 9.5,-269\"/>\n",
       "<polygon fill=\"#f5f5f5\" stroke=\"transparent\" points=\"41.5,-269 41.5,-293 147.5,-293 147.5,-269 41.5,-269\"/>\n",
       "<text text-anchor=\"start\" x=\"46.5\" y=\"-277.6\" font-family=\"-apple-system, BlinkMacSystemFont, 'Segoe UI', Helvetica, Arial, sans-serif, 'Apple Color Emoji', 'Segoe UI Emoji', 'Segoe UI Symbol'\" font-size=\"13.00\">SubClass</text>\n",
       "<polygon fill=\"#f5f5f5\" stroke=\"transparent\" points=\"147.5,-269 147.5,-293 216.5,-293 216.5,-269 147.5,-269\"/>\n",
       "<text text-anchor=\"start\" x=\"177.5\" y=\"-278.6\" font-family=\"-apple-system, BlinkMacSystemFont, 'Segoe UI', Helvetica, Arial, sans-serif, 'Apple Color Emoji', 'Segoe UI Emoji', 'Segoe UI Symbol'\" font-style=\"italic\" font-size=\"13.00\">String</text>\n",
       "<polygon fill=\"#ffffff\" stroke=\"transparent\" points=\"9.5,-245 9.5,-269 41.5,-269 41.5,-245 9.5,-245\"/>\n",
       "<polygon fill=\"#ffffff\" stroke=\"transparent\" points=\"41.5,-245 41.5,-269 147.5,-269 147.5,-245 41.5,-245\"/>\n",
       "<text text-anchor=\"start\" x=\"46.5\" y=\"-253.6\" font-family=\"-apple-system, BlinkMacSystemFont, 'Segoe UI', Helvetica, Arial, sans-serif, 'Apple Color Emoji', 'Segoe UI Emoji', 'Segoe UI Symbol'\" font-size=\"13.00\">OptionType</text>\n",
       "<polygon fill=\"#ffffff\" stroke=\"transparent\" points=\"147.5,-245 147.5,-269 216.5,-269 216.5,-245 147.5,-245\"/>\n",
       "<text text-anchor=\"start\" x=\"177.5\" y=\"-254.6\" font-family=\"-apple-system, BlinkMacSystemFont, 'Segoe UI', Helvetica, Arial, sans-serif, 'Apple Color Emoji', 'Segoe UI Emoji', 'Segoe UI Symbol'\" font-style=\"italic\" font-size=\"13.00\">String</text>\n",
       "<polygon fill=\"#f5f5f5\" stroke=\"transparent\" points=\"9.5,-221 9.5,-245 41.5,-245 41.5,-221 9.5,-221\"/>\n",
       "<polygon fill=\"#f5f5f5\" stroke=\"transparent\" points=\"41.5,-221 41.5,-245 147.5,-245 147.5,-221 41.5,-221\"/>\n",
       "<text text-anchor=\"start\" x=\"46.5\" y=\"-229.6\" font-family=\"-apple-system, BlinkMacSystemFont, 'Segoe UI', Helvetica, Arial, sans-serif, 'Apple Color Emoji', 'Segoe UI Emoji', 'Segoe UI Symbol'\" font-size=\"13.00\">Underlying</text>\n",
       "<polygon fill=\"#f5f5f5\" stroke=\"transparent\" points=\"147.5,-221 147.5,-245 216.5,-245 216.5,-221 147.5,-221\"/>\n",
       "<text text-anchor=\"start\" x=\"177.5\" y=\"-230.6\" font-family=\"-apple-system, BlinkMacSystemFont, 'Segoe UI', Helvetica, Arial, sans-serif, 'Apple Color Emoji', 'Segoe UI Emoji', 'Segoe UI Symbol'\" font-style=\"italic\" font-size=\"13.00\">String</text>\n",
       "<polygon fill=\"#ffffff\" stroke=\"transparent\" points=\"9.5,-197 9.5,-221 41.5,-221 41.5,-197 9.5,-197\"/>\n",
       "<polygon fill=\"#ffffff\" stroke=\"transparent\" points=\"41.5,-197 41.5,-221 147.5,-221 147.5,-197 41.5,-197\"/>\n",
       "<text text-anchor=\"start\" x=\"46.5\" y=\"-205.6\" font-family=\"-apple-system, BlinkMacSystemFont, 'Segoe UI', Helvetica, Arial, sans-serif, 'Apple Color Emoji', 'Segoe UI Emoji', 'Segoe UI Symbol'\" font-size=\"13.00\">Si_Date</text>\n",
       "<polygon fill=\"#ffffff\" stroke=\"transparent\" points=\"147.5,-197 147.5,-221 216.5,-221 216.5,-197 147.5,-197\"/>\n",
       "<text text-anchor=\"start\" x=\"152.5\" y=\"-206.6\" font-family=\"-apple-system, BlinkMacSystemFont, 'Segoe UI', Helvetica, Arial, sans-serif, 'Apple Color Emoji', 'Segoe UI Emoji', 'Segoe UI Symbol'\" font-style=\"italic\" font-size=\"13.00\">LocalDate</text>\n",
       "<polygon fill=\"#f5f5f5\" stroke=\"transparent\" points=\"9.5,-173 9.5,-197 41.5,-197 41.5,-173 9.5,-173\"/>\n",
       "<polygon fill=\"#f5f5f5\" stroke=\"transparent\" points=\"41.5,-173 41.5,-197 147.5,-197 147.5,-173 41.5,-173\"/>\n",
       "<text text-anchor=\"start\" x=\"46.5\" y=\"-181.6\" font-family=\"-apple-system, BlinkMacSystemFont, 'Segoe UI', Helvetica, Arial, sans-serif, 'Apple Color Emoji', 'Segoe UI Emoji', 'Segoe UI Symbol'\" font-size=\"13.00\">Ei_Date</text>\n",
       "<polygon fill=\"#f5f5f5\" stroke=\"transparent\" points=\"147.5,-173 147.5,-197 216.5,-197 216.5,-173 147.5,-173\"/>\n",
       "<text text-anchor=\"start\" x=\"152.5\" y=\"-182.6\" font-family=\"-apple-system, BlinkMacSystemFont, 'Segoe UI', Helvetica, Arial, sans-serif, 'Apple Color Emoji', 'Segoe UI Emoji', 'Segoe UI Symbol'\" font-style=\"italic\" font-size=\"13.00\">LocalDate</text>\n",
       "<polygon fill=\"#ffffff\" stroke=\"transparent\" points=\"9.5,-149 9.5,-173 41.5,-173 41.5,-149 9.5,-149\"/>\n",
       "<polygon fill=\"#ffffff\" stroke=\"transparent\" points=\"41.5,-149 41.5,-173 147.5,-173 147.5,-149 41.5,-149\"/>\n",
       "<text text-anchor=\"start\" x=\"46.5\" y=\"-157.6\" font-family=\"-apple-system, BlinkMacSystemFont, 'Segoe UI', Helvetica, Arial, sans-serif, 'Apple Color Emoji', 'Segoe UI Emoji', 'Segoe UI Symbol'\" font-size=\"13.00\">Mi_Date</text>\n",
       "<polygon fill=\"#ffffff\" stroke=\"transparent\" points=\"147.5,-149 147.5,-173 216.5,-173 216.5,-149 147.5,-149\"/>\n",
       "<text text-anchor=\"start\" x=\"152.5\" y=\"-158.6\" font-family=\"-apple-system, BlinkMacSystemFont, 'Segoe UI', Helvetica, Arial, sans-serif, 'Apple Color Emoji', 'Segoe UI Emoji', 'Segoe UI Symbol'\" font-style=\"italic\" font-size=\"13.00\">LocalDate</text>\n",
       "<polygon fill=\"#f5f5f5\" stroke=\"transparent\" points=\"9.5,-125 9.5,-149 41.5,-149 41.5,-125 9.5,-125\"/>\n",
       "<polygon fill=\"#f5f5f5\" stroke=\"transparent\" points=\"41.5,-125 41.5,-149 147.5,-149 147.5,-125 41.5,-125\"/>\n",
       "<text text-anchor=\"start\" x=\"46.5\" y=\"-133.6\" font-family=\"-apple-system, BlinkMacSystemFont, 'Segoe UI', Helvetica, Arial, sans-serif, 'Apple Color Emoji', 'Segoe UI Emoji', 'Segoe UI Symbol'\" font-size=\"13.00\">Ti_Date</text>\n",
       "<polygon fill=\"#f5f5f5\" stroke=\"transparent\" points=\"147.5,-125 147.5,-149 216.5,-149 216.5,-125 147.5,-125\"/>\n",
       "<text text-anchor=\"start\" x=\"152.5\" y=\"-134.6\" font-family=\"-apple-system, BlinkMacSystemFont, 'Segoe UI', Helvetica, Arial, sans-serif, 'Apple Color Emoji', 'Segoe UI Emoji', 'Segoe UI Symbol'\" font-style=\"italic\" font-size=\"13.00\">LocalDate</text>\n",
       "<polygon fill=\"#ffffff\" stroke=\"transparent\" points=\"9.5,-101 9.5,-125 41.5,-125 41.5,-101 9.5,-101\"/>\n",
       "<polygon fill=\"#ffffff\" stroke=\"transparent\" points=\"41.5,-101 41.5,-125 147.5,-125 147.5,-101 41.5,-101\"/>\n",
       "<text text-anchor=\"start\" x=\"46.5\" y=\"-109.6\" font-family=\"-apple-system, BlinkMacSystemFont, 'Segoe UI', Helvetica, Arial, sans-serif, 'Apple Color Emoji', 'Segoe UI Emoji', 'Segoe UI Symbol'\" font-size=\"13.00\">Strike Price</text>\n",
       "<polygon fill=\"#ffffff\" stroke=\"transparent\" points=\"147.5,-101 147.5,-125 216.5,-125 216.5,-101 147.5,-101\"/>\n",
       "<text text-anchor=\"start\" x=\"171.5\" y=\"-110.6\" font-family=\"-apple-system, BlinkMacSystemFont, 'Segoe UI', Helvetica, Arial, sans-serif, 'Apple Color Emoji', 'Segoe UI Emoji', 'Segoe UI Symbol'\" font-style=\"italic\" font-size=\"13.00\">double</text>\n",
       "<polygon fill=\"#f5f5f5\" stroke=\"transparent\" points=\"9.5,-77 9.5,-101 41.5,-101 41.5,-77 9.5,-77\"/>\n",
       "<polygon fill=\"#f5f5f5\" stroke=\"transparent\" points=\"41.5,-77 41.5,-101 147.5,-101 147.5,-77 41.5,-77\"/>\n",
       "<text text-anchor=\"start\" x=\"46.5\" y=\"-85.6\" font-family=\"-apple-system, BlinkMacSystemFont, 'Segoe UI', Helvetica, Arial, sans-serif, 'Apple Color Emoji', 'Segoe UI Emoji', 'Segoe UI Symbol'\" font-size=\"13.00\">Underlying Price</text>\n",
       "<polygon fill=\"#f5f5f5\" stroke=\"transparent\" points=\"147.5,-77 147.5,-101 216.5,-101 216.5,-77 147.5,-77\"/>\n",
       "<text text-anchor=\"start\" x=\"171.5\" y=\"-86.6\" font-family=\"-apple-system, BlinkMacSystemFont, 'Segoe UI', Helvetica, Arial, sans-serif, 'Apple Color Emoji', 'Segoe UI Emoji', 'Segoe UI Symbol'\" font-style=\"italic\" font-size=\"13.00\">double</text>\n",
       "<polygon fill=\"#ffffff\" stroke=\"transparent\" points=\"9.5,-53 9.5,-77 41.5,-77 41.5,-53 9.5,-53\"/>\n",
       "<polygon fill=\"#ffffff\" stroke=\"transparent\" points=\"41.5,-53 41.5,-77 147.5,-77 147.5,-53 41.5,-53\"/>\n",
       "<text text-anchor=\"start\" x=\"46.5\" y=\"-61.6\" font-family=\"-apple-system, BlinkMacSystemFont, 'Segoe UI', Helvetica, Arial, sans-serif, 'Apple Color Emoji', 'Segoe UI Emoji', 'Segoe UI Symbol'\" font-size=\"13.00\">AttachPoint</text>\n",
       "<polygon fill=\"#ffffff\" stroke=\"transparent\" points=\"147.5,-53 147.5,-77 216.5,-77 216.5,-53 147.5,-53\"/>\n",
       "<text text-anchor=\"start\" x=\"171.5\" y=\"-62.6\" font-family=\"-apple-system, BlinkMacSystemFont, 'Segoe UI', Helvetica, Arial, sans-serif, 'Apple Color Emoji', 'Segoe UI Emoji', 'Segoe UI Symbol'\" font-style=\"italic\" font-size=\"13.00\">double</text>\n",
       "<polygon fill=\"#f5f5f5\" stroke=\"transparent\" points=\"9.5,-29 9.5,-53 41.5,-53 41.5,-29 9.5,-29\"/>\n",
       "<polygon fill=\"#f5f5f5\" stroke=\"transparent\" points=\"41.5,-29 41.5,-53 147.5,-53 147.5,-29 41.5,-29\"/>\n",
       "<text text-anchor=\"start\" x=\"46.5\" y=\"-37.6\" font-family=\"-apple-system, BlinkMacSystemFont, 'Segoe UI', Helvetica, Arial, sans-serif, 'Apple Color Emoji', 'Segoe UI Emoji', 'Segoe UI Symbol'\" font-size=\"13.00\">DetachPoint</text>\n",
       "<polygon fill=\"#f5f5f5\" stroke=\"transparent\" points=\"147.5,-29 147.5,-53 216.5,-53 216.5,-29 147.5,-29\"/>\n",
       "<text text-anchor=\"start\" x=\"171.5\" y=\"-38.6\" font-family=\"-apple-system, BlinkMacSystemFont, 'Segoe UI', Helvetica, Arial, sans-serif, 'Apple Color Emoji', 'Segoe UI Emoji', 'Segoe UI Symbol'\" font-style=\"italic\" font-size=\"13.00\">double</text>\n",
       "<polygon fill=\"#ffffff\" stroke=\"transparent\" points=\"9.5,-5 9.5,-29 41.5,-29 41.5,-5 9.5,-5\"/>\n",
       "<polygon fill=\"#ffffff\" stroke=\"transparent\" points=\"41.5,-5 41.5,-29 147.5,-29 147.5,-5 41.5,-5\"/>\n",
       "<text text-anchor=\"start\" x=\"46.5\" y=\"-13.6\" font-family=\"-apple-system, BlinkMacSystemFont, 'Segoe UI', Helvetica, Arial, sans-serif, 'Apple Color Emoji', 'Segoe UI Emoji', 'Segoe UI Symbol'\" font-size=\"13.00\">IsCDO</text>\n",
       "<polygon fill=\"#ffffff\" stroke=\"transparent\" points=\"147.5,-5 147.5,-29 216.5,-29 216.5,-5 147.5,-5\"/>\n",
       "<text text-anchor=\"start\" x=\"177.5\" y=\"-14.6\" font-family=\"-apple-system, BlinkMacSystemFont, 'Segoe UI', Helvetica, Arial, sans-serif, 'Apple Color Emoji', 'Segoe UI Emoji', 'Segoe UI Symbol'\" font-style=\"italic\" font-size=\"13.00\">String</text>\n",
       "<polygon fill=\"none\" stroke=\"black\" points=\"8,-4 8,-510 217,-510 217,-4 8,-4\"/>\n",
       "</g>\n",
       "<!-- NettingSets -->\n",
       "<g id=\"node2\" class=\"node\">\n",
       "<title>NettingSets</title>\n",
       "<text text-anchor=\"start\" x=\"522\" y=\"-594.6\" font-family=\"-apple-system, BlinkMacSystemFont, 'Segoe UI', Helvetica, Arial, sans-serif, 'Apple Color Emoji', 'Segoe UI Emoji', 'Segoe UI Symbol'\" font-weight=\"bold\" font-size=\"13.00\">NettingSets</text>\n",
       "<polygon fill=\"#f5f5f5\" stroke=\"transparent\" points=\"460,-561 460,-585 492,-585 492,-561 460,-561\"/>\n",
       "<text text-anchor=\"start\" x=\"465\" y=\"-570.6\" font-family=\"-apple-system, BlinkMacSystemFont, 'Segoe UI', Helvetica, Arial, sans-serif, 'Apple Color Emoji', 'Segoe UI Emoji', 'Segoe UI Symbol'\" font-weight=\"bold\" font-size=\"13.00\">key</text>\n",
       "<polygon fill=\"#f5f5f5\" stroke=\"transparent\" points=\"492,-561 492,-585 588,-585 588,-561 492,-561\"/>\n",
       "<text text-anchor=\"start\" x=\"497\" y=\"-569.6\" font-family=\"-apple-system, BlinkMacSystemFont, 'Segoe UI', Helvetica, Arial, sans-serif, 'Apple Color Emoji', 'Segoe UI Emoji', 'Segoe UI Symbol'\" font-size=\"13.00\">AsOfDate</text>\n",
       "<polygon fill=\"#f5f5f5\" stroke=\"transparent\" points=\"588,-561 588,-585 657,-585 657,-561 588,-561\"/>\n",
       "<text text-anchor=\"start\" x=\"593\" y=\"-570.6\" font-family=\"-apple-system, BlinkMacSystemFont, 'Segoe UI', Helvetica, Arial, sans-serif, 'Apple Color Emoji', 'Segoe UI Emoji', 'Segoe UI Symbol'\" font-style=\"italic\" font-size=\"13.00\">LocalDate</text>\n",
       "<polygon fill=\"#ffffff\" stroke=\"transparent\" points=\"460,-537 460,-561 492,-561 492,-537 460,-537\"/>\n",
       "<text text-anchor=\"start\" x=\"465\" y=\"-546.6\" font-family=\"-apple-system, BlinkMacSystemFont, 'Segoe UI', Helvetica, Arial, sans-serif, 'Apple Color Emoji', 'Segoe UI Emoji', 'Segoe UI Symbol'\" font-weight=\"bold\" font-size=\"13.00\">key</text>\n",
       "<polygon fill=\"#ffffff\" stroke=\"transparent\" points=\"492,-537 492,-561 588,-561 588,-537 492,-537\"/>\n",
       "<text text-anchor=\"start\" x=\"497\" y=\"-545.6\" font-family=\"-apple-system, BlinkMacSystemFont, 'Segoe UI', Helvetica, Arial, sans-serif, 'Apple Color Emoji', 'Segoe UI Emoji', 'Segoe UI Symbol'\" font-size=\"13.00\">NettingSetId</text>\n",
       "<polygon fill=\"#ffffff\" stroke=\"transparent\" points=\"588,-537 588,-561 657,-561 657,-537 588,-537\"/>\n",
       "<text text-anchor=\"start\" x=\"618\" y=\"-546.6\" font-family=\"-apple-system, BlinkMacSystemFont, 'Segoe UI', Helvetica, Arial, sans-serif, 'Apple Color Emoji', 'Segoe UI Emoji', 'Segoe UI Symbol'\" font-style=\"italic\" font-size=\"13.00\">String</text>\n",
       "<polygon fill=\"#f5f5f5\" stroke=\"transparent\" points=\"460,-513 460,-537 492,-537 492,-513 460,-513\"/>\n",
       "<polygon fill=\"#f5f5f5\" stroke=\"transparent\" points=\"492,-513 492,-537 588,-537 588,-513 492,-513\"/>\n",
       "<text text-anchor=\"start\" x=\"497\" y=\"-521.6\" font-family=\"-apple-system, BlinkMacSystemFont, 'Segoe UI', Helvetica, Arial, sans-serif, 'Apple Color Emoji', 'Segoe UI Emoji', 'Segoe UI Symbol'\" font-size=\"13.00\">CounterpartyId</text>\n",
       "<polygon fill=\"#f5f5f5\" stroke=\"transparent\" points=\"588,-513 588,-537 657,-537 657,-513 588,-513\"/>\n",
       "<text text-anchor=\"start\" x=\"618\" y=\"-522.6\" font-family=\"-apple-system, BlinkMacSystemFont, 'Segoe UI', Helvetica, Arial, sans-serif, 'Apple Color Emoji', 'Segoe UI Emoji', 'Segoe UI Symbol'\" font-style=\"italic\" font-size=\"13.00\">String</text>\n",
       "<polygon fill=\"#ffffff\" stroke=\"transparent\" points=\"460,-489 460,-513 492,-513 492,-489 460,-489\"/>\n",
       "<polygon fill=\"#ffffff\" stroke=\"transparent\" points=\"492,-489 492,-513 588,-513 588,-489 492,-489\"/>\n",
       "<text text-anchor=\"start\" x=\"497\" y=\"-497.6\" font-family=\"-apple-system, BlinkMacSystemFont, 'Segoe UI', Helvetica, Arial, sans-serif, 'Apple Color Emoji', 'Segoe UI Emoji', 'Segoe UI Symbol'\" font-size=\"13.00\">MPOR</text>\n",
       "<polygon fill=\"#ffffff\" stroke=\"transparent\" points=\"588,-489 588,-513 657,-513 657,-489 588,-489\"/>\n",
       "<text text-anchor=\"start\" x=\"612\" y=\"-498.6\" font-family=\"-apple-system, BlinkMacSystemFont, 'Segoe UI', Helvetica, Arial, sans-serif, 'Apple Color Emoji', 'Segoe UI Emoji', 'Segoe UI Symbol'\" font-style=\"italic\" font-size=\"13.00\">double</text>\n",
       "<polygon fill=\"#f5f5f5\" stroke=\"transparent\" points=\"460,-465 460,-489 492,-489 492,-465 460,-465\"/>\n",
       "<polygon fill=\"#f5f5f5\" stroke=\"transparent\" points=\"492,-465 492,-489 588,-489 588,-465 492,-465\"/>\n",
       "<text text-anchor=\"start\" x=\"497\" y=\"-473.6\" font-family=\"-apple-system, BlinkMacSystemFont, 'Segoe UI', Helvetica, Arial, sans-serif, 'Apple Color Emoji', 'Segoe UI Emoji', 'Segoe UI Symbol'\" font-size=\"13.00\">Collateral</text>\n",
       "<polygon fill=\"#f5f5f5\" stroke=\"transparent\" points=\"588,-465 588,-489 657,-489 657,-465 588,-465\"/>\n",
       "<text text-anchor=\"start\" x=\"612\" y=\"-474.6\" font-family=\"-apple-system, BlinkMacSystemFont, 'Segoe UI', Helvetica, Arial, sans-serif, 'Apple Color Emoji', 'Segoe UI Emoji', 'Segoe UI Symbol'\" font-style=\"italic\" font-size=\"13.00\">double</text>\n",
       "<polygon fill=\"#ffffff\" stroke=\"transparent\" points=\"460,-441 460,-465 492,-465 492,-441 460,-441\"/>\n",
       "<polygon fill=\"#ffffff\" stroke=\"transparent\" points=\"492,-441 492,-465 588,-465 588,-441 492,-441\"/>\n",
       "<text text-anchor=\"start\" x=\"497\" y=\"-449.6\" font-family=\"-apple-system, BlinkMacSystemFont, 'Segoe UI', Helvetica, Arial, sans-serif, 'Apple Color Emoji', 'Segoe UI Emoji', 'Segoe UI Symbol'\" font-size=\"13.00\">NICA</text>\n",
       "<polygon fill=\"#ffffff\" stroke=\"transparent\" points=\"588,-441 588,-465 657,-465 657,-441 588,-441\"/>\n",
       "<text text-anchor=\"start\" x=\"612\" y=\"-450.6\" font-family=\"-apple-system, BlinkMacSystemFont, 'Segoe UI', Helvetica, Arial, sans-serif, 'Apple Color Emoji', 'Segoe UI Emoji', 'Segoe UI Symbol'\" font-style=\"italic\" font-size=\"13.00\">double</text>\n",
       "<polygon fill=\"#f5f5f5\" stroke=\"transparent\" points=\"460,-417 460,-441 492,-441 492,-417 460,-417\"/>\n",
       "<polygon fill=\"#f5f5f5\" stroke=\"transparent\" points=\"492,-417 492,-441 588,-441 588,-417 492,-417\"/>\n",
       "<text text-anchor=\"start\" x=\"497\" y=\"-425.6\" font-family=\"-apple-system, BlinkMacSystemFont, 'Segoe UI', Helvetica, Arial, sans-serif, 'Apple Color Emoji', 'Segoe UI Emoji', 'Segoe UI Symbol'\" font-size=\"13.00\">TH</text>\n",
       "<polygon fill=\"#f5f5f5\" stroke=\"transparent\" points=\"588,-417 588,-441 657,-441 657,-417 588,-417\"/>\n",
       "<text text-anchor=\"start\" x=\"612\" y=\"-426.6\" font-family=\"-apple-system, BlinkMacSystemFont, 'Segoe UI', Helvetica, Arial, sans-serif, 'Apple Color Emoji', 'Segoe UI Emoji', 'Segoe UI Symbol'\" font-style=\"italic\" font-size=\"13.00\">double</text>\n",
       "<polygon fill=\"#ffffff\" stroke=\"transparent\" points=\"460,-393 460,-417 492,-417 492,-393 460,-393\"/>\n",
       "<polygon fill=\"#ffffff\" stroke=\"transparent\" points=\"492,-393 492,-417 588,-417 588,-393 492,-393\"/>\n",
       "<text text-anchor=\"start\" x=\"497\" y=\"-401.6\" font-family=\"-apple-system, BlinkMacSystemFont, 'Segoe UI', Helvetica, Arial, sans-serif, 'Apple Color Emoji', 'Segoe UI Emoji', 'Segoe UI Symbol'\" font-size=\"13.00\">MTA</text>\n",
       "<polygon fill=\"#ffffff\" stroke=\"transparent\" points=\"588,-393 588,-417 657,-417 657,-393 588,-393\"/>\n",
       "<text text-anchor=\"start\" x=\"612\" y=\"-402.6\" font-family=\"-apple-system, BlinkMacSystemFont, 'Segoe UI', Helvetica, Arial, sans-serif, 'Apple Color Emoji', 'Segoe UI Emoji', 'Segoe UI Symbol'\" font-style=\"italic\" font-size=\"13.00\">double</text>\n",
       "<polygon fill=\"#f5f5f5\" stroke=\"transparent\" points=\"460,-369 460,-393 492,-393 492,-369 460,-369\"/>\n",
       "<polygon fill=\"#f5f5f5\" stroke=\"transparent\" points=\"492,-369 492,-393 588,-393 588,-369 492,-369\"/>\n",
       "<text text-anchor=\"start\" x=\"497\" y=\"-377.6\" font-family=\"-apple-system, BlinkMacSystemFont, 'Segoe UI', Helvetica, Arial, sans-serif, 'Apple Color Emoji', 'Segoe UI Emoji', 'Segoe UI Symbol'\" font-size=\"13.00\">isMargined</text>\n",
       "<polygon fill=\"#f5f5f5\" stroke=\"transparent\" points=\"588,-369 588,-393 657,-393 657,-369 588,-369\"/>\n",
       "<text text-anchor=\"start\" x=\"618\" y=\"-378.6\" font-family=\"-apple-system, BlinkMacSystemFont, 'Segoe UI', Helvetica, Arial, sans-serif, 'Apple Color Emoji', 'Segoe UI Emoji', 'Segoe UI Symbol'\" font-style=\"italic\" font-size=\"13.00\">String</text>\n",
       "<polygon fill=\"none\" stroke=\"black\" points=\"458.5,-368 458.5,-610 657.5,-610 657.5,-368 458.5,-368\"/>\n",
       "</g>\n",
       "<!-- Trades&#45;&gt;NettingSets -->\n",
       "<g id=\"edge3\" class=\"edge\">\n",
       "<title>Trades-&gt;NettingSets</title>\n",
       "<path fill=\"none\" stroke=\"black\" d=\"M225.13,-315.39C291.19,-349.95 374.72,-393.65 441.45,-428.56\"/>\n",
       "<polygon fill=\"black\" stroke=\"black\" points=\"439.85,-431.67 450.34,-433.2 443.1,-425.47 439.85,-431.67\"/>\n",
       "<text text-anchor=\"middle\" x=\"325\" y=\"-424.6\" font-family=\"-apple-system, BlinkMacSystemFont, 'Segoe UI', Helvetica, Arial, sans-serif, 'Apple Color Emoji', 'Segoe UI Emoji', 'Segoe UI Symbol'\" font-size=\"13.00\">AsOfDate → AsOfDate</text>\n",
       "<text text-anchor=\"middle\" x=\"325\" y=\"-410.6\" font-family=\"-apple-system, BlinkMacSystemFont, 'Segoe UI', Helvetica, Arial, sans-serif, 'Apple Color Emoji', 'Segoe UI Emoji', 'Segoe UI Symbol'\" font-size=\"13.00\">NettingSetId → NettingSetId</text>\n",
       "</g>\n",
       "<!-- Parameters -->\n",
       "<g id=\"node3\" class=\"node\">\n",
       "<title>Parameters</title>\n",
       "<text text-anchor=\"start\" x=\"522.5\" y=\"-326.6\" font-family=\"-apple-system, BlinkMacSystemFont, 'Segoe UI', Helvetica, Arial, sans-serif, 'Apple Color Emoji', 'Segoe UI Emoji', 'Segoe UI Symbol'\" font-weight=\"bold\" font-size=\"13.00\">Parameters</text>\n",
       "<polygon fill=\"#f5f5f5\" stroke=\"transparent\" points=\"434,-293 434,-317 466,-317 466,-293 434,-293\"/>\n",
       "<text text-anchor=\"start\" x=\"439\" y=\"-302.6\" font-family=\"-apple-system, BlinkMacSystemFont, 'Segoe UI', Helvetica, Arial, sans-serif, 'Apple Color Emoji', 'Segoe UI Emoji', 'Segoe UI Symbol'\" font-weight=\"bold\" font-size=\"13.00\">key</text>\n",
       "<polygon fill=\"#f5f5f5\" stroke=\"transparent\" points=\"466,-293 466,-317 632,-317 632,-293 466,-293\"/>\n",
       "<text text-anchor=\"start\" x=\"471\" y=\"-301.6\" font-family=\"-apple-system, BlinkMacSystemFont, 'Segoe UI', Helvetica, Arial, sans-serif, 'Apple Color Emoji', 'Segoe UI Emoji', 'Segoe UI Symbol'\" font-size=\"13.00\">AssetClass</text>\n",
       "<polygon fill=\"#f5f5f5\" stroke=\"transparent\" points=\"632,-293 632,-317 682,-317 682,-293 632,-293\"/>\n",
       "<text text-anchor=\"start\" x=\"643\" y=\"-302.6\" font-family=\"-apple-system, BlinkMacSystemFont, 'Segoe UI', Helvetica, Arial, sans-serif, 'Apple Color Emoji', 'Segoe UI Emoji', 'Segoe UI Symbol'\" font-style=\"italic\" font-size=\"13.00\">String</text>\n",
       "<polygon fill=\"#ffffff\" stroke=\"transparent\" points=\"434,-269 434,-293 466,-293 466,-269 434,-269\"/>\n",
       "<text text-anchor=\"start\" x=\"439\" y=\"-278.6\" font-family=\"-apple-system, BlinkMacSystemFont, 'Segoe UI', Helvetica, Arial, sans-serif, 'Apple Color Emoji', 'Segoe UI Emoji', 'Segoe UI Symbol'\" font-weight=\"bold\" font-size=\"13.00\">key</text>\n",
       "<polygon fill=\"#ffffff\" stroke=\"transparent\" points=\"466,-269 466,-293 632,-293 632,-269 466,-269\"/>\n",
       "<text text-anchor=\"start\" x=\"471\" y=\"-277.6\" font-family=\"-apple-system, BlinkMacSystemFont, 'Segoe UI', Helvetica, Arial, sans-serif, 'Apple Color Emoji', 'Segoe UI Emoji', 'Segoe UI Symbol'\" font-size=\"13.00\">SubClass</text>\n",
       "<polygon fill=\"#ffffff\" stroke=\"transparent\" points=\"632,-269 632,-293 682,-293 682,-269 632,-269\"/>\n",
       "<text text-anchor=\"start\" x=\"643\" y=\"-278.6\" font-family=\"-apple-system, BlinkMacSystemFont, 'Segoe UI', Helvetica, Arial, sans-serif, 'Apple Color Emoji', 'Segoe UI Emoji', 'Segoe UI Symbol'\" font-style=\"italic\" font-size=\"13.00\">String</text>\n",
       "<polygon fill=\"#f5f5f5\" stroke=\"transparent\" points=\"434,-245 434,-269 466,-269 466,-245 434,-245\"/>\n",
       "<polygon fill=\"#f5f5f5\" stroke=\"transparent\" points=\"466,-245 466,-269 632,-269 632,-245 466,-245\"/>\n",
       "<text text-anchor=\"start\" x=\"471\" y=\"-253.6\" font-family=\"-apple-system, BlinkMacSystemFont, 'Segoe UI', Helvetica, Arial, sans-serif, 'Apple Color Emoji', 'Segoe UI Emoji', 'Segoe UI Symbol'\" font-size=\"13.00\">SupervisoryFactor</text>\n",
       "<polygon fill=\"#f5f5f5\" stroke=\"transparent\" points=\"632,-245 632,-269 682,-269 682,-245 632,-245\"/>\n",
       "<text text-anchor=\"start\" x=\"637\" y=\"-254.6\" font-family=\"-apple-system, BlinkMacSystemFont, 'Segoe UI', Helvetica, Arial, sans-serif, 'Apple Color Emoji', 'Segoe UI Emoji', 'Segoe UI Symbol'\" font-style=\"italic\" font-size=\"13.00\">double</text>\n",
       "<polygon fill=\"#ffffff\" stroke=\"transparent\" points=\"434,-221 434,-245 466,-245 466,-221 434,-221\"/>\n",
       "<polygon fill=\"#ffffff\" stroke=\"transparent\" points=\"466,-221 466,-245 632,-245 632,-221 466,-221\"/>\n",
       "<text text-anchor=\"start\" x=\"471\" y=\"-229.6\" font-family=\"-apple-system, BlinkMacSystemFont, 'Segoe UI', Helvetica, Arial, sans-serif, 'Apple Color Emoji', 'Segoe UI Emoji', 'Segoe UI Symbol'\" font-size=\"13.00\">Correlation</text>\n",
       "<polygon fill=\"#ffffff\" stroke=\"transparent\" points=\"632,-221 632,-245 682,-245 682,-221 632,-221\"/>\n",
       "<text text-anchor=\"start\" x=\"637\" y=\"-230.6\" font-family=\"-apple-system, BlinkMacSystemFont, 'Segoe UI', Helvetica, Arial, sans-serif, 'Apple Color Emoji', 'Segoe UI Emoji', 'Segoe UI Symbol'\" font-style=\"italic\" font-size=\"13.00\">double</text>\n",
       "<polygon fill=\"#f5f5f5\" stroke=\"transparent\" points=\"434,-197 434,-221 466,-221 466,-197 434,-197\"/>\n",
       "<polygon fill=\"#f5f5f5\" stroke=\"transparent\" points=\"466,-197 466,-221 632,-221 632,-197 466,-197\"/>\n",
       "<text text-anchor=\"start\" x=\"471\" y=\"-205.6\" font-family=\"-apple-system, BlinkMacSystemFont, 'Segoe UI', Helvetica, Arial, sans-serif, 'Apple Color Emoji', 'Segoe UI Emoji', 'Segoe UI Symbol'\" font-size=\"13.00\">SupervisoryOptionVolatility</text>\n",
       "<polygon fill=\"#f5f5f5\" stroke=\"transparent\" points=\"632,-197 632,-221 682,-221 682,-197 632,-197\"/>\n",
       "<text text-anchor=\"start\" x=\"637\" y=\"-206.6\" font-family=\"-apple-system, BlinkMacSystemFont, 'Segoe UI', Helvetica, Arial, sans-serif, 'Apple Color Emoji', 'Segoe UI Emoji', 'Segoe UI Symbol'\" font-style=\"italic\" font-size=\"13.00\">double</text>\n",
       "<polygon fill=\"#ffffff\" stroke=\"transparent\" points=\"434,-173 434,-197 466,-197 466,-173 434,-173\"/>\n",
       "<polygon fill=\"#ffffff\" stroke=\"transparent\" points=\"466,-173 466,-197 632,-197 632,-173 466,-173\"/>\n",
       "<text text-anchor=\"start\" x=\"471\" y=\"-181.6\" font-family=\"-apple-system, BlinkMacSystemFont, 'Segoe UI', Helvetica, Arial, sans-serif, 'Apple Color Emoji', 'Segoe UI Emoji', 'Segoe UI Symbol'\" font-size=\"13.00\">HS</text>\n",
       "<polygon fill=\"#ffffff\" stroke=\"transparent\" points=\"632,-173 632,-197 682,-197 682,-173 632,-173\"/>\n",
       "<text text-anchor=\"start\" x=\"643\" y=\"-182.6\" font-family=\"-apple-system, BlinkMacSystemFont, 'Segoe UI', Helvetica, Arial, sans-serif, 'Apple Color Emoji', 'Segoe UI Emoji', 'Segoe UI Symbol'\" font-style=\"italic\" font-size=\"13.00\">String</text>\n",
       "<polygon fill=\"none\" stroke=\"black\" points=\"433,-172 433,-342 683,-342 683,-172 433,-172\"/>\n",
       "</g>\n",
       "<!-- Trades&#45;&gt;Parameters -->\n",
       "<g id=\"edge2\" class=\"edge\">\n",
       "<title>Trades-&gt;Parameters</title>\n",
       "<path fill=\"none\" stroke=\"black\" d=\"M225.13,-257C282.61,-257 353.33,-257 414.7,-257\"/>\n",
       "<polygon fill=\"black\" stroke=\"black\" points=\"414.85,-260.5 424.85,-257 414.85,-253.5 414.85,-260.5\"/>\n",
       "<text text-anchor=\"middle\" x=\"325\" y=\"-274.6\" font-family=\"-apple-system, BlinkMacSystemFont, 'Segoe UI', Helvetica, Arial, sans-serif, 'Apple Color Emoji', 'Segoe UI Emoji', 'Segoe UI Symbol'\" font-size=\"13.00\">SubClass → SubClass</text>\n",
       "<text text-anchor=\"middle\" x=\"325\" y=\"-260.6\" font-family=\"-apple-system, BlinkMacSystemFont, 'Segoe UI', Helvetica, Arial, sans-serif, 'Apple Color Emoji', 'Segoe UI Emoji', 'Segoe UI Symbol'\" font-size=\"13.00\">AssetClass → AssetClass</text>\n",
       "</g>\n",
       "<!-- BookStructure -->\n",
       "<g id=\"node4\" class=\"node\">\n",
       "<title>BookStructure</title>\n",
       "<text text-anchor=\"start\" x=\"513\" y=\"-130.6\" font-family=\"-apple-system, BlinkMacSystemFont, 'Segoe UI', Helvetica, Arial, sans-serif, 'Apple Color Emoji', 'Segoe UI Emoji', 'Segoe UI Symbol'\" font-weight=\"bold\" font-size=\"13.00\">BookStructure</text>\n",
       "<polygon fill=\"#f5f5f5\" stroke=\"transparent\" points=\"465,-97 465,-121 497,-121 497,-97 465,-97\"/>\n",
       "<text text-anchor=\"start\" x=\"470\" y=\"-106.6\" font-family=\"-apple-system, BlinkMacSystemFont, 'Segoe UI', Helvetica, Arial, sans-serif, 'Apple Color Emoji', 'Segoe UI Emoji', 'Segoe UI Symbol'\" font-weight=\"bold\" font-size=\"13.00\">key</text>\n",
       "<polygon fill=\"#f5f5f5\" stroke=\"transparent\" points=\"497,-97 497,-121 583,-121 583,-97 497,-97\"/>\n",
       "<text text-anchor=\"start\" x=\"502\" y=\"-105.6\" font-family=\"-apple-system, BlinkMacSystemFont, 'Segoe UI', Helvetica, Arial, sans-serif, 'Apple Color Emoji', 'Segoe UI Emoji', 'Segoe UI Symbol'\" font-size=\"13.00\">AsOfDate</text>\n",
       "<polygon fill=\"#f5f5f5\" stroke=\"transparent\" points=\"583,-97 583,-121 652,-121 652,-97 583,-97\"/>\n",
       "<text text-anchor=\"start\" x=\"588\" y=\"-106.6\" font-family=\"-apple-system, BlinkMacSystemFont, 'Segoe UI', Helvetica, Arial, sans-serif, 'Apple Color Emoji', 'Segoe UI Emoji', 'Segoe UI Symbol'\" font-style=\"italic\" font-size=\"13.00\">LocalDate</text>\n",
       "<polygon fill=\"#ffffff\" stroke=\"transparent\" points=\"465,-73 465,-97 497,-97 497,-73 465,-73\"/>\n",
       "<text text-anchor=\"start\" x=\"470\" y=\"-82.6\" font-family=\"-apple-system, BlinkMacSystemFont, 'Segoe UI', Helvetica, Arial, sans-serif, 'Apple Color Emoji', 'Segoe UI Emoji', 'Segoe UI Symbol'\" font-weight=\"bold\" font-size=\"13.00\">key</text>\n",
       "<polygon fill=\"#ffffff\" stroke=\"transparent\" points=\"497,-73 497,-97 583,-97 583,-73 497,-73\"/>\n",
       "<text text-anchor=\"start\" x=\"502\" y=\"-81.6\" font-family=\"-apple-system, BlinkMacSystemFont, 'Segoe UI', Helvetica, Arial, sans-serif, 'Apple Color Emoji', 'Segoe UI Emoji', 'Segoe UI Symbol'\" font-size=\"13.00\">BookId</text>\n",
       "<polygon fill=\"#ffffff\" stroke=\"transparent\" points=\"583,-73 583,-97 652,-97 652,-73 583,-73\"/>\n",
       "<text text-anchor=\"start\" x=\"613\" y=\"-82.6\" font-family=\"-apple-system, BlinkMacSystemFont, 'Segoe UI', Helvetica, Arial, sans-serif, 'Apple Color Emoji', 'Segoe UI Emoji', 'Segoe UI Symbol'\" font-style=\"italic\" font-size=\"13.00\">String</text>\n",
       "<polygon fill=\"#f5f5f5\" stroke=\"transparent\" points=\"465,-49 465,-73 497,-73 497,-49 465,-49\"/>\n",
       "<polygon fill=\"#f5f5f5\" stroke=\"transparent\" points=\"497,-49 497,-73 583,-73 583,-49 497,-49\"/>\n",
       "<text text-anchor=\"start\" x=\"502\" y=\"-57.6\" font-family=\"-apple-system, BlinkMacSystemFont, 'Segoe UI', Helvetica, Arial, sans-serif, 'Apple Color Emoji', 'Segoe UI Emoji', 'Segoe UI Symbol'\" font-size=\"13.00\">BusinessUnit</text>\n",
       "<polygon fill=\"#f5f5f5\" stroke=\"transparent\" points=\"583,-49 583,-73 652,-73 652,-49 583,-49\"/>\n",
       "<text text-anchor=\"start\" x=\"613\" y=\"-58.6\" font-family=\"-apple-system, BlinkMacSystemFont, 'Segoe UI', Helvetica, Arial, sans-serif, 'Apple Color Emoji', 'Segoe UI Emoji', 'Segoe UI Symbol'\" font-style=\"italic\" font-size=\"13.00\">String</text>\n",
       "<polygon fill=\"none\" stroke=\"black\" points=\"463.5,-48 463.5,-146 652.5,-146 652.5,-48 463.5,-48\"/>\n",
       "</g>\n",
       "<!-- Trades&#45;&gt;BookStructure -->\n",
       "<g id=\"edge1\" class=\"edge\">\n",
       "<title>Trades-&gt;BookStructure</title>\n",
       "<path fill=\"none\" stroke=\"black\" d=\"M225.13,-216.73C292.51,-192.42 378.07,-161.55 445.43,-137.25\"/>\n",
       "<polygon fill=\"black\" stroke=\"black\" points=\"447.02,-140.4 455.24,-133.71 444.64,-133.81 447.02,-140.4\"/>\n",
       "<text text-anchor=\"middle\" x=\"325\" y=\"-226.6\" font-family=\"-apple-system, BlinkMacSystemFont, 'Segoe UI', Helvetica, Arial, sans-serif, 'Apple Color Emoji', 'Segoe UI Emoji', 'Segoe UI Symbol'\" font-size=\"13.00\">AsOfDate → AsOfDate</text>\n",
       "<text text-anchor=\"middle\" x=\"325\" y=\"-212.6\" font-family=\"-apple-system, BlinkMacSystemFont, 'Segoe UI', Helvetica, Arial, sans-serif, 'Apple Color Emoji', 'Segoe UI Emoji', 'Segoe UI Symbol'\" font-size=\"13.00\">BookId → BookId</text>\n",
       "</g>\n",
       "</g>\n",
       "</svg>"
      ],
      "text/plain": [
       "<IPython.core.display.SVG object>"
      ]
     },
     "execution_count": 63,
     "metadata": {},
     "output_type": "execute_result"
    }
   ],
   "source": [
    "cube.schema"
   ]
  },
  {
   "cell_type": "markdown",
   "metadata": {},
   "source": [
    "Breaking down EAD by organizational structure, for example by book we'll obtain standalone calculation for each book. Since the EAD aggregation is not linear, sum of elements is not equal to the calculation across Books. Continue reading to learn how to create measures for contribution analysis."
   ]
  },
  {
   "cell_type": "code",
   "execution_count": 64,
   "metadata": {},
   "outputs": [
    {
     "data": {
      "text/plain": [
       "3190859675.5486298"
      ]
     },
     "execution_count": 64,
     "metadata": {},
     "output_type": "execute_result"
    }
   ],
   "source": [
    "sum(cube.query(m[\"EAD\"], levels=[lvl[\"BookId\"]])[\"EAD\"])"
   ]
  },
  {
   "cell_type": "code",
   "execution_count": 65,
   "metadata": {},
   "outputs": [
    {
     "data": {
      "application/vnd.atoti.query-result.v0+json": {
       "context": {
        "queriesTimeLimit": 30
       },
       "createEquivalentWidgetCode": "cube.visualize()",
       "mdx": "SELECT [Measures].[EAD] ON COLUMNS FROM [SA-CCR]"
      },
      "text/html": [
       "<div>\n",
       "<style scoped>\n",
       "    .dataframe tbody tr th:only-of-type {\n",
       "        vertical-align: middle;\n",
       "    }\n",
       "\n",
       "    .dataframe tbody tr th {\n",
       "        vertical-align: top;\n",
       "    }\n",
       "\n",
       "    .dataframe thead th {\n",
       "        text-align: right;\n",
       "    }\n",
       "</style>\n",
       "<table border=\"1\" class=\"dataframe\">\n",
       "  <thead>\n",
       "    <tr style=\"text-align: right;\">\n",
       "      <th></th>\n",
       "      <th>EAD</th>\n",
       "    </tr>\n",
       "  </thead>\n",
       "  <tbody>\n",
       "    <tr>\n",
       "      <th>0</th>\n",
       "      <td>2,352,743,030</td>\n",
       "    </tr>\n",
       "  </tbody>\n",
       "</table>\n",
       "</div>"
      ],
      "text/plain": [
       "             EAD\n",
       "0  2,352,743,030"
      ]
     },
     "execution_count": 65,
     "metadata": {},
     "output_type": "execute_result"
    }
   ],
   "source": [
    "cube.query(m[\"EAD\"])"
   ]
  },
  {
   "cell_type": "markdown",
   "metadata": {},
   "source": [
    "# Pro-rata allocation"
   ]
  },
  {
   "cell_type": "markdown",
   "metadata": {},
   "source": [
    "In the previous section we saw that breaking EAD down by book will result in \"standalone\" calculations, and since EAD is a non-linear measure, sum of EAD by book is not equal to the EAD calculated for the global portfolio. We may want to implement an allocation methodology for EAD. There multiple methodologies you could choose for evaluating the contribution, let's use \"pro-rata\" allocation as an illustrative example.\n",
    "\n",
    "The measure \"EAD Pro-Rata\" will display the contribution of a business unit into EAD for the global portfolio based on the proportion of EAD for that unit and sum of EADs for all units."
   ]
  },
  {
   "cell_type": "code",
   "execution_count": 66,
   "metadata": {},
   "outputs": [],
   "source": [
    "# For each Book, the weight is a ratio of EAD and EAD across books.\n",
    "m[\"EAD_sum_by_book\"] = tt.agg.sum(m[\"EAD\"], scope=tt.scope.siblings(h[\"BookId\"]))\n",
    "m[\"Book_weight\"] = m[\"EAD\"] / m[\"EAD_sum_by_book\"]\n",
    "m[\"EAD_across_books\"] = tt.parent_value(\n",
    "    m[\"EAD\"], h[\"BookId\"], degree=1, total_value=m[\"EAD\"], apply_filters=True\n",
    ")\n",
    "\n",
    "m[\"EAD Pro-Rata\"] = m[\"Book_weight\"] * m[\"EAD_across_books\"]"
   ]
  },
  {
   "cell_type": "code",
   "execution_count": 67,
   "metadata": {},
   "outputs": [
    {
     "data": {
      "text/plain": [
       "'http://localhost:59522'"
      ]
     },
     "execution_count": 67,
     "metadata": {},
     "output_type": "execute_result"
    }
   ],
   "source": [
    "session.url"
   ]
  },
  {
   "cell_type": "markdown",
   "metadata": {},
   "source": [
    "# Simulations"
   ]
  },
  {
   "cell_type": "markdown",
   "metadata": {},
   "source": [
    "atoti provides a powerful simulation framework. \n",
    "\n",
    "Below we will explore a few examples of uploading alternative data into our app to instantly see the impact on the capital charge metrics."
   ]
  },
  {
   "cell_type": "markdown",
   "metadata": {},
   "source": [
    "## Simulation on supervisory parameters"
   ]
  },
  {
   "cell_type": "markdown",
   "metadata": {},
   "source": [
    "As a reminder, the Supervisory Option Volatility is a parameter in the Delta Adjustment calculation. Let's bring up the values using `cube.query`:"
   ]
  },
  {
   "cell_type": "code",
   "execution_count": 68,
   "metadata": {},
   "outputs": [
    {
     "data": {
      "application/vnd.atoti.query-result.v0+json": {
       "context": {
        "queriesTimeLimit": 30
       },
       "createEquivalentWidgetCode": "cube.visualize()",
       "mdx": "SELECT [Measures].[Supervisory_Option_Volatility] ON COLUMNS, NON EMPTY Crossjoin([Hierarchies].[AssetClass].[AssetClass].Members,[Hierarchies].[SubClass].[SubClass].Members) ON ROWS FROM [SA-CCR]"
      },
      "text/html": [
       "<div>\n",
       "<style scoped>\n",
       "    .dataframe tbody tr th:only-of-type {\n",
       "        vertical-align: middle;\n",
       "    }\n",
       "\n",
       "    .dataframe tbody tr th {\n",
       "        vertical-align: top;\n",
       "    }\n",
       "\n",
       "    .dataframe thead th {\n",
       "        text-align: right;\n",
       "    }\n",
       "</style>\n",
       "<table border=\"1\" class=\"dataframe\">\n",
       "  <thead>\n",
       "    <tr style=\"text-align: right;\">\n",
       "      <th></th>\n",
       "      <th></th>\n",
       "      <th>Supervisory_Option_Volatility</th>\n",
       "    </tr>\n",
       "    <tr>\n",
       "      <th>AssetClass</th>\n",
       "      <th>SubClass</th>\n",
       "      <th></th>\n",
       "    </tr>\n",
       "  </thead>\n",
       "  <tbody>\n",
       "    <tr>\n",
       "      <th rowspan=\"5\" valign=\"top\">CO</th>\n",
       "      <th>Agricultural</th>\n",
       "      <td>.7000</td>\n",
       "    </tr>\n",
       "    <tr>\n",
       "      <th>Electricity</th>\n",
       "      <td>1.5000</td>\n",
       "    </tr>\n",
       "    <tr>\n",
       "      <th>Metals</th>\n",
       "      <td>.7000</td>\n",
       "    </tr>\n",
       "    <tr>\n",
       "      <th>Oil/Gas</th>\n",
       "      <td>.7000</td>\n",
       "    </tr>\n",
       "    <tr>\n",
       "      <th>Other</th>\n",
       "      <td>.7000</td>\n",
       "    </tr>\n",
       "    <tr>\n",
       "      <th rowspan=\"2\" valign=\"top\">CR_IDX</th>\n",
       "      <th>IG</th>\n",
       "      <td>.8000</td>\n",
       "    </tr>\n",
       "    <tr>\n",
       "      <th>SG</th>\n",
       "      <td>.8000</td>\n",
       "    </tr>\n",
       "    <tr>\n",
       "      <th rowspan=\"7\" valign=\"top\">CR_SN</th>\n",
       "      <th>A</th>\n",
       "      <td>1.0000</td>\n",
       "    </tr>\n",
       "    <tr>\n",
       "      <th>AA</th>\n",
       "      <td>1.0000</td>\n",
       "    </tr>\n",
       "    <tr>\n",
       "      <th>AAA</th>\n",
       "      <td>1.0000</td>\n",
       "    </tr>\n",
       "    <tr>\n",
       "      <th>B</th>\n",
       "      <td>1.0000</td>\n",
       "    </tr>\n",
       "    <tr>\n",
       "      <th>BB</th>\n",
       "      <td>1.0000</td>\n",
       "    </tr>\n",
       "    <tr>\n",
       "      <th>BBB</th>\n",
       "      <td>1.0000</td>\n",
       "    </tr>\n",
       "    <tr>\n",
       "      <th>CCC</th>\n",
       "      <td>1.0000</td>\n",
       "    </tr>\n",
       "    <tr>\n",
       "      <th>EQ_SN</th>\n",
       "      <th>No SubClass</th>\n",
       "      <td>1.2000</td>\n",
       "    </tr>\n",
       "    <tr>\n",
       "      <th>FX</th>\n",
       "      <th>No SubClass</th>\n",
       "      <td>.1500</td>\n",
       "    </tr>\n",
       "    <tr>\n",
       "      <th>IR</th>\n",
       "      <th>No SubClass</th>\n",
       "      <td>.5000</td>\n",
       "    </tr>\n",
       "  </tbody>\n",
       "</table>\n",
       "</div>"
      ],
      "text/plain": [
       "                        Supervisory_Option_Volatility\n",
       "AssetClass SubClass                                  \n",
       "CO         Agricultural                         .7000\n",
       "           Electricity                         1.5000\n",
       "           Metals                               .7000\n",
       "           Oil/Gas                              .7000\n",
       "           Other                                .7000\n",
       "CR_IDX     IG                                   .8000\n",
       "           SG                                   .8000\n",
       "CR_SN      A                                   1.0000\n",
       "           AA                                  1.0000\n",
       "           AAA                                 1.0000\n",
       "           B                                   1.0000\n",
       "           BB                                  1.0000\n",
       "           BBB                                 1.0000\n",
       "           CCC                                 1.0000\n",
       "EQ_SN      No SubClass                         1.2000\n",
       "FX         No SubClass                          .1500\n",
       "IR         No SubClass                          .5000"
      ]
     },
     "execution_count": 68,
     "metadata": {},
     "output_type": "execute_result"
    }
   ],
   "source": [
    "cube.query(\n",
    "    m[\"Supervisory_Option_Volatility\"], levels=[lvl[\"AssetClass\"], lvl[\"SubClass\"]]\n",
    ")"
   ]
  },
  {
   "cell_type": "markdown",
   "metadata": {},
   "source": [
    "\"Measure simulations\" feature in atoti allow to configure `replace`, `multiply` and `add` actions on measures. In our case, we are creating a simulation to replace volatility values for different AssetClasses as follows:"
   ]
  },
  {
   "cell_type": "code",
   "execution_count": 69,
   "metadata": {},
   "outputs": [],
   "source": [
    "param_what_if = cube.setup_simulation(\n",
    "    \"Option Volatility What-If\",\n",
    "    replace=[m[\"Supervisory_Option_Volatility\"]],\n",
    "    levels=[lvl[\"AssetClass\"], lvl[\"SubClass\"]],\n",
    ")"
   ]
  },
  {
   "cell_type": "markdown",
   "metadata": {},
   "source": [
    "Having setup the simulation, we apply the changes we want in our experiment."
   ]
  },
  {
   "cell_type": "code",
   "execution_count": 70,
   "metadata": {},
   "outputs": [],
   "source": [
    "recalibration = param_what_if.scenarios[\"Volatility Recalibration\"]\n",
    "recalibration += (\"IR\", \"No SubClass\", 0.1)"
   ]
  },
  {
   "cell_type": "code",
   "execution_count": 71,
   "metadata": {},
   "outputs": [
    {
     "data": {
      "application/vnd.atoti.query-result.v0+json": {
       "context": {
        "queriesTimeLimit": 30
       },
       "createEquivalentWidgetCode": "cube.visualize()",
       "mdx": "SELECT [Measures].[Supervisory_Option_Volatility] ON COLUMNS, NON EMPTY Crossjoin([Hierarchies].[AssetClass].[AssetClass].Members,[Hierarchies].[SubClass].[SubClass].Members,[Measure Simulations].[Option Volatility What-If].[Option Volatility What-If].Members) ON ROWS FROM (SELECT ({[Hierarchies].[AssetClass].[ALL].[AllMember].[IR]}) ON COLUMNS FROM [SA-CCR])"
      },
      "text/html": [
       "<div>\n",
       "<style scoped>\n",
       "    .dataframe tbody tr th:only-of-type {\n",
       "        vertical-align: middle;\n",
       "    }\n",
       "\n",
       "    .dataframe tbody tr th {\n",
       "        vertical-align: top;\n",
       "    }\n",
       "\n",
       "    .dataframe thead th {\n",
       "        text-align: right;\n",
       "    }\n",
       "</style>\n",
       "<table border=\"1\" class=\"dataframe\">\n",
       "  <thead>\n",
       "    <tr style=\"text-align: right;\">\n",
       "      <th></th>\n",
       "      <th></th>\n",
       "      <th></th>\n",
       "      <th>Supervisory_Option_Volatility</th>\n",
       "    </tr>\n",
       "    <tr>\n",
       "      <th>AssetClass</th>\n",
       "      <th>SubClass</th>\n",
       "      <th>Option Volatility What-If</th>\n",
       "      <th></th>\n",
       "    </tr>\n",
       "  </thead>\n",
       "  <tbody>\n",
       "    <tr>\n",
       "      <th rowspan=\"2\" valign=\"top\">IR</th>\n",
       "      <th rowspan=\"2\" valign=\"top\">No SubClass</th>\n",
       "      <th>Base</th>\n",
       "      <td>.5000</td>\n",
       "    </tr>\n",
       "    <tr>\n",
       "      <th>Volatility Recalibration</th>\n",
       "      <td>.1000</td>\n",
       "    </tr>\n",
       "  </tbody>\n",
       "</table>\n",
       "</div>"
      ],
      "text/plain": [
       "                                                 Supervisory_Option_Volatility\n",
       "AssetClass SubClass    Option Volatility What-If                              \n",
       "IR         No SubClass Base                                              .5000\n",
       "                       Volatility Recalibration                          .1000"
      ]
     },
     "execution_count": 71,
     "metadata": {},
     "output_type": "execute_result"
    }
   ],
   "source": [
    "cube.query(\n",
    "    m[\"Supervisory_Option_Volatility\"],\n",
    "    levels=[lvl[\"AssetClass\"], lvl[\"SubClass\"], lvl[\"Option Volatility What-If\"]],\n",
    "    condition=lvl[\"AssetClass\"] == \"IR\",\n",
    ")"
   ]
  },
  {
   "cell_type": "code",
   "execution_count": 72,
   "metadata": {},
   "outputs": [
    {
     "data": {
      "application/vnd.atoti.query-result.v0+json": {
       "context": {
        "queriesTimeLimit": 30
       },
       "createEquivalentWidgetCode": "cube.visualize()",
       "mdx": "SELECT {[Measures].[EAD],[Measures].[AddOn_IR]} ON COLUMNS, NON EMPTY [Measure Simulations].[Option Volatility What-If].[Option Volatility What-If].Members ON ROWS FROM [SA-CCR]"
      },
      "text/html": [
       "<div>\n",
       "<style scoped>\n",
       "    .dataframe tbody tr th:only-of-type {\n",
       "        vertical-align: middle;\n",
       "    }\n",
       "\n",
       "    .dataframe tbody tr th {\n",
       "        vertical-align: top;\n",
       "    }\n",
       "\n",
       "    .dataframe thead th {\n",
       "        text-align: right;\n",
       "    }\n",
       "</style>\n",
       "<table border=\"1\" class=\"dataframe\">\n",
       "  <thead>\n",
       "    <tr style=\"text-align: right;\">\n",
       "      <th></th>\n",
       "      <th>EAD</th>\n",
       "      <th>AddOn_IR</th>\n",
       "    </tr>\n",
       "    <tr>\n",
       "      <th>Option Volatility What-If</th>\n",
       "      <th></th>\n",
       "      <th></th>\n",
       "    </tr>\n",
       "  </thead>\n",
       "  <tbody>\n",
       "    <tr>\n",
       "      <th>Base</th>\n",
       "      <td>2,352,743,030</td>\n",
       "      <td>18,489,821</td>\n",
       "    </tr>\n",
       "    <tr>\n",
       "      <th>Volatility Recalibration</th>\n",
       "      <td>2,354,807,306</td>\n",
       "      <td>18,105,387</td>\n",
       "    </tr>\n",
       "  </tbody>\n",
       "</table>\n",
       "</div>"
      ],
      "text/plain": [
       "                                     EAD    AddOn_IR\n",
       "Option Volatility What-If                           \n",
       "Base                       2,352,743,030  18,489,821\n",
       "Volatility Recalibration   2,354,807,306  18,105,387"
      ]
     },
     "execution_count": 72,
     "metadata": {},
     "output_type": "execute_result"
    }
   ],
   "source": [
    "cube.query(m[\"EAD\"], m[\"AddOn_IR\"], levels=[lvl[\"Option Volatility What-If\"]])"
   ]
  },
  {
   "cell_type": "markdown",
   "metadata": {},
   "source": [
    "# Simulation on input data - trades and CSA simulations\n",
    "\n",
    "The \"source simulation\" in atoti allow uploading data and viewing the resulting change side-by-side with the base scenario. This is handy for \"pre-deal\", \"trade novation\" or \"aggrement changes\" types of simulations where you can use a csv file to add or update positions and netting sets.\n",
    "\n",
    "See, for instance, the parameters of the first netting set:"
   ]
  },
  {
   "cell_type": "markdown",
   "metadata": {},
   "source": [
    "Let's change the parameters of this agreement:"
   ]
  },
  {
   "cell_type": "code",
   "execution_count": 73,
   "metadata": {},
   "outputs": [
    {
     "data": {
      "text/html": [
       "<div>\n",
       "<style scoped>\n",
       "    .dataframe tbody tr th:only-of-type {\n",
       "        vertical-align: middle;\n",
       "    }\n",
       "\n",
       "    .dataframe tbody tr th {\n",
       "        vertical-align: top;\n",
       "    }\n",
       "\n",
       "    .dataframe thead th {\n",
       "        text-align: right;\n",
       "    }\n",
       "</style>\n",
       "<table border=\"1\" class=\"dataframe\">\n",
       "  <thead>\n",
       "    <tr style=\"text-align: right;\">\n",
       "      <th></th>\n",
       "      <th>AsOfDate</th>\n",
       "      <th>NettingSetId</th>\n",
       "      <th>CounterpartyId</th>\n",
       "      <th>MPOR</th>\n",
       "      <th>Collateral</th>\n",
       "      <th>NICA</th>\n",
       "      <th>TH</th>\n",
       "      <th>MTA</th>\n",
       "      <th>isMargined</th>\n",
       "    </tr>\n",
       "  </thead>\n",
       "  <tbody>\n",
       "    <tr>\n",
       "      <th>0</th>\n",
       "      <td>2020-01-13</td>\n",
       "      <td>EX1</td>\n",
       "      <td>cpt1</td>\n",
       "      <td>15.00</td>\n",
       "      <td>1,000,000.00</td>\n",
       "      <td>0</td>\n",
       "      <td>0</td>\n",
       "      <td>0</td>\n",
       "      <td>Y</td>\n",
       "    </tr>\n",
       "  </tbody>\n",
       "</table>\n",
       "</div>"
      ],
      "text/plain": [
       "     AsOfDate NettingSetId CounterpartyId  MPOR   Collateral  NICA  TH  MTA  \\\n",
       "0  2020-01-13          EX1           cpt1 15.00 1,000,000.00     0   0    0   \n",
       "\n",
       "  isMargined  \n",
       "0          Y  "
      ]
     },
     "execution_count": 73,
     "metadata": {},
     "output_type": "execute_result"
    }
   ],
   "source": [
    "agreement_update = pd.DataFrame.from_dict(\n",
    "    [\n",
    "        {\n",
    "            \"AsOfDate\": \"2020-01-13\",\n",
    "            \"NettingSetId\": \"EX1\",\n",
    "            \"CounterpartyId\": \"cpt1\",\n",
    "            \"MPOR\": 15.0,\n",
    "            \"Collateral\": 1000000.0,\n",
    "            \"NICA\": 0,\n",
    "            \"TH\": 0,\n",
    "            \"MTA\": 0,\n",
    "            \"isMargined\": \"Y\",\n",
    "        }\n",
    "    ],\n",
    "    orient=\"columns\",\n",
    ")\n",
    "agreement_update"
   ]
  },
  {
   "cell_type": "code",
   "execution_count": 74,
   "metadata": {},
   "outputs": [],
   "source": [
    "nettingSets_store.scenarios[\"Updating CSA parameters\"].load_pandas(agreement_update)"
   ]
  },
  {
   "cell_type": "code",
   "execution_count": 75,
   "metadata": {},
   "outputs": [
    {
     "data": {
      "text/plain": [
       "'http://localhost:59522/#/dashboard/195'"
      ]
     },
     "execution_count": 75,
     "metadata": {},
     "output_type": "execute_result"
    }
   ],
   "source": [
    "session.url + \"/#/dashboard/195\""
   ]
  },
  {
   "cell_type": "markdown",
   "metadata": {},
   "source": [
    "# Adding more dates"
   ]
  },
  {
   "cell_type": "code",
   "execution_count": 76,
   "metadata": {},
   "outputs": [],
   "source": [
    "trades_store.load_csv(\"s3://data.atoti.io/notebooks/sa-ccr/T1/trades.csv\")\n",
    "books_store.load_csv(\"s3://data.atoti.io/notebooks/sa-ccr/T1/books.csv\")\n",
    "nettingSets_store.load_csv(\"s3://data.atoti.io/notebooks/sa-ccr/T1/netting-set-attributes.csv\")"
   ]
  },
  {
   "cell_type": "code",
   "execution_count": null,
   "metadata": {},
   "outputs": [],
   "source": []
  }
 ],
 "metadata": {
  "kernelspec": {
   "display_name": "Python 3",
   "language": "python",
   "name": "python3"
  },
  "language_info": {
   "codemirror_mode": {
    "name": "ipython",
    "version": 3
   },
   "file_extension": ".py",
   "mimetype": "text/x-python",
   "name": "python",
   "nbconvert_exporter": "python",
   "pygments_lexer": "ipython3",
   "version": "3.8.5"
  },
  "toc-autonumbering": false,
  "toc-showcode": false,
  "toc-showmarkdowntxt": false,
  "toc-showtags": false
 },
 "nbformat": 4,
 "nbformat_minor": 4
}
