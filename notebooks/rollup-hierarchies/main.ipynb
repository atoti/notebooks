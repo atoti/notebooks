{
 "cells": [
  {
   "cell_type": "markdown",
   "metadata": {},
   "source": [
    "# Building Rollup hierarchies in python with Treelib and atoti\n",
    "\n",
    "This notebook is illustrating how to create a product catalog inside a BI application using Treelib and atoti. Full story is available on this link:\n",
    "\n",
    "https://medium.com/atoti/building-rollup-hierarchies-in-python-with-treelib-and-atoti-ffc61fbac69c?source=friends_link&sk=0b8b36c30a588af4ac0fc7a6f38d2a6f"
   ]
  },
  {
   "cell_type": "markdown",
   "metadata": {},
   "source": [
    "# Credits for the sample data\n",
    "\n",
    "The sample data for this project was sourced from this edu course [Data analytics with R](https://stepik.org/course/724/promo). The data has been transformed. I'm hosting my version of the data on s3:"
   ]
  },
  {
   "cell_type": "code",
   "execution_count": 1,
   "metadata": {
    "execution": {
     "iopub.execute_input": "2021-03-02T04:11:59.412862Z",
     "iopub.status.busy": "2021-03-02T04:11:59.412604Z",
     "iopub.status.idle": "2021-03-02T04:12:11.041570Z",
     "shell.execute_reply": "2021-03-02T04:12:11.040501Z",
     "shell.execute_reply.started": "2021-03-02T04:11:59.412801Z"
    }
   },
   "outputs": [
    {
     "name": "stdout",
     "output_type": "stream",
     "text": [
      "Collecting package metadata (current_repodata.json): done\n",
      "Solving environment: done\n",
      "\n",
      "# All requested packages already installed.\n",
      "\n"
     ]
    }
   ],
   "source": [
    "!conda install -c conda-forge python-wget -y"
   ]
  },
  {
   "cell_type": "code",
   "execution_count": 2,
   "metadata": {
    "execution": {
     "iopub.execute_input": "2021-03-02T04:12:11.043206Z",
     "iopub.status.busy": "2021-03-02T04:12:11.042853Z",
     "iopub.status.idle": "2021-03-02T04:12:14.626043Z",
     "shell.execute_reply": "2021-03-02T04:12:14.625381Z",
     "shell.execute_reply.started": "2021-03-02T04:12:11.043178Z"
    }
   },
   "outputs": [
    {
     "name": "stdout",
     "output_type": "stream",
     "text": [
      "Downloading: 100% [5845413 / 5845413] bytes\n"
     ]
    }
   ],
   "source": [
    "import wget\n",
    "from IPython.display import display, clear_output\n",
    "def bar_custom(current, total, width=80):\n",
    "    clear_output(wait=True)\n",
    "    print(\"Downloading: %d%% [%d / %d] bytes\" % (current / total * 100, current, total))\n",
    "url = 'http://data.atoti.io/notebooks/rollup-hierarchy/rollup-hierarchies.zip'\n",
    "filename = wget.download(url, bar=bar_custom)"
   ]
  },
  {
   "cell_type": "code",
   "execution_count": 3,
   "metadata": {
    "execution": {
     "iopub.execute_input": "2021-03-02T04:12:14.627591Z",
     "iopub.status.busy": "2021-03-02T04:12:14.627400Z",
     "iopub.status.idle": "2021-03-02T04:12:14.886299Z",
     "shell.execute_reply": "2021-03-02T04:12:14.885547Z",
     "shell.execute_reply.started": "2021-03-02T04:12:14.627569Z"
    }
   },
   "outputs": [],
   "source": [
    "# unzipping the file\n",
    "!unzip -q rollup-hierarchies.zip"
   ]
  },
  {
   "cell_type": "markdown",
   "metadata": {
    "execution": {
     "iopub.execute_input": "2021-03-02T03:32:22.627540Z",
     "iopub.status.busy": "2021-03-02T03:32:22.627215Z",
     "iopub.status.idle": "2021-03-02T03:32:23.204194Z",
     "shell.execute_reply": "2021-03-02T03:32:23.203635Z",
     "shell.execute_reply.started": "2021-03-02T03:32:22.627473Z"
    }
   },
   "source": [
    "# Reading parent-child product catalog description"
   ]
  },
  {
   "cell_type": "code",
   "execution_count": 4,
   "metadata": {
    "execution": {
     "iopub.execute_input": "2021-03-02T04:12:14.888103Z",
     "iopub.status.busy": "2021-03-02T04:12:14.887893Z",
     "iopub.status.idle": "2021-03-02T04:12:15.380594Z",
     "shell.execute_reply": "2021-03-02T04:12:15.380092Z",
     "shell.execute_reply.started": "2021-03-02T04:12:14.888078Z"
    }
   },
   "outputs": [
    {
     "data": {
      "text/html": [
       "<div>\n",
       "<style scoped>\n",
       "    .dataframe tbody tr th:only-of-type {\n",
       "        vertical-align: middle;\n",
       "    }\n",
       "\n",
       "    .dataframe tbody tr th {\n",
       "        vertical-align: top;\n",
       "    }\n",
       "\n",
       "    .dataframe thead th {\n",
       "        text-align: right;\n",
       "    }\n",
       "</style>\n",
       "<table border=\"1\" class=\"dataframe\">\n",
       "  <thead>\n",
       "    <tr style=\"text-align: right;\">\n",
       "      <th></th>\n",
       "      <th>category_id</th>\n",
       "      <th>parent_id</th>\n",
       "      <th>name</th>\n",
       "      <th>link_url</th>\n",
       "    </tr>\n",
       "  </thead>\n",
       "  <tbody>\n",
       "    <tr>\n",
       "      <th>0</th>\n",
       "      <td>925</td>\n",
       "      <td>1212</td>\n",
       "      <td>Shoe dryers</td>\n",
       "      <td>http://e96.ru/household_appliances/washing/sus...</td>\n",
       "    </tr>\n",
       "    <tr>\n",
       "      <th>1</th>\n",
       "      <td>776</td>\n",
       "      <td>683</td>\n",
       "      <td>Football</td>\n",
       "      <td>http://e96.ru/sporting_goods/football</td>\n",
       "    </tr>\n",
       "    <tr>\n",
       "      <th>2</th>\n",
       "      <td>735</td>\n",
       "      <td>1175</td>\n",
       "      <td>Chests of drawers for baths</td>\n",
       "      <td>http://e96.ru/furniture/bathroom/komody_dlja_vann</td>\n",
       "    </tr>\n",
       "    <tr>\n",
       "      <th>3</th>\n",
       "      <td>1513</td>\n",
       "      <td>1504</td>\n",
       "      <td>Houses for dogs</td>\n",
       "      <td>http://e96.ru/zootovary/tovary_dlja_sobak/domi...</td>\n",
       "    </tr>\n",
       "    <tr>\n",
       "      <th>4</th>\n",
       "      <td>1357</td>\n",
       "      <td>1086</td>\n",
       "      <td>Sledgehammers</td>\n",
       "      <td>http://e96.ru/tools/hand_tools/kuvaldy</td>\n",
       "    </tr>\n",
       "  </tbody>\n",
       "</table>\n",
       "</div>"
      ],
      "text/plain": [
       "   category_id  parent_id                         name  \\\n",
       "0          925       1212                  Shoe dryers   \n",
       "1          776        683                     Football   \n",
       "2          735       1175  Chests of drawers for baths   \n",
       "3         1513       1504              Houses for dogs   \n",
       "4         1357       1086                Sledgehammers   \n",
       "\n",
       "                                            link_url  \n",
       "0  http://e96.ru/household_appliances/washing/sus...  \n",
       "1              http://e96.ru/sporting_goods/football  \n",
       "2  http://e96.ru/furniture/bathroom/komody_dlja_vann  \n",
       "3  http://e96.ru/zootovary/tovary_dlja_sobak/domi...  \n",
       "4             http://e96.ru/tools/hand_tools/kuvaldy  "
      ]
     },
     "execution_count": 4,
     "metadata": {},
     "output_type": "execute_result"
    }
   ],
   "source": [
    "import pandas as pd\n",
    "categories_df = pd.read_csv(\"categories.csv\")\n",
    "categories_df.head()"
   ]
  },
  {
   "cell_type": "code",
   "execution_count": 5,
   "metadata": {
    "execution": {
     "iopub.execute_input": "2021-03-02T04:12:15.381268Z",
     "iopub.status.busy": "2021-03-02T04:12:15.381140Z",
     "iopub.status.idle": "2021-03-02T04:12:15.384226Z",
     "shell.execute_reply": "2021-03-02T04:12:15.383655Z",
     "shell.execute_reply.started": "2021-03-02T04:12:15.381251Z"
    }
   },
   "outputs": [],
   "source": [
    "# creating a dict to lookup a name for an id\n",
    "cat_dict = dict(zip(categories_df.category_id, categories_df.name))"
   ]
  },
  {
   "cell_type": "markdown",
   "metadata": {},
   "source": [
    "# Populating a tree in Treelib"
   ]
  },
  {
   "cell_type": "code",
   "execution_count": 6,
   "metadata": {
    "execution": {
     "iopub.execute_input": "2021-03-02T04:12:15.384987Z",
     "iopub.status.busy": "2021-03-02T04:12:15.384856Z",
     "iopub.status.idle": "2021-03-02T04:12:15.607961Z",
     "shell.execute_reply": "2021-03-02T04:12:15.607502Z",
     "shell.execute_reply.started": "2021-03-02T04:12:15.384970Z"
    }
   },
   "outputs": [],
   "source": [
    "from treelib import Node, Tree\n",
    "\n",
    "tree = Tree()\n",
    "tree.create_node(\"Product Catalogue\", 0)\n",
    "\n",
    "# Creating nodes under root\n",
    "for i, c in categories_df.iterrows():\n",
    "    tree.create_node(c[\"name\"], c[\"category_id\"], parent=0)\n",
    "\n",
    "# Moving nodes to reflect the parent-child relationship\n",
    "for i, c in categories_df.iterrows():\n",
    "    if c[\"parent_id\"] == c[\"parent_id\"]:\n",
    "        tree.move_node(c[\"category_id\"], c[\"parent_id\"])"
   ]
  },
  {
   "cell_type": "code",
   "execution_count": 7,
   "metadata": {
    "execution": {
     "iopub.execute_input": "2021-03-02T04:12:15.608593Z",
     "iopub.status.busy": "2021-03-02T04:12:15.608468Z",
     "iopub.status.idle": "2021-03-02T04:12:15.611317Z",
     "shell.execute_reply": "2021-03-02T04:12:15.610560Z",
     "shell.execute_reply.started": "2021-03-02T04:12:15.608577Z"
    }
   },
   "outputs": [],
   "source": [
    "# tree.show()"
   ]
  },
  {
   "cell_type": "markdown",
   "metadata": {},
   "source": [
    "# paths_to_leaves\n",
    "\n",
    "Having created a Tree using Treelib, it's trivial to obtain all paths to leaves:"
   ]
  },
  {
   "cell_type": "code",
   "execution_count": 8,
   "metadata": {
    "execution": {
     "iopub.execute_input": "2021-03-02T04:12:15.613786Z",
     "iopub.status.busy": "2021-03-02T04:12:15.613601Z",
     "iopub.status.idle": "2021-03-02T04:12:15.645505Z",
     "shell.execute_reply": "2021-03-02T04:12:15.644871Z",
     "shell.execute_reply.started": "2021-03-02T04:12:15.613769Z"
    }
   },
   "outputs": [
    {
     "data": {
      "text/plain": [
       "[[0, 16, 1212, 925],\n",
       " [0, 1342, 1175, 735],\n",
       " [0, 1502, 1504, 1513],\n",
       " [0, 129, 1086, 1357],\n",
       " [0, 304, 1037, 530]]"
      ]
     },
     "execution_count": 8,
     "metadata": {},
     "output_type": "execute_result"
    }
   ],
   "source": [
    "tree.paths_to_leaves()[:5]"
   ]
  },
  {
   "cell_type": "markdown",
   "metadata": {},
   "source": [
    "The following will show that the tree is unbalanced:"
   ]
  },
  {
   "cell_type": "code",
   "execution_count": 9,
   "metadata": {
    "execution": {
     "iopub.execute_input": "2021-03-02T04:12:15.647907Z",
     "iopub.status.busy": "2021-03-02T04:12:15.647679Z",
     "iopub.status.idle": "2021-03-02T04:12:15.661385Z",
     "shell.execute_reply": "2021-03-02T04:12:15.660699Z",
     "shell.execute_reply.started": "2021-03-02T04:12:15.647880Z"
    }
   },
   "outputs": [
    {
     "name": "stdout",
     "output_type": "stream",
     "text": [
      "Min depth is 3, max depth is 4\n"
     ]
    }
   ],
   "source": [
    "print(\n",
    "    \"Min depth is {}, max depth is {}\".format(\n",
    "        min([len(i) for i in tree.paths_to_leaves()]),\n",
    "        max([len(i) for i in tree.paths_to_leaves()]),\n",
    "    )\n",
    ")"
   ]
  },
  {
   "cell_type": "markdown",
   "metadata": {},
   "source": [
    "Although parent-child pairs are a very natural way to express hierarchies, we can’t use them in its raw form for slicing and dicing. Think about a table in Excel — with different levels of a tree in separate columns, we can combine them in a pivot table to roll up and down through the levels of the catalogue. \n",
    "\n",
    "Let’s extract the levels of the tree into separate columns, and save into the `categories_hierarchy.csv` file:"
   ]
  },
  {
   "cell_type": "code",
   "execution_count": 10,
   "metadata": {
    "execution": {
     "iopub.execute_input": "2021-03-02T04:12:15.662387Z",
     "iopub.status.busy": "2021-03-02T04:12:15.662085Z",
     "iopub.status.idle": "2021-03-02T04:12:19.837884Z",
     "shell.execute_reply": "2021-03-02T04:12:19.837219Z",
     "shell.execute_reply.started": "2021-03-02T04:12:15.662359Z"
    }
   },
   "outputs": [],
   "source": [
    "with open(\"categories_hierarchy.csv\", \"w+\") as outfile:\n",
    "    outfile.write(\n",
    "        \";\".join([\"Category_Lvl\" + str(i + 1) for i in range(tree.depth())]) + \"\\n\"\n",
    "    )\n",
    "    for p in tree.paths_to_leaves():\n",
    "        outfile.write(\n",
    "            \";\".join(\n",
    "                [cat_dict[pi] for pi in p[1:]]\n",
    "                + [cat_dict[p[-1]]] * (tree.depth() - len(p) + 1) # I'm adding the last item for the shorter branches to balance the tree\n",
    "            )\n",
    "            + \"\\n\"\n",
    "        )"
   ]
  },
  {
   "cell_type": "code",
   "execution_count": 11,
   "metadata": {
    "execution": {
     "iopub.execute_input": "2021-03-02T04:12:19.838597Z",
     "iopub.status.busy": "2021-03-02T04:12:19.838463Z",
     "iopub.status.idle": "2021-03-02T04:12:19.848547Z",
     "shell.execute_reply": "2021-03-02T04:12:19.847828Z",
     "shell.execute_reply.started": "2021-03-02T04:12:19.838580Z"
    }
   },
   "outputs": [
    {
     "data": {
      "text/html": [
       "<div>\n",
       "<style scoped>\n",
       "    .dataframe tbody tr th:only-of-type {\n",
       "        vertical-align: middle;\n",
       "    }\n",
       "\n",
       "    .dataframe tbody tr th {\n",
       "        vertical-align: top;\n",
       "    }\n",
       "\n",
       "    .dataframe thead th {\n",
       "        text-align: right;\n",
       "    }\n",
       "</style>\n",
       "<table border=\"1\" class=\"dataframe\">\n",
       "  <thead>\n",
       "    <tr style=\"text-align: right;\">\n",
       "      <th></th>\n",
       "      <th>Category_Lvl1</th>\n",
       "      <th>Category_Lvl2</th>\n",
       "      <th>Category_Lvl3</th>\n",
       "    </tr>\n",
       "  </thead>\n",
       "  <tbody>\n",
       "    <tr>\n",
       "      <th>0</th>\n",
       "      <td>Household products</td>\n",
       "      <td>Washing and drying</td>\n",
       "      <td>Shoe dryers</td>\n",
       "    </tr>\n",
       "    <tr>\n",
       "      <th>1</th>\n",
       "      <td>Furniture</td>\n",
       "      <td>Bathroom furniture</td>\n",
       "      <td>Chests of drawers for baths</td>\n",
       "    </tr>\n",
       "    <tr>\n",
       "      <th>2</th>\n",
       "      <td>Pet products</td>\n",
       "      <td>Products for dogs</td>\n",
       "      <td>Houses for dogs</td>\n",
       "    </tr>\n",
       "  </tbody>\n",
       "</table>\n",
       "</div>"
      ],
      "text/plain": [
       "        Category_Lvl1       Category_Lvl2                Category_Lvl3\n",
       "0  Household products  Washing and drying                  Shoe dryers\n",
       "1           Furniture  Bathroom furniture  Chests of drawers for baths\n",
       "2        Pet products   Products for dogs              Houses for dogs"
      ]
     },
     "execution_count": 11,
     "metadata": {},
     "output_type": "execute_result"
    }
   ],
   "source": [
    "pd.read_csv(\"categories_hierarchy.csv\", sep = \";\").head(3)"
   ]
  },
  {
   "cell_type": "markdown",
   "metadata": {},
   "source": [
    "# Launchin BI app using atoti"
   ]
  },
  {
   "cell_type": "code",
   "execution_count": 12,
   "metadata": {
    "execution": {
     "iopub.execute_input": "2021-03-02T04:12:19.849469Z",
     "iopub.status.busy": "2021-03-02T04:12:19.849226Z",
     "iopub.status.idle": "2021-03-02T04:12:30.205389Z",
     "shell.execute_reply": "2021-03-02T04:12:30.204752Z",
     "shell.execute_reply.started": "2021-03-02T04:12:19.849451Z"
    }
   },
   "outputs": [
    {
     "name": "stdout",
     "output_type": "stream",
     "text": [
      "Welcome to atoti 0.5.1!\n",
      "\n",
      "By using this community edition, you agree with the license available at https://www.atoti.io/eula.\n",
      "Browse the official documentation at https://docs.atoti.io.\n",
      "Join the community at https://www.atoti.io/register.\n",
      "\n",
      "You can hide this message by setting the ATOTI_HIDE_EULA_MESSAGE environment variable to True.\n"
     ]
    },
    {
     "name": "stderr",
     "output_type": "stream",
     "text": [
      "The store has been sampled because there are more than 10000 lines in the files to load. Call Session.load_all_data() to trigger the full load of the data.\n"
     ]
    }
   ],
   "source": [
    "import atoti as tt\n",
    "\n",
    "config = tt.config.create_config(metadata_db=\"./metadata.db\") # this is to store dashboards\n",
    "session = tt.create_session(config=config)\n",
    "\n",
    "events_ds = session.read_csv(\n",
    "    \"events.csv\",\n",
    "    store_name=\"Events\",\n",
    "    keys=[\"externalsessionid\", \"eventtype\"],\n",
    ")\n",
    "cube = session.create_cube(events_ds, \"Sales Analytics\")"
   ]
  },
  {
   "cell_type": "code",
   "execution_count": 13,
   "metadata": {
    "execution": {
     "iopub.execute_input": "2021-03-02T04:12:30.206655Z",
     "iopub.status.busy": "2021-03-02T04:12:30.206296Z",
     "iopub.status.idle": "2021-03-02T04:12:30.212095Z",
     "shell.execute_reply": "2021-03-02T04:12:30.211325Z",
     "shell.execute_reply.started": "2021-03-02T04:12:30.206584Z"
    }
   },
   "outputs": [
    {
     "data": {
      "text/plain": [
       "'http://localhost:53222'"
      ]
     },
     "execution_count": 13,
     "metadata": {},
     "output_type": "execute_result"
    }
   ],
   "source": [
    "session.url"
   ]
  },
  {
   "cell_type": "code",
   "execution_count": 14,
   "metadata": {
    "execution": {
     "iopub.execute_input": "2021-03-02T04:12:30.213095Z",
     "iopub.status.busy": "2021-03-02T04:12:30.212878Z",
     "iopub.status.idle": "2021-03-02T04:12:31.178715Z",
     "shell.execute_reply": "2021-03-02T04:12:31.178258Z",
     "shell.execute_reply.started": "2021-03-02T04:12:30.213070Z"
    }
   },
   "outputs": [],
   "source": [
    "session.load_all_data()"
   ]
  },
  {
   "cell_type": "code",
   "execution_count": 15,
   "metadata": {
    "execution": {
     "iopub.execute_input": "2021-03-02T04:12:31.179479Z",
     "iopub.status.busy": "2021-03-02T04:12:31.179347Z",
     "iopub.status.idle": "2021-03-02T04:12:34.028574Z",
     "shell.execute_reply": "2021-03-02T04:12:34.027889Z",
     "shell.execute_reply.started": "2021-03-02T04:12:31.179462Z"
    }
   },
   "outputs": [
    {
     "data": {
      "image/svg+xml": [
       "<svg xmlns=\"http://www.w3.org/2000/svg\" xmlns:xlink=\"http://www.w3.org/1999/xlink\" width=\"572px\" height=\"282px\" viewBox=\"0.00 0.00 572.00 282.00\">\n",
       "<g id=\"graph0\" class=\"graph\" transform=\"scale(1.0 1.0) rotate(0) translate(4 278)\">\n",
       "<title>Sales Analytics schema</title>\n",
       "<polygon fill=\"white\" stroke=\"transparent\" points=\"-4,4 -4,-278 568,-278 568,4 -4,4\"/>\n",
       "<!-- Events -->\n",
       "<g id=\"node1\" class=\"node\">\n",
       "<title>Events</title>\n",
       "<text text-anchor=\"start\" x=\"93.5\" y=\"-254.6\" font-family=\"-apple-system, BlinkMacSystemFont, 'Segoe UI', Helvetica, Arial, sans-serif, 'Apple Color Emoji', 'Segoe UI Emoji', 'Segoe UI Symbol'\" font-weight=\"bold\" font-size=\"13.00\">Events</text>\n",
       "<polygon fill=\"#f5f5f5\" stroke=\"transparent\" points=\"9,-221 9,-245 41,-245 41,-221 9,-221\"/>\n",
       "<text text-anchor=\"start\" x=\"14\" y=\"-230.6\" font-family=\"-apple-system, BlinkMacSystemFont, 'Segoe UI', Helvetica, Arial, sans-serif, 'Apple Color Emoji', 'Segoe UI Emoji', 'Segoe UI Symbol'\" font-weight=\"bold\" font-size=\"13.00\">key</text>\n",
       "<polygon fill=\"#f5f5f5\" stroke=\"transparent\" points=\"41,-221 41,-245 152,-245 152,-221 41,-221\"/>\n",
       "<text text-anchor=\"start\" x=\"46\" y=\"-229.6\" font-family=\"-apple-system, BlinkMacSystemFont, 'Segoe UI', Helvetica, Arial, sans-serif, 'Apple Color Emoji', 'Segoe UI Emoji', 'Segoe UI Symbol'\" font-size=\"13.00\">externalsessionid</text>\n",
       "<polygon fill=\"#f5f5f5\" stroke=\"transparent\" points=\"152,-221 152,-245 221,-245 221,-221 152,-221\"/>\n",
       "<text text-anchor=\"start\" x=\"202\" y=\"-230.6\" font-family=\"-apple-system, BlinkMacSystemFont, 'Segoe UI', Helvetica, Arial, sans-serif, 'Apple Color Emoji', 'Segoe UI Emoji', 'Segoe UI Symbol'\" font-style=\"italic\" font-size=\"13.00\">int</text>\n",
       "<polygon fill=\"#ffffff\" stroke=\"transparent\" points=\"9,-197 9,-221 41,-221 41,-197 9,-197\"/>\n",
       "<polygon fill=\"#ffffff\" stroke=\"transparent\" points=\"41,-197 41,-221 152,-221 152,-197 41,-197\"/>\n",
       "<text text-anchor=\"start\" x=\"46\" y=\"-205.6\" font-family=\"-apple-system, BlinkMacSystemFont, 'Segoe UI', Helvetica, Arial, sans-serif, 'Apple Color Emoji', 'Segoe UI Emoji', 'Segoe UI Symbol'\" font-size=\"13.00\">timestamp</text>\n",
       "<polygon fill=\"#ffffff\" stroke=\"transparent\" points=\"152,-197 152,-221 221,-221 221,-197 152,-197\"/>\n",
       "<text text-anchor=\"start\" x=\"191\" y=\"-206.6\" font-family=\"-apple-system, BlinkMacSystemFont, 'Segoe UI', Helvetica, Arial, sans-serif, 'Apple Color Emoji', 'Segoe UI Emoji', 'Segoe UI Symbol'\" font-style=\"italic\" font-size=\"13.00\">long</text>\n",
       "<polygon fill=\"#f5f5f5\" stroke=\"transparent\" points=\"9,-173 9,-197 41,-197 41,-173 9,-173\"/>\n",
       "<polygon fill=\"#f5f5f5\" stroke=\"transparent\" points=\"41,-173 41,-197 152,-197 152,-173 41,-173\"/>\n",
       "<text text-anchor=\"start\" x=\"46\" y=\"-181.6\" font-family=\"-apple-system, BlinkMacSystemFont, 'Segoe UI', Helvetica, Arial, sans-serif, 'Apple Color Emoji', 'Segoe UI Emoji', 'Segoe UI Symbol'\" font-size=\"13.00\">eventdate</text>\n",
       "<polygon fill=\"#f5f5f5\" stroke=\"transparent\" points=\"152,-173 152,-197 221,-197 221,-173 152,-173\"/>\n",
       "<text text-anchor=\"start\" x=\"157\" y=\"-182.6\" font-family=\"-apple-system, BlinkMacSystemFont, 'Segoe UI', Helvetica, Arial, sans-serif, 'Apple Color Emoji', 'Segoe UI Emoji', 'Segoe UI Symbol'\" font-style=\"italic\" font-size=\"13.00\">LocalDate</text>\n",
       "<polygon fill=\"#ffffff\" stroke=\"transparent\" points=\"9,-149 9,-173 41,-173 41,-149 9,-149\"/>\n",
       "<polygon fill=\"#ffffff\" stroke=\"transparent\" points=\"41,-149 41,-173 152,-173 152,-149 41,-149\"/>\n",
       "<text text-anchor=\"start\" x=\"46\" y=\"-157.6\" font-family=\"-apple-system, BlinkMacSystemFont, 'Segoe UI', Helvetica, Arial, sans-serif, 'Apple Color Emoji', 'Segoe UI Emoji', 'Segoe UI Symbol'\" font-size=\"13.00\">ordernumber</text>\n",
       "<polygon fill=\"#ffffff\" stroke=\"transparent\" points=\"152,-149 152,-173 221,-173 221,-149 152,-149\"/>\n",
       "<text text-anchor=\"start\" x=\"176\" y=\"-158.6\" font-family=\"-apple-system, BlinkMacSystemFont, 'Segoe UI', Helvetica, Arial, sans-serif, 'Apple Color Emoji', 'Segoe UI Emoji', 'Segoe UI Symbol'\" font-style=\"italic\" font-size=\"13.00\">double</text>\n",
       "<polygon fill=\"#f5f5f5\" stroke=\"transparent\" points=\"9,-125 9,-149 41,-149 41,-125 9,-125\"/>\n",
       "<polygon fill=\"#f5f5f5\" stroke=\"transparent\" points=\"41,-125 41,-149 152,-149 152,-125 41,-125\"/>\n",
       "<text text-anchor=\"start\" x=\"46\" y=\"-133.6\" font-family=\"-apple-system, BlinkMacSystemFont, 'Segoe UI', Helvetica, Arial, sans-serif, 'Apple Color Emoji', 'Segoe UI Emoji', 'Segoe UI Symbol'\" font-size=\"13.00\">pricecents</text>\n",
       "<polygon fill=\"#f5f5f5\" stroke=\"transparent\" points=\"152,-125 152,-149 221,-149 221,-125 152,-125\"/>\n",
       "<text text-anchor=\"start\" x=\"176\" y=\"-134.6\" font-family=\"-apple-system, BlinkMacSystemFont, 'Segoe UI', Helvetica, Arial, sans-serif, 'Apple Color Emoji', 'Segoe UI Emoji', 'Segoe UI Symbol'\" font-style=\"italic\" font-size=\"13.00\">double</text>\n",
       "<polygon fill=\"#ffffff\" stroke=\"transparent\" points=\"9,-101 9,-125 41,-125 41,-101 9,-101\"/>\n",
       "<polygon fill=\"#ffffff\" stroke=\"transparent\" points=\"41,-101 41,-125 152,-125 152,-101 41,-101\"/>\n",
       "<text text-anchor=\"start\" x=\"46\" y=\"-109.6\" font-family=\"-apple-system, BlinkMacSystemFont, 'Segoe UI', Helvetica, Arial, sans-serif, 'Apple Color Emoji', 'Segoe UI Emoji', 'Segoe UI Symbol'\" font-size=\"13.00\">totalcents</text>\n",
       "<polygon fill=\"#ffffff\" stroke=\"transparent\" points=\"152,-101 152,-125 221,-125 221,-101 152,-101\"/>\n",
       "<text text-anchor=\"start\" x=\"176\" y=\"-110.6\" font-family=\"-apple-system, BlinkMacSystemFont, 'Segoe UI', Helvetica, Arial, sans-serif, 'Apple Color Emoji', 'Segoe UI Emoji', 'Segoe UI Symbol'\" font-style=\"italic\" font-size=\"13.00\">double</text>\n",
       "<polygon fill=\"#f5f5f5\" stroke=\"transparent\" points=\"9,-77 9,-101 41,-101 41,-77 9,-77\"/>\n",
       "<polygon fill=\"#f5f5f5\" stroke=\"transparent\" points=\"41,-77 41,-101 152,-101 152,-77 41,-77\"/>\n",
       "<text text-anchor=\"start\" x=\"46\" y=\"-85.6\" font-family=\"-apple-system, BlinkMacSystemFont, 'Segoe UI', Helvetica, Arial, sans-serif, 'Apple Color Emoji', 'Segoe UI Emoji', 'Segoe UI Symbol'\" font-size=\"13.00\">quantity</text>\n",
       "<polygon fill=\"#f5f5f5\" stroke=\"transparent\" points=\"152,-77 152,-101 221,-101 221,-77 152,-77\"/>\n",
       "<text text-anchor=\"start\" x=\"176\" y=\"-86.6\" font-family=\"-apple-system, BlinkMacSystemFont, 'Segoe UI', Helvetica, Arial, sans-serif, 'Apple Color Emoji', 'Segoe UI Emoji', 'Segoe UI Symbol'\" font-style=\"italic\" font-size=\"13.00\">double</text>\n",
       "<polygon fill=\"#ffffff\" stroke=\"transparent\" points=\"9,-53 9,-77 41,-77 41,-53 9,-53\"/>\n",
       "<polygon fill=\"#ffffff\" stroke=\"transparent\" points=\"41,-53 41,-77 152,-77 152,-53 41,-53\"/>\n",
       "<text text-anchor=\"start\" x=\"46\" y=\"-61.6\" font-family=\"-apple-system, BlinkMacSystemFont, 'Segoe UI', Helvetica, Arial, sans-serif, 'Apple Color Emoji', 'Segoe UI Emoji', 'Segoe UI Symbol'\" font-size=\"13.00\">product_id</text>\n",
       "<polygon fill=\"#ffffff\" stroke=\"transparent\" points=\"152,-53 152,-77 221,-77 221,-53 152,-53\"/>\n",
       "<text text-anchor=\"start\" x=\"176\" y=\"-62.6\" font-family=\"-apple-system, BlinkMacSystemFont, 'Segoe UI', Helvetica, Arial, sans-serif, 'Apple Color Emoji', 'Segoe UI Emoji', 'Segoe UI Symbol'\" font-style=\"italic\" font-size=\"13.00\">double</text>\n",
       "<polygon fill=\"#f5f5f5\" stroke=\"transparent\" points=\"9,-29 9,-53 41,-53 41,-29 9,-29\"/>\n",
       "<text text-anchor=\"start\" x=\"14\" y=\"-38.6\" font-family=\"-apple-system, BlinkMacSystemFont, 'Segoe UI', Helvetica, Arial, sans-serif, 'Apple Color Emoji', 'Segoe UI Emoji', 'Segoe UI Symbol'\" font-weight=\"bold\" font-size=\"13.00\">key</text>\n",
       "<polygon fill=\"#f5f5f5\" stroke=\"transparent\" points=\"41,-29 41,-53 152,-53 152,-29 41,-29\"/>\n",
       "<text text-anchor=\"start\" x=\"46\" y=\"-37.6\" font-family=\"-apple-system, BlinkMacSystemFont, 'Segoe UI', Helvetica, Arial, sans-serif, 'Apple Color Emoji', 'Segoe UI Emoji', 'Segoe UI Symbol'\" font-size=\"13.00\">eventtype</text>\n",
       "<polygon fill=\"#f5f5f5\" stroke=\"transparent\" points=\"152,-29 152,-53 221,-53 221,-29 152,-29\"/>\n",
       "<text text-anchor=\"start\" x=\"182\" y=\"-38.6\" font-family=\"-apple-system, BlinkMacSystemFont, 'Segoe UI', Helvetica, Arial, sans-serif, 'Apple Color Emoji', 'Segoe UI Emoji', 'Segoe UI Symbol'\" font-style=\"italic\" font-size=\"13.00\">String</text>\n",
       "<polygon fill=\"#ffffff\" stroke=\"transparent\" points=\"9,-5 9,-29 41,-29 41,-5 9,-5\"/>\n",
       "<polygon fill=\"#ffffff\" stroke=\"transparent\" points=\"41,-5 41,-29 152,-29 152,-5 41,-5\"/>\n",
       "<text text-anchor=\"start\" x=\"46\" y=\"-13.6\" font-family=\"-apple-system, BlinkMacSystemFont, 'Segoe UI', Helvetica, Arial, sans-serif, 'Apple Color Emoji', 'Segoe UI Emoji', 'Segoe UI Symbol'\" font-size=\"13.00\">duration</text>\n",
       "<polygon fill=\"#ffffff\" stroke=\"transparent\" points=\"152,-5 152,-29 221,-29 221,-5 152,-5\"/>\n",
       "<text text-anchor=\"start\" x=\"182\" y=\"-14.6\" font-family=\"-apple-system, BlinkMacSystemFont, 'Segoe UI', Helvetica, Arial, sans-serif, 'Apple Color Emoji', 'Segoe UI Emoji', 'Segoe UI Symbol'\" font-style=\"italic\" font-size=\"13.00\">String</text>\n",
       "<polygon fill=\"none\" stroke=\"black\" points=\"8,-4 8,-270 222,-270 222,-4 8,-4\"/>\n",
       "</g>\n",
       "<!-- Product Attributes -->\n",
       "<g id=\"node2\" class=\"node\">\n",
       "<title>Product Attributes</title>\n",
       "<text text-anchor=\"start\" x=\"428.5\" y=\"-194.6\" font-family=\"-apple-system, BlinkMacSystemFont, 'Segoe UI', Helvetica, Arial, sans-serif, 'Apple Color Emoji', 'Segoe UI Emoji', 'Segoe UI Symbol'\" font-weight=\"bold\" font-size=\"13.00\">Product Attributes</text>\n",
       "<polygon fill=\"#f5f5f5\" stroke=\"transparent\" points=\"417,-161 417,-185 427,-185 427,-161 417,-161\"/>\n",
       "<polygon fill=\"#f5f5f5\" stroke=\"transparent\" points=\"427,-161 427,-185 498,-185 498,-161 427,-161\"/>\n",
       "<text text-anchor=\"start\" x=\"432\" y=\"-169.6\" font-family=\"-apple-system, BlinkMacSystemFont, 'Segoe UI', Helvetica, Arial, sans-serif, 'Apple Color Emoji', 'Segoe UI Emoji', 'Segoe UI Symbol'\" font-size=\"13.00\">product_id</text>\n",
       "<polygon fill=\"#f5f5f5\" stroke=\"transparent\" points=\"498,-161 498,-185 555,-185 555,-161 498,-161\"/>\n",
       "<text text-anchor=\"start\" x=\"510\" y=\"-170.6\" font-family=\"-apple-system, BlinkMacSystemFont, 'Segoe UI', Helvetica, Arial, sans-serif, 'Apple Color Emoji', 'Segoe UI Emoji', 'Segoe UI Symbol'\" font-style=\"italic\" font-size=\"13.00\">double</text>\n",
       "<polygon fill=\"#ffffff\" stroke=\"transparent\" points=\"417,-137 417,-161 427,-161 427,-137 417,-137\"/>\n",
       "<polygon fill=\"#ffffff\" stroke=\"transparent\" points=\"427,-137 427,-161 498,-161 498,-137 427,-137\"/>\n",
       "<text text-anchor=\"start\" x=\"432\" y=\"-145.6\" font-family=\"-apple-system, BlinkMacSystemFont, 'Segoe UI', Helvetica, Arial, sans-serif, 'Apple Color Emoji', 'Segoe UI Emoji', 'Segoe UI Symbol'\" font-size=\"13.00\">name</text>\n",
       "<polygon fill=\"#ffffff\" stroke=\"transparent\" points=\"498,-137 498,-161 555,-161 555,-137 498,-137\"/>\n",
       "<text text-anchor=\"start\" x=\"516\" y=\"-146.6\" font-family=\"-apple-system, BlinkMacSystemFont, 'Segoe UI', Helvetica, Arial, sans-serif, 'Apple Color Emoji', 'Segoe UI Emoji', 'Segoe UI Symbol'\" font-style=\"italic\" font-size=\"13.00\">String</text>\n",
       "<polygon fill=\"#f5f5f5\" stroke=\"transparent\" points=\"417,-113 417,-137 427,-137 427,-113 417,-113\"/>\n",
       "<polygon fill=\"#f5f5f5\" stroke=\"transparent\" points=\"427,-113 427,-137 498,-137 498,-113 427,-113\"/>\n",
       "<text text-anchor=\"start\" x=\"432\" y=\"-121.6\" font-family=\"-apple-system, BlinkMacSystemFont, 'Segoe UI', Helvetica, Arial, sans-serif, 'Apple Color Emoji', 'Segoe UI Emoji', 'Segoe UI Symbol'\" font-size=\"13.00\">price</text>\n",
       "<polygon fill=\"#f5f5f5\" stroke=\"transparent\" points=\"498,-113 498,-137 555,-137 555,-113 498,-113\"/>\n",
       "<text text-anchor=\"start\" x=\"536\" y=\"-122.6\" font-family=\"-apple-system, BlinkMacSystemFont, 'Segoe UI', Helvetica, Arial, sans-serif, 'Apple Color Emoji', 'Segoe UI Emoji', 'Segoe UI Symbol'\" font-style=\"italic\" font-size=\"13.00\">int</text>\n",
       "<polygon fill=\"#ffffff\" stroke=\"transparent\" points=\"417,-89 417,-113 427,-113 427,-89 417,-89\"/>\n",
       "<polygon fill=\"#ffffff\" stroke=\"transparent\" points=\"427,-89 427,-113 498,-113 498,-89 427,-89\"/>\n",
       "<text text-anchor=\"start\" x=\"432\" y=\"-97.6\" font-family=\"-apple-system, BlinkMacSystemFont, 'Segoe UI', Helvetica, Arial, sans-serif, 'Apple Color Emoji', 'Segoe UI Emoji', 'Segoe UI Symbol'\" font-size=\"13.00\">available</text>\n",
       "<polygon fill=\"#ffffff\" stroke=\"transparent\" points=\"498,-89 498,-113 555,-113 555,-89 498,-89\"/>\n",
       "<text text-anchor=\"start\" x=\"503\" y=\"-98.6\" font-family=\"-apple-system, BlinkMacSystemFont, 'Segoe UI', Helvetica, Arial, sans-serif, 'Apple Color Emoji', 'Segoe UI Emoji', 'Segoe UI Symbol'\" font-style=\"italic\" font-size=\"13.00\">boolean</text>\n",
       "<polygon fill=\"#f5f5f5\" stroke=\"transparent\" points=\"417,-65 417,-89 427,-89 427,-65 417,-65\"/>\n",
       "<polygon fill=\"#f5f5f5\" stroke=\"transparent\" points=\"427,-65 427,-89 498,-89 498,-65 427,-65\"/>\n",
       "<text text-anchor=\"start\" x=\"432\" y=\"-73.6\" font-family=\"-apple-system, BlinkMacSystemFont, 'Segoe UI', Helvetica, Arial, sans-serif, 'Apple Color Emoji', 'Segoe UI Emoji', 'Segoe UI Symbol'\" font-size=\"13.00\">brand</text>\n",
       "<polygon fill=\"#f5f5f5\" stroke=\"transparent\" points=\"498,-65 498,-89 555,-89 555,-65 498,-65\"/>\n",
       "<text text-anchor=\"start\" x=\"516\" y=\"-74.6\" font-family=\"-apple-system, BlinkMacSystemFont, 'Segoe UI', Helvetica, Arial, sans-serif, 'Apple Color Emoji', 'Segoe UI Emoji', 'Segoe UI Symbol'\" font-style=\"italic\" font-size=\"13.00\">String</text>\n",
       "<polygon fill=\"none\" stroke=\"black\" points=\"416,-64 416,-210 556,-210 556,-64 416,-64\"/>\n",
       "</g>\n",
       "<!-- Events&#45;&gt;Product Attributes -->\n",
       "<g id=\"edge1\" class=\"edge\">\n",
       "<title>Events-&gt;Product Attributes</title>\n",
       "<path fill=\"none\" stroke=\"black\" d=\"M230.23,-137C284.19,-137 347.58,-137 397.63,-137\"/>\n",
       "<polygon fill=\"black\" stroke=\"black\" points=\"397.77,-140.5 407.77,-137 397.77,-133.5 397.77,-140.5\"/>\n",
       "<text text-anchor=\"middle\" x=\"319\" y=\"-140.6\" font-family=\"-apple-system, BlinkMacSystemFont, 'Segoe UI', Helvetica, Arial, sans-serif, 'Apple Color Emoji', 'Segoe UI Emoji', 'Segoe UI Symbol'\" font-size=\"13.00\">product_id → product_id</text>\n",
       "</g>\n",
       "</g>\n",
       "</svg>"
      ],
      "text/plain": [
       "<IPython.core.display.SVG object>"
      ]
     },
     "execution_count": 15,
     "metadata": {},
     "output_type": "execute_result"
    }
   ],
   "source": [
    "products_ds = session.read_csv(\"products.csv\", store_name=\"Product Attributes\", sep=\";\")\n",
    "\n",
    "events_ds.join(products_ds, mapping={\"product_id\": \"product_id\"})\n",
    "cube.schema"
   ]
  },
  {
   "cell_type": "code",
   "execution_count": 16,
   "metadata": {
    "execution": {
     "iopub.execute_input": "2021-03-02T04:12:34.030142Z",
     "iopub.status.busy": "2021-03-02T04:12:34.029782Z",
     "iopub.status.idle": "2021-03-02T04:12:38.586218Z",
     "shell.execute_reply": "2021-03-02T04:12:38.585796Z",
     "shell.execute_reply.started": "2021-03-02T04:12:34.030107Z"
    }
   },
   "outputs": [],
   "source": [
    "# loadig product to category mapping into the cube\n",
    "products_categories_ds = session.read_csv(\n",
    "    \"product-categories.csv\", store_name=\"Categories\"\n",
    ")\n",
    "events_ds.join(products_categories_ds, mapping={\"product_id\": \"product_id\"})\n",
    "\n",
    "# loadig categories hierarchy into the cube\n",
    "categories_tree_ds = session.read_csv(\n",
    "    \"categories_hierarchy.csv\",\n",
    "    store_name=\"Categories Hierarchy\",\n",
    "    sep=\";\",\n",
    "    keys=[\"Category_Lvl3\"],\n",
    ")\n",
    "products_categories_ds.join(categories_tree_ds, mapping={\"Category\": \"Category_Lvl3\"})"
   ]
  },
  {
   "cell_type": "code",
   "execution_count": 18,
   "metadata": {
    "execution": {
     "iopub.execute_input": "2021-03-02T04:12:38.594234Z",
     "iopub.status.busy": "2021-03-02T04:12:38.594071Z",
     "iopub.status.idle": "2021-03-02T04:12:38.935198Z",
     "shell.execute_reply": "2021-03-02T04:12:38.934396Z",
     "shell.execute_reply.started": "2021-03-02T04:12:38.594213Z"
    }
   },
   "outputs": [
    {
     "data": {
      "image/svg+xml": [
       "<svg xmlns=\"http://www.w3.org/2000/svg\" xmlns:xlink=\"http://www.w3.org/1999/xlink\" width=\"953px\" height=\"290px\" viewBox=\"0.00 0.00 953.00 290.00\">\n",
       "<g id=\"graph0\" class=\"graph\" transform=\"scale(1.0 1.0) rotate(0) translate(4 286)\">\n",
       "<title>Sales Analytics schema</title>\n",
       "<polygon fill=\"white\" stroke=\"transparent\" points=\"-4,4 -4,-286 949,-286 949,4 -4,4\"/>\n",
       "<!-- Events -->\n",
       "<g id=\"node1\" class=\"node\">\n",
       "<title>Events</title>\n",
       "<text text-anchor=\"start\" x=\"93.5\" y=\"-254.6\" font-family=\"-apple-system, BlinkMacSystemFont, 'Segoe UI', Helvetica, Arial, sans-serif, 'Apple Color Emoji', 'Segoe UI Emoji', 'Segoe UI Symbol'\" font-weight=\"bold\" font-size=\"13.00\">Events</text>\n",
       "<polygon fill=\"#f5f5f5\" stroke=\"transparent\" points=\"9,-221 9,-245 41,-245 41,-221 9,-221\"/>\n",
       "<text text-anchor=\"start\" x=\"14\" y=\"-230.6\" font-family=\"-apple-system, BlinkMacSystemFont, 'Segoe UI', Helvetica, Arial, sans-serif, 'Apple Color Emoji', 'Segoe UI Emoji', 'Segoe UI Symbol'\" font-weight=\"bold\" font-size=\"13.00\">key</text>\n",
       "<polygon fill=\"#f5f5f5\" stroke=\"transparent\" points=\"41,-221 41,-245 152,-245 152,-221 41,-221\"/>\n",
       "<text text-anchor=\"start\" x=\"46\" y=\"-229.6\" font-family=\"-apple-system, BlinkMacSystemFont, 'Segoe UI', Helvetica, Arial, sans-serif, 'Apple Color Emoji', 'Segoe UI Emoji', 'Segoe UI Symbol'\" font-size=\"13.00\">externalsessionid</text>\n",
       "<polygon fill=\"#f5f5f5\" stroke=\"transparent\" points=\"152,-221 152,-245 221,-245 221,-221 152,-221\"/>\n",
       "<text text-anchor=\"start\" x=\"202\" y=\"-230.6\" font-family=\"-apple-system, BlinkMacSystemFont, 'Segoe UI', Helvetica, Arial, sans-serif, 'Apple Color Emoji', 'Segoe UI Emoji', 'Segoe UI Symbol'\" font-style=\"italic\" font-size=\"13.00\">int</text>\n",
       "<polygon fill=\"#ffffff\" stroke=\"transparent\" points=\"9,-197 9,-221 41,-221 41,-197 9,-197\"/>\n",
       "<polygon fill=\"#ffffff\" stroke=\"transparent\" points=\"41,-197 41,-221 152,-221 152,-197 41,-197\"/>\n",
       "<text text-anchor=\"start\" x=\"46\" y=\"-205.6\" font-family=\"-apple-system, BlinkMacSystemFont, 'Segoe UI', Helvetica, Arial, sans-serif, 'Apple Color Emoji', 'Segoe UI Emoji', 'Segoe UI Symbol'\" font-size=\"13.00\">timestamp</text>\n",
       "<polygon fill=\"#ffffff\" stroke=\"transparent\" points=\"152,-197 152,-221 221,-221 221,-197 152,-197\"/>\n",
       "<text text-anchor=\"start\" x=\"191\" y=\"-206.6\" font-family=\"-apple-system, BlinkMacSystemFont, 'Segoe UI', Helvetica, Arial, sans-serif, 'Apple Color Emoji', 'Segoe UI Emoji', 'Segoe UI Symbol'\" font-style=\"italic\" font-size=\"13.00\">long</text>\n",
       "<polygon fill=\"#f5f5f5\" stroke=\"transparent\" points=\"9,-173 9,-197 41,-197 41,-173 9,-173\"/>\n",
       "<polygon fill=\"#f5f5f5\" stroke=\"transparent\" points=\"41,-173 41,-197 152,-197 152,-173 41,-173\"/>\n",
       "<text text-anchor=\"start\" x=\"46\" y=\"-181.6\" font-family=\"-apple-system, BlinkMacSystemFont, 'Segoe UI', Helvetica, Arial, sans-serif, 'Apple Color Emoji', 'Segoe UI Emoji', 'Segoe UI Symbol'\" font-size=\"13.00\">eventdate</text>\n",
       "<polygon fill=\"#f5f5f5\" stroke=\"transparent\" points=\"152,-173 152,-197 221,-197 221,-173 152,-173\"/>\n",
       "<text text-anchor=\"start\" x=\"157\" y=\"-182.6\" font-family=\"-apple-system, BlinkMacSystemFont, 'Segoe UI', Helvetica, Arial, sans-serif, 'Apple Color Emoji', 'Segoe UI Emoji', 'Segoe UI Symbol'\" font-style=\"italic\" font-size=\"13.00\">LocalDate</text>\n",
       "<polygon fill=\"#ffffff\" stroke=\"transparent\" points=\"9,-149 9,-173 41,-173 41,-149 9,-149\"/>\n",
       "<polygon fill=\"#ffffff\" stroke=\"transparent\" points=\"41,-149 41,-173 152,-173 152,-149 41,-149\"/>\n",
       "<text text-anchor=\"start\" x=\"46\" y=\"-157.6\" font-family=\"-apple-system, BlinkMacSystemFont, 'Segoe UI', Helvetica, Arial, sans-serif, 'Apple Color Emoji', 'Segoe UI Emoji', 'Segoe UI Symbol'\" font-size=\"13.00\">ordernumber</text>\n",
       "<polygon fill=\"#ffffff\" stroke=\"transparent\" points=\"152,-149 152,-173 221,-173 221,-149 152,-149\"/>\n",
       "<text text-anchor=\"start\" x=\"176\" y=\"-158.6\" font-family=\"-apple-system, BlinkMacSystemFont, 'Segoe UI', Helvetica, Arial, sans-serif, 'Apple Color Emoji', 'Segoe UI Emoji', 'Segoe UI Symbol'\" font-style=\"italic\" font-size=\"13.00\">double</text>\n",
       "<polygon fill=\"#f5f5f5\" stroke=\"transparent\" points=\"9,-125 9,-149 41,-149 41,-125 9,-125\"/>\n",
       "<polygon fill=\"#f5f5f5\" stroke=\"transparent\" points=\"41,-125 41,-149 152,-149 152,-125 41,-125\"/>\n",
       "<text text-anchor=\"start\" x=\"46\" y=\"-133.6\" font-family=\"-apple-system, BlinkMacSystemFont, 'Segoe UI', Helvetica, Arial, sans-serif, 'Apple Color Emoji', 'Segoe UI Emoji', 'Segoe UI Symbol'\" font-size=\"13.00\">pricecents</text>\n",
       "<polygon fill=\"#f5f5f5\" stroke=\"transparent\" points=\"152,-125 152,-149 221,-149 221,-125 152,-125\"/>\n",
       "<text text-anchor=\"start\" x=\"176\" y=\"-134.6\" font-family=\"-apple-system, BlinkMacSystemFont, 'Segoe UI', Helvetica, Arial, sans-serif, 'Apple Color Emoji', 'Segoe UI Emoji', 'Segoe UI Symbol'\" font-style=\"italic\" font-size=\"13.00\">double</text>\n",
       "<polygon fill=\"#ffffff\" stroke=\"transparent\" points=\"9,-101 9,-125 41,-125 41,-101 9,-101\"/>\n",
       "<polygon fill=\"#ffffff\" stroke=\"transparent\" points=\"41,-101 41,-125 152,-125 152,-101 41,-101\"/>\n",
       "<text text-anchor=\"start\" x=\"46\" y=\"-109.6\" font-family=\"-apple-system, BlinkMacSystemFont, 'Segoe UI', Helvetica, Arial, sans-serif, 'Apple Color Emoji', 'Segoe UI Emoji', 'Segoe UI Symbol'\" font-size=\"13.00\">totalcents</text>\n",
       "<polygon fill=\"#ffffff\" stroke=\"transparent\" points=\"152,-101 152,-125 221,-125 221,-101 152,-101\"/>\n",
       "<text text-anchor=\"start\" x=\"176\" y=\"-110.6\" font-family=\"-apple-system, BlinkMacSystemFont, 'Segoe UI', Helvetica, Arial, sans-serif, 'Apple Color Emoji', 'Segoe UI Emoji', 'Segoe UI Symbol'\" font-style=\"italic\" font-size=\"13.00\">double</text>\n",
       "<polygon fill=\"#f5f5f5\" stroke=\"transparent\" points=\"9,-77 9,-101 41,-101 41,-77 9,-77\"/>\n",
       "<polygon fill=\"#f5f5f5\" stroke=\"transparent\" points=\"41,-77 41,-101 152,-101 152,-77 41,-77\"/>\n",
       "<text text-anchor=\"start\" x=\"46\" y=\"-85.6\" font-family=\"-apple-system, BlinkMacSystemFont, 'Segoe UI', Helvetica, Arial, sans-serif, 'Apple Color Emoji', 'Segoe UI Emoji', 'Segoe UI Symbol'\" font-size=\"13.00\">quantity</text>\n",
       "<polygon fill=\"#f5f5f5\" stroke=\"transparent\" points=\"152,-77 152,-101 221,-101 221,-77 152,-77\"/>\n",
       "<text text-anchor=\"start\" x=\"176\" y=\"-86.6\" font-family=\"-apple-system, BlinkMacSystemFont, 'Segoe UI', Helvetica, Arial, sans-serif, 'Apple Color Emoji', 'Segoe UI Emoji', 'Segoe UI Symbol'\" font-style=\"italic\" font-size=\"13.00\">double</text>\n",
       "<polygon fill=\"#ffffff\" stroke=\"transparent\" points=\"9,-53 9,-77 41,-77 41,-53 9,-53\"/>\n",
       "<polygon fill=\"#ffffff\" stroke=\"transparent\" points=\"41,-53 41,-77 152,-77 152,-53 41,-53\"/>\n",
       "<text text-anchor=\"start\" x=\"46\" y=\"-61.6\" font-family=\"-apple-system, BlinkMacSystemFont, 'Segoe UI', Helvetica, Arial, sans-serif, 'Apple Color Emoji', 'Segoe UI Emoji', 'Segoe UI Symbol'\" font-size=\"13.00\">product_id</text>\n",
       "<polygon fill=\"#ffffff\" stroke=\"transparent\" points=\"152,-53 152,-77 221,-77 221,-53 152,-53\"/>\n",
       "<text text-anchor=\"start\" x=\"176\" y=\"-62.6\" font-family=\"-apple-system, BlinkMacSystemFont, 'Segoe UI', Helvetica, Arial, sans-serif, 'Apple Color Emoji', 'Segoe UI Emoji', 'Segoe UI Symbol'\" font-style=\"italic\" font-size=\"13.00\">double</text>\n",
       "<polygon fill=\"#f5f5f5\" stroke=\"transparent\" points=\"9,-29 9,-53 41,-53 41,-29 9,-29\"/>\n",
       "<text text-anchor=\"start\" x=\"14\" y=\"-38.6\" font-family=\"-apple-system, BlinkMacSystemFont, 'Segoe UI', Helvetica, Arial, sans-serif, 'Apple Color Emoji', 'Segoe UI Emoji', 'Segoe UI Symbol'\" font-weight=\"bold\" font-size=\"13.00\">key</text>\n",
       "<polygon fill=\"#f5f5f5\" stroke=\"transparent\" points=\"41,-29 41,-53 152,-53 152,-29 41,-29\"/>\n",
       "<text text-anchor=\"start\" x=\"46\" y=\"-37.6\" font-family=\"-apple-system, BlinkMacSystemFont, 'Segoe UI', Helvetica, Arial, sans-serif, 'Apple Color Emoji', 'Segoe UI Emoji', 'Segoe UI Symbol'\" font-size=\"13.00\">eventtype</text>\n",
       "<polygon fill=\"#f5f5f5\" stroke=\"transparent\" points=\"152,-29 152,-53 221,-53 221,-29 152,-29\"/>\n",
       "<text text-anchor=\"start\" x=\"182\" y=\"-38.6\" font-family=\"-apple-system, BlinkMacSystemFont, 'Segoe UI', Helvetica, Arial, sans-serif, 'Apple Color Emoji', 'Segoe UI Emoji', 'Segoe UI Symbol'\" font-style=\"italic\" font-size=\"13.00\">String</text>\n",
       "<polygon fill=\"#ffffff\" stroke=\"transparent\" points=\"9,-5 9,-29 41,-29 41,-5 9,-5\"/>\n",
       "<polygon fill=\"#ffffff\" stroke=\"transparent\" points=\"41,-5 41,-29 152,-29 152,-5 41,-5\"/>\n",
       "<text text-anchor=\"start\" x=\"46\" y=\"-13.6\" font-family=\"-apple-system, BlinkMacSystemFont, 'Segoe UI', Helvetica, Arial, sans-serif, 'Apple Color Emoji', 'Segoe UI Emoji', 'Segoe UI Symbol'\" font-size=\"13.00\">duration</text>\n",
       "<polygon fill=\"#ffffff\" stroke=\"transparent\" points=\"152,-5 152,-29 221,-29 221,-5 152,-5\"/>\n",
       "<text text-anchor=\"start\" x=\"182\" y=\"-14.6\" font-family=\"-apple-system, BlinkMacSystemFont, 'Segoe UI', Helvetica, Arial, sans-serif, 'Apple Color Emoji', 'Segoe UI Emoji', 'Segoe UI Symbol'\" font-style=\"italic\" font-size=\"13.00\">String</text>\n",
       "<polygon fill=\"none\" stroke=\"black\" points=\"8,-4 8,-270 222,-270 222,-4 8,-4\"/>\n",
       "</g>\n",
       "<!-- Product Attributes -->\n",
       "<g id=\"node2\" class=\"node\">\n",
       "<title>Product Attributes</title>\n",
       "<text text-anchor=\"start\" x=\"428.5\" y=\"-262.6\" font-family=\"-apple-system, BlinkMacSystemFont, 'Segoe UI', Helvetica, Arial, sans-serif, 'Apple Color Emoji', 'Segoe UI Emoji', 'Segoe UI Symbol'\" font-weight=\"bold\" font-size=\"13.00\">Product Attributes</text>\n",
       "<polygon fill=\"#f5f5f5\" stroke=\"transparent\" points=\"417,-229 417,-253 427,-253 427,-229 417,-229\"/>\n",
       "<polygon fill=\"#f5f5f5\" stroke=\"transparent\" points=\"427,-229 427,-253 498,-253 498,-229 427,-229\"/>\n",
       "<text text-anchor=\"start\" x=\"432\" y=\"-237.6\" font-family=\"-apple-system, BlinkMacSystemFont, 'Segoe UI', Helvetica, Arial, sans-serif, 'Apple Color Emoji', 'Segoe UI Emoji', 'Segoe UI Symbol'\" font-size=\"13.00\">product_id</text>\n",
       "<polygon fill=\"#f5f5f5\" stroke=\"transparent\" points=\"498,-229 498,-253 555,-253 555,-229 498,-229\"/>\n",
       "<text text-anchor=\"start\" x=\"510\" y=\"-238.6\" font-family=\"-apple-system, BlinkMacSystemFont, 'Segoe UI', Helvetica, Arial, sans-serif, 'Apple Color Emoji', 'Segoe UI Emoji', 'Segoe UI Symbol'\" font-style=\"italic\" font-size=\"13.00\">double</text>\n",
       "<polygon fill=\"#ffffff\" stroke=\"transparent\" points=\"417,-205 417,-229 427,-229 427,-205 417,-205\"/>\n",
       "<polygon fill=\"#ffffff\" stroke=\"transparent\" points=\"427,-205 427,-229 498,-229 498,-205 427,-205\"/>\n",
       "<text text-anchor=\"start\" x=\"432\" y=\"-213.6\" font-family=\"-apple-system, BlinkMacSystemFont, 'Segoe UI', Helvetica, Arial, sans-serif, 'Apple Color Emoji', 'Segoe UI Emoji', 'Segoe UI Symbol'\" font-size=\"13.00\">name</text>\n",
       "<polygon fill=\"#ffffff\" stroke=\"transparent\" points=\"498,-205 498,-229 555,-229 555,-205 498,-205\"/>\n",
       "<text text-anchor=\"start\" x=\"516\" y=\"-214.6\" font-family=\"-apple-system, BlinkMacSystemFont, 'Segoe UI', Helvetica, Arial, sans-serif, 'Apple Color Emoji', 'Segoe UI Emoji', 'Segoe UI Symbol'\" font-style=\"italic\" font-size=\"13.00\">String</text>\n",
       "<polygon fill=\"#f5f5f5\" stroke=\"transparent\" points=\"417,-181 417,-205 427,-205 427,-181 417,-181\"/>\n",
       "<polygon fill=\"#f5f5f5\" stroke=\"transparent\" points=\"427,-181 427,-205 498,-205 498,-181 427,-181\"/>\n",
       "<text text-anchor=\"start\" x=\"432\" y=\"-189.6\" font-family=\"-apple-system, BlinkMacSystemFont, 'Segoe UI', Helvetica, Arial, sans-serif, 'Apple Color Emoji', 'Segoe UI Emoji', 'Segoe UI Symbol'\" font-size=\"13.00\">price</text>\n",
       "<polygon fill=\"#f5f5f5\" stroke=\"transparent\" points=\"498,-181 498,-205 555,-205 555,-181 498,-181\"/>\n",
       "<text text-anchor=\"start\" x=\"536\" y=\"-190.6\" font-family=\"-apple-system, BlinkMacSystemFont, 'Segoe UI', Helvetica, Arial, sans-serif, 'Apple Color Emoji', 'Segoe UI Emoji', 'Segoe UI Symbol'\" font-style=\"italic\" font-size=\"13.00\">int</text>\n",
       "<polygon fill=\"#ffffff\" stroke=\"transparent\" points=\"417,-157 417,-181 427,-181 427,-157 417,-157\"/>\n",
       "<polygon fill=\"#ffffff\" stroke=\"transparent\" points=\"427,-157 427,-181 498,-181 498,-157 427,-157\"/>\n",
       "<text text-anchor=\"start\" x=\"432\" y=\"-165.6\" font-family=\"-apple-system, BlinkMacSystemFont, 'Segoe UI', Helvetica, Arial, sans-serif, 'Apple Color Emoji', 'Segoe UI Emoji', 'Segoe UI Symbol'\" font-size=\"13.00\">available</text>\n",
       "<polygon fill=\"#ffffff\" stroke=\"transparent\" points=\"498,-157 498,-181 555,-181 555,-157 498,-157\"/>\n",
       "<text text-anchor=\"start\" x=\"503\" y=\"-166.6\" font-family=\"-apple-system, BlinkMacSystemFont, 'Segoe UI', Helvetica, Arial, sans-serif, 'Apple Color Emoji', 'Segoe UI Emoji', 'Segoe UI Symbol'\" font-style=\"italic\" font-size=\"13.00\">boolean</text>\n",
       "<polygon fill=\"#f5f5f5\" stroke=\"transparent\" points=\"417,-133 417,-157 427,-157 427,-133 417,-133\"/>\n",
       "<polygon fill=\"#f5f5f5\" stroke=\"transparent\" points=\"427,-133 427,-157 498,-157 498,-133 427,-133\"/>\n",
       "<text text-anchor=\"start\" x=\"432\" y=\"-141.6\" font-family=\"-apple-system, BlinkMacSystemFont, 'Segoe UI', Helvetica, Arial, sans-serif, 'Apple Color Emoji', 'Segoe UI Emoji', 'Segoe UI Symbol'\" font-size=\"13.00\">brand</text>\n",
       "<polygon fill=\"#f5f5f5\" stroke=\"transparent\" points=\"498,-133 498,-157 555,-157 555,-133 498,-133\"/>\n",
       "<text text-anchor=\"start\" x=\"516\" y=\"-142.6\" font-family=\"-apple-system, BlinkMacSystemFont, 'Segoe UI', Helvetica, Arial, sans-serif, 'Apple Color Emoji', 'Segoe UI Emoji', 'Segoe UI Symbol'\" font-style=\"italic\" font-size=\"13.00\">String</text>\n",
       "<polygon fill=\"none\" stroke=\"black\" points=\"416,-132 416,-278 556,-278 556,-132 416,-132\"/>\n",
       "</g>\n",
       "<!-- Events&#45;&gt;Product Attributes -->\n",
       "<g id=\"edge2\" class=\"edge\">\n",
       "<title>Events-&gt;Product Attributes</title>\n",
       "<path fill=\"none\" stroke=\"black\" d=\"M230.23,-158.05C284.19,-167.99 347.58,-179.68 397.63,-188.9\"/>\n",
       "<polygon fill=\"black\" stroke=\"black\" points=\"397.31,-192.4 407.77,-190.77 398.57,-185.51 397.31,-192.4\"/>\n",
       "<text text-anchor=\"middle\" x=\"319\" y=\"-189.6\" font-family=\"-apple-system, BlinkMacSystemFont, 'Segoe UI', Helvetica, Arial, sans-serif, 'Apple Color Emoji', 'Segoe UI Emoji', 'Segoe UI Symbol'\" font-size=\"13.00\">product_id → product_id</text>\n",
       "</g>\n",
       "<!-- Categories -->\n",
       "<g id=\"node3\" class=\"node\">\n",
       "<title>Categories</title>\n",
       "<text text-anchor=\"start\" x=\"452.5\" y=\"-90.6\" font-family=\"-apple-system, BlinkMacSystemFont, 'Segoe UI', Helvetica, Arial, sans-serif, 'Apple Color Emoji', 'Segoe UI Emoji', 'Segoe UI Symbol'\" font-weight=\"bold\" font-size=\"13.00\">Categories</text>\n",
       "<polygon fill=\"#f5f5f5\" stroke=\"transparent\" points=\"421,-57 421,-81 431,-81 431,-57 421,-57\"/>\n",
       "<polygon fill=\"#f5f5f5\" stroke=\"transparent\" points=\"431,-57 431,-81 502,-81 502,-57 431,-57\"/>\n",
       "<text text-anchor=\"start\" x=\"436\" y=\"-65.6\" font-family=\"-apple-system, BlinkMacSystemFont, 'Segoe UI', Helvetica, Arial, sans-serif, 'Apple Color Emoji', 'Segoe UI Emoji', 'Segoe UI Symbol'\" font-size=\"13.00\">Category</text>\n",
       "<polygon fill=\"#f5f5f5\" stroke=\"transparent\" points=\"502,-57 502,-81 552,-81 552,-57 502,-57\"/>\n",
       "<text text-anchor=\"start\" x=\"513\" y=\"-66.6\" font-family=\"-apple-system, BlinkMacSystemFont, 'Segoe UI', Helvetica, Arial, sans-serif, 'Apple Color Emoji', 'Segoe UI Emoji', 'Segoe UI Symbol'\" font-style=\"italic\" font-size=\"13.00\">String</text>\n",
       "<polygon fill=\"#ffffff\" stroke=\"transparent\" points=\"421,-33 421,-57 431,-57 431,-33 421,-33\"/>\n",
       "<polygon fill=\"#ffffff\" stroke=\"transparent\" points=\"431,-33 431,-57 502,-57 502,-33 431,-33\"/>\n",
       "<text text-anchor=\"start\" x=\"436\" y=\"-41.6\" font-family=\"-apple-system, BlinkMacSystemFont, 'Segoe UI', Helvetica, Arial, sans-serif, 'Apple Color Emoji', 'Segoe UI Emoji', 'Segoe UI Symbol'\" font-size=\"13.00\">product_id</text>\n",
       "<polygon fill=\"#ffffff\" stroke=\"transparent\" points=\"502,-33 502,-57 552,-57 552,-33 502,-33\"/>\n",
       "<text text-anchor=\"start\" x=\"507\" y=\"-42.6\" font-family=\"-apple-system, BlinkMacSystemFont, 'Segoe UI', Helvetica, Arial, sans-serif, 'Apple Color Emoji', 'Segoe UI Emoji', 'Segoe UI Symbol'\" font-style=\"italic\" font-size=\"13.00\">double</text>\n",
       "<polygon fill=\"none\" stroke=\"black\" points=\"419.5,-32 419.5,-106 552.5,-106 552.5,-32 419.5,-32\"/>\n",
       "</g>\n",
       "<!-- Events&#45;&gt;Categories -->\n",
       "<g id=\"edge1\" class=\"edge\">\n",
       "<title>Events-&gt;Categories</title>\n",
       "<path fill=\"none\" stroke=\"black\" d=\"M230.23,-115.95C285.59,-105.75 350.88,-93.72 401.5,-84.39\"/>\n",
       "<polygon fill=\"black\" stroke=\"black\" points=\"402.22,-87.81 411.42,-82.56 400.96,-80.93 402.22,-87.81\"/>\n",
       "<text text-anchor=\"middle\" x=\"319\" y=\"-114.6\" font-family=\"-apple-system, BlinkMacSystemFont, 'Segoe UI', Helvetica, Arial, sans-serif, 'Apple Color Emoji', 'Segoe UI Emoji', 'Segoe UI Symbol'\" font-size=\"13.00\">product_id → product_id</text>\n",
       "</g>\n",
       "<!-- Categories Hierarchy -->\n",
       "<g id=\"node4\" class=\"node\">\n",
       "<title>Categories Hierarchy</title>\n",
       "<text text-anchor=\"start\" x=\"785.5\" y=\"-102.6\" font-family=\"-apple-system, BlinkMacSystemFont, 'Segoe UI', Helvetica, Arial, sans-serif, 'Apple Color Emoji', 'Segoe UI Emoji', 'Segoe UI Symbol'\" font-weight=\"bold\" font-size=\"13.00\">Categories Hierarchy</text>\n",
       "<polygon fill=\"#f5f5f5\" stroke=\"transparent\" points=\"766,-69 766,-93 798,-93 798,-69 766,-69\"/>\n",
       "<polygon fill=\"#f5f5f5\" stroke=\"transparent\" points=\"798,-69 798,-93 892,-93 892,-69 798,-69\"/>\n",
       "<text text-anchor=\"start\" x=\"803\" y=\"-77.6\" font-family=\"-apple-system, BlinkMacSystemFont, 'Segoe UI', Helvetica, Arial, sans-serif, 'Apple Color Emoji', 'Segoe UI Emoji', 'Segoe UI Symbol'\" font-size=\"13.00\">Category_Lvl1</text>\n",
       "<polygon fill=\"#f5f5f5\" stroke=\"transparent\" points=\"892,-69 892,-93 936,-93 936,-69 892,-69\"/>\n",
       "<text text-anchor=\"start\" x=\"897\" y=\"-78.6\" font-family=\"-apple-system, BlinkMacSystemFont, 'Segoe UI', Helvetica, Arial, sans-serif, 'Apple Color Emoji', 'Segoe UI Emoji', 'Segoe UI Symbol'\" font-style=\"italic\" font-size=\"13.00\">String</text>\n",
       "<polygon fill=\"#ffffff\" stroke=\"transparent\" points=\"766,-45 766,-69 798,-69 798,-45 766,-45\"/>\n",
       "<polygon fill=\"#ffffff\" stroke=\"transparent\" points=\"798,-45 798,-69 892,-69 892,-45 798,-45\"/>\n",
       "<text text-anchor=\"start\" x=\"803\" y=\"-53.6\" font-family=\"-apple-system, BlinkMacSystemFont, 'Segoe UI', Helvetica, Arial, sans-serif, 'Apple Color Emoji', 'Segoe UI Emoji', 'Segoe UI Symbol'\" font-size=\"13.00\">Category_Lvl2</text>\n",
       "<polygon fill=\"#ffffff\" stroke=\"transparent\" points=\"892,-45 892,-69 936,-69 936,-45 892,-45\"/>\n",
       "<text text-anchor=\"start\" x=\"897\" y=\"-54.6\" font-family=\"-apple-system, BlinkMacSystemFont, 'Segoe UI', Helvetica, Arial, sans-serif, 'Apple Color Emoji', 'Segoe UI Emoji', 'Segoe UI Symbol'\" font-style=\"italic\" font-size=\"13.00\">String</text>\n",
       "<polygon fill=\"#f5f5f5\" stroke=\"transparent\" points=\"766,-21 766,-45 798,-45 798,-21 766,-21\"/>\n",
       "<text text-anchor=\"start\" x=\"771\" y=\"-30.6\" font-family=\"-apple-system, BlinkMacSystemFont, 'Segoe UI', Helvetica, Arial, sans-serif, 'Apple Color Emoji', 'Segoe UI Emoji', 'Segoe UI Symbol'\" font-weight=\"bold\" font-size=\"13.00\">key</text>\n",
       "<polygon fill=\"#f5f5f5\" stroke=\"transparent\" points=\"798,-21 798,-45 892,-45 892,-21 798,-21\"/>\n",
       "<text text-anchor=\"start\" x=\"803\" y=\"-29.6\" font-family=\"-apple-system, BlinkMacSystemFont, 'Segoe UI', Helvetica, Arial, sans-serif, 'Apple Color Emoji', 'Segoe UI Emoji', 'Segoe UI Symbol'\" font-size=\"13.00\">Category_Lvl3</text>\n",
       "<polygon fill=\"#f5f5f5\" stroke=\"transparent\" points=\"892,-21 892,-45 936,-45 936,-21 892,-21\"/>\n",
       "<text text-anchor=\"start\" x=\"897\" y=\"-30.6\" font-family=\"-apple-system, BlinkMacSystemFont, 'Segoe UI', Helvetica, Arial, sans-serif, 'Apple Color Emoji', 'Segoe UI Emoji', 'Segoe UI Symbol'\" font-style=\"italic\" font-size=\"13.00\">String</text>\n",
       "<polygon fill=\"none\" stroke=\"black\" points=\"765,-20 765,-118 937,-118 937,-20 765,-20\"/>\n",
       "</g>\n",
       "<!-- Categories&#45;&gt;Categories Hierarchy -->\n",
       "<g id=\"edge3\" class=\"edge\">\n",
       "<title>Categories-&gt;Categories Hierarchy</title>\n",
       "<path fill=\"none\" stroke=\"black\" d=\"M560.9,-69C614.39,-69 687.41,-69 746.68,-69\"/>\n",
       "<polygon fill=\"black\" stroke=\"black\" points=\"746.82,-72.5 756.82,-69 746.82,-65.5 746.82,-72.5\"/>\n",
       "<text text-anchor=\"middle\" x=\"660.5\" y=\"-72.6\" font-family=\"-apple-system, BlinkMacSystemFont, 'Segoe UI', Helvetica, Arial, sans-serif, 'Apple Color Emoji', 'Segoe UI Emoji', 'Segoe UI Symbol'\" font-size=\"13.00\">Category → Category_Lvl3</text>\n",
       "</g>\n",
       "</g>\n",
       "</svg>"
      ],
      "text/plain": [
       "<IPython.core.display.SVG object>"
      ]
     },
     "execution_count": 18,
     "metadata": {},
     "output_type": "execute_result"
    }
   ],
   "source": [
    "cube.schema"
   ]
  },
  {
   "cell_type": "code",
   "execution_count": 19,
   "metadata": {
    "execution": {
     "iopub.execute_input": "2021-03-02T04:12:38.936434Z",
     "iopub.status.busy": "2021-03-02T04:12:38.936098Z",
     "iopub.status.idle": "2021-03-02T04:12:40.044294Z",
     "shell.execute_reply": "2021-03-02T04:12:40.043635Z",
     "shell.execute_reply.started": "2021-03-02T04:12:38.936408Z"
    }
   },
   "outputs": [],
   "source": [
    "# Creating a multi-level hierarchy to automatically expand data:\n",
    "cube.hierarchies[\"Catalog\"] = [\n",
    "    cube.levels[\"Category_Lvl1\"],\n",
    "    cube.levels[\"Category_Lvl2\"],\n",
    "    cube.levels[\"Category\"],\n",
    "]"
   ]
  },
  {
   "cell_type": "code",
   "execution_count": 20,
   "metadata": {
    "execution": {
     "iopub.execute_input": "2021-03-02T04:12:40.045368Z",
     "iopub.status.busy": "2021-03-02T04:12:40.045101Z",
     "iopub.status.idle": "2021-03-02T04:12:40.372703Z",
     "shell.execute_reply": "2021-03-02T04:12:40.372120Z",
     "shell.execute_reply.started": "2021-03-02T04:12:40.045343Z"
    }
   },
   "outputs": [],
   "source": [
    "# A measure to count unique sessions\n",
    "cube.measures[\"UniqueSessionsCount\"] = tt.agg.count_distinct(\n",
    "    events_ds[\"externalsessionid\"]\n",
    ")"
   ]
  },
  {
   "cell_type": "code",
   "execution_count": 21,
   "metadata": {
    "atoti": {
     "height": 509,
     "state": {
      "name": "",
      "type": "container",
      "value": {
       "body": {
        "configuration": {
         "tabular": {
          "addButtonFilter": "numeric",
          "cellRenderers": [
           "tree-layout"
          ],
          "columns": [
           {
            "key": "[Measures].[UniqueSessionsCount]",
            "width": 161
           }
          ],
          "columnsGroups": [
           {
            "captionProducer": "firstColumn",
            "cellFactory": "kpi-status",
            "selector": "kpi-status"
           },
           {
            "captionProducer": "firstColumn",
            "cellFactory": "lookup",
            "selector": "lookup"
           },
           {
            "captionProducer": "expiry",
            "cellFactory": "expiry",
            "selector": "kpi-expiry"
           },
           {
            "captionProducer": "columnMerge",
            "cellFactory": {
             "args": {},
             "key": "treeCells"
            },
            "selector": "member"
           }
          ],
          "defaultOptions": {
           "headerHeight": 47
          },
          "expansion": {
           "automaticExpansion": true
          },
          "hideAddButton": true,
          "pinnedHeaderSelector": "member",
          "sortingMode": "non-breaking",
          "statisticsShown": true
         }
        },
        "contextValues": {},
        "mdx": "SELECT NON EMPTY Hierarchize(DrilldownLevel([Categories Hierarchy].[Catalog].[ALL].[AllMember])) ON ROWS, NON EMPTY Crossjoin([Measures].[UniqueSessionsCount], Hierarchize(DrilldownLevel([Events].[eventtype].[ALL].[AllMember]))) ON COLUMNS FROM [Sales Analytics] CELL PROPERTIES VALUE, FORMATTED_VALUE, BACK_COLOR, FORE_COLOR, FONT_FLAGS",
        "ranges": {
         "column": {
          "chunkSize": 50,
          "thresholdPercentage": 0.2
         },
         "row": {
          "chunkSize": 2000,
          "thresholdPercentage": 0.1
         }
        },
        "serverUrl": "",
        "updateMode": "once"
       },
       "containerKey": "pivot-table",
       "showTitleBar": false,
       "style": {}
      }
     },
     "widget": {
      "mapping": {
       "columns": [
        "ALL_MEASURES"
       ],
       "measures": [
        "[Measures].[UniqueSessionsCount]"
       ],
       "rows": [
        "[Categories Hierarchy].[Catalog].[Category_Lvl1]"
       ]
      },
      "query": {
       "mdx": "SELECT NON EMPTY Hierarchize(Descendants({[Categories Hierarchy].[Catalog].[AllMember]}, 1, SELF_AND_BEFORE)) ON ROWS, NON EMPTY {[Measures].[UniqueSessionsCount]} ON COLUMNS FROM [Sales Analytics]",
       "updateMode": "once"
      },
      "serverKey": "default",
      "widgetKey": "pivot-table"
     }
    },
    "execution": {
     "iopub.execute_input": "2021-03-02T04:12:40.373730Z",
     "iopub.status.busy": "2021-03-02T04:12:40.373451Z",
     "iopub.status.idle": "2021-03-02T04:12:41.780542Z",
     "shell.execute_reply": "2021-03-02T04:12:41.779119Z",
     "shell.execute_reply.started": "2021-03-02T04:12:40.373707Z"
    }
   },
   "outputs": [
    {
     "data": {
      "application/vnd.atoti.v0+json": {
       "name": null,
       "session": "Unnamed"
      },
      "text/html": [
       "<img src=\"data:image/svg+xml;charset=utf8,%3C?xml%20version=%221.0%22%20standalone=%22no%22?%3E%3Csvg%20xmlns=%22http://www.w3.org/2000/svg%22%20height=%22497%22%20width=%221158%22%3E%3CforeignObject%20width=%22100%25%22%20height=%22100%25%22%20x=%220%22%20y=%220%22%3E%3Cstyle%20type=%22text/css%22%3E.anticon%20%7Bdisplay:%20inline-block;%20color:%20inherit;%20font-style:%20normal;%20line-height:%200;%20text-align:%20center;%20text-transform:%20none;%20vertical-align:%20-0.125em;%20text-rendering:%20optimizelegibility;%20-moz-osx-font-smoothing:%20grayscale%7D%0A.anticon%20%3E%20*%20%7Bline-height:%201%7D%0A.anticon%20svg%20%7Bdisplay:%20inline-block%7D%0A.anticon%5Btabindex%5D%20%7Bcursor:%20pointer%7D%0A*,%20::before,%20::after%20%7Bbox-sizing:%20unset%7D%0A.ant-root%20%5Bclass%5E=%22ant-%22%5D,%20.ant-root%20%5Bclass*=%22ant-%22%5D,%20.ant-root%20%5Bclass%5E=%22ant-%22%5D%20*,%20.ant-root%20%5Bclass*=%22ant-%22%5D%20*,%20.ant-root%20%5Bclass%5E=%22ant-%22%5D%20::before,%20.ant-root%20%5Bclass*=%22ant-%22%5D%20::before,%20.ant-root%20%5Bclass%5E=%22ant-%22%5D%20::after,%20.ant-root%20%5Bclass*=%22ant-%22%5D%20::after%20%7Bbox-sizing:%20border-box%7D%0A.ant-root%20html,%20.ant-root%20%7Bwidth:%20100%25;%20height:%20100%25%7D%0A.ant-root%20*,%20.ant-root%20::before,%20.ant-root%20::after%20%7Bbox-sizing:%20border-box%7D%0A.ant-root%20%7Bmargin-top:%200px;%20margin-right:%200px;%20margin-bottom:%200px;%20margin-left:%200px;%20color:%20rgb(89,%2089,%2089);%20font-size:%2012px;%20font-family:%20-apple-system,%20BlinkMacSystemFont,%20%22Segoe%20UI%22,%20Roboto,%20%22Helvetica%20Neue%22,%20Arial,%20%22Noto%20Sans%22,%20sans-serif,%20%22Apple%20Color%20Emoji%22,%20%22Segoe%20UI%20Emoji%22,%20%22Segoe%20UI%20Symbol%22,%20%22Noto%20Color%20Emoji%22;%20font-variant-caps:%20normal;%20font-variant-alternates:%20normal;%20font-variant-east-asian:%20normal;%20font-variant-ligatures:%20normal;%20font-variant-numeric:%20tabular-nums;%20font-variant-position:%20normal;%20line-height:%201.66667;%20background-color:%20rgb(255,%20255,%20255);%20--antd-wave-shadow-color:%20undefined;%20--scroll-bar:%20undefined%7D%0A.ant-root%20svg:not(:root)%20%7Boverflow-x:%20hidden;%20overflow-y:%20hidden%7D%0A.ant-root%20.anticon%20%7Bdisplay:%20inline-block;%20color:%20inherit;%20font-style:%20normal;%20line-height:%200;%20text-align:%20center;%20text-transform:%20none;%20vertical-align:%20-0.125em;%20text-rendering:%20optimizelegibility;%20-moz-osx-font-smoothing:%20grayscale%7D%0A.ant-root%20.anticon%20%3E%20*%20%7Bline-height:%201%7D%0A.ant-root%20.anticon%20svg%20%7Bdisplay:%20inline-block%7D%0A.ant-root%20.anticon%5Btabindex%5D%20%7Bcursor:%20pointer%7D%0A.ant-root%20.ant-spin%20%7Bbox-sizing:%20border-box;%20margin-top:%200px;%20margin-right:%200px;%20margin-bottom:%200px;%20margin-left:%200px;%20padding-top:%200px;%20padding-right:%200px;%20padding-bottom:%200px;%20padding-left:%200px;%20font-size:%2012px;%20font-variant-caps:%20normal;%20font-variant-alternates:%20normal;%20font-variant-east-asian:%20normal;%20font-variant-ligatures:%20normal;%20font-variant-numeric:%20tabular-nums;%20font-variant-position:%20normal;%20line-height:%201.66667;%20list-style-position:%20outside;%20list-style-image:%20none;%20list-style-type:%20none;%20position:%20absolute;%20display:%20none;%20color:%20rgb(0,%20174,%20239);%20text-align:%20center;%20vertical-align:%20middle;%20opacity:%200;%20transition-property:%20transform;%20transition-duration:%200.3s;%20transition-timing-function:%20cubic-bezier(0.78,%200.14,%200.15,%200.86);%20transition-delay:%200s%7D%0A.ant-root%20.ant-spin-spinning%20%7Bposition:%20static;%20display:%20inline-block;%20opacity:%201%7D%0A.ant-root%20.ant-spin-dot%20%7Bposition:%20relative;%20display:%20inline-block;%20font-size:%2020px;%20width:%201em;%20height:%201em%7D%0A.ant-root%20.ant-spin-dot-item%20%7Bposition:%20absolute;%20display:%20block;%20width:%209px;%20height:%209px;%20background-color:%20rgb(0,%20174,%20239);%20border-top-left-radius:%20100%25;%20border-top-right-radius:%20100%25;%20border-bottom-right-radius:%20100%25;%20border-bottom-left-radius:%20100%25;%20transform:%20scale(0.75);%20transform-origin:%2050%25%2050%25%200px;%20opacity:%200.3;%20animation-name:%20antSpinMove;%20animation-duration:%201s;%20animation-timing-function:%20linear;%20animation-delay:%200s;%20animation-iteration-count:%20infinite;%20animation-direction:%20alternate;%20animation-fill-mode:%20none;%20animation-play-state:%20running%7D%0A.ant-root%20.ant-spin-dot-item:nth-child(1)%20%7Btop:%200px;%20left:%200px%7D%0A.ant-root%20.ant-spin-dot-item:nth-child(2)%20%7Btop:%200px;%20right:%200px;%20animation-delay:%200.4s%7D%0A.ant-root%20.ant-spin-dot-item:nth-child(3)%20%7Bright:%200px;%20bottom:%200px;%20animation-delay:%200.8s%7D%0A.ant-root%20.ant-spin-dot-item:nth-child(4)%20%7Bbottom:%200px;%20left:%200px;%20animation-delay:%201.2s%7D%0A.ant-root%20.ant-spin-dot-spin%20%7Btransform:%20rotate(45deg);%20animation-name:%20antRotate;%20animation-duration:%201.2s;%20animation-timing-function:%20linear;%20animation-delay:%200s;%20animation-iteration-count:%20infinite;%20animation-direction:%20normal;%20animation-fill-mode:%20none;%20animation-play-state:%20running%7D%0A.ant-root%20.ant-spin-lg%20.ant-spin-dot%20%7Bfont-size:%2032px%7D%0A.ant-root%20.ant-spin-lg%20.ant-spin-dot%20i%20%7Bwidth:%2014px;%20height:%2014px%7D%0A.css-12ebr42-AWidget%20%7Bheight:%20100%25%7D%0A.css-1e3kjgr-Spinner%20%7Bheight:%20100%25;%20position:%20relative%7D%0A.css-ck2xzt-Spinner%20%7B-moz-box-align:%20center;%20align-items:%20center;%20background-color:%20transparent;%20background-position-x:%200%25;%20background-position-y:%200%25;%20background-repeat:%20repeat;%20background-attachment:%20scroll;%20background-image:%20none;%20background-size:%20auto;%20background-origin:%20padding-box;%20background-clip:%20border-box;%20display:%20flex;%20height:%20100%25;%20-moz-box-pack:%20center;%20justify-content:%20center;%20position:%20absolute;%20transition-property:%20opacity;%20transition-duration:%20300ms;%20transition-timing-function:%20ease;%20transition-delay:%200s;%20width:%20100%25;%20opacity:%200;%20pointer-events:%20none;%20z-index:%202%7D%0A.css-6s7z8y-Table%20%7Bpadding-bottom:%202px;%20padding-right:%202px;%20height:%20100%25%7D%0A.css-18k6uz5-Table%20%7Bcursor:%20cell;%20height:%20100%25;%20outline-color:%20currentcolor;%20outline-style:%20none;%20outline-width:%20medium%7D%0A.css-147r53g-Table%20%7Bdisplay:%20flex;%20height:%20495px%7D%0A.css-9wvnih-Table%20%7Bborder-collapse:%20collapse;%20height:%2028px;%20width:%20120px%7D%0A.css-gy6esx%20%7Bheight:%2028px;%20width:%20120px%7D%0A.css-pu2plr%20%7Bheight:%2028px;%20overflow-x:%20hidden;%20overflow-y:%20hidden;%20position:%20relative;%20width:%20120px;%20border-right-color:%20rgb(233,%20233,%20233);%20border-right-style:%20solid;%20border-right-width:%202px%7D%0A.css-i3w1kc%20%7Bheight:%20467px;%20width:%20120px;%20scrollbar-width:%20none;%20overflow-x:%20hidden;%20overflow-y:%20auto%7D%0A.css-rl06wz%20%7Bheight:%20644px;%20overflow-x:%20hidden;%20overflow-y:%20hidden;%20position:%20relative;%20width:%20120px;%20border-top-color:%20rgb(233,%20233,%20233);%20border-top-style:%20solid;%20border-top-width:%202px;%20border-right-color:%20rgb(233,%20233,%20233);%20border-right-style:%20solid;%20border-right-width:%202px%7D%0A.css-s616r8-Table%20%7Bwidth:%201036px;%20border-collapse:%20collapse%7D%0A.css-1tk27kv%20%7Bheight:%2028px;%20width:%201018px;%20scrollbar-width:%20none;%20overflow-x:%20auto;%20overflow-y:%20hidden%7D%0A.css-nq0smp%20%7Bheight:%2028px;%20overflow-x:%20hidden;%20overflow-y:%20hidden;%20position:%20relative;%20width:%20120px%7D%0A.css-s6s1w6%20%7Bheight:%20467px;%20width:%201036px;%20overflow-x:%20auto;%20overflow-y:%20auto%7D%0A.css-rccfay%20%7Bheight:%20644px;%20overflow-x:%20hidden;%20overflow-y:%20hidden;%20position:%20relative;%20width:%20120px;%20border-top-color:%20rgb(233,%20233,%20233);%20border-top-style:%20solid;%20border-top-width:%202px%7D%0A*%20%7B-ms-overflow-style:%20none;%20scrollbar-width:%20none%7D%0A*::-webkit-scrollbar%20%7Bdisplay:%20none%7D%3C/style%3E%3Cdiv%20xmlns=%22http://www.w3.org/1999/xhtml%22%20style=%22height:%20497px;%20width:%201158px;%22%3E&lt;div%20xmlns=%22http://www.w3.org/1999/xhtml%22%20class=%22ant-root%20css-0%22&gt;&lt;div%20class=%22ant-dropdown-trigger%20css-12ebr42-AWidget%22&gt;&lt;div%20class=%22css-1e3kjgr-Spinner%22&gt;&lt;div%20class=%22css-ck2xzt-Spinner%22&gt;&lt;div%20class=%22ant-spin%20ant-spin-lg%20ant-spin-spinning%22&gt;&lt;span%20class=%22ant-spin-dot%20ant-spin-dot-spin%22&gt;&lt;i%20class=%22ant-spin-dot-item%22&gt;&lt;/i&gt;&lt;i%20class=%22ant-spin-dot-item%22&gt;&lt;/i&gt;&lt;i%20class=%22ant-spin-dot-item%22&gt;&lt;/i&gt;&lt;i%20class=%22ant-spin-dot-item%22&gt;&lt;/i&gt;&lt;/span&gt;&lt;/div&gt;&lt;/div&gt;&lt;div%20class=%22css-6s7z8y-Table%22&gt;&lt;div%20tabindex=%220%22%20class=%22css-18k6uz5-Table%22&gt;&lt;div%20class=%22css-147r53g-Table%22&gt;&lt;div%20class=%22css-9wvnih-Table%22&gt;&lt;div%20class=%22css-gy6esx%22&gt;&lt;div%20class=%22css-pu2plr%22&gt;&lt;div%20style=%22font-size:%2012px;%20height:%2028px;%20left:%200px;%20padding:%204px%204px%203px;%20position:%20absolute;%20top:%200px;%20width:%20120px;%20font-weight:%20600;%22&gt;Category_Lvl1&lt;/div&gt;&lt;/div&gt;&lt;/div&gt;&lt;div%20class=%22css-i3w1kc%22&gt;&lt;div%20class=%22css-rl06wz%22&gt;&lt;div%20style=%22font-size:%2012px;%20font-weight:%20600;%20padding:%204px%204px%203px;%22&gt;Total&lt;/div&gt;&lt;div%20style=%22overflow:%20hidden;%20display:%20flex;%20align-items:%20center;%20font-size:%2012px;%20height:%2028px;%20left:%200px;%20padding:%204px%204px%203px;%20position:%20absolute;%20top:%2028px;%20width:%20120px;%20background-color:%20rgb(250,%20250,%20250);%20border-right:%202px%20solid%20rgb(233,%20233,%20233);%22&gt;&lt;span%20role=%22img%22%20aria-label=%22right%22%20style=%22cursor:%20pointer;%20font-size:%2010px;%20margin-right:%206px;%22%20tabindex=%22-1%22%20class=%22anticon%20anticon-right%22&gt;&lt;svg%20xmlns=%22http://www.w3.org/2000/svg%22%20viewBox=%2264%2064%20896%20896%22%20focusable=%22false%22%20class=%22%22%20data-icon=%22right%22%20width=%221em%22%20height=%221em%22%20fill=%22currentColor%22%20aria-hidden=%22true%22&gt;&lt;path%20d=%22M765.7%20486.8L314.9%20134.7A7.97%207.97%200%2000302%20141v77.3c0%204.9%202.3%209.6%206.1%2012.6l360%20281.1-360%20281.1c-3.9%203-6.1%207.7-6.1%2012.6V883c0%206.7%207.7%2010.4%2012.9%206.3l450.8-352.1a31.96%2031.96%200%20000-50.4z%22/&gt;&lt;/svg&gt;&lt;/span&gt;&lt;span%20style=%22text-overflow:%20ellipsis;%20overflow:%20hidden;%20white-space:%20nowrap;%20max-width:%20calc(100%25%20-%2016px);%22&gt;Audio,%20video&lt;/span&gt;&lt;div%20style=%22height:%20100%25;%20margin-left:%206px;%22&gt;&lt;/div&gt;&lt;/div&gt;&lt;div%20style=%22overflow:%20hidden;%20display:%20flex;%20align-items:%20center;%20font-size:%2012px;%20height:%2028px;%20left:%200px;%20padding:%204px%204px%203px;%20position:%20absolute;%20top:%2056px;%20width:%20120px;%20border-right:%202px%20solid%20rgb(233,%20233,%20233);%22&gt;&lt;span%20role=%22img%22%20aria-label=%22right%22%20style=%22cursor:%20pointer;%20font-size:%2010px;%20margin-right:%206px;%22%20tabindex=%22-1%22%20class=%22anticon%20anticon-right%22&gt;&lt;svg%20xmlns=%22http://www.w3.org/2000/svg%22%20viewBox=%2264%2064%20896%20896%22%20focusable=%22false%22%20class=%22%22%20data-icon=%22right%22%20width=%221em%22%20height=%221em%22%20fill=%22currentColor%22%20aria-hidden=%22true%22&gt;&lt;path%20d=%22M765.7%20486.8L314.9%20134.7A7.97%207.97%200%2000302%20141v77.3c0%204.9%202.3%209.6%206.1%2012.6l360%20281.1-360%20281.1c-3.9%203-6.1%207.7-6.1%2012.6V883c0%206.7%207.7%2010.4%2012.9%206.3l450.8-352.1a31.96%2031.96%200%20000-50.4z%22/&gt;&lt;/svg&gt;&lt;/span&gt;&lt;span%20style=%22text-overflow:%20ellipsis;%20overflow:%20hidden;%20white-space:%20nowrap;%20max-width:%20calc(100%25%20-%2016px);%22&gt;Auto%20and%20Moto&lt;/span&gt;&lt;div%20style=%22height:%20100%25;%20margin-left:%206px;%22&gt;&lt;/div&gt;&lt;/div&gt;&lt;div%20style=%22overflow:%20hidden;%20display:%20flex;%20align-items:%20center;%20font-size:%2012px;%20height:%2028px;%20left:%200px;%20padding:%204px%204px%203px;%20position:%20absolute;%20top:%2084px;%20width:%20120px;%20background-color:%20rgb(250,%20250,%20250);%20border-right:%202px%20solid%20rgb(233,%20233,%20233);%22&gt;&lt;span%20role=%22img%22%20aria-label=%22right%22%20style=%22cursor:%20pointer;%20font-size:%2010px;%20margin-right:%206px;%22%20tabindex=%22-1%22%20class=%22anticon%20anticon-right%22&gt;&lt;svg%20xmlns=%22http://www.w3.org/2000/svg%22%20viewBox=%2264%2064%20896%20896%22%20focusable=%22false%22%20class=%22%22%20data-icon=%22right%22%20width=%221em%22%20height=%221em%22%20fill=%22currentColor%22%20aria-hidden=%22true%22&gt;&lt;path%20d=%22M765.7%20486.8L314.9%20134.7A7.97%207.97%200%2000302%20141v77.3c0%204.9%202.3%209.6%206.1%2012.6l360%20281.1-360%20281.1c-3.9%203-6.1%207.7-6.1%2012.6V883c0%206.7%207.7%2010.4%2012.9%206.3l450.8-352.1a31.96%2031.96%200%20000-50.4z%22/&gt;&lt;/svg&gt;&lt;/span&gt;&lt;span%20style=%22text-overflow:%20ellipsis;%20overflow:%20hidden;%20white-space:%20nowrap;%20max-width:%20calc(100%25%20-%2016px);%22&gt;Baby%20products&lt;/span&gt;&lt;div%20style=%22height:%20100%25;%20margin-left:%206px;%22&gt;&lt;/div&gt;&lt;/div&gt;&lt;div%20style=%22overflow:%20hidden;%20display:%20flex;%20align-items:%20center;%20font-size:%2012px;%20height:%2028px;%20left:%200px;%20padding:%204px%204px%203px;%20position:%20absolute;%20top:%20112px;%20width:%20120px;%20border-right:%202px%20solid%20rgb(233,%20233,%20233);%22&gt;&lt;span%20role=%22img%22%20aria-label=%22right%22%20style=%22cursor:%20pointer;%20font-size:%2010px;%20margin-right:%206px;%22%20tabindex=%22-1%22%20class=%22anticon%20anticon-right%22&gt;&lt;svg%20xmlns=%22http://www.w3.org/2000/svg%22%20viewBox=%2264%2064%20896%20896%22%20focusable=%22false%22%20class=%22%22%20data-icon=%22right%22%20width=%221em%22%20height=%221em%22%20fill=%22currentColor%22%20aria-hidden=%22true%22&gt;&lt;path%20d=%22M765.7%20486.8L314.9%20134.7A7.97%207.97%200%2000302%20141v77.3c0%204.9%202.3%209.6%206.1%2012.6l360%20281.1-360%20281.1c-3.9%203-6.1%207.7-6.1%2012.6V883c0%206.7%207.7%2010.4%2012.9%206.3l450.8-352.1a31.96%2031.96%200%20000-50.4z%22/&gt;&lt;/svg&gt;&lt;/span&gt;&lt;span%20style=%22text-overflow:%20ellipsis;%20overflow:%20hidden;%20white-space:%20nowrap;%20max-width:%20calc(100%25%20-%2016px);%22&gt;Climate%20equipment&lt;/span&gt;&lt;div%20style=%22height:%20100%25;%20margin-left:%206px;%22&gt;&lt;/div&gt;&lt;/div&gt;&lt;div%20style=%22overflow:%20hidden;%20display:%20flex;%20align-items:%20center;%20font-size:%2012px;%20height:%2028px;%20left:%200px;%20padding:%204px%204px%203px;%20position:%20absolute;%20top:%20140px;%20width:%20120px;%20background-color:%20rgb(250,%20250,%20250);%20border-right:%202px%20solid%20rgb(233,%20233,%20233);%22&gt;&lt;span%20role=%22img%22%20aria-label=%22right%22%20style=%22cursor:%20pointer;%20font-size:%2010px;%20margin-right:%206px;%22%20tabindex=%22-1%22%20class=%22anticon%20anticon-right%22&gt;&lt;svg%20xmlns=%22http://www.w3.org/2000/svg%22%20viewBox=%2264%2064%20896%20896%22%20focusable=%22false%22%20class=%22%22%20data-icon=%22right%22%20width=%221em%22%20height=%221em%22%20fill=%22currentColor%22%20aria-hidden=%22true%22&gt;&lt;path%20d=%22M765.7%20486.8L314.9%20134.7A7.97%207.97%200%2000302%20141v77.3c0%204.9%202.3%209.6%206.1%2012.6l360%20281.1-360%20281.1c-3.9%203-6.1%207.7-6.1%2012.6V883c0%206.7%207.7%2010.4%2012.9%206.3l450.8-352.1a31.96%2031.96%200%20000-50.4z%22/&gt;&lt;/svg&gt;&lt;/span&gt;&lt;span%20style=%22text-overflow:%20ellipsis;%20overflow:%20hidden;%20white-space:%20nowrap;%20max-width:%20calc(100%25%20-%2016px);%22&gt;Computers&lt;/span&gt;&lt;div%20style=%22height:%20100%25;%20margin-left:%206px;%22&gt;&lt;/div&gt;&lt;/div&gt;&lt;div%20style=%22overflow:%20hidden;%20display:%20flex;%20align-items:%20center;%20font-size:%2012px;%20height:%2028px;%20left:%200px;%20padding:%204px%204px%203px;%20position:%20absolute;%20top:%20168px;%20width:%20120px;%20border-right:%202px%20solid%20rgb(233,%20233,%20233);%22&gt;&lt;span%20role=%22img%22%20aria-label=%22right%22%20style=%22cursor:%20pointer;%20font-size:%2010px;%20margin-right:%206px;%22%20tabindex=%22-1%22%20class=%22anticon%20anticon-right%22&gt;&lt;svg%20xmlns=%22http://www.w3.org/2000/svg%22%20viewBox=%2264%2064%20896%20896%22%20focusable=%22false%22%20class=%22%22%20data-icon=%22right%22%20width=%221em%22%20height=%221em%22%20fill=%22currentColor%22%20aria-hidden=%22true%22&gt;&lt;path%20d=%22M765.7%20486.8L314.9%20134.7A7.97%207.97%200%2000302%20141v77.3c0%204.9%202.3%209.6%206.1%2012.6l360%20281.1-360%20281.1c-3.9%203-6.1%207.7-6.1%2012.6V883c0%206.7%207.7%2010.4%2012.9%206.3l450.8-352.1a31.96%2031.96%200%20000-50.4z%22/&gt;&lt;/svg&gt;&lt;/span&gt;&lt;span%20style=%22text-overflow:%20ellipsis;%20overflow:%20hidden;%20white-space:%20nowrap;%20max-width:%20calc(100%25%20-%2016px);%22&gt;Decoration%20Materials&lt;/span&gt;&lt;div%20style=%22height:%20100%25;%20margin-left:%206px;%22&gt;&lt;/div&gt;&lt;/div&gt;&lt;div%20style=%22overflow:%20hidden;%20display:%20flex;%20align-items:%20center;%20font-size:%2012px;%20height:%2028px;%20left:%200px;%20padding:%204px%204px%203px;%20position:%20absolute;%20top:%20196px;%20width:%20120px;%20background-color:%20rgb(250,%20250,%20250);%20border-right:%202px%20solid%20rgb(233,%20233,%20233);%22&gt;&lt;span%20role=%22img%22%20aria-label=%22right%22%20style=%22cursor:%20pointer;%20font-size:%2010px;%20margin-right:%206px;%22%20tabindex=%22-1%22%20class=%22anticon%20anticon-right%22&gt;&lt;svg%20xmlns=%22http://www.w3.org/2000/svg%22%20viewBox=%2264%2064%20896%20896%22%20focusable=%22false%22%20class=%22%22%20data-icon=%22right%22%20width=%221em%22%20height=%221em%22%20fill=%22currentColor%22%20aria-hidden=%22true%22&gt;&lt;path%20d=%22M765.7%20486.8L314.9%20134.7A7.97%207.97%200%2000302%20141v77.3c0%204.9%202.3%209.6%206.1%2012.6l360%20281.1-360%20281.1c-3.9%203-6.1%207.7-6.1%2012.6V883c0%206.7%207.7%2010.4%2012.9%206.3l450.8-352.1a31.96%2031.96%200%20000-50.4z%22/&gt;&lt;/svg&gt;&lt;/span&gt;&lt;span%20style=%22text-overflow:%20ellipsis;%20overflow:%20hidden;%20white-space:%20nowrap;%20max-width:%20calc(100%25%20-%2016px);%22&gt;Embedded%20appliances&lt;/span&gt;&lt;div%20style=%22height:%20100%25;%20margin-left:%206px;%22&gt;&lt;/div&gt;&lt;/div&gt;&lt;div%20style=%22overflow:%20hidden;%20display:%20flex;%20align-items:%20center;%20font-size:%2012px;%20height:%2028px;%20left:%200px;%20padding:%204px%204px%203px;%20position:%20absolute;%20top:%20224px;%20width:%20120px;%20border-right:%202px%20solid%20rgb(233,%20233,%20233);%22&gt;&lt;span%20role=%22img%22%20aria-label=%22right%22%20style=%22cursor:%20pointer;%20font-size:%2010px;%20margin-right:%206px;%22%20tabindex=%22-1%22%20class=%22anticon%20anticon-right%22&gt;&lt;svg%20xmlns=%22http://www.w3.org/2000/svg%22%20viewBox=%2264%2064%20896%20896%22%20focusable=%22false%22%20class=%22%22%20data-icon=%22right%22%20width=%221em%22%20height=%221em%22%20fill=%22currentColor%22%20aria-hidden=%22true%22&gt;&lt;path%20d=%22M765.7%20486.8L314.9%20134.7A7.97%207.97%200%2000302%20141v77.3c0%204.9%202.3%209.6%206.1%2012.6l360%20281.1-360%20281.1c-3.9%203-6.1%207.7-6.1%2012.6V883c0%206.7%207.7%2010.4%2012.9%206.3l450.8-352.1a31.96%2031.96%200%20000-50.4z%22/&gt;&lt;/svg&gt;&lt;/span&gt;&lt;span%20style=%22text-overflow:%20ellipsis;%20overflow:%20hidden;%20white-space:%20nowrap;%20max-width:%20calc(100%25%20-%2016px);%22&gt;Furniture&lt;/span&gt;&lt;div%20style=%22height:%20100%25;%20margin-left:%206px;%22&gt;&lt;/div&gt;&lt;/div&gt;&lt;div%20style=%22overflow:%20hidden;%20display:%20flex;%20align-items:%20center;%20font-size:%2012px;%20height:%2028px;%20left:%200px;%20padding:%204px%204px%203px;%20position:%20absolute;%20top:%20252px;%20width:%20120px;%20background-color:%20rgb(250,%20250,%20250);%20border-right:%202px%20solid%20rgb(233,%20233,%20233);%22&gt;&lt;span%20role=%22img%22%20aria-label=%22right%22%20style=%22cursor:%20pointer;%20font-size:%2010px;%20margin-right:%206px;%22%20tabindex=%22-1%22%20class=%22anticon%20anticon-right%22&gt;&lt;svg%20xmlns=%22http://www.w3.org/2000/svg%22%20viewBox=%2264%2064%20896%20896%22%20focusable=%22false%22%20class=%22%22%20data-icon=%22right%22%20width=%221em%22%20height=%221em%22%20fill=%22currentColor%22%20aria-hidden=%22true%22&gt;&lt;path%20d=%22M765.7%20486.8L314.9%20134.7A7.97%207.97%200%2000302%20141v77.3c0%204.9%202.3%209.6%206.1%2012.6l360%20281.1-360%20281.1c-3.9%203-6.1%207.7-6.1%2012.6V883c0%206.7%207.7%2010.4%2012.9%206.3l450.8-352.1a31.96%2031.96%200%20000-50.4z%22/&gt;&lt;/svg&gt;&lt;/span&gt;&lt;span%20style=%22text-overflow:%20ellipsis;%20overflow:%20hidden;%20white-space:%20nowrap;%20max-width:%20calc(100%25%20-%2016px);%22&gt;Garden,%20cottage,%20vegetable%20garden&lt;/span&gt;&lt;div%20style=%22height:%20100%25;%20margin-left:%206px;%22&gt;&lt;/div&gt;&lt;/div&gt;&lt;div%20style=%22overflow:%20hidden;%20display:%20flex;%20align-items:%20center;%20font-size:%2012px;%20height:%2028px;%20left:%200px;%20padding:%204px%204px%203px;%20position:%20absolute;%20top:%20280px;%20width:%20120px;%20border-right:%202px%20solid%20rgb(233,%20233,%20233);%22&gt;&lt;span%20role=%22img%22%20aria-label=%22right%22%20style=%22cursor:%20pointer;%20font-size:%2010px;%20margin-right:%206px;%22%20tabindex=%22-1%22%20class=%22anticon%20anticon-right%22&gt;&lt;svg%20xmlns=%22http://www.w3.org/2000/svg%22%20viewBox=%2264%2064%20896%20896%22%20focusable=%22false%22%20class=%22%22%20data-icon=%22right%22%20width=%221em%22%20height=%221em%22%20fill=%22currentColor%22%20aria-hidden=%22true%22&gt;&lt;path%20d=%22M765.7%20486.8L314.9%20134.7A7.97%207.97%200%2000302%20141v77.3c0%204.9%202.3%209.6%206.1%2012.6l360%20281.1-360%20281.1c-3.9%203-6.1%207.7-6.1%2012.6V883c0%206.7%207.7%2010.4%2012.9%206.3l450.8-352.1a31.96%2031.96%200%20000-50.4z%22/&gt;&lt;/svg&gt;&lt;/span&gt;&lt;span%20style=%22text-overflow:%20ellipsis;%20overflow:%20hidden;%20white-space:%20nowrap;%20max-width:%20calc(100%25%20-%2016px);%22&gt;Gift%20certificates&lt;/span&gt;&lt;div%20style=%22height:%20100%25;%20margin-left:%206px;%22&gt;&lt;/div&gt;&lt;/div&gt;&lt;div%20style=%22overflow:%20hidden;%20display:%20flex;%20align-items:%20center;%20font-size:%2012px;%20height:%2028px;%20left:%200px;%20padding:%204px%204px%203px;%20position:%20absolute;%20top:%20308px;%20width:%20120px;%20background-color:%20rgb(250,%20250,%20250);%20border-right:%202px%20solid%20rgb(233,%20233,%20233);%22&gt;&lt;span%20role=%22img%22%20aria-label=%22right%22%20style=%22cursor:%20pointer;%20font-size:%2010px;%20margin-right:%206px;%22%20tabindex=%22-1%22%20class=%22anticon%20anticon-right%22&gt;&lt;svg%20xmlns=%22http://www.w3.org/2000/svg%22%20viewBox=%2264%2064%20896%20896%22%20focusable=%22false%22%20class=%22%22%20data-icon=%22right%22%20width=%221em%22%20height=%221em%22%20fill=%22currentColor%22%20aria-hidden=%22true%22&gt;&lt;path%20d=%22M765.7%20486.8L314.9%20134.7A7.97%207.97%200%2000302%20141v77.3c0%204.9%202.3%209.6%206.1%2012.6l360%20281.1-360%20281.1c-3.9%203-6.1%207.7-6.1%2012.6V883c0%206.7%207.7%2010.4%2012.9%206.3l450.8-352.1a31.96%2031.96%200%20000-50.4z%22/&gt;&lt;/svg&gt;&lt;/span&gt;&lt;span%20style=%22text-overflow:%20ellipsis;%20overflow:%20hidden;%20white-space:%20nowrap;%20max-width:%20calc(100%25%20-%2016px);%22&gt;Household%20products&lt;/span&gt;&lt;div%20style=%22height:%20100%25;%20margin-left:%206px;%22&gt;&lt;/div&gt;&lt;/div&gt;&lt;div%20style=%22overflow:%20hidden;%20display:%20flex;%20align-items:%20center;%20font-size:%2012px;%20height:%2028px;%20left:%200px;%20padding:%204px%204px%203px;%20position:%20absolute;%20top:%20336px;%20width:%20120px;%20border-right:%202px%20solid%20rgb(233,%20233,%20233);%22&gt;&lt;span%20role=%22img%22%20aria-label=%22right%22%20style=%22cursor:%20pointer;%20font-size:%2010px;%20margin-right:%206px;%22%20tabindex=%22-1%22%20class=%22anticon%20anticon-right%22&gt;&lt;svg%20xmlns=%22http://www.w3.org/2000/svg%22%20viewBox=%2264%2064%20896%20896%22%20focusable=%22false%22%20class=%22%22%20data-icon=%22right%22%20width=%221em%22%20height=%221em%22%20fill=%22currentColor%22%20aria-hidden=%22true%22&gt;&lt;path%20d=%22M765.7%20486.8L314.9%20134.7A7.97%207.97%200%2000302%20141v77.3c0%204.9%202.3%209.6%206.1%2012.6l360%20281.1-360%20281.1c-3.9%203-6.1%207.7-6.1%2012.6V883c0%206.7%207.7%2010.4%2012.9%206.3l450.8-352.1a31.96%2031.96%200%20000-50.4z%22/&gt;&lt;/svg&gt;&lt;/span&gt;&lt;span%20style=%22text-overflow:%20ellipsis;%20overflow:%20hidden;%20white-space:%20nowrap;%20max-width:%20calc(100%25%20-%2016px);%22&gt;IKEA%20furniture&lt;/span&gt;&lt;div%20style=%22height:%20100%25;%20margin-left:%206px;%22&gt;&lt;/div&gt;&lt;/div&gt;&lt;div%20style=%22overflow:%20hidden;%20display:%20flex;%20align-items:%20center;%20font-size:%2012px;%20height:%2028px;%20left:%200px;%20padding:%204px%204px%203px;%20position:%20absolute;%20top:%20364px;%20width:%20120px;%20background-color:%20rgb(250,%20250,%20250);%20border-right:%202px%20solid%20rgb(233,%20233,%20233);%22&gt;&lt;span%20role=%22img%22%20aria-label=%22right%22%20style=%22cursor:%20pointer;%20font-size:%2010px;%20margin-right:%206px;%22%20tabindex=%22-1%22%20class=%22anticon%20anticon-right%22&gt;&lt;svg%20xmlns=%22http://www.w3.org/2000/svg%22%20viewBox=%2264%2064%20896%20896%22%20focusable=%22false%22%20class=%22%22%20data-icon=%22right%22%20width=%221em%22%20height=%221em%22%20fill=%22currentColor%22%20aria-hidden=%22true%22&gt;&lt;path%20d=%22M765.7%20486.8L314.9%20134.7A7.97%207.97%200%2000302%20141v77.3c0%204.9%202.3%209.6%206.1%2012.6l360%20281.1-360%20281.1c-3.9%203-6.1%207.7-6.1%2012.6V883c0%206.7%207.7%2010.4%2012.9%206.3l450.8-352.1a31.96%2031.96%200%20000-50.4z%22/&gt;&lt;/svg&gt;&lt;/span&gt;&lt;span%20style=%22text-overflow:%20ellipsis;%20overflow:%20hidden;%20white-space:%20nowrap;%20max-width:%20calc(100%25%20-%2016px);%22&gt;Kitchenware&lt;/span&gt;&lt;div%20style=%22height:%20100%25;%20margin-left:%206px;%22&gt;&lt;/div&gt;&lt;/div&gt;&lt;div%20style=%22overflow:%20hidden;%20display:%20flex;%20align-items:%20center;%20font-size:%2012px;%20height:%2028px;%20left:%200px;%20padding:%204px%204px%203px;%20position:%20absolute;%20top:%20392px;%20width:%20120px;%20border-right:%202px%20solid%20rgb(233,%20233,%20233);%22&gt;&lt;span%20role=%22img%22%20aria-label=%22right%22%20style=%22cursor:%20pointer;%20font-size:%2010px;%20margin-right:%206px;%22%20tabindex=%22-1%22%20class=%22anticon%20anticon-right%22&gt;&lt;svg%20xmlns=%22http://www.w3.org/2000/svg%22%20viewBox=%2264%2064%20896%20896%22%20focusable=%22false%22%20class=%22%22%20data-icon=%22right%22%20width=%221em%22%20height=%221em%22%20fill=%22currentColor%22%20aria-hidden=%22true%22&gt;&lt;path%20d=%22M765.7%20486.8L314.9%20134.7A7.97%207.97%200%2000302%20141v77.3c0%204.9%202.3%209.6%206.1%2012.6l360%20281.1-360%20281.1c-3.9%203-6.1%207.7-6.1%2012.6V883c0%206.7%207.7%2010.4%2012.9%206.3l450.8-352.1a31.96%2031.96%200%20000-50.4z%22/&gt;&lt;/svg&gt;&lt;/span&gt;&lt;span%20style=%22text-overflow:%20ellipsis;%20overflow:%20hidden;%20white-space:%20nowrap;%20max-width:%20calc(100%25%20-%2016px);%22&gt;N/A&lt;/span&gt;&lt;div%20style=%22height:%20100%25;%20margin-left:%206px;%22&gt;&lt;/div&gt;&lt;/div&gt;&lt;div%20style=%22overflow:%20hidden;%20display:%20flex;%20align-items:%20center;%20font-size:%2012px;%20height:%2028px;%20left:%200px;%20padding:%204px%204px%203px;%20position:%20absolute;%20top:%20420px;%20width:%20120px;%20background-color:%20rgb(250,%20250,%20250);%20border-right:%202px%20solid%20rgb(233,%20233,%20233);%22&gt;&lt;span%20role=%22img%22%20aria-label=%22right%22%20style=%22cursor:%20pointer;%20font-size:%2010px;%20margin-right:%206px;%22%20tabindex=%22-1%22%20class=%22anticon%20anticon-right%22&gt;&lt;svg%20xmlns=%22http://www.w3.org/2000/svg%22%20viewBox=%2264%2064%20896%20896%22%20focusable=%22false%22%20class=%22%22%20data-icon=%22right%22%20width=%221em%22%20height=%221em%22%20fill=%22currentColor%22%20aria-hidden=%22true%22&gt;&lt;path%20d=%22M765.7%20486.8L314.9%20134.7A7.97%207.97%200%2000302%20141v77.3c0%204.9%202.3%209.6%206.1%2012.6l360%20281.1-360%20281.1c-3.9%203-6.1%207.7-6.1%2012.6V883c0%206.7%207.7%2010.4%2012.9%206.3l450.8-352.1a31.96%2031.96%200%20000-50.4z%22/&gt;&lt;/svg&gt;&lt;/span&gt;&lt;span%20style=%22text-overflow:%20ellipsis;%20overflow:%20hidden;%20white-space:%20nowrap;%20max-width:%20calc(100%25%20-%2016px);%22&gt;Perfumery&lt;/span&gt;&lt;div%20style=%22height:%20100%25;%20margin-left:%206px;%22&gt;&lt;/div&gt;&lt;/div&gt;&lt;div%20style=%22overflow:%20hidden;%20display:%20flex;%20align-items:%20center;%20font-size:%2012px;%20height:%2028px;%20left:%200px;%20padding:%204px%204px%203px;%20position:%20absolute;%20top:%20448px;%20width:%20120px;%20border-right:%202px%20solid%20rgb(233,%20233,%20233);%22&gt;&lt;span%20role=%22img%22%20aria-label=%22right%22%20style=%22cursor:%20pointer;%20font-size:%2010px;%20margin-right:%206px;%22%20tabindex=%22-1%22%20class=%22anticon%20anticon-right%22&gt;&lt;svg%20xmlns=%22http://www.w3.org/2000/svg%22%20viewBox=%2264%2064%20896%20896%22%20focusable=%22false%22%20class=%22%22%20data-icon=%22right%22%20width=%221em%22%20height=%221em%22%20fill=%22currentColor%22%20aria-hidden=%22true%22&gt;&lt;path%20d=%22M765.7%20486.8L314.9%20134.7A7.97%207.97%200%2000302%20141v77.3c0%204.9%202.3%209.6%206.1%2012.6l360%20281.1-360%20281.1c-3.9%203-6.1%207.7-6.1%2012.6V883c0%206.7%207.7%2010.4%2012.9%206.3l450.8-352.1a31.96%2031.96%200%20000-50.4z%22/&gt;&lt;/svg&gt;&lt;/span&gt;&lt;span%20style=%22text-overflow:%20ellipsis;%20overflow:%20hidden;%20white-space:%20nowrap;%20max-width:%20calc(100%25%20-%2016px);%22&gt;Pet%20products&lt;/span&gt;&lt;div%20style=%22height:%20100%25;%20margin-left:%206px;%22&gt;&lt;/div&gt;&lt;/div&gt;&lt;div%20style=%22overflow:%20hidden;%20display:%20flex;%20align-items:%20center;%20font-size:%2012px;%20height:%2028px;%20left:%200px;%20padding:%204px%204px%203px;%20position:%20absolute;%20top:%20476px;%20width:%20120px;%20background-color:%20rgb(250,%20250,%20250);%20border-right:%202px%20solid%20rgb(233,%20233,%20233);%22&gt;&lt;span%20role=%22img%22%20aria-label=%22right%22%20style=%22cursor:%20pointer;%20font-size:%2010px;%20margin-right:%206px;%22%20tabindex=%22-1%22%20class=%22anticon%20anticon-right%22&gt;&lt;svg%20xmlns=%22http://www.w3.org/2000/svg%22%20viewBox=%2264%2064%20896%20896%22%20focusable=%22false%22%20class=%22%22%20data-icon=%22right%22%20width=%221em%22%20height=%221em%22%20fill=%22currentColor%22%20aria-hidden=%22true%22&gt;&lt;path%20d=%22M765.7%20486.8L314.9%20134.7A7.97%207.97%200%2000302%20141v77.3c0%204.9%202.3%209.6%206.1%2012.6l360%20281.1-360%20281.1c-3.9%203-6.1%207.7-6.1%2012.6V883c0%206.7%207.7%2010.4%2012.9%206.3l450.8-352.1a31.96%2031.96%200%20000-50.4z%22/&gt;&lt;/svg&gt;&lt;/span&gt;&lt;span%20style=%22text-overflow:%20ellipsis;%20overflow:%20hidden;%20white-space:%20nowrap;%20max-width:%20calc(100%25%20-%2016px);%22&gt;Phones&lt;/span&gt;&lt;div%20style=%22height:%20100%25;%20margin-left:%206px;%22&gt;&lt;/div&gt;&lt;/div&gt;&lt;/div&gt;&lt;/div&gt;&lt;/div&gt;&lt;div%20class=%22css-s616r8-Table%22&gt;&lt;div%20class=%22css-1tk27kv%22&gt;&lt;div%20class=%22css-nq0smp%22&gt;&lt;div%20style=%22overflow:%20hidden;%20display:%20flex;%20align-items:%20center;%20font-size:%2012px;%20height:%2028px;%20left:%200px;%20padding:%204px%204px%203px;%20position:%20absolute;%20top:%200px;%20width:%20120px;%20font-weight:%20600;%22&gt;&lt;span%20style=%22text-overflow:%20ellipsis;%20overflow:%20hidden;%20white-space:%20nowrap;%20max-width:%20calc(100%25%20+%200px);%22&gt;UniqueSessionsCount&lt;/span&gt;&lt;div%20style=%22height:%20100%25;%20margin-left:%206px;%22&gt;&lt;/div&gt;&lt;/div&gt;&lt;/div&gt;&lt;/div&gt;&lt;div%20class=%22css-s6s1w6%22&gt;&lt;div%20class=%22css-rccfay%22&gt;&lt;div%20style=%22font-size:%2012px;%20height:%2028px;%20left:%200px;%20padding:%204px%204px%203px;%20position:%20absolute;%20top:%200px;%20width:%20120px;%20text-align:%20right;%20border-right:%201px%20solid%20rgb(233,%20233,%20233);%22%20class=%22css-1lzltx4-TableCell%22&gt;22,881&lt;/div&gt;&lt;div%20style=%22font-size:%2012px;%20height:%2028px;%20left:%200px;%20padding:%204px%204px%203px;%20position:%20absolute;%20top:%2028px;%20width:%20120px;%20text-align:%20right;%20background-color:%20rgb(250,%20250,%20250);%20border-right:%201px%20solid%20rgb(233,%20233,%20233);%22%20class=%22css-1lzltx4-TableCell%22&gt;1,309&lt;/div&gt;&lt;div%20style=%22font-size:%2012px;%20height:%2028px;%20left:%200px;%20padding:%204px%204px%203px;%20position:%20absolute;%20top:%2056px;%20width:%20120px;%20text-align:%20right;%20border-right:%201px%20solid%20rgb(233,%20233,%20233);%22%20class=%22css-1lzltx4-TableCell%22&gt;2,323&lt;/div&gt;&lt;div%20style=%22font-size:%2012px;%20height:%2028px;%20left:%200px;%20padding:%204px%204px%203px;%20position:%20absolute;%20top:%2084px;%20width:%20120px;%20text-align:%20right;%20background-color:%20rgb(250,%20250,%20250);%20border-right:%201px%20solid%20rgb(233,%20233,%20233);%22%20class=%22css-1lzltx4-TableCell%22&gt;1,876&lt;/div&gt;&lt;div%20style=%22font-size:%2012px;%20height:%2028px;%20left:%200px;%20padding:%204px%204px%203px;%20position:%20absolute;%20top:%20112px;%20width:%20120px;%20text-align:%20right;%20border-right:%201px%20solid%20rgb(233,%20233,%20233);%22%20class=%22css-1lzltx4-TableCell%22&gt;1,038&lt;/div&gt;&lt;div%20style=%22font-size:%2012px;%20height:%2028px;%20left:%200px;%20padding:%204px%204px%203px;%20position:%20absolute;%20top:%20140px;%20width:%20120px;%20text-align:%20right;%20background-color:%20rgb(250,%20250,%20250);%20border-right:%201px%20solid%20rgb(233,%20233,%20233);%22%20class=%22css-1lzltx4-TableCell%22&gt;1,642&lt;/div&gt;&lt;div%20style=%22font-size:%2012px;%20height:%2028px;%20left:%200px;%20padding:%204px%204px%203px;%20position:%20absolute;%20top:%20168px;%20width:%20120px;%20text-align:%20right;%20border-right:%201px%20solid%20rgb(233,%20233,%20233);%22%20class=%22css-1lzltx4-TableCell%22&gt;98&lt;/div&gt;&lt;div%20style=%22font-size:%2012px;%20height:%2028px;%20left:%200px;%20padding:%204px%204px%203px;%20position:%20absolute;%20top:%20196px;%20width:%20120px;%20text-align:%20right;%20background-color:%20rgb(250,%20250,%20250);%20border-right:%201px%20solid%20rgb(233,%20233,%20233);%22%20class=%22css-1lzltx4-TableCell%22&gt;1,247&lt;/div&gt;&lt;div%20style=%22font-size:%2012px;%20height:%2028px;%20left:%200px;%20padding:%204px%204px%203px;%20position:%20absolute;%20top:%20224px;%20width:%20120px;%20text-align:%20right;%20border-right:%201px%20solid%20rgb(233,%20233,%20233);%22%20class=%22css-1lzltx4-TableCell%22&gt;1,125&lt;/div&gt;&lt;div%20style=%22font-size:%2012px;%20height:%2028px;%20left:%200px;%20padding:%204px%204px%203px;%20position:%20absolute;%20top:%20252px;%20width:%20120px;%20text-align:%20right;%20background-color:%20rgb(250,%20250,%20250);%20border-right:%201px%20solid%20rgb(233,%20233,%20233);%22%20class=%22css-1lzltx4-TableCell%22&gt;886&lt;/div&gt;&lt;div%20style=%22font-size:%2012px;%20height:%2028px;%20left:%200px;%20padding:%204px%204px%203px;%20position:%20absolute;%20top:%20280px;%20width:%20120px;%20text-align:%20right;%20border-right:%201px%20solid%20rgb(233,%20233,%20233);%22%20class=%22css-1lzltx4-TableCell%22&gt;1&lt;/div&gt;&lt;div%20style=%22font-size:%2012px;%20height:%2028px;%20left:%200px;%20padding:%204px%204px%203px;%20position:%20absolute;%20top:%20308px;%20width:%20120px;%20text-align:%20right;%20background-color:%20rgb(250,%20250,%20250);%20border-right:%201px%20solid%20rgb(233,%20233,%20233);%22%20class=%22css-1lzltx4-TableCell%22&gt;2,288&lt;/div&gt;&lt;div%20style=%22font-size:%2012px;%20height:%2028px;%20left:%200px;%20padding:%204px%204px%203px;%20position:%20absolute;%20top:%20336px;%20width:%20120px;%20text-align:%20right;%20border-right:%201px%20solid%20rgb(233,%20233,%20233);%22%20class=%22css-1lzltx4-TableCell%22&gt;124&lt;/div&gt;&lt;div%20style=%22font-size:%2012px;%20height:%2028px;%20left:%200px;%20padding:%204px%204px%203px;%20position:%20absolute;%20top:%20364px;%20width:%20120px;%20text-align:%20right;%20background-color:%20rgb(250,%20250,%20250);%20border-right:%201px%20solid%20rgb(233,%20233,%20233);%22%20class=%22css-1lzltx4-TableCell%22&gt;3,941&lt;/div&gt;&lt;div%20style=%22font-size:%2012px;%20height:%2028px;%20left:%200px;%20padding:%204px%204px%203px;%20position:%20absolute;%20top:%20392px;%20width:%20120px;%20text-align:%20right;%20border-right:%201px%20solid%20rgb(233,%20233,%20233);%22%20class=%22css-1lzltx4-TableCell%22&gt;9&lt;/div&gt;&lt;div%20style=%22font-size:%2012px;%20height:%2028px;%20left:%200px;%20padding:%204px%204px%203px;%20position:%20absolute;%20top:%20420px;%20width:%20120px;%20text-align:%20right;%20background-color:%20rgb(250,%20250,%20250);%20border-right:%201px%20solid%20rgb(233,%20233,%20233);%22%20class=%22css-1lzltx4-TableCell%22&gt;12&lt;/div&gt;&lt;div%20style=%22font-size:%2012px;%20height:%2028px;%20left:%200px;%20padding:%204px%204px%203px;%20position:%20absolute;%20top:%20448px;%20width:%20120px;%20text-align:%20right;%20border-right:%201px%20solid%20rgb(233,%20233,%20233);%22%20class=%22css-1lzltx4-TableCell%22&gt;50&lt;/div&gt;&lt;div%20style=%22font-size:%2012px;%20height:%2028px;%20left:%200px;%20padding:%204px%204px%203px;%20position:%20absolute;%20top:%20476px;%20width:%20120px;%20text-align:%20right;%20background-color:%20rgb(250,%20250,%20250);%20border-right:%201px%20solid%20rgb(233,%20233,%20233);%22%20class=%22css-1lzltx4-TableCell%22&gt;1,437&lt;/div&gt;&lt;/div&gt;&lt;/div&gt;&lt;/div&gt;&lt;/div&gt;&lt;/div&gt;&lt;/div&gt;&lt;/div&gt;&lt;/div&gt;&lt;/div&gt;%3C/div%3E%3C/foreignObject%3E%3C/svg%3E\">"
      ],
      "text/plain": [
       "Open the notebook in JupyterLab with the atoti extension installed and enabled to see this widget."
      ]
     },
     "metadata": {},
     "output_type": "display_data"
    }
   ],
   "source": [
    "session.visualize()"
   ]
  },
  {
   "cell_type": "code",
   "execution_count": 22,
   "metadata": {
    "execution": {
     "iopub.execute_input": "2021-03-02T04:12:41.782059Z",
     "iopub.status.busy": "2021-03-02T04:12:41.781687Z",
     "iopub.status.idle": "2021-03-02T04:12:42.698649Z",
     "shell.execute_reply": "2021-03-02T04:12:42.698004Z",
     "shell.execute_reply.started": "2021-03-02T04:12:41.782025Z"
    }
   },
   "outputs": [],
   "source": [
    "cube.measures[\"Sales\"] = cube.measures[\"totalcents.SUM\"]\n",
    "cube.measures[\"Sales as % of Grand Total\"] = cube.measures[\"Sales\"] / tt.total(\n",
    "    cube.measures[\"Sales\"], cube.hierarchies[\"Catalog\"]\n",
    ")\n",
    "cube.measures[\"Sales as % of Grand Total\"].formatter = \"DOUBLE[0.00%]\""
   ]
  },
  {
   "cell_type": "code",
   "execution_count": 23,
   "metadata": {
    "atoti": {
     "widget": {
      "mapping": {
       "columns": [
        "ALL_MEASURES"
       ],
       "measures": [
        "[Measures].[Sales as % of Grand Total]"
       ],
       "rows": [
        "[Categories Hierarchy].[Catalog].[Category_Lvl1]"
       ]
      },
      "query": {
       "mdx": "SELECT NON EMPTY Hierarchize(Union(Descendants({[Categories Hierarchy].[Catalog].[AllMember]}, 1, SELF_AND_BEFORE), Descendants({[Categories Hierarchy].[Catalog].[AllMember].[N/A]}, [Categories Hierarchy].[Catalog].[Category_Lvl2]))) ON ROWS, NON EMPTY {[Measures].[Sales as % of Grand Total]} ON COLUMNS FROM [Sales Analytics]",
       "updateMode": "once"
      },
      "serverKey": "default",
      "widgetKey": "pivot-table"
     }
    },
    "execution": {
     "iopub.execute_input": "2021-03-02T04:12:42.702392Z",
     "iopub.status.busy": "2021-03-02T04:12:42.702193Z",
     "iopub.status.idle": "2021-03-02T04:12:42.833045Z",
     "shell.execute_reply": "2021-03-02T04:12:42.832223Z",
     "shell.execute_reply.started": "2021-03-02T04:12:42.702369Z"
    }
   },
   "outputs": [
    {
     "data": {
      "application/vnd.atoti.v0+json": {
       "name": null,
       "session": "Unnamed"
      },
      "text/html": [
       "<img src=\"data:image/svg+xml;charset=utf8,%3C?xml%20version=%221.0%22%20standalone=%22no%22?%3E%3Csvg%20xmlns=%22http://www.w3.org/2000/svg%22%20height=%22348%22%20width=%221158%22%3E%3CforeignObject%20width=%22100%25%22%20height=%22100%25%22%20x=%220%22%20y=%220%22%3E%3Cstyle%20type=%22text/css%22%3E.anticon%20%7Bdisplay:%20inline-block;%20color:%20inherit;%20font-style:%20normal;%20line-height:%200;%20text-align:%20center;%20text-transform:%20none;%20vertical-align:%20-0.125em;%20text-rendering:%20optimizelegibility;%20-moz-osx-font-smoothing:%20grayscale%7D%0A.anticon%20%3E%20*%20%7Bline-height:%201%7D%0A.anticon%20svg%20%7Bdisplay:%20inline-block%7D%0A.anticon%5Btabindex%5D%20%7Bcursor:%20pointer%7D%0A*,%20::before,%20::after%20%7Bbox-sizing:%20unset%7D%0A.ant-root%20%5Bclass%5E=%22ant-%22%5D,%20.ant-root%20%5Bclass*=%22ant-%22%5D,%20.ant-root%20%5Bclass%5E=%22ant-%22%5D%20*,%20.ant-root%20%5Bclass*=%22ant-%22%5D%20*,%20.ant-root%20%5Bclass%5E=%22ant-%22%5D%20::before,%20.ant-root%20%5Bclass*=%22ant-%22%5D%20::before,%20.ant-root%20%5Bclass%5E=%22ant-%22%5D%20::after,%20.ant-root%20%5Bclass*=%22ant-%22%5D%20::after%20%7Bbox-sizing:%20border-box%7D%0A.ant-root%20html,%20.ant-root%20%7Bwidth:%20100%25;%20height:%20100%25%7D%0A.ant-root%20*,%20.ant-root%20::before,%20.ant-root%20::after%20%7Bbox-sizing:%20border-box%7D%0A.ant-root%20%7Bmargin-top:%200px;%20margin-right:%200px;%20margin-bottom:%200px;%20margin-left:%200px;%20color:%20rgb(89,%2089,%2089);%20font-size:%2012px;%20font-family:%20-apple-system,%20BlinkMacSystemFont,%20%22Segoe%20UI%22,%20Roboto,%20%22Helvetica%20Neue%22,%20Arial,%20%22Noto%20Sans%22,%20sans-serif,%20%22Apple%20Color%20Emoji%22,%20%22Segoe%20UI%20Emoji%22,%20%22Segoe%20UI%20Symbol%22,%20%22Noto%20Color%20Emoji%22;%20font-variant-caps:%20normal;%20font-variant-alternates:%20normal;%20font-variant-east-asian:%20normal;%20font-variant-ligatures:%20normal;%20font-variant-numeric:%20tabular-nums;%20font-variant-position:%20normal;%20line-height:%201.66667;%20background-color:%20rgb(255,%20255,%20255);%20--antd-wave-shadow-color:%20undefined;%20--scroll-bar:%20undefined%7D%0A.ant-root%20svg:not(:root)%20%7Boverflow-x:%20hidden;%20overflow-y:%20hidden%7D%0A.ant-root%20.anticon%20%7Bdisplay:%20inline-block;%20color:%20inherit;%20font-style:%20normal;%20line-height:%200;%20text-align:%20center;%20text-transform:%20none;%20vertical-align:%20-0.125em;%20text-rendering:%20optimizelegibility;%20-moz-osx-font-smoothing:%20grayscale%7D%0A.ant-root%20.anticon%20%3E%20*%20%7Bline-height:%201%7D%0A.ant-root%20.anticon%20svg%20%7Bdisplay:%20inline-block%7D%0A.ant-root%20.anticon%5Btabindex%5D%20%7Bcursor:%20pointer%7D%0A.ant-root%20.ant-spin%20%7Bbox-sizing:%20border-box;%20margin-top:%200px;%20margin-right:%200px;%20margin-bottom:%200px;%20margin-left:%200px;%20padding-top:%200px;%20padding-right:%200px;%20padding-bottom:%200px;%20padding-left:%200px;%20font-size:%2012px;%20font-variant-caps:%20normal;%20font-variant-alternates:%20normal;%20font-variant-east-asian:%20normal;%20font-variant-ligatures:%20normal;%20font-variant-numeric:%20tabular-nums;%20font-variant-position:%20normal;%20line-height:%201.66667;%20list-style-position:%20outside;%20list-style-image:%20none;%20list-style-type:%20none;%20position:%20absolute;%20display:%20none;%20color:%20rgb(0,%20174,%20239);%20text-align:%20center;%20vertical-align:%20middle;%20opacity:%200;%20transition-property:%20transform;%20transition-duration:%200.3s;%20transition-timing-function:%20cubic-bezier(0.78,%200.14,%200.15,%200.86);%20transition-delay:%200s%7D%0A.ant-root%20.ant-spin-spinning%20%7Bposition:%20static;%20display:%20inline-block;%20opacity:%201%7D%0A.ant-root%20.ant-spin-dot%20%7Bposition:%20relative;%20display:%20inline-block;%20font-size:%2020px;%20width:%201em;%20height:%201em%7D%0A.ant-root%20.ant-spin-dot-item%20%7Bposition:%20absolute;%20display:%20block;%20width:%209px;%20height:%209px;%20background-color:%20rgb(0,%20174,%20239);%20border-top-left-radius:%20100%25;%20border-top-right-radius:%20100%25;%20border-bottom-right-radius:%20100%25;%20border-bottom-left-radius:%20100%25;%20transform:%20scale(0.75);%20transform-origin:%2050%25%2050%25%200px;%20opacity:%200.3;%20animation-name:%20antSpinMove;%20animation-duration:%201s;%20animation-timing-function:%20linear;%20animation-delay:%200s;%20animation-iteration-count:%20infinite;%20animation-direction:%20alternate;%20animation-fill-mode:%20none;%20animation-play-state:%20running%7D%0A.ant-root%20.ant-spin-dot-item:nth-child(1)%20%7Btop:%200px;%20left:%200px%7D%0A.ant-root%20.ant-spin-dot-item:nth-child(2)%20%7Btop:%200px;%20right:%200px;%20animation-delay:%200.4s%7D%0A.ant-root%20.ant-spin-dot-item:nth-child(3)%20%7Bright:%200px;%20bottom:%200px;%20animation-delay:%200.8s%7D%0A.ant-root%20.ant-spin-dot-item:nth-child(4)%20%7Bbottom:%200px;%20left:%200px;%20animation-delay:%201.2s%7D%0A.ant-root%20.ant-spin-dot-spin%20%7Btransform:%20rotate(45deg);%20animation-name:%20antRotate;%20animation-duration:%201.2s;%20animation-timing-function:%20linear;%20animation-delay:%200s;%20animation-iteration-count:%20infinite;%20animation-direction:%20normal;%20animation-fill-mode:%20none;%20animation-play-state:%20running%7D%0A.ant-root%20.ant-spin-lg%20.ant-spin-dot%20%7Bfont-size:%2032px%7D%0A.ant-root%20.ant-spin-lg%20.ant-spin-dot%20i%20%7Bwidth:%2014px;%20height:%2014px%7D%0A.css-12ebr42-AWidget%20%7Bheight:%20100%25%7D%0A.css-1e3kjgr-Spinner%20%7Bheight:%20100%25;%20position:%20relative%7D%0A.css-ck2xzt-Spinner%20%7B-moz-box-align:%20center;%20align-items:%20center;%20background-color:%20transparent;%20background-position-x:%200%25;%20background-position-y:%200%25;%20background-repeat:%20repeat;%20background-attachment:%20scroll;%20background-image:%20none;%20background-size:%20auto;%20background-origin:%20padding-box;%20background-clip:%20border-box;%20display:%20flex;%20height:%20100%25;%20-moz-box-pack:%20center;%20justify-content:%20center;%20position:%20absolute;%20transition-property:%20opacity;%20transition-duration:%20300ms;%20transition-timing-function:%20ease;%20transition-delay:%200s;%20width:%20100%25;%20opacity:%200;%20pointer-events:%20none;%20z-index:%202%7D%0A.css-6s7z8y-Table%20%7Bpadding-bottom:%202px;%20padding-right:%202px;%20height:%20100%25%7D%0A.css-18k6uz5-Table%20%7Bcursor:%20cell;%20height:%20100%25;%20outline-color:%20currentcolor;%20outline-style:%20none;%20outline-width:%20medium%7D%0A.css-9wvnih-Table%20%7Bborder-collapse:%20collapse;%20height:%2028px;%20width:%20120px%7D%0A.css-gy6esx%20%7Bheight:%2028px;%20width:%20120px%7D%0A.css-pu2plr%20%7Bheight:%2028px;%20overflow-x:%20hidden;%20overflow-y:%20hidden;%20position:%20relative;%20width:%20120px;%20border-right-color:%20rgb(233,%20233,%20233);%20border-right-style:%20solid;%20border-right-width:%202px%7D%0A.css-s616r8-Table%20%7Bwidth:%201036px;%20border-collapse:%20collapse%7D%0A.css-1tk27kv%20%7Bheight:%2028px;%20width:%201018px;%20scrollbar-width:%20none;%20overflow-x:%20auto;%20overflow-y:%20hidden%7D%0A.css-nq0smp%20%7Bheight:%2028px;%20overflow-x:%20hidden;%20overflow-y:%20hidden;%20position:%20relative;%20width:%20120px%7D%0A.css-16sdsf5-Table%20%7Bdisplay:%20flex;%20height:%20346px%7D%0A.css-cn3y95%20%7Bheight:%20318px;%20width:%20120px;%20scrollbar-width:%20none;%20overflow-x:%20hidden;%20overflow-y:%20auto%7D%0A.css-5iun72%20%7Bheight:%20616px;%20overflow-x:%20hidden;%20overflow-y:%20hidden;%20position:%20relative;%20width:%20120px;%20border-top-color:%20rgb(233,%20233,%20233);%20border-top-style:%20solid;%20border-top-width:%202px;%20border-right-color:%20rgb(233,%20233,%20233);%20border-right-style:%20solid;%20border-right-width:%202px%7D%0A.css-xooi4c%20%7Bheight:%20318px;%20width:%201036px;%20overflow-x:%20auto;%20overflow-y:%20auto%7D%0A.css-19nyda7%20%7Bheight:%20616px;%20overflow-x:%20hidden;%20overflow-y:%20hidden;%20position:%20relative;%20width:%20120px;%20border-top-color:%20rgb(233,%20233,%20233);%20border-top-style:%20solid;%20border-top-width:%202px%7D%0A*%20%7B-ms-overflow-style:%20none;%20scrollbar-width:%20none%7D%0A*::-webkit-scrollbar%20%7Bdisplay:%20none%7D%3C/style%3E%3Cdiv%20xmlns=%22http://www.w3.org/1999/xhtml%22%20style=%22height:%20348px;%20width:%201158px;%22%3E&lt;div%20xmlns=%22http://www.w3.org/1999/xhtml%22%20class=%22ant-root%20css-0%22&gt;&lt;div%20class=%22ant-dropdown-trigger%20css-12ebr42-AWidget%22&gt;&lt;div%20class=%22css-1e3kjgr-Spinner%22&gt;&lt;div%20class=%22css-ck2xzt-Spinner%22&gt;&lt;div%20class=%22ant-spin%20ant-spin-lg%20ant-spin-spinning%22&gt;&lt;span%20class=%22ant-spin-dot%20ant-spin-dot-spin%22&gt;&lt;i%20class=%22ant-spin-dot-item%22&gt;&lt;/i&gt;&lt;i%20class=%22ant-spin-dot-item%22&gt;&lt;/i&gt;&lt;i%20class=%22ant-spin-dot-item%22&gt;&lt;/i&gt;&lt;i%20class=%22ant-spin-dot-item%22&gt;&lt;/i&gt;&lt;/span&gt;&lt;/div&gt;&lt;/div&gt;&lt;div%20class=%22css-6s7z8y-Table%22&gt;&lt;div%20tabindex=%220%22%20class=%22css-18k6uz5-Table%22&gt;&lt;div%20class=%22css-16sdsf5-Table%22&gt;&lt;div%20class=%22css-9wvnih-Table%22&gt;&lt;div%20class=%22css-gy6esx%22&gt;&lt;div%20class=%22css-pu2plr%22&gt;&lt;div%20style=%22font-size:%2012px;%20height:%2028px;%20left:%200px;%20padding:%204px%204px%203px;%20position:%20absolute;%20top:%200px;%20width:%20120px;%20font-weight:%20600;%22&gt;Category_Lvl1&lt;/div&gt;&lt;/div&gt;&lt;/div&gt;&lt;div%20class=%22css-cn3y95%22&gt;&lt;div%20class=%22css-5iun72%22&gt;&lt;div%20style=%22font-size:%2012px;%20font-weight:%20600;%20padding:%204px%204px%203px;%22&gt;Total&lt;/div&gt;&lt;div%20style=%22overflow:%20hidden;%20display:%20flex;%20align-items:%20center;%20font-size:%2012px;%20height:%2028px;%20left:%200px;%20padding:%204px%204px%203px;%20position:%20absolute;%20top:%2028px;%20width:%20120px;%20background-color:%20rgb(250,%20250,%20250);%20border-right:%202px%20solid%20rgb(233,%20233,%20233);%22&gt;&lt;span%20role=%22img%22%20aria-label=%22right%22%20style=%22cursor:%20pointer;%20font-size:%2010px;%20margin-right:%206px;%22%20tabindex=%22-1%22%20class=%22anticon%20anticon-right%22&gt;&lt;svg%20xmlns=%22http://www.w3.org/2000/svg%22%20viewBox=%2264%2064%20896%20896%22%20focusable=%22false%22%20class=%22%22%20data-icon=%22right%22%20width=%221em%22%20height=%221em%22%20fill=%22currentColor%22%20aria-hidden=%22true%22&gt;&lt;path%20d=%22M765.7%20486.8L314.9%20134.7A7.97%207.97%200%2000302%20141v77.3c0%204.9%202.3%209.6%206.1%2012.6l360%20281.1-360%20281.1c-3.9%203-6.1%207.7-6.1%2012.6V883c0%206.7%207.7%2010.4%2012.9%206.3l450.8-352.1a31.96%2031.96%200%20000-50.4z%22/&gt;&lt;/svg&gt;&lt;/span&gt;&lt;span%20style=%22text-overflow:%20ellipsis;%20overflow:%20hidden;%20white-space:%20nowrap;%20max-width:%20calc(100%25%20-%2016px);%22&gt;Audio,%20video&lt;/span&gt;&lt;div%20style=%22height:%20100%25;%20margin-left:%206px;%22&gt;&lt;/div&gt;&lt;/div&gt;&lt;div%20style=%22overflow:%20hidden;%20display:%20flex;%20align-items:%20center;%20font-size:%2012px;%20height:%2028px;%20left:%200px;%20padding:%204px%204px%203px;%20position:%20absolute;%20top:%2056px;%20width:%20120px;%20border-right:%202px%20solid%20rgb(233,%20233,%20233);%22&gt;&lt;span%20role=%22img%22%20aria-label=%22right%22%20style=%22cursor:%20pointer;%20font-size:%2010px;%20margin-right:%206px;%22%20tabindex=%22-1%22%20class=%22anticon%20anticon-right%22&gt;&lt;svg%20xmlns=%22http://www.w3.org/2000/svg%22%20viewBox=%2264%2064%20896%20896%22%20focusable=%22false%22%20class=%22%22%20data-icon=%22right%22%20width=%221em%22%20height=%221em%22%20fill=%22currentColor%22%20aria-hidden=%22true%22&gt;&lt;path%20d=%22M765.7%20486.8L314.9%20134.7A7.97%207.97%200%2000302%20141v77.3c0%204.9%202.3%209.6%206.1%2012.6l360%20281.1-360%20281.1c-3.9%203-6.1%207.7-6.1%2012.6V883c0%206.7%207.7%2010.4%2012.9%206.3l450.8-352.1a31.96%2031.96%200%20000-50.4z%22/&gt;&lt;/svg&gt;&lt;/span&gt;&lt;span%20style=%22text-overflow:%20ellipsis;%20overflow:%20hidden;%20white-space:%20nowrap;%20max-width:%20calc(100%25%20-%2016px);%22&gt;Auto%20and%20Moto&lt;/span&gt;&lt;div%20style=%22height:%20100%25;%20margin-left:%206px;%22&gt;&lt;/div&gt;&lt;/div&gt;&lt;div%20style=%22overflow:%20hidden;%20display:%20flex;%20align-items:%20center;%20font-size:%2012px;%20height:%2028px;%20left:%200px;%20padding:%204px%204px%203px;%20position:%20absolute;%20top:%2084px;%20width:%20120px;%20background-color:%20rgb(250,%20250,%20250);%20border-right:%202px%20solid%20rgb(233,%20233,%20233);%22&gt;&lt;span%20role=%22img%22%20aria-label=%22right%22%20style=%22cursor:%20pointer;%20font-size:%2010px;%20margin-right:%206px;%22%20tabindex=%22-1%22%20class=%22anticon%20anticon-right%22&gt;&lt;svg%20xmlns=%22http://www.w3.org/2000/svg%22%20viewBox=%2264%2064%20896%20896%22%20focusable=%22false%22%20class=%22%22%20data-icon=%22right%22%20width=%221em%22%20height=%221em%22%20fill=%22currentColor%22%20aria-hidden=%22true%22&gt;&lt;path%20d=%22M765.7%20486.8L314.9%20134.7A7.97%207.97%200%2000302%20141v77.3c0%204.9%202.3%209.6%206.1%2012.6l360%20281.1-360%20281.1c-3.9%203-6.1%207.7-6.1%2012.6V883c0%206.7%207.7%2010.4%2012.9%206.3l450.8-352.1a31.96%2031.96%200%20000-50.4z%22/&gt;&lt;/svg&gt;&lt;/span&gt;&lt;span%20style=%22text-overflow:%20ellipsis;%20overflow:%20hidden;%20white-space:%20nowrap;%20max-width:%20calc(100%25%20-%2016px);%22&gt;Baby%20products&lt;/span&gt;&lt;div%20style=%22height:%20100%25;%20margin-left:%206px;%22&gt;&lt;/div&gt;&lt;/div&gt;&lt;div%20style=%22overflow:%20hidden;%20display:%20flex;%20align-items:%20center;%20font-size:%2012px;%20height:%2028px;%20left:%200px;%20padding:%204px%204px%203px;%20position:%20absolute;%20top:%20112px;%20width:%20120px;%20border-right:%202px%20solid%20rgb(233,%20233,%20233);%22&gt;&lt;span%20role=%22img%22%20aria-label=%22right%22%20style=%22cursor:%20pointer;%20font-size:%2010px;%20margin-right:%206px;%22%20tabindex=%22-1%22%20class=%22anticon%20anticon-right%22&gt;&lt;svg%20xmlns=%22http://www.w3.org/2000/svg%22%20viewBox=%2264%2064%20896%20896%22%20focusable=%22false%22%20class=%22%22%20data-icon=%22right%22%20width=%221em%22%20height=%221em%22%20fill=%22currentColor%22%20aria-hidden=%22true%22&gt;&lt;path%20d=%22M765.7%20486.8L314.9%20134.7A7.97%207.97%200%2000302%20141v77.3c0%204.9%202.3%209.6%206.1%2012.6l360%20281.1-360%20281.1c-3.9%203-6.1%207.7-6.1%2012.6V883c0%206.7%207.7%2010.4%2012.9%206.3l450.8-352.1a31.96%2031.96%200%20000-50.4z%22/&gt;&lt;/svg&gt;&lt;/span&gt;&lt;span%20style=%22text-overflow:%20ellipsis;%20overflow:%20hidden;%20white-space:%20nowrap;%20max-width:%20calc(100%25%20-%2016px);%22&gt;Climate%20equipment&lt;/span&gt;&lt;div%20style=%22height:%20100%25;%20margin-left:%206px;%22&gt;&lt;/div&gt;&lt;/div&gt;&lt;div%20style=%22overflow:%20hidden;%20display:%20flex;%20align-items:%20center;%20font-size:%2012px;%20height:%2028px;%20left:%200px;%20padding:%204px%204px%203px;%20position:%20absolute;%20top:%20140px;%20width:%20120px;%20background-color:%20rgb(250,%20250,%20250);%20border-right:%202px%20solid%20rgb(233,%20233,%20233);%22&gt;&lt;span%20role=%22img%22%20aria-label=%22right%22%20style=%22cursor:%20pointer;%20font-size:%2010px;%20margin-right:%206px;%22%20tabindex=%22-1%22%20class=%22anticon%20anticon-right%22&gt;&lt;svg%20xmlns=%22http://www.w3.org/2000/svg%22%20viewBox=%2264%2064%20896%20896%22%20focusable=%22false%22%20class=%22%22%20data-icon=%22right%22%20width=%221em%22%20height=%221em%22%20fill=%22currentColor%22%20aria-hidden=%22true%22&gt;&lt;path%20d=%22M765.7%20486.8L314.9%20134.7A7.97%207.97%200%2000302%20141v77.3c0%204.9%202.3%209.6%206.1%2012.6l360%20281.1-360%20281.1c-3.9%203-6.1%207.7-6.1%2012.6V883c0%206.7%207.7%2010.4%2012.9%206.3l450.8-352.1a31.96%2031.96%200%20000-50.4z%22/&gt;&lt;/svg&gt;&lt;/span&gt;&lt;span%20style=%22text-overflow:%20ellipsis;%20overflow:%20hidden;%20white-space:%20nowrap;%20max-width:%20calc(100%25%20-%2016px);%22&gt;Computers&lt;/span&gt;&lt;div%20style=%22height:%20100%25;%20margin-left:%206px;%22&gt;&lt;/div&gt;&lt;/div&gt;&lt;div%20style=%22overflow:%20hidden;%20display:%20flex;%20align-items:%20center;%20font-size:%2012px;%20height:%2028px;%20left:%200px;%20padding:%204px%204px%203px;%20position:%20absolute;%20top:%20168px;%20width:%20120px;%20border-right:%202px%20solid%20rgb(233,%20233,%20233);%22&gt;&lt;span%20role=%22img%22%20aria-label=%22right%22%20style=%22cursor:%20pointer;%20font-size:%2010px;%20margin-right:%206px;%22%20tabindex=%22-1%22%20class=%22anticon%20anticon-right%22&gt;&lt;svg%20xmlns=%22http://www.w3.org/2000/svg%22%20viewBox=%2264%2064%20896%20896%22%20focusable=%22false%22%20class=%22%22%20data-icon=%22right%22%20width=%221em%22%20height=%221em%22%20fill=%22currentColor%22%20aria-hidden=%22true%22&gt;&lt;path%20d=%22M765.7%20486.8L314.9%20134.7A7.97%207.97%200%2000302%20141v77.3c0%204.9%202.3%209.6%206.1%2012.6l360%20281.1-360%20281.1c-3.9%203-6.1%207.7-6.1%2012.6V883c0%206.7%207.7%2010.4%2012.9%206.3l450.8-352.1a31.96%2031.96%200%20000-50.4z%22/&gt;&lt;/svg&gt;&lt;/span&gt;&lt;span%20style=%22text-overflow:%20ellipsis;%20overflow:%20hidden;%20white-space:%20nowrap;%20max-width:%20calc(100%25%20-%2016px);%22&gt;Decoration%20Materials&lt;/span&gt;&lt;div%20style=%22height:%20100%25;%20margin-left:%206px;%22&gt;&lt;/div&gt;&lt;/div&gt;&lt;div%20style=%22overflow:%20hidden;%20display:%20flex;%20align-items:%20center;%20font-size:%2012px;%20height:%2028px;%20left:%200px;%20padding:%204px%204px%203px;%20position:%20absolute;%20top:%20196px;%20width:%20120px;%20background-color:%20rgb(250,%20250,%20250);%20border-right:%202px%20solid%20rgb(233,%20233,%20233);%22&gt;&lt;span%20role=%22img%22%20aria-label=%22right%22%20style=%22cursor:%20pointer;%20font-size:%2010px;%20margin-right:%206px;%22%20tabindex=%22-1%22%20class=%22anticon%20anticon-right%22&gt;&lt;svg%20xmlns=%22http://www.w3.org/2000/svg%22%20viewBox=%2264%2064%20896%20896%22%20focusable=%22false%22%20class=%22%22%20data-icon=%22right%22%20width=%221em%22%20height=%221em%22%20fill=%22currentColor%22%20aria-hidden=%22true%22&gt;&lt;path%20d=%22M765.7%20486.8L314.9%20134.7A7.97%207.97%200%2000302%20141v77.3c0%204.9%202.3%209.6%206.1%2012.6l360%20281.1-360%20281.1c-3.9%203-6.1%207.7-6.1%2012.6V883c0%206.7%207.7%2010.4%2012.9%206.3l450.8-352.1a31.96%2031.96%200%20000-50.4z%22/&gt;&lt;/svg&gt;&lt;/span&gt;&lt;span%20style=%22text-overflow:%20ellipsis;%20overflow:%20hidden;%20white-space:%20nowrap;%20max-width:%20calc(100%25%20-%2016px);%22&gt;Embedded%20appliances&lt;/span&gt;&lt;div%20style=%22height:%20100%25;%20margin-left:%206px;%22&gt;&lt;/div&gt;&lt;/div&gt;&lt;div%20style=%22overflow:%20hidden;%20display:%20flex;%20align-items:%20center;%20font-size:%2012px;%20height:%2028px;%20left:%200px;%20padding:%204px%204px%203px;%20position:%20absolute;%20top:%20224px;%20width:%20120px;%20border-right:%202px%20solid%20rgb(233,%20233,%20233);%22&gt;&lt;span%20role=%22img%22%20aria-label=%22right%22%20style=%22cursor:%20pointer;%20font-size:%2010px;%20margin-right:%206px;%22%20tabindex=%22-1%22%20class=%22anticon%20anticon-right%22&gt;&lt;svg%20xmlns=%22http://www.w3.org/2000/svg%22%20viewBox=%2264%2064%20896%20896%22%20focusable=%22false%22%20class=%22%22%20data-icon=%22right%22%20width=%221em%22%20height=%221em%22%20fill=%22currentColor%22%20aria-hidden=%22true%22&gt;&lt;path%20d=%22M765.7%20486.8L314.9%20134.7A7.97%207.97%200%2000302%20141v77.3c0%204.9%202.3%209.6%206.1%2012.6l360%20281.1-360%20281.1c-3.9%203-6.1%207.7-6.1%2012.6V883c0%206.7%207.7%2010.4%2012.9%206.3l450.8-352.1a31.96%2031.96%200%20000-50.4z%22/&gt;&lt;/svg&gt;&lt;/span&gt;&lt;span%20style=%22text-overflow:%20ellipsis;%20overflow:%20hidden;%20white-space:%20nowrap;%20max-width:%20calc(100%25%20-%2016px);%22&gt;Furniture&lt;/span&gt;&lt;div%20style=%22height:%20100%25;%20margin-left:%206px;%22&gt;&lt;/div&gt;&lt;/div&gt;&lt;div%20style=%22overflow:%20hidden;%20display:%20flex;%20align-items:%20center;%20font-size:%2012px;%20height:%2028px;%20left:%200px;%20padding:%204px%204px%203px;%20position:%20absolute;%20top:%20252px;%20width:%20120px;%20background-color:%20rgb(250,%20250,%20250);%20border-right:%202px%20solid%20rgb(233,%20233,%20233);%22&gt;&lt;span%20role=%22img%22%20aria-label=%22right%22%20style=%22cursor:%20pointer;%20font-size:%2010px;%20margin-right:%206px;%22%20tabindex=%22-1%22%20class=%22anticon%20anticon-right%22&gt;&lt;svg%20xmlns=%22http://www.w3.org/2000/svg%22%20viewBox=%2264%2064%20896%20896%22%20focusable=%22false%22%20class=%22%22%20data-icon=%22right%22%20width=%221em%22%20height=%221em%22%20fill=%22currentColor%22%20aria-hidden=%22true%22&gt;&lt;path%20d=%22M765.7%20486.8L314.9%20134.7A7.97%207.97%200%2000302%20141v77.3c0%204.9%202.3%209.6%206.1%2012.6l360%20281.1-360%20281.1c-3.9%203-6.1%207.7-6.1%2012.6V883c0%206.7%207.7%2010.4%2012.9%206.3l450.8-352.1a31.96%2031.96%200%20000-50.4z%22/&gt;&lt;/svg&gt;&lt;/span&gt;&lt;span%20style=%22text-overflow:%20ellipsis;%20overflow:%20hidden;%20white-space:%20nowrap;%20max-width:%20calc(100%25%20-%2016px);%22&gt;Garden,%20cottage,%20vegetable%20garden&lt;/span&gt;&lt;div%20style=%22height:%20100%25;%20margin-left:%206px;%22&gt;&lt;/div&gt;&lt;/div&gt;&lt;div%20style=%22overflow:%20hidden;%20display:%20flex;%20align-items:%20center;%20font-size:%2012px;%20height:%2028px;%20left:%200px;%20padding:%204px%204px%203px;%20position:%20absolute;%20top:%20280px;%20width:%20120px;%20border-right:%202px%20solid%20rgb(233,%20233,%20233);%22&gt;&lt;span%20role=%22img%22%20aria-label=%22right%22%20style=%22cursor:%20pointer;%20font-size:%2010px;%20margin-right:%206px;%22%20tabindex=%22-1%22%20class=%22anticon%20anticon-right%22&gt;&lt;svg%20xmlns=%22http://www.w3.org/2000/svg%22%20viewBox=%2264%2064%20896%20896%22%20focusable=%22false%22%20class=%22%22%20data-icon=%22right%22%20width=%221em%22%20height=%221em%22%20fill=%22currentColor%22%20aria-hidden=%22true%22&gt;&lt;path%20d=%22M765.7%20486.8L314.9%20134.7A7.97%207.97%200%2000302%20141v77.3c0%204.9%202.3%209.6%206.1%2012.6l360%20281.1-360%20281.1c-3.9%203-6.1%207.7-6.1%2012.6V883c0%206.7%207.7%2010.4%2012.9%206.3l450.8-352.1a31.96%2031.96%200%20000-50.4z%22/&gt;&lt;/svg&gt;&lt;/span&gt;&lt;span%20style=%22text-overflow:%20ellipsis;%20overflow:%20hidden;%20white-space:%20nowrap;%20max-width:%20calc(100%25%20-%2016px);%22&gt;Gift%20certificates&lt;/span&gt;&lt;div%20style=%22height:%20100%25;%20margin-left:%206px;%22&gt;&lt;/div&gt;&lt;/div&gt;&lt;div%20style=%22overflow:%20hidden;%20display:%20flex;%20align-items:%20center;%20font-size:%2012px;%20height:%2028px;%20left:%200px;%20padding:%204px%204px%203px;%20position:%20absolute;%20top:%20308px;%20width:%20120px;%20background-color:%20rgb(250,%20250,%20250);%20border-right:%202px%20solid%20rgb(233,%20233,%20233);%22&gt;&lt;span%20role=%22img%22%20aria-label=%22right%22%20style=%22cursor:%20pointer;%20font-size:%2010px;%20margin-right:%206px;%22%20tabindex=%22-1%22%20class=%22anticon%20anticon-right%22&gt;&lt;svg%20xmlns=%22http://www.w3.org/2000/svg%22%20viewBox=%2264%2064%20896%20896%22%20focusable=%22false%22%20class=%22%22%20data-icon=%22right%22%20width=%221em%22%20height=%221em%22%20fill=%22currentColor%22%20aria-hidden=%22true%22&gt;&lt;path%20d=%22M765.7%20486.8L314.9%20134.7A7.97%207.97%200%2000302%20141v77.3c0%204.9%202.3%209.6%206.1%2012.6l360%20281.1-360%20281.1c-3.9%203-6.1%207.7-6.1%2012.6V883c0%206.7%207.7%2010.4%2012.9%206.3l450.8-352.1a31.96%2031.96%200%20000-50.4z%22/&gt;&lt;/svg&gt;&lt;/span&gt;&lt;span%20style=%22text-overflow:%20ellipsis;%20overflow:%20hidden;%20white-space:%20nowrap;%20max-width:%20calc(100%25%20-%2016px);%22&gt;Household%20products&lt;/span&gt;&lt;div%20style=%22height:%20100%25;%20margin-left:%206px;%22&gt;&lt;/div&gt;&lt;/div&gt;&lt;div%20style=%22overflow:%20hidden;%20display:%20flex;%20align-items:%20center;%20font-size:%2012px;%20height:%2028px;%20left:%200px;%20padding:%204px%204px%203px;%20position:%20absolute;%20top:%20336px;%20width:%20120px;%20border-right:%202px%20solid%20rgb(233,%20233,%20233);%22&gt;&lt;span%20role=%22img%22%20aria-label=%22right%22%20style=%22cursor:%20pointer;%20font-size:%2010px;%20margin-right:%206px;%22%20tabindex=%22-1%22%20class=%22anticon%20anticon-right%22&gt;&lt;svg%20xmlns=%22http://www.w3.org/2000/svg%22%20viewBox=%2264%2064%20896%20896%22%20focusable=%22false%22%20class=%22%22%20data-icon=%22right%22%20width=%221em%22%20height=%221em%22%20fill=%22currentColor%22%20aria-hidden=%22true%22&gt;&lt;path%20d=%22M765.7%20486.8L314.9%20134.7A7.97%207.97%200%2000302%20141v77.3c0%204.9%202.3%209.6%206.1%2012.6l360%20281.1-360%20281.1c-3.9%203-6.1%207.7-6.1%2012.6V883c0%206.7%207.7%2010.4%2012.9%206.3l450.8-352.1a31.96%2031.96%200%20000-50.4z%22/&gt;&lt;/svg&gt;&lt;/span&gt;&lt;span%20style=%22text-overflow:%20ellipsis;%20overflow:%20hidden;%20white-space:%20nowrap;%20max-width:%20calc(100%25%20-%2016px);%22&gt;IKEA%20furniture&lt;/span&gt;&lt;div%20style=%22height:%20100%25;%20margin-left:%206px;%22&gt;&lt;/div&gt;&lt;/div&gt;&lt;/div&gt;&lt;/div&gt;&lt;/div&gt;&lt;div%20class=%22css-s616r8-Table%22&gt;&lt;div%20class=%22css-1tk27kv%22&gt;&lt;div%20class=%22css-nq0smp%22&gt;&lt;div%20style=%22overflow:%20hidden;%20display:%20flex;%20align-items:%20center;%20font-size:%2012px;%20height:%2028px;%20left:%200px;%20padding:%204px%204px%203px;%20position:%20absolute;%20top:%200px;%20width:%20120px;%20font-weight:%20600;%22&gt;&lt;span%20style=%22text-overflow:%20ellipsis;%20overflow:%20hidden;%20white-space:%20nowrap;%20max-width:%20calc(100%25%20+%200px);%22&gt;Sales%20as%20%25%20of%20Grand%20Total&lt;/span&gt;&lt;div%20style=%22height:%20100%25;%20margin-left:%206px;%22&gt;&lt;/div&gt;&lt;/div&gt;&lt;/div&gt;&lt;/div&gt;&lt;div%20class=%22css-xooi4c%22&gt;&lt;div%20class=%22css-19nyda7%22&gt;&lt;div%20style=%22font-size:%2012px;%20height:%2028px;%20left:%200px;%20padding:%204px%204px%203px;%20position:%20absolute;%20top:%200px;%20width:%20120px;%20text-align:%20right;%20border-right:%201px%20solid%20rgb(233,%20233,%20233);%22%20class=%22css-1lzltx4-TableCell%22&gt;100.00%25&lt;/div&gt;&lt;div%20style=%22font-size:%2012px;%20height:%2028px;%20left:%200px;%20padding:%204px%204px%203px;%20position:%20absolute;%20top:%2028px;%20width:%20120px;%20text-align:%20right;%20background-color:%20rgb(250,%20250,%20250);%20border-right:%201px%20solid%20rgb(233,%20233,%20233);%22%20class=%22css-1lzltx4-TableCell%22&gt;6.74%25&lt;/div&gt;&lt;div%20style=%22font-size:%2012px;%20height:%2028px;%20left:%200px;%20padding:%204px%204px%203px;%20position:%20absolute;%20top:%2056px;%20width:%20120px;%20text-align:%20right;%20border-right:%201px%20solid%20rgb(233,%20233,%20233);%22%20class=%22css-1lzltx4-TableCell%22&gt;11.06%25&lt;/div&gt;&lt;div%20style=%22font-size:%2012px;%20height:%2028px;%20left:%200px;%20padding:%204px%204px%203px;%20position:%20absolute;%20top:%2084px;%20width:%20120px;%20text-align:%20right;%20background-color:%20rgb(250,%20250,%20250);%20border-right:%201px%20solid%20rgb(233,%20233,%20233);%22%20class=%22css-1lzltx4-TableCell%22&gt;4.52%25&lt;/div&gt;&lt;div%20style=%22font-size:%2012px;%20height:%2028px;%20left:%200px;%20padding:%204px%204px%203px;%20position:%20absolute;%20top:%20112px;%20width:%20120px;%20text-align:%20right;%20border-right:%201px%20solid%20rgb(233,%20233,%20233);%22%20class=%22css-1lzltx4-TableCell%22&gt;5.78%25&lt;/div&gt;&lt;div%20style=%22font-size:%2012px;%20height:%2028px;%20left:%200px;%20padding:%204px%204px%203px;%20position:%20absolute;%20top:%20140px;%20width:%20120px;%20text-align:%20right;%20background-color:%20rgb(250,%20250,%20250);%20border-right:%201px%20solid%20rgb(233,%20233,%20233);%22%20class=%22css-1lzltx4-TableCell%22&gt;6.95%25&lt;/div&gt;&lt;div%20style=%22font-size:%2012px;%20height:%2028px;%20left:%200px;%20padding:%204px%204px%203px;%20position:%20absolute;%20top:%20168px;%20width:%20120px;%20text-align:%20right;%20border-right:%201px%20solid%20rgb(233,%20233,%20233);%22%20class=%22css-1lzltx4-TableCell%22&gt;0.24%25&lt;/div&gt;&lt;div%20style=%22font-size:%2012px;%20height:%2028px;%20left:%200px;%20padding:%204px%204px%203px;%20position:%20absolute;%20top:%20196px;%20width:%20120px;%20text-align:%20right;%20background-color:%20rgb(250,%20250,%20250);%20border-right:%201px%20solid%20rgb(233,%20233,%20233);%22%20class=%22css-1lzltx4-TableCell%22&gt;8.18%25&lt;/div&gt;&lt;div%20style=%22font-size:%2012px;%20height:%2028px;%20left:%200px;%20padding:%204px%204px%203px;%20position:%20absolute;%20top:%20224px;%20width:%20120px;%20text-align:%20right;%20border-right:%201px%20solid%20rgb(233,%20233,%20233);%22%20class=%22css-1lzltx4-TableCell%22&gt;3.65%25&lt;/div&gt;&lt;div%20style=%22font-size:%2012px;%20height:%2028px;%20left:%200px;%20padding:%204px%204px%203px;%20position:%20absolute;%20top:%20252px;%20width:%20120px;%20text-align:%20right;%20background-color:%20rgb(250,%20250,%20250);%20border-right:%201px%20solid%20rgb(233,%20233,%20233);%22%20class=%22css-1lzltx4-TableCell%22&gt;3.62%25&lt;/div&gt;&lt;div%20style=%22font-size:%2012px;%20height:%2028px;%20left:%200px;%20padding:%204px%204px%203px;%20position:%20absolute;%20top:%20280px;%20width:%20120px;%20text-align:%20right;%20border-right:%201px%20solid%20rgb(233,%20233,%20233);%22%20class=%22css-1lzltx4-TableCell%22&gt;0.01%25&lt;/div&gt;&lt;div%20style=%22font-size:%2012px;%20height:%2028px;%20left:%200px;%20padding:%204px%204px%203px;%20position:%20absolute;%20top:%20308px;%20width:%20120px;%20text-align:%20right;%20background-color:%20rgb(250,%20250,%20250);%20border-right:%201px%20solid%20rgb(233,%20233,%20233);%22%20class=%22css-1lzltx4-TableCell%22&gt;10.15%25&lt;/div&gt;&lt;div%20style=%22font-size:%2012px;%20height:%2028px;%20left:%200px;%20padding:%204px%204px%203px;%20position:%20absolute;%20top:%20336px;%20width:%20120px;%20text-align:%20right;%20border-right:%201px%20solid%20rgb(233,%20233,%20233);%22%20class=%22css-1lzltx4-TableCell%22&gt;0.16%25&lt;/div&gt;&lt;/div&gt;&lt;/div&gt;&lt;/div&gt;&lt;/div&gt;&lt;/div&gt;&lt;/div&gt;&lt;/div&gt;&lt;/div&gt;&lt;/div&gt;%3C/div%3E%3C/foreignObject%3E%3C/svg%3E\">"
      ],
      "text/plain": [
       "Open the notebook in JupyterLab with the atoti extension installed and enabled to start editing this widget."
      ]
     },
     "metadata": {},
     "output_type": "display_data"
    }
   ],
   "source": [
    "session.visualize()"
   ]
  },
  {
   "cell_type": "markdown",
   "metadata": {},
   "source": [
    "# Start building dashboards"
   ]
  },
  {
   "cell_type": "code",
   "execution_count": 24,
   "metadata": {
    "execution": {
     "iopub.execute_input": "2021-03-02T04:12:42.835051Z",
     "iopub.status.busy": "2021-03-02T04:12:42.834789Z",
     "iopub.status.idle": "2021-03-02T04:12:42.838848Z",
     "shell.execute_reply": "2021-03-02T04:12:42.838257Z",
     "shell.execute_reply.started": "2021-03-02T04:12:42.835027Z"
    }
   },
   "outputs": [
    {
     "data": {
      "text/plain": [
       "'http://localhost:53222'"
      ]
     },
     "execution_count": 24,
     "metadata": {},
     "output_type": "execute_result"
    }
   ],
   "source": [
    "session.url"
   ]
  },
  {
   "cell_type": "code",
   "execution_count": null,
   "metadata": {},
   "outputs": [],
   "source": []
  }
 ],
 "metadata": {
  "kernelspec": {
   "display_name": "Python 3",
   "language": "python",
   "name": "python3"
  },
  "language_info": {
   "codemirror_mode": {
    "name": "ipython",
    "version": 3
   },
   "file_extension": ".py",
   "mimetype": "text/x-python",
   "name": "python",
   "nbconvert_exporter": "python",
   "pygments_lexer": "ipython3",
   "version": "3.9.1"
  }
 },
 "nbformat": 4,
 "nbformat_minor": 4
}
