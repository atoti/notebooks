{
 "cells": [
  {
   "cell_type": "markdown",
   "id": "d7305329-3850-4182-9e8c-9b91bb788ba9",
   "metadata": {
    "tags": []
   },
   "source": [
    "### Effective Dashboarding"
   ]
  },
  {
   "cell_type": "markdown",
   "id": "16224139-a39b-4c47-9193-88e55aaeaf20",
   "metadata": {},
   "source": [
    "Humans are highly visual creatures, while data, even when nicely aggregated, is often captured in very structured but not very visual way.\n",
    "\n",
    "Dashboards exist to help convey data in a summarized manner.  There are three types of dashboards:   \n",
    "📊 Analytical dashboards, which helps the user identify patterns or trends  \n",
    "📊 Operational dashboards, to give a summary of the current state of affairs  \n",
    "📊 Strategic dashboards, which monitor certain KPIs  \n",
    "\n",
    "Here, we'll create an Analytical Dashboard to study patterns and trends in employee attrition based off HR data sourced from [Kaggle](https://www.kaggle.com/shaktikumarmishraa/Hr-employee-attrition/metadata).  A good employee is a valuable resource, and it is important for a company to know what could potentially cause a talented person to leave.\n",
    "\n",
    "We'll create a cube from the underlying CSV and use atoti to create our dashboard.  We'll create a session and fix our port so our dashboard is always available from the same place, and we'll set up a place to store our content metadata so our dashboard is stored for future sessions."
   ]
  },
  {
   "cell_type": "markdown",
   "id": "8f082b7b-742e-4e98-a12a-585eab81eacd",
   "metadata": {},
   "source": [
    "<div style=\"text-align: center;\" ><a href=\"https://www.atoti.io/?utm_source=gallery&utm_content=hr-dashboard\" target=\"_blank\" rel=\"noopener noreferrer\"><img src=\"https://data.atoti.io/notebooks/banners/discover.png\" alt=\"Try atoti\"></a></div>"
   ]
  },
  {
   "cell_type": "code",
   "execution_count": 1,
   "id": "c59f3186-9d0c-4def-88d3-d8112eaee819",
   "metadata": {},
   "outputs": [],
   "source": [
    "import atoti as tt"
   ]
  },
  {
   "cell_type": "code",
   "execution_count": 2,
   "id": "3c7bbc1e-8187-494c-b93d-c095d4a9030f",
   "metadata": {},
   "outputs": [],
   "source": [
    "session = tt.create_session(\n",
    "    config={\n",
    "        \"port\": 9090,\n",
    "        \"user_content_storage\": \"./content\",\n",
    "    },\n",
    ")"
   ]
  },
  {
   "cell_type": "code",
   "execution_count": 3,
   "id": "480e2c4f-e884-4f03-adcb-f5685162d728",
   "metadata": {},
   "outputs": [],
   "source": [
    "hr_attrition = session.read_csv(\n",
    "    \"s3://data.atoti.io/notebooks/hr-dashboard/HR-Employee-Attrition.csv\",\n",
    "    keys={\"EmployeeNumber\"},\n",
    ")"
   ]
  },
  {
   "cell_type": "code",
   "execution_count": 4,
   "id": "c003b761-ee8e-40a6-8f0d-dad0578154ab",
   "metadata": {},
   "outputs": [],
   "source": [
    "cube = session.create_cube(hr_attrition)"
   ]
  },
  {
   "cell_type": "markdown",
   "id": "729d5827-a00c-4559-af31-f48fda5c8751",
   "metadata": {},
   "source": [
    "Now that we have a cube created, we have two choices going forward.  We could create all our visualizations here within our notebook then publish them to the dashboard page, or we could let users go directly to our dashboarding webapp and create all the visuals there.\n",
    "\n",
    "If we want to directly access our dashboard, either to start the story or continue from wherever it was last left off, we can do so by running our next cell to expose the link."
   ]
  },
  {
   "cell_type": "code",
   "execution_count": 5,
   "id": "4730c340-74e6-4c1c-86df-3415b77cc85f",
   "metadata": {},
   "outputs": [
    {
     "data": {
      "application/vnd.atoti.link.v0+json": {
       "path": "",
       "sessionLocation": {
        "https": false,
        "port": 9090
       }
      },
      "text/plain": [
       "Open the notebook in JupyterLab with the atoti extension enabled to see this link."
      ]
     },
     "execution_count": 5,
     "metadata": {},
     "output_type": "execute_result"
    }
   ],
   "source": [
    "session.link()"
   ]
  },
  {
   "cell_type": "markdown",
   "id": "fcc6ae68-e395-4b6f-8608-1448e75ef00a",
   "metadata": {},
   "source": [
    "<img src=\"https://data.atoti.io/notebooks/hr-dashboard/sessionlink.gif\" alt=\"Direct Dashboard Access\" width=\"70%\">"
   ]
  },
  {
   "cell_type": "markdown",
   "id": "acc84d3b-d476-47f6-8bb6-7a4600b3bce3",
   "metadata": {},
   "source": [
    "Suppose instead we wanted to create a few visualizations up front to help get started.  We can run the following link to create a few visuals.\n",
    "\n",
    "Since this is HR data related to attrition, it would be nice to have a few visuals summarizing what type of employee data we have, such as:  for how many departments?  what educational background? what is the gender ratio?"
   ]
  },
  {
   "cell_type": "markdown",
   "id": "19917e73-5530-45ec-a8db-f6c11783cfe5",
   "metadata": {},
   "source": [
    "<img src=\"https://data.atoti.io/notebooks/hr-dashboard/publishtoapp.gif\" alt=\"Publish to App\" width=\"70%\">"
   ]
  },
  {
   "cell_type": "markdown",
   "id": "7ff766d5-51a3-4c66-8ccf-7d06591abde2",
   "metadata": {},
   "source": [
    "Now, some people argue against the use of pie charts, but if it communicates the data effectively, use it.  Here it is trying to demonstrate gender composition.  We see immediately there are more men than women in each department, with sales being closest to equal.\n",
    "\n",
    "💡 Know your audience.  If the dashboard consumer won't engage with a particular type of chart, or if the chart itself is confusing the data, don't use them!"
   ]
  },
  {
   "cell_type": "code",
   "execution_count": null,
   "id": "3032afe1-045c-496a-a719-9559ba6f9523",
   "metadata": {
    "atoti": {
     "widget": {
      "mapping": {
       "horizontalSubplots": [
        "[Hr-employee-attrition].[Department].[Department]"
       ],
       "sliceBy": [
        "[Hr-employee-attrition].[Gender].[Gender]"
       ],
       "values": [
        "[Measures].[contributors.COUNT]"
       ],
       "verticalSubplots": []
      },
      "query": {
       "mdx": "SELECT NON EMPTY Hierarchize(Descendants({[Hr-employee-attrition].[Gender].[AllMember]}, 1, SELF_AND_BEFORE)) ON ROWS, NON EMPTY Crossjoin(Hierarchize(Descendants({[Hr-employee-attrition].[Department].[AllMember]}, 1, SELF_AND_BEFORE)), {[Measures].[contributors.COUNT]}) ON COLUMNS FROM [Hr-employee-attrition] CELL PROPERTIES VALUE, FORMATTED_VALUE, BACK_COLOR, FORE_COLOR, FONT_FLAGS",
       "updateMode": "once"
      },
      "serverKey": "default",
      "widgetKey": "plotly-pie-chart"
     }
    },
    "tags": []
   },
   "outputs": [
    {
     "data": {
      "application/vnd.atoti.widget.v0+json": {
       "name": "Employee breakdown by gender across departments",
       "sessionId": "7ce2a620-e666-48eb-a48f-230f60158946",
       "sessionLocation": {
        "https": false,
        "port": 9090
       },
       "widgetCreationCode": "session.visualize()"
      },
      "text/plain": [
       "Open the notebook in JupyterLab with the atoti extension enabled to build this widget."
      ]
     },
     "metadata": {},
     "output_type": "display_data"
    }
   ],
   "source": [
    "session.visualize(\"Employee breakdown by gender across departments\")"
   ]
  },
  {
   "cell_type": "markdown",
   "id": "de5ac6f1-9442-4bce-8ea9-8b5f306c2fda",
   "metadata": {},
   "source": [
    "When using bar charts, there are two primary choices for visualising--showing the \"true\" number of data, or showing how it relates as a portion of a 100%.\n",
    "\n",
    "In the first example, the user can get a sense of the relative size of each department as well as their breakdown (there are more members in R&D than sales; Life Sciences graduates are a large component in both Sales and R&D; the # of Life Sciences graduates in R&D nearly equals the total numer of people in Sales).  However, a smaller department like HR can get lost in this."
   ]
  },
  {
   "cell_type": "code",
   "execution_count": null,
   "id": "728d197e-25a7-4907-a8e7-88f673416037",
   "metadata": {
    "atoti": {
     "widget": {
      "mapping": {
       "horizontalSubplots": [],
       "stackBy": [
        "[Hr-employee-attrition].[EducationField].[EducationField]",
        "ALL_MEASURES"
       ],
       "values": [
        "[Measures].[contributors.COUNT]"
       ],
       "verticalSubplots": [],
       "yAxis": [
        "[Hr-employee-attrition].[Department].[Department]"
       ]
      },
      "query": {
       "mdx": "SELECT NON EMPTY Hierarchize(Descendants({[Hr-employee-attrition].[Department].[AllMember]}, 1, SELF_AND_BEFORE)) ON ROWS, NON EMPTY Crossjoin(Hierarchize(Descendants({[Hr-employee-attrition].[EducationField].[AllMember]}, 1, SELF_AND_BEFORE)), {[Measures].[contributors.COUNT]}) ON COLUMNS FROM [Hr-employee-attrition] CELL PROPERTIES VALUE, FORMATTED_VALUE, BACK_COLOR, FORE_COLOR, FONT_FLAGS",
       "updateMode": "once"
      },
      "serverKey": "default",
      "widgetKey": "plotly-stacked-bar-chart"
     }
    },
    "tags": []
   },
   "outputs": [],
   "source": [
    "session.visualize(\"Educational background across departments overall\")"
   ]
  },
  {
   "cell_type": "markdown",
   "id": "f21e381a-d4e1-40a7-8105-1fac36d71833",
   "metadata": {},
   "source": [
    "In the second example,  Sales, R&D, and HR are all equally in focus, and one can easily see the educational background for each department, but their relative size in comparision to each other is not available.  The size of each department is broken out into a separate visualization.  While a user can derive the same information as the first example, it may require more mental gymnastics.\n",
    "\n",
    "💡 Know your intent.  Too many dimensions in one visual may be confusing, but a story spread across too many visuals can make it hard to piece together."
   ]
  },
  {
   "cell_type": "code",
   "execution_count": null,
   "id": "9dbf4c8c-93ff-4dc1-a460-aaba0f257975",
   "metadata": {
    "atoti": {
     "widget": {
      "mapping": {
       "horizontalSubplots": [],
       "stackBy": [
        "[Hr-employee-attrition].[EducationField].[EducationField]",
        "ALL_MEASURES"
       ],
       "values": [
        "[Measures].[contributors.COUNT]"
       ],
       "verticalSubplots": [],
       "yAxis": [
        "[Hr-employee-attrition].[Department].[Department]"
       ]
      },
      "query": {
       "mdx": "SELECT NON EMPTY Crossjoin(Hierarchize(Descendants({[Hr-employee-attrition].[EducationField].[AllMember]}, 1, SELF_AND_BEFORE)), {[Measures].[contributors.COUNT]}) ON COLUMNS, NON EMPTY Hierarchize(Descendants({[Hr-employee-attrition].[Department].[AllMember]}, 1, SELF_AND_BEFORE)) ON ROWS FROM [Hr-employee-attrition] CELL PROPERTIES VALUE, FORMATTED_VALUE, BACK_COLOR, FORE_COLOR, FONT_FLAGS",
       "updateMode": "once"
      },
      "serverKey": "default",
      "widgetKey": "plotly-100-stacked-bar-chart"
     }
    },
    "tags": []
   },
   "outputs": [],
   "source": [
    "session.visualize(\"Educational background across departments by %\")"
   ]
  },
  {
   "cell_type": "code",
   "execution_count": null,
   "id": "a3eaa55a-ef00-4d6d-ae9c-9927eab3ae7e",
   "metadata": {
    "atoti": {
     "height": 141,
     "widget": {
      "columnWidths": {
       "[Hr-employee-attrition].[Department].[Department]": 231,
       "[Measures].[contributors.COUNT]": 176
      },
      "mapping": {
       "columns": [
        "[Hr-employee-attrition].[Department].[Department]"
       ],
       "measures": [
        "[Measures].[contributors.COUNT]"
       ],
       "rows": []
      },
      "query": {
       "mdx": "SELECT NON EMPTY Crossjoin(Hierarchize(Descendants({[Hr-employee-attrition].[Department].[AllMember]}, 1, SELF_AND_BEFORE)), {[Measures].[contributors.COUNT]}) ON COLUMNS FROM [Hr-employee-attrition] CELL PROPERTIES VALUE, FORMATTED_VALUE, BACK_COLOR, FORE_COLOR, FONT_FLAGS",
       "updateMode": "once"
      },
      "serverKey": "default",
      "widgetKey": "kpi"
     }
    },
    "tags": []
   },
   "outputs": [],
   "source": [
    "session.visualize(\"Employoee distribution across departments\")"
   ]
  },
  {
   "cell_type": "markdown",
   "id": "b5ef4121-baa1-4524-b271-579828929061",
   "metadata": {},
   "source": [
    "We can also play with the colors used in a visualization, using colors to help group or classify data.  For example, if we want to see how tenure in each role tracks with overall age, we could choose to use a single color for all dots.  Or we could use colors to distinguish between males vs females, or based off their departments.  We can see the rough trend, and also see if there is any deviation based off a subcategory.  Of course, if there are too many colors, the message can get overwhelming and hard to parse.  Also, some individuals may struggle to distinguish between certain colors due to color-blindness or color vision deficiency.\n",
    "\n",
    "💡 Be careful with color.  Colors can make a visual compelling, but too many colors can dilute the message.  Also, be aware of accessibility issues when using color based delineations."
   ]
  },
  {
   "cell_type": "code",
   "execution_count": null,
   "id": "22a1a579-6ecb-418c-a607-d6ad049a7501",
   "metadata": {
    "atoti": {
     "widget": {
      "mapping": {
       "color": [
        "[Hr-employee-attrition].[Gender].[Gender]"
       ],
       "horizontalSubplots": [],
       "size": [
        "[Measures].[contributors.COUNT]"
       ],
       "splitBy": [
        "[Hr-employee-attrition].[JobRole].[JobRole]",
        "[Hr-employee-attrition].[Department].[Department]",
        "[Hr-employee-attrition].[Gender].[Gender]"
       ],
       "verticalSubplots": [],
       "xValues": [
        "[Measures].[Age.MEAN]"
       ],
       "yValues": [
        "[Measures].[YearsInCurrentRole.MEAN]"
       ]
      },
      "query": {
       "mdx": "SELECT NON EMPTY {[Measures].[Age.MEAN], [Measures].[YearsInCurrentRole.MEAN], [Measures].[contributors.COUNT]} ON COLUMNS, NON EMPTY Crossjoin(Hierarchize(Descendants({[Hr-employee-attrition].[JobRole].[AllMember]}, 1, SELF_AND_BEFORE)), Hierarchize(Descendants({[Hr-employee-attrition].[Department].[AllMember]}, 1, SELF_AND_BEFORE)), Hierarchize(Descendants({[Hr-employee-attrition].[Gender].[AllMember]}, 1, SELF_AND_BEFORE))) ON ROWS FROM [Hr-employee-attrition] CELL PROPERTIES VALUE, FORMATTED_VALUE, BACK_COLOR, FORE_COLOR, FONT_FLAGS",
       "updateMode": "once"
      },
      "serverKey": "default",
      "widgetKey": "plotly-scatter-plot"
     }
    },
    "tags": []
   },
   "outputs": [],
   "source": [
    "session.visualize(\"Average age vs tenure by job role\")"
   ]
  },
  {
   "cell_type": "code",
   "execution_count": null,
   "id": "7ad19ded-cc09-43f6-9037-1500952c1e7e",
   "metadata": {
    "atoti": {
     "widget": {
      "mapping": {
       "groupBy": [
        "[Hr-employee-attrition].[Department].[Department]"
       ],
       "horizontalSubplots": [],
       "splitBy": [
        "[Hr-employee-attrition].[JobRole].[JobRole]"
       ],
       "values": [
        "[Measures].[contributors.COUNT]"
       ],
       "verticalSubplots": []
      },
      "query": {
       "mdx": "SELECT NON EMPTY Crossjoin(Hierarchize(Descendants({[Hr-employee-attrition].[Department].[AllMember]}, 1, SELF_AND_BEFORE)), Hierarchize(Descendants({[Hr-employee-attrition].[JobRole].[AllMember]}, 1, SELF_AND_BEFORE))) ON ROWS, NON EMPTY {[Measures].[contributors.COUNT]} ON COLUMNS FROM [Hr-employee-attrition] CELL PROPERTIES VALUE, FORMATTED_VALUE, BACK_COLOR, FORE_COLOR, FONT_FLAGS",
       "updateMode": "once"
      },
      "serverKey": "default",
      "widgetKey": "plotly-tree-map"
     }
    },
    "tags": []
   },
   "outputs": [],
   "source": [
    "session.visualize(\"Job roles per department\")"
   ]
  },
  {
   "cell_type": "markdown",
   "id": "fbfecd30-64ca-4086-a311-18067e40a99e",
   "metadata": {},
   "source": [
    "Once we have a sense of the employee demographics, we can begin to study the data around which employees left and which ones have stayed.  This could be a second page in a dashboard, or a continuation of the same dashboard, depending on user preference.\n",
    "\n",
    "💡 Avoid cluttering a dashboard.  A user should be able to get a sense of the information it is trying to convey in five seconds or less."
   ]
  },
  {
   "cell_type": "code",
   "execution_count": null,
   "id": "2c8a4230-875a-4b9d-b3ff-027e7cadf840",
   "metadata": {
    "atoti": {
     "height": 427,
     "widget": {
      "mapping": {
       "horizontalSubplots": [],
       "stackBy": [
        "[Hr-employee-attrition].[Attrition].[Attrition]",
        "ALL_MEASURES"
       ],
       "values": [
        "[Measures].[contributors.COUNT]"
       ],
       "verticalSubplots": [
        "[Hr-employee-attrition].[Gender].[Gender]"
       ],
       "xAxis": [
        "[Hr-employee-attrition].[JobRole].[JobRole]"
       ]
      },
      "query": {
       "mdx": "SELECT NON EMPTY Hierarchize(Descendants({[Hr-employee-attrition].[JobRole].[AllMember]}, 1, SELF_AND_BEFORE)) ON ROWS, NON EMPTY Crossjoin(Hierarchize(Descendants({[Hr-employee-attrition].[Attrition].[AllMember]}, 1, SELF_AND_BEFORE)), {[Measures].[contributors.COUNT]}, Hierarchize(Descendants({[Hr-employee-attrition].[Gender].[AllMember]}, 1, SELF_AND_BEFORE))) ON COLUMNS FROM [Hr-employee-attrition] CELL PROPERTIES VALUE, FORMATTED_VALUE, BACK_COLOR, FORE_COLOR, FONT_FLAGS",
       "updateMode": "once"
      },
      "serverKey": "default",
      "widgetKey": "plotly-100-stacked-column-chart"
     }
    },
    "tags": []
   },
   "outputs": [],
   "source": [
    "session.visualize(\"Attrition rates by job titles\")"
   ]
  },
  {
   "cell_type": "code",
   "execution_count": null,
   "id": "2153e7b7-9c30-43df-b8af-f95f7a496b7f",
   "metadata": {
    "atoti": {
     "widget": {
      "mapping": {
       "horizontalSubplots": [],
       "stackBy": [
        "[Hr-employee-attrition].[Attrition].[Attrition]",
        "ALL_MEASURES"
       ],
       "values": [
        "[Measures].[contributors.COUNT]"
       ],
       "verticalSubplots": [],
       "xAxis": [
        "[Hr-employee-attrition].[BusinessTravel].[BusinessTravel]"
       ]
      },
      "query": {
       "mdx": "SELECT NON EMPTY Hierarchize(Descendants({[Hr-employee-attrition].[BusinessTravel].[AllMember]}, 1, SELF_AND_BEFORE)) ON ROWS, NON EMPTY Crossjoin(Hierarchize(Descendants({[Hr-employee-attrition].[Attrition].[AllMember]}, 1, SELF_AND_BEFORE)), {[Measures].[contributors.COUNT]}) ON COLUMNS FROM [Hr-employee-attrition] CELL PROPERTIES VALUE, FORMATTED_VALUE, BACK_COLOR, FORE_COLOR, FONT_FLAGS",
       "updateMode": "once"
      },
      "serverKey": "default",
      "widgetKey": "plotly-100-stacked-column-chart"
     }
    },
    "tags": []
   },
   "outputs": [],
   "source": [
    "session.visualize(\"Attrition based off travel frequency\")"
   ]
  },
  {
   "cell_type": "code",
   "execution_count": null,
   "id": "4b19240c-3fa2-4d89-b748-217c506b1e8c",
   "metadata": {
    "atoti": {
     "widget": {
      "mapping": {
       "color": [
        "[Hr-employee-attrition].[Attrition].[Attrition]"
       ],
       "horizontalSubplots": [],
       "size": [
        "[Measures].[contributors.COUNT]"
       ],
       "splitBy": [
        "[Hr-employee-attrition].[Department].[Department]",
        "[Hr-employee-attrition].[JobRole].[JobRole]"
       ],
       "verticalSubplots": [],
       "xValues": [
        "[Measures].[JobSatisfaction.MEAN]"
       ],
       "yValues": [
        "[Measures].[YearsAtCompany.MEAN]"
       ]
      },
      "query": {
       "mdx": "SELECT NON EMPTY {[Measures].[JobSatisfaction.MEAN], [Measures].[YearsAtCompany.MEAN], [Measures].[contributors.COUNT]} ON COLUMNS, NON EMPTY Crossjoin(Hierarchize(Descendants({[Hr-employee-attrition].[Attrition].[AllMember]}, 1, SELF_AND_BEFORE)), Hierarchize(Descendants({[Hr-employee-attrition].[Department].[AllMember]}, 1, SELF_AND_BEFORE)), Hierarchize(Descendants({[Hr-employee-attrition].[JobRole].[AllMember]}, 1, SELF_AND_BEFORE))) ON ROWS FROM [Hr-employee-attrition] CELL PROPERTIES VALUE, FORMATTED_VALUE, BACK_COLOR, FORE_COLOR, FONT_FLAGS",
       "updateMode": "once"
      },
      "serverKey": "default",
      "widgetKey": "plotly-scatter-plot"
     }
    },
    "tags": []
   },
   "outputs": [],
   "source": [
    "session.visualize(\"Tenure vs job satisfaction across role\")"
   ]
  },
  {
   "cell_type": "markdown",
   "id": "796e764e-c2d2-4dac-abc1-097901253e12",
   "metadata": {},
   "source": [
    "Beyond the impact of 'obvious' factors like job role, travel frequency, salary, and job satisfaction on attrition, what about more niche or lesser considered reasons for attrition like commute distance or number of previously held positions?  Should these be included in the dashboard?  If we include it, it seems like commuting distance is not appreciably impactful, \n",
    "\n",
    "💡 Arrange your information like an inverted pyramid, with far reaching or important pieces of information on top, and getting more granular or niche as you go"
   ]
  },
  {
   "cell_type": "code",
   "execution_count": null,
   "id": "3a7f8f3f-c7db-42c7-bb10-bd4fe102dec2",
   "metadata": {},
   "outputs": [],
   "source": [
    "cube.hierarchies[\"DistanceHome\"] = [hr_attrition[\"DistanceFromHome\"]]"
   ]
  },
  {
   "cell_type": "code",
   "execution_count": null,
   "id": "95507983-2ebf-4548-a522-efafaa41ce26",
   "metadata": {
    "atoti": {
     "height": 259,
     "widget": {
      "filters": [
       "[Hr-employee-attrition].[Attrition].[AllMember].[Yes]"
      ],
      "mapping": {
       "columnValues": [
        "[Measures].[contributors.COUNT]"
       ],
       "horizontalSubplots": [],
       "lineValues": [],
       "verticalSubplots": [],
       "xAxis": [
        "[Hr-employee-attrition].[DistanceHome].[DistanceFromHome]"
       ]
      },
      "query": {
       "mdx": "SELECT NON EMPTY {[Measures].[contributors.COUNT]} ON COLUMNS, NON EMPTY Hierarchize(Descendants({[Hr-employee-attrition].[DistanceHome].[AllMember]}, 1, SELF_AND_BEFORE)) ON ROWS FROM [Hr-employee-attrition] CELL PROPERTIES VALUE, FORMATTED_VALUE, BACK_COLOR, FORE_COLOR, FONT_FLAGS",
       "updateMode": "once"
      },
      "serverKey": "default",
      "widgetKey": "plotly-clustered-column-and-line-chart"
     }
    },
    "tags": []
   },
   "outputs": [],
   "source": [
    "session.visualize(\"Average distance from home for attrited employees\")"
   ]
  },
  {
   "cell_type": "code",
   "execution_count": null,
   "id": "7c6b6bd9-7303-40b5-972b-9f4fe08f66a7",
   "metadata": {
    "atoti": {
     "widget": {
      "filters": [
       "[Hr-employee-attrition].[Attrition].[AllMember].[No]"
      ],
      "mapping": {
       "horizontalSubplots": [],
       "splitBy": [
        "ALL_MEASURES"
       ],
       "values": [
        "[Measures].[contributors.COUNT]"
       ],
       "verticalSubplots": [],
       "xAxis": [
        "[Hr-employee-attrition].[DistanceHome].[DistanceFromHome]"
       ]
      },
      "query": {
       "mdx": "SELECT NON EMPTY Hierarchize(Descendants({[Hr-employee-attrition].[DistanceHome].[AllMember]}, 1, SELF_AND_BEFORE)) ON ROWS, NON EMPTY {[Measures].[contributors.COUNT]} ON COLUMNS FROM [Hr-employee-attrition] CELL PROPERTIES VALUE, FORMATTED_VALUE, BACK_COLOR, FORE_COLOR, FONT_FLAGS",
       "updateMode": "once"
      },
      "serverKey": "default",
      "widgetKey": "plotly-clustered-column-chart"
     }
    },
    "tags": []
   },
   "outputs": [],
   "source": [
    "session.visualize(\"Average distance from home for retained employees\")"
   ]
  },
  {
   "cell_type": "code",
   "execution_count": null,
   "id": "ea2ac4db-2ace-4339-94b8-eaefa4c84c4d",
   "metadata": {
    "atoti": {
     "widget": {
      "comparison": {
       "comparedMemberNamePath": [
        "AllMember",
        "No"
       ],
       "dimensionName": "Hr-employee-attrition",
       "hierarchyName": "Attrition",
       "referenceMemberNamePath": [
        "AllMember",
        "Yes"
       ]
      },
      "mapping": {
       "columns": [],
       "measures": [
        "[Measures].[YearsAtCompany.MEAN]",
        "[Measures].[YearsSinceLastPromotion.MEAN]"
       ],
       "rows": [
        "[Hr-employee-attrition].[Department].[Department]"
       ]
      },
      "query": {
       "mdx": "SELECT NON EMPTY {[Measures].[YearsAtCompany.MEAN], [Measures].[YearsSinceLastPromotion.MEAN]} ON COLUMNS, NON EMPTY Hierarchize(Descendants({[Hr-employee-attrition].[Department].[AllMember]}, 1, SELF_AND_BEFORE)) ON ROWS FROM [Hr-employee-attrition] CELL PROPERTIES VALUE, FORMATTED_VALUE, BACK_COLOR, FORE_COLOR, FONT_FLAGS",
       "updateMode": "once"
      },
      "serverKey": "default",
      "switchedTo": "plotly-clustered-column-chart",
      "widgetKey": "kpi"
     }
    },
    "tags": []
   },
   "outputs": [],
   "source": [
    "session.visualize(\"Tenure and years since last promotion based off attrition\")"
   ]
  },
  {
   "cell_type": "code",
   "execution_count": null,
   "id": "6b48738e-e3a7-469e-bb99-cd31d9224a55",
   "metadata": {
    "atoti": {
     "widget": {
      "filters": [
       "[Hr-employee-attrition].[Attrition].[AllMember].[Yes]"
      ],
      "mapping": {
       "color": [
        "[Hr-employee-attrition].[Department].[Department]"
       ],
       "horizontalSubplots": [],
       "size": [],
       "splitBy": [
        "[Hr-employee-attrition].[EmployeeNumber].[EmployeeNumber]"
       ],
       "verticalSubplots": [],
       "xValues": [
        "[Measures].[YearsSinceLastPromotion.MEAN]"
       ],
       "yValues": [
        "[Measures].[YearsAtCompany.MEAN]"
       ]
      },
      "query": {
       "mdx": "SELECT NON EMPTY {[Measures].[YearsSinceLastPromotion.MEAN], [Measures].[YearsAtCompany.MEAN]} ON COLUMNS, NON EMPTY Crossjoin(Hierarchize(Descendants({[Hr-employee-attrition].[Department].[AllMember]}, 1, SELF_AND_BEFORE)), Hierarchize(Descendants({[Hr-employee-attrition].[EmployeeNumber].[AllMember]}, 1, SELF_AND_BEFORE))) ON ROWS FROM [Hr-employee-attrition] CELL PROPERTIES VALUE, FORMATTED_VALUE, BACK_COLOR, FORE_COLOR, FONT_FLAGS",
       "updateMode": "once"
      },
      "serverKey": "default",
      "widgetKey": "plotly-scatter-plot"
     }
    },
    "tags": []
   },
   "outputs": [],
   "source": [
    "session.visualize(\"Tenure and years since last promotion for attrited employees\")"
   ]
  },
  {
   "cell_type": "code",
   "execution_count": null,
   "id": "116744a0-4f58-47fc-b94c-fc3ac9a17316",
   "metadata": {
    "atoti": {
     "widget": {
      "filters": [
       "[Hr-employee-attrition].[Attrition].[AllMember].[No]"
      ],
      "mapping": {
       "color": [
        "[Hr-employee-attrition].[Department].[Department]"
       ],
       "horizontalSubplots": [],
       "size": [],
       "splitBy": [
        "[Hr-employee-attrition].[EmployeeNumber].[EmployeeNumber]"
       ],
       "verticalSubplots": [],
       "xValues": [
        "[Measures].[YearsSinceLastPromotion.MEAN]"
       ],
       "yValues": [
        "[Measures].[YearsAtCompany.MEAN]"
       ]
      },
      "query": {
       "mdx": "SELECT NON EMPTY {[Measures].[YearsSinceLastPromotion.MEAN], [Measures].[YearsAtCompany.MEAN]} ON COLUMNS, NON EMPTY Crossjoin(Hierarchize(Descendants({[Hr-employee-attrition].[Department].[AllMember]}, 1, SELF_AND_BEFORE)), Hierarchize(Descendants({[Hr-employee-attrition].[EmployeeNumber].[AllMember]}, 1, SELF_AND_BEFORE))) ON ROWS FROM [Hr-employee-attrition] CELL PROPERTIES VALUE, FORMATTED_VALUE, BACK_COLOR, FORE_COLOR, FONT_FLAGS",
       "updateMode": "once"
      },
      "serverKey": "default",
      "widgetKey": "plotly-scatter-plot"
     }
    },
    "tags": []
   },
   "outputs": [],
   "source": [
    "session.visualize(\"Tenure and years since last promotion for retained employees\")"
   ]
  },
  {
   "cell_type": "code",
   "execution_count": null,
   "id": "af12bcff-a503-43fc-b314-97088bf23363",
   "metadata": {},
   "outputs": [],
   "source": [
    "cube.hierarchies[\"Tenure\"] = [hr_attrition[\"YearsAtCompany\"]]"
   ]
  },
  {
   "cell_type": "code",
   "execution_count": null,
   "id": "875d317c-ae02-47af-bfc1-b4aa6e0c7b3e",
   "metadata": {
    "atoti": {
     "widget": {
      "filters": [
       "[Hr-employee-attrition].[Attrition].[AllMember].[Yes]"
      ],
      "mapping": {
       "horizontalSubplots": [],
       "values": [
        "[Measures].[contributors.COUNT]"
       ],
       "verticalSubplots": [],
       "xAxis": [
        "[Hr-employee-attrition].[Tenure].[YearsAtCompany]"
       ]
      },
      "query": {
       "mdx": "SELECT NON EMPTY Hierarchize(Descendants({[Hr-employee-attrition].[Tenure].[AllMember]}, 1, SELF_AND_BEFORE)) ON ROWS, NON EMPTY {[Measures].[contributors.COUNT]} ON COLUMNS FROM [Hr-employee-attrition] CELL PROPERTIES VALUE, FORMATTED_VALUE, BACK_COLOR, FORE_COLOR, FONT_FLAGS",
       "updateMode": "once"
      },
      "serverKey": "default",
      "widgetKey": "plotly-waterfall-chart"
     }
    },
    "tags": []
   },
   "outputs": [],
   "source": [
    "session.visualize(\"Employee departure based off Tenure\")"
   ]
  },
  {
   "cell_type": "markdown",
   "id": "52572911-8f60-4201-87d1-eed8d2513389",
   "metadata": {},
   "source": [
    "Once we have enough visuals to analyze the problem, we can assemble a dashboard.  From there, users can customize the dashboards to further investigate, or we can use this data to train a model to see if we can predict who will leave the company--though, that is a topic for another notebook."
   ]
  },
  {
   "cell_type": "markdown",
   "id": "018a2ad0-d485-41e8-b2d6-ca6f4df9d4a8",
   "metadata": {},
   "source": [
    "<div style=\"text-align: center;\" ><a href=\"https://www.atoti.io/?utm_source=gallery&utm_content=hr-dashboard\" target=\"_blank\" rel=\"noopener noreferrer\"><img src=\"https://data.atoti.io/notebooks/banners/discover-try.png\" alt=\"Try atoti\"></a></div>"
   ]
  }
 ],
 "metadata": {
  "kernelspec": {
   "display_name": "Python 3 (ipykernel)",
   "language": "python",
   "name": "python3"
  },
  "language_info": {
   "codemirror_mode": {
    "name": "ipython",
    "version": 3
   },
   "file_extension": ".py",
   "mimetype": "text/x-python",
   "name": "python",
   "nbconvert_exporter": "python",
   "pygments_lexer": "ipython3",
   "version": "3.9.6"
  }
 },
 "nbformat": 4,
 "nbformat_minor": 5
}
