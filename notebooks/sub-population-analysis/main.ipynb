{
 "cells": [
  {
   "cell_type": "markdown",
   "metadata": {},
   "source": [
    "# Sub population Analysis "
   ]
  },
  {
   "cell_type": "markdown",
   "metadata": {},
   "source": [
    "### Objective:\n",
    "\n",
    "In this notebook, we shall be doing a subpopulation analysis on the predictions from an ML model.\n",
    "\n",
    "We shall be using [atoti](https://www.atoti.io/) to create the data cubes and doing the analysis. \n",
    "\n",
    "For the uninitiated, atoti is a python library that enables data scientists to explore the predictions of their models and seamlessly share the results with the business stakeholders.  \n",
    "\n",
    "### Dataset:\n",
    "\n",
    "**A data set from the insurance domain is used here.** \n",
    "An insurance company that has provided Health Insurance to its customers now needs to predict whether the policyholders (customers) from the past year will also be interested in Vehicle Insurance provided by the company. The dataset has been obtained from the Jantahack organized by [analytics vidya.](https://datahack.analyticsvidhya.com/contest/janatahack-cross-sell-prediction/#ProblemStatement)\n",
    "\n",
    "\n",
    "### Steps:\n",
    "\n",
    "**1. Preprocessing**\n",
    "* Import the datasets and train-val split\n",
    "\n",
    "**2. Loading Model Predictions**\n",
    "* Evaluate model predictions\n",
    "\n",
    "**3. Goofing up the prediction**\n",
    "\n",
    "**4. Loading data in atoti**\n",
    "\n",
    "**3. Further analysis**"
   ]
  },
  {
   "cell_type": "markdown",
   "metadata": {},
   "source": [
    "# Step 1: Preprocessing\n",
    "\n",
    "## Loading the datasets"
   ]
  },
  {
   "cell_type": "code",
   "execution_count": 1,
   "metadata": {},
   "outputs": [],
   "source": [
    "# Importing the necessary packages\n",
    "\n",
    "%reload_ext autoreload\n",
    "%autoreload 2\n",
    "%matplotlib inline\n",
    "\n",
    "import numpy as np\n",
    "import pandas as pd\n",
    "from sklearn.ensemble import RandomForestClassifier\n",
    "from sklearn.model_selection import cross_val_score, cross_validate, train_test_split\n",
    "import os\n",
    "from sklearn.model_selection import train_test_split\n",
    "import sklearn.metrics as metrics\n",
    "from sklearn.metrics import f1_score, roc_auc_score, accuracy_score\n",
    "import matplotlib.pyplot as plt\n",
    "import random\n",
    "\n",
    "pd.set_option('display.max_columns', None)\n",
    "\n",
    "seed_value = 36\n",
    "os.environ['PYTHONHASHSEED']=str(seed_value)\n",
    "\n",
    "random.seed(seed_value)\n",
    "np.random.seed(seed_value)\n",
    "import multiprocessing\n",
    "\n",
    "pd.options.mode.chained_assignment = None"
   ]
  },
  {
   "cell_type": "code",
   "execution_count": 2,
   "metadata": {},
   "outputs": [],
   "source": [
    "# loading the manually created functions from the _utils.py file \n",
    "\n",
    "from _utils import process_vehicule_age, change_type"
   ]
  },
  {
   "cell_type": "code",
   "execution_count": 3,
   "metadata": {},
   "outputs": [],
   "source": [
    "data = pd.read_csv(\"https://data.atoti.io/notebooks/insurance/train.csv\")"
   ]
  },
  {
   "cell_type": "code",
   "execution_count": 4,
   "metadata": {},
   "outputs": [],
   "source": [
    "# converting vehicle age to inter and changing datatype for other columns\n",
    "data = process_vehicule_age(data)\n",
    "data = change_type(data)"
   ]
  },
  {
   "cell_type": "code",
   "execution_count": 5,
   "metadata": {},
   "outputs": [
    {
     "data": {
      "text/html": [
       "<div>\n",
       "<style scoped>\n",
       "    .dataframe tbody tr th:only-of-type {\n",
       "        vertical-align: middle;\n",
       "    }\n",
       "\n",
       "    .dataframe tbody tr th {\n",
       "        vertical-align: top;\n",
       "    }\n",
       "\n",
       "    .dataframe thead th {\n",
       "        text-align: right;\n",
       "    }\n",
       "</style>\n",
       "<table border=\"1\" class=\"dataframe\">\n",
       "  <thead>\n",
       "    <tr style=\"text-align: right;\">\n",
       "      <th></th>\n",
       "      <th>id</th>\n",
       "      <th>Gender</th>\n",
       "      <th>Age</th>\n",
       "      <th>Driving_License</th>\n",
       "      <th>Region_Code</th>\n",
       "      <th>Previously_Insured</th>\n",
       "      <th>Vehicle_Age</th>\n",
       "      <th>Vehicle_Damage</th>\n",
       "      <th>Annual_Premium</th>\n",
       "      <th>Policy_Sales_Channel</th>\n",
       "      <th>Vintage</th>\n",
       "      <th>Response</th>\n",
       "    </tr>\n",
       "  </thead>\n",
       "  <tbody>\n",
       "    <tr>\n",
       "      <th>0</th>\n",
       "      <td>1</td>\n",
       "      <td>Male</td>\n",
       "      <td>44.0</td>\n",
       "      <td>1</td>\n",
       "      <td>28.0</td>\n",
       "      <td>0</td>\n",
       "      <td>2.0</td>\n",
       "      <td>Yes</td>\n",
       "      <td>40454.0</td>\n",
       "      <td>26.0</td>\n",
       "      <td>217.0</td>\n",
       "      <td>1</td>\n",
       "    </tr>\n",
       "    <tr>\n",
       "      <th>1</th>\n",
       "      <td>2</td>\n",
       "      <td>Male</td>\n",
       "      <td>76.0</td>\n",
       "      <td>1</td>\n",
       "      <td>3.0</td>\n",
       "      <td>0</td>\n",
       "      <td>1.0</td>\n",
       "      <td>No</td>\n",
       "      <td>33536.0</td>\n",
       "      <td>26.0</td>\n",
       "      <td>183.0</td>\n",
       "      <td>0</td>\n",
       "    </tr>\n",
       "    <tr>\n",
       "      <th>2</th>\n",
       "      <td>3</td>\n",
       "      <td>Male</td>\n",
       "      <td>47.0</td>\n",
       "      <td>1</td>\n",
       "      <td>28.0</td>\n",
       "      <td>0</td>\n",
       "      <td>2.0</td>\n",
       "      <td>Yes</td>\n",
       "      <td>38294.0</td>\n",
       "      <td>26.0</td>\n",
       "      <td>27.0</td>\n",
       "      <td>1</td>\n",
       "    </tr>\n",
       "    <tr>\n",
       "      <th>3</th>\n",
       "      <td>4</td>\n",
       "      <td>Male</td>\n",
       "      <td>21.0</td>\n",
       "      <td>1</td>\n",
       "      <td>11.0</td>\n",
       "      <td>1</td>\n",
       "      <td>0.0</td>\n",
       "      <td>No</td>\n",
       "      <td>28619.0</td>\n",
       "      <td>152.0</td>\n",
       "      <td>203.0</td>\n",
       "      <td>0</td>\n",
       "    </tr>\n",
       "    <tr>\n",
       "      <th>4</th>\n",
       "      <td>5</td>\n",
       "      <td>Female</td>\n",
       "      <td>29.0</td>\n",
       "      <td>1</td>\n",
       "      <td>41.0</td>\n",
       "      <td>1</td>\n",
       "      <td>0.0</td>\n",
       "      <td>No</td>\n",
       "      <td>27496.0</td>\n",
       "      <td>152.0</td>\n",
       "      <td>39.0</td>\n",
       "      <td>0</td>\n",
       "    </tr>\n",
       "  </tbody>\n",
       "</table>\n",
       "</div>"
      ],
      "text/plain": [
       "   id  Gender   Age Driving_License Region_Code Previously_Insured  \\\n",
       "0   1    Male  44.0               1        28.0                  0   \n",
       "1   2    Male  76.0               1         3.0                  0   \n",
       "2   3    Male  47.0               1        28.0                  0   \n",
       "3   4    Male  21.0               1        11.0                  1   \n",
       "4   5  Female  29.0               1        41.0                  1   \n",
       "\n",
       "   Vehicle_Age Vehicle_Damage  Annual_Premium Policy_Sales_Channel  Vintage  \\\n",
       "0          2.0            Yes         40454.0                 26.0    217.0   \n",
       "1          1.0             No         33536.0                 26.0    183.0   \n",
       "2          2.0            Yes         38294.0                 26.0     27.0   \n",
       "3          0.0             No         28619.0                152.0    203.0   \n",
       "4          0.0             No         27496.0                152.0     39.0   \n",
       "\n",
       "   Response  \n",
       "0         1  \n",
       "1         0  \n",
       "2         1  \n",
       "3         0  \n",
       "4         0  "
      ]
     },
     "execution_count": 5,
     "metadata": {},
     "output_type": "execute_result"
    }
   ],
   "source": [
    "data.head()"
   ]
  },
  {
   "cell_type": "markdown",
   "metadata": {},
   "source": [
    "### We need to reshuffle columns and split the label from the training data"
   ]
  },
  {
   "cell_type": "code",
   "execution_count": 6,
   "metadata": {},
   "outputs": [],
   "source": [
    "# reshuffling columns\n",
    "\n",
    "cols = data.columns.tolist()\n",
    "cols.insert(0, cols.pop(cols.index(\"Response\")))\n",
    "data = data.reindex(columns=cols)\n",
    "\n",
    "# splitting the labels from the data\n",
    "\n",
    "y = data.iloc[:, 0]\n",
    "X = data.iloc[:, 1:]"
   ]
  },
  {
   "cell_type": "markdown",
   "metadata": {},
   "source": [
    "## Splitting the train and Validation datasets"
   ]
  },
  {
   "cell_type": "code",
   "execution_count": 7,
   "metadata": {},
   "outputs": [],
   "source": [
    "# split X in X_train and x_test\n",
    "\n",
    "X_train, X_val, y_train, y_val = train_test_split(X, y, test_size=0.1, random_state=42)"
   ]
  },
  {
   "cell_type": "code",
   "execution_count": 8,
   "metadata": {},
   "outputs": [
    {
     "name": "stdout",
     "output_type": "stream",
     "text": [
      "Train data size: (342998, 11)\n",
      "\n",
      "Train label size: (342998,)\n",
      "\n",
      "Test data size: (38111, 11)\n",
      "\n",
      "Test label size: (38111,)\n",
      "\n"
     ]
    }
   ],
   "source": [
    "# printing the shapes of the new dataframes\n",
    "\n",
    "print('Train data size: {}\\n'.format(X_train.shape))\n",
    "print('Train label size: {}\\n'.format(y_train.shape))\n",
    "print('Test data size: {}\\n'.format(X_val.shape))\n",
    "print('Test label size: {}\\n'.format(y_val.shape))"
   ]
  },
  {
   "cell_type": "markdown",
   "metadata": {},
   "source": [
    "# Step 2: Load model Predictions\n",
    "\n",
    "In order to stick to the scope of this notebook, we shall be loading the predictions made on the validation dataset above.\n",
    "These are the predictions from a neural network model, which has been uploaded in a different notebook.\n"
   ]
  },
  {
   "cell_type": "code",
   "execution_count": 9,
   "metadata": {},
   "outputs": [],
   "source": [
    "# Predictions from neural network\n",
    "model_results_nn = pd.read_csv(\"https://data.atoti.io/notebooks/insurance/prediction_nn_rv.csv\")\n",
    "\n",
    "# renaming the result comuln from various models\n",
    "model_results_nn.columns = [\"predicted_response\"]"
   ]
  },
  {
   "cell_type": "code",
   "execution_count": 10,
   "metadata": {},
   "outputs": [],
   "source": [
    "# Here we are only concerned with the val dataset\n",
    "\n",
    "master_data = X_val.join(y_val)\n",
    "master_data = master_data.reset_index(drop=True)"
   ]
  },
  {
   "cell_type": "code",
   "execution_count": 11,
   "metadata": {},
   "outputs": [],
   "source": [
    "# we shall be using the results from the Deep Learning along with the actual labels\n",
    "\n",
    "master_data = master_data.join(model_results_nn)\n",
    "\n",
    "master_data[\"predicted_response\"] = master_data[\"predicted_response\"].astype(int)"
   ]
  },
  {
   "cell_type": "code",
   "execution_count": 12,
   "metadata": {},
   "outputs": [
    {
     "data": {
      "text/html": [
       "<div>\n",
       "<style scoped>\n",
       "    .dataframe tbody tr th:only-of-type {\n",
       "        vertical-align: middle;\n",
       "    }\n",
       "\n",
       "    .dataframe tbody tr th {\n",
       "        vertical-align: top;\n",
       "    }\n",
       "\n",
       "    .dataframe thead th {\n",
       "        text-align: right;\n",
       "    }\n",
       "</style>\n",
       "<table border=\"1\" class=\"dataframe\">\n",
       "  <thead>\n",
       "    <tr style=\"text-align: right;\">\n",
       "      <th></th>\n",
       "      <th>id</th>\n",
       "      <th>Gender</th>\n",
       "      <th>Age</th>\n",
       "      <th>Driving_License</th>\n",
       "      <th>Region_Code</th>\n",
       "      <th>Previously_Insured</th>\n",
       "      <th>Vehicle_Age</th>\n",
       "      <th>Vehicle_Damage</th>\n",
       "      <th>Annual_Premium</th>\n",
       "      <th>Policy_Sales_Channel</th>\n",
       "      <th>Vintage</th>\n",
       "      <th>Response</th>\n",
       "      <th>predicted_response</th>\n",
       "    </tr>\n",
       "  </thead>\n",
       "  <tbody>\n",
       "    <tr>\n",
       "      <th>0</th>\n",
       "      <td>200223</td>\n",
       "      <td>Female</td>\n",
       "      <td>21.0</td>\n",
       "      <td>1</td>\n",
       "      <td>3.0</td>\n",
       "      <td>1</td>\n",
       "      <td>0.0</td>\n",
       "      <td>No</td>\n",
       "      <td>20408.0</td>\n",
       "      <td>160.0</td>\n",
       "      <td>72.0</td>\n",
       "      <td>0</td>\n",
       "      <td>0</td>\n",
       "    </tr>\n",
       "    <tr>\n",
       "      <th>1</th>\n",
       "      <td>49767</td>\n",
       "      <td>Male</td>\n",
       "      <td>55.0</td>\n",
       "      <td>1</td>\n",
       "      <td>15.0</td>\n",
       "      <td>0</td>\n",
       "      <td>1.0</td>\n",
       "      <td>Yes</td>\n",
       "      <td>37498.0</td>\n",
       "      <td>26.0</td>\n",
       "      <td>102.0</td>\n",
       "      <td>0</td>\n",
       "      <td>1</td>\n",
       "    </tr>\n",
       "    <tr>\n",
       "      <th>2</th>\n",
       "      <td>172202</td>\n",
       "      <td>Female</td>\n",
       "      <td>41.0</td>\n",
       "      <td>1</td>\n",
       "      <td>3.0</td>\n",
       "      <td>0</td>\n",
       "      <td>1.0</td>\n",
       "      <td>Yes</td>\n",
       "      <td>2630.0</td>\n",
       "      <td>26.0</td>\n",
       "      <td>90.0</td>\n",
       "      <td>0</td>\n",
       "      <td>1</td>\n",
       "    </tr>\n",
       "    <tr>\n",
       "      <th>3</th>\n",
       "      <td>160714</td>\n",
       "      <td>Female</td>\n",
       "      <td>26.0</td>\n",
       "      <td>1</td>\n",
       "      <td>11.0</td>\n",
       "      <td>0</td>\n",
       "      <td>0.0</td>\n",
       "      <td>No</td>\n",
       "      <td>2630.0</td>\n",
       "      <td>151.0</td>\n",
       "      <td>268.0</td>\n",
       "      <td>0</td>\n",
       "      <td>0</td>\n",
       "    </tr>\n",
       "    <tr>\n",
       "      <th>4</th>\n",
       "      <td>53273</td>\n",
       "      <td>Male</td>\n",
       "      <td>51.0</td>\n",
       "      <td>1</td>\n",
       "      <td>40.0</td>\n",
       "      <td>0</td>\n",
       "      <td>1.0</td>\n",
       "      <td>Yes</td>\n",
       "      <td>34006.0</td>\n",
       "      <td>124.0</td>\n",
       "      <td>265.0</td>\n",
       "      <td>0</td>\n",
       "      <td>1</td>\n",
       "    </tr>\n",
       "  </tbody>\n",
       "</table>\n",
       "</div>"
      ],
      "text/plain": [
       "       id  Gender   Age Driving_License Region_Code Previously_Insured  \\\n",
       "0  200223  Female  21.0               1         3.0                  1   \n",
       "1   49767    Male  55.0               1        15.0                  0   \n",
       "2  172202  Female  41.0               1         3.0                  0   \n",
       "3  160714  Female  26.0               1        11.0                  0   \n",
       "4   53273    Male  51.0               1        40.0                  0   \n",
       "\n",
       "   Vehicle_Age Vehicle_Damage  Annual_Premium Policy_Sales_Channel  Vintage  \\\n",
       "0          0.0             No         20408.0                160.0     72.0   \n",
       "1          1.0            Yes         37498.0                 26.0    102.0   \n",
       "2          1.0            Yes          2630.0                 26.0     90.0   \n",
       "3          0.0             No          2630.0                151.0    268.0   \n",
       "4          1.0            Yes         34006.0                124.0    265.0   \n",
       "\n",
       "   Response  predicted_response  \n",
       "0         0                   0  \n",
       "1         0                   1  \n",
       "2         0                   1  \n",
       "3         0                   0  \n",
       "4         0                   1  "
      ]
     },
     "execution_count": 12,
     "metadata": {},
     "output_type": "execute_result"
    }
   ],
   "source": [
    "master_data.head()"
   ]
  },
  {
   "cell_type": "code",
   "execution_count": 13,
   "metadata": {},
   "outputs": [
    {
     "name": "stdout",
     "output_type": "stream",
     "text": [
      "accuracy score:  0.7050457873055024\n",
      "precision score:  0.2871456822676335\n",
      "recall score:  0.9107254860965921\n",
      "F1 score:  0.4366260712674786\n",
      "AUC:  0.7931267852950555\n"
     ]
    }
   ],
   "source": [
    "# In order to validate the correctness of these metrics, let us calculate these metrics using \n",
    "\n",
    "print(\n",
    "    \"accuracy score: \",\n",
    "    metrics.accuracy_score(\n",
    "        master_data[\"Response\"], master_data[\"predicted_response\"]\n",
    "    ),\n",
    ")\n",
    "print(\n",
    "    \"precision score: \",\n",
    "    metrics.precision_score(\n",
    "        master_data[\"Response\"], master_data[\"predicted_response\"]\n",
    "    ),\n",
    ")\n",
    "print(\n",
    "    \"recall score: \",\n",
    "    metrics.recall_score(master_data[\"Response\"], master_data[\"predicted_response\"]),\n",
    ")\n",
    "print(\n",
    "    \"F1 score: \",\n",
    "    metrics.f1_score(master_data[\"Response\"], master_data[\"predicted_response\"]),\n",
    ")\n",
    "\n",
    "print(\n",
    "    \"AUC: \",\n",
    "    metrics.roc_auc_score(master_data[\"Response\"], master_data[\"predicted_response\"]),\n",
    ")"
   ]
  },
  {
   "cell_type": "markdown",
   "metadata": {},
   "source": [
    "## Model Performance:\n",
    "Here we can see that the model prediction have an **AUC of 0.79 and F1 score of 0.43**"
   ]
  },
  {
   "cell_type": "markdown",
   "metadata": {},
   "source": [
    "# Step 3: Goofing the predictions:\n",
    "Now let us try and goof up a bit with the model predictions. \n",
    "For the highly valuable customers (the ones with the maximum annual premium), let us see what happens if we simply reverse the model predictions, assuming that the model did not learn anything about those customers. \n",
    "\n",
    "This could occur in a real-life scenario because of- \n",
    "\n",
    "* Data drift - The characteristic of the key customers has changed over time\n",
    "* Unrepresentative dataset - The model is trained on a non representative dataset as found in production"
   ]
  },
  {
   "cell_type": "code",
   "execution_count": 14,
   "metadata": {},
   "outputs": [
    {
     "data": {
      "text/plain": [
       "55098.0"
      ]
     },
     "execution_count": 14,
     "metadata": {},
     "output_type": "execute_result"
    }
   ],
   "source": [
    "master_data.Annual_Premium.quantile(0.95)"
   ]
  },
  {
   "cell_type": "markdown",
   "metadata": {},
   "source": [
    "Only 5% customers pay a annual premium of more than 55098, let us see how the model performs for these and other buckets"
   ]
  },
  {
   "cell_type": "code",
   "execution_count": 15,
   "metadata": {},
   "outputs": [],
   "source": [
    "# filtering out top customers\n",
    "\n",
    "master_data2 = master_data.loc[master_data['Annual_Premium'] >= 55048]"
   ]
  },
  {
   "cell_type": "code",
   "execution_count": 16,
   "metadata": {},
   "outputs": [],
   "source": [
    "master_data3 = master_data.loc[master_data['Annual_Premium'] < 55048]"
   ]
  },
  {
   "cell_type": "code",
   "execution_count": 17,
   "metadata": {},
   "outputs": [],
   "source": [
    "master_data2['predicted_response'] = master_data2['predicted_response'].map({0: 1, 1: 0}).astype(int)"
   ]
  },
  {
   "cell_type": "code",
   "execution_count": 18,
   "metadata": {},
   "outputs": [],
   "source": [
    "data_set = master_data3.append(master_data2, ignore_index=True)"
   ]
  },
  {
   "cell_type": "code",
   "execution_count": 19,
   "metadata": {},
   "outputs": [
    {
     "data": {
      "text/plain": [
       "(38111, 13)"
      ]
     },
     "execution_count": 19,
     "metadata": {},
     "output_type": "execute_result"
    }
   ],
   "source": [
    "data_set.shape"
   ]
  },
  {
   "cell_type": "markdown",
   "metadata": {},
   "source": [
    "Now let see the overall model performance and the performance on the various subpopulation"
   ]
  },
  {
   "cell_type": "markdown",
   "metadata": {},
   "source": [
    "# Step 4: Loading predictions in atoti"
   ]
  },
  {
   "cell_type": "code",
   "execution_count": 20,
   "metadata": {},
   "outputs": [
    {
     "name": "stdout",
     "output_type": "stream",
     "text": [
      "Welcome to atoti 0.5.1!\n",
      "\n",
      "By using this community edition, you agree with the license available at https://www.atoti.io/eula.\n",
      "Browse the official documentation at https://docs.atoti.io.\n",
      "Join the community at https://www.atoti.io/register.\n",
      "\n",
      "You can hide this message by setting the ATOTI_HIDE_EULA_MESSAGE environment variable to True.\n"
     ]
    }
   ],
   "source": [
    "import atoti as tt"
   ]
  },
  {
   "cell_type": "code",
   "execution_count": 21,
   "metadata": {},
   "outputs": [],
   "source": [
    "# creating a session - it spins up an in-memory database - similar to Apache Spark - ready to slice’n’dice your big data set.\n",
    "\n",
    "from atoti.config import create_config\n",
    "\n",
    "config = create_config(metadata_db=\"./metadata.db\")\n",
    "session = tt.create_session(config=config)"
   ]
  },
  {
   "cell_type": "code",
   "execution_count": 22,
   "metadata": {},
   "outputs": [
    {
     "name": "stderr",
     "output_type": "stream",
     "text": [
      "The store has been sampled because there are more than 10000 lines in the files to load. Call Session.load_all_data() to trigger the full load of the data.\n"
     ]
    }
   ],
   "source": [
    "customer_store = session.read_pandas(\n",
    "    data_set,\n",
    "    store_name=\"customer_store\",\n",
    "    types={\"Policy_Sales_Channel\": tt.type.STRING, \"Region_Code\": tt.type.STRING},\n",
    "    keys=[\"id\"],\n",
    ")"
   ]
  },
  {
   "cell_type": "code",
   "execution_count": 36,
   "metadata": {},
   "outputs": [],
   "source": [
    "# creating a cube from this store\n",
    "\n",
    "cube = session.create_cube(customer_store, \"model_cube\")\n",
    "\n",
    "h = cube.hierarchies\n",
    "m = cube.measures\n",
    "l = cube.levels"
   ]
  },
  {
   "cell_type": "code",
   "execution_count": 24,
   "metadata": {},
   "outputs": [],
   "source": [
    "# We create a simple function that helps change the dimension of our hierarchies as we group them into logical categories.\n",
    "\n",
    "def set_dim(hier_name, dim_name):\n",
    "    h[hier_name].dimension = dim_name"
   ]
  },
  {
   "cell_type": "code",
   "execution_count": 25,
   "metadata": {},
   "outputs": [
    {
     "data": {
      "application/json": {
       "Dimensions": {
        "Customer": {
         "Response": [
          "Response"
         ],
         "id": [
          "id"
         ],
         "predicted_response": [
          "predicted_response"
         ]
        },
        "customer_store": {
         "Driving_License": [
          "Driving_License"
         ],
         "Gender": [
          "Gender"
         ],
         "Policy_Sales_Channel": [
          "Policy_Sales_Channel"
         ],
         "Previously_Insured": [
          "Previously_Insured"
         ],
         "Region_Code": [
          "Region_Code"
         ],
         "Vehicle_Damage": [
          "Vehicle_Damage"
         ]
        }
       },
       "Measures": {
        "Age.MEAN": {
         "formatter": "DOUBLE[#,###.00]"
        },
        "Age.SUM": {
         "formatter": "DOUBLE[#,###.00]"
        },
        "Annual_Premium.MEAN": {
         "formatter": "DOUBLE[#,###.00]"
        },
        "Annual_Premium.SUM": {
         "formatter": "DOUBLE[#,###.00]"
        },
        "Vehicle_Age.MEAN": {
         "formatter": "DOUBLE[#,###.00]"
        },
        "Vehicle_Age.SUM": {
         "formatter": "DOUBLE[#,###.00]"
        },
        "Vintage.MEAN": {
         "formatter": "DOUBLE[#,###.00]"
        },
        "Vintage.SUM": {
         "formatter": "DOUBLE[#,###.00]"
        },
        "contributors.COUNT": {
         "formatter": "INT[#,###]"
        }
       }
      },
      "text/html": [
       "<ul>\n",
       "<li>model_cube\n",
       "  <ul>\n",
       "  <li>Dimensions\n",
       "    <ul>\n",
       "    <li>Customer\n",
       "      <ul>\n",
       "      <li>Response\n",
       "        <ol>\n",
       "        <li>Response</li>\n",
       "        </ol>      </li>\n",
       "      <li>id\n",
       "        <ol>\n",
       "        <li>id</li>\n",
       "        </ol>      </li>\n",
       "      <li>predicted_response\n",
       "        <ol>\n",
       "        <li>predicted_response</li>\n",
       "        </ol>      </li>\n",
       "      </ul>\n",
       "    </li>\n",
       "    <li>customer_store\n",
       "      <ul>\n",
       "      <li>Driving_License\n",
       "        <ol>\n",
       "        <li>Driving_License</li>\n",
       "        </ol>      </li>\n",
       "      <li>Gender\n",
       "        <ol>\n",
       "        <li>Gender</li>\n",
       "        </ol>      </li>\n",
       "      <li>Policy_Sales_Channel\n",
       "        <ol>\n",
       "        <li>Policy_Sales_Channel</li>\n",
       "        </ol>      </li>\n",
       "      <li>Previously_Insured\n",
       "        <ol>\n",
       "        <li>Previously_Insured</li>\n",
       "        </ol>      </li>\n",
       "      <li>Region_Code\n",
       "        <ol>\n",
       "        <li>Region_Code</li>\n",
       "        </ol>      </li>\n",
       "      <li>Vehicle_Damage\n",
       "        <ol>\n",
       "        <li>Vehicle_Damage</li>\n",
       "        </ol>      </li>\n",
       "      </ul>\n",
       "    </li>\n",
       "    </ul>\n",
       "  </li>\n",
       "  <li>Measures\n",
       "    <ul>\n",
       "    <li>Age.MEAN\n",
       "      <ul>\n",
       "      <li>formatter: DOUBLE[#,###.00]</li>\n",
       "      </ul>\n",
       "    </li>\n",
       "    <li>Age.SUM\n",
       "      <ul>\n",
       "      <li>formatter: DOUBLE[#,###.00]</li>\n",
       "      </ul>\n",
       "    </li>\n",
       "    <li>Annual_Premium.MEAN\n",
       "      <ul>\n",
       "      <li>formatter: DOUBLE[#,###.00]</li>\n",
       "      </ul>\n",
       "    </li>\n",
       "    <li>Annual_Premium.SUM\n",
       "      <ul>\n",
       "      <li>formatter: DOUBLE[#,###.00]</li>\n",
       "      </ul>\n",
       "    </li>\n",
       "    <li>Vehicle_Age.MEAN\n",
       "      <ul>\n",
       "      <li>formatter: DOUBLE[#,###.00]</li>\n",
       "      </ul>\n",
       "    </li>\n",
       "    <li>Vehicle_Age.SUM\n",
       "      <ul>\n",
       "      <li>formatter: DOUBLE[#,###.00]</li>\n",
       "      </ul>\n",
       "    </li>\n",
       "    <li>Vintage.MEAN\n",
       "      <ul>\n",
       "      <li>formatter: DOUBLE[#,###.00]</li>\n",
       "      </ul>\n",
       "    </li>\n",
       "    <li>Vintage.SUM\n",
       "      <ul>\n",
       "      <li>formatter: DOUBLE[#,###.00]</li>\n",
       "      </ul>\n",
       "    </li>\n",
       "    <li>contributors.COUNT\n",
       "      <ul>\n",
       "      <li>formatter: INT[#,###]</li>\n",
       "      </ul>\n",
       "    </li>\n",
       "    </ul>\n",
       "  </li>\n",
       "  </ul>\n",
       "</li>\n",
       "</ul>\n"
      ],
      "text/plain": [
       "<atoti.cube.Cube at 0x1998f34bc48>"
      ]
     },
     "execution_count": 25,
     "metadata": {
      "application/json": {
       "expanded": false,
       "root": "model_cube"
      }
     },
     "output_type": "execute_result"
    }
   ],
   "source": [
    "customer_hierarchy = [\"id\", \"Response\", \"predicted_response\"]\n",
    "[set_dim(hier_name, \"Customer\") for hier_name in customer_hierarchy]"
   ]
  },
  {
   "cell_type": "code",
   "execution_count": 26,
   "metadata": {},
   "outputs": [],
   "source": [
    "# laoding all the data\n",
    "\n",
    "session.load_all_data()"
   ]
  },
  {
   "cell_type": "markdown",
   "metadata": {},
   "source": [
    "### Defining the various measures in atoti"
   ]
  },
  {
   "cell_type": "code",
   "execution_count": 27,
   "metadata": {},
   "outputs": [],
   "source": [
    "m[\"true positive\"] = tt.agg.sum(\n",
    "    tt.where(((l[\"predicted_response\"] == 1) & (l[\"Response\"] == 1)), 1, 0),\n",
    "    scope=tt.scope.origin(l[\"id\"]),\n",
    ")\n",
    "\n",
    "m[\"true negative\"] = tt.agg.sum(\n",
    "    tt.where(((l[\"predicted_response\"] == 0) & (l[\"Response\"] == 0)), 1, 0),\n",
    "    scope=tt.scope.origin(l[\"id\"]),\n",
    ")\n",
    "\n",
    "m[\"false positive\"] = tt.agg.sum(\n",
    "    tt.where(((l[\"predicted_response\"] == 1) & (l[\"Response\"] == 0)), 1, 0),\n",
    "    scope=tt.scope.origin(l[\"id\"]),\n",
    ")\n",
    "\n",
    "\n",
    "m[\"false negative\"] = tt.agg.sum(\n",
    "    tt.where(((l[\"predicted_response\"] == 0) & (l[\"Response\"] == 1)), 1, 0),\n",
    "    scope=tt.scope.origin(l[\"id\"]),\n",
    ")"
   ]
  },
  {
   "cell_type": "markdown",
   "metadata": {},
   "source": [
    "#### Here we calculate the following metrics\n",
    "\n",
    "Precision: What proportion of positive identifications was actually correct\n",
    "\n",
    "Recall: What proportion of actual positives was identified correctly it is also known as True Positive Rate (TPR).\n",
    "\n",
    "F1 score conveys the balance between the precision and the recall. It is defined as follows:  \n",
    "\n",
    "* __F1 Score = 2*((precision*recall)/(precision+recall))__\n",
    "\n",
    "Specificity: When the actual value is negative, how often is the prediction correct? It is defined by  \n",
    "\n",
    "* __specificity = TN / (TN + FP)__\n",
    "\n",
    "False Positive Rate: When the actual value is negative, how often is the prediction incorrect?  \n",
    "\n",
    "* __false_positive_rate = FP / float(TN + FP)__"
   ]
  },
  {
   "cell_type": "code",
   "execution_count": 28,
   "metadata": {},
   "outputs": [],
   "source": [
    "m[\"recall\"] = m[\"true positive\"] / (m[\"true positive\"] + m[\"false negative\"])\n",
    "\n",
    "m[\"precision\"] = m[\"true positive\"] / (m[\"true positive\"] + m[\"false positive\"])\n",
    "\n",
    "m[\"accuracy score\"] = (m[\"true positive\"] + m[\"true negative\"]) / m[\"contributors.COUNT\"]\n",
    "\n",
    "m[\"f1 score\"] = 2 * ((m[\"recall\"] * m[\"precision\"]) / (m[\"recall\"] + m[\"precision\"]))\n",
    "\n",
    "\n",
    "m[\"false positive rate\"] = m[\"false positive\"] / (\n",
    "    m[\"true negative\"] + m[\"false positive\"]\n",
    ")\n",
    "\n",
    "\n",
    "m[\"AUC\"] = 0.5 - (m[\"false positive rate\"] / 2) + (m[\"recall\"] / 2)"
   ]
  },
  {
   "cell_type": "code",
   "execution_count": 29,
   "metadata": {},
   "outputs": [
    {
     "data": {
      "application/vnd.atoti.query-result.v0+json": {
       "context": {
        "queriesTimeLimit": 30
       },
       "createEquivalentWidgetCode": "session.visualize()",
       "mdx": "SELECT {[Measures].[accuracy score],[Measures].[precision],[Measures].[recall],[Measures].[f1 score],[Measures].[AUC]} ON COLUMNS FROM [model_cube]"
      },
      "text/html": [
       "<div>\n",
       "<style scoped>\n",
       "    .dataframe tbody tr th:only-of-type {\n",
       "        vertical-align: middle;\n",
       "    }\n",
       "\n",
       "    .dataframe tbody tr th {\n",
       "        vertical-align: top;\n",
       "    }\n",
       "\n",
       "    .dataframe thead th {\n",
       "        text-align: right;\n",
       "    }\n",
       "</style>\n",
       "<table border=\"1\" class=\"dataframe\">\n",
       "  <thead>\n",
       "    <tr style=\"text-align: right;\">\n",
       "      <th></th>\n",
       "      <th>accuracy score</th>\n",
       "      <th>precision</th>\n",
       "      <th>recall</th>\n",
       "      <th>f1 score</th>\n",
       "      <th>AUC</th>\n",
       "    </tr>\n",
       "  </thead>\n",
       "  <tbody>\n",
       "    <tr>\n",
       "      <th>0</th>\n",
       "      <td>.69</td>\n",
       "      <td>.27</td>\n",
       "      <td>.85</td>\n",
       "      <td>.41</td>\n",
       "      <td>.76</td>\n",
       "    </tr>\n",
       "  </tbody>\n",
       "</table>\n",
       "</div>"
      ],
      "text/plain": [
       "  accuracy score precision recall f1 score  AUC\n",
       "0            .69       .27    .85      .41  .76"
      ]
     },
     "execution_count": 29,
     "metadata": {},
     "output_type": "execute_result"
    }
   ],
   "source": [
    "cube.query(\n",
    "    m[\"accuracy score\"],\n",
    "    m[\"precision\"],\n",
    "    m[\"recall\"],\n",
    "    m[\"f1 score\"],\n",
    "    m[\"AUC\"]\n",
    ")"
   ]
  },
  {
   "cell_type": "code",
   "execution_count": 30,
   "metadata": {},
   "outputs": [],
   "source": [
    "# annual premium buckets\n",
    "\n",
    "premium_store = session.read_pandas(\n",
    "    pd.DataFrame(\n",
    "        data=[(\"0 - 10030\", i) for i in range(10030)]\n",
    "        + [(\"10030 - 31560\", i) for i in range(2630, 31560)]\n",
    "        + [(\"31560 - 55098\", i) for i in range(31560, 55098)]\n",
    "        + [(\"55098+\", i) for i in range(55098, 448156)],\n",
    "        columns=[\"Annual_Premium group\", \"Annual_Premium\"],\n",
    "    ),\n",
    "    keys=[\"Annual_Premium\"],\n",
    "    store_name=\"Premium Groups\",\n",
    ")\n",
    "\n",
    "customer_store.join(premium_store)"
   ]
  },
  {
   "cell_type": "code",
   "execution_count": 31,
   "metadata": {
    "atoti": {
     "height": 195,
     "widget": {
      "mapping": {
       "columns": [
        "[Premium Groups].[Annual_Premium group].[Annual_Premium group]"
       ],
       "measures": [
        "[Measures].[AUC]",
        "[Measures].[f1 score]"
       ],
       "rows": [
        "ALL_MEASURES"
       ]
      },
      "query": {
       "mdx": "SELECT NON EMPTY {[Measures].[AUC], [Measures].[f1 score]} ON ROWS, NON EMPTY Hierarchize(Descendants({[Premium Groups].[Annual_Premium group].[AllMember]}, 1, SELF_AND_BEFORE)) ON COLUMNS FROM [model_cube]",
       "updateMode": "once"
      },
      "serverKey": "default",
      "widgetKey": "pivot-table"
     }
    }
   },
   "outputs": [
    {
     "data": {
      "application/vnd.atoti.v0+json": {
       "name": "Slicing Data on Premium",
       "session": "Unnamed"
      },
      "text/html": [
       "<img src=\"data:image/svg+xml;charset=utf8,%3C?xml%20version=%221.0%22%20standalone=%22no%22?%3E%3Csvg%20xmlns=%22http://www.w3.org/2000/svg%22%20height=%22183%22%20width=%22904%22%3E%3CforeignObject%20width=%22100%25%22%20height=%22100%25%22%20x=%220%22%20y=%220%22%3E%3Cstyle%20type=%22text/css%22%3E*,%20::before,%20::after%20%7Bbox-sizing:%20unset%7D%0A.ant-root%20%5Bclass%5E=%22ant-%22%5D,%20.ant-root%20%5Bclass*=%22ant-%22%5D,%20.ant-root%20%5Bclass%5E=%22ant-%22%5D%20*,%20.ant-root%20%5Bclass*=%22ant-%22%5D%20*,%20.ant-root%20%5Bclass%5E=%22ant-%22%5D%20::before,%20.ant-root%20%5Bclass*=%22ant-%22%5D%20::before,%20.ant-root%20%5Bclass%5E=%22ant-%22%5D%20::after,%20.ant-root%20%5Bclass*=%22ant-%22%5D%20::after%20%7Bbox-sizing:%20border-box%7D%0A.ant-root%20html,%20.ant-root%20%7Bwidth:%20100%25;%20height:%20100%25%7D%0A.ant-root%20*,%20.ant-root%20::before,%20.ant-root%20::after%20%7Bbox-sizing:%20border-box%7D%0A.ant-root%20%7Bmargin-top:%200px;%20margin-right:%200px;%20margin-bottom:%200px;%20margin-left:%200px;%20color:%20rgb(89,%2089,%2089);%20font-size:%2012px;%20font-family:%20-apple-system,%20BlinkMacSystemFont,%20%22Segoe%20UI%22,%20Roboto,%20%22Helvetica%20Neue%22,%20Arial,%20%22Noto%20Sans%22,%20sans-serif,%20%22Apple%20Color%20Emoji%22,%20%22Segoe%20UI%20Emoji%22,%20%22Segoe%20UI%20Symbol%22,%20%22Noto%20Color%20Emoji%22;%20font-variant-ligatures:%20normal;%20font-variant-numeric:%20tabular-nums;%20font-variant-east-asian:%20normal;%20font-variant-caps:%20normal;%20line-height:%201.66667;%20background-color:%20rgb(255,%20255,%20255);%20--antd-wave-shadow-color:%20undefined;%20--scroll-bar:%20undefined%7D%0A.ant-root%20.ant-spin%20%7Bbox-sizing:%20border-box;%20margin-top:%200px;%20margin-right:%200px;%20margin-bottom:%200px;%20margin-left:%200px;%20padding-top:%200px;%20padding-right:%200px;%20padding-bottom:%200px;%20padding-left:%200px;%20font-size:%2012px;%20font-variant-ligatures:%20normal;%20font-variant-numeric:%20tabular-nums;%20font-variant-east-asian:%20normal;%20font-variant-caps:%20normal;%20line-height:%201.66667;%20list-style-position:%20initial;%20list-style-image:%20initial;%20list-style-type:%20none;%20position:%20absolute;%20display:%20none;%20color:%20rgb(0,%20174,%20239);%20text-align:%20center;%20vertical-align:%20middle;%20opacity:%200;%20transition-duration:%200.3s;%20transition-timing-function:%20cubic-bezier(0.78,%200.14,%200.15,%200.86);%20transition-delay:%200s;%20transition-property:%20transform%7D%0A.ant-root%20.ant-spin-spinning%20%7Bposition:%20static;%20display:%20inline-block;%20opacity:%201%7D%0A.ant-root%20.ant-spin-dot%20%7Bposition:%20relative;%20display:%20inline-block;%20font-size:%2020px;%20width:%201em;%20height:%201em%7D%0A.ant-root%20.ant-spin-dot-item%20%7Bposition:%20absolute;%20display:%20block;%20width:%209px;%20height:%209px;%20background-color:%20rgb(0,%20174,%20239);%20border-top-left-radius:%20100%25;%20border-top-right-radius:%20100%25;%20border-bottom-right-radius:%20100%25;%20border-bottom-left-radius:%20100%25;%20transform:%20scale(0.75);%20transform-origin:%2050%25%2050%25;%20opacity:%200.3;%20animation-duration:%201s;%20animation-timing-function:%20linear;%20animation-delay:%200s;%20animation-iteration-count:%20infinite;%20animation-direction:%20alternate;%20animation-fill-mode:%20none;%20animation-play-state:%20running;%20animation-name:%20antSpinMove%7D%0A.ant-root%20.ant-spin-dot-item:nth-child(1)%20%7Btop:%200px;%20left:%200px%7D%0A.ant-root%20.ant-spin-dot-item:nth-child(2)%20%7Btop:%200px;%20right:%200px;%20animation-delay:%200.4s%7D%0A.ant-root%20.ant-spin-dot-item:nth-child(3)%20%7Bright:%200px;%20bottom:%200px;%20animation-delay:%200.8s%7D%0A.ant-root%20.ant-spin-dot-item:nth-child(4)%20%7Bbottom:%200px;%20left:%200px;%20animation-delay:%201.2s%7D%0A.ant-root%20.ant-spin-dot-spin%20%7Btransform:%20rotate(45deg);%20animation-duration:%201.2s;%20animation-timing-function:%20linear;%20animation-delay:%200s;%20animation-iteration-count:%20infinite;%20animation-direction:%20normal;%20animation-fill-mode:%20none;%20animation-play-state:%20running;%20animation-name:%20antRotate%7D%0A.ant-root%20.ant-spin-lg%20.ant-spin-dot%20%7Bfont-size:%2032px%7D%0A.ant-root%20.ant-spin-lg%20.ant-spin-dot%20i%20%7Bwidth:%2014px;%20height:%2014px%7D%0A.css-12ebr42-AWidget%20%7Bheight:%20100%25%7D%0A.css-1e3kjgr-Spinner%20%7Bheight:%20100%25;%20position:%20relative%7D%0A.css-ck2xzt-Spinner%20%7B-webkit-box-align:%20center;%20align-items:%20center;%20background-image:%20initial;%20background-position-x:%20initial;%20background-position-y:%20initial;%20background-size:%20initial;%20background-repeat-x:%20initial;%20background-repeat-y:%20initial;%20background-attachment:%20initial;%20background-origin:%20initial;%20background-clip:%20initial;%20background-color:%20transparent;%20display:%20flex;%20height:%20100%25;%20-webkit-box-pack:%20center;%20justify-content:%20center;%20position:%20absolute;%20transition-duration:%20300ms;%20transition-timing-function:%20ease;%20transition-delay:%200s;%20transition-property:%20opacity;%20width:%20100%25;%20opacity:%200;%20pointer-events:%20none;%20z-index:%202%7D%0A.css-6s7z8y-Table%20%7Bpadding-bottom:%202px;%20padding-right:%202px;%20height:%20100%25%7D%0A.css-18k6uz5-Table%20%7Bcursor:%20cell;%20height:%20100%25;%20outline-color:%20initial;%20outline-style:%20none;%20outline-width:%20initial%7D%0A.css-3d6elx-Table%20%7Bdisplay:%20flex;%20height:%20181px%7D%0A.css-9wvnih-Table%20%7Bborder-collapse:%20collapse;%20height:%2028px;%20width:%20120px%7D%0A.css-gy6esx%20%7Bheight:%2028px;%20width:%20120px%7D%0A.css-pu2plr%20%7Bheight:%2028px;%20overflow-x:%20hidden;%20overflow-y:%20hidden;%20position:%20relative;%20width:%20120px;%20border-right-width:%202px;%20border-right-style:%20solid;%20border-right-color:%20rgb(233,%20233,%20233)%7D%0A.css-1sevz9t%20%7Bheight:%20153px;%20width:%20120px;%20overflow-x:%20hidden;%20overflow-y:%20auto%7D%0A.css-1nf7yw8%20%7Bheight:%2056px;%20overflow-x:%20hidden;%20overflow-y:%20hidden;%20position:%20relative;%20width:%20120px;%20border-top-width:%202px;%20border-top-style:%20solid;%20border-top-color:%20rgb(233,%20233,%20233);%20border-right-width:%202px;%20border-right-style:%20solid;%20border-right-color:%20rgb(233,%20233,%20233)%7D%0A.css-1ubjbs7-Table%20%7Bwidth:%20782px;%20border-collapse:%20collapse%7D%0A.css-ntiwbf%20%7Bheight:%2028px;%20width:%20764px;%20overflow-x:%20auto;%20overflow-y:%20hidden%7D%0A.css-o2irt9%20%7Bheight:%2028px;%20overflow-x:%20hidden;%20overflow-y:%20hidden;%20position:%20relative;%20width:%20600px%7D%0A.css-1vnte4f%20%7Bheight:%20153px;%20width:%20782px;%20overflow-x:%20auto;%20overflow-y:%20auto%7D%0A.css-q8plh0%20%7Bheight:%2056px;%20overflow-x:%20hidden;%20overflow-y:%20hidden;%20position:%20relative;%20width:%20600px;%20border-top-width:%202px;%20border-top-style:%20solid;%20border-top-color:%20rgb(233,%20233,%20233)%7D%0A*%20%7B-ms-overflow-style:%20none;%20scrollbar-width:%20none%7D%0A*::-webkit-scrollbar%20%7Bdisplay:%20none%7D%3C/style%3E%3Cdiv%20xmlns=%22http://www.w3.org/1999/xhtml%22%20style=%22height:%20183px;%20width:%20904px;%22%3E&lt;div%20xmlns=%22http://www.w3.org/1999/xhtml%22%20class=%22ant-root%20css-0%22&gt;&lt;div%20class=%22ant-dropdown-trigger%20css-12ebr42-AWidget%22&gt;&lt;div%20class=%22css-1e3kjgr-Spinner%22&gt;&lt;div%20class=%22css-ck2xzt-Spinner%22&gt;&lt;div%20class=%22ant-spin%20ant-spin-lg%20ant-spin-spinning%22&gt;&lt;span%20class=%22ant-spin-dot%20ant-spin-dot-spin%22&gt;&lt;i%20class=%22ant-spin-dot-item%22&gt;&lt;/i&gt;&lt;i%20class=%22ant-spin-dot-item%22&gt;&lt;/i&gt;&lt;i%20class=%22ant-spin-dot-item%22&gt;&lt;/i&gt;&lt;i%20class=%22ant-spin-dot-item%22&gt;&lt;/i&gt;&lt;/span&gt;&lt;/div&gt;&lt;/div&gt;&lt;div%20class=%22css-6s7z8y-Table%22&gt;&lt;div%20tabindex=%220%22%20class=%22css-18k6uz5-Table%22&gt;&lt;div%20class=%22css-3d6elx-Table%22&gt;&lt;div%20class=%22css-9wvnih-Table%22&gt;&lt;div%20class=%22css-gy6esx%22&gt;&lt;div%20class=%22css-pu2plr%22&gt;&lt;/div&gt;&lt;/div&gt;&lt;div%20class=%22css-1sevz9t%22&gt;&lt;div%20class=%22css-1nf7yw8%22&gt;&lt;div%20style=%22overflow:%20hidden;%20display:%20flex;%20align-items:%20center;%20font-size:%2012px;%20height:%2028px;%20left:%200px;%20padding:%204px%204px%203px;%20position:%20absolute;%20top:%200px;%20width:%20120px;%20border-right:%202px%20solid%20rgb(233,%20233,%20233);%22&gt;&lt;span%20style=%22text-overflow:%20ellipsis;%20overflow:%20hidden;%20white-space:%20nowrap;%20max-width:%20calc((100%25%20-%200px)%20-%200px);%22&gt;AUC&lt;/span&gt;&lt;div%20style=%22height:%20100%25;%20margin-left:%206px;%22&gt;&lt;/div&gt;&lt;/div&gt;&lt;div%20style=%22overflow:%20hidden;%20display:%20flex;%20align-items:%20center;%20font-size:%2012px;%20height:%2028px;%20left:%200px;%20padding:%204px%204px%203px;%20position:%20absolute;%20top:%2028px;%20width:%20120px;%20background-color:%20rgb(250,%20250,%20250);%20border-right:%202px%20solid%20rgb(233,%20233,%20233);%22&gt;&lt;span%20style=%22text-overflow:%20ellipsis;%20overflow:%20hidden;%20white-space:%20nowrap;%20max-width:%20calc((100%25%20-%200px)%20-%200px);%22&gt;f1%20score&lt;/span&gt;&lt;div%20style=%22height:%20100%25;%20margin-left:%206px;%22&gt;&lt;/div&gt;&lt;/div&gt;&lt;/div&gt;&lt;/div&gt;&lt;/div&gt;&lt;div%20class=%22css-1ubjbs7-Table%22&gt;&lt;div%20class=%22css-ntiwbf%22&gt;&lt;div%20class=%22css-o2irt9%22&gt;&lt;div%20style=%22font-size:%2012px;%20font-weight:%20600;%20padding:%204px%204px%203px;%22&gt;Total&lt;/div&gt;&lt;div%20style=%22overflow:%20hidden;%20display:%20flex;%20align-items:%20center;%20font-size:%2012px;%20height:%2028px;%20left:%20120px;%20padding:%204px%204px%203px;%20position:%20absolute;%20top:%200px;%20width:%20120px;%20font-weight:%20600;%22&gt;&lt;span%20style=%22text-overflow:%20ellipsis;%20overflow:%20hidden;%20white-space:%20nowrap;%20max-width:%20calc((100%25%20-%200px)%20-%200px);%22&gt;10030%20-%2031560&lt;/span&gt;&lt;div%20style=%22height:%20100%25;%20margin-left:%206px;%22&gt;&lt;/div&gt;&lt;/div&gt;&lt;div%20style=%22overflow:%20hidden;%20display:%20flex;%20align-items:%20center;%20font-size:%2012px;%20height:%2028px;%20left:%20240px;%20padding:%204px%204px%203px;%20position:%20absolute;%20top:%200px;%20width:%20120px;%20font-weight:%20600;%22&gt;&lt;span%20style=%22text-overflow:%20ellipsis;%20overflow:%20hidden;%20white-space:%20nowrap;%20max-width:%20calc((100%25%20-%200px)%20-%200px);%22&gt;31560%20-%2055098&lt;/span&gt;&lt;div%20style=%22height:%20100%25;%20margin-left:%206px;%22&gt;&lt;/div&gt;&lt;/div&gt;&lt;div%20style=%22overflow:%20hidden;%20display:%20flex;%20align-items:%20center;%20font-size:%2012px;%20height:%2028px;%20left:%20360px;%20padding:%204px%204px%203px;%20position:%20absolute;%20top:%200px;%20width:%20120px;%20font-weight:%20600;%22&gt;&lt;span%20style=%22text-overflow:%20ellipsis;%20overflow:%20hidden;%20white-space:%20nowrap;%20max-width:%20calc((100%25%20-%200px)%20-%200px);%22&gt;55098+&lt;/span&gt;&lt;div%20style=%22height:%20100%25;%20margin-left:%206px;%22&gt;&lt;/div&gt;&lt;/div&gt;&lt;div%20style=%22overflow:%20hidden;%20display:%20flex;%20align-items:%20center;%20font-size:%2012px;%20height:%2028px;%20left:%20480px;%20padding:%204px%204px%203px;%20position:%20absolute;%20top:%200px;%20width:%20120px;%20font-weight:%20600;%22&gt;&lt;span%20style=%22text-overflow:%20ellipsis;%20overflow:%20hidden;%20white-space:%20nowrap;%20max-width:%20calc((100%25%20-%200px)%20-%200px);%22&gt;N/A&lt;/span&gt;&lt;div%20style=%22height:%20100%25;%20margin-left:%206px;%22&gt;&lt;/div&gt;&lt;/div&gt;&lt;/div&gt;&lt;/div&gt;&lt;div%20class=%22css-1vnte4f%22&gt;&lt;div%20class=%22css-q8plh0%22&gt;&lt;div%20class=%22css-1lzltx4-TableCell%22%20style=%22font-size:%2012px;%20height:%2028px;%20left:%200px;%20padding:%204px%204px%203px;%20position:%20absolute;%20top:%200px;%20width:%20120px;%20text-align:%20right;%20border-right:%201px%20solid%20rgb(233,%20233,%20233);%22&gt;.76&lt;/div&gt;&lt;div%20class=%22css-1lzltx4-TableCell%22%20style=%22font-size:%2012px;%20height:%2028px;%20left:%20120px;%20padding:%204px%204px%203px;%20position:%20absolute;%20top:%200px;%20width:%20120px;%20text-align:%20right;%20border-right:%201px%20solid%20rgb(233,%20233,%20233);%22&gt;.80&lt;/div&gt;&lt;div%20class=%22css-1lzltx4-TableCell%22%20style=%22font-size:%2012px;%20height:%2028px;%20left:%20240px;%20padding:%204px%204px%203px;%20position:%20absolute;%20top:%200px;%20width:%20120px;%20text-align:%20right;%20border-right:%201px%20solid%20rgb(233,%20233,%20233);%22&gt;.79&lt;/div&gt;&lt;div%20class=%22css-1lzltx4-TableCell%22%20style=%22font-size:%2012px;%20height:%2028px;%20left:%20360px;%20padding:%204px%204px%203px;%20position:%20absolute;%20top:%200px;%20width:%20120px;%20text-align:%20right;%20border-right:%201px%20solid%20rgb(233,%20233,%20233);%22&gt;.23&lt;/div&gt;&lt;div%20class=%22css-1lzltx4-TableCell%22%20style=%22font-size:%2012px;%20height:%2028px;%20left:%20480px;%20padding:%204px%204px%203px;%20position:%20absolute;%20top:%200px;%20width:%20120px;%20text-align:%20right;%20border-right:%201px%20solid%20rgb(233,%20233,%20233);%22&gt;NaN&lt;/div&gt;&lt;div%20class=%22css-1lzltx4-TableCell%22%20style=%22font-size:%2012px;%20height:%2028px;%20left:%200px;%20padding:%204px%204px%203px;%20position:%20absolute;%20top:%2028px;%20width:%20120px;%20text-align:%20right;%20background-color:%20rgb(250,%20250,%20250);%20border-right:%201px%20solid%20rgb(233,%20233,%20233);%22&gt;.41&lt;/div&gt;&lt;div%20class=%22css-1lzltx4-TableCell%22%20style=%22font-size:%2012px;%20height:%2028px;%20left:%20120px;%20padding:%204px%204px%203px;%20position:%20absolute;%20top:%2028px;%20width:%20120px;%20text-align:%20right;%20background-color:%20rgb(250,%20250,%20250);%20border-right:%201px%20solid%20rgb(233,%20233,%20233);%22&gt;.43&lt;/div&gt;&lt;div%20class=%22css-1lzltx4-TableCell%22%20style=%22font-size:%2012px;%20height:%2028px;%20left:%20240px;%20padding:%204px%204px%203px;%20position:%20absolute;%20top:%2028px;%20width:%20120px;%20text-align:%20right;%20background-color:%20rgb(250,%20250,%20250);%20border-right:%201px%20solid%20rgb(233,%20233,%20233);%22&gt;.44&lt;/div&gt;&lt;div%20class=%22css-1lzltx4-TableCell%22%20style=%22font-size:%2012px;%20height:%2028px;%20left:%20360px;%20padding:%204px%204px%203px;%20position:%20absolute;%20top:%2028px;%20width:%20120px;%20text-align:%20right;%20background-color:%20rgb(250,%20250,%20250);%20border-right:%201px%20solid%20rgb(233,%20233,%20233);%22&gt;.03&lt;/div&gt;&lt;div%20class=%22css-1lzltx4-TableCell%22%20style=%22font-size:%2012px;%20height:%2028px;%20left:%20480px;%20padding:%204px%204px%203px;%20position:%20absolute;%20top:%2028px;%20width:%20120px;%20text-align:%20right;%20background-color:%20rgb(250,%20250,%20250);%20border-right:%201px%20solid%20rgb(233,%20233,%20233);%22&gt;NaN&lt;/div&gt;&lt;/div&gt;&lt;/div&gt;&lt;/div&gt;&lt;/div&gt;&lt;/div&gt;&lt;/div&gt;&lt;/div&gt;&lt;/div&gt;&lt;/div&gt;%3C/div%3E%3C/foreignObject%3E%3C/svg%3E\">"
      ],
      "text/plain": [
       "Open the notebook in JupyterLab with the atoti extension installed and enabled to start editing this widget."
      ]
     },
     "metadata": {},
     "output_type": "display_data"
    }
   ],
   "source": [
    "session.visualize(\"Slicing Data on Premium\")"
   ]
  },
  {
   "cell_type": "markdown",
   "metadata": {},
   "source": [
    "So here is the difference in the model performance:\n",
    "    \n",
    "\n",
    "| Metric        | Before           | After manipulation |\n",
    "| ------------- |:-------------:| -----:|\n",
    "| AUC  overall    | 0.79 | 0.76|\n",
    "| AUC  critical subpopulation    | 0.79 | **0.23**|\n",
    "| F1 overall  | 0.43      |   0.41 |\n",
    "| F1  critical subpopulation    | 0.43 | **0.03**|\n",
    "\n",
    "From the pivot table above we can clearly see a drop in the F1 and AUC scores of the customers paying an annual premium of more than 55098.  \n",
    "Hence we were able to figure out a drastic drop in model performance in one of the critical customer section, thanks to subpopulation analysis.  \n",
    "\n",
    "**To mitigate this, we need to retrain the model to accomodate these 'high-value' customers.**\n"
   ]
  },
  {
   "cell_type": "markdown",
   "metadata": {},
   "source": [
    "# Step 5: Further Analysis\n",
    "\n",
    "#### To see the model performance on other features\n",
    "\n",
    "For the **categorical features**, we can simply see the model performance in each of the categories\n",
    "For the other **numerical features**, we can make the categories and see the breakup of the model performance"
   ]
  },
  {
   "cell_type": "code",
   "execution_count": 32,
   "metadata": {},
   "outputs": [],
   "source": [
    "# age group buckets\n",
    "age_groups_store = session.read_pandas(\n",
    "    pd.DataFrame(\n",
    "        data=[(\"0-30Y\", i) for i in range(30)]\n",
    "        + [(\"30Y - 40Y\", i) for i in range(30, 40)]\n",
    "        + [(\"40Y - 50Y\", i) for i in range(40, 50)]\n",
    "        + [(\"50Y+\", i) for i in range(50, 200)],\n",
    "        columns=[\"age group\", \"age\"],\n",
    "    ),\n",
    "    keys=[\"age\"],\n",
    "    store_name=\"Age Groups\",\n",
    ")\n",
    "\n",
    "customer_store.join(age_groups_store)"
   ]
  },
  {
   "cell_type": "code",
   "execution_count": 33,
   "metadata": {
    "atoti": {
     "height": 194,
     "widget": {
      "mapping": {
       "columns": [
        "[Age Groups].[age group].[age group]"
       ],
       "measures": [
        "[Measures].[AUC]",
        "[Measures].[f1 score]"
       ],
       "rows": [
        "ALL_MEASURES"
       ]
      },
      "query": {
       "mdx": "SELECT NON EMPTY {[Measures].[AUC], [Measures].[f1 score]} ON ROWS, NON EMPTY Hierarchize(Descendants({[Age Groups].[age group].[AllMember]}, 1, SELF_AND_BEFORE)) ON COLUMNS FROM [model_cube]",
       "updateMode": "once"
      },
      "serverKey": "default",
      "widgetKey": "pivot-table"
     }
    }
   },
   "outputs": [
    {
     "data": {
      "application/vnd.atoti.v0+json": {
       "name": "Slicing Data on Age",
       "session": "Unnamed"
      },
      "text/html": [
       "<img src=\"data:image/svg+xml;charset=utf8,%3C?xml%20version=%221.0%22%20standalone=%22no%22?%3E%3Csvg%20xmlns=%22http://www.w3.org/2000/svg%22%20height=%22182%22%20width=%22904%22%3E%3CforeignObject%20width=%22100%25%22%20height=%22100%25%22%20x=%220%22%20y=%220%22%3E%3Cstyle%20type=%22text/css%22%3E*,%20::before,%20::after%20%7Bbox-sizing:%20unset%7D%0A.ant-root%20%5Bclass%5E=%22ant-%22%5D,%20.ant-root%20%5Bclass*=%22ant-%22%5D,%20.ant-root%20%5Bclass%5E=%22ant-%22%5D%20*,%20.ant-root%20%5Bclass*=%22ant-%22%5D%20*,%20.ant-root%20%5Bclass%5E=%22ant-%22%5D%20::before,%20.ant-root%20%5Bclass*=%22ant-%22%5D%20::before,%20.ant-root%20%5Bclass%5E=%22ant-%22%5D%20::after,%20.ant-root%20%5Bclass*=%22ant-%22%5D%20::after%20%7Bbox-sizing:%20border-box%7D%0A.ant-root%20html,%20.ant-root%20%7Bwidth:%20100%25;%20height:%20100%25%7D%0A.ant-root%20*,%20.ant-root%20::before,%20.ant-root%20::after%20%7Bbox-sizing:%20border-box%7D%0A.ant-root%20%7Bmargin-top:%200px;%20margin-right:%200px;%20margin-bottom:%200px;%20margin-left:%200px;%20color:%20rgb(89,%2089,%2089);%20font-size:%2012px;%20font-family:%20-apple-system,%20BlinkMacSystemFont,%20%22Segoe%20UI%22,%20Roboto,%20%22Helvetica%20Neue%22,%20Arial,%20%22Noto%20Sans%22,%20sans-serif,%20%22Apple%20Color%20Emoji%22,%20%22Segoe%20UI%20Emoji%22,%20%22Segoe%20UI%20Symbol%22,%20%22Noto%20Color%20Emoji%22;%20font-variant-ligatures:%20normal;%20font-variant-numeric:%20tabular-nums;%20font-variant-east-asian:%20normal;%20font-variant-caps:%20normal;%20line-height:%201.66667;%20background-color:%20rgb(255,%20255,%20255);%20--antd-wave-shadow-color:%20undefined;%20--scroll-bar:%20undefined%7D%0A.ant-root%20.ant-spin%20%7Bbox-sizing:%20border-box;%20margin-top:%200px;%20margin-right:%200px;%20margin-bottom:%200px;%20margin-left:%200px;%20padding-top:%200px;%20padding-right:%200px;%20padding-bottom:%200px;%20padding-left:%200px;%20font-size:%2012px;%20font-variant-ligatures:%20normal;%20font-variant-numeric:%20tabular-nums;%20font-variant-east-asian:%20normal;%20font-variant-caps:%20normal;%20line-height:%201.66667;%20list-style-position:%20initial;%20list-style-image:%20initial;%20list-style-type:%20none;%20position:%20absolute;%20display:%20none;%20color:%20rgb(0,%20174,%20239);%20text-align:%20center;%20vertical-align:%20middle;%20opacity:%200;%20transition-duration:%200.3s;%20transition-timing-function:%20cubic-bezier(0.78,%200.14,%200.15,%200.86);%20transition-delay:%200s;%20transition-property:%20transform%7D%0A.ant-root%20.ant-spin-spinning%20%7Bposition:%20static;%20display:%20inline-block;%20opacity:%201%7D%0A.ant-root%20.ant-spin-dot%20%7Bposition:%20relative;%20display:%20inline-block;%20font-size:%2020px;%20width:%201em;%20height:%201em%7D%0A.ant-root%20.ant-spin-dot-item%20%7Bposition:%20absolute;%20display:%20block;%20width:%209px;%20height:%209px;%20background-color:%20rgb(0,%20174,%20239);%20border-top-left-radius:%20100%25;%20border-top-right-radius:%20100%25;%20border-bottom-right-radius:%20100%25;%20border-bottom-left-radius:%20100%25;%20transform:%20scale(0.75);%20transform-origin:%2050%25%2050%25;%20opacity:%200.3;%20animation-duration:%201s;%20animation-timing-function:%20linear;%20animation-delay:%200s;%20animation-iteration-count:%20infinite;%20animation-direction:%20alternate;%20animation-fill-mode:%20none;%20animation-play-state:%20running;%20animation-name:%20antSpinMove%7D%0A.ant-root%20.ant-spin-dot-item:nth-child(1)%20%7Btop:%200px;%20left:%200px%7D%0A.ant-root%20.ant-spin-dot-item:nth-child(2)%20%7Btop:%200px;%20right:%200px;%20animation-delay:%200.4s%7D%0A.ant-root%20.ant-spin-dot-item:nth-child(3)%20%7Bright:%200px;%20bottom:%200px;%20animation-delay:%200.8s%7D%0A.ant-root%20.ant-spin-dot-item:nth-child(4)%20%7Bbottom:%200px;%20left:%200px;%20animation-delay:%201.2s%7D%0A.ant-root%20.ant-spin-dot-spin%20%7Btransform:%20rotate(45deg);%20animation-duration:%201.2s;%20animation-timing-function:%20linear;%20animation-delay:%200s;%20animation-iteration-count:%20infinite;%20animation-direction:%20normal;%20animation-fill-mode:%20none;%20animation-play-state:%20running;%20animation-name:%20antRotate%7D%0A.ant-root%20.ant-spin-lg%20.ant-spin-dot%20%7Bfont-size:%2032px%7D%0A.ant-root%20.ant-spin-lg%20.ant-spin-dot%20i%20%7Bwidth:%2014px;%20height:%2014px%7D%0A.css-12ebr42-AWidget%20%7Bheight:%20100%25%7D%0A.css-1e3kjgr-Spinner%20%7Bheight:%20100%25;%20position:%20relative%7D%0A.css-ck2xzt-Spinner%20%7B-webkit-box-align:%20center;%20align-items:%20center;%20background-image:%20initial;%20background-position-x:%20initial;%20background-position-y:%20initial;%20background-size:%20initial;%20background-repeat-x:%20initial;%20background-repeat-y:%20initial;%20background-attachment:%20initial;%20background-origin:%20initial;%20background-clip:%20initial;%20background-color:%20transparent;%20display:%20flex;%20height:%20100%25;%20-webkit-box-pack:%20center;%20justify-content:%20center;%20position:%20absolute;%20transition-duration:%20300ms;%20transition-timing-function:%20ease;%20transition-delay:%200s;%20transition-property:%20opacity;%20width:%20100%25;%20opacity:%200;%20pointer-events:%20none;%20z-index:%202%7D%0A.css-6s7z8y-Table%20%7Bpadding-bottom:%202px;%20padding-right:%202px;%20height:%20100%25%7D%0A.css-18k6uz5-Table%20%7Bcursor:%20cell;%20height:%20100%25;%20outline-color:%20initial;%20outline-style:%20none;%20outline-width:%20initial%7D%0A.css-9wvnih-Table%20%7Bborder-collapse:%20collapse;%20height:%2028px;%20width:%20120px%7D%0A.css-gy6esx%20%7Bheight:%2028px;%20width:%20120px%7D%0A.css-pu2plr%20%7Bheight:%2028px;%20overflow-x:%20hidden;%20overflow-y:%20hidden;%20position:%20relative;%20width:%20120px;%20border-right-width:%202px;%20border-right-style:%20solid;%20border-right-color:%20rgb(233,%20233,%20233)%7D%0A.css-1nf7yw8%20%7Bheight:%2056px;%20overflow-x:%20hidden;%20overflow-y:%20hidden;%20position:%20relative;%20width:%20120px;%20border-top-width:%202px;%20border-top-style:%20solid;%20border-top-color:%20rgb(233,%20233,%20233);%20border-right-width:%202px;%20border-right-style:%20solid;%20border-right-color:%20rgb(233,%20233,%20233)%7D%0A.css-1ubjbs7-Table%20%7Bwidth:%20782px;%20border-collapse:%20collapse%7D%0A.css-ntiwbf%20%7Bheight:%2028px;%20width:%20764px;%20overflow-x:%20auto;%20overflow-y:%20hidden%7D%0A.css-o2irt9%20%7Bheight:%2028px;%20overflow-x:%20hidden;%20overflow-y:%20hidden;%20position:%20relative;%20width:%20600px%7D%0A.css-q8plh0%20%7Bheight:%2056px;%20overflow-x:%20hidden;%20overflow-y:%20hidden;%20position:%20relative;%20width:%20600px;%20border-top-width:%202px;%20border-top-style:%20solid;%20border-top-color:%20rgb(233,%20233,%20233)%7D%0A.css-1l7tg6i-Table%20%7Bdisplay:%20flex;%20height:%20180px%7D%0A.css-yt350n%20%7Bheight:%20152px;%20width:%20120px;%20overflow-x:%20hidden;%20overflow-y:%20auto%7D%0A.css-1pll7v5%20%7Bheight:%20152px;%20width:%20782px;%20overflow-x:%20auto;%20overflow-y:%20auto%7D%0A*%20%7B-ms-overflow-style:%20none;%20scrollbar-width:%20none%7D%0A*::-webkit-scrollbar%20%7Bdisplay:%20none%7D%3C/style%3E%3Cdiv%20xmlns=%22http://www.w3.org/1999/xhtml%22%20style=%22height:%20182px;%20width:%20904px;%22%3E&lt;div%20xmlns=%22http://www.w3.org/1999/xhtml%22%20class=%22ant-root%20css-0%22&gt;&lt;div%20class=%22ant-dropdown-trigger%20css-12ebr42-AWidget%22&gt;&lt;div%20class=%22css-1e3kjgr-Spinner%22&gt;&lt;div%20class=%22css-ck2xzt-Spinner%22&gt;&lt;div%20class=%22ant-spin%20ant-spin-lg%20ant-spin-spinning%22&gt;&lt;span%20class=%22ant-spin-dot%20ant-spin-dot-spin%22&gt;&lt;i%20class=%22ant-spin-dot-item%22&gt;&lt;/i&gt;&lt;i%20class=%22ant-spin-dot-item%22&gt;&lt;/i&gt;&lt;i%20class=%22ant-spin-dot-item%22&gt;&lt;/i&gt;&lt;i%20class=%22ant-spin-dot-item%22&gt;&lt;/i&gt;&lt;/span&gt;&lt;/div&gt;&lt;/div&gt;&lt;div%20class=%22css-6s7z8y-Table%22&gt;&lt;div%20tabindex=%220%22%20class=%22css-18k6uz5-Table%22&gt;&lt;div%20class=%22css-1l7tg6i-Table%22&gt;&lt;div%20class=%22css-9wvnih-Table%22&gt;&lt;div%20class=%22css-gy6esx%22&gt;&lt;div%20class=%22css-pu2plr%22&gt;&lt;/div&gt;&lt;/div&gt;&lt;div%20class=%22css-yt350n%22&gt;&lt;div%20class=%22css-1nf7yw8%22&gt;&lt;div%20style=%22overflow:%20hidden;%20display:%20flex;%20align-items:%20center;%20font-size:%2012px;%20height:%2028px;%20left:%200px;%20padding:%204px%204px%203px;%20position:%20absolute;%20top:%200px;%20width:%20120px;%20border-right:%202px%20solid%20rgb(233,%20233,%20233);%22&gt;&lt;span%20style=%22text-overflow:%20ellipsis;%20overflow:%20hidden;%20white-space:%20nowrap;%20max-width:%20calc((100%25%20-%200px)%20-%200px);%22&gt;AUC&lt;/span&gt;&lt;div%20style=%22height:%20100%25;%20margin-left:%206px;%22&gt;&lt;/div&gt;&lt;/div&gt;&lt;div%20style=%22overflow:%20hidden;%20display:%20flex;%20align-items:%20center;%20font-size:%2012px;%20height:%2028px;%20left:%200px;%20padding:%204px%204px%203px;%20position:%20absolute;%20top:%2028px;%20width:%20120px;%20background-color:%20rgb(250,%20250,%20250);%20border-right:%202px%20solid%20rgb(233,%20233,%20233);%22&gt;&lt;span%20style=%22text-overflow:%20ellipsis;%20overflow:%20hidden;%20white-space:%20nowrap;%20max-width:%20calc((100%25%20-%200px)%20-%200px);%22&gt;f1%20score&lt;/span&gt;&lt;div%20style=%22height:%20100%25;%20margin-left:%206px;%22&gt;&lt;/div&gt;&lt;/div&gt;&lt;/div&gt;&lt;/div&gt;&lt;/div&gt;&lt;div%20class=%22css-1ubjbs7-Table%22&gt;&lt;div%20class=%22css-ntiwbf%22&gt;&lt;div%20class=%22css-o2irt9%22&gt;&lt;div%20style=%22font-size:%2012px;%20font-weight:%20600;%20padding:%204px%204px%203px;%22&gt;Total&lt;/div&gt;&lt;div%20style=%22overflow:%20hidden;%20display:%20flex;%20align-items:%20center;%20font-size:%2012px;%20height:%2028px;%20left:%20120px;%20padding:%204px%204px%203px;%20position:%20absolute;%20top:%200px;%20width:%20120px;%20font-weight:%20600;%22&gt;&lt;span%20style=%22text-overflow:%20ellipsis;%20overflow:%20hidden;%20white-space:%20nowrap;%20max-width:%20calc((100%25%20-%200px)%20-%200px);%22&gt;0-30Y&lt;/span&gt;&lt;div%20style=%22height:%20100%25;%20margin-left:%206px;%22&gt;&lt;/div&gt;&lt;/div&gt;&lt;div%20style=%22overflow:%20hidden;%20display:%20flex;%20align-items:%20center;%20font-size:%2012px;%20height:%2028px;%20left:%20240px;%20padding:%204px%204px%203px;%20position:%20absolute;%20top:%200px;%20width:%20120px;%20font-weight:%20600;%22&gt;&lt;span%20style=%22text-overflow:%20ellipsis;%20overflow:%20hidden;%20white-space:%20nowrap;%20max-width:%20calc((100%25%20-%200px)%20-%200px);%22&gt;30Y%20-%2040Y&lt;/span&gt;&lt;div%20style=%22height:%20100%25;%20margin-left:%206px;%22&gt;&lt;/div&gt;&lt;/div&gt;&lt;div%20style=%22overflow:%20hidden;%20display:%20flex;%20align-items:%20center;%20font-size:%2012px;%20height:%2028px;%20left:%20360px;%20padding:%204px%204px%203px;%20position:%20absolute;%20top:%200px;%20width:%20120px;%20font-weight:%20600;%22&gt;&lt;span%20style=%22text-overflow:%20ellipsis;%20overflow:%20hidden;%20white-space:%20nowrap;%20max-width:%20calc((100%25%20-%200px)%20-%200px);%22&gt;40Y%20-%2050Y&lt;/span&gt;&lt;div%20style=%22height:%20100%25;%20margin-left:%206px;%22&gt;&lt;/div&gt;&lt;/div&gt;&lt;div%20style=%22overflow:%20hidden;%20display:%20flex;%20align-items:%20center;%20font-size:%2012px;%20height:%2028px;%20left:%20480px;%20padding:%204px%204px%203px;%20position:%20absolute;%20top:%200px;%20width:%20120px;%20font-weight:%20600;%22&gt;&lt;span%20style=%22text-overflow:%20ellipsis;%20overflow:%20hidden;%20white-space:%20nowrap;%20max-width:%20calc((100%25%20-%200px)%20-%200px);%22&gt;50Y+&lt;/span&gt;&lt;div%20style=%22height:%20100%25;%20margin-left:%206px;%22&gt;&lt;/div&gt;&lt;/div&gt;&lt;/div&gt;&lt;/div&gt;&lt;div%20class=%22css-1pll7v5%22&gt;&lt;div%20class=%22css-q8plh0%22&gt;&lt;div%20class=%22css-1lzltx4-TableCell%22%20style=%22font-size:%2012px;%20height:%2028px;%20left:%200px;%20padding:%204px%204px%203px;%20position:%20absolute;%20top:%200px;%20width:%20120px;%20text-align:%20right;%20border-right:%201px%20solid%20rgb(233,%20233,%20233);%22&gt;.76&lt;/div&gt;&lt;div%20class=%22css-1lzltx4-TableCell%22%20style=%22font-size:%2012px;%20height:%2028px;%20left:%20120px;%20padding:%204px%204px%203px;%20position:%20absolute;%20top:%200px;%20width:%20120px;%20text-align:%20right;%20border-right:%201px%20solid%20rgb(233,%20233,%20233);%22&gt;.76&lt;/div&gt;&lt;div%20class=%22css-1lzltx4-TableCell%22%20style=%22font-size:%2012px;%20height:%2028px;%20left:%20240px;%20padding:%204px%204px%203px;%20position:%20absolute;%20top:%200px;%20width:%20120px;%20text-align:%20right;%20border-right:%201px%20solid%20rgb(233,%20233,%20233);%22&gt;.76&lt;/div&gt;&lt;div%20class=%22css-1lzltx4-TableCell%22%20style=%22font-size:%2012px;%20height:%2028px;%20left:%20360px;%20padding:%204px%204px%203px;%20position:%20absolute;%20top:%200px;%20width:%20120px;%20text-align:%20right;%20border-right:%201px%20solid%20rgb(233,%20233,%20233);%22&gt;.76&lt;/div&gt;&lt;div%20class=%22css-1lzltx4-TableCell%22%20style=%22font-size:%2012px;%20height:%2028px;%20left:%20480px;%20padding:%204px%204px%203px;%20position:%20absolute;%20top:%200px;%20width:%20120px;%20text-align:%20right;%20border-right:%201px%20solid%20rgb(233,%20233,%20233);%22&gt;.76&lt;/div&gt;&lt;div%20class=%22css-1lzltx4-TableCell%22%20style=%22font-size:%2012px;%20height:%2028px;%20left:%200px;%20padding:%204px%204px%203px;%20position:%20absolute;%20top:%2028px;%20width:%20120px;%20text-align:%20right;%20background-color:%20rgb(250,%20250,%20250);%20border-right:%201px%20solid%20rgb(233,%20233,%20233);%22&gt;.41&lt;/div&gt;&lt;div%20class=%22css-1lzltx4-TableCell%22%20style=%22font-size:%2012px;%20height:%2028px;%20left:%20120px;%20padding:%204px%204px%203px;%20position:%20absolute;%20top:%2028px;%20width:%20120px;%20text-align:%20right;%20background-color:%20rgb(250,%20250,%20250);%20border-right:%201px%20solid%20rgb(233,%20233,%20233);%22&gt;.41&lt;/div&gt;&lt;div%20class=%22css-1lzltx4-TableCell%22%20style=%22font-size:%2012px;%20height:%2028px;%20left:%20240px;%20padding:%204px%204px%203px;%20position:%20absolute;%20top:%2028px;%20width:%20120px;%20text-align:%20right;%20background-color:%20rgb(250,%20250,%20250);%20border-right:%201px%20solid%20rgb(233,%20233,%20233);%22&gt;.41&lt;/div&gt;&lt;div%20class=%22css-1lzltx4-TableCell%22%20style=%22font-size:%2012px;%20height:%2028px;%20left:%20360px;%20padding:%204px%204px%203px;%20position:%20absolute;%20top:%2028px;%20width:%20120px;%20text-align:%20right;%20background-color:%20rgb(250,%20250,%20250);%20border-right:%201px%20solid%20rgb(233,%20233,%20233);%22&gt;.41&lt;/div&gt;&lt;div%20class=%22css-1lzltx4-TableCell%22%20style=%22font-size:%2012px;%20height:%2028px;%20left:%20480px;%20padding:%204px%204px%203px;%20position:%20absolute;%20top:%2028px;%20width:%20120px;%20text-align:%20right;%20background-color:%20rgb(250,%20250,%20250);%20border-right:%201px%20solid%20rgb(233,%20233,%20233);%22&gt;.41&lt;/div&gt;&lt;/div&gt;&lt;/div&gt;&lt;/div&gt;&lt;/div&gt;&lt;/div&gt;&lt;/div&gt;&lt;/div&gt;&lt;/div&gt;&lt;/div&gt;%3C/div%3E%3C/foreignObject%3E%3C/svg%3E\">"
      ],
      "text/plain": [
       "Open the notebook in JupyterLab with the atoti extension installed and enabled to start editing this widget."
      ]
     },
     "metadata": {},
     "output_type": "display_data"
    }
   ],
   "source": [
    "session.visualize(\"Slicing Data on Age\")\n",
    "\n",
    "# this slicing in particular, does not seem to make a difference."
   ]
  },
  {
   "cell_type": "markdown",
   "metadata": {},
   "source": [
    "### Categorical features"
   ]
  },
  {
   "cell_type": "code",
   "execution_count": 34,
   "metadata": {
    "atoti": {
     "height": 130,
     "widget": {
      "mapping": {
       "columns": [
        "[customer_store].[Gender].[Gender]"
       ],
       "measures": [
        "[Measures].[f1 score]",
        "[Measures].[AUC]"
       ],
       "rows": [
        "ALL_MEASURES"
       ]
      },
      "query": {
       "mdx": "SELECT NON EMPTY Hierarchize(Descendants({[customer_store].[Gender].[AllMember]}, 1, SELF_AND_BEFORE)) ON COLUMNS, NON EMPTY {[Measures].[f1 score], [Measures].[AUC]} ON ROWS FROM [model_cube]",
       "updateMode": "once"
      },
      "serverKey": "default",
      "widgetKey": "pivot-table"
     }
    }
   },
   "outputs": [
    {
     "data": {
      "application/vnd.atoti.v0+json": {
       "name": "Slicing Data on Gender",
       "session": "Unnamed"
      },
      "text/html": [
       "<img src=\"data:image/svg+xml;charset=utf8,%3C?xml%20version=%221.0%22%20standalone=%22no%22?%3E%3Csvg%20xmlns=%22http://www.w3.org/2000/svg%22%20height=%22118%22%20width=%22904%22%3E%3CforeignObject%20width=%22100%25%22%20height=%22100%25%22%20x=%220%22%20y=%220%22%3E%3Cstyle%20type=%22text/css%22%3E*,%20::before,%20::after%20%7Bbox-sizing:%20unset%7D%0A.ant-root%20%5Bclass%5E=%22ant-%22%5D,%20.ant-root%20%5Bclass*=%22ant-%22%5D,%20.ant-root%20%5Bclass%5E=%22ant-%22%5D%20*,%20.ant-root%20%5Bclass*=%22ant-%22%5D%20*,%20.ant-root%20%5Bclass%5E=%22ant-%22%5D%20::before,%20.ant-root%20%5Bclass*=%22ant-%22%5D%20::before,%20.ant-root%20%5Bclass%5E=%22ant-%22%5D%20::after,%20.ant-root%20%5Bclass*=%22ant-%22%5D%20::after%20%7Bbox-sizing:%20border-box%7D%0A.ant-root%20html,%20.ant-root%20%7Bwidth:%20100%25;%20height:%20100%25%7D%0A.ant-root%20*,%20.ant-root%20::before,%20.ant-root%20::after%20%7Bbox-sizing:%20border-box%7D%0A.ant-root%20%7Bmargin-top:%200px;%20margin-right:%200px;%20margin-bottom:%200px;%20margin-left:%200px;%20color:%20rgb(89,%2089,%2089);%20font-size:%2012px;%20font-family:%20-apple-system,%20BlinkMacSystemFont,%20%22Segoe%20UI%22,%20Roboto,%20%22Helvetica%20Neue%22,%20Arial,%20%22Noto%20Sans%22,%20sans-serif,%20%22Apple%20Color%20Emoji%22,%20%22Segoe%20UI%20Emoji%22,%20%22Segoe%20UI%20Symbol%22,%20%22Noto%20Color%20Emoji%22;%20font-variant-ligatures:%20normal;%20font-variant-numeric:%20tabular-nums;%20font-variant-east-asian:%20normal;%20font-variant-caps:%20normal;%20line-height:%201.66667;%20background-color:%20rgb(255,%20255,%20255);%20--antd-wave-shadow-color:%20undefined;%20--scroll-bar:%20undefined%7D%0A.ant-root%20.ant-spin%20%7Bbox-sizing:%20border-box;%20margin-top:%200px;%20margin-right:%200px;%20margin-bottom:%200px;%20margin-left:%200px;%20padding-top:%200px;%20padding-right:%200px;%20padding-bottom:%200px;%20padding-left:%200px;%20font-size:%2012px;%20font-variant-ligatures:%20normal;%20font-variant-numeric:%20tabular-nums;%20font-variant-east-asian:%20normal;%20font-variant-caps:%20normal;%20line-height:%201.66667;%20list-style-position:%20initial;%20list-style-image:%20initial;%20list-style-type:%20none;%20position:%20absolute;%20display:%20none;%20color:%20rgb(0,%20174,%20239);%20text-align:%20center;%20vertical-align:%20middle;%20opacity:%200;%20transition-duration:%200.3s;%20transition-timing-function:%20cubic-bezier(0.78,%200.14,%200.15,%200.86);%20transition-delay:%200s;%20transition-property:%20transform%7D%0A.ant-root%20.ant-spin-spinning%20%7Bposition:%20static;%20display:%20inline-block;%20opacity:%201%7D%0A.ant-root%20.ant-spin-dot%20%7Bposition:%20relative;%20display:%20inline-block;%20font-size:%2020px;%20width:%201em;%20height:%201em%7D%0A.ant-root%20.ant-spin-dot-item%20%7Bposition:%20absolute;%20display:%20block;%20width:%209px;%20height:%209px;%20background-color:%20rgb(0,%20174,%20239);%20border-top-left-radius:%20100%25;%20border-top-right-radius:%20100%25;%20border-bottom-right-radius:%20100%25;%20border-bottom-left-radius:%20100%25;%20transform:%20scale(0.75);%20transform-origin:%2050%25%2050%25;%20opacity:%200.3;%20animation-duration:%201s;%20animation-timing-function:%20linear;%20animation-delay:%200s;%20animation-iteration-count:%20infinite;%20animation-direction:%20alternate;%20animation-fill-mode:%20none;%20animation-play-state:%20running;%20animation-name:%20antSpinMove%7D%0A.ant-root%20.ant-spin-dot-item:nth-child(1)%20%7Btop:%200px;%20left:%200px%7D%0A.ant-root%20.ant-spin-dot-item:nth-child(2)%20%7Btop:%200px;%20right:%200px;%20animation-delay:%200.4s%7D%0A.ant-root%20.ant-spin-dot-item:nth-child(3)%20%7Bright:%200px;%20bottom:%200px;%20animation-delay:%200.8s%7D%0A.ant-root%20.ant-spin-dot-item:nth-child(4)%20%7Bbottom:%200px;%20left:%200px;%20animation-delay:%201.2s%7D%0A.ant-root%20.ant-spin-dot-spin%20%7Btransform:%20rotate(45deg);%20animation-duration:%201.2s;%20animation-timing-function:%20linear;%20animation-delay:%200s;%20animation-iteration-count:%20infinite;%20animation-direction:%20normal;%20animation-fill-mode:%20none;%20animation-play-state:%20running;%20animation-name:%20antRotate%7D%0A.ant-root%20.ant-spin-lg%20.ant-spin-dot%20%7Bfont-size:%2032px%7D%0A.ant-root%20.ant-spin-lg%20.ant-spin-dot%20i%20%7Bwidth:%2014px;%20height:%2014px%7D%0A.css-12ebr42-AWidget%20%7Bheight:%20100%25%7D%0A.css-1e3kjgr-Spinner%20%7Bheight:%20100%25;%20position:%20relative%7D%0A.css-ck2xzt-Spinner%20%7B-webkit-box-align:%20center;%20align-items:%20center;%20background-image:%20initial;%20background-position-x:%20initial;%20background-position-y:%20initial;%20background-size:%20initial;%20background-repeat-x:%20initial;%20background-repeat-y:%20initial;%20background-attachment:%20initial;%20background-origin:%20initial;%20background-clip:%20initial;%20background-color:%20transparent;%20display:%20flex;%20height:%20100%25;%20-webkit-box-pack:%20center;%20justify-content:%20center;%20position:%20absolute;%20transition-duration:%20300ms;%20transition-timing-function:%20ease;%20transition-delay:%200s;%20transition-property:%20opacity;%20width:%20100%25;%20opacity:%200;%20pointer-events:%20none;%20z-index:%202%7D%0A.css-6s7z8y-Table%20%7Bpadding-bottom:%202px;%20padding-right:%202px;%20height:%20100%25%7D%0A.css-18k6uz5-Table%20%7Bcursor:%20cell;%20height:%20100%25;%20outline-color:%20initial;%20outline-style:%20none;%20outline-width:%20initial%7D%0A.css-9wvnih-Table%20%7Bborder-collapse:%20collapse;%20height:%2028px;%20width:%20120px%7D%0A.css-gy6esx%20%7Bheight:%2028px;%20width:%20120px%7D%0A.css-pu2plr%20%7Bheight:%2028px;%20overflow-x:%20hidden;%20overflow-y:%20hidden;%20position:%20relative;%20width:%20120px;%20border-right-width:%202px;%20border-right-style:%20solid;%20border-right-color:%20rgb(233,%20233,%20233)%7D%0A.css-1nf7yw8%20%7Bheight:%2056px;%20overflow-x:%20hidden;%20overflow-y:%20hidden;%20position:%20relative;%20width:%20120px;%20border-top-width:%202px;%20border-top-style:%20solid;%20border-top-color:%20rgb(233,%20233,%20233);%20border-right-width:%202px;%20border-right-style:%20solid;%20border-right-color:%20rgb(233,%20233,%20233)%7D%0A.css-1ubjbs7-Table%20%7Bwidth:%20782px;%20border-collapse:%20collapse%7D%0A.css-ntiwbf%20%7Bheight:%2028px;%20width:%20764px;%20overflow-x:%20auto;%20overflow-y:%20hidden%7D%0A.css-vgi0vl-Table%20%7Bdisplay:%20flex;%20height:%20116px%7D%0A.css-1hwem26%20%7Bheight:%2088px;%20width:%20120px;%20overflow-x:%20hidden;%20overflow-y:%20auto%7D%0A.css-numeii%20%7Bheight:%2028px;%20overflow-x:%20hidden;%20overflow-y:%20hidden;%20position:%20relative;%20width:%20360px%7D%0A.css-g3fih2%20%7Bheight:%2088px;%20width:%20782px;%20overflow-x:%20auto;%20overflow-y:%20auto%7D%0A.css-txkfxt%20%7Bheight:%2056px;%20overflow-x:%20hidden;%20overflow-y:%20hidden;%20position:%20relative;%20width:%20360px;%20border-top-width:%202px;%20border-top-style:%20solid;%20border-top-color:%20rgb(233,%20233,%20233)%7D%0A*%20%7B-ms-overflow-style:%20none;%20scrollbar-width:%20none%7D%0A*::-webkit-scrollbar%20%7Bdisplay:%20none%7D%3C/style%3E%3Cdiv%20xmlns=%22http://www.w3.org/1999/xhtml%22%20style=%22height:%20118px;%20width:%20904px;%22%3E&lt;div%20xmlns=%22http://www.w3.org/1999/xhtml%22%20class=%22ant-root%20css-0%22&gt;&lt;div%20class=%22ant-dropdown-trigger%20css-12ebr42-AWidget%22&gt;&lt;div%20class=%22css-1e3kjgr-Spinner%22&gt;&lt;div%20class=%22css-ck2xzt-Spinner%22&gt;&lt;div%20class=%22ant-spin%20ant-spin-lg%20ant-spin-spinning%22&gt;&lt;span%20class=%22ant-spin-dot%20ant-spin-dot-spin%22&gt;&lt;i%20class=%22ant-spin-dot-item%22&gt;&lt;/i&gt;&lt;i%20class=%22ant-spin-dot-item%22&gt;&lt;/i&gt;&lt;i%20class=%22ant-spin-dot-item%22&gt;&lt;/i&gt;&lt;i%20class=%22ant-spin-dot-item%22&gt;&lt;/i&gt;&lt;/span&gt;&lt;/div&gt;&lt;/div&gt;&lt;div%20class=%22css-6s7z8y-Table%22&gt;&lt;div%20tabindex=%220%22%20class=%22css-18k6uz5-Table%22&gt;&lt;div%20class=%22css-vgi0vl-Table%22&gt;&lt;div%20class=%22css-9wvnih-Table%22&gt;&lt;div%20class=%22css-gy6esx%22&gt;&lt;div%20class=%22css-pu2plr%22&gt;&lt;/div&gt;&lt;/div&gt;&lt;div%20class=%22css-1hwem26%22&gt;&lt;div%20class=%22css-1nf7yw8%22&gt;&lt;div%20style=%22overflow:%20hidden;%20display:%20flex;%20align-items:%20center;%20font-size:%2012px;%20height:%2028px;%20left:%200px;%20padding:%204px%204px%203px;%20position:%20absolute;%20top:%200px;%20width:%20120px;%20border-right:%202px%20solid%20rgb(233,%20233,%20233);%22&gt;&lt;span%20style=%22text-overflow:%20ellipsis;%20overflow:%20hidden;%20white-space:%20nowrap;%20max-width:%20calc((100%25%20-%200px)%20-%200px);%22&gt;f1%20score&lt;/span&gt;&lt;div%20style=%22height:%20100%25;%20margin-left:%206px;%22&gt;&lt;/div&gt;&lt;/div&gt;&lt;div%20style=%22overflow:%20hidden;%20display:%20flex;%20align-items:%20center;%20font-size:%2012px;%20height:%2028px;%20left:%200px;%20padding:%204px%204px%203px;%20position:%20absolute;%20top:%2028px;%20width:%20120px;%20background-color:%20rgb(250,%20250,%20250);%20border-right:%202px%20solid%20rgb(233,%20233,%20233);%22&gt;&lt;span%20style=%22text-overflow:%20ellipsis;%20overflow:%20hidden;%20white-space:%20nowrap;%20max-width:%20calc((100%25%20-%200px)%20-%200px);%22&gt;AUC&lt;/span&gt;&lt;div%20style=%22height:%20100%25;%20margin-left:%206px;%22&gt;&lt;/div&gt;&lt;/div&gt;&lt;/div&gt;&lt;/div&gt;&lt;/div&gt;&lt;div%20class=%22css-1ubjbs7-Table%22&gt;&lt;div%20class=%22css-ntiwbf%22&gt;&lt;div%20class=%22css-numeii%22&gt;&lt;div%20style=%22font-size:%2012px;%20font-weight:%20600;%20padding:%204px%204px%203px;%22&gt;Total&lt;/div&gt;&lt;div%20style=%22overflow:%20hidden;%20display:%20flex;%20align-items:%20center;%20font-size:%2012px;%20height:%2028px;%20left:%20120px;%20padding:%204px%204px%203px;%20position:%20absolute;%20top:%200px;%20width:%20120px;%20font-weight:%20600;%22&gt;&lt;span%20style=%22text-overflow:%20ellipsis;%20overflow:%20hidden;%20white-space:%20nowrap;%20max-width:%20calc((100%25%20-%200px)%20-%200px);%22&gt;Female&lt;/span&gt;&lt;div%20style=%22height:%20100%25;%20margin-left:%206px;%22&gt;&lt;/div&gt;&lt;/div&gt;&lt;div%20style=%22overflow:%20hidden;%20display:%20flex;%20align-items:%20center;%20font-size:%2012px;%20height:%2028px;%20left:%20240px;%20padding:%204px%204px%203px;%20position:%20absolute;%20top:%200px;%20width:%20120px;%20font-weight:%20600;%22&gt;&lt;span%20style=%22text-overflow:%20ellipsis;%20overflow:%20hidden;%20white-space:%20nowrap;%20max-width:%20calc((100%25%20-%200px)%20-%200px);%22&gt;Male&lt;/span&gt;&lt;div%20style=%22height:%20100%25;%20margin-left:%206px;%22&gt;&lt;/div&gt;&lt;/div&gt;&lt;/div&gt;&lt;/div&gt;&lt;div%20class=%22css-g3fih2%22&gt;&lt;div%20class=%22css-txkfxt%22&gt;&lt;div%20class=%22css-1lzltx4-TableCell%22%20style=%22font-size:%2012px;%20height:%2028px;%20left:%200px;%20padding:%204px%204px%203px;%20position:%20absolute;%20top:%200px;%20width:%20120px;%20text-align:%20right;%20border-right:%201px%20solid%20rgb(233,%20233,%20233);%22&gt;.41&lt;/div&gt;&lt;div%20class=%22css-1lzltx4-TableCell%22%20style=%22font-size:%2012px;%20height:%2028px;%20left:%20120px;%20padding:%204px%204px%203px;%20position:%20absolute;%20top:%200px;%20width:%20120px;%20text-align:%20right;%20border-right:%201px%20solid%20rgb(233,%20233,%20233);%22&gt;.39&lt;/div&gt;&lt;div%20class=%22css-1lzltx4-TableCell%22%20style=%22font-size:%2012px;%20height:%2028px;%20left:%20240px;%20padding:%204px%204px%203px;%20position:%20absolute;%20top:%200px;%20width:%20120px;%20text-align:%20right;%20border-right:%201px%20solid%20rgb(233,%20233,%20233);%22&gt;.42&lt;/div&gt;&lt;div%20class=%22css-1lzltx4-TableCell%22%20style=%22font-size:%2012px;%20height:%2028px;%20left:%200px;%20padding:%204px%204px%203px;%20position:%20absolute;%20top:%2028px;%20width:%20120px;%20text-align:%20right;%20background-color:%20rgb(250,%20250,%20250);%20border-right:%201px%20solid%20rgb(233,%20233,%20233);%22&gt;.76&lt;/div&gt;&lt;div%20class=%22css-1lzltx4-TableCell%22%20style=%22font-size:%2012px;%20height:%2028px;%20left:%20120px;%20padding:%204px%204px%203px;%20position:%20absolute;%20top:%2028px;%20width:%20120px;%20text-align:%20right;%20background-color:%20rgb(250,%20250,%20250);%20border-right:%201px%20solid%20rgb(233,%20233,%20233);%22&gt;.77&lt;/div&gt;&lt;div%20class=%22css-1lzltx4-TableCell%22%20style=%22font-size:%2012px;%20height:%2028px;%20left:%20240px;%20padding:%204px%204px%203px;%20position:%20absolute;%20top:%2028px;%20width:%20120px;%20text-align:%20right;%20background-color:%20rgb(250,%20250,%20250);%20border-right:%201px%20solid%20rgb(233,%20233,%20233);%22&gt;.75&lt;/div&gt;&lt;/div&gt;&lt;/div&gt;&lt;/div&gt;&lt;/div&gt;&lt;/div&gt;&lt;/div&gt;&lt;/div&gt;&lt;/div&gt;&lt;/div&gt;%3C/div%3E%3C/foreignObject%3E%3C/svg%3E\">"
      ],
      "text/plain": [
       "Open the notebook in JupyterLab with the atoti extension installed and enabled to start editing this widget."
      ]
     },
     "metadata": {},
     "output_type": "display_data"
    }
   ],
   "source": [
    "session.visualize(\"Slicing Data on Gender\")"
   ]
  },
  {
   "cell_type": "code",
   "execution_count": 35,
   "metadata": {
    "atoti": {
     "height": 179,
     "widget": {
      "mapping": {
       "columns": [
        "[customer_store].[Driving_License].[Driving_License]"
       ],
       "measures": [
        "[Measures].[f1 score]",
        "[Measures].[AUC]"
       ],
       "rows": [
        "ALL_MEASURES"
       ]
      },
      "query": {
       "mdx": "SELECT NON EMPTY Hierarchize(Descendants({[customer_store].[Driving_License].[AllMember]}, 1, SELF_AND_BEFORE)) ON COLUMNS, NON EMPTY {[Measures].[f1 score], [Measures].[AUC]} ON ROWS FROM [model_cube]",
       "updateMode": "once"
      },
      "serverKey": "default",
      "widgetKey": "pivot-table"
     }
    }
   },
   "outputs": [
    {
     "data": {
      "application/vnd.atoti.v0+json": {
       "name": "Slicing Data on Driving License",
       "session": "Unnamed"
      },
      "text/html": [
       "<img src=\"data:image/svg+xml;charset=utf8,%3C?xml%20version=%221.0%22%20standalone=%22no%22?%3E%3Csvg%20xmlns=%22http://www.w3.org/2000/svg%22%20height=%22167%22%20width=%22904%22%3E%3CforeignObject%20width=%22100%25%22%20height=%22100%25%22%20x=%220%22%20y=%220%22%3E%3Cstyle%20type=%22text/css%22%3E*,%20::before,%20::after%20%7Bbox-sizing:%20unset%7D%0A.ant-root%20%5Bclass%5E=%22ant-%22%5D,%20.ant-root%20%5Bclass*=%22ant-%22%5D,%20.ant-root%20%5Bclass%5E=%22ant-%22%5D%20*,%20.ant-root%20%5Bclass*=%22ant-%22%5D%20*,%20.ant-root%20%5Bclass%5E=%22ant-%22%5D%20::before,%20.ant-root%20%5Bclass*=%22ant-%22%5D%20::before,%20.ant-root%20%5Bclass%5E=%22ant-%22%5D%20::after,%20.ant-root%20%5Bclass*=%22ant-%22%5D%20::after%20%7Bbox-sizing:%20border-box%7D%0A.ant-root%20html,%20.ant-root%20%7Bwidth:%20100%25;%20height:%20100%25%7D%0A.ant-root%20*,%20.ant-root%20::before,%20.ant-root%20::after%20%7Bbox-sizing:%20border-box%7D%0A.ant-root%20%7Bmargin-top:%200px;%20margin-right:%200px;%20margin-bottom:%200px;%20margin-left:%200px;%20color:%20rgb(89,%2089,%2089);%20font-size:%2012px;%20font-family:%20-apple-system,%20BlinkMacSystemFont,%20%22Segoe%20UI%22,%20Roboto,%20%22Helvetica%20Neue%22,%20Arial,%20%22Noto%20Sans%22,%20sans-serif,%20%22Apple%20Color%20Emoji%22,%20%22Segoe%20UI%20Emoji%22,%20%22Segoe%20UI%20Symbol%22,%20%22Noto%20Color%20Emoji%22;%20font-variant-ligatures:%20normal;%20font-variant-numeric:%20tabular-nums;%20font-variant-east-asian:%20normal;%20font-variant-caps:%20normal;%20line-height:%201.66667;%20background-color:%20rgb(255,%20255,%20255);%20--antd-wave-shadow-color:%20undefined;%20--scroll-bar:%20undefined%7D%0A.ant-root%20.ant-spin%20%7Bbox-sizing:%20border-box;%20margin-top:%200px;%20margin-right:%200px;%20margin-bottom:%200px;%20margin-left:%200px;%20padding-top:%200px;%20padding-right:%200px;%20padding-bottom:%200px;%20padding-left:%200px;%20font-size:%2012px;%20font-variant-ligatures:%20normal;%20font-variant-numeric:%20tabular-nums;%20font-variant-east-asian:%20normal;%20font-variant-caps:%20normal;%20line-height:%201.66667;%20list-style-position:%20initial;%20list-style-image:%20initial;%20list-style-type:%20none;%20position:%20absolute;%20display:%20none;%20color:%20rgb(0,%20174,%20239);%20text-align:%20center;%20vertical-align:%20middle;%20opacity:%200;%20transition-duration:%200.3s;%20transition-timing-function:%20cubic-bezier(0.78,%200.14,%200.15,%200.86);%20transition-delay:%200s;%20transition-property:%20transform%7D%0A.ant-root%20.ant-spin-spinning%20%7Bposition:%20static;%20display:%20inline-block;%20opacity:%201%7D%0A.ant-root%20.ant-spin-dot%20%7Bposition:%20relative;%20display:%20inline-block;%20font-size:%2020px;%20width:%201em;%20height:%201em%7D%0A.ant-root%20.ant-spin-dot-item%20%7Bposition:%20absolute;%20display:%20block;%20width:%209px;%20height:%209px;%20background-color:%20rgb(0,%20174,%20239);%20border-top-left-radius:%20100%25;%20border-top-right-radius:%20100%25;%20border-bottom-right-radius:%20100%25;%20border-bottom-left-radius:%20100%25;%20transform:%20scale(0.75);%20transform-origin:%2050%25%2050%25;%20opacity:%200.3;%20animation-duration:%201s;%20animation-timing-function:%20linear;%20animation-delay:%200s;%20animation-iteration-count:%20infinite;%20animation-direction:%20alternate;%20animation-fill-mode:%20none;%20animation-play-state:%20running;%20animation-name:%20antSpinMove%7D%0A.ant-root%20.ant-spin-dot-item:nth-child(1)%20%7Btop:%200px;%20left:%200px%7D%0A.ant-root%20.ant-spin-dot-item:nth-child(2)%20%7Btop:%200px;%20right:%200px;%20animation-delay:%200.4s%7D%0A.ant-root%20.ant-spin-dot-item:nth-child(3)%20%7Bright:%200px;%20bottom:%200px;%20animation-delay:%200.8s%7D%0A.ant-root%20.ant-spin-dot-item:nth-child(4)%20%7Bbottom:%200px;%20left:%200px;%20animation-delay:%201.2s%7D%0A.ant-root%20.ant-spin-dot-spin%20%7Btransform:%20rotate(45deg);%20animation-duration:%201.2s;%20animation-timing-function:%20linear;%20animation-delay:%200s;%20animation-iteration-count:%20infinite;%20animation-direction:%20normal;%20animation-fill-mode:%20none;%20animation-play-state:%20running;%20animation-name:%20antRotate%7D%0A.ant-root%20.ant-spin-lg%20.ant-spin-dot%20%7Bfont-size:%2032px%7D%0A.ant-root%20.ant-spin-lg%20.ant-spin-dot%20i%20%7Bwidth:%2014px;%20height:%2014px%7D%0A.css-12ebr42-AWidget%20%7Bheight:%20100%25%7D%0A.css-1e3kjgr-Spinner%20%7Bheight:%20100%25;%20position:%20relative%7D%0A.css-ck2xzt-Spinner%20%7B-webkit-box-align:%20center;%20align-items:%20center;%20background-image:%20initial;%20background-position-x:%20initial;%20background-position-y:%20initial;%20background-size:%20initial;%20background-repeat-x:%20initial;%20background-repeat-y:%20initial;%20background-attachment:%20initial;%20background-origin:%20initial;%20background-clip:%20initial;%20background-color:%20transparent;%20display:%20flex;%20height:%20100%25;%20-webkit-box-pack:%20center;%20justify-content:%20center;%20position:%20absolute;%20transition-duration:%20300ms;%20transition-timing-function:%20ease;%20transition-delay:%200s;%20transition-property:%20opacity;%20width:%20100%25;%20opacity:%200;%20pointer-events:%20none;%20z-index:%202%7D%0A.css-6s7z8y-Table%20%7Bpadding-bottom:%202px;%20padding-right:%202px;%20height:%20100%25%7D%0A.css-18k6uz5-Table%20%7Bcursor:%20cell;%20height:%20100%25;%20outline-color:%20initial;%20outline-style:%20none;%20outline-width:%20initial%7D%0A.css-9wvnih-Table%20%7Bborder-collapse:%20collapse;%20height:%2028px;%20width:%20120px%7D%0A.css-gy6esx%20%7Bheight:%2028px;%20width:%20120px%7D%0A.css-pu2plr%20%7Bheight:%2028px;%20overflow-x:%20hidden;%20overflow-y:%20hidden;%20position:%20relative;%20width:%20120px;%20border-right-width:%202px;%20border-right-style:%20solid;%20border-right-color:%20rgb(233,%20233,%20233)%7D%0A.css-1nf7yw8%20%7Bheight:%2056px;%20overflow-x:%20hidden;%20overflow-y:%20hidden;%20position:%20relative;%20width:%20120px;%20border-top-width:%202px;%20border-top-style:%20solid;%20border-top-color:%20rgb(233,%20233,%20233);%20border-right-width:%202px;%20border-right-style:%20solid;%20border-right-color:%20rgb(233,%20233,%20233)%7D%0A.css-1ubjbs7-Table%20%7Bwidth:%20782px;%20border-collapse:%20collapse%7D%0A.css-ntiwbf%20%7Bheight:%2028px;%20width:%20764px;%20overflow-x:%20auto;%20overflow-y:%20hidden%7D%0A.css-numeii%20%7Bheight:%2028px;%20overflow-x:%20hidden;%20overflow-y:%20hidden;%20position:%20relative;%20width:%20360px%7D%0A.css-txkfxt%20%7Bheight:%2056px;%20overflow-x:%20hidden;%20overflow-y:%20hidden;%20position:%20relative;%20width:%20360px;%20border-top-width:%202px;%20border-top-style:%20solid;%20border-top-color:%20rgb(233,%20233,%20233)%7D%0A.css-1cx3x7w-Table%20%7Bdisplay:%20flex;%20height:%20165px%7D%0A.css-qxoacg%20%7Bheight:%20137px;%20width:%20120px;%20overflow-x:%20hidden;%20overflow-y:%20auto%7D%0A.css-zn6xp6%20%7Bheight:%20137px;%20width:%20782px;%20overflow-x:%20auto;%20overflow-y:%20auto%7D%0A*%20%7B-ms-overflow-style:%20none;%20scrollbar-width:%20none%7D%0A*::-webkit-scrollbar%20%7Bdisplay:%20none%7D%3C/style%3E%3Cdiv%20xmlns=%22http://www.w3.org/1999/xhtml%22%20style=%22height:%20167px;%20width:%20904px;%22%3E&lt;div%20xmlns=%22http://www.w3.org/1999/xhtml%22%20class=%22ant-root%20css-0%22&gt;&lt;div%20class=%22ant-dropdown-trigger%20css-12ebr42-AWidget%22&gt;&lt;div%20class=%22css-1e3kjgr-Spinner%22&gt;&lt;div%20class=%22css-ck2xzt-Spinner%22&gt;&lt;div%20class=%22ant-spin%20ant-spin-lg%20ant-spin-spinning%22&gt;&lt;span%20class=%22ant-spin-dot%20ant-spin-dot-spin%22&gt;&lt;i%20class=%22ant-spin-dot-item%22&gt;&lt;/i&gt;&lt;i%20class=%22ant-spin-dot-item%22&gt;&lt;/i&gt;&lt;i%20class=%22ant-spin-dot-item%22&gt;&lt;/i&gt;&lt;i%20class=%22ant-spin-dot-item%22&gt;&lt;/i&gt;&lt;/span&gt;&lt;/div&gt;&lt;/div&gt;&lt;div%20class=%22css-6s7z8y-Table%22&gt;&lt;div%20tabindex=%220%22%20class=%22css-18k6uz5-Table%22&gt;&lt;div%20class=%22css-1cx3x7w-Table%22&gt;&lt;div%20class=%22css-9wvnih-Table%22&gt;&lt;div%20class=%22css-gy6esx%22&gt;&lt;div%20class=%22css-pu2plr%22&gt;&lt;/div&gt;&lt;/div&gt;&lt;div%20class=%22css-qxoacg%22&gt;&lt;div%20class=%22css-1nf7yw8%22&gt;&lt;div%20style=%22overflow:%20hidden;%20display:%20flex;%20align-items:%20center;%20font-size:%2012px;%20height:%2028px;%20left:%200px;%20padding:%204px%204px%203px;%20position:%20absolute;%20top:%200px;%20width:%20120px;%20border-right:%202px%20solid%20rgb(233,%20233,%20233);%22&gt;&lt;span%20style=%22text-overflow:%20ellipsis;%20overflow:%20hidden;%20white-space:%20nowrap;%20max-width:%20calc((100%25%20-%200px)%20-%200px);%22&gt;f1%20score&lt;/span&gt;&lt;div%20style=%22height:%20100%25;%20margin-left:%206px;%22&gt;&lt;/div&gt;&lt;/div&gt;&lt;div%20style=%22overflow:%20hidden;%20display:%20flex;%20align-items:%20center;%20font-size:%2012px;%20height:%2028px;%20left:%200px;%20padding:%204px%204px%203px;%20position:%20absolute;%20top:%2028px;%20width:%20120px;%20background-color:%20rgb(250,%20250,%20250);%20border-right:%202px%20solid%20rgb(233,%20233,%20233);%22&gt;&lt;span%20style=%22text-overflow:%20ellipsis;%20overflow:%20hidden;%20white-space:%20nowrap;%20max-width:%20calc((100%25%20-%200px)%20-%200px);%22&gt;AUC&lt;/span&gt;&lt;div%20style=%22height:%20100%25;%20margin-left:%206px;%22&gt;&lt;/div&gt;&lt;/div&gt;&lt;/div&gt;&lt;/div&gt;&lt;/div&gt;&lt;div%20class=%22css-1ubjbs7-Table%22&gt;&lt;div%20class=%22css-ntiwbf%22&gt;&lt;div%20class=%22css-numeii%22&gt;&lt;div%20style=%22font-size:%2012px;%20font-weight:%20600;%20padding:%204px%204px%203px;%22&gt;Total&lt;/div&gt;&lt;div%20style=%22overflow:%20hidden;%20display:%20flex;%20align-items:%20center;%20font-size:%2012px;%20height:%2028px;%20left:%20120px;%20padding:%204px%204px%203px;%20position:%20absolute;%20top:%200px;%20width:%20120px;%20font-weight:%20600;%22&gt;&lt;span%20style=%22text-overflow:%20ellipsis;%20overflow:%20hidden;%20white-space:%20nowrap;%20max-width:%20calc((100%25%20-%200px)%20-%200px);%22&gt;0&lt;/span&gt;&lt;div%20style=%22height:%20100%25;%20margin-left:%206px;%22&gt;&lt;/div&gt;&lt;/div&gt;&lt;div%20style=%22overflow:%20hidden;%20display:%20flex;%20align-items:%20center;%20font-size:%2012px;%20height:%2028px;%20left:%20240px;%20padding:%204px%204px%203px;%20position:%20absolute;%20top:%200px;%20width:%20120px;%20font-weight:%20600;%22&gt;&lt;span%20style=%22text-overflow:%20ellipsis;%20overflow:%20hidden;%20white-space:%20nowrap;%20max-width:%20calc((100%25%20-%200px)%20-%200px);%22&gt;1&lt;/span&gt;&lt;div%20style=%22height:%20100%25;%20margin-left:%206px;%22&gt;&lt;/div&gt;&lt;/div&gt;&lt;/div&gt;&lt;/div&gt;&lt;div%20class=%22css-zn6xp6%22&gt;&lt;div%20class=%22css-txkfxt%22&gt;&lt;div%20class=%22css-1lzltx4-TableCell%22%20style=%22font-size:%2012px;%20height:%2028px;%20left:%200px;%20padding:%204px%204px%203px;%20position:%20absolute;%20top:%200px;%20width:%20120px;%20text-align:%20right;%20border-right:%201px%20solid%20rgb(233,%20233,%20233);%22&gt;.41&lt;/div&gt;&lt;div%20class=%22css-1lzltx4-TableCell%22%20style=%22font-size:%2012px;%20height:%2028px;%20left:%20120px;%20padding:%204px%204px%203px;%20position:%20absolute;%20top:%200px;%20width:%20120px;%20text-align:%20right;%20border-right:%201px%20solid%20rgb(233,%20233,%20233);%22&gt;NaN&lt;/div&gt;&lt;div%20class=%22css-1lzltx4-TableCell%22%20style=%22font-size:%2012px;%20height:%2028px;%20left:%20240px;%20padding:%204px%204px%203px;%20position:%20absolute;%20top:%200px;%20width:%20120px;%20text-align:%20right;%20border-right:%201px%20solid%20rgb(233,%20233,%20233);%22&gt;.41&lt;/div&gt;&lt;div%20class=%22css-1lzltx4-TableCell%22%20style=%22font-size:%2012px;%20height:%2028px;%20left:%200px;%20padding:%204px%204px%203px;%20position:%20absolute;%20top:%2028px;%20width:%20120px;%20text-align:%20right;%20background-color:%20rgb(250,%20250,%20250);%20border-right:%201px%20solid%20rgb(233,%20233,%20233);%22&gt;.76&lt;/div&gt;&lt;div%20class=%22css-1lzltx4-TableCell%22%20style=%22font-size:%2012px;%20height:%2028px;%20left:%20120px;%20padding:%204px%204px%203px;%20position:%20absolute;%20top:%2028px;%20width:%20120px;%20text-align:%20right;%20background-color:%20rgb(250,%20250,%20250);%20border-right:%201px%20solid%20rgb(233,%20233,%20233);%22&gt;.44&lt;/div&gt;&lt;div%20class=%22css-1lzltx4-TableCell%22%20style=%22font-size:%2012px;%20height:%2028px;%20left:%20240px;%20padding:%204px%204px%203px;%20position:%20absolute;%20top:%2028px;%20width:%20120px;%20text-align:%20right;%20background-color:%20rgb(250,%20250,%20250);%20border-right:%201px%20solid%20rgb(233,%20233,%20233);%22&gt;.76&lt;/div&gt;&lt;/div&gt;&lt;/div&gt;&lt;/div&gt;&lt;/div&gt;&lt;/div&gt;&lt;/div&gt;&lt;/div&gt;&lt;/div&gt;&lt;/div&gt;%3C/div%3E%3C/foreignObject%3E%3C/svg%3E\">"
      ],
      "text/plain": [
       "Open the notebook in JupyterLab with the atoti extension installed and enabled to start editing this widget."
      ]
     },
     "metadata": {},
     "output_type": "display_data"
    }
   ],
   "source": [
    "session.visualize(\"Slicing Data on Driving License\")"
   ]
  },
  {
   "cell_type": "markdown",
   "metadata": {},
   "source": [
    "# *********** The End **************"
   ]
  }
 ],
 "metadata": {
  "kernelspec": {
   "display_name": "Python 3",
   "language": "python",
   "name": "python3"
  },
  "language_info": {
   "codemirror_mode": {
    "name": "ipython",
    "version": 3
   },
   "file_extension": ".py",
   "mimetype": "text/x-python",
   "name": "python",
   "nbconvert_exporter": "python",
   "pygments_lexer": "ipython3",
   "version": "3.7.9"
  }
 },
 "nbformat": 4,
 "nbformat_minor": 4
}
