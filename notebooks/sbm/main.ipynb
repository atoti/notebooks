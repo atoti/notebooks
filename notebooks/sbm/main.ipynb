{
 "cells": [
  {
   "cell_type": "markdown",
   "metadata": {},
   "source": [
    "# Introduction\n",
    "\n",
    "Run this notebook to create an analytical application for the SBM charge - based of the Equity Delta Example. The input data will be stored in-memory and Atoti will perform the computation \"on-the-fly\" based on user query. You can filter, drill down and explore your data and the SBM metrics.\n",
    "\n",
    "<img src=./app-preview.gif/ width = 70%>\n",
    "\n",
    "## About SBM\n",
    "\n",
    "You will find below how the SBM logic can be described in python and injected into Atoti. We'll narrow down the use case to Equity Delta charge for simplicity. The other aggregation chains can be added in a similar manner.\n",
    "\n",
    "Sensitivity-based mathod is one of the parametric market risk methodologies. It can be used to compute a VaR-like metric from sensitivities using pre-calibrated risk weights and correlations, through a sequence of nested variance covariance formulae. Due to its multiple benefits (see [2]), the method is widely used both internally by orgazations to manage market risk, as well as by Regulators for capital requirements purposes (FRTB) as well as margining (SIMM). \n",
    "\n",
    "The notebook assumes that the reader is familiar with the sensitivity-based method and terminology.\n",
    "\n",
    "## What to expect\n",
    "\n",
    "In this notebook, we'll read the required sensitivities and calculation parameters and create a chain of measures aggregating data:\n",
    "\n",
    "sensitivities by trade -> weighted sensitivities by risk factor -> charges by bucket -> equity delta margin\n",
    "\n",
    "\n",
    "## Input data\n",
    "\n",
    "Input data is sourced in a CRIF-like format - see [3].\n",
    "\n",
    "## References \n",
    "\n",
    "- [1]: Consolidated Basel Framework Chapter MAR21: https://www.bis.org/basel_framework/chapter/MAR/21.htm?inforce=20220101. \n",
    "- [2]: ISDA SIMM(TM): From Principles to Model Specification: https://www.isda.org/a/vAiDE/simm-from-principles-to-model-specification-4-mar-2016-v4-public.pdf\n",
    "- [3]: ISDA Risk Data Standard: https://www.isda.org/a/owEDE/risk-data-standards-v1-36-public.pdf\n",
    "\n",
    "# Input data files\n",
    "\n",
    "These are the csv-files that we need to illustrate the Equity Delta aggregation:\n",
    "\n",
    "- \"bigger_data.csv\" - sensitivities in a CRIF-like format\n",
    "- \"eq_delta_gamma.csv\" - cross-bucket correlations, set for each pair of buckets\n",
    "- \"eq_delta_rho.csv\" - risk factor correlations, set per bucket, i.e. all pairs of risk factors in a given bucket have the same correlation\n",
    "- \"eq_delta_rw.csv\" - risk weights, set per bucket and per risk factor type (stored in Label2 crif field)\n",
    "\n",
    "The example data files are stored in s3. "
   ]
  },
  {
   "cell_type": "code",
   "execution_count": 1,
   "metadata": {},
   "outputs": [],
   "source": [
    "# uncomment to install atoti plugin for aws if you haven't had it\n",
    "# !pip install atoti[aws]"
   ]
  },
  {
   "cell_type": "markdown",
   "metadata": {},
   "source": [
    "Let's start by launching atoti cube and web app:"
   ]
  },
  {
   "cell_type": "code",
   "execution_count": 2,
   "metadata": {},
   "outputs": [
    {
     "data": {
      "text/plain": [
       "'http://localhost:59446'"
      ]
     },
     "execution_count": 2,
     "metadata": {},
     "output_type": "execute_result"
    }
   ],
   "source": [
    "import atoti as tt\n",
    "import pandas as pd\n",
    "from atoti.config import create_config\n",
    "\n",
    "session = tt.create_session(config=\"./configuration.yaml\")\n",
    "session.load_all_data()\n",
    "\n",
    "session.url"
   ]
  },
  {
   "cell_type": "markdown",
   "metadata": {},
   "source": [
    "# Sensitivities datastore"
   ]
  },
  {
   "cell_type": "code",
   "execution_count": 3,
   "metadata": {
    "scrolled": true
   },
   "outputs": [],
   "source": [
    "risks_store = session.read_csv(\n",
    "    \"s3://data.atoti.io/notebooks/sbm/bigger_data.csv\",\n",
    "    keys=[\"TradeID\", \"PortfolioID\", \"RiskType\", \"Qualifier\", \"Label2\"],\n",
    "    store_name=\"Risks\",\n",
    ")\n",
    "\n",
    "cube = session.create_cube(risks_store)\n",
    "lvl = cube.levels\n",
    "m = cube.measures\n",
    "h = cube.hierarchies"
   ]
  },
  {
   "cell_type": "code",
   "execution_count": 4,
   "metadata": {},
   "outputs": [
    {
     "data": {
      "text/html": [
       "<div>\n",
       "<style scoped>\n",
       "    .dataframe tbody tr th:only-of-type {\n",
       "        vertical-align: middle;\n",
       "    }\n",
       "\n",
       "    .dataframe tbody tr th {\n",
       "        vertical-align: top;\n",
       "    }\n",
       "\n",
       "    .dataframe thead th {\n",
       "        text-align: right;\n",
       "    }\n",
       "</style>\n",
       "<table border=\"1\" class=\"dataframe\">\n",
       "  <thead>\n",
       "    <tr style=\"text-align: right;\">\n",
       "      <th></th>\n",
       "      <th></th>\n",
       "      <th></th>\n",
       "      <th></th>\n",
       "      <th></th>\n",
       "      <th>AmountUSD</th>\n",
       "      <th>Bucket</th>\n",
       "    </tr>\n",
       "    <tr>\n",
       "      <th>TradeID</th>\n",
       "      <th>PortfolioID</th>\n",
       "      <th>RiskType</th>\n",
       "      <th>Qualifier</th>\n",
       "      <th>Label2</th>\n",
       "      <th></th>\n",
       "      <th></th>\n",
       "    </tr>\n",
       "  </thead>\n",
       "  <tbody>\n",
       "    <tr>\n",
       "      <th>0</th>\n",
       "      <th>Bigger_Portfolio</th>\n",
       "      <th>Risk_Equity</th>\n",
       "      <th>Wilmar International</th>\n",
       "      <th>REPO</th>\n",
       "      <td>-10332.090000</td>\n",
       "      <td>1</td>\n",
       "    </tr>\n",
       "    <tr>\n",
       "      <th>24</th>\n",
       "      <th>Bigger_Portfolio</th>\n",
       "      <th>Risk_Equity</th>\n",
       "      <th>Sony</th>\n",
       "      <th>REPO</th>\n",
       "      <td>-4977.100000</td>\n",
       "      <td>5</td>\n",
       "    </tr>\n",
       "    <tr>\n",
       "      <th>44</th>\n",
       "      <th>Bigger_Portfolio</th>\n",
       "      <th>Risk_Equity</th>\n",
       "      <th>Deutsche Bank</th>\n",
       "      <th>REPO</th>\n",
       "      <td>4828.030000</td>\n",
       "      <td>8</td>\n",
       "    </tr>\n",
       "    <tr>\n",
       "      <th>54</th>\n",
       "      <th>Bigger_Portfolio</th>\n",
       "      <th>Risk_Equity</th>\n",
       "      <th>Dongfeng Motor Group</th>\n",
       "      <th>REPO</th>\n",
       "      <td>3773.830000</td>\n",
       "      <td>9</td>\n",
       "    </tr>\n",
       "    <tr>\n",
       "      <th>tpdohiozcg</th>\n",
       "      <th>Bigger_Portfolio</th>\n",
       "      <th>Risk_Equity</th>\n",
       "      <th>Issuer_3</th>\n",
       "      <th>SPOT</th>\n",
       "      <td>43387.769836</td>\n",
       "      <td>2</td>\n",
       "    </tr>\n",
       "  </tbody>\n",
       "</table>\n",
       "</div>"
      ],
      "text/plain": [
       "                                                                        AmountUSD  \\\n",
       "TradeID    PortfolioID      RiskType    Qualifier            Label2                 \n",
       "0          Bigger_Portfolio Risk_Equity Wilmar International REPO   -10332.090000   \n",
       "24         Bigger_Portfolio Risk_Equity Sony                 REPO    -4977.100000   \n",
       "44         Bigger_Portfolio Risk_Equity Deutsche Bank        REPO     4828.030000   \n",
       "54         Bigger_Portfolio Risk_Equity Dongfeng Motor Group REPO     3773.830000   \n",
       "tpdohiozcg Bigger_Portfolio Risk_Equity Issuer_3             SPOT    43387.769836   \n",
       "\n",
       "                                                                     Bucket  \n",
       "TradeID    PortfolioID      RiskType    Qualifier            Label2          \n",
       "0          Bigger_Portfolio Risk_Equity Wilmar International REPO         1  \n",
       "24         Bigger_Portfolio Risk_Equity Sony                 REPO         5  \n",
       "44         Bigger_Portfolio Risk_Equity Deutsche Bank        REPO         8  \n",
       "54         Bigger_Portfolio Risk_Equity Dongfeng Motor Group REPO         9  \n",
       "tpdohiozcg Bigger_Portfolio Risk_Equity Issuer_3             SPOT         2  "
      ]
     },
     "execution_count": 4,
     "metadata": {},
     "output_type": "execute_result"
    }
   ],
   "source": [
    "# So far we have loaded data only into the risks_store\n",
    "risks_store.head()"
   ]
  },
  {
   "cell_type": "markdown",
   "metadata": {},
   "source": [
    "At this point, a cube has been created, and we can start browsing the sensitivities:"
   ]
  },
  {
   "cell_type": "code",
   "execution_count": 5,
   "metadata": {
    "atoti": {
     "widget": {
      "mapping": {
       "columns": [
        "ALL_MEASURES"
       ],
       "measures": [
        "[Measures].[AmountUSD.SUM]",
        "[Measures].[contributors.COUNT]"
       ],
       "rows": []
      },
      "name": "",
      "query": {
       "context": {
        "queriesResultLimit.intermediateSize": 1000000,
        "queriesResultLimit.transientSize": 10000000
       },
       "mdx": "SELECT NON EMPTY {[Measures].[AmountUSD.SUM], [Measures].[contributors.COUNT]} ON COLUMNS, NON EMPTY Crossjoin(Hierarchize(DrilldownLevel([Risks].[RiskType].[ALL].[AllMember])), Hierarchize(DrilldownLevel([Risks].[Bucket].[ALL].[AllMember]))) ON ROWS FROM [Risks] CELL PROPERTIES VALUE, FORMATTED_VALUE, BACK_COLOR, FORE_COLOR, FONT_FLAGS"
      },
      "serverKey": "default",
      "widgetKey": "pivot-table"
     }
    }
   },
   "outputs": [
    {
     "data": {
      "application/vnd.atoti.v0+json": {
       "name": null,
       "session": "Unnamed"
      },
      "text/html": [
       "<img src=\"data:image/svg+xml;charset=utf8,%3C?xml%20version=%221.0%22%20standalone=%22no%22?%3E%3Csvg%20xmlns=%22http://www.w3.org/2000/svg%22%20height=%22348%22%20width=%22978%22%3E%3CforeignObject%20width=%22100%25%22%20height=%22100%25%22%20x=%220%22%20y=%220%22%3E%3Cstyle%20type=%22text/css%22%3E*,%20::before,%20::after%20%7Bbox-sizing:%20unset%7D%0A.ant-root%20%5Bclass%5E=%22ant-%22%5D,%20.ant-root%20%5Bclass*=%22ant-%22%5D,%20.ant-root%20%5Bclass%5E=%22ant-%22%5D%20*,%20.ant-root%20%5Bclass*=%22ant-%22%5D%20*,%20.ant-root%20%5Bclass%5E=%22ant-%22%5D%20::before,%20.ant-root%20%5Bclass*=%22ant-%22%5D%20::before,%20.ant-root%20%5Bclass%5E=%22ant-%22%5D%20::after,%20.ant-root%20%5Bclass*=%22ant-%22%5D%20::after%20%7Bbox-sizing:%20border-box%7D%0A.ant-root%20html,%20.ant-root%20%7Bwidth:%20100%25;%20height:%20100%25%7D%0A.ant-root%20*,%20.ant-root%20::before,%20.ant-root%20::after%20%7Bbox-sizing:%20border-box%7D%0A.ant-root%20%7Bmargin-top:%200px;%20margin-right:%200px;%20margin-bottom:%200px;%20margin-left:%200px;%20color:%20rgb(89,%2089,%2089);%20font-size:%2012px;%20font-family:%20-apple-system,%20BlinkMacSystemFont,%20%22Segoe%20UI%22,%20Roboto,%20%22Helvetica%20Neue%22,%20Arial,%20%22Noto%20Sans%22,%20sans-serif,%20%22Apple%20Color%20Emoji%22,%20%22Segoe%20UI%20Emoji%22,%20%22Segoe%20UI%20Symbol%22,%20%22Noto%20Color%20Emoji%22;%20font-variant-ligatures:%20normal;%20font-variant-numeric:%20tabular-nums;%20font-variant-east-asian:%20normal;%20font-variant-caps:%20normal;%20line-height:%201.66667;%20background-color:%20rgb(255,%20255,%20255);%20--antd-wave-shadow-color:%20undefined;%20--scroll-bar:%20undefined%7D%0A.ant-root%20.ant-spin%20%7Bbox-sizing:%20border-box;%20margin-top:%200px;%20margin-right:%200px;%20margin-bottom:%200px;%20margin-left:%200px;%20padding-top:%200px;%20padding-right:%200px;%20padding-bottom:%200px;%20padding-left:%200px;%20font-size:%2012px;%20font-variant-ligatures:%20normal;%20font-variant-numeric:%20tabular-nums;%20font-variant-east-asian:%20normal;%20font-variant-caps:%20normal;%20line-height:%201.66667;%20list-style-position:%20initial;%20list-style-image:%20initial;%20list-style-type:%20none;%20position:%20absolute;%20display:%20none;%20color:%20rgb(0,%20174,%20239);%20text-align:%20center;%20vertical-align:%20middle;%20opacity:%200;%20transition-duration:%200.3s;%20transition-timing-function:%20cubic-bezier(0.78,%200.14,%200.15,%200.86);%20transition-delay:%200s;%20transition-property:%20transform%7D%0A.ant-root%20.ant-spin-spinning%20%7Bposition:%20static;%20display:%20inline-block;%20opacity:%201%7D%0A.ant-root%20.ant-spin-dot%20%7Bposition:%20relative;%20display:%20inline-block;%20font-size:%2020px;%20width:%201em;%20height:%201em%7D%0A.ant-root%20.ant-spin-dot-item%20%7Bposition:%20absolute;%20display:%20block;%20width:%209px;%20height:%209px;%20background-color:%20rgb(0,%20174,%20239);%20border-top-left-radius:%20100%25;%20border-top-right-radius:%20100%25;%20border-bottom-right-radius:%20100%25;%20border-bottom-left-radius:%20100%25;%20transform:%20scale(0.75);%20transform-origin:%2050%25%2050%25;%20opacity:%200.3;%20animation-duration:%201s;%20animation-timing-function:%20linear;%20animation-delay:%200s;%20animation-iteration-count:%20infinite;%20animation-direction:%20alternate;%20animation-fill-mode:%20none;%20animation-play-state:%20running;%20animation-name:%20antSpinMove%7D%0A.ant-root%20.ant-spin-dot-item:nth-child(1)%20%7Btop:%200px;%20left:%200px%7D%0A.ant-root%20.ant-spin-dot-item:nth-child(2)%20%7Btop:%200px;%20right:%200px;%20animation-delay:%200.4s%7D%0A.ant-root%20.ant-spin-dot-item:nth-child(3)%20%7Bright:%200px;%20bottom:%200px;%20animation-delay:%200.8s%7D%0A.ant-root%20.ant-spin-dot-item:nth-child(4)%20%7Bbottom:%200px;%20left:%200px;%20animation-delay:%201.2s%7D%0A.ant-root%20.ant-spin-dot-spin%20%7Btransform:%20rotate(45deg);%20animation-duration:%201.2s;%20animation-timing-function:%20linear;%20animation-delay:%200s;%20animation-iteration-count:%20infinite;%20animation-direction:%20normal;%20animation-fill-mode:%20none;%20animation-play-state:%20running;%20animation-name:%20antRotate%7D%0A.ant-root%20.ant-spin-lg%20.ant-spin-dot%20%7Bfont-size:%2032px%7D%0A.ant-root%20.ant-spin-lg%20.ant-spin-dot%20i%20%7Bwidth:%2014px;%20height:%2014px%7D%0A.css-12ebr42-AWidget%20%7Bheight:%20100%25%7D%0A.css-1e3kjgr-Spinner%20%7Bheight:%20100%25;%20position:%20relative%7D%0A.css-ck2xzt-Spinner%20%7B-webkit-box-align:%20center;%20align-items:%20center;%20background-image:%20initial;%20background-position-x:%20initial;%20background-position-y:%20initial;%20background-size:%20initial;%20background-repeat-x:%20initial;%20background-repeat-y:%20initial;%20background-attachment:%20initial;%20background-origin:%20initial;%20background-clip:%20initial;%20background-color:%20transparent;%20display:%20flex;%20height:%20100%25;%20-webkit-box-pack:%20center;%20justify-content:%20center;%20position:%20absolute;%20transition-duration:%20300ms;%20transition-timing-function:%20ease;%20transition-delay:%200s;%20transition-property:%20opacity;%20width:%20100%25;%20opacity:%200;%20pointer-events:%20none;%20z-index:%202%7D%0A.css-6s7z8y-Table%20%7Bpadding-bottom:%202px;%20padding-right:%202px;%20height:%20100%25%7D%0A.css-18k6uz5-Table%20%7Bcursor:%20cell;%20height:%20100%25;%20outline-color:%20initial;%20outline-style:%20none;%20outline-width:%20initial%7D%0A.css-16sdsf5-Table%20%7Bdisplay:%20flex;%20height:%20346px%7D%0A.css-cjaqq6-Table%20%7Bborder-collapse:%20collapse;%20height:%2028px;%20width:%20240px%7D%0A.css-17cmzye%20%7Bheight:%2028px;%20width:%20240px%7D%0A.css-uto3uj%20%7Bheight:%2028px;%20overflow-x:%20hidden;%20overflow-y:%20hidden;%20position:%20relative;%20width:%20240px;%20border-right-width:%202px;%20border-right-style:%20solid;%20border-right-color:%20rgb(233,%20233,%20233)%7D%0A.css-qhljdd%20%7Bheight:%20318px;%20width:%20240px;%20overflow-x:%20hidden;%20overflow-y:%20auto%7D%0A.css-1v698jj%20%7Bheight:%20364px;%20overflow-x:%20hidden;%20overflow-y:%20hidden;%20position:%20relative;%20width:%20240px;%20border-top-width:%202px;%20border-top-style:%20solid;%20border-top-color:%20rgb(233,%20233,%20233);%20border-right-width:%202px;%20border-right-style:%20solid;%20border-right-color:%20rgb(233,%20233,%20233)%7D%0A.css-1kgo9lt%20%7Bheight:%2028px;%20overflow-x:%20hidden;%20overflow-y:%20hidden;%20position:%20relative;%20width:%20240px%7D%0A.css-p1232p%20%7Bheight:%20364px;%20overflow-x:%20hidden;%20overflow-y:%20hidden;%20position:%20relative;%20width:%20240px;%20border-top-width:%202px;%20border-top-style:%20solid;%20border-top-color:%20rgb(233,%20233,%20233)%7D%0A.css-g26xr7-Table%20%7Bwidth:%20736px;%20border-collapse:%20collapse%7D%0A.css-jahlc4%20%7Bheight:%2028px;%20width:%20718px;%20overflow-x:%20auto;%20overflow-y:%20hidden%7D%0A.css-cpqcnz%20%7Bheight:%20318px;%20width:%20736px;%20overflow-x:%20auto;%20overflow-y:%20auto%7D%0A*%20%7B-ms-overflow-style:%20none;%20scrollbar-width:%20none%7D%0A*::-webkit-scrollbar%20%7Bdisplay:%20none%7D%3C/style%3E%3Cdiv%20xmlns=%22http://www.w3.org/1999/xhtml%22%20style=%22height:%20348px;%20width:%20978px;%22%3E&lt;div%20xmlns=%22http://www.w3.org/1999/xhtml%22%20class=%22ant-root%20css-0%22&gt;&lt;div%20class=%22ant-dropdown-trigger%20css-12ebr42-AWidget%22&gt;&lt;div%20class=%22css-1e3kjgr-Spinner%22&gt;&lt;div%20class=%22css-ck2xzt-Spinner%22&gt;&lt;div%20class=%22ant-spin%20ant-spin-lg%20ant-spin-spinning%22&gt;&lt;span%20class=%22ant-spin-dot%20ant-spin-dot-spin%22&gt;&lt;i%20class=%22ant-spin-dot-item%22&gt;&lt;/i&gt;&lt;i%20class=%22ant-spin-dot-item%22&gt;&lt;/i&gt;&lt;i%20class=%22ant-spin-dot-item%22&gt;&lt;/i&gt;&lt;i%20class=%22ant-spin-dot-item%22&gt;&lt;/i&gt;&lt;/span&gt;&lt;/div&gt;&lt;/div&gt;&lt;div%20class=%22css-6s7z8y-Table%22&gt;&lt;div%20tabindex=%220%22%20class=%22css-18k6uz5-Table%22&gt;&lt;div%20class=%22css-16sdsf5-Table%22&gt;&lt;div%20class=%22css-cjaqq6-Table%22&gt;&lt;div%20class=%22css-17cmzye%22&gt;&lt;div%20class=%22css-uto3uj%22&gt;&lt;div%20style=%22font-size:%2012px;%20height:%2028px;%20left:%200px;%20padding:%204px%204px%203px;%20position:%20absolute;%20top:%200px;%20width:%20120px;%20font-weight:%20600;%22&gt;RiskType&lt;/div&gt;&lt;div%20style=%22font-size:%2012px;%20height:%2028px;%20left:%20120px;%20padding:%204px%204px%203px;%20position:%20absolute;%20top:%200px;%20width:%20120px;%20font-weight:%20600;%22&gt;Bucket&lt;/div&gt;&lt;/div&gt;&lt;/div&gt;&lt;div%20class=%22css-qhljdd%22&gt;&lt;div%20class=%22css-1v698jj%22&gt;&lt;div%20style=%22font-size:%2012px;%20font-weight:%20600;%20padding:%204px%204px%203px;%22&gt;Total&lt;/div&gt;&lt;div%20style=%22overflow:%20hidden;%20display:%20flex;%20align-items:%20center;%20font-size:%2012px;%20height:%2028px;%20left:%200px;%20padding:%204px%204px%203px;%20position:%20absolute;%20top:%2028px;%20width:%20120px;%20border-top:%201px%20solid%20rgb(233,%20233,%20233);%20font-weight:%20600;%22&gt;&lt;span%20style=%22text-overflow:%20ellipsis;%20overflow:%20hidden;%20white-space:%20nowrap;%20max-width:%20calc((100%25%20-%200px)%20-%200px);%22&gt;Risk_Equity&lt;/span&gt;&lt;div%20style=%22height:%20100%25;%20margin-left:%206px;%22&gt;&lt;/div&gt;&lt;/div&gt;&lt;div%20style=%22overflow:%20hidden;%20display:%20flex;%20align-items:%20center;%20font-size:%2012px;%20height:%2028px;%20left:%20120px;%20padding:%204px%204px%203px;%20position:%20absolute;%20top:%2028px;%20width:%20120px;%20border-right:%202px%20solid%20rgb(233,%20233,%20233);%20border-top:%201px%20solid%20rgb(233,%20233,%20233);%22&gt;&lt;span%20style=%22text-overflow:%20ellipsis;%20overflow:%20hidden;%20white-space:%20nowrap;%20max-width:%20calc((100%25%20-%200px)%20-%200px);%22&gt;&lt;/span&gt;&lt;div%20style=%22height:%20100%25;%20margin-left:%206px;%22&gt;&lt;/div&gt;&lt;/div&gt;&lt;div%20style=%22overflow:%20hidden;%20display:%20none;%20align-items:%20center;%20font-size:%2012px;%20height:%2028px;%20left:%200px;%20padding:%204px%204px%203px;%20position:%20absolute;%20top:%2056px;%20width:%20120px;%20font-weight:%20600;%22&gt;&lt;span%20style=%22text-overflow:%20ellipsis;%20overflow:%20hidden;%20white-space:%20nowrap;%20max-width:%20calc((100%25%20-%200px)%20-%200px);%22&gt;Risk_Equity&lt;/span&gt;&lt;div%20style=%22height:%20100%25;%20margin-left:%206px;%22&gt;&lt;/div&gt;&lt;/div&gt;&lt;div%20style=%22overflow:%20hidden;%20display:%20flex;%20align-items:%20center;%20font-size:%2012px;%20height:%2028px;%20left:%20120px;%20padding:%204px%204px%203px;%20position:%20absolute;%20top:%2056px;%20width:%20120px;%20background-color:%20rgb(250,%20250,%20250);%20border-right:%202px%20solid%20rgb(233,%20233,%20233);%22&gt;&lt;span%20style=%22text-overflow:%20ellipsis;%20overflow:%20hidden;%20white-space:%20nowrap;%20max-width:%20calc((100%25%20-%200px)%20-%200px);%22&gt;1&lt;/span&gt;&lt;div%20style=%22height:%20100%25;%20margin-left:%206px;%22&gt;&lt;/div&gt;&lt;/div&gt;&lt;div%20style=%22overflow:%20hidden;%20display:%20none;%20align-items:%20center;%20font-size:%2012px;%20height:%2028px;%20left:%200px;%20padding:%204px%204px%203px;%20position:%20absolute;%20top:%2084px;%20width:%20120px;%20font-weight:%20600;%22&gt;&lt;span%20style=%22text-overflow:%20ellipsis;%20overflow:%20hidden;%20white-space:%20nowrap;%20max-width:%20calc((100%25%20-%200px)%20-%200px);%22&gt;Risk_Equity&lt;/span&gt;&lt;div%20style=%22height:%20100%25;%20margin-left:%206px;%22&gt;&lt;/div&gt;&lt;/div&gt;&lt;div%20style=%22overflow:%20hidden;%20display:%20flex;%20align-items:%20center;%20font-size:%2012px;%20height:%2028px;%20left:%20120px;%20padding:%204px%204px%203px;%20position:%20absolute;%20top:%2084px;%20width:%20120px;%20border-right:%202px%20solid%20rgb(233,%20233,%20233);%22&gt;&lt;span%20style=%22text-overflow:%20ellipsis;%20overflow:%20hidden;%20white-space:%20nowrap;%20max-width:%20calc((100%25%20-%200px)%20-%200px);%22&gt;2&lt;/span&gt;&lt;div%20style=%22height:%20100%25;%20margin-left:%206px;%22&gt;&lt;/div&gt;&lt;/div&gt;&lt;div%20style=%22overflow:%20hidden;%20display:%20none;%20align-items:%20center;%20font-size:%2012px;%20height:%2028px;%20left:%200px;%20padding:%204px%204px%203px;%20position:%20absolute;%20top:%20112px;%20width:%20120px;%20font-weight:%20600;%22&gt;&lt;span%20style=%22text-overflow:%20ellipsis;%20overflow:%20hidden;%20white-space:%20nowrap;%20max-width:%20calc((100%25%20-%200px)%20-%200px);%22&gt;Risk_Equity&lt;/span&gt;&lt;div%20style=%22height:%20100%25;%20margin-left:%206px;%22&gt;&lt;/div&gt;&lt;/div&gt;&lt;div%20style=%22overflow:%20hidden;%20display:%20flex;%20align-items:%20center;%20font-size:%2012px;%20height:%2028px;%20left:%20120px;%20padding:%204px%204px%203px;%20position:%20absolute;%20top:%20112px;%20width:%20120px;%20background-color:%20rgb(250,%20250,%20250);%20border-right:%202px%20solid%20rgb(233,%20233,%20233);%22&gt;&lt;span%20style=%22text-overflow:%20ellipsis;%20overflow:%20hidden;%20white-space:%20nowrap;%20max-width:%20calc((100%25%20-%200px)%20-%200px);%22&gt;3&lt;/span&gt;&lt;div%20style=%22height:%20100%25;%20margin-left:%206px;%22&gt;&lt;/div&gt;&lt;/div&gt;&lt;div%20style=%22overflow:%20hidden;%20display:%20none;%20align-items:%20center;%20font-size:%2012px;%20height:%2028px;%20left:%200px;%20padding:%204px%204px%203px;%20position:%20absolute;%20top:%20140px;%20width:%20120px;%20font-weight:%20600;%22&gt;&lt;span%20style=%22text-overflow:%20ellipsis;%20overflow:%20hidden;%20white-space:%20nowrap;%20max-width:%20calc((100%25%20-%200px)%20-%200px);%22&gt;Risk_Equity&lt;/span&gt;&lt;div%20style=%22height:%20100%25;%20margin-left:%206px;%22&gt;&lt;/div&gt;&lt;/div&gt;&lt;div%20style=%22overflow:%20hidden;%20display:%20flex;%20align-items:%20center;%20font-size:%2012px;%20height:%2028px;%20left:%20120px;%20padding:%204px%204px%203px;%20position:%20absolute;%20top:%20140px;%20width:%20120px;%20border-right:%202px%20solid%20rgb(233,%20233,%20233);%22&gt;&lt;span%20style=%22text-overflow:%20ellipsis;%20overflow:%20hidden;%20white-space:%20nowrap;%20max-width:%20calc((100%25%20-%200px)%20-%200px);%22&gt;4&lt;/span&gt;&lt;div%20style=%22height:%20100%25;%20margin-left:%206px;%22&gt;&lt;/div&gt;&lt;/div&gt;&lt;div%20style=%22overflow:%20hidden;%20display:%20none;%20align-items:%20center;%20font-size:%2012px;%20height:%2028px;%20left:%200px;%20padding:%204px%204px%203px;%20position:%20absolute;%20top:%20168px;%20width:%20120px;%20font-weight:%20600;%22&gt;&lt;span%20style=%22text-overflow:%20ellipsis;%20overflow:%20hidden;%20white-space:%20nowrap;%20max-width:%20calc((100%25%20-%200px)%20-%200px);%22&gt;Risk_Equity&lt;/span&gt;&lt;div%20style=%22height:%20100%25;%20margin-left:%206px;%22&gt;&lt;/div&gt;&lt;/div&gt;&lt;div%20style=%22overflow:%20hidden;%20display:%20flex;%20align-items:%20center;%20font-size:%2012px;%20height:%2028px;%20left:%20120px;%20padding:%204px%204px%203px;%20position:%20absolute;%20top:%20168px;%20width:%20120px;%20background-color:%20rgb(250,%20250,%20250);%20border-right:%202px%20solid%20rgb(233,%20233,%20233);%22&gt;&lt;span%20style=%22text-overflow:%20ellipsis;%20overflow:%20hidden;%20white-space:%20nowrap;%20max-width:%20calc((100%25%20-%200px)%20-%200px);%22&gt;5&lt;/span&gt;&lt;div%20style=%22height:%20100%25;%20margin-left:%206px;%22&gt;&lt;/div&gt;&lt;/div&gt;&lt;div%20style=%22overflow:%20hidden;%20display:%20none;%20align-items:%20center;%20font-size:%2012px;%20height:%2028px;%20left:%200px;%20padding:%204px%204px%203px;%20position:%20absolute;%20top:%20196px;%20width:%20120px;%20font-weight:%20600;%22&gt;&lt;span%20style=%22text-overflow:%20ellipsis;%20overflow:%20hidden;%20white-space:%20nowrap;%20max-width:%20calc((100%25%20-%200px)%20-%200px);%22&gt;Risk_Equity&lt;/span&gt;&lt;div%20style=%22height:%20100%25;%20margin-left:%206px;%22&gt;&lt;/div&gt;&lt;/div&gt;&lt;div%20style=%22overflow:%20hidden;%20display:%20flex;%20align-items:%20center;%20font-size:%2012px;%20height:%2028px;%20left:%20120px;%20padding:%204px%204px%203px;%20position:%20absolute;%20top:%20196px;%20width:%20120px;%20border-right:%202px%20solid%20rgb(233,%20233,%20233);%22&gt;&lt;span%20style=%22text-overflow:%20ellipsis;%20overflow:%20hidden;%20white-space:%20nowrap;%20max-width:%20calc((100%25%20-%200px)%20-%200px);%22&gt;7&lt;/span&gt;&lt;div%20style=%22height:%20100%25;%20margin-left:%206px;%22&gt;&lt;/div&gt;&lt;/div&gt;&lt;div%20style=%22overflow:%20hidden;%20display:%20none;%20align-items:%20center;%20font-size:%2012px;%20height:%2028px;%20left:%200px;%20padding:%204px%204px%203px;%20position:%20absolute;%20top:%20224px;%20width:%20120px;%20font-weight:%20600;%22&gt;&lt;span%20style=%22text-overflow:%20ellipsis;%20overflow:%20hidden;%20white-space:%20nowrap;%20max-width:%20calc((100%25%20-%200px)%20-%200px);%22&gt;Risk_Equity&lt;/span&gt;&lt;div%20style=%22height:%20100%25;%20margin-left:%206px;%22&gt;&lt;/div&gt;&lt;/div&gt;&lt;div%20style=%22overflow:%20hidden;%20display:%20flex;%20align-items:%20center;%20font-size:%2012px;%20height:%2028px;%20left:%20120px;%20padding:%204px%204px%203px;%20position:%20absolute;%20top:%20224px;%20width:%20120px;%20background-color:%20rgb(250,%20250,%20250);%20border-right:%202px%20solid%20rgb(233,%20233,%20233);%22&gt;&lt;span%20style=%22text-overflow:%20ellipsis;%20overflow:%20hidden;%20white-space:%20nowrap;%20max-width:%20calc((100%25%20-%200px)%20-%200px);%22&gt;8&lt;/span&gt;&lt;div%20style=%22height:%20100%25;%20margin-left:%206px;%22&gt;&lt;/div&gt;&lt;/div&gt;&lt;div%20style=%22overflow:%20hidden;%20display:%20none;%20align-items:%20center;%20font-size:%2012px;%20height:%2028px;%20left:%200px;%20padding:%204px%204px%203px;%20position:%20absolute;%20top:%20252px;%20width:%20120px;%20font-weight:%20600;%22&gt;&lt;span%20style=%22text-overflow:%20ellipsis;%20overflow:%20hidden;%20white-space:%20nowrap;%20max-width:%20calc((100%25%20-%200px)%20-%200px);%22&gt;Risk_Equity&lt;/span&gt;&lt;div%20style=%22height:%20100%25;%20margin-left:%206px;%22&gt;&lt;/div&gt;&lt;/div&gt;&lt;div%20style=%22overflow:%20hidden;%20display:%20flex;%20align-items:%20center;%20font-size:%2012px;%20height:%2028px;%20left:%20120px;%20padding:%204px%204px%203px;%20position:%20absolute;%20top:%20252px;%20width:%20120px;%20border-right:%202px%20solid%20rgb(233,%20233,%20233);%22&gt;&lt;span%20style=%22text-overflow:%20ellipsis;%20overflow:%20hidden;%20white-space:%20nowrap;%20max-width:%20calc((100%25%20-%200px)%20-%200px);%22&gt;9&lt;/span&gt;&lt;div%20style=%22height:%20100%25;%20margin-left:%206px;%22&gt;&lt;/div&gt;&lt;/div&gt;&lt;div%20style=%22overflow:%20hidden;%20display:%20none;%20align-items:%20center;%20font-size:%2012px;%20height:%2028px;%20left:%200px;%20padding:%204px%204px%203px;%20position:%20absolute;%20top:%20280px;%20width:%20120px;%20font-weight:%20600;%22&gt;&lt;span%20style=%22text-overflow:%20ellipsis;%20overflow:%20hidden;%20white-space:%20nowrap;%20max-width:%20calc((100%25%20-%200px)%20-%200px);%22&gt;Risk_Equity&lt;/span&gt;&lt;div%20style=%22height:%20100%25;%20margin-left:%206px;%22&gt;&lt;/div&gt;&lt;/div&gt;&lt;div%20style=%22overflow:%20hidden;%20display:%20flex;%20align-items:%20center;%20font-size:%2012px;%20height:%2028px;%20left:%20120px;%20padding:%204px%204px%203px;%20position:%20absolute;%20top:%20280px;%20width:%20120px;%20background-color:%20rgb(250,%20250,%20250);%20border-right:%202px%20solid%20rgb(233,%20233,%20233);%22&gt;&lt;span%20style=%22text-overflow:%20ellipsis;%20overflow:%20hidden;%20white-space:%20nowrap;%20max-width:%20calc((100%25%20-%200px)%20-%200px);%22&gt;10&lt;/span&gt;&lt;div%20style=%22height:%20100%25;%20margin-left:%206px;%22&gt;&lt;/div&gt;&lt;/div&gt;&lt;div%20style=%22overflow:%20hidden;%20display:%20none;%20align-items:%20center;%20font-size:%2012px;%20height:%2028px;%20left:%200px;%20padding:%204px%204px%203px;%20position:%20absolute;%20top:%20308px;%20width:%20120px;%20font-weight:%20600;%22&gt;&lt;span%20style=%22text-overflow:%20ellipsis;%20overflow:%20hidden;%20white-space:%20nowrap;%20max-width:%20calc((100%25%20-%200px)%20-%200px);%22&gt;Risk_Equity&lt;/span&gt;&lt;div%20style=%22height:%20100%25;%20margin-left:%206px;%22&gt;&lt;/div&gt;&lt;/div&gt;&lt;div%20style=%22overflow:%20hidden;%20display:%20flex;%20align-items:%20center;%20font-size:%2012px;%20height:%2028px;%20left:%20120px;%20padding:%204px%204px%203px;%20position:%20absolute;%20top:%20308px;%20width:%20120px;%20border-right:%202px%20solid%20rgb(233,%20233,%20233);%22&gt;&lt;span%20style=%22text-overflow:%20ellipsis;%20overflow:%20hidden;%20white-space:%20nowrap;%20max-width:%20calc((100%25%20-%200px)%20-%200px);%22&gt;11&lt;/span&gt;&lt;div%20style=%22height:%20100%25;%20margin-left:%206px;%22&gt;&lt;/div&gt;&lt;/div&gt;&lt;div%20style=%22overflow:%20hidden;%20display:%20none;%20align-items:%20center;%20font-size:%2012px;%20height:%2028px;%20left:%200px;%20padding:%204px%204px%203px;%20position:%20absolute;%20top:%20336px;%20width:%20120px;%20font-weight:%20600;%22&gt;&lt;span%20style=%22text-overflow:%20ellipsis;%20overflow:%20hidden;%20white-space:%20nowrap;%20max-width:%20calc((100%25%20-%200px)%20-%200px);%22&gt;Risk_Equity&lt;/span&gt;&lt;div%20style=%22height:%20100%25;%20margin-left:%206px;%22&gt;&lt;/div&gt;&lt;/div&gt;&lt;div%20style=%22overflow:%20hidden;%20display:%20flex;%20align-items:%20center;%20font-size:%2012px;%20height:%2028px;%20left:%20120px;%20padding:%204px%204px%203px;%20position:%20absolute;%20top:%20336px;%20width:%20120px;%20background-color:%20rgb(250,%20250,%20250);%20border-right:%202px%20solid%20rgb(233,%20233,%20233);%22&gt;&lt;span%20style=%22text-overflow:%20ellipsis;%20overflow:%20hidden;%20white-space:%20nowrap;%20max-width:%20calc((100%25%20-%200px)%20-%200px);%22&gt;12&lt;/span&gt;&lt;div%20style=%22height:%20100%25;%20margin-left:%206px;%22&gt;&lt;/div&gt;&lt;/div&gt;&lt;/div&gt;&lt;/div&gt;&lt;/div&gt;&lt;div%20class=%22css-g26xr7-Table%22&gt;&lt;div%20class=%22css-jahlc4%22&gt;&lt;div%20class=%22css-1kgo9lt%22&gt;&lt;div%20style=%22overflow:%20hidden;%20display:%20flex;%20align-items:%20center;%20font-size:%2012px;%20height:%2028px;%20left:%200px;%20padding:%204px%204px%203px;%20position:%20absolute;%20top:%200px;%20width:%20120px;%20font-weight:%20600;%22&gt;&lt;span%20style=%22text-overflow:%20ellipsis;%20overflow:%20hidden;%20white-space:%20nowrap;%20max-width:%20calc((100%25%20-%200px)%20-%200px);%22&gt;AmountUSD.SUM&lt;/span&gt;&lt;div%20style=%22height:%20100%25;%20margin-left:%206px;%22&gt;&lt;/div&gt;&lt;/div&gt;&lt;div%20style=%22overflow:%20hidden;%20display:%20flex;%20align-items:%20center;%20font-size:%2012px;%20height:%2028px;%20left:%20120px;%20padding:%204px%204px%203px;%20position:%20absolute;%20top:%200px;%20width:%20120px;%20font-weight:%20600;%22&gt;&lt;span%20style=%22text-overflow:%20ellipsis;%20overflow:%20hidden;%20white-space:%20nowrap;%20max-width:%20calc((100%25%20-%200px)%20-%200px);%22&gt;contributors.COUNT&lt;/span&gt;&lt;div%20style=%22height:%20100%25;%20margin-left:%206px;%22&gt;&lt;/div&gt;&lt;/div&gt;&lt;/div&gt;&lt;/div&gt;&lt;div%20class=%22css-cpqcnz%22&gt;&lt;div%20class=%22css-p1232p%22&gt;&lt;div%20class=%22css-1lzltx4-TableCell%22%20style=%22font-size:%2012px;%20height:%2028px;%20left:%200px;%20padding:%204px%204px%203px;%20position:%20absolute;%20top:%200px;%20width:%20120px;%20text-align:%20right;%20border-right:%201px%20solid%20rgb(233,%20233,%20233);%22&gt;-13,094,165.64&lt;/div&gt;&lt;div%20class=%22css-1lzltx4-TableCell%22%20style=%22font-size:%2012px;%20height:%2028px;%20left:%20120px;%20padding:%204px%204px%203px;%20position:%20absolute;%20top:%200px;%20width:%20120px;%20text-align:%20right;%20border-right:%201px%20solid%20rgb(233,%20233,%20233);%22&gt;1,571&lt;/div&gt;&lt;div%20class=%22css-1lzltx4-TableCell%22%20style=%22font-size:%2012px;%20height:%2028px;%20left:%200px;%20padding:%204px%204px%203px;%20position:%20absolute;%20top:%2028px;%20width:%20120px;%20text-align:%20right;%20border-right:%201px%20solid%20rgb(233,%20233,%20233);%20border-top:%201px%20solid%20rgb(233,%20233,%20233);%22&gt;-13,094,165.64&lt;/div&gt;&lt;div%20class=%22css-1lzltx4-TableCell%22%20style=%22font-size:%2012px;%20height:%2028px;%20left:%20120px;%20padding:%204px%204px%203px;%20position:%20absolute;%20top:%2028px;%20width:%20120px;%20text-align:%20right;%20border-right:%201px%20solid%20rgb(233,%20233,%20233);%20border-top:%201px%20solid%20rgb(233,%20233,%20233);%22&gt;1,571&lt;/div&gt;&lt;div%20class=%22css-1lzltx4-TableCell%22%20style=%22font-size:%2012px;%20height:%2028px;%20left:%200px;%20padding:%204px%204px%203px;%20position:%20absolute;%20top:%2056px;%20width:%20120px;%20text-align:%20right;%20background-color:%20rgb(250,%20250,%20250);%20border-right:%201px%20solid%20rgb(233,%20233,%20233);%22&gt;-3,651,938.54&lt;/div&gt;&lt;div%20class=%22css-1lzltx4-TableCell%22%20style=%22font-size:%2012px;%20height:%2028px;%20left:%20120px;%20padding:%204px%204px%203px;%20position:%20absolute;%20top:%2056px;%20width:%20120px;%20text-align:%20right;%20background-color:%20rgb(250,%20250,%20250);%20border-right:%201px%20solid%20rgb(233,%20233,%20233);%22&gt;2&lt;/div&gt;&lt;div%20class=%22css-1lzltx4-TableCell%22%20style=%22font-size:%2012px;%20height:%2028px;%20left:%200px;%20padding:%204px%204px%203px;%20position:%20absolute;%20top:%2084px;%20width:%20120px;%20text-align:%20right;%20border-right:%201px%20solid%20rgb(233,%20233,%20233);%22&gt;-2,395,024.80&lt;/div&gt;&lt;div%20class=%22css-1lzltx4-TableCell%22%20style=%22font-size:%2012px;%20height:%2028px;%20left:%20120px;%20padding:%204px%204px%203px;%20position:%20absolute;%20top:%2084px;%20width:%20120px;%20text-align:%20right;%20border-right:%201px%20solid%20rgb(233,%20233,%20233);%22&gt;1,485&lt;/div&gt;&lt;div%20class=%22css-1lzltx4-TableCell%22%20style=%22font-size:%2012px;%20height:%2028px;%20left:%200px;%20padding:%204px%204px%203px;%20position:%20absolute;%20top:%20112px;%20width:%20120px;%20text-align:%20right;%20background-color:%20rgb(250,%20250,%20250);%20border-right:%201px%20solid%20rgb(233,%20233,%20233);%22&gt;-12,887.44&lt;/div&gt;&lt;div%20class=%22css-1lzltx4-TableCell%22%20style=%22font-size:%2012px;%20height:%2028px;%20left:%20120px;%20padding:%204px%204px%203px;%20position:%20absolute;%20top:%20112px;%20width:%20120px;%20text-align:%20right;%20background-color:%20rgb(250,%20250,%20250);%20border-right:%201px%20solid%20rgb(233,%20233,%20233);%22&gt;2&lt;/div&gt;&lt;div%20class=%22css-1lzltx4-TableCell%22%20style=%22font-size:%2012px;%20height:%2028px;%20left:%200px;%20padding:%204px%204px%203px;%20position:%20absolute;%20top:%20140px;%20width:%20120px;%20text-align:%20right;%20border-right:%201px%20solid%20rgb(233,%20233,%20233);%22&gt;-1,030,083.30&lt;/div&gt;&lt;div%20class=%22css-1lzltx4-TableCell%22%20style=%22font-size:%2012px;%20height:%2028px;%20left:%20120px;%20padding:%204px%204px%203px;%20position:%20absolute;%20top:%20140px;%20width:%20120px;%20text-align:%20right;%20border-right:%201px%20solid%20rgb(233,%20233,%20233);%22&gt;4&lt;/div&gt;&lt;div%20class=%22css-1lzltx4-TableCell%22%20style=%22font-size:%2012px;%20height:%2028px;%20left:%200px;%20padding:%204px%204px%203px;%20position:%20absolute;%20top:%20168px;%20width:%20120px;%20text-align:%20right;%20background-color:%20rgb(250,%20250,%20250);%20border-right:%201px%20solid%20rgb(233,%20233,%20233);%22&gt;1,443,720.07&lt;/div&gt;&lt;div%20class=%22css-1lzltx4-TableCell%22%20style=%22font-size:%2012px;%20height:%2028px;%20left:%20120px;%20padding:%204px%204px%203px;%20position:%20absolute;%20top:%20168px;%20width:%20120px;%20text-align:%20right;%20background-color:%20rgb(250,%20250,%20250);%20border-right:%201px%20solid%20rgb(233,%20233,%20233);%22&gt;18&lt;/div&gt;&lt;div%20class=%22css-1lzltx4-TableCell%22%20style=%22font-size:%2012px;%20height:%2028px;%20left:%200px;%20padding:%204px%204px%203px;%20position:%20absolute;%20top:%20196px;%20width:%20120px;%20text-align:%20right;%20border-right:%201px%20solid%20rgb(233,%20233,%20233);%22&gt;239,581.20&lt;/div&gt;&lt;div%20class=%22css-1lzltx4-TableCell%22%20style=%22font-size:%2012px;%20height:%2028px;%20left:%20120px;%20padding:%204px%204px%203px;%20position:%20absolute;%20top:%20196px;%20width:%20120px;%20text-align:%20right;%20border-right:%201px%20solid%20rgb(233,%20233,%20233);%22&gt;14&lt;/div&gt;&lt;div%20class=%22css-1lzltx4-TableCell%22%20style=%22font-size:%2012px;%20height:%2028px;%20left:%200px;%20padding:%204px%204px%203px;%20position:%20absolute;%20top:%20224px;%20width:%20120px;%20text-align:%20right;%20background-color:%20rgb(250,%20250,%20250);%20border-right:%201px%20solid%20rgb(233,%20233,%20233);%22&gt;-10,423,086.77&lt;/div&gt;&lt;div%20class=%22css-1lzltx4-TableCell%22%20style=%22font-size:%2012px;%20height:%2028px;%20left:%20120px;%20padding:%204px%204px%203px;%20position:%20absolute;%20top:%20224px;%20width:%20120px;%20text-align:%20right;%20background-color:%20rgb(250,%20250,%20250);%20border-right:%201px%20solid%20rgb(233,%20233,%20233);%22&gt;14&lt;/div&gt;&lt;div%20class=%22css-1lzltx4-TableCell%22%20style=%22font-size:%2012px;%20height:%2028px;%20left:%200px;%20padding:%204px%204px%203px;%20position:%20absolute;%20top:%20252px;%20width:%20120px;%20text-align:%20right;%20border-right:%201px%20solid%20rgb(233,%20233,%20233);%22&gt;1,103,113.66&lt;/div&gt;&lt;div%20class=%22css-1lzltx4-TableCell%22%20style=%22font-size:%2012px;%20height:%2028px;%20left:%20120px;%20padding:%204px%204px%203px;%20position:%20absolute;%20top:%20252px;%20width:%20120px;%20text-align:%20right;%20border-right:%201px%20solid%20rgb(233,%20233,%20233);%22&gt;14&lt;/div&gt;&lt;div%20class=%22css-1lzltx4-TableCell%22%20style=%22font-size:%2012px;%20height:%2028px;%20left:%200px;%20padding:%204px%204px%203px;%20position:%20absolute;%20top:%20280px;%20width:%20120px;%20text-align:%20right;%20background-color:%20rgb(250,%20250,%20250);%20border-right:%201px%20solid%20rgb(233,%20233,%20233);%22&gt;-5,652,387.70&lt;/div&gt;&lt;div%20class=%22css-1lzltx4-TableCell%22%20style=%22font-size:%2012px;%20height:%2028px;%20left:%20120px;%20padding:%204px%204px%203px;%20position:%20absolute;%20top:%20280px;%20width:%20120px;%20text-align:%20right;%20background-color:%20rgb(250,%20250,%20250);%20border-right:%201px%20solid%20rgb(233,%20233,%20233);%22&gt;8&lt;/div&gt;&lt;div%20class=%22css-1lzltx4-TableCell%22%20style=%22font-size:%2012px;%20height:%2028px;%20left:%200px;%20padding:%204px%204px%203px;%20position:%20absolute;%20top:%20308px;%20width:%20120px;%20text-align:%20right;%20border-right:%201px%20solid%20rgb(233,%20233,%20233);%22&gt;9,197,909.98&lt;/div&gt;&lt;div%20class=%22css-1lzltx4-TableCell%22%20style=%22font-size:%2012px;%20height:%2028px;%20left:%20120px;%20padding:%204px%204px%203px;%20position:%20absolute;%20top:%20308px;%20width:%20120px;%20text-align:%20right;%20border-right:%201px%20solid%20rgb(233,%20233,%20233);%22&gt;8&lt;/div&gt;&lt;div%20class=%22css-1lzltx4-TableCell%22%20style=%22font-size:%2012px;%20height:%2028px;%20left:%200px;%20padding:%204px%204px%203px;%20position:%20absolute;%20top:%20336px;%20width:%20120px;%20text-align:%20right;%20background-color:%20rgb(250,%20250,%20250);%20border-right:%201px%20solid%20rgb(233,%20233,%20233);%22&gt;-1,913,082.01&lt;/div&gt;&lt;div%20class=%22css-1lzltx4-TableCell%22%20style=%22font-size:%2012px;%20height:%2028px;%20left:%20120px;%20padding:%204px%204px%203px;%20position:%20absolute;%20top:%20336px;%20width:%20120px;%20text-align:%20right;%20background-color:%20rgb(250,%20250,%20250);%20border-right:%201px%20solid%20rgb(233,%20233,%20233);%22&gt;2&lt;/div&gt;&lt;/div&gt;&lt;/div&gt;&lt;/div&gt;&lt;/div&gt;&lt;/div&gt;&lt;/div&gt;&lt;/div&gt;&lt;/div&gt;&lt;/div&gt;%3C/div%3E%3C/foreignObject%3E%3C/svg%3E\">"
      ],
      "text/plain": [
       "Open the notebook in JupyterLab with the atoti extension installed and enabled to start editing this widget."
      ]
     },
     "metadata": {},
     "output_type": "display_data"
    }
   ],
   "source": [
    "session.visualize()"
   ]
  },
  {
   "cell_type": "code",
   "execution_count": 6,
   "metadata": {},
   "outputs": [],
   "source": [
    "# Let's create a first measure - to count distinct Qualifiers\n",
    "m[\"Distinct Qualifiers Count\"] = tt.agg.count_distinct(risks_store[\"Qualifier\"])"
   ]
  },
  {
   "cell_type": "code",
   "execution_count": 7,
   "metadata": {
    "atoti": {
     "widget": {
      "mapping": {
       "columns": [
        "ALL_MEASURES"
       ],
       "measures": [
        "[Measures].[Distinct Qualifiers Count]"
       ],
       "rows": []
      },
      "name": "",
      "query": {
       "context": {
        "queriesResultLimit.intermediateSize": 1000000,
        "queriesResultLimit.transientSize": 10000000
       },
       "mdx": "SELECT NON EMPTY [Measures].[Distinct Qualifiers Count] ON COLUMNS, NON EMPTY Hierarchize(DrilldownLevel([Risks].[Bucket].[ALL].[AllMember])) ON ROWS FROM [Risks] CELL PROPERTIES VALUE, FORMATTED_VALUE, BACK_COLOR, FORE_COLOR, FONT_FLAGS"
      },
      "serverKey": "default",
      "widgetKey": "pivot-table"
     }
    }
   },
   "outputs": [
    {
     "data": {
      "application/vnd.atoti.v0+json": {
       "name": null,
       "session": "Unnamed"
      },
      "text/html": [
       "<img src=\"data:image/svg+xml;charset=utf8,%3C?xml%20version=%221.0%22%20standalone=%22no%22?%3E%3Csvg%20xmlns=%22http://www.w3.org/2000/svg%22%20height=%22348%22%20width=%22978%22%3E%3CforeignObject%20width=%22100%25%22%20height=%22100%25%22%20x=%220%22%20y=%220%22%3E%3Cstyle%20type=%22text/css%22%3E*,%20::before,%20::after%20%7Bbox-sizing:%20unset%7D%0A.ant-root%20%5Bclass%5E=%22ant-%22%5D,%20.ant-root%20%5Bclass*=%22ant-%22%5D,%20.ant-root%20%5Bclass%5E=%22ant-%22%5D%20*,%20.ant-root%20%5Bclass*=%22ant-%22%5D%20*,%20.ant-root%20%5Bclass%5E=%22ant-%22%5D%20::before,%20.ant-root%20%5Bclass*=%22ant-%22%5D%20::before,%20.ant-root%20%5Bclass%5E=%22ant-%22%5D%20::after,%20.ant-root%20%5Bclass*=%22ant-%22%5D%20::after%20%7Bbox-sizing:%20border-box%7D%0A.ant-root%20html,%20.ant-root%20%7Bwidth:%20100%25;%20height:%20100%25%7D%0A.ant-root%20*,%20.ant-root%20::before,%20.ant-root%20::after%20%7Bbox-sizing:%20border-box%7D%0A.ant-root%20%7Bmargin-top:%200px;%20margin-right:%200px;%20margin-bottom:%200px;%20margin-left:%200px;%20color:%20rgb(89,%2089,%2089);%20font-size:%2012px;%20font-family:%20-apple-system,%20BlinkMacSystemFont,%20%22Segoe%20UI%22,%20Roboto,%20%22Helvetica%20Neue%22,%20Arial,%20%22Noto%20Sans%22,%20sans-serif,%20%22Apple%20Color%20Emoji%22,%20%22Segoe%20UI%20Emoji%22,%20%22Segoe%20UI%20Symbol%22,%20%22Noto%20Color%20Emoji%22;%20font-variant-ligatures:%20normal;%20font-variant-numeric:%20tabular-nums;%20font-variant-east-asian:%20normal;%20font-variant-caps:%20normal;%20line-height:%201.66667;%20background-color:%20rgb(255,%20255,%20255);%20--antd-wave-shadow-color:%20undefined;%20--scroll-bar:%20undefined%7D%0A.ant-root%20.ant-spin%20%7Bbox-sizing:%20border-box;%20margin-top:%200px;%20margin-right:%200px;%20margin-bottom:%200px;%20margin-left:%200px;%20padding-top:%200px;%20padding-right:%200px;%20padding-bottom:%200px;%20padding-left:%200px;%20font-size:%2012px;%20font-variant-ligatures:%20normal;%20font-variant-numeric:%20tabular-nums;%20font-variant-east-asian:%20normal;%20font-variant-caps:%20normal;%20line-height:%201.66667;%20list-style-position:%20initial;%20list-style-image:%20initial;%20list-style-type:%20none;%20position:%20absolute;%20display:%20none;%20color:%20rgb(0,%20174,%20239);%20text-align:%20center;%20vertical-align:%20middle;%20opacity:%200;%20transition-duration:%200.3s;%20transition-timing-function:%20cubic-bezier(0.78,%200.14,%200.15,%200.86);%20transition-delay:%200s;%20transition-property:%20transform%7D%0A.ant-root%20.ant-spin-spinning%20%7Bposition:%20static;%20display:%20inline-block;%20opacity:%201%7D%0A.ant-root%20.ant-spin-dot%20%7Bposition:%20relative;%20display:%20inline-block;%20font-size:%2020px;%20width:%201em;%20height:%201em%7D%0A.ant-root%20.ant-spin-dot-item%20%7Bposition:%20absolute;%20display:%20block;%20width:%209px;%20height:%209px;%20background-color:%20rgb(0,%20174,%20239);%20border-top-left-radius:%20100%25;%20border-top-right-radius:%20100%25;%20border-bottom-right-radius:%20100%25;%20border-bottom-left-radius:%20100%25;%20transform:%20scale(0.75);%20transform-origin:%2050%25%2050%25;%20opacity:%200.3;%20animation-duration:%201s;%20animation-timing-function:%20linear;%20animation-delay:%200s;%20animation-iteration-count:%20infinite;%20animation-direction:%20alternate;%20animation-fill-mode:%20none;%20animation-play-state:%20running;%20animation-name:%20antSpinMove%7D%0A.ant-root%20.ant-spin-dot-item:nth-child(1)%20%7Btop:%200px;%20left:%200px%7D%0A.ant-root%20.ant-spin-dot-item:nth-child(2)%20%7Btop:%200px;%20right:%200px;%20animation-delay:%200.4s%7D%0A.ant-root%20.ant-spin-dot-item:nth-child(3)%20%7Bright:%200px;%20bottom:%200px;%20animation-delay:%200.8s%7D%0A.ant-root%20.ant-spin-dot-item:nth-child(4)%20%7Bbottom:%200px;%20left:%200px;%20animation-delay:%201.2s%7D%0A.ant-root%20.ant-spin-dot-spin%20%7Btransform:%20rotate(45deg);%20animation-duration:%201.2s;%20animation-timing-function:%20linear;%20animation-delay:%200s;%20animation-iteration-count:%20infinite;%20animation-direction:%20normal;%20animation-fill-mode:%20none;%20animation-play-state:%20running;%20animation-name:%20antRotate%7D%0A.ant-root%20.ant-spin-lg%20.ant-spin-dot%20%7Bfont-size:%2032px%7D%0A.ant-root%20.ant-spin-lg%20.ant-spin-dot%20i%20%7Bwidth:%2014px;%20height:%2014px%7D%0A.css-12ebr42-AWidget%20%7Bheight:%20100%25%7D%0A.css-1e3kjgr-Spinner%20%7Bheight:%20100%25;%20position:%20relative%7D%0A.css-ck2xzt-Spinner%20%7B-webkit-box-align:%20center;%20align-items:%20center;%20background-image:%20initial;%20background-position-x:%20initial;%20background-position-y:%20initial;%20background-size:%20initial;%20background-repeat-x:%20initial;%20background-repeat-y:%20initial;%20background-attachment:%20initial;%20background-origin:%20initial;%20background-clip:%20initial;%20background-color:%20transparent;%20display:%20flex;%20height:%20100%25;%20-webkit-box-pack:%20center;%20justify-content:%20center;%20position:%20absolute;%20transition-duration:%20300ms;%20transition-timing-function:%20ease;%20transition-delay:%200s;%20transition-property:%20opacity;%20width:%20100%25;%20opacity:%200;%20pointer-events:%20none;%20z-index:%202%7D%0A.css-6s7z8y-Table%20%7Bpadding-bottom:%202px;%20padding-right:%202px;%20height:%20100%25%7D%0A.css-18k6uz5-Table%20%7Bcursor:%20cell;%20height:%20100%25;%20outline-color:%20initial;%20outline-style:%20none;%20outline-width:%20initial%7D%0A.css-16sdsf5-Table%20%7Bdisplay:%20flex;%20height:%20346px%7D%0A.css-9wvnih-Table%20%7Bborder-collapse:%20collapse;%20height:%2028px;%20width:%20120px%7D%0A.css-gy6esx%20%7Bheight:%2028px;%20width:%20120px%7D%0A.css-pu2plr%20%7Bheight:%2028px;%20overflow-x:%20hidden;%20overflow-y:%20hidden;%20position:%20relative;%20width:%20120px;%20border-right-width:%202px;%20border-right-style:%20solid;%20border-right-color:%20rgb(233,%20233,%20233)%7D%0A.css-cn3y95%20%7Bheight:%20318px;%20width:%20120px;%20overflow-x:%20hidden;%20overflow-y:%20auto%7D%0A.css-1h1itxp%20%7Bheight:%20336px;%20overflow-x:%20hidden;%20overflow-y:%20hidden;%20position:%20relative;%20width:%20120px;%20border-top-width:%202px;%20border-top-style:%20solid;%20border-top-color:%20rgb(233,%20233,%20233);%20border-right-width:%202px;%20border-right-style:%20solid;%20border-right-color:%20rgb(233,%20233,%20233)%7D%0A.css-nq0smp%20%7Bheight:%2028px;%20overflow-x:%20hidden;%20overflow-y:%20hidden;%20position:%20relative;%20width:%20120px%7D%0A.css-m8brnn%20%7Bheight:%20336px;%20overflow-x:%20hidden;%20overflow-y:%20hidden;%20position:%20relative;%20width:%20120px;%20border-top-width:%202px;%20border-top-style:%20solid;%20border-top-color:%20rgb(233,%20233,%20233)%7D%0A.css-1pdv37h-Table%20%7Bwidth:%20856px;%20border-collapse:%20collapse%7D%0A.css-1wksgdh%20%7Bheight:%2028px;%20width:%20838px;%20overflow-x:%20auto;%20overflow-y:%20hidden%7D%0A.css-1jgqjjn%20%7Bheight:%20318px;%20width:%20856px;%20overflow-x:%20auto;%20overflow-y:%20auto%7D%0A*%20%7B-ms-overflow-style:%20none;%20scrollbar-width:%20none%7D%0A*::-webkit-scrollbar%20%7Bdisplay:%20none%7D%3C/style%3E%3Cdiv%20xmlns=%22http://www.w3.org/1999/xhtml%22%20style=%22height:%20348px;%20width:%20978px;%22%3E&lt;div%20xmlns=%22http://www.w3.org/1999/xhtml%22%20class=%22ant-root%20css-0%22&gt;&lt;div%20class=%22ant-dropdown-trigger%20css-12ebr42-AWidget%22&gt;&lt;div%20class=%22css-1e3kjgr-Spinner%22&gt;&lt;div%20class=%22css-ck2xzt-Spinner%22&gt;&lt;div%20class=%22ant-spin%20ant-spin-lg%20ant-spin-spinning%22&gt;&lt;span%20class=%22ant-spin-dot%20ant-spin-dot-spin%22&gt;&lt;i%20class=%22ant-spin-dot-item%22&gt;&lt;/i&gt;&lt;i%20class=%22ant-spin-dot-item%22&gt;&lt;/i&gt;&lt;i%20class=%22ant-spin-dot-item%22&gt;&lt;/i&gt;&lt;i%20class=%22ant-spin-dot-item%22&gt;&lt;/i&gt;&lt;/span&gt;&lt;/div&gt;&lt;/div&gt;&lt;div%20class=%22css-6s7z8y-Table%22&gt;&lt;div%20tabindex=%220%22%20class=%22css-18k6uz5-Table%22&gt;&lt;div%20class=%22css-16sdsf5-Table%22&gt;&lt;div%20class=%22css-9wvnih-Table%22&gt;&lt;div%20class=%22css-gy6esx%22&gt;&lt;div%20class=%22css-pu2plr%22&gt;&lt;div%20style=%22font-size:%2012px;%20height:%2028px;%20left:%200px;%20padding:%204px%204px%203px;%20position:%20absolute;%20top:%200px;%20width:%20120px;%20font-weight:%20600;%22&gt;Bucket&lt;/div&gt;&lt;/div&gt;&lt;/div&gt;&lt;div%20class=%22css-cn3y95%22&gt;&lt;div%20class=%22css-1h1itxp%22&gt;&lt;div%20style=%22font-size:%2012px;%20font-weight:%20600;%20padding:%204px%204px%203px;%22&gt;Total&lt;/div&gt;&lt;div%20style=%22overflow:%20hidden;%20display:%20flex;%20align-items:%20center;%20font-size:%2012px;%20height:%2028px;%20left:%200px;%20padding:%204px%204px%203px;%20position:%20absolute;%20top:%2028px;%20width:%20120px;%20background-color:%20rgb(250,%20250,%20250);%20border-right:%202px%20solid%20rgb(233,%20233,%20233);%22&gt;&lt;span%20style=%22text-overflow:%20ellipsis;%20overflow:%20hidden;%20white-space:%20nowrap;%20max-width:%20calc((100%25%20-%200px)%20-%200px);%22&gt;1&lt;/span&gt;&lt;div%20style=%22height:%20100%25;%20margin-left:%206px;%22&gt;&lt;/div&gt;&lt;/div&gt;&lt;div%20style=%22overflow:%20hidden;%20display:%20flex;%20align-items:%20center;%20font-size:%2012px;%20height:%2028px;%20left:%200px;%20padding:%204px%204px%203px;%20position:%20absolute;%20top:%2056px;%20width:%20120px;%20border-right:%202px%20solid%20rgb(233,%20233,%20233);%22&gt;&lt;span%20style=%22text-overflow:%20ellipsis;%20overflow:%20hidden;%20white-space:%20nowrap;%20max-width:%20calc((100%25%20-%200px)%20-%200px);%22&gt;2&lt;/span&gt;&lt;div%20style=%22height:%20100%25;%20margin-left:%206px;%22&gt;&lt;/div&gt;&lt;/div&gt;&lt;div%20style=%22overflow:%20hidden;%20display:%20flex;%20align-items:%20center;%20font-size:%2012px;%20height:%2028px;%20left:%200px;%20padding:%204px%204px%203px;%20position:%20absolute;%20top:%2084px;%20width:%20120px;%20background-color:%20rgb(250,%20250,%20250);%20border-right:%202px%20solid%20rgb(233,%20233,%20233);%22&gt;&lt;span%20style=%22text-overflow:%20ellipsis;%20overflow:%20hidden;%20white-space:%20nowrap;%20max-width:%20calc((100%25%20-%200px)%20-%200px);%22&gt;3&lt;/span&gt;&lt;div%20style=%22height:%20100%25;%20margin-left:%206px;%22&gt;&lt;/div&gt;&lt;/div&gt;&lt;div%20style=%22overflow:%20hidden;%20display:%20flex;%20align-items:%20center;%20font-size:%2012px;%20height:%2028px;%20left:%200px;%20padding:%204px%204px%203px;%20position:%20absolute;%20top:%20112px;%20width:%20120px;%20border-right:%202px%20solid%20rgb(233,%20233,%20233);%22&gt;&lt;span%20style=%22text-overflow:%20ellipsis;%20overflow:%20hidden;%20white-space:%20nowrap;%20max-width:%20calc((100%25%20-%200px)%20-%200px);%22&gt;4&lt;/span&gt;&lt;div%20style=%22height:%20100%25;%20margin-left:%206px;%22&gt;&lt;/div&gt;&lt;/div&gt;&lt;div%20style=%22overflow:%20hidden;%20display:%20flex;%20align-items:%20center;%20font-size:%2012px;%20height:%2028px;%20left:%200px;%20padding:%204px%204px%203px;%20position:%20absolute;%20top:%20140px;%20width:%20120px;%20background-color:%20rgb(250,%20250,%20250);%20border-right:%202px%20solid%20rgb(233,%20233,%20233);%22&gt;&lt;span%20style=%22text-overflow:%20ellipsis;%20overflow:%20hidden;%20white-space:%20nowrap;%20max-width:%20calc((100%25%20-%200px)%20-%200px);%22&gt;5&lt;/span&gt;&lt;div%20style=%22height:%20100%25;%20margin-left:%206px;%22&gt;&lt;/div&gt;&lt;/div&gt;&lt;div%20style=%22overflow:%20hidden;%20display:%20flex;%20align-items:%20center;%20font-size:%2012px;%20height:%2028px;%20left:%200px;%20padding:%204px%204px%203px;%20position:%20absolute;%20top:%20168px;%20width:%20120px;%20border-right:%202px%20solid%20rgb(233,%20233,%20233);%22&gt;&lt;span%20style=%22text-overflow:%20ellipsis;%20overflow:%20hidden;%20white-space:%20nowrap;%20max-width:%20calc((100%25%20-%200px)%20-%200px);%22&gt;7&lt;/span&gt;&lt;div%20style=%22height:%20100%25;%20margin-left:%206px;%22&gt;&lt;/div&gt;&lt;/div&gt;&lt;div%20style=%22overflow:%20hidden;%20display:%20flex;%20align-items:%20center;%20font-size:%2012px;%20height:%2028px;%20left:%200px;%20padding:%204px%204px%203px;%20position:%20absolute;%20top:%20196px;%20width:%20120px;%20background-color:%20rgb(250,%20250,%20250);%20border-right:%202px%20solid%20rgb(233,%20233,%20233);%22&gt;&lt;span%20style=%22text-overflow:%20ellipsis;%20overflow:%20hidden;%20white-space:%20nowrap;%20max-width:%20calc((100%25%20-%200px)%20-%200px);%22&gt;8&lt;/span&gt;&lt;div%20style=%22height:%20100%25;%20margin-left:%206px;%22&gt;&lt;/div&gt;&lt;/div&gt;&lt;div%20style=%22overflow:%20hidden;%20display:%20flex;%20align-items:%20center;%20font-size:%2012px;%20height:%2028px;%20left:%200px;%20padding:%204px%204px%203px;%20position:%20absolute;%20top:%20224px;%20width:%20120px;%20border-right:%202px%20solid%20rgb(233,%20233,%20233);%22&gt;&lt;span%20style=%22text-overflow:%20ellipsis;%20overflow:%20hidden;%20white-space:%20nowrap;%20max-width:%20calc((100%25%20-%200px)%20-%200px);%22&gt;9&lt;/span&gt;&lt;div%20style=%22height:%20100%25;%20margin-left:%206px;%22&gt;&lt;/div&gt;&lt;/div&gt;&lt;div%20style=%22overflow:%20hidden;%20display:%20flex;%20align-items:%20center;%20font-size:%2012px;%20height:%2028px;%20left:%200px;%20padding:%204px%204px%203px;%20position:%20absolute;%20top:%20252px;%20width:%20120px;%20background-color:%20rgb(250,%20250,%20250);%20border-right:%202px%20solid%20rgb(233,%20233,%20233);%22&gt;&lt;span%20style=%22text-overflow:%20ellipsis;%20overflow:%20hidden;%20white-space:%20nowrap;%20max-width:%20calc((100%25%20-%200px)%20-%200px);%22&gt;10&lt;/span&gt;&lt;div%20style=%22height:%20100%25;%20margin-left:%206px;%22&gt;&lt;/div&gt;&lt;/div&gt;&lt;div%20style=%22overflow:%20hidden;%20display:%20flex;%20align-items:%20center;%20font-size:%2012px;%20height:%2028px;%20left:%200px;%20padding:%204px%204px%203px;%20position:%20absolute;%20top:%20280px;%20width:%20120px;%20border-right:%202px%20solid%20rgb(233,%20233,%20233);%22&gt;&lt;span%20style=%22text-overflow:%20ellipsis;%20overflow:%20hidden;%20white-space:%20nowrap;%20max-width:%20calc((100%25%20-%200px)%20-%200px);%22&gt;11&lt;/span&gt;&lt;div%20style=%22height:%20100%25;%20margin-left:%206px;%22&gt;&lt;/div&gt;&lt;/div&gt;&lt;div%20style=%22overflow:%20hidden;%20display:%20flex;%20align-items:%20center;%20font-size:%2012px;%20height:%2028px;%20left:%200px;%20padding:%204px%204px%203px;%20position:%20absolute;%20top:%20308px;%20width:%20120px;%20background-color:%20rgb(250,%20250,%20250);%20border-right:%202px%20solid%20rgb(233,%20233,%20233);%22&gt;&lt;span%20style=%22text-overflow:%20ellipsis;%20overflow:%20hidden;%20white-space:%20nowrap;%20max-width:%20calc((100%25%20-%200px)%20-%200px);%22&gt;12&lt;/span&gt;&lt;div%20style=%22height:%20100%25;%20margin-left:%206px;%22&gt;&lt;/div&gt;&lt;/div&gt;&lt;/div&gt;&lt;/div&gt;&lt;/div&gt;&lt;div%20class=%22css-1pdv37h-Table%22&gt;&lt;div%20class=%22css-1wksgdh%22&gt;&lt;div%20class=%22css-nq0smp%22&gt;&lt;div%20style=%22overflow:%20hidden;%20display:%20flex;%20align-items:%20center;%20font-size:%2012px;%20height:%2028px;%20left:%200px;%20padding:%204px%204px%203px;%20position:%20absolute;%20top:%200px;%20width:%20120px;%20font-weight:%20600;%22&gt;&lt;span%20style=%22text-overflow:%20ellipsis;%20overflow:%20hidden;%20white-space:%20nowrap;%20max-width:%20calc((100%25%20-%200px)%20-%200px);%22&gt;Distinct%20Qualifiers%20Count&lt;/span&gt;&lt;div%20style=%22height:%20100%25;%20margin-left:%206px;%22&gt;&lt;/div&gt;&lt;/div&gt;&lt;/div&gt;&lt;/div&gt;&lt;div%20class=%22css-1jgqjjn%22&gt;&lt;div%20class=%22css-m8brnn%22&gt;&lt;div%20class=%22css-1lzltx4-TableCell%22%20style=%22font-size:%2012px;%20height:%2028px;%20left:%200px;%20padding:%204px%204px%203px;%20position:%20absolute;%20top:%200px;%20width:%20120px;%20text-align:%20right;%20border-right:%201px%20solid%20rgb(233,%20233,%20233);%22&gt;1,044&lt;/div&gt;&lt;div%20class=%22css-1lzltx4-TableCell%22%20style=%22font-size:%2012px;%20height:%2028px;%20left:%200px;%20padding:%204px%204px%203px;%20position:%20absolute;%20top:%2028px;%20width:%20120px;%20text-align:%20right;%20background-color:%20rgb(250,%20250,%20250);%20border-right:%201px%20solid%20rgb(233,%20233,%20233);%22&gt;1&lt;/div&gt;&lt;div%20class=%22css-1lzltx4-TableCell%22%20style=%22font-size:%2012px;%20height:%2028px;%20left:%200px;%20padding:%204px%204px%203px;%20position:%20absolute;%20top:%2056px;%20width:%20120px;%20text-align:%20right;%20border-right:%201px%20solid%20rgb(233,%20233,%20233);%22&gt;1,000&lt;/div&gt;&lt;div%20class=%22css-1lzltx4-TableCell%22%20style=%22font-size:%2012px;%20height:%2028px;%20left:%200px;%20padding:%204px%204px%203px;%20position:%20absolute;%20top:%2084px;%20width:%20120px;%20text-align:%20right;%20background-color:%20rgb(250,%20250,%20250);%20border-right:%201px%20solid%20rgb(233,%20233,%20233);%22&gt;1&lt;/div&gt;&lt;div%20class=%22css-1lzltx4-TableCell%22%20style=%22font-size:%2012px;%20height:%2028px;%20left:%200px;%20padding:%204px%204px%203px;%20position:%20absolute;%20top:%20112px;%20width:%20120px;%20text-align:%20right;%20border-right:%201px%20solid%20rgb(233,%20233,%20233);%22&gt;2&lt;/div&gt;&lt;div%20class=%22css-1lzltx4-TableCell%22%20style=%22font-size:%2012px;%20height:%2028px;%20left:%200px;%20padding:%204px%204px%203px;%20position:%20absolute;%20top:%20140px;%20width:%20120px;%20text-align:%20right;%20background-color:%20rgb(250,%20250,%20250);%20border-right:%201px%20solid%20rgb(233,%20233,%20233);%22&gt;9&lt;/div&gt;&lt;div%20class=%22css-1lzltx4-TableCell%22%20style=%22font-size:%2012px;%20height:%2028px;%20left:%200px;%20padding:%204px%204px%203px;%20position:%20absolute;%20top:%20168px;%20width:%20120px;%20text-align:%20right;%20border-right:%201px%20solid%20rgb(233,%20233,%20233);%22&gt;8&lt;/div&gt;&lt;div%20class=%22css-1lzltx4-TableCell%22%20style=%22font-size:%2012px;%20height:%2028px;%20left:%200px;%20padding:%204px%204px%203px;%20position:%20absolute;%20top:%20196px;%20width:%20120px;%20text-align:%20right;%20background-color:%20rgb(250,%20250,%20250);%20border-right:%201px%20solid%20rgb(233,%20233,%20233);%22&gt;7&lt;/div&gt;&lt;div%20class=%22css-1lzltx4-TableCell%22%20style=%22font-size:%2012px;%20height:%2028px;%20left:%200px;%20padding:%204px%204px%203px;%20position:%20absolute;%20top:%20224px;%20width:%20120px;%20text-align:%20right;%20border-right:%201px%20solid%20rgb(233,%20233,%20233);%22&gt;7&lt;/div&gt;&lt;div%20class=%22css-1lzltx4-TableCell%22%20style=%22font-size:%2012px;%20height:%2028px;%20left:%200px;%20padding:%204px%204px%203px;%20position:%20absolute;%20top:%20252px;%20width:%20120px;%20text-align:%20right;%20background-color:%20rgb(250,%20250,%20250);%20border-right:%201px%20solid%20rgb(233,%20233,%20233);%22&gt;4&lt;/div&gt;&lt;div%20class=%22css-1lzltx4-TableCell%22%20style=%22font-size:%2012px;%20height:%2028px;%20left:%200px;%20padding:%204px%204px%203px;%20position:%20absolute;%20top:%20280px;%20width:%20120px;%20text-align:%20right;%20border-right:%201px%20solid%20rgb(233,%20233,%20233);%22&gt;4&lt;/div&gt;&lt;div%20class=%22css-1lzltx4-TableCell%22%20style=%22font-size:%2012px;%20height:%2028px;%20left:%200px;%20padding:%204px%204px%203px;%20position:%20absolute;%20top:%20308px;%20width:%20120px;%20text-align:%20right;%20background-color:%20rgb(250,%20250,%20250);%20border-right:%201px%20solid%20rgb(233,%20233,%20233);%22&gt;1&lt;/div&gt;&lt;/div&gt;&lt;/div&gt;&lt;/div&gt;&lt;/div&gt;&lt;/div&gt;&lt;/div&gt;&lt;/div&gt;&lt;/div&gt;&lt;/div&gt;%3C/div%3E%3C/foreignObject%3E%3C/svg%3E\">"
      ],
      "text/plain": [
       "Open the notebook in JupyterLab with the atoti extension installed and enabled to start editing this widget."
      ]
     },
     "metadata": {},
     "output_type": "display_data"
    }
   ],
   "source": [
    "session.visualize()"
   ]
  },
  {
   "cell_type": "markdown",
   "metadata": {},
   "source": [
    "# Risk weights datastore"
   ]
  },
  {
   "cell_type": "code",
   "execution_count": 8,
   "metadata": {},
   "outputs": [],
   "source": [
    "# the risk weights data store is created from a csv:\n",
    "eq_delta_risk_weights_store = session.read_csv(\n",
    "    \"s3://data.atoti.io/notebooks/sbm/parameters/eq_delta_rw.csv\",\n",
    "    keys=[\"Bucket\", \"Label2\"],\n",
    "    store_name=\"RiskWeights\",\n",
    ")\n",
    "\n",
    "# risks store is joined with the risk weights store\n",
    "risks_store.join(eq_delta_risk_weights_store)"
   ]
  },
  {
   "cell_type": "code",
   "execution_count": 9,
   "metadata": {},
   "outputs": [
    {
     "data": {
      "text/html": [
       "<div>\n",
       "<style scoped>\n",
       "    .dataframe tbody tr th:only-of-type {\n",
       "        vertical-align: middle;\n",
       "    }\n",
       "\n",
       "    .dataframe tbody tr th {\n",
       "        vertical-align: top;\n",
       "    }\n",
       "\n",
       "    .dataframe thead th {\n",
       "        text-align: right;\n",
       "    }\n",
       "</style>\n",
       "<table border=\"1\" class=\"dataframe\">\n",
       "  <thead>\n",
       "    <tr style=\"text-align: right;\">\n",
       "      <th></th>\n",
       "      <th></th>\n",
       "      <th>RW</th>\n",
       "    </tr>\n",
       "    <tr>\n",
       "      <th>Bucket</th>\n",
       "      <th>Label2</th>\n",
       "      <th></th>\n",
       "    </tr>\n",
       "  </thead>\n",
       "  <tbody>\n",
       "    <tr>\n",
       "      <th>1</th>\n",
       "      <th>SPOT</th>\n",
       "      <td>0.55</td>\n",
       "    </tr>\n",
       "    <tr>\n",
       "      <th>2</th>\n",
       "      <th>SPOT</th>\n",
       "      <td>0.60</td>\n",
       "    </tr>\n",
       "    <tr>\n",
       "      <th>3</th>\n",
       "      <th>SPOT</th>\n",
       "      <td>0.45</td>\n",
       "    </tr>\n",
       "    <tr>\n",
       "      <th>4</th>\n",
       "      <th>SPOT</th>\n",
       "      <td>0.55</td>\n",
       "    </tr>\n",
       "    <tr>\n",
       "      <th>5</th>\n",
       "      <th>SPOT</th>\n",
       "      <td>0.30</td>\n",
       "    </tr>\n",
       "  </tbody>\n",
       "</table>\n",
       "</div>"
      ],
      "text/plain": [
       "                 RW\n",
       "Bucket Label2      \n",
       "1      SPOT    0.55\n",
       "2      SPOT    0.60\n",
       "3      SPOT    0.45\n",
       "4      SPOT    0.55\n",
       "5      SPOT    0.30"
      ]
     },
     "execution_count": 9,
     "metadata": {},
     "output_type": "execute_result"
    }
   ],
   "source": [
    "eq_delta_risk_weights_store.head(5)"
   ]
  },
  {
   "cell_type": "code",
   "execution_count": 10,
   "metadata": {},
   "outputs": [
    {
     "data": {
      "image/svg+xml": [
       "<svg xmlns=\"http://www.w3.org/2000/svg\" xmlns:xlink=\"http://www.w3.org/1999/xlink\" width=\"457px\" height=\"210px\" viewBox=\"0.00 0.00 457.00 210.00\">\n",
       "<g id=\"graph0\" class=\"graph\" transform=\"scale(1.0 1.0) rotate(0) translate(4 206)\">\n",
       "<title>Risks schema</title>\n",
       "<polygon fill=\"white\" stroke=\"none\" points=\"-4,4 -4,-206 453,-206 453,4 -4,4\"/>\n",
       "<!-- Risks -->\n",
       "<g id=\"node1\" class=\"node\"><title>Risks</title>\n",
       "<text text-anchor=\"start\" x=\"70.5\" y=\"-182.6\" font-family=\"-apple-system, BlinkMacSystemFont, 'Segoe UI', Helvetica, Arial, sans-serif, 'Apple Color Emoji', 'Segoe UI Emoji', 'Segoe UI Symbol'\" font-weight=\"bold\" font-size=\"13.00\">Risks</text>\n",
       "<polygon fill=\"#f5f5f5\" stroke=\"none\" points=\"9.5,-149 9.5,-173 40.5,-173 40.5,-149 9.5,-149\"/>\n",
       "<text text-anchor=\"start\" x=\"14.5\" y=\"-158.6\" font-family=\"-apple-system, BlinkMacSystemFont, 'Segoe UI', Helvetica, Arial, sans-serif, 'Apple Color Emoji', 'Segoe UI Emoji', 'Segoe UI Symbol'\" font-weight=\"bold\" font-size=\"13.00\">key</text>\n",
       "<polygon fill=\"#f5f5f5\" stroke=\"none\" points=\"40.5,-149 40.5,-173 117.5,-173 117.5,-149 40.5,-149\"/>\n",
       "<text text-anchor=\"start\" x=\"45.5\" y=\"-157.6\" font-family=\"-apple-system, BlinkMacSystemFont, 'Segoe UI', Helvetica, Arial, sans-serif, 'Apple Color Emoji', 'Segoe UI Emoji', 'Segoe UI Symbol'\" font-size=\"13.00\">TradeID</text>\n",
       "<polygon fill=\"#f5f5f5\" stroke=\"none\" points=\"117.5,-149 117.5,-173 164.5,-173 164.5,-149 117.5,-149\"/>\n",
       "<text text-anchor=\"start\" x=\"126.5\" y=\"-158.6\" font-family=\"-apple-system, BlinkMacSystemFont, 'Segoe UI', Helvetica, Arial, sans-serif, 'Apple Color Emoji', 'Segoe UI Emoji', 'Segoe UI Symbol'\" font-style=\"italic\" font-size=\"13.00\">String</text>\n",
       "<polygon fill=\"#ffffff\" stroke=\"none\" points=\"9.5,-125 9.5,-149 40.5,-149 40.5,-125 9.5,-125\"/>\n",
       "<text text-anchor=\"start\" x=\"14.5\" y=\"-134.6\" font-family=\"-apple-system, BlinkMacSystemFont, 'Segoe UI', Helvetica, Arial, sans-serif, 'Apple Color Emoji', 'Segoe UI Emoji', 'Segoe UI Symbol'\" font-weight=\"bold\" font-size=\"13.00\">key</text>\n",
       "<polygon fill=\"#ffffff\" stroke=\"none\" points=\"40.5,-125 40.5,-149 117.5,-149 117.5,-125 40.5,-125\"/>\n",
       "<text text-anchor=\"start\" x=\"45.5\" y=\"-133.6\" font-family=\"-apple-system, BlinkMacSystemFont, 'Segoe UI', Helvetica, Arial, sans-serif, 'Apple Color Emoji', 'Segoe UI Emoji', 'Segoe UI Symbol'\" font-size=\"13.00\">RiskType</text>\n",
       "<polygon fill=\"#ffffff\" stroke=\"none\" points=\"117.5,-125 117.5,-149 164.5,-149 164.5,-125 117.5,-125\"/>\n",
       "<text text-anchor=\"start\" x=\"126.5\" y=\"-134.6\" font-family=\"-apple-system, BlinkMacSystemFont, 'Segoe UI', Helvetica, Arial, sans-serif, 'Apple Color Emoji', 'Segoe UI Emoji', 'Segoe UI Symbol'\" font-style=\"italic\" font-size=\"13.00\">String</text>\n",
       "<polygon fill=\"#f5f5f5\" stroke=\"none\" points=\"9.5,-101 9.5,-125 40.5,-125 40.5,-101 9.5,-101\"/>\n",
       "<text text-anchor=\"start\" x=\"14.5\" y=\"-110.6\" font-family=\"-apple-system, BlinkMacSystemFont, 'Segoe UI', Helvetica, Arial, sans-serif, 'Apple Color Emoji', 'Segoe UI Emoji', 'Segoe UI Symbol'\" font-weight=\"bold\" font-size=\"13.00\">key</text>\n",
       "<polygon fill=\"#f5f5f5\" stroke=\"none\" points=\"40.5,-101 40.5,-125 117.5,-125 117.5,-101 40.5,-101\"/>\n",
       "<text text-anchor=\"start\" x=\"45.5\" y=\"-109.6\" font-family=\"-apple-system, BlinkMacSystemFont, 'Segoe UI', Helvetica, Arial, sans-serif, 'Apple Color Emoji', 'Segoe UI Emoji', 'Segoe UI Symbol'\" font-size=\"13.00\">Qualifier</text>\n",
       "<polygon fill=\"#f5f5f5\" stroke=\"none\" points=\"117.5,-101 117.5,-125 164.5,-125 164.5,-101 117.5,-101\"/>\n",
       "<text text-anchor=\"start\" x=\"126.5\" y=\"-110.6\" font-family=\"-apple-system, BlinkMacSystemFont, 'Segoe UI', Helvetica, Arial, sans-serif, 'Apple Color Emoji', 'Segoe UI Emoji', 'Segoe UI Symbol'\" font-style=\"italic\" font-size=\"13.00\">String</text>\n",
       "<polygon fill=\"#ffffff\" stroke=\"none\" points=\"9.5,-77 9.5,-101 40.5,-101 40.5,-77 9.5,-77\"/>\n",
       "<text text-anchor=\"start\" x=\"14.5\" y=\"-86.6\" font-family=\"-apple-system, BlinkMacSystemFont, 'Segoe UI', Helvetica, Arial, sans-serif, 'Apple Color Emoji', 'Segoe UI Emoji', 'Segoe UI Symbol'\" font-weight=\"bold\" font-size=\"13.00\">key</text>\n",
       "<polygon fill=\"#ffffff\" stroke=\"none\" points=\"40.5,-77 40.5,-101 117.5,-101 117.5,-77 40.5,-77\"/>\n",
       "<text text-anchor=\"start\" x=\"45.5\" y=\"-85.6\" font-family=\"-apple-system, BlinkMacSystemFont, 'Segoe UI', Helvetica, Arial, sans-serif, 'Apple Color Emoji', 'Segoe UI Emoji', 'Segoe UI Symbol'\" font-size=\"13.00\">Label2</text>\n",
       "<polygon fill=\"#ffffff\" stroke=\"none\" points=\"117.5,-77 117.5,-101 164.5,-101 164.5,-77 117.5,-77\"/>\n",
       "<text text-anchor=\"start\" x=\"126.5\" y=\"-86.6\" font-family=\"-apple-system, BlinkMacSystemFont, 'Segoe UI', Helvetica, Arial, sans-serif, 'Apple Color Emoji', 'Segoe UI Emoji', 'Segoe UI Symbol'\" font-style=\"italic\" font-size=\"13.00\">String</text>\n",
       "<polygon fill=\"#f5f5f5\" stroke=\"none\" points=\"9.5,-53 9.5,-77 40.5,-77 40.5,-53 9.5,-53\"/>\n",
       "<polygon fill=\"#f5f5f5\" stroke=\"none\" points=\"40.5,-53 40.5,-77 117.5,-77 117.5,-53 40.5,-53\"/>\n",
       "<text text-anchor=\"start\" x=\"45.5\" y=\"-61.6\" font-family=\"-apple-system, BlinkMacSystemFont, 'Segoe UI', Helvetica, Arial, sans-serif, 'Apple Color Emoji', 'Segoe UI Emoji', 'Segoe UI Symbol'\" font-size=\"13.00\">AmountUSD</text>\n",
       "<polygon fill=\"#f5f5f5\" stroke=\"none\" points=\"117.5,-53 117.5,-77 164.5,-77 164.5,-53 117.5,-53\"/>\n",
       "<text text-anchor=\"start\" x=\"122.5\" y=\"-62.6\" font-family=\"-apple-system, BlinkMacSystemFont, 'Segoe UI', Helvetica, Arial, sans-serif, 'Apple Color Emoji', 'Segoe UI Emoji', 'Segoe UI Symbol'\" font-style=\"italic\" font-size=\"13.00\">double</text>\n",
       "<polygon fill=\"#ffffff\" stroke=\"none\" points=\"9.5,-29 9.5,-53 40.5,-53 40.5,-29 9.5,-29\"/>\n",
       "<polygon fill=\"#ffffff\" stroke=\"none\" points=\"40.5,-29 40.5,-53 117.5,-53 117.5,-29 40.5,-29\"/>\n",
       "<text text-anchor=\"start\" x=\"45.5\" y=\"-37.6\" font-family=\"-apple-system, BlinkMacSystemFont, 'Segoe UI', Helvetica, Arial, sans-serif, 'Apple Color Emoji', 'Segoe UI Emoji', 'Segoe UI Symbol'\" font-size=\"13.00\">Bucket</text>\n",
       "<polygon fill=\"#ffffff\" stroke=\"none\" points=\"117.5,-29 117.5,-53 164.5,-53 164.5,-29 117.5,-29\"/>\n",
       "<text text-anchor=\"start\" x=\"145.5\" y=\"-38.6\" font-family=\"-apple-system, BlinkMacSystemFont, 'Segoe UI', Helvetica, Arial, sans-serif, 'Apple Color Emoji', 'Segoe UI Emoji', 'Segoe UI Symbol'\" font-style=\"italic\" font-size=\"13.00\">int</text>\n",
       "<polygon fill=\"#f5f5f5\" stroke=\"none\" points=\"9.5,-5 9.5,-29 40.5,-29 40.5,-5 9.5,-5\"/>\n",
       "<text text-anchor=\"start\" x=\"14.5\" y=\"-14.6\" font-family=\"-apple-system, BlinkMacSystemFont, 'Segoe UI', Helvetica, Arial, sans-serif, 'Apple Color Emoji', 'Segoe UI Emoji', 'Segoe UI Symbol'\" font-weight=\"bold\" font-size=\"13.00\">key</text>\n",
       "<polygon fill=\"#f5f5f5\" stroke=\"none\" points=\"40.5,-5 40.5,-29 117.5,-29 117.5,-5 40.5,-5\"/>\n",
       "<text text-anchor=\"start\" x=\"45.5\" y=\"-13.6\" font-family=\"-apple-system, BlinkMacSystemFont, 'Segoe UI', Helvetica, Arial, sans-serif, 'Apple Color Emoji', 'Segoe UI Emoji', 'Segoe UI Symbol'\" font-size=\"13.00\">PortfolioID</text>\n",
       "<polygon fill=\"#f5f5f5\" stroke=\"none\" points=\"117.5,-5 117.5,-29 164.5,-29 164.5,-5 117.5,-5\"/>\n",
       "<text text-anchor=\"start\" x=\"126.5\" y=\"-14.6\" font-family=\"-apple-system, BlinkMacSystemFont, 'Segoe UI', Helvetica, Arial, sans-serif, 'Apple Color Emoji', 'Segoe UI Emoji', 'Segoe UI Symbol'\" font-style=\"italic\" font-size=\"13.00\">String</text>\n",
       "<polygon fill=\"none\" stroke=\"black\" points=\"8,-4 8,-198 165,-198 165,-4 8,-4\"/>\n",
       "</g>\n",
       "<!-- RiskWeights -->\n",
       "<g id=\"node2\" class=\"node\"><title>RiskWeights</title>\n",
       "<text text-anchor=\"start\" x=\"339.5\" y=\"-134.6\" font-family=\"-apple-system, BlinkMacSystemFont, 'Segoe UI', Helvetica, Arial, sans-serif, 'Apple Color Emoji', 'Segoe UI Emoji', 'Segoe UI Symbol'\" font-weight=\"bold\" font-size=\"13.00\">RiskWeights</text>\n",
       "<polygon fill=\"#f5f5f5\" stroke=\"none\" points=\"314,-101 314,-125 345,-125 345,-101 314,-101\"/>\n",
       "<text text-anchor=\"start\" x=\"319\" y=\"-110.6\" font-family=\"-apple-system, BlinkMacSystemFont, 'Segoe UI', Helvetica, Arial, sans-serif, 'Apple Color Emoji', 'Segoe UI Emoji', 'Segoe UI Symbol'\" font-weight=\"bold\" font-size=\"13.00\">key</text>\n",
       "<polygon fill=\"#f5f5f5\" stroke=\"none\" points=\"345,-101 345,-125 393,-125 393,-101 345,-101\"/>\n",
       "<text text-anchor=\"start\" x=\"350\" y=\"-109.6\" font-family=\"-apple-system, BlinkMacSystemFont, 'Segoe UI', Helvetica, Arial, sans-serif, 'Apple Color Emoji', 'Segoe UI Emoji', 'Segoe UI Symbol'\" font-size=\"13.00\">Bucket</text>\n",
       "<polygon fill=\"#f5f5f5\" stroke=\"none\" points=\"393,-101 393,-125 440,-125 440,-101 393,-101\"/>\n",
       "<text text-anchor=\"start\" x=\"421\" y=\"-110.6\" font-family=\"-apple-system, BlinkMacSystemFont, 'Segoe UI', Helvetica, Arial, sans-serif, 'Apple Color Emoji', 'Segoe UI Emoji', 'Segoe UI Symbol'\" font-style=\"italic\" font-size=\"13.00\">int</text>\n",
       "<polygon fill=\"#ffffff\" stroke=\"none\" points=\"314,-77 314,-101 345,-101 345,-77 314,-77\"/>\n",
       "<text text-anchor=\"start\" x=\"319\" y=\"-86.6\" font-family=\"-apple-system, BlinkMacSystemFont, 'Segoe UI', Helvetica, Arial, sans-serif, 'Apple Color Emoji', 'Segoe UI Emoji', 'Segoe UI Symbol'\" font-weight=\"bold\" font-size=\"13.00\">key</text>\n",
       "<polygon fill=\"#ffffff\" stroke=\"none\" points=\"345,-77 345,-101 393,-101 393,-77 345,-77\"/>\n",
       "<text text-anchor=\"start\" x=\"350\" y=\"-85.6\" font-family=\"-apple-system, BlinkMacSystemFont, 'Segoe UI', Helvetica, Arial, sans-serif, 'Apple Color Emoji', 'Segoe UI Emoji', 'Segoe UI Symbol'\" font-size=\"13.00\">Label2</text>\n",
       "<polygon fill=\"#ffffff\" stroke=\"none\" points=\"393,-77 393,-101 440,-101 440,-77 393,-77\"/>\n",
       "<text text-anchor=\"start\" x=\"402\" y=\"-86.6\" font-family=\"-apple-system, BlinkMacSystemFont, 'Segoe UI', Helvetica, Arial, sans-serif, 'Apple Color Emoji', 'Segoe UI Emoji', 'Segoe UI Symbol'\" font-style=\"italic\" font-size=\"13.00\">String</text>\n",
       "<polygon fill=\"#f5f5f5\" stroke=\"none\" points=\"314,-53 314,-77 345,-77 345,-53 314,-53\"/>\n",
       "<polygon fill=\"#f5f5f5\" stroke=\"none\" points=\"345,-53 345,-77 393,-77 393,-53 345,-53\"/>\n",
       "<text text-anchor=\"start\" x=\"350\" y=\"-61.6\" font-family=\"-apple-system, BlinkMacSystemFont, 'Segoe UI', Helvetica, Arial, sans-serif, 'Apple Color Emoji', 'Segoe UI Emoji', 'Segoe UI Symbol'\" font-size=\"13.00\">RW</text>\n",
       "<polygon fill=\"#f5f5f5\" stroke=\"none\" points=\"393,-53 393,-77 440,-77 440,-53 393,-53\"/>\n",
       "<text text-anchor=\"start\" x=\"398\" y=\"-62.6\" font-family=\"-apple-system, BlinkMacSystemFont, 'Segoe UI', Helvetica, Arial, sans-serif, 'Apple Color Emoji', 'Segoe UI Emoji', 'Segoe UI Symbol'\" font-style=\"italic\" font-size=\"13.00\">double</text>\n",
       "<polygon fill=\"none\" stroke=\"black\" points=\"313,-52 313,-150 441,-150 441,-52 313,-52\"/>\n",
       "</g>\n",
       "<!-- Risks&#45;&gt;RiskWeights -->\n",
       "<g id=\"edge1\" class=\"edge\"><title>Risks-&gt;RiskWeights</title>\n",
       "<path fill=\"none\" stroke=\"black\" d=\"M173.278,-101C211.538,-101 256.403,-101 294.187,-101\"/>\n",
       "<polygon fill=\"black\" stroke=\"black\" points=\"294.645,-104.5 304.645,-101 294.645,-97.5001 294.645,-104.5\"/>\n",
       "<text text-anchor=\"middle\" x=\"239\" y=\"-118.6\" font-family=\"-apple-system, BlinkMacSystemFont, 'Segoe UI', Helvetica, Arial, sans-serif, 'Apple Color Emoji', 'Segoe UI Emoji', 'Segoe UI Symbol'\" font-size=\"13.00\">Bucket → Bucket</text>\n",
       "<text text-anchor=\"middle\" x=\"239\" y=\"-104.6\" font-family=\"-apple-system, BlinkMacSystemFont, 'Segoe UI', Helvetica, Arial, sans-serif, 'Apple Color Emoji', 'Segoe UI Emoji', 'Segoe UI Symbol'\" font-size=\"13.00\">Label2 → Label2</text>\n",
       "</g>\n",
       "</g>\n",
       "</svg>"
      ],
      "text/plain": [
       "<IPython.core.display.SVG object>"
      ]
     },
     "execution_count": 10,
     "metadata": {},
     "output_type": "execute_result"
    }
   ],
   "source": [
    "cube.schema"
   ]
  },
  {
   "cell_type": "markdown",
   "metadata": {},
   "source": [
    "We can create measures for the numerical columns in the referenced datastores such as `RiskWeights` and `RiskFactorCorrelations`."
   ]
  },
  {
   "cell_type": "code",
   "execution_count": 11,
   "metadata": {},
   "outputs": [],
   "source": [
    "m[\"RW.VALUE\"] = eq_delta_risk_weights_store[\"RW\"]\n",
    "m[\"RW.VALUE\"] = eq_delta_risk_weights_store[\"RW\"]\n",
    "# Let's put it into a folder and format as percentages:\n",
    "m[\"RW.VALUE\"].folder = \"Parameters\"\n",
    "m[\"RW.VALUE\"].formatter = \"DOUBLE[#%]\""
   ]
  },
  {
   "cell_type": "markdown",
   "metadata": {},
   "source": [
    "The risk weights are now available in the cube as a measure.\n",
    "The measure is defined for Bucket and Label2 - these hierarchies need to be present into the view."
   ]
  },
  {
   "cell_type": "code",
   "execution_count": 12,
   "metadata": {
    "atoti": {
     "widget": {
      "mapping": {
       "columns": [
        "ALL_MEASURES"
       ],
       "measures": [
        "[Measures].[RW.VALUE]"
       ],
       "rows": []
      },
      "name": "",
      "query": {
       "context": {
        "queriesResultLimit.intermediateSize": 1000000,
        "queriesResultLimit.transientSize": 10000000
       },
       "mdx": "SELECT NON EMPTY [Measures].[RW.VALUE] ON COLUMNS, NON EMPTY Crossjoin(Hierarchize(DrilldownLevel([Risks].[Bucket].[ALL].[AllMember])), Hierarchize(DrilldownLevel([Risks].[Label2].[ALL].[AllMember]))) ON ROWS FROM [Risks] CELL PROPERTIES VALUE, FORMATTED_VALUE, BACK_COLOR, FORE_COLOR, FONT_FLAGS",
       "updateMode": "once"
      },
      "serverKey": "default",
      "widgetKey": "pivot-table"
     }
    }
   },
   "outputs": [
    {
     "data": {
      "application/vnd.atoti.v0+json": {
       "name": null,
       "session": "Unnamed"
      },
      "text/html": [
       "<img src=\"data:image/svg+xml;charset=utf8,%3C?xml%20version=%221.0%22%20standalone=%22no%22?%3E%3Csvg%20xmlns=%22http://www.w3.org/2000/svg%22%20height=%22348%22%20width=%22978%22%3E%3CforeignObject%20width=%22100%25%22%20height=%22100%25%22%20x=%220%22%20y=%220%22%3E%3Cstyle%20type=%22text/css%22%3E*,%20::before,%20::after%20%7Bbox-sizing:%20unset%7D%0A.ant-root%20%5Bclass%5E=%22ant-%22%5D,%20.ant-root%20%5Bclass*=%22ant-%22%5D,%20.ant-root%20%5Bclass%5E=%22ant-%22%5D%20*,%20.ant-root%20%5Bclass*=%22ant-%22%5D%20*,%20.ant-root%20%5Bclass%5E=%22ant-%22%5D%20::before,%20.ant-root%20%5Bclass*=%22ant-%22%5D%20::before,%20.ant-root%20%5Bclass%5E=%22ant-%22%5D%20::after,%20.ant-root%20%5Bclass*=%22ant-%22%5D%20::after%20%7Bbox-sizing:%20border-box%7D%0A.ant-root%20html,%20.ant-root%20%7Bwidth:%20100%25;%20height:%20100%25%7D%0A.ant-root%20*,%20.ant-root%20::before,%20.ant-root%20::after%20%7Bbox-sizing:%20border-box%7D%0A.ant-root%20%7Bmargin-top:%200px;%20margin-right:%200px;%20margin-bottom:%200px;%20margin-left:%200px;%20color:%20rgb(89,%2089,%2089);%20font-size:%2012px;%20font-family:%20-apple-system,%20BlinkMacSystemFont,%20%22Segoe%20UI%22,%20Roboto,%20%22Helvetica%20Neue%22,%20Arial,%20%22Noto%20Sans%22,%20sans-serif,%20%22Apple%20Color%20Emoji%22,%20%22Segoe%20UI%20Emoji%22,%20%22Segoe%20UI%20Symbol%22,%20%22Noto%20Color%20Emoji%22;%20font-variant-ligatures:%20normal;%20font-variant-numeric:%20tabular-nums;%20font-variant-east-asian:%20normal;%20font-variant-caps:%20normal;%20line-height:%201.66667;%20background-color:%20rgb(255,%20255,%20255);%20--antd-wave-shadow-color:%20undefined;%20--scroll-bar:%20undefined%7D%0A.ant-root%20.ant-spin%20%7Bbox-sizing:%20border-box;%20margin-top:%200px;%20margin-right:%200px;%20margin-bottom:%200px;%20margin-left:%200px;%20padding-top:%200px;%20padding-right:%200px;%20padding-bottom:%200px;%20padding-left:%200px;%20font-size:%2012px;%20font-variant-ligatures:%20normal;%20font-variant-numeric:%20tabular-nums;%20font-variant-east-asian:%20normal;%20font-variant-caps:%20normal;%20line-height:%201.66667;%20list-style-position:%20initial;%20list-style-image:%20initial;%20list-style-type:%20none;%20position:%20absolute;%20display:%20none;%20color:%20rgb(0,%20174,%20239);%20text-align:%20center;%20vertical-align:%20middle;%20opacity:%200;%20transition-duration:%200.3s;%20transition-timing-function:%20cubic-bezier(0.78,%200.14,%200.15,%200.86);%20transition-delay:%200s;%20transition-property:%20transform%7D%0A.ant-root%20.ant-spin-spinning%20%7Bposition:%20static;%20display:%20inline-block;%20opacity:%201%7D%0A.ant-root%20.ant-spin-dot%20%7Bposition:%20relative;%20display:%20inline-block;%20font-size:%2020px;%20width:%201em;%20height:%201em%7D%0A.ant-root%20.ant-spin-dot-item%20%7Bposition:%20absolute;%20display:%20block;%20width:%209px;%20height:%209px;%20background-color:%20rgb(0,%20174,%20239);%20border-top-left-radius:%20100%25;%20border-top-right-radius:%20100%25;%20border-bottom-right-radius:%20100%25;%20border-bottom-left-radius:%20100%25;%20transform:%20scale(0.75);%20transform-origin:%2050%25%2050%25;%20opacity:%200.3;%20animation-duration:%201s;%20animation-timing-function:%20linear;%20animation-delay:%200s;%20animation-iteration-count:%20infinite;%20animation-direction:%20alternate;%20animation-fill-mode:%20none;%20animation-play-state:%20running;%20animation-name:%20antSpinMove%7D%0A.ant-root%20.ant-spin-dot-item:nth-child(1)%20%7Btop:%200px;%20left:%200px%7D%0A.ant-root%20.ant-spin-dot-item:nth-child(2)%20%7Btop:%200px;%20right:%200px;%20animation-delay:%200.4s%7D%0A.ant-root%20.ant-spin-dot-item:nth-child(3)%20%7Bright:%200px;%20bottom:%200px;%20animation-delay:%200.8s%7D%0A.ant-root%20.ant-spin-dot-item:nth-child(4)%20%7Bbottom:%200px;%20left:%200px;%20animation-delay:%201.2s%7D%0A.ant-root%20.ant-spin-dot-spin%20%7Btransform:%20rotate(45deg);%20animation-duration:%201.2s;%20animation-timing-function:%20linear;%20animation-delay:%200s;%20animation-iteration-count:%20infinite;%20animation-direction:%20normal;%20animation-fill-mode:%20none;%20animation-play-state:%20running;%20animation-name:%20antRotate%7D%0A.ant-root%20.ant-spin-lg%20.ant-spin-dot%20%7Bfont-size:%2032px%7D%0A.ant-root%20.ant-spin-lg%20.ant-spin-dot%20i%20%7Bwidth:%2014px;%20height:%2014px%7D%0A.css-12ebr42-AWidget%20%7Bheight:%20100%25%7D%0A.css-1e3kjgr-Spinner%20%7Bheight:%20100%25;%20position:%20relative%7D%0A.css-ck2xzt-Spinner%20%7B-webkit-box-align:%20center;%20align-items:%20center;%20background-image:%20initial;%20background-position-x:%20initial;%20background-position-y:%20initial;%20background-size:%20initial;%20background-repeat-x:%20initial;%20background-repeat-y:%20initial;%20background-attachment:%20initial;%20background-origin:%20initial;%20background-clip:%20initial;%20background-color:%20transparent;%20display:%20flex;%20height:%20100%25;%20-webkit-box-pack:%20center;%20justify-content:%20center;%20position:%20absolute;%20transition-duration:%20300ms;%20transition-timing-function:%20ease;%20transition-delay:%200s;%20transition-property:%20opacity;%20width:%20100%25;%20opacity:%200;%20pointer-events:%20none;%20z-index:%202%7D%0A.css-6s7z8y-Table%20%7Bpadding-bottom:%202px;%20padding-right:%202px;%20height:%20100%25%7D%0A.css-18k6uz5-Table%20%7Bcursor:%20cell;%20height:%20100%25;%20outline-color:%20initial;%20outline-style:%20none;%20outline-width:%20initial%7D%0A.css-16sdsf5-Table%20%7Bdisplay:%20flex;%20height:%20346px%7D%0A.css-cjaqq6-Table%20%7Bborder-collapse:%20collapse;%20height:%2028px;%20width:%20240px%7D%0A.css-17cmzye%20%7Bheight:%2028px;%20width:%20240px%7D%0A.css-uto3uj%20%7Bheight:%2028px;%20overflow-x:%20hidden;%20overflow-y:%20hidden;%20position:%20relative;%20width:%20240px;%20border-right-width:%202px;%20border-right-style:%20solid;%20border-right-color:%20rgb(233,%20233,%20233)%7D%0A.css-qhljdd%20%7Bheight:%20318px;%20width:%20240px;%20overflow-x:%20hidden;%20overflow-y:%20auto%7D%0A.css-nq0smp%20%7Bheight:%2028px;%20overflow-x:%20hidden;%20overflow-y:%20hidden;%20position:%20relative;%20width:%20120px%7D%0A.css-1qdrj90%20%7Bheight:%20616px;%20overflow-x:%20hidden;%20overflow-y:%20hidden;%20position:%20relative;%20width:%20240px;%20border-top-width:%202px;%20border-top-style:%20solid;%20border-top-color:%20rgb(233,%20233,%20233);%20border-right-width:%202px;%20border-right-style:%20solid;%20border-right-color:%20rgb(233,%20233,%20233)%7D%0A.css-19nyda7%20%7Bheight:%20616px;%20overflow-x:%20hidden;%20overflow-y:%20hidden;%20position:%20relative;%20width:%20120px;%20border-top-width:%202px;%20border-top-style:%20solid;%20border-top-color:%20rgb(233,%20233,%20233)%7D%0A.css-g26xr7-Table%20%7Bwidth:%20736px;%20border-collapse:%20collapse%7D%0A.css-jahlc4%20%7Bheight:%2028px;%20width:%20718px;%20overflow-x:%20auto;%20overflow-y:%20hidden%7D%0A.css-cpqcnz%20%7Bheight:%20318px;%20width:%20736px;%20overflow-x:%20auto;%20overflow-y:%20auto%7D%0A*%20%7B-ms-overflow-style:%20none;%20scrollbar-width:%20none%7D%0A*::-webkit-scrollbar%20%7Bdisplay:%20none%7D%3C/style%3E%3Cdiv%20xmlns=%22http://www.w3.org/1999/xhtml%22%20style=%22height:%20348px;%20width:%20978px;%22%3E&lt;div%20xmlns=%22http://www.w3.org/1999/xhtml%22%20class=%22ant-root%20css-0%22&gt;&lt;div%20class=%22ant-dropdown-trigger%20css-12ebr42-AWidget%22&gt;&lt;div%20class=%22css-1e3kjgr-Spinner%22&gt;&lt;div%20class=%22css-ck2xzt-Spinner%22&gt;&lt;div%20class=%22ant-spin%20ant-spin-lg%20ant-spin-spinning%22&gt;&lt;span%20class=%22ant-spin-dot%20ant-spin-dot-spin%22&gt;&lt;i%20class=%22ant-spin-dot-item%22&gt;&lt;/i&gt;&lt;i%20class=%22ant-spin-dot-item%22&gt;&lt;/i&gt;&lt;i%20class=%22ant-spin-dot-item%22&gt;&lt;/i&gt;&lt;i%20class=%22ant-spin-dot-item%22&gt;&lt;/i&gt;&lt;/span&gt;&lt;/div&gt;&lt;/div&gt;&lt;div%20class=%22css-6s7z8y-Table%22&gt;&lt;div%20tabindex=%220%22%20class=%22css-18k6uz5-Table%22&gt;&lt;div%20class=%22css-16sdsf5-Table%22&gt;&lt;div%20class=%22css-cjaqq6-Table%22&gt;&lt;div%20class=%22css-17cmzye%22&gt;&lt;div%20class=%22css-uto3uj%22&gt;&lt;div%20style=%22font-size:%2012px;%20height:%2028px;%20left:%200px;%20padding:%204px%204px%203px;%20position:%20absolute;%20top:%200px;%20width:%20120px;%20font-weight:%20600;%22&gt;Bucket&lt;/div&gt;&lt;div%20style=%22font-size:%2012px;%20height:%2028px;%20left:%20120px;%20padding:%204px%204px%203px;%20position:%20absolute;%20top:%200px;%20width:%20120px;%20font-weight:%20600;%22&gt;Label2&lt;/div&gt;&lt;/div&gt;&lt;/div&gt;&lt;div%20class=%22css-qhljdd%22&gt;&lt;div%20class=%22css-1qdrj90%22&gt;&lt;div%20style=%22overflow:%20hidden;%20display:%20flex;%20align-items:%20center;%20font-size:%2012px;%20height:%2028px;%20left:%200px;%20padding:%204px%204px%203px;%20position:%20absolute;%20top:%200px;%20width:%20120px;%20font-weight:%20600;%22&gt;&lt;span%20style=%22text-overflow:%20ellipsis;%20overflow:%20hidden;%20white-space:%20nowrap;%20max-width:%20calc((100%25%20-%200px)%20-%200px);%22&gt;1&lt;/span&gt;&lt;div%20style=%22height:%20100%25;%20margin-left:%206px;%22&gt;&lt;/div&gt;&lt;/div&gt;&lt;div%20style=%22overflow:%20hidden;%20display:%20flex;%20align-items:%20center;%20font-size:%2012px;%20height:%2028px;%20left:%20120px;%20padding:%204px%204px%203px;%20position:%20absolute;%20top:%200px;%20width:%20120px;%20border-right:%202px%20solid%20rgb(233,%20233,%20233);%22&gt;&lt;span%20style=%22text-overflow:%20ellipsis;%20overflow:%20hidden;%20white-space:%20nowrap;%20max-width:%20calc((100%25%20-%200px)%20-%200px);%22&gt;REPO&lt;/span&gt;&lt;div%20style=%22height:%20100%25;%20margin-left:%206px;%22&gt;&lt;/div&gt;&lt;/div&gt;&lt;div%20style=%22overflow:%20hidden;%20display:%20none;%20align-items:%20center;%20font-size:%2012px;%20height:%2028px;%20left:%200px;%20padding:%204px%204px%203px;%20position:%20absolute;%20top:%2028px;%20width:%20120px;%20font-weight:%20600;%22&gt;&lt;span%20style=%22text-overflow:%20ellipsis;%20overflow:%20hidden;%20white-space:%20nowrap;%20max-width:%20calc((100%25%20-%200px)%20-%200px);%22&gt;1&lt;/span&gt;&lt;div%20style=%22height:%20100%25;%20margin-left:%206px;%22&gt;&lt;/div&gt;&lt;/div&gt;&lt;div%20style=%22overflow:%20hidden;%20display:%20flex;%20align-items:%20center;%20font-size:%2012px;%20height:%2028px;%20left:%20120px;%20padding:%204px%204px%203px;%20position:%20absolute;%20top:%2028px;%20width:%20120px;%20background-color:%20rgb(250,%20250,%20250);%20border-right:%202px%20solid%20rgb(233,%20233,%20233);%22&gt;&lt;span%20style=%22text-overflow:%20ellipsis;%20overflow:%20hidden;%20white-space:%20nowrap;%20max-width:%20calc((100%25%20-%200px)%20-%200px);%22&gt;SPOT&lt;/span&gt;&lt;div%20style=%22height:%20100%25;%20margin-left:%206px;%22&gt;&lt;/div&gt;&lt;/div&gt;&lt;div%20style=%22overflow:%20hidden;%20display:%20flex;%20align-items:%20center;%20font-size:%2012px;%20height:%2028px;%20left:%200px;%20padding:%204px%204px%203px;%20position:%20absolute;%20top:%2056px;%20width:%20120px;%20font-weight:%20600;%22&gt;&lt;span%20style=%22text-overflow:%20ellipsis;%20overflow:%20hidden;%20white-space:%20nowrap;%20max-width:%20calc((100%25%20-%200px)%20-%200px);%22&gt;2&lt;/span&gt;&lt;div%20style=%22height:%20100%25;%20margin-left:%206px;%22&gt;&lt;/div&gt;&lt;/div&gt;&lt;div%20style=%22overflow:%20hidden;%20display:%20flex;%20align-items:%20center;%20font-size:%2012px;%20height:%2028px;%20left:%20120px;%20padding:%204px%204px%203px;%20position:%20absolute;%20top:%2056px;%20width:%20120px;%20border-right:%202px%20solid%20rgb(233,%20233,%20233);%22&gt;&lt;span%20style=%22text-overflow:%20ellipsis;%20overflow:%20hidden;%20white-space:%20nowrap;%20max-width:%20calc((100%25%20-%200px)%20-%200px);%22&gt;REPO&lt;/span&gt;&lt;div%20style=%22height:%20100%25;%20margin-left:%206px;%22&gt;&lt;/div&gt;&lt;/div&gt;&lt;div%20style=%22overflow:%20hidden;%20display:%20none;%20align-items:%20center;%20font-size:%2012px;%20height:%2028px;%20left:%200px;%20padding:%204px%204px%203px;%20position:%20absolute;%20top:%2084px;%20width:%20120px;%20font-weight:%20600;%22&gt;&lt;span%20style=%22text-overflow:%20ellipsis;%20overflow:%20hidden;%20white-space:%20nowrap;%20max-width:%20calc((100%25%20-%200px)%20-%200px);%22&gt;2&lt;/span&gt;&lt;div%20style=%22height:%20100%25;%20margin-left:%206px;%22&gt;&lt;/div&gt;&lt;/div&gt;&lt;div%20style=%22overflow:%20hidden;%20display:%20flex;%20align-items:%20center;%20font-size:%2012px;%20height:%2028px;%20left:%20120px;%20padding:%204px%204px%203px;%20position:%20absolute;%20top:%2084px;%20width:%20120px;%20background-color:%20rgb(250,%20250,%20250);%20border-right:%202px%20solid%20rgb(233,%20233,%20233);%22&gt;&lt;span%20style=%22text-overflow:%20ellipsis;%20overflow:%20hidden;%20white-space:%20nowrap;%20max-width:%20calc((100%25%20-%200px)%20-%200px);%22&gt;SPOT&lt;/span&gt;&lt;div%20style=%22height:%20100%25;%20margin-left:%206px;%22&gt;&lt;/div&gt;&lt;/div&gt;&lt;div%20style=%22overflow:%20hidden;%20display:%20flex;%20align-items:%20center;%20font-size:%2012px;%20height:%2028px;%20left:%200px;%20padding:%204px%204px%203px;%20position:%20absolute;%20top:%20112px;%20width:%20120px;%20font-weight:%20600;%22&gt;&lt;span%20style=%22text-overflow:%20ellipsis;%20overflow:%20hidden;%20white-space:%20nowrap;%20max-width:%20calc((100%25%20-%200px)%20-%200px);%22&gt;3&lt;/span&gt;&lt;div%20style=%22height:%20100%25;%20margin-left:%206px;%22&gt;&lt;/div&gt;&lt;/div&gt;&lt;div%20style=%22overflow:%20hidden;%20display:%20flex;%20align-items:%20center;%20font-size:%2012px;%20height:%2028px;%20left:%20120px;%20padding:%204px%204px%203px;%20position:%20absolute;%20top:%20112px;%20width:%20120px;%20border-right:%202px%20solid%20rgb(233,%20233,%20233);%22&gt;&lt;span%20style=%22text-overflow:%20ellipsis;%20overflow:%20hidden;%20white-space:%20nowrap;%20max-width:%20calc((100%25%20-%200px)%20-%200px);%22&gt;REPO&lt;/span&gt;&lt;div%20style=%22height:%20100%25;%20margin-left:%206px;%22&gt;&lt;/div&gt;&lt;/div&gt;&lt;div%20style=%22overflow:%20hidden;%20display:%20none;%20align-items:%20center;%20font-size:%2012px;%20height:%2028px;%20left:%200px;%20padding:%204px%204px%203px;%20position:%20absolute;%20top:%20140px;%20width:%20120px;%20font-weight:%20600;%22&gt;&lt;span%20style=%22text-overflow:%20ellipsis;%20overflow:%20hidden;%20white-space:%20nowrap;%20max-width:%20calc((100%25%20-%200px)%20-%200px);%22&gt;3&lt;/span&gt;&lt;div%20style=%22height:%20100%25;%20margin-left:%206px;%22&gt;&lt;/div&gt;&lt;/div&gt;&lt;div%20style=%22overflow:%20hidden;%20display:%20flex;%20align-items:%20center;%20font-size:%2012px;%20height:%2028px;%20left:%20120px;%20padding:%204px%204px%203px;%20position:%20absolute;%20top:%20140px;%20width:%20120px;%20background-color:%20rgb(250,%20250,%20250);%20border-right:%202px%20solid%20rgb(233,%20233,%20233);%22&gt;&lt;span%20style=%22text-overflow:%20ellipsis;%20overflow:%20hidden;%20white-space:%20nowrap;%20max-width:%20calc((100%25%20-%200px)%20-%200px);%22&gt;SPOT&lt;/span&gt;&lt;div%20style=%22height:%20100%25;%20margin-left:%206px;%22&gt;&lt;/div&gt;&lt;/div&gt;&lt;div%20style=%22overflow:%20hidden;%20display:%20flex;%20align-items:%20center;%20font-size:%2012px;%20height:%2028px;%20left:%200px;%20padding:%204px%204px%203px;%20position:%20absolute;%20top:%20168px;%20width:%20120px;%20font-weight:%20600;%22&gt;&lt;span%20style=%22text-overflow:%20ellipsis;%20overflow:%20hidden;%20white-space:%20nowrap;%20max-width:%20calc((100%25%20-%200px)%20-%200px);%22&gt;4&lt;/span&gt;&lt;div%20style=%22height:%20100%25;%20margin-left:%206px;%22&gt;&lt;/div&gt;&lt;/div&gt;&lt;div%20style=%22overflow:%20hidden;%20display:%20flex;%20align-items:%20center;%20font-size:%2012px;%20height:%2028px;%20left:%20120px;%20padding:%204px%204px%203px;%20position:%20absolute;%20top:%20168px;%20width:%20120px;%20border-right:%202px%20solid%20rgb(233,%20233,%20233);%22&gt;&lt;span%20style=%22text-overflow:%20ellipsis;%20overflow:%20hidden;%20white-space:%20nowrap;%20max-width:%20calc((100%25%20-%200px)%20-%200px);%22&gt;REPO&lt;/span&gt;&lt;div%20style=%22height:%20100%25;%20margin-left:%206px;%22&gt;&lt;/div&gt;&lt;/div&gt;&lt;div%20style=%22overflow:%20hidden;%20display:%20none;%20align-items:%20center;%20font-size:%2012px;%20height:%2028px;%20left:%200px;%20padding:%204px%204px%203px;%20position:%20absolute;%20top:%20196px;%20width:%20120px;%20font-weight:%20600;%22&gt;&lt;span%20style=%22text-overflow:%20ellipsis;%20overflow:%20hidden;%20white-space:%20nowrap;%20max-width:%20calc((100%25%20-%200px)%20-%200px);%22&gt;4&lt;/span&gt;&lt;div%20style=%22height:%20100%25;%20margin-left:%206px;%22&gt;&lt;/div&gt;&lt;/div&gt;&lt;div%20style=%22overflow:%20hidden;%20display:%20flex;%20align-items:%20center;%20font-size:%2012px;%20height:%2028px;%20left:%20120px;%20padding:%204px%204px%203px;%20position:%20absolute;%20top:%20196px;%20width:%20120px;%20background-color:%20rgb(250,%20250,%20250);%20border-right:%202px%20solid%20rgb(233,%20233,%20233);%22&gt;&lt;span%20style=%22text-overflow:%20ellipsis;%20overflow:%20hidden;%20white-space:%20nowrap;%20max-width:%20calc((100%25%20-%200px)%20-%200px);%22&gt;SPOT&lt;/span&gt;&lt;div%20style=%22height:%20100%25;%20margin-left:%206px;%22&gt;&lt;/div&gt;&lt;/div&gt;&lt;div%20style=%22overflow:%20hidden;%20display:%20flex;%20align-items:%20center;%20font-size:%2012px;%20height:%2028px;%20left:%200px;%20padding:%204px%204px%203px;%20position:%20absolute;%20top:%20224px;%20width:%20120px;%20font-weight:%20600;%22&gt;&lt;span%20style=%22text-overflow:%20ellipsis;%20overflow:%20hidden;%20white-space:%20nowrap;%20max-width:%20calc((100%25%20-%200px)%20-%200px);%22&gt;5&lt;/span&gt;&lt;div%20style=%22height:%20100%25;%20margin-left:%206px;%22&gt;&lt;/div&gt;&lt;/div&gt;&lt;div%20style=%22overflow:%20hidden;%20display:%20flex;%20align-items:%20center;%20font-size:%2012px;%20height:%2028px;%20left:%20120px;%20padding:%204px%204px%203px;%20position:%20absolute;%20top:%20224px;%20width:%20120px;%20border-right:%202px%20solid%20rgb(233,%20233,%20233);%22&gt;&lt;span%20style=%22text-overflow:%20ellipsis;%20overflow:%20hidden;%20white-space:%20nowrap;%20max-width:%20calc((100%25%20-%200px)%20-%200px);%22&gt;REPO&lt;/span&gt;&lt;div%20style=%22height:%20100%25;%20margin-left:%206px;%22&gt;&lt;/div&gt;&lt;/div&gt;&lt;div%20style=%22overflow:%20hidden;%20display:%20none;%20align-items:%20center;%20font-size:%2012px;%20height:%2028px;%20left:%200px;%20padding:%204px%204px%203px;%20position:%20absolute;%20top:%20252px;%20width:%20120px;%20font-weight:%20600;%22&gt;&lt;span%20style=%22text-overflow:%20ellipsis;%20overflow:%20hidden;%20white-space:%20nowrap;%20max-width:%20calc((100%25%20-%200px)%20-%200px);%22&gt;5&lt;/span&gt;&lt;div%20style=%22height:%20100%25;%20margin-left:%206px;%22&gt;&lt;/div&gt;&lt;/div&gt;&lt;div%20style=%22overflow:%20hidden;%20display:%20flex;%20align-items:%20center;%20font-size:%2012px;%20height:%2028px;%20left:%20120px;%20padding:%204px%204px%203px;%20position:%20absolute;%20top:%20252px;%20width:%20120px;%20background-color:%20rgb(250,%20250,%20250);%20border-right:%202px%20solid%20rgb(233,%20233,%20233);%22&gt;&lt;span%20style=%22text-overflow:%20ellipsis;%20overflow:%20hidden;%20white-space:%20nowrap;%20max-width:%20calc((100%25%20-%200px)%20-%200px);%22&gt;SPOT&lt;/span&gt;&lt;div%20style=%22height:%20100%25;%20margin-left:%206px;%22&gt;&lt;/div&gt;&lt;/div&gt;&lt;div%20style=%22overflow:%20hidden;%20display:%20flex;%20align-items:%20center;%20font-size:%2012px;%20height:%2028px;%20left:%200px;%20padding:%204px%204px%203px;%20position:%20absolute;%20top:%20280px;%20width:%20120px;%20font-weight:%20600;%22&gt;&lt;span%20style=%22text-overflow:%20ellipsis;%20overflow:%20hidden;%20white-space:%20nowrap;%20max-width:%20calc((100%25%20-%200px)%20-%200px);%22&gt;7&lt;/span&gt;&lt;div%20style=%22height:%20100%25;%20margin-left:%206px;%22&gt;&lt;/div&gt;&lt;/div&gt;&lt;div%20style=%22overflow:%20hidden;%20display:%20flex;%20align-items:%20center;%20font-size:%2012px;%20height:%2028px;%20left:%20120px;%20padding:%204px%204px%203px;%20position:%20absolute;%20top:%20280px;%20width:%20120px;%20border-right:%202px%20solid%20rgb(233,%20233,%20233);%22&gt;&lt;span%20style=%22text-overflow:%20ellipsis;%20overflow:%20hidden;%20white-space:%20nowrap;%20max-width:%20calc((100%25%20-%200px)%20-%200px);%22&gt;REPO&lt;/span&gt;&lt;div%20style=%22height:%20100%25;%20margin-left:%206px;%22&gt;&lt;/div&gt;&lt;/div&gt;&lt;div%20style=%22overflow:%20hidden;%20display:%20none;%20align-items:%20center;%20font-size:%2012px;%20height:%2028px;%20left:%200px;%20padding:%204px%204px%203px;%20position:%20absolute;%20top:%20308px;%20width:%20120px;%20font-weight:%20600;%22&gt;&lt;span%20style=%22text-overflow:%20ellipsis;%20overflow:%20hidden;%20white-space:%20nowrap;%20max-width:%20calc((100%25%20-%200px)%20-%200px);%22&gt;7&lt;/span&gt;&lt;div%20style=%22height:%20100%25;%20margin-left:%206px;%22&gt;&lt;/div&gt;&lt;/div&gt;&lt;div%20style=%22overflow:%20hidden;%20display:%20flex;%20align-items:%20center;%20font-size:%2012px;%20height:%2028px;%20left:%20120px;%20padding:%204px%204px%203px;%20position:%20absolute;%20top:%20308px;%20width:%20120px;%20background-color:%20rgb(250,%20250,%20250);%20border-right:%202px%20solid%20rgb(233,%20233,%20233);%22&gt;&lt;span%20style=%22text-overflow:%20ellipsis;%20overflow:%20hidden;%20white-space:%20nowrap;%20max-width:%20calc((100%25%20-%200px)%20-%200px);%22&gt;SPOT&lt;/span&gt;&lt;div%20style=%22height:%20100%25;%20margin-left:%206px;%22&gt;&lt;/div&gt;&lt;/div&gt;&lt;div%20style=%22overflow:%20hidden;%20display:%20flex;%20align-items:%20center;%20font-size:%2012px;%20height:%2028px;%20left:%200px;%20padding:%204px%204px%203px;%20position:%20absolute;%20top:%20336px;%20width:%20120px;%20font-weight:%20600;%22&gt;&lt;span%20style=%22text-overflow:%20ellipsis;%20overflow:%20hidden;%20white-space:%20nowrap;%20max-width:%20calc((100%25%20-%200px)%20-%200px);%22&gt;8&lt;/span&gt;&lt;div%20style=%22height:%20100%25;%20margin-left:%206px;%22&gt;&lt;/div&gt;&lt;/div&gt;&lt;div%20style=%22overflow:%20hidden;%20display:%20flex;%20align-items:%20center;%20font-size:%2012px;%20height:%2028px;%20left:%20120px;%20padding:%204px%204px%203px;%20position:%20absolute;%20top:%20336px;%20width:%20120px;%20border-right:%202px%20solid%20rgb(233,%20233,%20233);%22&gt;&lt;span%20style=%22text-overflow:%20ellipsis;%20overflow:%20hidden;%20white-space:%20nowrap;%20max-width:%20calc((100%25%20-%200px)%20-%200px);%22&gt;REPO&lt;/span&gt;&lt;div%20style=%22height:%20100%25;%20margin-left:%206px;%22&gt;&lt;/div&gt;&lt;/div&gt;&lt;/div&gt;&lt;/div&gt;&lt;/div&gt;&lt;div%20class=%22css-g26xr7-Table%22&gt;&lt;div%20class=%22css-jahlc4%22&gt;&lt;div%20class=%22css-nq0smp%22&gt;&lt;div%20style=%22overflow:%20hidden;%20display:%20flex;%20align-items:%20center;%20font-size:%2012px;%20height:%2028px;%20left:%200px;%20padding:%204px%204px%203px;%20position:%20absolute;%20top:%200px;%20width:%20120px;%20font-weight:%20600;%22&gt;&lt;span%20style=%22text-overflow:%20ellipsis;%20overflow:%20hidden;%20white-space:%20nowrap;%20max-width:%20calc((100%25%20-%200px)%20-%200px);%22&gt;RW.VALUE&lt;/span&gt;&lt;div%20style=%22height:%20100%25;%20margin-left:%206px;%22&gt;&lt;/div&gt;&lt;/div&gt;&lt;/div&gt;&lt;/div&gt;&lt;div%20class=%22css-cpqcnz%22&gt;&lt;div%20class=%22css-19nyda7%22&gt;&lt;div%20class=%22css-1lzltx4-TableCell%22%20style=%22font-size:%2012px;%20height:%2028px;%20left:%200px;%20padding:%204px%204px%203px;%20position:%20absolute;%20top:%200px;%20width:%20120px;%20text-align:%20right;%20border-right:%201px%20solid%20rgb(233,%20233,%20233);%22&gt;1%25&lt;/div&gt;&lt;div%20class=%22css-1lzltx4-TableCell%22%20style=%22font-size:%2012px;%20height:%2028px;%20left:%200px;%20padding:%204px%204px%203px;%20position:%20absolute;%20top:%2028px;%20width:%20120px;%20text-align:%20right;%20background-color:%20rgb(250,%20250,%20250);%20border-right:%201px%20solid%20rgb(233,%20233,%20233);%22&gt;55%25&lt;/div&gt;&lt;div%20class=%22css-1lzltx4-TableCell%22%20style=%22font-size:%2012px;%20height:%2028px;%20left:%200px;%20padding:%204px%204px%203px;%20position:%20absolute;%20top:%2056px;%20width:%20120px;%20text-align:%20right;%20border-right:%201px%20solid%20rgb(233,%20233,%20233);%22&gt;1%25&lt;/div&gt;&lt;div%20class=%22css-1lzltx4-TableCell%22%20style=%22font-size:%2012px;%20height:%2028px;%20left:%200px;%20padding:%204px%204px%203px;%20position:%20absolute;%20top:%2084px;%20width:%20120px;%20text-align:%20right;%20background-color:%20rgb(250,%20250,%20250);%20border-right:%201px%20solid%20rgb(233,%20233,%20233);%22&gt;60%25&lt;/div&gt;&lt;div%20class=%22css-1lzltx4-TableCell%22%20style=%22font-size:%2012px;%20height:%2028px;%20left:%200px;%20padding:%204px%204px%203px;%20position:%20absolute;%20top:%20112px;%20width:%20120px;%20text-align:%20right;%20border-right:%201px%20solid%20rgb(233,%20233,%20233);%22&gt;0%25&lt;/div&gt;&lt;div%20class=%22css-1lzltx4-TableCell%22%20style=%22font-size:%2012px;%20height:%2028px;%20left:%200px;%20padding:%204px%204px%203px;%20position:%20absolute;%20top:%20140px;%20width:%20120px;%20text-align:%20right;%20background-color:%20rgb(250,%20250,%20250);%20border-right:%201px%20solid%20rgb(233,%20233,%20233);%22&gt;45%25&lt;/div&gt;&lt;div%20class=%22css-1lzltx4-TableCell%22%20style=%22font-size:%2012px;%20height:%2028px;%20left:%200px;%20padding:%204px%204px%203px;%20position:%20absolute;%20top:%20168px;%20width:%20120px;%20text-align:%20right;%20border-right:%201px%20solid%20rgb(233,%20233,%20233);%22&gt;1%25&lt;/div&gt;&lt;div%20class=%22css-1lzltx4-TableCell%22%20style=%22font-size:%2012px;%20height:%2028px;%20left:%200px;%20padding:%204px%204px%203px;%20position:%20absolute;%20top:%20196px;%20width:%20120px;%20text-align:%20right;%20background-color:%20rgb(250,%20250,%20250);%20border-right:%201px%20solid%20rgb(233,%20233,%20233);%22&gt;55%25&lt;/div&gt;&lt;div%20class=%22css-1lzltx4-TableCell%22%20style=%22font-size:%2012px;%20height:%2028px;%20left:%200px;%20padding:%204px%204px%203px;%20position:%20absolute;%20top:%20224px;%20width:%20120px;%20text-align:%20right;%20border-right:%201px%20solid%20rgb(233,%20233,%20233);%22&gt;0%25&lt;/div&gt;&lt;div%20class=%22css-1lzltx4-TableCell%22%20style=%22font-size:%2012px;%20height:%2028px;%20left:%200px;%20padding:%204px%204px%203px;%20position:%20absolute;%20top:%20252px;%20width:%20120px;%20text-align:%20right;%20background-color:%20rgb(250,%20250,%20250);%20border-right:%201px%20solid%20rgb(233,%20233,%20233);%22&gt;30%25&lt;/div&gt;&lt;div%20class=%22css-1lzltx4-TableCell%22%20style=%22font-size:%2012px;%20height:%2028px;%20left:%200px;%20padding:%204px%204px%203px;%20position:%20absolute;%20top:%20280px;%20width:%20120px;%20text-align:%20right;%20border-right:%201px%20solid%20rgb(233,%20233,%20233);%22&gt;0%25&lt;/div&gt;&lt;div%20class=%22css-1lzltx4-TableCell%22%20style=%22font-size:%2012px;%20height:%2028px;%20left:%200px;%20padding:%204px%204px%203px;%20position:%20absolute;%20top:%20308px;%20width:%20120px;%20text-align:%20right;%20background-color:%20rgb(250,%20250,%20250);%20border-right:%201px%20solid%20rgb(233,%20233,%20233);%22&gt;40%25&lt;/div&gt;&lt;div%20class=%22css-1lzltx4-TableCell%22%20style=%22font-size:%2012px;%20height:%2028px;%20left:%200px;%20padding:%204px%204px%203px;%20position:%20absolute;%20top:%20336px;%20width:%20120px;%20text-align:%20right;%20border-right:%201px%20solid%20rgb(233,%20233,%20233);%22&gt;0%25&lt;/div&gt;&lt;/div&gt;&lt;/div&gt;&lt;/div&gt;&lt;/div&gt;&lt;/div&gt;&lt;/div&gt;&lt;/div&gt;&lt;/div&gt;&lt;/div&gt;%3C/div%3E%3C/foreignObject%3E%3C/svg%3E\">"
      ],
      "text/plain": [
       "Open the notebook in JupyterLab with the atoti extension installed and enabled to start editing this widget."
      ]
     },
     "metadata": {},
     "output_type": "display_data"
    }
   ],
   "source": [
    "session.visualize()"
   ]
  },
  {
   "cell_type": "markdown",
   "metadata": {},
   "source": [
    "# Weighted sensitivities\n",
    "\n",
    "In this section, we'll create a measure to compute weighted sensitivities defined in\n",
    "[MAR21.4](https://www.bis.org/basel_framework/chapter/MAR/21.htm?inforce=20220101#paragraph_MAR_21_20220101_21_4):\n",
    "\n",
    "$$WS_k=RW_k \\cdot s_k$$\n",
    "\n",
    "As the risk weights are defined for each Bucket and Label2, this is the level where sensitivities need to be multiplied by the risk weight.\n"
   ]
  },
  {
   "cell_type": "code",
   "execution_count": 13,
   "metadata": {},
   "outputs": [],
   "source": [
    "# The input sensitivities are multplied by the risk weight for each Bucket and Label2,\n",
    "# and then summed up to obtain weighted sensitivities:\n",
    "m[\"WS\"] = tt.agg.sum(\n",
    "    m[\"AmountUSD.SUM\"] * m[\"RW.VALUE\"],\n",
    "    scope=tt.scope.origin(lvl[\"Bucket\"], lvl[\"Label2\"]),\n",
    ")"
   ]
  },
  {
   "cell_type": "code",
   "execution_count": 14,
   "metadata": {
    "atoti": {
     "widget": {
      "mapping": {
       "columns": [
        "ALL_MEASURES"
       ],
       "measures": [
        "[Measures].[WS]"
       ],
       "rows": []
      },
      "name": "",
      "query": {
       "context": {
        "queriesResultLimit.intermediateSize": 1000000,
        "queriesResultLimit.transientSize": 10000000
       },
       "mdx": "SELECT NON EMPTY [Measures].[WS] ON COLUMNS, NON EMPTY Hierarchize(DrilldownLevel([Risks].[Bucket].[ALL].[AllMember])) ON ROWS FROM [Risks] CELL PROPERTIES VALUE, FORMATTED_VALUE, BACK_COLOR, FORE_COLOR, FONT_FLAGS",
       "updateMode": "once"
      },
      "serverKey": "default",
      "widgetKey": "pivot-table"
     }
    }
   },
   "outputs": [
    {
     "data": {
      "application/vnd.atoti.v0+json": {
       "name": null,
       "session": "Unnamed"
      },
      "text/html": [
       "<img src=\"data:image/svg+xml;charset=utf8,%3C?xml%20version=%221.0%22%20standalone=%22no%22?%3E%3Csvg%20xmlns=%22http://www.w3.org/2000/svg%22%20height=%22348%22%20width=%22978%22%3E%3CforeignObject%20width=%22100%25%22%20height=%22100%25%22%20x=%220%22%20y=%220%22%3E%3Cstyle%20type=%22text/css%22%3E*,%20::before,%20::after%20%7Bbox-sizing:%20unset%7D%0A.ant-root%20%5Bclass%5E=%22ant-%22%5D,%20.ant-root%20%5Bclass*=%22ant-%22%5D,%20.ant-root%20%5Bclass%5E=%22ant-%22%5D%20*,%20.ant-root%20%5Bclass*=%22ant-%22%5D%20*,%20.ant-root%20%5Bclass%5E=%22ant-%22%5D%20::before,%20.ant-root%20%5Bclass*=%22ant-%22%5D%20::before,%20.ant-root%20%5Bclass%5E=%22ant-%22%5D%20::after,%20.ant-root%20%5Bclass*=%22ant-%22%5D%20::after%20%7Bbox-sizing:%20border-box%7D%0A.ant-root%20html,%20.ant-root%20%7Bwidth:%20100%25;%20height:%20100%25%7D%0A.ant-root%20*,%20.ant-root%20::before,%20.ant-root%20::after%20%7Bbox-sizing:%20border-box%7D%0A.ant-root%20%7Bmargin-top:%200px;%20margin-right:%200px;%20margin-bottom:%200px;%20margin-left:%200px;%20color:%20rgb(89,%2089,%2089);%20font-size:%2012px;%20font-family:%20-apple-system,%20BlinkMacSystemFont,%20%22Segoe%20UI%22,%20Roboto,%20%22Helvetica%20Neue%22,%20Arial,%20%22Noto%20Sans%22,%20sans-serif,%20%22Apple%20Color%20Emoji%22,%20%22Segoe%20UI%20Emoji%22,%20%22Segoe%20UI%20Symbol%22,%20%22Noto%20Color%20Emoji%22;%20font-variant-ligatures:%20normal;%20font-variant-numeric:%20tabular-nums;%20font-variant-east-asian:%20normal;%20font-variant-caps:%20normal;%20line-height:%201.66667;%20background-color:%20rgb(255,%20255,%20255);%20--antd-wave-shadow-color:%20undefined;%20--scroll-bar:%20undefined%7D%0A.ant-root%20.ant-spin%20%7Bbox-sizing:%20border-box;%20margin-top:%200px;%20margin-right:%200px;%20margin-bottom:%200px;%20margin-left:%200px;%20padding-top:%200px;%20padding-right:%200px;%20padding-bottom:%200px;%20padding-left:%200px;%20font-size:%2012px;%20font-variant-ligatures:%20normal;%20font-variant-numeric:%20tabular-nums;%20font-variant-east-asian:%20normal;%20font-variant-caps:%20normal;%20line-height:%201.66667;%20list-style-position:%20initial;%20list-style-image:%20initial;%20list-style-type:%20none;%20position:%20absolute;%20display:%20none;%20color:%20rgb(0,%20174,%20239);%20text-align:%20center;%20vertical-align:%20middle;%20opacity:%200;%20transition-duration:%200.3s;%20transition-timing-function:%20cubic-bezier(0.78,%200.14,%200.15,%200.86);%20transition-delay:%200s;%20transition-property:%20transform%7D%0A.ant-root%20.ant-spin-spinning%20%7Bposition:%20static;%20display:%20inline-block;%20opacity:%201%7D%0A.ant-root%20.ant-spin-dot%20%7Bposition:%20relative;%20display:%20inline-block;%20font-size:%2020px;%20width:%201em;%20height:%201em%7D%0A.ant-root%20.ant-spin-dot-item%20%7Bposition:%20absolute;%20display:%20block;%20width:%209px;%20height:%209px;%20background-color:%20rgb(0,%20174,%20239);%20border-top-left-radius:%20100%25;%20border-top-right-radius:%20100%25;%20border-bottom-right-radius:%20100%25;%20border-bottom-left-radius:%20100%25;%20transform:%20scale(0.75);%20transform-origin:%2050%25%2050%25;%20opacity:%200.3;%20animation-duration:%201s;%20animation-timing-function:%20linear;%20animation-delay:%200s;%20animation-iteration-count:%20infinite;%20animation-direction:%20alternate;%20animation-fill-mode:%20none;%20animation-play-state:%20running;%20animation-name:%20antSpinMove%7D%0A.ant-root%20.ant-spin-dot-item:nth-child(1)%20%7Btop:%200px;%20left:%200px%7D%0A.ant-root%20.ant-spin-dot-item:nth-child(2)%20%7Btop:%200px;%20right:%200px;%20animation-delay:%200.4s%7D%0A.ant-root%20.ant-spin-dot-item:nth-child(3)%20%7Bright:%200px;%20bottom:%200px;%20animation-delay:%200.8s%7D%0A.ant-root%20.ant-spin-dot-item:nth-child(4)%20%7Bbottom:%200px;%20left:%200px;%20animation-delay:%201.2s%7D%0A.ant-root%20.ant-spin-dot-spin%20%7Btransform:%20rotate(45deg);%20animation-duration:%201.2s;%20animation-timing-function:%20linear;%20animation-delay:%200s;%20animation-iteration-count:%20infinite;%20animation-direction:%20normal;%20animation-fill-mode:%20none;%20animation-play-state:%20running;%20animation-name:%20antRotate%7D%0A.ant-root%20.ant-spin-lg%20.ant-spin-dot%20%7Bfont-size:%2032px%7D%0A.ant-root%20.ant-spin-lg%20.ant-spin-dot%20i%20%7Bwidth:%2014px;%20height:%2014px%7D%0A.css-12ebr42-AWidget%20%7Bheight:%20100%25%7D%0A.css-1e3kjgr-Spinner%20%7Bheight:%20100%25;%20position:%20relative%7D%0A.css-ck2xzt-Spinner%20%7B-webkit-box-align:%20center;%20align-items:%20center;%20background-image:%20initial;%20background-position-x:%20initial;%20background-position-y:%20initial;%20background-size:%20initial;%20background-repeat-x:%20initial;%20background-repeat-y:%20initial;%20background-attachment:%20initial;%20background-origin:%20initial;%20background-clip:%20initial;%20background-color:%20transparent;%20display:%20flex;%20height:%20100%25;%20-webkit-box-pack:%20center;%20justify-content:%20center;%20position:%20absolute;%20transition-duration:%20300ms;%20transition-timing-function:%20ease;%20transition-delay:%200s;%20transition-property:%20opacity;%20width:%20100%25;%20opacity:%200;%20pointer-events:%20none;%20z-index:%202%7D%0A.css-6s7z8y-Table%20%7Bpadding-bottom:%202px;%20padding-right:%202px;%20height:%20100%25%7D%0A.css-18k6uz5-Table%20%7Bcursor:%20cell;%20height:%20100%25;%20outline-color:%20initial;%20outline-style:%20none;%20outline-width:%20initial%7D%0A.css-16sdsf5-Table%20%7Bdisplay:%20flex;%20height:%20346px%7D%0A.css-9wvnih-Table%20%7Bborder-collapse:%20collapse;%20height:%2028px;%20width:%20120px%7D%0A.css-gy6esx%20%7Bheight:%2028px;%20width:%20120px%7D%0A.css-pu2plr%20%7Bheight:%2028px;%20overflow-x:%20hidden;%20overflow-y:%20hidden;%20position:%20relative;%20width:%20120px;%20border-right-width:%202px;%20border-right-style:%20solid;%20border-right-color:%20rgb(233,%20233,%20233)%7D%0A.css-cn3y95%20%7Bheight:%20318px;%20width:%20120px;%20overflow-x:%20hidden;%20overflow-y:%20auto%7D%0A.css-1h1itxp%20%7Bheight:%20336px;%20overflow-x:%20hidden;%20overflow-y:%20hidden;%20position:%20relative;%20width:%20120px;%20border-top-width:%202px;%20border-top-style:%20solid;%20border-top-color:%20rgb(233,%20233,%20233);%20border-right-width:%202px;%20border-right-style:%20solid;%20border-right-color:%20rgb(233,%20233,%20233)%7D%0A.css-nq0smp%20%7Bheight:%2028px;%20overflow-x:%20hidden;%20overflow-y:%20hidden;%20position:%20relative;%20width:%20120px%7D%0A.css-m8brnn%20%7Bheight:%20336px;%20overflow-x:%20hidden;%20overflow-y:%20hidden;%20position:%20relative;%20width:%20120px;%20border-top-width:%202px;%20border-top-style:%20solid;%20border-top-color:%20rgb(233,%20233,%20233)%7D%0A.css-1pdv37h-Table%20%7Bwidth:%20856px;%20border-collapse:%20collapse%7D%0A.css-1wksgdh%20%7Bheight:%2028px;%20width:%20838px;%20overflow-x:%20auto;%20overflow-y:%20hidden%7D%0A.css-1jgqjjn%20%7Bheight:%20318px;%20width:%20856px;%20overflow-x:%20auto;%20overflow-y:%20auto%7D%0A*%20%7B-ms-overflow-style:%20none;%20scrollbar-width:%20none%7D%0A*::-webkit-scrollbar%20%7Bdisplay:%20none%7D%3C/style%3E%3Cdiv%20xmlns=%22http://www.w3.org/1999/xhtml%22%20style=%22height:%20348px;%20width:%20978px;%22%3E&lt;div%20xmlns=%22http://www.w3.org/1999/xhtml%22%20class=%22ant-root%20css-0%22&gt;&lt;div%20class=%22ant-dropdown-trigger%20css-12ebr42-AWidget%22&gt;&lt;div%20class=%22css-1e3kjgr-Spinner%22&gt;&lt;div%20class=%22css-ck2xzt-Spinner%22&gt;&lt;div%20class=%22ant-spin%20ant-spin-lg%20ant-spin-spinning%22&gt;&lt;span%20class=%22ant-spin-dot%20ant-spin-dot-spin%22&gt;&lt;i%20class=%22ant-spin-dot-item%22&gt;&lt;/i&gt;&lt;i%20class=%22ant-spin-dot-item%22&gt;&lt;/i&gt;&lt;i%20class=%22ant-spin-dot-item%22&gt;&lt;/i&gt;&lt;i%20class=%22ant-spin-dot-item%22&gt;&lt;/i&gt;&lt;/span&gt;&lt;/div&gt;&lt;/div&gt;&lt;div%20class=%22css-6s7z8y-Table%22&gt;&lt;div%20tabindex=%220%22%20class=%22css-18k6uz5-Table%22&gt;&lt;div%20class=%22css-16sdsf5-Table%22&gt;&lt;div%20class=%22css-9wvnih-Table%22&gt;&lt;div%20class=%22css-gy6esx%22&gt;&lt;div%20class=%22css-pu2plr%22&gt;&lt;div%20style=%22font-size:%2012px;%20height:%2028px;%20left:%200px;%20padding:%204px%204px%203px;%20position:%20absolute;%20top:%200px;%20width:%20120px;%20font-weight:%20600;%22&gt;Bucket&lt;/div&gt;&lt;/div&gt;&lt;/div&gt;&lt;div%20class=%22css-cn3y95%22&gt;&lt;div%20class=%22css-1h1itxp%22&gt;&lt;div%20style=%22font-size:%2012px;%20font-weight:%20600;%20padding:%204px%204px%203px;%22&gt;Total&lt;/div&gt;&lt;div%20style=%22overflow:%20hidden;%20display:%20flex;%20align-items:%20center;%20font-size:%2012px;%20height:%2028px;%20left:%200px;%20padding:%204px%204px%203px;%20position:%20absolute;%20top:%2028px;%20width:%20120px;%20background-color:%20rgb(250,%20250,%20250);%20border-right:%202px%20solid%20rgb(233,%20233,%20233);%22&gt;&lt;span%20style=%22text-overflow:%20ellipsis;%20overflow:%20hidden;%20white-space:%20nowrap;%20max-width:%20calc((100%25%20-%200px)%20-%200px);%22&gt;1&lt;/span&gt;&lt;div%20style=%22height:%20100%25;%20margin-left:%206px;%22&gt;&lt;/div&gt;&lt;/div&gt;&lt;div%20style=%22overflow:%20hidden;%20display:%20flex;%20align-items:%20center;%20font-size:%2012px;%20height:%2028px;%20left:%200px;%20padding:%204px%204px%203px;%20position:%20absolute;%20top:%2056px;%20width:%20120px;%20border-right:%202px%20solid%20rgb(233,%20233,%20233);%22&gt;&lt;span%20style=%22text-overflow:%20ellipsis;%20overflow:%20hidden;%20white-space:%20nowrap;%20max-width:%20calc((100%25%20-%200px)%20-%200px);%22&gt;2&lt;/span&gt;&lt;div%20style=%22height:%20100%25;%20margin-left:%206px;%22&gt;&lt;/div&gt;&lt;/div&gt;&lt;div%20style=%22overflow:%20hidden;%20display:%20flex;%20align-items:%20center;%20font-size:%2012px;%20height:%2028px;%20left:%200px;%20padding:%204px%204px%203px;%20position:%20absolute;%20top:%2084px;%20width:%20120px;%20background-color:%20rgb(250,%20250,%20250);%20border-right:%202px%20solid%20rgb(233,%20233,%20233);%22&gt;&lt;span%20style=%22text-overflow:%20ellipsis;%20overflow:%20hidden;%20white-space:%20nowrap;%20max-width:%20calc((100%25%20-%200px)%20-%200px);%22&gt;3&lt;/span&gt;&lt;div%20style=%22height:%20100%25;%20margin-left:%206px;%22&gt;&lt;/div&gt;&lt;/div&gt;&lt;div%20style=%22overflow:%20hidden;%20display:%20flex;%20align-items:%20center;%20font-size:%2012px;%20height:%2028px;%20left:%200px;%20padding:%204px%204px%203px;%20position:%20absolute;%20top:%20112px;%20width:%20120px;%20border-right:%202px%20solid%20rgb(233,%20233,%20233);%22&gt;&lt;span%20style=%22text-overflow:%20ellipsis;%20overflow:%20hidden;%20white-space:%20nowrap;%20max-width:%20calc((100%25%20-%200px)%20-%200px);%22&gt;4&lt;/span&gt;&lt;div%20style=%22height:%20100%25;%20margin-left:%206px;%22&gt;&lt;/div&gt;&lt;/div&gt;&lt;div%20style=%22overflow:%20hidden;%20display:%20flex;%20align-items:%20center;%20font-size:%2012px;%20height:%2028px;%20left:%200px;%20padding:%204px%204px%203px;%20position:%20absolute;%20top:%20140px;%20width:%20120px;%20background-color:%20rgb(250,%20250,%20250);%20border-right:%202px%20solid%20rgb(233,%20233,%20233);%22&gt;&lt;span%20style=%22text-overflow:%20ellipsis;%20overflow:%20hidden;%20white-space:%20nowrap;%20max-width:%20calc((100%25%20-%200px)%20-%200px);%22&gt;5&lt;/span&gt;&lt;div%20style=%22height:%20100%25;%20margin-left:%206px;%22&gt;&lt;/div&gt;&lt;/div&gt;&lt;div%20style=%22overflow:%20hidden;%20display:%20flex;%20align-items:%20center;%20font-size:%2012px;%20height:%2028px;%20left:%200px;%20padding:%204px%204px%203px;%20position:%20absolute;%20top:%20168px;%20width:%20120px;%20border-right:%202px%20solid%20rgb(233,%20233,%20233);%22&gt;&lt;span%20style=%22text-overflow:%20ellipsis;%20overflow:%20hidden;%20white-space:%20nowrap;%20max-width:%20calc((100%25%20-%200px)%20-%200px);%22&gt;7&lt;/span&gt;&lt;div%20style=%22height:%20100%25;%20margin-left:%206px;%22&gt;&lt;/div&gt;&lt;/div&gt;&lt;div%20style=%22overflow:%20hidden;%20display:%20flex;%20align-items:%20center;%20font-size:%2012px;%20height:%2028px;%20left:%200px;%20padding:%204px%204px%203px;%20position:%20absolute;%20top:%20196px;%20width:%20120px;%20background-color:%20rgb(250,%20250,%20250);%20border-right:%202px%20solid%20rgb(233,%20233,%20233);%22&gt;&lt;span%20style=%22text-overflow:%20ellipsis;%20overflow:%20hidden;%20white-space:%20nowrap;%20max-width:%20calc((100%25%20-%200px)%20-%200px);%22&gt;8&lt;/span&gt;&lt;div%20style=%22height:%20100%25;%20margin-left:%206px;%22&gt;&lt;/div&gt;&lt;/div&gt;&lt;div%20style=%22overflow:%20hidden;%20display:%20flex;%20align-items:%20center;%20font-size:%2012px;%20height:%2028px;%20left:%200px;%20padding:%204px%204px%203px;%20position:%20absolute;%20top:%20224px;%20width:%20120px;%20border-right:%202px%20solid%20rgb(233,%20233,%20233);%22&gt;&lt;span%20style=%22text-overflow:%20ellipsis;%20overflow:%20hidden;%20white-space:%20nowrap;%20max-width:%20calc((100%25%20-%200px)%20-%200px);%22&gt;9&lt;/span&gt;&lt;div%20style=%22height:%20100%25;%20margin-left:%206px;%22&gt;&lt;/div&gt;&lt;/div&gt;&lt;div%20style=%22overflow:%20hidden;%20display:%20flex;%20align-items:%20center;%20font-size:%2012px;%20height:%2028px;%20left:%200px;%20padding:%204px%204px%203px;%20position:%20absolute;%20top:%20252px;%20width:%20120px;%20background-color:%20rgb(250,%20250,%20250);%20border-right:%202px%20solid%20rgb(233,%20233,%20233);%22&gt;&lt;span%20style=%22text-overflow:%20ellipsis;%20overflow:%20hidden;%20white-space:%20nowrap;%20max-width:%20calc((100%25%20-%200px)%20-%200px);%22&gt;10&lt;/span&gt;&lt;div%20style=%22height:%20100%25;%20margin-left:%206px;%22&gt;&lt;/div&gt;&lt;/div&gt;&lt;div%20style=%22overflow:%20hidden;%20display:%20flex;%20align-items:%20center;%20font-size:%2012px;%20height:%2028px;%20left:%200px;%20padding:%204px%204px%203px;%20position:%20absolute;%20top:%20280px;%20width:%20120px;%20border-right:%202px%20solid%20rgb(233,%20233,%20233);%22&gt;&lt;span%20style=%22text-overflow:%20ellipsis;%20overflow:%20hidden;%20white-space:%20nowrap;%20max-width:%20calc((100%25%20-%200px)%20-%200px);%22&gt;11&lt;/span&gt;&lt;div%20style=%22height:%20100%25;%20margin-left:%206px;%22&gt;&lt;/div&gt;&lt;/div&gt;&lt;div%20style=%22overflow:%20hidden;%20display:%20flex;%20align-items:%20center;%20font-size:%2012px;%20height:%2028px;%20left:%200px;%20padding:%204px%204px%203px;%20position:%20absolute;%20top:%20308px;%20width:%20120px;%20background-color:%20rgb(250,%20250,%20250);%20border-right:%202px%20solid%20rgb(233,%20233,%20233);%22&gt;&lt;span%20style=%22text-overflow:%20ellipsis;%20overflow:%20hidden;%20white-space:%20nowrap;%20max-width:%20calc((100%25%20-%200px)%20-%200px);%22&gt;12&lt;/span&gt;&lt;div%20style=%22height:%20100%25;%20margin-left:%206px;%22&gt;&lt;/div&gt;&lt;/div&gt;&lt;/div&gt;&lt;/div&gt;&lt;/div&gt;&lt;div%20class=%22css-1pdv37h-Table%22&gt;&lt;div%20class=%22css-1wksgdh%22&gt;&lt;div%20class=%22css-nq0smp%22&gt;&lt;div%20style=%22overflow:%20hidden;%20display:%20flex;%20align-items:%20center;%20font-size:%2012px;%20height:%2028px;%20left:%200px;%20padding:%204px%204px%203px;%20position:%20absolute;%20top:%200px;%20width:%20120px;%20font-weight:%20600;%22&gt;&lt;span%20style=%22text-overflow:%20ellipsis;%20overflow:%20hidden;%20white-space:%20nowrap;%20max-width:%20calc((100%25%20-%200px)%20-%200px);%22&gt;WS&lt;/span&gt;&lt;div%20style=%22height:%20100%25;%20margin-left:%206px;%22&gt;&lt;/div&gt;&lt;/div&gt;&lt;/div&gt;&lt;/div&gt;&lt;div%20class=%22css-1jgqjjn%22&gt;&lt;div%20class=%22css-m8brnn%22&gt;&lt;div%20class=%22css-1lzltx4-TableCell%22%20style=%22font-size:%2012px;%20height:%2028px;%20left:%200px;%20padding:%204px%204px%203px;%20position:%20absolute;%20top:%200px;%20width:%20120px;%20text-align:%20right;%20border-right:%201px%20solid%20rgb(233,%20233,%20233);%22&gt;-5,090,583.39&lt;/div&gt;&lt;div%20class=%22css-1lzltx4-TableCell%22%20style=%22font-size:%2012px;%20height:%2028px;%20left:%200px;%20padding:%204px%204px%203px;%20position:%20absolute;%20top:%2028px;%20width:%20120px;%20text-align:%20right;%20background-color:%20rgb(250,%20250,%20250);%20border-right:%201px%20solid%20rgb(233,%20233,%20233);%22&gt;-2,002,940.37&lt;/div&gt;&lt;div%20class=%22css-1lzltx4-TableCell%22%20style=%22font-size:%2012px;%20height:%2028px;%20left:%200px;%20padding:%204px%204px%203px;%20position:%20absolute;%20top:%2056px;%20width:%20120px;%20text-align:%20right;%20border-right:%201px%20solid%20rgb(233,%20233,%20233);%22&gt;-1,935,112.16&lt;/div&gt;&lt;div%20class=%22css-1lzltx4-TableCell%22%20style=%22font-size:%2012px;%20height:%2028px;%20left:%200px;%20padding:%204px%204px%203px;%20position:%20absolute;%20top:%2084px;%20width:%20120px;%20text-align:%20right;%20background-color:%20rgb(250,%20250,%20250);%20border-right:%201px%20solid%20rgb(233,%20233,%20233);%22&gt;-4,757.81&lt;/div&gt;&lt;div%20class=%22css-1lzltx4-TableCell%22%20style=%22font-size:%2012px;%20height:%2028px;%20left:%200px;%20padding:%204px%204px%203px;%20position:%20absolute;%20top:%20112px;%20width:%20120px;%20text-align:%20right;%20border-right:%201px%20solid%20rgb(233,%20233,%20233);%22&gt;-557,071.45&lt;/div&gt;&lt;div%20class=%22css-1lzltx4-TableCell%22%20style=%22font-size:%2012px;%20height:%2028px;%20left:%200px;%20padding:%204px%204px%203px;%20position:%20absolute;%20top:%20140px;%20width:%20120px;%20text-align:%20right;%20background-color:%20rgb(250,%20250,%20250);%20border-right:%201px%20solid%20rgb(233,%20233,%20233);%22&gt;429,349.43&lt;/div&gt;&lt;div%20class=%22css-1lzltx4-TableCell%22%20style=%22font-size:%2012px;%20height:%2028px;%20left:%200px;%20padding:%204px%204px%203px;%20position:%20absolute;%20top:%20168px;%20width:%20120px;%20text-align:%20right;%20border-right:%201px%20solid%20rgb(233,%20233,%20233);%22&gt;91,493.41&lt;/div&gt;&lt;div%20class=%22css-1lzltx4-TableCell%22%20style=%22font-size:%2012px;%20height:%2028px;%20left:%200px;%20padding:%204px%204px%203px;%20position:%20absolute;%20top:%20196px;%20width:%20120px;%20text-align:%20right;%20background-color:%20rgb(250,%20250,%20250);%20border-right:%201px%20solid%20rgb(233,%20233,%20233);%22&gt;-5,177,444.73&lt;/div&gt;&lt;div%20class=%22css-1lzltx4-TableCell%22%20style=%22font-size:%2012px;%20height:%2028px;%20left:%200px;%20padding:%204px%204px%203px;%20position:%20absolute;%20top:%20224px;%20width:%20120px;%20text-align:%20right;%20border-right:%201px%20solid%20rgb(233,%20233,%20233);%22&gt;744,897.85&lt;/div&gt;&lt;div%20class=%22css-1lzltx4-TableCell%22%20style=%22font-size:%2012px;%20height:%2028px;%20left:%200px;%20padding:%204px%204px%203px;%20position:%20absolute;%20top:%20252px;%20width:%20120px;%20text-align:%20right;%20background-color:%20rgb(250,%20250,%20250);%20border-right:%201px%20solid%20rgb(233,%20233,%20233);%22&gt;-2,810,353.83&lt;/div&gt;&lt;div%20class=%22css-1lzltx4-TableCell%22%20style=%22font-size:%2012px;%20height:%2028px;%20left:%200px;%20padding:%204px%204px%203px;%20position:%20absolute;%20top:%20280px;%20width:%20120px;%20text-align:%20right;%20border-right:%201px%20solid%20rgb(233,%20233,%20233);%22&gt;6,418,348.71&lt;/div&gt;&lt;div%20class=%22css-1lzltx4-TableCell%22%20style=%22font-size:%2012px;%20height:%2028px;%20left:%200px;%20padding:%204px%204px%203px;%20position:%20absolute;%20top:%20308px;%20width:%20120px;%20text-align:%20right;%20background-color:%20rgb(250,%20250,%20250);%20border-right:%201px%20solid%20rgb(233,%20233,%20233);%22&gt;-286,992.44&lt;/div&gt;&lt;/div&gt;&lt;/div&gt;&lt;/div&gt;&lt;/div&gt;&lt;/div&gt;&lt;/div&gt;&lt;/div&gt;&lt;/div&gt;&lt;/div&gt;%3C/div%3E%3C/foreignObject%3E%3C/svg%3E\">"
      ],
      "text/plain": [
       "Open the notebook in JupyterLab with the atoti extension installed and enabled to start editing this widget."
      ]
     },
     "metadata": {},
     "output_type": "display_data"
    }
   ],
   "source": [
    "session.visualize()"
   ]
  },
  {
   "cell_type": "markdown",
   "metadata": {},
   "source": [
    "# Bucket-level aggregation\n",
    "\n",
    "The weighted sensitivities by risk factor are rolled up into charges by bucket (\"bucket-level charges\"), using a variance-covariance-type of formula that can be found in the [MAR21.4](https://www.bis.org/basel_framework/chapter/MAR/21.htm?inforce=20220101#paragraph_MAR_21_20220101_21_4):\n",
    "\n",
    "$$K_{b} =\\sqrt{max \\left( 0, \\sum _{k\\in b} WS_{k}^{2} +\\sum _{k\\in b}\\sum\n",
    "  _{l\\in b, l\\neq k}\\rho_{kl}\\cdot WS_k \\cdot WS_l\\right)}$$\n",
    "  \n",
    "In this section we'll create measures visualizing bucket-level charges. \n",
    "\n",
    "We will be leveraging the fact, that some of the risk factor pairs are correlated with the same correlation parameter, and provide a more computationally efficient calculation. "
   ]
  },
  {
   "cell_type": "markdown",
   "metadata": {},
   "source": [
    "## Risk factor correlations"
   ]
  },
  {
   "cell_type": "markdown",
   "metadata": {},
   "source": [
    "The parameter $\\rho_{kl}$ denotes correlation between two risk factors $k$ and $l$ in a pair of risk factors. The rules defining the equity delta correlations are set in [MAR21.78](https://www.bis.org/basel_framework/chapter/MAR/21.htm?inforce=20220101#paragraph_MAR_21_20220101_21_78).\n",
    "\n",
    "The rules can be summarised for each pair of risk factors as follows:\n",
    "\n",
    "- Case 1: same name, different type: a single value -> 0.999\n",
    "- Case 2: different name, same type: a single value depending on bucket, for example, 0.15\n",
    "- Case 3: different name, different type: value depending on risk factor multiplier by 0.999, for example, 0.15 x 0.999\n",
    "\n",
    "Stylized example:\n",
    "\n",
    "\n",
    "| risk factors | name1-spot | name1-repo | name2-spot | name2-repo |\n",
    "|------------|-------------|-------------|-------------|-------------|\n",
    "| name1-spot | 1 |  |  |  |\n",
    "| name1-repo | same_name_diff_type | 1 |  |  |\n",
    "| name2-spot | rho_by_name | rho_by_name x type_multiplier | 1 |  |\n",
    "| name2-repo | rho_by_name x type_multiplier | rho_by_name x type_multiplier | same_name_diff_type | 1 |"
   ]
  },
  {
   "cell_type": "code",
   "execution_count": 15,
   "metadata": {},
   "outputs": [],
   "source": [
    "# Equity delta risk factor is defined as a combination of fields - \"Qualifier\" and \"Label2\", i.e. equity name and risk factor type.\n",
    "# Creating variables:\n",
    "same_risk_factor = 1.0\n",
    "same_name_diff_type = 0.999\n",
    "diff_type_multiplier = 0.999"
   ]
  },
  {
   "cell_type": "code",
   "execution_count": 16,
   "metadata": {
    "scrolled": true
   },
   "outputs": [
    {
     "data": {
      "text/html": [
       "<div>\n",
       "<style scoped>\n",
       "    .dataframe tbody tr th:only-of-type {\n",
       "        vertical-align: middle;\n",
       "    }\n",
       "\n",
       "    .dataframe tbody tr th {\n",
       "        vertical-align: top;\n",
       "    }\n",
       "\n",
       "    .dataframe thead th {\n",
       "        text-align: right;\n",
       "    }\n",
       "</style>\n",
       "<table border=\"1\" class=\"dataframe\">\n",
       "  <thead>\n",
       "    <tr style=\"text-align: right;\">\n",
       "      <th></th>\n",
       "      <th>names_correlation</th>\n",
       "    </tr>\n",
       "    <tr>\n",
       "      <th>Bucket</th>\n",
       "      <th></th>\n",
       "    </tr>\n",
       "  </thead>\n",
       "  <tbody>\n",
       "    <tr>\n",
       "      <th>1.0</th>\n",
       "      <td>0.15</td>\n",
       "    </tr>\n",
       "    <tr>\n",
       "      <th>2.0</th>\n",
       "      <td>0.15</td>\n",
       "    </tr>\n",
       "    <tr>\n",
       "      <th>3.0</th>\n",
       "      <td>0.15</td>\n",
       "    </tr>\n",
       "    <tr>\n",
       "      <th>4.0</th>\n",
       "      <td>0.15</td>\n",
       "    </tr>\n",
       "    <tr>\n",
       "      <th>5.0</th>\n",
       "      <td>0.25</td>\n",
       "    </tr>\n",
       "  </tbody>\n",
       "</table>\n",
       "</div>"
      ],
      "text/plain": [
       "        names_correlation\n",
       "Bucket                   \n",
       "1.0                  0.15\n",
       "2.0                  0.15\n",
       "3.0                  0.15\n",
       "4.0                  0.15\n",
       "5.0                  0.25"
      ]
     },
     "execution_count": 16,
     "metadata": {},
     "output_type": "execute_result"
    }
   ],
   "source": [
    "# Creating a datastore holding correlations defined per bucket ([MAR21.78](2)):\n",
    "eq_delta_rho = session.read_csv(\n",
    "    \"s3://data.atoti.io/notebooks/sbm/parameters/eq_delta_rho.csv\",\n",
    "    keys=[\"Bucket\"],\n",
    "    store_name=\"RiskFactorCorrelations\",\n",
    ")\n",
    "risks_store.join(eq_delta_rho)\n",
    "eq_delta_rho.head(5)"
   ]
  },
  {
   "cell_type": "code",
   "execution_count": 17,
   "metadata": {},
   "outputs": [],
   "source": [
    "m[\"names_correlation.VALUE\"] = eq_delta_rho[\"names_correlation\"]\n",
    "m[\"names_correlation.VALUE\"] = eq_delta_rho[\"names_correlation\"]\n",
    "# Let's put it into a folder and format as percentages:\n",
    "m[\"names_correlation.VALUE\"].folder = \"Parameters\"\n",
    "m[\"names_correlation.VALUE\"].formatter = \"DOUBLE[0.00]\""
   ]
  },
  {
   "cell_type": "code",
   "execution_count": 18,
   "metadata": {
    "atoti": {
     "widget": {
      "mapping": {
       "columns": [
        "ALL_MEASURES"
       ],
       "measures": [
        "[Measures].[names_correlation.VALUE]"
       ],
       "rows": []
      },
      "name": "",
      "query": {
       "context": {
        "queriesResultLimit.intermediateSize": 1000000,
        "queriesResultLimit.transientSize": 10000000
       },
       "mdx": "SELECT NON EMPTY [Measures].[names_correlation.VALUE] ON COLUMNS, NON EMPTY Hierarchize(DrilldownLevel([Risks].[Bucket].[ALL].[AllMember])) ON ROWS FROM [Risks] CELL PROPERTIES VALUE, FORMATTED_VALUE, BACK_COLOR, FORE_COLOR, FONT_FLAGS",
       "updateMode": "once"
      },
      "serverKey": "default",
      "widgetKey": "pivot-table"
     }
    }
   },
   "outputs": [
    {
     "data": {
      "application/vnd.atoti.v0+json": {
       "name": null,
       "session": "Unnamed"
      },
      "text/html": [
       "<img src=\"data:image/svg+xml;charset=utf8,%3C?xml%20version=%221.0%22%20standalone=%22no%22?%3E%3Csvg%20xmlns=%22http://www.w3.org/2000/svg%22%20height=%22348%22%20width=%22978%22%3E%3CforeignObject%20width=%22100%25%22%20height=%22100%25%22%20x=%220%22%20y=%220%22%3E%3Cstyle%20type=%22text/css%22%3E*,%20::before,%20::after%20%7Bbox-sizing:%20unset%7D%0A.ant-root%20%5Bclass%5E=%22ant-%22%5D,%20.ant-root%20%5Bclass*=%22ant-%22%5D,%20.ant-root%20%5Bclass%5E=%22ant-%22%5D%20*,%20.ant-root%20%5Bclass*=%22ant-%22%5D%20*,%20.ant-root%20%5Bclass%5E=%22ant-%22%5D%20::before,%20.ant-root%20%5Bclass*=%22ant-%22%5D%20::before,%20.ant-root%20%5Bclass%5E=%22ant-%22%5D%20::after,%20.ant-root%20%5Bclass*=%22ant-%22%5D%20::after%20%7Bbox-sizing:%20border-box%7D%0A.ant-root%20html,%20.ant-root%20%7Bwidth:%20100%25;%20height:%20100%25%7D%0A.ant-root%20*,%20.ant-root%20::before,%20.ant-root%20::after%20%7Bbox-sizing:%20border-box%7D%0A.ant-root%20%7Bmargin-top:%200px;%20margin-right:%200px;%20margin-bottom:%200px;%20margin-left:%200px;%20color:%20rgb(89,%2089,%2089);%20font-size:%2012px;%20font-family:%20-apple-system,%20BlinkMacSystemFont,%20%22Segoe%20UI%22,%20Roboto,%20%22Helvetica%20Neue%22,%20Arial,%20%22Noto%20Sans%22,%20sans-serif,%20%22Apple%20Color%20Emoji%22,%20%22Segoe%20UI%20Emoji%22,%20%22Segoe%20UI%20Symbol%22,%20%22Noto%20Color%20Emoji%22;%20font-variant-ligatures:%20normal;%20font-variant-numeric:%20tabular-nums;%20font-variant-east-asian:%20normal;%20font-variant-caps:%20normal;%20line-height:%201.66667;%20background-color:%20rgb(255,%20255,%20255);%20--antd-wave-shadow-color:%20undefined;%20--scroll-bar:%20undefined%7D%0A.ant-root%20.ant-spin%20%7Bbox-sizing:%20border-box;%20margin-top:%200px;%20margin-right:%200px;%20margin-bottom:%200px;%20margin-left:%200px;%20padding-top:%200px;%20padding-right:%200px;%20padding-bottom:%200px;%20padding-left:%200px;%20font-size:%2012px;%20font-variant-ligatures:%20normal;%20font-variant-numeric:%20tabular-nums;%20font-variant-east-asian:%20normal;%20font-variant-caps:%20normal;%20line-height:%201.66667;%20list-style-position:%20initial;%20list-style-image:%20initial;%20list-style-type:%20none;%20position:%20absolute;%20display:%20none;%20color:%20rgb(0,%20174,%20239);%20text-align:%20center;%20vertical-align:%20middle;%20opacity:%200;%20transition-duration:%200.3s;%20transition-timing-function:%20cubic-bezier(0.78,%200.14,%200.15,%200.86);%20transition-delay:%200s;%20transition-property:%20transform%7D%0A.ant-root%20.ant-spin-spinning%20%7Bposition:%20static;%20display:%20inline-block;%20opacity:%201%7D%0A.ant-root%20.ant-spin-dot%20%7Bposition:%20relative;%20display:%20inline-block;%20font-size:%2020px;%20width:%201em;%20height:%201em%7D%0A.ant-root%20.ant-spin-dot-item%20%7Bposition:%20absolute;%20display:%20block;%20width:%209px;%20height:%209px;%20background-color:%20rgb(0,%20174,%20239);%20border-top-left-radius:%20100%25;%20border-top-right-radius:%20100%25;%20border-bottom-right-radius:%20100%25;%20border-bottom-left-radius:%20100%25;%20transform:%20scale(0.75);%20transform-origin:%2050%25%2050%25;%20opacity:%200.3;%20animation-duration:%201s;%20animation-timing-function:%20linear;%20animation-delay:%200s;%20animation-iteration-count:%20infinite;%20animation-direction:%20alternate;%20animation-fill-mode:%20none;%20animation-play-state:%20running;%20animation-name:%20antSpinMove%7D%0A.ant-root%20.ant-spin-dot-item:nth-child(1)%20%7Btop:%200px;%20left:%200px%7D%0A.ant-root%20.ant-spin-dot-item:nth-child(2)%20%7Btop:%200px;%20right:%200px;%20animation-delay:%200.4s%7D%0A.ant-root%20.ant-spin-dot-item:nth-child(3)%20%7Bright:%200px;%20bottom:%200px;%20animation-delay:%200.8s%7D%0A.ant-root%20.ant-spin-dot-item:nth-child(4)%20%7Bbottom:%200px;%20left:%200px;%20animation-delay:%201.2s%7D%0A.ant-root%20.ant-spin-dot-spin%20%7Btransform:%20rotate(45deg);%20animation-duration:%201.2s;%20animation-timing-function:%20linear;%20animation-delay:%200s;%20animation-iteration-count:%20infinite;%20animation-direction:%20normal;%20animation-fill-mode:%20none;%20animation-play-state:%20running;%20animation-name:%20antRotate%7D%0A.ant-root%20.ant-spin-lg%20.ant-spin-dot%20%7Bfont-size:%2032px%7D%0A.ant-root%20.ant-spin-lg%20.ant-spin-dot%20i%20%7Bwidth:%2014px;%20height:%2014px%7D%0A.css-12ebr42-AWidget%20%7Bheight:%20100%25%7D%0A.css-1e3kjgr-Spinner%20%7Bheight:%20100%25;%20position:%20relative%7D%0A.css-ck2xzt-Spinner%20%7B-webkit-box-align:%20center;%20align-items:%20center;%20background-image:%20initial;%20background-position-x:%20initial;%20background-position-y:%20initial;%20background-size:%20initial;%20background-repeat-x:%20initial;%20background-repeat-y:%20initial;%20background-attachment:%20initial;%20background-origin:%20initial;%20background-clip:%20initial;%20background-color:%20transparent;%20display:%20flex;%20height:%20100%25;%20-webkit-box-pack:%20center;%20justify-content:%20center;%20position:%20absolute;%20transition-duration:%20300ms;%20transition-timing-function:%20ease;%20transition-delay:%200s;%20transition-property:%20opacity;%20width:%20100%25;%20opacity:%200;%20pointer-events:%20none;%20z-index:%202%7D%0A.css-6s7z8y-Table%20%7Bpadding-bottom:%202px;%20padding-right:%202px;%20height:%20100%25%7D%0A.css-18k6uz5-Table%20%7Bcursor:%20cell;%20height:%20100%25;%20outline-color:%20initial;%20outline-style:%20none;%20outline-width:%20initial%7D%0A.css-16sdsf5-Table%20%7Bdisplay:%20flex;%20height:%20346px%7D%0A.css-9wvnih-Table%20%7Bborder-collapse:%20collapse;%20height:%2028px;%20width:%20120px%7D%0A.css-gy6esx%20%7Bheight:%2028px;%20width:%20120px%7D%0A.css-pu2plr%20%7Bheight:%2028px;%20overflow-x:%20hidden;%20overflow-y:%20hidden;%20position:%20relative;%20width:%20120px;%20border-right-width:%202px;%20border-right-style:%20solid;%20border-right-color:%20rgb(233,%20233,%20233)%7D%0A.css-cn3y95%20%7Bheight:%20318px;%20width:%20120px;%20overflow-x:%20hidden;%20overflow-y:%20auto%7D%0A.css-nq0smp%20%7Bheight:%2028px;%20overflow-x:%20hidden;%20overflow-y:%20hidden;%20position:%20relative;%20width:%20120px%7D%0A.css-7cqt0%20%7Bheight:%20280px;%20overflow-x:%20hidden;%20overflow-y:%20hidden;%20position:%20relative;%20width:%20120px;%20border-top-width:%202px;%20border-top-style:%20solid;%20border-top-color:%20rgb(233,%20233,%20233);%20border-right-width:%202px;%20border-right-style:%20solid;%20border-right-color:%20rgb(233,%20233,%20233)%7D%0A.css-8q8qpn%20%7Bheight:%20280px;%20overflow-x:%20hidden;%20overflow-y:%20hidden;%20position:%20relative;%20width:%20120px;%20border-top-width:%202px;%20border-top-style:%20solid;%20border-top-color:%20rgb(233,%20233,%20233)%7D%0A.css-1pdv37h-Table%20%7Bwidth:%20856px;%20border-collapse:%20collapse%7D%0A.css-1wksgdh%20%7Bheight:%2028px;%20width:%20838px;%20overflow-x:%20auto;%20overflow-y:%20hidden%7D%0A.css-1jgqjjn%20%7Bheight:%20318px;%20width:%20856px;%20overflow-x:%20auto;%20overflow-y:%20auto%7D%0A*%20%7B-ms-overflow-style:%20none;%20scrollbar-width:%20none%7D%0A*::-webkit-scrollbar%20%7Bdisplay:%20none%7D%3C/style%3E%3Cdiv%20xmlns=%22http://www.w3.org/1999/xhtml%22%20style=%22height:%20348px;%20width:%20978px;%22%3E&lt;div%20xmlns=%22http://www.w3.org/1999/xhtml%22%20class=%22ant-root%20css-0%22&gt;&lt;div%20class=%22ant-dropdown-trigger%20css-12ebr42-AWidget%22&gt;&lt;div%20class=%22css-1e3kjgr-Spinner%22&gt;&lt;div%20class=%22css-ck2xzt-Spinner%22&gt;&lt;div%20class=%22ant-spin%20ant-spin-lg%20ant-spin-spinning%22&gt;&lt;span%20class=%22ant-spin-dot%20ant-spin-dot-spin%22&gt;&lt;i%20class=%22ant-spin-dot-item%22&gt;&lt;/i&gt;&lt;i%20class=%22ant-spin-dot-item%22&gt;&lt;/i&gt;&lt;i%20class=%22ant-spin-dot-item%22&gt;&lt;/i&gt;&lt;i%20class=%22ant-spin-dot-item%22&gt;&lt;/i&gt;&lt;/span&gt;&lt;/div&gt;&lt;/div&gt;&lt;div%20class=%22css-6s7z8y-Table%22&gt;&lt;div%20tabindex=%220%22%20class=%22css-18k6uz5-Table%22&gt;&lt;div%20class=%22css-16sdsf5-Table%22&gt;&lt;div%20class=%22css-9wvnih-Table%22&gt;&lt;div%20class=%22css-gy6esx%22&gt;&lt;div%20class=%22css-pu2plr%22&gt;&lt;div%20style=%22font-size:%2012px;%20height:%2028px;%20left:%200px;%20padding:%204px%204px%203px;%20position:%20absolute;%20top:%200px;%20width:%20120px;%20font-weight:%20600;%22&gt;Bucket&lt;/div&gt;&lt;/div&gt;&lt;/div&gt;&lt;div%20class=%22css-cn3y95%22&gt;&lt;div%20class=%22css-7cqt0%22&gt;&lt;div%20style=%22overflow:%20hidden;%20display:%20flex;%20align-items:%20center;%20font-size:%2012px;%20height:%2028px;%20left:%200px;%20padding:%204px%204px%203px;%20position:%20absolute;%20top:%200px;%20width:%20120px;%20border-right:%202px%20solid%20rgb(233,%20233,%20233);%22&gt;&lt;span%20style=%22text-overflow:%20ellipsis;%20overflow:%20hidden;%20white-space:%20nowrap;%20max-width:%20calc((100%25%20-%200px)%20-%200px);%22&gt;1&lt;/span&gt;&lt;div%20style=%22height:%20100%25;%20margin-left:%206px;%22&gt;&lt;/div&gt;&lt;/div&gt;&lt;div%20style=%22overflow:%20hidden;%20display:%20flex;%20align-items:%20center;%20font-size:%2012px;%20height:%2028px;%20left:%200px;%20padding:%204px%204px%203px;%20position:%20absolute;%20top:%2028px;%20width:%20120px;%20background-color:%20rgb(250,%20250,%20250);%20border-right:%202px%20solid%20rgb(233,%20233,%20233);%22&gt;&lt;span%20style=%22text-overflow:%20ellipsis;%20overflow:%20hidden;%20white-space:%20nowrap;%20max-width:%20calc((100%25%20-%200px)%20-%200px);%22&gt;2&lt;/span&gt;&lt;div%20style=%22height:%20100%25;%20margin-left:%206px;%22&gt;&lt;/div&gt;&lt;/div&gt;&lt;div%20style=%22overflow:%20hidden;%20display:%20flex;%20align-items:%20center;%20font-size:%2012px;%20height:%2028px;%20left:%200px;%20padding:%204px%204px%203px;%20position:%20absolute;%20top:%2056px;%20width:%20120px;%20border-right:%202px%20solid%20rgb(233,%20233,%20233);%22&gt;&lt;span%20style=%22text-overflow:%20ellipsis;%20overflow:%20hidden;%20white-space:%20nowrap;%20max-width:%20calc((100%25%20-%200px)%20-%200px);%22&gt;3&lt;/span&gt;&lt;div%20style=%22height:%20100%25;%20margin-left:%206px;%22&gt;&lt;/div&gt;&lt;/div&gt;&lt;div%20style=%22overflow:%20hidden;%20display:%20flex;%20align-items:%20center;%20font-size:%2012px;%20height:%2028px;%20left:%200px;%20padding:%204px%204px%203px;%20position:%20absolute;%20top:%2084px;%20width:%20120px;%20background-color:%20rgb(250,%20250,%20250);%20border-right:%202px%20solid%20rgb(233,%20233,%20233);%22&gt;&lt;span%20style=%22text-overflow:%20ellipsis;%20overflow:%20hidden;%20white-space:%20nowrap;%20max-width:%20calc((100%25%20-%200px)%20-%200px);%22&gt;4&lt;/span&gt;&lt;div%20style=%22height:%20100%25;%20margin-left:%206px;%22&gt;&lt;/div&gt;&lt;/div&gt;&lt;div%20style=%22overflow:%20hidden;%20display:%20flex;%20align-items:%20center;%20font-size:%2012px;%20height:%2028px;%20left:%200px;%20padding:%204px%204px%203px;%20position:%20absolute;%20top:%20112px;%20width:%20120px;%20border-right:%202px%20solid%20rgb(233,%20233,%20233);%22&gt;&lt;span%20style=%22text-overflow:%20ellipsis;%20overflow:%20hidden;%20white-space:%20nowrap;%20max-width:%20calc((100%25%20-%200px)%20-%200px);%22&gt;5&lt;/span&gt;&lt;div%20style=%22height:%20100%25;%20margin-left:%206px;%22&gt;&lt;/div&gt;&lt;/div&gt;&lt;div%20style=%22overflow:%20hidden;%20display:%20flex;%20align-items:%20center;%20font-size:%2012px;%20height:%2028px;%20left:%200px;%20padding:%204px%204px%203px;%20position:%20absolute;%20top:%20140px;%20width:%20120px;%20background-color:%20rgb(250,%20250,%20250);%20border-right:%202px%20solid%20rgb(233,%20233,%20233);%22&gt;&lt;span%20style=%22text-overflow:%20ellipsis;%20overflow:%20hidden;%20white-space:%20nowrap;%20max-width:%20calc((100%25%20-%200px)%20-%200px);%22&gt;7&lt;/span&gt;&lt;div%20style=%22height:%20100%25;%20margin-left:%206px;%22&gt;&lt;/div&gt;&lt;/div&gt;&lt;div%20style=%22overflow:%20hidden;%20display:%20flex;%20align-items:%20center;%20font-size:%2012px;%20height:%2028px;%20left:%200px;%20padding:%204px%204px%203px;%20position:%20absolute;%20top:%20168px;%20width:%20120px;%20border-right:%202px%20solid%20rgb(233,%20233,%20233);%22&gt;&lt;span%20style=%22text-overflow:%20ellipsis;%20overflow:%20hidden;%20white-space:%20nowrap;%20max-width:%20calc((100%25%20-%200px)%20-%200px);%22&gt;8&lt;/span&gt;&lt;div%20style=%22height:%20100%25;%20margin-left:%206px;%22&gt;&lt;/div&gt;&lt;/div&gt;&lt;div%20style=%22overflow:%20hidden;%20display:%20flex;%20align-items:%20center;%20font-size:%2012px;%20height:%2028px;%20left:%200px;%20padding:%204px%204px%203px;%20position:%20absolute;%20top:%20196px;%20width:%20120px;%20background-color:%20rgb(250,%20250,%20250);%20border-right:%202px%20solid%20rgb(233,%20233,%20233);%22&gt;&lt;span%20style=%22text-overflow:%20ellipsis;%20overflow:%20hidden;%20white-space:%20nowrap;%20max-width:%20calc((100%25%20-%200px)%20-%200px);%22&gt;9&lt;/span&gt;&lt;div%20style=%22height:%20100%25;%20margin-left:%206px;%22&gt;&lt;/div&gt;&lt;/div&gt;&lt;div%20style=%22overflow:%20hidden;%20display:%20flex;%20align-items:%20center;%20font-size:%2012px;%20height:%2028px;%20left:%200px;%20padding:%204px%204px%203px;%20position:%20absolute;%20top:%20224px;%20width:%20120px;%20border-right:%202px%20solid%20rgb(233,%20233,%20233);%22&gt;&lt;span%20style=%22text-overflow:%20ellipsis;%20overflow:%20hidden;%20white-space:%20nowrap;%20max-width:%20calc((100%25%20-%200px)%20-%200px);%22&gt;10&lt;/span&gt;&lt;div%20style=%22height:%20100%25;%20margin-left:%206px;%22&gt;&lt;/div&gt;&lt;/div&gt;&lt;div%20style=%22overflow:%20hidden;%20display:%20flex;%20align-items:%20center;%20font-size:%2012px;%20height:%2028px;%20left:%200px;%20padding:%204px%204px%203px;%20position:%20absolute;%20top:%20252px;%20width:%20120px;%20background-color:%20rgb(250,%20250,%20250);%20border-right:%202px%20solid%20rgb(233,%20233,%20233);%22&gt;&lt;span%20style=%22text-overflow:%20ellipsis;%20overflow:%20hidden;%20white-space:%20nowrap;%20max-width:%20calc((100%25%20-%200px)%20-%200px);%22&gt;12&lt;/span&gt;&lt;div%20style=%22height:%20100%25;%20margin-left:%206px;%22&gt;&lt;/div&gt;&lt;/div&gt;&lt;/div&gt;&lt;/div&gt;&lt;/div&gt;&lt;div%20class=%22css-1pdv37h-Table%22&gt;&lt;div%20class=%22css-1wksgdh%22&gt;&lt;div%20class=%22css-nq0smp%22&gt;&lt;div%20style=%22overflow:%20hidden;%20display:%20flex;%20align-items:%20center;%20font-size:%2012px;%20height:%2028px;%20left:%200px;%20padding:%204px%204px%203px;%20position:%20absolute;%20top:%200px;%20width:%20120px;%20font-weight:%20600;%22&gt;&lt;span%20style=%22text-overflow:%20ellipsis;%20overflow:%20hidden;%20white-space:%20nowrap;%20max-width:%20calc((100%25%20-%200px)%20-%200px);%22&gt;names_correlation.VALUE&lt;/span&gt;&lt;div%20style=%22height:%20100%25;%20margin-left:%206px;%22&gt;&lt;/div&gt;&lt;/div&gt;&lt;/div&gt;&lt;/div&gt;&lt;div%20class=%22css-1jgqjjn%22&gt;&lt;div%20class=%22css-8q8qpn%22&gt;&lt;div%20class=%22css-1lzltx4-TableCell%22%20style=%22font-size:%2012px;%20height:%2028px;%20left:%200px;%20padding:%204px%204px%203px;%20position:%20absolute;%20top:%200px;%20width:%20120px;%20text-align:%20right;%20border-right:%201px%20solid%20rgb(233,%20233,%20233);%22&gt;0.15&lt;/div&gt;&lt;div%20class=%22css-1lzltx4-TableCell%22%20style=%22font-size:%2012px;%20height:%2028px;%20left:%200px;%20padding:%204px%204px%203px;%20position:%20absolute;%20top:%2028px;%20width:%20120px;%20text-align:%20right;%20background-color:%20rgb(250,%20250,%20250);%20border-right:%201px%20solid%20rgb(233,%20233,%20233);%22&gt;0.15&lt;/div&gt;&lt;div%20class=%22css-1lzltx4-TableCell%22%20style=%22font-size:%2012px;%20height:%2028px;%20left:%200px;%20padding:%204px%204px%203px;%20position:%20absolute;%20top:%2056px;%20width:%20120px;%20text-align:%20right;%20border-right:%201px%20solid%20rgb(233,%20233,%20233);%22&gt;0.15&lt;/div&gt;&lt;div%20class=%22css-1lzltx4-TableCell%22%20style=%22font-size:%2012px;%20height:%2028px;%20left:%200px;%20padding:%204px%204px%203px;%20position:%20absolute;%20top:%2084px;%20width:%20120px;%20text-align:%20right;%20background-color:%20rgb(250,%20250,%20250);%20border-right:%201px%20solid%20rgb(233,%20233,%20233);%22&gt;0.15&lt;/div&gt;&lt;div%20class=%22css-1lzltx4-TableCell%22%20style=%22font-size:%2012px;%20height:%2028px;%20left:%200px;%20padding:%204px%204px%203px;%20position:%20absolute;%20top:%20112px;%20width:%20120px;%20text-align:%20right;%20border-right:%201px%20solid%20rgb(233,%20233,%20233);%22&gt;0.25&lt;/div&gt;&lt;div%20class=%22css-1lzltx4-TableCell%22%20style=%22font-size:%2012px;%20height:%2028px;%20left:%200px;%20padding:%204px%204px%203px;%20position:%20absolute;%20top:%20140px;%20width:%20120px;%20text-align:%20right;%20background-color:%20rgb(250,%20250,%20250);%20border-right:%201px%20solid%20rgb(233,%20233,%20233);%22&gt;0.25&lt;/div&gt;&lt;div%20class=%22css-1lzltx4-TableCell%22%20style=%22font-size:%2012px;%20height:%2028px;%20left:%200px;%20padding:%204px%204px%203px;%20position:%20absolute;%20top:%20168px;%20width:%20120px;%20text-align:%20right;%20border-right:%201px%20solid%20rgb(233,%20233,%20233);%22&gt;0.25&lt;/div&gt;&lt;div%20class=%22css-1lzltx4-TableCell%22%20style=%22font-size:%2012px;%20height:%2028px;%20left:%200px;%20padding:%204px%204px%203px;%20position:%20absolute;%20top:%20196px;%20width:%20120px;%20text-align:%20right;%20background-color:%20rgb(250,%20250,%20250);%20border-right:%201px%20solid%20rgb(233,%20233,%20233);%22&gt;0.07&lt;/div&gt;&lt;div%20class=%22css-1lzltx4-TableCell%22%20style=%22font-size:%2012px;%20height:%2028px;%20left:%200px;%20padding:%204px%204px%203px;%20position:%20absolute;%20top:%20224px;%20width:%20120px;%20text-align:%20right;%20border-right:%201px%20solid%20rgb(233,%20233,%20233);%22&gt;0.12&lt;/div&gt;&lt;div%20class=%22css-1lzltx4-TableCell%22%20style=%22font-size:%2012px;%20height:%2028px;%20left:%200px;%20padding:%204px%204px%203px;%20position:%20absolute;%20top:%20252px;%20width:%20120px;%20text-align:%20right;%20background-color:%20rgb(250,%20250,%20250);%20border-right:%201px%20solid%20rgb(233,%20233,%20233);%22&gt;0.80&lt;/div&gt;&lt;/div&gt;&lt;/div&gt;&lt;/div&gt;&lt;/div&gt;&lt;/div&gt;&lt;/div&gt;&lt;/div&gt;&lt;/div&gt;&lt;/div&gt;%3C/div%3E%3C/foreignObject%3E%3C/svg%3E\">"
      ],
      "text/plain": [
       "Open the notebook in JupyterLab with the atoti extension installed and enabled to start editing this widget."
      ]
     },
     "metadata": {},
     "output_type": "display_data"
    }
   ],
   "source": [
    "session.visualize()"
   ]
  },
  {
   "cell_type": "markdown",
   "metadata": {},
   "source": [
    "Since many of the risk factor pairs share the same correlation value, it is possible to optimize the variance-covariance aggregation. The efficiency of this calculation is critical when the data cardinality along the risk factor is high.\n",
    "\n",
    "We decompose the formula into the three components:\n",
    "1. contribution of pairs with both risk factors being spot - same correlation $\\rho_{names}$ set per bucket,\n",
    "2. contribution of pairs with both risk factors being repo - same correlation $\\rho_{names}$ set per bucket,\n",
    "3. contribution of pairs where one risk factor is spot, another one is repo - same correlation $\\rho_{names} \\cdot 0.999$. We'd need to account that for some of the pairs where one risk factor is spot, one is repo some the equity names will match and need to be correlated at 0.999\n",
    "\n",
    "\n",
    "Let's start with the pairs where both risk factors are either spot or repo - cases 1. and 2. above. Since for any $k$ and $l$ the correlation $\\rho_{kl}$ will be equal to correlation defined per bucket $\\rho_{names}$, their contribution can be rewritten:\n",
    "\n",
    "$$ \\sum_k WS_k^2 +  \\sum_k \\sum_{l \\neq k} \\rho_{kl} WS_k WS_l = \\\\ \\sum_k WS_k^2 + \\rho_{names} \\cdot \\left(\\left( \\sum_k WS_k \\right)^2 - \\sum_k WS_k^2  \\right) = \\\\ (1-\\rho_{names}) \\cdot \\sum_k WS_k^2 + \\rho_{names} \\cdot \\left( \\sum_k WS_k \\right)^2  \\label{reduced_formula} \\tag{reduced_formula}$$"
   ]
  },
  {
   "cell_type": "code",
   "execution_count": 19,
   "metadata": {},
   "outputs": [],
   "source": [
    "# This measure will display sum of WS_k squared by risk factor (Qualifier + Label2):\n",
    "m[\"sum squares\"] = tt.agg.square_sum(\n",
    "    m[\"WS\"], scope=tt.scope.origin(lvl[\"Qualifier\"], lvl[\"Label2\"])\n",
    ")"
   ]
  },
  {
   "cell_type": "code",
   "execution_count": 20,
   "metadata": {},
   "outputs": [],
   "source": [
    "reduced_formula = (1 - m[\"names_correlation.VALUE\"]) * m[\"sum squares\"] + m[\n",
    "    \"names_correlation.VALUE\"\n",
    "] * m[\"WS\"] ** 2\n",
    "\n",
    "# Total contribution of:\n",
    "# - pairs having only spot risk factors,\n",
    "# - pairs having only repo risk factors,\n",
    "# is the sum of the reduced formula by Label2 members.\n",
    "\n",
    "m[\"spot&repo pairs contribution\"] = tt.agg.sum(\n",
    "    reduced_formula, scope=tt.scope.origin(lvl[\"Label2\"])\n",
    ")"
   ]
  },
  {
   "cell_type": "markdown",
   "metadata": {},
   "source": [
    "The contribution of the risk factors where one risk factor belongs to \"SPOT\" and the other belongs to \"REPO\" - case 3 above - can be rewritten:\n",
    "\n",
    "$$ \\sum_k WS_k^2 +  \\sum_k \\sum_{l \\neq k} \\rho_{kl} WS_k WS_l = \\\\ \\vec{WS_{repo}^T} \\cdot J_{n_{repo}, n_{spot}} \\cdot \\vec{WS_{spot}} \\cdot \\rho_{names} \\cdot 0.999 + 0.999 \\cdot (1 - \\rho_{names}) \\sum_{n\\in names}{WS_n^{repo} \\cdot WS_n^{spot}} \\label{spot_vs_repo} $$\n",
    "\n",
    "where:\n",
    "- J - is a matrix of ones,\n",
    "- first term in the above formula performs aggregation of all sensitivities, as if they all are correlated at $\\rho_{names}$,\n",
    "- the second term is to correct the first term and to account for the fact that risk factors, where spot and repo risk factors have the same equity name, must be correlated at 0.999.\n"
   ]
  },
  {
   "cell_type": "markdown",
   "metadata": {},
   "source": [
    "**First term**\n",
    "\n",
    "The measure `sum WS_repo |J| WS_spot` will display $\\vec{WS_{repo}^T} \\cdot J_{n_{repo}, n_{spot}} \\cdot \\vec{WS_{spot}} $."
   ]
  },
  {
   "cell_type": "code",
   "execution_count": 21,
   "metadata": {},
   "outputs": [],
   "source": [
    "# filtering for repo and spot risk factors:\n",
    "m[\"WS_spot\"] = tt.filter(m[\"WS\"], lvl[\"Label2\"] == \"SPOT\")\n",
    "m[\"WS_repo\"] = tt.filter(m[\"WS\"], lvl[\"Label2\"] == \"REPO\")\n",
    "\n",
    "# Collect WS of the spot risk factors in a vector and show against every qualifier in a bucket:\n",
    "m[\"weights_vector\"] = tt.agg._vector(\n",
    "    m[\"WS_spot\"], scope=tt.scope.origin(lvl[\"Bucket\"], lvl[\"Qualifier\"])\n",
    ")\n",
    "\n",
    "m[\"spot vector\"] = tt.total(m[\"weights_vector\"], h[\"Qualifier\"])\n",
    "\n",
    "# cross product of weighted sensitivities for the names, having both spot and repo sensitivities:\n",
    "# Multiply vector WS of the spot risk factors by WS of each repo risk factor sum them up\n",
    "repo_scalar_x_spot_vector = m[\"WS_repo\"] * m[\"spot vector\"]\n",
    "m[\"sum WS_repo |J| WS_spot\"] = tt.agg._stop(\n",
    "    tt.agg.sum(\n",
    "        tt.array.sum(repo_scalar_x_spot_vector),\n",
    "        scope=tt.scope.origin(lvl[\"Bucket\"], lvl[\"Qualifier\"]),\n",
    "    ),\n",
    "    lvl[\"Bucket\"],\n",
    ")"
   ]
  },
  {
   "cell_type": "markdown",
   "metadata": {},
   "source": [
    "**Second term**\n",
    "\n",
    "The measure `sum WS repo and spot` will display $\\sum_{n\\in names}{WS_n^{repo} \\cdot WS_n^{spot}}$"
   ]
  },
  {
   "cell_type": "code",
   "execution_count": 22,
   "metadata": {},
   "outputs": [],
   "source": [
    "m[\"WS_spot_parent\"] = tt.agg.sum(m[\"WS_spot\"], scope=tt.scope.origin(lvl[\"Label2\"]))\n",
    "m[\"WS_repo_parent\"] = tt.agg.sum(m[\"WS_repo\"], scope=tt.scope.origin(lvl[\"Label2\"]))\n",
    "\n",
    "\n",
    "m[\"sum WS repo and spot\"] = tt.agg._stop(\n",
    "    tt.agg.sum(\n",
    "        m[\"WS_spot_parent\"] * m[\"WS_repo_parent\"],\n",
    "        scope=tt.scope.origin(lvl[\"Qualifier\"]),\n",
    "    ),\n",
    "    lvl[\"Bucket\"],\n",
    ")"
   ]
  },
  {
   "cell_type": "markdown",
   "metadata": {},
   "source": [
    "**Combined result cross spot & repo pairs**"
   ]
  },
  {
   "cell_type": "code",
   "execution_count": 23,
   "metadata": {},
   "outputs": [],
   "source": [
    "# final contribution of the pairs where one risk factor is spot, one is repo\n",
    "m[\"cross repo spot contribution\"] = (\n",
    "    m[\"names_correlation.VALUE\"] * m[\"sum WS_repo |J| WS_spot\"] * 0.999\n",
    "    + 0.999 * (1 - m[\"names_correlation.VALUE\"]) * m[\"sum WS repo and spot\"]\n",
    ")"
   ]
  },
  {
   "cell_type": "markdown",
   "metadata": {},
   "source": [
    "**Total Kb**"
   ]
  },
  {
   "cell_type": "code",
   "execution_count": 24,
   "metadata": {},
   "outputs": [],
   "source": [
    "m[\"Kb\"] = tt.where(\n",
    "    lvl[\"Bucket\"] == \"11\",\n",
    "    tt.agg.sum(tt.math.abs(m[\"WS\"]), scope=tt.scope.origin(lvl[\"Qualifier\"], lvl[\"Label2\"])),\n",
    "    tt.math.sqrt(\n",
    "        tt.math.max(\n",
    "            0, m[\"spot&repo pairs contribution\"] + 2 * m[\"cross repo spot contribution\"]\n",
    "        )\n",
    "    ),\n",
    ")"
   ]
  },
  {
   "cell_type": "code",
   "execution_count": 25,
   "metadata": {},
   "outputs": [
    {
     "data": {
      "application/vnd.atoti.query-result.v0+json": {
       "context": {
        "queriesTimeLimit": 30
       },
       "createEquivalentWidgetCode": "session.visualize()",
       "mdx": "SELECT [Measures].[Kb] ON COLUMNS, NON EMPTY [Risks].[Bucket].[Bucket].Members ON ROWS FROM [Risks]"
      },
      "text/html": [
       "<div>\n",
       "<style scoped>\n",
       "    .dataframe tbody tr th:only-of-type {\n",
       "        vertical-align: middle;\n",
       "    }\n",
       "\n",
       "    .dataframe tbody tr th {\n",
       "        vertical-align: top;\n",
       "    }\n",
       "\n",
       "    .dataframe thead th {\n",
       "        text-align: right;\n",
       "    }\n",
       "</style>\n",
       "<table border=\"1\" class=\"dataframe\">\n",
       "  <thead>\n",
       "    <tr style=\"text-align: right;\">\n",
       "      <th></th>\n",
       "      <th>Kb</th>\n",
       "    </tr>\n",
       "    <tr>\n",
       "      <th>Bucket</th>\n",
       "      <th></th>\n",
       "    </tr>\n",
       "  </thead>\n",
       "  <tbody>\n",
       "    <tr>\n",
       "      <th>1</th>\n",
       "      <td>2,002,940.32</td>\n",
       "    </tr>\n",
       "    <tr>\n",
       "      <th>2</th>\n",
       "      <td>1,247,249.60</td>\n",
       "    </tr>\n",
       "    <tr>\n",
       "      <th>3</th>\n",
       "      <td>4,757.80</td>\n",
       "    </tr>\n",
       "    <tr>\n",
       "      <th>4</th>\n",
       "      <td>758,465.49</td>\n",
       "    </tr>\n",
       "    <tr>\n",
       "      <th>5</th>\n",
       "      <td>456,861.06</td>\n",
       "    </tr>\n",
       "    <tr>\n",
       "      <th>7</th>\n",
       "      <td>932,682.89</td>\n",
       "    </tr>\n",
       "    <tr>\n",
       "      <th>8</th>\n",
       "      <td>3,937,788.92</td>\n",
       "    </tr>\n",
       "    <tr>\n",
       "      <th>9</th>\n",
       "      <td>2,234,809.96</td>\n",
       "    </tr>\n",
       "    <tr>\n",
       "      <th>10</th>\n",
       "      <td>1,819,315.90</td>\n",
       "    </tr>\n",
       "    <tr>\n",
       "      <th>11</th>\n",
       "      <td>3,409,711.00</td>\n",
       "    </tr>\n",
       "    <tr>\n",
       "      <th>12</th>\n",
       "      <td>286,992.44</td>\n",
       "    </tr>\n",
       "  </tbody>\n",
       "</table>\n",
       "</div>"
      ],
      "text/plain": [
       "                  Kb\n",
       "Bucket              \n",
       "1       2,002,940.32\n",
       "2       1,247,249.60\n",
       "3           4,757.80\n",
       "4         758,465.49\n",
       "5         456,861.06\n",
       "7         932,682.89\n",
       "8       3,937,788.92\n",
       "9       2,234,809.96\n",
       "10      1,819,315.90\n",
       "11      3,409,711.00\n",
       "12        286,992.44"
      ]
     },
     "execution_count": 25,
     "metadata": {},
     "output_type": "execute_result"
    }
   ],
   "source": [
    "cube.query(m[\"Kb\"], levels=lvl[\"Bucket\"])"
   ]
  },
  {
   "cell_type": "markdown",
   "metadata": {},
   "source": [
    "# Cross-bucket aggregation"
   ]
  },
  {
   "cell_type": "markdown",
   "metadata": {},
   "source": [
    "## Bucket correlations"
   ]
  },
  {
   "cell_type": "code",
   "execution_count": 26,
   "metadata": {},
   "outputs": [],
   "source": [
    "eq_delta_buckets_correlations = session.read_csv(\n",
    "    \"s3://data.atoti.io/notebooks/sbm/parameters/eq_delta_gamma.csv\",\n",
    "    keys=[\"Bucket\", \"Other Bucket\"],\n",
    "    store_name=\"eq_delta_corr_outer\",\n",
    ")\n",
    "risks_store.join(eq_delta_buckets_correlations)"
   ]
  },
  {
   "cell_type": "code",
   "execution_count": 27,
   "metadata": {},
   "outputs": [
    {
     "data": {
      "image/svg+xml": [
       "<svg xmlns=\"http://www.w3.org/2000/svg\" xmlns:xlink=\"http://www.w3.org/1999/xlink\" width=\"520px\" height=\"338px\" viewBox=\"0.00 0.00 520.00 338.00\">\n",
       "<g id=\"graph0\" class=\"graph\" transform=\"scale(1.0 1.0) rotate(0) translate(4 334)\">\n",
       "<title>Risks schema</title>\n",
       "<polygon fill=\"white\" stroke=\"none\" points=\"-4,4 -4,-334 516,-334 516,4 -4,4\"/>\n",
       "<!-- Risks -->\n",
       "<g id=\"node1\" class=\"node\"><title>Risks</title>\n",
       "<text text-anchor=\"start\" x=\"70.5\" y=\"-246.6\" font-family=\"-apple-system, BlinkMacSystemFont, 'Segoe UI', Helvetica, Arial, sans-serif, 'Apple Color Emoji', 'Segoe UI Emoji', 'Segoe UI Symbol'\" font-weight=\"bold\" font-size=\"13.00\">Risks</text>\n",
       "<polygon fill=\"#f5f5f5\" stroke=\"none\" points=\"9.5,-213 9.5,-237 40.5,-237 40.5,-213 9.5,-213\"/>\n",
       "<text text-anchor=\"start\" x=\"14.5\" y=\"-222.6\" font-family=\"-apple-system, BlinkMacSystemFont, 'Segoe UI', Helvetica, Arial, sans-serif, 'Apple Color Emoji', 'Segoe UI Emoji', 'Segoe UI Symbol'\" font-weight=\"bold\" font-size=\"13.00\">key</text>\n",
       "<polygon fill=\"#f5f5f5\" stroke=\"none\" points=\"40.5,-213 40.5,-237 117.5,-237 117.5,-213 40.5,-213\"/>\n",
       "<text text-anchor=\"start\" x=\"45.5\" y=\"-221.6\" font-family=\"-apple-system, BlinkMacSystemFont, 'Segoe UI', Helvetica, Arial, sans-serif, 'Apple Color Emoji', 'Segoe UI Emoji', 'Segoe UI Symbol'\" font-size=\"13.00\">TradeID</text>\n",
       "<polygon fill=\"#f5f5f5\" stroke=\"none\" points=\"117.5,-213 117.5,-237 164.5,-237 164.5,-213 117.5,-213\"/>\n",
       "<text text-anchor=\"start\" x=\"126.5\" y=\"-222.6\" font-family=\"-apple-system, BlinkMacSystemFont, 'Segoe UI', Helvetica, Arial, sans-serif, 'Apple Color Emoji', 'Segoe UI Emoji', 'Segoe UI Symbol'\" font-style=\"italic\" font-size=\"13.00\">String</text>\n",
       "<polygon fill=\"#ffffff\" stroke=\"none\" points=\"9.5,-189 9.5,-213 40.5,-213 40.5,-189 9.5,-189\"/>\n",
       "<text text-anchor=\"start\" x=\"14.5\" y=\"-198.6\" font-family=\"-apple-system, BlinkMacSystemFont, 'Segoe UI', Helvetica, Arial, sans-serif, 'Apple Color Emoji', 'Segoe UI Emoji', 'Segoe UI Symbol'\" font-weight=\"bold\" font-size=\"13.00\">key</text>\n",
       "<polygon fill=\"#ffffff\" stroke=\"none\" points=\"40.5,-189 40.5,-213 117.5,-213 117.5,-189 40.5,-189\"/>\n",
       "<text text-anchor=\"start\" x=\"45.5\" y=\"-197.6\" font-family=\"-apple-system, BlinkMacSystemFont, 'Segoe UI', Helvetica, Arial, sans-serif, 'Apple Color Emoji', 'Segoe UI Emoji', 'Segoe UI Symbol'\" font-size=\"13.00\">RiskType</text>\n",
       "<polygon fill=\"#ffffff\" stroke=\"none\" points=\"117.5,-189 117.5,-213 164.5,-213 164.5,-189 117.5,-189\"/>\n",
       "<text text-anchor=\"start\" x=\"126.5\" y=\"-198.6\" font-family=\"-apple-system, BlinkMacSystemFont, 'Segoe UI', Helvetica, Arial, sans-serif, 'Apple Color Emoji', 'Segoe UI Emoji', 'Segoe UI Symbol'\" font-style=\"italic\" font-size=\"13.00\">String</text>\n",
       "<polygon fill=\"#f5f5f5\" stroke=\"none\" points=\"9.5,-165 9.5,-189 40.5,-189 40.5,-165 9.5,-165\"/>\n",
       "<text text-anchor=\"start\" x=\"14.5\" y=\"-174.6\" font-family=\"-apple-system, BlinkMacSystemFont, 'Segoe UI', Helvetica, Arial, sans-serif, 'Apple Color Emoji', 'Segoe UI Emoji', 'Segoe UI Symbol'\" font-weight=\"bold\" font-size=\"13.00\">key</text>\n",
       "<polygon fill=\"#f5f5f5\" stroke=\"none\" points=\"40.5,-165 40.5,-189 117.5,-189 117.5,-165 40.5,-165\"/>\n",
       "<text text-anchor=\"start\" x=\"45.5\" y=\"-173.6\" font-family=\"-apple-system, BlinkMacSystemFont, 'Segoe UI', Helvetica, Arial, sans-serif, 'Apple Color Emoji', 'Segoe UI Emoji', 'Segoe UI Symbol'\" font-size=\"13.00\">Qualifier</text>\n",
       "<polygon fill=\"#f5f5f5\" stroke=\"none\" points=\"117.5,-165 117.5,-189 164.5,-189 164.5,-165 117.5,-165\"/>\n",
       "<text text-anchor=\"start\" x=\"126.5\" y=\"-174.6\" font-family=\"-apple-system, BlinkMacSystemFont, 'Segoe UI', Helvetica, Arial, sans-serif, 'Apple Color Emoji', 'Segoe UI Emoji', 'Segoe UI Symbol'\" font-style=\"italic\" font-size=\"13.00\">String</text>\n",
       "<polygon fill=\"#ffffff\" stroke=\"none\" points=\"9.5,-141 9.5,-165 40.5,-165 40.5,-141 9.5,-141\"/>\n",
       "<text text-anchor=\"start\" x=\"14.5\" y=\"-150.6\" font-family=\"-apple-system, BlinkMacSystemFont, 'Segoe UI', Helvetica, Arial, sans-serif, 'Apple Color Emoji', 'Segoe UI Emoji', 'Segoe UI Symbol'\" font-weight=\"bold\" font-size=\"13.00\">key</text>\n",
       "<polygon fill=\"#ffffff\" stroke=\"none\" points=\"40.5,-141 40.5,-165 117.5,-165 117.5,-141 40.5,-141\"/>\n",
       "<text text-anchor=\"start\" x=\"45.5\" y=\"-149.6\" font-family=\"-apple-system, BlinkMacSystemFont, 'Segoe UI', Helvetica, Arial, sans-serif, 'Apple Color Emoji', 'Segoe UI Emoji', 'Segoe UI Symbol'\" font-size=\"13.00\">Label2</text>\n",
       "<polygon fill=\"#ffffff\" stroke=\"none\" points=\"117.5,-141 117.5,-165 164.5,-165 164.5,-141 117.5,-141\"/>\n",
       "<text text-anchor=\"start\" x=\"126.5\" y=\"-150.6\" font-family=\"-apple-system, BlinkMacSystemFont, 'Segoe UI', Helvetica, Arial, sans-serif, 'Apple Color Emoji', 'Segoe UI Emoji', 'Segoe UI Symbol'\" font-style=\"italic\" font-size=\"13.00\">String</text>\n",
       "<polygon fill=\"#f5f5f5\" stroke=\"none\" points=\"9.5,-117 9.5,-141 40.5,-141 40.5,-117 9.5,-117\"/>\n",
       "<polygon fill=\"#f5f5f5\" stroke=\"none\" points=\"40.5,-117 40.5,-141 117.5,-141 117.5,-117 40.5,-117\"/>\n",
       "<text text-anchor=\"start\" x=\"45.5\" y=\"-125.6\" font-family=\"-apple-system, BlinkMacSystemFont, 'Segoe UI', Helvetica, Arial, sans-serif, 'Apple Color Emoji', 'Segoe UI Emoji', 'Segoe UI Symbol'\" font-size=\"13.00\">AmountUSD</text>\n",
       "<polygon fill=\"#f5f5f5\" stroke=\"none\" points=\"117.5,-117 117.5,-141 164.5,-141 164.5,-117 117.5,-117\"/>\n",
       "<text text-anchor=\"start\" x=\"122.5\" y=\"-126.6\" font-family=\"-apple-system, BlinkMacSystemFont, 'Segoe UI', Helvetica, Arial, sans-serif, 'Apple Color Emoji', 'Segoe UI Emoji', 'Segoe UI Symbol'\" font-style=\"italic\" font-size=\"13.00\">double</text>\n",
       "<polygon fill=\"#ffffff\" stroke=\"none\" points=\"9.5,-93 9.5,-117 40.5,-117 40.5,-93 9.5,-93\"/>\n",
       "<polygon fill=\"#ffffff\" stroke=\"none\" points=\"40.5,-93 40.5,-117 117.5,-117 117.5,-93 40.5,-93\"/>\n",
       "<text text-anchor=\"start\" x=\"45.5\" y=\"-101.6\" font-family=\"-apple-system, BlinkMacSystemFont, 'Segoe UI', Helvetica, Arial, sans-serif, 'Apple Color Emoji', 'Segoe UI Emoji', 'Segoe UI Symbol'\" font-size=\"13.00\">Bucket</text>\n",
       "<polygon fill=\"#ffffff\" stroke=\"none\" points=\"117.5,-93 117.5,-117 164.5,-117 164.5,-93 117.5,-93\"/>\n",
       "<text text-anchor=\"start\" x=\"145.5\" y=\"-102.6\" font-family=\"-apple-system, BlinkMacSystemFont, 'Segoe UI', Helvetica, Arial, sans-serif, 'Apple Color Emoji', 'Segoe UI Emoji', 'Segoe UI Symbol'\" font-style=\"italic\" font-size=\"13.00\">int</text>\n",
       "<polygon fill=\"#f5f5f5\" stroke=\"none\" points=\"9.5,-69 9.5,-93 40.5,-93 40.5,-69 9.5,-69\"/>\n",
       "<text text-anchor=\"start\" x=\"14.5\" y=\"-78.6\" font-family=\"-apple-system, BlinkMacSystemFont, 'Segoe UI', Helvetica, Arial, sans-serif, 'Apple Color Emoji', 'Segoe UI Emoji', 'Segoe UI Symbol'\" font-weight=\"bold\" font-size=\"13.00\">key</text>\n",
       "<polygon fill=\"#f5f5f5\" stroke=\"none\" points=\"40.5,-69 40.5,-93 117.5,-93 117.5,-69 40.5,-69\"/>\n",
       "<text text-anchor=\"start\" x=\"45.5\" y=\"-77.6\" font-family=\"-apple-system, BlinkMacSystemFont, 'Segoe UI', Helvetica, Arial, sans-serif, 'Apple Color Emoji', 'Segoe UI Emoji', 'Segoe UI Symbol'\" font-size=\"13.00\">PortfolioID</text>\n",
       "<polygon fill=\"#f5f5f5\" stroke=\"none\" points=\"117.5,-69 117.5,-93 164.5,-93 164.5,-69 117.5,-69\"/>\n",
       "<text text-anchor=\"start\" x=\"126.5\" y=\"-78.6\" font-family=\"-apple-system, BlinkMacSystemFont, 'Segoe UI', Helvetica, Arial, sans-serif, 'Apple Color Emoji', 'Segoe UI Emoji', 'Segoe UI Symbol'\" font-style=\"italic\" font-size=\"13.00\">String</text>\n",
       "<polygon fill=\"none\" stroke=\"black\" points=\"8,-68 8,-262 165,-262 165,-68 8,-68\"/>\n",
       "</g>\n",
       "<!-- RiskWeights -->\n",
       "<g id=\"node2\" class=\"node\"><title>RiskWeights</title>\n",
       "<text text-anchor=\"start\" x=\"371\" y=\"-310.6\" font-family=\"-apple-system, BlinkMacSystemFont, 'Segoe UI', Helvetica, Arial, sans-serif, 'Apple Color Emoji', 'Segoe UI Emoji', 'Segoe UI Symbol'\" font-weight=\"bold\" font-size=\"13.00\">RiskWeights</text>\n",
       "<polygon fill=\"#f5f5f5\" stroke=\"none\" points=\"345.5,-277 345.5,-301 376.5,-301 376.5,-277 345.5,-277\"/>\n",
       "<text text-anchor=\"start\" x=\"350.5\" y=\"-286.6\" font-family=\"-apple-system, BlinkMacSystemFont, 'Segoe UI', Helvetica, Arial, sans-serif, 'Apple Color Emoji', 'Segoe UI Emoji', 'Segoe UI Symbol'\" font-weight=\"bold\" font-size=\"13.00\">key</text>\n",
       "<polygon fill=\"#f5f5f5\" stroke=\"none\" points=\"376.5,-277 376.5,-301 424.5,-301 424.5,-277 376.5,-277\"/>\n",
       "<text text-anchor=\"start\" x=\"381.5\" y=\"-285.6\" font-family=\"-apple-system, BlinkMacSystemFont, 'Segoe UI', Helvetica, Arial, sans-serif, 'Apple Color Emoji', 'Segoe UI Emoji', 'Segoe UI Symbol'\" font-size=\"13.00\">Bucket</text>\n",
       "<polygon fill=\"#f5f5f5\" stroke=\"none\" points=\"424.5,-277 424.5,-301 471.5,-301 471.5,-277 424.5,-277\"/>\n",
       "<text text-anchor=\"start\" x=\"452.5\" y=\"-286.6\" font-family=\"-apple-system, BlinkMacSystemFont, 'Segoe UI', Helvetica, Arial, sans-serif, 'Apple Color Emoji', 'Segoe UI Emoji', 'Segoe UI Symbol'\" font-style=\"italic\" font-size=\"13.00\">int</text>\n",
       "<polygon fill=\"#ffffff\" stroke=\"none\" points=\"345.5,-253 345.5,-277 376.5,-277 376.5,-253 345.5,-253\"/>\n",
       "<text text-anchor=\"start\" x=\"350.5\" y=\"-262.6\" font-family=\"-apple-system, BlinkMacSystemFont, 'Segoe UI', Helvetica, Arial, sans-serif, 'Apple Color Emoji', 'Segoe UI Emoji', 'Segoe UI Symbol'\" font-weight=\"bold\" font-size=\"13.00\">key</text>\n",
       "<polygon fill=\"#ffffff\" stroke=\"none\" points=\"376.5,-253 376.5,-277 424.5,-277 424.5,-253 376.5,-253\"/>\n",
       "<text text-anchor=\"start\" x=\"381.5\" y=\"-261.6\" font-family=\"-apple-system, BlinkMacSystemFont, 'Segoe UI', Helvetica, Arial, sans-serif, 'Apple Color Emoji', 'Segoe UI Emoji', 'Segoe UI Symbol'\" font-size=\"13.00\">Label2</text>\n",
       "<polygon fill=\"#ffffff\" stroke=\"none\" points=\"424.5,-253 424.5,-277 471.5,-277 471.5,-253 424.5,-253\"/>\n",
       "<text text-anchor=\"start\" x=\"433.5\" y=\"-262.6\" font-family=\"-apple-system, BlinkMacSystemFont, 'Segoe UI', Helvetica, Arial, sans-serif, 'Apple Color Emoji', 'Segoe UI Emoji', 'Segoe UI Symbol'\" font-style=\"italic\" font-size=\"13.00\">String</text>\n",
       "<polygon fill=\"#f5f5f5\" stroke=\"none\" points=\"345.5,-229 345.5,-253 376.5,-253 376.5,-229 345.5,-229\"/>\n",
       "<polygon fill=\"#f5f5f5\" stroke=\"none\" points=\"376.5,-229 376.5,-253 424.5,-253 424.5,-229 376.5,-229\"/>\n",
       "<text text-anchor=\"start\" x=\"381.5\" y=\"-237.6\" font-family=\"-apple-system, BlinkMacSystemFont, 'Segoe UI', Helvetica, Arial, sans-serif, 'Apple Color Emoji', 'Segoe UI Emoji', 'Segoe UI Symbol'\" font-size=\"13.00\">RW</text>\n",
       "<polygon fill=\"#f5f5f5\" stroke=\"none\" points=\"424.5,-229 424.5,-253 471.5,-253 471.5,-229 424.5,-229\"/>\n",
       "<text text-anchor=\"start\" x=\"429.5\" y=\"-238.6\" font-family=\"-apple-system, BlinkMacSystemFont, 'Segoe UI', Helvetica, Arial, sans-serif, 'Apple Color Emoji', 'Segoe UI Emoji', 'Segoe UI Symbol'\" font-style=\"italic\" font-size=\"13.00\">double</text>\n",
       "<polygon fill=\"none\" stroke=\"black\" points=\"344.5,-228 344.5,-326 472.5,-326 472.5,-228 344.5,-228\"/>\n",
       "</g>\n",
       "<!-- Risks&#45;&gt;RiskWeights -->\n",
       "<g id=\"edge3\" class=\"edge\"><title>Risks-&gt;RiskWeights</title>\n",
       "<path fill=\"none\" stroke=\"black\" d=\"M173.254,-195.014C220.971,-211.715 280.008,-232.378 326.875,-248.781\"/>\n",
       "<polygon fill=\"black\" stroke=\"black\" points=\"325.786,-252.108 336.381,-252.108 328.098,-245.501 325.786,-252.108\"/>\n",
       "<text text-anchor=\"middle\" x=\"239\" y=\"-251.6\" font-family=\"-apple-system, BlinkMacSystemFont, 'Segoe UI', Helvetica, Arial, sans-serif, 'Apple Color Emoji', 'Segoe UI Emoji', 'Segoe UI Symbol'\" font-size=\"13.00\">Bucket → Bucket</text>\n",
       "<text text-anchor=\"middle\" x=\"239\" y=\"-237.6\" font-family=\"-apple-system, BlinkMacSystemFont, 'Segoe UI', Helvetica, Arial, sans-serif, 'Apple Color Emoji', 'Segoe UI Emoji', 'Segoe UI Symbol'\" font-size=\"13.00\">Label2 → Label2</text>\n",
       "</g>\n",
       "<!-- RiskFactorCorrelations -->\n",
       "<g id=\"node3\" class=\"node\"><title>RiskFactorCorrelations</title>\n",
       "<text text-anchor=\"start\" x=\"340.5\" y=\"-186.6\" font-family=\"-apple-system, BlinkMacSystemFont, 'Segoe UI', Helvetica, Arial, sans-serif, 'Apple Color Emoji', 'Segoe UI Emoji', 'Segoe UI Symbol'\" font-weight=\"bold\" font-size=\"13.00\">RiskFactorCorrelations</text>\n",
       "<polygon fill=\"#f5f5f5\" stroke=\"none\" points=\"314.5,-153 314.5,-177 345.5,-177 345.5,-153 314.5,-153\"/>\n",
       "<text text-anchor=\"start\" x=\"319.5\" y=\"-162.6\" font-family=\"-apple-system, BlinkMacSystemFont, 'Segoe UI', Helvetica, Arial, sans-serif, 'Apple Color Emoji', 'Segoe UI Emoji', 'Segoe UI Symbol'\" font-weight=\"bold\" font-size=\"13.00\">key</text>\n",
       "<polygon fill=\"#f5f5f5\" stroke=\"none\" points=\"345.5,-153 345.5,-177 456.5,-177 456.5,-153 345.5,-153\"/>\n",
       "<text text-anchor=\"start\" x=\"350.5\" y=\"-161.6\" font-family=\"-apple-system, BlinkMacSystemFont, 'Segoe UI', Helvetica, Arial, sans-serif, 'Apple Color Emoji', 'Segoe UI Emoji', 'Segoe UI Symbol'\" font-size=\"13.00\">Bucket</text>\n",
       "<polygon fill=\"#f5f5f5\" stroke=\"none\" points=\"456.5,-153 456.5,-177 503.5,-177 503.5,-153 456.5,-153\"/>\n",
       "<text text-anchor=\"start\" x=\"484.5\" y=\"-162.6\" font-family=\"-apple-system, BlinkMacSystemFont, 'Segoe UI', Helvetica, Arial, sans-serif, 'Apple Color Emoji', 'Segoe UI Emoji', 'Segoe UI Symbol'\" font-style=\"italic\" font-size=\"13.00\">int</text>\n",
       "<polygon fill=\"#ffffff\" stroke=\"none\" points=\"314.5,-129 314.5,-153 345.5,-153 345.5,-129 314.5,-129\"/>\n",
       "<polygon fill=\"#ffffff\" stroke=\"none\" points=\"345.5,-129 345.5,-153 456.5,-153 456.5,-129 345.5,-129\"/>\n",
       "<text text-anchor=\"start\" x=\"350.5\" y=\"-137.6\" font-family=\"-apple-system, BlinkMacSystemFont, 'Segoe UI', Helvetica, Arial, sans-serif, 'Apple Color Emoji', 'Segoe UI Emoji', 'Segoe UI Symbol'\" font-size=\"13.00\">names_correlation</text>\n",
       "<polygon fill=\"#ffffff\" stroke=\"none\" points=\"456.5,-129 456.5,-153 503.5,-153 503.5,-129 456.5,-129\"/>\n",
       "<text text-anchor=\"start\" x=\"461.5\" y=\"-138.6\" font-family=\"-apple-system, BlinkMacSystemFont, 'Segoe UI', Helvetica, Arial, sans-serif, 'Apple Color Emoji', 'Segoe UI Emoji', 'Segoe UI Symbol'\" font-style=\"italic\" font-size=\"13.00\">double</text>\n",
       "<polygon fill=\"none\" stroke=\"black\" points=\"313,-128 313,-202 504,-202 504,-128 313,-128\"/>\n",
       "</g>\n",
       "<!-- Risks&#45;&gt;RiskFactorCorrelations -->\n",
       "<g id=\"edge2\" class=\"edge\"><title>Risks-&gt;RiskFactorCorrelations</title>\n",
       "<path fill=\"none\" stroke=\"black\" d=\"M173.254,-165C210.631,-165 254.953,-165 294.931,-165\"/>\n",
       "<polygon fill=\"black\" stroke=\"black\" points=\"294.995,-168.5 304.995,-165 294.995,-161.5 294.995,-168.5\"/>\n",
       "<text text-anchor=\"middle\" x=\"239\" y=\"-168.6\" font-family=\"-apple-system, BlinkMacSystemFont, 'Segoe UI', Helvetica, Arial, sans-serif, 'Apple Color Emoji', 'Segoe UI Emoji', 'Segoe UI Symbol'\" font-size=\"13.00\">Bucket → Bucket</text>\n",
       "</g>\n",
       "<!-- eq_delta_corr_outer -->\n",
       "<g id=\"node4\" class=\"node\"><title>eq_delta_corr_outer</title>\n",
       "<text text-anchor=\"start\" x=\"348.5\" y=\"-86.6\" font-family=\"-apple-system, BlinkMacSystemFont, 'Segoe UI', Helvetica, Arial, sans-serif, 'Apple Color Emoji', 'Segoe UI Emoji', 'Segoe UI Symbol'\" font-weight=\"bold\" font-size=\"13.00\">eq_delta_corr_outer</text>\n",
       "<polygon fill=\"#f5f5f5\" stroke=\"none\" points=\"328.5,-53 328.5,-77 359.5,-77 359.5,-53 328.5,-53\"/>\n",
       "<text text-anchor=\"start\" x=\"333.5\" y=\"-62.6\" font-family=\"-apple-system, BlinkMacSystemFont, 'Segoe UI', Helvetica, Arial, sans-serif, 'Apple Color Emoji', 'Segoe UI Emoji', 'Segoe UI Symbol'\" font-weight=\"bold\" font-size=\"13.00\">key</text>\n",
       "<polygon fill=\"#f5f5f5\" stroke=\"none\" points=\"359.5,-53 359.5,-77 441.5,-77 441.5,-53 359.5,-53\"/>\n",
       "<text text-anchor=\"start\" x=\"364.5\" y=\"-61.6\" font-family=\"-apple-system, BlinkMacSystemFont, 'Segoe UI', Helvetica, Arial, sans-serif, 'Apple Color Emoji', 'Segoe UI Emoji', 'Segoe UI Symbol'\" font-size=\"13.00\">Bucket</text>\n",
       "<polygon fill=\"#f5f5f5\" stroke=\"none\" points=\"441.5,-53 441.5,-77 488.5,-77 488.5,-53 441.5,-53\"/>\n",
       "<text text-anchor=\"start\" x=\"469.5\" y=\"-62.6\" font-family=\"-apple-system, BlinkMacSystemFont, 'Segoe UI', Helvetica, Arial, sans-serif, 'Apple Color Emoji', 'Segoe UI Emoji', 'Segoe UI Symbol'\" font-style=\"italic\" font-size=\"13.00\">int</text>\n",
       "<polygon fill=\"#ffffff\" stroke=\"none\" points=\"328.5,-29 328.5,-53 359.5,-53 359.5,-29 328.5,-29\"/>\n",
       "<text text-anchor=\"start\" x=\"333.5\" y=\"-38.6\" font-family=\"-apple-system, BlinkMacSystemFont, 'Segoe UI', Helvetica, Arial, sans-serif, 'Apple Color Emoji', 'Segoe UI Emoji', 'Segoe UI Symbol'\" font-weight=\"bold\" font-size=\"13.00\">key</text>\n",
       "<polygon fill=\"#ffffff\" stroke=\"none\" points=\"359.5,-29 359.5,-53 441.5,-53 441.5,-29 359.5,-29\"/>\n",
       "<text text-anchor=\"start\" x=\"364.5\" y=\"-37.6\" font-family=\"-apple-system, BlinkMacSystemFont, 'Segoe UI', Helvetica, Arial, sans-serif, 'Apple Color Emoji', 'Segoe UI Emoji', 'Segoe UI Symbol'\" font-size=\"13.00\">Other Bucket</text>\n",
       "<polygon fill=\"#ffffff\" stroke=\"none\" points=\"441.5,-29 441.5,-53 488.5,-53 488.5,-29 441.5,-29\"/>\n",
       "<text text-anchor=\"start\" x=\"469.5\" y=\"-38.6\" font-family=\"-apple-system, BlinkMacSystemFont, 'Segoe UI', Helvetica, Arial, sans-serif, 'Apple Color Emoji', 'Segoe UI Emoji', 'Segoe UI Symbol'\" font-style=\"italic\" font-size=\"13.00\">int</text>\n",
       "<polygon fill=\"#f5f5f5\" stroke=\"none\" points=\"328.5,-5 328.5,-29 359.5,-29 359.5,-5 328.5,-5\"/>\n",
       "<polygon fill=\"#f5f5f5\" stroke=\"none\" points=\"359.5,-5 359.5,-29 441.5,-29 441.5,-5 359.5,-5\"/>\n",
       "<text text-anchor=\"start\" x=\"364.5\" y=\"-13.6\" font-family=\"-apple-system, BlinkMacSystemFont, 'Segoe UI', Helvetica, Arial, sans-serif, 'Apple Color Emoji', 'Segoe UI Emoji', 'Segoe UI Symbol'\" font-size=\"13.00\">gamma</text>\n",
       "<polygon fill=\"#f5f5f5\" stroke=\"none\" points=\"441.5,-5 441.5,-29 488.5,-29 488.5,-5 441.5,-5\"/>\n",
       "<text text-anchor=\"start\" x=\"446.5\" y=\"-14.6\" font-family=\"-apple-system, BlinkMacSystemFont, 'Segoe UI', Helvetica, Arial, sans-serif, 'Apple Color Emoji', 'Segoe UI Emoji', 'Segoe UI Symbol'\" font-style=\"italic\" font-size=\"13.00\">double</text>\n",
       "<polygon fill=\"none\" stroke=\"black\" points=\"327.5,-4 327.5,-102 489.5,-102 489.5,-4 327.5,-4\"/>\n",
       "</g>\n",
       "<!-- Risks&#45;&gt;eq_delta_corr_outer -->\n",
       "<g id=\"edge1\" class=\"edge\"><title>Risks-&gt;eq_delta_corr_outer</title>\n",
       "<path fill=\"none\" stroke=\"black\" stroke-dasharray=\"5,2\" d=\"M173.254,-134.986C215.339,-120.257 266.228,-102.445 309.809,-87.1919\"/>\n",
       "<polygon fill=\"black\" stroke=\"black\" points=\"310.995,-90.4849 319.278,-83.8778 308.683,-83.8778 310.995,-90.4849\"/>\n",
       "<text text-anchor=\"middle\" x=\"239\" y=\"-131.6\" font-family=\"-apple-system, BlinkMacSystemFont, 'Segoe UI', Helvetica, Arial, sans-serif, 'Apple Color Emoji', 'Segoe UI Emoji', 'Segoe UI Symbol'\" font-size=\"13.00\">Bucket → Bucket</text>\n",
       "</g>\n",
       "</g>\n",
       "</svg>"
      ],
      "text/plain": [
       "<IPython.core.display.SVG object>"
      ]
     },
     "execution_count": 27,
     "metadata": {},
     "output_type": "execute_result"
    }
   ],
   "source": [
    "cube.schema"
   ]
  },
  {
   "cell_type": "markdown",
   "metadata": {},
   "source": [
    "Again, let's create the measure for gamma from the referenced datastore `eq_delta_corr_outer store`."
   ]
  },
  {
   "cell_type": "code",
   "execution_count": 28,
   "metadata": {},
   "outputs": [],
   "source": [
    "m[\"gamma.VALUE\"] = eq_delta_buckets_correlations[\"gamma\"]"
   ]
  },
  {
   "cell_type": "code",
   "execution_count": 29,
   "metadata": {
    "atoti": {
     "widget": {
      "mapping": {
       "columns": [
        "ALL_MEASURES",
        "[eq_delta_corr_outer].[Other Bucket].[Other Bucket]"
       ],
       "measures": [
        "[Measures].[gamma.VALUE]"
       ],
       "rows": [
        "[Risks].[Bucket].[Bucket]"
       ]
      },
      "query": {
       "context": {
        "queriesResultLimit.intermediateSize": 1000000,
        "queriesResultLimit.transientSize": 10000000
       },
       "mdx": "SELECT NON EMPTY Crossjoin({[Measures].[gamma.VALUE]}, Hierarchize(Descendants({[eq_delta_corr_outer].[Other Bucket].[AllMember]}, 1, SELF_AND_BEFORE))) ON COLUMNS, NON EMPTY Hierarchize(Descendants({[Risks].[Bucket].[AllMember]}, 1, SELF_AND_BEFORE)) ON ROWS FROM [Risks]",
       "updateMode": "once"
      },
      "serverKey": "default",
      "widgetKey": "pivot-table"
     }
    }
   },
   "outputs": [
    {
     "data": {
      "application/vnd.atoti.v0+json": {
       "name": null,
       "session": "Unnamed"
      },
      "text/html": [
       "<img src=\"data:image/svg+xml;charset=utf8,%3C?xml%20version=%221.0%22%20standalone=%22no%22?%3E%3Csvg%20xmlns=%22http://www.w3.org/2000/svg%22%20height=%22348%22%20width=%22978%22%3E%3CforeignObject%20width=%22100%25%22%20height=%22100%25%22%20x=%220%22%20y=%220%22%3E%3Cstyle%20type=%22text/css%22%3E*,%20::before,%20::after%20%7Bbox-sizing:%20unset%7D%0A.ant-root%20%5Bclass%5E=%22ant-%22%5D,%20.ant-root%20%5Bclass*=%22ant-%22%5D,%20.ant-root%20%5Bclass%5E=%22ant-%22%5D%20*,%20.ant-root%20%5Bclass*=%22ant-%22%5D%20*,%20.ant-root%20%5Bclass%5E=%22ant-%22%5D%20::before,%20.ant-root%20%5Bclass*=%22ant-%22%5D%20::before,%20.ant-root%20%5Bclass%5E=%22ant-%22%5D%20::after,%20.ant-root%20%5Bclass*=%22ant-%22%5D%20::after%20%7Bbox-sizing:%20border-box%7D%0A.ant-root%20html,%20.ant-root%20%7Bwidth:%20100%25;%20height:%20100%25%7D%0A.ant-root%20*,%20.ant-root%20::before,%20.ant-root%20::after%20%7Bbox-sizing:%20border-box%7D%0A.ant-root%20%7Bmargin-top:%200px;%20margin-right:%200px;%20margin-bottom:%200px;%20margin-left:%200px;%20color:%20rgb(89,%2089,%2089);%20font-size:%2012px;%20font-family:%20-apple-system,%20BlinkMacSystemFont,%20%22Segoe%20UI%22,%20Roboto,%20%22Helvetica%20Neue%22,%20Arial,%20%22Noto%20Sans%22,%20sans-serif,%20%22Apple%20Color%20Emoji%22,%20%22Segoe%20UI%20Emoji%22,%20%22Segoe%20UI%20Symbol%22,%20%22Noto%20Color%20Emoji%22;%20font-variant-ligatures:%20normal;%20font-variant-numeric:%20tabular-nums;%20font-variant-east-asian:%20normal;%20font-variant-caps:%20normal;%20line-height:%201.66667;%20background-color:%20rgb(255,%20255,%20255);%20--antd-wave-shadow-color:%20undefined;%20--scroll-bar:%20undefined%7D%0A.ant-root%20.ant-spin%20%7Bbox-sizing:%20border-box;%20margin-top:%200px;%20margin-right:%200px;%20margin-bottom:%200px;%20margin-left:%200px;%20padding-top:%200px;%20padding-right:%200px;%20padding-bottom:%200px;%20padding-left:%200px;%20font-size:%2012px;%20font-variant-ligatures:%20normal;%20font-variant-numeric:%20tabular-nums;%20font-variant-east-asian:%20normal;%20font-variant-caps:%20normal;%20line-height:%201.66667;%20list-style-position:%20initial;%20list-style-image:%20initial;%20list-style-type:%20none;%20position:%20absolute;%20display:%20none;%20color:%20rgb(0,%20174,%20239);%20text-align:%20center;%20vertical-align:%20middle;%20opacity:%200;%20transition-duration:%200.3s;%20transition-timing-function:%20cubic-bezier(0.78,%200.14,%200.15,%200.86);%20transition-delay:%200s;%20transition-property:%20transform%7D%0A.ant-root%20.ant-spin-spinning%20%7Bposition:%20static;%20display:%20inline-block;%20opacity:%201%7D%0A.ant-root%20.ant-spin-dot%20%7Bposition:%20relative;%20display:%20inline-block;%20font-size:%2020px;%20width:%201em;%20height:%201em%7D%0A.ant-root%20.ant-spin-dot-item%20%7Bposition:%20absolute;%20display:%20block;%20width:%209px;%20height:%209px;%20background-color:%20rgb(0,%20174,%20239);%20border-top-left-radius:%20100%25;%20border-top-right-radius:%20100%25;%20border-bottom-right-radius:%20100%25;%20border-bottom-left-radius:%20100%25;%20transform:%20scale(0.75);%20transform-origin:%2050%25%2050%25;%20opacity:%200.3;%20animation-duration:%201s;%20animation-timing-function:%20linear;%20animation-delay:%200s;%20animation-iteration-count:%20infinite;%20animation-direction:%20alternate;%20animation-fill-mode:%20none;%20animation-play-state:%20running;%20animation-name:%20antSpinMove%7D%0A.ant-root%20.ant-spin-dot-item:nth-child(1)%20%7Btop:%200px;%20left:%200px%7D%0A.ant-root%20.ant-spin-dot-item:nth-child(2)%20%7Btop:%200px;%20right:%200px;%20animation-delay:%200.4s%7D%0A.ant-root%20.ant-spin-dot-item:nth-child(3)%20%7Bright:%200px;%20bottom:%200px;%20animation-delay:%200.8s%7D%0A.ant-root%20.ant-spin-dot-item:nth-child(4)%20%7Bbottom:%200px;%20left:%200px;%20animation-delay:%201.2s%7D%0A.ant-root%20.ant-spin-dot-spin%20%7Btransform:%20rotate(45deg);%20animation-duration:%201.2s;%20animation-timing-function:%20linear;%20animation-delay:%200s;%20animation-iteration-count:%20infinite;%20animation-direction:%20normal;%20animation-fill-mode:%20none;%20animation-play-state:%20running;%20animation-name:%20antRotate%7D%0A.ant-root%20.ant-spin-lg%20.ant-spin-dot%20%7Bfont-size:%2032px%7D%0A.ant-root%20.ant-spin-lg%20.ant-spin-dot%20i%20%7Bwidth:%2014px;%20height:%2014px%7D%0A.css-12ebr42-AWidget%20%7Bheight:%20100%25%7D%0A.css-1e3kjgr-Spinner%20%7Bheight:%20100%25;%20position:%20relative%7D%0A.css-ck2xzt-Spinner%20%7B-webkit-box-align:%20center;%20align-items:%20center;%20background-image:%20initial;%20background-position-x:%20initial;%20background-position-y:%20initial;%20background-size:%20initial;%20background-repeat-x:%20initial;%20background-repeat-y:%20initial;%20background-attachment:%20initial;%20background-origin:%20initial;%20background-clip:%20initial;%20background-color:%20transparent;%20display:%20flex;%20height:%20100%25;%20-webkit-box-pack:%20center;%20justify-content:%20center;%20position:%20absolute;%20transition-duration:%20300ms;%20transition-timing-function:%20ease;%20transition-delay:%200s;%20transition-property:%20opacity;%20width:%20100%25;%20opacity:%200;%20pointer-events:%20none;%20z-index:%202%7D%0A.css-6s7z8y-Table%20%7Bpadding-bottom:%202px;%20padding-right:%202px;%20height:%20100%25%7D%0A.css-18k6uz5-Table%20%7Bcursor:%20cell;%20height:%20100%25;%20outline-color:%20initial;%20outline-style:%20none;%20outline-width:%20initial%7D%0A.css-16sdsf5-Table%20%7Bdisplay:%20flex;%20height:%20346px%7D%0A.css-u4e0tt-Table%20%7Bborder-collapse:%20collapse;%20height:%2056px;%20width:%20120px%7D%0A.css-1c0bag9%20%7Bheight:%2056px;%20width:%20120px%7D%0A.css-1vna2im%20%7Bheight:%2056px;%20overflow-x:%20hidden;%20overflow-y:%20hidden;%20position:%20relative;%20width:%20120px;%20border-right-width:%202px;%20border-right-style:%20solid;%20border-right-color:%20rgb(233,%20233,%20233)%7D%0A.css-avhfff%20%7Bheight:%20290px;%20width:%20120px;%20overflow-x:%20hidden;%20overflow-y:%20auto%7D%0A.css-89zmds%20%7Bheight:%20308px;%20overflow-x:%20hidden;%20overflow-y:%20hidden;%20position:%20relative;%20width:%20120px;%20border-top-width:%202px;%20border-top-style:%20solid;%20border-top-color:%20rgb(233,%20233,%20233);%20border-right-width:%202px;%20border-right-style:%20solid;%20border-right-color:%20rgb(233,%20233,%20233)%7D%0A.css-1kvgiww%20%7Bheight:%2056px;%20overflow-x:%20hidden;%20overflow-y:%20hidden;%20position:%20relative;%20width:%201560px%7D%0A.css-11v0d83%20%7Bheight:%20308px;%20overflow-x:%20hidden;%20overflow-y:%20hidden;%20position:%20relative;%20width:%201560px;%20border-top-width:%202px;%20border-top-style:%20solid;%20border-top-color:%20rgb(233,%20233,%20233)%7D%0A.css-1pdv37h-Table%20%7Bwidth:%20856px;%20border-collapse:%20collapse%7D%0A.css-1uctjqu%20%7Bheight:%2056px;%20width:%20838px;%20overflow-x:%20auto;%20overflow-y:%20hidden%7D%0A.css-1uoxfj8%20%7Bheight:%20290px;%20width:%20856px;%20overflow-x:%20auto;%20overflow-y:%20auto%7D%0A*%20%7B-ms-overflow-style:%20none;%20scrollbar-width:%20none%7D%0A*::-webkit-scrollbar%20%7Bdisplay:%20none%7D%3C/style%3E%3Cdiv%20xmlns=%22http://www.w3.org/1999/xhtml%22%20style=%22height:%20348px;%20width:%20978px;%22%3E&lt;div%20xmlns=%22http://www.w3.org/1999/xhtml%22%20class=%22ant-root%20css-0%22&gt;&lt;div%20class=%22ant-dropdown-trigger%20css-12ebr42-AWidget%22&gt;&lt;div%20class=%22css-1e3kjgr-Spinner%22&gt;&lt;div%20class=%22css-ck2xzt-Spinner%22&gt;&lt;div%20class=%22ant-spin%20ant-spin-lg%20ant-spin-spinning%22&gt;&lt;span%20class=%22ant-spin-dot%20ant-spin-dot-spin%22&gt;&lt;i%20class=%22ant-spin-dot-item%22&gt;&lt;/i&gt;&lt;i%20class=%22ant-spin-dot-item%22&gt;&lt;/i&gt;&lt;i%20class=%22ant-spin-dot-item%22&gt;&lt;/i&gt;&lt;i%20class=%22ant-spin-dot-item%22&gt;&lt;/i&gt;&lt;/span&gt;&lt;/div&gt;&lt;/div&gt;&lt;div%20class=%22css-6s7z8y-Table%22&gt;&lt;div%20tabindex=%220%22%20class=%22css-18k6uz5-Table%22&gt;&lt;div%20class=%22css-16sdsf5-Table%22&gt;&lt;div%20class=%22css-u4e0tt-Table%22&gt;&lt;div%20class=%22css-1c0bag9%22&gt;&lt;div%20class=%22css-1vna2im%22&gt;&lt;div%20style=%22font-size:%2012px;%20height:%2028px;%20left:%200px;%20padding:%204px%204px%203px;%20position:%20absolute;%20top:%200px;%20width:%20120px;%20font-weight:%20600;%22&gt;Bucket&lt;/div&gt;&lt;div%20style=%22font-size:%2012px;%20height:%2028px;%20left:%200px;%20padding:%204px%204px%203px;%20position:%20absolute;%20top:%2028px;%20width:%20120px;%20font-weight:%20600;%22&gt;&lt;/div&gt;&lt;/div&gt;&lt;/div&gt;&lt;div%20class=%22css-avhfff%22&gt;&lt;div%20class=%22css-89zmds%22&gt;&lt;div%20style=%22overflow:%20hidden;%20display:%20flex;%20align-items:%20center;%20font-size:%2012px;%20height:%2028px;%20left:%200px;%20padding:%204px%204px%203px;%20position:%20absolute;%20top:%200px;%20width:%20120px;%20border-right:%202px%20solid%20rgb(233,%20233,%20233);%22&gt;&lt;span%20style=%22text-overflow:%20ellipsis;%20overflow:%20hidden;%20white-space:%20nowrap;%20max-width:%20calc((100%25%20-%200px)%20-%200px);%22&gt;1&lt;/span&gt;&lt;div%20style=%22height:%20100%25;%20margin-left:%206px;%22&gt;&lt;/div&gt;&lt;/div&gt;&lt;div%20style=%22overflow:%20hidden;%20display:%20flex;%20align-items:%20center;%20font-size:%2012px;%20height:%2028px;%20left:%200px;%20padding:%204px%204px%203px;%20position:%20absolute;%20top:%2028px;%20width:%20120px;%20background-color:%20rgb(250,%20250,%20250);%20border-right:%202px%20solid%20rgb(233,%20233,%20233);%22&gt;&lt;span%20style=%22text-overflow:%20ellipsis;%20overflow:%20hidden;%20white-space:%20nowrap;%20max-width:%20calc((100%25%20-%200px)%20-%200px);%22&gt;2&lt;/span&gt;&lt;div%20style=%22height:%20100%25;%20margin-left:%206px;%22&gt;&lt;/div&gt;&lt;/div&gt;&lt;div%20style=%22overflow:%20hidden;%20display:%20flex;%20align-items:%20center;%20font-size:%2012px;%20height:%2028px;%20left:%200px;%20padding:%204px%204px%203px;%20position:%20absolute;%20top:%2056px;%20width:%20120px;%20border-right:%202px%20solid%20rgb(233,%20233,%20233);%22&gt;&lt;span%20style=%22text-overflow:%20ellipsis;%20overflow:%20hidden;%20white-space:%20nowrap;%20max-width:%20calc((100%25%20-%200px)%20-%200px);%22&gt;3&lt;/span&gt;&lt;div%20style=%22height:%20100%25;%20margin-left:%206px;%22&gt;&lt;/div&gt;&lt;/div&gt;&lt;div%20style=%22overflow:%20hidden;%20display:%20flex;%20align-items:%20center;%20font-size:%2012px;%20height:%2028px;%20left:%200px;%20padding:%204px%204px%203px;%20position:%20absolute;%20top:%2084px;%20width:%20120px;%20background-color:%20rgb(250,%20250,%20250);%20border-right:%202px%20solid%20rgb(233,%20233,%20233);%22&gt;&lt;span%20style=%22text-overflow:%20ellipsis;%20overflow:%20hidden;%20white-space:%20nowrap;%20max-width:%20calc((100%25%20-%200px)%20-%200px);%22&gt;4&lt;/span&gt;&lt;div%20style=%22height:%20100%25;%20margin-left:%206px;%22&gt;&lt;/div&gt;&lt;/div&gt;&lt;div%20style=%22overflow:%20hidden;%20display:%20flex;%20align-items:%20center;%20font-size:%2012px;%20height:%2028px;%20left:%200px;%20padding:%204px%204px%203px;%20position:%20absolute;%20top:%20112px;%20width:%20120px;%20border-right:%202px%20solid%20rgb(233,%20233,%20233);%22&gt;&lt;span%20style=%22text-overflow:%20ellipsis;%20overflow:%20hidden;%20white-space:%20nowrap;%20max-width:%20calc((100%25%20-%200px)%20-%200px);%22&gt;5&lt;/span&gt;&lt;div%20style=%22height:%20100%25;%20margin-left:%206px;%22&gt;&lt;/div&gt;&lt;/div&gt;&lt;div%20style=%22overflow:%20hidden;%20display:%20flex;%20align-items:%20center;%20font-size:%2012px;%20height:%2028px;%20left:%200px;%20padding:%204px%204px%203px;%20position:%20absolute;%20top:%20140px;%20width:%20120px;%20background-color:%20rgb(250,%20250,%20250);%20border-right:%202px%20solid%20rgb(233,%20233,%20233);%22&gt;&lt;span%20style=%22text-overflow:%20ellipsis;%20overflow:%20hidden;%20white-space:%20nowrap;%20max-width:%20calc((100%25%20-%200px)%20-%200px);%22&gt;7&lt;/span&gt;&lt;div%20style=%22height:%20100%25;%20margin-left:%206px;%22&gt;&lt;/div&gt;&lt;/div&gt;&lt;div%20style=%22overflow:%20hidden;%20display:%20flex;%20align-items:%20center;%20font-size:%2012px;%20height:%2028px;%20left:%200px;%20padding:%204px%204px%203px;%20position:%20absolute;%20top:%20168px;%20width:%20120px;%20border-right:%202px%20solid%20rgb(233,%20233,%20233);%22&gt;&lt;span%20style=%22text-overflow:%20ellipsis;%20overflow:%20hidden;%20white-space:%20nowrap;%20max-width:%20calc((100%25%20-%200px)%20-%200px);%22&gt;8&lt;/span&gt;&lt;div%20style=%22height:%20100%25;%20margin-left:%206px;%22&gt;&lt;/div&gt;&lt;/div&gt;&lt;div%20style=%22overflow:%20hidden;%20display:%20flex;%20align-items:%20center;%20font-size:%2012px;%20height:%2028px;%20left:%200px;%20padding:%204px%204px%203px;%20position:%20absolute;%20top:%20196px;%20width:%20120px;%20background-color:%20rgb(250,%20250,%20250);%20border-right:%202px%20solid%20rgb(233,%20233,%20233);%22&gt;&lt;span%20style=%22text-overflow:%20ellipsis;%20overflow:%20hidden;%20white-space:%20nowrap;%20max-width:%20calc((100%25%20-%200px)%20-%200px);%22&gt;9&lt;/span&gt;&lt;div%20style=%22height:%20100%25;%20margin-left:%206px;%22&gt;&lt;/div&gt;&lt;/div&gt;&lt;div%20style=%22overflow:%20hidden;%20display:%20flex;%20align-items:%20center;%20font-size:%2012px;%20height:%2028px;%20left:%200px;%20padding:%204px%204px%203px;%20position:%20absolute;%20top:%20224px;%20width:%20120px;%20border-right:%202px%20solid%20rgb(233,%20233,%20233);%22&gt;&lt;span%20style=%22text-overflow:%20ellipsis;%20overflow:%20hidden;%20white-space:%20nowrap;%20max-width:%20calc((100%25%20-%200px)%20-%200px);%22&gt;10&lt;/span&gt;&lt;div%20style=%22height:%20100%25;%20margin-left:%206px;%22&gt;&lt;/div&gt;&lt;/div&gt;&lt;div%20style=%22overflow:%20hidden;%20display:%20flex;%20align-items:%20center;%20font-size:%2012px;%20height:%2028px;%20left:%200px;%20padding:%204px%204px%203px;%20position:%20absolute;%20top:%20252px;%20width:%20120px;%20background-color:%20rgb(250,%20250,%20250);%20border-right:%202px%20solid%20rgb(233,%20233,%20233);%22&gt;&lt;span%20style=%22text-overflow:%20ellipsis;%20overflow:%20hidden;%20white-space:%20nowrap;%20max-width:%20calc((100%25%20-%200px)%20-%200px);%22&gt;11&lt;/span&gt;&lt;div%20style=%22height:%20100%25;%20margin-left:%206px;%22&gt;&lt;/div&gt;&lt;/div&gt;&lt;div%20style=%22overflow:%20hidden;%20display:%20flex;%20align-items:%20center;%20font-size:%2012px;%20height:%2028px;%20left:%200px;%20padding:%204px%204px%203px;%20position:%20absolute;%20top:%20280px;%20width:%20120px;%20border-right:%202px%20solid%20rgb(233,%20233,%20233);%22&gt;&lt;span%20style=%22text-overflow:%20ellipsis;%20overflow:%20hidden;%20white-space:%20nowrap;%20max-width:%20calc((100%25%20-%200px)%20-%200px);%22&gt;12&lt;/span&gt;&lt;div%20style=%22height:%20100%25;%20margin-left:%206px;%22&gt;&lt;/div&gt;&lt;/div&gt;&lt;/div&gt;&lt;/div&gt;&lt;/div&gt;&lt;div%20class=%22css-1pdv37h-Table%22&gt;&lt;div%20class=%22css-1uctjqu%22&gt;&lt;div%20class=%22css-1kvgiww%22&gt;&lt;div%20style=%22overflow:%20hidden;%20display:%20flex;%20align-items:%20center;%20font-size:%2012px;%20height:%2028px;%20left:%200px;%20padding:%204px%204px%203px;%20position:%20absolute;%20top:%200px;%20width:%20120px;%20font-weight:%20600;%22&gt;&lt;span%20style=%22text-overflow:%20ellipsis;%20overflow:%20hidden;%20white-space:%20nowrap;%20max-width:%20calc((100%25%20-%200px)%20-%200px);%22&gt;gamma.VALUE&lt;/span&gt;&lt;div%20style=%22height:%20100%25;%20margin-left:%206px;%22&gt;&lt;/div&gt;&lt;/div&gt;&lt;div%20style=%22overflow:%20hidden;%20display:%20none;%20align-items:%20center;%20font-size:%2012px;%20height:%2028px;%20left:%20120px;%20padding:%204px%204px%203px;%20position:%20absolute;%20top:%200px;%20width:%20120px;%20font-weight:%20600;%22&gt;&lt;span%20style=%22text-overflow:%20ellipsis;%20overflow:%20hidden;%20white-space:%20nowrap;%20max-width:%20calc((100%25%20-%200px)%20-%200px);%22&gt;gamma.VALUE&lt;/span&gt;&lt;div%20style=%22height:%20100%25;%20margin-left:%206px;%22&gt;&lt;/div&gt;&lt;/div&gt;&lt;div%20style=%22overflow:%20hidden;%20display:%20none;%20align-items:%20center;%20font-size:%2012px;%20height:%2028px;%20left:%20240px;%20padding:%204px%204px%203px;%20position:%20absolute;%20top:%200px;%20width:%20120px;%20font-weight:%20600;%22&gt;&lt;span%20style=%22text-overflow:%20ellipsis;%20overflow:%20hidden;%20white-space:%20nowrap;%20max-width:%20calc((100%25%20-%200px)%20-%200px);%22&gt;gamma.VALUE&lt;/span&gt;&lt;div%20style=%22height:%20100%25;%20margin-left:%206px;%22&gt;&lt;/div&gt;&lt;/div&gt;&lt;div%20style=%22overflow:%20hidden;%20display:%20none;%20align-items:%20center;%20font-size:%2012px;%20height:%2028px;%20left:%20360px;%20padding:%204px%204px%203px;%20position:%20absolute;%20top:%200px;%20width:%20120px;%20font-weight:%20600;%22&gt;&lt;span%20style=%22text-overflow:%20ellipsis;%20overflow:%20hidden;%20white-space:%20nowrap;%20max-width:%20calc((100%25%20-%200px)%20-%200px);%22&gt;gamma.VALUE&lt;/span&gt;&lt;div%20style=%22height:%20100%25;%20margin-left:%206px;%22&gt;&lt;/div&gt;&lt;/div&gt;&lt;div%20style=%22overflow:%20hidden;%20display:%20none;%20align-items:%20center;%20font-size:%2012px;%20height:%2028px;%20left:%20480px;%20padding:%204px%204px%203px;%20position:%20absolute;%20top:%200px;%20width:%20120px;%20font-weight:%20600;%22&gt;&lt;span%20style=%22text-overflow:%20ellipsis;%20overflow:%20hidden;%20white-space:%20nowrap;%20max-width:%20calc((100%25%20-%200px)%20-%200px);%22&gt;gamma.VALUE&lt;/span&gt;&lt;div%20style=%22height:%20100%25;%20margin-left:%206px;%22&gt;&lt;/div&gt;&lt;/div&gt;&lt;div%20style=%22overflow:%20hidden;%20display:%20none;%20align-items:%20center;%20font-size:%2012px;%20height:%2028px;%20left:%20600px;%20padding:%204px%204px%203px;%20position:%20absolute;%20top:%200px;%20width:%20120px;%20font-weight:%20600;%22&gt;&lt;span%20style=%22text-overflow:%20ellipsis;%20overflow:%20hidden;%20white-space:%20nowrap;%20max-width:%20calc((100%25%20-%200px)%20-%200px);%22&gt;gamma.VALUE&lt;/span&gt;&lt;div%20style=%22height:%20100%25;%20margin-left:%206px;%22&gt;&lt;/div&gt;&lt;/div&gt;&lt;div%20style=%22overflow:%20hidden;%20display:%20none;%20align-items:%20center;%20font-size:%2012px;%20height:%2028px;%20left:%20720px;%20padding:%204px%204px%203px;%20position:%20absolute;%20top:%200px;%20width:%20120px;%20font-weight:%20600;%22&gt;&lt;span%20style=%22text-overflow:%20ellipsis;%20overflow:%20hidden;%20white-space:%20nowrap;%20max-width:%20calc((100%25%20-%200px)%20-%200px);%22&gt;gamma.VALUE&lt;/span&gt;&lt;div%20style=%22height:%20100%25;%20margin-left:%206px;%22&gt;&lt;/div&gt;&lt;/div&gt;&lt;div%20style=%22overflow:%20hidden;%20display:%20none;%20align-items:%20center;%20font-size:%2012px;%20height:%2028px;%20left:%20840px;%20padding:%204px%204px%203px;%20position:%20absolute;%20top:%200px;%20width:%20120px;%20font-weight:%20600;%22&gt;&lt;span%20style=%22text-overflow:%20ellipsis;%20overflow:%20hidden;%20white-space:%20nowrap;%20max-width:%20calc((100%25%20-%200px)%20-%200px);%22&gt;gamma.VALUE&lt;/span&gt;&lt;div%20style=%22height:%20100%25;%20margin-left:%206px;%22&gt;&lt;/div&gt;&lt;/div&gt;&lt;div%20style=%22overflow:%20hidden;%20display:%20none;%20align-items:%20center;%20font-size:%2012px;%20height:%2028px;%20left:%20960px;%20padding:%204px%204px%203px;%20position:%20absolute;%20top:%200px;%20width:%20120px;%20font-weight:%20600;%22&gt;&lt;span%20style=%22text-overflow:%20ellipsis;%20overflow:%20hidden;%20white-space:%20nowrap;%20max-width:%20calc((100%25%20-%200px)%20-%200px);%22&gt;gamma.VALUE&lt;/span&gt;&lt;div%20style=%22height:%20100%25;%20margin-left:%206px;%22&gt;&lt;/div&gt;&lt;/div&gt;&lt;div%20style=%22overflow:%20hidden;%20display:%20flex;%20align-items:%20center;%20font-size:%2012px;%20height:%2028px;%20left:%200px;%20padding:%204px%204px%203px;%20position:%20absolute;%20top:%2028px;%20width:%20120px;%20font-weight:%20600;%22&gt;&lt;span%20style=%22text-overflow:%20ellipsis;%20overflow:%20hidden;%20white-space:%20nowrap;%20max-width:%20calc((100%25%20-%200px)%20-%200px);%22&gt;1&lt;/span&gt;&lt;div%20style=%22height:%20100%25;%20margin-left:%206px;%22&gt;&lt;/div&gt;&lt;/div&gt;&lt;div%20style=%22overflow:%20hidden;%20display:%20flex;%20align-items:%20center;%20font-size:%2012px;%20height:%2028px;%20left:%20120px;%20padding:%204px%204px%203px;%20position:%20absolute;%20top:%2028px;%20width:%20120px;%20font-weight:%20600;%22&gt;&lt;span%20style=%22text-overflow:%20ellipsis;%20overflow:%20hidden;%20white-space:%20nowrap;%20max-width:%20calc((100%25%20-%200px)%20-%200px);%22&gt;2&lt;/span&gt;&lt;div%20style=%22height:%20100%25;%20margin-left:%206px;%22&gt;&lt;/div&gt;&lt;/div&gt;&lt;div%20style=%22overflow:%20hidden;%20display:%20flex;%20align-items:%20center;%20font-size:%2012px;%20height:%2028px;%20left:%20240px;%20padding:%204px%204px%203px;%20position:%20absolute;%20top:%2028px;%20width:%20120px;%20font-weight:%20600;%22&gt;&lt;span%20style=%22text-overflow:%20ellipsis;%20overflow:%20hidden;%20white-space:%20nowrap;%20max-width:%20calc((100%25%20-%200px)%20-%200px);%22&gt;3&lt;/span&gt;&lt;div%20style=%22height:%20100%25;%20margin-left:%206px;%22&gt;&lt;/div&gt;&lt;/div&gt;&lt;div%20style=%22overflow:%20hidden;%20display:%20flex;%20align-items:%20center;%20font-size:%2012px;%20height:%2028px;%20left:%20360px;%20padding:%204px%204px%203px;%20position:%20absolute;%20top:%2028px;%20width:%20120px;%20font-weight:%20600;%22&gt;&lt;span%20style=%22text-overflow:%20ellipsis;%20overflow:%20hidden;%20white-space:%20nowrap;%20max-width:%20calc((100%25%20-%200px)%20-%200px);%22&gt;4&lt;/span&gt;&lt;div%20style=%22height:%20100%25;%20margin-left:%206px;%22&gt;&lt;/div&gt;&lt;/div&gt;&lt;div%20style=%22overflow:%20hidden;%20display:%20flex;%20align-items:%20center;%20font-size:%2012px;%20height:%2028px;%20left:%20480px;%20padding:%204px%204px%203px;%20position:%20absolute;%20top:%2028px;%20width:%20120px;%20font-weight:%20600;%22&gt;&lt;span%20style=%22text-overflow:%20ellipsis;%20overflow:%20hidden;%20white-space:%20nowrap;%20max-width:%20calc((100%25%20-%200px)%20-%200px);%22&gt;5&lt;/span&gt;&lt;div%20style=%22height:%20100%25;%20margin-left:%206px;%22&gt;&lt;/div&gt;&lt;/div&gt;&lt;div%20style=%22overflow:%20hidden;%20display:%20flex;%20align-items:%20center;%20font-size:%2012px;%20height:%2028px;%20left:%20600px;%20padding:%204px%204px%203px;%20position:%20absolute;%20top:%2028px;%20width:%20120px;%20font-weight:%20600;%22&gt;&lt;span%20style=%22text-overflow:%20ellipsis;%20overflow:%20hidden;%20white-space:%20nowrap;%20max-width:%20calc((100%25%20-%200px)%20-%200px);%22&gt;6&lt;/span&gt;&lt;div%20style=%22height:%20100%25;%20margin-left:%206px;%22&gt;&lt;/div&gt;&lt;/div&gt;&lt;div%20style=%22overflow:%20hidden;%20display:%20flex;%20align-items:%20center;%20font-size:%2012px;%20height:%2028px;%20left:%20720px;%20padding:%204px%204px%203px;%20position:%20absolute;%20top:%2028px;%20width:%20120px;%20font-weight:%20600;%22&gt;&lt;span%20style=%22text-overflow:%20ellipsis;%20overflow:%20hidden;%20white-space:%20nowrap;%20max-width:%20calc((100%25%20-%200px)%20-%200px);%22&gt;7&lt;/span&gt;&lt;div%20style=%22height:%20100%25;%20margin-left:%206px;%22&gt;&lt;/div&gt;&lt;/div&gt;&lt;div%20style=%22overflow:%20hidden;%20display:%20flex;%20align-items:%20center;%20font-size:%2012px;%20height:%2028px;%20left:%20840px;%20padding:%204px%204px%203px;%20position:%20absolute;%20top:%2028px;%20width:%20120px;%20font-weight:%20600;%22&gt;&lt;span%20style=%22text-overflow:%20ellipsis;%20overflow:%20hidden;%20white-space:%20nowrap;%20max-width:%20calc((100%25%20-%200px)%20-%200px);%22&gt;8&lt;/span&gt;&lt;div%20style=%22height:%20100%25;%20margin-left:%206px;%22&gt;&lt;/div&gt;&lt;/div&gt;&lt;div%20style=%22overflow:%20hidden;%20display:%20flex;%20align-items:%20center;%20font-size:%2012px;%20height:%2028px;%20left:%20960px;%20padding:%204px%204px%203px;%20position:%20absolute;%20top:%2028px;%20width:%20120px;%20font-weight:%20600;%22&gt;&lt;span%20style=%22text-overflow:%20ellipsis;%20overflow:%20hidden;%20white-space:%20nowrap;%20max-width:%20calc((100%25%20-%200px)%20-%200px);%22&gt;9&lt;/span&gt;&lt;div%20style=%22height:%20100%25;%20margin-left:%206px;%22&gt;&lt;/div&gt;&lt;/div&gt;&lt;/div&gt;&lt;/div&gt;&lt;div%20class=%22css-1uoxfj8%22&gt;&lt;div%20class=%22css-11v0d83%22&gt;&lt;div%20class=%22css-1lzltx4-TableCell%22%20style=%22font-size:%2012px;%20height:%2028px;%20left:%200px;%20padding:%204px%204px%203px;%20position:%20absolute;%20top:%200px;%20width:%20120px;%20text-align:%20right;%20border-right:%201px%20solid%20rgb(233,%20233,%20233);%22&gt;.00&lt;/div&gt;&lt;div%20class=%22css-1lzltx4-TableCell%22%20style=%22font-size:%2012px;%20height:%2028px;%20left:%20120px;%20padding:%204px%204px%203px;%20position:%20absolute;%20top:%200px;%20width:%20120px;%20text-align:%20right;%20border-right:%201px%20solid%20rgb(233,%20233,%20233);%22&gt;.15&lt;/div&gt;&lt;div%20class=%22css-1lzltx4-TableCell%22%20style=%22font-size:%2012px;%20height:%2028px;%20left:%20240px;%20padding:%204px%204px%203px;%20position:%20absolute;%20top:%200px;%20width:%20120px;%20text-align:%20right;%20border-right:%201px%20solid%20rgb(233,%20233,%20233);%22&gt;.15&lt;/div&gt;&lt;div%20class=%22css-1lzltx4-TableCell%22%20style=%22font-size:%2012px;%20height:%2028px;%20left:%20360px;%20padding:%204px%204px%203px;%20position:%20absolute;%20top:%200px;%20width:%20120px;%20text-align:%20right;%20border-right:%201px%20solid%20rgb(233,%20233,%20233);%22&gt;.15&lt;/div&gt;&lt;div%20class=%22css-1lzltx4-TableCell%22%20style=%22font-size:%2012px;%20height:%2028px;%20left:%20480px;%20padding:%204px%204px%203px;%20position:%20absolute;%20top:%200px;%20width:%20120px;%20text-align:%20right;%20border-right:%201px%20solid%20rgb(233,%20233,%20233);%22&gt;.15&lt;/div&gt;&lt;div%20class=%22css-1lzltx4-TableCell%22%20style=%22font-size:%2012px;%20height:%2028px;%20left:%20600px;%20padding:%204px%204px%203px;%20position:%20absolute;%20top:%200px;%20width:%20120px;%20text-align:%20right;%20border-right:%201px%20solid%20rgb(233,%20233,%20233);%22&gt;.15&lt;/div&gt;&lt;div%20class=%22css-1lzltx4-TableCell%22%20style=%22font-size:%2012px;%20height:%2028px;%20left:%20720px;%20padding:%204px%204px%203px;%20position:%20absolute;%20top:%200px;%20width:%20120px;%20text-align:%20right;%20border-right:%201px%20solid%20rgb(233,%20233,%20233);%22&gt;.15&lt;/div&gt;&lt;div%20class=%22css-1lzltx4-TableCell%22%20style=%22font-size:%2012px;%20height:%2028px;%20left:%20840px;%20padding:%204px%204px%203px;%20position:%20absolute;%20top:%200px;%20width:%20120px;%20text-align:%20right;%20border-right:%201px%20solid%20rgb(233,%20233,%20233);%22&gt;.15&lt;/div&gt;&lt;div%20class=%22css-1lzltx4-TableCell%22%20style=%22font-size:%2012px;%20height:%2028px;%20left:%20960px;%20padding:%204px%204px%203px;%20position:%20absolute;%20top:%200px;%20width:%20120px;%20text-align:%20right;%20border-right:%201px%20solid%20rgb(233,%20233,%20233);%22&gt;.15&lt;/div&gt;&lt;div%20class=%22css-1lzltx4-TableCell%22%20style=%22font-size:%2012px;%20height:%2028px;%20left:%201080px;%20padding:%204px%204px%203px;%20position:%20absolute;%20top:%200px;%20width:%20120px;%20text-align:%20right;%20border-right:%201px%20solid%20rgb(233,%20233,%20233);%22&gt;.15&lt;/div&gt;&lt;div%20class=%22css-1lzltx4-TableCell%22%20style=%22font-size:%2012px;%20height:%2028px;%20left:%200px;%20padding:%204px%204px%203px;%20position:%20absolute;%20top:%2028px;%20width:%20120px;%20text-align:%20right;%20background-color:%20rgb(250,%20250,%20250);%20border-right:%201px%20solid%20rgb(233,%20233,%20233);%22&gt;.15&lt;/div&gt;&lt;div%20class=%22css-1lzltx4-TableCell%22%20style=%22font-size:%2012px;%20height:%2028px;%20left:%20120px;%20padding:%204px%204px%203px;%20position:%20absolute;%20top:%2028px;%20width:%20120px;%20text-align:%20right;%20background-color:%20rgb(250,%20250,%20250);%20border-right:%201px%20solid%20rgb(233,%20233,%20233);%22&gt;.00&lt;/div&gt;&lt;div%20class=%22css-1lzltx4-TableCell%22%20style=%22font-size:%2012px;%20height:%2028px;%20left:%20240px;%20padding:%204px%204px%203px;%20position:%20absolute;%20top:%2028px;%20width:%20120px;%20text-align:%20right;%20background-color:%20rgb(250,%20250,%20250);%20border-right:%201px%20solid%20rgb(233,%20233,%20233);%22&gt;.15&lt;/div&gt;&lt;div%20class=%22css-1lzltx4-TableCell%22%20style=%22font-size:%2012px;%20height:%2028px;%20left:%20360px;%20padding:%204px%204px%203px;%20position:%20absolute;%20top:%2028px;%20width:%20120px;%20text-align:%20right;%20background-color:%20rgb(250,%20250,%20250);%20border-right:%201px%20solid%20rgb(233,%20233,%20233);%22&gt;.15&lt;/div&gt;&lt;div%20class=%22css-1lzltx4-TableCell%22%20style=%22font-size:%2012px;%20height:%2028px;%20left:%20480px;%20padding:%204px%204px%203px;%20position:%20absolute;%20top:%2028px;%20width:%20120px;%20text-align:%20right;%20background-color:%20rgb(250,%20250,%20250);%20border-right:%201px%20solid%20rgb(233,%20233,%20233);%22&gt;.15&lt;/div&gt;&lt;div%20class=%22css-1lzltx4-TableCell%22%20style=%22font-size:%2012px;%20height:%2028px;%20left:%20600px;%20padding:%204px%204px%203px;%20position:%20absolute;%20top:%2028px;%20width:%20120px;%20text-align:%20right;%20background-color:%20rgb(250,%20250,%20250);%20border-right:%201px%20solid%20rgb(233,%20233,%20233);%22&gt;.15&lt;/div&gt;&lt;div%20class=%22css-1lzltx4-TableCell%22%20style=%22font-size:%2012px;%20height:%2028px;%20left:%20720px;%20padding:%204px%204px%203px;%20position:%20absolute;%20top:%2028px;%20width:%20120px;%20text-align:%20right;%20background-color:%20rgb(250,%20250,%20250);%20border-right:%201px%20solid%20rgb(233,%20233,%20233);%22&gt;.15&lt;/div&gt;&lt;div%20class=%22css-1lzltx4-TableCell%22%20style=%22font-size:%2012px;%20height:%2028px;%20left:%20840px;%20padding:%204px%204px%203px;%20position:%20absolute;%20top:%2028px;%20width:%20120px;%20text-align:%20right;%20background-color:%20rgb(250,%20250,%20250);%20border-right:%201px%20solid%20rgb(233,%20233,%20233);%22&gt;.15&lt;/div&gt;&lt;div%20class=%22css-1lzltx4-TableCell%22%20style=%22font-size:%2012px;%20height:%2028px;%20left:%20960px;%20padding:%204px%204px%203px;%20position:%20absolute;%20top:%2028px;%20width:%20120px;%20text-align:%20right;%20background-color:%20rgb(250,%20250,%20250);%20border-right:%201px%20solid%20rgb(233,%20233,%20233);%22&gt;.15&lt;/div&gt;&lt;div%20class=%22css-1lzltx4-TableCell%22%20style=%22font-size:%2012px;%20height:%2028px;%20left:%201080px;%20padding:%204px%204px%203px;%20position:%20absolute;%20top:%2028px;%20width:%20120px;%20text-align:%20right;%20background-color:%20rgb(250,%20250,%20250);%20border-right:%201px%20solid%20rgb(233,%20233,%20233);%22&gt;.15&lt;/div&gt;&lt;div%20class=%22css-1lzltx4-TableCell%22%20style=%22font-size:%2012px;%20height:%2028px;%20left:%200px;%20padding:%204px%204px%203px;%20position:%20absolute;%20top:%2056px;%20width:%20120px;%20text-align:%20right;%20border-right:%201px%20solid%20rgb(233,%20233,%20233);%22&gt;.15&lt;/div&gt;&lt;div%20class=%22css-1lzltx4-TableCell%22%20style=%22font-size:%2012px;%20height:%2028px;%20left:%20120px;%20padding:%204px%204px%203px;%20position:%20absolute;%20top:%2056px;%20width:%20120px;%20text-align:%20right;%20border-right:%201px%20solid%20rgb(233,%20233,%20233);%22&gt;.15&lt;/div&gt;&lt;div%20class=%22css-1lzltx4-TableCell%22%20style=%22font-size:%2012px;%20height:%2028px;%20left:%20240px;%20padding:%204px%204px%203px;%20position:%20absolute;%20top:%2056px;%20width:%20120px;%20text-align:%20right;%20border-right:%201px%20solid%20rgb(233,%20233,%20233);%22&gt;.00&lt;/div&gt;&lt;div%20class=%22css-1lzltx4-TableCell%22%20style=%22font-size:%2012px;%20height:%2028px;%20left:%20360px;%20padding:%204px%204px%203px;%20position:%20absolute;%20top:%2056px;%20width:%20120px;%20text-align:%20right;%20border-right:%201px%20solid%20rgb(233,%20233,%20233);%22&gt;.15&lt;/div&gt;&lt;div%20class=%22css-1lzltx4-TableCell%22%20style=%22font-size:%2012px;%20height:%2028px;%20left:%20480px;%20padding:%204px%204px%203px;%20position:%20absolute;%20top:%2056px;%20width:%20120px;%20text-align:%20right;%20border-right:%201px%20solid%20rgb(233,%20233,%20233);%22&gt;.15&lt;/div&gt;&lt;div%20class=%22css-1lzltx4-TableCell%22%20style=%22font-size:%2012px;%20height:%2028px;%20left:%20600px;%20padding:%204px%204px%203px;%20position:%20absolute;%20top:%2056px;%20width:%20120px;%20text-align:%20right;%20border-right:%201px%20solid%20rgb(233,%20233,%20233);%22&gt;.15&lt;/div&gt;&lt;div%20class=%22css-1lzltx4-TableCell%22%20style=%22font-size:%2012px;%20height:%2028px;%20left:%20720px;%20padding:%204px%204px%203px;%20position:%20absolute;%20top:%2056px;%20width:%20120px;%20text-align:%20right;%20border-right:%201px%20solid%20rgb(233,%20233,%20233);%22&gt;.15&lt;/div&gt;&lt;div%20class=%22css-1lzltx4-TableCell%22%20style=%22font-size:%2012px;%20height:%2028px;%20left:%20840px;%20padding:%204px%204px%203px;%20position:%20absolute;%20top:%2056px;%20width:%20120px;%20text-align:%20right;%20border-right:%201px%20solid%20rgb(233,%20233,%20233);%22&gt;.15&lt;/div&gt;&lt;div%20class=%22css-1lzltx4-TableCell%22%20style=%22font-size:%2012px;%20height:%2028px;%20left:%20960px;%20padding:%204px%204px%203px;%20position:%20absolute;%20top:%2056px;%20width:%20120px;%20text-align:%20right;%20border-right:%201px%20solid%20rgb(233,%20233,%20233);%22&gt;.15&lt;/div&gt;&lt;div%20class=%22css-1lzltx4-TableCell%22%20style=%22font-size:%2012px;%20height:%2028px;%20left:%201080px;%20padding:%204px%204px%203px;%20position:%20absolute;%20top:%2056px;%20width:%20120px;%20text-align:%20right;%20border-right:%201px%20solid%20rgb(233,%20233,%20233);%22&gt;.15&lt;/div&gt;&lt;div%20class=%22css-1lzltx4-TableCell%22%20style=%22font-size:%2012px;%20height:%2028px;%20left:%200px;%20padding:%204px%204px%203px;%20position:%20absolute;%20top:%2084px;%20width:%20120px;%20text-align:%20right;%20background-color:%20rgb(250,%20250,%20250);%20border-right:%201px%20solid%20rgb(233,%20233,%20233);%22&gt;.15&lt;/div&gt;&lt;div%20class=%22css-1lzltx4-TableCell%22%20style=%22font-size:%2012px;%20height:%2028px;%20left:%20120px;%20padding:%204px%204px%203px;%20position:%20absolute;%20top:%2084px;%20width:%20120px;%20text-align:%20right;%20background-color:%20rgb(250,%20250,%20250);%20border-right:%201px%20solid%20rgb(233,%20233,%20233);%22&gt;.15&lt;/div&gt;&lt;div%20class=%22css-1lzltx4-TableCell%22%20style=%22font-size:%2012px;%20height:%2028px;%20left:%20240px;%20padding:%204px%204px%203px;%20position:%20absolute;%20top:%2084px;%20width:%20120px;%20text-align:%20right;%20background-color:%20rgb(250,%20250,%20250);%20border-right:%201px%20solid%20rgb(233,%20233,%20233);%22&gt;.15&lt;/div&gt;&lt;div%20class=%22css-1lzltx4-TableCell%22%20style=%22font-size:%2012px;%20height:%2028px;%20left:%20360px;%20padding:%204px%204px%203px;%20position:%20absolute;%20top:%2084px;%20width:%20120px;%20text-align:%20right;%20background-color:%20rgb(250,%20250,%20250);%20border-right:%201px%20solid%20rgb(233,%20233,%20233);%22&gt;.00&lt;/div&gt;&lt;div%20class=%22css-1lzltx4-TableCell%22%20style=%22font-size:%2012px;%20height:%2028px;%20left:%20480px;%20padding:%204px%204px%203px;%20position:%20absolute;%20top:%2084px;%20width:%20120px;%20text-align:%20right;%20background-color:%20rgb(250,%20250,%20250);%20border-right:%201px%20solid%20rgb(233,%20233,%20233);%22&gt;.15&lt;/div&gt;&lt;div%20class=%22css-1lzltx4-TableCell%22%20style=%22font-size:%2012px;%20height:%2028px;%20left:%20600px;%20padding:%204px%204px%203px;%20position:%20absolute;%20top:%2084px;%20width:%20120px;%20text-align:%20right;%20background-color:%20rgb(250,%20250,%20250);%20border-right:%201px%20solid%20rgb(233,%20233,%20233);%22&gt;.15&lt;/div&gt;&lt;div%20class=%22css-1lzltx4-TableCell%22%20style=%22font-size:%2012px;%20height:%2028px;%20left:%20720px;%20padding:%204px%204px%203px;%20position:%20absolute;%20top:%2084px;%20width:%20120px;%20text-align:%20right;%20background-color:%20rgb(250,%20250,%20250);%20border-right:%201px%20solid%20rgb(233,%20233,%20233);%22&gt;.15&lt;/div&gt;&lt;div%20class=%22css-1lzltx4-TableCell%22%20style=%22font-size:%2012px;%20height:%2028px;%20left:%20840px;%20padding:%204px%204px%203px;%20position:%20absolute;%20top:%2084px;%20width:%20120px;%20text-align:%20right;%20background-color:%20rgb(250,%20250,%20250);%20border-right:%201px%20solid%20rgb(233,%20233,%20233);%22&gt;.15&lt;/div&gt;&lt;div%20class=%22css-1lzltx4-TableCell%22%20style=%22font-size:%2012px;%20height:%2028px;%20left:%20960px;%20padding:%204px%204px%203px;%20position:%20absolute;%20top:%2084px;%20width:%20120px;%20text-align:%20right;%20background-color:%20rgb(250,%20250,%20250);%20border-right:%201px%20solid%20rgb(233,%20233,%20233);%22&gt;.15&lt;/div&gt;&lt;div%20class=%22css-1lzltx4-TableCell%22%20style=%22font-size:%2012px;%20height:%2028px;%20left:%201080px;%20padding:%204px%204px%203px;%20position:%20absolute;%20top:%2084px;%20width:%20120px;%20text-align:%20right;%20background-color:%20rgb(250,%20250,%20250);%20border-right:%201px%20solid%20rgb(233,%20233,%20233);%22&gt;.15&lt;/div&gt;&lt;div%20class=%22css-1lzltx4-TableCell%22%20style=%22font-size:%2012px;%20height:%2028px;%20left:%200px;%20padding:%204px%204px%203px;%20position:%20absolute;%20top:%20112px;%20width:%20120px;%20text-align:%20right;%20border-right:%201px%20solid%20rgb(233,%20233,%20233);%22&gt;.15&lt;/div&gt;&lt;div%20class=%22css-1lzltx4-TableCell%22%20style=%22font-size:%2012px;%20height:%2028px;%20left:%20120px;%20padding:%204px%204px%203px;%20position:%20absolute;%20top:%20112px;%20width:%20120px;%20text-align:%20right;%20border-right:%201px%20solid%20rgb(233,%20233,%20233);%22&gt;.15&lt;/div&gt;&lt;div%20class=%22css-1lzltx4-TableCell%22%20style=%22font-size:%2012px;%20height:%2028px;%20left:%20240px;%20padding:%204px%204px%203px;%20position:%20absolute;%20top:%20112px;%20width:%20120px;%20text-align:%20right;%20border-right:%201px%20solid%20rgb(233,%20233,%20233);%22&gt;.15&lt;/div&gt;&lt;div%20class=%22css-1lzltx4-TableCell%22%20style=%22font-size:%2012px;%20height:%2028px;%20left:%20360px;%20padding:%204px%204px%203px;%20position:%20absolute;%20top:%20112px;%20width:%20120px;%20text-align:%20right;%20border-right:%201px%20solid%20rgb(233,%20233,%20233);%22&gt;.15&lt;/div&gt;&lt;div%20class=%22css-1lzltx4-TableCell%22%20style=%22font-size:%2012px;%20height:%2028px;%20left:%20480px;%20padding:%204px%204px%203px;%20position:%20absolute;%20top:%20112px;%20width:%20120px;%20text-align:%20right;%20border-right:%201px%20solid%20rgb(233,%20233,%20233);%22&gt;.00&lt;/div&gt;&lt;div%20class=%22css-1lzltx4-TableCell%22%20style=%22font-size:%2012px;%20height:%2028px;%20left:%20600px;%20padding:%204px%204px%203px;%20position:%20absolute;%20top:%20112px;%20width:%20120px;%20text-align:%20right;%20border-right:%201px%20solid%20rgb(233,%20233,%20233);%22&gt;.15&lt;/div&gt;&lt;div%20class=%22css-1lzltx4-TableCell%22%20style=%22font-size:%2012px;%20height:%2028px;%20left:%20720px;%20padding:%204px%204px%203px;%20position:%20absolute;%20top:%20112px;%20width:%20120px;%20text-align:%20right;%20border-right:%201px%20solid%20rgb(233,%20233,%20233);%22&gt;.15&lt;/div&gt;&lt;div%20class=%22css-1lzltx4-TableCell%22%20style=%22font-size:%2012px;%20height:%2028px;%20left:%20840px;%20padding:%204px%204px%203px;%20position:%20absolute;%20top:%20112px;%20width:%20120px;%20text-align:%20right;%20border-right:%201px%20solid%20rgb(233,%20233,%20233);%22&gt;.15&lt;/div&gt;&lt;div%20class=%22css-1lzltx4-TableCell%22%20style=%22font-size:%2012px;%20height:%2028px;%20left:%20960px;%20padding:%204px%204px%203px;%20position:%20absolute;%20top:%20112px;%20width:%20120px;%20text-align:%20right;%20border-right:%201px%20solid%20rgb(233,%20233,%20233);%22&gt;.15&lt;/div&gt;&lt;div%20class=%22css-1lzltx4-TableCell%22%20style=%22font-size:%2012px;%20height:%2028px;%20left:%201080px;%20padding:%204px%204px%203px;%20position:%20absolute;%20top:%20112px;%20width:%20120px;%20text-align:%20right;%20border-right:%201px%20solid%20rgb(233,%20233,%20233);%22&gt;.15&lt;/div&gt;&lt;div%20class=%22css-1lzltx4-TableCell%22%20style=%22font-size:%2012px;%20height:%2028px;%20left:%200px;%20padding:%204px%204px%203px;%20position:%20absolute;%20top:%20140px;%20width:%20120px;%20text-align:%20right;%20background-color:%20rgb(250,%20250,%20250);%20border-right:%201px%20solid%20rgb(233,%20233,%20233);%22&gt;.15&lt;/div&gt;&lt;div%20class=%22css-1lzltx4-TableCell%22%20style=%22font-size:%2012px;%20height:%2028px;%20left:%20120px;%20padding:%204px%204px%203px;%20position:%20absolute;%20top:%20140px;%20width:%20120px;%20text-align:%20right;%20background-color:%20rgb(250,%20250,%20250);%20border-right:%201px%20solid%20rgb(233,%20233,%20233);%22&gt;.15&lt;/div&gt;&lt;div%20class=%22css-1lzltx4-TableCell%22%20style=%22font-size:%2012px;%20height:%2028px;%20left:%20240px;%20padding:%204px%204px%203px;%20position:%20absolute;%20top:%20140px;%20width:%20120px;%20text-align:%20right;%20background-color:%20rgb(250,%20250,%20250);%20border-right:%201px%20solid%20rgb(233,%20233,%20233);%22&gt;.15&lt;/div&gt;&lt;div%20class=%22css-1lzltx4-TableCell%22%20style=%22font-size:%2012px;%20height:%2028px;%20left:%20360px;%20padding:%204px%204px%203px;%20position:%20absolute;%20top:%20140px;%20width:%20120px;%20text-align:%20right;%20background-color:%20rgb(250,%20250,%20250);%20border-right:%201px%20solid%20rgb(233,%20233,%20233);%22&gt;.15&lt;/div&gt;&lt;div%20class=%22css-1lzltx4-TableCell%22%20style=%22font-size:%2012px;%20height:%2028px;%20left:%20480px;%20padding:%204px%204px%203px;%20position:%20absolute;%20top:%20140px;%20width:%20120px;%20text-align:%20right;%20background-color:%20rgb(250,%20250,%20250);%20border-right:%201px%20solid%20rgb(233,%20233,%20233);%22&gt;.15&lt;/div&gt;&lt;div%20class=%22css-1lzltx4-TableCell%22%20style=%22font-size:%2012px;%20height:%2028px;%20left:%20600px;%20padding:%204px%204px%203px;%20position:%20absolute;%20top:%20140px;%20width:%20120px;%20text-align:%20right;%20background-color:%20rgb(250,%20250,%20250);%20border-right:%201px%20solid%20rgb(233,%20233,%20233);%22&gt;.15&lt;/div&gt;&lt;div%20class=%22css-1lzltx4-TableCell%22%20style=%22font-size:%2012px;%20height:%2028px;%20left:%20720px;%20padding:%204px%204px%203px;%20position:%20absolute;%20top:%20140px;%20width:%20120px;%20text-align:%20right;%20background-color:%20rgb(250,%20250,%20250);%20border-right:%201px%20solid%20rgb(233,%20233,%20233);%22&gt;.00&lt;/div&gt;&lt;div%20class=%22css-1lzltx4-TableCell%22%20style=%22font-size:%2012px;%20height:%2028px;%20left:%20840px;%20padding:%204px%204px%203px;%20position:%20absolute;%20top:%20140px;%20width:%20120px;%20text-align:%20right;%20background-color:%20rgb(250,%20250,%20250);%20border-right:%201px%20solid%20rgb(233,%20233,%20233);%22&gt;.15&lt;/div&gt;&lt;div%20class=%22css-1lzltx4-TableCell%22%20style=%22font-size:%2012px;%20height:%2028px;%20left:%20960px;%20padding:%204px%204px%203px;%20position:%20absolute;%20top:%20140px;%20width:%20120px;%20text-align:%20right;%20background-color:%20rgb(250,%20250,%20250);%20border-right:%201px%20solid%20rgb(233,%20233,%20233);%22&gt;.15&lt;/div&gt;&lt;div%20class=%22css-1lzltx4-TableCell%22%20style=%22font-size:%2012px;%20height:%2028px;%20left:%201080px;%20padding:%204px%204px%203px;%20position:%20absolute;%20top:%20140px;%20width:%20120px;%20text-align:%20right;%20background-color:%20rgb(250,%20250,%20250);%20border-right:%201px%20solid%20rgb(233,%20233,%20233);%22&gt;.15&lt;/div&gt;&lt;div%20class=%22css-1lzltx4-TableCell%22%20style=%22font-size:%2012px;%20height:%2028px;%20left:%200px;%20padding:%204px%204px%203px;%20position:%20absolute;%20top:%20168px;%20width:%20120px;%20text-align:%20right;%20border-right:%201px%20solid%20rgb(233,%20233,%20233);%22&gt;.15&lt;/div&gt;&lt;div%20class=%22css-1lzltx4-TableCell%22%20style=%22font-size:%2012px;%20height:%2028px;%20left:%20120px;%20padding:%204px%204px%203px;%20position:%20absolute;%20top:%20168px;%20width:%20120px;%20text-align:%20right;%20border-right:%201px%20solid%20rgb(233,%20233,%20233);%22&gt;.15&lt;/div&gt;&lt;div%20class=%22css-1lzltx4-TableCell%22%20style=%22font-size:%2012px;%20height:%2028px;%20left:%20240px;%20padding:%204px%204px%203px;%20position:%20absolute;%20top:%20168px;%20width:%20120px;%20text-align:%20right;%20border-right:%201px%20solid%20rgb(233,%20233,%20233);%22&gt;.15&lt;/div&gt;&lt;div%20class=%22css-1lzltx4-TableCell%22%20style=%22font-size:%2012px;%20height:%2028px;%20left:%20360px;%20padding:%204px%204px%203px;%20position:%20absolute;%20top:%20168px;%20width:%20120px;%20text-align:%20right;%20border-right:%201px%20solid%20rgb(233,%20233,%20233);%22&gt;.15&lt;/div&gt;&lt;div%20class=%22css-1lzltx4-TableCell%22%20style=%22font-size:%2012px;%20height:%2028px;%20left:%20480px;%20padding:%204px%204px%203px;%20position:%20absolute;%20top:%20168px;%20width:%20120px;%20text-align:%20right;%20border-right:%201px%20solid%20rgb(233,%20233,%20233);%22&gt;.15&lt;/div&gt;&lt;div%20class=%22css-1lzltx4-TableCell%22%20style=%22font-size:%2012px;%20height:%2028px;%20left:%20600px;%20padding:%204px%204px%203px;%20position:%20absolute;%20top:%20168px;%20width:%20120px;%20text-align:%20right;%20border-right:%201px%20solid%20rgb(233,%20233,%20233);%22&gt;.15&lt;/div&gt;&lt;div%20class=%22css-1lzltx4-TableCell%22%20style=%22font-size:%2012px;%20height:%2028px;%20left:%20720px;%20padding:%204px%204px%203px;%20position:%20absolute;%20top:%20168px;%20width:%20120px;%20text-align:%20right;%20border-right:%201px%20solid%20rgb(233,%20233,%20233);%22&gt;.15&lt;/div&gt;&lt;div%20class=%22css-1lzltx4-TableCell%22%20style=%22font-size:%2012px;%20height:%2028px;%20left:%20840px;%20padding:%204px%204px%203px;%20position:%20absolute;%20top:%20168px;%20width:%20120px;%20text-align:%20right;%20border-right:%201px%20solid%20rgb(233,%20233,%20233);%22&gt;.00&lt;/div&gt;&lt;div%20class=%22css-1lzltx4-TableCell%22%20style=%22font-size:%2012px;%20height:%2028px;%20left:%20960px;%20padding:%204px%204px%203px;%20position:%20absolute;%20top:%20168px;%20width:%20120px;%20text-align:%20right;%20border-right:%201px%20solid%20rgb(233,%20233,%20233);%22&gt;.15&lt;/div&gt;&lt;div%20class=%22css-1lzltx4-TableCell%22%20style=%22font-size:%2012px;%20height:%2028px;%20left:%201080px;%20padding:%204px%204px%203px;%20position:%20absolute;%20top:%20168px;%20width:%20120px;%20text-align:%20right;%20border-right:%201px%20solid%20rgb(233,%20233,%20233);%22&gt;.15&lt;/div&gt;&lt;div%20class=%22css-1lzltx4-TableCell%22%20style=%22font-size:%2012px;%20height:%2028px;%20left:%200px;%20padding:%204px%204px%203px;%20position:%20absolute;%20top:%20196px;%20width:%20120px;%20text-align:%20right;%20background-color:%20rgb(250,%20250,%20250);%20border-right:%201px%20solid%20rgb(233,%20233,%20233);%22&gt;.15&lt;/div&gt;&lt;div%20class=%22css-1lzltx4-TableCell%22%20style=%22font-size:%2012px;%20height:%2028px;%20left:%20120px;%20padding:%204px%204px%203px;%20position:%20absolute;%20top:%20196px;%20width:%20120px;%20text-align:%20right;%20background-color:%20rgb(250,%20250,%20250);%20border-right:%201px%20solid%20rgb(233,%20233,%20233);%22&gt;.15&lt;/div&gt;&lt;div%20class=%22css-1lzltx4-TableCell%22%20style=%22font-size:%2012px;%20height:%2028px;%20left:%20240px;%20padding:%204px%204px%203px;%20position:%20absolute;%20top:%20196px;%20width:%20120px;%20text-align:%20right;%20background-color:%20rgb(250,%20250,%20250);%20border-right:%201px%20solid%20rgb(233,%20233,%20233);%22&gt;.15&lt;/div&gt;&lt;div%20class=%22css-1lzltx4-TableCell%22%20style=%22font-size:%2012px;%20height:%2028px;%20left:%20360px;%20padding:%204px%204px%203px;%20position:%20absolute;%20top:%20196px;%20width:%20120px;%20text-align:%20right;%20background-color:%20rgb(250,%20250,%20250);%20border-right:%201px%20solid%20rgb(233,%20233,%20233);%22&gt;.15&lt;/div&gt;&lt;div%20class=%22css-1lzltx4-TableCell%22%20style=%22font-size:%2012px;%20height:%2028px;%20left:%20480px;%20padding:%204px%204px%203px;%20position:%20absolute;%20top:%20196px;%20width:%20120px;%20text-align:%20right;%20background-color:%20rgb(250,%20250,%20250);%20border-right:%201px%20solid%20rgb(233,%20233,%20233);%22&gt;.15&lt;/div&gt;&lt;div%20class=%22css-1lzltx4-TableCell%22%20style=%22font-size:%2012px;%20height:%2028px;%20left:%20600px;%20padding:%204px%204px%203px;%20position:%20absolute;%20top:%20196px;%20width:%20120px;%20text-align:%20right;%20background-color:%20rgb(250,%20250,%20250);%20border-right:%201px%20solid%20rgb(233,%20233,%20233);%22&gt;.15&lt;/div&gt;&lt;div%20class=%22css-1lzltx4-TableCell%22%20style=%22font-size:%2012px;%20height:%2028px;%20left:%20720px;%20padding:%204px%204px%203px;%20position:%20absolute;%20top:%20196px;%20width:%20120px;%20text-align:%20right;%20background-color:%20rgb(250,%20250,%20250);%20border-right:%201px%20solid%20rgb(233,%20233,%20233);%22&gt;.15&lt;/div&gt;&lt;div%20class=%22css-1lzltx4-TableCell%22%20style=%22font-size:%2012px;%20height:%2028px;%20left:%20840px;%20padding:%204px%204px%203px;%20position:%20absolute;%20top:%20196px;%20width:%20120px;%20text-align:%20right;%20background-color:%20rgb(250,%20250,%20250);%20border-right:%201px%20solid%20rgb(233,%20233,%20233);%22&gt;.15&lt;/div&gt;&lt;div%20class=%22css-1lzltx4-TableCell%22%20style=%22font-size:%2012px;%20height:%2028px;%20left:%20960px;%20padding:%204px%204px%203px;%20position:%20absolute;%20top:%20196px;%20width:%20120px;%20text-align:%20right;%20background-color:%20rgb(250,%20250,%20250);%20border-right:%201px%20solid%20rgb(233,%20233,%20233);%22&gt;.00&lt;/div&gt;&lt;div%20class=%22css-1lzltx4-TableCell%22%20style=%22font-size:%2012px;%20height:%2028px;%20left:%201080px;%20padding:%204px%204px%203px;%20position:%20absolute;%20top:%20196px;%20width:%20120px;%20text-align:%20right;%20background-color:%20rgb(250,%20250,%20250);%20border-right:%201px%20solid%20rgb(233,%20233,%20233);%22&gt;.15&lt;/div&gt;&lt;div%20class=%22css-1lzltx4-TableCell%22%20style=%22font-size:%2012px;%20height:%2028px;%20left:%200px;%20padding:%204px%204px%203px;%20position:%20absolute;%20top:%20224px;%20width:%20120px;%20text-align:%20right;%20border-right:%201px%20solid%20rgb(233,%20233,%20233);%22&gt;.15&lt;/div&gt;&lt;div%20class=%22css-1lzltx4-TableCell%22%20style=%22font-size:%2012px;%20height:%2028px;%20left:%20120px;%20padding:%204px%204px%203px;%20position:%20absolute;%20top:%20224px;%20width:%20120px;%20text-align:%20right;%20border-right:%201px%20solid%20rgb(233,%20233,%20233);%22&gt;.15&lt;/div&gt;&lt;div%20class=%22css-1lzltx4-TableCell%22%20style=%22font-size:%2012px;%20height:%2028px;%20left:%20240px;%20padding:%204px%204px%203px;%20position:%20absolute;%20top:%20224px;%20width:%20120px;%20text-align:%20right;%20border-right:%201px%20solid%20rgb(233,%20233,%20233);%22&gt;.15&lt;/div&gt;&lt;div%20class=%22css-1lzltx4-TableCell%22%20style=%22font-size:%2012px;%20height:%2028px;%20left:%20360px;%20padding:%204px%204px%203px;%20position:%20absolute;%20top:%20224px;%20width:%20120px;%20text-align:%20right;%20border-right:%201px%20solid%20rgb(233,%20233,%20233);%22&gt;.15&lt;/div&gt;&lt;div%20class=%22css-1lzltx4-TableCell%22%20style=%22font-size:%2012px;%20height:%2028px;%20left:%20480px;%20padding:%204px%204px%203px;%20position:%20absolute;%20top:%20224px;%20width:%20120px;%20text-align:%20right;%20border-right:%201px%20solid%20rgb(233,%20233,%20233);%22&gt;.15&lt;/div&gt;&lt;div%20class=%22css-1lzltx4-TableCell%22%20style=%22font-size:%2012px;%20height:%2028px;%20left:%20600px;%20padding:%204px%204px%203px;%20position:%20absolute;%20top:%20224px;%20width:%20120px;%20text-align:%20right;%20border-right:%201px%20solid%20rgb(233,%20233,%20233);%22&gt;.15&lt;/div&gt;&lt;div%20class=%22css-1lzltx4-TableCell%22%20style=%22font-size:%2012px;%20height:%2028px;%20left:%20720px;%20padding:%204px%204px%203px;%20position:%20absolute;%20top:%20224px;%20width:%20120px;%20text-align:%20right;%20border-right:%201px%20solid%20rgb(233,%20233,%20233);%22&gt;.15&lt;/div&gt;&lt;div%20class=%22css-1lzltx4-TableCell%22%20style=%22font-size:%2012px;%20height:%2028px;%20left:%20840px;%20padding:%204px%204px%203px;%20position:%20absolute;%20top:%20224px;%20width:%20120px;%20text-align:%20right;%20border-right:%201px%20solid%20rgb(233,%20233,%20233);%22&gt;.15&lt;/div&gt;&lt;div%20class=%22css-1lzltx4-TableCell%22%20style=%22font-size:%2012px;%20height:%2028px;%20left:%20960px;%20padding:%204px%204px%203px;%20position:%20absolute;%20top:%20224px;%20width:%20120px;%20text-align:%20right;%20border-right:%201px%20solid%20rgb(233,%20233,%20233);%22&gt;.15&lt;/div&gt;&lt;div%20class=%22css-1lzltx4-TableCell%22%20style=%22font-size:%2012px;%20height:%2028px;%20left:%201080px;%20padding:%204px%204px%203px;%20position:%20absolute;%20top:%20224px;%20width:%20120px;%20text-align:%20right;%20border-right:%201px%20solid%20rgb(233,%20233,%20233);%22&gt;.00&lt;/div&gt;&lt;div%20class=%22css-1lzltx4-TableCell%22%20style=%22font-size:%2012px;%20height:%2028px;%20left:%200px;%20padding:%204px%204px%203px;%20position:%20absolute;%20top:%20252px;%20width:%20120px;%20text-align:%20right;%20background-color:%20rgb(250,%20250,%20250);%20border-right:%201px%20solid%20rgb(233,%20233,%20233);%22&gt;.00&lt;/div&gt;&lt;div%20class=%22css-1lzltx4-TableCell%22%20style=%22font-size:%2012px;%20height:%2028px;%20left:%20120px;%20padding:%204px%204px%203px;%20position:%20absolute;%20top:%20252px;%20width:%20120px;%20text-align:%20right;%20background-color:%20rgb(250,%20250,%20250);%20border-right:%201px%20solid%20rgb(233,%20233,%20233);%22&gt;.00&lt;/div&gt;&lt;div%20class=%22css-1lzltx4-TableCell%22%20style=%22font-size:%2012px;%20height:%2028px;%20left:%20240px;%20padding:%204px%204px%203px;%20position:%20absolute;%20top:%20252px;%20width:%20120px;%20text-align:%20right;%20background-color:%20rgb(250,%20250,%20250);%20border-right:%201px%20solid%20rgb(233,%20233,%20233);%22&gt;.00&lt;/div&gt;&lt;div%20class=%22css-1lzltx4-TableCell%22%20style=%22font-size:%2012px;%20height:%2028px;%20left:%20360px;%20padding:%204px%204px%203px;%20position:%20absolute;%20top:%20252px;%20width:%20120px;%20text-align:%20right;%20background-color:%20rgb(250,%20250,%20250);%20border-right:%201px%20solid%20rgb(233,%20233,%20233);%22&gt;.00&lt;/div&gt;&lt;div%20class=%22css-1lzltx4-TableCell%22%20style=%22font-size:%2012px;%20height:%2028px;%20left:%20480px;%20padding:%204px%204px%203px;%20position:%20absolute;%20top:%20252px;%20width:%20120px;%20text-align:%20right;%20background-color:%20rgb(250,%20250,%20250);%20border-right:%201px%20solid%20rgb(233,%20233,%20233);%22&gt;.00&lt;/div&gt;&lt;div%20class=%22css-1lzltx4-TableCell%22%20style=%22font-size:%2012px;%20height:%2028px;%20left:%20600px;%20padding:%204px%204px%203px;%20position:%20absolute;%20top:%20252px;%20width:%20120px;%20text-align:%20right;%20background-color:%20rgb(250,%20250,%20250);%20border-right:%201px%20solid%20rgb(233,%20233,%20233);%22&gt;.00&lt;/div&gt;&lt;div%20class=%22css-1lzltx4-TableCell%22%20style=%22font-size:%2012px;%20height:%2028px;%20left:%20720px;%20padding:%204px%204px%203px;%20position:%20absolute;%20top:%20252px;%20width:%20120px;%20text-align:%20right;%20background-color:%20rgb(250,%20250,%20250);%20border-right:%201px%20solid%20rgb(233,%20233,%20233);%22&gt;.00&lt;/div&gt;&lt;div%20class=%22css-1lzltx4-TableCell%22%20style=%22font-size:%2012px;%20height:%2028px;%20left:%20840px;%20padding:%204px%204px%203px;%20position:%20absolute;%20top:%20252px;%20width:%20120px;%20text-align:%20right;%20background-color:%20rgb(250,%20250,%20250);%20border-right:%201px%20solid%20rgb(233,%20233,%20233);%22&gt;.00&lt;/div&gt;&lt;div%20class=%22css-1lzltx4-TableCell%22%20style=%22font-size:%2012px;%20height:%2028px;%20left:%20960px;%20padding:%204px%204px%203px;%20position:%20absolute;%20top:%20252px;%20width:%20120px;%20text-align:%20right;%20background-color:%20rgb(250,%20250,%20250);%20border-right:%201px%20solid%20rgb(233,%20233,%20233);%22&gt;.00&lt;/div&gt;&lt;div%20class=%22css-1lzltx4-TableCell%22%20style=%22font-size:%2012px;%20height:%2028px;%20left:%201080px;%20padding:%204px%204px%203px;%20position:%20absolute;%20top:%20252px;%20width:%20120px;%20text-align:%20right;%20background-color:%20rgb(250,%20250,%20250);%20border-right:%201px%20solid%20rgb(233,%20233,%20233);%22&gt;.00&lt;/div&gt;&lt;div%20class=%22css-1lzltx4-TableCell%22%20style=%22font-size:%2012px;%20height:%2028px;%20left:%200px;%20padding:%204px%204px%203px;%20position:%20absolute;%20top:%20280px;%20width:%20120px;%20text-align:%20right;%20border-right:%201px%20solid%20rgb(233,%20233,%20233);%22&gt;.45&lt;/div&gt;&lt;div%20class=%22css-1lzltx4-TableCell%22%20style=%22font-size:%2012px;%20height:%2028px;%20left:%20120px;%20padding:%204px%204px%203px;%20position:%20absolute;%20top:%20280px;%20width:%20120px;%20text-align:%20right;%20border-right:%201px%20solid%20rgb(233,%20233,%20233);%22&gt;.45&lt;/div&gt;&lt;div%20class=%22css-1lzltx4-TableCell%22%20style=%22font-size:%2012px;%20height:%2028px;%20left:%20240px;%20padding:%204px%204px%203px;%20position:%20absolute;%20top:%20280px;%20width:%20120px;%20text-align:%20right;%20border-right:%201px%20solid%20rgb(233,%20233,%20233);%22&gt;.45&lt;/div&gt;&lt;div%20class=%22css-1lzltx4-TableCell%22%20style=%22font-size:%2012px;%20height:%2028px;%20left:%20360px;%20padding:%204px%204px%203px;%20position:%20absolute;%20top:%20280px;%20width:%20120px;%20text-align:%20right;%20border-right:%201px%20solid%20rgb(233,%20233,%20233);%22&gt;.45&lt;/div&gt;&lt;div%20class=%22css-1lzltx4-TableCell%22%20style=%22font-size:%2012px;%20height:%2028px;%20left:%20480px;%20padding:%204px%204px%203px;%20position:%20absolute;%20top:%20280px;%20width:%20120px;%20text-align:%20right;%20border-right:%201px%20solid%20rgb(233,%20233,%20233);%22&gt;.45&lt;/div&gt;&lt;div%20class=%22css-1lzltx4-TableCell%22%20style=%22font-size:%2012px;%20height:%2028px;%20left:%20600px;%20padding:%204px%204px%203px;%20position:%20absolute;%20top:%20280px;%20width:%20120px;%20text-align:%20right;%20border-right:%201px%20solid%20rgb(233,%20233,%20233);%22&gt;.45&lt;/div&gt;&lt;div%20class=%22css-1lzltx4-TableCell%22%20style=%22font-size:%2012px;%20height:%2028px;%20left:%20720px;%20padding:%204px%204px%203px;%20position:%20absolute;%20top:%20280px;%20width:%20120px;%20text-align:%20right;%20border-right:%201px%20solid%20rgb(233,%20233,%20233);%22&gt;.45&lt;/div&gt;&lt;div%20class=%22css-1lzltx4-TableCell%22%20style=%22font-size:%2012px;%20height:%2028px;%20left:%20840px;%20padding:%204px%204px%203px;%20position:%20absolute;%20top:%20280px;%20width:%20120px;%20text-align:%20right;%20border-right:%201px%20solid%20rgb(233,%20233,%20233);%22&gt;.45&lt;/div&gt;&lt;div%20class=%22css-1lzltx4-TableCell%22%20style=%22font-size:%2012px;%20height:%2028px;%20left:%20960px;%20padding:%204px%204px%203px;%20position:%20absolute;%20top:%20280px;%20width:%20120px;%20text-align:%20right;%20border-right:%201px%20solid%20rgb(233,%20233,%20233);%22&gt;.45&lt;/div&gt;&lt;div%20class=%22css-1lzltx4-TableCell%22%20style=%22font-size:%2012px;%20height:%2028px;%20left:%201080px;%20padding:%204px%204px%203px;%20position:%20absolute;%20top:%20280px;%20width:%20120px;%20text-align:%20right;%20border-right:%201px%20solid%20rgb(233,%20233,%20233);%22&gt;.45&lt;/div&gt;&lt;/div&gt;&lt;/div&gt;&lt;/div&gt;&lt;/div&gt;&lt;/div&gt;&lt;/div&gt;&lt;/div&gt;&lt;/div&gt;&lt;/div&gt;%3C/div%3E%3C/foreignObject%3E%3C/svg%3E\">"
      ],
      "text/plain": [
       "Open the notebook in JupyterLab with the atoti extension installed and enabled to start editing this widget."
      ]
     },
     "metadata": {},
     "output_type": "display_data"
    }
   ],
   "source": [
    "session.visualize()"
   ]
  },
  {
   "cell_type": "markdown",
   "metadata": {},
   "source": [
    "## Aggregating across buckets"
   ]
  },
  {
   "cell_type": "code",
   "execution_count": 30,
   "metadata": {},
   "outputs": [],
   "source": [
    "# 21.4(5)(a):\n",
    "m[\"WSb\"] = m[\"WS\"]\n",
    "m[\"WSc\"] = tt.at(m[\"WS\"], {lvl[\"Bucket\"]: lvl[\"Other Bucket\"]})\n",
    "m[\"sum Kb2 + sum sum WSb WSc gamma\"] = tt.agg.square_sum(\n",
    "    m[\"Kb\"], scope=tt.scope.origin(lvl[\"Bucket\"])\n",
    ") + tt.agg.sum(\n",
    "    m[\"WSb\"] * m[\"WSc\"] * m[\"gamma.VALUE\"],\n",
    "    scope=tt.scope.origin(lvl[\"Bucket\"], lvl[\"Other Bucket\"]),\n",
    ")\n",
    "\n",
    "# 21.4(5)(b):\n",
    "m[\"Sb\"] = tt.math.max(tt.math.min(m[\"WS\"], m[\"Kb\"]), -1.0 * m[\"Kb\"])\n",
    "m[\"Sc\"] = tt.at(m[\"Sb\"], {lvl[\"Bucket\"]: lvl[\"Other Bucket\"]})\n",
    "m[\"sum Kb2 + sum sum Sb Sc gamma\"] = tt.agg.square_sum(\n",
    "    m[\"Kb\"], scope=tt.scope.origin(lvl[\"Bucket\"])\n",
    ") + tt.agg.sum(\n",
    "    m[\"Sb\"] * m[\"Sc\"] * m[\"gamma.VALUE\"],\n",
    "    scope=tt.scope.origin(lvl[\"Bucket\"], lvl[\"Other Bucket\"]),\n",
    ")\n",
    "\n",
    "m[\"Risk Charge\"] = tt.where(\n",
    "    m[\"sum Kb2 + sum sum WSb WSc gamma\"] > 0,\n",
    "    tt.math.sqrt(m[\"sum Kb2 + sum sum WSb WSc gamma\"]),\n",
    "    tt.math.sqrt(m[\"sum Kb2 + sum sum Sb Sc gamma\"]),\n",
    ")"
   ]
  },
  {
   "cell_type": "code",
   "execution_count": 31,
   "metadata": {},
   "outputs": [
    {
     "data": {
      "application/vnd.atoti.query-result.v0+json": {
       "context": {
        "queriesTimeLimit": 30
       },
       "createEquivalentWidgetCode": "session.visualize()",
       "mdx": "SELECT [Measures].[Risk Charge] ON COLUMNS FROM [Risks]"
      },
      "text/html": [
       "<div>\n",
       "<style scoped>\n",
       "    .dataframe tbody tr th:only-of-type {\n",
       "        vertical-align: middle;\n",
       "    }\n",
       "\n",
       "    .dataframe tbody tr th {\n",
       "        vertical-align: top;\n",
       "    }\n",
       "\n",
       "    .dataframe thead th {\n",
       "        text-align: right;\n",
       "    }\n",
       "</style>\n",
       "<table border=\"1\" class=\"dataframe\">\n",
       "  <thead>\n",
       "    <tr style=\"text-align: right;\">\n",
       "      <th></th>\n",
       "      <th>Risk Charge</th>\n",
       "    </tr>\n",
       "  </thead>\n",
       "  <tbody>\n",
       "    <tr>\n",
       "      <th>0</th>\n",
       "      <td>7,615,829.35</td>\n",
       "    </tr>\n",
       "  </tbody>\n",
       "</table>\n",
       "</div>"
      ],
      "text/plain": [
       "    Risk Charge\n",
       "0  7,615,829.35"
      ]
     },
     "execution_count": 31,
     "metadata": {},
     "output_type": "execute_result"
    }
   ],
   "source": [
    "cube.query(m[\"Risk Charge\"])"
   ]
  },
  {
   "cell_type": "markdown",
   "metadata": {},
   "source": [
    "# Enriching the data model"
   ]
  },
  {
   "cell_type": "markdown",
   "metadata": {},
   "source": [
    "The current data model can be displayed using `cube.schema` command."
   ]
  },
  {
   "cell_type": "code",
   "execution_count": 32,
   "metadata": {},
   "outputs": [
    {
     "data": {
      "image/svg+xml": [
       "<svg xmlns=\"http://www.w3.org/2000/svg\" xmlns:xlink=\"http://www.w3.org/1999/xlink\" width=\"520px\" height=\"338px\" viewBox=\"0.00 0.00 520.00 338.00\">\n",
       "<g id=\"graph0\" class=\"graph\" transform=\"scale(1.0 1.0) rotate(0) translate(4 334)\">\n",
       "<title>Risks schema</title>\n",
       "<polygon fill=\"white\" stroke=\"none\" points=\"-4,4 -4,-334 516,-334 516,4 -4,4\"/>\n",
       "<!-- Risks -->\n",
       "<g id=\"node1\" class=\"node\"><title>Risks</title>\n",
       "<text text-anchor=\"start\" x=\"70.5\" y=\"-246.6\" font-family=\"-apple-system, BlinkMacSystemFont, 'Segoe UI', Helvetica, Arial, sans-serif, 'Apple Color Emoji', 'Segoe UI Emoji', 'Segoe UI Symbol'\" font-weight=\"bold\" font-size=\"13.00\">Risks</text>\n",
       "<polygon fill=\"#f5f5f5\" stroke=\"none\" points=\"9.5,-213 9.5,-237 40.5,-237 40.5,-213 9.5,-213\"/>\n",
       "<text text-anchor=\"start\" x=\"14.5\" y=\"-222.6\" font-family=\"-apple-system, BlinkMacSystemFont, 'Segoe UI', Helvetica, Arial, sans-serif, 'Apple Color Emoji', 'Segoe UI Emoji', 'Segoe UI Symbol'\" font-weight=\"bold\" font-size=\"13.00\">key</text>\n",
       "<polygon fill=\"#f5f5f5\" stroke=\"none\" points=\"40.5,-213 40.5,-237 117.5,-237 117.5,-213 40.5,-213\"/>\n",
       "<text text-anchor=\"start\" x=\"45.5\" y=\"-221.6\" font-family=\"-apple-system, BlinkMacSystemFont, 'Segoe UI', Helvetica, Arial, sans-serif, 'Apple Color Emoji', 'Segoe UI Emoji', 'Segoe UI Symbol'\" font-size=\"13.00\">TradeID</text>\n",
       "<polygon fill=\"#f5f5f5\" stroke=\"none\" points=\"117.5,-213 117.5,-237 164.5,-237 164.5,-213 117.5,-213\"/>\n",
       "<text text-anchor=\"start\" x=\"126.5\" y=\"-222.6\" font-family=\"-apple-system, BlinkMacSystemFont, 'Segoe UI', Helvetica, Arial, sans-serif, 'Apple Color Emoji', 'Segoe UI Emoji', 'Segoe UI Symbol'\" font-style=\"italic\" font-size=\"13.00\">String</text>\n",
       "<polygon fill=\"#ffffff\" stroke=\"none\" points=\"9.5,-189 9.5,-213 40.5,-213 40.5,-189 9.5,-189\"/>\n",
       "<text text-anchor=\"start\" x=\"14.5\" y=\"-198.6\" font-family=\"-apple-system, BlinkMacSystemFont, 'Segoe UI', Helvetica, Arial, sans-serif, 'Apple Color Emoji', 'Segoe UI Emoji', 'Segoe UI Symbol'\" font-weight=\"bold\" font-size=\"13.00\">key</text>\n",
       "<polygon fill=\"#ffffff\" stroke=\"none\" points=\"40.5,-189 40.5,-213 117.5,-213 117.5,-189 40.5,-189\"/>\n",
       "<text text-anchor=\"start\" x=\"45.5\" y=\"-197.6\" font-family=\"-apple-system, BlinkMacSystemFont, 'Segoe UI', Helvetica, Arial, sans-serif, 'Apple Color Emoji', 'Segoe UI Emoji', 'Segoe UI Symbol'\" font-size=\"13.00\">RiskType</text>\n",
       "<polygon fill=\"#ffffff\" stroke=\"none\" points=\"117.5,-189 117.5,-213 164.5,-213 164.5,-189 117.5,-189\"/>\n",
       "<text text-anchor=\"start\" x=\"126.5\" y=\"-198.6\" font-family=\"-apple-system, BlinkMacSystemFont, 'Segoe UI', Helvetica, Arial, sans-serif, 'Apple Color Emoji', 'Segoe UI Emoji', 'Segoe UI Symbol'\" font-style=\"italic\" font-size=\"13.00\">String</text>\n",
       "<polygon fill=\"#f5f5f5\" stroke=\"none\" points=\"9.5,-165 9.5,-189 40.5,-189 40.5,-165 9.5,-165\"/>\n",
       "<text text-anchor=\"start\" x=\"14.5\" y=\"-174.6\" font-family=\"-apple-system, BlinkMacSystemFont, 'Segoe UI', Helvetica, Arial, sans-serif, 'Apple Color Emoji', 'Segoe UI Emoji', 'Segoe UI Symbol'\" font-weight=\"bold\" font-size=\"13.00\">key</text>\n",
       "<polygon fill=\"#f5f5f5\" stroke=\"none\" points=\"40.5,-165 40.5,-189 117.5,-189 117.5,-165 40.5,-165\"/>\n",
       "<text text-anchor=\"start\" x=\"45.5\" y=\"-173.6\" font-family=\"-apple-system, BlinkMacSystemFont, 'Segoe UI', Helvetica, Arial, sans-serif, 'Apple Color Emoji', 'Segoe UI Emoji', 'Segoe UI Symbol'\" font-size=\"13.00\">Qualifier</text>\n",
       "<polygon fill=\"#f5f5f5\" stroke=\"none\" points=\"117.5,-165 117.5,-189 164.5,-189 164.5,-165 117.5,-165\"/>\n",
       "<text text-anchor=\"start\" x=\"126.5\" y=\"-174.6\" font-family=\"-apple-system, BlinkMacSystemFont, 'Segoe UI', Helvetica, Arial, sans-serif, 'Apple Color Emoji', 'Segoe UI Emoji', 'Segoe UI Symbol'\" font-style=\"italic\" font-size=\"13.00\">String</text>\n",
       "<polygon fill=\"#ffffff\" stroke=\"none\" points=\"9.5,-141 9.5,-165 40.5,-165 40.5,-141 9.5,-141\"/>\n",
       "<text text-anchor=\"start\" x=\"14.5\" y=\"-150.6\" font-family=\"-apple-system, BlinkMacSystemFont, 'Segoe UI', Helvetica, Arial, sans-serif, 'Apple Color Emoji', 'Segoe UI Emoji', 'Segoe UI Symbol'\" font-weight=\"bold\" font-size=\"13.00\">key</text>\n",
       "<polygon fill=\"#ffffff\" stroke=\"none\" points=\"40.5,-141 40.5,-165 117.5,-165 117.5,-141 40.5,-141\"/>\n",
       "<text text-anchor=\"start\" x=\"45.5\" y=\"-149.6\" font-family=\"-apple-system, BlinkMacSystemFont, 'Segoe UI', Helvetica, Arial, sans-serif, 'Apple Color Emoji', 'Segoe UI Emoji', 'Segoe UI Symbol'\" font-size=\"13.00\">Label2</text>\n",
       "<polygon fill=\"#ffffff\" stroke=\"none\" points=\"117.5,-141 117.5,-165 164.5,-165 164.5,-141 117.5,-141\"/>\n",
       "<text text-anchor=\"start\" x=\"126.5\" y=\"-150.6\" font-family=\"-apple-system, BlinkMacSystemFont, 'Segoe UI', Helvetica, Arial, sans-serif, 'Apple Color Emoji', 'Segoe UI Emoji', 'Segoe UI Symbol'\" font-style=\"italic\" font-size=\"13.00\">String</text>\n",
       "<polygon fill=\"#f5f5f5\" stroke=\"none\" points=\"9.5,-117 9.5,-141 40.5,-141 40.5,-117 9.5,-117\"/>\n",
       "<polygon fill=\"#f5f5f5\" stroke=\"none\" points=\"40.5,-117 40.5,-141 117.5,-141 117.5,-117 40.5,-117\"/>\n",
       "<text text-anchor=\"start\" x=\"45.5\" y=\"-125.6\" font-family=\"-apple-system, BlinkMacSystemFont, 'Segoe UI', Helvetica, Arial, sans-serif, 'Apple Color Emoji', 'Segoe UI Emoji', 'Segoe UI Symbol'\" font-size=\"13.00\">AmountUSD</text>\n",
       "<polygon fill=\"#f5f5f5\" stroke=\"none\" points=\"117.5,-117 117.5,-141 164.5,-141 164.5,-117 117.5,-117\"/>\n",
       "<text text-anchor=\"start\" x=\"122.5\" y=\"-126.6\" font-family=\"-apple-system, BlinkMacSystemFont, 'Segoe UI', Helvetica, Arial, sans-serif, 'Apple Color Emoji', 'Segoe UI Emoji', 'Segoe UI Symbol'\" font-style=\"italic\" font-size=\"13.00\">double</text>\n",
       "<polygon fill=\"#ffffff\" stroke=\"none\" points=\"9.5,-93 9.5,-117 40.5,-117 40.5,-93 9.5,-93\"/>\n",
       "<polygon fill=\"#ffffff\" stroke=\"none\" points=\"40.5,-93 40.5,-117 117.5,-117 117.5,-93 40.5,-93\"/>\n",
       "<text text-anchor=\"start\" x=\"45.5\" y=\"-101.6\" font-family=\"-apple-system, BlinkMacSystemFont, 'Segoe UI', Helvetica, Arial, sans-serif, 'Apple Color Emoji', 'Segoe UI Emoji', 'Segoe UI Symbol'\" font-size=\"13.00\">Bucket</text>\n",
       "<polygon fill=\"#ffffff\" stroke=\"none\" points=\"117.5,-93 117.5,-117 164.5,-117 164.5,-93 117.5,-93\"/>\n",
       "<text text-anchor=\"start\" x=\"145.5\" y=\"-102.6\" font-family=\"-apple-system, BlinkMacSystemFont, 'Segoe UI', Helvetica, Arial, sans-serif, 'Apple Color Emoji', 'Segoe UI Emoji', 'Segoe UI Symbol'\" font-style=\"italic\" font-size=\"13.00\">int</text>\n",
       "<polygon fill=\"#f5f5f5\" stroke=\"none\" points=\"9.5,-69 9.5,-93 40.5,-93 40.5,-69 9.5,-69\"/>\n",
       "<text text-anchor=\"start\" x=\"14.5\" y=\"-78.6\" font-family=\"-apple-system, BlinkMacSystemFont, 'Segoe UI', Helvetica, Arial, sans-serif, 'Apple Color Emoji', 'Segoe UI Emoji', 'Segoe UI Symbol'\" font-weight=\"bold\" font-size=\"13.00\">key</text>\n",
       "<polygon fill=\"#f5f5f5\" stroke=\"none\" points=\"40.5,-69 40.5,-93 117.5,-93 117.5,-69 40.5,-69\"/>\n",
       "<text text-anchor=\"start\" x=\"45.5\" y=\"-77.6\" font-family=\"-apple-system, BlinkMacSystemFont, 'Segoe UI', Helvetica, Arial, sans-serif, 'Apple Color Emoji', 'Segoe UI Emoji', 'Segoe UI Symbol'\" font-size=\"13.00\">PortfolioID</text>\n",
       "<polygon fill=\"#f5f5f5\" stroke=\"none\" points=\"117.5,-69 117.5,-93 164.5,-93 164.5,-69 117.5,-69\"/>\n",
       "<text text-anchor=\"start\" x=\"126.5\" y=\"-78.6\" font-family=\"-apple-system, BlinkMacSystemFont, 'Segoe UI', Helvetica, Arial, sans-serif, 'Apple Color Emoji', 'Segoe UI Emoji', 'Segoe UI Symbol'\" font-style=\"italic\" font-size=\"13.00\">String</text>\n",
       "<polygon fill=\"none\" stroke=\"black\" points=\"8,-68 8,-262 165,-262 165,-68 8,-68\"/>\n",
       "</g>\n",
       "<!-- RiskWeights -->\n",
       "<g id=\"node2\" class=\"node\"><title>RiskWeights</title>\n",
       "<text text-anchor=\"start\" x=\"371\" y=\"-310.6\" font-family=\"-apple-system, BlinkMacSystemFont, 'Segoe UI', Helvetica, Arial, sans-serif, 'Apple Color Emoji', 'Segoe UI Emoji', 'Segoe UI Symbol'\" font-weight=\"bold\" font-size=\"13.00\">RiskWeights</text>\n",
       "<polygon fill=\"#f5f5f5\" stroke=\"none\" points=\"345.5,-277 345.5,-301 376.5,-301 376.5,-277 345.5,-277\"/>\n",
       "<text text-anchor=\"start\" x=\"350.5\" y=\"-286.6\" font-family=\"-apple-system, BlinkMacSystemFont, 'Segoe UI', Helvetica, Arial, sans-serif, 'Apple Color Emoji', 'Segoe UI Emoji', 'Segoe UI Symbol'\" font-weight=\"bold\" font-size=\"13.00\">key</text>\n",
       "<polygon fill=\"#f5f5f5\" stroke=\"none\" points=\"376.5,-277 376.5,-301 424.5,-301 424.5,-277 376.5,-277\"/>\n",
       "<text text-anchor=\"start\" x=\"381.5\" y=\"-285.6\" font-family=\"-apple-system, BlinkMacSystemFont, 'Segoe UI', Helvetica, Arial, sans-serif, 'Apple Color Emoji', 'Segoe UI Emoji', 'Segoe UI Symbol'\" font-size=\"13.00\">Bucket</text>\n",
       "<polygon fill=\"#f5f5f5\" stroke=\"none\" points=\"424.5,-277 424.5,-301 471.5,-301 471.5,-277 424.5,-277\"/>\n",
       "<text text-anchor=\"start\" x=\"452.5\" y=\"-286.6\" font-family=\"-apple-system, BlinkMacSystemFont, 'Segoe UI', Helvetica, Arial, sans-serif, 'Apple Color Emoji', 'Segoe UI Emoji', 'Segoe UI Symbol'\" font-style=\"italic\" font-size=\"13.00\">int</text>\n",
       "<polygon fill=\"#ffffff\" stroke=\"none\" points=\"345.5,-253 345.5,-277 376.5,-277 376.5,-253 345.5,-253\"/>\n",
       "<text text-anchor=\"start\" x=\"350.5\" y=\"-262.6\" font-family=\"-apple-system, BlinkMacSystemFont, 'Segoe UI', Helvetica, Arial, sans-serif, 'Apple Color Emoji', 'Segoe UI Emoji', 'Segoe UI Symbol'\" font-weight=\"bold\" font-size=\"13.00\">key</text>\n",
       "<polygon fill=\"#ffffff\" stroke=\"none\" points=\"376.5,-253 376.5,-277 424.5,-277 424.5,-253 376.5,-253\"/>\n",
       "<text text-anchor=\"start\" x=\"381.5\" y=\"-261.6\" font-family=\"-apple-system, BlinkMacSystemFont, 'Segoe UI', Helvetica, Arial, sans-serif, 'Apple Color Emoji', 'Segoe UI Emoji', 'Segoe UI Symbol'\" font-size=\"13.00\">Label2</text>\n",
       "<polygon fill=\"#ffffff\" stroke=\"none\" points=\"424.5,-253 424.5,-277 471.5,-277 471.5,-253 424.5,-253\"/>\n",
       "<text text-anchor=\"start\" x=\"433.5\" y=\"-262.6\" font-family=\"-apple-system, BlinkMacSystemFont, 'Segoe UI', Helvetica, Arial, sans-serif, 'Apple Color Emoji', 'Segoe UI Emoji', 'Segoe UI Symbol'\" font-style=\"italic\" font-size=\"13.00\">String</text>\n",
       "<polygon fill=\"#f5f5f5\" stroke=\"none\" points=\"345.5,-229 345.5,-253 376.5,-253 376.5,-229 345.5,-229\"/>\n",
       "<polygon fill=\"#f5f5f5\" stroke=\"none\" points=\"376.5,-229 376.5,-253 424.5,-253 424.5,-229 376.5,-229\"/>\n",
       "<text text-anchor=\"start\" x=\"381.5\" y=\"-237.6\" font-family=\"-apple-system, BlinkMacSystemFont, 'Segoe UI', Helvetica, Arial, sans-serif, 'Apple Color Emoji', 'Segoe UI Emoji', 'Segoe UI Symbol'\" font-size=\"13.00\">RW</text>\n",
       "<polygon fill=\"#f5f5f5\" stroke=\"none\" points=\"424.5,-229 424.5,-253 471.5,-253 471.5,-229 424.5,-229\"/>\n",
       "<text text-anchor=\"start\" x=\"429.5\" y=\"-238.6\" font-family=\"-apple-system, BlinkMacSystemFont, 'Segoe UI', Helvetica, Arial, sans-serif, 'Apple Color Emoji', 'Segoe UI Emoji', 'Segoe UI Symbol'\" font-style=\"italic\" font-size=\"13.00\">double</text>\n",
       "<polygon fill=\"none\" stroke=\"black\" points=\"344.5,-228 344.5,-326 472.5,-326 472.5,-228 344.5,-228\"/>\n",
       "</g>\n",
       "<!-- Risks&#45;&gt;RiskWeights -->\n",
       "<g id=\"edge3\" class=\"edge\"><title>Risks-&gt;RiskWeights</title>\n",
       "<path fill=\"none\" stroke=\"black\" d=\"M173.254,-195.014C220.971,-211.715 280.008,-232.378 326.875,-248.781\"/>\n",
       "<polygon fill=\"black\" stroke=\"black\" points=\"325.786,-252.108 336.381,-252.108 328.098,-245.501 325.786,-252.108\"/>\n",
       "<text text-anchor=\"middle\" x=\"239\" y=\"-251.6\" font-family=\"-apple-system, BlinkMacSystemFont, 'Segoe UI', Helvetica, Arial, sans-serif, 'Apple Color Emoji', 'Segoe UI Emoji', 'Segoe UI Symbol'\" font-size=\"13.00\">Bucket → Bucket</text>\n",
       "<text text-anchor=\"middle\" x=\"239\" y=\"-237.6\" font-family=\"-apple-system, BlinkMacSystemFont, 'Segoe UI', Helvetica, Arial, sans-serif, 'Apple Color Emoji', 'Segoe UI Emoji', 'Segoe UI Symbol'\" font-size=\"13.00\">Label2 → Label2</text>\n",
       "</g>\n",
       "<!-- RiskFactorCorrelations -->\n",
       "<g id=\"node3\" class=\"node\"><title>RiskFactorCorrelations</title>\n",
       "<text text-anchor=\"start\" x=\"340.5\" y=\"-186.6\" font-family=\"-apple-system, BlinkMacSystemFont, 'Segoe UI', Helvetica, Arial, sans-serif, 'Apple Color Emoji', 'Segoe UI Emoji', 'Segoe UI Symbol'\" font-weight=\"bold\" font-size=\"13.00\">RiskFactorCorrelations</text>\n",
       "<polygon fill=\"#f5f5f5\" stroke=\"none\" points=\"314.5,-153 314.5,-177 345.5,-177 345.5,-153 314.5,-153\"/>\n",
       "<text text-anchor=\"start\" x=\"319.5\" y=\"-162.6\" font-family=\"-apple-system, BlinkMacSystemFont, 'Segoe UI', Helvetica, Arial, sans-serif, 'Apple Color Emoji', 'Segoe UI Emoji', 'Segoe UI Symbol'\" font-weight=\"bold\" font-size=\"13.00\">key</text>\n",
       "<polygon fill=\"#f5f5f5\" stroke=\"none\" points=\"345.5,-153 345.5,-177 456.5,-177 456.5,-153 345.5,-153\"/>\n",
       "<text text-anchor=\"start\" x=\"350.5\" y=\"-161.6\" font-family=\"-apple-system, BlinkMacSystemFont, 'Segoe UI', Helvetica, Arial, sans-serif, 'Apple Color Emoji', 'Segoe UI Emoji', 'Segoe UI Symbol'\" font-size=\"13.00\">Bucket</text>\n",
       "<polygon fill=\"#f5f5f5\" stroke=\"none\" points=\"456.5,-153 456.5,-177 503.5,-177 503.5,-153 456.5,-153\"/>\n",
       "<text text-anchor=\"start\" x=\"484.5\" y=\"-162.6\" font-family=\"-apple-system, BlinkMacSystemFont, 'Segoe UI', Helvetica, Arial, sans-serif, 'Apple Color Emoji', 'Segoe UI Emoji', 'Segoe UI Symbol'\" font-style=\"italic\" font-size=\"13.00\">int</text>\n",
       "<polygon fill=\"#ffffff\" stroke=\"none\" points=\"314.5,-129 314.5,-153 345.5,-153 345.5,-129 314.5,-129\"/>\n",
       "<polygon fill=\"#ffffff\" stroke=\"none\" points=\"345.5,-129 345.5,-153 456.5,-153 456.5,-129 345.5,-129\"/>\n",
       "<text text-anchor=\"start\" x=\"350.5\" y=\"-137.6\" font-family=\"-apple-system, BlinkMacSystemFont, 'Segoe UI', Helvetica, Arial, sans-serif, 'Apple Color Emoji', 'Segoe UI Emoji', 'Segoe UI Symbol'\" font-size=\"13.00\">names_correlation</text>\n",
       "<polygon fill=\"#ffffff\" stroke=\"none\" points=\"456.5,-129 456.5,-153 503.5,-153 503.5,-129 456.5,-129\"/>\n",
       "<text text-anchor=\"start\" x=\"461.5\" y=\"-138.6\" font-family=\"-apple-system, BlinkMacSystemFont, 'Segoe UI', Helvetica, Arial, sans-serif, 'Apple Color Emoji', 'Segoe UI Emoji', 'Segoe UI Symbol'\" font-style=\"italic\" font-size=\"13.00\">double</text>\n",
       "<polygon fill=\"none\" stroke=\"black\" points=\"313,-128 313,-202 504,-202 504,-128 313,-128\"/>\n",
       "</g>\n",
       "<!-- Risks&#45;&gt;RiskFactorCorrelations -->\n",
       "<g id=\"edge2\" class=\"edge\"><title>Risks-&gt;RiskFactorCorrelations</title>\n",
       "<path fill=\"none\" stroke=\"black\" d=\"M173.254,-165C210.631,-165 254.953,-165 294.931,-165\"/>\n",
       "<polygon fill=\"black\" stroke=\"black\" points=\"294.995,-168.5 304.995,-165 294.995,-161.5 294.995,-168.5\"/>\n",
       "<text text-anchor=\"middle\" x=\"239\" y=\"-168.6\" font-family=\"-apple-system, BlinkMacSystemFont, 'Segoe UI', Helvetica, Arial, sans-serif, 'Apple Color Emoji', 'Segoe UI Emoji', 'Segoe UI Symbol'\" font-size=\"13.00\">Bucket → Bucket</text>\n",
       "</g>\n",
       "<!-- eq_delta_corr_outer -->\n",
       "<g id=\"node4\" class=\"node\"><title>eq_delta_corr_outer</title>\n",
       "<text text-anchor=\"start\" x=\"348.5\" y=\"-86.6\" font-family=\"-apple-system, BlinkMacSystemFont, 'Segoe UI', Helvetica, Arial, sans-serif, 'Apple Color Emoji', 'Segoe UI Emoji', 'Segoe UI Symbol'\" font-weight=\"bold\" font-size=\"13.00\">eq_delta_corr_outer</text>\n",
       "<polygon fill=\"#f5f5f5\" stroke=\"none\" points=\"328.5,-53 328.5,-77 359.5,-77 359.5,-53 328.5,-53\"/>\n",
       "<text text-anchor=\"start\" x=\"333.5\" y=\"-62.6\" font-family=\"-apple-system, BlinkMacSystemFont, 'Segoe UI', Helvetica, Arial, sans-serif, 'Apple Color Emoji', 'Segoe UI Emoji', 'Segoe UI Symbol'\" font-weight=\"bold\" font-size=\"13.00\">key</text>\n",
       "<polygon fill=\"#f5f5f5\" stroke=\"none\" points=\"359.5,-53 359.5,-77 441.5,-77 441.5,-53 359.5,-53\"/>\n",
       "<text text-anchor=\"start\" x=\"364.5\" y=\"-61.6\" font-family=\"-apple-system, BlinkMacSystemFont, 'Segoe UI', Helvetica, Arial, sans-serif, 'Apple Color Emoji', 'Segoe UI Emoji', 'Segoe UI Symbol'\" font-size=\"13.00\">Bucket</text>\n",
       "<polygon fill=\"#f5f5f5\" stroke=\"none\" points=\"441.5,-53 441.5,-77 488.5,-77 488.5,-53 441.5,-53\"/>\n",
       "<text text-anchor=\"start\" x=\"469.5\" y=\"-62.6\" font-family=\"-apple-system, BlinkMacSystemFont, 'Segoe UI', Helvetica, Arial, sans-serif, 'Apple Color Emoji', 'Segoe UI Emoji', 'Segoe UI Symbol'\" font-style=\"italic\" font-size=\"13.00\">int</text>\n",
       "<polygon fill=\"#ffffff\" stroke=\"none\" points=\"328.5,-29 328.5,-53 359.5,-53 359.5,-29 328.5,-29\"/>\n",
       "<text text-anchor=\"start\" x=\"333.5\" y=\"-38.6\" font-family=\"-apple-system, BlinkMacSystemFont, 'Segoe UI', Helvetica, Arial, sans-serif, 'Apple Color Emoji', 'Segoe UI Emoji', 'Segoe UI Symbol'\" font-weight=\"bold\" font-size=\"13.00\">key</text>\n",
       "<polygon fill=\"#ffffff\" stroke=\"none\" points=\"359.5,-29 359.5,-53 441.5,-53 441.5,-29 359.5,-29\"/>\n",
       "<text text-anchor=\"start\" x=\"364.5\" y=\"-37.6\" font-family=\"-apple-system, BlinkMacSystemFont, 'Segoe UI', Helvetica, Arial, sans-serif, 'Apple Color Emoji', 'Segoe UI Emoji', 'Segoe UI Symbol'\" font-size=\"13.00\">Other Bucket</text>\n",
       "<polygon fill=\"#ffffff\" stroke=\"none\" points=\"441.5,-29 441.5,-53 488.5,-53 488.5,-29 441.5,-29\"/>\n",
       "<text text-anchor=\"start\" x=\"469.5\" y=\"-38.6\" font-family=\"-apple-system, BlinkMacSystemFont, 'Segoe UI', Helvetica, Arial, sans-serif, 'Apple Color Emoji', 'Segoe UI Emoji', 'Segoe UI Symbol'\" font-style=\"italic\" font-size=\"13.00\">int</text>\n",
       "<polygon fill=\"#f5f5f5\" stroke=\"none\" points=\"328.5,-5 328.5,-29 359.5,-29 359.5,-5 328.5,-5\"/>\n",
       "<polygon fill=\"#f5f5f5\" stroke=\"none\" points=\"359.5,-5 359.5,-29 441.5,-29 441.5,-5 359.5,-5\"/>\n",
       "<text text-anchor=\"start\" x=\"364.5\" y=\"-13.6\" font-family=\"-apple-system, BlinkMacSystemFont, 'Segoe UI', Helvetica, Arial, sans-serif, 'Apple Color Emoji', 'Segoe UI Emoji', 'Segoe UI Symbol'\" font-size=\"13.00\">gamma</text>\n",
       "<polygon fill=\"#f5f5f5\" stroke=\"none\" points=\"441.5,-5 441.5,-29 488.5,-29 488.5,-5 441.5,-5\"/>\n",
       "<text text-anchor=\"start\" x=\"446.5\" y=\"-14.6\" font-family=\"-apple-system, BlinkMacSystemFont, 'Segoe UI', Helvetica, Arial, sans-serif, 'Apple Color Emoji', 'Segoe UI Emoji', 'Segoe UI Symbol'\" font-style=\"italic\" font-size=\"13.00\">double</text>\n",
       "<polygon fill=\"none\" stroke=\"black\" points=\"327.5,-4 327.5,-102 489.5,-102 489.5,-4 327.5,-4\"/>\n",
       "</g>\n",
       "<!-- Risks&#45;&gt;eq_delta_corr_outer -->\n",
       "<g id=\"edge1\" class=\"edge\"><title>Risks-&gt;eq_delta_corr_outer</title>\n",
       "<path fill=\"none\" stroke=\"black\" stroke-dasharray=\"5,2\" d=\"M173.254,-134.986C215.339,-120.257 266.228,-102.445 309.809,-87.1919\"/>\n",
       "<polygon fill=\"black\" stroke=\"black\" points=\"310.995,-90.4849 319.278,-83.8778 308.683,-83.8778 310.995,-90.4849\"/>\n",
       "<text text-anchor=\"middle\" x=\"239\" y=\"-131.6\" font-family=\"-apple-system, BlinkMacSystemFont, 'Segoe UI', Helvetica, Arial, sans-serif, 'Apple Color Emoji', 'Segoe UI Emoji', 'Segoe UI Symbol'\" font-size=\"13.00\">Bucket → Bucket</text>\n",
       "</g>\n",
       "</g>\n",
       "</svg>"
      ],
      "text/plain": [
       "<IPython.core.display.SVG object>"
      ]
     },
     "execution_count": 32,
     "metadata": {},
     "output_type": "execute_result"
    }
   ],
   "source": [
    "cube.schema"
   ]
  },
  {
   "cell_type": "markdown",
   "metadata": {},
   "source": [
    "Let's group trades into books, desks, business units:"
   ]
  },
  {
   "cell_type": "code",
   "execution_count": 33,
   "metadata": {},
   "outputs": [],
   "source": [
    "# Trade attributes store will hold trade identifiers and trade attributes, in our example, book\n",
    "trade_attributes = session.read_csv(\n",
    "    \"s3://data.atoti.io/notebooks/sbm/trade_attributes.csv\",\n",
    "    keys=[\"TradeID\"],\n",
    "    store_name=\"Trade Attributes\",\n",
    ")\n",
    "\n",
    "# Trade desks store will hold multi-level org structure\n",
    "trading_desks = session.read_csv(\n",
    "    \"s3://data.atoti.io/notebooks/sbm/trading_desk.csv\",\n",
    "    keys=[\"Book\"],\n",
    "    store_name=\"Trading Desk\",\n",
    ")\n",
    "\n",
    "# Linking together the data\n",
    "risks_store.join(trade_attributes)\n",
    "trade_attributes.join(trading_desks)\n"
   ]
  },
  {
   "cell_type": "code",
   "execution_count": 34,
   "metadata": {},
   "outputs": [],
   "source": [
    "\n",
    "# Setting up a multi-level hierarchy book -> desk -> sub-unit -> unit\n",
    "h[\"Trading Book Hierarchy\"] = {\n",
    "    \"Business Unit\": lvl[\"business_unit\"],\n",
    "    \"Sub Business Unit\": lvl[\"sub_business_unit\"],\n",
    "    \"Trading Desk\": lvl[\"trading_desk\"],\n",
    "    \"BookID\": lvl[\"Book\"],\n",
    "}"
   ]
  },
  {
   "cell_type": "markdown",
   "metadata": {},
   "source": [
    "The new schema is as follows:"
   ]
  },
  {
   "cell_type": "code",
   "execution_count": 35,
   "metadata": {},
   "outputs": [
    {
     "data": {
      "image/svg+xml": [
       "<svg xmlns=\"http://www.w3.org/2000/svg\" xmlns:xlink=\"http://www.w3.org/1999/xlink\" width=\"847px\" height=\"438px\" viewBox=\"0.00 0.00 847.00 438.00\">\n",
       "<g id=\"graph0\" class=\"graph\" transform=\"scale(1.0 1.0) rotate(0) translate(4 434)\">\n",
       "<title>Risks schema</title>\n",
       "<polygon fill=\"white\" stroke=\"none\" points=\"-4,4 -4,-434 843,-434 843,4 -4,4\"/>\n",
       "<!-- Risks -->\n",
       "<g id=\"node1\" class=\"node\"><title>Risks</title>\n",
       "<text text-anchor=\"start\" x=\"70.5\" y=\"-311.6\" font-family=\"-apple-system, BlinkMacSystemFont, 'Segoe UI', Helvetica, Arial, sans-serif, 'Apple Color Emoji', 'Segoe UI Emoji', 'Segoe UI Symbol'\" font-weight=\"bold\" font-size=\"13.00\">Risks</text>\n",
       "<polygon fill=\"#f5f5f5\" stroke=\"none\" points=\"9.5,-278 9.5,-302 40.5,-302 40.5,-278 9.5,-278\"/>\n",
       "<text text-anchor=\"start\" x=\"14.5\" y=\"-287.6\" font-family=\"-apple-system, BlinkMacSystemFont, 'Segoe UI', Helvetica, Arial, sans-serif, 'Apple Color Emoji', 'Segoe UI Emoji', 'Segoe UI Symbol'\" font-weight=\"bold\" font-size=\"13.00\">key</text>\n",
       "<polygon fill=\"#f5f5f5\" stroke=\"none\" points=\"40.5,-278 40.5,-302 117.5,-302 117.5,-278 40.5,-278\"/>\n",
       "<text text-anchor=\"start\" x=\"45.5\" y=\"-286.6\" font-family=\"-apple-system, BlinkMacSystemFont, 'Segoe UI', Helvetica, Arial, sans-serif, 'Apple Color Emoji', 'Segoe UI Emoji', 'Segoe UI Symbol'\" font-size=\"13.00\">TradeID</text>\n",
       "<polygon fill=\"#f5f5f5\" stroke=\"none\" points=\"117.5,-278 117.5,-302 164.5,-302 164.5,-278 117.5,-278\"/>\n",
       "<text text-anchor=\"start\" x=\"126.5\" y=\"-287.6\" font-family=\"-apple-system, BlinkMacSystemFont, 'Segoe UI', Helvetica, Arial, sans-serif, 'Apple Color Emoji', 'Segoe UI Emoji', 'Segoe UI Symbol'\" font-style=\"italic\" font-size=\"13.00\">String</text>\n",
       "<polygon fill=\"#ffffff\" stroke=\"none\" points=\"9.5,-254 9.5,-278 40.5,-278 40.5,-254 9.5,-254\"/>\n",
       "<text text-anchor=\"start\" x=\"14.5\" y=\"-263.6\" font-family=\"-apple-system, BlinkMacSystemFont, 'Segoe UI', Helvetica, Arial, sans-serif, 'Apple Color Emoji', 'Segoe UI Emoji', 'Segoe UI Symbol'\" font-weight=\"bold\" font-size=\"13.00\">key</text>\n",
       "<polygon fill=\"#ffffff\" stroke=\"none\" points=\"40.5,-254 40.5,-278 117.5,-278 117.5,-254 40.5,-254\"/>\n",
       "<text text-anchor=\"start\" x=\"45.5\" y=\"-262.6\" font-family=\"-apple-system, BlinkMacSystemFont, 'Segoe UI', Helvetica, Arial, sans-serif, 'Apple Color Emoji', 'Segoe UI Emoji', 'Segoe UI Symbol'\" font-size=\"13.00\">RiskType</text>\n",
       "<polygon fill=\"#ffffff\" stroke=\"none\" points=\"117.5,-254 117.5,-278 164.5,-278 164.5,-254 117.5,-254\"/>\n",
       "<text text-anchor=\"start\" x=\"126.5\" y=\"-263.6\" font-family=\"-apple-system, BlinkMacSystemFont, 'Segoe UI', Helvetica, Arial, sans-serif, 'Apple Color Emoji', 'Segoe UI Emoji', 'Segoe UI Symbol'\" font-style=\"italic\" font-size=\"13.00\">String</text>\n",
       "<polygon fill=\"#f5f5f5\" stroke=\"none\" points=\"9.5,-230 9.5,-254 40.5,-254 40.5,-230 9.5,-230\"/>\n",
       "<text text-anchor=\"start\" x=\"14.5\" y=\"-239.6\" font-family=\"-apple-system, BlinkMacSystemFont, 'Segoe UI', Helvetica, Arial, sans-serif, 'Apple Color Emoji', 'Segoe UI Emoji', 'Segoe UI Symbol'\" font-weight=\"bold\" font-size=\"13.00\">key</text>\n",
       "<polygon fill=\"#f5f5f5\" stroke=\"none\" points=\"40.5,-230 40.5,-254 117.5,-254 117.5,-230 40.5,-230\"/>\n",
       "<text text-anchor=\"start\" x=\"45.5\" y=\"-238.6\" font-family=\"-apple-system, BlinkMacSystemFont, 'Segoe UI', Helvetica, Arial, sans-serif, 'Apple Color Emoji', 'Segoe UI Emoji', 'Segoe UI Symbol'\" font-size=\"13.00\">Qualifier</text>\n",
       "<polygon fill=\"#f5f5f5\" stroke=\"none\" points=\"117.5,-230 117.5,-254 164.5,-254 164.5,-230 117.5,-230\"/>\n",
       "<text text-anchor=\"start\" x=\"126.5\" y=\"-239.6\" font-family=\"-apple-system, BlinkMacSystemFont, 'Segoe UI', Helvetica, Arial, sans-serif, 'Apple Color Emoji', 'Segoe UI Emoji', 'Segoe UI Symbol'\" font-style=\"italic\" font-size=\"13.00\">String</text>\n",
       "<polygon fill=\"#ffffff\" stroke=\"none\" points=\"9.5,-206 9.5,-230 40.5,-230 40.5,-206 9.5,-206\"/>\n",
       "<text text-anchor=\"start\" x=\"14.5\" y=\"-215.6\" font-family=\"-apple-system, BlinkMacSystemFont, 'Segoe UI', Helvetica, Arial, sans-serif, 'Apple Color Emoji', 'Segoe UI Emoji', 'Segoe UI Symbol'\" font-weight=\"bold\" font-size=\"13.00\">key</text>\n",
       "<polygon fill=\"#ffffff\" stroke=\"none\" points=\"40.5,-206 40.5,-230 117.5,-230 117.5,-206 40.5,-206\"/>\n",
       "<text text-anchor=\"start\" x=\"45.5\" y=\"-214.6\" font-family=\"-apple-system, BlinkMacSystemFont, 'Segoe UI', Helvetica, Arial, sans-serif, 'Apple Color Emoji', 'Segoe UI Emoji', 'Segoe UI Symbol'\" font-size=\"13.00\">Label2</text>\n",
       "<polygon fill=\"#ffffff\" stroke=\"none\" points=\"117.5,-206 117.5,-230 164.5,-230 164.5,-206 117.5,-206\"/>\n",
       "<text text-anchor=\"start\" x=\"126.5\" y=\"-215.6\" font-family=\"-apple-system, BlinkMacSystemFont, 'Segoe UI', Helvetica, Arial, sans-serif, 'Apple Color Emoji', 'Segoe UI Emoji', 'Segoe UI Symbol'\" font-style=\"italic\" font-size=\"13.00\">String</text>\n",
       "<polygon fill=\"#f5f5f5\" stroke=\"none\" points=\"9.5,-182 9.5,-206 40.5,-206 40.5,-182 9.5,-182\"/>\n",
       "<polygon fill=\"#f5f5f5\" stroke=\"none\" points=\"40.5,-182 40.5,-206 117.5,-206 117.5,-182 40.5,-182\"/>\n",
       "<text text-anchor=\"start\" x=\"45.5\" y=\"-190.6\" font-family=\"-apple-system, BlinkMacSystemFont, 'Segoe UI', Helvetica, Arial, sans-serif, 'Apple Color Emoji', 'Segoe UI Emoji', 'Segoe UI Symbol'\" font-size=\"13.00\">AmountUSD</text>\n",
       "<polygon fill=\"#f5f5f5\" stroke=\"none\" points=\"117.5,-182 117.5,-206 164.5,-206 164.5,-182 117.5,-182\"/>\n",
       "<text text-anchor=\"start\" x=\"122.5\" y=\"-191.6\" font-family=\"-apple-system, BlinkMacSystemFont, 'Segoe UI', Helvetica, Arial, sans-serif, 'Apple Color Emoji', 'Segoe UI Emoji', 'Segoe UI Symbol'\" font-style=\"italic\" font-size=\"13.00\">double</text>\n",
       "<polygon fill=\"#ffffff\" stroke=\"none\" points=\"9.5,-158 9.5,-182 40.5,-182 40.5,-158 9.5,-158\"/>\n",
       "<polygon fill=\"#ffffff\" stroke=\"none\" points=\"40.5,-158 40.5,-182 117.5,-182 117.5,-158 40.5,-158\"/>\n",
       "<text text-anchor=\"start\" x=\"45.5\" y=\"-166.6\" font-family=\"-apple-system, BlinkMacSystemFont, 'Segoe UI', Helvetica, Arial, sans-serif, 'Apple Color Emoji', 'Segoe UI Emoji', 'Segoe UI Symbol'\" font-size=\"13.00\">Bucket</text>\n",
       "<polygon fill=\"#ffffff\" stroke=\"none\" points=\"117.5,-158 117.5,-182 164.5,-182 164.5,-158 117.5,-158\"/>\n",
       "<text text-anchor=\"start\" x=\"145.5\" y=\"-167.6\" font-family=\"-apple-system, BlinkMacSystemFont, 'Segoe UI', Helvetica, Arial, sans-serif, 'Apple Color Emoji', 'Segoe UI Emoji', 'Segoe UI Symbol'\" font-style=\"italic\" font-size=\"13.00\">int</text>\n",
       "<polygon fill=\"#f5f5f5\" stroke=\"none\" points=\"9.5,-134 9.5,-158 40.5,-158 40.5,-134 9.5,-134\"/>\n",
       "<text text-anchor=\"start\" x=\"14.5\" y=\"-143.6\" font-family=\"-apple-system, BlinkMacSystemFont, 'Segoe UI', Helvetica, Arial, sans-serif, 'Apple Color Emoji', 'Segoe UI Emoji', 'Segoe UI Symbol'\" font-weight=\"bold\" font-size=\"13.00\">key</text>\n",
       "<polygon fill=\"#f5f5f5\" stroke=\"none\" points=\"40.5,-134 40.5,-158 117.5,-158 117.5,-134 40.5,-134\"/>\n",
       "<text text-anchor=\"start\" x=\"45.5\" y=\"-142.6\" font-family=\"-apple-system, BlinkMacSystemFont, 'Segoe UI', Helvetica, Arial, sans-serif, 'Apple Color Emoji', 'Segoe UI Emoji', 'Segoe UI Symbol'\" font-size=\"13.00\">PortfolioID</text>\n",
       "<polygon fill=\"#f5f5f5\" stroke=\"none\" points=\"117.5,-134 117.5,-158 164.5,-158 164.5,-134 117.5,-134\"/>\n",
       "<text text-anchor=\"start\" x=\"126.5\" y=\"-143.6\" font-family=\"-apple-system, BlinkMacSystemFont, 'Segoe UI', Helvetica, Arial, sans-serif, 'Apple Color Emoji', 'Segoe UI Emoji', 'Segoe UI Symbol'\" font-style=\"italic\" font-size=\"13.00\">String</text>\n",
       "<polygon fill=\"none\" stroke=\"black\" points=\"8,-133 8,-327 165,-327 165,-133 8,-133\"/>\n",
       "</g>\n",
       "<!-- RiskWeights -->\n",
       "<g id=\"node2\" class=\"node\"><title>RiskWeights</title>\n",
       "<text text-anchor=\"start\" x=\"383\" y=\"-410.6\" font-family=\"-apple-system, BlinkMacSystemFont, 'Segoe UI', Helvetica, Arial, sans-serif, 'Apple Color Emoji', 'Segoe UI Emoji', 'Segoe UI Symbol'\" font-weight=\"bold\" font-size=\"13.00\">RiskWeights</text>\n",
       "<polygon fill=\"#f5f5f5\" stroke=\"none\" points=\"357.5,-377 357.5,-401 388.5,-401 388.5,-377 357.5,-377\"/>\n",
       "<text text-anchor=\"start\" x=\"362.5\" y=\"-386.6\" font-family=\"-apple-system, BlinkMacSystemFont, 'Segoe UI', Helvetica, Arial, sans-serif, 'Apple Color Emoji', 'Segoe UI Emoji', 'Segoe UI Symbol'\" font-weight=\"bold\" font-size=\"13.00\">key</text>\n",
       "<polygon fill=\"#f5f5f5\" stroke=\"none\" points=\"388.5,-377 388.5,-401 436.5,-401 436.5,-377 388.5,-377\"/>\n",
       "<text text-anchor=\"start\" x=\"393.5\" y=\"-385.6\" font-family=\"-apple-system, BlinkMacSystemFont, 'Segoe UI', Helvetica, Arial, sans-serif, 'Apple Color Emoji', 'Segoe UI Emoji', 'Segoe UI Symbol'\" font-size=\"13.00\">Bucket</text>\n",
       "<polygon fill=\"#f5f5f5\" stroke=\"none\" points=\"436.5,-377 436.5,-401 483.5,-401 483.5,-377 436.5,-377\"/>\n",
       "<text text-anchor=\"start\" x=\"464.5\" y=\"-386.6\" font-family=\"-apple-system, BlinkMacSystemFont, 'Segoe UI', Helvetica, Arial, sans-serif, 'Apple Color Emoji', 'Segoe UI Emoji', 'Segoe UI Symbol'\" font-style=\"italic\" font-size=\"13.00\">int</text>\n",
       "<polygon fill=\"#ffffff\" stroke=\"none\" points=\"357.5,-353 357.5,-377 388.5,-377 388.5,-353 357.5,-353\"/>\n",
       "<text text-anchor=\"start\" x=\"362.5\" y=\"-362.6\" font-family=\"-apple-system, BlinkMacSystemFont, 'Segoe UI', Helvetica, Arial, sans-serif, 'Apple Color Emoji', 'Segoe UI Emoji', 'Segoe UI Symbol'\" font-weight=\"bold\" font-size=\"13.00\">key</text>\n",
       "<polygon fill=\"#ffffff\" stroke=\"none\" points=\"388.5,-353 388.5,-377 436.5,-377 436.5,-353 388.5,-353\"/>\n",
       "<text text-anchor=\"start\" x=\"393.5\" y=\"-361.6\" font-family=\"-apple-system, BlinkMacSystemFont, 'Segoe UI', Helvetica, Arial, sans-serif, 'Apple Color Emoji', 'Segoe UI Emoji', 'Segoe UI Symbol'\" font-size=\"13.00\">Label2</text>\n",
       "<polygon fill=\"#ffffff\" stroke=\"none\" points=\"436.5,-353 436.5,-377 483.5,-377 483.5,-353 436.5,-353\"/>\n",
       "<text text-anchor=\"start\" x=\"445.5\" y=\"-362.6\" font-family=\"-apple-system, BlinkMacSystemFont, 'Segoe UI', Helvetica, Arial, sans-serif, 'Apple Color Emoji', 'Segoe UI Emoji', 'Segoe UI Symbol'\" font-style=\"italic\" font-size=\"13.00\">String</text>\n",
       "<polygon fill=\"#f5f5f5\" stroke=\"none\" points=\"357.5,-329 357.5,-353 388.5,-353 388.5,-329 357.5,-329\"/>\n",
       "<polygon fill=\"#f5f5f5\" stroke=\"none\" points=\"388.5,-329 388.5,-353 436.5,-353 436.5,-329 388.5,-329\"/>\n",
       "<text text-anchor=\"start\" x=\"393.5\" y=\"-337.6\" font-family=\"-apple-system, BlinkMacSystemFont, 'Segoe UI', Helvetica, Arial, sans-serif, 'Apple Color Emoji', 'Segoe UI Emoji', 'Segoe UI Symbol'\" font-size=\"13.00\">RW</text>\n",
       "<polygon fill=\"#f5f5f5\" stroke=\"none\" points=\"436.5,-329 436.5,-353 483.5,-353 483.5,-329 436.5,-329\"/>\n",
       "<text text-anchor=\"start\" x=\"441.5\" y=\"-338.6\" font-family=\"-apple-system, BlinkMacSystemFont, 'Segoe UI', Helvetica, Arial, sans-serif, 'Apple Color Emoji', 'Segoe UI Emoji', 'Segoe UI Symbol'\" font-style=\"italic\" font-size=\"13.00\">double</text>\n",
       "<polygon fill=\"none\" stroke=\"black\" points=\"356.5,-328 356.5,-426 484.5,-426 484.5,-328 356.5,-328\"/>\n",
       "</g>\n",
       "<!-- Risks&#45;&gt;RiskWeights -->\n",
       "<g id=\"edge4\" class=\"edge\"><title>Risks-&gt;RiskWeights</title>\n",
       "<path fill=\"none\" stroke=\"black\" d=\"M173.43,-268.047C224.617,-290.711 289.16,-319.289 339.3,-341.49\"/>\n",
       "<polygon fill=\"black\" stroke=\"black\" points=\"337.928,-344.71 348.489,-345.558 340.762,-338.309 337.928,-344.71\"/>\n",
       "<text text-anchor=\"middle\" x=\"245\" y=\"-337.6\" font-family=\"-apple-system, BlinkMacSystemFont, 'Segoe UI', Helvetica, Arial, sans-serif, 'Apple Color Emoji', 'Segoe UI Emoji', 'Segoe UI Symbol'\" font-size=\"13.00\">Bucket → Bucket</text>\n",
       "<text text-anchor=\"middle\" x=\"245\" y=\"-323.6\" font-family=\"-apple-system, BlinkMacSystemFont, 'Segoe UI', Helvetica, Arial, sans-serif, 'Apple Color Emoji', 'Segoe UI Emoji', 'Segoe UI Symbol'\" font-size=\"13.00\">Label2 → Label2</text>\n",
       "</g>\n",
       "<!-- RiskFactorCorrelations -->\n",
       "<g id=\"node3\" class=\"node\"><title>RiskFactorCorrelations</title>\n",
       "<text text-anchor=\"start\" x=\"352.5\" y=\"-286.6\" font-family=\"-apple-system, BlinkMacSystemFont, 'Segoe UI', Helvetica, Arial, sans-serif, 'Apple Color Emoji', 'Segoe UI Emoji', 'Segoe UI Symbol'\" font-weight=\"bold\" font-size=\"13.00\">RiskFactorCorrelations</text>\n",
       "<polygon fill=\"#f5f5f5\" stroke=\"none\" points=\"326.5,-253 326.5,-277 357.5,-277 357.5,-253 326.5,-253\"/>\n",
       "<text text-anchor=\"start\" x=\"331.5\" y=\"-262.6\" font-family=\"-apple-system, BlinkMacSystemFont, 'Segoe UI', Helvetica, Arial, sans-serif, 'Apple Color Emoji', 'Segoe UI Emoji', 'Segoe UI Symbol'\" font-weight=\"bold\" font-size=\"13.00\">key</text>\n",
       "<polygon fill=\"#f5f5f5\" stroke=\"none\" points=\"357.5,-253 357.5,-277 468.5,-277 468.5,-253 357.5,-253\"/>\n",
       "<text text-anchor=\"start\" x=\"362.5\" y=\"-261.6\" font-family=\"-apple-system, BlinkMacSystemFont, 'Segoe UI', Helvetica, Arial, sans-serif, 'Apple Color Emoji', 'Segoe UI Emoji', 'Segoe UI Symbol'\" font-size=\"13.00\">Bucket</text>\n",
       "<polygon fill=\"#f5f5f5\" stroke=\"none\" points=\"468.5,-253 468.5,-277 515.5,-277 515.5,-253 468.5,-253\"/>\n",
       "<text text-anchor=\"start\" x=\"496.5\" y=\"-262.6\" font-family=\"-apple-system, BlinkMacSystemFont, 'Segoe UI', Helvetica, Arial, sans-serif, 'Apple Color Emoji', 'Segoe UI Emoji', 'Segoe UI Symbol'\" font-style=\"italic\" font-size=\"13.00\">int</text>\n",
       "<polygon fill=\"#ffffff\" stroke=\"none\" points=\"326.5,-229 326.5,-253 357.5,-253 357.5,-229 326.5,-229\"/>\n",
       "<polygon fill=\"#ffffff\" stroke=\"none\" points=\"357.5,-229 357.5,-253 468.5,-253 468.5,-229 357.5,-229\"/>\n",
       "<text text-anchor=\"start\" x=\"362.5\" y=\"-237.6\" font-family=\"-apple-system, BlinkMacSystemFont, 'Segoe UI', Helvetica, Arial, sans-serif, 'Apple Color Emoji', 'Segoe UI Emoji', 'Segoe UI Symbol'\" font-size=\"13.00\">names_correlation</text>\n",
       "<polygon fill=\"#ffffff\" stroke=\"none\" points=\"468.5,-229 468.5,-253 515.5,-253 515.5,-229 468.5,-229\"/>\n",
       "<text text-anchor=\"start\" x=\"473.5\" y=\"-238.6\" font-family=\"-apple-system, BlinkMacSystemFont, 'Segoe UI', Helvetica, Arial, sans-serif, 'Apple Color Emoji', 'Segoe UI Emoji', 'Segoe UI Symbol'\" font-style=\"italic\" font-size=\"13.00\">double</text>\n",
       "<polygon fill=\"none\" stroke=\"black\" points=\"325,-228 325,-302 516,-302 516,-228 325,-228\"/>\n",
       "</g>\n",
       "<!-- Risks&#45;&gt;RiskFactorCorrelations -->\n",
       "<g id=\"edge3\" class=\"edge\"><title>Risks-&gt;RiskFactorCorrelations</title>\n",
       "<path fill=\"none\" stroke=\"black\" d=\"M173.43,-239.059C214.07,-243.343 263.129,-248.515 306.715,-253.11\"/>\n",
       "<polygon fill=\"black\" stroke=\"black\" points=\"306.482,-256.605 316.794,-254.173 307.216,-249.643 306.482,-256.605\"/>\n",
       "<text text-anchor=\"middle\" x=\"245\" y=\"-254.6\" font-family=\"-apple-system, BlinkMacSystemFont, 'Segoe UI', Helvetica, Arial, sans-serif, 'Apple Color Emoji', 'Segoe UI Emoji', 'Segoe UI Symbol'\" font-size=\"13.00\">Bucket → Bucket</text>\n",
       "</g>\n",
       "<!-- Trade Attributes -->\n",
       "<g id=\"node4\" class=\"node\"><title>Trade Attributes</title>\n",
       "<text text-anchor=\"start\" x=\"372.5\" y=\"-186.6\" font-family=\"-apple-system, BlinkMacSystemFont, 'Segoe UI', Helvetica, Arial, sans-serif, 'Apple Color Emoji', 'Segoe UI Emoji', 'Segoe UI Symbol'\" font-weight=\"bold\" font-size=\"13.00\">Trade Attributes</text>\n",
       "<polygon fill=\"#f5f5f5\" stroke=\"none\" points=\"356.5,-153 356.5,-177 387.5,-177 387.5,-153 356.5,-153\"/>\n",
       "<text text-anchor=\"start\" x=\"361.5\" y=\"-162.6\" font-family=\"-apple-system, BlinkMacSystemFont, 'Segoe UI', Helvetica, Arial, sans-serif, 'Apple Color Emoji', 'Segoe UI Emoji', 'Segoe UI Symbol'\" font-weight=\"bold\" font-size=\"13.00\">key</text>\n",
       "<polygon fill=\"#f5f5f5\" stroke=\"none\" points=\"387.5,-153 387.5,-177 442.5,-177 442.5,-153 387.5,-153\"/>\n",
       "<text text-anchor=\"start\" x=\"392.5\" y=\"-161.6\" font-family=\"-apple-system, BlinkMacSystemFont, 'Segoe UI', Helvetica, Arial, sans-serif, 'Apple Color Emoji', 'Segoe UI Emoji', 'Segoe UI Symbol'\" font-size=\"13.00\">TradeID</text>\n",
       "<polygon fill=\"#f5f5f5\" stroke=\"none\" points=\"442.5,-153 442.5,-177 485.5,-177 485.5,-153 442.5,-153\"/>\n",
       "<text text-anchor=\"start\" x=\"447.5\" y=\"-162.6\" font-family=\"-apple-system, BlinkMacSystemFont, 'Segoe UI', Helvetica, Arial, sans-serif, 'Apple Color Emoji', 'Segoe UI Emoji', 'Segoe UI Symbol'\" font-style=\"italic\" font-size=\"13.00\">String</text>\n",
       "<polygon fill=\"#ffffff\" stroke=\"none\" points=\"356.5,-129 356.5,-153 387.5,-153 387.5,-129 356.5,-129\"/>\n",
       "<polygon fill=\"#ffffff\" stroke=\"none\" points=\"387.5,-129 387.5,-153 442.5,-153 442.5,-129 387.5,-129\"/>\n",
       "<text text-anchor=\"start\" x=\"392.5\" y=\"-137.6\" font-family=\"-apple-system, BlinkMacSystemFont, 'Segoe UI', Helvetica, Arial, sans-serif, 'Apple Color Emoji', 'Segoe UI Emoji', 'Segoe UI Symbol'\" font-size=\"13.00\">Book</text>\n",
       "<polygon fill=\"#ffffff\" stroke=\"none\" points=\"442.5,-129 442.5,-153 485.5,-153 485.5,-129 442.5,-129\"/>\n",
       "<text text-anchor=\"start\" x=\"447.5\" y=\"-138.6\" font-family=\"-apple-system, BlinkMacSystemFont, 'Segoe UI', Helvetica, Arial, sans-serif, 'Apple Color Emoji', 'Segoe UI Emoji', 'Segoe UI Symbol'\" font-style=\"italic\" font-size=\"13.00\">String</text>\n",
       "<polygon fill=\"none\" stroke=\"black\" points=\"355,-128 355,-202 486,-202 486,-128 355,-128\"/>\n",
       "</g>\n",
       "<!-- Risks&#45;&gt;Trade Attributes -->\n",
       "<g id=\"edge2\" class=\"edge\"><title>Risks-&gt;Trade Attributes</title>\n",
       "<path fill=\"none\" stroke=\"black\" d=\"M173.43,-213.176C223.759,-203.323 287,-190.941 336.767,-181.198\"/>\n",
       "<polygon fill=\"black\" stroke=\"black\" points=\"337.712,-184.579 346.853,-179.223 336.367,-177.71 337.712,-184.579\"/>\n",
       "<text text-anchor=\"middle\" x=\"245\" y=\"-211.6\" font-family=\"-apple-system, BlinkMacSystemFont, 'Segoe UI', Helvetica, Arial, sans-serif, 'Apple Color Emoji', 'Segoe UI Emoji', 'Segoe UI Symbol'\" font-size=\"13.00\">TradeID → TradeID</text>\n",
       "</g>\n",
       "<!-- eq_delta_corr_outer -->\n",
       "<g id=\"node6\" class=\"node\"><title>eq_delta_corr_outer</title>\n",
       "<text text-anchor=\"start\" x=\"360.5\" y=\"-86.6\" font-family=\"-apple-system, BlinkMacSystemFont, 'Segoe UI', Helvetica, Arial, sans-serif, 'Apple Color Emoji', 'Segoe UI Emoji', 'Segoe UI Symbol'\" font-weight=\"bold\" font-size=\"13.00\">eq_delta_corr_outer</text>\n",
       "<polygon fill=\"#f5f5f5\" stroke=\"none\" points=\"340.5,-53 340.5,-77 371.5,-77 371.5,-53 340.5,-53\"/>\n",
       "<text text-anchor=\"start\" x=\"345.5\" y=\"-62.6\" font-family=\"-apple-system, BlinkMacSystemFont, 'Segoe UI', Helvetica, Arial, sans-serif, 'Apple Color Emoji', 'Segoe UI Emoji', 'Segoe UI Symbol'\" font-weight=\"bold\" font-size=\"13.00\">key</text>\n",
       "<polygon fill=\"#f5f5f5\" stroke=\"none\" points=\"371.5,-53 371.5,-77 453.5,-77 453.5,-53 371.5,-53\"/>\n",
       "<text text-anchor=\"start\" x=\"376.5\" y=\"-61.6\" font-family=\"-apple-system, BlinkMacSystemFont, 'Segoe UI', Helvetica, Arial, sans-serif, 'Apple Color Emoji', 'Segoe UI Emoji', 'Segoe UI Symbol'\" font-size=\"13.00\">Bucket</text>\n",
       "<polygon fill=\"#f5f5f5\" stroke=\"none\" points=\"453.5,-53 453.5,-77 500.5,-77 500.5,-53 453.5,-53\"/>\n",
       "<text text-anchor=\"start\" x=\"481.5\" y=\"-62.6\" font-family=\"-apple-system, BlinkMacSystemFont, 'Segoe UI', Helvetica, Arial, sans-serif, 'Apple Color Emoji', 'Segoe UI Emoji', 'Segoe UI Symbol'\" font-style=\"italic\" font-size=\"13.00\">int</text>\n",
       "<polygon fill=\"#ffffff\" stroke=\"none\" points=\"340.5,-29 340.5,-53 371.5,-53 371.5,-29 340.5,-29\"/>\n",
       "<text text-anchor=\"start\" x=\"345.5\" y=\"-38.6\" font-family=\"-apple-system, BlinkMacSystemFont, 'Segoe UI', Helvetica, Arial, sans-serif, 'Apple Color Emoji', 'Segoe UI Emoji', 'Segoe UI Symbol'\" font-weight=\"bold\" font-size=\"13.00\">key</text>\n",
       "<polygon fill=\"#ffffff\" stroke=\"none\" points=\"371.5,-29 371.5,-53 453.5,-53 453.5,-29 371.5,-29\"/>\n",
       "<text text-anchor=\"start\" x=\"376.5\" y=\"-37.6\" font-family=\"-apple-system, BlinkMacSystemFont, 'Segoe UI', Helvetica, Arial, sans-serif, 'Apple Color Emoji', 'Segoe UI Emoji', 'Segoe UI Symbol'\" font-size=\"13.00\">Other Bucket</text>\n",
       "<polygon fill=\"#ffffff\" stroke=\"none\" points=\"453.5,-29 453.5,-53 500.5,-53 500.5,-29 453.5,-29\"/>\n",
       "<text text-anchor=\"start\" x=\"481.5\" y=\"-38.6\" font-family=\"-apple-system, BlinkMacSystemFont, 'Segoe UI', Helvetica, Arial, sans-serif, 'Apple Color Emoji', 'Segoe UI Emoji', 'Segoe UI Symbol'\" font-style=\"italic\" font-size=\"13.00\">int</text>\n",
       "<polygon fill=\"#f5f5f5\" stroke=\"none\" points=\"340.5,-5 340.5,-29 371.5,-29 371.5,-5 340.5,-5\"/>\n",
       "<polygon fill=\"#f5f5f5\" stroke=\"none\" points=\"371.5,-5 371.5,-29 453.5,-29 453.5,-5 371.5,-5\"/>\n",
       "<text text-anchor=\"start\" x=\"376.5\" y=\"-13.6\" font-family=\"-apple-system, BlinkMacSystemFont, 'Segoe UI', Helvetica, Arial, sans-serif, 'Apple Color Emoji', 'Segoe UI Emoji', 'Segoe UI Symbol'\" font-size=\"13.00\">gamma</text>\n",
       "<polygon fill=\"#f5f5f5\" stroke=\"none\" points=\"453.5,-5 453.5,-29 500.5,-29 500.5,-5 453.5,-5\"/>\n",
       "<text text-anchor=\"start\" x=\"458.5\" y=\"-14.6\" font-family=\"-apple-system, BlinkMacSystemFont, 'Segoe UI', Helvetica, Arial, sans-serif, 'Apple Color Emoji', 'Segoe UI Emoji', 'Segoe UI Symbol'\" font-style=\"italic\" font-size=\"13.00\">double</text>\n",
       "<polygon fill=\"none\" stroke=\"black\" points=\"339.5,-4 339.5,-102 501.5,-102 501.5,-4 339.5,-4\"/>\n",
       "</g>\n",
       "<!-- Risks&#45;&gt;eq_delta_corr_outer -->\n",
       "<g id=\"edge1\" class=\"edge\"><title>Risks-&gt;eq_delta_corr_outer</title>\n",
       "<path fill=\"none\" stroke=\"black\" stroke-dasharray=\"5,2\" d=\"M173.193,-180.789C179.204,-177.448 185.183,-174.158 191,-171 233.771,-147.778 281.547,-122.938 322.311,-102.068\"/>\n",
       "<polygon fill=\"black\" stroke=\"black\" points=\"324.124,-105.072 331.434,-97.4029 320.937,-98.8391 324.124,-105.072\"/>\n",
       "<text text-anchor=\"middle\" x=\"245\" y=\"-174.6\" font-family=\"-apple-system, BlinkMacSystemFont, 'Segoe UI', Helvetica, Arial, sans-serif, 'Apple Color Emoji', 'Segoe UI Emoji', 'Segoe UI Symbol'\" font-size=\"13.00\">Bucket → Bucket</text>\n",
       "</g>\n",
       "<!-- Trading Desk -->\n",
       "<g id=\"node5\" class=\"node\"><title>Trading Desk</title>\n",
       "<text text-anchor=\"start\" x=\"698.5\" y=\"-210.6\" font-family=\"-apple-system, BlinkMacSystemFont, 'Segoe UI', Helvetica, Arial, sans-serif, 'Apple Color Emoji', 'Segoe UI Emoji', 'Segoe UI Symbol'\" font-weight=\"bold\" font-size=\"13.00\">Trading Desk</text>\n",
       "<polygon fill=\"#f5f5f5\" stroke=\"none\" points=\"645.5,-177 645.5,-201 676.5,-201 676.5,-177 645.5,-177\"/>\n",
       "<text text-anchor=\"start\" x=\"650.5\" y=\"-186.6\" font-family=\"-apple-system, BlinkMacSystemFont, 'Segoe UI', Helvetica, Arial, sans-serif, 'Apple Color Emoji', 'Segoe UI Emoji', 'Segoe UI Symbol'\" font-weight=\"bold\" font-size=\"13.00\">key</text>\n",
       "<polygon fill=\"#f5f5f5\" stroke=\"none\" points=\"676.5,-177 676.5,-201 787.5,-201 787.5,-177 676.5,-177\"/>\n",
       "<text text-anchor=\"start\" x=\"681.5\" y=\"-185.6\" font-family=\"-apple-system, BlinkMacSystemFont, 'Segoe UI', Helvetica, Arial, sans-serif, 'Apple Color Emoji', 'Segoe UI Emoji', 'Segoe UI Symbol'\" font-size=\"13.00\">Book</text>\n",
       "<polygon fill=\"#f5f5f5\" stroke=\"none\" points=\"787.5,-177 787.5,-201 830.5,-201 830.5,-177 787.5,-177\"/>\n",
       "<text text-anchor=\"start\" x=\"792.5\" y=\"-186.6\" font-family=\"-apple-system, BlinkMacSystemFont, 'Segoe UI', Helvetica, Arial, sans-serif, 'Apple Color Emoji', 'Segoe UI Emoji', 'Segoe UI Symbol'\" font-style=\"italic\" font-size=\"13.00\">String</text>\n",
       "<polygon fill=\"#ffffff\" stroke=\"none\" points=\"645.5,-153 645.5,-177 676.5,-177 676.5,-153 645.5,-153\"/>\n",
       "<polygon fill=\"#ffffff\" stroke=\"none\" points=\"676.5,-153 676.5,-177 787.5,-177 787.5,-153 676.5,-153\"/>\n",
       "<text text-anchor=\"start\" x=\"681.5\" y=\"-161.6\" font-family=\"-apple-system, BlinkMacSystemFont, 'Segoe UI', Helvetica, Arial, sans-serif, 'Apple Color Emoji', 'Segoe UI Emoji', 'Segoe UI Symbol'\" font-size=\"13.00\">trading_desk</text>\n",
       "<polygon fill=\"#ffffff\" stroke=\"none\" points=\"787.5,-153 787.5,-177 830.5,-177 830.5,-153 787.5,-153\"/>\n",
       "<text text-anchor=\"start\" x=\"792.5\" y=\"-162.6\" font-family=\"-apple-system, BlinkMacSystemFont, 'Segoe UI', Helvetica, Arial, sans-serif, 'Apple Color Emoji', 'Segoe UI Emoji', 'Segoe UI Symbol'\" font-style=\"italic\" font-size=\"13.00\">String</text>\n",
       "<polygon fill=\"#f5f5f5\" stroke=\"none\" points=\"645.5,-129 645.5,-153 676.5,-153 676.5,-129 645.5,-129\"/>\n",
       "<polygon fill=\"#f5f5f5\" stroke=\"none\" points=\"676.5,-129 676.5,-153 787.5,-153 787.5,-129 676.5,-129\"/>\n",
       "<text text-anchor=\"start\" x=\"681.5\" y=\"-137.6\" font-family=\"-apple-system, BlinkMacSystemFont, 'Segoe UI', Helvetica, Arial, sans-serif, 'Apple Color Emoji', 'Segoe UI Emoji', 'Segoe UI Symbol'\" font-size=\"13.00\">sub_business_unit</text>\n",
       "<polygon fill=\"#f5f5f5\" stroke=\"none\" points=\"787.5,-129 787.5,-153 830.5,-153 830.5,-129 787.5,-129\"/>\n",
       "<text text-anchor=\"start\" x=\"792.5\" y=\"-138.6\" font-family=\"-apple-system, BlinkMacSystemFont, 'Segoe UI', Helvetica, Arial, sans-serif, 'Apple Color Emoji', 'Segoe UI Emoji', 'Segoe UI Symbol'\" font-style=\"italic\" font-size=\"13.00\">String</text>\n",
       "<polygon fill=\"#ffffff\" stroke=\"none\" points=\"645.5,-105 645.5,-129 676.5,-129 676.5,-105 645.5,-105\"/>\n",
       "<polygon fill=\"#ffffff\" stroke=\"none\" points=\"676.5,-105 676.5,-129 787.5,-129 787.5,-105 676.5,-105\"/>\n",
       "<text text-anchor=\"start\" x=\"681.5\" y=\"-113.6\" font-family=\"-apple-system, BlinkMacSystemFont, 'Segoe UI', Helvetica, Arial, sans-serif, 'Apple Color Emoji', 'Segoe UI Emoji', 'Segoe UI Symbol'\" font-size=\"13.00\">business_unit</text>\n",
       "<polygon fill=\"#ffffff\" stroke=\"none\" points=\"787.5,-105 787.5,-129 830.5,-129 830.5,-105 787.5,-105\"/>\n",
       "<text text-anchor=\"start\" x=\"792.5\" y=\"-114.6\" font-family=\"-apple-system, BlinkMacSystemFont, 'Segoe UI', Helvetica, Arial, sans-serif, 'Apple Color Emoji', 'Segoe UI Emoji', 'Segoe UI Symbol'\" font-style=\"italic\" font-size=\"13.00\">String</text>\n",
       "<polygon fill=\"none\" stroke=\"black\" points=\"644,-104 644,-226 831,-226 831,-104 644,-104\"/>\n",
       "</g>\n",
       "<!-- Trade Attributes&#45;&gt;Trading Desk -->\n",
       "<g id=\"edge5\" class=\"edge\"><title>Trade Attributes-&gt;Trading Desk</title>\n",
       "<path fill=\"none\" stroke=\"black\" d=\"M494.163,-165C533.185,-165 582.111,-165 625.766,-165\"/>\n",
       "<polygon fill=\"black\" stroke=\"black\" points=\"625.864,-168.5 635.864,-165 625.864,-161.5 625.864,-168.5\"/>\n",
       "<text text-anchor=\"middle\" x=\"580\" y=\"-168.6\" font-family=\"-apple-system, BlinkMacSystemFont, 'Segoe UI', Helvetica, Arial, sans-serif, 'Apple Color Emoji', 'Segoe UI Emoji', 'Segoe UI Symbol'\" font-size=\"13.00\">Book → Book</text>\n",
       "</g>\n",
       "</g>\n",
       "</svg>"
      ],
      "text/plain": [
       "<IPython.core.display.SVG object>"
      ]
     },
     "execution_count": 35,
     "metadata": {},
     "output_type": "execute_result"
    }
   ],
   "source": [
    "cube.schema"
   ]
  },
  {
   "cell_type": "markdown",
   "metadata": {},
   "source": [
    "Now we can compute SBM interactively for various desks and books and drill down to sensitivities by trade and risk factor."
   ]
  },
  {
   "cell_type": "code",
   "execution_count": 36,
   "metadata": {
    "atoti": {
     "height": 229,
     "widget": {
      "mapping": {
       "columns": [
        "ALL_MEASURES"
       ],
       "measures": [
        "[Measures].[Risk Charge]",
        "[Measures].[WS]",
        "[Measures].[AmountUSD.MEAN]"
       ],
       "rows": [
        "[Trading Desk].[Trading Book Hierarchy].[Business Unit]"
       ]
      },
      "query": {
       "mdx": "SELECT NON EMPTY {[Measures].[Risk Charge], [Measures].[WS], [Measures].[AmountUSD.MEAN]} ON COLUMNS, NON EMPTY Hierarchize(Union(Descendants({[Trading Desk].[Trading Book Hierarchy].[AllMember]}, 1, SELF_AND_BEFORE), Descendants({[Trading Desk].[Trading Book Hierarchy].[AllMember].[Equity]}, [Trading Desk].[Trading Book Hierarchy].[Sub Business Unit]))) ON ROWS FROM [Risks]",
       "updateMode": "once"
      },
      "serverKey": "default",
      "widgetKey": "pivot-table"
     }
    }
   },
   "outputs": [
    {
     "data": {
      "application/vnd.atoti.v0+json": {
       "name": null,
       "session": "Unnamed"
      },
      "text/html": [
       "<img src=\"data:image/svg+xml;charset=utf8,%3C?xml%20version=%221.0%22%20standalone=%22no%22?%3E%3Csvg%20xmlns=%22http://www.w3.org/2000/svg%22%20height=%22217%22%20width=%22978%22%3E%3CforeignObject%20width=%22100%25%22%20height=%22100%25%22%20x=%220%22%20y=%220%22%3E%3Cstyle%20type=%22text/css%22%3E.anticon%20%7Bdisplay:%20inline-block;%20color:%20inherit;%20font-style:%20normal;%20line-height:%200;%20text-align:%20center;%20text-transform:%20none;%20vertical-align:%20-0.125em;%20text-rendering:%20optimizelegibility;%20-webkit-font-smoothing:%20antialiased%7D%0A.anticon%20%3E%20*%20%7Bline-height:%201%7D%0A.anticon%20svg%20%7Bdisplay:%20inline-block%7D%0A.anticon%5Btabindex%5D%20%7Bcursor:%20pointer%7D%0A*,%20::before,%20::after%20%7Bbox-sizing:%20unset%7D%0A.ant-root%20%5Bclass%5E=%22ant-%22%5D,%20.ant-root%20%5Bclass*=%22ant-%22%5D,%20.ant-root%20%5Bclass%5E=%22ant-%22%5D%20*,%20.ant-root%20%5Bclass*=%22ant-%22%5D%20*,%20.ant-root%20%5Bclass%5E=%22ant-%22%5D%20::before,%20.ant-root%20%5Bclass*=%22ant-%22%5D%20::before,%20.ant-root%20%5Bclass%5E=%22ant-%22%5D%20::after,%20.ant-root%20%5Bclass*=%22ant-%22%5D%20::after%20%7Bbox-sizing:%20border-box%7D%0A.ant-root%20html,%20.ant-root%20%7Bwidth:%20100%25;%20height:%20100%25%7D%0A.ant-root%20*,%20.ant-root%20::before,%20.ant-root%20::after%20%7Bbox-sizing:%20border-box%7D%0A.ant-root%20%7Bmargin-top:%200px;%20margin-right:%200px;%20margin-bottom:%200px;%20margin-left:%200px;%20color:%20rgb(89,%2089,%2089);%20font-size:%2012px;%20font-family:%20-apple-system,%20BlinkMacSystemFont,%20%22Segoe%20UI%22,%20Roboto,%20%22Helvetica%20Neue%22,%20Arial,%20%22Noto%20Sans%22,%20sans-serif,%20%22Apple%20Color%20Emoji%22,%20%22Segoe%20UI%20Emoji%22,%20%22Segoe%20UI%20Symbol%22,%20%22Noto%20Color%20Emoji%22;%20font-variant-ligatures:%20normal;%20font-variant-numeric:%20tabular-nums;%20font-variant-east-asian:%20normal;%20font-variant-caps:%20normal;%20line-height:%201.66667;%20background-color:%20rgb(255,%20255,%20255);%20--antd-wave-shadow-color:%20undefined;%20--scroll-bar:%20undefined%7D%0A.ant-root%20svg:not(:root)%20%7Boverflow-x:%20hidden;%20overflow-y:%20hidden%7D%0A.ant-root%20.anticon%20%7Bdisplay:%20inline-block;%20color:%20inherit;%20font-style:%20normal;%20line-height:%200;%20text-align:%20center;%20text-transform:%20none;%20vertical-align:%20-0.125em;%20text-rendering:%20optimizelegibility;%20-webkit-font-smoothing:%20antialiased%7D%0A.ant-root%20.anticon%20%3E%20*%20%7Bline-height:%201%7D%0A.ant-root%20.anticon%20svg%20%7Bdisplay:%20inline-block%7D%0A.ant-root%20.anticon%5Btabindex%5D%20%7Bcursor:%20pointer%7D%0A.ant-root%20.ant-spin%20%7Bbox-sizing:%20border-box;%20margin-top:%200px;%20margin-right:%200px;%20margin-bottom:%200px;%20margin-left:%200px;%20padding-top:%200px;%20padding-right:%200px;%20padding-bottom:%200px;%20padding-left:%200px;%20font-size:%2012px;%20font-variant-ligatures:%20normal;%20font-variant-numeric:%20tabular-nums;%20font-variant-east-asian:%20normal;%20font-variant-caps:%20normal;%20line-height:%201.66667;%20list-style-position:%20initial;%20list-style-image:%20initial;%20list-style-type:%20none;%20position:%20absolute;%20display:%20none;%20color:%20rgb(0,%20174,%20239);%20text-align:%20center;%20vertical-align:%20middle;%20opacity:%200;%20transition-duration:%200.3s;%20transition-timing-function:%20cubic-bezier(0.78,%200.14,%200.15,%200.86);%20transition-delay:%200s;%20transition-property:%20transform%7D%0A.ant-root%20.ant-spin-spinning%20%7Bposition:%20static;%20display:%20inline-block;%20opacity:%201%7D%0A.ant-root%20.ant-spin-dot%20%7Bposition:%20relative;%20display:%20inline-block;%20font-size:%2020px;%20width:%201em;%20height:%201em%7D%0A.ant-root%20.ant-spin-dot-item%20%7Bposition:%20absolute;%20display:%20block;%20width:%209px;%20height:%209px;%20background-color:%20rgb(0,%20174,%20239);%20border-top-left-radius:%20100%25;%20border-top-right-radius:%20100%25;%20border-bottom-right-radius:%20100%25;%20border-bottom-left-radius:%20100%25;%20transform:%20scale(0.75);%20transform-origin:%2050%25%2050%25;%20opacity:%200.3;%20animation-duration:%201s;%20animation-timing-function:%20linear;%20animation-delay:%200s;%20animation-iteration-count:%20infinite;%20animation-direction:%20alternate;%20animation-fill-mode:%20none;%20animation-play-state:%20running;%20animation-name:%20antSpinMove%7D%0A.ant-root%20.ant-spin-dot-item:nth-child(1)%20%7Btop:%200px;%20left:%200px%7D%0A.ant-root%20.ant-spin-dot-item:nth-child(2)%20%7Btop:%200px;%20right:%200px;%20animation-delay:%200.4s%7D%0A.ant-root%20.ant-spin-dot-item:nth-child(3)%20%7Bright:%200px;%20bottom:%200px;%20animation-delay:%200.8s%7D%0A.ant-root%20.ant-spin-dot-item:nth-child(4)%20%7Bbottom:%200px;%20left:%200px;%20animation-delay:%201.2s%7D%0A.ant-root%20.ant-spin-dot-spin%20%7Btransform:%20rotate(45deg);%20animation-duration:%201.2s;%20animation-timing-function:%20linear;%20animation-delay:%200s;%20animation-iteration-count:%20infinite;%20animation-direction:%20normal;%20animation-fill-mode:%20none;%20animation-play-state:%20running;%20animation-name:%20antRotate%7D%0A.ant-root%20.ant-spin-lg%20.ant-spin-dot%20%7Bfont-size:%2032px%7D%0A.ant-root%20.ant-spin-lg%20.ant-spin-dot%20i%20%7Bwidth:%2014px;%20height:%2014px%7D%0A.css-12ebr42-AWidget%20%7Bheight:%20100%25%7D%0A.css-1e3kjgr-Spinner%20%7Bheight:%20100%25;%20position:%20relative%7D%0A.css-ck2xzt-Spinner%20%7B-webkit-box-align:%20center;%20align-items:%20center;%20background-image:%20initial;%20background-position-x:%20initial;%20background-position-y:%20initial;%20background-size:%20initial;%20background-repeat-x:%20initial;%20background-repeat-y:%20initial;%20background-attachment:%20initial;%20background-origin:%20initial;%20background-clip:%20initial;%20background-color:%20transparent;%20display:%20flex;%20height:%20100%25;%20-webkit-box-pack:%20center;%20justify-content:%20center;%20position:%20absolute;%20transition-duration:%20300ms;%20transition-timing-function:%20ease;%20transition-delay:%200s;%20transition-property:%20opacity;%20width:%20100%25;%20opacity:%200;%20pointer-events:%20none;%20z-index:%202%7D%0A.css-6s7z8y-Table%20%7Bpadding-bottom:%202px;%20padding-right:%202px;%20height:%20100%25%7D%0A.css-18k6uz5-Table%20%7Bcursor:%20cell;%20height:%20100%25;%20outline-color:%20initial;%20outline-style:%20none;%20outline-width:%20initial%7D%0A.css-cjaqq6-Table%20%7Bborder-collapse:%20collapse;%20height:%2028px;%20width:%20240px%7D%0A.css-17cmzye%20%7Bheight:%2028px;%20width:%20240px%7D%0A.css-uto3uj%20%7Bheight:%2028px;%20overflow-x:%20hidden;%20overflow-y:%20hidden;%20position:%20relative;%20width:%20240px;%20border-right-width:%202px;%20border-right-style:%20solid;%20border-right-color:%20rgb(233,%20233,%20233)%7D%0A.css-numeii%20%7Bheight:%2028px;%20overflow-x:%20hidden;%20overflow-y:%20hidden;%20position:%20relative;%20width:%20360px%7D%0A.css-1xrssma%20%7Bheight:%20140px;%20overflow-x:%20hidden;%20overflow-y:%20hidden;%20position:%20relative;%20width:%20240px;%20border-top-width:%202px;%20border-top-style:%20solid;%20border-top-color:%20rgb(233,%20233,%20233);%20border-right-width:%202px;%20border-right-style:%20solid;%20border-right-color:%20rgb(233,%20233,%20233)%7D%0A.css-1fv6gla%20%7Bheight:%20140px;%20overflow-x:%20hidden;%20overflow-y:%20hidden;%20position:%20relative;%20width:%20360px;%20border-top-width:%202px;%20border-top-style:%20solid;%20border-top-color:%20rgb(233,%20233,%20233)%7D%0A.css-1fe9pm6-Table%20%7Bdisplay:%20flex;%20height:%20215px%7D%0A.css-glldbl%20%7Bheight:%20187px;%20width:%20240px;%20overflow-x:%20hidden;%20overflow-y:%20auto%7D%0A.css-g26xr7-Table%20%7Bwidth:%20736px;%20border-collapse:%20collapse%7D%0A.css-jahlc4%20%7Bheight:%2028px;%20width:%20718px;%20overflow-x:%20auto;%20overflow-y:%20hidden%7D%0A.css-18cbe4l%20%7Bheight:%20187px;%20width:%20736px;%20overflow-x:%20auto;%20overflow-y:%20auto%7D%0A*%20%7B-ms-overflow-style:%20none;%20scrollbar-width:%20none%7D%0A*::-webkit-scrollbar%20%7Bdisplay:%20none%7D%3C/style%3E%3Cdiv%20xmlns=%22http://www.w3.org/1999/xhtml%22%20style=%22height:%20217px;%20width:%20978px;%22%3E&lt;div%20xmlns=%22http://www.w3.org/1999/xhtml%22%20class=%22ant-root%20css-0%22&gt;&lt;div%20class=%22ant-dropdown-trigger%20css-12ebr42-AWidget%22&gt;&lt;div%20class=%22css-1e3kjgr-Spinner%22&gt;&lt;div%20class=%22css-ck2xzt-Spinner%22&gt;&lt;div%20class=%22ant-spin%20ant-spin-lg%20ant-spin-spinning%22&gt;&lt;span%20class=%22ant-spin-dot%20ant-spin-dot-spin%22&gt;&lt;i%20class=%22ant-spin-dot-item%22&gt;&lt;/i&gt;&lt;i%20class=%22ant-spin-dot-item%22&gt;&lt;/i&gt;&lt;i%20class=%22ant-spin-dot-item%22&gt;&lt;/i&gt;&lt;i%20class=%22ant-spin-dot-item%22&gt;&lt;/i&gt;&lt;/span&gt;&lt;/div&gt;&lt;/div&gt;&lt;div%20class=%22css-6s7z8y-Table%22&gt;&lt;div%20tabindex=%220%22%20class=%22css-18k6uz5-Table%22&gt;&lt;div%20class=%22css-1fe9pm6-Table%22&gt;&lt;div%20class=%22css-cjaqq6-Table%22&gt;&lt;div%20class=%22css-17cmzye%22&gt;&lt;div%20class=%22css-uto3uj%22&gt;&lt;div%20style=%22font-size:%2012px;%20height:%2028px;%20left:%200px;%20padding:%204px%204px%203px;%20position:%20absolute;%20top:%200px;%20width:%20120px;%20font-weight:%20600;%22&gt;Business%20Unit&lt;/div&gt;&lt;div%20style=%22font-size:%2012px;%20height:%2028px;%20left:%20120px;%20padding:%204px%204px%203px;%20position:%20absolute;%20top:%200px;%20width:%20120px;%20font-weight:%20600;%22&gt;Sub%20Business%20Unit&lt;/div&gt;&lt;/div&gt;&lt;/div&gt;&lt;div%20class=%22css-glldbl%22&gt;&lt;div%20class=%22css-1xrssma%22&gt;&lt;div%20style=%22font-size:%2012px;%20font-weight:%20600;%20padding:%204px%204px%203px;%22&gt;Total&lt;/div&gt;&lt;div%20style=%22overflow:%20hidden;%20display:%20flex;%20align-items:%20center;%20font-size:%2012px;%20height:%2028px;%20left:%200px;%20padding:%204px%204px%203px;%20position:%20absolute;%20top:%2028px;%20width:%20120px;%20border-top:%201px%20solid%20rgb(233,%20233,%20233);%20font-weight:%20600;%22&gt;&lt;span%20role=%22img%22%20aria-label=%22down%22%20tabindex=%22-1%22%20class=%22anticon%20anticon-down%22%20style=%22cursor:%20pointer;%20font-size:%2010px;%20margin-right:%206px;%22&gt;&lt;svg%20xmlns=%22http://www.w3.org/2000/svg%22%20viewBox=%2264%2064%20896%20896%22%20focusable=%22false%22%20class=%22%22%20data-icon=%22down%22%20width=%221em%22%20height=%221em%22%20fill=%22currentColor%22%20aria-hidden=%22true%22&gt;&lt;path%20d=%22M884%20256h-75c-5.1%200-9.9%202.5-12.9%206.6L512%20654.2%20227.9%20262.6c-3-4.1-7.8-6.6-12.9-6.6h-75c-6.5%200-10.3%207.4-6.5%2012.7l352.6%20486.1c12.8%2017.6%2039%2017.6%2051.7%200l352.6-486.1c3.9-5.3.1-12.7-6.4-12.7z%22/&gt;&lt;/svg&gt;&lt;/span&gt;&lt;span%20style=%22text-overflow:%20ellipsis;%20overflow:%20hidden;%20white-space:%20nowrap;%20max-width:%20calc((100%25%20-%2016px)%20-%200px);%22&gt;Equity&lt;/span&gt;&lt;div%20style=%22height:%20100%25;%20margin-left:%206px;%22&gt;&lt;/div&gt;&lt;/div&gt;&lt;div%20style=%22overflow:%20hidden;%20display:%20flex;%20align-items:%20center;%20font-size:%2012px;%20height:%2028px;%20left:%20120px;%20padding:%204px%204px%203px;%20position:%20absolute;%20top:%2028px;%20width:%20120px;%20border-right:%202px%20solid%20rgb(233,%20233,%20233);%20border-top:%201px%20solid%20rgb(233,%20233,%20233);%22&gt;&lt;span%20style=%22text-overflow:%20ellipsis;%20overflow:%20hidden;%20white-space:%20nowrap;%20max-width:%20calc((100%25%20-%2016px)%20-%200px);%22&gt;&lt;/span&gt;&lt;div%20style=%22height:%20100%25;%20margin-left:%206px;%22&gt;&lt;/div&gt;&lt;/div&gt;&lt;div%20style=%22overflow:%20hidden;%20display:%20none;%20align-items:%20center;%20font-size:%2012px;%20height:%2028px;%20left:%200px;%20padding:%204px%204px%203px;%20position:%20absolute;%20top:%2056px;%20width:%20120px;%20font-weight:%20600;%22&gt;&lt;span%20role=%22img%22%20aria-label=%22right%22%20tabindex=%22-1%22%20class=%22anticon%20anticon-right%22%20style=%22cursor:%20pointer;%20font-size:%2010px;%20margin-right:%206px;%22&gt;&lt;svg%20xmlns=%22http://www.w3.org/2000/svg%22%20viewBox=%2264%2064%20896%20896%22%20focusable=%22false%22%20class=%22%22%20data-icon=%22right%22%20width=%221em%22%20height=%221em%22%20fill=%22currentColor%22%20aria-hidden=%22true%22&gt;&lt;path%20d=%22M765.7%20486.8L314.9%20134.7A7.97%207.97%200%2000302%20141v77.3c0%204.9%202.3%209.6%206.1%2012.6l360%20281.1-360%20281.1c-3.9%203-6.1%207.7-6.1%2012.6V883c0%206.7%207.7%2010.4%2012.9%206.3l450.8-352.1a31.96%2031.96%200%20000-50.4z%22/&gt;&lt;/svg&gt;&lt;/span&gt;&lt;span%20style=%22text-overflow:%20ellipsis;%20overflow:%20hidden;%20white-space:%20nowrap;%20max-width:%20calc((100%25%20-%2016px)%20-%200px);%22&gt;Equity&lt;/span&gt;&lt;div%20style=%22height:%20100%25;%20margin-left:%206px;%22&gt;&lt;/div&gt;&lt;/div&gt;&lt;div%20style=%22overflow:%20hidden;%20display:%20flex;%20align-items:%20center;%20font-size:%2012px;%20height:%2028px;%20left:%20120px;%20padding:%204px%204px%203px;%20position:%20absolute;%20top:%2056px;%20width:%20120px;%20background-color:%20rgb(250,%20250,%20250);%20border-right:%202px%20solid%20rgb(233,%20233,%20233);%22&gt;&lt;span%20role=%22img%22%20aria-label=%22right%22%20tabindex=%22-1%22%20class=%22anticon%20anticon-right%22%20style=%22cursor:%20pointer;%20font-size:%2010px;%20margin-right:%206px;%22&gt;&lt;svg%20xmlns=%22http://www.w3.org/2000/svg%22%20viewBox=%2264%2064%20896%20896%22%20focusable=%22false%22%20class=%22%22%20data-icon=%22right%22%20width=%221em%22%20height=%221em%22%20fill=%22currentColor%22%20aria-hidden=%22true%22&gt;&lt;path%20d=%22M765.7%20486.8L314.9%20134.7A7.97%207.97%200%2000302%20141v77.3c0%204.9%202.3%209.6%206.1%2012.6l360%20281.1-360%20281.1c-3.9%203-6.1%207.7-6.1%2012.6V883c0%206.7%207.7%2010.4%2012.9%206.3l450.8-352.1a31.96%2031.96%200%20000-50.4z%22/&gt;&lt;/svg&gt;&lt;/span&gt;&lt;span%20style=%22text-overflow:%20ellipsis;%20overflow:%20hidden;%20white-space:%20nowrap;%20max-width:%20calc((100%25%20-%2016px)%20-%200px);%22&gt;Domestic%20Equity&lt;/span&gt;&lt;div%20style=%22height:%20100%25;%20margin-left:%206px;%22&gt;&lt;/div&gt;&lt;/div&gt;&lt;div%20style=%22overflow:%20hidden;%20display:%20none;%20align-items:%20center;%20font-size:%2012px;%20height:%2028px;%20left:%200px;%20padding:%204px%204px%203px;%20position:%20absolute;%20top:%2084px;%20width:%20120px;%20font-weight:%20600;%22&gt;&lt;span%20role=%22img%22%20aria-label=%22right%22%20tabindex=%22-1%22%20class=%22anticon%20anticon-right%22%20style=%22cursor:%20pointer;%20font-size:%2010px;%20margin-right:%206px;%22&gt;&lt;svg%20xmlns=%22http://www.w3.org/2000/svg%22%20viewBox=%2264%2064%20896%20896%22%20focusable=%22false%22%20class=%22%22%20data-icon=%22right%22%20width=%221em%22%20height=%221em%22%20fill=%22currentColor%22%20aria-hidden=%22true%22&gt;&lt;path%20d=%22M765.7%20486.8L314.9%20134.7A7.97%207.97%200%2000302%20141v77.3c0%204.9%202.3%209.6%206.1%2012.6l360%20281.1-360%20281.1c-3.9%203-6.1%207.7-6.1%2012.6V883c0%206.7%207.7%2010.4%2012.9%206.3l450.8-352.1a31.96%2031.96%200%20000-50.4z%22/&gt;&lt;/svg&gt;&lt;/span&gt;&lt;span%20style=%22text-overflow:%20ellipsis;%20overflow:%20hidden;%20white-space:%20nowrap;%20max-width:%20calc((100%25%20-%2016px)%20-%200px);%22&gt;Equity&lt;/span&gt;&lt;div%20style=%22height:%20100%25;%20margin-left:%206px;%22&gt;&lt;/div&gt;&lt;/div&gt;&lt;div%20style=%22overflow:%20hidden;%20display:%20flex;%20align-items:%20center;%20font-size:%2012px;%20height:%2028px;%20left:%20120px;%20padding:%204px%204px%203px;%20position:%20absolute;%20top:%2084px;%20width:%20120px;%20border-right:%202px%20solid%20rgb(233,%20233,%20233);%22&gt;&lt;span%20role=%22img%22%20aria-label=%22right%22%20tabindex=%22-1%22%20class=%22anticon%20anticon-right%22%20style=%22cursor:%20pointer;%20font-size:%2010px;%20margin-right:%206px;%22&gt;&lt;svg%20xmlns=%22http://www.w3.org/2000/svg%22%20viewBox=%2264%2064%20896%20896%22%20focusable=%22false%22%20class=%22%22%20data-icon=%22right%22%20width=%221em%22%20height=%221em%22%20fill=%22currentColor%22%20aria-hidden=%22true%22&gt;&lt;path%20d=%22M765.7%20486.8L314.9%20134.7A7.97%207.97%200%2000302%20141v77.3c0%204.9%202.3%209.6%206.1%2012.6l360%20281.1-360%20281.1c-3.9%203-6.1%207.7-6.1%2012.6V883c0%206.7%207.7%2010.4%2012.9%206.3l450.8-352.1a31.96%2031.96%200%20000-50.4z%22/&gt;&lt;/svg&gt;&lt;/span&gt;&lt;span%20style=%22text-overflow:%20ellipsis;%20overflow:%20hidden;%20white-space:%20nowrap;%20max-width:%20calc((100%25%20-%2016px)%20-%200px);%22&gt;Foreign%20Equity&lt;/span&gt;&lt;div%20style=%22height:%20100%25;%20margin-left:%206px;%22&gt;&lt;/div&gt;&lt;/div&gt;&lt;div%20style=%22overflow:%20hidden;%20display:%20flex;%20align-items:%20center;%20font-size:%2012px;%20height:%2028px;%20left:%200px;%20padding:%204px%204px%203px;%20position:%20absolute;%20top:%20112px;%20width:%20120px;%20border-top:%201px%20solid%20rgb(233,%20233,%20233);%20font-weight:%20600;%22&gt;&lt;span%20role=%22img%22%20aria-label=%22right%22%20tabindex=%22-1%22%20class=%22anticon%20anticon-right%22%20style=%22cursor:%20pointer;%20font-size:%2010px;%20margin-right:%206px;%22&gt;&lt;svg%20xmlns=%22http://www.w3.org/2000/svg%22%20viewBox=%2264%2064%20896%20896%22%20focusable=%22false%22%20class=%22%22%20data-icon=%22right%22%20width=%221em%22%20height=%221em%22%20fill=%22currentColor%22%20aria-hidden=%22true%22&gt;&lt;path%20d=%22M765.7%20486.8L314.9%20134.7A7.97%207.97%200%2000302%20141v77.3c0%204.9%202.3%209.6%206.1%2012.6l360%20281.1-360%20281.1c-3.9%203-6.1%207.7-6.1%2012.6V883c0%206.7%207.7%2010.4%2012.9%206.3l450.8-352.1a31.96%2031.96%200%20000-50.4z%22/&gt;&lt;/svg&gt;&lt;/span&gt;&lt;span%20style=%22text-overflow:%20ellipsis;%20overflow:%20hidden;%20white-space:%20nowrap;%20max-width:%20calc((100%25%20-%2016px)%20-%200px);%22&gt;Forex&lt;/span&gt;&lt;div%20style=%22height:%20100%25;%20margin-left:%206px;%22&gt;&lt;/div&gt;&lt;/div&gt;&lt;div%20style=%22overflow:%20hidden;%20display:%20flex;%20align-items:%20center;%20font-size:%2012px;%20height:%2028px;%20left:%20120px;%20padding:%204px%204px%203px;%20position:%20absolute;%20top:%20112px;%20width:%20120px;%20border-right:%202px%20solid%20rgb(233,%20233,%20233);%20border-top:%201px%20solid%20rgb(233,%20233,%20233);%22&gt;&lt;span%20style=%22text-overflow:%20ellipsis;%20overflow:%20hidden;%20white-space:%20nowrap;%20max-width:%20calc((100%25%20-%2016px)%20-%200px);%22&gt;&lt;/span&gt;&lt;div%20style=%22height:%20100%25;%20margin-left:%206px;%22&gt;&lt;/div&gt;&lt;/div&gt;&lt;/div&gt;&lt;/div&gt;&lt;/div&gt;&lt;div%20class=%22css-g26xr7-Table%22&gt;&lt;div%20class=%22css-jahlc4%22&gt;&lt;div%20class=%22css-numeii%22&gt;&lt;div%20style=%22overflow:%20hidden;%20display:%20flex;%20align-items:%20center;%20font-size:%2012px;%20height:%2028px;%20left:%200px;%20padding:%204px%204px%203px;%20position:%20absolute;%20top:%200px;%20width:%20120px;%20font-weight:%20600;%22&gt;&lt;span%20style=%22text-overflow:%20ellipsis;%20overflow:%20hidden;%20white-space:%20nowrap;%20max-width:%20calc((100%25%20-%200px)%20-%200px);%22&gt;Risk%20Charge&lt;/span&gt;&lt;div%20style=%22height:%20100%25;%20margin-left:%206px;%22&gt;&lt;/div&gt;&lt;/div&gt;&lt;div%20style=%22overflow:%20hidden;%20display:%20flex;%20align-items:%20center;%20font-size:%2012px;%20height:%2028px;%20left:%20120px;%20padding:%204px%204px%203px;%20position:%20absolute;%20top:%200px;%20width:%20120px;%20font-weight:%20600;%22&gt;&lt;span%20style=%22text-overflow:%20ellipsis;%20overflow:%20hidden;%20white-space:%20nowrap;%20max-width:%20calc((100%25%20-%200px)%20-%200px);%22&gt;WS&lt;/span&gt;&lt;div%20style=%22height:%20100%25;%20margin-left:%206px;%22&gt;&lt;/div&gt;&lt;/div&gt;&lt;div%20style=%22overflow:%20hidden;%20display:%20flex;%20align-items:%20center;%20font-size:%2012px;%20height:%2028px;%20left:%20240px;%20padding:%204px%204px%203px;%20position:%20absolute;%20top:%200px;%20width:%20120px;%20font-weight:%20600;%22&gt;&lt;span%20style=%22text-overflow:%20ellipsis;%20overflow:%20hidden;%20white-space:%20nowrap;%20max-width:%20calc((100%25%20-%200px)%20-%200px);%22&gt;AmountUSD.MEAN&lt;/span&gt;&lt;div%20style=%22height:%20100%25;%20margin-left:%206px;%22&gt;&lt;/div&gt;&lt;/div&gt;&lt;/div&gt;&lt;/div&gt;&lt;div%20class=%22css-18cbe4l%22&gt;&lt;div%20class=%22css-1fv6gla%22&gt;&lt;div%20class=%22css-1lzltx4-TableCell%22%20style=%22font-size:%2012px;%20height:%2028px;%20left:%200px;%20padding:%204px%204px%203px;%20position:%20absolute;%20top:%200px;%20width:%20120px;%20text-align:%20right;%20border-right:%201px%20solid%20rgb(233,%20233,%20233);%22&gt;7,615,829.35&lt;/div&gt;&lt;div%20class=%22css-1lzltx4-TableCell%22%20style=%22font-size:%2012px;%20height:%2028px;%20left:%20120px;%20padding:%204px%204px%203px;%20position:%20absolute;%20top:%200px;%20width:%20120px;%20text-align:%20right;%20border-right:%201px%20solid%20rgb(233,%20233,%20233);%22&gt;-5,090,583.39&lt;/div&gt;&lt;div%20class=%22css-1lzltx4-TableCell%22%20style=%22font-size:%2012px;%20height:%2028px;%20left:%20240px;%20padding:%204px%204px%203px;%20position:%20absolute;%20top:%200px;%20width:%20120px;%20text-align:%20right;%20border-right:%201px%20solid%20rgb(233,%20233,%20233);%22&gt;-8,334.92&lt;/div&gt;&lt;div%20class=%22css-1lzltx4-TableCell%22%20style=%22font-size:%2012px;%20height:%2028px;%20left:%200px;%20padding:%204px%204px%203px;%20position:%20absolute;%20top:%2028px;%20width:%20120px;%20text-align:%20right;%20border-right:%201px%20solid%20rgb(233,%20233,%20233);%20border-top:%201px%20solid%20rgb(233,%20233,%20233);%22&gt;3,988,068.06&lt;/div&gt;&lt;div%20class=%22css-1lzltx4-TableCell%22%20style=%22font-size:%2012px;%20height:%2028px;%20left:%20120px;%20padding:%204px%204px%203px;%20position:%20absolute;%20top:%2028px;%20width:%20120px;%20text-align:%20right;%20border-right:%201px%20solid%20rgb(233,%20233,%20233);%20border-top:%201px%20solid%20rgb(233,%20233,%20233);%22&gt;-1,068,726.24&lt;/div&gt;&lt;div%20class=%22css-1lzltx4-TableCell%22%20style=%22font-size:%2012px;%20height:%2028px;%20left:%20240px;%20padding:%204px%204px%203px;%20position:%20absolute;%20top:%2028px;%20width:%20120px;%20text-align:%20right;%20border-right:%201px%20solid%20rgb(233,%20233,%20233);%20border-top:%201px%20solid%20rgb(233,%20233,%20233);%22&gt;-6,850.56&lt;/div&gt;&lt;div%20class=%22css-1lzltx4-TableCell%22%20style=%22font-size:%2012px;%20height:%2028px;%20left:%200px;%20padding:%204px%204px%203px;%20position:%20absolute;%20top:%2056px;%20width:%20120px;%20text-align:%20right;%20background-color:%20rgb(250,%20250,%20250);%20border-right:%201px%20solid%20rgb(233,%20233,%20233);%22&gt;3,163,015.63&lt;/div&gt;&lt;div%20class=%22css-1lzltx4-TableCell%22%20style=%22font-size:%2012px;%20height:%2028px;%20left:%20120px;%20padding:%204px%204px%203px;%20position:%20absolute;%20top:%2056px;%20width:%20120px;%20text-align:%20right;%20background-color:%20rgb(250,%20250,%20250);%20border-right:%201px%20solid%20rgb(233,%20233,%20233);%22&gt;-2,896,373.87&lt;/div&gt;&lt;div%20class=%22css-1lzltx4-TableCell%22%20style=%22font-size:%2012px;%20height:%2028px;%20left:%20240px;%20padding:%204px%204px%203px;%20position:%20absolute;%20top:%2056px;%20width:%20120px;%20text-align:%20right;%20background-color:%20rgb(250,%20250,%20250);%20border-right:%201px%20solid%20rgb(233,%20233,%20233);%22&gt;-18,641.52&lt;/div&gt;&lt;div%20class=%22css-1lzltx4-TableCell%22%20style=%22font-size:%2012px;%20height:%2028px;%20left:%200px;%20padding:%204px%204px%203px;%20position:%20absolute;%20top:%2084px;%20width:%20120px;%20text-align:%20right;%20border-right:%201px%20solid%20rgb(233,%20233,%20233);%22&gt;2,302,145.25&lt;/div&gt;&lt;div%20class=%22css-1lzltx4-TableCell%22%20style=%22font-size:%2012px;%20height:%2028px;%20left:%20120px;%20padding:%204px%204px%203px;%20position:%20absolute;%20top:%2084px;%20width:%20120px;%20text-align:%20right;%20border-right:%201px%20solid%20rgb(233,%20233,%20233);%22&gt;1,827,647.62&lt;/div&gt;&lt;div%20class=%22css-1lzltx4-TableCell%22%20style=%22font-size:%2012px;%20height:%2028px;%20left:%20240px;%20padding:%204px%204px%203px;%20position:%20absolute;%20top:%2084px;%20width:%20120px;%20text-align:%20right;%20border-right:%201px%20solid%20rgb(233,%20233,%20233);%22&gt;14,866.47&lt;/div&gt;&lt;div%20class=%22css-1lzltx4-TableCell%22%20style=%22font-size:%2012px;%20height:%2028px;%20left:%200px;%20padding:%204px%204px%203px;%20position:%20absolute;%20top:%20112px;%20width:%20120px;%20text-align:%20right;%20border-right:%201px%20solid%20rgb(233,%20233,%20233);%20border-top:%201px%20solid%20rgb(233,%20233,%20233);%22&gt;5,490,825.97&lt;/div&gt;&lt;div%20class=%22css-1lzltx4-TableCell%22%20style=%22font-size:%2012px;%20height:%2028px;%20left:%20120px;%20padding:%204px%204px%203px;%20position:%20absolute;%20top:%20112px;%20width:%20120px;%20text-align:%20right;%20border-right:%201px%20solid%20rgb(233,%20233,%20233);%20border-top:%201px%20solid%20rgb(233,%20233,%20233);%22&gt;-4,021,857.15&lt;/div&gt;&lt;div%20class=%22css-1lzltx4-TableCell%22%20style=%22font-size:%2012px;%20height:%2028px;%20left:%20240px;%20padding:%204px%204px%203px;%20position:%20absolute;%20top:%20112px;%20width:%20120px;%20text-align:%20right;%20border-right:%201px%20solid%20rgb(233,%20233,%20233);%20border-top:%201px%20solid%20rgb(233,%20233,%20233);%22&gt;-9,150.30&lt;/div&gt;&lt;/div&gt;&lt;/div&gt;&lt;/div&gt;&lt;/div&gt;&lt;/div&gt;&lt;/div&gt;&lt;/div&gt;&lt;/div&gt;&lt;/div&gt;%3C/div%3E%3C/foreignObject%3E%3C/svg%3E\">"
      ],
      "text/plain": [
       "Open the notebook in JupyterLab with the atoti extension installed and enabled to start editing this widget."
      ]
     },
     "metadata": {},
     "output_type": "display_data"
    }
   ],
   "source": [
    "session.visualize()"
   ]
  },
  {
   "cell_type": "code",
   "execution_count": null,
   "metadata": {
    "atoti": {
     "widget": {
      "mapping": {
       "horizontalSubplots": [],
       "splitBy": [
        "ALL_MEASURES"
       ],
       "values": [
        "[Measures].[Risk Charge]"
       ],
       "verticalSubplots": [],
       "yAxis": [
        "[Risks].[Bucket].[Bucket]"
       ]
      },
      "query": {
       "mdx": "SELECT NON EMPTY {[Measures].[Risk Charge]} ON COLUMNS, NON EMPTY Hierarchize(Descendants({[Risks].[Bucket].[AllMember]}, 1, SELF_AND_BEFORE)) ON ROWS FROM [Risks]",
       "updateMode": "once"
      },
      "serverKey": "default",
      "widgetKey": "plotly-clustered-bar-chart"
     }
    }
   },
   "outputs": [
    {
     "data": {
      "application/vnd.atoti.v0+json": {
       "name": "SBM charge by Bucket",
       "session": "Unnamed"
      },
      "text/plain": [
       "Open the notebook in JupyterLab with the atoti extension installed and enabled to start editing this widget."
      ]
     },
     "metadata": {},
     "output_type": "display_data"
    }
   ],
   "source": [
    "session.visualize(\"SBM charge by Bucket\")"
   ]
  }
 ],
 "metadata": {
  "kernelspec": {
   "display_name": "Python 3",
   "language": "python",
   "name": "python3"
  },
  "language_info": {
   "codemirror_mode": {
    "name": "ipython",
    "version": 3
   },
   "file_extension": ".py",
   "mimetype": "text/x-python",
   "name": "python",
   "nbconvert_exporter": "python",
   "pygments_lexer": "ipython3",
   "version": "3.9.1"
  },
  "latex_envs": {
   "LaTeX_envs_menu_present": true,
   "autoclose": false,
   "autocomplete": true,
   "bibliofile": "biblio.bib",
   "cite_by": "apalike",
   "current_citInitial": 1,
   "eqLabelWithNumbers": true,
   "eqNumInitial": 1,
   "hotkeys": {
    "equation": "Ctrl-E",
    "itemize": "Ctrl-I"
   },
   "labels_anchors": false,
   "latex_user_defs": false,
   "report_style_numbering": false,
   "user_envs_cfg": false
  },
  "toc": {
   "base_numbering": 1,
   "nav_menu": {},
   "number_sections": true,
   "sideBar": true,
   "skip_h1_title": false,
   "title_cell": "Table of Contents",
   "title_sidebar": "Contents",
   "toc_cell": false,
   "toc_position": {
    "height": "calc(100% - 180px)",
    "left": "10px",
    "top": "150px",
    "width": "305.517px"
   },
   "toc_section_display": true,
   "toc_window_display": true
  },
  "varInspector": {
   "cols": {
    "lenName": 16,
    "lenType": 16,
    "lenVar": 40
   },
   "kernels_config": {
    "python": {
     "delete_cmd_postfix": "",
     "delete_cmd_prefix": "del ",
     "library": "var_list.py",
     "varRefreshCmd": "print(var_dic_list())"
    },
    "r": {
     "delete_cmd_postfix": ") ",
     "delete_cmd_prefix": "rm(",
     "library": "var_list.r",
     "varRefreshCmd": "cat(var_dic_list()) "
    }
   },
   "types_to_exclude": [
    "module",
    "function",
    "builtin_function_or_method",
    "instance",
    "_Feature"
   ],
   "window_display": false
  }
 },
 "nbformat": 4,
 "nbformat_minor": 4
}
