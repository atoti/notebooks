{
 "cells": [
  {
   "cell_type": "code",
   "execution_count": 27,
   "id": "a0140409-2307-4a48-96a0-53d30793b26f",
   "metadata": {},
   "outputs": [],
   "source": [
    "from bs4 import BeautifulSoup"
   ]
  },
  {
   "cell_type": "code",
   "execution_count": 1,
   "id": "violent-shopper",
   "metadata": {},
   "outputs": [],
   "source": [
    "# pip install bs4 selenium"
   ]
  },
  {
   "cell_type": "code",
   "execution_count": 23,
   "id": "interesting-oxygen",
   "metadata": {},
   "outputs": [
    {
     "name": "stderr",
     "output_type": "stream",
     "text": [
      "<ipython-input-23-b45390cff405>:9: DeprecationWarning: use options instead of chrome_options\n",
      "  driver = webdriver.Chrome(executable_path=r'C:\\Users\\raghav\\Atoti Play\\Sales cube\\chromedriver_win32\\chromedriver.exe', chrome_options=options)\n"
     ]
    }
   ],
   "source": [
    "# Here, Selenium accesses the Chrome browser driver in incognito mode and without actually opening a browser window(headless argument).\n",
    "\n",
    "from selenium import webdriver\n",
    "\n",
    "options = webdriver.ChromeOptions()\n",
    "options.add_argument('--ignore-certificate-errors')\n",
    "options.add_argument('--incognito')\n",
    "# options.add_argument('--headless')\n",
    "driver = webdriver.Chrome(executable_path=r'C:\\Users\\raghav\\Atoti Play\\Sales cube\\chromedriver_win32\\chromedriver.exe', chrome_options=options)"
   ]
  },
  {
   "cell_type": "code",
   "execution_count": 24,
   "id": "64e38ef8-9cd5-41f5-90ba-f331bb09efd8",
   "metadata": {},
   "outputs": [
    {
     "name": "stdout",
     "output_type": "stream",
     "text": [
      "0\n"
     ]
    }
   ],
   "source": [
    "# review page and click relevant buttons\n",
    "\n",
    "import time\n",
    "\n",
    "cookies = {\n",
    "    'privacy-policy': '1,XXXXXXXXXXXXXXXXXXXXXX'\n",
    "}\n",
    "\n",
    "driver.get(\"https://cars.usnews.com/cars-trucks/browse?make=Audi&year_max=2018&sort=alpha&page=1\")\n",
    "\n",
    "#click the gdpr button\n",
    "time.sleep(5)\n",
    "gdpr_button = driver.find_elements_by_id(\"gdpr-modal-agree\")\n",
    "gdpr_button[0].click()\n",
    "#click on the buttons showing details\n",
    "time.sleep(1)\n",
    "more_buttons = driver.find_elements_by_class_name(\"CompareCheckbox__TTContainer-tcuay8-0 cMeMsi\")\n",
    "print(len(more_buttons))\n",
    "# for x in range(len(more_buttons)):\n",
    "#   if more_buttons[x].is_displayed():\n",
    "#       driver.execute_script(\"arguments[0].click();\", more_buttons[x])\n",
    "#       print('done')\n",
    "#       time.sleep(1)\n",
    "# page_source = driver.page_source"
   ]
  },
  {
   "cell_type": "code",
   "execution_count": 28,
   "id": "dad104c6-fb3e-478f-bb36-19f6f60d51df",
   "metadata": {},
   "outputs": [
    {
     "name": "stdout",
     "output_type": "stream",
     "text": [
      "Audi\n"
     ]
    }
   ],
   "source": [
    "page_source = driver.page_source\n",
    "\n",
    "page = BeautifulSoup(page_source, 'html.parser')\n",
    "\n",
    "# Find the first <h1> element in the page\n",
    "heading = page.find('h1')\n",
    "\n",
    "# Print the text inside an HTML element\n",
    "print(heading.text)"
   ]
  },
  {
   "cell_type": "code",
   "execution_count": null,
   "id": "5175df46-9eb9-48a1-99c5-f1c6d71c0f8a",
   "metadata": {},
   "outputs": [],
   "source": []
  }
 ],
 "metadata": {
  "kernelspec": {
   "display_name": "Python 3",
   "language": "python",
   "name": "python3"
  },
  "language_info": {
   "codemirror_mode": {
    "name": "ipython",
    "version": 3
   },
   "file_extension": ".py",
   "mimetype": "text/x-python",
   "name": "python",
   "nbconvert_exporter": "python",
   "pygments_lexer": "ipython3",
   "version": "3.9.2"
  }
 },
 "nbformat": 4,
 "nbformat_minor": 5
}
