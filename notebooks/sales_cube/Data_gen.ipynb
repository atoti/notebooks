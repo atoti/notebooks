{
 "cells": [
  {
   "cell_type": "code",
   "execution_count": 1,
   "id": "8a5317f8-3b9b-4967-a351-850f5c66a9b3",
   "metadata": {},
   "outputs": [],
   "source": [
    "from faker import Faker\n",
    "fake = Faker()\n",
    "import datetime"
   ]
  },
  {
   "cell_type": "code",
   "execution_count": 2,
   "id": "c6fbfce3-cbae-4a43-b9e9-76cf1a5fdb6f",
   "metadata": {},
   "outputs": [],
   "source": [
    "import numpy as np"
   ]
  },
  {
   "cell_type": "markdown",
   "id": "11abc268-0ac8-490a-bbfc-15bdb4e21782",
   "metadata": {},
   "source": [
    "# generating car data"
   ]
  },
  {
   "cell_type": "code",
   "execution_count": 3,
   "id": "8e38fc16-5ab9-4995-90d1-02347b689bc9",
   "metadata": {},
   "outputs": [],
   "source": [
    "import itertools\n",
    "import random\n",
    "import pandas as pd\n",
    "import time"
   ]
  },
  {
   "cell_type": "code",
   "execution_count": 4,
   "id": "faee1ce6-b3cb-4d52-ac5c-b809dfee295d",
   "metadata": {},
   "outputs": [],
   "source": [
    "color_list = ['Red','Blue', 'White', 'Black', 'Gray', 'Silver', 'Lime', 'Aqua', 'Teal', 'Fuchsia', 'Navy']\n",
    "\n",
    "fuel_type = ['Gasoline', 'Diesel', 'Hybrid']\n",
    "transmission_type_list = ['Manual', 'Automatic', 'CVT']\n",
    "\n",
    "\n",
    "audi_body_type_list = ['Sportback', 'Coupe', 'Cabriolet', 'Sedan',  'Hatchback']\n",
    "merc_body_type_list = ['Sedan', 'Estate', 'SUV', 'Cabriolets', 'Roadsters', 'Coupe', 'Hatchback']\n",
    "bmw_body_type_list = ['Sedan','SAV', 'Bimmer','Cabriolets', 'Coupe', 'Hatchback']\n",
    "\n",
    "\n",
    "audi_models_list = ['A3', 'A4',  'A5',  'A6',  'A7',  'A8', 'eTron', 'Q3','Q5', 'Q7', 'Q8', 'R8', 'TT']\n",
    "\n",
    "merc_models_list =  ['A-Class',  'AMG GT',  'C-Class', ' CLA-Class',  'E / CLS-Class',  'G-Class',  \n",
    "                    'GL/GLS-Class', ' GLA-Class',  'GLB',  'GLC/GLK-Class',  'GLE-Class',  'Metris',  'S-Class', \n",
    "                    'SL-Class',' SLC-Class', 'Sprinter']\n",
    "\n",
    "bmw_models_list = ['2-Series', '3-Series', '4-Series', '5-Series', '6-Series',\n",
    "                    '7-Series', '8-Series','i3', 'i8', 'X1', 'X2' ,'X3', 'X4', 'X5', 'X6', 'X7', 'Z4']\n"
   ]
  },
  {
   "cell_type": "code",
   "execution_count": 5,
   "id": "81f6b711-fc2a-4eb9-ae16-7b3e7ea7d53c",
   "metadata": {},
   "outputs": [],
   "source": [
    "audi_list = [['Audi'],audi_models_list, audi_body_type_list,  transmission_type_list, fuel_type, color_list]\n",
    "bmw_list = [['BMW'],bmw_models_list, bmw_body_type_list,  transmission_type_list, fuel_type, color_list]\n",
    "merc_list = [['Mercedes-Benz'],merc_models_list, merc_body_type_list,  transmission_type_list, fuel_type, color_list]"
   ]
  },
  {
   "cell_type": "code",
   "execution_count": 6,
   "id": "dc5d76b7-bcf6-4790-88e8-2c60c81a4fbc",
   "metadata": {},
   "outputs": [],
   "source": [
    "# Q1_2018, Q2_2018, Q3_2018, Q4_2018, Q1_2019, Q2_2019, Q3_2019, Q4_2019, date_list, cust_id = ([] for i in range(4))\n",
    "\n",
    "car_list, date_list, cust_id = ([] for i in range(3))"
   ]
  },
  {
   "cell_type": "code",
   "execution_count": 7,
   "id": "7b061c9d-7e4f-434f-9bb0-308c0b6aebf2",
   "metadata": {},
   "outputs": [
    {
     "name": "stdout",
     "output_type": "stream",
     "text": [
      "Wall time: 3min 26s\n"
     ]
    }
   ],
   "source": [
    "%%time\n",
    "\n",
    "# Quarter 1 2018 sales\n",
    "\n",
    "for car, rep in zip([audi_list, bmw_list, merc_list], [50052,73835,86760]):\n",
    "        for i in range(rep):\n",
    "            car_list.append([random.choice(e) for e in car])\n",
    "            cust_id.append(fake.ean8())\n",
    "            date_list.append((fake.date_between_dates(date_start= datetime.date(2018, 1, 1), date_end = datetime.date(2018, 3, 31))))\n",
    "            \n",
    "\n",
    "# Quarter 2 2018 sales\n",
    "\n",
    "for car, rep in zip([audi_list, bmw_list, merc_list], [57890,79551,89098]):\n",
    "        for i in range(rep):\n",
    "            car_list.append([random.choice(e) for e in car])\n",
    "            cust_id.append(fake.ean8())\n",
    "            date_list.append((fake.date_between_dates(date_start= datetime.date(2018, 4, 1), date_end = datetime.date(2018, 6, 30))))\n",
    "\n",
    "# Quarter 3 2018 sales\n",
    "\n",
    "for car, rep in zip([audi_list, bmw_list, merc_list], [59478,71679,77656]):\n",
    "        for i in range(rep):\n",
    "            car_list.append([random.choice(e) for e in car])\n",
    "            cust_id.append(fake.ean8())\n",
    "            date_list.append((fake.date_between_dates(date_start= datetime.date(2018, 7, 1), date_end = datetime.date(2018, 9, 30))))\n",
    "            \n",
    "# Quarter 4 2018 sales\n",
    "\n",
    "for car, rep in zip([audi_list, bmw_list, merc_list], [55903,85949,100730]):\n",
    "        for i in range(rep):\n",
    "            car_list.append([random.choice(e) for e in car])\n",
    "            cust_id.append(fake.ean8())\n",
    "            date_list.append((fake.date_between_dates(date_start= datetime.date(2018, 10, 1), date_end = datetime.date(2018, 12, 31))))\n",
    "            \n",
    "# # --------------------2019 SALES-------------------\n",
    "\n",
    "\n",
    "# Quarter 1 2019 sales\n",
    "\n",
    "for car, rep in zip([audi_list, bmw_list, merc_list], [46115,73888,78647]):\n",
    "        for i in range(rep):\n",
    "            car_list.append([random.choice(e) for e in car])\n",
    "            cust_id.append(fake.ean8())\n",
    "            date_list.append((fake.date_between_dates(date_start= datetime.date(2019, 1, 1), date_end = datetime.date(2019, 3, 31))))\n",
    "            \n",
    "\n",
    "# Quarter 2 2019 sales\n",
    "\n",
    "for car, rep in zip([audi_list, bmw_list, merc_list], [53325,82552,74774]):\n",
    "        for i in range(rep):\n",
    "            car_list.append([random.choice(e) for e in car])\n",
    "            cust_id.append(fake.ean8())\n",
    "            date_list.append((fake.date_between_dates(date_start= datetime.date(2019, 4, 1), date_end = datetime.date(2019, 6, 30))))\n",
    "\n",
    "# Quarter 3 2019 sales\n",
    "\n",
    "for car, rep in zip([audi_list, bmw_list, merc_list], [57031,75987,89636]):\n",
    "        for i in range(rep):\n",
    "            car_list.append([random.choice(e) for e in car])\n",
    "            cust_id.append(fake.ean8())\n",
    "            date_list.append((fake.date_between_dates(date_start= datetime.date(2019, 7, 1), date_end = datetime.date(2019, 9, 30))))\n",
    "            \n",
    "# Quarter 4 2019 sales\n",
    "\n",
    "for car, rep in zip([audi_list, bmw_list, merc_list], [65640,92399,104672]):\n",
    "        for i in range(rep):\n",
    "            car_list.append([random.choice(e) for e in car])\n",
    "            cust_id.append(fake.ean8())\n",
    "            date_list.append((fake.date_between_dates(date_start= datetime.date(2019, 10, 1), date_end = datetime.date(2019, 12, 31))))"
   ]
  },
  {
   "cell_type": "code",
   "execution_count": 8,
   "id": "6fd44932-e279-446f-8bcb-0b3542544e94",
   "metadata": {},
   "outputs": [],
   "source": [
    "df = pd.DataFrame(car_list, columns = ['brand', 'model', 'body-type' ,'transmission', 'fuel', 'color'])\n",
    "df['date_of_purchase'] = date_list\n",
    "df['customer_id'] = cust_id\n",
    "\n",
    "df = df[['customer_id', 'brand', 'model', 'body-type' ,'transmission', 'fuel', 'color', 'date_of_purchase']]"
   ]
  },
  {
   "cell_type": "code",
   "execution_count": 9,
   "id": "0a6e2a06-2046-4055-9e49-37da5e8d3224",
   "metadata": {},
   "outputs": [],
   "source": [
    "df = df.drop_duplicates('customer_id')"
   ]
  },
  {
   "cell_type": "markdown",
   "id": "e72585cc-0f09-4ce8-b57a-65c2c0832763",
   "metadata": {},
   "source": [
    "### Add the car price"
   ]
  },
  {
   "cell_type": "code",
   "execution_count": 10,
   "id": "04babe4d-07db-48e8-805a-626a9d1fdc6b",
   "metadata": {},
   "outputs": [],
   "source": [
    "conditions = [\n",
    "    # -------Audi Cars---------\n",
    "    df['model'] == 'A3',\n",
    "    df['model'] == 'A4', \n",
    "    df['model'] == 'A5', \n",
    "    df['model'] == 'A6',  \n",
    "    df['model'] == 'A7',  \n",
    "    df['model'] == 'A8', \n",
    "    df['model'] == 'eTron', \n",
    "    df['model'] == 'Q3',\n",
    "    df['model'] == 'Q5',\n",
    "    df['model'] == 'Q7',\n",
    "    df['model'] == 'Q8',\n",
    "    df['model'] == 'R8', \n",
    "    df['model'] == 'TT',\n",
    "    # -------MERC Cars---------\n",
    "    df['model'] == 'A-Class',  \n",
    "    df['model'] == 'AMG GT', \n",
    "    df['model'] == 'C-Class', \n",
    "    df['model'] == ' CLA-Class',\n",
    "    df['model'] == 'E / CLS-Class', \n",
    "    df['model'] == 'G-Class',  \n",
    "    df['model'] == 'GL/GLS-Class', \n",
    "    df['model'] == ' GLA-Class',  \n",
    "    df['model'] == 'GLB',  \n",
    "    df['model'] == 'GLC/GLK-Class',\n",
    "    df['model'] == 'GLE-Class',  \n",
    "    df['model'] == 'Metris',  \n",
    "    df['model'] == 'S-Class', \n",
    "    df['model'] == 'SL-Class',\n",
    "    df['model'] == ' SLC-Class',\n",
    "    df['model'] == 'Sprinter', \n",
    "    # -------BMW Cars---------\n",
    "    df['model'] == '2-Series', \n",
    "    df['model'] == '3-Series', \n",
    "    df['model'] == '4-Series',\n",
    "    df['model'] == '5-Series',\n",
    "    df['model'] == '6-Series',\n",
    "    df['model'] ==  '7-Series', \n",
    "    df['model'] == '8-Series',\n",
    "    df['model'] == 'i3',\n",
    "    df['model'] == 'i8',\n",
    "    df['model'] == 'X1',\n",
    "    df['model'] == 'X2' ,\n",
    "    df['model'] == 'X3', \n",
    "    df['model'] == 'X4',\n",
    "    df['model'] == 'X5',\n",
    "    df['model'] == 'X6', \n",
    "    df['model'] == 'X7', \n",
    "    df['model'] == 'Z4'\n",
    "]"
   ]
  },
  {
   "cell_type": "code",
   "execution_count": 11,
   "id": "2fe900c7-e179-4b91-a539-e0c238f95d87",
   "metadata": {},
   "outputs": [],
   "source": [
    "outputs = [ \n",
    "     # -------Audi Cars---------\n",
    "    35750, 43020,45360, 55945,72880,87545, 69765, 37410, 44800, 59570, 73610, 187100, 50865,\n",
    "     # -------MERC Cars---------\n",
    "    90950, 87010, 54165, 82600, 176850, 77050, 41795, 45380, 70170, 63350, 31809, 173135, 66983, 68445, 73315, 41304, \n",
    "    # -------BMW Cars---------\n",
    "    37500, 41250, 45600, 54200, 85495, 157800, 88000, 45445, 164295, 40645, 41595,76095,58485, 92395, 87245, 85895, 50695  \n",
    "]"
   ]
  },
  {
   "cell_type": "code",
   "execution_count": 12,
   "id": "1bf580fd-1743-40c6-b198-f3cdbf34f83a",
   "metadata": {},
   "outputs": [
    {
     "data": {
      "text/plain": [
       "0           87545\n",
       "1           55945\n",
       "2           35750\n",
       "3          187100\n",
       "4           87545\n",
       "            ...  \n",
       "1633300    173135\n",
       "1633301     54165\n",
       "1633302     82600\n",
       "1633303     66983\n",
       "1633304     54165\n",
       "Length: 1633305, dtype: int32"
      ]
     },
     "execution_count": 12,
     "metadata": {},
     "output_type": "execute_result"
    }
   ],
   "source": [
    "res = np.select(conditions, outputs, 0)\n",
    "pd.Series(res)"
   ]
  },
  {
   "cell_type": "code",
   "execution_count": 13,
   "id": "945af3fc-3b7c-429c-bac8-9ffb1fa4b628",
   "metadata": {},
   "outputs": [],
   "source": [
    "df['price'] = res"
   ]
  },
  {
   "cell_type": "code",
   "execution_count": 14,
   "id": "0941af0f-a385-4f7c-bd03-9e1830f3e76d",
   "metadata": {},
   "outputs": [],
   "source": [
    "df = df.sample(frac=1).reset_index(drop=True)"
   ]
  },
  {
   "cell_type": "markdown",
   "id": "47c5ff74-cb35-4536-ad6e-79a39a5a349e",
   "metadata": {},
   "source": [
    "# create customer data"
   ]
  },
  {
   "cell_type": "code",
   "execution_count": 15,
   "id": "8a8abd33-8520-48e1-8cbf-fee13ab74561",
   "metadata": {},
   "outputs": [
    {
     "name": "stdout",
     "output_type": "stream",
     "text": [
      "Wall time: 39min 50s\n"
     ]
    }
   ],
   "source": [
    "%%time\n",
    "city, state, age, profile = ([] for i in range(4))\n",
    "\n",
    "#customer table\n",
    "Faker.seed(36)\n",
    "for _ in range(df.shape[0]):\n",
    "    # generating city name\n",
    "    city.append(fake.city())\n",
    "    state.append(fake.state())\n",
    "    #profession of the customer\n",
    "    profile.append(fake.profile(['sex','job']))\n",
    "    #age of the customer\n",
    "    age.append(random.randint(18,85))"
   ]
  },
  {
   "cell_type": "code",
   "execution_count": 16,
   "id": "49f93569-7103-4f72-aac5-75253e313294",
   "metadata": {},
   "outputs": [
    {
     "data": {
      "text/plain": [
       "1633305"
      ]
     },
     "execution_count": 16,
     "metadata": {},
     "output_type": "execute_result"
    }
   ],
   "source": [
    "len(age)"
   ]
  },
  {
   "cell_type": "code",
   "execution_count": 17,
   "id": "b669531f-a447-4b38-b06c-0bf246f31060",
   "metadata": {},
   "outputs": [],
   "source": [
    "cust_info = pd.DataFrame(profile)\n",
    "cust_info['age'] = age\n",
    "cust_info['city'] = city\n",
    "cust_info['state'] = state\n",
    "cust_info['customer_id'] = df['customer_id']\n",
    "cust_info = cust_info[['customer_id', 'sex', 'age', 'job', 'city', 'state']]"
   ]
  },
  {
   "cell_type": "code",
   "execution_count": 18,
   "id": "80e9d2ec-3f21-428e-90a5-093dae6cc2a9",
   "metadata": {},
   "outputs": [
    {
     "data": {
      "text/plain": [
       "customer_id         object\n",
       "brand               object\n",
       "model               object\n",
       "body-type           object\n",
       "transmission        object\n",
       "fuel                object\n",
       "color               object\n",
       "date_of_purchase    object\n",
       "price                int32\n",
       "dtype: object"
      ]
     },
     "execution_count": 18,
     "metadata": {},
     "output_type": "execute_result"
    }
   ],
   "source": [
    "df.dtypes"
   ]
  },
  {
   "cell_type": "code",
   "execution_count": 19,
   "id": "cfcb5d58-b598-4d46-b981-5fd2177cb2bf",
   "metadata": {},
   "outputs": [
    {
     "data": {
      "text/plain": [
       "customer_id    object\n",
       "sex            object\n",
       "age             int64\n",
       "job            object\n",
       "city           object\n",
       "state          object\n",
       "dtype: object"
      ]
     },
     "execution_count": 19,
     "metadata": {},
     "output_type": "execute_result"
    }
   ],
   "source": [
    "cust_info.dtypes"
   ]
  },
  {
   "cell_type": "code",
   "execution_count": 20,
   "id": "39d293e3-6019-4028-8a12-ac95c73205dc",
   "metadata": {},
   "outputs": [
    {
     "data": {
      "text/plain": [
       "(1633305, 6)"
      ]
     },
     "execution_count": 20,
     "metadata": {},
     "output_type": "execute_result"
    }
   ],
   "source": [
    "cust_info.shape"
   ]
  },
  {
   "cell_type": "code",
   "execution_count": 21,
   "id": "504644be-32a0-4497-a9c0-c08965e9488e",
   "metadata": {},
   "outputs": [
    {
     "data": {
      "text/plain": [
       "(1633305, 9)"
      ]
     },
     "execution_count": 21,
     "metadata": {},
     "output_type": "execute_result"
    }
   ],
   "source": [
    "df.shape"
   ]
  },
  {
   "cell_type": "code",
   "execution_count": 22,
   "id": "a30cb92b-4df4-4807-9986-201783ce6279",
   "metadata": {},
   "outputs": [
    {
     "data": {
      "text/html": [
       "<div>\n",
       "<style scoped>\n",
       "    .dataframe tbody tr th:only-of-type {\n",
       "        vertical-align: middle;\n",
       "    }\n",
       "\n",
       "    .dataframe tbody tr th {\n",
       "        vertical-align: top;\n",
       "    }\n",
       "\n",
       "    .dataframe thead th {\n",
       "        text-align: right;\n",
       "    }\n",
       "</style>\n",
       "<table border=\"1\" class=\"dataframe\">\n",
       "  <thead>\n",
       "    <tr style=\"text-align: right;\">\n",
       "      <th></th>\n",
       "      <th>customer_id</th>\n",
       "      <th>sex</th>\n",
       "      <th>age</th>\n",
       "      <th>job</th>\n",
       "      <th>city</th>\n",
       "      <th>state</th>\n",
       "    </tr>\n",
       "  </thead>\n",
       "  <tbody>\n",
       "    <tr>\n",
       "      <th>0</th>\n",
       "      <td>80827757</td>\n",
       "      <td>F</td>\n",
       "      <td>77</td>\n",
       "      <td>Careers information officer</td>\n",
       "      <td>Briantown</td>\n",
       "      <td>Maine</td>\n",
       "    </tr>\n",
       "    <tr>\n",
       "      <th>1</th>\n",
       "      <td>33384689</td>\n",
       "      <td>M</td>\n",
       "      <td>67</td>\n",
       "      <td>Sound technician, broadcasting/film/video</td>\n",
       "      <td>Susanberg</td>\n",
       "      <td>Idaho</td>\n",
       "    </tr>\n",
       "    <tr>\n",
       "      <th>2</th>\n",
       "      <td>73752684</td>\n",
       "      <td>M</td>\n",
       "      <td>19</td>\n",
       "      <td>Commercial art gallery manager</td>\n",
       "      <td>Savannahberg</td>\n",
       "      <td>Utah</td>\n",
       "    </tr>\n",
       "    <tr>\n",
       "      <th>3</th>\n",
       "      <td>70937572</td>\n",
       "      <td>M</td>\n",
       "      <td>64</td>\n",
       "      <td>Planning and development surveyor</td>\n",
       "      <td>Lake Nicholasmouth</td>\n",
       "      <td>Idaho</td>\n",
       "    </tr>\n",
       "    <tr>\n",
       "      <th>4</th>\n",
       "      <td>08257192</td>\n",
       "      <td>M</td>\n",
       "      <td>83</td>\n",
       "      <td>Nurse, adult</td>\n",
       "      <td>New Eugenefort</td>\n",
       "      <td>Texas</td>\n",
       "    </tr>\n",
       "  </tbody>\n",
       "</table>\n",
       "</div>"
      ],
      "text/plain": [
       "  customer_id sex  age                                        job  \\\n",
       "0    80827757   F   77                Careers information officer   \n",
       "1    33384689   M   67  Sound technician, broadcasting/film/video   \n",
       "2    73752684   M   19             Commercial art gallery manager   \n",
       "3    70937572   M   64          Planning and development surveyor   \n",
       "4    08257192   M   83                               Nurse, adult   \n",
       "\n",
       "                 city  state  \n",
       "0           Briantown  Maine  \n",
       "1           Susanberg  Idaho  \n",
       "2        Savannahberg   Utah  \n",
       "3  Lake Nicholasmouth  Idaho  \n",
       "4      New Eugenefort  Texas  "
      ]
     },
     "execution_count": 22,
     "metadata": {},
     "output_type": "execute_result"
    }
   ],
   "source": [
    "cust_info.head()"
   ]
  },
  {
   "cell_type": "code",
   "execution_count": 23,
   "id": "e3cefa0f-96e7-491f-a43a-6e94b255e76a",
   "metadata": {},
   "outputs": [
    {
     "data": {
      "text/html": [
       "<div>\n",
       "<style scoped>\n",
       "    .dataframe tbody tr th:only-of-type {\n",
       "        vertical-align: middle;\n",
       "    }\n",
       "\n",
       "    .dataframe tbody tr th {\n",
       "        vertical-align: top;\n",
       "    }\n",
       "\n",
       "    .dataframe thead th {\n",
       "        text-align: right;\n",
       "    }\n",
       "</style>\n",
       "<table border=\"1\" class=\"dataframe\">\n",
       "  <thead>\n",
       "    <tr style=\"text-align: right;\">\n",
       "      <th></th>\n",
       "      <th>customer_id</th>\n",
       "      <th>brand</th>\n",
       "      <th>model</th>\n",
       "      <th>body-type</th>\n",
       "      <th>transmission</th>\n",
       "      <th>fuel</th>\n",
       "      <th>color</th>\n",
       "      <th>date_of_purchase</th>\n",
       "      <th>price</th>\n",
       "    </tr>\n",
       "  </thead>\n",
       "  <tbody>\n",
       "    <tr>\n",
       "      <th>0</th>\n",
       "      <td>80827757</td>\n",
       "      <td>BMW</td>\n",
       "      <td>X7</td>\n",
       "      <td>Sedan</td>\n",
       "      <td>CVT</td>\n",
       "      <td>Hybrid</td>\n",
       "      <td>Blue</td>\n",
       "      <td>2018-04-30</td>\n",
       "      <td>85895</td>\n",
       "    </tr>\n",
       "    <tr>\n",
       "      <th>1</th>\n",
       "      <td>33384689</td>\n",
       "      <td>BMW</td>\n",
       "      <td>X4</td>\n",
       "      <td>Hatchback</td>\n",
       "      <td>Automatic</td>\n",
       "      <td>Gasoline</td>\n",
       "      <td>Lime</td>\n",
       "      <td>2019-05-07</td>\n",
       "      <td>58485</td>\n",
       "    </tr>\n",
       "    <tr>\n",
       "      <th>2</th>\n",
       "      <td>73752684</td>\n",
       "      <td>BMW</td>\n",
       "      <td>6-Series</td>\n",
       "      <td>SAV</td>\n",
       "      <td>Automatic</td>\n",
       "      <td>Gasoline</td>\n",
       "      <td>White</td>\n",
       "      <td>2018-09-19</td>\n",
       "      <td>85495</td>\n",
       "    </tr>\n",
       "    <tr>\n",
       "      <th>3</th>\n",
       "      <td>70937572</td>\n",
       "      <td>Mercedes-Benz</td>\n",
       "      <td>GLC/GLK-Class</td>\n",
       "      <td>Roadsters</td>\n",
       "      <td>Manual</td>\n",
       "      <td>Gasoline</td>\n",
       "      <td>White</td>\n",
       "      <td>2019-04-27</td>\n",
       "      <td>63350</td>\n",
       "    </tr>\n",
       "    <tr>\n",
       "      <th>4</th>\n",
       "      <td>08257192</td>\n",
       "      <td>BMW</td>\n",
       "      <td>7-Series</td>\n",
       "      <td>Cabriolets</td>\n",
       "      <td>Automatic</td>\n",
       "      <td>Gasoline</td>\n",
       "      <td>Navy</td>\n",
       "      <td>2018-12-27</td>\n",
       "      <td>157800</td>\n",
       "    </tr>\n",
       "  </tbody>\n",
       "</table>\n",
       "</div>"
      ],
      "text/plain": [
       "  customer_id          brand          model   body-type transmission  \\\n",
       "0    80827757            BMW             X7       Sedan          CVT   \n",
       "1    33384689            BMW             X4   Hatchback    Automatic   \n",
       "2    73752684            BMW       6-Series         SAV    Automatic   \n",
       "3    70937572  Mercedes-Benz  GLC/GLK-Class   Roadsters       Manual   \n",
       "4    08257192            BMW       7-Series  Cabriolets    Automatic   \n",
       "\n",
       "       fuel  color date_of_purchase   price  \n",
       "0    Hybrid   Blue       2018-04-30   85895  \n",
       "1  Gasoline   Lime       2019-05-07   58485  \n",
       "2  Gasoline  White       2018-09-19   85495  \n",
       "3  Gasoline  White       2019-04-27   63350  \n",
       "4  Gasoline   Navy       2018-12-27  157800  "
      ]
     },
     "execution_count": 23,
     "metadata": {},
     "output_type": "execute_result"
    }
   ],
   "source": [
    "df.head()"
   ]
  },
  {
   "cell_type": "code",
   "execution_count": 24,
   "id": "2cb7b6a3-6781-45e0-af9a-ff054925e0e6",
   "metadata": {},
   "outputs": [],
   "source": [
    "cust_info.to_csv('./cust_info2.csv', index = False)"
   ]
  },
  {
   "cell_type": "code",
   "execution_count": 25,
   "id": "21bb7a7d-c3cf-45e8-8c71-dc9c851754cc",
   "metadata": {},
   "outputs": [],
   "source": [
    "df.to_csv('./cars_us2.csv', index = False)"
   ]
  },
  {
   "cell_type": "code",
   "execution_count": null,
   "id": "ff96b395-851d-4dd8-a000-274253e3fa16",
   "metadata": {},
   "outputs": [],
   "source": []
  }
 ],
 "metadata": {
  "kernelspec": {
   "display_name": "Python 3",
   "language": "python",
   "name": "python3"
  },
  "language_info": {
   "codemirror_mode": {
    "name": "ipython",
    "version": 3
   },
   "file_extension": ".py",
   "mimetype": "text/x-python",
   "name": "python",
   "nbconvert_exporter": "python",
   "pygments_lexer": "ipython3",
   "version": "3.9.2"
  }
 },
 "nbformat": 4,
 "nbformat_minor": 5
}
