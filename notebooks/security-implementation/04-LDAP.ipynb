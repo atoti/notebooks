{
 "cells": [
  {
   "cell_type": "markdown",
   "id": "6f116c04-b884-4002-ba9c-14aacf434cc5",
   "metadata": {},
   "source": [
    "# Securing an atoti session with LDAP\n",
    "\n",
    "Securing a session comes in two parts:\n",
    "1. Implementing authentication mechanism to secure access to the session\n",
    "2. Restricting access of modules or data access by users based on the roles granted\n",
    "\n",
    "With the [Atoti+ plugin](https://docs.atoti.io/latest/atoti_plus.html), atoti supports multiple [authentication mechanisms](https://docs.atoti.io/latest/lib/atoti/atoti.config.authentication.html) to cater to the needs of our end users. This notebook demonstrates how we connect to a [LDAP](https://en.wikipedia.org/wiki/Lightweight_Directory_Access_Protocol) server to implement security over atoti web application.\n",
    "\n",
    "We will explore security with Atoti+ using the [Top 50 Fast Food](https://www.kaggle.com/datasets/stetsondone/top50fastfood) dataset from Kaggle, combined with its parent company information sourced from the internet.  \n",
    "\n",
    "Check out [atoti documentation](https://docs.atoti.io) to read more on [securing the session](https://docs.atoti.io/latest/how_tos/security/secure_a_session.html#Configuring-the-authentication-mechanism).  "
   ]
  },
  {
   "cell_type": "markdown",
   "id": "04c76973-922a-4c96-9130-16d3d1041148",
   "metadata": {},
   "source": [
    "<div style=\"text-align: center;\" ><a href=\"https://www.atoti.io/?utm_source=gallery&utm_content=ldap\" target=\"_blank\" rel=\"noopener noreferrer\"><img src=\"https://data.atoti.io/notebooks/banners/discover.png\" alt=\"Try atoti\"></a></div>"
   ]
  },
  {
   "cell_type": "code",
   "execution_count": 1,
   "id": "68ad57e0-9bee-4d84-9e72-11947dd46a8c",
   "metadata": {},
   "outputs": [],
   "source": [
    "import atoti as tt"
   ]
  },
  {
   "cell_type": "markdown",
   "id": "c7753688-efe6-485f-bdc3-4dcb5f7a4bc7",
   "metadata": {
    "tags": []
   },
   "source": [
    "## 1. Authentication setup in atoti  "
   ]
  },
  {
   "cell_type": "markdown",
   "id": "4faaebfa-9941-4448-bb93-137b65a36871",
   "metadata": {},
   "source": [
    "We demonstrate below how we configure the authentication parameter of [`atoti.Session`](https://docs.atoti.io/latest/lib/atoti/atoti.session.html#atoti.Session.__init__) to connect to a LDAP authentication provider.  \n",
    "\n",
    "In our example, we used the [Apache DS](https://directory.apache.org/apacheds/) to configure our LDAP server.\n",
    "\n",
    "<img src=\"https://data.atoti.io/notebooks/security/img/ldap-setup.png\" width=\"70%\" />  \n",
    "\n",
    "Use `user_search_base` to search the group where the user id (UID) resides under.  \n",
    "Use `group_search_base` to search the group where the common names (CN) resides under.  \n",
    "\n",
    "\n",
    "__All users should have the role equivalent to `ROLE_USER` to be able to access atoti web application.__"
   ]
  },
  {
   "cell_type": "code",
   "execution_count": 2,
   "id": "90baca19-4c9e-4f88-846d-7bb5b4d7abc7",
   "metadata": {},
   "outputs": [],
   "source": [
    "authentication = tt.LdapConfig(\n",
    "    url=\"ldap://localhost:10389\",\n",
    "    base_dn=\"dc=example,dc=com\",\n",
    "    user_search_base=\"ou=people\",\n",
    "    group_search_base=\"ou=roles\",\n",
    ")"
   ]
  },
  {
   "cell_type": "markdown",
   "id": "f7ca04be-e779-407c-af28-3352599e2f61",
   "metadata": {},
   "source": [
    "### 1.2. Session instantiation with authentication "
   ]
  },
  {
   "cell_type": "code",
   "execution_count": 3,
   "id": "69fe16a1-25ab-4477-b656-817a3e435492",
   "metadata": {},
   "outputs": [],
   "source": [
    "session = tt.Session(authentication=authentication, user_content_storage=\"./content\")"
   ]
  },
  {
   "cell_type": "markdown",
   "id": "391a6ed4-2a1f-4d40-8644-aea75ff2daa2",
   "metadata": {},
   "source": [
    "## 2. Roles management in atoti"
   ]
  },
  {
   "cell_type": "markdown",
   "id": "e50f7fbd-3cf8-44e1-a6c1-fa853f256730",
   "metadata": {},
   "source": [
    "### 2.1. atoti reserved roles  \n",
    "\n",
    "The below roles are reserved in atoti and should not be altered by users:\n",
    "- ROLE_ADMIN: able to access all objects in the web application\n",
    "- ROLE_USER: able to access all data by default. Access to objects such as dashboards, folders, widgets etc is only upon sharing access granted to role.\n",
    "- ROLE_SHARE: able to share objects such as dashboards, folders, widgets and filters.  \n",
    "\n",
    "__All users, including the administrator, require the role *ROLE\\_USER* to be able to access the atoti web application.__\n",
    "\n",
    "Let's assume both users, *atoti\\_admin* and *atoti\\_user*, have been granted the role __ROLE_USER__ and *atoti\\_admin* is also granted the role __ROLE_ADMIN__.  \n",
    "While both *atoti\\_admin* and *atoti\\_user* are able to access all data, *atoti\\_admin* is able to access all objects such as folders and dashboards.  \n",
    "*atoti\\_user* is able to access only the objects created by the user him/herself. Objects created by other users can only be access upon shared access granted.  \n",
    "\n",
    "Both *atoti\\_admin* and *atoti\\_user* will not be able to share objects (via the \"Share\" icon as shown below) unless granted the role __ROLE_SHARE__.  \n",
    "\n",
    "<img src=\"https://data.atoti.io/notebooks/security/img/sharing.png\" width=\"70%\"/>"
   ]
  },
  {
   "cell_type": "markdown",
   "id": "b1f82a40-67f6-45a7-aa53-cb90eb18326d",
   "metadata": {},
   "source": [
    "### 2.2. Role creation with restrictions  "
   ]
  },
  {
   "cell_type": "markdown",
   "id": "2bdd4c54-0bd4-4613-992e-8ebd595dbb2a",
   "metadata": {},
   "source": [
    "Data restriction is based on users' requirement. In our use case, we assumed two groups of users with data access limited to those of their parent company:\n",
    "- users belonging to parent company _Inspire Brands_\n",
    "- users belonging to parent company _Restaurant Brands International Inc._\n",
    "\n",
    "Therefore, we will create two roles to apply the restrictions based on the values of the `parent_company` hierarchy.  \n",
    "\n",
    "__NOTE:__  \n",
    "- We can skip role creation if there are no restrictions imposed on the role. \n",
    "- The value provided under the restrictions is cap-sensitive."
   ]
  },
  {
   "cell_type": "code",
   "execution_count": 4,
   "id": "f716fbe1-03ae-4bac-a068-355cf1d75e10",
   "metadata": {},
   "outputs": [],
   "source": [
    "role_inspire = session.security.create_role(\n",
    "    \"ATOTI_ROLE_INSPIRE\", restrictions={\"parent_company\": [\"Inspire Brands\"]}\n",
    ")\n",
    "\n",
    "role_restaurant = session.security.create_role(\n",
    "    \"ATOTI_ROLE_RESTAURANT\",\n",
    "    restrictions={\"parent_company\": [\"Restaurant Brands International Inc.\"]},\n",
    ")"
   ]
  },
  {
   "cell_type": "markdown",
   "id": "0a73586f-a4ba-4c68-b508-ed5e9ec3640b",
   "metadata": {},
   "source": [
    "#### 2.2.1. Restricted access from combination of roles\n",
    "\n",
    "Multiple roles can be assigned to the same user. To demonstrate how the access will change when this happens, we create some other roles that restrict data access by the restaurant category, i.e. hierarchy `category`."
   ]
  },
  {
   "cell_type": "code",
   "execution_count": 5,
   "id": "e39094bc-cade-4ba2-bf33-2bfe3768bd34",
   "metadata": {},
   "outputs": [],
   "source": [
    "role_team_burger = session.security.create_role(\n",
    "    \"ATOTI_ROLE_BURGER\", restrictions={\"category\": [\"burger\"]}\n",
    ")\n",
    "\n",
    "role_team_sandwich = session.security.create_role(\n",
    "    \"ATOTI_ROLE_SANDWICH\", restrictions={\"category\": [\"sandwich\"]}\n",
    ")\n",
    "\n",
    "role_team_snack = session.security.create_role(\n",
    "    \"ATOTI_ROLE_SNACK\", restrictions={\"category\": [\"snack\"]}\n",
    ")"
   ]
  },
  {
   "cell_type": "markdown",
   "id": "7c11cde3-7873-4383-ad2f-ed6138fdc9b7",
   "metadata": {},
   "source": [
    "When combined with the restricted role on the `parent_company`, user's access will be further restricted to based on the restriction of the added role.  \n",
    "\n",
    "For instance, users who are assigned the role __ATOTI_ROLE_BURGER__ will be able to access all the data under _burger_ category restaurants, regardless of the parent companies.  \n",
    "\n",
    "However, when the same user is also granted the role __ATOTI_ROLE_INSPIRE__, then the user can only access data of restaurants under parent company _Inspire Brands_ that is of category _burger_. "
   ]
  },
  {
   "cell_type": "markdown",
   "id": "21863f1f-c442-4845-8cde-5500445ecb4b",
   "metadata": {},
   "source": [
    "### 2.3. Role assignment in atoti"
   ]
  },
  {
   "cell_type": "markdown",
   "id": "fc810231-4ede-466f-a0d9-923c3784c740",
   "metadata": {},
   "source": [
    "#### 2.3.1. Assign default roles to authenticated users"
   ]
  },
  {
   "cell_type": "markdown",
   "id": "bb9ffb06-86f1-40a3-af6f-361d75158e61",
   "metadata": {},
   "source": [
    "We could default the roles such as __ROLE_USER__ and __ROLE_SHARE__ for all users who are logged in successfully. "
   ]
  },
  {
   "cell_type": "code",
   "execution_count": 6,
   "id": "ac50f14d-757e-40eb-b7e9-f22dbe60d654",
   "metadata": {},
   "outputs": [],
   "source": [
    "session.security.ldap.default_roles.update([\"ROLE_USER\", \"ROLE_SHARE\"])"
   ]
  },
  {
   "cell_type": "markdown",
   "id": "05c2c9c7-0dd3-4ec4-ad7b-436be9dfb4ec",
   "metadata": {},
   "source": [
    "#### 2.3.2. Map roles between Authentication Provider and atoti"
   ]
  },
  {
   "cell_type": "markdown",
   "id": "2cfe25b6-ed22-42fe-85ea-8f6be4cdf7ab",
   "metadata": {},
   "source": [
    "The names in the authentication provider can be different from those in atoti.  \n",
    "Roles are assigned to users in the authentication provider and associated to the atoti roles in the `role_mapping` below.  \n",
    "\n",
    "Be mindful that regardless of the name used in LDAP, we have to __uppercase the LDAP role name__ in the mapping."
   ]
  },
  {
   "cell_type": "code",
   "execution_count": 7,
   "id": "81281da0-105f-4755-8088-5802e18c1a0f",
   "metadata": {},
   "outputs": [],
   "source": [
    "session.security.ldap.role_mapping.update(\n",
    "    {\n",
    "        # atoti reserved roles\n",
    "        \"ROLE_ATOTI_ADMIN\": [\"ROLE_ADMIN\"],\n",
    "        \"ROLE_ATOTI_USER\": [\"ROLE_USER\"],\n",
    "        \"ROLE_ATOTI_SHARE\": [\"ROLE_SHARE\"],\n",
    "        # user-defined roles\n",
    "        \"ROLE_INSPIRE\": [role_inspire.name],\n",
    "        \"ROLE_RESTAURANT\": [role_restaurant.name],\n",
    "        \"ROLE_BURGER\": [role_team_burger.name],\n",
    "        \"ROLE_SANDWICH\": [role_team_sandwich.name],\n",
    "        \"ROLE_SNACK\": [role_team_snack.name],\n",
    "    }\n",
    ")"
   ]
  },
  {
   "cell_type": "markdown",
   "id": "7bb013cc-4e32-4a3e-a3d2-c5d959293542",
   "metadata": {},
   "source": [
    "While a role from the authentication provider can be mapped to multiple atoti roles, it is easier to modify user's access by updating the roles in the authentication provider. It is a design consideration whether to have a one-to-one role map or to grant multiple atoti roles to an authentication provider role.  \n",
    "\n",
    "E.g. The mapping `\"ROLE_ATOTI_USER\": [\"ROLE_USER\", \"ROLE_SHARE\"]` meant that all the users with __atoti user__ role assigned will be able to do sharing.  \n",
    "Alternatively, it could be implemented in LDAP as shown below, where individual users are granted the roles __ROLE_ATOTI_USER__ and __ROLE_SHARE__.  \n",
    "\n",
    "<img src=\"https://data.atoti.io/notebooks/security/img/LDAP_roles_stacking.png\" width=\"70%\" />\n"
   ]
  },
  {
   "cell_type": "markdown",
   "id": "fdd65e4e-1c76-4cc8-8d02-aadeec9341cc",
   "metadata": {},
   "source": [
    "## 3. Convergent with atoti Community Edition\n",
    "\n",
    "We can now proceed with the usual data loading into atoti table, cube and measures creation. \n",
    "\n",
    "### 3.1. Data loading"
   ]
  },
  {
   "cell_type": "code",
   "execution_count": 8,
   "id": "8da77b0f-894f-4acd-ab5d-8fd757600713",
   "metadata": {},
   "outputs": [
    {
     "data": {
      "text/html": [
       "<div>\n",
       "<style scoped>\n",
       "    .dataframe tbody tr th:only-of-type {\n",
       "        vertical-align: middle;\n",
       "    }\n",
       "\n",
       "    .dataframe tbody tr th {\n",
       "        vertical-align: top;\n",
       "    }\n",
       "\n",
       "    .dataframe thead th {\n",
       "        text-align: right;\n",
       "    }\n",
       "</style>\n",
       "<table border=\"1\" class=\"dataframe\">\n",
       "  <thead>\n",
       "    <tr style=\"text-align: right;\">\n",
       "      <th></th>\n",
       "      <th></th>\n",
       "      <th>name</th>\n",
       "    </tr>\n",
       "    <tr>\n",
       "      <th>parent_company</th>\n",
       "      <th>company</th>\n",
       "      <th></th>\n",
       "    </tr>\n",
       "  </thead>\n",
       "  <tbody>\n",
       "    <tr>\n",
       "      <th>Inspire Brands</th>\n",
       "      <th>arbys</th>\n",
       "      <td>Arby's</td>\n",
       "    </tr>\n",
       "    <tr>\n",
       "      <th>Focus Brands</th>\n",
       "      <th>auntie_annes</th>\n",
       "      <td>Auntie Anne's</td>\n",
       "    </tr>\n",
       "    <tr>\n",
       "      <th>Inspire Brands</th>\n",
       "      <th>baskin_robbins</th>\n",
       "      <td>Baskin-Robbins</td>\n",
       "    </tr>\n",
       "    <tr>\n",
       "      <th>Jordan Company</th>\n",
       "      <th>bojangles</th>\n",
       "      <td>Bojangles</td>\n",
       "    </tr>\n",
       "    <tr>\n",
       "      <th>Durational Capital Management</th>\n",
       "      <th>bojangles</th>\n",
       "      <td>Bojangles</td>\n",
       "    </tr>\n",
       "  </tbody>\n",
       "</table>\n",
       "</div>"
      ],
      "text/plain": [
       "                                                        name\n",
       "parent_company                company                       \n",
       "Inspire Brands                arbys                   Arby's\n",
       "Focus Brands                  auntie_annes     Auntie Anne's\n",
       "Inspire Brands                baskin_robbins  Baskin-Robbins\n",
       "Jordan Company                bojangles            Bojangles\n",
       "Durational Capital Management bojangles            Bojangles"
      ]
     },
     "execution_count": 8,
     "metadata": {},
     "output_type": "execute_result"
    }
   ],
   "source": [
    "base_tbl = session.read_csv(\n",
    "    \"s3://data.atoti.io/notebooks/security/data/parent_co.csv\",\n",
    "    table_name=\"parent_co\",\n",
    "    keys=[\"company\", \"parent_company\"],\n",
    "    process_quotes=True,\n",
    ")\n",
    "base_tbl.head()"
   ]
  },
  {
   "cell_type": "code",
   "execution_count": 9,
   "id": "517a8223-f9d3-46a7-8b95-1fe5e7344a95",
   "metadata": {},
   "outputs": [
    {
     "data": {
      "text/html": [
       "<div>\n",
       "<style scoped>\n",
       "    .dataframe tbody tr th:only-of-type {\n",
       "        vertical-align: middle;\n",
       "    }\n",
       "\n",
       "    .dataframe tbody tr th {\n",
       "        vertical-align: top;\n",
       "    }\n",
       "\n",
       "    .dataframe thead th {\n",
       "        text-align: right;\n",
       "    }\n",
       "</style>\n",
       "<table border=\"1\" class=\"dataframe\">\n",
       "  <thead>\n",
       "    <tr style=\"text-align: right;\">\n",
       "      <th></th>\n",
       "      <th>category</th>\n",
       "      <th>sales_in_millions_2019</th>\n",
       "      <th>sales_per_unit_thousands_2019</th>\n",
       "      <th>franchised_units_2019</th>\n",
       "      <th>company_owned_units_2019</th>\n",
       "      <th>total_units_2019</th>\n",
       "      <th>unit_change_from_2018</th>\n",
       "    </tr>\n",
       "    <tr>\n",
       "      <th>company</th>\n",
       "      <th></th>\n",
       "      <th></th>\n",
       "      <th></th>\n",
       "      <th></th>\n",
       "      <th></th>\n",
       "      <th></th>\n",
       "      <th></th>\n",
       "    </tr>\n",
       "  </thead>\n",
       "  <tbody>\n",
       "    <tr>\n",
       "      <th>mcdonalds</th>\n",
       "      <td>burger</td>\n",
       "      <td>40413</td>\n",
       "      <td>2912</td>\n",
       "      <td>13154</td>\n",
       "      <td>692</td>\n",
       "      <td>13846</td>\n",
       "      <td>-66</td>\n",
       "    </tr>\n",
       "    <tr>\n",
       "      <th>starbucks</th>\n",
       "      <td>snack</td>\n",
       "      <td>21550</td>\n",
       "      <td>1454</td>\n",
       "      <td>6768</td>\n",
       "      <td>8273</td>\n",
       "      <td>15041</td>\n",
       "      <td>216</td>\n",
       "    </tr>\n",
       "    <tr>\n",
       "      <th>chick_fil_a</th>\n",
       "      <td>chicken</td>\n",
       "      <td>11000</td>\n",
       "      <td>4517</td>\n",
       "      <td>2500</td>\n",
       "      <td>0</td>\n",
       "      <td>2500</td>\n",
       "      <td>130</td>\n",
       "    </tr>\n",
       "    <tr>\n",
       "      <th>taco_bell</th>\n",
       "      <td>global</td>\n",
       "      <td>11000</td>\n",
       "      <td>1502</td>\n",
       "      <td>6622</td>\n",
       "      <td>467</td>\n",
       "      <td>7089</td>\n",
       "      <td>181</td>\n",
       "    </tr>\n",
       "    <tr>\n",
       "      <th>burger_king</th>\n",
       "      <td>burger</td>\n",
       "      <td>10300</td>\n",
       "      <td>1399</td>\n",
       "      <td>7294</td>\n",
       "      <td>52</td>\n",
       "      <td>7346</td>\n",
       "      <td>16</td>\n",
       "    </tr>\n",
       "  </tbody>\n",
       "</table>\n",
       "</div>"
      ],
      "text/plain": [
       "            category  sales_in_millions_2019  sales_per_unit_thousands_2019  \\\n",
       "company                                                                       \n",
       "mcdonalds     burger                   40413                           2912   \n",
       "starbucks      snack                   21550                           1454   \n",
       "chick_fil_a  chicken                   11000                           4517   \n",
       "taco_bell     global                   11000                           1502   \n",
       "burger_king   burger                   10300                           1399   \n",
       "\n",
       "             franchised_units_2019  company_owned_units_2019  \\\n",
       "company                                                        \n",
       "mcdonalds                    13154                       692   \n",
       "starbucks                     6768                      8273   \n",
       "chick_fil_a                   2500                         0   \n",
       "taco_bell                     6622                       467   \n",
       "burger_king                   7294                        52   \n",
       "\n",
       "             total_units_2019  unit_change_from_2018  \n",
       "company                                               \n",
       "mcdonalds               13846                    -66  \n",
       "starbucks               15041                    216  \n",
       "chick_fil_a              2500                    130  \n",
       "taco_bell                7089                    181  \n",
       "burger_king              7346                     16  "
      ]
     },
     "execution_count": 9,
     "metadata": {},
     "output_type": "execute_result"
    }
   ],
   "source": [
    "enrichment_tbl = session.read_csv(\n",
    "    \"s3://data.atoti.io/notebooks/security/data/top_50_fast_food_US.csv\",\n",
    "    table_name=\"top_50\",\n",
    "    keys=[\"company\"],\n",
    ")\n",
    "enrichment_tbl.head()"
   ]
  },
  {
   "cell_type": "code",
   "execution_count": 10,
   "id": "f3590c32-b2e7-4967-bf24-94b7df76507b",
   "metadata": {},
   "outputs": [],
   "source": [
    "base_tbl.join(enrichment_tbl)"
   ]
  },
  {
   "cell_type": "markdown",
   "id": "ab8d9320-7167-41c9-8814-7f5986eaad4b",
   "metadata": {},
   "source": [
    "### 3.2. Cube creation"
   ]
  },
  {
   "cell_type": "code",
   "execution_count": 11,
   "id": "2df2cd6e-5fee-4733-b69f-0618f467dbef",
   "metadata": {},
   "outputs": [],
   "source": [
    "cube = session.create_cube(base_tbl, \"Fast food analysis\")"
   ]
  },
  {
   "cell_type": "markdown",
   "id": "bdf41a84-3741-48b1-ab8b-3680432e0919",
   "metadata": {},
   "source": [
    "### 3.3 Measures creation"
   ]
  },
  {
   "cell_type": "code",
   "execution_count": 12,
   "id": "0bd38e94-2694-48ec-9a39-3108d03882e4",
   "metadata": {},
   "outputs": [],
   "source": [
    "h, l, m = cube.hierarchies, cube.levels, cube.measures"
   ]
  },
  {
   "cell_type": "code",
   "execution_count": 13,
   "id": "004f7946-a97c-4b97-850c-4001bda40d1d",
   "metadata": {},
   "outputs": [],
   "source": [
    "m[\"sales_in_millions\"] = tt.agg.sum(enrichment_tbl[\"sales_in_millions_2019\"])\n",
    "m[\"sales_per_unit_thousands\"] = tt.agg.sum(\n",
    "    enrichment_tbl[\"sales_per_unit_thousands_2019\"]\n",
    ")\n",
    "m[\"franchised_units\"] = tt.agg.sum(enrichment_tbl[\"franchised_units_2019\"])\n",
    "m[\"company_owned_units\"] = tt.agg.sum(enrichment_tbl[\"company_owned_units_2019\"])\n",
    "m[\"total_units\"] = tt.agg.sum(enrichment_tbl[\"total_units_2019\"])\n",
    "m[\"unit_change_from_2018\"] = tt.agg.sum(enrichment_tbl[\"unit_change_from_2018\"])"
   ]
  },
  {
   "cell_type": "code",
   "execution_count": 14,
   "id": "f79426db-eca1-42a9-a7e3-12acb7cf59b3",
   "metadata": {},
   "outputs": [],
   "source": [
    "m[\"% franchised\"] = m[\"franchised_units\"] / m[\"total_units\"]\n",
    "m[\"% franchised\"].formatter = \"DOUBLE[0.00%]\""
   ]
  },
  {
   "cell_type": "markdown",
   "id": "f7e262fe-4a45-4533-a999-822fb8fa6f7b",
   "metadata": {},
   "source": [
    "## 4. Test login and access management in web application"
   ]
  },
  {
   "cell_type": "markdown",
   "id": "1832972a-4888-49ae-9b0f-1bc47c047433",
   "metadata": {},
   "source": [
    "Try out any of these users:\n",
    "\n",
    "___Administrator___\n",
    "- atoti_admin\n",
    "\n",
    "___Generic user___\n",
    "- atoti_user\n",
    "\n",
    "___Inspire Brands users___\n",
    "- Inspire_user1 (Access for restaurants of category Burger only)\n",
    "- Inspire_user2 (Access for restaurants of category Sandwich and Snack only)\n",
    "- Inspire_manager\n",
    "\n",
    "___Restaurant Brands International LLC users___\n",
    "- Restaurant_user1 (Access for restaurants of category Burger only)\n",
    "- Restaurant_user2 (Access for restaurants of category Sandwich and Snack only)\n",
    "- Restaurant_manager"
   ]
  },
  {
   "cell_type": "code",
   "execution_count": 15,
   "id": "fbc19c1b-7f9e-4384-b468-c997364ff93f",
   "metadata": {},
   "outputs": [
    {
     "data": {
      "application/vnd.atoti.link.v0+json": {
       "path": "",
       "sessionLocation": {
        "https": null,
        "port": 50382
       }
      },
      "text/plain": [
       "Open the notebook in JupyterLab with the atoti extension enabled to see this link."
      ]
     },
     "execution_count": 15,
     "metadata": {},
     "output_type": "execute_result"
    }
   ],
   "source": [
    "session.link()"
   ]
  },
  {
   "cell_type": "markdown",
   "id": "20d37121-9a9d-413a-8559-eb9c4b5dc69d",
   "metadata": {},
   "source": [
    "<div style=\"text-align: center;\" ><a href=\"https://www.atoti.io/?utm_source=gallery&utm_content=ldap\" target=\"_blank\" rel=\"noopener noreferrer\"><img src=\"https://data.atoti.io/notebooks/banners/discover-try.png\" alt=\"Try atoti\"></a></div>"
   ]
  }
 ],
 "metadata": {
  "kernelspec": {
   "display_name": "Python 3 (ipykernel)",
   "language": "python",
   "name": "python3"
  },
  "language_info": {
   "codemirror_mode": {
    "name": "ipython",
    "version": 3
   },
   "file_extension": ".py",
   "mimetype": "text/x-python",
   "name": "python",
   "nbconvert_exporter": "python",
   "pygments_lexer": "ipython3",
   "version": "3.9.12"
  }
 },
 "nbformat": 4,
 "nbformat_minor": 5
}
