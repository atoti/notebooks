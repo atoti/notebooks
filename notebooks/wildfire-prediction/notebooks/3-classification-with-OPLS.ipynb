{
 "cells": [
  {
   "cell_type": "markdown",
   "id": "d34e8d53",
   "metadata": {},
   "source": [
    "# Classification of the Fire Using OPLS-DA\n",
    "\n",
    "#### In this notebook, we use statistical learning for modeling the evolution of the wildfires and predict when are going to become critical.\n",
    "#### To achieve this, we use the Orthogonal Partial Least Square Discriminant Analysis (OPLS-DA) technique.\n",
    "\n",
    "#### We consider a binary classification problem with the following classes:\n",
    "\n",
    "#### - Class -1: Non-critical fire (burns less than 10 000 acres)\n",
    "#### - Class 1: Critical fire (burns more than 10 000 acres)\n",
    "\n",
    "#### Also, we consider the scenario where we want to predict if the fire is going to grow critically within the next 6 hours.\n",
    "\n",
    "#### This horizon of prediction of 6 hours is arbitrary (you could change it), and corresponds to the delay that could be to mobilise the appropriate resources to deal with the fire before it becomes critical."
   ]
  },
  {
   "cell_type": "markdown",
   "id": "f7d33be5",
   "metadata": {},
   "source": [
    "### Install some required packages"
   ]
  },
  {
   "cell_type": "code",
   "execution_count": null,
   "id": "4af74985",
   "metadata": {},
   "outputs": [],
   "source": [
    "!pip install pyopls"
   ]
  },
  {
   "cell_type": "markdown",
   "id": "65fceac3",
   "metadata": {},
   "source": [
    "### Import some packages"
   ]
  },
  {
   "cell_type": "code",
   "execution_count": null,
   "id": "3266aaa7",
   "metadata": {},
   "outputs": [],
   "source": [
    "import os, sys\n",
    "import pandas as pd\n",
    "import numpy as np\n",
    "import matplotlib.pyplot as plt\n",
    "\n",
    "from sklearn.metrics import roc_curve, roc_auc_score\n",
    "from sklearn.cross_decomposition import PLSRegression\n",
    "from sklearn.model_selection import cross_val_predict, LeaveOneOut\n",
    "from sklearn.metrics import r2_score, accuracy_score, classification_report\n",
    "\n",
    "from pyopls import OPLS\n",
    "from pyopls import OPLSValidator, OPLSDAValidator\n",
    "\n",
    "import ast\n",
    "import time\n",
    "from collections import Counter"
   ]
  },
  {
   "cell_type": "markdown",
   "id": "baf16ee9",
   "metadata": {},
   "source": [
    "### Global variable"
   ]
  },
  {
   "cell_type": "code",
   "execution_count": null,
   "id": "9dbf8ea6",
   "metadata": {},
   "outputs": [],
   "source": [
    "RESULTS = \"../results\""
   ]
  },
  {
   "cell_type": "markdown",
   "id": "52e0aa9b",
   "metadata": {},
   "source": [
    "# STEP 1: Prediction at 6 hours horizon"
   ]
  },
  {
   "cell_type": "markdown",
   "id": "398a357f",
   "metadata": {},
   "source": [
    "## STEP 1.0: Load the data"
   ]
  },
  {
   "cell_type": "code",
   "execution_count": null,
   "id": "04312a01",
   "metadata": {},
   "outputs": [],
   "source": [
    "%%time\n",
    "train_df_6h = pd.read_csv(\n",
    "    os.path.join(\n",
    "        RESULTS,\n",
    "        \"extracted-features-ComprehensiveFCParameters-filtered-target-horizon-6h-train.csv\",\n",
    "    ),\n",
    "    index_col=0,\n",
    ")\n",
    "train_df_6h.shape"
   ]
  },
  {
   "cell_type": "code",
   "execution_count": null,
   "id": "2305cc1b",
   "metadata": {},
   "outputs": [],
   "source": [
    "train_df_6h.head(2)"
   ]
  },
  {
   "cell_type": "code",
   "execution_count": null,
   "id": "89246452",
   "metadata": {},
   "outputs": [],
   "source": [
    "%%time\n",
    "val_df_6h = pd.read_csv(\n",
    "    os.path.join(\n",
    "        RESULTS,\n",
    "        \"extracted-features-ComprehensiveFCParameters-filtered-target-horizon-6h-val.csv\",\n",
    "    ),\n",
    "    index_col=0,\n",
    ")\n",
    "val_df_6h.shape"
   ]
  },
  {
   "cell_type": "code",
   "execution_count": null,
   "id": "fff22a0a",
   "metadata": {},
   "outputs": [],
   "source": [
    "val_df_6h.head(2)"
   ]
  },
  {
   "cell_type": "code",
   "execution_count": null,
   "id": "b2af9961",
   "metadata": {},
   "outputs": [],
   "source": [
    "%%time\n",
    "test_df_6h = pd.read_csv(\n",
    "    os.path.join(\n",
    "        RESULTS,\n",
    "        \"extracted-features-ComprehensiveFCParameters-filtered-target-horizon-6h-test.csv\",\n",
    "    ),\n",
    "    index_col=0,\n",
    ")\n",
    "test_df_6h.shape"
   ]
  },
  {
   "cell_type": "code",
   "execution_count": null,
   "id": "8929f82a",
   "metadata": {},
   "outputs": [],
   "source": [
    "test_df_6h.head(2)"
   ]
  },
  {
   "cell_type": "markdown",
   "id": "41ad0b89",
   "metadata": {},
   "source": [
    "## STEP 1.1: Modeling"
   ]
  },
  {
   "cell_type": "markdown",
   "id": "2cfb94e6",
   "metadata": {},
   "source": [
    "### Project orthogonally the data into the latent space (O-PLS)"
   ]
  },
  {
   "cell_type": "code",
   "execution_count": null,
   "id": "1f3ce4fb",
   "metadata": {},
   "outputs": [],
   "source": [
    "X_cols = [c for c in train_df_6h.columns if c != \"target\"]\n",
    "y_col = \"target\"\n",
    "\n",
    "X_train_6h = train_df_6h[X_cols]\n",
    "y_train_6h = train_df_6h[y_col]\n",
    "\n",
    "# because we will use cross-validation here,\n",
    "# we concatenate the validation and test datasets\n",
    "# we consider the resulting dataset to test the model\n",
    "X_test_6h = pd.concat([test_df_6h, val_df_6h])\n",
    "X_test_6h = X_test_6h.sample(frac=1)\n",
    "y_test_6h = X_test_6h[y_col]\n",
    "X_test_6h = X_test_6h[X_cols]"
   ]
  },
  {
   "cell_type": "code",
   "execution_count": null,
   "id": "28625ffe",
   "metadata": {},
   "outputs": [],
   "source": [
    "X_train_6h.shape"
   ]
  },
  {
   "cell_type": "markdown",
   "id": "f05439fd",
   "metadata": {},
   "source": [
    "### Distribution of the classes"
   ]
  },
  {
   "cell_type": "markdown",
   "id": "2979e50a",
   "metadata": {},
   "source": [
    "#### Train"
   ]
  },
  {
   "cell_type": "code",
   "execution_count": null,
   "id": "5c1b2539",
   "metadata": {},
   "outputs": [],
   "source": [
    "y_train_6h.value_counts(normalize=True)"
   ]
  },
  {
   "cell_type": "markdown",
   "id": "9e998932",
   "metadata": {},
   "source": [
    "#### Validation"
   ]
  },
  {
   "cell_type": "raw",
   "id": "47c29daf",
   "metadata": {},
   "source": [
    "y_val_6h.value_counts(normalize=True)"
   ]
  },
  {
   "cell_type": "markdown",
   "id": "c7c5f902",
   "metadata": {},
   "source": [
    "#### Test"
   ]
  },
  {
   "cell_type": "code",
   "execution_count": null,
   "id": "94d14119",
   "metadata": {},
   "outputs": [],
   "source": [
    "y_test_6h.value_counts(normalize=True)"
   ]
  },
  {
   "cell_type": "markdown",
   "id": "62e17662",
   "metadata": {},
   "source": [
    "## O-PLS Model"
   ]
  },
  {
   "cell_type": "markdown",
   "id": "4636a5b3-4b00-4084-883e-6dbb2cd7c5ab",
   "metadata": {},
   "source": [
    "#### Running this cell could take a few minutes..."
   ]
  },
  {
   "cell_type": "code",
   "execution_count": null,
   "id": "a1b611f2",
   "metadata": {},
   "outputs": [],
   "source": [
    "%%time\n",
    "ncomp = 50  # using cross-validation, we determined this value as the optimum. But, this could be changed.\n",
    "opls_6h = OPLS(ncomp)\n",
    "Z_train_6h = opls_6h.fit_transform(X_train_6h, y_train_6h)\n",
    "\n",
    "print(Z_train_6h.shape)"
   ]
  },
  {
   "cell_type": "markdown",
   "id": "4dce5911-731b-4722-bb7e-e634f5f36ba7",
   "metadata": {},
   "source": [
    "#### Check the goodness of the transformation\n",
    "#### Lower values mean that most variance is removed"
   ]
  },
  {
   "cell_type": "markdown",
   "id": "7818c9eb-7902-47aa-8571-b6a2e92e04e0",
   "metadata": {},
   "source": [
    "#### Running this cell could take a few minutes..."
   ]
  },
  {
   "cell_type": "code",
   "execution_count": null,
   "id": "5bdd64d3-dea5-4877-8fa9-141c3e253063",
   "metadata": {},
   "outputs": [],
   "source": [
    "%%time\n",
    "opls_6h.score(X_train_6h)"
   ]
  },
  {
   "cell_type": "code",
   "execution_count": null,
   "id": "382ea0d0",
   "metadata": {},
   "outputs": [],
   "source": [
    "%%time\n",
    "pls = PLSRegression(1)\n",
    "\n",
    "y_pred = cross_val_predict(pls, X_train_6h, y_train_6h, cv=100, n_jobs=-1)\n",
    "q_squared = r2_score(y_train_6h, y_pred)\n",
    "dq_squared = r2_score(y_train_6h, np.clip(y_pred, -1, 1))\n",
    "accuracy = accuracy_score(y_train_6h, np.sign(y_pred))\n",
    "\n",
    "processed_y_pred = cross_val_predict(pls, Z_train_6h, y_train_6h, cv=100, n_jobs=-1)\n",
    "processed_q_squared = r2_score(y_train_6h, processed_y_pred)  # 0.981\n",
    "processed_dq_squared = r2_score(y_train_6h, np.clip(processed_y_pred, -1, 1))\n",
    "processed_accuracy = accuracy_score(y_train_6h, np.sign(processed_y_pred))\n",
    "\n",
    "fpr, tpr, thresholds = roc_curve(y_train_6h, y_pred)\n",
    "roc_auc = roc_auc_score(y_train_6h, y_pred)\n",
    "proc_fpr, proc_tpr, proc_thresholds = roc_curve(y_train_6h, processed_y_pred)\n",
    "proc_roc_auc = roc_auc_score(y_train_6h, processed_y_pred)\n",
    "\n",
    "plt.figure(figsize=(20, 10))\n",
    "plt.plot(fpr, tpr, lw=2, color=\"blue\", label=f\"Unprocessed (AUC={roc_auc:.4f})\")\n",
    "plt.plot(\n",
    "    proc_fpr,\n",
    "    proc_tpr,\n",
    "    lw=2,\n",
    "    color=\"red\",\n",
    "    label=f\"{ncomp}-component OPLS (AUC={proc_roc_auc:.4f})\",\n",
    ")\n",
    "plt.plot([0, 1], [0, 1], color=\"gray\", lw=2, linestyle=\"--\")\n",
    "plt.xlabel(\"False Positive Rate\")\n",
    "plt.ylabel(\"True Positive Rate\")\n",
    "plt.title(\"ROC Curve\")\n",
    "plt.legend(loc=\"lower right\")\n",
    "plt.show()"
   ]
  },
  {
   "cell_type": "markdown",
   "id": "906c0648",
   "metadata": {},
   "source": [
    "### Fit the model"
   ]
  },
  {
   "cell_type": "code",
   "execution_count": null,
   "id": "56e3c8f5",
   "metadata": {},
   "outputs": [],
   "source": [
    "%%time\n",
    "pls = PLSRegression(5)\n",
    "pls.fit(Z_train_6h, y_train_6h)"
   ]
  },
  {
   "cell_type": "markdown",
   "id": "196e7f9d",
   "metadata": {},
   "source": [
    "### Plot the transformed data into the latent space"
   ]
  },
  {
   "cell_type": "code",
   "execution_count": null,
   "id": "6c7a220c",
   "metadata": {},
   "outputs": [],
   "source": [
    "%%time\n",
    "plt.figure(figsize=(20, 10))\n",
    "df = pd.DataFrame(\n",
    "    np.column_stack([pls.x_scores_, opls_6h.T_ortho_[:, 0]]),\n",
    "    index=X_train_6h.index,\n",
    "    columns=[\"t\", \"t_ortho\"],\n",
    ")\n",
    "pos_df = df[y_train_6h == 1]\n",
    "neg_df = df[y_train_6h == -1]\n",
    "plt.scatter(neg_df[\"t\"], neg_df[\"t_ortho\"], c=\"blue\", label=\"Non-critical fire\")\n",
    "plt.scatter(pos_df[\"t\"], pos_df[\"t_ortho\"], c=\"red\", label=\"Critical fire\")\n",
    "plt.title(\"PLS Scores\")\n",
    "plt.xlabel(\"t_ortho\")\n",
    "plt.ylabel(\"t\")\n",
    "plt.legend(loc=\"upper right\")\n",
    "plt.show()"
   ]
  },
  {
   "cell_type": "markdown",
   "id": "e5228c21",
   "metadata": {},
   "source": [
    "### Make predictions on the test dataset with the fitted model"
   ]
  },
  {
   "cell_type": "code",
   "execution_count": null,
   "id": "63dc15d4",
   "metadata": {},
   "outputs": [],
   "source": [
    "%%time\n",
    "Z_test_6h = opls_6h.transform(X_test_6h)\n",
    "y_pred_test_6h = pls.predict(Z_test_6h)\n",
    "fpr_test_6h, tpr_test_6h, thresholds_test_6h = roc_curve(y_test_6h, y_pred_test_6h)\n",
    "roc_auc_test_6h = roc_auc_score(y_test_6h, y_pred_test_6h)\n",
    "\n",
    "plt.figure(figsize=(20, 10))\n",
    "plt.plot(\n",
    "    fpr_test_6h,\n",
    "    tpr_test_6h,\n",
    "    lw=2,\n",
    "    color=\"red\",\n",
    "    label=f\"Test (AUC={roc_auc_test_6h:.4f})\",\n",
    ")\n",
    "plt.plot([0, 1], [0, 1], color=\"gray\", lw=2, linestyle=\"--\")\n",
    "plt.xlabel(\"False Positive Rate\")\n",
    "plt.ylabel(\"True Positive Rate\")\n",
    "plt.title(\"ROC Curve\")\n",
    "plt.legend(loc=\"lower right\")\n",
    "plt.show()"
   ]
  },
  {
   "cell_type": "markdown",
   "id": "26c75e9b-9c98-42c1-9999-6c739df70e54",
   "metadata": {},
   "source": [
    "## Conclusion\n",
    "\n",
    "### We can see that the AUC of 0.66 is relatively low.\n",
    "### This means that there is little information in the data. The pedictors are not correlated enough to the target. \n",
    "### This results in a low predictive power of the model.\n",
    "### Finally, we could improve the model by collecting ground truth historical data on the evolution of fires, for example, the number of acres burnt each hour."
   ]
  }
 ],
 "metadata": {
  "instance_type": "ml.r5.24xlarge",
  "kernelspec": {
   "display_name": "Python 3 (ipykernel)",
   "language": "python",
   "name": "python3"
  },
  "language_info": {
   "codemirror_mode": {
    "name": "ipython",
    "version": 3
   },
   "file_extension": ".py",
   "mimetype": "text/x-python",
   "name": "python",
   "nbconvert_exporter": "python",
   "pygments_lexer": "ipython3",
   "version": "3.9.7"
  }
 },
 "nbformat": 4,
 "nbformat_minor": 5
}
