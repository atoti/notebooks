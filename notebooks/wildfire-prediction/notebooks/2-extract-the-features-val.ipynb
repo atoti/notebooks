{
 "cells": [
  {
   "cell_type": "markdown",
   "id": "8667941e-51fb-401a-8a94-55f983ef06ef",
   "metadata": {},
   "source": [
    "# Feature Extraction\n",
    "\n",
    "### In this notebook, we perform feature extraction from our dataset using the tsfresh package.\n",
    "\n",
    "#### We consider a binary classification problem with the following classes:\n",
    "\n",
    "#### - Class -1: Non-critical fire (burns less than 10 000 acres)\n",
    "#### - Class 1: Critical fire (burns more than 10 000 acres)\n",
    "\n",
    "#### Also, we consider the scenario where we want to predict if the fire is going to grow critically within the next 6 hours.\n",
    "\n",
    "#### This horizon of prediction of 6 hours is arbitrary (you could change it), and corresponds to the delay that could be to mobilise the appropriate resources to deal with the fire before it becomes critical."
   ]
  },
  {
   "cell_type": "markdown",
   "id": "001cbe10-d65c-47fb-9873-f571b8d72be7",
   "metadata": {},
   "source": [
    "### Install some required packages\n",
    "#### Only install those that are not installed yet"
   ]
  },
  {
   "cell_type": "code",
   "execution_count": null,
   "id": "8b0a469b",
   "metadata": {},
   "outputs": [],
   "source": [
    "!pip install natsort\n",
    "!pip install tsfresh\n",
    "!pip install -U pandas"
   ]
  },
  {
   "cell_type": "markdown",
   "id": "85d69362",
   "metadata": {},
   "source": [
    "### Import packages"
   ]
  },
  {
   "cell_type": "code",
   "execution_count": null,
   "id": "b945f8cc",
   "metadata": {},
   "outputs": [],
   "source": [
    "%matplotlib inline\n",
    "\n",
    "import os\n",
    "import pandas as pd, numpy as np\n",
    "import random\n",
    "from natsort import natsorted\n",
    "import matplotlib.pylab as plt\n",
    "\n",
    "import datetime\n",
    "from datetime import date, timedelta\n",
    "import time\n",
    "\n",
    "from tsfresh import extract_features, select_features\n",
    "from tsfresh.utilities.dataframe_functions import (\n",
    "    impute,\n",
    "    make_forecasting_frame,\n",
    "    roll_time_series,\n",
    ")\n",
    "from tsfresh.feature_extraction import (\n",
    "    ComprehensiveFCParameters,\n",
    "    EfficientFCParameters,\n",
    "    MinimalFCParameters,\n",
    "    settings,\n",
    ")\n",
    "\n",
    "import ast\n",
    "\n",
    "import multiprocessing\n",
    "\n",
    "import warnings\n",
    "\n",
    "warnings.filterwarnings(\"ignore\")"
   ]
  },
  {
   "cell_type": "code",
   "execution_count": null,
   "id": "197f296c",
   "metadata": {},
   "outputs": [],
   "source": [
    "num_cpus = multiprocessing.cpu_count()\n",
    "\n",
    "print(f\"Number of available cpus: {multiprocessing.cpu_count()}\\n\")\n",
    "print(f\"Number of cpus to use: {num_cpus}\")"
   ]
  },
  {
   "cell_type": "markdown",
   "id": "6ec29442",
   "metadata": {},
   "source": [
    "### Global variables"
   ]
  },
  {
   "cell_type": "code",
   "execution_count": null,
   "id": "2be7afea",
   "metadata": {},
   "outputs": [],
   "source": [
    "RESULTS = \"../results\""
   ]
  },
  {
   "cell_type": "markdown",
   "id": "a617bb89",
   "metadata": {},
   "source": [
    "### Utility function"
   ]
  },
  {
   "cell_type": "code",
   "execution_count": null,
   "id": "83fe5a2a",
   "metadata": {},
   "outputs": [],
   "source": [
    "def make_sorter(l):\n",
    "    \"\"\"\n",
    "    Create a dict from the list to map to 0..len(l)\n",
    "    Returns a mapper to map a series to this custom sort order\n",
    "    \"\"\"\n",
    "    sort_order = {k: v for k, v in zip(l, range(len(l)))}\n",
    "    return lambda s: s.map(lambda x: sort_order[x])"
   ]
  },
  {
   "cell_type": "markdown",
   "id": "b09b3fa6",
   "metadata": {},
   "source": [
    "# Load the data"
   ]
  },
  {
   "cell_type": "markdown",
   "id": "3adac2ac",
   "metadata": {},
   "source": [
    "### Rolled dataset "
   ]
  },
  {
   "cell_type": "code",
   "execution_count": null,
   "id": "9e841cd5",
   "metadata": {},
   "outputs": [],
   "source": [
    "df_rolled_val = pd.read_csv(\n",
    "    os.path.join(RESULTS, \"fires-stations-final-dataset-flat-format-rolled-val.csv\")\n",
    ")\n",
    "df_rolled_val.shape"
   ]
  },
  {
   "cell_type": "code",
   "execution_count": null,
   "id": "ed8a99ad",
   "metadata": {},
   "outputs": [],
   "source": [
    "df_rolled_val.head()"
   ]
  },
  {
   "cell_type": "code",
   "execution_count": null,
   "id": "ebbb2fd3",
   "metadata": {},
   "outputs": [],
   "source": [
    "X_cols = [\n",
    "    \"id\",\n",
    "    \"time_step\",\n",
    "    \"ghi_station_1\",\n",
    "    \"dni_station_1\",\n",
    "    \"wind_speed_station_1\",\n",
    "    \"wind_direction_station_1\",\n",
    "    \"dhi_station_1\",\n",
    "    \"air_temperature_station_1\",\n",
    "    \"solar_zenith_angle_station_1\",\n",
    "    \"ghi_station_2\",\n",
    "    \"dni_station_2\",\n",
    "    \"wind_speed_station_2\",\n",
    "    \"wind_direction_station_2\",\n",
    "    \"dhi_station_2\",\n",
    "    \"air_temperature_station_2\",\n",
    "    \"solar_zenith_angle_station_2\",\n",
    "    \"duration_in_hours\",\n",
    "]\n",
    "\n",
    "y_col = [\"category\"]"
   ]
  },
  {
   "cell_type": "markdown",
   "id": "abcf8f03-5f1d-4c74-a3d8-d86ee1a8e1a6",
   "metadata": {},
   "source": [
    "#### Running this cell could take a very long time\n",
    "#### This could last until a few hours\n",
    "#### Please consider using distributed calculation, e.g. with Dask or PySpark"
   ]
  },
  {
   "cell_type": "code",
   "execution_count": null,
   "id": "e871bf2b",
   "metadata": {},
   "outputs": [],
   "source": [
    "%%time\n",
    "X_val = extract_features(\n",
    "    df_rolled_val[X_cols],\n",
    "    column_id=\"id\",\n",
    "    column_sort=\"time_step\",\n",
    "    default_fc_parameters=ComprehensiveFCParameters(),  # we could use also: MinimalFCParameters(), EfficientFCParameters()\n",
    "    impute_function=impute,\n",
    "    n_jobs=num_cpus,\n",
    ")\n",
    "X_val.shape"
   ]
  },
  {
   "cell_type": "code",
   "execution_count": null,
   "id": "4df5e5de",
   "metadata": {},
   "outputs": [],
   "source": [
    "X_val.head()"
   ]
  },
  {
   "cell_type": "code",
   "execution_count": null,
   "id": "b0b88b7b",
   "metadata": {},
   "outputs": [],
   "source": [
    "X_val.to_csv(\n",
    "    os.path.join(\n",
    "        RESULTS,\n",
    "        \"extracted-features-ComprehensiveFCParameters-full--without-target-horizon-val.csv\",\n",
    "    )\n",
    ")"
   ]
  },
  {
   "cell_type": "markdown",
   "id": "92492b9d",
   "metadata": {},
   "source": [
    "# STEP 1: Feature Selection"
   ]
  },
  {
   "cell_type": "markdown",
   "id": "631387e6",
   "metadata": {},
   "source": [
    "### Hypothesis:\n",
    "### Here, we want to predict the evolution of the considered in the near future, given the parameters provided by the surrounding stations the last couple of hours."
   ]
  },
  {
   "cell_type": "markdown",
   "id": "d75dc231",
   "metadata": {},
   "source": [
    "### Set the horizons of prediction"
   ]
  },
  {
   "cell_type": "code",
   "execution_count": null,
   "id": "b3a86694",
   "metadata": {},
   "outputs": [],
   "source": [
    "horizon_6h = 6\n",
    "# horizon_12h = 12\n",
    "# horizon_18h = 18"
   ]
  },
  {
   "cell_type": "markdown",
   "id": "c6662eeb",
   "metadata": {},
   "source": [
    "### Create the target vectors"
   ]
  },
  {
   "cell_type": "markdown",
   "id": "3ac1cafb",
   "metadata": {},
   "source": [
    "#### Scenario 1: Horizon of prediction of 6 hours"
   ]
  },
  {
   "cell_type": "code",
   "execution_count": null,
   "id": "6ed856dd",
   "metadata": {},
   "outputs": [],
   "source": [
    "df_rolled_val[\"id\"] = df_rolled_val[\"id\"].apply(\n",
    "    lambda idx: idx if not isinstance(idx, str) else ast.literal_eval(idx)\n",
    ")\n",
    "val_ids = list(np.unique(df_rolled_val[\"id\"]))\n",
    "X_val_6h = X_val.copy()\n",
    "X_val_6h = X_val_6h.reset_index()\n",
    "X_val_6h.rename(columns={X_val_6h.columns[0]: \"id\"}, inplace=True)\n",
    "X_val_6h[\"id\"] = X_val_6h[\"id\"].apply(\n",
    "    lambda idx: idx if not isinstance(idx, str) else ast.literal_eval(idx)\n",
    ")\n",
    "X_val_6h = X_val_6h.sort_values(\"id\", key=make_sorter(val_ids))\n",
    "X_val_6h = X_val_6h.set_index(\"id\")\n",
    "X_val_6h = X_val_6h.rename_axis(index=None)\n",
    "# remove the last id\n",
    "# as we cannot find any label to assign to it\n",
    "X_val_6h = X_val_6h[:-horizon_6h]\n",
    "\n",
    "val_target_dic_6h = {}\n",
    "\n",
    "# loop over all the ids\n",
    "# excepted the last\n",
    "for idx in range(len(val_ids) - horizon_6h):\n",
    "    temp_df_6h = df_rolled_val[\n",
    "        df_rolled_val[\"id\"] == val_ids[idx + horizon_6h]\n",
    "    ].reset_index(drop=True)\n",
    "    val_target_dic_6h[val_ids[idx]] = temp_df_6h.loc[len(temp_df_6h) - 1, \"category\"]\n",
    "\n",
    "val_target_6h = [\n",
    "    val_target_dic_6h[idx]\n",
    "    if not isinstance(idx, str)\n",
    "    else val_target_dic_6h[ast.literal_eval(idx)]\n",
    "    for idx in X_val_6h.index\n",
    "]"
   ]
  },
  {
   "cell_type": "code",
   "execution_count": null,
   "id": "be34318b",
   "metadata": {},
   "outputs": [],
   "source": [
    "val_df_6h = X_val_6h.copy()\n",
    "val_df_6h[\"target\"] = val_target_6h\n",
    "val_df_6h.shape"
   ]
  },
  {
   "cell_type": "code",
   "execution_count": null,
   "id": "7d8095bd",
   "metadata": {},
   "outputs": [],
   "source": [
    "val_df_6h.head()"
   ]
  },
  {
   "cell_type": "markdown",
   "id": "bf9ac7b1",
   "metadata": {},
   "source": [
    "### Save the full dataset of extracted features"
   ]
  },
  {
   "cell_type": "code",
   "execution_count": null,
   "id": "630e5618",
   "metadata": {},
   "outputs": [],
   "source": [
    "val_df_6h.to_csv(\n",
    "    os.path.join(\n",
    "        RESULTS,\n",
    "        \"extracted-features-ComprehensiveFCParameters-full-target-horizon-6h-val.csv\",\n",
    "    )\n",
    ")"
   ]
  },
  {
   "cell_type": "markdown",
   "id": "32ac1b86-e2a6-43e5-a14a-900ca604950d",
   "metadata": {},
   "source": [
    "### Filter the descriptor columns\n",
    "### We use the ***select_features*** function of tsfresh to retain only the most relevant descriptors of the X dataframe w.r.t the target."
   ]
  },
  {
   "cell_type": "code",
   "execution_count": null,
   "id": "1712e6d0",
   "metadata": {},
   "outputs": [],
   "source": [
    "train_df_filtered_6h = pd.read_csv(\n",
    "    os.path.join(\n",
    "        RESULTS,\n",
    "        \"extracted-features-ComprehensiveFCParameters-filtered-target-horizon-6h-train.csv\",\n",
    "    ),\n",
    "    index_col=0,\n",
    ")\n",
    "train_df_filtered_6h.shape"
   ]
  },
  {
   "cell_type": "code",
   "execution_count": null,
   "id": "42a6f955",
   "metadata": {},
   "outputs": [],
   "source": [
    "%%time\n",
    "val_df_filtered_6h = val_df_6h[list(train_df_filtered_6h.columns)]\n",
    "val_df_filtered_6h.shape"
   ]
  },
  {
   "cell_type": "code",
   "execution_count": null,
   "id": "bd7d6516",
   "metadata": {},
   "outputs": [],
   "source": [
    "val_df_filtered_6h.head(2)"
   ]
  },
  {
   "cell_type": "markdown",
   "id": "0be6720e",
   "metadata": {},
   "source": [
    "### Save the filtered dataset of extracted features"
   ]
  },
  {
   "cell_type": "code",
   "execution_count": null,
   "id": "8b76dca8",
   "metadata": {},
   "outputs": [],
   "source": [
    "val_df_filtered_6h.to_csv(\n",
    "    os.path.join(\n",
    "        RESULTS,\n",
    "        \"extracted-features-ComprehensiveFCParameters-filtered-target-horizon-6h-val.csv\",\n",
    "    )\n",
    ")"
   ]
  }
 ],
 "metadata": {
  "instance_type": "ml.r5.24xlarge",
  "kernelspec": {
   "display_name": "Python 3 (ipykernel)",
   "language": "python",
   "name": "python3"
  },
  "language_info": {
   "codemirror_mode": {
    "name": "ipython",
    "version": 3
   },
   "file_extension": ".py",
   "mimetype": "text/x-python",
   "name": "python",
   "nbconvert_exporter": "python",
   "pygments_lexer": "ipython3",
   "version": "3.9.7"
  }
 },
 "nbformat": 4,
 "nbformat_minor": 5
}
