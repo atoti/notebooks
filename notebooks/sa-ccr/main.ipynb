{
 "cells": [
  {
   "cell_type": "markdown",
   "metadata": {},
   "source": [
    "# SA-CCR analytical app\n",
    "\\[_In case you’re unable to see the atoti visualizations in GitHub, try viewing the notebook in [nbviewer](https://nbviewer.org/github/atoti/notebooks/blob/master/notebooks/sa-ccr/main.ipynb)._]\n",
    "\n",
    "This notebook provides a reference implementation of interactive analytical app for SA-CCR analytics in python using Jupyter Notebook and [atoti](https://www.atoti.io).\n",
    "\n",
    "<img src=./app-preview.gif/ width = 70%>\n",
    "\n",
    "As a quick reminder, the SA-CCR is a regulatory methodology for computing EAD (Exposure At Default) which is part of the consolidated basel framework. It is already implemented for financial institutions in Europe by the Regulation (EU) 2019/876 (CRR II) and will be applicable from June 2021 and January 2022 in the US. In this post, I will walk you through code snippets implementing calculations as defined in the BCBS 279 document.\n",
    "\n",
    "<div style=\"text-align:center\"><a href=\"https://www.atoti.io/?utm_source=gallery&utm_content=saccr\" target=\"_blank\" rel=\"noopener noreferrer\"><img src=\"https://data.atoti.io/notebooks/banners/discover.png\" alt=\"atoti table\" /></a></div>\n",
    "\n",
    "We'll start by creating an atoti app, then we'll load sample data and implement chains of calculations aggregating EAD from trades, collateral and supervisory parameters on-the-fly. This chart is summarizing the calculation chains:\n",
    "\n",
    "<img src=./SA-CCR.svg/ width = 50%>\n",
    "\n",
    "We will be referring to the relevant paragraphs of the Consolidated Basel Framework [CRE52](https://www.bis.org/basel_framework/chapter/CRE/52.htm?inforce=20191215) - see numbers in the square brackets."
   ]
  },
  {
   "cell_type": "code",
   "execution_count": 1,
   "metadata": {},
   "outputs": [],
   "source": [
    "import atoti as tt\n",
    "import pandas as pd"
   ]
  },
  {
   "cell_type": "code",
   "execution_count": 2,
   "metadata": {},
   "outputs": [],
   "source": [
    "pd.set_option(\"display.max_rows\", 30)\n",
    "pd.set_option(\"display.max_columns\", 100)\n",
    "pd.options.display.float_format = \"{:,.2f}\".format"
   ]
  },
  {
   "cell_type": "markdown",
   "metadata": {},
   "source": [
    "# Launch atoti"
   ]
  },
  {
   "cell_type": "code",
   "execution_count": 3,
   "metadata": {},
   "outputs": [
    {
     "data": {
      "application/vnd.atoti.link.v0+json": {
       "path": "",
       "sessionLocation": {
        "https": null,
        "port": 51281
       }
      },
      "text/plain": [
       "Open the notebook in JupyterLab with the atoti extension enabled to see this link."
      ]
     },
     "execution_count": 3,
     "metadata": {},
     "output_type": "execute_result"
    }
   ],
   "source": [
    "session = tt.Session(user_content_storage=\"./content\")\n",
    "session.link()"
   ]
  },
  {
   "cell_type": "markdown",
   "metadata": {},
   "source": [
    "## Input data"
   ]
  },
  {
   "cell_type": "markdown",
   "metadata": {},
   "source": [
    "In this section we will load the data used by the EAD aggregation into in-memory tables and start creating a cube. The sample data will be fetched from csv files hosted on s3, and you can replace them with your own sources.\n",
    "\n",
    "- `trades_table` with information on the trades, books, notionals, market values, classified into asset classes. The time period parameter dates - Mi, Ei, Si and Ti [52.31] - are also provided in this file/\n",
    "- `nettingSets_table` providing netting set attributes, for instance, the MPOR and collateral\n",
    "- `supervisoryParameters_table` - values set in section [52.72] \"Supervisory specified parameters\"."
   ]
  },
  {
   "cell_type": "code",
   "execution_count": 4,
   "metadata": {
    "tags": []
   },
   "outputs": [
    {
     "data": {
      "text/html": [
       "<div>\n",
       "<style scoped>\n",
       "    .dataframe tbody tr th:only-of-type {\n",
       "        vertical-align: middle;\n",
       "    }\n",
       "\n",
       "    .dataframe tbody tr th {\n",
       "        vertical-align: top;\n",
       "    }\n",
       "\n",
       "    .dataframe thead th {\n",
       "        text-align: right;\n",
       "    }\n",
       "</style>\n",
       "<table border=\"1\" class=\"dataframe\">\n",
       "  <thead>\n",
       "    <tr style=\"text-align: right;\">\n",
       "      <th></th>\n",
       "      <th></th>\n",
       "      <th>NettingSetId</th>\n",
       "      <th>BookId</th>\n",
       "      <th>Direction</th>\n",
       "      <th>Notional</th>\n",
       "      <th>MarketValue</th>\n",
       "      <th>AssetClass</th>\n",
       "      <th>SubClass</th>\n",
       "      <th>OptionType</th>\n",
       "      <th>Underlying</th>\n",
       "      <th>Si_Date</th>\n",
       "      <th>Ei_Date</th>\n",
       "      <th>Mi_Date</th>\n",
       "      <th>Ti_Date</th>\n",
       "      <th>Strike Price</th>\n",
       "      <th>Underlying Price</th>\n",
       "      <th>AttachPoint</th>\n",
       "      <th>DetachPoint</th>\n",
       "      <th>IsCDO</th>\n",
       "    </tr>\n",
       "    <tr>\n",
       "      <th>AsOfDate</th>\n",
       "      <th>TradeId</th>\n",
       "      <th></th>\n",
       "      <th></th>\n",
       "      <th></th>\n",
       "      <th></th>\n",
       "      <th></th>\n",
       "      <th></th>\n",
       "      <th></th>\n",
       "      <th></th>\n",
       "      <th></th>\n",
       "      <th></th>\n",
       "      <th></th>\n",
       "      <th></th>\n",
       "      <th></th>\n",
       "      <th></th>\n",
       "      <th></th>\n",
       "      <th></th>\n",
       "      <th></th>\n",
       "      <th></th>\n",
       "    </tr>\n",
       "  </thead>\n",
       "  <tbody>\n",
       "    <tr>\n",
       "      <th rowspan=\"3\" valign=\"top\">2020-01-13</th>\n",
       "      <th>t428</th>\n",
       "      <td>EX9</td>\n",
       "      <td>Book7</td>\n",
       "      <td>-1</td>\n",
       "      <td>2,000,000.00</td>\n",
       "      <td>-70,000.00</td>\n",
       "      <td>FX</td>\n",
       "      <td>No SubClass</td>\n",
       "      <td>N/A</td>\n",
       "      <td>JPYGBP</td>\n",
       "      <td>2020-01-13</td>\n",
       "      <td>2020-06-13</td>\n",
       "      <td>2025-01-13</td>\n",
       "      <td>2028-01-13</td>\n",
       "      <td>NaN</td>\n",
       "      <td>NaN</td>\n",
       "      <td>NaN</td>\n",
       "      <td>NaN</td>\n",
       "      <td>N</td>\n",
       "    </tr>\n",
       "    <tr>\n",
       "      <th>t72</th>\n",
       "      <td>EX2</td>\n",
       "      <td>Book1</td>\n",
       "      <td>1</td>\n",
       "      <td>27,000,000.00</td>\n",
       "      <td>73,000.00</td>\n",
       "      <td>IR</td>\n",
       "      <td>No SubClass</td>\n",
       "      <td>C</td>\n",
       "      <td>AUD</td>\n",
       "      <td>2025-01-13</td>\n",
       "      <td>2020-06-13</td>\n",
       "      <td>2033-01-13</td>\n",
       "      <td>2020-05-13</td>\n",
       "      <td>6.88</td>\n",
       "      <td>7.01</td>\n",
       "      <td>NaN</td>\n",
       "      <td>NaN</td>\n",
       "      <td>N</td>\n",
       "    </tr>\n",
       "    <tr>\n",
       "      <th>t251</th>\n",
       "      <td>EX6</td>\n",
       "      <td>Book0</td>\n",
       "      <td>-1</td>\n",
       "      <td>5,200.00</td>\n",
       "      <td>-30,340,000.00</td>\n",
       "      <td>EQ_SN</td>\n",
       "      <td>No SubClass</td>\n",
       "      <td>N/A</td>\n",
       "      <td>EX6.CH</td>\n",
       "      <td>2020-01-13</td>\n",
       "      <td>2028-01-13</td>\n",
       "      <td>2054-01-13</td>\n",
       "      <td>2028-01-13</td>\n",
       "      <td>NaN</td>\n",
       "      <td>-5,834.62</td>\n",
       "      <td>NaN</td>\n",
       "      <td>NaN</td>\n",
       "      <td>N</td>\n",
       "    </tr>\n",
       "  </tbody>\n",
       "</table>\n",
       "</div>"
      ],
      "text/plain": [
       "                   NettingSetId BookId  Direction      Notional  \\\n",
       "AsOfDate   TradeId                                                \n",
       "2020-01-13 t428             EX9  Book7         -1  2,000,000.00   \n",
       "           t72              EX2  Book1          1 27,000,000.00   \n",
       "           t251             EX6  Book0         -1      5,200.00   \n",
       "\n",
       "                      MarketValue AssetClass     SubClass OptionType  \\\n",
       "AsOfDate   TradeId                                                     \n",
       "2020-01-13 t428        -70,000.00         FX  No SubClass        N/A   \n",
       "           t72          73,000.00         IR  No SubClass          C   \n",
       "           t251    -30,340,000.00      EQ_SN  No SubClass        N/A   \n",
       "\n",
       "                   Underlying    Si_Date    Ei_Date    Mi_Date    Ti_Date  \\\n",
       "AsOfDate   TradeId                                                          \n",
       "2020-01-13 t428        JPYGBP 2020-01-13 2020-06-13 2025-01-13 2028-01-13   \n",
       "           t72            AUD 2025-01-13 2020-06-13 2033-01-13 2020-05-13   \n",
       "           t251        EX6.CH 2020-01-13 2028-01-13 2054-01-13 2028-01-13   \n",
       "\n",
       "                    Strike Price  Underlying Price  AttachPoint  DetachPoint  \\\n",
       "AsOfDate   TradeId                                                             \n",
       "2020-01-13 t428              NaN               NaN          NaN          NaN   \n",
       "           t72              6.88              7.01          NaN          NaN   \n",
       "           t251              NaN         -5,834.62          NaN          NaN   \n",
       "\n",
       "                   IsCDO  \n",
       "AsOfDate   TradeId        \n",
       "2020-01-13 t428        N  \n",
       "           t72         N  \n",
       "           t251        N  "
      ]
     },
     "execution_count": 4,
     "metadata": {},
     "output_type": "execute_result"
    }
   ],
   "source": [
    "trades_table = session.read_csv(\n",
    "    \"s3://data.atoti.io/notebooks/sa-ccr/T0/trades.csv\",\n",
    "    keys=[\"AsOfDate\", \"TradeId\"],\n",
    "    types={\n",
    "        \"Notional\": tt.type.DOUBLE,\n",
    "        \"MarketValue\": tt.type.DOUBLE,\n",
    "        \"AsOfDate\": tt.type.LOCAL_DATE,\n",
    "        \"Mi_Date\": tt.type.LOCAL_DATE,\n",
    "        \"Si_Date\": tt.type.LOCAL_DATE,\n",
    "        \"Ti_Date\": tt.type.LOCAL_DATE,\n",
    "        \"Ei_Date\": tt.type.LOCAL_DATE,\n",
    "    },\n",
    "    table_name=\"Trades\",\n",
    ")\n",
    "trades_table.head(3)"
   ]
  },
  {
   "cell_type": "markdown",
   "metadata": {},
   "source": [
    "Let's now load netting set attributes - providing info about collateral and csa details - and link them to trades:"
   ]
  },
  {
   "cell_type": "code",
   "execution_count": 5,
   "metadata": {},
   "outputs": [
    {
     "data": {
      "text/html": [
       "<div>\n",
       "<style scoped>\n",
       "    .dataframe tbody tr th:only-of-type {\n",
       "        vertical-align: middle;\n",
       "    }\n",
       "\n",
       "    .dataframe tbody tr th {\n",
       "        vertical-align: top;\n",
       "    }\n",
       "\n",
       "    .dataframe thead th {\n",
       "        text-align: right;\n",
       "    }\n",
       "</style>\n",
       "<table border=\"1\" class=\"dataframe\">\n",
       "  <thead>\n",
       "    <tr style=\"text-align: right;\">\n",
       "      <th></th>\n",
       "      <th></th>\n",
       "      <th>CounterpartyId</th>\n",
       "      <th>MPOR</th>\n",
       "      <th>Collateral</th>\n",
       "      <th>NICA</th>\n",
       "      <th>TH</th>\n",
       "      <th>MTA</th>\n",
       "      <th>isMargined</th>\n",
       "    </tr>\n",
       "    <tr>\n",
       "      <th>AsOfDate</th>\n",
       "      <th>NettingSetId</th>\n",
       "      <th></th>\n",
       "      <th></th>\n",
       "      <th></th>\n",
       "      <th></th>\n",
       "      <th></th>\n",
       "      <th></th>\n",
       "      <th></th>\n",
       "    </tr>\n",
       "  </thead>\n",
       "  <tbody>\n",
       "    <tr>\n",
       "      <th rowspan=\"3\" valign=\"top\">2020-01-13</th>\n",
       "      <th>EX1</th>\n",
       "      <td>cpt1</td>\n",
       "      <td>0.00</td>\n",
       "      <td>0.00</td>\n",
       "      <td>NaN</td>\n",
       "      <td>NaN</td>\n",
       "      <td>NaN</td>\n",
       "      <td>N</td>\n",
       "    </tr>\n",
       "    <tr>\n",
       "      <th>EX2</th>\n",
       "      <td>cpt1</td>\n",
       "      <td>0.00</td>\n",
       "      <td>0.00</td>\n",
       "      <td>NaN</td>\n",
       "      <td>NaN</td>\n",
       "      <td>NaN</td>\n",
       "      <td>N</td>\n",
       "    </tr>\n",
       "    <tr>\n",
       "      <th>EX3</th>\n",
       "      <td>cpt2</td>\n",
       "      <td>0.00</td>\n",
       "      <td>0.00</td>\n",
       "      <td>NaN</td>\n",
       "      <td>NaN</td>\n",
       "      <td>NaN</td>\n",
       "      <td>N</td>\n",
       "    </tr>\n",
       "  </tbody>\n",
       "</table>\n",
       "</div>"
      ],
      "text/plain": [
       "                        CounterpartyId  MPOR  Collateral  NICA  TH  MTA  \\\n",
       "AsOfDate   NettingSetId                                                   \n",
       "2020-01-13 EX1                    cpt1  0.00        0.00   NaN NaN  NaN   \n",
       "           EX2                    cpt1  0.00        0.00   NaN NaN  NaN   \n",
       "           EX3                    cpt2  0.00        0.00   NaN NaN  NaN   \n",
       "\n",
       "                        isMargined  \n",
       "AsOfDate   NettingSetId             \n",
       "2020-01-13 EX1                   N  \n",
       "           EX2                   N  \n",
       "           EX3                   N  "
      ]
     },
     "execution_count": 5,
     "metadata": {},
     "output_type": "execute_result"
    }
   ],
   "source": [
    "nettingSets_table = session.read_csv(\n",
    "    \"s3://data.atoti.io/notebooks/sa-ccr/T0/netting-set-attributes.csv\",\n",
    "    keys=[\"AsOfDate\", \"NettingSetId\"],\n",
    "    types={\"MPOR\": tt.type.DOUBLE, \"Collateral\": tt.type.DOUBLE},\n",
    "    table_name=\"NettingSets\",\n",
    ")\n",
    "\n",
    "trades_table.join(\n",
    "    nettingSets_table, mapping={\"NettingSetId\": \"NettingSetId\", \"AsOfDate\": \"AsOfDate\"}\n",
    ")\n",
    "nettingSets_table.head(3)"
   ]
  },
  {
   "cell_type": "markdown",
   "metadata": {},
   "source": [
    "In the next cell I'm loading parameters into a separate table and using the \"join\" command to link parameters to trades:"
   ]
  },
  {
   "cell_type": "code",
   "execution_count": 6,
   "metadata": {},
   "outputs": [],
   "source": [
    "supervisoryParameters_table = session.read_csv(\n",
    "    \"s3://data.atoti.io/notebooks/sa-ccr/T0/parameters.csv\",\n",
    "    keys=[\"AssetClass\", \"SubClass\"],\n",
    "    table_name=\"Parameters\",\n",
    ")\n",
    "\n",
    "trades_table.join(\n",
    "    supervisoryParameters_table,\n",
    "    mapping={\"AssetClass\": \"AssetClass\", \"SubClass\": \"SubClass\"},\n",
    ")"
   ]
  },
  {
   "cell_type": "code",
   "execution_count": 7,
   "metadata": {},
   "outputs": [
    {
     "data": {
      "text/html": [
       "<div>\n",
       "<style scoped>\n",
       "    .dataframe tbody tr th:only-of-type {\n",
       "        vertical-align: middle;\n",
       "    }\n",
       "\n",
       "    .dataframe tbody tr th {\n",
       "        vertical-align: top;\n",
       "    }\n",
       "\n",
       "    .dataframe thead th {\n",
       "        text-align: right;\n",
       "    }\n",
       "</style>\n",
       "<table border=\"1\" class=\"dataframe\">\n",
       "  <thead>\n",
       "    <tr style=\"text-align: right;\">\n",
       "      <th></th>\n",
       "      <th></th>\n",
       "      <th>SupervisoryFactor</th>\n",
       "      <th>Correlation</th>\n",
       "      <th>SupervisoryOptionVolatility</th>\n",
       "      <th>HS</th>\n",
       "    </tr>\n",
       "    <tr>\n",
       "      <th>SubClass</th>\n",
       "      <th>AssetClass</th>\n",
       "      <th></th>\n",
       "      <th></th>\n",
       "      <th></th>\n",
       "      <th></th>\n",
       "    </tr>\n",
       "  </thead>\n",
       "  <tbody>\n",
       "    <tr>\n",
       "      <th rowspan=\"2\" valign=\"top\">No SubClass</th>\n",
       "      <th>IR</th>\n",
       "      <td>0.01</td>\n",
       "      <td>NaN</td>\n",
       "      <td>0.50</td>\n",
       "      <td>N/A</td>\n",
       "    </tr>\n",
       "    <tr>\n",
       "      <th>FX</th>\n",
       "      <td>0.04</td>\n",
       "      <td>NaN</td>\n",
       "      <td>0.15</td>\n",
       "      <td>N/A</td>\n",
       "    </tr>\n",
       "    <tr>\n",
       "      <th>AAA</th>\n",
       "      <th>CR_SN</th>\n",
       "      <td>0.00</td>\n",
       "      <td>0.50</td>\n",
       "      <td>1.00</td>\n",
       "      <td>N/A</td>\n",
       "    </tr>\n",
       "  </tbody>\n",
       "</table>\n",
       "</div>"
      ],
      "text/plain": [
       "                        SupervisoryFactor  Correlation  \\\n",
       "SubClass    AssetClass                                   \n",
       "No SubClass IR                       0.01          NaN   \n",
       "            FX                       0.04          NaN   \n",
       "AAA         CR_SN                    0.00         0.50   \n",
       "\n",
       "                        SupervisoryOptionVolatility   HS  \n",
       "SubClass    AssetClass                                    \n",
       "No SubClass IR                                 0.50  N/A  \n",
       "            FX                                 0.15  N/A  \n",
       "AAA         CR_SN                              1.00  N/A  "
      ]
     },
     "execution_count": 7,
     "metadata": {},
     "output_type": "execute_result"
    }
   ],
   "source": [
    "supervisoryParameters_table.head(3)"
   ]
  },
  {
   "cell_type": "markdown",
   "metadata": {},
   "source": [
    "As a next step, I'm creating the cube:"
   ]
  },
  {
   "cell_type": "code",
   "execution_count": 8,
   "metadata": {},
   "outputs": [],
   "source": [
    "cube = session.create_cube(trades_table, \"SA-CCR\", mode=\"no_measures\")"
   ]
  },
  {
   "cell_type": "code",
   "execution_count": 9,
   "metadata": {},
   "outputs": [],
   "source": [
    "h, l, m = cube.hierarchies, cube.levels, cube.measures"
   ]
  },
  {
   "cell_type": "code",
   "execution_count": 10,
   "metadata": {},
   "outputs": [],
   "source": [
    "# Setting the date dimension to slicing, so that measures do not aggregate risk coming from different business dates:\n",
    "h[\"AsOfDate\"].slicing = True"
   ]
  },
  {
   "cell_type": "markdown",
   "metadata": {},
   "source": [
    "Let's display the current data model schema. Later in this notebook we'll extend this data model with additional attributes, but this is the minimum set of fields that we'd need to compute EAD."
   ]
  },
  {
   "cell_type": "code",
   "execution_count": 11,
   "metadata": {},
   "outputs": [
    {
     "data": {
      "image/svg+xml": [
       "<svg xmlns=\"http://www.w3.org/2000/svg\" xmlns:xlink=\"http://www.w3.org/1999/xlink\" width=\"667px\" height=\"522px\" viewBox=\"0.00 0.00 667.00 522.00\">\n",
       "<g id=\"graph0\" class=\"graph\" transform=\"scale(1.0 1.0) rotate(0) translate(4 518)\">\n",
       "<title>SA-CCR schema</title>\n",
       "<polygon fill=\"white\" stroke=\"transparent\" points=\"-4,4 -4,-518 663,-518 663,4 -4,4\"/>\n",
       "<!-- Trades -->\n",
       "<g id=\"node1\" class=\"node\">\n",
       "<title>Trades</title>\n",
       "<text text-anchor=\"start\" x=\"88.5\" y=\"-494.6\" font-family=\"-apple-system, BlinkMacSystemFont, 'Segoe UI', Helvetica, Arial, sans-serif, 'Apple Color Emoji', 'Segoe UI Emoji', 'Segoe UI Symbol'\" font-weight=\"bold\" font-size=\"13.00\">Trades</text>\n",
       "<polygon fill=\"#f5f5f5\" stroke=\"transparent\" points=\"9,-461 9,-485 40,-485 40,-461 9,-461\"/>\n",
       "<text text-anchor=\"start\" x=\"14\" y=\"-470.6\" font-family=\"-apple-system, BlinkMacSystemFont, 'Segoe UI', Helvetica, Arial, sans-serif, 'Apple Color Emoji', 'Segoe UI Emoji', 'Segoe UI Symbol'\" font-weight=\"bold\" font-size=\"13.00\">key</text>\n",
       "<polygon fill=\"#f5f5f5\" stroke=\"transparent\" points=\"40,-461 40,-485 142,-485 142,-461 40,-461\"/>\n",
       "<text text-anchor=\"start\" x=\"45\" y=\"-469.6\" font-family=\"-apple-system, BlinkMacSystemFont, 'Segoe UI', Helvetica, Arial, sans-serif, 'Apple Color Emoji', 'Segoe UI Emoji', 'Segoe UI Symbol'\" font-size=\"13.00\">AsOfDate</text>\n",
       "<polygon fill=\"#f5f5f5\" stroke=\"transparent\" points=\"142,-461 142,-485 209,-485 209,-461 142,-461\"/>\n",
       "<text text-anchor=\"start\" x=\"147\" y=\"-470.6\" font-family=\"-apple-system, BlinkMacSystemFont, 'Segoe UI', Helvetica, Arial, sans-serif, 'Apple Color Emoji', 'Segoe UI Emoji', 'Segoe UI Symbol'\" font-style=\"italic\" font-size=\"13.00\">LocalDate</text>\n",
       "<polygon fill=\"#ffffff\" stroke=\"transparent\" points=\"9,-437 9,-461 40,-461 40,-437 9,-437\"/>\n",
       "<text text-anchor=\"start\" x=\"14\" y=\"-446.6\" font-family=\"-apple-system, BlinkMacSystemFont, 'Segoe UI', Helvetica, Arial, sans-serif, 'Apple Color Emoji', 'Segoe UI Emoji', 'Segoe UI Symbol'\" font-weight=\"bold\" font-size=\"13.00\">key</text>\n",
       "<polygon fill=\"#ffffff\" stroke=\"transparent\" points=\"40,-437 40,-461 142,-461 142,-437 40,-437\"/>\n",
       "<text text-anchor=\"start\" x=\"45\" y=\"-445.6\" font-family=\"-apple-system, BlinkMacSystemFont, 'Segoe UI', Helvetica, Arial, sans-serif, 'Apple Color Emoji', 'Segoe UI Emoji', 'Segoe UI Symbol'\" font-size=\"13.00\">TradeId</text>\n",
       "<polygon fill=\"#ffffff\" stroke=\"transparent\" points=\"142,-437 142,-461 209,-461 209,-437 142,-437\"/>\n",
       "<text text-anchor=\"start\" x=\"171\" y=\"-446.6\" font-family=\"-apple-system, BlinkMacSystemFont, 'Segoe UI', Helvetica, Arial, sans-serif, 'Apple Color Emoji', 'Segoe UI Emoji', 'Segoe UI Symbol'\" font-style=\"italic\" font-size=\"13.00\">String</text>\n",
       "<polygon fill=\"#f5f5f5\" stroke=\"transparent\" points=\"9,-413 9,-437 40,-437 40,-413 9,-413\"/>\n",
       "<polygon fill=\"#f5f5f5\" stroke=\"transparent\" points=\"40,-413 40,-437 142,-437 142,-413 40,-413\"/>\n",
       "<text text-anchor=\"start\" x=\"45\" y=\"-421.6\" font-family=\"-apple-system, BlinkMacSystemFont, 'Segoe UI', Helvetica, Arial, sans-serif, 'Apple Color Emoji', 'Segoe UI Emoji', 'Segoe UI Symbol'\" font-size=\"13.00\">NettingSetId</text>\n",
       "<polygon fill=\"#f5f5f5\" stroke=\"transparent\" points=\"142,-413 142,-437 209,-437 209,-413 142,-413\"/>\n",
       "<text text-anchor=\"start\" x=\"171\" y=\"-422.6\" font-family=\"-apple-system, BlinkMacSystemFont, 'Segoe UI', Helvetica, Arial, sans-serif, 'Apple Color Emoji', 'Segoe UI Emoji', 'Segoe UI Symbol'\" font-style=\"italic\" font-size=\"13.00\">String</text>\n",
       "<polygon fill=\"#ffffff\" stroke=\"transparent\" points=\"9,-389 9,-413 40,-413 40,-389 9,-389\"/>\n",
       "<polygon fill=\"#ffffff\" stroke=\"transparent\" points=\"40,-389 40,-413 142,-413 142,-389 40,-389\"/>\n",
       "<text text-anchor=\"start\" x=\"45\" y=\"-397.6\" font-family=\"-apple-system, BlinkMacSystemFont, 'Segoe UI', Helvetica, Arial, sans-serif, 'Apple Color Emoji', 'Segoe UI Emoji', 'Segoe UI Symbol'\" font-size=\"13.00\">BookId</text>\n",
       "<polygon fill=\"#ffffff\" stroke=\"transparent\" points=\"142,-389 142,-413 209,-413 209,-389 142,-389\"/>\n",
       "<text text-anchor=\"start\" x=\"171\" y=\"-398.6\" font-family=\"-apple-system, BlinkMacSystemFont, 'Segoe UI', Helvetica, Arial, sans-serif, 'Apple Color Emoji', 'Segoe UI Emoji', 'Segoe UI Symbol'\" font-style=\"italic\" font-size=\"13.00\">String</text>\n",
       "<polygon fill=\"#f5f5f5\" stroke=\"transparent\" points=\"9,-365 9,-389 40,-389 40,-365 9,-365\"/>\n",
       "<polygon fill=\"#f5f5f5\" stroke=\"transparent\" points=\"40,-365 40,-389 142,-389 142,-365 40,-365\"/>\n",
       "<text text-anchor=\"start\" x=\"45\" y=\"-373.6\" font-family=\"-apple-system, BlinkMacSystemFont, 'Segoe UI', Helvetica, Arial, sans-serif, 'Apple Color Emoji', 'Segoe UI Emoji', 'Segoe UI Symbol'\" font-size=\"13.00\">Direction</text>\n",
       "<polygon fill=\"#f5f5f5\" stroke=\"transparent\" points=\"142,-365 142,-389 209,-389 209,-365 142,-365\"/>\n",
       "<text text-anchor=\"start\" x=\"190\" y=\"-374.6\" font-family=\"-apple-system, BlinkMacSystemFont, 'Segoe UI', Helvetica, Arial, sans-serif, 'Apple Color Emoji', 'Segoe UI Emoji', 'Segoe UI Symbol'\" font-style=\"italic\" font-size=\"13.00\">int</text>\n",
       "<polygon fill=\"#ffffff\" stroke=\"transparent\" points=\"9,-341 9,-365 40,-365 40,-341 9,-341\"/>\n",
       "<polygon fill=\"#ffffff\" stroke=\"transparent\" points=\"40,-341 40,-365 142,-365 142,-341 40,-341\"/>\n",
       "<text text-anchor=\"start\" x=\"45\" y=\"-349.6\" font-family=\"-apple-system, BlinkMacSystemFont, 'Segoe UI', Helvetica, Arial, sans-serif, 'Apple Color Emoji', 'Segoe UI Emoji', 'Segoe UI Symbol'\" font-size=\"13.00\">Notional</text>\n",
       "<polygon fill=\"#ffffff\" stroke=\"transparent\" points=\"142,-341 142,-365 209,-365 209,-341 142,-341\"/>\n",
       "<text text-anchor=\"start\" x=\"167\" y=\"-350.6\" font-family=\"-apple-system, BlinkMacSystemFont, 'Segoe UI', Helvetica, Arial, sans-serif, 'Apple Color Emoji', 'Segoe UI Emoji', 'Segoe UI Symbol'\" font-style=\"italic\" font-size=\"13.00\">double</text>\n",
       "<polygon fill=\"#f5f5f5\" stroke=\"transparent\" points=\"9,-317 9,-341 40,-341 40,-317 9,-317\"/>\n",
       "<polygon fill=\"#f5f5f5\" stroke=\"transparent\" points=\"40,-317 40,-341 142,-341 142,-317 40,-317\"/>\n",
       "<text text-anchor=\"start\" x=\"45\" y=\"-325.6\" font-family=\"-apple-system, BlinkMacSystemFont, 'Segoe UI', Helvetica, Arial, sans-serif, 'Apple Color Emoji', 'Segoe UI Emoji', 'Segoe UI Symbol'\" font-size=\"13.00\">MarketValue</text>\n",
       "<polygon fill=\"#f5f5f5\" stroke=\"transparent\" points=\"142,-317 142,-341 209,-341 209,-317 142,-317\"/>\n",
       "<text text-anchor=\"start\" x=\"167\" y=\"-326.6\" font-family=\"-apple-system, BlinkMacSystemFont, 'Segoe UI', Helvetica, Arial, sans-serif, 'Apple Color Emoji', 'Segoe UI Emoji', 'Segoe UI Symbol'\" font-style=\"italic\" font-size=\"13.00\">double</text>\n",
       "<polygon fill=\"#ffffff\" stroke=\"transparent\" points=\"9,-293 9,-317 40,-317 40,-293 9,-293\"/>\n",
       "<polygon fill=\"#ffffff\" stroke=\"transparent\" points=\"40,-293 40,-317 142,-317 142,-293 40,-293\"/>\n",
       "<text text-anchor=\"start\" x=\"45\" y=\"-301.6\" font-family=\"-apple-system, BlinkMacSystemFont, 'Segoe UI', Helvetica, Arial, sans-serif, 'Apple Color Emoji', 'Segoe UI Emoji', 'Segoe UI Symbol'\" font-size=\"13.00\">AssetClass</text>\n",
       "<polygon fill=\"#ffffff\" stroke=\"transparent\" points=\"142,-293 142,-317 209,-317 209,-293 142,-293\"/>\n",
       "<text text-anchor=\"start\" x=\"171\" y=\"-302.6\" font-family=\"-apple-system, BlinkMacSystemFont, 'Segoe UI', Helvetica, Arial, sans-serif, 'Apple Color Emoji', 'Segoe UI Emoji', 'Segoe UI Symbol'\" font-style=\"italic\" font-size=\"13.00\">String</text>\n",
       "<polygon fill=\"#f5f5f5\" stroke=\"transparent\" points=\"9,-269 9,-293 40,-293 40,-269 9,-269\"/>\n",
       "<polygon fill=\"#f5f5f5\" stroke=\"transparent\" points=\"40,-269 40,-293 142,-293 142,-269 40,-269\"/>\n",
       "<text text-anchor=\"start\" x=\"45\" y=\"-277.6\" font-family=\"-apple-system, BlinkMacSystemFont, 'Segoe UI', Helvetica, Arial, sans-serif, 'Apple Color Emoji', 'Segoe UI Emoji', 'Segoe UI Symbol'\" font-size=\"13.00\">SubClass</text>\n",
       "<polygon fill=\"#f5f5f5\" stroke=\"transparent\" points=\"142,-269 142,-293 209,-293 209,-269 142,-269\"/>\n",
       "<text text-anchor=\"start\" x=\"171\" y=\"-278.6\" font-family=\"-apple-system, BlinkMacSystemFont, 'Segoe UI', Helvetica, Arial, sans-serif, 'Apple Color Emoji', 'Segoe UI Emoji', 'Segoe UI Symbol'\" font-style=\"italic\" font-size=\"13.00\">String</text>\n",
       "<polygon fill=\"#ffffff\" stroke=\"transparent\" points=\"9,-245 9,-269 40,-269 40,-245 9,-245\"/>\n",
       "<polygon fill=\"#ffffff\" stroke=\"transparent\" points=\"40,-245 40,-269 142,-269 142,-245 40,-245\"/>\n",
       "<text text-anchor=\"start\" x=\"45\" y=\"-253.6\" font-family=\"-apple-system, BlinkMacSystemFont, 'Segoe UI', Helvetica, Arial, sans-serif, 'Apple Color Emoji', 'Segoe UI Emoji', 'Segoe UI Symbol'\" font-size=\"13.00\">OptionType</text>\n",
       "<polygon fill=\"#ffffff\" stroke=\"transparent\" points=\"142,-245 142,-269 209,-269 209,-245 142,-245\"/>\n",
       "<text text-anchor=\"start\" x=\"171\" y=\"-254.6\" font-family=\"-apple-system, BlinkMacSystemFont, 'Segoe UI', Helvetica, Arial, sans-serif, 'Apple Color Emoji', 'Segoe UI Emoji', 'Segoe UI Symbol'\" font-style=\"italic\" font-size=\"13.00\">String</text>\n",
       "<polygon fill=\"#f5f5f5\" stroke=\"transparent\" points=\"9,-221 9,-245 40,-245 40,-221 9,-221\"/>\n",
       "<polygon fill=\"#f5f5f5\" stroke=\"transparent\" points=\"40,-221 40,-245 142,-245 142,-221 40,-221\"/>\n",
       "<text text-anchor=\"start\" x=\"45\" y=\"-229.6\" font-family=\"-apple-system, BlinkMacSystemFont, 'Segoe UI', Helvetica, Arial, sans-serif, 'Apple Color Emoji', 'Segoe UI Emoji', 'Segoe UI Symbol'\" font-size=\"13.00\">Underlying</text>\n",
       "<polygon fill=\"#f5f5f5\" stroke=\"transparent\" points=\"142,-221 142,-245 209,-245 209,-221 142,-221\"/>\n",
       "<text text-anchor=\"start\" x=\"171\" y=\"-230.6\" font-family=\"-apple-system, BlinkMacSystemFont, 'Segoe UI', Helvetica, Arial, sans-serif, 'Apple Color Emoji', 'Segoe UI Emoji', 'Segoe UI Symbol'\" font-style=\"italic\" font-size=\"13.00\">String</text>\n",
       "<polygon fill=\"#ffffff\" stroke=\"transparent\" points=\"9,-197 9,-221 40,-221 40,-197 9,-197\"/>\n",
       "<polygon fill=\"#ffffff\" stroke=\"transparent\" points=\"40,-197 40,-221 142,-221 142,-197 40,-197\"/>\n",
       "<text text-anchor=\"start\" x=\"45\" y=\"-205.6\" font-family=\"-apple-system, BlinkMacSystemFont, 'Segoe UI', Helvetica, Arial, sans-serif, 'Apple Color Emoji', 'Segoe UI Emoji', 'Segoe UI Symbol'\" font-size=\"13.00\">Si_Date</text>\n",
       "<polygon fill=\"#ffffff\" stroke=\"transparent\" points=\"142,-197 142,-221 209,-221 209,-197 142,-197\"/>\n",
       "<text text-anchor=\"start\" x=\"147\" y=\"-206.6\" font-family=\"-apple-system, BlinkMacSystemFont, 'Segoe UI', Helvetica, Arial, sans-serif, 'Apple Color Emoji', 'Segoe UI Emoji', 'Segoe UI Symbol'\" font-style=\"italic\" font-size=\"13.00\">LocalDate</text>\n",
       "<polygon fill=\"#f5f5f5\" stroke=\"transparent\" points=\"9,-173 9,-197 40,-197 40,-173 9,-173\"/>\n",
       "<polygon fill=\"#f5f5f5\" stroke=\"transparent\" points=\"40,-173 40,-197 142,-197 142,-173 40,-173\"/>\n",
       "<text text-anchor=\"start\" x=\"45\" y=\"-181.6\" font-family=\"-apple-system, BlinkMacSystemFont, 'Segoe UI', Helvetica, Arial, sans-serif, 'Apple Color Emoji', 'Segoe UI Emoji', 'Segoe UI Symbol'\" font-size=\"13.00\">Ei_Date</text>\n",
       "<polygon fill=\"#f5f5f5\" stroke=\"transparent\" points=\"142,-173 142,-197 209,-197 209,-173 142,-173\"/>\n",
       "<text text-anchor=\"start\" x=\"147\" y=\"-182.6\" font-family=\"-apple-system, BlinkMacSystemFont, 'Segoe UI', Helvetica, Arial, sans-serif, 'Apple Color Emoji', 'Segoe UI Emoji', 'Segoe UI Symbol'\" font-style=\"italic\" font-size=\"13.00\">LocalDate</text>\n",
       "<polygon fill=\"#ffffff\" stroke=\"transparent\" points=\"9,-149 9,-173 40,-173 40,-149 9,-149\"/>\n",
       "<polygon fill=\"#ffffff\" stroke=\"transparent\" points=\"40,-149 40,-173 142,-173 142,-149 40,-149\"/>\n",
       "<text text-anchor=\"start\" x=\"45\" y=\"-157.6\" font-family=\"-apple-system, BlinkMacSystemFont, 'Segoe UI', Helvetica, Arial, sans-serif, 'Apple Color Emoji', 'Segoe UI Emoji', 'Segoe UI Symbol'\" font-size=\"13.00\">Mi_Date</text>\n",
       "<polygon fill=\"#ffffff\" stroke=\"transparent\" points=\"142,-149 142,-173 209,-173 209,-149 142,-149\"/>\n",
       "<text text-anchor=\"start\" x=\"147\" y=\"-158.6\" font-family=\"-apple-system, BlinkMacSystemFont, 'Segoe UI', Helvetica, Arial, sans-serif, 'Apple Color Emoji', 'Segoe UI Emoji', 'Segoe UI Symbol'\" font-style=\"italic\" font-size=\"13.00\">LocalDate</text>\n",
       "<polygon fill=\"#f5f5f5\" stroke=\"transparent\" points=\"9,-125 9,-149 40,-149 40,-125 9,-125\"/>\n",
       "<polygon fill=\"#f5f5f5\" stroke=\"transparent\" points=\"40,-125 40,-149 142,-149 142,-125 40,-125\"/>\n",
       "<text text-anchor=\"start\" x=\"45\" y=\"-133.6\" font-family=\"-apple-system, BlinkMacSystemFont, 'Segoe UI', Helvetica, Arial, sans-serif, 'Apple Color Emoji', 'Segoe UI Emoji', 'Segoe UI Symbol'\" font-size=\"13.00\">Ti_Date</text>\n",
       "<polygon fill=\"#f5f5f5\" stroke=\"transparent\" points=\"142,-125 142,-149 209,-149 209,-125 142,-125\"/>\n",
       "<text text-anchor=\"start\" x=\"147\" y=\"-134.6\" font-family=\"-apple-system, BlinkMacSystemFont, 'Segoe UI', Helvetica, Arial, sans-serif, 'Apple Color Emoji', 'Segoe UI Emoji', 'Segoe UI Symbol'\" font-style=\"italic\" font-size=\"13.00\">LocalDate</text>\n",
       "<polygon fill=\"#ffffff\" stroke=\"transparent\" points=\"9,-101 9,-125 40,-125 40,-101 9,-101\"/>\n",
       "<polygon fill=\"#ffffff\" stroke=\"transparent\" points=\"40,-101 40,-125 142,-125 142,-101 40,-101\"/>\n",
       "<text text-anchor=\"start\" x=\"45\" y=\"-109.6\" font-family=\"-apple-system, BlinkMacSystemFont, 'Segoe UI', Helvetica, Arial, sans-serif, 'Apple Color Emoji', 'Segoe UI Emoji', 'Segoe UI Symbol'\" font-size=\"13.00\">Strike Price</text>\n",
       "<polygon fill=\"#ffffff\" stroke=\"transparent\" points=\"142,-101 142,-125 209,-125 209,-101 142,-101\"/>\n",
       "<text text-anchor=\"start\" x=\"167\" y=\"-110.6\" font-family=\"-apple-system, BlinkMacSystemFont, 'Segoe UI', Helvetica, Arial, sans-serif, 'Apple Color Emoji', 'Segoe UI Emoji', 'Segoe UI Symbol'\" font-style=\"italic\" font-size=\"13.00\">double</text>\n",
       "<polygon fill=\"#f5f5f5\" stroke=\"transparent\" points=\"9,-77 9,-101 40,-101 40,-77 9,-77\"/>\n",
       "<polygon fill=\"#f5f5f5\" stroke=\"transparent\" points=\"40,-77 40,-101 142,-101 142,-77 40,-77\"/>\n",
       "<text text-anchor=\"start\" x=\"45\" y=\"-85.6\" font-family=\"-apple-system, BlinkMacSystemFont, 'Segoe UI', Helvetica, Arial, sans-serif, 'Apple Color Emoji', 'Segoe UI Emoji', 'Segoe UI Symbol'\" font-size=\"13.00\">Underlying Price</text>\n",
       "<polygon fill=\"#f5f5f5\" stroke=\"transparent\" points=\"142,-77 142,-101 209,-101 209,-77 142,-77\"/>\n",
       "<text text-anchor=\"start\" x=\"167\" y=\"-86.6\" font-family=\"-apple-system, BlinkMacSystemFont, 'Segoe UI', Helvetica, Arial, sans-serif, 'Apple Color Emoji', 'Segoe UI Emoji', 'Segoe UI Symbol'\" font-style=\"italic\" font-size=\"13.00\">double</text>\n",
       "<polygon fill=\"#ffffff\" stroke=\"transparent\" points=\"9,-53 9,-77 40,-77 40,-53 9,-53\"/>\n",
       "<polygon fill=\"#ffffff\" stroke=\"transparent\" points=\"40,-53 40,-77 142,-77 142,-53 40,-53\"/>\n",
       "<text text-anchor=\"start\" x=\"45\" y=\"-61.6\" font-family=\"-apple-system, BlinkMacSystemFont, 'Segoe UI', Helvetica, Arial, sans-serif, 'Apple Color Emoji', 'Segoe UI Emoji', 'Segoe UI Symbol'\" font-size=\"13.00\">AttachPoint</text>\n",
       "<polygon fill=\"#ffffff\" stroke=\"transparent\" points=\"142,-53 142,-77 209,-77 209,-53 142,-53\"/>\n",
       "<text text-anchor=\"start\" x=\"167\" y=\"-62.6\" font-family=\"-apple-system, BlinkMacSystemFont, 'Segoe UI', Helvetica, Arial, sans-serif, 'Apple Color Emoji', 'Segoe UI Emoji', 'Segoe UI Symbol'\" font-style=\"italic\" font-size=\"13.00\">double</text>\n",
       "<polygon fill=\"#f5f5f5\" stroke=\"transparent\" points=\"9,-29 9,-53 40,-53 40,-29 9,-29\"/>\n",
       "<polygon fill=\"#f5f5f5\" stroke=\"transparent\" points=\"40,-29 40,-53 142,-53 142,-29 40,-29\"/>\n",
       "<text text-anchor=\"start\" x=\"45\" y=\"-37.6\" font-family=\"-apple-system, BlinkMacSystemFont, 'Segoe UI', Helvetica, Arial, sans-serif, 'Apple Color Emoji', 'Segoe UI Emoji', 'Segoe UI Symbol'\" font-size=\"13.00\">DetachPoint</text>\n",
       "<polygon fill=\"#f5f5f5\" stroke=\"transparent\" points=\"142,-29 142,-53 209,-53 209,-29 142,-29\"/>\n",
       "<text text-anchor=\"start\" x=\"167\" y=\"-38.6\" font-family=\"-apple-system, BlinkMacSystemFont, 'Segoe UI', Helvetica, Arial, sans-serif, 'Apple Color Emoji', 'Segoe UI Emoji', 'Segoe UI Symbol'\" font-style=\"italic\" font-size=\"13.00\">double</text>\n",
       "<polygon fill=\"#ffffff\" stroke=\"transparent\" points=\"9,-5 9,-29 40,-29 40,-5 9,-5\"/>\n",
       "<polygon fill=\"#ffffff\" stroke=\"transparent\" points=\"40,-5 40,-29 142,-29 142,-5 40,-5\"/>\n",
       "<text text-anchor=\"start\" x=\"45\" y=\"-13.6\" font-family=\"-apple-system, BlinkMacSystemFont, 'Segoe UI', Helvetica, Arial, sans-serif, 'Apple Color Emoji', 'Segoe UI Emoji', 'Segoe UI Symbol'\" font-size=\"13.00\">IsCDO</text>\n",
       "<polygon fill=\"#ffffff\" stroke=\"transparent\" points=\"142,-5 142,-29 209,-29 209,-5 142,-5\"/>\n",
       "<text text-anchor=\"start\" x=\"171\" y=\"-14.6\" font-family=\"-apple-system, BlinkMacSystemFont, 'Segoe UI', Helvetica, Arial, sans-serif, 'Apple Color Emoji', 'Segoe UI Emoji', 'Segoe UI Symbol'\" font-style=\"italic\" font-size=\"13.00\">String</text>\n",
       "<polygon fill=\"none\" stroke=\"black\" points=\"8,-4 8,-510 210,-510 210,-4 8,-4\"/>\n",
       "</g>\n",
       "<!-- Parameters -->\n",
       "<g id=\"node2\" class=\"node\">\n",
       "<title>Parameters</title>\n",
       "<text text-anchor=\"start\" x=\"499\" y=\"-442.6\" font-family=\"-apple-system, BlinkMacSystemFont, 'Segoe UI', Helvetica, Arial, sans-serif, 'Apple Color Emoji', 'Segoe UI Emoji', 'Segoe UI Symbol'\" font-weight=\"bold\" font-size=\"13.00\">Parameters</text>\n",
       "<polygon fill=\"#f5f5f5\" stroke=\"transparent\" points=\"416,-409 416,-433 447,-433 447,-409 416,-409\"/>\n",
       "<text text-anchor=\"start\" x=\"421\" y=\"-418.6\" font-family=\"-apple-system, BlinkMacSystemFont, 'Segoe UI', Helvetica, Arial, sans-serif, 'Apple Color Emoji', 'Segoe UI Emoji', 'Segoe UI Symbol'\" font-weight=\"bold\" font-size=\"13.00\">key</text>\n",
       "<polygon fill=\"#f5f5f5\" stroke=\"transparent\" points=\"447,-409 447,-433 603,-433 603,-409 447,-409\"/>\n",
       "<text text-anchor=\"start\" x=\"452\" y=\"-417.6\" font-family=\"-apple-system, BlinkMacSystemFont, 'Segoe UI', Helvetica, Arial, sans-serif, 'Apple Color Emoji', 'Segoe UI Emoji', 'Segoe UI Symbol'\" font-size=\"13.00\">AssetClass</text>\n",
       "<polygon fill=\"#f5f5f5\" stroke=\"transparent\" points=\"603,-409 603,-433 650,-433 650,-409 603,-409\"/>\n",
       "<text text-anchor=\"start\" x=\"612\" y=\"-418.6\" font-family=\"-apple-system, BlinkMacSystemFont, 'Segoe UI', Helvetica, Arial, sans-serif, 'Apple Color Emoji', 'Segoe UI Emoji', 'Segoe UI Symbol'\" font-style=\"italic\" font-size=\"13.00\">String</text>\n",
       "<polygon fill=\"#ffffff\" stroke=\"transparent\" points=\"416,-385 416,-409 447,-409 447,-385 416,-385\"/>\n",
       "<text text-anchor=\"start\" x=\"421\" y=\"-394.6\" font-family=\"-apple-system, BlinkMacSystemFont, 'Segoe UI', Helvetica, Arial, sans-serif, 'Apple Color Emoji', 'Segoe UI Emoji', 'Segoe UI Symbol'\" font-weight=\"bold\" font-size=\"13.00\">key</text>\n",
       "<polygon fill=\"#ffffff\" stroke=\"transparent\" points=\"447,-385 447,-409 603,-409 603,-385 447,-385\"/>\n",
       "<text text-anchor=\"start\" x=\"452\" y=\"-393.6\" font-family=\"-apple-system, BlinkMacSystemFont, 'Segoe UI', Helvetica, Arial, sans-serif, 'Apple Color Emoji', 'Segoe UI Emoji', 'Segoe UI Symbol'\" font-size=\"13.00\">SubClass</text>\n",
       "<polygon fill=\"#ffffff\" stroke=\"transparent\" points=\"603,-385 603,-409 650,-409 650,-385 603,-385\"/>\n",
       "<text text-anchor=\"start\" x=\"612\" y=\"-394.6\" font-family=\"-apple-system, BlinkMacSystemFont, 'Segoe UI', Helvetica, Arial, sans-serif, 'Apple Color Emoji', 'Segoe UI Emoji', 'Segoe UI Symbol'\" font-style=\"italic\" font-size=\"13.00\">String</text>\n",
       "<polygon fill=\"#f5f5f5\" stroke=\"transparent\" points=\"416,-361 416,-385 447,-385 447,-361 416,-361\"/>\n",
       "<polygon fill=\"#f5f5f5\" stroke=\"transparent\" points=\"447,-361 447,-385 603,-385 603,-361 447,-361\"/>\n",
       "<text text-anchor=\"start\" x=\"452\" y=\"-369.6\" font-family=\"-apple-system, BlinkMacSystemFont, 'Segoe UI', Helvetica, Arial, sans-serif, 'Apple Color Emoji', 'Segoe UI Emoji', 'Segoe UI Symbol'\" font-size=\"13.00\">SupervisoryFactor</text>\n",
       "<polygon fill=\"#f5f5f5\" stroke=\"transparent\" points=\"603,-361 603,-385 650,-385 650,-361 603,-361\"/>\n",
       "<text text-anchor=\"start\" x=\"608\" y=\"-370.6\" font-family=\"-apple-system, BlinkMacSystemFont, 'Segoe UI', Helvetica, Arial, sans-serif, 'Apple Color Emoji', 'Segoe UI Emoji', 'Segoe UI Symbol'\" font-style=\"italic\" font-size=\"13.00\">double</text>\n",
       "<polygon fill=\"#ffffff\" stroke=\"transparent\" points=\"416,-337 416,-361 447,-361 447,-337 416,-337\"/>\n",
       "<polygon fill=\"#ffffff\" stroke=\"transparent\" points=\"447,-337 447,-361 603,-361 603,-337 447,-337\"/>\n",
       "<text text-anchor=\"start\" x=\"452\" y=\"-345.6\" font-family=\"-apple-system, BlinkMacSystemFont, 'Segoe UI', Helvetica, Arial, sans-serif, 'Apple Color Emoji', 'Segoe UI Emoji', 'Segoe UI Symbol'\" font-size=\"13.00\">Correlation</text>\n",
       "<polygon fill=\"#ffffff\" stroke=\"transparent\" points=\"603,-337 603,-361 650,-361 650,-337 603,-337\"/>\n",
       "<text text-anchor=\"start\" x=\"608\" y=\"-346.6\" font-family=\"-apple-system, BlinkMacSystemFont, 'Segoe UI', Helvetica, Arial, sans-serif, 'Apple Color Emoji', 'Segoe UI Emoji', 'Segoe UI Symbol'\" font-style=\"italic\" font-size=\"13.00\">double</text>\n",
       "<polygon fill=\"#f5f5f5\" stroke=\"transparent\" points=\"416,-313 416,-337 447,-337 447,-313 416,-313\"/>\n",
       "<polygon fill=\"#f5f5f5\" stroke=\"transparent\" points=\"447,-313 447,-337 603,-337 603,-313 447,-313\"/>\n",
       "<text text-anchor=\"start\" x=\"452\" y=\"-321.6\" font-family=\"-apple-system, BlinkMacSystemFont, 'Segoe UI', Helvetica, Arial, sans-serif, 'Apple Color Emoji', 'Segoe UI Emoji', 'Segoe UI Symbol'\" font-size=\"13.00\">SupervisoryOptionVolatility</text>\n",
       "<polygon fill=\"#f5f5f5\" stroke=\"transparent\" points=\"603,-313 603,-337 650,-337 650,-313 603,-313\"/>\n",
       "<text text-anchor=\"start\" x=\"608\" y=\"-322.6\" font-family=\"-apple-system, BlinkMacSystemFont, 'Segoe UI', Helvetica, Arial, sans-serif, 'Apple Color Emoji', 'Segoe UI Emoji', 'Segoe UI Symbol'\" font-style=\"italic\" font-size=\"13.00\">double</text>\n",
       "<polygon fill=\"#ffffff\" stroke=\"transparent\" points=\"416,-289 416,-313 447,-313 447,-289 416,-289\"/>\n",
       "<polygon fill=\"#ffffff\" stroke=\"transparent\" points=\"447,-289 447,-313 603,-313 603,-289 447,-289\"/>\n",
       "<text text-anchor=\"start\" x=\"452\" y=\"-297.6\" font-family=\"-apple-system, BlinkMacSystemFont, 'Segoe UI', Helvetica, Arial, sans-serif, 'Apple Color Emoji', 'Segoe UI Emoji', 'Segoe UI Symbol'\" font-size=\"13.00\">HS</text>\n",
       "<polygon fill=\"#ffffff\" stroke=\"transparent\" points=\"603,-289 603,-313 650,-313 650,-289 603,-289\"/>\n",
       "<text text-anchor=\"start\" x=\"612\" y=\"-298.6\" font-family=\"-apple-system, BlinkMacSystemFont, 'Segoe UI', Helvetica, Arial, sans-serif, 'Apple Color Emoji', 'Segoe UI Emoji', 'Segoe UI Symbol'\" font-style=\"italic\" font-size=\"13.00\">String</text>\n",
       "<polygon fill=\"none\" stroke=\"black\" points=\"415,-288 415,-458 651,-458 651,-288 415,-288\"/>\n",
       "</g>\n",
       "<!-- Trades&#45;&gt;Parameters -->\n",
       "<g id=\"edge2\" class=\"edge\">\n",
       "<title>Trades-&gt;Parameters</title>\n",
       "<path fill=\"none\" stroke=\"black\" d=\"M218.13,-286.72C272.61,-301.7 339.2,-320 397.01,-335.89\"/>\n",
       "<polygon fill=\"black\" stroke=\"black\" points=\"396.38,-339.35 406.95,-338.63 398.24,-332.6 396.38,-339.35\"/>\n",
       "<text text-anchor=\"middle\" x=\"312.5\" y=\"-349.6\" font-family=\"-apple-system, BlinkMacSystemFont, 'Segoe UI', Helvetica, Arial, sans-serif, 'Apple Color Emoji', 'Segoe UI Emoji', 'Segoe UI Symbol'\" font-size=\"13.00\">AssetClass → AssetClass</text>\n",
       "<text text-anchor=\"middle\" x=\"312.5\" y=\"-335.6\" font-family=\"-apple-system, BlinkMacSystemFont, 'Segoe UI', Helvetica, Arial, sans-serif, 'Apple Color Emoji', 'Segoe UI Emoji', 'Segoe UI Symbol'\" font-size=\"13.00\">SubClass → SubClass</text>\n",
       "</g>\n",
       "<!-- NettingSets -->\n",
       "<g id=\"node3\" class=\"node\">\n",
       "<title>NettingSets</title>\n",
       "<text text-anchor=\"start\" x=\"498\" y=\"-246.6\" font-family=\"-apple-system, BlinkMacSystemFont, 'Segoe UI', Helvetica, Arial, sans-serif, 'Apple Color Emoji', 'Segoe UI Emoji', 'Segoe UI Symbol'\" font-weight=\"bold\" font-size=\"13.00\">NettingSets</text>\n",
       "<polygon fill=\"#f5f5f5\" stroke=\"transparent\" points=\"438,-213 438,-237 469,-237 469,-213 438,-213\"/>\n",
       "<text text-anchor=\"start\" x=\"443\" y=\"-222.6\" font-family=\"-apple-system, BlinkMacSystemFont, 'Segoe UI', Helvetica, Arial, sans-serif, 'Apple Color Emoji', 'Segoe UI Emoji', 'Segoe UI Symbol'\" font-weight=\"bold\" font-size=\"13.00\">key</text>\n",
       "<polygon fill=\"#f5f5f5\" stroke=\"transparent\" points=\"469,-213 469,-237 561,-237 561,-213 469,-213\"/>\n",
       "<text text-anchor=\"start\" x=\"474\" y=\"-221.6\" font-family=\"-apple-system, BlinkMacSystemFont, 'Segoe UI', Helvetica, Arial, sans-serif, 'Apple Color Emoji', 'Segoe UI Emoji', 'Segoe UI Symbol'\" font-size=\"13.00\">AsOfDate</text>\n",
       "<polygon fill=\"#f5f5f5\" stroke=\"transparent\" points=\"561,-213 561,-237 628,-237 628,-213 561,-213\"/>\n",
       "<text text-anchor=\"start\" x=\"566\" y=\"-222.6\" font-family=\"-apple-system, BlinkMacSystemFont, 'Segoe UI', Helvetica, Arial, sans-serif, 'Apple Color Emoji', 'Segoe UI Emoji', 'Segoe UI Symbol'\" font-style=\"italic\" font-size=\"13.00\">LocalDate</text>\n",
       "<polygon fill=\"#ffffff\" stroke=\"transparent\" points=\"438,-189 438,-213 469,-213 469,-189 438,-189\"/>\n",
       "<text text-anchor=\"start\" x=\"443\" y=\"-198.6\" font-family=\"-apple-system, BlinkMacSystemFont, 'Segoe UI', Helvetica, Arial, sans-serif, 'Apple Color Emoji', 'Segoe UI Emoji', 'Segoe UI Symbol'\" font-weight=\"bold\" font-size=\"13.00\">key</text>\n",
       "<polygon fill=\"#ffffff\" stroke=\"transparent\" points=\"469,-189 469,-213 561,-213 561,-189 469,-189\"/>\n",
       "<text text-anchor=\"start\" x=\"474\" y=\"-197.6\" font-family=\"-apple-system, BlinkMacSystemFont, 'Segoe UI', Helvetica, Arial, sans-serif, 'Apple Color Emoji', 'Segoe UI Emoji', 'Segoe UI Symbol'\" font-size=\"13.00\">NettingSetId</text>\n",
       "<polygon fill=\"#ffffff\" stroke=\"transparent\" points=\"561,-189 561,-213 628,-213 628,-189 561,-189\"/>\n",
       "<text text-anchor=\"start\" x=\"590\" y=\"-198.6\" font-family=\"-apple-system, BlinkMacSystemFont, 'Segoe UI', Helvetica, Arial, sans-serif, 'Apple Color Emoji', 'Segoe UI Emoji', 'Segoe UI Symbol'\" font-style=\"italic\" font-size=\"13.00\">String</text>\n",
       "<polygon fill=\"#f5f5f5\" stroke=\"transparent\" points=\"438,-165 438,-189 469,-189 469,-165 438,-165\"/>\n",
       "<polygon fill=\"#f5f5f5\" stroke=\"transparent\" points=\"469,-165 469,-189 561,-189 561,-165 469,-165\"/>\n",
       "<text text-anchor=\"start\" x=\"474\" y=\"-173.6\" font-family=\"-apple-system, BlinkMacSystemFont, 'Segoe UI', Helvetica, Arial, sans-serif, 'Apple Color Emoji', 'Segoe UI Emoji', 'Segoe UI Symbol'\" font-size=\"13.00\">CounterpartyId</text>\n",
       "<polygon fill=\"#f5f5f5\" stroke=\"transparent\" points=\"561,-165 561,-189 628,-189 628,-165 561,-165\"/>\n",
       "<text text-anchor=\"start\" x=\"590\" y=\"-174.6\" font-family=\"-apple-system, BlinkMacSystemFont, 'Segoe UI', Helvetica, Arial, sans-serif, 'Apple Color Emoji', 'Segoe UI Emoji', 'Segoe UI Symbol'\" font-style=\"italic\" font-size=\"13.00\">String</text>\n",
       "<polygon fill=\"#ffffff\" stroke=\"transparent\" points=\"438,-141 438,-165 469,-165 469,-141 438,-141\"/>\n",
       "<polygon fill=\"#ffffff\" stroke=\"transparent\" points=\"469,-141 469,-165 561,-165 561,-141 469,-141\"/>\n",
       "<text text-anchor=\"start\" x=\"474\" y=\"-149.6\" font-family=\"-apple-system, BlinkMacSystemFont, 'Segoe UI', Helvetica, Arial, sans-serif, 'Apple Color Emoji', 'Segoe UI Emoji', 'Segoe UI Symbol'\" font-size=\"13.00\">MPOR</text>\n",
       "<polygon fill=\"#ffffff\" stroke=\"transparent\" points=\"561,-141 561,-165 628,-165 628,-141 561,-141\"/>\n",
       "<text text-anchor=\"start\" x=\"586\" y=\"-150.6\" font-family=\"-apple-system, BlinkMacSystemFont, 'Segoe UI', Helvetica, Arial, sans-serif, 'Apple Color Emoji', 'Segoe UI Emoji', 'Segoe UI Symbol'\" font-style=\"italic\" font-size=\"13.00\">double</text>\n",
       "<polygon fill=\"#f5f5f5\" stroke=\"transparent\" points=\"438,-117 438,-141 469,-141 469,-117 438,-117\"/>\n",
       "<polygon fill=\"#f5f5f5\" stroke=\"transparent\" points=\"469,-117 469,-141 561,-141 561,-117 469,-117\"/>\n",
       "<text text-anchor=\"start\" x=\"474\" y=\"-125.6\" font-family=\"-apple-system, BlinkMacSystemFont, 'Segoe UI', Helvetica, Arial, sans-serif, 'Apple Color Emoji', 'Segoe UI Emoji', 'Segoe UI Symbol'\" font-size=\"13.00\">Collateral</text>\n",
       "<polygon fill=\"#f5f5f5\" stroke=\"transparent\" points=\"561,-117 561,-141 628,-141 628,-117 561,-117\"/>\n",
       "<text text-anchor=\"start\" x=\"586\" y=\"-126.6\" font-family=\"-apple-system, BlinkMacSystemFont, 'Segoe UI', Helvetica, Arial, sans-serif, 'Apple Color Emoji', 'Segoe UI Emoji', 'Segoe UI Symbol'\" font-style=\"italic\" font-size=\"13.00\">double</text>\n",
       "<polygon fill=\"#ffffff\" stroke=\"transparent\" points=\"438,-93 438,-117 469,-117 469,-93 438,-93\"/>\n",
       "<polygon fill=\"#ffffff\" stroke=\"transparent\" points=\"469,-93 469,-117 561,-117 561,-93 469,-93\"/>\n",
       "<text text-anchor=\"start\" x=\"474\" y=\"-101.6\" font-family=\"-apple-system, BlinkMacSystemFont, 'Segoe UI', Helvetica, Arial, sans-serif, 'Apple Color Emoji', 'Segoe UI Emoji', 'Segoe UI Symbol'\" font-size=\"13.00\">NICA</text>\n",
       "<polygon fill=\"#ffffff\" stroke=\"transparent\" points=\"561,-93 561,-117 628,-117 628,-93 561,-93\"/>\n",
       "<text text-anchor=\"start\" x=\"586\" y=\"-102.6\" font-family=\"-apple-system, BlinkMacSystemFont, 'Segoe UI', Helvetica, Arial, sans-serif, 'Apple Color Emoji', 'Segoe UI Emoji', 'Segoe UI Symbol'\" font-style=\"italic\" font-size=\"13.00\">double</text>\n",
       "<polygon fill=\"#f5f5f5\" stroke=\"transparent\" points=\"438,-69 438,-93 469,-93 469,-69 438,-69\"/>\n",
       "<polygon fill=\"#f5f5f5\" stroke=\"transparent\" points=\"469,-69 469,-93 561,-93 561,-69 469,-69\"/>\n",
       "<text text-anchor=\"start\" x=\"474\" y=\"-77.6\" font-family=\"-apple-system, BlinkMacSystemFont, 'Segoe UI', Helvetica, Arial, sans-serif, 'Apple Color Emoji', 'Segoe UI Emoji', 'Segoe UI Symbol'\" font-size=\"13.00\">TH</text>\n",
       "<polygon fill=\"#f5f5f5\" stroke=\"transparent\" points=\"561,-69 561,-93 628,-93 628,-69 561,-69\"/>\n",
       "<text text-anchor=\"start\" x=\"586\" y=\"-78.6\" font-family=\"-apple-system, BlinkMacSystemFont, 'Segoe UI', Helvetica, Arial, sans-serif, 'Apple Color Emoji', 'Segoe UI Emoji', 'Segoe UI Symbol'\" font-style=\"italic\" font-size=\"13.00\">double</text>\n",
       "<polygon fill=\"#ffffff\" stroke=\"transparent\" points=\"438,-45 438,-69 469,-69 469,-45 438,-45\"/>\n",
       "<polygon fill=\"#ffffff\" stroke=\"transparent\" points=\"469,-45 469,-69 561,-69 561,-45 469,-45\"/>\n",
       "<text text-anchor=\"start\" x=\"474\" y=\"-53.6\" font-family=\"-apple-system, BlinkMacSystemFont, 'Segoe UI', Helvetica, Arial, sans-serif, 'Apple Color Emoji', 'Segoe UI Emoji', 'Segoe UI Symbol'\" font-size=\"13.00\">MTA</text>\n",
       "<polygon fill=\"#ffffff\" stroke=\"transparent\" points=\"561,-45 561,-69 628,-69 628,-45 561,-45\"/>\n",
       "<text text-anchor=\"start\" x=\"586\" y=\"-54.6\" font-family=\"-apple-system, BlinkMacSystemFont, 'Segoe UI', Helvetica, Arial, sans-serif, 'Apple Color Emoji', 'Segoe UI Emoji', 'Segoe UI Symbol'\" font-style=\"italic\" font-size=\"13.00\">double</text>\n",
       "<polygon fill=\"#f5f5f5\" stroke=\"transparent\" points=\"438,-21 438,-45 469,-45 469,-21 438,-21\"/>\n",
       "<polygon fill=\"#f5f5f5\" stroke=\"transparent\" points=\"469,-21 469,-45 561,-45 561,-21 469,-21\"/>\n",
       "<text text-anchor=\"start\" x=\"474\" y=\"-29.6\" font-family=\"-apple-system, BlinkMacSystemFont, 'Segoe UI', Helvetica, Arial, sans-serif, 'Apple Color Emoji', 'Segoe UI Emoji', 'Segoe UI Symbol'\" font-size=\"13.00\">isMargined</text>\n",
       "<polygon fill=\"#f5f5f5\" stroke=\"transparent\" points=\"561,-21 561,-45 628,-45 628,-21 561,-21\"/>\n",
       "<text text-anchor=\"start\" x=\"590\" y=\"-30.6\" font-family=\"-apple-system, BlinkMacSystemFont, 'Segoe UI', Helvetica, Arial, sans-serif, 'Apple Color Emoji', 'Segoe UI Emoji', 'Segoe UI Symbol'\" font-style=\"italic\" font-size=\"13.00\">String</text>\n",
       "<polygon fill=\"none\" stroke=\"black\" points=\"437,-20 437,-262 629,-262 629,-20 437,-20\"/>\n",
       "</g>\n",
       "<!-- Trades&#45;&gt;NettingSets -->\n",
       "<g id=\"edge1\" class=\"edge\">\n",
       "<title>Trades-&gt;NettingSets</title>\n",
       "<path fill=\"none\" stroke=\"black\" d=\"M218.13,-227.28C279.67,-210.36 356.67,-189.19 419.01,-172.06\"/>\n",
       "<polygon fill=\"black\" stroke=\"black\" points=\"420.17,-175.37 428.88,-169.35 418.31,-168.62 420.17,-175.37\"/>\n",
       "<text text-anchor=\"middle\" x=\"312.5\" y=\"-236.6\" font-family=\"-apple-system, BlinkMacSystemFont, 'Segoe UI', Helvetica, Arial, sans-serif, 'Apple Color Emoji', 'Segoe UI Emoji', 'Segoe UI Symbol'\" font-size=\"13.00\">NettingSetId → NettingSetId</text>\n",
       "<text text-anchor=\"middle\" x=\"312.5\" y=\"-222.6\" font-family=\"-apple-system, BlinkMacSystemFont, 'Segoe UI', Helvetica, Arial, sans-serif, 'Apple Color Emoji', 'Segoe UI Emoji', 'Segoe UI Symbol'\" font-size=\"13.00\">AsOfDate → AsOfDate</text>\n",
       "</g>\n",
       "</g>\n",
       "</svg>"
      ],
      "text/plain": [
       "<IPython.core.display.SVG object>"
      ]
     },
     "execution_count": 11,
     "metadata": {},
     "output_type": "execute_result"
    }
   ],
   "source": [
    "cube.schema"
   ]
  },
  {
   "cell_type": "markdown",
   "metadata": {},
   "source": [
    "# SA-CCR calculations\n",
    "\n",
    "In this section we will create aggregation functions (measures) to compute EAD from the input data described above.\n",
    "\n",
    "We will proceed bottom-up  - starting with the supervisory duration metric, then move onto the trade-level adjusted notional, maturity factors, delta adjustments, addons and the necessary EAD components. \n",
    "\n",
    "We will keep referring to the correponding paragraphs of the [CRE52](https://www.bis.org/basel_framework/chapter/CRE/52.htm?inforce=20191215) as we progress."
   ]
  },
  {
   "cell_type": "markdown",
   "metadata": {},
   "source": [
    "## Supervisory duration - [52.34]"
   ]
  },
  {
   "cell_type": "markdown",
   "metadata": {},
   "source": [
    "In this section we will compute Supervisory Duration per formula defined in CRE52 para [52.34]:\n",
    "\n",
    "$$SupervisoryDuration = max(\\text{10 business days}, \\frac{(e^{-0.05*S_i} - e^{-0.05*E_i})}{0.05})$$ for Credit Spread and Interest Rates. We assume it to be equal to 1 for all other Asset Classes. \n",
    "\n",
    "In this expression, time period parameters are defined in [52.31] as follows:\n",
    "\n",
    "- $S_i$ is the period of time from the valuation date until start of the time period referenced by an interest rate or credit contract\n",
    "- and $E_i$ is the period of time from the valuation date until the end of the time period referenced by an interest rate or credit contract.\n",
    "\n",
    "We will compute them from the Si and Ei dates provided in the input data."
   ]
  },
  {
   "cell_type": "code",
   "execution_count": 12,
   "metadata": {},
   "outputs": [],
   "source": [
    "number_of_days_in_year = 365\n",
    "\n",
    "si_date_diff = (\n",
    "    tt.date_diff(l[\"AsOfDate\"], l[\"Si_Date\"], unit=\"days\") / number_of_days_in_year\n",
    ")\n",
    "ei_date_diff = (\n",
    "    tt.date_diff(l[\"AsOfDate\"], l[\"Ei_Date\"], unit=\"days\") / number_of_days_in_year\n",
    ")\n",
    "\n",
    "# The Si and Ei measures will be computed only for the interest rates and credit spread products.\n",
    "m[\"Si\"] = tt.filter(\n",
    "    si_date_diff,\n",
    "    l[\"AssetClass\"].isin(\"IR\", \"CR_IDX\", \"CR_SN\"),\n",
    ")\n",
    "m[\"Ei\"] = tt.filter(\n",
    "    ei_date_diff,\n",
    "    l[\"AssetClass\"].isin(\"IR\", \"CR_IDX\", \"CR_SN\"),\n",
    ")\n",
    "\n",
    "# Supervisory duration is floored at 10 business dates - see [52.34]\n",
    "supervisory_duration_floor = 10 / 250\n",
    "\n",
    "# The following code will create a measure allowing us to visualize the supervisory duration\n",
    "m[\"Supervisory_Duration\"] = tt.where(\n",
    "    l[\"AssetClass\"].isin(\"IR\", \"CR_IDX\", \"CR_SN\"),\n",
    "    tt.math.max(\n",
    "        (tt.math.exp(-0.05 * m[\"Si\"]) - tt.math.exp(-0.05 * m[\"Ei\"])) / 0.05,\n",
    "        supervisory_duration_floor,\n",
    "    ),\n",
    "    1.0,\n",
    ")\n",
    "m[\"Supervisory_Duration\"].formatter = \"DOUBLE[#0,0000]\""
   ]
  },
  {
   "cell_type": "code",
   "execution_count": 13,
   "metadata": {},
   "outputs": [
    {
     "data": {
      "text/html": [
       "<div>\n",
       "<style scoped>\n",
       "    .dataframe tbody tr th:only-of-type {\n",
       "        vertical-align: middle;\n",
       "    }\n",
       "\n",
       "    .dataframe tbody tr th {\n",
       "        vertical-align: top;\n",
       "    }\n",
       "\n",
       "    .dataframe thead th {\n",
       "        text-align: right;\n",
       "    }\n",
       "</style>\n",
       "<table border=\"1\" class=\"dataframe\">\n",
       "  <thead>\n",
       "    <tr style=\"text-align: right;\">\n",
       "      <th></th>\n",
       "      <th></th>\n",
       "      <th></th>\n",
       "      <th>Supervisory_Duration</th>\n",
       "      <th>Si</th>\n",
       "      <th>Ei</th>\n",
       "    </tr>\n",
       "    <tr>\n",
       "      <th>AssetClass</th>\n",
       "      <th>Si_Date</th>\n",
       "      <th>Ei_Date</th>\n",
       "      <th></th>\n",
       "      <th></th>\n",
       "      <th></th>\n",
       "    </tr>\n",
       "  </thead>\n",
       "  <tbody>\n",
       "    <tr>\n",
       "      <th>CO</th>\n",
       "      <th>2020-01-13</th>\n",
       "      <th>2028-01-13</th>\n",
       "      <td>1.00</td>\n",
       "      <td>None</td>\n",
       "      <td>None</td>\n",
       "    </tr>\n",
       "    <tr>\n",
       "      <th rowspan=\"2\" valign=\"top\">CR_IDX</th>\n",
       "      <th rowspan=\"2\" valign=\"top\">2020-01-13</th>\n",
       "      <th>2025-01-13</th>\n",
       "      <td>4.43</td>\n",
       "      <td>0.00</td>\n",
       "      <td>5.01</td>\n",
       "    </tr>\n",
       "    <tr>\n",
       "      <th>2026-01-13</th>\n",
       "      <td>5.19</td>\n",
       "      <td>0.00</td>\n",
       "      <td>6.01</td>\n",
       "    </tr>\n",
       "  </tbody>\n",
       "</table>\n",
       "</div>"
      ],
      "text/plain": [
       "                                  Supervisory_Duration    Si    Ei\n",
       "AssetClass Si_Date    Ei_Date                                     \n",
       "CO         2020-01-13 2028-01-13                  1.00  None  None\n",
       "CR_IDX     2020-01-13 2025-01-13                  4.43  0.00  5.01\n",
       "                      2026-01-13                  5.19  0.00  6.01"
      ]
     },
     "execution_count": 13,
     "metadata": {},
     "output_type": "execute_result"
    }
   ],
   "source": [
    "# The levels required to compute Supervisory_Duration can be computed __above__ trade level, as\n",
    "# the minimum required attributes are: Si_Date, Ei_Date and AssetClass.\n",
    "cube.query(\n",
    "    m[\"Supervisory_Duration\"],\n",
    "    m[\"Si\"],\n",
    "    m[\"Ei\"],\n",
    "    levels=[l[\"AssetClass\"], l[\"Si_Date\"], l[\"Ei_Date\"]],\n",
    ").head(3)"
   ]
  },
  {
   "cell_type": "markdown",
   "metadata": {},
   "source": [
    "## Trade-level adjusted notional (for trade i): di - [52.34]\n",
    "\n",
    "Having defined the Supervisory Duration measure, we'll apply it to notionals input data to obtain adjusted notional. Please review the paragraphs of the CRE52 [52.33] - [52.34] for more information on the defintinions of these formula.\n",
    "\n",
    "$$AdjustedNotional = Notional * SupervisoryDuration$$"
   ]
  },
  {
   "cell_type": "code",
   "execution_count": 14,
   "metadata": {},
   "outputs": [],
   "source": [
    "# This measure will aggregate input data - Notional Field\n",
    "# We assume that all Notionals are provided in the same currency, otherwise we'd need to apply\n",
    "# FX rates here.\n",
    "m[\"Notional\"] = tt.agg.sum(trades_table[\"Notional\"])"
   ]
  },
  {
   "cell_type": "code",
   "execution_count": 15,
   "metadata": {},
   "outputs": [],
   "source": [
    "# Aggregation is applied per AssetClass, Si_Date and Ei_Dates as these are the levels\n",
    "# required by the Supervisory_Duration calculation.\n",
    "\n",
    "m[\"Adjusted_Notional\"] = tt.agg.sum(\n",
    "    m[\"Notional\"] * m[\"Supervisory_Duration\"],\n",
    "    scope=tt.scope.origin(l[\"AssetClass\"], l[\"Si_Date\"], l[\"Ei_Date\"]),\n",
    ")"
   ]
  },
  {
   "cell_type": "code",
   "execution_count": 16,
   "metadata": {},
   "outputs": [
    {
     "data": {
      "text/html": [
       "<div>\n",
       "<style scoped>\n",
       "    .dataframe tbody tr th:only-of-type {\n",
       "        vertical-align: middle;\n",
       "    }\n",
       "\n",
       "    .dataframe tbody tr th {\n",
       "        vertical-align: top;\n",
       "    }\n",
       "\n",
       "    .dataframe thead th {\n",
       "        text-align: right;\n",
       "    }\n",
       "</style>\n",
       "<table border=\"1\" class=\"dataframe\">\n",
       "  <thead>\n",
       "    <tr style=\"text-align: right;\">\n",
       "      <th></th>\n",
       "      <th>Adjusted_Notional</th>\n",
       "    </tr>\n",
       "    <tr>\n",
       "      <th>TradeId</th>\n",
       "      <th></th>\n",
       "    </tr>\n",
       "  </thead>\n",
       "  <tbody>\n",
       "    <tr>\n",
       "      <th>t1</th>\n",
       "      <td>30,000,000.00</td>\n",
       "    </tr>\n",
       "    <tr>\n",
       "      <th>t10</th>\n",
       "      <td>18,000,000.00</td>\n",
       "    </tr>\n",
       "    <tr>\n",
       "      <th>t100</th>\n",
       "      <td>9,000.00</td>\n",
       "    </tr>\n",
       "  </tbody>\n",
       "</table>\n",
       "</div>"
      ],
      "text/plain": [
       "         Adjusted_Notional\n",
       "TradeId                   \n",
       "t1           30,000,000.00\n",
       "t10          18,000,000.00\n",
       "t100              9,000.00"
      ]
     },
     "execution_count": 16,
     "metadata": {},
     "output_type": "execute_result"
    }
   ],
   "source": [
    "cube.query(m[\"Adjusted_Notional\"], levels=[l[\"TradeId\"]]).head(3)"
   ]
  },
  {
   "cell_type": "markdown",
   "metadata": {},
   "source": [
    "## Maturity factors - [52.48] - [52.53]\n",
    "\n",
    "The Maturity Factor takes different values, depending on whether the trade is unmargined or margined:\n",
    "\n",
    "unmargined [52.48]:\n",
    "\n",
    "$$MF = \\sqrt{\\frac{min(M_i, 1year)}{1year}}$$\n",
    "\n",
    "margined [52.52]:\n",
    "\n",
    "$$MF = 1.5 * \\sqrt{\\frac{MPOR}{1 year}}$$\n",
    "\n",
    "In the above formulae:\n",
    "\n",
    "- $MPOR$ is the Margin Period Of Risk, provided in the input dataset, let's assume it has been provided in calendar days (not business days)\n",
    "- $M_i$ is the maturity of trade $i$"
   ]
  },
  {
   "cell_type": "code",
   "execution_count": 17,
   "metadata": {},
   "outputs": [],
   "source": [
    "# Measure for the input MPOR values:\n",
    "m[\"MPOR\"] = tt.value(nettingSets_table[\"MPOR\"])"
   ]
  },
  {
   "cell_type": "code",
   "execution_count": 18,
   "metadata": {},
   "outputs": [],
   "source": [
    "# This measure will compute date difference depending on the value date and the maturity date:\n",
    "m[\"Mi\"] = tt.date_diff(l[\"AsOfDate\"], l[\"Mi_Date\"], unit=\"days\")\n",
    "\n",
    "# MF_unmargined formula examples takes into account 10 days business days floor for Mi:\n",
    "MF_floor = 10\n",
    "MF_unmargined = tt.math.sqrt(\n",
    "    tt.math.min(tt.math.max(m[\"Mi\"], MF_floor), number_of_days_in_year)\n",
    "    / number_of_days_in_year\n",
    ")\n",
    "\n",
    "# In the following calculation of MF_margined we assume that MPOR is provided in calendar days.\n",
    "# Please note that this formula might need to be adjusted to incorporate floors defined in [52.50].\n",
    "MF_margined = 1.5 * tt.math.sqrt(m[\"MPOR\"] / number_of_days_in_year)\n",
    "\n",
    "\n",
    "# This measure will compute maturity factor, depending on whether the trade is margined or unmargined:\n",
    "m[\"Maturity_Factor\"] = tt.agg.sum(\n",
    "    tt.where(\n",
    "        l[\"isMargined\"] == \"Y\",\n",
    "        MF_margined,\n",
    "        MF_unmargined,\n",
    "    ),\n",
    "    scope=tt.scope.origin(l[\"NettingSetId\"]),\n",
    ")"
   ]
  },
  {
   "cell_type": "code",
   "execution_count": 19,
   "metadata": {
    "scrolled": true
   },
   "outputs": [
    {
     "data": {
      "text/html": [
       "<div>\n",
       "<style scoped>\n",
       "    .dataframe tbody tr th:only-of-type {\n",
       "        vertical-align: middle;\n",
       "    }\n",
       "\n",
       "    .dataframe tbody tr th {\n",
       "        vertical-align: top;\n",
       "    }\n",
       "\n",
       "    .dataframe thead th {\n",
       "        text-align: right;\n",
       "    }\n",
       "</style>\n",
       "<table border=\"1\" class=\"dataframe\">\n",
       "  <thead>\n",
       "    <tr style=\"text-align: right;\">\n",
       "      <th></th>\n",
       "      <th></th>\n",
       "      <th>Maturity_Factor</th>\n",
       "    </tr>\n",
       "    <tr>\n",
       "      <th>NettingSetId</th>\n",
       "      <th>Mi_Date</th>\n",
       "      <th></th>\n",
       "    </tr>\n",
       "  </thead>\n",
       "  <tbody>\n",
       "    <tr>\n",
       "      <th rowspan=\"3\" valign=\"top\">EX1</th>\n",
       "      <th>2021-01-13</th>\n",
       "      <td>1.00</td>\n",
       "    </tr>\n",
       "    <tr>\n",
       "      <th>2022-01-13</th>\n",
       "      <td>1.00</td>\n",
       "    </tr>\n",
       "    <tr>\n",
       "      <th>2023-01-13</th>\n",
       "      <td>1.00</td>\n",
       "    </tr>\n",
       "  </tbody>\n",
       "</table>\n",
       "</div>"
      ],
      "text/plain": [
       "                         Maturity_Factor\n",
       "NettingSetId Mi_Date                    \n",
       "EX1          2021-01-13             1.00\n",
       "             2022-01-13             1.00\n",
       "             2023-01-13             1.00"
      ]
     },
     "execution_count": 19,
     "metadata": {},
     "output_type": "execute_result"
    }
   ],
   "source": [
    "# Maturity Factor requires NettingSetId and the Mi date:\n",
    "cube.query(m[\"Maturity_Factor\"], levels=[l[\"NettingSetId\"], l[\"Mi_Date\"]]).head(3)"
   ]
  },
  {
   "cell_type": "markdown",
   "metadata": {},
   "source": [
    "## Supervisory delta adjustments - [52.38] - [52.41]\n",
    "\n",
    "Supervisory Delta takes different values depending on the nature of the instrument: \n",
    "\n",
    "| $\\delta_i$        | Bought / Long in the primary risk factor                                          | Sold / Short in the primary risk factor                                            |\n",
    "|-------------------|-----------------------------------------------------------------------------------|----------------------------------------------------------------------------------  |\n",
    "| Call Options      | $+ \\Phi(\\frac{ln(P_i / K_i) + 0.5 * \\sigma_i^2 * T_i}{\\sigma_i * \\sqrt{T_i}})$    | $ - \\Phi(\\frac{ln(P_i / K_i) + 0.5 * \\sigma_i^2 * T_i}{\\sigma_i * \\sqrt{T_i}})$    |\n",
    "| Put Options       | $- \\Phi( - \\frac{ln(P_i / K_i) + 0.5 * \\sigma_i^2 * T_i}{\\sigma_i * \\sqrt{T_i}})$ | $ + \\Phi( - \\frac{ln(P_i / K_i) + 0.5 * \\sigma_i^2 * T_i}{\\sigma_i * \\sqrt{T_i}})$ |\n",
    "| CDO tranches      | $+ \\frac{15}{(1+14*A_i)*(1+14*D_i)}$                                              | $- \\frac{15}{(1+14*A_i)*(1+14*D_i)}$                                               |\n",
    "| Other Instruments | $+1$                                                                              | $-1$                                                                               |\n",
    "\n",
    "Where $\\Phi$ is the standard normal cumulative distribution function,\n",
    "\n",
    "- $P_i$ is the Underlying Price of trade $i$,\n",
    "- $K_i$ is the Strike Price of trade $i$,\n",
    "- $\\sigma_i$ is the Supervisory Volatility of trade $i$,\n",
    "- $T_i$ is the latest contractual exercise date of the option $i$\n",
    "- $A_i$ is the Attachment Point of the CDO tranche $i$\n",
    "- and $D_i$ is the Detachment Point of the CDO tranche $i$\n",
    "\n",
    "Delta adjustment will be applied to trade-level effective notional, together with maturity factor to obtain effective notional. We'll define Delta adjustment for any trade as product of:\n",
    "\n",
    "- Long/Short indicator: 1 or -1\n",
    "- Delta adjustment for call options or 1 - `call_multiplier`,\n",
    "- Delta adjustment for put options or 1 - `put_multiplier`,\n",
    "- CDO adjustment or 1 - `cdo_multiplier`.\n",
    "\n",
    "Let's start by adding measures displaying input data:"
   ]
  },
  {
   "cell_type": "code",
   "execution_count": 20,
   "metadata": {},
   "outputs": [],
   "source": [
    "m[\"SupervisoryOptionVolatility.VALUE\"] = tt.value(\n",
    "    supervisoryParameters_table[\"SupervisoryOptionVolatility\"], levels=[l[\"TradeId\"]]\n",
    ")"
   ]
  },
  {
   "cell_type": "code",
   "execution_count": 21,
   "metadata": {},
   "outputs": [],
   "source": [
    "# Measures displaying trade parameters (input data):\n",
    "m[\"Underlying Price\"] = tt.value(\n",
    "    trades_table[\"Underlying Price\"], levels=[l[\"TradeId\"]]\n",
    ")\n",
    "m[\"Strike Price\"] = tt.value(trades_table[\"Strike Price\"], levels=[l[\"TradeId\"]])\n",
    "m[\"AttachPoint\"] = tt.value(trades_table[\"AttachPoint\"], levels=[l[\"TradeId\"]])\n",
    "m[\"DetachPoint\"] = tt.value(trades_table[\"DetachPoint\"], levels=[l[\"TradeId\"]])"
   ]
  },
  {
   "cell_type": "markdown",
   "metadata": {},
   "source": [
    "And this measure will display 1/-1 for long/short positions."
   ]
  },
  {
   "cell_type": "code",
   "execution_count": 22,
   "metadata": {},
   "outputs": [],
   "source": [
    "m[\"Direction\"] = tt.value(trades_table[\"Direction\"])"
   ]
  },
  {
   "cell_type": "markdown",
   "metadata": {},
   "source": [
    "Let's move onto computing options delta adjustment. To compute time to expiry in years from trade's expiry date attribute, we can use the following syntax:"
   ]
  },
  {
   "cell_type": "code",
   "execution_count": 23,
   "metadata": {},
   "outputs": [],
   "source": [
    "# Computing time period until options' expiry Ti:\n",
    "m[\"Ti\"] = (\n",
    "    tt.date_diff(l[\"AsOfDate\"], l[\"Ti_Date\"], unit=\"days\") / number_of_days_in_year\n",
    ")"
   ]
  },
  {
   "cell_type": "code",
   "execution_count": 24,
   "metadata": {},
   "outputs": [],
   "source": [
    "# We'll wrap the argument of the CDF function into a measure:\n",
    "m[\"d\"] = (\n",
    "    tt.math.log(m[\"Underlying Price\"] / m[\"Strike Price\"])\n",
    "    + 0.5 * (m[\"SupervisoryOptionVolatility.VALUE\"] ** 2) * m[\"Ti\"]\n",
    ") / (m[\"SupervisoryOptionVolatility.VALUE\"] * tt.math.sqrt(m[\"Ti\"]))"
   ]
  },
  {
   "cell_type": "code",
   "execution_count": 25,
   "metadata": {},
   "outputs": [
    {
     "data": {
      "text/html": [
       "<div>\n",
       "<style scoped>\n",
       "    .dataframe tbody tr th:only-of-type {\n",
       "        vertical-align: middle;\n",
       "    }\n",
       "\n",
       "    .dataframe tbody tr th {\n",
       "        vertical-align: top;\n",
       "    }\n",
       "\n",
       "    .dataframe thead th {\n",
       "        text-align: right;\n",
       "    }\n",
       "</style>\n",
       "<table border=\"1\" class=\"dataframe\">\n",
       "  <thead>\n",
       "    <tr style=\"text-align: right;\">\n",
       "      <th></th>\n",
       "      <th></th>\n",
       "      <th>d</th>\n",
       "    </tr>\n",
       "    <tr>\n",
       "      <th>TradeId</th>\n",
       "      <th>Ti_Date</th>\n",
       "      <th></th>\n",
       "    </tr>\n",
       "  </thead>\n",
       "  <tbody>\n",
       "    <tr>\n",
       "      <th>t111</th>\n",
       "      <th>2020-04-13</th>\n",
       "      <td>0.15</td>\n",
       "    </tr>\n",
       "    <tr>\n",
       "      <th>t118</th>\n",
       "      <th>2020-02-13</th>\n",
       "      <td>0.18</td>\n",
       "    </tr>\n",
       "    <tr>\n",
       "      <th>t126</th>\n",
       "      <th>2020-04-13</th>\n",
       "      <td>0.53</td>\n",
       "    </tr>\n",
       "  </tbody>\n",
       "</table>\n",
       "</div>"
      ],
      "text/plain": [
       "                      d\n",
       "TradeId Ti_Date        \n",
       "t111    2020-04-13 0.15\n",
       "t118    2020-02-13 0.18\n",
       "t126    2020-04-13 0.53"
      ]
     },
     "execution_count": 25,
     "metadata": {},
     "output_type": "execute_result"
    }
   ],
   "source": [
    "cube.query(\n",
    "    m[\"d\"],\n",
    "    levels=[l[\"TradeId\"], l[\"Ti_Date\"]],\n",
    "    condition=l[\"OptionType\"].isin(\"C\", \"P\"),\n",
    ").head(3)"
   ]
  },
  {
   "cell_type": "markdown",
   "metadata": {},
   "source": [
    "Finally, the call and put multipliers can be defined as follows:"
   ]
  },
  {
   "cell_type": "code",
   "execution_count": 26,
   "metadata": {},
   "outputs": [],
   "source": [
    "call_multiplier = tt.where(\n",
    "    l[\"OptionType\"] == \"C\",\n",
    "    tt.experimental.stats.normal.cdf(m[\"d\"], mean=0, standard_deviation=1),\n",
    "    1.0,\n",
    ")\n",
    "\n",
    "put_multiplier = tt.where(\n",
    "    l[\"OptionType\"] == \"P\",\n",
    "    -tt.experimental.stats.normal.cdf(-m[\"d\"], mean=0, standard_deviation=1),\n",
    "    1.0,\n",
    ")"
   ]
  },
  {
   "cell_type": "markdown",
   "metadata": {},
   "source": [
    "Using the \"AttachPoint\" and \"DetachPoint\" values, the delta adjustment for CDO positions can be defined as follows:"
   ]
  },
  {
   "cell_type": "code",
   "execution_count": 27,
   "metadata": {},
   "outputs": [],
   "source": [
    "cdo_multiplier = tt.where(\n",
    "    l[\"IsCDO\"] == \"Y\",\n",
    "    15.0 / ((1.0 + 14.0 * m[\"AttachPoint\"]) * (1.0 + 14.0 * m[\"DetachPoint\"])),\n",
    "    1.0,\n",
    ")"
   ]
  },
  {
   "cell_type": "markdown",
   "metadata": {},
   "source": [
    "Using product of the above multipliers we will define the combined Delta Adjustment measure:"
   ]
  },
  {
   "cell_type": "code",
   "execution_count": 28,
   "metadata": {},
   "outputs": [],
   "source": [
    "m[\"Delta_Adjustment\"] = (\n",
    "    m[\"Direction\"] * call_multiplier * put_multiplier * cdo_multiplier\n",
    ")"
   ]
  },
  {
   "cell_type": "markdown",
   "metadata": {},
   "source": [
    "## Trade Effective Notional - [52.30]\n",
    "\n",
    "Bringing the trade effective notional components together and calculating on trade level:"
   ]
  },
  {
   "cell_type": "code",
   "execution_count": 29,
   "metadata": {},
   "outputs": [],
   "source": [
    "m[\"Trade_Effective_Notional\"] = tt.agg.sum(\n",
    "    m[\"Adjusted_Notional\"] * m[\"Delta_Adjustment\"] * m[\"Maturity_Factor\"],\n",
    "    scope=tt.scope.origin(\n",
    "        l[\"TradeId\"],\n",
    "        l[\"NettingSetId\"],\n",
    "        l[\"OptionType\"],\n",
    "        l[\"Mi_Date\"],\n",
    "        l[\"IsCDO\"],\n",
    "        l[\"Ti_Date\"],\n",
    "    ),\n",
    ")"
   ]
  },
  {
   "cell_type": "code",
   "execution_count": 30,
   "metadata": {},
   "outputs": [
    {
     "data": {
      "text/html": [
       "<div>\n",
       "<style scoped>\n",
       "    .dataframe tbody tr th:only-of-type {\n",
       "        vertical-align: middle;\n",
       "    }\n",
       "\n",
       "    .dataframe tbody tr th {\n",
       "        vertical-align: top;\n",
       "    }\n",
       "\n",
       "    .dataframe thead th {\n",
       "        text-align: right;\n",
       "    }\n",
       "</style>\n",
       "<table border=\"1\" class=\"dataframe\">\n",
       "  <thead>\n",
       "    <tr style=\"text-align: right;\">\n",
       "      <th></th>\n",
       "      <th></th>\n",
       "      <th></th>\n",
       "      <th></th>\n",
       "      <th></th>\n",
       "      <th>Trade_Effective_Notional</th>\n",
       "      <th>Adjusted_Notional</th>\n",
       "      <th>Delta_Adjustment</th>\n",
       "      <th>Maturity_Factor</th>\n",
       "    </tr>\n",
       "    <tr>\n",
       "      <th>TradeId</th>\n",
       "      <th>OptionType</th>\n",
       "      <th>Mi_Date</th>\n",
       "      <th>IsCDO</th>\n",
       "      <th>Ti_Date</th>\n",
       "      <th></th>\n",
       "      <th></th>\n",
       "      <th></th>\n",
       "      <th></th>\n",
       "    </tr>\n",
       "  </thead>\n",
       "  <tbody>\n",
       "    <tr>\n",
       "      <th>t1</th>\n",
       "      <th>N/A</th>\n",
       "      <th>2024-01-13</th>\n",
       "      <th>N</th>\n",
       "      <th>2028-01-13</th>\n",
       "      <td>-30,000,000.00</td>\n",
       "      <td>30,000,000.00</td>\n",
       "      <td>-1.00</td>\n",
       "      <td>1.00</td>\n",
       "    </tr>\n",
       "    <tr>\n",
       "      <th>t10</th>\n",
       "      <th>N/A</th>\n",
       "      <th>2024-01-13</th>\n",
       "      <th>N</th>\n",
       "      <th>2028-01-13</th>\n",
       "      <td>18,000,000.00</td>\n",
       "      <td>18,000,000.00</td>\n",
       "      <td>1.00</td>\n",
       "      <td>1.00</td>\n",
       "    </tr>\n",
       "    <tr>\n",
       "      <th>t100</th>\n",
       "      <th>N/A</th>\n",
       "      <th>2055-01-13</th>\n",
       "      <th>N</th>\n",
       "      <th>2028-01-13</th>\n",
       "      <td>9,000.00</td>\n",
       "      <td>9,000.00</td>\n",
       "      <td>1.00</td>\n",
       "      <td>1.00</td>\n",
       "    </tr>\n",
       "  </tbody>\n",
       "</table>\n",
       "</div>"
      ],
      "text/plain": [
       "                                                Trade_Effective_Notional  \\\n",
       "TradeId OptionType Mi_Date    IsCDO Ti_Date                                \n",
       "t1      N/A        2024-01-13 N     2028-01-13            -30,000,000.00   \n",
       "t10     N/A        2024-01-13 N     2028-01-13             18,000,000.00   \n",
       "t100    N/A        2055-01-13 N     2028-01-13                  9,000.00   \n",
       "\n",
       "                                                Adjusted_Notional  \\\n",
       "TradeId OptionType Mi_Date    IsCDO Ti_Date                         \n",
       "t1      N/A        2024-01-13 N     2028-01-13      30,000,000.00   \n",
       "t10     N/A        2024-01-13 N     2028-01-13      18,000,000.00   \n",
       "t100    N/A        2055-01-13 N     2028-01-13           9,000.00   \n",
       "\n",
       "                                                Delta_Adjustment  \\\n",
       "TradeId OptionType Mi_Date    IsCDO Ti_Date                        \n",
       "t1      N/A        2024-01-13 N     2028-01-13             -1.00   \n",
       "t10     N/A        2024-01-13 N     2028-01-13              1.00   \n",
       "t100    N/A        2055-01-13 N     2028-01-13              1.00   \n",
       "\n",
       "                                                Maturity_Factor  \n",
       "TradeId OptionType Mi_Date    IsCDO Ti_Date                      \n",
       "t1      N/A        2024-01-13 N     2028-01-13             1.00  \n",
       "t10     N/A        2024-01-13 N     2028-01-13             1.00  \n",
       "t100    N/A        2055-01-13 N     2028-01-13             1.00  "
      ]
     },
     "execution_count": 30,
     "metadata": {},
     "output_type": "execute_result"
    }
   ],
   "source": [
    "cube.query(\n",
    "    m[\"Trade_Effective_Notional\"],\n",
    "    m[\"Adjusted_Notional\"],\n",
    "    m[\"Delta_Adjustment\"],\n",
    "    m[\"Maturity_Factor\"],\n",
    "    levels=[\n",
    "        l[\"TradeId\"],\n",
    "        l[\"OptionType\"],\n",
    "        l[\"Mi_Date\"],\n",
    "        l[\"IsCDO\"],\n",
    "        l[\"Ti_Date\"],\n",
    "    ],\n",
    ").head(3)"
   ]
  },
  {
   "cell_type": "markdown",
   "metadata": {},
   "source": [
    "## Asset class level add-ons - [52.55]\n",
    "\n",
    "Having obtained the trade effective notionals reflecting the necessary supervisory adjustments, we can use them to compute AddOns for each of the five asset classes."
   ]
  },
  {
   "cell_type": "markdown",
   "metadata": {},
   "source": [
    "## Add-on for interest rate derivatives - [52.56]\n",
    "\n",
    "The steps for computing $Addon^{IR}$ are set in [52.57].\n",
    "\n",
    "\n",
    "- For Interest Rates, each Hedging Set is defined as currency - in our data model it comes from the field Underlying. \n",
    "- Each hedge set is then separated in maturity buckets depending on $M_i$. If $M_i$ is less than one year, the trade goes in the first Maturity Bucket, if it is between one and five years, the trade goes in the second Maturity Bucket, and if it is more than 5 years the trade goes in the third Maturity Bucket.\n",
    "- In each Maturity Bucket and each Hedging Set, the effective notional is the sum of the Trade Effective Notionals of the trades. \n",
    "\n",
    "The effective notional $EN_{HS}$ of the Hedge Set $HS$ is then determined with the following formula :\n",
    "\n",
    "$$EN_{HS} = ( D_{B1}^2 + D_{B2}^2 + D_{B3}^2 + 1.4 * D_{B1} * D_{B2} + 1.4 * D_{B2} * D_{B3} + 0.6 * D_{B1} * D_{B3} )^{\\frac{1}{2}}$$\n"
   ]
  },
  {
   "cell_type": "code",
   "execution_count": 31,
   "metadata": {},
   "outputs": [],
   "source": [
    "# Step 1 Filtering the trade effective notionals of the Interest rate risk class only:\n",
    "m[\"Effective_notional_IR\"] = tt.filter(\n",
    "    m[\"Trade_Effective_Notional\"], l[\"AssetClass\"] == \"IR\"\n",
    ")"
   ]
  },
  {
   "cell_type": "code",
   "execution_count": 32,
   "metadata": {},
   "outputs": [],
   "source": [
    "# Step 2 Allocating trades into Hedging Sets - for IR we'll use \"RiskFactorCcy\" as Hedging Set."
   ]
  },
  {
   "cell_type": "code",
   "execution_count": 33,
   "metadata": {},
   "outputs": [
    {
     "data": {
      "application/vnd.atoti.convert-query-result-to-widget.v0+json": {
       "mdx": "SELECT {[Measures].[Effective_notional_IR]} ON COLUMNS FROM [SA-CCR]",
       "sessionId": "1648810275_0IFKN9",
       "widgetCreationCode": "session.visualize()"
      },
      "text/html": [
       "<div>\n",
       "<style scoped>\n",
       "    .dataframe tbody tr th:only-of-type {\n",
       "        vertical-align: middle;\n",
       "    }\n",
       "\n",
       "    .dataframe tbody tr th {\n",
       "        vertical-align: top;\n",
       "    }\n",
       "\n",
       "    .dataframe thead th {\n",
       "        text-align: right;\n",
       "    }\n",
       "</style>\n",
       "<table border=\"1\" class=\"dataframe\">\n",
       "  <thead>\n",
       "    <tr style=\"text-align: right;\">\n",
       "      <th></th>\n",
       "      <th>Effective_notional_IR</th>\n",
       "    </tr>\n",
       "  </thead>\n",
       "  <tbody>\n",
       "    <tr>\n",
       "      <th>0</th>\n",
       "      <td>2,949,671,733.30</td>\n",
       "    </tr>\n",
       "  </tbody>\n",
       "</table>\n",
       "</div>"
      ],
      "text/plain": [
       "  Effective_notional_IR\n",
       "0      2,949,671,733.30"
      ]
     },
     "execution_count": 33,
     "metadata": {},
     "output_type": "execute_result"
    }
   ],
   "source": [
    "cube.query(m[\"Effective_notional_IR\"])"
   ]
  },
  {
   "cell_type": "code",
   "execution_count": 34,
   "metadata": {},
   "outputs": [],
   "source": [
    "# Step 3 Allocating trades into Maturity Buckets and\n",
    "# Step 4 Adding together effective notionals\n",
    "\n",
    "# We use tt.where condition and filtering for the effective notional buckets -  D_B1, D_B2, D_b3\n",
    "# Ei is computed from the Ei_Date attribute, hence we are summing up by Ei_Date.\n",
    "m[\"D_B1\"] = tt.agg.sum(\n",
    "    tt.where(m[\"Ei\"] < 1.0, m[\"Effective_notional_IR\"], 0.0),\n",
    "    scope=tt.scope.origin(l[\"Ei_Date\"]),\n",
    ")\n",
    "\n",
    "m[\"D_B2\"] = tt.agg.sum(\n",
    "    tt.where((m[\"Ei\"] >= 1.0) & (m[\"Ei\"] < 5.0), m[\"Effective_notional_IR\"], 0.0),\n",
    "    scope=tt.scope.origin(l[\"Ei_Date\"]),\n",
    ")\n",
    "\n",
    "m[\"D_B3\"] = tt.agg.sum(\n",
    "    tt.where(m[\"Ei\"] >= 5.0, m[\"Effective_notional_IR\"], 0.0),\n",
    "    scope=tt.scope.origin(l[\"Ei_Date\"]),\n",
    ")"
   ]
  },
  {
   "cell_type": "code",
   "execution_count": 35,
   "metadata": {},
   "outputs": [
    {
     "data": {
      "application/vnd.atoti.convert-query-result-to-widget.v0+json": {
       "mdx": "SELECT {[Measures].[Effective_notional_IR], [Measures].[D_B1], [Measures].[D_B2], [Measures].[D_B3]} ON COLUMNS FROM [SA-CCR]",
       "sessionId": "1648810275_0IFKN9",
       "widgetCreationCode": "session.visualize()"
      },
      "text/html": [
       "<div>\n",
       "<style scoped>\n",
       "    .dataframe tbody tr th:only-of-type {\n",
       "        vertical-align: middle;\n",
       "    }\n",
       "\n",
       "    .dataframe tbody tr th {\n",
       "        vertical-align: top;\n",
       "    }\n",
       "\n",
       "    .dataframe thead th {\n",
       "        text-align: right;\n",
       "    }\n",
       "</style>\n",
       "<table border=\"1\" class=\"dataframe\">\n",
       "  <thead>\n",
       "    <tr style=\"text-align: right;\">\n",
       "      <th></th>\n",
       "      <th>Effective_notional_IR</th>\n",
       "      <th>D_B1</th>\n",
       "      <th>D_B2</th>\n",
       "      <th>D_B3</th>\n",
       "    </tr>\n",
       "  </thead>\n",
       "  <tbody>\n",
       "    <tr>\n",
       "      <th>0</th>\n",
       "      <td>2,949,671,733.30</td>\n",
       "      <td>629,383.05</td>\n",
       "      <td>.00</td>\n",
       "      <td>2,949,042,350.25</td>\n",
       "    </tr>\n",
       "  </tbody>\n",
       "</table>\n",
       "</div>"
      ],
      "text/plain": [
       "  Effective_notional_IR        D_B1 D_B2              D_B3\n",
       "0      2,949,671,733.30  629,383.05  .00  2,949,042,350.25"
      ]
     },
     "execution_count": 35,
     "metadata": {},
     "output_type": "execute_result"
    }
   ],
   "source": [
    "cube.query(m[\"Effective_notional_IR\"], m[\"D_B1\"], m[\"D_B2\"], m[\"D_B3\"])"
   ]
  },
  {
   "cell_type": "code",
   "execution_count": 36,
   "metadata": {},
   "outputs": [
    {
     "data": {
      "text/html": [
       "<div>\n",
       "<style scoped>\n",
       "    .dataframe tbody tr th:only-of-type {\n",
       "        vertical-align: middle;\n",
       "    }\n",
       "\n",
       "    .dataframe tbody tr th {\n",
       "        vertical-align: top;\n",
       "    }\n",
       "\n",
       "    .dataframe thead th {\n",
       "        text-align: right;\n",
       "    }\n",
       "</style>\n",
       "<table border=\"1\" class=\"dataframe\">\n",
       "  <thead>\n",
       "    <tr style=\"text-align: right;\">\n",
       "      <th></th>\n",
       "      <th></th>\n",
       "      <th>Ei</th>\n",
       "    </tr>\n",
       "    <tr>\n",
       "      <th>TradeId</th>\n",
       "      <th>Ei_Date</th>\n",
       "      <th></th>\n",
       "    </tr>\n",
       "  </thead>\n",
       "  <tbody>\n",
       "    <tr>\n",
       "      <th>t88</th>\n",
       "      <th>2032-01-13</th>\n",
       "      <td>12.01</td>\n",
       "    </tr>\n",
       "    <tr>\n",
       "      <th>t249</th>\n",
       "      <th>2027-01-13</th>\n",
       "      <td>7.01</td>\n",
       "    </tr>\n",
       "    <tr>\n",
       "      <th>t55</th>\n",
       "      <th>2034-01-13</th>\n",
       "      <td>14.01</td>\n",
       "    </tr>\n",
       "  </tbody>\n",
       "</table>\n",
       "</div>"
      ],
      "text/plain": [
       "                      Ei\n",
       "TradeId Ei_Date         \n",
       "t88     2032-01-13 12.01\n",
       "t249    2027-01-13  7.01\n",
       "t55     2034-01-13 14.01"
      ]
     },
     "execution_count": 36,
     "metadata": {},
     "output_type": "execute_result"
    }
   ],
   "source": [
    "cube.query(m[\"Ei\"], levels=[l[\"TradeId\"], l[\"Ei_Date\"]]).sample(3)"
   ]
  },
  {
   "cell_type": "code",
   "execution_count": 37,
   "metadata": {},
   "outputs": [],
   "source": [
    "# Step 5 Calculating effecting notional of the hedging set - and summing them up across hedging sets.\n",
    "# As a reminder, a hedging set is a combination of RiskFactorCcy and Underlying fields for interest rates:\n",
    "\n",
    "m[\"Effective_notional_IR_Offset_Formula\"] = tt.agg.sum(\n",
    "    tt.math.sqrt(\n",
    "        m[\"D_B1\"] ** 2\n",
    "        + m[\"D_B2\"] ** 2\n",
    "        + m[\"D_B3\"] ** 2\n",
    "        + 1.4 * m[\"D_B1\"] * m[\"D_B2\"]\n",
    "        + 1.4 * m[\"D_B2\"] * m[\"D_B3\"]\n",
    "        + 0.6 * m[\"D_B1\"] * m[\"D_B3\"]\n",
    "    ),\n",
    "    scope=tt.scope.origin(l[\"Underlying\"]),\n",
    ")\n",
    "\n",
    "m[\"Effective_notional_IR_NoOffset_Formula\"] = tt.agg.sum(\n",
    "    tt.math.abs(m[\"D_B1\"]) + tt.math.abs(m[\"D_B2\"]) + tt.math.abs(m[\"D_B3\"]),\n",
    "    scope=tt.scope.origin(l[\"Underlying\"]),\n",
    ")"
   ]
  },
  {
   "cell_type": "markdown",
   "metadata": {},
   "source": [
    "The Add-On for each hedge set is then simply : \n",
    "\n",
    "$$AddOn_{j}^{(IR)} = SF^{(IR)} * EN_j $$\n",
    "\n",
    "Let's display the Supervisory Factor:"
   ]
  },
  {
   "cell_type": "code",
   "execution_count": 38,
   "metadata": {
    "scrolled": true
   },
   "outputs": [
    {
     "data": {
      "application/vnd.atoti.convert-query-result-to-widget.v0+json": {
       "mdx": "SELECT {[Measures].[SupervisoryFactor]} ON COLUMNS, NON EMPTY [Trades].[AsOfDate].[AsOfDate].Members ON ROWS FROM (SELECT [Trades].[AssetClass].[AllMember].[IR] ON COLUMNS FROM [SA-CCR])",
       "sessionId": "1648810275_0IFKN9",
       "widgetCreationCode": "session.visualize()"
      },
      "text/html": [
       "<div>\n",
       "<style scoped>\n",
       "    .dataframe tbody tr th:only-of-type {\n",
       "        vertical-align: middle;\n",
       "    }\n",
       "\n",
       "    .dataframe tbody tr th {\n",
       "        vertical-align: top;\n",
       "    }\n",
       "\n",
       "    .dataframe thead th {\n",
       "        text-align: right;\n",
       "    }\n",
       "</style>\n",
       "<table border=\"1\" class=\"dataframe\">\n",
       "  <thead>\n",
       "    <tr style=\"text-align: right;\">\n",
       "      <th></th>\n",
       "      <th>SupervisoryFactor</th>\n",
       "    </tr>\n",
       "    <tr>\n",
       "      <th>AsOfDate</th>\n",
       "      <th></th>\n",
       "    </tr>\n",
       "  </thead>\n",
       "  <tbody>\n",
       "    <tr>\n",
       "      <th>2020-01-13</th>\n",
       "      <td>.01</td>\n",
       "    </tr>\n",
       "  </tbody>\n",
       "</table>\n",
       "</div>"
      ],
      "text/plain": [
       "           SupervisoryFactor\n",
       "AsOfDate                    \n",
       "2020-01-13               .01"
      ]
     },
     "execution_count": 38,
     "metadata": {},
     "output_type": "execute_result"
    }
   ],
   "source": [
    "m[\"SupervisoryFactor\"] = tt.value(\n",
    "    supervisoryParameters_table[\"SupervisoryFactor\"], levels=[l[\"AsOfDate\"]]\n",
    ")\n",
    "# You may want to further adjust the Supervisory Factor by checking if the trade is a \"basis\" trade\n",
    "# please see [52.46]. In our case, we don't account for that.\n",
    "\n",
    "cube.query(\n",
    "    m[\"SupervisoryFactor\"],\n",
    "    levels=[l[\"AsOfDate\"]],\n",
    "    condition=l[\"AssetClass\"] == \"IR\",\n",
    ")"
   ]
  },
  {
   "cell_type": "markdown",
   "metadata": {},
   "source": [
    "Finally, the AddOn:"
   ]
  },
  {
   "cell_type": "code",
   "execution_count": 39,
   "metadata": {},
   "outputs": [],
   "source": [
    "m[\"AddOn_IR\"] = tt.agg.sum(\n",
    "    m[\"SupervisoryFactor\"] * m[\"Effective_notional_IR_Offset_Formula\"],\n",
    "    scope=tt.scope.origin(l[\"AssetClass\"]),\n",
    ")\n",
    "# Use No Offset Formula here if the bank chose not to recognize netting\n",
    "m[\"AddOn_IR_NoOffset_Formula\"] = tt.agg.sum(\n",
    "    m[\"SupervisoryFactor\"] * m[\"Effective_notional_IR_NoOffset_Formula\"],\n",
    "    scope=tt.scope.origin(l[\"AssetClass\"]),\n",
    ")"
   ]
  },
  {
   "cell_type": "markdown",
   "metadata": {},
   "source": [
    "## Add-on for credit derivatives - [52.60] - [52.64]\n",
    "\n",
    "There is only one Hedge Set for Credit derivatives. In this Hedge Set, the trades are grouped depending on which entity issued them. The Add-On for an entity is the sum of the Trade Effective Notionals of the corresponding trades, multiplied by the Supervisory Factor. The Supervisory Factor depends on the rating of the entity. \n"
   ]
  },
  {
   "cell_type": "code",
   "execution_count": 40,
   "metadata": {},
   "outputs": [],
   "source": [
    "effective_notional_CR = tt.filter(\n",
    "    m[\"Trade_Effective_Notional\"], l[\"AssetClass\"].isin(\"CR_IDX\", \"CR_SN\")\n",
    ")\n",
    "\n",
    "\n",
    "# summing up by AssetClass and SubClass as these are the levels where SupervisoryFactors are defined:\n",
    "m[\"AddOn_CR_per_entity\"] = tt.agg.sum(\n",
    "    m[\"SupervisoryFactor\"] * effective_notional_CR,\n",
    "    scope=tt.scope.origin(l[\"AssetClass\"], l[\"SubClass\"]),\n",
    ")"
   ]
  },
  {
   "cell_type": "markdown",
   "metadata": {},
   "source": [
    "After determining the AddOn per entity, we can deduce the Credit AddOn with the following formula  - see para [52.61] :\n",
    "\n",
    "$$ AddOn^{Credit} = \\left[\\left(\\sum_{entity} \\rho_{entity} *  AddOn_{entity} \\right)^{2} + \\sum_{entity} (1-(\\rho_{entity})^{2}) *  (AddOn_{entity})^{2} \\right]^{1/2}$$\n",
    "\n",
    "where $\\rho_{entity}$ is the Correlation. It takes different values for names being Credit Single Name or Credit Index."
   ]
  },
  {
   "cell_type": "code",
   "execution_count": 41,
   "metadata": {},
   "outputs": [
    {
     "data": {
      "application/vnd.atoti.convert-query-result-to-widget.v0+json": {
       "mdx": "SELECT {[Measures].[Correlation]} ON COLUMNS, NON EMPTY [Trades].[AssetClass].[AssetClass].Members ON ROWS FROM [SA-CCR]",
       "sessionId": "1648810275_0IFKN9",
       "widgetCreationCode": "session.visualize()"
      },
      "text/html": [
       "<div>\n",
       "<style scoped>\n",
       "    .dataframe tbody tr th:only-of-type {\n",
       "        vertical-align: middle;\n",
       "    }\n",
       "\n",
       "    .dataframe tbody tr th {\n",
       "        vertical-align: top;\n",
       "    }\n",
       "\n",
       "    .dataframe thead th {\n",
       "        text-align: right;\n",
       "    }\n",
       "</style>\n",
       "<table border=\"1\" class=\"dataframe\">\n",
       "  <thead>\n",
       "    <tr style=\"text-align: right;\">\n",
       "      <th></th>\n",
       "      <th>Correlation</th>\n",
       "    </tr>\n",
       "    <tr>\n",
       "      <th>AssetClass</th>\n",
       "      <th></th>\n",
       "    </tr>\n",
       "  </thead>\n",
       "  <tbody>\n",
       "    <tr>\n",
       "      <th>CO</th>\n",
       "      <td>.40</td>\n",
       "    </tr>\n",
       "    <tr>\n",
       "      <th>CR_IDX</th>\n",
       "      <td>.80</td>\n",
       "    </tr>\n",
       "    <tr>\n",
       "      <th>CR_SN</th>\n",
       "      <td>.50</td>\n",
       "    </tr>\n",
       "    <tr>\n",
       "      <th>EQ_SN</th>\n",
       "      <td>.50</td>\n",
       "    </tr>\n",
       "  </tbody>\n",
       "</table>\n",
       "</div>"
      ],
      "text/plain": [
       "           Correlation\n",
       "AssetClass            \n",
       "CO                 .40\n",
       "CR_IDX             .80\n",
       "CR_SN              .50\n",
       "EQ_SN              .50"
      ]
     },
     "execution_count": 41,
     "metadata": {},
     "output_type": "execute_result"
    }
   ],
   "source": [
    "m[\"Correlation\"] = tt.value(\n",
    "    supervisoryParameters_table[\"Correlation\"], levels=[l[\"AssetClass\"]]\n",
    ")\n",
    "cube.query(m[\"Correlation\"], levels=[l[\"AssetClass\"]])"
   ]
  },
  {
   "cell_type": "code",
   "execution_count": 42,
   "metadata": {},
   "outputs": [],
   "source": [
    "# The first term of the above formula:\n",
    "AddOn_CR_systematic = (\n",
    "    tt.agg.sum(\n",
    "        m[\"Correlation\"] * m[\"AddOn_CR_per_entity\"],\n",
    "        scope=tt.scope.origin(l[\"Underlying\"]),\n",
    "    )\n",
    "    ** 2\n",
    ")\n",
    "\n",
    "# The second term of the above formula:\n",
    "AddOn_CR_idiosyncratic = tt.agg.sum(\n",
    "    (1.0 - (m[\"Correlation\"] ** 2)) * (m[\"AddOn_CR_per_entity\"] ** 2),\n",
    "    scope=tt.scope.origin(l[\"Underlying\"]),\n",
    ")\n",
    "\n",
    "m[\"AddOn_CR\"] = tt.math.sqrt(AddOn_CR_systematic + AddOn_CR_idiosyncratic)"
   ]
  },
  {
   "cell_type": "markdown",
   "metadata": {},
   "source": [
    "## Add-on for commodity derivatives - [52.69] - [52.71]\n",
    "\n",
    "Commodities are broken down into 4 Hedging Sets (hierarchy \"HS\"): Energy, Metals, Agricultural and Others. Inside these Hedging Sets, the trades are grouped by commodity type - in our data model this is represented by the \"SubClass\" field.\n",
    "\n",
    "The main formulae and step-by-step instruction is provided in the [52.70]:\n",
    "\n",
    "$$ AddOn_{HS}^{CO} = \\left[\\left(\\sum_{CommType} \\rho_{CommType}\\cdot AddOn_{CommType}\\right)^{2} + \\sum_{CommType}  (1-\\rho_{CommType}^2)* AddOn_{CommType}^{2} \\right]^{1/2}$$\n",
    "\n",
    "$$AddOn^{CO} = \\sum_{HS}AddOn_{HS}^{CO}$$\n"
   ]
  },
  {
   "cell_type": "code",
   "execution_count": 43,
   "metadata": {},
   "outputs": [],
   "source": [
    "# Step 3 Calculate the combined effective notional\n",
    "effective_notional_CO = tt.filter(\n",
    "    m[\"Trade_Effective_Notional\"], l[\"AssetClass\"] == \"CO\"\n",
    ")\n",
    "\n",
    "# Step 4 Calculate the add-on for each commodity type\n",
    "AddOn_CommType = tt.agg.sum(\n",
    "    m[\"SupervisoryFactor\"] * effective_notional_CO,\n",
    "    scope=tt.scope.origin(l[\"AssetClass\"], l[\"SubClass\"]),\n",
    ")"
   ]
  },
  {
   "cell_type": "code",
   "execution_count": 44,
   "metadata": {},
   "outputs": [],
   "source": [
    "# Step 5\n",
    "# The first term of the above formula:\n",
    "AddOn_CO_systematic = (\n",
    "    tt.agg.sum(\n",
    "        m[\"Correlation\"] * AddOn_CommType,\n",
    "        scope=tt.scope.origin(l[\"SubClass\"]),\n",
    "    )\n",
    "    ** 2\n",
    ")\n",
    "\n",
    "# The second term of the above formula:\n",
    "AddOn_CO_idiosyncratic = tt.agg.sum(\n",
    "    (1.0 - (m[\"Correlation\"] ** 2)) * (AddOn_CommType**2),\n",
    "    scope=tt.scope.origin(l[\"SubClass\"]),\n",
    ")\n",
    "\n",
    "# Generic measure computing the product\n",
    "AddOn_CO_HS = tt.math.sqrt(AddOn_CO_systematic + AddOn_CO_idiosyncratic)\n",
    "\n",
    "# Add on as a sum of products over all hedging sets\n",
    "m[\"AddOn_CO\"] = tt.agg.sum(AddOn_CO_HS, scope=tt.scope.origin(l[\"HS\"]))"
   ]
  },
  {
   "cell_type": "code",
   "execution_count": 45,
   "metadata": {},
   "outputs": [
    {
     "data": {
      "application/vnd.atoti.convert-query-result-to-widget.v0+json": {
       "mdx": "SELECT {[Measures].[AddOn_CO]} ON COLUMNS, NON EMPTY [Parameters].[HS].[HS].Members ON ROWS FROM [SA-CCR]",
       "sessionId": "1648810275_0IFKN9",
       "widgetCreationCode": "session.visualize()"
      },
      "text/html": [
       "<div>\n",
       "<style scoped>\n",
       "    .dataframe tbody tr th:only-of-type {\n",
       "        vertical-align: middle;\n",
       "    }\n",
       "\n",
       "    .dataframe tbody tr th {\n",
       "        vertical-align: top;\n",
       "    }\n",
       "\n",
       "    .dataframe thead th {\n",
       "        text-align: right;\n",
       "    }\n",
       "</style>\n",
       "<table border=\"1\" class=\"dataframe\">\n",
       "  <thead>\n",
       "    <tr style=\"text-align: right;\">\n",
       "      <th></th>\n",
       "      <th>AddOn_CO</th>\n",
       "    </tr>\n",
       "    <tr>\n",
       "      <th>HS</th>\n",
       "      <th></th>\n",
       "    </tr>\n",
       "  </thead>\n",
       "  <tbody>\n",
       "    <tr>\n",
       "      <th>Agricultural</th>\n",
       "      <td>6,120,000.00</td>\n",
       "    </tr>\n",
       "    <tr>\n",
       "      <th>Energy</th>\n",
       "      <td>43,007,147.78</td>\n",
       "    </tr>\n",
       "    <tr>\n",
       "      <th>Metals</th>\n",
       "      <td>10,154,326.76</td>\n",
       "    </tr>\n",
       "    <tr>\n",
       "      <th>Other</th>\n",
       "      <td>12,084,520.96</td>\n",
       "    </tr>\n",
       "  </tbody>\n",
       "</table>\n",
       "</div>"
      ],
      "text/plain": [
       "                   AddOn_CO\n",
       "HS                         \n",
       "Agricultural   6,120,000.00\n",
       "Energy        43,007,147.78\n",
       "Metals        10,154,326.76\n",
       "Other         12,084,520.96"
      ]
     },
     "execution_count": 45,
     "metadata": {},
     "output_type": "execute_result"
    }
   ],
   "source": [
    "cube.query(m[\"AddOn_CO\"], levels=[l[\"HS\"]])"
   ]
  },
  {
   "cell_type": "markdown",
   "metadata": {},
   "source": [
    "## Add-on for foreign exchange derivatives - [52.58] - [52.59]\n",
    "\n",
    "Step-by-step instruction for calculating $AddOn^{FX}$ are provided in the [52.59]. Hedging sets - are different currency pairs, which can be found in the field \"Underlying\" in our data model.\n",
    "\n",
    "Let's jump to Step 4 and compute $AddOn_{HS}^{FX} = | EN_{HS} | \\cdot SF$"
   ]
  },
  {
   "cell_type": "code",
   "execution_count": 46,
   "metadata": {},
   "outputs": [],
   "source": [
    "EN_HS_FX = tt.filter(\n",
    "    m[\"Trade_Effective_Notional\"],\n",
    "    l[\"AssetClass\"] == \"FX\",\n",
    ")\n",
    "\n",
    "\n",
    "# Step 5: Sum up across absolute values of EN_HS multiplied by supervisory factor by currency pairs:\n",
    "m[\"AddOn_FX\"] = tt.agg.sum(\n",
    "    tt.math.abs(EN_HS_FX) * m[\"SupervisoryFactor\"],\n",
    "    scope=tt.scope.origin(l[\"Underlying\"]),\n",
    ")"
   ]
  },
  {
   "cell_type": "code",
   "execution_count": 47,
   "metadata": {},
   "outputs": [
    {
     "data": {
      "text/html": [
       "<div>\n",
       "<style scoped>\n",
       "    .dataframe tbody tr th:only-of-type {\n",
       "        vertical-align: middle;\n",
       "    }\n",
       "\n",
       "    .dataframe tbody tr th {\n",
       "        vertical-align: top;\n",
       "    }\n",
       "\n",
       "    .dataframe thead th {\n",
       "        text-align: right;\n",
       "    }\n",
       "</style>\n",
       "<table border=\"1\" class=\"dataframe\">\n",
       "  <thead>\n",
       "    <tr style=\"text-align: right;\">\n",
       "      <th></th>\n",
       "      <th>AddOn_FX</th>\n",
       "      <th>Trade_Effective_Notional</th>\n",
       "      <th>SupervisoryFactor</th>\n",
       "    </tr>\n",
       "    <tr>\n",
       "      <th>Underlying</th>\n",
       "      <th></th>\n",
       "      <th></th>\n",
       "      <th></th>\n",
       "    </tr>\n",
       "  </thead>\n",
       "  <tbody>\n",
       "    <tr>\n",
       "      <th>CADNZD</th>\n",
       "      <td>2,840,000.00</td>\n",
       "      <td>71,000,000.00</td>\n",
       "      <td>0.04</td>\n",
       "    </tr>\n",
       "    <tr>\n",
       "      <th>JPYEUR</th>\n",
       "      <td>411,292.09</td>\n",
       "      <td>-10,282,302.37</td>\n",
       "      <td>0.04</td>\n",
       "    </tr>\n",
       "    <tr>\n",
       "      <th>JPYUSD</th>\n",
       "      <td>2,127,022.47</td>\n",
       "      <td>53,175,561.72</td>\n",
       "      <td>0.04</td>\n",
       "    </tr>\n",
       "  </tbody>\n",
       "</table>\n",
       "</div>"
      ],
      "text/plain": [
       "               AddOn_FX  Trade_Effective_Notional  SupervisoryFactor\n",
       "Underlying                                                          \n",
       "CADNZD     2,840,000.00             71,000,000.00               0.04\n",
       "JPYEUR       411,292.09            -10,282,302.37               0.04\n",
       "JPYUSD     2,127,022.47             53,175,561.72               0.04"
      ]
     },
     "execution_count": 47,
     "metadata": {},
     "output_type": "execute_result"
    }
   ],
   "source": [
    "cube.query(\n",
    "    m[\"AddOn_FX\"],\n",
    "    m[\"Trade_Effective_Notional\"],\n",
    "    m[\"SupervisoryFactor\"],\n",
    "    levels=[l[\"Underlying\"]],\n",
    "    condition=l[\"AssetClass\"] == \"FX\",\n",
    ").sample(3)"
   ]
  },
  {
   "cell_type": "markdown",
   "metadata": {},
   "source": [
    "## Add-on for equity derivatives - [52.65] - [52.68]\n",
    "\n",
    "Equity Add-On is determined in the same way as Credit Add-On. The trades are grouped under a single Hedge Set, and grouped by entity inside. However, the supervisory factor no longer depends on the rating of the entity but rather on wether the trade's Asset Class is Equity Index or Equity Single Name. The formula for the Equity Addon is defined in para [52.66]:\n",
    "\n",
    "\n",
    "$$ AddOn^{Equity} = \\left[\\left(\\sum_{entity} \\rho_{entity}\\cdot AddOn_{entity}\\right)^{2} + \\sum_{entity}  (1-\\rho_{entity}^2)* AddOn_{entity}^{2} \\right]^{1/2}$$\n",
    "\n",
    "\n",
    "\n",
    "where $\\rho_{k}$ is the correlation factor corresponding to entity k\n"
   ]
  },
  {
   "cell_type": "code",
   "execution_count": 48,
   "metadata": {},
   "outputs": [],
   "source": [
    "AddOn_EQ_entity = tt.filter(\n",
    "    m[\"SupervisoryFactor\"] * m[\"Trade_Effective_Notional\"],\n",
    "    l[\"AssetClass\"].isin(\"EQ_SN\", \"EQ_IDX\"),\n",
    ")"
   ]
  },
  {
   "cell_type": "code",
   "execution_count": 49,
   "metadata": {},
   "outputs": [],
   "source": [
    "AddOn_EQ_systematic = tt.agg.sum(\n",
    "    (m[\"Correlation\"] * AddOn_EQ_entity) ** 2,\n",
    "    scope=tt.scope.origin(l[\"Underlying\"]),\n",
    ")\n",
    "\n",
    "AddOn_EQ_idiosyncratic = tt.agg.sum(\n",
    "    (1.0 - (m[\"Correlation\"] ** 2)) * (AddOn_EQ_entity**2),\n",
    "    scope=tt.scope.origin(l[\"Underlying\"]),\n",
    ")\n",
    "\n",
    "m[\"AddOn_EQ\"] = tt.math.sqrt(AddOn_EQ_systematic + AddOn_EQ_idiosyncratic)"
   ]
  },
  {
   "cell_type": "code",
   "execution_count": 50,
   "metadata": {},
   "outputs": [
    {
     "data": {
      "application/vnd.atoti.convert-query-result-to-widget.v0+json": {
       "mdx": "SELECT {[Measures].[AddOn_EQ]} ON COLUMNS FROM [SA-CCR]",
       "sessionId": "1648810275_0IFKN9",
       "widgetCreationCode": "session.visualize()"
      },
      "text/html": [
       "<div>\n",
       "<style scoped>\n",
       "    .dataframe tbody tr th:only-of-type {\n",
       "        vertical-align: middle;\n",
       "    }\n",
       "\n",
       "    .dataframe tbody tr th {\n",
       "        vertical-align: top;\n",
       "    }\n",
       "\n",
       "    .dataframe thead th {\n",
       "        text-align: right;\n",
       "    }\n",
       "</style>\n",
       "<table border=\"1\" class=\"dataframe\">\n",
       "  <thead>\n",
       "    <tr style=\"text-align: right;\">\n",
       "      <th></th>\n",
       "      <th>AddOn_EQ</th>\n",
       "    </tr>\n",
       "  </thead>\n",
       "  <tbody>\n",
       "    <tr>\n",
       "      <th>0</th>\n",
       "      <td>21,117.42</td>\n",
       "    </tr>\n",
       "  </tbody>\n",
       "</table>\n",
       "</div>"
      ],
      "text/plain": [
       "    AddOn_EQ\n",
       "0  21,117.42"
      ]
     },
     "execution_count": 50,
     "metadata": {},
     "output_type": "execute_result"
    }
   ],
   "source": [
    "cube.query(m[\"AddOn_EQ\"])"
   ]
  },
  {
   "cell_type": "markdown",
   "metadata": {},
   "source": [
    "## Aggregate add-on - [52.24]\n",
    "\n",
    "The Add-on aggregate is simply the sum of all five Asset Class Add-Ons:"
   ]
  },
  {
   "cell_type": "code",
   "execution_count": 51,
   "metadata": {},
   "outputs": [],
   "source": [
    "# This measure will be displaying aggregate AddOn\n",
    "m[\"AddOn\"] = (\n",
    "    m[\"AddOn_CR\"] + m[\"AddOn_IR\"] + m[\"AddOn_CO\"] + m[\"AddOn_FX\"] + m[\"AddOn_EQ\"]\n",
    ")"
   ]
  },
  {
   "cell_type": "code",
   "execution_count": 52,
   "metadata": {},
   "outputs": [
    {
     "data": {
      "application/vnd.atoti.convert-query-result-to-widget.v0+json": {
       "mdx": "SELECT {[Measures].[AddOn], [Measures].[AddOn_CR], [Measures].[AddOn_IR], [Measures].[AddOn_CO], [Measures].[AddOn_FX], [Measures].[AddOn_EQ]} ON COLUMNS FROM [SA-CCR]",
       "sessionId": "1648810275_0IFKN9",
       "widgetCreationCode": "session.visualize()"
      },
      "text/html": [
       "<div>\n",
       "<style scoped>\n",
       "    .dataframe tbody tr th:only-of-type {\n",
       "        vertical-align: middle;\n",
       "    }\n",
       "\n",
       "    .dataframe tbody tr th {\n",
       "        vertical-align: top;\n",
       "    }\n",
       "\n",
       "    .dataframe thead th {\n",
       "        text-align: right;\n",
       "    }\n",
       "</style>\n",
       "<table border=\"1\" class=\"dataframe\">\n",
       "  <thead>\n",
       "    <tr style=\"text-align: right;\">\n",
       "      <th></th>\n",
       "      <th>AddOn</th>\n",
       "      <th>AddOn_CR</th>\n",
       "      <th>AddOn_IR</th>\n",
       "      <th>AddOn_CO</th>\n",
       "      <th>AddOn_FX</th>\n",
       "      <th>AddOn_EQ</th>\n",
       "    </tr>\n",
       "  </thead>\n",
       "  <tbody>\n",
       "    <tr>\n",
       "      <th>0</th>\n",
       "      <td>337,264,378.54</td>\n",
       "      <td>189,030,872.50</td>\n",
       "      <td>18,489,820.57</td>\n",
       "      <td>71,365,995.50</td>\n",
       "      <td>58,356,572.54</td>\n",
       "      <td>21,117.42</td>\n",
       "    </tr>\n",
       "  </tbody>\n",
       "</table>\n",
       "</div>"
      ],
      "text/plain": [
       "            AddOn        AddOn_CR       AddOn_IR       AddOn_CO  \\\n",
       "0  337,264,378.54  189,030,872.50  18,489,820.57  71,365,995.50   \n",
       "\n",
       "        AddOn_FX   AddOn_EQ  \n",
       "0  58,356,572.54  21,117.42  "
      ]
     },
     "execution_count": 52,
     "metadata": {},
     "output_type": "execute_result"
    }
   ],
   "source": [
    "cube.query(\n",
    "    m[\"AddOn\"],\n",
    "    m[\"AddOn_CR\"],\n",
    "    m[\"AddOn_IR\"],\n",
    "    m[\"AddOn_CO\"],\n",
    "    m[\"AddOn_FX\"],\n",
    "    m[\"AddOn_EQ\"],\n",
    ")"
   ]
  },
  {
   "cell_type": "markdown",
   "metadata": {},
   "source": [
    "## Multiplier - [52.23]\n",
    "\n",
    "In this section we will compute the multiplier, defined per formula:\n",
    "    \n",
    "$$multiplier = min(1, Floor + (1-Floor)*exp(\\frac{V-C}{2*(1-Floor)*AddOn^{aggregate}}))$$ \n",
    "\n",
    "(where $Floor = 0.05$ is another fixed parameter)"
   ]
  },
  {
   "cell_type": "code",
   "execution_count": 53,
   "metadata": {},
   "outputs": [],
   "source": [
    "# Let's display V - value of the positions:\n",
    "m[\"MarketValue\"] = tt.agg.sum(trades_table[\"MarketValue\"])\n",
    "\n",
    "# Let's also display C - value of collateral (after haircut) - from the input data\n",
    "m[\"Collateral\"] = tt.agg.sum(nettingSets_table[\"Collateral\"])"
   ]
  },
  {
   "cell_type": "code",
   "execution_count": 54,
   "metadata": {},
   "outputs": [],
   "source": [
    "floor = 0.05\n",
    "alpha = 1.4\n",
    "m[\"Multiplier\"] = tt.agg.sum(\n",
    "    tt.math.min(\n",
    "        1.0,\n",
    "        floor\n",
    "        + (1 - floor)\n",
    "        * tt.math.exp(\n",
    "            (m[\"MarketValue\"] - m[\"Collateral\"]) / (2 * (1 - floor) * m[\"AddOn\"])\n",
    "        ),\n",
    "    ),\n",
    "    scope=tt.scope.origin(l[\"NettingSetId\"]),\n",
    ")"
   ]
  },
  {
   "cell_type": "code",
   "execution_count": 55,
   "metadata": {},
   "outputs": [
    {
     "data": {
      "text/html": [
       "<div>\n",
       "<style scoped>\n",
       "    .dataframe tbody tr th:only-of-type {\n",
       "        vertical-align: middle;\n",
       "    }\n",
       "\n",
       "    .dataframe tbody tr th {\n",
       "        vertical-align: top;\n",
       "    }\n",
       "\n",
       "    .dataframe thead th {\n",
       "        text-align: right;\n",
       "    }\n",
       "</style>\n",
       "<table border=\"1\" class=\"dataframe\">\n",
       "  <thead>\n",
       "    <tr style=\"text-align: right;\">\n",
       "      <th></th>\n",
       "      <th>Multiplier</th>\n",
       "    </tr>\n",
       "    <tr>\n",
       "      <th>NettingSetId</th>\n",
       "      <th></th>\n",
       "    </tr>\n",
       "  </thead>\n",
       "  <tbody>\n",
       "    <tr>\n",
       "      <th>EX2</th>\n",
       "      <td>1.00</td>\n",
       "    </tr>\n",
       "    <tr>\n",
       "      <th>EX9</th>\n",
       "      <td>1.00</td>\n",
       "    </tr>\n",
       "    <tr>\n",
       "      <th>EX7</th>\n",
       "      <td>1.00</td>\n",
       "    </tr>\n",
       "  </tbody>\n",
       "</table>\n",
       "</div>"
      ],
      "text/plain": [
       "              Multiplier\n",
       "NettingSetId            \n",
       "EX2                 1.00\n",
       "EX9                 1.00\n",
       "EX7                 1.00"
      ]
     },
     "execution_count": 55,
     "metadata": {},
     "output_type": "execute_result"
    }
   ],
   "source": [
    "cube.query(m[\"Multiplier\"], levels=[l[\"NettingSetId\"]]).sample(3)"
   ]
  },
  {
   "cell_type": "markdown",
   "metadata": {},
   "source": [
    "## PFE add-on for each netting set - [52.20]\n",
    "\n",
    "Having defined the aggregate AddOn and the multiplier, the PFE is obtained per formula: $PFE = multiplier * AddOn^{aggregate}$  - which is computed for each netting set and then summed up."
   ]
  },
  {
   "cell_type": "code",
   "execution_count": 56,
   "metadata": {},
   "outputs": [],
   "source": [
    "m[\"PFE\"] = tt.agg.sum(\n",
    "    m[\"Multiplier\"] * m[\"AddOn\"], scope=tt.scope.origin(l[\"NettingSetId\"])\n",
    ")"
   ]
  },
  {
   "cell_type": "code",
   "execution_count": 57,
   "metadata": {},
   "outputs": [
    {
     "data": {
      "application/vnd.atoti.convert-query-result-to-widget.v0+json": {
       "mdx": "SELECT {[Measures].[PFE]} ON COLUMNS FROM [SA-CCR]",
       "sessionId": "1648810275_0IFKN9",
       "widgetCreationCode": "session.visualize()"
      },
      "text/html": [
       "<div>\n",
       "<style scoped>\n",
       "    .dataframe tbody tr th:only-of-type {\n",
       "        vertical-align: middle;\n",
       "    }\n",
       "\n",
       "    .dataframe tbody tr th {\n",
       "        vertical-align: top;\n",
       "    }\n",
       "\n",
       "    .dataframe thead th {\n",
       "        text-align: right;\n",
       "    }\n",
       "</style>\n",
       "<table border=\"1\" class=\"dataframe\">\n",
       "  <thead>\n",
       "    <tr style=\"text-align: right;\">\n",
       "      <th></th>\n",
       "      <th>PFE</th>\n",
       "    </tr>\n",
       "  </thead>\n",
       "  <tbody>\n",
       "    <tr>\n",
       "      <th>0</th>\n",
       "      <td>637,681,350.88</td>\n",
       "    </tr>\n",
       "  </tbody>\n",
       "</table>\n",
       "</div>"
      ],
      "text/plain": [
       "              PFE\n",
       "0  637,681,350.88"
      ]
     },
     "execution_count": 57,
     "metadata": {},
     "output_type": "execute_result"
    }
   ],
   "source": [
    "cube.query(m[\"PFE\"])"
   ]
  },
  {
   "cell_type": "markdown",
   "metadata": {},
   "source": [
    "## Replacement cost - [52.10] - [52.18]\n",
    "\n",
    "The Replacement Cost is $RC = max(V-C,0)$  for unmargined transactions and $RC = max(V-C, TH + MTA - NICA, 0)$. \n",
    "\n",
    "In this formula:\n",
    "\n",
    "- $V$ is the market value of derivative transactions, \n",
    "- $C$ is the haircut value of net collateral held (if any)), \n",
    "- TH - positive threshold before the counterparty must send the bank collateral, \n",
    "- MTA - minimum transfer amount applicable to the counterparty, \n",
    "- NICA - net independent collateral amount."
   ]
  },
  {
   "cell_type": "code",
   "execution_count": 58,
   "metadata": {},
   "outputs": [
    {
     "data": {
      "application/vnd.atoti.convert-query-result-to-widget.v0+json": {
       "mdx": "SELECT {[Measures].[TH], [Measures].[MTA], [Measures].[NICA]} ON COLUMNS, NON EMPTY [Trades].[NettingSetId].[NettingSetId].Members ON ROWS FROM [SA-CCR]",
       "sessionId": "1648810275_0IFKN9",
       "widgetCreationCode": "session.visualize()"
      },
      "text/html": [
       "<div>\n",
       "<style scoped>\n",
       "    .dataframe tbody tr th:only-of-type {\n",
       "        vertical-align: middle;\n",
       "    }\n",
       "\n",
       "    .dataframe tbody tr th {\n",
       "        vertical-align: top;\n",
       "    }\n",
       "\n",
       "    .dataframe thead th {\n",
       "        text-align: right;\n",
       "    }\n",
       "</style>\n",
       "<table border=\"1\" class=\"dataframe\">\n",
       "  <thead>\n",
       "    <tr style=\"text-align: right;\">\n",
       "      <th></th>\n",
       "      <th>TH</th>\n",
       "      <th>MTA</th>\n",
       "      <th>NICA</th>\n",
       "    </tr>\n",
       "    <tr>\n",
       "      <th>NettingSetId</th>\n",
       "      <th></th>\n",
       "      <th></th>\n",
       "      <th></th>\n",
       "    </tr>\n",
       "  </thead>\n",
       "  <tbody>\n",
       "    <tr>\n",
       "      <th>EX10</th>\n",
       "      <td>.00</td>\n",
       "      <td>5,000.00</td>\n",
       "      <td>170,388.00</td>\n",
       "    </tr>\n",
       "  </tbody>\n",
       "</table>\n",
       "</div>"
      ],
      "text/plain": [
       "               TH       MTA        NICA\n",
       "NettingSetId                           \n",
       "EX10          .00  5,000.00  170,388.00"
      ]
     },
     "execution_count": 58,
     "metadata": {},
     "output_type": "execute_result"
    }
   ],
   "source": [
    "# Let's start by disaplying TH, MTA and NICA parameters of netting sets:\n",
    "m[\"TH\"] = tt.value(nettingSets_table[\"TH\"])\n",
    "m[\"MTA\"] = tt.value(nettingSets_table[\"MTA\"])\n",
    "m[\"NICA\"] = tt.value(nettingSets_table[\"NICA\"])\n",
    "cube.query(m[\"TH\"], m[\"MTA\"], m[\"NICA\"], levels=[l[\"NettingSetId\"]])"
   ]
  },
  {
   "cell_type": "code",
   "execution_count": 59,
   "metadata": {},
   "outputs": [],
   "source": [
    "RC_unmargined = tt.math.max(m[\"MarketValue\"] - m[\"Collateral\"], 0)\n",
    "\n",
    "RC_margined = tt.math.max(\n",
    "    m[\"MarketValue\"] - m[\"Collateral\"],\n",
    "    m[\"TH\"] + m[\"MTA\"] - m[\"NICA\"],\n",
    "    0,\n",
    ")\n",
    "\n",
    "m[\"RC\"] = tt.agg.sum(\n",
    "    tt.where(\n",
    "        l[\"isMargined\"] == \"Y\",\n",
    "        RC_margined,\n",
    "        RC_unmargined,\n",
    "    ),\n",
    "    scope=tt.scope.origin(l[\"NettingSetId\"]),\n",
    ")"
   ]
  },
  {
   "cell_type": "code",
   "execution_count": 60,
   "metadata": {},
   "outputs": [
    {
     "data": {
      "application/vnd.atoti.convert-query-result-to-widget.v0+json": {
       "mdx": "SELECT {[Measures].[RC], [Measures].[MarketValue], [Measures].[Collateral]} ON COLUMNS, NON EMPTY [NettingSets].[isMargined].[isMargined].Members ON ROWS FROM [SA-CCR]",
       "sessionId": "1648810275_0IFKN9",
       "widgetCreationCode": "session.visualize()"
      },
      "text/html": [
       "<div>\n",
       "<style scoped>\n",
       "    .dataframe tbody tr th:only-of-type {\n",
       "        vertical-align: middle;\n",
       "    }\n",
       "\n",
       "    .dataframe tbody tr th {\n",
       "        vertical-align: top;\n",
       "    }\n",
       "\n",
       "    .dataframe thead th {\n",
       "        text-align: right;\n",
       "    }\n",
       "</style>\n",
       "<table border=\"1\" class=\"dataframe\">\n",
       "  <thead>\n",
       "    <tr style=\"text-align: right;\">\n",
       "      <th></th>\n",
       "      <th>RC</th>\n",
       "      <th>MarketValue</th>\n",
       "      <th>Collateral</th>\n",
       "    </tr>\n",
       "    <tr>\n",
       "      <th>isMargined</th>\n",
       "      <th></th>\n",
       "      <th></th>\n",
       "      <th></th>\n",
       "    </tr>\n",
       "  </thead>\n",
       "  <tbody>\n",
       "    <tr>\n",
       "      <th>N</th>\n",
       "      <td>885,078,290.00</td>\n",
       "      <td>885,078,290.00</td>\n",
       "      <td>.00</td>\n",
       "    </tr>\n",
       "    <tr>\n",
       "      <th>Y</th>\n",
       "      <td>157,771,095.00</td>\n",
       "      <td>168,903,160.00</td>\n",
       "      <td>11,132,065.00</td>\n",
       "    </tr>\n",
       "  </tbody>\n",
       "</table>\n",
       "</div>"
      ],
      "text/plain": [
       "                        RC     MarketValue     Collateral\n",
       "isMargined                                               \n",
       "N           885,078,290.00  885,078,290.00            .00\n",
       "Y           157,771,095.00  168,903,160.00  11,132,065.00"
      ]
     },
     "execution_count": 60,
     "metadata": {},
     "output_type": "execute_result"
    }
   ],
   "source": [
    "cube.query(m[\"RC\"], m[\"MarketValue\"], m[\"Collateral\"], levels=[l[\"isMargined\"]])"
   ]
  },
  {
   "cell_type": "markdown",
   "metadata": {},
   "source": [
    "# EAD - [52.1]\n",
    "\n",
    "$$EAD = \\alpha * (RC + PFE)$$\n",
    "\n",
    "where $alpha = 1.4$ (fixed parameter), "
   ]
  },
  {
   "cell_type": "code",
   "execution_count": 61,
   "metadata": {},
   "outputs": [],
   "source": [
    "alpha = 1.4\n",
    "m[\"EAD\"] = tt.agg.sum(\n",
    "    alpha * (m[\"RC\"] + m[\"PFE\"]), scope=tt.scope.origin(l[\"NettingSetId\"])\n",
    ")"
   ]
  },
  {
   "cell_type": "markdown",
   "metadata": {},
   "source": [
    "# Formatting\n",
    "\n",
    "The following cell will allocate measures to folders in the cube explorer, and apply formatting."
   ]
  },
  {
   "cell_type": "code",
   "execution_count": 62,
   "metadata": {},
   "outputs": [],
   "source": [
    "for measure in sorted(list(m)):\n",
    "    if (\n",
    "        measure.startswith(\"AddOn\")\n",
    "        or measure.startswith(\"D_\")\n",
    "        or measure\n",
    "        in [\n",
    "            \"Effective_notional_IR_NoOffset_Formula\",\n",
    "            \"Effective_notional_IR_Offset_Formula\",\n",
    "            \"Effective_notional_IR_j_k\",\n",
    "            \"Effective_notional_IR\",\n",
    "        ]\n",
    "    ):\n",
    "        m[measure].formatter = \"DOUBLE[#,###]\"\n",
    "        m[measure].folder = \"AddOn\"\n",
    "    elif measure in [\n",
    "        \"Correlation\",\n",
    "        \"SupervisoryFactor\",\n",
    "        \"Supervisory_Option_Volatility\",\n",
    "    ]:\n",
    "        m[measure].formatter = \"DOUBLE[#,###.0000]\"\n",
    "        m[measure].folder = \"Supervisory Parameters\"\n",
    "\n",
    "    elif measure in [\n",
    "        \"Direction\",\n",
    "        \"DetachPoint\",\n",
    "        \"AttachPoint\",\n",
    "        \"MarketValue\",\n",
    "        \"Notional\",\n",
    "        \"Underlying Price\",\n",
    "        \"Strike Price\",\n",
    "    ]:\n",
    "        m[measure].formatter = \"DOUBLE[#,###.0000]\"\n",
    "        m[measure].folder = \"Trades Input Data\"\n",
    "\n",
    "    elif measure in [\"Collateral\", \"TH\", \"MTA\", \"NICA\", \"MPOR\"]:\n",
    "        m[measure].formatter = \"DOUBLE[#,###]\"\n",
    "        m[measure].folder = \"Netting Sets Input Data\"\n",
    "\n",
    "    elif measure in [\"Mi\", \"Ei\", \"Si\", \"Ti\"]:\n",
    "        m[measure].formatter = \"DOUBLE[#,###.##]\"\n",
    "        m[measure].folder = \"Time period parameters\"\n",
    "\n",
    "    elif measure in [\n",
    "        \"Delta_Adjustment\",\n",
    "        \"Supervisory_Duration\",\n",
    "        \"Adjusted_Notional\",\n",
    "        \"Maturity_Factor\",\n",
    "        \"d\",\n",
    "        \"Trade_Effective_Notional\",\n",
    "        \"Adjusted_Notional x Delta_Adjustment\",\n",
    "    ]:\n",
    "        m[measure].formatter = \"DOUBLE[#,###.00]\"\n",
    "        m[measure].folder = \"Derived Interim Results\"\n",
    "    m[\"EAD\"].formatter = \"DOUBLE[#,###]\"\n",
    "    m[\"PFE\"].formatter = \"DOUBLE[#,###]\"\n",
    "    m[\"RC\"].formatter = \"DOUBLE[#,###]\""
   ]
  },
  {
   "cell_type": "markdown",
   "metadata": {},
   "source": [
    "# Enriching the data"
   ]
  },
  {
   "cell_type": "markdown",
   "metadata": {},
   "source": [
    "Having implemented the core metrics for computing EAD from trades data and parameters, we can enrich trades and netting sets data with additional attributes. As an example, let's load business units and link them to trades via book:"
   ]
  },
  {
   "cell_type": "code",
   "execution_count": 63,
   "metadata": {},
   "outputs": [],
   "source": [
    "books_table = session.read_csv(\n",
    "    \"s3://data.atoti.io/notebooks/sa-ccr/T0/books.csv\",\n",
    "    keys=[\"AsOfDate\", \"BookId\"],\n",
    "    table_name=\"BookStructure\",\n",
    ")\n",
    "\n",
    "trades_table.join(books_table, mapping={\"BookId\": \"BookId\", \"AsOfDate\": \"AsOfDate\"})"
   ]
  },
  {
   "cell_type": "code",
   "execution_count": 64,
   "metadata": {},
   "outputs": [
    {
     "data": {
      "image/svg+xml": [
       "<svg xmlns=\"http://www.w3.org/2000/svg\" xmlns:xlink=\"http://www.w3.org/1999/xlink\" width=\"667px\" height=\"586px\" viewBox=\"0.00 0.00 667.00 586.00\">\n",
       "<g id=\"graph0\" class=\"graph\" transform=\"scale(1.0 1.0) rotate(0) translate(4 582)\">\n",
       "<title>SA-CCR schema</title>\n",
       "<polygon fill=\"white\" stroke=\"transparent\" points=\"-4,4 -4,-582 663,-582 663,4 -4,4\"/>\n",
       "<!-- Trades -->\n",
       "<g id=\"node1\" class=\"node\">\n",
       "<title>Trades</title>\n",
       "<text text-anchor=\"start\" x=\"88.5\" y=\"-558.6\" font-family=\"-apple-system, BlinkMacSystemFont, 'Segoe UI', Helvetica, Arial, sans-serif, 'Apple Color Emoji', 'Segoe UI Emoji', 'Segoe UI Symbol'\" font-weight=\"bold\" font-size=\"13.00\">Trades</text>\n",
       "<polygon fill=\"#f5f5f5\" stroke=\"transparent\" points=\"9,-525 9,-549 40,-549 40,-525 9,-525\"/>\n",
       "<text text-anchor=\"start\" x=\"14\" y=\"-534.6\" font-family=\"-apple-system, BlinkMacSystemFont, 'Segoe UI', Helvetica, Arial, sans-serif, 'Apple Color Emoji', 'Segoe UI Emoji', 'Segoe UI Symbol'\" font-weight=\"bold\" font-size=\"13.00\">key</text>\n",
       "<polygon fill=\"#f5f5f5\" stroke=\"transparent\" points=\"40,-525 40,-549 142,-549 142,-525 40,-525\"/>\n",
       "<text text-anchor=\"start\" x=\"45\" y=\"-533.6\" font-family=\"-apple-system, BlinkMacSystemFont, 'Segoe UI', Helvetica, Arial, sans-serif, 'Apple Color Emoji', 'Segoe UI Emoji', 'Segoe UI Symbol'\" font-size=\"13.00\">AsOfDate</text>\n",
       "<polygon fill=\"#f5f5f5\" stroke=\"transparent\" points=\"142,-525 142,-549 209,-549 209,-525 142,-525\"/>\n",
       "<text text-anchor=\"start\" x=\"147\" y=\"-534.6\" font-family=\"-apple-system, BlinkMacSystemFont, 'Segoe UI', Helvetica, Arial, sans-serif, 'Apple Color Emoji', 'Segoe UI Emoji', 'Segoe UI Symbol'\" font-style=\"italic\" font-size=\"13.00\">LocalDate</text>\n",
       "<polygon fill=\"#ffffff\" stroke=\"transparent\" points=\"9,-501 9,-525 40,-525 40,-501 9,-501\"/>\n",
       "<text text-anchor=\"start\" x=\"14\" y=\"-510.6\" font-family=\"-apple-system, BlinkMacSystemFont, 'Segoe UI', Helvetica, Arial, sans-serif, 'Apple Color Emoji', 'Segoe UI Emoji', 'Segoe UI Symbol'\" font-weight=\"bold\" font-size=\"13.00\">key</text>\n",
       "<polygon fill=\"#ffffff\" stroke=\"transparent\" points=\"40,-501 40,-525 142,-525 142,-501 40,-501\"/>\n",
       "<text text-anchor=\"start\" x=\"45\" y=\"-509.6\" font-family=\"-apple-system, BlinkMacSystemFont, 'Segoe UI', Helvetica, Arial, sans-serif, 'Apple Color Emoji', 'Segoe UI Emoji', 'Segoe UI Symbol'\" font-size=\"13.00\">TradeId</text>\n",
       "<polygon fill=\"#ffffff\" stroke=\"transparent\" points=\"142,-501 142,-525 209,-525 209,-501 142,-501\"/>\n",
       "<text text-anchor=\"start\" x=\"171\" y=\"-510.6\" font-family=\"-apple-system, BlinkMacSystemFont, 'Segoe UI', Helvetica, Arial, sans-serif, 'Apple Color Emoji', 'Segoe UI Emoji', 'Segoe UI Symbol'\" font-style=\"italic\" font-size=\"13.00\">String</text>\n",
       "<polygon fill=\"#f5f5f5\" stroke=\"transparent\" points=\"9,-477 9,-501 40,-501 40,-477 9,-477\"/>\n",
       "<polygon fill=\"#f5f5f5\" stroke=\"transparent\" points=\"40,-477 40,-501 142,-501 142,-477 40,-477\"/>\n",
       "<text text-anchor=\"start\" x=\"45\" y=\"-485.6\" font-family=\"-apple-system, BlinkMacSystemFont, 'Segoe UI', Helvetica, Arial, sans-serif, 'Apple Color Emoji', 'Segoe UI Emoji', 'Segoe UI Symbol'\" font-size=\"13.00\">NettingSetId</text>\n",
       "<polygon fill=\"#f5f5f5\" stroke=\"transparent\" points=\"142,-477 142,-501 209,-501 209,-477 142,-477\"/>\n",
       "<text text-anchor=\"start\" x=\"171\" y=\"-486.6\" font-family=\"-apple-system, BlinkMacSystemFont, 'Segoe UI', Helvetica, Arial, sans-serif, 'Apple Color Emoji', 'Segoe UI Emoji', 'Segoe UI Symbol'\" font-style=\"italic\" font-size=\"13.00\">String</text>\n",
       "<polygon fill=\"#ffffff\" stroke=\"transparent\" points=\"9,-453 9,-477 40,-477 40,-453 9,-453\"/>\n",
       "<polygon fill=\"#ffffff\" stroke=\"transparent\" points=\"40,-453 40,-477 142,-477 142,-453 40,-453\"/>\n",
       "<text text-anchor=\"start\" x=\"45\" y=\"-461.6\" font-family=\"-apple-system, BlinkMacSystemFont, 'Segoe UI', Helvetica, Arial, sans-serif, 'Apple Color Emoji', 'Segoe UI Emoji', 'Segoe UI Symbol'\" font-size=\"13.00\">BookId</text>\n",
       "<polygon fill=\"#ffffff\" stroke=\"transparent\" points=\"142,-453 142,-477 209,-477 209,-453 142,-453\"/>\n",
       "<text text-anchor=\"start\" x=\"171\" y=\"-462.6\" font-family=\"-apple-system, BlinkMacSystemFont, 'Segoe UI', Helvetica, Arial, sans-serif, 'Apple Color Emoji', 'Segoe UI Emoji', 'Segoe UI Symbol'\" font-style=\"italic\" font-size=\"13.00\">String</text>\n",
       "<polygon fill=\"#f5f5f5\" stroke=\"transparent\" points=\"9,-429 9,-453 40,-453 40,-429 9,-429\"/>\n",
       "<polygon fill=\"#f5f5f5\" stroke=\"transparent\" points=\"40,-429 40,-453 142,-453 142,-429 40,-429\"/>\n",
       "<text text-anchor=\"start\" x=\"45\" y=\"-437.6\" font-family=\"-apple-system, BlinkMacSystemFont, 'Segoe UI', Helvetica, Arial, sans-serif, 'Apple Color Emoji', 'Segoe UI Emoji', 'Segoe UI Symbol'\" font-size=\"13.00\">Direction</text>\n",
       "<polygon fill=\"#f5f5f5\" stroke=\"transparent\" points=\"142,-429 142,-453 209,-453 209,-429 142,-429\"/>\n",
       "<text text-anchor=\"start\" x=\"190\" y=\"-438.6\" font-family=\"-apple-system, BlinkMacSystemFont, 'Segoe UI', Helvetica, Arial, sans-serif, 'Apple Color Emoji', 'Segoe UI Emoji', 'Segoe UI Symbol'\" font-style=\"italic\" font-size=\"13.00\">int</text>\n",
       "<polygon fill=\"#ffffff\" stroke=\"transparent\" points=\"9,-405 9,-429 40,-429 40,-405 9,-405\"/>\n",
       "<polygon fill=\"#ffffff\" stroke=\"transparent\" points=\"40,-405 40,-429 142,-429 142,-405 40,-405\"/>\n",
       "<text text-anchor=\"start\" x=\"45\" y=\"-413.6\" font-family=\"-apple-system, BlinkMacSystemFont, 'Segoe UI', Helvetica, Arial, sans-serif, 'Apple Color Emoji', 'Segoe UI Emoji', 'Segoe UI Symbol'\" font-size=\"13.00\">Notional</text>\n",
       "<polygon fill=\"#ffffff\" stroke=\"transparent\" points=\"142,-405 142,-429 209,-429 209,-405 142,-405\"/>\n",
       "<text text-anchor=\"start\" x=\"167\" y=\"-414.6\" font-family=\"-apple-system, BlinkMacSystemFont, 'Segoe UI', Helvetica, Arial, sans-serif, 'Apple Color Emoji', 'Segoe UI Emoji', 'Segoe UI Symbol'\" font-style=\"italic\" font-size=\"13.00\">double</text>\n",
       "<polygon fill=\"#f5f5f5\" stroke=\"transparent\" points=\"9,-381 9,-405 40,-405 40,-381 9,-381\"/>\n",
       "<polygon fill=\"#f5f5f5\" stroke=\"transparent\" points=\"40,-381 40,-405 142,-405 142,-381 40,-381\"/>\n",
       "<text text-anchor=\"start\" x=\"45\" y=\"-389.6\" font-family=\"-apple-system, BlinkMacSystemFont, 'Segoe UI', Helvetica, Arial, sans-serif, 'Apple Color Emoji', 'Segoe UI Emoji', 'Segoe UI Symbol'\" font-size=\"13.00\">MarketValue</text>\n",
       "<polygon fill=\"#f5f5f5\" stroke=\"transparent\" points=\"142,-381 142,-405 209,-405 209,-381 142,-381\"/>\n",
       "<text text-anchor=\"start\" x=\"167\" y=\"-390.6\" font-family=\"-apple-system, BlinkMacSystemFont, 'Segoe UI', Helvetica, Arial, sans-serif, 'Apple Color Emoji', 'Segoe UI Emoji', 'Segoe UI Symbol'\" font-style=\"italic\" font-size=\"13.00\">double</text>\n",
       "<polygon fill=\"#ffffff\" stroke=\"transparent\" points=\"9,-357 9,-381 40,-381 40,-357 9,-357\"/>\n",
       "<polygon fill=\"#ffffff\" stroke=\"transparent\" points=\"40,-357 40,-381 142,-381 142,-357 40,-357\"/>\n",
       "<text text-anchor=\"start\" x=\"45\" y=\"-365.6\" font-family=\"-apple-system, BlinkMacSystemFont, 'Segoe UI', Helvetica, Arial, sans-serif, 'Apple Color Emoji', 'Segoe UI Emoji', 'Segoe UI Symbol'\" font-size=\"13.00\">AssetClass</text>\n",
       "<polygon fill=\"#ffffff\" stroke=\"transparent\" points=\"142,-357 142,-381 209,-381 209,-357 142,-357\"/>\n",
       "<text text-anchor=\"start\" x=\"171\" y=\"-366.6\" font-family=\"-apple-system, BlinkMacSystemFont, 'Segoe UI', Helvetica, Arial, sans-serif, 'Apple Color Emoji', 'Segoe UI Emoji', 'Segoe UI Symbol'\" font-style=\"italic\" font-size=\"13.00\">String</text>\n",
       "<polygon fill=\"#f5f5f5\" stroke=\"transparent\" points=\"9,-333 9,-357 40,-357 40,-333 9,-333\"/>\n",
       "<polygon fill=\"#f5f5f5\" stroke=\"transparent\" points=\"40,-333 40,-357 142,-357 142,-333 40,-333\"/>\n",
       "<text text-anchor=\"start\" x=\"45\" y=\"-341.6\" font-family=\"-apple-system, BlinkMacSystemFont, 'Segoe UI', Helvetica, Arial, sans-serif, 'Apple Color Emoji', 'Segoe UI Emoji', 'Segoe UI Symbol'\" font-size=\"13.00\">SubClass</text>\n",
       "<polygon fill=\"#f5f5f5\" stroke=\"transparent\" points=\"142,-333 142,-357 209,-357 209,-333 142,-333\"/>\n",
       "<text text-anchor=\"start\" x=\"171\" y=\"-342.6\" font-family=\"-apple-system, BlinkMacSystemFont, 'Segoe UI', Helvetica, Arial, sans-serif, 'Apple Color Emoji', 'Segoe UI Emoji', 'Segoe UI Symbol'\" font-style=\"italic\" font-size=\"13.00\">String</text>\n",
       "<polygon fill=\"#ffffff\" stroke=\"transparent\" points=\"9,-309 9,-333 40,-333 40,-309 9,-309\"/>\n",
       "<polygon fill=\"#ffffff\" stroke=\"transparent\" points=\"40,-309 40,-333 142,-333 142,-309 40,-309\"/>\n",
       "<text text-anchor=\"start\" x=\"45\" y=\"-317.6\" font-family=\"-apple-system, BlinkMacSystemFont, 'Segoe UI', Helvetica, Arial, sans-serif, 'Apple Color Emoji', 'Segoe UI Emoji', 'Segoe UI Symbol'\" font-size=\"13.00\">OptionType</text>\n",
       "<polygon fill=\"#ffffff\" stroke=\"transparent\" points=\"142,-309 142,-333 209,-333 209,-309 142,-309\"/>\n",
       "<text text-anchor=\"start\" x=\"171\" y=\"-318.6\" font-family=\"-apple-system, BlinkMacSystemFont, 'Segoe UI', Helvetica, Arial, sans-serif, 'Apple Color Emoji', 'Segoe UI Emoji', 'Segoe UI Symbol'\" font-style=\"italic\" font-size=\"13.00\">String</text>\n",
       "<polygon fill=\"#f5f5f5\" stroke=\"transparent\" points=\"9,-285 9,-309 40,-309 40,-285 9,-285\"/>\n",
       "<polygon fill=\"#f5f5f5\" stroke=\"transparent\" points=\"40,-285 40,-309 142,-309 142,-285 40,-285\"/>\n",
       "<text text-anchor=\"start\" x=\"45\" y=\"-293.6\" font-family=\"-apple-system, BlinkMacSystemFont, 'Segoe UI', Helvetica, Arial, sans-serif, 'Apple Color Emoji', 'Segoe UI Emoji', 'Segoe UI Symbol'\" font-size=\"13.00\">Underlying</text>\n",
       "<polygon fill=\"#f5f5f5\" stroke=\"transparent\" points=\"142,-285 142,-309 209,-309 209,-285 142,-285\"/>\n",
       "<text text-anchor=\"start\" x=\"171\" y=\"-294.6\" font-family=\"-apple-system, BlinkMacSystemFont, 'Segoe UI', Helvetica, Arial, sans-serif, 'Apple Color Emoji', 'Segoe UI Emoji', 'Segoe UI Symbol'\" font-style=\"italic\" font-size=\"13.00\">String</text>\n",
       "<polygon fill=\"#ffffff\" stroke=\"transparent\" points=\"9,-261 9,-285 40,-285 40,-261 9,-261\"/>\n",
       "<polygon fill=\"#ffffff\" stroke=\"transparent\" points=\"40,-261 40,-285 142,-285 142,-261 40,-261\"/>\n",
       "<text text-anchor=\"start\" x=\"45\" y=\"-269.6\" font-family=\"-apple-system, BlinkMacSystemFont, 'Segoe UI', Helvetica, Arial, sans-serif, 'Apple Color Emoji', 'Segoe UI Emoji', 'Segoe UI Symbol'\" font-size=\"13.00\">Si_Date</text>\n",
       "<polygon fill=\"#ffffff\" stroke=\"transparent\" points=\"142,-261 142,-285 209,-285 209,-261 142,-261\"/>\n",
       "<text text-anchor=\"start\" x=\"147\" y=\"-270.6\" font-family=\"-apple-system, BlinkMacSystemFont, 'Segoe UI', Helvetica, Arial, sans-serif, 'Apple Color Emoji', 'Segoe UI Emoji', 'Segoe UI Symbol'\" font-style=\"italic\" font-size=\"13.00\">LocalDate</text>\n",
       "<polygon fill=\"#f5f5f5\" stroke=\"transparent\" points=\"9,-237 9,-261 40,-261 40,-237 9,-237\"/>\n",
       "<polygon fill=\"#f5f5f5\" stroke=\"transparent\" points=\"40,-237 40,-261 142,-261 142,-237 40,-237\"/>\n",
       "<text text-anchor=\"start\" x=\"45\" y=\"-245.6\" font-family=\"-apple-system, BlinkMacSystemFont, 'Segoe UI', Helvetica, Arial, sans-serif, 'Apple Color Emoji', 'Segoe UI Emoji', 'Segoe UI Symbol'\" font-size=\"13.00\">Ei_Date</text>\n",
       "<polygon fill=\"#f5f5f5\" stroke=\"transparent\" points=\"142,-237 142,-261 209,-261 209,-237 142,-237\"/>\n",
       "<text text-anchor=\"start\" x=\"147\" y=\"-246.6\" font-family=\"-apple-system, BlinkMacSystemFont, 'Segoe UI', Helvetica, Arial, sans-serif, 'Apple Color Emoji', 'Segoe UI Emoji', 'Segoe UI Symbol'\" font-style=\"italic\" font-size=\"13.00\">LocalDate</text>\n",
       "<polygon fill=\"#ffffff\" stroke=\"transparent\" points=\"9,-213 9,-237 40,-237 40,-213 9,-213\"/>\n",
       "<polygon fill=\"#ffffff\" stroke=\"transparent\" points=\"40,-213 40,-237 142,-237 142,-213 40,-213\"/>\n",
       "<text text-anchor=\"start\" x=\"45\" y=\"-221.6\" font-family=\"-apple-system, BlinkMacSystemFont, 'Segoe UI', Helvetica, Arial, sans-serif, 'Apple Color Emoji', 'Segoe UI Emoji', 'Segoe UI Symbol'\" font-size=\"13.00\">Mi_Date</text>\n",
       "<polygon fill=\"#ffffff\" stroke=\"transparent\" points=\"142,-213 142,-237 209,-237 209,-213 142,-213\"/>\n",
       "<text text-anchor=\"start\" x=\"147\" y=\"-222.6\" font-family=\"-apple-system, BlinkMacSystemFont, 'Segoe UI', Helvetica, Arial, sans-serif, 'Apple Color Emoji', 'Segoe UI Emoji', 'Segoe UI Symbol'\" font-style=\"italic\" font-size=\"13.00\">LocalDate</text>\n",
       "<polygon fill=\"#f5f5f5\" stroke=\"transparent\" points=\"9,-189 9,-213 40,-213 40,-189 9,-189\"/>\n",
       "<polygon fill=\"#f5f5f5\" stroke=\"transparent\" points=\"40,-189 40,-213 142,-213 142,-189 40,-189\"/>\n",
       "<text text-anchor=\"start\" x=\"45\" y=\"-197.6\" font-family=\"-apple-system, BlinkMacSystemFont, 'Segoe UI', Helvetica, Arial, sans-serif, 'Apple Color Emoji', 'Segoe UI Emoji', 'Segoe UI Symbol'\" font-size=\"13.00\">Ti_Date</text>\n",
       "<polygon fill=\"#f5f5f5\" stroke=\"transparent\" points=\"142,-189 142,-213 209,-213 209,-189 142,-189\"/>\n",
       "<text text-anchor=\"start\" x=\"147\" y=\"-198.6\" font-family=\"-apple-system, BlinkMacSystemFont, 'Segoe UI', Helvetica, Arial, sans-serif, 'Apple Color Emoji', 'Segoe UI Emoji', 'Segoe UI Symbol'\" font-style=\"italic\" font-size=\"13.00\">LocalDate</text>\n",
       "<polygon fill=\"#ffffff\" stroke=\"transparent\" points=\"9,-165 9,-189 40,-189 40,-165 9,-165\"/>\n",
       "<polygon fill=\"#ffffff\" stroke=\"transparent\" points=\"40,-165 40,-189 142,-189 142,-165 40,-165\"/>\n",
       "<text text-anchor=\"start\" x=\"45\" y=\"-173.6\" font-family=\"-apple-system, BlinkMacSystemFont, 'Segoe UI', Helvetica, Arial, sans-serif, 'Apple Color Emoji', 'Segoe UI Emoji', 'Segoe UI Symbol'\" font-size=\"13.00\">Strike Price</text>\n",
       "<polygon fill=\"#ffffff\" stroke=\"transparent\" points=\"142,-165 142,-189 209,-189 209,-165 142,-165\"/>\n",
       "<text text-anchor=\"start\" x=\"167\" y=\"-174.6\" font-family=\"-apple-system, BlinkMacSystemFont, 'Segoe UI', Helvetica, Arial, sans-serif, 'Apple Color Emoji', 'Segoe UI Emoji', 'Segoe UI Symbol'\" font-style=\"italic\" font-size=\"13.00\">double</text>\n",
       "<polygon fill=\"#f5f5f5\" stroke=\"transparent\" points=\"9,-141 9,-165 40,-165 40,-141 9,-141\"/>\n",
       "<polygon fill=\"#f5f5f5\" stroke=\"transparent\" points=\"40,-141 40,-165 142,-165 142,-141 40,-141\"/>\n",
       "<text text-anchor=\"start\" x=\"45\" y=\"-149.6\" font-family=\"-apple-system, BlinkMacSystemFont, 'Segoe UI', Helvetica, Arial, sans-serif, 'Apple Color Emoji', 'Segoe UI Emoji', 'Segoe UI Symbol'\" font-size=\"13.00\">Underlying Price</text>\n",
       "<polygon fill=\"#f5f5f5\" stroke=\"transparent\" points=\"142,-141 142,-165 209,-165 209,-141 142,-141\"/>\n",
       "<text text-anchor=\"start\" x=\"167\" y=\"-150.6\" font-family=\"-apple-system, BlinkMacSystemFont, 'Segoe UI', Helvetica, Arial, sans-serif, 'Apple Color Emoji', 'Segoe UI Emoji', 'Segoe UI Symbol'\" font-style=\"italic\" font-size=\"13.00\">double</text>\n",
       "<polygon fill=\"#ffffff\" stroke=\"transparent\" points=\"9,-117 9,-141 40,-141 40,-117 9,-117\"/>\n",
       "<polygon fill=\"#ffffff\" stroke=\"transparent\" points=\"40,-117 40,-141 142,-141 142,-117 40,-117\"/>\n",
       "<text text-anchor=\"start\" x=\"45\" y=\"-125.6\" font-family=\"-apple-system, BlinkMacSystemFont, 'Segoe UI', Helvetica, Arial, sans-serif, 'Apple Color Emoji', 'Segoe UI Emoji', 'Segoe UI Symbol'\" font-size=\"13.00\">AttachPoint</text>\n",
       "<polygon fill=\"#ffffff\" stroke=\"transparent\" points=\"142,-117 142,-141 209,-141 209,-117 142,-117\"/>\n",
       "<text text-anchor=\"start\" x=\"167\" y=\"-126.6\" font-family=\"-apple-system, BlinkMacSystemFont, 'Segoe UI', Helvetica, Arial, sans-serif, 'Apple Color Emoji', 'Segoe UI Emoji', 'Segoe UI Symbol'\" font-style=\"italic\" font-size=\"13.00\">double</text>\n",
       "<polygon fill=\"#f5f5f5\" stroke=\"transparent\" points=\"9,-93 9,-117 40,-117 40,-93 9,-93\"/>\n",
       "<polygon fill=\"#f5f5f5\" stroke=\"transparent\" points=\"40,-93 40,-117 142,-117 142,-93 40,-93\"/>\n",
       "<text text-anchor=\"start\" x=\"45\" y=\"-101.6\" font-family=\"-apple-system, BlinkMacSystemFont, 'Segoe UI', Helvetica, Arial, sans-serif, 'Apple Color Emoji', 'Segoe UI Emoji', 'Segoe UI Symbol'\" font-size=\"13.00\">DetachPoint</text>\n",
       "<polygon fill=\"#f5f5f5\" stroke=\"transparent\" points=\"142,-93 142,-117 209,-117 209,-93 142,-93\"/>\n",
       "<text text-anchor=\"start\" x=\"167\" y=\"-102.6\" font-family=\"-apple-system, BlinkMacSystemFont, 'Segoe UI', Helvetica, Arial, sans-serif, 'Apple Color Emoji', 'Segoe UI Emoji', 'Segoe UI Symbol'\" font-style=\"italic\" font-size=\"13.00\">double</text>\n",
       "<polygon fill=\"#ffffff\" stroke=\"transparent\" points=\"9,-69 9,-93 40,-93 40,-69 9,-69\"/>\n",
       "<polygon fill=\"#ffffff\" stroke=\"transparent\" points=\"40,-69 40,-93 142,-93 142,-69 40,-69\"/>\n",
       "<text text-anchor=\"start\" x=\"45\" y=\"-77.6\" font-family=\"-apple-system, BlinkMacSystemFont, 'Segoe UI', Helvetica, Arial, sans-serif, 'Apple Color Emoji', 'Segoe UI Emoji', 'Segoe UI Symbol'\" font-size=\"13.00\">IsCDO</text>\n",
       "<polygon fill=\"#ffffff\" stroke=\"transparent\" points=\"142,-69 142,-93 209,-93 209,-69 142,-69\"/>\n",
       "<text text-anchor=\"start\" x=\"171\" y=\"-78.6\" font-family=\"-apple-system, BlinkMacSystemFont, 'Segoe UI', Helvetica, Arial, sans-serif, 'Apple Color Emoji', 'Segoe UI Emoji', 'Segoe UI Symbol'\" font-style=\"italic\" font-size=\"13.00\">String</text>\n",
       "<polygon fill=\"none\" stroke=\"black\" points=\"8,-68 8,-574 210,-574 210,-68 8,-68\"/>\n",
       "</g>\n",
       "<!-- Parameters -->\n",
       "<g id=\"node2\" class=\"node\">\n",
       "<title>Parameters</title>\n",
       "<text text-anchor=\"start\" x=\"499\" y=\"-550.6\" font-family=\"-apple-system, BlinkMacSystemFont, 'Segoe UI', Helvetica, Arial, sans-serif, 'Apple Color Emoji', 'Segoe UI Emoji', 'Segoe UI Symbol'\" font-weight=\"bold\" font-size=\"13.00\">Parameters</text>\n",
       "<polygon fill=\"#f5f5f5\" stroke=\"transparent\" points=\"416,-517 416,-541 447,-541 447,-517 416,-517\"/>\n",
       "<text text-anchor=\"start\" x=\"421\" y=\"-526.6\" font-family=\"-apple-system, BlinkMacSystemFont, 'Segoe UI', Helvetica, Arial, sans-serif, 'Apple Color Emoji', 'Segoe UI Emoji', 'Segoe UI Symbol'\" font-weight=\"bold\" font-size=\"13.00\">key</text>\n",
       "<polygon fill=\"#f5f5f5\" stroke=\"transparent\" points=\"447,-517 447,-541 603,-541 603,-517 447,-517\"/>\n",
       "<text text-anchor=\"start\" x=\"452\" y=\"-525.6\" font-family=\"-apple-system, BlinkMacSystemFont, 'Segoe UI', Helvetica, Arial, sans-serif, 'Apple Color Emoji', 'Segoe UI Emoji', 'Segoe UI Symbol'\" font-size=\"13.00\">AssetClass</text>\n",
       "<polygon fill=\"#f5f5f5\" stroke=\"transparent\" points=\"603,-517 603,-541 650,-541 650,-517 603,-517\"/>\n",
       "<text text-anchor=\"start\" x=\"612\" y=\"-526.6\" font-family=\"-apple-system, BlinkMacSystemFont, 'Segoe UI', Helvetica, Arial, sans-serif, 'Apple Color Emoji', 'Segoe UI Emoji', 'Segoe UI Symbol'\" font-style=\"italic\" font-size=\"13.00\">String</text>\n",
       "<polygon fill=\"#ffffff\" stroke=\"transparent\" points=\"416,-493 416,-517 447,-517 447,-493 416,-493\"/>\n",
       "<text text-anchor=\"start\" x=\"421\" y=\"-502.6\" font-family=\"-apple-system, BlinkMacSystemFont, 'Segoe UI', Helvetica, Arial, sans-serif, 'Apple Color Emoji', 'Segoe UI Emoji', 'Segoe UI Symbol'\" font-weight=\"bold\" font-size=\"13.00\">key</text>\n",
       "<polygon fill=\"#ffffff\" stroke=\"transparent\" points=\"447,-493 447,-517 603,-517 603,-493 447,-493\"/>\n",
       "<text text-anchor=\"start\" x=\"452\" y=\"-501.6\" font-family=\"-apple-system, BlinkMacSystemFont, 'Segoe UI', Helvetica, Arial, sans-serif, 'Apple Color Emoji', 'Segoe UI Emoji', 'Segoe UI Symbol'\" font-size=\"13.00\">SubClass</text>\n",
       "<polygon fill=\"#ffffff\" stroke=\"transparent\" points=\"603,-493 603,-517 650,-517 650,-493 603,-493\"/>\n",
       "<text text-anchor=\"start\" x=\"612\" y=\"-502.6\" font-family=\"-apple-system, BlinkMacSystemFont, 'Segoe UI', Helvetica, Arial, sans-serif, 'Apple Color Emoji', 'Segoe UI Emoji', 'Segoe UI Symbol'\" font-style=\"italic\" font-size=\"13.00\">String</text>\n",
       "<polygon fill=\"#f5f5f5\" stroke=\"transparent\" points=\"416,-469 416,-493 447,-493 447,-469 416,-469\"/>\n",
       "<polygon fill=\"#f5f5f5\" stroke=\"transparent\" points=\"447,-469 447,-493 603,-493 603,-469 447,-469\"/>\n",
       "<text text-anchor=\"start\" x=\"452\" y=\"-477.6\" font-family=\"-apple-system, BlinkMacSystemFont, 'Segoe UI', Helvetica, Arial, sans-serif, 'Apple Color Emoji', 'Segoe UI Emoji', 'Segoe UI Symbol'\" font-size=\"13.00\">SupervisoryFactor</text>\n",
       "<polygon fill=\"#f5f5f5\" stroke=\"transparent\" points=\"603,-469 603,-493 650,-493 650,-469 603,-469\"/>\n",
       "<text text-anchor=\"start\" x=\"608\" y=\"-478.6\" font-family=\"-apple-system, BlinkMacSystemFont, 'Segoe UI', Helvetica, Arial, sans-serif, 'Apple Color Emoji', 'Segoe UI Emoji', 'Segoe UI Symbol'\" font-style=\"italic\" font-size=\"13.00\">double</text>\n",
       "<polygon fill=\"#ffffff\" stroke=\"transparent\" points=\"416,-445 416,-469 447,-469 447,-445 416,-445\"/>\n",
       "<polygon fill=\"#ffffff\" stroke=\"transparent\" points=\"447,-445 447,-469 603,-469 603,-445 447,-445\"/>\n",
       "<text text-anchor=\"start\" x=\"452\" y=\"-453.6\" font-family=\"-apple-system, BlinkMacSystemFont, 'Segoe UI', Helvetica, Arial, sans-serif, 'Apple Color Emoji', 'Segoe UI Emoji', 'Segoe UI Symbol'\" font-size=\"13.00\">Correlation</text>\n",
       "<polygon fill=\"#ffffff\" stroke=\"transparent\" points=\"603,-445 603,-469 650,-469 650,-445 603,-445\"/>\n",
       "<text text-anchor=\"start\" x=\"608\" y=\"-454.6\" font-family=\"-apple-system, BlinkMacSystemFont, 'Segoe UI', Helvetica, Arial, sans-serif, 'Apple Color Emoji', 'Segoe UI Emoji', 'Segoe UI Symbol'\" font-style=\"italic\" font-size=\"13.00\">double</text>\n",
       "<polygon fill=\"#f5f5f5\" stroke=\"transparent\" points=\"416,-421 416,-445 447,-445 447,-421 416,-421\"/>\n",
       "<polygon fill=\"#f5f5f5\" stroke=\"transparent\" points=\"447,-421 447,-445 603,-445 603,-421 447,-421\"/>\n",
       "<text text-anchor=\"start\" x=\"452\" y=\"-429.6\" font-family=\"-apple-system, BlinkMacSystemFont, 'Segoe UI', Helvetica, Arial, sans-serif, 'Apple Color Emoji', 'Segoe UI Emoji', 'Segoe UI Symbol'\" font-size=\"13.00\">SupervisoryOptionVolatility</text>\n",
       "<polygon fill=\"#f5f5f5\" stroke=\"transparent\" points=\"603,-421 603,-445 650,-445 650,-421 603,-421\"/>\n",
       "<text text-anchor=\"start\" x=\"608\" y=\"-430.6\" font-family=\"-apple-system, BlinkMacSystemFont, 'Segoe UI', Helvetica, Arial, sans-serif, 'Apple Color Emoji', 'Segoe UI Emoji', 'Segoe UI Symbol'\" font-style=\"italic\" font-size=\"13.00\">double</text>\n",
       "<polygon fill=\"#ffffff\" stroke=\"transparent\" points=\"416,-397 416,-421 447,-421 447,-397 416,-397\"/>\n",
       "<polygon fill=\"#ffffff\" stroke=\"transparent\" points=\"447,-397 447,-421 603,-421 603,-397 447,-397\"/>\n",
       "<text text-anchor=\"start\" x=\"452\" y=\"-405.6\" font-family=\"-apple-system, BlinkMacSystemFont, 'Segoe UI', Helvetica, Arial, sans-serif, 'Apple Color Emoji', 'Segoe UI Emoji', 'Segoe UI Symbol'\" font-size=\"13.00\">HS</text>\n",
       "<polygon fill=\"#ffffff\" stroke=\"transparent\" points=\"603,-397 603,-421 650,-421 650,-397 603,-397\"/>\n",
       "<text text-anchor=\"start\" x=\"612\" y=\"-406.6\" font-family=\"-apple-system, BlinkMacSystemFont, 'Segoe UI', Helvetica, Arial, sans-serif, 'Apple Color Emoji', 'Segoe UI Emoji', 'Segoe UI Symbol'\" font-style=\"italic\" font-size=\"13.00\">String</text>\n",
       "<polygon fill=\"none\" stroke=\"black\" points=\"415,-396 415,-566 651,-566 651,-396 415,-396\"/>\n",
       "</g>\n",
       "<!-- Trades&#45;&gt;Parameters -->\n",
       "<g id=\"edge3\" class=\"edge\">\n",
       "<title>Trades-&gt;Parameters</title>\n",
       "<path fill=\"none\" stroke=\"black\" d=\"M218.13,-362C272.72,-382.69 339.48,-408.01 397.37,-429.96\"/>\n",
       "<polygon fill=\"black\" stroke=\"black\" points=\"396.36,-433.32 406.95,-433.59 398.84,-426.77 396.36,-433.32\"/>\n",
       "<text text-anchor=\"middle\" x=\"312.5\" y=\"-441.6\" font-family=\"-apple-system, BlinkMacSystemFont, 'Segoe UI', Helvetica, Arial, sans-serif, 'Apple Color Emoji', 'Segoe UI Emoji', 'Segoe UI Symbol'\" font-size=\"13.00\">AssetClass → AssetClass</text>\n",
       "<text text-anchor=\"middle\" x=\"312.5\" y=\"-427.6\" font-family=\"-apple-system, BlinkMacSystemFont, 'Segoe UI', Helvetica, Arial, sans-serif, 'Apple Color Emoji', 'Segoe UI Emoji', 'Segoe UI Symbol'\" font-size=\"13.00\">SubClass → SubClass</text>\n",
       "</g>\n",
       "<!-- BookStructure -->\n",
       "<g id=\"node3\" class=\"node\">\n",
       "<title>BookStructure</title>\n",
       "<text text-anchor=\"start\" x=\"489.5\" y=\"-354.6\" font-family=\"-apple-system, BlinkMacSystemFont, 'Segoe UI', Helvetica, Arial, sans-serif, 'Apple Color Emoji', 'Segoe UI Emoji', 'Segoe UI Symbol'\" font-weight=\"bold\" font-size=\"13.00\">BookStructure</text>\n",
       "<polygon fill=\"#f5f5f5\" stroke=\"transparent\" points=\"444,-321 444,-345 475,-345 475,-321 444,-321\"/>\n",
       "<text text-anchor=\"start\" x=\"449\" y=\"-330.6\" font-family=\"-apple-system, BlinkMacSystemFont, 'Segoe UI', Helvetica, Arial, sans-serif, 'Apple Color Emoji', 'Segoe UI Emoji', 'Segoe UI Symbol'\" font-weight=\"bold\" font-size=\"13.00\">key</text>\n",
       "<polygon fill=\"#f5f5f5\" stroke=\"transparent\" points=\"475,-321 475,-345 556,-345 556,-321 475,-321\"/>\n",
       "<text text-anchor=\"start\" x=\"480\" y=\"-329.6\" font-family=\"-apple-system, BlinkMacSystemFont, 'Segoe UI', Helvetica, Arial, sans-serif, 'Apple Color Emoji', 'Segoe UI Emoji', 'Segoe UI Symbol'\" font-size=\"13.00\">AsOfDate</text>\n",
       "<polygon fill=\"#f5f5f5\" stroke=\"transparent\" points=\"556,-321 556,-345 623,-345 623,-321 556,-321\"/>\n",
       "<text text-anchor=\"start\" x=\"561\" y=\"-330.6\" font-family=\"-apple-system, BlinkMacSystemFont, 'Segoe UI', Helvetica, Arial, sans-serif, 'Apple Color Emoji', 'Segoe UI Emoji', 'Segoe UI Symbol'\" font-style=\"italic\" font-size=\"13.00\">LocalDate</text>\n",
       "<polygon fill=\"#ffffff\" stroke=\"transparent\" points=\"444,-297 444,-321 475,-321 475,-297 444,-297\"/>\n",
       "<text text-anchor=\"start\" x=\"449\" y=\"-306.6\" font-family=\"-apple-system, BlinkMacSystemFont, 'Segoe UI', Helvetica, Arial, sans-serif, 'Apple Color Emoji', 'Segoe UI Emoji', 'Segoe UI Symbol'\" font-weight=\"bold\" font-size=\"13.00\">key</text>\n",
       "<polygon fill=\"#ffffff\" stroke=\"transparent\" points=\"475,-297 475,-321 556,-321 556,-297 475,-297\"/>\n",
       "<text text-anchor=\"start\" x=\"480\" y=\"-305.6\" font-family=\"-apple-system, BlinkMacSystemFont, 'Segoe UI', Helvetica, Arial, sans-serif, 'Apple Color Emoji', 'Segoe UI Emoji', 'Segoe UI Symbol'\" font-size=\"13.00\">BookId</text>\n",
       "<polygon fill=\"#ffffff\" stroke=\"transparent\" points=\"556,-297 556,-321 623,-321 623,-297 556,-297\"/>\n",
       "<text text-anchor=\"start\" x=\"585\" y=\"-306.6\" font-family=\"-apple-system, BlinkMacSystemFont, 'Segoe UI', Helvetica, Arial, sans-serif, 'Apple Color Emoji', 'Segoe UI Emoji', 'Segoe UI Symbol'\" font-style=\"italic\" font-size=\"13.00\">String</text>\n",
       "<polygon fill=\"#f5f5f5\" stroke=\"transparent\" points=\"444,-273 444,-297 475,-297 475,-273 444,-273\"/>\n",
       "<polygon fill=\"#f5f5f5\" stroke=\"transparent\" points=\"475,-273 475,-297 556,-297 556,-273 475,-273\"/>\n",
       "<text text-anchor=\"start\" x=\"480\" y=\"-281.6\" font-family=\"-apple-system, BlinkMacSystemFont, 'Segoe UI', Helvetica, Arial, sans-serif, 'Apple Color Emoji', 'Segoe UI Emoji', 'Segoe UI Symbol'\" font-size=\"13.00\">BusinessUnit</text>\n",
       "<polygon fill=\"#f5f5f5\" stroke=\"transparent\" points=\"556,-273 556,-297 623,-297 623,-273 556,-273\"/>\n",
       "<text text-anchor=\"start\" x=\"585\" y=\"-282.6\" font-family=\"-apple-system, BlinkMacSystemFont, 'Segoe UI', Helvetica, Arial, sans-serif, 'Apple Color Emoji', 'Segoe UI Emoji', 'Segoe UI Symbol'\" font-style=\"italic\" font-size=\"13.00\">String</text>\n",
       "<polygon fill=\"none\" stroke=\"black\" points=\"442.5,-272 442.5,-370 623.5,-370 623.5,-272 442.5,-272\"/>\n",
       "</g>\n",
       "<!-- Trades&#45;&gt;BookStructure -->\n",
       "<g id=\"edge2\" class=\"edge\">\n",
       "<title>Trades-&gt;BookStructure</title>\n",
       "<path fill=\"none\" stroke=\"black\" d=\"M218.13,-321C281.28,-321 360.71,-321 423.86,-321\"/>\n",
       "<polygon fill=\"black\" stroke=\"black\" points=\"424.25,-324.5 434.25,-321 424.25,-317.5 424.25,-324.5\"/>\n",
       "<text text-anchor=\"middle\" x=\"312.5\" y=\"-338.6\" font-family=\"-apple-system, BlinkMacSystemFont, 'Segoe UI', Helvetica, Arial, sans-serif, 'Apple Color Emoji', 'Segoe UI Emoji', 'Segoe UI Symbol'\" font-size=\"13.00\">BookId → BookId</text>\n",
       "<text text-anchor=\"middle\" x=\"312.5\" y=\"-324.6\" font-family=\"-apple-system, BlinkMacSystemFont, 'Segoe UI', Helvetica, Arial, sans-serif, 'Apple Color Emoji', 'Segoe UI Emoji', 'Segoe UI Symbol'\" font-size=\"13.00\">AsOfDate → AsOfDate</text>\n",
       "</g>\n",
       "<!-- NettingSets -->\n",
       "<g id=\"node4\" class=\"node\">\n",
       "<title>NettingSets</title>\n",
       "<text text-anchor=\"start\" x=\"498\" y=\"-230.6\" font-family=\"-apple-system, BlinkMacSystemFont, 'Segoe UI', Helvetica, Arial, sans-serif, 'Apple Color Emoji', 'Segoe UI Emoji', 'Segoe UI Symbol'\" font-weight=\"bold\" font-size=\"13.00\">NettingSets</text>\n",
       "<polygon fill=\"#f5f5f5\" stroke=\"transparent\" points=\"438,-197 438,-221 469,-221 469,-197 438,-197\"/>\n",
       "<text text-anchor=\"start\" x=\"443\" y=\"-206.6\" font-family=\"-apple-system, BlinkMacSystemFont, 'Segoe UI', Helvetica, Arial, sans-serif, 'Apple Color Emoji', 'Segoe UI Emoji', 'Segoe UI Symbol'\" font-weight=\"bold\" font-size=\"13.00\">key</text>\n",
       "<polygon fill=\"#f5f5f5\" stroke=\"transparent\" points=\"469,-197 469,-221 561,-221 561,-197 469,-197\"/>\n",
       "<text text-anchor=\"start\" x=\"474\" y=\"-205.6\" font-family=\"-apple-system, BlinkMacSystemFont, 'Segoe UI', Helvetica, Arial, sans-serif, 'Apple Color Emoji', 'Segoe UI Emoji', 'Segoe UI Symbol'\" font-size=\"13.00\">AsOfDate</text>\n",
       "<polygon fill=\"#f5f5f5\" stroke=\"transparent\" points=\"561,-197 561,-221 628,-221 628,-197 561,-197\"/>\n",
       "<text text-anchor=\"start\" x=\"566\" y=\"-206.6\" font-family=\"-apple-system, BlinkMacSystemFont, 'Segoe UI', Helvetica, Arial, sans-serif, 'Apple Color Emoji', 'Segoe UI Emoji', 'Segoe UI Symbol'\" font-style=\"italic\" font-size=\"13.00\">LocalDate</text>\n",
       "<polygon fill=\"#ffffff\" stroke=\"transparent\" points=\"438,-173 438,-197 469,-197 469,-173 438,-173\"/>\n",
       "<text text-anchor=\"start\" x=\"443\" y=\"-182.6\" font-family=\"-apple-system, BlinkMacSystemFont, 'Segoe UI', Helvetica, Arial, sans-serif, 'Apple Color Emoji', 'Segoe UI Emoji', 'Segoe UI Symbol'\" font-weight=\"bold\" font-size=\"13.00\">key</text>\n",
       "<polygon fill=\"#ffffff\" stroke=\"transparent\" points=\"469,-173 469,-197 561,-197 561,-173 469,-173\"/>\n",
       "<text text-anchor=\"start\" x=\"474\" y=\"-181.6\" font-family=\"-apple-system, BlinkMacSystemFont, 'Segoe UI', Helvetica, Arial, sans-serif, 'Apple Color Emoji', 'Segoe UI Emoji', 'Segoe UI Symbol'\" font-size=\"13.00\">NettingSetId</text>\n",
       "<polygon fill=\"#ffffff\" stroke=\"transparent\" points=\"561,-173 561,-197 628,-197 628,-173 561,-173\"/>\n",
       "<text text-anchor=\"start\" x=\"590\" y=\"-182.6\" font-family=\"-apple-system, BlinkMacSystemFont, 'Segoe UI', Helvetica, Arial, sans-serif, 'Apple Color Emoji', 'Segoe UI Emoji', 'Segoe UI Symbol'\" font-style=\"italic\" font-size=\"13.00\">String</text>\n",
       "<polygon fill=\"#f5f5f5\" stroke=\"transparent\" points=\"438,-149 438,-173 469,-173 469,-149 438,-149\"/>\n",
       "<polygon fill=\"#f5f5f5\" stroke=\"transparent\" points=\"469,-149 469,-173 561,-173 561,-149 469,-149\"/>\n",
       "<text text-anchor=\"start\" x=\"474\" y=\"-157.6\" font-family=\"-apple-system, BlinkMacSystemFont, 'Segoe UI', Helvetica, Arial, sans-serif, 'Apple Color Emoji', 'Segoe UI Emoji', 'Segoe UI Symbol'\" font-size=\"13.00\">CounterpartyId</text>\n",
       "<polygon fill=\"#f5f5f5\" stroke=\"transparent\" points=\"561,-149 561,-173 628,-173 628,-149 561,-149\"/>\n",
       "<text text-anchor=\"start\" x=\"590\" y=\"-158.6\" font-family=\"-apple-system, BlinkMacSystemFont, 'Segoe UI', Helvetica, Arial, sans-serif, 'Apple Color Emoji', 'Segoe UI Emoji', 'Segoe UI Symbol'\" font-style=\"italic\" font-size=\"13.00\">String</text>\n",
       "<polygon fill=\"#ffffff\" stroke=\"transparent\" points=\"438,-125 438,-149 469,-149 469,-125 438,-125\"/>\n",
       "<polygon fill=\"#ffffff\" stroke=\"transparent\" points=\"469,-125 469,-149 561,-149 561,-125 469,-125\"/>\n",
       "<text text-anchor=\"start\" x=\"474\" y=\"-133.6\" font-family=\"-apple-system, BlinkMacSystemFont, 'Segoe UI', Helvetica, Arial, sans-serif, 'Apple Color Emoji', 'Segoe UI Emoji', 'Segoe UI Symbol'\" font-size=\"13.00\">MPOR</text>\n",
       "<polygon fill=\"#ffffff\" stroke=\"transparent\" points=\"561,-125 561,-149 628,-149 628,-125 561,-125\"/>\n",
       "<text text-anchor=\"start\" x=\"586\" y=\"-134.6\" font-family=\"-apple-system, BlinkMacSystemFont, 'Segoe UI', Helvetica, Arial, sans-serif, 'Apple Color Emoji', 'Segoe UI Emoji', 'Segoe UI Symbol'\" font-style=\"italic\" font-size=\"13.00\">double</text>\n",
       "<polygon fill=\"#f5f5f5\" stroke=\"transparent\" points=\"438,-101 438,-125 469,-125 469,-101 438,-101\"/>\n",
       "<polygon fill=\"#f5f5f5\" stroke=\"transparent\" points=\"469,-101 469,-125 561,-125 561,-101 469,-101\"/>\n",
       "<text text-anchor=\"start\" x=\"474\" y=\"-109.6\" font-family=\"-apple-system, BlinkMacSystemFont, 'Segoe UI', Helvetica, Arial, sans-serif, 'Apple Color Emoji', 'Segoe UI Emoji', 'Segoe UI Symbol'\" font-size=\"13.00\">Collateral</text>\n",
       "<polygon fill=\"#f5f5f5\" stroke=\"transparent\" points=\"561,-101 561,-125 628,-125 628,-101 561,-101\"/>\n",
       "<text text-anchor=\"start\" x=\"586\" y=\"-110.6\" font-family=\"-apple-system, BlinkMacSystemFont, 'Segoe UI', Helvetica, Arial, sans-serif, 'Apple Color Emoji', 'Segoe UI Emoji', 'Segoe UI Symbol'\" font-style=\"italic\" font-size=\"13.00\">double</text>\n",
       "<polygon fill=\"#ffffff\" stroke=\"transparent\" points=\"438,-77 438,-101 469,-101 469,-77 438,-77\"/>\n",
       "<polygon fill=\"#ffffff\" stroke=\"transparent\" points=\"469,-77 469,-101 561,-101 561,-77 469,-77\"/>\n",
       "<text text-anchor=\"start\" x=\"474\" y=\"-85.6\" font-family=\"-apple-system, BlinkMacSystemFont, 'Segoe UI', Helvetica, Arial, sans-serif, 'Apple Color Emoji', 'Segoe UI Emoji', 'Segoe UI Symbol'\" font-size=\"13.00\">NICA</text>\n",
       "<polygon fill=\"#ffffff\" stroke=\"transparent\" points=\"561,-77 561,-101 628,-101 628,-77 561,-77\"/>\n",
       "<text text-anchor=\"start\" x=\"586\" y=\"-86.6\" font-family=\"-apple-system, BlinkMacSystemFont, 'Segoe UI', Helvetica, Arial, sans-serif, 'Apple Color Emoji', 'Segoe UI Emoji', 'Segoe UI Symbol'\" font-style=\"italic\" font-size=\"13.00\">double</text>\n",
       "<polygon fill=\"#f5f5f5\" stroke=\"transparent\" points=\"438,-53 438,-77 469,-77 469,-53 438,-53\"/>\n",
       "<polygon fill=\"#f5f5f5\" stroke=\"transparent\" points=\"469,-53 469,-77 561,-77 561,-53 469,-53\"/>\n",
       "<text text-anchor=\"start\" x=\"474\" y=\"-61.6\" font-family=\"-apple-system, BlinkMacSystemFont, 'Segoe UI', Helvetica, Arial, sans-serif, 'Apple Color Emoji', 'Segoe UI Emoji', 'Segoe UI Symbol'\" font-size=\"13.00\">TH</text>\n",
       "<polygon fill=\"#f5f5f5\" stroke=\"transparent\" points=\"561,-53 561,-77 628,-77 628,-53 561,-53\"/>\n",
       "<text text-anchor=\"start\" x=\"586\" y=\"-62.6\" font-family=\"-apple-system, BlinkMacSystemFont, 'Segoe UI', Helvetica, Arial, sans-serif, 'Apple Color Emoji', 'Segoe UI Emoji', 'Segoe UI Symbol'\" font-style=\"italic\" font-size=\"13.00\">double</text>\n",
       "<polygon fill=\"#ffffff\" stroke=\"transparent\" points=\"438,-29 438,-53 469,-53 469,-29 438,-29\"/>\n",
       "<polygon fill=\"#ffffff\" stroke=\"transparent\" points=\"469,-29 469,-53 561,-53 561,-29 469,-29\"/>\n",
       "<text text-anchor=\"start\" x=\"474\" y=\"-37.6\" font-family=\"-apple-system, BlinkMacSystemFont, 'Segoe UI', Helvetica, Arial, sans-serif, 'Apple Color Emoji', 'Segoe UI Emoji', 'Segoe UI Symbol'\" font-size=\"13.00\">MTA</text>\n",
       "<polygon fill=\"#ffffff\" stroke=\"transparent\" points=\"561,-29 561,-53 628,-53 628,-29 561,-29\"/>\n",
       "<text text-anchor=\"start\" x=\"586\" y=\"-38.6\" font-family=\"-apple-system, BlinkMacSystemFont, 'Segoe UI', Helvetica, Arial, sans-serif, 'Apple Color Emoji', 'Segoe UI Emoji', 'Segoe UI Symbol'\" font-style=\"italic\" font-size=\"13.00\">double</text>\n",
       "<polygon fill=\"#f5f5f5\" stroke=\"transparent\" points=\"438,-5 438,-29 469,-29 469,-5 438,-5\"/>\n",
       "<polygon fill=\"#f5f5f5\" stroke=\"transparent\" points=\"469,-5 469,-29 561,-29 561,-5 469,-5\"/>\n",
       "<text text-anchor=\"start\" x=\"474\" y=\"-13.6\" font-family=\"-apple-system, BlinkMacSystemFont, 'Segoe UI', Helvetica, Arial, sans-serif, 'Apple Color Emoji', 'Segoe UI Emoji', 'Segoe UI Symbol'\" font-size=\"13.00\">isMargined</text>\n",
       "<polygon fill=\"#f5f5f5\" stroke=\"transparent\" points=\"561,-5 561,-29 628,-29 628,-5 561,-5\"/>\n",
       "<text text-anchor=\"start\" x=\"590\" y=\"-14.6\" font-family=\"-apple-system, BlinkMacSystemFont, 'Segoe UI', Helvetica, Arial, sans-serif, 'Apple Color Emoji', 'Segoe UI Emoji', 'Segoe UI Symbol'\" font-style=\"italic\" font-size=\"13.00\">String</text>\n",
       "<polygon fill=\"none\" stroke=\"black\" points=\"437,-4 437,-246 629,-246 629,-4 437,-4\"/>\n",
       "</g>\n",
       "<!-- Trades&#45;&gt;NettingSets -->\n",
       "<g id=\"edge1\" class=\"edge\">\n",
       "<title>Trades-&gt;NettingSets</title>\n",
       "<path fill=\"none\" stroke=\"black\" d=\"M218.13,-270.78C279.92,-242.08 357.31,-206.14 419.78,-177.12\"/>\n",
       "<polygon fill=\"black\" stroke=\"black\" points=\"421.29,-180.28 428.88,-172.89 418.34,-173.93 421.29,-180.28\"/>\n",
       "<text text-anchor=\"middle\" x=\"312.5\" y=\"-274.6\" font-family=\"-apple-system, BlinkMacSystemFont, 'Segoe UI', Helvetica, Arial, sans-serif, 'Apple Color Emoji', 'Segoe UI Emoji', 'Segoe UI Symbol'\" font-size=\"13.00\">NettingSetId → NettingSetId</text>\n",
       "<text text-anchor=\"middle\" x=\"312.5\" y=\"-260.6\" font-family=\"-apple-system, BlinkMacSystemFont, 'Segoe UI', Helvetica, Arial, sans-serif, 'Apple Color Emoji', 'Segoe UI Emoji', 'Segoe UI Symbol'\" font-size=\"13.00\">AsOfDate → AsOfDate</text>\n",
       "</g>\n",
       "</g>\n",
       "</svg>"
      ],
      "text/plain": [
       "<IPython.core.display.SVG object>"
      ]
     },
     "execution_count": 64,
     "metadata": {},
     "output_type": "execute_result"
    }
   ],
   "source": [
    "cube.schema"
   ]
  },
  {
   "cell_type": "markdown",
   "metadata": {},
   "source": [
    "Breaking down EAD by organizational structure, for example by book we'll obtain standalone calculation for each book. Since the EAD aggregation is not linear, sum of elements is not equal to the calculation across Books. Continue reading to learn how to create measures for contribution analysis."
   ]
  },
  {
   "cell_type": "code",
   "execution_count": 65,
   "metadata": {},
   "outputs": [
    {
     "data": {
      "text/plain": [
       "3190859675.5486293"
      ]
     },
     "execution_count": 65,
     "metadata": {},
     "output_type": "execute_result"
    }
   ],
   "source": [
    "sum(cube.query(m[\"EAD\"], levels=[l[\"BookId\"]])[\"EAD\"])"
   ]
  },
  {
   "cell_type": "code",
   "execution_count": 66,
   "metadata": {},
   "outputs": [
    {
     "data": {
      "application/vnd.atoti.convert-query-result-to-widget.v0+json": {
       "mdx": "SELECT {[Measures].[EAD]} ON COLUMNS FROM [SA-CCR]",
       "sessionId": "1648810275_0IFKN9",
       "widgetCreationCode": "session.visualize()"
      },
      "text/html": [
       "<div>\n",
       "<style scoped>\n",
       "    .dataframe tbody tr th:only-of-type {\n",
       "        vertical-align: middle;\n",
       "    }\n",
       "\n",
       "    .dataframe tbody tr th {\n",
       "        vertical-align: top;\n",
       "    }\n",
       "\n",
       "    .dataframe thead th {\n",
       "        text-align: right;\n",
       "    }\n",
       "</style>\n",
       "<table border=\"1\" class=\"dataframe\">\n",
       "  <thead>\n",
       "    <tr style=\"text-align: right;\">\n",
       "      <th></th>\n",
       "      <th>EAD</th>\n",
       "    </tr>\n",
       "  </thead>\n",
       "  <tbody>\n",
       "    <tr>\n",
       "      <th>0</th>\n",
       "      <td>2,352,743,030</td>\n",
       "    </tr>\n",
       "  </tbody>\n",
       "</table>\n",
       "</div>"
      ],
      "text/plain": [
       "             EAD\n",
       "0  2,352,743,030"
      ]
     },
     "execution_count": 66,
     "metadata": {},
     "output_type": "execute_result"
    }
   ],
   "source": [
    "cube.query(m[\"EAD\"])"
   ]
  },
  {
   "cell_type": "markdown",
   "metadata": {},
   "source": [
    "# Pro-rata allocation"
   ]
  },
  {
   "cell_type": "markdown",
   "metadata": {},
   "source": [
    "In the previous section we saw that breaking EAD down by book will result in \"standalone\" calculations, and since EAD is a non-linear measure, sum of EAD by book is not equal to the EAD calculated for the global portfolio. We may want to implement an allocation methodology for EAD. There multiple methodologies you could choose for evaluating the contribution, let's use \"pro-rata\" allocation as an illustrative example.\n",
    "\n",
    "The measure \"EAD Pro-Rata\" will display the contribution of a business unit into EAD for the global portfolio based on the proportion of EAD for that unit and sum of EADs for all units."
   ]
  },
  {
   "cell_type": "code",
   "execution_count": 67,
   "metadata": {},
   "outputs": [],
   "source": [
    "# For each Book, the weight is a ratio of EAD and EAD across books.\n",
    "m[\"EAD_sum_by_book\"] = tt.agg.sum(m[\"EAD\"], scope=tt.scope.siblings(h[\"BookId\"]))\n",
    "m[\"Book_weight\"] = m[\"EAD\"] / m[\"EAD_sum_by_book\"]\n",
    "m[\"EAD_across_books\"] = tt.parent_value(\n",
    "    m[\"EAD\"],\n",
    "    degrees={h[\"BookId\"]: 1},\n",
    "    total_value=m[\"EAD\"],\n",
    "    apply_filters=True,\n",
    ")\n",
    "\n",
    "m[\"EAD Pro-Rata\"] = m[\"Book_weight\"] * m[\"EAD_across_books\"]"
   ]
  },
  {
   "cell_type": "code",
   "execution_count": 68,
   "metadata": {},
   "outputs": [
    {
     "data": {
      "application/vnd.atoti.link.v0+json": {
       "path": "",
       "sessionLocation": {
        "https": null,
        "port": 51281
       }
      },
      "text/plain": [
       "Open the notebook in JupyterLab with the atoti extension enabled to see this link."
      ]
     },
     "execution_count": 68,
     "metadata": {},
     "output_type": "execute_result"
    }
   ],
   "source": [
    "session.link()"
   ]
  },
  {
   "cell_type": "markdown",
   "metadata": {},
   "source": [
    "# Simulations"
   ]
  },
  {
   "cell_type": "markdown",
   "metadata": {},
   "source": [
    "atoti provides a powerful simulation framework. \n",
    "\n",
    "Below we will explore a few examples of uploading alternative data into our app to instantly see the impact on the capital charge metrics."
   ]
  },
  {
   "cell_type": "markdown",
   "metadata": {},
   "source": [
    "### Simulation on supervisory parameters  \n",
    "\n",
    "As a reminder, the Supervisory Option Volatility is a parameter in the Delta Adjustment calculation. Let's bring up the values using cube.query:"
   ]
  },
  {
   "cell_type": "code",
   "execution_count": 69,
   "metadata": {},
   "outputs": [
    {
     "data": {
      "application/vnd.atoti.convert-query-result-to-widget.v0+json": {
       "mdx": "SELECT {[Measures].[SupervisoryOptionVolatility.VALUE]} ON COLUMNS, NON EMPTY Crossjoin([Trades].[AssetClass].[AssetClass].Members, [Trades].[SubClass].[SubClass].Members) ON ROWS FROM [SA-CCR]",
       "sessionId": "1648810275_0IFKN9",
       "widgetCreationCode": "session.visualize()"
      },
      "text/html": [
       "<div>\n",
       "<style scoped>\n",
       "    .dataframe tbody tr th:only-of-type {\n",
       "        vertical-align: middle;\n",
       "    }\n",
       "\n",
       "    .dataframe tbody tr th {\n",
       "        vertical-align: top;\n",
       "    }\n",
       "\n",
       "    .dataframe thead th {\n",
       "        text-align: right;\n",
       "    }\n",
       "</style>\n",
       "<table border=\"1\" class=\"dataframe\">\n",
       "  <thead>\n",
       "    <tr style=\"text-align: right;\">\n",
       "      <th></th>\n",
       "      <th>SupervisoryOptionVolatility.VALUE</th>\n",
       "    </tr>\n",
       "  </thead>\n",
       "  <tbody>\n",
       "  </tbody>\n",
       "</table>\n",
       "</div>"
      ],
      "text/plain": [
       "Empty DataFrame\n",
       "Columns: [SupervisoryOptionVolatility.VALUE]\n",
       "Index: []"
      ]
     },
     "execution_count": 69,
     "metadata": {},
     "output_type": "execute_result"
    }
   ],
   "source": [
    "cube.query(\n",
    "    m[\"SupervisoryOptionVolatility.VALUE\"], levels=[l[\"AssetClass\"], l[\"SubClass\"]]\n",
    ")"
   ]
  },
  {
   "cell_type": "markdown",
   "metadata": {},
   "source": [
    "\"[Parameter simulations](https://docs.atoti.io/latest/tutorial/tutorial.html#Parameter-simulations)\" feature in atoti allow us to configure a simulated measure, `Supervisory_Option_Volatility_Simulation`.  "
   ]
  },
  {
   "cell_type": "code",
   "execution_count": 70,
   "metadata": {},
   "outputs": [],
   "source": [
    "recalibration = cube.create_parameter_simulation(\n",
    "    \"Option Volatility What-If\",\n",
    "    measures={\"Supervisory_Option_Volatility_Simulation\": None},\n",
    "    levels=[l[\"AssetClass\"], l[\"SubClass\"]],\n",
    ")"
   ]
  },
  {
   "cell_type": "markdown",
   "metadata": {},
   "source": [
    "To make use of the simulated measure, we create the following measure that takes the value of `Supervisory_Option_Volatility_Simulation` if it is provided. Otherwise, it takes the volatility values in the original dataset."
   ]
  },
  {
   "cell_type": "code",
   "execution_count": 71,
   "metadata": {},
   "outputs": [],
   "source": [
    "m[\"Supervisory_Option_Volatility\"] = tt.agg.sum(\n",
    "    tt.where(\n",
    "        m[\"Supervisory_Option_Volatility_Simulation\"] != None,\n",
    "        m[\"Supervisory_Option_Volatility_Simulation\"],\n",
    "        m[\"SupervisoryOptionVolatility.VALUE\"],\n",
    "    ),\n",
    "    scope=tt.scope.origin(l[\"AssetClass\"], l[\"SubClass\"]),\n",
    ")"
   ]
  },
  {
   "cell_type": "markdown",
   "metadata": {},
   "source": [
    "We are going to update the definition of the measure `d` to use the new simulated `Supervisory_Option_Volatility` instead. This change will automatically be cascaded to the measures that uses `d` in their computation."
   ]
  },
  {
   "cell_type": "code",
   "execution_count": 72,
   "metadata": {},
   "outputs": [],
   "source": [
    "# We'll wrap the argument of the CDF function into a measure:\n",
    "m[\"d\"] = (\n",
    "    tt.math.log(m[\"Underlying Price\"] / m[\"Strike Price\"])\n",
    "    + 0.5 * (m[\"Supervisory_Option_Volatility\"] ** 2) * m[\"Ti\"]\n",
    ") / (m[\"Supervisory_Option_Volatility\"] * tt.math.sqrt(m[\"Ti\"]))"
   ]
  },
  {
   "cell_type": "markdown",
   "metadata": {},
   "source": [
    "__Note:__ We could planned in advance and create the parameter simulation for \"Option Volatility What-If\" before we first defined the measure `d`. This would prevent the need to update `d` definition. However, the current setup in the notebook is meant to demonstrate the difference with and without the parameter simulation."
   ]
  },
  {
   "cell_type": "markdown",
   "metadata": {},
   "source": [
    "Having setup the simulation, we apply the changes we want in our experiment.  \n",
    "\n",
    "The first input parameter is the name of the scenario, followed by the affected members of the specified levels and finally the new value of `Supervisory_Option_Volatility_Simulation`."
   ]
  },
  {
   "cell_type": "code",
   "execution_count": 73,
   "metadata": {},
   "outputs": [],
   "source": [
    "recalibration += (\"Volatility Recalibration\", \"IR\", \"No SubClass\", 0.1)"
   ]
  },
  {
   "cell_type": "code",
   "execution_count": 74,
   "metadata": {},
   "outputs": [
    {
     "data": {
      "text/html": [
       "<div>\n",
       "<style scoped>\n",
       "    .dataframe tbody tr th:only-of-type {\n",
       "        vertical-align: middle;\n",
       "    }\n",
       "\n",
       "    .dataframe tbody tr th {\n",
       "        vertical-align: top;\n",
       "    }\n",
       "\n",
       "    .dataframe thead th {\n",
       "        text-align: right;\n",
       "    }\n",
       "</style>\n",
       "<table border=\"1\" class=\"dataframe\">\n",
       "  <thead>\n",
       "    <tr style=\"text-align: right;\">\n",
       "      <th></th>\n",
       "      <th></th>\n",
       "      <th></th>\n",
       "      <th>Supervisory_Option_Volatility_Simulation</th>\n",
       "    </tr>\n",
       "    <tr>\n",
       "      <th>SubClass</th>\n",
       "      <th>AssetClass</th>\n",
       "      <th>Scenario</th>\n",
       "      <th></th>\n",
       "    </tr>\n",
       "  </thead>\n",
       "  <tbody>\n",
       "    <tr>\n",
       "      <th>No SubClass</th>\n",
       "      <th>IR</th>\n",
       "      <th>Volatility Recalibration</th>\n",
       "      <td>0.10</td>\n",
       "    </tr>\n",
       "  </tbody>\n",
       "</table>\n",
       "</div>"
      ],
      "text/plain": [
       "                                                 Supervisory_Option_Volatility_Simulation\n",
       "SubClass    AssetClass Scenario                                                          \n",
       "No SubClass IR         Volatility Recalibration                                      0.10"
      ]
     },
     "execution_count": 74,
     "metadata": {},
     "output_type": "execute_result"
    }
   ],
   "source": [
    "recalibration.head()"
   ]
  },
  {
   "cell_type": "markdown",
   "metadata": {},
   "source": [
    "The below query shows the value that is used for `Supervisory_Option_Volatility` to compute the measure `d`."
   ]
  },
  {
   "cell_type": "code",
   "execution_count": 75,
   "metadata": {},
   "outputs": [
    {
     "data": {
      "application/vnd.atoti.convert-query-result-to-widget.v0+json": {
       "mdx": "SELECT {[Measures].[SupervisoryOptionVolatility.VALUE], [Measures].[Supervisory_Option_Volatility_Simulation], [Measures].[Supervisory_Option_Volatility]} ON COLUMNS, NON EMPTY Crossjoin([Trades].[TradeId].[TradeId].Members, [Trades].[AssetClass].[AssetClass].Members, [Trades].[SubClass].[SubClass].Members, [Option Volatility What-If].[Option Volatility What-If].[Option Volatility What-If].Members) ON ROWS FROM (SELECT [Trades].[AssetClass].[AllMember].[IR] ON COLUMNS FROM [SA-CCR])",
       "sessionId": "1648810275_0IFKN9",
       "widgetCreationCode": "session.visualize()"
      },
      "text/html": [
       "<div>\n",
       "<style scoped>\n",
       "    .dataframe tbody tr th:only-of-type {\n",
       "        vertical-align: middle;\n",
       "    }\n",
       "\n",
       "    .dataframe tbody tr th {\n",
       "        vertical-align: top;\n",
       "    }\n",
       "\n",
       "    .dataframe thead th {\n",
       "        text-align: right;\n",
       "    }\n",
       "</style>\n",
       "<table border=\"1\" class=\"dataframe\">\n",
       "  <thead>\n",
       "    <tr style=\"text-align: right;\">\n",
       "      <th></th>\n",
       "      <th></th>\n",
       "      <th></th>\n",
       "      <th></th>\n",
       "      <th>SupervisoryOptionVolatility.VALUE</th>\n",
       "      <th>Supervisory_Option_Volatility_Simulation</th>\n",
       "      <th>Supervisory_Option_Volatility</th>\n",
       "    </tr>\n",
       "    <tr>\n",
       "      <th>TradeId</th>\n",
       "      <th>AssetClass</th>\n",
       "      <th>SubClass</th>\n",
       "      <th>Option Volatility What-If</th>\n",
       "      <th></th>\n",
       "      <th></th>\n",
       "      <th></th>\n",
       "    </tr>\n",
       "  </thead>\n",
       "  <tbody>\n",
       "    <tr>\n",
       "      <th rowspan=\"2\" valign=\"top\">t11</th>\n",
       "      <th rowspan=\"2\" valign=\"top\">IR</th>\n",
       "      <th rowspan=\"2\" valign=\"top\">No SubClass</th>\n",
       "      <th>Base</th>\n",
       "      <td>.50</td>\n",
       "      <td></td>\n",
       "      <td>.50</td>\n",
       "    </tr>\n",
       "    <tr>\n",
       "      <th>Volatility Recalibration</th>\n",
       "      <td>.50</td>\n",
       "      <td>.10</td>\n",
       "      <td>.10</td>\n",
       "    </tr>\n",
       "    <tr>\n",
       "      <th rowspan=\"2\" valign=\"top\">t111</th>\n",
       "      <th rowspan=\"2\" valign=\"top\">IR</th>\n",
       "      <th rowspan=\"2\" valign=\"top\">No SubClass</th>\n",
       "      <th>Base</th>\n",
       "      <td>.50</td>\n",
       "      <td></td>\n",
       "      <td>.50</td>\n",
       "    </tr>\n",
       "    <tr>\n",
       "      <th>Volatility Recalibration</th>\n",
       "      <td>.50</td>\n",
       "      <td>.10</td>\n",
       "      <td>.10</td>\n",
       "    </tr>\n",
       "    <tr>\n",
       "      <th>t113</th>\n",
       "      <th>IR</th>\n",
       "      <th>No SubClass</th>\n",
       "      <th>Base</th>\n",
       "      <td>.50</td>\n",
       "      <td></td>\n",
       "      <td>.50</td>\n",
       "    </tr>\n",
       "    <tr>\n",
       "      <th>...</th>\n",
       "      <th>...</th>\n",
       "      <th>...</th>\n",
       "      <th>...</th>\n",
       "      <td>...</td>\n",
       "      <td>...</td>\n",
       "      <td>...</td>\n",
       "    </tr>\n",
       "    <tr>\n",
       "      <th>t88</th>\n",
       "      <th>IR</th>\n",
       "      <th>No SubClass</th>\n",
       "      <th>Volatility Recalibration</th>\n",
       "      <td>.50</td>\n",
       "      <td>.10</td>\n",
       "      <td>.10</td>\n",
       "    </tr>\n",
       "    <tr>\n",
       "      <th rowspan=\"2\" valign=\"top\">t91</th>\n",
       "      <th rowspan=\"2\" valign=\"top\">IR</th>\n",
       "      <th rowspan=\"2\" valign=\"top\">No SubClass</th>\n",
       "      <th>Base</th>\n",
       "      <td>.50</td>\n",
       "      <td></td>\n",
       "      <td>.50</td>\n",
       "    </tr>\n",
       "    <tr>\n",
       "      <th>Volatility Recalibration</th>\n",
       "      <td>.50</td>\n",
       "      <td>.10</td>\n",
       "      <td>.10</td>\n",
       "    </tr>\n",
       "    <tr>\n",
       "      <th rowspan=\"2\" valign=\"top\">t93</th>\n",
       "      <th rowspan=\"2\" valign=\"top\">IR</th>\n",
       "      <th rowspan=\"2\" valign=\"top\">No SubClass</th>\n",
       "      <th>Base</th>\n",
       "      <td>.50</td>\n",
       "      <td></td>\n",
       "      <td>.50</td>\n",
       "    </tr>\n",
       "    <tr>\n",
       "      <th>Volatility Recalibration</th>\n",
       "      <td>.50</td>\n",
       "      <td>.10</td>\n",
       "      <td>.10</td>\n",
       "    </tr>\n",
       "  </tbody>\n",
       "</table>\n",
       "<p>198 rows × 3 columns</p>\n",
       "</div>"
      ],
      "text/plain": [
       "                                                         SupervisoryOptionVolatility.VALUE  \\\n",
       "TradeId AssetClass SubClass    Option Volatility What-If                                     \n",
       "t11     IR         No SubClass Base                                                    .50   \n",
       "                               Volatility Recalibration                                .50   \n",
       "t111    IR         No SubClass Base                                                    .50   \n",
       "                               Volatility Recalibration                                .50   \n",
       "t113    IR         No SubClass Base                                                    .50   \n",
       "...                                                                                    ...   \n",
       "t88     IR         No SubClass Volatility Recalibration                                .50   \n",
       "t91     IR         No SubClass Base                                                    .50   \n",
       "                               Volatility Recalibration                                .50   \n",
       "t93     IR         No SubClass Base                                                    .50   \n",
       "                               Volatility Recalibration                                .50   \n",
       "\n",
       "                                                         Supervisory_Option_Volatility_Simulation  \\\n",
       "TradeId AssetClass SubClass    Option Volatility What-If                                            \n",
       "t11     IR         No SubClass Base                                                                 \n",
       "                               Volatility Recalibration                                       .10   \n",
       "t111    IR         No SubClass Base                                                                 \n",
       "                               Volatility Recalibration                                       .10   \n",
       "t113    IR         No SubClass Base                                                                 \n",
       "...                                                                                           ...   \n",
       "t88     IR         No SubClass Volatility Recalibration                                       .10   \n",
       "t91     IR         No SubClass Base                                                                 \n",
       "                               Volatility Recalibration                                       .10   \n",
       "t93     IR         No SubClass Base                                                                 \n",
       "                               Volatility Recalibration                                       .10   \n",
       "\n",
       "                                                         Supervisory_Option_Volatility  \n",
       "TradeId AssetClass SubClass    Option Volatility What-If                                \n",
       "t11     IR         No SubClass Base                                                .50  \n",
       "                               Volatility Recalibration                            .10  \n",
       "t111    IR         No SubClass Base                                                .50  \n",
       "                               Volatility Recalibration                            .10  \n",
       "t113    IR         No SubClass Base                                                .50  \n",
       "...                                                                                ...  \n",
       "t88     IR         No SubClass Volatility Recalibration                            .10  \n",
       "t91     IR         No SubClass Base                                                .50  \n",
       "                               Volatility Recalibration                            .10  \n",
       "t93     IR         No SubClass Base                                                .50  \n",
       "                               Volatility Recalibration                            .10  \n",
       "\n",
       "[198 rows x 3 columns]"
      ]
     },
     "execution_count": 75,
     "metadata": {},
     "output_type": "execute_result"
    }
   ],
   "source": [
    "cube.query(\n",
    "    m[\"SupervisoryOptionVolatility.VALUE\"],\n",
    "    m[\"Supervisory_Option_Volatility_Simulation\"],\n",
    "    m[\"Supervisory_Option_Volatility\"],\n",
    "    levels=[\n",
    "        l[\"TradeId\"],\n",
    "        l[\"AssetClass\"],\n",
    "        l[\"SubClass\"],\n",
    "        l[\"Option Volatility What-If\"],\n",
    "    ],\n",
    "    condition=l[\"AssetClass\"] == \"IR\",\n",
    ")"
   ]
  },
  {
   "cell_type": "markdown",
   "metadata": {},
   "source": [
    "Below we see the dfference in the `EAD` and `AddOn_IR` values between the original base data and the simulated scenario `Volatility Recalibration`."
   ]
  },
  {
   "cell_type": "code",
   "execution_count": 76,
   "metadata": {},
   "outputs": [
    {
     "data": {
      "application/vnd.atoti.convert-query-result-to-widget.v0+json": {
       "mdx": "SELECT {[Measures].[EAD], [Measures].[AddOn_IR]} ON COLUMNS, NON EMPTY [Option Volatility What-If].[Option Volatility What-If].[Option Volatility What-If].Members ON ROWS FROM [SA-CCR]",
       "sessionId": "1648810275_0IFKN9",
       "widgetCreationCode": "session.visualize()"
      },
      "text/html": [
       "<div>\n",
       "<style scoped>\n",
       "    .dataframe tbody tr th:only-of-type {\n",
       "        vertical-align: middle;\n",
       "    }\n",
       "\n",
       "    .dataframe tbody tr th {\n",
       "        vertical-align: top;\n",
       "    }\n",
       "\n",
       "    .dataframe thead th {\n",
       "        text-align: right;\n",
       "    }\n",
       "</style>\n",
       "<table border=\"1\" class=\"dataframe\">\n",
       "  <thead>\n",
       "    <tr style=\"text-align: right;\">\n",
       "      <th></th>\n",
       "      <th>EAD</th>\n",
       "      <th>AddOn_IR</th>\n",
       "    </tr>\n",
       "    <tr>\n",
       "      <th>Option Volatility What-If</th>\n",
       "      <th></th>\n",
       "      <th></th>\n",
       "    </tr>\n",
       "  </thead>\n",
       "  <tbody>\n",
       "    <tr>\n",
       "      <th>Base</th>\n",
       "      <td>2,352,743,030</td>\n",
       "      <td>18,489,821</td>\n",
       "    </tr>\n",
       "    <tr>\n",
       "      <th>Volatility Recalibration</th>\n",
       "      <td>2,354,807,306</td>\n",
       "      <td>18,105,387</td>\n",
       "    </tr>\n",
       "  </tbody>\n",
       "</table>\n",
       "</div>"
      ],
      "text/plain": [
       "                                     EAD    AddOn_IR\n",
       "Option Volatility What-If                           \n",
       "Base                       2,352,743,030  18,489,821\n",
       "Volatility Recalibration   2,354,807,306  18,105,387"
      ]
     },
     "execution_count": 76,
     "metadata": {},
     "output_type": "execute_result"
    }
   ],
   "source": [
    "cube.query(m[\"EAD\"], m[\"AddOn_IR\"], levels=[l[\"Option Volatility What-If\"]])"
   ]
  },
  {
   "cell_type": "markdown",
   "metadata": {},
   "source": [
    "# Simulation on input data - trades and CSA simulations\n",
    "\n",
    "The \"source simulation\" in atoti allow uploading data and viewing the resulting change side-by-side with the base scenario. This is handy for \"pre-deal\", \"trade novation\" or \"aggrement changes\" types of simulations where you can use a csv file to add or update positions and netting sets.\n",
    "\n",
    "See, for instance, the parameters of the first netting set:"
   ]
  },
  {
   "cell_type": "markdown",
   "metadata": {},
   "source": [
    "Let's change the parameters of this agreement:"
   ]
  },
  {
   "cell_type": "code",
   "execution_count": 77,
   "metadata": {},
   "outputs": [
    {
     "data": {
      "text/html": [
       "<div>\n",
       "<style scoped>\n",
       "    .dataframe tbody tr th:only-of-type {\n",
       "        vertical-align: middle;\n",
       "    }\n",
       "\n",
       "    .dataframe tbody tr th {\n",
       "        vertical-align: top;\n",
       "    }\n",
       "\n",
       "    .dataframe thead th {\n",
       "        text-align: right;\n",
       "    }\n",
       "</style>\n",
       "<table border=\"1\" class=\"dataframe\">\n",
       "  <thead>\n",
       "    <tr style=\"text-align: right;\">\n",
       "      <th></th>\n",
       "      <th>AsOfDate</th>\n",
       "      <th>NettingSetId</th>\n",
       "      <th>CounterpartyId</th>\n",
       "      <th>MPOR</th>\n",
       "      <th>Collateral</th>\n",
       "      <th>NICA</th>\n",
       "      <th>TH</th>\n",
       "      <th>MTA</th>\n",
       "      <th>isMargined</th>\n",
       "    </tr>\n",
       "  </thead>\n",
       "  <tbody>\n",
       "    <tr>\n",
       "      <th>0</th>\n",
       "      <td>2020-01-13</td>\n",
       "      <td>EX1</td>\n",
       "      <td>cpt1</td>\n",
       "      <td>15.00</td>\n",
       "      <td>1,000,000.00</td>\n",
       "      <td>0</td>\n",
       "      <td>0</td>\n",
       "      <td>0</td>\n",
       "      <td>Y</td>\n",
       "    </tr>\n",
       "  </tbody>\n",
       "</table>\n",
       "</div>"
      ],
      "text/plain": [
       "     AsOfDate NettingSetId CounterpartyId  MPOR   Collateral  NICA  TH  MTA  \\\n",
       "0  2020-01-13          EX1           cpt1 15.00 1,000,000.00     0   0    0   \n",
       "\n",
       "  isMargined  \n",
       "0          Y  "
      ]
     },
     "execution_count": 77,
     "metadata": {},
     "output_type": "execute_result"
    }
   ],
   "source": [
    "from datetime import date\n",
    "\n",
    "agreement_update = pd.DataFrame.from_dict(\n",
    "    {\n",
    "        \"AsOfDate\": [date(2020, 1, 13)],\n",
    "        \"NettingSetId\": [\"EX1\"],\n",
    "        \"CounterpartyId\": [\"cpt1\"],\n",
    "        \"MPOR\": [15.0],\n",
    "        \"Collateral\": [1000000.0],\n",
    "        \"NICA\": [0],\n",
    "        \"TH\": [0],\n",
    "        \"MTA\": [0],\n",
    "        \"isMargined\": [\"Y\"],\n",
    "    }\n",
    ")\n",
    "agreement_update"
   ]
  },
  {
   "cell_type": "code",
   "execution_count": 78,
   "metadata": {},
   "outputs": [],
   "source": [
    "nettingSets_table.scenarios[\"Updating CSA parameters\"].load_pandas(agreement_update)"
   ]
  },
  {
   "cell_type": "code",
   "execution_count": 79,
   "metadata": {},
   "outputs": [
    {
     "data": {
      "application/vnd.atoti.link.v0+json": {
       "path": "#/dashboard/922",
       "sessionLocation": {
        "https": null,
        "port": 51281
       }
      },
      "text/plain": [
       "Open the notebook in JupyterLab with the atoti extension enabled to see this link."
      ]
     },
     "execution_count": 79,
     "metadata": {},
     "output_type": "execute_result"
    }
   ],
   "source": [
    "session.link(path=\"/#/dashboard/922\")"
   ]
  },
  {
   "cell_type": "markdown",
   "metadata": {},
   "source": [
    "# Adding more dates"
   ]
  },
  {
   "cell_type": "code",
   "execution_count": 80,
   "metadata": {},
   "outputs": [],
   "source": [
    "trades_table.load_csv(\"s3://data.atoti.io/notebooks/sa-ccr/T1/trades.csv\")\n",
    "books_table.load_csv(\"s3://data.atoti.io/notebooks/sa-ccr/T1/books.csv\")\n",
    "nettingSets_table.load_csv(\n",
    "    \"s3://data.atoti.io/notebooks/sa-ccr/T1/netting-set-attributes.csv\"\n",
    ")"
   ]
  },
  {
   "cell_type": "markdown",
   "metadata": {},
   "source": [
    "<div style=\"text-align:center\"><a href=\"https://www.atoti.io/?utm_source=gallery&utm_content=saccr\" target=\"_blank\" rel=\"noopener noreferrer\"><img src=\"https://data.atoti.io/notebooks/banners/discover-try.png\" alt=\"atoti table\" /></a></div>"
   ]
  }
 ],
 "metadata": {
  "kernelspec": {
   "display_name": "Python 3 (ipykernel)",
   "language": "python",
   "name": "python3"
  },
  "language_info": {
   "codemirror_mode": {
    "name": "ipython",
    "version": 3
   },
   "file_extension": ".py",
   "mimetype": "text/x-python",
   "name": "python",
   "nbconvert_exporter": "python",
   "pygments_lexer": "ipython3",
   "version": "3.9.12"
  },
  "toc-autonumbering": false,
  "toc-showcode": false,
  "toc-showmarkdowntxt": false,
  "toc-showtags": false
 },
 "nbformat": 4,
 "nbformat_minor": 4
}
