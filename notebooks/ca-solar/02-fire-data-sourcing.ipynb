{
 "cells": [
  {
   "cell_type": "markdown",
   "id": "f1e33aba-8ee7-49e6-ba33-95c14300eda7",
   "metadata": {},
   "source": [
    "# Sourcing fire data\n",
    "This notebook stitches together downloaded jsons from fire.ca.gov to create several dataframes used in the main notebook.\n",
    "\n",
    "The underlying jsons are not provided, but one can download it for themselves from ca.fire.gov and run this notebook to create updated files."
   ]
  },
  {
   "cell_type": "raw",
   "id": "4e852724-acfa-47c6-bfa7-2af448346569",
   "metadata": {},
   "source": [
    "import json  # for raw fire data\n",
    "\n",
    "import numpy as np  # for nan\n",
    "import pandas as pd  # to convert json data to dataframe\n",
    "import pyarrow.feather as feather  # lightweight export of dataframe\n",
    "from scipy.spatial.distance import cdist"
   ]
  },
  {
   "cell_type": "raw",
   "id": "0031de80-7c0a-430c-8f55-86f1b8598477",
   "metadata": {},
   "source": [
    "# Loading Data\n",
    "path_to_read_data = \"./data\"  # this data can be downloaded from ca.fire.gov; replace path as appropriate\n",
    "path_to_write_data = \"./data\"\n",
    "\n",
    "# Opening JSON\n",
    "start = 2016\n",
    "end = 2021"
   ]
  },
  {
   "cell_type": "raw",
   "id": "d5ff276e-b824-42f5-a703-90f4ed3c97a8",
   "metadata": {},
   "source": [
    "# initiate data with first year\n",
    "with open(f\"{path_to_read_data}/calfire-{start}.json\") as f:\n",
    "    start_data = json.load(f)\n",
    "    annual_data = start_data[f\"firedata{start}\"]\n",
    "\n",
    "print(f\"Number of fires in {start} : {len(annual_data)}\")"
   ]
  },
  {
   "cell_type": "raw",
   "id": "d8724219-deba-4fb1-9a72-a9acba97f55b",
   "metadata": {},
   "source": [
    "# add second year through final year\n",
    "for year in range(start + 1, end):\n",
    "    with open(f\"{path_to_read_data}/calfire-{year}.json\") as f:\n",
    "        additional_data = json.load(f)\n",
    "        new_data = additional_data[f\"firedata{year}\"]\n",
    "        print(f\"Number of fires in {year} : {len(new_data)}\")\n",
    "        for new_datum in new_data:\n",
    "            annual_data.append(new_datum)"
   ]
  },
  {
   "cell_type": "raw",
   "id": "db6f47fb-7a52-4801-a40d-31519cb88474",
   "metadata": {},
   "source": [
    "# clean and convert data to dataframe\n",
    "df = pd.DataFrame.from_dict(annual_data)\n",
    "df = df.loc[df[\"AcresBurnedDisplay\"] != 0]  # removing trivial data"
   ]
  },
  {
   "cell_type": "markdown",
   "id": "51540117-ec8c-4e2e-b428-6695b496011e",
   "metadata": {},
   "source": [
    "Creating a dataframe hosting the relationship between each solar data station to the wildfire locations and a dataframe with fire lat/lons"
   ]
  },
  {
   "cell_type": "raw",
   "id": "8cf295e2-b118-4e08-9c7f-0f05735cdec3",
   "metadata": {},
   "source": [
    "# create df of fire+lat+lon\n",
    "fire_latlon = df.filter([\"Name\", \"Latitude\", \"Longitude\", \"StartedDate\"], axis=1)\n",
    "\n",
    "fire_latlon[\"LatLon\"] = [\n",
    "    (x, y) for x, y in zip(fire_latlon[\"Latitude\"], fire_latlon[\"Longitude\"])\n",
    "]\n",
    "\n",
    "fire_latlon[\"When\"] = pd.to_datetime(fire_latlon[\"StartedDate\"]).dt.strftime(\"%Y-%m-%d\")\n",
    "del fire_latlon[\"StartedDate\"]\n",
    "fire_latlon.head()"
   ]
  },
  {
   "cell_type": "raw",
   "id": "8b3f8f51-80a1-4f37-8892-64f3f2c8923e",
   "metadata": {},
   "source": [
    "fire_latlon[\"Name\"] = fire_latlon[\"When\"].astype(str) + fire_latlon[\"Name\"]\n",
    "del fire_latlon[\"When\"]"
   ]
  },
  {
   "cell_type": "raw",
   "id": "883f1ae5-aea2-4507-af54-b5ad84f10491",
   "metadata": {},
   "source": [
    "# pull in station lat+lon\n",
    "solar_df = pd.read_feather(\n",
    "    \"s3://data.atoti.io/notebooks/ca-solar/nsrdb_station_lat_lon.feather\"\n",
    ")\n",
    "\n",
    "solar_df[\"LatLon\"] = [\n",
    "    (x, y) for x, y in zip(solar_df[\"Latitude\"], solar_df[\"Longitude\"])\n",
    "]\n",
    "solar_df.head()"
   ]
  },
  {
   "cell_type": "raw",
   "id": "4f7490dd-96c2-4f1b-ab97-0119e602ecf9",
   "metadata": {},
   "source": [
    "# create matrix of distances\n",
    "fire_station_dist = cdist(list(solar_df[\"LatLon\"]), list(fire_latlon[\"LatLon\"]))\n",
    "\n",
    "fs_dist = pd.DataFrame(data=fire_station_dist, columns=fire_latlon[\"Name\"])\n",
    "fs_dist.head()"
   ]
  },
  {
   "cell_type": "raw",
   "id": "7f41e706-ab1e-4cfe-b87b-8470a20a88aa",
   "metadata": {},
   "source": [
    "dist = pd.concat([solar_df[\"Station\"], fs_dist], axis=1)"
   ]
  },
  {
   "cell_type": "raw",
   "id": "324ebd8f-7428-4cb4-9d1d-6ad18f20f4a9",
   "metadata": {},
   "source": [
    "dist.head()"
   ]
  },
  {
   "cell_type": "raw",
   "id": "79f1683f-2003-4601-8106-823c6358d367",
   "metadata": {},
   "source": [
    "dist_df = pd.melt(\n",
    "    dist, id_vars=\"Station\", ignore_index=False, var_name=\"Fire\", value_name=\"Distance\"\n",
    ")\n",
    "\n",
    "dist_df.head()"
   ]
  },
  {
   "cell_type": "raw",
   "id": "a1e99d81-7945-4e62-9272-27ef9276f134",
   "metadata": {},
   "source": [
    "fire_loc = fire_latlon.drop(\"LatLon\", axis=1)\n",
    "fire_loc.rename(\n",
    "    columns={\n",
    "        \"Name\": \"Fire\",\n",
    "    },\n",
    "    inplace=True,\n",
    ")"
   ]
  },
  {
   "cell_type": "raw",
   "id": "496cd6d4-ad63-4810-94fb-cadba1684377",
   "metadata": {},
   "source": [
    "feather.write_feather(\n",
    "    dist_df, f\"{path_to_write_data}/distance.feather\", compression=\"zstd\"\n",
    ")\n",
    "feather.write_feather(\n",
    "    fire_loc, f\"{path_to_write_data}/fire_loc.feather\", compression=\"zstd\"\n",
    ")"
   ]
  },
  {
   "cell_type": "markdown",
   "id": "34f20c00-0742-4ea9-8ab5-0d0e81c749ec",
   "metadata": {},
   "source": [
    "Creating a dataframe holding the key fire data"
   ]
  },
  {
   "cell_type": "raw",
   "id": "0705d11a-cc9c-4f70-9c1a-80342c5b066f",
   "metadata": {},
   "source": [
    "df.head()"
   ]
  },
  {
   "cell_type": "raw",
   "id": "1566f93d-02a7-4fbd-8401-554de9a755a1",
   "metadata": {},
   "source": [
    "fire_data = df.filter(\n",
    "    [\"Name\", \"AcresBurnedDisplay\", \"StartedDate\", \"UpdatedDate\"], axis=1\n",
    ")\n",
    "fire_data[\"StartedMonth\"] = pd.to_datetime(fire_data[\"StartedDate\"]).dt.strftime(\"%m\")\n",
    "\n",
    "fire_data[\"When\"] = pd.to_datetime(fire_data[\"StartedDate\"]).dt.strftime(\"%Y-%m-%d\")\n",
    "\n",
    "fire_data[\"UpdatedDate\"] = pd.to_datetime(fire_data[\"UpdatedDate\"])\n",
    "fire_data[\"UpdatedDate\"] = [d.date() for d in fire_data[\"UpdatedDate\"]]\n",
    "\n",
    "fire_data[\"Name\"] = fire_data[\"When\"].astype(str) + fire_data[\"Name\"]\n",
    "del fire_data[\"When\"]\n",
    "\n",
    "fire_data.rename(\n",
    "    columns={\n",
    "        \"UpdatedDate\": \"EndedDate\",\n",
    "        \"AcresBurnedDisplay\": \"AcresBurned\",\n",
    "        \"Name\": \"Fire\",\n",
    "    },\n",
    "    inplace=True,\n",
    ")\n",
    "\n",
    "fire_data.head()"
   ]
  },
  {
   "cell_type": "raw",
   "id": "26adc83a-a833-49c4-b872-b998464109b0",
   "metadata": {},
   "source": [
    "feather.write_feather(\n",
    "    fire_data, f\"{path_to_write_data}/fire_data.feather\", compression=\"zstd\"\n",
    ")"
   ]
  }
 ],
 "metadata": {
  "kernelspec": {
   "display_name": "Python 3 (ipykernel)",
   "language": "python",
   "name": "python3"
  },
  "language_info": {
   "codemirror_mode": {
    "name": "ipython",
    "version": 3
   },
   "file_extension": ".py",
   "mimetype": "text/x-python",
   "name": "python",
   "nbconvert_exporter": "python",
   "pygments_lexer": "ipython3",
   "version": "3.9.6"
  }
 },
 "nbformat": 4,
 "nbformat_minor": 5
}
