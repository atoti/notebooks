{
 "cells": [
  {
   "cell_type": "markdown",
   "metadata": {},
   "source": [
    "# Value at Risk: A simple way to monitor market risk with atoti\n",
    "\\[_In case you’re unable to see the atoti visualizations in GitHub, try viewing the notebook in [nbviewer](https://nbviewer.org/github/atoti/notebooks/blob/master/notebooks/value-at-risk/main.ipynb)._]\n",
    "\n",
    "Financial institutions all have to find a balance between profit and risk. The more risk taken the higher the profit can be. However if we want to avoid collapses such as that of Lehman Brothers in 2008, risk has to be controlled.  \n",
    "\n",
    "There are several kinds of risk:\n",
    "- Shortfall of a counterparty, also known as credit risk: This is the risk that a borrower cannot repay its credit\n",
    "- Market risk: This is the risk that certain assets could lose their value. For example one might invest in wine bottle in the hope that they gain value with age while they might not.\n",
    "\n",
    "Market risk is widely monitored in finance. Institutions have large portfolios with a lot of assets, and forecasting the value of each asset is simply impossible as COVID-19 kindly reminded us recently. The key is then to assess what are the (statistical) chances that the value of certain assets remain in a certain envelope and what the potential losses are. This is where the value at risk – or VaR – comes into action.\n",
    "\n",
    "There are different approaches to calculating the VaR. The one we will use in this notebook is based on the aggregation of simulated profit & losses, and then calculated using a percentile of the empirical distribution.\n",
    "\n",
    "We will see how we can compute and aggregate pretty easily this non-linear indicator with atoti, and then perform simulations around it."
   ]
  },
  {
   "cell_type": "markdown",
   "metadata": {},
   "source": [
    "  \n",
    "<div style=\"text-align:center\"><a href=\"https://www.atoti.io/?utm_source=gallery&utm_content=value-at-risk\" target=\"_blank\" rel=\"noopener noreferrer\"><img src=\"https://data.atoti.io/notebooks/banners/discover.png\" alt=\"atoti\" /></a></div>"
   ]
  },
  {
   "cell_type": "markdown",
   "metadata": {},
   "source": [
    "## Importing the necessary libraries"
   ]
  },
  {
   "cell_type": "code",
   "execution_count": 1,
   "metadata": {},
   "outputs": [],
   "source": [
    "import atoti"
   ]
  },
  {
   "cell_type": "markdown",
   "metadata": {},
   "source": [
    "## Data Loading\n",
    "#### Initializing atoti"
   ]
  },
  {
   "cell_type": "code",
   "execution_count": 2,
   "metadata": {},
   "outputs": [],
   "source": [
    "# tell atoti to load the database containing the UI dashboards\n",
    "session = atoti.Session(user_content_storage=\"content\")"
   ]
  },
  {
   "cell_type": "markdown",
   "metadata": {},
   "source": [
    "#### Loading the data"
   ]
  },
  {
   "cell_type": "markdown",
   "metadata": {},
   "source": [
    "Instruments are financial products. In this notebook they are foreign exchange options."
   ]
  },
  {
   "cell_type": "code",
   "execution_count": 3,
   "metadata": {},
   "outputs": [],
   "source": [
    "# uncomment this line to install atoti-aws\n",
    "# !conda install atoti-aws -y"
   ]
  },
  {
   "cell_type": "code",
   "execution_count": null,
   "metadata": {},
   "outputs": [],
   "source": [
    "instruments = session.read_csv(\n",
    "    \"s3://data.atoti.io/notebooks/var/instruments.csv\",\n",
    "    keys=[\"instrument_code\"],\n",
    "    table_name=\"Instruments\",\n",
    ")"
   ]
  },
  {
   "cell_type": "code",
   "execution_count": null,
   "metadata": {},
   "outputs": [],
   "source": [
    "instruments.head()"
   ]
  },
  {
   "cell_type": "markdown",
   "metadata": {},
   "source": [
    "The analytics table gives more information on each instrument, more notably:\n",
    "- The PnL (profit and loss) of the previous day\n",
    "- A vector of the PnLs of the instrument for the last 372 days. PnLs are typically calculated by complex price engines and such vectors would be their output."
   ]
  },
  {
   "cell_type": "code",
   "execution_count": null,
   "metadata": {},
   "outputs": [],
   "source": [
    "analytics = session.read_csv(\n",
    "    \"s3://data.atoti.io/notebooks/var/simulated_pl_vol_depth_150.csv\",\n",
    "    keys=[\"instrument_code\"],\n",
    "    table_name=\"Instruments Analytics\",\n",
    "    array_separator=\";\",\n",
    ")"
   ]
  },
  {
   "cell_type": "code",
   "execution_count": null,
   "metadata": {},
   "outputs": [],
   "source": [
    "analytics.head()"
   ]
  },
  {
   "cell_type": "code",
   "execution_count": null,
   "metadata": {},
   "outputs": [],
   "source": [
    "# We will force the type of those two columns so that when using auto mode to create the cube, they will directly create sum and avg measures.\n",
    "# Since Int columns create hierarchies in auto mode, another solution would have been to create the measures manually.\n",
    "positions_table_types = {\n",
    "    \"quantity\": atoti.type.DOUBLE,\n",
    "    \"purchase_price\": atoti.type.DOUBLE,\n",
    "}"
   ]
  },
  {
   "cell_type": "markdown",
   "metadata": {},
   "source": [
    "Positions give us the quantities of each instrument we currently hold in our portfolio.  \n",
    "They are grouped into books."
   ]
  },
  {
   "cell_type": "code",
   "execution_count": null,
   "metadata": {},
   "outputs": [],
   "source": [
    "positions = session.read_csv(\n",
    "    \"s3://data.atoti.io/notebooks/var/eod_positions.csv\",\n",
    "    keys=[\"instrument_code\", \"book_id\"],\n",
    "    table_name=\"Positions\",\n",
    "    types=positions_table_types,\n",
    ")"
   ]
  },
  {
   "cell_type": "code",
   "execution_count": null,
   "metadata": {},
   "outputs": [],
   "source": [
    "positions.head()"
   ]
  },
  {
   "cell_type": "markdown",
   "metadata": {},
   "source": [
    "### Data model and cube\n",
    "We will first join the three previous tables altogether."
   ]
  },
  {
   "cell_type": "code",
   "execution_count": null,
   "metadata": {},
   "outputs": [],
   "source": [
    "positions.join(instruments)\n",
    "instruments.join(analytics)"
   ]
  },
  {
   "cell_type": "markdown",
   "metadata": {},
   "source": [
    "To start our analysis, we create our cube using `Positions` as the base table."
   ]
  },
  {
   "cell_type": "code",
   "execution_count": null,
   "metadata": {},
   "outputs": [],
   "source": [
    "cube = session.create_cube(positions, \"Positions\")"
   ]
  },
  {
   "cell_type": "code",
   "execution_count": null,
   "metadata": {},
   "outputs": [],
   "source": [
    "cube.schema"
   ]
  },
  {
   "cell_type": "markdown",
   "metadata": {},
   "source": [
    "In auto mode, atoti creates hierarchies for each column that is not of type float, sum and average measures for each column of type float.  \n",
    "This can of course be fine-tuned to either switch to full manual mode and create hierarchies/measures yourself, or simply edit what has been created automatically (adding a hierarchy for a numerical column for example). The available cube creation modes are detailed in the [documentation](https://docs.atoti.io).   \n",
    "\n",
    "Below you can explore which measures/levels/hierarchies have been automatically created in our cube."
   ]
  },
  {
   "cell_type": "code",
   "execution_count": null,
   "metadata": {},
   "outputs": [],
   "source": [
    "m, h, lvl = cube.measures, cube.hierarchies, cube.levels\n",
    "cube"
   ]
  },
  {
   "cell_type": "markdown",
   "metadata": {},
   "source": [
    "#### Computing the PnL of the previous day"
   ]
  },
  {
   "cell_type": "code",
   "execution_count": null,
   "metadata": {},
   "outputs": [],
   "source": [
    "m[\"pnl.VALUE\"] = atoti.agg.single_value(analytics[\"pnl\"])\n",
    "m[\"pnl_vector.VALUE\"] = atoti.agg.single_value(analytics[\"pnl_vector\"])"
   ]
  },
  {
   "cell_type": "markdown",
   "metadata": {},
   "source": [
    "A simple command lets you run atoti's UI directly in the notebook. This is pretty convenient to explore the data you just loaded or make sure the measures defined produce the correct results."
   ]
  },
  {
   "cell_type": "code",
   "execution_count": null,
   "metadata": {
    "atoti": {
     "height": 333,
     "widget": {
      "mapping": {
       "columns": [
        "ALL_MEASURES",
        "[Instruments].[option_type].[option_type]"
       ],
       "measures": [
        "[Measures].[quantity.SUM]",
        "[Measures].[pnl.VALUE]",
        "[Measures].[pnl_vector.VALUE]"
       ],
       "rows": [
        "[Positions].[underlying].[underlying]"
       ]
      },
      "name": "",
      "query": {
       "context": {
        "queriesResultLimit.intermediateSize": 1000000,
        "queriesResultLimit.transientSize": 10000000
       },
       "mdx": "SELECT NON EMPTY Crossjoin({[Measures].[quantity.SUM], [Measures].[pnl.VALUE], [Measures].[pnl_vector.VALUE]}, Hierarchize(Descendants({[Instruments].[option_type].[AllMember]}, 1, SELF_AND_BEFORE))) ON COLUMNS, NON EMPTY Union(Hierarchize(DrilldownLevel([Positions].[underlying].[ALL].[AllMember])), Hierarchize(Descendants({[Positions].[underlying].[AllMember]}, 1, SELF_AND_BEFORE))) ON ROWS FROM [Positions] CELL PROPERTIES VALUE, FORMATTED_VALUE, BACK_COLOR, FORE_COLOR, FONT_FLAGS",
       "updateMode": "once"
      },
      "serverKey": "default",
      "widgetKey": "pivot-table"
     }
    },
    "tags": []
   },
   "outputs": [],
   "source": [
    "session.visualize()"
   ]
  },
  {
   "cell_type": "markdown",
   "metadata": {},
   "source": [
    "### Looking at the PnL in various ways\n",
    "Compute the PnL for each instrument by multiplying the PnL value against the quantity against the `instrument_code` level.  \n",
    "Above the scope level, the PnL will be aggregated."
   ]
  },
  {
   "cell_type": "code",
   "execution_count": null,
   "metadata": {},
   "outputs": [],
   "source": [
    "m[\"PnL\"] = atoti.agg.sum(\n",
    "    m[\"quantity.SUM\"] * m[\"pnl.VALUE\"], scope=atoti.OriginScope(lvl[\"instrument_code\"])\n",
    ")"
   ]
  },
  {
   "cell_type": "markdown",
   "metadata": {},
   "source": [
    "Run the following cells to see the atoti visualizations"
   ]
  },
  {
   "cell_type": "code",
   "execution_count": null,
   "metadata": {
    "activeviam": {
     "state": {
      "name": "PnL Pivot Table",
      "type": "container",
      "value": {
       "body": {
        "configuration": {
         "tabular": {
          "addButtonFilter": "numeric",
          "columns": [],
          "columnsGroups": [
           {
            "captionProducer": "firstColumn",
            "cellFactory": "kpi-status",
            "selector": "kpi-status"
           },
           {
            "captionProducer": "firstColumn",
            "cellFactory": "lookup",
            "selector": "lookup"
           },
           {
            "captionProducer": "expiry",
            "cellFactory": "expiry",
            "selector": "kpi-expiry"
           },
           {
            "captionProducer": "columnMerge",
            "cellFactory": {
             "args": {
              "automaticExpansion": true
             },
             "key": "treeCells"
            },
            "selector": "member"
           }
          ],
          "defaultOptions": {},
          "hideAddButton": true,
          "lineNumbers": true,
          "pinnedHeaderSelector": "member",
          "sortingMode": "non-breaking",
          "statisticsShown": true
         }
        },
        "contextValues": {},
        "mdx": "SELECT NON EMPTY Crossjoin(Hierarchize(DrilldownLevel([Hierarchies].[underlying].[ALL].[AllMember])), Hierarchize(DrilldownLevel([Hierarchies].[option_type].[ALL].[AllMember]))) ON ROWS, NON EMPTY {[Measures].[contributors.COUNT], [Measures].[Quantity], [Measures].[PnL]} ON COLUMNS FROM [Positions] CELL PROPERTIES VALUE, FORMATTED_VALUE, BACK_COLOR, FORE_COLOR, FONT_FLAGS",
        "ranges": {
         "column": {
          "chunkSize": 50,
          "thresholdPercentage": 0.2
         },
         "row": {
          "chunkSize": 2000,
          "thresholdPercentage": 0.1
         }
        },
        "serverUrl": "",
        "updateMode": "once"
       },
       "containerKey": "pivot-table",
       "showTitleBar": false,
       "style": {}
      }
     }
    },
    "atoti": {
     "widget": {
      "columnWidths": {
       "[Positions].[instrument_code].[instrument_code]": 168
      },
      "mapping": {
       "columns": [
        "ALL_MEASURES"
       ],
       "measures": [
        "[Measures].[PnL]",
        "[Measures].[pnl.VALUE]",
        "[Measures].[quantity.SUM]"
       ],
       "rows": [
        "[Positions].[underlying].[underlying]",
        "[Positions].[instrument_code].[instrument_code]"
       ]
      },
      "name": "PnL Pivot Table",
      "query": {
       "context": {
        "queriesResultLimit.intermediateSize": 1000000,
        "queriesResultLimit.transientSize": 10000000
       },
       "mdx": "SELECT NON EMPTY {[Measures].[PnL], [Measures].[pnl.VALUE], [Measures].[quantity.SUM]} ON COLUMNS, NON EMPTY Crossjoin(Union([Positions].[underlying].[underlying].Members, Hierarchize(Descendants({[Positions].[underlying].[AllMember]}, 1, SELF_AND_BEFORE))), Hierarchize(Descendants({[Positions].[instrument_code].[AllMember]}, 1, SELF_AND_BEFORE))) ON ROWS FROM [Positions] CELL PROPERTIES VALUE, FORMATTED_VALUE, BACK_COLOR, FORE_COLOR, FONT_FLAGS",
       "updateMode": "once"
      },
      "serverKey": "default",
      "widgetKey": "pivot-table"
     }
    },
    "tags": []
   },
   "outputs": [],
   "source": [
    "session.visualize(name=\"PnL Pivot Table\")"
   ]
  },
  {
   "cell_type": "code",
   "execution_count": null,
   "metadata": {
    "atoti": {
     "widget": {
      "mapping": {
       "horizontalSubplots": [],
       "values": [
        "[Measures].[PnL]"
       ],
       "verticalSubplots": [],
       "xAxis": [
        "[Positions].[underlying].[underlying]"
       ]
      },
      "name": "",
      "query": {
       "context": {
        "queriesResultLimit.intermediateSize": 1000000,
        "queriesResultLimit.transientSize": 10000000
       },
       "mdx": "SELECT NON EMPTY [Measures].[PnL] ON COLUMNS, NON EMPTY [Positions].[underlying].[underlying].Members ON ROWS FROM [Positions] CELL PROPERTIES VALUE, FORMATTED_VALUE, BACK_COLOR, FORE_COLOR, FONT_FLAGS",
       "updateMode": "once"
      },
      "serverKey": "default",
      "widgetKey": "plotly-waterfall-chart"
     }
    }
   },
   "outputs": [],
   "source": [
    "session.visualize()"
   ]
  },
  {
   "cell_type": "markdown",
   "metadata": {},
   "source": [
    "### Collaboration tools\n",
    "All the tables/charts created in the notebook can be published and made available in atoti's UI, a user friendly interface where anybody can create dashboards, share them, and drill down the data.\n",
    "\n",
    "atoti's UI can be reached with a link using command `session.link()`  \n",
    "Run the cell below to have a look at a dashboard we have prepared using the above chart and pivot table."
   ]
  },
  {
   "cell_type": "code",
   "execution_count": null,
   "metadata": {},
   "outputs": [],
   "source": [
    "session.link(path=\"#/dashboard/94c\")"
   ]
  },
  {
   "cell_type": "markdown",
   "metadata": {},
   "source": [
    "### Customizing hierarchies\n",
    "\n",
    "In large organizations, books usually belong to business units that are made up of smaller sub-business units and different trading desks.  \n",
    "atoti lets you add new hierarchies on the fly without having to add columns into existing tables or re-launch time consuming batch computations.\n",
    "\n",
    "In this example we will import a file containing level information on Business Units, Sub-Business Units, Trading Desks and Book. Since we already have book IDs linked to our instruments, we will simply use this new information to create an additional hierarchy with these levels under it."
   ]
  },
  {
   "cell_type": "code",
   "execution_count": null,
   "metadata": {},
   "outputs": [],
   "source": [
    "trading_desks = session.read_csv(\n",
    "    \"s3://data.atoti.io/notebooks/var/trading_desk.csv\",\n",
    "    keys=[\"book_id\"],\n",
    "    table_name=\"Trading Desk\",\n",
    ")\n",
    "positions.join(trading_desks)\n",
    "\n",
    "h[\"Trading Book Hierarchy\"] = {\n",
    "    \"Business Unit\": lvl[\"business_unit\"],\n",
    "    \"Sub Business Unit\": lvl[\"sub_business_unit\"],\n",
    "    \"Trading Desk\": lvl[\"trading_desk\"],\n",
    "    \"Book\": lvl[\"book\"],\n",
    "}"
   ]
  },
  {
   "cell_type": "markdown",
   "metadata": {},
   "source": [
    "The cube structure has been modified on the fly, we can now use the new hierarchy on any visualization. The data model becomes the following:"
   ]
  },
  {
   "cell_type": "code",
   "execution_count": null,
   "metadata": {},
   "outputs": [],
   "source": [
    "cube.schema"
   ]
  },
  {
   "cell_type": "code",
   "execution_count": null,
   "metadata": {
    "activeviam": {
     "state": {
      "name": "Business Hierarchy Pivot Table",
      "type": "container",
      "value": {
       "body": {
        "configuration": {
         "mapping": {
          "splitBy": [
           "[Hierarchies].[book].[book]",
           "[Hierarchies].[underlying].[underlying]"
          ],
          "values": [
           "[Measures].[PnL]"
          ]
         },
         "type": "plotly-tree-map"
        },
        "query": {
         "mdx": "SELECT NON EMPTY [Measures].[PnL] ON COLUMNS, NON EMPTY Crossjoin([Hierarchies].[book].[book].Members, [Hierarchies].[underlying].[underlying].Members) ON ROWS FROM (SELECT {[Hierarchies].[underlying].[ALL].[AllMember].[EURAUD=X], [Hierarchies].[underlying].[ALL].[AllMember].[EURCHF=X], [Hierarchies].[underlying].[ALL].[AllMember].[EURCNY=X], [Hierarchies].[underlying].[ALL].[AllMember].[EURJPY=X], [Hierarchies].[underlying].[ALL].[AllMember].[EURSEK=X], [Hierarchies].[underlying].[ALL].[AllMember].[EURUSD=X]} ON COLUMNS FROM [Positions]) CELL PROPERTIES VALUE, FORMATTED_VALUE, BACK_COLOR, FORE_COLOR, FONT_FLAGS",
         "serverUrl": "",
         "updateMode": "once"
        }
       },
       "containerKey": "chart",
       "showTitleBar": false,
       "style": {}
      }
     }
    },
    "atoti": {
     "height": 274,
     "widget": {
      "columnWidths": {
       "[Trading Desk].[Trading Book Hierarchy].[Sub Business Unit]": 133
      },
      "mapping": {
       "columns": [
        "ALL_MEASURES"
       ],
       "measures": [
        "[Measures].[PnL]",
        "[Measures].[quantity.SUM]"
       ],
       "rows": [
        "[Trading Desk].[Trading Book Hierarchy].[Business Unit] => [Trading Desk].[Trading Book Hierarchy].[Trading Desk]"
       ]
      },
      "name": "Business Hierarchy Pivot Table",
      "query": {
       "context": {
        "queriesResultLimit.intermediateSize": 1000000,
        "queriesResultLimit.transientSize": 10000000
       },
       "mdx": "SELECT NON EMPTY {[Measures].[PnL], [Measures].[quantity.SUM]} ON COLUMNS, NON EMPTY Hierarchize(Union(Hierarchize(DrilldownLevel([Trading Desk].[Trading Book Hierarchy].[ALL].[AllMember])), Hierarchize(Descendants({[Trading Desk].[Trading Book Hierarchy].[AllMember]}, 1, SELF_AND_BEFORE)), Descendants({[Trading Desk].[Trading Book Hierarchy].[AllMember].[Forex]}, [Trading Desk].[Trading Book Hierarchy].[Sub Business Unit]), Descendants({[Trading Desk].[Trading Book Hierarchy].[AllMember].[Forex].[Developed Market]}, [Trading Desk].[Trading Book Hierarchy].[Trading Desk]))) ON ROWS FROM [Positions] CELL PROPERTIES VALUE, FORMATTED_VALUE, BACK_COLOR, FORE_COLOR, FONT_FLAGS",
       "updateMode": "once"
      },
      "serverKey": "default",
      "widgetKey": "pivot-table"
     }
    },
    "tags": []
   },
   "outputs": [],
   "source": [
    "session.visualize(\"Business Hierarchy Pivot Table\")"
   ]
  },
  {
   "cell_type": "markdown",
   "metadata": {},
   "source": [
    "### Value at Risk\n",
    "\n",
    "We have vectors of the PnLs of every instrument for the last 372 days for each instrument. \n",
    "First thing we will do is define a \"scaled vector\" measure that will multiply those PnLs vectors by the quantities we hold in our positions at instrument level, aggregate it as a sum above."
   ]
  },
  {
   "cell_type": "code",
   "execution_count": null,
   "metadata": {},
   "outputs": [],
   "source": [
    "scaled_pnl_vector = m[\"quantity.SUM\"] * m[\"pnl_vector.VALUE\"]\n",
    "m[\"Position Vector\"] = atoti.agg.sum(\n",
    "    scaled_pnl_vector, scope=atoti.OriginScope(lvl[\"instrument_code\"])\n",
    ")"
   ]
  },
  {
   "cell_type": "markdown",
   "metadata": {},
   "source": [
    "From [Wikipedia](https://en.wikipedia.org/wiki/Value_at_risk):    \n",
    "Value at risk (VaR) \\[...\\] estimates how much a set of investments might lose (with a given probability), given normal market conditions, in a set time period such as a day.  \n",
    "For a given portfolio, time horizon, and probability $\\rho$, the $\\rho$ VaR can be defined informally as the maximum possible loss during that time after we exclude all worse outcomes whose combined probability is at most $\\rho$. \n",
    "\n",
    "In our notebook, we will rather use a confidence level that is $1 - \\rho$, where $\\rho$ is a 5% chance that we will make a loss greater than the maximum possible loss calculated.  \n",
    "The maximum possible loss will be computed based on the past PnLs that we have per instrument in vectors."
   ]
  },
  {
   "cell_type": "code",
   "execution_count": null,
   "metadata": {},
   "outputs": [],
   "source": [
    "m[\"Confidence Level\"] = 0.95\n",
    "m[\"VaR\"] = atoti.array.quantile(m[\"Position Vector\"], (1 - m[\"Confidence Level\"]))"
   ]
  },
  {
   "cell_type": "code",
   "execution_count": null,
   "metadata": {
    "atoti": {
     "height": 259,
     "widget": {
      "columnWidths": {
       "[Trading Desk].[Trading Book Hierarchy].[Sub Business Unit]": 135
      },
      "mapping": {
       "columns": [
        "ALL_MEASURES"
       ],
       "measures": [
        "[Measures].[PnL]",
        "[Measures].[VaR]"
       ],
       "rows": [
        "[Trading Desk].[Trading Book Hierarchy].[Business Unit] => [Trading Desk].[Trading Book Hierarchy].[Trading Desk]"
       ]
      },
      "name": "",
      "query": {
       "context": {
        "queriesResultLimit.intermediateSize": 1000000,
        "queriesResultLimit.transientSize": 10000000
       },
       "mdx": "SELECT NON EMPTY {[Measures].[PnL], [Measures].[VaR]} ON COLUMNS, NON EMPTY Hierarchize(Union(Hierarchize(DrilldownLevel([Trading Desk].[Trading Book Hierarchy].[ALL].[AllMember])), Hierarchize(Descendants({[Trading Desk].[Trading Book Hierarchy].[AllMember]}, 1, SELF_AND_BEFORE)), Descendants({[Trading Desk].[Trading Book Hierarchy].[AllMember].[Forex]}, [Trading Desk].[Trading Book Hierarchy].[Sub Business Unit]), Descendants({[Trading Desk].[Trading Book Hierarchy].[AllMember].[Forex].[Developed Market]}, [Trading Desk].[Trading Book Hierarchy].[Trading Desk]))) ON ROWS FROM [Positions] CELL PROPERTIES VALUE, FORMATTED_VALUE, BACK_COLOR, FORE_COLOR, FONT_FLAGS",
       "updateMode": "once"
      },
      "serverKey": "default",
      "widgetKey": "pivot-table"
     }
    },
    "tags": []
   },
   "outputs": [],
   "source": [
    "session.visualize()"
   ]
  },
  {
   "cell_type": "markdown",
   "metadata": {},
   "source": [
    "The results above show that with a 95% confidence level, we are sure that the maximum loss would be -488k for Forex.\n",
    "\n",
    "95% is an arbitrary value, what if the extreme cases are ten times worse than what we have? Or what if chosing a lower confidence level would tremendously decrease the VaR?\n",
    "\n",
    "This kind of simulation is pretty easy to put in place with atoti.  \n",
    "Below we setup a simulation on measure `Confidence level` then define what its value should be in various scenarios."
   ]
  },
  {
   "cell_type": "code",
   "execution_count": null,
   "metadata": {},
   "outputs": [],
   "source": [
    "confidence_levels = cube.create_parameter_simulation(\n",
    "    \"Confidence Level\",\n",
    "    measures={\"Confidence Level\": 0.95},\n",
    "    base_scenario_name=\"95%\",\n",
    ")\n",
    "\n",
    "# Creating scenarios programmatically:\n",
    "confidence_levels += (\"90%\", 0.90)\n",
    "confidence_levels += (\"98%\", 0.98)"
   ]
  },
  {
   "cell_type": "markdown",
   "metadata": {},
   "source": [
    "Once the simulation is setup, we can access its different values using the new `Confidence level` hierarchy that has automatically been created"
   ]
  },
  {
   "cell_type": "code",
   "execution_count": null,
   "metadata": {
    "activeviam": {
     "state": {
      "name": "VAR 98% on SBU",
      "type": "container",
      "value": {
       "body": {
        "configuration": {
         "featuredValues": {}
        },
        "contextValues": {},
        "mdx": "SELECT NON EMPTY Crossjoin(Hierarchize([Epoch].[Epoch].[Branch].Members), Hierarchize([Confidence Level].[Confidence Level].[Confidence Level].Members), [Hierarchies].[Trading Book Hierarchy].[Trading Desk].Members) ON ROWS, NON EMPTY [Measures].[VaR] ON COLUMNS FROM [Positions] CELL PROPERTIES VALUE, FORMATTED_VALUE, BACK_COLOR, FORE_COLOR, FONT_FLAGS",
        "ranges": {
         "column": {
          "chunkSize": 20,
          "thresholdPercentage": 0.1
         },
         "row": {
          "chunkSize": 20,
          "thresholdPercentage": 0.1
         }
        },
        "serverUrl": "",
        "updateMode": "once"
       },
       "containerKey": "featured-values",
       "showTitleBar": false,
       "style": {}
      }
     }
    },
    "atoti": {
     "height": 247,
     "widget": {
      "mapping": {
       "columns": [
        "ALL_MEASURES",
        "[Confidence Level].[Confidence Level].[Confidence Level]"
       ],
       "measures": [
        "[Measures].[VaR]"
       ],
       "rows": [
        "[Trading Desk].[Trading Book Hierarchy].[Business Unit] => [Trading Desk].[Trading Book Hierarchy].[Sub Business Unit]"
       ]
      },
      "name": "VaR per scenario",
      "query": {
       "context": {
        "queriesResultLimit.intermediateSize": 1000000,
        "queriesResultLimit.transientSize": 10000000
       },
       "mdx": "SELECT NON EMPTY Crossjoin([Measures].[VaR], [Confidence Level].[Confidence Level].[Confidence Level].Members) ON COLUMNS, NON EMPTY Hierarchize(Union(Hierarchize(DrilldownLevel([Trading Desk].[Trading Book Hierarchy].[ALL].[AllMember])), Hierarchize(Descendants({[Trading Desk].[Trading Book Hierarchy].[AllMember]}, 1, SELF_AND_BEFORE)), Descendants({[Trading Desk].[Trading Book Hierarchy].[AllMember].[Forex]}, [Trading Desk].[Trading Book Hierarchy].[Sub Business Unit]))) ON ROWS FROM [Positions] CELL PROPERTIES VALUE, FORMATTED_VALUE, BACK_COLOR, FORE_COLOR, FONT_FLAGS",
       "updateMode": "once"
      },
      "serverKey": "default",
      "widgetKey": "pivot-table"
     }
    },
    "tags": []
   },
   "outputs": [],
   "source": [
    "session.visualize(\"VaR per scenario\")"
   ]
  },
  {
   "cell_type": "markdown",
   "metadata": {},
   "source": [
    "### Marginal VaR\n",
    "\n",
    "Since the VaR is not additive – the sum of the VaRs of multiple elements is not equal to the VaR of their parent in a hierarchy – contributory measures are used by Risk Managers to analyze the impact of a Sub-Portfolio on the Value at Risk of the total Portfolio. These measures can help to track down individual positions that have significant effects on VaR. Furthermore, contributory measures can be a useful tool in hypothetical analyses of portfolio development versus VaR development.\n",
    "\n",
    "One of those measures, the marginal VaR, computes the contribution of one element on the VaR of its parent.\n",
    "\n",
    "Cells below detail how the marginal VaR is defined with atoti."
   ]
  },
  {
   "cell_type": "code",
   "execution_count": null,
   "metadata": {},
   "outputs": [],
   "source": [
    "m[\"Parent Position Vector Ex\"] = atoti.agg.sum(\n",
    "    m[\"Position Vector\"],\n",
    "    scope=atoti.SiblingsScope(hierarchy=h[\"Trading Book Hierarchy\"], exclude_self=True),\n",
    ")"
   ]
  },
  {
   "cell_type": "code",
   "execution_count": null,
   "metadata": {},
   "outputs": [],
   "source": [
    "m[\"Parent VaR Ex\"] = atoti.array.quantile(\n",
    "    m[\"Parent Position Vector Ex\"], (1 - m[\"Confidence Level\"])\n",
    ")\n",
    "m[\"Parent VaR\"] = atoti.parent_value(m[\"VaR\"], degrees={h[\"Trading Book Hierarchy\"]: 1})\n",
    "m[\"Marginal VaR\"] = m[\"Parent VaR\"] - m[\"Parent VaR Ex\"]"
   ]
  },
  {
   "cell_type": "markdown",
   "metadata": {},
   "source": [
    "That's it, our marginal VaR is computed, let's have a look at where we could reduce the VaR the most now."
   ]
  },
  {
   "cell_type": "code",
   "execution_count": null,
   "metadata": {
    "atoti": {
     "height": 277,
     "widget": {
      "columnWidths": {
       "[Trading Desk].[Trading Book Hierarchy].[Sub Business Unit]": 133
      },
      "mapping": {
       "columns": [
        "ALL_MEASURES"
       ],
       "measures": [
        "[Measures].[VaR]",
        "[Measures].[Marginal VaR]",
        "[Measures].[Parent VaR]",
        "[Measures].[Parent VaR Ex]"
       ],
       "rows": [
        "[Trading Desk].[Trading Book Hierarchy].[Business Unit] => [Trading Desk].[Trading Book Hierarchy].[Trading Desk]"
       ]
      },
      "name": "",
      "query": {
       "context": {
        "queriesResultLimit.intermediateSize": 1000000,
        "queriesResultLimit.transientSize": 10000000
       },
       "mdx": "SELECT NON EMPTY {[Measures].[VaR], [Measures].[Marginal VaR], [Measures].[Parent VaR], [Measures].[Parent VaR Ex]} ON COLUMNS, NON EMPTY Hierarchize(Union(Hierarchize(DrilldownLevel([Trading Desk].[Trading Book Hierarchy].[ALL].[AllMember])), Hierarchize(Descendants({[Trading Desk].[Trading Book Hierarchy].[AllMember]}, 1, SELF_AND_BEFORE)), Descendants({[Trading Desk].[Trading Book Hierarchy].[AllMember].[Forex]}, [Trading Desk].[Trading Book Hierarchy].[Sub Business Unit]), Descendants({[Trading Desk].[Trading Book Hierarchy].[AllMember].[Forex].[Developed Market]}, [Trading Desk].[Trading Book Hierarchy].[Trading Desk]))) ON ROWS FROM [Positions] CELL PROPERTIES VALUE, FORMATTED_VALUE, BACK_COLOR, FORE_COLOR, FONT_FLAGS",
       "updateMode": "once"
      },
      "serverKey": "default",
      "widgetKey": "pivot-table"
     }
    },
    "tags": []
   },
   "outputs": [],
   "source": [
    "session.visualize()"
   ]
  },
  {
   "cell_type": "markdown",
   "metadata": {},
   "source": [
    "## PnL Models Comparison\n",
    "\n",
    "The VaR calculation is heavily based on the PnL vectors that depend on the results of our instruments pricers, and the history that we have.  \n",
    "What would happen if pricers used a different model, or if we changed the amount of history we use to compute the VaR.\n",
    "\n",
    "atoti also lets you perform easy simulations on data tables that were loaded.  \n",
    "We will load this new file in the analytics table, but in a new scenario called \"Model short volatility\"."
   ]
  },
  {
   "cell_type": "code",
   "execution_count": null,
   "metadata": {},
   "outputs": [],
   "source": [
    "analytics.scenarios[\"Model short Volatility\"].load_csv(\n",
    "    \"s3://data.atoti.io/notebooks/var/simulated_pl_vol_depth_270.csv\",\n",
    "    array_separator=\";\",\n",
    ")"
   ]
  },
  {
   "cell_type": "markdown",
   "metadata": {},
   "source": [
    "And that's it, there is no need to re-load any of the previous files, re-define measures or perform batch computations. Everything we have previously defined is available in both our previous and this new scenario.  \n",
    "Let's have a look at it."
   ]
  },
  {
   "cell_type": "code",
   "execution_count": null,
   "metadata": {
    "atoti": {
     "height": 259,
     "widget": {
      "columnWidths": {
       "[Epoch].[Epoch].[Model short Volatility]": 137,
       "[Measures].[VaR],[Epoch].[Epoch].[Base - Model short Volatility]": 173,
       "[Measures].[VaR],[Epoch].[Epoch].[Model short Volatility]": 137,
       "[Trading Desk].[Trading Book Hierarchy].[Sub Business Unit]": 133
      },
      "mapping": {
       "columns": [
        "ALL_MEASURES",
        "[Epoch].[Epoch].[Branch]"
       ],
       "measures": [
        "[Measures].[VaR]"
       ],
       "rows": [
        "[Trading Desk].[Trading Book Hierarchy].[Business Unit] => [Trading Desk].[Trading Book Hierarchy].[Sub Business Unit]"
       ]
      },
      "query": {
       "mdx": "WITH  Member [Epoch].[Epoch].[Base - Model short Volatility] AS [Epoch].[Epoch].[Base] - [Epoch].[Epoch].[Model short Volatility], CAPTION = \"Base - Model short Volatility\"  SELECT NON EMPTY Hierarchize(Union(Descendants({[Trading Desk].[Trading Book Hierarchy].[AllMember]}, 1, SELF_AND_BEFORE), Descendants({[Trading Desk].[Trading Book Hierarchy].[AllMember].[Forex]}, [Trading Desk].[Trading Book Hierarchy].[Sub Business Unit]))) ON ROWS, NON EMPTY Crossjoin({[Measures].[VaR]}, Hierarchize(Union([Epoch].[Epoch].[Branch].Members, [Epoch].[Epoch].[Base - Model short Volatility]))) ON COLUMNS FROM [Positions]",
       "updateMode": "once"
      },
      "serverKey": "default",
      "widgetKey": "pivot-table"
     }
    },
    "tags": []
   },
   "outputs": [],
   "source": [
    "session.visualize(\"Pivot table comparison Model Short Volatility\")"
   ]
  },
  {
   "cell_type": "markdown",
   "metadata": {},
   "source": [
    "## Combined Scenarios\n",
    "\n",
    "We may also combine scenarios together and answer questions such as \"What would be the VaR and Marginal VaR for the Short Volatility model combined with the 95% and 98% confidence level scenarios?\""
   ]
  },
  {
   "cell_type": "code",
   "execution_count": null,
   "metadata": {
    "atoti": {
     "widget": {
      "columnWidths": {
       "[Measures].[VaR],[Confidence Level].[Confidence Level].[95%],[Epoch].[Epoch].[Model short Volatility]": 137,
       "[Measures].[VaR],[Confidence Level].[Confidence Level].[98%],[Epoch].[Epoch].[Model short Volatility]": 137,
       "[Trading Desk].[Trading Book Hierarchy].[Sub Business Unit]": 133,
       "[Trading Desk].[Trading Book Hierarchy].[Trading Desk]": 92
      },
      "filters": [
       "{[Confidence Level].[Confidence Level].[98%], [Confidence Level].[Confidence Level].[95%]}"
      ],
      "mapping": {
       "columns": [
        "ALL_MEASURES",
        "[Confidence Level].[Confidence Level].[Confidence Level]",
        "[Epoch].[Epoch].[Branch]"
       ],
       "measures": [
        "[Measures].[VaR]"
       ],
       "rows": [
        "[Trading Desk].[Trading Book Hierarchy].[Business Unit] => [Trading Desk].[Trading Book Hierarchy].[Trading Desk]"
       ]
      },
      "name": "Combined Scenarios",
      "query": {
       "context": {
        "queriesResultLimit.intermediateSize": 1000000,
        "queriesResultLimit.transientSize": 10000000
       },
       "mdx": "SELECT NON EMPTY Crossjoin({[Measures].[VaR]}, [Confidence Level].[Confidence Level].[Confidence Level].Members, [Epoch].[Epoch].[Branch].Members) ON COLUMNS, NON EMPTY Hierarchize(Union(Hierarchize(DrilldownLevel([Trading Desk].[Trading Book Hierarchy].[ALL].[AllMember])), Hierarchize(Descendants({[Trading Desk].[Trading Book Hierarchy].[AllMember]}, 1, SELF_AND_BEFORE)), Descendants({[Trading Desk].[Trading Book Hierarchy].[AllMember].[Forex]}, [Trading Desk].[Trading Book Hierarchy].[Sub Business Unit]), Descendants({[Trading Desk].[Trading Book Hierarchy].[AllMember].[Forex].[Developed Market]}, [Trading Desk].[Trading Book Hierarchy].[Trading Desk]))) ON ROWS FROM [Positions] CELL PROPERTIES VALUE, FORMATTED_VALUE, BACK_COLOR, FORE_COLOR, FONT_FLAGS",
       "updateMode": "once"
      },
      "serverKey": "default",
      "widgetKey": "pivot-table"
     }
    },
    "tags": []
   },
   "outputs": [],
   "source": [
    "session.visualize(\"Combined Scenarios\")"
   ]
  },
  {
   "cell_type": "markdown",
   "metadata": {},
   "source": [
    "# LEstimated VaR\n",
    "\n",
    "The LEstimated VaR is a contributory measure. It is an additive measure such that the LEstimated VaRs of all Sub-Portfolios add up to the VaR of the parent Portfolio.\n",
    "\n",
    "The LEstimated VaR shows the simulated PL for the tail scenario, that has been identified as the VaR scenario for the parent Portfolio."
   ]
  },
  {
   "cell_type": "code",
   "execution_count": null,
   "metadata": {},
   "outputs": [],
   "source": [
    "# Compute the rank of the VaR scenario\n",
    "vectorSize = atoti.array.len(m[\"Position Vector\"])\n",
    "m[\"VaR Rank Current Portfolio\"] = atoti.math.floor(\n",
    "    (1 - m[\"Confidence Level\"]) * vectorSize\n",
    ")\n",
    "\n",
    "# Pick the id of the scenario at the rank\n",
    "m[\"Tail Indices\"] = atoti.array.n_lowest_indices(\n",
    "    m[\"Position Vector\"], m[\"VaR Rank Current Portfolio\"]\n",
    ")\n",
    "m[\"VaR Scenario Id\"] = m[\"Tail Indices\"][m[\"VaR Rank Current Portfolio\"] - 1]\n",
    "m[\"VaR Value\"] = m[\"Position Vector\"][m[\"VaR Scenario Id\"]]\n",
    "\n",
    "\n",
    "# Create a measure to access the parent's level Id\n",
    "m[\"VaR Scenario Id Parent\"] = atoti.parent_value(\n",
    "    m[\"VaR Scenario Id\"], degrees={h[\"Trading Book Hierarchy\"]: 1}\n",
    ")\n",
    "\n",
    "# Finally, the LEstimated VaR measure\n",
    "m[\"LEstimated VaR\"] = m[\"Position Vector\"][m[\"VaR Scenario Id Parent\"]]"
   ]
  },
  {
   "cell_type": "code",
   "execution_count": null,
   "metadata": {
    "atoti": {
     "height": 278,
     "widget": {
      "columnWidths": {
       "[Trading Desk].[Trading Book Hierarchy].[Sub Business Unit]": 133,
       "[Trading Desk].[Trading Book Hierarchy].[Trading Desk]": 92
      },
      "mapping": {
       "columns": [
        "ALL_MEASURES"
       ],
       "measures": [
        "[Measures].[LEstimated VaR]",
        "[Measures].[VaR Value]",
        "[Measures].[VaR Scenario Id]",
        "[Measures].[VaR Scenario Id Parent]"
       ],
       "rows": [
        "[Trading Desk].[Trading Book Hierarchy].[Business Unit] => [Trading Desk].[Trading Book Hierarchy].[Trading Desk]"
       ]
      },
      "name": "",
      "query": {
       "context": {
        "queriesResultLimit.intermediateSize": 1000000,
        "queriesResultLimit.transientSize": 10000000
       },
       "mdx": "SELECT NON EMPTY Hierarchize(Union(Hierarchize(DrilldownLevel([Trading Desk].[Trading Book Hierarchy].[ALL].[AllMember])), Hierarchize(Descendants({[Trading Desk].[Trading Book Hierarchy].[AllMember]}, 1, SELF_AND_BEFORE)), Descendants({[Trading Desk].[Trading Book Hierarchy].[AllMember].[Forex]}, [Trading Desk].[Trading Book Hierarchy].[Sub Business Unit]), Descendants({[Trading Desk].[Trading Book Hierarchy].[AllMember].[Forex].[Developed Market]}, [Trading Desk].[Trading Book Hierarchy].[Trading Desk]))) ON ROWS, NON EMPTY {[Measures].[LEstimated VaR], [Measures].[VaR Value], [Measures].[VaR Scenario Id], [Measures].[VaR Scenario Id Parent]} ON COLUMNS FROM [Positions] CELL PROPERTIES VALUE, FORMATTED_VALUE, BACK_COLOR, FORE_COLOR, FONT_FLAGS",
       "updateMode": "once"
      },
      "serverKey": "default",
      "widgetKey": "pivot-table"
     }
    },
    "tags": []
   },
   "outputs": [],
   "source": [
    "session.visualize()"
   ]
  },
  {
   "cell_type": "code",
   "execution_count": null,
   "metadata": {},
   "outputs": [],
   "source": [
    "session.link()"
   ]
  },
  {
   "cell_type": "markdown",
   "metadata": {},
   "source": [
    "  \n",
    "<div style=\"text-align:center\"><a href=\"https://www.atoti.io/?utm_source=gallery&utm_content=value-at-risk\" target=\"_blank\" rel=\"noopener noreferrer\"><img src=\"https://data.atoti.io/notebooks/banners/discover-try.png\" alt=\"atoti\" /></a></div>"
   ]
  }
 ],
 "metadata": {
  "kernelspec": {
   "display_name": "Python 3 (ipykernel)",
   "language": "python",
   "name": "python3"
  },
  "language_info": {
   "codemirror_mode": {
    "name": "ipython",
    "version": 3
   },
   "file_extension": ".py",
   "mimetype": "text/x-python",
   "name": "python",
   "nbconvert_exporter": "python",
   "pygments_lexer": "ipython3",
   "version": "3.9.12"
  }
 },
 "nbformat": 4,
 "nbformat_minor": 4
}
