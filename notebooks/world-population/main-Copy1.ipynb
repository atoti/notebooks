{
 "cells": [
  {
   "cell_type": "markdown",
   "id": "6375e68e",
   "metadata": {},
   "source": [
    "# World Population Growth Simulation\n",
    "\n",
    "In this notebook, we used the [world population](https://www.kaggle.com/rsrishav/world-population) dataset from [Kaggle](https://www.kaggle.com/) to perform simple forecast of the world's population.\n",
    "\n",
    "Using atoti, we will simulate the population of each country for the next 3 years, assuming the growth rate remains the same.  \n",
    "Let's see who will overtake China as the world's largest population and how soon that will happen.  \n",
    "\n",
    "<div style=\"text-align: center;\" ><a href=\"https://www.atoti.io/?utm_source=gallery&utm_content=world-population\" target=\"_blank\" rel=\"noopener noreferrer\"><img src=\"https://data.atoti.io/notebooks/banners/discover.png\" alt=\"Try atoti\"></a></div>"
   ]
  },
  {
   "cell_type": "markdown",
   "id": "2cad40aa",
   "metadata": {},
   "source": [
    "### Creating atoti datacube\n",
    "\n",
    "Let's start by importing the libraries."
   ]
  },
  {
   "cell_type": "code",
   "execution_count": 1,
   "id": "07ac338b",
   "metadata": {},
   "outputs": [],
   "source": [
    "import atoti as tt\n",
    "from atoti.config import create_config"
   ]
  },
  {
   "cell_type": "markdown",
   "id": "27286ff2",
   "metadata": {},
   "source": [
    "#### Persisting the dashboards\n",
    "\n",
    "We can create dashboards in atoti's web application.  \n",
    "However, in order to persist the dashboards, we have to setup the [configuration](https://docs.atoti.io/latest/lib/atoti.config.html#atoti.config.create_config) to store them in the H2 database.  "
   ]
  },
  {
   "cell_type": "code",
   "execution_count": 2,
   "id": "29b26b8b",
   "metadata": {},
   "outputs": [],
   "source": [
    "config = create_config(metadata_db=\"./metadata.db\")\n",
    "session = tt.create_session(config=config)"
   ]
  },
  {
   "cell_type": "code",
   "execution_count": 3,
   "id": "8d73ab92",
   "metadata": {},
   "outputs": [
    {
     "data": {
      "text/plain": [
       "'http://localhost:51746'"
      ]
     },
     "execution_count": 3,
     "metadata": {},
     "output_type": "execute_result"
    }
   ],
   "source": [
    "session.url"
   ]
  },
  {
   "cell_type": "markdown",
   "id": "4d7e2a59",
   "metadata": {},
   "source": [
    "We have done some data cleaning on the data to convert some of the columns into numerical columns.  \n",
    "We can define the type of these numerical columns as `double`. They will be automatically converted into `measures`."
   ]
  },
  {
   "cell_type": "code",
   "execution_count": 4,
   "id": "8eac5894",
   "metadata": {},
   "outputs": [
    {
     "data": {
      "text/html": [
       "<div>\n",
       "<style scoped>\n",
       "    .dataframe tbody tr th:only-of-type {\n",
       "        vertical-align: middle;\n",
       "    }\n",
       "\n",
       "    .dataframe tbody tr th {\n",
       "        vertical-align: top;\n",
       "    }\n",
       "\n",
       "    .dataframe thead th {\n",
       "        text-align: right;\n",
       "    }\n",
       "</style>\n",
       "<table border=\"1\" class=\"dataframe\">\n",
       "  <thead>\n",
       "    <tr style=\"text-align: right;\">\n",
       "      <th></th>\n",
       "      <th>latitude</th>\n",
       "      <th>longitude</th>\n",
       "    </tr>\n",
       "    <tr>\n",
       "      <th>iso_code</th>\n",
       "      <th></th>\n",
       "      <th></th>\n",
       "    </tr>\n",
       "  </thead>\n",
       "  <tbody>\n",
       "    <tr>\n",
       "      <th>AFG</th>\n",
       "      <td>33.939110</td>\n",
       "      <td>67.709953</td>\n",
       "    </tr>\n",
       "    <tr>\n",
       "      <th>ALB</th>\n",
       "      <td>41.153332</td>\n",
       "      <td>20.168331</td>\n",
       "    </tr>\n",
       "    <tr>\n",
       "      <th>DZA</th>\n",
       "      <td>28.033886</td>\n",
       "      <td>1.659626</td>\n",
       "    </tr>\n",
       "    <tr>\n",
       "      <th>AND</th>\n",
       "      <td>42.546245</td>\n",
       "      <td>1.601554</td>\n",
       "    </tr>\n",
       "    <tr>\n",
       "      <th>AGO</th>\n",
       "      <td>-11.202692</td>\n",
       "      <td>17.873887</td>\n",
       "    </tr>\n",
       "  </tbody>\n",
       "</table>\n",
       "</div>"
      ],
      "text/plain": [
       "           latitude  longitude\n",
       "iso_code                      \n",
       "AFG       33.939110  67.709953\n",
       "ALB       41.153332  20.168331\n",
       "DZA       28.033886   1.659626\n",
       "AND       42.546245   1.601554\n",
       "AGO      -11.202692  17.873887"
      ]
     },
     "execution_count": 4,
     "metadata": {},
     "output_type": "execute_result"
    }
   ],
   "source": [
    "coordinates = session.read_csv(\n",
    "    \"https://atoti.blob.core.windows.net/test/world_coordinates.csv\",\n",
    "    keys=[\"iso_code\"],\n",
    "    store_name = \"coordinates\"\n",
    ")\n",
    "coordinates.head()"
   ]
  },
  {
   "cell_type": "code",
   "execution_count": 5,
   "id": "142c563c",
   "metadata": {},
   "outputs": [
    {
     "data": {
      "text/html": [
       "<div>\n",
       "<style scoped>\n",
       "    .dataframe tbody tr th:only-of-type {\n",
       "        vertical-align: middle;\n",
       "    }\n",
       "\n",
       "    .dataframe tbody tr th {\n",
       "        vertical-align: top;\n",
       "    }\n",
       "\n",
       "    .dataframe thead th {\n",
       "        text-align: right;\n",
       "    }\n",
       "</style>\n",
       "<table border=\"1\" class=\"dataframe\">\n",
       "  <thead>\n",
       "    <tr style=\"text-align: right;\">\n",
       "      <th></th>\n",
       "      <th>country</th>\n",
       "      <th>2021_last_updated</th>\n",
       "      <th>2020_population</th>\n",
       "      <th>area</th>\n",
       "      <th>density_sq_km</th>\n",
       "      <th>growth_rate</th>\n",
       "      <th>world_%</th>\n",
       "      <th>rank</th>\n",
       "    </tr>\n",
       "    <tr>\n",
       "      <th>iso_code</th>\n",
       "      <th></th>\n",
       "      <th></th>\n",
       "      <th></th>\n",
       "      <th></th>\n",
       "      <th></th>\n",
       "      <th></th>\n",
       "      <th></th>\n",
       "      <th></th>\n",
       "    </tr>\n",
       "  </thead>\n",
       "  <tbody>\n",
       "    <tr>\n",
       "      <th>CHN</th>\n",
       "      <td>China</td>\n",
       "      <td>1.446901e+09</td>\n",
       "      <td>1.439324e+09</td>\n",
       "      <td>9706961.0</td>\n",
       "      <td>149.0</td>\n",
       "      <td>0.34</td>\n",
       "      <td>18.340</td>\n",
       "      <td>1.0</td>\n",
       "    </tr>\n",
       "    <tr>\n",
       "      <th>IND</th>\n",
       "      <td>India</td>\n",
       "      <td>1.397396e+09</td>\n",
       "      <td>1.380004e+09</td>\n",
       "      <td>3287590.0</td>\n",
       "      <td>424.0</td>\n",
       "      <td>0.97</td>\n",
       "      <td>17.713</td>\n",
       "      <td>2.0</td>\n",
       "    </tr>\n",
       "    <tr>\n",
       "      <th>IDN</th>\n",
       "      <td>Indonesia</td>\n",
       "      <td>2.769394e+08</td>\n",
       "      <td>2.735236e+08</td>\n",
       "      <td>1904569.0</td>\n",
       "      <td>145.0</td>\n",
       "      <td>1.04</td>\n",
       "      <td>3.510</td>\n",
       "      <td>4.0</td>\n",
       "    </tr>\n",
       "    <tr>\n",
       "      <th>PAK</th>\n",
       "      <td>Pakistan</td>\n",
       "      <td>2.251809e+08</td>\n",
       "      <td>2.208923e+08</td>\n",
       "      <td>881912.0</td>\n",
       "      <td>255.0</td>\n",
       "      <td>1.95</td>\n",
       "      <td>2.854</td>\n",
       "      <td>5.0</td>\n",
       "    </tr>\n",
       "    <tr>\n",
       "      <th>BRA</th>\n",
       "      <td>Brazil</td>\n",
       "      <td>2.144981e+08</td>\n",
       "      <td>2.125594e+08</td>\n",
       "      <td>8515767.0</td>\n",
       "      <td>25.0</td>\n",
       "      <td>0.67</td>\n",
       "      <td>2.719</td>\n",
       "      <td>6.0</td>\n",
       "    </tr>\n",
       "  </tbody>\n",
       "</table>\n",
       "</div>"
      ],
      "text/plain": [
       "            country  2021_last_updated  2020_population       area  \\\n",
       "iso_code                                                             \n",
       "CHN           China       1.446901e+09     1.439324e+09  9706961.0   \n",
       "IND           India       1.397396e+09     1.380004e+09  3287590.0   \n",
       "IDN       Indonesia       2.769394e+08     2.735236e+08  1904569.0   \n",
       "PAK        Pakistan       2.251809e+08     2.208923e+08   881912.0   \n",
       "BRA          Brazil       2.144981e+08     2.125594e+08  8515767.0   \n",
       "\n",
       "          density_sq_km  growth_rate  world_%  rank  \n",
       "iso_code                                             \n",
       "CHN               149.0         0.34   18.340   1.0  \n",
       "IND               424.0         0.97   17.713   2.0  \n",
       "IDN               145.0         1.04    3.510   4.0  \n",
       "PAK               255.0         1.95    2.854   5.0  \n",
       "BRA                25.0         0.67    2.719   6.0  "
      ]
     },
     "execution_count": 5,
     "metadata": {},
     "output_type": "execute_result"
    }
   ],
   "source": [
    "population = session.read_csv(\n",
    "    \"s3://data.atoti.io/notebooks/world-population/2021_population_cleaned.csv\",\n",
    "    keys=[\"iso_code\"],\n",
    "    types={\n",
    "        \"2021_last_updated\": tt.type.DOUBLE,\n",
    "        \"2020_population\": tt.type.DOUBLE,\n",
    "        \"area\": tt.type.DOUBLE,\n",
    "        \"density_sq_km\": tt.type.DOUBLE,\n",
    "        \"growth_rate\": tt.type.DOUBLE,\n",
    "        \"world_%\": tt.type.DOUBLE,\n",
    "        \"rank\": tt.type.DOUBLE,\n",
    "    },\n",
    ")\n",
    "population.head()"
   ]
  },
  {
   "cell_type": "markdown",
   "id": "fb701cfc",
   "metadata": {},
   "source": [
    "Since `population` is our only datastore, we used it as the base store to create our cube.  \n",
    "Let's name the cube as `World Population`."
   ]
  },
  {
   "cell_type": "code",
   "execution_count": 6,
   "id": "2b26d6c4",
   "metadata": {},
   "outputs": [
    {
     "data": {
      "image/svg+xml": [
       "<svg xmlns=\"http://www.w3.org/2000/svg\" xmlns:xlink=\"http://www.w3.org/1999/xlink\" width=\"217px\" height=\"258px\" viewBox=\"0.00 0.00 217.00 258.00\">\n",
       "<g id=\"graph0\" class=\"graph\" transform=\"scale(1.0 1.0) rotate(0) translate(4 254)\">\n",
       "<title>World Population schema</title>\n",
       "<polygon fill=\"white\" stroke=\"transparent\" points=\"-4,4 -4,-254 213,-254 213,4 -4,4\"/>\n",
       "<!-- 2021_population_cleaned.csv -->\n",
       "<g id=\"node1\" class=\"node\">\n",
       "<title>2021_population_cleaned.csv</title>\n",
       "<text text-anchor=\"start\" x=\"19\" y=\"-230.6\" font-family=\"-apple-system, BlinkMacSystemFont, 'Segoe UI', Helvetica, Arial, sans-serif, 'Apple Color Emoji', 'Segoe UI Emoji', 'Segoe UI Symbol'\" font-weight=\"bold\" font-size=\"13.00\">2021_population_cleaned.csv</text>\n",
       "<polygon fill=\"#f5f5f5\" stroke=\"transparent\" points=\"9.5,-197 9.5,-221 40.5,-221 40.5,-197 9.5,-197\"/>\n",
       "<text text-anchor=\"start\" x=\"14.5\" y=\"-206.6\" font-family=\"-apple-system, BlinkMacSystemFont, 'Segoe UI', Helvetica, Arial, sans-serif, 'Apple Color Emoji', 'Segoe UI Emoji', 'Segoe UI Symbol'\" font-weight=\"bold\" font-size=\"13.00\">key</text>\n",
       "<polygon fill=\"#f5f5f5\" stroke=\"transparent\" points=\"40.5,-197 40.5,-221 153.5,-221 153.5,-197 40.5,-197\"/>\n",
       "<text text-anchor=\"start\" x=\"45.5\" y=\"-205.6\" font-family=\"-apple-system, BlinkMacSystemFont, 'Segoe UI', Helvetica, Arial, sans-serif, 'Apple Color Emoji', 'Segoe UI Emoji', 'Segoe UI Symbol'\" font-size=\"13.00\">iso_code</text>\n",
       "<polygon fill=\"#f5f5f5\" stroke=\"transparent\" points=\"153.5,-197 153.5,-221 200.5,-221 200.5,-197 153.5,-197\"/>\n",
       "<text text-anchor=\"start\" x=\"162.5\" y=\"-206.6\" font-family=\"-apple-system, BlinkMacSystemFont, 'Segoe UI', Helvetica, Arial, sans-serif, 'Apple Color Emoji', 'Segoe UI Emoji', 'Segoe UI Symbol'\" font-style=\"italic\" font-size=\"13.00\">String</text>\n",
       "<polygon fill=\"#ffffff\" stroke=\"transparent\" points=\"9.5,-173 9.5,-197 40.5,-197 40.5,-173 9.5,-173\"/>\n",
       "<polygon fill=\"#ffffff\" stroke=\"transparent\" points=\"40.5,-173 40.5,-197 153.5,-197 153.5,-173 40.5,-173\"/>\n",
       "<text text-anchor=\"start\" x=\"45.5\" y=\"-181.6\" font-family=\"-apple-system, BlinkMacSystemFont, 'Segoe UI', Helvetica, Arial, sans-serif, 'Apple Color Emoji', 'Segoe UI Emoji', 'Segoe UI Symbol'\" font-size=\"13.00\">country</text>\n",
       "<polygon fill=\"#ffffff\" stroke=\"transparent\" points=\"153.5,-173 153.5,-197 200.5,-197 200.5,-173 153.5,-173\"/>\n",
       "<text text-anchor=\"start\" x=\"162.5\" y=\"-182.6\" font-family=\"-apple-system, BlinkMacSystemFont, 'Segoe UI', Helvetica, Arial, sans-serif, 'Apple Color Emoji', 'Segoe UI Emoji', 'Segoe UI Symbol'\" font-style=\"italic\" font-size=\"13.00\">String</text>\n",
       "<polygon fill=\"#f5f5f5\" stroke=\"transparent\" points=\"9.5,-149 9.5,-173 40.5,-173 40.5,-149 9.5,-149\"/>\n",
       "<polygon fill=\"#f5f5f5\" stroke=\"transparent\" points=\"40.5,-149 40.5,-173 153.5,-173 153.5,-149 40.5,-149\"/>\n",
       "<text text-anchor=\"start\" x=\"45.5\" y=\"-157.6\" font-family=\"-apple-system, BlinkMacSystemFont, 'Segoe UI', Helvetica, Arial, sans-serif, 'Apple Color Emoji', 'Segoe UI Emoji', 'Segoe UI Symbol'\" font-size=\"13.00\">2021_last_updated</text>\n",
       "<polygon fill=\"#f5f5f5\" stroke=\"transparent\" points=\"153.5,-149 153.5,-173 200.5,-173 200.5,-149 153.5,-149\"/>\n",
       "<text text-anchor=\"start\" x=\"158.5\" y=\"-158.6\" font-family=\"-apple-system, BlinkMacSystemFont, 'Segoe UI', Helvetica, Arial, sans-serif, 'Apple Color Emoji', 'Segoe UI Emoji', 'Segoe UI Symbol'\" font-style=\"italic\" font-size=\"13.00\">double</text>\n",
       "<polygon fill=\"#ffffff\" stroke=\"transparent\" points=\"9.5,-125 9.5,-149 40.5,-149 40.5,-125 9.5,-125\"/>\n",
       "<polygon fill=\"#ffffff\" stroke=\"transparent\" points=\"40.5,-125 40.5,-149 153.5,-149 153.5,-125 40.5,-125\"/>\n",
       "<text text-anchor=\"start\" x=\"45.5\" y=\"-133.6\" font-family=\"-apple-system, BlinkMacSystemFont, 'Segoe UI', Helvetica, Arial, sans-serif, 'Apple Color Emoji', 'Segoe UI Emoji', 'Segoe UI Symbol'\" font-size=\"13.00\">2020_population</text>\n",
       "<polygon fill=\"#ffffff\" stroke=\"transparent\" points=\"153.5,-125 153.5,-149 200.5,-149 200.5,-125 153.5,-125\"/>\n",
       "<text text-anchor=\"start\" x=\"158.5\" y=\"-134.6\" font-family=\"-apple-system, BlinkMacSystemFont, 'Segoe UI', Helvetica, Arial, sans-serif, 'Apple Color Emoji', 'Segoe UI Emoji', 'Segoe UI Symbol'\" font-style=\"italic\" font-size=\"13.00\">double</text>\n",
       "<polygon fill=\"#f5f5f5\" stroke=\"transparent\" points=\"9.5,-101 9.5,-125 40.5,-125 40.5,-101 9.5,-101\"/>\n",
       "<polygon fill=\"#f5f5f5\" stroke=\"transparent\" points=\"40.5,-101 40.5,-125 153.5,-125 153.5,-101 40.5,-101\"/>\n",
       "<text text-anchor=\"start\" x=\"45.5\" y=\"-109.6\" font-family=\"-apple-system, BlinkMacSystemFont, 'Segoe UI', Helvetica, Arial, sans-serif, 'Apple Color Emoji', 'Segoe UI Emoji', 'Segoe UI Symbol'\" font-size=\"13.00\">area</text>\n",
       "<polygon fill=\"#f5f5f5\" stroke=\"transparent\" points=\"153.5,-101 153.5,-125 200.5,-125 200.5,-101 153.5,-101\"/>\n",
       "<text text-anchor=\"start\" x=\"158.5\" y=\"-110.6\" font-family=\"-apple-system, BlinkMacSystemFont, 'Segoe UI', Helvetica, Arial, sans-serif, 'Apple Color Emoji', 'Segoe UI Emoji', 'Segoe UI Symbol'\" font-style=\"italic\" font-size=\"13.00\">double</text>\n",
       "<polygon fill=\"#ffffff\" stroke=\"transparent\" points=\"9.5,-77 9.5,-101 40.5,-101 40.5,-77 9.5,-77\"/>\n",
       "<polygon fill=\"#ffffff\" stroke=\"transparent\" points=\"40.5,-77 40.5,-101 153.5,-101 153.5,-77 40.5,-77\"/>\n",
       "<text text-anchor=\"start\" x=\"45.5\" y=\"-85.6\" font-family=\"-apple-system, BlinkMacSystemFont, 'Segoe UI', Helvetica, Arial, sans-serif, 'Apple Color Emoji', 'Segoe UI Emoji', 'Segoe UI Symbol'\" font-size=\"13.00\">density_sq_km</text>\n",
       "<polygon fill=\"#ffffff\" stroke=\"transparent\" points=\"153.5,-77 153.5,-101 200.5,-101 200.5,-77 153.5,-77\"/>\n",
       "<text text-anchor=\"start\" x=\"158.5\" y=\"-86.6\" font-family=\"-apple-system, BlinkMacSystemFont, 'Segoe UI', Helvetica, Arial, sans-serif, 'Apple Color Emoji', 'Segoe UI Emoji', 'Segoe UI Symbol'\" font-style=\"italic\" font-size=\"13.00\">double</text>\n",
       "<polygon fill=\"#f5f5f5\" stroke=\"transparent\" points=\"9.5,-53 9.5,-77 40.5,-77 40.5,-53 9.5,-53\"/>\n",
       "<polygon fill=\"#f5f5f5\" stroke=\"transparent\" points=\"40.5,-53 40.5,-77 153.5,-77 153.5,-53 40.5,-53\"/>\n",
       "<text text-anchor=\"start\" x=\"45.5\" y=\"-61.6\" font-family=\"-apple-system, BlinkMacSystemFont, 'Segoe UI', Helvetica, Arial, sans-serif, 'Apple Color Emoji', 'Segoe UI Emoji', 'Segoe UI Symbol'\" font-size=\"13.00\">growth_rate</text>\n",
       "<polygon fill=\"#f5f5f5\" stroke=\"transparent\" points=\"153.5,-53 153.5,-77 200.5,-77 200.5,-53 153.5,-53\"/>\n",
       "<text text-anchor=\"start\" x=\"158.5\" y=\"-62.6\" font-family=\"-apple-system, BlinkMacSystemFont, 'Segoe UI', Helvetica, Arial, sans-serif, 'Apple Color Emoji', 'Segoe UI Emoji', 'Segoe UI Symbol'\" font-style=\"italic\" font-size=\"13.00\">double</text>\n",
       "<polygon fill=\"#ffffff\" stroke=\"transparent\" points=\"9.5,-29 9.5,-53 40.5,-53 40.5,-29 9.5,-29\"/>\n",
       "<polygon fill=\"#ffffff\" stroke=\"transparent\" points=\"40.5,-29 40.5,-53 153.5,-53 153.5,-29 40.5,-29\"/>\n",
       "<text text-anchor=\"start\" x=\"45.5\" y=\"-37.6\" font-family=\"-apple-system, BlinkMacSystemFont, 'Segoe UI', Helvetica, Arial, sans-serif, 'Apple Color Emoji', 'Segoe UI Emoji', 'Segoe UI Symbol'\" font-size=\"13.00\">world_%</text>\n",
       "<polygon fill=\"#ffffff\" stroke=\"transparent\" points=\"153.5,-29 153.5,-53 200.5,-53 200.5,-29 153.5,-29\"/>\n",
       "<text text-anchor=\"start\" x=\"158.5\" y=\"-38.6\" font-family=\"-apple-system, BlinkMacSystemFont, 'Segoe UI', Helvetica, Arial, sans-serif, 'Apple Color Emoji', 'Segoe UI Emoji', 'Segoe UI Symbol'\" font-style=\"italic\" font-size=\"13.00\">double</text>\n",
       "<polygon fill=\"#f5f5f5\" stroke=\"transparent\" points=\"9.5,-5 9.5,-29 40.5,-29 40.5,-5 9.5,-5\"/>\n",
       "<polygon fill=\"#f5f5f5\" stroke=\"transparent\" points=\"40.5,-5 40.5,-29 153.5,-29 153.5,-5 40.5,-5\"/>\n",
       "<text text-anchor=\"start\" x=\"45.5\" y=\"-13.6\" font-family=\"-apple-system, BlinkMacSystemFont, 'Segoe UI', Helvetica, Arial, sans-serif, 'Apple Color Emoji', 'Segoe UI Emoji', 'Segoe UI Symbol'\" font-size=\"13.00\">rank</text>\n",
       "<polygon fill=\"#f5f5f5\" stroke=\"transparent\" points=\"153.5,-5 153.5,-29 200.5,-29 200.5,-5 153.5,-5\"/>\n",
       "<text text-anchor=\"start\" x=\"158.5\" y=\"-14.6\" font-family=\"-apple-system, BlinkMacSystemFont, 'Segoe UI', Helvetica, Arial, sans-serif, 'Apple Color Emoji', 'Segoe UI Emoji', 'Segoe UI Symbol'\" font-style=\"italic\" font-size=\"13.00\">double</text>\n",
       "<polygon fill=\"none\" stroke=\"black\" points=\"8,-4 8,-246 201,-246 201,-4 8,-4\"/>\n",
       "</g>\n",
       "</g>\n",
       "</svg>"
      ],
      "text/plain": [
       "<IPython.core.display.SVG object>"
      ]
     },
     "execution_count": 6,
     "metadata": {},
     "output_type": "execute_result"
    }
   ],
   "source": [
    "cube = session.create_cube(population, \"World Population\")\n",
    "cube.schema"
   ]
  },
  {
   "cell_type": "code",
   "execution_count": 7,
   "id": "38ee93a7",
   "metadata": {},
   "outputs": [],
   "source": [
    "population.join(coordinates)"
   ]
  },
  {
   "cell_type": "markdown",
   "id": "89a31979",
   "metadata": {},
   "source": [
    "If you're not familiar with a cube, check out the [Multidimensional Concepts](https://docs.atoti.io/latest/tutorial/tutorial.html#Multidimensional-concepts) on [atoti documentation](https://docs.atoti.io).  \n",
    "Let's aliase the cube's attributes to variables with shorter names for use later on."
   ]
  },
  {
   "cell_type": "code",
   "execution_count": 8,
   "id": "41952d42",
   "metadata": {},
   "outputs": [],
   "source": [
    "h, l, m = cube.hierarchies, cube.levels, cube.measures"
   ]
  },
  {
   "cell_type": "markdown",
   "id": "e6b1ff73",
   "metadata": {},
   "source": [
    "### Measures for growth simulation\n",
    "\n",
    "We will create some measures that will allow us to adjust our population growth in the simulation.  \n",
    "\n",
    "__Years forecast__: The number of years from 2021 to compute the total growth.  \n",
    "__Population adjustment__: Adjustment to the 2021 population size. It's useful for instance, in the case of Covid-19 or disaster where population is reduced greatly.  \n",
    "__population__: The computed population size based on `Years forecast`.  \n",
    "__increments__: The increase in population size from the previous year."
   ]
  },
  {
   "cell_type": "code",
   "execution_count": 9,
   "id": "3a873bbe",
   "metadata": {},
   "outputs": [
    {
     "data": {
      "application/json": {
       "Dimensions": {
        "2021_population_cleaned.csv": {
         "country": [
          "country"
         ],
         "iso_code": [
          "iso_code"
         ]
        }
       },
       "Measures": {
        "2020_population.MEAN": {
         "formatter": "DOUBLE[#,###.00]"
        },
        "2020_population.SUM": {
         "formatter": "DOUBLE[#,###.00]"
        },
        "2021_last_updated.MEAN": {
         "formatter": "DOUBLE[#,###.00]"
        },
        "2021_last_updated.SUM": {
         "formatter": "DOUBLE[#,###.00]"
        },
        "area.MEAN": {
         "formatter": "DOUBLE[#,###.00]"
        },
        "area.SUM": {
         "formatter": "DOUBLE[#,###.00]"
        },
        "contributors.COUNT": {
         "formatter": "INT[#,###]"
        },
        "density_sq_km.MEAN": {
         "formatter": "DOUBLE[#,###.00]"
        },
        "density_sq_km.SUM": {
         "formatter": "DOUBLE[#,###.00]"
        },
        "growth_rate.MEAN": {
         "formatter": "DOUBLE[#,###.00]"
        },
        "growth_rate.SUM": {
         "formatter": "DOUBLE[#,###.00]"
        },
        "rank.MEAN": {
         "formatter": "DOUBLE[#,###.00]"
        },
        "rank.SUM": {
         "formatter": "DOUBLE[#,###.00]"
        },
        "world_%.MEAN": {
         "formatter": "DOUBLE[#,###.00]"
        },
        "world_%.SUM": {
         "formatter": "DOUBLE[#,###.00]"
        }
       }
      },
      "text/html": [
       "<ul>\n",
       "<li>World Population\n",
       "  <ul>\n",
       "  <li>Dimensions\n",
       "    <ul>\n",
       "    <li>2021_population_cleaned.csv\n",
       "      <ul>\n",
       "      <li>country\n",
       "        <ol>\n",
       "        <li>country</li>\n",
       "        </ol>      </li>\n",
       "      <li>iso_code\n",
       "        <ol>\n",
       "        <li>iso_code</li>\n",
       "        </ol>      </li>\n",
       "      </ul>\n",
       "    </li>\n",
       "    </ul>\n",
       "  </li>\n",
       "  <li>Measures\n",
       "    <ul>\n",
       "    <li>2020_population.MEAN\n",
       "      <ul>\n",
       "      <li>formatter: DOUBLE[#,###.00]</li>\n",
       "      </ul>\n",
       "    </li>\n",
       "    <li>2020_population.SUM\n",
       "      <ul>\n",
       "      <li>formatter: DOUBLE[#,###.00]</li>\n",
       "      </ul>\n",
       "    </li>\n",
       "    <li>2021_last_updated.MEAN\n",
       "      <ul>\n",
       "      <li>formatter: DOUBLE[#,###.00]</li>\n",
       "      </ul>\n",
       "    </li>\n",
       "    <li>2021_last_updated.SUM\n",
       "      <ul>\n",
       "      <li>formatter: DOUBLE[#,###.00]</li>\n",
       "      </ul>\n",
       "    </li>\n",
       "    <li>area.MEAN\n",
       "      <ul>\n",
       "      <li>formatter: DOUBLE[#,###.00]</li>\n",
       "      </ul>\n",
       "    </li>\n",
       "    <li>area.SUM\n",
       "      <ul>\n",
       "      <li>formatter: DOUBLE[#,###.00]</li>\n",
       "      </ul>\n",
       "    </li>\n",
       "    <li>contributors.COUNT\n",
       "      <ul>\n",
       "      <li>formatter: INT[#,###]</li>\n",
       "      </ul>\n",
       "    </li>\n",
       "    <li>density_sq_km.MEAN\n",
       "      <ul>\n",
       "      <li>formatter: DOUBLE[#,###.00]</li>\n",
       "      </ul>\n",
       "    </li>\n",
       "    <li>density_sq_km.SUM\n",
       "      <ul>\n",
       "      <li>formatter: DOUBLE[#,###.00]</li>\n",
       "      </ul>\n",
       "    </li>\n",
       "    <li>growth_rate.MEAN\n",
       "      <ul>\n",
       "      <li>formatter: DOUBLE[#,###.00]</li>\n",
       "      </ul>\n",
       "    </li>\n",
       "    <li>growth_rate.SUM\n",
       "      <ul>\n",
       "      <li>formatter: DOUBLE[#,###.00]</li>\n",
       "      </ul>\n",
       "    </li>\n",
       "    <li>rank.MEAN\n",
       "      <ul>\n",
       "      <li>formatter: DOUBLE[#,###.00]</li>\n",
       "      </ul>\n",
       "    </li>\n",
       "    <li>rank.SUM\n",
       "      <ul>\n",
       "      <li>formatter: DOUBLE[#,###.00]</li>\n",
       "      </ul>\n",
       "    </li>\n",
       "    <li>world_%.MEAN\n",
       "      <ul>\n",
       "      <li>formatter: DOUBLE[#,###.00]</li>\n",
       "      </ul>\n",
       "    </li>\n",
       "    <li>world_%.SUM\n",
       "      <ul>\n",
       "      <li>formatter: DOUBLE[#,###.00]</li>\n",
       "      </ul>\n",
       "    </li>\n",
       "    </ul>\n",
       "  </li>\n",
       "  </ul>\n",
       "</li>\n",
       "</ul>\n"
      ],
      "text/plain": [
       "Cube(_name='World Population', _hierarchies=Hierarchies(), _measures=Measures())"
      ]
     },
     "execution_count": 9,
     "metadata": {
      "application/json": {
       "expanded": false,
       "root": "World Population"
      }
     },
     "output_type": "execute_result"
    }
   ],
   "source": [
    "cube"
   ]
  },
  {
   "cell_type": "code",
   "execution_count": 10,
   "id": "db9a49a1",
   "metadata": {},
   "outputs": [
    {
     "data": {
      "image/svg+xml": [
       "<svg xmlns=\"http://www.w3.org/2000/svg\" xmlns:xlink=\"http://www.w3.org/1999/xlink\" width=\"529px\" height=\"258px\" viewBox=\"0.00 0.00 529.00 258.00\">\n",
       "<g id=\"graph0\" class=\"graph\" transform=\"scale(1.0 1.0) rotate(0) translate(4 254)\">\n",
       "<title>World Population schema</title>\n",
       "<polygon fill=\"white\" stroke=\"transparent\" points=\"-4,4 -4,-254 525,-254 525,4 -4,4\"/>\n",
       "<!-- 2021_population_cleaned.csv -->\n",
       "<g id=\"node1\" class=\"node\">\n",
       "<title>2021_population_cleaned.csv</title>\n",
       "<text text-anchor=\"start\" x=\"19\" y=\"-230.6\" font-family=\"-apple-system, BlinkMacSystemFont, 'Segoe UI', Helvetica, Arial, sans-serif, 'Apple Color Emoji', 'Segoe UI Emoji', 'Segoe UI Symbol'\" font-weight=\"bold\" font-size=\"13.00\">2021_population_cleaned.csv</text>\n",
       "<polygon fill=\"#f5f5f5\" stroke=\"transparent\" points=\"9.5,-197 9.5,-221 40.5,-221 40.5,-197 9.5,-197\"/>\n",
       "<text text-anchor=\"start\" x=\"14.5\" y=\"-206.6\" font-family=\"-apple-system, BlinkMacSystemFont, 'Segoe UI', Helvetica, Arial, sans-serif, 'Apple Color Emoji', 'Segoe UI Emoji', 'Segoe UI Symbol'\" font-weight=\"bold\" font-size=\"13.00\">key</text>\n",
       "<polygon fill=\"#f5f5f5\" stroke=\"transparent\" points=\"40.5,-197 40.5,-221 153.5,-221 153.5,-197 40.5,-197\"/>\n",
       "<text text-anchor=\"start\" x=\"45.5\" y=\"-205.6\" font-family=\"-apple-system, BlinkMacSystemFont, 'Segoe UI', Helvetica, Arial, sans-serif, 'Apple Color Emoji', 'Segoe UI Emoji', 'Segoe UI Symbol'\" font-size=\"13.00\">iso_code</text>\n",
       "<polygon fill=\"#f5f5f5\" stroke=\"transparent\" points=\"153.5,-197 153.5,-221 200.5,-221 200.5,-197 153.5,-197\"/>\n",
       "<text text-anchor=\"start\" x=\"162.5\" y=\"-206.6\" font-family=\"-apple-system, BlinkMacSystemFont, 'Segoe UI', Helvetica, Arial, sans-serif, 'Apple Color Emoji', 'Segoe UI Emoji', 'Segoe UI Symbol'\" font-style=\"italic\" font-size=\"13.00\">String</text>\n",
       "<polygon fill=\"#ffffff\" stroke=\"transparent\" points=\"9.5,-173 9.5,-197 40.5,-197 40.5,-173 9.5,-173\"/>\n",
       "<polygon fill=\"#ffffff\" stroke=\"transparent\" points=\"40.5,-173 40.5,-197 153.5,-197 153.5,-173 40.5,-173\"/>\n",
       "<text text-anchor=\"start\" x=\"45.5\" y=\"-181.6\" font-family=\"-apple-system, BlinkMacSystemFont, 'Segoe UI', Helvetica, Arial, sans-serif, 'Apple Color Emoji', 'Segoe UI Emoji', 'Segoe UI Symbol'\" font-size=\"13.00\">country</text>\n",
       "<polygon fill=\"#ffffff\" stroke=\"transparent\" points=\"153.5,-173 153.5,-197 200.5,-197 200.5,-173 153.5,-173\"/>\n",
       "<text text-anchor=\"start\" x=\"162.5\" y=\"-182.6\" font-family=\"-apple-system, BlinkMacSystemFont, 'Segoe UI', Helvetica, Arial, sans-serif, 'Apple Color Emoji', 'Segoe UI Emoji', 'Segoe UI Symbol'\" font-style=\"italic\" font-size=\"13.00\">String</text>\n",
       "<polygon fill=\"#f5f5f5\" stroke=\"transparent\" points=\"9.5,-149 9.5,-173 40.5,-173 40.5,-149 9.5,-149\"/>\n",
       "<polygon fill=\"#f5f5f5\" stroke=\"transparent\" points=\"40.5,-149 40.5,-173 153.5,-173 153.5,-149 40.5,-149\"/>\n",
       "<text text-anchor=\"start\" x=\"45.5\" y=\"-157.6\" font-family=\"-apple-system, BlinkMacSystemFont, 'Segoe UI', Helvetica, Arial, sans-serif, 'Apple Color Emoji', 'Segoe UI Emoji', 'Segoe UI Symbol'\" font-size=\"13.00\">2021_last_updated</text>\n",
       "<polygon fill=\"#f5f5f5\" stroke=\"transparent\" points=\"153.5,-149 153.5,-173 200.5,-173 200.5,-149 153.5,-149\"/>\n",
       "<text text-anchor=\"start\" x=\"158.5\" y=\"-158.6\" font-family=\"-apple-system, BlinkMacSystemFont, 'Segoe UI', Helvetica, Arial, sans-serif, 'Apple Color Emoji', 'Segoe UI Emoji', 'Segoe UI Symbol'\" font-style=\"italic\" font-size=\"13.00\">double</text>\n",
       "<polygon fill=\"#ffffff\" stroke=\"transparent\" points=\"9.5,-125 9.5,-149 40.5,-149 40.5,-125 9.5,-125\"/>\n",
       "<polygon fill=\"#ffffff\" stroke=\"transparent\" points=\"40.5,-125 40.5,-149 153.5,-149 153.5,-125 40.5,-125\"/>\n",
       "<text text-anchor=\"start\" x=\"45.5\" y=\"-133.6\" font-family=\"-apple-system, BlinkMacSystemFont, 'Segoe UI', Helvetica, Arial, sans-serif, 'Apple Color Emoji', 'Segoe UI Emoji', 'Segoe UI Symbol'\" font-size=\"13.00\">2020_population</text>\n",
       "<polygon fill=\"#ffffff\" stroke=\"transparent\" points=\"153.5,-125 153.5,-149 200.5,-149 200.5,-125 153.5,-125\"/>\n",
       "<text text-anchor=\"start\" x=\"158.5\" y=\"-134.6\" font-family=\"-apple-system, BlinkMacSystemFont, 'Segoe UI', Helvetica, Arial, sans-serif, 'Apple Color Emoji', 'Segoe UI Emoji', 'Segoe UI Symbol'\" font-style=\"italic\" font-size=\"13.00\">double</text>\n",
       "<polygon fill=\"#f5f5f5\" stroke=\"transparent\" points=\"9.5,-101 9.5,-125 40.5,-125 40.5,-101 9.5,-101\"/>\n",
       "<polygon fill=\"#f5f5f5\" stroke=\"transparent\" points=\"40.5,-101 40.5,-125 153.5,-125 153.5,-101 40.5,-101\"/>\n",
       "<text text-anchor=\"start\" x=\"45.5\" y=\"-109.6\" font-family=\"-apple-system, BlinkMacSystemFont, 'Segoe UI', Helvetica, Arial, sans-serif, 'Apple Color Emoji', 'Segoe UI Emoji', 'Segoe UI Symbol'\" font-size=\"13.00\">area</text>\n",
       "<polygon fill=\"#f5f5f5\" stroke=\"transparent\" points=\"153.5,-101 153.5,-125 200.5,-125 200.5,-101 153.5,-101\"/>\n",
       "<text text-anchor=\"start\" x=\"158.5\" y=\"-110.6\" font-family=\"-apple-system, BlinkMacSystemFont, 'Segoe UI', Helvetica, Arial, sans-serif, 'Apple Color Emoji', 'Segoe UI Emoji', 'Segoe UI Symbol'\" font-style=\"italic\" font-size=\"13.00\">double</text>\n",
       "<polygon fill=\"#ffffff\" stroke=\"transparent\" points=\"9.5,-77 9.5,-101 40.5,-101 40.5,-77 9.5,-77\"/>\n",
       "<polygon fill=\"#ffffff\" stroke=\"transparent\" points=\"40.5,-77 40.5,-101 153.5,-101 153.5,-77 40.5,-77\"/>\n",
       "<text text-anchor=\"start\" x=\"45.5\" y=\"-85.6\" font-family=\"-apple-system, BlinkMacSystemFont, 'Segoe UI', Helvetica, Arial, sans-serif, 'Apple Color Emoji', 'Segoe UI Emoji', 'Segoe UI Symbol'\" font-size=\"13.00\">density_sq_km</text>\n",
       "<polygon fill=\"#ffffff\" stroke=\"transparent\" points=\"153.5,-77 153.5,-101 200.5,-101 200.5,-77 153.5,-77\"/>\n",
       "<text text-anchor=\"start\" x=\"158.5\" y=\"-86.6\" font-family=\"-apple-system, BlinkMacSystemFont, 'Segoe UI', Helvetica, Arial, sans-serif, 'Apple Color Emoji', 'Segoe UI Emoji', 'Segoe UI Symbol'\" font-style=\"italic\" font-size=\"13.00\">double</text>\n",
       "<polygon fill=\"#f5f5f5\" stroke=\"transparent\" points=\"9.5,-53 9.5,-77 40.5,-77 40.5,-53 9.5,-53\"/>\n",
       "<polygon fill=\"#f5f5f5\" stroke=\"transparent\" points=\"40.5,-53 40.5,-77 153.5,-77 153.5,-53 40.5,-53\"/>\n",
       "<text text-anchor=\"start\" x=\"45.5\" y=\"-61.6\" font-family=\"-apple-system, BlinkMacSystemFont, 'Segoe UI', Helvetica, Arial, sans-serif, 'Apple Color Emoji', 'Segoe UI Emoji', 'Segoe UI Symbol'\" font-size=\"13.00\">growth_rate</text>\n",
       "<polygon fill=\"#f5f5f5\" stroke=\"transparent\" points=\"153.5,-53 153.5,-77 200.5,-77 200.5,-53 153.5,-53\"/>\n",
       "<text text-anchor=\"start\" x=\"158.5\" y=\"-62.6\" font-family=\"-apple-system, BlinkMacSystemFont, 'Segoe UI', Helvetica, Arial, sans-serif, 'Apple Color Emoji', 'Segoe UI Emoji', 'Segoe UI Symbol'\" font-style=\"italic\" font-size=\"13.00\">double</text>\n",
       "<polygon fill=\"#ffffff\" stroke=\"transparent\" points=\"9.5,-29 9.5,-53 40.5,-53 40.5,-29 9.5,-29\"/>\n",
       "<polygon fill=\"#ffffff\" stroke=\"transparent\" points=\"40.5,-29 40.5,-53 153.5,-53 153.5,-29 40.5,-29\"/>\n",
       "<text text-anchor=\"start\" x=\"45.5\" y=\"-37.6\" font-family=\"-apple-system, BlinkMacSystemFont, 'Segoe UI', Helvetica, Arial, sans-serif, 'Apple Color Emoji', 'Segoe UI Emoji', 'Segoe UI Symbol'\" font-size=\"13.00\">world_%</text>\n",
       "<polygon fill=\"#ffffff\" stroke=\"transparent\" points=\"153.5,-29 153.5,-53 200.5,-53 200.5,-29 153.5,-29\"/>\n",
       "<text text-anchor=\"start\" x=\"158.5\" y=\"-38.6\" font-family=\"-apple-system, BlinkMacSystemFont, 'Segoe UI', Helvetica, Arial, sans-serif, 'Apple Color Emoji', 'Segoe UI Emoji', 'Segoe UI Symbol'\" font-style=\"italic\" font-size=\"13.00\">double</text>\n",
       "<polygon fill=\"#f5f5f5\" stroke=\"transparent\" points=\"9.5,-5 9.5,-29 40.5,-29 40.5,-5 9.5,-5\"/>\n",
       "<polygon fill=\"#f5f5f5\" stroke=\"transparent\" points=\"40.5,-5 40.5,-29 153.5,-29 153.5,-5 40.5,-5\"/>\n",
       "<text text-anchor=\"start\" x=\"45.5\" y=\"-13.6\" font-family=\"-apple-system, BlinkMacSystemFont, 'Segoe UI', Helvetica, Arial, sans-serif, 'Apple Color Emoji', 'Segoe UI Emoji', 'Segoe UI Symbol'\" font-size=\"13.00\">rank</text>\n",
       "<polygon fill=\"#f5f5f5\" stroke=\"transparent\" points=\"153.5,-5 153.5,-29 200.5,-29 200.5,-5 153.5,-5\"/>\n",
       "<text text-anchor=\"start\" x=\"158.5\" y=\"-14.6\" font-family=\"-apple-system, BlinkMacSystemFont, 'Segoe UI', Helvetica, Arial, sans-serif, 'Apple Color Emoji', 'Segoe UI Emoji', 'Segoe UI Symbol'\" font-style=\"italic\" font-size=\"13.00\">double</text>\n",
       "<polygon fill=\"none\" stroke=\"black\" points=\"8,-4 8,-246 201,-246 201,-4 8,-4\"/>\n",
       "</g>\n",
       "<!-- coordinates -->\n",
       "<g id=\"node2\" class=\"node\">\n",
       "<title>coordinates</title>\n",
       "<text text-anchor=\"start\" x=\"408\" y=\"-158.6\" font-family=\"-apple-system, BlinkMacSystemFont, 'Segoe UI', Helvetica, Arial, sans-serif, 'Apple Color Emoji', 'Segoe UI Emoji', 'Segoe UI Symbol'\" font-weight=\"bold\" font-size=\"13.00\">coordinates</text>\n",
       "<polygon fill=\"#f5f5f5\" stroke=\"transparent\" points=\"374,-125 374,-149 405,-149 405,-125 374,-125\"/>\n",
       "<text text-anchor=\"start\" x=\"379\" y=\"-134.6\" font-family=\"-apple-system, BlinkMacSystemFont, 'Segoe UI', Helvetica, Arial, sans-serif, 'Apple Color Emoji', 'Segoe UI Emoji', 'Segoe UI Symbol'\" font-weight=\"bold\" font-size=\"13.00\">key</text>\n",
       "<polygon fill=\"#f5f5f5\" stroke=\"transparent\" points=\"405,-125 405,-149 465,-149 465,-125 405,-125\"/>\n",
       "<text text-anchor=\"start\" x=\"410\" y=\"-133.6\" font-family=\"-apple-system, BlinkMacSystemFont, 'Segoe UI', Helvetica, Arial, sans-serif, 'Apple Color Emoji', 'Segoe UI Emoji', 'Segoe UI Symbol'\" font-size=\"13.00\">iso_code</text>\n",
       "<polygon fill=\"#f5f5f5\" stroke=\"transparent\" points=\"465,-125 465,-149 512,-149 512,-125 465,-125\"/>\n",
       "<text text-anchor=\"start\" x=\"474\" y=\"-134.6\" font-family=\"-apple-system, BlinkMacSystemFont, 'Segoe UI', Helvetica, Arial, sans-serif, 'Apple Color Emoji', 'Segoe UI Emoji', 'Segoe UI Symbol'\" font-style=\"italic\" font-size=\"13.00\">String</text>\n",
       "<polygon fill=\"#ffffff\" stroke=\"transparent\" points=\"374,-101 374,-125 405,-125 405,-101 374,-101\"/>\n",
       "<polygon fill=\"#ffffff\" stroke=\"transparent\" points=\"405,-101 405,-125 465,-125 465,-101 405,-101\"/>\n",
       "<text text-anchor=\"start\" x=\"410\" y=\"-109.6\" font-family=\"-apple-system, BlinkMacSystemFont, 'Segoe UI', Helvetica, Arial, sans-serif, 'Apple Color Emoji', 'Segoe UI Emoji', 'Segoe UI Symbol'\" font-size=\"13.00\">latitude</text>\n",
       "<polygon fill=\"#ffffff\" stroke=\"transparent\" points=\"465,-101 465,-125 512,-125 512,-101 465,-101\"/>\n",
       "<text text-anchor=\"start\" x=\"470\" y=\"-110.6\" font-family=\"-apple-system, BlinkMacSystemFont, 'Segoe UI', Helvetica, Arial, sans-serif, 'Apple Color Emoji', 'Segoe UI Emoji', 'Segoe UI Symbol'\" font-style=\"italic\" font-size=\"13.00\">double</text>\n",
       "<polygon fill=\"#f5f5f5\" stroke=\"transparent\" points=\"374,-77 374,-101 405,-101 405,-77 374,-77\"/>\n",
       "<polygon fill=\"#f5f5f5\" stroke=\"transparent\" points=\"405,-77 405,-101 465,-101 465,-77 405,-77\"/>\n",
       "<text text-anchor=\"start\" x=\"410\" y=\"-85.6\" font-family=\"-apple-system, BlinkMacSystemFont, 'Segoe UI', Helvetica, Arial, sans-serif, 'Apple Color Emoji', 'Segoe UI Emoji', 'Segoe UI Symbol'\" font-size=\"13.00\">longitude</text>\n",
       "<polygon fill=\"#f5f5f5\" stroke=\"transparent\" points=\"465,-77 465,-101 512,-101 512,-77 465,-77\"/>\n",
       "<text text-anchor=\"start\" x=\"470\" y=\"-86.6\" font-family=\"-apple-system, BlinkMacSystemFont, 'Segoe UI', Helvetica, Arial, sans-serif, 'Apple Color Emoji', 'Segoe UI Emoji', 'Segoe UI Symbol'\" font-style=\"italic\" font-size=\"13.00\">double</text>\n",
       "<polygon fill=\"none\" stroke=\"black\" points=\"373,-76 373,-174 513,-174 513,-76 373,-76\"/>\n",
       "</g>\n",
       "<!-- 2021_population_cleaned.csv&#45;&gt;coordinates -->\n",
       "<g id=\"edge1\" class=\"edge\">\n",
       "<title>2021_population_cleaned.csv-&gt;coordinates</title>\n",
       "<path fill=\"none\" stroke=\"black\" d=\"M209.21,-125C255.79,-125 310.15,-125 354.62,-125\"/>\n",
       "<polygon fill=\"black\" stroke=\"black\" points=\"354.82,-128.5 364.82,-125 354.82,-121.5 354.82,-128.5\"/>\n",
       "<text text-anchor=\"middle\" x=\"287\" y=\"-128.6\" font-family=\"-apple-system, BlinkMacSystemFont, 'Segoe UI', Helvetica, Arial, sans-serif, 'Apple Color Emoji', 'Segoe UI Emoji', 'Segoe UI Symbol'\" font-size=\"13.00\">iso_code → iso_code</text>\n",
       "</g>\n",
       "</g>\n",
       "</svg>"
      ],
      "text/plain": [
       "<IPython.core.display.SVG object>"
      ]
     },
     "execution_count": 10,
     "metadata": {},
     "output_type": "execute_result"
    }
   ],
   "source": [
    "cube.schema"
   ]
  },
  {
   "cell_type": "code",
   "execution_count": 12,
   "id": "4967585e",
   "metadata": {},
   "outputs": [
    {
     "data": {
      "text/html": [
       "<div>\n",
       "<style scoped>\n",
       "    .dataframe tbody tr th:only-of-type {\n",
       "        vertical-align: middle;\n",
       "    }\n",
       "\n",
       "    .dataframe tbody tr th {\n",
       "        vertical-align: top;\n",
       "    }\n",
       "\n",
       "    .dataframe thead th {\n",
       "        text-align: right;\n",
       "    }\n",
       "</style>\n",
       "<table border=\"1\" class=\"dataframe\">\n",
       "  <thead>\n",
       "    <tr style=\"text-align: right;\">\n",
       "      <th></th>\n",
       "      <th>country</th>\n",
       "      <th>2021_last_updated</th>\n",
       "      <th>2020_population</th>\n",
       "      <th>area</th>\n",
       "      <th>density_sq_km</th>\n",
       "      <th>growth_rate</th>\n",
       "      <th>world_%</th>\n",
       "      <th>rank</th>\n",
       "    </tr>\n",
       "    <tr>\n",
       "      <th>iso_code</th>\n",
       "      <th></th>\n",
       "      <th></th>\n",
       "      <th></th>\n",
       "      <th></th>\n",
       "      <th></th>\n",
       "      <th></th>\n",
       "      <th></th>\n",
       "      <th></th>\n",
       "    </tr>\n",
       "  </thead>\n",
       "  <tbody>\n",
       "    <tr>\n",
       "      <th>CHN</th>\n",
       "      <td>China</td>\n",
       "      <td>1.446901e+09</td>\n",
       "      <td>1.439324e+09</td>\n",
       "      <td>9706961.0</td>\n",
       "      <td>149.0</td>\n",
       "      <td>0.34</td>\n",
       "      <td>18.340</td>\n",
       "      <td>1.0</td>\n",
       "    </tr>\n",
       "    <tr>\n",
       "      <th>IND</th>\n",
       "      <td>India</td>\n",
       "      <td>1.397396e+09</td>\n",
       "      <td>1.380004e+09</td>\n",
       "      <td>3287590.0</td>\n",
       "      <td>424.0</td>\n",
       "      <td>0.97</td>\n",
       "      <td>17.713</td>\n",
       "      <td>2.0</td>\n",
       "    </tr>\n",
       "    <tr>\n",
       "      <th>IDN</th>\n",
       "      <td>Indonesia</td>\n",
       "      <td>2.769394e+08</td>\n",
       "      <td>2.735236e+08</td>\n",
       "      <td>1904569.0</td>\n",
       "      <td>145.0</td>\n",
       "      <td>1.04</td>\n",
       "      <td>3.510</td>\n",
       "      <td>4.0</td>\n",
       "    </tr>\n",
       "    <tr>\n",
       "      <th>PAK</th>\n",
       "      <td>Pakistan</td>\n",
       "      <td>2.251809e+08</td>\n",
       "      <td>2.208923e+08</td>\n",
       "      <td>881912.0</td>\n",
       "      <td>255.0</td>\n",
       "      <td>1.95</td>\n",
       "      <td>2.854</td>\n",
       "      <td>5.0</td>\n",
       "    </tr>\n",
       "    <tr>\n",
       "      <th>BRA</th>\n",
       "      <td>Brazil</td>\n",
       "      <td>2.144981e+08</td>\n",
       "      <td>2.125594e+08</td>\n",
       "      <td>8515767.0</td>\n",
       "      <td>25.0</td>\n",
       "      <td>0.67</td>\n",
       "      <td>2.719</td>\n",
       "      <td>6.0</td>\n",
       "    </tr>\n",
       "  </tbody>\n",
       "</table>\n",
       "</div>"
      ],
      "text/plain": [
       "            country  2021_last_updated  2020_population       area  \\\n",
       "iso_code                                                             \n",
       "CHN           China       1.446901e+09     1.439324e+09  9706961.0   \n",
       "IND           India       1.397396e+09     1.380004e+09  3287590.0   \n",
       "IDN       Indonesia       2.769394e+08     2.735236e+08  1904569.0   \n",
       "PAK        Pakistan       2.251809e+08     2.208923e+08   881912.0   \n",
       "BRA          Brazil       2.144981e+08     2.125594e+08  8515767.0   \n",
       "\n",
       "          density_sq_km  growth_rate  world_%  rank  \n",
       "iso_code                                             \n",
       "CHN               149.0         0.34   18.340   1.0  \n",
       "IND               424.0         0.97   17.713   2.0  \n",
       "IDN               145.0         1.04    3.510   4.0  \n",
       "PAK               255.0         1.95    2.854   5.0  \n",
       "BRA                25.0         0.67    2.719   6.0  "
      ]
     },
     "execution_count": 12,
     "metadata": {},
     "output_type": "execute_result"
    }
   ],
   "source": [
    "population.head()"
   ]
  },
  {
   "cell_type": "code",
   "execution_count": 14,
   "id": "bbdc11e9",
   "metadata": {},
   "outputs": [
    {
     "data": {
      "text/plain": [
       "'http://localhost:51746'"
      ]
     },
     "execution_count": 14,
     "metadata": {},
     "output_type": "execute_result"
    }
   ],
   "source": [
    "session.url"
   ]
  },
  {
   "cell_type": "code",
   "execution_count": 13,
   "id": "713098a3",
   "metadata": {
    "atoti": {
     "widget": {
      "filters": [
       "TopCount(Filter([2021_population_cleaned.csv].[country].Levels(1).Members, NOT IsEmpty([Measures].[area.SUM])), 5, [Measures].[area.SUM])"
      ],
      "mapping": {
       "columns": [
        "ALL_MEASURES"
       ],
       "measures": [
        "[Measures].[area.SUM]"
       ],
       "rows": [
        "[2021_population_cleaned.csv].[country].[country]"
       ]
      },
      "query": {
       "mdx": "SELECT NON EMPTY {[Measures].[area.SUM]} ON COLUMNS, NON EMPTY Order(Hierarchize(Descendants({[2021_population_cleaned.csv].[country].[AllMember]}, 1, SELF_AND_BEFORE)), [Measures].[area.SUM], DESC) ON ROWS FROM [World Population]",
       "updateMode": "once"
      },
      "serverKey": "default",
      "switchedTo": "plotly-stacked-bar-chart",
      "widgetKey": "pivot-table"
     }
    }
   },
   "outputs": [
    {
     "data": {
      "application/vnd.atoti.widget.v0+json": {
       "name": null,
       "session": "Unnamed"
      },
      "text/html": [
       "<img src=\"data:image/svg+xml;charset=utf8,%3C%3Fxml%20version%3D%221.0%22%20standalone%3D%22no%22%3F%3E%3Csvg%20xmlns%3D%22http%3A%2F%2Fwww.w3.org%2F2000%2Fsvg%22%20xmlns%3Axlink%3D%22http%3A%2F%2Fwww.w3.org%2F1999%2Fxlink%22%20height%3D%22348%22%20width%3D%22784%22%20viewBox%3D%220%200%20784%20348%22%3E%3Cdefs%20id%3D%22defs-040323%22%3E%3Cg%20class%3D%22clips%22%3E%3CclipPath%20id%3D%22clip040323xyplot%22%20class%3D%22plotclip%22%3E%3Crect%20width%3D%22588%22%20height%3D%22238%22%2F%3E%3C%2FclipPath%3E%3CclipPath%20class%3D%22axesclip%22%20id%3D%22clip040323x%22%3E%3Crect%20x%3D%2280%22%20y%3D%220%22%20width%3D%22588%22%20height%3D%22348%22%2F%3E%3C%2FclipPath%3E%3CclipPath%20class%3D%22axesclip%22%20id%3D%22clip040323y%22%3E%3Crect%20x%3D%220%22%20y%3D%2230%22%20width%3D%22784%22%20height%3D%22238%22%2F%3E%3C%2FclipPath%3E%3CclipPath%20class%3D%22axesclip%22%20id%3D%22clip040323xy%22%3E%3Crect%20x%3D%2280%22%20y%3D%2230%22%20width%3D%22588%22%20height%3D%22238%22%2F%3E%3C%2FclipPath%3E%3C%2Fg%3E%3Cg%20class%3D%22gradients%22%2F%3E%3C%2Fdefs%3E%3Cg%20class%3D%22bglayer%22%2F%3E%3Cg%20class%3D%22draglayer%20cursor-crosshair%22%3E%3Cg%20class%3D%22xy%22%3E%3Crect%20class%3D%22nsewdrag%20drag%22%20data-subplot%3D%22xy%22%20x%3D%2280%22%20y%3D%2230%22%20width%3D%22588%22%20height%3D%22238%22%20style%3D%22fill%3A%20transparent%3B%20stroke-width%3A%200%3B%20pointer-events%3A%20all%3B%22%2F%3E%3Crect%20class%3D%22nwdrag%20drag%20cursor-nw-resize%22%20data-subplot%3D%22xy%22%20x%3D%2260%22%20y%3D%2210%22%20width%3D%2220%22%20height%3D%2220%22%20style%3D%22fill%3A%20transparent%3B%20stroke-width%3A%200%3B%20pointer-events%3A%20all%3B%22%2F%3E%3Crect%20class%3D%22nedrag%20drag%20cursor-ne-resize%22%20data-subplot%3D%22xy%22%20x%3D%22668%22%20y%3D%2210%22%20width%3D%2220%22%20height%3D%2220%22%20style%3D%22fill%3A%20transparent%3B%20stroke-width%3A%200%3B%20pointer-events%3A%20all%3B%22%2F%3E%3Crect%20class%3D%22swdrag%20drag%20cursor-sw-resize%22%20data-subplot%3D%22xy%22%20x%3D%2260%22%20y%3D%22268%22%20width%3D%2220%22%20height%3D%2220%22%20style%3D%22fill%3A%20transparent%3B%20stroke-width%3A%200%3B%20pointer-events%3A%20all%3B%22%2F%3E%3Crect%20class%3D%22sedrag%20drag%20cursor-se-resize%22%20data-subplot%3D%22xy%22%20x%3D%22668%22%20y%3D%22268%22%20width%3D%2220%22%20height%3D%2220%22%20style%3D%22fill%3A%20transparent%3B%20stroke-width%3A%200%3B%20pointer-events%3A%20all%3B%22%2F%3E%3Crect%20class%3D%22ewdrag%20drag%20cursor-ew-resize%22%20data-subplot%3D%22xy%22%20x%3D%22138.8%22%20y%3D%22268.5%22%20width%3D%22470.40000000000003%22%20height%3D%2220%22%20style%3D%22fill%3A%20transparent%3B%20stroke-width%3A%200%3B%20pointer-events%3A%20all%3B%22%2F%3E%3Crect%20class%3D%22wdrag%20drag%20cursor-w-resize%22%20data-subplot%3D%22xy%22%20x%3D%2280%22%20y%3D%22268.5%22%20width%3D%2258.800000000000004%22%20height%3D%2220%22%20style%3D%22fill%3A%20transparent%3B%20stroke-width%3A%200%3B%20pointer-events%3A%20all%3B%22%2F%3E%3Crect%20class%3D%22edrag%20drag%20cursor-e-resize%22%20data-subplot%3D%22xy%22%20x%3D%22609.2%22%20y%3D%22268.5%22%20width%3D%2258.800000000000004%22%20height%3D%2220%22%20style%3D%22fill%3A%20transparent%3B%20stroke-width%3A%200%3B%20pointer-events%3A%20all%3B%22%2F%3E%3Crect%20class%3D%22nsdrag%20drag%20cursor-ns-resize%22%20data-subplot%3D%22xy%22%20x%3D%2259.5%22%20y%3D%2253.8%22%20width%3D%2220%22%20height%3D%22190.4%22%20style%3D%22fill%3A%20transparent%3B%20stroke-width%3A%200%3B%20pointer-events%3A%20all%3B%22%2F%3E%3Crect%20class%3D%22sdrag%20drag%20cursor-s-resize%22%20data-subplot%3D%22xy%22%20x%3D%2259.5%22%20y%3D%22244.20000000000002%22%20width%3D%2220%22%20height%3D%2223.8%22%20style%3D%22fill%3A%20transparent%3B%20stroke-width%3A%200%3B%20pointer-events%3A%20all%3B%22%2F%3E%3Crect%20class%3D%22ndrag%20drag%20cursor-n-resize%22%20data-subplot%3D%22xy%22%20x%3D%2259.5%22%20y%3D%2230%22%20width%3D%2220%22%20height%3D%2223.8%22%20style%3D%22fill%3A%20transparent%3B%20stroke-width%3A%200%3B%20pointer-events%3A%20all%3B%22%2F%3E%3C%2Fg%3E%3C%2Fg%3E%3Cg%20class%3D%22layer-below%22%3E%3Cg%20class%3D%22imagelayer%22%2F%3E%3Cg%20class%3D%22shapelayer%22%2F%3E%3C%2Fg%3E%3Cg%20class%3D%22cartesianlayer%22%3E%3Cg%20class%3D%22subplot%20xy%22%3E%3Cg%20class%3D%22layer-subplot%22%3E%3Cg%20class%3D%22shapelayer%22%2F%3E%3Cg%20class%3D%22imagelayer%22%2F%3E%3C%2Fg%3E%3Cg%20class%3D%22gridlayer%22%3E%3Cg%20class%3D%22x%22%3E%3Cpath%20class%3D%22xgrid%20crisp%22%20transform%3D%22translate(191.89%2C0)%22%20d%3D%22M0%2C30v238%22%20style%3D%22stroke%3A%20rgb(89%2C%2089%2C%2089)%3B%20stroke-opacity%3A%200.25%3B%20stroke-width%3A%201px%3B%22%2F%3E%3Cpath%20class%3D%22xgrid%20crisp%22%20transform%3D%22translate(303.78%2C0)%22%20d%3D%22M0%2C30v238%22%20style%3D%22stroke%3A%20rgb(89%2C%2089%2C%2089)%3B%20stroke-opacity%3A%200.25%3B%20stroke-width%3A%201px%3B%22%2F%3E%3Cpath%20class%3D%22xgrid%20crisp%22%20transform%3D%22translate(415.67%2C0)%22%20d%3D%22M0%2C30v238%22%20style%3D%22stroke%3A%20rgb(89%2C%2089%2C%2089)%3B%20stroke-opacity%3A%200.25%3B%20stroke-width%3A%201px%3B%22%2F%3E%3Cpath%20class%3D%22xgrid%20crisp%22%20transform%3D%22translate(527.5699999999999%2C0)%22%20d%3D%22M0%2C30v238%22%20style%3D%22stroke%3A%20rgb(89%2C%2089%2C%2089)%3B%20stroke-opacity%3A%200.25%3B%20stroke-width%3A%201px%3B%22%2F%3E%3Cpath%20class%3D%22xgrid%20crisp%22%20transform%3D%22translate(639.46%2C0)%22%20d%3D%22M0%2C30v238%22%20style%3D%22stroke%3A%20rgb(89%2C%2089%2C%2089)%3B%20stroke-opacity%3A%200.25%3B%20stroke-width%3A%201px%3B%22%2F%3E%3C%2Fg%3E%3Cg%20class%3D%22y%22%3E%3Cpath%20class%3D%22ygrid%20crisp%22%20transform%3D%22translate(0%2C244.2)%22%20d%3D%22M80%2C0h588%22%20style%3D%22stroke%3A%20rgb(0%2C%200%2C%200)%3B%20stroke-opacity%3A%200%3B%20stroke-width%3A%201px%3B%22%2F%3E%3Cpath%20class%3D%22ygrid%20crisp%22%20transform%3D%22translate(0%2C196.6)%22%20d%3D%22M80%2C0h588%22%20style%3D%22stroke%3A%20rgb(0%2C%200%2C%200)%3B%20stroke-opacity%3A%200%3B%20stroke-width%3A%201px%3B%22%2F%3E%3Cpath%20class%3D%22ygrid%20crisp%22%20transform%3D%22translate(0%2C149)%22%20d%3D%22M80%2C0h588%22%20style%3D%22stroke%3A%20rgb(0%2C%200%2C%200)%3B%20stroke-opacity%3A%200%3B%20stroke-width%3A%201px%3B%22%2F%3E%3Cpath%20class%3D%22ygrid%20crisp%22%20transform%3D%22translate(0%2C101.4)%22%20d%3D%22M80%2C0h588%22%20style%3D%22stroke%3A%20rgb(0%2C%200%2C%200)%3B%20stroke-opacity%3A%200%3B%20stroke-width%3A%201px%3B%22%2F%3E%3Cpath%20class%3D%22ygrid%20crisp%22%20transform%3D%22translate(0%2C53.8)%22%20d%3D%22M80%2C0h588%22%20style%3D%22stroke%3A%20rgb(0%2C%200%2C%200)%3B%20stroke-opacity%3A%200%3B%20stroke-width%3A%201px%3B%22%2F%3E%3C%2Fg%3E%3C%2Fg%3E%3Cg%20class%3D%22zerolinelayer%22%3E%3Cpath%20class%3D%22xzl%20zl%20crisp%22%20transform%3D%22translate(80%2C0)%22%20d%3D%22M0%2C30v238%22%20style%3D%22stroke%3A%20rgb(89%2C%2089%2C%2089)%3B%20stroke-opacity%3A%200.5%3B%20stroke-width%3A%201px%3B%22%2F%3E%3C%2Fg%3E%3Cpath%20class%3D%22xlines-below%22%2F%3E%3Cpath%20class%3D%22ylines-below%22%2F%3E%3Cg%20class%3D%22overlines-below%22%2F%3E%3Cg%20class%3D%22xaxislayer-below%22%2F%3E%3Cg%20class%3D%22yaxislayer-below%22%2F%3E%3Cg%20class%3D%22overaxes-below%22%2F%3E%3Cg%20class%3D%22plot%22%20transform%3D%22translate(80%2C30)%22%20clip-path%3D%22url('%23clip040323xyplot')%22%3E%3Cg%20class%3D%22barlayer%20mlayer%22%3E%3Cg%20class%3D%22trace%20bars%22%20style%3D%22opacity%3A%201%3B%22%3E%3Cg%20class%3D%22points%22%3E%3Cg%20class%3D%22point%22%3E%3Cpath%20d%3D%22M0%2C233.24V195.16H183.93V233.24Z%22%20style%3D%22vector-effect%3A%20non-scaling-stroke%3B%20opacity%3A%200.2%3B%20stroke-width%3A%200px%3B%20fill%3A%20rgb(78%2C%20121%2C%20167)%3B%20fill-opacity%3A%201%3B%22%2F%3E%3C%2Fg%3E%3Cg%20class%3D%22point%22%3E%3Cpath%20d%3D%22M0%2C185.64V147.56H430.34V185.64Z%22%20style%3D%22vector-effect%3A%20non-scaling-stroke%3B%20opacity%3A%200.2%3B%20stroke-width%3A%200px%3B%20fill%3A%20rgb(78%2C%20121%2C%20167)%3B%20fill-opacity%3A%201%3B%22%2F%3E%3C%2Fg%3E%3Cg%20class%3D%22point%22%3E%3Cpath%20d%3D%22M0%2C138.04V99.96H476.42V138.04Z%22%20style%3D%22vector-effect%3A%20non-scaling-stroke%3B%20opacity%3A%200.2%3B%20stroke-width%3A%200px%3B%20fill%3A%20rgb(78%2C%20121%2C%20167)%3B%20fill-opacity%3A%201%3B%22%2F%3E%3C%2Fg%3E%3Cg%20class%3D%22point%22%3E%3Cpath%20d%3D%22M0%2C90.44V52.36H543.06V90.44Z%22%20style%3D%22vector-effect%3A%20non-scaling-stroke%3B%20opacity%3A%200.2%3B%20stroke-width%3A%200px%3B%20fill%3A%20rgb(78%2C%20121%2C%20167)%3B%20fill-opacity%3A%201%3B%22%2F%3E%3C%2Fg%3E%3Cg%20class%3D%22point%22%3E%3Cpath%20d%3D%22M0%2C42.84V4.76H558.6V42.84Z%22%20style%3D%22vector-effect%3A%20non-scaling-stroke%3B%20opacity%3A%201%3B%20stroke-width%3A%200px%3B%20fill%3A%20rgb(78%2C%20121%2C%20167)%3B%20fill-opacity%3A%201%3B%22%2F%3E%3C%2Fg%3E%3C%2Fg%3E%3C%2Fg%3E%3C%2Fg%3E%3C%2Fg%3E%3Cg%20class%3D%22overplot%22%2F%3E%3Cpath%20class%3D%22xlines-above%20crisp%22%20d%3D%22M79%2C268.5H668%22%20style%3D%22fill%3A%20none%3B%20stroke-width%3A%201px%3B%20stroke%3A%20rgb(89%2C%2089%2C%2089)%3B%20stroke-opacity%3A%200.25%3B%22%2F%3E%3Cpath%20class%3D%22ylines-above%20crisp%22%20d%3D%22M79.5%2C30V268%22%20style%3D%22fill%3A%20none%3B%20stroke-width%3A%201px%3B%20stroke%3A%20rgb(89%2C%2089%2C%2089)%3B%20stroke-opacity%3A%200.25%3B%22%2F%3E%3Cg%20class%3D%22overlines-above%22%2F%3E%3Cg%20class%3D%22xaxislayer-above%22%3E%3Cg%20class%3D%22xtick%22%3E%3Ctext%20text-anchor%3D%22middle%22%20x%3D%220%22%20y%3D%22283.4%22%20data-unformatted%3D%220%22%20data-math%3D%22N%22%20transform%3D%22translate(80%2C0)%22%20style%3D%22font-family%3A%20%26quot%3BOpen%20Sans%26quot%3B%2C%20verdana%2C%20arial%2C%20sans-serif%3B%20font-size%3A%2012px%3B%20fill%3A%20rgb(89%2C%2089%2C%2089)%3B%20fill-opacity%3A%201%3B%20white-space%3A%20pre%3B%22%3E0%3C%2Ftext%3E%3C%2Fg%3E%3Cg%20class%3D%22xtick%22%3E%3Ctext%20text-anchor%3D%22middle%22%20x%3D%220%22%20y%3D%22283.4%22%20data-unformatted%3D%222M%22%20data-math%3D%22N%22%20transform%3D%22translate(191.89%2C0)%22%20style%3D%22font-family%3A%20%26quot%3BOpen%20Sans%26quot%3B%2C%20verdana%2C%20arial%2C%20sans-serif%3B%20font-size%3A%2012px%3B%20fill%3A%20rgb(89%2C%2089%2C%2089)%3B%20fill-opacity%3A%201%3B%20white-space%3A%20pre%3B%22%3E2M%3C%2Ftext%3E%3C%2Fg%3E%3Cg%20class%3D%22xtick%22%3E%3Ctext%20text-anchor%3D%22middle%22%20x%3D%220%22%20y%3D%22283.4%22%20data-unformatted%3D%224M%22%20data-math%3D%22N%22%20transform%3D%22translate(303.78%2C0)%22%20style%3D%22font-family%3A%20%26quot%3BOpen%20Sans%26quot%3B%2C%20verdana%2C%20arial%2C%20sans-serif%3B%20font-size%3A%2012px%3B%20fill%3A%20rgb(89%2C%2089%2C%2089)%3B%20fill-opacity%3A%201%3B%20white-space%3A%20pre%3B%22%3E4M%3C%2Ftext%3E%3C%2Fg%3E%3Cg%20class%3D%22xtick%22%3E%3Ctext%20text-anchor%3D%22middle%22%20x%3D%220%22%20y%3D%22283.4%22%20data-unformatted%3D%226M%22%20data-math%3D%22N%22%20transform%3D%22translate(415.67%2C0)%22%20style%3D%22font-family%3A%20%26quot%3BOpen%20Sans%26quot%3B%2C%20verdana%2C%20arial%2C%20sans-serif%3B%20font-size%3A%2012px%3B%20fill%3A%20rgb(89%2C%2089%2C%2089)%3B%20fill-opacity%3A%201%3B%20white-space%3A%20pre%3B%22%3E6M%3C%2Ftext%3E%3C%2Fg%3E%3Cg%20class%3D%22xtick%22%3E%3Ctext%20text-anchor%3D%22middle%22%20x%3D%220%22%20y%3D%22283.4%22%20data-unformatted%3D%228M%22%20data-math%3D%22N%22%20transform%3D%22translate(527.5699999999999%2C0)%22%20style%3D%22font-family%3A%20%26quot%3BOpen%20Sans%26quot%3B%2C%20verdana%2C%20arial%2C%20sans-serif%3B%20font-size%3A%2012px%3B%20fill%3A%20rgb(89%2C%2089%2C%2089)%3B%20fill-opacity%3A%201%3B%20white-space%3A%20pre%3B%22%3E8M%3C%2Ftext%3E%3C%2Fg%3E%3Cg%20class%3D%22xtick%22%3E%3Ctext%20text-anchor%3D%22middle%22%20x%3D%220%22%20y%3D%22283.4%22%20data-unformatted%3D%2210M%22%20data-math%3D%22N%22%20transform%3D%22translate(639.46%2C0)%22%20style%3D%22font-family%3A%20%26quot%3BOpen%20Sans%26quot%3B%2C%20verdana%2C%20arial%2C%20sans-serif%3B%20font-size%3A%2012px%3B%20fill%3A%20rgb(89%2C%2089%2C%2089)%3B%20fill-opacity%3A%201%3B%20white-space%3A%20pre%3B%22%3E10M%3C%2Ftext%3E%3C%2Fg%3E%3C%2Fg%3E%3Cg%20class%3D%22yaxislayer-above%22%3E%3Cg%20class%3D%22ytick%22%3E%3Ctext%20text-anchor%3D%22end%22%20x%3D%2276.6%22%20y%3D%224.199999999999999%22%20data-unformatted%3D%22India%22%20data-math%3D%22N%22%20transform%3D%22translate(0%2C244.2)%22%20style%3D%22font-family%3A%20%26quot%3BOpen%20Sans%26quot%3B%2C%20verdana%2C%20arial%2C%20sans-serif%3B%20font-size%3A%2012px%3B%20fill%3A%20rgb(89%2C%2089%2C%2089)%3B%20fill-opacity%3A%201%3B%20white-space%3A%20pre%3B%22%3EIndia%3C%2Ftext%3E%3C%2Fg%3E%3Cg%20class%3D%22ytick%22%3E%3Ctext%20text-anchor%3D%22end%22%20x%3D%2276.6%22%20y%3D%224.199999999999999%22%20data-unformatted%3D%22Australia%22%20data-math%3D%22N%22%20transform%3D%22translate(0%2C196.6)%22%20style%3D%22font-family%3A%20%26quot%3BOpen%20Sans%26quot%3B%2C%20verdana%2C%20arial%2C%20sans-serif%3B%20font-size%3A%2012px%3B%20fill%3A%20rgb(89%2C%2089%2C%2089)%3B%20fill-opacity%3A%201%3B%20white-space%3A%20pre%3B%22%3EAustralia%3C%2Ftext%3E%3C%2Fg%3E%3Cg%20class%3D%22ytick%22%3E%3Ctext%20text-anchor%3D%22end%22%20x%3D%2276.6%22%20y%3D%224.199999999999999%22%20data-unformatted%3D%22Brazil%22%20data-math%3D%22N%22%20transform%3D%22translate(0%2C149)%22%20style%3D%22font-family%3A%20%26quot%3BOpen%20Sans%26quot%3B%2C%20verdana%2C%20arial%2C%20sans-serif%3B%20font-size%3A%2012px%3B%20fill%3A%20rgb(89%2C%2089%2C%2089)%3B%20fill-opacity%3A%201%3B%20white-space%3A%20pre%3B%22%3EBrazil%3C%2Ftext%3E%3C%2Fg%3E%3Cg%20class%3D%22ytick%22%3E%3Ctext%20text-anchor%3D%22end%22%20x%3D%2276.6%22%20y%3D%224.199999999999999%22%20data-unformatted%3D%22China%22%20data-math%3D%22N%22%20transform%3D%22translate(0%2C101.4)%22%20style%3D%22font-family%3A%20%26quot%3BOpen%20Sans%26quot%3B%2C%20verdana%2C%20arial%2C%20sans-serif%3B%20font-size%3A%2012px%3B%20fill%3A%20rgb(89%2C%2089%2C%2089)%3B%20fill-opacity%3A%201%3B%20white-space%3A%20pre%3B%22%3EChina%3C%2Ftext%3E%3C%2Fg%3E%3Cg%20class%3D%22ytick%22%3E%3Ctext%20text-anchor%3D%22end%22%20x%3D%2276.6%22%20y%3D%224.199999999999999%22%20data-unformatted%3D%22Canada%22%20data-math%3D%22N%22%20transform%3D%22translate(0%2C53.8)%22%20style%3D%22font-family%3A%20%26quot%3BOpen%20Sans%26quot%3B%2C%20verdana%2C%20arial%2C%20sans-serif%3B%20font-size%3A%2012px%3B%20fill%3A%20rgb(89%2C%2089%2C%2089)%3B%20fill-opacity%3A%201%3B%20white-space%3A%20pre%3B%22%3ECanada%3C%2Ftext%3E%3C%2Fg%3E%3C%2Fg%3E%3Cg%20class%3D%22overaxes-above%22%2F%3E%3C%2Fg%3E%3C%2Fg%3E%3Cg%20class%3D%22polarlayer%22%2F%3E%3Cg%20class%3D%22ternarylayer%22%2F%3E%3Cg%20class%3D%22geolayer%22%2F%3E%3Cg%20class%3D%22funnelarealayer%22%2F%3E%3Cg%20class%3D%22pielayer%22%2F%3E%3Cg%20class%3D%22treemaplayer%22%2F%3E%3Cg%20class%3D%22sunburstlayer%22%2F%3E%3Cg%20class%3D%22glimages%22%2F%3E%3Cdefs%20id%3D%22topdefs-040323%22%3E%3Cg%20class%3D%22clips%22%2F%3E%3CclipPath%20id%3D%22legend040323%22%3E%3Crect%20width%3D%22104%22%20height%3D%2229%22%20x%3D%220%22%20y%3D%220%22%2F%3E%3C%2FclipPath%3E%3C%2Fdefs%3E%3Cg%20class%3D%22indicatorlayer%22%2F%3E%3Cg%20class%3D%22layer-above%22%3E%3Cg%20class%3D%22imagelayer%22%2F%3E%3Cg%20class%3D%22shapelayer%22%2F%3E%3C%2Fg%3E%3Cg%20class%3D%22infolayer%22%3E%3Cg%20class%3D%22legend%22%20pointer-events%3D%22all%22%20transform%3D%22translate(679.76%2C30)%22%3E%3Crect%20class%3D%22bg%22%20shape-rendering%3D%22crispEdges%22%20style%3D%22stroke%3A%20rgb(68%2C%2068%2C%2068)%3B%20stroke-opacity%3A%201%3B%20fill%3A%20rgb(255%2C%20255%2C%20255)%3B%20fill-opacity%3A%201%3B%20stroke-width%3A%200px%3B%22%20width%3D%22104%22%20height%3D%2229%22%20x%3D%220%22%20y%3D%220%22%2F%3E%3Cg%20class%3D%22scrollbox%22%20transform%3D%22%22%20clip-path%3D%22url('%23legend040323')%22%3E%3Cg%20class%3D%22groups%22%20transform%3D%22%22%3E%3Cg%20class%3D%22traces%22%20transform%3D%22translate(0%2C14.5)%22%20style%3D%22opacity%3A%201%3B%22%3E%3Ctext%20class%3D%22legendtext%22%20text-anchor%3D%22start%22%20x%3D%2240%22%20y%3D%224.680000000000001%22%20data-unformatted%3D%22area.SUM%22%20data-math%3D%22N%22%20style%3D%22font-family%3A%20%26quot%3BOpen%20Sans%26quot%3B%2C%20verdana%2C%20arial%2C%20sans-serif%3B%20font-size%3A%2012px%3B%20fill%3A%20rgb(89%2C%2089%2C%2089)%3B%20fill-opacity%3A%201%3B%20white-space%3A%20pre%3B%22%3Earea.SUM%3C%2Ftext%3E%3Cg%20class%3D%22layers%22%20style%3D%22opacity%3A%201%3B%22%3E%3Cg%20class%3D%22legendfill%22%2F%3E%3Cg%20class%3D%22legendlines%22%2F%3E%3Cg%20class%3D%22legendsymbols%22%3E%3Cg%20class%3D%22legendpoints%22%3E%3Cpath%20class%3D%22legendundefined%22%20d%3D%22M6%2C6H-6V-6H6Z%22%20transform%3D%22translate(20%2C0)%22%20style%3D%22stroke-width%3A%200px%3B%20fill%3A%20rgb(78%2C%20121%2C%20167)%3B%20fill-opacity%3A%201%3B%22%2F%3E%3C%2Fg%3E%3C%2Fg%3E%3C%2Fg%3E%3Crect%20class%3D%22legendtoggle%22%20pointer-events%3D%22all%22%20x%3D%220%22%20y%3D%22-9.5%22%20width%3D%2298.15625%22%20height%3D%2219%22%20style%3D%22cursor%3A%20pointer%3B%20fill%3A%20rgb(0%2C%200%2C%200)%3B%20fill-opacity%3A%200%3B%22%2F%3E%3C%2Fg%3E%3C%2Fg%3E%3C%2Fg%3E%3Crect%20class%3D%22scrollbar%22%20rx%3D%2220%22%20ry%3D%223%22%20width%3D%220%22%20height%3D%220%22%20style%3D%22fill%3A%20rgb(128%2C%20139%2C%20164)%3B%20fill-opacity%3A%201%3B%22%20x%3D%220%22%20y%3D%220%22%2F%3E%3C%2Fg%3E%3Cg%20class%3D%22g-gtitle%22%2F%3E%3Cg%20class%3D%22g-xtitle%22%2F%3E%3Cg%20class%3D%22g-ytitle%22%2F%3E%3C%2Fg%3E%3Cg%20class%3D%22menulayer%22%2F%3E%3Cg%20class%3D%22zoomlayer%22%2F%3E%3Cg%20class%3D%22hoverlayer%22%2F%3E%3C%2Fsvg%3E\">"
      ],
      "text/plain": [
       "Open the notebook in JupyterLab with the atoti extension installed and enabled to start editing this widget."
      ]
     },
     "metadata": {},
     "output_type": "display_data"
    }
   ],
   "source": [
    "session.visualize()"
   ]
  },
  {
   "cell_type": "code",
   "execution_count": null,
   "id": "b9f2aba3",
   "metadata": {},
   "outputs": [],
   "source": [
    "m[\"latitude\"] = tt.agg.mean(coordinates[\"latitude\"])\n",
    "m[\"longitude\"] = tt.agg.mean(coordinates[\"longitude\"])"
   ]
  },
  {
   "cell_type": "code",
   "execution_count": null,
   "id": "1b52103e",
   "metadata": {
    "atoti": {
     "height": 590,
     "widget": {
      "mapping": {
       "color": [
        "[2021_population_cleaned.csv].[country].[country]"
       ],
       "horizontalSubplots": [],
       "size": [
        "[Measures].[2021_last_updated.SUM]"
       ],
       "splitBy": [],
       "verticalSubplots": [],
       "xValues": [
        "[Measures].[longitude]"
       ],
       "yValues": [
        "[Measures].[latitude]"
       ]
      },
      "query": {
       "mdx": "SELECT NON EMPTY {[Measures].[longitude], [Measures].[latitude], [Measures].[2021_last_updated.SUM]} ON COLUMNS, NON EMPTY Hierarchize(Descendants({[2021_population_cleaned.csv].[country].[AllMember]}, 1, SELF_AND_BEFORE)) ON ROWS FROM [World Population2]",
       "updateMode": "once"
      },
      "serverKey": "default",
      "widgetKey": "plotly-scatter-plot"
     }
    }
   },
   "outputs": [],
   "source": [
    "session.visualize()"
   ]
  },
  {
   "cell_type": "code",
   "execution_count": null,
   "id": "763ab381",
   "metadata": {},
   "outputs": [],
   "source": [
    "m[\"Years forecast\"] = 0\n",
    "m[\"Population adjustment\"] = 1.00\n",
    "m[\"Population adjustment\"].formatter = \"DOUBLE[0.0000]\""
   ]
  },
  {
   "cell_type": "markdown",
   "id": "95e41284",
   "metadata": {},
   "source": [
    "Note the initial value assigned to `Population adjustment` is a double.  \n",
    "We need it to be a `double` for percentage adjustment of the population.  "
   ]
  },
  {
   "cell_type": "code",
   "execution_count": null,
   "id": "7fe7df74",
   "metadata": {},
   "outputs": [],
   "source": [
    "m[\"Population adjustment\"].data_type"
   ]
  },
  {
   "cell_type": "markdown",
   "id": "1673bc78",
   "metadata": {},
   "source": [
    "We apply the growth rate to the population size of the previous year to get the increase in population size.  \n",
    "The below formula takes care of the incremental growth from 2021."
   ]
  },
  {
   "cell_type": "code",
   "execution_count": null,
   "id": "1e5fe3e7",
   "metadata": {},
   "outputs": [],
   "source": [
    "# (population) * growth rate exp by number of years forecast\n",
    "m[\"population\"] = tt.math.ceil(\n",
    "    (m[\"2021_last_updated.MEAN\"] * m[\"Population adjustment\"])\n",
    "    * ((1 + m[\"growth_rate.MEAN\"]) ** m[\"Years forecast\"])\n",
    ")"
   ]
  },
  {
   "cell_type": "code",
   "execution_count": null,
   "id": "044174d4",
   "metadata": {},
   "outputs": [],
   "source": [
    "m[\"increments\"] = tt.where(\n",
    "    m[\"Years forecast\"] == 0,\n",
    "    m[\"population\"],\n",
    "    m[\"population\"]\n",
    "    - tt.math.ceil(\n",
    "        (m[\"2021_last_updated.MEAN\"] * m[\"Population adjustment\"])\n",
    "        * ((1 + m[\"growth_rate.MEAN\"]) ** (m[\"Years forecast\"] - 1))\n",
    "    ),\n",
    ")"
   ]
  },
  {
   "cell_type": "markdown",
   "id": "f502c5db",
   "metadata": {},
   "source": [
    "Instead of using the static ranking from the data source, we will compute the population ranking using atoti."
   ]
  },
  {
   "cell_type": "code",
   "execution_count": null,
   "id": "a852e2c7",
   "metadata": {},
   "outputs": [],
   "source": [
    "m[\"rank\"] = tt.where(\n",
    "    l[\"country\"] != None, tt.rank(m[\"population\"], h[\"country\"], ascending=False)\n",
    ")"
   ]
  },
  {
   "cell_type": "code",
   "execution_count": null,
   "id": "df44aac2",
   "metadata": {
    "atoti": {
     "widget": {
      "columnWidths": {
       "[Measures].[rank]": 60.33749389648435
      },
      "mapping": {
       "columns": [
        "ALL_MEASURES"
       ],
       "measures": [
        "[Measures].[rank]",
        "[Measures].[population]",
        "[Measures].[world_%.MEAN]",
        "[Measures].[density_sq_km.MEAN]",
        "[Measures].[growth_rate.MEAN]",
        "[Measures].[area.MEAN]"
       ],
       "rows": [
        "[2021_population_cleaned].[country].[country]"
       ]
      },
      "query": {
       "mdx": "SELECT NON EMPTY {[Measures].[rank], [Measures].[population], [Measures].[world_%.MEAN], [Measures].[density_sq_km.MEAN], [Measures].[growth_rate.MEAN], [Measures].[area.MEAN]} ON COLUMNS, NON EMPTY Order(Hierarchize(Descendants({[2021_population_cleaned].[country].[AllMember]}, 1, SELF_AND_BEFORE)), [Measures].[rank], ASC) ON ROWS FROM [World Population]",
       "updateMode": "once"
      },
      "serverKey": "default",
      "widgetKey": "pivot-table"
     }
    }
   },
   "outputs": [],
   "source": [
    "session.visualize(\"2021 population ranking\")"
   ]
  },
  {
   "cell_type": "code",
   "execution_count": null,
   "id": "3211e455",
   "metadata": {
    "atoti": {
     "height": 455,
     "widget": {
      "filters": [
       "TopCount(Filter([2021_population_cleaned].[country].Levels(1).Members, NOT IsEmpty([Measures].[population])), 10, [Measures].[population])"
      ],
      "isTextVisible": true,
      "mapping": {
       "horizontalSubplots": [],
       "splitBy": [
        "ALL_MEASURES"
       ],
       "values": [
        "[Measures].[population]"
       ],
       "verticalSubplots": [],
       "xAxis": [
        "[2021_population_cleaned].[country].[country]"
       ]
      },
      "plotly": {
       "data": {
        "commonTraceOverride": {
         "textposition": "outside"
        }
       },
       "layout": {
        "xaxis": {
         "title": "Country"
        },
        "yaxis": {
         "title": "Population"
        }
       }
      },
      "query": {
       "mdx": "SELECT NON EMPTY Order(Hierarchize(Descendants({[2021_population_cleaned].[country].[AllMember]}, 1, SELF_AND_BEFORE)), [Measures].[population], BDESC) ON ROWS, NON EMPTY {[Measures].[population]} ON COLUMNS FROM [World Population]",
       "updateMode": "once"
      },
      "serverKey": "default",
      "widgetKey": "plotly-clustered-column-chart"
     }
    }
   },
   "outputs": [],
   "source": [
    "session.visualize(\"Top 10 most populated countries\")"
   ]
  },
  {
   "cell_type": "markdown",
   "id": "49a10f28",
   "metadata": {},
   "source": [
    "## Population growth forecast based on growth rate\n",
    "\n",
    "Below is how you can setup a measure simulation with atoti.  \n",
    "This allows you to replace the value of the measure `Years forecast` and see its downstream impact.  \n",
    "We will name the original dataset as __2021__ using the `base_scenario` parameter. "
   ]
  },
  {
   "cell_type": "code",
   "execution_count": null,
   "id": "ca7b510b",
   "metadata": {},
   "outputs": [],
   "source": [
    "population_simulation = cube.setup_simulation(\n",
    "    \"Population simulation\",\n",
    "    replace=[m[\"Years forecast\"]],\n",
    "    base_scenario=\"2021\",\n",
    ").scenarios"
   ]
  },
  {
   "cell_type": "markdown",
   "id": "eb13bcda",
   "metadata": {},
   "source": [
    "#### Compute the population size based on number of years from 2021  \n",
    "\n",
    "`population_simulation` contains the list of scenarios.  \n",
    "We will use the year to label the scenarios. We assign the number of years to forecast from 2021 to the scenarios."
   ]
  },
  {
   "cell_type": "code",
   "execution_count": null,
   "id": "5139d9a8",
   "metadata": {},
   "outputs": [],
   "source": [
    "population_simulation[\"2022\"] = 1"
   ]
  },
  {
   "cell_type": "code",
   "execution_count": null,
   "id": "55d2d8c5",
   "metadata": {},
   "outputs": [],
   "source": [
    "population_simulation[\"2023\"] = 2"
   ]
  },
  {
   "cell_type": "code",
   "execution_count": null,
   "id": "e2b51210",
   "metadata": {},
   "outputs": [],
   "source": [
    "population_simulation[\"2024\"] = 3"
   ]
  },
  {
   "cell_type": "code",
   "execution_count": null,
   "id": "30a8f55a",
   "metadata": {
    "atoti": {
     "widget": {
      "mapping": {
       "horizontalSubplots": [],
       "values": [
        "[Measures].[increments]"
       ],
       "verticalSubplots": [],
       "xAxis": [
        "[Measure Simulations].[Population simulation].[Population simulation]"
       ]
      },
      "plotly": {
       "layout": {
        "tickformat": "0f",
        "xaxis": {
         "dtick": 1
        }
       }
      },
      "query": {
       "mdx": "SELECT NON EMPTY [Measure Simulations].[Population simulation].[Population simulation].Members ON ROWS, NON EMPTY {[Measures].[increments]} ON COLUMNS FROM [World Population]",
       "updateMode": "once"
      },
      "serverKey": "default",
      "widgetKey": "plotly-waterfall-chart"
     }
    }
   },
   "outputs": [],
   "source": [
    "session.visualize(\"World population\")"
   ]
  },
  {
   "cell_type": "markdown",
   "id": "7037f48f",
   "metadata": {},
   "source": [
    "We can see that India took over China as the world's largest population by 2022.  \n",
    "But what is most surprising is the growth of Nigeria and Pakistan."
   ]
  },
  {
   "cell_type": "code",
   "execution_count": null,
   "id": "7a5cb629",
   "metadata": {
    "atoti": {
     "widget": {
      "filters": [
       "TopCount(Filter([2021_population_cleaned].[country].Levels(1).Members, NOT IsEmpty([Measures].[population])), 10, [Measures].[population])"
      ],
      "mapping": {
       "horizontalSubplots": [],
       "splitBy": [
        "ALL_MEASURES",
        "[2021_population_cleaned].[country].[country]"
       ],
       "values": [
        "[Measures].[population]"
       ],
       "verticalSubplots": [],
       "xAxis": [
        "[Measure Simulations].[Population simulation].[Population simulation]"
       ]
      },
      "plotly": {
       "layout": {
        "xaxis": {
         "dtick": 1
        }
       }
      },
      "query": {
       "mdx": "SELECT NON EMPTY Crossjoin(Hierarchize(Descendants({[2021_population_cleaned].[country].[AllMember]}, 1, SELF_AND_BEFORE)), {[Measures].[population]}) ON COLUMNS, NON EMPTY [Measure Simulations].[Population simulation].[Population simulation].Members ON ROWS FROM [World Population]",
       "updateMode": "once"
      },
      "serverKey": "default",
      "widgetKey": "plotly-area-chart"
     }
    }
   },
   "outputs": [],
   "source": [
    "session.visualize(\"World population growth forecast\")"
   ]
  },
  {
   "cell_type": "markdown",
   "id": "5cd16ff7",
   "metadata": {},
   "source": [
    "### Simulate population adjustment due to Covid-19\n",
    "\n",
    "The above simulation is based on the current growth rate. However, events such as Covid-19 can affect the population size and its growth rate.   \n",
    "\n",
    "We will setup the simulation that allows us to perform this adjustments at the country level."
   ]
  },
  {
   "cell_type": "code",
   "execution_count": null,
   "id": "f65e2655",
   "metadata": {},
   "outputs": [],
   "source": [
    "covid_simulation = cube.setup_simulation(\n",
    "    \"Covid Population Adjustment\",\n",
    "    replace=[m[\"Population adjustment\"], m[\"growth_rate.MEAN\"]],\n",
    "    base_scenario=\"Normal growth\",\n",
    "    levels=[l[\"country\"]],\n",
    ")"
   ]
  },
  {
   "cell_type": "markdown",
   "id": "16b36892",
   "metadata": {},
   "source": [
    "Using the death count for China, India and US from the [WHO](https://covid19.who.int/table), we come up with the below population adjustment. Also, we are just going to round down the growth rate."
   ]
  },
  {
   "cell_type": "code",
   "execution_count": null,
   "id": "d901428f",
   "metadata": {},
   "outputs": [],
   "source": [
    "covid_growth_adjustment = covid_simulation.scenarios[\"2021-COVID\"]\n",
    "covid_growth_adjustment += (\"China\", 0.9999, 0.3)\n",
    "covid_growth_adjustment += (\"India\", 0.9815, 0.9)\n",
    "covid_growth_adjustment += (\"United States\", 0.9982, 0.5)"
   ]
  },
  {
   "cell_type": "markdown",
   "id": "11c04eef",
   "metadata": {},
   "source": [
    "We are able to combine the two simulations above to see how the population size will evolve over the next 3 years as a result of Coivd-19."
   ]
  },
  {
   "cell_type": "code",
   "execution_count": null,
   "id": "9f8e7d05",
   "metadata": {
    "atoti": {
     "widget": {
      "filters": [
       "TopCount(Filter([2021_population_cleaned].[country].Levels(1).Members, NOT IsEmpty([Measures].[population])), 5, [Measures].[population])"
      ],
      "isTextVisible": true,
      "mapping": {
       "horizontalSubplots": [
        "[2021_population_cleaned].[country].[country]"
       ],
       "splitBy": [
        "ALL_MEASURES",
        "[Measure Simulations].[Covid Population Adjustment].[Covid Population Adjustment]"
       ],
       "values": [
        "[Measures].[population]"
       ],
       "verticalSubplots": [],
       "yAxis": [
        "[Measure Simulations].[Population simulation].[Population simulation]"
       ]
      },
      "plotly": {
       "layout": {
        "tickformat": "0f",
        "yaxis": {
         "dtick": 1
        }
       }
      },
      "query": {
       "mdx": "SELECT NON EMPTY [Measure Simulations].[Population simulation].[Population simulation].Members ON ROWS, NON EMPTY Crossjoin({[Measures].[population]}, [Measure Simulations].[Covid Population Adjustment].[Covid Population Adjustment].Members, Hierarchize(Descendants({[2021_population_cleaned].[country].[AllMember]}, 1, SELF_AND_BEFORE))) ON COLUMNS FROM [World Population]",
       "updateMode": "once"
      },
      "serverKey": "default",
      "widgetKey": "plotly-clustered-bar-chart"
     }
    }
   },
   "outputs": [],
   "source": [
    "session.visualize(\"Impact on country growth by Covid-19\")"
   ]
  },
  {
   "cell_type": "markdown",
   "id": "77a7d50e",
   "metadata": {},
   "source": [
    "Check out the dashboard that we have prepared."
   ]
  },
  {
   "cell_type": "code",
   "execution_count": null,
   "id": "3fde470b",
   "metadata": {},
   "outputs": [],
   "source": [
    "session.url + \"/#/dashboard/2e7\""
   ]
  },
  {
   "cell_type": "markdown",
   "id": "2a5146ea",
   "metadata": {},
   "source": [
    "<div style=\"text-align: center;\"><a href=\"https://www.atoti.io/?utm_source=gallery&utm_content=world-population\" target=\"_blank\"><img src=\"https://data.atoti.io/notebooks/banners/discover-try.png\" alt=\"Try atoti\"></a></div>"
   ]
  }
 ],
 "metadata": {
  "atoti": {
   "widget": {
    "mapping": {
     "columns": [
      "[Measure Simulations].[Population simulation].[Population simulation]",
      "ALL_MEASURES"
     ],
     "measures": [
      "[Measures].[population]",
      "[Measures].[rank (1)]"
     ],
     "rows": [
      "[2021_population_cleaned].[country].[country]"
     ]
    },
    "query": {
     "mdx": "WITH  Member [Measures].[rank (1)] AS [Measures].[rank], BACK_COLOR = CASE WHEN [Measures].[rank (1)] = 1 THEN rgb(255, 153, 153) WHEN [Measures].[rank (1)] = 2 THEN rgb(255, 229, 204) WHEN [Measures].[rank (1)] = 3 THEN rgb(255, 255, 204) END, CAPTION = [Measures].[rank].MEMBER_CAPTION  SELECT NON EMPTY Order(Hierarchize(Descendants({[2021_population_cleaned].[country].[AllMember]}, 1, SELF_AND_BEFORE)), [Measures].[rank (1)], ASC) ON ROWS, NON EMPTY Crossjoin([Measure Simulations].[Population simulation].[Population simulation].Members, {[Measures].[population], [Measures].[rank (1)]}) ON COLUMNS FROM [World Population] CELL PROPERTIES BACK_COLOR, FONT_FLAGS, FORE_COLOR, FORMATTED_VALUE, VALUE",
     "updateMode": "once"
    },
    "serverKey": "default",
    "widgetKey": "pivot-table"
   }
  },
  "kernelspec": {
   "display_name": "Python 3",
   "language": "python",
   "name": "python3"
  },
  "language_info": {
   "codemirror_mode": {
    "name": "ipython",
    "version": 3
   },
   "file_extension": ".py",
   "mimetype": "text/x-python",
   "name": "python",
   "nbconvert_exporter": "python",
   "pygments_lexer": "ipython3",
   "version": "3.9.4"
  }
 },
 "nbformat": 4,
 "nbformat_minor": 5
}
