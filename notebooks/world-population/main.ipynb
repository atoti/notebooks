{
 "cells": [
  {
   "cell_type": "markdown",
   "id": "cf3ee483",
   "metadata": {},
   "source": [
    "# World Population Growth Simulation\n",
    "\n",
    "In this notebook, we used the [world population](https://www.kaggle.com/rsrishav/world-population) dataset from [Kaggle](https://www.kaggle.com/) to perform simple forecast of the world's population.\n",
    "\n",
    "Using atoti, we will simulate the population of each country for the next 3 years, assuming the growth rate remains the same.  \n",
    "Let's see who will overtake China as the world's largest population and how soon that will happen.  \n",
    "\n",
    "<div style=\"text-align: center;\" ><a href=\"https://www.atoti.io/?utm_source=gallery&utm_content=world-population\" target=\"_blank\"><img src=\"https://data.atoti.io/notebooks/banners/discover.png\" alt=\"Try atoti\"></a></div>"
   ]
  },
  {
   "cell_type": "markdown",
   "id": "bad0dcec",
   "metadata": {},
   "source": [
    "### Creating atoti datacube\n",
    "\n",
    "Let's start by importing the libraries."
   ]
  },
  {
   "cell_type": "code",
   "execution_count": 1,
   "id": "3819eb4f",
   "metadata": {},
   "outputs": [],
   "source": [
    "import atoti as tt\n",
    "from atoti.config import create_config"
   ]
  },
  {
   "cell_type": "markdown",
   "id": "070913d4",
   "metadata": {},
   "source": [
    "#### Persisting the dashboards\n",
    "\n",
    "We can create dashboards in atoti's web application.  \n",
    "However, in order to persist the dashboards, we have to setup the [configuration](https://docs.atoti.io/latest/lib/atoti.config.html#atoti.config.create_config) to store them in the H2 database.  "
   ]
  },
  {
   "cell_type": "code",
   "execution_count": 2,
   "id": "6b70534d",
   "metadata": {},
   "outputs": [],
   "source": [
    "config = create_config(metadata_db=\"./metadata.db\")\n",
    "session = tt.create_session(config=config)"
   ]
  },
  {
   "cell_type": "markdown",
   "id": "853c4edf",
   "metadata": {},
   "source": [
    "We have done some data cleaning on the data to convert some of the columns into numerical columns.  \n",
    "We can define the type of these numerical columns as `double`. They will be automatically converted into `measures`."
   ]
  },
  {
   "cell_type": "code",
   "execution_count": 3,
   "id": "5851a4bc",
   "metadata": {},
   "outputs": [
    {
     "data": {
      "text/html": [
       "<div>\n",
       "<style scoped>\n",
       "    .dataframe tbody tr th:only-of-type {\n",
       "        vertical-align: middle;\n",
       "    }\n",
       "\n",
       "    .dataframe tbody tr th {\n",
       "        vertical-align: top;\n",
       "    }\n",
       "\n",
       "    .dataframe thead th {\n",
       "        text-align: right;\n",
       "    }\n",
       "</style>\n",
       "<table border=\"1\" class=\"dataframe\">\n",
       "  <thead>\n",
       "    <tr style=\"text-align: right;\">\n",
       "      <th></th>\n",
       "      <th>country</th>\n",
       "      <th>2021_last_updated</th>\n",
       "      <th>2020_population</th>\n",
       "      <th>area</th>\n",
       "      <th>density_sq_km</th>\n",
       "      <th>growth_rate</th>\n",
       "      <th>world_%</th>\n",
       "      <th>rank</th>\n",
       "    </tr>\n",
       "    <tr>\n",
       "      <th>iso_code</th>\n",
       "      <th></th>\n",
       "      <th></th>\n",
       "      <th></th>\n",
       "      <th></th>\n",
       "      <th></th>\n",
       "      <th></th>\n",
       "      <th></th>\n",
       "      <th></th>\n",
       "    </tr>\n",
       "  </thead>\n",
       "  <tbody>\n",
       "    <tr>\n",
       "      <th>CHN</th>\n",
       "      <td>China</td>\n",
       "      <td>1.446901e+09</td>\n",
       "      <td>1.439324e+09</td>\n",
       "      <td>9706961.0</td>\n",
       "      <td>149.0</td>\n",
       "      <td>0.34</td>\n",
       "      <td>18.340</td>\n",
       "      <td>1.0</td>\n",
       "    </tr>\n",
       "    <tr>\n",
       "      <th>IND</th>\n",
       "      <td>India</td>\n",
       "      <td>1.397396e+09</td>\n",
       "      <td>1.380004e+09</td>\n",
       "      <td>3287590.0</td>\n",
       "      <td>424.0</td>\n",
       "      <td>0.97</td>\n",
       "      <td>17.713</td>\n",
       "      <td>2.0</td>\n",
       "    </tr>\n",
       "    <tr>\n",
       "      <th>IDN</th>\n",
       "      <td>Indonesia</td>\n",
       "      <td>2.769394e+08</td>\n",
       "      <td>2.735236e+08</td>\n",
       "      <td>1904569.0</td>\n",
       "      <td>145.0</td>\n",
       "      <td>1.04</td>\n",
       "      <td>3.510</td>\n",
       "      <td>4.0</td>\n",
       "    </tr>\n",
       "    <tr>\n",
       "      <th>PAK</th>\n",
       "      <td>Pakistan</td>\n",
       "      <td>2.251809e+08</td>\n",
       "      <td>2.208923e+08</td>\n",
       "      <td>881912.0</td>\n",
       "      <td>255.0</td>\n",
       "      <td>1.95</td>\n",
       "      <td>2.854</td>\n",
       "      <td>5.0</td>\n",
       "    </tr>\n",
       "    <tr>\n",
       "      <th>BRA</th>\n",
       "      <td>Brazil</td>\n",
       "      <td>2.144981e+08</td>\n",
       "      <td>2.125594e+08</td>\n",
       "      <td>8515767.0</td>\n",
       "      <td>25.0</td>\n",
       "      <td>0.67</td>\n",
       "      <td>2.719</td>\n",
       "      <td>6.0</td>\n",
       "    </tr>\n",
       "  </tbody>\n",
       "</table>\n",
       "</div>"
      ],
      "text/plain": [
       "            country  2021_last_updated  2020_population       area  \\\n",
       "iso_code                                                             \n",
       "CHN           China       1.446901e+09     1.439324e+09  9706961.0   \n",
       "IND           India       1.397396e+09     1.380004e+09  3287590.0   \n",
       "IDN       Indonesia       2.769394e+08     2.735236e+08  1904569.0   \n",
       "PAK        Pakistan       2.251809e+08     2.208923e+08   881912.0   \n",
       "BRA          Brazil       2.144981e+08     2.125594e+08  8515767.0   \n",
       "\n",
       "          density_sq_km  growth_rate  world_%  rank  \n",
       "iso_code                                             \n",
       "CHN               149.0         0.34   18.340   1.0  \n",
       "IND               424.0         0.97   17.713   2.0  \n",
       "IDN               145.0         1.04    3.510   4.0  \n",
       "PAK               255.0         1.95    2.854   5.0  \n",
       "BRA                25.0         0.67    2.719   6.0  "
      ]
     },
     "execution_count": 3,
     "metadata": {},
     "output_type": "execute_result"
    }
   ],
   "source": [
    "population = session.read_csv(\n",
    "    \"s3://data.atoti.io/notebooks/world-population/2021_population_cleaned.csv\",\n",
    "    keys=[\"iso_code\"],\n",
    "    types={\n",
    "        \"2021_last_updated\": tt.type.DOUBLE,\n",
    "        \"2020_population\": tt.type.DOUBLE,\n",
    "        \"area\": tt.type.DOUBLE,\n",
    "        \"density_sq_km\": tt.type.DOUBLE,\n",
    "        \"growth_rate\": tt.type.DOUBLE,\n",
    "        \"world_%\": tt.type.DOUBLE,\n",
    "        \"rank\": tt.type.DOUBLE,\n",
    "    },\n",
    ")\n",
    "population.head()"
   ]
  },
  {
   "cell_type": "markdown",
   "id": "23963201",
   "metadata": {},
   "source": [
    "Since `population` is our only datastore, we used it as the base store to create our cube.  \n",
    "Let's name the cube as `World Population`."
   ]
  },
  {
   "cell_type": "code",
   "execution_count": 4,
   "id": "c3866f79",
   "metadata": {},
   "outputs": [
    {
     "data": {
      "image/svg+xml": [
       "<svg xmlns=\"http://www.w3.org/2000/svg\" xmlns:xlink=\"http://www.w3.org/1999/xlink\" width=\"217px\" height=\"258px\" viewBox=\"0.00 0.00 217.00 258.00\">\n",
       "<g id=\"graph0\" class=\"graph\" transform=\"scale(1.0 1.0) rotate(0) translate(4 254)\">\n",
       "<title>World Population schema</title>\n",
       "<polygon fill=\"white\" stroke=\"transparent\" points=\"-4,4 -4,-254 213,-254 213,4 -4,4\"/>\n",
       "<!-- 2021_population_cleaned.csv -->\n",
       "<g id=\"node1\" class=\"node\">\n",
       "<title>2021_population_cleaned.csv</title>\n",
       "<text text-anchor=\"start\" x=\"19\" y=\"-230.6\" font-family=\"-apple-system, BlinkMacSystemFont, 'Segoe UI', Helvetica, Arial, sans-serif, 'Apple Color Emoji', 'Segoe UI Emoji', 'Segoe UI Symbol'\" font-weight=\"bold\" font-size=\"13.00\">2021_population_cleaned.csv</text>\n",
       "<polygon fill=\"#f5f5f5\" stroke=\"transparent\" points=\"9.5,-197 9.5,-221 40.5,-221 40.5,-197 9.5,-197\"/>\n",
       "<text text-anchor=\"start\" x=\"14.5\" y=\"-206.6\" font-family=\"-apple-system, BlinkMacSystemFont, 'Segoe UI', Helvetica, Arial, sans-serif, 'Apple Color Emoji', 'Segoe UI Emoji', 'Segoe UI Symbol'\" font-weight=\"bold\" font-size=\"13.00\">key</text>\n",
       "<polygon fill=\"#f5f5f5\" stroke=\"transparent\" points=\"40.5,-197 40.5,-221 153.5,-221 153.5,-197 40.5,-197\"/>\n",
       "<text text-anchor=\"start\" x=\"45.5\" y=\"-205.6\" font-family=\"-apple-system, BlinkMacSystemFont, 'Segoe UI', Helvetica, Arial, sans-serif, 'Apple Color Emoji', 'Segoe UI Emoji', 'Segoe UI Symbol'\" font-size=\"13.00\">iso_code</text>\n",
       "<polygon fill=\"#f5f5f5\" stroke=\"transparent\" points=\"153.5,-197 153.5,-221 200.5,-221 200.5,-197 153.5,-197\"/>\n",
       "<text text-anchor=\"start\" x=\"162.5\" y=\"-206.6\" font-family=\"-apple-system, BlinkMacSystemFont, 'Segoe UI', Helvetica, Arial, sans-serif, 'Apple Color Emoji', 'Segoe UI Emoji', 'Segoe UI Symbol'\" font-style=\"italic\" font-size=\"13.00\">String</text>\n",
       "<polygon fill=\"#ffffff\" stroke=\"transparent\" points=\"9.5,-173 9.5,-197 40.5,-197 40.5,-173 9.5,-173\"/>\n",
       "<polygon fill=\"#ffffff\" stroke=\"transparent\" points=\"40.5,-173 40.5,-197 153.5,-197 153.5,-173 40.5,-173\"/>\n",
       "<text text-anchor=\"start\" x=\"45.5\" y=\"-181.6\" font-family=\"-apple-system, BlinkMacSystemFont, 'Segoe UI', Helvetica, Arial, sans-serif, 'Apple Color Emoji', 'Segoe UI Emoji', 'Segoe UI Symbol'\" font-size=\"13.00\">country</text>\n",
       "<polygon fill=\"#ffffff\" stroke=\"transparent\" points=\"153.5,-173 153.5,-197 200.5,-197 200.5,-173 153.5,-173\"/>\n",
       "<text text-anchor=\"start\" x=\"162.5\" y=\"-182.6\" font-family=\"-apple-system, BlinkMacSystemFont, 'Segoe UI', Helvetica, Arial, sans-serif, 'Apple Color Emoji', 'Segoe UI Emoji', 'Segoe UI Symbol'\" font-style=\"italic\" font-size=\"13.00\">String</text>\n",
       "<polygon fill=\"#f5f5f5\" stroke=\"transparent\" points=\"9.5,-149 9.5,-173 40.5,-173 40.5,-149 9.5,-149\"/>\n",
       "<polygon fill=\"#f5f5f5\" stroke=\"transparent\" points=\"40.5,-149 40.5,-173 153.5,-173 153.5,-149 40.5,-149\"/>\n",
       "<text text-anchor=\"start\" x=\"45.5\" y=\"-157.6\" font-family=\"-apple-system, BlinkMacSystemFont, 'Segoe UI', Helvetica, Arial, sans-serif, 'Apple Color Emoji', 'Segoe UI Emoji', 'Segoe UI Symbol'\" font-size=\"13.00\">2021_last_updated</text>\n",
       "<polygon fill=\"#f5f5f5\" stroke=\"transparent\" points=\"153.5,-149 153.5,-173 200.5,-173 200.5,-149 153.5,-149\"/>\n",
       "<text text-anchor=\"start\" x=\"158.5\" y=\"-158.6\" font-family=\"-apple-system, BlinkMacSystemFont, 'Segoe UI', Helvetica, Arial, sans-serif, 'Apple Color Emoji', 'Segoe UI Emoji', 'Segoe UI Symbol'\" font-style=\"italic\" font-size=\"13.00\">double</text>\n",
       "<polygon fill=\"#ffffff\" stroke=\"transparent\" points=\"9.5,-125 9.5,-149 40.5,-149 40.5,-125 9.5,-125\"/>\n",
       "<polygon fill=\"#ffffff\" stroke=\"transparent\" points=\"40.5,-125 40.5,-149 153.5,-149 153.5,-125 40.5,-125\"/>\n",
       "<text text-anchor=\"start\" x=\"45.5\" y=\"-133.6\" font-family=\"-apple-system, BlinkMacSystemFont, 'Segoe UI', Helvetica, Arial, sans-serif, 'Apple Color Emoji', 'Segoe UI Emoji', 'Segoe UI Symbol'\" font-size=\"13.00\">2020_population</text>\n",
       "<polygon fill=\"#ffffff\" stroke=\"transparent\" points=\"153.5,-125 153.5,-149 200.5,-149 200.5,-125 153.5,-125\"/>\n",
       "<text text-anchor=\"start\" x=\"158.5\" y=\"-134.6\" font-family=\"-apple-system, BlinkMacSystemFont, 'Segoe UI', Helvetica, Arial, sans-serif, 'Apple Color Emoji', 'Segoe UI Emoji', 'Segoe UI Symbol'\" font-style=\"italic\" font-size=\"13.00\">double</text>\n",
       "<polygon fill=\"#f5f5f5\" stroke=\"transparent\" points=\"9.5,-101 9.5,-125 40.5,-125 40.5,-101 9.5,-101\"/>\n",
       "<polygon fill=\"#f5f5f5\" stroke=\"transparent\" points=\"40.5,-101 40.5,-125 153.5,-125 153.5,-101 40.5,-101\"/>\n",
       "<text text-anchor=\"start\" x=\"45.5\" y=\"-109.6\" font-family=\"-apple-system, BlinkMacSystemFont, 'Segoe UI', Helvetica, Arial, sans-serif, 'Apple Color Emoji', 'Segoe UI Emoji', 'Segoe UI Symbol'\" font-size=\"13.00\">area</text>\n",
       "<polygon fill=\"#f5f5f5\" stroke=\"transparent\" points=\"153.5,-101 153.5,-125 200.5,-125 200.5,-101 153.5,-101\"/>\n",
       "<text text-anchor=\"start\" x=\"158.5\" y=\"-110.6\" font-family=\"-apple-system, BlinkMacSystemFont, 'Segoe UI', Helvetica, Arial, sans-serif, 'Apple Color Emoji', 'Segoe UI Emoji', 'Segoe UI Symbol'\" font-style=\"italic\" font-size=\"13.00\">double</text>\n",
       "<polygon fill=\"#ffffff\" stroke=\"transparent\" points=\"9.5,-77 9.5,-101 40.5,-101 40.5,-77 9.5,-77\"/>\n",
       "<polygon fill=\"#ffffff\" stroke=\"transparent\" points=\"40.5,-77 40.5,-101 153.5,-101 153.5,-77 40.5,-77\"/>\n",
       "<text text-anchor=\"start\" x=\"45.5\" y=\"-85.6\" font-family=\"-apple-system, BlinkMacSystemFont, 'Segoe UI', Helvetica, Arial, sans-serif, 'Apple Color Emoji', 'Segoe UI Emoji', 'Segoe UI Symbol'\" font-size=\"13.00\">density_sq_km</text>\n",
       "<polygon fill=\"#ffffff\" stroke=\"transparent\" points=\"153.5,-77 153.5,-101 200.5,-101 200.5,-77 153.5,-77\"/>\n",
       "<text text-anchor=\"start\" x=\"158.5\" y=\"-86.6\" font-family=\"-apple-system, BlinkMacSystemFont, 'Segoe UI', Helvetica, Arial, sans-serif, 'Apple Color Emoji', 'Segoe UI Emoji', 'Segoe UI Symbol'\" font-style=\"italic\" font-size=\"13.00\">double</text>\n",
       "<polygon fill=\"#f5f5f5\" stroke=\"transparent\" points=\"9.5,-53 9.5,-77 40.5,-77 40.5,-53 9.5,-53\"/>\n",
       "<polygon fill=\"#f5f5f5\" stroke=\"transparent\" points=\"40.5,-53 40.5,-77 153.5,-77 153.5,-53 40.5,-53\"/>\n",
       "<text text-anchor=\"start\" x=\"45.5\" y=\"-61.6\" font-family=\"-apple-system, BlinkMacSystemFont, 'Segoe UI', Helvetica, Arial, sans-serif, 'Apple Color Emoji', 'Segoe UI Emoji', 'Segoe UI Symbol'\" font-size=\"13.00\">growth_rate</text>\n",
       "<polygon fill=\"#f5f5f5\" stroke=\"transparent\" points=\"153.5,-53 153.5,-77 200.5,-77 200.5,-53 153.5,-53\"/>\n",
       "<text text-anchor=\"start\" x=\"158.5\" y=\"-62.6\" font-family=\"-apple-system, BlinkMacSystemFont, 'Segoe UI', Helvetica, Arial, sans-serif, 'Apple Color Emoji', 'Segoe UI Emoji', 'Segoe UI Symbol'\" font-style=\"italic\" font-size=\"13.00\">double</text>\n",
       "<polygon fill=\"#ffffff\" stroke=\"transparent\" points=\"9.5,-29 9.5,-53 40.5,-53 40.5,-29 9.5,-29\"/>\n",
       "<polygon fill=\"#ffffff\" stroke=\"transparent\" points=\"40.5,-29 40.5,-53 153.5,-53 153.5,-29 40.5,-29\"/>\n",
       "<text text-anchor=\"start\" x=\"45.5\" y=\"-37.6\" font-family=\"-apple-system, BlinkMacSystemFont, 'Segoe UI', Helvetica, Arial, sans-serif, 'Apple Color Emoji', 'Segoe UI Emoji', 'Segoe UI Symbol'\" font-size=\"13.00\">world_%</text>\n",
       "<polygon fill=\"#ffffff\" stroke=\"transparent\" points=\"153.5,-29 153.5,-53 200.5,-53 200.5,-29 153.5,-29\"/>\n",
       "<text text-anchor=\"start\" x=\"158.5\" y=\"-38.6\" font-family=\"-apple-system, BlinkMacSystemFont, 'Segoe UI', Helvetica, Arial, sans-serif, 'Apple Color Emoji', 'Segoe UI Emoji', 'Segoe UI Symbol'\" font-style=\"italic\" font-size=\"13.00\">double</text>\n",
       "<polygon fill=\"#f5f5f5\" stroke=\"transparent\" points=\"9.5,-5 9.5,-29 40.5,-29 40.5,-5 9.5,-5\"/>\n",
       "<polygon fill=\"#f5f5f5\" stroke=\"transparent\" points=\"40.5,-5 40.5,-29 153.5,-29 153.5,-5 40.5,-5\"/>\n",
       "<text text-anchor=\"start\" x=\"45.5\" y=\"-13.6\" font-family=\"-apple-system, BlinkMacSystemFont, 'Segoe UI', Helvetica, Arial, sans-serif, 'Apple Color Emoji', 'Segoe UI Emoji', 'Segoe UI Symbol'\" font-size=\"13.00\">rank</text>\n",
       "<polygon fill=\"#f5f5f5\" stroke=\"transparent\" points=\"153.5,-5 153.5,-29 200.5,-29 200.5,-5 153.5,-5\"/>\n",
       "<text text-anchor=\"start\" x=\"158.5\" y=\"-14.6\" font-family=\"-apple-system, BlinkMacSystemFont, 'Segoe UI', Helvetica, Arial, sans-serif, 'Apple Color Emoji', 'Segoe UI Emoji', 'Segoe UI Symbol'\" font-style=\"italic\" font-size=\"13.00\">double</text>\n",
       "<polygon fill=\"none\" stroke=\"black\" points=\"8,-4 8,-246 201,-246 201,-4 8,-4\"/>\n",
       "</g>\n",
       "</g>\n",
       "</svg>"
      ],
      "text/plain": [
       "<IPython.core.display.SVG object>"
      ]
     },
     "execution_count": 4,
     "metadata": {},
     "output_type": "execute_result"
    }
   ],
   "source": [
    "cube = session.create_cube(population, \"World Population\")\n",
    "cube.schema"
   ]
  },
  {
   "cell_type": "markdown",
   "id": "08df91b5",
   "metadata": {},
   "source": [
    "If you're not familiar with a cube, check out the [Multidimensional Concepts](https://docs.atoti.io/latest/tutorial/tutorial.html#Multidimensional-concepts) on [atoti documentation](https://docs.atoti.io).  \n",
    "Let's aliase the cube's attributes to variables with shorter names for use later on."
   ]
  },
  {
   "cell_type": "code",
   "execution_count": 5,
   "id": "777bcc3d",
   "metadata": {},
   "outputs": [],
   "source": [
    "h, l, m = cube.hierarchies, cube.levels, cube.measures"
   ]
  },
  {
   "cell_type": "markdown",
   "id": "6b2daa89",
   "metadata": {},
   "source": [
    "### Measures for growth simulation\n",
    "\n",
    "We will create some measures that will allow us to adjust our population growth in the simulation.  \n",
    "\n",
    "__Years forecast__: The number of years from 2021 to compute the total growth.  \n",
    "__Population adjustment__: Adjustment to the 2021 population size. It's useful for instance, in the case of Covid-19 or disaster where population is reduced greatly.  \n",
    "__population__: The computed population size based on `Years forecast`.  \n",
    "__increments__: The increase in population size from the previous year."
   ]
  },
  {
   "cell_type": "code",
   "execution_count": 6,
   "id": "111ced2b",
   "metadata": {},
   "outputs": [],
   "source": [
    "m[\"Years forecast\"] = 0\n",
    "m[\"Population adjustment\"] = 1.00\n",
    "m[\"Population adjustment\"].formatter = \"DOUBLE[0.0000]\""
   ]
  },
  {
   "cell_type": "markdown",
   "id": "90b71098",
   "metadata": {},
   "source": [
    "Note the initial value assigned to `Population adjustment` is a double.  \n",
    "We need it to be a `double` for percentage adjustment of the population.  "
   ]
  },
  {
   "cell_type": "code",
   "execution_count": 7,
   "id": "0b149a59",
   "metadata": {},
   "outputs": [
    {
     "data": {
      "text/plain": [
       "DataType(java_type='double', nullable=False)"
      ]
     },
     "execution_count": 7,
     "metadata": {},
     "output_type": "execute_result"
    }
   ],
   "source": [
    "m[\"Population adjustment\"].data_type"
   ]
  },
  {
   "cell_type": "markdown",
   "id": "e247d75f",
   "metadata": {},
   "source": [
    "We apply the growth rate to the population size of the previous year to get the increase in population size.  \n",
    "The below formula takes care of the incremental growth from 2021."
   ]
  },
  {
   "cell_type": "code",
   "execution_count": 8,
   "id": "f425ff8f",
   "metadata": {},
   "outputs": [],
   "source": [
    "# (population) * growth rate exp by number of years forecast\n",
    "m[\"population\"] = tt.math.ceil(\n",
    "    (m[\"2021_last_updated.MEAN\"] * m[\"Population adjustment\"])\n",
    "    * ((1 + m[\"growth_rate.MEAN\"]) ** m[\"Years forecast\"])\n",
    ")"
   ]
  },
  {
   "cell_type": "code",
   "execution_count": 9,
   "id": "e9516492",
   "metadata": {},
   "outputs": [],
   "source": [
    "m[\"increments\"] = tt.where(\n",
    "    m[\"Years forecast\"] == 0,\n",
    "    m[\"population\"],\n",
    "    m[\"population\"]\n",
    "    - tt.math.ceil(\n",
    "        (m[\"2021_last_updated.MEAN\"] * m[\"Population adjustment\"])\n",
    "        * ((1 + m[\"growth_rate.MEAN\"]) ** (m[\"Years forecast\"] - 1))\n",
    "    ),\n",
    ")"
   ]
  },
  {
   "cell_type": "markdown",
   "id": "d5f0164f",
   "metadata": {},
   "source": [
    "Instead of using the static ranking from the data source, we will compute the population ranking using atoti."
   ]
  },
  {
   "cell_type": "code",
   "execution_count": 10,
   "id": "f4625b63",
   "metadata": {},
   "outputs": [],
   "source": [
    "m[\"rank\"] = tt.where(\n",
    "    l[\"country\"] != None, tt.rank(m[\"population\"], h[\"country\"], ascending=False)\n",
    ")"
   ]
  },
  {
   "cell_type": "code",
   "execution_count": 11,
   "id": "b61e5a9d",
   "metadata": {
    "atoti": {
     "widget": {
      "columnWidths": {
       "[Measures].[rank]": 60.33749389648435
      },
      "mapping": {
       "columns": [
        "ALL_MEASURES"
       ],
       "measures": [
        "[Measures].[rank]",
        "[Measures].[population]",
        "[Measures].[world_%.MEAN]",
        "[Measures].[density_sq_km.MEAN]",
        "[Measures].[growth_rate.MEAN]",
        "[Measures].[area.MEAN]"
       ],
       "rows": [
        "[2021_population_cleaned].[country].[country]"
       ]
      },
      "query": {
       "mdx": "SELECT NON EMPTY {[Measures].[rank], [Measures].[population], [Measures].[world_%.MEAN], [Measures].[density_sq_km.MEAN], [Measures].[growth_rate.MEAN], [Measures].[area.MEAN]} ON COLUMNS, NON EMPTY Order(Hierarchize(Descendants({[2021_population_cleaned].[country].[AllMember]}, 1, SELF_AND_BEFORE)), [Measures].[rank], ASC) ON ROWS FROM [World Population]",
       "updateMode": "once"
      },
      "serverKey": "default",
      "widgetKey": "pivot-table"
     }
    }
   },
   "outputs": [
    {
     "data": {
      "application/vnd.atoti.widget.v0+json": {
       "name": "2021 population ranking",
       "session": "Unnamed"
      },
      "text/plain": [
       "Open the notebook in JupyterLab with the atoti extension installed and enabled to start editing this widget."
      ]
     },
     "metadata": {},
     "output_type": "display_data"
    }
   ],
   "source": [
    "session.visualize(\"2021 population ranking\")"
   ]
  },
  {
   "cell_type": "code",
   "execution_count": 12,
   "id": "5809d4d8",
   "metadata": {
    "atoti": {
     "height": 455,
     "widget": {
      "filters": [
       "TopCount(Filter([2021_population_cleaned].[country].Levels(1).Members, NOT IsEmpty([Measures].[population])), 10, [Measures].[population])"
      ],
      "isTextVisible": true,
      "mapping": {
       "horizontalSubplots": [],
       "splitBy": [
        "ALL_MEASURES"
       ],
       "values": [
        "[Measures].[population]"
       ],
       "verticalSubplots": [],
       "xAxis": [
        "[2021_population_cleaned].[country].[country]"
       ]
      },
      "plotly": {
       "data": {
        "commonTraceOverride": {
         "textposition": "outside"
        }
       },
       "layout": {
        "xaxis": {
         "title": "Country"
        },
        "yaxis": {
         "title": "Population"
        }
       }
      },
      "query": {
       "mdx": "SELECT NON EMPTY Order(Hierarchize(Descendants({[2021_population_cleaned].[country].[AllMember]}, 1, SELF_AND_BEFORE)), [Measures].[population], BDESC) ON ROWS, NON EMPTY {[Measures].[population]} ON COLUMNS FROM [World Population]",
       "updateMode": "once"
      },
      "serverKey": "default",
      "widgetKey": "plotly-clustered-column-chart"
     }
    }
   },
   "outputs": [
    {
     "data": {
      "application/vnd.atoti.widget.v0+json": {
       "name": "Top 10 most populated countries",
       "session": "Unnamed"
      },
      "text/plain": [
       "Open the notebook in JupyterLab with the atoti extension installed and enabled to start editing this widget."
      ]
     },
     "metadata": {},
     "output_type": "display_data"
    }
   ],
   "source": [
    "session.visualize(\"Top 10 most populated countries\")"
   ]
  },
  {
   "cell_type": "markdown",
   "id": "e41db483",
   "metadata": {},
   "source": [
    "## Population growth forecast based on growth rate\n",
    "\n",
    "Below is how you can setup a measure simulation with atoti.  \n",
    "This allows you to replace the value of the measure `Years forecast` and see its downstream impact.  \n",
    "We will name the original dataset as __2021__ using the `base_scenario` parameter. "
   ]
  },
  {
   "cell_type": "code",
   "execution_count": 13,
   "id": "30921056",
   "metadata": {},
   "outputs": [],
   "source": [
    "population_simulation = cube.setup_simulation(\n",
    "    \"Population simulation\",\n",
    "    replace=[m[\"Years forecast\"]],\n",
    "    base_scenario=\"2021\",\n",
    ").scenarios"
   ]
  },
  {
   "cell_type": "markdown",
   "id": "a87681c4",
   "metadata": {},
   "source": [
    "#### Compute the population size based on number of years from 2021  \n",
    "\n",
    "`population_simulation` contains the list of scenarios.  \n",
    "We will use the year to label the scenarios. We assign the number of years to forecast from 2021 to the scenarios."
   ]
  },
  {
   "cell_type": "code",
   "execution_count": 14,
   "id": "9f6e1331",
   "metadata": {},
   "outputs": [],
   "source": [
    "population_simulation[\"2022\"] = 1"
   ]
  },
  {
   "cell_type": "code",
   "execution_count": 15,
   "id": "ff8afbda",
   "metadata": {},
   "outputs": [],
   "source": [
    "population_simulation[\"2023\"] = 2"
   ]
  },
  {
   "cell_type": "code",
   "execution_count": 16,
   "id": "19c72a7c",
   "metadata": {},
   "outputs": [],
   "source": [
    "population_simulation[\"2024\"] = 3"
   ]
  },
  {
   "cell_type": "code",
   "execution_count": 17,
   "id": "1d557887",
   "metadata": {
    "atoti": {
     "widget": {
      "mapping": {
       "horizontalSubplots": [],
       "values": [
        "[Measures].[increments]"
       ],
       "verticalSubplots": [],
       "xAxis": [
        "[Measure Simulations].[Population simulation].[Population simulation]"
       ]
      },
      "plotly": {
       "layout": {
        "tickformat": "0f",
        "xaxis": {
         "dtick": 1
        }
       }
      },
      "query": {
       "mdx": "SELECT NON EMPTY [Measure Simulations].[Population simulation].[Population simulation].Members ON ROWS, NON EMPTY {[Measures].[increments]} ON COLUMNS FROM [World Population]",
       "updateMode": "once"
      },
      "serverKey": "default",
      "widgetKey": "plotly-waterfall-chart"
     }
    }
   },
   "outputs": [
    {
     "data": {
      "application/vnd.atoti.widget.v0+json": {
       "name": "World population",
       "session": "Unnamed"
      },
      "text/html": [
       "<img src=\"data:image/svg+xml;charset=utf8,%3C%3Fxml%20version%3D%221.0%22%20standalone%3D%22no%22%3F%3E%3Csvg%20xmlns%3D%22http%3A%2F%2Fwww.w3.org%2F2000%2Fsvg%22%20xmlns%3Axlink%3D%22http%3A%2F%2Fwww.w3.org%2F1999%2Fxlink%22%20height%3D%22348%22%20width%3D%221161%22%20viewBox%3D%220%200%201160.9942626953125%20347.9971618652344%22%3E%3Cdefs%20id%3D%22defs-de7545%22%3E%3Cg%20class%3D%22clips%22%3E%3CclipPath%20id%3D%22clipde7545xyplot%22%20class%3D%22plotclip%22%3E%3Crect%20width%3D%221081%22%20height%3D%22238%22%2F%3E%3C%2FclipPath%3E%3CclipPath%20class%3D%22axesclip%22%20id%3D%22clipde7545x%22%3E%3Crect%20x%3D%2280%22%20y%3D%220%22%20width%3D%221081%22%20height%3D%22348%22%2F%3E%3C%2FclipPath%3E%3CclipPath%20class%3D%22axesclip%22%20id%3D%22clipde7545y%22%3E%3Crect%20x%3D%220%22%20y%3D%2230%22%20width%3D%221161%22%20height%3D%22238%22%2F%3E%3C%2FclipPath%3E%3CclipPath%20class%3D%22axesclip%22%20id%3D%22clipde7545xy%22%3E%3Crect%20x%3D%2280%22%20y%3D%2230%22%20width%3D%221081%22%20height%3D%22238%22%2F%3E%3C%2FclipPath%3E%3C%2Fg%3E%3Cg%20class%3D%22gradients%22%2F%3E%3C%2Fdefs%3E%3Cg%20class%3D%22bglayer%22%2F%3E%3Cg%20class%3D%22draglayer%20cursor-crosshair%22%3E%3Cg%20class%3D%22xy%22%3E%3Crect%20class%3D%22nsewdrag%20drag%22%20data-subplot%3D%22xy%22%20x%3D%2280%22%20y%3D%2230%22%20width%3D%221081%22%20height%3D%22238%22%20style%3D%22fill%3A%20transparent%3B%20stroke-width%3A%200%3B%20pointer-events%3A%20all%3B%22%2F%3E%3Crect%20class%3D%22nwdrag%20drag%20cursor-nw-resize%22%20data-subplot%3D%22xy%22%20x%3D%2260%22%20y%3D%2210%22%20width%3D%2220%22%20height%3D%2220%22%20style%3D%22fill%3A%20transparent%3B%20stroke-width%3A%200%3B%20pointer-events%3A%20all%3B%22%2F%3E%3Crect%20class%3D%22nedrag%20drag%20cursor-ne-resize%22%20data-subplot%3D%22xy%22%20x%3D%221161%22%20y%3D%2210%22%20width%3D%2220%22%20height%3D%2220%22%20style%3D%22fill%3A%20transparent%3B%20stroke-width%3A%200%3B%20pointer-events%3A%20all%3B%22%2F%3E%3Crect%20class%3D%22swdrag%20drag%20cursor-sw-resize%22%20data-subplot%3D%22xy%22%20x%3D%2260%22%20y%3D%22268%22%20width%3D%2220%22%20height%3D%2220%22%20style%3D%22fill%3A%20transparent%3B%20stroke-width%3A%200%3B%20pointer-events%3A%20all%3B%22%2F%3E%3Crect%20class%3D%22sedrag%20drag%20cursor-se-resize%22%20data-subplot%3D%22xy%22%20x%3D%221161%22%20y%3D%22268%22%20width%3D%2220%22%20height%3D%2220%22%20style%3D%22fill%3A%20transparent%3B%20stroke-width%3A%200%3B%20pointer-events%3A%20all%3B%22%2F%3E%3Crect%20class%3D%22ewdrag%20drag%20cursor-ew-resize%22%20data-subplot%3D%22xy%22%20x%3D%22188.10000000000002%22%20y%3D%22268.5%22%20width%3D%22864.8000000000001%22%20height%3D%2220%22%20style%3D%22fill%3A%20transparent%3B%20stroke-width%3A%200%3B%20pointer-events%3A%20all%3B%22%2F%3E%3Crect%20class%3D%22wdrag%20drag%20cursor-w-resize%22%20data-subplot%3D%22xy%22%20x%3D%2280%22%20y%3D%22268.5%22%20width%3D%22108.10000000000001%22%20height%3D%2220%22%20style%3D%22fill%3A%20transparent%3B%20stroke-width%3A%200%3B%20pointer-events%3A%20all%3B%22%2F%3E%3Crect%20class%3D%22edrag%20drag%20cursor-e-resize%22%20data-subplot%3D%22xy%22%20x%3D%221052.9%22%20y%3D%22268.5%22%20width%3D%22108.10000000000001%22%20height%3D%2220%22%20style%3D%22fill%3A%20transparent%3B%20stroke-width%3A%200%3B%20pointer-events%3A%20all%3B%22%2F%3E%3Crect%20class%3D%22nsdrag%20drag%20cursor-ns-resize%22%20data-subplot%3D%22xy%22%20x%3D%2259.5%22%20y%3D%2253.8%22%20width%3D%2220%22%20height%3D%22190.4%22%20style%3D%22fill%3A%20transparent%3B%20stroke-width%3A%200%3B%20pointer-events%3A%20all%3B%22%2F%3E%3Crect%20class%3D%22sdrag%20drag%20cursor-s-resize%22%20data-subplot%3D%22xy%22%20x%3D%2259.5%22%20y%3D%22244.20000000000002%22%20width%3D%2220%22%20height%3D%2223.8%22%20style%3D%22fill%3A%20transparent%3B%20stroke-width%3A%200%3B%20pointer-events%3A%20all%3B%22%2F%3E%3Crect%20class%3D%22ndrag%20drag%20cursor-n-resize%22%20data-subplot%3D%22xy%22%20x%3D%2259.5%22%20y%3D%2230%22%20width%3D%2220%22%20height%3D%2223.8%22%20style%3D%22fill%3A%20transparent%3B%20stroke-width%3A%200%3B%20pointer-events%3A%20all%3B%22%2F%3E%3C%2Fg%3E%3C%2Fg%3E%3Cg%20class%3D%22layer-below%22%3E%3Cg%20class%3D%22imagelayer%22%2F%3E%3Cg%20class%3D%22shapelayer%22%2F%3E%3C%2Fg%3E%3Cg%20class%3D%22cartesianlayer%22%3E%3Cg%20class%3D%22subplot%20xy%22%3E%3Cg%20class%3D%22layer-subplot%22%3E%3Cg%20class%3D%22shapelayer%22%2F%3E%3Cg%20class%3D%22imagelayer%22%2F%3E%3C%2Fg%3E%3Cg%20class%3D%22gridlayer%22%3E%3Cg%20class%3D%22x%22%3E%3Cpath%20class%3D%22xgrid%20crisp%22%20transform%3D%22translate(215.13%2C0)%22%20d%3D%22M0%2C30v238%22%20style%3D%22stroke%3A%20rgb(0%2C%200%2C%200)%3B%20stroke-opacity%3A%200%3B%20stroke-width%3A%201px%3B%22%2F%3E%3Cpath%20class%3D%22xgrid%20crisp%22%20transform%3D%22translate(485.38%2C0)%22%20d%3D%22M0%2C30v238%22%20style%3D%22stroke%3A%20rgb(0%2C%200%2C%200)%3B%20stroke-opacity%3A%200%3B%20stroke-width%3A%201px%3B%22%2F%3E%3Cpath%20class%3D%22xgrid%20crisp%22%20transform%3D%22translate(755.63%2C0)%22%20d%3D%22M0%2C30v238%22%20style%3D%22stroke%3A%20rgb(0%2C%200%2C%200)%3B%20stroke-opacity%3A%200%3B%20stroke-width%3A%201px%3B%22%2F%3E%3Cpath%20class%3D%22xgrid%20crisp%22%20transform%3D%22translate(1025.88%2C0)%22%20d%3D%22M0%2C30v238%22%20style%3D%22stroke%3A%20rgb(0%2C%200%2C%200)%3B%20stroke-opacity%3A%200%3B%20stroke-width%3A%201px%3B%22%2F%3E%3C%2Fg%3E%3Cg%20class%3D%22y%22%3E%3Cpath%20class%3D%22ygrid%20crisp%22%20transform%3D%22translate(0%2C206.71)%22%20d%3D%22M80%2C0h1081%22%20style%3D%22stroke%3A%20rgb(89%2C%2089%2C%2089)%3B%20stroke-opacity%3A%200.25%3B%20stroke-width%3A%201px%3B%22%2F%3E%3Cpath%20class%3D%22ygrid%20crisp%22%20transform%3D%22translate(0%2C145.41)%22%20d%3D%22M80%2C0h1081%22%20style%3D%22stroke%3A%20rgb(89%2C%2089%2C%2089)%3B%20stroke-opacity%3A%200.25%3B%20stroke-width%3A%201px%3B%22%2F%3E%3Cpath%20class%3D%22ygrid%20crisp%22%20transform%3D%22translate(0%2C84.12)%22%20d%3D%22M80%2C0h1081%22%20style%3D%22stroke%3A%20rgb(89%2C%2089%2C%2089)%3B%20stroke-opacity%3A%200.25%3B%20stroke-width%3A%201px%3B%22%2F%3E%3C%2Fg%3E%3C%2Fg%3E%3Cg%20class%3D%22zerolinelayer%22%3E%3Cpath%20class%3D%22yzl%20zl%20crisp%22%20transform%3D%22translate(0%2C268)%22%20d%3D%22M80%2C0h1081%22%20style%3D%22stroke%3A%20rgb(89%2C%2089%2C%2089)%3B%20stroke-opacity%3A%200.5%3B%20stroke-width%3A%201px%3B%22%2F%3E%3C%2Fg%3E%3Cpath%20class%3D%22xlines-below%22%2F%3E%3Cpath%20class%3D%22ylines-below%22%2F%3E%3Cg%20class%3D%22overlines-below%22%2F%3E%3Cg%20class%3D%22xaxislayer-below%22%2F%3E%3Cg%20class%3D%22yaxislayer-below%22%2F%3E%3Cg%20class%3D%22overaxes-below%22%2F%3E%3Cg%20class%3D%22plot%22%20transform%3D%22translate(80%2C30)%22%20clip-path%3D%22url('%23clipde7545xyplot')%22%3E%3Cg%20class%3D%22waterfalllayer%20mlayer%22%3E%3Cg%20class%3D%22trace%20bars%22%20style%3D%22opacity%3A%201%3B%22%3E%3Cg%20class%3D%22points%22%3E%3Cg%20class%3D%22point%22%3E%3Cpath%20d%3D%22M27.03%2C239V212.38H243.22V239Z%22%20style%3D%22vector-effect%3A%20non-scaling-stroke%3B%20fill%3A%20rgb(89%2C%20161%2C%2079)%3B%20fill-opacity%3A%201%3B%20stroke%3A%20rgb(68%2C%2068%2C%2068)%3B%20stroke-opacity%3A%201%3B%20stroke-width%3A%200px%3B%20opacity%3A%201%3B%22%2F%3E%3C%2Fg%3E%3Cg%20class%3D%22point%22%3E%3Cpath%20d%3D%22M297.28%2C214.38V185.45H513.47V214.38Z%22%20style%3D%22vector-effect%3A%20non-scaling-stroke%3B%20fill%3A%20rgb(89%2C%20161%2C%2079)%3B%20fill-opacity%3A%201%3B%20stroke%3A%20rgb(68%2C%2068%2C%2068)%3B%20stroke-opacity%3A%201%3B%20stroke-width%3A%200px%3B%20opacity%3A%201%3B%22%2F%3E%3C%2Fg%3E%3Cg%20class%3D%22point%22%3E%3Cpath%20d%3D%22M567.53%2C187.45V129.04H783.72V187.45Z%22%20style%3D%22vector-effect%3A%20non-scaling-stroke%3B%20fill%3A%20rgb(89%2C%20161%2C%2079)%3B%20fill-opacity%3A%201%3B%20stroke%3A%20rgb(68%2C%2068%2C%2068)%3B%20stroke-opacity%3A%201%3B%20stroke-width%3A%200px%3B%20opacity%3A%201%3B%22%2F%3E%3C%2Fg%3E%3Cg%20class%3D%22point%22%3E%3Cpath%20d%3D%22M837.78%2C131.04V10.9H1053.97V131.04Z%22%20style%3D%22vector-effect%3A%20non-scaling-stroke%3B%20fill%3A%20rgb(89%2C%20161%2C%2079)%3B%20fill-opacity%3A%201%3B%20stroke%3A%20rgb(68%2C%2068%2C%2068)%3B%20stroke-opacity%3A%201%3B%20stroke-width%3A%200px%3B%20opacity%3A%201%3B%22%2F%3E%3C%2Fg%3E%3C%2Fg%3E%3Cg%20class%3D%22lines%22%3E%3Cg%20class%3D%22line%22%3E%3Cpath%20d%3D%22M243.22%2C213.38H297.28%22%20style%3D%22fill%3A%20none%3B%20stroke%3A%20rgb(68%2C%2068%2C%2068)%3B%20stroke-opacity%3A%201%3B%20stroke-width%3A%202px%3B%22%2F%3E%3C%2Fg%3E%3Cg%20class%3D%22line%22%3E%3Cpath%20d%3D%22M513.47%2C186.45H567.53%22%20style%3D%22fill%3A%20none%3B%20stroke%3A%20rgb(68%2C%2068%2C%2068)%3B%20stroke-opacity%3A%201%3B%20stroke-width%3A%202px%3B%22%2F%3E%3C%2Fg%3E%3Cg%20class%3D%22line%22%3E%3Cpath%20d%3D%22M783.72%2C130.04H837.78%22%20style%3D%22fill%3A%20none%3B%20stroke%3A%20rgb(68%2C%2068%2C%2068)%3B%20stroke-opacity%3A%201%3B%20stroke-width%3A%202px%3B%22%2F%3E%3C%2Fg%3E%3Cg%20class%3D%22line%22%3E%3Cpath%20d%3D%22M0%2C0Z%22%20style%3D%22fill%3A%20none%3B%20stroke%3A%20rgb(68%2C%2068%2C%2068)%3B%20stroke-opacity%3A%201%3B%20stroke-width%3A%202px%3B%22%2F%3E%3C%2Fg%3E%3C%2Fg%3E%3C%2Fg%3E%3C%2Fg%3E%3C%2Fg%3E%3Cg%20class%3D%22overplot%22%2F%3E%3Cpath%20class%3D%22xlines-above%20crisp%22%20d%3D%22M79%2C268.5H1161%22%20style%3D%22fill%3A%20none%3B%20stroke-width%3A%201px%3B%20stroke%3A%20rgb(89%2C%2089%2C%2089)%3B%20stroke-opacity%3A%200.25%3B%22%2F%3E%3Cpath%20class%3D%22ylines-above%20crisp%22%20d%3D%22M79.5%2C30V268%22%20style%3D%22fill%3A%20none%3B%20stroke-width%3A%201px%3B%20stroke%3A%20rgb(89%2C%2089%2C%2089)%3B%20stroke-opacity%3A%200.25%3B%22%2F%3E%3Cg%20class%3D%22overlines-above%22%2F%3E%3Cg%20class%3D%22xaxislayer-above%22%3E%3Cg%20class%3D%22xtick%22%3E%3Ctext%20text-anchor%3D%22middle%22%20x%3D%220%22%20y%3D%22283.4%22%20data-unformatted%3D%222021%22%20data-math%3D%22N%22%20transform%3D%22translate(215.13%2C0)%22%20style%3D%22font-family%3A%20%26quot%3BOpen%20Sans%26quot%3B%2C%20verdana%2C%20arial%2C%20sans-serif%3B%20font-size%3A%2012px%3B%20fill%3A%20rgb(89%2C%2089%2C%2089)%3B%20fill-opacity%3A%201%3B%20white-space%3A%20pre%3B%22%3E2021%3C%2Ftext%3E%3C%2Fg%3E%3Cg%20class%3D%22xtick%22%3E%3Ctext%20text-anchor%3D%22middle%22%20x%3D%220%22%20y%3D%22283.4%22%20data-unformatted%3D%222022%22%20data-math%3D%22N%22%20transform%3D%22translate(485.38%2C0)%22%20style%3D%22font-family%3A%20%26quot%3BOpen%20Sans%26quot%3B%2C%20verdana%2C%20arial%2C%20sans-serif%3B%20font-size%3A%2012px%3B%20fill%3A%20rgb(89%2C%2089%2C%2089)%3B%20fill-opacity%3A%201%3B%20white-space%3A%20pre%3B%22%3E2022%3C%2Ftext%3E%3C%2Fg%3E%3Cg%20class%3D%22xtick%22%3E%3Ctext%20text-anchor%3D%22middle%22%20x%3D%220%22%20y%3D%22283.4%22%20data-unformatted%3D%222023%22%20data-math%3D%22N%22%20transform%3D%22translate(755.63%2C0)%22%20style%3D%22font-family%3A%20%26quot%3BOpen%20Sans%26quot%3B%2C%20verdana%2C%20arial%2C%20sans-serif%3B%20font-size%3A%2012px%3B%20fill%3A%20rgb(89%2C%2089%2C%2089)%3B%20fill-opacity%3A%201%3B%20white-space%3A%20pre%3B%22%3E2023%3C%2Ftext%3E%3C%2Fg%3E%3Cg%20class%3D%22xtick%22%3E%3Ctext%20text-anchor%3D%22middle%22%20x%3D%220%22%20y%3D%22283.4%22%20data-unformatted%3D%222024%22%20data-math%3D%22N%22%20transform%3D%22translate(1025.88%2C0)%22%20style%3D%22font-family%3A%20%26quot%3BOpen%20Sans%26quot%3B%2C%20verdana%2C%20arial%2C%20sans-serif%3B%20font-size%3A%2012px%3B%20fill%3A%20rgb(89%2C%2089%2C%2089)%3B%20fill-opacity%3A%201%3B%20white-space%3A%20pre%3B%22%3E2024%3C%2Ftext%3E%3C%2Fg%3E%3C%2Fg%3E%3Cg%20class%3D%22yaxislayer-above%22%3E%3Cg%20class%3D%22ytick%22%3E%3Ctext%20text-anchor%3D%22end%22%20x%3D%2276.6%22%20y%3D%224.199999999999999%22%20data-unformatted%3D%220%22%20data-math%3D%22N%22%20transform%3D%22translate(0%2C268)%22%20style%3D%22font-family%3A%20%26quot%3BOpen%20Sans%26quot%3B%2C%20verdana%2C%20arial%2C%20sans-serif%3B%20font-size%3A%2012px%3B%20fill%3A%20rgb(89%2C%2089%2C%2089)%3B%20fill-opacity%3A%201%3B%20white-space%3A%20pre%3B%22%3E0%3C%2Ftext%3E%3C%2Fg%3E%3Cg%20class%3D%22ytick%22%3E%3Ctext%20text-anchor%3D%22end%22%20x%3D%2276.6%22%20y%3D%224.199999999999999%22%20data-unformatted%3D%22100M%22%20data-math%3D%22N%22%20transform%3D%22translate(0%2C206.71)%22%20style%3D%22font-family%3A%20%26quot%3BOpen%20Sans%26quot%3B%2C%20verdana%2C%20arial%2C%20sans-serif%3B%20font-size%3A%2012px%3B%20fill%3A%20rgb(89%2C%2089%2C%2089)%3B%20fill-opacity%3A%201%3B%20white-space%3A%20pre%3B%22%3E100M%3C%2Ftext%3E%3C%2Fg%3E%3Cg%20class%3D%22ytick%22%3E%3Ctext%20text-anchor%3D%22end%22%20x%3D%2276.6%22%20y%3D%224.199999999999999%22%20data-unformatted%3D%22200M%22%20data-math%3D%22N%22%20transform%3D%22translate(0%2C145.41)%22%20style%3D%22font-family%3A%20%26quot%3BOpen%20Sans%26quot%3B%2C%20verdana%2C%20arial%2C%20sans-serif%3B%20font-size%3A%2012px%3B%20fill%3A%20rgb(89%2C%2089%2C%2089)%3B%20fill-opacity%3A%201%3B%20white-space%3A%20pre%3B%22%3E200M%3C%2Ftext%3E%3C%2Fg%3E%3Cg%20class%3D%22ytick%22%3E%3Ctext%20text-anchor%3D%22end%22%20x%3D%2276.6%22%20y%3D%224.199999999999999%22%20data-unformatted%3D%22300M%22%20data-math%3D%22N%22%20transform%3D%22translate(0%2C84.12)%22%20style%3D%22font-family%3A%20%26quot%3BOpen%20Sans%26quot%3B%2C%20verdana%2C%20arial%2C%20sans-serif%3B%20font-size%3A%2012px%3B%20fill%3A%20rgb(89%2C%2089%2C%2089)%3B%20fill-opacity%3A%201%3B%20white-space%3A%20pre%3B%22%3E300M%3C%2Ftext%3E%3C%2Fg%3E%3C%2Fg%3E%3Cg%20class%3D%22overaxes-above%22%2F%3E%3C%2Fg%3E%3C%2Fg%3E%3Cg%20class%3D%22polarlayer%22%2F%3E%3Cg%20class%3D%22ternarylayer%22%2F%3E%3Cg%20class%3D%22geolayer%22%2F%3E%3Cg%20class%3D%22funnelarealayer%22%2F%3E%3Cg%20class%3D%22pielayer%22%2F%3E%3Cg%20class%3D%22treemaplayer%22%2F%3E%3Cg%20class%3D%22sunburstlayer%22%2F%3E%3Cg%20class%3D%22glimages%22%2F%3E%3Cdefs%20id%3D%22topdefs-de7545%22%3E%3Cg%20class%3D%22clips%22%2F%3E%3C%2Fdefs%3E%3Cg%20class%3D%22indicatorlayer%22%2F%3E%3Cg%20class%3D%22layer-above%22%3E%3Cg%20class%3D%22imagelayer%22%2F%3E%3Cg%20class%3D%22shapelayer%22%2F%3E%3C%2Fg%3E%3Cg%20class%3D%22infolayer%22%3E%3Cg%20class%3D%22g-gtitle%22%2F%3E%3Cg%20class%3D%22g-xtitle%22%2F%3E%3Cg%20class%3D%22g-ytitle%22%2F%3E%3C%2Fg%3E%3Cg%20class%3D%22menulayer%22%2F%3E%3Cg%20class%3D%22zoomlayer%22%2F%3E%3Cg%20class%3D%22hoverlayer%22%2F%3E%3C%2Fsvg%3E\">"
      ],
      "text/plain": [
       "Open the notebook in JupyterLab with the atoti extension installed and enabled to start editing this widget."
      ]
     },
     "metadata": {},
     "output_type": "display_data"
    }
   ],
   "source": [
    "session.visualize(\"World population\")"
   ]
  },
  {
   "cell_type": "markdown",
   "id": "efb43712",
   "metadata": {},
   "source": [
    "We can see that India took over China as the world's largest population by 2022.  \n",
    "But what is most surprising is the growth of Nigeria and Pakistan."
   ]
  },
  {
   "cell_type": "code",
   "execution_count": 18,
   "id": "2a5312aa",
   "metadata": {
    "atoti": {
     "widget": {
      "filters": [
       "TopCount(Filter([2021_population_cleaned].[country].Levels(1).Members, NOT IsEmpty([Measures].[population])), 10, [Measures].[population])"
      ],
      "mapping": {
       "horizontalSubplots": [],
       "splitBy": [
        "ALL_MEASURES",
        "[2021_population_cleaned].[country].[country]"
       ],
       "values": [
        "[Measures].[population]"
       ],
       "verticalSubplots": [],
       "xAxis": [
        "[Measure Simulations].[Population simulation].[Population simulation]"
       ]
      },
      "plotly": {
       "layout": {
        "xaxis": {
         "dtick": 1
        }
       }
      },
      "query": {
       "mdx": "SELECT NON EMPTY Crossjoin(Hierarchize(Descendants({[2021_population_cleaned].[country].[AllMember]}, 1, SELF_AND_BEFORE)), {[Measures].[population]}) ON COLUMNS, NON EMPTY [Measure Simulations].[Population simulation].[Population simulation].Members ON ROWS FROM [World Population]",
       "updateMode": "once"
      },
      "serverKey": "default",
      "widgetKey": "plotly-area-chart"
     }
    }
   },
   "outputs": [
    {
     "data": {
      "application/vnd.atoti.widget.v0+json": {
       "name": "World population growth forecast",
       "session": "Unnamed"
      },
      "text/plain": [
       "Open the notebook in JupyterLab with the atoti extension installed and enabled to start editing this widget."
      ]
     },
     "metadata": {},
     "output_type": "display_data"
    }
   ],
   "source": [
    "session.visualize(\"World population growth forecast\")"
   ]
  },
  {
   "cell_type": "markdown",
   "id": "71b33a59",
   "metadata": {},
   "source": [
    "### Simulate population adjustment due to Covid-19\n",
    "\n",
    "The above simulation is based on the current growth rate. However, events such as Covid-19 can affect the population size and its growth rate.   \n",
    "\n",
    "We will setup the simulation that allows us to perform this adjustments at the country level."
   ]
  },
  {
   "cell_type": "code",
   "execution_count": 19,
   "id": "4b98adc6",
   "metadata": {},
   "outputs": [],
   "source": [
    "covid_simulation = cube.setup_simulation(\n",
    "    \"Covid Population Adjustment\",\n",
    "    replace=[m[\"Population adjustment\"], m[\"growth_rate.MEAN\"]],\n",
    "    base_scenario=\"Normal growth\",\n",
    "    levels=[l[\"country\"]],\n",
    ")"
   ]
  },
  {
   "cell_type": "markdown",
   "id": "4eded711",
   "metadata": {},
   "source": [
    "Using the death count for China, India and US from the [WHO](https://covid19.who.int/table), we come up with the below population adjustment. Also, we are just going to round down the growth rate."
   ]
  },
  {
   "cell_type": "code",
   "execution_count": 20,
   "id": "e79c61cd",
   "metadata": {},
   "outputs": [],
   "source": [
    "covid_growth_adjustment = covid_simulation.scenarios[\"2021-COVID\"]\n",
    "covid_growth_adjustment += (\"China\", 0.9999, 0.3)\n",
    "covid_growth_adjustment += (\"India\", 0.9815, 0.9)\n",
    "covid_growth_adjustment += (\"United States\", 0.9982, 0.5)"
   ]
  },
  {
   "cell_type": "markdown",
   "id": "931e3c79",
   "metadata": {},
   "source": [
    "We are able to combine the two simulations above to see how the population size will evolve over the next 3 years as a result of Coivd-19."
   ]
  },
  {
   "cell_type": "code",
   "execution_count": 21,
   "id": "73642d06",
   "metadata": {
    "atoti": {
     "widget": {
      "filters": [
       "TopCount(Filter([2021_population_cleaned].[country].Levels(1).Members, NOT IsEmpty([Measures].[population])), 5, [Measures].[population])"
      ],
      "isTextVisible": true,
      "mapping": {
       "horizontalSubplots": [
        "[2021_population_cleaned].[country].[country]"
       ],
       "splitBy": [
        "ALL_MEASURES",
        "[Measure Simulations].[Covid Population Adjustment].[Covid Population Adjustment]"
       ],
       "values": [
        "[Measures].[population]"
       ],
       "verticalSubplots": [],
       "yAxis": [
        "[Measure Simulations].[Population simulation].[Population simulation]"
       ]
      },
      "plotly": {
       "layout": {
        "tickformat": "0f",
        "yaxis": {
         "dtick": 1
        }
       }
      },
      "query": {
       "mdx": "SELECT NON EMPTY [Measure Simulations].[Population simulation].[Population simulation].Members ON ROWS, NON EMPTY Crossjoin({[Measures].[population]}, [Measure Simulations].[Covid Population Adjustment].[Covid Population Adjustment].Members, Hierarchize(Descendants({[2021_population_cleaned].[country].[AllMember]}, 1, SELF_AND_BEFORE))) ON COLUMNS FROM [World Population]",
       "updateMode": "once"
      },
      "serverKey": "default",
      "widgetKey": "plotly-clustered-bar-chart"
     }
    }
   },
   "outputs": [
    {
     "data": {
      "application/vnd.atoti.widget.v0+json": {
       "name": "Impact on country growth by Covid-19",
       "session": "Unnamed"
      },
      "text/plain": [
       "Open the notebook in JupyterLab with the atoti extension installed and enabled to start editing this widget."
      ]
     },
     "metadata": {},
     "output_type": "display_data"
    }
   ],
   "source": [
    "session.visualize(\"Impact on country growth by Covid-19\")"
   ]
  },
  {
   "cell_type": "markdown",
   "id": "3ddf2aae",
   "metadata": {},
   "source": [
    "Check out the dashboard that we have prepared."
   ]
  },
  {
   "cell_type": "code",
   "execution_count": 22,
   "id": "bbe2efdb",
   "metadata": {},
   "outputs": [
    {
     "data": {
      "text/plain": [
       "'http://localhost:59794/#/dashboard/2e7'"
      ]
     },
     "execution_count": 22,
     "metadata": {},
     "output_type": "execute_result"
    }
   ],
   "source": [
    "session.url + \"/#/dashboard/2e7\""
   ]
  },
  {
   "cell_type": "markdown",
   "id": "9313753f",
   "metadata": {},
   "source": [
    "<div style=\"text-align: center;\"><a href=\"https://www.atoti.io/?utm_source=gallery&utm_content=world-population\" target=\"_blank\"><img src=\"https://data.atoti.io/notebooks/banners/discover-try.png\" alt=\"Try atoti\"></a></div>"
   ]
  }
 ],
 "metadata": {
  "atoti": {
   "widget": {
    "mapping": {
     "columns": [
      "[Measure Simulations].[Population simulation].[Population simulation]",
      "ALL_MEASURES"
     ],
     "measures": [
      "[Measures].[population]",
      "[Measures].[rank (1)]"
     ],
     "rows": [
      "[2021_population_cleaned].[country].[country]"
     ]
    },
    "query": {
     "mdx": "WITH  Member [Measures].[rank (1)] AS [Measures].[rank], BACK_COLOR = CASE WHEN [Measures].[rank (1)] = 1 THEN rgb(255, 153, 153) WHEN [Measures].[rank (1)] = 2 THEN rgb(255, 229, 204) WHEN [Measures].[rank (1)] = 3 THEN rgb(255, 255, 204) END, CAPTION = [Measures].[rank].MEMBER_CAPTION  SELECT NON EMPTY Order(Hierarchize(Descendants({[2021_population_cleaned].[country].[AllMember]}, 1, SELF_AND_BEFORE)), [Measures].[rank (1)], ASC) ON ROWS, NON EMPTY Crossjoin([Measure Simulations].[Population simulation].[Population simulation].Members, {[Measures].[population], [Measures].[rank (1)]}) ON COLUMNS FROM [World Population] CELL PROPERTIES BACK_COLOR, FONT_FLAGS, FORE_COLOR, FORMATTED_VALUE, VALUE",
     "updateMode": "once"
    },
    "serverKey": "default",
    "widgetKey": "pivot-table"
   }
  },
  "kernelspec": {
   "display_name": "Python 3",
   "language": "python",
   "name": "python3"
  },
  "language_info": {
   "codemirror_mode": {
    "name": "ipython",
    "version": 3
   },
   "file_extension": ".py",
   "mimetype": "text/x-python",
   "name": "python",
   "nbconvert_exporter": "python",
   "pygments_lexer": "ipython3",
   "version": "3.9.2"
  }
 },
 "nbformat": 4,
 "nbformat_minor": 5
}
