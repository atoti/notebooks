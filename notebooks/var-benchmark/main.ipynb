{
 "cells": [
  {
   "cell_type": "markdown",
   "metadata": {},
   "source": [
    "# atoti Value-at-Risk benchmark\n",
    "\n",
    "This notebook is a benchmark template used to expose atoti performances over ClickHouse by reproducing a benchmark detailed in a [blog post by Altinity on calculating Value-at-Risk (VaR)](https://altinity.com/blog/clickhouse-vs-redshift-performance-for-fintech-risk-management). Check out the [full ](https://www.activeviam.com/blog/atoti-for-risk-management-aggregation-comparison-with-the-clickhouse-benchmark/)"
   ]
  },
  {
   "cell_type": "code",
   "execution_count": null,
   "metadata": {},
   "outputs": [],
   "source": [
    "import atoti\n",
    "import time"
   ]
  },
  {
   "cell_type": "code",
   "execution_count": null,
   "metadata": {},
   "outputs": [],
   "source": [
    "config = atoti.config.create_config(java_args=[\"-XX:MaxDirectMemorySize=12G\"], )\n",
    "session = atoti.create_session(\"RiskBenchmark\", config=config)"
   ]
  },
  {
   "cell_type": "code",
   "execution_count": null,
   "metadata": {},
   "outputs": [],
   "source": [
    "# Load risk dataset\n",
    "dataset = session.read_parquet(\"dataset.parquet\", partitioning=\"hash32(str0)\")"
   ]
  },
  {
   "cell_type": "code",
   "execution_count": null,
   "metadata": {},
   "outputs": [],
   "source": [
    "cube = session.create_cube(dataset)"
   ]
  },
  {
   "cell_type": "code",
   "execution_count": null,
   "metadata": {},
   "outputs": [],
   "source": [
    "cube.schema"
   ]
  },
  {
   "cell_type": "code",
   "execution_count": null,
   "metadata": {},
   "outputs": [],
   "source": [
    "# Disable the aggregate cache\n",
    "cube.aggregates_cache.capacity = -1"
   ]
  },
  {
   "cell_type": "code",
   "execution_count": null,
   "metadata": {},
   "outputs": [],
   "source": [
    "# Define vector aggregation and value at risk\n",
    "m = cube.measures\n",
    "lvl = cube.levels\n",
    "m[\"PnlVector\"] = atoti.agg.sum(dataset[\"arrFloat\"])\n",
    "m[\"ValueAtRisk\"] = atoti.array.quantile(m[\"PnlVector\"], q=0.95)\n",
    "\n",
    "# Create a hierarchy to access vector elements\n",
    "cube.create_static_parameter_hierarchy(\"Scenarios\", list(range(0, 1000)))\n",
    "m[\"PnL at index\"] = m[\"PnlVector\"][lvl[\"Scenarios\"]]"
   ]
  },
  {
   "cell_type": "code",
   "execution_count": null,
   "metadata": {},
   "outputs": [],
   "source": [
    "session.load_all_data()"
   ]
  },
  {
   "cell_type": "code",
   "execution_count": null,
   "metadata": {
    "atoti": {
     "height": 688,
     "widget": {
      "mapping": {
       "columns": [
        "ALL_MEASURES"
       ],
       "measures": [
        "[Measures].[PnlVector]",
        "[Measures].[ValueAtRisk]"
       ],
       "rows": [
        "[Dataset].[dttime1].[dttime1]",
        "[Dataset].[dttime11].[dttime11]"
       ]
      },
      "query": {
       "mdx": "SELECT NON EMPTY Crossjoin(Hierarchize(Descendants({[Dataset].[dttime1].[AllMember]}, 1, SELF_AND_BEFORE)), Hierarchize(Descendants({[Dataset].[dttime11].[AllMember]}, 1, SELF_AND_BEFORE))) ON ROWS, NON EMPTY {[Measures].[PnlVector], [Measures].[ValueAtRisk]} ON COLUMNS FROM [Dataset]",
       "updateMode": "once"
      },
      "serverKey": "default",
      "widgetKey": "pivot-table"
     }
    }
   },
   "outputs": [],
   "source": [
    "session.url"
   ]
  },
  {
   "cell_type": "code",
   "execution_count": null,
   "metadata": {},
   "outputs": [],
   "source": [
    "# Number of facts in the cube\n",
    "cube.query(m[\"contributors.COUNT\"])"
   ]
  },
  {
   "cell_type": "markdown",
   "metadata": {},
   "source": [
    "### Query Benchmark"
   ]
  },
  {
   "cell_type": "code",
   "execution_count": null,
   "metadata": {},
   "outputs": [],
   "source": [
    "def Q1():\n",
    "    return cube.query(m[\"ValueAtRisk\"], levels=[lvl[\"str0\"]], mode='raw')\n",
    "\n",
    "def Q2():\n",
    "    return cube.query(m[\"ValueAtRisk\"], levels=[lvl[\"str0\"], lvl[\"str1\"], lvl[\"int10\"], lvl[\"int11\"], lvl[\"dttime10\"], lvl[\"dttime11\"]], mode='raw')\n",
    "\n",
    "def Q3():\n",
    "    return cube.query(m[\"ValueAtRisk\"], levels=[lvl[\"str0\"], lvl[\"str1\"], lvl[\"str2\"], lvl[\"str3\"], lvl[\"int10\"], lvl[\"int11\"], lvl[\"int12\"], lvl[\"int13\"], lvl[\"dttime10\"], lvl[\"dttime11\"], lvl[\"dttime12\"], lvl[\"dttime13\"]], mode='raw')\n",
    "\n",
    "def Q4():\n",
    "    return cube.query(m[\"PnL at index\"], levels=[lvl[\"str0\"], lvl[\"Scenarios\"]], condition=(lvl[\"str1\"] == \"KzORBHFRuFFOQm\"), mode='raw')\n",
    "\n",
    "# Iterations\n",
    "iterations = 10\n",
    "    \n",
    "def benchmark(name, task):\n",
    "    # Warmup\n",
    "    for w in range(10):\n",
    "        task()\n",
    "\n",
    "    start = time.time()\n",
    "    for i in range(iterations):\n",
    "        task()\n",
    "    elapsed = time.time() - start\n",
    "\n",
    "    print(f\"{name} average query time {round(1000*elapsed/iterations)} ms\")"
   ]
  },
  {
   "cell_type": "code",
   "execution_count": null,
   "metadata": {},
   "outputs": [],
   "source": [
    "benchmark(\"Q1\", Q1)"
   ]
  },
  {
   "cell_type": "code",
   "execution_count": null,
   "metadata": {},
   "outputs": [],
   "source": [
    "benchmark(\"Q2\", Q2)"
   ]
  },
  {
   "cell_type": "code",
   "execution_count": null,
   "metadata": {},
   "outputs": [],
   "source": [
    "benchmark(\"Q3\", Q3)"
   ]
  },
  {
   "cell_type": "code",
   "execution_count": null,
   "metadata": {},
   "outputs": [],
   "source": [
    "benchmark(\"Q4\", Q4)"
   ]
  },
  {
   "cell_type": "markdown",
   "metadata": {},
   "source": [
    "### Launch queries manually"
   ]
  },
  {
   "cell_type": "code",
   "execution_count": null,
   "metadata": {},
   "outputs": [],
   "source": [
    "%%time\n",
    "Q1()"
   ]
  },
  {
   "cell_type": "code",
   "execution_count": null,
   "metadata": {},
   "outputs": [],
   "source": [
    "%%time\n",
    "Q2()"
   ]
  },
  {
   "cell_type": "code",
   "execution_count": null,
   "metadata": {},
   "outputs": [],
   "source": [
    "%%time\n",
    "Q3()"
   ]
  },
  {
   "cell_type": "code",
   "execution_count": null,
   "metadata": {},
   "outputs": [],
   "source": [
    "%%time\n",
    "Q4()"
   ]
  }
 ],
 "metadata": {
  "kernelspec": {
   "display_name": "Python 3",
   "language": "python",
   "name": "python3"
  },
  "language_info": {
   "codemirror_mode": {
    "name": "ipython",
    "version": 3
   },
   "file_extension": ".py",
   "mimetype": "text/x-python",
   "name": "python",
   "nbconvert_exporter": "python",
   "pygments_lexer": "ipython3",
   "version": "3.8.6"
  }
 },
 "nbformat": 4,
 "nbformat_minor": 4
}
