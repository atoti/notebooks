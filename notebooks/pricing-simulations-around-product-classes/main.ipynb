{
 "cells": [
  {
   "cell_type": "markdown",
   "metadata": {},
   "source": [
    "# Pricing simulations around product classes\n",
    "\\[_In case you’re unable to see the atoti visualizations in GitHub, try viewing the notebook in [nbviewer](https://nbviewer.org/github/atoti/notebooks/blob/master/notebooks/pricing-simulations-around-product-classes/main.ipynb)._]\n",
    "\n",
    "For more information on the classification algorithm and a high-level overview of this notebook, [check out our article on atoti.io](https://www.atoti.io/data-dive-how-to-improve-pricing-strategies-with-a-set-of-checkout-receipts/).\n",
    "\n",
    "## Introduction\n",
    "\n",
    "In this notebook, we will showcase a simplified example of how a retailer can achieve a better price perception from its customers, while keeping or even slightly increasing its margins.\n",
    "\n",
    "## Classification algorithm\n",
    "\n",
    "With 3 months worth of receipts, we aim to classify the products into three categories:\n",
    "- Driver products: Those are products that make people come to the store, their price is often compared to the competition. A typical example would be a drill. \n",
    "- Complementary products: Those are products that people do not intend to buy before coming to the store, they generate so called \"opportunity\" sales. Their price is most of the time not known. Examples are drill batteries or chewing gums near the checkout area.\n",
    "- Independent products: This third group of products contains products that are often sold alone. They tend to be large and more expensive and thus also have a tendency to be compared.  \n",
    "\n",
    "In order to do so, we derived the below values beforehand to help us with the classification:\n",
    "- __solo_sales_ratio__: product's tendancy to be sold primarily alone. It's the ratio between the number of times the product as sold alone and the total number of sales of this product\n",
    "- __product_receipt_score__: product scoring computed by counting the number of neighbors (products in the same receipt) with a lower scoring on the _solo_sales_ratio_, and dividing it by the total number of neighbors."
   ]
  },
  {
   "cell_type": "markdown",
   "metadata": {},
   "source": [
    "<div style=\"text-align: center;\" ><a href=\"https://www.atoti.io/?utm_source=gallery&utm_content=pricing-simulation\" target=\"_blank\" rel=\"noopener noreferrer\"><img src=\"https://data.atoti.io/notebooks/banners/discover.png\" alt=\"Try atoti\"></a></div>"
   ]
  },
  {
   "cell_type": "code",
   "execution_count": 1,
   "metadata": {},
   "outputs": [],
   "source": [
    "# Install matplotlib and sklearn by running this code\n",
    "\n",
    "# ! pip install matplotlib sklearn"
   ]
  },
  {
   "cell_type": "code",
   "execution_count": 2,
   "metadata": {},
   "outputs": [],
   "source": [
    "import pandas as pd"
   ]
  },
  {
   "cell_type": "markdown",
   "metadata": {},
   "source": [
    "Let's have a look at the products and their scoring based on what we have gathered from the receipts. "
   ]
  },
  {
   "cell_type": "code",
   "execution_count": 3,
   "metadata": {},
   "outputs": [
    {
     "data": {
      "text/html": [
       "<div>\n",
       "<style scoped>\n",
       "    .dataframe tbody tr th:only-of-type {\n",
       "        vertical-align: middle;\n",
       "    }\n",
       "\n",
       "    .dataframe tbody tr th {\n",
       "        vertical-align: top;\n",
       "    }\n",
       "\n",
       "    .dataframe thead th {\n",
       "        text-align: right;\n",
       "    }\n",
       "</style>\n",
       "<table border=\"1\" class=\"dataframe\">\n",
       "  <thead>\n",
       "    <tr style=\"text-align: right;\">\n",
       "      <th></th>\n",
       "      <th>ProductId</th>\n",
       "      <th>edge_purchases</th>\n",
       "      <th>n_purchases</th>\n",
       "      <th>solo_purchases</th>\n",
       "      <th>solo_sales_ratio</th>\n",
       "      <th>product_receipt_score</th>\n",
       "    </tr>\n",
       "  </thead>\n",
       "  <tbody>\n",
       "    <tr>\n",
       "      <th>0</th>\n",
       "      <td>67130910</td>\n",
       "      <td>66.0</td>\n",
       "      <td>141.0</td>\n",
       "      <td>75.0</td>\n",
       "      <td>0.531915</td>\n",
       "      <td>0.974194</td>\n",
       "    </tr>\n",
       "    <tr>\n",
       "      <th>1</th>\n",
       "      <td>67901421</td>\n",
       "      <td>523.0</td>\n",
       "      <td>1021.0</td>\n",
       "      <td>212.0</td>\n",
       "      <td>0.208046</td>\n",
       "      <td>0.797941</td>\n",
       "    </tr>\n",
       "    <tr>\n",
       "      <th>2</th>\n",
       "      <td>70645722</td>\n",
       "      <td>766.0</td>\n",
       "      <td>919.0</td>\n",
       "      <td>153.0</td>\n",
       "      <td>0.166485</td>\n",
       "      <td>0.223958</td>\n",
       "    </tr>\n",
       "    <tr>\n",
       "      <th>3</th>\n",
       "      <td>70748454</td>\n",
       "      <td>498.0</td>\n",
       "      <td>794.0</td>\n",
       "      <td>233.0</td>\n",
       "      <td>0.293756</td>\n",
       "      <td>0.372562</td>\n",
       "    </tr>\n",
       "    <tr>\n",
       "      <th>4</th>\n",
       "      <td>82008925</td>\n",
       "      <td>3836.0</td>\n",
       "      <td>5281.0</td>\n",
       "      <td>1445.0</td>\n",
       "      <td>0.273622</td>\n",
       "      <td>0.676743</td>\n",
       "    </tr>\n",
       "  </tbody>\n",
       "</table>\n",
       "</div>"
      ],
      "text/plain": [
       "   ProductId  edge_purchases  n_purchases  solo_purchases  solo_sales_ratio  \\\n",
       "0   67130910            66.0        141.0            75.0          0.531915   \n",
       "1   67901421           523.0       1021.0           212.0          0.208046   \n",
       "2   70645722           766.0        919.0           153.0          0.166485   \n",
       "3   70748454           498.0        794.0           233.0          0.293756   \n",
       "4   82008925          3836.0       5281.0          1445.0          0.273622   \n",
       "\n",
       "   product_receipt_score  \n",
       "0               0.974194  \n",
       "1               0.797941  \n",
       "2               0.223958  \n",
       "3               0.372562  \n",
       "4               0.676743  "
      ]
     },
     "execution_count": 3,
     "metadata": {},
     "output_type": "execute_result"
    }
   ],
   "source": [
    "df_product_score = pd.read_csv(\n",
    "    \"https://data.atoti.io/notebooks/products-classification/products_scoring.csv\"\n",
    ")\n",
    "df_product_score.head()"
   ]
  },
  {
   "cell_type": "markdown",
   "metadata": {},
   "source": [
    "#### Product classification with K-Means\n",
    "\n",
    "Let's extract the features which we are going to apply [K-means](https://en.wikipedia.org/wiki/K-means_clustering) on in order to obtain the classifications."
   ]
  },
  {
   "cell_type": "code",
   "execution_count": 4,
   "metadata": {},
   "outputs": [
    {
     "data": {
      "text/html": [
       "<div>\n",
       "<style scoped>\n",
       "    .dataframe tbody tr th:only-of-type {\n",
       "        vertical-align: middle;\n",
       "    }\n",
       "\n",
       "    .dataframe tbody tr th {\n",
       "        vertical-align: top;\n",
       "    }\n",
       "\n",
       "    .dataframe thead th {\n",
       "        text-align: right;\n",
       "    }\n",
       "</style>\n",
       "<table border=\"1\" class=\"dataframe\">\n",
       "  <thead>\n",
       "    <tr style=\"text-align: right;\">\n",
       "      <th></th>\n",
       "      <th>solo_sales_ratio</th>\n",
       "      <th>product_receipt_score</th>\n",
       "    </tr>\n",
       "    <tr>\n",
       "      <th>ProductId</th>\n",
       "      <th></th>\n",
       "      <th></th>\n",
       "    </tr>\n",
       "  </thead>\n",
       "  <tbody>\n",
       "    <tr>\n",
       "      <th>67130910</th>\n",
       "      <td>0.531915</td>\n",
       "      <td>0.974194</td>\n",
       "    </tr>\n",
       "    <tr>\n",
       "      <th>67901421</th>\n",
       "      <td>0.208046</td>\n",
       "      <td>0.797941</td>\n",
       "    </tr>\n",
       "    <tr>\n",
       "      <th>70645722</th>\n",
       "      <td>0.166485</td>\n",
       "      <td>0.223958</td>\n",
       "    </tr>\n",
       "    <tr>\n",
       "      <th>70748454</th>\n",
       "      <td>0.293756</td>\n",
       "      <td>0.372562</td>\n",
       "    </tr>\n",
       "    <tr>\n",
       "      <th>82008925</th>\n",
       "      <td>0.273622</td>\n",
       "      <td>0.676743</td>\n",
       "    </tr>\n",
       "  </tbody>\n",
       "</table>\n",
       "</div>"
      ],
      "text/plain": [
       "           solo_sales_ratio  product_receipt_score\n",
       "ProductId                                         \n",
       "67130910           0.531915               0.974194\n",
       "67901421           0.208046               0.797941\n",
       "70645722           0.166485               0.223958\n",
       "70748454           0.293756               0.372562\n",
       "82008925           0.273622               0.676743"
      ]
     },
     "execution_count": 4,
     "metadata": {},
     "output_type": "execute_result"
    }
   ],
   "source": [
    "df_classification = df_product_score[\n",
    "    [\"ProductId\", \"solo_sales_ratio\", \"product_receipt_score\"]\n",
    "].copy()\n",
    "\n",
    "# ProductId is needed to reconcile the products and its classification\n",
    "df_classification.set_index(\"ProductId\", inplace=True)\n",
    "df_classification.head()"
   ]
  },
  {
   "cell_type": "markdown",
   "metadata": {},
   "source": [
    "As mentioned earlier, we needed 3 clusters - driver, complementary and independent."
   ]
  },
  {
   "cell_type": "code",
   "execution_count": 5,
   "metadata": {},
   "outputs": [],
   "source": [
    "from sklearn.cluster import KMeans\n",
    "\n",
    "kmeans = KMeans(n_clusters=3, random_state=0).fit(df_classification)\n",
    "results = kmeans.predict(df_classification)"
   ]
  },
  {
   "cell_type": "markdown",
   "metadata": {},
   "source": [
    "The below plot shows the result of the K-means clustering."
   ]
  },
  {
   "cell_type": "code",
   "execution_count": 6,
   "metadata": {},
   "outputs": [
    {
     "data": {
      "image/png": "[encoded data removed]",
      "text/plain": [
       "<Figure size 432x288 with 1 Axes>"
      ]
     },
     "metadata": {
      "needs_background": "light"
     },
     "output_type": "display_data"
    }
   ],
   "source": [
    "import matplotlib.patches as mpatches\n",
    "import matplotlib.pyplot as plt\n",
    "import numpy as np\n",
    "\n",
    "colormap = np.array([\"orange\", \"red\", \"purple\"])\n",
    "\n",
    "data_to_plot = df_classification.to_numpy()\n",
    "fig = plt.figure()\n",
    "ax = plt.axes()\n",
    "ax.scatter(\n",
    "    data_to_plot[:, 0], data_to_plot[:, 1], c=colormap[results], s=10, cmap=\"viridis\"\n",
    ")\n",
    "centers = kmeans.cluster_centers_\n",
    "ax.scatter(centers[:, 0], centers[:, 1], c=\"black\", s=200, alpha=0.5)\n",
    "cluster_1 = mpatches.Patch(color=\"red\", label=\"independent\")\n",
    "cluster_2 = mpatches.Patch(color=\"orange\", label=\"driver\")\n",
    "cluster_3 = mpatches.Patch(color=\"purple\", label=\"complementary\")\n",
    "plt.legend(handles=[cluster_1, cluster_2, cluster_3])\n",
    "ax.set_xlabel(\"solo_sales_ratio\")\n",
    "ax.set_ylabel(\"product_receipt_score\")\n",
    "\n",
    "plt.show()"
   ]
  },
  {
   "cell_type": "markdown",
   "metadata": {},
   "source": [
    "Let's set the result back into the dataset to see the product classification."
   ]
  },
  {
   "cell_type": "code",
   "execution_count": 7,
   "metadata": {},
   "outputs": [],
   "source": [
    "df_classification[\"class\"] = results"
   ]
  },
  {
   "cell_type": "markdown",
   "metadata": {},
   "source": [
    "Since independent products are products that are most frequently sold by itself, its _solo_sales_ratio_ tends towards 1. Therefore, it is also most likely that the rest of the products in the same receipt have lower _solo_sales_ratio_. We can then infer that independent products have _product_receipt_score_ towards 1 as well.  \n",
    "\n",
    "As we see below, class 1 is likely to be the independent products."
   ]
  },
  {
   "cell_type": "code",
   "execution_count": 8,
   "metadata": {},
   "outputs": [
    {
     "data": {
      "text/html": [
       "<div>\n",
       "<style scoped>\n",
       "    .dataframe tbody tr th:only-of-type {\n",
       "        vertical-align: middle;\n",
       "    }\n",
       "\n",
       "    .dataframe tbody tr th {\n",
       "        vertical-align: top;\n",
       "    }\n",
       "\n",
       "    .dataframe thead th {\n",
       "        text-align: right;\n",
       "    }\n",
       "</style>\n",
       "<table border=\"1\" class=\"dataframe\">\n",
       "  <thead>\n",
       "    <tr style=\"text-align: right;\">\n",
       "      <th></th>\n",
       "      <th>solo_sales_ratio</th>\n",
       "      <th>product_receipt_score</th>\n",
       "      <th>class</th>\n",
       "    </tr>\n",
       "    <tr>\n",
       "      <th>ProductId</th>\n",
       "      <th></th>\n",
       "      <th></th>\n",
       "      <th></th>\n",
       "    </tr>\n",
       "  </thead>\n",
       "  <tbody>\n",
       "    <tr>\n",
       "      <th>69395571</th>\n",
       "      <td>1.0</td>\n",
       "      <td>1.0</td>\n",
       "      <td>2</td>\n",
       "    </tr>\n",
       "    <tr>\n",
       "      <th>73245802</th>\n",
       "      <td>1.0</td>\n",
       "      <td>1.0</td>\n",
       "      <td>2</td>\n",
       "    </tr>\n",
       "    <tr>\n",
       "      <th>70854014</th>\n",
       "      <td>1.0</td>\n",
       "      <td>1.0</td>\n",
       "      <td>2</td>\n",
       "    </tr>\n",
       "    <tr>\n",
       "      <th>82054056</th>\n",
       "      <td>1.0</td>\n",
       "      <td>1.0</td>\n",
       "      <td>2</td>\n",
       "    </tr>\n",
       "    <tr>\n",
       "      <th>80139942</th>\n",
       "      <td>1.0</td>\n",
       "      <td>1.0</td>\n",
       "      <td>2</td>\n",
       "    </tr>\n",
       "  </tbody>\n",
       "</table>\n",
       "</div>"
      ],
      "text/plain": [
       "           solo_sales_ratio  product_receipt_score  class\n",
       "ProductId                                                \n",
       "69395571                1.0                    1.0      2\n",
       "73245802                1.0                    1.0      2\n",
       "70854014                1.0                    1.0      2\n",
       "82054056                1.0                    1.0      2\n",
       "80139942                1.0                    1.0      2"
      ]
     },
     "execution_count": 8,
     "metadata": {},
     "output_type": "execute_result"
    }
   ],
   "source": [
    "df_classification.loc[(df_classification[\"product_receipt_score\"] > 0.5)].sort_values(\n",
    "    by=[\"product_receipt_score\"], ascending=False\n",
    ").head(5)"
   ]
  },
  {
   "cell_type": "markdown",
   "metadata": {},
   "source": [
    "Since complementary products are usually brought alongside the driver products, its _solo_sales_ratio_ tends towards 0. Its _solo_sales_ratio_ would probably be the lowest since its _solo_sales_ratio_ would normally be lower than the other two product categories.  \n",
    "\n",
    "Class 2 below is most likely complementary products. Therefore class 0 is the driver products.  \n",
    "This could be explained by the fact that driver products have a higher likelihood of being sold alone compared to complementary products, so its _solo_sales_ratio_ theoretically would be lesser than independent products but higher than complementary products. The same implies for its _product_receipt_score_ since it probably has more products (the complementary) in the same receipt that have lower _solo_sales_ratio_ than itself."
   ]
  },
  {
   "cell_type": "code",
   "execution_count": 9,
   "metadata": {},
   "outputs": [
    {
     "data": {
      "text/html": [
       "<div>\n",
       "<style scoped>\n",
       "    .dataframe tbody tr th:only-of-type {\n",
       "        vertical-align: middle;\n",
       "    }\n",
       "\n",
       "    .dataframe tbody tr th {\n",
       "        vertical-align: top;\n",
       "    }\n",
       "\n",
       "    .dataframe thead th {\n",
       "        text-align: right;\n",
       "    }\n",
       "</style>\n",
       "<table border=\"1\" class=\"dataframe\">\n",
       "  <thead>\n",
       "    <tr style=\"text-align: right;\">\n",
       "      <th></th>\n",
       "      <th>solo_sales_ratio</th>\n",
       "      <th>product_receipt_score</th>\n",
       "      <th>class</th>\n",
       "    </tr>\n",
       "    <tr>\n",
       "      <th>ProductId</th>\n",
       "      <th></th>\n",
       "      <th></th>\n",
       "      <th></th>\n",
       "    </tr>\n",
       "  </thead>\n",
       "  <tbody>\n",
       "    <tr>\n",
       "      <th>62024851</th>\n",
       "      <td>0.0</td>\n",
       "      <td>0.0</td>\n",
       "      <td>1</td>\n",
       "    </tr>\n",
       "    <tr>\n",
       "      <th>69313125</th>\n",
       "      <td>0.0</td>\n",
       "      <td>0.0</td>\n",
       "      <td>1</td>\n",
       "    </tr>\n",
       "    <tr>\n",
       "      <th>69311522</th>\n",
       "      <td>0.0</td>\n",
       "      <td>0.0</td>\n",
       "      <td>1</td>\n",
       "    </tr>\n",
       "    <tr>\n",
       "      <th>66786293</th>\n",
       "      <td>0.0</td>\n",
       "      <td>0.0</td>\n",
       "      <td>1</td>\n",
       "    </tr>\n",
       "    <tr>\n",
       "      <th>70679595</th>\n",
       "      <td>0.0</td>\n",
       "      <td>0.0</td>\n",
       "      <td>1</td>\n",
       "    </tr>\n",
       "  </tbody>\n",
       "</table>\n",
       "</div>"
      ],
      "text/plain": [
       "           solo_sales_ratio  product_receipt_score  class\n",
       "ProductId                                                \n",
       "62024851                0.0                    0.0      1\n",
       "69313125                0.0                    0.0      1\n",
       "69311522                0.0                    0.0      1\n",
       "66786293                0.0                    0.0      1\n",
       "70679595                0.0                    0.0      1"
      ]
     },
     "execution_count": 9,
     "metadata": {},
     "output_type": "execute_result"
    }
   ],
   "source": [
    "df_classification.loc[(df_classification[\"product_receipt_score\"] < 0.5)].sort_values(\n",
    "    by=[\"product_receipt_score\"]\n",
    ").head(5)"
   ]
  },
  {
   "cell_type": "markdown",
   "metadata": {},
   "source": [
    "Let's map the class to its classification labels:"
   ]
  },
  {
   "cell_type": "code",
   "execution_count": 10,
   "metadata": {},
   "outputs": [],
   "source": [
    "df_classification.loc[df_classification[\"class\"] == 0, \"Product Class\"] = \"Driver\"\n",
    "df_classification.loc[df_classification[\"class\"] == 1, \"Product Class\"] = \"Independent\"\n",
    "df_classification.loc[\n",
    "    df_classification[\"class\"] == 2, \"Product Class\"\n",
    "] = \"Complementary\""
   ]
  },
  {
   "cell_type": "code",
   "execution_count": 11,
   "metadata": {},
   "outputs": [
    {
     "data": {
      "text/html": [
       "<div>\n",
       "<style scoped>\n",
       "    .dataframe tbody tr th:only-of-type {\n",
       "        vertical-align: middle;\n",
       "    }\n",
       "\n",
       "    .dataframe tbody tr th {\n",
       "        vertical-align: top;\n",
       "    }\n",
       "\n",
       "    .dataframe thead th {\n",
       "        text-align: right;\n",
       "    }\n",
       "</style>\n",
       "<table border=\"1\" class=\"dataframe\">\n",
       "  <thead>\n",
       "    <tr style=\"text-align: right;\">\n",
       "      <th></th>\n",
       "      <th>ProductId</th>\n",
       "      <th>edge_purchases</th>\n",
       "      <th>n_purchases</th>\n",
       "      <th>solo_purchases</th>\n",
       "      <th>solo_sales_ratio</th>\n",
       "      <th>product_receipt_score</th>\n",
       "      <th>Product Class</th>\n",
       "      <th>class</th>\n",
       "    </tr>\n",
       "  </thead>\n",
       "  <tbody>\n",
       "    <tr>\n",
       "      <th>0</th>\n",
       "      <td>67130910</td>\n",
       "      <td>66.0</td>\n",
       "      <td>141.0</td>\n",
       "      <td>75.0</td>\n",
       "      <td>0.531915</td>\n",
       "      <td>0.974194</td>\n",
       "      <td>Complementary</td>\n",
       "      <td>2</td>\n",
       "    </tr>\n",
       "    <tr>\n",
       "      <th>1</th>\n",
       "      <td>67901421</td>\n",
       "      <td>523.0</td>\n",
       "      <td>1021.0</td>\n",
       "      <td>212.0</td>\n",
       "      <td>0.208046</td>\n",
       "      <td>0.797941</td>\n",
       "      <td>Driver</td>\n",
       "      <td>0</td>\n",
       "    </tr>\n",
       "    <tr>\n",
       "      <th>2</th>\n",
       "      <td>70645722</td>\n",
       "      <td>766.0</td>\n",
       "      <td>919.0</td>\n",
       "      <td>153.0</td>\n",
       "      <td>0.166485</td>\n",
       "      <td>0.223958</td>\n",
       "      <td>Independent</td>\n",
       "      <td>1</td>\n",
       "    </tr>\n",
       "    <tr>\n",
       "      <th>3</th>\n",
       "      <td>70748454</td>\n",
       "      <td>498.0</td>\n",
       "      <td>794.0</td>\n",
       "      <td>233.0</td>\n",
       "      <td>0.293756</td>\n",
       "      <td>0.372562</td>\n",
       "      <td>Independent</td>\n",
       "      <td>1</td>\n",
       "    </tr>\n",
       "    <tr>\n",
       "      <th>4</th>\n",
       "      <td>82008925</td>\n",
       "      <td>3836.0</td>\n",
       "      <td>5281.0</td>\n",
       "      <td>1445.0</td>\n",
       "      <td>0.273622</td>\n",
       "      <td>0.676743</td>\n",
       "      <td>Driver</td>\n",
       "      <td>0</td>\n",
       "    </tr>\n",
       "  </tbody>\n",
       "</table>\n",
       "</div>"
      ],
      "text/plain": [
       "   ProductId  edge_purchases  n_purchases  solo_purchases  solo_sales_ratio  \\\n",
       "0   67130910            66.0        141.0            75.0          0.531915   \n",
       "1   67901421           523.0       1021.0           212.0          0.208046   \n",
       "2   70645722           766.0        919.0           153.0          0.166485   \n",
       "3   70748454           498.0        794.0           233.0          0.293756   \n",
       "4   82008925          3836.0       5281.0          1445.0          0.273622   \n",
       "\n",
       "   product_receipt_score  Product Class  class  \n",
       "0               0.974194  Complementary      2  \n",
       "1               0.797941         Driver      0  \n",
       "2               0.223958    Independent      1  \n",
       "3               0.372562    Independent      1  \n",
       "4               0.676743         Driver      0  "
      ]
     },
     "execution_count": 11,
     "metadata": {},
     "output_type": "execute_result"
    }
   ],
   "source": [
    "df_product_classification = pd.merge(\n",
    "    df_product_score,\n",
    "    df_classification[[\"Product Class\", \"class\"]].reset_index(),\n",
    "    left_on=\"ProductId\",\n",
    "    right_on=\"ProductId\",\n",
    ")\n",
    "\n",
    "df_product_classification[\"ProductId\"] = df_product_classification[\"ProductId\"].astype(\n",
    "    np.int64\n",
    ")\n",
    "\n",
    "df_product_classification.head()"
   ]
  },
  {
   "cell_type": "markdown",
   "metadata": {},
   "source": [
    "## Importing atoti, having a first look at the data\n",
    "\n",
    "First we will start atoti, load the products referential and have a look at the classification algorithm result on our dataset."
   ]
  },
  {
   "cell_type": "code",
   "execution_count": 12,
   "metadata": {},
   "outputs": [],
   "source": [
    "import atoti as tt\n",
    "\n",
    "session = tt.Session(user_content_storage=\"./content\", port=1111)"
   ]
  },
  {
   "cell_type": "markdown",
   "metadata": {},
   "source": [
    "Loading the products referential with all the products information"
   ]
  },
  {
   "cell_type": "code",
   "execution_count": 13,
   "metadata": {},
   "outputs": [
    {
     "data": {
      "text/html": [
       "<div>\n",
       "<style scoped>\n",
       "    .dataframe tbody tr th:only-of-type {\n",
       "        vertical-align: middle;\n",
       "    }\n",
       "\n",
       "    .dataframe tbody tr th {\n",
       "        vertical-align: top;\n",
       "    }\n",
       "\n",
       "    .dataframe thead th {\n",
       "        text-align: right;\n",
       "    }\n",
       "</style>\n",
       "<table border=\"1\" class=\"dataframe\">\n",
       "  <thead>\n",
       "    <tr style=\"text-align: right;\">\n",
       "      <th></th>\n",
       "      <th>Product Name</th>\n",
       "      <th>Brand</th>\n",
       "    </tr>\n",
       "    <tr>\n",
       "      <th>ProductId</th>\n",
       "      <th></th>\n",
       "      <th></th>\n",
       "    </tr>\n",
       "  </thead>\n",
       "  <tbody>\n",
       "    <tr>\n",
       "      <th>69979833</th>\n",
       "      <td>Product 69979833</td>\n",
       "      <td>Brand 60029235</td>\n",
       "    </tr>\n",
       "    <tr>\n",
       "      <th>67130910</th>\n",
       "      <td>Product 67130910</td>\n",
       "      <td>Brand 80105193</td>\n",
       "    </tr>\n",
       "    <tr>\n",
       "      <th>70049084</th>\n",
       "      <td>Product 70049084</td>\n",
       "      <td>Brand 66825570</td>\n",
       "    </tr>\n",
       "    <tr>\n",
       "      <th>67901421</th>\n",
       "      <td>Product 67901421</td>\n",
       "      <td>Brand 81888450</td>\n",
       "    </tr>\n",
       "    <tr>\n",
       "      <th>58878995</th>\n",
       "      <td>Product 58878995</td>\n",
       "      <td>Brand 70698866</td>\n",
       "    </tr>\n",
       "  </tbody>\n",
       "</table>\n",
       "</div>"
      ],
      "text/plain": [
       "               Product Name           Brand\n",
       "ProductId                                  \n",
       "69979833   Product 69979833  Brand 60029235\n",
       "67130910   Product 67130910  Brand 80105193\n",
       "70049084   Product 70049084  Brand 66825570\n",
       "67901421   Product 67901421  Brand 81888450\n",
       "58878995   Product 58878995  Brand 70698866"
      ]
     },
     "execution_count": 13,
     "metadata": {},
     "output_type": "execute_result"
    }
   ],
   "source": [
    "products_table = session.read_csv(\n",
    "    \"s3://data.atoti.io/notebooks/products-classification/products_referential.csv\",\n",
    "    keys=[\"ProductId\"],\n",
    "    table_name=\"Products\",\n",
    ")\n",
    "products_table.head()"
   ]
  },
  {
   "cell_type": "code",
   "execution_count": 14,
   "metadata": {},
   "outputs": [
    {
     "data": {
      "text/plain": [
       "{'columns': 3, 'rows': 58786}"
      ]
     },
     "execution_count": 14,
     "metadata": {},
     "output_type": "execute_result"
    }
   ],
   "source": [
    "# print shape of table\n",
    "{\"columns\": len(products_table.columns), \"rows\": len(products_table)}"
   ]
  },
  {
   "cell_type": "markdown",
   "metadata": {},
   "source": [
    "Then loading the result of the classification algorithm"
   ]
  },
  {
   "cell_type": "code",
   "execution_count": 15,
   "metadata": {},
   "outputs": [
    {
     "data": {
      "text/html": [
       "<div>\n",
       "<style scoped>\n",
       "    .dataframe tbody tr th:only-of-type {\n",
       "        vertical-align: middle;\n",
       "    }\n",
       "\n",
       "    .dataframe tbody tr th {\n",
       "        vertical-align: top;\n",
       "    }\n",
       "\n",
       "    .dataframe thead th {\n",
       "        text-align: right;\n",
       "    }\n",
       "</style>\n",
       "<table border=\"1\" class=\"dataframe\">\n",
       "  <thead>\n",
       "    <tr style=\"text-align: right;\">\n",
       "      <th></th>\n",
       "      <th>edge_purchases</th>\n",
       "      <th>n_purchases</th>\n",
       "      <th>solo_purchases</th>\n",
       "      <th>solo_sales_ratio</th>\n",
       "      <th>product_receipt_score</th>\n",
       "      <th>Product Class</th>\n",
       "      <th>class</th>\n",
       "    </tr>\n",
       "    <tr>\n",
       "      <th>ProductId</th>\n",
       "      <th></th>\n",
       "      <th></th>\n",
       "      <th></th>\n",
       "      <th></th>\n",
       "      <th></th>\n",
       "      <th></th>\n",
       "      <th></th>\n",
       "    </tr>\n",
       "  </thead>\n",
       "  <tbody>\n",
       "    <tr>\n",
       "      <th>67130910</th>\n",
       "      <td>66.0</td>\n",
       "      <td>141.0</td>\n",
       "      <td>75.0</td>\n",
       "      <td>0.531915</td>\n",
       "      <td>0.974194</td>\n",
       "      <td>Complementary</td>\n",
       "      <td>2</td>\n",
       "    </tr>\n",
       "    <tr>\n",
       "      <th>67901421</th>\n",
       "      <td>523.0</td>\n",
       "      <td>1021.0</td>\n",
       "      <td>212.0</td>\n",
       "      <td>0.208046</td>\n",
       "      <td>0.797941</td>\n",
       "      <td>Driver</td>\n",
       "      <td>0</td>\n",
       "    </tr>\n",
       "    <tr>\n",
       "      <th>70645722</th>\n",
       "      <td>766.0</td>\n",
       "      <td>919.0</td>\n",
       "      <td>153.0</td>\n",
       "      <td>0.166485</td>\n",
       "      <td>0.223958</td>\n",
       "      <td>Independent</td>\n",
       "      <td>1</td>\n",
       "    </tr>\n",
       "    <tr>\n",
       "      <th>70748454</th>\n",
       "      <td>498.0</td>\n",
       "      <td>794.0</td>\n",
       "      <td>233.0</td>\n",
       "      <td>0.293756</td>\n",
       "      <td>0.372562</td>\n",
       "      <td>Independent</td>\n",
       "      <td>1</td>\n",
       "    </tr>\n",
       "    <tr>\n",
       "      <th>82008925</th>\n",
       "      <td>3836.0</td>\n",
       "      <td>5281.0</td>\n",
       "      <td>1445.0</td>\n",
       "      <td>0.273622</td>\n",
       "      <td>0.676743</td>\n",
       "      <td>Driver</td>\n",
       "      <td>0</td>\n",
       "    </tr>\n",
       "  </tbody>\n",
       "</table>\n",
       "</div>"
      ],
      "text/plain": [
       "           edge_purchases  n_purchases  solo_purchases  solo_sales_ratio  \\\n",
       "ProductId                                                                  \n",
       "67130910             66.0        141.0            75.0          0.531915   \n",
       "67901421            523.0       1021.0           212.0          0.208046   \n",
       "70645722            766.0        919.0           153.0          0.166485   \n",
       "70748454            498.0        794.0           233.0          0.293756   \n",
       "82008925           3836.0       5281.0          1445.0          0.273622   \n",
       "\n",
       "           product_receipt_score  Product Class  class  \n",
       "ProductId                                               \n",
       "67130910                0.974194  Complementary      2  \n",
       "67901421                0.797941         Driver      0  \n",
       "70645722                0.223958    Independent      1  \n",
       "70748454                0.372562    Independent      1  \n",
       "82008925                0.676743         Driver      0  "
      ]
     },
     "execution_count": 15,
     "metadata": {},
     "output_type": "execute_result"
    }
   ],
   "source": [
    "classified_products_table = session.read_pandas(\n",
    "    df_product_classification, keys=[\"ProductId\"], table_name=\"classified_products\"\n",
    ")\n",
    "classified_products_table.head()"
   ]
  },
  {
   "cell_type": "markdown",
   "metadata": {},
   "source": [
    "And join them together"
   ]
  },
  {
   "cell_type": "code",
   "execution_count": 16,
   "metadata": {},
   "outputs": [],
   "source": [
    "classified_products_table.join(products_table, mapping={\"ProductId\": \"ProductId\"})"
   ]
  },
  {
   "cell_type": "markdown",
   "metadata": {},
   "source": [
    "We can then create a cube"
   ]
  },
  {
   "cell_type": "code",
   "execution_count": 17,
   "metadata": {},
   "outputs": [],
   "source": [
    "cube = session.create_cube(classified_products_table, \"products_cube\")"
   ]
  },
  {
   "cell_type": "code",
   "execution_count": 18,
   "metadata": {},
   "outputs": [
    {
     "data": {
      "image/svg+xml": [
       "<svg xmlns=\"http://www.w3.org/2000/svg\" xmlns:xlink=\"http://www.w3.org/1999/xlink\" width=\"582px\" height=\"234px\" viewBox=\"0.00 0.00 582.00 234.00\">\n",
       "<g id=\"graph0\" class=\"graph\" transform=\"scale(1.0 1.0) rotate(0) translate(4 230)\">\n",
       "<title>products_cube schema</title>\n",
       "<polygon fill=\"white\" stroke=\"transparent\" points=\"-4,4 -4,-230 578,-230 578,4 -4,4\"/>\n",
       "<!-- classified_products -->\n",
       "<g id=\"node1\" class=\"node\">\n",
       "<title>classified_products</title>\n",
       "<text text-anchor=\"start\" x=\"57.5\" y=\"-206.6\" font-family=\"-apple-system, BlinkMacSystemFont, 'Segoe UI', Helvetica, Arial, sans-serif, 'Apple Color Emoji', 'Segoe UI Emoji', 'Segoe UI Symbol'\" font-weight=\"bold\" font-size=\"13.00\">classified_products</text>\n",
       "<polygon fill=\"#f5f5f5\" stroke=\"transparent\" points=\"9,-173 9,-197 40,-197 40,-173 9,-173\"/>\n",
       "<text text-anchor=\"start\" x=\"14\" y=\"-182.6\" font-family=\"-apple-system, BlinkMacSystemFont, 'Segoe UI', Helvetica, Arial, sans-serif, 'Apple Color Emoji', 'Segoe UI Emoji', 'Segoe UI Symbol'\" font-weight=\"bold\" font-size=\"13.00\">key</text>\n",
       "<polygon fill=\"#f5f5f5\" stroke=\"transparent\" points=\"40,-173 40,-197 174,-197 174,-173 40,-173\"/>\n",
       "<text text-anchor=\"start\" x=\"45\" y=\"-181.6\" font-family=\"-apple-system, BlinkMacSystemFont, 'Segoe UI', Helvetica, Arial, sans-serif, 'Apple Color Emoji', 'Segoe UI Emoji', 'Segoe UI Symbol'\" font-size=\"13.00\">ProductId</text>\n",
       "<polygon fill=\"#f5f5f5\" stroke=\"transparent\" points=\"174,-173 174,-197 221,-197 221,-173 174,-173\"/>\n",
       "<text text-anchor=\"start\" x=\"193\" y=\"-182.6\" font-family=\"-apple-system, BlinkMacSystemFont, 'Segoe UI', Helvetica, Arial, sans-serif, 'Apple Color Emoji', 'Segoe UI Emoji', 'Segoe UI Symbol'\" font-style=\"italic\" font-size=\"13.00\">long</text>\n",
       "<polygon fill=\"#ffffff\" stroke=\"transparent\" points=\"9,-149 9,-173 40,-173 40,-149 9,-149\"/>\n",
       "<polygon fill=\"#ffffff\" stroke=\"transparent\" points=\"40,-149 40,-173 174,-173 174,-149 40,-149\"/>\n",
       "<text text-anchor=\"start\" x=\"45\" y=\"-157.6\" font-family=\"-apple-system, BlinkMacSystemFont, 'Segoe UI', Helvetica, Arial, sans-serif, 'Apple Color Emoji', 'Segoe UI Emoji', 'Segoe UI Symbol'\" font-size=\"13.00\">edge_purchases</text>\n",
       "<polygon fill=\"#ffffff\" stroke=\"transparent\" points=\"174,-149 174,-173 221,-173 221,-149 174,-149\"/>\n",
       "<text text-anchor=\"start\" x=\"179\" y=\"-158.6\" font-family=\"-apple-system, BlinkMacSystemFont, 'Segoe UI', Helvetica, Arial, sans-serif, 'Apple Color Emoji', 'Segoe UI Emoji', 'Segoe UI Symbol'\" font-style=\"italic\" font-size=\"13.00\">double</text>\n",
       "<polygon fill=\"#f5f5f5\" stroke=\"transparent\" points=\"9,-125 9,-149 40,-149 40,-125 9,-125\"/>\n",
       "<polygon fill=\"#f5f5f5\" stroke=\"transparent\" points=\"40,-125 40,-149 174,-149 174,-125 40,-125\"/>\n",
       "<text text-anchor=\"start\" x=\"45\" y=\"-133.6\" font-family=\"-apple-system, BlinkMacSystemFont, 'Segoe UI', Helvetica, Arial, sans-serif, 'Apple Color Emoji', 'Segoe UI Emoji', 'Segoe UI Symbol'\" font-size=\"13.00\">n_purchases</text>\n",
       "<polygon fill=\"#f5f5f5\" stroke=\"transparent\" points=\"174,-125 174,-149 221,-149 221,-125 174,-125\"/>\n",
       "<text text-anchor=\"start\" x=\"179\" y=\"-134.6\" font-family=\"-apple-system, BlinkMacSystemFont, 'Segoe UI', Helvetica, Arial, sans-serif, 'Apple Color Emoji', 'Segoe UI Emoji', 'Segoe UI Symbol'\" font-style=\"italic\" font-size=\"13.00\">double</text>\n",
       "<polygon fill=\"#ffffff\" stroke=\"transparent\" points=\"9,-101 9,-125 40,-125 40,-101 9,-101\"/>\n",
       "<polygon fill=\"#ffffff\" stroke=\"transparent\" points=\"40,-101 40,-125 174,-125 174,-101 40,-101\"/>\n",
       "<text text-anchor=\"start\" x=\"45\" y=\"-109.6\" font-family=\"-apple-system, BlinkMacSystemFont, 'Segoe UI', Helvetica, Arial, sans-serif, 'Apple Color Emoji', 'Segoe UI Emoji', 'Segoe UI Symbol'\" font-size=\"13.00\">solo_purchases</text>\n",
       "<polygon fill=\"#ffffff\" stroke=\"transparent\" points=\"174,-101 174,-125 221,-125 221,-101 174,-101\"/>\n",
       "<text text-anchor=\"start\" x=\"179\" y=\"-110.6\" font-family=\"-apple-system, BlinkMacSystemFont, 'Segoe UI', Helvetica, Arial, sans-serif, 'Apple Color Emoji', 'Segoe UI Emoji', 'Segoe UI Symbol'\" font-style=\"italic\" font-size=\"13.00\">double</text>\n",
       "<polygon fill=\"#f5f5f5\" stroke=\"transparent\" points=\"9,-77 9,-101 40,-101 40,-77 9,-77\"/>\n",
       "<polygon fill=\"#f5f5f5\" stroke=\"transparent\" points=\"40,-77 40,-101 174,-101 174,-77 40,-77\"/>\n",
       "<text text-anchor=\"start\" x=\"45\" y=\"-85.6\" font-family=\"-apple-system, BlinkMacSystemFont, 'Segoe UI', Helvetica, Arial, sans-serif, 'Apple Color Emoji', 'Segoe UI Emoji', 'Segoe UI Symbol'\" font-size=\"13.00\">solo_sales_ratio</text>\n",
       "<polygon fill=\"#f5f5f5\" stroke=\"transparent\" points=\"174,-77 174,-101 221,-101 221,-77 174,-77\"/>\n",
       "<text text-anchor=\"start\" x=\"179\" y=\"-86.6\" font-family=\"-apple-system, BlinkMacSystemFont, 'Segoe UI', Helvetica, Arial, sans-serif, 'Apple Color Emoji', 'Segoe UI Emoji', 'Segoe UI Symbol'\" font-style=\"italic\" font-size=\"13.00\">double</text>\n",
       "<polygon fill=\"#ffffff\" stroke=\"transparent\" points=\"9,-53 9,-77 40,-77 40,-53 9,-53\"/>\n",
       "<polygon fill=\"#ffffff\" stroke=\"transparent\" points=\"40,-53 40,-77 174,-77 174,-53 40,-53\"/>\n",
       "<text text-anchor=\"start\" x=\"45\" y=\"-61.6\" font-family=\"-apple-system, BlinkMacSystemFont, 'Segoe UI', Helvetica, Arial, sans-serif, 'Apple Color Emoji', 'Segoe UI Emoji', 'Segoe UI Symbol'\" font-size=\"13.00\">product_receipt_score</text>\n",
       "<polygon fill=\"#ffffff\" stroke=\"transparent\" points=\"174,-53 174,-77 221,-77 221,-53 174,-53\"/>\n",
       "<text text-anchor=\"start\" x=\"179\" y=\"-62.6\" font-family=\"-apple-system, BlinkMacSystemFont, 'Segoe UI', Helvetica, Arial, sans-serif, 'Apple Color Emoji', 'Segoe UI Emoji', 'Segoe UI Symbol'\" font-style=\"italic\" font-size=\"13.00\">double</text>\n",
       "<polygon fill=\"#f5f5f5\" stroke=\"transparent\" points=\"9,-29 9,-53 40,-53 40,-29 9,-29\"/>\n",
       "<polygon fill=\"#f5f5f5\" stroke=\"transparent\" points=\"40,-29 40,-53 174,-53 174,-29 40,-29\"/>\n",
       "<text text-anchor=\"start\" x=\"45\" y=\"-37.6\" font-family=\"-apple-system, BlinkMacSystemFont, 'Segoe UI', Helvetica, Arial, sans-serif, 'Apple Color Emoji', 'Segoe UI Emoji', 'Segoe UI Symbol'\" font-size=\"13.00\">Product Class</text>\n",
       "<polygon fill=\"#f5f5f5\" stroke=\"transparent\" points=\"174,-29 174,-53 221,-53 221,-29 174,-29\"/>\n",
       "<text text-anchor=\"start\" x=\"183\" y=\"-38.6\" font-family=\"-apple-system, BlinkMacSystemFont, 'Segoe UI', Helvetica, Arial, sans-serif, 'Apple Color Emoji', 'Segoe UI Emoji', 'Segoe UI Symbol'\" font-style=\"italic\" font-size=\"13.00\">String</text>\n",
       "<polygon fill=\"#ffffff\" stroke=\"transparent\" points=\"9,-5 9,-29 40,-29 40,-5 9,-5\"/>\n",
       "<polygon fill=\"#ffffff\" stroke=\"transparent\" points=\"40,-5 40,-29 174,-29 174,-5 40,-5\"/>\n",
       "<text text-anchor=\"start\" x=\"45\" y=\"-13.6\" font-family=\"-apple-system, BlinkMacSystemFont, 'Segoe UI', Helvetica, Arial, sans-serif, 'Apple Color Emoji', 'Segoe UI Emoji', 'Segoe UI Symbol'\" font-size=\"13.00\">class</text>\n",
       "<polygon fill=\"#ffffff\" stroke=\"transparent\" points=\"174,-5 174,-29 221,-29 221,-5 174,-5\"/>\n",
       "<text text-anchor=\"start\" x=\"202\" y=\"-14.6\" font-family=\"-apple-system, BlinkMacSystemFont, 'Segoe UI', Helvetica, Arial, sans-serif, 'Apple Color Emoji', 'Segoe UI Emoji', 'Segoe UI Symbol'\" font-style=\"italic\" font-size=\"13.00\">int</text>\n",
       "<polygon fill=\"none\" stroke=\"black\" points=\"8,-4 8,-222 222,-222 222,-4 8,-4\"/>\n",
       "</g>\n",
       "<!-- Products -->\n",
       "<g id=\"node2\" class=\"node\">\n",
       "<title>Products</title>\n",
       "<text text-anchor=\"start\" x=\"456.5\" y=\"-146.6\" font-family=\"-apple-system, BlinkMacSystemFont, 'Segoe UI', Helvetica, Arial, sans-serif, 'Apple Color Emoji', 'Segoe UI Emoji', 'Segoe UI Symbol'\" font-weight=\"bold\" font-size=\"13.00\">Products</text>\n",
       "<polygon fill=\"#f5f5f5\" stroke=\"transparent\" points=\"402.5,-113 402.5,-137 433.5,-137 433.5,-113 402.5,-113\"/>\n",
       "<text text-anchor=\"start\" x=\"407.5\" y=\"-122.6\" font-family=\"-apple-system, BlinkMacSystemFont, 'Segoe UI', Helvetica, Arial, sans-serif, 'Apple Color Emoji', 'Segoe UI Emoji', 'Segoe UI Symbol'\" font-weight=\"bold\" font-size=\"13.00\">key</text>\n",
       "<polygon fill=\"#f5f5f5\" stroke=\"transparent\" points=\"433.5,-113 433.5,-137 522.5,-137 522.5,-113 433.5,-113\"/>\n",
       "<text text-anchor=\"start\" x=\"438.5\" y=\"-121.6\" font-family=\"-apple-system, BlinkMacSystemFont, 'Segoe UI', Helvetica, Arial, sans-serif, 'Apple Color Emoji', 'Segoe UI Emoji', 'Segoe UI Symbol'\" font-size=\"13.00\">ProductId</text>\n",
       "<polygon fill=\"#f5f5f5\" stroke=\"transparent\" points=\"522.5,-113 522.5,-137 565.5,-137 565.5,-113 522.5,-113\"/>\n",
       "<text text-anchor=\"start\" x=\"537.5\" y=\"-122.6\" font-family=\"-apple-system, BlinkMacSystemFont, 'Segoe UI', Helvetica, Arial, sans-serif, 'Apple Color Emoji', 'Segoe UI Emoji', 'Segoe UI Symbol'\" font-style=\"italic\" font-size=\"13.00\">long</text>\n",
       "<polygon fill=\"#ffffff\" stroke=\"transparent\" points=\"402.5,-89 402.5,-113 433.5,-113 433.5,-89 402.5,-89\"/>\n",
       "<polygon fill=\"#ffffff\" stroke=\"transparent\" points=\"433.5,-89 433.5,-113 522.5,-113 522.5,-89 433.5,-89\"/>\n",
       "<text text-anchor=\"start\" x=\"438.5\" y=\"-97.6\" font-family=\"-apple-system, BlinkMacSystemFont, 'Segoe UI', Helvetica, Arial, sans-serif, 'Apple Color Emoji', 'Segoe UI Emoji', 'Segoe UI Symbol'\" font-size=\"13.00\">Product Name</text>\n",
       "<polygon fill=\"#ffffff\" stroke=\"transparent\" points=\"522.5,-89 522.5,-113 565.5,-113 565.5,-89 522.5,-89\"/>\n",
       "<text text-anchor=\"start\" x=\"527.5\" y=\"-98.6\" font-family=\"-apple-system, BlinkMacSystemFont, 'Segoe UI', Helvetica, Arial, sans-serif, 'Apple Color Emoji', 'Segoe UI Emoji', 'Segoe UI Symbol'\" font-style=\"italic\" font-size=\"13.00\">String</text>\n",
       "<polygon fill=\"#f5f5f5\" stroke=\"transparent\" points=\"402.5,-65 402.5,-89 433.5,-89 433.5,-65 402.5,-65\"/>\n",
       "<polygon fill=\"#f5f5f5\" stroke=\"transparent\" points=\"433.5,-65 433.5,-89 522.5,-89 522.5,-65 433.5,-65\"/>\n",
       "<text text-anchor=\"start\" x=\"438.5\" y=\"-73.6\" font-family=\"-apple-system, BlinkMacSystemFont, 'Segoe UI', Helvetica, Arial, sans-serif, 'Apple Color Emoji', 'Segoe UI Emoji', 'Segoe UI Symbol'\" font-size=\"13.00\">Brand</text>\n",
       "<polygon fill=\"#f5f5f5\" stroke=\"transparent\" points=\"522.5,-65 522.5,-89 565.5,-89 565.5,-65 522.5,-65\"/>\n",
       "<text text-anchor=\"start\" x=\"527.5\" y=\"-74.6\" font-family=\"-apple-system, BlinkMacSystemFont, 'Segoe UI', Helvetica, Arial, sans-serif, 'Apple Color Emoji', 'Segoe UI Emoji', 'Segoe UI Symbol'\" font-style=\"italic\" font-size=\"13.00\">String</text>\n",
       "<polygon fill=\"none\" stroke=\"black\" points=\"401,-64 401,-162 566,-162 566,-64 401,-64\"/>\n",
       "</g>\n",
       "<!-- classified_products&#45;&gt;Products -->\n",
       "<g id=\"edge1\" class=\"edge\">\n",
       "<title>classified_products-&gt;Products</title>\n",
       "<path fill=\"none\" stroke=\"black\" d=\"M230.2,-113C279.04,-113 335.53,-113 382.66,-113\"/>\n",
       "<polygon fill=\"black\" stroke=\"black\" points=\"382.88,-116.5 392.88,-113 382.88,-109.5 382.88,-116.5\"/>\n",
       "<text text-anchor=\"middle\" x=\"311.5\" y=\"-116.6\" font-family=\"-apple-system, BlinkMacSystemFont, 'Segoe UI', Helvetica, Arial, sans-serif, 'Apple Color Emoji', 'Segoe UI Emoji', 'Segoe UI Symbol'\" font-size=\"13.00\">ProductId → ProductId</text>\n",
       "</g>\n",
       "</g>\n",
       "</svg>"
      ],
      "text/plain": [
       "<IPython.core.display.SVG object>"
      ]
     },
     "execution_count": 18,
     "metadata": {},
     "output_type": "execute_result"
    }
   ],
   "source": [
    "cube.schema"
   ]
  },
  {
   "cell_type": "markdown",
   "metadata": {},
   "source": [
    "And have a first look at the data"
   ]
  },
  {
   "cell_type": "code",
   "execution_count": 19,
   "metadata": {
    "atoti": {
     "widget": {
      "filters": [
       "{[Products].[Brand].[AllMember].[Brand 1064770], [Products].[Brand].[AllMember].[Brand 11942837]}"
      ],
      "mapping": {
       "horizontalSubplots": [],
       "sliceBy": [
        "[classified_products].[Product Class].[Product Class]"
       ],
       "values": [
        "[Measures].[contributors.COUNT]"
       ],
       "verticalSubplots": []
      },
      "name": "Percentage of products per class pie chart",
      "query": {
       "context": {
        "queriesResultLimit.intermediateSize": 1000000,
        "queriesResultLimit.transientSize": 10000000
       },
       "mdx": "SELECT NON EMPTY [Measures].[contributors.COUNT] ON COLUMNS, NON EMPTY [classified_products].[Product Class].[Product Class].Members ON ROWS FROM [products_cube] CELL PROPERTIES VALUE, FORMATTED_VALUE, BACK_COLOR, FORE_COLOR, FONT_FLAGS",
       "updateMode": "once"
      },
      "serverKey": "default",
      "widgetKey": "plotly-donut-chart"
     }
    },
    "tags": []
   },
   "outputs": [
    {
     "data": {
      "application/vnd.atoti.widget.v0+json": {
       "name": "Percentage of products per class pie chart",
       "sessionId": "1648808159_SOX2DY",
       "sessionLocation": {
        "https": null,
        "port": 1111
       },
       "widgetCreationCode": "session.visualize()"
      },
      "text/html": [
       "<img src=\"data:image/svg+xml;charset=utf8,%3C%3Fxml%20version%3D%221.0%22%20standalone%3D%22no%22%3F%3E%3Csvg%20xmlns%3D%22http%3A%2F%2Fwww.w3.org%2F2000%2Fsvg%22%20xmlns%3Axlink%3D%22http%3A%2F%2Fwww.w3.org%2F1999%2Fxlink%22%20height%3D%22352%22%20width%3D%22967%22%20viewBox%3D%220%200%20967%20352%22%3E%3Cdefs%20id%3D%22defs-44045b%22%3E%3Cg%20class%3D%22clips%22%2F%3E%3Cg%20class%3D%22gradients%22%2F%3E%3C%2Fdefs%3E%3Cg%20class%3D%22bglayer%22%2F%3E%3Cg%20class%3D%22draglayer%22%2F%3E%3Cg%20class%3D%22layer-below%22%3E%3Cg%20class%3D%22imagelayer%22%2F%3E%3Cg%20class%3D%22shapelayer%22%2F%3E%3C%2Fg%3E%3Cg%20class%3D%22cartesianlayer%22%2F%3E%3Cg%20class%3D%22polarlayer%22%2F%3E%3Cg%20class%3D%22ternarylayer%22%2F%3E%3Cg%20class%3D%22geolayer%22%2F%3E%3Cg%20class%3D%22funnelarealayer%22%2F%3E%3Cg%20class%3D%22pielayer%22%3E%3Cg%20class%3D%22trace%22%20stroke-linejoin%3D%22round%22%20style%3D%22opacity%3A%201%3B%22%3E%3Cg%20class%3D%22slice%22%3E%3Cpath%20class%3D%22surface%22%20d%3D%22M455%2C199.4a48.400000000000006%2C48.400000000000006%200%200%200%20-5.92729050787319e-15%2C-96.80000000000001l0%2C-72.6a121%2C121%200%200%201%201.4818226269682975e-14%2C242Z%22%20style%3D%22pointer-events%3A%20all%3B%20stroke-width%3A%200%3B%20fill%3A%20rgb(78%2C%20121%2C%20167)%3B%20fill-opacity%3A%201%3B%20stroke%3A%20rgb(68%2C%2068%2C%2068)%3B%20stroke-opacity%3A%201%3B%22%2F%3E%3C%2Fg%3E%3Cg%20class%3D%22slice%22%3E%3Cpath%20class%3D%22surface%22%20d%3D%22M455%2C102.6a48.400000000000006%2C48.400000000000006%200%200%200%20-5.92729050787319e-15%2C96.80000000000001l-8.890935761809785e-15%2C72.6a121%2C121%200%200%201%201.4818226269682975e-14%2C-242Z%22%20style%3D%22pointer-events%3A%20all%3B%20stroke-width%3A%200%3B%20fill%3A%20rgb(242%2C%20142%2C%2044)%3B%20fill-opacity%3A%201%3B%20stroke%3A%20rgb(68%2C%2068%2C%2068)%3B%20stroke-opacity%3A%201%3B%22%2F%3E%3C%2Fg%3E%3C%2Fg%3E%3C%2Fg%3E%3Cg%20class%3D%22treemaplayer%22%2F%3E%3Cg%20class%3D%22sunburstlayer%22%2F%3E%3Cg%20class%3D%22glimages%22%2F%3E%3Cdefs%20id%3D%22topdefs-44045b%22%3E%3Cg%20class%3D%22clips%22%2F%3E%3CclipPath%20id%3D%22legend44045b%22%3E%3Crect%20width%3D%22122%22%20height%3D%2248%22%20x%3D%220%22%20y%3D%220%22%2F%3E%3C%2FclipPath%3E%3C%2Fdefs%3E%3Cg%20class%3D%22indicatorlayer%22%2F%3E%3Cg%20class%3D%22layer-above%22%3E%3Cg%20class%3D%22imagelayer%22%2F%3E%3Cg%20class%3D%22shapelayer%22%2F%3E%3C%2Fg%3E%3Cg%20class%3D%22infolayer%22%3E%3Cg%20class%3D%22legend%22%20pointer-events%3D%22all%22%20transform%3D%22translate(845%2C30)%22%3E%3Crect%20class%3D%22bg%22%20shape-rendering%3D%22crispEdges%22%20style%3D%22stroke%3A%20rgb(68%2C%2068%2C%2068)%3B%20stroke-opacity%3A%201%3B%20fill%3A%20rgb(255%2C%20255%2C%20255)%3B%20fill-opacity%3A%201%3B%20stroke-width%3A%200px%3B%22%20width%3D%22122%22%20height%3D%2248%22%20x%3D%220%22%20y%3D%220%22%2F%3E%3Cg%20class%3D%22scrollbox%22%20transform%3D%22%22%20clip-path%3D%22url('%23legend44045b')%22%3E%3Cg%20class%3D%22groups%22%3E%3Cg%20class%3D%22traces%22%20style%3D%22opacity%3A%201%3B%22%20transform%3D%22translate(0%2C14.5)%22%3E%3Ctext%20class%3D%22legendtext%22%20text-anchor%3D%22start%22%20x%3D%2240%22%20y%3D%224.680000000000001%22%20data-unformatted%3D%22Driver%22%20data-math%3D%22N%22%20style%3D%22font-family%3A%20%26quot%3BOpen%20Sans%26quot%3B%2C%20verdana%2C%20arial%2C%20sans-serif%3B%20font-size%3A%2012px%3B%20fill%3A%20rgb(89%2C%2089%2C%2089)%3B%20fill-opacity%3A%201%3B%20white-space%3A%20pre%3B%22%3EDriver%3C%2Ftext%3E%3Cg%20class%3D%22layers%22%20style%3D%22opacity%3A%201%3B%22%3E%3Cg%20class%3D%22legendfill%22%2F%3E%3Cg%20class%3D%22legendlines%22%2F%3E%3Cg%20class%3D%22legendsymbols%22%3E%3Cg%20class%3D%22legendpoints%22%3E%3Cpath%20class%3D%22legendpie%22%20d%3D%22M6%2C6H-6V-6H6Z%22%20transform%3D%22translate(20%2C0)%22%20style%3D%22stroke-width%3A%200%3B%20fill%3A%20rgb(78%2C%20121%2C%20167)%3B%20fill-opacity%3A%201%3B%20stroke%3A%20rgb(68%2C%2068%2C%2068)%3B%20stroke-opacity%3A%201%3B%22%2F%3E%3C%2Fg%3E%3C%2Fg%3E%3C%2Fg%3E%3Crect%20class%3D%22legendtoggle%22%20pointer-events%3D%22all%22%20x%3D%220%22%20y%3D%22-9.5%22%20width%3D%22116.50703430175781%22%20height%3D%2219%22%20style%3D%22cursor%3A%20pointer%3B%20fill%3A%20rgb(0%2C%200%2C%200)%3B%20fill-opacity%3A%200%3B%22%2F%3E%3C%2Fg%3E%3Cg%20class%3D%22traces%22%20style%3D%22opacity%3A%201%3B%22%20transform%3D%22translate(0%2C33.5)%22%3E%3Ctext%20class%3D%22legendtext%22%20text-anchor%3D%22start%22%20x%3D%2240%22%20y%3D%224.680000000000001%22%20data-unformatted%3D%22Independent%22%20data-math%3D%22N%22%20style%3D%22font-family%3A%20%26quot%3BOpen%20Sans%26quot%3B%2C%20verdana%2C%20arial%2C%20sans-serif%3B%20font-size%3A%2012px%3B%20fill%3A%20rgb(89%2C%2089%2C%2089)%3B%20fill-opacity%3A%201%3B%20white-space%3A%20pre%3B%22%3EIndependent%3C%2Ftext%3E%3Cg%20class%3D%22layers%22%20style%3D%22opacity%3A%201%3B%22%3E%3Cg%20class%3D%22legendfill%22%2F%3E%3Cg%20class%3D%22legendlines%22%2F%3E%3Cg%20class%3D%22legendsymbols%22%3E%3Cg%20class%3D%22legendpoints%22%3E%3Cpath%20class%3D%22legendpie%22%20d%3D%22M6%2C6H-6V-6H6Z%22%20transform%3D%22translate(20%2C0)%22%20style%3D%22stroke-width%3A%200%3B%20fill%3A%20rgb(242%2C%20142%2C%2044)%3B%20fill-opacity%3A%201%3B%20stroke%3A%20rgb(68%2C%2068%2C%2068)%3B%20stroke-opacity%3A%201%3B%22%2F%3E%3C%2Fg%3E%3C%2Fg%3E%3C%2Fg%3E%3Crect%20class%3D%22legendtoggle%22%20pointer-events%3D%22all%22%20x%3D%220%22%20y%3D%22-9.5%22%20width%3D%22116.50703430175781%22%20height%3D%2219%22%20style%3D%22cursor%3A%20pointer%3B%20fill%3A%20rgb(0%2C%200%2C%200)%3B%20fill-opacity%3A%200%3B%22%2F%3E%3C%2Fg%3E%3C%2Fg%3E%3C%2Fg%3E%3Crect%20class%3D%22scrollbar%22%20rx%3D%2220%22%20ry%3D%223%22%20width%3D%220%22%20height%3D%220%22%20style%3D%22fill%3A%20rgb(128%2C%20139%2C%20164)%3B%20fill-opacity%3A%201%3B%22%20x%3D%220%22%20y%3D%220%22%2F%3E%3C%2Fg%3E%3Cg%20class%3D%22g-gtitle%22%2F%3E%3C%2Fg%3E%3Cg%20class%3D%22menulayer%22%2F%3E%3Cg%20class%3D%22zoomlayer%22%2F%3E%3Cg%20class%3D%22hoverlayer%22%2F%3E%3C%2Fsvg%3E\">"
      ],
      "text/plain": [
       "Open the notebook in JupyterLab with the atoti extension enabled to build this widget."
      ]
     },
     "metadata": {},
     "output_type": "display_data"
    }
   ],
   "source": [
    "session.visualize(\"Percentage of products per class pie chart\")"
   ]
  },
  {
   "cell_type": "code",
   "execution_count": 20,
   "metadata": {},
   "outputs": [
    {
     "data": {
      "application/vnd.atoti.link.v0+json": {
       "path": "",
       "sessionLocation": {
        "https": null,
        "port": 1111
       }
      },
      "text/plain": [
       "Open the notebook in JupyterLab with the atoti extension enabled to see this link."
      ]
     },
     "execution_count": 20,
     "metadata": {},
     "output_type": "execute_result"
    }
   ],
   "source": [
    "session.link()"
   ]
  },
  {
   "cell_type": "markdown",
   "metadata": {},
   "source": [
    "## Computing the margin\n",
    "\n",
    "To perform that calculation we will load the purchase and selling prices tables and join them to the current data structure."
   ]
  },
  {
   "cell_type": "code",
   "execution_count": 21,
   "metadata": {},
   "outputs": [
    {
     "data": {
      "text/html": [
       "<div>\n",
       "<style scoped>\n",
       "    .dataframe tbody tr th:only-of-type {\n",
       "        vertical-align: middle;\n",
       "    }\n",
       "\n",
       "    .dataframe tbody tr th {\n",
       "        vertical-align: top;\n",
       "    }\n",
       "\n",
       "    .dataframe thead th {\n",
       "        text-align: right;\n",
       "    }\n",
       "</style>\n",
       "<table border=\"1\" class=\"dataframe\">\n",
       "  <thead>\n",
       "    <tr style=\"text-align: right;\">\n",
       "      <th></th>\n",
       "      <th>PurchasePrice</th>\n",
       "    </tr>\n",
       "    <tr>\n",
       "      <th>ProductId</th>\n",
       "      <th></th>\n",
       "    </tr>\n",
       "  </thead>\n",
       "  <tbody>\n",
       "    <tr>\n",
       "      <th>67130910</th>\n",
       "      <td>231.68</td>\n",
       "    </tr>\n",
       "    <tr>\n",
       "      <th>67901421</th>\n",
       "      <td>176.91</td>\n",
       "    </tr>\n",
       "    <tr>\n",
       "      <th>70645722</th>\n",
       "      <td>10.90</td>\n",
       "    </tr>\n",
       "    <tr>\n",
       "      <th>70748454</th>\n",
       "      <td>39.89</td>\n",
       "    </tr>\n",
       "    <tr>\n",
       "      <th>82008925</th>\n",
       "      <td>174.29</td>\n",
       "    </tr>\n",
       "  </tbody>\n",
       "</table>\n",
       "</div>"
      ],
      "text/plain": [
       "           PurchasePrice\n",
       "ProductId               \n",
       "67130910          231.68\n",
       "67901421          176.91\n",
       "70645722           10.90\n",
       "70748454           39.89\n",
       "82008925          174.29"
      ]
     },
     "execution_count": 21,
     "metadata": {},
     "output_type": "execute_result"
    }
   ],
   "source": [
    "purchase_prices_table = session.read_csv(\n",
    "    \"s3://data.atoti.io/notebooks/products-classification/purchase_prices.csv\",\n",
    "    keys=[\"ProductId\"],\n",
    "    table_name=\"purchase_prices\",\n",
    ")\n",
    "purchase_prices_table.head()"
   ]
  },
  {
   "cell_type": "code",
   "execution_count": 22,
   "metadata": {},
   "outputs": [
    {
     "data": {
      "text/html": [
       "<div>\n",
       "<style scoped>\n",
       "    .dataframe tbody tr th:only-of-type {\n",
       "        vertical-align: middle;\n",
       "    }\n",
       "\n",
       "    .dataframe tbody tr th {\n",
       "        vertical-align: top;\n",
       "    }\n",
       "\n",
       "    .dataframe thead th {\n",
       "        text-align: right;\n",
       "    }\n",
       "</style>\n",
       "<table border=\"1\" class=\"dataframe\">\n",
       "  <thead>\n",
       "    <tr style=\"text-align: right;\">\n",
       "      <th></th>\n",
       "      <th>SellingPrice</th>\n",
       "    </tr>\n",
       "    <tr>\n",
       "      <th>ProductId</th>\n",
       "      <th></th>\n",
       "    </tr>\n",
       "  </thead>\n",
       "  <tbody>\n",
       "    <tr>\n",
       "      <th>67130910</th>\n",
       "      <td>338.97</td>\n",
       "    </tr>\n",
       "    <tr>\n",
       "      <th>67901421</th>\n",
       "      <td>234.04</td>\n",
       "    </tr>\n",
       "    <tr>\n",
       "      <th>70645722</th>\n",
       "      <td>15.68</td>\n",
       "    </tr>\n",
       "    <tr>\n",
       "      <th>70748454</th>\n",
       "      <td>59.42</td>\n",
       "    </tr>\n",
       "    <tr>\n",
       "      <th>82008925</th>\n",
       "      <td>253.33</td>\n",
       "    </tr>\n",
       "  </tbody>\n",
       "</table>\n",
       "</div>"
      ],
      "text/plain": [
       "           SellingPrice\n",
       "ProductId              \n",
       "67130910         338.97\n",
       "67901421         234.04\n",
       "70645722          15.68\n",
       "70748454          59.42\n",
       "82008925         253.33"
      ]
     },
     "execution_count": 22,
     "metadata": {},
     "output_type": "execute_result"
    }
   ],
   "source": [
    "selling_prices_table = session.read_csv(\n",
    "    \"s3://data.atoti.io/notebooks/products-classification/selling_prices.csv\",\n",
    "    keys=[\"ProductId\"],\n",
    "    table_name=\"selling_prices\",\n",
    ")\n",
    "selling_prices_table.head()"
   ]
  },
  {
   "cell_type": "code",
   "execution_count": 23,
   "metadata": {},
   "outputs": [],
   "source": [
    "classified_products_table.join(\n",
    "    purchase_prices_table, mapping={\"ProductId\": \"ProductId\"}\n",
    ")\n",
    "classified_products_table.join(selling_prices_table, mapping={\"ProductId\": \"ProductId\"})"
   ]
  },
  {
   "cell_type": "code",
   "execution_count": 24,
   "metadata": {},
   "outputs": [
    {
     "data": {
      "image/svg+xml": [
       "<svg xmlns=\"http://www.w3.org/2000/svg\" xmlns:xlink=\"http://www.w3.org/1999/xlink\" width=\"589px\" height=\"314px\" viewBox=\"0.00 0.00 589.00 314.00\">\n",
       "<g id=\"graph0\" class=\"graph\" transform=\"scale(1.0 1.0) rotate(0) translate(4 310)\">\n",
       "<title>products_cube schema</title>\n",
       "<polygon fill=\"white\" stroke=\"transparent\" points=\"-4,4 -4,-310 585,-310 585,4 -4,4\"/>\n",
       "<!-- classified_products -->\n",
       "<g id=\"node1\" class=\"node\">\n",
       "<title>classified_products</title>\n",
       "<text text-anchor=\"start\" x=\"57.5\" y=\"-234.6\" font-family=\"-apple-system, BlinkMacSystemFont, 'Segoe UI', Helvetica, Arial, sans-serif, 'Apple Color Emoji', 'Segoe UI Emoji', 'Segoe UI Symbol'\" font-weight=\"bold\" font-size=\"13.00\">classified_products</text>\n",
       "<polygon fill=\"#f5f5f5\" stroke=\"transparent\" points=\"9,-201 9,-225 40,-225 40,-201 9,-201\"/>\n",
       "<text text-anchor=\"start\" x=\"14\" y=\"-210.6\" font-family=\"-apple-system, BlinkMacSystemFont, 'Segoe UI', Helvetica, Arial, sans-serif, 'Apple Color Emoji', 'Segoe UI Emoji', 'Segoe UI Symbol'\" font-weight=\"bold\" font-size=\"13.00\">key</text>\n",
       "<polygon fill=\"#f5f5f5\" stroke=\"transparent\" points=\"40,-201 40,-225 174,-225 174,-201 40,-201\"/>\n",
       "<text text-anchor=\"start\" x=\"45\" y=\"-209.6\" font-family=\"-apple-system, BlinkMacSystemFont, 'Segoe UI', Helvetica, Arial, sans-serif, 'Apple Color Emoji', 'Segoe UI Emoji', 'Segoe UI Symbol'\" font-size=\"13.00\">ProductId</text>\n",
       "<polygon fill=\"#f5f5f5\" stroke=\"transparent\" points=\"174,-201 174,-225 221,-225 221,-201 174,-201\"/>\n",
       "<text text-anchor=\"start\" x=\"193\" y=\"-210.6\" font-family=\"-apple-system, BlinkMacSystemFont, 'Segoe UI', Helvetica, Arial, sans-serif, 'Apple Color Emoji', 'Segoe UI Emoji', 'Segoe UI Symbol'\" font-style=\"italic\" font-size=\"13.00\">long</text>\n",
       "<polygon fill=\"#ffffff\" stroke=\"transparent\" points=\"9,-177 9,-201 40,-201 40,-177 9,-177\"/>\n",
       "<polygon fill=\"#ffffff\" stroke=\"transparent\" points=\"40,-177 40,-201 174,-201 174,-177 40,-177\"/>\n",
       "<text text-anchor=\"start\" x=\"45\" y=\"-185.6\" font-family=\"-apple-system, BlinkMacSystemFont, 'Segoe UI', Helvetica, Arial, sans-serif, 'Apple Color Emoji', 'Segoe UI Emoji', 'Segoe UI Symbol'\" font-size=\"13.00\">edge_purchases</text>\n",
       "<polygon fill=\"#ffffff\" stroke=\"transparent\" points=\"174,-177 174,-201 221,-201 221,-177 174,-177\"/>\n",
       "<text text-anchor=\"start\" x=\"179\" y=\"-186.6\" font-family=\"-apple-system, BlinkMacSystemFont, 'Segoe UI', Helvetica, Arial, sans-serif, 'Apple Color Emoji', 'Segoe UI Emoji', 'Segoe UI Symbol'\" font-style=\"italic\" font-size=\"13.00\">double</text>\n",
       "<polygon fill=\"#f5f5f5\" stroke=\"transparent\" points=\"9,-153 9,-177 40,-177 40,-153 9,-153\"/>\n",
       "<polygon fill=\"#f5f5f5\" stroke=\"transparent\" points=\"40,-153 40,-177 174,-177 174,-153 40,-153\"/>\n",
       "<text text-anchor=\"start\" x=\"45\" y=\"-161.6\" font-family=\"-apple-system, BlinkMacSystemFont, 'Segoe UI', Helvetica, Arial, sans-serif, 'Apple Color Emoji', 'Segoe UI Emoji', 'Segoe UI Symbol'\" font-size=\"13.00\">n_purchases</text>\n",
       "<polygon fill=\"#f5f5f5\" stroke=\"transparent\" points=\"174,-153 174,-177 221,-177 221,-153 174,-153\"/>\n",
       "<text text-anchor=\"start\" x=\"179\" y=\"-162.6\" font-family=\"-apple-system, BlinkMacSystemFont, 'Segoe UI', Helvetica, Arial, sans-serif, 'Apple Color Emoji', 'Segoe UI Emoji', 'Segoe UI Symbol'\" font-style=\"italic\" font-size=\"13.00\">double</text>\n",
       "<polygon fill=\"#ffffff\" stroke=\"transparent\" points=\"9,-129 9,-153 40,-153 40,-129 9,-129\"/>\n",
       "<polygon fill=\"#ffffff\" stroke=\"transparent\" points=\"40,-129 40,-153 174,-153 174,-129 40,-129\"/>\n",
       "<text text-anchor=\"start\" x=\"45\" y=\"-137.6\" font-family=\"-apple-system, BlinkMacSystemFont, 'Segoe UI', Helvetica, Arial, sans-serif, 'Apple Color Emoji', 'Segoe UI Emoji', 'Segoe UI Symbol'\" font-size=\"13.00\">solo_purchases</text>\n",
       "<polygon fill=\"#ffffff\" stroke=\"transparent\" points=\"174,-129 174,-153 221,-153 221,-129 174,-129\"/>\n",
       "<text text-anchor=\"start\" x=\"179\" y=\"-138.6\" font-family=\"-apple-system, BlinkMacSystemFont, 'Segoe UI', Helvetica, Arial, sans-serif, 'Apple Color Emoji', 'Segoe UI Emoji', 'Segoe UI Symbol'\" font-style=\"italic\" font-size=\"13.00\">double</text>\n",
       "<polygon fill=\"#f5f5f5\" stroke=\"transparent\" points=\"9,-105 9,-129 40,-129 40,-105 9,-105\"/>\n",
       "<polygon fill=\"#f5f5f5\" stroke=\"transparent\" points=\"40,-105 40,-129 174,-129 174,-105 40,-105\"/>\n",
       "<text text-anchor=\"start\" x=\"45\" y=\"-113.6\" font-family=\"-apple-system, BlinkMacSystemFont, 'Segoe UI', Helvetica, Arial, sans-serif, 'Apple Color Emoji', 'Segoe UI Emoji', 'Segoe UI Symbol'\" font-size=\"13.00\">solo_sales_ratio</text>\n",
       "<polygon fill=\"#f5f5f5\" stroke=\"transparent\" points=\"174,-105 174,-129 221,-129 221,-105 174,-105\"/>\n",
       "<text text-anchor=\"start\" x=\"179\" y=\"-114.6\" font-family=\"-apple-system, BlinkMacSystemFont, 'Segoe UI', Helvetica, Arial, sans-serif, 'Apple Color Emoji', 'Segoe UI Emoji', 'Segoe UI Symbol'\" font-style=\"italic\" font-size=\"13.00\">double</text>\n",
       "<polygon fill=\"#ffffff\" stroke=\"transparent\" points=\"9,-81 9,-105 40,-105 40,-81 9,-81\"/>\n",
       "<polygon fill=\"#ffffff\" stroke=\"transparent\" points=\"40,-81 40,-105 174,-105 174,-81 40,-81\"/>\n",
       "<text text-anchor=\"start\" x=\"45\" y=\"-89.6\" font-family=\"-apple-system, BlinkMacSystemFont, 'Segoe UI', Helvetica, Arial, sans-serif, 'Apple Color Emoji', 'Segoe UI Emoji', 'Segoe UI Symbol'\" font-size=\"13.00\">product_receipt_score</text>\n",
       "<polygon fill=\"#ffffff\" stroke=\"transparent\" points=\"174,-81 174,-105 221,-105 221,-81 174,-81\"/>\n",
       "<text text-anchor=\"start\" x=\"179\" y=\"-90.6\" font-family=\"-apple-system, BlinkMacSystemFont, 'Segoe UI', Helvetica, Arial, sans-serif, 'Apple Color Emoji', 'Segoe UI Emoji', 'Segoe UI Symbol'\" font-style=\"italic\" font-size=\"13.00\">double</text>\n",
       "<polygon fill=\"#f5f5f5\" stroke=\"transparent\" points=\"9,-57 9,-81 40,-81 40,-57 9,-57\"/>\n",
       "<polygon fill=\"#f5f5f5\" stroke=\"transparent\" points=\"40,-57 40,-81 174,-81 174,-57 40,-57\"/>\n",
       "<text text-anchor=\"start\" x=\"45\" y=\"-65.6\" font-family=\"-apple-system, BlinkMacSystemFont, 'Segoe UI', Helvetica, Arial, sans-serif, 'Apple Color Emoji', 'Segoe UI Emoji', 'Segoe UI Symbol'\" font-size=\"13.00\">Product Class</text>\n",
       "<polygon fill=\"#f5f5f5\" stroke=\"transparent\" points=\"174,-57 174,-81 221,-81 221,-57 174,-57\"/>\n",
       "<text text-anchor=\"start\" x=\"183\" y=\"-66.6\" font-family=\"-apple-system, BlinkMacSystemFont, 'Segoe UI', Helvetica, Arial, sans-serif, 'Apple Color Emoji', 'Segoe UI Emoji', 'Segoe UI Symbol'\" font-style=\"italic\" font-size=\"13.00\">String</text>\n",
       "<polygon fill=\"#ffffff\" stroke=\"transparent\" points=\"9,-33 9,-57 40,-57 40,-33 9,-33\"/>\n",
       "<polygon fill=\"#ffffff\" stroke=\"transparent\" points=\"40,-33 40,-57 174,-57 174,-33 40,-33\"/>\n",
       "<text text-anchor=\"start\" x=\"45\" y=\"-41.6\" font-family=\"-apple-system, BlinkMacSystemFont, 'Segoe UI', Helvetica, Arial, sans-serif, 'Apple Color Emoji', 'Segoe UI Emoji', 'Segoe UI Symbol'\" font-size=\"13.00\">class</text>\n",
       "<polygon fill=\"#ffffff\" stroke=\"transparent\" points=\"174,-33 174,-57 221,-57 221,-33 174,-33\"/>\n",
       "<text text-anchor=\"start\" x=\"202\" y=\"-42.6\" font-family=\"-apple-system, BlinkMacSystemFont, 'Segoe UI', Helvetica, Arial, sans-serif, 'Apple Color Emoji', 'Segoe UI Emoji', 'Segoe UI Symbol'\" font-style=\"italic\" font-size=\"13.00\">int</text>\n",
       "<polygon fill=\"none\" stroke=\"black\" points=\"8,-32 8,-250 222,-250 222,-32 8,-32\"/>\n",
       "</g>\n",
       "<!-- Products -->\n",
       "<g id=\"node2\" class=\"node\">\n",
       "<title>Products</title>\n",
       "<text text-anchor=\"start\" x=\"460\" y=\"-286.6\" font-family=\"-apple-system, BlinkMacSystemFont, 'Segoe UI', Helvetica, Arial, sans-serif, 'Apple Color Emoji', 'Segoe UI Emoji', 'Segoe UI Symbol'\" font-weight=\"bold\" font-size=\"13.00\">Products</text>\n",
       "<polygon fill=\"#f5f5f5\" stroke=\"transparent\" points=\"406,-253 406,-277 437,-277 437,-253 406,-253\"/>\n",
       "<text text-anchor=\"start\" x=\"411\" y=\"-262.6\" font-family=\"-apple-system, BlinkMacSystemFont, 'Segoe UI', Helvetica, Arial, sans-serif, 'Apple Color Emoji', 'Segoe UI Emoji', 'Segoe UI Symbol'\" font-weight=\"bold\" font-size=\"13.00\">key</text>\n",
       "<polygon fill=\"#f5f5f5\" stroke=\"transparent\" points=\"437,-253 437,-277 526,-277 526,-253 437,-253\"/>\n",
       "<text text-anchor=\"start\" x=\"442\" y=\"-261.6\" font-family=\"-apple-system, BlinkMacSystemFont, 'Segoe UI', Helvetica, Arial, sans-serif, 'Apple Color Emoji', 'Segoe UI Emoji', 'Segoe UI Symbol'\" font-size=\"13.00\">ProductId</text>\n",
       "<polygon fill=\"#f5f5f5\" stroke=\"transparent\" points=\"526,-253 526,-277 569,-277 569,-253 526,-253\"/>\n",
       "<text text-anchor=\"start\" x=\"541\" y=\"-262.6\" font-family=\"-apple-system, BlinkMacSystemFont, 'Segoe UI', Helvetica, Arial, sans-serif, 'Apple Color Emoji', 'Segoe UI Emoji', 'Segoe UI Symbol'\" font-style=\"italic\" font-size=\"13.00\">long</text>\n",
       "<polygon fill=\"#ffffff\" stroke=\"transparent\" points=\"406,-229 406,-253 437,-253 437,-229 406,-229\"/>\n",
       "<polygon fill=\"#ffffff\" stroke=\"transparent\" points=\"437,-229 437,-253 526,-253 526,-229 437,-229\"/>\n",
       "<text text-anchor=\"start\" x=\"442\" y=\"-237.6\" font-family=\"-apple-system, BlinkMacSystemFont, 'Segoe UI', Helvetica, Arial, sans-serif, 'Apple Color Emoji', 'Segoe UI Emoji', 'Segoe UI Symbol'\" font-size=\"13.00\">Product Name</text>\n",
       "<polygon fill=\"#ffffff\" stroke=\"transparent\" points=\"526,-229 526,-253 569,-253 569,-229 526,-229\"/>\n",
       "<text text-anchor=\"start\" x=\"531\" y=\"-238.6\" font-family=\"-apple-system, BlinkMacSystemFont, 'Segoe UI', Helvetica, Arial, sans-serif, 'Apple Color Emoji', 'Segoe UI Emoji', 'Segoe UI Symbol'\" font-style=\"italic\" font-size=\"13.00\">String</text>\n",
       "<polygon fill=\"#f5f5f5\" stroke=\"transparent\" points=\"406,-205 406,-229 437,-229 437,-205 406,-205\"/>\n",
       "<polygon fill=\"#f5f5f5\" stroke=\"transparent\" points=\"437,-205 437,-229 526,-229 526,-205 437,-205\"/>\n",
       "<text text-anchor=\"start\" x=\"442\" y=\"-213.6\" font-family=\"-apple-system, BlinkMacSystemFont, 'Segoe UI', Helvetica, Arial, sans-serif, 'Apple Color Emoji', 'Segoe UI Emoji', 'Segoe UI Symbol'\" font-size=\"13.00\">Brand</text>\n",
       "<polygon fill=\"#f5f5f5\" stroke=\"transparent\" points=\"526,-205 526,-229 569,-229 569,-205 526,-205\"/>\n",
       "<text text-anchor=\"start\" x=\"531\" y=\"-214.6\" font-family=\"-apple-system, BlinkMacSystemFont, 'Segoe UI', Helvetica, Arial, sans-serif, 'Apple Color Emoji', 'Segoe UI Emoji', 'Segoe UI Symbol'\" font-style=\"italic\" font-size=\"13.00\">String</text>\n",
       "<polygon fill=\"none\" stroke=\"black\" points=\"404.5,-204 404.5,-302 569.5,-302 569.5,-204 404.5,-204\"/>\n",
       "</g>\n",
       "<!-- classified_products&#45;&gt;Products -->\n",
       "<g id=\"edge3\" class=\"edge\">\n",
       "<title>classified_products-&gt;Products</title>\n",
       "<path fill=\"none\" stroke=\"black\" d=\"M230.03,-175.52C280.09,-190.67 338.32,-208.3 386.58,-222.91\"/>\n",
       "<polygon fill=\"black\" stroke=\"black\" points=\"385.83,-226.33 396.41,-225.88 387.85,-219.63 385.83,-226.33\"/>\n",
       "<text text-anchor=\"middle\" x=\"311.5\" y=\"-219.6\" font-family=\"-apple-system, BlinkMacSystemFont, 'Segoe UI', Helvetica, Arial, sans-serif, 'Apple Color Emoji', 'Segoe UI Emoji', 'Segoe UI Symbol'\" font-size=\"13.00\">ProductId → ProductId</text>\n",
       "</g>\n",
       "<!-- selling_prices -->\n",
       "<g id=\"node3\" class=\"node\">\n",
       "<title>selling_prices</title>\n",
       "<text text-anchor=\"start\" x=\"446.5\" y=\"-162.6\" font-family=\"-apple-system, BlinkMacSystemFont, 'Segoe UI', Helvetica, Arial, sans-serif, 'Apple Color Emoji', 'Segoe UI Emoji', 'Segoe UI Symbol'\" font-weight=\"bold\" font-size=\"13.00\">selling_prices</text>\n",
       "<polygon fill=\"#f5f5f5\" stroke=\"transparent\" points=\"410,-129 410,-153 441,-153 441,-129 410,-129\"/>\n",
       "<text text-anchor=\"start\" x=\"415\" y=\"-138.6\" font-family=\"-apple-system, BlinkMacSystemFont, 'Segoe UI', Helvetica, Arial, sans-serif, 'Apple Color Emoji', 'Segoe UI Emoji', 'Segoe UI Symbol'\" font-weight=\"bold\" font-size=\"13.00\">key</text>\n",
       "<polygon fill=\"#f5f5f5\" stroke=\"transparent\" points=\"441,-129 441,-153 517,-153 517,-129 441,-129\"/>\n",
       "<text text-anchor=\"start\" x=\"446\" y=\"-137.6\" font-family=\"-apple-system, BlinkMacSystemFont, 'Segoe UI', Helvetica, Arial, sans-serif, 'Apple Color Emoji', 'Segoe UI Emoji', 'Segoe UI Symbol'\" font-size=\"13.00\">ProductId</text>\n",
       "<polygon fill=\"#f5f5f5\" stroke=\"transparent\" points=\"517,-129 517,-153 564,-153 564,-129 517,-129\"/>\n",
       "<text text-anchor=\"start\" x=\"536\" y=\"-138.6\" font-family=\"-apple-system, BlinkMacSystemFont, 'Segoe UI', Helvetica, Arial, sans-serif, 'Apple Color Emoji', 'Segoe UI Emoji', 'Segoe UI Symbol'\" font-style=\"italic\" font-size=\"13.00\">long</text>\n",
       "<polygon fill=\"#ffffff\" stroke=\"transparent\" points=\"410,-105 410,-129 441,-129 441,-105 410,-105\"/>\n",
       "<polygon fill=\"#ffffff\" stroke=\"transparent\" points=\"441,-105 441,-129 517,-129 517,-105 441,-105\"/>\n",
       "<text text-anchor=\"start\" x=\"446\" y=\"-113.6\" font-family=\"-apple-system, BlinkMacSystemFont, 'Segoe UI', Helvetica, Arial, sans-serif, 'Apple Color Emoji', 'Segoe UI Emoji', 'Segoe UI Symbol'\" font-size=\"13.00\">SellingPrice</text>\n",
       "<polygon fill=\"#ffffff\" stroke=\"transparent\" points=\"517,-105 517,-129 564,-129 564,-105 517,-105\"/>\n",
       "<text text-anchor=\"start\" x=\"522\" y=\"-114.6\" font-family=\"-apple-system, BlinkMacSystemFont, 'Segoe UI', Helvetica, Arial, sans-serif, 'Apple Color Emoji', 'Segoe UI Emoji', 'Segoe UI Symbol'\" font-style=\"italic\" font-size=\"13.00\">double</text>\n",
       "<polygon fill=\"none\" stroke=\"black\" points=\"409,-104 409,-178 565,-178 565,-104 409,-104\"/>\n",
       "</g>\n",
       "<!-- classified_products&#45;&gt;selling_prices -->\n",
       "<g id=\"edge2\" class=\"edge\">\n",
       "<title>classified_products-&gt;selling_prices</title>\n",
       "<path fill=\"none\" stroke=\"black\" d=\"M230.03,-141C281.47,-141 341.54,-141 390.56,-141\"/>\n",
       "<polygon fill=\"black\" stroke=\"black\" points=\"390.84,-144.5 400.84,-141 390.84,-137.5 390.84,-144.5\"/>\n",
       "<text text-anchor=\"middle\" x=\"311.5\" y=\"-144.6\" font-family=\"-apple-system, BlinkMacSystemFont, 'Segoe UI', Helvetica, Arial, sans-serif, 'Apple Color Emoji', 'Segoe UI Emoji', 'Segoe UI Symbol'\" font-size=\"13.00\">ProductId → ProductId</text>\n",
       "</g>\n",
       "<!-- purchase_prices -->\n",
       "<g id=\"node4\" class=\"node\">\n",
       "<title>purchase_prices</title>\n",
       "<text text-anchor=\"start\" x=\"438\" y=\"-62.6\" font-family=\"-apple-system, BlinkMacSystemFont, 'Segoe UI', Helvetica, Arial, sans-serif, 'Apple Color Emoji', 'Segoe UI Emoji', 'Segoe UI Symbol'\" font-weight=\"bold\" font-size=\"13.00\">purchase_prices</text>\n",
       "<polygon fill=\"#f5f5f5\" stroke=\"transparent\" points=\"402,-29 402,-53 433,-53 433,-29 402,-29\"/>\n",
       "<text text-anchor=\"start\" x=\"407\" y=\"-38.6\" font-family=\"-apple-system, BlinkMacSystemFont, 'Segoe UI', Helvetica, Arial, sans-serif, 'Apple Color Emoji', 'Segoe UI Emoji', 'Segoe UI Symbol'\" font-weight=\"bold\" font-size=\"13.00\">key</text>\n",
       "<polygon fill=\"#f5f5f5\" stroke=\"transparent\" points=\"433,-29 433,-53 525,-53 525,-29 433,-29\"/>\n",
       "<text text-anchor=\"start\" x=\"438\" y=\"-37.6\" font-family=\"-apple-system, BlinkMacSystemFont, 'Segoe UI', Helvetica, Arial, sans-serif, 'Apple Color Emoji', 'Segoe UI Emoji', 'Segoe UI Symbol'\" font-size=\"13.00\">ProductId</text>\n",
       "<polygon fill=\"#f5f5f5\" stroke=\"transparent\" points=\"525,-29 525,-53 572,-53 572,-29 525,-29\"/>\n",
       "<text text-anchor=\"start\" x=\"544\" y=\"-38.6\" font-family=\"-apple-system, BlinkMacSystemFont, 'Segoe UI', Helvetica, Arial, sans-serif, 'Apple Color Emoji', 'Segoe UI Emoji', 'Segoe UI Symbol'\" font-style=\"italic\" font-size=\"13.00\">long</text>\n",
       "<polygon fill=\"#ffffff\" stroke=\"transparent\" points=\"402,-5 402,-29 433,-29 433,-5 402,-5\"/>\n",
       "<polygon fill=\"#ffffff\" stroke=\"transparent\" points=\"433,-5 433,-29 525,-29 525,-5 433,-5\"/>\n",
       "<text text-anchor=\"start\" x=\"438\" y=\"-13.6\" font-family=\"-apple-system, BlinkMacSystemFont, 'Segoe UI', Helvetica, Arial, sans-serif, 'Apple Color Emoji', 'Segoe UI Emoji', 'Segoe UI Symbol'\" font-size=\"13.00\">PurchasePrice</text>\n",
       "<polygon fill=\"#ffffff\" stroke=\"transparent\" points=\"525,-5 525,-29 572,-29 572,-5 525,-5\"/>\n",
       "<text text-anchor=\"start\" x=\"530\" y=\"-14.6\" font-family=\"-apple-system, BlinkMacSystemFont, 'Segoe UI', Helvetica, Arial, sans-serif, 'Apple Color Emoji', 'Segoe UI Emoji', 'Segoe UI Symbol'\" font-style=\"italic\" font-size=\"13.00\">double</text>\n",
       "<polygon fill=\"none\" stroke=\"black\" points=\"401,-4 401,-78 573,-78 573,-4 401,-4\"/>\n",
       "</g>\n",
       "<!-- classified_products&#45;&gt;purchase_prices -->\n",
       "<g id=\"edge1\" class=\"edge\">\n",
       "<title>classified_products-&gt;purchase_prices</title>\n",
       "<path fill=\"none\" stroke=\"black\" d=\"M230.03,-110.18C278.9,-96.97 335.55,-81.66 383.12,-68.81\"/>\n",
       "<polygon fill=\"black\" stroke=\"black\" points=\"384.08,-72.17 392.82,-66.18 382.25,-65.42 384.08,-72.17\"/>\n",
       "<text text-anchor=\"middle\" x=\"311.5\" y=\"-105.6\" font-family=\"-apple-system, BlinkMacSystemFont, 'Segoe UI', Helvetica, Arial, sans-serif, 'Apple Color Emoji', 'Segoe UI Emoji', 'Segoe UI Symbol'\" font-size=\"13.00\">ProductId → ProductId</text>\n",
       "</g>\n",
       "</g>\n",
       "</svg>"
      ],
      "text/plain": [
       "<IPython.core.display.SVG object>"
      ]
     },
     "execution_count": 24,
     "metadata": {},
     "output_type": "execute_result"
    }
   ],
   "source": [
    "cube.schema"
   ]
  },
  {
   "cell_type": "markdown",
   "metadata": {},
   "source": [
    "Let's now add the margin measure"
   ]
  },
  {
   "cell_type": "code",
   "execution_count": 25,
   "metadata": {},
   "outputs": [],
   "source": [
    "m = cube.measures\n",
    "h = cube.hierarchies\n",
    "lvl = cube.levels"
   ]
  },
  {
   "cell_type": "code",
   "execution_count": 26,
   "metadata": {},
   "outputs": [
    {
     "data": {
      "application/json": {
       "Dimensions": {
        "Products": {
         "Brand": [
          "Brand"
         ],
         "Product Name": [
          "Product Name"
         ]
        },
        "classified_products": {
         "Product Class": [
          "Product Class"
         ],
         "ProductId": [
          "ProductId"
         ]
        }
       },
       "Measures": {
        "class.MEAN": {
         "formatter": "DOUBLE[#,###.00]"
        },
        "class.SUM": {
         "formatter": "INT[#,###]"
        },
        "contributors.COUNT": {
         "formatter": "INT[#,###]"
        },
        "edge_purchases.MEAN": {
         "formatter": "DOUBLE[#,###.00]"
        },
        "edge_purchases.SUM": {
         "formatter": "DOUBLE[#,###.00]"
        },
        "n_purchases.MEAN": {
         "formatter": "DOUBLE[#,###.00]"
        },
        "n_purchases.SUM": {
         "formatter": "DOUBLE[#,###.00]"
        },
        "product_receipt_score.MEAN": {
         "formatter": "DOUBLE[#,###.00]"
        },
        "product_receipt_score.SUM": {
         "formatter": "DOUBLE[#,###.00]"
        },
        "solo_purchases.MEAN": {
         "formatter": "DOUBLE[#,###.00]"
        },
        "solo_purchases.SUM": {
         "formatter": "DOUBLE[#,###.00]"
        },
        "solo_sales_ratio.MEAN": {
         "formatter": "DOUBLE[#,###.00]"
        },
        "solo_sales_ratio.SUM": {
         "formatter": "DOUBLE[#,###.00]"
        }
       }
      },
      "text/html": [
       "<ul>\n",
       "<li>products_cube\n",
       "  <ul>\n",
       "  <li>Dimensions\n",
       "    <ul>\n",
       "    <li>Products\n",
       "      <ul>\n",
       "      <li>Brand\n",
       "        <ol>\n",
       "        <li>Brand</li>\n",
       "        </ol>      </li>\n",
       "      <li>Product Name\n",
       "        <ol>\n",
       "        <li>Product Name</li>\n",
       "        </ol>      </li>\n",
       "      </ul>\n",
       "    </li>\n",
       "    <li>classified_products\n",
       "      <ul>\n",
       "      <li>Product Class\n",
       "        <ol>\n",
       "        <li>Product Class</li>\n",
       "        </ol>      </li>\n",
       "      <li>ProductId\n",
       "        <ol>\n",
       "        <li>ProductId</li>\n",
       "        </ol>      </li>\n",
       "      </ul>\n",
       "    </li>\n",
       "    </ul>\n",
       "  </li>\n",
       "  <li>Measures\n",
       "    <ul>\n",
       "    <li>class.MEAN\n",
       "      <ul>\n",
       "      <li>formatter: DOUBLE[#,###.00]</li>\n",
       "      </ul>\n",
       "    </li>\n",
       "    <li>class.SUM\n",
       "      <ul>\n",
       "      <li>formatter: INT[#,###]</li>\n",
       "      </ul>\n",
       "    </li>\n",
       "    <li>contributors.COUNT\n",
       "      <ul>\n",
       "      <li>formatter: INT[#,###]</li>\n",
       "      </ul>\n",
       "    </li>\n",
       "    <li>edge_purchases.MEAN\n",
       "      <ul>\n",
       "      <li>formatter: DOUBLE[#,###.00]</li>\n",
       "      </ul>\n",
       "    </li>\n",
       "    <li>edge_purchases.SUM\n",
       "      <ul>\n",
       "      <li>formatter: DOUBLE[#,###.00]</li>\n",
       "      </ul>\n",
       "    </li>\n",
       "    <li>n_purchases.MEAN\n",
       "      <ul>\n",
       "      <li>formatter: DOUBLE[#,###.00]</li>\n",
       "      </ul>\n",
       "    </li>\n",
       "    <li>n_purchases.SUM\n",
       "      <ul>\n",
       "      <li>formatter: DOUBLE[#,###.00]</li>\n",
       "      </ul>\n",
       "    </li>\n",
       "    <li>product_receipt_score.MEAN\n",
       "      <ul>\n",
       "      <li>formatter: DOUBLE[#,###.00]</li>\n",
       "      </ul>\n",
       "    </li>\n",
       "    <li>product_receipt_score.SUM\n",
       "      <ul>\n",
       "      <li>formatter: DOUBLE[#,###.00]</li>\n",
       "      </ul>\n",
       "    </li>\n",
       "    <li>solo_purchases.MEAN\n",
       "      <ul>\n",
       "      <li>formatter: DOUBLE[#,###.00]</li>\n",
       "      </ul>\n",
       "    </li>\n",
       "    <li>solo_purchases.SUM\n",
       "      <ul>\n",
       "      <li>formatter: DOUBLE[#,###.00]</li>\n",
       "      </ul>\n",
       "    </li>\n",
       "    <li>solo_sales_ratio.MEAN\n",
       "      <ul>\n",
       "      <li>formatter: DOUBLE[#,###.00]</li>\n",
       "      </ul>\n",
       "    </li>\n",
       "    <li>solo_sales_ratio.SUM\n",
       "      <ul>\n",
       "      <li>formatter: DOUBLE[#,###.00]</li>\n",
       "      </ul>\n",
       "    </li>\n",
       "    </ul>\n",
       "  </li>\n",
       "  </ul>\n",
       "</li>\n",
       "</ul>\n"
      ],
      "text/plain": [
       "Cube(_name='products_cube', _hierarchies=Hierarchies(_create_hierarchy_from_arguments=<bound method Cube._create_hierarchy_from_arguments of ...>, _cube_name='products_cube'), _measures=Measures())"
      ]
     },
     "execution_count": 26,
     "metadata": {
      "application/json": {
       "expanded": false,
       "root": "products_cube"
      }
     },
     "output_type": "execute_result"
    }
   ],
   "source": [
    "cube"
   ]
  },
  {
   "cell_type": "markdown",
   "metadata": {},
   "source": [
    "Because selling and purchase prices are different per products, we have to compute the margin at ProductId level using parameter \"scope\", and then aggregate it as a sum above this level:\n",
    "\n",
    "$\\sum_{p \\in Products}{(Selling Price - Purchase Price) \\times Quantity Sold}$"
   ]
  },
  {
   "cell_type": "code",
   "execution_count": 27,
   "metadata": {},
   "outputs": [],
   "source": [
    "m[\"SellingPrice.VALUE\"] = tt.value(selling_prices_table[\"SellingPrice\"])\n",
    "m[\"PurchasePrice.VALUE\"] = tt.value(purchase_prices_table[\"PurchasePrice\"])\n",
    "m[\"num_purchase\"] = tt.value(classified_products_table[\"n_purchases\"])\n",
    "\n",
    "m[\"Margin.SUM\"] = tt.agg.sum(\n",
    "    (m[\"SellingPrice.VALUE\"] - m[\"PurchasePrice.VALUE\"]) * m[\"num_purchase\"],\n",
    "    scope=tt.scope.origin(lvl[\"ProductId\"]),\n",
    ")"
   ]
  },
  {
   "cell_type": "code",
   "execution_count": 28,
   "metadata": {
    "atoti": {
     "widget": {
      "mapping": {
       "horizontal": [],
       "splitBy": [],
       "values": [
        "[Measures].[Margin.SUM]"
       ],
       "vertical": [],
       "xAxis": [
        "[classified_products].[Product Class].[Product Class]"
       ]
      },
      "name": "Margin per product class",
      "query": {
       "context": {
        "queriesResultLimit.intermediateSize": 1000000,
        "queriesResultLimit.transientSize": 10000000
       },
       "mdx": "SELECT NON EMPTY [classified_products].[Product Class].[Product Class].Members ON ROWS, NON EMPTY [Measures].[Margin.SUM] ON COLUMNS FROM [products_cube] CELL PROPERTIES VALUE, FORMATTED_VALUE, BACK_COLOR, FORE_COLOR, FONT_FLAGS",
       "updateMode": "once"
      },
      "serverKey": "default",
      "switchedTo": "plotly-clustered-column-chart",
      "widgetKey": "plotly-line-chart"
     }
    }
   },
   "outputs": [
    {
     "data": {
      "application/vnd.atoti.widget.v0+json": {
       "name": "Margin per product class",
       "sessionId": "1648808159_SOX2DY",
       "sessionLocation": {
        "https": null,
        "port": 1111
       },
       "widgetCreationCode": "session.visualize()"
      },
      "text/html": [
       "<img src=\"data:image/svg+xml;charset=utf8,%3C%3Fxml%20version%3D%221.0%22%20standalone%3D%22no%22%3F%3E%3Csvg%20xmlns%3D%22http%3A%2F%2Fwww.w3.org%2F2000%2Fsvg%22%20xmlns%3Axlink%3D%22http%3A%2F%2Fwww.w3.org%2F1999%2Fxlink%22%20height%3D%22352%22%20width%3D%22967%22%20viewBox%3D%220%200%20967%20352%22%3E%3Cdefs%20id%3D%22defs-98ace9%22%3E%3Cg%20class%3D%22clips%22%3E%3CclipPath%20id%3D%22clip98ace9xyplot%22%20class%3D%22plotclip%22%3E%3Crect%20width%3D%22887%22%20height%3D%22242%22%2F%3E%3C%2FclipPath%3E%3CclipPath%20class%3D%22axesclip%22%20id%3D%22clip98ace9x%22%3E%3Crect%20x%3D%2280%22%20y%3D%220%22%20width%3D%22887%22%20height%3D%22352%22%2F%3E%3C%2FclipPath%3E%3CclipPath%20class%3D%22axesclip%22%20id%3D%22clip98ace9y%22%3E%3Crect%20x%3D%220%22%20y%3D%2230%22%20width%3D%22967%22%20height%3D%22242%22%2F%3E%3C%2FclipPath%3E%3CclipPath%20class%3D%22axesclip%22%20id%3D%22clip98ace9xy%22%3E%3Crect%20x%3D%2280%22%20y%3D%2230%22%20width%3D%22887%22%20height%3D%22242%22%2F%3E%3C%2FclipPath%3E%3C%2Fg%3E%3Cg%20class%3D%22gradients%22%2F%3E%3C%2Fdefs%3E%3Cg%20class%3D%22bglayer%22%2F%3E%3Cg%20class%3D%22draglayer%20cursor-crosshair%22%3E%3Cg%20class%3D%22xy%22%3E%3Crect%20class%3D%22nsewdrag%20drag%22%20data-subplot%3D%22xy%22%20x%3D%2280%22%20y%3D%2230%22%20width%3D%22887%22%20height%3D%22242%22%20style%3D%22fill%3A%20transparent%3B%20stroke-width%3A%200%3B%20pointer-events%3A%20all%3B%22%2F%3E%3Crect%20class%3D%22nwdrag%20drag%20cursor-nw-resize%22%20data-subplot%3D%22xy%22%20x%3D%2260%22%20y%3D%2210%22%20width%3D%2220%22%20height%3D%2220%22%20style%3D%22fill%3A%20transparent%3B%20stroke-width%3A%200%3B%20pointer-events%3A%20all%3B%22%2F%3E%3Crect%20class%3D%22nedrag%20drag%20cursor-ne-resize%22%20data-subplot%3D%22xy%22%20x%3D%22967%22%20y%3D%2210%22%20width%3D%2220%22%20height%3D%2220%22%20style%3D%22fill%3A%20transparent%3B%20stroke-width%3A%200%3B%20pointer-events%3A%20all%3B%22%2F%3E%3Crect%20class%3D%22swdrag%20drag%20cursor-sw-resize%22%20data-subplot%3D%22xy%22%20x%3D%2260%22%20y%3D%22272%22%20width%3D%2220%22%20height%3D%2220%22%20style%3D%22fill%3A%20transparent%3B%20stroke-width%3A%200%3B%20pointer-events%3A%20all%3B%22%2F%3E%3Crect%20class%3D%22sedrag%20drag%20cursor-se-resize%22%20data-subplot%3D%22xy%22%20x%3D%22967%22%20y%3D%22272%22%20width%3D%2220%22%20height%3D%2220%22%20style%3D%22fill%3A%20transparent%3B%20stroke-width%3A%200%3B%20pointer-events%3A%20all%3B%22%2F%3E%3Crect%20class%3D%22ewdrag%20drag%20cursor-ew-resize%22%20data-subplot%3D%22xy%22%20x%3D%22168.7%22%20y%3D%22272.5%22%20width%3D%22709.6%22%20height%3D%2220%22%20style%3D%22fill%3A%20transparent%3B%20stroke-width%3A%200%3B%20pointer-events%3A%20all%3B%22%2F%3E%3Crect%20class%3D%22wdrag%20drag%20cursor-w-resize%22%20data-subplot%3D%22xy%22%20x%3D%2280%22%20y%3D%22272.5%22%20width%3D%2288.7%22%20height%3D%2220%22%20style%3D%22fill%3A%20transparent%3B%20stroke-width%3A%200%3B%20pointer-events%3A%20all%3B%22%2F%3E%3Crect%20class%3D%22edrag%20drag%20cursor-e-resize%22%20data-subplot%3D%22xy%22%20x%3D%22878.3000000000001%22%20y%3D%22272.5%22%20width%3D%2288.7%22%20height%3D%2220%22%20style%3D%22fill%3A%20transparent%3B%20stroke-width%3A%200%3B%20pointer-events%3A%20all%3B%22%2F%3E%3Crect%20class%3D%22nsdrag%20drag%20cursor-ns-resize%22%20data-subplot%3D%22xy%22%20x%3D%2259.5%22%20y%3D%2254.2%22%20width%3D%2220%22%20height%3D%22193.60000000000002%22%20style%3D%22fill%3A%20transparent%3B%20stroke-width%3A%200%3B%20pointer-events%3A%20all%3B%22%2F%3E%3Crect%20class%3D%22sdrag%20drag%20cursor-s-resize%22%20data-subplot%3D%22xy%22%20x%3D%2259.5%22%20y%3D%22247.8%22%20width%3D%2220%22%20height%3D%2224.200000000000003%22%20style%3D%22fill%3A%20transparent%3B%20stroke-width%3A%200%3B%20pointer-events%3A%20all%3B%22%2F%3E%3Crect%20class%3D%22ndrag%20drag%20cursor-n-resize%22%20data-subplot%3D%22xy%22%20x%3D%2259.5%22%20y%3D%2230%22%20width%3D%2220%22%20height%3D%2224.200000000000003%22%20style%3D%22fill%3A%20transparent%3B%20stroke-width%3A%200%3B%20pointer-events%3A%20all%3B%22%2F%3E%3C%2Fg%3E%3C%2Fg%3E%3Cg%20class%3D%22layer-below%22%3E%3Cg%20class%3D%22imagelayer%22%2F%3E%3Cg%20class%3D%22shapelayer%22%2F%3E%3C%2Fg%3E%3Cg%20class%3D%22cartesianlayer%22%3E%3Cg%20class%3D%22subplot%20xy%22%3E%3Cg%20class%3D%22layer-subplot%22%3E%3Cg%20class%3D%22shapelayer%22%2F%3E%3Cg%20class%3D%22imagelayer%22%2F%3E%3C%2Fg%3E%3Cg%20class%3D%22gridlayer%22%3E%3Cg%20class%3D%22x%22%3E%3Cpath%20class%3D%22xgrid%20crisp%22%20transform%3D%22translate(227.83%2C0)%22%20d%3D%22M0%2C30v242%22%20style%3D%22stroke%3A%20rgb(0%2C%200%2C%200)%3B%20stroke-opacity%3A%200%3B%20stroke-width%3A%201px%3B%22%2F%3E%3Cpath%20class%3D%22xgrid%20crisp%22%20transform%3D%22translate(523.5%2C0)%22%20d%3D%22M0%2C30v242%22%20style%3D%22stroke%3A%20rgb(0%2C%200%2C%200)%3B%20stroke-opacity%3A%200%3B%20stroke-width%3A%201px%3B%22%2F%3E%3Cpath%20class%3D%22xgrid%20crisp%22%20transform%3D%22translate(819.17%2C0)%22%20d%3D%22M0%2C30v242%22%20style%3D%22stroke%3A%20rgb(0%2C%200%2C%200)%3B%20stroke-opacity%3A%200%3B%20stroke-width%3A%201px%3B%22%2F%3E%3C%2Fg%3E%3Cg%20class%3D%22y%22%3E%3Cpath%20class%3D%22ygrid%20crisp%22%20transform%3D%22translate(0%2C209.54)%22%20d%3D%22M80%2C0h887%22%20style%3D%22stroke%3A%20rgb(89%2C%2089%2C%2089)%3B%20stroke-opacity%3A%200.25%3B%20stroke-width%3A%201px%3B%22%2F%3E%3Cpath%20class%3D%22ygrid%20crisp%22%20transform%3D%22translate(0%2C147.09)%22%20d%3D%22M80%2C0h887%22%20style%3D%22stroke%3A%20rgb(89%2C%2089%2C%2089)%3B%20stroke-opacity%3A%200.25%3B%20stroke-width%3A%201px%3B%22%2F%3E%3Cpath%20class%3D%22ygrid%20crisp%22%20transform%3D%22translate(0%2C84.63)%22%20d%3D%22M80%2C0h887%22%20style%3D%22stroke%3A%20rgb(89%2C%2089%2C%2089)%3B%20stroke-opacity%3A%200.25%3B%20stroke-width%3A%201px%3B%22%2F%3E%3C%2Fg%3E%3C%2Fg%3E%3Cg%20class%3D%22zerolinelayer%22%3E%3Cpath%20class%3D%22yzl%20zl%20crisp%22%20transform%3D%22translate(0%2C272)%22%20d%3D%22M80%2C0h887%22%20style%3D%22stroke%3A%20rgb(89%2C%2089%2C%2089)%3B%20stroke-opacity%3A%200.5%3B%20stroke-width%3A%201px%3B%22%2F%3E%3C%2Fg%3E%3Cpath%20class%3D%22xlines-below%22%2F%3E%3Cpath%20class%3D%22ylines-below%22%2F%3E%3Cg%20class%3D%22overlines-below%22%2F%3E%3Cg%20class%3D%22xaxislayer-below%22%2F%3E%3Cg%20class%3D%22yaxislayer-below%22%2F%3E%3Cg%20class%3D%22overaxes-below%22%2F%3E%3Cg%20class%3D%22plot%22%20transform%3D%22translate(80%2C30)%22%20clip-path%3D%22url('%23clip98ace9xyplot')%22%3E%3Cg%20class%3D%22barlayer%20mlayer%22%3E%3Cg%20class%3D%22trace%20bars%22%20style%3D%22opacity%3A%201%3B%22%3E%3Cg%20class%3D%22points%22%3E%3Cg%20class%3D%22point%22%3E%3Cpath%20d%3D%22M29.57%2C242V79.26H266.1V242Z%22%20style%3D%22vector-effect%3A%20non-scaling-stroke%3B%20opacity%3A%201%3B%20stroke-width%3A%200px%3B%20fill%3A%20rgb(78%2C%20121%2C%20167)%3B%20fill-opacity%3A%201%3B%22%2F%3E%3C%2Fg%3E%3Cg%20class%3D%22point%22%3E%3Cpath%20d%3D%22M325.23%2C242V12.1H561.77V242Z%22%20style%3D%22vector-effect%3A%20non-scaling-stroke%3B%20opacity%3A%201%3B%20stroke-width%3A%200px%3B%20fill%3A%20rgb(78%2C%20121%2C%20167)%3B%20fill-opacity%3A%201%3B%22%2F%3E%3C%2Fg%3E%3Cg%20class%3D%22point%22%3E%3Cpath%20d%3D%22M620.9%2C242V60.89H857.43V242Z%22%20style%3D%22vector-effect%3A%20non-scaling-stroke%3B%20opacity%3A%201%3B%20stroke-width%3A%200px%3B%20fill%3A%20rgb(78%2C%20121%2C%20167)%3B%20fill-opacity%3A%201%3B%22%2F%3E%3C%2Fg%3E%3C%2Fg%3E%3C%2Fg%3E%3C%2Fg%3E%3C%2Fg%3E%3Cg%20class%3D%22overplot%22%2F%3E%3Cpath%20class%3D%22xlines-above%20crisp%22%20d%3D%22M79%2C272.5H967%22%20style%3D%22fill%3A%20none%3B%20stroke-width%3A%201px%3B%20stroke%3A%20rgb(89%2C%2089%2C%2089)%3B%20stroke-opacity%3A%200.25%3B%22%2F%3E%3Cpath%20class%3D%22ylines-above%20crisp%22%20d%3D%22M79.5%2C30V272%22%20style%3D%22fill%3A%20none%3B%20stroke-width%3A%201px%3B%20stroke%3A%20rgb(89%2C%2089%2C%2089)%3B%20stroke-opacity%3A%200.25%3B%22%2F%3E%3Cg%20class%3D%22overlines-above%22%2F%3E%3Cg%20class%3D%22xaxislayer-above%22%3E%3Cg%20class%3D%22xtick%22%3E%3Ctext%20text-anchor%3D%22middle%22%20x%3D%220%22%20y%3D%22287.4%22%20data-unformatted%3D%22Complementary%22%20data-math%3D%22N%22%20transform%3D%22translate(227.83%2C0)%22%20style%3D%22font-family%3A%20%26quot%3BOpen%20Sans%26quot%3B%2C%20verdana%2C%20arial%2C%20sans-serif%3B%20font-size%3A%2012px%3B%20fill%3A%20rgb(89%2C%2089%2C%2089)%3B%20fill-opacity%3A%201%3B%20white-space%3A%20pre%3B%22%3EComplementary%3C%2Ftext%3E%3C%2Fg%3E%3Cg%20class%3D%22xtick%22%3E%3Ctext%20text-anchor%3D%22middle%22%20x%3D%220%22%20y%3D%22287.4%22%20data-unformatted%3D%22Driver%22%20data-math%3D%22N%22%20transform%3D%22translate(523.5%2C0)%22%20style%3D%22font-family%3A%20%26quot%3BOpen%20Sans%26quot%3B%2C%20verdana%2C%20arial%2C%20sans-serif%3B%20font-size%3A%2012px%3B%20fill%3A%20rgb(89%2C%2089%2C%2089)%3B%20fill-opacity%3A%201%3B%20white-space%3A%20pre%3B%22%3EDriver%3C%2Ftext%3E%3C%2Fg%3E%3Cg%20class%3D%22xtick%22%3E%3Ctext%20text-anchor%3D%22middle%22%20x%3D%220%22%20y%3D%22287.4%22%20data-unformatted%3D%22Independent%22%20data-math%3D%22N%22%20transform%3D%22translate(819.17%2C0)%22%20style%3D%22font-family%3A%20%26quot%3BOpen%20Sans%26quot%3B%2C%20verdana%2C%20arial%2C%20sans-serif%3B%20font-size%3A%2012px%3B%20fill%3A%20rgb(89%2C%2089%2C%2089)%3B%20fill-opacity%3A%201%3B%20white-space%3A%20pre%3B%22%3EIndependent%3C%2Ftext%3E%3C%2Fg%3E%3C%2Fg%3E%3Cg%20class%3D%22yaxislayer-above%22%3E%3Cg%20class%3D%22ytick%22%3E%3Ctext%20text-anchor%3D%22end%22%20x%3D%2276.6%22%20y%3D%224.199999999999999%22%20data-unformatted%3D%220%22%20data-math%3D%22N%22%20transform%3D%22translate(0%2C272)%22%20style%3D%22font-family%3A%20%26quot%3BOpen%20Sans%26quot%3B%2C%20verdana%2C%20arial%2C%20sans-serif%3B%20font-size%3A%2012px%3B%20fill%3A%20rgb(89%2C%2089%2C%2089)%3B%20fill-opacity%3A%201%3B%20white-space%3A%20pre%3B%22%3E0%3C%2Ftext%3E%3C%2Fg%3E%3Cg%20class%3D%22ytick%22%3E%3Ctext%20text-anchor%3D%22end%22%20x%3D%2276.6%22%20y%3D%224.199999999999999%22%20data-unformatted%3D%22200M%22%20data-math%3D%22N%22%20transform%3D%22translate(0%2C209.54)%22%20style%3D%22font-family%3A%20%26quot%3BOpen%20Sans%26quot%3B%2C%20verdana%2C%20arial%2C%20sans-serif%3B%20font-size%3A%2012px%3B%20fill%3A%20rgb(89%2C%2089%2C%2089)%3B%20fill-opacity%3A%201%3B%20white-space%3A%20pre%3B%22%3E200M%3C%2Ftext%3E%3C%2Fg%3E%3Cg%20class%3D%22ytick%22%3E%3Ctext%20text-anchor%3D%22end%22%20x%3D%2276.6%22%20y%3D%224.199999999999999%22%20data-unformatted%3D%22400M%22%20data-math%3D%22N%22%20transform%3D%22translate(0%2C147.09)%22%20style%3D%22font-family%3A%20%26quot%3BOpen%20Sans%26quot%3B%2C%20verdana%2C%20arial%2C%20sans-serif%3B%20font-size%3A%2012px%3B%20fill%3A%20rgb(89%2C%2089%2C%2089)%3B%20fill-opacity%3A%201%3B%20white-space%3A%20pre%3B%22%3E400M%3C%2Ftext%3E%3C%2Fg%3E%3Cg%20class%3D%22ytick%22%3E%3Ctext%20text-anchor%3D%22end%22%20x%3D%2276.6%22%20y%3D%224.199999999999999%22%20data-unformatted%3D%22600M%22%20data-math%3D%22N%22%20transform%3D%22translate(0%2C84.63)%22%20style%3D%22font-family%3A%20%26quot%3BOpen%20Sans%26quot%3B%2C%20verdana%2C%20arial%2C%20sans-serif%3B%20font-size%3A%2012px%3B%20fill%3A%20rgb(89%2C%2089%2C%2089)%3B%20fill-opacity%3A%201%3B%20white-space%3A%20pre%3B%22%3E600M%3C%2Ftext%3E%3C%2Fg%3E%3C%2Fg%3E%3Cg%20class%3D%22overaxes-above%22%2F%3E%3C%2Fg%3E%3C%2Fg%3E%3Cg%20class%3D%22polarlayer%22%2F%3E%3Cg%20class%3D%22ternarylayer%22%2F%3E%3Cg%20class%3D%22geolayer%22%2F%3E%3Cg%20class%3D%22funnelarealayer%22%2F%3E%3Cg%20class%3D%22pielayer%22%2F%3E%3Cg%20class%3D%22treemaplayer%22%2F%3E%3Cg%20class%3D%22sunburstlayer%22%2F%3E%3Cg%20class%3D%22glimages%22%2F%3E%3Cdefs%20id%3D%22topdefs-98ace9%22%3E%3Cg%20class%3D%22clips%22%2F%3E%3C%2Fdefs%3E%3Cg%20class%3D%22indicatorlayer%22%2F%3E%3Cg%20class%3D%22layer-above%22%3E%3Cg%20class%3D%22imagelayer%22%2F%3E%3Cg%20class%3D%22shapelayer%22%2F%3E%3C%2Fg%3E%3Cg%20class%3D%22infolayer%22%3E%3Cg%20class%3D%22g-gtitle%22%2F%3E%3Cg%20class%3D%22g-xtitle%22%2F%3E%3Cg%20class%3D%22g-ytitle%22%2F%3E%3C%2Fg%3E%3Cg%20class%3D%22menulayer%22%2F%3E%3Cg%20class%3D%22zoomlayer%22%2F%3E%3Cg%20class%3D%22hoverlayer%22%2F%3E%3C%2Fsvg%3E\">"
      ],
      "text/plain": [
       "Open the notebook in JupyterLab with the atoti extension enabled to build this widget."
      ]
     },
     "metadata": {},
     "output_type": "display_data"
    }
   ],
   "source": [
    "session.visualize(\"Margin per product class\")"
   ]
  },
  {
   "cell_type": "markdown",
   "metadata": {},
   "source": [
    "atoti visualizations are available both in the notebook, but also from the dedicated application.  \n",
    "Run the two cells below to get a link to a summary dashboard of all what was done so far."
   ]
  },
  {
   "cell_type": "code",
   "execution_count": 29,
   "metadata": {},
   "outputs": [],
   "source": [
    "m[\"SellingPrice.MEAN\"] = tt.agg.mean(\n",
    "    m[\"SellingPrice.VALUE\"], scope=tt.scope.origin(lvl[\"ProductId\"])\n",
    ")\n",
    "\n",
    "m[\"PurchasePrice.MEAN\"] = tt.agg.mean(\n",
    "    m[\"PurchasePrice.VALUE\"], scope=tt.scope.origin(lvl[\"ProductId\"])\n",
    ")"
   ]
  },
  {
   "cell_type": "code",
   "execution_count": 30,
   "metadata": {},
   "outputs": [
    {
     "data": {
      "application/vnd.atoti.link.v0+json": {
       "path": "#/dashboard/326",
       "sessionLocation": {
        "https": null,
        "port": 1111
       }
      },
      "text/plain": [
       "Open the notebook in JupyterLab with the atoti extension enabled to see this link."
      ]
     },
     "execution_count": 30,
     "metadata": {},
     "output_type": "execute_result"
    }
   ],
   "source": [
    "session.link(path=\"/#/dashboard/326\")"
   ]
  },
  {
   "cell_type": "markdown",
   "metadata": {},
   "source": [
    "If you wish to play with the UI and explore the data by yourself, [you can have a look at our UI documentation here](https://www.activeviam.com/activeui/documentation/index.html).\n",
    "\n",
    "## Custom hierarchy"
   ]
  },
  {
   "cell_type": "code",
   "execution_count": 31,
   "metadata": {},
   "outputs": [],
   "source": [
    "h[\"Products\"] = {\n",
    "    \"Product Brand\": lvl[\"Brand\"],\n",
    "    \"Product Label\": lvl[\"Product Name\"],\n",
    "}"
   ]
  },
  {
   "cell_type": "code",
   "execution_count": 32,
   "metadata": {
    "atoti": {
     "widget": {
      "mapping": {
       "columns": [
        "ALL_MEASURES"
       ],
       "measures": [
        "[Measures].[n_purchases.MEAN]",
        "[Measures].[SellingPrice.MEAN]",
        "[Measures].[PurchasePrice.MEAN]",
        "[Measures].[Margin.SUM]"
       ],
       "rows": [
        "[Products].[Products].[Product Brand] => [Products].[Products].[Product Label]"
       ]
      },
      "name": "",
      "query": {
       "context": {
        "queriesResultLimit.intermediateSize": 1000000,
        "queriesResultLimit.transientSize": 10000000
       },
       "mdx": "WITH  Member [Measures].[[Products]].[Products]].[Product Brand]]_for_order] AS [Products].[Products].CurrentMember.MEMBER_VALUE  SELECT NON EMPTY {[Measures].[n_purchases.MEAN], [Measures].[SellingPrice.MEAN], [Measures].[PurchasePrice.MEAN], [Measures].[Margin.SUM]} ON COLUMNS, NON EMPTY Order(Hierarchize(Union(Hierarchize(DrilldownLevel([Products].[Products].[ALL].[AllMember])), Hierarchize(Descendants({[Products].[Products].[AllMember]}, 1, SELF_AND_BEFORE)), Descendants({[Products].[Products].[AllMember].[Brand 12079606]}, [Products].[Products].[Product Label]))), [Measures].[[Products]].[Products]].[Product Brand]]_for_order], ASC) ON ROWS FROM [products_cube] CELL PROPERTIES VALUE, FORMATTED_VALUE, BACK_COLOR, FORE_COLOR, FONT_FLAGS"
      },
      "serverKey": "default",
      "widgetKey": "pivot-table"
     }
    },
    "tags": []
   },
   "outputs": [
    {
     "data": {
      "application/vnd.atoti.widget.v0+json": {
       "name": null,
       "sessionId": "1648808159_SOX2DY",
       "sessionLocation": {
        "https": null,
        "port": 1111
       },
       "widgetCreationCode": "session.visualize()"
      },
      "text/html": [
       "<img src=\"data:image/svg+xml;charset=utf8,%3C%3Fxml%20version%3D%221.0%22%20standalone%3D%22no%22%3F%3E%3Csvg%20xmlns%3D%22http%3A%2F%2Fwww.w3.org%2F2000%2Fsvg%22%20height%3D%22352%22%20width%3D%22967%22%3E%3CforeignObject%20width%3D%22100%25%22%20height%3D%22100%25%22%20x%3D%220%22%20y%3D%220%22%3E%3Cstyle%20xmlns%3D%22http%3A%2F%2Fwww.w3.org%2F1999%2Fxhtml%22%20type%3D%22text%2Fcss%22%3E.anticon%20%7Bdisplay%3A%20inline-block%3B%20color%3A%20inherit%3B%20font-style%3A%20normal%3B%20line-height%3A%200%3B%20text-align%3A%20center%3B%20text-transform%3A%20none%3B%20vertical-align%3A%20-0.125em%3B%20text-rendering%3A%20optimizelegibility%3B%20-webkit-font-smoothing%3A%20antialiased%7D%0A.anticon%20%26gt%3B%20*%20%7Bline-height%3A%201%7D%0A.anticon%20svg%20%7Bdisplay%3A%20inline-block%7D%0A.anticon%5Btabindex%5D%20%7Bcursor%3A%20pointer%7D%0A*%2C%20%3A%3Abefore%2C%20%3A%3Aafter%20%7Bbox-sizing%3A%20unset%7D%0A.ant-root%20%5Bclass%5E%3D%22ant-%22%5D%2C%20.ant-root%20%5Bclass*%3D%22ant-%22%5D%2C%20.ant-root%20%5Bclass%5E%3D%22ant-%22%5D%20*%2C%20.ant-root%20%5Bclass*%3D%22ant-%22%5D%20*%2C%20.ant-root%20%5Bclass%5E%3D%22ant-%22%5D%20%3A%3Abefore%2C%20.ant-root%20%5Bclass*%3D%22ant-%22%5D%20%3A%3Abefore%2C%20.ant-root%20%5Bclass%5E%3D%22ant-%22%5D%20%3A%3Aafter%2C%20.ant-root%20%5Bclass*%3D%22ant-%22%5D%20%3A%3Aafter%20%7Bbox-sizing%3A%20border-box%7D%0A.ant-root%20html%2C%20.ant-root%20%7Bwidth%3A%20100%25%3B%20height%3A%20100%25%7D%0A.ant-root%20*%2C%20.ant-root%20%3A%3Abefore%2C%20.ant-root%20%3A%3Aafter%20%7Bbox-sizing%3A%20border-box%7D%0A.ant-root%20%7Bmargin-top%3A%200px%3B%20margin-right%3A%200px%3B%20margin-bottom%3A%200px%3B%20margin-left%3A%200px%3B%20color%3A%20rgb(89%2C%2089%2C%2089)%3B%20font-size%3A%2012px%3B%20font-family%3A%20-apple-system%2C%20BlinkMacSystemFont%2C%20%22Segoe%20UI%22%2C%20Roboto%2C%20%22Helvetica%20Neue%22%2C%20Arial%2C%20%22Noto%20Sans%22%2C%20sans-serif%2C%20%22Apple%20Color%20Emoji%22%2C%20%22Segoe%20UI%20Emoji%22%2C%20%22Segoe%20UI%20Symbol%22%2C%20%22Noto%20Color%20Emoji%22%3B%20font-variant-ligatures%3A%20normal%3B%20font-variant-numeric%3A%20tabular-nums%3B%20font-variant-east-asian%3A%20normal%3B%20font-variant-caps%3A%20normal%3B%20line-height%3A%201.66667%3B%20background-color%3A%20rgb(255%2C%20255%2C%20255)%3B%20--antd-wave-shadow-color%3A%20%20%231890FF%3B%20--scroll-bar%3A%20%200%7D%0A.ant-root%20svg%3Anot(%3Aroot)%20%7Boverflow-x%3A%20hidden%3B%20overflow-y%3A%20hidden%7D%0A.ant-root%20.anticon%20%7Bdisplay%3A%20inline-block%3B%20color%3A%20inherit%3B%20font-style%3A%20normal%3B%20line-height%3A%200%3B%20text-align%3A%20center%3B%20text-transform%3A%20none%3B%20vertical-align%3A%20-0.125em%3B%20text-rendering%3A%20optimizelegibility%3B%20-webkit-font-smoothing%3A%20antialiased%7D%0A.ant-root%20.anticon%20%26gt%3B%20*%20%7Bline-height%3A%201%7D%0A.ant-root%20.anticon%20svg%20%7Bdisplay%3A%20inline-block%7D%0A.ant-root%20.anticon%5Btabindex%5D%20%7Bcursor%3A%20pointer%7D%0A.ant-root%20.ant-spin%20%7Bbox-sizing%3A%20border-box%3B%20margin-top%3A%200px%3B%20margin-right%3A%200px%3B%20margin-bottom%3A%200px%3B%20margin-left%3A%200px%3B%20padding-top%3A%200px%3B%20padding-right%3A%200px%3B%20padding-bottom%3A%200px%3B%20padding-left%3A%200px%3B%20font-size%3A%2012px%3B%20font-variant-ligatures%3A%20normal%3B%20font-variant-numeric%3A%20tabular-nums%3B%20font-variant-east-asian%3A%20normal%3B%20font-variant-caps%3A%20normal%3B%20line-height%3A%201.66667%3B%20list-style-position%3A%20initial%3B%20list-style-image%3A%20initial%3B%20list-style-type%3A%20none%3B%20position%3A%20absolute%3B%20display%3A%20none%3B%20color%3A%20rgb(24%2C%20144%2C%20255)%3B%20text-align%3A%20center%3B%20vertical-align%3A%20middle%3B%20opacity%3A%200%3B%20transition-duration%3A%200.3s%3B%20transition-timing-function%3A%20cubic-bezier(0.78%2C%200.14%2C%200.15%2C%200.86)%3B%20transition-delay%3A%200s%3B%20transition-property%3A%20transform%7D%0A.ant-root%20.ant-spin-spinning%20%7Bposition%3A%20static%3B%20display%3A%20inline-block%3B%20opacity%3A%201%7D%0A.ant-root%20.ant-spin-dot%20%7Bposition%3A%20relative%3B%20display%3A%20inline-block%3B%20font-size%3A%2020px%3B%20width%3A%201em%3B%20height%3A%201em%7D%0A.ant-root%20.ant-spin-dot-item%20%7Bposition%3A%20absolute%3B%20display%3A%20block%3B%20width%3A%209px%3B%20height%3A%209px%3B%20background-color%3A%20rgb(24%2C%20144%2C%20255)%3B%20border-top-left-radius%3A%20100%25%3B%20border-top-right-radius%3A%20100%25%3B%20border-bottom-right-radius%3A%20100%25%3B%20border-bottom-left-radius%3A%20100%25%3B%20transform%3A%20scale(0.75)%3B%20transform-origin%3A%2050%25%2050%25%3B%20opacity%3A%200.3%3B%20animation-duration%3A%201s%3B%20animation-timing-function%3A%20linear%3B%20animation-delay%3A%200s%3B%20animation-iteration-count%3A%20infinite%3B%20animation-direction%3A%20alternate%3B%20animation-fill-mode%3A%20none%3B%20animation-play-state%3A%20running%3B%20animation-name%3A%20antSpinMove%7D%0A.ant-root%20.ant-spin-dot-item%3Anth-child(1)%20%7Btop%3A%200px%3B%20left%3A%200px%7D%0A.ant-root%20.ant-spin-dot-item%3Anth-child(2)%20%7Btop%3A%200px%3B%20right%3A%200px%3B%20animation-delay%3A%200.4s%7D%0A.ant-root%20.ant-spin-dot-item%3Anth-child(3)%20%7Bright%3A%200px%3B%20bottom%3A%200px%3B%20animation-delay%3A%200.8s%7D%0A.ant-root%20.ant-spin-dot-item%3Anth-child(4)%20%7Bbottom%3A%200px%3B%20left%3A%200px%3B%20animation-delay%3A%201.2s%7D%0A.ant-root%20.ant-spin-dot-spin%20%7Btransform%3A%20rotate(45deg)%3B%20animation-duration%3A%201.2s%3B%20animation-timing-function%3A%20linear%3B%20animation-delay%3A%200s%3B%20animation-iteration-count%3A%20infinite%3B%20animation-direction%3A%20normal%3B%20animation-fill-mode%3A%20none%3B%20animation-play-state%3A%20running%3B%20animation-name%3A%20antRotate%7D%0A.ant-root%20.ant-spin-lg%20.ant-spin-dot%20%7Bfont-size%3A%2032px%7D%0A.ant-root%20.ant-spin-lg%20.ant-spin-dot%20i%20%7Bwidth%3A%2014px%3B%20height%3A%2014px%7D%0A.ant-root%20.aui-invisible-scrollbars%20%7B%7D%0A.css-12ebr42-AWidget%20%7Bheight%3A%20100%25%7D%0A.css-ck2xzt-Spinner%20%7B-webkit-box-align%3A%20center%3B%20align-items%3A%20center%3B%20background-image%3A%20initial%3B%20background-position-x%3A%20initial%3B%20background-position-y%3A%20initial%3B%20background-size%3A%20initial%3B%20background-repeat-x%3A%20initial%3B%20background-repeat-y%3A%20initial%3B%20background-attachment%3A%20initial%3B%20background-origin%3A%20initial%3B%20background-clip%3A%20initial%3B%20background-color%3A%20transparent%3B%20display%3A%20flex%3B%20height%3A%20100%25%3B%20-webkit-box-pack%3A%20center%3B%20justify-content%3A%20center%3B%20position%3A%20absolute%3B%20transition-duration%3A%20300ms%3B%20transition-timing-function%3A%20ease%3B%20transition-delay%3A%200s%3B%20transition-property%3A%20opacity%3B%20width%3A%20100%25%3B%20opacity%3A%200%3B%20pointer-events%3A%20none%3B%20z-index%3A%202%7D%0A.css-1e3kjgr-Spinner%20%7Bheight%3A%20100%25%3B%20position%3A%20relative%7D%0A.css-1hwl8p1-Table%20%7Bpadding-bottom%3A%202px%3B%20padding-right%3A%202px%3B%20height%3A%20100%25%7D%0A.css-14ejcn0-Table%20%7Bheight%3A%20calc(100%25%20-%2030px)%3B%20outline-color%3A%20initial%3B%20outline-style%3A%20none%3B%20outline-width%3A%20initial%3B%20position%3A%20relative%7D%0A.css-1rxpjm0-ColumnResizeHint%20%7Bdisplay%3A%20none%3B%20position%3A%20absolute%3B%20z-index%3A%201%7D%0A.css-walxhl-ColumnResizeHint%20%7Bheight%3A%2028px%3B%20background-color%3A%20rgb(24%2C%20144%2C%20255)%3B%20width%3A%205px%7D%0A.css-1uww2vi-Table%20%7Bheight%3A%2030px%3B%20text-align%3A%20right%3B%20padding-right%3A%2025px%7D%0A.css-cavlcc-ColumnResizeHint%20%7Bdisplay%3A%20none%3B%20float%3A%20right%3B%20height%3A%20292px%3B%20background-color%3A%20rgb(24%2C%20144%2C%20255)%3B%20opacity%3A%200.4%3B%20width%3A%202px%7D%0A.css-bi0kgd-Table%20%7Bdisplay%3A%20flex%3B%20height%3A%20320px%7D%0A.css-cjaqq6-Table%20%7Bborder-collapse%3A%20collapse%3B%20height%3A%2028px%3B%20width%3A%20240px%7D%0A.css-17cmzye%20%7Bheight%3A%2028px%3B%20width%3A%20240px%7D%0A.css-1q24z4%20%7Bcursor%3A%20cell%3B%20height%3A%2028px%3B%20overflow-x%3A%20hidden%3B%20overflow-y%3A%20hidden%3B%20position%3A%20relative%3B%20width%3A%20240px%3B%20border-right-width%3A%202px%3B%20border-right-style%3A%20solid%3B%20border-right-color%3A%20rgb(233%2C%20233%2C%20233)%7D%0A.css-1hol363-ResizableCell%20%7Bdisplay%3A%20flex%3B%20flex-direction%3A%20column%3B%20position%3A%20absolute%3B%20top%3A%200px%3B%20left%3A%200px%3B%20height%3A%2028px%3B%20width%3A%20120px%7D%0A.css-xxcrt1-ResizableCell%20%7Bbackground-image%3A%20initial%3B%20background-position-x%3A%20initial%3B%20background-position-y%3A%20initial%3B%20background-size%3A%20initial%3B%20background-repeat-x%3A%20initial%3B%20background-repeat-y%3A%20initial%3B%20background-attachment%3A%20initial%3B%20background-origin%3A%20initial%3B%20background-clip%3A%20initial%3B%20background-color%3A%20transparent%3B%20cursor%3A%20col-resize%3B%20height%3A%20100%25%3B%20position%3A%20absolute%3B%20right%3A%200px%3B%20width%3A%205px%3B%20z-index%3A%201%7D%0A.css-fpuq48-ResizableCell%20%7Bdisplay%3A%20flex%3B%20flex-direction%3A%20column%3B%20position%3A%20absolute%3B%20top%3A%200px%3B%20left%3A%20120px%3B%20height%3A%2028px%3B%20width%3A%20120px%7D%0A.css-cd35y3%20%7Bheight%3A%20292px%3B%20width%3A%20240px%3B%20overflow-x%3A%20hidden%3B%20overflow-y%3A%20auto%7D%0A.css-11nhlsa%20%7Bcursor%3A%20cell%3B%20height%3A%20641284px%3B%20overflow-x%3A%20hidden%3B%20overflow-y%3A%20hidden%3B%20position%3A%20relative%3B%20width%3A%20240px%3B%20border-top-width%3A%202px%3B%20border-top-style%3A%20solid%3B%20border-top-color%3A%20rgb(233%2C%20233%2C%20233)%3B%20border-right-width%3A%202px%3B%20border-right-style%3A%20solid%3B%20border-right-color%3A%20rgb(233%2C%20233%2C%20233)%7D%0A.css-l8mdcn-Table%20%7Bwidth%3A%20725px%3B%20border-collapse%3A%20collapse%7D%0A.css-1q796z9%20%7Bheight%3A%2028px%3B%20width%3A%20707px%3B%20overflow-x%3A%20auto%3B%20overflow-y%3A%20hidden%7D%0A.css-1g2rciv%20%7Bcursor%3A%20cell%3B%20height%3A%2028px%3B%20overflow-x%3A%20hidden%3B%20overflow-y%3A%20hidden%3B%20position%3A%20relative%3B%20width%3A%20480px%7D%0A.css-3geaec-ResizableCell%20%7Bdisplay%3A%20flex%3B%20flex-direction%3A%20column%3B%20position%3A%20absolute%3B%20top%3A%200px%3B%20left%3A%20240px%3B%20height%3A%2028px%3B%20width%3A%20120px%7D%0A.css-9kbkmr-ResizableCell%20%7Bdisplay%3A%20flex%3B%20flex-direction%3A%20column%3B%20position%3A%20absolute%3B%20top%3A%200px%3B%20left%3A%20360px%3B%20height%3A%2028px%3B%20width%3A%20120px%7D%0A.css-popspp%20%7Bheight%3A%20292px%3B%20width%3A%20725px%3B%20overflow-x%3A%20auto%3B%20overflow-y%3A%20auto%7D%0A.css-1rbrqmu%20%7Bcursor%3A%20cell%3B%20height%3A%20641284px%3B%20overflow-x%3A%20hidden%3B%20overflow-y%3A%20hidden%3B%20position%3A%20relative%3B%20width%3A%20480px%3B%20border-top-width%3A%202px%3B%20border-top-style%3A%20solid%3B%20border-top-color%3A%20rgb(233%2C%20233%2C%20233)%7D%0A*%20%7B-ms-overflow-style%3A%20none%3B%20scrollbar-width%3A%20none%7D%0A*%3A%3A-webkit-scrollbar%20%7Bdisplay%3A%20none%7D%0A.atoti-hidden-in-snapshot%20%7Bdisplay%3A%20none%7D%3C%2Fstyle%3E%3Cdiv%20xmlns%3D%22http%3A%2F%2Fwww.w3.org%2F1999%2Fxhtml%22%20style%3D%22height%3A%20352px%3B%20width%3A%20967px%3B%22%3E%3Cdiv%20class%3D%22ant-root%20css-0%22%3E%3Cdiv%20class%3D%22ant-dropdown-trigger%20css-12ebr42-AWidget%22%3E%3Cdiv%20class%3D%22css-1e3kjgr-Spinner%22%3E%3Cdiv%20class%3D%22css-ck2xzt-Spinner%22%3E%3Cdiv%20class%3D%22ant-spin%20ant-spin-lg%20ant-spin-spinning%22%3E%3Cspan%20class%3D%22ant-spin-dot%20ant-spin-dot-spin%22%3E%3Ci%20class%3D%22ant-spin-dot-item%22%3E%3C%2Fi%3E%3Ci%20class%3D%22ant-spin-dot-item%22%3E%3C%2Fi%3E%3Ci%20class%3D%22ant-spin-dot-item%22%3E%3C%2Fi%3E%3Ci%20class%3D%22ant-spin-dot-item%22%3E%3C%2Fi%3E%3C%2Fspan%3E%3C%2Fdiv%3E%3C%2Fdiv%3E%3Cdiv%20class%3D%22css-1hwl8p1-Table%22%3E%3Cdiv%20tabindex%3D%220%22%20class%3D%22css-14ejcn0-Table%22%3E%3Cdiv%20class%3D%22css-1rxpjm0-ColumnResizeHint%22%3E%3Cdiv%20class%3D%22css-walxhl-ColumnResizeHint%22%3E%3C%2Fdiv%3E%3Cdiv%20class%3D%22css-cavlcc-ColumnResizeHint%22%3E%3C%2Fdiv%3E%3C%2Fdiv%3E%3Cdiv%20class%3D%22css-bi0kgd-Table%22%3E%3Cdiv%20class%3D%22css-cjaqq6-Table%22%3E%3Cdiv%20class%3D%22%20css-17cmzye%22%3E%3Cdiv%20class%3D%22css-1q24z4%22%3E%3Cdiv%20class%3D%22css-1hol363-ResizableCell%22%3E%3Cdiv%20class%3D%22aui-table-cell%22%20style%3D%22height%3A%2028px%3B%20left%3A%200px%3B%20top%3A%200px%3B%20width%3A%20115px%3B%20text-align%3A%20left%3B%20font-size%3A%2012px%3B%20padding%3A%204px%204px%203px%3B%20overflow%3A%20hidden%3B%20position%3A%20absolute%3B%20white-space%3A%20nowrap%3B%20text-overflow%3A%20ellipsis%3B%20font-weight%3A%20600%3B%20display%3A%20flex%3B%20align-items%3A%20center%3B%22%3E%3Cspan%3EProduct%20Brand%3C%2Fspan%3E%3Csvg%20xmlns%3D%22http%3A%2F%2Fwww.w3.org%2F2000%2Fsvg%22%20viewBox%3D%2264%2064%20896%20896%22%20width%3D%221em%22%20height%3D%221em%22%20fill%3D%22currentColor%22%20style%3D%22cursor%3A%20pointer%3B%20height%3A%20100%25%3B%20margin-left%3A%20auto%3B%22%3E%3Cpath%20d%3D%22M404%20705h-76V175a8%208%200%2000-8-8h-56a8%208%200%2000-8%208v530h-76a8%208%200%2000-6.3%2013l112%20141.9a8%208%200%200011.2%201.4%209.3%209.3%200%20001.4-1.4l112-141.9a8.1%208.1%200%2000-6.3-13zm237.6-489.2v232.3h61.9V127.6h-51.6l-89.7%2091.5%2038.4%2039.6%2041-42.9zm2.4%20615.8c29.6-23.4%2060.2-49.5%2082.5-75.5%2027-31.5%2040.2-61%2040.2-90.2s-12.1-55.8-35.1-73.7c-20.2-15.7-47.6-24.4-77.2-24.4-45.8%200-88.1%2018.9-113.3%2050.5l-4.2%205.3%2037.2%2041%205.9-7c12.9-15.5%2036.4-33.9%2074.9-33.9%2023.2%200%2050.2%2011%2050.2%2042.1%200%2043.5-51.3%2087.7-160.3%20171.5l-3.1%202.4V887H768v-55.4z%22%2F%3E%3C%2Fsvg%3E%3C%2Fdiv%3E%3Cdiv%20class%3D%22css-xxcrt1-ResizableCell%22%3E%3C%2Fdiv%3E%3C%2Fdiv%3E%3Cdiv%20class%3D%22css-fpuq48-ResizableCell%22%3E%3Cdiv%20class%3D%22aui-table-cell%22%20style%3D%22height%3A%2028px%3B%20left%3A%200px%3B%20top%3A%200px%3B%20width%3A%20115px%3B%20text-align%3A%20left%3B%20font-size%3A%2012px%3B%20padding%3A%204px%204px%203px%3B%20overflow%3A%20hidden%3B%20position%3A%20absolute%3B%20white-space%3A%20nowrap%3B%20text-overflow%3A%20ellipsis%3B%20font-weight%3A%20600%3B%20display%3A%20flex%3B%20align-items%3A%20center%3B%22%3E%3Cspan%3EProduct%20Label%3C%2Fspan%3E%3C%2Fdiv%3E%3Cdiv%20class%3D%22css-xxcrt1-ResizableCell%22%3E%3C%2Fdiv%3E%3C%2Fdiv%3E%3C%2Fdiv%3E%3C%2Fdiv%3E%3Cdiv%20class%3D%22aui-invisible-scrollbars%20css-cd35y3%22%3E%3Cdiv%20class%3D%22css-11nhlsa%22%3E%3Cdiv%20style%3D%22display%3A%20flex%3B%20align-items%3A%20center%3B%20height%3A%2028px%3B%20left%3A%200px%3B%20top%3A%200px%3B%20width%3A%20120px%3B%20text-align%3A%20left%3B%20font-size%3A%2012px%3B%20padding%3A%204px%204px%203px%3B%20overflow%3A%20hidden%3B%20position%3A%20absolute%3B%20white-space%3A%20nowrap%3B%20text-overflow%3A%20ellipsis%3B%20background-color%3A%20transparent%3B%20font-weight%3A%20600%3B%22%3E%3Cspan%20style%3D%22text-overflow%3A%20ellipsis%3B%20overflow%3A%20hidden%3B%20white-space%3A%20nowrap%3B%20max-width%3A%20calc((100%25%20-%200px)%20-%200px)%3B%22%3ETotal%3C%2Fspan%3E%3C%2Fdiv%3E%3Cdiv%20style%3D%22display%3A%20flex%3B%20align-items%3A%20center%3B%20height%3A%2028px%3B%20left%3A%20120px%3B%20top%3A%200px%3B%20width%3A%20120px%3B%20text-align%3A%20left%3B%20font-size%3A%2012px%3B%20padding%3A%204px%204px%203px%3B%20overflow%3A%20hidden%3B%20position%3A%20absolute%3B%20white-space%3A%20nowrap%3B%20text-overflow%3A%20ellipsis%3B%20background-color%3A%20transparent%3B%20border-right%3A%202px%20solid%20rgb(233%2C%20233%2C%20233)%3B%22%3E%3Cspan%20style%3D%22text-overflow%3A%20ellipsis%3B%20overflow%3A%20hidden%3B%20white-space%3A%20nowrap%3B%20max-width%3A%20calc((100%25%20-%200px)%20-%200px)%3B%22%3E%3C%2Fspan%3E%3C%2Fdiv%3E%3Cdiv%20style%3D%22display%3A%20flex%3B%20align-items%3A%20center%3B%20height%3A%2028px%3B%20left%3A%200px%3B%20top%3A%2028px%3B%20width%3A%20120px%3B%20text-align%3A%20left%3B%20font-size%3A%2012px%3B%20padding%3A%204px%204px%203px%3B%20overflow%3A%20hidden%3B%20position%3A%20absolute%3B%20white-space%3A%20nowrap%3B%20text-overflow%3A%20ellipsis%3B%20background-color%3A%20transparent%3B%20border-top%3A%201px%20solid%20rgb(233%2C%20233%2C%20233)%3B%20font-weight%3A%20600%3B%22%3E%3Cspan%20role%3D%22img%22%20aria-label%3D%22caret-right%22%20tabindex%3D%22-1%22%20class%3D%22anticon%20anticon-caret-right%22%20style%3D%22cursor%3A%20pointer%3B%20font-size%3A%2012px%3B%20margin-right%3A%206px%3B%20color%3A%20rgb(217%2C%20217%2C%20217)%3B%22%3E%3Csvg%20xmlns%3D%22http%3A%2F%2Fwww.w3.org%2F2000%2Fsvg%22%20viewBox%3D%220%200%201024%201024%22%20focusable%3D%22false%22%20data-icon%3D%22caret-right%22%20width%3D%221em%22%20height%3D%221em%22%20fill%3D%22currentColor%22%20aria-hidden%3D%22true%22%3E%3Cpath%20d%3D%22M715.8%20493.5L335%20165.1c-14.2-12.2-35-1.2-35%2018.5v656.8c0%2019.7%2020.8%2030.7%2035%2018.5l380.8-328.4c10.9-9.4%2010.9-27.6%200-37z%22%2F%3E%3C%2Fsvg%3E%3C%2Fspan%3E%3Cspan%20style%3D%22text-overflow%3A%20ellipsis%3B%20overflow%3A%20hidden%3B%20white-space%3A%20nowrap%3B%20max-width%3A%20calc((100%25%20-%2016px)%20-%200px)%3B%22%3EBrand%201064770%3C%2Fspan%3E%3C%2Fdiv%3E%3Cdiv%20style%3D%22display%3A%20flex%3B%20align-items%3A%20center%3B%20height%3A%2028px%3B%20left%3A%20120px%3B%20top%3A%2028px%3B%20width%3A%20120px%3B%20text-align%3A%20left%3B%20font-size%3A%2012px%3B%20padding%3A%204px%204px%203px%3B%20overflow%3A%20hidden%3B%20position%3A%20absolute%3B%20white-space%3A%20nowrap%3B%20text-overflow%3A%20ellipsis%3B%20background-color%3A%20transparent%3B%20border-right%3A%202px%20solid%20rgb(233%2C%20233%2C%20233)%3B%20border-top%3A%201px%20solid%20rgb(233%2C%20233%2C%20233)%3B%22%3E%3Cspan%20style%3D%22text-overflow%3A%20ellipsis%3B%20overflow%3A%20hidden%3B%20white-space%3A%20nowrap%3B%20max-width%3A%20calc((100%25%20-%2016px)%20-%200px)%3B%22%3E%3C%2Fspan%3E%3C%2Fdiv%3E%3Cdiv%20style%3D%22display%3A%20flex%3B%20align-items%3A%20center%3B%20height%3A%2028px%3B%20left%3A%200px%3B%20top%3A%2056px%3B%20width%3A%20120px%3B%20text-align%3A%20left%3B%20font-size%3A%2012px%3B%20padding%3A%204px%204px%203px%3B%20overflow%3A%20hidden%3B%20position%3A%20absolute%3B%20white-space%3A%20nowrap%3B%20text-overflow%3A%20ellipsis%3B%20background-color%3A%20transparent%3B%20border-top%3A%201px%20solid%20rgb(233%2C%20233%2C%20233)%3B%20font-weight%3A%20600%3B%22%3E%3Cspan%20role%3D%22img%22%20aria-label%3D%22caret-right%22%20tabindex%3D%22-1%22%20class%3D%22anticon%20anticon-caret-right%22%20style%3D%22cursor%3A%20pointer%3B%20font-size%3A%2012px%3B%20margin-right%3A%206px%3B%20color%3A%20rgb(217%2C%20217%2C%20217)%3B%22%3E%3Csvg%20xmlns%3D%22http%3A%2F%2Fwww.w3.org%2F2000%2Fsvg%22%20viewBox%3D%220%200%201024%201024%22%20focusable%3D%22false%22%20data-icon%3D%22caret-right%22%20width%3D%221em%22%20height%3D%221em%22%20fill%3D%22currentColor%22%20aria-hidden%3D%22true%22%3E%3Cpath%20d%3D%22M715.8%20493.5L335%20165.1c-14.2-12.2-35-1.2-35%2018.5v656.8c0%2019.7%2020.8%2030.7%2035%2018.5l380.8-328.4c10.9-9.4%2010.9-27.6%200-37z%22%2F%3E%3C%2Fsvg%3E%3C%2Fspan%3E%3Cspan%20style%3D%22text-overflow%3A%20ellipsis%3B%20overflow%3A%20hidden%3B%20white-space%3A%20nowrap%3B%20max-width%3A%20calc((100%25%20-%2016px)%20-%200px)%3B%22%3EBrand%2011942837%3C%2Fspan%3E%3C%2Fdiv%3E%3Cdiv%20style%3D%22display%3A%20flex%3B%20align-items%3A%20center%3B%20height%3A%2028px%3B%20left%3A%20120px%3B%20top%3A%2056px%3B%20width%3A%20120px%3B%20text-align%3A%20left%3B%20font-size%3A%2012px%3B%20padding%3A%204px%204px%203px%3B%20overflow%3A%20hidden%3B%20position%3A%20absolute%3B%20white-space%3A%20nowrap%3B%20text-overflow%3A%20ellipsis%3B%20background-color%3A%20transparent%3B%20border-right%3A%202px%20solid%20rgb(233%2C%20233%2C%20233)%3B%20border-top%3A%201px%20solid%20rgb(233%2C%20233%2C%20233)%3B%22%3E%3Cspan%20style%3D%22text-overflow%3A%20ellipsis%3B%20overflow%3A%20hidden%3B%20white-space%3A%20nowrap%3B%20max-width%3A%20calc((100%25%20-%2016px)%20-%200px)%3B%22%3E%3C%2Fspan%3E%3C%2Fdiv%3E%3Cdiv%20style%3D%22display%3A%20flex%3B%20align-items%3A%20center%3B%20height%3A%2028px%3B%20left%3A%200px%3B%20top%3A%2084px%3B%20width%3A%20120px%3B%20text-align%3A%20left%3B%20font-size%3A%2012px%3B%20padding%3A%204px%204px%203px%3B%20overflow%3A%20hidden%3B%20position%3A%20absolute%3B%20white-space%3A%20nowrap%3B%20text-overflow%3A%20ellipsis%3B%20background-color%3A%20transparent%3B%20border-top%3A%201px%20solid%20rgb(233%2C%20233%2C%20233)%3B%20font-weight%3A%20600%3B%22%3E%3Cspan%20role%3D%22img%22%20aria-label%3D%22caret-down%22%20tabindex%3D%22-1%22%20class%3D%22anticon%20anticon-caret-down%22%20style%3D%22cursor%3A%20pointer%3B%20font-size%3A%2012px%3B%20margin-right%3A%206px%3B%20color%3A%20rgb(141%2C%20141%2C%20141)%3B%22%3E%3Csvg%20xmlns%3D%22http%3A%2F%2Fwww.w3.org%2F2000%2Fsvg%22%20viewBox%3D%220%200%201024%201024%22%20focusable%3D%22false%22%20data-icon%3D%22caret-down%22%20width%3D%221em%22%20height%3D%221em%22%20fill%3D%22currentColor%22%20aria-hidden%3D%22true%22%3E%3Cpath%20d%3D%22M840.4%20300H183.6c-19.7%200-30.7%2020.8-18.5%2035l328.4%20380.8c9.4%2010.9%2027.5%2010.9%2037%200L858.9%20335c12.2-14.2%201.2-35-18.5-35z%22%2F%3E%3C%2Fsvg%3E%3C%2Fspan%3E%3Cspan%20style%3D%22text-overflow%3A%20ellipsis%3B%20overflow%3A%20hidden%3B%20white-space%3A%20nowrap%3B%20max-width%3A%20calc((100%25%20-%2016px)%20-%200px)%3B%22%3EBrand%2012079606%3C%2Fspan%3E%3C%2Fdiv%3E%3Cdiv%20style%3D%22display%3A%20flex%3B%20align-items%3A%20center%3B%20height%3A%2028px%3B%20left%3A%20120px%3B%20top%3A%2084px%3B%20width%3A%20120px%3B%20text-align%3A%20left%3B%20font-size%3A%2012px%3B%20padding%3A%204px%204px%203px%3B%20overflow%3A%20hidden%3B%20position%3A%20absolute%3B%20white-space%3A%20nowrap%3B%20text-overflow%3A%20ellipsis%3B%20background-color%3A%20transparent%3B%20border-right%3A%202px%20solid%20rgb(233%2C%20233%2C%20233)%3B%20border-top%3A%201px%20solid%20rgb(233%2C%20233%2C%20233)%3B%22%3E%3Cspan%20style%3D%22text-overflow%3A%20ellipsis%3B%20overflow%3A%20hidden%3B%20white-space%3A%20nowrap%3B%20max-width%3A%20calc((100%25%20-%2016px)%20-%200px)%3B%22%3E%3C%2Fspan%3E%3C%2Fdiv%3E%3Cdiv%20style%3D%22display%3A%20none%3B%20align-items%3A%20center%3B%20height%3A%2028px%3B%20left%3A%200px%3B%20top%3A%20112px%3B%20width%3A%20120px%3B%20text-align%3A%20left%3B%20font-size%3A%2012px%3B%20padding%3A%204px%204px%203px%3B%20overflow%3A%20hidden%3B%20position%3A%20absolute%3B%20white-space%3A%20nowrap%3B%20text-overflow%3A%20ellipsis%3B%20background-color%3A%20transparent%3B%20font-weight%3A%20600%3B%22%3E%3Cspan%20role%3D%22img%22%20aria-label%3D%22caret-down%22%20tabindex%3D%22-1%22%20class%3D%22anticon%20anticon-caret-down%22%20style%3D%22cursor%3A%20pointer%3B%20font-size%3A%2012px%3B%20margin-right%3A%206px%3B%20color%3A%20rgb(141%2C%20141%2C%20141)%3B%22%3E%3Csvg%20xmlns%3D%22http%3A%2F%2Fwww.w3.org%2F2000%2Fsvg%22%20viewBox%3D%220%200%201024%201024%22%20focusable%3D%22false%22%20data-icon%3D%22caret-down%22%20width%3D%221em%22%20height%3D%221em%22%20fill%3D%22currentColor%22%20aria-hidden%3D%22true%22%3E%3Cpath%20d%3D%22M840.4%20300H183.6c-19.7%200-30.7%2020.8-18.5%2035l328.4%20380.8c9.4%2010.9%2027.5%2010.9%2037%200L858.9%20335c12.2-14.2%201.2-35-18.5-35z%22%2F%3E%3C%2Fsvg%3E%3C%2Fspan%3E%3Cspan%20style%3D%22text-overflow%3A%20ellipsis%3B%20overflow%3A%20hidden%3B%20white-space%3A%20nowrap%3B%20max-width%3A%20calc((100%25%20-%2016px)%20-%200px)%3B%22%3EBrand%2012079606%3C%2Fspan%3E%3C%2Fdiv%3E%3Cdiv%20style%3D%22display%3A%20flex%3B%20align-items%3A%20center%3B%20height%3A%2028px%3B%20left%3A%20120px%3B%20top%3A%20112px%3B%20width%3A%20120px%3B%20text-align%3A%20left%3B%20font-size%3A%2012px%3B%20padding%3A%204px%204px%203px%3B%20overflow%3A%20hidden%3B%20position%3A%20absolute%3B%20white-space%3A%20nowrap%3B%20text-overflow%3A%20ellipsis%3B%20background-color%3A%20rgb(250%2C%20250%2C%20250)%3B%20border-right%3A%202px%20solid%20rgb(233%2C%20233%2C%20233)%3B%22%3E%3Cspan%20style%3D%22text-overflow%3A%20ellipsis%3B%20overflow%3A%20hidden%3B%20white-space%3A%20nowrap%3B%20max-width%3A%20calc((100%25%20-%200px)%20-%200px)%3B%22%3EProduct%2080067575%3C%2Fspan%3E%3C%2Fdiv%3E%3Cdiv%20style%3D%22display%3A%20flex%3B%20align-items%3A%20center%3B%20height%3A%2028px%3B%20left%3A%200px%3B%20top%3A%20140px%3B%20width%3A%20120px%3B%20text-align%3A%20left%3B%20font-size%3A%2012px%3B%20padding%3A%204px%204px%203px%3B%20overflow%3A%20hidden%3B%20position%3A%20absolute%3B%20white-space%3A%20nowrap%3B%20text-overflow%3A%20ellipsis%3B%20background-color%3A%20transparent%3B%20border-top%3A%201px%20solid%20rgb(233%2C%20233%2C%20233)%3B%20font-weight%3A%20600%3B%22%3E%3Cspan%20role%3D%22img%22%20aria-label%3D%22caret-right%22%20tabindex%3D%22-1%22%20class%3D%22anticon%20anticon-caret-right%22%20style%3D%22cursor%3A%20pointer%3B%20font-size%3A%2012px%3B%20margin-right%3A%206px%3B%20color%3A%20rgb(217%2C%20217%2C%20217)%3B%22%3E%3Csvg%20xmlns%3D%22http%3A%2F%2Fwww.w3.org%2F2000%2Fsvg%22%20viewBox%3D%220%200%201024%201024%22%20focusable%3D%22false%22%20data-icon%3D%22caret-right%22%20width%3D%221em%22%20height%3D%221em%22%20fill%3D%22currentColor%22%20aria-hidden%3D%22true%22%3E%3Cpath%20d%3D%22M715.8%20493.5L335%20165.1c-14.2-12.2-35-1.2-35%2018.5v656.8c0%2019.7%2020.8%2030.7%2035%2018.5l380.8-328.4c10.9-9.4%2010.9-27.6%200-37z%22%2F%3E%3C%2Fsvg%3E%3C%2Fspan%3E%3Cspan%20style%3D%22text-overflow%3A%20ellipsis%3B%20overflow%3A%20hidden%3B%20white-space%3A%20nowrap%3B%20max-width%3A%20calc((100%25%20-%2016px)%20-%200px)%3B%22%3EBrand%2012162535%3C%2Fspan%3E%3C%2Fdiv%3E%3Cdiv%20style%3D%22display%3A%20flex%3B%20align-items%3A%20center%3B%20height%3A%2028px%3B%20left%3A%20120px%3B%20top%3A%20140px%3B%20width%3A%20120px%3B%20text-align%3A%20left%3B%20font-size%3A%2012px%3B%20padding%3A%204px%204px%203px%3B%20overflow%3A%20hidden%3B%20position%3A%20absolute%3B%20white-space%3A%20nowrap%3B%20text-overflow%3A%20ellipsis%3B%20background-color%3A%20transparent%3B%20border-right%3A%202px%20solid%20rgb(233%2C%20233%2C%20233)%3B%20border-top%3A%201px%20solid%20rgb(233%2C%20233%2C%20233)%3B%22%3E%3Cspan%20style%3D%22text-overflow%3A%20ellipsis%3B%20overflow%3A%20hidden%3B%20white-space%3A%20nowrap%3B%20max-width%3A%20calc((100%25%20-%2016px)%20-%200px)%3B%22%3E%3C%2Fspan%3E%3C%2Fdiv%3E%3Cdiv%20style%3D%22display%3A%20flex%3B%20align-items%3A%20center%3B%20height%3A%2028px%3B%20left%3A%200px%3B%20top%3A%20168px%3B%20width%3A%20120px%3B%20text-align%3A%20left%3B%20font-size%3A%2012px%3B%20padding%3A%204px%204px%203px%3B%20overflow%3A%20hidden%3B%20position%3A%20absolute%3B%20white-space%3A%20nowrap%3B%20text-overflow%3A%20ellipsis%3B%20background-color%3A%20transparent%3B%20border-top%3A%201px%20solid%20rgb(233%2C%20233%2C%20233)%3B%20font-weight%3A%20600%3B%22%3E%3Cspan%20role%3D%22img%22%20aria-label%3D%22caret-right%22%20tabindex%3D%22-1%22%20class%3D%22anticon%20anticon-caret-right%22%20style%3D%22cursor%3A%20pointer%3B%20font-size%3A%2012px%3B%20margin-right%3A%206px%3B%20color%3A%20rgb(217%2C%20217%2C%20217)%3B%22%3E%3Csvg%20xmlns%3D%22http%3A%2F%2Fwww.w3.org%2F2000%2Fsvg%22%20viewBox%3D%220%200%201024%201024%22%20focusable%3D%22false%22%20data-icon%3D%22caret-right%22%20width%3D%221em%22%20height%3D%221em%22%20fill%3D%22currentColor%22%20aria-hidden%3D%22true%22%3E%3Cpath%20d%3D%22M715.8%20493.5L335%20165.1c-14.2-12.2-35-1.2-35%2018.5v656.8c0%2019.7%2020.8%2030.7%2035%2018.5l380.8-328.4c10.9-9.4%2010.9-27.6%200-37z%22%2F%3E%3C%2Fsvg%3E%3C%2Fspan%3E%3Cspan%20style%3D%22text-overflow%3A%20ellipsis%3B%20overflow%3A%20hidden%3B%20white-space%3A%20nowrap%3B%20max-width%3A%20calc((100%25%20-%2016px)%20-%200px)%3B%22%3EBrand%2012162556%3C%2Fspan%3E%3C%2Fdiv%3E%3Cdiv%20style%3D%22display%3A%20flex%3B%20align-items%3A%20center%3B%20height%3A%2028px%3B%20left%3A%20120px%3B%20top%3A%20168px%3B%20width%3A%20120px%3B%20text-align%3A%20left%3B%20font-size%3A%2012px%3B%20padding%3A%204px%204px%203px%3B%20overflow%3A%20hidden%3B%20position%3A%20absolute%3B%20white-space%3A%20nowrap%3B%20text-overflow%3A%20ellipsis%3B%20background-color%3A%20transparent%3B%20border-right%3A%202px%20solid%20rgb(233%2C%20233%2C%20233)%3B%20border-top%3A%201px%20solid%20rgb(233%2C%20233%2C%20233)%3B%22%3E%3Cspan%20style%3D%22text-overflow%3A%20ellipsis%3B%20overflow%3A%20hidden%3B%20white-space%3A%20nowrap%3B%20max-width%3A%20calc((100%25%20-%2016px)%20-%200px)%3B%22%3E%3C%2Fspan%3E%3C%2Fdiv%3E%3Cdiv%20style%3D%22display%3A%20flex%3B%20align-items%3A%20center%3B%20height%3A%2028px%3B%20left%3A%200px%3B%20top%3A%20196px%3B%20width%3A%20120px%3B%20text-align%3A%20left%3B%20font-size%3A%2012px%3B%20padding%3A%204px%204px%203px%3B%20overflow%3A%20hidden%3B%20position%3A%20absolute%3B%20white-space%3A%20nowrap%3B%20text-overflow%3A%20ellipsis%3B%20background-color%3A%20transparent%3B%20border-top%3A%201px%20solid%20rgb(233%2C%20233%2C%20233)%3B%20font-weight%3A%20600%3B%22%3E%3Cspan%20role%3D%22img%22%20aria-label%3D%22caret-right%22%20tabindex%3D%22-1%22%20class%3D%22anticon%20anticon-caret-right%22%20style%3D%22cursor%3A%20pointer%3B%20font-size%3A%2012px%3B%20margin-right%3A%206px%3B%20color%3A%20rgb(217%2C%20217%2C%20217)%3B%22%3E%3Csvg%20xmlns%3D%22http%3A%2F%2Fwww.w3.org%2F2000%2Fsvg%22%20viewBox%3D%220%200%201024%201024%22%20focusable%3D%22false%22%20data-icon%3D%22caret-right%22%20width%3D%221em%22%20height%3D%221em%22%20fill%3D%22currentColor%22%20aria-hidden%3D%22true%22%3E%3Cpath%20d%3D%22M715.8%20493.5L335%20165.1c-14.2-12.2-35-1.2-35%2018.5v656.8c0%2019.7%2020.8%2030.7%2035%2018.5l380.8-328.4c10.9-9.4%2010.9-27.6%200-37z%22%2F%3E%3C%2Fsvg%3E%3C%2Fspan%3E%3Cspan%20style%3D%22text-overflow%3A%20ellipsis%3B%20overflow%3A%20hidden%3B%20white-space%3A%20nowrap%3B%20max-width%3A%20calc((100%25%20-%2016px)%20-%200px)%3B%22%3EBrand%2012162570%3C%2Fspan%3E%3C%2Fdiv%3E%3Cdiv%20style%3D%22display%3A%20flex%3B%20align-items%3A%20center%3B%20height%3A%2028px%3B%20left%3A%20120px%3B%20top%3A%20196px%3B%20width%3A%20120px%3B%20text-align%3A%20left%3B%20font-size%3A%2012px%3B%20padding%3A%204px%204px%203px%3B%20overflow%3A%20hidden%3B%20position%3A%20absolute%3B%20white-space%3A%20nowrap%3B%20text-overflow%3A%20ellipsis%3B%20background-color%3A%20transparent%3B%20border-right%3A%202px%20solid%20rgb(233%2C%20233%2C%20233)%3B%20border-top%3A%201px%20solid%20rgb(233%2C%20233%2C%20233)%3B%22%3E%3Cspan%20style%3D%22text-overflow%3A%20ellipsis%3B%20overflow%3A%20hidden%3B%20white-space%3A%20nowrap%3B%20max-width%3A%20calc((100%25%20-%2016px)%20-%200px)%3B%22%3E%3C%2Fspan%3E%3C%2Fdiv%3E%3Cdiv%20style%3D%22display%3A%20flex%3B%20align-items%3A%20center%3B%20height%3A%2028px%3B%20left%3A%200px%3B%20top%3A%20224px%3B%20width%3A%20120px%3B%20text-align%3A%20left%3B%20font-size%3A%2012px%3B%20padding%3A%204px%204px%203px%3B%20overflow%3A%20hidden%3B%20position%3A%20absolute%3B%20white-space%3A%20nowrap%3B%20text-overflow%3A%20ellipsis%3B%20background-color%3A%20transparent%3B%20border-top%3A%201px%20solid%20rgb(233%2C%20233%2C%20233)%3B%20font-weight%3A%20600%3B%22%3E%3Cspan%20role%3D%22img%22%20aria-label%3D%22caret-right%22%20tabindex%3D%22-1%22%20class%3D%22anticon%20anticon-caret-right%22%20style%3D%22cursor%3A%20pointer%3B%20font-size%3A%2012px%3B%20margin-right%3A%206px%3B%20color%3A%20rgb(217%2C%20217%2C%20217)%3B%22%3E%3Csvg%20xmlns%3D%22http%3A%2F%2Fwww.w3.org%2F2000%2Fsvg%22%20viewBox%3D%220%200%201024%201024%22%20focusable%3D%22false%22%20data-icon%3D%22caret-right%22%20width%3D%221em%22%20height%3D%221em%22%20fill%3D%22currentColor%22%20aria-hidden%3D%22true%22%3E%3Cpath%20d%3D%22M715.8%20493.5L335%20165.1c-14.2-12.2-35-1.2-35%2018.5v656.8c0%2019.7%2020.8%2030.7%2035%2018.5l380.8-328.4c10.9-9.4%2010.9-27.6%200-37z%22%2F%3E%3C%2Fsvg%3E%3C%2Fspan%3E%3Cspan%20style%3D%22text-overflow%3A%20ellipsis%3B%20overflow%3A%20hidden%3B%20white-space%3A%20nowrap%3B%20max-width%3A%20calc((100%25%20-%2016px)%20-%200px)%3B%22%3EBrand%2012162584%3C%2Fspan%3E%3C%2Fdiv%3E%3Cdiv%20style%3D%22display%3A%20flex%3B%20align-items%3A%20center%3B%20height%3A%2028px%3B%20left%3A%20120px%3B%20top%3A%20224px%3B%20width%3A%20120px%3B%20text-align%3A%20left%3B%20font-size%3A%2012px%3B%20padding%3A%204px%204px%203px%3B%20overflow%3A%20hidden%3B%20position%3A%20absolute%3B%20white-space%3A%20nowrap%3B%20text-overflow%3A%20ellipsis%3B%20background-color%3A%20transparent%3B%20border-right%3A%202px%20solid%20rgb(233%2C%20233%2C%20233)%3B%20border-top%3A%201px%20solid%20rgb(233%2C%20233%2C%20233)%3B%22%3E%3Cspan%20style%3D%22text-overflow%3A%20ellipsis%3B%20overflow%3A%20hidden%3B%20white-space%3A%20nowrap%3B%20max-width%3A%20calc((100%25%20-%2016px)%20-%200px)%3B%22%3E%3C%2Fspan%3E%3C%2Fdiv%3E%3Cdiv%20style%3D%22display%3A%20flex%3B%20align-items%3A%20center%3B%20height%3A%2028px%3B%20left%3A%200px%3B%20top%3A%20252px%3B%20width%3A%20120px%3B%20text-align%3A%20left%3B%20font-size%3A%2012px%3B%20padding%3A%204px%204px%203px%3B%20overflow%3A%20hidden%3B%20position%3A%20absolute%3B%20white-space%3A%20nowrap%3B%20text-overflow%3A%20ellipsis%3B%20background-color%3A%20transparent%3B%20border-top%3A%201px%20solid%20rgb(233%2C%20233%2C%20233)%3B%20font-weight%3A%20600%3B%22%3E%3Cspan%20role%3D%22img%22%20aria-label%3D%22caret-right%22%20tabindex%3D%22-1%22%20class%3D%22anticon%20anticon-caret-right%22%20style%3D%22cursor%3A%20pointer%3B%20font-size%3A%2012px%3B%20margin-right%3A%206px%3B%20color%3A%20rgb(217%2C%20217%2C%20217)%3B%22%3E%3Csvg%20xmlns%3D%22http%3A%2F%2Fwww.w3.org%2F2000%2Fsvg%22%20viewBox%3D%220%200%201024%201024%22%20focusable%3D%22false%22%20data-icon%3D%22caret-right%22%20width%3D%221em%22%20height%3D%221em%22%20fill%3D%22currentColor%22%20aria-hidden%3D%22true%22%3E%3Cpath%20d%3D%22M715.8%20493.5L335%20165.1c-14.2-12.2-35-1.2-35%2018.5v656.8c0%2019.7%2020.8%2030.7%2035%2018.5l380.8-328.4c10.9-9.4%2010.9-27.6%200-37z%22%2F%3E%3C%2Fsvg%3E%3C%2Fspan%3E%3Cspan%20style%3D%22text-overflow%3A%20ellipsis%3B%20overflow%3A%20hidden%3B%20white-space%3A%20nowrap%3B%20max-width%3A%20calc((100%25%20-%2016px)%20-%200px)%3B%22%3EBrand%2012200846%3C%2Fspan%3E%3C%2Fdiv%3E%3Cdiv%20style%3D%22display%3A%20flex%3B%20align-items%3A%20center%3B%20height%3A%2028px%3B%20left%3A%20120px%3B%20top%3A%20252px%3B%20width%3A%20120px%3B%20text-align%3A%20left%3B%20font-size%3A%2012px%3B%20padding%3A%204px%204px%203px%3B%20overflow%3A%20hidden%3B%20position%3A%20absolute%3B%20white-space%3A%20nowrap%3B%20text-overflow%3A%20ellipsis%3B%20background-color%3A%20transparent%3B%20border-right%3A%202px%20solid%20rgb(233%2C%20233%2C%20233)%3B%20border-top%3A%201px%20solid%20rgb(233%2C%20233%2C%20233)%3B%22%3E%3Cspan%20style%3D%22text-overflow%3A%20ellipsis%3B%20overflow%3A%20hidden%3B%20white-space%3A%20nowrap%3B%20max-width%3A%20calc((100%25%20-%2016px)%20-%200px)%3B%22%3E%3C%2Fspan%3E%3C%2Fdiv%3E%3Cdiv%20style%3D%22display%3A%20flex%3B%20align-items%3A%20center%3B%20height%3A%2028px%3B%20left%3A%200px%3B%20top%3A%20280px%3B%20width%3A%20120px%3B%20text-align%3A%20left%3B%20font-size%3A%2012px%3B%20padding%3A%204px%204px%203px%3B%20overflow%3A%20hidden%3B%20position%3A%20absolute%3B%20white-space%3A%20nowrap%3B%20text-overflow%3A%20ellipsis%3B%20background-color%3A%20transparent%3B%20border-top%3A%201px%20solid%20rgb(233%2C%20233%2C%20233)%3B%20font-weight%3A%20600%3B%22%3E%3Cspan%20role%3D%22img%22%20aria-label%3D%22caret-right%22%20tabindex%3D%22-1%22%20class%3D%22anticon%20anticon-caret-right%22%20style%3D%22cursor%3A%20pointer%3B%20font-size%3A%2012px%3B%20margin-right%3A%206px%3B%20color%3A%20rgb(217%2C%20217%2C%20217)%3B%22%3E%3Csvg%20xmlns%3D%22http%3A%2F%2Fwww.w3.org%2F2000%2Fsvg%22%20viewBox%3D%220%200%201024%201024%22%20focusable%3D%22false%22%20data-icon%3D%22caret-right%22%20width%3D%221em%22%20height%3D%221em%22%20fill%3D%22currentColor%22%20aria-hidden%3D%22true%22%3E%3Cpath%20d%3D%22M715.8%20493.5L335%20165.1c-14.2-12.2-35-1.2-35%2018.5v656.8c0%2019.7%2020.8%2030.7%2035%2018.5l380.8-328.4c10.9-9.4%2010.9-27.6%200-37z%22%2F%3E%3C%2Fsvg%3E%3C%2Fspan%3E%3Cspan%20style%3D%22text-overflow%3A%20ellipsis%3B%20overflow%3A%20hidden%3B%20white-space%3A%20nowrap%3B%20max-width%3A%20calc((100%25%20-%2016px)%20-%200px)%3B%22%3EBrand%2012299222%3C%2Fspan%3E%3C%2Fdiv%3E%3Cdiv%20style%3D%22display%3A%20flex%3B%20align-items%3A%20center%3B%20height%3A%2028px%3B%20left%3A%20120px%3B%20top%3A%20280px%3B%20width%3A%20120px%3B%20text-align%3A%20left%3B%20font-size%3A%2012px%3B%20padding%3A%204px%204px%203px%3B%20overflow%3A%20hidden%3B%20position%3A%20absolute%3B%20white-space%3A%20nowrap%3B%20text-overflow%3A%20ellipsis%3B%20background-color%3A%20transparent%3B%20border-right%3A%202px%20solid%20rgb(233%2C%20233%2C%20233)%3B%20border-top%3A%201px%20solid%20rgb(233%2C%20233%2C%20233)%3B%22%3E%3Cspan%20style%3D%22text-overflow%3A%20ellipsis%3B%20overflow%3A%20hidden%3B%20white-space%3A%20nowrap%3B%20max-width%3A%20calc((100%25%20-%2016px)%20-%200px)%3B%22%3E%3C%2Fspan%3E%3C%2Fdiv%3E%3Cdiv%20style%3D%22display%3A%20flex%3B%20align-items%3A%20center%3B%20height%3A%2028px%3B%20left%3A%200px%3B%20top%3A%20308px%3B%20width%3A%20120px%3B%20text-align%3A%20left%3B%20font-size%3A%2012px%3B%20padding%3A%204px%204px%203px%3B%20overflow%3A%20hidden%3B%20position%3A%20absolute%3B%20white-space%3A%20nowrap%3B%20text-overflow%3A%20ellipsis%3B%20background-color%3A%20transparent%3B%20border-top%3A%201px%20solid%20rgb(233%2C%20233%2C%20233)%3B%20font-weight%3A%20600%3B%22%3E%3Cspan%20role%3D%22img%22%20aria-label%3D%22caret-right%22%20tabindex%3D%22-1%22%20class%3D%22anticon%20anticon-caret-right%22%20style%3D%22cursor%3A%20pointer%3B%20font-size%3A%2012px%3B%20margin-right%3A%206px%3B%20color%3A%20rgb(217%2C%20217%2C%20217)%3B%22%3E%3Csvg%20xmlns%3D%22http%3A%2F%2Fwww.w3.org%2F2000%2Fsvg%22%20viewBox%3D%220%200%201024%201024%22%20focusable%3D%22false%22%20data-icon%3D%22caret-right%22%20width%3D%221em%22%20height%3D%221em%22%20fill%3D%22currentColor%22%20aria-hidden%3D%22true%22%3E%3Cpath%20d%3D%22M715.8%20493.5L335%20165.1c-14.2-12.2-35-1.2-35%2018.5v656.8c0%2019.7%2020.8%2030.7%2035%2018.5l380.8-328.4c10.9-9.4%2010.9-27.6%200-37z%22%2F%3E%3C%2Fsvg%3E%3C%2Fspan%3E%3Cspan%20style%3D%22text-overflow%3A%20ellipsis%3B%20overflow%3A%20hidden%3B%20white-space%3A%20nowrap%3B%20max-width%3A%20calc((100%25%20-%2016px)%20-%200px)%3B%22%3EBrand%2012634406%3C%2Fspan%3E%3C%2Fdiv%3E%3Cdiv%20style%3D%22display%3A%20flex%3B%20align-items%3A%20center%3B%20height%3A%2028px%3B%20left%3A%20120px%3B%20top%3A%20308px%3B%20width%3A%20120px%3B%20text-align%3A%20left%3B%20font-size%3A%2012px%3B%20padding%3A%204px%204px%203px%3B%20overflow%3A%20hidden%3B%20position%3A%20absolute%3B%20white-space%3A%20nowrap%3B%20text-overflow%3A%20ellipsis%3B%20background-color%3A%20transparent%3B%20border-right%3A%202px%20solid%20rgb(233%2C%20233%2C%20233)%3B%20border-top%3A%201px%20solid%20rgb(233%2C%20233%2C%20233)%3B%22%3E%3Cspan%20style%3D%22text-overflow%3A%20ellipsis%3B%20overflow%3A%20hidden%3B%20white-space%3A%20nowrap%3B%20max-width%3A%20calc((100%25%20-%2016px)%20-%200px)%3B%22%3E%3C%2Fspan%3E%3C%2Fdiv%3E%3C%2Fdiv%3E%3C%2Fdiv%3E%3C%2Fdiv%3E%3Cdiv%20class%3D%22css-l8mdcn-Table%22%3E%3Cdiv%20class%3D%22aui-invisible-scrollbars%20css-1q796z9%22%3E%3Cdiv%20class%3D%22css-1g2rciv%22%3E%3Cdiv%20class%3D%22css-1hol363-ResizableCell%22%3E%3Cdiv%20style%3D%22display%3A%20flex%3B%20align-items%3A%20center%3B%20height%3A%2028px%3B%20left%3A%200px%3B%20top%3A%200px%3B%20width%3A%20115px%3B%20text-align%3A%20left%3B%20font-size%3A%2012px%3B%20padding%3A%204px%204px%203px%3B%20overflow%3A%20hidden%3B%20position%3A%20absolute%3B%20white-space%3A%20nowrap%3B%20text-overflow%3A%20ellipsis%3B%20font-weight%3A%20600%3B%22%3E%3Cspan%20style%3D%22text-overflow%3A%20ellipsis%3B%20overflow%3A%20hidden%3B%20white-space%3A%20nowrap%3B%20max-width%3A%20calc((100%25%20-%200px)%20-%200px)%3B%22%3En_purchases.MEAN%3C%2Fspan%3E%3C%2Fdiv%3E%3Cdiv%20class%3D%22css-xxcrt1-ResizableCell%22%3E%3C%2Fdiv%3E%3C%2Fdiv%3E%3Cdiv%20class%3D%22css-fpuq48-ResizableCell%22%3E%3Cdiv%20style%3D%22display%3A%20flex%3B%20align-items%3A%20center%3B%20height%3A%2028px%3B%20left%3A%200px%3B%20top%3A%200px%3B%20width%3A%20115px%3B%20text-align%3A%20left%3B%20font-size%3A%2012px%3B%20padding%3A%204px%204px%203px%3B%20overflow%3A%20hidden%3B%20position%3A%20absolute%3B%20white-space%3A%20nowrap%3B%20text-overflow%3A%20ellipsis%3B%20font-weight%3A%20600%3B%22%3E%3Cspan%20style%3D%22text-overflow%3A%20ellipsis%3B%20overflow%3A%20hidden%3B%20white-space%3A%20nowrap%3B%20max-width%3A%20calc((100%25%20-%200px)%20-%200px)%3B%22%3ESellingPrice.MEAN%3C%2Fspan%3E%3C%2Fdiv%3E%3Cdiv%20class%3D%22css-xxcrt1-ResizableCell%22%3E%3C%2Fdiv%3E%3C%2Fdiv%3E%3Cdiv%20class%3D%22css-3geaec-ResizableCell%22%3E%3Cdiv%20style%3D%22display%3A%20flex%3B%20align-items%3A%20center%3B%20height%3A%2028px%3B%20left%3A%200px%3B%20top%3A%200px%3B%20width%3A%20115px%3B%20text-align%3A%20left%3B%20font-size%3A%2012px%3B%20padding%3A%204px%204px%203px%3B%20overflow%3A%20hidden%3B%20position%3A%20absolute%3B%20white-space%3A%20nowrap%3B%20text-overflow%3A%20ellipsis%3B%20font-weight%3A%20600%3B%22%3E%3Cspan%20style%3D%22text-overflow%3A%20ellipsis%3B%20overflow%3A%20hidden%3B%20white-space%3A%20nowrap%3B%20max-width%3A%20calc((100%25%20-%200px)%20-%200px)%3B%22%3EPurchasePrice.MEAN%3C%2Fspan%3E%3C%2Fdiv%3E%3Cdiv%20class%3D%22css-xxcrt1-ResizableCell%22%3E%3C%2Fdiv%3E%3C%2Fdiv%3E%3Cdiv%20class%3D%22css-9kbkmr-ResizableCell%22%3E%3Cdiv%20style%3D%22display%3A%20flex%3B%20align-items%3A%20center%3B%20height%3A%2028px%3B%20left%3A%200px%3B%20top%3A%200px%3B%20width%3A%20115px%3B%20text-align%3A%20left%3B%20font-size%3A%2012px%3B%20padding%3A%204px%204px%203px%3B%20overflow%3A%20hidden%3B%20position%3A%20absolute%3B%20white-space%3A%20nowrap%3B%20text-overflow%3A%20ellipsis%3B%20font-weight%3A%20600%3B%22%3E%3Cspan%20style%3D%22text-overflow%3A%20ellipsis%3B%20overflow%3A%20hidden%3B%20white-space%3A%20nowrap%3B%20max-width%3A%20calc((100%25%20-%200px)%20-%200px)%3B%22%3EMargin.SUM%3C%2Fspan%3E%3C%2Fdiv%3E%3Cdiv%20class%3D%22css-xxcrt1-ResizableCell%22%3E%3C%2Fdiv%3E%3C%2Fdiv%3E%3C%2Fdiv%3E%3C%2Fdiv%3E%3Cdiv%20class%3D%22%20css-popspp%22%3E%3Cdiv%20class%3D%22css-1rbrqmu%22%3E%3Cdiv%20class%3D%22aui-table-cell%22%20style%3D%22height%3A%2028px%3B%20left%3A%200px%3B%20top%3A%200px%3B%20width%3A%20120px%3B%20text-align%3A%20right%3B%20font-size%3A%2012px%3B%20padding%3A%204px%204px%203px%3B%20overflow%3A%20hidden%3B%20position%3A%20absolute%3B%20white-space%3A%20nowrap%3B%20text-overflow%3A%20ellipsis%3B%20background-color%3A%20transparent%3B%20border-right%3A%201px%20solid%20rgb(233%2C%20233%2C%20233)%3B%22%3E406.57%3C%2Fdiv%3E%3Cdiv%20class%3D%22aui-table-cell%22%20style%3D%22height%3A%2028px%3B%20left%3A%20120px%3B%20top%3A%200px%3B%20width%3A%20120px%3B%20text-align%3A%20right%3B%20font-size%3A%2012px%3B%20padding%3A%204px%204px%203px%3B%20overflow%3A%20hidden%3B%20position%3A%20absolute%3B%20white-space%3A%20nowrap%3B%20text-overflow%3A%20ellipsis%3B%20background-color%3A%20transparent%3B%20border-right%3A%201px%20solid%20rgb(233%2C%20233%2C%20233)%3B%22%3E264.24%3C%2Fdiv%3E%3Cdiv%20class%3D%22aui-table-cell%22%20style%3D%22height%3A%2028px%3B%20left%3A%20240px%3B%20top%3A%200px%3B%20width%3A%20120px%3B%20text-align%3A%20right%3B%20font-size%3A%2012px%3B%20padding%3A%204px%204px%203px%3B%20overflow%3A%20hidden%3B%20position%3A%20absolute%3B%20white-space%3A%20nowrap%3B%20text-overflow%3A%20ellipsis%3B%20background-color%3A%20transparent%3B%20border-right%3A%201px%20solid%20rgb(233%2C%20233%2C%20233)%3B%22%3E186.52%3C%2Fdiv%3E%3Cdiv%20class%3D%22aui-table-cell%22%20style%3D%22height%3A%2028px%3B%20left%3A%20360px%3B%20top%3A%200px%3B%20width%3A%20120px%3B%20text-align%3A%20right%3B%20font-size%3A%2012px%3B%20padding%3A%204px%204px%203px%3B%20overflow%3A%20hidden%3B%20position%3A%20absolute%3B%20white-space%3A%20nowrap%3B%20text-overflow%3A%20ellipsis%3B%20background-color%3A%20transparent%3B%20border-right%3A%201px%20solid%20rgb(233%2C%20233%2C%20233)%3B%22%3E1%2C837%2C282%2C480.59%3C%2Fdiv%3E%3Cdiv%20class%3D%22aui-table-cell%22%20style%3D%22height%3A%2028px%3B%20left%3A%200px%3B%20top%3A%2028px%3B%20width%3A%20120px%3B%20text-align%3A%20right%3B%20font-size%3A%2012px%3B%20padding%3A%204px%204px%203px%3B%20overflow%3A%20hidden%3B%20position%3A%20absolute%3B%20white-space%3A%20nowrap%3B%20text-overflow%3A%20ellipsis%3B%20background-color%3A%20transparent%3B%20border-right%3A%201px%20solid%20rgb(233%2C%20233%2C%20233)%3B%20border-top%3A%201px%20solid%20rgb(233%2C%20233%2C%20233)%3B%22%3E9.00%3C%2Fdiv%3E%3Cdiv%20class%3D%22aui-table-cell%22%20style%3D%22height%3A%2028px%3B%20left%3A%20120px%3B%20top%3A%2028px%3B%20width%3A%20120px%3B%20text-align%3A%20right%3B%20font-size%3A%2012px%3B%20padding%3A%204px%204px%203px%3B%20overflow%3A%20hidden%3B%20position%3A%20absolute%3B%20white-space%3A%20nowrap%3B%20text-overflow%3A%20ellipsis%3B%20background-color%3A%20transparent%3B%20border-right%3A%201px%20solid%20rgb(233%2C%20233%2C%20233)%3B%20border-top%3A%201px%20solid%20rgb(233%2C%20233%2C%20233)%3B%22%3E304.32%3C%2Fdiv%3E%3Cdiv%20class%3D%22aui-table-cell%22%20style%3D%22height%3A%2028px%3B%20left%3A%20240px%3B%20top%3A%2028px%3B%20width%3A%20120px%3B%20text-align%3A%20right%3B%20font-size%3A%2012px%3B%20padding%3A%204px%204px%203px%3B%20overflow%3A%20hidden%3B%20position%3A%20absolute%3B%20white-space%3A%20nowrap%3B%20text-overflow%3A%20ellipsis%3B%20background-color%3A%20transparent%3B%20border-right%3A%201px%20solid%20rgb(233%2C%20233%2C%20233)%3B%20border-top%3A%201px%20solid%20rgb(233%2C%20233%2C%20233)%3B%22%3E211.24%3C%2Fdiv%3E%3Cdiv%20class%3D%22aui-table-cell%22%20style%3D%22height%3A%2028px%3B%20left%3A%20360px%3B%20top%3A%2028px%3B%20width%3A%20120px%3B%20text-align%3A%20right%3B%20font-size%3A%2012px%3B%20padding%3A%204px%204px%203px%3B%20overflow%3A%20hidden%3B%20position%3A%20absolute%3B%20white-space%3A%20nowrap%3B%20text-overflow%3A%20ellipsis%3B%20background-color%3A%20transparent%3B%20border-right%3A%201px%20solid%20rgb(233%2C%20233%2C%20233)%3B%20border-top%3A%201px%20solid%20rgb(233%2C%20233%2C%20233)%3B%22%3E837.72%3C%2Fdiv%3E%3Cdiv%20class%3D%22aui-table-cell%22%20style%3D%22height%3A%2028px%3B%20left%3A%200px%3B%20top%3A%2056px%3B%20width%3A%20120px%3B%20text-align%3A%20right%3B%20font-size%3A%2012px%3B%20padding%3A%204px%204px%203px%3B%20overflow%3A%20hidden%3B%20position%3A%20absolute%3B%20white-space%3A%20nowrap%3B%20text-overflow%3A%20ellipsis%3B%20background-color%3A%20transparent%3B%20border-right%3A%201px%20solid%20rgb(233%2C%20233%2C%20233)%3B%20border-top%3A%201px%20solid%20rgb(233%2C%20233%2C%20233)%3B%22%3E146.00%3C%2Fdiv%3E%3Cdiv%20class%3D%22aui-table-cell%22%20style%3D%22height%3A%2028px%3B%20left%3A%20120px%3B%20top%3A%2056px%3B%20width%3A%20120px%3B%20text-align%3A%20right%3B%20font-size%3A%2012px%3B%20padding%3A%204px%204px%203px%3B%20overflow%3A%20hidden%3B%20position%3A%20absolute%3B%20white-space%3A%20nowrap%3B%20text-overflow%3A%20ellipsis%3B%20background-color%3A%20transparent%3B%20border-right%3A%201px%20solid%20rgb(233%2C%20233%2C%20233)%3B%20border-top%3A%201px%20solid%20rgb(233%2C%20233%2C%20233)%3B%22%3E436.85%3C%2Fdiv%3E%3Cdiv%20class%3D%22aui-table-cell%22%20style%3D%22height%3A%2028px%3B%20left%3A%20240px%3B%20top%3A%2056px%3B%20width%3A%20120px%3B%20text-align%3A%20right%3B%20font-size%3A%2012px%3B%20padding%3A%204px%204px%203px%3B%20overflow%3A%20hidden%3B%20position%3A%20absolute%3B%20white-space%3A%20nowrap%3B%20text-overflow%3A%20ellipsis%3B%20background-color%3A%20transparent%3B%20border-right%3A%201px%20solid%20rgb(233%2C%20233%2C%20233)%3B%20border-top%3A%201px%20solid%20rgb(233%2C%20233%2C%20233)%3B%22%3E297.25%3C%2Fdiv%3E%3Cdiv%20class%3D%22aui-table-cell%22%20style%3D%22height%3A%2028px%3B%20left%3A%20360px%3B%20top%3A%2056px%3B%20width%3A%20120px%3B%20text-align%3A%20right%3B%20font-size%3A%2012px%3B%20padding%3A%204px%204px%203px%3B%20overflow%3A%20hidden%3B%20position%3A%20absolute%3B%20white-space%3A%20nowrap%3B%20text-overflow%3A%20ellipsis%3B%20background-color%3A%20transparent%3B%20border-right%3A%201px%20solid%20rgb(233%2C%20233%2C%20233)%3B%20border-top%3A%201px%20solid%20rgb(233%2C%20233%2C%20233)%3B%22%3E20%2C381.60%3C%2Fdiv%3E%3Cdiv%20class%3D%22aui-table-cell%22%20style%3D%22height%3A%2028px%3B%20left%3A%200px%3B%20top%3A%2084px%3B%20width%3A%20120px%3B%20text-align%3A%20right%3B%20font-size%3A%2012px%3B%20padding%3A%204px%204px%203px%3B%20overflow%3A%20hidden%3B%20position%3A%20absolute%3B%20white-space%3A%20nowrap%3B%20text-overflow%3A%20ellipsis%3B%20background-color%3A%20transparent%3B%20border-right%3A%201px%20solid%20rgb(233%2C%20233%2C%20233)%3B%20border-top%3A%201px%20solid%20rgb(233%2C%20233%2C%20233)%3B%22%3E85.00%3C%2Fdiv%3E%3Cdiv%20class%3D%22aui-table-cell%22%20style%3D%22height%3A%2028px%3B%20left%3A%20120px%3B%20top%3A%2084px%3B%20width%3A%20120px%3B%20text-align%3A%20right%3B%20font-size%3A%2012px%3B%20padding%3A%204px%204px%203px%3B%20overflow%3A%20hidden%3B%20position%3A%20absolute%3B%20white-space%3A%20nowrap%3B%20text-overflow%3A%20ellipsis%3B%20background-color%3A%20transparent%3B%20border-right%3A%201px%20solid%20rgb(233%2C%20233%2C%20233)%3B%20border-top%3A%201px%20solid%20rgb(233%2C%20233%2C%20233)%3B%22%3E291.28%3C%2Fdiv%3E%3Cdiv%20class%3D%22aui-table-cell%22%20style%3D%22height%3A%2028px%3B%20left%3A%20240px%3B%20top%3A%2084px%3B%20width%3A%20120px%3B%20text-align%3A%20right%3B%20font-size%3A%2012px%3B%20padding%3A%204px%204px%203px%3B%20overflow%3A%20hidden%3B%20position%3A%20absolute%3B%20white-space%3A%20nowrap%3B%20text-overflow%3A%20ellipsis%3B%20background-color%3A%20transparent%3B%20border-right%3A%201px%20solid%20rgb(233%2C%20233%2C%20233)%3B%20border-top%3A%201px%20solid%20rgb(233%2C%20233%2C%20233)%3B%22%3E211.85%3C%2Fdiv%3E%3Cdiv%20class%3D%22aui-table-cell%22%20style%3D%22height%3A%2028px%3B%20left%3A%20360px%3B%20top%3A%2084px%3B%20width%3A%20120px%3B%20text-align%3A%20right%3B%20font-size%3A%2012px%3B%20padding%3A%204px%204px%203px%3B%20overflow%3A%20hidden%3B%20position%3A%20absolute%3B%20white-space%3A%20nowrap%3B%20text-overflow%3A%20ellipsis%3B%20background-color%3A%20transparent%3B%20border-right%3A%201px%20solid%20rgb(233%2C%20233%2C%20233)%3B%20border-top%3A%201px%20solid%20rgb(233%2C%20233%2C%20233)%3B%22%3E6%2C751.55%3C%2Fdiv%3E%3Cdiv%20class%3D%22aui-table-cell%22%20style%3D%22height%3A%2028px%3B%20left%3A%200px%3B%20top%3A%20112px%3B%20width%3A%20120px%3B%20text-align%3A%20right%3B%20font-size%3A%2012px%3B%20padding%3A%204px%204px%203px%3B%20overflow%3A%20hidden%3B%20position%3A%20absolute%3B%20white-space%3A%20nowrap%3B%20text-overflow%3A%20ellipsis%3B%20background-color%3A%20rgb(250%2C%20250%2C%20250)%3B%20border-right%3A%201px%20solid%20rgb(233%2C%20233%2C%20233)%3B%22%3E85.00%3C%2Fdiv%3E%3Cdiv%20class%3D%22aui-table-cell%22%20style%3D%22height%3A%2028px%3B%20left%3A%20120px%3B%20top%3A%20112px%3B%20width%3A%20120px%3B%20text-align%3A%20right%3B%20font-size%3A%2012px%3B%20padding%3A%204px%204px%203px%3B%20overflow%3A%20hidden%3B%20position%3A%20absolute%3B%20white-space%3A%20nowrap%3B%20text-overflow%3A%20ellipsis%3B%20background-color%3A%20rgb(250%2C%20250%2C%20250)%3B%20border-right%3A%201px%20solid%20rgb(233%2C%20233%2C%20233)%3B%22%3E291.28%3C%2Fdiv%3E%3Cdiv%20class%3D%22aui-table-cell%22%20style%3D%22height%3A%2028px%3B%20left%3A%20240px%3B%20top%3A%20112px%3B%20width%3A%20120px%3B%20text-align%3A%20right%3B%20font-size%3A%2012px%3B%20padding%3A%204px%204px%203px%3B%20overflow%3A%20hidden%3B%20position%3A%20absolute%3B%20white-space%3A%20nowrap%3B%20text-overflow%3A%20ellipsis%3B%20background-color%3A%20rgb(250%2C%20250%2C%20250)%3B%20border-right%3A%201px%20solid%20rgb(233%2C%20233%2C%20233)%3B%22%3E211.85%3C%2Fdiv%3E%3Cdiv%20class%3D%22aui-table-cell%22%20style%3D%22height%3A%2028px%3B%20left%3A%20360px%3B%20top%3A%20112px%3B%20width%3A%20120px%3B%20text-align%3A%20right%3B%20font-size%3A%2012px%3B%20padding%3A%204px%204px%203px%3B%20overflow%3A%20hidden%3B%20position%3A%20absolute%3B%20white-space%3A%20nowrap%3B%20text-overflow%3A%20ellipsis%3B%20background-color%3A%20rgb(250%2C%20250%2C%20250)%3B%20border-right%3A%201px%20solid%20rgb(233%2C%20233%2C%20233)%3B%22%3E6%2C751.55%3C%2Fdiv%3E%3Cdiv%20class%3D%22aui-table-cell%22%20style%3D%22height%3A%2028px%3B%20left%3A%200px%3B%20top%3A%20140px%3B%20width%3A%20120px%3B%20text-align%3A%20right%3B%20font-size%3A%2012px%3B%20padding%3A%204px%204px%203px%3B%20overflow%3A%20hidden%3B%20position%3A%20absolute%3B%20white-space%3A%20nowrap%3B%20text-overflow%3A%20ellipsis%3B%20background-color%3A%20transparent%3B%20border-right%3A%201px%20solid%20rgb(233%2C%20233%2C%20233)%3B%20border-top%3A%201px%20solid%20rgb(233%2C%20233%2C%20233)%3B%22%3E20.00%3C%2Fdiv%3E%3Cdiv%20class%3D%22aui-table-cell%22%20style%3D%22height%3A%2028px%3B%20left%3A%20120px%3B%20top%3A%20140px%3B%20width%3A%20120px%3B%20text-align%3A%20right%3B%20font-size%3A%2012px%3B%20padding%3A%204px%204px%203px%3B%20overflow%3A%20hidden%3B%20position%3A%20absolute%3B%20white-space%3A%20nowrap%3B%20text-overflow%3A%20ellipsis%3B%20background-color%3A%20transparent%3B%20border-right%3A%201px%20solid%20rgb(233%2C%20233%2C%20233)%3B%20border-top%3A%201px%20solid%20rgb(233%2C%20233%2C%20233)%3B%22%3E361.17%3C%2Fdiv%3E%3Cdiv%20class%3D%22aui-table-cell%22%20style%3D%22height%3A%2028px%3B%20left%3A%20240px%3B%20top%3A%20140px%3B%20width%3A%20120px%3B%20text-align%3A%20right%3B%20font-size%3A%2012px%3B%20padding%3A%204px%204px%203px%3B%20overflow%3A%20hidden%3B%20position%3A%20absolute%3B%20white-space%3A%20nowrap%3B%20text-overflow%3A%20ellipsis%3B%20background-color%3A%20transparent%3B%20border-right%3A%201px%20solid%20rgb(233%2C%20233%2C%20233)%3B%20border-top%3A%201px%20solid%20rgb(233%2C%20233%2C%20233)%3B%22%3E267.93%3C%2Fdiv%3E%3Cdiv%20class%3D%22aui-table-cell%22%20style%3D%22height%3A%2028px%3B%20left%3A%20360px%3B%20top%3A%20140px%3B%20width%3A%20120px%3B%20text-align%3A%20right%3B%20font-size%3A%2012px%3B%20padding%3A%204px%204px%203px%3B%20overflow%3A%20hidden%3B%20position%3A%20absolute%3B%20white-space%3A%20nowrap%3B%20text-overflow%3A%20ellipsis%3B%20background-color%3A%20transparent%3B%20border-right%3A%201px%20solid%20rgb(233%2C%20233%2C%20233)%3B%20border-top%3A%201px%20solid%20rgb(233%2C%20233%2C%20233)%3B%22%3E1%2C864.80%3C%2Fdiv%3E%3Cdiv%20class%3D%22aui-table-cell%22%20style%3D%22height%3A%2028px%3B%20left%3A%200px%3B%20top%3A%20168px%3B%20width%3A%20120px%3B%20text-align%3A%20right%3B%20font-size%3A%2012px%3B%20padding%3A%204px%204px%203px%3B%20overflow%3A%20hidden%3B%20position%3A%20absolute%3B%20white-space%3A%20nowrap%3B%20text-overflow%3A%20ellipsis%3B%20background-color%3A%20transparent%3B%20border-right%3A%201px%20solid%20rgb(233%2C%20233%2C%20233)%3B%20border-top%3A%201px%20solid%20rgb(233%2C%20233%2C%20233)%3B%22%3E1.00%3C%2Fdiv%3E%3Cdiv%20class%3D%22aui-table-cell%22%20style%3D%22height%3A%2028px%3B%20left%3A%20120px%3B%20top%3A%20168px%3B%20width%3A%20120px%3B%20text-align%3A%20right%3B%20font-size%3A%2012px%3B%20padding%3A%204px%204px%203px%3B%20overflow%3A%20hidden%3B%20position%3A%20absolute%3B%20white-space%3A%20nowrap%3B%20text-overflow%3A%20ellipsis%3B%20background-color%3A%20transparent%3B%20border-right%3A%201px%20solid%20rgb(233%2C%20233%2C%20233)%3B%20border-top%3A%201px%20solid%20rgb(233%2C%20233%2C%20233)%3B%22%3E661.68%3C%2Fdiv%3E%3Cdiv%20class%3D%22aui-table-cell%22%20style%3D%22height%3A%2028px%3B%20left%3A%20240px%3B%20top%3A%20168px%3B%20width%3A%20120px%3B%20text-align%3A%20right%3B%20font-size%3A%2012px%3B%20padding%3A%204px%204px%203px%3B%20overflow%3A%20hidden%3B%20position%3A%20absolute%3B%20white-space%3A%20nowrap%3B%20text-overflow%3A%20ellipsis%3B%20background-color%3A%20transparent%3B%20border-right%3A%201px%20solid%20rgb(233%2C%20233%2C%20233)%3B%20border-top%3A%201px%20solid%20rgb(233%2C%20233%2C%20233)%3B%22%3E446.22%3C%2Fdiv%3E%3Cdiv%20class%3D%22aui-table-cell%22%20style%3D%22height%3A%2028px%3B%20left%3A%20360px%3B%20top%3A%20168px%3B%20width%3A%20120px%3B%20text-align%3A%20right%3B%20font-size%3A%2012px%3B%20padding%3A%204px%204px%203px%3B%20overflow%3A%20hidden%3B%20position%3A%20absolute%3B%20white-space%3A%20nowrap%3B%20text-overflow%3A%20ellipsis%3B%20background-color%3A%20transparent%3B%20border-right%3A%201px%20solid%20rgb(233%2C%20233%2C%20233)%3B%20border-top%3A%201px%20solid%20rgb(233%2C%20233%2C%20233)%3B%22%3E215.46%3C%2Fdiv%3E%3Cdiv%20class%3D%22aui-table-cell%22%20style%3D%22height%3A%2028px%3B%20left%3A%200px%3B%20top%3A%20196px%3B%20width%3A%20120px%3B%20text-align%3A%20right%3B%20font-size%3A%2012px%3B%20padding%3A%204px%204px%203px%3B%20overflow%3A%20hidden%3B%20position%3A%20absolute%3B%20white-space%3A%20nowrap%3B%20text-overflow%3A%20ellipsis%3B%20background-color%3A%20transparent%3B%20border-right%3A%201px%20solid%20rgb(233%2C%20233%2C%20233)%3B%20border-top%3A%201px%20solid%20rgb(233%2C%20233%2C%20233)%3B%22%3E13.00%3C%2Fdiv%3E%3Cdiv%20class%3D%22aui-table-cell%22%20style%3D%22height%3A%2028px%3B%20left%3A%20120px%3B%20top%3A%20196px%3B%20width%3A%20120px%3B%20text-align%3A%20right%3B%20font-size%3A%2012px%3B%20padding%3A%204px%204px%203px%3B%20overflow%3A%20hidden%3B%20position%3A%20absolute%3B%20white-space%3A%20nowrap%3B%20text-overflow%3A%20ellipsis%3B%20background-color%3A%20transparent%3B%20border-right%3A%201px%20solid%20rgb(233%2C%20233%2C%20233)%3B%20border-top%3A%201px%20solid%20rgb(233%2C%20233%2C%20233)%3B%22%3E603.57%3C%2Fdiv%3E%3Cdiv%20class%3D%22aui-table-cell%22%20style%3D%22height%3A%2028px%3B%20left%3A%20240px%3B%20top%3A%20196px%3B%20width%3A%20120px%3B%20text-align%3A%20right%3B%20font-size%3A%2012px%3B%20padding%3A%204px%204px%203px%3B%20overflow%3A%20hidden%3B%20position%3A%20absolute%3B%20white-space%3A%20nowrap%3B%20text-overflow%3A%20ellipsis%3B%20background-color%3A%20transparent%3B%20border-right%3A%201px%20solid%20rgb(233%2C%20233%2C%20233)%3B%20border-top%3A%201px%20solid%20rgb(233%2C%20233%2C%20233)%3B%22%3E406.47%3C%2Fdiv%3E%3Cdiv%20class%3D%22aui-table-cell%22%20style%3D%22height%3A%2028px%3B%20left%3A%20360px%3B%20top%3A%20196px%3B%20width%3A%20120px%3B%20text-align%3A%20right%3B%20font-size%3A%2012px%3B%20padding%3A%204px%204px%203px%3B%20overflow%3A%20hidden%3B%20position%3A%20absolute%3B%20white-space%3A%20nowrap%3B%20text-overflow%3A%20ellipsis%3B%20background-color%3A%20transparent%3B%20border-right%3A%201px%20solid%20rgb(233%2C%20233%2C%20233)%3B%20border-top%3A%201px%20solid%20rgb(233%2C%20233%2C%20233)%3B%22%3E2%2C562.30%3C%2Fdiv%3E%3Cdiv%20class%3D%22aui-table-cell%22%20style%3D%22height%3A%2028px%3B%20left%3A%200px%3B%20top%3A%20224px%3B%20width%3A%20120px%3B%20text-align%3A%20right%3B%20font-size%3A%2012px%3B%20padding%3A%204px%204px%203px%3B%20overflow%3A%20hidden%3B%20position%3A%20absolute%3B%20white-space%3A%20nowrap%3B%20text-overflow%3A%20ellipsis%3B%20background-color%3A%20transparent%3B%20border-right%3A%201px%20solid%20rgb(233%2C%20233%2C%20233)%3B%20border-top%3A%201px%20solid%20rgb(233%2C%20233%2C%20233)%3B%22%3E924.00%3C%2Fdiv%3E%3Cdiv%20class%3D%22aui-table-cell%22%20style%3D%22height%3A%2028px%3B%20left%3A%20120px%3B%20top%3A%20224px%3B%20width%3A%20120px%3B%20text-align%3A%20right%3B%20font-size%3A%2012px%3B%20padding%3A%204px%204px%203px%3B%20overflow%3A%20hidden%3B%20position%3A%20absolute%3B%20white-space%3A%20nowrap%3B%20text-overflow%3A%20ellipsis%3B%20background-color%3A%20transparent%3B%20border-right%3A%201px%20solid%20rgb(233%2C%20233%2C%20233)%3B%20border-top%3A%201px%20solid%20rgb(233%2C%20233%2C%20233)%3B%22%3E203.01%3C%2Fdiv%3E%3Cdiv%20class%3D%22aui-table-cell%22%20style%3D%22height%3A%2028px%3B%20left%3A%20240px%3B%20top%3A%20224px%3B%20width%3A%20120px%3B%20text-align%3A%20right%3B%20font-size%3A%2012px%3B%20padding%3A%204px%204px%203px%3B%20overflow%3A%20hidden%3B%20position%3A%20absolute%3B%20white-space%3A%20nowrap%3B%20text-overflow%3A%20ellipsis%3B%20background-color%3A%20transparent%3B%20border-right%3A%201px%20solid%20rgb(233%2C%20233%2C%20233)%3B%20border-top%3A%201px%20solid%20rgb(233%2C%20233%2C%20233)%3B%22%3E153.12%3C%2Fdiv%3E%3Cdiv%20class%3D%22aui-table-cell%22%20style%3D%22height%3A%2028px%3B%20left%3A%20360px%3B%20top%3A%20224px%3B%20width%3A%20120px%3B%20text-align%3A%20right%3B%20font-size%3A%2012px%3B%20padding%3A%204px%204px%203px%3B%20overflow%3A%20hidden%3B%20position%3A%20absolute%3B%20white-space%3A%20nowrap%3B%20text-overflow%3A%20ellipsis%3B%20background-color%3A%20transparent%3B%20border-right%3A%201px%20solid%20rgb(233%2C%20233%2C%20233)%3B%20border-top%3A%201px%20solid%20rgb(233%2C%20233%2C%20233)%3B%22%3E46%2C098.36%3C%2Fdiv%3E%3Cdiv%20class%3D%22aui-table-cell%22%20style%3D%22height%3A%2028px%3B%20left%3A%200px%3B%20top%3A%20252px%3B%20width%3A%20120px%3B%20text-align%3A%20right%3B%20font-size%3A%2012px%3B%20padding%3A%204px%204px%203px%3B%20overflow%3A%20hidden%3B%20position%3A%20absolute%3B%20white-space%3A%20nowrap%3B%20text-overflow%3A%20ellipsis%3B%20background-color%3A%20transparent%3B%20border-right%3A%201px%20solid%20rgb(233%2C%20233%2C%20233)%3B%20border-top%3A%201px%20solid%20rgb(233%2C%20233%2C%20233)%3B%22%3E151.00%3C%2Fdiv%3E%3Cdiv%20class%3D%22aui-table-cell%22%20style%3D%22height%3A%2028px%3B%20left%3A%20120px%3B%20top%3A%20252px%3B%20width%3A%20120px%3B%20text-align%3A%20right%3B%20font-size%3A%2012px%3B%20padding%3A%204px%204px%203px%3B%20overflow%3A%20hidden%3B%20position%3A%20absolute%3B%20white-space%3A%20nowrap%3B%20text-overflow%3A%20ellipsis%3B%20background-color%3A%20transparent%3B%20border-right%3A%201px%20solid%20rgb(233%2C%20233%2C%20233)%3B%20border-top%3A%201px%20solid%20rgb(233%2C%20233%2C%20233)%3B%22%3E191.07%3C%2Fdiv%3E%3Cdiv%20class%3D%22aui-table-cell%22%20style%3D%22height%3A%2028px%3B%20left%3A%20240px%3B%20top%3A%20252px%3B%20width%3A%20120px%3B%20text-align%3A%20right%3B%20font-size%3A%2012px%3B%20padding%3A%204px%204px%203px%3B%20overflow%3A%20hidden%3B%20position%3A%20absolute%3B%20white-space%3A%20nowrap%3B%20text-overflow%3A%20ellipsis%3B%20background-color%3A%20transparent%3B%20border-right%3A%201px%20solid%20rgb(233%2C%20233%2C%20233)%3B%20border-top%3A%201px%20solid%20rgb(233%2C%20233%2C%20233)%3B%22%3E131.86%3C%2Fdiv%3E%3Cdiv%20class%3D%22aui-table-cell%22%20style%3D%22height%3A%2028px%3B%20left%3A%20360px%3B%20top%3A%20252px%3B%20width%3A%20120px%3B%20text-align%3A%20right%3B%20font-size%3A%2012px%3B%20padding%3A%204px%204px%203px%3B%20overflow%3A%20hidden%3B%20position%3A%20absolute%3B%20white-space%3A%20nowrap%3B%20text-overflow%3A%20ellipsis%3B%20background-color%3A%20transparent%3B%20border-right%3A%201px%20solid%20rgb(233%2C%20233%2C%20233)%3B%20border-top%3A%201px%20solid%20rgb(233%2C%20233%2C%20233)%3B%22%3E22%2C147.18%3C%2Fdiv%3E%3Cdiv%20class%3D%22aui-table-cell%22%20style%3D%22height%3A%2028px%3B%20left%3A%200px%3B%20top%3A%20280px%3B%20width%3A%20120px%3B%20text-align%3A%20right%3B%20font-size%3A%2012px%3B%20padding%3A%204px%204px%203px%3B%20overflow%3A%20hidden%3B%20position%3A%20absolute%3B%20white-space%3A%20nowrap%3B%20text-overflow%3A%20ellipsis%3B%20background-color%3A%20transparent%3B%20border-right%3A%201px%20solid%20rgb(233%2C%20233%2C%20233)%3B%20border-top%3A%201px%20solid%20rgb(233%2C%20233%2C%20233)%3B%22%3E176.00%3C%2Fdiv%3E%3Cdiv%20class%3D%22aui-table-cell%22%20style%3D%22height%3A%2028px%3B%20left%3A%20120px%3B%20top%3A%20280px%3B%20width%3A%20120px%3B%20text-align%3A%20right%3B%20font-size%3A%2012px%3B%20padding%3A%204px%204px%203px%3B%20overflow%3A%20hidden%3B%20position%3A%20absolute%3B%20white-space%3A%20nowrap%3B%20text-overflow%3A%20ellipsis%3B%20background-color%3A%20transparent%3B%20border-right%3A%201px%20solid%20rgb(233%2C%20233%2C%20233)%3B%20border-top%3A%201px%20solid%20rgb(233%2C%20233%2C%20233)%3B%22%3E326.45%3C%2Fdiv%3E%3Cdiv%20class%3D%22aui-table-cell%22%20style%3D%22height%3A%2028px%3B%20left%3A%20240px%3B%20top%3A%20280px%3B%20width%3A%20120px%3B%20text-align%3A%20right%3B%20font-size%3A%2012px%3B%20padding%3A%204px%204px%203px%3B%20overflow%3A%20hidden%3B%20position%3A%20absolute%3B%20white-space%3A%20nowrap%3B%20text-overflow%3A%20ellipsis%3B%20background-color%3A%20transparent%3B%20border-right%3A%201px%20solid%20rgb(233%2C%20233%2C%20233)%3B%20border-top%3A%201px%20solid%20rgb(233%2C%20233%2C%20233)%3B%22%3E238.55%3C%2Fdiv%3E%3Cdiv%20class%3D%22aui-table-cell%22%20style%3D%22height%3A%2028px%3B%20left%3A%20360px%3B%20top%3A%20280px%3B%20width%3A%20120px%3B%20text-align%3A%20right%3B%20font-size%3A%2012px%3B%20padding%3A%204px%204px%203px%3B%20overflow%3A%20hidden%3B%20position%3A%20absolute%3B%20white-space%3A%20nowrap%3B%20text-overflow%3A%20ellipsis%3B%20background-color%3A%20transparent%3B%20border-right%3A%201px%20solid%20rgb(233%2C%20233%2C%20233)%3B%20border-top%3A%201px%20solid%20rgb(233%2C%20233%2C%20233)%3B%22%3E57%2C233.44%3C%2Fdiv%3E%3Cdiv%20class%3D%22aui-table-cell%22%20style%3D%22height%3A%2028px%3B%20left%3A%200px%3B%20top%3A%20308px%3B%20width%3A%20120px%3B%20text-align%3A%20right%3B%20font-size%3A%2012px%3B%20padding%3A%204px%204px%203px%3B%20overflow%3A%20hidden%3B%20position%3A%20absolute%3B%20white-space%3A%20nowrap%3B%20text-overflow%3A%20ellipsis%3B%20background-color%3A%20transparent%3B%20border-right%3A%201px%20solid%20rgb(233%2C%20233%2C%20233)%3B%20border-top%3A%201px%20solid%20rgb(233%2C%20233%2C%20233)%3B%22%3E158.00%3C%2Fdiv%3E%3Cdiv%20class%3D%22aui-table-cell%22%20style%3D%22height%3A%2028px%3B%20left%3A%20120px%3B%20top%3A%20308px%3B%20width%3A%20120px%3B%20text-align%3A%20right%3B%20font-size%3A%2012px%3B%20padding%3A%204px%204px%203px%3B%20overflow%3A%20hidden%3B%20position%3A%20absolute%3B%20white-space%3A%20nowrap%3B%20text-overflow%3A%20ellipsis%3B%20background-color%3A%20transparent%3B%20border-right%3A%201px%20solid%20rgb(233%2C%20233%2C%20233)%3B%20border-top%3A%201px%20solid%20rgb(233%2C%20233%2C%20233)%3B%22%3E153.43%3C%2Fdiv%3E%3Cdiv%20class%3D%22aui-table-cell%22%20style%3D%22height%3A%2028px%3B%20left%3A%20240px%3B%20top%3A%20308px%3B%20width%3A%20120px%3B%20text-align%3A%20right%3B%20font-size%3A%2012px%3B%20padding%3A%204px%204px%203px%3B%20overflow%3A%20hidden%3B%20position%3A%20absolute%3B%20white-space%3A%20nowrap%3B%20text-overflow%3A%20ellipsis%3B%20background-color%3A%20transparent%3B%20border-right%3A%201px%20solid%20rgb(233%2C%20233%2C%20233)%3B%20border-top%3A%201px%20solid%20rgb(233%2C%20233%2C%20233)%3B%22%3E100.79%3C%2Fdiv%3E%3Cdiv%20class%3D%22aui-table-cell%22%20style%3D%22height%3A%2028px%3B%20left%3A%20360px%3B%20top%3A%20308px%3B%20width%3A%20120px%3B%20text-align%3A%20right%3B%20font-size%3A%2012px%3B%20padding%3A%204px%204px%203px%3B%20overflow%3A%20hidden%3B%20position%3A%20absolute%3B%20white-space%3A%20nowrap%3B%20text-overflow%3A%20ellipsis%3B%20background-color%3A%20transparent%3B%20border-right%3A%201px%20solid%20rgb(233%2C%20233%2C%20233)%3B%20border-top%3A%201px%20solid%20rgb(233%2C%20233%2C%20233)%3B%22%3E8%2C317.12%3C%2Fdiv%3E%3C%2Fdiv%3E%3C%2Fdiv%3E%3C%2Fdiv%3E%3C%2Fdiv%3E%3C%2Fdiv%3E%3Cdiv%20class%3D%22css-1uww2vi-Table%22%3E%3C%2Fdiv%3E%3C%2Fdiv%3E%3C%2Fdiv%3E%3C%2Fdiv%3E%3C%2Fdiv%3E%3C%2Fdiv%3E%3C%2FforeignObject%3E%3C%2Fsvg%3E\">"
      ],
      "text/plain": [
       "Open the notebook in JupyterLab with the atoti extension enabled to build this widget."
      ]
     },
     "metadata": {},
     "output_type": "display_data"
    }
   ],
   "source": [
    "session.visualize()"
   ]
  },
  {
   "cell_type": "markdown",
   "metadata": {},
   "source": [
    "## Computing the price index\n",
    "\n",
    "There are different existing formulas for the price index but the idea behind is always the same: the price index is a measurement of where a retailer is positioned compared to one or multiple of its competitors.\n",
    "\n",
    "The formula we will use in this example compares a product price to the average price found among the competitors, measuring at which percentage of this average competitors price the product is.  \n",
    "\n",
    "We will weight the price index indicator by the margin when aggregating above product level so that we later optimize the price index for products that contribute the most to our margin.  \n",
    "Other commonly used formulas weight by sales quantity or revenue."
   ]
  },
  {
   "cell_type": "markdown",
   "metadata": {},
   "source": [
    "### Price Index Formula"
   ]
  },
  {
   "cell_type": "markdown",
   "metadata": {},
   "source": [
    "# $100 \\times \\frac{\\sum_{p \\in Products}\\frac{Selling Price(p)}{Average Competitor Price(p)} \\times Margin(p)}{\\sum_{p \\in Products}Margin(p)}$"
   ]
  },
  {
   "cell_type": "markdown",
   "metadata": {},
   "source": [
    "### Loading Competitor prices data"
   ]
  },
  {
   "cell_type": "code",
   "execution_count": 33,
   "metadata": {},
   "outputs": [],
   "source": [
    "competitor_prices_table = session.read_csv(\n",
    "    \"s3://data.atoti.io/notebooks/products-classification/competitor_prices.csv\",\n",
    "    keys=[\"ProductId\", \"CompetitorName\"],\n",
    "    table_name=\"Competitor_prices\",\n",
    ")"
   ]
  },
  {
   "cell_type": "code",
   "execution_count": 34,
   "metadata": {},
   "outputs": [],
   "source": [
    "classified_products_table.join(\n",
    "    competitor_prices_table, mapping={\"ProductId\": \"ProductId\"}\n",
    ")"
   ]
  },
  {
   "cell_type": "code",
   "execution_count": 35,
   "metadata": {},
   "outputs": [
    {
     "data": {
      "image/svg+xml": [
       "<svg xmlns=\"http://www.w3.org/2000/svg\" xmlns:xlink=\"http://www.w3.org/1999/xlink\" width=\"598px\" height=\"438px\" viewBox=\"0.00 0.00 598.00 438.00\">\n",
       "<g id=\"graph0\" class=\"graph\" transform=\"scale(1.0 1.0) rotate(0) translate(4 434)\">\n",
       "<title>products_cube schema</title>\n",
       "<polygon fill=\"white\" stroke=\"transparent\" points=\"-4,4 -4,-434 594,-434 594,4 -4,4\"/>\n",
       "<!-- classified_products -->\n",
       "<g id=\"node1\" class=\"node\">\n",
       "<title>classified_products</title>\n",
       "<text text-anchor=\"start\" x=\"57.5\" y=\"-308.6\" font-family=\"-apple-system, BlinkMacSystemFont, 'Segoe UI', Helvetica, Arial, sans-serif, 'Apple Color Emoji', 'Segoe UI Emoji', 'Segoe UI Symbol'\" font-weight=\"bold\" font-size=\"13.00\">classified_products</text>\n",
       "<polygon fill=\"#f5f5f5\" stroke=\"transparent\" points=\"9,-275 9,-299 40,-299 40,-275 9,-275\"/>\n",
       "<text text-anchor=\"start\" x=\"14\" y=\"-284.6\" font-family=\"-apple-system, BlinkMacSystemFont, 'Segoe UI', Helvetica, Arial, sans-serif, 'Apple Color Emoji', 'Segoe UI Emoji', 'Segoe UI Symbol'\" font-weight=\"bold\" font-size=\"13.00\">key</text>\n",
       "<polygon fill=\"#f5f5f5\" stroke=\"transparent\" points=\"40,-275 40,-299 174,-299 174,-275 40,-275\"/>\n",
       "<text text-anchor=\"start\" x=\"45\" y=\"-283.6\" font-family=\"-apple-system, BlinkMacSystemFont, 'Segoe UI', Helvetica, Arial, sans-serif, 'Apple Color Emoji', 'Segoe UI Emoji', 'Segoe UI Symbol'\" font-size=\"13.00\">ProductId</text>\n",
       "<polygon fill=\"#f5f5f5\" stroke=\"transparent\" points=\"174,-275 174,-299 221,-299 221,-275 174,-275\"/>\n",
       "<text text-anchor=\"start\" x=\"193\" y=\"-284.6\" font-family=\"-apple-system, BlinkMacSystemFont, 'Segoe UI', Helvetica, Arial, sans-serif, 'Apple Color Emoji', 'Segoe UI Emoji', 'Segoe UI Symbol'\" font-style=\"italic\" font-size=\"13.00\">long</text>\n",
       "<polygon fill=\"#ffffff\" stroke=\"transparent\" points=\"9,-251 9,-275 40,-275 40,-251 9,-251\"/>\n",
       "<polygon fill=\"#ffffff\" stroke=\"transparent\" points=\"40,-251 40,-275 174,-275 174,-251 40,-251\"/>\n",
       "<text text-anchor=\"start\" x=\"45\" y=\"-259.6\" font-family=\"-apple-system, BlinkMacSystemFont, 'Segoe UI', Helvetica, Arial, sans-serif, 'Apple Color Emoji', 'Segoe UI Emoji', 'Segoe UI Symbol'\" font-size=\"13.00\">edge_purchases</text>\n",
       "<polygon fill=\"#ffffff\" stroke=\"transparent\" points=\"174,-251 174,-275 221,-275 221,-251 174,-251\"/>\n",
       "<text text-anchor=\"start\" x=\"179\" y=\"-260.6\" font-family=\"-apple-system, BlinkMacSystemFont, 'Segoe UI', Helvetica, Arial, sans-serif, 'Apple Color Emoji', 'Segoe UI Emoji', 'Segoe UI Symbol'\" font-style=\"italic\" font-size=\"13.00\">double</text>\n",
       "<polygon fill=\"#f5f5f5\" stroke=\"transparent\" points=\"9,-227 9,-251 40,-251 40,-227 9,-227\"/>\n",
       "<polygon fill=\"#f5f5f5\" stroke=\"transparent\" points=\"40,-227 40,-251 174,-251 174,-227 40,-227\"/>\n",
       "<text text-anchor=\"start\" x=\"45\" y=\"-235.6\" font-family=\"-apple-system, BlinkMacSystemFont, 'Segoe UI', Helvetica, Arial, sans-serif, 'Apple Color Emoji', 'Segoe UI Emoji', 'Segoe UI Symbol'\" font-size=\"13.00\">n_purchases</text>\n",
       "<polygon fill=\"#f5f5f5\" stroke=\"transparent\" points=\"174,-227 174,-251 221,-251 221,-227 174,-227\"/>\n",
       "<text text-anchor=\"start\" x=\"179\" y=\"-236.6\" font-family=\"-apple-system, BlinkMacSystemFont, 'Segoe UI', Helvetica, Arial, sans-serif, 'Apple Color Emoji', 'Segoe UI Emoji', 'Segoe UI Symbol'\" font-style=\"italic\" font-size=\"13.00\">double</text>\n",
       "<polygon fill=\"#ffffff\" stroke=\"transparent\" points=\"9,-203 9,-227 40,-227 40,-203 9,-203\"/>\n",
       "<polygon fill=\"#ffffff\" stroke=\"transparent\" points=\"40,-203 40,-227 174,-227 174,-203 40,-203\"/>\n",
       "<text text-anchor=\"start\" x=\"45\" y=\"-211.6\" font-family=\"-apple-system, BlinkMacSystemFont, 'Segoe UI', Helvetica, Arial, sans-serif, 'Apple Color Emoji', 'Segoe UI Emoji', 'Segoe UI Symbol'\" font-size=\"13.00\">solo_purchases</text>\n",
       "<polygon fill=\"#ffffff\" stroke=\"transparent\" points=\"174,-203 174,-227 221,-227 221,-203 174,-203\"/>\n",
       "<text text-anchor=\"start\" x=\"179\" y=\"-212.6\" font-family=\"-apple-system, BlinkMacSystemFont, 'Segoe UI', Helvetica, Arial, sans-serif, 'Apple Color Emoji', 'Segoe UI Emoji', 'Segoe UI Symbol'\" font-style=\"italic\" font-size=\"13.00\">double</text>\n",
       "<polygon fill=\"#f5f5f5\" stroke=\"transparent\" points=\"9,-179 9,-203 40,-203 40,-179 9,-179\"/>\n",
       "<polygon fill=\"#f5f5f5\" stroke=\"transparent\" points=\"40,-179 40,-203 174,-203 174,-179 40,-179\"/>\n",
       "<text text-anchor=\"start\" x=\"45\" y=\"-187.6\" font-family=\"-apple-system, BlinkMacSystemFont, 'Segoe UI', Helvetica, Arial, sans-serif, 'Apple Color Emoji', 'Segoe UI Emoji', 'Segoe UI Symbol'\" font-size=\"13.00\">solo_sales_ratio</text>\n",
       "<polygon fill=\"#f5f5f5\" stroke=\"transparent\" points=\"174,-179 174,-203 221,-203 221,-179 174,-179\"/>\n",
       "<text text-anchor=\"start\" x=\"179\" y=\"-188.6\" font-family=\"-apple-system, BlinkMacSystemFont, 'Segoe UI', Helvetica, Arial, sans-serif, 'Apple Color Emoji', 'Segoe UI Emoji', 'Segoe UI Symbol'\" font-style=\"italic\" font-size=\"13.00\">double</text>\n",
       "<polygon fill=\"#ffffff\" stroke=\"transparent\" points=\"9,-155 9,-179 40,-179 40,-155 9,-155\"/>\n",
       "<polygon fill=\"#ffffff\" stroke=\"transparent\" points=\"40,-155 40,-179 174,-179 174,-155 40,-155\"/>\n",
       "<text text-anchor=\"start\" x=\"45\" y=\"-163.6\" font-family=\"-apple-system, BlinkMacSystemFont, 'Segoe UI', Helvetica, Arial, sans-serif, 'Apple Color Emoji', 'Segoe UI Emoji', 'Segoe UI Symbol'\" font-size=\"13.00\">product_receipt_score</text>\n",
       "<polygon fill=\"#ffffff\" stroke=\"transparent\" points=\"174,-155 174,-179 221,-179 221,-155 174,-155\"/>\n",
       "<text text-anchor=\"start\" x=\"179\" y=\"-164.6\" font-family=\"-apple-system, BlinkMacSystemFont, 'Segoe UI', Helvetica, Arial, sans-serif, 'Apple Color Emoji', 'Segoe UI Emoji', 'Segoe UI Symbol'\" font-style=\"italic\" font-size=\"13.00\">double</text>\n",
       "<polygon fill=\"#f5f5f5\" stroke=\"transparent\" points=\"9,-131 9,-155 40,-155 40,-131 9,-131\"/>\n",
       "<polygon fill=\"#f5f5f5\" stroke=\"transparent\" points=\"40,-131 40,-155 174,-155 174,-131 40,-131\"/>\n",
       "<text text-anchor=\"start\" x=\"45\" y=\"-139.6\" font-family=\"-apple-system, BlinkMacSystemFont, 'Segoe UI', Helvetica, Arial, sans-serif, 'Apple Color Emoji', 'Segoe UI Emoji', 'Segoe UI Symbol'\" font-size=\"13.00\">Product Class</text>\n",
       "<polygon fill=\"#f5f5f5\" stroke=\"transparent\" points=\"174,-131 174,-155 221,-155 221,-131 174,-131\"/>\n",
       "<text text-anchor=\"start\" x=\"183\" y=\"-140.6\" font-family=\"-apple-system, BlinkMacSystemFont, 'Segoe UI', Helvetica, Arial, sans-serif, 'Apple Color Emoji', 'Segoe UI Emoji', 'Segoe UI Symbol'\" font-style=\"italic\" font-size=\"13.00\">String</text>\n",
       "<polygon fill=\"#ffffff\" stroke=\"transparent\" points=\"9,-107 9,-131 40,-131 40,-107 9,-107\"/>\n",
       "<polygon fill=\"#ffffff\" stroke=\"transparent\" points=\"40,-107 40,-131 174,-131 174,-107 40,-107\"/>\n",
       "<text text-anchor=\"start\" x=\"45\" y=\"-115.6\" font-family=\"-apple-system, BlinkMacSystemFont, 'Segoe UI', Helvetica, Arial, sans-serif, 'Apple Color Emoji', 'Segoe UI Emoji', 'Segoe UI Symbol'\" font-size=\"13.00\">class</text>\n",
       "<polygon fill=\"#ffffff\" stroke=\"transparent\" points=\"174,-107 174,-131 221,-131 221,-107 174,-107\"/>\n",
       "<text text-anchor=\"start\" x=\"202\" y=\"-116.6\" font-family=\"-apple-system, BlinkMacSystemFont, 'Segoe UI', Helvetica, Arial, sans-serif, 'Apple Color Emoji', 'Segoe UI Emoji', 'Segoe UI Symbol'\" font-style=\"italic\" font-size=\"13.00\">int</text>\n",
       "<polygon fill=\"none\" stroke=\"black\" points=\"8,-106 8,-324 222,-324 222,-106 8,-106\"/>\n",
       "</g>\n",
       "<!-- Products -->\n",
       "<g id=\"node2\" class=\"node\">\n",
       "<title>Products</title>\n",
       "<text text-anchor=\"start\" x=\"464.5\" y=\"-410.6\" font-family=\"-apple-system, BlinkMacSystemFont, 'Segoe UI', Helvetica, Arial, sans-serif, 'Apple Color Emoji', 'Segoe UI Emoji', 'Segoe UI Symbol'\" font-weight=\"bold\" font-size=\"13.00\">Products</text>\n",
       "<polygon fill=\"#f5f5f5\" stroke=\"transparent\" points=\"410.5,-377 410.5,-401 441.5,-401 441.5,-377 410.5,-377\"/>\n",
       "<text text-anchor=\"start\" x=\"415.5\" y=\"-386.6\" font-family=\"-apple-system, BlinkMacSystemFont, 'Segoe UI', Helvetica, Arial, sans-serif, 'Apple Color Emoji', 'Segoe UI Emoji', 'Segoe UI Symbol'\" font-weight=\"bold\" font-size=\"13.00\">key</text>\n",
       "<polygon fill=\"#f5f5f5\" stroke=\"transparent\" points=\"441.5,-377 441.5,-401 530.5,-401 530.5,-377 441.5,-377\"/>\n",
       "<text text-anchor=\"start\" x=\"446.5\" y=\"-385.6\" font-family=\"-apple-system, BlinkMacSystemFont, 'Segoe UI', Helvetica, Arial, sans-serif, 'Apple Color Emoji', 'Segoe UI Emoji', 'Segoe UI Symbol'\" font-size=\"13.00\">ProductId</text>\n",
       "<polygon fill=\"#f5f5f5\" stroke=\"transparent\" points=\"530.5,-377 530.5,-401 573.5,-401 573.5,-377 530.5,-377\"/>\n",
       "<text text-anchor=\"start\" x=\"545.5\" y=\"-386.6\" font-family=\"-apple-system, BlinkMacSystemFont, 'Segoe UI', Helvetica, Arial, sans-serif, 'Apple Color Emoji', 'Segoe UI Emoji', 'Segoe UI Symbol'\" font-style=\"italic\" font-size=\"13.00\">long</text>\n",
       "<polygon fill=\"#ffffff\" stroke=\"transparent\" points=\"410.5,-353 410.5,-377 441.5,-377 441.5,-353 410.5,-353\"/>\n",
       "<polygon fill=\"#ffffff\" stroke=\"transparent\" points=\"441.5,-353 441.5,-377 530.5,-377 530.5,-353 441.5,-353\"/>\n",
       "<text text-anchor=\"start\" x=\"446.5\" y=\"-361.6\" font-family=\"-apple-system, BlinkMacSystemFont, 'Segoe UI', Helvetica, Arial, sans-serif, 'Apple Color Emoji', 'Segoe UI Emoji', 'Segoe UI Symbol'\" font-size=\"13.00\">Product Name</text>\n",
       "<polygon fill=\"#ffffff\" stroke=\"transparent\" points=\"530.5,-353 530.5,-377 573.5,-377 573.5,-353 530.5,-353\"/>\n",
       "<text text-anchor=\"start\" x=\"535.5\" y=\"-362.6\" font-family=\"-apple-system, BlinkMacSystemFont, 'Segoe UI', Helvetica, Arial, sans-serif, 'Apple Color Emoji', 'Segoe UI Emoji', 'Segoe UI Symbol'\" font-style=\"italic\" font-size=\"13.00\">String</text>\n",
       "<polygon fill=\"#f5f5f5\" stroke=\"transparent\" points=\"410.5,-329 410.5,-353 441.5,-353 441.5,-329 410.5,-329\"/>\n",
       "<polygon fill=\"#f5f5f5\" stroke=\"transparent\" points=\"441.5,-329 441.5,-353 530.5,-353 530.5,-329 441.5,-329\"/>\n",
       "<text text-anchor=\"start\" x=\"446.5\" y=\"-337.6\" font-family=\"-apple-system, BlinkMacSystemFont, 'Segoe UI', Helvetica, Arial, sans-serif, 'Apple Color Emoji', 'Segoe UI Emoji', 'Segoe UI Symbol'\" font-size=\"13.00\">Brand</text>\n",
       "<polygon fill=\"#f5f5f5\" stroke=\"transparent\" points=\"530.5,-329 530.5,-353 573.5,-353 573.5,-329 530.5,-329\"/>\n",
       "<text text-anchor=\"start\" x=\"535.5\" y=\"-338.6\" font-family=\"-apple-system, BlinkMacSystemFont, 'Segoe UI', Helvetica, Arial, sans-serif, 'Apple Color Emoji', 'Segoe UI Emoji', 'Segoe UI Symbol'\" font-style=\"italic\" font-size=\"13.00\">String</text>\n",
       "<polygon fill=\"none\" stroke=\"black\" points=\"409,-328 409,-426 574,-426 574,-328 409,-328\"/>\n",
       "</g>\n",
       "<!-- classified_products&#45;&gt;Products -->\n",
       "<g id=\"edge4\" class=\"edge\">\n",
       "<title>classified_products-&gt;Products</title>\n",
       "<path fill=\"none\" stroke=\"black\" d=\"M230.14,-264.38C281.58,-286.63 341.76,-312.66 391.29,-334.08\"/>\n",
       "<polygon fill=\"black\" stroke=\"black\" points=\"390.16,-337.41 400.73,-338.17 392.94,-330.98 390.16,-337.41\"/>\n",
       "<text text-anchor=\"middle\" x=\"311.5\" y=\"-327.6\" font-family=\"-apple-system, BlinkMacSystemFont, 'Segoe UI', Helvetica, Arial, sans-serif, 'Apple Color Emoji', 'Segoe UI Emoji', 'Segoe UI Symbol'\" font-size=\"13.00\">ProductId → ProductId</text>\n",
       "</g>\n",
       "<!-- selling_prices -->\n",
       "<g id=\"node3\" class=\"node\">\n",
       "<title>selling_prices</title>\n",
       "<text text-anchor=\"start\" x=\"451\" y=\"-286.6\" font-family=\"-apple-system, BlinkMacSystemFont, 'Segoe UI', Helvetica, Arial, sans-serif, 'Apple Color Emoji', 'Segoe UI Emoji', 'Segoe UI Symbol'\" font-weight=\"bold\" font-size=\"13.00\">selling_prices</text>\n",
       "<polygon fill=\"#f5f5f5\" stroke=\"transparent\" points=\"414.5,-253 414.5,-277 445.5,-277 445.5,-253 414.5,-253\"/>\n",
       "<text text-anchor=\"start\" x=\"419.5\" y=\"-262.6\" font-family=\"-apple-system, BlinkMacSystemFont, 'Segoe UI', Helvetica, Arial, sans-serif, 'Apple Color Emoji', 'Segoe UI Emoji', 'Segoe UI Symbol'\" font-weight=\"bold\" font-size=\"13.00\">key</text>\n",
       "<polygon fill=\"#f5f5f5\" stroke=\"transparent\" points=\"445.5,-253 445.5,-277 521.5,-277 521.5,-253 445.5,-253\"/>\n",
       "<text text-anchor=\"start\" x=\"450.5\" y=\"-261.6\" font-family=\"-apple-system, BlinkMacSystemFont, 'Segoe UI', Helvetica, Arial, sans-serif, 'Apple Color Emoji', 'Segoe UI Emoji', 'Segoe UI Symbol'\" font-size=\"13.00\">ProductId</text>\n",
       "<polygon fill=\"#f5f5f5\" stroke=\"transparent\" points=\"521.5,-253 521.5,-277 568.5,-277 568.5,-253 521.5,-253\"/>\n",
       "<text text-anchor=\"start\" x=\"540.5\" y=\"-262.6\" font-family=\"-apple-system, BlinkMacSystemFont, 'Segoe UI', Helvetica, Arial, sans-serif, 'Apple Color Emoji', 'Segoe UI Emoji', 'Segoe UI Symbol'\" font-style=\"italic\" font-size=\"13.00\">long</text>\n",
       "<polygon fill=\"#ffffff\" stroke=\"transparent\" points=\"414.5,-229 414.5,-253 445.5,-253 445.5,-229 414.5,-229\"/>\n",
       "<polygon fill=\"#ffffff\" stroke=\"transparent\" points=\"445.5,-229 445.5,-253 521.5,-253 521.5,-229 445.5,-229\"/>\n",
       "<text text-anchor=\"start\" x=\"450.5\" y=\"-237.6\" font-family=\"-apple-system, BlinkMacSystemFont, 'Segoe UI', Helvetica, Arial, sans-serif, 'Apple Color Emoji', 'Segoe UI Emoji', 'Segoe UI Symbol'\" font-size=\"13.00\">SellingPrice</text>\n",
       "<polygon fill=\"#ffffff\" stroke=\"transparent\" points=\"521.5,-229 521.5,-253 568.5,-253 568.5,-229 521.5,-229\"/>\n",
       "<text text-anchor=\"start\" x=\"526.5\" y=\"-238.6\" font-family=\"-apple-system, BlinkMacSystemFont, 'Segoe UI', Helvetica, Arial, sans-serif, 'Apple Color Emoji', 'Segoe UI Emoji', 'Segoe UI Symbol'\" font-style=\"italic\" font-size=\"13.00\">double</text>\n",
       "<polygon fill=\"none\" stroke=\"black\" points=\"413.5,-228 413.5,-302 569.5,-302 569.5,-228 413.5,-228\"/>\n",
       "</g>\n",
       "<!-- classified_products&#45;&gt;selling_prices -->\n",
       "<g id=\"edge3\" class=\"edge\">\n",
       "<title>classified_products-&gt;selling_prices</title>\n",
       "<path fill=\"none\" stroke=\"black\" d=\"M230.14,-230.24C282.88,-237.28 344.79,-245.55 395.01,-252.25\"/>\n",
       "<polygon fill=\"black\" stroke=\"black\" points=\"394.84,-255.76 405.22,-253.61 395.77,-248.82 394.84,-255.76\"/>\n",
       "<text text-anchor=\"middle\" x=\"311.5\" y=\"-251.6\" font-family=\"-apple-system, BlinkMacSystemFont, 'Segoe UI', Helvetica, Arial, sans-serif, 'Apple Color Emoji', 'Segoe UI Emoji', 'Segoe UI Symbol'\" font-size=\"13.00\">ProductId → ProductId</text>\n",
       "</g>\n",
       "<!-- purchase_prices -->\n",
       "<g id=\"node4\" class=\"node\">\n",
       "<title>purchase_prices</title>\n",
       "<text text-anchor=\"start\" x=\"442.5\" y=\"-186.6\" font-family=\"-apple-system, BlinkMacSystemFont, 'Segoe UI', Helvetica, Arial, sans-serif, 'Apple Color Emoji', 'Segoe UI Emoji', 'Segoe UI Symbol'\" font-weight=\"bold\" font-size=\"13.00\">purchase_prices</text>\n",
       "<polygon fill=\"#f5f5f5\" stroke=\"transparent\" points=\"406.5,-153 406.5,-177 437.5,-177 437.5,-153 406.5,-153\"/>\n",
       "<text text-anchor=\"start\" x=\"411.5\" y=\"-162.6\" font-family=\"-apple-system, BlinkMacSystemFont, 'Segoe UI', Helvetica, Arial, sans-serif, 'Apple Color Emoji', 'Segoe UI Emoji', 'Segoe UI Symbol'\" font-weight=\"bold\" font-size=\"13.00\">key</text>\n",
       "<polygon fill=\"#f5f5f5\" stroke=\"transparent\" points=\"437.5,-153 437.5,-177 529.5,-177 529.5,-153 437.5,-153\"/>\n",
       "<text text-anchor=\"start\" x=\"442.5\" y=\"-161.6\" font-family=\"-apple-system, BlinkMacSystemFont, 'Segoe UI', Helvetica, Arial, sans-serif, 'Apple Color Emoji', 'Segoe UI Emoji', 'Segoe UI Symbol'\" font-size=\"13.00\">ProductId</text>\n",
       "<polygon fill=\"#f5f5f5\" stroke=\"transparent\" points=\"529.5,-153 529.5,-177 576.5,-177 576.5,-153 529.5,-153\"/>\n",
       "<text text-anchor=\"start\" x=\"548.5\" y=\"-162.6\" font-family=\"-apple-system, BlinkMacSystemFont, 'Segoe UI', Helvetica, Arial, sans-serif, 'Apple Color Emoji', 'Segoe UI Emoji', 'Segoe UI Symbol'\" font-style=\"italic\" font-size=\"13.00\">long</text>\n",
       "<polygon fill=\"#ffffff\" stroke=\"transparent\" points=\"406.5,-129 406.5,-153 437.5,-153 437.5,-129 406.5,-129\"/>\n",
       "<polygon fill=\"#ffffff\" stroke=\"transparent\" points=\"437.5,-129 437.5,-153 529.5,-153 529.5,-129 437.5,-129\"/>\n",
       "<text text-anchor=\"start\" x=\"442.5\" y=\"-137.6\" font-family=\"-apple-system, BlinkMacSystemFont, 'Segoe UI', Helvetica, Arial, sans-serif, 'Apple Color Emoji', 'Segoe UI Emoji', 'Segoe UI Symbol'\" font-size=\"13.00\">PurchasePrice</text>\n",
       "<polygon fill=\"#ffffff\" stroke=\"transparent\" points=\"529.5,-129 529.5,-153 576.5,-153 576.5,-129 529.5,-129\"/>\n",
       "<text text-anchor=\"start\" x=\"534.5\" y=\"-138.6\" font-family=\"-apple-system, BlinkMacSystemFont, 'Segoe UI', Helvetica, Arial, sans-serif, 'Apple Color Emoji', 'Segoe UI Emoji', 'Segoe UI Symbol'\" font-style=\"italic\" font-size=\"13.00\">double</text>\n",
       "<polygon fill=\"none\" stroke=\"black\" points=\"405.5,-128 405.5,-202 577.5,-202 577.5,-128 405.5,-128\"/>\n",
       "</g>\n",
       "<!-- classified_products&#45;&gt;purchase_prices -->\n",
       "<g id=\"edge2\" class=\"edge\">\n",
       "<title>classified_products-&gt;purchase_prices</title>\n",
       "<path fill=\"none\" stroke=\"black\" d=\"M230.14,-199.76C280.26,-193.07 338.67,-185.27 387.45,-178.76\"/>\n",
       "<polygon fill=\"black\" stroke=\"black\" points=\"387.94,-182.22 397.39,-177.43 387.01,-175.29 387.94,-182.22\"/>\n",
       "<text text-anchor=\"middle\" x=\"311.5\" y=\"-198.6\" font-family=\"-apple-system, BlinkMacSystemFont, 'Segoe UI', Helvetica, Arial, sans-serif, 'Apple Color Emoji', 'Segoe UI Emoji', 'Segoe UI Symbol'\" font-size=\"13.00\">ProductId → ProductId</text>\n",
       "</g>\n",
       "<!-- Competitor_prices -->\n",
       "<g id=\"node5\" class=\"node\">\n",
       "<title>Competitor_prices</title>\n",
       "<text text-anchor=\"start\" x=\"437.5\" y=\"-86.6\" font-family=\"-apple-system, BlinkMacSystemFont, 'Segoe UI', Helvetica, Arial, sans-serif, 'Apple Color Emoji', 'Segoe UI Emoji', 'Segoe UI Symbol'\" font-weight=\"bold\" font-size=\"13.00\">Competitor_prices</text>\n",
       "<polygon fill=\"#f5f5f5\" stroke=\"transparent\" points=\"402.5,-53 402.5,-77 433.5,-77 433.5,-53 402.5,-53\"/>\n",
       "<text text-anchor=\"start\" x=\"407.5\" y=\"-62.6\" font-family=\"-apple-system, BlinkMacSystemFont, 'Segoe UI', Helvetica, Arial, sans-serif, 'Apple Color Emoji', 'Segoe UI Emoji', 'Segoe UI Symbol'\" font-weight=\"bold\" font-size=\"13.00\">key</text>\n",
       "<polygon fill=\"#f5f5f5\" stroke=\"transparent\" points=\"433.5,-53 433.5,-77 534.5,-77 534.5,-53 433.5,-53\"/>\n",
       "<text text-anchor=\"start\" x=\"438.5\" y=\"-61.6\" font-family=\"-apple-system, BlinkMacSystemFont, 'Segoe UI', Helvetica, Arial, sans-serif, 'Apple Color Emoji', 'Segoe UI Emoji', 'Segoe UI Symbol'\" font-size=\"13.00\">ProductId</text>\n",
       "<polygon fill=\"#f5f5f5\" stroke=\"transparent\" points=\"534.5,-53 534.5,-77 581.5,-77 581.5,-53 534.5,-53\"/>\n",
       "<text text-anchor=\"start\" x=\"553.5\" y=\"-62.6\" font-family=\"-apple-system, BlinkMacSystemFont, 'Segoe UI', Helvetica, Arial, sans-serif, 'Apple Color Emoji', 'Segoe UI Emoji', 'Segoe UI Symbol'\" font-style=\"italic\" font-size=\"13.00\">long</text>\n",
       "<polygon fill=\"#ffffff\" stroke=\"transparent\" points=\"402.5,-29 402.5,-53 433.5,-53 433.5,-29 402.5,-29\"/>\n",
       "<polygon fill=\"#ffffff\" stroke=\"transparent\" points=\"433.5,-29 433.5,-53 534.5,-53 534.5,-29 433.5,-29\"/>\n",
       "<text text-anchor=\"start\" x=\"438.5\" y=\"-37.6\" font-family=\"-apple-system, BlinkMacSystemFont, 'Segoe UI', Helvetica, Arial, sans-serif, 'Apple Color Emoji', 'Segoe UI Emoji', 'Segoe UI Symbol'\" font-size=\"13.00\">CompetitorPrice</text>\n",
       "<polygon fill=\"#ffffff\" stroke=\"transparent\" points=\"534.5,-29 534.5,-53 581.5,-53 581.5,-29 534.5,-29\"/>\n",
       "<text text-anchor=\"start\" x=\"539.5\" y=\"-38.6\" font-family=\"-apple-system, BlinkMacSystemFont, 'Segoe UI', Helvetica, Arial, sans-serif, 'Apple Color Emoji', 'Segoe UI Emoji', 'Segoe UI Symbol'\" font-style=\"italic\" font-size=\"13.00\">double</text>\n",
       "<polygon fill=\"#f5f5f5\" stroke=\"transparent\" points=\"402.5,-5 402.5,-29 433.5,-29 433.5,-5 402.5,-5\"/>\n",
       "<text text-anchor=\"start\" x=\"407.5\" y=\"-14.6\" font-family=\"-apple-system, BlinkMacSystemFont, 'Segoe UI', Helvetica, Arial, sans-serif, 'Apple Color Emoji', 'Segoe UI Emoji', 'Segoe UI Symbol'\" font-weight=\"bold\" font-size=\"13.00\">key</text>\n",
       "<polygon fill=\"#f5f5f5\" stroke=\"transparent\" points=\"433.5,-5 433.5,-29 534.5,-29 534.5,-5 433.5,-5\"/>\n",
       "<text text-anchor=\"start\" x=\"438.5\" y=\"-13.6\" font-family=\"-apple-system, BlinkMacSystemFont, 'Segoe UI', Helvetica, Arial, sans-serif, 'Apple Color Emoji', 'Segoe UI Emoji', 'Segoe UI Symbol'\" font-size=\"13.00\">CompetitorName</text>\n",
       "<polygon fill=\"#f5f5f5\" stroke=\"transparent\" points=\"534.5,-5 534.5,-29 581.5,-29 581.5,-5 534.5,-5\"/>\n",
       "<text text-anchor=\"start\" x=\"543.5\" y=\"-14.6\" font-family=\"-apple-system, BlinkMacSystemFont, 'Segoe UI', Helvetica, Arial, sans-serif, 'Apple Color Emoji', 'Segoe UI Emoji', 'Segoe UI Symbol'\" font-style=\"italic\" font-size=\"13.00\">String</text>\n",
       "<polygon fill=\"none\" stroke=\"black\" points=\"401,-4 401,-102 582,-102 582,-4 401,-4\"/>\n",
       "</g>\n",
       "<!-- classified_products&#45;&gt;Competitor_prices -->\n",
       "<g id=\"edge1\" class=\"edge\">\n",
       "<title>classified_products-&gt;Competitor_prices</title>\n",
       "<path fill=\"none\" stroke=\"black\" stroke-dasharray=\"5,2\" d=\"M230.14,-165.62C278.85,-144.55 335.4,-120.09 383.32,-99.36\"/>\n",
       "<polygon fill=\"black\" stroke=\"black\" points=\"384.99,-102.45 392.78,-95.27 382.21,-96.03 384.99,-102.45\"/>\n",
       "<text text-anchor=\"middle\" x=\"311.5\" y=\"-156.6\" font-family=\"-apple-system, BlinkMacSystemFont, 'Segoe UI', Helvetica, Arial, sans-serif, 'Apple Color Emoji', 'Segoe UI Emoji', 'Segoe UI Symbol'\" font-size=\"13.00\">ProductId → ProductId</text>\n",
       "</g>\n",
       "</g>\n",
       "</svg>"
      ],
      "text/plain": [
       "<IPython.core.display.SVG object>"
      ]
     },
     "execution_count": 35,
     "metadata": {},
     "output_type": "execute_result"
    }
   ],
   "source": [
    "cube.schema"
   ]
  },
  {
   "cell_type": "markdown",
   "metadata": {},
   "source": [
    "### Creating the price index measure"
   ]
  },
  {
   "cell_type": "markdown",
   "metadata": {},
   "source": [
    "The \"scope\" parameters enables you to have a different aggregation strategy below the \"on\" level.  \n",
    "In the following cell, everything above Product (ProductId) level is aggregated as a sum, while below the product level we find the previous formula, that does an average on the competitor prices just for one particular product."
   ]
  },
  {
   "cell_type": "code",
   "execution_count": 36,
   "metadata": {},
   "outputs": [],
   "source": [
    "m[\"CompetitorPrice.VALUE\"] = tt.value(competitor_prices_table[\"CompetitorPrice\"])\n",
    "m[\"CompetitorPrice.MEAN\"] = tt.agg.mean(m[\"CompetitorPrice.VALUE\"])"
   ]
  },
  {
   "cell_type": "code",
   "execution_count": 37,
   "metadata": {},
   "outputs": [],
   "source": [
    "price_index_numerator = tt.agg.sum(\n",
    "    (m[\"SellingPrice.MEAN\"] * m[\"Margin.SUM\"]) / m[\"CompetitorPrice.MEAN\"],\n",
    "    scope=tt.scope.origin(lvl[\"ProductId\"]),\n",
    ")\n",
    "\n",
    "# Some products have no competitor price or selling price.\n",
    "# We exclude them from the denominator for consistency with the numerator\n",
    "price_index_denominator = tt.agg.sum(\n",
    "    tt.where(\n",
    "        (m[\"CompetitorPrice.MEAN\"] != None) & (m[\"SellingPrice.MEAN\"] != None),\n",
    "        m[\"Margin.SUM\"],\n",
    "    ),\n",
    "    scope=tt.scope.origin(lvl[\"ProductId\"]),\n",
    ")"
   ]
  },
  {
   "cell_type": "code",
   "execution_count": 38,
   "metadata": {},
   "outputs": [],
   "source": [
    "m[\"Price Index\"] = 100 * price_index_numerator / price_index_denominator"
   ]
  },
  {
   "cell_type": "markdown",
   "metadata": {},
   "source": [
    "The price index measure is now created accordingly to the formula.\n",
    "\n",
    "We can see below that our driver products are in fact a bit more expensive than the average market price while we are quite competitive on the complementary products, which is the opposite of our goal."
   ]
  },
  {
   "cell_type": "code",
   "execution_count": 39,
   "metadata": {
    "atoti": {
     "height": 229,
     "widget": {
      "mapping": {
       "columns": [
        "ALL_MEASURES",
        "[Competitor_prices].[CompetitorName].[CompetitorName]"
       ],
       "measures": [
        "[Measures].[Price Index]"
       ],
       "rows": [
        "[classified_products].[Product Class].[Product Class]"
       ]
      },
      "name": "Price index per competitor",
      "query": {
       "context": {
        "queriesResultLimit.intermediateSize": 1000000,
        "queriesResultLimit.transientSize": 10000000
       },
       "mdx": "SELECT NON EMPTY Order(Union(DrilldownLevel([classified_products].[Product Class].[ALL].[AllMember]), Hierarchize(Descendants({[classified_products].[Product Class].[AllMember]}, 1, SELF_AND_BEFORE))), ([Measures].[Price Index], [Competitor_prices].[CompetitorName].[ALL].[AllMember]), DESC) ON ROWS, NON EMPTY Crossjoin({[Measures].[Price Index]}, Hierarchize(Descendants({[Competitor_prices].[CompetitorName].[AllMember]}, 1, SELF_AND_BEFORE))) ON COLUMNS FROM [products_cube] CELL PROPERTIES VALUE, FORMATTED_VALUE, BACK_COLOR, FORE_COLOR, FONT_FLAGS"
      },
      "serverKey": "default",
      "widgetKey": "pivot-table"
     }
    },
    "tags": []
   },
   "outputs": [
    {
     "data": {
      "application/vnd.atoti.widget.v0+json": {
       "name": "Price index per competitor",
       "sessionId": "1648808159_SOX2DY",
       "sessionLocation": {
        "https": null,
        "port": 1111
       },
       "widgetCreationCode": "session.visualize()"
      },
      "text/html": [
       "<img src=\"data:image/svg+xml;charset=utf8,%3C%3Fxml%20version%3D%221.0%22%20standalone%3D%22no%22%3F%3E%3Csvg%20xmlns%3D%22http%3A%2F%2Fwww.w3.org%2F2000%2Fsvg%22%20height%3D%22221%22%20width%3D%22967%22%3E%3CforeignObject%20width%3D%22100%25%22%20height%3D%22100%25%22%20x%3D%220%22%20y%3D%220%22%3E%3Cstyle%20xmlns%3D%22http%3A%2F%2Fwww.w3.org%2F1999%2Fxhtml%22%20type%3D%22text%2Fcss%22%3E*%2C%20%3A%3Abefore%2C%20%3A%3Aafter%20%7Bbox-sizing%3A%20unset%7D%0A.ant-root%20%5Bclass%5E%3D%22ant-%22%5D%2C%20.ant-root%20%5Bclass*%3D%22ant-%22%5D%2C%20.ant-root%20%5Bclass%5E%3D%22ant-%22%5D%20*%2C%20.ant-root%20%5Bclass*%3D%22ant-%22%5D%20*%2C%20.ant-root%20%5Bclass%5E%3D%22ant-%22%5D%20%3A%3Abefore%2C%20.ant-root%20%5Bclass*%3D%22ant-%22%5D%20%3A%3Abefore%2C%20.ant-root%20%5Bclass%5E%3D%22ant-%22%5D%20%3A%3Aafter%2C%20.ant-root%20%5Bclass*%3D%22ant-%22%5D%20%3A%3Aafter%20%7Bbox-sizing%3A%20border-box%7D%0A.ant-root%20html%2C%20.ant-root%20%7Bwidth%3A%20100%25%3B%20height%3A%20100%25%7D%0A.ant-root%20*%2C%20.ant-root%20%3A%3Abefore%2C%20.ant-root%20%3A%3Aafter%20%7Bbox-sizing%3A%20border-box%7D%0A.ant-root%20%7Bmargin-top%3A%200px%3B%20margin-right%3A%200px%3B%20margin-bottom%3A%200px%3B%20margin-left%3A%200px%3B%20color%3A%20rgb(89%2C%2089%2C%2089)%3B%20font-size%3A%2012px%3B%20font-family%3A%20-apple-system%2C%20BlinkMacSystemFont%2C%20%22Segoe%20UI%22%2C%20Roboto%2C%20%22Helvetica%20Neue%22%2C%20Arial%2C%20%22Noto%20Sans%22%2C%20sans-serif%2C%20%22Apple%20Color%20Emoji%22%2C%20%22Segoe%20UI%20Emoji%22%2C%20%22Segoe%20UI%20Symbol%22%2C%20%22Noto%20Color%20Emoji%22%3B%20font-variant-ligatures%3A%20normal%3B%20font-variant-numeric%3A%20tabular-nums%3B%20font-variant-east-asian%3A%20normal%3B%20font-variant-caps%3A%20normal%3B%20line-height%3A%201.66667%3B%20background-color%3A%20rgb(255%2C%20255%2C%20255)%3B%20--antd-wave-shadow-color%3A%20%20%231890FF%3B%20--scroll-bar%3A%20%200%7D%0A.ant-root%20svg%3Anot(%3Aroot)%20%7Boverflow-x%3A%20hidden%3B%20overflow-y%3A%20hidden%7D%0A.ant-root%20.ant-spin%20%7Bbox-sizing%3A%20border-box%3B%20margin-top%3A%200px%3B%20margin-right%3A%200px%3B%20margin-bottom%3A%200px%3B%20margin-left%3A%200px%3B%20padding-top%3A%200px%3B%20padding-right%3A%200px%3B%20padding-bottom%3A%200px%3B%20padding-left%3A%200px%3B%20font-size%3A%2012px%3B%20font-variant-ligatures%3A%20normal%3B%20font-variant-numeric%3A%20tabular-nums%3B%20font-variant-east-asian%3A%20normal%3B%20font-variant-caps%3A%20normal%3B%20line-height%3A%201.66667%3B%20list-style-position%3A%20initial%3B%20list-style-image%3A%20initial%3B%20list-style-type%3A%20none%3B%20position%3A%20absolute%3B%20display%3A%20none%3B%20color%3A%20rgb(24%2C%20144%2C%20255)%3B%20text-align%3A%20center%3B%20vertical-align%3A%20middle%3B%20opacity%3A%200%3B%20transition-duration%3A%200.3s%3B%20transition-timing-function%3A%20cubic-bezier(0.78%2C%200.14%2C%200.15%2C%200.86)%3B%20transition-delay%3A%200s%3B%20transition-property%3A%20transform%7D%0A.ant-root%20.ant-spin-spinning%20%7Bposition%3A%20static%3B%20display%3A%20inline-block%3B%20opacity%3A%201%7D%0A.ant-root%20.ant-spin-dot%20%7Bposition%3A%20relative%3B%20display%3A%20inline-block%3B%20font-size%3A%2020px%3B%20width%3A%201em%3B%20height%3A%201em%7D%0A.ant-root%20.ant-spin-dot-item%20%7Bposition%3A%20absolute%3B%20display%3A%20block%3B%20width%3A%209px%3B%20height%3A%209px%3B%20background-color%3A%20rgb(24%2C%20144%2C%20255)%3B%20border-top-left-radius%3A%20100%25%3B%20border-top-right-radius%3A%20100%25%3B%20border-bottom-right-radius%3A%20100%25%3B%20border-bottom-left-radius%3A%20100%25%3B%20transform%3A%20scale(0.75)%3B%20transform-origin%3A%2050%25%2050%25%3B%20opacity%3A%200.3%3B%20animation-duration%3A%201s%3B%20animation-timing-function%3A%20linear%3B%20animation-delay%3A%200s%3B%20animation-iteration-count%3A%20infinite%3B%20animation-direction%3A%20alternate%3B%20animation-fill-mode%3A%20none%3B%20animation-play-state%3A%20running%3B%20animation-name%3A%20antSpinMove%7D%0A.ant-root%20.ant-spin-dot-item%3Anth-child(1)%20%7Btop%3A%200px%3B%20left%3A%200px%7D%0A.ant-root%20.ant-spin-dot-item%3Anth-child(2)%20%7Btop%3A%200px%3B%20right%3A%200px%3B%20animation-delay%3A%200.4s%7D%0A.ant-root%20.ant-spin-dot-item%3Anth-child(3)%20%7Bright%3A%200px%3B%20bottom%3A%200px%3B%20animation-delay%3A%200.8s%7D%0A.ant-root%20.ant-spin-dot-item%3Anth-child(4)%20%7Bbottom%3A%200px%3B%20left%3A%200px%3B%20animation-delay%3A%201.2s%7D%0A.ant-root%20.ant-spin-dot-spin%20%7Btransform%3A%20rotate(45deg)%3B%20animation-duration%3A%201.2s%3B%20animation-timing-function%3A%20linear%3B%20animation-delay%3A%200s%3B%20animation-iteration-count%3A%20infinite%3B%20animation-direction%3A%20normal%3B%20animation-fill-mode%3A%20none%3B%20animation-play-state%3A%20running%3B%20animation-name%3A%20antRotate%7D%0A.ant-root%20.ant-spin-lg%20.ant-spin-dot%20%7Bfont-size%3A%2032px%7D%0A.ant-root%20.ant-spin-lg%20.ant-spin-dot%20i%20%7Bwidth%3A%2014px%3B%20height%3A%2014px%7D%0A.ant-root%20.aui-invisible-scrollbars%20%7B%7D%0A.css-12ebr42-AWidget%20%7Bheight%3A%20100%25%7D%0A.css-ck2xzt-Spinner%20%7B-webkit-box-align%3A%20center%3B%20align-items%3A%20center%3B%20background-image%3A%20initial%3B%20background-position-x%3A%20initial%3B%20background-position-y%3A%20initial%3B%20background-size%3A%20initial%3B%20background-repeat-x%3A%20initial%3B%20background-repeat-y%3A%20initial%3B%20background-attachment%3A%20initial%3B%20background-origin%3A%20initial%3B%20background-clip%3A%20initial%3B%20background-color%3A%20transparent%3B%20display%3A%20flex%3B%20height%3A%20100%25%3B%20-webkit-box-pack%3A%20center%3B%20justify-content%3A%20center%3B%20position%3A%20absolute%3B%20transition-duration%3A%20300ms%3B%20transition-timing-function%3A%20ease%3B%20transition-delay%3A%200s%3B%20transition-property%3A%20opacity%3B%20width%3A%20100%25%3B%20opacity%3A%200%3B%20pointer-events%3A%20none%3B%20z-index%3A%202%7D%0A.css-1e3kjgr-Spinner%20%7Bheight%3A%20100%25%3B%20position%3A%20relative%7D%0A.css-1hwl8p1-Table%20%7Bpadding-bottom%3A%202px%3B%20padding-right%3A%202px%3B%20height%3A%20100%25%7D%0A.css-14ejcn0-Table%20%7Bheight%3A%20calc(100%25%20-%2030px)%3B%20outline-color%3A%20initial%3B%20outline-style%3A%20none%3B%20outline-width%3A%20initial%3B%20position%3A%20relative%7D%0A.css-1rxpjm0-ColumnResizeHint%20%7Bdisplay%3A%20none%3B%20position%3A%20absolute%3B%20z-index%3A%201%7D%0A.css-1uww2vi-Table%20%7Bheight%3A%2030px%3B%20text-align%3A%20right%3B%20padding-right%3A%2025px%7D%0A.css-1hol363-ResizableCell%20%7Bdisplay%3A%20flex%3B%20flex-direction%3A%20column%3B%20position%3A%20absolute%3B%20top%3A%200px%3B%20left%3A%200px%3B%20height%3A%2028px%3B%20width%3A%20120px%7D%0A.css-xxcrt1-ResizableCell%20%7Bbackground-image%3A%20initial%3B%20background-position-x%3A%20initial%3B%20background-position-y%3A%20initial%3B%20background-size%3A%20initial%3B%20background-repeat-x%3A%20initial%3B%20background-repeat-y%3A%20initial%3B%20background-attachment%3A%20initial%3B%20background-origin%3A%20initial%3B%20background-clip%3A%20initial%3B%20background-color%3A%20transparent%3B%20cursor%3A%20col-resize%3B%20height%3A%20100%25%3B%20position%3A%20absolute%3B%20right%3A%200px%3B%20width%3A%205px%3B%20z-index%3A%201%7D%0A.css-fpuq48-ResizableCell%20%7Bdisplay%3A%20flex%3B%20flex-direction%3A%20column%3B%20position%3A%20absolute%3B%20top%3A%200px%3B%20left%3A%20120px%3B%20height%3A%2028px%3B%20width%3A%20120px%7D%0A.css-3geaec-ResizableCell%20%7Bdisplay%3A%20flex%3B%20flex-direction%3A%20column%3B%20position%3A%20absolute%3B%20top%3A%200px%3B%20left%3A%20240px%3B%20height%3A%2028px%3B%20width%3A%20120px%7D%0A.css-9kbkmr-ResizableCell%20%7Bdisplay%3A%20flex%3B%20flex-direction%3A%20column%3B%20position%3A%20absolute%3B%20top%3A%200px%3B%20left%3A%20360px%3B%20height%3A%2028px%3B%20width%3A%20120px%7D%0A.css-1bk59ax-ColumnResizeHint%20%7Bheight%3A%2056px%3B%20background-color%3A%20rgb(24%2C%20144%2C%20255)%3B%20width%3A%205px%7D%0A.css-11ly2mg-ColumnResizeHint%20%7Bdisplay%3A%20none%3B%20float%3A%20right%3B%20height%3A%20133px%3B%20background-color%3A%20rgb(24%2C%20144%2C%20255)%3B%20opacity%3A%200.4%3B%20width%3A%202px%7D%0A.css-zhjq44-Table%20%7Bdisplay%3A%20flex%3B%20height%3A%20189px%7D%0A.css-u4e0tt-Table%20%7Bborder-collapse%3A%20collapse%3B%20height%3A%2056px%3B%20width%3A%20120px%7D%0A.css-1c0bag9%20%7Bheight%3A%2056px%3B%20width%3A%20120px%7D%0A.css-1ebmaxq%20%7Bcursor%3A%20cell%3B%20height%3A%2056px%3B%20overflow-x%3A%20hidden%3B%20overflow-y%3A%20hidden%3B%20position%3A%20relative%3B%20width%3A%20120px%3B%20border-right-width%3A%202px%3B%20border-right-style%3A%20solid%3B%20border-right-color%3A%20rgb(233%2C%20233%2C%20233)%7D%0A.css-z51yao-ResizableCell%20%7Bdisplay%3A%20flex%3B%20flex-direction%3A%20column%3B%20position%3A%20absolute%3B%20top%3A%2028px%3B%20left%3A%200px%3B%20height%3A%2028px%3B%20width%3A%20120px%7D%0A.css-1e00uuh%20%7Bheight%3A%20133px%3B%20width%3A%20120px%3B%20overflow-x%3A%20hidden%3B%20overflow-y%3A%20auto%7D%0A.css-10nsg7u%20%7Bcursor%3A%20cell%3B%20height%3A%20112px%3B%20overflow-x%3A%20hidden%3B%20overflow-y%3A%20hidden%3B%20position%3A%20relative%3B%20width%3A%20120px%3B%20border-top-width%3A%202px%3B%20border-top-style%3A%20solid%3B%20border-top-color%3A%20rgb(233%2C%20233%2C%20233)%3B%20border-right-width%3A%202px%3B%20border-right-style%3A%20solid%3B%20border-right-color%3A%20rgb(233%2C%20233%2C%20233)%7D%0A.css-sazb3v-Table%20%7Bwidth%3A%20845px%3B%20border-collapse%3A%20collapse%7D%0A.css-1hkp0fl%20%7Bheight%3A%2056px%3B%20width%3A%20827px%3B%20overflow-x%3A%20auto%3B%20overflow-y%3A%20hidden%7D%0A.css-13bp3km%20%7Bcursor%3A%20cell%3B%20height%3A%2056px%3B%20overflow-x%3A%20hidden%3B%20overflow-y%3A%20hidden%3B%20position%3A%20relative%3B%20width%3A%20600px%7D%0A.css-76qu0m-ResizableCell%20%7Bdisplay%3A%20flex%3B%20flex-direction%3A%20column%3B%20position%3A%20absolute%3B%20top%3A%200px%3B%20left%3A%20480px%3B%20height%3A%2028px%3B%20width%3A%20120px%7D%0A.css-10fw2tq-ResizableCell%20%7Bdisplay%3A%20flex%3B%20flex-direction%3A%20column%3B%20position%3A%20absolute%3B%20top%3A%2028px%3B%20left%3A%20120px%3B%20height%3A%2028px%3B%20width%3A%20120px%7D%0A.css-1pd7flk-ResizableCell%20%7Bdisplay%3A%20flex%3B%20flex-direction%3A%20column%3B%20position%3A%20absolute%3B%20top%3A%2028px%3B%20left%3A%20240px%3B%20height%3A%2028px%3B%20width%3A%20120px%7D%0A.css-eaczoo-ResizableCell%20%7Bdisplay%3A%20flex%3B%20flex-direction%3A%20column%3B%20position%3A%20absolute%3B%20top%3A%2028px%3B%20left%3A%20360px%3B%20height%3A%2028px%3B%20width%3A%20120px%7D%0A.css-ud38eq-ResizableCell%20%7Bdisplay%3A%20flex%3B%20flex-direction%3A%20column%3B%20position%3A%20absolute%3B%20top%3A%2028px%3B%20left%3A%20480px%3B%20height%3A%2028px%3B%20width%3A%20120px%7D%0A.css-1c7sown%20%7Bheight%3A%20133px%3B%20width%3A%20845px%3B%20overflow-x%3A%20auto%3B%20overflow-y%3A%20auto%7D%0A.css-g3npro%20%7Bcursor%3A%20cell%3B%20height%3A%20112px%3B%20overflow-x%3A%20hidden%3B%20overflow-y%3A%20hidden%3B%20position%3A%20relative%3B%20width%3A%20600px%3B%20border-top-width%3A%202px%3B%20border-top-style%3A%20solid%3B%20border-top-color%3A%20rgb(233%2C%20233%2C%20233)%7D%0A*%20%7B-ms-overflow-style%3A%20none%3B%20scrollbar-width%3A%20none%7D%0A*%3A%3A-webkit-scrollbar%20%7Bdisplay%3A%20none%7D%0A.atoti-hidden-in-snapshot%20%7Bdisplay%3A%20none%7D%3C%2Fstyle%3E%3Cdiv%20xmlns%3D%22http%3A%2F%2Fwww.w3.org%2F1999%2Fxhtml%22%20style%3D%22height%3A%20221px%3B%20width%3A%20967px%3B%22%3E%3Cdiv%20class%3D%22ant-root%20css-0%22%3E%3Cdiv%20class%3D%22ant-dropdown-trigger%20css-12ebr42-AWidget%22%3E%3Cdiv%20class%3D%22css-1e3kjgr-Spinner%22%3E%3Cdiv%20class%3D%22css-ck2xzt-Spinner%22%3E%3Cdiv%20class%3D%22ant-spin%20ant-spin-lg%20ant-spin-spinning%22%3E%3Cspan%20class%3D%22ant-spin-dot%20ant-spin-dot-spin%22%3E%3Ci%20class%3D%22ant-spin-dot-item%22%3E%3C%2Fi%3E%3Ci%20class%3D%22ant-spin-dot-item%22%3E%3C%2Fi%3E%3Ci%20class%3D%22ant-spin-dot-item%22%3E%3C%2Fi%3E%3Ci%20class%3D%22ant-spin-dot-item%22%3E%3C%2Fi%3E%3C%2Fspan%3E%3C%2Fdiv%3E%3C%2Fdiv%3E%3Cdiv%20class%3D%22css-1hwl8p1-Table%22%3E%3Cdiv%20tabindex%3D%220%22%20class%3D%22css-14ejcn0-Table%22%3E%3Cdiv%20class%3D%22css-1rxpjm0-ColumnResizeHint%22%3E%3Cdiv%20class%3D%22css-1bk59ax-ColumnResizeHint%22%3E%3C%2Fdiv%3E%3Cdiv%20class%3D%22css-11ly2mg-ColumnResizeHint%22%3E%3C%2Fdiv%3E%3C%2Fdiv%3E%3Cdiv%20class%3D%22css-zhjq44-Table%22%3E%3Cdiv%20class%3D%22css-u4e0tt-Table%22%3E%3Cdiv%20class%3D%22%20css-1c0bag9%22%3E%3Cdiv%20class%3D%22css-1ebmaxq%22%3E%3Cdiv%20class%3D%22css-1hol363-ResizableCell%22%3E%3Cdiv%20class%3D%22aui-table-cell%22%20style%3D%22height%3A%2028px%3B%20left%3A%200px%3B%20top%3A%200px%3B%20width%3A%20115px%3B%20text-align%3A%20left%3B%20font-size%3A%2012px%3B%20padding%3A%204px%204px%203px%3B%20overflow%3A%20hidden%3B%20position%3A%20absolute%3B%20white-space%3A%20nowrap%3B%20text-overflow%3A%20ellipsis%3B%20font-weight%3A%20600%3B%20display%3A%20flex%3B%20align-items%3A%20center%3B%22%3E%3Cspan%3EProduct%20Class%3C%2Fspan%3E%3C%2Fdiv%3E%3Cdiv%20class%3D%22css-xxcrt1-ResizableCell%22%3E%3C%2Fdiv%3E%3C%2Fdiv%3E%3Cdiv%20class%3D%22css-z51yao-ResizableCell%22%3E%3Cdiv%20class%3D%22aui-table-cell%22%20style%3D%22height%3A%2028px%3B%20left%3A%200px%3B%20top%3A%200px%3B%20width%3A%20115px%3B%20text-align%3A%20left%3B%20font-size%3A%2012px%3B%20padding%3A%204px%204px%203px%3B%20overflow%3A%20hidden%3B%20position%3A%20absolute%3B%20white-space%3A%20nowrap%3B%20text-overflow%3A%20ellipsis%3B%20font-weight%3A%20600%3B%20display%3A%20none%3B%20align-items%3A%20center%3B%22%3E%3Cspan%3EProduct%20Class%3C%2Fspan%3E%3C%2Fdiv%3E%3Cdiv%20class%3D%22css-xxcrt1-ResizableCell%22%3E%3C%2Fdiv%3E%3C%2Fdiv%3E%3C%2Fdiv%3E%3C%2Fdiv%3E%3Cdiv%20class%3D%22aui-invisible-scrollbars%20css-1e00uuh%22%3E%3Cdiv%20class%3D%22css-10nsg7u%22%3E%3Cdiv%20style%3D%22display%3A%20flex%3B%20align-items%3A%20center%3B%20height%3A%2028px%3B%20left%3A%200px%3B%20top%3A%200px%3B%20width%3A%20120px%3B%20text-align%3A%20left%3B%20font-size%3A%2012px%3B%20padding%3A%204px%204px%203px%3B%20overflow%3A%20hidden%3B%20position%3A%20absolute%3B%20white-space%3A%20nowrap%3B%20text-overflow%3A%20ellipsis%3B%20background-color%3A%20transparent%3B%20border-right%3A%202px%20solid%20rgb(233%2C%20233%2C%20233)%3B%22%3E%3Cspan%20style%3D%22text-overflow%3A%20ellipsis%3B%20overflow%3A%20hidden%3B%20white-space%3A%20nowrap%3B%20max-width%3A%20calc((100%25%20-%200px)%20-%200px)%3B%22%3ETotal%3C%2Fspan%3E%3C%2Fdiv%3E%3Cdiv%20style%3D%22display%3A%20flex%3B%20align-items%3A%20center%3B%20height%3A%2028px%3B%20left%3A%200px%3B%20top%3A%2028px%3B%20width%3A%20120px%3B%20text-align%3A%20left%3B%20font-size%3A%2012px%3B%20padding%3A%204px%204px%203px%3B%20overflow%3A%20hidden%3B%20position%3A%20absolute%3B%20white-space%3A%20nowrap%3B%20text-overflow%3A%20ellipsis%3B%20background-color%3A%20rgb(250%2C%20250%2C%20250)%3B%20border-right%3A%202px%20solid%20rgb(233%2C%20233%2C%20233)%3B%22%3E%3Cspan%20style%3D%22text-overflow%3A%20ellipsis%3B%20overflow%3A%20hidden%3B%20white-space%3A%20nowrap%3B%20max-width%3A%20calc((100%25%20-%200px)%20-%200px)%3B%22%3EComplementary%3C%2Fspan%3E%3C%2Fdiv%3E%3Cdiv%20style%3D%22display%3A%20flex%3B%20align-items%3A%20center%3B%20height%3A%2028px%3B%20left%3A%200px%3B%20top%3A%2056px%3B%20width%3A%20120px%3B%20text-align%3A%20left%3B%20font-size%3A%2012px%3B%20padding%3A%204px%204px%203px%3B%20overflow%3A%20hidden%3B%20position%3A%20absolute%3B%20white-space%3A%20nowrap%3B%20text-overflow%3A%20ellipsis%3B%20background-color%3A%20transparent%3B%20border-right%3A%202px%20solid%20rgb(233%2C%20233%2C%20233)%3B%22%3E%3Cspan%20style%3D%22text-overflow%3A%20ellipsis%3B%20overflow%3A%20hidden%3B%20white-space%3A%20nowrap%3B%20max-width%3A%20calc((100%25%20-%200px)%20-%200px)%3B%22%3EDriver%3C%2Fspan%3E%3C%2Fdiv%3E%3Cdiv%20style%3D%22display%3A%20flex%3B%20align-items%3A%20center%3B%20height%3A%2028px%3B%20left%3A%200px%3B%20top%3A%2084px%3B%20width%3A%20120px%3B%20text-align%3A%20left%3B%20font-size%3A%2012px%3B%20padding%3A%204px%204px%203px%3B%20overflow%3A%20hidden%3B%20position%3A%20absolute%3B%20white-space%3A%20nowrap%3B%20text-overflow%3A%20ellipsis%3B%20background-color%3A%20rgb(250%2C%20250%2C%20250)%3B%20border-right%3A%202px%20solid%20rgb(233%2C%20233%2C%20233)%3B%22%3E%3Cspan%20style%3D%22text-overflow%3A%20ellipsis%3B%20overflow%3A%20hidden%3B%20white-space%3A%20nowrap%3B%20max-width%3A%20calc((100%25%20-%200px)%20-%200px)%3B%22%3EIndependent%3C%2Fspan%3E%3C%2Fdiv%3E%3C%2Fdiv%3E%3C%2Fdiv%3E%3C%2Fdiv%3E%3Cdiv%20class%3D%22css-sazb3v-Table%22%3E%3Cdiv%20class%3D%22aui-invisible-scrollbars%20css-1hkp0fl%22%3E%3Cdiv%20class%3D%22css-13bp3km%22%3E%3Cdiv%20class%3D%22css-1hol363-ResizableCell%22%3E%3Cdiv%20style%3D%22display%3A%20flex%3B%20align-items%3A%20center%3B%20height%3A%2028px%3B%20left%3A%200px%3B%20top%3A%200px%3B%20width%3A%20115px%3B%20text-align%3A%20left%3B%20font-size%3A%2012px%3B%20padding%3A%204px%204px%203px%3B%20overflow%3A%20hidden%3B%20position%3A%20absolute%3B%20white-space%3A%20nowrap%3B%20text-overflow%3A%20ellipsis%3B%20font-weight%3A%20600%3B%22%3E%3Cspan%20style%3D%22text-overflow%3A%20ellipsis%3B%20overflow%3A%20hidden%3B%20white-space%3A%20nowrap%3B%20max-width%3A%20calc((100%25%20-%200px)%20-%200px)%3B%22%3EPrice%20Index%3C%2Fspan%3E%3C%2Fdiv%3E%3Cdiv%20class%3D%22css-xxcrt1-ResizableCell%22%3E%3C%2Fdiv%3E%3C%2Fdiv%3E%3Cdiv%20class%3D%22css-fpuq48-ResizableCell%22%3E%3Cdiv%20style%3D%22display%3A%20none%3B%20align-items%3A%20center%3B%20height%3A%2028px%3B%20left%3A%200px%3B%20top%3A%200px%3B%20width%3A%20115px%3B%20text-align%3A%20left%3B%20font-size%3A%2012px%3B%20padding%3A%204px%204px%203px%3B%20overflow%3A%20hidden%3B%20position%3A%20absolute%3B%20white-space%3A%20nowrap%3B%20text-overflow%3A%20ellipsis%3B%20font-weight%3A%20600%3B%22%3E%3Cspan%20style%3D%22text-overflow%3A%20ellipsis%3B%20overflow%3A%20hidden%3B%20white-space%3A%20nowrap%3B%20max-width%3A%20calc((100%25%20-%200px)%20-%200px)%3B%22%3EPrice%20Index%3C%2Fspan%3E%3C%2Fdiv%3E%3Cdiv%20class%3D%22css-xxcrt1-ResizableCell%22%3E%3C%2Fdiv%3E%3C%2Fdiv%3E%3Cdiv%20class%3D%22css-3geaec-ResizableCell%22%3E%3Cdiv%20style%3D%22display%3A%20none%3B%20align-items%3A%20center%3B%20height%3A%2028px%3B%20left%3A%200px%3B%20top%3A%200px%3B%20width%3A%20115px%3B%20text-align%3A%20left%3B%20font-size%3A%2012px%3B%20padding%3A%204px%204px%203px%3B%20overflow%3A%20hidden%3B%20position%3A%20absolute%3B%20white-space%3A%20nowrap%3B%20text-overflow%3A%20ellipsis%3B%20font-weight%3A%20600%3B%22%3E%3Cspan%20style%3D%22text-overflow%3A%20ellipsis%3B%20overflow%3A%20hidden%3B%20white-space%3A%20nowrap%3B%20max-width%3A%20calc((100%25%20-%200px)%20-%200px)%3B%22%3EPrice%20Index%3C%2Fspan%3E%3C%2Fdiv%3E%3Cdiv%20class%3D%22css-xxcrt1-ResizableCell%22%3E%3C%2Fdiv%3E%3C%2Fdiv%3E%3Cdiv%20class%3D%22css-9kbkmr-ResizableCell%22%3E%3Cdiv%20style%3D%22display%3A%20none%3B%20align-items%3A%20center%3B%20height%3A%2028px%3B%20left%3A%200px%3B%20top%3A%200px%3B%20width%3A%20115px%3B%20text-align%3A%20left%3B%20font-size%3A%2012px%3B%20padding%3A%204px%204px%203px%3B%20overflow%3A%20hidden%3B%20position%3A%20absolute%3B%20white-space%3A%20nowrap%3B%20text-overflow%3A%20ellipsis%3B%20font-weight%3A%20600%3B%22%3E%3Cspan%20style%3D%22text-overflow%3A%20ellipsis%3B%20overflow%3A%20hidden%3B%20white-space%3A%20nowrap%3B%20max-width%3A%20calc((100%25%20-%200px)%20-%200px)%3B%22%3EPrice%20Index%3C%2Fspan%3E%3C%2Fdiv%3E%3Cdiv%20class%3D%22css-xxcrt1-ResizableCell%22%3E%3C%2Fdiv%3E%3C%2Fdiv%3E%3Cdiv%20class%3D%22css-76qu0m-ResizableCell%22%3E%3Cdiv%20style%3D%22display%3A%20none%3B%20align-items%3A%20center%3B%20height%3A%2028px%3B%20left%3A%200px%3B%20top%3A%200px%3B%20width%3A%20115px%3B%20text-align%3A%20left%3B%20font-size%3A%2012px%3B%20padding%3A%204px%204px%203px%3B%20overflow%3A%20hidden%3B%20position%3A%20absolute%3B%20white-space%3A%20nowrap%3B%20text-overflow%3A%20ellipsis%3B%20font-weight%3A%20600%3B%22%3E%3Cspan%20style%3D%22text-overflow%3A%20ellipsis%3B%20overflow%3A%20hidden%3B%20white-space%3A%20nowrap%3B%20max-width%3A%20calc((100%25%20-%200px)%20-%200px)%3B%22%3EPrice%20Index%3C%2Fspan%3E%3C%2Fdiv%3E%3Cdiv%20class%3D%22css-xxcrt1-ResizableCell%22%3E%3C%2Fdiv%3E%3C%2Fdiv%3E%3Cdiv%20class%3D%22css-z51yao-ResizableCell%22%3E%3Cdiv%20style%3D%22display%3A%20flex%3B%20align-items%3A%20center%3B%20height%3A%2028px%3B%20left%3A%200px%3B%20top%3A%200px%3B%20width%3A%20115px%3B%20text-align%3A%20left%3B%20font-size%3A%2012px%3B%20padding%3A%204px%204px%203px%3B%20overflow%3A%20hidden%3B%20position%3A%20absolute%3B%20white-space%3A%20nowrap%3B%20text-overflow%3A%20ellipsis%3B%20font-weight%3A%20600%3B%22%3E%3Cspan%20style%3D%22text-overflow%3A%20ellipsis%3B%20overflow%3A%20hidden%3B%20white-space%3A%20nowrap%3B%20max-width%3A%20calc((100%25%20-%200px)%20-%2018px)%3B%22%3ETotal%3C%2Fspan%3E%3Csvg%20xmlns%3D%22http%3A%2F%2Fwww.w3.org%2F2000%2Fsvg%22%20viewBox%3D%2264%2064%20896%20896%22%20width%3D%221em%22%20height%3D%221em%22%20fill%3D%22currentColor%22%20style%3D%22cursor%3A%20pointer%3B%20height%3A%20100%25%3B%20margin-left%3A%20auto%3B%22%3E%3Cpath%20d%3D%22M180%20325h76v530a8%208%200%20008%208h56a8%208%200%20008-8V325h76a8%208%200%20006.3-13l-112-141.9a8%208%200%2000-11.2-1.4l-1.4%201.4-112%20141.9a8.1%208.1%200%20006.3%2013zm461.6-109.2v232.3h61.9V127.6h-51.6l-89.7%2091.5%2038.4%2039.6%2041-42.9zm2.4%20615.8c29.6-23.4%2060.2-49.5%2082.5-75.5%2027-31.5%2040.2-61%2040.2-90.2s-12.1-55.8-35.1-73.7c-20.2-15.7-47.6-24.4-77.2-24.4-45.8%200-88.1%2018.9-113.3%2050.5l-4.2%205.3%2037.2%2041%205.9-7c12.9-15.5%2036.4-33.9%2074.9-33.9%2023.2%200%2050.2%2011%2050.2%2042.1%200%2043.5-51.3%2087.7-160.3%20171.5l-3.1%202.4V887H768v-55.4z%22%2F%3E%3C%2Fsvg%3E%3C%2Fdiv%3E%3Cdiv%20class%3D%22css-xxcrt1-ResizableCell%22%3E%3C%2Fdiv%3E%3C%2Fdiv%3E%3Cdiv%20class%3D%22css-10fw2tq-ResizableCell%22%3E%3Cdiv%20style%3D%22display%3A%20flex%3B%20align-items%3A%20center%3B%20height%3A%2028px%3B%20left%3A%200px%3B%20top%3A%200px%3B%20width%3A%20115px%3B%20text-align%3A%20left%3B%20font-size%3A%2012px%3B%20padding%3A%204px%204px%203px%3B%20overflow%3A%20hidden%3B%20position%3A%20absolute%3B%20white-space%3A%20nowrap%3B%20text-overflow%3A%20ellipsis%3B%20font-weight%3A%20600%3B%22%3E%3Cspan%20style%3D%22text-overflow%3A%20ellipsis%3B%20overflow%3A%20hidden%3B%20white-space%3A%20nowrap%3B%20max-width%3A%20calc((100%25%20-%200px)%20-%200px)%3B%22%3ECompetitor%201%3C%2Fspan%3E%3C%2Fdiv%3E%3Cdiv%20class%3D%22css-xxcrt1-ResizableCell%22%3E%3C%2Fdiv%3E%3C%2Fdiv%3E%3Cdiv%20class%3D%22css-1pd7flk-ResizableCell%22%3E%3Cdiv%20style%3D%22display%3A%20flex%3B%20align-items%3A%20center%3B%20height%3A%2028px%3B%20left%3A%200px%3B%20top%3A%200px%3B%20width%3A%20115px%3B%20text-align%3A%20left%3B%20font-size%3A%2012px%3B%20padding%3A%204px%204px%203px%3B%20overflow%3A%20hidden%3B%20position%3A%20absolute%3B%20white-space%3A%20nowrap%3B%20text-overflow%3A%20ellipsis%3B%20font-weight%3A%20600%3B%22%3E%3Cspan%20style%3D%22text-overflow%3A%20ellipsis%3B%20overflow%3A%20hidden%3B%20white-space%3A%20nowrap%3B%20max-width%3A%20calc((100%25%20-%200px)%20-%200px)%3B%22%3ECompetitor%202%3C%2Fspan%3E%3C%2Fdiv%3E%3Cdiv%20class%3D%22css-xxcrt1-ResizableCell%22%3E%3C%2Fdiv%3E%3C%2Fdiv%3E%3Cdiv%20class%3D%22css-eaczoo-ResizableCell%22%3E%3Cdiv%20style%3D%22display%3A%20flex%3B%20align-items%3A%20center%3B%20height%3A%2028px%3B%20left%3A%200px%3B%20top%3A%200px%3B%20width%3A%20115px%3B%20text-align%3A%20left%3B%20font-size%3A%2012px%3B%20padding%3A%204px%204px%203px%3B%20overflow%3A%20hidden%3B%20position%3A%20absolute%3B%20white-space%3A%20nowrap%3B%20text-overflow%3A%20ellipsis%3B%20font-weight%3A%20600%3B%22%3E%3Cspan%20style%3D%22text-overflow%3A%20ellipsis%3B%20overflow%3A%20hidden%3B%20white-space%3A%20nowrap%3B%20max-width%3A%20calc((100%25%20-%200px)%20-%200px)%3B%22%3ECompetitor%203%3C%2Fspan%3E%3C%2Fdiv%3E%3Cdiv%20class%3D%22css-xxcrt1-ResizableCell%22%3E%3C%2Fdiv%3E%3C%2Fdiv%3E%3Cdiv%20class%3D%22css-ud38eq-ResizableCell%22%3E%3Cdiv%20style%3D%22display%3A%20flex%3B%20align-items%3A%20center%3B%20height%3A%2028px%3B%20left%3A%200px%3B%20top%3A%200px%3B%20width%3A%20115px%3B%20text-align%3A%20left%3B%20font-size%3A%2012px%3B%20padding%3A%204px%204px%203px%3B%20overflow%3A%20hidden%3B%20position%3A%20absolute%3B%20white-space%3A%20nowrap%3B%20text-overflow%3A%20ellipsis%3B%20font-weight%3A%20600%3B%22%3E%3Cspan%20style%3D%22text-overflow%3A%20ellipsis%3B%20overflow%3A%20hidden%3B%20white-space%3A%20nowrap%3B%20max-width%3A%20calc((100%25%20-%200px)%20-%200px)%3B%22%3ECompetitor%204%3C%2Fspan%3E%3C%2Fdiv%3E%3Cdiv%20class%3D%22css-xxcrt1-ResizableCell%22%3E%3C%2Fdiv%3E%3C%2Fdiv%3E%3C%2Fdiv%3E%3C%2Fdiv%3E%3Cdiv%20class%3D%22%20css-1c7sown%22%3E%3Cdiv%20class%3D%22css-g3npro%22%3E%3Cdiv%20class%3D%22aui-table-cell%22%20style%3D%22height%3A%2028px%3B%20left%3A%200px%3B%20top%3A%200px%3B%20width%3A%20120px%3B%20text-align%3A%20right%3B%20font-size%3A%2012px%3B%20padding%3A%204px%204px%203px%3B%20overflow%3A%20hidden%3B%20position%3A%20absolute%3B%20white-space%3A%20nowrap%3B%20text-overflow%3A%20ellipsis%3B%20background-color%3A%20transparent%3B%20border-right%3A%201px%20solid%20rgb(233%2C%20233%2C%20233)%3B%22%3E102.48%3C%2Fdiv%3E%3Cdiv%20class%3D%22aui-table-cell%22%20style%3D%22height%3A%2028px%3B%20left%3A%20120px%3B%20top%3A%200px%3B%20width%3A%20120px%3B%20text-align%3A%20right%3B%20font-size%3A%2012px%3B%20padding%3A%204px%204px%203px%3B%20overflow%3A%20hidden%3B%20position%3A%20absolute%3B%20white-space%3A%20nowrap%3B%20text-overflow%3A%20ellipsis%3B%20background-color%3A%20transparent%3B%20border-right%3A%201px%20solid%20rgb(233%2C%20233%2C%20233)%3B%22%3E107.18%3C%2Fdiv%3E%3Cdiv%20class%3D%22aui-table-cell%22%20style%3D%22height%3A%2028px%3B%20left%3A%20240px%3B%20top%3A%200px%3B%20width%3A%20120px%3B%20text-align%3A%20right%3B%20font-size%3A%2012px%3B%20padding%3A%204px%204px%203px%3B%20overflow%3A%20hidden%3B%20position%3A%20absolute%3B%20white-space%3A%20nowrap%3B%20text-overflow%3A%20ellipsis%3B%20background-color%3A%20transparent%3B%20border-right%3A%201px%20solid%20rgb(233%2C%20233%2C%20233)%3B%22%3E95.03%3C%2Fdiv%3E%3Cdiv%20class%3D%22aui-table-cell%22%20style%3D%22height%3A%2028px%3B%20left%3A%20360px%3B%20top%3A%200px%3B%20width%3A%20120px%3B%20text-align%3A%20right%3B%20font-size%3A%2012px%3B%20padding%3A%204px%204px%203px%3B%20overflow%3A%20hidden%3B%20position%3A%20absolute%3B%20white-space%3A%20nowrap%3B%20text-overflow%3A%20ellipsis%3B%20background-color%3A%20transparent%3B%20border-right%3A%201px%20solid%20rgb(233%2C%20233%2C%20233)%3B%22%3E105.61%3C%2Fdiv%3E%3Cdiv%20class%3D%22aui-table-cell%22%20style%3D%22height%3A%2028px%3B%20left%3A%20480px%3B%20top%3A%200px%3B%20width%3A%20120px%3B%20text-align%3A%20right%3B%20font-size%3A%2012px%3B%20padding%3A%204px%204px%203px%3B%20overflow%3A%20hidden%3B%20position%3A%20absolute%3B%20white-space%3A%20nowrap%3B%20text-overflow%3A%20ellipsis%3B%20background-color%3A%20transparent%3B%20border-right%3A%201px%20solid%20rgb(233%2C%20233%2C%20233)%3B%22%3E103.90%3C%2Fdiv%3E%3Cdiv%20class%3D%22aui-table-cell%22%20style%3D%22height%3A%2028px%3B%20left%3A%200px%3B%20top%3A%2028px%3B%20width%3A%20120px%3B%20text-align%3A%20right%3B%20font-size%3A%2012px%3B%20padding%3A%204px%204px%203px%3B%20overflow%3A%20hidden%3B%20position%3A%20absolute%3B%20white-space%3A%20nowrap%3B%20text-overflow%3A%20ellipsis%3B%20background-color%3A%20rgb(250%2C%20250%2C%20250)%3B%20border-right%3A%201px%20solid%20rgb(233%2C%20233%2C%20233)%3B%22%3E103.99%3C%2Fdiv%3E%3Cdiv%20class%3D%22aui-table-cell%22%20style%3D%22height%3A%2028px%3B%20left%3A%20120px%3B%20top%3A%2028px%3B%20width%3A%20120px%3B%20text-align%3A%20right%3B%20font-size%3A%2012px%3B%20padding%3A%204px%204px%203px%3B%20overflow%3A%20hidden%3B%20position%3A%20absolute%3B%20white-space%3A%20nowrap%3B%20text-overflow%3A%20ellipsis%3B%20background-color%3A%20rgb(250%2C%20250%2C%20250)%3B%20border-right%3A%201px%20solid%20rgb(233%2C%20233%2C%20233)%3B%22%3E107.81%3C%2Fdiv%3E%3Cdiv%20class%3D%22aui-table-cell%22%20style%3D%22height%3A%2028px%3B%20left%3A%20240px%3B%20top%3A%2028px%3B%20width%3A%20120px%3B%20text-align%3A%20right%3B%20font-size%3A%2012px%3B%20padding%3A%204px%204px%203px%3B%20overflow%3A%20hidden%3B%20position%3A%20absolute%3B%20white-space%3A%20nowrap%3B%20text-overflow%3A%20ellipsis%3B%20background-color%3A%20rgb(250%2C%20250%2C%20250)%3B%20border-right%3A%201px%20solid%20rgb(233%2C%20233%2C%20233)%3B%22%3E94.80%3C%2Fdiv%3E%3Cdiv%20class%3D%22aui-table-cell%22%20style%3D%22height%3A%2028px%3B%20left%3A%20360px%3B%20top%3A%2028px%3B%20width%3A%20120px%3B%20text-align%3A%20right%3B%20font-size%3A%2012px%3B%20padding%3A%204px%204px%203px%3B%20overflow%3A%20hidden%3B%20position%3A%20absolute%3B%20white-space%3A%20nowrap%3B%20text-overflow%3A%20ellipsis%3B%20background-color%3A%20rgb(250%2C%20250%2C%20250)%3B%20border-right%3A%201px%20solid%20rgb(233%2C%20233%2C%20233)%3B%22%3E107.58%3C%2Fdiv%3E%3Cdiv%20class%3D%22aui-table-cell%22%20style%3D%22height%3A%2028px%3B%20left%3A%20480px%3B%20top%3A%2028px%3B%20width%3A%20120px%3B%20text-align%3A%20right%3B%20font-size%3A%2012px%3B%20padding%3A%204px%204px%203px%3B%20overflow%3A%20hidden%3B%20position%3A%20absolute%3B%20white-space%3A%20nowrap%3B%20text-overflow%3A%20ellipsis%3B%20background-color%3A%20rgb(250%2C%20250%2C%20250)%3B%20border-right%3A%201px%20solid%20rgb(233%2C%20233%2C%20233)%3B%22%3E107.58%3C%2Fdiv%3E%3Cdiv%20class%3D%22aui-table-cell%22%20style%3D%22height%3A%2028px%3B%20left%3A%200px%3B%20top%3A%2056px%3B%20width%3A%20120px%3B%20text-align%3A%20right%3B%20font-size%3A%2012px%3B%20padding%3A%204px%204px%203px%3B%20overflow%3A%20hidden%3B%20position%3A%20absolute%3B%20white-space%3A%20nowrap%3B%20text-overflow%3A%20ellipsis%3B%20background-color%3A%20transparent%3B%20border-right%3A%201px%20solid%20rgb(233%2C%20233%2C%20233)%3B%22%3E103.78%3C%2Fdiv%3E%3Cdiv%20class%3D%22aui-table-cell%22%20style%3D%22height%3A%2028px%3B%20left%3A%20120px%3B%20top%3A%2056px%3B%20width%3A%20120px%3B%20text-align%3A%20right%3B%20font-size%3A%2012px%3B%20padding%3A%204px%204px%203px%3B%20overflow%3A%20hidden%3B%20position%3A%20absolute%3B%20white-space%3A%20nowrap%3B%20text-overflow%3A%20ellipsis%3B%20background-color%3A%20transparent%3B%20border-right%3A%201px%20solid%20rgb(233%2C%20233%2C%20233)%3B%22%3E108.11%3C%2Fdiv%3E%3Cdiv%20class%3D%22aui-table-cell%22%20style%3D%22height%3A%2028px%3B%20left%3A%20240px%3B%20top%3A%2056px%3B%20width%3A%20120px%3B%20text-align%3A%20right%3B%20font-size%3A%2012px%3B%20padding%3A%204px%204px%203px%3B%20overflow%3A%20hidden%3B%20position%3A%20absolute%3B%20white-space%3A%20nowrap%3B%20text-overflow%3A%20ellipsis%3B%20background-color%3A%20transparent%3B%20border-right%3A%201px%20solid%20rgb(233%2C%20233%2C%20233)%3B%22%3E93.09%3C%2Fdiv%3E%3Cdiv%20class%3D%22aui-table-cell%22%20style%3D%22height%3A%2028px%3B%20left%3A%20360px%3B%20top%3A%2056px%3B%20width%3A%20120px%3B%20text-align%3A%20right%3B%20font-size%3A%2012px%3B%20padding%3A%204px%204px%203px%3B%20overflow%3A%20hidden%3B%20position%3A%20absolute%3B%20white-space%3A%20nowrap%3B%20text-overflow%3A%20ellipsis%3B%20background-color%3A%20transparent%3B%20border-right%3A%201px%20solid%20rgb(233%2C%20233%2C%20233)%3B%22%3E108.17%3C%2Fdiv%3E%3Cdiv%20class%3D%22aui-table-cell%22%20style%3D%22height%3A%2028px%3B%20left%3A%20480px%3B%20top%3A%2056px%3B%20width%3A%20120px%3B%20text-align%3A%20right%3B%20font-size%3A%2012px%3B%20padding%3A%204px%204px%203px%3B%20overflow%3A%20hidden%3B%20position%3A%20absolute%3B%20white-space%3A%20nowrap%3B%20text-overflow%3A%20ellipsis%3B%20background-color%3A%20transparent%3B%20border-right%3A%201px%20solid%20rgb(233%2C%20233%2C%20233)%3B%22%3E108.07%3C%2Fdiv%3E%3Cdiv%20class%3D%22aui-table-cell%22%20style%3D%22height%3A%2028px%3B%20left%3A%200px%3B%20top%3A%2084px%3B%20width%3A%20120px%3B%20text-align%3A%20right%3B%20font-size%3A%2012px%3B%20padding%3A%204px%204px%203px%3B%20overflow%3A%20hidden%3B%20position%3A%20absolute%3B%20white-space%3A%20nowrap%3B%20text-overflow%3A%20ellipsis%3B%20background-color%3A%20rgb(250%2C%20250%2C%20250)%3B%20border-right%3A%201px%20solid%20rgb(233%2C%20233%2C%20233)%3B%22%3E99.48%3C%2Fdiv%3E%3Cdiv%20class%3D%22aui-table-cell%22%20style%3D%22height%3A%2028px%3B%20left%3A%20120px%3B%20top%3A%2084px%3B%20width%3A%20120px%3B%20text-align%3A%20right%3B%20font-size%3A%2012px%3B%20padding%3A%204px%204px%203px%3B%20overflow%3A%20hidden%3B%20position%3A%20absolute%3B%20white-space%3A%20nowrap%3B%20text-overflow%3A%20ellipsis%3B%20background-color%3A%20rgb(250%2C%20250%2C%20250)%3B%20border-right%3A%201px%20solid%20rgb(233%2C%20233%2C%20233)%3B%22%3E105.43%3C%2Fdiv%3E%3Cdiv%20class%3D%22aui-table-cell%22%20style%3D%22height%3A%2028px%3B%20left%3A%20240px%3B%20top%3A%2084px%3B%20width%3A%20120px%3B%20text-align%3A%20right%3B%20font-size%3A%2012px%3B%20padding%3A%204px%204px%203px%3B%20overflow%3A%20hidden%3B%20position%3A%20absolute%3B%20white-space%3A%20nowrap%3B%20text-overflow%3A%20ellipsis%3B%20background-color%3A%20rgb(250%2C%20250%2C%20250)%3B%20border-right%3A%201px%20solid%20rgb(233%2C%20233%2C%20233)%3B%22%3E97.71%3C%2Fdiv%3E%3Cdiv%20class%3D%22aui-table-cell%22%20style%3D%22height%3A%2028px%3B%20left%3A%20360px%3B%20top%3A%2084px%3B%20width%3A%20120px%3B%20text-align%3A%20right%3B%20font-size%3A%2012px%3B%20padding%3A%204px%204px%203px%3B%20overflow%3A%20hidden%3B%20position%3A%20absolute%3B%20white-space%3A%20nowrap%3B%20text-overflow%3A%20ellipsis%3B%20background-color%3A%20rgb(250%2C%20250%2C%20250)%3B%20border-right%3A%201px%20solid%20rgb(233%2C%20233%2C%20233)%3B%22%3E100.57%3C%2Fdiv%3E%3Cdiv%20class%3D%22aui-table-cell%22%20style%3D%22height%3A%2028px%3B%20left%3A%20480px%3B%20top%3A%2084px%3B%20width%3A%20120px%3B%20text-align%3A%20right%3B%20font-size%3A%2012px%3B%20padding%3A%204px%204px%203px%3B%20overflow%3A%20hidden%3B%20position%3A%20absolute%3B%20white-space%3A%20nowrap%3B%20text-overflow%3A%20ellipsis%3B%20background-color%3A%20rgb(250%2C%20250%2C%20250)%3B%20border-right%3A%201px%20solid%20rgb(233%2C%20233%2C%20233)%3B%22%3E95.30%3C%2Fdiv%3E%3C%2Fdiv%3E%3C%2Fdiv%3E%3C%2Fdiv%3E%3C%2Fdiv%3E%3C%2Fdiv%3E%3Cdiv%20class%3D%22css-1uww2vi-Table%22%3E%3C%2Fdiv%3E%3C%2Fdiv%3E%3C%2Fdiv%3E%3C%2Fdiv%3E%3C%2Fdiv%3E%3C%2Fdiv%3E%3C%2FforeignObject%3E%3C%2Fsvg%3E\">"
      ],
      "text/plain": [
       "Open the notebook in JupyterLab with the atoti extension enabled to build this widget."
      ]
     },
     "metadata": {},
     "output_type": "display_data"
    }
   ],
   "source": [
    "session.visualize(\"Price index per competitor\")"
   ]
  },
  {
   "cell_type": "markdown",
   "metadata": {},
   "source": [
    "## Simulate Price Strategies"
   ]
  },
  {
   "cell_type": "markdown",
   "metadata": {},
   "source": [
    "Complementary products are usually less expensive than those of the other two categories and people tend to ignore their price. This means that an increase in price does not necessarily mean a drop in sales.  \n",
    "\n",
    "### Parameter simulation\n",
    "\n",
    "In a first simulation we will try to assess how much margin we can make if we increase their price by 10%."
   ]
  },
  {
   "cell_type": "markdown",
   "metadata": {},
   "source": [
    "To do this we create a simulation against Class and ProductId levels and specify that we need to multiply by 1.1 each selling price. All KPIs defined previously such as the price index will be re-computed on the fly which will enable us to compare scenarios and their benefits."
   ]
  },
  {
   "cell_type": "code",
   "execution_count": 40,
   "metadata": {},
   "outputs": [],
   "source": [
    "price_strategies = cube.create_parameter_simulation(\n",
    "    \"Price Strategies\",\n",
    "    measures={\"Selling price parameter\": 1.0},\n",
    "    levels=[lvl[\"Product Class\"], lvl[\"ProductId\"]],\n",
    ")"
   ]
  },
  {
   "cell_type": "markdown",
   "metadata": {},
   "source": [
    "Let's create a measure `Selling price` that scales the `SellingPrice.VALUE` by `Selling price parameter`. "
   ]
  },
  {
   "cell_type": "code",
   "execution_count": 41,
   "metadata": {},
   "outputs": [],
   "source": [
    "m[\"Selling price\"] = m[\"SellingPrice.VALUE\"] * m[\"Selling price parameter\"]"
   ]
  },
  {
   "cell_type": "markdown",
   "metadata": {},
   "source": [
    "Thereafter, let's update the definition of the `Margin.SUM`, `SellingPrice.MEAN` and `PurchasePrice.MEAN` with this new measure instead of `SellingPrice.VALUE`."
   ]
  },
  {
   "cell_type": "code",
   "execution_count": 42,
   "metadata": {},
   "outputs": [],
   "source": [
    "m[\"Margin.SUM\"] = tt.agg.sum(\n",
    "    (m[\"Selling price\"] - m[\"PurchasePrice.VALUE\"]) * m[\"num_purchase\"],\n",
    "    scope=tt.scope.origin(lvl[\"ProductId\"]),\n",
    ")\n",
    "\n",
    "m[\"SellingPrice.MEAN\"] = tt.agg.mean(\n",
    "    m[\"Selling price\"], scope=tt.scope.origin(lvl[\"ProductId\"])\n",
    ")\n",
    "\n",
    "m[\"PurchasePrice.MEAN\"] = tt.agg.mean(\n",
    "    m[\"Selling price\"], scope=tt.scope.origin(lvl[\"ProductId\"])\n",
    ")"
   ]
  },
  {
   "cell_type": "markdown",
   "metadata": {},
   "source": [
    "Below is a scenario named `10% complementary increase`. By providing a value of \"None\" to the `ProductId` parameter implies that under the `Product Class`, all the \"Complementary\" products will have its selling price multiplied by the `Selling price parameter` of value \"1.1\"."
   ]
  },
  {
   "cell_type": "code",
   "execution_count": 43,
   "metadata": {},
   "outputs": [],
   "source": [
    "price_strategies += (\"10% complementary increase\", \"Complementary\", None, 1.1)"
   ]
  },
  {
   "cell_type": "markdown",
   "metadata": {},
   "source": [
    "We can see below that this represents a gain of 203 million per year, while increasing the index dramatically from 99.49 to 109.44."
   ]
  },
  {
   "cell_type": "code",
   "execution_count": 44,
   "metadata": {
    "atoti": {
     "height": 263,
     "widget": {
      "mapping": {
       "columns": [
        "[Price Strategies].[Price Strategies].[Price Strategies]",
        "ALL_MEASURES"
       ],
       "measures": [
        "[Measures].[Margin Delta]",
        "[Measures].[Margin.SUM]",
        "[Measures].[Price Index Delta]",
        "[Measures].[Price Index]"
       ],
       "rows": [
        "[classified_products].[Product Class].[Product Class]"
       ]
      },
      "name": "Comparison of the two scenarios per product class",
      "query": {
       "context": {
        "queriesResultLimit.intermediateSize": 1000000,
        "queriesResultLimit.transientSize": 10000000
       },
       "mdx": "WITH  Member [Measures].[Margin Delta] AS [Measures].[Margin.SUM] - ([Measures].[Margin.SUM]), FORE_COLOR = CASE WHEN [Measures].[Margin Delta] > 0 THEN rgb(44, 160, 44) WHEN [Measures].[Margin Delta] < 0 THEN rgb(224, 102, 102) END, FONT_FLAGS = CASE WHEN [Measures].[Margin Delta] > 0 THEN 1 WHEN [Measures].[Margin Delta] < 0 THEN 1 END, FORMAT_STRING = \"#,###.##\"    Member [Measures].[Price Index Delta] AS [Measures].[Price Index] - ([Measures].[Price Index]), FORE_COLOR = CASE WHEN [Measures].[Price Index Delta] < 0 THEN rgb(44, 160, 44) WHEN [Measures].[Price Index Delta] > 0 THEN rgb(224, 102, 102) END, FONT_FLAGS = CASE WHEN [Measures].[Price Index Delta] < 0 THEN 1 WHEN [Measures].[Price Index Delta] > 0 THEN 1 END, FORMAT_STRING = \"#,###.##\"  SELECT NON EMPTY Union(Hierarchize(DrilldownLevel([classified_products].[Product Class].[ALL].[AllMember])), Hierarchize(Descendants({[classified_products].[Product Class].[AllMember]}, 1, SELF_AND_BEFORE))) ON ROWS, NON EMPTY Crossjoin([Price Strategies].[Price Strategies].[Price Strategies].Members, {[Measures].[Price Index], [Measures].[Margin.SUM], [Measures].[Margin Delta], [Measures].[Price Index Delta]}) ON COLUMNS FROM [products_cube] CELL PROPERTIES BACK_COLOR, FONT_FLAGS, FORE_COLOR, FORMATTED_VALUE, VALUE",
       "updateMode": "once"
      },
      "serverKey": "default",
      "widgetKey": "pivot-table"
     }
    },
    "tags": []
   },
   "outputs": [
    {
     "data": {
      "application/vnd.atoti.widget.v0+json": {
       "name": "Comparison of the two scenarios per product class",
       "sessionId": "1648808159_SOX2DY",
       "sessionLocation": {
        "https": null,
        "port": 1111
       },
       "widgetCreationCode": "session.visualize()"
      },
      "text/html": [
       "<img src=\"data:image/svg+xml;charset=utf8,%3C%3Fxml%20version%3D%221.0%22%20standalone%3D%22no%22%3F%3E%3Csvg%20xmlns%3D%22http%3A%2F%2Fwww.w3.org%2F2000%2Fsvg%22%20height%3D%22255%22%20width%3D%22967%22%3E%3CforeignObject%20width%3D%22100%25%22%20height%3D%22100%25%22%20x%3D%220%22%20y%3D%220%22%3E%3Cstyle%20xmlns%3D%22http%3A%2F%2Fwww.w3.org%2F1999%2Fxhtml%22%20type%3D%22text%2Fcss%22%3E*%2C%20%3A%3Abefore%2C%20%3A%3Aafter%20%7Bbox-sizing%3A%20unset%7D%0A.ant-root%20%5Bclass%5E%3D%22ant-%22%5D%2C%20.ant-root%20%5Bclass*%3D%22ant-%22%5D%2C%20.ant-root%20%5Bclass%5E%3D%22ant-%22%5D%20*%2C%20.ant-root%20%5Bclass*%3D%22ant-%22%5D%20*%2C%20.ant-root%20%5Bclass%5E%3D%22ant-%22%5D%20%3A%3Abefore%2C%20.ant-root%20%5Bclass*%3D%22ant-%22%5D%20%3A%3Abefore%2C%20.ant-root%20%5Bclass%5E%3D%22ant-%22%5D%20%3A%3Aafter%2C%20.ant-root%20%5Bclass*%3D%22ant-%22%5D%20%3A%3Aafter%20%7Bbox-sizing%3A%20border-box%7D%0A.ant-root%20html%2C%20.ant-root%20%7Bwidth%3A%20100%25%3B%20height%3A%20100%25%7D%0A.ant-root%20*%2C%20.ant-root%20%3A%3Abefore%2C%20.ant-root%20%3A%3Aafter%20%7Bbox-sizing%3A%20border-box%7D%0A.ant-root%20%7Bmargin-top%3A%200px%3B%20margin-right%3A%200px%3B%20margin-bottom%3A%200px%3B%20margin-left%3A%200px%3B%20color%3A%20rgb(89%2C%2089%2C%2089)%3B%20font-size%3A%2012px%3B%20font-family%3A%20-apple-system%2C%20BlinkMacSystemFont%2C%20%22Segoe%20UI%22%2C%20Roboto%2C%20%22Helvetica%20Neue%22%2C%20Arial%2C%20%22Noto%20Sans%22%2C%20sans-serif%2C%20%22Apple%20Color%20Emoji%22%2C%20%22Segoe%20UI%20Emoji%22%2C%20%22Segoe%20UI%20Symbol%22%2C%20%22Noto%20Color%20Emoji%22%3B%20font-variant-ligatures%3A%20normal%3B%20font-variant-numeric%3A%20tabular-nums%3B%20font-variant-east-asian%3A%20normal%3B%20font-variant-caps%3A%20normal%3B%20line-height%3A%201.66667%3B%20background-color%3A%20rgb(255%2C%20255%2C%20255)%3B%20--antd-wave-shadow-color%3A%20%20%231890FF%3B%20--scroll-bar%3A%20%200%7D%0A.ant-root%20.ant-spin%20%7Bbox-sizing%3A%20border-box%3B%20margin-top%3A%200px%3B%20margin-right%3A%200px%3B%20margin-bottom%3A%200px%3B%20margin-left%3A%200px%3B%20padding-top%3A%200px%3B%20padding-right%3A%200px%3B%20padding-bottom%3A%200px%3B%20padding-left%3A%200px%3B%20font-size%3A%2012px%3B%20font-variant-ligatures%3A%20normal%3B%20font-variant-numeric%3A%20tabular-nums%3B%20font-variant-east-asian%3A%20normal%3B%20font-variant-caps%3A%20normal%3B%20line-height%3A%201.66667%3B%20list-style-position%3A%20initial%3B%20list-style-image%3A%20initial%3B%20list-style-type%3A%20none%3B%20position%3A%20absolute%3B%20display%3A%20none%3B%20color%3A%20rgb(24%2C%20144%2C%20255)%3B%20text-align%3A%20center%3B%20vertical-align%3A%20middle%3B%20opacity%3A%200%3B%20transition-duration%3A%200.3s%3B%20transition-timing-function%3A%20cubic-bezier(0.78%2C%200.14%2C%200.15%2C%200.86)%3B%20transition-delay%3A%200s%3B%20transition-property%3A%20transform%7D%0A.ant-root%20.ant-spin-spinning%20%7Bposition%3A%20static%3B%20display%3A%20inline-block%3B%20opacity%3A%201%7D%0A.ant-root%20.ant-spin-dot%20%7Bposition%3A%20relative%3B%20display%3A%20inline-block%3B%20font-size%3A%2020px%3B%20width%3A%201em%3B%20height%3A%201em%7D%0A.ant-root%20.ant-spin-dot-item%20%7Bposition%3A%20absolute%3B%20display%3A%20block%3B%20width%3A%209px%3B%20height%3A%209px%3B%20background-color%3A%20rgb(24%2C%20144%2C%20255)%3B%20border-top-left-radius%3A%20100%25%3B%20border-top-right-radius%3A%20100%25%3B%20border-bottom-right-radius%3A%20100%25%3B%20border-bottom-left-radius%3A%20100%25%3B%20transform%3A%20scale(0.75)%3B%20transform-origin%3A%2050%25%2050%25%3B%20opacity%3A%200.3%3B%20animation-duration%3A%201s%3B%20animation-timing-function%3A%20linear%3B%20animation-delay%3A%200s%3B%20animation-iteration-count%3A%20infinite%3B%20animation-direction%3A%20alternate%3B%20animation-fill-mode%3A%20none%3B%20animation-play-state%3A%20running%3B%20animation-name%3A%20antSpinMove%7D%0A.ant-root%20.ant-spin-dot-item%3Anth-child(1)%20%7Btop%3A%200px%3B%20left%3A%200px%7D%0A.ant-root%20.ant-spin-dot-item%3Anth-child(2)%20%7Btop%3A%200px%3B%20right%3A%200px%3B%20animation-delay%3A%200.4s%7D%0A.ant-root%20.ant-spin-dot-item%3Anth-child(3)%20%7Bright%3A%200px%3B%20bottom%3A%200px%3B%20animation-delay%3A%200.8s%7D%0A.ant-root%20.ant-spin-dot-item%3Anth-child(4)%20%7Bbottom%3A%200px%3B%20left%3A%200px%3B%20animation-delay%3A%201.2s%7D%0A.ant-root%20.ant-spin-dot-spin%20%7Btransform%3A%20rotate(45deg)%3B%20animation-duration%3A%201.2s%3B%20animation-timing-function%3A%20linear%3B%20animation-delay%3A%200s%3B%20animation-iteration-count%3A%20infinite%3B%20animation-direction%3A%20normal%3B%20animation-fill-mode%3A%20none%3B%20animation-play-state%3A%20running%3B%20animation-name%3A%20antRotate%7D%0A.ant-root%20.ant-spin-lg%20.ant-spin-dot%20%7Bfont-size%3A%2032px%7D%0A.ant-root%20.ant-spin-lg%20.ant-spin-dot%20i%20%7Bwidth%3A%2014px%3B%20height%3A%2014px%7D%0A.ant-root%20.aui-invisible-scrollbars%20%7B%7D%0A.css-12ebr42-AWidget%20%7Bheight%3A%20100%25%7D%0A.css-ck2xzt-Spinner%20%7B-webkit-box-align%3A%20center%3B%20align-items%3A%20center%3B%20background-image%3A%20initial%3B%20background-position-x%3A%20initial%3B%20background-position-y%3A%20initial%3B%20background-size%3A%20initial%3B%20background-repeat-x%3A%20initial%3B%20background-repeat-y%3A%20initial%3B%20background-attachment%3A%20initial%3B%20background-origin%3A%20initial%3B%20background-clip%3A%20initial%3B%20background-color%3A%20transparent%3B%20display%3A%20flex%3B%20height%3A%20100%25%3B%20-webkit-box-pack%3A%20center%3B%20justify-content%3A%20center%3B%20position%3A%20absolute%3B%20transition-duration%3A%20300ms%3B%20transition-timing-function%3A%20ease%3B%20transition-delay%3A%200s%3B%20transition-property%3A%20opacity%3B%20width%3A%20100%25%3B%20opacity%3A%200%3B%20pointer-events%3A%20none%3B%20z-index%3A%202%7D%0A.css-1e3kjgr-Spinner%20%7Bheight%3A%20100%25%3B%20position%3A%20relative%7D%0A.css-1hwl8p1-Table%20%7Bpadding-bottom%3A%202px%3B%20padding-right%3A%202px%3B%20height%3A%20100%25%7D%0A.css-14ejcn0-Table%20%7Bheight%3A%20calc(100%25%20-%2030px)%3B%20outline-color%3A%20initial%3B%20outline-style%3A%20none%3B%20outline-width%3A%20initial%3B%20position%3A%20relative%7D%0A.css-1rxpjm0-ColumnResizeHint%20%7Bdisplay%3A%20none%3B%20position%3A%20absolute%3B%20z-index%3A%201%7D%0A.css-1uww2vi-Table%20%7Bheight%3A%2030px%3B%20text-align%3A%20right%3B%20padding-right%3A%2025px%7D%0A.css-1hol363-ResizableCell%20%7Bdisplay%3A%20flex%3B%20flex-direction%3A%20column%3B%20position%3A%20absolute%3B%20top%3A%200px%3B%20left%3A%200px%3B%20height%3A%2028px%3B%20width%3A%20120px%7D%0A.css-xxcrt1-ResizableCell%20%7Bbackground-image%3A%20initial%3B%20background-position-x%3A%20initial%3B%20background-position-y%3A%20initial%3B%20background-size%3A%20initial%3B%20background-repeat-x%3A%20initial%3B%20background-repeat-y%3A%20initial%3B%20background-attachment%3A%20initial%3B%20background-origin%3A%20initial%3B%20background-clip%3A%20initial%3B%20background-color%3A%20transparent%3B%20cursor%3A%20col-resize%3B%20height%3A%20100%25%3B%20position%3A%20absolute%3B%20right%3A%200px%3B%20width%3A%205px%3B%20z-index%3A%201%7D%0A.css-fpuq48-ResizableCell%20%7Bdisplay%3A%20flex%3B%20flex-direction%3A%20column%3B%20position%3A%20absolute%3B%20top%3A%200px%3B%20left%3A%20120px%3B%20height%3A%2028px%3B%20width%3A%20120px%7D%0A.css-3geaec-ResizableCell%20%7Bdisplay%3A%20flex%3B%20flex-direction%3A%20column%3B%20position%3A%20absolute%3B%20top%3A%200px%3B%20left%3A%20240px%3B%20height%3A%2028px%3B%20width%3A%20120px%7D%0A.css-9kbkmr-ResizableCell%20%7Bdisplay%3A%20flex%3B%20flex-direction%3A%20column%3B%20position%3A%20absolute%3B%20top%3A%200px%3B%20left%3A%20360px%3B%20height%3A%2028px%3B%20width%3A%20120px%7D%0A.css-1bk59ax-ColumnResizeHint%20%7Bheight%3A%2056px%3B%20background-color%3A%20rgb(24%2C%20144%2C%20255)%3B%20width%3A%205px%7D%0A.css-u4e0tt-Table%20%7Bborder-collapse%3A%20collapse%3B%20height%3A%2056px%3B%20width%3A%20120px%7D%0A.css-1c0bag9%20%7Bheight%3A%2056px%3B%20width%3A%20120px%7D%0A.css-1ebmaxq%20%7Bcursor%3A%20cell%3B%20height%3A%2056px%3B%20overflow-x%3A%20hidden%3B%20overflow-y%3A%20hidden%3B%20position%3A%20relative%3B%20width%3A%20120px%3B%20border-right-width%3A%202px%3B%20border-right-style%3A%20solid%3B%20border-right-color%3A%20rgb(233%2C%20233%2C%20233)%7D%0A.css-z51yao-ResizableCell%20%7Bdisplay%3A%20flex%3B%20flex-direction%3A%20column%3B%20position%3A%20absolute%3B%20top%3A%2028px%3B%20left%3A%200px%3B%20height%3A%2028px%3B%20width%3A%20120px%7D%0A.css-10nsg7u%20%7Bcursor%3A%20cell%3B%20height%3A%20112px%3B%20overflow-x%3A%20hidden%3B%20overflow-y%3A%20hidden%3B%20position%3A%20relative%3B%20width%3A%20120px%3B%20border-top-width%3A%202px%3B%20border-top-style%3A%20solid%3B%20border-top-color%3A%20rgb(233%2C%20233%2C%20233)%3B%20border-right-width%3A%202px%3B%20border-right-style%3A%20solid%3B%20border-right-color%3A%20rgb(233%2C%20233%2C%20233)%7D%0A.css-sazb3v-Table%20%7Bwidth%3A%20845px%3B%20border-collapse%3A%20collapse%7D%0A.css-1hkp0fl%20%7Bheight%3A%2056px%3B%20width%3A%20827px%3B%20overflow-x%3A%20auto%3B%20overflow-y%3A%20hidden%7D%0A.css-76qu0m-ResizableCell%20%7Bdisplay%3A%20flex%3B%20flex-direction%3A%20column%3B%20position%3A%20absolute%3B%20top%3A%200px%3B%20left%3A%20480px%3B%20height%3A%2028px%3B%20width%3A%20120px%7D%0A.css-10fw2tq-ResizableCell%20%7Bdisplay%3A%20flex%3B%20flex-direction%3A%20column%3B%20position%3A%20absolute%3B%20top%3A%2028px%3B%20left%3A%20120px%3B%20height%3A%2028px%3B%20width%3A%20120px%7D%0A.css-1pd7flk-ResizableCell%20%7Bdisplay%3A%20flex%3B%20flex-direction%3A%20column%3B%20position%3A%20absolute%3B%20top%3A%2028px%3B%20left%3A%20240px%3B%20height%3A%2028px%3B%20width%3A%20120px%7D%0A.css-eaczoo-ResizableCell%20%7Bdisplay%3A%20flex%3B%20flex-direction%3A%20column%3B%20position%3A%20absolute%3B%20top%3A%2028px%3B%20left%3A%20360px%3B%20height%3A%2028px%3B%20width%3A%20120px%7D%0A.css-ud38eq-ResizableCell%20%7Bdisplay%3A%20flex%3B%20flex-direction%3A%20column%3B%20position%3A%20absolute%3B%20top%3A%2028px%3B%20left%3A%20480px%3B%20height%3A%2028px%3B%20width%3A%20120px%7D%0A.css-m6wmil-ColumnResizeHint%20%7Bdisplay%3A%20none%3B%20float%3A%20right%3B%20height%3A%20167px%3B%20background-color%3A%20rgb(24%2C%20144%2C%20255)%3B%20opacity%3A%200.4%3B%20width%3A%202px%7D%0A.css-1h64muu-Table%20%7Bdisplay%3A%20flex%3B%20height%3A%20223px%7D%0A.css-1mhees8%20%7Bcursor%3A%20cell%3B%20height%3A%2056px%3B%20overflow-x%3A%20hidden%3B%20overflow-y%3A%20hidden%3B%20position%3A%20relative%3B%20width%3A%20960px%7D%0A.css-1h9kznl-ResizableCell%20%7Bdisplay%3A%20flex%3B%20flex-direction%3A%20column%3B%20position%3A%20absolute%3B%20top%3A%200px%3B%20left%3A%20600px%3B%20height%3A%2028px%3B%20width%3A%20120px%7D%0A.css-3vd2qh-ResizableCell%20%7Bdisplay%3A%20flex%3B%20flex-direction%3A%20column%3B%20position%3A%20absolute%3B%20top%3A%200px%3B%20left%3A%20720px%3B%20height%3A%2028px%3B%20width%3A%20120px%7D%0A.css-1hcg36z-ResizableCell%20%7Bdisplay%3A%20flex%3B%20flex-direction%3A%20column%3B%20position%3A%20absolute%3B%20top%3A%200px%3B%20left%3A%20840px%3B%20height%3A%2028px%3B%20width%3A%20120px%7D%0A.css-1ipcw93-ResizableCell%20%7Bdisplay%3A%20flex%3B%20flex-direction%3A%20column%3B%20position%3A%20absolute%3B%20top%3A%2028px%3B%20left%3A%20600px%3B%20height%3A%2028px%3B%20width%3A%20120px%7D%0A.css-10cfvm3-ResizableCell%20%7Bdisplay%3A%20flex%3B%20flex-direction%3A%20column%3B%20position%3A%20absolute%3B%20top%3A%2028px%3B%20left%3A%20720px%3B%20height%3A%2028px%3B%20width%3A%20120px%7D%0A.css-l83k0q-ResizableCell%20%7Bdisplay%3A%20flex%3B%20flex-direction%3A%20column%3B%20position%3A%20absolute%3B%20top%3A%2028px%3B%20left%3A%20840px%3B%20height%3A%2028px%3B%20width%3A%20120px%7D%0A.css-1uy195n%20%7Bheight%3A%20167px%3B%20width%3A%20845px%3B%20overflow-x%3A%20auto%3B%20overflow-y%3A%20auto%7D%0A.css-1kgot1z%20%7Bcursor%3A%20cell%3B%20height%3A%20112px%3B%20overflow-x%3A%20hidden%3B%20overflow-y%3A%20hidden%3B%20position%3A%20relative%3B%20width%3A%20960px%3B%20border-top-width%3A%202px%3B%20border-top-style%3A%20solid%3B%20border-top-color%3A%20rgb(233%2C%20233%2C%20233)%7D%0A.css-s8nf3k%20%7Bheight%3A%20149px%3B%20width%3A%20120px%3B%20overflow-x%3A%20hidden%3B%20overflow-y%3A%20auto%7D%0A*%20%7B-ms-overflow-style%3A%20none%3B%20scrollbar-width%3A%20none%7D%0A*%3A%3A-webkit-scrollbar%20%7Bdisplay%3A%20none%7D%0A.atoti-hidden-in-snapshot%20%7Bdisplay%3A%20none%7D%3C%2Fstyle%3E%3Cdiv%20xmlns%3D%22http%3A%2F%2Fwww.w3.org%2F1999%2Fxhtml%22%20style%3D%22height%3A%20255px%3B%20width%3A%20967px%3B%22%3E%3Cdiv%20class%3D%22ant-root%20css-0%22%3E%3Cdiv%20class%3D%22ant-dropdown-trigger%20css-12ebr42-AWidget%22%3E%3Cdiv%20class%3D%22css-1e3kjgr-Spinner%22%3E%3Cdiv%20class%3D%22css-ck2xzt-Spinner%22%3E%3Cdiv%20class%3D%22ant-spin%20ant-spin-lg%20ant-spin-spinning%22%3E%3Cspan%20class%3D%22ant-spin-dot%20ant-spin-dot-spin%22%3E%3Ci%20class%3D%22ant-spin-dot-item%22%3E%3C%2Fi%3E%3Ci%20class%3D%22ant-spin-dot-item%22%3E%3C%2Fi%3E%3Ci%20class%3D%22ant-spin-dot-item%22%3E%3C%2Fi%3E%3Ci%20class%3D%22ant-spin-dot-item%22%3E%3C%2Fi%3E%3C%2Fspan%3E%3C%2Fdiv%3E%3C%2Fdiv%3E%3Cdiv%20class%3D%22css-1hwl8p1-Table%22%3E%3Cdiv%20tabindex%3D%220%22%20class%3D%22css-14ejcn0-Table%22%3E%3Cdiv%20class%3D%22css-1rxpjm0-ColumnResizeHint%22%3E%3Cdiv%20class%3D%22css-1bk59ax-ColumnResizeHint%22%3E%3C%2Fdiv%3E%3Cdiv%20class%3D%22css-m6wmil-ColumnResizeHint%22%3E%3C%2Fdiv%3E%3C%2Fdiv%3E%3Cdiv%20class%3D%22css-1h64muu-Table%22%3E%3Cdiv%20class%3D%22css-u4e0tt-Table%22%3E%3Cdiv%20class%3D%22%20css-1c0bag9%22%3E%3Cdiv%20class%3D%22css-1ebmaxq%22%3E%3Cdiv%20class%3D%22css-1hol363-ResizableCell%22%3E%3Cdiv%20class%3D%22aui-table-cell%22%20style%3D%22height%3A%2028px%3B%20left%3A%200px%3B%20top%3A%200px%3B%20width%3A%20115px%3B%20text-align%3A%20left%3B%20font-size%3A%2012px%3B%20padding%3A%204px%204px%203px%3B%20overflow%3A%20hidden%3B%20position%3A%20absolute%3B%20white-space%3A%20nowrap%3B%20text-overflow%3A%20ellipsis%3B%20font-weight%3A%20600%3B%20display%3A%20flex%3B%20align-items%3A%20center%3B%22%3E%3Cspan%3EProduct%20Class%3C%2Fspan%3E%3C%2Fdiv%3E%3Cdiv%20class%3D%22css-xxcrt1-ResizableCell%22%3E%3C%2Fdiv%3E%3C%2Fdiv%3E%3Cdiv%20class%3D%22css-z51yao-ResizableCell%22%3E%3Cdiv%20class%3D%22aui-table-cell%22%20style%3D%22height%3A%2028px%3B%20left%3A%200px%3B%20top%3A%200px%3B%20width%3A%20115px%3B%20text-align%3A%20left%3B%20font-size%3A%2012px%3B%20padding%3A%204px%204px%203px%3B%20overflow%3A%20hidden%3B%20position%3A%20absolute%3B%20white-space%3A%20nowrap%3B%20text-overflow%3A%20ellipsis%3B%20font-weight%3A%20600%3B%20display%3A%20none%3B%20align-items%3A%20center%3B%22%3E%3Cspan%3EProduct%20Class%3C%2Fspan%3E%3C%2Fdiv%3E%3Cdiv%20class%3D%22css-xxcrt1-ResizableCell%22%3E%3C%2Fdiv%3E%3C%2Fdiv%3E%3C%2Fdiv%3E%3C%2Fdiv%3E%3Cdiv%20class%3D%22aui-invisible-scrollbars%20css-s8nf3k%22%3E%3Cdiv%20class%3D%22css-10nsg7u%22%3E%3Cdiv%20style%3D%22display%3A%20flex%3B%20align-items%3A%20center%3B%20height%3A%2028px%3B%20left%3A%200px%3B%20top%3A%200px%3B%20width%3A%20120px%3B%20text-align%3A%20left%3B%20font-size%3A%2012px%3B%20padding%3A%204px%204px%203px%3B%20overflow%3A%20hidden%3B%20position%3A%20absolute%3B%20white-space%3A%20nowrap%3B%20text-overflow%3A%20ellipsis%3B%20background-color%3A%20transparent%3B%20border-right%3A%202px%20solid%20rgb(233%2C%20233%2C%20233)%3B%22%3E%3Cspan%20style%3D%22text-overflow%3A%20ellipsis%3B%20overflow%3A%20hidden%3B%20white-space%3A%20nowrap%3B%20max-width%3A%20calc((100%25%20-%200px)%20-%200px)%3B%22%3ETotal%3C%2Fspan%3E%3C%2Fdiv%3E%3Cdiv%20style%3D%22display%3A%20flex%3B%20align-items%3A%20center%3B%20height%3A%2028px%3B%20left%3A%200px%3B%20top%3A%2028px%3B%20width%3A%20120px%3B%20text-align%3A%20left%3B%20font-size%3A%2012px%3B%20padding%3A%204px%204px%203px%3B%20overflow%3A%20hidden%3B%20position%3A%20absolute%3B%20white-space%3A%20nowrap%3B%20text-overflow%3A%20ellipsis%3B%20background-color%3A%20rgb(250%2C%20250%2C%20250)%3B%20border-right%3A%202px%20solid%20rgb(233%2C%20233%2C%20233)%3B%22%3E%3Cspan%20style%3D%22text-overflow%3A%20ellipsis%3B%20overflow%3A%20hidden%3B%20white-space%3A%20nowrap%3B%20max-width%3A%20calc((100%25%20-%200px)%20-%200px)%3B%22%3EComplementary%3C%2Fspan%3E%3C%2Fdiv%3E%3Cdiv%20style%3D%22display%3A%20flex%3B%20align-items%3A%20center%3B%20height%3A%2028px%3B%20left%3A%200px%3B%20top%3A%2056px%3B%20width%3A%20120px%3B%20text-align%3A%20left%3B%20font-size%3A%2012px%3B%20padding%3A%204px%204px%203px%3B%20overflow%3A%20hidden%3B%20position%3A%20absolute%3B%20white-space%3A%20nowrap%3B%20text-overflow%3A%20ellipsis%3B%20background-color%3A%20transparent%3B%20border-right%3A%202px%20solid%20rgb(233%2C%20233%2C%20233)%3B%22%3E%3Cspan%20style%3D%22text-overflow%3A%20ellipsis%3B%20overflow%3A%20hidden%3B%20white-space%3A%20nowrap%3B%20max-width%3A%20calc((100%25%20-%200px)%20-%200px)%3B%22%3EDriver%3C%2Fspan%3E%3C%2Fdiv%3E%3Cdiv%20style%3D%22display%3A%20flex%3B%20align-items%3A%20center%3B%20height%3A%2028px%3B%20left%3A%200px%3B%20top%3A%2084px%3B%20width%3A%20120px%3B%20text-align%3A%20left%3B%20font-size%3A%2012px%3B%20padding%3A%204px%204px%203px%3B%20overflow%3A%20hidden%3B%20position%3A%20absolute%3B%20white-space%3A%20nowrap%3B%20text-overflow%3A%20ellipsis%3B%20background-color%3A%20rgb(250%2C%20250%2C%20250)%3B%20border-right%3A%202px%20solid%20rgb(233%2C%20233%2C%20233)%3B%22%3E%3Cspan%20style%3D%22text-overflow%3A%20ellipsis%3B%20overflow%3A%20hidden%3B%20white-space%3A%20nowrap%3B%20max-width%3A%20calc((100%25%20-%200px)%20-%200px)%3B%22%3EIndependent%3C%2Fspan%3E%3C%2Fdiv%3E%3C%2Fdiv%3E%3C%2Fdiv%3E%3C%2Fdiv%3E%3Cdiv%20class%3D%22css-sazb3v-Table%22%3E%3Cdiv%20class%3D%22aui-invisible-scrollbars%20css-1hkp0fl%22%3E%3Cdiv%20class%3D%22css-1mhees8%22%3E%3Cdiv%20class%3D%22css-1hol363-ResizableCell%22%3E%3Cdiv%20style%3D%22display%3A%20flex%3B%20align-items%3A%20center%3B%20height%3A%2028px%3B%20left%3A%200px%3B%20top%3A%200px%3B%20width%3A%20115px%3B%20text-align%3A%20left%3B%20font-size%3A%2012px%3B%20padding%3A%204px%204px%203px%3B%20overflow%3A%20hidden%3B%20position%3A%20absolute%3B%20white-space%3A%20nowrap%3B%20text-overflow%3A%20ellipsis%3B%20font-weight%3A%20600%3B%22%3E%3Cspan%20style%3D%22text-overflow%3A%20ellipsis%3B%20overflow%3A%20hidden%3B%20white-space%3A%20nowrap%3B%20max-width%3A%20calc((100%25%20-%200px)%20-%200px)%3B%22%3EBase%3C%2Fspan%3E%3C%2Fdiv%3E%3Cdiv%20class%3D%22css-xxcrt1-ResizableCell%22%3E%3C%2Fdiv%3E%3C%2Fdiv%3E%3Cdiv%20class%3D%22css-fpuq48-ResizableCell%22%3E%3Cdiv%20style%3D%22display%3A%20none%3B%20align-items%3A%20center%3B%20height%3A%2028px%3B%20left%3A%200px%3B%20top%3A%200px%3B%20width%3A%20115px%3B%20text-align%3A%20left%3B%20font-size%3A%2012px%3B%20padding%3A%204px%204px%203px%3B%20overflow%3A%20hidden%3B%20position%3A%20absolute%3B%20white-space%3A%20nowrap%3B%20text-overflow%3A%20ellipsis%3B%20font-weight%3A%20600%3B%22%3E%3Cspan%20style%3D%22text-overflow%3A%20ellipsis%3B%20overflow%3A%20hidden%3B%20white-space%3A%20nowrap%3B%20max-width%3A%20calc((100%25%20-%200px)%20-%200px)%3B%22%3EBase%3C%2Fspan%3E%3C%2Fdiv%3E%3Cdiv%20class%3D%22css-xxcrt1-ResizableCell%22%3E%3C%2Fdiv%3E%3C%2Fdiv%3E%3Cdiv%20class%3D%22css-3geaec-ResizableCell%22%3E%3Cdiv%20style%3D%22display%3A%20none%3B%20align-items%3A%20center%3B%20height%3A%2028px%3B%20left%3A%200px%3B%20top%3A%200px%3B%20width%3A%20115px%3B%20text-align%3A%20left%3B%20font-size%3A%2012px%3B%20padding%3A%204px%204px%203px%3B%20overflow%3A%20hidden%3B%20position%3A%20absolute%3B%20white-space%3A%20nowrap%3B%20text-overflow%3A%20ellipsis%3B%20font-weight%3A%20600%3B%22%3E%3Cspan%20style%3D%22text-overflow%3A%20ellipsis%3B%20overflow%3A%20hidden%3B%20white-space%3A%20nowrap%3B%20max-width%3A%20calc((100%25%20-%200px)%20-%200px)%3B%22%3EBase%3C%2Fspan%3E%3C%2Fdiv%3E%3Cdiv%20class%3D%22css-xxcrt1-ResizableCell%22%3E%3C%2Fdiv%3E%3C%2Fdiv%3E%3Cdiv%20class%3D%22css-9kbkmr-ResizableCell%22%3E%3Cdiv%20style%3D%22display%3A%20none%3B%20align-items%3A%20center%3B%20height%3A%2028px%3B%20left%3A%200px%3B%20top%3A%200px%3B%20width%3A%20115px%3B%20text-align%3A%20left%3B%20font-size%3A%2012px%3B%20padding%3A%204px%204px%203px%3B%20overflow%3A%20hidden%3B%20position%3A%20absolute%3B%20white-space%3A%20nowrap%3B%20text-overflow%3A%20ellipsis%3B%20font-weight%3A%20600%3B%22%3E%3Cspan%20style%3D%22text-overflow%3A%20ellipsis%3B%20overflow%3A%20hidden%3B%20white-space%3A%20nowrap%3B%20max-width%3A%20calc((100%25%20-%200px)%20-%200px)%3B%22%3EBase%3C%2Fspan%3E%3C%2Fdiv%3E%3Cdiv%20class%3D%22css-xxcrt1-ResizableCell%22%3E%3C%2Fdiv%3E%3C%2Fdiv%3E%3Cdiv%20class%3D%22css-76qu0m-ResizableCell%22%3E%3Cdiv%20style%3D%22display%3A%20flex%3B%20align-items%3A%20center%3B%20height%3A%2028px%3B%20left%3A%200px%3B%20top%3A%200px%3B%20width%3A%20115px%3B%20text-align%3A%20left%3B%20font-size%3A%2012px%3B%20padding%3A%204px%204px%203px%3B%20overflow%3A%20hidden%3B%20position%3A%20absolute%3B%20white-space%3A%20nowrap%3B%20text-overflow%3A%20ellipsis%3B%20font-weight%3A%20600%3B%22%3E%3Cspan%20style%3D%22text-overflow%3A%20ellipsis%3B%20overflow%3A%20hidden%3B%20white-space%3A%20nowrap%3B%20max-width%3A%20calc((100%25%20-%200px)%20-%200px)%3B%22%3E10%25%20complementary%20increase%3C%2Fspan%3E%3C%2Fdiv%3E%3Cdiv%20class%3D%22css-xxcrt1-ResizableCell%22%3E%3C%2Fdiv%3E%3C%2Fdiv%3E%3Cdiv%20class%3D%22css-1h9kznl-ResizableCell%22%3E%3Cdiv%20style%3D%22display%3A%20none%3B%20align-items%3A%20center%3B%20height%3A%2028px%3B%20left%3A%200px%3B%20top%3A%200px%3B%20width%3A%20115px%3B%20text-align%3A%20left%3B%20font-size%3A%2012px%3B%20padding%3A%204px%204px%203px%3B%20overflow%3A%20hidden%3B%20position%3A%20absolute%3B%20white-space%3A%20nowrap%3B%20text-overflow%3A%20ellipsis%3B%20font-weight%3A%20600%3B%22%3E%3Cspan%20style%3D%22text-overflow%3A%20ellipsis%3B%20overflow%3A%20hidden%3B%20white-space%3A%20nowrap%3B%20max-width%3A%20calc((100%25%20-%200px)%20-%200px)%3B%22%3E10%25%20complementary%20increase%3C%2Fspan%3E%3C%2Fdiv%3E%3Cdiv%20class%3D%22css-xxcrt1-ResizableCell%22%3E%3C%2Fdiv%3E%3C%2Fdiv%3E%3Cdiv%20class%3D%22css-3vd2qh-ResizableCell%22%3E%3Cdiv%20style%3D%22display%3A%20none%3B%20align-items%3A%20center%3B%20height%3A%2028px%3B%20left%3A%200px%3B%20top%3A%200px%3B%20width%3A%20115px%3B%20text-align%3A%20left%3B%20font-size%3A%2012px%3B%20padding%3A%204px%204px%203px%3B%20overflow%3A%20hidden%3B%20position%3A%20absolute%3B%20white-space%3A%20nowrap%3B%20text-overflow%3A%20ellipsis%3B%20font-weight%3A%20600%3B%22%3E%3Cspan%20style%3D%22text-overflow%3A%20ellipsis%3B%20overflow%3A%20hidden%3B%20white-space%3A%20nowrap%3B%20max-width%3A%20calc((100%25%20-%200px)%20-%200px)%3B%22%3E10%25%20complementary%20increase%3C%2Fspan%3E%3C%2Fdiv%3E%3Cdiv%20class%3D%22css-xxcrt1-ResizableCell%22%3E%3C%2Fdiv%3E%3C%2Fdiv%3E%3Cdiv%20class%3D%22css-1hcg36z-ResizableCell%22%3E%3Cdiv%20style%3D%22display%3A%20none%3B%20align-items%3A%20center%3B%20height%3A%2028px%3B%20left%3A%200px%3B%20top%3A%200px%3B%20width%3A%20115px%3B%20text-align%3A%20left%3B%20font-size%3A%2012px%3B%20padding%3A%204px%204px%203px%3B%20overflow%3A%20hidden%3B%20position%3A%20absolute%3B%20white-space%3A%20nowrap%3B%20text-overflow%3A%20ellipsis%3B%20font-weight%3A%20600%3B%22%3E%3Cspan%20style%3D%22text-overflow%3A%20ellipsis%3B%20overflow%3A%20hidden%3B%20white-space%3A%20nowrap%3B%20max-width%3A%20calc((100%25%20-%200px)%20-%200px)%3B%22%3E10%25%20complementary%20increase%3C%2Fspan%3E%3C%2Fdiv%3E%3Cdiv%20class%3D%22css-xxcrt1-ResizableCell%22%3E%3C%2Fdiv%3E%3C%2Fdiv%3E%3Cdiv%20class%3D%22css-z51yao-ResizableCell%22%3E%3Cdiv%20style%3D%22display%3A%20flex%3B%20align-items%3A%20center%3B%20height%3A%2028px%3B%20left%3A%200px%3B%20top%3A%200px%3B%20width%3A%20115px%3B%20text-align%3A%20left%3B%20font-size%3A%2012px%3B%20padding%3A%204px%204px%203px%3B%20overflow%3A%20hidden%3B%20position%3A%20absolute%3B%20white-space%3A%20nowrap%3B%20text-overflow%3A%20ellipsis%3B%20font-weight%3A%20600%3B%22%3E%3Cspan%20style%3D%22text-overflow%3A%20ellipsis%3B%20overflow%3A%20hidden%3B%20white-space%3A%20nowrap%3B%20max-width%3A%20calc((100%25%20-%200px)%20-%200px)%3B%22%3EPrice%20Index%3C%2Fspan%3E%3C%2Fdiv%3E%3Cdiv%20class%3D%22css-xxcrt1-ResizableCell%22%3E%3C%2Fdiv%3E%3C%2Fdiv%3E%3Cdiv%20class%3D%22css-10fw2tq-ResizableCell%22%3E%3Cdiv%20style%3D%22display%3A%20flex%3B%20align-items%3A%20center%3B%20height%3A%2028px%3B%20left%3A%200px%3B%20top%3A%200px%3B%20width%3A%20115px%3B%20text-align%3A%20left%3B%20font-size%3A%2012px%3B%20padding%3A%204px%204px%203px%3B%20overflow%3A%20hidden%3B%20position%3A%20absolute%3B%20white-space%3A%20nowrap%3B%20text-overflow%3A%20ellipsis%3B%20font-weight%3A%20600%3B%22%3E%3Cspan%20style%3D%22text-overflow%3A%20ellipsis%3B%20overflow%3A%20hidden%3B%20white-space%3A%20nowrap%3B%20max-width%3A%20calc((100%25%20-%200px)%20-%200px)%3B%22%3EMargin.SUM%3C%2Fspan%3E%3C%2Fdiv%3E%3Cdiv%20class%3D%22css-xxcrt1-ResizableCell%22%3E%3C%2Fdiv%3E%3C%2Fdiv%3E%3Cdiv%20class%3D%22css-1pd7flk-ResizableCell%22%3E%3Cdiv%20style%3D%22display%3A%20flex%3B%20align-items%3A%20center%3B%20height%3A%2028px%3B%20left%3A%200px%3B%20top%3A%200px%3B%20width%3A%20115px%3B%20text-align%3A%20left%3B%20font-size%3A%2012px%3B%20padding%3A%204px%204px%203px%3B%20overflow%3A%20hidden%3B%20position%3A%20absolute%3B%20white-space%3A%20nowrap%3B%20text-overflow%3A%20ellipsis%3B%20font-weight%3A%20600%3B%22%3E%3Cspan%20style%3D%22text-overflow%3A%20ellipsis%3B%20overflow%3A%20hidden%3B%20white-space%3A%20nowrap%3B%20max-width%3A%20calc((100%25%20-%200px)%20-%200px)%3B%22%3EMargin%20Delta%3C%2Fspan%3E%3C%2Fdiv%3E%3Cdiv%20class%3D%22css-xxcrt1-ResizableCell%22%3E%3C%2Fdiv%3E%3C%2Fdiv%3E%3Cdiv%20class%3D%22css-eaczoo-ResizableCell%22%3E%3Cdiv%20style%3D%22display%3A%20flex%3B%20align-items%3A%20center%3B%20height%3A%2028px%3B%20left%3A%200px%3B%20top%3A%200px%3B%20width%3A%20115px%3B%20text-align%3A%20left%3B%20font-size%3A%2012px%3B%20padding%3A%204px%204px%203px%3B%20overflow%3A%20hidden%3B%20position%3A%20absolute%3B%20white-space%3A%20nowrap%3B%20text-overflow%3A%20ellipsis%3B%20font-weight%3A%20600%3B%22%3E%3Cspan%20style%3D%22text-overflow%3A%20ellipsis%3B%20overflow%3A%20hidden%3B%20white-space%3A%20nowrap%3B%20max-width%3A%20calc((100%25%20-%200px)%20-%200px)%3B%22%3EPrice%20Index%20Delta%3C%2Fspan%3E%3C%2Fdiv%3E%3Cdiv%20class%3D%22css-xxcrt1-ResizableCell%22%3E%3C%2Fdiv%3E%3C%2Fdiv%3E%3Cdiv%20class%3D%22css-ud38eq-ResizableCell%22%3E%3Cdiv%20style%3D%22display%3A%20flex%3B%20align-items%3A%20center%3B%20height%3A%2028px%3B%20left%3A%200px%3B%20top%3A%200px%3B%20width%3A%20115px%3B%20text-align%3A%20left%3B%20font-size%3A%2012px%3B%20padding%3A%204px%204px%203px%3B%20overflow%3A%20hidden%3B%20position%3A%20absolute%3B%20white-space%3A%20nowrap%3B%20text-overflow%3A%20ellipsis%3B%20font-weight%3A%20600%3B%22%3E%3Cspan%20style%3D%22text-overflow%3A%20ellipsis%3B%20overflow%3A%20hidden%3B%20white-space%3A%20nowrap%3B%20max-width%3A%20calc((100%25%20-%200px)%20-%200px)%3B%22%3EPrice%20Index%3C%2Fspan%3E%3C%2Fdiv%3E%3Cdiv%20class%3D%22css-xxcrt1-ResizableCell%22%3E%3C%2Fdiv%3E%3C%2Fdiv%3E%3Cdiv%20class%3D%22css-1ipcw93-ResizableCell%22%3E%3Cdiv%20style%3D%22display%3A%20flex%3B%20align-items%3A%20center%3B%20height%3A%2028px%3B%20left%3A%200px%3B%20top%3A%200px%3B%20width%3A%20115px%3B%20text-align%3A%20left%3B%20font-size%3A%2012px%3B%20padding%3A%204px%204px%203px%3B%20overflow%3A%20hidden%3B%20position%3A%20absolute%3B%20white-space%3A%20nowrap%3B%20text-overflow%3A%20ellipsis%3B%20font-weight%3A%20600%3B%22%3E%3Cspan%20style%3D%22text-overflow%3A%20ellipsis%3B%20overflow%3A%20hidden%3B%20white-space%3A%20nowrap%3B%20max-width%3A%20calc((100%25%20-%200px)%20-%200px)%3B%22%3EMargin.SUM%3C%2Fspan%3E%3C%2Fdiv%3E%3Cdiv%20class%3D%22css-xxcrt1-ResizableCell%22%3E%3C%2Fdiv%3E%3C%2Fdiv%3E%3Cdiv%20class%3D%22css-10cfvm3-ResizableCell%22%3E%3Cdiv%20style%3D%22display%3A%20flex%3B%20align-items%3A%20center%3B%20height%3A%2028px%3B%20left%3A%200px%3B%20top%3A%200px%3B%20width%3A%20115px%3B%20text-align%3A%20left%3B%20font-size%3A%2012px%3B%20padding%3A%204px%204px%203px%3B%20overflow%3A%20hidden%3B%20position%3A%20absolute%3B%20white-space%3A%20nowrap%3B%20text-overflow%3A%20ellipsis%3B%20font-weight%3A%20600%3B%22%3E%3Cspan%20style%3D%22text-overflow%3A%20ellipsis%3B%20overflow%3A%20hidden%3B%20white-space%3A%20nowrap%3B%20max-width%3A%20calc((100%25%20-%200px)%20-%200px)%3B%22%3EMargin%20Delta%3C%2Fspan%3E%3C%2Fdiv%3E%3Cdiv%20class%3D%22css-xxcrt1-ResizableCell%22%3E%3C%2Fdiv%3E%3C%2Fdiv%3E%3Cdiv%20class%3D%22css-l83k0q-ResizableCell%22%3E%3Cdiv%20style%3D%22display%3A%20flex%3B%20align-items%3A%20center%3B%20height%3A%2028px%3B%20left%3A%200px%3B%20top%3A%200px%3B%20width%3A%20115px%3B%20text-align%3A%20left%3B%20font-size%3A%2012px%3B%20padding%3A%204px%204px%203px%3B%20overflow%3A%20hidden%3B%20position%3A%20absolute%3B%20white-space%3A%20nowrap%3B%20text-overflow%3A%20ellipsis%3B%20font-weight%3A%20600%3B%22%3E%3Cspan%20style%3D%22text-overflow%3A%20ellipsis%3B%20overflow%3A%20hidden%3B%20white-space%3A%20nowrap%3B%20max-width%3A%20calc((100%25%20-%200px)%20-%200px)%3B%22%3EPrice%20Index%20Delta%3C%2Fspan%3E%3C%2Fdiv%3E%3Cdiv%20class%3D%22css-xxcrt1-ResizableCell%22%3E%3C%2Fdiv%3E%3C%2Fdiv%3E%3C%2Fdiv%3E%3C%2Fdiv%3E%3Cdiv%20class%3D%22%20css-1uy195n%22%3E%3Cdiv%20class%3D%22css-1kgot1z%22%3E%3Cdiv%20class%3D%22aui-table-cell%22%20style%3D%22height%3A%2028px%3B%20left%3A%200px%3B%20top%3A%200px%3B%20width%3A%20120px%3B%20text-align%3A%20right%3B%20font-size%3A%2012px%3B%20padding%3A%204px%204px%203px%3B%20overflow%3A%20hidden%3B%20position%3A%20absolute%3B%20white-space%3A%20nowrap%3B%20text-overflow%3A%20ellipsis%3B%20background-color%3A%20transparent%3B%20border-right%3A%201px%20solid%20rgb(233%2C%20233%2C%20233)%3B%22%3E%3C%2Fdiv%3E%3Cdiv%20class%3D%22aui-table-cell%22%20style%3D%22height%3A%2028px%3B%20left%3A%20120px%3B%20top%3A%200px%3B%20width%3A%20120px%3B%20text-align%3A%20right%3B%20font-size%3A%2012px%3B%20padding%3A%204px%204px%203px%3B%20overflow%3A%20hidden%3B%20position%3A%20absolute%3B%20white-space%3A%20nowrap%3B%20text-overflow%3A%20ellipsis%3B%20background-color%3A%20transparent%3B%20border-right%3A%201px%20solid%20rgb(233%2C%20233%2C%20233)%3B%22%3E-4%2C440%2C056%2C965.37%3C%2Fdiv%3E%3Cdiv%20class%3D%22aui-table-cell%22%20style%3D%22height%3A%2028px%3B%20left%3A%20240px%3B%20top%3A%200px%3B%20width%3A%20120px%3B%20text-align%3A%20right%3B%20font-size%3A%2012px%3B%20padding%3A%204px%204px%203px%3B%20overflow%3A%20hidden%3B%20position%3A%20absolute%3B%20white-space%3A%20nowrap%3B%20text-overflow%3A%20ellipsis%3B%20background-color%3A%20transparent%3B%20border-right%3A%201px%20solid%20rgb(233%2C%20233%2C%20233)%3B%22%3E0%3C%2Fdiv%3E%3Cdiv%20class%3D%22aui-table-cell%22%20style%3D%22height%3A%2028px%3B%20left%3A%20360px%3B%20top%3A%200px%3B%20width%3A%20120px%3B%20text-align%3A%20right%3B%20font-size%3A%2012px%3B%20padding%3A%204px%204px%203px%3B%20overflow%3A%20hidden%3B%20position%3A%20absolute%3B%20white-space%3A%20nowrap%3B%20text-overflow%3A%20ellipsis%3B%20background-color%3A%20transparent%3B%20border-right%3A%201px%20solid%20rgb(233%2C%20233%2C%20233)%3B%22%3E%3C%2Fdiv%3E%3Cdiv%20class%3D%22aui-table-cell%22%20style%3D%22height%3A%2028px%3B%20left%3A%20480px%3B%20top%3A%200px%3B%20width%3A%20120px%3B%20text-align%3A%20right%3B%20font-size%3A%2012px%3B%20padding%3A%204px%204px%203px%3B%20overflow%3A%20hidden%3B%20position%3A%20absolute%3B%20white-space%3A%20nowrap%3B%20text-overflow%3A%20ellipsis%3B%20background-color%3A%20transparent%3B%20border-right%3A%201px%20solid%20rgb(233%2C%20233%2C%20233)%3B%22%3E%3C%2Fdiv%3E%3Cdiv%20class%3D%22aui-table-cell%22%20style%3D%22height%3A%2028px%3B%20left%3A%20600px%3B%20top%3A%200px%3B%20width%3A%20120px%3B%20text-align%3A%20right%3B%20font-size%3A%2012px%3B%20padding%3A%204px%204px%203px%3B%20overflow%3A%20hidden%3B%20position%3A%20absolute%3B%20white-space%3A%20nowrap%3B%20text-overflow%3A%20ellipsis%3B%20background-color%3A%20transparent%3B%20border-right%3A%201px%20solid%20rgb(233%2C%20233%2C%20233)%3B%22%3E-4%2C440%2C056%2C965.37%3C%2Fdiv%3E%3Cdiv%20class%3D%22aui-table-cell%22%20style%3D%22height%3A%2028px%3B%20left%3A%20720px%3B%20top%3A%200px%3B%20width%3A%20120px%3B%20text-align%3A%20right%3B%20font-size%3A%2012px%3B%20padding%3A%204px%204px%203px%3B%20overflow%3A%20hidden%3B%20position%3A%20absolute%3B%20white-space%3A%20nowrap%3B%20text-overflow%3A%20ellipsis%3B%20background-color%3A%20transparent%3B%20border-right%3A%201px%20solid%20rgb(233%2C%20233%2C%20233)%3B%22%3E0%3C%2Fdiv%3E%3Cdiv%20class%3D%22aui-table-cell%22%20style%3D%22height%3A%2028px%3B%20left%3A%20840px%3B%20top%3A%200px%3B%20width%3A%20120px%3B%20text-align%3A%20right%3B%20font-size%3A%2012px%3B%20padding%3A%204px%204px%203px%3B%20overflow%3A%20hidden%3B%20position%3A%20absolute%3B%20white-space%3A%20nowrap%3B%20text-overflow%3A%20ellipsis%3B%20background-color%3A%20transparent%3B%20border-right%3A%201px%20solid%20rgb(233%2C%20233%2C%20233)%3B%22%3E%3C%2Fdiv%3E%3Cdiv%20class%3D%22aui-table-cell%22%20style%3D%22height%3A%2028px%3B%20left%3A%200px%3B%20top%3A%2028px%3B%20width%3A%20120px%3B%20text-align%3A%20right%3B%20font-size%3A%2012px%3B%20padding%3A%204px%204px%203px%3B%20overflow%3A%20hidden%3B%20position%3A%20absolute%3B%20white-space%3A%20nowrap%3B%20text-overflow%3A%20ellipsis%3B%20background-color%3A%20rgb(250%2C%20250%2C%20250)%3B%20border-right%3A%201px%20solid%20rgb(233%2C%20233%2C%20233)%3B%22%3E103.99%3C%2Fdiv%3E%3Cdiv%20class%3D%22aui-table-cell%22%20style%3D%22height%3A%2028px%3B%20left%3A%20120px%3B%20top%3A%2028px%3B%20width%3A%20120px%3B%20text-align%3A%20right%3B%20font-size%3A%2012px%3B%20padding%3A%204px%204px%203px%3B%20overflow%3A%20hidden%3B%20position%3A%20absolute%3B%20white-space%3A%20nowrap%3B%20text-overflow%3A%20ellipsis%3B%20background-color%3A%20rgb(250%2C%20250%2C%20250)%3B%20border-right%3A%201px%20solid%20rgb(233%2C%20233%2C%20233)%3B%22%3E521%2C127%2C859.37%3C%2Fdiv%3E%3Cdiv%20class%3D%22aui-table-cell%22%20style%3D%22height%3A%2028px%3B%20left%3A%20240px%3B%20top%3A%2028px%3B%20width%3A%20120px%3B%20text-align%3A%20right%3B%20font-size%3A%2012px%3B%20padding%3A%204px%204px%203px%3B%20overflow%3A%20hidden%3B%20position%3A%20absolute%3B%20white-space%3A%20nowrap%3B%20text-overflow%3A%20ellipsis%3B%20background-color%3A%20rgb(250%2C%20250%2C%20250)%3B%20border-right%3A%201px%20solid%20rgb(233%2C%20233%2C%20233)%3B%22%3E0%3C%2Fdiv%3E%3Cdiv%20class%3D%22aui-table-cell%22%20style%3D%22height%3A%2028px%3B%20left%3A%20360px%3B%20top%3A%2028px%3B%20width%3A%20120px%3B%20text-align%3A%20right%3B%20font-size%3A%2012px%3B%20padding%3A%204px%204px%203px%3B%20overflow%3A%20hidden%3B%20position%3A%20absolute%3B%20white-space%3A%20nowrap%3B%20text-overflow%3A%20ellipsis%3B%20background-color%3A%20rgb(250%2C%20250%2C%20250)%3B%20border-right%3A%201px%20solid%20rgb(233%2C%20233%2C%20233)%3B%22%3E0%3C%2Fdiv%3E%3Cdiv%20class%3D%22aui-table-cell%22%20style%3D%22height%3A%2028px%3B%20left%3A%20480px%3B%20top%3A%2028px%3B%20width%3A%20120px%3B%20text-align%3A%20right%3B%20font-size%3A%2012px%3B%20padding%3A%204px%204px%203px%3B%20overflow%3A%20hidden%3B%20position%3A%20absolute%3B%20white-space%3A%20nowrap%3B%20text-overflow%3A%20ellipsis%3B%20background-color%3A%20rgb(250%2C%20250%2C%20250)%3B%20border-right%3A%201px%20solid%20rgb(233%2C%20233%2C%20233)%3B%22%3E114.38%3C%2Fdiv%3E%3Cdiv%20class%3D%22aui-table-cell%22%20style%3D%22height%3A%2028px%3B%20left%3A%20600px%3B%20top%3A%2028px%3B%20width%3A%20120px%3B%20text-align%3A%20right%3B%20font-size%3A%2012px%3B%20padding%3A%204px%204px%203px%3B%20overflow%3A%20hidden%3B%20position%3A%20absolute%3B%20white-space%3A%20nowrap%3B%20text-overflow%3A%20ellipsis%3B%20background-color%3A%20rgb(250%2C%20250%2C%20250)%3B%20border-right%3A%201px%20solid%20rgb(233%2C%20233%2C%20233)%3B%22%3E689%2C338%2C765.09%3C%2Fdiv%3E%3Cdiv%20class%3D%22aui-table-cell%22%20style%3D%22height%3A%2028px%3B%20left%3A%20720px%3B%20top%3A%2028px%3B%20width%3A%20120px%3B%20text-align%3A%20right%3B%20font-size%3A%2012px%3B%20padding%3A%204px%204px%203px%3B%20overflow%3A%20hidden%3B%20position%3A%20absolute%3B%20white-space%3A%20nowrap%3B%20text-overflow%3A%20ellipsis%3B%20background-color%3A%20rgb(250%2C%20250%2C%20250)%3B%20border-right%3A%201px%20solid%20rgb(233%2C%20233%2C%20233)%3B%22%3E0%3C%2Fdiv%3E%3Cdiv%20class%3D%22aui-table-cell%22%20style%3D%22height%3A%2028px%3B%20left%3A%20840px%3B%20top%3A%2028px%3B%20width%3A%20120px%3B%20text-align%3A%20right%3B%20font-size%3A%2012px%3B%20padding%3A%204px%204px%203px%3B%20overflow%3A%20hidden%3B%20position%3A%20absolute%3B%20white-space%3A%20nowrap%3B%20text-overflow%3A%20ellipsis%3B%20background-color%3A%20rgb(250%2C%20250%2C%20250)%3B%20border-right%3A%201px%20solid%20rgb(233%2C%20233%2C%20233)%3B%22%3E0%3C%2Fdiv%3E%3Cdiv%20class%3D%22aui-table-cell%22%20style%3D%22height%3A%2028px%3B%20left%3A%200px%3B%20top%3A%2056px%3B%20width%3A%20120px%3B%20text-align%3A%20right%3B%20font-size%3A%2012px%3B%20padding%3A%204px%204px%203px%3B%20overflow%3A%20hidden%3B%20position%3A%20absolute%3B%20white-space%3A%20nowrap%3B%20text-overflow%3A%20ellipsis%3B%20background-color%3A%20transparent%3B%20border-right%3A%201px%20solid%20rgb(233%2C%20233%2C%20233)%3B%22%3E103.78%3C%2Fdiv%3E%3Cdiv%20class%3D%22aui-table-cell%22%20style%3D%22height%3A%2028px%3B%20left%3A%20120px%3B%20top%3A%2056px%3B%20width%3A%20120px%3B%20text-align%3A%20right%3B%20font-size%3A%2012px%3B%20padding%3A%204px%204px%203px%3B%20overflow%3A%20hidden%3B%20position%3A%20absolute%3B%20white-space%3A%20nowrap%3B%20text-overflow%3A%20ellipsis%3B%20background-color%3A%20transparent%3B%20border-right%3A%201px%20solid%20rgb(233%2C%20233%2C%20233)%3B%22%3E736%2C201%2C590.52%3C%2Fdiv%3E%3Cdiv%20class%3D%22aui-table-cell%22%20style%3D%22height%3A%2028px%3B%20left%3A%20240px%3B%20top%3A%2056px%3B%20width%3A%20120px%3B%20text-align%3A%20right%3B%20font-size%3A%2012px%3B%20padding%3A%204px%204px%203px%3B%20overflow%3A%20hidden%3B%20position%3A%20absolute%3B%20white-space%3A%20nowrap%3B%20text-overflow%3A%20ellipsis%3B%20background-color%3A%20transparent%3B%20border-right%3A%201px%20solid%20rgb(233%2C%20233%2C%20233)%3B%22%3E0%3C%2Fdiv%3E%3Cdiv%20class%3D%22aui-table-cell%22%20style%3D%22height%3A%2028px%3B%20left%3A%20360px%3B%20top%3A%2056px%3B%20width%3A%20120px%3B%20text-align%3A%20right%3B%20font-size%3A%2012px%3B%20padding%3A%204px%204px%203px%3B%20overflow%3A%20hidden%3B%20position%3A%20absolute%3B%20white-space%3A%20nowrap%3B%20text-overflow%3A%20ellipsis%3B%20background-color%3A%20transparent%3B%20border-right%3A%201px%20solid%20rgb(233%2C%20233%2C%20233)%3B%22%3E0%3C%2Fdiv%3E%3Cdiv%20class%3D%22aui-table-cell%22%20style%3D%22height%3A%2028px%3B%20left%3A%20480px%3B%20top%3A%2056px%3B%20width%3A%20120px%3B%20text-align%3A%20right%3B%20font-size%3A%2012px%3B%20padding%3A%204px%204px%203px%3B%20overflow%3A%20hidden%3B%20position%3A%20absolute%3B%20white-space%3A%20nowrap%3B%20text-overflow%3A%20ellipsis%3B%20background-color%3A%20transparent%3B%20border-right%3A%201px%20solid%20rgb(233%2C%20233%2C%20233)%3B%22%3E103.78%3C%2Fdiv%3E%3Cdiv%20class%3D%22aui-table-cell%22%20style%3D%22height%3A%2028px%3B%20left%3A%20600px%3B%20top%3A%2056px%3B%20width%3A%20120px%3B%20text-align%3A%20right%3B%20font-size%3A%2012px%3B%20padding%3A%204px%204px%203px%3B%20overflow%3A%20hidden%3B%20position%3A%20absolute%3B%20white-space%3A%20nowrap%3B%20text-overflow%3A%20ellipsis%3B%20background-color%3A%20transparent%3B%20border-right%3A%201px%20solid%20rgb(233%2C%20233%2C%20233)%3B%22%3E736%2C201%2C590.52%3C%2Fdiv%3E%3Cdiv%20class%3D%22aui-table-cell%22%20style%3D%22height%3A%2028px%3B%20left%3A%20720px%3B%20top%3A%2056px%3B%20width%3A%20120px%3B%20text-align%3A%20right%3B%20font-size%3A%2012px%3B%20padding%3A%204px%204px%203px%3B%20overflow%3A%20hidden%3B%20position%3A%20absolute%3B%20white-space%3A%20nowrap%3B%20text-overflow%3A%20ellipsis%3B%20background-color%3A%20transparent%3B%20border-right%3A%201px%20solid%20rgb(233%2C%20233%2C%20233)%3B%22%3E0%3C%2Fdiv%3E%3Cdiv%20class%3D%22aui-table-cell%22%20style%3D%22height%3A%2028px%3B%20left%3A%20840px%3B%20top%3A%2056px%3B%20width%3A%20120px%3B%20text-align%3A%20right%3B%20font-size%3A%2012px%3B%20padding%3A%204px%204px%203px%3B%20overflow%3A%20hidden%3B%20position%3A%20absolute%3B%20white-space%3A%20nowrap%3B%20text-overflow%3A%20ellipsis%3B%20background-color%3A%20transparent%3B%20border-right%3A%201px%20solid%20rgb(233%2C%20233%2C%20233)%3B%22%3E0%3C%2Fdiv%3E%3Cdiv%20class%3D%22aui-table-cell%22%20style%3D%22height%3A%2028px%3B%20left%3A%200px%3B%20top%3A%2084px%3B%20width%3A%20120px%3B%20text-align%3A%20right%3B%20font-size%3A%2012px%3B%20padding%3A%204px%204px%203px%3B%20overflow%3A%20hidden%3B%20position%3A%20absolute%3B%20white-space%3A%20nowrap%3B%20text-overflow%3A%20ellipsis%3B%20background-color%3A%20rgb(250%2C%20250%2C%20250)%3B%20border-right%3A%201px%20solid%20rgb(233%2C%20233%2C%20233)%3B%22%3E99.48%3C%2Fdiv%3E%3Cdiv%20class%3D%22aui-table-cell%22%20style%3D%22height%3A%2028px%3B%20left%3A%20120px%3B%20top%3A%2084px%3B%20width%3A%20120px%3B%20text-align%3A%20right%3B%20font-size%3A%2012px%3B%20padding%3A%204px%204px%203px%3B%20overflow%3A%20hidden%3B%20position%3A%20absolute%3B%20white-space%3A%20nowrap%3B%20text-overflow%3A%20ellipsis%3B%20background-color%3A%20rgb(250%2C%20250%2C%20250)%3B%20border-right%3A%201px%20solid%20rgb(233%2C%20233%2C%20233)%3B%22%3E579%2C953%2C030.70%3C%2Fdiv%3E%3Cdiv%20class%3D%22aui-table-cell%22%20style%3D%22height%3A%2028px%3B%20left%3A%20240px%3B%20top%3A%2084px%3B%20width%3A%20120px%3B%20text-align%3A%20right%3B%20font-size%3A%2012px%3B%20padding%3A%204px%204px%203px%3B%20overflow%3A%20hidden%3B%20position%3A%20absolute%3B%20white-space%3A%20nowrap%3B%20text-overflow%3A%20ellipsis%3B%20background-color%3A%20rgb(250%2C%20250%2C%20250)%3B%20border-right%3A%201px%20solid%20rgb(233%2C%20233%2C%20233)%3B%22%3E0%3C%2Fdiv%3E%3Cdiv%20class%3D%22aui-table-cell%22%20style%3D%22height%3A%2028px%3B%20left%3A%20360px%3B%20top%3A%2084px%3B%20width%3A%20120px%3B%20text-align%3A%20right%3B%20font-size%3A%2012px%3B%20padding%3A%204px%204px%203px%3B%20overflow%3A%20hidden%3B%20position%3A%20absolute%3B%20white-space%3A%20nowrap%3B%20text-overflow%3A%20ellipsis%3B%20background-color%3A%20rgb(250%2C%20250%2C%20250)%3B%20border-right%3A%201px%20solid%20rgb(233%2C%20233%2C%20233)%3B%22%3E0%3C%2Fdiv%3E%3Cdiv%20class%3D%22aui-table-cell%22%20style%3D%22height%3A%2028px%3B%20left%3A%20480px%3B%20top%3A%2084px%3B%20width%3A%20120px%3B%20text-align%3A%20right%3B%20font-size%3A%2012px%3B%20padding%3A%204px%204px%203px%3B%20overflow%3A%20hidden%3B%20position%3A%20absolute%3B%20white-space%3A%20nowrap%3B%20text-overflow%3A%20ellipsis%3B%20background-color%3A%20rgb(250%2C%20250%2C%20250)%3B%20border-right%3A%201px%20solid%20rgb(233%2C%20233%2C%20233)%3B%22%3E99.48%3C%2Fdiv%3E%3Cdiv%20class%3D%22aui-table-cell%22%20style%3D%22height%3A%2028px%3B%20left%3A%20600px%3B%20top%3A%2084px%3B%20width%3A%20120px%3B%20text-align%3A%20right%3B%20font-size%3A%2012px%3B%20padding%3A%204px%204px%203px%3B%20overflow%3A%20hidden%3B%20position%3A%20absolute%3B%20white-space%3A%20nowrap%3B%20text-overflow%3A%20ellipsis%3B%20background-color%3A%20rgb(250%2C%20250%2C%20250)%3B%20border-right%3A%201px%20solid%20rgb(233%2C%20233%2C%20233)%3B%22%3E579%2C953%2C030.70%3C%2Fdiv%3E%3Cdiv%20class%3D%22aui-table-cell%22%20style%3D%22height%3A%2028px%3B%20left%3A%20720px%3B%20top%3A%2084px%3B%20width%3A%20120px%3B%20text-align%3A%20right%3B%20font-size%3A%2012px%3B%20padding%3A%204px%204px%203px%3B%20overflow%3A%20hidden%3B%20position%3A%20absolute%3B%20white-space%3A%20nowrap%3B%20text-overflow%3A%20ellipsis%3B%20background-color%3A%20rgb(250%2C%20250%2C%20250)%3B%20border-right%3A%201px%20solid%20rgb(233%2C%20233%2C%20233)%3B%22%3E0%3C%2Fdiv%3E%3Cdiv%20class%3D%22aui-table-cell%22%20style%3D%22height%3A%2028px%3B%20left%3A%20840px%3B%20top%3A%2084px%3B%20width%3A%20120px%3B%20text-align%3A%20right%3B%20font-size%3A%2012px%3B%20padding%3A%204px%204px%203px%3B%20overflow%3A%20hidden%3B%20position%3A%20absolute%3B%20white-space%3A%20nowrap%3B%20text-overflow%3A%20ellipsis%3B%20background-color%3A%20rgb(250%2C%20250%2C%20250)%3B%20border-right%3A%201px%20solid%20rgb(233%2C%20233%2C%20233)%3B%22%3E0%3C%2Fdiv%3E%3C%2Fdiv%3E%3C%2Fdiv%3E%3C%2Fdiv%3E%3C%2Fdiv%3E%3C%2Fdiv%3E%3Cdiv%20class%3D%22css-1uww2vi-Table%22%3E%3C%2Fdiv%3E%3C%2Fdiv%3E%3C%2Fdiv%3E%3C%2Fdiv%3E%3C%2Fdiv%3E%3C%2Fdiv%3E%3C%2FforeignObject%3E%3C%2Fsvg%3E\">"
      ],
      "text/plain": [
       "Open the notebook in JupyterLab with the atoti extension enabled to build this widget."
      ]
     },
     "metadata": {},
     "output_type": "display_data"
    }
   ],
   "source": [
    "session.visualize(\"Comparison of the two scenarios per product class\")"
   ]
  },
  {
   "cell_type": "markdown",
   "metadata": {},
   "source": [
    "Refer to the atoti documentation for more information on [Parameter simulation](https://docs.atoti.io/latest/tutorial/tutorial.html#Parameter-simulations)."
   ]
  },
  {
   "cell_type": "markdown",
   "metadata": {},
   "source": [
    "### Source Simulation\n",
    "\n",
    "As seen before a better strategy is to improve the price image by being more competitive on the driver and independent products, hence lowering the prices of those products, while compensating the losses in margin by increasing the prices of the complementary products.\n",
    "\n",
    "We will first import our pricing methods: in this example a very simple pricing functions from our `pricer.py` file."
   ]
  },
  {
   "cell_type": "code",
   "execution_count": 45,
   "metadata": {},
   "outputs": [],
   "source": [
    "from price_engine import pricer"
   ]
  },
  {
   "cell_type": "markdown",
   "metadata": {},
   "source": [
    "#### Extracting data from cube with query\n",
    "Let's export the initial selling price and product classification from the cube into a Pandas dataframe:"
   ]
  },
  {
   "cell_type": "code",
   "execution_count": 46,
   "metadata": {},
   "outputs": [
    {
     "data": {
      "text/html": [
       "<div>\n",
       "<style scoped>\n",
       "    .dataframe tbody tr th:only-of-type {\n",
       "        vertical-align: middle;\n",
       "    }\n",
       "\n",
       "    .dataframe tbody tr th {\n",
       "        vertical-align: top;\n",
       "    }\n",
       "\n",
       "    .dataframe thead th {\n",
       "        text-align: right;\n",
       "    }\n",
       "</style>\n",
       "<table border=\"1\" class=\"dataframe\">\n",
       "  <thead>\n",
       "    <tr style=\"text-align: right;\">\n",
       "      <th></th>\n",
       "      <th></th>\n",
       "      <th>SellingPrice.VALUE</th>\n",
       "    </tr>\n",
       "    <tr>\n",
       "      <th>ProductId</th>\n",
       "      <th>Product Class</th>\n",
       "      <th></th>\n",
       "    </tr>\n",
       "  </thead>\n",
       "  <tbody>\n",
       "    <tr>\n",
       "      <th>3003</th>\n",
       "      <th>Complementary</th>\n",
       "      <td>443.73</td>\n",
       "    </tr>\n",
       "    <tr>\n",
       "      <th>3031</th>\n",
       "      <th>Driver</th>\n",
       "      <td>344.72</td>\n",
       "    </tr>\n",
       "    <tr>\n",
       "      <th>3052</th>\n",
       "      <th>Independent</th>\n",
       "      <td>135.98</td>\n",
       "    </tr>\n",
       "    <tr>\n",
       "      <th>10395</th>\n",
       "      <th>Driver</th>\n",
       "      <td>302.53</td>\n",
       "    </tr>\n",
       "    <tr>\n",
       "      <th>10402</th>\n",
       "      <th>Driver</th>\n",
       "      <td>98.65</td>\n",
       "    </tr>\n",
       "  </tbody>\n",
       "</table>\n",
       "</div>"
      ],
      "text/plain": [
       "                         SellingPrice.VALUE\n",
       "ProductId Product Class                    \n",
       "3003      Complementary              443.73\n",
       "3031      Driver                     344.72\n",
       "3052      Independent                135.98\n",
       "10395     Driver                     302.53\n",
       "10402     Driver                      98.65"
      ]
     },
     "execution_count": 46,
     "metadata": {},
     "output_type": "execute_result"
    }
   ],
   "source": [
    "initial_price_list_with_classes = cube.query(\n",
    "    m[\"SellingPrice.VALUE\"],\n",
    "    levels=[\n",
    "        lvl[\"ProductId\"],\n",
    "        lvl[\"Product Class\"],\n",
    "    ],\n",
    ")\n",
    "initial_price_list_with_classes.head()"
   ]
  },
  {
   "cell_type": "markdown",
   "metadata": {},
   "source": [
    "We will then give our initial price list to a price optimizer that will optimize prices and load the resulting price list into a third scenario named \"Optimized price index\" that we will be able to compare to the other scenarios."
   ]
  },
  {
   "cell_type": "code",
   "execution_count": 47,
   "metadata": {},
   "outputs": [],
   "source": [
    "initial_price_list_with_classes.reset_index(inplace=True)"
   ]
  },
  {
   "cell_type": "code",
   "execution_count": 48,
   "metadata": {},
   "outputs": [],
   "source": [
    "selling_prices_for_optimized_price_index = pricer.optimize_price_index(\n",
    "    initial_price_list_with_classes\n",
    ")"
   ]
  },
  {
   "cell_type": "code",
   "execution_count": 49,
   "metadata": {},
   "outputs": [],
   "source": [
    "selling_prices_table.scenarios[\"Optimized price index\"].load_pandas(\n",
    "    selling_prices_for_optimized_price_index\n",
    ")"
   ]
  },
  {
   "cell_type": "markdown",
   "metadata": {},
   "source": [
    "The result as we can see below is much better since we have been able to very slightly increase our global margin, while being much more competitive on the Driver products"
   ]
  },
  {
   "cell_type": "code",
   "execution_count": 50,
   "metadata": {
    "atoti": {
     "height": 315,
     "widget": {
      "columnWidths": {
       "[Epoch].[Epoch].[Branch]": 151
      },
      "mapping": {
       "columns": [
        "ALL_MEASURES"
       ],
       "measures": [
        "[Measures].[Margin Delta]",
        "[Measures].[Margin.SUM]",
        "[Measures].[Price Index Delta]",
        "[Measures].[Price Index]"
       ],
       "rows": [
        "[Epoch].[Epoch].[Branch] => [classified_products].[Product Class].[Product Class]"
       ]
      },
      "name": "Results summary",
      "query": {
       "context": {
        "queriesResultLimit.intermediateSize": 1000000,
        "queriesResultLimit.transientSize": 10000000
       },
       "mdx": "WITH  Member [Measures].[Margin Delta] AS [Measures].[Margin.SUM] - ([Measures].[Margin.SUM], [Epoch].[Epoch].[Base]), FORE_COLOR = CASE WHEN [Measures].[Margin Delta] >= 0 THEN rgb(44, 160, 44) WHEN [Measures].[Margin Delta] < 0 THEN rgb(224, 102, 102) END, FONT_FLAGS = CASE WHEN [Measures].[Margin Delta] >= 0 THEN 1 WHEN [Measures].[Margin Delta] < 0 THEN 1 END, FORMAT_STRING = \"#,###.\n##\"    Member [Measures].[Price Index Delta] AS [Measures].[Price Index] - ([Measures].[Price Index], [Epoch].[Epoch].[Base]), FORE_COLOR = CASE WHEN [Measures].[Price Index Delta] <= 0 THEN rgb(44, 160, 44) WHEN [Measures].[Price Index Delta] > 0 THEN rgb(224, 102, 102) END, FONT_FLAGS = CASE WHEN [Measures].[Price Index Delta] <= 0 THEN 1 WHEN [Measures].[Price Index Delta] > 0 THEN 1 END, FORMAT_STRING = \"#,###.##\"  SELECT NON EMPTY Hierarchize(Union(Crossjoin(Union(Hierarchize([Epoch].[Epoch].[Branch].Members), [Epoch].[Epoch].[Branch].Members), [classified_products].[Product Class].DefaultMember), Crossjoin([Epoch].[Epoch].[Base], Hierarchize(Descendants({[classified_products].[Product Class].[AllMember]}, 1, SELF_AND_BEFORE))), Crossjoin([Epoch].[Epoch].[Optimized price index], Hierarchize(Descendants({[classified_products].[Product Class].[AllMember]}, 1, SELF_AND_BEFORE))))) ON ROWS, NON EMPTY {[Measures].[Price Index], [Measures].[Margin.SUM], [Measures].[Margin Delta], [Measures].[Price Index Delta]} ON COLUMNS FROM [products_cube] CELL PROPERTIES BACK_COLOR, FONT_FLAGS, FORE_COLOR, FORMATTED_VALUE, VALUE",
       "updateMode": "once"
      },
      "serverKey": "default",
      "widgetKey": "pivot-table"
     }
    }
   },
   "outputs": [
    {
     "data": {
      "application/vnd.atoti.widget.v0+json": {
       "name": "Results summary",
       "sessionId": "1648808159_SOX2DY",
       "sessionLocation": {
        "https": null,
        "port": 1111
       },
       "widgetCreationCode": "session.visualize()"
      },
      "text/html": [
       "<img src=\"data:image/svg+xml;charset=utf8,%3C%3Fxml%20version%3D%221.0%22%20standalone%3D%22no%22%3F%3E%3Csvg%20xmlns%3D%22http%3A%2F%2Fwww.w3.org%2F2000%2Fsvg%22%20height%3D%22307%22%20width%3D%22967%22%3E%3CforeignObject%20width%3D%22100%25%22%20height%3D%22100%25%22%20x%3D%220%22%20y%3D%220%22%3E%3Cstyle%20xmlns%3D%22http%3A%2F%2Fwww.w3.org%2F1999%2Fxhtml%22%20type%3D%22text%2Fcss%22%3E.anticon%20%7Bdisplay%3A%20inline-block%3B%20color%3A%20inherit%3B%20font-style%3A%20normal%3B%20line-height%3A%200%3B%20text-align%3A%20center%3B%20text-transform%3A%20none%3B%20vertical-align%3A%20-0.125em%3B%20text-rendering%3A%20optimizelegibility%3B%20-webkit-font-smoothing%3A%20antialiased%7D%0A.anticon%20%26gt%3B%20*%20%7Bline-height%3A%201%7D%0A.anticon%20svg%20%7Bdisplay%3A%20inline-block%7D%0A.anticon%5Btabindex%5D%20%7Bcursor%3A%20pointer%7D%0A*%2C%20%3A%3Abefore%2C%20%3A%3Aafter%20%7Bbox-sizing%3A%20unset%7D%0A.ant-root%20%5Bclass%5E%3D%22ant-%22%5D%2C%20.ant-root%20%5Bclass*%3D%22ant-%22%5D%2C%20.ant-root%20%5Bclass%5E%3D%22ant-%22%5D%20*%2C%20.ant-root%20%5Bclass*%3D%22ant-%22%5D%20*%2C%20.ant-root%20%5Bclass%5E%3D%22ant-%22%5D%20%3A%3Abefore%2C%20.ant-root%20%5Bclass*%3D%22ant-%22%5D%20%3A%3Abefore%2C%20.ant-root%20%5Bclass%5E%3D%22ant-%22%5D%20%3A%3Aafter%2C%20.ant-root%20%5Bclass*%3D%22ant-%22%5D%20%3A%3Aafter%20%7Bbox-sizing%3A%20border-box%7D%0A.ant-root%20html%2C%20.ant-root%20%7Bwidth%3A%20100%25%3B%20height%3A%20100%25%7D%0A.ant-root%20*%2C%20.ant-root%20%3A%3Abefore%2C%20.ant-root%20%3A%3Aafter%20%7Bbox-sizing%3A%20border-box%7D%0A.ant-root%20%7Bmargin-top%3A%200px%3B%20margin-right%3A%200px%3B%20margin-bottom%3A%200px%3B%20margin-left%3A%200px%3B%20color%3A%20rgb(89%2C%2089%2C%2089)%3B%20font-size%3A%2012px%3B%20font-family%3A%20-apple-system%2C%20BlinkMacSystemFont%2C%20%22Segoe%20UI%22%2C%20Roboto%2C%20%22Helvetica%20Neue%22%2C%20Arial%2C%20%22Noto%20Sans%22%2C%20sans-serif%2C%20%22Apple%20Color%20Emoji%22%2C%20%22Segoe%20UI%20Emoji%22%2C%20%22Segoe%20UI%20Symbol%22%2C%20%22Noto%20Color%20Emoji%22%3B%20font-variant-ligatures%3A%20normal%3B%20font-variant-numeric%3A%20tabular-nums%3B%20font-variant-east-asian%3A%20normal%3B%20font-variant-caps%3A%20normal%3B%20line-height%3A%201.66667%3B%20background-color%3A%20rgb(255%2C%20255%2C%20255)%3B%20--antd-wave-shadow-color%3A%20%20%231890FF%3B%20--scroll-bar%3A%20%200%7D%0A.ant-root%20svg%3Anot(%3Aroot)%20%7Boverflow-x%3A%20hidden%3B%20overflow-y%3A%20hidden%7D%0A.ant-root%20.anticon%20%7Bdisplay%3A%20inline-block%3B%20color%3A%20inherit%3B%20font-style%3A%20normal%3B%20line-height%3A%200%3B%20text-align%3A%20center%3B%20text-transform%3A%20none%3B%20vertical-align%3A%20-0.125em%3B%20text-rendering%3A%20optimizelegibility%3B%20-webkit-font-smoothing%3A%20antialiased%7D%0A.ant-root%20.anticon%20%26gt%3B%20*%20%7Bline-height%3A%201%7D%0A.ant-root%20.anticon%20svg%20%7Bdisplay%3A%20inline-block%7D%0A.ant-root%20.anticon%5Btabindex%5D%20%7Bcursor%3A%20pointer%7D%0A.ant-root%20.ant-spin%20%7Bbox-sizing%3A%20border-box%3B%20margin-top%3A%200px%3B%20margin-right%3A%200px%3B%20margin-bottom%3A%200px%3B%20margin-left%3A%200px%3B%20padding-top%3A%200px%3B%20padding-right%3A%200px%3B%20padding-bottom%3A%200px%3B%20padding-left%3A%200px%3B%20font-size%3A%2012px%3B%20font-variant-ligatures%3A%20normal%3B%20font-variant-numeric%3A%20tabular-nums%3B%20font-variant-east-asian%3A%20normal%3B%20font-variant-caps%3A%20normal%3B%20line-height%3A%201.66667%3B%20list-style-position%3A%20initial%3B%20list-style-image%3A%20initial%3B%20list-style-type%3A%20none%3B%20position%3A%20absolute%3B%20display%3A%20none%3B%20color%3A%20rgb(24%2C%20144%2C%20255)%3B%20text-align%3A%20center%3B%20vertical-align%3A%20middle%3B%20opacity%3A%200%3B%20transition-duration%3A%200.3s%3B%20transition-timing-function%3A%20cubic-bezier(0.78%2C%200.14%2C%200.15%2C%200.86)%3B%20transition-delay%3A%200s%3B%20transition-property%3A%20transform%7D%0A.ant-root%20.ant-spin-spinning%20%7Bposition%3A%20static%3B%20display%3A%20inline-block%3B%20opacity%3A%201%7D%0A.ant-root%20.ant-spin-dot%20%7Bposition%3A%20relative%3B%20display%3A%20inline-block%3B%20font-size%3A%2020px%3B%20width%3A%201em%3B%20height%3A%201em%7D%0A.ant-root%20.ant-spin-dot-item%20%7Bposition%3A%20absolute%3B%20display%3A%20block%3B%20width%3A%209px%3B%20height%3A%209px%3B%20background-color%3A%20rgb(24%2C%20144%2C%20255)%3B%20border-top-left-radius%3A%20100%25%3B%20border-top-right-radius%3A%20100%25%3B%20border-bottom-right-radius%3A%20100%25%3B%20border-bottom-left-radius%3A%20100%25%3B%20transform%3A%20scale(0.75)%3B%20transform-origin%3A%2050%25%2050%25%3B%20opacity%3A%200.3%3B%20animation-duration%3A%201s%3B%20animation-timing-function%3A%20linear%3B%20animation-delay%3A%200s%3B%20animation-iteration-count%3A%20infinite%3B%20animation-direction%3A%20alternate%3B%20animation-fill-mode%3A%20none%3B%20animation-play-state%3A%20running%3B%20animation-name%3A%20antSpinMove%7D%0A.ant-root%20.ant-spin-dot-item%3Anth-child(1)%20%7Btop%3A%200px%3B%20left%3A%200px%7D%0A.ant-root%20.ant-spin-dot-item%3Anth-child(2)%20%7Btop%3A%200px%3B%20right%3A%200px%3B%20animation-delay%3A%200.4s%7D%0A.ant-root%20.ant-spin-dot-item%3Anth-child(3)%20%7Bright%3A%200px%3B%20bottom%3A%200px%3B%20animation-delay%3A%200.8s%7D%0A.ant-root%20.ant-spin-dot-item%3Anth-child(4)%20%7Bbottom%3A%200px%3B%20left%3A%200px%3B%20animation-delay%3A%201.2s%7D%0A.ant-root%20.ant-spin-dot-spin%20%7Btransform%3A%20rotate(45deg)%3B%20animation-duration%3A%201.2s%3B%20animation-timing-function%3A%20linear%3B%20animation-delay%3A%200s%3B%20animation-iteration-count%3A%20infinite%3B%20animation-direction%3A%20normal%3B%20animation-fill-mode%3A%20none%3B%20animation-play-state%3A%20running%3B%20animation-name%3A%20antRotate%7D%0A.ant-root%20.ant-spin-lg%20.ant-spin-dot%20%7Bfont-size%3A%2032px%7D%0A.ant-root%20.ant-spin-lg%20.ant-spin-dot%20i%20%7Bwidth%3A%2014px%3B%20height%3A%2014px%7D%0A.ant-root%20.aui-invisible-scrollbars%20%7B%7D%0A.css-12ebr42-AWidget%20%7Bheight%3A%20100%25%7D%0A.css-ck2xzt-Spinner%20%7B-webkit-box-align%3A%20center%3B%20align-items%3A%20center%3B%20background-image%3A%20initial%3B%20background-position-x%3A%20initial%3B%20background-position-y%3A%20initial%3B%20background-size%3A%20initial%3B%20background-repeat-x%3A%20initial%3B%20background-repeat-y%3A%20initial%3B%20background-attachment%3A%20initial%3B%20background-origin%3A%20initial%3B%20background-clip%3A%20initial%3B%20background-color%3A%20transparent%3B%20display%3A%20flex%3B%20height%3A%20100%25%3B%20-webkit-box-pack%3A%20center%3B%20justify-content%3A%20center%3B%20position%3A%20absolute%3B%20transition-duration%3A%20300ms%3B%20transition-timing-function%3A%20ease%3B%20transition-delay%3A%200s%3B%20transition-property%3A%20opacity%3B%20width%3A%20100%25%3B%20opacity%3A%200%3B%20pointer-events%3A%20none%3B%20z-index%3A%202%7D%0A.css-1e3kjgr-Spinner%20%7Bheight%3A%20100%25%3B%20position%3A%20relative%7D%0A.css-1hwl8p1-Table%20%7Bpadding-bottom%3A%202px%3B%20padding-right%3A%202px%3B%20height%3A%20100%25%7D%0A.css-14ejcn0-Table%20%7Bheight%3A%20calc(100%25%20-%2030px)%3B%20outline-color%3A%20initial%3B%20outline-style%3A%20none%3B%20outline-width%3A%20initial%3B%20position%3A%20relative%7D%0A.css-1rxpjm0-ColumnResizeHint%20%7Bdisplay%3A%20none%3B%20position%3A%20absolute%3B%20z-index%3A%201%7D%0A.css-walxhl-ColumnResizeHint%20%7Bheight%3A%2028px%3B%20background-color%3A%20rgb(24%2C%20144%2C%20255)%3B%20width%3A%205px%7D%0A.css-1uww2vi-Table%20%7Bheight%3A%2030px%3B%20text-align%3A%20right%3B%20padding-right%3A%2025px%7D%0A.css-1hol363-ResizableCell%20%7Bdisplay%3A%20flex%3B%20flex-direction%3A%20column%3B%20position%3A%20absolute%3B%20top%3A%200px%3B%20left%3A%200px%3B%20height%3A%2028px%3B%20width%3A%20120px%7D%0A.css-xxcrt1-ResizableCell%20%7Bbackground-image%3A%20initial%3B%20background-position-x%3A%20initial%3B%20background-position-y%3A%20initial%3B%20background-size%3A%20initial%3B%20background-repeat-x%3A%20initial%3B%20background-repeat-y%3A%20initial%3B%20background-attachment%3A%20initial%3B%20background-origin%3A%20initial%3B%20background-clip%3A%20initial%3B%20background-color%3A%20transparent%3B%20cursor%3A%20col-resize%3B%20height%3A%20100%25%3B%20position%3A%20absolute%3B%20right%3A%200px%3B%20width%3A%205px%3B%20z-index%3A%201%7D%0A.css-fpuq48-ResizableCell%20%7Bdisplay%3A%20flex%3B%20flex-direction%3A%20column%3B%20position%3A%20absolute%3B%20top%3A%200px%3B%20left%3A%20120px%3B%20height%3A%2028px%3B%20width%3A%20120px%7D%0A.css-1g2rciv%20%7Bcursor%3A%20cell%3B%20height%3A%2028px%3B%20overflow-x%3A%20hidden%3B%20overflow-y%3A%20hidden%3B%20position%3A%20relative%3B%20width%3A%20480px%7D%0A.css-3geaec-ResizableCell%20%7Bdisplay%3A%20flex%3B%20flex-direction%3A%20column%3B%20position%3A%20absolute%3B%20top%3A%200px%3B%20left%3A%20240px%3B%20height%3A%2028px%3B%20width%3A%20120px%7D%0A.css-9kbkmr-ResizableCell%20%7Bdisplay%3A%20flex%3B%20flex-direction%3A%20column%3B%20position%3A%20absolute%3B%20top%3A%200px%3B%20left%3A%20360px%3B%20height%3A%2028px%3B%20width%3A%20120px%7D%0A.css-1levjol-ColumnResizeHint%20%7Bdisplay%3A%20none%3B%20float%3A%20right%3B%20height%3A%20247px%3B%20background-color%3A%20rgb(24%2C%20144%2C%20255)%3B%20opacity%3A%200.4%3B%20width%3A%202px%7D%0A.css-1h3j5vp-Table%20%7Bdisplay%3A%20flex%3B%20height%3A%20275px%7D%0A.css-1uih8is-Table%20%7Bborder-collapse%3A%20collapse%3B%20height%3A%2028px%3B%20width%3A%20271px%7D%0A.css-hy45j1%20%7Bheight%3A%2028px%3B%20width%3A%20271px%7D%0A.css-10flsj3%20%7Bcursor%3A%20cell%3B%20height%3A%2028px%3B%20overflow-x%3A%20hidden%3B%20overflow-y%3A%20hidden%3B%20position%3A%20relative%3B%20width%3A%20271px%3B%20border-right-width%3A%202px%3B%20border-right-style%3A%20solid%3B%20border-right-color%3A%20rgb(233%2C%20233%2C%20233)%7D%0A.css-1yxiijq-ResizableCell%20%7Bdisplay%3A%20flex%3B%20flex-direction%3A%20column%3B%20position%3A%20absolute%3B%20top%3A%200px%3B%20left%3A%200px%3B%20height%3A%2028px%3B%20width%3A%20151px%7D%0A.css-100z50g-ResizableCell%20%7Bdisplay%3A%20flex%3B%20flex-direction%3A%20column%3B%20position%3A%20absolute%3B%20top%3A%200px%3B%20left%3A%20151px%3B%20height%3A%2028px%3B%20width%3A%20120px%7D%0A.css-w0iqwq%20%7Bheight%3A%20247px%3B%20width%3A%20271px%3B%20overflow-x%3A%20hidden%3B%20overflow-y%3A%20auto%7D%0A.css-18u7v8s%20%7Bcursor%3A%20cell%3B%20height%3A%20224px%3B%20overflow-x%3A%20hidden%3B%20overflow-y%3A%20hidden%3B%20position%3A%20relative%3B%20width%3A%20271px%3B%20border-top-width%3A%202px%3B%20border-top-style%3A%20solid%3B%20border-top-color%3A%20rgb(233%2C%20233%2C%20233)%3B%20border-right-width%3A%202px%3B%20border-right-style%3A%20solid%3B%20border-right-color%3A%20rgb(233%2C%20233%2C%20233)%7D%0A.css-5mynfl-Table%20%7Bwidth%3A%20694px%3B%20border-collapse%3A%20collapse%7D%0A.css-tjwbt9%20%7Bheight%3A%2028px%3B%20width%3A%20676px%3B%20overflow-x%3A%20auto%3B%20overflow-y%3A%20hidden%7D%0A.css-1vserq2%20%7Bheight%3A%20247px%3B%20width%3A%20694px%3B%20overflow-x%3A%20auto%3B%20overflow-y%3A%20auto%7D%0A.css-p4c1h4%20%7Bcursor%3A%20cell%3B%20height%3A%20224px%3B%20overflow-x%3A%20hidden%3B%20overflow-y%3A%20hidden%3B%20position%3A%20relative%3B%20width%3A%20480px%3B%20border-top-width%3A%202px%3B%20border-top-style%3A%20solid%3B%20border-top-color%3A%20rgb(233%2C%20233%2C%20233)%7D%0A*%20%7B-ms-overflow-style%3A%20none%3B%20scrollbar-width%3A%20none%7D%0A*%3A%3A-webkit-scrollbar%20%7Bdisplay%3A%20none%7D%0A.atoti-hidden-in-snapshot%20%7Bdisplay%3A%20none%7D%3C%2Fstyle%3E%3Cdiv%20xmlns%3D%22http%3A%2F%2Fwww.w3.org%2F1999%2Fxhtml%22%20style%3D%22height%3A%20307px%3B%20width%3A%20967px%3B%22%3E%3Cdiv%20class%3D%22ant-root%20css-0%22%3E%3Cdiv%20class%3D%22ant-dropdown-trigger%20css-12ebr42-AWidget%22%3E%3Cdiv%20class%3D%22css-1e3kjgr-Spinner%22%3E%3Cdiv%20class%3D%22css-ck2xzt-Spinner%22%3E%3Cdiv%20class%3D%22ant-spin%20ant-spin-lg%20ant-spin-spinning%22%3E%3Cspan%20class%3D%22ant-spin-dot%20ant-spin-dot-spin%22%3E%3Ci%20class%3D%22ant-spin-dot-item%22%3E%3C%2Fi%3E%3Ci%20class%3D%22ant-spin-dot-item%22%3E%3C%2Fi%3E%3Ci%20class%3D%22ant-spin-dot-item%22%3E%3C%2Fi%3E%3Ci%20class%3D%22ant-spin-dot-item%22%3E%3C%2Fi%3E%3C%2Fspan%3E%3C%2Fdiv%3E%3C%2Fdiv%3E%3Cdiv%20class%3D%22css-1hwl8p1-Table%22%3E%3Cdiv%20tabindex%3D%220%22%20class%3D%22css-14ejcn0-Table%22%3E%3Cdiv%20class%3D%22css-1rxpjm0-ColumnResizeHint%22%3E%3Cdiv%20class%3D%22css-walxhl-ColumnResizeHint%22%3E%3C%2Fdiv%3E%3Cdiv%20class%3D%22css-1levjol-ColumnResizeHint%22%3E%3C%2Fdiv%3E%3C%2Fdiv%3E%3Cdiv%20class%3D%22css-1h3j5vp-Table%22%3E%3Cdiv%20class%3D%22css-1uih8is-Table%22%3E%3Cdiv%20class%3D%22%20css-hy45j1%22%3E%3Cdiv%20class%3D%22css-10flsj3%22%3E%3Cdiv%20class%3D%22css-1yxiijq-ResizableCell%22%3E%3Cdiv%20class%3D%22aui-table-cell%22%20style%3D%22height%3A%2028px%3B%20left%3A%200px%3B%20top%3A%200px%3B%20width%3A%20146px%3B%20text-align%3A%20left%3B%20font-size%3A%2012px%3B%20padding%3A%204px%204px%203px%3B%20overflow%3A%20hidden%3B%20position%3A%20absolute%3B%20white-space%3A%20nowrap%3B%20text-overflow%3A%20ellipsis%3B%20font-weight%3A%20600%3B%20display%3A%20flex%3B%20align-items%3A%20center%3B%22%3E%3Cspan%3EScenario%3C%2Fspan%3E%3C%2Fdiv%3E%3Cdiv%20class%3D%22css-xxcrt1-ResizableCell%22%3E%3C%2Fdiv%3E%3C%2Fdiv%3E%3Cdiv%20class%3D%22css-100z50g-ResizableCell%22%3E%3Cdiv%20class%3D%22aui-table-cell%22%20style%3D%22height%3A%2028px%3B%20left%3A%200px%3B%20top%3A%200px%3B%20width%3A%20115px%3B%20text-align%3A%20left%3B%20font-size%3A%2012px%3B%20padding%3A%204px%204px%203px%3B%20overflow%3A%20hidden%3B%20position%3A%20absolute%3B%20white-space%3A%20nowrap%3B%20text-overflow%3A%20ellipsis%3B%20font-weight%3A%20600%3B%20display%3A%20flex%3B%20align-items%3A%20center%3B%22%3E%3Cspan%3EProduct%20Class%3C%2Fspan%3E%3C%2Fdiv%3E%3Cdiv%20class%3D%22css-xxcrt1-ResizableCell%22%3E%3C%2Fdiv%3E%3C%2Fdiv%3E%3C%2Fdiv%3E%3C%2Fdiv%3E%3Cdiv%20class%3D%22aui-invisible-scrollbars%20css-w0iqwq%22%3E%3Cdiv%20class%3D%22css-18u7v8s%22%3E%3Cdiv%20style%3D%22display%3A%20flex%3B%20align-items%3A%20center%3B%20height%3A%2028px%3B%20left%3A%200px%3B%20top%3A%200px%3B%20width%3A%20151px%3B%20text-align%3A%20left%3B%20font-size%3A%2012px%3B%20padding%3A%204px%204px%203px%3B%20overflow%3A%20hidden%3B%20position%3A%20absolute%3B%20white-space%3A%20nowrap%3B%20text-overflow%3A%20ellipsis%3B%20background-color%3A%20transparent%3B%20font-weight%3A%20600%3B%22%3E%3Cspan%20role%3D%22img%22%20aria-label%3D%22caret-down%22%20tabindex%3D%22-1%22%20class%3D%22anticon%20anticon-caret-down%22%20style%3D%22cursor%3A%20pointer%3B%20font-size%3A%2012px%3B%20margin-right%3A%206px%3B%20color%3A%20rgb(141%2C%20141%2C%20141)%3B%22%3E%3Csvg%20xmlns%3D%22http%3A%2F%2Fwww.w3.org%2F2000%2Fsvg%22%20viewBox%3D%220%200%201024%201024%22%20focusable%3D%22false%22%20data-icon%3D%22caret-down%22%20width%3D%221em%22%20height%3D%221em%22%20fill%3D%22currentColor%22%20aria-hidden%3D%22true%22%3E%3Cpath%20d%3D%22M840.4%20300H183.6c-19.7%200-30.7%2020.8-18.5%2035l328.4%20380.8c9.4%2010.9%2027.5%2010.9%2037%200L858.9%20335c12.2-14.2%201.2-35-18.5-35z%22%2F%3E%3C%2Fsvg%3E%3C%2Fspan%3E%3Cspan%20style%3D%22text-overflow%3A%20ellipsis%3B%20overflow%3A%20hidden%3B%20white-space%3A%20nowrap%3B%20max-width%3A%20calc((100%25%20-%2016px)%20-%200px)%3B%22%3EBase%3C%2Fspan%3E%3C%2Fdiv%3E%3Cdiv%20style%3D%22display%3A%20flex%3B%20align-items%3A%20center%3B%20height%3A%2028px%3B%20left%3A%20151px%3B%20top%3A%200px%3B%20width%3A%20120px%3B%20text-align%3A%20left%3B%20font-size%3A%2012px%3B%20padding%3A%204px%204px%203px%3B%20overflow%3A%20hidden%3B%20position%3A%20absolute%3B%20white-space%3A%20nowrap%3B%20text-overflow%3A%20ellipsis%3B%20background-color%3A%20transparent%3B%20border-right%3A%202px%20solid%20rgb(233%2C%20233%2C%20233)%3B%22%3E%3Cspan%20style%3D%22text-overflow%3A%20ellipsis%3B%20overflow%3A%20hidden%3B%20white-space%3A%20nowrap%3B%20max-width%3A%20calc((100%25%20-%200px)%20-%200px)%3B%22%3E%3C%2Fspan%3E%3C%2Fdiv%3E%3Cdiv%20style%3D%22display%3A%20none%3B%20align-items%3A%20center%3B%20height%3A%2028px%3B%20left%3A%200px%3B%20top%3A%2028px%3B%20width%3A%20151px%3B%20text-align%3A%20left%3B%20font-size%3A%2012px%3B%20padding%3A%204px%204px%203px%3B%20overflow%3A%20hidden%3B%20position%3A%20absolute%3B%20white-space%3A%20nowrap%3B%20text-overflow%3A%20ellipsis%3B%20background-color%3A%20transparent%3B%20font-weight%3A%20600%3B%22%3E%3Cspan%20role%3D%22img%22%20aria-label%3D%22caret-down%22%20tabindex%3D%22-1%22%20class%3D%22anticon%20anticon-caret-down%22%20style%3D%22cursor%3A%20pointer%3B%20font-size%3A%2012px%3B%20margin-right%3A%206px%3B%20color%3A%20rgb(141%2C%20141%2C%20141)%3B%22%3E%3Csvg%20xmlns%3D%22http%3A%2F%2Fwww.w3.org%2F2000%2Fsvg%22%20viewBox%3D%220%200%201024%201024%22%20focusable%3D%22false%22%20data-icon%3D%22caret-down%22%20width%3D%221em%22%20height%3D%221em%22%20fill%3D%22currentColor%22%20aria-hidden%3D%22true%22%3E%3Cpath%20d%3D%22M840.4%20300H183.6c-19.7%200-30.7%2020.8-18.5%2035l328.4%20380.8c9.4%2010.9%2027.5%2010.9%2037%200L858.9%20335c12.2-14.2%201.2-35-18.5-35z%22%2F%3E%3C%2Fsvg%3E%3C%2Fspan%3E%3Cspan%20style%3D%22text-overflow%3A%20ellipsis%3B%20overflow%3A%20hidden%3B%20white-space%3A%20nowrap%3B%20max-width%3A%20calc((100%25%20-%2016px)%20-%200px)%3B%22%3EBase%3C%2Fspan%3E%3C%2Fdiv%3E%3Cdiv%20style%3D%22display%3A%20flex%3B%20align-items%3A%20center%3B%20height%3A%2028px%3B%20left%3A%20151px%3B%20top%3A%2028px%3B%20width%3A%20120px%3B%20text-align%3A%20left%3B%20font-size%3A%2012px%3B%20padding%3A%204px%204px%203px%3B%20overflow%3A%20hidden%3B%20position%3A%20absolute%3B%20white-space%3A%20nowrap%3B%20text-overflow%3A%20ellipsis%3B%20background-color%3A%20rgb(250%2C%20250%2C%20250)%3B%20border-right%3A%202px%20solid%20rgb(233%2C%20233%2C%20233)%3B%22%3E%3Cspan%20style%3D%22text-overflow%3A%20ellipsis%3B%20overflow%3A%20hidden%3B%20white-space%3A%20nowrap%3B%20max-width%3A%20calc((100%25%20-%200px)%20-%200px)%3B%22%3EComplementary%3C%2Fspan%3E%3C%2Fdiv%3E%3Cdiv%20style%3D%22display%3A%20none%3B%20align-items%3A%20center%3B%20height%3A%2028px%3B%20left%3A%200px%3B%20top%3A%2056px%3B%20width%3A%20151px%3B%20text-align%3A%20left%3B%20font-size%3A%2012px%3B%20padding%3A%204px%204px%203px%3B%20overflow%3A%20hidden%3B%20position%3A%20absolute%3B%20white-space%3A%20nowrap%3B%20text-overflow%3A%20ellipsis%3B%20background-color%3A%20transparent%3B%20font-weight%3A%20600%3B%22%3E%3Cspan%20role%3D%22img%22%20aria-label%3D%22caret-down%22%20tabindex%3D%22-1%22%20class%3D%22anticon%20anticon-caret-down%22%20style%3D%22cursor%3A%20pointer%3B%20font-size%3A%2012px%3B%20margin-right%3A%206px%3B%20color%3A%20rgb(141%2C%20141%2C%20141)%3B%22%3E%3Csvg%20xmlns%3D%22http%3A%2F%2Fwww.w3.org%2F2000%2Fsvg%22%20viewBox%3D%220%200%201024%201024%22%20focusable%3D%22false%22%20data-icon%3D%22caret-down%22%20width%3D%221em%22%20height%3D%221em%22%20fill%3D%22currentColor%22%20aria-hidden%3D%22true%22%3E%3Cpath%20d%3D%22M840.4%20300H183.6c-19.7%200-30.7%2020.8-18.5%2035l328.4%20380.8c9.4%2010.9%2027.5%2010.9%2037%200L858.9%20335c12.2-14.2%201.2-35-18.5-35z%22%2F%3E%3C%2Fsvg%3E%3C%2Fspan%3E%3Cspan%20style%3D%22text-overflow%3A%20ellipsis%3B%20overflow%3A%20hidden%3B%20white-space%3A%20nowrap%3B%20max-width%3A%20calc((100%25%20-%2016px)%20-%200px)%3B%22%3EBase%3C%2Fspan%3E%3C%2Fdiv%3E%3Cdiv%20style%3D%22display%3A%20flex%3B%20align-items%3A%20center%3B%20height%3A%2028px%3B%20left%3A%20151px%3B%20top%3A%2056px%3B%20width%3A%20120px%3B%20text-align%3A%20left%3B%20font-size%3A%2012px%3B%20padding%3A%204px%204px%203px%3B%20overflow%3A%20hidden%3B%20position%3A%20absolute%3B%20white-space%3A%20nowrap%3B%20text-overflow%3A%20ellipsis%3B%20background-color%3A%20transparent%3B%20border-right%3A%202px%20solid%20rgb(233%2C%20233%2C%20233)%3B%22%3E%3Cspan%20style%3D%22text-overflow%3A%20ellipsis%3B%20overflow%3A%20hidden%3B%20white-space%3A%20nowrap%3B%20max-width%3A%20calc((100%25%20-%200px)%20-%200px)%3B%22%3EDriver%3C%2Fspan%3E%3C%2Fdiv%3E%3Cdiv%20style%3D%22display%3A%20none%3B%20align-items%3A%20center%3B%20height%3A%2028px%3B%20left%3A%200px%3B%20top%3A%2084px%3B%20width%3A%20151px%3B%20text-align%3A%20left%3B%20font-size%3A%2012px%3B%20padding%3A%204px%204px%203px%3B%20overflow%3A%20hidden%3B%20position%3A%20absolute%3B%20white-space%3A%20nowrap%3B%20text-overflow%3A%20ellipsis%3B%20background-color%3A%20transparent%3B%20font-weight%3A%20600%3B%22%3E%3Cspan%20role%3D%22img%22%20aria-label%3D%22caret-down%22%20tabindex%3D%22-1%22%20class%3D%22anticon%20anticon-caret-down%22%20style%3D%22cursor%3A%20pointer%3B%20font-size%3A%2012px%3B%20margin-right%3A%206px%3B%20color%3A%20rgb(141%2C%20141%2C%20141)%3B%22%3E%3Csvg%20xmlns%3D%22http%3A%2F%2Fwww.w3.org%2F2000%2Fsvg%22%20viewBox%3D%220%200%201024%201024%22%20focusable%3D%22false%22%20data-icon%3D%22caret-down%22%20width%3D%221em%22%20height%3D%221em%22%20fill%3D%22currentColor%22%20aria-hidden%3D%22true%22%3E%3Cpath%20d%3D%22M840.4%20300H183.6c-19.7%200-30.7%2020.8-18.5%2035l328.4%20380.8c9.4%2010.9%2027.5%2010.9%2037%200L858.9%20335c12.2-14.2%201.2-35-18.5-35z%22%2F%3E%3C%2Fsvg%3E%3C%2Fspan%3E%3Cspan%20style%3D%22text-overflow%3A%20ellipsis%3B%20overflow%3A%20hidden%3B%20white-space%3A%20nowrap%3B%20max-width%3A%20calc((100%25%20-%2016px)%20-%200px)%3B%22%3EBase%3C%2Fspan%3E%3C%2Fdiv%3E%3Cdiv%20style%3D%22display%3A%20flex%3B%20align-items%3A%20center%3B%20height%3A%2028px%3B%20left%3A%20151px%3B%20top%3A%2084px%3B%20width%3A%20120px%3B%20text-align%3A%20left%3B%20font-size%3A%2012px%3B%20padding%3A%204px%204px%203px%3B%20overflow%3A%20hidden%3B%20position%3A%20absolute%3B%20white-space%3A%20nowrap%3B%20text-overflow%3A%20ellipsis%3B%20background-color%3A%20rgb(250%2C%20250%2C%20250)%3B%20border-right%3A%202px%20solid%20rgb(233%2C%20233%2C%20233)%3B%22%3E%3Cspan%20style%3D%22text-overflow%3A%20ellipsis%3B%20overflow%3A%20hidden%3B%20white-space%3A%20nowrap%3B%20max-width%3A%20calc((100%25%20-%200px)%20-%200px)%3B%22%3EIndependent%3C%2Fspan%3E%3C%2Fdiv%3E%3Cdiv%20style%3D%22display%3A%20flex%3B%20align-items%3A%20center%3B%20height%3A%2028px%3B%20left%3A%200px%3B%20top%3A%20112px%3B%20width%3A%20151px%3B%20text-align%3A%20left%3B%20font-size%3A%2012px%3B%20padding%3A%204px%204px%203px%3B%20overflow%3A%20hidden%3B%20position%3A%20absolute%3B%20white-space%3A%20nowrap%3B%20text-overflow%3A%20ellipsis%3B%20background-color%3A%20transparent%3B%20border-top%3A%201px%20solid%20rgb(233%2C%20233%2C%20233)%3B%20font-weight%3A%20600%3B%22%3E%3Cspan%20role%3D%22img%22%20aria-label%3D%22caret-down%22%20tabindex%3D%22-1%22%20class%3D%22anticon%20anticon-caret-down%22%20style%3D%22cursor%3A%20pointer%3B%20font-size%3A%2012px%3B%20margin-right%3A%206px%3B%20color%3A%20rgb(141%2C%20141%2C%20141)%3B%22%3E%3Csvg%20xmlns%3D%22http%3A%2F%2Fwww.w3.org%2F2000%2Fsvg%22%20viewBox%3D%220%200%201024%201024%22%20focusable%3D%22false%22%20data-icon%3D%22caret-down%22%20width%3D%221em%22%20height%3D%221em%22%20fill%3D%22currentColor%22%20aria-hidden%3D%22true%22%3E%3Cpath%20d%3D%22M840.4%20300H183.6c-19.7%200-30.7%2020.8-18.5%2035l328.4%20380.8c9.4%2010.9%2027.5%2010.9%2037%200L858.9%20335c12.2-14.2%201.2-35-18.5-35z%22%2F%3E%3C%2Fsvg%3E%3C%2Fspan%3E%3Cspan%20style%3D%22text-overflow%3A%20ellipsis%3B%20overflow%3A%20hidden%3B%20white-space%3A%20nowrap%3B%20max-width%3A%20calc((100%25%20-%2016px)%20-%200px)%3B%22%3EOptimized%20price%20index%3C%2Fspan%3E%3C%2Fdiv%3E%3Cdiv%20style%3D%22display%3A%20flex%3B%20align-items%3A%20center%3B%20height%3A%2028px%3B%20left%3A%20151px%3B%20top%3A%20112px%3B%20width%3A%20120px%3B%20text-align%3A%20left%3B%20font-size%3A%2012px%3B%20padding%3A%204px%204px%203px%3B%20overflow%3A%20hidden%3B%20position%3A%20absolute%3B%20white-space%3A%20nowrap%3B%20text-overflow%3A%20ellipsis%3B%20background-color%3A%20transparent%3B%20border-right%3A%202px%20solid%20rgb(233%2C%20233%2C%20233)%3B%20border-top%3A%201px%20solid%20rgb(233%2C%20233%2C%20233)%3B%22%3E%3Cspan%20style%3D%22text-overflow%3A%20ellipsis%3B%20overflow%3A%20hidden%3B%20white-space%3A%20nowrap%3B%20max-width%3A%20calc((100%25%20-%200px)%20-%200px)%3B%22%3E%3C%2Fspan%3E%3C%2Fdiv%3E%3Cdiv%20style%3D%22display%3A%20none%3B%20align-items%3A%20center%3B%20height%3A%2028px%3B%20left%3A%200px%3B%20top%3A%20140px%3B%20width%3A%20151px%3B%20text-align%3A%20left%3B%20font-size%3A%2012px%3B%20padding%3A%204px%204px%203px%3B%20overflow%3A%20hidden%3B%20position%3A%20absolute%3B%20white-space%3A%20nowrap%3B%20text-overflow%3A%20ellipsis%3B%20background-color%3A%20transparent%3B%20font-weight%3A%20600%3B%22%3E%3Cspan%20role%3D%22img%22%20aria-label%3D%22caret-down%22%20tabindex%3D%22-1%22%20class%3D%22anticon%20anticon-caret-down%22%20style%3D%22cursor%3A%20pointer%3B%20font-size%3A%2012px%3B%20margin-right%3A%206px%3B%20color%3A%20rgb(141%2C%20141%2C%20141)%3B%22%3E%3Csvg%20xmlns%3D%22http%3A%2F%2Fwww.w3.org%2F2000%2Fsvg%22%20viewBox%3D%220%200%201024%201024%22%20focusable%3D%22false%22%20data-icon%3D%22caret-down%22%20width%3D%221em%22%20height%3D%221em%22%20fill%3D%22currentColor%22%20aria-hidden%3D%22true%22%3E%3Cpath%20d%3D%22M840.4%20300H183.6c-19.7%200-30.7%2020.8-18.5%2035l328.4%20380.8c9.4%2010.9%2027.5%2010.9%2037%200L858.9%20335c12.2-14.2%201.2-35-18.5-35z%22%2F%3E%3C%2Fsvg%3E%3C%2Fspan%3E%3Cspan%20style%3D%22text-overflow%3A%20ellipsis%3B%20overflow%3A%20hidden%3B%20white-space%3A%20nowrap%3B%20max-width%3A%20calc((100%25%20-%2016px)%20-%200px)%3B%22%3EOptimized%20price%20index%3C%2Fspan%3E%3C%2Fdiv%3E%3Cdiv%20style%3D%22display%3A%20flex%3B%20align-items%3A%20center%3B%20height%3A%2028px%3B%20left%3A%20151px%3B%20top%3A%20140px%3B%20width%3A%20120px%3B%20text-align%3A%20left%3B%20font-size%3A%2012px%3B%20padding%3A%204px%204px%203px%3B%20overflow%3A%20hidden%3B%20position%3A%20absolute%3B%20white-space%3A%20nowrap%3B%20text-overflow%3A%20ellipsis%3B%20background-color%3A%20rgb(250%2C%20250%2C%20250)%3B%20border-right%3A%202px%20solid%20rgb(233%2C%20233%2C%20233)%3B%22%3E%3Cspan%20style%3D%22text-overflow%3A%20ellipsis%3B%20overflow%3A%20hidden%3B%20white-space%3A%20nowrap%3B%20max-width%3A%20calc((100%25%20-%200px)%20-%200px)%3B%22%3EComplementary%3C%2Fspan%3E%3C%2Fdiv%3E%3Cdiv%20style%3D%22display%3A%20none%3B%20align-items%3A%20center%3B%20height%3A%2028px%3B%20left%3A%200px%3B%20top%3A%20168px%3B%20width%3A%20151px%3B%20text-align%3A%20left%3B%20font-size%3A%2012px%3B%20padding%3A%204px%204px%203px%3B%20overflow%3A%20hidden%3B%20position%3A%20absolute%3B%20white-space%3A%20nowrap%3B%20text-overflow%3A%20ellipsis%3B%20background-color%3A%20transparent%3B%20font-weight%3A%20600%3B%22%3E%3Cspan%20role%3D%22img%22%20aria-label%3D%22caret-down%22%20tabindex%3D%22-1%22%20class%3D%22anticon%20anticon-caret-down%22%20style%3D%22cursor%3A%20pointer%3B%20font-size%3A%2012px%3B%20margin-right%3A%206px%3B%20color%3A%20rgb(141%2C%20141%2C%20141)%3B%22%3E%3Csvg%20xmlns%3D%22http%3A%2F%2Fwww.w3.org%2F2000%2Fsvg%22%20viewBox%3D%220%200%201024%201024%22%20focusable%3D%22false%22%20data-icon%3D%22caret-down%22%20width%3D%221em%22%20height%3D%221em%22%20fill%3D%22currentColor%22%20aria-hidden%3D%22true%22%3E%3Cpath%20d%3D%22M840.4%20300H183.6c-19.7%200-30.7%2020.8-18.5%2035l328.4%20380.8c9.4%2010.9%2027.5%2010.9%2037%200L858.9%20335c12.2-14.2%201.2-35-18.5-35z%22%2F%3E%3C%2Fsvg%3E%3C%2Fspan%3E%3Cspan%20style%3D%22text-overflow%3A%20ellipsis%3B%20overflow%3A%20hidden%3B%20white-space%3A%20nowrap%3B%20max-width%3A%20calc((100%25%20-%2016px)%20-%200px)%3B%22%3EOptimized%20price%20index%3C%2Fspan%3E%3C%2Fdiv%3E%3Cdiv%20style%3D%22display%3A%20flex%3B%20align-items%3A%20center%3B%20height%3A%2028px%3B%20left%3A%20151px%3B%20top%3A%20168px%3B%20width%3A%20120px%3B%20text-align%3A%20left%3B%20font-size%3A%2012px%3B%20padding%3A%204px%204px%203px%3B%20overflow%3A%20hidden%3B%20position%3A%20absolute%3B%20white-space%3A%20nowrap%3B%20text-overflow%3A%20ellipsis%3B%20background-color%3A%20transparent%3B%20border-right%3A%202px%20solid%20rgb(233%2C%20233%2C%20233)%3B%22%3E%3Cspan%20style%3D%22text-overflow%3A%20ellipsis%3B%20overflow%3A%20hidden%3B%20white-space%3A%20nowrap%3B%20max-width%3A%20calc((100%25%20-%200px)%20-%200px)%3B%22%3EDriver%3C%2Fspan%3E%3C%2Fdiv%3E%3Cdiv%20style%3D%22display%3A%20none%3B%20align-items%3A%20center%3B%20height%3A%2028px%3B%20left%3A%200px%3B%20top%3A%20196px%3B%20width%3A%20151px%3B%20text-align%3A%20left%3B%20font-size%3A%2012px%3B%20padding%3A%204px%204px%203px%3B%20overflow%3A%20hidden%3B%20position%3A%20absolute%3B%20white-space%3A%20nowrap%3B%20text-overflow%3A%20ellipsis%3B%20background-color%3A%20transparent%3B%20font-weight%3A%20600%3B%22%3E%3Cspan%20role%3D%22img%22%20aria-label%3D%22caret-down%22%20tabindex%3D%22-1%22%20class%3D%22anticon%20anticon-caret-down%22%20style%3D%22cursor%3A%20pointer%3B%20font-size%3A%2012px%3B%20margin-right%3A%206px%3B%20color%3A%20rgb(141%2C%20141%2C%20141)%3B%22%3E%3Csvg%20xmlns%3D%22http%3A%2F%2Fwww.w3.org%2F2000%2Fsvg%22%20viewBox%3D%220%200%201024%201024%22%20focusable%3D%22false%22%20data-icon%3D%22caret-down%22%20width%3D%221em%22%20height%3D%221em%22%20fill%3D%22currentColor%22%20aria-hidden%3D%22true%22%3E%3Cpath%20d%3D%22M840.4%20300H183.6c-19.7%200-30.7%2020.8-18.5%2035l328.4%20380.8c9.4%2010.9%2027.5%2010.9%2037%200L858.9%20335c12.2-14.2%201.2-35-18.5-35z%22%2F%3E%3C%2Fsvg%3E%3C%2Fspan%3E%3Cspan%20style%3D%22text-overflow%3A%20ellipsis%3B%20overflow%3A%20hidden%3B%20white-space%3A%20nowrap%3B%20max-width%3A%20calc((100%25%20-%2016px)%20-%200px)%3B%22%3EOptimized%20price%20index%3C%2Fspan%3E%3C%2Fdiv%3E%3Cdiv%20style%3D%22display%3A%20flex%3B%20align-items%3A%20center%3B%20height%3A%2028px%3B%20left%3A%20151px%3B%20top%3A%20196px%3B%20width%3A%20120px%3B%20text-align%3A%20left%3B%20font-size%3A%2012px%3B%20padding%3A%204px%204px%203px%3B%20overflow%3A%20hidden%3B%20position%3A%20absolute%3B%20white-space%3A%20nowrap%3B%20text-overflow%3A%20ellipsis%3B%20background-color%3A%20rgb(250%2C%20250%2C%20250)%3B%20border-right%3A%202px%20solid%20rgb(233%2C%20233%2C%20233)%3B%22%3E%3Cspan%20style%3D%22text-overflow%3A%20ellipsis%3B%20overflow%3A%20hidden%3B%20white-space%3A%20nowrap%3B%20max-width%3A%20calc((100%25%20-%200px)%20-%200px)%3B%22%3EIndependent%3C%2Fspan%3E%3C%2Fdiv%3E%3C%2Fdiv%3E%3C%2Fdiv%3E%3C%2Fdiv%3E%3Cdiv%20class%3D%22css-5mynfl-Table%22%3E%3Cdiv%20class%3D%22aui-invisible-scrollbars%20css-tjwbt9%22%3E%3Cdiv%20class%3D%22css-1g2rciv%22%3E%3Cdiv%20class%3D%22css-1hol363-ResizableCell%22%3E%3Cdiv%20style%3D%22display%3A%20flex%3B%20align-items%3A%20center%3B%20height%3A%2028px%3B%20left%3A%200px%3B%20top%3A%200px%3B%20width%3A%20115px%3B%20text-align%3A%20left%3B%20font-size%3A%2012px%3B%20padding%3A%204px%204px%203px%3B%20overflow%3A%20hidden%3B%20position%3A%20absolute%3B%20white-space%3A%20nowrap%3B%20text-overflow%3A%20ellipsis%3B%20font-weight%3A%20600%3B%22%3E%3Cspan%20style%3D%22text-overflow%3A%20ellipsis%3B%20overflow%3A%20hidden%3B%20white-space%3A%20nowrap%3B%20max-width%3A%20calc((100%25%20-%200px)%20-%200px)%3B%22%3EPrice%20Index%3C%2Fspan%3E%3C%2Fdiv%3E%3Cdiv%20class%3D%22css-xxcrt1-ResizableCell%22%3E%3C%2Fdiv%3E%3C%2Fdiv%3E%3Cdiv%20class%3D%22css-fpuq48-ResizableCell%22%3E%3Cdiv%20style%3D%22display%3A%20flex%3B%20align-items%3A%20center%3B%20height%3A%2028px%3B%20left%3A%200px%3B%20top%3A%200px%3B%20width%3A%20115px%3B%20text-align%3A%20left%3B%20font-size%3A%2012px%3B%20padding%3A%204px%204px%203px%3B%20overflow%3A%20hidden%3B%20position%3A%20absolute%3B%20white-space%3A%20nowrap%3B%20text-overflow%3A%20ellipsis%3B%20font-weight%3A%20600%3B%22%3E%3Cspan%20style%3D%22text-overflow%3A%20ellipsis%3B%20overflow%3A%20hidden%3B%20white-space%3A%20nowrap%3B%20max-width%3A%20calc((100%25%20-%200px)%20-%200px)%3B%22%3EMargin.SUM%3C%2Fspan%3E%3C%2Fdiv%3E%3Cdiv%20class%3D%22css-xxcrt1-ResizableCell%22%3E%3C%2Fdiv%3E%3C%2Fdiv%3E%3Cdiv%20class%3D%22css-3geaec-ResizableCell%22%3E%3Cdiv%20style%3D%22display%3A%20flex%3B%20align-items%3A%20center%3B%20height%3A%2028px%3B%20left%3A%200px%3B%20top%3A%200px%3B%20width%3A%20115px%3B%20text-align%3A%20left%3B%20font-size%3A%2012px%3B%20padding%3A%204px%204px%203px%3B%20overflow%3A%20hidden%3B%20position%3A%20absolute%3B%20white-space%3A%20nowrap%3B%20text-overflow%3A%20ellipsis%3B%20font-weight%3A%20600%3B%22%3E%3Cspan%20style%3D%22text-overflow%3A%20ellipsis%3B%20overflow%3A%20hidden%3B%20white-space%3A%20nowrap%3B%20max-width%3A%20calc((100%25%20-%200px)%20-%200px)%3B%22%3EMargin%20Delta%3C%2Fspan%3E%3C%2Fdiv%3E%3Cdiv%20class%3D%22css-xxcrt1-ResizableCell%22%3E%3C%2Fdiv%3E%3C%2Fdiv%3E%3Cdiv%20class%3D%22css-9kbkmr-ResizableCell%22%3E%3Cdiv%20style%3D%22display%3A%20flex%3B%20align-items%3A%20center%3B%20height%3A%2028px%3B%20left%3A%200px%3B%20top%3A%200px%3B%20width%3A%20115px%3B%20text-align%3A%20left%3B%20font-size%3A%2012px%3B%20padding%3A%204px%204px%203px%3B%20overflow%3A%20hidden%3B%20position%3A%20absolute%3B%20white-space%3A%20nowrap%3B%20text-overflow%3A%20ellipsis%3B%20font-weight%3A%20600%3B%22%3E%3Cspan%20style%3D%22text-overflow%3A%20ellipsis%3B%20overflow%3A%20hidden%3B%20white-space%3A%20nowrap%3B%20max-width%3A%20calc((100%25%20-%200px)%20-%200px)%3B%22%3EPrice%20Index%20Delta%3C%2Fspan%3E%3C%2Fdiv%3E%3Cdiv%20class%3D%22css-xxcrt1-ResizableCell%22%3E%3C%2Fdiv%3E%3C%2Fdiv%3E%3C%2Fdiv%3E%3C%2Fdiv%3E%3Cdiv%20class%3D%22%20css-1vserq2%22%3E%3Cdiv%20class%3D%22css-p4c1h4%22%3E%3Cdiv%20class%3D%22aui-table-cell%22%20style%3D%22height%3A%2028px%3B%20left%3A%200px%3B%20top%3A%200px%3B%20width%3A%20120px%3B%20text-align%3A%20right%3B%20font-size%3A%2012px%3B%20padding%3A%204px%204px%203px%3B%20overflow%3A%20hidden%3B%20position%3A%20absolute%3B%20white-space%3A%20nowrap%3B%20text-overflow%3A%20ellipsis%3B%20background-color%3A%20transparent%3B%20border-right%3A%201px%20solid%20rgb(233%2C%20233%2C%20233)%3B%22%3E%3C%2Fdiv%3E%3Cdiv%20class%3D%22aui-table-cell%22%20style%3D%22height%3A%2028px%3B%20left%3A%20120px%3B%20top%3A%200px%3B%20width%3A%20120px%3B%20text-align%3A%20right%3B%20font-size%3A%2012px%3B%20padding%3A%204px%204px%203px%3B%20overflow%3A%20hidden%3B%20position%3A%20absolute%3B%20white-space%3A%20nowrap%3B%20text-overflow%3A%20ellipsis%3B%20background-color%3A%20transparent%3B%20border-right%3A%201px%20solid%20rgb(233%2C%20233%2C%20233)%3B%22%3E-4%2C440%2C056%2C965.37%3C%2Fdiv%3E%3Cdiv%20class%3D%22aui-table-cell%22%20style%3D%22height%3A%2028px%3B%20left%3A%20240px%3B%20top%3A%200px%3B%20width%3A%20120px%3B%20text-align%3A%20right%3B%20font-size%3A%2012px%3B%20padding%3A%204px%204px%203px%3B%20overflow%3A%20hidden%3B%20position%3A%20absolute%3B%20white-space%3A%20nowrap%3B%20text-overflow%3A%20ellipsis%3B%20background-color%3A%20transparent%3B%20border-right%3A%201px%20solid%20rgb(233%2C%20233%2C%20233)%3B%20color%3A%20rgb(44%2C%20160%2C%2044)%3B%22%3E0%0A%3C%2Fdiv%3E%3Cdiv%20class%3D%22aui-table-cell%22%20style%3D%22height%3A%2028px%3B%20left%3A%20360px%3B%20top%3A%200px%3B%20width%3A%20120px%3B%20text-align%3A%20right%3B%20font-size%3A%2012px%3B%20padding%3A%204px%204px%203px%3B%20overflow%3A%20hidden%3B%20position%3A%20absolute%3B%20white-space%3A%20nowrap%3B%20text-overflow%3A%20ellipsis%3B%20background-color%3A%20transparent%3B%20border-right%3A%201px%20solid%20rgb(233%2C%20233%2C%20233)%3B%22%3E%3C%2Fdiv%3E%3Cdiv%20class%3D%22aui-table-cell%22%20style%3D%22height%3A%2028px%3B%20left%3A%200px%3B%20top%3A%2028px%3B%20width%3A%20120px%3B%20text-align%3A%20right%3B%20font-size%3A%2012px%3B%20padding%3A%204px%204px%203px%3B%20overflow%3A%20hidden%3B%20position%3A%20absolute%3B%20white-space%3A%20nowrap%3B%20text-overflow%3A%20ellipsis%3B%20background-color%3A%20rgb(250%2C%20250%2C%20250)%3B%20border-right%3A%201px%20solid%20rgb(233%2C%20233%2C%20233)%3B%22%3E103.99%3C%2Fdiv%3E%3Cdiv%20class%3D%22aui-table-cell%22%20style%3D%22height%3A%2028px%3B%20left%3A%20120px%3B%20top%3A%2028px%3B%20width%3A%20120px%3B%20text-align%3A%20right%3B%20font-size%3A%2012px%3B%20padding%3A%204px%204px%203px%3B%20overflow%3A%20hidden%3B%20position%3A%20absolute%3B%20white-space%3A%20nowrap%3B%20text-overflow%3A%20ellipsis%3B%20background-color%3A%20rgb(250%2C%20250%2C%20250)%3B%20border-right%3A%201px%20solid%20rgb(233%2C%20233%2C%20233)%3B%22%3E521%2C127%2C859.37%3C%2Fdiv%3E%3Cdiv%20class%3D%22aui-table-cell%22%20style%3D%22height%3A%2028px%3B%20left%3A%20240px%3B%20top%3A%2028px%3B%20width%3A%20120px%3B%20text-align%3A%20right%3B%20font-size%3A%2012px%3B%20padding%3A%204px%204px%203px%3B%20overflow%3A%20hidden%3B%20position%3A%20absolute%3B%20white-space%3A%20nowrap%3B%20text-overflow%3A%20ellipsis%3B%20background-color%3A%20rgb(250%2C%20250%2C%20250)%3B%20border-right%3A%201px%20solid%20rgb(233%2C%20233%2C%20233)%3B%20color%3A%20rgb(44%2C%20160%2C%2044)%3B%22%3E0%0A%3C%2Fdiv%3E%3Cdiv%20class%3D%22aui-table-cell%22%20style%3D%22height%3A%2028px%3B%20left%3A%20360px%3B%20top%3A%2028px%3B%20width%3A%20120px%3B%20text-align%3A%20right%3B%20font-size%3A%2012px%3B%20padding%3A%204px%204px%203px%3B%20overflow%3A%20hidden%3B%20position%3A%20absolute%3B%20white-space%3A%20nowrap%3B%20text-overflow%3A%20ellipsis%3B%20background-color%3A%20rgb(250%2C%20250%2C%20250)%3B%20border-right%3A%201px%20solid%20rgb(233%2C%20233%2C%20233)%3B%20color%3A%20rgb(44%2C%20160%2C%2044)%3B%22%3E0%3C%2Fdiv%3E%3Cdiv%20class%3D%22aui-table-cell%22%20style%3D%22height%3A%2028px%3B%20left%3A%200px%3B%20top%3A%2056px%3B%20width%3A%20120px%3B%20text-align%3A%20right%3B%20font-size%3A%2012px%3B%20padding%3A%204px%204px%203px%3B%20overflow%3A%20hidden%3B%20position%3A%20absolute%3B%20white-space%3A%20nowrap%3B%20text-overflow%3A%20ellipsis%3B%20background-color%3A%20transparent%3B%20border-right%3A%201px%20solid%20rgb(233%2C%20233%2C%20233)%3B%22%3E103.78%3C%2Fdiv%3E%3Cdiv%20class%3D%22aui-table-cell%22%20style%3D%22height%3A%2028px%3B%20left%3A%20120px%3B%20top%3A%2056px%3B%20width%3A%20120px%3B%20text-align%3A%20right%3B%20font-size%3A%2012px%3B%20padding%3A%204px%204px%203px%3B%20overflow%3A%20hidden%3B%20position%3A%20absolute%3B%20white-space%3A%20nowrap%3B%20text-overflow%3A%20ellipsis%3B%20background-color%3A%20transparent%3B%20border-right%3A%201px%20solid%20rgb(233%2C%20233%2C%20233)%3B%22%3E736%2C201%2C590.52%3C%2Fdiv%3E%3Cdiv%20class%3D%22aui-table-cell%22%20style%3D%22height%3A%2028px%3B%20left%3A%20240px%3B%20top%3A%2056px%3B%20width%3A%20120px%3B%20text-align%3A%20right%3B%20font-size%3A%2012px%3B%20padding%3A%204px%204px%203px%3B%20overflow%3A%20hidden%3B%20position%3A%20absolute%3B%20white-space%3A%20nowrap%3B%20text-overflow%3A%20ellipsis%3B%20background-color%3A%20transparent%3B%20border-right%3A%201px%20solid%20rgb(233%2C%20233%2C%20233)%3B%20color%3A%20rgb(44%2C%20160%2C%2044)%3B%22%3E0%0A%3C%2Fdiv%3E%3Cdiv%20class%3D%22aui-table-cell%22%20style%3D%22height%3A%2028px%3B%20left%3A%20360px%3B%20top%3A%2056px%3B%20width%3A%20120px%3B%20text-align%3A%20right%3B%20font-size%3A%2012px%3B%20padding%3A%204px%204px%203px%3B%20overflow%3A%20hidden%3B%20position%3A%20absolute%3B%20white-space%3A%20nowrap%3B%20text-overflow%3A%20ellipsis%3B%20background-color%3A%20transparent%3B%20border-right%3A%201px%20solid%20rgb(233%2C%20233%2C%20233)%3B%20color%3A%20rgb(44%2C%20160%2C%2044)%3B%22%3E0%3C%2Fdiv%3E%3Cdiv%20class%3D%22aui-table-cell%22%20style%3D%22height%3A%2028px%3B%20left%3A%200px%3B%20top%3A%2084px%3B%20width%3A%20120px%3B%20text-align%3A%20right%3B%20font-size%3A%2012px%3B%20padding%3A%204px%204px%203px%3B%20overflow%3A%20hidden%3B%20position%3A%20absolute%3B%20white-space%3A%20nowrap%3B%20text-overflow%3A%20ellipsis%3B%20background-color%3A%20rgb(250%2C%20250%2C%20250)%3B%20border-right%3A%201px%20solid%20rgb(233%2C%20233%2C%20233)%3B%22%3E99.48%3C%2Fdiv%3E%3Cdiv%20class%3D%22aui-table-cell%22%20style%3D%22height%3A%2028px%3B%20left%3A%20120px%3B%20top%3A%2084px%3B%20width%3A%20120px%3B%20text-align%3A%20right%3B%20font-size%3A%2012px%3B%20padding%3A%204px%204px%203px%3B%20overflow%3A%20hidden%3B%20position%3A%20absolute%3B%20white-space%3A%20nowrap%3B%20text-overflow%3A%20ellipsis%3B%20background-color%3A%20rgb(250%2C%20250%2C%20250)%3B%20border-right%3A%201px%20solid%20rgb(233%2C%20233%2C%20233)%3B%22%3E579%2C953%2C030.70%3C%2Fdiv%3E%3Cdiv%20class%3D%22aui-table-cell%22%20style%3D%22height%3A%2028px%3B%20left%3A%20240px%3B%20top%3A%2084px%3B%20width%3A%20120px%3B%20text-align%3A%20right%3B%20font-size%3A%2012px%3B%20padding%3A%204px%204px%203px%3B%20overflow%3A%20hidden%3B%20position%3A%20absolute%3B%20white-space%3A%20nowrap%3B%20text-overflow%3A%20ellipsis%3B%20background-color%3A%20rgb(250%2C%20250%2C%20250)%3B%20border-right%3A%201px%20solid%20rgb(233%2C%20233%2C%20233)%3B%20color%3A%20rgb(44%2C%20160%2C%2044)%3B%22%3E0%0A%3C%2Fdiv%3E%3Cdiv%20class%3D%22aui-table-cell%22%20style%3D%22height%3A%2028px%3B%20left%3A%20360px%3B%20top%3A%2084px%3B%20width%3A%20120px%3B%20text-align%3A%20right%3B%20font-size%3A%2012px%3B%20padding%3A%204px%204px%203px%3B%20overflow%3A%20hidden%3B%20position%3A%20absolute%3B%20white-space%3A%20nowrap%3B%20text-overflow%3A%20ellipsis%3B%20background-color%3A%20rgb(250%2C%20250%2C%20250)%3B%20border-right%3A%201px%20solid%20rgb(233%2C%20233%2C%20233)%3B%20color%3A%20rgb(44%2C%20160%2C%2044)%3B%22%3E0%3C%2Fdiv%3E%3Cdiv%20class%3D%22aui-table-cell%22%20style%3D%22height%3A%2028px%3B%20left%3A%200px%3B%20top%3A%20112px%3B%20width%3A%20120px%3B%20text-align%3A%20right%3B%20font-size%3A%2012px%3B%20padding%3A%204px%204px%203px%3B%20overflow%3A%20hidden%3B%20position%3A%20absolute%3B%20white-space%3A%20nowrap%3B%20text-overflow%3A%20ellipsis%3B%20background-color%3A%20transparent%3B%20border-right%3A%201px%20solid%20rgb(233%2C%20233%2C%20233)%3B%20border-top%3A%201px%20solid%20rgb(233%2C%20233%2C%20233)%3B%22%3E%3C%2Fdiv%3E%3Cdiv%20class%3D%22aui-table-cell%22%20style%3D%22height%3A%2028px%3B%20left%3A%20120px%3B%20top%3A%20112px%3B%20width%3A%20120px%3B%20text-align%3A%20right%3B%20font-size%3A%2012px%3B%20padding%3A%204px%204px%203px%3B%20overflow%3A%20hidden%3B%20position%3A%20absolute%3B%20white-space%3A%20nowrap%3B%20text-overflow%3A%20ellipsis%3B%20background-color%3A%20transparent%3B%20border-right%3A%201px%20solid%20rgb(233%2C%20233%2C%20233)%3B%20border-top%3A%201px%20solid%20rgb(233%2C%20233%2C%20233)%3B%22%3E-4%2C440%2C056%2C965.37%3C%2Fdiv%3E%3Cdiv%20class%3D%22aui-table-cell%22%20style%3D%22height%3A%2028px%3B%20left%3A%20240px%3B%20top%3A%20112px%3B%20width%3A%20120px%3B%20text-align%3A%20right%3B%20font-size%3A%2012px%3B%20padding%3A%204px%204px%203px%3B%20overflow%3A%20hidden%3B%20position%3A%20absolute%3B%20white-space%3A%20nowrap%3B%20text-overflow%3A%20ellipsis%3B%20background-color%3A%20transparent%3B%20border-right%3A%201px%20solid%20rgb(233%2C%20233%2C%20233)%3B%20border-top%3A%201px%20solid%20rgb(233%2C%20233%2C%20233)%3B%20color%3A%20rgb(44%2C%20160%2C%2044)%3B%22%3E0%0A%3C%2Fdiv%3E%3Cdiv%20class%3D%22aui-table-cell%22%20style%3D%22height%3A%2028px%3B%20left%3A%20360px%3B%20top%3A%20112px%3B%20width%3A%20120px%3B%20text-align%3A%20right%3B%20font-size%3A%2012px%3B%20padding%3A%204px%204px%203px%3B%20overflow%3A%20hidden%3B%20position%3A%20absolute%3B%20white-space%3A%20nowrap%3B%20text-overflow%3A%20ellipsis%3B%20background-color%3A%20transparent%3B%20border-right%3A%201px%20solid%20rgb(233%2C%20233%2C%20233)%3B%20border-top%3A%201px%20solid%20rgb(233%2C%20233%2C%20233)%3B%22%3E%3C%2Fdiv%3E%3Cdiv%20class%3D%22aui-table-cell%22%20style%3D%22height%3A%2028px%3B%20left%3A%200px%3B%20top%3A%20140px%3B%20width%3A%20120px%3B%20text-align%3A%20right%3B%20font-size%3A%2012px%3B%20padding%3A%204px%204px%203px%3B%20overflow%3A%20hidden%3B%20position%3A%20absolute%3B%20white-space%3A%20nowrap%3B%20text-overflow%3A%20ellipsis%3B%20background-color%3A%20rgb(250%2C%20250%2C%20250)%3B%20border-right%3A%201px%20solid%20rgb(233%2C%20233%2C%20233)%3B%22%3E112.82%3C%2Fdiv%3E%3Cdiv%20class%3D%22aui-table-cell%22%20style%3D%22height%3A%2028px%3B%20left%3A%20120px%3B%20top%3A%20140px%3B%20width%3A%20120px%3B%20text-align%3A%20right%3B%20font-size%3A%2012px%3B%20padding%3A%204px%204px%203px%3B%20overflow%3A%20hidden%3B%20position%3A%20absolute%3B%20white-space%3A%20nowrap%3B%20text-overflow%3A%20ellipsis%3B%20background-color%3A%20rgb(250%2C%20250%2C%20250)%3B%20border-right%3A%201px%20solid%20rgb(233%2C%20233%2C%20233)%3B%22%3E664%2C107%2C129.23%3C%2Fdiv%3E%3Cdiv%20class%3D%22aui-table-cell%22%20style%3D%22height%3A%2028px%3B%20left%3A%20240px%3B%20top%3A%20140px%3B%20width%3A%20120px%3B%20text-align%3A%20right%3B%20font-size%3A%2012px%3B%20padding%3A%204px%204px%203px%3B%20overflow%3A%20hidden%3B%20position%3A%20absolute%3B%20white-space%3A%20nowrap%3B%20text-overflow%3A%20ellipsis%3B%20background-color%3A%20rgb(250%2C%20250%2C%20250)%3B%20border-right%3A%201px%20solid%20rgb(233%2C%20233%2C%20233)%3B%20color%3A%20rgb(44%2C%20160%2C%2044)%3B%22%3E142%2C979%2C269.86%0A%3C%2Fdiv%3E%3Cdiv%20class%3D%22aui-table-cell%22%20style%3D%22height%3A%2028px%3B%20left%3A%20360px%3B%20top%3A%20140px%3B%20width%3A%20120px%3B%20text-align%3A%20right%3B%20font-size%3A%2012px%3B%20padding%3A%204px%204px%203px%3B%20overflow%3A%20hidden%3B%20position%3A%20absolute%3B%20white-space%3A%20nowrap%3B%20text-overflow%3A%20ellipsis%3B%20background-color%3A%20rgb(250%2C%20250%2C%20250)%3B%20border-right%3A%201px%20solid%20rgb(233%2C%20233%2C%20233)%3B%20color%3A%20rgb(224%2C%20102%2C%20102)%3B%22%3E8.84%3C%2Fdiv%3E%3Cdiv%20class%3D%22aui-table-cell%22%20style%3D%22height%3A%2028px%3B%20left%3A%200px%3B%20top%3A%20168px%3B%20width%3A%20120px%3B%20text-align%3A%20right%3B%20font-size%3A%2012px%3B%20padding%3A%204px%204px%203px%3B%20overflow%3A%20hidden%3B%20position%3A%20absolute%3B%20white-space%3A%20nowrap%3B%20text-overflow%3A%20ellipsis%3B%20background-color%3A%20transparent%3B%20border-right%3A%201px%20solid%20rgb(233%2C%20233%2C%20233)%3B%22%3E99.63%3C%2Fdiv%3E%3Cdiv%20class%3D%22aui-table-cell%22%20style%3D%22height%3A%2028px%3B%20left%3A%20120px%3B%20top%3A%20168px%3B%20width%3A%20120px%3B%20text-align%3A%20right%3B%20font-size%3A%2012px%3B%20padding%3A%204px%204px%203px%3B%20overflow%3A%20hidden%3B%20position%3A%20absolute%3B%20white-space%3A%20nowrap%3B%20text-overflow%3A%20ellipsis%3B%20background-color%3A%20transparent%3B%20border-right%3A%201px%20solid%20rgb(233%2C%20233%2C%20233)%3B%22%3E633%2C506%2C129.49%3C%2Fdiv%3E%3Cdiv%20class%3D%22aui-table-cell%22%20style%3D%22height%3A%2028px%3B%20left%3A%20240px%3B%20top%3A%20168px%3B%20width%3A%20120px%3B%20text-align%3A%20right%3B%20font-size%3A%2012px%3B%20padding%3A%204px%204px%203px%3B%20overflow%3A%20hidden%3B%20position%3A%20absolute%3B%20white-space%3A%20nowrap%3B%20text-overflow%3A%20ellipsis%3B%20background-color%3A%20transparent%3B%20border-right%3A%201px%20solid%20rgb(233%2C%20233%2C%20233)%3B%20color%3A%20rgb(224%2C%20102%2C%20102)%3B%22%3E-102%2C695%2C461.03%0A%3C%2Fdiv%3E%3Cdiv%20class%3D%22aui-table-cell%22%20style%3D%22height%3A%2028px%3B%20left%3A%20360px%3B%20top%3A%20168px%3B%20width%3A%20120px%3B%20text-align%3A%20right%3B%20font-size%3A%2012px%3B%20padding%3A%204px%204px%203px%3B%20overflow%3A%20hidden%3B%20position%3A%20absolute%3B%20white-space%3A%20nowrap%3B%20text-overflow%3A%20ellipsis%3B%20background-color%3A%20transparent%3B%20border-right%3A%201px%20solid%20rgb(233%2C%20233%2C%20233)%3B%20color%3A%20rgb(44%2C%20160%2C%2044)%3B%22%3E-4.15%3C%2Fdiv%3E%3Cdiv%20class%3D%22aui-table-cell%22%20style%3D%22height%3A%2028px%3B%20left%3A%200px%3B%20top%3A%20196px%3B%20width%3A%20120px%3B%20text-align%3A%20right%3B%20font-size%3A%2012px%3B%20padding%3A%204px%204px%203px%3B%20overflow%3A%20hidden%3B%20position%3A%20absolute%3B%20white-space%3A%20nowrap%3B%20text-overflow%3A%20ellipsis%3B%20background-color%3A%20rgb(250%2C%20250%2C%20250)%3B%20border-right%3A%201px%20solid%20rgb(233%2C%20233%2C%20233)%3B%22%3E95.50%3C%2Fdiv%3E%3Cdiv%20class%3D%22aui-table-cell%22%20style%3D%22height%3A%2028px%3B%20left%3A%20120px%3B%20top%3A%20196px%3B%20width%3A%20120px%3B%20text-align%3A%20right%3B%20font-size%3A%2012px%3B%20padding%3A%204px%204px%203px%3B%20overflow%3A%20hidden%3B%20position%3A%20absolute%3B%20white-space%3A%20nowrap%3B%20text-overflow%3A%20ellipsis%3B%20background-color%3A%20rgb(250%2C%20250%2C%20250)%3B%20border-right%3A%201px%20solid%20rgb(233%2C%20233%2C%20233)%3B%22%3E498%2C839%2C276.18%3C%2Fdiv%3E%3Cdiv%20class%3D%22aui-table-cell%22%20style%3D%22height%3A%2028px%3B%20left%3A%20240px%3B%20top%3A%20196px%3B%20width%3A%20120px%3B%20text-align%3A%20right%3B%20font-size%3A%2012px%3B%20padding%3A%204px%204px%203px%3B%20overflow%3A%20hidden%3B%20position%3A%20absolute%3B%20white-space%3A%20nowrap%3B%20text-overflow%3A%20ellipsis%3B%20background-color%3A%20rgb(250%2C%20250%2C%20250)%3B%20border-right%3A%201px%20solid%20rgb(233%2C%20233%2C%20233)%3B%20color%3A%20rgb(224%2C%20102%2C%20102)%3B%22%3E-81%2C113%2C754.52%0A%3C%2Fdiv%3E%3Cdiv%20class%3D%22aui-table-cell%22%20style%3D%22height%3A%2028px%3B%20left%3A%20360px%3B%20top%3A%20196px%3B%20width%3A%20120px%3B%20text-align%3A%20right%3B%20font-size%3A%2012px%3B%20padding%3A%204px%204px%203px%3B%20overflow%3A%20hidden%3B%20position%3A%20absolute%3B%20white-space%3A%20nowrap%3B%20text-overflow%3A%20ellipsis%3B%20background-color%3A%20rgb(250%2C%20250%2C%20250)%3B%20border-right%3A%201px%20solid%20rgb(233%2C%20233%2C%20233)%3B%20color%3A%20rgb(44%2C%20160%2C%2044)%3B%22%3E-3.98%3C%2Fdiv%3E%3C%2Fdiv%3E%3C%2Fdiv%3E%3C%2Fdiv%3E%3C%2Fdiv%3E%3C%2Fdiv%3E%3Cdiv%20class%3D%22css-1uww2vi-Table%22%3E%3C%2Fdiv%3E%3C%2Fdiv%3E%3C%2Fdiv%3E%3C%2Fdiv%3E%3C%2Fdiv%3E%3C%2Fdiv%3E%3C%2FforeignObject%3E%3C%2Fsvg%3E\">"
      ],
      "text/plain": [
       "Open the notebook in JupyterLab with the atoti extension enabled to build this widget."
      ]
     },
     "metadata": {},
     "output_type": "display_data"
    }
   ],
   "source": [
    "session.visualize(\"Results summary\")"
   ]
  },
  {
   "cell_type": "markdown",
   "metadata": {},
   "source": [
    "## Combining Scenarios"
   ]
  },
  {
   "cell_type": "code",
   "execution_count": 51,
   "metadata": {
    "atoti": {
     "height": 286,
     "widget": {
      "columnWidths": {
       "[Epoch].[Epoch].[Optimized price index],[Measures].[Price Index]": 140,
       "[Measures].[Price Index],[Epoch].[Epoch].[Base]": 179,
       "[Measures].[Price Index],[Epoch].[Epoch].[Optimized price index]": 185
      },
      "mapping": {
       "columns": [
        "ALL_MEASURES",
        "[Epoch].[Epoch].[Branch]"
       ],
       "measures": [
        "[Measures].[Price Index]"
       ],
       "rows": [
        "[Price Strategies].[Price Strategies].[Price Strategies]",
        "[classified_products].[Product Class].[Product Class]"
       ]
      },
      "name": "Price index comparison across scenarios (per class)",
      "query": {
       "context": {
        "queriesResultLimit.intermediateSize": 1000000,
        "queriesResultLimit.transientSize": 10000000
       },
       "mdx": "SELECT NON EMPTY Crossjoin(Union([Price Strategies].[Price Strategies].[Price Strategies].Members, [Price Strategies].[Price Strategies].[Price Strategies].Members), Union(Hierarchize(DrilldownLevel([classified_products].[Product Class].[ALL].[AllMember])), Hierarchize(Descendants({[classified_products].[Product Class].[AllMember]}, 1, SELF_AND_BEFORE)))) ON ROWS, NON EMPTY Crossjoin({[Measures].[Price Index]}, [Epoch].[Epoch].[Branch].Members) ON COLUMNS FROM [products_cube] CELL PROPERTIES VALUE, FORMATTED_VALUE, BACK_COLOR, FORE_COLOR, FONT_FLAGS",
       "updateMode": "once"
      },
      "serverKey": "default",
      "widgetKey": "pivot-table"
     }
    },
    "tags": []
   },
   "outputs": [
    {
     "data": {
      "application/vnd.atoti.widget.v0+json": {
       "name": "Price index comparison across scenarios (per class)",
       "sessionId": "1648808159_SOX2DY",
       "sessionLocation": {
        "https": null,
        "port": 1111
       },
       "widgetCreationCode": "session.visualize()"
      },
      "text/html": [
       "<img src=\"data:image/svg+xml;charset=utf8,%3C%3Fxml%20version%3D%221.0%22%20standalone%3D%22no%22%3F%3E%3Csvg%20xmlns%3D%22http%3A%2F%2Fwww.w3.org%2F2000%2Fsvg%22%20height%3D%22278%22%20width%3D%22967%22%3E%3CforeignObject%20width%3D%22100%25%22%20height%3D%22100%25%22%20x%3D%220%22%20y%3D%220%22%3E%3Cstyle%20xmlns%3D%22http%3A%2F%2Fwww.w3.org%2F1999%2Fxhtml%22%20type%3D%22text%2Fcss%22%3E*%2C%20%3A%3Abefore%2C%20%3A%3Aafter%20%7Bbox-sizing%3A%20unset%7D%0A.ant-root%20%5Bclass%5E%3D%22ant-%22%5D%2C%20.ant-root%20%5Bclass*%3D%22ant-%22%5D%2C%20.ant-root%20%5Bclass%5E%3D%22ant-%22%5D%20*%2C%20.ant-root%20%5Bclass*%3D%22ant-%22%5D%20*%2C%20.ant-root%20%5Bclass%5E%3D%22ant-%22%5D%20%3A%3Abefore%2C%20.ant-root%20%5Bclass*%3D%22ant-%22%5D%20%3A%3Abefore%2C%20.ant-root%20%5Bclass%5E%3D%22ant-%22%5D%20%3A%3Aafter%2C%20.ant-root%20%5Bclass*%3D%22ant-%22%5D%20%3A%3Aafter%20%7Bbox-sizing%3A%20border-box%7D%0A.ant-root%20html%2C%20.ant-root%20%7Bwidth%3A%20100%25%3B%20height%3A%20100%25%7D%0A.ant-root%20*%2C%20.ant-root%20%3A%3Abefore%2C%20.ant-root%20%3A%3Aafter%20%7Bbox-sizing%3A%20border-box%7D%0A.ant-root%20%7Bmargin-top%3A%200px%3B%20margin-right%3A%200px%3B%20margin-bottom%3A%200px%3B%20margin-left%3A%200px%3B%20color%3A%20rgb(89%2C%2089%2C%2089)%3B%20font-size%3A%2012px%3B%20font-family%3A%20-apple-system%2C%20BlinkMacSystemFont%2C%20%22Segoe%20UI%22%2C%20Roboto%2C%20%22Helvetica%20Neue%22%2C%20Arial%2C%20%22Noto%20Sans%22%2C%20sans-serif%2C%20%22Apple%20Color%20Emoji%22%2C%20%22Segoe%20UI%20Emoji%22%2C%20%22Segoe%20UI%20Symbol%22%2C%20%22Noto%20Color%20Emoji%22%3B%20font-variant-ligatures%3A%20normal%3B%20font-variant-numeric%3A%20tabular-nums%3B%20font-variant-east-asian%3A%20normal%3B%20font-variant-caps%3A%20normal%3B%20line-height%3A%201.66667%3B%20background-color%3A%20rgb(255%2C%20255%2C%20255)%3B%20--antd-wave-shadow-color%3A%20%20%231890FF%3B%20--scroll-bar%3A%20%200%7D%0A.ant-root%20.ant-spin%20%7Bbox-sizing%3A%20border-box%3B%20margin-top%3A%200px%3B%20margin-right%3A%200px%3B%20margin-bottom%3A%200px%3B%20margin-left%3A%200px%3B%20padding-top%3A%200px%3B%20padding-right%3A%200px%3B%20padding-bottom%3A%200px%3B%20padding-left%3A%200px%3B%20font-size%3A%2012px%3B%20font-variant-ligatures%3A%20normal%3B%20font-variant-numeric%3A%20tabular-nums%3B%20font-variant-east-asian%3A%20normal%3B%20font-variant-caps%3A%20normal%3B%20line-height%3A%201.66667%3B%20list-style-position%3A%20initial%3B%20list-style-image%3A%20initial%3B%20list-style-type%3A%20none%3B%20position%3A%20absolute%3B%20display%3A%20none%3B%20color%3A%20rgb(24%2C%20144%2C%20255)%3B%20text-align%3A%20center%3B%20vertical-align%3A%20middle%3B%20opacity%3A%200%3B%20transition-duration%3A%200.3s%3B%20transition-timing-function%3A%20cubic-bezier(0.78%2C%200.14%2C%200.15%2C%200.86)%3B%20transition-delay%3A%200s%3B%20transition-property%3A%20transform%7D%0A.ant-root%20.ant-spin-spinning%20%7Bposition%3A%20static%3B%20display%3A%20inline-block%3B%20opacity%3A%201%7D%0A.ant-root%20.ant-spin-dot%20%7Bposition%3A%20relative%3B%20display%3A%20inline-block%3B%20font-size%3A%2020px%3B%20width%3A%201em%3B%20height%3A%201em%7D%0A.ant-root%20.ant-spin-dot-item%20%7Bposition%3A%20absolute%3B%20display%3A%20block%3B%20width%3A%209px%3B%20height%3A%209px%3B%20background-color%3A%20rgb(24%2C%20144%2C%20255)%3B%20border-top-left-radius%3A%20100%25%3B%20border-top-right-radius%3A%20100%25%3B%20border-bottom-right-radius%3A%20100%25%3B%20border-bottom-left-radius%3A%20100%25%3B%20transform%3A%20scale(0.75)%3B%20transform-origin%3A%2050%25%2050%25%3B%20opacity%3A%200.3%3B%20animation-duration%3A%201s%3B%20animation-timing-function%3A%20linear%3B%20animation-delay%3A%200s%3B%20animation-iteration-count%3A%20infinite%3B%20animation-direction%3A%20alternate%3B%20animation-fill-mode%3A%20none%3B%20animation-play-state%3A%20running%3B%20animation-name%3A%20antSpinMove%7D%0A.ant-root%20.ant-spin-dot-item%3Anth-child(1)%20%7Btop%3A%200px%3B%20left%3A%200px%7D%0A.ant-root%20.ant-spin-dot-item%3Anth-child(2)%20%7Btop%3A%200px%3B%20right%3A%200px%3B%20animation-delay%3A%200.4s%7D%0A.ant-root%20.ant-spin-dot-item%3Anth-child(3)%20%7Bright%3A%200px%3B%20bottom%3A%200px%3B%20animation-delay%3A%200.8s%7D%0A.ant-root%20.ant-spin-dot-item%3Anth-child(4)%20%7Bbottom%3A%200px%3B%20left%3A%200px%3B%20animation-delay%3A%201.2s%7D%0A.ant-root%20.ant-spin-dot-spin%20%7Btransform%3A%20rotate(45deg)%3B%20animation-duration%3A%201.2s%3B%20animation-timing-function%3A%20linear%3B%20animation-delay%3A%200s%3B%20animation-iteration-count%3A%20infinite%3B%20animation-direction%3A%20normal%3B%20animation-fill-mode%3A%20none%3B%20animation-play-state%3A%20running%3B%20animation-name%3A%20antRotate%7D%0A.ant-root%20.ant-spin-lg%20.ant-spin-dot%20%7Bfont-size%3A%2032px%7D%0A.ant-root%20.ant-spin-lg%20.ant-spin-dot%20i%20%7Bwidth%3A%2014px%3B%20height%3A%2014px%7D%0A.ant-root%20.aui-invisible-scrollbars%20%7B%7D%0A.css-12ebr42-AWidget%20%7Bheight%3A%20100%25%7D%0A.css-ck2xzt-Spinner%20%7B-webkit-box-align%3A%20center%3B%20align-items%3A%20center%3B%20background-image%3A%20initial%3B%20background-position-x%3A%20initial%3B%20background-position-y%3A%20initial%3B%20background-size%3A%20initial%3B%20background-repeat-x%3A%20initial%3B%20background-repeat-y%3A%20initial%3B%20background-attachment%3A%20initial%3B%20background-origin%3A%20initial%3B%20background-clip%3A%20initial%3B%20background-color%3A%20transparent%3B%20display%3A%20flex%3B%20height%3A%20100%25%3B%20-webkit-box-pack%3A%20center%3B%20justify-content%3A%20center%3B%20position%3A%20absolute%3B%20transition-duration%3A%20300ms%3B%20transition-timing-function%3A%20ease%3B%20transition-delay%3A%200s%3B%20transition-property%3A%20opacity%3B%20width%3A%20100%25%3B%20opacity%3A%200%3B%20pointer-events%3A%20none%3B%20z-index%3A%202%7D%0A.css-1e3kjgr-Spinner%20%7Bheight%3A%20100%25%3B%20position%3A%20relative%7D%0A.css-1hwl8p1-Table%20%7Bpadding-bottom%3A%202px%3B%20padding-right%3A%202px%3B%20height%3A%20100%25%7D%0A.css-14ejcn0-Table%20%7Bheight%3A%20calc(100%25%20-%2030px)%3B%20outline-color%3A%20initial%3B%20outline-style%3A%20none%3B%20outline-width%3A%20initial%3B%20position%3A%20relative%7D%0A.css-1rxpjm0-ColumnResizeHint%20%7Bdisplay%3A%20none%3B%20position%3A%20absolute%3B%20z-index%3A%201%7D%0A.css-1uww2vi-Table%20%7Bheight%3A%2030px%3B%20text-align%3A%20right%3B%20padding-right%3A%2025px%7D%0A.css-1hol363-ResizableCell%20%7Bdisplay%3A%20flex%3B%20flex-direction%3A%20column%3B%20position%3A%20absolute%3B%20top%3A%200px%3B%20left%3A%200px%3B%20height%3A%2028px%3B%20width%3A%20120px%7D%0A.css-xxcrt1-ResizableCell%20%7Bbackground-image%3A%20initial%3B%20background-position-x%3A%20initial%3B%20background-position-y%3A%20initial%3B%20background-size%3A%20initial%3B%20background-repeat-x%3A%20initial%3B%20background-repeat-y%3A%20initial%3B%20background-attachment%3A%20initial%3B%20background-origin%3A%20initial%3B%20background-clip%3A%20initial%3B%20background-color%3A%20transparent%3B%20cursor%3A%20col-resize%3B%20height%3A%20100%25%3B%20position%3A%20absolute%3B%20right%3A%200px%3B%20width%3A%205px%3B%20z-index%3A%201%7D%0A.css-fpuq48-ResizableCell%20%7Bdisplay%3A%20flex%3B%20flex-direction%3A%20column%3B%20position%3A%20absolute%3B%20top%3A%200px%3B%20left%3A%20120px%3B%20height%3A%2028px%3B%20width%3A%20120px%7D%0A.css-l8mdcn-Table%20%7Bwidth%3A%20725px%3B%20border-collapse%3A%20collapse%7D%0A.css-1bk59ax-ColumnResizeHint%20%7Bheight%3A%2056px%3B%20background-color%3A%20rgb(24%2C%20144%2C%20255)%3B%20width%3A%205px%7D%0A.css-z51yao-ResizableCell%20%7Bdisplay%3A%20flex%3B%20flex-direction%3A%20column%3B%20position%3A%20absolute%3B%20top%3A%2028px%3B%20left%3A%200px%3B%20height%3A%2028px%3B%20width%3A%20120px%7D%0A.css-10fw2tq-ResizableCell%20%7Bdisplay%3A%20flex%3B%20flex-direction%3A%20column%3B%20position%3A%20absolute%3B%20top%3A%2028px%3B%20left%3A%20120px%3B%20height%3A%2028px%3B%20width%3A%20120px%7D%0A.css-o2x73c-ColumnResizeHint%20%7Bdisplay%3A%20none%3B%20float%3A%20right%3B%20height%3A%20190px%3B%20background-color%3A%20rgb(24%2C%20144%2C%20255)%3B%20opacity%3A%200.4%3B%20width%3A%202px%7D%0A.css-ss9ppy-Table%20%7Bdisplay%3A%20flex%3B%20height%3A%20246px%7D%0A.css-1kndo9a-Table%20%7Bborder-collapse%3A%20collapse%3B%20height%3A%2056px%3B%20width%3A%20240px%7D%0A.css-cjpoh6%20%7Bheight%3A%2056px%3B%20width%3A%20240px%7D%0A.css-1pff4ml%20%7Bcursor%3A%20cell%3B%20height%3A%2056px%3B%20overflow-x%3A%20hidden%3B%20overflow-y%3A%20hidden%3B%20position%3A%20relative%3B%20width%3A%20240px%3B%20border-right-width%3A%202px%3B%20border-right-style%3A%20solid%3B%20border-right-color%3A%20rgb(233%2C%20233%2C%20233)%7D%0A.css-4dg4dm%20%7Bheight%3A%20190px%3B%20width%3A%20240px%3B%20overflow-x%3A%20hidden%3B%20overflow-y%3A%20auto%7D%0A.css-1x08m7r%20%7Bcursor%3A%20cell%3B%20height%3A%20168px%3B%20overflow-x%3A%20hidden%3B%20overflow-y%3A%20hidden%3B%20position%3A%20relative%3B%20width%3A%20240px%3B%20border-top-width%3A%202px%3B%20border-top-style%3A%20solid%3B%20border-top-color%3A%20rgb(233%2C%20233%2C%20233)%3B%20border-right-width%3A%202px%3B%20border-right-style%3A%20solid%3B%20border-right-color%3A%20rgb(233%2C%20233%2C%20233)%7D%0A.css-19jtjfi%20%7Bheight%3A%2056px%3B%20width%3A%20707px%3B%20overflow-x%3A%20auto%3B%20overflow-y%3A%20hidden%7D%0A.css-12eh7ow%20%7Bcursor%3A%20cell%3B%20height%3A%2056px%3B%20overflow-x%3A%20hidden%3B%20overflow-y%3A%20hidden%3B%20position%3A%20relative%3B%20width%3A%20364px%7D%0A.css-2mgy22-ResizableCell%20%7Bdisplay%3A%20flex%3B%20flex-direction%3A%20column%3B%20position%3A%20absolute%3B%20top%3A%200px%3B%20left%3A%200px%3B%20height%3A%2028px%3B%20width%3A%20179px%7D%0A.css-1wty3se-ResizableCell%20%7Bdisplay%3A%20flex%3B%20flex-direction%3A%20column%3B%20position%3A%20absolute%3B%20top%3A%200px%3B%20left%3A%20179px%3B%20height%3A%2028px%3B%20width%3A%20185px%7D%0A.css-crypxe-ResizableCell%20%7Bdisplay%3A%20flex%3B%20flex-direction%3A%20column%3B%20position%3A%20absolute%3B%20top%3A%2028px%3B%20left%3A%200px%3B%20height%3A%2028px%3B%20width%3A%20179px%7D%0A.css-1ls483b-ResizableCell%20%7Bdisplay%3A%20flex%3B%20flex-direction%3A%20column%3B%20position%3A%20absolute%3B%20top%3A%2028px%3B%20left%3A%20179px%3B%20height%3A%2028px%3B%20width%3A%20185px%7D%0A.css-1aj674l%20%7Bheight%3A%20190px%3B%20width%3A%20725px%3B%20overflow-x%3A%20auto%3B%20overflow-y%3A%20auto%7D%0A.css-q52q9p%20%7Bcursor%3A%20cell%3B%20height%3A%20168px%3B%20overflow-x%3A%20hidden%3B%20overflow-y%3A%20hidden%3B%20position%3A%20relative%3B%20width%3A%20364px%3B%20border-top-width%3A%202px%3B%20border-top-style%3A%20solid%3B%20border-top-color%3A%20rgb(233%2C%20233%2C%20233)%7D%0A*%20%7B-ms-overflow-style%3A%20none%3B%20scrollbar-width%3A%20none%7D%0A*%3A%3A-webkit-scrollbar%20%7Bdisplay%3A%20none%7D%0A.atoti-hidden-in-snapshot%20%7Bdisplay%3A%20none%7D%3C%2Fstyle%3E%3Cdiv%20xmlns%3D%22http%3A%2F%2Fwww.w3.org%2F1999%2Fxhtml%22%20style%3D%22height%3A%20278px%3B%20width%3A%20967px%3B%22%3E%3Cdiv%20class%3D%22ant-root%20css-0%22%3E%3Cdiv%20class%3D%22ant-dropdown-trigger%20css-12ebr42-AWidget%22%3E%3Cdiv%20class%3D%22css-1e3kjgr-Spinner%22%3E%3Cdiv%20class%3D%22css-ck2xzt-Spinner%22%3E%3Cdiv%20class%3D%22ant-spin%20ant-spin-lg%20ant-spin-spinning%22%3E%3Cspan%20class%3D%22ant-spin-dot%20ant-spin-dot-spin%22%3E%3Ci%20class%3D%22ant-spin-dot-item%22%3E%3C%2Fi%3E%3Ci%20class%3D%22ant-spin-dot-item%22%3E%3C%2Fi%3E%3Ci%20class%3D%22ant-spin-dot-item%22%3E%3C%2Fi%3E%3Ci%20class%3D%22ant-spin-dot-item%22%3E%3C%2Fi%3E%3C%2Fspan%3E%3C%2Fdiv%3E%3C%2Fdiv%3E%3Cdiv%20class%3D%22css-1hwl8p1-Table%22%3E%3Cdiv%20tabindex%3D%220%22%20class%3D%22css-14ejcn0-Table%22%3E%3Cdiv%20class%3D%22css-1rxpjm0-ColumnResizeHint%22%3E%3Cdiv%20class%3D%22css-1bk59ax-ColumnResizeHint%22%3E%3C%2Fdiv%3E%3Cdiv%20class%3D%22css-o2x73c-ColumnResizeHint%22%3E%3C%2Fdiv%3E%3C%2Fdiv%3E%3Cdiv%20class%3D%22css-ss9ppy-Table%22%3E%3Cdiv%20class%3D%22css-1kndo9a-Table%22%3E%3Cdiv%20class%3D%22%20css-cjpoh6%22%3E%3Cdiv%20class%3D%22css-1pff4ml%22%3E%3Cdiv%20class%3D%22css-1hol363-ResizableCell%22%3E%3Cdiv%20class%3D%22aui-table-cell%22%20style%3D%22height%3A%2028px%3B%20left%3A%200px%3B%20top%3A%200px%3B%20width%3A%20115px%3B%20text-align%3A%20left%3B%20font-size%3A%2012px%3B%20padding%3A%204px%204px%203px%3B%20overflow%3A%20hidden%3B%20position%3A%20absolute%3B%20white-space%3A%20nowrap%3B%20text-overflow%3A%20ellipsis%3B%20font-weight%3A%20600%3B%20display%3A%20flex%3B%20align-items%3A%20center%3B%22%3E%3Cspan%3EPrice%20Strategies%3C%2Fspan%3E%3C%2Fdiv%3E%3Cdiv%20class%3D%22css-xxcrt1-ResizableCell%22%3E%3C%2Fdiv%3E%3C%2Fdiv%3E%3Cdiv%20class%3D%22css-fpuq48-ResizableCell%22%3E%3Cdiv%20class%3D%22aui-table-cell%22%20style%3D%22height%3A%2028px%3B%20left%3A%200px%3B%20top%3A%200px%3B%20width%3A%20115px%3B%20text-align%3A%20left%3B%20font-size%3A%2012px%3B%20padding%3A%204px%204px%203px%3B%20overflow%3A%20hidden%3B%20position%3A%20absolute%3B%20white-space%3A%20nowrap%3B%20text-overflow%3A%20ellipsis%3B%20font-weight%3A%20600%3B%20display%3A%20flex%3B%20align-items%3A%20center%3B%22%3E%3Cspan%3EProduct%20Class%3C%2Fspan%3E%3C%2Fdiv%3E%3Cdiv%20class%3D%22css-xxcrt1-ResizableCell%22%3E%3C%2Fdiv%3E%3C%2Fdiv%3E%3Cdiv%20class%3D%22css-z51yao-ResizableCell%22%3E%3Cdiv%20class%3D%22aui-table-cell%22%20style%3D%22height%3A%2028px%3B%20left%3A%200px%3B%20top%3A%200px%3B%20width%3A%20115px%3B%20text-align%3A%20left%3B%20font-size%3A%2012px%3B%20padding%3A%204px%204px%203px%3B%20overflow%3A%20hidden%3B%20position%3A%20absolute%3B%20white-space%3A%20nowrap%3B%20text-overflow%3A%20ellipsis%3B%20font-weight%3A%20600%3B%20display%3A%20none%3B%20align-items%3A%20center%3B%22%3E%3Cspan%3EPrice%20Strategies%3C%2Fspan%3E%3C%2Fdiv%3E%3Cdiv%20class%3D%22css-xxcrt1-ResizableCell%22%3E%3C%2Fdiv%3E%3C%2Fdiv%3E%3Cdiv%20class%3D%22css-10fw2tq-ResizableCell%22%3E%3Cdiv%20class%3D%22aui-table-cell%22%20style%3D%22height%3A%2028px%3B%20left%3A%200px%3B%20top%3A%200px%3B%20width%3A%20115px%3B%20text-align%3A%20left%3B%20font-size%3A%2012px%3B%20padding%3A%204px%204px%203px%3B%20overflow%3A%20hidden%3B%20position%3A%20absolute%3B%20white-space%3A%20nowrap%3B%20text-overflow%3A%20ellipsis%3B%20font-weight%3A%20600%3B%20display%3A%20none%3B%20align-items%3A%20center%3B%22%3E%3Cspan%3EProduct%20Class%3C%2Fspan%3E%3C%2Fdiv%3E%3Cdiv%20class%3D%22css-xxcrt1-ResizableCell%22%3E%3C%2Fdiv%3E%3C%2Fdiv%3E%3C%2Fdiv%3E%3C%2Fdiv%3E%3Cdiv%20class%3D%22aui-invisible-scrollbars%20css-4dg4dm%22%3E%3Cdiv%20class%3D%22css-1x08m7r%22%3E%3Cdiv%20style%3D%22display%3A%20flex%3B%20align-items%3A%20center%3B%20height%3A%2028px%3B%20left%3A%200px%3B%20top%3A%200px%3B%20width%3A%20120px%3B%20text-align%3A%20left%3B%20font-size%3A%2012px%3B%20padding%3A%204px%204px%203px%3B%20overflow%3A%20hidden%3B%20position%3A%20absolute%3B%20white-space%3A%20nowrap%3B%20text-overflow%3A%20ellipsis%3B%20background-color%3A%20transparent%3B%20font-weight%3A%20600%3B%22%3E%3Cspan%20style%3D%22text-overflow%3A%20ellipsis%3B%20overflow%3A%20hidden%3B%20white-space%3A%20nowrap%3B%20max-width%3A%20calc((100%25%20-%200px)%20-%200px)%3B%22%3EBase%3C%2Fspan%3E%3C%2Fdiv%3E%3Cdiv%20style%3D%22display%3A%20flex%3B%20align-items%3A%20center%3B%20height%3A%2028px%3B%20left%3A%20120px%3B%20top%3A%200px%3B%20width%3A%20120px%3B%20text-align%3A%20left%3B%20font-size%3A%2012px%3B%20padding%3A%204px%204px%203px%3B%20overflow%3A%20hidden%3B%20position%3A%20absolute%3B%20white-space%3A%20nowrap%3B%20text-overflow%3A%20ellipsis%3B%20background-color%3A%20transparent%3B%20border-right%3A%202px%20solid%20rgb(233%2C%20233%2C%20233)%3B%22%3E%3Cspan%20style%3D%22text-overflow%3A%20ellipsis%3B%20overflow%3A%20hidden%3B%20white-space%3A%20nowrap%3B%20max-width%3A%20calc((100%25%20-%200px)%20-%200px)%3B%22%3EComplementary%3C%2Fspan%3E%3C%2Fdiv%3E%3Cdiv%20style%3D%22display%3A%20none%3B%20align-items%3A%20center%3B%20height%3A%2028px%3B%20left%3A%200px%3B%20top%3A%2028px%3B%20width%3A%20120px%3B%20text-align%3A%20left%3B%20font-size%3A%2012px%3B%20padding%3A%204px%204px%203px%3B%20overflow%3A%20hidden%3B%20position%3A%20absolute%3B%20white-space%3A%20nowrap%3B%20text-overflow%3A%20ellipsis%3B%20background-color%3A%20transparent%3B%20font-weight%3A%20600%3B%22%3E%3Cspan%20style%3D%22text-overflow%3A%20ellipsis%3B%20overflow%3A%20hidden%3B%20white-space%3A%20nowrap%3B%20max-width%3A%20calc((100%25%20-%200px)%20-%200px)%3B%22%3EBase%3C%2Fspan%3E%3C%2Fdiv%3E%3Cdiv%20style%3D%22display%3A%20flex%3B%20align-items%3A%20center%3B%20height%3A%2028px%3B%20left%3A%20120px%3B%20top%3A%2028px%3B%20width%3A%20120px%3B%20text-align%3A%20left%3B%20font-size%3A%2012px%3B%20padding%3A%204px%204px%203px%3B%20overflow%3A%20hidden%3B%20position%3A%20absolute%3B%20white-space%3A%20nowrap%3B%20text-overflow%3A%20ellipsis%3B%20background-color%3A%20rgb(250%2C%20250%2C%20250)%3B%20border-right%3A%202px%20solid%20rgb(233%2C%20233%2C%20233)%3B%22%3E%3Cspan%20style%3D%22text-overflow%3A%20ellipsis%3B%20overflow%3A%20hidden%3B%20white-space%3A%20nowrap%3B%20max-width%3A%20calc((100%25%20-%200px)%20-%200px)%3B%22%3EDriver%3C%2Fspan%3E%3C%2Fdiv%3E%3Cdiv%20style%3D%22display%3A%20none%3B%20align-items%3A%20center%3B%20height%3A%2028px%3B%20left%3A%200px%3B%20top%3A%2056px%3B%20width%3A%20120px%3B%20text-align%3A%20left%3B%20font-size%3A%2012px%3B%20padding%3A%204px%204px%203px%3B%20overflow%3A%20hidden%3B%20position%3A%20absolute%3B%20white-space%3A%20nowrap%3B%20text-overflow%3A%20ellipsis%3B%20background-color%3A%20transparent%3B%20font-weight%3A%20600%3B%22%3E%3Cspan%20style%3D%22text-overflow%3A%20ellipsis%3B%20overflow%3A%20hidden%3B%20white-space%3A%20nowrap%3B%20max-width%3A%20calc((100%25%20-%200px)%20-%200px)%3B%22%3EBase%3C%2Fspan%3E%3C%2Fdiv%3E%3Cdiv%20style%3D%22display%3A%20flex%3B%20align-items%3A%20center%3B%20height%3A%2028px%3B%20left%3A%20120px%3B%20top%3A%2056px%3B%20width%3A%20120px%3B%20text-align%3A%20left%3B%20font-size%3A%2012px%3B%20padding%3A%204px%204px%203px%3B%20overflow%3A%20hidden%3B%20position%3A%20absolute%3B%20white-space%3A%20nowrap%3B%20text-overflow%3A%20ellipsis%3B%20background-color%3A%20transparent%3B%20border-right%3A%202px%20solid%20rgb(233%2C%20233%2C%20233)%3B%22%3E%3Cspan%20style%3D%22text-overflow%3A%20ellipsis%3B%20overflow%3A%20hidden%3B%20white-space%3A%20nowrap%3B%20max-width%3A%20calc((100%25%20-%200px)%20-%200px)%3B%22%3EIndependent%3C%2Fspan%3E%3C%2Fdiv%3E%3Cdiv%20style%3D%22display%3A%20flex%3B%20align-items%3A%20center%3B%20height%3A%2028px%3B%20left%3A%200px%3B%20top%3A%2084px%3B%20width%3A%20120px%3B%20text-align%3A%20left%3B%20font-size%3A%2012px%3B%20padding%3A%204px%204px%203px%3B%20overflow%3A%20hidden%3B%20position%3A%20absolute%3B%20white-space%3A%20nowrap%3B%20text-overflow%3A%20ellipsis%3B%20background-color%3A%20transparent%3B%20font-weight%3A%20600%3B%22%3E%3Cspan%20style%3D%22text-overflow%3A%20ellipsis%3B%20overflow%3A%20hidden%3B%20white-space%3A%20nowrap%3B%20max-width%3A%20calc((100%25%20-%200px)%20-%200px)%3B%22%3E10%25%20complementary%20increase%3C%2Fspan%3E%3C%2Fdiv%3E%3Cdiv%20style%3D%22display%3A%20flex%3B%20align-items%3A%20center%3B%20height%3A%2028px%3B%20left%3A%20120px%3B%20top%3A%2084px%3B%20width%3A%20120px%3B%20text-align%3A%20left%3B%20font-size%3A%2012px%3B%20padding%3A%204px%204px%203px%3B%20overflow%3A%20hidden%3B%20position%3A%20absolute%3B%20white-space%3A%20nowrap%3B%20text-overflow%3A%20ellipsis%3B%20background-color%3A%20rgb(250%2C%20250%2C%20250)%3B%20border-right%3A%202px%20solid%20rgb(233%2C%20233%2C%20233)%3B%22%3E%3Cspan%20style%3D%22text-overflow%3A%20ellipsis%3B%20overflow%3A%20hidden%3B%20white-space%3A%20nowrap%3B%20max-width%3A%20calc((100%25%20-%200px)%20-%200px)%3B%22%3EComplementary%3C%2Fspan%3E%3C%2Fdiv%3E%3Cdiv%20style%3D%22display%3A%20none%3B%20align-items%3A%20center%3B%20height%3A%2028px%3B%20left%3A%200px%3B%20top%3A%20112px%3B%20width%3A%20120px%3B%20text-align%3A%20left%3B%20font-size%3A%2012px%3B%20padding%3A%204px%204px%203px%3B%20overflow%3A%20hidden%3B%20position%3A%20absolute%3B%20white-space%3A%20nowrap%3B%20text-overflow%3A%20ellipsis%3B%20background-color%3A%20transparent%3B%20font-weight%3A%20600%3B%22%3E%3Cspan%20style%3D%22text-overflow%3A%20ellipsis%3B%20overflow%3A%20hidden%3B%20white-space%3A%20nowrap%3B%20max-width%3A%20calc((100%25%20-%200px)%20-%200px)%3B%22%3E10%25%20complementary%20increase%3C%2Fspan%3E%3C%2Fdiv%3E%3Cdiv%20style%3D%22display%3A%20flex%3B%20align-items%3A%20center%3B%20height%3A%2028px%3B%20left%3A%20120px%3B%20top%3A%20112px%3B%20width%3A%20120px%3B%20text-align%3A%20left%3B%20font-size%3A%2012px%3B%20padding%3A%204px%204px%203px%3B%20overflow%3A%20hidden%3B%20position%3A%20absolute%3B%20white-space%3A%20nowrap%3B%20text-overflow%3A%20ellipsis%3B%20background-color%3A%20transparent%3B%20border-right%3A%202px%20solid%20rgb(233%2C%20233%2C%20233)%3B%22%3E%3Cspan%20style%3D%22text-overflow%3A%20ellipsis%3B%20overflow%3A%20hidden%3B%20white-space%3A%20nowrap%3B%20max-width%3A%20calc((100%25%20-%200px)%20-%200px)%3B%22%3EDriver%3C%2Fspan%3E%3C%2Fdiv%3E%3Cdiv%20style%3D%22display%3A%20none%3B%20align-items%3A%20center%3B%20height%3A%2028px%3B%20left%3A%200px%3B%20top%3A%20140px%3B%20width%3A%20120px%3B%20text-align%3A%20left%3B%20font-size%3A%2012px%3B%20padding%3A%204px%204px%203px%3B%20overflow%3A%20hidden%3B%20position%3A%20absolute%3B%20white-space%3A%20nowrap%3B%20text-overflow%3A%20ellipsis%3B%20background-color%3A%20transparent%3B%20font-weight%3A%20600%3B%22%3E%3Cspan%20style%3D%22text-overflow%3A%20ellipsis%3B%20overflow%3A%20hidden%3B%20white-space%3A%20nowrap%3B%20max-width%3A%20calc((100%25%20-%200px)%20-%200px)%3B%22%3E10%25%20complementary%20increase%3C%2Fspan%3E%3C%2Fdiv%3E%3Cdiv%20style%3D%22display%3A%20flex%3B%20align-items%3A%20center%3B%20height%3A%2028px%3B%20left%3A%20120px%3B%20top%3A%20140px%3B%20width%3A%20120px%3B%20text-align%3A%20left%3B%20font-size%3A%2012px%3B%20padding%3A%204px%204px%203px%3B%20overflow%3A%20hidden%3B%20position%3A%20absolute%3B%20white-space%3A%20nowrap%3B%20text-overflow%3A%20ellipsis%3B%20background-color%3A%20rgb(250%2C%20250%2C%20250)%3B%20border-right%3A%202px%20solid%20rgb(233%2C%20233%2C%20233)%3B%22%3E%3Cspan%20style%3D%22text-overflow%3A%20ellipsis%3B%20overflow%3A%20hidden%3B%20white-space%3A%20nowrap%3B%20max-width%3A%20calc((100%25%20-%200px)%20-%200px)%3B%22%3EIndependent%3C%2Fspan%3E%3C%2Fdiv%3E%3C%2Fdiv%3E%3C%2Fdiv%3E%3C%2Fdiv%3E%3Cdiv%20class%3D%22css-l8mdcn-Table%22%3E%3Cdiv%20class%3D%22aui-invisible-scrollbars%20css-19jtjfi%22%3E%3Cdiv%20class%3D%22css-12eh7ow%22%3E%3Cdiv%20class%3D%22css-2mgy22-ResizableCell%22%3E%3Cdiv%20style%3D%22display%3A%20flex%3B%20align-items%3A%20center%3B%20height%3A%2028px%3B%20left%3A%200px%3B%20top%3A%200px%3B%20width%3A%20174px%3B%20text-align%3A%20left%3B%20font-size%3A%2012px%3B%20padding%3A%204px%204px%203px%3B%20overflow%3A%20hidden%3B%20position%3A%20absolute%3B%20white-space%3A%20nowrap%3B%20text-overflow%3A%20ellipsis%3B%20font-weight%3A%20600%3B%22%3E%3Cspan%20style%3D%22text-overflow%3A%20ellipsis%3B%20overflow%3A%20hidden%3B%20white-space%3A%20nowrap%3B%20max-width%3A%20calc((100%25%20-%200px)%20-%200px)%3B%22%3EPrice%20Index%3C%2Fspan%3E%3C%2Fdiv%3E%3Cdiv%20class%3D%22css-xxcrt1-ResizableCell%22%3E%3C%2Fdiv%3E%3C%2Fdiv%3E%3Cdiv%20class%3D%22css-1wty3se-ResizableCell%22%3E%3Cdiv%20style%3D%22display%3A%20none%3B%20align-items%3A%20center%3B%20height%3A%2028px%3B%20left%3A%200px%3B%20top%3A%200px%3B%20width%3A%20180px%3B%20text-align%3A%20left%3B%20font-size%3A%2012px%3B%20padding%3A%204px%204px%203px%3B%20overflow%3A%20hidden%3B%20position%3A%20absolute%3B%20white-space%3A%20nowrap%3B%20text-overflow%3A%20ellipsis%3B%20font-weight%3A%20600%3B%22%3E%3Cspan%20style%3D%22text-overflow%3A%20ellipsis%3B%20overflow%3A%20hidden%3B%20white-space%3A%20nowrap%3B%20max-width%3A%20calc((100%25%20-%200px)%20-%200px)%3B%22%3EPrice%20Index%3C%2Fspan%3E%3C%2Fdiv%3E%3Cdiv%20class%3D%22css-xxcrt1-ResizableCell%22%3E%3C%2Fdiv%3E%3C%2Fdiv%3E%3Cdiv%20class%3D%22css-crypxe-ResizableCell%22%3E%3Cdiv%20style%3D%22display%3A%20flex%3B%20align-items%3A%20center%3B%20height%3A%2028px%3B%20left%3A%200px%3B%20top%3A%200px%3B%20width%3A%20174px%3B%20text-align%3A%20left%3B%20font-size%3A%2012px%3B%20padding%3A%204px%204px%203px%3B%20overflow%3A%20hidden%3B%20position%3A%20absolute%3B%20white-space%3A%20nowrap%3B%20text-overflow%3A%20ellipsis%3B%20font-weight%3A%20600%3B%22%3E%3Cspan%20style%3D%22text-overflow%3A%20ellipsis%3B%20overflow%3A%20hidden%3B%20white-space%3A%20nowrap%3B%20max-width%3A%20calc((100%25%20-%200px)%20-%200px)%3B%22%3EBase%3C%2Fspan%3E%3C%2Fdiv%3E%3Cdiv%20class%3D%22css-xxcrt1-ResizableCell%22%3E%3C%2Fdiv%3E%3C%2Fdiv%3E%3Cdiv%20class%3D%22css-1ls483b-ResizableCell%22%3E%3Cdiv%20style%3D%22display%3A%20flex%3B%20align-items%3A%20center%3B%20height%3A%2028px%3B%20left%3A%200px%3B%20top%3A%200px%3B%20width%3A%20180px%3B%20text-align%3A%20left%3B%20font-size%3A%2012px%3B%20padding%3A%204px%204px%203px%3B%20overflow%3A%20hidden%3B%20position%3A%20absolute%3B%20white-space%3A%20nowrap%3B%20text-overflow%3A%20ellipsis%3B%20font-weight%3A%20600%3B%22%3E%3Cspan%20style%3D%22text-overflow%3A%20ellipsis%3B%20overflow%3A%20hidden%3B%20white-space%3A%20nowrap%3B%20max-width%3A%20calc((100%25%20-%200px)%20-%200px)%3B%22%3EOptimized%20price%20index%3C%2Fspan%3E%3C%2Fdiv%3E%3Cdiv%20class%3D%22css-xxcrt1-ResizableCell%22%3E%3C%2Fdiv%3E%3C%2Fdiv%3E%3C%2Fdiv%3E%3C%2Fdiv%3E%3Cdiv%20class%3D%22%20css-1aj674l%22%3E%3Cdiv%20class%3D%22css-q52q9p%22%3E%3Cdiv%20class%3D%22aui-table-cell%22%20style%3D%22height%3A%2028px%3B%20left%3A%200px%3B%20top%3A%200px%3B%20width%3A%20179px%3B%20text-align%3A%20right%3B%20font-size%3A%2012px%3B%20padding%3A%204px%204px%203px%3B%20overflow%3A%20hidden%3B%20position%3A%20absolute%3B%20white-space%3A%20nowrap%3B%20text-overflow%3A%20ellipsis%3B%20background-color%3A%20transparent%3B%20border-right%3A%201px%20solid%20rgb(233%2C%20233%2C%20233)%3B%22%3E103.99%3C%2Fdiv%3E%3Cdiv%20class%3D%22aui-table-cell%22%20style%3D%22height%3A%2028px%3B%20left%3A%20179px%3B%20top%3A%200px%3B%20width%3A%20185px%3B%20text-align%3A%20right%3B%20font-size%3A%2012px%3B%20padding%3A%204px%204px%203px%3B%20overflow%3A%20hidden%3B%20position%3A%20absolute%3B%20white-space%3A%20nowrap%3B%20text-overflow%3A%20ellipsis%3B%20background-color%3A%20transparent%3B%20border-right%3A%201px%20solid%20rgb(233%2C%20233%2C%20233)%3B%22%3E112.82%3C%2Fdiv%3E%3Cdiv%20class%3D%22aui-table-cell%22%20style%3D%22height%3A%2028px%3B%20left%3A%200px%3B%20top%3A%2028px%3B%20width%3A%20179px%3B%20text-align%3A%20right%3B%20font-size%3A%2012px%3B%20padding%3A%204px%204px%203px%3B%20overflow%3A%20hidden%3B%20position%3A%20absolute%3B%20white-space%3A%20nowrap%3B%20text-overflow%3A%20ellipsis%3B%20background-color%3A%20rgb(250%2C%20250%2C%20250)%3B%20border-right%3A%201px%20solid%20rgb(233%2C%20233%2C%20233)%3B%22%3E103.78%3C%2Fdiv%3E%3Cdiv%20class%3D%22aui-table-cell%22%20style%3D%22height%3A%2028px%3B%20left%3A%20179px%3B%20top%3A%2028px%3B%20width%3A%20185px%3B%20text-align%3A%20right%3B%20font-size%3A%2012px%3B%20padding%3A%204px%204px%203px%3B%20overflow%3A%20hidden%3B%20position%3A%20absolute%3B%20white-space%3A%20nowrap%3B%20text-overflow%3A%20ellipsis%3B%20background-color%3A%20rgb(250%2C%20250%2C%20250)%3B%20border-right%3A%201px%20solid%20rgb(233%2C%20233%2C%20233)%3B%22%3E99.63%3C%2Fdiv%3E%3Cdiv%20class%3D%22aui-table-cell%22%20style%3D%22height%3A%2028px%3B%20left%3A%200px%3B%20top%3A%2056px%3B%20width%3A%20179px%3B%20text-align%3A%20right%3B%20font-size%3A%2012px%3B%20padding%3A%204px%204px%203px%3B%20overflow%3A%20hidden%3B%20position%3A%20absolute%3B%20white-space%3A%20nowrap%3B%20text-overflow%3A%20ellipsis%3B%20background-color%3A%20transparent%3B%20border-right%3A%201px%20solid%20rgb(233%2C%20233%2C%20233)%3B%22%3E99.48%3C%2Fdiv%3E%3Cdiv%20class%3D%22aui-table-cell%22%20style%3D%22height%3A%2028px%3B%20left%3A%20179px%3B%20top%3A%2056px%3B%20width%3A%20185px%3B%20text-align%3A%20right%3B%20font-size%3A%2012px%3B%20padding%3A%204px%204px%203px%3B%20overflow%3A%20hidden%3B%20position%3A%20absolute%3B%20white-space%3A%20nowrap%3B%20text-overflow%3A%20ellipsis%3B%20background-color%3A%20transparent%3B%20border-right%3A%201px%20solid%20rgb(233%2C%20233%2C%20233)%3B%22%3E95.50%3C%2Fdiv%3E%3Cdiv%20class%3D%22aui-table-cell%22%20style%3D%22height%3A%2028px%3B%20left%3A%200px%3B%20top%3A%2084px%3B%20width%3A%20179px%3B%20text-align%3A%20right%3B%20font-size%3A%2012px%3B%20padding%3A%204px%204px%203px%3B%20overflow%3A%20hidden%3B%20position%3A%20absolute%3B%20white-space%3A%20nowrap%3B%20text-overflow%3A%20ellipsis%3B%20background-color%3A%20rgb(250%2C%20250%2C%20250)%3B%20border-right%3A%201px%20solid%20rgb(233%2C%20233%2C%20233)%3B%22%3E114.38%3C%2Fdiv%3E%3Cdiv%20class%3D%22aui-table-cell%22%20style%3D%22height%3A%2028px%3B%20left%3A%20179px%3B%20top%3A%2084px%3B%20width%3A%20185px%3B%20text-align%3A%20right%3B%20font-size%3A%2012px%3B%20padding%3A%204px%204px%203px%3B%20overflow%3A%20hidden%3B%20position%3A%20absolute%3B%20white-space%3A%20nowrap%3B%20text-overflow%3A%20ellipsis%3B%20background-color%3A%20rgb(250%2C%20250%2C%20250)%3B%20border-right%3A%201px%20solid%20rgb(233%2C%20233%2C%20233)%3B%22%3E124.11%3C%2Fdiv%3E%3Cdiv%20class%3D%22aui-table-cell%22%20style%3D%22height%3A%2028px%3B%20left%3A%200px%3B%20top%3A%20112px%3B%20width%3A%20179px%3B%20text-align%3A%20right%3B%20font-size%3A%2012px%3B%20padding%3A%204px%204px%203px%3B%20overflow%3A%20hidden%3B%20position%3A%20absolute%3B%20white-space%3A%20nowrap%3B%20text-overflow%3A%20ellipsis%3B%20background-color%3A%20transparent%3B%20border-right%3A%201px%20solid%20rgb(233%2C%20233%2C%20233)%3B%22%3E103.78%3C%2Fdiv%3E%3Cdiv%20class%3D%22aui-table-cell%22%20style%3D%22height%3A%2028px%3B%20left%3A%20179px%3B%20top%3A%20112px%3B%20width%3A%20185px%3B%20text-align%3A%20right%3B%20font-size%3A%2012px%3B%20padding%3A%204px%204px%203px%3B%20overflow%3A%20hidden%3B%20position%3A%20absolute%3B%20white-space%3A%20nowrap%3B%20text-overflow%3A%20ellipsis%3B%20background-color%3A%20transparent%3B%20border-right%3A%201px%20solid%20rgb(233%2C%20233%2C%20233)%3B%22%3E99.63%3C%2Fdiv%3E%3Cdiv%20class%3D%22aui-table-cell%22%20style%3D%22height%3A%2028px%3B%20left%3A%200px%3B%20top%3A%20140px%3B%20width%3A%20179px%3B%20text-align%3A%20right%3B%20font-size%3A%2012px%3B%20padding%3A%204px%204px%203px%3B%20overflow%3A%20hidden%3B%20position%3A%20absolute%3B%20white-space%3A%20nowrap%3B%20text-overflow%3A%20ellipsis%3B%20background-color%3A%20rgb(250%2C%20250%2C%20250)%3B%20border-right%3A%201px%20solid%20rgb(233%2C%20233%2C%20233)%3B%22%3E99.48%3C%2Fdiv%3E%3Cdiv%20class%3D%22aui-table-cell%22%20style%3D%22height%3A%2028px%3B%20left%3A%20179px%3B%20top%3A%20140px%3B%20width%3A%20185px%3B%20text-align%3A%20right%3B%20font-size%3A%2012px%3B%20padding%3A%204px%204px%203px%3B%20overflow%3A%20hidden%3B%20position%3A%20absolute%3B%20white-space%3A%20nowrap%3B%20text-overflow%3A%20ellipsis%3B%20background-color%3A%20rgb(250%2C%20250%2C%20250)%3B%20border-right%3A%201px%20solid%20rgb(233%2C%20233%2C%20233)%3B%22%3E95.50%3C%2Fdiv%3E%3C%2Fdiv%3E%3C%2Fdiv%3E%3C%2Fdiv%3E%3C%2Fdiv%3E%3C%2Fdiv%3E%3Cdiv%20class%3D%22css-1uww2vi-Table%22%3E%3C%2Fdiv%3E%3C%2Fdiv%3E%3C%2Fdiv%3E%3C%2Fdiv%3E%3C%2Fdiv%3E%3C%2Fdiv%3E%3C%2FforeignObject%3E%3C%2Fsvg%3E\">"
      ],
      "text/plain": [
       "Open the notebook in JupyterLab with the atoti extension enabled to build this widget."
      ]
     },
     "metadata": {},
     "output_type": "display_data"
    }
   ],
   "source": [
    "session.visualize(\"Price index comparison across scenarios (per class)\")"
   ]
  },
  {
   "cell_type": "markdown",
   "metadata": {},
   "source": [
    "You can also have a look at our second summary dashboard of the simulation part (run the next cell to get the link)"
   ]
  },
  {
   "cell_type": "code",
   "execution_count": 52,
   "metadata": {},
   "outputs": [
    {
     "data": {
      "application/vnd.atoti.link.v0+json": {
       "path": "#/dashboard/781",
       "sessionLocation": {
        "https": null,
        "port": 1111
       }
      },
      "text/plain": [
       "Open the notebook in JupyterLab with the atoti extension enabled to see this link."
      ]
     },
     "execution_count": 52,
     "metadata": {},
     "output_type": "execute_result"
    }
   ],
   "source": [
    "session.link(path=\"/#/dashboard/781\")"
   ]
  },
  {
   "cell_type": "markdown",
   "metadata": {},
   "source": [
    "<div style=\"text-align: center;\" ><a href=\"https://www.atoti.io/?utm_source=gallery&utm_content=pricing-simulation\" target=\"_blank\" rel=\"noopener noreferrer\"><img src=\"https://data.atoti.io/notebooks/banners/discover-try.png\" alt=\"Try atoti\"></a></div>"
   ]
  }
 ],
 "metadata": {
  "kernelspec": {
   "display_name": "Python 3 (ipykernel)",
   "language": "python",
   "name": "python3"
  },
  "language_info": {
   "codemirror_mode": {
    "name": "ipython",
    "version": 3
   },
   "file_extension": ".py",
   "mimetype": "text/x-python",
   "name": "python",
   "nbconvert_exporter": "python",
   "pygments_lexer": "ipython3",
   "version": "3.9.12"
  }
 },
 "nbformat": 4,
 "nbformat_minor": 4
}
