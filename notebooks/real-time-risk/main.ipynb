{
 "cells": [
  {
   "cell_type": "markdown",
   "metadata": {},
   "source": [
    "# Real-time aggregation with atoti"
   ]
  },
  {
   "cell_type": "markdown",
   "metadata": {},
   "source": [
    "## Introduction\n",
    "\n",
    "In our example we will create a real-time risk dashboard using atoti. We will explore the three methods for real-time updates: \n",
    "\n",
    "- monitoring **file updates**, \n",
    "- the **append** method and \n",
    "- subscribing to a **kafka feed** with a custom serializer.\n",
    "\n",
    "Using a finance use case as an example, we are going to perform the following:\n",
    "- simulate a live feed of market quotes \n",
    "- use QuantLib to recalculate sensitivities on the fly\n",
    "- stream updated risk numbers to an atoti-powered in-memory cube which will update our risk dashboard. \n",
    "- we will emulate real-time trading activity: every time a new trade arrives from kafka, a live \"trades_blotter\" widget in atoti app will blink to reflect the updates of measurements due to the new records. \n",
    "\n",
    "<div style=\"text-align: center;\" ><a href=\"https://www.atoti.io/?utm_source=gallery&utm_content=real-time-risk\" target=\"_blank\" rel=\"noopener noreferrer\"><img src=\"https://data.atoti.io/notebooks/banners/discover.png\" alt=\"Try atoti\"></a></div>\n",
    "\n",
    "Have a look at the GIF of the running atoti application below. On the left, we have a real-time market data feed which is a replay of historical stock prices. On the bottom, there are our trades and on the right, we have risk data continuously re-calculated and re-aggregated at various levels. Every time market data is updated, a chain of actions is performed automatically, resulting in an update to the risk summary table. With this in mind, let’s dive deep into the details!\n",
    "\n",
    "<img src=\"./img/app-preview.gif\" alt=\"Real-time risk app preview\" width=\"75%\">"
   ]
  },
  {
   "cell_type": "markdown",
   "metadata": {},
   "source": [
    "# Imports"
   ]
  },
  {
   "cell_type": "code",
   "execution_count": 1,
   "metadata": {},
   "outputs": [],
   "source": [
    "# !conda install -c conda-forge python-wget -y"
   ]
  },
  {
   "cell_type": "code",
   "execution_count": 2,
   "metadata": {},
   "outputs": [],
   "source": [
    "# !pip install atoti[kafka] atoti[aws]"
   ]
  },
  {
   "cell_type": "code",
   "execution_count": 3,
   "metadata": {},
   "outputs": [],
   "source": [
    "import json\n",
    "import random\n",
    "import time\n",
    "from datetime import datetime, timedelta\n",
    "import wget\n",
    "\n",
    "import pandas as pd\n",
    "from IPython.display import clear_output"
   ]
  },
  {
   "cell_type": "markdown",
   "metadata": {},
   "source": [
    "# atoti session\n",
    "\n",
    "The first step is to create atoti session for an in-memory data cube:"
   ]
  },
  {
   "cell_type": "code",
   "execution_count": 4,
   "metadata": {},
   "outputs": [],
   "source": [
    "import atoti as tt\n",
    "from atoti.config import create_config\n",
    "\n",
    "config = create_config(\n",
    "    metadata_db=\"./metadata.db\", max_memory=\"4G\", sampling_mode=tt.sampling.FULL\n",
    ")\n",
    "session = tt.create_session(config=config)"
   ]
  },
  {
   "cell_type": "markdown",
   "metadata": {},
   "source": [
    "# atoti for real-time update\n",
    "\n",
    "As we discussed, we have several live feeds in our app - *a market data feed* simulating the tick stock price time-series which is then producing *a feed of risk numbers* by recalculating option greeks with a Quantlib function. You can easily replace them with your own real time data sources - for example, live trade feeds, sensitivity updates, stress-testing numbers, etc. \n",
    "\n",
    "At the time of writing, atoti provides **three ways to implement real-time update**: \n",
    "\n",
    "- the first is by using the **reactive datastores** - it tells atoti to observe a file or a folder and fetch updates as soon as there are any, \n",
    "- the second is the **append** command that pushes new data into a datastore forcing re-calculation. \n",
    "- the third is to let a datastore listen to a **kafka feed**.\n",
    "\n",
    "All three methods are illustrated below.\n",
    "\n",
    "**Data visualization** in the atoti app supports the “continuous queries” feature, enabling widgets to automatically refresh the results every time a single contribution changes in the data store. You can toggle between “Turn on real-time”, “Refresh periodically” and “Pause query” for each widget in the atoti app, as shown in this picture:\n",
    "\n",
    "<img src=\"./img/widget-query-mode.png\" alt=\"Widget query mode\" width=\"50%\">"
   ]
  },
  {
   "cell_type": "markdown",
   "metadata": {},
   "source": [
    "We can create dashboards with the atoti application that comes with the library. Click on the below link to access atoti application."
   ]
  },
  {
   "cell_type": "code",
   "execution_count": 5,
   "metadata": {},
   "outputs": [
    {
     "data": {
      "text/plain": [
       "'http://localhost:53758'"
      ]
     },
     "execution_count": 5,
     "metadata": {},
     "output_type": "execute_result"
    }
   ],
   "source": [
    "session.url"
   ]
  },
  {
   "cell_type": "markdown",
   "metadata": {},
   "source": [
    "# atoti data cube"
   ]
  },
  {
   "cell_type": "markdown",
   "metadata": {},
   "source": [
    "Let's create a cube with two datastores: one for the market data and one for the risk metrics. \n",
    "\n",
    "### 1. Real-time via file/folder monitoring\n",
    "\n",
    "We implement file and folder monitoring at the point of datastore creation as shown below.  \n",
    "As we create the `sensitivity_store` and connecting it to a source, in our case a csv file on disc, we set the parameter `watch` to `True`.\n",
    "\n",
    "The parameter `watch = True` makes the `sensitivities_store` fetch the updates from the file on the disk automatically when it changes. The parameter `watch` is available for `read_csv` and `read_parquet` functions, as described in the [atoti doc](https://docs.atoti.io/0.4.2/lib/atoti.html?highlight=watch#atoti.session.Session.read_csv).  "
   ]
  },
  {
   "cell_type": "code",
   "execution_count": 6,
   "metadata": {},
   "outputs": [],
   "source": [
    "sensitivities_store = session.read_csv(\n",
    "    \"./dynamic-input-files/\",\n",
    "    keys=[\"AsOfDate\", \"TradeId\", \"RiskFactor\"],\n",
    "    store_name=\"Sensitivities\",\n",
    "    types={\"TradeId\": tt.type.STRING, \"AsOfDate\": tt.type.LOCAL_DATE},\n",
    "    watch=True,\n",
    ")"
   ]
  },
  {
   "cell_type": "markdown",
   "metadata": {},
   "source": [
    "After creating the cube, we can start data exploration:"
   ]
  },
  {
   "cell_type": "code",
   "execution_count": 7,
   "metadata": {},
   "outputs": [],
   "source": [
    "cube = session.create_cube(sensitivities_store, \"Sensitivities\")"
   ]
  },
  {
   "cell_type": "code",
   "execution_count": 8,
   "metadata": {},
   "outputs": [
    {
     "data": {
      "image/svg+xml": [
       "<svg xmlns=\"http://www.w3.org/2000/svg\" xmlns:xlink=\"http://www.w3.org/1999/xlink\" width=\"202px\" height=\"162px\" viewBox=\"0.00 0.00 202.00 162.00\">\n",
       "<g id=\"graph0\" class=\"graph\" transform=\"scale(1.0 1.0) rotate(0) translate(4 158)\">\n",
       "<title>Sensitivities schema</title>\n",
       "<polygon fill=\"white\" stroke=\"none\" points=\"-4,4 -4,-158 198,-158 198,4 -4,4\"/>\n",
       "<!-- Sensitivities -->\n",
       "<g id=\"node1\" class=\"node\"><title>Sensitivities</title>\n",
       "<text text-anchor=\"start\" x=\"61.5\" y=\"-134.6\" font-family=\"-apple-system, BlinkMacSystemFont, 'Segoe UI', Helvetica, Arial, sans-serif, 'Apple Color Emoji', 'Segoe UI Emoji', 'Segoe UI Symbol'\" font-weight=\"bold\" font-size=\"13.00\">Sensitivities</text>\n",
       "<polygon fill=\"#f5f5f5\" stroke=\"none\" points=\"9,-101 9,-125 40,-125 40,-101 9,-101\"/>\n",
       "<text text-anchor=\"start\" x=\"14\" y=\"-110.6\" font-family=\"-apple-system, BlinkMacSystemFont, 'Segoe UI', Helvetica, Arial, sans-serif, 'Apple Color Emoji', 'Segoe UI Emoji', 'Segoe UI Symbol'\" font-weight=\"bold\" font-size=\"13.00\">key</text>\n",
       "<polygon fill=\"#f5f5f5\" stroke=\"none\" points=\"40,-101 40,-125 118,-125 118,-101 40,-101\"/>\n",
       "<text text-anchor=\"start\" x=\"45\" y=\"-109.6\" font-family=\"-apple-system, BlinkMacSystemFont, 'Segoe UI', Helvetica, Arial, sans-serif, 'Apple Color Emoji', 'Segoe UI Emoji', 'Segoe UI Symbol'\" font-size=\"13.00\">AsOfDate</text>\n",
       "<polygon fill=\"#f5f5f5\" stroke=\"none\" points=\"118,-101 118,-125 185,-125 185,-101 118,-101\"/>\n",
       "<text text-anchor=\"start\" x=\"123\" y=\"-110.6\" font-family=\"-apple-system, BlinkMacSystemFont, 'Segoe UI', Helvetica, Arial, sans-serif, 'Apple Color Emoji', 'Segoe UI Emoji', 'Segoe UI Symbol'\" font-style=\"italic\" font-size=\"13.00\">LocalDate</text>\n",
       "<polygon fill=\"#ffffff\" stroke=\"none\" points=\"9,-77 9,-101 40,-101 40,-77 9,-77\"/>\n",
       "<text text-anchor=\"start\" x=\"14\" y=\"-86.6\" font-family=\"-apple-system, BlinkMacSystemFont, 'Segoe UI', Helvetica, Arial, sans-serif, 'Apple Color Emoji', 'Segoe UI Emoji', 'Segoe UI Symbol'\" font-weight=\"bold\" font-size=\"13.00\">key</text>\n",
       "<polygon fill=\"#ffffff\" stroke=\"none\" points=\"40,-77 40,-101 118,-101 118,-77 40,-77\"/>\n",
       "<text text-anchor=\"start\" x=\"45\" y=\"-85.6\" font-family=\"-apple-system, BlinkMacSystemFont, 'Segoe UI', Helvetica, Arial, sans-serif, 'Apple Color Emoji', 'Segoe UI Emoji', 'Segoe UI Symbol'\" font-size=\"13.00\">TradeId</text>\n",
       "<polygon fill=\"#ffffff\" stroke=\"none\" points=\"118,-77 118,-101 185,-101 185,-77 118,-77\"/>\n",
       "<text text-anchor=\"start\" x=\"147\" y=\"-86.6\" font-family=\"-apple-system, BlinkMacSystemFont, 'Segoe UI', Helvetica, Arial, sans-serif, 'Apple Color Emoji', 'Segoe UI Emoji', 'Segoe UI Symbol'\" font-style=\"italic\" font-size=\"13.00\">String</text>\n",
       "<polygon fill=\"#f5f5f5\" stroke=\"none\" points=\"9,-53 9,-77 40,-77 40,-53 9,-53\"/>\n",
       "<text text-anchor=\"start\" x=\"14\" y=\"-62.6\" font-family=\"-apple-system, BlinkMacSystemFont, 'Segoe UI', Helvetica, Arial, sans-serif, 'Apple Color Emoji', 'Segoe UI Emoji', 'Segoe UI Symbol'\" font-weight=\"bold\" font-size=\"13.00\">key</text>\n",
       "<polygon fill=\"#f5f5f5\" stroke=\"none\" points=\"40,-53 40,-77 118,-77 118,-53 40,-53\"/>\n",
       "<text text-anchor=\"start\" x=\"45\" y=\"-61.6\" font-family=\"-apple-system, BlinkMacSystemFont, 'Segoe UI', Helvetica, Arial, sans-serif, 'Apple Color Emoji', 'Segoe UI Emoji', 'Segoe UI Symbol'\" font-size=\"13.00\">RiskFactor</text>\n",
       "<polygon fill=\"#f5f5f5\" stroke=\"none\" points=\"118,-53 118,-77 185,-77 185,-53 118,-53\"/>\n",
       "<text text-anchor=\"start\" x=\"147\" y=\"-62.6\" font-family=\"-apple-system, BlinkMacSystemFont, 'Segoe UI', Helvetica, Arial, sans-serif, 'Apple Color Emoji', 'Segoe UI Emoji', 'Segoe UI Symbol'\" font-style=\"italic\" font-size=\"13.00\">String</text>\n",
       "<polygon fill=\"#ffffff\" stroke=\"none\" points=\"9,-29 9,-53 40,-53 40,-29 9,-29\"/>\n",
       "<polygon fill=\"#ffffff\" stroke=\"none\" points=\"40,-29 40,-53 118,-53 118,-29 40,-29\"/>\n",
       "<text text-anchor=\"start\" x=\"45\" y=\"-37.6\" font-family=\"-apple-system, BlinkMacSystemFont, 'Segoe UI', Helvetica, Arial, sans-serif, 'Apple Color Emoji', 'Segoe UI Emoji', 'Segoe UI Symbol'\" font-size=\"13.00\">MarketValue</text>\n",
       "<polygon fill=\"#ffffff\" stroke=\"none\" points=\"118,-29 118,-53 185,-53 185,-29 118,-29\"/>\n",
       "<text text-anchor=\"start\" x=\"143\" y=\"-38.6\" font-family=\"-apple-system, BlinkMacSystemFont, 'Segoe UI', Helvetica, Arial, sans-serif, 'Apple Color Emoji', 'Segoe UI Emoji', 'Segoe UI Symbol'\" font-style=\"italic\" font-size=\"13.00\">double</text>\n",
       "<polygon fill=\"#f5f5f5\" stroke=\"none\" points=\"9,-5 9,-29 40,-29 40,-5 9,-5\"/>\n",
       "<polygon fill=\"#f5f5f5\" stroke=\"none\" points=\"40,-5 40,-29 118,-29 118,-5 40,-5\"/>\n",
       "<text text-anchor=\"start\" x=\"45\" y=\"-13.6\" font-family=\"-apple-system, BlinkMacSystemFont, 'Segoe UI', Helvetica, Arial, sans-serif, 'Apple Color Emoji', 'Segoe UI Emoji', 'Segoe UI Symbol'\" font-size=\"13.00\">Delta</text>\n",
       "<polygon fill=\"#f5f5f5\" stroke=\"none\" points=\"118,-5 118,-29 185,-29 185,-5 118,-5\"/>\n",
       "<text text-anchor=\"start\" x=\"143\" y=\"-14.6\" font-family=\"-apple-system, BlinkMacSystemFont, 'Segoe UI', Helvetica, Arial, sans-serif, 'Apple Color Emoji', 'Segoe UI Emoji', 'Segoe UI Symbol'\" font-style=\"italic\" font-size=\"13.00\">double</text>\n",
       "<polygon fill=\"none\" stroke=\"black\" points=\"8,-4 8,-150 186,-150 186,-4 8,-4\"/>\n",
       "</g>\n",
       "</g>\n",
       "</svg>"
      ],
      "text/plain": [
       "<IPython.core.display.SVG object>"
      ]
     },
     "execution_count": 8,
     "metadata": {},
     "output_type": "execute_result"
    }
   ],
   "source": [
    "cube.schema"
   ]
  },
  {
   "cell_type": "markdown",
   "metadata": {},
   "source": [
    "Let's do a quick visualization to view the Market Value and Delta measures from the initial source file.  \n",
    "The following command serves for a quick inline atoti visualization:"
   ]
  },
  {
   "cell_type": "code",
   "execution_count": 9,
   "metadata": {
    "atoti": {
     "widget": {
      "mapping": {
       "columns": [
        "ALL_MEASURES"
       ],
       "measures": [
        "[Measures].[MarketValue.SUM]",
        "[Measures].[Delta.SUM]"
       ],
       "rows": [
        "[Sensitivities].[AsOfDate].[AsOfDate]",
        "[Sensitivities].[RiskFactor].[RiskFactor]"
       ]
      },
      "query": {
       "mdx": "SELECT NON EMPTY {[Measures].[MarketValue.SUM], [Measures].[Delta.SUM]} ON COLUMNS, NON EMPTY Crossjoin(Hierarchize(Descendants({[Sensitivities].[AsOfDate].[AllMember]}, 1, SELF_AND_BEFORE)), Hierarchize(Descendants({[Sensitivities].[RiskFactor].[AllMember]}, 1, SELF_AND_BEFORE))) ON ROWS FROM [Sensitivities]",
       "updateMode": "once"
      },
      "serverKey": "default",
      "widgetKey": "pivot-table"
     }
    }
   },
   "outputs": [
    {
     "data": {
      "application/vnd.atoti.widget.v0+json": {
       "name": "Initial risk data",
       "session": "Unnamed"
      },
      "text/plain": [
       "Open the notebook in JupyterLab with the atoti extension installed and enabled to start editing this widget."
      ]
     },
     "metadata": {},
     "output_type": "display_data"
    }
   ],
   "source": [
    "session.visualize(\"Initial risk data\")"
   ]
  },
  {
   "cell_type": "markdown",
   "metadata": {},
   "source": [
    "Let's download portfolio from the previous business day into the same folder"
   ]
  },
  {
   "cell_type": "code",
   "execution_count": 10,
   "metadata": {},
   "outputs": [
    {
     "name": "stdout",
     "output_type": "stream",
     "text": [
      "100% [................................................................................] 1254 / 1254"
     ]
    },
    {
     "data": {
      "text/plain": [
       "'./dynamic-input-files/risk_data_previous_cob (1).csv'"
      ]
     },
     "execution_count": 10,
     "metadata": {},
     "output_type": "execute_result"
    }
   ],
   "source": [
    "wget.download(\n",
    "    \"https://data.atoti.io/notebooks/real-time-risk/static-input-files/risk_data_previous_cob.csv\",\n",
    "    \"./dynamic-input-files\",\n",
    ")"
   ]
  },
  {
   "cell_type": "code",
   "execution_count": 11,
   "metadata": {
    "atoti": {
     "widget": {
      "mapping": {
       "columns": [
        "ALL_MEASURES"
       ],
       "measures": [
        "[Measures].[MarketValue.SUM]",
        "[Measures].[Delta.SUM]"
       ],
       "rows": [
        "[Sensitivities].[AsOfDate].[AsOfDate]",
        "[Sensitivities].[RiskFactor].[RiskFactor]"
       ]
      },
      "name": "Risk data after uploading 8th of July",
      "query": {
       "context": {
        "queriesResultLimit.intermediateSize": 1000000,
        "queriesResultLimit.transientSize": 10000000
       },
       "mdx": "SELECT NON EMPTY Crossjoin(Hierarchize(Descendants({[Sensitivities].[AsOfDate].[AllMember]}, 1, SELF_AND_BEFORE)), Hierarchize(Descendants({[Sensitivities].[RiskFactor].[AllMember]}, 1, SELF_AND_BEFORE))) ON ROWS, NON EMPTY {[Measures].[MarketValue.SUM], [Measures].[Delta.SUM]} ON COLUMNS FROM [Sensitivities] CELL PROPERTIES VALUE, FORMATTED_VALUE, BACK_COLOR, FORE_COLOR, FONT_FLAGS",
       "updateMode": "once"
      },
      "serverKey": "default",
      "widgetKey": "pivot-table"
     }
    }
   },
   "outputs": [
    {
     "data": {
      "application/vnd.atoti.widget.v0+json": {
       "name": "Risk data after uploading 8th of July",
       "session": "Unnamed"
      },
      "text/plain": [
       "Open the notebook in JupyterLab with the atoti extension installed and enabled to start editing this widget."
      ]
     },
     "metadata": {},
     "output_type": "display_data"
    }
   ],
   "source": [
    "session.visualize(\"Risk data after uploading 8th of July\")"
   ]
  },
  {
   "cell_type": "markdown",
   "metadata": {},
   "source": [
    "# Refining the cube\n",
    "\n",
    "The `create_cube` command triggered the creation of default measures and dimensions, which can be further customized and refined, we are creating variables to access their collections:"
   ]
  },
  {
   "cell_type": "code",
   "execution_count": 12,
   "metadata": {},
   "outputs": [],
   "source": [
    "m = cube.measures\n",
    "lvl = cube.levels\n",
    "h = cube.hierarchies"
   ]
  },
  {
   "cell_type": "markdown",
   "metadata": {},
   "source": [
    "The following cell **hides the created measures** for the mean:"
   ]
  },
  {
   "cell_type": "code",
   "execution_count": 13,
   "metadata": {},
   "outputs": [],
   "source": [
    "m[\"MarketValue.MEAN\"].visible = False\n",
    "m[\"Delta.MEAN\"].visible = False"
   ]
  },
  {
   "cell_type": "markdown",
   "metadata": {},
   "source": [
    "The next cell is making the date dimension slicing, so that there's no summation across dates:"
   ]
  },
  {
   "cell_type": "code",
   "execution_count": 14,
   "metadata": {},
   "outputs": [],
   "source": [
    "h[\"AsOfDate\"].slicing = True"
   ]
  },
  {
   "cell_type": "markdown",
   "metadata": {},
   "source": [
    "The next cell will sort dates in desc order:"
   ]
  },
  {
   "cell_type": "code",
   "execution_count": 15,
   "metadata": {},
   "outputs": [],
   "source": [
    "lvl[\"AsOfDate\"].comparator = tt.comparator.DESC"
   ]
  },
  {
   "cell_type": "markdown",
   "metadata": {},
   "source": [
    "Please refer to the atoti documentation to learn about other ways to refine your cube, in particular about creating custom aggregation functions: [New measures](https://docs.atoti.io/0.4.1/tutorial/01-Basics.html#New-measures)."
   ]
  },
  {
   "cell_type": "markdown",
   "metadata": {},
   "source": [
    "### 2. Real-time via datastore `append` function\n",
    "\n",
    "To implement real-time instrument prices, we’ll be pushing new values using the datastore `append` command. In the following cell, we're creating the `market_data_store`. As you probably noticed, we are not setting the `watch` parameter as in the previous example, as it defaults to `False`:"
   ]
  },
  {
   "cell_type": "code",
   "execution_count": 16,
   "metadata": {},
   "outputs": [],
   "source": [
    "market_data_store = session.read_csv(\n",
    "    \"s3://data.atoti.io/notebooks/real-time-risk/static-input-files/market_data.csv\",\n",
    "    keys=[\"AsOfDate\", \"Instrument\"],\n",
    "    store_name=\"Market_Data_Store\",\n",
    "    types={\n",
    "        \"AsOfDate\": tt.type.LOCAL_DATE,\n",
    "        \"Instrument\": tt.type.STRING,\n",
    "        \"Quote\": tt.type.DOUBLE,\n",
    "    },\n",
    ")"
   ]
  },
  {
   "cell_type": "markdown",
   "metadata": {},
   "source": [
    "Displaying the current state of the `market data store`:"
   ]
  },
  {
   "cell_type": "code",
   "execution_count": 17,
   "metadata": {},
   "outputs": [
    {
     "data": {
      "text/html": [
       "<div>\n",
       "<style scoped>\n",
       "    .dataframe tbody tr th:only-of-type {\n",
       "        vertical-align: middle;\n",
       "    }\n",
       "\n",
       "    .dataframe tbody tr th {\n",
       "        vertical-align: top;\n",
       "    }\n",
       "\n",
       "    .dataframe thead th {\n",
       "        text-align: right;\n",
       "    }\n",
       "</style>\n",
       "<table border=\"1\" class=\"dataframe\">\n",
       "  <thead>\n",
       "    <tr style=\"text-align: right;\">\n",
       "      <th></th>\n",
       "      <th></th>\n",
       "      <th>Quote</th>\n",
       "    </tr>\n",
       "    <tr>\n",
       "      <th>AsOfDate</th>\n",
       "      <th>Instrument</th>\n",
       "      <th></th>\n",
       "    </tr>\n",
       "  </thead>\n",
       "  <tbody>\n",
       "    <tr>\n",
       "      <th rowspan=\"3\" valign=\"top\">2020-07-08</th>\n",
       "      <th>OXY</th>\n",
       "      <td>16.23</td>\n",
       "    </tr>\n",
       "    <tr>\n",
       "      <th>MSFT</th>\n",
       "      <td>214.00</td>\n",
       "    </tr>\n",
       "    <tr>\n",
       "      <th>AAPL</th>\n",
       "      <td>380.00</td>\n",
       "    </tr>\n",
       "  </tbody>\n",
       "</table>\n",
       "</div>"
      ],
      "text/plain": [
       "                        Quote\n",
       "AsOfDate   Instrument        \n",
       "2020-07-08 OXY          16.23\n",
       "           MSFT        214.00\n",
       "           AAPL        380.00"
      ]
     },
     "execution_count": 17,
     "metadata": {},
     "output_type": "execute_result"
    }
   ],
   "source": [
    "market_data_store.head(5)"
   ]
  },
  {
   "cell_type": "markdown",
   "metadata": {},
   "source": [
    "At any time, we can use the `append` command to inject new records, for example:"
   ]
  },
  {
   "cell_type": "code",
   "execution_count": 18,
   "metadata": {},
   "outputs": [
    {
     "data": {
      "text/html": [
       "<div>\n",
       "<style scoped>\n",
       "    .dataframe tbody tr th:only-of-type {\n",
       "        vertical-align: middle;\n",
       "    }\n",
       "\n",
       "    .dataframe tbody tr th {\n",
       "        vertical-align: top;\n",
       "    }\n",
       "\n",
       "    .dataframe thead th {\n",
       "        text-align: right;\n",
       "    }\n",
       "</style>\n",
       "<table border=\"1\" class=\"dataframe\">\n",
       "  <thead>\n",
       "    <tr style=\"text-align: right;\">\n",
       "      <th></th>\n",
       "      <th></th>\n",
       "      <th>Quote</th>\n",
       "    </tr>\n",
       "    <tr>\n",
       "      <th>AsOfDate</th>\n",
       "      <th>Instrument</th>\n",
       "      <th></th>\n",
       "    </tr>\n",
       "  </thead>\n",
       "  <tbody>\n",
       "    <tr>\n",
       "      <th rowspan=\"3\" valign=\"top\">2020-07-08</th>\n",
       "      <th>OXY</th>\n",
       "      <td>16.23</td>\n",
       "    </tr>\n",
       "    <tr>\n",
       "      <th>MSFT</th>\n",
       "      <td>214.00</td>\n",
       "    </tr>\n",
       "    <tr>\n",
       "      <th>AAPL</th>\n",
       "      <td>380.00</td>\n",
       "    </tr>\n",
       "    <tr>\n",
       "      <th rowspan=\"2\" valign=\"top\">2020-07-09</th>\n",
       "      <th>AAPL</th>\n",
       "      <td>381.00</td>\n",
       "    </tr>\n",
       "    <tr>\n",
       "      <th>OXY</th>\n",
       "      <td>16.80</td>\n",
       "    </tr>\n",
       "  </tbody>\n",
       "</table>\n",
       "</div>"
      ],
      "text/plain": [
       "                        Quote\n",
       "AsOfDate   Instrument        \n",
       "2020-07-08 OXY          16.23\n",
       "           MSFT        214.00\n",
       "           AAPL        380.00\n",
       "2020-07-09 AAPL        381.00\n",
       "           OXY          16.80"
      ]
     },
     "execution_count": 18,
     "metadata": {},
     "output_type": "execute_result"
    }
   ],
   "source": [
    "market_data_store.append((\"2020-07-09\", \"AAPL\", 381.0))\n",
    "market_data_store.append((\"2020-07-09\", \"OXY\", 16.8))\n",
    "market_data_store.append((\"2020-07-09\", \"MSFT\", 215.0))\n",
    "market_data_store.head(5)"
   ]
  },
  {
   "cell_type": "markdown",
   "metadata": {},
   "source": [
    "This `join` will link the `sensitivities_store` and the `market_data_store` and allow displaying sensitivities next to quotes."
   ]
  },
  {
   "cell_type": "code",
   "execution_count": 19,
   "metadata": {},
   "outputs": [],
   "source": [
    "sensitivities_store.join(\n",
    "    market_data_store, mapping={\"AsOfDate\": \"AsOfDate\", \"RiskFactor\": \"Instrument\"}\n",
    ")"
   ]
  },
  {
   "cell_type": "markdown",
   "metadata": {},
   "source": [
    "Current state of the data model can be visualized by the following command:"
   ]
  },
  {
   "cell_type": "code",
   "execution_count": 20,
   "metadata": {},
   "outputs": [
    {
     "data": {
      "image/svg+xml": [
       "<svg xmlns=\"http://www.w3.org/2000/svg\" xmlns:xlink=\"http://www.w3.org/1999/xlink\" width=\"558px\" height=\"162px\" viewBox=\"0.00 0.00 558.00 162.00\">\n",
       "<g id=\"graph0\" class=\"graph\" transform=\"scale(1.0 1.0) rotate(0) translate(4 158)\">\n",
       "<title>Sensitivities schema</title>\n",
       "<polygon fill=\"white\" stroke=\"none\" points=\"-4,4 -4,-158 554,-158 554,4 -4,4\"/>\n",
       "<!-- Sensitivities -->\n",
       "<g id=\"node1\" class=\"node\"><title>Sensitivities</title>\n",
       "<text text-anchor=\"start\" x=\"61.5\" y=\"-134.6\" font-family=\"-apple-system, BlinkMacSystemFont, 'Segoe UI', Helvetica, Arial, sans-serif, 'Apple Color Emoji', 'Segoe UI Emoji', 'Segoe UI Symbol'\" font-weight=\"bold\" font-size=\"13.00\">Sensitivities</text>\n",
       "<polygon fill=\"#f5f5f5\" stroke=\"none\" points=\"9,-101 9,-125 40,-125 40,-101 9,-101\"/>\n",
       "<text text-anchor=\"start\" x=\"14\" y=\"-110.6\" font-family=\"-apple-system, BlinkMacSystemFont, 'Segoe UI', Helvetica, Arial, sans-serif, 'Apple Color Emoji', 'Segoe UI Emoji', 'Segoe UI Symbol'\" font-weight=\"bold\" font-size=\"13.00\">key</text>\n",
       "<polygon fill=\"#f5f5f5\" stroke=\"none\" points=\"40,-101 40,-125 118,-125 118,-101 40,-101\"/>\n",
       "<text text-anchor=\"start\" x=\"45\" y=\"-109.6\" font-family=\"-apple-system, BlinkMacSystemFont, 'Segoe UI', Helvetica, Arial, sans-serif, 'Apple Color Emoji', 'Segoe UI Emoji', 'Segoe UI Symbol'\" font-size=\"13.00\">AsOfDate</text>\n",
       "<polygon fill=\"#f5f5f5\" stroke=\"none\" points=\"118,-101 118,-125 185,-125 185,-101 118,-101\"/>\n",
       "<text text-anchor=\"start\" x=\"123\" y=\"-110.6\" font-family=\"-apple-system, BlinkMacSystemFont, 'Segoe UI', Helvetica, Arial, sans-serif, 'Apple Color Emoji', 'Segoe UI Emoji', 'Segoe UI Symbol'\" font-style=\"italic\" font-size=\"13.00\">LocalDate</text>\n",
       "<polygon fill=\"#ffffff\" stroke=\"none\" points=\"9,-77 9,-101 40,-101 40,-77 9,-77\"/>\n",
       "<text text-anchor=\"start\" x=\"14\" y=\"-86.6\" font-family=\"-apple-system, BlinkMacSystemFont, 'Segoe UI', Helvetica, Arial, sans-serif, 'Apple Color Emoji', 'Segoe UI Emoji', 'Segoe UI Symbol'\" font-weight=\"bold\" font-size=\"13.00\">key</text>\n",
       "<polygon fill=\"#ffffff\" stroke=\"none\" points=\"40,-77 40,-101 118,-101 118,-77 40,-77\"/>\n",
       "<text text-anchor=\"start\" x=\"45\" y=\"-85.6\" font-family=\"-apple-system, BlinkMacSystemFont, 'Segoe UI', Helvetica, Arial, sans-serif, 'Apple Color Emoji', 'Segoe UI Emoji', 'Segoe UI Symbol'\" font-size=\"13.00\">TradeId</text>\n",
       "<polygon fill=\"#ffffff\" stroke=\"none\" points=\"118,-77 118,-101 185,-101 185,-77 118,-77\"/>\n",
       "<text text-anchor=\"start\" x=\"147\" y=\"-86.6\" font-family=\"-apple-system, BlinkMacSystemFont, 'Segoe UI', Helvetica, Arial, sans-serif, 'Apple Color Emoji', 'Segoe UI Emoji', 'Segoe UI Symbol'\" font-style=\"italic\" font-size=\"13.00\">String</text>\n",
       "<polygon fill=\"#f5f5f5\" stroke=\"none\" points=\"9,-53 9,-77 40,-77 40,-53 9,-53\"/>\n",
       "<text text-anchor=\"start\" x=\"14\" y=\"-62.6\" font-family=\"-apple-system, BlinkMacSystemFont, 'Segoe UI', Helvetica, Arial, sans-serif, 'Apple Color Emoji', 'Segoe UI Emoji', 'Segoe UI Symbol'\" font-weight=\"bold\" font-size=\"13.00\">key</text>\n",
       "<polygon fill=\"#f5f5f5\" stroke=\"none\" points=\"40,-53 40,-77 118,-77 118,-53 40,-53\"/>\n",
       "<text text-anchor=\"start\" x=\"45\" y=\"-61.6\" font-family=\"-apple-system, BlinkMacSystemFont, 'Segoe UI', Helvetica, Arial, sans-serif, 'Apple Color Emoji', 'Segoe UI Emoji', 'Segoe UI Symbol'\" font-size=\"13.00\">RiskFactor</text>\n",
       "<polygon fill=\"#f5f5f5\" stroke=\"none\" points=\"118,-53 118,-77 185,-77 185,-53 118,-53\"/>\n",
       "<text text-anchor=\"start\" x=\"147\" y=\"-62.6\" font-family=\"-apple-system, BlinkMacSystemFont, 'Segoe UI', Helvetica, Arial, sans-serif, 'Apple Color Emoji', 'Segoe UI Emoji', 'Segoe UI Symbol'\" font-style=\"italic\" font-size=\"13.00\">String</text>\n",
       "<polygon fill=\"#ffffff\" stroke=\"none\" points=\"9,-29 9,-53 40,-53 40,-29 9,-29\"/>\n",
       "<polygon fill=\"#ffffff\" stroke=\"none\" points=\"40,-29 40,-53 118,-53 118,-29 40,-29\"/>\n",
       "<text text-anchor=\"start\" x=\"45\" y=\"-37.6\" font-family=\"-apple-system, BlinkMacSystemFont, 'Segoe UI', Helvetica, Arial, sans-serif, 'Apple Color Emoji', 'Segoe UI Emoji', 'Segoe UI Symbol'\" font-size=\"13.00\">MarketValue</text>\n",
       "<polygon fill=\"#ffffff\" stroke=\"none\" points=\"118,-29 118,-53 185,-53 185,-29 118,-29\"/>\n",
       "<text text-anchor=\"start\" x=\"143\" y=\"-38.6\" font-family=\"-apple-system, BlinkMacSystemFont, 'Segoe UI', Helvetica, Arial, sans-serif, 'Apple Color Emoji', 'Segoe UI Emoji', 'Segoe UI Symbol'\" font-style=\"italic\" font-size=\"13.00\">double</text>\n",
       "<polygon fill=\"#f5f5f5\" stroke=\"none\" points=\"9,-5 9,-29 40,-29 40,-5 9,-5\"/>\n",
       "<polygon fill=\"#f5f5f5\" stroke=\"none\" points=\"40,-5 40,-29 118,-29 118,-5 40,-5\"/>\n",
       "<text text-anchor=\"start\" x=\"45\" y=\"-13.6\" font-family=\"-apple-system, BlinkMacSystemFont, 'Segoe UI', Helvetica, Arial, sans-serif, 'Apple Color Emoji', 'Segoe UI Emoji', 'Segoe UI Symbol'\" font-size=\"13.00\">Delta</text>\n",
       "<polygon fill=\"#f5f5f5\" stroke=\"none\" points=\"118,-5 118,-29 185,-29 185,-5 118,-5\"/>\n",
       "<text text-anchor=\"start\" x=\"143\" y=\"-14.6\" font-family=\"-apple-system, BlinkMacSystemFont, 'Segoe UI', Helvetica, Arial, sans-serif, 'Apple Color Emoji', 'Segoe UI Emoji', 'Segoe UI Symbol'\" font-style=\"italic\" font-size=\"13.00\">double</text>\n",
       "<polygon fill=\"none\" stroke=\"black\" points=\"8,-4 8,-150 186,-150 186,-4 8,-4\"/>\n",
       "</g>\n",
       "<!-- Market_Data_Store -->\n",
       "<g id=\"node2\" class=\"node\"><title>Market_Data_Store</title>\n",
       "<text text-anchor=\"start\" x=\"401.5\" y=\"-110.6\" font-family=\"-apple-system, BlinkMacSystemFont, 'Segoe UI', Helvetica, Arial, sans-serif, 'Apple Color Emoji', 'Segoe UI Emoji', 'Segoe UI Symbol'\" font-weight=\"bold\" font-size=\"13.00\">Market_Data_Store</text>\n",
       "<polygon fill=\"#f5f5f5\" stroke=\"none\" points=\"375,-77 375,-101 406,-101 406,-77 375,-77\"/>\n",
       "<text text-anchor=\"start\" x=\"380\" y=\"-86.6\" font-family=\"-apple-system, BlinkMacSystemFont, 'Segoe UI', Helvetica, Arial, sans-serif, 'Apple Color Emoji', 'Segoe UI Emoji', 'Segoe UI Symbol'\" font-weight=\"bold\" font-size=\"13.00\">key</text>\n",
       "<polygon fill=\"#f5f5f5\" stroke=\"none\" points=\"406,-77 406,-101 474,-101 474,-77 406,-77\"/>\n",
       "<text text-anchor=\"start\" x=\"411\" y=\"-85.6\" font-family=\"-apple-system, BlinkMacSystemFont, 'Segoe UI', Helvetica, Arial, sans-serif, 'Apple Color Emoji', 'Segoe UI Emoji', 'Segoe UI Symbol'\" font-size=\"13.00\">AsOfDate</text>\n",
       "<polygon fill=\"#f5f5f5\" stroke=\"none\" points=\"474,-77 474,-101 541,-101 541,-77 474,-77\"/>\n",
       "<text text-anchor=\"start\" x=\"479\" y=\"-86.6\" font-family=\"-apple-system, BlinkMacSystemFont, 'Segoe UI', Helvetica, Arial, sans-serif, 'Apple Color Emoji', 'Segoe UI Emoji', 'Segoe UI Symbol'\" font-style=\"italic\" font-size=\"13.00\">LocalDate</text>\n",
       "<polygon fill=\"#ffffff\" stroke=\"none\" points=\"375,-53 375,-77 406,-77 406,-53 375,-53\"/>\n",
       "<text text-anchor=\"start\" x=\"380\" y=\"-62.6\" font-family=\"-apple-system, BlinkMacSystemFont, 'Segoe UI', Helvetica, Arial, sans-serif, 'Apple Color Emoji', 'Segoe UI Emoji', 'Segoe UI Symbol'\" font-weight=\"bold\" font-size=\"13.00\">key</text>\n",
       "<polygon fill=\"#ffffff\" stroke=\"none\" points=\"406,-53 406,-77 474,-77 474,-53 406,-53\"/>\n",
       "<text text-anchor=\"start\" x=\"411\" y=\"-61.6\" font-family=\"-apple-system, BlinkMacSystemFont, 'Segoe UI', Helvetica, Arial, sans-serif, 'Apple Color Emoji', 'Segoe UI Emoji', 'Segoe UI Symbol'\" font-size=\"13.00\">Instrument</text>\n",
       "<polygon fill=\"#ffffff\" stroke=\"none\" points=\"474,-53 474,-77 541,-77 541,-53 474,-53\"/>\n",
       "<text text-anchor=\"start\" x=\"503\" y=\"-62.6\" font-family=\"-apple-system, BlinkMacSystemFont, 'Segoe UI', Helvetica, Arial, sans-serif, 'Apple Color Emoji', 'Segoe UI Emoji', 'Segoe UI Symbol'\" font-style=\"italic\" font-size=\"13.00\">String</text>\n",
       "<polygon fill=\"#f5f5f5\" stroke=\"none\" points=\"375,-29 375,-53 406,-53 406,-29 375,-29\"/>\n",
       "<polygon fill=\"#f5f5f5\" stroke=\"none\" points=\"406,-29 406,-53 474,-53 474,-29 406,-29\"/>\n",
       "<text text-anchor=\"start\" x=\"411\" y=\"-37.6\" font-family=\"-apple-system, BlinkMacSystemFont, 'Segoe UI', Helvetica, Arial, sans-serif, 'Apple Color Emoji', 'Segoe UI Emoji', 'Segoe UI Symbol'\" font-size=\"13.00\">Quote</text>\n",
       "<polygon fill=\"#f5f5f5\" stroke=\"none\" points=\"474,-29 474,-53 541,-53 541,-29 474,-29\"/>\n",
       "<text text-anchor=\"start\" x=\"499\" y=\"-38.6\" font-family=\"-apple-system, BlinkMacSystemFont, 'Segoe UI', Helvetica, Arial, sans-serif, 'Apple Color Emoji', 'Segoe UI Emoji', 'Segoe UI Symbol'\" font-style=\"italic\" font-size=\"13.00\">double</text>\n",
       "<polygon fill=\"none\" stroke=\"black\" points=\"374,-28 374,-126 542,-126 542,-28 374,-28\"/>\n",
       "</g>\n",
       "<!-- Sensitivities&#45;&gt;Market_Data_Store -->\n",
       "<g id=\"edge1\" class=\"edge\"><title>Sensitivities-&gt;Market_Data_Store</title>\n",
       "<path fill=\"none\" stroke=\"black\" d=\"M194.205,-77C244.046,-77 304.894,-77 355.484,-77\"/>\n",
       "<polygon fill=\"black\" stroke=\"black\" points=\"355.787,-80.5001 365.787,-77 355.787,-73.5001 355.787,-80.5001\"/>\n",
       "<text text-anchor=\"middle\" x=\"280\" y=\"-94.6\" font-family=\"-apple-system, BlinkMacSystemFont, 'Segoe UI', Helvetica, Arial, sans-serif, 'Apple Color Emoji', 'Segoe UI Emoji', 'Segoe UI Symbol'\" font-size=\"13.00\">AsOfDate → AsOfDate</text>\n",
       "<text text-anchor=\"middle\" x=\"280\" y=\"-80.6\" font-family=\"-apple-system, BlinkMacSystemFont, 'Segoe UI', Helvetica, Arial, sans-serif, 'Apple Color Emoji', 'Segoe UI Emoji', 'Segoe UI Symbol'\" font-size=\"13.00\">RiskFactor → Instrument</text>\n",
       "</g>\n",
       "</g>\n",
       "</svg>"
      ],
      "text/plain": [
       "<IPython.core.display.SVG object>"
      ]
     },
     "execution_count": 20,
     "metadata": {},
     "output_type": "execute_result"
    }
   ],
   "source": [
    "cube.schema"
   ]
  },
  {
   "cell_type": "code",
   "execution_count": 21,
   "metadata": {},
   "outputs": [],
   "source": [
    "m[\"Quote.VALUE\"] = tt.value(market_data_store[\"Quote\"])"
   ]
  },
  {
   "cell_type": "code",
   "execution_count": 22,
   "metadata": {
    "atoti": {
     "height": 304,
     "widget": {
      "mapping": {
       "columns": [
        "ALL_MEASURES"
       ],
       "measures": [
        "[Measures].[Delta.SUM]",
        "[Measures].[MarketValue.SUM]",
        "[Measures].[Quote.VALUE]"
       ],
       "rows": [
        "[Sensitivities].[AsOfDate].[AsOfDate] => [Sensitivities].[RiskFactor].[RiskFactor]"
       ]
      },
      "query": {
       "mdx": "SELECT NON EMPTY Hierarchize(Union(Crossjoin([Sensitivities].[AsOfDate].[AsOfDate].Members, [Sensitivities].[RiskFactor].DefaultMember), Crossjoin([Sensitivities].[AsOfDate].[2020-07-09], Hierarchize(Descendants({[Sensitivities].[RiskFactor].[AllMember]}, 1, SELF_AND_BEFORE))), Crossjoin([Sensitivities].[AsOfDate].[2020-07-08], Hierarchize(Descendants({[Sensitivities].[RiskFactor].[AllMember]}, 1, SELF_AND_BEFORE))))) ON ROWS, NON EMPTY {[Measures].[Delta.SUM], [Measures].[MarketValue.SUM], [Measures].[Quote.VALUE]} ON COLUMNS FROM [Sensitivities]",
       "updateMode": "once"
      },
      "serverKey": "default",
      "widgetKey": "pivot-table"
     }
    }
   },
   "outputs": [
    {
     "data": {
      "application/vnd.atoti.widget.v0+json": {
       "name": "Quotes next to Deltas and MarketValues",
       "session": "Unnamed"
      },
      "text/plain": [
       "Open the notebook in JupyterLab with the atoti extension installed and enabled to start editing this widget."
      ]
     },
     "metadata": {},
     "output_type": "display_data"
    }
   ],
   "source": [
    "session.visualize(\"Quotes next to Deltas and MarketValues\")"
   ]
  },
  {
   "cell_type": "markdown",
   "metadata": {},
   "source": [
    "# Enriching risk data - trade attributes and multi-level book structure"
   ]
  },
  {
   "cell_type": "markdown",
   "metadata": {},
   "source": [
    "To facilitate the analysis, we can enrich the metrics with additional attributes such as risk factors, regions, sectors, trade typologies, etc. \n",
    "\n",
    "In this example, we are adding trade attribute data and linking trades to a multi-level booking hierarchy. "
   ]
  },
  {
   "cell_type": "code",
   "execution_count": 23,
   "metadata": {},
   "outputs": [],
   "source": [
    "trade_attributes = session.read_csv(\n",
    "    \"s3://data.atoti.io/notebooks/real-time-risk/static-input-files/trade_attributes.csv\",\n",
    "    types={\"TradeId\": tt.type.STRING, \"Strike\": tt.type.STRING},\n",
    "    keys=[\"TradeId\"],\n",
    "    store_name=\"Trade_Attributes\",\n",
    ")\n",
    "\n",
    "sensitivities_store.join(trade_attributes)"
   ]
  },
  {
   "cell_type": "code",
   "execution_count": 24,
   "metadata": {},
   "outputs": [],
   "source": [
    "book_hierarchy = session.read_pandas(\n",
    "    pd.DataFrame(\n",
    "        data={\n",
    "            \"Book\": [\n",
    "                \"EQ_VOL_HED\",\n",
    "                \"EQ_STRUCT\",\n",
    "                \"EQ_LARG_DM\",\n",
    "                \"EQ_WAREHOU\",\n",
    "                \"EQ_SMAL_EM\",\n",
    "            ],\n",
    "            \"Desk\": [\n",
    "                \"Structuring\",\n",
    "                \"Structuring\",\n",
    "                \"Equity Trading\",\n",
    "                \"Equity Trading\",\n",
    "                \"Equity Trading\",\n",
    "            ],\n",
    "            \"Business Unit\": [\n",
    "                \"Equities\",\n",
    "                \"Equities\",\n",
    "                \"Equities\",\n",
    "                \"Equities\",\n",
    "                \"Equities\",\n",
    "            ],\n",
    "        }\n",
    "    ),\n",
    "    keys=[\"Book\"],\n",
    "    store_name=\"Book_Hierarchy\",\n",
    ")\n",
    "\n",
    "trade_attributes.join(book_hierarchy)"
   ]
  },
  {
   "cell_type": "markdown",
   "metadata": {},
   "source": [
    "Current state of the data model:"
   ]
  },
  {
   "cell_type": "code",
   "execution_count": 25,
   "metadata": {},
   "outputs": [
    {
     "data": {
      "image/svg+xml": [
       "<svg xmlns=\"http://www.w3.org/2000/svg\" xmlns:xlink=\"http://www.w3.org/1999/xlink\" width=\"852px\" height=\"358px\" viewBox=\"0.00 0.00 852.00 358.00\">\n",
       "<g id=\"graph0\" class=\"graph\" transform=\"scale(1.0 1.0) rotate(0) translate(4 354)\">\n",
       "<title>Sensitivities schema</title>\n",
       "<polygon fill=\"white\" stroke=\"none\" points=\"-4,4 -4,-354 848,-354 848,4 -4,4\"/>\n",
       "<!-- Sensitivities -->\n",
       "<g id=\"node1\" class=\"node\"><title>Sensitivities</title>\n",
       "<text text-anchor=\"start\" x=\"61.5\" y=\"-299.6\" font-family=\"-apple-system, BlinkMacSystemFont, 'Segoe UI', Helvetica, Arial, sans-serif, 'Apple Color Emoji', 'Segoe UI Emoji', 'Segoe UI Symbol'\" font-weight=\"bold\" font-size=\"13.00\">Sensitivities</text>\n",
       "<polygon fill=\"#f5f5f5\" stroke=\"none\" points=\"9,-266 9,-290 40,-290 40,-266 9,-266\"/>\n",
       "<text text-anchor=\"start\" x=\"14\" y=\"-275.6\" font-family=\"-apple-system, BlinkMacSystemFont, 'Segoe UI', Helvetica, Arial, sans-serif, 'Apple Color Emoji', 'Segoe UI Emoji', 'Segoe UI Symbol'\" font-weight=\"bold\" font-size=\"13.00\">key</text>\n",
       "<polygon fill=\"#f5f5f5\" stroke=\"none\" points=\"40,-266 40,-290 118,-290 118,-266 40,-266\"/>\n",
       "<text text-anchor=\"start\" x=\"45\" y=\"-274.6\" font-family=\"-apple-system, BlinkMacSystemFont, 'Segoe UI', Helvetica, Arial, sans-serif, 'Apple Color Emoji', 'Segoe UI Emoji', 'Segoe UI Symbol'\" font-size=\"13.00\">AsOfDate</text>\n",
       "<polygon fill=\"#f5f5f5\" stroke=\"none\" points=\"118,-266 118,-290 185,-290 185,-266 118,-266\"/>\n",
       "<text text-anchor=\"start\" x=\"123\" y=\"-275.6\" font-family=\"-apple-system, BlinkMacSystemFont, 'Segoe UI', Helvetica, Arial, sans-serif, 'Apple Color Emoji', 'Segoe UI Emoji', 'Segoe UI Symbol'\" font-style=\"italic\" font-size=\"13.00\">LocalDate</text>\n",
       "<polygon fill=\"#ffffff\" stroke=\"none\" points=\"9,-242 9,-266 40,-266 40,-242 9,-242\"/>\n",
       "<text text-anchor=\"start\" x=\"14\" y=\"-251.6\" font-family=\"-apple-system, BlinkMacSystemFont, 'Segoe UI', Helvetica, Arial, sans-serif, 'Apple Color Emoji', 'Segoe UI Emoji', 'Segoe UI Symbol'\" font-weight=\"bold\" font-size=\"13.00\">key</text>\n",
       "<polygon fill=\"#ffffff\" stroke=\"none\" points=\"40,-242 40,-266 118,-266 118,-242 40,-242\"/>\n",
       "<text text-anchor=\"start\" x=\"45\" y=\"-250.6\" font-family=\"-apple-system, BlinkMacSystemFont, 'Segoe UI', Helvetica, Arial, sans-serif, 'Apple Color Emoji', 'Segoe UI Emoji', 'Segoe UI Symbol'\" font-size=\"13.00\">TradeId</text>\n",
       "<polygon fill=\"#ffffff\" stroke=\"none\" points=\"118,-242 118,-266 185,-266 185,-242 118,-242\"/>\n",
       "<text text-anchor=\"start\" x=\"147\" y=\"-251.6\" font-family=\"-apple-system, BlinkMacSystemFont, 'Segoe UI', Helvetica, Arial, sans-serif, 'Apple Color Emoji', 'Segoe UI Emoji', 'Segoe UI Symbol'\" font-style=\"italic\" font-size=\"13.00\">String</text>\n",
       "<polygon fill=\"#f5f5f5\" stroke=\"none\" points=\"9,-218 9,-242 40,-242 40,-218 9,-218\"/>\n",
       "<text text-anchor=\"start\" x=\"14\" y=\"-227.6\" font-family=\"-apple-system, BlinkMacSystemFont, 'Segoe UI', Helvetica, Arial, sans-serif, 'Apple Color Emoji', 'Segoe UI Emoji', 'Segoe UI Symbol'\" font-weight=\"bold\" font-size=\"13.00\">key</text>\n",
       "<polygon fill=\"#f5f5f5\" stroke=\"none\" points=\"40,-218 40,-242 118,-242 118,-218 40,-218\"/>\n",
       "<text text-anchor=\"start\" x=\"45\" y=\"-226.6\" font-family=\"-apple-system, BlinkMacSystemFont, 'Segoe UI', Helvetica, Arial, sans-serif, 'Apple Color Emoji', 'Segoe UI Emoji', 'Segoe UI Symbol'\" font-size=\"13.00\">RiskFactor</text>\n",
       "<polygon fill=\"#f5f5f5\" stroke=\"none\" points=\"118,-218 118,-242 185,-242 185,-218 118,-218\"/>\n",
       "<text text-anchor=\"start\" x=\"147\" y=\"-227.6\" font-family=\"-apple-system, BlinkMacSystemFont, 'Segoe UI', Helvetica, Arial, sans-serif, 'Apple Color Emoji', 'Segoe UI Emoji', 'Segoe UI Symbol'\" font-style=\"italic\" font-size=\"13.00\">String</text>\n",
       "<polygon fill=\"#ffffff\" stroke=\"none\" points=\"9,-194 9,-218 40,-218 40,-194 9,-194\"/>\n",
       "<polygon fill=\"#ffffff\" stroke=\"none\" points=\"40,-194 40,-218 118,-218 118,-194 40,-194\"/>\n",
       "<text text-anchor=\"start\" x=\"45\" y=\"-202.6\" font-family=\"-apple-system, BlinkMacSystemFont, 'Segoe UI', Helvetica, Arial, sans-serif, 'Apple Color Emoji', 'Segoe UI Emoji', 'Segoe UI Symbol'\" font-size=\"13.00\">MarketValue</text>\n",
       "<polygon fill=\"#ffffff\" stroke=\"none\" points=\"118,-194 118,-218 185,-218 185,-194 118,-194\"/>\n",
       "<text text-anchor=\"start\" x=\"143\" y=\"-203.6\" font-family=\"-apple-system, BlinkMacSystemFont, 'Segoe UI', Helvetica, Arial, sans-serif, 'Apple Color Emoji', 'Segoe UI Emoji', 'Segoe UI Symbol'\" font-style=\"italic\" font-size=\"13.00\">double</text>\n",
       "<polygon fill=\"#f5f5f5\" stroke=\"none\" points=\"9,-170 9,-194 40,-194 40,-170 9,-170\"/>\n",
       "<polygon fill=\"#f5f5f5\" stroke=\"none\" points=\"40,-170 40,-194 118,-194 118,-170 40,-170\"/>\n",
       "<text text-anchor=\"start\" x=\"45\" y=\"-178.6\" font-family=\"-apple-system, BlinkMacSystemFont, 'Segoe UI', Helvetica, Arial, sans-serif, 'Apple Color Emoji', 'Segoe UI Emoji', 'Segoe UI Symbol'\" font-size=\"13.00\">Delta</text>\n",
       "<polygon fill=\"#f5f5f5\" stroke=\"none\" points=\"118,-170 118,-194 185,-194 185,-170 118,-170\"/>\n",
       "<text text-anchor=\"start\" x=\"143\" y=\"-179.6\" font-family=\"-apple-system, BlinkMacSystemFont, 'Segoe UI', Helvetica, Arial, sans-serif, 'Apple Color Emoji', 'Segoe UI Emoji', 'Segoe UI Symbol'\" font-style=\"italic\" font-size=\"13.00\">double</text>\n",
       "<polygon fill=\"none\" stroke=\"black\" points=\"8,-169 8,-315 186,-315 186,-169 8,-169\"/>\n",
       "</g>\n",
       "<!-- Market_Data_Store -->\n",
       "<g id=\"node2\" class=\"node\"><title>Market_Data_Store</title>\n",
       "<text text-anchor=\"start\" x=\"404\" y=\"-330.6\" font-family=\"-apple-system, BlinkMacSystemFont, 'Segoe UI', Helvetica, Arial, sans-serif, 'Apple Color Emoji', 'Segoe UI Emoji', 'Segoe UI Symbol'\" font-weight=\"bold\" font-size=\"13.00\">Market_Data_Store</text>\n",
       "<polygon fill=\"#f5f5f5\" stroke=\"none\" points=\"377.5,-297 377.5,-321 408.5,-321 408.5,-297 377.5,-297\"/>\n",
       "<text text-anchor=\"start\" x=\"382.5\" y=\"-306.6\" font-family=\"-apple-system, BlinkMacSystemFont, 'Segoe UI', Helvetica, Arial, sans-serif, 'Apple Color Emoji', 'Segoe UI Emoji', 'Segoe UI Symbol'\" font-weight=\"bold\" font-size=\"13.00\">key</text>\n",
       "<polygon fill=\"#f5f5f5\" stroke=\"none\" points=\"408.5,-297 408.5,-321 476.5,-321 476.5,-297 408.5,-297\"/>\n",
       "<text text-anchor=\"start\" x=\"413.5\" y=\"-305.6\" font-family=\"-apple-system, BlinkMacSystemFont, 'Segoe UI', Helvetica, Arial, sans-serif, 'Apple Color Emoji', 'Segoe UI Emoji', 'Segoe UI Symbol'\" font-size=\"13.00\">AsOfDate</text>\n",
       "<polygon fill=\"#f5f5f5\" stroke=\"none\" points=\"476.5,-297 476.5,-321 543.5,-321 543.5,-297 476.5,-297\"/>\n",
       "<text text-anchor=\"start\" x=\"481.5\" y=\"-306.6\" font-family=\"-apple-system, BlinkMacSystemFont, 'Segoe UI', Helvetica, Arial, sans-serif, 'Apple Color Emoji', 'Segoe UI Emoji', 'Segoe UI Symbol'\" font-style=\"italic\" font-size=\"13.00\">LocalDate</text>\n",
       "<polygon fill=\"#ffffff\" stroke=\"none\" points=\"377.5,-273 377.5,-297 408.5,-297 408.5,-273 377.5,-273\"/>\n",
       "<text text-anchor=\"start\" x=\"382.5\" y=\"-282.6\" font-family=\"-apple-system, BlinkMacSystemFont, 'Segoe UI', Helvetica, Arial, sans-serif, 'Apple Color Emoji', 'Segoe UI Emoji', 'Segoe UI Symbol'\" font-weight=\"bold\" font-size=\"13.00\">key</text>\n",
       "<polygon fill=\"#ffffff\" stroke=\"none\" points=\"408.5,-273 408.5,-297 476.5,-297 476.5,-273 408.5,-273\"/>\n",
       "<text text-anchor=\"start\" x=\"413.5\" y=\"-281.6\" font-family=\"-apple-system, BlinkMacSystemFont, 'Segoe UI', Helvetica, Arial, sans-serif, 'Apple Color Emoji', 'Segoe UI Emoji', 'Segoe UI Symbol'\" font-size=\"13.00\">Instrument</text>\n",
       "<polygon fill=\"#ffffff\" stroke=\"none\" points=\"476.5,-273 476.5,-297 543.5,-297 543.5,-273 476.5,-273\"/>\n",
       "<text text-anchor=\"start\" x=\"505.5\" y=\"-282.6\" font-family=\"-apple-system, BlinkMacSystemFont, 'Segoe UI', Helvetica, Arial, sans-serif, 'Apple Color Emoji', 'Segoe UI Emoji', 'Segoe UI Symbol'\" font-style=\"italic\" font-size=\"13.00\">String</text>\n",
       "<polygon fill=\"#f5f5f5\" stroke=\"none\" points=\"377.5,-249 377.5,-273 408.5,-273 408.5,-249 377.5,-249\"/>\n",
       "<polygon fill=\"#f5f5f5\" stroke=\"none\" points=\"408.5,-249 408.5,-273 476.5,-273 476.5,-249 408.5,-249\"/>\n",
       "<text text-anchor=\"start\" x=\"413.5\" y=\"-257.6\" font-family=\"-apple-system, BlinkMacSystemFont, 'Segoe UI', Helvetica, Arial, sans-serif, 'Apple Color Emoji', 'Segoe UI Emoji', 'Segoe UI Symbol'\" font-size=\"13.00\">Quote</text>\n",
       "<polygon fill=\"#f5f5f5\" stroke=\"none\" points=\"476.5,-249 476.5,-273 543.5,-273 543.5,-249 476.5,-249\"/>\n",
       "<text text-anchor=\"start\" x=\"501.5\" y=\"-258.6\" font-family=\"-apple-system, BlinkMacSystemFont, 'Segoe UI', Helvetica, Arial, sans-serif, 'Apple Color Emoji', 'Segoe UI Emoji', 'Segoe UI Symbol'\" font-style=\"italic\" font-size=\"13.00\">double</text>\n",
       "<polygon fill=\"none\" stroke=\"black\" points=\"376.5,-248 376.5,-346 544.5,-346 544.5,-248 376.5,-248\"/>\n",
       "</g>\n",
       "<!-- Sensitivities&#45;&gt;Market_Data_Store -->\n",
       "<g id=\"edge2\" class=\"edge\"><title>Sensitivities-&gt;Market_Data_Store</title>\n",
       "<path fill=\"none\" stroke=\"black\" d=\"M194.4,-256.667C244.991,-264.364 306.945,-273.79 358.236,-281.593\"/>\n",
       "<polygon fill=\"black\" stroke=\"black\" points=\"357.933,-285.087 368.346,-283.131 358.986,-278.167 357.933,-285.087\"/>\n",
       "<text text-anchor=\"middle\" x=\"280\" y=\"-296.6\" font-family=\"-apple-system, BlinkMacSystemFont, 'Segoe UI', Helvetica, Arial, sans-serif, 'Apple Color Emoji', 'Segoe UI Emoji', 'Segoe UI Symbol'\" font-size=\"13.00\">AsOfDate → AsOfDate</text>\n",
       "<text text-anchor=\"middle\" x=\"280\" y=\"-282.6\" font-family=\"-apple-system, BlinkMacSystemFont, 'Segoe UI', Helvetica, Arial, sans-serif, 'Apple Color Emoji', 'Segoe UI Emoji', 'Segoe UI Symbol'\" font-size=\"13.00\">RiskFactor → Instrument</text>\n",
       "</g>\n",
       "<!-- Trade_Attributes -->\n",
       "<g id=\"node3\" class=\"node\"><title>Trade_Attributes</title>\n",
       "<text text-anchor=\"start\" x=\"411\" y=\"-206.6\" font-family=\"-apple-system, BlinkMacSystemFont, 'Segoe UI', Helvetica, Arial, sans-serif, 'Apple Color Emoji', 'Segoe UI Emoji', 'Segoe UI Symbol'\" font-weight=\"bold\" font-size=\"13.00\">Trade_Attributes</text>\n",
       "<polygon fill=\"#f5f5f5\" stroke=\"none\" points=\"375.5,-173 375.5,-197 406.5,-197 406.5,-173 375.5,-173\"/>\n",
       "<text text-anchor=\"start\" x=\"380.5\" y=\"-182.6\" font-family=\"-apple-system, BlinkMacSystemFont, 'Segoe UI', Helvetica, Arial, sans-serif, 'Apple Color Emoji', 'Segoe UI Emoji', 'Segoe UI Symbol'\" font-weight=\"bold\" font-size=\"13.00\">key</text>\n",
       "<polygon fill=\"#f5f5f5\" stroke=\"none\" points=\"406.5,-173 406.5,-197 479.5,-197 479.5,-173 406.5,-173\"/>\n",
       "<text text-anchor=\"start\" x=\"411.5\" y=\"-181.6\" font-family=\"-apple-system, BlinkMacSystemFont, 'Segoe UI', Helvetica, Arial, sans-serif, 'Apple Color Emoji', 'Segoe UI Emoji', 'Segoe UI Symbol'\" font-size=\"13.00\">TradeId</text>\n",
       "<polygon fill=\"#f5f5f5\" stroke=\"none\" points=\"479.5,-173 479.5,-197 546.5,-197 546.5,-173 479.5,-173\"/>\n",
       "<text text-anchor=\"start\" x=\"508.5\" y=\"-182.6\" font-family=\"-apple-system, BlinkMacSystemFont, 'Segoe UI', Helvetica, Arial, sans-serif, 'Apple Color Emoji', 'Segoe UI Emoji', 'Segoe UI Symbol'\" font-style=\"italic\" font-size=\"13.00\">String</text>\n",
       "<polygon fill=\"#ffffff\" stroke=\"none\" points=\"375.5,-149 375.5,-173 406.5,-173 406.5,-149 375.5,-149\"/>\n",
       "<polygon fill=\"#ffffff\" stroke=\"none\" points=\"406.5,-149 406.5,-173 479.5,-173 479.5,-149 406.5,-149\"/>\n",
       "<text text-anchor=\"start\" x=\"411.5\" y=\"-157.6\" font-family=\"-apple-system, BlinkMacSystemFont, 'Segoe UI', Helvetica, Arial, sans-serif, 'Apple Color Emoji', 'Segoe UI Emoji', 'Segoe UI Symbol'\" font-size=\"13.00\">Ticker</text>\n",
       "<polygon fill=\"#ffffff\" stroke=\"none\" points=\"479.5,-149 479.5,-173 546.5,-173 546.5,-149 479.5,-149\"/>\n",
       "<text text-anchor=\"start\" x=\"508.5\" y=\"-158.6\" font-family=\"-apple-system, BlinkMacSystemFont, 'Segoe UI', Helvetica, Arial, sans-serif, 'Apple Color Emoji', 'Segoe UI Emoji', 'Segoe UI Symbol'\" font-style=\"italic\" font-size=\"13.00\">String</text>\n",
       "<polygon fill=\"#f5f5f5\" stroke=\"none\" points=\"375.5,-125 375.5,-149 406.5,-149 406.5,-125 375.5,-125\"/>\n",
       "<polygon fill=\"#f5f5f5\" stroke=\"none\" points=\"406.5,-125 406.5,-149 479.5,-149 479.5,-125 406.5,-125\"/>\n",
       "<text text-anchor=\"start\" x=\"411.5\" y=\"-133.6\" font-family=\"-apple-system, BlinkMacSystemFont, 'Segoe UI', Helvetica, Arial, sans-serif, 'Apple Color Emoji', 'Segoe UI Emoji', 'Segoe UI Symbol'\" font-size=\"13.00\">Book</text>\n",
       "<polygon fill=\"#f5f5f5\" stroke=\"none\" points=\"479.5,-125 479.5,-149 546.5,-149 546.5,-125 479.5,-125\"/>\n",
       "<text text-anchor=\"start\" x=\"508.5\" y=\"-134.6\" font-family=\"-apple-system, BlinkMacSystemFont, 'Segoe UI', Helvetica, Arial, sans-serif, 'Apple Color Emoji', 'Segoe UI Emoji', 'Segoe UI Symbol'\" font-style=\"italic\" font-size=\"13.00\">String</text>\n",
       "<polygon fill=\"#ffffff\" stroke=\"none\" points=\"375.5,-101 375.5,-125 406.5,-125 406.5,-101 375.5,-101\"/>\n",
       "<polygon fill=\"#ffffff\" stroke=\"none\" points=\"406.5,-101 406.5,-125 479.5,-125 479.5,-101 406.5,-101\"/>\n",
       "<text text-anchor=\"start\" x=\"411.5\" y=\"-109.6\" font-family=\"-apple-system, BlinkMacSystemFont, 'Segoe UI', Helvetica, Arial, sans-serif, 'Apple Color Emoji', 'Segoe UI Emoji', 'Segoe UI Symbol'\" font-size=\"13.00\">Product</text>\n",
       "<polygon fill=\"#ffffff\" stroke=\"none\" points=\"479.5,-101 479.5,-125 546.5,-125 546.5,-101 479.5,-101\"/>\n",
       "<text text-anchor=\"start\" x=\"508.5\" y=\"-110.6\" font-family=\"-apple-system, BlinkMacSystemFont, 'Segoe UI', Helvetica, Arial, sans-serif, 'Apple Color Emoji', 'Segoe UI Emoji', 'Segoe UI Symbol'\" font-style=\"italic\" font-size=\"13.00\">String</text>\n",
       "<polygon fill=\"#f5f5f5\" stroke=\"none\" points=\"375.5,-77 375.5,-101 406.5,-101 406.5,-77 375.5,-77\"/>\n",
       "<polygon fill=\"#f5f5f5\" stroke=\"none\" points=\"406.5,-77 406.5,-101 479.5,-101 479.5,-77 406.5,-77\"/>\n",
       "<text text-anchor=\"start\" x=\"411.5\" y=\"-85.6\" font-family=\"-apple-system, BlinkMacSystemFont, 'Segoe UI', Helvetica, Arial, sans-serif, 'Apple Color Emoji', 'Segoe UI Emoji', 'Segoe UI Symbol'\" font-size=\"13.00\">Quantity</text>\n",
       "<polygon fill=\"#f5f5f5\" stroke=\"none\" points=\"479.5,-77 479.5,-101 546.5,-101 546.5,-77 479.5,-77\"/>\n",
       "<text text-anchor=\"start\" x=\"527.5\" y=\"-86.6\" font-family=\"-apple-system, BlinkMacSystemFont, 'Segoe UI', Helvetica, Arial, sans-serif, 'Apple Color Emoji', 'Segoe UI Emoji', 'Segoe UI Symbol'\" font-style=\"italic\" font-size=\"13.00\">int</text>\n",
       "<polygon fill=\"#ffffff\" stroke=\"none\" points=\"375.5,-53 375.5,-77 406.5,-77 406.5,-53 375.5,-53\"/>\n",
       "<polygon fill=\"#ffffff\" stroke=\"none\" points=\"406.5,-53 406.5,-77 479.5,-77 479.5,-53 406.5,-53\"/>\n",
       "<text text-anchor=\"start\" x=\"411.5\" y=\"-61.6\" font-family=\"-apple-system, BlinkMacSystemFont, 'Segoe UI', Helvetica, Arial, sans-serif, 'Apple Color Emoji', 'Segoe UI Emoji', 'Segoe UI Symbol'\" font-size=\"13.00\">Strike</text>\n",
       "<polygon fill=\"#ffffff\" stroke=\"none\" points=\"479.5,-53 479.5,-77 546.5,-77 546.5,-53 479.5,-53\"/>\n",
       "<text text-anchor=\"start\" x=\"508.5\" y=\"-62.6\" font-family=\"-apple-system, BlinkMacSystemFont, 'Segoe UI', Helvetica, Arial, sans-serif, 'Apple Color Emoji', 'Segoe UI Emoji', 'Segoe UI Symbol'\" font-style=\"italic\" font-size=\"13.00\">String</text>\n",
       "<polygon fill=\"#f5f5f5\" stroke=\"none\" points=\"375.5,-29 375.5,-53 406.5,-53 406.5,-29 375.5,-29\"/>\n",
       "<polygon fill=\"#f5f5f5\" stroke=\"none\" points=\"406.5,-29 406.5,-53 479.5,-53 479.5,-29 406.5,-29\"/>\n",
       "<text text-anchor=\"start\" x=\"411.5\" y=\"-37.6\" font-family=\"-apple-system, BlinkMacSystemFont, 'Segoe UI', Helvetica, Arial, sans-serif, 'Apple Color Emoji', 'Segoe UI Emoji', 'Segoe UI Symbol'\" font-size=\"13.00\">Maturity</text>\n",
       "<polygon fill=\"#f5f5f5\" stroke=\"none\" points=\"479.5,-29 479.5,-53 546.5,-53 546.5,-29 479.5,-29\"/>\n",
       "<text text-anchor=\"start\" x=\"484.5\" y=\"-38.6\" font-family=\"-apple-system, BlinkMacSystemFont, 'Segoe UI', Helvetica, Arial, sans-serif, 'Apple Color Emoji', 'Segoe UI Emoji', 'Segoe UI Symbol'\" font-style=\"italic\" font-size=\"13.00\">LocalDate</text>\n",
       "<polygon fill=\"#ffffff\" stroke=\"none\" points=\"375.5,-5 375.5,-29 406.5,-29 406.5,-5 375.5,-5\"/>\n",
       "<polygon fill=\"#ffffff\" stroke=\"none\" points=\"406.5,-5 406.5,-29 479.5,-29 479.5,-5 406.5,-5\"/>\n",
       "<text text-anchor=\"start\" x=\"411.5\" y=\"-13.6\" font-family=\"-apple-system, BlinkMacSystemFont, 'Segoe UI', Helvetica, Arial, sans-serif, 'Apple Color Emoji', 'Segoe UI Emoji', 'Segoe UI Symbol'\" font-size=\"13.00\">OptionType</text>\n",
       "<polygon fill=\"#ffffff\" stroke=\"none\" points=\"479.5,-5 479.5,-29 546.5,-29 546.5,-5 479.5,-5\"/>\n",
       "<text text-anchor=\"start\" x=\"508.5\" y=\"-14.6\" font-family=\"-apple-system, BlinkMacSystemFont, 'Segoe UI', Helvetica, Arial, sans-serif, 'Apple Color Emoji', 'Segoe UI Emoji', 'Segoe UI Symbol'\" font-style=\"italic\" font-size=\"13.00\">String</text>\n",
       "<polygon fill=\"none\" stroke=\"black\" points=\"374,-4 374,-222 547,-222 547,-4 374,-4\"/>\n",
       "</g>\n",
       "<!-- Sensitivities&#45;&gt;Trade_Attributes -->\n",
       "<g id=\"edge1\" class=\"edge\"><title>Sensitivities-&gt;Trade_Attributes</title>\n",
       "<path fill=\"none\" stroke=\"black\" d=\"M194.4,-207.6C244.31,-189.79 305.28,-168.033 356.16,-149.876\"/>\n",
       "<polygon fill=\"black\" stroke=\"black\" points=\"357.625,-153.07 365.867,-146.413 355.272,-146.477 357.625,-153.07\"/>\n",
       "<text text-anchor=\"middle\" x=\"280\" y=\"-203.6\" font-family=\"-apple-system, BlinkMacSystemFont, 'Segoe UI', Helvetica, Arial, sans-serif, 'Apple Color Emoji', 'Segoe UI Emoji', 'Segoe UI Symbol'\" font-size=\"13.00\">TradeId → TradeId</text>\n",
       "</g>\n",
       "<!-- Book_Hierarchy -->\n",
       "<g id=\"node4\" class=\"node\"><title>Book_Hierarchy</title>\n",
       "<text text-anchor=\"start\" x=\"708.5\" y=\"-146.6\" font-family=\"-apple-system, BlinkMacSystemFont, 'Segoe UI', Helvetica, Arial, sans-serif, 'Apple Color Emoji', 'Segoe UI Emoji', 'Segoe UI Symbol'\" font-weight=\"bold\" font-size=\"13.00\">Book_Hierarchy</text>\n",
       "<polygon fill=\"#f5f5f5\" stroke=\"none\" points=\"676.5,-113 676.5,-137 707.5,-137 707.5,-113 676.5,-113\"/>\n",
       "<text text-anchor=\"start\" x=\"681.5\" y=\"-122.6\" font-family=\"-apple-system, BlinkMacSystemFont, 'Segoe UI', Helvetica, Arial, sans-serif, 'Apple Color Emoji', 'Segoe UI Emoji', 'Segoe UI Symbol'\" font-weight=\"bold\" font-size=\"13.00\">key</text>\n",
       "<polygon fill=\"#f5f5f5\" stroke=\"none\" points=\"707.5,-113 707.5,-137 792.5,-137 792.5,-113 707.5,-113\"/>\n",
       "<text text-anchor=\"start\" x=\"712.5\" y=\"-121.6\" font-family=\"-apple-system, BlinkMacSystemFont, 'Segoe UI', Helvetica, Arial, sans-serif, 'Apple Color Emoji', 'Segoe UI Emoji', 'Segoe UI Symbol'\" font-size=\"13.00\">Book</text>\n",
       "<polygon fill=\"#f5f5f5\" stroke=\"none\" points=\"792.5,-113 792.5,-137 835.5,-137 835.5,-113 792.5,-113\"/>\n",
       "<text text-anchor=\"start\" x=\"797.5\" y=\"-122.6\" font-family=\"-apple-system, BlinkMacSystemFont, 'Segoe UI', Helvetica, Arial, sans-serif, 'Apple Color Emoji', 'Segoe UI Emoji', 'Segoe UI Symbol'\" font-style=\"italic\" font-size=\"13.00\">String</text>\n",
       "<polygon fill=\"#ffffff\" stroke=\"none\" points=\"676.5,-89 676.5,-113 707.5,-113 707.5,-89 676.5,-89\"/>\n",
       "<polygon fill=\"#ffffff\" stroke=\"none\" points=\"707.5,-89 707.5,-113 792.5,-113 792.5,-89 707.5,-89\"/>\n",
       "<text text-anchor=\"start\" x=\"712.5\" y=\"-97.6\" font-family=\"-apple-system, BlinkMacSystemFont, 'Segoe UI', Helvetica, Arial, sans-serif, 'Apple Color Emoji', 'Segoe UI Emoji', 'Segoe UI Symbol'\" font-size=\"13.00\">Desk</text>\n",
       "<polygon fill=\"#ffffff\" stroke=\"none\" points=\"792.5,-89 792.5,-113 835.5,-113 835.5,-89 792.5,-89\"/>\n",
       "<text text-anchor=\"start\" x=\"797.5\" y=\"-98.6\" font-family=\"-apple-system, BlinkMacSystemFont, 'Segoe UI', Helvetica, Arial, sans-serif, 'Apple Color Emoji', 'Segoe UI Emoji', 'Segoe UI Symbol'\" font-style=\"italic\" font-size=\"13.00\">String</text>\n",
       "<polygon fill=\"#f5f5f5\" stroke=\"none\" points=\"676.5,-65 676.5,-89 707.5,-89 707.5,-65 676.5,-65\"/>\n",
       "<polygon fill=\"#f5f5f5\" stroke=\"none\" points=\"707.5,-65 707.5,-89 792.5,-89 792.5,-65 707.5,-65\"/>\n",
       "<text text-anchor=\"start\" x=\"712.5\" y=\"-73.6\" font-family=\"-apple-system, BlinkMacSystemFont, 'Segoe UI', Helvetica, Arial, sans-serif, 'Apple Color Emoji', 'Segoe UI Emoji', 'Segoe UI Symbol'\" font-size=\"13.00\">Business Unit</text>\n",
       "<polygon fill=\"#f5f5f5\" stroke=\"none\" points=\"792.5,-65 792.5,-89 835.5,-89 835.5,-65 792.5,-65\"/>\n",
       "<text text-anchor=\"start\" x=\"797.5\" y=\"-74.6\" font-family=\"-apple-system, BlinkMacSystemFont, 'Segoe UI', Helvetica, Arial, sans-serif, 'Apple Color Emoji', 'Segoe UI Emoji', 'Segoe UI Symbol'\" font-style=\"italic\" font-size=\"13.00\">String</text>\n",
       "<polygon fill=\"none\" stroke=\"black\" points=\"675,-64 675,-162 836,-162 836,-64 675,-64\"/>\n",
       "</g>\n",
       "<!-- Trade_Attributes&#45;&gt;Book_Hierarchy -->\n",
       "<g id=\"edge3\" class=\"edge\"><title>Trade_Attributes-&gt;Book_Hierarchy</title>\n",
       "<path fill=\"none\" stroke=\"black\" d=\"M555.013,-113C587.493,-113 623.989,-113 656.799,-113\"/>\n",
       "<polygon fill=\"black\" stroke=\"black\" points=\"656.854,-116.5 666.854,-113 656.854,-109.5 656.854,-116.5\"/>\n",
       "<text text-anchor=\"middle\" x=\"611\" y=\"-116.6\" font-family=\"-apple-system, BlinkMacSystemFont, 'Segoe UI', Helvetica, Arial, sans-serif, 'Apple Color Emoji', 'Segoe UI Emoji', 'Segoe UI Symbol'\" font-size=\"13.00\">Book → Book</text>\n",
       "</g>\n",
       "</g>\n",
       "</svg>"
      ],
      "text/plain": [
       "<IPython.core.display.SVG object>"
      ]
     },
     "execution_count": 25,
     "metadata": {},
     "output_type": "execute_result"
    }
   ],
   "source": [
    "cube.schema"
   ]
  },
  {
   "cell_type": "markdown",
   "metadata": {},
   "source": [
    "In fact, the **attributes do not have to be static**. They can be refreshed as soon as data arrives. For example, by adding a “Trade status” into the `trade_attributes` store I could use it to tag trades as “Terminated” and filter them out from the view."
   ]
  },
  {
   "cell_type": "markdown",
   "metadata": {},
   "source": [
    "In the following cell, we are creating a hierarchy representing ogranisational structure:"
   ]
  },
  {
   "cell_type": "code",
   "execution_count": 26,
   "metadata": {},
   "outputs": [],
   "source": [
    "h[\"Portfolio Structure\"] = {\n",
    "    \"Business Unit\": lvl[\"Business Unit\"],\n",
    "    \"Desk\": lvl[\"Desk\"],\n",
    "    \"Book\": lvl[\"Book\"],\n",
    "}"
   ]
  },
  {
   "cell_type": "markdown",
   "metadata": {},
   "source": [
    "We can expand and collapse data along the multi-level hierarchy:"
   ]
  },
  {
   "cell_type": "code",
   "execution_count": 27,
   "metadata": {
    "atoti": {
     "widget": {
      "mapping": {
       "columns": [
        "ALL_MEASURES"
       ],
       "measures": [
        "[Measures].[Delta.SUM]"
       ],
       "rows": [
        "[Book_Hierarchy].[Portfolio Structure].[Business Unit] => [Book_Hierarchy].[Portfolio Structure].[Book]"
       ]
      },
      "query": {
       "mdx": "SELECT NON EMPTY Hierarchize(Union(Descendants({[Book_Hierarchy].[Portfolio Structure].[AllMember]}, 1, SELF_AND_BEFORE), Descendants({[Book_Hierarchy].[Portfolio Structure].[AllMember].[Equities]}, [Book_Hierarchy].[Portfolio Structure].[Desk]), Descendants({[Book_Hierarchy].[Portfolio Structure].[AllMember].[Equities].[Equity Trading]}, [Book_Hierarchy].[Portfolio Structure].[Book]))) ON ROWS, NON EMPTY {[Measures].[Delta.SUM]} ON COLUMNS FROM [Sensitivities]",
       "updateMode": "once"
      },
      "serverKey": "default",
      "widgetKey": "pivot-table"
     }
    }
   },
   "outputs": [
    {
     "data": {
      "application/vnd.atoti.widget.v0+json": {
       "name": null,
       "session": "Unnamed"
      },
      "text/plain": [
       "Open the notebook in JupyterLab with the atoti extension installed and enabled to start editing this widget."
      ]
     },
     "metadata": {},
     "output_type": "display_data"
    }
   ],
   "source": [
    "session.visualize()"
   ]
  },
  {
   "cell_type": "markdown",
   "metadata": {},
   "source": [
    "Current data model schema:"
   ]
  },
  {
   "cell_type": "code",
   "execution_count": 28,
   "metadata": {},
   "outputs": [
    {
     "data": {
      "image/svg+xml": [
       "<svg xmlns=\"http://www.w3.org/2000/svg\" xmlns:xlink=\"http://www.w3.org/1999/xlink\" width=\"852px\" height=\"358px\" viewBox=\"0.00 0.00 852.00 358.00\">\n",
       "<g id=\"graph0\" class=\"graph\" transform=\"scale(1.0 1.0) rotate(0) translate(4 354)\">\n",
       "<title>Sensitivities schema</title>\n",
       "<polygon fill=\"white\" stroke=\"none\" points=\"-4,4 -4,-354 848,-354 848,4 -4,4\"/>\n",
       "<!-- Sensitivities -->\n",
       "<g id=\"node1\" class=\"node\"><title>Sensitivities</title>\n",
       "<text text-anchor=\"start\" x=\"61.5\" y=\"-299.6\" font-family=\"-apple-system, BlinkMacSystemFont, 'Segoe UI', Helvetica, Arial, sans-serif, 'Apple Color Emoji', 'Segoe UI Emoji', 'Segoe UI Symbol'\" font-weight=\"bold\" font-size=\"13.00\">Sensitivities</text>\n",
       "<polygon fill=\"#f5f5f5\" stroke=\"none\" points=\"9,-266 9,-290 40,-290 40,-266 9,-266\"/>\n",
       "<text text-anchor=\"start\" x=\"14\" y=\"-275.6\" font-family=\"-apple-system, BlinkMacSystemFont, 'Segoe UI', Helvetica, Arial, sans-serif, 'Apple Color Emoji', 'Segoe UI Emoji', 'Segoe UI Symbol'\" font-weight=\"bold\" font-size=\"13.00\">key</text>\n",
       "<polygon fill=\"#f5f5f5\" stroke=\"none\" points=\"40,-266 40,-290 118,-290 118,-266 40,-266\"/>\n",
       "<text text-anchor=\"start\" x=\"45\" y=\"-274.6\" font-family=\"-apple-system, BlinkMacSystemFont, 'Segoe UI', Helvetica, Arial, sans-serif, 'Apple Color Emoji', 'Segoe UI Emoji', 'Segoe UI Symbol'\" font-size=\"13.00\">AsOfDate</text>\n",
       "<polygon fill=\"#f5f5f5\" stroke=\"none\" points=\"118,-266 118,-290 185,-290 185,-266 118,-266\"/>\n",
       "<text text-anchor=\"start\" x=\"123\" y=\"-275.6\" font-family=\"-apple-system, BlinkMacSystemFont, 'Segoe UI', Helvetica, Arial, sans-serif, 'Apple Color Emoji', 'Segoe UI Emoji', 'Segoe UI Symbol'\" font-style=\"italic\" font-size=\"13.00\">LocalDate</text>\n",
       "<polygon fill=\"#ffffff\" stroke=\"none\" points=\"9,-242 9,-266 40,-266 40,-242 9,-242\"/>\n",
       "<text text-anchor=\"start\" x=\"14\" y=\"-251.6\" font-family=\"-apple-system, BlinkMacSystemFont, 'Segoe UI', Helvetica, Arial, sans-serif, 'Apple Color Emoji', 'Segoe UI Emoji', 'Segoe UI Symbol'\" font-weight=\"bold\" font-size=\"13.00\">key</text>\n",
       "<polygon fill=\"#ffffff\" stroke=\"none\" points=\"40,-242 40,-266 118,-266 118,-242 40,-242\"/>\n",
       "<text text-anchor=\"start\" x=\"45\" y=\"-250.6\" font-family=\"-apple-system, BlinkMacSystemFont, 'Segoe UI', Helvetica, Arial, sans-serif, 'Apple Color Emoji', 'Segoe UI Emoji', 'Segoe UI Symbol'\" font-size=\"13.00\">TradeId</text>\n",
       "<polygon fill=\"#ffffff\" stroke=\"none\" points=\"118,-242 118,-266 185,-266 185,-242 118,-242\"/>\n",
       "<text text-anchor=\"start\" x=\"147\" y=\"-251.6\" font-family=\"-apple-system, BlinkMacSystemFont, 'Segoe UI', Helvetica, Arial, sans-serif, 'Apple Color Emoji', 'Segoe UI Emoji', 'Segoe UI Symbol'\" font-style=\"italic\" font-size=\"13.00\">String</text>\n",
       "<polygon fill=\"#f5f5f5\" stroke=\"none\" points=\"9,-218 9,-242 40,-242 40,-218 9,-218\"/>\n",
       "<text text-anchor=\"start\" x=\"14\" y=\"-227.6\" font-family=\"-apple-system, BlinkMacSystemFont, 'Segoe UI', Helvetica, Arial, sans-serif, 'Apple Color Emoji', 'Segoe UI Emoji', 'Segoe UI Symbol'\" font-weight=\"bold\" font-size=\"13.00\">key</text>\n",
       "<polygon fill=\"#f5f5f5\" stroke=\"none\" points=\"40,-218 40,-242 118,-242 118,-218 40,-218\"/>\n",
       "<text text-anchor=\"start\" x=\"45\" y=\"-226.6\" font-family=\"-apple-system, BlinkMacSystemFont, 'Segoe UI', Helvetica, Arial, sans-serif, 'Apple Color Emoji', 'Segoe UI Emoji', 'Segoe UI Symbol'\" font-size=\"13.00\">RiskFactor</text>\n",
       "<polygon fill=\"#f5f5f5\" stroke=\"none\" points=\"118,-218 118,-242 185,-242 185,-218 118,-218\"/>\n",
       "<text text-anchor=\"start\" x=\"147\" y=\"-227.6\" font-family=\"-apple-system, BlinkMacSystemFont, 'Segoe UI', Helvetica, Arial, sans-serif, 'Apple Color Emoji', 'Segoe UI Emoji', 'Segoe UI Symbol'\" font-style=\"italic\" font-size=\"13.00\">String</text>\n",
       "<polygon fill=\"#ffffff\" stroke=\"none\" points=\"9,-194 9,-218 40,-218 40,-194 9,-194\"/>\n",
       "<polygon fill=\"#ffffff\" stroke=\"none\" points=\"40,-194 40,-218 118,-218 118,-194 40,-194\"/>\n",
       "<text text-anchor=\"start\" x=\"45\" y=\"-202.6\" font-family=\"-apple-system, BlinkMacSystemFont, 'Segoe UI', Helvetica, Arial, sans-serif, 'Apple Color Emoji', 'Segoe UI Emoji', 'Segoe UI Symbol'\" font-size=\"13.00\">MarketValue</text>\n",
       "<polygon fill=\"#ffffff\" stroke=\"none\" points=\"118,-194 118,-218 185,-218 185,-194 118,-194\"/>\n",
       "<text text-anchor=\"start\" x=\"143\" y=\"-203.6\" font-family=\"-apple-system, BlinkMacSystemFont, 'Segoe UI', Helvetica, Arial, sans-serif, 'Apple Color Emoji', 'Segoe UI Emoji', 'Segoe UI Symbol'\" font-style=\"italic\" font-size=\"13.00\">double</text>\n",
       "<polygon fill=\"#f5f5f5\" stroke=\"none\" points=\"9,-170 9,-194 40,-194 40,-170 9,-170\"/>\n",
       "<polygon fill=\"#f5f5f5\" stroke=\"none\" points=\"40,-170 40,-194 118,-194 118,-170 40,-170\"/>\n",
       "<text text-anchor=\"start\" x=\"45\" y=\"-178.6\" font-family=\"-apple-system, BlinkMacSystemFont, 'Segoe UI', Helvetica, Arial, sans-serif, 'Apple Color Emoji', 'Segoe UI Emoji', 'Segoe UI Symbol'\" font-size=\"13.00\">Delta</text>\n",
       "<polygon fill=\"#f5f5f5\" stroke=\"none\" points=\"118,-170 118,-194 185,-194 185,-170 118,-170\"/>\n",
       "<text text-anchor=\"start\" x=\"143\" y=\"-179.6\" font-family=\"-apple-system, BlinkMacSystemFont, 'Segoe UI', Helvetica, Arial, sans-serif, 'Apple Color Emoji', 'Segoe UI Emoji', 'Segoe UI Symbol'\" font-style=\"italic\" font-size=\"13.00\">double</text>\n",
       "<polygon fill=\"none\" stroke=\"black\" points=\"8,-169 8,-315 186,-315 186,-169 8,-169\"/>\n",
       "</g>\n",
       "<!-- Market_Data_Store -->\n",
       "<g id=\"node2\" class=\"node\"><title>Market_Data_Store</title>\n",
       "<text text-anchor=\"start\" x=\"404\" y=\"-330.6\" font-family=\"-apple-system, BlinkMacSystemFont, 'Segoe UI', Helvetica, Arial, sans-serif, 'Apple Color Emoji', 'Segoe UI Emoji', 'Segoe UI Symbol'\" font-weight=\"bold\" font-size=\"13.00\">Market_Data_Store</text>\n",
       "<polygon fill=\"#f5f5f5\" stroke=\"none\" points=\"377.5,-297 377.5,-321 408.5,-321 408.5,-297 377.5,-297\"/>\n",
       "<text text-anchor=\"start\" x=\"382.5\" y=\"-306.6\" font-family=\"-apple-system, BlinkMacSystemFont, 'Segoe UI', Helvetica, Arial, sans-serif, 'Apple Color Emoji', 'Segoe UI Emoji', 'Segoe UI Symbol'\" font-weight=\"bold\" font-size=\"13.00\">key</text>\n",
       "<polygon fill=\"#f5f5f5\" stroke=\"none\" points=\"408.5,-297 408.5,-321 476.5,-321 476.5,-297 408.5,-297\"/>\n",
       "<text text-anchor=\"start\" x=\"413.5\" y=\"-305.6\" font-family=\"-apple-system, BlinkMacSystemFont, 'Segoe UI', Helvetica, Arial, sans-serif, 'Apple Color Emoji', 'Segoe UI Emoji', 'Segoe UI Symbol'\" font-size=\"13.00\">AsOfDate</text>\n",
       "<polygon fill=\"#f5f5f5\" stroke=\"none\" points=\"476.5,-297 476.5,-321 543.5,-321 543.5,-297 476.5,-297\"/>\n",
       "<text text-anchor=\"start\" x=\"481.5\" y=\"-306.6\" font-family=\"-apple-system, BlinkMacSystemFont, 'Segoe UI', Helvetica, Arial, sans-serif, 'Apple Color Emoji', 'Segoe UI Emoji', 'Segoe UI Symbol'\" font-style=\"italic\" font-size=\"13.00\">LocalDate</text>\n",
       "<polygon fill=\"#ffffff\" stroke=\"none\" points=\"377.5,-273 377.5,-297 408.5,-297 408.5,-273 377.5,-273\"/>\n",
       "<text text-anchor=\"start\" x=\"382.5\" y=\"-282.6\" font-family=\"-apple-system, BlinkMacSystemFont, 'Segoe UI', Helvetica, Arial, sans-serif, 'Apple Color Emoji', 'Segoe UI Emoji', 'Segoe UI Symbol'\" font-weight=\"bold\" font-size=\"13.00\">key</text>\n",
       "<polygon fill=\"#ffffff\" stroke=\"none\" points=\"408.5,-273 408.5,-297 476.5,-297 476.5,-273 408.5,-273\"/>\n",
       "<text text-anchor=\"start\" x=\"413.5\" y=\"-281.6\" font-family=\"-apple-system, BlinkMacSystemFont, 'Segoe UI', Helvetica, Arial, sans-serif, 'Apple Color Emoji', 'Segoe UI Emoji', 'Segoe UI Symbol'\" font-size=\"13.00\">Instrument</text>\n",
       "<polygon fill=\"#ffffff\" stroke=\"none\" points=\"476.5,-273 476.5,-297 543.5,-297 543.5,-273 476.5,-273\"/>\n",
       "<text text-anchor=\"start\" x=\"505.5\" y=\"-282.6\" font-family=\"-apple-system, BlinkMacSystemFont, 'Segoe UI', Helvetica, Arial, sans-serif, 'Apple Color Emoji', 'Segoe UI Emoji', 'Segoe UI Symbol'\" font-style=\"italic\" font-size=\"13.00\">String</text>\n",
       "<polygon fill=\"#f5f5f5\" stroke=\"none\" points=\"377.5,-249 377.5,-273 408.5,-273 408.5,-249 377.5,-249\"/>\n",
       "<polygon fill=\"#f5f5f5\" stroke=\"none\" points=\"408.5,-249 408.5,-273 476.5,-273 476.5,-249 408.5,-249\"/>\n",
       "<text text-anchor=\"start\" x=\"413.5\" y=\"-257.6\" font-family=\"-apple-system, BlinkMacSystemFont, 'Segoe UI', Helvetica, Arial, sans-serif, 'Apple Color Emoji', 'Segoe UI Emoji', 'Segoe UI Symbol'\" font-size=\"13.00\">Quote</text>\n",
       "<polygon fill=\"#f5f5f5\" stroke=\"none\" points=\"476.5,-249 476.5,-273 543.5,-273 543.5,-249 476.5,-249\"/>\n",
       "<text text-anchor=\"start\" x=\"501.5\" y=\"-258.6\" font-family=\"-apple-system, BlinkMacSystemFont, 'Segoe UI', Helvetica, Arial, sans-serif, 'Apple Color Emoji', 'Segoe UI Emoji', 'Segoe UI Symbol'\" font-style=\"italic\" font-size=\"13.00\">double</text>\n",
       "<polygon fill=\"none\" stroke=\"black\" points=\"376.5,-248 376.5,-346 544.5,-346 544.5,-248 376.5,-248\"/>\n",
       "</g>\n",
       "<!-- Sensitivities&#45;&gt;Market_Data_Store -->\n",
       "<g id=\"edge2\" class=\"edge\"><title>Sensitivities-&gt;Market_Data_Store</title>\n",
       "<path fill=\"none\" stroke=\"black\" d=\"M194.4,-256.667C244.991,-264.364 306.945,-273.79 358.236,-281.593\"/>\n",
       "<polygon fill=\"black\" stroke=\"black\" points=\"357.933,-285.087 368.346,-283.131 358.986,-278.167 357.933,-285.087\"/>\n",
       "<text text-anchor=\"middle\" x=\"280\" y=\"-296.6\" font-family=\"-apple-system, BlinkMacSystemFont, 'Segoe UI', Helvetica, Arial, sans-serif, 'Apple Color Emoji', 'Segoe UI Emoji', 'Segoe UI Symbol'\" font-size=\"13.00\">AsOfDate → AsOfDate</text>\n",
       "<text text-anchor=\"middle\" x=\"280\" y=\"-282.6\" font-family=\"-apple-system, BlinkMacSystemFont, 'Segoe UI', Helvetica, Arial, sans-serif, 'Apple Color Emoji', 'Segoe UI Emoji', 'Segoe UI Symbol'\" font-size=\"13.00\">RiskFactor → Instrument</text>\n",
       "</g>\n",
       "<!-- Trade_Attributes -->\n",
       "<g id=\"node3\" class=\"node\"><title>Trade_Attributes</title>\n",
       "<text text-anchor=\"start\" x=\"411\" y=\"-206.6\" font-family=\"-apple-system, BlinkMacSystemFont, 'Segoe UI', Helvetica, Arial, sans-serif, 'Apple Color Emoji', 'Segoe UI Emoji', 'Segoe UI Symbol'\" font-weight=\"bold\" font-size=\"13.00\">Trade_Attributes</text>\n",
       "<polygon fill=\"#f5f5f5\" stroke=\"none\" points=\"375.5,-173 375.5,-197 406.5,-197 406.5,-173 375.5,-173\"/>\n",
       "<text text-anchor=\"start\" x=\"380.5\" y=\"-182.6\" font-family=\"-apple-system, BlinkMacSystemFont, 'Segoe UI', Helvetica, Arial, sans-serif, 'Apple Color Emoji', 'Segoe UI Emoji', 'Segoe UI Symbol'\" font-weight=\"bold\" font-size=\"13.00\">key</text>\n",
       "<polygon fill=\"#f5f5f5\" stroke=\"none\" points=\"406.5,-173 406.5,-197 479.5,-197 479.5,-173 406.5,-173\"/>\n",
       "<text text-anchor=\"start\" x=\"411.5\" y=\"-181.6\" font-family=\"-apple-system, BlinkMacSystemFont, 'Segoe UI', Helvetica, Arial, sans-serif, 'Apple Color Emoji', 'Segoe UI Emoji', 'Segoe UI Symbol'\" font-size=\"13.00\">TradeId</text>\n",
       "<polygon fill=\"#f5f5f5\" stroke=\"none\" points=\"479.5,-173 479.5,-197 546.5,-197 546.5,-173 479.5,-173\"/>\n",
       "<text text-anchor=\"start\" x=\"508.5\" y=\"-182.6\" font-family=\"-apple-system, BlinkMacSystemFont, 'Segoe UI', Helvetica, Arial, sans-serif, 'Apple Color Emoji', 'Segoe UI Emoji', 'Segoe UI Symbol'\" font-style=\"italic\" font-size=\"13.00\">String</text>\n",
       "<polygon fill=\"#ffffff\" stroke=\"none\" points=\"375.5,-149 375.5,-173 406.5,-173 406.5,-149 375.5,-149\"/>\n",
       "<polygon fill=\"#ffffff\" stroke=\"none\" points=\"406.5,-149 406.5,-173 479.5,-173 479.5,-149 406.5,-149\"/>\n",
       "<text text-anchor=\"start\" x=\"411.5\" y=\"-157.6\" font-family=\"-apple-system, BlinkMacSystemFont, 'Segoe UI', Helvetica, Arial, sans-serif, 'Apple Color Emoji', 'Segoe UI Emoji', 'Segoe UI Symbol'\" font-size=\"13.00\">Ticker</text>\n",
       "<polygon fill=\"#ffffff\" stroke=\"none\" points=\"479.5,-149 479.5,-173 546.5,-173 546.5,-149 479.5,-149\"/>\n",
       "<text text-anchor=\"start\" x=\"508.5\" y=\"-158.6\" font-family=\"-apple-system, BlinkMacSystemFont, 'Segoe UI', Helvetica, Arial, sans-serif, 'Apple Color Emoji', 'Segoe UI Emoji', 'Segoe UI Symbol'\" font-style=\"italic\" font-size=\"13.00\">String</text>\n",
       "<polygon fill=\"#f5f5f5\" stroke=\"none\" points=\"375.5,-125 375.5,-149 406.5,-149 406.5,-125 375.5,-125\"/>\n",
       "<polygon fill=\"#f5f5f5\" stroke=\"none\" points=\"406.5,-125 406.5,-149 479.5,-149 479.5,-125 406.5,-125\"/>\n",
       "<text text-anchor=\"start\" x=\"411.5\" y=\"-133.6\" font-family=\"-apple-system, BlinkMacSystemFont, 'Segoe UI', Helvetica, Arial, sans-serif, 'Apple Color Emoji', 'Segoe UI Emoji', 'Segoe UI Symbol'\" font-size=\"13.00\">Book</text>\n",
       "<polygon fill=\"#f5f5f5\" stroke=\"none\" points=\"479.5,-125 479.5,-149 546.5,-149 546.5,-125 479.5,-125\"/>\n",
       "<text text-anchor=\"start\" x=\"508.5\" y=\"-134.6\" font-family=\"-apple-system, BlinkMacSystemFont, 'Segoe UI', Helvetica, Arial, sans-serif, 'Apple Color Emoji', 'Segoe UI Emoji', 'Segoe UI Symbol'\" font-style=\"italic\" font-size=\"13.00\">String</text>\n",
       "<polygon fill=\"#ffffff\" stroke=\"none\" points=\"375.5,-101 375.5,-125 406.5,-125 406.5,-101 375.5,-101\"/>\n",
       "<polygon fill=\"#ffffff\" stroke=\"none\" points=\"406.5,-101 406.5,-125 479.5,-125 479.5,-101 406.5,-101\"/>\n",
       "<text text-anchor=\"start\" x=\"411.5\" y=\"-109.6\" font-family=\"-apple-system, BlinkMacSystemFont, 'Segoe UI', Helvetica, Arial, sans-serif, 'Apple Color Emoji', 'Segoe UI Emoji', 'Segoe UI Symbol'\" font-size=\"13.00\">Product</text>\n",
       "<polygon fill=\"#ffffff\" stroke=\"none\" points=\"479.5,-101 479.5,-125 546.5,-125 546.5,-101 479.5,-101\"/>\n",
       "<text text-anchor=\"start\" x=\"508.5\" y=\"-110.6\" font-family=\"-apple-system, BlinkMacSystemFont, 'Segoe UI', Helvetica, Arial, sans-serif, 'Apple Color Emoji', 'Segoe UI Emoji', 'Segoe UI Symbol'\" font-style=\"italic\" font-size=\"13.00\">String</text>\n",
       "<polygon fill=\"#f5f5f5\" stroke=\"none\" points=\"375.5,-77 375.5,-101 406.5,-101 406.5,-77 375.5,-77\"/>\n",
       "<polygon fill=\"#f5f5f5\" stroke=\"none\" points=\"406.5,-77 406.5,-101 479.5,-101 479.5,-77 406.5,-77\"/>\n",
       "<text text-anchor=\"start\" x=\"411.5\" y=\"-85.6\" font-family=\"-apple-system, BlinkMacSystemFont, 'Segoe UI', Helvetica, Arial, sans-serif, 'Apple Color Emoji', 'Segoe UI Emoji', 'Segoe UI Symbol'\" font-size=\"13.00\">Quantity</text>\n",
       "<polygon fill=\"#f5f5f5\" stroke=\"none\" points=\"479.5,-77 479.5,-101 546.5,-101 546.5,-77 479.5,-77\"/>\n",
       "<text text-anchor=\"start\" x=\"527.5\" y=\"-86.6\" font-family=\"-apple-system, BlinkMacSystemFont, 'Segoe UI', Helvetica, Arial, sans-serif, 'Apple Color Emoji', 'Segoe UI Emoji', 'Segoe UI Symbol'\" font-style=\"italic\" font-size=\"13.00\">int</text>\n",
       "<polygon fill=\"#ffffff\" stroke=\"none\" points=\"375.5,-53 375.5,-77 406.5,-77 406.5,-53 375.5,-53\"/>\n",
       "<polygon fill=\"#ffffff\" stroke=\"none\" points=\"406.5,-53 406.5,-77 479.5,-77 479.5,-53 406.5,-53\"/>\n",
       "<text text-anchor=\"start\" x=\"411.5\" y=\"-61.6\" font-family=\"-apple-system, BlinkMacSystemFont, 'Segoe UI', Helvetica, Arial, sans-serif, 'Apple Color Emoji', 'Segoe UI Emoji', 'Segoe UI Symbol'\" font-size=\"13.00\">Strike</text>\n",
       "<polygon fill=\"#ffffff\" stroke=\"none\" points=\"479.5,-53 479.5,-77 546.5,-77 546.5,-53 479.5,-53\"/>\n",
       "<text text-anchor=\"start\" x=\"508.5\" y=\"-62.6\" font-family=\"-apple-system, BlinkMacSystemFont, 'Segoe UI', Helvetica, Arial, sans-serif, 'Apple Color Emoji', 'Segoe UI Emoji', 'Segoe UI Symbol'\" font-style=\"italic\" font-size=\"13.00\">String</text>\n",
       "<polygon fill=\"#f5f5f5\" stroke=\"none\" points=\"375.5,-29 375.5,-53 406.5,-53 406.5,-29 375.5,-29\"/>\n",
       "<polygon fill=\"#f5f5f5\" stroke=\"none\" points=\"406.5,-29 406.5,-53 479.5,-53 479.5,-29 406.5,-29\"/>\n",
       "<text text-anchor=\"start\" x=\"411.5\" y=\"-37.6\" font-family=\"-apple-system, BlinkMacSystemFont, 'Segoe UI', Helvetica, Arial, sans-serif, 'Apple Color Emoji', 'Segoe UI Emoji', 'Segoe UI Symbol'\" font-size=\"13.00\">Maturity</text>\n",
       "<polygon fill=\"#f5f5f5\" stroke=\"none\" points=\"479.5,-29 479.5,-53 546.5,-53 546.5,-29 479.5,-29\"/>\n",
       "<text text-anchor=\"start\" x=\"484.5\" y=\"-38.6\" font-family=\"-apple-system, BlinkMacSystemFont, 'Segoe UI', Helvetica, Arial, sans-serif, 'Apple Color Emoji', 'Segoe UI Emoji', 'Segoe UI Symbol'\" font-style=\"italic\" font-size=\"13.00\">LocalDate</text>\n",
       "<polygon fill=\"#ffffff\" stroke=\"none\" points=\"375.5,-5 375.5,-29 406.5,-29 406.5,-5 375.5,-5\"/>\n",
       "<polygon fill=\"#ffffff\" stroke=\"none\" points=\"406.5,-5 406.5,-29 479.5,-29 479.5,-5 406.5,-5\"/>\n",
       "<text text-anchor=\"start\" x=\"411.5\" y=\"-13.6\" font-family=\"-apple-system, BlinkMacSystemFont, 'Segoe UI', Helvetica, Arial, sans-serif, 'Apple Color Emoji', 'Segoe UI Emoji', 'Segoe UI Symbol'\" font-size=\"13.00\">OptionType</text>\n",
       "<polygon fill=\"#ffffff\" stroke=\"none\" points=\"479.5,-5 479.5,-29 546.5,-29 546.5,-5 479.5,-5\"/>\n",
       "<text text-anchor=\"start\" x=\"508.5\" y=\"-14.6\" font-family=\"-apple-system, BlinkMacSystemFont, 'Segoe UI', Helvetica, Arial, sans-serif, 'Apple Color Emoji', 'Segoe UI Emoji', 'Segoe UI Symbol'\" font-style=\"italic\" font-size=\"13.00\">String</text>\n",
       "<polygon fill=\"none\" stroke=\"black\" points=\"374,-4 374,-222 547,-222 547,-4 374,-4\"/>\n",
       "</g>\n",
       "<!-- Sensitivities&#45;&gt;Trade_Attributes -->\n",
       "<g id=\"edge1\" class=\"edge\"><title>Sensitivities-&gt;Trade_Attributes</title>\n",
       "<path fill=\"none\" stroke=\"black\" d=\"M194.4,-207.6C244.31,-189.79 305.28,-168.033 356.16,-149.876\"/>\n",
       "<polygon fill=\"black\" stroke=\"black\" points=\"357.625,-153.07 365.867,-146.413 355.272,-146.477 357.625,-153.07\"/>\n",
       "<text text-anchor=\"middle\" x=\"280\" y=\"-203.6\" font-family=\"-apple-system, BlinkMacSystemFont, 'Segoe UI', Helvetica, Arial, sans-serif, 'Apple Color Emoji', 'Segoe UI Emoji', 'Segoe UI Symbol'\" font-size=\"13.00\">TradeId → TradeId</text>\n",
       "</g>\n",
       "<!-- Book_Hierarchy -->\n",
       "<g id=\"node4\" class=\"node\"><title>Book_Hierarchy</title>\n",
       "<text text-anchor=\"start\" x=\"708.5\" y=\"-146.6\" font-family=\"-apple-system, BlinkMacSystemFont, 'Segoe UI', Helvetica, Arial, sans-serif, 'Apple Color Emoji', 'Segoe UI Emoji', 'Segoe UI Symbol'\" font-weight=\"bold\" font-size=\"13.00\">Book_Hierarchy</text>\n",
       "<polygon fill=\"#f5f5f5\" stroke=\"none\" points=\"676.5,-113 676.5,-137 707.5,-137 707.5,-113 676.5,-113\"/>\n",
       "<text text-anchor=\"start\" x=\"681.5\" y=\"-122.6\" font-family=\"-apple-system, BlinkMacSystemFont, 'Segoe UI', Helvetica, Arial, sans-serif, 'Apple Color Emoji', 'Segoe UI Emoji', 'Segoe UI Symbol'\" font-weight=\"bold\" font-size=\"13.00\">key</text>\n",
       "<polygon fill=\"#f5f5f5\" stroke=\"none\" points=\"707.5,-113 707.5,-137 792.5,-137 792.5,-113 707.5,-113\"/>\n",
       "<text text-anchor=\"start\" x=\"712.5\" y=\"-121.6\" font-family=\"-apple-system, BlinkMacSystemFont, 'Segoe UI', Helvetica, Arial, sans-serif, 'Apple Color Emoji', 'Segoe UI Emoji', 'Segoe UI Symbol'\" font-size=\"13.00\">Book</text>\n",
       "<polygon fill=\"#f5f5f5\" stroke=\"none\" points=\"792.5,-113 792.5,-137 835.5,-137 835.5,-113 792.5,-113\"/>\n",
       "<text text-anchor=\"start\" x=\"797.5\" y=\"-122.6\" font-family=\"-apple-system, BlinkMacSystemFont, 'Segoe UI', Helvetica, Arial, sans-serif, 'Apple Color Emoji', 'Segoe UI Emoji', 'Segoe UI Symbol'\" font-style=\"italic\" font-size=\"13.00\">String</text>\n",
       "<polygon fill=\"#ffffff\" stroke=\"none\" points=\"676.5,-89 676.5,-113 707.5,-113 707.5,-89 676.5,-89\"/>\n",
       "<polygon fill=\"#ffffff\" stroke=\"none\" points=\"707.5,-89 707.5,-113 792.5,-113 792.5,-89 707.5,-89\"/>\n",
       "<text text-anchor=\"start\" x=\"712.5\" y=\"-97.6\" font-family=\"-apple-system, BlinkMacSystemFont, 'Segoe UI', Helvetica, Arial, sans-serif, 'Apple Color Emoji', 'Segoe UI Emoji', 'Segoe UI Symbol'\" font-size=\"13.00\">Desk</text>\n",
       "<polygon fill=\"#ffffff\" stroke=\"none\" points=\"792.5,-89 792.5,-113 835.5,-113 835.5,-89 792.5,-89\"/>\n",
       "<text text-anchor=\"start\" x=\"797.5\" y=\"-98.6\" font-family=\"-apple-system, BlinkMacSystemFont, 'Segoe UI', Helvetica, Arial, sans-serif, 'Apple Color Emoji', 'Segoe UI Emoji', 'Segoe UI Symbol'\" font-style=\"italic\" font-size=\"13.00\">String</text>\n",
       "<polygon fill=\"#f5f5f5\" stroke=\"none\" points=\"676.5,-65 676.5,-89 707.5,-89 707.5,-65 676.5,-65\"/>\n",
       "<polygon fill=\"#f5f5f5\" stroke=\"none\" points=\"707.5,-65 707.5,-89 792.5,-89 792.5,-65 707.5,-65\"/>\n",
       "<text text-anchor=\"start\" x=\"712.5\" y=\"-73.6\" font-family=\"-apple-system, BlinkMacSystemFont, 'Segoe UI', Helvetica, Arial, sans-serif, 'Apple Color Emoji', 'Segoe UI Emoji', 'Segoe UI Symbol'\" font-size=\"13.00\">Business Unit</text>\n",
       "<polygon fill=\"#f5f5f5\" stroke=\"none\" points=\"792.5,-65 792.5,-89 835.5,-89 835.5,-65 792.5,-65\"/>\n",
       "<text text-anchor=\"start\" x=\"797.5\" y=\"-74.6\" font-family=\"-apple-system, BlinkMacSystemFont, 'Segoe UI', Helvetica, Arial, sans-serif, 'Apple Color Emoji', 'Segoe UI Emoji', 'Segoe UI Symbol'\" font-style=\"italic\" font-size=\"13.00\">String</text>\n",
       "<polygon fill=\"none\" stroke=\"black\" points=\"675,-64 675,-162 836,-162 836,-64 675,-64\"/>\n",
       "</g>\n",
       "<!-- Trade_Attributes&#45;&gt;Book_Hierarchy -->\n",
       "<g id=\"edge3\" class=\"edge\"><title>Trade_Attributes-&gt;Book_Hierarchy</title>\n",
       "<path fill=\"none\" stroke=\"black\" d=\"M555.013,-113C587.493,-113 623.989,-113 656.799,-113\"/>\n",
       "<polygon fill=\"black\" stroke=\"black\" points=\"656.854,-116.5 666.854,-113 656.854,-109.5 656.854,-116.5\"/>\n",
       "<text text-anchor=\"middle\" x=\"611\" y=\"-116.6\" font-family=\"-apple-system, BlinkMacSystemFont, 'Segoe UI', Helvetica, Arial, sans-serif, 'Apple Color Emoji', 'Segoe UI Emoji', 'Segoe UI Symbol'\" font-size=\"13.00\">Book → Book</text>\n",
       "</g>\n",
       "</g>\n",
       "</svg>"
      ],
      "text/plain": [
       "<IPython.core.display.SVG object>"
      ]
     },
     "execution_count": 28,
     "metadata": {},
     "output_type": "execute_result"
    }
   ],
   "source": [
    "cube.schema"
   ]
  },
  {
   "cell_type": "markdown",
   "metadata": {},
   "source": [
    "# Start real-time sources\n",
    "\n",
    "In the following section I'm emulating a market data feed, which is triggering portfolio repricing. \n",
    "\n",
    "A pricing library is mocked up by a function computing greeks using a QuantLib implementation of the Black-Scholes formulae. "
   ]
  },
  {
   "cell_type": "code",
   "execution_count": 29,
   "metadata": {},
   "outputs": [
    {
     "name": "stdout",
     "output_type": "stream",
     "text": [
      "Requirement already satisfied: QuantLib in c:\\apps\\miniconda3\\envs\\atoti\\lib\\site-packages (1.21)\n"
     ]
    }
   ],
   "source": [
    "## Uncomment these lines if you wish to install QuantLib\n",
    "import sys\n",
    "!{sys.executable} -m pip install QuantLib"
   ]
  },
  {
   "cell_type": "code",
   "execution_count": 30,
   "metadata": {},
   "outputs": [],
   "source": [
    "from pricing_engine_emulator import reprice_portfolio, reprice_trade"
   ]
  },
  {
   "cell_type": "markdown",
   "metadata": {},
   "source": [
    "Open a dashboard via this link - you will see the most recent portfolio summary. The widgets are switched to the \"real-time\" query mode, but the data is not updating just yet. Run the subsequent cells to \"start\" the real-time and watch cells blinking."
   ]
  },
  {
   "cell_type": "code",
   "execution_count": 31,
   "metadata": {},
   "outputs": [
    {
     "data": {
      "text/plain": [
       "'http://localhost:53758/#/dashboard/af9'"
      ]
     },
     "execution_count": 31,
     "metadata": {},
     "output_type": "execute_result"
    }
   ],
   "source": [
    "session.url + \"/#/dashboard/af9\""
   ]
  },
  {
   "cell_type": "markdown",
   "metadata": {},
   "source": [
    "To simulate the market data updates, I am going to replay simulated historical stock prices. This code snippet downloads historical data and pushes new tick updates into a queue. The publisher waits for the `should_publish` event, which is triggered in the subsequent cells."
   ]
  },
  {
   "cell_type": "code",
   "execution_count": 32,
   "metadata": {},
   "outputs": [],
   "source": [
    "import queue\n",
    "import threading\n",
    "\n",
    "should_publish = threading.Event()\n",
    "\n",
    "spot_update_queue = queue.Queue()\n",
    "tick_data = pd.read_csv(\n",
    "    \"https://data.atoti.io/notebooks/real-time-risk/static-input-files/stock_price_tick_data.csv\", index_col=\"AsOfDate\", parse_dates=[\"AsOfDate\"]\n",
    ")\n",
    "positions = pd.read_csv(\"https://data.atoti.io/notebooks/real-time-risk/static-input-files/trade_attributes.csv\", parse_dates=[\"Maturity\"])\n",
    "\n",
    "\n",
    "def start_spot_publisher():\n",
    "    # The publisher is replaying tick_data.\n",
    "    # It waits for the should publish event (see subsequent cells to trigger).\n",
    "\n",
    "    current_time = -1\n",
    "    for idx, row in tick_data.iterrows():\n",
    "        next_time = idx\n",
    "        if current_time != -1:\n",
    "            dt = (next_time - current_time).total_seconds() / 100.0\n",
    "            time.sleep(dt)\n",
    "        current_time = idx\n",
    "        print(\"\\rawaiting for publishing update \" + str(idx), end=\"\")\n",
    "        should_publish.wait()\n",
    "        print(\"\\rpublishing update \" + str(idx), end=\"\")\n",
    "        spot_update_queue.put((idx, row.to_dict()))\n",
    "    spot_update_queue.join()\n",
    "    print(\"All work completed\")\n",
    "\n",
    "\n",
    "def start_spot_update_listener():\n",
    "    print(\"Real time updates started\")\n",
    "    while True:\n",
    "        calc_date, spot_prices_by_ticker = spot_update_queue.get()\n",
    "\n",
    "        \"\"\"\n",
    "        As discussed above, I'm illustrating the \"reactive\" data store \n",
    "        by configuring it with the parameter watch set to True.\n",
    "        With the following code I'm updating the file on disc:\n",
    "        \"\"\"\n",
    "        reprice_portfolio(spot_prices_by_ticker, positions, calc_date).to_csv(\n",
    "            \"dynamic-input-files/risk_data.csv\", index=False\n",
    "        )\n",
    "\n",
    "        \"\"\"\n",
    "        The second example of real-time implementation - is injecting the data \n",
    "        directly into a datastore.\n",
    "        With the following code I'm appending the new stock prices to the market data store.\n",
    "        \"\"\"\n",
    "        for i in list(spot_prices_by_ticker.items()):\n",
    "            if not pd.isnull(i[1]):\n",
    "                clear_output(wait=True)\n",
    "                print((calc_date.strftime(\"%Y-%m-%d\"), i[0], i[1]))\n",
    "                market_data_store.append((calc_date.strftime(\"%Y-%m-%d\"), i[0], i[1]))\n",
    "\n",
    "        spot_update_queue.task_done()\n",
    "\n",
    "\n",
    "listener_thread = threading.Thread(target=start_spot_update_listener, daemon=True)\n",
    "publisher_thread = threading.Thread(target=start_spot_publisher, daemon=True)"
   ]
  },
  {
   "cell_type": "markdown",
   "metadata": {},
   "source": [
    "\n",
    "Run the next cell to start the real-time feeds - and see the cells in the dashboards blinking if then contributing data changes."
   ]
  },
  {
   "cell_type": "code",
   "execution_count": 33,
   "metadata": {},
   "outputs": [
    {
     "name": "stdout",
     "output_type": "stream",
     "text": [
      "('2020-07-09', 'OXY', 16.37)\n"
     ]
    }
   ],
   "source": [
    "publisher_thread.start()\n",
    "listener_thread.start()\n",
    "# start publishing\n",
    "should_publish.set()"
   ]
  },
  {
   "cell_type": "code",
   "execution_count": 34,
   "metadata": {},
   "outputs": [
    {
     "name": "stdout",
     "output_type": "stream",
     "text": [
      "('2020-07-09', 'MSFT', 224.73)\n"
     ]
    }
   ],
   "source": [
    "# pause publishing\n",
    "should_publish.clear()"
   ]
  },
  {
   "cell_type": "markdown",
   "metadata": {},
   "source": [
    "# 3. Kafka feed and a custom deserializer"
   ]
  },
  {
   "cell_type": "markdown",
   "metadata": {},
   "source": [
    "docker exec -it real-time-risk_kafka_1 /opt/bitnami/kafka/bin/kafka-topics.sh --create --bootstrap-server 127.0.0.1:9092 --topic tradesThe above real-time feeds are illustrating the file **watch** and the **append** command. Now let's have a quick look at enabling a **kafka feed** for a  datastore.\n",
    "\n",
    "I'm using [Bitnami Docker Image for Kafka](https://hub.docker.com/r/bitnami/kafka/) to run kafka, as a first step I'm downloading the .yml:\n",
    "\n",
    "```\n",
    "curl -sSL https://raw.githubusercontent.com/bitnami/bitnami-docker-kafka/master/docker-compose.yml > docker-compose.yml\n",
    "```\n",
    "\n",
    "Then adding the following parameter to the kafka environment section in the docker-compose.yaml - this makes Kafka accessible from outside the container.\n",
    "\n",
    "\n",
    "```    \n",
    "    - KAFKA_ADVERTISED_LISTENERS=PLAINTEXT://127.0.0.1:9092\n",
    "```\n",
    "\n",
    "![Docker config](./img/docker-config.png)\n",
    "\n",
    "\n",
    "Then I'm using docker-compose to launch kafka:\n",
    "\n",
    "```\n",
    "docker-compose up -d\n",
    "```\n",
    "\n",
    "And then creating a topic for trades:\n",
    "\n",
    "```\n",
    "docker exec -it real-time-risk_kafka_1 /opt/bitnami/kafka/bin/kafka-topics.sh --create --bootstrap-server 127.0.0.1:9092 --topic trades\n",
    "```"
   ]
  },
  {
   "cell_type": "markdown",
   "metadata": {},
   "source": [
    "Let's point the `trades_datastore` to the kafka feed. atoti will consume the arriving trades data, and the widgets will refresh automatically (need to toggle them to real-time mode - as described in the atoti for real-time section above)\n",
    "\n",
    "For a complete list of the atoti's `load_kafka` parameters, please refer to the doc [load_kafka](https://docs.atoti.io/0.4.2/lib/atoti.html?highlight=kafka#atoti.store.Store.load_kafka). In this example, I will leave the defaults for the `batch_duration` and `consumer_config` and create a custom serializer - that will skip certain fields from the trade tickets."
   ]
  },
  {
   "cell_type": "code",
   "execution_count": 40,
   "metadata": {},
   "outputs": [],
   "source": [
    "# This serializer will pick up the trade attributes field from the trade message\n",
    "def fetch_trade_attributes(record: str):\n",
    "    obj = json.loads(record)\n",
    "    fact = {}\n",
    "    for column in trade_attributes.columns:\n",
    "        fact[column] = obj[column] if column in obj.keys() else \"\"\n",
    "    return fact\n",
    "\n",
    "\n",
    "# This serializer will pick up market value from the trade message. It also populates RiskFactor from the Ticker field:\n",
    "def fetch_sensitivities(record: str):\n",
    "    obj = json.loads(record)\n",
    "    fact = {}\n",
    "    for column in sensitivities_store.columns:\n",
    "        fact[column] = obj[column] if column in obj.keys() else \"\"\n",
    "    fact[\"RiskFactor\"] = obj[\"Ticker\"]\n",
    "    return fact"
   ]
  },
  {
   "cell_type": "markdown",
   "metadata": {},
   "source": [
    "From atoti v0.5.0 onwards, we can import the `atoti_kafka` package to load real-time Kafka streams into atoti store."
   ]
  },
  {
   "cell_type": "code",
   "execution_count": 41,
   "metadata": {},
   "outputs": [],
   "source": [
    "import atoti_kafka"
   ]
  },
  {
   "cell_type": "markdown",
   "metadata": {},
   "source": [
    "The base store`sensitivities_store` and the `trade_attributes` will be populated from the same message, and the serializers defined above will pick the relevant fields."
   ]
  },
  {
   "cell_type": "code",
   "execution_count": 42,
   "metadata": {},
   "outputs": [],
   "source": [
    "trade_attributes.load_kafka(\n",
    "    bootstrap_server=\"localhost:9092\",\n",
    "    topic=\"trades\",\n",
    "    group_id=\"atoti-trades-consumer\",\n",
    "    deserializer=atoti_kafka.create_deserializer(fetch_trade_attributes),\n",
    ")\n",
    "\n",
    "sensitivities_store.load_kafka(\n",
    "    bootstrap_server=\"localhost:9092\",\n",
    "    topic=\"trades\",\n",
    "    group_id=\"atoti-risk-consumer\",\n",
    "    deserializer=atoti_kafka.create_deserializer(fetch_sensitivities),\n",
    ")"
   ]
  },
  {
   "cell_type": "markdown",
   "metadata": {},
   "source": [
    "I'll be using python kafka module to push new trade events. In the next cell, I'm sending a first trade message."
   ]
  },
  {
   "cell_type": "code",
   "execution_count": 43,
   "metadata": {},
   "outputs": [
    {
     "name": "stdout",
     "output_type": "stream",
     "text": [
      "Collecting package metadata (current_repodata.json): ...working... done\n",
      "Solving environment: ...working... done\n",
      "\n",
      "# All requested packages already installed.\n",
      "\n"
     ]
    }
   ],
   "source": [
    "# # Uncomment these lines if you wish to install kafka-python\n",
    "import sys\n",
    "# !conda install  -c conda-forge --yes --prefix {sys.prefix} kafka-python"
   ]
  },
  {
   "cell_type": "code",
   "execution_count": 44,
   "metadata": {},
   "outputs": [],
   "source": [
    "# using kafka python module to publish messages\n",
    "from kafka import KafkaProducer\n",
    "\n",
    "producer = KafkaProducer(\n",
    "    value_serializer=lambda v: json.dumps(v).encode(\"utf-8\"),\n",
    "    bootstrap_servers=[\"127.0.0.1:9092\"],\n",
    ")"
   ]
  },
  {
   "cell_type": "markdown",
   "metadata": {},
   "source": [
    "Run this cell and check in the dashboard that the \"New_Trd_Test\" has arrived - expected on top of the \"Trades Blotter\" table."
   ]
  },
  {
   "cell_type": "code",
   "execution_count": 45,
   "metadata": {},
   "outputs": [],
   "source": [
    "# Test trade\n",
    "trd = {\n",
    "    \"AsOfDate\": \"2020-07-09\",\n",
    "    \"TradeId\": \"New_Trd_Test\",\n",
    "    \"Ticker\": \"OXY\",\n",
    "    \"Book\": \"EQ_VOL_HED\",\n",
    "    \"Product\": \"EQ_Option\",\n",
    "    \"Quantity\": 45,\n",
    "    \"Strike\": -31.41249430583221,\n",
    "    \"Maturity\": \"2022-10-01\",\n",
    "    \"OptionType\": \"put\",\n",
    "    \"MarketValue\": 89.43425919208067,\n",
    "}\n",
    "\n",
    "l = producer.send(\"trades\", trd)"
   ]
  },
  {
   "cell_type": "markdown",
   "metadata": {},
   "source": [
    "To see the messages, the following command can be run:\n",
    "    \n",
    "```\n",
    "docker exec -it real-time-risk_kafka_1 /opt/bitnami/kafka/bin/kafka-console-consumer.sh --bootstrap-server localhost:9092 --topic trades --from-beginning\n",
    "```"
   ]
  },
  {
   "cell_type": "markdown",
   "metadata": {},
   "source": [
    "In the following cell, I'm creating a function that will generate random trades."
   ]
  },
  {
   "cell_type": "code",
   "execution_count": 46,
   "metadata": {},
   "outputs": [],
   "source": [
    "def generate_a_new_trade(id):\n",
    "\n",
    "    # this function is generating trades data (random)\n",
    "\n",
    "    trade = {\n",
    "        \"AsOfDate\": \"2020-07-09\",\n",
    "        \"TradeId\": \"New_Trade_\" + str(id),\n",
    "        \"Ticker\": random.choice([\"AAPL\", \"MSFT\", \"OXY\"]),\n",
    "        \"Book\": random.choice(\n",
    "            [\"EQ_LARG_DM\", \"EQ_SMAL_EM\", \"EQ_STRUCT\", \"EQ_VOL_HED\", \"EQ_WAREHOU\"]\n",
    "        ),\n",
    "        \"Product\": \"EQ_Option\",\n",
    "        \"Quantity\": random.randrange(-100, 100),\n",
    "        \"Strike\": random.uniform(-100, 100),\n",
    "        \"Maturity\": \"2022-10-01\",\n",
    "        \"OptionType\": \"put\",\n",
    "        \"MarketValue\": random.uniform(-100, 100),\n",
    "    }\n",
    "\n",
    "    print(\"A new trade generated:\")\n",
    "    print(json.dumps(trade, indent=4))\n",
    "\n",
    "    return trade"
   ]
  },
  {
   "cell_type": "markdown",
   "metadata": {},
   "source": [
    "Let's check that we can see updates in the real-time dashboard:"
   ]
  },
  {
   "cell_type": "code",
   "execution_count": 47,
   "metadata": {},
   "outputs": [
    {
     "data": {
      "text/plain": [
       "'http://localhost:53758/#/dashboard/af9'"
      ]
     },
     "execution_count": 47,
     "metadata": {},
     "output_type": "execute_result"
    }
   ],
   "source": [
    "session.url + \"/#/dashboard/af9\""
   ]
  },
  {
   "cell_type": "markdown",
   "metadata": {},
   "source": [
    "Run the following cell to publish a few new trades and see them appearing in the \"Trades Blotter\" widget"
   ]
  },
  {
   "cell_type": "code",
   "execution_count": 48,
   "metadata": {},
   "outputs": [
    {
     "name": "stdout",
     "output_type": "stream",
     "text": [
      "A new trade generated:\n",
      "{\n",
      "    \"AsOfDate\": \"2020-07-09\",\n",
      "    \"TradeId\": \"New_Trade_19\",\n",
      "    \"Ticker\": \"OXY\",\n",
      "    \"Book\": \"EQ_WAREHOU\",\n",
      "    \"Product\": \"EQ_Option\",\n",
      "    \"Quantity\": -76,\n",
      "    \"Strike\": -14.716010704099332,\n",
      "    \"Maturity\": \"2022-10-01\",\n",
      "    \"OptionType\": \"put\",\n",
      "    \"MarketValue\": 68.95958143188247\n",
      "}\n",
      "Published.\n",
      "\n"
     ]
    }
   ],
   "source": [
    "for i in range(20):\n",
    "    new_trade = generate_a_new_trade(i)\n",
    "\n",
    "    producer.send(\"trades\", new_trade)\n",
    "    print(\"Published.\\n\")\n",
    "    time.sleep(1)\n",
    "    clear_output(wait=True)"
   ]
  },
  {
   "cell_type": "markdown",
   "metadata": {},
   "source": [
    "<div style=\"text-align: center;\" ><a href=\"https://www.atoti.io/?utm_source=gallery&utm_content=real-time-risk\" target=\"_blank\" rel=\"noopener noreferrer\"><img src=\"https://data.atoti.io/notebooks/banners/discover-try.png\" alt=\"Try atoti\"></a></div>"
   ]
  }
 ],
 "metadata": {
  "kernelspec": {
   "display_name": "Python 3",
   "language": "python",
   "name": "python3"
  },
  "language_info": {
   "codemirror_mode": {
    "name": "ipython",
    "version": 3
   },
   "file_extension": ".py",
   "mimetype": "text/x-python",
   "name": "python",
   "nbconvert_exporter": "python",
   "pygments_lexer": "ipython3",
   "version": "3.9.2"
  }
 },
 "nbformat": 4,
 "nbformat_minor": 4
}
