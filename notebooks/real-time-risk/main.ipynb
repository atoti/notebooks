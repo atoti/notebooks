{
 "cells": [
  {
   "cell_type": "markdown",
   "metadata": {},
   "source": [
    "# Real-time aggregation with atoti"
   ]
  },
  {
   "cell_type": "markdown",
   "metadata": {},
   "source": [
    "## Introduction\n",
    "\n",
    "In our example we will create a real-time risk dashboard using atoti. We will explore the three methods for real-time updates: \n",
    "\n",
    "- monitoring **file updates**, \n",
    "- the **append** method and \n",
    "- subscribing to a **kafka feed** with a custom serializer.\n",
    "\n",
    "Using a finance use case as an example, we are going to perform the following:\n",
    "- simulate a live feed of market quotes \n",
    "- use QuantLib to recalculate sensitivities on the fly\n",
    "- stream updated risk numbers to an atoti-powered in-memory cube which will update our risk dashboard. \n",
    "- we will emulate real-time trading activity: every time a new trade arrives from kafka, a live \"trades_blotter\" widget in atoti app will blink to reflect the updates of measurements due to the new records. \n",
    "\n",
    "Have a look at the GIF of the running atoti application below. On the left, we have a real-time market data feed which is a replay of historical stock prices. On the bottom, there are our trades and on the right, we have risk data continuously re-calculated and re-aggregated at various levels. Every time market data is updated, a chain of actions is performed automatically, resulting in an update to the risk summary table. With this in mind, let’s dive deep into the details!\n",
    "\n",
    "<img src=\"./img/app-preview.gif\" alt=\"Real-time risk app preview\" width=\"75%\">"
   ]
  },
  {
   "cell_type": "markdown",
   "metadata": {},
   "source": [
    "# Imports"
   ]
  },
  {
   "cell_type": "code",
   "execution_count": null,
   "metadata": {},
   "outputs": [],
   "source": [
    "# !conda install -c conda-forge python-wget -y"
   ]
  },
  {
   "cell_type": "code",
   "execution_count": 1,
   "metadata": {},
   "outputs": [],
   "source": [
    "import json\n",
    "import random\n",
    "import time\n",
    "from datetime import datetime, timedelta\n",
    "import wget\n",
    "\n",
    "import pandas as pd\n",
    "from IPython.display import clear_output"
   ]
  },
  {
   "cell_type": "markdown",
   "metadata": {},
   "source": [
    "# atoti session\n",
    "\n",
    "The first step is to create atoti session for an in-memory data cube:"
   ]
  },
  {
   "cell_type": "code",
   "execution_count": 2,
   "metadata": {},
   "outputs": [
    {
     "name": "stdout",
     "output_type": "stream",
     "text": [
      "Welcome to atoti 0.4.3!\n",
      "\n",
      "By using this community edition, you agree with the license available at https://www.atoti.io/eula.\n",
      "Browse the official documentation at https://docs.atoti.io.\n",
      "Join the community at https://www.atoti.io/register.\n",
      "\n",
      "You can hide this message by setting the ATOTI_HIDE_EULA_MESSAGE environment variable to True.\n"
     ]
    }
   ],
   "source": [
    "import atoti as tt\n",
    "from atoti.config import create_config\n",
    "\n",
    "config = create_config(\n",
    "    metadata_db=\"./metadata.db\", max_memory=\"4G\", sampling_mode=tt.sampling.FULL\n",
    ")\n",
    "session = tt.create_session(config=config)"
   ]
  },
  {
   "cell_type": "markdown",
   "metadata": {},
   "source": [
    "# atoti for real-time update\n",
    "\n",
    "As we discussed, we have several live feeds in our app - *a market data feed* simulating the tick stock price time-series which is then producing *a feed of risk numbers* by recalculating option greeks with a Quantlib function. You can easily replace them with your own real time data sources - for example, live trade feeds, sensitivity updates, stress-testing numbers, etc. \n",
    "\n",
    "At the time of writing, atoti provides **three ways to implement real-time update**: \n",
    "\n",
    "- the first is by using the **reactive datastores** - it tells atoti to observe a file or a folder and fetch updates as soon as there are any, \n",
    "- the second is the **append** command that pushes new data into a datastore forcing re-calculation. \n",
    "- the third is to let a datastore listen to a **kafka feed**.\n",
    "\n",
    "All three methods are illustrated below.\n",
    "\n",
    "**Data visualization** in the atoti app supports the “continuous queries” feature, enabling widgets to automatically refresh the results every time a single contribution changes in the data store. You can toggle between “Turn on real-time”, “Refresh periodically” and “Pause query” for each widget in the atoti app, as shown in this picture:\n",
    "\n",
    "<img src=\"./img/widget-query-mode.png\" alt=\"Widget query mode\" width=\"50%\">"
   ]
  },
  {
   "cell_type": "markdown",
   "metadata": {},
   "source": [
    "We can create dashboards with the atoti application that comes with the library. Click on the below link to access atoti application."
   ]
  },
  {
   "cell_type": "code",
   "execution_count": 36,
   "metadata": {},
   "outputs": [
    {
     "data": {
      "text/plain": [
       "'http://localhost:59112'"
      ]
     },
     "execution_count": 36,
     "metadata": {},
     "output_type": "execute_result"
    }
   ],
   "source": [
    "session.url"
   ]
  },
  {
   "cell_type": "markdown",
   "metadata": {},
   "source": [
    "# atoti data cube"
   ]
  },
  {
   "cell_type": "markdown",
   "metadata": {},
   "source": [
    "Let's create a cube with two datastores: one for the market data and one for the risk metrics. \n",
    "\n",
    "### 1. Real-time via file/folder monitoring\n",
    "\n",
    "We implement file and folder monitoring at the point of datastore creation as shown below.  \n",
    "As we create the `sensitivity_store` and connecting it to a source, in our case a csv file on disc, we set the parameter `watch` to `True`.\n",
    "\n",
    "The parameter `watch = True` makes the `sensitivities_store` fetch the updates from the file on the disk automatically when it changes. The parameter `watch` is available for `read_csv` and `read_parquet` functions, as described in the [atoti doc](https://docs.atoti.io/0.4.2/lib/atoti.html?highlight=watch#atoti.session.Session.read_csv).  "
   ]
  },
  {
   "cell_type": "code",
   "execution_count": 3,
   "metadata": {},
   "outputs": [],
   "source": [
    "sensitivities_store = session.read_csv(\n",
    "    \"./dynamic-input-files/\",\n",
    "    keys=[\"AsOfDate\", \"TradeId\", \"RiskFactor\"],\n",
    "    store_name=\"Sensitivities\",\n",
    "    types={\"TradeId\": tt.types.STRING, \"AsOfDate\": tt.types.LOCAL_DATE},\n",
    "    watch=True,\n",
    ")"
   ]
  },
  {
   "cell_type": "markdown",
   "metadata": {},
   "source": [
    "After creating the cube, we can start data exploration:"
   ]
  },
  {
   "cell_type": "code",
   "execution_count": 4,
   "metadata": {},
   "outputs": [],
   "source": [
    "cube = session.create_cube(sensitivities_store, \"Sensitivities\")"
   ]
  },
  {
   "cell_type": "markdown",
   "metadata": {},
   "source": [
    "Let's do a quick visualization to view the Market Value and Delta measures from the initial source file.  \n",
    "The following command serves for a quick inline atoti visualization:"
   ]
  },
  {
   "cell_type": "code",
   "execution_count": 5,
   "metadata": {
    "atoti": {
     "state": {
      "name": "Initial risk data",
      "type": "container",
      "value": {
       "body": {
        "configuration": {
         "tabular": {
          "addButtonFilter": "numeric",
          "cellRenderers": [
           "tree-layout"
          ],
          "columnsGroups": [
           {
            "captionProducer": "firstColumn",
            "cellFactory": "kpi-status",
            "selector": "kpi-status"
           },
           {
            "captionProducer": "firstColumn",
            "cellFactory": "lookup",
            "selector": "lookup"
           },
           {
            "captionProducer": "expiry",
            "cellFactory": "expiry",
            "selector": "kpi-expiry"
           },
           {
            "captionProducer": "columnMerge",
            "cellFactory": {
             "args": {},
             "key": "treeCells"
            },
            "selector": "member"
           }
          ],
          "defaultOptions": {},
          "expansion": {
           "automaticExpansion": true
          },
          "hideAddButton": true,
          "pinnedHeaderSelector": "member",
          "sortingMode": "non-breaking",
          "statisticsShown": true
         }
        },
        "contextValues": {},
        "mdx": "SELECT NON EMPTY Crossjoin([Hierarchies].[AsOfDate].[AsOfDate].Members, [Hierarchies].[RiskFactor].[RiskFactor].Members) ON ROWS, NON EMPTY {[Measures].[MarketValue.SUM], [Measures].[Delta.SUM]} ON COLUMNS FROM [Sensitivities] CELL PROPERTIES VALUE, FORMATTED_VALUE, BACK_COLOR, FORE_COLOR, FONT_FLAGS",
        "ranges": {
         "column": {
          "chunkSize": 50,
          "thresholdPercentage": 0.2
         },
         "row": {
          "chunkSize": 2000,
          "thresholdPercentage": 0.1
         }
        },
        "serverUrl": "",
        "updateMode": "once"
       },
       "containerKey": "pivot-table",
       "showTitleBar": false,
       "style": {}
      }
     }
    }
   },
   "outputs": [
    {
     "data": {
      "application/vnd.atoti.v0+json": {
       "cellSet": {
        "axes": [
         {
          "hierarchies": [
           {
            "dimension": "Measures",
            "hierarchy": "Measures"
           }
          ],
          "id": 0,
          "positions": [
           [
            {
             "captionPath": [
              "MarketValue.SUM"
             ],
             "namePath": [
              "MarketValue.SUM"
             ],
             "properties": {
              "DISPLAY_INFO": 0
             }
            }
           ],
           [
            {
             "captionPath": [
              "Delta.SUM"
             ],
             "namePath": [
              "Delta.SUM"
             ],
             "properties": {
              "DISPLAY_INFO": 0
             }
            }
           ]
          ]
         },
         {
          "hierarchies": [
           {
            "dimension": "Hierarchies",
            "hierarchy": "AsOfDate"
           },
           {
            "dimension": "Hierarchies",
            "hierarchy": "RiskFactor"
           }
          ],
          "id": 1,
          "positions": [
           [
            {
             "captionPath": [
              "AllMember",
              "2020-07-09"
             ],
             "namePath": [
              "AllMember",
              "2020-07-09"
             ],
             "properties": {
              "DISPLAY_INFO": 0
             }
            },
            {
             "captionPath": [
              "AllMember",
              "AAPL"
             ],
             "namePath": [
              "AllMember",
              "AAPL"
             ],
             "properties": {
              "DISPLAY_INFO": 0
             }
            }
           ],
           [
            {
             "captionPath": [
              "AllMember",
              "2020-07-09"
             ],
             "namePath": [
              "AllMember",
              "2020-07-09"
             ],
             "properties": {
              "DISPLAY_INFO": 131072
             }
            },
            {
             "captionPath": [
              "AllMember",
              "MSFT"
             ],
             "namePath": [
              "AllMember",
              "MSFT"
             ],
             "properties": {
              "DISPLAY_INFO": 131072
             }
            }
           ],
           [
            {
             "captionPath": [
              "AllMember",
              "2020-07-09"
             ],
             "namePath": [
              "AllMember",
              "2020-07-09"
             ],
             "properties": {
              "DISPLAY_INFO": 131072
             }
            },
            {
             "captionPath": [
              "AllMember",
              "OXY"
             ],
             "namePath": [
              "AllMember",
              "OXY"
             ],
             "properties": {
              "DISPLAY_INFO": 131072
             }
            }
           ]
          ]
         }
        ],
        "cells": [
         {
          "formattedValue": "1,385.15",
          "ordinal": 0,
          "properties": {
           "BACK_COLOR": null,
           "FONT_FLAGS": 0,
           "FORE_COLOR": null
          },
          "value": 1385.147142934771
         },
         {
          "formattedValue": "-3,006.57",
          "ordinal": 1,
          "properties": {
           "BACK_COLOR": null,
           "FONT_FLAGS": 0,
           "FORE_COLOR": null
          },
          "value": -3006.572140716051
         },
         {
          "formattedValue": "604.80",
          "ordinal": 2,
          "properties": {
           "BACK_COLOR": null,
           "FONT_FLAGS": 0,
           "FORE_COLOR": null
          },
          "value": 604.7991152352407
         },
         {
          "formattedValue": "34,838.15",
          "ordinal": 3,
          "properties": {
           "BACK_COLOR": null,
           "FONT_FLAGS": 0,
           "FORE_COLOR": null
          },
          "value": 34838.149988660036
         },
         {
          "formattedValue": "10.31",
          "ordinal": 4,
          "properties": {
           "BACK_COLOR": null,
           "FONT_FLAGS": 0,
           "FORE_COLOR": null
          },
          "value": 10.314787531147882
         },
         {
          "formattedValue": "-225.92",
          "ordinal": 5,
          "properties": {
           "BACK_COLOR": null,
           "FONT_FLAGS": 0,
           "FORE_COLOR": null
          },
          "value": -225.91698587544101
         }
        ],
        "cube": "Sensitivities",
        "defaultMembers": [
         {
          "captionPath": [
           "Count"
          ],
          "dimension": "Measures",
          "hierarchy": "Measures",
          "path": [
           "contributors.COUNT"
          ]
         },
         {
          "captionPath": [
           "Base"
          ],
          "dimension": "Epoch",
          "hierarchy": "Epoch",
          "path": [
           "Base"
          ]
         }
        ],
        "epoch": 1
       },
       "cube": "Sensitivities",
       "error": null,
       "name": "Initial risk data",
       "session": "Unnamed"
      },
      "text/plain": [
       "Open the notebook in JupyterLab with the atoti extension installed and enabled to see this widget."
      ]
     },
     "metadata": {},
     "output_type": "display_data"
    }
   ],
   "source": [
    "cube.visualize(\"Initial risk data\")"
   ]
  },
  {
   "cell_type": "markdown",
   "metadata": {},
   "source": [
    "Let's download portfolio from the previous business day into the same folder"
   ]
  },
  {
   "cell_type": "code",
   "execution_count": 6,
   "metadata": {},
   "outputs": [
    {
     "data": {
      "text/plain": [
       "'./dynamic-input-files/risk_data_previous_cob.csv'"
      ]
     },
     "execution_count": 6,
     "metadata": {},
     "output_type": "execute_result"
    }
   ],
   "source": [
    "wget.download(\n",
    "    \"https://data.atoti.io/notebooks/real-time-risk/static-input-files/risk_data_previous_cob.csv\",\n",
    "    \"./dynamic-input-files\",\n",
    ")"
   ]
  },
  {
   "cell_type": "code",
   "execution_count": 7,
   "metadata": {
    "atoti": {
     "state": {
      "name": "Risk data after uploading 8th of July",
      "type": "container",
      "value": {
       "body": {
        "configuration": {
         "tabular": {
          "addButtonFilter": "numeric",
          "cellRenderers": [
           "tree-layout"
          ],
          "columnsGroups": [
           {
            "captionProducer": "firstColumn",
            "cellFactory": "kpi-status",
            "selector": "kpi-status"
           },
           {
            "captionProducer": "firstColumn",
            "cellFactory": "lookup",
            "selector": "lookup"
           },
           {
            "captionProducer": "expiry",
            "cellFactory": "expiry",
            "selector": "kpi-expiry"
           },
           {
            "captionProducer": "columnMerge",
            "cellFactory": {
             "args": {},
             "key": "treeCells"
            },
            "selector": "member"
           }
          ],
          "defaultOptions": {},
          "expansion": {
           "automaticExpansion": true
          },
          "hideAddButton": true,
          "pinnedHeaderSelector": "member",
          "sortingMode": "non-breaking",
          "statisticsShown": true
         }
        },
        "contextValues": {},
        "mdx": "SELECT NON EMPTY Crossjoin([Hierarchies].[AsOfDate].[AsOfDate].Members, [Hierarchies].[RiskFactor].[RiskFactor].Members) ON ROWS, NON EMPTY {[Measures].[MarketValue.SUM], [Measures].[Delta.SUM]} ON COLUMNS FROM [Sensitivities] CELL PROPERTIES VALUE, FORMATTED_VALUE, BACK_COLOR, FORE_COLOR, FONT_FLAGS",
        "ranges": {
         "column": {
          "chunkSize": 50,
          "thresholdPercentage": 0.2
         },
         "row": {
          "chunkSize": 2000,
          "thresholdPercentage": 0.1
         }
        },
        "serverUrl": "",
        "updateMode": "once"
       },
       "containerKey": "pivot-table",
       "showTitleBar": false,
       "style": {}
      }
     }
    }
   },
   "outputs": [
    {
     "data": {
      "application/vnd.atoti.v0+json": {
       "cellSet": {
        "axes": [
         {
          "hierarchies": [
           {
            "dimension": "Measures",
            "hierarchy": "Measures"
           }
          ],
          "id": 0,
          "positions": [
           [
            {
             "captionPath": [
              "MarketValue.SUM"
             ],
             "namePath": [
              "MarketValue.SUM"
             ],
             "properties": {
              "DISPLAY_INFO": 0
             }
            }
           ],
           [
            {
             "captionPath": [
              "Delta.SUM"
             ],
             "namePath": [
              "Delta.SUM"
             ],
             "properties": {
              "DISPLAY_INFO": 0
             }
            }
           ]
          ]
         },
         {
          "hierarchies": [
           {
            "dimension": "Hierarchies",
            "hierarchy": "AsOfDate"
           },
           {
            "dimension": "Hierarchies",
            "hierarchy": "RiskFactor"
           }
          ],
          "id": 1,
          "positions": [
           [
            {
             "captionPath": [
              "AllMember",
              "2020-07-08"
             ],
             "namePath": [
              "AllMember",
              "2020-07-08"
             ],
             "properties": {
              "DISPLAY_INFO": 0
             }
            },
            {
             "captionPath": [
              "AllMember",
              "AAPL"
             ],
             "namePath": [
              "AllMember",
              "AAPL"
             ],
             "properties": {
              "DISPLAY_INFO": 0
             }
            }
           ],
           [
            {
             "captionPath": [
              "AllMember",
              "2020-07-08"
             ],
             "namePath": [
              "AllMember",
              "2020-07-08"
             ],
             "properties": {
              "DISPLAY_INFO": 131072
             }
            },
            {
             "captionPath": [
              "AllMember",
              "MSFT"
             ],
             "namePath": [
              "AllMember",
              "MSFT"
             ],
             "properties": {
              "DISPLAY_INFO": 131072
             }
            }
           ],
           [
            {
             "captionPath": [
              "AllMember",
              "2020-07-08"
             ],
             "namePath": [
              "AllMember",
              "2020-07-08"
             ],
             "properties": {
              "DISPLAY_INFO": 131072
             }
            },
            {
             "captionPath": [
              "AllMember",
              "OXY"
             ],
             "namePath": [
              "AllMember",
              "OXY"
             ],
             "properties": {
              "DISPLAY_INFO": 131072
             }
            }
           ],
           [
            {
             "captionPath": [
              "AllMember",
              "2020-07-09"
             ],
             "namePath": [
              "AllMember",
              "2020-07-09"
             ],
             "properties": {
              "DISPLAY_INFO": 131072
             }
            },
            {
             "captionPath": [
              "AllMember",
              "AAPL"
             ],
             "namePath": [
              "AllMember",
              "AAPL"
             ],
             "properties": {
              "DISPLAY_INFO": 131072
             }
            }
           ],
           [
            {
             "captionPath": [
              "AllMember",
              "2020-07-09"
             ],
             "namePath": [
              "AllMember",
              "2020-07-09"
             ],
             "properties": {
              "DISPLAY_INFO": 131072
             }
            },
            {
             "captionPath": [
              "AllMember",
              "MSFT"
             ],
             "namePath": [
              "AllMember",
              "MSFT"
             ],
             "properties": {
              "DISPLAY_INFO": 131072
             }
            }
           ],
           [
            {
             "captionPath": [
              "AllMember",
              "2020-07-09"
             ],
             "namePath": [
              "AllMember",
              "2020-07-09"
             ],
             "properties": {
              "DISPLAY_INFO": 131072
             }
            },
            {
             "captionPath": [
              "AllMember",
              "OXY"
             ],
             "namePath": [
              "AllMember",
              "OXY"
             ],
             "properties": {
              "DISPLAY_INFO": 131072
             }
            }
           ]
          ]
         }
        ],
        "cells": [
         {
          "formattedValue": "1,405.72",
          "ordinal": 0,
          "properties": {
           "BACK_COLOR": null,
           "FONT_FLAGS": 0,
           "FORE_COLOR": null
          },
          "value": 1405.72172207334
         },
         {
          "formattedValue": "-2,492.01",
          "ordinal": 1,
          "properties": {
           "BACK_COLOR": null,
           "FONT_FLAGS": 0,
           "FORE_COLOR": null
          },
          "value": -2492.010867999814
         },
         {
          "formattedValue": "624.77",
          "ordinal": 2,
          "properties": {
           "BACK_COLOR": null,
           "FONT_FLAGS": 0,
           "FORE_COLOR": null
          },
          "value": 624.7732087081811
         },
         {
          "formattedValue": "34,970.47",
          "ordinal": 3,
          "properties": {
           "BACK_COLOR": null,
           "FONT_FLAGS": 0,
           "FORE_COLOR": null
          },
          "value": 34970.4651574935
         },
         {
          "formattedValue": "9.87",
          "ordinal": 4,
          "properties": {
           "BACK_COLOR": null,
           "FONT_FLAGS": 0,
           "FORE_COLOR": null
          },
          "value": 9.866746118894971
         },
         {
          "formattedValue": "-150.60",
          "ordinal": 5,
          "properties": {
           "BACK_COLOR": null,
           "FONT_FLAGS": 0,
           "FORE_COLOR": null
          },
          "value": -150.60196942934473
         },
         {
          "formattedValue": "1,385.15",
          "ordinal": 6,
          "properties": {
           "BACK_COLOR": null,
           "FONT_FLAGS": 0,
           "FORE_COLOR": null
          },
          "value": 1385.147142934771
         },
         {
          "formattedValue": "-3,006.57",
          "ordinal": 7,
          "properties": {
           "BACK_COLOR": null,
           "FONT_FLAGS": 0,
           "FORE_COLOR": null
          },
          "value": -3006.572140716051
         },
         {
          "formattedValue": "604.80",
          "ordinal": 8,
          "properties": {
           "BACK_COLOR": null,
           "FONT_FLAGS": 0,
           "FORE_COLOR": null
          },
          "value": 604.7991152352407
         },
         {
          "formattedValue": "34,838.15",
          "ordinal": 9,
          "properties": {
           "BACK_COLOR": null,
           "FONT_FLAGS": 0,
           "FORE_COLOR": null
          },
          "value": 34838.149988660036
         },
         {
          "formattedValue": "10.31",
          "ordinal": 10,
          "properties": {
           "BACK_COLOR": null,
           "FONT_FLAGS": 0,
           "FORE_COLOR": null
          },
          "value": 10.314787531147882
         },
         {
          "formattedValue": "-225.92",
          "ordinal": 11,
          "properties": {
           "BACK_COLOR": null,
           "FONT_FLAGS": 0,
           "FORE_COLOR": null
          },
          "value": -225.91698587544101
         }
        ],
        "cube": "Sensitivities",
        "defaultMembers": [
         {
          "captionPath": [
           "Count"
          ],
          "dimension": "Measures",
          "hierarchy": "Measures",
          "path": [
           "contributors.COUNT"
          ]
         },
         {
          "captionPath": [
           "Base"
          ],
          "dimension": "Epoch",
          "hierarchy": "Epoch",
          "path": [
           "Base"
          ]
         }
        ],
        "epoch": 2
       },
       "cube": "Sensitivities",
       "error": null,
       "name": "Risk data after uploading 8th of July",
       "session": "Unnamed"
      },
      "text/plain": [
       "Open the notebook in JupyterLab with the atoti extension installed and enabled to see this widget."
      ]
     },
     "metadata": {},
     "output_type": "display_data"
    }
   ],
   "source": [
    "cube.visualize(\"Risk data after uploading 8th of July\")"
   ]
  },
  {
   "cell_type": "markdown",
   "metadata": {},
   "source": [
    "### 2. Real-time via datastore `append` function\n",
    "\n",
    "To implement real-time instrument prices, we’ll be pushing new values using the datastore `append` command. In the following cell, we're creating the `market_data_store`. As you probably noticed, we are not setting the `watch` parameter as in the previous example, as it defaults to `False`:"
   ]
  },
  {
   "cell_type": "code",
   "execution_count": 8,
   "metadata": {},
   "outputs": [],
   "source": [
    "market_data_store = session.read_csv(\n",
    "    \"s3://data.atoti.io/notebooks/real-time-risk/static-input-files/market_data.csv\",\n",
    "    keys=[\"AsOfDate\", \"Instrument\"],\n",
    "    store_name=\"Market Data Store\",\n",
    "    types={\n",
    "        \"AsOfDate\": tt.types.LOCAL_DATE,\n",
    "        \"Instrument\": tt.types.STRING,\n",
    "        \"Quote\": tt.types.DOUBLE,\n",
    "    },\n",
    ")"
   ]
  },
  {
   "cell_type": "markdown",
   "metadata": {},
   "source": [
    "Displaying the current state of the `market data store`:"
   ]
  },
  {
   "cell_type": "code",
   "execution_count": 9,
   "metadata": {},
   "outputs": [
    {
     "data": {
      "text/html": [
       "<div>\n",
       "<style scoped>\n",
       "    .dataframe tbody tr th:only-of-type {\n",
       "        vertical-align: middle;\n",
       "    }\n",
       "\n",
       "    .dataframe tbody tr th {\n",
       "        vertical-align: top;\n",
       "    }\n",
       "\n",
       "    .dataframe thead th {\n",
       "        text-align: right;\n",
       "    }\n",
       "</style>\n",
       "<table border=\"1\" class=\"dataframe\">\n",
       "  <thead>\n",
       "    <tr style=\"text-align: right;\">\n",
       "      <th></th>\n",
       "      <th></th>\n",
       "      <th>Quote</th>\n",
       "    </tr>\n",
       "    <tr>\n",
       "      <th>AsOfDate</th>\n",
       "      <th>Instrument</th>\n",
       "      <th></th>\n",
       "    </tr>\n",
       "  </thead>\n",
       "  <tbody>\n",
       "    <tr>\n",
       "      <th rowspan=\"3\" valign=\"top\">2020-07-08</th>\n",
       "      <th>OXY</th>\n",
       "      <td>16.23</td>\n",
       "    </tr>\n",
       "    <tr>\n",
       "      <th>MSFT</th>\n",
       "      <td>214.00</td>\n",
       "    </tr>\n",
       "    <tr>\n",
       "      <th>AAPL</th>\n",
       "      <td>380.00</td>\n",
       "    </tr>\n",
       "  </tbody>\n",
       "</table>\n",
       "</div>"
      ],
      "text/plain": [
       "                        Quote\n",
       "AsOfDate   Instrument        \n",
       "2020-07-08 OXY          16.23\n",
       "           MSFT        214.00\n",
       "           AAPL        380.00"
      ]
     },
     "execution_count": 9,
     "metadata": {},
     "output_type": "execute_result"
    }
   ],
   "source": [
    "market_data_store.head(5)"
   ]
  },
  {
   "cell_type": "markdown",
   "metadata": {},
   "source": [
    "At any time, we can use the `append` command to inject new records, for example:"
   ]
  },
  {
   "cell_type": "code",
   "execution_count": 10,
   "metadata": {},
   "outputs": [
    {
     "data": {
      "text/html": [
       "<div>\n",
       "<style scoped>\n",
       "    .dataframe tbody tr th:only-of-type {\n",
       "        vertical-align: middle;\n",
       "    }\n",
       "\n",
       "    .dataframe tbody tr th {\n",
       "        vertical-align: top;\n",
       "    }\n",
       "\n",
       "    .dataframe thead th {\n",
       "        text-align: right;\n",
       "    }\n",
       "</style>\n",
       "<table border=\"1\" class=\"dataframe\">\n",
       "  <thead>\n",
       "    <tr style=\"text-align: right;\">\n",
       "      <th></th>\n",
       "      <th></th>\n",
       "      <th>Quote</th>\n",
       "    </tr>\n",
       "    <tr>\n",
       "      <th>AsOfDate</th>\n",
       "      <th>Instrument</th>\n",
       "      <th></th>\n",
       "    </tr>\n",
       "  </thead>\n",
       "  <tbody>\n",
       "    <tr>\n",
       "      <th rowspan=\"3\" valign=\"top\">2020-07-08</th>\n",
       "      <th>OXY</th>\n",
       "      <td>16.23</td>\n",
       "    </tr>\n",
       "    <tr>\n",
       "      <th>MSFT</th>\n",
       "      <td>214.00</td>\n",
       "    </tr>\n",
       "    <tr>\n",
       "      <th>AAPL</th>\n",
       "      <td>380.00</td>\n",
       "    </tr>\n",
       "    <tr>\n",
       "      <th rowspan=\"2\" valign=\"top\">2020-07-09</th>\n",
       "      <th>AAPL</th>\n",
       "      <td>381.00</td>\n",
       "    </tr>\n",
       "    <tr>\n",
       "      <th>OXY</th>\n",
       "      <td>16.80</td>\n",
       "    </tr>\n",
       "  </tbody>\n",
       "</table>\n",
       "</div>"
      ],
      "text/plain": [
       "                        Quote\n",
       "AsOfDate   Instrument        \n",
       "2020-07-08 OXY          16.23\n",
       "           MSFT        214.00\n",
       "           AAPL        380.00\n",
       "2020-07-09 AAPL        381.00\n",
       "           OXY          16.80"
      ]
     },
     "execution_count": 10,
     "metadata": {},
     "output_type": "execute_result"
    }
   ],
   "source": [
    "market_data_store.append((\"2020-07-09\", \"AAPL\", 381.0))\n",
    "market_data_store.append((\"2020-07-09\", \"OXY\", 16.8))\n",
    "market_data_store.append((\"2020-07-09\", \"MSFT\", 215.0))\n",
    "market_data_store.head(5)"
   ]
  },
  {
   "cell_type": "markdown",
   "metadata": {},
   "source": [
    "This `join` will link the `sensitivities_store` and the `market_data_store` and allow displaying sensitivities next to quotes."
   ]
  },
  {
   "cell_type": "code",
   "execution_count": 11,
   "metadata": {},
   "outputs": [],
   "source": [
    "sensitivities_store.join(\n",
    "    market_data_store, mapping={\"AsOfDate\": \"AsOfDate\", \"RiskFactor\": \"Instrument\"}\n",
    ")"
   ]
  },
  {
   "cell_type": "markdown",
   "metadata": {},
   "source": [
    "Current state of the data model can be visualized by the following command:"
   ]
  },
  {
   "cell_type": "code",
   "execution_count": 12,
   "metadata": {},
   "outputs": [
    {
     "data": {
      "image/svg+xml": [
       "<svg xmlns=\"http://www.w3.org/2000/svg\" xmlns:xlink=\"http://www.w3.org/1999/xlink\" width=\"581px\" height=\"162px\" viewBox=\"0.00 0.00 581.00 162.00\">\n",
       "<g id=\"graph0\" class=\"graph\" transform=\"scale(1.0 1.0) rotate(0) translate(4 158)\">\n",
       "<title>Sensitivities schema</title>\n",
       "<polygon fill=\"white\" stroke=\"transparent\" points=\"-4,4 -4,-158 577,-158 577,4 -4,4\"/>\n",
       "<!-- Sensitivities -->\n",
       "<g id=\"node1\" class=\"node\">\n",
       "<title>Sensitivities</title>\n",
       "<text text-anchor=\"start\" x=\"63\" y=\"-134.6\" font-family=\"-apple-system, BlinkMacSystemFont, 'Segoe UI', Helvetica, Arial, sans-serif, 'Apple Color Emoji', 'Segoe UI Emoji', 'Segoe UI Symbol'\" font-weight=\"bold\" font-size=\"13.00\">Sensitivities</text>\n",
       "<polygon fill=\"#f5f5f5\" stroke=\"transparent\" points=\"9,-101 9,-125 41,-125 41,-101 9,-101\"/>\n",
       "<text text-anchor=\"start\" x=\"14\" y=\"-110.6\" font-family=\"-apple-system, BlinkMacSystemFont, 'Segoe UI', Helvetica, Arial, sans-serif, 'Apple Color Emoji', 'Segoe UI Emoji', 'Segoe UI Symbol'\" font-weight=\"bold\" font-size=\"13.00\">key</text>\n",
       "<polygon fill=\"#f5f5f5\" stroke=\"transparent\" points=\"41,-101 41,-125 124,-125 124,-101 41,-101\"/>\n",
       "<text text-anchor=\"start\" x=\"46\" y=\"-109.6\" font-family=\"-apple-system, BlinkMacSystemFont, 'Segoe UI', Helvetica, Arial, sans-serif, 'Apple Color Emoji', 'Segoe UI Emoji', 'Segoe UI Symbol'\" font-size=\"13.00\">AsOfDate</text>\n",
       "<polygon fill=\"#f5f5f5\" stroke=\"transparent\" points=\"124,-101 124,-125 193,-125 193,-101 124,-101\"/>\n",
       "<text text-anchor=\"start\" x=\"129\" y=\"-110.6\" font-family=\"-apple-system, BlinkMacSystemFont, 'Segoe UI', Helvetica, Arial, sans-serif, 'Apple Color Emoji', 'Segoe UI Emoji', 'Segoe UI Symbol'\" font-style=\"italic\" font-size=\"13.00\">LocalDate</text>\n",
       "<polygon fill=\"#ffffff\" stroke=\"transparent\" points=\"9,-77 9,-101 41,-101 41,-77 9,-77\"/>\n",
       "<text text-anchor=\"start\" x=\"14\" y=\"-86.6\" font-family=\"-apple-system, BlinkMacSystemFont, 'Segoe UI', Helvetica, Arial, sans-serif, 'Apple Color Emoji', 'Segoe UI Emoji', 'Segoe UI Symbol'\" font-weight=\"bold\" font-size=\"13.00\">key</text>\n",
       "<polygon fill=\"#ffffff\" stroke=\"transparent\" points=\"41,-77 41,-101 124,-101 124,-77 41,-77\"/>\n",
       "<text text-anchor=\"start\" x=\"46\" y=\"-85.6\" font-family=\"-apple-system, BlinkMacSystemFont, 'Segoe UI', Helvetica, Arial, sans-serif, 'Apple Color Emoji', 'Segoe UI Emoji', 'Segoe UI Symbol'\" font-size=\"13.00\">TradeId</text>\n",
       "<polygon fill=\"#ffffff\" stroke=\"transparent\" points=\"124,-77 124,-101 193,-101 193,-77 124,-77\"/>\n",
       "<text text-anchor=\"start\" x=\"154\" y=\"-86.6\" font-family=\"-apple-system, BlinkMacSystemFont, 'Segoe UI', Helvetica, Arial, sans-serif, 'Apple Color Emoji', 'Segoe UI Emoji', 'Segoe UI Symbol'\" font-style=\"italic\" font-size=\"13.00\">String</text>\n",
       "<polygon fill=\"#f5f5f5\" stroke=\"transparent\" points=\"9,-53 9,-77 41,-77 41,-53 9,-53\"/>\n",
       "<text text-anchor=\"start\" x=\"14\" y=\"-62.6\" font-family=\"-apple-system, BlinkMacSystemFont, 'Segoe UI', Helvetica, Arial, sans-serif, 'Apple Color Emoji', 'Segoe UI Emoji', 'Segoe UI Symbol'\" font-weight=\"bold\" font-size=\"13.00\">key</text>\n",
       "<polygon fill=\"#f5f5f5\" stroke=\"transparent\" points=\"41,-53 41,-77 124,-77 124,-53 41,-53\"/>\n",
       "<text text-anchor=\"start\" x=\"46\" y=\"-61.6\" font-family=\"-apple-system, BlinkMacSystemFont, 'Segoe UI', Helvetica, Arial, sans-serif, 'Apple Color Emoji', 'Segoe UI Emoji', 'Segoe UI Symbol'\" font-size=\"13.00\">RiskFactor</text>\n",
       "<polygon fill=\"#f5f5f5\" stroke=\"transparent\" points=\"124,-53 124,-77 193,-77 193,-53 124,-53\"/>\n",
       "<text text-anchor=\"start\" x=\"154\" y=\"-62.6\" font-family=\"-apple-system, BlinkMacSystemFont, 'Segoe UI', Helvetica, Arial, sans-serif, 'Apple Color Emoji', 'Segoe UI Emoji', 'Segoe UI Symbol'\" font-style=\"italic\" font-size=\"13.00\">String</text>\n",
       "<polygon fill=\"#ffffff\" stroke=\"transparent\" points=\"9,-29 9,-53 41,-53 41,-29 9,-29\"/>\n",
       "<polygon fill=\"#ffffff\" stroke=\"transparent\" points=\"41,-29 41,-53 124,-53 124,-29 41,-29\"/>\n",
       "<text text-anchor=\"start\" x=\"46\" y=\"-37.6\" font-family=\"-apple-system, BlinkMacSystemFont, 'Segoe UI', Helvetica, Arial, sans-serif, 'Apple Color Emoji', 'Segoe UI Emoji', 'Segoe UI Symbol'\" font-size=\"13.00\">MarketValue</text>\n",
       "<polygon fill=\"#ffffff\" stroke=\"transparent\" points=\"124,-29 124,-53 193,-53 193,-29 124,-29\"/>\n",
       "<text text-anchor=\"start\" x=\"148\" y=\"-38.6\" font-family=\"-apple-system, BlinkMacSystemFont, 'Segoe UI', Helvetica, Arial, sans-serif, 'Apple Color Emoji', 'Segoe UI Emoji', 'Segoe UI Symbol'\" font-style=\"italic\" font-size=\"13.00\">double</text>\n",
       "<polygon fill=\"#f5f5f5\" stroke=\"transparent\" points=\"9,-5 9,-29 41,-29 41,-5 9,-5\"/>\n",
       "<polygon fill=\"#f5f5f5\" stroke=\"transparent\" points=\"41,-5 41,-29 124,-29 124,-5 41,-5\"/>\n",
       "<text text-anchor=\"start\" x=\"46\" y=\"-13.6\" font-family=\"-apple-system, BlinkMacSystemFont, 'Segoe UI', Helvetica, Arial, sans-serif, 'Apple Color Emoji', 'Segoe UI Emoji', 'Segoe UI Symbol'\" font-size=\"13.00\">Delta</text>\n",
       "<polygon fill=\"#f5f5f5\" stroke=\"transparent\" points=\"124,-5 124,-29 193,-29 193,-5 124,-5\"/>\n",
       "<text text-anchor=\"start\" x=\"148\" y=\"-14.6\" font-family=\"-apple-system, BlinkMacSystemFont, 'Segoe UI', Helvetica, Arial, sans-serif, 'Apple Color Emoji', 'Segoe UI Emoji', 'Segoe UI Symbol'\" font-style=\"italic\" font-size=\"13.00\">double</text>\n",
       "<polygon fill=\"none\" stroke=\"black\" points=\"8,-4 8,-150 194,-150 194,-4 8,-4\"/>\n",
       "</g>\n",
       "<!-- Market Data Store -->\n",
       "<g id=\"node2\" class=\"node\">\n",
       "<title>Market Data Store</title>\n",
       "<text text-anchor=\"start\" x=\"422.5\" y=\"-110.6\" font-family=\"-apple-system, BlinkMacSystemFont, 'Segoe UI', Helvetica, Arial, sans-serif, 'Apple Color Emoji', 'Segoe UI Emoji', 'Segoe UI Symbol'\" font-weight=\"bold\" font-size=\"13.00\">Market Data Store</text>\n",
       "<polygon fill=\"#f5f5f5\" stroke=\"transparent\" points=\"391.5,-77 391.5,-101 423.5,-101 423.5,-77 391.5,-77\"/>\n",
       "<text text-anchor=\"start\" x=\"396.5\" y=\"-86.6\" font-family=\"-apple-system, BlinkMacSystemFont, 'Segoe UI', Helvetica, Arial, sans-serif, 'Apple Color Emoji', 'Segoe UI Emoji', 'Segoe UI Symbol'\" font-weight=\"bold\" font-size=\"13.00\">key</text>\n",
       "<polygon fill=\"#f5f5f5\" stroke=\"transparent\" points=\"423.5,-77 423.5,-101 495.5,-101 495.5,-77 423.5,-77\"/>\n",
       "<text text-anchor=\"start\" x=\"428.5\" y=\"-85.6\" font-family=\"-apple-system, BlinkMacSystemFont, 'Segoe UI', Helvetica, Arial, sans-serif, 'Apple Color Emoji', 'Segoe UI Emoji', 'Segoe UI Symbol'\" font-size=\"13.00\">AsOfDate</text>\n",
       "<polygon fill=\"#f5f5f5\" stroke=\"transparent\" points=\"495.5,-77 495.5,-101 564.5,-101 564.5,-77 495.5,-77\"/>\n",
       "<text text-anchor=\"start\" x=\"500.5\" y=\"-86.6\" font-family=\"-apple-system, BlinkMacSystemFont, 'Segoe UI', Helvetica, Arial, sans-serif, 'Apple Color Emoji', 'Segoe UI Emoji', 'Segoe UI Symbol'\" font-style=\"italic\" font-size=\"13.00\">LocalDate</text>\n",
       "<polygon fill=\"#ffffff\" stroke=\"transparent\" points=\"391.5,-53 391.5,-77 423.5,-77 423.5,-53 391.5,-53\"/>\n",
       "<text text-anchor=\"start\" x=\"396.5\" y=\"-62.6\" font-family=\"-apple-system, BlinkMacSystemFont, 'Segoe UI', Helvetica, Arial, sans-serif, 'Apple Color Emoji', 'Segoe UI Emoji', 'Segoe UI Symbol'\" font-weight=\"bold\" font-size=\"13.00\">key</text>\n",
       "<polygon fill=\"#ffffff\" stroke=\"transparent\" points=\"423.5,-53 423.5,-77 495.5,-77 495.5,-53 423.5,-53\"/>\n",
       "<text text-anchor=\"start\" x=\"428.5\" y=\"-61.6\" font-family=\"-apple-system, BlinkMacSystemFont, 'Segoe UI', Helvetica, Arial, sans-serif, 'Apple Color Emoji', 'Segoe UI Emoji', 'Segoe UI Symbol'\" font-size=\"13.00\">Instrument</text>\n",
       "<polygon fill=\"#ffffff\" stroke=\"transparent\" points=\"495.5,-53 495.5,-77 564.5,-77 564.5,-53 495.5,-53\"/>\n",
       "<text text-anchor=\"start\" x=\"525.5\" y=\"-62.6\" font-family=\"-apple-system, BlinkMacSystemFont, 'Segoe UI', Helvetica, Arial, sans-serif, 'Apple Color Emoji', 'Segoe UI Emoji', 'Segoe UI Symbol'\" font-style=\"italic\" font-size=\"13.00\">String</text>\n",
       "<polygon fill=\"#f5f5f5\" stroke=\"transparent\" points=\"391.5,-29 391.5,-53 423.5,-53 423.5,-29 391.5,-29\"/>\n",
       "<polygon fill=\"#f5f5f5\" stroke=\"transparent\" points=\"423.5,-29 423.5,-53 495.5,-53 495.5,-29 423.5,-29\"/>\n",
       "<text text-anchor=\"start\" x=\"428.5\" y=\"-37.6\" font-family=\"-apple-system, BlinkMacSystemFont, 'Segoe UI', Helvetica, Arial, sans-serif, 'Apple Color Emoji', 'Segoe UI Emoji', 'Segoe UI Symbol'\" font-size=\"13.00\">Quote</text>\n",
       "<polygon fill=\"#f5f5f5\" stroke=\"transparent\" points=\"495.5,-29 495.5,-53 564.5,-53 564.5,-29 495.5,-29\"/>\n",
       "<text text-anchor=\"start\" x=\"519.5\" y=\"-38.6\" font-family=\"-apple-system, BlinkMacSystemFont, 'Segoe UI', Helvetica, Arial, sans-serif, 'Apple Color Emoji', 'Segoe UI Emoji', 'Segoe UI Symbol'\" font-style=\"italic\" font-size=\"13.00\">double</text>\n",
       "<polygon fill=\"none\" stroke=\"black\" points=\"390,-28 390,-126 565,-126 565,-28 390,-28\"/>\n",
       "</g>\n",
       "<!-- Sensitivities&#45;&gt;Market Data Store -->\n",
       "<g id=\"edge1\" class=\"edge\">\n",
       "<title>Sensitivities-&gt;Market Data Store</title>\n",
       "<path fill=\"none\" stroke=\"black\" d=\"M202.36,-77C254.77,-77 318.85,-77 371.88,-77\"/>\n",
       "<polygon fill=\"black\" stroke=\"black\" points=\"371.99,-80.5 381.99,-77 371.99,-73.5 371.99,-80.5\"/>\n",
       "<text text-anchor=\"middle\" x=\"292\" y=\"-94.6\" font-family=\"-apple-system, BlinkMacSystemFont, 'Segoe UI', Helvetica, Arial, sans-serif, 'Apple Color Emoji', 'Segoe UI Emoji', 'Segoe UI Symbol'\" font-size=\"13.00\">AsOfDate → AsOfDate</text>\n",
       "<text text-anchor=\"middle\" x=\"292\" y=\"-80.6\" font-family=\"-apple-system, BlinkMacSystemFont, 'Segoe UI', Helvetica, Arial, sans-serif, 'Apple Color Emoji', 'Segoe UI Emoji', 'Segoe UI Symbol'\" font-size=\"13.00\">RiskFactor → Instrument</text>\n",
       "</g>\n",
       "</g>\n",
       "</svg>"
      ],
      "text/plain": [
       "<IPython.core.display.SVG object>"
      ]
     },
     "execution_count": 12,
     "metadata": {},
     "output_type": "execute_result"
    }
   ],
   "source": [
    "cube.schema"
   ]
  },
  {
   "cell_type": "code",
   "execution_count": 13,
   "metadata": {
    "atoti": {
     "state": {
      "name": "Quotes next to Deltas and MarketValues",
      "type": "container",
      "value": {
       "body": {
        "configuration": {
         "tabular": {
          "addButtonFilter": "numeric",
          "cellRenderers": [
           "tree-layout"
          ],
          "columnsGroups": [
           {
            "captionProducer": "firstColumn",
            "cellFactory": "kpi-status",
            "selector": "kpi-status"
           },
           {
            "captionProducer": "firstColumn",
            "cellFactory": "lookup",
            "selector": "lookup"
           },
           {
            "captionProducer": "expiry",
            "cellFactory": "expiry",
            "selector": "kpi-expiry"
           },
           {
            "captionProducer": "columnMerge",
            "cellFactory": {
             "args": {},
             "key": "treeCells"
            },
            "selector": "member"
           }
          ],
          "defaultOptions": {},
          "expansion": {
           "automaticExpansion": true
          },
          "hideAddButton": true,
          "pinnedHeaderSelector": "member",
          "sortingMode": "non-breaking",
          "statisticsShown": true
         }
        },
        "contextValues": {},
        "mdx": "SELECT NON EMPTY {[Measures].[Delta.SUM], [Measures].[MarketValue.SUM], [Measures].[Quote.VALUE]} ON COLUMNS, NON EMPTY Crossjoin(Hierarchize([Hierarchies].[AsOfDate].[AsOfDate].Members), Hierarchize(DrilldownLevel([Hierarchies].[RiskFactor].[ALL].[AllMember]))) ON ROWS FROM [Sensitivities] CELL PROPERTIES VALUE, FORMATTED_VALUE, BACK_COLOR, FORE_COLOR, FONT_FLAGS",
        "ranges": {
         "column": {
          "chunkSize": 50,
          "thresholdPercentage": 0.2
         },
         "row": {
          "chunkSize": 2000,
          "thresholdPercentage": 0.1
         }
        },
        "serverUrl": "",
        "updateMode": "once"
       },
       "containerKey": "pivot-table",
       "showTitleBar": false,
       "style": {}
      }
     }
    }
   },
   "outputs": [
    {
     "data": {
      "application/vnd.atoti.v0+json": {
       "cellSet": {
        "axes": [
         {
          "hierarchies": [
           {
            "dimension": "Measures",
            "hierarchy": "Measures"
           }
          ],
          "id": 0,
          "positions": [
           [
            {
             "captionPath": [
              "Delta.SUM"
             ],
             "namePath": [
              "Delta.SUM"
             ],
             "properties": {
              "DISPLAY_INFO": 0
             }
            }
           ],
           [
            {
             "captionPath": [
              "MarketValue.SUM"
             ],
             "namePath": [
              "MarketValue.SUM"
             ],
             "properties": {
              "DISPLAY_INFO": 0
             }
            }
           ],
           [
            {
             "captionPath": [
              "Quote.VALUE"
             ],
             "namePath": [
              "Quote.VALUE"
             ],
             "properties": {
              "DISPLAY_INFO": 0
             }
            }
           ]
          ]
         },
         {
          "hierarchies": [
           {
            "dimension": "Hierarchies",
            "hierarchy": "AsOfDate"
           },
           {
            "dimension": "Hierarchies",
            "hierarchy": "RiskFactor"
           }
          ],
          "id": 1,
          "positions": [
           [
            {
             "captionPath": [
              "AllMember",
              "2020-07-08"
             ],
             "namePath": [
              "AllMember",
              "2020-07-08"
             ],
             "properties": {
              "DISPLAY_INFO": 0
             }
            },
            {
             "captionPath": [
              "AllMember"
             ],
             "namePath": [
              "AllMember"
             ],
             "properties": {
              "DISPLAY_INFO": 65539
             }
            }
           ],
           [
            {
             "captionPath": [
              "AllMember",
              "2020-07-08"
             ],
             "namePath": [
              "AllMember",
              "2020-07-08"
             ],
             "properties": {
              "DISPLAY_INFO": 131072
             }
            },
            {
             "captionPath": [
              "AllMember",
              "AAPL"
             ],
             "namePath": [
              "AllMember",
              "AAPL"
             ],
             "properties": {
              "DISPLAY_INFO": 0
             }
            }
           ],
           [
            {
             "captionPath": [
              "AllMember",
              "2020-07-08"
             ],
             "namePath": [
              "AllMember",
              "2020-07-08"
             ],
             "properties": {
              "DISPLAY_INFO": 131072
             }
            },
            {
             "captionPath": [
              "AllMember",
              "MSFT"
             ],
             "namePath": [
              "AllMember",
              "MSFT"
             ],
             "properties": {
              "DISPLAY_INFO": 131072
             }
            }
           ],
           [
            {
             "captionPath": [
              "AllMember",
              "2020-07-08"
             ],
             "namePath": [
              "AllMember",
              "2020-07-08"
             ],
             "properties": {
              "DISPLAY_INFO": 131072
             }
            },
            {
             "captionPath": [
              "AllMember",
              "OXY"
             ],
             "namePath": [
              "AllMember",
              "OXY"
             ],
             "properties": {
              "DISPLAY_INFO": 131072
             }
            }
           ],
           [
            {
             "captionPath": [
              "AllMember",
              "2020-07-09"
             ],
             "namePath": [
              "AllMember",
              "2020-07-09"
             ],
             "properties": {
              "DISPLAY_INFO": 131072
             }
            },
            {
             "captionPath": [
              "AllMember"
             ],
             "namePath": [
              "AllMember"
             ],
             "properties": {
              "DISPLAY_INFO": 65539
             }
            }
           ],
           [
            {
             "captionPath": [
              "AllMember",
              "2020-07-09"
             ],
             "namePath": [
              "AllMember",
              "2020-07-09"
             ],
             "properties": {
              "DISPLAY_INFO": 131072
             }
            },
            {
             "captionPath": [
              "AllMember",
              "AAPL"
             ],
             "namePath": [
              "AllMember",
              "AAPL"
             ],
             "properties": {
              "DISPLAY_INFO": 0
             }
            }
           ],
           [
            {
             "captionPath": [
              "AllMember",
              "2020-07-09"
             ],
             "namePath": [
              "AllMember",
              "2020-07-09"
             ],
             "properties": {
              "DISPLAY_INFO": 131072
             }
            },
            {
             "captionPath": [
              "AllMember",
              "MSFT"
             ],
             "namePath": [
              "AllMember",
              "MSFT"
             ],
             "properties": {
              "DISPLAY_INFO": 131072
             }
            }
           ],
           [
            {
             "captionPath": [
              "AllMember",
              "2020-07-09"
             ],
             "namePath": [
              "AllMember",
              "2020-07-09"
             ],
             "properties": {
              "DISPLAY_INFO": 131072
             }
            },
            {
             "captionPath": [
              "AllMember",
              "OXY"
             ],
             "namePath": [
              "AllMember",
              "OXY"
             ],
             "properties": {
              "DISPLAY_INFO": 131072
             }
            }
           ]
          ]
         }
        ],
        "cells": [
         {
          "formattedValue": "32,327.85",
          "ordinal": 0,
          "properties": {
           "BACK_COLOR": null,
           "FONT_FLAGS": 0,
           "FORE_COLOR": null
          },
          "value": 32327.852320064347
         },
         {
          "formattedValue": "2,040.36",
          "ordinal": 1,
          "properties": {
           "BACK_COLOR": null,
           "FONT_FLAGS": 0,
           "FORE_COLOR": null
          },
          "value": 2040.3616769004161
         },
         {
          "formattedValue": "-2,492.01",
          "ordinal": 3,
          "properties": {
           "BACK_COLOR": null,
           "FONT_FLAGS": 0,
           "FORE_COLOR": null
          },
          "value": -2492.0108679998157
         },
         {
          "formattedValue": "1,405.72",
          "ordinal": 4,
          "properties": {
           "BACK_COLOR": null,
           "FONT_FLAGS": 0,
           "FORE_COLOR": null
          },
          "value": 1405.72172207334
         },
         {
          "formattedValue": "380.00",
          "ordinal": 5,
          "properties": {
           "BACK_COLOR": null,
           "FONT_FLAGS": 0,
           "FORE_COLOR": null
          },
          "value": 380
         },
         {
          "formattedValue": "34,970.47",
          "ordinal": 6,
          "properties": {
           "BACK_COLOR": null,
           "FONT_FLAGS": 0,
           "FORE_COLOR": null
          },
          "value": 34970.465157493505
         },
         {
          "formattedValue": "624.77",
          "ordinal": 7,
          "properties": {
           "BACK_COLOR": null,
           "FONT_FLAGS": 0,
           "FORE_COLOR": null
          },
          "value": 624.7732087081811
         },
         {
          "formattedValue": "214.00",
          "ordinal": 8,
          "properties": {
           "BACK_COLOR": null,
           "FONT_FLAGS": 0,
           "FORE_COLOR": null
          },
          "value": 214
         },
         {
          "formattedValue": "-150.60",
          "ordinal": 9,
          "properties": {
           "BACK_COLOR": null,
           "FONT_FLAGS": 0,
           "FORE_COLOR": null
          },
          "value": -150.60196942934473
         },
         {
          "formattedValue": "9.87",
          "ordinal": 10,
          "properties": {
           "BACK_COLOR": null,
           "FONT_FLAGS": 0,
           "FORE_COLOR": null
          },
          "value": 9.866746118894971
         },
         {
          "formattedValue": "16.23",
          "ordinal": 11,
          "properties": {
           "BACK_COLOR": null,
           "FONT_FLAGS": 0,
           "FORE_COLOR": null
          },
          "value": 16.23
         },
         {
          "formattedValue": "31,605.66",
          "ordinal": 12,
          "properties": {
           "BACK_COLOR": null,
           "FONT_FLAGS": 0,
           "FORE_COLOR": null
          },
          "value": 31605.660862068544
         },
         {
          "formattedValue": "2,000.26",
          "ordinal": 13,
          "properties": {
           "BACK_COLOR": null,
           "FONT_FLAGS": 0,
           "FORE_COLOR": null
          },
          "value": 2000.2610457011597
         },
         {
          "formattedValue": "-3,006.57",
          "ordinal": 15,
          "properties": {
           "BACK_COLOR": null,
           "FONT_FLAGS": 0,
           "FORE_COLOR": null
          },
          "value": -3006.5721407160545
         },
         {
          "formattedValue": "1,385.15",
          "ordinal": 16,
          "properties": {
           "BACK_COLOR": null,
           "FONT_FLAGS": 0,
           "FORE_COLOR": null
          },
          "value": 1385.1471429347712
         },
         {
          "formattedValue": "381.00",
          "ordinal": 17,
          "properties": {
           "BACK_COLOR": null,
           "FONT_FLAGS": 0,
           "FORE_COLOR": null
          },
          "value": 381
         },
         {
          "formattedValue": "34,838.15",
          "ordinal": 18,
          "properties": {
           "BACK_COLOR": null,
           "FONT_FLAGS": 0,
           "FORE_COLOR": null
          },
          "value": 34838.149988660036
         },
         {
          "formattedValue": "604.80",
          "ordinal": 19,
          "properties": {
           "BACK_COLOR": null,
           "FONT_FLAGS": 0,
           "FORE_COLOR": null
          },
          "value": 604.7991152352408
         },
         {
          "formattedValue": "215.00",
          "ordinal": 20,
          "properties": {
           "BACK_COLOR": null,
           "FONT_FLAGS": 0,
           "FORE_COLOR": null
          },
          "value": 215
         },
         {
          "formattedValue": "-225.92",
          "ordinal": 21,
          "properties": {
           "BACK_COLOR": null,
           "FONT_FLAGS": 0,
           "FORE_COLOR": null
          },
          "value": -225.91698587544101
         },
         {
          "formattedValue": "10.31",
          "ordinal": 22,
          "properties": {
           "BACK_COLOR": null,
           "FONT_FLAGS": 0,
           "FORE_COLOR": null
          },
          "value": 10.314787531147882
         },
         {
          "formattedValue": "16.80",
          "ordinal": 23,
          "properties": {
           "BACK_COLOR": null,
           "FONT_FLAGS": 0,
           "FORE_COLOR": null
          },
          "value": 16.8
         }
        ],
        "cube": "Sensitivities",
        "defaultMembers": [
         {
          "captionPath": [
           "Count"
          ],
          "dimension": "Measures",
          "hierarchy": "Measures",
          "path": [
           "contributors.COUNT"
          ]
         },
         {
          "captionPath": [
           "Base"
          ],
          "dimension": "Epoch",
          "hierarchy": "Epoch",
          "path": [
           "Base"
          ]
         }
        ],
        "epoch": 5
       },
       "cube": "Sensitivities",
       "error": null,
       "name": "Quotes next to Deltas and MarketValues",
       "session": "Unnamed"
      },
      "text/plain": [
       "Open the notebook in JupyterLab with the atoti extension installed and enabled to see this widget."
      ]
     },
     "metadata": {},
     "output_type": "display_data"
    }
   ],
   "source": [
    "cube.visualize(\"Quotes next to Deltas and MarketValues\")"
   ]
  },
  {
   "cell_type": "markdown",
   "metadata": {},
   "source": [
    "# Refining the cube\n",
    "\n",
    "The `create_cube` command triggered the creation of default measures and dimensions, which can be further customized and refined, we are creating variables to access their collections:"
   ]
  },
  {
   "cell_type": "code",
   "execution_count": 14,
   "metadata": {},
   "outputs": [],
   "source": [
    "m = cube.measures\n",
    "lvl = cube.levels\n",
    "h = cube.hierarchies"
   ]
  },
  {
   "cell_type": "markdown",
   "metadata": {},
   "source": [
    "The following cell **hides the created measures** for the mean:"
   ]
  },
  {
   "cell_type": "code",
   "execution_count": 15,
   "metadata": {},
   "outputs": [],
   "source": [
    "m[\"MarketValue.MEAN\"].visible = False\n",
    "m[\"Delta.MEAN\"].visible = False"
   ]
  },
  {
   "cell_type": "markdown",
   "metadata": {},
   "source": [
    "The next cell is making the date dimension slicing, so that there's no summation across dates:"
   ]
  },
  {
   "cell_type": "code",
   "execution_count": 16,
   "metadata": {},
   "outputs": [],
   "source": [
    "h[\"AsOfDate\"].slicing = True"
   ]
  },
  {
   "cell_type": "markdown",
   "metadata": {},
   "source": [
    "The next cell will sort dates in desc order:"
   ]
  },
  {
   "cell_type": "code",
   "execution_count": 17,
   "metadata": {},
   "outputs": [],
   "source": [
    "lvl[\"AsOfDate\"].comparator = tt.comparator.DESC"
   ]
  },
  {
   "cell_type": "markdown",
   "metadata": {},
   "source": [
    "Please refer to the atoti documentation to learn about other ways to refine your cube, in particular about creating custom aggregation functions: [New measures](https://docs.atoti.io/0.4.1/tutorial/01-Basics.html#New-measures)."
   ]
  },
  {
   "cell_type": "markdown",
   "metadata": {},
   "source": [
    "# Enriching risk data - trade attributes and multi-level book structure"
   ]
  },
  {
   "cell_type": "markdown",
   "metadata": {},
   "source": [
    "To facilitate the analysis, we can enrich the metrics with additional attributes such as risk factors, regions, sectors, trade typologies, etc. \n",
    "\n",
    "In this example, we are adding trade attribute data and linking trades to a multi-level booking hierarchy. "
   ]
  },
  {
   "cell_type": "code",
   "execution_count": 18,
   "metadata": {},
   "outputs": [],
   "source": [
    "trade_attributes = session.read_csv(\n",
    "    \"s3://data.atoti.io/notebooks/real-time-risk/static-input-files/trade_attributes.csv\",\n",
    "    types={\"TradeId\": tt.types.STRING, \"Strike\": tt.types.STRING},\n",
    "    keys=[\"TradeId\"],\n",
    "    store_name=\"Trade Attributes\",\n",
    ")\n",
    "\n",
    "sensitivities_store.join(trade_attributes)"
   ]
  },
  {
   "cell_type": "code",
   "execution_count": 19,
   "metadata": {},
   "outputs": [],
   "source": [
    "book_hierarchy = session.read_pandas(\n",
    "    pd.DataFrame(\n",
    "        data={\n",
    "            \"Book\": [\n",
    "                \"EQ_VOL_HED\",\n",
    "                \"EQ_STRUCT\",\n",
    "                \"EQ_LARG_DM\",\n",
    "                \"EQ_WAREHOU\",\n",
    "                \"EQ_SMAL_EM\",\n",
    "            ],\n",
    "            \"Desk\": [\n",
    "                \"Structuring\",\n",
    "                \"Structuring\",\n",
    "                \"Equity Trading\",\n",
    "                \"Equity Trading\",\n",
    "                \"Equity Trading\",\n",
    "            ],\n",
    "            \"Business Unit\": [\n",
    "                \"Equities\",\n",
    "                \"Equities\",\n",
    "                \"Equities\",\n",
    "                \"Equities\",\n",
    "                \"Equities\",\n",
    "            ],\n",
    "        }\n",
    "    ),\n",
    "    keys=[\"Book\"],\n",
    "    store_name=\"Book Hierarchy\",\n",
    ")\n",
    "\n",
    "trade_attributes.join(book_hierarchy)"
   ]
  },
  {
   "cell_type": "markdown",
   "metadata": {},
   "source": [
    "Current state of the data model:"
   ]
  },
  {
   "cell_type": "code",
   "execution_count": 20,
   "metadata": {},
   "outputs": [
    {
     "data": {
      "image/svg+xml": [
       "<svg xmlns=\"http://www.w3.org/2000/svg\" xmlns:xlink=\"http://www.w3.org/1999/xlink\" width=\"887px\" height=\"358px\" viewBox=\"0.00 0.00 887.00 358.00\">\n",
       "<g id=\"graph0\" class=\"graph\" transform=\"scale(1.0 1.0) rotate(0) translate(4 354)\">\n",
       "<title>Sensitivities schema</title>\n",
       "<polygon fill=\"white\" stroke=\"transparent\" points=\"-4,4 -4,-354 883,-354 883,4 -4,4\"/>\n",
       "<!-- Sensitivities -->\n",
       "<g id=\"node1\" class=\"node\">\n",
       "<title>Sensitivities</title>\n",
       "<text text-anchor=\"start\" x=\"63\" y=\"-262.6\" font-family=\"-apple-system, BlinkMacSystemFont, 'Segoe UI', Helvetica, Arial, sans-serif, 'Apple Color Emoji', 'Segoe UI Emoji', 'Segoe UI Symbol'\" font-weight=\"bold\" font-size=\"13.00\">Sensitivities</text>\n",
       "<polygon fill=\"#f5f5f5\" stroke=\"transparent\" points=\"9,-229 9,-253 41,-253 41,-229 9,-229\"/>\n",
       "<text text-anchor=\"start\" x=\"14\" y=\"-238.6\" font-family=\"-apple-system, BlinkMacSystemFont, 'Segoe UI', Helvetica, Arial, sans-serif, 'Apple Color Emoji', 'Segoe UI Emoji', 'Segoe UI Symbol'\" font-weight=\"bold\" font-size=\"13.00\">key</text>\n",
       "<polygon fill=\"#f5f5f5\" stroke=\"transparent\" points=\"41,-229 41,-253 124,-253 124,-229 41,-229\"/>\n",
       "<text text-anchor=\"start\" x=\"46\" y=\"-237.6\" font-family=\"-apple-system, BlinkMacSystemFont, 'Segoe UI', Helvetica, Arial, sans-serif, 'Apple Color Emoji', 'Segoe UI Emoji', 'Segoe UI Symbol'\" font-size=\"13.00\">AsOfDate</text>\n",
       "<polygon fill=\"#f5f5f5\" stroke=\"transparent\" points=\"124,-229 124,-253 193,-253 193,-229 124,-229\"/>\n",
       "<text text-anchor=\"start\" x=\"129\" y=\"-238.6\" font-family=\"-apple-system, BlinkMacSystemFont, 'Segoe UI', Helvetica, Arial, sans-serif, 'Apple Color Emoji', 'Segoe UI Emoji', 'Segoe UI Symbol'\" font-style=\"italic\" font-size=\"13.00\">LocalDate</text>\n",
       "<polygon fill=\"#ffffff\" stroke=\"transparent\" points=\"9,-205 9,-229 41,-229 41,-205 9,-205\"/>\n",
       "<text text-anchor=\"start\" x=\"14\" y=\"-214.6\" font-family=\"-apple-system, BlinkMacSystemFont, 'Segoe UI', Helvetica, Arial, sans-serif, 'Apple Color Emoji', 'Segoe UI Emoji', 'Segoe UI Symbol'\" font-weight=\"bold\" font-size=\"13.00\">key</text>\n",
       "<polygon fill=\"#ffffff\" stroke=\"transparent\" points=\"41,-205 41,-229 124,-229 124,-205 41,-205\"/>\n",
       "<text text-anchor=\"start\" x=\"46\" y=\"-213.6\" font-family=\"-apple-system, BlinkMacSystemFont, 'Segoe UI', Helvetica, Arial, sans-serif, 'Apple Color Emoji', 'Segoe UI Emoji', 'Segoe UI Symbol'\" font-size=\"13.00\">TradeId</text>\n",
       "<polygon fill=\"#ffffff\" stroke=\"transparent\" points=\"124,-205 124,-229 193,-229 193,-205 124,-205\"/>\n",
       "<text text-anchor=\"start\" x=\"154\" y=\"-214.6\" font-family=\"-apple-system, BlinkMacSystemFont, 'Segoe UI', Helvetica, Arial, sans-serif, 'Apple Color Emoji', 'Segoe UI Emoji', 'Segoe UI Symbol'\" font-style=\"italic\" font-size=\"13.00\">String</text>\n",
       "<polygon fill=\"#f5f5f5\" stroke=\"transparent\" points=\"9,-181 9,-205 41,-205 41,-181 9,-181\"/>\n",
       "<text text-anchor=\"start\" x=\"14\" y=\"-190.6\" font-family=\"-apple-system, BlinkMacSystemFont, 'Segoe UI', Helvetica, Arial, sans-serif, 'Apple Color Emoji', 'Segoe UI Emoji', 'Segoe UI Symbol'\" font-weight=\"bold\" font-size=\"13.00\">key</text>\n",
       "<polygon fill=\"#f5f5f5\" stroke=\"transparent\" points=\"41,-181 41,-205 124,-205 124,-181 41,-181\"/>\n",
       "<text text-anchor=\"start\" x=\"46\" y=\"-189.6\" font-family=\"-apple-system, BlinkMacSystemFont, 'Segoe UI', Helvetica, Arial, sans-serif, 'Apple Color Emoji', 'Segoe UI Emoji', 'Segoe UI Symbol'\" font-size=\"13.00\">RiskFactor</text>\n",
       "<polygon fill=\"#f5f5f5\" stroke=\"transparent\" points=\"124,-181 124,-205 193,-205 193,-181 124,-181\"/>\n",
       "<text text-anchor=\"start\" x=\"154\" y=\"-190.6\" font-family=\"-apple-system, BlinkMacSystemFont, 'Segoe UI', Helvetica, Arial, sans-serif, 'Apple Color Emoji', 'Segoe UI Emoji', 'Segoe UI Symbol'\" font-style=\"italic\" font-size=\"13.00\">String</text>\n",
       "<polygon fill=\"#ffffff\" stroke=\"transparent\" points=\"9,-157 9,-181 41,-181 41,-157 9,-157\"/>\n",
       "<polygon fill=\"#ffffff\" stroke=\"transparent\" points=\"41,-157 41,-181 124,-181 124,-157 41,-157\"/>\n",
       "<text text-anchor=\"start\" x=\"46\" y=\"-165.6\" font-family=\"-apple-system, BlinkMacSystemFont, 'Segoe UI', Helvetica, Arial, sans-serif, 'Apple Color Emoji', 'Segoe UI Emoji', 'Segoe UI Symbol'\" font-size=\"13.00\">MarketValue</text>\n",
       "<polygon fill=\"#ffffff\" stroke=\"transparent\" points=\"124,-157 124,-181 193,-181 193,-157 124,-157\"/>\n",
       "<text text-anchor=\"start\" x=\"148\" y=\"-166.6\" font-family=\"-apple-system, BlinkMacSystemFont, 'Segoe UI', Helvetica, Arial, sans-serif, 'Apple Color Emoji', 'Segoe UI Emoji', 'Segoe UI Symbol'\" font-style=\"italic\" font-size=\"13.00\">double</text>\n",
       "<polygon fill=\"#f5f5f5\" stroke=\"transparent\" points=\"9,-133 9,-157 41,-157 41,-133 9,-133\"/>\n",
       "<polygon fill=\"#f5f5f5\" stroke=\"transparent\" points=\"41,-133 41,-157 124,-157 124,-133 41,-133\"/>\n",
       "<text text-anchor=\"start\" x=\"46\" y=\"-141.6\" font-family=\"-apple-system, BlinkMacSystemFont, 'Segoe UI', Helvetica, Arial, sans-serif, 'Apple Color Emoji', 'Segoe UI Emoji', 'Segoe UI Symbol'\" font-size=\"13.00\">Delta</text>\n",
       "<polygon fill=\"#f5f5f5\" stroke=\"transparent\" points=\"124,-133 124,-157 193,-157 193,-133 124,-133\"/>\n",
       "<text text-anchor=\"start\" x=\"148\" y=\"-142.6\" font-family=\"-apple-system, BlinkMacSystemFont, 'Segoe UI', Helvetica, Arial, sans-serif, 'Apple Color Emoji', 'Segoe UI Emoji', 'Segoe UI Symbol'\" font-style=\"italic\" font-size=\"13.00\">double</text>\n",
       "<polygon fill=\"none\" stroke=\"black\" points=\"8,-132 8,-278 194,-278 194,-132 8,-132\"/>\n",
       "</g>\n",
       "<!-- Market Data Store -->\n",
       "<g id=\"node2\" class=\"node\">\n",
       "<title>Market Data Store</title>\n",
       "<text text-anchor=\"start\" x=\"425.5\" y=\"-330.6\" font-family=\"-apple-system, BlinkMacSystemFont, 'Segoe UI', Helvetica, Arial, sans-serif, 'Apple Color Emoji', 'Segoe UI Emoji', 'Segoe UI Symbol'\" font-weight=\"bold\" font-size=\"13.00\">Market Data Store</text>\n",
       "<polygon fill=\"#f5f5f5\" stroke=\"transparent\" points=\"394.5,-297 394.5,-321 426.5,-321 426.5,-297 394.5,-297\"/>\n",
       "<text text-anchor=\"start\" x=\"399.5\" y=\"-306.6\" font-family=\"-apple-system, BlinkMacSystemFont, 'Segoe UI', Helvetica, Arial, sans-serif, 'Apple Color Emoji', 'Segoe UI Emoji', 'Segoe UI Symbol'\" font-weight=\"bold\" font-size=\"13.00\">key</text>\n",
       "<polygon fill=\"#f5f5f5\" stroke=\"transparent\" points=\"426.5,-297 426.5,-321 498.5,-321 498.5,-297 426.5,-297\"/>\n",
       "<text text-anchor=\"start\" x=\"431.5\" y=\"-305.6\" font-family=\"-apple-system, BlinkMacSystemFont, 'Segoe UI', Helvetica, Arial, sans-serif, 'Apple Color Emoji', 'Segoe UI Emoji', 'Segoe UI Symbol'\" font-size=\"13.00\">AsOfDate</text>\n",
       "<polygon fill=\"#f5f5f5\" stroke=\"transparent\" points=\"498.5,-297 498.5,-321 567.5,-321 567.5,-297 498.5,-297\"/>\n",
       "<text text-anchor=\"start\" x=\"503.5\" y=\"-306.6\" font-family=\"-apple-system, BlinkMacSystemFont, 'Segoe UI', Helvetica, Arial, sans-serif, 'Apple Color Emoji', 'Segoe UI Emoji', 'Segoe UI Symbol'\" font-style=\"italic\" font-size=\"13.00\">LocalDate</text>\n",
       "<polygon fill=\"#ffffff\" stroke=\"transparent\" points=\"394.5,-273 394.5,-297 426.5,-297 426.5,-273 394.5,-273\"/>\n",
       "<text text-anchor=\"start\" x=\"399.5\" y=\"-282.6\" font-family=\"-apple-system, BlinkMacSystemFont, 'Segoe UI', Helvetica, Arial, sans-serif, 'Apple Color Emoji', 'Segoe UI Emoji', 'Segoe UI Symbol'\" font-weight=\"bold\" font-size=\"13.00\">key</text>\n",
       "<polygon fill=\"#ffffff\" stroke=\"transparent\" points=\"426.5,-273 426.5,-297 498.5,-297 498.5,-273 426.5,-273\"/>\n",
       "<text text-anchor=\"start\" x=\"431.5\" y=\"-281.6\" font-family=\"-apple-system, BlinkMacSystemFont, 'Segoe UI', Helvetica, Arial, sans-serif, 'Apple Color Emoji', 'Segoe UI Emoji', 'Segoe UI Symbol'\" font-size=\"13.00\">Instrument</text>\n",
       "<polygon fill=\"#ffffff\" stroke=\"transparent\" points=\"498.5,-273 498.5,-297 567.5,-297 567.5,-273 498.5,-273\"/>\n",
       "<text text-anchor=\"start\" x=\"528.5\" y=\"-282.6\" font-family=\"-apple-system, BlinkMacSystemFont, 'Segoe UI', Helvetica, Arial, sans-serif, 'Apple Color Emoji', 'Segoe UI Emoji', 'Segoe UI Symbol'\" font-style=\"italic\" font-size=\"13.00\">String</text>\n",
       "<polygon fill=\"#f5f5f5\" stroke=\"transparent\" points=\"394.5,-249 394.5,-273 426.5,-273 426.5,-249 394.5,-249\"/>\n",
       "<polygon fill=\"#f5f5f5\" stroke=\"transparent\" points=\"426.5,-249 426.5,-273 498.5,-273 498.5,-249 426.5,-249\"/>\n",
       "<text text-anchor=\"start\" x=\"431.5\" y=\"-257.6\" font-family=\"-apple-system, BlinkMacSystemFont, 'Segoe UI', Helvetica, Arial, sans-serif, 'Apple Color Emoji', 'Segoe UI Emoji', 'Segoe UI Symbol'\" font-size=\"13.00\">Quote</text>\n",
       "<polygon fill=\"#f5f5f5\" stroke=\"transparent\" points=\"498.5,-249 498.5,-273 567.5,-273 567.5,-249 498.5,-249\"/>\n",
       "<text text-anchor=\"start\" x=\"522.5\" y=\"-258.6\" font-family=\"-apple-system, BlinkMacSystemFont, 'Segoe UI', Helvetica, Arial, sans-serif, 'Apple Color Emoji', 'Segoe UI Emoji', 'Segoe UI Symbol'\" font-style=\"italic\" font-size=\"13.00\">double</text>\n",
       "<polygon fill=\"none\" stroke=\"black\" points=\"393,-248 393,-346 568,-346 568,-248 393,-248\"/>\n",
       "</g>\n",
       "<!-- Sensitivities&#45;&gt;Market Data Store -->\n",
       "<g id=\"edge2\" class=\"edge\">\n",
       "<title>Sensitivities-&gt;Market Data Store</title>\n",
       "<path fill=\"none\" stroke=\"black\" d=\"M202.17,-229.41C255.43,-242.39 320.86,-258.34 374.78,-271.48\"/>\n",
       "<polygon fill=\"black\" stroke=\"black\" points=\"374.17,-274.93 384.71,-273.9 375.83,-268.13 374.17,-274.93\"/>\n",
       "<text text-anchor=\"middle\" x=\"292\" y=\"-284.6\" font-family=\"-apple-system, BlinkMacSystemFont, 'Segoe UI', Helvetica, Arial, sans-serif, 'Apple Color Emoji', 'Segoe UI Emoji', 'Segoe UI Symbol'\" font-size=\"13.00\">AsOfDate → AsOfDate</text>\n",
       "<text text-anchor=\"middle\" x=\"292\" y=\"-270.6\" font-family=\"-apple-system, BlinkMacSystemFont, 'Segoe UI', Helvetica, Arial, sans-serif, 'Apple Color Emoji', 'Segoe UI Emoji', 'Segoe UI Symbol'\" font-size=\"13.00\">RiskFactor → Instrument</text>\n",
       "</g>\n",
       "<!-- Trade Attributes -->\n",
       "<g id=\"node3\" class=\"node\">\n",
       "<title>Trade Attributes</title>\n",
       "<text text-anchor=\"start\" x=\"430.5\" y=\"-206.6\" font-family=\"-apple-system, BlinkMacSystemFont, 'Segoe UI', Helvetica, Arial, sans-serif, 'Apple Color Emoji', 'Segoe UI Emoji', 'Segoe UI Symbol'\" font-weight=\"bold\" font-size=\"13.00\">Trade Attributes</text>\n",
       "<polygon fill=\"#f5f5f5\" stroke=\"transparent\" points=\"391.5,-173 391.5,-197 423.5,-197 423.5,-173 391.5,-173\"/>\n",
       "<text text-anchor=\"start\" x=\"396.5\" y=\"-182.6\" font-family=\"-apple-system, BlinkMacSystemFont, 'Segoe UI', Helvetica, Arial, sans-serif, 'Apple Color Emoji', 'Segoe UI Emoji', 'Segoe UI Symbol'\" font-weight=\"bold\" font-size=\"13.00\">key</text>\n",
       "<polygon fill=\"#f5f5f5\" stroke=\"transparent\" points=\"423.5,-173 423.5,-197 501.5,-197 501.5,-173 423.5,-173\"/>\n",
       "<text text-anchor=\"start\" x=\"428.5\" y=\"-181.6\" font-family=\"-apple-system, BlinkMacSystemFont, 'Segoe UI', Helvetica, Arial, sans-serif, 'Apple Color Emoji', 'Segoe UI Emoji', 'Segoe UI Symbol'\" font-size=\"13.00\">TradeId</text>\n",
       "<polygon fill=\"#f5f5f5\" stroke=\"transparent\" points=\"501.5,-173 501.5,-197 570.5,-197 570.5,-173 501.5,-173\"/>\n",
       "<text text-anchor=\"start\" x=\"531.5\" y=\"-182.6\" font-family=\"-apple-system, BlinkMacSystemFont, 'Segoe UI', Helvetica, Arial, sans-serif, 'Apple Color Emoji', 'Segoe UI Emoji', 'Segoe UI Symbol'\" font-style=\"italic\" font-size=\"13.00\">String</text>\n",
       "<polygon fill=\"#ffffff\" stroke=\"transparent\" points=\"391.5,-149 391.5,-173 423.5,-173 423.5,-149 391.5,-149\"/>\n",
       "<polygon fill=\"#ffffff\" stroke=\"transparent\" points=\"423.5,-149 423.5,-173 501.5,-173 501.5,-149 423.5,-149\"/>\n",
       "<text text-anchor=\"start\" x=\"428.5\" y=\"-157.6\" font-family=\"-apple-system, BlinkMacSystemFont, 'Segoe UI', Helvetica, Arial, sans-serif, 'Apple Color Emoji', 'Segoe UI Emoji', 'Segoe UI Symbol'\" font-size=\"13.00\">Ticker</text>\n",
       "<polygon fill=\"#ffffff\" stroke=\"transparent\" points=\"501.5,-149 501.5,-173 570.5,-173 570.5,-149 501.5,-149\"/>\n",
       "<text text-anchor=\"start\" x=\"531.5\" y=\"-158.6\" font-family=\"-apple-system, BlinkMacSystemFont, 'Segoe UI', Helvetica, Arial, sans-serif, 'Apple Color Emoji', 'Segoe UI Emoji', 'Segoe UI Symbol'\" font-style=\"italic\" font-size=\"13.00\">String</text>\n",
       "<polygon fill=\"#f5f5f5\" stroke=\"transparent\" points=\"391.5,-125 391.5,-149 423.5,-149 423.5,-125 391.5,-125\"/>\n",
       "<polygon fill=\"#f5f5f5\" stroke=\"transparent\" points=\"423.5,-125 423.5,-149 501.5,-149 501.5,-125 423.5,-125\"/>\n",
       "<text text-anchor=\"start\" x=\"428.5\" y=\"-133.6\" font-family=\"-apple-system, BlinkMacSystemFont, 'Segoe UI', Helvetica, Arial, sans-serif, 'Apple Color Emoji', 'Segoe UI Emoji', 'Segoe UI Symbol'\" font-size=\"13.00\">Book</text>\n",
       "<polygon fill=\"#f5f5f5\" stroke=\"transparent\" points=\"501.5,-125 501.5,-149 570.5,-149 570.5,-125 501.5,-125\"/>\n",
       "<text text-anchor=\"start\" x=\"531.5\" y=\"-134.6\" font-family=\"-apple-system, BlinkMacSystemFont, 'Segoe UI', Helvetica, Arial, sans-serif, 'Apple Color Emoji', 'Segoe UI Emoji', 'Segoe UI Symbol'\" font-style=\"italic\" font-size=\"13.00\">String</text>\n",
       "<polygon fill=\"#ffffff\" stroke=\"transparent\" points=\"391.5,-101 391.5,-125 423.5,-125 423.5,-101 391.5,-101\"/>\n",
       "<polygon fill=\"#ffffff\" stroke=\"transparent\" points=\"423.5,-101 423.5,-125 501.5,-125 501.5,-101 423.5,-101\"/>\n",
       "<text text-anchor=\"start\" x=\"428.5\" y=\"-109.6\" font-family=\"-apple-system, BlinkMacSystemFont, 'Segoe UI', Helvetica, Arial, sans-serif, 'Apple Color Emoji', 'Segoe UI Emoji', 'Segoe UI Symbol'\" font-size=\"13.00\">Product</text>\n",
       "<polygon fill=\"#ffffff\" stroke=\"transparent\" points=\"501.5,-101 501.5,-125 570.5,-125 570.5,-101 501.5,-101\"/>\n",
       "<text text-anchor=\"start\" x=\"531.5\" y=\"-110.6\" font-family=\"-apple-system, BlinkMacSystemFont, 'Segoe UI', Helvetica, Arial, sans-serif, 'Apple Color Emoji', 'Segoe UI Emoji', 'Segoe UI Symbol'\" font-style=\"italic\" font-size=\"13.00\">String</text>\n",
       "<polygon fill=\"#f5f5f5\" stroke=\"transparent\" points=\"391.5,-77 391.5,-101 423.5,-101 423.5,-77 391.5,-77\"/>\n",
       "<polygon fill=\"#f5f5f5\" stroke=\"transparent\" points=\"423.5,-77 423.5,-101 501.5,-101 501.5,-77 423.5,-77\"/>\n",
       "<text text-anchor=\"start\" x=\"428.5\" y=\"-85.6\" font-family=\"-apple-system, BlinkMacSystemFont, 'Segoe UI', Helvetica, Arial, sans-serif, 'Apple Color Emoji', 'Segoe UI Emoji', 'Segoe UI Symbol'\" font-size=\"13.00\">Quantity</text>\n",
       "<polygon fill=\"#f5f5f5\" stroke=\"transparent\" points=\"501.5,-77 501.5,-101 570.5,-101 570.5,-77 501.5,-77\"/>\n",
       "<text text-anchor=\"start\" x=\"551.5\" y=\"-86.6\" font-family=\"-apple-system, BlinkMacSystemFont, 'Segoe UI', Helvetica, Arial, sans-serif, 'Apple Color Emoji', 'Segoe UI Emoji', 'Segoe UI Symbol'\" font-style=\"italic\" font-size=\"13.00\">int</text>\n",
       "<polygon fill=\"#ffffff\" stroke=\"transparent\" points=\"391.5,-53 391.5,-77 423.5,-77 423.5,-53 391.5,-53\"/>\n",
       "<polygon fill=\"#ffffff\" stroke=\"transparent\" points=\"423.5,-53 423.5,-77 501.5,-77 501.5,-53 423.5,-53\"/>\n",
       "<text text-anchor=\"start\" x=\"428.5\" y=\"-61.6\" font-family=\"-apple-system, BlinkMacSystemFont, 'Segoe UI', Helvetica, Arial, sans-serif, 'Apple Color Emoji', 'Segoe UI Emoji', 'Segoe UI Symbol'\" font-size=\"13.00\">Strike</text>\n",
       "<polygon fill=\"#ffffff\" stroke=\"transparent\" points=\"501.5,-53 501.5,-77 570.5,-77 570.5,-53 501.5,-53\"/>\n",
       "<text text-anchor=\"start\" x=\"531.5\" y=\"-62.6\" font-family=\"-apple-system, BlinkMacSystemFont, 'Segoe UI', Helvetica, Arial, sans-serif, 'Apple Color Emoji', 'Segoe UI Emoji', 'Segoe UI Symbol'\" font-style=\"italic\" font-size=\"13.00\">String</text>\n",
       "<polygon fill=\"#f5f5f5\" stroke=\"transparent\" points=\"391.5,-29 391.5,-53 423.5,-53 423.5,-29 391.5,-29\"/>\n",
       "<polygon fill=\"#f5f5f5\" stroke=\"transparent\" points=\"423.5,-29 423.5,-53 501.5,-53 501.5,-29 423.5,-29\"/>\n",
       "<text text-anchor=\"start\" x=\"428.5\" y=\"-37.6\" font-family=\"-apple-system, BlinkMacSystemFont, 'Segoe UI', Helvetica, Arial, sans-serif, 'Apple Color Emoji', 'Segoe UI Emoji', 'Segoe UI Symbol'\" font-size=\"13.00\">Maturity</text>\n",
       "<polygon fill=\"#f5f5f5\" stroke=\"transparent\" points=\"501.5,-29 501.5,-53 570.5,-53 570.5,-29 501.5,-29\"/>\n",
       "<text text-anchor=\"start\" x=\"506.5\" y=\"-38.6\" font-family=\"-apple-system, BlinkMacSystemFont, 'Segoe UI', Helvetica, Arial, sans-serif, 'Apple Color Emoji', 'Segoe UI Emoji', 'Segoe UI Symbol'\" font-style=\"italic\" font-size=\"13.00\">LocalDate</text>\n",
       "<polygon fill=\"#ffffff\" stroke=\"transparent\" points=\"391.5,-5 391.5,-29 423.5,-29 423.5,-5 391.5,-5\"/>\n",
       "<polygon fill=\"#ffffff\" stroke=\"transparent\" points=\"423.5,-5 423.5,-29 501.5,-29 501.5,-5 423.5,-5\"/>\n",
       "<text text-anchor=\"start\" x=\"428.5\" y=\"-13.6\" font-family=\"-apple-system, BlinkMacSystemFont, 'Segoe UI', Helvetica, Arial, sans-serif, 'Apple Color Emoji', 'Segoe UI Emoji', 'Segoe UI Symbol'\" font-size=\"13.00\">OptionType</text>\n",
       "<polygon fill=\"#ffffff\" stroke=\"transparent\" points=\"501.5,-5 501.5,-29 570.5,-29 570.5,-5 501.5,-5\"/>\n",
       "<text text-anchor=\"start\" x=\"531.5\" y=\"-14.6\" font-family=\"-apple-system, BlinkMacSystemFont, 'Segoe UI', Helvetica, Arial, sans-serif, 'Apple Color Emoji', 'Segoe UI Emoji', 'Segoe UI Symbol'\" font-style=\"italic\" font-size=\"13.00\">String</text>\n",
       "<polygon fill=\"none\" stroke=\"black\" points=\"390,-4 390,-222 571,-222 571,-4 390,-4\"/>\n",
       "</g>\n",
       "<!-- Sensitivities&#45;&gt;Trade Attributes -->\n",
       "<g id=\"edge1\" class=\"edge\">\n",
       "<title>Sensitivities-&gt;Trade Attributes</title>\n",
       "<path fill=\"none\" stroke=\"black\" d=\"M202.17,-180.59C254.51,-167.83 318.59,-152.22 371.96,-139.21\"/>\n",
       "<polygon fill=\"black\" stroke=\"black\" points=\"372.91,-142.58 381.8,-136.81 371.26,-135.78 372.91,-142.58\"/>\n",
       "<text text-anchor=\"middle\" x=\"292\" y=\"-178.6\" font-family=\"-apple-system, BlinkMacSystemFont, 'Segoe UI', Helvetica, Arial, sans-serif, 'Apple Color Emoji', 'Segoe UI Emoji', 'Segoe UI Symbol'\" font-size=\"13.00\">TradeId → TradeId</text>\n",
       "</g>\n",
       "<!-- Book Hierarchy -->\n",
       "<g id=\"node4\" class=\"node\">\n",
       "<title>Book Hierarchy</title>\n",
       "<text text-anchor=\"start\" x=\"738.5\" y=\"-146.6\" font-family=\"-apple-system, BlinkMacSystemFont, 'Segoe UI', Helvetica, Arial, sans-serif, 'Apple Color Emoji', 'Segoe UI Emoji', 'Segoe UI Symbol'\" font-weight=\"bold\" font-size=\"13.00\">Book Hierarchy</text>\n",
       "<polygon fill=\"#f5f5f5\" stroke=\"transparent\" points=\"704,-113 704,-137 736,-137 736,-113 704,-113\"/>\n",
       "<text text-anchor=\"start\" x=\"709\" y=\"-122.6\" font-family=\"-apple-system, BlinkMacSystemFont, 'Segoe UI', Helvetica, Arial, sans-serif, 'Apple Color Emoji', 'Segoe UI Emoji', 'Segoe UI Symbol'\" font-weight=\"bold\" font-size=\"13.00\">key</text>\n",
       "<polygon fill=\"#f5f5f5\" stroke=\"transparent\" points=\"736,-113 736,-137 826,-137 826,-113 736,-113\"/>\n",
       "<text text-anchor=\"start\" x=\"741\" y=\"-121.6\" font-family=\"-apple-system, BlinkMacSystemFont, 'Segoe UI', Helvetica, Arial, sans-serif, 'Apple Color Emoji', 'Segoe UI Emoji', 'Segoe UI Symbol'\" font-size=\"13.00\">Book</text>\n",
       "<polygon fill=\"#f5f5f5\" stroke=\"transparent\" points=\"826,-113 826,-137 870,-137 870,-113 826,-113\"/>\n",
       "<text text-anchor=\"start\" x=\"831\" y=\"-122.6\" font-family=\"-apple-system, BlinkMacSystemFont, 'Segoe UI', Helvetica, Arial, sans-serif, 'Apple Color Emoji', 'Segoe UI Emoji', 'Segoe UI Symbol'\" font-style=\"italic\" font-size=\"13.00\">String</text>\n",
       "<polygon fill=\"#ffffff\" stroke=\"transparent\" points=\"704,-89 704,-113 736,-113 736,-89 704,-89\"/>\n",
       "<polygon fill=\"#ffffff\" stroke=\"transparent\" points=\"736,-89 736,-113 826,-113 826,-89 736,-89\"/>\n",
       "<text text-anchor=\"start\" x=\"741\" y=\"-97.6\" font-family=\"-apple-system, BlinkMacSystemFont, 'Segoe UI', Helvetica, Arial, sans-serif, 'Apple Color Emoji', 'Segoe UI Emoji', 'Segoe UI Symbol'\" font-size=\"13.00\">Desk</text>\n",
       "<polygon fill=\"#ffffff\" stroke=\"transparent\" points=\"826,-89 826,-113 870,-113 870,-89 826,-89\"/>\n",
       "<text text-anchor=\"start\" x=\"831\" y=\"-98.6\" font-family=\"-apple-system, BlinkMacSystemFont, 'Segoe UI', Helvetica, Arial, sans-serif, 'Apple Color Emoji', 'Segoe UI Emoji', 'Segoe UI Symbol'\" font-style=\"italic\" font-size=\"13.00\">String</text>\n",
       "<polygon fill=\"#f5f5f5\" stroke=\"transparent\" points=\"704,-65 704,-89 736,-89 736,-65 704,-65\"/>\n",
       "<polygon fill=\"#f5f5f5\" stroke=\"transparent\" points=\"736,-65 736,-89 826,-89 826,-65 736,-65\"/>\n",
       "<text text-anchor=\"start\" x=\"741\" y=\"-73.6\" font-family=\"-apple-system, BlinkMacSystemFont, 'Segoe UI', Helvetica, Arial, sans-serif, 'Apple Color Emoji', 'Segoe UI Emoji', 'Segoe UI Symbol'\" font-size=\"13.00\">Business Unit</text>\n",
       "<polygon fill=\"#f5f5f5\" stroke=\"transparent\" points=\"826,-65 826,-89 870,-89 870,-65 826,-65\"/>\n",
       "<text text-anchor=\"start\" x=\"831\" y=\"-74.6\" font-family=\"-apple-system, BlinkMacSystemFont, 'Segoe UI', Helvetica, Arial, sans-serif, 'Apple Color Emoji', 'Segoe UI Emoji', 'Segoe UI Symbol'\" font-style=\"italic\" font-size=\"13.00\">String</text>\n",
       "<polygon fill=\"none\" stroke=\"black\" points=\"703,-64 703,-162 871,-162 871,-64 703,-64\"/>\n",
       "</g>\n",
       "<!-- Trade Attributes&#45;&gt;Book Hierarchy -->\n",
       "<g id=\"edge3\" class=\"edge\">\n",
       "<title>Trade Attributes-&gt;Book Hierarchy</title>\n",
       "<path fill=\"none\" stroke=\"black\" d=\"M579.1,-113C612.76,-113 650.53,-113 684.49,-113\"/>\n",
       "<polygon fill=\"black\" stroke=\"black\" points=\"684.9,-116.5 694.9,-113 684.9,-109.5 684.9,-116.5\"/>\n",
       "<text text-anchor=\"middle\" x=\"637\" y=\"-116.6\" font-family=\"-apple-system, BlinkMacSystemFont, 'Segoe UI', Helvetica, Arial, sans-serif, 'Apple Color Emoji', 'Segoe UI Emoji', 'Segoe UI Symbol'\" font-size=\"13.00\">Book → Book</text>\n",
       "</g>\n",
       "</g>\n",
       "</svg>"
      ],
      "text/plain": [
       "<IPython.core.display.SVG object>"
      ]
     },
     "execution_count": 20,
     "metadata": {},
     "output_type": "execute_result"
    }
   ],
   "source": [
    "cube.schema"
   ]
  },
  {
   "cell_type": "markdown",
   "metadata": {},
   "source": [
    "In fact, the **attributes do not have to be static**. They can be refreshed as soon as data arrives. For example, by adding a “Trade status” into the `trade_attributes` store I could use it to tag trades as “Terminated” and filter them out from the view."
   ]
  },
  {
   "cell_type": "markdown",
   "metadata": {},
   "source": [
    "In the following cell, we are creating a hierarchy representing ogranisational structure:"
   ]
  },
  {
   "cell_type": "code",
   "execution_count": 21,
   "metadata": {},
   "outputs": [],
   "source": [
    "h[\"Portfolio Structure\"] = {\n",
    "    \"Business Unit\": lvl[\"Business Unit\"],\n",
    "    \"Desk\": lvl[\"Desk\"],\n",
    "    \"Book\": lvl[\"Book\"],\n",
    "}"
   ]
  },
  {
   "cell_type": "markdown",
   "metadata": {},
   "source": [
    "We can expand and collapse data along the multi-level hierarchy:"
   ]
  },
  {
   "cell_type": "code",
   "execution_count": 22,
   "metadata": {
    "atoti": {
     "state": {
      "name": "",
      "type": "container",
      "value": {
       "body": {
        "configuration": {
         "tabular": {
          "addButtonFilter": "numeric",
          "cellRenderers": [
           "tree-layout"
          ],
          "columns": [],
          "columnsGroups": [
           {
            "captionProducer": "firstColumn",
            "cellFactory": "kpi-status",
            "selector": "kpi-status"
           },
           {
            "captionProducer": "firstColumn",
            "cellFactory": "lookup",
            "selector": "lookup"
           },
           {
            "captionProducer": "expiry",
            "cellFactory": "expiry",
            "selector": "kpi-expiry"
           },
           {
            "captionProducer": "columnMerge",
            "cellFactory": {
             "args": {},
             "key": "treeCells"
            },
            "selector": "member"
           }
          ],
          "defaultOptions": {},
          "expansion": {
           "automaticExpansion": true
          },
          "hideAddButton": true,
          "pinnedHeaderSelector": "member",
          "sortingMode": "non-breaking",
          "statisticsShown": true
         }
        },
        "contextValues": {},
        "mdx": "SELECT NON EMPTY Hierarchize(Union(Crossjoin(Union(DrilldownLevel([Hierarchies].[Portfolio Structure].[ALL].[AllMember]), Descendants({[Hierarchies].[Portfolio Structure].[ALL].[AllMember].[N/A]}, [Hierarchies].[Portfolio Structure].[Desk]), Descendants({[Hierarchies].[Portfolio Structure].[ALL].[AllMember].[N/A].[N/A]}, [Hierarchies].[Portfolio Structure].[Book])), [Hierarchies].[TradeId].DefaultMember), Crossjoin([Hierarchies].[Portfolio Structure].[ALL].[AllMember].[N/A].[N/A].[N/A], [Hierarchies].[TradeId].[TradeId].Members))) ON ROWS, NON EMPTY [Measures].[Delta.SUM] ON COLUMNS FROM [Sensitivities] CELL PROPERTIES VALUE, FORMATTED_VALUE, BACK_COLOR, FORE_COLOR, FONT_FLAGS",
        "ranges": {
         "column": {
          "chunkSize": 50,
          "thresholdPercentage": 0.2
         },
         "row": {
          "chunkSize": 2000,
          "thresholdPercentage": 0.1
         }
        },
        "serverUrl": "",
        "updateMode": "once"
       },
       "containerKey": "pivot-table",
       "showTitleBar": false,
       "style": {}
      }
     }
    }
   },
   "outputs": [
    {
     "data": {
      "application/vnd.atoti.v0+json": {
       "cellSet": {
        "axes": [
         {
          "hierarchies": [
           {
            "dimension": "Measures",
            "hierarchy": "Measures"
           }
          ],
          "id": 0,
          "positions": [
           [
            {
             "captionPath": [
              "Delta.SUM"
             ],
             "namePath": [
              "Delta.SUM"
             ],
             "properties": {
              "DISPLAY_INFO": 0
             }
            }
           ]
          ]
         },
         {
          "hierarchies": [
           {
            "dimension": "Hierarchies",
            "hierarchy": "Portfolio Structure"
           },
           {
            "dimension": "Hierarchies",
            "hierarchy": "TradeId"
           }
          ],
          "id": 1,
          "positions": [
           [
            {
             "captionPath": [
              "AllMember"
             ],
             "namePath": [
              "AllMember"
             ],
             "properties": {
              "DISPLAY_INFO": 65538
             }
            },
            {
             "captionPath": [
              "AllMember"
             ],
             "namePath": [
              "AllMember"
             ],
             "properties": {
              "DISPLAY_INFO": 20
             }
            }
           ],
           [
            {
             "captionPath": [
              "AllMember",
              "Equities"
             ],
             "namePath": [
              "AllMember",
              "Equities"
             ],
             "properties": {
              "DISPLAY_INFO": 2
             }
            },
            {
             "captionPath": [
              "AllMember"
             ],
             "namePath": [
              "AllMember"
             ],
             "properties": {
              "DISPLAY_INFO": 20
             }
            }
           ]
          ]
         }
        ],
        "cells": [
         {
          "formattedValue": "31,605.66",
          "ordinal": 0,
          "properties": {
           "BACK_COLOR": null,
           "FONT_FLAGS": 0,
           "FORE_COLOR": null
          },
          "value": 31605.66086206855
         },
         {
          "formattedValue": "31,605.66",
          "ordinal": 1,
          "properties": {
           "BACK_COLOR": null,
           "FONT_FLAGS": 0,
           "FORE_COLOR": null
          },
          "value": 31605.66086206855
         }
        ],
        "cube": "Sensitivities",
        "defaultMembers": [
         {
          "captionPath": [
           "Count"
          ],
          "dimension": "Measures",
          "hierarchy": "Measures",
          "path": [
           "contributors.COUNT"
          ]
         },
         {
          "captionPath": [
           "2020-07-09"
          ],
          "dimension": "Hierarchies",
          "hierarchy": "AsOfDate",
          "path": [
           "2020-07-09"
          ]
         },
         {
          "captionPath": [
           "Base"
          ],
          "dimension": "Epoch",
          "hierarchy": "Epoch",
          "path": [
           "Base"
          ]
         }
        ],
        "epoch": 7
       },
       "cube": "Sensitivities",
       "error": null,
       "name": null,
       "session": "Unnamed"
      },
      "text/plain": [
       "Open the notebook in JupyterLab with the atoti extension installed and enabled to see this widget."
      ]
     },
     "metadata": {},
     "output_type": "display_data"
    }
   ],
   "source": [
    "cube.visualize()"
   ]
  },
  {
   "cell_type": "markdown",
   "metadata": {},
   "source": [
    "Current data model schema:"
   ]
  },
  {
   "cell_type": "code",
   "execution_count": 23,
   "metadata": {},
   "outputs": [
    {
     "data": {
      "image/svg+xml": [
       "<svg xmlns=\"http://www.w3.org/2000/svg\" xmlns:xlink=\"http://www.w3.org/1999/xlink\" width=\"887px\" height=\"358px\" viewBox=\"0.00 0.00 887.00 358.00\">\n",
       "<g id=\"graph0\" class=\"graph\" transform=\"scale(1.0 1.0) rotate(0) translate(4 354)\">\n",
       "<title>Sensitivities schema</title>\n",
       "<polygon fill=\"white\" stroke=\"transparent\" points=\"-4,4 -4,-354 883,-354 883,4 -4,4\"/>\n",
       "<!-- Sensitivities -->\n",
       "<g id=\"node1\" class=\"node\">\n",
       "<title>Sensitivities</title>\n",
       "<text text-anchor=\"start\" x=\"63\" y=\"-262.6\" font-family=\"-apple-system, BlinkMacSystemFont, 'Segoe UI', Helvetica, Arial, sans-serif, 'Apple Color Emoji', 'Segoe UI Emoji', 'Segoe UI Symbol'\" font-weight=\"bold\" font-size=\"13.00\">Sensitivities</text>\n",
       "<polygon fill=\"#f5f5f5\" stroke=\"transparent\" points=\"9,-229 9,-253 41,-253 41,-229 9,-229\"/>\n",
       "<text text-anchor=\"start\" x=\"14\" y=\"-238.6\" font-family=\"-apple-system, BlinkMacSystemFont, 'Segoe UI', Helvetica, Arial, sans-serif, 'Apple Color Emoji', 'Segoe UI Emoji', 'Segoe UI Symbol'\" font-weight=\"bold\" font-size=\"13.00\">key</text>\n",
       "<polygon fill=\"#f5f5f5\" stroke=\"transparent\" points=\"41,-229 41,-253 124,-253 124,-229 41,-229\"/>\n",
       "<text text-anchor=\"start\" x=\"46\" y=\"-237.6\" font-family=\"-apple-system, BlinkMacSystemFont, 'Segoe UI', Helvetica, Arial, sans-serif, 'Apple Color Emoji', 'Segoe UI Emoji', 'Segoe UI Symbol'\" font-size=\"13.00\">AsOfDate</text>\n",
       "<polygon fill=\"#f5f5f5\" stroke=\"transparent\" points=\"124,-229 124,-253 193,-253 193,-229 124,-229\"/>\n",
       "<text text-anchor=\"start\" x=\"129\" y=\"-238.6\" font-family=\"-apple-system, BlinkMacSystemFont, 'Segoe UI', Helvetica, Arial, sans-serif, 'Apple Color Emoji', 'Segoe UI Emoji', 'Segoe UI Symbol'\" font-style=\"italic\" font-size=\"13.00\">LocalDate</text>\n",
       "<polygon fill=\"#ffffff\" stroke=\"transparent\" points=\"9,-205 9,-229 41,-229 41,-205 9,-205\"/>\n",
       "<text text-anchor=\"start\" x=\"14\" y=\"-214.6\" font-family=\"-apple-system, BlinkMacSystemFont, 'Segoe UI', Helvetica, Arial, sans-serif, 'Apple Color Emoji', 'Segoe UI Emoji', 'Segoe UI Symbol'\" font-weight=\"bold\" font-size=\"13.00\">key</text>\n",
       "<polygon fill=\"#ffffff\" stroke=\"transparent\" points=\"41,-205 41,-229 124,-229 124,-205 41,-205\"/>\n",
       "<text text-anchor=\"start\" x=\"46\" y=\"-213.6\" font-family=\"-apple-system, BlinkMacSystemFont, 'Segoe UI', Helvetica, Arial, sans-serif, 'Apple Color Emoji', 'Segoe UI Emoji', 'Segoe UI Symbol'\" font-size=\"13.00\">TradeId</text>\n",
       "<polygon fill=\"#ffffff\" stroke=\"transparent\" points=\"124,-205 124,-229 193,-229 193,-205 124,-205\"/>\n",
       "<text text-anchor=\"start\" x=\"154\" y=\"-214.6\" font-family=\"-apple-system, BlinkMacSystemFont, 'Segoe UI', Helvetica, Arial, sans-serif, 'Apple Color Emoji', 'Segoe UI Emoji', 'Segoe UI Symbol'\" font-style=\"italic\" font-size=\"13.00\">String</text>\n",
       "<polygon fill=\"#f5f5f5\" stroke=\"transparent\" points=\"9,-181 9,-205 41,-205 41,-181 9,-181\"/>\n",
       "<text text-anchor=\"start\" x=\"14\" y=\"-190.6\" font-family=\"-apple-system, BlinkMacSystemFont, 'Segoe UI', Helvetica, Arial, sans-serif, 'Apple Color Emoji', 'Segoe UI Emoji', 'Segoe UI Symbol'\" font-weight=\"bold\" font-size=\"13.00\">key</text>\n",
       "<polygon fill=\"#f5f5f5\" stroke=\"transparent\" points=\"41,-181 41,-205 124,-205 124,-181 41,-181\"/>\n",
       "<text text-anchor=\"start\" x=\"46\" y=\"-189.6\" font-family=\"-apple-system, BlinkMacSystemFont, 'Segoe UI', Helvetica, Arial, sans-serif, 'Apple Color Emoji', 'Segoe UI Emoji', 'Segoe UI Symbol'\" font-size=\"13.00\">RiskFactor</text>\n",
       "<polygon fill=\"#f5f5f5\" stroke=\"transparent\" points=\"124,-181 124,-205 193,-205 193,-181 124,-181\"/>\n",
       "<text text-anchor=\"start\" x=\"154\" y=\"-190.6\" font-family=\"-apple-system, BlinkMacSystemFont, 'Segoe UI', Helvetica, Arial, sans-serif, 'Apple Color Emoji', 'Segoe UI Emoji', 'Segoe UI Symbol'\" font-style=\"italic\" font-size=\"13.00\">String</text>\n",
       "<polygon fill=\"#ffffff\" stroke=\"transparent\" points=\"9,-157 9,-181 41,-181 41,-157 9,-157\"/>\n",
       "<polygon fill=\"#ffffff\" stroke=\"transparent\" points=\"41,-157 41,-181 124,-181 124,-157 41,-157\"/>\n",
       "<text text-anchor=\"start\" x=\"46\" y=\"-165.6\" font-family=\"-apple-system, BlinkMacSystemFont, 'Segoe UI', Helvetica, Arial, sans-serif, 'Apple Color Emoji', 'Segoe UI Emoji', 'Segoe UI Symbol'\" font-size=\"13.00\">MarketValue</text>\n",
       "<polygon fill=\"#ffffff\" stroke=\"transparent\" points=\"124,-157 124,-181 193,-181 193,-157 124,-157\"/>\n",
       "<text text-anchor=\"start\" x=\"148\" y=\"-166.6\" font-family=\"-apple-system, BlinkMacSystemFont, 'Segoe UI', Helvetica, Arial, sans-serif, 'Apple Color Emoji', 'Segoe UI Emoji', 'Segoe UI Symbol'\" font-style=\"italic\" font-size=\"13.00\">double</text>\n",
       "<polygon fill=\"#f5f5f5\" stroke=\"transparent\" points=\"9,-133 9,-157 41,-157 41,-133 9,-133\"/>\n",
       "<polygon fill=\"#f5f5f5\" stroke=\"transparent\" points=\"41,-133 41,-157 124,-157 124,-133 41,-133\"/>\n",
       "<text text-anchor=\"start\" x=\"46\" y=\"-141.6\" font-family=\"-apple-system, BlinkMacSystemFont, 'Segoe UI', Helvetica, Arial, sans-serif, 'Apple Color Emoji', 'Segoe UI Emoji', 'Segoe UI Symbol'\" font-size=\"13.00\">Delta</text>\n",
       "<polygon fill=\"#f5f5f5\" stroke=\"transparent\" points=\"124,-133 124,-157 193,-157 193,-133 124,-133\"/>\n",
       "<text text-anchor=\"start\" x=\"148\" y=\"-142.6\" font-family=\"-apple-system, BlinkMacSystemFont, 'Segoe UI', Helvetica, Arial, sans-serif, 'Apple Color Emoji', 'Segoe UI Emoji', 'Segoe UI Symbol'\" font-style=\"italic\" font-size=\"13.00\">double</text>\n",
       "<polygon fill=\"none\" stroke=\"black\" points=\"8,-132 8,-278 194,-278 194,-132 8,-132\"/>\n",
       "</g>\n",
       "<!-- Market Data Store -->\n",
       "<g id=\"node2\" class=\"node\">\n",
       "<title>Market Data Store</title>\n",
       "<text text-anchor=\"start\" x=\"425.5\" y=\"-330.6\" font-family=\"-apple-system, BlinkMacSystemFont, 'Segoe UI', Helvetica, Arial, sans-serif, 'Apple Color Emoji', 'Segoe UI Emoji', 'Segoe UI Symbol'\" font-weight=\"bold\" font-size=\"13.00\">Market Data Store</text>\n",
       "<polygon fill=\"#f5f5f5\" stroke=\"transparent\" points=\"394.5,-297 394.5,-321 426.5,-321 426.5,-297 394.5,-297\"/>\n",
       "<text text-anchor=\"start\" x=\"399.5\" y=\"-306.6\" font-family=\"-apple-system, BlinkMacSystemFont, 'Segoe UI', Helvetica, Arial, sans-serif, 'Apple Color Emoji', 'Segoe UI Emoji', 'Segoe UI Symbol'\" font-weight=\"bold\" font-size=\"13.00\">key</text>\n",
       "<polygon fill=\"#f5f5f5\" stroke=\"transparent\" points=\"426.5,-297 426.5,-321 498.5,-321 498.5,-297 426.5,-297\"/>\n",
       "<text text-anchor=\"start\" x=\"431.5\" y=\"-305.6\" font-family=\"-apple-system, BlinkMacSystemFont, 'Segoe UI', Helvetica, Arial, sans-serif, 'Apple Color Emoji', 'Segoe UI Emoji', 'Segoe UI Symbol'\" font-size=\"13.00\">AsOfDate</text>\n",
       "<polygon fill=\"#f5f5f5\" stroke=\"transparent\" points=\"498.5,-297 498.5,-321 567.5,-321 567.5,-297 498.5,-297\"/>\n",
       "<text text-anchor=\"start\" x=\"503.5\" y=\"-306.6\" font-family=\"-apple-system, BlinkMacSystemFont, 'Segoe UI', Helvetica, Arial, sans-serif, 'Apple Color Emoji', 'Segoe UI Emoji', 'Segoe UI Symbol'\" font-style=\"italic\" font-size=\"13.00\">LocalDate</text>\n",
       "<polygon fill=\"#ffffff\" stroke=\"transparent\" points=\"394.5,-273 394.5,-297 426.5,-297 426.5,-273 394.5,-273\"/>\n",
       "<text text-anchor=\"start\" x=\"399.5\" y=\"-282.6\" font-family=\"-apple-system, BlinkMacSystemFont, 'Segoe UI', Helvetica, Arial, sans-serif, 'Apple Color Emoji', 'Segoe UI Emoji', 'Segoe UI Symbol'\" font-weight=\"bold\" font-size=\"13.00\">key</text>\n",
       "<polygon fill=\"#ffffff\" stroke=\"transparent\" points=\"426.5,-273 426.5,-297 498.5,-297 498.5,-273 426.5,-273\"/>\n",
       "<text text-anchor=\"start\" x=\"431.5\" y=\"-281.6\" font-family=\"-apple-system, BlinkMacSystemFont, 'Segoe UI', Helvetica, Arial, sans-serif, 'Apple Color Emoji', 'Segoe UI Emoji', 'Segoe UI Symbol'\" font-size=\"13.00\">Instrument</text>\n",
       "<polygon fill=\"#ffffff\" stroke=\"transparent\" points=\"498.5,-273 498.5,-297 567.5,-297 567.5,-273 498.5,-273\"/>\n",
       "<text text-anchor=\"start\" x=\"528.5\" y=\"-282.6\" font-family=\"-apple-system, BlinkMacSystemFont, 'Segoe UI', Helvetica, Arial, sans-serif, 'Apple Color Emoji', 'Segoe UI Emoji', 'Segoe UI Symbol'\" font-style=\"italic\" font-size=\"13.00\">String</text>\n",
       "<polygon fill=\"#f5f5f5\" stroke=\"transparent\" points=\"394.5,-249 394.5,-273 426.5,-273 426.5,-249 394.5,-249\"/>\n",
       "<polygon fill=\"#f5f5f5\" stroke=\"transparent\" points=\"426.5,-249 426.5,-273 498.5,-273 498.5,-249 426.5,-249\"/>\n",
       "<text text-anchor=\"start\" x=\"431.5\" y=\"-257.6\" font-family=\"-apple-system, BlinkMacSystemFont, 'Segoe UI', Helvetica, Arial, sans-serif, 'Apple Color Emoji', 'Segoe UI Emoji', 'Segoe UI Symbol'\" font-size=\"13.00\">Quote</text>\n",
       "<polygon fill=\"#f5f5f5\" stroke=\"transparent\" points=\"498.5,-249 498.5,-273 567.5,-273 567.5,-249 498.5,-249\"/>\n",
       "<text text-anchor=\"start\" x=\"522.5\" y=\"-258.6\" font-family=\"-apple-system, BlinkMacSystemFont, 'Segoe UI', Helvetica, Arial, sans-serif, 'Apple Color Emoji', 'Segoe UI Emoji', 'Segoe UI Symbol'\" font-style=\"italic\" font-size=\"13.00\">double</text>\n",
       "<polygon fill=\"none\" stroke=\"black\" points=\"393,-248 393,-346 568,-346 568,-248 393,-248\"/>\n",
       "</g>\n",
       "<!-- Sensitivities&#45;&gt;Market Data Store -->\n",
       "<g id=\"edge2\" class=\"edge\">\n",
       "<title>Sensitivities-&gt;Market Data Store</title>\n",
       "<path fill=\"none\" stroke=\"black\" d=\"M202.17,-229.41C255.43,-242.39 320.86,-258.34 374.78,-271.48\"/>\n",
       "<polygon fill=\"black\" stroke=\"black\" points=\"374.17,-274.93 384.71,-273.9 375.83,-268.13 374.17,-274.93\"/>\n",
       "<text text-anchor=\"middle\" x=\"292\" y=\"-284.6\" font-family=\"-apple-system, BlinkMacSystemFont, 'Segoe UI', Helvetica, Arial, sans-serif, 'Apple Color Emoji', 'Segoe UI Emoji', 'Segoe UI Symbol'\" font-size=\"13.00\">AsOfDate → AsOfDate</text>\n",
       "<text text-anchor=\"middle\" x=\"292\" y=\"-270.6\" font-family=\"-apple-system, BlinkMacSystemFont, 'Segoe UI', Helvetica, Arial, sans-serif, 'Apple Color Emoji', 'Segoe UI Emoji', 'Segoe UI Symbol'\" font-size=\"13.00\">RiskFactor → Instrument</text>\n",
       "</g>\n",
       "<!-- Trade Attributes -->\n",
       "<g id=\"node3\" class=\"node\">\n",
       "<title>Trade Attributes</title>\n",
       "<text text-anchor=\"start\" x=\"430.5\" y=\"-206.6\" font-family=\"-apple-system, BlinkMacSystemFont, 'Segoe UI', Helvetica, Arial, sans-serif, 'Apple Color Emoji', 'Segoe UI Emoji', 'Segoe UI Symbol'\" font-weight=\"bold\" font-size=\"13.00\">Trade Attributes</text>\n",
       "<polygon fill=\"#f5f5f5\" stroke=\"transparent\" points=\"391.5,-173 391.5,-197 423.5,-197 423.5,-173 391.5,-173\"/>\n",
       "<text text-anchor=\"start\" x=\"396.5\" y=\"-182.6\" font-family=\"-apple-system, BlinkMacSystemFont, 'Segoe UI', Helvetica, Arial, sans-serif, 'Apple Color Emoji', 'Segoe UI Emoji', 'Segoe UI Symbol'\" font-weight=\"bold\" font-size=\"13.00\">key</text>\n",
       "<polygon fill=\"#f5f5f5\" stroke=\"transparent\" points=\"423.5,-173 423.5,-197 501.5,-197 501.5,-173 423.5,-173\"/>\n",
       "<text text-anchor=\"start\" x=\"428.5\" y=\"-181.6\" font-family=\"-apple-system, BlinkMacSystemFont, 'Segoe UI', Helvetica, Arial, sans-serif, 'Apple Color Emoji', 'Segoe UI Emoji', 'Segoe UI Symbol'\" font-size=\"13.00\">TradeId</text>\n",
       "<polygon fill=\"#f5f5f5\" stroke=\"transparent\" points=\"501.5,-173 501.5,-197 570.5,-197 570.5,-173 501.5,-173\"/>\n",
       "<text text-anchor=\"start\" x=\"531.5\" y=\"-182.6\" font-family=\"-apple-system, BlinkMacSystemFont, 'Segoe UI', Helvetica, Arial, sans-serif, 'Apple Color Emoji', 'Segoe UI Emoji', 'Segoe UI Symbol'\" font-style=\"italic\" font-size=\"13.00\">String</text>\n",
       "<polygon fill=\"#ffffff\" stroke=\"transparent\" points=\"391.5,-149 391.5,-173 423.5,-173 423.5,-149 391.5,-149\"/>\n",
       "<polygon fill=\"#ffffff\" stroke=\"transparent\" points=\"423.5,-149 423.5,-173 501.5,-173 501.5,-149 423.5,-149\"/>\n",
       "<text text-anchor=\"start\" x=\"428.5\" y=\"-157.6\" font-family=\"-apple-system, BlinkMacSystemFont, 'Segoe UI', Helvetica, Arial, sans-serif, 'Apple Color Emoji', 'Segoe UI Emoji', 'Segoe UI Symbol'\" font-size=\"13.00\">Ticker</text>\n",
       "<polygon fill=\"#ffffff\" stroke=\"transparent\" points=\"501.5,-149 501.5,-173 570.5,-173 570.5,-149 501.5,-149\"/>\n",
       "<text text-anchor=\"start\" x=\"531.5\" y=\"-158.6\" font-family=\"-apple-system, BlinkMacSystemFont, 'Segoe UI', Helvetica, Arial, sans-serif, 'Apple Color Emoji', 'Segoe UI Emoji', 'Segoe UI Symbol'\" font-style=\"italic\" font-size=\"13.00\">String</text>\n",
       "<polygon fill=\"#f5f5f5\" stroke=\"transparent\" points=\"391.5,-125 391.5,-149 423.5,-149 423.5,-125 391.5,-125\"/>\n",
       "<polygon fill=\"#f5f5f5\" stroke=\"transparent\" points=\"423.5,-125 423.5,-149 501.5,-149 501.5,-125 423.5,-125\"/>\n",
       "<text text-anchor=\"start\" x=\"428.5\" y=\"-133.6\" font-family=\"-apple-system, BlinkMacSystemFont, 'Segoe UI', Helvetica, Arial, sans-serif, 'Apple Color Emoji', 'Segoe UI Emoji', 'Segoe UI Symbol'\" font-size=\"13.00\">Book</text>\n",
       "<polygon fill=\"#f5f5f5\" stroke=\"transparent\" points=\"501.5,-125 501.5,-149 570.5,-149 570.5,-125 501.5,-125\"/>\n",
       "<text text-anchor=\"start\" x=\"531.5\" y=\"-134.6\" font-family=\"-apple-system, BlinkMacSystemFont, 'Segoe UI', Helvetica, Arial, sans-serif, 'Apple Color Emoji', 'Segoe UI Emoji', 'Segoe UI Symbol'\" font-style=\"italic\" font-size=\"13.00\">String</text>\n",
       "<polygon fill=\"#ffffff\" stroke=\"transparent\" points=\"391.5,-101 391.5,-125 423.5,-125 423.5,-101 391.5,-101\"/>\n",
       "<polygon fill=\"#ffffff\" stroke=\"transparent\" points=\"423.5,-101 423.5,-125 501.5,-125 501.5,-101 423.5,-101\"/>\n",
       "<text text-anchor=\"start\" x=\"428.5\" y=\"-109.6\" font-family=\"-apple-system, BlinkMacSystemFont, 'Segoe UI', Helvetica, Arial, sans-serif, 'Apple Color Emoji', 'Segoe UI Emoji', 'Segoe UI Symbol'\" font-size=\"13.00\">Product</text>\n",
       "<polygon fill=\"#ffffff\" stroke=\"transparent\" points=\"501.5,-101 501.5,-125 570.5,-125 570.5,-101 501.5,-101\"/>\n",
       "<text text-anchor=\"start\" x=\"531.5\" y=\"-110.6\" font-family=\"-apple-system, BlinkMacSystemFont, 'Segoe UI', Helvetica, Arial, sans-serif, 'Apple Color Emoji', 'Segoe UI Emoji', 'Segoe UI Symbol'\" font-style=\"italic\" font-size=\"13.00\">String</text>\n",
       "<polygon fill=\"#f5f5f5\" stroke=\"transparent\" points=\"391.5,-77 391.5,-101 423.5,-101 423.5,-77 391.5,-77\"/>\n",
       "<polygon fill=\"#f5f5f5\" stroke=\"transparent\" points=\"423.5,-77 423.5,-101 501.5,-101 501.5,-77 423.5,-77\"/>\n",
       "<text text-anchor=\"start\" x=\"428.5\" y=\"-85.6\" font-family=\"-apple-system, BlinkMacSystemFont, 'Segoe UI', Helvetica, Arial, sans-serif, 'Apple Color Emoji', 'Segoe UI Emoji', 'Segoe UI Symbol'\" font-size=\"13.00\">Quantity</text>\n",
       "<polygon fill=\"#f5f5f5\" stroke=\"transparent\" points=\"501.5,-77 501.5,-101 570.5,-101 570.5,-77 501.5,-77\"/>\n",
       "<text text-anchor=\"start\" x=\"551.5\" y=\"-86.6\" font-family=\"-apple-system, BlinkMacSystemFont, 'Segoe UI', Helvetica, Arial, sans-serif, 'Apple Color Emoji', 'Segoe UI Emoji', 'Segoe UI Symbol'\" font-style=\"italic\" font-size=\"13.00\">int</text>\n",
       "<polygon fill=\"#ffffff\" stroke=\"transparent\" points=\"391.5,-53 391.5,-77 423.5,-77 423.5,-53 391.5,-53\"/>\n",
       "<polygon fill=\"#ffffff\" stroke=\"transparent\" points=\"423.5,-53 423.5,-77 501.5,-77 501.5,-53 423.5,-53\"/>\n",
       "<text text-anchor=\"start\" x=\"428.5\" y=\"-61.6\" font-family=\"-apple-system, BlinkMacSystemFont, 'Segoe UI', Helvetica, Arial, sans-serif, 'Apple Color Emoji', 'Segoe UI Emoji', 'Segoe UI Symbol'\" font-size=\"13.00\">Strike</text>\n",
       "<polygon fill=\"#ffffff\" stroke=\"transparent\" points=\"501.5,-53 501.5,-77 570.5,-77 570.5,-53 501.5,-53\"/>\n",
       "<text text-anchor=\"start\" x=\"531.5\" y=\"-62.6\" font-family=\"-apple-system, BlinkMacSystemFont, 'Segoe UI', Helvetica, Arial, sans-serif, 'Apple Color Emoji', 'Segoe UI Emoji', 'Segoe UI Symbol'\" font-style=\"italic\" font-size=\"13.00\">String</text>\n",
       "<polygon fill=\"#f5f5f5\" stroke=\"transparent\" points=\"391.5,-29 391.5,-53 423.5,-53 423.5,-29 391.5,-29\"/>\n",
       "<polygon fill=\"#f5f5f5\" stroke=\"transparent\" points=\"423.5,-29 423.5,-53 501.5,-53 501.5,-29 423.5,-29\"/>\n",
       "<text text-anchor=\"start\" x=\"428.5\" y=\"-37.6\" font-family=\"-apple-system, BlinkMacSystemFont, 'Segoe UI', Helvetica, Arial, sans-serif, 'Apple Color Emoji', 'Segoe UI Emoji', 'Segoe UI Symbol'\" font-size=\"13.00\">Maturity</text>\n",
       "<polygon fill=\"#f5f5f5\" stroke=\"transparent\" points=\"501.5,-29 501.5,-53 570.5,-53 570.5,-29 501.5,-29\"/>\n",
       "<text text-anchor=\"start\" x=\"506.5\" y=\"-38.6\" font-family=\"-apple-system, BlinkMacSystemFont, 'Segoe UI', Helvetica, Arial, sans-serif, 'Apple Color Emoji', 'Segoe UI Emoji', 'Segoe UI Symbol'\" font-style=\"italic\" font-size=\"13.00\">LocalDate</text>\n",
       "<polygon fill=\"#ffffff\" stroke=\"transparent\" points=\"391.5,-5 391.5,-29 423.5,-29 423.5,-5 391.5,-5\"/>\n",
       "<polygon fill=\"#ffffff\" stroke=\"transparent\" points=\"423.5,-5 423.5,-29 501.5,-29 501.5,-5 423.5,-5\"/>\n",
       "<text text-anchor=\"start\" x=\"428.5\" y=\"-13.6\" font-family=\"-apple-system, BlinkMacSystemFont, 'Segoe UI', Helvetica, Arial, sans-serif, 'Apple Color Emoji', 'Segoe UI Emoji', 'Segoe UI Symbol'\" font-size=\"13.00\">OptionType</text>\n",
       "<polygon fill=\"#ffffff\" stroke=\"transparent\" points=\"501.5,-5 501.5,-29 570.5,-29 570.5,-5 501.5,-5\"/>\n",
       "<text text-anchor=\"start\" x=\"531.5\" y=\"-14.6\" font-family=\"-apple-system, BlinkMacSystemFont, 'Segoe UI', Helvetica, Arial, sans-serif, 'Apple Color Emoji', 'Segoe UI Emoji', 'Segoe UI Symbol'\" font-style=\"italic\" font-size=\"13.00\">String</text>\n",
       "<polygon fill=\"none\" stroke=\"black\" points=\"390,-4 390,-222 571,-222 571,-4 390,-4\"/>\n",
       "</g>\n",
       "<!-- Sensitivities&#45;&gt;Trade Attributes -->\n",
       "<g id=\"edge1\" class=\"edge\">\n",
       "<title>Sensitivities-&gt;Trade Attributes</title>\n",
       "<path fill=\"none\" stroke=\"black\" d=\"M202.17,-180.59C254.51,-167.83 318.59,-152.22 371.96,-139.21\"/>\n",
       "<polygon fill=\"black\" stroke=\"black\" points=\"372.91,-142.58 381.8,-136.81 371.26,-135.78 372.91,-142.58\"/>\n",
       "<text text-anchor=\"middle\" x=\"292\" y=\"-178.6\" font-family=\"-apple-system, BlinkMacSystemFont, 'Segoe UI', Helvetica, Arial, sans-serif, 'Apple Color Emoji', 'Segoe UI Emoji', 'Segoe UI Symbol'\" font-size=\"13.00\">TradeId → TradeId</text>\n",
       "</g>\n",
       "<!-- Book Hierarchy -->\n",
       "<g id=\"node4\" class=\"node\">\n",
       "<title>Book Hierarchy</title>\n",
       "<text text-anchor=\"start\" x=\"738.5\" y=\"-146.6\" font-family=\"-apple-system, BlinkMacSystemFont, 'Segoe UI', Helvetica, Arial, sans-serif, 'Apple Color Emoji', 'Segoe UI Emoji', 'Segoe UI Symbol'\" font-weight=\"bold\" font-size=\"13.00\">Book Hierarchy</text>\n",
       "<polygon fill=\"#f5f5f5\" stroke=\"transparent\" points=\"704,-113 704,-137 736,-137 736,-113 704,-113\"/>\n",
       "<text text-anchor=\"start\" x=\"709\" y=\"-122.6\" font-family=\"-apple-system, BlinkMacSystemFont, 'Segoe UI', Helvetica, Arial, sans-serif, 'Apple Color Emoji', 'Segoe UI Emoji', 'Segoe UI Symbol'\" font-weight=\"bold\" font-size=\"13.00\">key</text>\n",
       "<polygon fill=\"#f5f5f5\" stroke=\"transparent\" points=\"736,-113 736,-137 826,-137 826,-113 736,-113\"/>\n",
       "<text text-anchor=\"start\" x=\"741\" y=\"-121.6\" font-family=\"-apple-system, BlinkMacSystemFont, 'Segoe UI', Helvetica, Arial, sans-serif, 'Apple Color Emoji', 'Segoe UI Emoji', 'Segoe UI Symbol'\" font-size=\"13.00\">Book</text>\n",
       "<polygon fill=\"#f5f5f5\" stroke=\"transparent\" points=\"826,-113 826,-137 870,-137 870,-113 826,-113\"/>\n",
       "<text text-anchor=\"start\" x=\"831\" y=\"-122.6\" font-family=\"-apple-system, BlinkMacSystemFont, 'Segoe UI', Helvetica, Arial, sans-serif, 'Apple Color Emoji', 'Segoe UI Emoji', 'Segoe UI Symbol'\" font-style=\"italic\" font-size=\"13.00\">String</text>\n",
       "<polygon fill=\"#ffffff\" stroke=\"transparent\" points=\"704,-89 704,-113 736,-113 736,-89 704,-89\"/>\n",
       "<polygon fill=\"#ffffff\" stroke=\"transparent\" points=\"736,-89 736,-113 826,-113 826,-89 736,-89\"/>\n",
       "<text text-anchor=\"start\" x=\"741\" y=\"-97.6\" font-family=\"-apple-system, BlinkMacSystemFont, 'Segoe UI', Helvetica, Arial, sans-serif, 'Apple Color Emoji', 'Segoe UI Emoji', 'Segoe UI Symbol'\" font-size=\"13.00\">Desk</text>\n",
       "<polygon fill=\"#ffffff\" stroke=\"transparent\" points=\"826,-89 826,-113 870,-113 870,-89 826,-89\"/>\n",
       "<text text-anchor=\"start\" x=\"831\" y=\"-98.6\" font-family=\"-apple-system, BlinkMacSystemFont, 'Segoe UI', Helvetica, Arial, sans-serif, 'Apple Color Emoji', 'Segoe UI Emoji', 'Segoe UI Symbol'\" font-style=\"italic\" font-size=\"13.00\">String</text>\n",
       "<polygon fill=\"#f5f5f5\" stroke=\"transparent\" points=\"704,-65 704,-89 736,-89 736,-65 704,-65\"/>\n",
       "<polygon fill=\"#f5f5f5\" stroke=\"transparent\" points=\"736,-65 736,-89 826,-89 826,-65 736,-65\"/>\n",
       "<text text-anchor=\"start\" x=\"741\" y=\"-73.6\" font-family=\"-apple-system, BlinkMacSystemFont, 'Segoe UI', Helvetica, Arial, sans-serif, 'Apple Color Emoji', 'Segoe UI Emoji', 'Segoe UI Symbol'\" font-size=\"13.00\">Business Unit</text>\n",
       "<polygon fill=\"#f5f5f5\" stroke=\"transparent\" points=\"826,-65 826,-89 870,-89 870,-65 826,-65\"/>\n",
       "<text text-anchor=\"start\" x=\"831\" y=\"-74.6\" font-family=\"-apple-system, BlinkMacSystemFont, 'Segoe UI', Helvetica, Arial, sans-serif, 'Apple Color Emoji', 'Segoe UI Emoji', 'Segoe UI Symbol'\" font-style=\"italic\" font-size=\"13.00\">String</text>\n",
       "<polygon fill=\"none\" stroke=\"black\" points=\"703,-64 703,-162 871,-162 871,-64 703,-64\"/>\n",
       "</g>\n",
       "<!-- Trade Attributes&#45;&gt;Book Hierarchy -->\n",
       "<g id=\"edge3\" class=\"edge\">\n",
       "<title>Trade Attributes-&gt;Book Hierarchy</title>\n",
       "<path fill=\"none\" stroke=\"black\" d=\"M579.1,-113C612.76,-113 650.53,-113 684.49,-113\"/>\n",
       "<polygon fill=\"black\" stroke=\"black\" points=\"684.9,-116.5 694.9,-113 684.9,-109.5 684.9,-116.5\"/>\n",
       "<text text-anchor=\"middle\" x=\"637\" y=\"-116.6\" font-family=\"-apple-system, BlinkMacSystemFont, 'Segoe UI', Helvetica, Arial, sans-serif, 'Apple Color Emoji', 'Segoe UI Emoji', 'Segoe UI Symbol'\" font-size=\"13.00\">Book → Book</text>\n",
       "</g>\n",
       "</g>\n",
       "</svg>"
      ],
      "text/plain": [
       "<IPython.core.display.SVG object>"
      ]
     },
     "execution_count": 23,
     "metadata": {},
     "output_type": "execute_result"
    }
   ],
   "source": [
    "cube.schema"
   ]
  },
  {
   "cell_type": "markdown",
   "metadata": {},
   "source": [
    "# Start real-time sources\n",
    "\n",
    "In the following section I'm emulating a market data feed, which is triggering portfolio repricing. \n",
    "\n",
    "A pricing library is mocked up by a function computing greeks using a QuantLib implementation of the Black-Scholes formulae. "
   ]
  },
  {
   "cell_type": "code",
   "execution_count": 25,
   "metadata": {},
   "outputs": [
    {
     "name": "stdout",
     "output_type": "stream",
     "text": [
      "Collecting QuantLib\n",
      "  Using cached QuantLib-1.19-cp38-cp38-macosx_10_9_x86_64.whl (13.9 MB)\n",
      "Installing collected packages: QuantLib\n",
      "Successfully installed QuantLib-1.19\n"
     ]
    }
   ],
   "source": [
    "## Uncomment these lines if you wish to install QuantLib\n",
    "import sys\n",
    "!{sys.executable} -m pip install QuantLib"
   ]
  },
  {
   "cell_type": "code",
   "execution_count": 26,
   "metadata": {},
   "outputs": [],
   "source": [
    "from pricing_engine_emulator import reprice_portfolio, reprice_trade"
   ]
  },
  {
   "cell_type": "markdown",
   "metadata": {},
   "source": [
    "Open a dashboard via this link - you will see the most recent portfolio summary. The widgets are switched to the \"real-time\" query mode, but the data is not updating just yet. Run the subsequent cells to \"start\" the real-time and watch cells blinking."
   ]
  },
  {
   "cell_type": "code",
   "execution_count": 27,
   "metadata": {},
   "outputs": [
    {
     "data": {
      "text/plain": [
       "'http://localhost:59112/#/dashboard/8b4'"
      ]
     },
     "execution_count": 27,
     "metadata": {},
     "output_type": "execute_result"
    }
   ],
   "source": [
    "session.url + \"/#/dashboard/8b4\""
   ]
  },
  {
   "cell_type": "markdown",
   "metadata": {},
   "source": [
    "To simulate the market data updates, I am going to replay simulated historical stock prices. This code snippet downloads historical data and pushes new tick updates into a queue. The publisher waits for the `should_publish` event, which is triggered in the subsequent cells."
   ]
  },
  {
   "cell_type": "code",
   "execution_count": 28,
   "metadata": {},
   "outputs": [],
   "source": [
    "import queue\n",
    "import threading\n",
    "\n",
    "should_publish = threading.Event()\n",
    "\n",
    "spot_update_queue = queue.Queue()\n",
    "tick_data = pd.read_csv(\n",
    "    \"https://data.atoti.io/notebooks/real-time-risk/static-input-files/stock_price_tick_data.csv\", index_col=\"AsOfDate\", parse_dates=[\"AsOfDate\"]\n",
    ")\n",
    "positions = pd.read_csv(\"https://data.atoti.io/notebooks/real-time-risk/static-input-files/trade_attributes.csv\", parse_dates=[\"Maturity\"])\n",
    "\n",
    "\n",
    "def start_spot_publisher():\n",
    "    # The publisher is replaying tick_data.\n",
    "    # It waits for the should publish event (see subsequent cells to trigger).\n",
    "\n",
    "    current_time = -1\n",
    "    for idx, row in tick_data.iterrows():\n",
    "        next_time = idx\n",
    "        if current_time != -1:\n",
    "            dt = (next_time - current_time).total_seconds() / 100.0\n",
    "            time.sleep(dt)\n",
    "        current_time = idx\n",
    "        print(\"\\rawaiting for publishing update \" + str(idx), end=\"\")\n",
    "        should_publish.wait()\n",
    "        print(\"\\rpublishing update \" + str(idx), end=\"\")\n",
    "        spot_update_queue.put((idx, row.to_dict()))\n",
    "    spot_update_queue.join()\n",
    "    print(\"All work completed\")\n",
    "\n",
    "\n",
    "def start_spot_update_listener():\n",
    "    print(\"Real time updates started\")\n",
    "    while True:\n",
    "        calc_date, spot_prices_by_ticker = spot_update_queue.get()\n",
    "\n",
    "        \"\"\"\n",
    "        As discussed above, I'm illustrating the \"reactive\" data store \n",
    "        by configuring it with the parameter watch set to True.\n",
    "        With the following code I'm updating the file on disc:\n",
    "        \"\"\"\n",
    "        reprice_portfolio(spot_prices_by_ticker, positions, calc_date).to_csv(\n",
    "            \"dynamic-input-files/risk_data.csv\", index=False\n",
    "        )\n",
    "\n",
    "        \"\"\"\n",
    "        The second example of real-time implementation - is injecting the data \n",
    "        directly into a datastore.\n",
    "        With the following code I'm appending the new stock prices to the market data store.\n",
    "        \"\"\"\n",
    "        for i in list(spot_prices_by_ticker.items()):\n",
    "            if not pd.isnull(i[1]):\n",
    "                clear_output(wait=True)\n",
    "                print((calc_date.strftime(\"%Y-%m-%d\"), i[0], i[1]))\n",
    "                market_data_store.append((calc_date.strftime(\"%Y-%m-%d\"), i[0], i[1]))\n",
    "\n",
    "        spot_update_queue.task_done()\n",
    "\n",
    "\n",
    "listener_thread = threading.Thread(target=start_spot_update_listener, daemon=True)\n",
    "publisher_thread = threading.Thread(target=start_spot_publisher, daemon=True)"
   ]
  },
  {
   "cell_type": "markdown",
   "metadata": {},
   "source": [
    "\n",
    "Run the next cell to start the real-time feeds - and see the cells in the dashboards blinking if then contributing data changes."
   ]
  },
  {
   "cell_type": "code",
   "execution_count": 29,
   "metadata": {},
   "outputs": [
    {
     "name": "stdout",
     "output_type": "stream",
     "text": [
      "('2020-07-09', 'AAPL', 398.47)\n"
     ]
    }
   ],
   "source": [
    "publisher_thread.start()\n",
    "listener_thread.start()\n",
    "# start publishing\n",
    "should_publish.set()"
   ]
  },
  {
   "cell_type": "code",
   "execution_count": 30,
   "metadata": {},
   "outputs": [
    {
     "name": "stdout",
     "output_type": "stream",
     "text": [
      "('2020-07-09', 'AAPL', 394.22)\n",
      "awaiting for publishing update 2020-07-09 13:34:00"
     ]
    }
   ],
   "source": [
    "# pause publishing\n",
    "should_publish.clear()"
   ]
  },
  {
   "cell_type": "markdown",
   "metadata": {},
   "source": [
    "# 3. Kafka feed and a custom deserializer"
   ]
  },
  {
   "cell_type": "markdown",
   "metadata": {},
   "source": [
    "The above real-time feeds are illustrating the file **watch** and the **append** command. Now let's have a quick look at enabling a **kafka feed** for a  datastore.\n",
    "\n",
    "I'm using [Bitnami Docker Image for Kafka](https://hub.docker.com/r/bitnami/kafka/) to run kafka, as a first step I'm downloading the .yml:\n",
    "\n",
    "```\n",
    "curl -sSL https://raw.githubusercontent.com/bitnami/bitnami-docker-kafka/master/docker-compose.yml > docker-compose.yml\n",
    "```\n",
    "\n",
    "Then adding the following parameter to the kafka environment section in the docker-compose.yaml - this makes Kafka accessible from outside the container.\n",
    "\n",
    "\n",
    "```    \n",
    "    - KAFKA_ADVERTISED_LISTENERS=PLAINTEXT://127.0.0.1:9092\n",
    "```\n",
    "\n",
    "![Docker config](./img/docker-config.png)\n",
    "\n",
    "\n",
    "Then I'm using docker-compose to launch kafka:\n",
    "\n",
    "```\n",
    "docker-compose up -d\n",
    "```\n",
    "\n",
    "And then creating a topic for trades:\n",
    "\n",
    "```\n",
    "docker exec -it real-time-risk_kafka_1 /opt/bitnami/kafka/bin/kafka-topics.sh --create --bootstrap-server 127.0.0.1:9092 --topic trades\n",
    "```"
   ]
  },
  {
   "cell_type": "markdown",
   "metadata": {},
   "source": [
    "Let's point the `trades_datastore` to the kafka feed. atoti will consume the arriving trades data, and the widgets will refresh automatically (need to toggle them to real-time mode - as described in the atoti for real-time section above)\n",
    "\n",
    "For a complete list of the atoti's `load_kafka` parameters, please refer to the doc [load_kafka](https://docs.atoti.io/0.4.2/lib/atoti.html?highlight=kafka#atoti.store.Store.load_kafka). In this example, I will leave the defaults for the `batch_duration` and `consumer_config` and create a custom serializer - that will skip certain fields from the trade tickets."
   ]
  },
  {
   "cell_type": "code",
   "execution_count": 31,
   "metadata": {},
   "outputs": [],
   "source": [
    "# This serializer will pick up the trade attributes field from the trade message\n",
    "def fetch_trade_attributes(record: str):\n",
    "    obj = json.loads(record)\n",
    "    fact = {}\n",
    "    for column in trade_attributes.columns:\n",
    "        fact[column] = obj[column] if column in obj.keys() else \"\"\n",
    "    return fact\n",
    "\n",
    "\n",
    "# This serializer will pick up market value from the trade message. It also populates RiskFactor from the Ticker field:\n",
    "def fetch_sensitivities(record: str):\n",
    "    obj = json.loads(record)\n",
    "    fact = {}\n",
    "    for column in sensitivities_store.columns:\n",
    "        fact[column] = obj[column] if column in obj.keys() else \"\"\n",
    "    fact[\"RiskFactor\"] = obj[\"Ticker\"]\n",
    "    return fact"
   ]
  },
  {
   "cell_type": "markdown",
   "metadata": {},
   "source": [
    "The base store`sensitivities_store` and the `trade_attributes` will be populated from the same message, and the serializers defined above will pick the relevant fields."
   ]
  },
  {
   "cell_type": "code",
   "execution_count": 32,
   "metadata": {},
   "outputs": [],
   "source": [
    "trade_attributes.load_kafka(\n",
    "    bootstrap_server=\"localhost:9092\",\n",
    "    topic=\"trades\",\n",
    "    group_id=\"atoti-trades-consumer\",\n",
    "    deserializer=tt.kafka.create_deserializer(fetch_trade_attributes),\n",
    ")\n",
    "\n",
    "sensitivities_store.load_kafka(\n",
    "    bootstrap_server=\"localhost:9092\",\n",
    "    topic=\"trades\",\n",
    "    group_id=\"atoti-risk-consumer\",\n",
    "    deserializer=tt.kafka.create_deserializer(fetch_sensitivities),\n",
    ")"
   ]
  },
  {
   "cell_type": "markdown",
   "metadata": {},
   "source": [
    "I'll be using python kafka module to push new trade events. In the next cell, I'm sending a first trade message."
   ]
  },
  {
   "cell_type": "code",
   "execution_count": null,
   "metadata": {},
   "outputs": [],
   "source": [
    "# # Uncomment these lines if you wish to install kafka-python\n",
    "import sys\n",
    "!conda install  -c conda-forge --yes --prefix {sys.prefix} kafka-python"
   ]
  },
  {
   "cell_type": "code",
   "execution_count": null,
   "metadata": {},
   "outputs": [],
   "source": [
    "# using kafka python module to publish messages\n",
    "from kafka import KafkaProducer\n",
    "\n",
    "producer = KafkaProducer(\n",
    "    value_serializer=lambda v: json.dumps(v).encode(\"utf-8\"),\n",
    "    bootstrap_servers=[\"127.0.0.1:9092\"],\n",
    ")"
   ]
  },
  {
   "cell_type": "markdown",
   "metadata": {},
   "source": [
    "Run this cell and check in the dashboard that the \"New_Trd_Test\" has arrived - expected on top of the \"Trades Blotter\" table."
   ]
  },
  {
   "cell_type": "code",
   "execution_count": null,
   "metadata": {},
   "outputs": [],
   "source": [
    "# Test trade\n",
    "trd = {\n",
    "    \"AsOfDate\": \"2020-07-09\",\n",
    "    \"TradeId\": \"New_Trd_Test\",\n",
    "    \"Ticker\": \"OXY\",\n",
    "    \"Book\": \"EQ_VOL_HED\",\n",
    "    \"Product\": \"EQ_Option\",\n",
    "    \"Quantity\": 45,\n",
    "    \"Strike\": -31.41249430583221,\n",
    "    \"Maturity\": \"2022-10-01\",\n",
    "    \"OptionType\": \"put\",\n",
    "    \"MarketValue\": 89.43425919208067,\n",
    "}\n",
    "\n",
    "l = producer.send(\"trades\", trd)"
   ]
  },
  {
   "cell_type": "markdown",
   "metadata": {},
   "source": [
    "To see the messages, the following command can be run:\n",
    "    \n",
    "```\n",
    "docker exec -it real-time-risk_kafka_1 /opt/bitnami/kafka/bin/kafka-console-consumer.sh --bootstrap-server localhost:9092 --topic trades --from-beginning\n",
    "```"
   ]
  },
  {
   "cell_type": "markdown",
   "metadata": {},
   "source": [
    "In the following cell, I'm creating a function that will generate random trades."
   ]
  },
  {
   "cell_type": "code",
   "execution_count": null,
   "metadata": {},
   "outputs": [],
   "source": [
    "def generate_a_new_trade(id):\n",
    "\n",
    "    # this function is generating trades data (random)\n",
    "\n",
    "    trade = {\n",
    "        \"AsOfDate\": \"2020-07-09\",\n",
    "        \"TradeId\": \"New_Trade_\" + str(id),\n",
    "        \"Ticker\": random.choice([\"AAPL\", \"MSFT\", \"OXY\"]),\n",
    "        \"Book\": random.choice(\n",
    "            [\"EQ_LARG_DM\", \"EQ_SMAL_EM\", \"EQ_STRUCT\", \"EQ_VOL_HED\", \"EQ_WAREHOU\"]\n",
    "        ),\n",
    "        \"Product\": \"EQ_Option\",\n",
    "        \"Quantity\": random.randrange(-100, 100),\n",
    "        \"Strike\": random.uniform(-100, 100),\n",
    "        \"Maturity\": \"2022-10-01\",\n",
    "        \"OptionType\": \"put\",\n",
    "        \"MarketValue\": random.uniform(-100, 100),\n",
    "    }\n",
    "\n",
    "    print(\"A new trade generated:\")\n",
    "    print(json.dumps(trade, indent=4))\n",
    "\n",
    "    return trade"
   ]
  },
  {
   "cell_type": "markdown",
   "metadata": {},
   "source": [
    "Let's check that we can see updates in the real-time dashboard:"
   ]
  },
  {
   "cell_type": "code",
   "execution_count": null,
   "metadata": {},
   "outputs": [],
   "source": [
    "session.url + \"/#/dashboard/8b4\""
   ]
  },
  {
   "cell_type": "markdown",
   "metadata": {},
   "source": [
    "Run the following cell to publish a few new trades and see them appearing in the \"Trades Blotter\" widget"
   ]
  },
  {
   "cell_type": "code",
   "execution_count": null,
   "metadata": {},
   "outputs": [],
   "source": [
    "for i in range(20):\n",
    "    new_trade = generate_a_new_trade(i)\n",
    "\n",
    "    producer.send(\"trades\", new_trade)\n",
    "    print(\"Published.\\n\")\n",
    "    time.sleep(1)\n",
    "    clear_output(wait=True)"
   ]
  },
  {
   "cell_type": "code",
   "execution_count": null,
   "metadata": {},
   "outputs": [],
   "source": []
  }
 ],
 "metadata": {
  "kernelspec": {
   "display_name": "Python 3",
   "language": "python",
   "name": "python3"
  },
  "language_info": {
   "codemirror_mode": {
    "name": "ipython",
    "version": 3
   },
   "file_extension": ".py",
   "mimetype": "text/x-python",
   "name": "python",
   "nbconvert_exporter": "python",
   "pygments_lexer": "ipython3",
   "version": "3.8.5"
  }
 },
 "nbformat": 4,
 "nbformat_minor": 4
}
