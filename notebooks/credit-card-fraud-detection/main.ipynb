{
 "cells": [
  {
   "cell_type": "markdown",
   "id": "ddc285a5-8dc7-4ec4-9d60-e353cedd04f3",
   "metadata": {},
   "source": [
    "# PyCaret with Synthetic Data for Real-Time Credit Card Fraud detection\n",
    "\\[_In case you’re unable to see the atoti visualizations in GitHub, try viewing the notebook in [nbviewer](https://nbviewer.org/github/atoti/notebooks/blob/master/notebooks/credit-card-fraud-detection/main.ipynb)._]  \n",
    "\n",
    "__NOTE: As of [PyCaret v2.3.9](https://pycaret.gitbook.io/docs/get-started/installation#dependencies) and [atoti v0.6.5](https://docs.atoti.io/latest/installation.html), there are some dependencies conflict in the version of NumPy used. Hence, the machine learning aspect in this notebook is used for reference purposes only.__ \n",
    "\n",
    "[Credit card fraud is on the rise](https://www.forbes.com/sites/billhardekopf/2021/09/17/this-week-in-credit-card-news-huge-increase-in-fraudulent-mobile-apps-a-rosy-holiday-sales-outlook/?sh=385215f866a1) with the increase of online transactions due to COVID-19.  \n",
    "\n",
    "In this use case, we will attempt a couple of fun things:\n",
    "- [Generate synthetic data for machine learning](./01-Synthetic-data-generation.ipynb)\n",
    "- Test out the autoML PyCaret in predicting the fraudulent cases with the [Anomaly Detection](./02-AutoML-PyCaret-anomaly.ipynb) and [Classification module](./03-AutoML-PyCaret-classification.ipynb)\n",
    "- Integrate the prediction into atoti for real-time credit card reporting\n",
    "\n",
    "The use case is only for illustrative purpose to show how atoti can be integrated with machine learning to achieve monitoring objective.  \n",
    "\n",
    "<div style=\"text-align: center;\" ><a href=\"https://www.atoti.io/?utm_source=gallery&utm_content=creditcard-fraud-detection\" target=\"_blank\" rel=\"noopener noreferrer\"><img src=\"https://data.atoti.io/notebooks/banners/discover.png\" alt=\"Try atoti\"></a></div>"
   ]
  },
  {
   "cell_type": "markdown",
   "id": "4ac551ba-8560-4214-8a86-b00c4328b829",
   "metadata": {},
   "source": [
    "## 1. Generating Synthetic Data\n",
    "\n",
    "The __sparkov_data_generation__ package used in this use case is forked from the GitHub repo [Synthetic Credit Card Transaction Generator used in the Sparkov program](https://github.com/namebrandon/Sparkov_Data_Generation).  \n",
    "\n",
    "Use [01-Synthetic-data-generation.ipynb](./01-Synthetic-data-generation.ipynb) to generate the synthetic data or download the pre-generated data from atoti s3 folder."
   ]
  },
  {
   "cell_type": "code",
   "execution_count": null,
   "id": "4cc9ff37-6a34-45ed-b0a1-868dde12b926",
   "metadata": {},
   "outputs": [],
   "source": [
    "import os\n",
    "import time\n",
    "from zipfile import ZipFile\n",
    "\n",
    "import atoti as tt\n",
    "\n",
    "# import faker\n",
    "import pandas as pd\n",
    "import wget\n",
    "\n",
    "# from faker import Faker\n",
    "from IPython.display import clear_output, display\n",
    "from utils import data_prep"
   ]
  },
  {
   "cell_type": "code",
   "execution_count": null,
   "id": "85afedd1-cfa4-454d-8324-a97609f33d3b",
   "metadata": {},
   "outputs": [],
   "source": [
    "data_path = \"./output\""
   ]
  },
  {
   "cell_type": "markdown",
   "id": "46909361-bcff-450f-bb01-e9b5ff9b19f3",
   "metadata": {},
   "source": [
    "Uncomment and run the below two cells to download the pre-generated synthetic data."
   ]
  },
  {
   "cell_type": "code",
   "execution_count": null,
   "id": "764dc631-149c-4e3a-8aff-1af79ee68fa9",
   "metadata": {},
   "outputs": [],
   "source": [
    "# def bar_custom(current, total, width=80):\n",
    "#     clear_output(wait=True)\n",
    "#     print(\"Downloading: %d%% [%d / %d] bytes\" % (current / total * 100, current, total))\n",
    "\n",
    "\n",
    "# url = \"https://s3.eu-west-3.amazonaws.com/data.atoti.io/notebooks/credit-card-fraud/output.zip\"\n",
    "# filename = wget.download(url, bar=bar_custom)"
   ]
  },
  {
   "cell_type": "code",
   "execution_count": null,
   "id": "a6713e42-9ffc-4c10-9b5d-8da6a6c1c8d0",
   "metadata": {},
   "outputs": [],
   "source": [
    "# # unzipping the file\n",
    "# with ZipFile(\"output.zip\", \"r\") as zipObj:\n",
    "#     # Extract all the contents of zip file in current directory\n",
    "#     zipObj.extractall()"
   ]
  },
  {
   "cell_type": "markdown",
   "id": "349a3ccb-b04c-4518-b325-e2731cb968b4",
   "metadata": {},
   "source": [
    "## 2. Creating atoti cube for data exploration\n",
    "\n",
    "We load the synthetic data into atoti tables and spin up a multidimensional cube to explore the data.  \n",
    "To begin, we create an atoti session."
   ]
  },
  {
   "cell_type": "markdown",
   "id": "ce8f0c9a-89ac-4c0b-aace-5fff570c4836",
   "metadata": {},
   "source": [
    "### 2.1 Create atoti session with SessionConfig\n",
    "Below, we configured the [`SessionConfig`](https://docs.atoti.io/latest/lib/atoti.config.session_config.html#atoti.config.session_config.SessionConfig) with:\n",
    "- user_content_storage: for persisting dashboards\n",
    "- port: fix the port number, otherwise a random port will be assigned for the web application"
   ]
  },
  {
   "cell_type": "code",
   "execution_count": null,
   "id": "a3d0582f-aa85-41ec-be65-0d6a8d4f9020",
   "metadata": {},
   "outputs": [],
   "source": [
    "session = tt.Session(user_content_storage=\"./content\", port=10327)"
   ]
  },
  {
   "cell_type": "markdown",
   "id": "2d93a839-5dd5-4dd3-9797-7d83bd7458eb",
   "metadata": {},
   "source": [
    "atoti can load CSV directly into the table. However, we will be performing machine learning on the data set later on in the notebook.  \n",
    "So, let's read the customers and transactions data into a Pandas DataFrame."
   ]
  },
  {
   "cell_type": "code",
   "execution_count": null,
   "id": "c3bd8caa-ad8b-466d-93d6-721329fcbebc",
   "metadata": {},
   "outputs": [],
   "source": [
    "cust_df = pd.read_csv(\n",
    "    f\"{data_path}/post_process_customer_list.csv\", parse_dates=[\"dob\"]\n",
    ")\n",
    "\n",
    "txns_df = pd.read_csv(\n",
    "    f\"{data_path}/post_process_transaction_list.csv\", parse_dates=[\"trans_date\"]\n",
    ")"
   ]
  },
  {
   "cell_type": "markdown",
   "id": "12743dbb-57a6-412b-a248-78662ffe9620",
   "metadata": {},
   "source": [
    "Below are some columns that should be treated as strings even though they are of numerical values. This is so that they will be automatically created as hierarchies instead of measures (Refer to [mode for create_cube](https://docs.atoti.io/latest/lib/atoti.session.html#atoti.session.Session.create_cube))."
   ]
  },
  {
   "cell_type": "code",
   "execution_count": null,
   "id": "39fc9102-8282-40f1-a450-9c10d6827f87",
   "metadata": {},
   "outputs": [],
   "source": [
    "common_col = [\"ssn\", \"cc_num\", \"acct_num\"]\n",
    "cust_non_num_col = [\"ssn\", \"cc_num\", \"acct_num\", \"zip\"]\n",
    "txn_non_num_col = [\n",
    "    \"ssn\",\n",
    "    \"cc_num\",\n",
    "    \"acct_num\",\n",
    "    \"trans_num\",\n",
    "    \"unix_time\",\n",
    "    \"merchant_id\",\n",
    "    \"is_fraud\",\n",
    "    \"txn_during_night\",\n",
    "    \"trans_weekend\",\n",
    "]\n",
    "txn_col = [\n",
    "    \"ssn\",\n",
    "    \"cc_num\",\n",
    "    \"acct_num\",\n",
    "    \"profile\",\n",
    "    \"trans_num\",\n",
    "    \"trans_date\",\n",
    "    \"trans_time\",\n",
    "    \"unix_time\",\n",
    "    \"category\",\n",
    "    \"amt\",\n",
    "    \"is_fraud\",\n",
    "    \"merchant\",\n",
    "    \"merchant_id\",\n",
    "    \"merch_long\",\n",
    "    \"merch_lat\",\n",
    "    \"distance_from_cust\",\n",
    "    \"txn_during_night\",\n",
    "    \"trans_weekend\",\n",
    "]"
   ]
  },
  {
   "cell_type": "markdown",
   "id": "292c046d-0e96-4f9b-bc20-9f7272f8b5df",
   "metadata": {},
   "source": [
    "Let's cast the data types for the columns before loading them into the cube."
   ]
  },
  {
   "cell_type": "code",
   "execution_count": null,
   "id": "2fe0648f-4542-43ca-894c-76a781413cc6",
   "metadata": {},
   "outputs": [],
   "source": [
    "cust_df[cust_non_num_col] = cust_df[cust_non_num_col].astype(str)\n",
    "txns_df[txn_non_num_col] = txns_df[txn_non_num_col].astype(str)"
   ]
  },
  {
   "cell_type": "markdown",
   "id": "09f3bcf1-a021-401f-bc50-74c4c27383e6",
   "metadata": {},
   "source": [
    "### 2.2 Load data into atoti table\n",
    "\n",
    "We can load data into atoti with either:\n",
    "- read_*: create an atoti table and loads the data\n",
    "- load_*: load data into an existing atoti table\n",
    "\n",
    "Below, we will load data for the customers and transactions into atoti tables with [`read_pandas`](https://docs.atoti.io/latest/lib/atoti.session.html#atoti.session.Session.read_pandas).  "
   ]
  },
  {
   "cell_type": "markdown",
   "id": "b320682c-da2c-44c1-9fce-faa807c827eb",
   "metadata": {
    "tags": []
   },
   "source": [
    "#### 2.2.1 Base table - transaction\n",
    "\n",
    "Transactions is more granular than customers. Since we are following the [snowflake schema](https://en.wikipedia.org/wiki/Snowflake_schema#:~:text=In%20computing%2C%20a%20snowflake%20schema,diagram%20resembles%20a%20snowflake%20shape.&text=The%20principle%20behind%20snowflaking%20is,attributes%20and%20forming%20separate%20tables.), we will choose the transaction table as our base table for cube creation."
   ]
  },
  {
   "cell_type": "code",
   "execution_count": null,
   "id": "c0c66829-ad1e-463b-800b-0d5301294868",
   "metadata": {},
   "outputs": [],
   "source": [
    "txn_tbl = session.read_pandas(\n",
    "    txns_df[txn_col],\n",
    "    table_name=\"transactions\",\n",
    "    keys=[\"ssn\", \"cc_num\", \"acct_num\", \"trans_num\"],\n",
    ")"
   ]
  },
  {
   "cell_type": "code",
   "execution_count": null,
   "id": "5b6c2f0e-92cb-437d-8545-5a896c4e8a25",
   "metadata": {},
   "outputs": [],
   "source": [
    "txn_tbl.head()"
   ]
  },
  {
   "cell_type": "code",
   "execution_count": null,
   "id": "62c72425-24ca-4519-98fb-e9de75a44dfc",
   "metadata": {},
   "outputs": [],
   "source": [
    "len(txn_tbl)"
   ]
  },
  {
   "cell_type": "markdown",
   "id": "d14c8aa2-8b8b-4fd3-921d-7f7c23748fae",
   "metadata": {},
   "source": [
    "#### 2.2.2 Referenced table - customer\n",
    "\n",
    "We can create referenced table before or after cube creation. Referenced tables are join to the cube to [enrich it](https://docs.atoti.io/latest/tutorial/tutorial.html#Enriching-the-cube)."
   ]
  },
  {
   "cell_type": "code",
   "execution_count": null,
   "id": "b2942f0f-d0ac-44ec-86a0-08219992efec",
   "metadata": {},
   "outputs": [],
   "source": [
    "customer_tbl = session.read_pandas(\n",
    "    cust_df,\n",
    "    table_name=\"customer\",\n",
    "    keys=common_col,\n",
    ")"
   ]
  },
  {
   "cell_type": "code",
   "execution_count": null,
   "id": "3e0fea27-4683-42f6-9983-8d8f75808b5d",
   "metadata": {},
   "outputs": [],
   "source": [
    "len(customer_tbl)"
   ]
  },
  {
   "cell_type": "code",
   "execution_count": null,
   "id": "868d7223-b1bf-478d-be91-51c7eb605e33",
   "metadata": {},
   "outputs": [],
   "source": [
    "customer_tbl.head()"
   ]
  },
  {
   "cell_type": "markdown",
   "id": "28d53fae-70e8-4e4b-9011-c307d37c0b26",
   "metadata": {
    "tags": []
   },
   "source": [
    "#### 2.2.3 Create empty atoti table - prediction\n",
    "\n",
    "The PyCaret prediction output 2 columns:\n",
    "- Label\n",
    "- Score\n",
    "\n",
    "With [`atoti.create_table`](https://docs.atoti.io/latest/lib/atoti.session.html#atoti.session.Session.create_table), we can create an empty table. We will need to define the columns, its expected data type as well as the table keys (if any)."
   ]
  },
  {
   "cell_type": "code",
   "execution_count": null,
   "id": "73b3e7c8-ed48-4a60-ad73-e4d35842a062",
   "metadata": {},
   "outputs": [],
   "source": [
    "prediction_tbl = session.create_table(\n",
    "    name=\"prediction\",\n",
    "    types={\n",
    "        \"trans_num\": tt.type.STRING,\n",
    "        \"Label\": tt.type.STRING,\n",
    "        \"Score\": tt.type.FLOAT,\n",
    "    },\n",
    "    keys=[\"trans_num\"],\n",
    ")"
   ]
  },
  {
   "cell_type": "markdown",
   "id": "26c2fb46-00ae-4004-b4a1-7fc2ff7ff659",
   "metadata": {},
   "source": [
    "To demonstrate how we can load data into an existing table, we will load the prediction from the LGBM model for July into `prediction_tbl`:"
   ]
  },
  {
   "cell_type": "code",
   "execution_count": null,
   "id": "725e7238-6940-43ca-8bd3-79278230788b",
   "metadata": {},
   "outputs": [],
   "source": [
    "prediction_tbl.load_csv(f\"{data_path}/july_aug_prediction_full_lgbm.csv\")"
   ]
  },
  {
   "cell_type": "code",
   "execution_count": null,
   "id": "67e24dd9-73ba-4be2-99f8-2870f0370715",
   "metadata": {},
   "outputs": [],
   "source": [
    "prediction_tbl.head()"
   ]
  },
  {
   "cell_type": "markdown",
   "id": "682305ad-b337-4aed-9162-06c2133644e0",
   "metadata": {},
   "source": [
    "### 2.3 Join tables\n",
    "\n",
    "We join the referenced table _customer_ to the base table _transaction_. We did not explicity configure the mapping as atoti automatically infers the join based on the common column names.  \n",
    "\n",
    "We can also join any new tables to the base table after the cube is created.\n",
    "\n",
    "Refer to the [join examples in tutorial](https://docs.atoti.io/latest/tutorial/tutorial.html#Join) for more details."
   ]
  },
  {
   "cell_type": "code",
   "execution_count": null,
   "id": "cfb485d2-d0fd-4ab5-bad0-89d8393395a6",
   "metadata": {},
   "outputs": [],
   "source": [
    "txn_tbl.join(customer_tbl)\n",
    "txn_tbl.join(prediction_tbl, mapping={\"trans_num\": \"trans_num\"})"
   ]
  },
  {
   "cell_type": "markdown",
   "id": "4b4aee21-4790-4c72-b7f0-6a56a4c0cbc0",
   "metadata": {},
   "source": [
    "### 2.4 Create cube\n",
    "\n",
    "We create the cube with the base table. Cube name `credit_card_trans` is optional."
   ]
  },
  {
   "cell_type": "code",
   "execution_count": null,
   "id": "cbdcbe4e-deef-433f-a387-4c7e6adc47d8",
   "metadata": {},
   "outputs": [],
   "source": [
    "cube = session.create_cube(txn_tbl, \"credit_card_trans\")"
   ]
  },
  {
   "cell_type": "markdown",
   "id": "adc976ce-11d5-44ed-b96b-4dd0a11595a2",
   "metadata": {},
   "source": [
    "#### 2.4.1 View cube schema\n",
    "\n",
    "Once the cube is created, we can visualize the cube schema. If you [installed atoti via Python package managers such as pip](https://docs.atoti.io/latest/installation.html#python-package), you need to install  [graphviz](https://www.graphviz.org/download/) to do this step."
   ]
  },
  {
   "cell_type": "code",
   "execution_count": null,
   "id": "b0ce1fdc-03da-4144-adef-465272bb3d0e",
   "metadata": {},
   "outputs": [],
   "source": [
    "cube.schema"
   ]
  },
  {
   "cell_type": "markdown",
   "id": "5ee52792-55ca-4170-a95e-99dba23fd925",
   "metadata": {},
   "source": [
    "#### 2.4.2 Alias cube hierarchies property\n",
    "\n",
    "We can manipulate the below aspects of the cube. Aliasing the hierarchies property makes it more convenient for use later on."
   ]
  },
  {
   "cell_type": "code",
   "execution_count": null,
   "id": "81ce1a95-5385-47e4-bb31-41ccd1edc7c4",
   "metadata": {},
   "outputs": [],
   "source": [
    "h, l, m = cube.hierarchies, cube.levels, cube.measures"
   ]
  },
  {
   "cell_type": "markdown",
   "id": "121fa449-60f9-49fd-9438-eeaa9e527be8",
   "metadata": {},
   "source": [
    "### 2.5 Access web aplication\n",
    "\n",
    "Upon session creation, a web application is launched. However, without any cubes, we can't perform any analysis on the web application.  \n",
    "\n",
    "Run [`session.link( )`](https://docs.atoti.io/latest/lib/atoti.session.html#atoti.session.Session.link) to retrieve the URL of the web application."
   ]
  },
  {
   "cell_type": "code",
   "execution_count": null,
   "id": "22a9d77b-ca3d-406c-8c65-18d453d7b9fb",
   "metadata": {},
   "outputs": [],
   "source": [
    "session.link()"
   ]
  },
  {
   "cell_type": "markdown",
   "id": "bed87656-5db8-4b00-8044-0884a09a3acb",
   "metadata": {},
   "source": [
    "### 2.6 Visualize data in Jupyter notebook\n",
    "\n",
    "Once the cube is created, we can make use of the atoti JupyterLab extension to [create visualization](https://docs.atoti.io/latest/tutorial/tutorial.html#First-visualization) interactively. Let's take a quick look at the number of fraudulent and non-fraudulent transactions.  \n",
    "\n",
    "#### 2.6.1 Showing text on charts\n",
    "\n",
    "At the moment, we can enable text display on the chart by editing the Jupyter notebook's Cell Metadata to add `\"isTextVisible\": true` under the `widget` node:\n",
    "<img src=\"img/showText.png\" width=\"80%\"/>   \n",
    "\n",
    "From the chart below, we can see that the number of fraudulent cases is less than 5%."
   ]
  },
  {
   "cell_type": "code",
   "execution_count": null,
   "id": "2df84f73-d2cc-4430-88f5-bf18b3df092d",
   "metadata": {
    "atoti": {
     "widget": {
      "isTextVisible": true,
      "mapping": {
       "horizontalSubplots": [],
       "sliceBy": [
        "ALL_MEASURES",
        "[transactions].[is_fraud].[is_fraud]"
       ],
       "values": [
        "[Measures].[contributors.COUNT]"
       ],
       "verticalSubplots": []
      },
      "name": "0 - Non-fraudulent, 1 - Fraudulent",
      "query": {
       "mdx": "SELECT NON EMPTY {[Measures].[contributors.COUNT]} ON COLUMNS, NON EMPTY Hierarchize(Descendants({[transactions].[is_fraud].[AllMember]}, 1, SELF_AND_BEFORE)) ON ROWS FROM [credit_card_trans] CELL PROPERTIES VALUE, FORMATTED_VALUE, BACK_COLOR, FORE_COLOR, FONT_FLAGS",
       "updateMode": "once"
      },
      "serverKey": "default",
      "style": {
       "tuples": {
        "[transactions].[is_fraud].[AllMember].[0]": {
         "backgroundColor": "#e15759"
        },
        "[transactions].[is_fraud].[AllMember].[1]": {
         "backgroundColor": "#f2d97f"
        }
       }
      },
      "widgetKey": "plotly-donut-chart"
     }
    },
    "tags": []
   },
   "outputs": [],
   "source": [
    "session.visualize(\"0 - Non-fraudulent, 1 - Fraudulent\")"
   ]
  },
  {
   "cell_type": "markdown",
   "id": "2e762d51-5398-4e68-84e1-9008987d8636",
   "metadata": {},
   "source": [
    "#### 2.6.2 Subplots\n",
    "\n",
    "Simply add the levels to the vertical or horizontal subplot section in the atoti JupyterLab extension.  \n",
    "\n",
    "We ought to be careful of those merchants with low transaction volume and high occurrence of fraud, likely a dubious merchant. Though, it's also likely the higher the transaction volume, the more susceptible the merchant is to external fraud."
   ]
  },
  {
   "cell_type": "code",
   "execution_count": null,
   "id": "a192f8d7-6a3e-4883-98bc-dbda6ee73e71",
   "metadata": {
    "atoti": {
     "height": 492,
     "widget": {
      "filters": [
       "Filter([transactions].[trans_date].[trans_date].Members, InStr(1, [transactions].[trans_date].CurrentMember.MEMBER_CAPTION, \"2021-08-29\") > 0)"
      ],
      "mapping": {
       "horizontalSubplots": [],
       "stackBy": [
        "ALL_MEASURES"
       ],
       "values": [
        "[Measures].[contributors.COUNT]"
       ],
       "verticalSubplots": [
        "[transactions].[is_fraud].[is_fraud]"
       ],
       "xAxis": [
        "[transactions].[merchant].[merchant]"
       ]
      },
      "name": "Merchants with highest fraudulent occurence on 23 Sept 2021",
      "query": {
       "mdx": "SELECT NON EMPTY Order(Hierarchize(Descendants({[transactions].[merchant].[AllMember]}, 1, SELF_AND_BEFORE)), [Measures].[contributors.COUNT], BDESC) ON ROWS, NON EMPTY Crossjoin({[Measures].[contributors.COUNT]}, Hierarchize(Descendants({[transactions].[is_fraud].[AllMember]}, 1, SELF_AND_BEFORE))) ON COLUMNS FROM [credit_card_trans] CELL PROPERTIES VALUE, FORMATTED_VALUE, BACK_COLOR, FORE_COLOR, FONT_FLAGS",
       "updateMode": "once"
      },
      "serverKey": "default",
      "widgetKey": "plotly-stacked-column-chart"
     }
    },
    "tags": []
   },
   "outputs": [],
   "source": [
    "session.visualize(\"Merchants with highest fraudulent occurence on 29th Aug\")"
   ]
  },
  {
   "cell_type": "markdown",
   "id": "aef0a22f-0d2c-4c17-a950-fd31794b30f5",
   "metadata": {},
   "source": [
    "Is it coincidence that some merchants have multiple fraudulent transactions within a day?"
   ]
  },
  {
   "cell_type": "markdown",
   "id": "6f0cdf53-7f25-4fb0-adae-8b83a903eada",
   "metadata": {
    "tags": []
   },
   "source": [
    "### 2.7 Creating measures \n",
    "\n",
    "Measures in atoti is computed on the fly as we query the cube. When a cube is created in [auto mode](https://docs.atoti.io/latest/lib/atoti.session.html#atoti.session.Session.create_cube), a \".SUM\" and a \".MEAN\" measures are created for numerical columns of the base table. Measures are not created for the referenced table.\n",
    "\n",
    "We can make use of the `cube.measures` property to define new measures. "
   ]
  },
  {
   "cell_type": "markdown",
   "id": "4c3604de-ff4a-4aa0-8e71-2068467b2a41",
   "metadata": {},
   "source": [
    "#### 2.7.1 Compute measures for referenced table \n",
    "\n",
    "Customer table is a referenced table. Hence, we have to create the necesary measures manually.  \n",
    "We can do so with [`atoti.single_value`](https://docs.atoti.io/latest/lib/atoti.html#atoti.agg.single_value) which will return the measure value when queried at levels corresponding to the keys of column's table. Alternatively, we can perform aggregation on the table column, which is what we will do in this case. \n",
    "\n",
    "Below, we create the measures for customer's longitude, latitude and age."
   ]
  },
  {
   "cell_type": "code",
   "execution_count": null,
   "id": "ad37e7f4-06b0-4585-8713-4a47a08b0c1e",
   "metadata": {},
   "outputs": [],
   "source": [
    "m[\"cust_long\"] = tt.agg.mean(customer_tbl[\"long\"])\n",
    "m[\"cust_lat\"] = tt.agg.mean(customer_tbl[\"lat\"])\n",
    "m[\"cust_age\"] = tt.agg.mean(customer_tbl[\"age\"])"
   ]
  },
  {
   "cell_type": "code",
   "execution_count": null,
   "id": "a5807b1a-eb66-448f-b909-132527f5c2ae",
   "metadata": {
    "atoti": {
     "widget": {
      "filters": [
       "[transactions].[trans_date].[AllMember].[2021-08-29]"
      ],
      "mapping": {
       "color": [],
       "horizontalSubplots": [],
       "size": [
        "[Measures].[contributors.COUNT]"
       ],
       "splitBy": [
        "[transactions].[ssn].[ssn]"
       ],
       "verticalSubplots": [],
       "xValues": [
        "[Measures].[cust_long]"
       ],
       "yValues": [
        "[Measures].[cust_lat]"
       ]
      },
      "name": "Customer spread geographically - (x-axis: longitude, y-axis: latitude)",
      "query": {
       "mdx": "SELECT NON EMPTY {[Measures].[cust_long], [Measures].[cust_lat], [Measures].[contributors.COUNT]} ON COLUMNS, NON EMPTY Hierarchize(Descendants({[transactions].[ssn].[AllMember]}, 1, SELF_AND_BEFORE)) ON ROWS FROM [credit_card_trans] CELL PROPERTIES VALUE, FORMATTED_VALUE, BACK_COLOR, FORE_COLOR, FONT_FLAGS",
       "updateMode": "once"
      },
      "serverKey": "default",
      "widgetKey": "plotly-scatter-plot"
     }
    },
    "tags": []
   },
   "outputs": [],
   "source": [
    "session.visualize(\n",
    "    \"Number of transactions by customer in 1 day on 29th Aug - (x-axis: longitude, y-axis: latitude)\"\n",
    ")"
   ]
  },
  {
   "cell_type": "markdown",
   "id": "42502605-f60f-494a-a35a-a5449a9481ff",
   "metadata": {},
   "source": [
    "Similarly, we will create the measure `score` for the prediction table with the [summation aggregator](https://docs.atoti.io/latest/lib/atoti.agg.html#atoti.agg.sum)."
   ]
  },
  {
   "cell_type": "code",
   "execution_count": null,
   "id": "40975495-885e-45d9-9e28-2e57f544118f",
   "metadata": {},
   "outputs": [],
   "source": [
    "m[\"score\"] = tt.agg.sum(prediction_tbl[\"Score\"])\n",
    "m[\"score\"].formatter = \"DOUBLE[#,###.000]\""
   ]
  },
  {
   "cell_type": "markdown",
   "id": "273fc293-e474-49e6-a37b-0f970887da36",
   "metadata": {},
   "source": [
    "#### 2.7.2 Count distinct values\n",
    "\n",
    "We should be seeing increase in customers over the months. Let's create some measures to see if this increase affects the number of fraudulent transactions.\n",
    "\n",
    "We count the number of active customers in order to see if the increase in transactions is also due to increase in customer. We can use the atoti function [`count_distinct`](https://docs.atoti.io/latest/lib/atoti.agg.html#atoti.agg.count_distinct) on the table column that stores the identified for customer, `ssn` (Social Security Number) in this case."
   ]
  },
  {
   "cell_type": "code",
   "execution_count": null,
   "id": "5e2a6cc6-2607-4d84-93ae-4cf0575ad59e",
   "metadata": {},
   "outputs": [],
   "source": [
    "m[\"nb_active_customers\"] = tt.agg.count_distinct(customer_tbl[\"ssn\"])"
   ]
  },
  {
   "cell_type": "markdown",
   "id": "767135ba-b033-4b6f-b5ea-ef3c91a8ca5c",
   "metadata": {},
   "source": [
    "#### 2.7.3 Rolling windows \n",
    "\n",
    "We could have achieve the below with Pandas:\n",
    "\n",
    "```\n",
    "def get_spending_features(txn, windows_size=[1, 7, 30]):\n",
    "    # Setting trans_date as index for rolling function\n",
    "    txn.index = txn.trans_date\n",
    "\n",
    "    for size in windows_size:\n",
    "        # compute the total transaction amount and the number of transactions during the window\n",
    "        rolling_tx_amt = txn[\"amt\"].rolling(f\"{size}D\").sum()\n",
    "        roll_tx_cnt = txn[\"amt\"].rolling(f\"{size}D\").count()\n",
    "\n",
    "        # compute the average transaction amount\n",
    "        avg_trans_amt = rolling_tx_amt / roll_tx_cnt\n",
    "\n",
    "        # create as new columns\n",
    "        txn[f\"nb_trans_{size}days\"] = list(roll_tx_cnt)\n",
    "        txn[f\"cust_avg_amt_{size}days\"] = list(avg_trans_amt)\n",
    "\n",
    "    # Reindex according to transaction IDs\n",
    "    txn.index = txn.trans_num\n",
    "\n",
    "    # And return the dataframe with the new features\n",
    "    return txn\n",
    "    \n",
    "cc_txn_df = cc_txn_df.groupby(\"acct_num\").apply(\n",
    "    lambda x: get_spending_features(x, windows_size=[1, 7, 30])\n",
    ")\n",
    "```\n",
    "\n",
    "However, this preprocessed information is not dynamic enough. We will need to get the cumulative value on the fly as we perform real-time fraud detection.  \n",
    "Hence, we will create the cumulative number of transactions for windows of 1, 7 and 30 days in atoti.  \n",
    "\n",
    "Be mindful that previously, we applied the `DESCENDING` comparator on the `trans_date`. Hence, we should be looking at the _next members_ instead of _previous members_."
   ]
  },
  {
   "cell_type": "code",
   "execution_count": null,
   "id": "3b0a3a0d-f17e-4dc5-a5c3-bb2a00ee6314",
   "metadata": {},
   "outputs": [],
   "source": [
    "m[\"nb_txns_1_days\"] = tt.agg.sum(\n",
    "    m[\"contributors.COUNT\"], scope=tt.OriginScope(l[\"trans_date\"])\n",
    ")\n",
    "\n",
    "m[\"nb_txns_7_days\"] = tt.agg.sum(\n",
    "    m[\"contributors.COUNT\"],\n",
    "    scope=tt.CumulativeScope(level=l[\"trans_date\"], window=(\"-P7D\", None), dense=True),\n",
    ")\n",
    "m[\"nb_txns_30_days\"] = tt.agg.sum(\n",
    "    m[\"contributors.COUNT\"],\n",
    "    scope=tt.CumulativeScope(level=l[\"trans_date\"], window=(\"-P30D\", None), dense=True),\n",
    ")"
   ]
  },
  {
   "cell_type": "markdown",
   "id": "eca82e89-549e-42f5-bd68-9e198009bb2c",
   "metadata": {
    "tags": []
   },
   "source": [
    "We will also compute the average transaction amount for windows of 1, 7 and 30 days."
   ]
  },
  {
   "cell_type": "code",
   "execution_count": null,
   "id": "4627554c-0bd1-48c2-b311-3221318d2dff",
   "metadata": {
    "tags": []
   },
   "outputs": [],
   "source": [
    "m[\"avg_txns_amt_1_days\"] = tt.agg.mean(\n",
    "    m[\"amt.MEAN\"], scope=tt.OriginScope(l[\"trans_date\"])\n",
    ")\n",
    "\n",
    "m[\"avg_txns_amt_7_days\"] = tt.agg.mean(\n",
    "    m[\"amt.MEAN\"],\n",
    "    scope=tt.CumulativeScope(level=l[\"trans_date\"], window=(\"-P7D\", None), dense=True),\n",
    ")\n",
    "m[\"avg_txns_amt_30_days\"] = tt.agg.mean(\n",
    "    m[\"amt.MEAN\"],\n",
    "    scope=tt.CumulativeScope(level=l[\"trans_date\"], window=(\"-P30D\", None), dense=True),\n",
    ")"
   ]
  },
  {
   "cell_type": "code",
   "execution_count": null,
   "id": "ff6d9d85-035b-4624-bbca-259c39a6cb10",
   "metadata": {
    "atoti": {
     "height": 544,
     "widget": {
      "columnWidths": {
       "[Measures].[avg_txns_amt_1_day]": 143,
       "[Measures].[avg_txns_amt_30_days]": 139,
       "[Measures].[avg_txns_amt_7_days]": 140,
       "[transactions].[trans_num].[trans_num]": 187
      },
      "filters": [
       "[transactions].[ssn].[AllMember].[862-79-0516]"
      ],
      "mapping": {
       "columns": [
        "ALL_MEASURES"
       ],
       "measures": [
        "[Measures].[amt.MEAN]",
        "[Measures].[avg_txns_amt_1_days]",
        "[Measures].[avg_txns_amt_7_days]",
        "[Measures].[avg_txns_amt_30_days]",
        "[Measures].[contributors.COUNT]",
        "[Measures].[nb_txns_1_days]",
        "[Measures].[nb_txns_7_days]",
        "[Measures].[nb_txns_30_days]"
       ],
       "rows": [
        "[transactions].[trans_date].[trans_date] => [transactions].[trans_num].[trans_num]"
       ]
      },
      "query": {
       "mdx": "SELECT NON EMPTY Hierarchize(Descendants({[transactions].[trans_date].[AllMember]}, 1, SELF_AND_BEFORE)) ON ROWS, NON EMPTY {[Measures].[amt.MEAN], [Measures].[avg_txns_amt_1_days], [Measures].[avg_txns_amt_7_days], [Measures].[avg_txns_amt_30_days], [Measures].[contributors.COUNT], [Measures].[nb_txns_1_days], [Measures].[nb_txns_7_days], [Measures].[nb_txns_30_days]} ON COLUMNS FROM [credit_card_trans] CELL PROPERTIES VALUE, FORMATTED_VALUE, BACK_COLOR, FORE_COLOR, FONT_FLAGS",
       "updateMode": "once"
      },
      "serverKey": "default",
      "widgetKey": "pivot-table"
     }
    },
    "tags": []
   },
   "outputs": [],
   "source": [
    "session.visualize(\"Cumulative values for a customer account - SSN (862-79-0516)\")"
   ]
  },
  {
   "cell_type": "code",
   "execution_count": null,
   "id": "1c99e60e-690c-4c01-a0ba-9b023a7b4344",
   "metadata": {},
   "outputs": [],
   "source": [
    "session.link()"
   ]
  },
  {
   "cell_type": "markdown",
   "id": "f7de1e9d-0e0a-4400-9019-b78b4a6bdd57",
   "metadata": {},
   "source": [
    "##### 2.7.3.1 Cube querying with filter\n",
    "\n",
    "Instead of visualization, we can query the cube. It returns the results in a __Pandas DataFrame__.  \n",
    "Below, we apply the filters on the `ssn` and `trans_date` to get its filtered values. This will come in handy as we query the cumulative values for machine learning later on."
   ]
  },
  {
   "cell_type": "code",
   "execution_count": null,
   "id": "101d8714-8604-4db2-9095-54b825341580",
   "metadata": {},
   "outputs": [],
   "source": [
    "cube.query(\n",
    "    m[\"nb_txns_1_days\"],\n",
    "    m[\"nb_txns_7_days\"],\n",
    "    m[\"nb_txns_30_days\"],\n",
    "    levels=[l[\"trans_date\"]],\n",
    "    filter=((l[\"ssn\"] == \"862-79-0516\") & (l[\"trans_date\"] == \"2021-07-12\")),\n",
    ")"
   ]
  },
  {
   "cell_type": "markdown",
   "id": "e21ac028-edbe-425b-99c7-15a611c03865",
   "metadata": {},
   "source": [
    "#### 2.7.4 Measure Filter\n",
    "\n",
    "In the previous section, we saw how we can apply filter on the visualization or query.  \n",
    "Alternatively, we can use the [`filter`](https://docs.atoti.io/latest/lib/atoti.html#atoti.filter) to apply filter on a measure. In this case, we want the count where the transactions are marked as fraudulent."
   ]
  },
  {
   "cell_type": "code",
   "execution_count": null,
   "id": "39633be5-2915-4da3-bfe6-a299238ccc91",
   "metadata": {},
   "outputs": [],
   "source": [
    "m[\"nb_fraudulent_txns\"] = tt.filter(m[\"contributors.COUNT\"], l[\"is_fraud\"] == \"1\")"
   ]
  },
  {
   "cell_type": "markdown",
   "id": "9b80a98c-672f-48e4-a239-388c344ae129",
   "metadata": {},
   "source": [
    "#### 2.7.5 Chain measures \n",
    "\n",
    "We can define a measure on top of other measures. For instance:"
   ]
  },
  {
   "cell_type": "code",
   "execution_count": null,
   "id": "2095dfde-6927-47bd-a4f1-febe06b71f44",
   "metadata": {},
   "outputs": [],
   "source": [
    "m[\"%_fraud_txns\"] = m[\"nb_fraudulent_txns\"] / m[\"contributors.COUNT\"]\n",
    "m[\"%_fraud_txns\"].formatter = \"DOUBLE[#.000%]\""
   ]
  },
  {
   "cell_type": "markdown",
   "id": "6adfc6e1-64c6-4f2e-81fa-4d6b71ae76e4",
   "metadata": {},
   "source": [
    "Any updates to `m[\"nb_fraudulent_txns\"]` will have cascading effect on `m[\"%_fraud_txns\"]`."
   ]
  },
  {
   "cell_type": "markdown",
   "id": "5e5762a8-14d0-4176-9f6c-baa3e42be895",
   "metadata": {},
   "source": [
    "Let's sum up the total amount loss to fraud and see the percentage loss."
   ]
  },
  {
   "cell_type": "code",
   "execution_count": null,
   "id": "7d4f5800-ec1e-4b0b-9e57-048810c3365c",
   "metadata": {},
   "outputs": [],
   "source": [
    "m[\"fraudulent_txn_amt\"] = tt.agg.sum(\n",
    "    tt.where((l[\"is_fraud\"] == \"1\"), m[\"amt.SUM\"]),\n",
    "    scope=tt.OriginScope(l[\"trans_date\"], l[\"is_fraud\"]),\n",
    ")\n",
    "\n",
    "m[\"%_loss_to_fraud\"] = tt.where(\n",
    "    m[\"fraudulent_txn_amt\"] == 0, 0, m[\"fraudulent_txn_amt\"] / m[\"amt.SUM\"]\n",
    ")\n",
    "m[\"%_loss_to_fraud\"].formatter = \"DOUBLE[#.000%]\""
   ]
  },
  {
   "cell_type": "markdown",
   "id": "7b4f8aea-50ee-4424-9de4-895f820645a8",
   "metadata": {
    "tags": []
   },
   "source": [
    "We can now see which are the merchants with more than 50% fraudulent transactions. There are five merchants with 100% fraudulent transactions.  \n",
    "\n",
    "##### Tips: Color coding table with MDX\n",
    "At the moment, we can manipulate the MDX from the Jupyter notebook's Cell Metadata to color the fonts conditionally:\n",
    "```\n",
    "WITH  Member [Measures].[%_fraud_txns (1)] AS [Measures].[%_fraud_txns], FORE_COLOR = CASE WHEN [Measures].[%_fraud_txns (1)] > 0.25 THEN rgb(245, 66, 66) END, format_string=\\\"##.000%\\\", CAPTION = [Measures].[%_fraud_txns].MEMBER_CAPTION\n",
    "```"
   ]
  },
  {
   "cell_type": "code",
   "execution_count": null,
   "id": "b36879bc-fb5d-4938-8253-a3d12323222d",
   "metadata": {
    "atoti": {
     "height": 304,
     "widget": {
      "columnWidths": {
       "[transactions].[merchant].[merchant]": 186
      },
      "filters": [
       "Filter([transactions].[trans_date].[trans_date].Members, InStr(1, [transactions].[trans_date].CurrentMember.MEMBER_CAPTION, \"2021-08-29\") > 0)"
      ],
      "mapping": {
       "columns": [
        "ALL_MEASURES"
       ],
       "measures": [
        "[Measures].[contributors.COUNT]",
        "[Measures].[nb_fraudulent_txns]",
        "[Measures].[%_fraud_txns (1)]",
        "[Measures].[%_loss_to_fraud (1)]"
       ],
       "rows": [
        "[transactions].[merchant].[merchant]"
       ]
      },
      "name": "Merchants with more than 50% percentage fraudulent transactions",
      "query": {
       "mdx": "WITH  Member [Measures].[%_fraud_txns (1)] AS [Measures].[%_fraud_txns], FORE_COLOR = CASE WHEN [Measures].[%_fraud_txns (1)] >= 0.25 THEN rgb(245, 66, 66) END, format_string = \"##.000%\", CAPTION = [Measures].[%_fraud_txns].MEMBER_CAPTION    Member [Measures].[%_loss_to_fraud (1)] AS [Measures].[%_loss_to_fraud], FORE_COLOR = CASE WHEN [Measures].[%_loss_to_fraud (1)] >= 0.5 THEN rgb(245, 66, 66) END, format_string = \"##.000%\", CAPTION = [Measures].[%_loss_to_fraud].MEMBER_CAPTION  SELECT NON EMPTY Order(Hierarchize(Descendants({[transactions].[merchant].[AllMember]}, 1, SELF_AND_BEFORE)), [Measures].[%_fraud_txns], DESC) ON ROWS, NON EMPTY {[Measures].[contributors.COUNT], [Measures].[nb_fraudulent_txns], [Measures].[%_fraud_txns (1)], [Measures].[%_loss_to_fraud (1)]} ON COLUMNS FROM [credit_card_trans] CELL PROPERTIES VALUE, FORMATTED_VALUE, BACK_COLOR, FORE_COLOR, FONT_FLAGS",
       "updateMode": "once"
      },
      "serverKey": "default",
      "widgetKey": "pivot-table"
     }
    },
    "tags": []
   },
   "outputs": [],
   "source": [
    "session.visualize(\"Merchants with more than 25% percentage fraudulent transactions\")"
   ]
  },
  {
   "cell_type": "markdown",
   "id": "503abb58-4187-44d9-917b-723f334c139a",
   "metadata": {
    "tags": []
   },
   "source": [
    "#### 2.7.6 Different ways to create same measure\n",
    "\n",
    "We can apply the below filter to get the non-fraudulent transactions.   \n",
    "`m[\"nb_normal_txns\"] = tt.filter(m[\"contributors.COUNT\"], l[\"is_fraud\"] == \"0\")`  \n",
    "\n",
    "Alternatively, we can minus the `nb_fraudulent_txns` from the total count. However, any updates to `m[\"nb_fraudulent_txns\"]` will have cascading effect on `m[\"nb_normal_txms\"]`."
   ]
  },
  {
   "cell_type": "code",
   "execution_count": null,
   "id": "30c52ce9-4272-4683-a56b-d201668499ec",
   "metadata": {},
   "outputs": [],
   "source": [
    "m[\"nb_normal_txns\"] = m[\"contributors.COUNT\"] - m[\"nb_fraudulent_txns\"]"
   ]
  },
  {
   "cell_type": "markdown",
   "id": "f8d875f8-7985-402a-aa0e-5553fb958896",
   "metadata": {},
   "source": [
    "The measures will be available for visualization immediately in both Jupyter notebook and the web application.  \n",
    "\n",
    "There is a gradual increase in the number of customer over time and the number of fraudulent transactions also seems to increase. However, there is a drop in the number of fraudulent transactions towards the end of September. The overall number of transactions during the same period also fell."
   ]
  },
  {
   "cell_type": "code",
   "execution_count": null,
   "id": "8dec40d2-0c68-4895-b64d-d724997b2832",
   "metadata": {
    "atoti": {
     "height": 425,
     "widget": {
      "mapping": {
       "columnValues": [
        "[Measures].[nb_fraudulent_txns]",
        "[Measures].[nb_normal_txns]"
       ],
       "horizontalSubplots": [],
       "lineValues": [
        "[Measures].[nb_active_customers]"
       ],
       "verticalSubplots": [],
       "xAxis": [
        "[transactions].[trans_date].[trans_date]"
       ]
      },
      "name": "Fraud trend",
      "query": {
       "mdx": "SELECT NON EMPTY Hierarchize(Descendants({[transactions].[trans_date].[AllMember]}, 1, SELF_AND_BEFORE)) ON ROWS, NON EMPTY {[Measures].[nb_fraudulent_txns], [Measures].[nb_normal_txns], [Measures].[nb_active_customers]} ON COLUMNS FROM [credit_card_trans] CELL PROPERTIES VALUE, FORMATTED_VALUE, BACK_COLOR, FORE_COLOR, FONT_FLAGS",
       "updateMode": "once"
      },
      "serverKey": "default",
      "widgetKey": "plotly-clustered-column-and-line-chart"
     }
    },
    "tags": []
   },
   "outputs": [],
   "source": [
    "session.visualize(\"Fraud trend\")"
   ]
  },
  {
   "cell_type": "markdown",
   "id": "1bca54cd-5fb8-4abb-8d09-3c723f7d5474",
   "metadata": {},
   "source": [
    "### 2.8 Drillthrough to view underlying data \n",
    "\n",
    "Right-click on the `nb_fraudulent_txns` in the chart on 29th Aug (the day with the highest number of fraud occurrence). A context menu will be displayed.  \n",
    "Select \"Drillthrough on 2021-08-29\" to look at the underlying transactions.\n",
    "<img src=\"img/drillthrough.png\" width=\"80%\"/>   \n",
    "\n",
    "A new cell displaying the drillthrough widget will be displayed. Use the atoti JupyterLab extension on the left to select the features to review."
   ]
  },
  {
   "cell_type": "code",
   "execution_count": null,
   "id": "c219a35b-787a-41f1-8cc4-4eca9c29840b",
   "metadata": {
    "atoti": {
     "widget": {
      "columnWidths": {
       "customer.acct_num": 132,
       "customer.cc_num": 142,
       "transactions.amt": 117,
       "transactions.is_fraud": 137,
       "transactions.merchant": 261
      },
      "filters": [
       "[Measures].[nb_fraudulent_txns]",
       "[transactions].[trans_date].[AllMember].[2021-08-29]"
      ],
      "query": {
       "mdx": "DRILLTHROUGH SELECT FROM [credit_card_trans] RETURN MemberValue([transactions.amt]), Caption([transactions.amt]), MemberValue([customer.acct_num]), Caption([customer.acct_num]), MemberValue([customer.cc_num]), Caption([customer.cc_num]), MemberValue([transactions.is_fraud]), Caption([transactions.is_fraud]), MemberValue([transactions.merchant]), Caption([transactions.merchant])",
       "updateMode": "once"
      },
      "serverKey": "default",
      "sort": {
       "drillthroughColumnUniqueName": "customer.acct_num",
       "orderMode": "ASC"
      },
      "widgetKey": "drillthrough-table"
     }
    },
    "tags": []
   },
   "outputs": [],
   "source": [
    "session.visualize(\"Drillthrough on 29th Aug\")"
   ]
  },
  {
   "cell_type": "markdown",
   "id": "50d11e0c-0408-4177-96f7-9b7698a1c549",
   "metadata": {
    "tags": []
   },
   "source": [
    "### 2.9 Manipulating hierarchies\n",
    "\n",
    "#### 2.9.1 Create date hierarchy from date column\n",
    "\n",
    "To visualize yearly or monthly data based on the transaction dates, we can create a new hierarchy as shown below.  \n",
    "We can also create weekly or quarterly hierarchy if needed. Refer to [atoti documentation](https://docs.atoti.io/latest/lib/atoti.experimental.html#atoti.experimental.create_date_hierarchy) for more information.  \n",
    "\n",
    "The [date pattern](https://docs.oracle.com/en/java/javase/15/docs/api/java.base/java/time/format/DateTimeFormatter.html#patterns) used below _creates levels of type String_,"
   ]
  },
  {
   "cell_type": "code",
   "execution_count": null,
   "id": "0a96a34a-cbdb-4be2-8dec-3f80e1bfecb8",
   "metadata": {},
   "outputs": [],
   "source": [
    "cube.create_date_hierarchy(\n",
    "    \"Transaction Dates\",\n",
    "    column=txn_tbl[\"trans_date\"],\n",
    "    levels={\"Year\": \"yyyy\", \"Month\": \"MM\", \"Day\": \"dd\"},\n",
    ")"
   ]
  },
  {
   "cell_type": "markdown",
   "id": "5e0e3d05-b9a0-483e-9e0c-6ae4bd0acfd1",
   "metadata": {},
   "source": [
    "Using the visualization type __KPI__, we can show the difference in amount loss to fraud between the different months."
   ]
  },
  {
   "cell_type": "code",
   "execution_count": null,
   "id": "445323b8-4a87-4ae4-84ff-fc0864743b52",
   "metadata": {
    "atoti": {
     "height": 118,
     "widget": {
      "comparison": {
       "comparedMemberNamePath": [
        "AllMember",
        "2021",
        "08"
       ],
       "dimensionName": "transactions",
       "hierarchyName": "Transaction Dates",
       "referenceMemberNamePath": [
        "AllMember",
        "2021",
        "07"
       ]
      },
      "filters": [
       "[transactions].[is_fraud].[AllMember].[1]"
      ],
      "mapping": {
       "columns": [],
       "measures": [
        "[Measures].[amt.SUM]"
       ],
       "rows": []
      },
      "query": {
       "mdx": "SELECT NON EMPTY {[Measures].[amt.SUM]} ON COLUMNS FROM [credit_card_trans] CELL PROPERTIES VALUE, FORMATTED_VALUE, BACK_COLOR, FORE_COLOR, FONT_FLAGS",
       "updateMode": "once"
      },
      "serverKey": "default",
      "widgetKey": "kpi"
     }
    },
    "tags": []
   },
   "outputs": [],
   "source": [
    "session.visualize(\"Amount loss to fraud comparison in last 2 months\")"
   ]
  },
  {
   "cell_type": "markdown",
   "id": "79c161cc-259c-4f58-8ce3-cf3880432761",
   "metadata": {},
   "source": [
    "There is an increasing trend in the amount lost to fraud, having a fifth of the transaction amount lost to fraud in August."
   ]
  },
  {
   "cell_type": "code",
   "execution_count": null,
   "id": "ee933ea1-3829-4643-9824-d8f82474285f",
   "metadata": {
    "atoti": {
     "height": 204,
     "widget": {
      "mapping": {
       "columns": [
        "ALL_MEASURES"
       ],
       "measures": [
        "[Measures].[amt.SUM]",
        "[Measures].[fraudulent_txn_amt]",
        "[Measures].[%_loss_to_fraud]"
       ],
       "rows": [
        "[transactions].[Transaction Dates].[Year] => [transactions].[Transaction Dates].[Month]"
       ]
      },
      "query": {
       "mdx": "WITH  Member [Measures].[[transactions]].[trans_date]].[trans_date]]_for_order] AS [transactions].[trans_date].CurrentMember.MEMBER_VALUE  SELECT NON EMPTY {[Measures].[amt.SUM], [Measures].[fraudulent_txn_amt], [Measures].[%_loss_to_fraud]} ON COLUMNS, NON EMPTY Hierarchize(Union(Descendants({[transactions].[Transaction Dates].[AllMember]}, 1, SELF_AND_BEFORE), Descendants({[transactions].[Transaction Dates].[AllMember].[2021]}, [transactions].[Transaction Dates].[Month]))) ON ROWS FROM [credit_card_trans] CELL PROPERTIES VALUE, FORMATTED_VALUE, BACK_COLOR, FORE_COLOR, FONT_FLAGS",
       "updateMode": "once"
      },
      "serverKey": "default",
      "widgetKey": "pivot-table"
     }
    },
    "tags": []
   },
   "outputs": [],
   "source": [
    "session.visualize(\"Amount loss to fraud\")"
   ]
  },
  {
   "cell_type": "markdown",
   "id": "56c5fad9-995e-4882-a95f-1ed1a7018d2b",
   "metadata": {},
   "source": [
    "### 2.10 Create table for classification \n",
    "\n",
    "We can always add additional tables to the cube without having to restart the session. Let's create another atoti table to group the customers' age. "
   ]
  },
  {
   "cell_type": "code",
   "execution_count": null,
   "id": "d940a86b-2ba5-44e8-8b83-bd14defeb35f",
   "metadata": {},
   "outputs": [],
   "source": [
    "age_groups_store = session.read_pandas(\n",
    "    pd.DataFrame(\n",
    "        data=[(\"0-25Y\", i) for i in range(25)]\n",
    "        + [(\"25Y - 40Y\", i) for i in range(25, 40)]\n",
    "        + [(\"40Y - 55Y\", i) for i in range(40, 55)]\n",
    "        + [(\"55Y+\", i) for i in range(55, 100)],\n",
    "        columns=[\"age group\", \"age\"],\n",
    "    ),\n",
    "    keys=[\"age\"],\n",
    "    table_name=\"Age_Groups\",\n",
    ")\n",
    "\n",
    "customer_tbl.join(age_groups_store)\n",
    "\n",
    "cube.schema"
   ]
  },
  {
   "cell_type": "markdown",
   "id": "7ee60e29-4900-4834-a1fa-b74d72d169cc",
   "metadata": {},
   "source": [
    "We can now tell that the youngest and oldest tier are more susceptible to fraud."
   ]
  },
  {
   "cell_type": "code",
   "execution_count": null,
   "id": "bcd9b04d-b772-4212-98da-1e4403b9c864",
   "metadata": {
    "atoti": {
     "widget": {
      "isTextVisible": true,
      "mapping": {
       "columns": [
        "ALL_MEASURES"
       ],
       "measures": [
        "[Measures].[%_loss_to_fraud]"
       ],
       "rows": [
        "[Age_Groups].[age group].[age group]"
       ]
      },
      "name": "% loss to fraud by age group",
      "query": {
       "mdx": "SELECT NON EMPTY {[Measures].[%_loss_to_fraud]} ON COLUMNS, NON EMPTY Hierarchize(Descendants({[Age_Groups].[age group].[AllMember]}, 1, SELF_AND_BEFORE)) ON ROWS FROM [credit_card_trans] CELL PROPERTIES VALUE, FORMATTED_VALUE, BACK_COLOR, FORE_COLOR, FONT_FLAGS",
       "updateMode": "once"
      },
      "serverKey": "default",
      "switchedTo": "plotly-clustered-bar-chart",
      "widgetKey": "pivot-table"
     }
    },
    "tags": []
   },
   "outputs": [],
   "source": [
    "session.visualize(\"% loss to fraud by age group\")"
   ]
  },
  {
   "cell_type": "markdown",
   "id": "8a4dbe5d-5f20-4e67-b34c-4a3f393bcd01",
   "metadata": {
    "tags": []
   },
   "source": [
    "## 3. Integrate prediction from AutoML (PyCaret) into atoti\n",
    "\n",
    "Using [PyCaret](https://pycaret.org/), we trained and tested 3 months worth of synthetic credit card transactions.  \n",
    "The trained models are being saved under the __models__ folder.  "
   ]
  },
  {
   "cell_type": "markdown",
   "id": "12a42baa-f0e8-4792-8360-c953b85a38e9",
   "metadata": {},
   "source": [
    "### 3.1 Create atoti KPI based on the predictions"
   ]
  },
  {
   "cell_type": "markdown",
   "id": "e11524fc-4f41-4503-866f-b1787724be55",
   "metadata": {},
   "source": [
    "#### 3.1.1 Create similar KPI as actual fraud for predicted fraud\n",
    "\n",
    "Instead of using `is_fraud` which indicates true fraud cases, we will use `Label` to create similar KPIs."
   ]
  },
  {
   "cell_type": "code",
   "execution_count": null,
   "id": "74ce839a-4d84-4253-9f5e-781b5a912c64",
   "metadata": {},
   "outputs": [],
   "source": [
    "m[\"nb_predicted_fraud_txns\"] = tt.filter(m[\"contributors.COUNT\"], l[\"Label\"] == \"1\")\n",
    "m[\"%_predicted_fraud_txns\"] = m[\"nb_predicted_fraud_txns\"] / m[\"contributors.COUNT\"]\n",
    "\n",
    "m[\"%_predicted_fraud_txns\"].formatter = \"DOUBLE[#.000%]\""
   ]
  },
  {
   "cell_type": "code",
   "execution_count": null,
   "id": "245aa382-719b-4f58-8d9a-2daf7f174850",
   "metadata": {},
   "outputs": [],
   "source": [
    "m[\"predicted_fraud_txn_amt\"] = tt.agg.sum(\n",
    "    tt.where((l[\"Label\"] == \"1\"), m[\"amt.SUM\"]),\n",
    "    scope=tt.OriginScope(l[\"trans_date\"], l[\"is_fraud\"], l[\"Label\"]),\n",
    ")\n",
    "m[\"%_predicted_loss_to_fraud\"] = tt.where(\n",
    "    m[\"predicted_fraud_txn_amt\"] == 0, 0, m[\"predicted_fraud_txn_amt\"] / m[\"amt.SUM\"]\n",
    ")\n",
    "\n",
    "m[\"%_predicted_loss_to_fraud\"].formatter = \"DOUBLE[#.000%]\""
   ]
  },
  {
   "cell_type": "code",
   "execution_count": null,
   "id": "d75b7ff5-0e41-489f-996a-da0670e9c50e",
   "metadata": {},
   "outputs": [],
   "source": [
    "m[\"diff_with_actual_txn_amt\"] = m[\"fraudulent_txn_amt\"] - m[\"predicted_fraud_txn_amt\"]\n",
    "m[\"diff_with_actual_nb_fraud_txn\"] = (\n",
    "    m[\"nb_fraudulent_txns\"] - m[\"nb_predicted_fraud_txns\"]\n",
    ")"
   ]
  },
  {
   "cell_type": "markdown",
   "id": "3eb9f2b3-2d5e-4fd4-853f-71eb47ceb12c",
   "metadata": {},
   "source": [
    "Since we have the prediction for July, let's visualize this value against the actual fraud. But we haven't take the recall and precision into account."
   ]
  },
  {
   "cell_type": "code",
   "execution_count": null,
   "id": "ad5f60f2-b608-4762-9294-4b21a8f902de",
   "metadata": {
    "atoti": {
     "widget": {
      "columnWidths": {
       "[Measures].[%_fraud_txns]": 93,
       "[Measures].[%_loss_to_fraud]": 108,
       "[Measures].[%_predicted_fraud_txns]": 149,
       "[Measures].[%_predicted_loss_to_fraud]": 164,
       "[Measures].[diff_with_actual_txn_amt (1)]": 147,
       "[Measures].[diff_with_actual_txn_amt]": 149
      },
      "filters": [
       "{[transactions].[Transaction Dates].[AllMember].[2021].[07], [transactions].[Transaction Dates].[AllMember].[2021].[08]}"
      ],
      "mapping": {
       "columns": [
        "ALL_MEASURES"
       ],
       "measures": [
        "[Measures].[%_fraud_txns]",
        "[Measures].[%_predicted_fraud_txns]",
        "[Measures].[diff_with_actual_nb_fraud_txn]",
        "[Measures].[%_loss_to_fraud]",
        "[Measures].[%_predicted_loss_to_fraud]",
        "[Measures].[diff_with_actual_txn_amt]"
       ],
       "rows": [
        "[transactions].[Transaction Dates].[Month] => [transactions].[Transaction Dates].[Day]"
       ]
      },
      "query": {
       "mdx": "WITH  Member [Measures].[diff_with_actual_txn_amt (1)] AS [Measures].[diff_with_actual_txn_amt], FORE_COLOR = CASE WHEN [Measures].[diff_with_actual_txn_amt (1)] > 0 THEN rgb(245, 66, 66) END, format_string = \"#,###.00\", CAPTION = [Measures].[diff_with_actual_txn_amt].MEMBER_CAPTION  SELECT NON EMPTY Hierarchize(Union(Descendants({[transactions].[Transaction Dates].[AllMember]}, 2, SELF_AND_BEFORE), Descendants({[transactions].[Transaction Dates].[AllMember].[2021].[08]}, [transactions].[Transaction Dates].[Day]))) ON ROWS, NON EMPTY {[Measures].[%_fraud_txns], [Measures].[%_predicted_fraud_txns], [Measures].[diff_with_actual_nb_fraud_txn], [Measures].[%_loss_to_fraud], [Measures].[%_predicted_loss_to_fraud], [Measures].[diff_with_actual_txn_amt (1)]} ON COLUMNS FROM [credit_card_trans] CELL PROPERTIES VALUE, FORMATTED_VALUE, BACK_COLOR, FORE_COLOR, FONT_FLAGS",
       "updateMode": "once"
      },
      "serverKey": "default",
      "widgetKey": "pivot-table"
     }
    },
    "tags": []
   },
   "outputs": [],
   "source": [
    "session.visualize(\"Difference between actual and predicted\")"
   ]
  },
  {
   "cell_type": "markdown",
   "id": "64d4adc9-3401-4ba4-97b5-dd22ea164cc2",
   "metadata": {
    "tags": []
   },
   "source": [
    "#### 3.1.2 Compute recall and precision for prediction\n",
    "\n",
    "We can plot the confusion matrix with the actual frauds `is_fraud` on rows and predicted fraud `Label` on columns.  \n",
    "This shows that out of the 10,305 fraudulent transactions in July and Aug, we predicted 8,757 of them correctly."
   ]
  },
  {
   "cell_type": "code",
   "execution_count": null,
   "id": "e00b816b-4203-4e42-851a-257b153f8c4c",
   "metadata": {
    "atoti": {
     "height": 188,
     "widget": {
      "filters": [
       "Filter([transactions].[trans_date].[trans_date].Members, [transactions].[trans_date].CurrentMember.MEMBER_CAPTION > \"2021-07\")"
      ],
      "mapping": {
       "columns": [
        "ALL_MEASURES",
        "[prediction].[Label].[Label]"
       ],
       "measures": [
        "[Measures].[contributors.COUNT]"
       ],
       "rows": [
        "[transactions].[is_fraud].[is_fraud]"
       ]
      },
      "query": {
       "mdx": "SELECT NON EMPTY Hierarchize(Descendants({[transactions].[is_fraud].[AllMember]}, 1, SELF_AND_BEFORE)) ON ROWS, NON EMPTY Crossjoin({[Measures].[contributors.COUNT]}, Hierarchize(Descendants({[prediction].[Label].[AllMember]}, 1, SELF_AND_BEFORE))) ON COLUMNS FROM [credit_card_trans] CELL PROPERTIES VALUE, FORMATTED_VALUE, BACK_COLOR, FORE_COLOR, FONT_FLAGS",
       "updateMode": "once"
      },
      "serverKey": "default",
      "widgetKey": "pivot-table"
     }
    },
    "tags": []
   },
   "outputs": [],
   "source": [
    "session.visualize(\"Confusion matrix\")"
   ]
  },
  {
   "cell_type": "markdown",
   "id": "61c49f33-0041-4789-9c77-312d861a5694",
   "metadata": {},
   "source": [
    "In fact, we can also compute the recall and precision for the prediction with atoti:"
   ]
  },
  {
   "cell_type": "code",
   "execution_count": null,
   "id": "d4c13b5b-5842-4ae0-a18a-74a1df191274",
   "metadata": {},
   "outputs": [],
   "source": [
    "m[\"true_positive\"] = tt.agg.sum(\n",
    "    tt.where((l[\"Label\"] == \"1\") & (l[\"is_fraud\"] == \"1\"), m[\"contributors.COUNT\"]),\n",
    "    scope=tt.OriginScope(l[\"trans_date\"], l[\"is_fraud\"], l[\"Label\"]),\n",
    ")\n",
    "\n",
    "m[\"true_negative\"] = tt.agg.sum(\n",
    "    tt.where((l[\"Label\"] == \"0\") & (l[\"is_fraud\"] == \"0\"), m[\"contributors.COUNT\"]),\n",
    "    scope=tt.OriginScope(l[\"trans_date\"], l[\"is_fraud\"], l[\"Label\"]),\n",
    ")\n",
    "\n",
    "m[\"false_positive\"] = tt.agg.sum(\n",
    "    tt.where((l[\"Label\"] == \"1\") & (l[\"is_fraud\"] == \"0\"), m[\"contributors.COUNT\"]),\n",
    "    scope=tt.OriginScope(l[\"trans_date\"], l[\"is_fraud\"], l[\"Label\"]),\n",
    ")\n",
    "\n",
    "m[\"false_negative\"] = tt.agg.sum(\n",
    "    tt.where((l[\"Label\"] == \"0\") & (l[\"is_fraud\"] == \"1\"), m[\"contributors.COUNT\"]),\n",
    "    scope=tt.OriginScope(l[\"trans_date\"], l[\"is_fraud\"], l[\"Label\"]),\n",
    ")\n",
    "\n",
    "m[\"accuracy\"] = (m[\"true_positive\"] + m[\"true_negative\"]) / m[\"contributors.COUNT\"]\n",
    "m[\"precision\"] = m[\"true_positive\"] / (m[\"true_positive\"] + m[\"false_positive\"])\n",
    "m[\"recall\"] = m[\"true_positive\"] / (m[\"true_positive\"] + m[\"false_negative\"])\n",
    "m[\"f1 score\"] = 2 * (m[\"precision\"] * m[\"recall\"]) / (m[\"precision\"] + m[\"recall\"])"
   ]
  },
  {
   "cell_type": "markdown",
   "id": "7d5486fa-ea20-473b-be9c-e76cec3ba6d2",
   "metadata": {},
   "source": [
    "From the below table, we can see that the accuracy rate of the Light Gradient Boosting Machine has accuracy of 99% which is very high."
   ]
  },
  {
   "cell_type": "code",
   "execution_count": null,
   "id": "9df06cfa-be02-4e6e-a2b6-f77a005d555b",
   "metadata": {
    "atoti": {
     "height": 99,
     "widget": {
      "filters": [
       "[transactions].[Transaction Dates].[AllMember].[2021].[07]"
      ],
      "mapping": {
       "columns": [
        "ALL_MEASURES"
       ],
       "measures": [
        "[Measures].[true_positive]",
        "[Measures].[true_negative]",
        "[Measures].[false_positive]",
        "[Measures].[false_negative]",
        "[Measures].[accuracy]",
        "[Measures].[recall]",
        "[Measures].[precision]",
        "[Measures].[f1 score]"
       ],
       "rows": []
      },
      "query": {
       "mdx": "SELECT NON EMPTY {[Measures].[true_positive], [Measures].[true_negative], [Measures].[false_positive], [Measures].[false_negative], [Measures].[accuracy], [Measures].[recall], [Measures].[precision], [Measures].[f1 score]} ON COLUMNS FROM [credit_card_trans] CELL PROPERTIES VALUE, FORMATTED_VALUE, BACK_COLOR, FORE_COLOR, FONT_FLAGS",
       "updateMode": "once"
      },
      "serverKey": "default",
      "widgetKey": "pivot-table"
     }
    },
    "tags": []
   },
   "outputs": [],
   "source": [
    "session.visualize(\"Performance of the LGBM model against July prediction\")"
   ]
  },
  {
   "cell_type": "markdown",
   "id": "86eb25f0-53ee-449c-829a-3166a65ffb79",
   "metadata": {},
   "source": [
    "Let's look at the performance from the monetary perspective."
   ]
  },
  {
   "cell_type": "code",
   "execution_count": null,
   "id": "77a99e3f-315a-4b14-923a-a6dba4f8a195",
   "metadata": {},
   "outputs": [],
   "source": [
    "m[\"true_positive_amt\"] = tt.agg.sum(\n",
    "    tt.where((l[\"Label\"] == \"1\") & (l[\"is_fraud\"] == \"1\"), m[\"amt.SUM\"]),\n",
    "    scope=tt.OriginScope(l[\"trans_date\"], l[\"is_fraud\"], l[\"Label\"]),\n",
    ")\n",
    "\n",
    "m[\"false_positive_amt\"] = tt.agg.sum(\n",
    "    tt.where((l[\"Label\"] == \"1\") & (l[\"is_fraud\"] == \"0\"), m[\"amt.SUM\"]),\n",
    "    scope=tt.OriginScope(l[\"trans_date\"], l[\"is_fraud\"], l[\"Label\"]),\n",
    ")\n",
    "\n",
    "m[\"false_negative_amt\"] = tt.agg.sum(\n",
    "    tt.where((l[\"Label\"] == \"0\") & (l[\"is_fraud\"] == \"1\"), m[\"amt.SUM\"]),\n",
    "    scope=tt.OriginScope(l[\"trans_date\"], l[\"is_fraud\"], l[\"Label\"]),\n",
    ")\n",
    "\n",
    "m[\"% amt loss prevented\"] = m[\"true_positive_amt\"] / m[\"fraudulent_txn_amt\"]\n",
    "m[\"% amt loss prevented\"].formatter = \"DOUBLE[##.00%]\""
   ]
  },
  {
   "cell_type": "markdown",
   "id": "d65e60c6-d735-4368-9d7d-bad66c3c7b99",
   "metadata": {},
   "source": [
    "`true_positive_amt`: if preventive actions were taken against these transactions, __more than a million dollars will be saved__ from fraudulent activities.  \n",
    "`false_positive_amt`: even though falsely predicted, it's better to be safe than sorry.  \n",
    "`false_negative_amt`: fraudulent transactions missed by the machine learning and resulted in actual loss.  \n",
    "`% amt loss prevented`: prevents __more than 90% of the actual fraudulent transaction amount__ from actual loss."
   ]
  },
  {
   "cell_type": "code",
   "execution_count": null,
   "id": "c2470b41-f181-412d-826e-0e07ea2574a8",
   "metadata": {
    "atoti": {
     "height": 193,
     "widget": {
      "columnWidths": {
       "[Measures].[% amt loss prevented]": 193,
       "[Measures].[false_negative_amt]": 131
      },
      "filters": [
       "Filter([transactions].[trans_date].[trans_date].Members, [transactions].[trans_date].CurrentMember.MEMBER_CAPTION >= \"2021-07\")"
      ],
      "mapping": {
       "columns": [
        "ALL_MEASURES"
       ],
       "measures": [
        "[Measures].[true_positive_amt]",
        "[Measures].[false_positive_amt]",
        "[Measures].[false_negative_amt]",
        "[Measures].[% amt loss prevented]"
       ],
       "rows": [
        "[transactions].[Transaction Dates].[Year] => [transactions].[Transaction Dates].[Month]"
       ]
      },
      "query": {
       "mdx": "SELECT NON EMPTY {[Measures].[true_positive_amt], [Measures].[false_positive_amt], [Measures].[false_negative_amt], [Measures].[% amt loss prevented]} ON COLUMNS, NON EMPTY Hierarchize(Union(Descendants({[transactions].[Transaction Dates].[AllMember]}, 1, SELF_AND_BEFORE), Descendants({[transactions].[Transaction Dates].[AllMember].[2021]}, [transactions].[Transaction Dates].[Month]))) ON ROWS FROM [credit_card_trans] CELL PROPERTIES VALUE, FORMATTED_VALUE, BACK_COLOR, FORE_COLOR, FONT_FLAGS",
       "updateMode": "once"
      },
      "serverKey": "default",
      "widgetKey": "pivot-table"
     }
    },
    "tags": []
   },
   "outputs": [],
   "source": [
    "session.visualize(\"Transaction amount saved/lost to fraud after preventive actions\")"
   ]
  },
  {
   "cell_type": "markdown",
   "id": "e3fb5019-c896-4368-9be6-a5a5f91f12e2",
   "metadata": {},
   "source": [
    "#### 3.1.3 Place measures in folder  \n",
    "\n",
    "Since atoti is a Python library, we can iterate through the measures to put them in folders conditionally."
   ]
  },
  {
   "cell_type": "code",
   "execution_count": null,
   "id": "d2d9bf29-65fd-41c8-9520-0c7d2a388941",
   "metadata": {},
   "outputs": [],
   "source": [
    "for measure_name in m.keys():\n",
    "    if \"predicted\" in measure_name:\n",
    "        m[measure_name].folder = \"Prediction\""
   ]
  },
  {
   "cell_type": "code",
   "execution_count": null,
   "id": "b14fd1ff-ad65-4adc-964c-138fd9dbf38e",
   "metadata": {},
   "outputs": [],
   "source": [
    "for measure in [\n",
    "    m[\"true_positive\"],\n",
    "    m[\"true_negative\"],\n",
    "    m[\"false_positive\"],\n",
    "    m[\"false_negative\"],\n",
    "    m[\"accuracy\"],\n",
    "    m[\"precision\"],\n",
    "    m[\"recall\"],\n",
    "    m[\"true_positive_amt\"],\n",
    "    m[\"false_positive_amt\"],\n",
    "    m[\"false_negative_amt\"],\n",
    "    m[\"% amt loss prevented\"],\n",
    "]:\n",
    "    measure.folder = \"Evaluation\"\n",
    "\n",
    "for measure in [\n",
    "    m[\"accuracy\"],\n",
    "    m[\"precision\"],\n",
    "    m[\"recall\"],\n",
    "]:\n",
    "    measure.formatter = \"DOUBLE[##.0000%]\""
   ]
  },
  {
   "cell_type": "markdown",
   "id": "62aa0c66-afe1-4222-adb3-a50e788043cc",
   "metadata": {
    "tags": []
   },
   "source": [
    "### 3.2 Model comparisions with atoti source simulation  \n",
    "\n",
    "PyCaret offers 6 different types of module, of which 2 modules are used for credit card fraud detection in most of the articles online:\n",
    "- Classification \n",
    "- Anomaly detection  \n",
    "\n",
    "Upon deciding on the type of module to use, we also have to consider the type of models we want.  \n",
    "Also, which are the features that we want to include?\n",
    "\n",
    "That's a lot of choices and which is the best? Since PyCaret is easy to use, we can easily setup my modules, create some models and run our prediction.  \n",
    "\n",
    "Let's load them into atoti to have a side-by-side comparison. Below, we have the prediction results from the unseen dataset for which, some includes the cumulative features while others exclude them.  "
   ]
  },
  {
   "cell_type": "code",
   "execution_count": null,
   "id": "0b7df57b-e380-4453-9db6-8beb471659a5",
   "metadata": {},
   "outputs": [],
   "source": [
    "prediction_tbl.scenarios[\"Class - Light Gradient Boosting Machine (Non-Cum)\"].load_csv(\n",
    "    f\"{data_path}/july_aug_prediction_lgbm.csv\"\n",
    ")"
   ]
  },
  {
   "cell_type": "code",
   "execution_count": null,
   "id": "9cc54cb2-2447-4a1c-a312-6b404ea795ae",
   "metadata": {
    "tags": []
   },
   "outputs": [],
   "source": [
    "prediction_tbl.scenarios[\"Class - Decision Tree Classifier (Cum)\"].load_csv(\n",
    "    f\"{data_path}/july_aug_prediction_full_dt.csv\"\n",
    ")"
   ]
  },
  {
   "cell_type": "code",
   "execution_count": null,
   "id": "2da80dd7-ef57-42d1-9793-3d46905e5f3b",
   "metadata": {},
   "outputs": [],
   "source": [
    "prediction_tbl.scenarios[\"Class - Decision Tree Classifier (Non-cum)\"].load_csv(\n",
    "    f\"{data_path}/july_aug_prediction_dt.csv\"\n",
    ")"
   ]
  },
  {
   "cell_type": "code",
   "execution_count": null,
   "id": "29e6a71a-140a-4902-a25e-d57aeffd6754",
   "metadata": {},
   "outputs": [],
   "source": [
    "prediction_tbl.scenarios[\"Anomaly Detection - iForest (Cum)\"].load_csv(\n",
    "    f\"{data_path}/july_aug_anomalies_full_iforest.csv\"\n",
    ")"
   ]
  },
  {
   "cell_type": "code",
   "execution_count": null,
   "id": "fb5fa1ce-905f-4e28-8e2d-60c022fa6321",
   "metadata": {},
   "outputs": [],
   "source": [
    "prediction_tbl.scenarios[\"Anomaly Detection - iForest (Non-cum)\"].load_csv(\n",
    "    f\"{data_path}/july_aug_anomalies_iforest.csv\"\n",
    ")"
   ]
  },
  {
   "cell_type": "code",
   "execution_count": null,
   "id": "21104e41-fed1-45cf-b127-ff5b733ec736",
   "metadata": {
    "atoti": {
     "height": 457,
     "widget": {
      "columnWidths": {
       "[Epoch].[Epoch].[Branch]": 355
      },
      "filters": [
       "Filter([transactions].[trans_date].[trans_date].Members, [transactions].[trans_date].CurrentMember.MEMBER_CAPTION > \"2021-07\")",
       "Filter([transactions].[trans_date].[trans_date].Members, [transactions].[trans_date].CurrentMember.MEMBER_CAPTION < \"2021-09\")"
      ],
      "mapping": {
       "columns": [
        "ALL_MEASURES",
        "[prediction].[Label].[Label]"
       ],
       "measures": [
        "[Measures].[contributors.COUNT]"
       ],
       "rows": [
        "[transactions].[is_fraud].[is_fraud]",
        "[Epoch].[Epoch].[Branch]"
       ]
      },
      "query": {
       "mdx": "WITH  Member [Measures].[contributors.COUNT (1)] AS [Measures].[contributors.COUNT], BACK_COLOR = CASE WHEN ([prediction].[Label].CurrentMember IS [prediction].[Label].[Label].[1]) and ([transactions].[is_fraud].CurrentMember IS [transactions].[is_fraud].[is_fraud].[1]) THEN rgb(163, 255, 153) END, CAPTION = \"Count\"  SELECT NON EMPTY Crossjoin(Hierarchize(Descendants({[transactions].[is_fraud].[AllMember]}, 1, SELF_AND_BEFORE)), [Epoch].[Epoch].[Branch].Members) ON ROWS, NON EMPTY Crossjoin({[Measures].[contributors.COUNT (1)]}, Hierarchize(Descendants({[prediction].[Label].[AllMember]}, 1, SELF_AND_BEFORE))) ON COLUMNS FROM [credit_card_trans] CELL PROPERTIES VALUE, FORMATTED_VALUE, BACK_COLOR, FORE_COLOR, FONT_FLAGS",
       "updateMode": "once"
      },
      "serverKey": "default",
      "widgetKey": "pivot-table"
     }
    },
    "tags": []
   },
   "outputs": [],
   "source": [
    "session.visualize(\"Confusion matrix\")"
   ]
  },
  {
   "cell_type": "markdown",
   "id": "25210f69-de5e-4bcd-aa99-f14a17c9f027",
   "metadata": {},
   "source": [
    "It seems that the classification module has better performance than the anomaly detection method. The LGBM model has better performance when we include the cumulative number of transactions and average transaction amount as features.  "
   ]
  },
  {
   "cell_type": "code",
   "execution_count": null,
   "id": "46924c8f-daf1-43d3-a0c4-e20fab53ab6a",
   "metadata": {
    "atoti": {
     "height": 250,
     "widget": {
      "columnWidths": {
       "[Epoch].[Epoch].[Branch]": 293
      },
      "filters": [
       "{[transactions].[Transaction Dates].[AllMember].[2021].[07], [transactions].[Transaction Dates].[AllMember].[2021].[08]}"
      ],
      "mapping": {
       "columns": [
        "ALL_MEASURES"
       ],
       "measures": [
        "[Measures].[true_positive]",
        "[Measures].[true_negative]",
        "[Measures].[false_positive]",
        "[Measures].[false_negative]",
        "[Measures].[accuracy]",
        "[Measures].[recall]",
        "[Measures].[precision]",
        "[Measures].[f1 score]"
       ],
       "rows": [
        "[Epoch].[Epoch].[Branch]"
       ]
      },
      "query": {
       "mdx": "SELECT NON EMPTY {[Measures].[true_positive], [Measures].[true_negative], [Measures].[false_positive], [Measures].[false_negative], [Measures].[accuracy], [Measures].[recall], [Measures].[precision], [Measures].[f1 score]} ON COLUMNS, NON EMPTY [Epoch].[Epoch].[Branch].Members ON ROWS FROM [credit_card_trans] CELL PROPERTIES VALUE, FORMATTED_VALUE, BACK_COLOR, FORE_COLOR, FONT_FLAGS",
       "updateMode": "once"
      },
      "serverKey": "default",
      "widgetKey": "pivot-table"
     }
    },
    "tags": []
   },
   "outputs": [],
   "source": [
    "session.visualize(\n",
    "    \"Performance comparison for models against July and August prediction\"\n",
    ")"
   ]
  },
  {
   "cell_type": "code",
   "execution_count": null,
   "id": "f05a7c91-bf18-4922-a2a2-8a396fb8ae92",
   "metadata": {
    "atoti": {
     "height": 459,
     "widget": {
      "columnWidths": {
       "[transactions].[trans_date].[AllMember],[Measures].[nb_predicted_fraud_txns]": 174,
       "[transactions].[trans_date].[AllMember],[Measures].[predicted_fraud_txn_amt]": 200.14584350585938,
       "[transactions].[trans_date].[AllMember].[2021-09-01],[Measures].[nb_predicted_fraud_txns]": 177,
       "[transactions].[trans_date].[AllMember].[2021-09-01],[Measures].[predicted_fraud_txn_amt]": 213
      },
      "filters": [],
      "mapping": {
       "horizontalSubplots": [],
       "splitBy": [
        "[Epoch].[Epoch].[Branch]",
        "ALL_MEASURES"
       ],
       "values": [
        "[Measures].[true_positive_amt]"
       ],
       "verticalSubplots": [],
       "xAxis": [
        "[transactions].[trans_date].[trans_date]"
       ]
      },
      "name": "Amount of money saved by each model across the 5 days",
      "query": {
       "mdx": "SELECT NON EMPTY Crossjoin([Epoch].[Epoch].[Branch].Members, {[Measures].[true_positive_amt]}) ON COLUMNS, NON EMPTY Hierarchize(Descendants({[transactions].[trans_date].[AllMember]}, 1, SELF_AND_BEFORE)) ON ROWS FROM [credit_card_trans] CELL PROPERTIES VALUE, FORMATTED_VALUE, BACK_COLOR, FORE_COLOR, FONT_FLAGS",
       "updateMode": "once"
      },
      "serverKey": "default",
      "switchedTo": "plotly-line-chart",
      "widgetKey": "plotly-clustered-column-chart"
     }
    },
    "tags": []
   },
   "outputs": [],
   "source": [
    "session.visualize(\"Amount of money saved by each model\")"
   ]
  },
  {
   "cell_type": "markdown",
   "id": "96a6098c-95f2-4f6c-ac38-bfd816046c8e",
   "metadata": {},
   "source": [
    "We can see the difference in the potential amount of money that can be alerted and saved from loss due to fraud, based on the prediction by each model.  \n",
    "Both LGBM and Decision Tree perform almost equally well.  \n",
    "\n",
    "It would be interesting to look at the fraudulent transactions detected by the anomaly detection module and not by the classification module. It could highlight a rare instance of fraud case overlooked by supervised learning."
   ]
  },
  {
   "cell_type": "code",
   "execution_count": null,
   "id": "0a96406a-825b-4718-b7ea-d612f2990655",
   "metadata": {
    "atoti": {
     "height": 683,
     "widget": {
      "columnWidths": {
       "[Measures].[amt.SUM],[Epoch].[Epoch].[Anomaly Detection - iForest (Cum)],[prediction].[Label].[AllMember]": 230,
       "[Measures].[distance_from_cust.SUM],[Epoch].[Epoch].[Anomaly Detection - iForest (Cum)],[prediction].[Label].[AllMember].[0]": 69,
       "[Measures].[distance_from_cust.SUM],[Epoch].[Epoch].[Anomaly Detection - iForest (Cum)],[prediction].[Label].[AllMember].[1]": 63,
       "[Measures].[distance_from_cust.SUM],[Epoch].[Epoch].[Base],[prediction].[Label].[AllMember]": 155,
       "[Measures].[distance_from_cust.SUM],[Epoch].[Epoch].[Base],[prediction].[Label].[AllMember].[0]": 63,
       "[Measures].[distance_from_cust.SUM],[Epoch].[Epoch].[Base],[prediction].[Label].[AllMember].[1]": 69,
       "[transactions].[category].[category]": 91,
       "[transactions].[merchant].[merchant]": 261,
       "[transactions].[trans_num].[trans_num]": 219
      },
      "filters": [
       "{[Epoch].[Epoch].[Base], [Epoch].[Epoch].[Anomaly Detection - iForest (Cum)]}",
       "[transactions].[trans_date].[AllMember].[2021-08-27]",
       "[transactions].[is_fraud].[AllMember].[1]"
      ],
      "mapping": {
       "columns": [
        "ALL_MEASURES",
        "[Epoch].[Epoch].[Branch]",
        "[prediction].[Label].[Label]"
       ],
       "measures": [
        "[Measures].[distance_from_cust.SUM]"
       ],
       "rows": [
        "[transactions].[trans_num].[trans_num]",
        "[transactions].[category].[category]",
        "[transactions].[merchant].[merchant]"
       ]
      },
      "query": {
       "mdx": "SELECT NON EMPTY Crossjoin({[Measures].[distance_from_cust.SUM]}, [Epoch].[Epoch].[Branch].Members, Hierarchize(Descendants({[prediction].[Label].[AllMember]}, 1, SELF_AND_BEFORE))) ON COLUMNS, NON EMPTY Order(Crossjoin(Hierarchize(Descendants({[transactions].[trans_num].[AllMember]}, 1, SELF_AND_BEFORE)), Hierarchize(Descendants({[transactions].[category].[AllMember]}, 1, SELF_AND_BEFORE)), Hierarchize(Descendants({[transactions].[merchant].[AllMember]}, 1, SELF_AND_BEFORE))), ([Measures].[amt.SUM], [Epoch].[Epoch].[Base], [prediction].[Label].[AllMember].[0]), DESC) ON ROWS FROM [credit_card_trans] CELL PROPERTIES VALUE, FORMATTED_VALUE, BACK_COLOR, FORE_COLOR, FONT_FLAGS",
       "updateMode": "once"
      },
      "queryContext": [
       {
        "key": "mdx.hiddengrandtotals",
        "value": "-1"
       },
       {
        "key": "mdx.hiddensubtotals",
        "value": "[transactions].[category].[category],[transactions].[trans_num].[trans_num]"
       }
      ],
      "serverKey": "default",
      "widgetKey": "pivot-table"
     }
    },
    "tags": []
   },
   "outputs": [],
   "source": [
    "session.visualize(\n",
    "    \"Anomaly detected on 27th Aug but not identified as fraud by classification\"\n",
    ")"
   ]
  },
  {
   "cell_type": "markdown",
   "id": "f29e45ed-79ba-4bf7-8381-aa6703b91b50",
   "metadata": {},
   "source": [
    "Access the below link to access the model performance dashboard."
   ]
  },
  {
   "cell_type": "code",
   "execution_count": null,
   "id": "d9a1bd64-261c-4d58-a1b5-af773ea57f05",
   "metadata": {},
   "outputs": [],
   "source": [
    "session.link(path=\"/#/dashboard/cd7\")"
   ]
  },
  {
   "cell_type": "markdown",
   "id": "6c780a37-5500-4403-99b4-6541a0d44745",
   "metadata": {},
   "source": [
    "### 3.3 Launch real-time dashboard \n",
    "\n",
    "__NOTE: We have disabled the integration of real-time prediction into atoti due to the dependency conflict between atoti and PyCaret.  \n",
    "Feel free to enable the prediction once the conflict is resolved.__"
   ]
  },
  {
   "cell_type": "code",
   "execution_count": null,
   "id": "a2abec37-0835-4cff-a363-1e50c049f3c5",
   "metadata": {},
   "outputs": [],
   "source": [
    "disable_prediction = True"
   ]
  },
  {
   "cell_type": "markdown",
   "id": "baae00d2-82d8-4285-9ffc-e0ec769a2bd0",
   "metadata": {},
   "source": [
    "After we have created all the KPIs, we can design our real-time dashboard. Access the saved dashboard from the link below:"
   ]
  },
  {
   "cell_type": "code",
   "execution_count": null,
   "id": "17e99937-4479-4b43-8485-a481b2c6acd0",
   "metadata": {},
   "outputs": [],
   "source": [
    "session.link(path=\"/#/dashboard/4c8\")"
   ]
  },
  {
   "cell_type": "markdown",
   "id": "019a3643-0e7d-4b39-9711-f3161a4fafd8",
   "metadata": {},
   "source": [
    "### 3.4 Load saved ML model\n",
    "\n",
    "As we can see from the previous section, the Light Gradient Boosting Machine (LGBM) model with full features has the best performance. We will load its saved model for real-time fraud detection simulation below.\n",
    "\n",
    "Refer to [03-AutoML-PyCaret-classification.ipynb](./03-AutoML-PyCaret-classification.ipynb) for the model evaluation."
   ]
  },
  {
   "cell_type": "code",
   "execution_count": null,
   "id": "93944bea-fb85-4519-b405-971f1e7855fb",
   "metadata": {},
   "outputs": [],
   "source": [
    "if not disable_prediction:\n",
    "    from pycaret.classification import *\n",
    "\n",
    "    model_path = \"./models/\"\n",
    "    saved_final_lgbm = load_model(f\"{model_path}Final LGBM Model 20211130\")"
   ]
  },
  {
   "cell_type": "markdown",
   "id": "c44d50a0-12b2-4aab-b2dc-f05c0c8c5440",
   "metadata": {},
   "source": [
    "### 3.5 Perform prediction on real-time data\n",
    "\n",
    "We will iterate through the September transactions that was put aside from the ML modeling previously.  \n",
    "For each iteration, we will perform the prediction and load the results back into atoti, along with the transactions.  \n",
    "\n",
    "We can monitor the various KPI for fraud investigation.  \n",
    "\n",
    "#### 3.5.1 Features to be passed to model"
   ]
  },
  {
   "cell_type": "code",
   "execution_count": null,
   "id": "d25fb407-db17-4b83-b04c-a612d32ebe26",
   "metadata": {},
   "outputs": [],
   "source": [
    "feature_list = [\n",
    "    \"category\",\n",
    "    \"amt\",\n",
    "    \"is_fraud\",\n",
    "    \"merchant_id\",\n",
    "    \"gender\",\n",
    "    \"street\",\n",
    "    \"city\",\n",
    "    \"state\",\n",
    "    \"zip\",\n",
    "    \"city_pop\",\n",
    "    \"job\",\n",
    "    \"age\",\n",
    "    \"distance_from_cust\",\n",
    "    \"txn_during_night\",\n",
    "    \"trans_weekend\",\n",
    "    \"nb_txns_1_days\",\n",
    "    \"avg_txns_amt_1_days\",\n",
    "    \"nb_txns_7_days\",\n",
    "    \"avg_txns_amt_7_days\",\n",
    "    \"nb_txns_30_days\",\n",
    "    \"avg_txns_amt_30_days\",\n",
    "]"
   ]
  },
  {
   "cell_type": "markdown",
   "id": "9923ed79-9996-4170-ac78-de28691612b4",
   "metadata": {
    "tags": []
   },
   "source": [
    "#### 3.5.2 Throttling transaction data reading\n",
    "\n",
    "Using the [`chunksize`](https://pandas.pydata.org/pandas-docs/stable/reference/api/pandas.read_csv.html) from Pandas, we can choose the number of rows to read per iteration. We have data for the month of September, so we can adjust the chunksize for longer or shorter data loading duration (to achieve real-time demo effect)."
   ]
  },
  {
   "cell_type": "code",
   "execution_count": null,
   "id": "19179724-58ee-4276-9c5b-b442f3d0230a",
   "metadata": {},
   "outputs": [],
   "source": [
    "if not disable_prediction:\n",
    "    new_txns_df = pd.read_csv(\n",
    "        # f\"{data_path}/realtime_txn.csv\", # uncomment for more data to have a longer streaming time\n",
    "        f\"{data_path}/realtime_txn_subset.csv\",  # using smaller dataset to facilitate testing in GIT\n",
    "        parse_dates=[\"trans_date\"],\n",
    "        chunksize=1000,\n",
    "    )"
   ]
  },
  {
   "cell_type": "markdown",
   "id": "77b5037d-7a37-4098-8198-1a17999e73b7",
   "metadata": {
    "tags": []
   },
   "source": [
    "#### 3.5.3 Custom prediction function\n",
    "\n",
    "The function below does the following: \n",
    "1. computes the features required as per [03-AutoML-PyCaret-classification.ipynb](./03-AutoML-PyCaret-classification.ipynb)\n",
    "2. invoke the [`predict_model`](https://pycaret.org/predict-model/) function on the features data with the selected model\n",
    "3. load the prediction into the prediction table created earlier on (2.2.3)\n",
    "4. load transactions into the transaction table"
   ]
  },
  {
   "cell_type": "code",
   "execution_count": null,
   "id": "bf15da91-dd2e-424a-84be-ad16d84d4d75",
   "metadata": {},
   "outputs": [],
   "source": [
    "def run_prediction(_txn_df, model, debug=False):\n",
    "\n",
    "    print(\".\", end=\" \")\n",
    "    _txn_df[common_col] = _txn_df[common_col].astype(str)\n",
    "\n",
    "    # perform data transformation\n",
    "    if debug == True:\n",
    "        print(\"1 ... Generating additional features for transaction\")\n",
    "\n",
    "    features_df = data_prep.compute_features(cust_df, _txn_df, ignore_features=True)\n",
    "    features_df.reset_index(drop=True, inplace=True)\n",
    "\n",
    "    # load transaction into atoti transaction table\n",
    "    realtime_txn_df = features_df[txns_df.columns].copy()\n",
    "    realtime_txn_df[txn_non_num_col] = realtime_txn_df[txn_non_num_col].astype(str)\n",
    "\n",
    "    if debug == True:\n",
    "        print(\"2 ... Loading transactions into atoti\")\n",
    "\n",
    "    txn_tbl.load_pandas(realtime_txn_df)\n",
    "    time.sleep(1)\n",
    "\n",
    "    if debug == True:\n",
    "        print(\"2 ... Getting cumulative values from atoti cube\")\n",
    "\n",
    "    cc_list = list(set(realtime_txn_df[\"cc_num\"].tolist()))\n",
    "    trans_date = list(\n",
    "        set(realtime_txn_df[\"trans_date\"].dt.strftime(\"%Y-%m-%d\").tolist())\n",
    "    )\n",
    "\n",
    "    # we can only query after transactions have been loaded into the cube\n",
    "    cum_df = cube.query(\n",
    "        m[\"nb_txns_1_days\"],\n",
    "        m[\"nb_txns_7_days\"],\n",
    "        m[\"nb_txns_30_days\"],\n",
    "        m[\"avg_txns_amt_1_days\"],\n",
    "        m[\"avg_txns_amt_7_days\"],\n",
    "        m[\"avg_txns_amt_30_days\"],\n",
    "        levels=[l[\"cc_num\"], l[\"acct_num\"], l[\"trans_date\"]],\n",
    "        condition=((l[\"cc_num\"].isin(*cc_list)) & (l[\"trans_date\"].isin(*trans_date))),\n",
    "    )\n",
    "\n",
    "    cum_df.reset_index(inplace=True)\n",
    "    features_df = features_df.merge(cum_df)\n",
    "\n",
    "    # perform prediction\n",
    "    if debug == True:\n",
    "        print(\"4 ... Performing machine learning prediction\")\n",
    "\n",
    "    features = features_df[feature_list]\n",
    "    model_prediction = predict_model(model, data=features)\n",
    "\n",
    "    # merge prediction results back to original dataset\n",
    "    features_df = features_df.merge(model_prediction)\n",
    "\n",
    "    features_df[[\"trans_num\", \"Label\"]] = features_df[[\"trans_num\", \"Label\"]].astype(\n",
    "        str\n",
    "    )\n",
    "\n",
    "    if debug == True:\n",
    "        print(\"----- \", features_df[prediction_tbl.columns].head(3))\n",
    "        print(\".. Loading predictions into atoti\")\n",
    "\n",
    "    # load prediction into atoti prediction table\n",
    "    prediction_tbl.load_pandas(features_df[prediction_tbl.columns])"
   ]
  },
  {
   "cell_type": "markdown",
   "id": "61edb55d-8c5d-4876-9d5b-7e2111d0e5f1",
   "metadata": {
    "tags": []
   },
   "source": [
    "#### 3.5.4 Iterate dataset to simulate prediction of incoming data stream\n",
    "\n",
    "We perform fraud prediction with the _Light Gradient Boosting Machine_ model which has the best AUC.  "
   ]
  },
  {
   "cell_type": "code",
   "execution_count": null,
   "id": "78b96017-dac7-4d0e-98c5-054269df3bed",
   "metadata": {
    "tags": []
   },
   "outputs": [],
   "source": [
    "if not disable_prediction:\n",
    "\n",
    "    for chunk in new_txns_df:\n",
    "        run_prediction(chunk, saved_final_lgbm)"
   ]
  },
  {
   "cell_type": "markdown",
   "id": "44a99bc9-223c-49f6-b20d-6acfbe2d5f37",
   "metadata": {},
   "source": [
    "While PyCaret allows us to compare multiple machine learning models in one go, atoti translate the predictions and allows us to compare downstream business metrics side-by-side. The ability to compute the different KPIs on the fly reduce the turnaround time needed to discover a potential fraud. Hence, leveraging atoti, we can choose the most efficient machine learning model based on business KPI.  \n",
    "\n",
    "Have a try with other models."
   ]
  },
  {
   "cell_type": "markdown",
   "id": "182db7e2-2bba-480e-b626-7083fef5eb9f",
   "metadata": {},
   "source": [
    "<div style=\"text-align: center;\" ><a href=\"https://www.atoti.io/?utm_source=gallery&utm_content=creditcard-fraud-detection\" target=\"_blank\" rel=\"noopener noreferrer\"><img src=\"https://data.atoti.io/notebooks/banners/discover-try.png\" alt=\"Try atoti\"></a></div>"
   ]
  }
 ],
 "metadata": {
  "kernelspec": {
   "display_name": "Python 3 (ipykernel)",
   "language": "python",
   "name": "python3"
  },
  "language_info": {
   "codemirror_mode": {
    "name": "ipython",
    "version": 3
   },
   "file_extension": ".py",
   "mimetype": "text/x-python",
   "name": "python",
   "nbconvert_exporter": "python",
   "pygments_lexer": "ipython3",
   "version": "3.9.12"
  }
 },
 "nbformat": 4,
 "nbformat_minor": 5
}
