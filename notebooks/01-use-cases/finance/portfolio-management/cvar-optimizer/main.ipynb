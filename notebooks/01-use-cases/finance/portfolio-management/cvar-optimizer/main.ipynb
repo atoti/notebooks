{
 "cells": [
  {
   "cell_type": "markdown",
   "id": "792925cb-e4fc-474e-b4a3-866cd1554b48",
   "metadata": {},
   "source": [
    "# Running Portfolio Optimization in atoti\n",
    "\n",
    "In this notebook, we demonstrate how we can integrate the output from a portfolio optimizer into atoti and perform benchmark comparisons.  \n",
    "\n",
    "We assume that we have received a portfolio with the initial weights for its stocks. Along with the portfolio, we have 3 years worth of data downloaded from [Yahoo Finance](https://finance.yahoo.com/) using [yfinance library](https://pypi.org/project/yfinance/).\n",
    "\n",
    "With iPyWidget, users are able to interactively select the portfolio they want to optimize and load the resultant weights back into atoti for benchmarking purposes.\n",
    "We used the Python API [PyPortfolioOpt](https://pyportfolioopt.readthedocs.io/en/latest/index.html) to find the optimal weights for the portfolio stocks.\n",
    "\n",
    "We can interact with the notebook in two ways:\n",
    "\n",
    "<b>1. Via <img src=\"https://data.atoti.io/notebooks/banners/atoti-Logo-Icon-RGB.png\" style=\"vertical-align: middle; width: 30px\"/> - Interactively optimize portfolio within the Jupyter Notebook using atoti and <a href=\"https://ipywidgets.readthedocs.io/en/stable/\">ipywidget</a>. </b> \n",
    "\n",
    "<img src=\"https://data.atoti.io/notebooks/cvar-optimisation/img/cvar-jupyter-notebook.gif\" width=\"50%\" />  \n",
    "\n",
    "<b>2. Via <img src=\"https://data.atoti.io/notebooks/banners/Atoti_plus_RVB_Icon.png\" style=\"vertical-align: middle; width: 30px\"/> - Integrated experience of optimizing the portfolio within atoti web application using the <a href=\"https://docs.atoti.io/latest/lib/atoti-plus/atoti_plus.html#module-atoti_plus\">atoti-plus plugin</a>. </b> <br> \n",
    "\n",
    "<img src=\"https://data.atoti.io/notebooks/cvar-optimisation/img/cvar-custom-activeui.gif\" width=\"50%\" />  \n",
    "\n",
    "\n",
    "<div style=\"text-align: center;\" ><a href=\"https://www.atoti.io/?utm_source=gallery&utm_content=cvar_opt1\" target=\"_blank\" rel=\"noopener noreferrer\"><img src=\"https://data.atoti.io/notebooks/banners/discover.png\" alt=\"Try atoti\"></a></div>"
   ]
  },
  {
   "cell_type": "code",
   "execution_count": 1,
   "id": "527cd1cf-f8f9-4cc0-a7df-c3b97e59105d",
   "metadata": {},
   "outputs": [],
   "source": [
    "# ! pip install yfinance ipywidgets PyPortfolioOpts"
   ]
  },
  {
   "cell_type": "code",
   "execution_count": null,
   "id": "bbae0417-9ccb-4fd2-8dc3-e44b3ea11e12",
   "metadata": {},
   "outputs": [],
   "source": [
    "import datetime\n",
    "import datetime as dt\n",
    "import functools\n",
    "import io\n",
    "import os\n",
    "import sys\n",
    "\n",
    "import ipywidgets as widgets\n",
    "import numpy as np\n",
    "import pandas as pd\n",
    "from IPython.display import display\n",
    "from utils import helper\n",
    "from utils import pyPortfoliOpt as optimizer\n",
    "from utils import tickers\n",
    "\n",
    "import atoti as tt"
   ]
  },
  {
   "cell_type": "markdown",
   "id": "91e71539-bfd5-42df-8f0c-e37cd35840d7",
   "metadata": {},
   "source": [
    "## 0. Switching between atoti and Atoti+\n",
    "\n",
    "<img src=\"https://data.atoti.io/notebooks/banners/atoti-atoti-plus-v3.png\">  \n",
    "Switch from atoti to Atoti+ by updating the below variable to `True`. "
   ]
  },
  {
   "cell_type": "code",
   "execution_count": null,
   "id": "4735c0f7-da71-4bba-9fd9-ada111b21206",
   "metadata": {},
   "outputs": [],
   "source": [
    "atoti_plus_switch = False"
   ]
  },
  {
   "cell_type": "markdown",
   "id": "faed9cb4-697a-418a-ae4a-4bdad81bf9d6",
   "metadata": {},
   "source": [
    "By setting the above variable to `True`, we can leverage Atoti+ to use the above customized web application. Note, this requires installing the __[atoti-plus](https://docs.atoti.io/latest/lib/atoti-plus/atoti_plus.html#module-atoti_plus)__ plugin. Contact [support@atoti.io](mailto:support@atoti.io) regarding licensing if you want to try Atoti+.  \n",
    "\n",
    "Setting the above variable to `False` will continue to use atoti, no Atoti+ required.\n",
    "\n",
    "Below shows the Atoti+ configuration(s) applied in this use case."
   ]
  },
  {
   "cell_type": "code",
   "execution_count": null,
   "id": "0d3b46b2-05d2-4aed-96d4-7add4d7b3756",
   "metadata": {},
   "outputs": [],
   "source": [
    "plus_app_ext = (\n",
    "    {\n",
    "        \"optimizerwidget-extension\": \"./ui/packages/optimizerWidget/dist/\",\n",
    "        \"uploadwidget-extension\": \"./ui/packages/uploadWidget/dist/\",\n",
    "    }\n",
    "    if atoti_plus_switch\n",
    "    else {}\n",
    ")\n",
    "\n",
    "content = \"./content\" if atoti_plus_switch else \"./content-atoti\""
   ]
  },
  {
   "cell_type": "markdown",
   "id": "c1bb63de-75f8-4219-9c1c-667cf7c08135",
   "metadata": {},
   "source": [
    "## 1. Data modeling for portfolio\n",
    "\n",
    "### 1.1 Create session\n",
    "\n",
    "Let's instantiate a session with persistent storage to save our dashboards."
   ]
  },
  {
   "cell_type": "code",
   "execution_count": 5,
   "id": "8efd0f1c-f2a0-415f-a827-9fd9136537cf",
   "metadata": {},
   "outputs": [
    {
     "name": "stderr",
     "output_type": "stream",
     "text": [
      "ERROR:root:KeyboardInterrupt while sending command.\n",
      "Traceback (most recent call last):\n",
      "  File \"C:\\Users\\hfy\\AppData\\Local\\pypoetry\\Cache\\virtualenvs\\notebooks-KldeG9_w-py3.9\\lib\\site-packages\\py4j\\java_gateway.py\", line 1038, in send_command\n",
      "    response = connection.send_command(command)\n",
      "  File \"C:\\Users\\hfy\\AppData\\Local\\pypoetry\\Cache\\virtualenvs\\notebooks-KldeG9_w-py3.9\\lib\\site-packages\\py4j\\clientserver.py\", line 511, in send_command\n",
      "    answer = smart_decode(self.stream.readline()[:-1])\n",
      "  File \"C:\\Apps\\Python39\\lib\\socket.py\", line 704, in readinto\n",
      "    return self._sock.recv_into(b)\n",
      "KeyboardInterrupt\n"
     ]
    },
    {
     "ename": "KeyboardInterrupt",
     "evalue": "",
     "output_type": "error",
     "traceback": [
      "\u001b[1;31m---------------------------------------------------------------------------\u001b[0m",
      "\u001b[1;31mKeyboardInterrupt\u001b[0m                         Traceback (most recent call last)",
      "Cell \u001b[1;32mIn [5], line 1\u001b[0m\n\u001b[1;32m----> 1\u001b[0m session \u001b[38;5;241m=\u001b[39m tt\u001b[38;5;241m.\u001b[39mSession(\n\u001b[0;32m      2\u001b[0m     user_content_storage\u001b[38;5;241m=\u001b[39mcontent, port\u001b[38;5;241m=\u001b[39m\u001b[38;5;241m10010\u001b[39m, app_extensions\u001b[38;5;241m=\u001b[39mplus_app_ext\n\u001b[0;32m      3\u001b[0m )\n",
      "File \u001b[1;32m~\\AppData\\Local\\pypoetry\\Cache\\virtualenvs\\notebooks-KldeG9_w-py3.9\\lib\\site-packages\\atoti\\_runtime_type_checking_utils.py:179\u001b[0m, in \u001b[0;36m_TypecheckWrapperFactory.create_wrapper.<locals>.typechecked_func_wrapper\u001b[1;34m(*args, **kwargs)\u001b[0m\n\u001b[0;32m    176\u001b[0m typeguard\u001b[38;5;241m.\u001b[39mcheck_argument_types(memo)\n\u001b[0;32m    178\u001b[0m \u001b[38;5;66;03m# Call the actual function.\u001b[39;00m\n\u001b[1;32m--> 179\u001b[0m \u001b[38;5;28;01mreturn\u001b[39;00m \u001b[38;5;28mself\u001b[39m\u001b[38;5;241m.\u001b[39m_func(\u001b[38;5;241m*\u001b[39margs, \u001b[38;5;241m*\u001b[39m\u001b[38;5;241m*\u001b[39mkwargs)\n",
      "File \u001b[1;32m~\\AppData\\Local\\pypoetry\\Cache\\virtualenvs\\notebooks-KldeG9_w-py3.9\\lib\\site-packages\\atoti\\session.py:240\u001b[0m, in \u001b[0;36mSession.__init__\u001b[1;34m(self, name, app_extensions, authentication, branding, client_certificate, extra_jars, https, i18n, java_options, jwt, logging, port, same_site, user_content_storage, **kwargs)\u001b[0m\n\u001b[0;32m    237\u001b[0m \u001b[38;5;28;01mif\u001b[39;00m name \u001b[38;5;129;01mis\u001b[39;00m \u001b[38;5;129;01mnot\u001b[39;00m \u001b[38;5;28;01mNone\u001b[39;00m:\n\u001b[0;32m    238\u001b[0m     _sessions\u001b[38;5;241m.\u001b[39m_clear_duplicate_sessions(name)\n\u001b[1;32m--> 240\u001b[0m \u001b[38;5;28;43msuper\u001b[39;49m\u001b[43m(\u001b[49m\u001b[43m)\u001b[49m\u001b[38;5;241;43m.\u001b[39;49m\u001b[38;5;21;43m__init__\u001b[39;49m\u001b[43m(\u001b[49m\u001b[43mname\u001b[49m\u001b[38;5;241;43m=\u001b[39;49m\u001b[43mname\u001b[49m\u001b[43m,\u001b[49m\u001b[43m \u001b[49m\u001b[43mconfig\u001b[49m\u001b[38;5;241;43m=\u001b[39;49m\u001b[43mconfig\u001b[49m\u001b[43m,\u001b[49m\u001b[43m \u001b[49m\u001b[43mdistributed\u001b[49m\u001b[38;5;241;43m=\u001b[39;49m\u001b[38;5;28;43;01mFalse\u001b[39;49;00m\u001b[43m)\u001b[49m\n\u001b[0;32m    242\u001b[0m \u001b[38;5;28mself\u001b[39m\u001b[38;5;241m.\u001b[39m_warn_if_license_about_to_expire()\n\u001b[0;32m    243\u001b[0m \u001b[38;5;28mself\u001b[39m\u001b[38;5;241m.\u001b[39m_cubes \u001b[38;5;241m=\u001b[39m Cubes(\n\u001b[0;32m    244\u001b[0m     _delete_cube\u001b[38;5;241m=\u001b[39m\u001b[38;5;28mself\u001b[39m\u001b[38;5;241m.\u001b[39m_java_api\u001b[38;5;241m.\u001b[39mdelete_cube,\n\u001b[0;32m    245\u001b[0m     _get_cube\u001b[38;5;241m=\u001b[39m\u001b[38;5;28mself\u001b[39m\u001b[38;5;241m.\u001b[39m_get_cube,\n\u001b[0;32m    246\u001b[0m     _get_cubes\u001b[38;5;241m=\u001b[39m\u001b[38;5;28mself\u001b[39m\u001b[38;5;241m.\u001b[39m_get_cubes,\n\u001b[0;32m    247\u001b[0m )\n",
      "File \u001b[1;32m~\\AppData\\Local\\pypoetry\\Cache\\virtualenvs\\notebooks-KldeG9_w-py3.9\\lib\\site-packages\\atoti\\_local_session.py:97\u001b[0m, in \u001b[0;36mLocalSession.__init__\u001b[1;34m(self, config, distributed, name)\u001b[0m\n\u001b[0;32m     94\u001b[0m     plugin\u001b[38;5;241m.\u001b[39minit_session(\u001b[38;5;28mself\u001b[39m)\n\u001b[0;32m     96\u001b[0m \u001b[38;5;28;01mtry\u001b[39;00m:\n\u001b[1;32m---> 97\u001b[0m     \u001b[38;5;28;43mself\u001b[39;49m\u001b[38;5;241;43m.\u001b[39;49m\u001b[43m_start_application\u001b[49m\u001b[43m(\u001b[49m\u001b[43m)\u001b[49m\n\u001b[0;32m     98\u001b[0m \u001b[38;5;28;01mexcept\u001b[39;00m AtotiJavaException \u001b[38;5;28;01mas\u001b[39;00m ave:\n\u001b[0;32m     99\u001b[0m     \u001b[38;5;28;01mraise\u001b[39;00m AtotiException(\n\u001b[0;32m    100\u001b[0m         \u001b[38;5;124mf\u001b[39m\u001b[38;5;124m\"\u001b[39m\u001b[38;5;132;01m{\u001b[39;00mave\u001b[38;5;241m.\u001b[39mjava_traceback\u001b[38;5;132;01m}\u001b[39;00m\u001b[38;5;130;01m\\n\u001b[39;00m\u001b[38;5;124m\"\u001b[39m\n\u001b[0;32m    101\u001b[0m         \u001b[38;5;124mf\u001b[39m\u001b[38;5;124m\"\u001b[39m\u001b[38;5;124mAn error occurred while configuring the session.\u001b[39m\u001b[38;5;130;01m\\n\u001b[39;00m\u001b[38;5;124m\"\u001b[39m\n\u001b[0;32m    102\u001b[0m         \u001b[38;5;124mf\u001b[39m\u001b[38;5;124m\"\u001b[39m\u001b[38;5;124mThe logs are available at \u001b[39m\u001b[38;5;132;01m{\u001b[39;00m\u001b[38;5;28mself\u001b[39m\u001b[38;5;241m.\u001b[39mlogs_path\u001b[38;5;132;01m}\u001b[39;00m\u001b[38;5;124m\"\u001b[39m\n\u001b[0;32m    103\u001b[0m     ) \u001b[38;5;28;01mfrom\u001b[39;00m \u001b[38;5;28mNone\u001b[39m\n",
      "File \u001b[1;32m~\\AppData\\Local\\pypoetry\\Cache\\virtualenvs\\notebooks-KldeG9_w-py3.9\\lib\\site-packages\\atoti\\_local_session.py:168\u001b[0m, in \u001b[0;36mLocalSession._start_application\u001b[1;34m(self)\u001b[0m\n\u001b[0;32m    167\u001b[0m \u001b[38;5;28;01mdef\u001b[39;00m \u001b[38;5;21m_start_application\u001b[39m(\u001b[38;5;28mself\u001b[39m) \u001b[38;5;241m-\u001b[39m\u001b[38;5;241m>\u001b[39m \u001b[38;5;28;01mNone\u001b[39;00m:\n\u001b[1;32m--> 168\u001b[0m     \u001b[38;5;28;43mself\u001b[39;49m\u001b[38;5;241;43m.\u001b[39;49m\u001b[43m_java_api\u001b[49m\u001b[38;5;241;43m.\u001b[39;49m\u001b[43mstart_application\u001b[49m\u001b[43m(\u001b[49m\u001b[38;5;28;43mself\u001b[39;49m\u001b[38;5;241;43m.\u001b[39;49m\u001b[43m_config\u001b[49m\u001b[43m)\u001b[49m\n",
      "File \u001b[1;32m~\\AppData\\Local\\pypoetry\\Cache\\virtualenvs\\notebooks-KldeG9_w-py3.9\\lib\\site-packages\\atoti\\_java_api.py:153\u001b[0m, in \u001b[0;36m_enhance_py4j_errors.<locals>.wrapped_method\u001b[1;34m(self, *args, **kwargs)\u001b[0m\n\u001b[0;32m    150\u001b[0m \u001b[38;5;129m@wraps\u001b[39m(function)\n\u001b[0;32m    151\u001b[0m \u001b[38;5;28;01mdef\u001b[39;00m \u001b[38;5;21mwrapped_method\u001b[39m(\u001b[38;5;28mself\u001b[39m: JavaApi, \u001b[38;5;241m*\u001b[39margs: Any, \u001b[38;5;241m*\u001b[39m\u001b[38;5;241m*\u001b[39mkwargs: Any) \u001b[38;5;241m-\u001b[39m\u001b[38;5;241m>\u001b[39m Any:\n\u001b[0;32m    152\u001b[0m     \u001b[38;5;28;01mtry\u001b[39;00m:\n\u001b[1;32m--> 153\u001b[0m         \u001b[38;5;28;01mreturn\u001b[39;00m function(\u001b[38;5;28mself\u001b[39m, \u001b[38;5;241m*\u001b[39margs, \u001b[38;5;241m*\u001b[39m\u001b[38;5;241m*\u001b[39mkwargs)\n\u001b[0;32m    154\u001b[0m     \u001b[38;5;28;01mexcept\u001b[39;00m Py4JJavaError \u001b[38;5;28;01mas\u001b[39;00m java_exception:\n\u001b[0;32m    155\u001b[0m         cause \u001b[38;5;241m=\u001b[39m (\n\u001b[0;32m    156\u001b[0m             \u001b[38;5;28mstr\u001b[39m(java_exception)\n\u001b[0;32m    157\u001b[0m             \u001b[38;5;28;01mif\u001b[39;00m get_env_flag(_VERBOSE_JAVA_EXCEPTIONS_ENV_VAR)\n\u001b[0;32m    158\u001b[0m             \u001b[38;5;28;01melse\u001b[39;00m \u001b[38;5;28mself\u001b[39m\u001b[38;5;241m.\u001b[39mget_throwable_root_cause(java_exception\u001b[38;5;241m.\u001b[39mjava_exception)\n\u001b[0;32m    159\u001b[0m         )\n",
      "File \u001b[1;32m~\\AppData\\Local\\pypoetry\\Cache\\virtualenvs\\notebooks-KldeG9_w-py3.9\\lib\\site-packages\\atoti\\_java_api.py:364\u001b[0m, in \u001b[0;36mJavaApi.start_application\u001b[1;34m(self, config)\u001b[0m\n\u001b[0;32m    362\u001b[0m \u001b[38;5;124;03m\"\"\"Start the application.\"\"\"\u001b[39;00m\n\u001b[0;32m    363\u001b[0m json_config \u001b[38;5;241m=\u001b[39m serialize_config_to_json(config)\n\u001b[1;32m--> 364\u001b[0m \u001b[38;5;28;43mself\u001b[39;49m\u001b[38;5;241;43m.\u001b[39;49m\u001b[43mjava_session\u001b[49m\u001b[38;5;241;43m.\u001b[39;49m\u001b[43mstartServer\u001b[49m\u001b[43m(\u001b[49m\u001b[43mjson_config\u001b[49m\u001b[43m)\u001b[49m\n",
      "File \u001b[1;32m~\\AppData\\Local\\pypoetry\\Cache\\virtualenvs\\notebooks-KldeG9_w-py3.9\\lib\\site-packages\\py4j\\java_gateway.py:1321\u001b[0m, in \u001b[0;36mJavaMember.__call__\u001b[1;34m(self, *args)\u001b[0m\n\u001b[0;32m   1314\u001b[0m args_command, temp_args \u001b[38;5;241m=\u001b[39m \u001b[38;5;28mself\u001b[39m\u001b[38;5;241m.\u001b[39m_build_args(\u001b[38;5;241m*\u001b[39margs)\n\u001b[0;32m   1316\u001b[0m command \u001b[38;5;241m=\u001b[39m proto\u001b[38;5;241m.\u001b[39mCALL_COMMAND_NAME \u001b[38;5;241m+\u001b[39m\\\n\u001b[0;32m   1317\u001b[0m     \u001b[38;5;28mself\u001b[39m\u001b[38;5;241m.\u001b[39mcommand_header \u001b[38;5;241m+\u001b[39m\\\n\u001b[0;32m   1318\u001b[0m     args_command \u001b[38;5;241m+\u001b[39m\\\n\u001b[0;32m   1319\u001b[0m     proto\u001b[38;5;241m.\u001b[39mEND_COMMAND_PART\n\u001b[1;32m-> 1321\u001b[0m answer \u001b[38;5;241m=\u001b[39m \u001b[38;5;28;43mself\u001b[39;49m\u001b[38;5;241;43m.\u001b[39;49m\u001b[43mgateway_client\u001b[49m\u001b[38;5;241;43m.\u001b[39;49m\u001b[43msend_command\u001b[49m\u001b[43m(\u001b[49m\u001b[43mcommand\u001b[49m\u001b[43m)\u001b[49m\n\u001b[0;32m   1322\u001b[0m return_value \u001b[38;5;241m=\u001b[39m get_return_value(\n\u001b[0;32m   1323\u001b[0m     answer, \u001b[38;5;28mself\u001b[39m\u001b[38;5;241m.\u001b[39mgateway_client, \u001b[38;5;28mself\u001b[39m\u001b[38;5;241m.\u001b[39mtarget_id, \u001b[38;5;28mself\u001b[39m\u001b[38;5;241m.\u001b[39mname)\n\u001b[0;32m   1325\u001b[0m \u001b[38;5;28;01mfor\u001b[39;00m temp_arg \u001b[38;5;129;01min\u001b[39;00m temp_args:\n",
      "File \u001b[1;32m~\\AppData\\Local\\pypoetry\\Cache\\virtualenvs\\notebooks-KldeG9_w-py3.9\\lib\\site-packages\\py4j\\java_gateway.py:1038\u001b[0m, in \u001b[0;36mGatewayClient.send_command\u001b[1;34m(self, command, retry, binary)\u001b[0m\n\u001b[0;32m   1036\u001b[0m connection \u001b[38;5;241m=\u001b[39m \u001b[38;5;28mself\u001b[39m\u001b[38;5;241m.\u001b[39m_get_connection()\n\u001b[0;32m   1037\u001b[0m \u001b[38;5;28;01mtry\u001b[39;00m:\n\u001b[1;32m-> 1038\u001b[0m     response \u001b[38;5;241m=\u001b[39m \u001b[43mconnection\u001b[49m\u001b[38;5;241;43m.\u001b[39;49m\u001b[43msend_command\u001b[49m\u001b[43m(\u001b[49m\u001b[43mcommand\u001b[49m\u001b[43m)\u001b[49m\n\u001b[0;32m   1039\u001b[0m     \u001b[38;5;28;01mif\u001b[39;00m binary:\n\u001b[0;32m   1040\u001b[0m         \u001b[38;5;28;01mreturn\u001b[39;00m response, \u001b[38;5;28mself\u001b[39m\u001b[38;5;241m.\u001b[39m_create_connection_guard(connection)\n",
      "File \u001b[1;32m~\\AppData\\Local\\pypoetry\\Cache\\virtualenvs\\notebooks-KldeG9_w-py3.9\\lib\\site-packages\\py4j\\clientserver.py:511\u001b[0m, in \u001b[0;36mClientServerConnection.send_command\u001b[1;34m(self, command)\u001b[0m\n\u001b[0;32m    509\u001b[0m \u001b[38;5;28;01mtry\u001b[39;00m:\n\u001b[0;32m    510\u001b[0m     \u001b[38;5;28;01mwhile\u001b[39;00m \u001b[38;5;28;01mTrue\u001b[39;00m:\n\u001b[1;32m--> 511\u001b[0m         answer \u001b[38;5;241m=\u001b[39m smart_decode(\u001b[38;5;28;43mself\u001b[39;49m\u001b[38;5;241;43m.\u001b[39;49m\u001b[43mstream\u001b[49m\u001b[38;5;241;43m.\u001b[39;49m\u001b[43mreadline\u001b[49m\u001b[43m(\u001b[49m\u001b[43m)\u001b[49m[:\u001b[38;5;241m-\u001b[39m\u001b[38;5;241m1\u001b[39m])\n\u001b[0;32m    512\u001b[0m         logger\u001b[38;5;241m.\u001b[39mdebug(\u001b[38;5;124m\"\u001b[39m\u001b[38;5;124mAnswer received: \u001b[39m\u001b[38;5;132;01m{0}\u001b[39;00m\u001b[38;5;124m\"\u001b[39m\u001b[38;5;241m.\u001b[39mformat(answer))\n\u001b[0;32m    513\u001b[0m         \u001b[38;5;66;03m# Happens when a the other end is dead. There might be an empty\u001b[39;00m\n\u001b[0;32m    514\u001b[0m         \u001b[38;5;66;03m# answer before the socket raises an error.\u001b[39;00m\n",
      "File \u001b[1;32mC:\\Apps\\Python39\\lib\\socket.py:704\u001b[0m, in \u001b[0;36mSocketIO.readinto\u001b[1;34m(self, b)\u001b[0m\n\u001b[0;32m    702\u001b[0m \u001b[38;5;28;01mwhile\u001b[39;00m \u001b[38;5;28;01mTrue\u001b[39;00m:\n\u001b[0;32m    703\u001b[0m     \u001b[38;5;28;01mtry\u001b[39;00m:\n\u001b[1;32m--> 704\u001b[0m         \u001b[38;5;28;01mreturn\u001b[39;00m \u001b[38;5;28;43mself\u001b[39;49m\u001b[38;5;241;43m.\u001b[39;49m\u001b[43m_sock\u001b[49m\u001b[38;5;241;43m.\u001b[39;49m\u001b[43mrecv_into\u001b[49m\u001b[43m(\u001b[49m\u001b[43mb\u001b[49m\u001b[43m)\u001b[49m\n\u001b[0;32m    705\u001b[0m     \u001b[38;5;28;01mexcept\u001b[39;00m timeout:\n\u001b[0;32m    706\u001b[0m         \u001b[38;5;28mself\u001b[39m\u001b[38;5;241m.\u001b[39m_timeout_occurred \u001b[38;5;241m=\u001b[39m \u001b[38;5;28;01mTrue\u001b[39;00m\n",
      "\u001b[1;31mKeyboardInterrupt\u001b[0m: "
     ]
    }
   ],
   "source": [
    "session = tt.Session(\n",
    "    user_content_storage=content, port=10010, app_extensions=plus_app_ext\n",
    ")"
   ]
  },
  {
   "cell_type": "markdown",
   "id": "e31a6025-3ae5-4aca-8a85-c8af3d9cbd60",
   "metadata": {},
   "source": [
    "### 1.2 Create tables\n",
    "\n",
    "In this use case, we create the structures of our tables before loading the data.  "
   ]
  },
  {
   "cell_type": "code",
   "execution_count": null,
   "id": "eb21f9f8-8105-4a18-a3bd-92ca66186a0b",
   "metadata": {},
   "outputs": [],
   "source": [
    "portfolio_tbl = session.create_table(\n",
    "    name=\"Portfolios Allocation\",\n",
    "    types={\n",
    "        \"Portfolio\": tt.STRING,\n",
    "        \"Symbols\": tt.STRING,\n",
    "        \"Weights\": tt.DOUBLE,\n",
    "        \"Iteration\": tt.STRING,\n",
    "        \"Opt Method\": tt.STRING,\n",
    "    },\n",
    "    default_values={\"Iteration\": \"-\", \"Opt Method\": \"Base\"},\n",
    "    keys=[\"Portfolio\", \"Symbols\", \"Iteration\", \"Opt Method\"],\n",
    ")"
   ]
  },
  {
   "cell_type": "code",
   "execution_count": null,
   "id": "f77c8549-6b2d-4885-9cab-8aa798d20e7e",
   "metadata": {},
   "outputs": [],
   "source": [
    "price_tbl = session.create_table(\n",
    "    name=\"Price\",\n",
    "    types={\n",
    "        \"Symbols\": tt.STRING,\n",
    "        \"Price_Vector\": tt.DOUBLE_ARRAY,\n",
    "        \"Daily_Returns_Vector\": tt.DOUBLE_ARRAY,\n",
    "        \"Daily_ROR_Vector\": tt.DOUBLE_ARRAY,\n",
    "        \"Monthly_ROR_Vector\": tt.DOUBLE_ARRAY,\n",
    "    },\n",
    "    keys=[\"Symbols\"],\n",
    ")"
   ]
  },
  {
   "cell_type": "code",
   "execution_count": null,
   "id": "aee751be-51ca-4cfd-ae32-cd4106bd0ec0",
   "metadata": {},
   "outputs": [],
   "source": [
    "dates_tbl = session.create_table(\n",
    "    name=\"Historical Dates\",\n",
    "    types={\n",
    "        \"Historical Dates\": tt.LOCAL_DATE,\n",
    "        \"Date Index\": tt.INT,\n",
    "        \"Monthly Date Index\": tt.INT,\n",
    "    },\n",
    "    keys=[\"Historical Dates\"],\n",
    "    default_values={\"Date Index\": -1, \"Monthly Date Index\": -1},\n",
    ")"
   ]
  },
  {
   "cell_type": "markdown",
   "id": "7ba3beaa-e138-4f0e-b4e2-0d56b08bfccb",
   "metadata": {},
   "source": [
    "Alternatively, you could use functions such as [`atoti.read_csv`](https://docs.atoti.io/latest/lib/atoti/atoti.session.html#atoti.Session.read_csv) or [`atoti.read_pandas`](https://docs.atoti.io/latest/lib/atoti/atoti.session.html#atoti.Session.read_pandas) to create and load data into table from a data source.  \n",
    "For instance, we took a snapshot of the security description from wikipedia and load it into a reference table."
   ]
  },
  {
   "cell_type": "code",
   "execution_count": null,
   "id": "30f8d4c3-569f-4612-98bd-0a073a1b7423",
   "metadata": {},
   "outputs": [],
   "source": [
    "stocks_tbl = session.read_csv(\n",
    "    \"s3://data.atoti.io/notebooks/cvar-optimisation/data/constituents.csv\",\n",
    "    keys=[\"Symbols\"],\n",
    ")\n",
    "stocks_tbl.head(3)"
   ]
  },
  {
   "cell_type": "markdown",
   "id": "fccf4480-974c-4112-98e2-ba30ea426470",
   "metadata": {},
   "source": [
    "### 1.3 Join tables\n",
    "\n",
    "We enrich the data from the _Portfolios Allocation_ table by joining to some reference table.  \n",
    "atoti assume a join based on the common columns between the two table. Otherwise, we could explicitly perform the join by declaring the column mappings. Refer to [atoti documentation](https://docs.atoti.io/latest/index.html) for more examples on [join](https://docs.atoti.io/latest/getting_started/tutorial/tutorial.html#Join)."
   ]
  },
  {
   "cell_type": "code",
   "execution_count": null,
   "id": "8e5acb8c-8540-4fe3-9f45-2fa4ed843512",
   "metadata": {},
   "outputs": [],
   "source": [
    "portfolio_tbl.join(stocks_tbl)\n",
    "portfolio_tbl.join(price_tbl)\n",
    "portfolio_tbl.join(dates_tbl)"
   ]
  },
  {
   "cell_type": "markdown",
   "id": "96263e24-0699-4028-b56c-0db54909f9f9",
   "metadata": {},
   "source": [
    "### 1.4 Create cube  \n",
    "\n",
    "Below shows how we built an in-memory data cube from the base store `Portfolios Allocation` table.  \n",
    "In the [default creation mode](https://docs.atoti.io/latest/lib/atoti/atoti.session.html#atoti.Session.create_cube), atoti creates hierarchies from non-numerical and key columns, a mean and sum measure from numerical columns."
   ]
  },
  {
   "cell_type": "code",
   "execution_count": null,
   "id": "46467865-7dd4-4cfc-9cf4-f75716d9913d",
   "metadata": {},
   "outputs": [],
   "source": [
    "cube = session.create_cube(portfolio_tbl, \"Portfolio optimization\")"
   ]
  },
  {
   "cell_type": "markdown",
   "id": "3dbcd345-77b9-436a-ac0d-b741c4e2668c",
   "metadata": {},
   "source": [
    "As we are dealing with historical data in this use case, we stored the historical values as arrays in the _Price_ table.  For each element in the array, we have a corresponding date in the _Historical Dates_ table. We will use the index columns in the _Historical Dates_ to perform the mapping later on."
   ]
  },
  {
   "cell_type": "code",
   "execution_count": null,
   "id": "159fb739-1fa3-47ac-a07e-54032998460c",
   "metadata": {},
   "outputs": [],
   "source": [
    "cube.schema"
   ]
  },
  {
   "cell_type": "markdown",
   "id": "d2910af9-7fe2-4829-a5ec-30b8d55feb03",
   "metadata": {},
   "source": [
    "## 2. Data Loading\n",
    "\n",
    "Once the table is created, we can call the table's loading functions to load data for the corresponding data type.  \n",
    "In this case, we use `table.load_csv` to load csv data files into the tables."
   ]
  },
  {
   "cell_type": "code",
   "execution_count": null,
   "id": "3209b483-7f0c-4ec9-8367-2969b1494a0f",
   "metadata": {},
   "outputs": [],
   "source": [
    "portfolio_tbl.load_csv(\n",
    "    \"s3://data.atoti.io/notebooks/cvar-optimisation/data/initial_portfolio.csv\"\n",
    ")\n",
    "price_tbl.load_csv(\n",
    "    \"s3://data.atoti.io/notebooks/cvar-optimisation/data/historical_prices.csv\",\n",
    "    array_separator=\",\",\n",
    ")\n",
    "dates_tbl.load_csv(\n",
    "    \"s3://data.atoti.io/notebooks/cvar-optimisation/data/historical_price_index.csv\"\n",
    ")"
   ]
  },
  {
   "cell_type": "markdown",
   "id": "553c35d2-40da-48f0-ab72-ab695eaf1b76",
   "metadata": {},
   "source": [
    "## 3. Data exploration with atoti's JupyterLab extension  \n",
    "\n",
    "The below code snippet allow us to build visualization in JupyterLab interactively.  \n",
    "Use the atoti extension from the left menu to start exploring the atoti cube."
   ]
  },
  {
   "cell_type": "code",
   "execution_count": null,
   "id": "9693f9b5-be84-4aef-8149-6ce778e32cd6",
   "metadata": {
    "atoti": {
     "height": 409,
     "widget": {
      "mapping": {
       "columns": [
        "ALL_MEASURES"
       ],
       "measures": [
        "[Measures].[Weights.SUM]"
       ],
       "rows": [
        "[Portfolios Allocation].[Portfolio].[Portfolio]",
        "[Portfolios Allocation].[Symbols].[Symbols]"
       ]
      },
      "query": {
       "mdx": "SELECT NON EMPTY Crossjoin(Hierarchize(Descendants({[Portfolios Allocation].[Portfolio].[AllMember]}, 1, SELF_AND_BEFORE)), Hierarchize(Descendants({[Portfolios Allocation].[Symbols].[AllMember]}, 1, SELF_AND_BEFORE))) ON ROWS, NON EMPTY {[Measures].[Weights.SUM]} ON COLUMNS FROM [Portfolio optimization] CELL PROPERTIES VALUE, FORMATTED_VALUE, BACK_COLOR, FORE_COLOR, FONT_FLAGS",
       "updateMode": "once"
      },
      "serverKey": "default",
      "widgetKey": "pivot-table"
     }
    },
    "tags": []
   },
   "outputs": [],
   "source": [
    "session.visualize(\"Initial portfolio distribution\")"
   ]
  },
  {
   "cell_type": "markdown",
   "id": "1a334644-0315-4def-8587-2ccaa7de7ba6",
   "metadata": {},
   "source": [
    "## 4. Manipulate hierarchies\n",
    "\n",
    "### 4.1 Multi-level hierarchies\n",
    "We could organize our levels into multi-level hierarchies to facilitates the natural order of querying.  \n",
    "For instance, when we want to optimize a portfolio, we will want to look into the stocks under the portfolio."
   ]
  },
  {
   "cell_type": "code",
   "execution_count": null,
   "id": "5fe05e0e-1346-453b-8f7c-e5ef06144fb3",
   "metadata": {},
   "outputs": [],
   "source": [
    "h, l = cube.hierarchies, cube.levels\n",
    "h[\"Portfolios\"] = [l[\"Portfolio\"], l[\"Symbols\"]]"
   ]
  },
  {
   "cell_type": "markdown",
   "id": "b8e20505-fb78-4a7b-b5b0-d4dd23b09478",
   "metadata": {},
   "source": [
    "While this visualization looks similar to the previous one, we are able to expand the portfolio level to investigate the underlying symbols or collapse to focus on the Portfolio, simply by adding the new `Portfolios` hierarchy."
   ]
  },
  {
   "cell_type": "code",
   "execution_count": null,
   "id": "c4970502-86b5-4a3c-bb09-ebb7908246dd",
   "metadata": {
    "atoti": {
     "widget": {
      "mapping": {
       "columns": [
        "ALL_MEASURES"
       ],
       "measures": [
        "[Measures].[Weights.SUM]"
       ],
       "rows": [
        "[Portfolios Allocation].[Portfolios].[Portfolio] => [Portfolios Allocation].[Portfolios].[Symbols]"
       ]
      },
      "query": {
       "mdx": "SELECT NON EMPTY Hierarchize(Union(Descendants({[Portfolios Allocation].[Portfolios].[AllMember]}, 1, SELF_AND_BEFORE), Descendants({[Portfolios Allocation].[Portfolios].[AllMember].[P2]}, [Portfolios Allocation].[Portfolios].[Symbols]))) ON ROWS, NON EMPTY {[Measures].[Weights.SUM]} ON COLUMNS FROM [Portfolio optimization] CELL PROPERTIES VALUE, FORMATTED_VALUE, BACK_COLOR, FORE_COLOR, FONT_FLAGS",
       "updateMode": "once"
      },
      "serverKey": "default",
      "widgetKey": "pivot-table"
     }
    },
    "tags": []
   },
   "outputs": [],
   "source": [
    "session.visualize()"
   ]
  },
  {
   "cell_type": "markdown",
   "id": "85035644-3e14-4443-9d3e-98b682208967",
   "metadata": {},
   "source": [
    "Notice that there are two ways to access the below levels now:\n",
    "- Symbols: (Portfolios Allocation, __Symbols__, Symbols) and (Portfolios Allocation, __Portfolios__, Symbols)\n",
    "- Portfolio: (Portfolios Allocation, __Portfolio__, Portfolio) and (Portfolios Allocation, __Portfolios__, Portfolio)\n",
    "\n",
    "We could delete the single-levels hierarchy but it's convenient for us to query them on different axes on certain occasion. So, we will keep them and be mindful of the paths when we construct our measures."
   ]
  },
  {
   "cell_type": "code",
   "execution_count": null,
   "id": "e75b6b35-09bb-4258-b344-139f28929163",
   "metadata": {},
   "outputs": [],
   "source": [
    "h"
   ]
  },
  {
   "cell_type": "markdown",
   "id": "8e458d39-6cfe-4570-a67f-5416bc114cfa",
   "metadata": {},
   "source": [
    "### 4.2 Slicing\n",
    "\n",
    "Since we look at the performance of each optimization method separately (i.e. we do not perform aggregation across optimization methods), we can set the hierarchy to [slicing](https://docs.atoti.io/latest/lib/atoti/atoti.hierarchy.html#atoti.Hierarchy.slicing) such that we view the initial portfolio - `Base` by default."
   ]
  },
  {
   "cell_type": "code",
   "execution_count": null,
   "id": "bb86f070-6948-4ea7-84a1-634fb9f7264e",
   "metadata": {},
   "outputs": [],
   "source": [
    "h[\"Opt Method\"].slicing = True"
   ]
  },
  {
   "cell_type": "markdown",
   "id": "c874a3de-a884-454f-b0fc-cf2e3628f76f",
   "metadata": {},
   "source": [
    "## 5. Create business metrics  \n",
    "\n",
    "We are going to create some business metrics for our benchmarking purpose, namely:\n",
    "- VaR\n",
    "- CVaR\n",
    "- Sharpe Ratio\n",
    "- Error Tracking\n",
    "\n",
    "We will be working a lot with `cube.measures`, so let's alias it to make coding easier."
   ]
  },
  {
   "cell_type": "code",
   "execution_count": null,
   "id": "85045870-cdef-44cb-919e-d47cac7dda70",
   "metadata": {},
   "outputs": [],
   "source": [
    "m = cube.measures"
   ]
  },
  {
   "cell_type": "markdown",
   "id": "f1da0903-98fd-4ca4-b775-bc0531cd7e42",
   "metadata": {},
   "source": [
    "### 5.1 Working with array to compute VaR and CVaR\n",
    "\n",
    "atoti has a series of functions that enable us to [work with arrays](https://docs.atoti.io/latest/lib/atoti/atoti.array.html).  \n",
    "\n",
    "Since our _Price_ table is a reference table, we will have to create the measures for our arrays.  \n",
    "Let's use the [`atoti.agg.single_value`](https://docs.atoti.io/latest/lib/atoti/atoti.agg.single_value.html) to obtain the array for each of the symbols in the portfolio."
   ]
  },
  {
   "cell_type": "code",
   "execution_count": null,
   "id": "93baf3a3-6117-41e3-a868-acec85b284be",
   "metadata": {},
   "outputs": [],
   "source": [
    "m[\"Daily_Returns_Vector\"] = tt.agg.single_value(price_tbl[\"Daily_Returns_Vector\"])\n",
    "m[\"Daily_ROR_Vector\"] = tt.agg.single_value(price_tbl[\"Daily_ROR_Vector\"])\n",
    "m[\"Monthly_ROR_Vector\"] = tt.agg.single_value(price_tbl[\"Monthly_ROR_Vector\"])\n",
    "m[\"Price_Vector\"] = tt.agg.single_value(price_tbl[\"Price_Vector\"])"
   ]
  },
  {
   "cell_type": "code",
   "execution_count": null,
   "id": "8ef1f0bb-bc3c-43e6-9f35-09e71b74e04e",
   "metadata": {
    "atoti": {
     "height": 380,
     "widget": {
      "columnWidths": {
       "[Measures].[Daily_ROR_Vector]": 220.0999755859375,
       "[Measures].[Daily_Returns_Vector]": 329.8125,
       "[Measures].[Monthly_ROR_Vector]": 250,
       "[Measures].[Price_Vector]": 264.9000244140625,
       "[Measures].[Price_vector.VALUE]": 278.8125
      },
      "mapping": {
       "columns": [
        "ALL_MEASURES"
       ],
       "measures": [
        "[Measures].[Price_Vector]",
        "[Measures].[Daily_ROR_Vector]",
        "[Measures].[Monthly_ROR_Vector]",
        "[Measures].[Daily_Returns_Vector]"
       ],
       "rows": [
        "[Portfolios Allocation].[Symbols].[Symbols]"
       ]
      },
      "query": {
       "mdx": "SELECT NON EMPTY Hierarchize(Descendants({[Portfolios Allocation].[Symbols].[AllMember]}, 1, SELF_AND_BEFORE)) ON ROWS, NON EMPTY {[Measures].[Price_Vector], [Measures].[Daily_ROR_Vector], [Measures].[Monthly_ROR_Vector], [Measures].[Daily_Returns_Vector]} ON COLUMNS FROM [Portfolio optimization] CELL PROPERTIES VALUE, FORMATTED_VALUE, BACK_COLOR, FORE_COLOR, FONT_FLAGS",
       "updateMode": "once"
      },
      "serverKey": "default",
      "widgetKey": "pivot-table"
     }
    },
    "tags": []
   },
   "outputs": [],
   "source": [
    "session.visualize(\"Historical data by security\")"
   ]
  },
  {
   "cell_type": "markdown",
   "id": "38c57172-2822-483e-b1be-1ac391ac481d",
   "metadata": {},
   "source": [
    "#### 5.1.1 Aggregating weighted array\n",
    "\n",
    "We apply the weights of each stock on their daily returns. Note that we are aggregating from the table and _not_ the measures."
   ]
  },
  {
   "cell_type": "code",
   "execution_count": null,
   "id": "a75007bb-7f39-4a30-91b8-ad349f03a030",
   "metadata": {},
   "outputs": [],
   "source": [
    "m[\"Simulated Portfolio Returns Vector\"] = tt.agg.sum(\n",
    "    portfolio_tbl[\"Weights\"] * price_tbl[\"Daily_ROR_Vector\"]\n",
    ")"
   ]
  },
  {
   "cell_type": "markdown",
   "id": "3a1f7b0f-d8d6-4817-9274-8ff068076b69",
   "metadata": {},
   "source": [
    "By performing a summation on the vector above the _Symbols_ level, we obtained an array containing the daily returns of the portfolio."
   ]
  },
  {
   "cell_type": "code",
   "execution_count": null,
   "id": "799034e2-3d15-4abe-b5d7-96bb6b3225d6",
   "metadata": {
    "atoti": {
     "height": 431,
     "widget": {
      "columnWidths": {
       "[Measures].[Daily_ROR_Vector]": 294.734375,
       "[Measures].[Last price]": 74,
       "[Measures].[MTM Vector]": 235,
       "[Measures].[PnL Vector]": 204,
       "[Measures].[Position Vector]": 319.79998779296875,
       "[Measures].[Price_Vector]": 273,
       "[Measures].[Simulated Portfolio Returns Vector]": 360,
       "[Measures].[Simulated Price Vector]": 271,
       "[Portfolios Allocation].[Portfolios].[Iteration]": 69,
       "[Portfolios Allocation].[Portfolios].[Opt Method]": 89,
       "[Portfolios Allocation].[Portfolios].[Portfolio]": 69,
       "[Portfolios Allocation].[Portfolios].[Symbols]": 68
      },
      "filters": [],
      "mapping": {
       "columns": [
        "ALL_MEASURES"
       ],
       "measures": [
        "[Measures].[Weights.SUM]",
        "[Measures].[Daily_ROR_Vector]",
        "[Measures].[Simulated Portfolio Returns Vector]"
       ],
       "rows": [
        "[Portfolios Allocation].[Portfolios].[Portfolio] => [Portfolios Allocation].[Portfolios].[Symbols]"
       ]
      },
      "query": {
       "mdx": "SELECT NON EMPTY Hierarchize(Union(Descendants({[Portfolios Allocation].[Portfolios].[AllMember]}, 1, SELF_AND_BEFORE), Descendants({[Portfolios Allocation].[Portfolios].[AllMember].[P1]}, [Portfolios Allocation].[Portfolios].[Symbols]))) ON ROWS, NON EMPTY {[Measures].[Weights.SUM], [Measures].[Daily_ROR_Vector], [Measures].[Simulated Portfolio Returns Vector]} ON COLUMNS FROM [Portfolio optimization] CELL PROPERTIES VALUE, FORMATTED_VALUE, BACK_COLOR, FORE_COLOR, FONT_FLAGS",
       "updateMode": "once"
      },
      "serverKey": "default",
      "widgetKey": "pivot-table"
     }
    },
    "tags": []
   },
   "outputs": [],
   "source": [
    "session.visualize(\"Pricing simulation\")"
   ]
  },
  {
   "cell_type": "markdown",
   "id": "61d85911-d8a8-4f32-ba65-885c415a2e7f",
   "metadata": {},
   "source": [
    "#### 5.1.2 Computing VaR with parameter simulation"
   ]
  },
  {
   "cell_type": "markdown",
   "id": "f59a1ae7-70e7-47a1-832b-4d4c89b45b1d",
   "metadata": {},
   "source": [
    "We could create a measure for `Confidence Level` at 95% simply by:\n",
    "```\n",
    "m[\"Confidence Level\"] = 0.95\n",
    "```\n",
    "\n",
    "However, we used the function [`cube.create_parameter_simulation`](https://docs.atoti.io/latest/lib/atoti/atoti.cube.html#atoti.Cube.create_parameter_simulation) to create this measure instead."
   ]
  },
  {
   "cell_type": "code",
   "execution_count": null,
   "id": "e2de9ea8-5d0f-429a-93f0-c82c90605c50",
   "metadata": {},
   "outputs": [],
   "source": [
    "confidence_levels = cube.create_parameter_simulation(\n",
    "    \"Confidence Level\",\n",
    "    measures={\"Confidence Level\": 0.95},\n",
    "    base_scenario_name=\"95%\",\n",
    ")"
   ]
  },
  {
   "cell_type": "markdown",
   "id": "2b4a7f8b-23ab-439d-b2f6-e450d4af8415",
   "metadata": {},
   "source": [
    "This will allow us to perform simulation on other confidence levels and compare their downstream business metrics accordingly. "
   ]
  },
  {
   "cell_type": "code",
   "execution_count": null,
   "id": "cfe199e7-5f22-43ef-89da-bb859d4ba091",
   "metadata": {},
   "outputs": [],
   "source": [
    "confidence_levels += (\"90%\", 0.90)\n",
    "confidence_levels += (\"98%\", 0.98)"
   ]
  },
  {
   "cell_type": "markdown",
   "id": "ce17117d-4faa-4fce-a72b-f055dae4bb41",
   "metadata": {},
   "source": [
    "Now, we can use [`atoti.array.quantile`](https://docs.atoti.io/latest/lib/atoti/atoti.array.quantile.html) to obtain the greatest loss at 95% confidence level.  \n",
    "The below [atoti quantile function](https://docs.atoti.io/latest/lib/atoti/atoti.array.quantile.html) used the default `PERCENTILE.INC` mode with interpolation set to `lower`. Check out atoti's documentation to see how you can achieve the standard quantile calculations through different combination of modes and interpolations."
   ]
  },
  {
   "cell_type": "code",
   "execution_count": null,
   "id": "37cf6c0b-4c03-4e1f-a6a6-732f8c626038",
   "metadata": {},
   "outputs": [],
   "source": [
    "m[\"VaR\"] = tt.array.quantile(\n",
    "    m[\"Simulated Portfolio Returns Vector\"],\n",
    "    (1 - m[\"Confidence Level\"]),\n",
    "    interpolation=\"lower\",\n",
    ")\n",
    "m[\"VaR\"].formatter = \"DOUBLE[#,##0.000%]\""
   ]
  },
  {
   "cell_type": "markdown",
   "id": "064846d1-61c3-43dc-90b2-84cd61820041",
   "metadata": {},
   "source": [
    "This demonstrates how atoti easily achieve non-linear aggregation."
   ]
  },
  {
   "cell_type": "code",
   "execution_count": null,
   "id": "29f52511-716b-423a-aa44-982542d39646",
   "metadata": {
    "atoti": {
     "height": 483,
     "widget": {
      "mapping": {
       "columns": [
        "ALL_MEASURES",
        "[Confidence Level].[Confidence Level].[Confidence Level]"
       ],
       "measures": [
        "[Measures].[VaR]"
       ],
       "rows": [
        "[Portfolios Allocation].[Portfolios].[Portfolio] => [Portfolios Allocation].[Portfolios].[Symbols]"
       ]
      },
      "query": {
       "mdx": "SELECT NON EMPTY Hierarchize(Union(Descendants({[Portfolios Allocation].[Portfolios].[AllMember]}, 1, SELF_AND_BEFORE), Descendants({[Portfolios Allocation].[Portfolios].[AllMember].[P1]}, [Portfolios Allocation].[Portfolios].[Symbols]))) ON ROWS, NON EMPTY Crossjoin({[Measures].[VaR]}, [Confidence Level].[Confidence Level].[Confidence Level].Members) ON COLUMNS FROM [Portfolio optimization] CELL PROPERTIES VALUE, FORMATTED_VALUE, BACK_COLOR, FORE_COLOR, FONT_FLAGS",
       "updateMode": "once"
      },
      "serverKey": "default",
      "widgetKey": "pivot-table"
     }
    },
    "tags": []
   },
   "outputs": [],
   "source": [
    "session.visualize(\"VaR at different confidence level\")"
   ]
  },
  {
   "cell_type": "markdown",
   "id": "6a87fddd-df33-4c8c-895d-cd21264e4314",
   "metadata": {},
   "source": [
    "#### 5.1.3 Computing CVaR\n",
    "\n",
    "CVaR, also known as the expected shortfall, is the weighted average of the losses beyond the VaR cutoff point.  \n",
    "Therefore, let's get the position of the VaR in the array and compute the CVaR."
   ]
  },
  {
   "cell_type": "code",
   "execution_count": null,
   "id": "1e4b3fa9-9be1-421c-b87a-6702e639eacb",
   "metadata": {},
   "outputs": [],
   "source": [
    "m[\"Number of Tail Exposures\"] = tt.math.floor(\n",
    "    (1 - m[\"Confidence Level\"]) * tt.array.len(m[\"Simulated Portfolio Returns Vector\"])\n",
    ")\n",
    "m[\"CVaR\"] = tt.array.mean(\n",
    "    tt.array.n_lowest(\n",
    "        m[\"Simulated Portfolio Returns Vector\"], m[\"Number of Tail Exposures\"]\n",
    "    )\n",
    ")\n",
    "\n",
    "m[\"CVaR\"].formatter = \"DOUBLE[#,##0.000%]\""
   ]
  },
  {
   "cell_type": "code",
   "execution_count": null,
   "id": "ccebeb4d-e7c3-442e-9122-31fd8467651b",
   "metadata": {
    "atoti": {
     "height": 230,
     "widget": {
      "columnWidths": {
       "[Measures].[Daily Portfolio Returns]": 183
      },
      "mapping": {
       "columns": [
        "ALL_MEASURES"
       ],
       "measures": [
        "[Measures].[Number of Tail Exposures]",
        "[Measures].[VaR]",
        "[Measures].[CVaR]"
       ],
       "rows": [
        "[Portfolios Allocation].[Portfolios].[Portfolio]"
       ]
      },
      "query": {
       "mdx": "SELECT NON EMPTY {[Measures].[Number of Tail Exposures], [Measures].[VaR], [Measures].[CVaR]} ON COLUMNS, NON EMPTY Hierarchize(Descendants({[Portfolios Allocation].[Portfolios].[AllMember]}, 1, SELF_AND_BEFORE)) ON ROWS FROM [Portfolio optimization] CELL PROPERTIES VALUE, FORMATTED_VALUE, BACK_COLOR, FORE_COLOR, FONT_FLAGS",
       "updateMode": "once"
      },
      "serverKey": "default",
      "widgetKey": "pivot-table"
     }
    },
    "tags": []
   },
   "outputs": [],
   "source": [
    "session.visualize(\"VaR and CVaR computation\")"
   ]
  },
  {
   "cell_type": "code",
   "execution_count": null,
   "id": "60d5cc28-3fd3-42f8-a265-d7cc2f2da707",
   "metadata": {
    "atoti": {
     "height": 344,
     "widget": {
      "filters": [
       "[Portfolios Allocation].[Portfolio].[AllMember].[P1]"
      ],
      "mapping": {
       "columnValues": [
        "[Measures].[VaR]"
       ],
       "horizontalSubplots": [],
       "lineValues": [
        "[Measures].[CVaR]"
       ],
       "verticalSubplots": [],
       "xAxis": [
        "[Portfolios Allocation].[Symbols].[Symbols]"
       ]
      },
      "name": "VaR portfolio",
      "query": {
       "mdx": "SELECT NON EMPTY {[Measures].[VaR], [Measures].[CVaR]} ON COLUMNS, NON EMPTY Crossjoin(Hierarchize(Descendants({[Portfolios Allocation].[Symbols].[AllMember]}, 1, SELF_AND_BEFORE)), Hierarchize(Descendants({[Portfolios Allocation].[Portfolios].[AllMember]}, 2, SELF_AND_BEFORE))) ON ROWS FROM [Portfolio optimization] CELL PROPERTIES VALUE, FORMATTED_VALUE, BACK_COLOR, FORE_COLOR, FONT_FLAGS",
       "updateMode": "once"
      },
      "serverKey": "default",
      "style": {
       "areAxisTitlesVisible": true
      },
      "widgetKey": "plotly-clustered-column-and-line-chart"
     }
    },
    "tags": []
   },
   "outputs": [],
   "source": [
    "session.visualize(\"Portfolio 1 - VaR and CVaR at stock level\")"
   ]
  },
  {
   "cell_type": "markdown",
   "id": "06228e1d-5187-4889-b1d0-140364eb1709",
   "metadata": {},
   "source": [
    "#### 5.1.4 Expanding arrays\n",
    "\n",
    "To query the stocks' values at historical dates level, we need to expand the arrays.  \n",
    "We can simply use the `Date Index` and `Monthly Date Index` to return the value at the daily level or monthly level."
   ]
  },
  {
   "cell_type": "code",
   "execution_count": null,
   "id": "246c7246-f054-4063-95dd-ede92d67d7d3",
   "metadata": {},
   "outputs": [],
   "source": [
    "# creating measures for the indices\n",
    "m[\"Date Index\"] = tt.agg.single_value(dates_tbl[\"Date Index\"])\n",
    "\n",
    "mthly_idx = tt.agg.single_value(dates_tbl[\"Monthly Date Index\"])\n",
    "m[\"Monthly Date Index\"] = tt.where(mthly_idx != -1, mthly_idx)\n",
    "\n",
    "# Daily values\n",
    "m[\"Daily Price\"] = m[\"Price_Vector\"][m[\"Date Index\"]]\n",
    "m[\"Daily Price\"].formatter = \"DOUBLE[#,###.00000]\"\n",
    "\n",
    "m[\"Daily ROR\"] = m[\"Daily_ROR_Vector\"][m[\"Date Index\"]]\n",
    "m[\"Daily ROR\"].formatter = \"DOUBLE[#,##0.000%]\"\n",
    "\n",
    "# non-weighted\n",
    "m[\"Daily Returns\"] = m[\"Daily_Returns_Vector\"][m[\"Date Index\"]]\n",
    "m[\"Daily Returns\"].formatter = \"DOUBLE[#,###.00000]\"\n",
    "\n",
    "# weighted\n",
    "m[\"Daily Portfolio Returns\"] = m[\"Simulated Portfolio Returns Vector\"][m[\"Date Index\"]]\n",
    "m[\"Daily Portfolio Returns\"].formatter = \"DOUBLE[#,##0.000%]\"\n",
    "\n",
    "# monthly values\n",
    "m[\"Monthly ROR\"] = m[\"Monthly_ROR_Vector\"][m[\"Monthly Date Index\"]]\n",
    "m[\"Monthly ROR\"].formatter = \"DOUBLE[#,##0.000%]\""
   ]
  },
  {
   "cell_type": "code",
   "execution_count": null,
   "id": "d6ec89b3-72f0-48e7-ad01-8f7b97ab181a",
   "metadata": {
    "atoti": {
     "widget": {
      "columnWidths": {
       "[Historical Dates].[Historical Dates].[Historical Dates]": 126,
       "[Measures].[Daily Portfolio Returns]": 142
      },
      "filters": [
       "[Portfolios Allocation].[Symbols].[AllMember].[AAPL]"
      ],
      "mapping": {
       "columns": [
        "ALL_MEASURES"
       ],
       "measures": [
        "[Measures].[Daily Price]",
        "[Measures].[Daily ROR]",
        "[Measures].[Daily Returns]",
        "[Measures].[Monthly ROR]"
       ],
       "rows": [
        "[Historical Dates].[Historical Dates].[Historical Dates]"
       ]
      },
      "query": {
       "mdx": "SELECT NON EMPTY Hierarchize(Descendants({[Historical Dates].[Historical Dates].[AllMember]}, 1, SELF_AND_BEFORE)) ON ROWS, NON EMPTY {[Measures].[Daily Price], [Measures].[Daily ROR], [Measures].[Daily Returns], [Measures].[Monthly ROR]} ON COLUMNS FROM [Portfolio optimization] CELL PROPERTIES VALUE, FORMATTED_VALUE, BACK_COLOR, FORE_COLOR, FONT_FLAGS",
       "updateMode": "once"
      },
      "serverKey": "default",
      "widgetKey": "pivot-table"
     }
    },
    "tags": []
   },
   "outputs": [],
   "source": [
    "session.visualize(\"Daily performance for AAPL\")"
   ]
  },
  {
   "cell_type": "code",
   "execution_count": null,
   "id": "e6af17ed-92ee-4858-9f17-8e5e5e8b0b4c",
   "metadata": {
    "atoti": {
     "widget": {
      "mapping": {
       "horizontalSubplots": [],
       "secondaryValues": [],
       "splitBy": [
        "[Portfolios Allocation].[Symbols].[Symbols]",
        "ALL_MEASURES"
       ],
       "values": [
        "[Measures].[Monthly ROR]"
       ],
       "verticalSubplots": [],
       "xAxis": [
        "[Historical Dates].[Historical Dates].[Historical Dates]"
       ]
      },
      "query": {
       "mdx": "SELECT NON EMPTY Hierarchize(Descendants({[Historical Dates].[Historical Dates].[AllMember]}, 1, SELF_AND_BEFORE)) ON ROWS, NON EMPTY Crossjoin(Hierarchize(Descendants({[Portfolios Allocation].[Symbols].[AllMember]}, 1, SELF_AND_BEFORE)), {[Measures].[Monthly ROR]}) ON COLUMNS FROM [Portfolio optimization] CELL PROPERTIES VALUE, FORMATTED_VALUE, BACK_COLOR, FORE_COLOR, FONT_FLAGS",
       "updateMode": "once"
      },
      "serverKey": "default",
      "widgetKey": "plotly-line-chart"
     }
    },
    "tags": []
   },
   "outputs": [],
   "source": [
    "session.visualize(\"Monthly ROR\")"
   ]
  },
  {
   "cell_type": "markdown",
   "id": "5a088440-d094-421f-80da-28008bb92819",
   "metadata": {},
   "source": [
    "#### 5.1.5 Cumulative returns"
   ]
  },
  {
   "cell_type": "code",
   "execution_count": null,
   "id": "ad2f6d8f-2032-492c-8823-4045385f832b",
   "metadata": {},
   "outputs": [],
   "source": [
    "m[\"Since Inception ROR\"] = (\n",
    "    tt.agg.prod(\n",
    "        (m[\"Daily Portfolio Returns\"] + 1),\n",
    "        scope=tt.CumulativeScope(level=l[\"Historical Dates\"]),\n",
    "    )\n",
    "    - 1\n",
    ")\n",
    "m[\"Since Inception ROR\"].formatter = \"DOUBLE[#,##0.000%]\""
   ]
  },
  {
   "cell_type": "code",
   "execution_count": null,
   "id": "0f6e4495-2537-4da7-8d6e-9d924aa8506f",
   "metadata": {
    "atoti": {
     "widget": {
      "filters": [
       "[Portfolios Allocation].[Portfolio].[AllMember].[P1]"
      ],
      "mapping": {
       "horizontalSubplots": [],
       "secondaryValues": [],
       "splitBy": [
        "ALL_MEASURES"
       ],
       "values": [
        "[Measures].[Since Inception ROR]"
       ],
       "verticalSubplots": [],
       "xAxis": [
        "[Historical Dates].[Historical Dates].[Historical Dates]"
       ]
      },
      "query": {
       "mdx": "SELECT NON EMPTY Hierarchize(Descendants({[Historical Dates].[Historical Dates].[AllMember]}, 1, SELF_AND_BEFORE)) ON ROWS, NON EMPTY {[Measures].[Since Inception ROR]} ON COLUMNS FROM [Portfolio optimization] CELL PROPERTIES VALUE, FORMATTED_VALUE, BACK_COLOR, FORE_COLOR, FONT_FLAGS",
       "updateMode": "once"
      },
      "serverKey": "default",
      "widgetKey": "plotly-line-chart"
     }
    },
    "tags": []
   },
   "outputs": [],
   "source": [
    "session.visualize(\"Returns since inception\")"
   ]
  },
  {
   "cell_type": "markdown",
   "id": "14258a5f-4887-4f3d-aed0-e2d3135b2935",
   "metadata": {},
   "source": [
    "### 5.2 Computing Sharpe Ratio\n",
    "\n",
    "The formula for Sharpe ration is as follows: \n",
    "\n",
    "$$Sharpe\\ Ratio = {{R_{p} - R_{f}}\\over {\\sigma_{p}}}$$\n",
    "\n",
    "Where  \n",
    "$$R_{p} = Return\\ of\\ portfolio$$\n",
    "$$R_{f} = Risk-free\\ rate$$\n",
    "$${\\sigma_{p}} = Standard\\ deviation\\ of\\ the\\ portfolio's\\ excess\\ return\\ (Volatility) $$\n",
    "\n",
    "The greater a portfolio's Sharpe ratio, the better its risk-adjusted performance.  \n",
    "\n",
    "Let's start by assuming the risk-free rate is 0%."
   ]
  },
  {
   "cell_type": "code",
   "execution_count": null,
   "id": "738be99e-e4f2-4720-86c4-8fd53b5971b4",
   "metadata": {},
   "outputs": [],
   "source": [
    "# https://www.mlq.ai/python-for-finance-portfolio-optimization/\n",
    "\n",
    "m[\"Mean daily return\"] = tt.array.mean(m[\"Simulated Portfolio Returns Vector\"])\n",
    "m[\"Mean daily return\"].formatter = \"DOUBLE[#,###.00000]\"\n",
    "\n",
    "m[\"Portfolio std\"] = tt.array.std(m[\"Simulated Portfolio Returns Vector\"])\n",
    "m[\"Portfolio std\"].formatter = \"DOUBLE[#,###.00000]\"\n",
    "\n",
    "m[\"Sharpe ratio\"] = m[\"Mean daily return\"] / m[\"Portfolio std\"]\n",
    "m[\"Sharpe ratio\"].formatter = \"DOUBLE[#,##0.0000]\""
   ]
  },
  {
   "cell_type": "code",
   "execution_count": null,
   "id": "108d41f3-a055-4aea-a403-654c872950c5",
   "metadata": {
    "atoti": {
     "widget": {
      "columnWidths": {
       "[Measures].[Daily_ROR_Vector]": 374
      },
      "mapping": {
       "columns": [
        "ALL_MEASURES"
       ],
       "measures": [
        "[Measures].[Daily_ROR_Vector]",
        "[Measures].[Mean daily return]",
        "[Measures].[Portfolio std]",
        "[Measures].[Sharpe ratio]"
       ],
       "rows": [
        "[Portfolios Allocation].[Portfolio].[Portfolio]",
        "[Portfolios Allocation].[Symbols].[Symbols]"
       ]
      },
      "query": {
       "mdx": "SELECT NON EMPTY Crossjoin(Hierarchize(Descendants({[Portfolios Allocation].[Portfolio].[AllMember]}, 1, SELF_AND_BEFORE)), Hierarchize(Descendants({[Portfolios Allocation].[Symbols].[AllMember]}, 1, SELF_AND_BEFORE))) ON ROWS, NON EMPTY {[Measures].[Daily_ROR_Vector], [Measures].[Mean daily return], [Measures].[Portfolio std], [Measures].[Sharpe ratio]} ON COLUMNS FROM [Portfolio optimization] CELL PROPERTIES VALUE, FORMATTED_VALUE, BACK_COLOR, FORE_COLOR, FONT_FLAGS",
       "updateMode": "once"
      },
      "serverKey": "default",
      "widgetKey": "pivot-table"
     }
    },
    "tags": []
   },
   "outputs": [],
   "source": [
    "session.visualize()"
   ]
  },
  {
   "cell_type": "markdown",
   "id": "d43e8b3c-af5a-4c7e-89d6-ecb12a7761a2",
   "metadata": {},
   "source": [
    "Let's create some metrics for benchmarking"
   ]
  },
  {
   "cell_type": "code",
   "execution_count": null,
   "id": "98dfe8d5-735b-4256-939a-2327b778418c",
   "metadata": {},
   "outputs": [],
   "source": [
    "m[\"SR Benchmark\"] = tt.at(m[\"Sharpe ratio\"], {l[\"Opt Method\"]: \"Base\"})\n",
    "m[\"SR Opt vs Benchmark\"] = m[\"Sharpe ratio\"] - m[\"SR Benchmark\"]\n",
    "\n",
    "m[\"SR Benchmark\"].formatter = \"DOUBLE[#,##0.0000]\"\n",
    "m[\"SR Opt vs Benchmark\"].formatter = \"DOUBLE[#,##0.0000]\""
   ]
  },
  {
   "cell_type": "markdown",
   "id": "a0e3c485-3b67-45de-8da6-7b624cb36e71",
   "metadata": {},
   "source": [
    "### 5.3 Error Tracking\n",
    "\n",
    "We use the initial portfolio as the benchmark. \n",
    "\n",
    "$$Tracking\\ Error = {\\sigma(P-B)}$$\n",
    "\n",
    "Where  \n",
    "P = Daily Portfolio returns  \n",
    "B = Daily Portfolio returns of benchmark  \n",
    "\n",
    "Note: Portfolio with `Opt Method` equals to `Base` is the benchmark."
   ]
  },
  {
   "cell_type": "code",
   "execution_count": null,
   "id": "2fa270a6-c12f-42de-b21f-e9e3274da86d",
   "metadata": {},
   "outputs": [],
   "source": [
    "m[\"Benchmark\"] = tt.at(\n",
    "    m[\"Simulated Portfolio Returns Vector\"], {l[\"Opt Method\"]: \"Base\"}\n",
    ")\n",
    "m[\"PnL vs Benchmark\"] = m[\"Simulated Portfolio Returns Vector\"] - m[\"Benchmark\"]\n",
    "\n",
    "m[\"Error tracking\"] = tt.array.std(m[\"PnL vs Benchmark\"], mode=\"population\")\n",
    "\n",
    "m[\"PnL vs Benchmark\"].formatter = \"DOUBLE[#,###.00000]\"\n",
    "m[\"Benchmark\"].formatter = \"DOUBLE[#,###.00000]\"\n",
    "m[\"Error tracking\"].formatter = \"DOUBLE[#,###.00000]\""
   ]
  },
  {
   "cell_type": "markdown",
   "id": "56feb56b-f6e4-4f57-92df-de5a7c720c4f",
   "metadata": {},
   "source": [
    "There is no data returned as we have yet to perform optimization."
   ]
  },
  {
   "cell_type": "code",
   "execution_count": null,
   "id": "9294e4d1-2258-4ad9-90d5-a3925a2ea3c5",
   "metadata": {
    "atoti": {
     "widget": {
      "mapping": {
       "horizontalSubplots": [],
       "splitBy": [
        "ALL_MEASURES"
       ],
       "values": [
        "[Measures].[Error tracking]"
       ],
       "verticalSubplots": [],
       "xAxis": [
        "[Portfolios Allocation].[Portfolio].[Portfolio]",
        "[Portfolios Allocation].[Opt Method].[Opt Method]"
       ]
      },
      "query": {
       "mdx": "SELECT NON EMPTY {[Measures].[Error tracking]} ON COLUMNS, NON EMPTY Crossjoin(Hierarchize(Descendants({[Portfolios Allocation].[Portfolio].[AllMember]}, 1, SELF_AND_BEFORE)), [Portfolios Allocation].[Opt Method].[Opt Method].Members) ON ROWS FROM [Portfolio optimization] CELL PROPERTIES VALUE, FORMATTED_VALUE, BACK_COLOR, FORE_COLOR, FONT_FLAGS",
       "updateMode": "once"
      },
      "serverKey": "default",
      "style": {
       "areAxisTitlesVisible": true
      },
      "widgetKey": "plotly-clustered-column-chart"
     }
    },
    "tags": []
   },
   "outputs": [],
   "source": [
    "session.visualize()"
   ]
  },
  {
   "cell_type": "markdown",
   "id": "239d2222-b3d1-4bde-b8f7-e8d5e6d8a65d",
   "metadata": {},
   "source": [
    "## 6. Access BI Web application"
   ]
  },
  {
   "cell_type": "markdown",
   "id": "c526ace9-10a7-46fb-aac6-49ac1205be7c",
   "metadata": {},
   "source": [
    "Access the below dashboard for Portfolio analysis."
   ]
  },
  {
   "cell_type": "code",
   "execution_count": null,
   "id": "6d8a244f-5634-48fe-9d92-847f7f9a43dc",
   "metadata": {},
   "outputs": [],
   "source": [
    "session.link(path=\"/#/dashboard/21a\")"
   ]
  },
  {
   "cell_type": "markdown",
   "id": "0b5bb89a-d138-4e31-86d2-1906313c0951",
   "metadata": {},
   "source": [
    "Access the below dashboard for benchmarking comparisons."
   ]
  },
  {
   "cell_type": "code",
   "execution_count": null,
   "id": "f44803bb-2e44-4eb2-a11d-aba2c5bceb7c",
   "metadata": {},
   "outputs": [],
   "source": [
    "session.link(path=\"/#/dashboard/0c7\")"
   ]
  },
  {
   "cell_type": "markdown",
   "id": "d7b806f8-91d0-4d55-9f45-3b204faec5fa",
   "metadata": {},
   "source": [
    "## 7. Integrate portfolio optimization \n",
    "\n",
    "atoti is able to integrate with your own optimizer as shown below.  \n",
    "\n",
    "<img src=\"https://data.atoti.io/notebooks/cvar-optimisation/img/system_design3.png\" width=\"75%\" />\n",
    "\n",
    "With the community edition, we can add interactive components in JupyterLab Using iPyWidgets. This will allow a user to select a portfolio for optimization.  \n",
    "After optimization, we can upload the optimized portfolio weights back into atoti for benchmark comparison via any of the connectors.  \n",
    "\n",
    "Alternatively, with Atoti+, we could create custom widgets that allow us to interact with the endpoints, creating a seamless experience within the web application.  \n",
    "\n",
    "The optimizer we used is [PyPortfolioOpt](https://pyportfolioopt.readthedocs.io/en/latest/index.html). The optimize on different iteration with the followings:\n",
    "- Minimize the portfolio CVaR (min_cvar_weights)\n",
    "- Optimize for maximal Sharpe Ratio using the critical line algorithm (max_sharpe)\n",
    "- Optimize for minimum volatility from the initial weights (min_volatility)\n",
    "- Hierarchical risk parity ~ hierarchical clustering models (HRPOpt)"
   ]
  },
  {
   "cell_type": "code",
   "execution_count": null,
   "id": "c341c9b7-cea2-4df9-8b2a-1532f36fcaa4",
   "metadata": {},
   "outputs": [],
   "source": [
    "helper_util = helper.Helper(session)"
   ]
  },
  {
   "cell_type": "code",
   "execution_count": null,
   "id": "664a3754-dda2-44d4-9d15-a7d9c445fb91",
   "metadata": {},
   "outputs": [],
   "source": [
    "out = widgets.Output()\n",
    "\n",
    "\n",
    "@out.capture()\n",
    "def optimize_portfolio(b, _portfolio, _iteration):\n",
    "    b.disabled = True\n",
    "    _portfolio.disabled = True\n",
    "    _iteration.disabled = True\n",
    "\n",
    "    selected_port = _portfolio.value\n",
    "    iter_token = _iteration.value.split(\"|\")\n",
    "    print(\n",
    "        f\"Retrieving historical data for portfolio {selected_port} and iteration {_iteration}...\"\n",
    "    )\n",
    "\n",
    "    helper_util.query_and_optimize(selected_port, iter_token[1], iter_token[0])\n",
    "\n",
    "    button_refresh = widgets.Button(\n",
    "        description=\"Re-select portfolio\",\n",
    "        disabled=False,\n",
    "        button_style=\"info\",\n",
    "        tooltip=\"Re-select portfolio for optimization\",\n",
    "        icon=\"rotate\",\n",
    "    )\n",
    "\n",
    "    button_refresh.on_click(display_opt)\n",
    "\n",
    "    with out:\n",
    "        display(button_refresh)"
   ]
  },
  {
   "cell_type": "code",
   "execution_count": null,
   "id": "5846e762-05cc-4c78-bc62-22759417252f",
   "metadata": {},
   "outputs": [],
   "source": [
    "def on_portfolio_change(_iteration_dropdown, change):\n",
    "    opt_mtd = helper_util.get_opt_mtd(change[\"new\"])\n",
    "    _iteration_dropdown.options = opt_mtd"
   ]
  },
  {
   "cell_type": "code",
   "execution_count": null,
   "id": "a1a72a22-c334-4b61-96b1-bdf91a915ca5",
   "metadata": {},
   "outputs": [],
   "source": [
    "@out.capture()\n",
    "def on_upload_change(change):\n",
    "    input_file = list(change[\"new\"])[0]\n",
    "    content = input_file[\"content\"]\n",
    "    df = pd.read_csv(io.BytesIO(content))\n",
    "\n",
    "    tickers.get_new_tickers(df, session)"
   ]
  },
  {
   "cell_type": "code",
   "execution_count": null,
   "id": "ebf2c9ab-d330-45dc-80c7-5a7ed463a71d",
   "metadata": {},
   "outputs": [],
   "source": [
    "def display_opt(_=None):\n",
    "    out.clear_output()\n",
    "    portfolio_df = cube.query(\n",
    "        m[\"contributors.COUNT\"],\n",
    "        levels=[l[(\"Portfolios Allocation\", \"Portfolio\", \"Portfolio\")]],\n",
    "    )\n",
    "\n",
    "    portfolio_list = portfolio_df.index.to_list()\n",
    "\n",
    "    portfolio_dropdown = widgets.Dropdown(\n",
    "        options=portfolio_list,\n",
    "        description=\"Portfolio:\",\n",
    "        disabled=False,\n",
    "        style={\"description_width\": \"150px\"},\n",
    "    )\n",
    "\n",
    "    iteration_dropdown = widgets.Dropdown(\n",
    "        options=helper_util.get_opt_mtd(portfolio_dropdown.value),\n",
    "        value=\"-|Base\",\n",
    "        description=\"Weights from iteration:\",\n",
    "        disabled=False,\n",
    "        style={\"description_width\": \"150px\"},\n",
    "    )\n",
    "\n",
    "    opt_button = widgets.Button(\n",
    "        description=\"Optimize\",\n",
    "        disabled=False,\n",
    "        button_style=\"info\",\n",
    "        tooltip=\"Optimize selected portfolio\",\n",
    "        icon=\"gear\",\n",
    "    )\n",
    "\n",
    "    opt_button.on_click(\n",
    "        functools.partial(\n",
    "            optimize_portfolio,\n",
    "            _portfolio=portfolio_dropdown,\n",
    "            _iteration=iteration_dropdown,\n",
    "        )\n",
    "    )\n",
    "\n",
    "    uploader = widgets.FileUpload(\n",
    "        accept=\".csv\",\n",
    "        multiple=False,\n",
    "        tooltip=\"Upload new portfolio\",\n",
    "    )\n",
    "\n",
    "    portfolio_dropdown.observe(\n",
    "        functools.partial(on_portfolio_change, iteration_dropdown),\n",
    "        names=[\"value\"],\n",
    "    )\n",
    "\n",
    "    uploader.observe(on_upload_change, \"value\")\n",
    "\n",
    "    hr = widgets.HTML(value=\"<hr/>\")\n",
    "\n",
    "    with out:\n",
    "        display(\n",
    "            widgets.VBox([portfolio_dropdown, iteration_dropdown, opt_button]),\n",
    "            hr,\n",
    "            widgets.HBox(\n",
    "                [widgets.Label(value=\"Upload new portfolio weights\"), uploader]\n",
    "            ),\n",
    "        )"
   ]
  },
  {
   "cell_type": "code",
   "execution_count": null,
   "id": "1cc959d3-9223-410a-bd23-4165ff7e9b09",
   "metadata": {},
   "outputs": [],
   "source": [
    "display_opt()\n",
    "out"
   ]
  },
  {
   "cell_type": "markdown",
   "id": "7635efcb-8963-4bf7-9431-78a1d676e773",
   "metadata": {},
   "source": [
    "## 8. Compare against benchmark"
   ]
  },
  {
   "cell_type": "markdown",
   "id": "43612020-6e22-4404-89be-27ee9fbc832d",
   "metadata": {},
   "source": [
    "In a quick glance, we can see that the portfolio allocation by `min_cvar` is not well-spread, with all the weights allocated to TSLA.  \n",
    "We could tackle this problem in many ways. We will leave this problem to the next use case where we set constraints on the optimization to limit such problems. "
   ]
  },
  {
   "cell_type": "code",
   "execution_count": null,
   "id": "05e088f3-3580-43ab-8171-dc76d6f14d5f",
   "metadata": {
    "atoti": {
     "height": 468,
     "widget": {
      "filters": [
       "[Portfolios Allocation].[Portfolio].[AllMember].[P1]"
      ],
      "mapping": {
       "columns": [
        "ALL_MEASURES",
        "[Portfolios Allocation].[Opt Method].[Opt Method]"
       ],
       "measures": [
        "[Measures].[Weights.SUM]",
        "[Measures].[VaR]",
        "[Measures].[CVaR]"
       ],
       "rows": [
        "[Portfolios Allocation].[Portfolios].[Portfolio] => [Portfolios Allocation].[Portfolios].[Symbols]"
       ]
      },
      "name": "Comparison between portfolios",
      "query": {
       "mdx": "SELECT NON EMPTY Hierarchize(Union(Descendants({[Portfolios Allocation].[Portfolios].[AllMember]}, 1, SELF_AND_BEFORE), Descendants({[Portfolios Allocation].[Portfolios].[AllMember].[P1]}, [Portfolios Allocation].[Portfolios].[Symbols]))) ON ROWS, NON EMPTY Crossjoin({[Measures].[Weights.SUM], [Measures].[VaR], [Measures].[CVaR]}, [Portfolios Allocation].[Opt Method].[Opt Method].Members) ON COLUMNS FROM [Portfolio optimization] CELL PROPERTIES VALUE, FORMATTED_VALUE, BACK_COLOR, FORE_COLOR, FONT_FLAGS",
       "updateMode": "once"
      },
      "queryContext": [
       {
        "key": "mdx.hiddengrandtotals",
        "value": "0,1"
       }
      ],
      "serverKey": "default",
      "style": {
       "measures": {
        "VaR": {
         "conditional": [
          {
           "eq": 0,
           "style": {
            "backgroundColor": "#D9D9D9"
           }
          }
         ]
        },
        "Weights.SUM": {
         "conditional": [
          {
           "eq": 0,
           "style": {
            "backgroundColor": "#D9D9D9"
           }
          }
         ]
        }
       }
      },
      "widgetKey": "pivot-table"
     }
    },
    "tags": []
   },
   "outputs": [],
   "source": [
    "session.visualize(\n",
    "    \"Comparison between portfolio 1 and corresponding optimized portfolio\"\n",
    ")"
   ]
  },
  {
   "cell_type": "code",
   "execution_count": null,
   "id": "8ca38066-a447-4946-8df7-e6d5cdb020b6",
   "metadata": {
    "atoti": {
     "height": 549,
     "widget": {
      "filters": [
       "[Portfolios Allocation].[Portfolio].[AllMember].[P1]"
      ],
      "mapping": {
       "columnValues": [
        "[Measures].[VaR]"
       ],
       "horizontalSubplots": [],
       "lineValues": [
        "[Measures].[CVaR]"
       ],
       "verticalSubplots": [
        "[Confidence Level].[Confidence Level].[Confidence Level]"
       ],
       "xAxis": [
        "[Portfolios Allocation].[Portfolio].[Portfolio]",
        "[Portfolios Allocation].[Iteration].[Iteration]",
        "[Portfolios Allocation].[Opt Method].[Opt Method]"
       ]
      },
      "name": "VaR portfolio",
      "query": {
       "mdx": "SELECT NON EMPTY Crossjoin([Confidence Level].[Confidence Level].[Confidence Level].Members, {[Measures].[VaR], [Measures].[CVaR]}) ON COLUMNS, NON EMPTY Crossjoin(Hierarchize(Descendants({[Portfolios Allocation].[Portfolio].[AllMember]}, 1, SELF_AND_BEFORE)), Hierarchize(Descendants({[Portfolios Allocation].[Iteration].[AllMember]}, 1, SELF_AND_BEFORE)), [Portfolios Allocation].[Opt Method].[Opt Method].Members, Hierarchize(Descendants({[Portfolios Allocation].[Portfolios].[AllMember]}, 2, SELF_AND_BEFORE))) ON ROWS FROM [Portfolio optimization] CELL PROPERTIES VALUE, FORMATTED_VALUE, BACK_COLOR, FORE_COLOR, FONT_FLAGS",
       "updateMode": "once"
      },
      "serverKey": "default",
      "style": {
       "areAxisTitlesVisible": true
      },
      "widgetKey": "plotly-clustered-column-and-line-chart"
     }
    },
    "tags": []
   },
   "outputs": [],
   "source": [
    "session.visualize(\"Portfolio VaR and CVaR at different confidence interval\")"
   ]
  },
  {
   "cell_type": "markdown",
   "id": "822302c3-f8d0-49b6-a735-6e964752d7d6",
   "metadata": {},
   "source": [
    "For all confidence level, we can see the VaR and cVaR have been reduced significantly from the initial portfolio, particularly where we go for maximum Sharpe Ratio and minimum CVaR.  \n",
    "In the chart below, we can shockingly see that `min_cvar` performs really well in terms of the cumulative returns."
   ]
  },
  {
   "cell_type": "code",
   "execution_count": null,
   "id": "e2dbd437-7cf6-42a3-bba5-110d8b717630",
   "metadata": {
    "atoti": {
     "widget": {
      "filters": [
       "[Portfolios Allocation].[Portfolio].[AllMember].[P1]"
      ],
      "mapping": {
       "horizontalSubplots": [],
       "secondaryValues": [],
       "splitBy": [
        "ALL_MEASURES",
        "[Portfolios Allocation].[Opt Method].[Opt Method]"
       ],
       "values": [
        "[Measures].[Since Inception ROR]"
       ],
       "verticalSubplots": [],
       "xAxis": [
        "[Historical Dates].[Historical Dates].[Historical Dates]"
       ]
      },
      "query": {
       "mdx": "SELECT NON EMPTY Crossjoin({[Measures].[Since Inception ROR]}, [Portfolios Allocation].[Opt Method].[Opt Method].Members) ON COLUMNS, NON EMPTY Hierarchize(Descendants({[Historical Dates].[Historical Dates].[AllMember]}, 1, SELF_AND_BEFORE)) ON ROWS FROM [Portfolio optimization] CELL PROPERTIES VALUE, FORMATTED_VALUE, BACK_COLOR, FORE_COLOR, FONT_FLAGS",
       "updateMode": "once"
      },
      "serverKey": "default",
      "style": {
       "areAxisTitlesVisible": true
      },
      "widgetKey": "plotly-line-chart"
     }
    },
    "tags": []
   },
   "outputs": [],
   "source": [
    "session.visualize(\"Cumulative returns based on simulated weights\")"
   ]
  },
  {
   "cell_type": "markdown",
   "id": "f3d578c3-0b18-4bb7-8267-f5f5abcc4d22",
   "metadata": {},
   "source": [
    "However, if we exclude `min_cvar` from the query, we can see that `max_sharpe` also performs very well.  \n",
    "`min_volatility` which improves on the initial weights from the portfolio to minimize the volatility has just slightly better returns than the benchmark."
   ]
  },
  {
   "cell_type": "code",
   "execution_count": null,
   "id": "96e69d0c-f5a9-4a58-8e7a-789b892edd67",
   "metadata": {
    "atoti": {
     "widget": {
      "filters": [
       "[Portfolios Allocation].[Portfolio].[AllMember].[P1]",
       "Except([Portfolios Allocation].[Opt Method].Members, [Portfolios Allocation].[Opt Method].[min_cvar])"
      ],
      "mapping": {
       "horizontalSubplots": [],
       "secondaryValues": [],
       "splitBy": [
        "ALL_MEASURES",
        "[Portfolios Allocation].[Opt Method].[Opt Method]"
       ],
       "values": [
        "[Measures].[Since Inception ROR]"
       ],
       "verticalSubplots": [],
       "xAxis": [
        "[Historical Dates].[Historical Dates].[Historical Dates]"
       ]
      },
      "query": {
       "mdx": "SELECT NON EMPTY Crossjoin({[Measures].[Since Inception ROR]}, [Portfolios Allocation].[Opt Method].[Opt Method].Members) ON COLUMNS, NON EMPTY Hierarchize(Descendants({[Historical Dates].[Historical Dates].[AllMember]}, 1, SELF_AND_BEFORE)) ON ROWS FROM [Portfolio optimization] CELL PROPERTIES VALUE, FORMATTED_VALUE, BACK_COLOR, FORE_COLOR, FONT_FLAGS",
       "updateMode": "once"
      },
      "serverKey": "default",
      "style": {
       "areAxisTitlesVisible": true
      },
      "widgetKey": "plotly-line-chart"
     }
    },
    "tags": []
   },
   "outputs": [],
   "source": [
    "session.visualize(\"Cumulative returns based on simulated weights\")"
   ]
  },
  {
   "cell_type": "code",
   "execution_count": null,
   "id": "d6ee810e-e5a3-4c3f-8d84-cbe695c01540",
   "metadata": {
    "atoti": {
     "height": 451,
     "widget": {
      "filters": [
       "Filter([Historical Dates].[Historical Dates].[Historical Dates].Members, IsDate([Historical Dates].[Historical Dates].CurrentMember.MemberValue) AND (CDate([Historical Dates].[Historical Dates].CurrentMember.MemberValue) >= CDate(\"2022-08-01T00:00:00\") AND CDate([Historical Dates].[Historical Dates].CurrentMember.MemberValue) <= CDate(\"2022-09-16T23:59:59\")))",
       "[Portfolios Allocation].[Portfolio].[AllMember].[P1]"
      ],
      "mapping": {
       "horizontalSubplots": [],
       "secondaryValues": [],
       "splitBy": [
        "[Portfolios Allocation].[Opt Method].[Opt Method]",
        "ALL_MEASURES"
       ],
       "values": [
        "[Measures].[Daily Portfolio Returns]"
       ],
       "verticalSubplots": [],
       "xAxis": [
        "[Historical Dates].[Historical Dates].[Historical Dates]"
       ]
      },
      "query": {
       "mdx": "SELECT NON EMPTY Crossjoin([Portfolios Allocation].[Opt Method].[Opt Method].Members, {[Measures].[Daily Portfolio Returns]}) ON COLUMNS, NON EMPTY Hierarchize(Descendants({[Historical Dates].[Historical Dates].[AllMember]}, 1, SELF_AND_BEFORE)) ON ROWS FROM [Portfolio optimization] CELL PROPERTIES VALUE, FORMATTED_VALUE, BACK_COLOR, FORE_COLOR, FONT_FLAGS",
       "updateMode": "once"
      },
      "serverKey": "default",
      "style": {
       "areAxisTitlesVisible": true
      },
      "widgetKey": "plotly-line-chart"
     }
    },
    "tags": []
   },
   "outputs": [],
   "source": [
    "session.visualize(\"Portfolio 1 - Tracking error\")"
   ]
  },
  {
   "cell_type": "markdown",
   "id": "b24d57ea-0568-41c3-8100-861ac037a5bc",
   "metadata": {},
   "source": [
    "The larger the difference between the returns of the benchmark and target, the higher the tracking error.  \n",
    "Tracking error does not reflect if it's outperforming or underperforming, but generally, a high tracking error is preferred in the event that there is a certain degree of outperformance. Otherwise, a low tracking error is preferred during consistent underperformance.  \n",
    "\n",
    "We can see `min_cvar` method has higher fluctuations from the `Base` compared to the other algorithms, therefore a higher tracking error as well."
   ]
  },
  {
   "cell_type": "code",
   "execution_count": null,
   "id": "fc27fc59-fd22-4c0c-aa5e-9265c09549fc",
   "metadata": {
    "atoti": {
     "height": 153,
     "widget": {
      "filters": [
       "[Portfolios Allocation].[Portfolio].[AllMember].[P1]",
       "Except([Portfolios Allocation].[Opt Method].Members, [Portfolios Allocation].[Opt Method].[Base])"
      ],
      "mapping": {
       "columns": [
        "[Portfolios Allocation].[Opt Method].[Opt Method]"
       ],
       "measures": [
        "[Measures].[Error tracking]"
       ],
       "rows": []
      },
      "query": {
       "mdx": "SELECT NON EMPTY Crossjoin([Portfolios Allocation].[Opt Method].[Opt Method].Members, {[Measures].[Error tracking]}) ON COLUMNS FROM [Portfolio optimization] CELL PROPERTIES VALUE, FORMATTED_VALUE, BACK_COLOR, FORE_COLOR, FONT_FLAGS",
       "updateMode": "once"
      },
      "serverKey": "default",
      "widgetKey": "kpi"
     }
    },
    "tags": []
   },
   "outputs": [],
   "source": [
    "session.visualize(\"Error tracking\")"
   ]
  },
  {
   "cell_type": "markdown",
   "id": "da9129ec-7403-4900-b5b7-0ba705fcb153",
   "metadata": {},
   "source": [
    "The Sharpe ratio compares the return of an investment with its risk. Therefore, a higher Sharpe ratio is better.  \n",
    "From the below table, the portfolio weight returned by the `min_cvar` method gives the highest Sharpe ratio. But is it really the best portfolio to have?"
   ]
  },
  {
   "cell_type": "code",
   "execution_count": null,
   "id": "2345e072-d3dd-4409-81f2-a3e64c423de9",
   "metadata": {
    "atoti": {
     "height": 270,
     "widget": {
      "columnWidths": {
       "[Measures].[SR Opt vs Benchmark]": 178.734375
      },
      "filters": [
       "[Portfolios Allocation].[Portfolio].[AllMember].[P1]"
      ],
      "mapping": {
       "columns": [
        "ALL_MEASURES"
       ],
       "measures": [
        "[Measures].[Sharpe ratio]",
        "[Measures].[SR Benchmark]",
        "[Measures].[SR Opt vs Benchmark]"
       ],
       "rows": [
        "[Portfolios Allocation].[Portfolio].[Portfolio]",
        "[Portfolios Allocation].[Opt Method].[Opt Method]"
       ]
      },
      "query": {
       "mdx": "SELECT NON EMPTY Crossjoin(Hierarchize(Descendants({[Portfolios Allocation].[Portfolio].[AllMember]}, 1, SELF_AND_BEFORE)), [Portfolios Allocation].[Opt Method].[Opt Method].Members) ON ROWS, NON EMPTY {[Measures].[Sharpe ratio], [Measures].[SR Benchmark], [Measures].[SR Opt vs Benchmark]} ON COLUMNS FROM [Portfolio optimization] CELL PROPERTIES VALUE, FORMATTED_VALUE, BACK_COLOR, FORE_COLOR, FONT_FLAGS",
       "updateMode": "once"
      },
      "queryContext": [
       {
        "key": "mdx.hiddengrandtotals",
        "value": "1"
       },
       {
        "key": "mdx.hiddensubtotals",
        "value": "[Portfolios Allocation].[Portfolio].[Portfolio]"
       }
      ],
      "serverKey": "default",
      "style": {
       "measures": {
        "SR Opt vs Benchmark": {
         "conditional": [
          {
           "gt": 0,
           "style": {
            "backgroundColor": "#BAE3B1"
           }
          }
         ]
        }
       }
      },
      "widgetKey": "pivot-table"
     }
    },
    "tags": []
   },
   "outputs": [],
   "source": [
    "session.visualize(\"Benchmarking by Sharpe ratio\")"
   ]
  },
  {
   "cell_type": "markdown",
   "id": "76678aa2-b942-4cb7-a34e-da3176389bcc",
   "metadata": {},
   "source": [
    "## 9. Endpoints for Atoti+ extension"
   ]
  },
  {
   "cell_type": "markdown",
   "id": "8137fd93-e23c-4d4d-b44a-7251d7bbf416",
   "metadata": {},
   "source": [
    "Instead of adding a FastAPI or Flask server to the project, we could create [endpoints](https://docs.atoti.io/latest/lib/atoti/atoti.session.html#atoti.Session.endpoint) to re-use atoti's built-in server.  \n",
    "\n",
    "<img src=\"https://data.atoti.io/notebooks/banners/atoti-atoti-plus-v3.png\">  \n",
    "\n",
    "The below endpoints are meant for interaction between the custom UI widgets in the web application and the atoti server.  \n",
    "Remember to run the notebook with `atoti_plus_switch` set to `True`. "
   ]
  },
  {
   "cell_type": "code",
   "execution_count": null,
   "id": "6dd27759-5ae6-40c2-b662-5c247552d154",
   "metadata": {},
   "outputs": [],
   "source": [
    "@session.endpoint(\"getIteration/{portfolio}\", method=\"GET\")\n",
    "def get_iteration(request, user, session):\n",
    "\n",
    "    portfolio = request.path_parameters[\"portfolio\"]\n",
    "\n",
    "    helper_util = helper.Helper(session)\n",
    "    opt_mtd = helper_util.get_opt_mtd(portfolio)\n",
    "\n",
    "    return opt_mtd"
   ]
  },
  {
   "cell_type": "code",
   "execution_count": null,
   "id": "f5ea8878-7a63-4dc3-bf44-710e184e8c12",
   "metadata": {},
   "outputs": [],
   "source": [
    "@session.endpoint(\"optimize\", method=\"POST\")\n",
    "def trigger_optimization(request, user, session):\n",
    "    helper_util = helper.Helper(session)\n",
    "    data = request.body\n",
    "\n",
    "    selected_port = data[\"portfolio\"]\n",
    "    selected_method = data[\"method\"]\n",
    "    selected_iteration = data[\"iteration\"]\n",
    "    helper_util.query_and_optimize(selected_port, selected_method, selected_iteration)\n",
    "    return f\"hello {selected_port}, {selected_method}, {selected_iteration} \""
   ]
  },
  {
   "cell_type": "code",
   "execution_count": null,
   "id": "36e132db-a3e6-4a22-8aa9-2865ca78fa3e",
   "metadata": {},
   "outputs": [],
   "source": [
    "@session.endpoint(\"upload/portfolio\", method=\"POST\")\n",
    "def upload_portfolio(request, user, session):\n",
    "\n",
    "    helper_util = helper.Helper(session)\n",
    "    data = request.body\n",
    "    portfolio = data[\"portfolio\"]\n",
    "\n",
    "    df = pd.DataFrame(data=portfolio[1:], columns=portfolio[0])\n",
    "    df.dropna(inplace=True)\n",
    "    df[\"Weights\"] = pd.to_numeric(df[\"Weights\"])\n",
    "    tickers.get_new_tickers(df, session)\n",
    "\n",
    "    return \"Porfolio(s) uploaded successfully\""
   ]
  },
  {
   "cell_type": "markdown",
   "id": "0f67c575-3cc0-44ca-9b54-6f3eea01ba98",
   "metadata": {},
   "source": [
    "Access the web application and have fun. Note that the web application varies between atoti and Atoti+ in this use case.  \n",
    "You will only be able to access the custom widgets when `atoti_plus_switch` set to `True`. "
   ]
  },
  {
   "cell_type": "code",
   "execution_count": null,
   "id": "adbf1ef5-b29b-4d1d-bfbd-a1e060baf7b4",
   "metadata": {},
   "outputs": [],
   "source": [
    "session.link()"
   ]
  },
  {
   "cell_type": "markdown",
   "id": "40e576b0-9292-4e8a-8c8a-98a5c6ad6bc2",
   "metadata": {},
   "source": [
    "## Conclusion\n",
    "\n",
    "Personally speaking, I would go for the optimization by `max_sharpe` as we greatly reduced the VaR and cVaR. It also has one of the better Sharpe Ratio.  \n",
    "The portfolio is more balanced compared to the portfolio suggested by `min_cvar`, even though it might reap lesser returns.  \n",
    "\n",
    "We have demonstrated how we could quickly integrate multiple processes together:\n",
    "- streaming of historical data from Yahoo Finance into atoti\n",
    "- optimization of portfolio using third party optimizer (PyPortfolioOpt in this case)\n",
    "- perform benchmarking with interactive dashboards in atoti\n",
    "\n",
    "\n",
    "__Don't have Atoti+ license yet? Reach out to [ActiveViam](https://www.activeviam.com/contact-us/) for a demonstration to see how we integrate the CVaR optimization program into the BI analytics platform!  \n",
    "Stay tuned as we explore how we can add constraints to the optimization.__"
   ]
  },
  {
   "cell_type": "markdown",
   "id": "77b0c3fa-5641-4208-9c9b-4799a1e4f0e6",
   "metadata": {},
   "source": [
    "<div style=\"text-align: center;\" ><a href=\"https://www.atoti.io/?utm_source=gallery&utm_content=cvar_opt1\" target=\"_blank\" rel=\"noopener noreferrer\"><img src=\"https://data.atoti.io/notebooks/banners/discover-try.png\" alt=\"Try atoti\"></a></div>"
   ]
  }
 ],
 "metadata": {
  "kernelspec": {
   "display_name": "Python 3 (ipykernel)",
   "language": "python",
   "name": "python3"
  },
  "language_info": {
   "codemirror_mode": {
    "name": "ipython",
    "version": 3
   },
   "file_extension": ".py",
   "mimetype": "text/x-python",
   "name": "python",
   "nbconvert_exporter": "python",
   "pygments_lexer": "ipython3",
   "version": "3.9.13"
  },
  "vscode": {
   "interpreter": {
    "hash": "58cc9cd23dbb157cffad65fae2deee50ba83cbd341dd223a45c48420e15a2792"
   }
  }
 },
 "nbformat": 4,
 "nbformat_minor": 5
}
