{
 "cells": [
  {
   "cell_type": "markdown",
   "id": "3504596b-ad19-4b26-9469-ea4f9c920924",
   "metadata": {},
   "source": [
    "# Unraveling price elasticity of demand with Atoti\n",
    "\\[_In case you’re unable to see the Atoti visualizations in GitHub, try viewing the notebook in [nbviewer](https://nbviewer.org/github/atoti/notebooks/blob/main/notebooks/01-use-cases/finance/insurance/price-elasticity/main.ipynb)._]"
   ]
  },
  {
   "cell_type": "markdown",
   "id": "deca0d04-2010-42aa-b1af-e10fed7fae8d",
   "metadata": {
    "tags": []
   },
   "source": [
    "## Overview\n",
    "\n",
    "In this notebook, we will apply the concept of [price elasticity of demand](https://en.wikipedia.org/wiki/Price_elasticity_of_demand) in the domain of insurance pricing.  \n",
    "Insurance companies give their customers a quote for the premium they would charge to insure the customer's vehicle, just like most applications of price elasticity, the customer may choose one insurance provider over other based on the quoted price, amongst other factors.  \n",
    "\n",
    "Here, we are using this [dataset from Kaggle](https://www.kaggle.com/ranja7/vehicle-insurance-customer-data) which has been further augmented by adding synthetic data to it.  \n",
    "\n",
    "The dataset is the quotes data for vehicle insuarnce, with the policy sales being the target variable.  We will be building a predictive model for the quotes sales and then using Atoti and the model to identify different buckets of customers across different segments depending on their price sensitivity.  \n",
    "\n",
    "So, the notebook has three main sections:\n",
    "1. **Predictive Modelling** - We will start off with building a predictive model, and identify the feature importance to see which factors are affecting the model. \n",
    "2. **Identifying and visualising the  KPIs** - We will use the model to identify different KPIs from the data.\n",
    "3. **Price Elasticity with Atoti** - Now we wil create different what-if scenarios based on the price using Atoti and find out the impact of these on the above-mentioned KPIs.\n",
    "\n",
    "**So, let us get started with demystifying the price elasticity modeling, thanks to Atoti!**\n",
    "\n",
    "\n",
    "\n",
    "<div style=\"text-align: center;\" ><a href=\"https://www.atoti.io/?utm_source=gallery&utm_content=creditcard-fraud-detection\" target=\"_blank\" rel=\"noopener noreferrer\"><img src=\"https://data.atoti.io/notebooks/banners/Discover+Atoti+now.jpg\" alt=\"Try Atoti\"></a></div>"
   ]
  },
  {
   "cell_type": "code",
   "execution_count": 1,
   "id": "c524ca35-33f3-48e0-b020-e8e0346731ba",
   "metadata": {
    "tags": []
   },
   "outputs": [],
   "source": [
    "# Importing the necessary packages\n",
    "\n",
    "import pandas as pd\n",
    "import numpy as np\n",
    "\n",
    "from xgboost import XGBClassifier\n",
    "\n",
    "from sklearn.model_selection import train_test_split\n",
    "\n",
    "from sklearn.ensemble import RandomForestClassifier\n",
    "from sklearn.neighbors import KNeighborsClassifier\n",
    "from sklearn.svm import SVC\n",
    "from sklearn.naive_bayes import GaussianNB\n",
    "\n",
    "from sklearn.metrics import f1_score, classification_report, recall_score, roc_auc_score\n",
    "\n",
    "import statsmodels.api as sm"
   ]
  },
  {
   "cell_type": "code",
   "execution_count": 2,
   "id": "067b6ec9-ae68-45df-86d8-b4cedc1e54a7",
   "metadata": {
    "tags": []
   },
   "outputs": [],
   "source": [
    "# Importing atoti\n",
    "import atoti as tt"
   ]
  },
  {
   "cell_type": "markdown",
   "id": "c403d3ae-5bfb-40d7-bea3-11116315c8c8",
   "metadata": {
    "tags": []
   },
   "source": [
    "# Part 1: Predictive Modelling\n",
    "\n",
    "We begin with loading the training and test datasets and then we try different models to find the best results.  \n",
    "Once, we have found the best model, we shall see which features are the main rivers for the predictive ability of the selected model. "
   ]
  },
  {
   "cell_type": "markdown",
   "id": "3843a9d6-3613-48aa-ada8-1dd02a9fc3d6",
   "metadata": {},
   "source": [
    "## 1.1 Loading and preparing the data  \n",
    "### Loading and viewing the training and the test dataset"
   ]
  },
  {
   "cell_type": "code",
   "execution_count": 3,
   "id": "e7bcc93b-b289-4290-973b-b796bc6ee9d9",
   "metadata": {
    "tags": []
   },
   "outputs": [],
   "source": [
    "df = pd.read_csv(\"https://data.atoti.io/notebooks/price-elasticity/data.csv\")\n",
    "test_df = pd.read_csv(\"https://data.atoti.io/notebooks/price-elasticity/test_df.csv\")"
   ]
  },
  {
   "cell_type": "code",
   "execution_count": 4,
   "id": "780dcaf1-b54d-4147-8f0c-386c602b1767",
   "metadata": {
    "tags": []
   },
   "outputs": [
    {
     "name": "stdout",
     "output_type": "stream",
     "text": [
      "(45707, 19)\n"
     ]
    },
    {
     "data": {
      "text/html": [
       "<div>\n",
       "<style scoped>\n",
       "    .dataframe tbody tr th:only-of-type {\n",
       "        vertical-align: middle;\n",
       "    }\n",
       "\n",
       "    .dataframe tbody tr th {\n",
       "        vertical-align: top;\n",
       "    }\n",
       "\n",
       "    .dataframe thead th {\n",
       "        text-align: right;\n",
       "    }\n",
       "</style>\n",
       "<table border=\"1\" class=\"dataframe\">\n",
       "  <thead>\n",
       "    <tr style=\"text-align: right;\">\n",
       "      <th></th>\n",
       "      <th>cust_id</th>\n",
       "      <th>Sale</th>\n",
       "      <th>Driver_Age</th>\n",
       "      <th>Vehicle_Value</th>\n",
       "      <th>Price</th>\n",
       "      <th>Vehicle_Mileage</th>\n",
       "      <th>Credit_Score</th>\n",
       "      <th>Licence_Length_Years</th>\n",
       "      <th>Marital_Status</th>\n",
       "      <th>Tax</th>\n",
       "      <th>State</th>\n",
       "      <th>CLTV</th>\n",
       "      <th>Coverage_Type</th>\n",
       "      <th>Education</th>\n",
       "      <th>Employment_Status</th>\n",
       "      <th>Location_Code</th>\n",
       "      <th>Sales_Channel</th>\n",
       "      <th>Months_Policy_Inception</th>\n",
       "      <th>Policy_Type</th>\n",
       "    </tr>\n",
       "  </thead>\n",
       "  <tbody>\n",
       "    <tr>\n",
       "      <th>0</th>\n",
       "      <td>402933470644</td>\n",
       "      <td>0</td>\n",
       "      <td>67.0</td>\n",
       "      <td>2000.0</td>\n",
       "      <td>445.82</td>\n",
       "      <td>9000.0</td>\n",
       "      <td>386.17</td>\n",
       "      <td>0.79</td>\n",
       "      <td>D</td>\n",
       "      <td>NaN</td>\n",
       "      <td>Washington</td>\n",
       "      <td>2962.7</td>\n",
       "      <td>Extended</td>\n",
       "      <td>Doctor</td>\n",
       "      <td>Disabled</td>\n",
       "      <td>Rural</td>\n",
       "      <td>Agent</td>\n",
       "      <td>90</td>\n",
       "      <td>Corporate Auto</td>\n",
       "    </tr>\n",
       "    <tr>\n",
       "      <th>1</th>\n",
       "      <td>1727686457919</td>\n",
       "      <td>1</td>\n",
       "      <td>35.0</td>\n",
       "      <td>9000.0</td>\n",
       "      <td>NaN</td>\n",
       "      <td>9000.0</td>\n",
       "      <td>406.26</td>\n",
       "      <td>10.58</td>\n",
       "      <td>M</td>\n",
       "      <td>52.37</td>\n",
       "      <td>Nevada</td>\n",
       "      <td>2615.1</td>\n",
       "      <td>Basic</td>\n",
       "      <td>High School or Below</td>\n",
       "      <td>Employed</td>\n",
       "      <td>Rural</td>\n",
       "      <td>Web</td>\n",
       "      <td>92</td>\n",
       "      <td>Corporate Auto</td>\n",
       "    </tr>\n",
       "    <tr>\n",
       "      <th>2</th>\n",
       "      <td>54216290243</td>\n",
       "      <td>1</td>\n",
       "      <td>34.0</td>\n",
       "      <td>10000.0</td>\n",
       "      <td>737.83</td>\n",
       "      <td>7000.0</td>\n",
       "      <td>437.45</td>\n",
       "      <td>9.09</td>\n",
       "      <td>M</td>\n",
       "      <td>73.78</td>\n",
       "      <td>California</td>\n",
       "      <td>10629.2</td>\n",
       "      <td>Extended</td>\n",
       "      <td>Master</td>\n",
       "      <td>Medical Leave</td>\n",
       "      <td>Rural</td>\n",
       "      <td>Web</td>\n",
       "      <td>93</td>\n",
       "      <td>Special Auto</td>\n",
       "    </tr>\n",
       "    <tr>\n",
       "      <th>3</th>\n",
       "      <td>844267021428</td>\n",
       "      <td>1</td>\n",
       "      <td>34.0</td>\n",
       "      <td>10000.0</td>\n",
       "      <td>582.42</td>\n",
       "      <td>6000.0</td>\n",
       "      <td>506.71</td>\n",
       "      <td>2.78</td>\n",
       "      <td>M</td>\n",
       "      <td>58.24</td>\n",
       "      <td>Arizona</td>\n",
       "      <td>9624.9</td>\n",
       "      <td>Premium</td>\n",
       "      <td>Master</td>\n",
       "      <td>Employed</td>\n",
       "      <td>Rural</td>\n",
       "      <td>Branch</td>\n",
       "      <td>39</td>\n",
       "      <td>Special Auto</td>\n",
       "    </tr>\n",
       "    <tr>\n",
       "      <th>4</th>\n",
       "      <td>4695160115211</td>\n",
       "      <td>0</td>\n",
       "      <td>25.0</td>\n",
       "      <td>9000.0</td>\n",
       "      <td>622.56</td>\n",
       "      <td>10000.0</td>\n",
       "      <td>501.31</td>\n",
       "      <td>1.73</td>\n",
       "      <td>M</td>\n",
       "      <td>62.26</td>\n",
       "      <td>California</td>\n",
       "      <td>7781.0</td>\n",
       "      <td>Basic</td>\n",
       "      <td>Bachelor</td>\n",
       "      <td>Unemployed</td>\n",
       "      <td>Urban</td>\n",
       "      <td>Branch</td>\n",
       "      <td>52</td>\n",
       "      <td>Personal Auto</td>\n",
       "    </tr>\n",
       "  </tbody>\n",
       "</table>\n",
       "</div>"
      ],
      "text/plain": [
       "         cust_id  Sale  Driver_Age  Vehicle_Value   Price  Vehicle_Mileage  \\\n",
       "0   402933470644     0        67.0         2000.0  445.82           9000.0   \n",
       "1  1727686457919     1        35.0         9000.0     NaN           9000.0   \n",
       "2    54216290243     1        34.0        10000.0  737.83           7000.0   \n",
       "3   844267021428     1        34.0        10000.0  582.42           6000.0   \n",
       "4  4695160115211     0        25.0         9000.0  622.56          10000.0   \n",
       "\n",
       "   Credit_Score  Licence_Length_Years Marital_Status    Tax       State  \\\n",
       "0        386.17                  0.79              D    NaN  Washington   \n",
       "1        406.26                 10.58              M  52.37      Nevada   \n",
       "2        437.45                  9.09              M  73.78  California   \n",
       "3        506.71                  2.78              M  58.24     Arizona   \n",
       "4        501.31                  1.73              M  62.26  California   \n",
       "\n",
       "      CLTV Coverage_Type             Education Employment_Status  \\\n",
       "0   2962.7      Extended                Doctor          Disabled   \n",
       "1   2615.1         Basic  High School or Below          Employed   \n",
       "2  10629.2      Extended                Master     Medical Leave   \n",
       "3   9624.9       Premium                Master          Employed   \n",
       "4   7781.0         Basic              Bachelor        Unemployed   \n",
       "\n",
       "  Location_Code Sales_Channel  Months_Policy_Inception     Policy_Type  \n",
       "0         Rural         Agent                       90  Corporate Auto  \n",
       "1         Rural           Web                       92  Corporate Auto  \n",
       "2         Rural           Web                       93    Special Auto  \n",
       "3         Rural        Branch                       39    Special Auto  \n",
       "4         Urban        Branch                       52   Personal Auto  "
      ]
     },
     "execution_count": 4,
     "metadata": {},
     "output_type": "execute_result"
    }
   ],
   "source": [
    "print(df.shape)\n",
    "df.head()"
   ]
  },
  {
   "cell_type": "code",
   "execution_count": 5,
   "id": "c8eb109b-7e03-46ac-b15d-405d687a80ad",
   "metadata": {
    "tags": []
   },
   "outputs": [
    {
     "name": "stdout",
     "output_type": "stream",
     "text": [
      "(11427, 19)\n"
     ]
    },
    {
     "data": {
      "text/html": [
       "<div>\n",
       "<style scoped>\n",
       "    .dataframe tbody tr th:only-of-type {\n",
       "        vertical-align: middle;\n",
       "    }\n",
       "\n",
       "    .dataframe tbody tr th {\n",
       "        vertical-align: top;\n",
       "    }\n",
       "\n",
       "    .dataframe thead th {\n",
       "        text-align: right;\n",
       "    }\n",
       "</style>\n",
       "<table border=\"1\" class=\"dataframe\">\n",
       "  <thead>\n",
       "    <tr style=\"text-align: right;\">\n",
       "      <th></th>\n",
       "      <th>cust_id</th>\n",
       "      <th>Sale</th>\n",
       "      <th>Driver_Age</th>\n",
       "      <th>Vehicle_Value</th>\n",
       "      <th>Price</th>\n",
       "      <th>Vehicle_Mileage</th>\n",
       "      <th>Credit_Score</th>\n",
       "      <th>Licence_Length_Years</th>\n",
       "      <th>Marital_Status</th>\n",
       "      <th>Tax</th>\n",
       "      <th>State</th>\n",
       "      <th>CLTV</th>\n",
       "      <th>Coverage_Type</th>\n",
       "      <th>Education</th>\n",
       "      <th>Employment_Status</th>\n",
       "      <th>Location_Code</th>\n",
       "      <th>Sales_Channel</th>\n",
       "      <th>Months_Policy_Inception</th>\n",
       "      <th>Policy_Type</th>\n",
       "    </tr>\n",
       "  </thead>\n",
       "  <tbody>\n",
       "    <tr>\n",
       "      <th>0</th>\n",
       "      <td>9447656335642</td>\n",
       "      <td>1</td>\n",
       "      <td>NaN</td>\n",
       "      <td>8000.0</td>\n",
       "      <td>447.64</td>\n",
       "      <td>4000.0</td>\n",
       "      <td>409.44</td>\n",
       "      <td>4.00</td>\n",
       "      <td>M</td>\n",
       "      <td>44.76</td>\n",
       "      <td>Washington</td>\n",
       "      <td>7319.6</td>\n",
       "      <td>Premium</td>\n",
       "      <td>High School or Below</td>\n",
       "      <td>Unemployed</td>\n",
       "      <td>Urban</td>\n",
       "      <td>Agent</td>\n",
       "      <td>87</td>\n",
       "      <td>Special Auto</td>\n",
       "    </tr>\n",
       "    <tr>\n",
       "      <th>1</th>\n",
       "      <td>1123349069299</td>\n",
       "      <td>0</td>\n",
       "      <td>37.0</td>\n",
       "      <td>6000.0</td>\n",
       "      <td>252.39</td>\n",
       "      <td>5000.0</td>\n",
       "      <td>359.11</td>\n",
       "      <td>4.42</td>\n",
       "      <td>M</td>\n",
       "      <td>25.24</td>\n",
       "      <td>California</td>\n",
       "      <td>9890.2</td>\n",
       "      <td>Extended</td>\n",
       "      <td>Bachelor</td>\n",
       "      <td>Employed</td>\n",
       "      <td>Rural</td>\n",
       "      <td>Agent</td>\n",
       "      <td>12</td>\n",
       "      <td>Personal Auto</td>\n",
       "    </tr>\n",
       "    <tr>\n",
       "      <th>2</th>\n",
       "      <td>4467098784674</td>\n",
       "      <td>1</td>\n",
       "      <td>27.0</td>\n",
       "      <td>10000.0</td>\n",
       "      <td>477.80</td>\n",
       "      <td>6000.0</td>\n",
       "      <td>401.06</td>\n",
       "      <td>0.68</td>\n",
       "      <td>S</td>\n",
       "      <td>47.78</td>\n",
       "      <td>Arizona</td>\n",
       "      <td>6297.0</td>\n",
       "      <td>Premium</td>\n",
       "      <td>Master</td>\n",
       "      <td>Disabled</td>\n",
       "      <td>Urban</td>\n",
       "      <td>Branch</td>\n",
       "      <td>65</td>\n",
       "      <td>Corporate Auto</td>\n",
       "    </tr>\n",
       "    <tr>\n",
       "      <th>3</th>\n",
       "      <td>869569892903</td>\n",
       "      <td>0</td>\n",
       "      <td>27.0</td>\n",
       "      <td>10000.0</td>\n",
       "      <td>340.29</td>\n",
       "      <td>6000.0</td>\n",
       "      <td>304.35</td>\n",
       "      <td>7.19</td>\n",
       "      <td>M</td>\n",
       "      <td>34.03</td>\n",
       "      <td>Washington</td>\n",
       "      <td>8709.8</td>\n",
       "      <td>Premium</td>\n",
       "      <td>Bachelor</td>\n",
       "      <td>Employed</td>\n",
       "      <td>Rural</td>\n",
       "      <td>Call Center</td>\n",
       "      <td>47</td>\n",
       "      <td>Corporate Auto</td>\n",
       "    </tr>\n",
       "    <tr>\n",
       "      <th>4</th>\n",
       "      <td>2237607703548</td>\n",
       "      <td>1</td>\n",
       "      <td>18.0</td>\n",
       "      <td>8000.0</td>\n",
       "      <td>645.61</td>\n",
       "      <td>7000.0</td>\n",
       "      <td>345.25</td>\n",
       "      <td>0.43</td>\n",
       "      <td>M</td>\n",
       "      <td>64.56</td>\n",
       "      <td>Oregon</td>\n",
       "      <td>16675.9</td>\n",
       "      <td>Extended</td>\n",
       "      <td>Bachelor</td>\n",
       "      <td>Medical Leave</td>\n",
       "      <td>Urban</td>\n",
       "      <td>Web</td>\n",
       "      <td>89</td>\n",
       "      <td>Personal Auto</td>\n",
       "    </tr>\n",
       "  </tbody>\n",
       "</table>\n",
       "</div>"
      ],
      "text/plain": [
       "         cust_id  Sale  Driver_Age  Vehicle_Value   Price  Vehicle_Mileage  \\\n",
       "0  9447656335642     1         NaN         8000.0  447.64           4000.0   \n",
       "1  1123349069299     0        37.0         6000.0  252.39           5000.0   \n",
       "2  4467098784674     1        27.0        10000.0  477.80           6000.0   \n",
       "3   869569892903     0        27.0        10000.0  340.29           6000.0   \n",
       "4  2237607703548     1        18.0         8000.0  645.61           7000.0   \n",
       "\n",
       "   Credit_Score  Licence_Length_Years Marital_Status    Tax       State  \\\n",
       "0        409.44                  4.00              M  44.76  Washington   \n",
       "1        359.11                  4.42              M  25.24  California   \n",
       "2        401.06                  0.68              S  47.78     Arizona   \n",
       "3        304.35                  7.19              M  34.03  Washington   \n",
       "4        345.25                  0.43              M  64.56      Oregon   \n",
       "\n",
       "      CLTV Coverage_Type             Education Employment_Status  \\\n",
       "0   7319.6       Premium  High School or Below        Unemployed   \n",
       "1   9890.2      Extended              Bachelor          Employed   \n",
       "2   6297.0       Premium                Master          Disabled   \n",
       "3   8709.8       Premium              Bachelor          Employed   \n",
       "4  16675.9      Extended              Bachelor     Medical Leave   \n",
       "\n",
       "  Location_Code Sales_Channel  Months_Policy_Inception     Policy_Type  \n",
       "0         Urban         Agent                       87    Special Auto  \n",
       "1         Rural         Agent                       12   Personal Auto  \n",
       "2         Urban        Branch                       65  Corporate Auto  \n",
       "3         Rural   Call Center                       47  Corporate Auto  \n",
       "4         Urban           Web                       89   Personal Auto  "
      ]
     },
     "execution_count": 5,
     "metadata": {},
     "output_type": "execute_result"
    }
   ],
   "source": [
    "print(test_df.shape)\n",
    "test_df.head()"
   ]
  },
  {
   "cell_type": "markdown",
   "id": "5b3f54ec-6ab7-44b1-8588-3b5b2a14360c",
   "metadata": {},
   "source": [
    "### Splitting the training data into train and validation dataset  \n",
    "Now for building the machine learning model, we need to split the training data into training and validation datasets.  \n"
   ]
  },
  {
   "cell_type": "code",
   "execution_count": 6,
   "id": "a7915f82-6f68-44b9-a11d-7a25dec444d3",
   "metadata": {
    "tags": []
   },
   "outputs": [],
   "source": [
    "train_df, val_df = train_test_split(df, test_size=0.1, random_state=36)"
   ]
  },
  {
   "cell_type": "code",
   "execution_count": 7,
   "id": "5042e31d-b6bc-4c66-96ff-1d93c2bd50f1",
   "metadata": {
    "tags": []
   },
   "outputs": [],
   "source": [
    "# dropping rows with NA\n",
    "train_df = train_df.dropna()\n",
    "val_df = val_df.dropna()\n",
    "test_df = test_df.dropna()"
   ]
  },
  {
   "cell_type": "markdown",
   "id": "7df16005-3b08-4aec-be69-9b390b085884",
   "metadata": {},
   "source": [
    "## 1.2 Feature Engineering\n",
    "We split the labels from the features for all the dataset.  \n",
    "And then, we perform one-hot encoding for all the categorical variables."
   ]
  },
  {
   "cell_type": "code",
   "execution_count": 8,
   "id": "116ec74c-3eeb-49dd-b91d-5687b2cb60f4",
   "metadata": {
    "tags": []
   },
   "outputs": [],
   "source": [
    "# split data into the features (X) and labels (y)\n",
    "\n",
    "# Training data\n",
    "X_train = train_df.iloc[:, 2:]\n",
    "Y_train = train_df.iloc[:, 1]\n",
    "\n",
    "# Validation data\n",
    "X_val = val_df.iloc[:, 2:]\n",
    "Y_val = val_df.iloc[:, 1]\n",
    "\n",
    "# Test data\n",
    "X_test = test_df.iloc[:, 2:]\n",
    "Y_test = test_df.iloc[:, 1]"
   ]
  },
  {
   "cell_type": "code",
   "execution_count": 9,
   "id": "59f85f2e-bf1b-4ead-83c6-d09b2a96ffb8",
   "metadata": {
    "tags": []
   },
   "outputs": [],
   "source": [
    "# One hot encoding for categorical variables\n",
    "def OH_df(X):\n",
    "    one_hot = pd.get_dummies(X[\"Marital_Status\"])\n",
    "    X = X.drop(\"Marital_Status\", axis=1)\n",
    "    X = X.join(one_hot)\n",
    "\n",
    "    one_hot = pd.get_dummies(X[\"State\"])\n",
    "    X = X.drop(\"State\", axis=1)\n",
    "    X = X.join(one_hot)\n",
    "\n",
    "    one_hot = pd.get_dummies(X[\"Coverage_Type\"])\n",
    "    X = X.drop(\"Coverage_Type\", axis=1)\n",
    "    X = X.join(one_hot)\n",
    "\n",
    "    one_hot = pd.get_dummies(X[\"Education\"])\n",
    "    X = X.drop(\"Education\", axis=1)\n",
    "    X = X.join(one_hot)\n",
    "\n",
    "    one_hot = pd.get_dummies(X[\"Employment_Status\"])\n",
    "    X = X.drop(\"Employment_Status\", axis=1)\n",
    "    X = X.join(one_hot)\n",
    "\n",
    "    one_hot = pd.get_dummies(X[\"Location_Code\"])\n",
    "    X = X.drop(\"Location_Code\", axis=1)\n",
    "    X = X.join(one_hot)\n",
    "\n",
    "    one_hot = pd.get_dummies(X[\"Sales_Channel\"])\n",
    "    X = X.drop(\"Sales_Channel\", axis=1)\n",
    "    X = X.join(one_hot)\n",
    "\n",
    "    one_hot = pd.get_dummies(X[\"Policy_Type\"])\n",
    "    X = X.drop(\"Policy_Type\", axis=1)\n",
    "    X = X.join(one_hot)\n",
    "    return X"
   ]
  },
  {
   "cell_type": "code",
   "execution_count": 10,
   "id": "248d61d3-6780-4542-9a09-649bf0f4f3a9",
   "metadata": {
    "tags": []
   },
   "outputs": [],
   "source": [
    "X_train = OH_df(X_train)\n",
    "X_val = OH_df(X_val)\n",
    "X_test = OH_df(X_test)"
   ]
  },
  {
   "cell_type": "markdown",
   "id": "3f87f049-7e7a-4dca-b442-00b399f0d28e",
   "metadata": {},
   "source": [
    "## 1.3 Time to do some predictive modelling!\n",
    "Here we will be testing the below models for the predictions:  \n",
    "1. Random forest classifier\n",
    "2. KNeighbors Classifier\n",
    "3. Gaussian Naive Bayes Classifier\n",
    "4. Support Vector Machine based Classifier\n",
    "5. XG Boost Classifier"
   ]
  },
  {
   "cell_type": "code",
   "execution_count": 11,
   "id": "2a30a3f6-2824-485f-8dbe-bad6d3235e8c",
   "metadata": {
    "tags": []
   },
   "outputs": [],
   "source": [
    "rf = RandomForestClassifier(n_jobs=-1)\n",
    "knn = KNeighborsClassifier(n_jobs=-1)\n",
    "nb = GaussianNB()\n",
    "svm = SVC()\n",
    "xgbc = XGBClassifier()"
   ]
  },
  {
   "cell_type": "code",
   "execution_count": 12,
   "id": "30e241ab-a094-445c-96a4-7d2ae445e574",
   "metadata": {
    "tags": []
   },
   "outputs": [],
   "source": [
    "model_list = [rf, knn, nb, svm, xgbc]"
   ]
  },
  {
   "cell_type": "code",
   "execution_count": 13,
   "id": "27ba1b95-6058-4f97-b630-f700e8bb5e29",
   "metadata": {
    "tags": []
   },
   "outputs": [],
   "source": [
    "# Training the models on the training dataset\n",
    "models = []\n",
    "f1 = []\n",
    "roc_auc = []\n",
    "recall = []\n",
    "\n",
    "for estimator in model_list:\n",
    "    estimator.fit(X_train, Y_train.values.ravel())\n",
    "    result = estimator.predict(X_val)\n",
    "\n",
    "    models.append(estimator)\n",
    "    f1.append(f1_score(Y_val, result))\n",
    "    recall.append(recall_score(Y_val, result))\n",
    "    roc_auc.append(roc_auc_score(Y_val, result))"
   ]
  },
  {
   "cell_type": "code",
   "execution_count": 14,
   "id": "25ef2b61-0999-4ee7-bcd0-856117260596",
   "metadata": {
    "tags": []
   },
   "outputs": [
    {
     "data": {
      "text/html": [
       "<div>\n",
       "<style scoped>\n",
       "    .dataframe tbody tr th:only-of-type {\n",
       "        vertical-align: middle;\n",
       "    }\n",
       "\n",
       "    .dataframe tbody tr th {\n",
       "        vertical-align: top;\n",
       "    }\n",
       "\n",
       "    .dataframe thead th {\n",
       "        text-align: right;\n",
       "    }\n",
       "</style>\n",
       "<table border=\"1\" class=\"dataframe\">\n",
       "  <thead>\n",
       "    <tr style=\"text-align: right;\">\n",
       "      <th></th>\n",
       "      <th>model_name</th>\n",
       "      <th>f1_score</th>\n",
       "      <th>roc_auc_score</th>\n",
       "      <th>recall</th>\n",
       "    </tr>\n",
       "  </thead>\n",
       "  <tbody>\n",
       "    <tr>\n",
       "      <th>0</th>\n",
       "      <td>(DecisionTreeClassifier(max_features='sqrt', r...</td>\n",
       "      <td>0.930902</td>\n",
       "      <td>0.870987</td>\n",
       "      <td>0.947266</td>\n",
       "    </tr>\n",
       "    <tr>\n",
       "      <th>1</th>\n",
       "      <td>KNeighborsClassifier(n_jobs=-1)</td>\n",
       "      <td>0.860897</td>\n",
       "      <td>0.731611</td>\n",
       "      <td>0.895703</td>\n",
       "    </tr>\n",
       "    <tr>\n",
       "      <th>2</th>\n",
       "      <td>GaussianNB()</td>\n",
       "      <td>0.907729</td>\n",
       "      <td>0.853806</td>\n",
       "      <td>0.899219</td>\n",
       "    </tr>\n",
       "    <tr>\n",
       "      <th>3</th>\n",
       "      <td>SVC()</td>\n",
       "      <td>0.893333</td>\n",
       "      <td>0.751059</td>\n",
       "      <td>0.968359</td>\n",
       "    </tr>\n",
       "    <tr>\n",
       "      <th>4</th>\n",
       "      <td>XGBClassifier(base_score=None, booster=None, c...</td>\n",
       "      <td>0.936097</td>\n",
       "      <td>0.879652</td>\n",
       "      <td>0.952734</td>\n",
       "    </tr>\n",
       "  </tbody>\n",
       "</table>\n",
       "</div>"
      ],
      "text/plain": [
       "                                          model_name  f1_score  roc_auc_score  \\\n",
       "0  (DecisionTreeClassifier(max_features='sqrt', r...  0.930902       0.870987   \n",
       "1                    KNeighborsClassifier(n_jobs=-1)  0.860897       0.731611   \n",
       "2                                       GaussianNB()  0.907729       0.853806   \n",
       "3                                              SVC()  0.893333       0.751059   \n",
       "4  XGBClassifier(base_score=None, booster=None, c...  0.936097       0.879652   \n",
       "\n",
       "     recall  \n",
       "0  0.947266  \n",
       "1  0.895703  \n",
       "2  0.899219  \n",
       "3  0.968359  \n",
       "4  0.952734  "
      ]
     },
     "execution_count": 14,
     "metadata": {},
     "output_type": "execute_result"
    }
   ],
   "source": [
    "# Compiling the results from all the models on the validation dataset\n",
    "\n",
    "df_results = pd.DataFrame(\n",
    "    {\"model_name\": models, \"f1_score\": f1, \"roc_auc_score\": roc_auc, \"recall\": recall}\n",
    ")\n",
    "df_results.head(10)"
   ]
  },
  {
   "cell_type": "markdown",
   "id": "8f56c6ff-8a9e-4ddb-8277-31ffd25dedd0",
   "metadata": {},
   "source": [
    "**Hence for this dataset, the best model is XGBClassifier with an F1 of 0.934 and recall of 0.948 on the validation dataset.**"
   ]
  },
  {
   "cell_type": "markdown",
   "id": "ed7e636b-45fe-46ff-944e-3819e70f76dc",
   "metadata": {},
   "source": [
    "### 1.4 Find the importance of the various features in the model.\n",
    "Here the hypothesis is, amongst other factors, price should be a very critical factor in deciding whether a customer buys a quote or not.  \n"
   ]
  },
  {
   "cell_type": "code",
   "execution_count": 15,
   "id": "8549748e-c8f0-4052-875a-3c34e5bffd2a",
   "metadata": {
    "tags": []
   },
   "outputs": [
    {
     "name": "stdout",
     "output_type": "stream",
     "text": [
      "['Price', 0.2092432]\n",
      "['Driver_Age', 0.065327965]\n",
      "['Employed', 0.06118999]\n",
      "['Personal Auto', 0.056500454]\n",
      "['Suburban', 0.04785541]\n",
      "['Special Auto', 0.045516685]\n",
      "['Premium', 0.03669324]\n",
      "['Unemployed', 0.03429353]\n",
      "['Basic', 0.033415027]\n",
      "['Master', 0.032274768]\n"
     ]
    }
   ],
   "source": [
    "# Finding feature importance from the model\n",
    "\n",
    "sorted_idx = np.argsort(xgbc.feature_importances_)[::-1]\n",
    "\n",
    "# Finding the top 10 features contributing to the results\n",
    "for index in sorted_idx[:10]:\n",
    "    print([X_train.columns[index], xgbc.feature_importances_[index]])"
   ]
  },
  {
   "cell_type": "markdown",
   "id": "9e1a9220-35a4-4486-a2f8-8b52601b8683",
   "metadata": {},
   "source": [
    "### Hence, Price is the most important feature - which makes business sense and goes completely with our hypothesis.\n",
    "\n",
    "It is important to note that price of the quote has **4 times** more predictive power than the second next feature and **10 times** more predictive than the 10th feature in the list."
   ]
  },
  {
   "cell_type": "markdown",
   "id": "2bbcab7c-75fe-40a9-9897-61800aa6b6cf",
   "metadata": {},
   "source": [
    "Now since we have established that price is one of the most important feature to predict sale, let us try to find the correlation between   price and sales using OLS."
   ]
  },
  {
   "cell_type": "code",
   "execution_count": 16,
   "id": "0149536a-4cdb-452d-a7fe-fb9a84b700e4",
   "metadata": {
    "tags": []
   },
   "outputs": [
    {
     "data": {
      "text/html": [
       "<table class=\"simpletable\">\n",
       "<caption>OLS Regression Results</caption>\n",
       "<tr>\n",
       "  <th>Dep. Variable:</th>          <td>Sale</td>       <th>  R-squared:         </th> <td>   0.556</td> \n",
       "</tr>\n",
       "<tr>\n",
       "  <th>Model:</th>                   <td>OLS</td>       <th>  Adj. R-squared:    </th> <td>   0.555</td> \n",
       "</tr>\n",
       "<tr>\n",
       "  <th>Method:</th>             <td>Least Squares</td>  <th>  F-statistic:       </th> <td>   1299.</td> \n",
       "</tr>\n",
       "<tr>\n",
       "  <th>Date:</th>             <td>Wed, 31 May 2023</td> <th>  Prob (F-statistic):</th>  <td>  0.00</td>  \n",
       "</tr>\n",
       "<tr>\n",
       "  <th>Time:</th>                 <td>10:42:58</td>     <th>  Log-Likelihood:    </th> <td> -7876.8</td> \n",
       "</tr>\n",
       "<tr>\n",
       "  <th>No. Observations:</th>      <td> 33264</td>      <th>  AIC:               </th> <td>1.582e+04</td>\n",
       "</tr>\n",
       "<tr>\n",
       "  <th>Df Residuals:</th>          <td> 33231</td>      <th>  BIC:               </th> <td>1.610e+04</td>\n",
       "</tr>\n",
       "<tr>\n",
       "  <th>Df Model:</th>              <td>    32</td>      <th>                     </th>     <td> </td>    \n",
       "</tr>\n",
       "<tr>\n",
       "  <th>Covariance Type:</th>      <td>nonrobust</td>    <th>                     </th>     <td> </td>    \n",
       "</tr>\n",
       "</table>\n",
       "<table class=\"simpletable\">\n",
       "<tr>\n",
       "             <td></td>                <th>coef</th>     <th>std err</th>      <th>t</th>      <th>P>|t|</th>  <th>[0.025</th>    <th>0.975]</th>  \n",
       "</tr>\n",
       "<tr>\n",
       "  <th>Driver_Age</th>              <td>   -0.0139</td> <td>    0.000</td> <td>  -45.113</td> <td> 0.000</td> <td>   -0.015</td> <td>   -0.013</td>\n",
       "</tr>\n",
       "<tr>\n",
       "  <th>Vehicle_Value</th>           <td> 2.274e-06</td> <td>    1e-06</td> <td>    2.263</td> <td> 0.024</td> <td> 3.05e-07</td> <td> 4.24e-06</td>\n",
       "</tr>\n",
       "<tr>\n",
       "  <th>Price</th>                   <td>    0.0022</td> <td> 2.06e-05</td> <td>  108.697</td> <td> 0.000</td> <td>    0.002</td> <td>    0.002</td>\n",
       "</tr>\n",
       "<tr>\n",
       "  <th>Vehicle_Mileage</th>         <td>-3.099e-05</td> <td> 1.26e-06</td> <td>  -24.579</td> <td> 0.000</td> <td>-3.35e-05</td> <td>-2.85e-05</td>\n",
       "</tr>\n",
       "<tr>\n",
       "  <th>Credit_Score</th>            <td>-2.296e-06</td> <td> 1.76e-06</td> <td>   -1.307</td> <td> 0.191</td> <td>-5.74e-06</td> <td> 1.15e-06</td>\n",
       "</tr>\n",
       "<tr>\n",
       "  <th>Licence_Length_Years</th>    <td>    0.0089</td> <td>    0.001</td> <td>   12.759</td> <td> 0.000</td> <td>    0.008</td> <td>    0.010</td>\n",
       "</tr>\n",
       "<tr>\n",
       "  <th>Tax</th>                     <td>   -0.0025</td> <td>    0.000</td> <td>  -15.158</td> <td> 0.000</td> <td>   -0.003</td> <td>   -0.002</td>\n",
       "</tr>\n",
       "<tr>\n",
       "  <th>CLTV</th>                    <td>-1.203e-07</td> <td> 2.46e-07</td> <td>   -0.490</td> <td> 0.624</td> <td>-6.02e-07</td> <td> 3.61e-07</td>\n",
       "</tr>\n",
       "<tr>\n",
       "  <th>Months_Policy_Inception</th> <td> 2.933e-05</td> <td>  5.9e-05</td> <td>    0.497</td> <td> 0.619</td> <td>-8.63e-05</td> <td>    0.000</td>\n",
       "</tr>\n",
       "<tr>\n",
       "  <th>D</th>                       <td>    0.0251</td> <td>    0.005</td> <td>    5.350</td> <td> 0.000</td> <td>    0.016</td> <td>    0.034</td>\n",
       "</tr>\n",
       "<tr>\n",
       "  <th>M</th>                       <td>    0.0262</td> <td>    0.004</td> <td>    7.411</td> <td> 0.000</td> <td>    0.019</td> <td>    0.033</td>\n",
       "</tr>\n",
       "<tr>\n",
       "  <th>S</th>                       <td>    0.0295</td> <td>    0.004</td> <td>    8.199</td> <td> 0.000</td> <td>    0.022</td> <td>    0.037</td>\n",
       "</tr>\n",
       "<tr>\n",
       "  <th>Arizona</th>                 <td>    0.0138</td> <td>    0.004</td> <td>    3.685</td> <td> 0.000</td> <td>    0.006</td> <td>    0.021</td>\n",
       "</tr>\n",
       "<tr>\n",
       "  <th>California</th>              <td>   -0.0147</td> <td>    0.004</td> <td>   -4.149</td> <td> 0.000</td> <td>   -0.022</td> <td>   -0.008</td>\n",
       "</tr>\n",
       "<tr>\n",
       "  <th>Nevada</th>                  <td>    0.0400</td> <td>    0.004</td> <td>   10.447</td> <td> 0.000</td> <td>    0.033</td> <td>    0.048</td>\n",
       "</tr>\n",
       "<tr>\n",
       "  <th>Oregon</th>                  <td>   -0.0042</td> <td>    0.004</td> <td>   -1.166</td> <td> 0.244</td> <td>   -0.011</td> <td>    0.003</td>\n",
       "</tr>\n",
       "<tr>\n",
       "  <th>Washington</th>              <td>    0.0459</td> <td>    0.004</td> <td>   11.818</td> <td> 0.000</td> <td>    0.038</td> <td>    0.054</td>\n",
       "</tr>\n",
       "<tr>\n",
       "  <th>Basic</th>                   <td>   -0.0103</td> <td>    0.003</td> <td>   -2.984</td> <td> 0.003</td> <td>   -0.017</td> <td>   -0.004</td>\n",
       "</tr>\n",
       "<tr>\n",
       "  <th>Extended</th>                <td>    0.0259</td> <td>    0.004</td> <td>    7.353</td> <td> 0.000</td> <td>    0.019</td> <td>    0.033</td>\n",
       "</tr>\n",
       "<tr>\n",
       "  <th>Premium</th>                 <td>    0.0652</td> <td>    0.004</td> <td>   17.918</td> <td> 0.000</td> <td>    0.058</td> <td>    0.072</td>\n",
       "</tr>\n",
       "<tr>\n",
       "  <th>Bachelor</th>                <td>   -0.0075</td> <td>    0.004</td> <td>   -2.083</td> <td> 0.037</td> <td>   -0.015</td> <td>   -0.000</td>\n",
       "</tr>\n",
       "<tr>\n",
       "  <th>College</th>                 <td>   -0.0071</td> <td>    0.004</td> <td>   -1.960</td> <td> 0.050</td> <td>   -0.014</td> <td> -9.3e-07</td>\n",
       "</tr>\n",
       "<tr>\n",
       "  <th>Doctor</th>                  <td>    0.0557</td> <td>    0.004</td> <td>   14.131</td> <td> 0.000</td> <td>    0.048</td> <td>    0.063</td>\n",
       "</tr>\n",
       "<tr>\n",
       "  <th>High School or Below</th>    <td>   -0.0033</td> <td>    0.004</td> <td>   -0.898</td> <td> 0.369</td> <td>   -0.010</td> <td>    0.004</td>\n",
       "</tr>\n",
       "<tr>\n",
       "  <th>Master</th>                  <td>    0.0430</td> <td>    0.004</td> <td>   11.049</td> <td> 0.000</td> <td>    0.035</td> <td>    0.051</td>\n",
       "</tr>\n",
       "<tr>\n",
       "  <th>Disabled</th>                <td>    0.0445</td> <td>    0.004</td> <td>   11.246</td> <td> 0.000</td> <td>    0.037</td> <td>    0.052</td>\n",
       "</tr>\n",
       "<tr>\n",
       "  <th>Employed</th>                <td>   -0.0770</td> <td>    0.003</td> <td>  -22.761</td> <td> 0.000</td> <td>   -0.084</td> <td>   -0.070</td>\n",
       "</tr>\n",
       "<tr>\n",
       "  <th>Medical Leave</th>           <td>    0.0549</td> <td>    0.004</td> <td>   13.991</td> <td> 0.000</td> <td>    0.047</td> <td>    0.063</td>\n",
       "</tr>\n",
       "<tr>\n",
       "  <th>Retired</th>                 <td>    0.0638</td> <td>    0.004</td> <td>   16.011</td> <td> 0.000</td> <td>    0.056</td> <td>    0.072</td>\n",
       "</tr>\n",
       "<tr>\n",
       "  <th>Unemployed</th>              <td>   -0.0054</td> <td>    0.004</td> <td>   -1.476</td> <td> 0.140</td> <td>   -0.013</td> <td>    0.002</td>\n",
       "</tr>\n",
       "<tr>\n",
       "  <th>Rural</th>                   <td>    0.0486</td> <td>    0.004</td> <td>   13.573</td> <td> 0.000</td> <td>    0.042</td> <td>    0.056</td>\n",
       "</tr>\n",
       "<tr>\n",
       "  <th>Suburban</th>                <td>   -0.0182</td> <td>    0.003</td> <td>   -5.312</td> <td> 0.000</td> <td>   -0.025</td> <td>   -0.012</td>\n",
       "</tr>\n",
       "<tr>\n",
       "  <th>Urban</th>                   <td>    0.0505</td> <td>    0.004</td> <td>   14.086</td> <td> 0.000</td> <td>    0.043</td> <td>    0.058</td>\n",
       "</tr>\n",
       "<tr>\n",
       "  <th>Agent</th>                   <td>   -0.0005</td> <td>    0.003</td> <td>   -0.144</td> <td> 0.885</td> <td>   -0.007</td> <td>    0.006</td>\n",
       "</tr>\n",
       "<tr>\n",
       "  <th>Branch</th>                  <td>    0.0156</td> <td>    0.003</td> <td>    4.484</td> <td> 0.000</td> <td>    0.009</td> <td>    0.022</td>\n",
       "</tr>\n",
       "<tr>\n",
       "  <th>Call Center</th>             <td>    0.0308</td> <td>    0.004</td> <td>    8.693</td> <td> 0.000</td> <td>    0.024</td> <td>    0.038</td>\n",
       "</tr>\n",
       "<tr>\n",
       "  <th>Web</th>                     <td>    0.0349</td> <td>    0.004</td> <td>    9.721</td> <td> 0.000</td> <td>    0.028</td> <td>    0.042</td>\n",
       "</tr>\n",
       "<tr>\n",
       "  <th>Corporate Auto</th>          <td>    0.0393</td> <td>    0.004</td> <td>   10.999</td> <td> 0.000</td> <td>    0.032</td> <td>    0.046</td>\n",
       "</tr>\n",
       "<tr>\n",
       "  <th>Personal Auto</th>           <td>   -0.0354</td> <td>    0.003</td> <td>  -10.371</td> <td> 0.000</td> <td>   -0.042</td> <td>   -0.029</td>\n",
       "</tr>\n",
       "<tr>\n",
       "  <th>Special Auto</th>            <td>    0.0769</td> <td>    0.004</td> <td>   21.025</td> <td> 0.000</td> <td>    0.070</td> <td>    0.084</td>\n",
       "</tr>\n",
       "</table>\n",
       "<table class=\"simpletable\">\n",
       "<tr>\n",
       "  <th>Omnibus:</th>       <td>474.556</td> <th>  Durbin-Watson:     </th> <td>   2.000</td> \n",
       "</tr>\n",
       "<tr>\n",
       "  <th>Prob(Omnibus):</th> <td> 0.000</td>  <th>  Jarque-Bera (JB):  </th> <td> 494.973</td> \n",
       "</tr>\n",
       "<tr>\n",
       "  <th>Skew:</th>          <td>-0.299</td>  <th>  Prob(JB):          </th> <td>3.30e-108</td>\n",
       "</tr>\n",
       "<tr>\n",
       "  <th>Kurtosis:</th>      <td> 2.990</td>  <th>  Cond. No.          </th> <td>1.80e+19</td> \n",
       "</tr>\n",
       "</table><br/><br/>Notes:<br/>[1] Standard Errors assume that the covariance matrix of the errors is correctly specified.<br/>[2] The smallest eigenvalue is 2.11e-26. This might indicate that there are<br/>strong multicollinearity problems or that the design matrix is singular."
      ],
      "text/latex": [
       "\\begin{center}\n",
       "\\begin{tabular}{lclc}\n",
       "\\toprule\n",
       "\\textbf{Dep. Variable:}            &       Sale       & \\textbf{  R-squared:         } &     0.556   \\\\\n",
       "\\textbf{Model:}                    &       OLS        & \\textbf{  Adj. R-squared:    } &     0.555   \\\\\n",
       "\\textbf{Method:}                   &  Least Squares   & \\textbf{  F-statistic:       } &     1299.   \\\\\n",
       "\\textbf{Date:}                     & Wed, 31 May 2023 & \\textbf{  Prob (F-statistic):} &     0.00    \\\\\n",
       "\\textbf{Time:}                     &     10:42:58     & \\textbf{  Log-Likelihood:    } &   -7876.8   \\\\\n",
       "\\textbf{No. Observations:}         &       33264      & \\textbf{  AIC:               } & 1.582e+04   \\\\\n",
       "\\textbf{Df Residuals:}             &       33231      & \\textbf{  BIC:               } & 1.610e+04   \\\\\n",
       "\\textbf{Df Model:}                 &          32      & \\textbf{                     } &             \\\\\n",
       "\\textbf{Covariance Type:}          &    nonrobust     & \\textbf{                     } &             \\\\\n",
       "\\bottomrule\n",
       "\\end{tabular}\n",
       "\\begin{tabular}{lcccccc}\n",
       "                                   & \\textbf{coef} & \\textbf{std err} & \\textbf{t} & \\textbf{P$> |$t$|$} & \\textbf{[0.025} & \\textbf{0.975]}  \\\\\n",
       "\\midrule\n",
       "\\textbf{Driver\\_Age}               &      -0.0139  &        0.000     &   -45.113  &         0.000        &       -0.015    &       -0.013     \\\\\n",
       "\\textbf{Vehicle\\_Value}            &    2.274e-06  &        1e-06     &     2.263  &         0.024        &     3.05e-07    &     4.24e-06     \\\\\n",
       "\\textbf{Price}                     &       0.0022  &     2.06e-05     &   108.697  &         0.000        &        0.002    &        0.002     \\\\\n",
       "\\textbf{Vehicle\\_Mileage}          &   -3.099e-05  &     1.26e-06     &   -24.579  &         0.000        &    -3.35e-05    &    -2.85e-05     \\\\\n",
       "\\textbf{Credit\\_Score}             &   -2.296e-06  &     1.76e-06     &    -1.307  &         0.191        &    -5.74e-06    &     1.15e-06     \\\\\n",
       "\\textbf{Licence\\_Length\\_Years}    &       0.0089  &        0.001     &    12.759  &         0.000        &        0.008    &        0.010     \\\\\n",
       "\\textbf{Tax}                       &      -0.0025  &        0.000     &   -15.158  &         0.000        &       -0.003    &       -0.002     \\\\\n",
       "\\textbf{CLTV}                      &   -1.203e-07  &     2.46e-07     &    -0.490  &         0.624        &    -6.02e-07    &     3.61e-07     \\\\\n",
       "\\textbf{Months\\_Policy\\_Inception} &    2.933e-05  &      5.9e-05     &     0.497  &         0.619        &    -8.63e-05    &        0.000     \\\\\n",
       "\\textbf{D}                         &       0.0251  &        0.005     &     5.350  &         0.000        &        0.016    &        0.034     \\\\\n",
       "\\textbf{M}                         &       0.0262  &        0.004     &     7.411  &         0.000        &        0.019    &        0.033     \\\\\n",
       "\\textbf{S}                         &       0.0295  &        0.004     &     8.199  &         0.000        &        0.022    &        0.037     \\\\\n",
       "\\textbf{Arizona}                   &       0.0138  &        0.004     &     3.685  &         0.000        &        0.006    &        0.021     \\\\\n",
       "\\textbf{California}                &      -0.0147  &        0.004     &    -4.149  &         0.000        &       -0.022    &       -0.008     \\\\\n",
       "\\textbf{Nevada}                    &       0.0400  &        0.004     &    10.447  &         0.000        &        0.033    &        0.048     \\\\\n",
       "\\textbf{Oregon}                    &      -0.0042  &        0.004     &    -1.166  &         0.244        &       -0.011    &        0.003     \\\\\n",
       "\\textbf{Washington}                &       0.0459  &        0.004     &    11.818  &         0.000        &        0.038    &        0.054     \\\\\n",
       "\\textbf{Basic}                     &      -0.0103  &        0.003     &    -2.984  &         0.003        &       -0.017    &       -0.004     \\\\\n",
       "\\textbf{Extended}                  &       0.0259  &        0.004     &     7.353  &         0.000        &        0.019    &        0.033     \\\\\n",
       "\\textbf{Premium}                   &       0.0652  &        0.004     &    17.918  &         0.000        &        0.058    &        0.072     \\\\\n",
       "\\textbf{Bachelor}                  &      -0.0075  &        0.004     &    -2.083  &         0.037        &       -0.015    &       -0.000     \\\\\n",
       "\\textbf{College}                   &      -0.0071  &        0.004     &    -1.960  &         0.050        &       -0.014    &     -9.3e-07     \\\\\n",
       "\\textbf{Doctor}                    &       0.0557  &        0.004     &    14.131  &         0.000        &        0.048    &        0.063     \\\\\n",
       "\\textbf{High School or Below}      &      -0.0033  &        0.004     &    -0.898  &         0.369        &       -0.010    &        0.004     \\\\\n",
       "\\textbf{Master}                    &       0.0430  &        0.004     &    11.049  &         0.000        &        0.035    &        0.051     \\\\\n",
       "\\textbf{Disabled}                  &       0.0445  &        0.004     &    11.246  &         0.000        &        0.037    &        0.052     \\\\\n",
       "\\textbf{Employed}                  &      -0.0770  &        0.003     &   -22.761  &         0.000        &       -0.084    &       -0.070     \\\\\n",
       "\\textbf{Medical Leave}             &       0.0549  &        0.004     &    13.991  &         0.000        &        0.047    &        0.063     \\\\\n",
       "\\textbf{Retired}                   &       0.0638  &        0.004     &    16.011  &         0.000        &        0.056    &        0.072     \\\\\n",
       "\\textbf{Unemployed}                &      -0.0054  &        0.004     &    -1.476  &         0.140        &       -0.013    &        0.002     \\\\\n",
       "\\textbf{Rural}                     &       0.0486  &        0.004     &    13.573  &         0.000        &        0.042    &        0.056     \\\\\n",
       "\\textbf{Suburban}                  &      -0.0182  &        0.003     &    -5.312  &         0.000        &       -0.025    &       -0.012     \\\\\n",
       "\\textbf{Urban}                     &       0.0505  &        0.004     &    14.086  &         0.000        &        0.043    &        0.058     \\\\\n",
       "\\textbf{Agent}                     &      -0.0005  &        0.003     &    -0.144  &         0.885        &       -0.007    &        0.006     \\\\\n",
       "\\textbf{Branch}                    &       0.0156  &        0.003     &     4.484  &         0.000        &        0.009    &        0.022     \\\\\n",
       "\\textbf{Call Center}               &       0.0308  &        0.004     &     8.693  &         0.000        &        0.024    &        0.038     \\\\\n",
       "\\textbf{Web}                       &       0.0349  &        0.004     &     9.721  &         0.000        &        0.028    &        0.042     \\\\\n",
       "\\textbf{Corporate Auto}            &       0.0393  &        0.004     &    10.999  &         0.000        &        0.032    &        0.046     \\\\\n",
       "\\textbf{Personal Auto}             &      -0.0354  &        0.003     &   -10.371  &         0.000        &       -0.042    &       -0.029     \\\\\n",
       "\\textbf{Special Auto}              &       0.0769  &        0.004     &    21.025  &         0.000        &        0.070    &        0.084     \\\\\n",
       "\\bottomrule\n",
       "\\end{tabular}\n",
       "\\begin{tabular}{lclc}\n",
       "\\textbf{Omnibus:}       & 474.556 & \\textbf{  Durbin-Watson:     } &     2.000  \\\\\n",
       "\\textbf{Prob(Omnibus):} &   0.000 & \\textbf{  Jarque-Bera (JB):  } &   494.973  \\\\\n",
       "\\textbf{Skew:}          &  -0.299 & \\textbf{  Prob(JB):          } & 3.30e-108  \\\\\n",
       "\\textbf{Kurtosis:}      &   2.990 & \\textbf{  Cond. No.          } &  1.80e+19  \\\\\n",
       "\\bottomrule\n",
       "\\end{tabular}\n",
       "%\\caption{OLS Regression Results}\n",
       "\\end{center}\n",
       "\n",
       "Notes: \\newline\n",
       " [1] Standard Errors assume that the covariance matrix of the errors is correctly specified. \\newline\n",
       " [2] The smallest eigenvalue is 2.11e-26. This might indicate that there are \\newline\n",
       " strong multicollinearity problems or that the design matrix is singular."
      ],
      "text/plain": [
       "<class 'statsmodels.iolib.summary.Summary'>\n",
       "\"\"\"\n",
       "                            OLS Regression Results                            \n",
       "==============================================================================\n",
       "Dep. Variable:                   Sale   R-squared:                       0.556\n",
       "Model:                            OLS   Adj. R-squared:                  0.555\n",
       "Method:                 Least Squares   F-statistic:                     1299.\n",
       "Date:                Wed, 31 May 2023   Prob (F-statistic):               0.00\n",
       "Time:                        10:42:58   Log-Likelihood:                -7876.8\n",
       "No. Observations:               33264   AIC:                         1.582e+04\n",
       "Df Residuals:                   33231   BIC:                         1.610e+04\n",
       "Df Model:                          32                                         \n",
       "Covariance Type:            nonrobust                                         \n",
       "===========================================================================================\n",
       "                              coef    std err          t      P>|t|      [0.025      0.975]\n",
       "-------------------------------------------------------------------------------------------\n",
       "Driver_Age                 -0.0139      0.000    -45.113      0.000      -0.015      -0.013\n",
       "Vehicle_Value            2.274e-06      1e-06      2.263      0.024    3.05e-07    4.24e-06\n",
       "Price                       0.0022   2.06e-05    108.697      0.000       0.002       0.002\n",
       "Vehicle_Mileage         -3.099e-05   1.26e-06    -24.579      0.000   -3.35e-05   -2.85e-05\n",
       "Credit_Score            -2.296e-06   1.76e-06     -1.307      0.191   -5.74e-06    1.15e-06\n",
       "Licence_Length_Years        0.0089      0.001     12.759      0.000       0.008       0.010\n",
       "Tax                        -0.0025      0.000    -15.158      0.000      -0.003      -0.002\n",
       "CLTV                    -1.203e-07   2.46e-07     -0.490      0.624   -6.02e-07    3.61e-07\n",
       "Months_Policy_Inception  2.933e-05    5.9e-05      0.497      0.619   -8.63e-05       0.000\n",
       "D                           0.0251      0.005      5.350      0.000       0.016       0.034\n",
       "M                           0.0262      0.004      7.411      0.000       0.019       0.033\n",
       "S                           0.0295      0.004      8.199      0.000       0.022       0.037\n",
       "Arizona                     0.0138      0.004      3.685      0.000       0.006       0.021\n",
       "California                 -0.0147      0.004     -4.149      0.000      -0.022      -0.008\n",
       "Nevada                      0.0400      0.004     10.447      0.000       0.033       0.048\n",
       "Oregon                     -0.0042      0.004     -1.166      0.244      -0.011       0.003\n",
       "Washington                  0.0459      0.004     11.818      0.000       0.038       0.054\n",
       "Basic                      -0.0103      0.003     -2.984      0.003      -0.017      -0.004\n",
       "Extended                    0.0259      0.004      7.353      0.000       0.019       0.033\n",
       "Premium                     0.0652      0.004     17.918      0.000       0.058       0.072\n",
       "Bachelor                   -0.0075      0.004     -2.083      0.037      -0.015      -0.000\n",
       "College                    -0.0071      0.004     -1.960      0.050      -0.014    -9.3e-07\n",
       "Doctor                      0.0557      0.004     14.131      0.000       0.048       0.063\n",
       "High School or Below       -0.0033      0.004     -0.898      0.369      -0.010       0.004\n",
       "Master                      0.0430      0.004     11.049      0.000       0.035       0.051\n",
       "Disabled                    0.0445      0.004     11.246      0.000       0.037       0.052\n",
       "Employed                   -0.0770      0.003    -22.761      0.000      -0.084      -0.070\n",
       "Medical Leave               0.0549      0.004     13.991      0.000       0.047       0.063\n",
       "Retired                     0.0638      0.004     16.011      0.000       0.056       0.072\n",
       "Unemployed                 -0.0054      0.004     -1.476      0.140      -0.013       0.002\n",
       "Rural                       0.0486      0.004     13.573      0.000       0.042       0.056\n",
       "Suburban                   -0.0182      0.003     -5.312      0.000      -0.025      -0.012\n",
       "Urban                       0.0505      0.004     14.086      0.000       0.043       0.058\n",
       "Agent                      -0.0005      0.003     -0.144      0.885      -0.007       0.006\n",
       "Branch                      0.0156      0.003      4.484      0.000       0.009       0.022\n",
       "Call Center                 0.0308      0.004      8.693      0.000       0.024       0.038\n",
       "Web                         0.0349      0.004      9.721      0.000       0.028       0.042\n",
       "Corporate Auto              0.0393      0.004     10.999      0.000       0.032       0.046\n",
       "Personal Auto              -0.0354      0.003    -10.371      0.000      -0.042      -0.029\n",
       "Special Auto                0.0769      0.004     21.025      0.000       0.070       0.084\n",
       "==============================================================================\n",
       "Omnibus:                      474.556   Durbin-Watson:                   2.000\n",
       "Prob(Omnibus):                  0.000   Jarque-Bera (JB):              494.973\n",
       "Skew:                          -0.299   Prob(JB):                    3.30e-108\n",
       "Kurtosis:                       2.990   Cond. No.                     1.80e+19\n",
       "==============================================================================\n",
       "\n",
       "Notes:\n",
       "[1] Standard Errors assume that the covariance matrix of the errors is correctly specified.\n",
       "[2] The smallest eigenvalue is 2.11e-26. This might indicate that there are\n",
       "strong multicollinearity problems or that the design matrix is singular.\n",
       "\"\"\""
      ]
     },
     "execution_count": 16,
     "metadata": {},
     "output_type": "execute_result"
    }
   ],
   "source": [
    "# Verifying these findings by using an OLS model\n",
    "model = sm.OLS(Y_train, X_train.astype(float))\n",
    "results = model.fit()\n",
    "results.summary()"
   ]
  },
  {
   "cell_type": "markdown",
   "id": "9ffb0ee1-26c3-4c23-ae4a-cd249b1bffbd",
   "metadata": {},
   "source": [
    "Here, we can see that the **price is positively correlated with the sales.** This means the policies which were quoted a higher price had a better chance to be bought.  \n",
    "This means they were probably specialized policies and for the policies with normal vehicles, we lose to the competitors. "
   ]
  },
  {
   "cell_type": "markdown",
   "id": "696ec842-4963-4669-a9b8-c85ccfe14769",
   "metadata": {},
   "source": [
    "### Making predictions on the test dataset  \n",
    "\n",
    "We shall be using the best model from the list i.e. XGBoost Classifier model to make predictions on the test dataset "
   ]
  },
  {
   "cell_type": "code",
   "execution_count": 17,
   "id": "6972742f-5acd-4c78-a634-c310944494ff",
   "metadata": {
    "tags": []
   },
   "outputs": [
    {
     "name": "stdout",
     "output_type": "stream",
     "text": [
      "F1 score for test data is: 0.9372835706040786\n",
      "Recall for test data is: 0.9468283582089553\n",
      "ROC AUC Score for test data is: 0.8882503332276322\n"
     ]
    }
   ],
   "source": [
    "test_result = xgbc.predict(X_test)\n",
    "\n",
    "print(\"F1 score for test data is:\", f1_score(Y_test, test_result))\n",
    "print(\"Recall for test data is:\", recall_score(Y_test, test_result))\n",
    "print(\"ROC AUC Score for test data is:\", roc_auc_score(Y_test, test_result))"
   ]
  },
  {
   "cell_type": "markdown",
   "id": "5cfc5c61-9f05-425c-afb2-5ebbc1ecd4e3",
   "metadata": {
    "tags": []
   },
   "source": [
    "# Part 2: Identifying and visualising the KPIs  \n",
    "\n",
    "In oder to understand what is the business implications of the model predictions we will use Atoti to create widgets.  \n",
    "\n",
    "### 2.1 We will start by creating the dataframe which can be laoded into Atoti"
   ]
  },
  {
   "cell_type": "code",
   "execution_count": 18,
   "id": "b5abd1f1-9a2d-4385-9848-c6af46d0769a",
   "metadata": {
    "tags": []
   },
   "outputs": [],
   "source": [
    "# Adding the sales prediction column to the test dataset\n",
    "prediction_df = test_df.copy()\n",
    "prediction_df.drop(\"Sale\", axis=1, inplace=True)\n",
    "prediction_df[\"Sales_prediction\"] = test_result.tolist()"
   ]
  },
  {
   "cell_type": "code",
   "execution_count": 19,
   "id": "91d69097-b300-41dd-b299-779570d8abba",
   "metadata": {
    "tags": []
   },
   "outputs": [],
   "source": [
    "# finding the prediction probability from the model\n",
    "\n",
    "xbg_predictions = xgbc.predict_proba(X_test)\n",
    "probability = []\n",
    "for i in range(len(xbg_predictions)):\n",
    "    probability.append(xbg_predictions[i][1])"
   ]
  },
  {
   "cell_type": "code",
   "execution_count": 20,
   "id": "158681aa-84ee-49d3-965a-e94c2a8cd5d6",
   "metadata": {
    "tags": []
   },
   "outputs": [],
   "source": [
    "# Adding the column for the sales probability\n",
    "\n",
    "prediction_df[\"sales_prediction_probability\"] = probability"
   ]
  },
  {
   "cell_type": "markdown",
   "id": "ef78a4ec-e0a8-4ffb-a0c4-48a156046ad9",
   "metadata": {},
   "source": [
    "### 2.2 Creating the session in Atoti\n",
    "\n",
    "Creating a session - it spins up an in-memory database - similar to Apache Spark - ready to slice’n’dice your big data set.  \n",
    "In addition to that, it launches a dashboarding Tableau-like web-app\n"
   ]
  },
  {
   "cell_type": "code",
   "execution_count": 21,
   "id": "bf504042-e21d-44ac-90c8-822cbb636722",
   "metadata": {
    "tags": []
   },
   "outputs": [],
   "source": [
    "session = tt.Session(user_content_storage=\"content\")"
   ]
  },
  {
   "cell_type": "code",
   "execution_count": 22,
   "id": "b3378755-13e9-41d0-bb00-9b212d7cec3c",
   "metadata": {
    "tags": []
   },
   "outputs": [
    {
     "data": {
      "text/html": [
       "<div>\n",
       "<style scoped>\n",
       "    .dataframe tbody tr th:only-of-type {\n",
       "        vertical-align: middle;\n",
       "    }\n",
       "\n",
       "    .dataframe tbody tr th {\n",
       "        vertical-align: top;\n",
       "    }\n",
       "\n",
       "    .dataframe thead th {\n",
       "        text-align: right;\n",
       "    }\n",
       "</style>\n",
       "<table border=\"1\" class=\"dataframe\">\n",
       "  <thead>\n",
       "    <tr style=\"text-align: right;\">\n",
       "      <th></th>\n",
       "      <th>Driver_Age</th>\n",
       "      <th>Vehicle_Value</th>\n",
       "      <th>Price</th>\n",
       "      <th>Vehicle_Mileage</th>\n",
       "      <th>Credit_Score</th>\n",
       "      <th>Licence_Length_Years</th>\n",
       "      <th>Marital_Status</th>\n",
       "      <th>Tax</th>\n",
       "      <th>State</th>\n",
       "      <th>CLTV</th>\n",
       "      <th>Coverage_Type</th>\n",
       "      <th>Education</th>\n",
       "      <th>Employment_Status</th>\n",
       "      <th>Location_Code</th>\n",
       "      <th>Sales_Channel</th>\n",
       "      <th>Months_Policy_Inception</th>\n",
       "      <th>Policy_Type</th>\n",
       "      <th>Sales_prediction</th>\n",
       "      <th>sales_prediction_probability</th>\n",
       "    </tr>\n",
       "    <tr>\n",
       "      <th>cust_id</th>\n",
       "      <th></th>\n",
       "      <th></th>\n",
       "      <th></th>\n",
       "      <th></th>\n",
       "      <th></th>\n",
       "      <th></th>\n",
       "      <th></th>\n",
       "      <th></th>\n",
       "      <th></th>\n",
       "      <th></th>\n",
       "      <th></th>\n",
       "      <th></th>\n",
       "      <th></th>\n",
       "      <th></th>\n",
       "      <th></th>\n",
       "      <th></th>\n",
       "      <th></th>\n",
       "      <th></th>\n",
       "      <th></th>\n",
       "    </tr>\n",
       "  </thead>\n",
       "  <tbody>\n",
       "    <tr>\n",
       "      <th>9976814432768</th>\n",
       "      <td>35.0</td>\n",
       "      <td>9000.0</td>\n",
       "      <td>707.79</td>\n",
       "      <td>6000.0</td>\n",
       "      <td>371.25</td>\n",
       "      <td>6.63</td>\n",
       "      <td>M</td>\n",
       "      <td>70.78</td>\n",
       "      <td>Arizona</td>\n",
       "      <td>7408.2</td>\n",
       "      <td>Extended</td>\n",
       "      <td>College</td>\n",
       "      <td>Retired</td>\n",
       "      <td>Suburban</td>\n",
       "      <td>Agent</td>\n",
       "      <td>1</td>\n",
       "      <td>Special Auto</td>\n",
       "      <td>1</td>\n",
       "      <td>0.999179</td>\n",
       "    </tr>\n",
       "    <tr>\n",
       "      <th>9845810226551</th>\n",
       "      <td>51.0</td>\n",
       "      <td>5000.0</td>\n",
       "      <td>821.07</td>\n",
       "      <td>7000.0</td>\n",
       "      <td>450.49</td>\n",
       "      <td>9.34</td>\n",
       "      <td>S</td>\n",
       "      <td>82.11</td>\n",
       "      <td>Oregon</td>\n",
       "      <td>2688.9</td>\n",
       "      <td>Extended</td>\n",
       "      <td>Master</td>\n",
       "      <td>Disabled</td>\n",
       "      <td>Suburban</td>\n",
       "      <td>Web</td>\n",
       "      <td>75</td>\n",
       "      <td>Personal Auto</td>\n",
       "      <td>1</td>\n",
       "      <td>0.998984</td>\n",
       "    </tr>\n",
       "    <tr>\n",
       "      <th>2310686127723</th>\n",
       "      <td>37.0</td>\n",
       "      <td>7000.0</td>\n",
       "      <td>405.18</td>\n",
       "      <td>6000.0</td>\n",
       "      <td>397.26</td>\n",
       "      <td>8.2</td>\n",
       "      <td>S</td>\n",
       "      <td>20.26</td>\n",
       "      <td>Nevada</td>\n",
       "      <td>6810.5</td>\n",
       "      <td>Extended</td>\n",
       "      <td>Bachelor</td>\n",
       "      <td>Employed</td>\n",
       "      <td>Rural</td>\n",
       "      <td>Web</td>\n",
       "      <td>65</td>\n",
       "      <td>Special Auto</td>\n",
       "      <td>0</td>\n",
       "      <td>0.252746</td>\n",
       "    </tr>\n",
       "    <tr>\n",
       "      <th>6203013183621</th>\n",
       "      <td>25.0</td>\n",
       "      <td>7000.0</td>\n",
       "      <td>684.66</td>\n",
       "      <td>7000.0</td>\n",
       "      <td>534.85</td>\n",
       "      <td>4.99</td>\n",
       "      <td>S</td>\n",
       "      <td>34.23</td>\n",
       "      <td>Washington</td>\n",
       "      <td>7661.4</td>\n",
       "      <td>Extended</td>\n",
       "      <td>Bachelor</td>\n",
       "      <td>Medical Leave</td>\n",
       "      <td>Rural</td>\n",
       "      <td>Web</td>\n",
       "      <td>12</td>\n",
       "      <td>Corporate Auto</td>\n",
       "      <td>1</td>\n",
       "      <td>0.998522</td>\n",
       "    </tr>\n",
       "    <tr>\n",
       "      <th>3861044483665</th>\n",
       "      <td>36.0</td>\n",
       "      <td>7000.0</td>\n",
       "      <td>527.84</td>\n",
       "      <td>9000.0</td>\n",
       "      <td>338.83</td>\n",
       "      <td>13.28</td>\n",
       "      <td>S</td>\n",
       "      <td>26.39</td>\n",
       "      <td>California</td>\n",
       "      <td>2274.8</td>\n",
       "      <td>Extended</td>\n",
       "      <td>High School or Below</td>\n",
       "      <td>Unemployed</td>\n",
       "      <td>Suburban</td>\n",
       "      <td>Call Center</td>\n",
       "      <td>61</td>\n",
       "      <td>Special Auto</td>\n",
       "      <td>1</td>\n",
       "      <td>0.869075</td>\n",
       "    </tr>\n",
       "  </tbody>\n",
       "</table>\n",
       "</div>"
      ],
      "text/plain": [
       "               Driver_Age  Vehicle_Value   Price  Vehicle_Mileage  \\\n",
       "cust_id                                                             \n",
       "9976814432768        35.0         9000.0  707.79           6000.0   \n",
       "9845810226551        51.0         5000.0  821.07           7000.0   \n",
       "2310686127723        37.0         7000.0  405.18           6000.0   \n",
       "6203013183621        25.0         7000.0  684.66           7000.0   \n",
       "3861044483665        36.0         7000.0  527.84           9000.0   \n",
       "\n",
       "               Credit_Score  Licence_Length_Years Marital_Status    Tax  \\\n",
       "cust_id                                                                   \n",
       "9976814432768        371.25                  6.63              M  70.78   \n",
       "9845810226551        450.49                  9.34              S  82.11   \n",
       "2310686127723        397.26                   8.2              S  20.26   \n",
       "6203013183621        534.85                  4.99              S  34.23   \n",
       "3861044483665        338.83                 13.28              S  26.39   \n",
       "\n",
       "                    State    CLTV Coverage_Type             Education  \\\n",
       "cust_id                                                                 \n",
       "9976814432768     Arizona  7408.2      Extended               College   \n",
       "9845810226551      Oregon  2688.9      Extended                Master   \n",
       "2310686127723      Nevada  6810.5      Extended              Bachelor   \n",
       "6203013183621  Washington  7661.4      Extended              Bachelor   \n",
       "3861044483665  California  2274.8      Extended  High School or Below   \n",
       "\n",
       "              Employment_Status Location_Code Sales_Channel  \\\n",
       "cust_id                                                       \n",
       "9976814432768           Retired      Suburban         Agent   \n",
       "9845810226551          Disabled      Suburban           Web   \n",
       "2310686127723          Employed         Rural           Web   \n",
       "6203013183621     Medical Leave         Rural           Web   \n",
       "3861044483665        Unemployed      Suburban   Call Center   \n",
       "\n",
       "               Months_Policy_Inception     Policy_Type  Sales_prediction  \\\n",
       "cust_id                                                                    \n",
       "9976814432768                        1    Special Auto                 1   \n",
       "9845810226551                       75   Personal Auto                 1   \n",
       "2310686127723                       65    Special Auto                 0   \n",
       "6203013183621                       12  Corporate Auto                 1   \n",
       "3861044483665                       61    Special Auto                 1   \n",
       "\n",
       "               sales_prediction_probability  \n",
       "cust_id                                      \n",
       "9976814432768                      0.999179  \n",
       "9845810226551                      0.998984  \n",
       "2310686127723                      0.252746  \n",
       "6203013183621                      0.998522  \n",
       "3861044483665                      0.869075  "
      ]
     },
     "execution_count": 22,
     "metadata": {},
     "output_type": "execute_result"
    }
   ],
   "source": [
    "# loading the data:  load the prediction dataframe into an Atoti data store\n",
    "predictions = session.read_pandas(\n",
    "    prediction_df, table_name=\"predictions\", keys=[\"cust_id\"]\n",
    ")\n",
    "predictions.head()"
   ]
  },
  {
   "cell_type": "code",
   "execution_count": 23,
   "id": "63b5086c-f40e-4a9a-9ef3-16a4cf23c010",
   "metadata": {
    "tags": []
   },
   "outputs": [],
   "source": [
    "# create a data cube in Atoti\n",
    "cube = session.create_cube(predictions, name=\"predictions\")"
   ]
  },
  {
   "cell_type": "code",
   "execution_count": 24,
   "id": "66fa3886-04af-4a1a-960d-d8caae4223f9",
   "metadata": {
    "tags": []
   },
   "outputs": [],
   "source": [
    "# defining the measure, level and hierarchy in the cube.\n",
    "\n",
    "h, l, m = cube.hierarchies, cube.levels, cube.measures"
   ]
  },
  {
   "cell_type": "code",
   "execution_count": 25,
   "id": "a3da51f1-3ee7-4069-b072-0214e724540c",
   "metadata": {
    "tags": []
   },
   "outputs": [],
   "source": [
    "# Let us create some new measures\n",
    "\n",
    "# this is nuber of predicted successful sales\n",
    "m[\"sale_propotion\"] = m[\"Sales_prediction.SUM\"] / m[\"contributors.COUNT\"]\n",
    "\n",
    "# this is sum of quotes from the predicted sales\n",
    "m[\"revenue_realised\"] = tt.agg.sum(\n",
    "    m[\"sales_prediction_probability.SUM\"] * m[\"Price.SUM\"],\n",
    "    scope=tt.OriginScope(l[\"cust_id\"]),\n",
    ")\n",
    "# This is the propotion of revenue being realised\n",
    "m[\"revenue_realised_propotion\"] = m[\"revenue_realised\"] / m[\"Price.SUM\"]"
   ]
  },
  {
   "cell_type": "markdown",
   "id": "4a65fd0f-adf0-47c0-8518-afcdcc1c8b8f",
   "metadata": {},
   "source": [
    "### 2.3 Visualising KPIs with Atoti widgets"
   ]
  },
  {
   "cell_type": "code",
   "execution_count": 26,
   "id": "e907f423-8dbb-444b-8db3-c9ff98d2a9b3",
   "metadata": {
    "atoti": {
     "height": 478,
     "widget": {
      "mapping": {
       "horizontalSubplots": [],
       "splitBy": [
        "ALL_MEASURES",
        "[predictions].[Sales_Channel].[Sales_Channel]"
       ],
       "values": [
        "[Measures].[sale_propotion]"
       ],
       "verticalSubplots": [],
       "xAxis": [
        "[predictions].[Coverage_Type].[Coverage_Type]"
       ]
      },
      "query": {
       "mdx": "SELECT NON EMPTY Crossjoin(Hierarchize(Descendants({[predictions].[Sales_Channel].[AllMember]}, 1, SELF_AND_BEFORE)), {[Measures].[sale_propotion]}) ON COLUMNS, NON EMPTY Hierarchize(Descendants({[predictions].[Coverage_Type].[AllMember]}, 1, SELF_AND_BEFORE)) ON ROWS FROM [predictions] CELL PROPERTIES VALUE, FORMATTED_VALUE, BACK_COLOR, FORE_COLOR, FONT_FLAGS",
       "updateMode": "once"
      },
      "serverKey": "default",
      "widgetKey": "plotly-clustered-column-chart"
     }
    },
    "tags": []
   },
   "outputs": [
    {
     "data": {
      "application/vnd.atoti.widget.v0+json": {
       "name": "Sales propotion by channel and coverage type",
       "sessionId": "1685500978_82OHXW",
       "sessionLocation": {
        "https": false,
        "port": 54578
       },
       "widgetCreationCode": "session.visualize()"
      },
      "text/html": [
       "<img src=\"data:image/svg+xml;charset=utf8,%3C%3Fxml%20version%3D%221.0%22%20standalone%3D%22no%22%3F%3E%3Csvg%20xmlns%3D%22http%3A%2F%2Fwww.w3.org%2F2000%2Fsvg%22%20xmlns%3Axlink%3D%22http%3A%2F%2Fwww.w3.org%2F1999%2Fxlink%22%20height%3D%22470%22%20width%3D%221310%22%20viewBox%3D%220%200%201310%20470%22%3E%3Cdefs%20id%3D%22defs-9a74cb%22%3E%3Cg%20class%3D%22clips%22%3E%3CclipPath%20id%3D%22clip9a74cbxyplot%22%20class%3D%22plotclip%22%3E%3Crect%20width%3D%221095%22%20height%3D%22400%22%2F%3E%3C%2FclipPath%3E%3CclipPath%20class%3D%22axesclip%22%20id%3D%22clip9a74cbx%22%3E%3Crect%20x%3D%2280%22%20y%3D%220%22%20width%3D%221095%22%20height%3D%22470%22%2F%3E%3C%2FclipPath%3E%3CclipPath%20class%3D%22axesclip%22%20id%3D%22clip9a74cby%22%3E%3Crect%20x%3D%220%22%20y%3D%2230%22%20width%3D%221310%22%20height%3D%22400%22%2F%3E%3C%2FclipPath%3E%3CclipPath%20class%3D%22axesclip%22%20id%3D%22clip9a74cbxy%22%3E%3Crect%20x%3D%2280%22%20y%3D%2230%22%20width%3D%221095%22%20height%3D%22400%22%2F%3E%3C%2FclipPath%3E%3C%2Fg%3E%3Cg%20class%3D%22gradients%22%2F%3E%3C%2Fdefs%3E%3Cg%20class%3D%22bglayer%22%2F%3E%3Cg%20class%3D%22draglayer%20cursor-crosshair%22%3E%3Cg%20class%3D%22xy%22%3E%3Crect%20class%3D%22nsewdrag%20drag%22%20data-subplot%3D%22xy%22%20x%3D%2280%22%20y%3D%2230%22%20width%3D%221095%22%20height%3D%22400%22%20style%3D%22fill%3A%20transparent%3B%20stroke-width%3A%200%3B%20pointer-events%3A%20all%3B%22%2F%3E%3Crect%20class%3D%22nwdrag%20drag%20cursor-nw-resize%22%20data-subplot%3D%22xy%22%20x%3D%2260%22%20y%3D%2210%22%20width%3D%2220%22%20height%3D%2220%22%20style%3D%22fill%3A%20transparent%3B%20stroke-width%3A%200%3B%20pointer-events%3A%20all%3B%22%2F%3E%3Crect%20class%3D%22nedrag%20drag%20cursor-ne-resize%22%20data-subplot%3D%22xy%22%20x%3D%221175%22%20y%3D%2210%22%20width%3D%2220%22%20height%3D%2220%22%20style%3D%22fill%3A%20transparent%3B%20stroke-width%3A%200%3B%20pointer-events%3A%20all%3B%22%2F%3E%3Crect%20class%3D%22swdrag%20drag%20cursor-sw-resize%22%20data-subplot%3D%22xy%22%20x%3D%2260%22%20y%3D%22430%22%20width%3D%2220%22%20height%3D%2220%22%20style%3D%22fill%3A%20transparent%3B%20stroke-width%3A%200%3B%20pointer-events%3A%20all%3B%22%2F%3E%3Crect%20class%3D%22sedrag%20drag%20cursor-se-resize%22%20data-subplot%3D%22xy%22%20x%3D%221175%22%20y%3D%22430%22%20width%3D%2220%22%20height%3D%2220%22%20style%3D%22fill%3A%20transparent%3B%20stroke-width%3A%200%3B%20pointer-events%3A%20all%3B%22%2F%3E%3Crect%20class%3D%22ewdrag%20drag%20cursor-ew-resize%22%20data-subplot%3D%22xy%22%20x%3D%22189.5%22%20y%3D%22430.5%22%20width%3D%22876%22%20height%3D%2220%22%20style%3D%22fill%3A%20transparent%3B%20stroke-width%3A%200%3B%20pointer-events%3A%20all%3B%22%2F%3E%3Crect%20class%3D%22wdrag%20drag%20cursor-w-resize%22%20data-subplot%3D%22xy%22%20x%3D%2280%22%20y%3D%22430.5%22%20width%3D%22109.5%22%20height%3D%2220%22%20style%3D%22fill%3A%20transparent%3B%20stroke-width%3A%200%3B%20pointer-events%3A%20all%3B%22%2F%3E%3Crect%20class%3D%22edrag%20drag%20cursor-e-resize%22%20data-subplot%3D%22xy%22%20x%3D%221065.5%22%20y%3D%22430.5%22%20width%3D%22109.5%22%20height%3D%2220%22%20style%3D%22fill%3A%20transparent%3B%20stroke-width%3A%200%3B%20pointer-events%3A%20all%3B%22%2F%3E%3Crect%20class%3D%22nsdrag%20drag%20cursor-ns-resize%22%20data-subplot%3D%22xy%22%20x%3D%2259.5%22%20y%3D%2270%22%20width%3D%2220%22%20height%3D%22320%22%20style%3D%22fill%3A%20transparent%3B%20stroke-width%3A%200%3B%20pointer-events%3A%20all%3B%22%2F%3E%3Crect%20class%3D%22sdrag%20drag%20cursor-s-resize%22%20data-subplot%3D%22xy%22%20x%3D%2259.5%22%20y%3D%22390%22%20width%3D%2220%22%20height%3D%2240%22%20style%3D%22fill%3A%20transparent%3B%20stroke-width%3A%200%3B%20pointer-events%3A%20all%3B%22%2F%3E%3Crect%20class%3D%22ndrag%20drag%20cursor-n-resize%22%20data-subplot%3D%22xy%22%20x%3D%2259.5%22%20y%3D%2230%22%20width%3D%2220%22%20height%3D%2240%22%20style%3D%22fill%3A%20transparent%3B%20stroke-width%3A%200%3B%20pointer-events%3A%20all%3B%22%2F%3E%3C%2Fg%3E%3C%2Fg%3E%3Cg%20class%3D%22layer-below%22%3E%3Cg%20class%3D%22imagelayer%22%2F%3E%3Cg%20class%3D%22shapelayer%22%2F%3E%3C%2Fg%3E%3Cg%20class%3D%22cartesianlayer%22%3E%3Cg%20class%3D%22subplot%20xy%22%3E%3Cg%20class%3D%22layer-subplot%22%3E%3Cg%20class%3D%22shapelayer%22%2F%3E%3Cg%20class%3D%22imagelayer%22%2F%3E%3C%2Fg%3E%3Cg%20class%3D%22gridlayer%22%3E%3Cg%20class%3D%22x%22%3E%3Cpath%20class%3D%22xgrid%20crisp%22%20transform%3D%22translate(262.5%2C0)%22%20d%3D%22M0%2C30v400%22%20style%3D%22stroke%3A%20rgb(0%2C%200%2C%200)%3B%20stroke-opacity%3A%200%3B%20stroke-width%3A%201px%3B%22%2F%3E%3Cpath%20class%3D%22xgrid%20crisp%22%20transform%3D%22translate(627.5%2C0)%22%20d%3D%22M0%2C30v400%22%20style%3D%22stroke%3A%20rgb(0%2C%200%2C%200)%3B%20stroke-opacity%3A%200%3B%20stroke-width%3A%201px%3B%22%2F%3E%3Cpath%20class%3D%22xgrid%20crisp%22%20transform%3D%22translate(992.5%2C0)%22%20d%3D%22M0%2C30v400%22%20style%3D%22stroke%3A%20rgb(0%2C%200%2C%200)%3B%20stroke-opacity%3A%200%3B%20stroke-width%3A%201px%3B%22%2F%3E%3C%2Fg%3E%3Cg%20class%3D%22y%22%3E%3Cpath%20class%3D%22ygrid%20crisp%22%20transform%3D%22translate(0%2C384.88)%22%20d%3D%22M80%2C0h1095%22%20style%3D%22stroke%3A%20rgb(89%2C%2089%2C%2089)%3B%20stroke-opacity%3A%200.25%3B%20stroke-width%3A%201px%3B%22%2F%3E%3Cpath%20class%3D%22ygrid%20crisp%22%20transform%3D%22translate(0%2C339.75)%22%20d%3D%22M80%2C0h1095%22%20style%3D%22stroke%3A%20rgb(89%2C%2089%2C%2089)%3B%20stroke-opacity%3A%200.25%3B%20stroke-width%3A%201px%3B%22%2F%3E%3Cpath%20class%3D%22ygrid%20crisp%22%20transform%3D%22translate(0%2C294.63)%22%20d%3D%22M80%2C0h1095%22%20style%3D%22stroke%3A%20rgb(89%2C%2089%2C%2089)%3B%20stroke-opacity%3A%200.25%3B%20stroke-width%3A%201px%3B%22%2F%3E%3Cpath%20class%3D%22ygrid%20crisp%22%20transform%3D%22translate(0%2C249.5)%22%20d%3D%22M80%2C0h1095%22%20style%3D%22stroke%3A%20rgb(89%2C%2089%2C%2089)%3B%20stroke-opacity%3A%200.25%3B%20stroke-width%3A%201px%3B%22%2F%3E%3Cpath%20class%3D%22ygrid%20crisp%22%20transform%3D%22translate(0%2C204.38)%22%20d%3D%22M80%2C0h1095%22%20style%3D%22stroke%3A%20rgb(89%2C%2089%2C%2089)%3B%20stroke-opacity%3A%200.25%3B%20stroke-width%3A%201px%3B%22%2F%3E%3Cpath%20class%3D%22ygrid%20crisp%22%20transform%3D%22translate(0%2C159.25)%22%20d%3D%22M80%2C0h1095%22%20style%3D%22stroke%3A%20rgb(89%2C%2089%2C%2089)%3B%20stroke-opacity%3A%200.25%3B%20stroke-width%3A%201px%3B%22%2F%3E%3Cpath%20class%3D%22ygrid%20crisp%22%20transform%3D%22translate(0%2C114.13)%22%20d%3D%22M80%2C0h1095%22%20style%3D%22stroke%3A%20rgb(89%2C%2089%2C%2089)%3B%20stroke-opacity%3A%200.25%3B%20stroke-width%3A%201px%3B%22%2F%3E%3Cpath%20class%3D%22ygrid%20crisp%22%20transform%3D%22translate(0%2C69)%22%20d%3D%22M80%2C0h1095%22%20style%3D%22stroke%3A%20rgb(89%2C%2089%2C%2089)%3B%20stroke-opacity%3A%200.25%3B%20stroke-width%3A%201px%3B%22%2F%3E%3C%2Fg%3E%3C%2Fg%3E%3Cg%20class%3D%22zerolinelayer%22%3E%3Cpath%20class%3D%22yzl%20zl%20crisp%22%20transform%3D%22translate(0%2C430)%22%20d%3D%22M80%2C0h1095%22%20style%3D%22stroke%3A%20rgb(89%2C%2089%2C%2089)%3B%20stroke-opacity%3A%200.5%3B%20stroke-width%3A%201px%3B%22%2F%3E%3C%2Fg%3E%3Cpath%20class%3D%22xlines-below%22%2F%3E%3Cpath%20class%3D%22ylines-below%22%2F%3E%3Cg%20class%3D%22overlines-below%22%2F%3E%3Cg%20class%3D%22xaxislayer-below%22%2F%3E%3Cg%20class%3D%22yaxislayer-below%22%2F%3E%3Cg%20class%3D%22overaxes-below%22%2F%3E%3Cg%20class%3D%22plot%22%20transform%3D%22translate(80%2C30)%22%20clip-path%3D%22url('%23clip9a74cbxyplot')%22%3E%3Cg%20class%3D%22barlayer%20mlayer%22%3E%3Cg%20class%3D%22trace%20bars%22%20style%3D%22opacity%3A%201%3B%22%3E%3Cg%20class%3D%22points%22%3E%3Cg%20class%3D%22point%22%3E%3Cpath%20d%3D%22M36.5%2C400V165.1H109.5V400Z%22%20style%3D%22vector-effect%3A%20non-scaling-stroke%3B%20opacity%3A%201%3B%20stroke-width%3A%200px%3B%20fill%3A%20rgb(78%2C%20121%2C%20167)%3B%20fill-opacity%3A%201%3B%22%2F%3E%3C%2Fg%3E%3Cg%20class%3D%22point%22%3E%3Cpath%20d%3D%22M401.5%2C400V101.14H474.5V400Z%22%20style%3D%22vector-effect%3A%20non-scaling-stroke%3B%20opacity%3A%201%3B%20stroke-width%3A%200px%3B%20fill%3A%20rgb(78%2C%20121%2C%20167)%3B%20fill-opacity%3A%201%3B%22%2F%3E%3C%2Fg%3E%3Cg%20class%3D%22point%22%3E%3Cpath%20d%3D%22M766.5%2C400V32.55H839.5V400Z%22%20style%3D%22vector-effect%3A%20non-scaling-stroke%3B%20opacity%3A%201%3B%20stroke-width%3A%200px%3B%20fill%3A%20rgb(78%2C%20121%2C%20167)%3B%20fill-opacity%3A%201%3B%22%2F%3E%3C%2Fg%3E%3C%2Fg%3E%3C%2Fg%3E%3Cg%20class%3D%22trace%20bars%22%20style%3D%22opacity%3A%201%3B%22%3E%3Cg%20class%3D%22points%22%3E%3Cg%20class%3D%22point%22%3E%3Cpath%20d%3D%22M109.5%2C400V125.02H182.5V400Z%22%20style%3D%22vector-effect%3A%20non-scaling-stroke%3B%20opacity%3A%201%3B%20stroke-width%3A%200px%3B%20fill%3A%20rgb(242%2C%20142%2C%2044)%3B%20fill-opacity%3A%201%3B%22%2F%3E%3C%2Fg%3E%3Cg%20class%3D%22point%22%3E%3Cpath%20d%3D%22M474.5%2C400V80.34H547.5V400Z%22%20style%3D%22vector-effect%3A%20non-scaling-stroke%3B%20opacity%3A%201%3B%20stroke-width%3A%200px%3B%20fill%3A%20rgb(242%2C%20142%2C%2044)%3B%20fill-opacity%3A%201%3B%22%2F%3E%3C%2Fg%3E%3Cg%20class%3D%22point%22%3E%3Cpath%20d%3D%22M839.5%2C400V27.2H912.5V400Z%22%20style%3D%22vector-effect%3A%20non-scaling-stroke%3B%20opacity%3A%201%3B%20stroke-width%3A%200px%3B%20fill%3A%20rgb(242%2C%20142%2C%2044)%3B%20fill-opacity%3A%201%3B%22%2F%3E%3C%2Fg%3E%3C%2Fg%3E%3C%2Fg%3E%3Cg%20class%3D%22trace%20bars%22%20style%3D%22opacity%3A%201%3B%22%3E%3Cg%20class%3D%22points%22%3E%3Cg%20class%3D%22point%22%3E%3Cpath%20d%3D%22M182.5%2C400V101.29H255.5V400Z%22%20style%3D%22vector-effect%3A%20non-scaling-stroke%3B%20opacity%3A%201%3B%20stroke-width%3A%200px%3B%20fill%3A%20rgb(225%2C%2087%2C%2089)%3B%20fill-opacity%3A%201%3B%22%2F%3E%3C%2Fg%3E%3Cg%20class%3D%22point%22%3E%3Cpath%20d%3D%22M547.5%2C400V63.82H620.5V400Z%22%20style%3D%22vector-effect%3A%20non-scaling-stroke%3B%20opacity%3A%201%3B%20stroke-width%3A%200px%3B%20fill%3A%20rgb(225%2C%2087%2C%2089)%3B%20fill-opacity%3A%201%3B%22%2F%3E%3C%2Fg%3E%3Cg%20class%3D%22point%22%3E%3Cpath%20d%3D%22M912.5%2C400V20H985.5V400Z%22%20style%3D%22vector-effect%3A%20non-scaling-stroke%3B%20opacity%3A%201%3B%20stroke-width%3A%200px%3B%20fill%3A%20rgb(225%2C%2087%2C%2089)%3B%20fill-opacity%3A%201%3B%22%2F%3E%3C%2Fg%3E%3C%2Fg%3E%3C%2Fg%3E%3Cg%20class%3D%22trace%20bars%22%20style%3D%22opacity%3A%201%3B%22%3E%3Cg%20class%3D%22points%22%3E%3Cg%20class%3D%22point%22%3E%3Cpath%20d%3D%22M255.5%2C400V75.33H328.5V400Z%22%20style%3D%22vector-effect%3A%20non-scaling-stroke%3B%20opacity%3A%201%3B%20stroke-width%3A%200px%3B%20fill%3A%20rgb(118%2C%20183%2C%20178)%3B%20fill-opacity%3A%201%3B%22%2F%3E%3C%2Fg%3E%3Cg%20class%3D%22point%22%3E%3Cpath%20d%3D%22M620.5%2C400V54.29H693.5V400Z%22%20style%3D%22vector-effect%3A%20non-scaling-stroke%3B%20opacity%3A%201%3B%20stroke-width%3A%200px%3B%20fill%3A%20rgb(118%2C%20183%2C%20178)%3B%20fill-opacity%3A%201%3B%22%2F%3E%3C%2Fg%3E%3Cg%20class%3D%22point%22%3E%3Cpath%20d%3D%22M985.5%2C400V21.93H1058.5V400Z%22%20style%3D%22vector-effect%3A%20non-scaling-stroke%3B%20opacity%3A%201%3B%20stroke-width%3A%200px%3B%20fill%3A%20rgb(118%2C%20183%2C%20178)%3B%20fill-opacity%3A%201%3B%22%2F%3E%3C%2Fg%3E%3C%2Fg%3E%3C%2Fg%3E%3C%2Fg%3E%3C%2Fg%3E%3Cg%20class%3D%22overplot%22%2F%3E%3Cpath%20class%3D%22xlines-above%20crisp%22%20style%3D%22fill%3A%20none%3B%20stroke-width%3A%201px%3B%20stroke%3A%20rgb(89%2C%2089%2C%2089)%3B%20stroke-opacity%3A%200.25%3B%22%20d%3D%22M79%2C430.5H1175%22%2F%3E%3Cpath%20class%3D%22ylines-above%20crisp%22%20style%3D%22fill%3A%20none%3B%20stroke-width%3A%201px%3B%20stroke%3A%20rgb(89%2C%2089%2C%2089)%3B%20stroke-opacity%3A%200.25%3B%22%20d%3D%22M79.5%2C30V430%22%2F%3E%3Cg%20class%3D%22overlines-above%22%2F%3E%3Cg%20class%3D%22xaxislayer-above%22%3E%3Cg%20class%3D%22xtick%22%3E%3Ctext%20text-anchor%3D%22middle%22%20x%3D%220%22%20y%3D%22445.4%22%20data-unformatted%3D%22Basic%22%20data-math%3D%22N%22%20transform%3D%22translate(262.5%2C0)%22%20style%3D%22font-family%3A%20%26quot%3BOpen%20Sans%26quot%3B%2C%20verdana%2C%20arial%2C%20sans-serif%3B%20font-size%3A%2012px%3B%20fill%3A%20rgb(89%2C%2089%2C%2089)%3B%20fill-opacity%3A%201%3B%20white-space%3A%20pre%3B%22%3EBasic%3C%2Ftext%3E%3C%2Fg%3E%3Cg%20class%3D%22xtick%22%3E%3Ctext%20text-anchor%3D%22middle%22%20x%3D%220%22%20y%3D%22445.4%22%20data-unformatted%3D%22Extended%22%20data-math%3D%22N%22%20transform%3D%22translate(627.5%2C0)%22%20style%3D%22font-family%3A%20%26quot%3BOpen%20Sans%26quot%3B%2C%20verdana%2C%20arial%2C%20sans-serif%3B%20font-size%3A%2012px%3B%20fill%3A%20rgb(89%2C%2089%2C%2089)%3B%20fill-opacity%3A%201%3B%20white-space%3A%20pre%3B%22%3EExtended%3C%2Ftext%3E%3C%2Fg%3E%3Cg%20class%3D%22xtick%22%3E%3Ctext%20text-anchor%3D%22middle%22%20x%3D%220%22%20y%3D%22445.4%22%20data-unformatted%3D%22Premium%22%20data-math%3D%22N%22%20transform%3D%22translate(992.5%2C0)%22%20style%3D%22font-family%3A%20%26quot%3BOpen%20Sans%26quot%3B%2C%20verdana%2C%20arial%2C%20sans-serif%3B%20font-size%3A%2012px%3B%20fill%3A%20rgb(89%2C%2089%2C%2089)%3B%20fill-opacity%3A%201%3B%20white-space%3A%20pre%3B%22%3EPremium%3C%2Ftext%3E%3C%2Fg%3E%3C%2Fg%3E%3Cg%20class%3D%22yaxislayer-above%22%3E%3Cg%20class%3D%22ytick%22%3E%3Ctext%20text-anchor%3D%22end%22%20x%3D%2276.6%22%20y%3D%224.199999999999999%22%20data-unformatted%3D%220%22%20data-math%3D%22N%22%20transform%3D%22translate(0%2C430)%22%20style%3D%22font-family%3A%20%26quot%3BOpen%20Sans%26quot%3B%2C%20verdana%2C%20arial%2C%20sans-serif%3B%20font-size%3A%2012px%3B%20fill%3A%20rgb(89%2C%2089%2C%2089)%3B%20fill-opacity%3A%201%3B%20white-space%3A%20pre%3B%22%3E0%3C%2Ftext%3E%3C%2Fg%3E%3Cg%20class%3D%22ytick%22%3E%3Ctext%20text-anchor%3D%22end%22%20x%3D%2276.6%22%20y%3D%224.199999999999999%22%20data-unformatted%3D%220.1%22%20data-math%3D%22N%22%20transform%3D%22translate(0%2C384.88)%22%20style%3D%22font-family%3A%20%26quot%3BOpen%20Sans%26quot%3B%2C%20verdana%2C%20arial%2C%20sans-serif%3B%20font-size%3A%2012px%3B%20fill%3A%20rgb(89%2C%2089%2C%2089)%3B%20fill-opacity%3A%201%3B%20white-space%3A%20pre%3B%22%3E0.1%3C%2Ftext%3E%3C%2Fg%3E%3Cg%20class%3D%22ytick%22%3E%3Ctext%20text-anchor%3D%22end%22%20x%3D%2276.6%22%20y%3D%224.199999999999999%22%20data-unformatted%3D%220.2%22%20data-math%3D%22N%22%20transform%3D%22translate(0%2C339.75)%22%20style%3D%22font-family%3A%20%26quot%3BOpen%20Sans%26quot%3B%2C%20verdana%2C%20arial%2C%20sans-serif%3B%20font-size%3A%2012px%3B%20fill%3A%20rgb(89%2C%2089%2C%2089)%3B%20fill-opacity%3A%201%3B%20white-space%3A%20pre%3B%22%3E0.2%3C%2Ftext%3E%3C%2Fg%3E%3Cg%20class%3D%22ytick%22%3E%3Ctext%20text-anchor%3D%22end%22%20x%3D%2276.6%22%20y%3D%224.199999999999999%22%20data-unformatted%3D%220.3%22%20data-math%3D%22N%22%20transform%3D%22translate(0%2C294.63)%22%20style%3D%22font-family%3A%20%26quot%3BOpen%20Sans%26quot%3B%2C%20verdana%2C%20arial%2C%20sans-serif%3B%20font-size%3A%2012px%3B%20fill%3A%20rgb(89%2C%2089%2C%2089)%3B%20fill-opacity%3A%201%3B%20white-space%3A%20pre%3B%22%3E0.3%3C%2Ftext%3E%3C%2Fg%3E%3Cg%20class%3D%22ytick%22%3E%3Ctext%20text-anchor%3D%22end%22%20x%3D%2276.6%22%20y%3D%224.199999999999999%22%20data-unformatted%3D%220.4%22%20data-math%3D%22N%22%20transform%3D%22translate(0%2C249.5)%22%20style%3D%22font-family%3A%20%26quot%3BOpen%20Sans%26quot%3B%2C%20verdana%2C%20arial%2C%20sans-serif%3B%20font-size%3A%2012px%3B%20fill%3A%20rgb(89%2C%2089%2C%2089)%3B%20fill-opacity%3A%201%3B%20white-space%3A%20pre%3B%22%3E0.4%3C%2Ftext%3E%3C%2Fg%3E%3Cg%20class%3D%22ytick%22%3E%3Ctext%20text-anchor%3D%22end%22%20x%3D%2276.6%22%20y%3D%224.199999999999999%22%20data-unformatted%3D%220.5%22%20data-math%3D%22N%22%20transform%3D%22translate(0%2C204.38)%22%20style%3D%22font-family%3A%20%26quot%3BOpen%20Sans%26quot%3B%2C%20verdana%2C%20arial%2C%20sans-serif%3B%20font-size%3A%2012px%3B%20fill%3A%20rgb(89%2C%2089%2C%2089)%3B%20fill-opacity%3A%201%3B%20white-space%3A%20pre%3B%22%3E0.5%3C%2Ftext%3E%3C%2Fg%3E%3Cg%20class%3D%22ytick%22%3E%3Ctext%20text-anchor%3D%22end%22%20x%3D%2276.6%22%20y%3D%224.199999999999999%22%20data-unformatted%3D%220.6%22%20data-math%3D%22N%22%20transform%3D%22translate(0%2C159.25)%22%20style%3D%22font-family%3A%20%26quot%3BOpen%20Sans%26quot%3B%2C%20verdana%2C%20arial%2C%20sans-serif%3B%20font-size%3A%2012px%3B%20fill%3A%20rgb(89%2C%2089%2C%2089)%3B%20fill-opacity%3A%201%3B%20white-space%3A%20pre%3B%22%3E0.6%3C%2Ftext%3E%3C%2Fg%3E%3Cg%20class%3D%22ytick%22%3E%3Ctext%20text-anchor%3D%22end%22%20x%3D%2276.6%22%20y%3D%224.199999999999999%22%20data-unformatted%3D%220.7%22%20data-math%3D%22N%22%20transform%3D%22translate(0%2C114.13)%22%20style%3D%22font-family%3A%20%26quot%3BOpen%20Sans%26quot%3B%2C%20verdana%2C%20arial%2C%20sans-serif%3B%20font-size%3A%2012px%3B%20fill%3A%20rgb(89%2C%2089%2C%2089)%3B%20fill-opacity%3A%201%3B%20white-space%3A%20pre%3B%22%3E0.7%3C%2Ftext%3E%3C%2Fg%3E%3Cg%20class%3D%22ytick%22%3E%3Ctext%20text-anchor%3D%22end%22%20x%3D%2276.6%22%20y%3D%224.199999999999999%22%20data-unformatted%3D%220.8%22%20data-math%3D%22N%22%20transform%3D%22translate(0%2C69)%22%20style%3D%22font-family%3A%20%26quot%3BOpen%20Sans%26quot%3B%2C%20verdana%2C%20arial%2C%20sans-serif%3B%20font-size%3A%2012px%3B%20fill%3A%20rgb(89%2C%2089%2C%2089)%3B%20fill-opacity%3A%201%3B%20white-space%3A%20pre%3B%22%3E0.8%3C%2Ftext%3E%3C%2Fg%3E%3C%2Fg%3E%3Cg%20class%3D%22overaxes-above%22%2F%3E%3C%2Fg%3E%3C%2Fg%3E%3Cg%20class%3D%22polarlayer%22%2F%3E%3Cg%20class%3D%22ternarylayer%22%2F%3E%3Cg%20class%3D%22geolayer%22%2F%3E%3Cg%20class%3D%22funnelarealayer%22%2F%3E%3Cg%20class%3D%22pielayer%22%2F%3E%3Cg%20class%3D%22treemaplayer%22%2F%3E%3Cg%20class%3D%22sunburstlayer%22%2F%3E%3Cg%20class%3D%22glimages%22%2F%3E%3Cdefs%20id%3D%22topdefs-9a74cb%22%3E%3Cg%20class%3D%22clips%22%2F%3E%3CclipPath%20id%3D%22legend9a74cb%22%3E%3Crect%20width%3D%22113%22%20height%3D%22116%22%20x%3D%220%22%20y%3D%220%22%2F%3E%3C%2FclipPath%3E%3C%2Fdefs%3E%3Cg%20class%3D%22indicatorlayer%22%2F%3E%3Cg%20class%3D%22layer-above%22%3E%3Cg%20class%3D%22imagelayer%22%2F%3E%3Cg%20class%3D%22shapelayer%22%2F%3E%3C%2Fg%3E%3Cg%20class%3D%22infolayer%22%3E%3Cg%20class%3D%22legend%22%20pointer-events%3D%22all%22%20transform%3D%22translate(1196.9%2C30)%22%3E%3Crect%20class%3D%22bg%22%20shape-rendering%3D%22crispEdges%22%20style%3D%22stroke%3A%20rgb(68%2C%2068%2C%2068)%3B%20stroke-opacity%3A%201%3B%20fill%3A%20rgb(255%2C%20255%2C%20255)%3B%20fill-opacity%3A%201%3B%20stroke-width%3A%200px%3B%22%20width%3D%22113%22%20height%3D%22116%22%20x%3D%220%22%20y%3D%220%22%2F%3E%3Cg%20class%3D%22scrollbox%22%20transform%3D%22%22%20clip-path%3D%22url('%23legend9a74cb')%22%3E%3Cg%20class%3D%22groups%22%20transform%3D%22%22%3E%3Cg%20class%3D%22traces%22%20style%3D%22opacity%3A%201%3B%22%20transform%3D%22translate(0%2C14.5)%22%3E%3Ctext%20class%3D%22legendtext%22%20text-anchor%3D%22start%22%20x%3D%2240%22%20y%3D%224.680000000000001%22%20data-unformatted%3D%22Agent%22%20data-math%3D%22N%22%20style%3D%22font-family%3A%20%26quot%3BOpen%20Sans%26quot%3B%2C%20verdana%2C%20arial%2C%20sans-serif%3B%20font-size%3A%2012px%3B%20fill%3A%20rgb(89%2C%2089%2C%2089)%3B%20fill-opacity%3A%201%3B%20white-space%3A%20pre%3B%22%3EAgent%3C%2Ftext%3E%3Cg%20class%3D%22layers%22%20style%3D%22opacity%3A%201%3B%22%3E%3Cg%20class%3D%22legendfill%22%2F%3E%3Cg%20class%3D%22legendlines%22%2F%3E%3Cg%20class%3D%22legendsymbols%22%3E%3Cg%20class%3D%22legendpoints%22%3E%3Cpath%20class%3D%22legendundefined%22%20d%3D%22M6%2C6H-6V-6H6Z%22%20transform%3D%22translate(20%2C0)%22%20style%3D%22stroke-width%3A%200px%3B%20fill%3A%20rgb(78%2C%20121%2C%20167)%3B%20fill-opacity%3A%201%3B%22%2F%3E%3C%2Fg%3E%3C%2Fg%3E%3C%2Fg%3E%3Crect%20class%3D%22legendtoggle%22%20pointer-events%3D%22all%22%20x%3D%220%22%20y%3D%22-9.5%22%20width%3D%22107.388671875%22%20height%3D%2219%22%20style%3D%22cursor%3A%20pointer%3B%20fill%3A%20rgb(0%2C%200%2C%200)%3B%20fill-opacity%3A%200%3B%22%2F%3E%3C%2Fg%3E%3C%2Fg%3E%3Cg%20class%3D%22groups%22%20transform%3D%22translate(0%2C10)%22%3E%3Cg%20class%3D%22traces%22%20style%3D%22opacity%3A%201%3B%22%20transform%3D%22translate(0%2C33.5)%22%3E%3Ctext%20class%3D%22legendtext%22%20text-anchor%3D%22start%22%20x%3D%2240%22%20y%3D%224.680000000000001%22%20data-unformatted%3D%22Branch%22%20data-math%3D%22N%22%20style%3D%22font-family%3A%20%26quot%3BOpen%20Sans%26quot%3B%2C%20verdana%2C%20arial%2C%20sans-serif%3B%20font-size%3A%2012px%3B%20fill%3A%20rgb(89%2C%2089%2C%2089)%3B%20fill-opacity%3A%201%3B%20white-space%3A%20pre%3B%22%3EBranch%3C%2Ftext%3E%3Cg%20class%3D%22layers%22%20style%3D%22opacity%3A%201%3B%22%3E%3Cg%20class%3D%22legendfill%22%2F%3E%3Cg%20class%3D%22legendlines%22%2F%3E%3Cg%20class%3D%22legendsymbols%22%3E%3Cg%20class%3D%22legendpoints%22%3E%3Cpath%20class%3D%22legendundefined%22%20d%3D%22M6%2C6H-6V-6H6Z%22%20transform%3D%22translate(20%2C0)%22%20style%3D%22stroke-width%3A%200px%3B%20fill%3A%20rgb(242%2C%20142%2C%2044)%3B%20fill-opacity%3A%201%3B%22%2F%3E%3C%2Fg%3E%3C%2Fg%3E%3C%2Fg%3E%3Crect%20class%3D%22legendtoggle%22%20pointer-events%3D%22all%22%20x%3D%220%22%20y%3D%22-9.5%22%20width%3D%22107.388671875%22%20height%3D%2219%22%20style%3D%22cursor%3A%20pointer%3B%20fill%3A%20rgb(0%2C%200%2C%200)%3B%20fill-opacity%3A%200%3B%22%2F%3E%3C%2Fg%3E%3C%2Fg%3E%3Cg%20class%3D%22groups%22%20transform%3D%22translate(0%2C20)%22%3E%3Cg%20class%3D%22traces%22%20style%3D%22opacity%3A%201%3B%22%20transform%3D%22translate(0%2C52.5)%22%3E%3Ctext%20class%3D%22legendtext%22%20text-anchor%3D%22start%22%20x%3D%2240%22%20y%3D%224.680000000000001%22%20data-unformatted%3D%22Call%20Center%22%20data-math%3D%22N%22%20style%3D%22font-family%3A%20%26quot%3BOpen%20Sans%26quot%3B%2C%20verdana%2C%20arial%2C%20sans-serif%3B%20font-size%3A%2012px%3B%20fill%3A%20rgb(89%2C%2089%2C%2089)%3B%20fill-opacity%3A%201%3B%20white-space%3A%20pre%3B%22%3ECall%20Center%3C%2Ftext%3E%3Cg%20class%3D%22layers%22%20style%3D%22opacity%3A%201%3B%22%3E%3Cg%20class%3D%22legendfill%22%2F%3E%3Cg%20class%3D%22legendlines%22%2F%3E%3Cg%20class%3D%22legendsymbols%22%3E%3Cg%20class%3D%22legendpoints%22%3E%3Cpath%20class%3D%22legendundefined%22%20d%3D%22M6%2C6H-6V-6H6Z%22%20transform%3D%22translate(20%2C0)%22%20style%3D%22stroke-width%3A%200px%3B%20fill%3A%20rgb(225%2C%2087%2C%2089)%3B%20fill-opacity%3A%201%3B%22%2F%3E%3C%2Fg%3E%3C%2Fg%3E%3C%2Fg%3E%3Crect%20class%3D%22legendtoggle%22%20pointer-events%3D%22all%22%20x%3D%220%22%20y%3D%22-9.5%22%20width%3D%22107.388671875%22%20height%3D%2219%22%20style%3D%22cursor%3A%20pointer%3B%20fill%3A%20rgb(0%2C%200%2C%200)%3B%20fill-opacity%3A%200%3B%22%2F%3E%3C%2Fg%3E%3C%2Fg%3E%3Cg%20class%3D%22groups%22%20transform%3D%22translate(0%2C30)%22%3E%3Cg%20class%3D%22traces%22%20style%3D%22opacity%3A%201%3B%22%20transform%3D%22translate(0%2C71.5)%22%3E%3Ctext%20class%3D%22legendtext%22%20text-anchor%3D%22start%22%20x%3D%2240%22%20y%3D%224.680000000000001%22%20data-unformatted%3D%22Web%22%20data-math%3D%22N%22%20style%3D%22font-family%3A%20%26quot%3BOpen%20Sans%26quot%3B%2C%20verdana%2C%20arial%2C%20sans-serif%3B%20font-size%3A%2012px%3B%20fill%3A%20rgb(89%2C%2089%2C%2089)%3B%20fill-opacity%3A%201%3B%20white-space%3A%20pre%3B%22%3EWeb%3C%2Ftext%3E%3Cg%20class%3D%22layers%22%20style%3D%22opacity%3A%201%3B%22%3E%3Cg%20class%3D%22legendfill%22%2F%3E%3Cg%20class%3D%22legendlines%22%2F%3E%3Cg%20class%3D%22legendsymbols%22%3E%3Cg%20class%3D%22legendpoints%22%3E%3Cpath%20class%3D%22legendundefined%22%20d%3D%22M6%2C6H-6V-6H6Z%22%20transform%3D%22translate(20%2C0)%22%20style%3D%22stroke-width%3A%200px%3B%20fill%3A%20rgb(118%2C%20183%2C%20178)%3B%20fill-opacity%3A%201%3B%22%2F%3E%3C%2Fg%3E%3C%2Fg%3E%3C%2Fg%3E%3Crect%20class%3D%22legendtoggle%22%20pointer-events%3D%22all%22%20x%3D%220%22%20y%3D%22-9.5%22%20width%3D%22107.388671875%22%20height%3D%2219%22%20style%3D%22cursor%3A%20pointer%3B%20fill%3A%20rgb(0%2C%200%2C%200)%3B%20fill-opacity%3A%200%3B%22%2F%3E%3C%2Fg%3E%3C%2Fg%3E%3C%2Fg%3E%3Crect%20class%3D%22scrollbar%22%20rx%3D%2220%22%20ry%3D%223%22%20width%3D%220%22%20height%3D%220%22%20style%3D%22fill%3A%20rgb(128%2C%20139%2C%20164)%3B%20fill-opacity%3A%201%3B%22%20x%3D%220%22%20y%3D%220%22%2F%3E%3C%2Fg%3E%3Cg%20class%3D%22g-gtitle%22%2F%3E%3Cg%20class%3D%22g-xtitle%22%2F%3E%3Cg%20class%3D%22g-ytitle%22%2F%3E%3C%2Fg%3E%3Cg%20class%3D%22menulayer%22%2F%3E%3Cg%20class%3D%22zoomlayer%22%2F%3E%3Cg%20class%3D%22hoverlayer%22%2F%3E%3C%2Fsvg%3E\">"
      ],
      "text/plain": [
       "Open the notebook in JupyterLab with the Atoti extension enabled to build this widget."
      ]
     },
     "metadata": {},
     "output_type": "display_data"
    }
   ],
   "source": [
    "session.visualize(\"Sales propotion by channel and coverage type\")"
   ]
  },
  {
   "cell_type": "code",
   "execution_count": 27,
   "id": "bca735b8-689b-437e-b00e-9a691ed59506",
   "metadata": {
    "atoti": {
     "widget": {
      "mapping": {
       "groupBy": [
        "[predictions].[State].[State]"
       ],
       "horizontalSubplots": [],
       "splitBy": [
        "[predictions].[Location_Code].[Location_Code]"
       ],
       "values": [
        "[Measures].[revenue_realised]"
       ],
       "verticalSubplots": []
      },
      "name": "Sales by State",
      "query": {
       "mdx": "SELECT NON EMPTY {[Measures].[revenue_realised]} ON COLUMNS, NON EMPTY Crossjoin(Hierarchize(Descendants({[predictions].[State].[AllMember]}, 1, SELF_AND_BEFORE)), Hierarchize(Descendants({[predictions].[Location_Code].[AllMember]}, 1, SELF_AND_BEFORE))) ON ROWS FROM [predictions] CELL PROPERTIES VALUE, FORMATTED_VALUE, BACK_COLOR, FORE_COLOR, FONT_FLAGS",
       "updateMode": "once"
      },
      "serverKey": "default",
      "widgetKey": "plotly-tree-map"
     }
    },
    "tags": []
   },
   "outputs": [
    {
     "data": {
      "application/vnd.atoti.widget.v0+json": {
       "name": "Revenue realized by State and location code",
       "sessionId": "1685500978_82OHXW",
       "sessionLocation": {
        "https": false,
        "port": 54578
       },
       "widgetCreationCode": "session.visualize()"
      },
      "text/html": [
       "<img src=\"data:image/svg+xml;charset=utf8,%3C%3Fxml%20version%3D%221.0%22%20standalone%3D%22no%22%3F%3E%3Csvg%20xmlns%3D%22http%3A%2F%2Fwww.w3.org%2F2000%2Fsvg%22%20height%3D%22352%22%20width%3D%221310%22%3E%3CforeignObject%20width%3D%22100%25%22%20height%3D%22100%25%22%20x%3D%220%22%20y%3D%220%22%3E%3Cstyle%20xmlns%3D%22http%3A%2F%2Fwww.w3.org%2F1999%2Fxhtml%22%20type%3D%22text%2Fcss%22%3E*%2C%20%3A%3Abefore%2C%20%3A%3Aafter%20%7Bbox-sizing%3A%20unset%7D%0Aa%20%7Bcolor%3A%20unset%3B%20text-decoration-line%3A%20unset%3B%20text-decoration-thickness%3A%20unset%3B%20text-decoration-style%3A%20unset%3B%20text-decoration-color%3A%20unset%7D%0A.ant-root%20%5Bclass%5E%3D%22ant-%22%5D%2C%20.ant-root%20%5Bclass*%3D%22ant-%22%5D%2C%20.ant-root%20%5Bclass%5E%3D%22ant-%22%5D%20*%2C%20.ant-root%20%5Bclass*%3D%22ant-%22%5D%20*%2C%20.ant-root%20%5Bclass%5E%3D%22ant-%22%5D%20%3A%3Abefore%2C%20.ant-root%20%5Bclass*%3D%22ant-%22%5D%20%3A%3Abefore%2C%20.ant-root%20%5Bclass%5E%3D%22ant-%22%5D%20%3A%3Aafter%2C%20.ant-root%20%5Bclass*%3D%22ant-%22%5D%20%3A%3Aafter%20%7Bbox-sizing%3A%20border-box%7D%0A.ant-root%2C%20.ant-root%20%7Bwidth%3A%20100%25%3B%20height%3A%20100%25%7D%0A.ant-root%20*%2C%20.ant-root%20%3A%3Abefore%2C%20.ant-root%20%3A%3Aafter%20%7Bbox-sizing%3A%20border-box%7D%0A.ant-root%20%7Btext-size-adjust%3A%20100%25%3B%20-webkit-tap-highlight-color%3A%20rgba(0%2C%200%2C%200%2C%200)%3B%20font-family%3A%20-apple-system%2C%20BlinkMacSystemFont%2C%20%22Segoe%20UI%22%2C%20Roboto%2C%20%22Helvetica%20Neue%22%2C%20Arial%2C%20%22Noto%20Sans%22%2C%20sans-serif%2C%20%22Apple%20Color%20Emoji%22%2C%20%22Segoe%20UI%20Emoji%22%2C%20%22Segoe%20UI%20Symbol%22%2C%20%22Noto%20Color%20Emoji%22%3B%20line-height%3A%201.66667%3B%20color%3A%20rgb(89%2C%2089%2C%2089)%3B%20font-variant-ligatures%3A%20normal%3B%20font-variant-numeric%3A%20tabular-nums%3B%20font-variant-east-asian%3A%20normal%3B%20font-variant-caps%3A%20normal%3B%20font-variant-alternates%3A%20normal%3B%20background-color%3A%20rgb(255%2C%20255%2C%20255)%3B%20margin-top%3A%200px%3B%20margin-right%3A%200px%3B%20margin-bottom%3A%200px%3B%20margin-left%3A%200px%3B%20font-size%3A%2012px%3B%20--antd-wave-shadow-color%3A%20%231890ff%3B%20--scroll-bar%3A%200%7D%0A.ant-root%20a%20%7Bcolor%3A%20rgb(24%2C%20144%2C%20255)%3B%20cursor%3A%20pointer%3B%20background-color%3A%20rgba(0%2C%200%2C%200%2C%200)%3B%20outline-color%3A%20initial%3B%20outline-style%3A%20none%3B%20outline-width%3A%20initial%3B%20text-decoration-line%3A%20none%3B%20text-decoration-thickness%3A%20initial%3B%20text-decoration-style%3A%20initial%3B%20text-decoration-color%3A%20initial%3B%20transition-duration%3A%200.3s%3B%20transition-timing-function%3A%20ease%3B%20transition-delay%3A%200s%3B%20transition-property%3A%20color%7D%0A.ant-root%20svg%3Anot(%3Aroot)%20%7Boverflow-x%3A%20hidden%3B%20overflow-y%3A%20hidden%7D%0A.ant-root%20a%2C%20.ant-root%20area%2C%20.ant-root%20button%2C%20.ant-root%20%5Brole%3D%22button%22%5D%2C%20.ant-root%20input%3Anot(%5Btype%3D%22range%22%5D)%2C%20.ant-root%20label%2C%20.ant-root%20select%2C%20.ant-root%20summary%2C%20.ant-root%20textarea%20%7Btouch-action%3A%20manipulation%7D%0A.css-12ebr42-AWidget%20%7Bheight%3A%20100%25%7D%0A.css-1b1raxz-DefaultWidgetLoadingOverlay%20%7Bdisplay%3A%20flex%3B%20height%3A%20100%25%3B%20-webkit-box-pack%3A%20center%3B%20justify-content%3A%20center%3B%20position%3A%20absolute%3B%20width%3A%20100%25%3B%20-webkit-box-align%3A%20center%3B%20align-items%3A%20center%3B%20pointer-events%3A%20none%3B%20z-index%3A%202%7D%0A.css-34a2ml-DefaultWidgetLoadingOverlay%20%7Bbackground-image%3A%20initial%3B%20background-position-x%3A%20initial%3B%20background-position-y%3A%20initial%3B%20background-size%3A%20initial%3B%20background-repeat-x%3A%20initial%3B%20background-repeat-y%3A%20initial%3B%20background-attachment%3A%20initial%3B%20background-origin%3A%20initial%3B%20background-clip%3A%20initial%3B%20background-color%3A%20transparent%3B%20width%3A%20calc(100%25%20-%204px)%3B%20height%3A%20calc(100%25%20-%204px)%7D%0A.css-13w0jw1-WidgetLoadingOverlay-ChartWithLoadingOverlay%20%7Bposition%3A%20relative%3B%20height%3A%20100%25%7D%0A.css-1u8fyhz-ChartWithMetaData%20%7Bheight%3A%20100%25%7D%0A.css-znpfyj-Plot%20%7Bheight%3A%20100%25%3B%20position%3A%20relative%3B%20width%3A%20100%25%7D%0A.css-mb8m0v-Plot%20%7Bposition%3A%20absolute%3B%20top%3A%200px%3B%20bottom%3A%200px%3B%20left%3A%200px%3B%20right%3A%200px%7D%0A.css-mb8m0v-Plot%20.js-plotly-plot%20%7Bheight%3A%20100%25%7D%0A.js-plotly-plot%20.plotly%20.modebar-btn%20svg%20%7Bposition%3A%20relative%3B%20top%3A%202px%7D%0A.js-plotly-plot%20.plotly%20.modebar-btn%20%7Bposition%3A%20relative%3B%20font-size%3A%2016px%3B%20padding-top%3A%203px%3B%20padding-right%3A%204px%3B%20padding-bottom%3A%203px%3B%20padding-left%3A%204px%3B%20height%3A%2022px%3B%20cursor%3A%20pointer%3B%20line-height%3A%20normal%3B%20box-sizing%3A%20border-box%7D%0A.js-plotly-plot%20.plotly%20.modebar-group%20%7Bfloat%3A%20left%3B%20display%3A%20inline-block%3B%20box-sizing%3A%20border-box%3B%20padding-left%3A%208px%3B%20position%3A%20relative%3B%20vertical-align%3A%20middle%3B%20white-space%3A%20nowrap%7D%0A.js-plotly-plot%20.plotly%20.modebar--hover%20%26gt%3B%20%3Anot(.watermark)%20%7Bopacity%3A%200%3B%20transition-duration%3A%200.3s%3B%20transition-timing-function%3A%20ease%3B%20transition-delay%3A%200s%3B%20transition-property%3A%20opacity%7D%0A.js-plotly-plot%20.plotly%20.ease-bg%20%7Btransition-duration%3A%200.3s%3B%20transition-timing-function%3A%20ease%3B%20transition-delay%3A%200s%3B%20transition-property%3A%20background-color%7D%0A.js-plotly-plot%20.plotly%20.modebar%20%7Bposition%3A%20absolute%3B%20top%3A%202px%3B%20right%3A%202px%7D%0A.js-plotly-plot%20.plotly%20.cursor-pointer%20%7Bcursor%3A%20pointer%7D%0A.js-plotly-plot%20.plotly%20.main-svg%20.draglayer%20%7Bpointer-events%3A%20all%7D%0A.js-plotly-plot%20.plotly%20.main-svg%20%7Bposition%3A%20absolute%3B%20top%3A%200px%3B%20left%3A%200px%3B%20pointer-events%3A%20none%7D%0A.js-plotly-plot%20.plotly%20svg%20%7Boverflow-x%3A%20hidden%3B%20overflow-y%3A%20hidden%7D%0A.js-plotly-plot%20.plotly%20.user-select-none%20%7Buser-select%3A%20none%7D%0A.js-plotly-plot%20.plotly%20a%20%7Btext-decoration-line%3A%20none%3B%20text-decoration-thickness%3A%20initial%3B%20text-decoration-style%3A%20initial%3B%20text-decoration-color%3A%20initial%7D%0A.js-plotly-plot%20.plotly%2C%20.js-plotly-plot%20.plotly%20div%20%7Bdirection%3A%20ltr%3B%20font-family%3A%20%22Open%20Sans%22%2C%20verdana%2C%20arial%2C%20sans-serif%3B%20margin-top%3A%200px%3B%20margin-right%3A%200px%3B%20margin-bottom%3A%200px%3B%20margin-left%3A%200px%3B%20padding-top%3A%200px%3B%20padding-right%3A%200px%3B%20padding-bottom%3A%200px%3B%20padding-left%3A%200px%7D%0A%23modebar-2e547b%20.modebar-btn%20.icon%20path%20%7Bfill%3A%20rgba(68%2C%2068%2C%2068%2C%200.3)%7D%0A*%20%7B-ms-overflow-style%3A%20none%3B%20scrollbar-width%3A%20none%7D%0A*%3A%3A-webkit-scrollbar%20%7Bdisplay%3A%20none%7D%0A.atoti-hidden-in-snapshot%20%7Bdisplay%3A%20none%7D%3C%2Fstyle%3E%3Cdiv%20xmlns%3D%22http%3A%2F%2Fwww.w3.org%2F1999%2Fxhtml%22%20style%3D%22height%3A%20352px%3B%20width%3A%201310px%3B%22%3E%3Cdiv%20class%3D%22ant-root%20css-0%22%3E%3Cdiv%20class%3D%22ant-dropdown-trigger%20css-12ebr42-AWidget%22%3E%3Cdiv%20class%3D%22css-13w0jw1-WidgetLoadingOverlay-ChartWithLoadingOverlay%22%3E%3Cdiv%20class%3D%22css-1b1raxz-DefaultWidgetLoadingOverlay%22%3E%3Cdiv%20class%3D%22css-34a2ml-DefaultWidgetLoadingOverlay%22%3E%3C%2Fdiv%3E%3C%2Fdiv%3E%3Cdiv%20class%3D%22css-1u8fyhz-ChartWithMetaData%22%3E%3Cdiv%20tabindex%3D%220%22%20class%3D%22css-znpfyj-Plot%22%3E%3Cdiv%20class%3D%22css-mb8m0v-Plot%22%3E%3Cdiv%20style%3D%22position%3A%20relative%3B%20display%3A%20inline-block%3B%22%20class%3D%22js-plotly-plot%22%3E%3Cdiv%20class%3D%22plot-container%20plotly%22%3E%3Cdiv%20class%3D%22user-select-none%20svg-container%22%20style%3D%22position%3A%20relative%3B%20width%3A%201310px%3B%20height%3A%20352px%3B%22%3E%3Csvg%20class%3D%22main-svg%22%20xmlns%3D%22http%3A%2F%2Fwww.w3.org%2F2000%2Fsvg%22%20xmlns%3Axlink%3D%22http%3A%2F%2Fwww.w3.org%2F1999%2Fxlink%22%20width%3D%221310%22%20height%3D%22352%22%20style%3D%22background%3A%20rgb(255%2C%20255%2C%20255)%3B%22%3E%3Cdefs%20id%3D%22defs-2e547b%22%3E%3Cg%20class%3D%22clips%22%2F%3E%3Cg%20class%3D%22gradients%22%2F%3E%3C%2Fdefs%3E%3Cg%20class%3D%22bglayer%22%2F%3E%3Cg%20class%3D%22draglayer%22%2F%3E%3Cg%20class%3D%22layer-below%22%3E%3Cg%20class%3D%22imagelayer%22%2F%3E%3Cg%20class%3D%22shapelayer%22%2F%3E%3C%2Fg%3E%3Cg%20class%3D%22cartesianlayer%22%2F%3E%3Cg%20class%3D%22polarlayer%22%2F%3E%3Cg%20class%3D%22ternarylayer%22%2F%3E%3Cg%20class%3D%22geolayer%22%2F%3E%3Cg%20class%3D%22funnelarealayer%22%2F%3E%3Cg%20class%3D%22pielayer%22%2F%3E%3Cg%20class%3D%22treemaplayer%22%3E%3Cg%20class%3D%22trace%20treemap%22%20style%3D%22opacity%3A%201%3B%22%3E%3Cg%20class%3D%22slice%20cursor-pointer%22%3E%3Cpath%20class%3D%22surface%22%20d%3D%22M80%2C30L1310%2C30L1310%2C312L80%2C312Z%22%20style%3D%22pointer-events%3A%20all%3B%20stroke-width%3A%200%3B%20fill%3A%20rgb(0%2C%200%2C%200)%3B%20fill-opacity%3A%200%3B%20stroke%3A%20rgb(0%2C%200%2C%200)%3B%20stroke-opacity%3A%200%3B%20opacity%3A%20100%3B%22%2F%3E%3Cg%20class%3D%22slicetext%22%3E%3Ctext%20data-notex%3D%221%22%20class%3D%22slicetext%22%20text-anchor%3D%22start%22%20data-unformatted%3D%22%20%22%20data-math%3D%22N%22%20x%3D%220%22%20y%3D%220%22%20style%3D%22font-family%3A%20%26quot%3BOpen%20Sans%26quot%3B%2C%20verdana%2C%20arial%2C%20sans-serif%3B%20font-size%3A%2012px%3B%20fill%3A%20rgb(89%2C%2089%2C%2089)%3B%20fill-opacity%3A%201%3B%20white-space%3A%20pre%3B%22%20transform%3D%22translate(86%2C45)%22%3E%20%3C%2Ftext%3E%3C%2Fg%3E%3C%2Fg%3E%3Cg%20class%3D%22slice%20cursor-pointer%22%3E%3Cpath%20class%3D%22surface%22%20d%3D%22M86%2C54L334.6510909073733%2C54L334.6510909073733%2C306L86%2C306Z%22%20style%3D%22pointer-events%3A%20all%3B%20stroke-width%3A%201%3B%20fill%3A%20rgb(111%2C%20146%2C%20184)%3B%20fill-opacity%3A%201%3B%20stroke%3A%20rgb(255%2C%20255%2C%20255)%3B%20stroke-opacity%3A%201%3B%20opacity%3A%201%3B%22%2F%3E%3Cg%20class%3D%22slicetext%22%3E%3Ctext%20data-notex%3D%221%22%20class%3D%22slicetext%22%20text-anchor%3D%22start%22%20data-unformatted%3D%22Arizona%22%20data-math%3D%22N%22%20x%3D%220%22%20y%3D%220%22%20style%3D%22font-family%3A%20%26quot%3BOpen%20Sans%26quot%3B%2C%20verdana%2C%20arial%2C%20sans-serif%3B%20font-size%3A%2012px%3B%20fill%3A%20rgb(255%2C%20255%2C%20255)%3B%20fill-opacity%3A%201%3B%20white-space%3A%20pre%3B%22%20transform%3D%22translate(93%2C69)%22%3EArizona%3C%2Ftext%3E%3C%2Fg%3E%3C%2Fg%3E%3Cg%20class%3D%22slice%20cursor-pointer%22%3E%3Cpath%20class%3D%22surface%22%20d%3D%22M337.6510909073733%2C54L579.7936180154272%2C54L579.7936180154272%2C306.00000000000006L337.6510909073733%2C306.00000000000006Z%22%20style%3D%22pointer-events%3A%20all%3B%20stroke-width%3A%201%3B%20fill%3A%20rgb(245%2C%20163%2C%2084)%3B%20fill-opacity%3A%201%3B%20stroke%3A%20rgb(255%2C%20255%2C%20255)%3B%20stroke-opacity%3A%201%3B%20opacity%3A%201%3B%22%2F%3E%3Cg%20class%3D%22slicetext%22%3E%3Ctext%20data-notex%3D%221%22%20class%3D%22slicetext%22%20text-anchor%3D%22start%22%20data-unformatted%3D%22California%22%20data-math%3D%22N%22%20x%3D%220%22%20y%3D%220%22%20style%3D%22font-family%3A%20%26quot%3BOpen%20Sans%26quot%3B%2C%20verdana%2C%20arial%2C%20sans-serif%3B%20font-size%3A%2012px%3B%20fill%3A%20rgb(68%2C%2068%2C%2068)%3B%20fill-opacity%3A%201%3B%20white-space%3A%20pre%3B%22%20transform%3D%22translate(343.6510909073733%2C69)%22%3ECalifornia%3C%2Ftext%3E%3C%2Fg%3E%3C%2Fg%3E%3Cg%20class%3D%22slice%20cursor-pointer%22%3E%3Cpath%20class%3D%22surface%22%20d%3D%22M582.7936180154272%2C54L824.8981623545224%2C54L824.8981623545224%2C305.99999999999994L582.7936180154272%2C305.99999999999994Z%22%20style%3D%22pointer-events%3A%20all%3B%20stroke-width%3A%201%3B%20fill%3A%20rgb(231%2C%20119%2C%20120)%3B%20fill-opacity%3A%201%3B%20stroke%3A%20rgb(255%2C%20255%2C%20255)%3B%20stroke-opacity%3A%201%3B%20opacity%3A%201%3B%22%2F%3E%3Cg%20class%3D%22slicetext%22%3E%3Ctext%20data-notex%3D%221%22%20class%3D%22slicetext%22%20text-anchor%3D%22start%22%20data-unformatted%3D%22Oregon%22%20data-math%3D%22N%22%20x%3D%220%22%20y%3D%220%22%20style%3D%22font-family%3A%20%26quot%3BOpen%20Sans%26quot%3B%2C%20verdana%2C%20arial%2C%20sans-serif%3B%20font-size%3A%2012px%3B%20fill%3A%20rgb(68%2C%2068%2C%2068)%3B%20fill-opacity%3A%201%3B%20white-space%3A%20pre%3B%22%20transform%3D%22translate(588.7936180154272%2C69)%22%3EOregon%3C%2Ftext%3E%3C%2Fg%3E%3C%2Fg%3E%3Cg%20class%3D%22slice%20cursor-pointer%22%3E%3Cpath%20class%3D%22surface%22%20d%3D%22M827.8981623545224%2C54L1068.610926197703%2C54L1068.610926197703%2C306L827.8981623545224%2C306Z%22%20style%3D%22pointer-events%3A%20all%3B%20stroke-width%3A%201%3B%20fill%3A%20rgb(144%2C%20197%2C%20193)%3B%20fill-opacity%3A%201%3B%20stroke%3A%20rgb(255%2C%20255%2C%20255)%3B%20stroke-opacity%3A%201%3B%20opacity%3A%201%3B%22%2F%3E%3Cg%20class%3D%22slicetext%22%3E%3Ctext%20data-notex%3D%221%22%20class%3D%22slicetext%22%20text-anchor%3D%22start%22%20data-unformatted%3D%22Nevada%22%20data-math%3D%22N%22%20x%3D%220%22%20y%3D%220%22%20style%3D%22font-family%3A%20%26quot%3BOpen%20Sans%26quot%3B%2C%20verdana%2C%20arial%2C%20sans-serif%3B%20font-size%3A%2012px%3B%20fill%3A%20rgb(68%2C%2068%2C%2068)%3B%20fill-opacity%3A%201%3B%20white-space%3A%20pre%3B%22%20transform%3D%22translate(833.8981623545224%2C69)%22%3ENevada%3C%2Ftext%3E%3C%2Fg%3E%3C%2Fg%3E%3Cg%20class%3D%22slice%20cursor-pointer%22%3E%3Cpath%20class%3D%22surface%22%20d%3D%22M1071.610926197703%2C54L1304%2C54L1304%2C306.0000000000001L1071.610926197703%2C306.0000000000001Z%22%20style%3D%22pointer-events%3A%20all%3B%20stroke-width%3A%201%3B%20fill%3A%20rgb(120%2C%20179%2C%20112)%3B%20fill-opacity%3A%201%3B%20stroke%3A%20rgb(255%2C%20255%2C%20255)%3B%20stroke-opacity%3A%201%3B%20opacity%3A%201%3B%22%2F%3E%3Cg%20class%3D%22slicetext%22%3E%3Ctext%20data-notex%3D%221%22%20class%3D%22slicetext%22%20text-anchor%3D%22start%22%20data-unformatted%3D%22Washington%22%20data-math%3D%22N%22%20x%3D%220%22%20y%3D%220%22%20style%3D%22font-family%3A%20%26quot%3BOpen%20Sans%26quot%3B%2C%20verdana%2C%20arial%2C%20sans-serif%3B%20font-size%3A%2012px%3B%20fill%3A%20rgb(68%2C%2068%2C%2068)%3B%20fill-opacity%3A%201%3B%20white-space%3A%20pre%3B%22%20transform%3D%22translate(1077.610926197703%2C69)%22%3EWashington%3C%2Ftext%3E%3C%2Fg%3E%3C%2Fg%3E%3Cg%20class%3D%22slice%20cursor-pointer%22%3E%3Cpath%20class%3D%22surface%22%20d%3D%22M92%2C78L252.03272495748755%2C78L252.03272495748755%2C191.97844777657184L92%2C191.97844777657184Z%22%20style%3D%22pointer-events%3A%20all%3B%20stroke-width%3A%201%3B%20fill%3A%20rgb(78%2C%20121%2C%20167)%3B%20fill-opacity%3A%201%3B%20stroke%3A%20rgb(255%2C%20255%2C%20255)%3B%20stroke-opacity%3A%201%3B%20opacity%3A%201%3B%22%2F%3E%3Cg%20class%3D%22slicetext%22%3E%3Ctext%20data-notex%3D%221%22%20class%3D%22slicetext%22%20text-anchor%3D%22start%22%20data-unformatted%3D%22Suburban%22%20data-math%3D%22N%22%20x%3D%220%22%20y%3D%220%22%20style%3D%22font-family%3A%20%26quot%3BOpen%20Sans%26quot%3B%2C%20verdana%2C%20arial%2C%20sans-serif%3B%20font-size%3A%2012px%3B%20fill%3A%20rgb(255%2C%20255%2C%20255)%3B%20fill-opacity%3A%201%3B%20white-space%3A%20pre%3B%22%20transform%3D%22translate(95%2C93)%22%3ESuburban%3C%2Ftext%3E%3C%2Fg%3E%3C%2Fg%3E%3Cg%20class%3D%22slice%20cursor-pointer%22%3E%3Cpath%20class%3D%22surface%22%20d%3D%22M92%2C194.97844777657184L252.03272495748755%2C194.97844777657184L252.03272495748755%2C300L92%2C300Z%22%20style%3D%22pointer-events%3A%20all%3B%20stroke-width%3A%201%3B%20fill%3A%20rgb(78%2C%20121%2C%20167)%3B%20fill-opacity%3A%201%3B%20stroke%3A%20rgb(255%2C%20255%2C%20255)%3B%20stroke-opacity%3A%201%3B%20opacity%3A%201%3B%22%2F%3E%3Cg%20class%3D%22slicetext%22%3E%3Ctext%20data-notex%3D%221%22%20class%3D%22slicetext%22%20text-anchor%3D%22start%22%20data-unformatted%3D%22Rural%22%20data-math%3D%22N%22%20x%3D%220%22%20y%3D%220%22%20style%3D%22font-family%3A%20%26quot%3BOpen%20Sans%26quot%3B%2C%20verdana%2C%20arial%2C%20sans-serif%3B%20font-size%3A%2012px%3B%20fill%3A%20rgb(255%2C%20255%2C%20255)%3B%20fill-opacity%3A%201%3B%20white-space%3A%20pre%3B%22%20transform%3D%22translate(95%2C209.97844777657184)%22%3ERural%3C%2Ftext%3E%3C%2Fg%3E%3C%2Fg%3E%3Cg%20class%3D%22slice%20cursor-pointer%22%3E%3Cpath%20class%3D%22surface%22%20d%3D%22M255.03272495748755%2C78L328.6510909073733%2C78L328.6510909073733%2C300L255.03272495748755%2C300Z%22%20style%3D%22pointer-events%3A%20all%3B%20stroke-width%3A%201%3B%20fill%3A%20rgb(78%2C%20121%2C%20167)%3B%20fill-opacity%3A%201%3B%20stroke%3A%20rgb(255%2C%20255%2C%20255)%3B%20stroke-opacity%3A%201%3B%20opacity%3A%201%3B%22%2F%3E%3Cg%20class%3D%22slicetext%22%3E%3Ctext%20data-notex%3D%221%22%20class%3D%22slicetext%22%20text-anchor%3D%22start%22%20data-unformatted%3D%22Urban%22%20data-math%3D%22N%22%20x%3D%220%22%20y%3D%220%22%20style%3D%22font-family%3A%20%26quot%3BOpen%20Sans%26quot%3B%2C%20verdana%2C%20arial%2C%20sans-serif%3B%20font-size%3A%2012px%3B%20fill%3A%20rgb(255%2C%20255%2C%20255)%3B%20fill-opacity%3A%201%3B%20white-space%3A%20pre%3B%22%20transform%3D%22translate(258.0327249574875%2C93)%22%3EUrban%3C%2Ftext%3E%3C%2Fg%3E%3C%2Fg%3E%3Cg%20class%3D%22slice%20cursor-pointer%22%3E%3Cpath%20class%3D%22surface%22%20d%3D%22M343.6510909073733%2C78L500.56130986097753%2C78L500.56130986097753%2C188.07376330567868L343.6510909073733%2C188.07376330567868Z%22%20style%3D%22pointer-events%3A%20all%3B%20stroke-width%3A%201%3B%20fill%3A%20rgb(242%2C%20142%2C%2044)%3B%20fill-opacity%3A%201%3B%20stroke%3A%20rgb(255%2C%20255%2C%20255)%3B%20stroke-opacity%3A%201%3B%20opacity%3A%201%3B%22%2F%3E%3Cg%20class%3D%22slicetext%22%3E%3Ctext%20data-notex%3D%221%22%20class%3D%22slicetext%22%20text-anchor%3D%22start%22%20data-unformatted%3D%22Suburban%22%20data-math%3D%22N%22%20x%3D%220%22%20y%3D%220%22%20style%3D%22font-family%3A%20%26quot%3BOpen%20Sans%26quot%3B%2C%20verdana%2C%20arial%2C%20sans-serif%3B%20font-size%3A%2012px%3B%20fill%3A%20rgb(68%2C%2068%2C%2068)%3B%20fill-opacity%3A%201%3B%20white-space%3A%20pre%3B%22%20transform%3D%22translate(346.6510909073733%2C93)%22%3ESuburban%3C%2Ftext%3E%3C%2Fg%3E%3C%2Fg%3E%3Cg%20class%3D%22slice%20cursor-pointer%22%3E%3Cpath%20class%3D%22surface%22%20d%3D%22M343.6510909073733%2C191.07376330567868L500.56130986097753%2C191.07376330567868L500.56130986097753%2C300.00000000000006L343.6510909073733%2C300.00000000000006Z%22%20style%3D%22pointer-events%3A%20all%3B%20stroke-width%3A%201%3B%20fill%3A%20rgb(242%2C%20142%2C%2044)%3B%20fill-opacity%3A%201%3B%20stroke%3A%20rgb(255%2C%20255%2C%20255)%3B%20stroke-opacity%3A%201%3B%20opacity%3A%201%3B%22%2F%3E%3Cg%20class%3D%22slicetext%22%3E%3Ctext%20data-notex%3D%221%22%20class%3D%22slicetext%22%20text-anchor%3D%22start%22%20data-unformatted%3D%22Rural%22%20data-math%3D%22N%22%20x%3D%220%22%20y%3D%220%22%20style%3D%22font-family%3A%20%26quot%3BOpen%20Sans%26quot%3B%2C%20verdana%2C%20arial%2C%20sans-serif%3B%20font-size%3A%2012px%3B%20fill%3A%20rgb(68%2C%2068%2C%2068)%3B%20fill-opacity%3A%201%3B%20white-space%3A%20pre%3B%22%20transform%3D%22translate(346.6510909073733%2C206.07376330567868)%22%3ERural%3C%2Ftext%3E%3C%2Fg%3E%3C%2Fg%3E%3Cg%20class%3D%22slice%20cursor-pointer%22%3E%3Cpath%20class%3D%22surface%22%20d%3D%22M503.56130986097753%2C78L573.7936180154272%2C78L573.7936180154272%2C300L503.56130986097753%2C300Z%22%20style%3D%22pointer-events%3A%20all%3B%20stroke-width%3A%201%3B%20fill%3A%20rgb(242%2C%20142%2C%2044)%3B%20fill-opacity%3A%201%3B%20stroke%3A%20rgb(255%2C%20255%2C%20255)%3B%20stroke-opacity%3A%201%3B%20opacity%3A%201%3B%22%2F%3E%3Cg%20class%3D%22slicetext%22%3E%3Ctext%20data-notex%3D%221%22%20class%3D%22slicetext%22%20text-anchor%3D%22start%22%20data-unformatted%3D%22Urban%22%20data-math%3D%22N%22%20x%3D%220%22%20y%3D%220%22%20style%3D%22font-family%3A%20%26quot%3BOpen%20Sans%26quot%3B%2C%20verdana%2C%20arial%2C%20sans-serif%3B%20font-size%3A%2012px%3B%20fill%3A%20rgb(68%2C%2068%2C%2068)%3B%20fill-opacity%3A%201%3B%20white-space%3A%20pre%3B%22%20transform%3D%22translate(506.56130986097753%2C93)%22%3EUrban%3C%2Ftext%3E%3C%2Fg%3E%3C%2Fg%3E%3Cg%20class%3D%22slice%20cursor-pointer%22%3E%3Cpath%20class%3D%22surface%22%20d%3D%22M588.7936180154272%2C78L746.900843007762%2C78L746.900843007762%2C194.26698892611702L588.7936180154272%2C194.26698892611702Z%22%20style%3D%22pointer-events%3A%20all%3B%20stroke-width%3A%201%3B%20fill%3A%20rgb(225%2C%2087%2C%2089)%3B%20fill-opacity%3A%201%3B%20stroke%3A%20rgb(255%2C%20255%2C%20255)%3B%20stroke-opacity%3A%201%3B%20opacity%3A%201%3B%22%2F%3E%3Cg%20class%3D%22slicetext%22%3E%3Ctext%20data-notex%3D%221%22%20class%3D%22slicetext%22%20text-anchor%3D%22start%22%20data-unformatted%3D%22Rural%22%20data-math%3D%22N%22%20x%3D%220%22%20y%3D%220%22%20style%3D%22font-family%3A%20%26quot%3BOpen%20Sans%26quot%3B%2C%20verdana%2C%20arial%2C%20sans-serif%3B%20font-size%3A%2012px%3B%20fill%3A%20rgb(68%2C%2068%2C%2068)%3B%20fill-opacity%3A%201%3B%20white-space%3A%20pre%3B%22%20transform%3D%22translate(591.7936180154272%2C93)%22%3ERural%3C%2Ftext%3E%3C%2Fg%3E%3C%2Fg%3E%3Cg%20class%3D%22slice%20cursor-pointer%22%3E%3Cpath%20class%3D%22surface%22%20d%3D%22M588.7936180154272%2C197.26698892611702L746.900843007762%2C197.26698892611702L746.900843007762%2C299.99999999999994L588.7936180154272%2C299.99999999999994Z%22%20style%3D%22pointer-events%3A%20all%3B%20stroke-width%3A%201%3B%20fill%3A%20rgb(225%2C%2087%2C%2089)%3B%20fill-opacity%3A%201%3B%20stroke%3A%20rgb(255%2C%20255%2C%20255)%3B%20stroke-opacity%3A%201%3B%20opacity%3A%201%3B%22%2F%3E%3Cg%20class%3D%22slicetext%22%3E%3Ctext%20data-notex%3D%221%22%20class%3D%22slicetext%22%20text-anchor%3D%22start%22%20data-unformatted%3D%22Suburban%22%20data-math%3D%22N%22%20x%3D%220%22%20y%3D%220%22%20style%3D%22font-family%3A%20%26quot%3BOpen%20Sans%26quot%3B%2C%20verdana%2C%20arial%2C%20sans-serif%3B%20font-size%3A%2012px%3B%20fill%3A%20rgb(68%2C%2068%2C%2068)%3B%20fill-opacity%3A%201%3B%20white-space%3A%20pre%3B%22%20transform%3D%22translate(591.7936180154272%2C212.26698892611702)%22%3ESuburban%3C%2Ftext%3E%3C%2Fg%3E%3C%2Fg%3E%3Cg%20class%3D%22slice%20cursor-pointer%22%3E%3Cpath%20class%3D%22surface%22%20d%3D%22M749.900843007762%2C78L818.8981623545224%2C78L818.8981623545224%2C299.9999999999999L749.900843007762%2C299.9999999999999Z%22%20style%3D%22pointer-events%3A%20all%3B%20stroke-width%3A%201%3B%20fill%3A%20rgb(225%2C%2087%2C%2089)%3B%20fill-opacity%3A%201%3B%20stroke%3A%20rgb(255%2C%20255%2C%20255)%3B%20stroke-opacity%3A%201%3B%20opacity%3A%201%3B%22%2F%3E%3Cg%20class%3D%22slicetext%22%3E%3Ctext%20data-notex%3D%221%22%20class%3D%22slicetext%22%20text-anchor%3D%22start%22%20data-unformatted%3D%22Urban%22%20data-math%3D%22N%22%20x%3D%220%22%20y%3D%220%22%20style%3D%22font-family%3A%20%26quot%3BOpen%20Sans%26quot%3B%2C%20verdana%2C%20arial%2C%20sans-serif%3B%20font-size%3A%2012px%3B%20fill%3A%20rgb(68%2C%2068%2C%2068)%3B%20fill-opacity%3A%201%3B%20white-space%3A%20pre%3B%22%20transform%3D%22translate(752.900843007762%2C93)%22%3EUrban%3C%2Ftext%3E%3C%2Fg%3E%3C%2Fg%3E%3Cg%20class%3D%22slice%20cursor-pointer%22%3E%3Cpath%20class%3D%22surface%22%20d%3D%22M833.8981623545224%2C78L990.8774447845533%2C78L990.8774447845533%2C196.44324995811516L833.8981623545224%2C196.44324995811516Z%22%20style%3D%22pointer-events%3A%20all%3B%20stroke-width%3A%201%3B%20fill%3A%20rgb(118%2C%20183%2C%20178)%3B%20fill-opacity%3A%201%3B%20stroke%3A%20rgb(255%2C%20255%2C%20255)%3B%20stroke-opacity%3A%201%3B%20opacity%3A%201%3B%22%2F%3E%3Cg%20class%3D%22slicetext%22%3E%3Ctext%20data-notex%3D%221%22%20class%3D%22slicetext%22%20text-anchor%3D%22start%22%20data-unformatted%3D%22Suburban%22%20data-math%3D%22N%22%20x%3D%220%22%20y%3D%220%22%20style%3D%22font-family%3A%20%26quot%3BOpen%20Sans%26quot%3B%2C%20verdana%2C%20arial%2C%20sans-serif%3B%20font-size%3A%2012px%3B%20fill%3A%20rgb(68%2C%2068%2C%2068)%3B%20fill-opacity%3A%201%3B%20white-space%3A%20pre%3B%22%20transform%3D%22translate(836.8981623545224%2C93)%22%3ESuburban%3C%2Ftext%3E%3C%2Fg%3E%3C%2Fg%3E%3Cg%20class%3D%22slice%20cursor-pointer%22%3E%3Cpath%20class%3D%22surface%22%20d%3D%22M833.8981623545224%2C199.44324995811516L990.8774447845533%2C199.44324995811516L990.8774447845533%2C300L833.8981623545224%2C300Z%22%20style%3D%22pointer-events%3A%20all%3B%20stroke-width%3A%201%3B%20fill%3A%20rgb(118%2C%20183%2C%20178)%3B%20fill-opacity%3A%201%3B%20stroke%3A%20rgb(255%2C%20255%2C%20255)%3B%20stroke-opacity%3A%201%3B%20opacity%3A%201%3B%22%2F%3E%3Cg%20class%3D%22slicetext%22%3E%3Ctext%20data-notex%3D%221%22%20class%3D%22slicetext%22%20text-anchor%3D%22start%22%20data-unformatted%3D%22Urban%22%20data-math%3D%22N%22%20x%3D%220%22%20y%3D%220%22%20style%3D%22font-family%3A%20%26quot%3BOpen%20Sans%26quot%3B%2C%20verdana%2C%20arial%2C%20sans-serif%3B%20font-size%3A%2012px%3B%20fill%3A%20rgb(68%2C%2068%2C%2068)%3B%20fill-opacity%3A%201%3B%20white-space%3A%20pre%3B%22%20transform%3D%22translate(836.8981623545224%2C214.44324995811516)%22%3EUrban%3C%2Ftext%3E%3C%2Fg%3E%3C%2Fg%3E%3Cg%20class%3D%22slice%20cursor-pointer%22%3E%3Cpath%20class%3D%22surface%22%20d%3D%22M993.8774447845533%2C78L1062.610926197703%2C78L1062.610926197703%2C299.9999999999999L993.8774447845533%2C299.9999999999999Z%22%20style%3D%22pointer-events%3A%20all%3B%20stroke-width%3A%201%3B%20fill%3A%20rgb(118%2C%20183%2C%20178)%3B%20fill-opacity%3A%201%3B%20stroke%3A%20rgb(255%2C%20255%2C%20255)%3B%20stroke-opacity%3A%201%3B%20opacity%3A%201%3B%22%2F%3E%3Cg%20class%3D%22slicetext%22%3E%3Ctext%20data-notex%3D%221%22%20class%3D%22slicetext%22%20text-anchor%3D%22start%22%20data-unformatted%3D%22Rural%22%20data-math%3D%22N%22%20x%3D%220%22%20y%3D%220%22%20style%3D%22font-family%3A%20%26quot%3BOpen%20Sans%26quot%3B%2C%20verdana%2C%20arial%2C%20sans-serif%3B%20font-size%3A%2012px%3B%20fill%3A%20rgb(68%2C%2068%2C%2068)%3B%20fill-opacity%3A%201%3B%20white-space%3A%20pre%3B%22%20transform%3D%22translate(996.8774447845533%2C93)%22%3ERural%3C%2Ftext%3E%3C%2Fg%3E%3C%2Fg%3E%3Cg%20class%3D%22slice%20cursor-pointer%22%3E%3Cpath%20class%3D%22surface%22%20d%3D%22M1077.610926197703%2C78L1187.8694856768375%2C78L1187.8694856768375%2C226.86901008551158L1077.610926197703%2C226.86901008551158Z%22%20style%3D%22pointer-events%3A%20all%3B%20stroke-width%3A%201%3B%20fill%3A%20rgb(89%2C%20161%2C%2079)%3B%20fill-opacity%3A%201%3B%20stroke%3A%20rgb(255%2C%20255%2C%20255)%3B%20stroke-opacity%3A%201%3B%20opacity%3A%201%3B%22%2F%3E%3Cg%20class%3D%22slicetext%22%3E%3Ctext%20data-notex%3D%221%22%20class%3D%22slicetext%22%20text-anchor%3D%22start%22%20data-unformatted%3D%22Urban%22%20data-math%3D%22N%22%20x%3D%220%22%20y%3D%220%22%20style%3D%22font-family%3A%20%26quot%3BOpen%20Sans%26quot%3B%2C%20verdana%2C%20arial%2C%20sans-serif%3B%20font-size%3A%2012px%3B%20fill%3A%20rgb(68%2C%2068%2C%2068)%3B%20fill-opacity%3A%201%3B%20white-space%3A%20pre%3B%22%20transform%3D%22translate(1080.610926197703%2C93)%22%3EUrban%3C%2Ftext%3E%3C%2Fg%3E%3C%2Fg%3E%3Cg%20class%3D%22slice%20cursor-pointer%22%3E%3Cpath%20class%3D%22surface%22%20d%3D%22M1190.8694856768375%2C78L1298%2C78L1298%2C226.86901008551158L1190.8694856768375%2C226.86901008551158Z%22%20style%3D%22pointer-events%3A%20all%3B%20stroke-width%3A%201%3B%20fill%3A%20rgb(89%2C%20161%2C%2079)%3B%20fill-opacity%3A%201%3B%20stroke%3A%20rgb(255%2C%20255%2C%20255)%3B%20stroke-opacity%3A%201%3B%20opacity%3A%201%3B%22%2F%3E%3Cg%20class%3D%22slicetext%22%3E%3Ctext%20data-notex%3D%221%22%20class%3D%22slicetext%22%20text-anchor%3D%22start%22%20data-unformatted%3D%22Suburban%22%20data-math%3D%22N%22%20x%3D%220%22%20y%3D%220%22%20style%3D%22font-family%3A%20%26quot%3BOpen%20Sans%26quot%3B%2C%20verdana%2C%20arial%2C%20sans-serif%3B%20font-size%3A%2012px%3B%20fill%3A%20rgb(68%2C%2068%2C%2068)%3B%20fill-opacity%3A%201%3B%20white-space%3A%20pre%3B%22%20transform%3D%22translate(1193.8694856768375%2C93)%22%3ESuburban%3C%2Ftext%3E%3C%2Fg%3E%3C%2Fg%3E%3Cg%20class%3D%22slice%20cursor-pointer%22%3E%3Cpath%20class%3D%22surface%22%20d%3D%22M1077.610926197703%2C229.86901008551158L1298%2C229.86901008551158L1298%2C300.0000000000001L1077.610926197703%2C300.0000000000001Z%22%20style%3D%22pointer-events%3A%20all%3B%20stroke-width%3A%201%3B%20fill%3A%20rgb(89%2C%20161%2C%2079)%3B%20fill-opacity%3A%201%3B%20stroke%3A%20rgb(255%2C%20255%2C%20255)%3B%20stroke-opacity%3A%201%3B%20opacity%3A%201%3B%22%2F%3E%3Cg%20class%3D%22slicetext%22%3E%3Ctext%20data-notex%3D%221%22%20class%3D%22slicetext%22%20text-anchor%3D%22start%22%20data-unformatted%3D%22Rural%22%20data-math%3D%22N%22%20x%3D%220%22%20y%3D%220%22%20style%3D%22font-family%3A%20%26quot%3BOpen%20Sans%26quot%3B%2C%20verdana%2C%20arial%2C%20sans-serif%3B%20font-size%3A%2012px%3B%20fill%3A%20rgb(68%2C%2068%2C%2068)%3B%20fill-opacity%3A%201%3B%20white-space%3A%20pre%3B%22%20transform%3D%22translate(1080.610926197703%2C244.86901008551158)%22%3ERural%3C%2Ftext%3E%3C%2Fg%3E%3C%2Fg%3E%3C%2Fg%3E%3C%2Fg%3E%3Cg%20class%3D%22sunburstlayer%22%2F%3E%3Cg%20class%3D%22glimages%22%2F%3E%3C%2Fsvg%3E%3Cdiv%20class%3D%22gl-container%22%3E%3C%2Fdiv%3E%3Csvg%20class%3D%22main-svg%22%20xmlns%3D%22http%3A%2F%2Fwww.w3.org%2F2000%2Fsvg%22%20xmlns%3Axlink%3D%22http%3A%2F%2Fwww.w3.org%2F1999%2Fxlink%22%20width%3D%221310%22%20height%3D%22352%22%3E%3Cdefs%20id%3D%22topdefs-2e547b%22%3E%3Cg%20class%3D%22clips%22%2F%3E%3C%2Fdefs%3E%3Cg%20class%3D%22indicatorlayer%22%2F%3E%3Cg%20class%3D%22layer-above%22%3E%3Cg%20class%3D%22imagelayer%22%2F%3E%3Cg%20class%3D%22shapelayer%22%2F%3E%3C%2Fg%3E%3Cg%20class%3D%22infolayer%22%3E%3Cg%20class%3D%22g-gtitle%22%2F%3E%3C%2Fg%3E%3Cg%20class%3D%22menulayer%22%2F%3E%3Cg%20class%3D%22zoomlayer%22%2F%3E%3C%2Fsvg%3E%3Cdiv%20class%3D%22modebar-container%22%20style%3D%22position%3A%20absolute%3B%20top%3A%200px%3B%20right%3A%200px%3B%20width%3A%20100%25%3B%22%3E%3Cdiv%20id%3D%22modebar-2e547b%22%20class%3D%22modebar%20modebar--hover%20ease-bg%22%3E%3Cdiv%20class%3D%22modebar-group%22%3E%3Ca%20rel%3D%22tooltip%22%20class%3D%22modebar-btn%22%20data-title%3D%22Download%20plot%20as%20a%20png%22%20data-toggle%3D%22false%22%20data-gravity%3D%22n%22%3E%3Csvg%20xmlns%3D%22http%3A%2F%2Fwww.w3.org%2F2000%2Fsvg%22%20viewBox%3D%220%200%201000%201000%22%20class%3D%22icon%22%20height%3D%221em%22%20width%3D%221em%22%3E%3Cpath%20d%3D%22m500%20450c-83%200-150-67-150-150%200-83%2067-150%20150-150%2083%200%20150%2067%20150%20150%200%2083-67%20150-150%20150z%20m400%20150h-120c-16%200-34%2013-39%2029l-31%2093c-6%2015-23%2028-40%2028h-340c-16%200-34-13-39-28l-31-94c-6-15-23-28-40-28h-120c-55%200-100-45-100-100v-450c0-55%2045-100%20100-100h800c55%200%20100%2045%20100%20100v450c0%2055-45%20100-100%20100z%20m-400-550c-138%200-250%20112-250%20250%200%20138%20112%20250%20250%20250%20138%200%20250-112%20250-250%200-138-112-250-250-250z%20m365%20380c-19%200-35%2016-35%2035%200%2019%2016%2035%2035%2035%2019%200%2035-16%2035-35%200-19-16-35-35-35z%22%20transform%3D%22matrix(1%200%200%20-1%200%20850)%22%2F%3E%3C%2Fsvg%3E%3C%2Fa%3E%3C%2Fdiv%3E%3Cdiv%20class%3D%22modebar-group%22%3E%3C%2Fdiv%3E%3C%2Fdiv%3E%3C%2Fdiv%3E%3Csvg%20class%3D%22main-svg%22%20xmlns%3D%22http%3A%2F%2Fwww.w3.org%2F2000%2Fsvg%22%20xmlns%3Axlink%3D%22http%3A%2F%2Fwww.w3.org%2F1999%2Fxlink%22%20width%3D%221310%22%20height%3D%22352%22%3E%3Cg%20class%3D%22hoverlayer%22%2F%3E%3C%2Fsvg%3E%3C%2Fdiv%3E%3C%2Fdiv%3E%3C%2Fdiv%3E%3C%2Fdiv%3E%3C%2Fdiv%3E%3C%2Fdiv%3E%3C%2Fdiv%3E%3C%2Fdiv%3E%3C%2Fdiv%3E%3C%2Fdiv%3E%3C%2FforeignObject%3E%3C%2Fsvg%3E\">"
      ],
      "text/plain": [
       "Open the notebook in JupyterLab with the Atoti extension enabled to build this widget."
      ]
     },
     "metadata": {},
     "output_type": "display_data"
    }
   ],
   "source": [
    "session.visualize(\"Revenue realized by State and location code\")"
   ]
  },
  {
   "cell_type": "code",
   "execution_count": 28,
   "id": "f1b5f2fb-e29d-4ce7-b80b-1240ed577a99",
   "metadata": {
    "atoti": {
     "height": 352,
     "widget": {
      "mapping": {
       "horizontalSubplots": [],
       "splitBy": [
        "ALL_MEASURES"
       ],
       "values": [
        "[Measures].[revenue_realised_propotion]"
       ],
       "verticalSubplots": [],
       "xAxis": [
        "[predictions].[Policy_Type].[Policy_Type]"
       ]
      },
      "name": "Sales by demogrpahics",
      "query": {
       "mdx": "WITH  Member [Measures].[[predictions]].[Policy_Type]].[Policy_Type]]_for_order] AS [predictions].[Policy_Type].CurrentMember.MEMBER_VALUE  SELECT NON EMPTY Order({[Measures].[revenue_realised_propotion]}, [Measures].[[predictions]].[Policy_Type]].[Policy_Type]]_for_order], BASC) ON COLUMNS, NON EMPTY Hierarchize(Descendants({[predictions].[Policy_Type].[AllMember]}, 1, SELF_AND_BEFORE)) ON ROWS FROM [predictions] CELL PROPERTIES VALUE, FORMATTED_VALUE, BACK_COLOR, FORE_COLOR, FONT_FLAGS",
       "updateMode": "once"
      },
      "serverKey": "default",
      "widgetKey": "plotly-clustered-column-chart"
     }
    },
    "tags": []
   },
   "outputs": [
    {
     "data": {
      "application/vnd.atoti.widget.v0+json": {
       "name": "Sales by policy types",
       "sessionId": "1685500978_82OHXW",
       "sessionLocation": {
        "https": false,
        "port": 54578
       },
       "widgetCreationCode": "session.visualize()"
      },
      "text/html": [
       "<img src=\"data:image/svg+xml;charset=utf8,%3C%3Fxml%20version%3D%221.0%22%20standalone%3D%22no%22%3F%3E%3Csvg%20xmlns%3D%22http%3A%2F%2Fwww.w3.org%2F2000%2Fsvg%22%20xmlns%3Axlink%3D%22http%3A%2F%2Fwww.w3.org%2F1999%2Fxlink%22%20height%3D%22344%22%20width%3D%221310%22%20viewBox%3D%220%200%201310%20344%22%3E%3Cdefs%20id%3D%22defs-ebfe3f%22%3E%3Cg%20class%3D%22clips%22%3E%3CclipPath%20id%3D%22clipebfe3fxyplot%22%20class%3D%22plotclip%22%3E%3Crect%20width%3D%22996%22%20height%3D%22274%22%2F%3E%3C%2FclipPath%3E%3CclipPath%20class%3D%22axesclip%22%20id%3D%22clipebfe3fx%22%3E%3Crect%20x%3D%2280%22%20y%3D%220%22%20width%3D%22996%22%20height%3D%22344%22%2F%3E%3C%2FclipPath%3E%3CclipPath%20class%3D%22axesclip%22%20id%3D%22clipebfe3fy%22%3E%3Crect%20x%3D%220%22%20y%3D%2230%22%20width%3D%221310%22%20height%3D%22274%22%2F%3E%3C%2FclipPath%3E%3CclipPath%20class%3D%22axesclip%22%20id%3D%22clipebfe3fxy%22%3E%3Crect%20x%3D%2280%22%20y%3D%2230%22%20width%3D%22996%22%20height%3D%22274%22%2F%3E%3C%2FclipPath%3E%3C%2Fg%3E%3Cg%20class%3D%22gradients%22%2F%3E%3C%2Fdefs%3E%3Cg%20class%3D%22bglayer%22%2F%3E%3Cg%20class%3D%22draglayer%20cursor-crosshair%22%3E%3Cg%20class%3D%22xy%22%3E%3Crect%20class%3D%22nsewdrag%20drag%22%20data-subplot%3D%22xy%22%20x%3D%2280%22%20y%3D%2230%22%20width%3D%22996%22%20height%3D%22274%22%20style%3D%22fill%3A%20transparent%3B%20stroke-width%3A%200%3B%20pointer-events%3A%20all%3B%22%2F%3E%3Crect%20class%3D%22nwdrag%20drag%20cursor-nw-resize%22%20data-subplot%3D%22xy%22%20x%3D%2260%22%20y%3D%2210%22%20width%3D%2220%22%20height%3D%2220%22%20style%3D%22fill%3A%20transparent%3B%20stroke-width%3A%200%3B%20pointer-events%3A%20all%3B%22%2F%3E%3Crect%20class%3D%22nedrag%20drag%20cursor-ne-resize%22%20data-subplot%3D%22xy%22%20x%3D%221076%22%20y%3D%2210%22%20width%3D%2220%22%20height%3D%2220%22%20style%3D%22fill%3A%20transparent%3B%20stroke-width%3A%200%3B%20pointer-events%3A%20all%3B%22%2F%3E%3Crect%20class%3D%22swdrag%20drag%20cursor-sw-resize%22%20data-subplot%3D%22xy%22%20x%3D%2260%22%20y%3D%22304%22%20width%3D%2220%22%20height%3D%2220%22%20style%3D%22fill%3A%20transparent%3B%20stroke-width%3A%200%3B%20pointer-events%3A%20all%3B%22%2F%3E%3Crect%20class%3D%22sedrag%20drag%20cursor-se-resize%22%20data-subplot%3D%22xy%22%20x%3D%221076%22%20y%3D%22304%22%20width%3D%2220%22%20height%3D%2220%22%20style%3D%22fill%3A%20transparent%3B%20stroke-width%3A%200%3B%20pointer-events%3A%20all%3B%22%2F%3E%3Crect%20class%3D%22ewdrag%20drag%20cursor-ew-resize%22%20data-subplot%3D%22xy%22%20x%3D%22179.60000000000002%22%20y%3D%22304.5%22%20width%3D%22796.8000000000001%22%20height%3D%2220%22%20style%3D%22fill%3A%20transparent%3B%20stroke-width%3A%200%3B%20pointer-events%3A%20all%3B%22%2F%3E%3Crect%20class%3D%22wdrag%20drag%20cursor-w-resize%22%20data-subplot%3D%22xy%22%20x%3D%2280%22%20y%3D%22304.5%22%20width%3D%2299.60000000000001%22%20height%3D%2220%22%20style%3D%22fill%3A%20transparent%3B%20stroke-width%3A%200%3B%20pointer-events%3A%20all%3B%22%2F%3E%3Crect%20class%3D%22edrag%20drag%20cursor-e-resize%22%20data-subplot%3D%22xy%22%20x%3D%22976.4%22%20y%3D%22304.5%22%20width%3D%2299.60000000000001%22%20height%3D%2220%22%20style%3D%22fill%3A%20transparent%3B%20stroke-width%3A%200%3B%20pointer-events%3A%20all%3B%22%2F%3E%3Crect%20class%3D%22nsdrag%20drag%20cursor-ns-resize%22%20data-subplot%3D%22xy%22%20x%3D%2259.5%22%20y%3D%2257.400000000000006%22%20width%3D%2220%22%20height%3D%22219.20000000000002%22%20style%3D%22fill%3A%20transparent%3B%20stroke-width%3A%200%3B%20pointer-events%3A%20all%3B%22%2F%3E%3Crect%20class%3D%22sdrag%20drag%20cursor-s-resize%22%20data-subplot%3D%22xy%22%20x%3D%2259.5%22%20y%3D%22276.6%22%20width%3D%2220%22%20height%3D%2227.400000000000002%22%20style%3D%22fill%3A%20transparent%3B%20stroke-width%3A%200%3B%20pointer-events%3A%20all%3B%22%2F%3E%3Crect%20class%3D%22ndrag%20drag%20cursor-n-resize%22%20data-subplot%3D%22xy%22%20x%3D%2259.5%22%20y%3D%2230%22%20width%3D%2220%22%20height%3D%2227.400000000000002%22%20style%3D%22fill%3A%20transparent%3B%20stroke-width%3A%200%3B%20pointer-events%3A%20all%3B%22%2F%3E%3C%2Fg%3E%3C%2Fg%3E%3Cg%20class%3D%22layer-below%22%3E%3Cg%20class%3D%22imagelayer%22%2F%3E%3Cg%20class%3D%22shapelayer%22%2F%3E%3C%2Fg%3E%3Cg%20class%3D%22cartesianlayer%22%3E%3Cg%20class%3D%22subplot%20xy%22%3E%3Cg%20class%3D%22layer-subplot%22%3E%3Cg%20class%3D%22shapelayer%22%2F%3E%3Cg%20class%3D%22imagelayer%22%2F%3E%3C%2Fg%3E%3Cg%20class%3D%22gridlayer%22%3E%3Cg%20class%3D%22x%22%3E%3Cpath%20class%3D%22xgrid%20crisp%22%20transform%3D%22translate(246%2C0)%22%20d%3D%22M0%2C30v274%22%20style%3D%22stroke%3A%20rgb(0%2C%200%2C%200)%3B%20stroke-opacity%3A%200%3B%20stroke-width%3A%201px%3B%22%2F%3E%3Cpath%20class%3D%22xgrid%20crisp%22%20transform%3D%22translate(578%2C0)%22%20d%3D%22M0%2C30v274%22%20style%3D%22stroke%3A%20rgb(0%2C%200%2C%200)%3B%20stroke-opacity%3A%200%3B%20stroke-width%3A%201px%3B%22%2F%3E%3Cpath%20class%3D%22xgrid%20crisp%22%20transform%3D%22translate(910%2C0)%22%20d%3D%22M0%2C30v274%22%20style%3D%22stroke%3A%20rgb(0%2C%200%2C%200)%3B%20stroke-opacity%3A%200%3B%20stroke-width%3A%201px%3B%22%2F%3E%3C%2Fg%3E%3Cg%20class%3D%22y%22%3E%3Cpath%20class%3D%22ygrid%20crisp%22%20transform%3D%22translate(0%2C244.6)%22%20d%3D%22M80%2C0h996%22%20style%3D%22stroke%3A%20rgb(89%2C%2089%2C%2089)%3B%20stroke-opacity%3A%200.25%3B%20stroke-width%3A%201px%3B%22%2F%3E%3Cpath%20class%3D%22ygrid%20crisp%22%20transform%3D%22translate(0%2C185.2)%22%20d%3D%22M80%2C0h996%22%20style%3D%22stroke%3A%20rgb(89%2C%2089%2C%2089)%3B%20stroke-opacity%3A%200.25%3B%20stroke-width%3A%201px%3B%22%2F%3E%3Cpath%20class%3D%22ygrid%20crisp%22%20transform%3D%22translate(0%2C125.81)%22%20d%3D%22M80%2C0h996%22%20style%3D%22stroke%3A%20rgb(89%2C%2089%2C%2089)%3B%20stroke-opacity%3A%200.25%3B%20stroke-width%3A%201px%3B%22%2F%3E%3Cpath%20class%3D%22ygrid%20crisp%22%20transform%3D%22translate(0%2C66.41)%22%20d%3D%22M80%2C0h996%22%20style%3D%22stroke%3A%20rgb(89%2C%2089%2C%2089)%3B%20stroke-opacity%3A%200.25%3B%20stroke-width%3A%201px%3B%22%2F%3E%3C%2Fg%3E%3C%2Fg%3E%3Cg%20class%3D%22zerolinelayer%22%3E%3Cpath%20class%3D%22yzl%20zl%20crisp%22%20transform%3D%22translate(0%2C304)%22%20d%3D%22M80%2C0h996%22%20style%3D%22stroke%3A%20rgb(89%2C%2089%2C%2089)%3B%20stroke-opacity%3A%200.5%3B%20stroke-width%3A%201px%3B%22%2F%3E%3C%2Fg%3E%3Cpath%20class%3D%22xlines-below%22%2F%3E%3Cpath%20class%3D%22ylines-below%22%2F%3E%3Cg%20class%3D%22overlines-below%22%2F%3E%3Cg%20class%3D%22xaxislayer-below%22%2F%3E%3Cg%20class%3D%22yaxislayer-below%22%2F%3E%3Cg%20class%3D%22overaxes-below%22%2F%3E%3Cg%20class%3D%22plot%22%20transform%3D%22translate(80%2C30)%22%20clip-path%3D%22url('%23clipebfe3fxyplot')%22%3E%3Cg%20class%3D%22barlayer%20mlayer%22%3E%3Cg%20class%3D%22trace%20bars%22%20style%3D%22opacity%3A%201%3B%22%3E%3Cg%20class%3D%22points%22%3E%3Cg%20class%3D%22point%22%3E%3Cpath%20d%3D%22M33.2%2C274V31.85H298.8V274Z%22%20style%3D%22vector-effect%3A%20non-scaling-stroke%3B%20opacity%3A%201%3B%20stroke-width%3A%200px%3B%20fill%3A%20rgb(78%2C%20121%2C%20167)%3B%20fill-opacity%3A%201%3B%22%2F%3E%3C%2Fg%3E%3Cg%20class%3D%22point%22%3E%3Cpath%20d%3D%22M365.2%2C274V78.18H630.8V274Z%22%20style%3D%22vector-effect%3A%20non-scaling-stroke%3B%20opacity%3A%201%3B%20stroke-width%3A%200px%3B%20fill%3A%20rgb(78%2C%20121%2C%20167)%3B%20fill-opacity%3A%201%3B%22%2F%3E%3C%2Fg%3E%3Cg%20class%3D%22point%22%3E%3Cpath%20d%3D%22M697.2%2C274V13.7H962.8V274Z%22%20style%3D%22vector-effect%3A%20non-scaling-stroke%3B%20opacity%3A%201%3B%20stroke-width%3A%200px%3B%20fill%3A%20rgb(78%2C%20121%2C%20167)%3B%20fill-opacity%3A%201%3B%22%2F%3E%3C%2Fg%3E%3C%2Fg%3E%3C%2Fg%3E%3C%2Fg%3E%3C%2Fg%3E%3Cg%20class%3D%22overplot%22%2F%3E%3Cpath%20class%3D%22xlines-above%20crisp%22%20style%3D%22fill%3A%20none%3B%20stroke-width%3A%201px%3B%20stroke%3A%20rgb(89%2C%2089%2C%2089)%3B%20stroke-opacity%3A%200.25%3B%22%20d%3D%22M79%2C304.5H1076%22%2F%3E%3Cpath%20class%3D%22ylines-above%20crisp%22%20style%3D%22fill%3A%20none%3B%20stroke-width%3A%201px%3B%20stroke%3A%20rgb(89%2C%2089%2C%2089)%3B%20stroke-opacity%3A%200.25%3B%22%20d%3D%22M79.5%2C30V304%22%2F%3E%3Cg%20class%3D%22overlines-above%22%2F%3E%3Cg%20class%3D%22xaxislayer-above%22%3E%3Cg%20class%3D%22xtick%22%3E%3Ctext%20text-anchor%3D%22middle%22%20x%3D%220%22%20y%3D%22319.4%22%20data-unformatted%3D%22Corporate%20Auto%22%20data-math%3D%22N%22%20transform%3D%22translate(246%2C0)%22%20style%3D%22font-family%3A%20%26quot%3BOpen%20Sans%26quot%3B%2C%20verdana%2C%20arial%2C%20sans-serif%3B%20font-size%3A%2012px%3B%20fill%3A%20rgb(89%2C%2089%2C%2089)%3B%20fill-opacity%3A%201%3B%20white-space%3A%20pre%3B%22%3ECorporate%20Auto%3C%2Ftext%3E%3C%2Fg%3E%3Cg%20class%3D%22xtick%22%3E%3Ctext%20text-anchor%3D%22middle%22%20x%3D%220%22%20y%3D%22319.4%22%20data-unformatted%3D%22Personal%20Auto%22%20data-math%3D%22N%22%20transform%3D%22translate(578%2C0)%22%20style%3D%22font-family%3A%20%26quot%3BOpen%20Sans%26quot%3B%2C%20verdana%2C%20arial%2C%20sans-serif%3B%20font-size%3A%2012px%3B%20fill%3A%20rgb(89%2C%2089%2C%2089)%3B%20fill-opacity%3A%201%3B%20white-space%3A%20pre%3B%22%3EPersonal%20Auto%3C%2Ftext%3E%3C%2Fg%3E%3Cg%20class%3D%22xtick%22%3E%3Ctext%20text-anchor%3D%22middle%22%20x%3D%220%22%20y%3D%22319.4%22%20data-unformatted%3D%22Special%20Auto%22%20data-math%3D%22N%22%20transform%3D%22translate(910%2C0)%22%20style%3D%22font-family%3A%20%26quot%3BOpen%20Sans%26quot%3B%2C%20verdana%2C%20arial%2C%20sans-serif%3B%20font-size%3A%2012px%3B%20fill%3A%20rgb(89%2C%2089%2C%2089)%3B%20fill-opacity%3A%201%3B%20white-space%3A%20pre%3B%22%3ESpecial%20Auto%3C%2Ftext%3E%3C%2Fg%3E%3C%2Fg%3E%3Cg%20class%3D%22yaxislayer-above%22%3E%3Cg%20class%3D%22ytick%22%3E%3Ctext%20text-anchor%3D%22end%22%20x%3D%2276.6%22%20y%3D%224.199999999999999%22%20data-unformatted%3D%220%22%20data-math%3D%22N%22%20transform%3D%22translate(0%2C304)%22%20style%3D%22font-family%3A%20%26quot%3BOpen%20Sans%26quot%3B%2C%20verdana%2C%20arial%2C%20sans-serif%3B%20font-size%3A%2012px%3B%20fill%3A%20rgb(89%2C%2089%2C%2089)%3B%20fill-opacity%3A%201%3B%20white-space%3A%20pre%3B%22%3E0%3C%2Ftext%3E%3C%2Fg%3E%3Cg%20class%3D%22ytick%22%3E%3Ctext%20text-anchor%3D%22end%22%20x%3D%2276.6%22%20y%3D%224.199999999999999%22%20data-unformatted%3D%220.2%22%20data-math%3D%22N%22%20transform%3D%22translate(0%2C244.6)%22%20style%3D%22font-family%3A%20%26quot%3BOpen%20Sans%26quot%3B%2C%20verdana%2C%20arial%2C%20sans-serif%3B%20font-size%3A%2012px%3B%20fill%3A%20rgb(89%2C%2089%2C%2089)%3B%20fill-opacity%3A%201%3B%20white-space%3A%20pre%3B%22%3E0.2%3C%2Ftext%3E%3C%2Fg%3E%3Cg%20class%3D%22ytick%22%3E%3Ctext%20text-anchor%3D%22end%22%20x%3D%2276.6%22%20y%3D%224.199999999999999%22%20data-unformatted%3D%220.4%22%20data-math%3D%22N%22%20transform%3D%22translate(0%2C185.2)%22%20style%3D%22font-family%3A%20%26quot%3BOpen%20Sans%26quot%3B%2C%20verdana%2C%20arial%2C%20sans-serif%3B%20font-size%3A%2012px%3B%20fill%3A%20rgb(89%2C%2089%2C%2089)%3B%20fill-opacity%3A%201%3B%20white-space%3A%20pre%3B%22%3E0.4%3C%2Ftext%3E%3C%2Fg%3E%3Cg%20class%3D%22ytick%22%3E%3Ctext%20text-anchor%3D%22end%22%20x%3D%2276.6%22%20y%3D%224.199999999999999%22%20data-unformatted%3D%220.6%22%20data-math%3D%22N%22%20transform%3D%22translate(0%2C125.81)%22%20style%3D%22font-family%3A%20%26quot%3BOpen%20Sans%26quot%3B%2C%20verdana%2C%20arial%2C%20sans-serif%3B%20font-size%3A%2012px%3B%20fill%3A%20rgb(89%2C%2089%2C%2089)%3B%20fill-opacity%3A%201%3B%20white-space%3A%20pre%3B%22%3E0.6%3C%2Ftext%3E%3C%2Fg%3E%3Cg%20class%3D%22ytick%22%3E%3Ctext%20text-anchor%3D%22end%22%20x%3D%2276.6%22%20y%3D%224.199999999999999%22%20data-unformatted%3D%220.8%22%20data-math%3D%22N%22%20transform%3D%22translate(0%2C66.41)%22%20style%3D%22font-family%3A%20%26quot%3BOpen%20Sans%26quot%3B%2C%20verdana%2C%20arial%2C%20sans-serif%3B%20font-size%3A%2012px%3B%20fill%3A%20rgb(89%2C%2089%2C%2089)%3B%20fill-opacity%3A%201%3B%20white-space%3A%20pre%3B%22%3E0.8%3C%2Ftext%3E%3C%2Fg%3E%3C%2Fg%3E%3Cg%20class%3D%22overaxes-above%22%2F%3E%3C%2Fg%3E%3C%2Fg%3E%3Cg%20class%3D%22polarlayer%22%2F%3E%3Cg%20class%3D%22ternarylayer%22%2F%3E%3Cg%20class%3D%22geolayer%22%2F%3E%3Cg%20class%3D%22funnelarealayer%22%2F%3E%3Cg%20class%3D%22pielayer%22%2F%3E%3Cg%20class%3D%22treemaplayer%22%2F%3E%3Cg%20class%3D%22sunburstlayer%22%2F%3E%3Cg%20class%3D%22glimages%22%2F%3E%3Cdefs%20id%3D%22topdefs-ebfe3f%22%3E%3Cg%20class%3D%22clips%22%2F%3E%3CclipPath%20id%3D%22legendebfe3f%22%3E%3Crect%20width%3D%22214%22%20height%3D%2229%22%20x%3D%220%22%20y%3D%220%22%2F%3E%3C%2FclipPath%3E%3C%2Fdefs%3E%3Cg%20class%3D%22indicatorlayer%22%2F%3E%3Cg%20class%3D%22layer-above%22%3E%3Cg%20class%3D%22imagelayer%22%2F%3E%3Cg%20class%3D%22shapelayer%22%2F%3E%3C%2Fg%3E%3Cg%20class%3D%22infolayer%22%3E%3Cg%20class%3D%22legend%22%20pointer-events%3D%22all%22%20transform%3D%22translate(1095.92%2C30)%22%3E%3Crect%20class%3D%22bg%22%20shape-rendering%3D%22crispEdges%22%20style%3D%22stroke%3A%20rgb(68%2C%2068%2C%2068)%3B%20stroke-opacity%3A%201%3B%20fill%3A%20rgb(255%2C%20255%2C%20255)%3B%20fill-opacity%3A%201%3B%20stroke-width%3A%200px%3B%22%20width%3D%22214%22%20height%3D%2229%22%20x%3D%220%22%20y%3D%220%22%2F%3E%3Cg%20class%3D%22scrollbox%22%20transform%3D%22%22%20clip-path%3D%22url('%23legendebfe3f')%22%3E%3Cg%20class%3D%22groups%22%20transform%3D%22%22%3E%3Cg%20class%3D%22traces%22%20style%3D%22opacity%3A%201%3B%22%20transform%3D%22translate(0%2C14.5)%22%3E%3Ctext%20class%3D%22legendtext%22%20text-anchor%3D%22start%22%20x%3D%2240%22%20y%3D%224.680000000000001%22%20data-unformatted%3D%22revenue_realised_propotion%22%20data-math%3D%22N%22%20style%3D%22font-family%3A%20%26quot%3BOpen%20Sans%26quot%3B%2C%20verdana%2C%20arial%2C%20sans-serif%3B%20font-size%3A%2012px%3B%20fill%3A%20rgb(89%2C%2089%2C%2089)%3B%20fill-opacity%3A%201%3B%20white-space%3A%20pre%3B%22%3Erevenue_realised_propotion%3C%2Ftext%3E%3Cg%20class%3D%22layers%22%20style%3D%22opacity%3A%201%3B%22%3E%3Cg%20class%3D%22legendfill%22%2F%3E%3Cg%20class%3D%22legendlines%22%2F%3E%3Cg%20class%3D%22legendsymbols%22%3E%3Cg%20class%3D%22legendpoints%22%3E%3Cpath%20class%3D%22legendundefined%22%20d%3D%22M6%2C6H-6V-6H6Z%22%20transform%3D%22translate(20%2C0)%22%20style%3D%22stroke-width%3A%200px%3B%20fill%3A%20rgb(78%2C%20121%2C%20167)%3B%20fill-opacity%3A%201%3B%22%2F%3E%3C%2Fg%3E%3C%2Fg%3E%3C%2Fg%3E%3Crect%20class%3D%22legendtoggle%22%20pointer-events%3D%22all%22%20x%3D%220%22%20y%3D%22-9.5%22%20width%3D%22208.5%22%20height%3D%2219%22%20style%3D%22cursor%3A%20pointer%3B%20fill%3A%20rgb(0%2C%200%2C%200)%3B%20fill-opacity%3A%200%3B%22%2F%3E%3C%2Fg%3E%3C%2Fg%3E%3C%2Fg%3E%3Crect%20class%3D%22scrollbar%22%20rx%3D%2220%22%20ry%3D%223%22%20width%3D%220%22%20height%3D%220%22%20style%3D%22fill%3A%20rgb(128%2C%20139%2C%20164)%3B%20fill-opacity%3A%201%3B%22%20x%3D%220%22%20y%3D%220%22%2F%3E%3C%2Fg%3E%3Cg%20class%3D%22g-gtitle%22%2F%3E%3Cg%20class%3D%22g-xtitle%22%2F%3E%3Cg%20class%3D%22g-ytitle%22%2F%3E%3C%2Fg%3E%3Cg%20class%3D%22menulayer%22%2F%3E%3Cg%20class%3D%22zoomlayer%22%2F%3E%3Cg%20class%3D%22hoverlayer%22%2F%3E%3C%2Fsvg%3E\">"
      ],
      "text/plain": [
       "Open the notebook in JupyterLab with the Atoti extension enabled to build this widget."
      ]
     },
     "metadata": {},
     "output_type": "display_data"
    }
   ],
   "source": [
    "session.visualize(\"Sales by policy types\")"
   ]
  },
  {
   "cell_type": "code",
   "execution_count": 29,
   "id": "66135561-f02a-4777-80eb-eed7f490c0fb",
   "metadata": {
    "atoti": {
     "widget": {
      "mapping": {
       "color": [
        "[predictions].[Coverage_Type].[Coverage_Type]"
       ],
       "horizontalSubplots": [
        "[predictions].[Policy_Type].[Policy_Type]"
       ],
       "size": [
        "[Measures].[revenue_realised]"
       ],
       "splitBy": [],
       "verticalSubplots": [],
       "xValues": [
        "[Measures].[sale_propotion]"
       ],
       "yValues": [
        "[Measures].[revenue_realised_propotion]"
       ]
      },
      "query": {
       "mdx": "SELECT NON EMPTY Crossjoin(Hierarchize(Descendants({[predictions].[Policy_Type].[AllMember]}, 1, SELF_AND_BEFORE)), {[Measures].[sale_propotion], [Measures].[revenue_realised_propotion], [Measures].[revenue_realised]}) ON COLUMNS, NON EMPTY Hierarchize(Descendants({[predictions].[Coverage_Type].[AllMember]}, 1, SELF_AND_BEFORE)) ON ROWS FROM [predictions] CELL PROPERTIES VALUE, FORMATTED_VALUE, BACK_COLOR, FORE_COLOR, FONT_FLAGS",
       "updateMode": "once"
      },
      "serverKey": "default",
      "widgetKey": "plotly-scatter-plot"
     }
    },
    "tags": []
   },
   "outputs": [
    {
     "data": {
      "application/vnd.atoti.widget.v0+json": {
       "name": "Revenue and sales by policy and coverage type",
       "sessionId": "1685500978_82OHXW",
       "sessionLocation": {
        "https": false,
        "port": 54578
       },
       "widgetCreationCode": "session.visualize()"
      },
      "text/html": [
       "<img src=\"data:image/svg+xml;charset=utf8,%3C%3Fxml%20version%3D%221.0%22%20standalone%3D%22no%22%3F%3E%3Csvg%20xmlns%3D%22http%3A%2F%2Fwww.w3.org%2F2000%2Fsvg%22%20height%3D%22352%22%20width%3D%221310%22%3E%3CforeignObject%20width%3D%22100%25%22%20height%3D%22100%25%22%20x%3D%220%22%20y%3D%220%22%3E%3Cstyle%20xmlns%3D%22http%3A%2F%2Fwww.w3.org%2F1999%2Fxhtml%22%20type%3D%22text%2Fcss%22%3E*%2C%20%3A%3Abefore%2C%20%3A%3Aafter%20%7Bbox-sizing%3A%20unset%7D%0Aa%20%7Bcolor%3A%20unset%3B%20text-decoration-line%3A%20unset%3B%20text-decoration-thickness%3A%20unset%3B%20text-decoration-style%3A%20unset%3B%20text-decoration-color%3A%20unset%7D%0A.ant-root%20%5Bclass%5E%3D%22ant-%22%5D%2C%20.ant-root%20%5Bclass*%3D%22ant-%22%5D%2C%20.ant-root%20%5Bclass%5E%3D%22ant-%22%5D%20*%2C%20.ant-root%20%5Bclass*%3D%22ant-%22%5D%20*%2C%20.ant-root%20%5Bclass%5E%3D%22ant-%22%5D%20%3A%3Abefore%2C%20.ant-root%20%5Bclass*%3D%22ant-%22%5D%20%3A%3Abefore%2C%20.ant-root%20%5Bclass%5E%3D%22ant-%22%5D%20%3A%3Aafter%2C%20.ant-root%20%5Bclass*%3D%22ant-%22%5D%20%3A%3Aafter%20%7Bbox-sizing%3A%20border-box%7D%0A.ant-root%2C%20.ant-root%20%7Bwidth%3A%20100%25%3B%20height%3A%20100%25%7D%0A.ant-root%20*%2C%20.ant-root%20%3A%3Abefore%2C%20.ant-root%20%3A%3Aafter%20%7Bbox-sizing%3A%20border-box%7D%0A.ant-root%20%7Btext-size-adjust%3A%20100%25%3B%20-webkit-tap-highlight-color%3A%20rgba(0%2C%200%2C%200%2C%200)%3B%20font-family%3A%20-apple-system%2C%20BlinkMacSystemFont%2C%20%22Segoe%20UI%22%2C%20Roboto%2C%20%22Helvetica%20Neue%22%2C%20Arial%2C%20%22Noto%20Sans%22%2C%20sans-serif%2C%20%22Apple%20Color%20Emoji%22%2C%20%22Segoe%20UI%20Emoji%22%2C%20%22Segoe%20UI%20Symbol%22%2C%20%22Noto%20Color%20Emoji%22%3B%20line-height%3A%201.66667%3B%20color%3A%20rgb(89%2C%2089%2C%2089)%3B%20font-variant-ligatures%3A%20normal%3B%20font-variant-numeric%3A%20tabular-nums%3B%20font-variant-east-asian%3A%20normal%3B%20font-variant-caps%3A%20normal%3B%20font-variant-alternates%3A%20normal%3B%20background-color%3A%20rgb(255%2C%20255%2C%20255)%3B%20margin-top%3A%200px%3B%20margin-right%3A%200px%3B%20margin-bottom%3A%200px%3B%20margin-left%3A%200px%3B%20font-size%3A%2012px%3B%20--antd-wave-shadow-color%3A%20%231890ff%3B%20--scroll-bar%3A%200%7D%0A.ant-root%20a%20%7Bcolor%3A%20rgb(24%2C%20144%2C%20255)%3B%20cursor%3A%20pointer%3B%20background-color%3A%20rgba(0%2C%200%2C%200%2C%200)%3B%20outline-color%3A%20initial%3B%20outline-style%3A%20none%3B%20outline-width%3A%20initial%3B%20text-decoration-line%3A%20none%3B%20text-decoration-thickness%3A%20initial%3B%20text-decoration-style%3A%20initial%3B%20text-decoration-color%3A%20initial%3B%20transition-duration%3A%200.3s%3B%20transition-timing-function%3A%20ease%3B%20transition-delay%3A%200s%3B%20transition-property%3A%20color%7D%0A.ant-root%20svg%3Anot(%3Aroot)%20%7Boverflow-x%3A%20hidden%3B%20overflow-y%3A%20hidden%7D%0A.ant-root%20a%2C%20.ant-root%20area%2C%20.ant-root%20button%2C%20.ant-root%20%5Brole%3D%22button%22%5D%2C%20.ant-root%20input%3Anot(%5Btype%3D%22range%22%5D)%2C%20.ant-root%20label%2C%20.ant-root%20select%2C%20.ant-root%20summary%2C%20.ant-root%20textarea%20%7Btouch-action%3A%20manipulation%7D%0A.css-12ebr42-AWidget%20%7Bheight%3A%20100%25%7D%0A.css-1b1raxz-DefaultWidgetLoadingOverlay%20%7Bdisplay%3A%20flex%3B%20height%3A%20100%25%3B%20-webkit-box-pack%3A%20center%3B%20justify-content%3A%20center%3B%20position%3A%20absolute%3B%20width%3A%20100%25%3B%20-webkit-box-align%3A%20center%3B%20align-items%3A%20center%3B%20pointer-events%3A%20none%3B%20z-index%3A%202%7D%0A.css-34a2ml-DefaultWidgetLoadingOverlay%20%7Bbackground-image%3A%20initial%3B%20background-position-x%3A%20initial%3B%20background-position-y%3A%20initial%3B%20background-size%3A%20initial%3B%20background-repeat-x%3A%20initial%3B%20background-repeat-y%3A%20initial%3B%20background-attachment%3A%20initial%3B%20background-origin%3A%20initial%3B%20background-clip%3A%20initial%3B%20background-color%3A%20transparent%3B%20width%3A%20calc(100%25%20-%204px)%3B%20height%3A%20calc(100%25%20-%204px)%7D%0A.css-13w0jw1-WidgetLoadingOverlay-ChartWithLoadingOverlay%20%7Bposition%3A%20relative%3B%20height%3A%20100%25%7D%0A.css-1u8fyhz-ChartWithMetaData%20%7Bheight%3A%20100%25%7D%0A.css-znpfyj-Plot%20%7Bheight%3A%20100%25%3B%20position%3A%20relative%3B%20width%3A%20100%25%7D%0A.css-mb8m0v-Plot%20%7Bposition%3A%20absolute%3B%20top%3A%200px%3B%20bottom%3A%200px%3B%20left%3A%200px%3B%20right%3A%200px%7D%0A.css-mb8m0v-Plot%20.js-plotly-plot%20%7Bheight%3A%20100%25%7D%0A.js-plotly-plot%20.plotly%20.modebar-btn%20svg%20%7Bposition%3A%20relative%3B%20top%3A%202px%7D%0A.js-plotly-plot%20.plotly%20.modebar-btn%20%7Bposition%3A%20relative%3B%20font-size%3A%2016px%3B%20padding-top%3A%203px%3B%20padding-right%3A%204px%3B%20padding-bottom%3A%203px%3B%20padding-left%3A%204px%3B%20height%3A%2022px%3B%20cursor%3A%20pointer%3B%20line-height%3A%20normal%3B%20box-sizing%3A%20border-box%7D%0A.js-plotly-plot%20.plotly%20.modebar-group%20%7Bfloat%3A%20left%3B%20display%3A%20inline-block%3B%20box-sizing%3A%20border-box%3B%20padding-left%3A%208px%3B%20position%3A%20relative%3B%20vertical-align%3A%20middle%3B%20white-space%3A%20nowrap%7D%0A.js-plotly-plot%20.plotly%20.modebar--hover%20%26gt%3B%20%3Anot(.watermark)%20%7Bopacity%3A%200%3B%20transition-duration%3A%200.3s%3B%20transition-timing-function%3A%20ease%3B%20transition-delay%3A%200s%3B%20transition-property%3A%20opacity%7D%0A.js-plotly-plot%20.plotly%20.ease-bg%20%7Btransition-duration%3A%200.3s%3B%20transition-timing-function%3A%20ease%3B%20transition-delay%3A%200s%3B%20transition-property%3A%20background-color%7D%0A.js-plotly-plot%20.plotly%20.modebar%20%7Bposition%3A%20absolute%3B%20top%3A%202px%3B%20right%3A%202px%7D%0A.js-plotly-plot%20.plotly%20.cursor-ne-resize%20%7Bcursor%3A%20ne-resize%7D%0A.js-plotly-plot%20.plotly%20.cursor-n-resize%20%7Bcursor%3A%20n-resize%7D%0A.js-plotly-plot%20.plotly%20.cursor-nw-resize%20%7Bcursor%3A%20nw-resize%7D%0A.js-plotly-plot%20.plotly%20.cursor-e-resize%20%7Bcursor%3A%20e-resize%7D%0A.js-plotly-plot%20.plotly%20.cursor-w-resize%20%7Bcursor%3A%20w-resize%7D%0A.js-plotly-plot%20.plotly%20.cursor-se-resize%20%7Bcursor%3A%20se-resize%7D%0A.js-plotly-plot%20.plotly%20.cursor-s-resize%20%7Bcursor%3A%20s-resize%7D%0A.js-plotly-plot%20.plotly%20.cursor-sw-resize%20%7Bcursor%3A%20sw-resize%7D%0A.js-plotly-plot%20.plotly%20.cursor-ew-resize%20%7Bcursor%3A%20ew-resize%7D%0A.js-plotly-plot%20.plotly%20.cursor-ns-resize%20%7Bcursor%3A%20ns-resize%7D%0A.js-plotly-plot%20.plotly%20.cursor-crosshair%20%7Bcursor%3A%20crosshair%7D%0A.js-plotly-plot%20.plotly%20.main-svg%20.draglayer%20%7Bpointer-events%3A%20all%7D%0A.js-plotly-plot%20.plotly%20.main-svg%20%7Bposition%3A%20absolute%3B%20top%3A%200px%3B%20left%3A%200px%3B%20pointer-events%3A%20none%7D%0A.js-plotly-plot%20.plotly%20svg%20%7Boverflow-x%3A%20hidden%3B%20overflow-y%3A%20hidden%7D%0A.js-plotly-plot%20.plotly%20.user-select-none%20%7Buser-select%3A%20none%7D%0A.js-plotly-plot%20.plotly%20.crisp%20%7Bshape-rendering%3A%20crispedges%7D%0A.js-plotly-plot%20.plotly%20a%20%7Btext-decoration-line%3A%20none%3B%20text-decoration-thickness%3A%20initial%3B%20text-decoration-style%3A%20initial%3B%20text-decoration-color%3A%20initial%7D%0A.js-plotly-plot%20.plotly%2C%20.js-plotly-plot%20.plotly%20div%20%7Bdirection%3A%20ltr%3B%20font-family%3A%20%22Open%20Sans%22%2C%20verdana%2C%20arial%2C%20sans-serif%3B%20margin-top%3A%200px%3B%20margin-right%3A%200px%3B%20margin-bottom%3A%200px%3B%20margin-left%3A%200px%3B%20padding-top%3A%200px%3B%20padding-right%3A%200px%3B%20padding-bottom%3A%200px%3B%20padding-left%3A%200px%7D%0A%23modebar-a62296%20.modebar-btn.active%20.icon%20path%20%7Bfill%3A%20rgba(68%2C%2068%2C%2068%2C%200.7)%7D%0A%23modebar-a62296%20.modebar-btn%20.icon%20path%20%7Bfill%3A%20rgba(68%2C%2068%2C%2068%2C%200.3)%7D%0A*%20%7B-ms-overflow-style%3A%20none%3B%20scrollbar-width%3A%20none%7D%0A*%3A%3A-webkit-scrollbar%20%7Bdisplay%3A%20none%7D%0A.atoti-hidden-in-snapshot%20%7Bdisplay%3A%20none%7D%3C%2Fstyle%3E%3Cdiv%20xmlns%3D%22http%3A%2F%2Fwww.w3.org%2F1999%2Fxhtml%22%20style%3D%22height%3A%20352px%3B%20width%3A%201310px%3B%22%3E%3Cdiv%20class%3D%22ant-root%20css-0%22%3E%3Cdiv%20class%3D%22ant-dropdown-trigger%20css-12ebr42-AWidget%22%3E%3Cdiv%20class%3D%22css-13w0jw1-WidgetLoadingOverlay-ChartWithLoadingOverlay%22%3E%3Cdiv%20class%3D%22css-1b1raxz-DefaultWidgetLoadingOverlay%22%3E%3Cdiv%20class%3D%22css-34a2ml-DefaultWidgetLoadingOverlay%22%3E%3C%2Fdiv%3E%3C%2Fdiv%3E%3Cdiv%20class%3D%22css-1u8fyhz-ChartWithMetaData%22%3E%3Cdiv%20tabindex%3D%220%22%20class%3D%22css-znpfyj-Plot%22%3E%3Cdiv%20class%3D%22css-mb8m0v-Plot%22%3E%3Cdiv%20style%3D%22position%3A%20relative%3B%20display%3A%20inline-block%3B%22%20class%3D%22js-plotly-plot%22%3E%3Cdiv%20class%3D%22plot-container%20plotly%22%3E%3Cdiv%20class%3D%22user-select-none%20svg-container%22%20style%3D%22position%3A%20relative%3B%20width%3A%201310px%3B%20height%3A%20352px%3B%22%3E%3Csvg%20class%3D%22main-svg%22%20xmlns%3D%22http%3A%2F%2Fwww.w3.org%2F2000%2Fsvg%22%20xmlns%3Axlink%3D%22http%3A%2F%2Fwww.w3.org%2F1999%2Fxlink%22%20width%3D%221310%22%20height%3D%22352%22%20style%3D%22background%3A%20rgb(255%2C%20255%2C%20255)%3B%22%3E%3Cdefs%20id%3D%22defs-a62296%22%3E%3Cg%20class%3D%22clips%22%3E%3CclipPath%20id%3D%22clipa62296xyplot%22%20class%3D%22plotclip%22%3E%3Crect%20width%3D%22316.00000000000006%22%20height%3D%22282%22%2F%3E%3C%2FclipPath%3E%3CclipPath%20id%3D%22clipa62296x2yplot%22%20class%3D%22plotclip%22%3E%3Crect%20width%3D%22316.00000000000006%22%20height%3D%22282%22%2F%3E%3C%2FclipPath%3E%3CclipPath%20id%3D%22clipa62296x3yplot%22%20class%3D%22plotclip%22%3E%3Crect%20width%3D%22316%22%20height%3D%22282%22%2F%3E%3C%2FclipPath%3E%3CclipPath%20class%3D%22axesclip%22%20id%3D%22clipa62296x%22%3E%3Crect%20x%3D%2280%22%20y%3D%220%22%20width%3D%22316.00000000000006%22%20height%3D%22352%22%2F%3E%3C%2FclipPath%3E%3CclipPath%20class%3D%22axesclip%22%20id%3D%22clipa62296y%22%3E%3Crect%20x%3D%220%22%20y%3D%2230%22%20width%3D%221310%22%20height%3D%22282%22%2F%3E%3C%2FclipPath%3E%3CclipPath%20class%3D%22axesclip%22%20id%3D%22clipa62296xy%22%3E%3Crect%20x%3D%2280%22%20y%3D%2230%22%20width%3D%22316.00000000000006%22%20height%3D%22282%22%2F%3E%3C%2FclipPath%3E%3CclipPath%20class%3D%22axesclip%22%20id%3D%22clipa62296x2%22%3E%3Crect%20x%3D%22475%22%20y%3D%220%22%20width%3D%22316.00000000000006%22%20height%3D%22352%22%2F%3E%3C%2FclipPath%3E%3CclipPath%20class%3D%22axesclip%22%20id%3D%22clipa62296x2y%22%3E%3Crect%20x%3D%22475%22%20y%3D%2230%22%20width%3D%22316.00000000000006%22%20height%3D%22282%22%2F%3E%3C%2FclipPath%3E%3CclipPath%20class%3D%22axesclip%22%20id%3D%22clipa62296x3%22%3E%3Crect%20x%3D%22870%22%20y%3D%220%22%20width%3D%22316%22%20height%3D%22352%22%2F%3E%3C%2FclipPath%3E%3CclipPath%20class%3D%22axesclip%22%20id%3D%22clipa62296x3y%22%3E%3Crect%20x%3D%22870%22%20y%3D%2230%22%20width%3D%22316%22%20height%3D%22282%22%2F%3E%3C%2FclipPath%3E%3C%2Fg%3E%3Cg%20class%3D%22gradients%22%2F%3E%3C%2Fdefs%3E%3Cg%20class%3D%22bglayer%22%2F%3E%3Cg%20class%3D%22draglayer%20cursor-crosshair%22%3E%3Cg%20class%3D%22xy%22%3E%3Crect%20class%3D%22nsewdrag%20drag%22%20data-subplot%3D%22xy%22%20x%3D%2280%22%20y%3D%2230%22%20width%3D%22316.00000000000006%22%20height%3D%22282%22%20style%3D%22fill%3A%20transparent%3B%20stroke-width%3A%200%3B%20pointer-events%3A%20all%3B%22%2F%3E%3Crect%20class%3D%22nwdrag%20drag%20cursor-nw-resize%22%20data-subplot%3D%22xy%22%20x%3D%2260%22%20y%3D%2210%22%20width%3D%2220%22%20height%3D%2220%22%20style%3D%22fill%3A%20transparent%3B%20stroke-width%3A%200%3B%20pointer-events%3A%20all%3B%22%2F%3E%3Crect%20class%3D%22nedrag%20drag%20cursor-ne-resize%22%20data-subplot%3D%22xy%22%20x%3D%22396.00000000000006%22%20y%3D%2210%22%20width%3D%2220%22%20height%3D%2220%22%20style%3D%22fill%3A%20transparent%3B%20stroke-width%3A%200%3B%20pointer-events%3A%20all%3B%22%2F%3E%3Crect%20class%3D%22swdrag%20drag%20cursor-sw-resize%22%20data-subplot%3D%22xy%22%20x%3D%2260%22%20y%3D%22312%22%20width%3D%2220%22%20height%3D%2220%22%20style%3D%22fill%3A%20transparent%3B%20stroke-width%3A%200%3B%20pointer-events%3A%20all%3B%22%2F%3E%3Crect%20class%3D%22sedrag%20drag%20cursor-se-resize%22%20data-subplot%3D%22xy%22%20x%3D%22396.00000000000006%22%20y%3D%22312%22%20width%3D%2220%22%20height%3D%2220%22%20style%3D%22fill%3A%20transparent%3B%20stroke-width%3A%200%3B%20pointer-events%3A%20all%3B%22%2F%3E%3Crect%20class%3D%22ewdrag%20drag%20cursor-ew-resize%22%20data-subplot%3D%22xy%22%20x%3D%22111.60000000000001%22%20y%3D%22312.5%22%20width%3D%22252.80000000000007%22%20height%3D%2220%22%20style%3D%22fill%3A%20transparent%3B%20stroke-width%3A%200%3B%20pointer-events%3A%20all%3B%22%2F%3E%3Crect%20class%3D%22wdrag%20drag%20cursor-w-resize%22%20data-subplot%3D%22xy%22%20x%3D%2280%22%20y%3D%22312.5%22%20width%3D%2231.60000000000001%22%20height%3D%2220%22%20style%3D%22fill%3A%20transparent%3B%20stroke-width%3A%200%3B%20pointer-events%3A%20all%3B%22%2F%3E%3Crect%20class%3D%22edrag%20drag%20cursor-e-resize%22%20data-subplot%3D%22xy%22%20x%3D%22364.40000000000003%22%20y%3D%22312.5%22%20width%3D%2231.60000000000001%22%20height%3D%2220%22%20style%3D%22fill%3A%20transparent%3B%20stroke-width%3A%200%3B%20pointer-events%3A%20all%3B%22%2F%3E%3Crect%20class%3D%22nsdrag%20drag%20cursor-ns-resize%22%20data-subplot%3D%22xy%22%20x%3D%2259.5%22%20y%3D%2258.2%22%20width%3D%2220%22%20height%3D%22225.60000000000002%22%20style%3D%22fill%3A%20transparent%3B%20stroke-width%3A%200%3B%20pointer-events%3A%20all%3B%22%2F%3E%3Crect%20class%3D%22sdrag%20drag%20cursor-s-resize%22%20data-subplot%3D%22xy%22%20x%3D%2259.5%22%20y%3D%22283.8%22%20width%3D%2220%22%20height%3D%2228.200000000000003%22%20style%3D%22fill%3A%20transparent%3B%20stroke-width%3A%200%3B%20pointer-events%3A%20all%3B%22%2F%3E%3Crect%20class%3D%22ndrag%20drag%20cursor-n-resize%22%20data-subplot%3D%22xy%22%20x%3D%2259.5%22%20y%3D%2230%22%20width%3D%2220%22%20height%3D%2228.200000000000003%22%20style%3D%22fill%3A%20transparent%3B%20stroke-width%3A%200%3B%20pointer-events%3A%20all%3B%22%2F%3E%3C%2Fg%3E%3Cg%20class%3D%22x2y%22%3E%3Crect%20class%3D%22nsewdrag%20drag%22%20data-subplot%3D%22x2y%22%20x%3D%22475%22%20y%3D%2230%22%20width%3D%22316.00000000000006%22%20height%3D%22282%22%20style%3D%22fill%3A%20transparent%3B%20stroke-width%3A%200%3B%20pointer-events%3A%20all%3B%22%2F%3E%3Crect%20class%3D%22nwdrag%20drag%20cursor-nw-resize%22%20data-subplot%3D%22x2y%22%20x%3D%22455%22%20y%3D%2210%22%20width%3D%2220%22%20height%3D%2220%22%20style%3D%22fill%3A%20transparent%3B%20stroke-width%3A%200%3B%20pointer-events%3A%20all%3B%22%2F%3E%3Crect%20class%3D%22nedrag%20drag%20cursor-ne-resize%22%20data-subplot%3D%22x2y%22%20x%3D%22791%22%20y%3D%2210%22%20width%3D%2220%22%20height%3D%2220%22%20style%3D%22fill%3A%20transparent%3B%20stroke-width%3A%200%3B%20pointer-events%3A%20all%3B%22%2F%3E%3Crect%20class%3D%22swdrag%20drag%20cursor-sw-resize%22%20data-subplot%3D%22x2y%22%20x%3D%22455%22%20y%3D%22312%22%20width%3D%2220%22%20height%3D%2220%22%20style%3D%22fill%3A%20transparent%3B%20stroke-width%3A%200%3B%20pointer-events%3A%20all%3B%22%2F%3E%3Crect%20class%3D%22sedrag%20drag%20cursor-se-resize%22%20data-subplot%3D%22x2y%22%20x%3D%22791%22%20y%3D%22312%22%20width%3D%2220%22%20height%3D%2220%22%20style%3D%22fill%3A%20transparent%3B%20stroke-width%3A%200%3B%20pointer-events%3A%20all%3B%22%2F%3E%3Crect%20class%3D%22ewdrag%20drag%20cursor-ew-resize%22%20data-subplot%3D%22x2y%22%20x%3D%22506.6%22%20y%3D%22312.5%22%20width%3D%22252.80000000000007%22%20height%3D%2220%22%20style%3D%22fill%3A%20transparent%3B%20stroke-width%3A%200%3B%20pointer-events%3A%20all%3B%22%2F%3E%3Crect%20class%3D%22wdrag%20drag%20cursor-w-resize%22%20data-subplot%3D%22x2y%22%20x%3D%22475%22%20y%3D%22312.5%22%20width%3D%2231.60000000000001%22%20height%3D%2220%22%20style%3D%22fill%3A%20transparent%3B%20stroke-width%3A%200%3B%20pointer-events%3A%20all%3B%22%2F%3E%3Crect%20class%3D%22edrag%20drag%20cursor-e-resize%22%20data-subplot%3D%22x2y%22%20x%3D%22759.4000000000001%22%20y%3D%22312.5%22%20width%3D%2231.60000000000001%22%20height%3D%2220%22%20style%3D%22fill%3A%20transparent%3B%20stroke-width%3A%200%3B%20pointer-events%3A%20all%3B%22%2F%3E%3C%2Fg%3E%3Cg%20class%3D%22x3y%22%3E%3Crect%20class%3D%22nsewdrag%20drag%22%20data-subplot%3D%22x3y%22%20x%3D%22870%22%20y%3D%2230%22%20width%3D%22316%22%20height%3D%22282%22%20style%3D%22fill%3A%20transparent%3B%20stroke-width%3A%200%3B%20pointer-events%3A%20all%3B%22%2F%3E%3Crect%20class%3D%22nwdrag%20drag%20cursor-nw-resize%22%20data-subplot%3D%22x3y%22%20x%3D%22850%22%20y%3D%2210%22%20width%3D%2220%22%20height%3D%2220%22%20style%3D%22fill%3A%20transparent%3B%20stroke-width%3A%200%3B%20pointer-events%3A%20all%3B%22%2F%3E%3Crect%20class%3D%22nedrag%20drag%20cursor-ne-resize%22%20data-subplot%3D%22x3y%22%20x%3D%221186%22%20y%3D%2210%22%20width%3D%2220%22%20height%3D%2220%22%20style%3D%22fill%3A%20transparent%3B%20stroke-width%3A%200%3B%20pointer-events%3A%20all%3B%22%2F%3E%3Crect%20class%3D%22swdrag%20drag%20cursor-sw-resize%22%20data-subplot%3D%22x3y%22%20x%3D%22850%22%20y%3D%22312%22%20width%3D%2220%22%20height%3D%2220%22%20style%3D%22fill%3A%20transparent%3B%20stroke-width%3A%200%3B%20pointer-events%3A%20all%3B%22%2F%3E%3Crect%20class%3D%22sedrag%20drag%20cursor-se-resize%22%20data-subplot%3D%22x3y%22%20x%3D%221186%22%20y%3D%22312%22%20width%3D%2220%22%20height%3D%2220%22%20style%3D%22fill%3A%20transparent%3B%20stroke-width%3A%200%3B%20pointer-events%3A%20all%3B%22%2F%3E%3Crect%20class%3D%22ewdrag%20drag%20cursor-ew-resize%22%20data-subplot%3D%22x3y%22%20x%3D%22901.6%22%20y%3D%22312.5%22%20width%3D%22252.8%22%20height%3D%2220%22%20style%3D%22fill%3A%20transparent%3B%20stroke-width%3A%200%3B%20pointer-events%3A%20all%3B%22%2F%3E%3Crect%20class%3D%22wdrag%20drag%20cursor-w-resize%22%20data-subplot%3D%22x3y%22%20x%3D%22870%22%20y%3D%22312.5%22%20width%3D%2231.6%22%20height%3D%2220%22%20style%3D%22fill%3A%20transparent%3B%20stroke-width%3A%200%3B%20pointer-events%3A%20all%3B%22%2F%3E%3Crect%20class%3D%22edrag%20drag%20cursor-e-resize%22%20data-subplot%3D%22x3y%22%20x%3D%221154.4%22%20y%3D%22312.5%22%20width%3D%2231.6%22%20height%3D%2220%22%20style%3D%22fill%3A%20transparent%3B%20stroke-width%3A%200%3B%20pointer-events%3A%20all%3B%22%2F%3E%3C%2Fg%3E%3C%2Fg%3E%3Cg%20class%3D%22layer-below%22%3E%3Cg%20class%3D%22imagelayer%22%2F%3E%3Cg%20class%3D%22shapelayer%22%2F%3E%3C%2Fg%3E%3Cg%20class%3D%22cartesianlayer%22%3E%3Cg%20class%3D%22subplot%20xy%22%3E%3Cg%20class%3D%22layer-subplot%22%3E%3Cg%20class%3D%22shapelayer%22%2F%3E%3Cg%20class%3D%22imagelayer%22%2F%3E%3C%2Fg%3E%3Cg%20class%3D%22gridlayer%22%3E%3Cg%20class%3D%22x%22%3E%3Cpath%20class%3D%22xgrid%20crisp%22%20transform%3D%22translate(157.67000000000002%2C0)%22%20d%3D%22M0%2C30v282%22%20style%3D%22stroke%3A%20rgb(89%2C%2089%2C%2089)%3B%20stroke-opacity%3A%200.25%3B%20stroke-width%3A%201px%3B%22%2F%3E%3Cpath%20class%3D%22xgrid%20crisp%22%20transform%3D%22translate(273.11%2C0)%22%20d%3D%22M0%2C30v282%22%20style%3D%22stroke%3A%20rgb(89%2C%2089%2C%2089)%3B%20stroke-opacity%3A%200.25%3B%20stroke-width%3A%201px%3B%22%2F%3E%3Cpath%20class%3D%22xgrid%20crisp%22%20transform%3D%22translate(388.56%2C0)%22%20d%3D%22M0%2C30v282%22%20style%3D%22stroke%3A%20rgb(89%2C%2089%2C%2089)%3B%20stroke-opacity%3A%200.25%3B%20stroke-width%3A%201px%3B%22%2F%3E%3C%2Fg%3E%3Cg%20class%3D%22y%22%3E%3Cpath%20class%3D%22ygrid%20crisp%22%20transform%3D%22translate(0%2C298.45)%22%20d%3D%22M80%2C0h316.00000000000006%22%20style%3D%22stroke%3A%20rgb(89%2C%2089%2C%2089)%3B%20stroke-opacity%3A%200.25%3B%20stroke-width%3A%201px%3B%22%2F%3E%3Cpath%20class%3D%22ygrid%20crisp%22%20transform%3D%22translate(0%2C258.51)%22%20d%3D%22M80%2C0h316.00000000000006%22%20style%3D%22stroke%3A%20rgb(89%2C%2089%2C%2089)%3B%20stroke-opacity%3A%200.25%3B%20stroke-width%3A%201px%3B%22%2F%3E%3Cpath%20class%3D%22ygrid%20crisp%22%20transform%3D%22translate(0%2C218.58)%22%20d%3D%22M80%2C0h316.00000000000006%22%20style%3D%22stroke%3A%20rgb(89%2C%2089%2C%2089)%3B%20stroke-opacity%3A%200.25%3B%20stroke-width%3A%201px%3B%22%2F%3E%3Cpath%20class%3D%22ygrid%20crisp%22%20transform%3D%22translate(0%2C178.64)%22%20d%3D%22M80%2C0h316.00000000000006%22%20style%3D%22stroke%3A%20rgb(89%2C%2089%2C%2089)%3B%20stroke-opacity%3A%200.25%3B%20stroke-width%3A%201px%3B%22%2F%3E%3Cpath%20class%3D%22ygrid%20crisp%22%20transform%3D%22translate(0%2C138.70999999999998)%22%20d%3D%22M80%2C0h316.00000000000006%22%20style%3D%22stroke%3A%20rgb(89%2C%2089%2C%2089)%3B%20stroke-opacity%3A%200.25%3B%20stroke-width%3A%201px%3B%22%2F%3E%3Cpath%20class%3D%22ygrid%20crisp%22%20transform%3D%22translate(0%2C98.78)%22%20d%3D%22M80%2C0h316.00000000000006%22%20style%3D%22stroke%3A%20rgb(89%2C%2089%2C%2089)%3B%20stroke-opacity%3A%200.25%3B%20stroke-width%3A%201px%3B%22%2F%3E%3Cpath%20class%3D%22ygrid%20crisp%22%20transform%3D%22translate(0%2C58.84)%22%20d%3D%22M80%2C0h316.00000000000006%22%20style%3D%22stroke%3A%20rgb(89%2C%2089%2C%2089)%3B%20stroke-opacity%3A%200.25%3B%20stroke-width%3A%201px%3B%22%2F%3E%3C%2Fg%3E%3C%2Fg%3E%3Cg%20class%3D%22zerolinelayer%22%2F%3E%3Cpath%20class%3D%22xlines-below%22%2F%3E%3Cpath%20class%3D%22ylines-below%22%2F%3E%3Cg%20class%3D%22overlines-below%22%2F%3E%3Cg%20class%3D%22xaxislayer-below%22%2F%3E%3Cg%20class%3D%22yaxislayer-below%22%2F%3E%3Cg%20class%3D%22overaxes-below%22%2F%3E%3Cg%20class%3D%22plot%22%20transform%3D%22translate(80%2C30)%22%20clip-path%3D%22url('%23clipa62296xyplot')%22%3E%3Cg%20class%3D%22scatterlayer%20mlayer%22%3E%3Cg%20class%3D%22trace%20scatter%20trace048ec7%22%20style%3D%22stroke-miterlimit%3A%202%3B%20opacity%3A%201%3B%22%3E%3Cg%20class%3D%22fills%22%2F%3E%3Cg%20class%3D%22errorbars%22%2F%3E%3Cg%20class%3D%22lines%22%2F%3E%3Cg%20class%3D%22points%22%3E%3Cpath%20class%3D%22point%22%20transform%3D%22translate(78.3%2C121.44)%22%20d%3D%22M50%2C0A50%2C50%200%201%2C1%200%2C-50A50%2C50%200%200%2C1%2050%2C0Z%22%20style%3D%22opacity%3A%200.7%3B%20stroke-width%3A%201px%3B%20fill%3A%20rgb(78%2C%20121%2C%20167)%3B%20fill-opacity%3A%201%3B%20stroke%3A%20rgb(255%2C%20255%2C%20255)%3B%20stroke-opacity%3A%201%3B%22%2F%3E%3C%2Fg%3E%3Cg%20class%3D%22text%22%2F%3E%3C%2Fg%3E%3Cg%20class%3D%22trace%20scatter%20tracedb3d50%22%20style%3D%22stroke-miterlimit%3A%202%3B%20opacity%3A%201%3B%22%3E%3Cg%20class%3D%22fills%22%2F%3E%3Cg%20class%3D%22errorbars%22%2F%3E%3Cg%20class%3D%22lines%22%2F%3E%3Cg%20class%3D%22points%22%3E%3Cpath%20class%3D%22point%22%20transform%3D%22translate(165.39%2C99.43)%22%20d%3D%22M49.51%2C0A49.51%2C49.51%200%201%2C1%200%2C-49.51A49.51%2C49.51%200%200%2C1%2049.51%2C0Z%22%20style%3D%22opacity%3A%200.7%3B%20stroke-width%3A%201px%3B%20fill%3A%20rgb(242%2C%20142%2C%2044)%3B%20fill-opacity%3A%201%3B%20stroke%3A%20rgb(255%2C%20255%2C%20255)%3B%20stroke-opacity%3A%201%3B%22%2F%3E%3C%2Fg%3E%3Cg%20class%3D%22text%22%2F%3E%3C%2Fg%3E%3Cg%20class%3D%22trace%20scatter%20trace6fd2a4%22%20style%3D%22stroke-miterlimit%3A%202%3B%20opacity%3A%201%3B%22%3E%3Cg%20class%3D%22fills%22%2F%3E%3Cg%20class%3D%22errorbars%22%2F%3E%3Cg%20class%3D%22lines%22%2F%3E%3Cg%20class%3D%22points%22%3E%3Cpath%20class%3D%22point%22%20transform%3D%22translate(246.07%2C81.81)%22%20d%3D%22M43.31%2C0A43.31%2C43.31%200%201%2C1%200%2C-43.31A43.31%2C43.31%200%200%2C1%2043.31%2C0Z%22%20style%3D%22opacity%3A%200.7%3B%20stroke-width%3A%201px%3B%20fill%3A%20rgb(225%2C%2087%2C%2089)%3B%20fill-opacity%3A%201%3B%20stroke%3A%20rgb(255%2C%20255%2C%20255)%3B%20stroke-opacity%3A%201%3B%22%2F%3E%3C%2Fg%3E%3Cg%20class%3D%22text%22%2F%3E%3C%2Fg%3E%3C%2Fg%3E%3C%2Fg%3E%3Cg%20class%3D%22overplot%22%2F%3E%3Cpath%20class%3D%22xlines-above%20crisp%22%20style%3D%22fill%3A%20none%3B%20stroke-width%3A%201px%3B%20stroke%3A%20rgb(89%2C%2089%2C%2089)%3B%20stroke-opacity%3A%200.25%3B%22%20d%3D%22M79%2C312.5H396.00000000000006%22%2F%3E%3Cpath%20class%3D%22ylines-above%20crisp%22%20style%3D%22fill%3A%20none%3B%20stroke-width%3A%201px%3B%20stroke%3A%20rgb(89%2C%2089%2C%2089)%3B%20stroke-opacity%3A%200.25%3B%22%20d%3D%22M79.5%2C30V312%22%2F%3E%3Cg%20class%3D%22overlines-above%22%2F%3E%3Cg%20class%3D%22xaxislayer-above%22%3E%3Cg%20class%3D%22xtick%22%3E%3Ctext%20text-anchor%3D%22middle%22%20x%3D%220%22%20y%3D%22327.4%22%20data-unformatted%3D%220.7%22%20data-math%3D%22N%22%20transform%3D%22translate(157.67000000000002%2C0)%22%20style%3D%22font-family%3A%20%26quot%3BOpen%20Sans%26quot%3B%2C%20verdana%2C%20arial%2C%20sans-serif%3B%20font-size%3A%2012px%3B%20fill%3A%20rgb(89%2C%2089%2C%2089)%3B%20fill-opacity%3A%201%3B%20white-space%3A%20pre%3B%22%3E0.7%3C%2Ftext%3E%3C%2Fg%3E%3Cg%20class%3D%22xtick%22%3E%3Ctext%20text-anchor%3D%22middle%22%20x%3D%220%22%20y%3D%22327.4%22%20data-unformatted%3D%220.8%22%20data-math%3D%22N%22%20transform%3D%22translate(273.11%2C0)%22%20style%3D%22font-family%3A%20%26quot%3BOpen%20Sans%26quot%3B%2C%20verdana%2C%20arial%2C%20sans-serif%3B%20font-size%3A%2012px%3B%20fill%3A%20rgb(89%2C%2089%2C%2089)%3B%20fill-opacity%3A%201%3B%20white-space%3A%20pre%3B%22%3E0.8%3C%2Ftext%3E%3C%2Fg%3E%3Cg%20class%3D%22xtick%22%3E%3Ctext%20text-anchor%3D%22middle%22%20x%3D%220%22%20y%3D%22327.4%22%20data-unformatted%3D%220.9%22%20data-math%3D%22N%22%20transform%3D%22translate(388.56%2C0)%22%20style%3D%22font-family%3A%20%26quot%3BOpen%20Sans%26quot%3B%2C%20verdana%2C%20arial%2C%20sans-serif%3B%20font-size%3A%2012px%3B%20fill%3A%20rgb(89%2C%2089%2C%2089)%3B%20fill-opacity%3A%201%3B%20white-space%3A%20pre%3B%22%3E0.9%3C%2Ftext%3E%3C%2Fg%3E%3C%2Fg%3E%3Cg%20class%3D%22yaxislayer-above%22%3E%3Cg%20class%3D%22ytick%22%3E%3Ctext%20text-anchor%3D%22end%22%20x%3D%2276.6%22%20y%3D%224.199999999999999%22%20data-unformatted%3D%220.4%22%20data-math%3D%22N%22%20transform%3D%22translate(0%2C298.45)%22%20style%3D%22font-family%3A%20%26quot%3BOpen%20Sans%26quot%3B%2C%20verdana%2C%20arial%2C%20sans-serif%3B%20font-size%3A%2012px%3B%20fill%3A%20rgb(89%2C%2089%2C%2089)%3B%20fill-opacity%3A%201%3B%20white-space%3A%20pre%3B%22%3E0.4%3C%2Ftext%3E%3C%2Fg%3E%3Cg%20class%3D%22ytick%22%3E%3Ctext%20text-anchor%3D%22end%22%20x%3D%2276.6%22%20y%3D%224.199999999999999%22%20data-unformatted%3D%220.5%22%20data-math%3D%22N%22%20transform%3D%22translate(0%2C258.51)%22%20style%3D%22font-family%3A%20%26quot%3BOpen%20Sans%26quot%3B%2C%20verdana%2C%20arial%2C%20sans-serif%3B%20font-size%3A%2012px%3B%20fill%3A%20rgb(89%2C%2089%2C%2089)%3B%20fill-opacity%3A%201%3B%20white-space%3A%20pre%3B%22%3E0.5%3C%2Ftext%3E%3C%2Fg%3E%3Cg%20class%3D%22ytick%22%3E%3Ctext%20text-anchor%3D%22end%22%20x%3D%2276.6%22%20y%3D%224.199999999999999%22%20data-unformatted%3D%220.6%22%20data-math%3D%22N%22%20transform%3D%22translate(0%2C218.58)%22%20style%3D%22font-family%3A%20%26quot%3BOpen%20Sans%26quot%3B%2C%20verdana%2C%20arial%2C%20sans-serif%3B%20font-size%3A%2012px%3B%20fill%3A%20rgb(89%2C%2089%2C%2089)%3B%20fill-opacity%3A%201%3B%20white-space%3A%20pre%3B%22%3E0.6%3C%2Ftext%3E%3C%2Fg%3E%3Cg%20class%3D%22ytick%22%3E%3Ctext%20text-anchor%3D%22end%22%20x%3D%2276.6%22%20y%3D%224.199999999999999%22%20data-unformatted%3D%220.7%22%20data-math%3D%22N%22%20transform%3D%22translate(0%2C178.64)%22%20style%3D%22font-family%3A%20%26quot%3BOpen%20Sans%26quot%3B%2C%20verdana%2C%20arial%2C%20sans-serif%3B%20font-size%3A%2012px%3B%20fill%3A%20rgb(89%2C%2089%2C%2089)%3B%20fill-opacity%3A%201%3B%20white-space%3A%20pre%3B%22%3E0.7%3C%2Ftext%3E%3C%2Fg%3E%3Cg%20class%3D%22ytick%22%3E%3Ctext%20text-anchor%3D%22end%22%20x%3D%2276.6%22%20y%3D%224.199999999999999%22%20data-unformatted%3D%220.8%22%20data-math%3D%22N%22%20transform%3D%22translate(0%2C138.70999999999998)%22%20style%3D%22font-family%3A%20%26quot%3BOpen%20Sans%26quot%3B%2C%20verdana%2C%20arial%2C%20sans-serif%3B%20font-size%3A%2012px%3B%20fill%3A%20rgb(89%2C%2089%2C%2089)%3B%20fill-opacity%3A%201%3B%20white-space%3A%20pre%3B%22%3E0.8%3C%2Ftext%3E%3C%2Fg%3E%3Cg%20class%3D%22ytick%22%3E%3Ctext%20text-anchor%3D%22end%22%20x%3D%2276.6%22%20y%3D%224.199999999999999%22%20data-unformatted%3D%220.9%22%20data-math%3D%22N%22%20transform%3D%22translate(0%2C98.78)%22%20style%3D%22font-family%3A%20%26quot%3BOpen%20Sans%26quot%3B%2C%20verdana%2C%20arial%2C%20sans-serif%3B%20font-size%3A%2012px%3B%20fill%3A%20rgb(89%2C%2089%2C%2089)%3B%20fill-opacity%3A%201%3B%20white-space%3A%20pre%3B%22%3E0.9%3C%2Ftext%3E%3C%2Fg%3E%3Cg%20class%3D%22ytick%22%3E%3Ctext%20text-anchor%3D%22end%22%20x%3D%2276.6%22%20y%3D%224.199999999999999%22%20data-unformatted%3D%221%22%20data-math%3D%22N%22%20transform%3D%22translate(0%2C58.84)%22%20style%3D%22font-family%3A%20%26quot%3BOpen%20Sans%26quot%3B%2C%20verdana%2C%20arial%2C%20sans-serif%3B%20font-size%3A%2012px%3B%20fill%3A%20rgb(89%2C%2089%2C%2089)%3B%20fill-opacity%3A%201%3B%20white-space%3A%20pre%3B%22%3E1%3C%2Ftext%3E%3C%2Fg%3E%3C%2Fg%3E%3Cg%20class%3D%22overaxes-above%22%2F%3E%3C%2Fg%3E%3Cg%20class%3D%22subplot%20x2y%22%3E%3Cg%20class%3D%22layer-subplot%22%3E%3Cg%20class%3D%22shapelayer%22%2F%3E%3Cg%20class%3D%22imagelayer%22%2F%3E%3C%2Fg%3E%3Cg%20class%3D%22gridlayer%22%3E%3Cg%20class%3D%22x2%22%3E%3Cpath%20class%3D%22x2grid%20crisp%22%20transform%3D%22translate(527.8%2C0)%22%20d%3D%22M0%2C30v282%22%20style%3D%22stroke%3A%20rgb(238%2C%20238%2C%20238)%3B%20stroke-opacity%3A%201%3B%20stroke-width%3A%201px%3B%22%2F%3E%3Cpath%20class%3D%22x2grid%20crisp%22%20transform%3D%22translate(627.48%2C0)%22%20d%3D%22M0%2C30v282%22%20style%3D%22stroke%3A%20rgb(238%2C%20238%2C%20238)%3B%20stroke-opacity%3A%201%3B%20stroke-width%3A%201px%3B%22%2F%3E%3Cpath%20class%3D%22x2grid%20crisp%22%20transform%3D%22translate(727.17%2C0)%22%20d%3D%22M0%2C30v282%22%20style%3D%22stroke%3A%20rgb(238%2C%20238%2C%20238)%3B%20stroke-opacity%3A%201%3B%20stroke-width%3A%201px%3B%22%2F%3E%3C%2Fg%3E%3Cg%20class%3D%22y%22%3E%3Cpath%20class%3D%22ygrid%20crisp%22%20transform%3D%22translate(0%2C298.45)%22%20d%3D%22M475%2C0h316.00000000000006%22%20style%3D%22stroke%3A%20rgb(89%2C%2089%2C%2089)%3B%20stroke-opacity%3A%200.25%3B%20stroke-width%3A%201px%3B%22%2F%3E%3Cpath%20class%3D%22ygrid%20crisp%22%20transform%3D%22translate(0%2C258.51)%22%20d%3D%22M475%2C0h316.00000000000006%22%20style%3D%22stroke%3A%20rgb(89%2C%2089%2C%2089)%3B%20stroke-opacity%3A%200.25%3B%20stroke-width%3A%201px%3B%22%2F%3E%3Cpath%20class%3D%22ygrid%20crisp%22%20transform%3D%22translate(0%2C218.58)%22%20d%3D%22M475%2C0h316.00000000000006%22%20style%3D%22stroke%3A%20rgb(89%2C%2089%2C%2089)%3B%20stroke-opacity%3A%200.25%3B%20stroke-width%3A%201px%3B%22%2F%3E%3Cpath%20class%3D%22ygrid%20crisp%22%20transform%3D%22translate(0%2C178.64)%22%20d%3D%22M475%2C0h316.00000000000006%22%20style%3D%22stroke%3A%20rgb(89%2C%2089%2C%2089)%3B%20stroke-opacity%3A%200.25%3B%20stroke-width%3A%201px%3B%22%2F%3E%3Cpath%20class%3D%22ygrid%20crisp%22%20transform%3D%22translate(0%2C138.70999999999998)%22%20d%3D%22M475%2C0h316.00000000000006%22%20style%3D%22stroke%3A%20rgb(89%2C%2089%2C%2089)%3B%20stroke-opacity%3A%200.25%3B%20stroke-width%3A%201px%3B%22%2F%3E%3Cpath%20class%3D%22ygrid%20crisp%22%20transform%3D%22translate(0%2C98.78)%22%20d%3D%22M475%2C0h316.00000000000006%22%20style%3D%22stroke%3A%20rgb(89%2C%2089%2C%2089)%3B%20stroke-opacity%3A%200.25%3B%20stroke-width%3A%201px%3B%22%2F%3E%3Cpath%20class%3D%22ygrid%20crisp%22%20transform%3D%22translate(0%2C58.84)%22%20d%3D%22M475%2C0h316.00000000000006%22%20style%3D%22stroke%3A%20rgb(89%2C%2089%2C%2089)%3B%20stroke-opacity%3A%200.25%3B%20stroke-width%3A%201px%3B%22%2F%3E%3C%2Fg%3E%3C%2Fg%3E%3Cg%20class%3D%22zerolinelayer%22%2F%3E%3Cpath%20class%3D%22xlines-below%22%2F%3E%3Cpath%20class%3D%22ylines-below%22%2F%3E%3Cg%20class%3D%22overlines-below%22%2F%3E%3Cg%20class%3D%22xaxislayer-below%22%2F%3E%3Cg%20class%3D%22yaxislayer-below%22%2F%3E%3Cg%20class%3D%22overaxes-below%22%2F%3E%3Cg%20class%3D%22plot%22%20transform%3D%22translate(475%2C30)%22%20clip-path%3D%22url('%23clipa62296x2yplot')%22%3E%3Cg%20class%3D%22scatterlayer%20mlayer%22%3E%3Cg%20class%3D%22trace%20scatter%20trace590267%22%20style%3D%22stroke-miterlimit%3A%202%3B%20opacity%3A%201%3B%22%3E%3Cg%20class%3D%22fills%22%2F%3E%3Cg%20class%3D%22errorbars%22%2F%3E%3Cg%20class%3D%22lines%22%2F%3E%3Cg%20class%3D%22points%22%3E%3Cpath%20class%3D%22point%22%20transform%3D%22translate(72.99%2C210.71)%22%20d%3D%22M45.75%2C0A45.75%2C45.75%200%201%2C1%200%2C-45.75A45.75%2C45.75%200%200%2C1%2045.75%2C0Z%22%20style%3D%22opacity%3A%200.7%3B%20stroke-width%3A%201px%3B%20fill%3A%20rgb(78%2C%20121%2C%20167)%3B%20fill-opacity%3A%201%3B%20stroke%3A%20rgb(255%2C%20255%2C%20255)%3B%20stroke-opacity%3A%201%3B%22%2F%3E%3C%2Fg%3E%3Cg%20class%3D%22text%22%2F%3E%3C%2Fg%3E%3Cg%20class%3D%22trace%20scatter%20tracec80f9f%22%20style%3D%22stroke-miterlimit%3A%202%3B%20opacity%3A%201%3B%22%3E%3Cg%20class%3D%22fills%22%2F%3E%3Cg%20class%3D%22errorbars%22%2F%3E%3Cg%20class%3D%22lines%22%2F%3E%3Cg%20class%3D%22points%22%3E%3Cpath%20class%3D%22point%22%20transform%3D%22translate(142.62%2C161.14)%22%20d%3D%22M47.44%2C0A47.44%2C47.44%200%201%2C1%200%2C-47.44A47.44%2C47.44%200%200%2C1%2047.44%2C0Z%22%20style%3D%22opacity%3A%200.7%3B%20stroke-width%3A%201px%3B%20fill%3A%20rgb(242%2C%20142%2C%2044)%3B%20fill-opacity%3A%201%3B%20stroke%3A%20rgb(255%2C%20255%2C%20255)%3B%20stroke-opacity%3A%201%3B%22%2F%3E%3C%2Fg%3E%3Cg%20class%3D%22text%22%2F%3E%3C%2Fg%3E%3Cg%20class%3D%22trace%20scatter%20trace33b349%22%20style%3D%22stroke-miterlimit%3A%202%3B%20opacity%3A%201%3B%22%3E%3Cg%20class%3D%22fills%22%2F%3E%3Cg%20class%3D%22errorbars%22%2F%3E%3Cg%20class%3D%22lines%22%2F%3E%3Cg%20class%3D%22points%22%3E%3Cpath%20class%3D%22point%22%20transform%3D%22translate(242.28%2C101.58)%22%20d%3D%22M46.33%2C0A46.33%2C46.33%200%201%2C1%200%2C-46.33A46.33%2C46.33%200%200%2C1%2046.33%2C0Z%22%20style%3D%22opacity%3A%200.7%3B%20stroke-width%3A%201px%3B%20fill%3A%20rgb(225%2C%2087%2C%2089)%3B%20fill-opacity%3A%201%3B%20stroke%3A%20rgb(255%2C%20255%2C%20255)%3B%20stroke-opacity%3A%201%3B%22%2F%3E%3C%2Fg%3E%3Cg%20class%3D%22text%22%2F%3E%3C%2Fg%3E%3C%2Fg%3E%3C%2Fg%3E%3Cg%20class%3D%22overplot%22%2F%3E%3Cpath%20class%3D%22xlines-above%20crisp%22%20style%3D%22fill%3A%20none%3B%22%20d%3D%22M0%2C0%22%2F%3E%3Cpath%20class%3D%22ylines-above%20crisp%22%20style%3D%22fill%3A%20none%3B%22%20d%3D%22M0%2C0%22%2F%3E%3Cg%20class%3D%22overlines-above%22%2F%3E%3Cg%20class%3D%22xaxislayer-above%22%3E%3Cg%20class%3D%22x2tick%22%3E%3Ctext%20text-anchor%3D%22middle%22%20x%3D%220%22%20y%3D%22325%22%20data-unformatted%3D%220.4%22%20data-math%3D%22N%22%20transform%3D%22translate(527.8%2C0)%22%20style%3D%22font-family%3A%20%26quot%3BOpen%20Sans%26quot%3B%2C%20verdana%2C%20arial%2C%20sans-serif%3B%20font-size%3A%2012px%3B%20fill%3A%20rgb(89%2C%2089%2C%2089)%3B%20fill-opacity%3A%201%3B%20white-space%3A%20pre%3B%22%3E0.4%3C%2Ftext%3E%3C%2Fg%3E%3Cg%20class%3D%22x2tick%22%3E%3Ctext%20text-anchor%3D%22middle%22%20x%3D%220%22%20y%3D%22325%22%20data-unformatted%3D%220.6%22%20data-math%3D%22N%22%20transform%3D%22translate(627.48%2C0)%22%20style%3D%22font-family%3A%20%26quot%3BOpen%20Sans%26quot%3B%2C%20verdana%2C%20arial%2C%20sans-serif%3B%20font-size%3A%2012px%3B%20fill%3A%20rgb(89%2C%2089%2C%2089)%3B%20fill-opacity%3A%201%3B%20white-space%3A%20pre%3B%22%3E0.6%3C%2Ftext%3E%3C%2Fg%3E%3Cg%20class%3D%22x2tick%22%3E%3Ctext%20text-anchor%3D%22middle%22%20x%3D%220%22%20y%3D%22325%22%20data-unformatted%3D%220.8%22%20data-math%3D%22N%22%20transform%3D%22translate(727.17%2C0)%22%20style%3D%22font-family%3A%20%26quot%3BOpen%20Sans%26quot%3B%2C%20verdana%2C%20arial%2C%20sans-serif%3B%20font-size%3A%2012px%3B%20fill%3A%20rgb(89%2C%2089%2C%2089)%3B%20fill-opacity%3A%201%3B%20white-space%3A%20pre%3B%22%3E0.8%3C%2Ftext%3E%3C%2Fg%3E%3C%2Fg%3E%3Cg%20class%3D%22yaxislayer-above%22%2F%3E%3Cg%20class%3D%22overaxes-above%22%2F%3E%3C%2Fg%3E%3Cg%20class%3D%22subplot%20x3y%22%3E%3Cg%20class%3D%22layer-subplot%22%3E%3Cg%20class%3D%22shapelayer%22%2F%3E%3Cg%20class%3D%22imagelayer%22%2F%3E%3C%2Fg%3E%3Cg%20class%3D%22gridlayer%22%3E%3Cg%20class%3D%22x3%22%3E%3Cpath%20class%3D%22x3grid%20crisp%22%20transform%3D%22translate(908.24%2C0)%22%20d%3D%22M0%2C30v282%22%20style%3D%22stroke%3A%20rgb(238%2C%20238%2C%20238)%3B%20stroke-opacity%3A%201%3B%20stroke-width%3A%201px%3B%22%2F%3E%3Cpath%20class%3D%22x3grid%20crisp%22%20transform%3D%22translate(977.09%2C0)%22%20d%3D%22M0%2C30v282%22%20style%3D%22stroke%3A%20rgb(238%2C%20238%2C%20238)%3B%20stroke-opacity%3A%201%3B%20stroke-width%3A%201px%3B%22%2F%3E%3Cpath%20class%3D%22x3grid%20crisp%22%20transform%3D%22translate(1045.94%2C0)%22%20d%3D%22M0%2C30v282%22%20style%3D%22stroke%3A%20rgb(238%2C%20238%2C%20238)%3B%20stroke-opacity%3A%201%3B%20stroke-width%3A%201px%3B%22%2F%3E%3Cpath%20class%3D%22x3grid%20crisp%22%20transform%3D%22translate(1114.79%2C0)%22%20d%3D%22M0%2C30v282%22%20style%3D%22stroke%3A%20rgb(238%2C%20238%2C%20238)%3B%20stroke-opacity%3A%201%3B%20stroke-width%3A%201px%3B%22%2F%3E%3Cpath%20class%3D%22x3grid%20crisp%22%20transform%3D%22translate(1183.6399999999999%2C0)%22%20d%3D%22M0%2C30v282%22%20style%3D%22stroke%3A%20rgb(238%2C%20238%2C%20238)%3B%20stroke-opacity%3A%201%3B%20stroke-width%3A%201px%3B%22%2F%3E%3C%2Fg%3E%3Cg%20class%3D%22y%22%3E%3Cpath%20class%3D%22ygrid%20crisp%22%20transform%3D%22translate(0%2C298.45)%22%20d%3D%22M870%2C0h316%22%20style%3D%22stroke%3A%20rgb(89%2C%2089%2C%2089)%3B%20stroke-opacity%3A%200.25%3B%20stroke-width%3A%201px%3B%22%2F%3E%3Cpath%20class%3D%22ygrid%20crisp%22%20transform%3D%22translate(0%2C258.51)%22%20d%3D%22M870%2C0h316%22%20style%3D%22stroke%3A%20rgb(89%2C%2089%2C%2089)%3B%20stroke-opacity%3A%200.25%3B%20stroke-width%3A%201px%3B%22%2F%3E%3Cpath%20class%3D%22ygrid%20crisp%22%20transform%3D%22translate(0%2C218.58)%22%20d%3D%22M870%2C0h316%22%20style%3D%22stroke%3A%20rgb(89%2C%2089%2C%2089)%3B%20stroke-opacity%3A%200.25%3B%20stroke-width%3A%201px%3B%22%2F%3E%3Cpath%20class%3D%22ygrid%20crisp%22%20transform%3D%22translate(0%2C178.64)%22%20d%3D%22M870%2C0h316%22%20style%3D%22stroke%3A%20rgb(89%2C%2089%2C%2089)%3B%20stroke-opacity%3A%200.25%3B%20stroke-width%3A%201px%3B%22%2F%3E%3Cpath%20class%3D%22ygrid%20crisp%22%20transform%3D%22translate(0%2C138.70999999999998)%22%20d%3D%22M870%2C0h316%22%20style%3D%22stroke%3A%20rgb(89%2C%2089%2C%2089)%3B%20stroke-opacity%3A%200.25%3B%20stroke-width%3A%201px%3B%22%2F%3E%3Cpath%20class%3D%22ygrid%20crisp%22%20transform%3D%22translate(0%2C98.78)%22%20d%3D%22M870%2C0h316%22%20style%3D%22stroke%3A%20rgb(89%2C%2089%2C%2089)%3B%20stroke-opacity%3A%200.25%3B%20stroke-width%3A%201px%3B%22%2F%3E%3Cpath%20class%3D%22ygrid%20crisp%22%20transform%3D%22translate(0%2C58.84)%22%20d%3D%22M870%2C0h316%22%20style%3D%22stroke%3A%20rgb(89%2C%2089%2C%2089)%3B%20stroke-opacity%3A%200.25%3B%20stroke-width%3A%201px%3B%22%2F%3E%3C%2Fg%3E%3C%2Fg%3E%3Cg%20class%3D%22zerolinelayer%22%2F%3E%3Cpath%20class%3D%22xlines-below%22%2F%3E%3Cpath%20class%3D%22ylines-below%22%2F%3E%3Cg%20class%3D%22overlines-below%22%2F%3E%3Cg%20class%3D%22xaxislayer-below%22%2F%3E%3Cg%20class%3D%22yaxislayer-below%22%2F%3E%3Cg%20class%3D%22overaxes-below%22%2F%3E%3Cg%20class%3D%22plot%22%20transform%3D%22translate(870%2C30)%22%20clip-path%3D%22url('%23clipa62296x3yplot')%22%3E%3Cg%20class%3D%22scatterlayer%20mlayer%22%3E%3Cg%20class%3D%22trace%20scatter%20trace50bf49%22%20style%3D%22stroke-miterlimit%3A%202%3B%20opacity%3A%201%3B%22%3E%3Cg%20class%3D%22fills%22%2F%3E%3Cg%20class%3D%22errorbars%22%2F%3E%3Cg%20class%3D%22lines%22%2F%3E%3Cg%20class%3D%22points%22%3E%3Cpath%20class%3D%22point%22%20transform%3D%22translate(73.26%2C83.85)%22%20d%3D%22M45.97%2C0A45.97%2C45.97%200%201%2C1%200%2C-45.97A45.97%2C45.97%200%200%2C1%2045.97%2C0Z%22%20style%3D%22opacity%3A%200.7%3B%20stroke-width%3A%201px%3B%20fill%3A%20rgb(78%2C%20121%2C%20167)%3B%20fill-opacity%3A%201%3B%20stroke%3A%20rgb(255%2C%20255%2C%20255)%3B%20stroke-opacity%3A%201%3B%22%2F%3E%3C%2Fg%3E%3Cg%20class%3D%22text%22%2F%3E%3C%2Fg%3E%3Cg%20class%3D%22trace%20scatter%20trace138766%22%20style%3D%22stroke-miterlimit%3A%202%3B%20opacity%3A%201%3B%22%3E%3Cg%20class%3D%22fills%22%2F%3E%3Cg%20class%3D%22errorbars%22%2F%3E%3Cg%20class%3D%22lines%22%2F%3E%3Cg%20class%3D%22points%22%3E%3Cpath%20class%3D%22point%22%20transform%3D%22translate(126.39%2C77.46)%22%20d%3D%22M47.17%2C0A47.17%2C47.17%200%201%2C1%200%2C-47.17A47.17%2C47.17%200%200%2C1%2047.17%2C0Z%22%20style%3D%22opacity%3A%200.7%3B%20stroke-width%3A%201px%3B%20fill%3A%20rgb(242%2C%20142%2C%2044)%3B%20fill-opacity%3A%201%3B%20stroke%3A%20rgb(255%2C%20255%2C%20255)%3B%20stroke-opacity%3A%201%3B%22%2F%3E%3C%2Fg%3E%3Cg%20class%3D%22text%22%2F%3E%3C%2Fg%3E%3Cg%20class%3D%22trace%20scatter%20trace0b591d%22%20style%3D%22stroke-miterlimit%3A%202%3B%20opacity%3A%201%3B%22%3E%3Cg%20class%3D%22fills%22%2F%3E%3Cg%20class%3D%22errorbars%22%2F%3E%3Cg%20class%3D%22lines%22%2F%3E%3Cg%20class%3D%22points%22%3E%3Cpath%20class%3D%22point%22%20transform%3D%22translate(241.1%2C73.2)%22%20d%3D%22M47.28%2C0A47.28%2C47.28%200%201%2C1%200%2C-47.28A47.28%2C47.28%200%200%2C1%2047.28%2C0Z%22%20style%3D%22opacity%3A%200.7%3B%20stroke-width%3A%201px%3B%20fill%3A%20rgb(225%2C%2087%2C%2089)%3B%20fill-opacity%3A%201%3B%20stroke%3A%20rgb(255%2C%20255%2C%20255)%3B%20stroke-opacity%3A%201%3B%22%2F%3E%3C%2Fg%3E%3Cg%20class%3D%22text%22%2F%3E%3C%2Fg%3E%3C%2Fg%3E%3C%2Fg%3E%3Cg%20class%3D%22overplot%22%2F%3E%3Cpath%20class%3D%22xlines-above%20crisp%22%20style%3D%22fill%3A%20none%3B%22%20d%3D%22M0%2C0%22%2F%3E%3Cpath%20class%3D%22ylines-above%20crisp%22%20style%3D%22fill%3A%20none%3B%22%20d%3D%22M0%2C0%22%2F%3E%3Cg%20class%3D%22overlines-above%22%2F%3E%3Cg%20class%3D%22xaxislayer-above%22%3E%3Cg%20class%3D%22x3tick%22%3E%3Ctext%20text-anchor%3D%22middle%22%20x%3D%220%22%20y%3D%22325%22%20data-unformatted%3D%220.84%22%20data-math%3D%22N%22%20transform%3D%22translate(908.24%2C0)%22%20style%3D%22font-family%3A%20%26quot%3BOpen%20Sans%26quot%3B%2C%20verdana%2C%20arial%2C%20sans-serif%3B%20font-size%3A%2012px%3B%20fill%3A%20rgb(89%2C%2089%2C%2089)%3B%20fill-opacity%3A%201%3B%20white-space%3A%20pre%3B%22%3E0.84%3C%2Ftext%3E%3C%2Fg%3E%3Cg%20class%3D%22x3tick%22%3E%3Ctext%20text-anchor%3D%22middle%22%20x%3D%220%22%20y%3D%22325%22%20data-unformatted%3D%220.85%22%20data-math%3D%22N%22%20transform%3D%22translate(977.09%2C0)%22%20style%3D%22font-family%3A%20%26quot%3BOpen%20Sans%26quot%3B%2C%20verdana%2C%20arial%2C%20sans-serif%3B%20font-size%3A%2012px%3B%20fill%3A%20rgb(89%2C%2089%2C%2089)%3B%20fill-opacity%3A%201%3B%20white-space%3A%20pre%3B%22%3E0.85%3C%2Ftext%3E%3C%2Fg%3E%3Cg%20class%3D%22x3tick%22%3E%3Ctext%20text-anchor%3D%22middle%22%20x%3D%220%22%20y%3D%22325%22%20data-unformatted%3D%220.86%22%20data-math%3D%22N%22%20transform%3D%22translate(1045.94%2C0)%22%20style%3D%22font-family%3A%20%26quot%3BOpen%20Sans%26quot%3B%2C%20verdana%2C%20arial%2C%20sans-serif%3B%20font-size%3A%2012px%3B%20fill%3A%20rgb(89%2C%2089%2C%2089)%3B%20fill-opacity%3A%201%3B%20white-space%3A%20pre%3B%22%3E0.86%3C%2Ftext%3E%3C%2Fg%3E%3Cg%20class%3D%22x3tick%22%3E%3Ctext%20text-anchor%3D%22middle%22%20x%3D%220%22%20y%3D%22325%22%20data-unformatted%3D%220.87%22%20data-math%3D%22N%22%20transform%3D%22translate(1114.79%2C0)%22%20style%3D%22font-family%3A%20%26quot%3BOpen%20Sans%26quot%3B%2C%20verdana%2C%20arial%2C%20sans-serif%3B%20font-size%3A%2012px%3B%20fill%3A%20rgb(89%2C%2089%2C%2089)%3B%20fill-opacity%3A%201%3B%20white-space%3A%20pre%3B%22%3E0.87%3C%2Ftext%3E%3C%2Fg%3E%3Cg%20class%3D%22x3tick%22%3E%3Ctext%20text-anchor%3D%22middle%22%20x%3D%220%22%20y%3D%22325%22%20data-unformatted%3D%220.88%22%20data-math%3D%22N%22%20transform%3D%22translate(1183.6399999999999%2C0)%22%20style%3D%22font-family%3A%20%26quot%3BOpen%20Sans%26quot%3B%2C%20verdana%2C%20arial%2C%20sans-serif%3B%20font-size%3A%2012px%3B%20fill%3A%20rgb(89%2C%2089%2C%2089)%3B%20fill-opacity%3A%201%3B%20white-space%3A%20pre%3B%22%3E0.88%3C%2Ftext%3E%3C%2Fg%3E%3C%2Fg%3E%3Cg%20class%3D%22yaxislayer-above%22%2F%3E%3Cg%20class%3D%22overaxes-above%22%2F%3E%3C%2Fg%3E%3C%2Fg%3E%3Cg%20class%3D%22polarlayer%22%2F%3E%3Cg%20class%3D%22ternarylayer%22%2F%3E%3Cg%20class%3D%22geolayer%22%2F%3E%3Cg%20class%3D%22funnelarealayer%22%2F%3E%3Cg%20class%3D%22pielayer%22%2F%3E%3Cg%20class%3D%22treemaplayer%22%2F%3E%3Cg%20class%3D%22sunburstlayer%22%2F%3E%3Cg%20class%3D%22glimages%22%2F%3E%3C%2Fsvg%3E%3Cdiv%20class%3D%22gl-container%22%3E%3C%2Fdiv%3E%3Csvg%20class%3D%22main-svg%22%20xmlns%3D%22http%3A%2F%2Fwww.w3.org%2F2000%2Fsvg%22%20xmlns%3Axlink%3D%22http%3A%2F%2Fwww.w3.org%2F1999%2Fxlink%22%20width%3D%221310%22%20height%3D%22352%22%3E%3Cdefs%20id%3D%22topdefs-a62296%22%3E%3Cg%20class%3D%22clips%22%2F%3E%3CclipPath%20id%3D%22legenda62296%22%3E%3Crect%20width%3D%22102%22%20height%3D%2287%22%20x%3D%220%22%20y%3D%220%22%2F%3E%3C%2FclipPath%3E%3C%2Fdefs%3E%3Cg%20class%3D%22indicatorlayer%22%2F%3E%3Cg%20class%3D%22layer-above%22%3E%3Cg%20class%3D%22imagelayer%22%2F%3E%3Cg%20class%3D%22shapelayer%22%2F%3E%3C%2Fg%3E%3Cg%20class%3D%22infolayer%22%3E%3Cg%20class%3D%22legend%22%20pointer-events%3D%22all%22%20transform%3D%22translate(1208%2C30)%22%3E%3Crect%20class%3D%22bg%22%20shape-rendering%3D%22crispEdges%22%20style%3D%22stroke%3A%20rgb(68%2C%2068%2C%2068)%3B%20stroke-opacity%3A%201%3B%20fill%3A%20rgb(255%2C%20255%2C%20255)%3B%20fill-opacity%3A%201%3B%20stroke-width%3A%200px%3B%22%20width%3D%22102%22%20height%3D%2287%22%20x%3D%220%22%20y%3D%220%22%2F%3E%3Cg%20class%3D%22scrollbox%22%20transform%3D%22%22%20clip-path%3D%22url('%23legenda62296')%22%3E%3Cg%20class%3D%22groups%22%20transform%3D%22%22%3E%3Cg%20class%3D%22traces%22%20style%3D%22opacity%3A%201%3B%22%20transform%3D%22translate(0%2C14.5)%22%3E%3Ctext%20class%3D%22legendtext%22%20text-anchor%3D%22start%22%20x%3D%2240%22%20y%3D%224.680000000000001%22%20data-unformatted%3D%22Basic%22%20data-math%3D%22N%22%20style%3D%22font-family%3A%20%26quot%3BOpen%20Sans%26quot%3B%2C%20verdana%2C%20arial%2C%20sans-serif%3B%20font-size%3A%2012px%3B%20fill%3A%20rgb(89%2C%2089%2C%2089)%3B%20fill-opacity%3A%201%3B%20white-space%3A%20pre%3B%22%3EBasic%3C%2Ftext%3E%3Cg%20class%3D%22layers%22%20style%3D%22opacity%3A%201%3B%22%3E%3Cg%20class%3D%22legendfill%22%2F%3E%3Cg%20class%3D%22legendlines%22%2F%3E%3Cg%20class%3D%22legendsymbols%22%3E%3Cg%20class%3D%22legendpoints%22%3E%3Cpath%20class%3D%22scatterpts%22%20transform%3D%22translate(20%2C0)%22%20d%3D%22M8%2C0A8%2C8%200%201%2C1%200%2C-8A8%2C8%200%200%2C1%208%2C0Z%22%20style%3D%22opacity%3A%200.7%3B%20stroke-width%3A%201px%3B%20fill%3A%20rgb(78%2C%20121%2C%20167)%3B%20fill-opacity%3A%201%3B%20stroke%3A%20rgb(255%2C%20255%2C%20255)%3B%20stroke-opacity%3A%201%3B%22%2F%3E%3C%2Fg%3E%3C%2Fg%3E%3C%2Fg%3E%3Crect%20class%3D%22legendtoggle%22%20pointer-events%3D%22all%22%20x%3D%220%22%20y%3D%22-9.5%22%20width%3D%2296.265625%22%20height%3D%2219%22%20style%3D%22cursor%3A%20pointer%3B%20fill%3A%20rgb(0%2C%200%2C%200)%3B%20fill-opacity%3A%200%3B%22%2F%3E%3C%2Fg%3E%3C%2Fg%3E%3Cg%20class%3D%22groups%22%20transform%3D%22translate(0%2C10)%22%3E%3Cg%20class%3D%22traces%22%20style%3D%22opacity%3A%201%3B%22%20transform%3D%22translate(0%2C33.5)%22%3E%3Ctext%20class%3D%22legendtext%22%20text-anchor%3D%22start%22%20x%3D%2240%22%20y%3D%224.680000000000001%22%20data-unformatted%3D%22Extended%22%20data-math%3D%22N%22%20style%3D%22font-family%3A%20%26quot%3BOpen%20Sans%26quot%3B%2C%20verdana%2C%20arial%2C%20sans-serif%3B%20font-size%3A%2012px%3B%20fill%3A%20rgb(89%2C%2089%2C%2089)%3B%20fill-opacity%3A%201%3B%20white-space%3A%20pre%3B%22%3EExtended%3C%2Ftext%3E%3Cg%20class%3D%22layers%22%20style%3D%22opacity%3A%201%3B%22%3E%3Cg%20class%3D%22legendfill%22%2F%3E%3Cg%20class%3D%22legendlines%22%2F%3E%3Cg%20class%3D%22legendsymbols%22%3E%3Cg%20class%3D%22legendpoints%22%3E%3Cpath%20class%3D%22scatterpts%22%20transform%3D%22translate(20%2C0)%22%20d%3D%22M8%2C0A8%2C8%200%201%2C1%200%2C-8A8%2C8%200%200%2C1%208%2C0Z%22%20style%3D%22opacity%3A%200.7%3B%20stroke-width%3A%201px%3B%20fill%3A%20rgb(242%2C%20142%2C%2044)%3B%20fill-opacity%3A%201%3B%20stroke%3A%20rgb(255%2C%20255%2C%20255)%3B%20stroke-opacity%3A%201%3B%22%2F%3E%3C%2Fg%3E%3C%2Fg%3E%3C%2Fg%3E%3Crect%20class%3D%22legendtoggle%22%20pointer-events%3D%22all%22%20x%3D%220%22%20y%3D%22-9.5%22%20width%3D%2296.265625%22%20height%3D%2219%22%20style%3D%22cursor%3A%20pointer%3B%20fill%3A%20rgb(0%2C%200%2C%200)%3B%20fill-opacity%3A%200%3B%22%2F%3E%3C%2Fg%3E%3C%2Fg%3E%3Cg%20class%3D%22groups%22%20transform%3D%22translate(0%2C20)%22%3E%3Cg%20class%3D%22traces%22%20style%3D%22opacity%3A%201%3B%22%20transform%3D%22translate(0%2C52.5)%22%3E%3Ctext%20class%3D%22legendtext%22%20text-anchor%3D%22start%22%20x%3D%2240%22%20y%3D%224.680000000000001%22%20data-unformatted%3D%22Premium%22%20data-math%3D%22N%22%20style%3D%22font-family%3A%20%26quot%3BOpen%20Sans%26quot%3B%2C%20verdana%2C%20arial%2C%20sans-serif%3B%20font-size%3A%2012px%3B%20fill%3A%20rgb(89%2C%2089%2C%2089)%3B%20fill-opacity%3A%201%3B%20white-space%3A%20pre%3B%22%3EPremium%3C%2Ftext%3E%3Cg%20class%3D%22layers%22%20style%3D%22opacity%3A%201%3B%22%3E%3Cg%20class%3D%22legendfill%22%2F%3E%3Cg%20class%3D%22legendlines%22%2F%3E%3Cg%20class%3D%22legendsymbols%22%3E%3Cg%20class%3D%22legendpoints%22%3E%3Cpath%20class%3D%22scatterpts%22%20transform%3D%22translate(20%2C0)%22%20d%3D%22M8%2C0A8%2C8%200%201%2C1%200%2C-8A8%2C8%200%200%2C1%208%2C0Z%22%20style%3D%22opacity%3A%200.7%3B%20stroke-width%3A%201px%3B%20fill%3A%20rgb(225%2C%2087%2C%2089)%3B%20fill-opacity%3A%201%3B%20stroke%3A%20rgb(255%2C%20255%2C%20255)%3B%20stroke-opacity%3A%201%3B%22%2F%3E%3C%2Fg%3E%3C%2Fg%3E%3C%2Fg%3E%3Crect%20class%3D%22legendtoggle%22%20pointer-events%3D%22all%22%20x%3D%220%22%20y%3D%22-9.5%22%20width%3D%2296.265625%22%20height%3D%2219%22%20style%3D%22cursor%3A%20pointer%3B%20fill%3A%20rgb(0%2C%200%2C%200)%3B%20fill-opacity%3A%200%3B%22%2F%3E%3C%2Fg%3E%3C%2Fg%3E%3C%2Fg%3E%3Crect%20class%3D%22scrollbar%22%20rx%3D%2220%22%20ry%3D%223%22%20width%3D%220%22%20height%3D%220%22%20style%3D%22fill%3A%20rgb(128%2C%20139%2C%20164)%3B%20fill-opacity%3A%201%3B%22%20x%3D%220%22%20y%3D%220%22%2F%3E%3C%2Fg%3E%3Cg%20class%3D%22g-gtitle%22%2F%3E%3Cg%20class%3D%22g-xtitle%22%20transform%3D%22translate(0%2C-15)%22%3E%3Ctext%20class%3D%22xtitle%22%20x%3D%22238.00000000000003%22%20y%3D%22364%22%20text-anchor%3D%22middle%22%20data-unformatted%3D%22Corporate%20Auto%22%20data-math%3D%22N%22%20style%3D%22font-family%3A%20%26quot%3BOpen%20Sans%26quot%3B%2C%20verdana%2C%20arial%2C%20sans-serif%3B%20font-size%3A%2014px%3B%20fill%3A%20rgb(89%2C%2089%2C%2089)%3B%20opacity%3A%201%3B%20font-weight%3A%20normal%3B%20white-space%3A%20pre%3B%22%3ECorporate%20Auto%3C%2Ftext%3E%3C%2Fg%3E%3Cg%20class%3D%22g-x2title%22%20transform%3D%22translate(0%2C-15)%22%3E%3Ctext%20class%3D%22x2title%22%20x%3D%22633%22%20y%3D%22364%22%20text-anchor%3D%22middle%22%20data-unformatted%3D%22Personal%20Auto%22%20data-math%3D%22N%22%20style%3D%22font-family%3A%20%26quot%3BOpen%20Sans%26quot%3B%2C%20verdana%2C%20arial%2C%20sans-serif%3B%20font-size%3A%2014px%3B%20fill%3A%20rgb(89%2C%2089%2C%2089)%3B%20opacity%3A%201%3B%20font-weight%3A%20normal%3B%20white-space%3A%20pre%3B%22%3EPersonal%20Auto%3C%2Ftext%3E%3C%2Fg%3E%3Cg%20class%3D%22g-x3title%22%20transform%3D%22translate(0%2C-15)%22%3E%3Ctext%20class%3D%22x3title%22%20x%3D%221028%22%20y%3D%22364%22%20text-anchor%3D%22middle%22%20data-unformatted%3D%22Special%20Auto%22%20data-math%3D%22N%22%20style%3D%22font-family%3A%20%26quot%3BOpen%20Sans%26quot%3B%2C%20verdana%2C%20arial%2C%20sans-serif%3B%20font-size%3A%2014px%3B%20fill%3A%20rgb(89%2C%2089%2C%2089)%3B%20opacity%3A%201%3B%20font-weight%3A%20normal%3B%20white-space%3A%20pre%3B%22%3ESpecial%20Auto%3C%2Ftext%3E%3C%2Fg%3E%3Cg%20class%3D%22g-ytitle%22%2F%3E%3C%2Fg%3E%3Cg%20class%3D%22menulayer%22%2F%3E%3Cg%20class%3D%22zoomlayer%22%2F%3E%3C%2Fsvg%3E%3Cdiv%20class%3D%22modebar-container%22%20style%3D%22position%3A%20absolute%3B%20top%3A%200px%3B%20right%3A%200px%3B%20width%3A%20100%25%3B%22%3E%3Cdiv%20id%3D%22modebar-a62296%22%20class%3D%22modebar%20modebar--hover%20ease-bg%22%3E%3Cdiv%20class%3D%22modebar-group%22%3E%3Ca%20rel%3D%22tooltip%22%20class%3D%22modebar-btn%22%20data-title%3D%22Download%20plot%20as%20a%20png%22%20data-toggle%3D%22false%22%20data-gravity%3D%22n%22%3E%3Csvg%20xmlns%3D%22http%3A%2F%2Fwww.w3.org%2F2000%2Fsvg%22%20viewBox%3D%220%200%201000%201000%22%20class%3D%22icon%22%20height%3D%221em%22%20width%3D%221em%22%3E%3Cpath%20d%3D%22m500%20450c-83%200-150-67-150-150%200-83%2067-150%20150-150%2083%200%20150%2067%20150%20150%200%2083-67%20150-150%20150z%20m400%20150h-120c-16%200-34%2013-39%2029l-31%2093c-6%2015-23%2028-40%2028h-340c-16%200-34-13-39-28l-31-94c-6-15-23-28-40-28h-120c-55%200-100-45-100-100v-450c0-55%2045-100%20100-100h800c55%200%20100%2045%20100%20100v450c0%2055-45%20100-100%20100z%20m-400-550c-138%200-250%20112-250%20250%200%20138%20112%20250%20250%20250%20138%200%20250-112%20250-250%200-138-112-250-250-250z%20m365%20380c-19%200-35%2016-35%2035%200%2019%2016%2035%2035%2035%2019%200%2035-16%2035-35%200-19-16-35-35-35z%22%20transform%3D%22matrix(1%200%200%20-1%200%20850)%22%2F%3E%3C%2Fsvg%3E%3C%2Fa%3E%3C%2Fdiv%3E%3Cdiv%20class%3D%22modebar-group%22%3E%3Ca%20rel%3D%22tooltip%22%20class%3D%22modebar-btn%20active%22%20data-title%3D%22Zoom%22%20data-attr%3D%22dragmode%22%20data-val%3D%22zoom%22%20data-toggle%3D%22false%22%20data-gravity%3D%22n%22%3E%3Csvg%20xmlns%3D%22http%3A%2F%2Fwww.w3.org%2F2000%2Fsvg%22%20viewBox%3D%220%200%201000%201000%22%20class%3D%22icon%22%20height%3D%221em%22%20width%3D%221em%22%3E%3Cpath%20d%3D%22m1000-25l-250%20251c40%2063%2063%20138%2063%20218%200%20224-182%20406-407%20406-224%200-406-182-406-406s183-406%20407-406c80%200%20155%2022%20218%2062l250-250%20125%20125z%20m-812%20250l0%20438%20437%200%200-438-437%200z%20m62%20375l313%200%200-312-313%200%200%20312z%22%20transform%3D%22matrix(1%200%200%20-1%200%20850)%22%2F%3E%3C%2Fsvg%3E%3C%2Fa%3E%3Ca%20rel%3D%22tooltip%22%20class%3D%22modebar-btn%22%20data-title%3D%22Pan%22%20data-attr%3D%22dragmode%22%20data-val%3D%22pan%22%20data-toggle%3D%22false%22%20data-gravity%3D%22n%22%3E%3Csvg%20xmlns%3D%22http%3A%2F%2Fwww.w3.org%2F2000%2Fsvg%22%20viewBox%3D%220%200%201000%201000%22%20class%3D%22icon%22%20height%3D%221em%22%20width%3D%221em%22%3E%3Cpath%20d%3D%22m1000%20350l-187%20188%200-125-250%200%200%20250%20125%200-188%20187-187-187%20125%200%200-250-250%200%200%20125-188-188%20186-187%200%20125%20252%200%200-250-125%200%20187-188%20188%20188-125%200%200%20250%20250%200%200-126%20187%20188z%22%20transform%3D%22matrix(1%200%200%20-1%200%20850)%22%2F%3E%3C%2Fsvg%3E%3C%2Fa%3E%3Ca%20rel%3D%22tooltip%22%20class%3D%22modebar-btn%22%20data-title%3D%22Box%20Select%22%20data-attr%3D%22dragmode%22%20data-val%3D%22select%22%20data-toggle%3D%22false%22%20data-gravity%3D%22n%22%3E%3Csvg%20xmlns%3D%22http%3A%2F%2Fwww.w3.org%2F2000%2Fsvg%22%20viewBox%3D%220%200%201000%201000%22%20class%3D%22icon%22%20height%3D%221em%22%20width%3D%221em%22%3E%3Cpath%20d%3D%22m0%20850l0-143%20143%200%200%20143-143%200z%20m286%200l0-143%20143%200%200%20143-143%200z%20m285%200l0-143%20143%200%200%20143-143%200z%20m286%200l0-143%20143%200%200%20143-143%200z%20m-857-286l0-143%20143%200%200%20143-143%200z%20m857%200l0-143%20143%200%200%20143-143%200z%20m-857-285l0-143%20143%200%200%20143-143%200z%20m857%200l0-143%20143%200%200%20143-143%200z%20m-857-286l0-143%20143%200%200%20143-143%200z%20m286%200l0-143%20143%200%200%20143-143%200z%20m285%200l0-143%20143%200%200%20143-143%200z%20m286%200l0-143%20143%200%200%20143-143%200z%22%20transform%3D%22matrix(1%200%200%20-1%200%20850)%22%2F%3E%3C%2Fsvg%3E%3C%2Fa%3E%3Ca%20rel%3D%22tooltip%22%20class%3D%22modebar-btn%22%20data-title%3D%22Lasso%20Select%22%20data-attr%3D%22dragmode%22%20data-val%3D%22lasso%22%20data-toggle%3D%22false%22%20data-gravity%3D%22n%22%3E%3Csvg%20xmlns%3D%22http%3A%2F%2Fwww.w3.org%2F2000%2Fsvg%22%20viewBox%3D%220%200%201031%201000%22%20class%3D%22icon%22%20height%3D%221em%22%20width%3D%221em%22%3E%3Cpath%20d%3D%22m1018%20538c-36%20207-290%20336-568%20286-277-48-473-256-436-463%2010-57%2036-108%2076-151-13-66%2011-137%2068-183%2034-28%2075-41%20114-42l-55-70%200%200c-2-1-3-2-4-3-10-14-8-34%205-45%2014-11%2034-8%2045%204%201%201%202%203%202%205l0%200%20113%20140c16%2011%2031%2024%2045%2040%204%203%206%207%208%2011%2048-3%20100%200%20151%209%20278%2048%20473%20255%20436%20462z%20m-624-379c-80%2014-149%2048-197%2096%2042%2042%20109%2047%20156%209%2033-26%2047-66%2041-105z%20m-187-74c-19%2016-33%2037-39%2060%2050-32%20109-55%20174-68-42-25-95-24-135%208z%20m360%2075c-34-7-69-9-102-8%208%2062-16%20128-68%20170-73%2059-175%2054-244-5-9%2020-16%2040-20%2061-28%20159%20121%20317%20333%20354s407-60%20434-217c28-159-121-318-333-355z%22%20transform%3D%22matrix(1%200%200%20-1%200%20850)%22%2F%3E%3C%2Fsvg%3E%3C%2Fa%3E%3C%2Fdiv%3E%3Cdiv%20class%3D%22modebar-group%22%3E%3Ca%20rel%3D%22tooltip%22%20class%3D%22modebar-btn%22%20data-title%3D%22Zoom%20in%22%20data-attr%3D%22zoom%22%20data-val%3D%22in%22%20data-toggle%3D%22false%22%20data-gravity%3D%22n%22%3E%3Csvg%20xmlns%3D%22http%3A%2F%2Fwww.w3.org%2F2000%2Fsvg%22%20viewBox%3D%220%200%20875%201000%22%20class%3D%22icon%22%20height%3D%221em%22%20width%3D%221em%22%3E%3Cpath%20d%3D%22m1%20787l0-875%20875%200%200%20875-875%200z%20m687-500l-187%200%200-187-125%200%200%20187-188%200%200%20125%20188%200%200%20187%20125%200%200-187%20187%200%200-125z%22%20transform%3D%22matrix(1%200%200%20-1%200%20850)%22%2F%3E%3C%2Fsvg%3E%3C%2Fa%3E%3Ca%20rel%3D%22tooltip%22%20class%3D%22modebar-btn%22%20data-title%3D%22Zoom%20out%22%20data-attr%3D%22zoom%22%20data-val%3D%22out%22%20data-toggle%3D%22false%22%20data-gravity%3D%22n%22%3E%3Csvg%20xmlns%3D%22http%3A%2F%2Fwww.w3.org%2F2000%2Fsvg%22%20viewBox%3D%220%200%20875%201000%22%20class%3D%22icon%22%20height%3D%221em%22%20width%3D%221em%22%3E%3Cpath%20d%3D%22m0%20788l0-876%20875%200%200%20876-875%200z%20m688-500l-500%200%200%20125%20500%200%200-125z%22%20transform%3D%22matrix(1%200%200%20-1%200%20850)%22%2F%3E%3C%2Fsvg%3E%3C%2Fa%3E%3Ca%20rel%3D%22tooltip%22%20class%3D%22modebar-btn%22%20data-title%3D%22Autoscale%22%20data-attr%3D%22zoom%22%20data-val%3D%22auto%22%20data-toggle%3D%22false%22%20data-gravity%3D%22n%22%3E%3Csvg%20xmlns%3D%22http%3A%2F%2Fwww.w3.org%2F2000%2Fsvg%22%20viewBox%3D%220%200%201000%201000%22%20class%3D%22icon%22%20height%3D%221em%22%20width%3D%221em%22%3E%3Cpath%20d%3D%22m250%20850l-187%200-63%200%200-62%200-188%2063%200%200%20188%20187%200%200%2062z%20m688%200l-188%200%200-62%20188%200%200-188%2062%200%200%20188%200%2062-62%200z%20m-875-938l0%20188-63%200%200-188%200-62%2063%200%20187%200%200%2062-187%200z%20m875%20188l0-188-188%200%200-62%20188%200%2062%200%200%2062%200%20188-62%200z%20m-125%20188l-1%200-93-94-156%20156%20156%20156%2092-93%202%200%200%20250-250%200%200-2%2093-92-156-156-156%20156%2094%2092%200%202-250%200%200-250%200%200%2093%2093%20157-156-157-156-93%2094%200%200%200-250%20250%200%200%200-94%2093%20156%20157%20156-157-93-93%200%200%20250%200%200%20250z%22%20transform%3D%22matrix(1%200%200%20-1%200%20850)%22%2F%3E%3C%2Fsvg%3E%3C%2Fa%3E%3C%2Fdiv%3E%3Cdiv%20class%3D%22modebar-group%22%3E%3C%2Fdiv%3E%3C%2Fdiv%3E%3C%2Fdiv%3E%3Csvg%20class%3D%22main-svg%22%20xmlns%3D%22http%3A%2F%2Fwww.w3.org%2F2000%2Fsvg%22%20xmlns%3Axlink%3D%22http%3A%2F%2Fwww.w3.org%2F1999%2Fxlink%22%20width%3D%221310%22%20height%3D%22352%22%3E%3Cg%20class%3D%22hoverlayer%22%2F%3E%3C%2Fsvg%3E%3C%2Fdiv%3E%3C%2Fdiv%3E%3C%2Fdiv%3E%3C%2Fdiv%3E%3C%2Fdiv%3E%3C%2Fdiv%3E%3C%2Fdiv%3E%3C%2Fdiv%3E%3C%2Fdiv%3E%3C%2Fdiv%3E%3C%2FforeignObject%3E%3C%2Fsvg%3E\">"
      ],
      "text/plain": [
       "Open the notebook in JupyterLab with the Atoti extension enabled to build this widget."
      ]
     },
     "metadata": {},
     "output_type": "display_data"
    }
   ],
   "source": [
    "session.visualize(\"Revenue and sales by policy and coverage type\")"
   ]
  },
  {
   "cell_type": "code",
   "execution_count": 30,
   "id": "0cb7e66b-6548-4413-8958-6626c8d8f27e",
   "metadata": {
    "atoti": {
     "height": 261,
     "widget": {
      "mapping": {
       "goal": [
        "[Measures].[Price.SUM]"
       ],
       "horizontalSubplots": [],
       "maximum": [],
       "minimum": [],
       "value": [
        "[Measures].[revenue_realised]"
       ],
       "verticalSubplots": []
      },
      "query": {
       "mdx": "SELECT NON EMPTY {[Measures].[revenue_realised], [Measures].[Price.SUM]} ON COLUMNS FROM [predictions] CELL PROPERTIES VALUE, FORMATTED_VALUE, BACK_COLOR, FORE_COLOR, FONT_FLAGS",
       "updateMode": "once"
      },
      "serverKey": "default",
      "widgetKey": "plotly-gauge-chart"
     }
    },
    "tags": []
   },
   "outputs": [
    {
     "data": {
      "application/vnd.atoti.widget.v0+json": {
       "name": "Revenue realised gauge",
       "sessionId": "1685500978_82OHXW",
       "sessionLocation": {
        "https": false,
        "port": 54578
       },
       "widgetCreationCode": "session.visualize()"
      },
      "text/html": [
       "<img src=\"data:image/svg+xml;charset=utf8,%3C%3Fxml%20version%3D%221.0%22%20standalone%3D%22no%22%3F%3E%3Csvg%20xmlns%3D%22http%3A%2F%2Fwww.w3.org%2F2000%2Fsvg%22%20xmlns%3Axlink%3D%22http%3A%2F%2Fwww.w3.org%2F1999%2Fxlink%22%20height%3D%22253%22%20width%3D%221310%22%20viewBox%3D%220%200%201310%20253%22%3E%3Cdefs%20id%3D%22defs-e7438c%22%3E%3Cg%20class%3D%22clips%22%2F%3E%3Cg%20class%3D%22gradients%22%2F%3E%3C%2Fdefs%3E%3Cg%20class%3D%22bglayer%22%2F%3E%3Cg%20class%3D%22draglayer%22%2F%3E%3Cg%20class%3D%22layer-below%22%3E%3Cg%20class%3D%22imagelayer%22%2F%3E%3Cg%20class%3D%22shapelayer%22%2F%3E%3C%2Fg%3E%3Cg%20class%3D%22cartesianlayer%22%2F%3E%3Cg%20class%3D%22polarlayer%22%2F%3E%3Cg%20class%3D%22ternarylayer%22%2F%3E%3Cg%20class%3D%22geolayer%22%2F%3E%3Cg%20class%3D%22funnelarealayer%22%2F%3E%3Cg%20class%3D%22pielayer%22%2F%3E%3Cg%20class%3D%22treemaplayer%22%2F%3E%3Cg%20class%3D%22sunburstlayer%22%2F%3E%3Cg%20class%3D%22glimages%22%2F%3E%3Cdefs%20id%3D%22topdefs-e7438c%22%3E%3Cg%20class%3D%22clips%22%2F%3E%3C%2Fdefs%3E%3Cg%20class%3D%22indicatorlayer%22%3E%3Cg%20class%3D%22trace%22%3E%3Cg%20class%3D%22numbers%22%20transform%3D%22translate(665%2C201.1521029727986)scale(0.6969351192471417)%22%3E%3Ctext%20text-anchor%3D%22middle%22%20class%3D%22number%22%20data-unformatted%3D%223.92M%22%20data-math%3D%22N%22%20style%3D%22font-family%3A%20%26quot%3BOpen%20Sans%26quot%3B%2C%20verdana%2C%20arial%2C%20sans-serif%3B%20font-size%3A%2080px%3B%20fill%3A%20rgb(89%2C%2089%2C%2089)%3B%20fill-opacity%3A%201%3B%20white-space%3A%20pre%3B%22%20x%3D%220%22%20y%3D%220%22%3E3.92M%3C%2Ftext%3E%3C%2Fg%3E%3Cg%20class%3D%22angular%22%20transform%3D%22translate(665%2C213)%22%3E%3Cg%20class%3D%22bg-arc%22%3E%3Cpath%20d%3D%22M-163%2C-1.9961742826101858e-14A163%2C163%200%200%2C1%20163%2C0L122.25%2C0A122.25%2C122.25%200%200%2C0%20-122.25%2C-1.4971307119576394e-14Z%22%20style%3D%22stroke%3A%20rgb(68%2C%2068%2C%2068)%3B%20stroke-opacity%3A%201%3B%20fill%3A%20rgb(255%2C%20255%2C%20255)%3B%20fill-opacity%3A%201%3B%20stroke-width%3A%200%3B%22%2F%3E%3C%2Fg%3E%3Cg%20class%3D%22value-arc%22%3E%3Cpath%20d%3D%22M-152.8125%2C-1.8714133899470492e-14A152.8125%2C152.8125%200%200%2C1%2076.40624999999999%2C-132.33950701580955L66.21874999999999%2C-114.6942394137016A132.4375%2C132.4375%200%200%2C0%20-132.4375%2C-1.621891604620776e-14Z%22%20style%3D%22stroke%3A%20rgb(68%2C%2068%2C%2068)%3B%20stroke-opacity%3A%201%3B%20fill%3A%20rgb(78%2C%20121%2C%20167)%3B%20fill-opacity%3A%201%3B%20stroke-width%3A%200%3B%22%2F%3E%3C%2Fg%3E%3Cg%20class%3D%22threshold-arc%22%3E%3Cpath%20d%3D%22M145.26345311573823%2C-66.93677877635152A159.94375%2C159.94375%200%200%2C1%20145.26345311573823%2C-66.93677877635152L113.80512568940001%2C-52.44091585663209A125.30625%2C125.30625%200%200%2C0%20113.80512568940001%2C-52.44091585663209Z%22%20style%3D%22stroke%3A%20rgb(245%2C%2034%2C%2045)%3B%20stroke-opacity%3A%201%3B%20fill%3A%20rgb(0%2C%200%2C%200)%3B%20fill-opacity%3A%201%3B%20stroke-width%3A%203%3B%22%2F%3E%3C%2Fg%3E%3Cg%20class%3D%22gauge-outline%22%3E%3Cpath%20d%3D%22M-163%2C-1.9961742826101858e-14A163%2C163%200%200%2C1%20163%2C0L122.25%2C0A122.25%2C122.25%200%200%2C0%20-122.25%2C-1.4971307119576394e-14Z%22%20style%3D%22stroke%3A%20rgb(68%2C%2068%2C%2068)%3B%20stroke-opacity%3A%201%3B%20fill%3A%20rgb(0%2C%200%2C%200)%3B%20fill-opacity%3A%200%3B%20stroke-width%3A%201%3B%22%2F%3E%3C%2Fg%3E%3C%2Fg%3E%3Cg%20class%3D%22angularaxis%20crisp%22%3E%3Cpath%20class%3D%22xangularaxistick%20ticks%20crisp%22%20d%3D%22M0.5%2C0h5%22%20transform%3D%22translate(502%2C212.99999999999997)rotate(-180)%22%20style%3D%22stroke%3A%20rgb(68%2C%2068%2C%2068)%3B%20stroke-opacity%3A%201%3B%20stroke-width%3A%201px%3B%22%2F%3E%3Cpath%20class%3D%22xangularaxistick%20ticks%20crisp%22%20d%3D%22M0.5%2C0h5%22%20transform%3D%22translate(524.6712978850798%2C130.07319273755934)rotate(-149.41916878459128)%22%20style%3D%22stroke%3A%20rgb(68%2C%2068%2C%2068)%3B%20stroke-opacity%3A%201%3B%20stroke-width%3A%201px%3B%22%2F%3E%3Cpath%20class%3D%22xangularaxistick%20ticks%20crisp%22%20d%3D%22M0.5%2C0h5%22%20transform%3D%22translate(586.3785934078771%2C70.21458608990872)rotate(-118.83833756918254)%22%20style%3D%22stroke%3A%20rgb(68%2C%2068%2C%2068)%3B%20stroke-opacity%3A%201%3B%20stroke-width%3A%201px%3B%22%2F%3E%3Cpath%20class%3D%22xangularaxistick%20ticks%20crisp%22%20d%3D%22M0.5%2C0h5%22%20transform%3D%22translate(669.9564328447111%2C50.07537395023468)rotate(-88.25750635377385)%22%20style%3D%22stroke%3A%20rgb(68%2C%2068%2C%2068)%3B%20stroke-opacity%3A%201%3B%20stroke-width%3A%201px%3B%22%2F%3E%3Cpath%20class%3D%22xangularaxistick%20ticks%20crisp%22%20d%3D%22M0.5%2C0h5%22%20transform%3D%22translate(752.1555144230194%2C75.25779039938831)rotate(-57.676675138365106)%22%20style%3D%22stroke%3A%20rgb(68%2C%2068%2C%2068)%3B%20stroke-opacity%3A%201%3B%20stroke-width%3A%201px%3B%22%2F%3E%3Cpath%20class%3D%22xangularaxistick%20ticks%20crisp%22%20d%3D%22M0.5%2C0h5%22%20transform%3D%22translate(810.1100729361544%2C138.7567058081071)rotate(-27.09584392295638)%22%20style%3D%22stroke%3A%20rgb(68%2C%2068%2C%2068)%3B%20stroke-opacity%3A%201%3B%20stroke-width%3A%201px%3B%22%2F%3E%3Cg%20class%3D%22xangularaxistick%22%3E%3Ctext%20text-anchor%3D%22end%22%20x%3D%22-7.9%22%20y%3D%224.199999999999998%22%20data-unformatted%3D%220%22%20data-math%3D%22N%22%20transform%3D%22translate(502%2C212.99999999999997)%22%20style%3D%22font-family%3A%20%26quot%3BOpen%20Sans%26quot%3B%2C%20verdana%2C%20arial%2C%20sans-serif%3B%20font-size%3A%2012px%3B%20fill%3A%20rgb(89%2C%2089%2C%2089)%3B%20fill-opacity%3A%201%3B%20white-space%3A%20pre%3B%22%3E0%3C%2Ftext%3E%3C%2Fg%3E%3Cg%20class%3D%22xangularaxistick%22%3E%3Ctext%20text-anchor%3D%22end%22%20x%3D%22-6.801207035017606%22%20y%3D%22-1.6243286252789835%22%20data-unformatted%3D%221M%22%20data-math%3D%22N%22%20transform%3D%22translate(524.6712978850798%2C130.07319273755934)%22%20style%3D%22font-family%3A%20%26quot%3BOpen%20Sans%26quot%3B%2C%20verdana%2C%20arial%2C%20sans-serif%3B%20font-size%3A%2012px%3B%20fill%3A%20rgb(89%2C%2089%2C%2089)%3B%20fill-opacity%3A%201%3B%20white-space%3A%20pre%3B%22%3E1M%3C%2Ftext%3E%3C%2Fg%3E%3Cg%20class%3D%22xangularaxistick%22%3E%3Ctext%20text-anchor%3D%22end%22%20x%3D%22-3.8104853501703753%22%20y%3D%22-6.996808929981743%22%20data-unformatted%3D%222M%22%20data-math%3D%22N%22%20transform%3D%22translate(586.3785934078771%2C70.21458608990872)%22%20style%3D%22font-family%3A%20%26quot%3BOpen%20Sans%26quot%3B%2C%20verdana%2C%20arial%2C%20sans-serif%3B%20font-size%3A%2012px%3B%20fill%3A%20rgb(89%2C%2089%2C%2089)%3B%20fill-opacity%3A%201%3B%20white-space%3A%20pre%3B%22%3E2M%3C%2Ftext%3E%3C%2Fg%3E%3Cg%20class%3D%22xangularaxistick%22%3E%3Ctext%20text-anchor%3D%22middle%22%20x%3D%220.24021975136943188%22%20y%3D%22-10.167525339661328%22%20data-unformatted%3D%223M%22%20data-math%3D%22N%22%20transform%3D%22translate(669.9564328447111%2C50.07537395023468)%22%20style%3D%22font-family%3A%20%26quot%3BOpen%20Sans%26quot%3B%2C%20verdana%2C%20arial%2C%20sans-serif%3B%20font-size%3A%2012px%3B%20fill%3A%20rgb(89%2C%2089%2C%2089)%3B%20fill-opacity%3A%201%3B%20white-space%3A%20pre%3B%22%3E3M%3C%2Ftext%3E%3C%2Fg%3E%3Cg%20class%3D%22xangularaxistick%22%3E%3Ctext%20text-anchor%3D%22start%22%20x%3D%224.224101619275178%22%20y%3D%22-6.458230664476188%22%20data-unformatted%3D%224M%22%20data-math%3D%22N%22%20transform%3D%22translate(752.1555144230194%2C75.25779039938831)%22%20style%3D%22font-family%3A%20%26quot%3BOpen%20Sans%26quot%3B%2C%20verdana%2C%20arial%2C%20sans-serif%3B%20font-size%3A%2012px%3B%20fill%3A%20rgb(89%2C%2089%2C%2089)%3B%20fill-opacity%3A%201%3B%20white-space%3A%20pre%3B%22%3E4M%3C%2Ftext%3E%3C%2Fg%3E%3Cg%20class%3D%22xangularaxistick%22%3E%3Ctext%20text-anchor%3D%22start%22%20x%3D%227.0329421852492%22%20y%3D%22-0.9524148702125665%22%20data-unformatted%3D%225M%22%20data-math%3D%22N%22%20transform%3D%22translate(810.1100729361544%2C138.7567058081071)%22%20style%3D%22font-family%3A%20%26quot%3BOpen%20Sans%26quot%3B%2C%20verdana%2C%20arial%2C%20sans-serif%3B%20font-size%3A%2012px%3B%20fill%3A%20rgb(89%2C%2089%2C%2089)%3B%20fill-opacity%3A%201%3B%20white-space%3A%20pre%3B%22%3E5M%3C%2Ftext%3E%3C%2Fg%3E%3C%2Fg%3E%3Ctext%20class%3D%22title%22%20text-anchor%3D%22middle%22%20data-unformatted%3D%22%22%20data-math%3D%22N%22%20x%3D%220%22%20y%3D%220%22%20style%3D%22font-family%3A%20%26quot%3BOpen%20Sans%26quot%3B%2C%20verdana%2C%20arial%2C%20sans-serif%3B%20font-size%3A%2020px%3B%20fill%3A%20rgb(89%2C%2089%2C%2089)%3B%20fill-opacity%3A%201%3B%20white-space%3A%20pre%3B%22%20transform%3D%22translate(665%2C22.908203125)%22%3E%3C%2Ftext%3E%3C%2Fg%3E%3C%2Fg%3E%3Cg%20class%3D%22layer-above%22%3E%3Cg%20class%3D%22imagelayer%22%2F%3E%3Cg%20class%3D%22shapelayer%22%2F%3E%3C%2Fg%3E%3Cg%20class%3D%22infolayer%22%3E%3Cg%20class%3D%22g-gtitle%22%2F%3E%3C%2Fg%3E%3Cg%20class%3D%22menulayer%22%2F%3E%3Cg%20class%3D%22zoomlayer%22%2F%3E%3Cg%20class%3D%22hoverlayer%22%2F%3E%3C%2Fsvg%3E\">"
      ],
      "text/plain": [
       "Open the notebook in JupyterLab with the Atoti extension enabled to build this widget."
      ]
     },
     "metadata": {},
     "output_type": "display_data"
    }
   ],
   "source": [
    "session.visualize(\"Revenue realised gauge\")"
   ]
  },
  {
   "cell_type": "code",
   "execution_count": 31,
   "id": "99cd63e1-8531-49fe-92ed-d46f6a412619",
   "metadata": {
    "tags": []
   },
   "outputs": [],
   "source": [
    "# Let us compile all of this information in a dashboard"
   ]
  },
  {
   "cell_type": "code",
   "execution_count": 32,
   "id": "487efa1b-b29e-4121-8fde-ddc085dfb85b",
   "metadata": {
    "tags": []
   },
   "outputs": [
    {
     "data": {
      "application/vnd.atoti.link.v0+json": {
       "path": "#/dashboard/39f",
       "sessionLocation": {
        "https": false,
        "port": 54578
       }
      },
      "text/plain": [
       "Open the notebook in JupyterLab with the Atoti extension enabled to see this link."
      ]
     },
     "execution_count": 32,
     "metadata": {},
     "output_type": "execute_result"
    }
   ],
   "source": [
    "session.link(path=\"#/dashboard/39f\")"
   ]
  },
  {
   "cell_type": "markdown",
   "id": "5c1bb164-7061-4f15-a44a-7628576aa90b",
   "metadata": {},
   "source": [
    "# Part 3: Price Elasticity with Atoti \n",
    "\n",
    "We will use Atoti to do simulations and hence understand the price elasticity across different customer segments."
   ]
  },
  {
   "cell_type": "markdown",
   "id": "5eb6855e-9a65-4249-90b0-58006fbba8c6",
   "metadata": {},
   "source": [
    "## Scenario 1: The pareto principle\n",
    "\n",
    "Increase the price by 20% for all the policies for which sales probability is more than 80%\n",
    "Drop the price by 20% for policies that have a probability to be bought less than 20%\n",
    "\n",
    "This will affect the most price-sensitive customers from the customers who have not bought the policy.  \n",
    "On the other hand, this will help identify the most price-insensitive customers from the customers who have actually bought the policy."
   ]
  },
  {
   "cell_type": "code",
   "execution_count": 33,
   "id": "1af06871-9629-46f6-9204-41d84036cba3",
   "metadata": {
    "tags": []
   },
   "outputs": [],
   "source": [
    "# updating the pricing based on above pareto simulation\n",
    "\n",
    "prediction_df_pareto = prediction_df.copy()\n",
    "\n",
    "prediction_df_pareto.loc[\n",
    "    (prediction_df_pareto.sales_prediction_probability > 0.8), \"Price\"\n",
    "] = prediction_df_pareto[\"Price\"].apply(lambda x: x * 1.2)\n",
    "\n",
    "prediction_df_pareto.loc[\n",
    "    (prediction_df_pareto.sales_prediction_probability < 0.2), \"Price\"\n",
    "] = prediction_df_pareto[\"Price\"].apply(lambda x: x * 0.8)"
   ]
  },
  {
   "cell_type": "markdown",
   "id": "e5f256e4-533c-4b78-a611-a7653376ff48",
   "metadata": {},
   "source": [
    "### Using the model to make predictions on the scenario"
   ]
  },
  {
   "cell_type": "code",
   "execution_count": 34,
   "id": "1c28b9b4-0295-4a93-99ac-d4cc53f8658f",
   "metadata": {
    "tags": []
   },
   "outputs": [],
   "source": [
    "X_test_pareto = X_test.copy()\n",
    "\n",
    "X_test_pareto[\"Price\"] = prediction_df_pareto[\"Price\"]\n",
    "\n",
    "test_result_pareto = xgbc.predict(X_test_pareto)\n",
    "\n",
    "prediction_df_pareto[\"Sales_prediction\"] = test_result_pareto.tolist()"
   ]
  },
  {
   "cell_type": "markdown",
   "id": "2c123cb9-14e8-4be2-84b3-6680ed75ede2",
   "metadata": {},
   "source": [
    "### Creating a scenario in Atoti using the model predictions"
   ]
  },
  {
   "cell_type": "code",
   "execution_count": 35,
   "id": "6a586c24-cadd-4ce9-bfe3-d7e7528785cc",
   "metadata": {
    "tags": []
   },
   "outputs": [],
   "source": [
    "predictions.scenarios[\"Pareto price change\"].load_pandas(prediction_df_pareto)"
   ]
  },
  {
   "cell_type": "markdown",
   "id": "cb0407a5-f6a9-458e-be6f-9bb23b62412f",
   "metadata": {},
   "source": [
    "## Scenario 2: Boost Personal Auto and basic coverage\n",
    "So of all the policy types, personal auto and basic coverage are the weakest sections.  \n",
    "Let us see what happens if we try to boost the personal auto lines by increasing the policy price by 25%? and the basic coverage by 15%.  "
   ]
  },
  {
   "cell_type": "code",
   "execution_count": 36,
   "id": "9f89d4ee-68e4-45b2-bd36-4f0d1ce86c9f",
   "metadata": {
    "tags": []
   },
   "outputs": [],
   "source": [
    "# updating the pricingi\n",
    "prediction_df_personal_auto = prediction_df.copy()\n",
    "\n",
    "prediction_df_personal_auto.loc[\n",
    "    (prediction_df_personal_auto.Policy_Type == \"Personal Auto\"), \"Price\"\n",
    "] = prediction_df_personal_auto[\"Price\"].apply(lambda x: x * 1.25)\n",
    "\n",
    "prediction_df_personal_auto.loc[\n",
    "    (prediction_df_personal_auto.Coverage_Type == \"Basic\"), \"Price\"\n",
    "] = prediction_df_personal_auto[\"Price\"].apply(lambda x: x * 1.15)"
   ]
  },
  {
   "cell_type": "markdown",
   "id": "97bfcebd-8fcf-4e32-9bb4-7b19d6bc457a",
   "metadata": {},
   "source": [
    "### Using the model to make predictions on the scenario"
   ]
  },
  {
   "cell_type": "code",
   "execution_count": 37,
   "id": "11767b08-21b2-4db6-8335-0414ae1ba567",
   "metadata": {
    "tags": []
   },
   "outputs": [],
   "source": [
    "X_test_personal_auto = X_test.copy()\n",
    "X_test_personal_auto[\"Price\"] = prediction_df_personal_auto[\"Price\"]\n",
    "\n",
    "test_result_personal_auto = xgbc.predict(X_test_personal_auto)\n",
    "prediction_df_personal_auto[\"Sales_prediction\"] = test_result_personal_auto.tolist()"
   ]
  },
  {
   "cell_type": "markdown",
   "id": "a61836f1-ac06-4994-9d69-f7071c063257",
   "metadata": {},
   "source": [
    "### Creating a scenario in Atoti using the model predictions"
   ]
  },
  {
   "cell_type": "code",
   "execution_count": 38,
   "id": "4458ddb8-263e-4c03-adb5-c249ecabf3cb",
   "metadata": {
    "tags": []
   },
   "outputs": [],
   "source": [
    "predictions.scenarios[\"Personal Auto Boost\"].load_pandas(prediction_df_personal_auto)"
   ]
  },
  {
   "cell_type": "markdown",
   "id": "82e8b041-d684-48db-b42d-87ee2103a980",
   "metadata": {},
   "source": [
    "### Scenario 3: Geographic Improvements\n",
    "In the states of Oregon and Washington, suburban areas are not performing well.  \n",
    "So we can try and drop the prices by 10% for customers in rural areas of Oregon and drop by 15% in urban areas of Washington to see how price-sensitive the customers in the respective segment are. "
   ]
  },
  {
   "cell_type": "code",
   "execution_count": 39,
   "id": "b96e9e91-1e13-44fa-8b59-7ab5b61acb28",
   "metadata": {
    "tags": []
   },
   "outputs": [],
   "source": [
    "# updating the pricing based on above Scenario simulation\n",
    "\n",
    "prediction_df_geo_improvement = prediction_df.copy()\n",
    "\n",
    "prediction_df_geo_improvement.loc[\n",
    "    (prediction_df_geo_improvement.State == \"Oregon\"), \"Price\"\n",
    "] = prediction_df_geo_improvement[\"Price\"].apply(lambda x: x * 0.9)\n",
    "\n",
    "prediction_df_geo_improvement.loc[\n",
    "    (prediction_df_geo_improvement.State == \"Washington\"), \"Price\"\n",
    "] = prediction_df_geo_improvement[\"Price\"].apply(lambda x: x * 0.85)"
   ]
  },
  {
   "cell_type": "markdown",
   "id": "242386a7-c1cb-4d91-9fc2-a3fbc40b0bca",
   "metadata": {},
   "source": [
    "### Using the model to make predictions on the scenario"
   ]
  },
  {
   "cell_type": "code",
   "execution_count": 40,
   "id": "7ac6fef5-04b5-4eb2-b8a0-84b09a0b55a9",
   "metadata": {
    "tags": []
   },
   "outputs": [],
   "source": [
    "X_test_geo_improvement = X_test.copy()\n",
    "\n",
    "X_test_geo_improvement[\"Price\"] = prediction_df_geo_improvement[\"Price\"]\n",
    "\n",
    "test_result_geo_improvement = xgbc.predict(X_test_geo_improvement)\n",
    "prediction_df_geo_improvement[\"Sales_prediction\"] = test_result_geo_improvement.tolist()"
   ]
  },
  {
   "cell_type": "markdown",
   "id": "2b283f94-a62c-49db-9af3-724f2f4b79f2",
   "metadata": {},
   "source": [
    "### Creating a scenario in Atoti using the model predictions"
   ]
  },
  {
   "cell_type": "code",
   "execution_count": 41,
   "id": "90a9b49d-76d7-4531-a304-d0c6a24d3926",
   "metadata": {
    "tags": []
   },
   "outputs": [],
   "source": [
    "predictions.scenarios[\"Geographical Improvements\"].load_pandas(\n",
    "    prediction_df_geo_improvement\n",
    ")"
   ]
  },
  {
   "cell_type": "markdown",
   "id": "04e9b59e-ff56-424f-a7aa-f2344874aa5b",
   "metadata": {},
   "source": [
    "## Visualising Scenarios in Atoti\n",
    "\n",
    "In Atoti, the data model is made of measures chained together. A simulation can be seen as changing one part of the model, either its source data or one of its measure definitions, and then evaluating how it impacts the following measures.  \n",
    "\n",
    "The session now has different scenarios and the only differences between them are the lines corresponding to the price and prediction probability, **everything else is shared between the scenarios and has not been duplicated: source scenarios in Atoti are memory-efficient.**"
   ]
  },
  {
   "cell_type": "code",
   "execution_count": 42,
   "id": "4c5ba02f-deb8-4396-b27f-3f809aa6aba1",
   "metadata": {
    "atoti": {
     "height": 465,
     "widget": {
      "filters": [
       "{[Epoch].[Epoch].[Base], [Epoch].[Epoch].[Geographical Improvements], [Epoch].[Epoch].[Personal Auto Boost]}"
      ],
      "mapping": {
       "horizontalSubplots": [
        "[Epoch].[Epoch].[Branch]"
       ],
       "splitBy": [
        "ALL_MEASURES",
        "[predictions].[Sales_Channel].[Sales_Channel]"
       ],
       "values": [
        "[Measures].[sale_propotion]"
       ],
       "verticalSubplots": [],
       "xAxis": [
        "[predictions].[Coverage_Type].[Coverage_Type]"
       ]
      },
      "query": {
       "mdx": "SELECT NON EMPTY Crossjoin({[Measures].[sale_propotion]}, Hierarchize(Descendants({[predictions].[Sales_Channel].[AllMember]}, 1, SELF_AND_BEFORE)), [Epoch].[Epoch].[Branch].Members) ON COLUMNS, NON EMPTY Hierarchize(Descendants({[predictions].[Coverage_Type].[AllMember]}, 1, SELF_AND_BEFORE)) ON ROWS FROM [predictions] CELL PROPERTIES VALUE, FORMATTED_VALUE, BACK_COLOR, FORE_COLOR, FONT_FLAGS",
       "updateMode": "once"
      },
      "serverKey": "default",
      "widgetKey": "plotly-clustered-column-chart"
     }
    },
    "tags": []
   },
   "outputs": [
    {
     "data": {
      "application/vnd.atoti.widget.v0+json": {
       "name": "Scenarios: Sales propotion by channel and coverage type",
       "sessionId": "1685500978_82OHXW",
       "sessionLocation": {
        "https": false,
        "port": 54578
       },
       "widgetCreationCode": "session.visualize()"
      },
      "text/html": [
       "<img src=\"data:image/svg+xml;charset=utf8,%3C%3Fxml%20version%3D%221.0%22%20standalone%3D%22no%22%3F%3E%3Csvg%20xmlns%3D%22http%3A%2F%2Fwww.w3.org%2F2000%2Fsvg%22%20xmlns%3Axlink%3D%22http%3A%2F%2Fwww.w3.org%2F1999%2Fxlink%22%20height%3D%22457%22%20width%3D%221310%22%20viewBox%3D%220%200%201310%20457%22%3E%3Cdefs%20id%3D%22defs-b55c0b%22%3E%3Cg%20class%3D%22clips%22%3E%3CclipPath%20id%3D%22clipb55c0bxyplot%22%20class%3D%22plotclip%22%3E%3Crect%20width%3D%22312.8571428571429%22%20height%3D%22387%22%2F%3E%3C%2FclipPath%3E%3CclipPath%20id%3D%22clipb55c0bx2yplot%22%20class%3D%22plotclip%22%3E%3Crect%20width%3D%22312.8571428571429%22%20height%3D%22387%22%2F%3E%3C%2FclipPath%3E%3CclipPath%20id%3D%22clipb55c0bx3yplot%22%20class%3D%22plotclip%22%3E%3Crect%20width%3D%22312.85714285714283%22%20height%3D%22387%22%2F%3E%3C%2FclipPath%3E%3CclipPath%20class%3D%22axesclip%22%20id%3D%22clipb55c0bx%22%3E%3Crect%20x%3D%2280%22%20y%3D%220%22%20width%3D%22312.8571428571429%22%20height%3D%22457%22%2F%3E%3C%2FclipPath%3E%3CclipPath%20class%3D%22axesclip%22%20id%3D%22clipb55c0by%22%3E%3Crect%20x%3D%220%22%20y%3D%2230%22%20width%3D%221310%22%20height%3D%22387%22%2F%3E%3C%2FclipPath%3E%3CclipPath%20class%3D%22axesclip%22%20id%3D%22clipb55c0bxy%22%3E%3Crect%20x%3D%2280%22%20y%3D%2230%22%20width%3D%22312.8571428571429%22%20height%3D%22387%22%2F%3E%3C%2FclipPath%3E%3CclipPath%20class%3D%22axesclip%22%20id%3D%22clipb55c0bx2%22%3E%3Crect%20x%3D%22471.07142857142856%22%20y%3D%220%22%20width%3D%22312.8571428571429%22%20height%3D%22457%22%2F%3E%3C%2FclipPath%3E%3CclipPath%20class%3D%22axesclip%22%20id%3D%22clipb55c0bx2y%22%3E%3Crect%20x%3D%22471.07142857142856%22%20y%3D%2230%22%20width%3D%22312.8571428571429%22%20height%3D%22387%22%2F%3E%3C%2FclipPath%3E%3CclipPath%20class%3D%22axesclip%22%20id%3D%22clipb55c0bx3%22%3E%3Crect%20x%3D%22862.1428571428571%22%20y%3D%220%22%20width%3D%22312.85714285714283%22%20height%3D%22457%22%2F%3E%3C%2FclipPath%3E%3CclipPath%20class%3D%22axesclip%22%20id%3D%22clipb55c0bx3y%22%3E%3Crect%20x%3D%22862.1428571428571%22%20y%3D%2230%22%20width%3D%22312.85714285714283%22%20height%3D%22387%22%2F%3E%3C%2FclipPath%3E%3C%2Fg%3E%3Cg%20class%3D%22gradients%22%2F%3E%3C%2Fdefs%3E%3Cg%20class%3D%22bglayer%22%2F%3E%3Cg%20class%3D%22draglayer%20cursor-crosshair%22%3E%3Cg%20class%3D%22xy%22%3E%3Crect%20class%3D%22nsewdrag%20drag%22%20data-subplot%3D%22xy%22%20x%3D%2280%22%20y%3D%2230%22%20width%3D%22312.8571428571429%22%20height%3D%22387%22%20style%3D%22fill%3A%20transparent%3B%20stroke-width%3A%200%3B%20pointer-events%3A%20all%3B%22%2F%3E%3Crect%20class%3D%22nwdrag%20drag%20cursor-nw-resize%22%20data-subplot%3D%22xy%22%20x%3D%2260%22%20y%3D%2210%22%20width%3D%2220%22%20height%3D%2220%22%20style%3D%22fill%3A%20transparent%3B%20stroke-width%3A%200%3B%20pointer-events%3A%20all%3B%22%2F%3E%3Crect%20class%3D%22nedrag%20drag%20cursor-ne-resize%22%20data-subplot%3D%22xy%22%20x%3D%22392.8571428571429%22%20y%3D%2210%22%20width%3D%2220%22%20height%3D%2220%22%20style%3D%22fill%3A%20transparent%3B%20stroke-width%3A%200%3B%20pointer-events%3A%20all%3B%22%2F%3E%3Crect%20class%3D%22swdrag%20drag%20cursor-sw-resize%22%20data-subplot%3D%22xy%22%20x%3D%2260%22%20y%3D%22417%22%20width%3D%2220%22%20height%3D%2220%22%20style%3D%22fill%3A%20transparent%3B%20stroke-width%3A%200%3B%20pointer-events%3A%20all%3B%22%2F%3E%3Crect%20class%3D%22sedrag%20drag%20cursor-se-resize%22%20data-subplot%3D%22xy%22%20x%3D%22392.8571428571429%22%20y%3D%22417%22%20width%3D%2220%22%20height%3D%2220%22%20style%3D%22fill%3A%20transparent%3B%20stroke-width%3A%200%3B%20pointer-events%3A%20all%3B%22%2F%3E%3Crect%20class%3D%22ewdrag%20drag%20cursor-ew-resize%22%20data-subplot%3D%22xy%22%20x%3D%22111.28571428571429%22%20y%3D%22417.5%22%20width%3D%22250.28571428571433%22%20height%3D%2220%22%20style%3D%22fill%3A%20transparent%3B%20stroke-width%3A%200%3B%20pointer-events%3A%20all%3B%22%2F%3E%3Crect%20class%3D%22wdrag%20drag%20cursor-w-resize%22%20data-subplot%3D%22xy%22%20x%3D%2280%22%20y%3D%22417.5%22%20width%3D%2231.285714285714292%22%20height%3D%2220%22%20style%3D%22fill%3A%20transparent%3B%20stroke-width%3A%200%3B%20pointer-events%3A%20all%3B%22%2F%3E%3Crect%20class%3D%22edrag%20drag%20cursor-e-resize%22%20data-subplot%3D%22xy%22%20x%3D%22361.5714285714286%22%20y%3D%22417.5%22%20width%3D%2231.285714285714292%22%20height%3D%2220%22%20style%3D%22fill%3A%20transparent%3B%20stroke-width%3A%200%3B%20pointer-events%3A%20all%3B%22%2F%3E%3Crect%20class%3D%22nsdrag%20drag%20cursor-ns-resize%22%20data-subplot%3D%22xy%22%20x%3D%2259.5%22%20y%3D%2268.7%22%20width%3D%2220%22%20height%3D%22309.6%22%20style%3D%22fill%3A%20transparent%3B%20stroke-width%3A%200%3B%20pointer-events%3A%20all%3B%22%2F%3E%3Crect%20class%3D%22sdrag%20drag%20cursor-s-resize%22%20data-subplot%3D%22xy%22%20x%3D%2259.5%22%20y%3D%22378.3%22%20width%3D%2220%22%20height%3D%2238.7%22%20style%3D%22fill%3A%20transparent%3B%20stroke-width%3A%200%3B%20pointer-events%3A%20all%3B%22%2F%3E%3Crect%20class%3D%22ndrag%20drag%20cursor-n-resize%22%20data-subplot%3D%22xy%22%20x%3D%2259.5%22%20y%3D%2230%22%20width%3D%2220%22%20height%3D%2238.7%22%20style%3D%22fill%3A%20transparent%3B%20stroke-width%3A%200%3B%20pointer-events%3A%20all%3B%22%2F%3E%3C%2Fg%3E%3Cg%20class%3D%22x2y%22%3E%3Crect%20class%3D%22nsewdrag%20drag%22%20data-subplot%3D%22x2y%22%20x%3D%22471.07142857142856%22%20y%3D%2230%22%20width%3D%22312.8571428571429%22%20height%3D%22387%22%20style%3D%22fill%3A%20transparent%3B%20stroke-width%3A%200%3B%20pointer-events%3A%20all%3B%22%2F%3E%3Crect%20class%3D%22nwdrag%20drag%20cursor-nw-resize%22%20data-subplot%3D%22x2y%22%20x%3D%22451.07142857142856%22%20y%3D%2210%22%20width%3D%2220%22%20height%3D%2220%22%20style%3D%22fill%3A%20transparent%3B%20stroke-width%3A%200%3B%20pointer-events%3A%20all%3B%22%2F%3E%3Crect%20class%3D%22nedrag%20drag%20cursor-ne-resize%22%20data-subplot%3D%22x2y%22%20x%3D%22783.9285714285714%22%20y%3D%2210%22%20width%3D%2220%22%20height%3D%2220%22%20style%3D%22fill%3A%20transparent%3B%20stroke-width%3A%200%3B%20pointer-events%3A%20all%3B%22%2F%3E%3Crect%20class%3D%22swdrag%20drag%20cursor-sw-resize%22%20data-subplot%3D%22x2y%22%20x%3D%22451.07142857142856%22%20y%3D%22417%22%20width%3D%2220%22%20height%3D%2220%22%20style%3D%22fill%3A%20transparent%3B%20stroke-width%3A%200%3B%20pointer-events%3A%20all%3B%22%2F%3E%3Crect%20class%3D%22sedrag%20drag%20cursor-se-resize%22%20data-subplot%3D%22x2y%22%20x%3D%22783.9285714285714%22%20y%3D%22417%22%20width%3D%2220%22%20height%3D%2220%22%20style%3D%22fill%3A%20transparent%3B%20stroke-width%3A%200%3B%20pointer-events%3A%20all%3B%22%2F%3E%3Crect%20class%3D%22ewdrag%20drag%20cursor-ew-resize%22%20data-subplot%3D%22x2y%22%20x%3D%22502.35714285714283%22%20y%3D%22417.5%22%20width%3D%22250.28571428571433%22%20height%3D%2220%22%20style%3D%22fill%3A%20transparent%3B%20stroke-width%3A%200%3B%20pointer-events%3A%20all%3B%22%2F%3E%3Crect%20class%3D%22wdrag%20drag%20cursor-w-resize%22%20data-subplot%3D%22x2y%22%20x%3D%22471.07142857142856%22%20y%3D%22417.5%22%20width%3D%2231.285714285714292%22%20height%3D%2220%22%20style%3D%22fill%3A%20transparent%3B%20stroke-width%3A%200%3B%20pointer-events%3A%20all%3B%22%2F%3E%3Crect%20class%3D%22edrag%20drag%20cursor-e-resize%22%20data-subplot%3D%22x2y%22%20x%3D%22752.6428571428571%22%20y%3D%22417.5%22%20width%3D%2231.285714285714292%22%20height%3D%2220%22%20style%3D%22fill%3A%20transparent%3B%20stroke-width%3A%200%3B%20pointer-events%3A%20all%3B%22%2F%3E%3C%2Fg%3E%3Cg%20class%3D%22x3y%22%3E%3Crect%20class%3D%22nsewdrag%20drag%22%20data-subplot%3D%22x3y%22%20x%3D%22862.1428571428571%22%20y%3D%2230%22%20width%3D%22312.85714285714283%22%20height%3D%22387%22%20style%3D%22fill%3A%20transparent%3B%20stroke-width%3A%200%3B%20pointer-events%3A%20all%3B%22%2F%3E%3Crect%20class%3D%22nwdrag%20drag%20cursor-nw-resize%22%20data-subplot%3D%22x3y%22%20x%3D%22842.1428571428571%22%20y%3D%2210%22%20width%3D%2220%22%20height%3D%2220%22%20style%3D%22fill%3A%20transparent%3B%20stroke-width%3A%200%3B%20pointer-events%3A%20all%3B%22%2F%3E%3Crect%20class%3D%22nedrag%20drag%20cursor-ne-resize%22%20data-subplot%3D%22x3y%22%20x%3D%221175%22%20y%3D%2210%22%20width%3D%2220%22%20height%3D%2220%22%20style%3D%22fill%3A%20transparent%3B%20stroke-width%3A%200%3B%20pointer-events%3A%20all%3B%22%2F%3E%3Crect%20class%3D%22swdrag%20drag%20cursor-sw-resize%22%20data-subplot%3D%22x3y%22%20x%3D%22842.1428571428571%22%20y%3D%22417%22%20width%3D%2220%22%20height%3D%2220%22%20style%3D%22fill%3A%20transparent%3B%20stroke-width%3A%200%3B%20pointer-events%3A%20all%3B%22%2F%3E%3Crect%20class%3D%22sedrag%20drag%20cursor-se-resize%22%20data-subplot%3D%22x3y%22%20x%3D%221175%22%20y%3D%22417%22%20width%3D%2220%22%20height%3D%2220%22%20style%3D%22fill%3A%20transparent%3B%20stroke-width%3A%200%3B%20pointer-events%3A%20all%3B%22%2F%3E%3Crect%20class%3D%22ewdrag%20drag%20cursor-ew-resize%22%20data-subplot%3D%22x3y%22%20x%3D%22893.4285714285714%22%20y%3D%22417.5%22%20width%3D%22250.28571428571428%22%20height%3D%2220%22%20style%3D%22fill%3A%20transparent%3B%20stroke-width%3A%200%3B%20pointer-events%3A%20all%3B%22%2F%3E%3Crect%20class%3D%22wdrag%20drag%20cursor-w-resize%22%20data-subplot%3D%22x3y%22%20x%3D%22862.1428571428571%22%20y%3D%22417.5%22%20width%3D%2231.285714285714285%22%20height%3D%2220%22%20style%3D%22fill%3A%20transparent%3B%20stroke-width%3A%200%3B%20pointer-events%3A%20all%3B%22%2F%3E%3Crect%20class%3D%22edrag%20drag%20cursor-e-resize%22%20data-subplot%3D%22x3y%22%20x%3D%221143.7142857142858%22%20y%3D%22417.5%22%20width%3D%2231.285714285714285%22%20height%3D%2220%22%20style%3D%22fill%3A%20transparent%3B%20stroke-width%3A%200%3B%20pointer-events%3A%20all%3B%22%2F%3E%3C%2Fg%3E%3C%2Fg%3E%3Cg%20class%3D%22layer-below%22%3E%3Cg%20class%3D%22imagelayer%22%2F%3E%3Cg%20class%3D%22shapelayer%22%2F%3E%3C%2Fg%3E%3Cg%20class%3D%22cartesianlayer%22%3E%3Cg%20class%3D%22subplot%20xy%22%3E%3Cg%20class%3D%22layer-subplot%22%3E%3Cg%20class%3D%22shapelayer%22%2F%3E%3Cg%20class%3D%22imagelayer%22%2F%3E%3C%2Fg%3E%3Cg%20class%3D%22gridlayer%22%3E%3Cg%20class%3D%22x%22%3E%3Cpath%20class%3D%22xgrid%20crisp%22%20transform%3D%22translate(132.14%2C0)%22%20d%3D%22M0%2C30v387%22%20style%3D%22stroke%3A%20rgb(0%2C%200%2C%200)%3B%20stroke-opacity%3A%200%3B%20stroke-width%3A%201px%3B%22%2F%3E%3Cpath%20class%3D%22xgrid%20crisp%22%20transform%3D%22translate(236.43%2C0)%22%20d%3D%22M0%2C30v387%22%20style%3D%22stroke%3A%20rgb(0%2C%200%2C%200)%3B%20stroke-opacity%3A%200%3B%20stroke-width%3A%201px%3B%22%2F%3E%3Cpath%20class%3D%22xgrid%20crisp%22%20transform%3D%22translate(340.71%2C0)%22%20d%3D%22M0%2C30v387%22%20style%3D%22stroke%3A%20rgb(0%2C%200%2C%200)%3B%20stroke-opacity%3A%200%3B%20stroke-width%3A%201px%3B%22%2F%3E%3C%2Fg%3E%3Cg%20class%3D%22y%22%3E%3Cpath%20class%3D%22ygrid%20crisp%22%20transform%3D%22translate(0%2C375.18)%22%20d%3D%22M80%2C0h312.8571428571429%22%20style%3D%22stroke%3A%20rgb(89%2C%2089%2C%2089)%3B%20stroke-opacity%3A%200.25%3B%20stroke-width%3A%201px%3B%22%2F%3E%3Cpath%20class%3D%22ygrid%20crisp%22%20transform%3D%22translate(0%2C333.36)%22%20d%3D%22M80%2C0h312.8571428571429%22%20style%3D%22stroke%3A%20rgb(89%2C%2089%2C%2089)%3B%20stroke-opacity%3A%200.25%3B%20stroke-width%3A%201px%3B%22%2F%3E%3Cpath%20class%3D%22ygrid%20crisp%22%20transform%3D%22translate(0%2C291.55)%22%20d%3D%22M80%2C0h312.8571428571429%22%20style%3D%22stroke%3A%20rgb(89%2C%2089%2C%2089)%3B%20stroke-opacity%3A%200.25%3B%20stroke-width%3A%201px%3B%22%2F%3E%3Cpath%20class%3D%22ygrid%20crisp%22%20transform%3D%22translate(0%2C249.73)%22%20d%3D%22M80%2C0h312.8571428571429%22%20style%3D%22stroke%3A%20rgb(89%2C%2089%2C%2089)%3B%20stroke-opacity%3A%200.25%3B%20stroke-width%3A%201px%3B%22%2F%3E%3Cpath%20class%3D%22ygrid%20crisp%22%20transform%3D%22translate(0%2C207.91)%22%20d%3D%22M80%2C0h312.8571428571429%22%20style%3D%22stroke%3A%20rgb(89%2C%2089%2C%2089)%3B%20stroke-opacity%3A%200.25%3B%20stroke-width%3A%201px%3B%22%2F%3E%3Cpath%20class%3D%22ygrid%20crisp%22%20transform%3D%22translate(0%2C166.09)%22%20d%3D%22M80%2C0h312.8571428571429%22%20style%3D%22stroke%3A%20rgb(89%2C%2089%2C%2089)%3B%20stroke-opacity%3A%200.25%3B%20stroke-width%3A%201px%3B%22%2F%3E%3Cpath%20class%3D%22ygrid%20crisp%22%20transform%3D%22translate(0%2C124.28)%22%20d%3D%22M80%2C0h312.8571428571429%22%20style%3D%22stroke%3A%20rgb(89%2C%2089%2C%2089)%3B%20stroke-opacity%3A%200.25%3B%20stroke-width%3A%201px%3B%22%2F%3E%3Cpath%20class%3D%22ygrid%20crisp%22%20transform%3D%22translate(0%2C82.46000000000001)%22%20d%3D%22M80%2C0h312.8571428571429%22%20style%3D%22stroke%3A%20rgb(89%2C%2089%2C%2089)%3B%20stroke-opacity%3A%200.25%3B%20stroke-width%3A%201px%3B%22%2F%3E%3Cpath%20class%3D%22ygrid%20crisp%22%20transform%3D%22translate(0%2C40.64)%22%20d%3D%22M80%2C0h312.8571428571429%22%20style%3D%22stroke%3A%20rgb(89%2C%2089%2C%2089)%3B%20stroke-opacity%3A%200.25%3B%20stroke-width%3A%201px%3B%22%2F%3E%3C%2Fg%3E%3C%2Fg%3E%3Cg%20class%3D%22zerolinelayer%22%3E%3Cpath%20class%3D%22yzl%20zl%20crisp%22%20transform%3D%22translate(0%2C417)%22%20d%3D%22M80%2C0h312.8571428571429%22%20style%3D%22stroke%3A%20rgb(89%2C%2089%2C%2089)%3B%20stroke-opacity%3A%200.5%3B%20stroke-width%3A%201px%3B%22%2F%3E%3C%2Fg%3E%3Cpath%20class%3D%22xlines-below%22%2F%3E%3Cpath%20class%3D%22ylines-below%22%2F%3E%3Cg%20class%3D%22overlines-below%22%2F%3E%3Cg%20class%3D%22xaxislayer-below%22%2F%3E%3Cg%20class%3D%22yaxislayer-below%22%2F%3E%3Cg%20class%3D%22overaxes-below%22%2F%3E%3Cg%20class%3D%22plot%22%20transform%3D%22translate(80%2C30)%22%20clip-path%3D%22url('%23clipb55c0bxyplot')%22%3E%3Cg%20class%3D%22barlayer%20mlayer%22%3E%3Cg%20class%3D%22trace%20bars%22%20style%3D%22opacity%3A%201%3B%22%3E%3Cg%20class%3D%22points%22%3E%3Cg%20class%3D%22point%22%3E%3Cpath%20d%3D%22M10.43%2C387V169.31H31.29V387Z%22%20style%3D%22vector-effect%3A%20non-scaling-stroke%3B%20opacity%3A%201%3B%20stroke-width%3A%200px%3B%20fill%3A%20rgb(78%2C%20121%2C%20167)%3B%20fill-opacity%3A%201%3B%22%2F%3E%3C%2Fg%3E%3Cg%20class%3D%22point%22%3E%3Cpath%20d%3D%22M114.71%2C387V110.05H135.57V387Z%22%20style%3D%22vector-effect%3A%20non-scaling-stroke%3B%20opacity%3A%201%3B%20stroke-width%3A%200px%3B%20fill%3A%20rgb(78%2C%20121%2C%20167)%3B%20fill-opacity%3A%201%3B%22%2F%3E%3C%2Fg%3E%3Cg%20class%3D%22point%22%3E%3Cpath%20d%3D%22M219%2C387V46.48H239.86V387Z%22%20style%3D%22vector-effect%3A%20non-scaling-stroke%3B%20opacity%3A%201%3B%20stroke-width%3A%200px%3B%20fill%3A%20rgb(78%2C%20121%2C%20167)%3B%20fill-opacity%3A%201%3B%22%2F%3E%3C%2Fg%3E%3C%2Fg%3E%3C%2Fg%3E%3Cg%20class%3D%22trace%20bars%22%20style%3D%22opacity%3A%201%3B%22%3E%3Cg%20class%3D%22points%22%3E%3Cg%20class%3D%22point%22%3E%3Cpath%20d%3D%22M31.29%2C387V132.17H52.14V387Z%22%20style%3D%22vector-effect%3A%20non-scaling-stroke%3B%20opacity%3A%201%3B%20stroke-width%3A%200px%3B%20fill%3A%20rgb(242%2C%20142%2C%2044)%3B%20fill-opacity%3A%201%3B%22%2F%3E%3C%2Fg%3E%3Cg%20class%3D%22point%22%3E%3Cpath%20d%3D%22M135.57%2C387V90.77H156.43V387Z%22%20style%3D%22vector-effect%3A%20non-scaling-stroke%3B%20opacity%3A%201%3B%20stroke-width%3A%200px%3B%20fill%3A%20rgb(242%2C%20142%2C%2044)%3B%20fill-opacity%3A%201%3B%22%2F%3E%3C%2Fg%3E%3Cg%20class%3D%22point%22%3E%3Cpath%20d%3D%22M239.86%2C387V41.52H260.71V387Z%22%20style%3D%22vector-effect%3A%20non-scaling-stroke%3B%20opacity%3A%201%3B%20stroke-width%3A%200px%3B%20fill%3A%20rgb(242%2C%20142%2C%2044)%3B%20fill-opacity%3A%201%3B%22%2F%3E%3C%2Fg%3E%3C%2Fg%3E%3C%2Fg%3E%3Cg%20class%3D%22trace%20bars%22%20style%3D%22opacity%3A%201%3B%22%3E%3Cg%20class%3D%22points%22%3E%3Cg%20class%3D%22point%22%3E%3Cpath%20d%3D%22M52.14%2C387V110.19H73V387Z%22%20style%3D%22vector-effect%3A%20non-scaling-stroke%3B%20opacity%3A%201%3B%20stroke-width%3A%200px%3B%20fill%3A%20rgb(225%2C%2087%2C%2089)%3B%20fill-opacity%3A%201%3B%22%2F%3E%3C%2Fg%3E%3Cg%20class%3D%22point%22%3E%3Cpath%20d%3D%22M156.43%2C387V75.46H177.29V387Z%22%20style%3D%22vector-effect%3A%20non-scaling-stroke%3B%20opacity%3A%201%3B%20stroke-width%3A%200px%3B%20fill%3A%20rgb(225%2C%2087%2C%2089)%3B%20fill-opacity%3A%201%3B%22%2F%3E%3C%2Fg%3E%3Cg%20class%3D%22point%22%3E%3Cpath%20d%3D%22M260.71%2C387V34.85H281.57V387Z%22%20style%3D%22vector-effect%3A%20non-scaling-stroke%3B%20opacity%3A%201%3B%20stroke-width%3A%200px%3B%20fill%3A%20rgb(225%2C%2087%2C%2089)%3B%20fill-opacity%3A%201%3B%22%2F%3E%3C%2Fg%3E%3C%2Fg%3E%3C%2Fg%3E%3Cg%20class%3D%22trace%20bars%22%20style%3D%22opacity%3A%201%3B%22%3E%3Cg%20class%3D%22points%22%3E%3Cg%20class%3D%22point%22%3E%3Cpath%20d%3D%22M73%2C387V86.13H93.86V387Z%22%20style%3D%22vector-effect%3A%20non-scaling-stroke%3B%20opacity%3A%201%3B%20stroke-width%3A%200px%3B%20fill%3A%20rgb(118%2C%20183%2C%20178)%3B%20fill-opacity%3A%201%3B%22%2F%3E%3C%2Fg%3E%3Cg%20class%3D%22point%22%3E%3Cpath%20d%3D%22M177.29%2C387V66.63H198.14V387Z%22%20style%3D%22vector-effect%3A%20non-scaling-stroke%3B%20opacity%3A%201%3B%20stroke-width%3A%200px%3B%20fill%3A%20rgb(118%2C%20183%2C%20178)%3B%20fill-opacity%3A%201%3B%22%2F%3E%3C%2Fg%3E%3Cg%20class%3D%22point%22%3E%3Cpath%20d%3D%22M281.57%2C387V36.64H302.43V387Z%22%20style%3D%22vector-effect%3A%20non-scaling-stroke%3B%20opacity%3A%201%3B%20stroke-width%3A%200px%3B%20fill%3A%20rgb(118%2C%20183%2C%20178)%3B%20fill-opacity%3A%201%3B%22%2F%3E%3C%2Fg%3E%3C%2Fg%3E%3C%2Fg%3E%3C%2Fg%3E%3C%2Fg%3E%3Cg%20class%3D%22overplot%22%2F%3E%3Cpath%20class%3D%22xlines-above%20crisp%22%20d%3D%22M79%2C417.5H392.8571428571429%22%20style%3D%22fill%3A%20none%3B%20stroke-width%3A%201px%3B%20stroke%3A%20rgb(89%2C%2089%2C%2089)%3B%20stroke-opacity%3A%200.25%3B%22%2F%3E%3Cpath%20class%3D%22ylines-above%20crisp%22%20d%3D%22M79.5%2C30V417%22%20style%3D%22fill%3A%20none%3B%20stroke-width%3A%201px%3B%20stroke%3A%20rgb(89%2C%2089%2C%2089)%3B%20stroke-opacity%3A%200.25%3B%22%2F%3E%3Cg%20class%3D%22overlines-above%22%2F%3E%3Cg%20class%3D%22xaxislayer-above%22%3E%3Cg%20class%3D%22xtick%22%3E%3Ctext%20text-anchor%3D%22middle%22%20x%3D%220%22%20y%3D%22432.4%22%20data-unformatted%3D%22Basic%22%20data-math%3D%22N%22%20transform%3D%22translate(132.14%2C0)%22%20style%3D%22font-family%3A%20%26quot%3BOpen%20Sans%26quot%3B%2C%20verdana%2C%20arial%2C%20sans-serif%3B%20font-size%3A%2012px%3B%20fill%3A%20rgb(89%2C%2089%2C%2089)%3B%20fill-opacity%3A%201%3B%20white-space%3A%20pre%3B%22%3EBasic%3C%2Ftext%3E%3C%2Fg%3E%3Cg%20class%3D%22xtick%22%3E%3Ctext%20text-anchor%3D%22middle%22%20x%3D%220%22%20y%3D%22432.4%22%20data-unformatted%3D%22Extended%22%20data-math%3D%22N%22%20transform%3D%22translate(236.43%2C0)%22%20style%3D%22font-family%3A%20%26quot%3BOpen%20Sans%26quot%3B%2C%20verdana%2C%20arial%2C%20sans-serif%3B%20font-size%3A%2012px%3B%20fill%3A%20rgb(89%2C%2089%2C%2089)%3B%20fill-opacity%3A%201%3B%20white-space%3A%20pre%3B%22%3EExtended%3C%2Ftext%3E%3C%2Fg%3E%3Cg%20class%3D%22xtick%22%3E%3Ctext%20text-anchor%3D%22middle%22%20x%3D%220%22%20y%3D%22432.4%22%20data-unformatted%3D%22Premium%22%20data-math%3D%22N%22%20transform%3D%22translate(340.71%2C0)%22%20style%3D%22font-family%3A%20%26quot%3BOpen%20Sans%26quot%3B%2C%20verdana%2C%20arial%2C%20sans-serif%3B%20font-size%3A%2012px%3B%20fill%3A%20rgb(89%2C%2089%2C%2089)%3B%20fill-opacity%3A%201%3B%20white-space%3A%20pre%3B%22%3EPremium%3C%2Ftext%3E%3C%2Fg%3E%3C%2Fg%3E%3Cg%20class%3D%22yaxislayer-above%22%3E%3Cg%20class%3D%22ytick%22%3E%3Ctext%20text-anchor%3D%22end%22%20x%3D%2276.6%22%20y%3D%224.199999999999999%22%20data-unformatted%3D%220%22%20data-math%3D%22N%22%20transform%3D%22translate(0%2C417)%22%20style%3D%22font-family%3A%20%26quot%3BOpen%20Sans%26quot%3B%2C%20verdana%2C%20arial%2C%20sans-serif%3B%20font-size%3A%2012px%3B%20fill%3A%20rgb(89%2C%2089%2C%2089)%3B%20fill-opacity%3A%201%3B%20white-space%3A%20pre%3B%22%3E0%3C%2Ftext%3E%3C%2Fg%3E%3Cg%20class%3D%22ytick%22%3E%3Ctext%20text-anchor%3D%22end%22%20x%3D%2276.6%22%20y%3D%224.199999999999999%22%20data-unformatted%3D%220.1%22%20data-math%3D%22N%22%20transform%3D%22translate(0%2C375.18)%22%20style%3D%22font-family%3A%20%26quot%3BOpen%20Sans%26quot%3B%2C%20verdana%2C%20arial%2C%20sans-serif%3B%20font-size%3A%2012px%3B%20fill%3A%20rgb(89%2C%2089%2C%2089)%3B%20fill-opacity%3A%201%3B%20white-space%3A%20pre%3B%22%3E0.1%3C%2Ftext%3E%3C%2Fg%3E%3Cg%20class%3D%22ytick%22%3E%3Ctext%20text-anchor%3D%22end%22%20x%3D%2276.6%22%20y%3D%224.199999999999999%22%20data-unformatted%3D%220.2%22%20data-math%3D%22N%22%20transform%3D%22translate(0%2C333.36)%22%20style%3D%22font-family%3A%20%26quot%3BOpen%20Sans%26quot%3B%2C%20verdana%2C%20arial%2C%20sans-serif%3B%20font-size%3A%2012px%3B%20fill%3A%20rgb(89%2C%2089%2C%2089)%3B%20fill-opacity%3A%201%3B%20white-space%3A%20pre%3B%22%3E0.2%3C%2Ftext%3E%3C%2Fg%3E%3Cg%20class%3D%22ytick%22%3E%3Ctext%20text-anchor%3D%22end%22%20x%3D%2276.6%22%20y%3D%224.199999999999999%22%20data-unformatted%3D%220.3%22%20data-math%3D%22N%22%20transform%3D%22translate(0%2C291.55)%22%20style%3D%22font-family%3A%20%26quot%3BOpen%20Sans%26quot%3B%2C%20verdana%2C%20arial%2C%20sans-serif%3B%20font-size%3A%2012px%3B%20fill%3A%20rgb(89%2C%2089%2C%2089)%3B%20fill-opacity%3A%201%3B%20white-space%3A%20pre%3B%22%3E0.3%3C%2Ftext%3E%3C%2Fg%3E%3Cg%20class%3D%22ytick%22%3E%3Ctext%20text-anchor%3D%22end%22%20x%3D%2276.6%22%20y%3D%224.199999999999999%22%20data-unformatted%3D%220.4%22%20data-math%3D%22N%22%20transform%3D%22translate(0%2C249.73)%22%20style%3D%22font-family%3A%20%26quot%3BOpen%20Sans%26quot%3B%2C%20verdana%2C%20arial%2C%20sans-serif%3B%20font-size%3A%2012px%3B%20fill%3A%20rgb(89%2C%2089%2C%2089)%3B%20fill-opacity%3A%201%3B%20white-space%3A%20pre%3B%22%3E0.4%3C%2Ftext%3E%3C%2Fg%3E%3Cg%20class%3D%22ytick%22%3E%3Ctext%20text-anchor%3D%22end%22%20x%3D%2276.6%22%20y%3D%224.199999999999999%22%20data-unformatted%3D%220.5%22%20data-math%3D%22N%22%20transform%3D%22translate(0%2C207.91)%22%20style%3D%22font-family%3A%20%26quot%3BOpen%20Sans%26quot%3B%2C%20verdana%2C%20arial%2C%20sans-serif%3B%20font-size%3A%2012px%3B%20fill%3A%20rgb(89%2C%2089%2C%2089)%3B%20fill-opacity%3A%201%3B%20white-space%3A%20pre%3B%22%3E0.5%3C%2Ftext%3E%3C%2Fg%3E%3Cg%20class%3D%22ytick%22%3E%3Ctext%20text-anchor%3D%22end%22%20x%3D%2276.6%22%20y%3D%224.199999999999999%22%20data-unformatted%3D%220.6%22%20data-math%3D%22N%22%20transform%3D%22translate(0%2C166.09)%22%20style%3D%22font-family%3A%20%26quot%3BOpen%20Sans%26quot%3B%2C%20verdana%2C%20arial%2C%20sans-serif%3B%20font-size%3A%2012px%3B%20fill%3A%20rgb(89%2C%2089%2C%2089)%3B%20fill-opacity%3A%201%3B%20white-space%3A%20pre%3B%22%3E0.6%3C%2Ftext%3E%3C%2Fg%3E%3Cg%20class%3D%22ytick%22%3E%3Ctext%20text-anchor%3D%22end%22%20x%3D%2276.6%22%20y%3D%224.199999999999999%22%20data-unformatted%3D%220.7%22%20data-math%3D%22N%22%20transform%3D%22translate(0%2C124.28)%22%20style%3D%22font-family%3A%20%26quot%3BOpen%20Sans%26quot%3B%2C%20verdana%2C%20arial%2C%20sans-serif%3B%20font-size%3A%2012px%3B%20fill%3A%20rgb(89%2C%2089%2C%2089)%3B%20fill-opacity%3A%201%3B%20white-space%3A%20pre%3B%22%3E0.7%3C%2Ftext%3E%3C%2Fg%3E%3Cg%20class%3D%22ytick%22%3E%3Ctext%20text-anchor%3D%22end%22%20x%3D%2276.6%22%20y%3D%224.199999999999999%22%20data-unformatted%3D%220.8%22%20data-math%3D%22N%22%20transform%3D%22translate(0%2C82.46000000000001)%22%20style%3D%22font-family%3A%20%26quot%3BOpen%20Sans%26quot%3B%2C%20verdana%2C%20arial%2C%20sans-serif%3B%20font-size%3A%2012px%3B%20fill%3A%20rgb(89%2C%2089%2C%2089)%3B%20fill-opacity%3A%201%3B%20white-space%3A%20pre%3B%22%3E0.8%3C%2Ftext%3E%3C%2Fg%3E%3Cg%20class%3D%22ytick%22%3E%3Ctext%20text-anchor%3D%22end%22%20x%3D%2276.6%22%20y%3D%224.199999999999999%22%20data-unformatted%3D%220.9%22%20data-math%3D%22N%22%20transform%3D%22translate(0%2C40.64)%22%20style%3D%22font-family%3A%20%26quot%3BOpen%20Sans%26quot%3B%2C%20verdana%2C%20arial%2C%20sans-serif%3B%20font-size%3A%2012px%3B%20fill%3A%20rgb(89%2C%2089%2C%2089)%3B%20fill-opacity%3A%201%3B%20white-space%3A%20pre%3B%22%3E0.9%3C%2Ftext%3E%3C%2Fg%3E%3C%2Fg%3E%3Cg%20class%3D%22overaxes-above%22%2F%3E%3C%2Fg%3E%3Cg%20class%3D%22subplot%20x2y%22%3E%3Cg%20class%3D%22layer-subplot%22%3E%3Cg%20class%3D%22shapelayer%22%2F%3E%3Cg%20class%3D%22imagelayer%22%2F%3E%3C%2Fg%3E%3Cg%20class%3D%22gridlayer%22%3E%3Cg%20class%3D%22x2%22%2F%3E%3Cg%20class%3D%22y%22%3E%3Cpath%20class%3D%22ygrid%20crisp%22%20transform%3D%22translate(0%2C375.18)%22%20d%3D%22M471.07142857142856%2C0h312.8571428571429%22%20style%3D%22stroke%3A%20rgb(89%2C%2089%2C%2089)%3B%20stroke-opacity%3A%200.25%3B%20stroke-width%3A%201px%3B%22%2F%3E%3Cpath%20class%3D%22ygrid%20crisp%22%20transform%3D%22translate(0%2C333.36)%22%20d%3D%22M471.07142857142856%2C0h312.8571428571429%22%20style%3D%22stroke%3A%20rgb(89%2C%2089%2C%2089)%3B%20stroke-opacity%3A%200.25%3B%20stroke-width%3A%201px%3B%22%2F%3E%3Cpath%20class%3D%22ygrid%20crisp%22%20transform%3D%22translate(0%2C291.55)%22%20d%3D%22M471.07142857142856%2C0h312.8571428571429%22%20style%3D%22stroke%3A%20rgb(89%2C%2089%2C%2089)%3B%20stroke-opacity%3A%200.25%3B%20stroke-width%3A%201px%3B%22%2F%3E%3Cpath%20class%3D%22ygrid%20crisp%22%20transform%3D%22translate(0%2C249.73)%22%20d%3D%22M471.07142857142856%2C0h312.8571428571429%22%20style%3D%22stroke%3A%20rgb(89%2C%2089%2C%2089)%3B%20stroke-opacity%3A%200.25%3B%20stroke-width%3A%201px%3B%22%2F%3E%3Cpath%20class%3D%22ygrid%20crisp%22%20transform%3D%22translate(0%2C207.91)%22%20d%3D%22M471.07142857142856%2C0h312.8571428571429%22%20style%3D%22stroke%3A%20rgb(89%2C%2089%2C%2089)%3B%20stroke-opacity%3A%200.25%3B%20stroke-width%3A%201px%3B%22%2F%3E%3Cpath%20class%3D%22ygrid%20crisp%22%20transform%3D%22translate(0%2C166.09)%22%20d%3D%22M471.07142857142856%2C0h312.8571428571429%22%20style%3D%22stroke%3A%20rgb(89%2C%2089%2C%2089)%3B%20stroke-opacity%3A%200.25%3B%20stroke-width%3A%201px%3B%22%2F%3E%3Cpath%20class%3D%22ygrid%20crisp%22%20transform%3D%22translate(0%2C124.28)%22%20d%3D%22M471.07142857142856%2C0h312.8571428571429%22%20style%3D%22stroke%3A%20rgb(89%2C%2089%2C%2089)%3B%20stroke-opacity%3A%200.25%3B%20stroke-width%3A%201px%3B%22%2F%3E%3Cpath%20class%3D%22ygrid%20crisp%22%20transform%3D%22translate(0%2C82.46000000000001)%22%20d%3D%22M471.07142857142856%2C0h312.8571428571429%22%20style%3D%22stroke%3A%20rgb(89%2C%2089%2C%2089)%3B%20stroke-opacity%3A%200.25%3B%20stroke-width%3A%201px%3B%22%2F%3E%3Cpath%20class%3D%22ygrid%20crisp%22%20transform%3D%22translate(0%2C40.64)%22%20d%3D%22M471.07142857142856%2C0h312.8571428571429%22%20style%3D%22stroke%3A%20rgb(89%2C%2089%2C%2089)%3B%20stroke-opacity%3A%200.25%3B%20stroke-width%3A%201px%3B%22%2F%3E%3C%2Fg%3E%3C%2Fg%3E%3Cg%20class%3D%22zerolinelayer%22%3E%3Cpath%20class%3D%22yzl%20zl%20crisp%22%20transform%3D%22translate(0%2C417)%22%20d%3D%22M471.07142857142856%2C0h312.8571428571429%22%20style%3D%22stroke%3A%20rgb(89%2C%2089%2C%2089)%3B%20stroke-opacity%3A%200.5%3B%20stroke-width%3A%201px%3B%22%2F%3E%3C%2Fg%3E%3Cpath%20class%3D%22xlines-below%22%2F%3E%3Cpath%20class%3D%22ylines-below%22%2F%3E%3Cg%20class%3D%22overlines-below%22%2F%3E%3Cg%20class%3D%22xaxislayer-below%22%2F%3E%3Cg%20class%3D%22yaxislayer-below%22%2F%3E%3Cg%20class%3D%22overaxes-below%22%2F%3E%3Cg%20class%3D%22plot%22%20transform%3D%22translate(471.07142857142856%2C30)%22%20clip-path%3D%22url('%23clipb55c0bx2yplot')%22%3E%3Cg%20class%3D%22barlayer%20mlayer%22%3E%3Cg%20class%3D%22trace%20bars%22%20style%3D%22opacity%3A%201%3B%22%3E%3Cg%20class%3D%22points%22%3E%3Cg%20class%3D%22point%22%3E%3Cpath%20d%3D%22M10.43%2C387V184.83H31.29V387Z%22%20style%3D%22vector-effect%3A%20non-scaling-stroke%3B%20opacity%3A%201%3B%20stroke-width%3A%200px%3B%20fill%3A%20rgb(78%2C%20121%2C%20167)%3B%20fill-opacity%3A%201%3B%22%2F%3E%3C%2Fg%3E%3Cg%20class%3D%22point%22%3E%3Cpath%20d%3D%22M114.71%2C387V127.51H135.57V387Z%22%20style%3D%22vector-effect%3A%20non-scaling-stroke%3B%20opacity%3A%201%3B%20stroke-width%3A%200px%3B%20fill%3A%20rgb(78%2C%20121%2C%20167)%3B%20fill-opacity%3A%201%3B%22%2F%3E%3C%2Fg%3E%3Cg%20class%3D%22point%22%3E%3Cpath%20d%3D%22M219%2C387V67.73H239.86V387Z%22%20style%3D%22vector-effect%3A%20non-scaling-stroke%3B%20opacity%3A%201%3B%20stroke-width%3A%200px%3B%20fill%3A%20rgb(78%2C%20121%2C%20167)%3B%20fill-opacity%3A%201%3B%22%2F%3E%3C%2Fg%3E%3C%2Fg%3E%3C%2Fg%3E%3Cg%20class%3D%22trace%20bars%22%20style%3D%22opacity%3A%201%3B%22%3E%3Cg%20class%3D%22points%22%3E%3Cg%20class%3D%22point%22%3E%3Cpath%20d%3D%22M31.29%2C387V151.78H52.14V387Z%22%20style%3D%22vector-effect%3A%20non-scaling-stroke%3B%20opacity%3A%201%3B%20stroke-width%3A%200px%3B%20fill%3A%20rgb(242%2C%20142%2C%2044)%3B%20fill-opacity%3A%201%3B%22%2F%3E%3C%2Fg%3E%3Cg%20class%3D%22point%22%3E%3Cpath%20d%3D%22M135.57%2C387V110.13H156.43V387Z%22%20style%3D%22vector-effect%3A%20non-scaling-stroke%3B%20opacity%3A%201%3B%20stroke-width%3A%200px%3B%20fill%3A%20rgb(242%2C%20142%2C%2044)%3B%20fill-opacity%3A%201%3B%22%2F%3E%3C%2Fg%3E%3Cg%20class%3D%22point%22%3E%3Cpath%20d%3D%22M239.86%2C387V56.44H260.71V387Z%22%20style%3D%22vector-effect%3A%20non-scaling-stroke%3B%20opacity%3A%201%3B%20stroke-width%3A%200px%3B%20fill%3A%20rgb(242%2C%20142%2C%2044)%3B%20fill-opacity%3A%201%3B%22%2F%3E%3C%2Fg%3E%3C%2Fg%3E%3C%2Fg%3E%3Cg%20class%3D%22trace%20bars%22%20style%3D%22opacity%3A%201%3B%22%3E%3Cg%20class%3D%22points%22%3E%3Cg%20class%3D%22point%22%3E%3Cpath%20d%3D%22M52.14%2C387V133.83H73V387Z%22%20style%3D%22vector-effect%3A%20non-scaling-stroke%3B%20opacity%3A%201%3B%20stroke-width%3A%200px%3B%20fill%3A%20rgb(225%2C%2087%2C%2089)%3B%20fill-opacity%3A%201%3B%22%2F%3E%3C%2Fg%3E%3Cg%20class%3D%22point%22%3E%3Cpath%20d%3D%22M156.43%2C387V97.24H177.29V387Z%22%20style%3D%22vector-effect%3A%20non-scaling-stroke%3B%20opacity%3A%201%3B%20stroke-width%3A%200px%3B%20fill%3A%20rgb(225%2C%2087%2C%2089)%3B%20fill-opacity%3A%201%3B%22%2F%3E%3C%2Fg%3E%3Cg%20class%3D%22point%22%3E%3Cpath%20d%3D%22M260.71%2C387V61.26H281.57V387Z%22%20style%3D%22vector-effect%3A%20non-scaling-stroke%3B%20opacity%3A%201%3B%20stroke-width%3A%200px%3B%20fill%3A%20rgb(225%2C%2087%2C%2089)%3B%20fill-opacity%3A%201%3B%22%2F%3E%3C%2Fg%3E%3C%2Fg%3E%3C%2Fg%3E%3Cg%20class%3D%22trace%20bars%22%20style%3D%22opacity%3A%201%3B%22%3E%3Cg%20class%3D%22points%22%3E%3Cg%20class%3D%22point%22%3E%3Cpath%20d%3D%22M73%2C387V107.31H93.86V387Z%22%20style%3D%22vector-effect%3A%20non-scaling-stroke%3B%20opacity%3A%201%3B%20stroke-width%3A%200px%3B%20fill%3A%20rgb(118%2C%20183%2C%20178)%3B%20fill-opacity%3A%201%3B%22%2F%3E%3C%2Fg%3E%3Cg%20class%3D%22point%22%3E%3Cpath%20d%3D%22M177.29%2C387V87.13H198.14V387Z%22%20style%3D%22vector-effect%3A%20non-scaling-stroke%3B%20opacity%3A%201%3B%20stroke-width%3A%200px%3B%20fill%3A%20rgb(118%2C%20183%2C%20178)%3B%20fill-opacity%3A%201%3B%22%2F%3E%3C%2Fg%3E%3Cg%20class%3D%22point%22%3E%3Cpath%20d%3D%22M281.57%2C387V53.92H302.43V387Z%22%20style%3D%22vector-effect%3A%20non-scaling-stroke%3B%20opacity%3A%201%3B%20stroke-width%3A%200px%3B%20fill%3A%20rgb(118%2C%20183%2C%20178)%3B%20fill-opacity%3A%201%3B%22%2F%3E%3C%2Fg%3E%3C%2Fg%3E%3C%2Fg%3E%3C%2Fg%3E%3C%2Fg%3E%3Cg%20class%3D%22overplot%22%2F%3E%3Cpath%20class%3D%22xlines-above%20crisp%22%20d%3D%22M0%2C0%22%20style%3D%22fill%3A%20none%3B%22%2F%3E%3Cpath%20class%3D%22ylines-above%20crisp%22%20d%3D%22M0%2C0%22%20style%3D%22fill%3A%20none%3B%22%2F%3E%3Cg%20class%3D%22overlines-above%22%2F%3E%3Cg%20class%3D%22xaxislayer-above%22%3E%3Cg%20class%3D%22x2tick%22%3E%3Ctext%20text-anchor%3D%22middle%22%20x%3D%220%22%20y%3D%22430%22%20data-unformatted%3D%22Basic%22%20data-math%3D%22N%22%20transform%3D%22translate(523.2114285714285%2C0)%22%20style%3D%22font-family%3A%20%26quot%3BOpen%20Sans%26quot%3B%2C%20verdana%2C%20arial%2C%20sans-serif%3B%20font-size%3A%2012px%3B%20fill%3A%20rgb(89%2C%2089%2C%2089)%3B%20fill-opacity%3A%201%3B%20white-space%3A%20pre%3B%22%3EBasic%3C%2Ftext%3E%3C%2Fg%3E%3Cg%20class%3D%22x2tick%22%3E%3Ctext%20text-anchor%3D%22middle%22%20x%3D%220%22%20y%3D%22430%22%20data-unformatted%3D%22Extended%22%20data-math%3D%22N%22%20transform%3D%22translate(627.5014285714285%2C0)%22%20style%3D%22font-family%3A%20%26quot%3BOpen%20Sans%26quot%3B%2C%20verdana%2C%20arial%2C%20sans-serif%3B%20font-size%3A%2012px%3B%20fill%3A%20rgb(89%2C%2089%2C%2089)%3B%20fill-opacity%3A%201%3B%20white-space%3A%20pre%3B%22%3EExtended%3C%2Ftext%3E%3C%2Fg%3E%3Cg%20class%3D%22x2tick%22%3E%3Ctext%20text-anchor%3D%22middle%22%20x%3D%220%22%20y%3D%22430%22%20data-unformatted%3D%22Premium%22%20data-math%3D%22N%22%20transform%3D%22translate(731.7814285714285%2C0)%22%20style%3D%22font-family%3A%20%26quot%3BOpen%20Sans%26quot%3B%2C%20verdana%2C%20arial%2C%20sans-serif%3B%20font-size%3A%2012px%3B%20fill%3A%20rgb(89%2C%2089%2C%2089)%3B%20fill-opacity%3A%201%3B%20white-space%3A%20pre%3B%22%3EPremium%3C%2Ftext%3E%3C%2Fg%3E%3C%2Fg%3E%3Cg%20class%3D%22yaxislayer-above%22%2F%3E%3Cg%20class%3D%22overaxes-above%22%2F%3E%3C%2Fg%3E%3Cg%20class%3D%22subplot%20x3y%22%3E%3Cg%20class%3D%22layer-subplot%22%3E%3Cg%20class%3D%22shapelayer%22%2F%3E%3Cg%20class%3D%22imagelayer%22%2F%3E%3C%2Fg%3E%3Cg%20class%3D%22gridlayer%22%3E%3Cg%20class%3D%22x3%22%2F%3E%3Cg%20class%3D%22y%22%3E%3Cpath%20class%3D%22ygrid%20crisp%22%20transform%3D%22translate(0%2C375.18)%22%20d%3D%22M862.1428571428571%2C0h312.85714285714283%22%20style%3D%22stroke%3A%20rgb(89%2C%2089%2C%2089)%3B%20stroke-opacity%3A%200.25%3B%20stroke-width%3A%201px%3B%22%2F%3E%3Cpath%20class%3D%22ygrid%20crisp%22%20transform%3D%22translate(0%2C333.36)%22%20d%3D%22M862.1428571428571%2C0h312.85714285714283%22%20style%3D%22stroke%3A%20rgb(89%2C%2089%2C%2089)%3B%20stroke-opacity%3A%200.25%3B%20stroke-width%3A%201px%3B%22%2F%3E%3Cpath%20class%3D%22ygrid%20crisp%22%20transform%3D%22translate(0%2C291.55)%22%20d%3D%22M862.1428571428571%2C0h312.85714285714283%22%20style%3D%22stroke%3A%20rgb(89%2C%2089%2C%2089)%3B%20stroke-opacity%3A%200.25%3B%20stroke-width%3A%201px%3B%22%2F%3E%3Cpath%20class%3D%22ygrid%20crisp%22%20transform%3D%22translate(0%2C249.73)%22%20d%3D%22M862.1428571428571%2C0h312.85714285714283%22%20style%3D%22stroke%3A%20rgb(89%2C%2089%2C%2089)%3B%20stroke-opacity%3A%200.25%3B%20stroke-width%3A%201px%3B%22%2F%3E%3Cpath%20class%3D%22ygrid%20crisp%22%20transform%3D%22translate(0%2C207.91)%22%20d%3D%22M862.1428571428571%2C0h312.85714285714283%22%20style%3D%22stroke%3A%20rgb(89%2C%2089%2C%2089)%3B%20stroke-opacity%3A%200.25%3B%20stroke-width%3A%201px%3B%22%2F%3E%3Cpath%20class%3D%22ygrid%20crisp%22%20transform%3D%22translate(0%2C166.09)%22%20d%3D%22M862.1428571428571%2C0h312.85714285714283%22%20style%3D%22stroke%3A%20rgb(89%2C%2089%2C%2089)%3B%20stroke-opacity%3A%200.25%3B%20stroke-width%3A%201px%3B%22%2F%3E%3Cpath%20class%3D%22ygrid%20crisp%22%20transform%3D%22translate(0%2C124.28)%22%20d%3D%22M862.1428571428571%2C0h312.85714285714283%22%20style%3D%22stroke%3A%20rgb(89%2C%2089%2C%2089)%3B%20stroke-opacity%3A%200.25%3B%20stroke-width%3A%201px%3B%22%2F%3E%3Cpath%20class%3D%22ygrid%20crisp%22%20transform%3D%22translate(0%2C82.46000000000001)%22%20d%3D%22M862.1428571428571%2C0h312.85714285714283%22%20style%3D%22stroke%3A%20rgb(89%2C%2089%2C%2089)%3B%20stroke-opacity%3A%200.25%3B%20stroke-width%3A%201px%3B%22%2F%3E%3Cpath%20class%3D%22ygrid%20crisp%22%20transform%3D%22translate(0%2C40.64)%22%20d%3D%22M862.1428571428571%2C0h312.85714285714283%22%20style%3D%22stroke%3A%20rgb(89%2C%2089%2C%2089)%3B%20stroke-opacity%3A%200.25%3B%20stroke-width%3A%201px%3B%22%2F%3E%3C%2Fg%3E%3C%2Fg%3E%3Cg%20class%3D%22zerolinelayer%22%3E%3Cpath%20class%3D%22yzl%20zl%20crisp%22%20transform%3D%22translate(0%2C417)%22%20d%3D%22M862.1428571428571%2C0h312.85714285714283%22%20style%3D%22stroke%3A%20rgb(89%2C%2089%2C%2089)%3B%20stroke-opacity%3A%200.5%3B%20stroke-width%3A%201px%3B%22%2F%3E%3C%2Fg%3E%3Cpath%20class%3D%22xlines-below%22%2F%3E%3Cpath%20class%3D%22ylines-below%22%2F%3E%3Cg%20class%3D%22overlines-below%22%2F%3E%3Cg%20class%3D%22xaxislayer-below%22%2F%3E%3Cg%20class%3D%22yaxislayer-below%22%2F%3E%3Cg%20class%3D%22overaxes-below%22%2F%3E%3Cg%20class%3D%22plot%22%20transform%3D%22translate(862.1428571428571%2C30)%22%20clip-path%3D%22url('%23clipb55c0bx3yplot')%22%3E%3Cg%20class%3D%22barlayer%20mlayer%22%3E%3Cg%20class%3D%22trace%20bars%22%20style%3D%22opacity%3A%201%3B%22%3E%3Cg%20class%3D%22points%22%3E%3Cg%20class%3D%22point%22%3E%3Cpath%20d%3D%22M10.43%2C387V74.94H31.29V387Z%22%20style%3D%22vector-effect%3A%20non-scaling-stroke%3B%20opacity%3A%201%3B%20stroke-width%3A%200px%3B%20fill%3A%20rgb(78%2C%20121%2C%20167)%3B%20fill-opacity%3A%201%3B%22%2F%3E%3C%2Fg%3E%3Cg%20class%3D%22point%22%3E%3Cpath%20d%3D%22M114.71%2C387V81.6H135.57V387Z%22%20style%3D%22vector-effect%3A%20non-scaling-stroke%3B%20opacity%3A%201%3B%20stroke-width%3A%200px%3B%20fill%3A%20rgb(78%2C%20121%2C%20167)%3B%20fill-opacity%3A%201%3B%22%2F%3E%3C%2Fg%3E%3Cg%20class%3D%22point%22%3E%3Cpath%20d%3D%22M219%2C387V35.2H239.86V387Z%22%20style%3D%22vector-effect%3A%20non-scaling-stroke%3B%20opacity%3A%201%3B%20stroke-width%3A%200px%3B%20fill%3A%20rgb(78%2C%20121%2C%20167)%3B%20fill-opacity%3A%201%3B%22%2F%3E%3C%2Fg%3E%3C%2Fg%3E%3C%2Fg%3E%3Cg%20class%3D%22trace%20bars%22%20style%3D%22opacity%3A%201%3B%22%3E%3Cg%20class%3D%22points%22%3E%3Cg%20class%3D%22point%22%3E%3Cpath%20d%3D%22M31.29%2C387V47.23H52.14V387Z%22%20style%3D%22vector-effect%3A%20non-scaling-stroke%3B%20opacity%3A%201%3B%20stroke-width%3A%200px%3B%20fill%3A%20rgb(242%2C%20142%2C%2044)%3B%20fill-opacity%3A%201%3B%22%2F%3E%3C%2Fg%3E%3Cg%20class%3D%22point%22%3E%3Cpath%20d%3D%22M135.57%2C387V65.12H156.43V387Z%22%20style%3D%22vector-effect%3A%20non-scaling-stroke%3B%20opacity%3A%201%3B%20stroke-width%3A%200px%3B%20fill%3A%20rgb(242%2C%20142%2C%2044)%3B%20fill-opacity%3A%201%3B%22%2F%3E%3C%2Fg%3E%3Cg%20class%3D%22point%22%3E%3Cpath%20d%3D%22M239.86%2C387V25.37H260.71V387Z%22%20style%3D%22vector-effect%3A%20non-scaling-stroke%3B%20opacity%3A%201%3B%20stroke-width%3A%200px%3B%20fill%3A%20rgb(242%2C%20142%2C%2044)%3B%20fill-opacity%3A%201%3B%22%2F%3E%3C%2Fg%3E%3C%2Fg%3E%3C%2Fg%3E%3Cg%20class%3D%22trace%20bars%22%20style%3D%22opacity%3A%201%3B%22%3E%3Cg%20class%3D%22points%22%3E%3Cg%20class%3D%22point%22%3E%3Cpath%20d%3D%22M52.14%2C387V38.27H73V387Z%22%20style%3D%22vector-effect%3A%20non-scaling-stroke%3B%20opacity%3A%201%3B%20stroke-width%3A%200px%3B%20fill%3A%20rgb(225%2C%2087%2C%2089)%3B%20fill-opacity%3A%201%3B%22%2F%3E%3C%2Fg%3E%3Cg%20class%3D%22point%22%3E%3Cpath%20d%3D%22M156.43%2C387V52.57H177.29V387Z%22%20style%3D%22vector-effect%3A%20non-scaling-stroke%3B%20opacity%3A%201%3B%20stroke-width%3A%200px%3B%20fill%3A%20rgb(225%2C%2087%2C%2089)%3B%20fill-opacity%3A%201%3B%22%2F%3E%3C%2Fg%3E%3Cg%20class%3D%22point%22%3E%3Cpath%20d%3D%22M260.71%2C387V23.53H281.57V387Z%22%20style%3D%22vector-effect%3A%20non-scaling-stroke%3B%20opacity%3A%201%3B%20stroke-width%3A%200px%3B%20fill%3A%20rgb(225%2C%2087%2C%2089)%3B%20fill-opacity%3A%201%3B%22%2F%3E%3C%2Fg%3E%3C%2Fg%3E%3C%2Fg%3E%3Cg%20class%3D%22trace%20bars%22%20style%3D%22opacity%3A%201%3B%22%3E%3Cg%20class%3D%22points%22%3E%3Cg%20class%3D%22point%22%3E%3Cpath%20d%3D%22M73%2C387V26.39H93.86V387Z%22%20style%3D%22vector-effect%3A%20non-scaling-stroke%3B%20opacity%3A%201%3B%20stroke-width%3A%200px%3B%20fill%3A%20rgb(118%2C%20183%2C%20178)%3B%20fill-opacity%3A%201%3B%22%2F%3E%3C%2Fg%3E%3Cg%20class%3D%22point%22%3E%3Cpath%20d%3D%22M177.29%2C387V41.45H198.14V387Z%22%20style%3D%22vector-effect%3A%20non-scaling-stroke%3B%20opacity%3A%201%3B%20stroke-width%3A%200px%3B%20fill%3A%20rgb(118%2C%20183%2C%20178)%3B%20fill-opacity%3A%201%3B%22%2F%3E%3C%2Fg%3E%3Cg%20class%3D%22point%22%3E%3Cpath%20d%3D%22M281.57%2C387V19.35H302.43V387Z%22%20style%3D%22vector-effect%3A%20non-scaling-stroke%3B%20opacity%3A%201%3B%20stroke-width%3A%200px%3B%20fill%3A%20rgb(118%2C%20183%2C%20178)%3B%20fill-opacity%3A%201%3B%22%2F%3E%3C%2Fg%3E%3C%2Fg%3E%3C%2Fg%3E%3C%2Fg%3E%3C%2Fg%3E%3Cg%20class%3D%22overplot%22%2F%3E%3Cpath%20class%3D%22xlines-above%20crisp%22%20d%3D%22M0%2C0%22%20style%3D%22fill%3A%20none%3B%22%2F%3E%3Cpath%20class%3D%22ylines-above%20crisp%22%20d%3D%22M0%2C0%22%20style%3D%22fill%3A%20none%3B%22%2F%3E%3Cg%20class%3D%22overlines-above%22%2F%3E%3Cg%20class%3D%22xaxislayer-above%22%3E%3Cg%20class%3D%22x3tick%22%3E%3Ctext%20text-anchor%3D%22middle%22%20x%3D%220%22%20y%3D%22430%22%20data-unformatted%3D%22Basic%22%20data-math%3D%22N%22%20transform%3D%22translate(914.2828571428571%2C0)%22%20style%3D%22font-family%3A%20%26quot%3BOpen%20Sans%26quot%3B%2C%20verdana%2C%20arial%2C%20sans-serif%3B%20font-size%3A%2012px%3B%20fill%3A%20rgb(89%2C%2089%2C%2089)%3B%20fill-opacity%3A%201%3B%20white-space%3A%20pre%3B%22%3EBasic%3C%2Ftext%3E%3C%2Fg%3E%3Cg%20class%3D%22x3tick%22%3E%3Ctext%20text-anchor%3D%22middle%22%20x%3D%220%22%20y%3D%22430%22%20data-unformatted%3D%22Extended%22%20data-math%3D%22N%22%20transform%3D%22translate(1018.5728571428572%2C0)%22%20style%3D%22font-family%3A%20%26quot%3BOpen%20Sans%26quot%3B%2C%20verdana%2C%20arial%2C%20sans-serif%3B%20font-size%3A%2012px%3B%20fill%3A%20rgb(89%2C%2089%2C%2089)%3B%20fill-opacity%3A%201%3B%20white-space%3A%20pre%3B%22%3EExtended%3C%2Ftext%3E%3C%2Fg%3E%3Cg%20class%3D%22x3tick%22%3E%3Ctext%20text-anchor%3D%22middle%22%20x%3D%220%22%20y%3D%22430%22%20data-unformatted%3D%22Premium%22%20data-math%3D%22N%22%20transform%3D%22translate(1122.8528571428571%2C0)%22%20style%3D%22font-family%3A%20%26quot%3BOpen%20Sans%26quot%3B%2C%20verdana%2C%20arial%2C%20sans-serif%3B%20font-size%3A%2012px%3B%20fill%3A%20rgb(89%2C%2089%2C%2089)%3B%20fill-opacity%3A%201%3B%20white-space%3A%20pre%3B%22%3EPremium%3C%2Ftext%3E%3C%2Fg%3E%3C%2Fg%3E%3Cg%20class%3D%22yaxislayer-above%22%2F%3E%3Cg%20class%3D%22overaxes-above%22%2F%3E%3C%2Fg%3E%3C%2Fg%3E%3Cg%20class%3D%22polarlayer%22%2F%3E%3Cg%20class%3D%22ternarylayer%22%2F%3E%3Cg%20class%3D%22geolayer%22%2F%3E%3Cg%20class%3D%22funnelarealayer%22%2F%3E%3Cg%20class%3D%22pielayer%22%2F%3E%3Cg%20class%3D%22treemaplayer%22%2F%3E%3Cg%20class%3D%22sunburstlayer%22%2F%3E%3Cg%20class%3D%22glimages%22%2F%3E%3Cdefs%20id%3D%22topdefs-b55c0b%22%3E%3Cg%20class%3D%22clips%22%2F%3E%3CclipPath%20id%3D%22legendb55c0b%22%3E%3Crect%20width%3D%22113%22%20height%3D%22116%22%20x%3D%220%22%20y%3D%220%22%2F%3E%3C%2FclipPath%3E%3C%2Fdefs%3E%3Cg%20class%3D%22indicatorlayer%22%2F%3E%3Cg%20class%3D%22layer-above%22%3E%3Cg%20class%3D%22imagelayer%22%2F%3E%3Cg%20class%3D%22shapelayer%22%2F%3E%3C%2Fg%3E%3Cg%20class%3D%22infolayer%22%3E%3Cg%20class%3D%22legend%22%20pointer-events%3D%22all%22%20transform%3D%22translate(1196.9%2C30)%22%3E%3Crect%20class%3D%22bg%22%20shape-rendering%3D%22crispEdges%22%20width%3D%22113%22%20height%3D%22116%22%20x%3D%220%22%20y%3D%220%22%20style%3D%22stroke%3A%20rgb(68%2C%2068%2C%2068)%3B%20stroke-opacity%3A%201%3B%20fill%3A%20rgb(255%2C%20255%2C%20255)%3B%20fill-opacity%3A%201%3B%20stroke-width%3A%200px%3B%22%2F%3E%3Cg%20class%3D%22scrollbox%22%20transform%3D%22%22%20clip-path%3D%22url('%23legendb55c0b')%22%3E%3Cg%20class%3D%22groups%22%20transform%3D%22%22%3E%3Cg%20class%3D%22traces%22%20transform%3D%22translate(0%2C14.5)%22%20style%3D%22opacity%3A%201%3B%22%3E%3Ctext%20class%3D%22legendtext%22%20text-anchor%3D%22start%22%20x%3D%2240%22%20y%3D%224.680000000000001%22%20data-unformatted%3D%22Agent%22%20data-math%3D%22N%22%20style%3D%22font-family%3A%20%26quot%3BOpen%20Sans%26quot%3B%2C%20verdana%2C%20arial%2C%20sans-serif%3B%20font-size%3A%2012px%3B%20fill%3A%20rgb(89%2C%2089%2C%2089)%3B%20fill-opacity%3A%201%3B%20white-space%3A%20pre%3B%22%3EAgent%3C%2Ftext%3E%3Cg%20class%3D%22layers%22%20style%3D%22opacity%3A%201%3B%22%3E%3Cg%20class%3D%22legendfill%22%2F%3E%3Cg%20class%3D%22legendlines%22%2F%3E%3Cg%20class%3D%22legendsymbols%22%3E%3Cg%20class%3D%22legendpoints%22%3E%3Cpath%20class%3D%22legendundefined%22%20d%3D%22M6%2C6H-6V-6H6Z%22%20transform%3D%22translate(20%2C0)%22%20style%3D%22stroke-width%3A%200px%3B%20fill%3A%20rgb(78%2C%20121%2C%20167)%3B%20fill-opacity%3A%201%3B%22%2F%3E%3C%2Fg%3E%3C%2Fg%3E%3C%2Fg%3E%3Crect%20class%3D%22legendtoggle%22%20pointer-events%3D%22all%22%20x%3D%220%22%20y%3D%22-9.5%22%20width%3D%22107.388671875%22%20height%3D%2219%22%20style%3D%22cursor%3A%20pointer%3B%20fill%3A%20rgb(0%2C%200%2C%200)%3B%20fill-opacity%3A%200%3B%22%2F%3E%3C%2Fg%3E%3C%2Fg%3E%3Cg%20class%3D%22groups%22%20transform%3D%22translate(0%2C10)%22%3E%3Cg%20class%3D%22traces%22%20transform%3D%22translate(0%2C33.5)%22%20style%3D%22opacity%3A%201%3B%22%3E%3Ctext%20class%3D%22legendtext%22%20text-anchor%3D%22start%22%20x%3D%2240%22%20y%3D%224.680000000000001%22%20data-unformatted%3D%22Branch%22%20data-math%3D%22N%22%20style%3D%22font-family%3A%20%26quot%3BOpen%20Sans%26quot%3B%2C%20verdana%2C%20arial%2C%20sans-serif%3B%20font-size%3A%2012px%3B%20fill%3A%20rgb(89%2C%2089%2C%2089)%3B%20fill-opacity%3A%201%3B%20white-space%3A%20pre%3B%22%3EBranch%3C%2Ftext%3E%3Cg%20class%3D%22layers%22%20style%3D%22opacity%3A%201%3B%22%3E%3Cg%20class%3D%22legendfill%22%2F%3E%3Cg%20class%3D%22legendlines%22%2F%3E%3Cg%20class%3D%22legendsymbols%22%3E%3Cg%20class%3D%22legendpoints%22%3E%3Cpath%20class%3D%22legendundefined%22%20d%3D%22M6%2C6H-6V-6H6Z%22%20transform%3D%22translate(20%2C0)%22%20style%3D%22stroke-width%3A%200px%3B%20fill%3A%20rgb(242%2C%20142%2C%2044)%3B%20fill-opacity%3A%201%3B%22%2F%3E%3C%2Fg%3E%3C%2Fg%3E%3C%2Fg%3E%3Crect%20class%3D%22legendtoggle%22%20pointer-events%3D%22all%22%20x%3D%220%22%20y%3D%22-9.5%22%20width%3D%22107.388671875%22%20height%3D%2219%22%20style%3D%22cursor%3A%20pointer%3B%20fill%3A%20rgb(0%2C%200%2C%200)%3B%20fill-opacity%3A%200%3B%22%2F%3E%3C%2Fg%3E%3C%2Fg%3E%3Cg%20class%3D%22groups%22%20transform%3D%22translate(0%2C20)%22%3E%3Cg%20class%3D%22traces%22%20transform%3D%22translate(0%2C52.5)%22%20style%3D%22opacity%3A%201%3B%22%3E%3Ctext%20class%3D%22legendtext%22%20text-anchor%3D%22start%22%20x%3D%2240%22%20y%3D%224.680000000000001%22%20data-unformatted%3D%22Call%20Center%22%20data-math%3D%22N%22%20style%3D%22font-family%3A%20%26quot%3BOpen%20Sans%26quot%3B%2C%20verdana%2C%20arial%2C%20sans-serif%3B%20font-size%3A%2012px%3B%20fill%3A%20rgb(89%2C%2089%2C%2089)%3B%20fill-opacity%3A%201%3B%20white-space%3A%20pre%3B%22%3ECall%20Center%3C%2Ftext%3E%3Cg%20class%3D%22layers%22%20style%3D%22opacity%3A%201%3B%22%3E%3Cg%20class%3D%22legendfill%22%2F%3E%3Cg%20class%3D%22legendlines%22%2F%3E%3Cg%20class%3D%22legendsymbols%22%3E%3Cg%20class%3D%22legendpoints%22%3E%3Cpath%20class%3D%22legendundefined%22%20d%3D%22M6%2C6H-6V-6H6Z%22%20transform%3D%22translate(20%2C0)%22%20style%3D%22stroke-width%3A%200px%3B%20fill%3A%20rgb(225%2C%2087%2C%2089)%3B%20fill-opacity%3A%201%3B%22%2F%3E%3C%2Fg%3E%3C%2Fg%3E%3C%2Fg%3E%3Crect%20class%3D%22legendtoggle%22%20pointer-events%3D%22all%22%20x%3D%220%22%20y%3D%22-9.5%22%20width%3D%22107.388671875%22%20height%3D%2219%22%20style%3D%22cursor%3A%20pointer%3B%20fill%3A%20rgb(0%2C%200%2C%200)%3B%20fill-opacity%3A%200%3B%22%2F%3E%3C%2Fg%3E%3C%2Fg%3E%3Cg%20class%3D%22groups%22%20transform%3D%22translate(0%2C30)%22%3E%3Cg%20class%3D%22traces%22%20transform%3D%22translate(0%2C71.5)%22%20style%3D%22opacity%3A%201%3B%22%3E%3Ctext%20class%3D%22legendtext%22%20text-anchor%3D%22start%22%20x%3D%2240%22%20y%3D%224.680000000000001%22%20data-unformatted%3D%22Web%22%20data-math%3D%22N%22%20style%3D%22font-family%3A%20%26quot%3BOpen%20Sans%26quot%3B%2C%20verdana%2C%20arial%2C%20sans-serif%3B%20font-size%3A%2012px%3B%20fill%3A%20rgb(89%2C%2089%2C%2089)%3B%20fill-opacity%3A%201%3B%20white-space%3A%20pre%3B%22%3EWeb%3C%2Ftext%3E%3Cg%20class%3D%22layers%22%20style%3D%22opacity%3A%201%3B%22%3E%3Cg%20class%3D%22legendfill%22%2F%3E%3Cg%20class%3D%22legendlines%22%2F%3E%3Cg%20class%3D%22legendsymbols%22%3E%3Cg%20class%3D%22legendpoints%22%3E%3Cpath%20class%3D%22legendundefined%22%20d%3D%22M6%2C6H-6V-6H6Z%22%20transform%3D%22translate(20%2C0)%22%20style%3D%22stroke-width%3A%200px%3B%20fill%3A%20rgb(118%2C%20183%2C%20178)%3B%20fill-opacity%3A%201%3B%22%2F%3E%3C%2Fg%3E%3C%2Fg%3E%3C%2Fg%3E%3Crect%20class%3D%22legendtoggle%22%20pointer-events%3D%22all%22%20x%3D%220%22%20y%3D%22-9.5%22%20width%3D%22107.388671875%22%20height%3D%2219%22%20style%3D%22cursor%3A%20pointer%3B%20fill%3A%20rgb(0%2C%200%2C%200)%3B%20fill-opacity%3A%200%3B%22%2F%3E%3C%2Fg%3E%3C%2Fg%3E%3C%2Fg%3E%3Crect%20class%3D%22scrollbar%22%20rx%3D%2220%22%20ry%3D%223%22%20width%3D%220%22%20height%3D%220%22%20x%3D%220%22%20y%3D%220%22%20style%3D%22fill%3A%20rgb(128%2C%20139%2C%20164)%3B%20fill-opacity%3A%201%3B%22%2F%3E%3C%2Fg%3E%3Cg%20class%3D%22g-gtitle%22%2F%3E%3Cg%20class%3D%22g-xtitle%22%20transform%3D%22translate(0%2C-15)%22%3E%3Ctext%20class%3D%22xtitle%22%20x%3D%22236.42857142857144%22%20y%3D%22469%22%20text-anchor%3D%22middle%22%20data-unformatted%3D%22Base%22%20data-math%3D%22N%22%20style%3D%22font-family%3A%20%26quot%3BOpen%20Sans%26quot%3B%2C%20verdana%2C%20arial%2C%20sans-serif%3B%20font-size%3A%2014px%3B%20fill%3A%20rgb(89%2C%2089%2C%2089)%3B%20opacity%3A%201%3B%20font-weight%3A%20normal%3B%20white-space%3A%20pre%3B%22%3EBase%3C%2Ftext%3E%3C%2Fg%3E%3Cg%20class%3D%22g-x2title%22%20transform%3D%22translate(0%2C-15)%22%3E%3Ctext%20class%3D%22x2title%22%20x%3D%22627.5%22%20y%3D%22469%22%20text-anchor%3D%22middle%22%20data-unformatted%3D%22Geographical%20Improvements%22%20data-math%3D%22N%22%20style%3D%22font-family%3A%20%26quot%3BOpen%20Sans%26quot%3B%2C%20verdana%2C%20arial%2C%20sans-serif%3B%20font-size%3A%2014px%3B%20fill%3A%20rgb(89%2C%2089%2C%2089)%3B%20opacity%3A%201%3B%20font-weight%3A%20normal%3B%20white-space%3A%20pre%3B%22%3EGeographical%20Improvements%3C%2Ftext%3E%3C%2Fg%3E%3Cg%20class%3D%22g-x3title%22%20transform%3D%22translate(0%2C-15)%22%3E%3Ctext%20class%3D%22x3title%22%20x%3D%221018.5714285714286%22%20y%3D%22469%22%20text-anchor%3D%22middle%22%20data-unformatted%3D%22Personal%20Auto%20Boost%22%20data-math%3D%22N%22%20style%3D%22font-family%3A%20%26quot%3BOpen%20Sans%26quot%3B%2C%20verdana%2C%20arial%2C%20sans-serif%3B%20font-size%3A%2014px%3B%20fill%3A%20rgb(89%2C%2089%2C%2089)%3B%20opacity%3A%201%3B%20font-weight%3A%20normal%3B%20white-space%3A%20pre%3B%22%3EPersonal%20Auto%20Boost%3C%2Ftext%3E%3C%2Fg%3E%3Cg%20class%3D%22g-ytitle%22%2F%3E%3C%2Fg%3E%3Cg%20class%3D%22menulayer%22%2F%3E%3Cg%20class%3D%22zoomlayer%22%2F%3E%3Cg%20class%3D%22hoverlayer%22%2F%3E%3C%2Fsvg%3E\">"
      ],
      "text/plain": [
       "Open the notebook in JupyterLab with the Atoti extension enabled to build this widget."
      ]
     },
     "metadata": {},
     "output_type": "display_data"
    }
   ],
   "source": [
    "session.visualize(\"Scenarios: Sales propotion by channel and coverage type\")"
   ]
  },
  {
   "cell_type": "code",
   "execution_count": 43,
   "id": "1d9d11d8-8dab-4283-a401-f9964a84307a",
   "metadata": {
    "atoti": {
     "height": 676,
     "widget": {
      "filters": [
       "{[Epoch].[Epoch].[Base], [Epoch].[Epoch].[Geographical Improvements], [Epoch].[Epoch].[Pareto price change]}"
      ],
      "mapping": {
       "groupBy": [
        "[Epoch].[Epoch].[Branch]"
       ],
       "horizontalSubplots": [
        "[predictions].[Location_Code].[Location_Code]"
       ],
       "splitBy": [
        "[predictions].[State].[State]"
       ],
       "values": [
        "[Measures].[revenue_realised]"
       ],
       "verticalSubplots": []
      },
      "name": "Sales by State",
      "query": {
       "mdx": "SELECT NON EMPTY Crossjoin(Hierarchize(Descendants({[predictions].[Location_Code].[AllMember]}, 1, SELF_AND_BEFORE)), {[Measures].[revenue_realised]}) ON COLUMNS, NON EMPTY Order(Crossjoin([Epoch].[Epoch].[Branch].Members, Hierarchize(Descendants({[predictions].[State].[AllMember]}, 1, SELF_AND_BEFORE))), [Measures].[revenue_realised], BASC) ON ROWS FROM [predictions] CELL PROPERTIES VALUE, FORMATTED_VALUE, BACK_COLOR, FORE_COLOR, FONT_FLAGS",
       "updateMode": "once"
      },
      "serverKey": "default",
      "widgetKey": "plotly-tree-map"
     }
    },
    "tags": []
   },
   "outputs": [
    {
     "data": {
      "application/vnd.atoti.widget.v0+json": {
       "name": "Scenarios: Revenue realised by State and location code",
       "sessionId": "1685500978_82OHXW",
       "sessionLocation": {
        "https": false,
        "port": 54578
       },
       "widgetCreationCode": "session.visualize()"
      },
      "text/html": [
       "<img src=\"data:image/svg+xml;charset=utf8,%3C%3Fxml%20version%3D%221.0%22%20standalone%3D%22no%22%3F%3E%3Csvg%20xmlns%3D%22http%3A%2F%2Fwww.w3.org%2F2000%2Fsvg%22%20height%3D%22668%22%20width%3D%221310%22%3E%3CforeignObject%20width%3D%22100%25%22%20height%3D%22100%25%22%20x%3D%220%22%20y%3D%220%22%3E%3Cstyle%20xmlns%3D%22http%3A%2F%2Fwww.w3.org%2F1999%2Fxhtml%22%20type%3D%22text%2Fcss%22%3E*%2C%20%3A%3Abefore%2C%20%3A%3Aafter%20%7Bbox-sizing%3A%20unset%7D%0Aa%20%7Bcolor%3A%20unset%3B%20text-decoration-line%3A%20unset%3B%20text-decoration-thickness%3A%20unset%3B%20text-decoration-style%3A%20unset%3B%20text-decoration-color%3A%20unset%7D%0A.ant-root%20%5Bclass%5E%3D%22ant-%22%5D%2C%20.ant-root%20%5Bclass*%3D%22ant-%22%5D%2C%20.ant-root%20%5Bclass%5E%3D%22ant-%22%5D%20*%2C%20.ant-root%20%5Bclass*%3D%22ant-%22%5D%20*%2C%20.ant-root%20%5Bclass%5E%3D%22ant-%22%5D%20%3A%3Abefore%2C%20.ant-root%20%5Bclass*%3D%22ant-%22%5D%20%3A%3Abefore%2C%20.ant-root%20%5Bclass%5E%3D%22ant-%22%5D%20%3A%3Aafter%2C%20.ant-root%20%5Bclass*%3D%22ant-%22%5D%20%3A%3Aafter%20%7Bbox-sizing%3A%20border-box%7D%0A.ant-root%2C%20.ant-root%20%7Bwidth%3A%20100%25%3B%20height%3A%20100%25%7D%0A.ant-root%20*%2C%20.ant-root%20%3A%3Abefore%2C%20.ant-root%20%3A%3Aafter%20%7Bbox-sizing%3A%20border-box%7D%0A.ant-root%20%7Btext-size-adjust%3A%20100%25%3B%20-webkit-tap-highlight-color%3A%20rgba(0%2C%200%2C%200%2C%200)%3B%20font-family%3A%20-apple-system%2C%20BlinkMacSystemFont%2C%20%22Segoe%20UI%22%2C%20Roboto%2C%20%22Helvetica%20Neue%22%2C%20Arial%2C%20%22Noto%20Sans%22%2C%20sans-serif%2C%20%22Apple%20Color%20Emoji%22%2C%20%22Segoe%20UI%20Emoji%22%2C%20%22Segoe%20UI%20Symbol%22%2C%20%22Noto%20Color%20Emoji%22%3B%20line-height%3A%201.66667%3B%20color%3A%20rgb(89%2C%2089%2C%2089)%3B%20font-variant-ligatures%3A%20normal%3B%20font-variant-numeric%3A%20tabular-nums%3B%20font-variant-east-asian%3A%20normal%3B%20font-variant-caps%3A%20normal%3B%20font-variant-alternates%3A%20normal%3B%20background-color%3A%20rgb(255%2C%20255%2C%20255)%3B%20margin-top%3A%200px%3B%20margin-right%3A%200px%3B%20margin-bottom%3A%200px%3B%20margin-left%3A%200px%3B%20font-size%3A%2012px%3B%20--antd-wave-shadow-color%3A%20%231890ff%3B%20--scroll-bar%3A%200%7D%0A.ant-root%20a%20%7Bcolor%3A%20rgb(24%2C%20144%2C%20255)%3B%20cursor%3A%20pointer%3B%20background-color%3A%20rgba(0%2C%200%2C%200%2C%200)%3B%20outline-color%3A%20initial%3B%20outline-style%3A%20none%3B%20outline-width%3A%20initial%3B%20text-decoration-line%3A%20none%3B%20text-decoration-thickness%3A%20initial%3B%20text-decoration-style%3A%20initial%3B%20text-decoration-color%3A%20initial%3B%20transition-duration%3A%200.3s%3B%20transition-timing-function%3A%20ease%3B%20transition-delay%3A%200s%3B%20transition-property%3A%20color%7D%0A.ant-root%20svg%3Anot(%3Aroot)%20%7Boverflow-x%3A%20hidden%3B%20overflow-y%3A%20hidden%7D%0A.ant-root%20a%2C%20.ant-root%20area%2C%20.ant-root%20button%2C%20.ant-root%20%5Brole%3D%22button%22%5D%2C%20.ant-root%20input%3Anot(%5Btype%3D%22range%22%5D)%2C%20.ant-root%20label%2C%20.ant-root%20select%2C%20.ant-root%20summary%2C%20.ant-root%20textarea%20%7Btouch-action%3A%20manipulation%7D%0A.css-12ebr42-AWidget%20%7Bheight%3A%20100%25%7D%0A.css-1b1raxz-DefaultWidgetLoadingOverlay%20%7Bdisplay%3A%20flex%3B%20height%3A%20100%25%3B%20-webkit-box-pack%3A%20center%3B%20justify-content%3A%20center%3B%20position%3A%20absolute%3B%20width%3A%20100%25%3B%20-webkit-box-align%3A%20center%3B%20align-items%3A%20center%3B%20pointer-events%3A%20none%3B%20z-index%3A%202%7D%0A.css-34a2ml-DefaultWidgetLoadingOverlay%20%7Bbackground-image%3A%20initial%3B%20background-position-x%3A%20initial%3B%20background-position-y%3A%20initial%3B%20background-size%3A%20initial%3B%20background-repeat-x%3A%20initial%3B%20background-repeat-y%3A%20initial%3B%20background-attachment%3A%20initial%3B%20background-origin%3A%20initial%3B%20background-clip%3A%20initial%3B%20background-color%3A%20transparent%3B%20width%3A%20calc(100%25%20-%204px)%3B%20height%3A%20calc(100%25%20-%204px)%7D%0A.css-13w0jw1-WidgetLoadingOverlay-ChartWithLoadingOverlay%20%7Bposition%3A%20relative%3B%20height%3A%20100%25%7D%0A.css-1u8fyhz-ChartWithMetaData%20%7Bheight%3A%20100%25%7D%0A.css-znpfyj-Plot%20%7Bheight%3A%20100%25%3B%20position%3A%20relative%3B%20width%3A%20100%25%7D%0A.css-mb8m0v-Plot%20%7Bposition%3A%20absolute%3B%20top%3A%200px%3B%20bottom%3A%200px%3B%20left%3A%200px%3B%20right%3A%200px%7D%0A.css-mb8m0v-Plot%20.js-plotly-plot%20%7Bheight%3A%20100%25%7D%0A.js-plotly-plot%20.plotly%20.modebar-btn%20svg%20%7Bposition%3A%20relative%3B%20top%3A%202px%7D%0A.js-plotly-plot%20.plotly%20.modebar-btn%20%7Bposition%3A%20relative%3B%20font-size%3A%2016px%3B%20padding-top%3A%203px%3B%20padding-right%3A%204px%3B%20padding-bottom%3A%203px%3B%20padding-left%3A%204px%3B%20height%3A%2022px%3B%20cursor%3A%20pointer%3B%20line-height%3A%20normal%3B%20box-sizing%3A%20border-box%7D%0A.js-plotly-plot%20.plotly%20.modebar-group%20%7Bfloat%3A%20left%3B%20display%3A%20inline-block%3B%20box-sizing%3A%20border-box%3B%20padding-left%3A%208px%3B%20position%3A%20relative%3B%20vertical-align%3A%20middle%3B%20white-space%3A%20nowrap%7D%0A.js-plotly-plot%20.plotly%20.modebar--hover%20%26gt%3B%20%3Anot(.watermark)%20%7Bopacity%3A%200%3B%20transition-duration%3A%200.3s%3B%20transition-timing-function%3A%20ease%3B%20transition-delay%3A%200s%3B%20transition-property%3A%20opacity%7D%0A.js-plotly-plot%20.plotly%20.ease-bg%20%7Btransition-duration%3A%200.3s%3B%20transition-timing-function%3A%20ease%3B%20transition-delay%3A%200s%3B%20transition-property%3A%20background-color%7D%0A.js-plotly-plot%20.plotly%20.modebar%20%7Bposition%3A%20absolute%3B%20top%3A%202px%3B%20right%3A%202px%7D%0A.js-plotly-plot%20.plotly%20.cursor-pointer%20%7Bcursor%3A%20pointer%7D%0A.js-plotly-plot%20.plotly%20.main-svg%20.draglayer%20%7Bpointer-events%3A%20all%7D%0A.js-plotly-plot%20.plotly%20.main-svg%20%7Bposition%3A%20absolute%3B%20top%3A%200px%3B%20left%3A%200px%3B%20pointer-events%3A%20none%7D%0A.js-plotly-plot%20.plotly%20svg%20%7Boverflow-x%3A%20hidden%3B%20overflow-y%3A%20hidden%7D%0A.js-plotly-plot%20.plotly%20.user-select-none%20%7Buser-select%3A%20none%7D%0A.js-plotly-plot%20.plotly%20a%20%7Btext-decoration-line%3A%20none%3B%20text-decoration-thickness%3A%20initial%3B%20text-decoration-style%3A%20initial%3B%20text-decoration-color%3A%20initial%7D%0A.js-plotly-plot%20.plotly%2C%20.js-plotly-plot%20.plotly%20div%20%7Bdirection%3A%20ltr%3B%20font-family%3A%20%22Open%20Sans%22%2C%20verdana%2C%20arial%2C%20sans-serif%3B%20margin-top%3A%200px%3B%20margin-right%3A%200px%3B%20margin-bottom%3A%200px%3B%20margin-left%3A%200px%3B%20padding-top%3A%200px%3B%20padding-right%3A%200px%3B%20padding-bottom%3A%200px%3B%20padding-left%3A%200px%7D%0A%23modebar-4926fd%20.modebar-btn%20.icon%20path%20%7Bfill%3A%20rgba(68%2C%2068%2C%2068%2C%200.3)%7D%0A*%20%7B-ms-overflow-style%3A%20none%3B%20scrollbar-width%3A%20none%7D%0A*%3A%3A-webkit-scrollbar%20%7Bdisplay%3A%20none%7D%0A.atoti-hidden-in-snapshot%20%7Bdisplay%3A%20none%7D%3C%2Fstyle%3E%3Cdiv%20xmlns%3D%22http%3A%2F%2Fwww.w3.org%2F1999%2Fxhtml%22%20style%3D%22height%3A%20668px%3B%20width%3A%201310px%3B%22%3E%3Cdiv%20class%3D%22ant-root%20css-0%22%3E%3Cdiv%20class%3D%22ant-dropdown-trigger%20css-12ebr42-AWidget%22%3E%3Cdiv%20class%3D%22css-13w0jw1-WidgetLoadingOverlay-ChartWithLoadingOverlay%22%3E%3Cdiv%20class%3D%22css-1b1raxz-DefaultWidgetLoadingOverlay%22%3E%3Cdiv%20class%3D%22css-34a2ml-DefaultWidgetLoadingOverlay%22%3E%3C%2Fdiv%3E%3C%2Fdiv%3E%3Cdiv%20class%3D%22css-1u8fyhz-ChartWithMetaData%22%3E%3Cdiv%20tabindex%3D%220%22%20class%3D%22css-znpfyj-Plot%22%3E%3Cdiv%20class%3D%22css-mb8m0v-Plot%22%3E%3Cdiv%20style%3D%22position%3A%20relative%3B%20display%3A%20inline-block%3B%22%20class%3D%22js-plotly-plot%22%3E%3Cdiv%20class%3D%22plot-container%20plotly%22%3E%3Cdiv%20class%3D%22user-select-none%20svg-container%22%20style%3D%22position%3A%20relative%3B%20width%3A%201310px%3B%20height%3A%20668px%3B%22%3E%3Csvg%20class%3D%22main-svg%22%20xmlns%3D%22http%3A%2F%2Fwww.w3.org%2F2000%2Fsvg%22%20xmlns%3Axlink%3D%22http%3A%2F%2Fwww.w3.org%2F1999%2Fxlink%22%20width%3D%221310%22%20height%3D%22668%22%20style%3D%22background%3A%20rgb(255%2C%20255%2C%20255)%3B%22%3E%3Cdefs%20id%3D%22defs-4926fd%22%3E%3Cg%20class%3D%22clips%22%2F%3E%3Cg%20class%3D%22gradients%22%2F%3E%3C%2Fdefs%3E%3Cg%20class%3D%22bglayer%22%2F%3E%3Cg%20class%3D%22draglayer%22%2F%3E%3Cg%20class%3D%22layer-below%22%3E%3Cg%20class%3D%22imagelayer%22%2F%3E%3Cg%20class%3D%22shapelayer%22%2F%3E%3C%2Fg%3E%3Cg%20class%3D%22cartesianlayer%22%2F%3E%3Cg%20class%3D%22polarlayer%22%2F%3E%3Cg%20class%3D%22ternarylayer%22%2F%3E%3Cg%20class%3D%22geolayer%22%2F%3E%3Cg%20class%3D%22funnelarealayer%22%2F%3E%3Cg%20class%3D%22pielayer%22%2F%3E%3Cg%20class%3D%22treemaplayer%22%3E%3Cg%20class%3D%22trace%20treemap%22%20style%3D%22opacity%3A%201%3B%22%3E%3Cg%20class%3D%22slice%20cursor-pointer%22%3E%3Cpath%20class%3D%22surface%22%20d%3D%22M80%2C30L431.4285714285715%2C30L431.4285714285715%2C628L80%2C628Z%22%20style%3D%22pointer-events%3A%20all%3B%20stroke-width%3A%200%3B%20fill%3A%20rgb(0%2C%200%2C%200)%3B%20fill-opacity%3A%200%3B%20stroke%3A%20rgb(0%2C%200%2C%200)%3B%20stroke-opacity%3A%200%3B%20opacity%3A%20100%3B%22%2F%3E%3Cg%20class%3D%22slicetext%22%3E%3Ctext%20data-notex%3D%221%22%20class%3D%22slicetext%22%20text-anchor%3D%22start%22%20data-unformatted%3D%22Rural%22%20data-math%3D%22N%22%20x%3D%220%22%20y%3D%220%22%20style%3D%22font-family%3A%20%26quot%3BOpen%20Sans%26quot%3B%2C%20verdana%2C%20arial%2C%20sans-serif%3B%20font-size%3A%2012px%3B%20fill%3A%20rgb(89%2C%2089%2C%2089)%3B%20fill-opacity%3A%201%3B%20white-space%3A%20pre%3B%22%20transform%3D%22translate(86%2C45)%22%3ERural%3C%2Ftext%3E%3C%2Fg%3E%3C%2Fg%3E%3Cg%20class%3D%22slice%20cursor-pointer%22%3E%3Cpath%20class%3D%22surface%22%20d%3D%22M86%2C54L425.4285714285715%2C54L425.4285714285715%2C266.5677810652216L86%2C266.5677810652216Z%22%20style%3D%22pointer-events%3A%20all%3B%20stroke-width%3A%201%3B%20fill%3A%20rgb(111%2C%20146%2C%20184)%3B%20fill-opacity%3A%201%3B%20stroke%3A%20rgb(255%2C%20255%2C%20255)%3B%20stroke-opacity%3A%201%3B%20opacity%3A%201%3B%22%2F%3E%3Cg%20class%3D%22slicetext%22%3E%3Ctext%20data-notex%3D%221%22%20class%3D%22slicetext%22%20text-anchor%3D%22start%22%20data-unformatted%3D%22Pareto%20price%20change%22%20data-math%3D%22N%22%20x%3D%220%22%20y%3D%220%22%20style%3D%22font-family%3A%20%26quot%3BOpen%20Sans%26quot%3B%2C%20verdana%2C%20arial%2C%20sans-serif%3B%20font-size%3A%2012px%3B%20fill%3A%20rgb(255%2C%20255%2C%20255)%3B%20fill-opacity%3A%201%3B%20white-space%3A%20pre%3B%22%20transform%3D%22translate(92%2C69)%22%3EPareto%20price%20change%3C%2Ftext%3E%3C%2Fg%3E%3C%2Fg%3E%3Cg%20class%3D%22slice%20cursor-pointer%22%3E%3Cpath%20class%3D%22surface%22%20d%3D%22M86%2C269.5677810652216L425.42857142857144%2C269.5677810652216L425.42857142857144%2C448.8582594494427L86%2C448.8582594494427Z%22%20style%3D%22pointer-events%3A%20all%3B%20stroke-width%3A%201%3B%20fill%3A%20rgb(245%2C%20163%2C%2084)%3B%20fill-opacity%3A%201%3B%20stroke%3A%20rgb(255%2C%20255%2C%20255)%3B%20stroke-opacity%3A%201%3B%20opacity%3A%201%3B%22%2F%3E%3Cg%20class%3D%22slicetext%22%3E%3Ctext%20data-notex%3D%221%22%20class%3D%22slicetext%22%20text-anchor%3D%22start%22%20data-unformatted%3D%22Base%22%20data-math%3D%22N%22%20x%3D%220%22%20y%3D%220%22%20style%3D%22font-family%3A%20%26quot%3BOpen%20Sans%26quot%3B%2C%20verdana%2C%20arial%2C%20sans-serif%3B%20font-size%3A%2012px%3B%20fill%3A%20rgb(68%2C%2068%2C%2068)%3B%20fill-opacity%3A%201%3B%20white-space%3A%20pre%3B%22%20transform%3D%22translate(92%2C284.5677810652216)%22%3EBase%3C%2Ftext%3E%3C%2Fg%3E%3C%2Fg%3E%3Cg%20class%3D%22slice%20cursor-pointer%22%3E%3Cpath%20class%3D%22surface%22%20d%3D%22M86%2C451.8582594494427L425.4285714285715%2C451.8582594494427L425.4285714285715%2C622L86%2C622Z%22%20style%3D%22pointer-events%3A%20all%3B%20stroke-width%3A%201%3B%20fill%3A%20rgb(231%2C%20119%2C%20120)%3B%20fill-opacity%3A%201%3B%20stroke%3A%20rgb(255%2C%20255%2C%20255)%3B%20stroke-opacity%3A%201%3B%20opacity%3A%201%3B%22%2F%3E%3Cg%20class%3D%22slicetext%22%3E%3Ctext%20data-notex%3D%221%22%20class%3D%22slicetext%22%20text-anchor%3D%22start%22%20data-unformatted%3D%22Geographical%20Improvements%22%20data-math%3D%22N%22%20x%3D%220%22%20y%3D%220%22%20style%3D%22font-family%3A%20%26quot%3BOpen%20Sans%26quot%3B%2C%20verdana%2C%20arial%2C%20sans-serif%3B%20font-size%3A%2012px%3B%20fill%3A%20rgb(68%2C%2068%2C%2068)%3B%20fill-opacity%3A%201%3B%20white-space%3A%20pre%3B%22%20transform%3D%22translate(92%2C466.8582594494427)%22%3EGeographical%20Improvements%3C%2Ftext%3E%3C%2Fg%3E%3C%2Fg%3E%3Cg%20class%3D%22slice%20cursor-pointer%22%3E%3Cpath%20class%3D%22surface%22%20d%3D%22M92%2C78L229.2856480787421%2C78L229.2856480787421%2C171.35441023351413L92%2C171.35441023351413Z%22%20style%3D%22pointer-events%3A%20all%3B%20stroke-width%3A%201%3B%20fill%3A%20rgb(78%2C%20121%2C%20167)%3B%20fill-opacity%3A%201%3B%20stroke%3A%20rgb(255%2C%20255%2C%20255)%3B%20stroke-opacity%3A%201%3B%20opacity%3A%201%3B%22%2F%3E%3Cg%20class%3D%22slicetext%22%3E%3Ctext%20data-notex%3D%221%22%20class%3D%22slicetext%22%20text-anchor%3D%22start%22%20data-unformatted%3D%22Oregon%22%20data-math%3D%22N%22%20x%3D%220%22%20y%3D%220%22%20style%3D%22font-family%3A%20%26quot%3BOpen%20Sans%26quot%3B%2C%20verdana%2C%20arial%2C%20sans-serif%3B%20font-size%3A%2012px%3B%20fill%3A%20rgb(255%2C%20255%2C%20255)%3B%20fill-opacity%3A%201%3B%20white-space%3A%20pre%3B%22%20transform%3D%22translate(95%2C93)%22%3EOregon%3C%2Ftext%3E%3C%2Fg%3E%3C%2Fg%3E%3Cg%20class%3D%22slice%20cursor-pointer%22%3E%3Cpath%20class%3D%22surface%22%20d%3D%22M92%2C174.35441023351413L229.2856480787421%2C174.35441023351413L229.2856480787421%2C260.5677810652216L92%2C260.5677810652216Z%22%20style%3D%22pointer-events%3A%20all%3B%20stroke-width%3A%201%3B%20fill%3A%20rgb(78%2C%20121%2C%20167)%3B%20fill-opacity%3A%201%3B%20stroke%3A%20rgb(255%2C%20255%2C%20255)%3B%20stroke-opacity%3A%201%3B%20opacity%3A%201%3B%22%2F%3E%3Cg%20class%3D%22slicetext%22%3E%3Ctext%20data-notex%3D%221%22%20class%3D%22slicetext%22%20text-anchor%3D%22start%22%20data-unformatted%3D%22California%22%20data-math%3D%22N%22%20x%3D%220%22%20y%3D%220%22%20style%3D%22font-family%3A%20%26quot%3BOpen%20Sans%26quot%3B%2C%20verdana%2C%20arial%2C%20sans-serif%3B%20font-size%3A%2012px%3B%20fill%3A%20rgb(255%2C%20255%2C%20255)%3B%20fill-opacity%3A%201%3B%20white-space%3A%20pre%3B%22%20transform%3D%22translate(95%2C189.35441023351413)%22%3ECalifornia%3C%2Ftext%3E%3C%2Fg%3E%3C%2Fg%3E%3Cg%20class%3D%22slice%20cursor-pointer%22%3E%3Cpath%20class%3D%22surface%22%20d%3D%22M232.2856480787421%2C78L358.22449278723246%2C78L358.22449278723246%2C170.99178966634247L232.2856480787421%2C170.99178966634247Z%22%20style%3D%22pointer-events%3A%20all%3B%20stroke-width%3A%201%3B%20fill%3A%20rgb(78%2C%20121%2C%20167)%3B%20fill-opacity%3A%201%3B%20stroke%3A%20rgb(255%2C%20255%2C%20255)%3B%20stroke-opacity%3A%201%3B%20opacity%3A%201%3B%22%2F%3E%3Cg%20class%3D%22slicetext%22%3E%3Ctext%20data-notex%3D%221%22%20class%3D%22slicetext%22%20text-anchor%3D%22start%22%20data-unformatted%3D%22Arizona%22%20data-math%3D%22N%22%20x%3D%220%22%20y%3D%220%22%20style%3D%22font-family%3A%20%26quot%3BOpen%20Sans%26quot%3B%2C%20verdana%2C%20arial%2C%20sans-serif%3B%20font-size%3A%2012px%3B%20fill%3A%20rgb(255%2C%20255%2C%20255)%3B%20fill-opacity%3A%201%3B%20white-space%3A%20pre%3B%22%20transform%3D%22translate(236.2856480787421%2C93)%22%3EArizona%3C%2Ftext%3E%3C%2Fg%3E%3C%2Fg%3E%3Cg%20class%3D%22slice%20cursor-pointer%22%3E%3Cpath%20class%3D%22surface%22%20d%3D%22M232.2856480787421%2C173.99178966634247L358.22449278723246%2C173.99178966634247L358.22449278723246%2C260.56778106522154L232.2856480787421%2C260.56778106522154Z%22%20style%3D%22pointer-events%3A%20all%3B%20stroke-width%3A%201%3B%20fill%3A%20rgb(78%2C%20121%2C%20167)%3B%20fill-opacity%3A%201%3B%20stroke%3A%20rgb(255%2C%20255%2C%20255)%3B%20stroke-opacity%3A%201%3B%20opacity%3A%201%3B%22%2F%3E%3Cg%20class%3D%22slicetext%22%3E%3Ctext%20data-notex%3D%221%22%20class%3D%22slicetext%22%20text-anchor%3D%22start%22%20data-unformatted%3D%22Washington%22%20data-math%3D%22N%22%20x%3D%220%22%20y%3D%220%22%20style%3D%22font-family%3A%20%26quot%3BOpen%20Sans%26quot%3B%2C%20verdana%2C%20arial%2C%20sans-serif%3B%20font-size%3A%2012px%3B%20fill%3A%20rgb(255%2C%20255%2C%20255)%3B%20fill-opacity%3A%201%3B%20white-space%3A%20pre%3B%22%20transform%3D%22translate(235.2856480787421%2C188.99178966634247)%22%3EWashington%3C%2Ftext%3E%3C%2Fg%3E%3C%2Fg%3E%3Cg%20class%3D%22slice%20cursor-pointer%22%3E%3Cpath%20class%3D%22surface%22%20d%3D%22M361.22449278723246%2C78L419.4285714285715%2C78L419.4285714285715%2C260.56778106522165L361.22449278723246%2C260.56778106522165Z%22%20style%3D%22pointer-events%3A%20all%3B%20stroke-width%3A%201%3B%20fill%3A%20rgb(78%2C%20121%2C%20167)%3B%20fill-opacity%3A%201%3B%20stroke%3A%20rgb(255%2C%20255%2C%20255)%3B%20stroke-opacity%3A%201%3B%20opacity%3A%201%3B%22%2F%3E%3Cg%20class%3D%22slicetext%22%3E%3Ctext%20data-notex%3D%221%22%20class%3D%22slicetext%22%20text-anchor%3D%22start%22%20data-unformatted%3D%22Nevada%22%20data-math%3D%22N%22%20x%3D%220%22%20y%3D%220%22%20style%3D%22font-family%3A%20%26quot%3BOpen%20Sans%26quot%3B%2C%20verdana%2C%20arial%2C%20sans-serif%3B%20font-size%3A%2012px%3B%20fill%3A%20rgb(255%2C%20255%2C%20255)%3B%20fill-opacity%3A%201%3B%20white-space%3A%20pre%3B%22%20transform%3D%22translate(364.22449278723246%2C93)%22%3ENevada%3C%2Ftext%3E%3C%2Fg%3E%3C%2Fg%3E%3Cg%20class%3D%22slice%20cursor-pointer%22%3E%3Cpath%20class%3D%22surface%22%20d%3D%22M92%2C293.5677810652216L229.60553113369633%2C293.5677810652216L229.60553113369633%2C369.41466551365914L92%2C369.41466551365914Z%22%20style%3D%22pointer-events%3A%20all%3B%20stroke-width%3A%201%3B%20fill%3A%20rgb(242%2C%20142%2C%2044)%3B%20fill-opacity%3A%201%3B%20stroke%3A%20rgb(255%2C%20255%2C%20255)%3B%20stroke-opacity%3A%201%3B%20opacity%3A%201%3B%22%2F%3E%3Cg%20class%3D%22slicetext%22%3E%3Ctext%20data-notex%3D%221%22%20class%3D%22slicetext%22%20text-anchor%3D%22start%22%20data-unformatted%3D%22Oregon%22%20data-math%3D%22N%22%20x%3D%220%22%20y%3D%220%22%20style%3D%22font-family%3A%20%26quot%3BOpen%20Sans%26quot%3B%2C%20verdana%2C%20arial%2C%20sans-serif%3B%20font-size%3A%2012px%3B%20fill%3A%20rgb(68%2C%2068%2C%2068)%3B%20fill-opacity%3A%201%3B%20white-space%3A%20pre%3B%22%20transform%3D%22translate(95%2C308.5677810652216)%22%3EOregon%3C%2Ftext%3E%3C%2Fg%3E%3C%2Fg%3E%3Cg%20class%3D%22slice%20cursor-pointer%22%3E%3Cpath%20class%3D%22surface%22%20d%3D%22M92%2C372.41466551365914L229.60553113369633%2C372.41466551365914L229.60553113369633%2C442.8582594494427L92%2C442.8582594494427Z%22%20style%3D%22pointer-events%3A%20all%3B%20stroke-width%3A%201%3B%20fill%3A%20rgb(242%2C%20142%2C%2044)%3B%20fill-opacity%3A%201%3B%20stroke%3A%20rgb(255%2C%20255%2C%20255)%3B%20stroke-opacity%3A%201%3B%20opacity%3A%201%3B%22%2F%3E%3Cg%20class%3D%22slicetext%22%3E%3Ctext%20data-notex%3D%221%22%20class%3D%22slicetext%22%20text-anchor%3D%22start%22%20data-unformatted%3D%22California%22%20data-math%3D%22N%22%20x%3D%220%22%20y%3D%220%22%20style%3D%22font-family%3A%20%26quot%3BOpen%20Sans%26quot%3B%2C%20verdana%2C%20arial%2C%20sans-serif%3B%20font-size%3A%2012px%3B%20fill%3A%20rgb(68%2C%2068%2C%2068)%3B%20fill-opacity%3A%201%3B%20white-space%3A%20pre%3B%22%20transform%3D%22translate(95%2C387.41466551365914)%22%3ECalifornia%3C%2Ftext%3E%3C%2Fg%3E%3C%2Fg%3E%3Cg%20class%3D%22slice%20cursor-pointer%22%3E%3Cpath%20class%3D%22surface%22%20d%3D%22M232.60553113369633%2C293.5677810652216L358.2624361880646%2C293.5677810652216L358.2624361880646%2C369.4397269410287L232.60553113369633%2C369.4397269410287Z%22%20style%3D%22pointer-events%3A%20all%3B%20stroke-width%3A%201%3B%20fill%3A%20rgb(242%2C%20142%2C%2044)%3B%20fill-opacity%3A%201%3B%20stroke%3A%20rgb(255%2C%20255%2C%20255)%3B%20stroke-opacity%3A%201%3B%20opacity%3A%201%3B%22%2F%3E%3Cg%20class%3D%22slicetext%22%3E%3Ctext%20data-notex%3D%221%22%20class%3D%22slicetext%22%20text-anchor%3D%22start%22%20data-unformatted%3D%22Arizona%22%20data-math%3D%22N%22%20x%3D%220%22%20y%3D%220%22%20style%3D%22font-family%3A%20%26quot%3BOpen%20Sans%26quot%3B%2C%20verdana%2C%20arial%2C%20sans-serif%3B%20font-size%3A%2012px%3B%20fill%3A%20rgb(68%2C%2068%2C%2068)%3B%20fill-opacity%3A%201%3B%20white-space%3A%20pre%3B%22%20transform%3D%22translate(236.60553113369633%2C308.5677810652216)%22%3EArizona%3C%2Ftext%3E%3C%2Fg%3E%3C%2Fg%3E%3Cg%20class%3D%22slice%20cursor-pointer%22%3E%3Cpath%20class%3D%22surface%22%20d%3D%22M232.60553113369633%2C372.4397269410287L358.2624361880646%2C372.4397269410287L358.2624361880646%2C442.8582594494427L232.60553113369633%2C442.8582594494427Z%22%20style%3D%22pointer-events%3A%20all%3B%20stroke-width%3A%201%3B%20fill%3A%20rgb(242%2C%20142%2C%2044)%3B%20fill-opacity%3A%201%3B%20stroke%3A%20rgb(255%2C%20255%2C%20255)%3B%20stroke-opacity%3A%201%3B%20opacity%3A%201%3B%22%2F%3E%3Cg%20class%3D%22slicetext%22%3E%3Ctext%20data-notex%3D%221%22%20class%3D%22slicetext%22%20text-anchor%3D%22start%22%20data-unformatted%3D%22Washington%22%20data-math%3D%22N%22%20x%3D%220%22%20y%3D%220%22%20style%3D%22font-family%3A%20%26quot%3BOpen%20Sans%26quot%3B%2C%20verdana%2C%20arial%2C%20sans-serif%3B%20font-size%3A%2012px%3B%20fill%3A%20rgb(68%2C%2068%2C%2068)%3B%20fill-opacity%3A%201%3B%20white-space%3A%20pre%3B%22%20transform%3D%22translate(235.60553113369633%2C387.4397269410287)%22%3EWashington%3C%2Ftext%3E%3C%2Fg%3E%3C%2Fg%3E%3Cg%20class%3D%22slice%20cursor-pointer%22%3E%3Cpath%20class%3D%22surface%22%20d%3D%22M361.2624361880646%2C293.5677810652216L419.42857142857144%2C293.5677810652216L419.42857142857144%2C442.8582594494427L361.2624361880646%2C442.8582594494427Z%22%20style%3D%22pointer-events%3A%20all%3B%20stroke-width%3A%201%3B%20fill%3A%20rgb(242%2C%20142%2C%2044)%3B%20fill-opacity%3A%201%3B%20stroke%3A%20rgb(255%2C%20255%2C%20255)%3B%20stroke-opacity%3A%201%3B%20opacity%3A%201%3B%22%2F%3E%3Cg%20class%3D%22slicetext%22%3E%3Ctext%20data-notex%3D%221%22%20class%3D%22slicetext%22%20text-anchor%3D%22start%22%20data-unformatted%3D%22Nevada%22%20data-math%3D%22N%22%20x%3D%220%22%20y%3D%220%22%20style%3D%22font-family%3A%20%26quot%3BOpen%20Sans%26quot%3B%2C%20verdana%2C%20arial%2C%20sans-serif%3B%20font-size%3A%2012px%3B%20fill%3A%20rgb(68%2C%2068%2C%2068)%3B%20fill-opacity%3A%201%3B%20white-space%3A%20pre%3B%22%20transform%3D%22translate(364.2624361880646%2C308.5677810652216)%22%3ENevada%3C%2Ftext%3E%3C%2Fg%3E%3C%2Fg%3E%3Cg%20class%3D%22slice%20cursor-pointer%22%3E%3Cpath%20class%3D%22surface%22%20d%3D%22M92%2C475.8582594494427L230.54419684931568%2C475.8582594494427L230.54419684931568%2C545.0554014657764L92%2C545.0554014657764Z%22%20style%3D%22pointer-events%3A%20all%3B%20stroke-width%3A%201%3B%20fill%3A%20rgb(225%2C%2087%2C%2089)%3B%20fill-opacity%3A%201%3B%20stroke%3A%20rgb(255%2C%20255%2C%20255)%3B%20stroke-opacity%3A%201%3B%20opacity%3A%201%3B%22%2F%3E%3Cg%20class%3D%22slicetext%22%3E%3Ctext%20data-notex%3D%221%22%20class%3D%22slicetext%22%20text-anchor%3D%22start%22%20data-unformatted%3D%22California%22%20data-math%3D%22N%22%20x%3D%220%22%20y%3D%220%22%20style%3D%22font-family%3A%20%26quot%3BOpen%20Sans%26quot%3B%2C%20verdana%2C%20arial%2C%20sans-serif%3B%20font-size%3A%2012px%3B%20fill%3A%20rgb(68%2C%2068%2C%2068)%3B%20fill-opacity%3A%201%3B%20white-space%3A%20pre%3B%22%20transform%3D%22translate(95%2C490.8582594494427)%22%3ECalifornia%3C%2Ftext%3E%3C%2Fg%3E%3C%2Fg%3E%3Cg%20class%3D%22slice%20cursor-pointer%22%3E%3Cpath%20class%3D%22surface%22%20d%3D%22M92%2C548.0554014657764L230.54419684931568%2C548.0554014657764L230.54419684931568%2C616L92%2C616Z%22%20style%3D%22pointer-events%3A%20all%3B%20stroke-width%3A%201%3B%20fill%3A%20rgb(225%2C%2087%2C%2089)%3B%20fill-opacity%3A%201%3B%20stroke%3A%20rgb(255%2C%20255%2C%20255)%3B%20stroke-opacity%3A%201%3B%20opacity%3A%201%3B%22%2F%3E%3Cg%20class%3D%22slicetext%22%3E%3Ctext%20data-notex%3D%221%22%20class%3D%22slicetext%22%20text-anchor%3D%22start%22%20data-unformatted%3D%22Arizona%22%20data-math%3D%22N%22%20x%3D%220%22%20y%3D%220%22%20style%3D%22font-family%3A%20%26quot%3BOpen%20Sans%26quot%3B%2C%20verdana%2C%20arial%2C%20sans-serif%3B%20font-size%3A%2012px%3B%20fill%3A%20rgb(68%2C%2068%2C%2068)%3B%20fill-opacity%3A%201%3B%20white-space%3A%20pre%3B%22%20transform%3D%22translate(96%2C563.0554014657764)%22%3EArizona%3C%2Ftext%3E%3C%2Fg%3E%3C%2Fg%3E%3Cg%20class%3D%22slice%20cursor-pointer%22%3E%3Cpath%20class%3D%22surface%22%20d%3D%22M233.54419684931568%2C475.8582594494427L363.92164500799095%2C475.8582594494427L363.92164500799095%2C546.8874151766526L233.54419684931568%2C546.8874151766526Z%22%20style%3D%22pointer-events%3A%20all%3B%20stroke-width%3A%201%3B%20fill%3A%20rgb(225%2C%2087%2C%2089)%3B%20fill-opacity%3A%201%3B%20stroke%3A%20rgb(255%2C%20255%2C%20255)%3B%20stroke-opacity%3A%201%3B%20opacity%3A%201%3B%22%2F%3E%3Cg%20class%3D%22slicetext%22%3E%3Ctext%20data-notex%3D%221%22%20class%3D%22slicetext%22%20text-anchor%3D%22start%22%20data-unformatted%3D%22Oregon%22%20data-math%3D%22N%22%20x%3D%220%22%20y%3D%220%22%20style%3D%22font-family%3A%20%26quot%3BOpen%20Sans%26quot%3B%2C%20verdana%2C%20arial%2C%20sans-serif%3B%20font-size%3A%2012px%3B%20fill%3A%20rgb(68%2C%2068%2C%2068)%3B%20fill-opacity%3A%201%3B%20white-space%3A%20pre%3B%22%20transform%3D%22translate(236.54419684931568%2C490.8582594494427)%22%3EOregon%3C%2Ftext%3E%3C%2Fg%3E%3C%2Fg%3E%3Cg%20class%3D%22slice%20cursor-pointer%22%3E%3Cpath%20class%3D%22surface%22%20d%3D%22M233.54419684931568%2C549.8874151766526L363.92164500799095%2C549.8874151766526L363.92164500799095%2C616L233.54419684931568%2C616Z%22%20style%3D%22pointer-events%3A%20all%3B%20stroke-width%3A%201%3B%20fill%3A%20rgb(225%2C%2087%2C%2089)%3B%20fill-opacity%3A%201%3B%20stroke%3A%20rgb(255%2C%20255%2C%20255)%3B%20stroke-opacity%3A%201%3B%20opacity%3A%201%3B%22%2F%3E%3Cg%20class%3D%22slicetext%22%3E%3Ctext%20data-notex%3D%221%22%20class%3D%22slicetext%22%20text-anchor%3D%22start%22%20data-unformatted%3D%22Nevada%22%20data-math%3D%22N%22%20x%3D%220%22%20y%3D%220%22%20style%3D%22font-family%3A%20%26quot%3BOpen%20Sans%26quot%3B%2C%20verdana%2C%20arial%2C%20sans-serif%3B%20font-size%3A%2012px%3B%20fill%3A%20rgb(68%2C%2068%2C%2068)%3B%20fill-opacity%3A%201%3B%20white-space%3A%20pre%3B%22%20transform%3D%22translate(236.54419684931568%2C564.8874151766526)%22%3ENevada%3C%2Ftext%3E%3C%2Fg%3E%3C%2Fg%3E%3Cg%20class%3D%22slice%20cursor-pointer%22%3E%3Cpath%20class%3D%22surface%22%20d%3D%22M366.92164500799095%2C475.8582594494427L419.4285714285715%2C475.8582594494427L419.4285714285715%2C616.0000000000001L366.92164500799095%2C616.0000000000001Z%22%20style%3D%22pointer-events%3A%20all%3B%20stroke-width%3A%201%3B%20fill%3A%20rgb(225%2C%2087%2C%2089)%3B%20fill-opacity%3A%201%3B%20stroke%3A%20rgb(255%2C%20255%2C%20255)%3B%20stroke-opacity%3A%201%3B%20opacity%3A%201%3B%22%2F%3E%3Cg%20class%3D%22slicetext%22%3E%3Ctext%20data-notex%3D%221%22%20class%3D%22slicetext%22%20text-anchor%3D%22start%22%20data-unformatted%3D%22Washington%22%20data-math%3D%22N%22%20x%3D%220%22%20y%3D%220%22%20style%3D%22font-family%3A%20%26quot%3BOpen%20Sans%26quot%3B%2C%20verdana%2C%20arial%2C%20sans-serif%3B%20font-size%3A%2012px%3B%20fill%3A%20rgb(68%2C%2068%2C%2068)%3B%20fill-opacity%3A%201%3B%20white-space%3A%20pre%3B%22%20transform%3D%22translate(369.92164500799095%2C486.7954415585551)scale(0.6614318424260346)%22%3EWashington%3C%2Ftext%3E%3C%2Fg%3E%3C%2Fg%3E%3C%2Fg%3E%3Cg%20class%3D%22trace%20treemap%22%20style%3D%22opacity%3A%201%3B%22%3E%3Cg%20class%3D%22slice%20cursor-pointer%22%3E%3Cpath%20class%3D%22surface%22%20d%3D%22M519.2857142857142%2C30L870.7142857142858%2C30L870.7142857142858%2C628L519.2857142857142%2C628Z%22%20style%3D%22pointer-events%3A%20all%3B%20stroke-width%3A%200%3B%20fill%3A%20rgb(0%2C%200%2C%200)%3B%20fill-opacity%3A%200%3B%20stroke%3A%20rgb(0%2C%200%2C%200)%3B%20stroke-opacity%3A%200%3B%20opacity%3A%20100%3B%22%2F%3E%3Cg%20class%3D%22slicetext%22%3E%3Ctext%20data-notex%3D%221%22%20class%3D%22slicetext%22%20text-anchor%3D%22start%22%20data-unformatted%3D%22Suburban%22%20data-math%3D%22N%22%20x%3D%220%22%20y%3D%220%22%20style%3D%22font-family%3A%20%26quot%3BOpen%20Sans%26quot%3B%2C%20verdana%2C%20arial%2C%20sans-serif%3B%20font-size%3A%2012px%3B%20fill%3A%20rgb(89%2C%2089%2C%2089)%3B%20fill-opacity%3A%201%3B%20white-space%3A%20pre%3B%22%20transform%3D%22translate(525.2857142857142%2C45)%22%3ESuburban%3C%2Ftext%3E%3C%2Fg%3E%3C%2Fg%3E%3Cg%20class%3D%22slice%20cursor-pointer%22%3E%3Cpath%20class%3D%22surface%22%20d%3D%22M525.2857142857142%2C54L864.7142857142858%2C54L864.7142857142858%2C265.38800475817345L525.2857142857142%2C265.38800475817345Z%22%20style%3D%22pointer-events%3A%20all%3B%20stroke-width%3A%201%3B%20fill%3A%20rgb(111%2C%20146%2C%20184)%3B%20fill-opacity%3A%201%3B%20stroke%3A%20rgb(255%2C%20255%2C%20255)%3B%20stroke-opacity%3A%201%3B%20opacity%3A%201%3B%22%2F%3E%3Cg%20class%3D%22slicetext%22%3E%3Ctext%20data-notex%3D%221%22%20class%3D%22slicetext%22%20text-anchor%3D%22start%22%20data-unformatted%3D%22Pareto%20price%20change%22%20data-math%3D%22N%22%20x%3D%220%22%20y%3D%220%22%20style%3D%22font-family%3A%20%26quot%3BOpen%20Sans%26quot%3B%2C%20verdana%2C%20arial%2C%20sans-serif%3B%20font-size%3A%2012px%3B%20fill%3A%20rgb(255%2C%20255%2C%20255)%3B%20fill-opacity%3A%201%3B%20white-space%3A%20pre%3B%22%20transform%3D%22translate(531.2857142857142%2C69)%22%3EPareto%20price%20change%3C%2Ftext%3E%3C%2Fg%3E%3C%2Fg%3E%3Cg%20class%3D%22slice%20cursor-pointer%22%3E%3Cpath%20class%3D%22surface%22%20d%3D%22M525.2857142857142%2C268.38800475817345L864.7142857142858%2C268.38800475817345L864.7142857142858%2C447.9548427502699L525.2857142857142%2C447.9548427502699Z%22%20style%3D%22pointer-events%3A%20all%3B%20stroke-width%3A%201%3B%20fill%3A%20rgb(245%2C%20163%2C%2084)%3B%20fill-opacity%3A%201%3B%20stroke%3A%20rgb(255%2C%20255%2C%20255)%3B%20stroke-opacity%3A%201%3B%20opacity%3A%201%3B%22%2F%3E%3Cg%20class%3D%22slicetext%22%3E%3Ctext%20data-notex%3D%221%22%20class%3D%22slicetext%22%20text-anchor%3D%22start%22%20data-unformatted%3D%22Base%22%20data-math%3D%22N%22%20x%3D%220%22%20y%3D%220%22%20style%3D%22font-family%3A%20%26quot%3BOpen%20Sans%26quot%3B%2C%20verdana%2C%20arial%2C%20sans-serif%3B%20font-size%3A%2012px%3B%20fill%3A%20rgb(68%2C%2068%2C%2068)%3B%20fill-opacity%3A%201%3B%20white-space%3A%20pre%3B%22%20transform%3D%22translate(531.2857142857142%2C283.38800475817345)%22%3EBase%3C%2Ftext%3E%3C%2Fg%3E%3C%2Fg%3E%3Cg%20class%3D%22slice%20cursor-pointer%22%3E%3Cpath%20class%3D%22surface%22%20d%3D%22M525.2857142857142%2C450.9548427502699L864.7142857142856%2C450.9548427502699L864.7142857142856%2C622L525.2857142857142%2C622Z%22%20style%3D%22pointer-events%3A%20all%3B%20stroke-width%3A%201%3B%20fill%3A%20rgb(231%2C%20119%2C%20120)%3B%20fill-opacity%3A%201%3B%20stroke%3A%20rgb(255%2C%20255%2C%20255)%3B%20stroke-opacity%3A%201%3B%20opacity%3A%201%3B%22%2F%3E%3Cg%20class%3D%22slicetext%22%3E%3Ctext%20data-notex%3D%221%22%20class%3D%22slicetext%22%20text-anchor%3D%22start%22%20data-unformatted%3D%22Geographical%20Improvements%22%20data-math%3D%22N%22%20x%3D%220%22%20y%3D%220%22%20style%3D%22font-family%3A%20%26quot%3BOpen%20Sans%26quot%3B%2C%20verdana%2C%20arial%2C%20sans-serif%3B%20font-size%3A%2012px%3B%20fill%3A%20rgb(68%2C%2068%2C%2068)%3B%20fill-opacity%3A%201%3B%20white-space%3A%20pre%3B%22%20transform%3D%22translate(531.2857142857142%2C465.9548427502699)%22%3EGeographical%20Improvements%3C%2Ftext%3E%3C%2Fg%3E%3C%2Fg%3E%3Cg%20class%3D%22slice%20cursor-pointer%22%3E%3Cpath%20class%3D%22surface%22%20d%3D%22M531.2857142857142%2C78L669.4957166236061%2C78L669.4957166236061%2C168.44311883653756L531.2857142857142%2C168.44311883653756Z%22%20style%3D%22pointer-events%3A%20all%3B%20stroke-width%3A%201%3B%20fill%3A%20rgb(78%2C%20121%2C%20167)%3B%20fill-opacity%3A%201%3B%20stroke%3A%20rgb(255%2C%20255%2C%20255)%3B%20stroke-opacity%3A%201%3B%20opacity%3A%201%3B%22%2F%3E%3Cg%20class%3D%22slicetext%22%3E%3Ctext%20data-notex%3D%221%22%20class%3D%22slicetext%22%20text-anchor%3D%22start%22%20data-unformatted%3D%22Nevada%22%20data-math%3D%22N%22%20x%3D%220%22%20y%3D%220%22%20style%3D%22font-family%3A%20%26quot%3BOpen%20Sans%26quot%3B%2C%20verdana%2C%20arial%2C%20sans-serif%3B%20font-size%3A%2012px%3B%20fill%3A%20rgb(255%2C%20255%2C%20255)%3B%20fill-opacity%3A%201%3B%20white-space%3A%20pre%3B%22%20transform%3D%22translate(534.2857142857142%2C93)%22%3ENevada%3C%2Ftext%3E%3C%2Fg%3E%3C%2Fg%3E%3Cg%20class%3D%22slice%20cursor-pointer%22%3E%3Cpath%20class%3D%22surface%22%20d%3D%22M531.2857142857142%2C171.44311883653756L669.4957166236061%2C171.44311883653756L669.4957166236061%2C259.38800475817345L531.2857142857142%2C259.38800475817345Z%22%20style%3D%22pointer-events%3A%20all%3B%20stroke-width%3A%201%3B%20fill%3A%20rgb(78%2C%20121%2C%20167)%3B%20fill-opacity%3A%201%3B%20stroke%3A%20rgb(255%2C%20255%2C%20255)%3B%20stroke-opacity%3A%201%3B%20opacity%3A%201%3B%22%2F%3E%3Cg%20class%3D%22slicetext%22%3E%3Ctext%20data-notex%3D%221%22%20class%3D%22slicetext%22%20text-anchor%3D%22start%22%20data-unformatted%3D%22Arizona%22%20data-math%3D%22N%22%20x%3D%220%22%20y%3D%220%22%20style%3D%22font-family%3A%20%26quot%3BOpen%20Sans%26quot%3B%2C%20verdana%2C%20arial%2C%20sans-serif%3B%20font-size%3A%2012px%3B%20fill%3A%20rgb(255%2C%20255%2C%20255)%3B%20fill-opacity%3A%201%3B%20white-space%3A%20pre%3B%22%20transform%3D%22translate(535.2857142857142%2C186.44311883653756)%22%3EArizona%3C%2Ftext%3E%3C%2Fg%3E%3C%2Fg%3E%3Cg%20class%3D%22slice%20cursor-pointer%22%3E%3Cpath%20class%3D%22surface%22%20d%3D%22M672.4957166236061%2C78L797.2473215553641%2C78L797.2473215553641%2C169.75884277634037L672.4957166236061%2C169.75884277634037Z%22%20style%3D%22pointer-events%3A%20all%3B%20stroke-width%3A%201%3B%20fill%3A%20rgb(78%2C%20121%2C%20167)%3B%20fill-opacity%3A%201%3B%20stroke%3A%20rgb(255%2C%20255%2C%20255)%3B%20stroke-opacity%3A%201%3B%20opacity%3A%201%3B%22%2F%3E%3Cg%20class%3D%22slicetext%22%3E%3Ctext%20data-notex%3D%221%22%20class%3D%22slicetext%22%20text-anchor%3D%22start%22%20data-unformatted%3D%22California%22%20data-math%3D%22N%22%20x%3D%220%22%20y%3D%220%22%20style%3D%22font-family%3A%20%26quot%3BOpen%20Sans%26quot%3B%2C%20verdana%2C%20arial%2C%20sans-serif%3B%20font-size%3A%2012px%3B%20fill%3A%20rgb(255%2C%20255%2C%20255)%3B%20fill-opacity%3A%201%3B%20white-space%3A%20pre%3B%22%20transform%3D%22translate(675.4957166236061%2C93)%22%3ECalifornia%3C%2Ftext%3E%3C%2Fg%3E%3C%2Fg%3E%3Cg%20class%3D%22slice%20cursor-pointer%22%3E%3Cpath%20class%3D%22surface%22%20d%3D%22M672.4957166236061%2C172.75884277634037L797.2473215553641%2C172.75884277634037L797.2473215553641%2C259.3880047581735L672.4957166236061%2C259.3880047581735Z%22%20style%3D%22pointer-events%3A%20all%3B%20stroke-width%3A%201%3B%20fill%3A%20rgb(78%2C%20121%2C%20167)%3B%20fill-opacity%3A%201%3B%20stroke%3A%20rgb(255%2C%20255%2C%20255)%3B%20stroke-opacity%3A%201%3B%20opacity%3A%201%3B%22%2F%3E%3Cg%20class%3D%22slicetext%22%3E%3Ctext%20data-notex%3D%221%22%20class%3D%22slicetext%22%20text-anchor%3D%22start%22%20data-unformatted%3D%22Oregon%22%20data-math%3D%22N%22%20x%3D%220%22%20y%3D%220%22%20style%3D%22font-family%3A%20%26quot%3BOpen%20Sans%26quot%3B%2C%20verdana%2C%20arial%2C%20sans-serif%3B%20font-size%3A%2012px%3B%20fill%3A%20rgb(255%2C%20255%2C%20255)%3B%20fill-opacity%3A%201%3B%20white-space%3A%20pre%3B%22%20transform%3D%22translate(675.4957166236061%2C187.75884277634037)%22%3EOregon%3C%2Ftext%3E%3C%2Fg%3E%3C%2Fg%3E%3Cg%20class%3D%22slice%20cursor-pointer%22%3E%3Cpath%20class%3D%22surface%22%20d%3D%22M800.2473215553641%2C78L858.7142857142858%2C78L858.7142857142858%2C259.38800475817345L800.2473215553641%2C259.38800475817345Z%22%20style%3D%22pointer-events%3A%20all%3B%20stroke-width%3A%201%3B%20fill%3A%20rgb(78%2C%20121%2C%20167)%3B%20fill-opacity%3A%201%3B%20stroke%3A%20rgb(255%2C%20255%2C%20255)%3B%20stroke-opacity%3A%201%3B%20opacity%3A%201%3B%22%2F%3E%3Cg%20class%3D%22slicetext%22%3E%3Ctext%20data-notex%3D%221%22%20class%3D%22slicetext%22%20text-anchor%3D%22start%22%20data-unformatted%3D%22Washington%22%20data-math%3D%22N%22%20x%3D%220%22%20y%3D%220%22%20style%3D%22font-family%3A%20%26quot%3BOpen%20Sans%26quot%3B%2C%20verdana%2C%20arial%2C%20sans-serif%3B%20font-size%3A%2012px%3B%20fill%3A%20rgb(255%2C%20255%2C%20255)%3B%20fill-opacity%3A%201%3B%20white-space%3A%20pre%3B%22%20transform%3D%22translate(803.2473215553641%2C89.95436188312262)scale(0.7461968235935517)%22%3EWashington%3C%2Ftext%3E%3C%2Fg%3E%3C%2Fg%3E%3Cg%20class%3D%22slice%20cursor-pointer%22%3E%3Cpath%20class%3D%22surface%22%20d%3D%22M531.2857142857142%2C292.38800475817345L669.0041299726462%2C292.38800475817345L669.0041299726462%2C366.4412142373593L531.2857142857142%2C366.4412142373593Z%22%20style%3D%22pointer-events%3A%20all%3B%20stroke-width%3A%201%3B%20fill%3A%20rgb(242%2C%20142%2C%2044)%3B%20fill-opacity%3A%201%3B%20stroke%3A%20rgb(255%2C%20255%2C%20255)%3B%20stroke-opacity%3A%201%3B%20opacity%3A%201%3B%22%2F%3E%3Cg%20class%3D%22slicetext%22%3E%3Ctext%20data-notex%3D%221%22%20class%3D%22slicetext%22%20text-anchor%3D%22start%22%20data-unformatted%3D%22Nevada%22%20data-math%3D%22N%22%20x%3D%220%22%20y%3D%220%22%20style%3D%22font-family%3A%20%26quot%3BOpen%20Sans%26quot%3B%2C%20verdana%2C%20arial%2C%20sans-serif%3B%20font-size%3A%2012px%3B%20fill%3A%20rgb(68%2C%2068%2C%2068)%3B%20fill-opacity%3A%201%3B%20white-space%3A%20pre%3B%22%20transform%3D%22translate(534.2857142857142%2C307.38800475817345)%22%3ENevada%3C%2Ftext%3E%3C%2Fg%3E%3C%2Fg%3E%3Cg%20class%3D%22slice%20cursor-pointer%22%3E%3Cpath%20class%3D%22surface%22%20d%3D%22M531.2857142857142%2C369.4412142373593L669.0041299726462%2C369.4412142373593L669.0041299726462%2C441.9548427502699L531.2857142857142%2C441.9548427502699Z%22%20style%3D%22pointer-events%3A%20all%3B%20stroke-width%3A%201%3B%20fill%3A%20rgb(242%2C%20142%2C%2044)%3B%20fill-opacity%3A%201%3B%20stroke%3A%20rgb(255%2C%20255%2C%20255)%3B%20stroke-opacity%3A%201%3B%20opacity%3A%201%3B%22%2F%3E%3Cg%20class%3D%22slicetext%22%3E%3Ctext%20data-notex%3D%221%22%20class%3D%22slicetext%22%20text-anchor%3D%22start%22%20data-unformatted%3D%22Arizona%22%20data-math%3D%22N%22%20x%3D%220%22%20y%3D%220%22%20style%3D%22font-family%3A%20%26quot%3BOpen%20Sans%26quot%3B%2C%20verdana%2C%20arial%2C%20sans-serif%3B%20font-size%3A%2012px%3B%20fill%3A%20rgb(68%2C%2068%2C%2068)%3B%20fill-opacity%3A%201%3B%20white-space%3A%20pre%3B%22%20transform%3D%22translate(535.2857142857142%2C384.4412142373593)%22%3EArizona%3C%2Ftext%3E%3C%2Fg%3E%3C%2Fg%3E%3Cg%20class%3D%22slice%20cursor-pointer%22%3E%3Cpath%20class%3D%22surface%22%20d%3D%22M672.0041299726462%2C292.38800475817345L797.4203817137762%2C292.38800475817345L797.4203817137762%2C367.94619342951995L672.0041299726462%2C367.94619342951995Z%22%20style%3D%22pointer-events%3A%20all%3B%20stroke-width%3A%201%3B%20fill%3A%20rgb(242%2C%20142%2C%2044)%3B%20fill-opacity%3A%201%3B%20stroke%3A%20rgb(255%2C%20255%2C%20255)%3B%20stroke-opacity%3A%201%3B%20opacity%3A%201%3B%22%2F%3E%3Cg%20class%3D%22slicetext%22%3E%3Ctext%20data-notex%3D%221%22%20class%3D%22slicetext%22%20text-anchor%3D%22start%22%20data-unformatted%3D%22California%22%20data-math%3D%22N%22%20x%3D%220%22%20y%3D%220%22%20style%3D%22font-family%3A%20%26quot%3BOpen%20Sans%26quot%3B%2C%20verdana%2C%20arial%2C%20sans-serif%3B%20font-size%3A%2012px%3B%20fill%3A%20rgb(68%2C%2068%2C%2068)%3B%20fill-opacity%3A%201%3B%20white-space%3A%20pre%3B%22%20transform%3D%22translate(675.0041299726462%2C307.38800475817345)%22%3ECalifornia%3C%2Ftext%3E%3C%2Fg%3E%3C%2Fg%3E%3Cg%20class%3D%22slice%20cursor-pointer%22%3E%3Cpath%20class%3D%22surface%22%20d%3D%22M672.0041299726462%2C370.94619342951995L797.4203817137762%2C370.94619342951995L797.4203817137762%2C441.9548427502699L672.0041299726462%2C441.9548427502699Z%22%20style%3D%22pointer-events%3A%20all%3B%20stroke-width%3A%201%3B%20fill%3A%20rgb(242%2C%20142%2C%2044)%3B%20fill-opacity%3A%201%3B%20stroke%3A%20rgb(255%2C%20255%2C%20255)%3B%20stroke-opacity%3A%201%3B%20opacity%3A%201%3B%22%2F%3E%3Cg%20class%3D%22slicetext%22%3E%3Ctext%20data-notex%3D%221%22%20class%3D%22slicetext%22%20text-anchor%3D%22start%22%20data-unformatted%3D%22Oregon%22%20data-math%3D%22N%22%20x%3D%220%22%20y%3D%220%22%20style%3D%22font-family%3A%20%26quot%3BOpen%20Sans%26quot%3B%2C%20verdana%2C%20arial%2C%20sans-serif%3B%20font-size%3A%2012px%3B%20fill%3A%20rgb(68%2C%2068%2C%2068)%3B%20fill-opacity%3A%201%3B%20white-space%3A%20pre%3B%22%20transform%3D%22translate(675.0041299726462%2C385.94619342951995)%22%3EOregon%3C%2Ftext%3E%3C%2Fg%3E%3C%2Fg%3E%3Cg%20class%3D%22slice%20cursor-pointer%22%3E%3Cpath%20class%3D%22surface%22%20d%3D%22M800.4203817137762%2C292.38800475817345L858.7142857142858%2C292.38800475817345L858.7142857142858%2C441.95484275026996L800.4203817137762%2C441.95484275026996Z%22%20style%3D%22pointer-events%3A%20all%3B%20stroke-width%3A%201%3B%20fill%3A%20rgb(242%2C%20142%2C%2044)%3B%20fill-opacity%3A%201%3B%20stroke%3A%20rgb(255%2C%20255%2C%20255)%3B%20stroke-opacity%3A%201%3B%20opacity%3A%201%3B%22%2F%3E%3Cg%20class%3D%22slicetext%22%3E%3Ctext%20data-notex%3D%221%22%20class%3D%22slicetext%22%20text-anchor%3D%22start%22%20data-unformatted%3D%22Washington%22%20data-math%3D%22N%22%20x%3D%220%22%20y%3D%220%22%20style%3D%22font-family%3A%20%26quot%3BOpen%20Sans%26quot%3B%2C%20verdana%2C%20arial%2C%20sans-serif%3B%20font-size%3A%2012px%3B%20fill%3A%20rgb(68%2C%2068%2C%2068)%3B%20fill-opacity%3A%201%3B%20white-space%3A%20pre%3B%22%20transform%3D%22translate(803.4203817137762%2C304.31283104092705)scale(0.7437355235628016)%22%3EWashington%3C%2Ftext%3E%3C%2Fg%3E%3C%2Fg%3E%3Cg%20class%3D%22slice%20cursor-pointer%22%3E%3Cpath%20class%3D%22surface%22%20d%3D%22M531.2857142857142%2C474.9548427502699L602.8346546073113%2C474.9548427502699L602.8346546073113%2C616L531.2857142857142%2C616Z%22%20style%3D%22pointer-events%3A%20all%3B%20stroke-width%3A%201%3B%20fill%3A%20rgb(225%2C%2087%2C%2089)%3B%20fill-opacity%3A%201%3B%20stroke%3A%20rgb(255%2C%20255%2C%20255)%3B%20stroke-opacity%3A%201%3B%20opacity%3A%201%3B%22%2F%3E%3Cg%20class%3D%22slicetext%22%3E%3Ctext%20data-notex%3D%221%22%20class%3D%22slicetext%22%20text-anchor%3D%22start%22%20data-unformatted%3D%22Nevada%22%20data-math%3D%22N%22%20x%3D%220%22%20y%3D%220%22%20style%3D%22font-family%3A%20%26quot%3BOpen%20Sans%26quot%3B%2C%20verdana%2C%20arial%2C%20sans-serif%3B%20font-size%3A%2012px%3B%20fill%3A%20rgb(68%2C%2068%2C%2068)%3B%20fill-opacity%3A%201%3B%20white-space%3A%20pre%3B%22%20transform%3D%22translate(534.2857142857142%2C489.9548427502699)%22%3ENevada%3C%2Ftext%3E%3C%2Fg%3E%3C%2Fg%3E%3Cg%20class%3D%22slice%20cursor-pointer%22%3E%3Cpath%20class%3D%22surface%22%20d%3D%22M605.8346546073113%2C474.9548427502699L675.8940511402602%2C474.9548427502699L675.8940511402602%2C616L605.8346546073113%2C616Z%22%20style%3D%22pointer-events%3A%20all%3B%20stroke-width%3A%201%3B%20fill%3A%20rgb(225%2C%2087%2C%2089)%3B%20fill-opacity%3A%201%3B%20stroke%3A%20rgb(255%2C%20255%2C%20255)%3B%20stroke-opacity%3A%201%3B%20opacity%3A%201%3B%22%2F%3E%3Cg%20class%3D%22slicetext%22%3E%3Ctext%20data-notex%3D%221%22%20class%3D%22slicetext%22%20text-anchor%3D%22start%22%20data-unformatted%3D%22Arizona%22%20data-math%3D%22N%22%20x%3D%220%22%20y%3D%220%22%20style%3D%22font-family%3A%20%26quot%3BOpen%20Sans%26quot%3B%2C%20verdana%2C%20arial%2C%20sans-serif%3B%20font-size%3A%2012px%3B%20fill%3A%20rgb(68%2C%2068%2C%2068)%3B%20fill-opacity%3A%201%3B%20white-space%3A%20pre%3B%22%20transform%3D%22translate(609.8346546073113%2C489.9548427502699)%22%3EArizona%3C%2Ftext%3E%3C%2Fg%3E%3C%2Fg%3E%3Cg%20class%3D%22slice%20cursor-pointer%22%3E%3Cpath%20class%3D%22surface%22%20d%3D%22M678.8940511402602%2C474.9548427502699L804.0635315328202%2C474.9548427502699L804.0635315328202%2C549.9064894198328L678.8940511402602%2C549.9064894198328Z%22%20style%3D%22pointer-events%3A%20all%3B%20stroke-width%3A%201%3B%20fill%3A%20rgb(225%2C%2087%2C%2089)%3B%20fill-opacity%3A%201%3B%20stroke%3A%20rgb(255%2C%20255%2C%20255)%3B%20stroke-opacity%3A%201%3B%20opacity%3A%201%3B%22%2F%3E%3Cg%20class%3D%22slicetext%22%3E%3Ctext%20data-notex%3D%221%22%20class%3D%22slicetext%22%20text-anchor%3D%22start%22%20data-unformatted%3D%22California%22%20data-math%3D%22N%22%20x%3D%220%22%20y%3D%220%22%20style%3D%22font-family%3A%20%26quot%3BOpen%20Sans%26quot%3B%2C%20verdana%2C%20arial%2C%20sans-serif%3B%20font-size%3A%2012px%3B%20fill%3A%20rgb(68%2C%2068%2C%2068)%3B%20fill-opacity%3A%201%3B%20white-space%3A%20pre%3B%22%20transform%3D%22translate(681.8940511402602%2C489.9548427502699)%22%3ECalifornia%3C%2Ftext%3E%3C%2Fg%3E%3C%2Fg%3E%3Cg%20class%3D%22slice%20cursor-pointer%22%3E%3Cpath%20class%3D%22surface%22%20d%3D%22M678.8940511402602%2C552.9064894198328L804.0635315328202%2C552.9064894198328L804.0635315328202%2C616.0000000000001L678.8940511402602%2C616.0000000000001Z%22%20style%3D%22pointer-events%3A%20all%3B%20stroke-width%3A%201%3B%20fill%3A%20rgb(225%2C%2087%2C%2089)%3B%20fill-opacity%3A%201%3B%20stroke%3A%20rgb(255%2C%20255%2C%20255)%3B%20stroke-opacity%3A%201%3B%20opacity%3A%201%3B%22%2F%3E%3Cg%20class%3D%22slicetext%22%3E%3Ctext%20data-notex%3D%221%22%20class%3D%22slicetext%22%20text-anchor%3D%22start%22%20data-unformatted%3D%22Oregon%22%20data-math%3D%22N%22%20x%3D%220%22%20y%3D%220%22%20style%3D%22font-family%3A%20%26quot%3BOpen%20Sans%26quot%3B%2C%20verdana%2C%20arial%2C%20sans-serif%3B%20font-size%3A%2012px%3B%20fill%3A%20rgb(68%2C%2068%2C%2068)%3B%20fill-opacity%3A%201%3B%20white-space%3A%20pre%3B%22%20transform%3D%22translate(681.8940511402602%2C567.9064894198328)%22%3EOregon%3C%2Ftext%3E%3C%2Fg%3E%3C%2Fg%3E%3Cg%20class%3D%22slice%20cursor-pointer%22%3E%3Cpath%20class%3D%22surface%22%20d%3D%22M807.0635315328202%2C474.9548427502699L858.7142857142856%2C474.9548427502699L858.7142857142856%2C616.0000000000001L807.0635315328202%2C616.0000000000001Z%22%20style%3D%22pointer-events%3A%20all%3B%20stroke-width%3A%201%3B%20fill%3A%20rgb(225%2C%2087%2C%2089)%3B%20fill-opacity%3A%201%3B%20stroke%3A%20rgb(255%2C%20255%2C%20255)%3B%20stroke-opacity%3A%201%3B%20opacity%3A%201%3B%22%2F%3E%3Cg%20class%3D%22slicetext%22%3E%3Ctext%20data-notex%3D%221%22%20class%3D%22slicetext%22%20text-anchor%3D%22start%22%20data-unformatted%3D%22Washington%22%20data-math%3D%22N%22%20x%3D%220%22%20y%3D%220%22%20style%3D%22font-family%3A%20%26quot%3BOpen%20Sans%26quot%3B%2C%20verdana%2C%20arial%2C%20sans-serif%3B%20font-size%3A%2012px%3B%20fill%3A%20rgb(68%2C%2068%2C%2068)%3B%20fill-opacity%3A%201%3B%20white-space%3A%20pre%3B%22%20transform%3D%22translate(810.0635315328202%2C485.74590479724003)scale(0.649255170580842)%22%3EWashington%3C%2Ftext%3E%3C%2Fg%3E%3C%2Fg%3E%3C%2Fg%3E%3Cg%20class%3D%22trace%20treemap%22%20style%3D%22opacity%3A%201%3B%22%3E%3Cg%20class%3D%22slice%20cursor-pointer%22%3E%3Cpath%20class%3D%22surface%22%20d%3D%22M958.5714285714288%2C30L1310.0000000000002%2C30L1310.0000000000002%2C628L958.5714285714288%2C628Z%22%20style%3D%22pointer-events%3A%20all%3B%20stroke-width%3A%200%3B%20fill%3A%20rgb(0%2C%200%2C%200)%3B%20fill-opacity%3A%200%3B%20stroke%3A%20rgb(0%2C%200%2C%200)%3B%20stroke-opacity%3A%200%3B%20opacity%3A%20100%3B%22%2F%3E%3Cg%20class%3D%22slicetext%22%3E%3Ctext%20data-notex%3D%221%22%20class%3D%22slicetext%22%20text-anchor%3D%22start%22%20data-unformatted%3D%22Urban%22%20data-math%3D%22N%22%20x%3D%220%22%20y%3D%220%22%20style%3D%22font-family%3A%20%26quot%3BOpen%20Sans%26quot%3B%2C%20verdana%2C%20arial%2C%20sans-serif%3B%20font-size%3A%2012px%3B%20fill%3A%20rgb(89%2C%2089%2C%2089)%3B%20fill-opacity%3A%201%3B%20white-space%3A%20pre%3B%22%20transform%3D%22translate(964.5714285714288%2C45)%22%3EUrban%3C%2Ftext%3E%3C%2Fg%3E%3C%2Fg%3E%3Cg%20class%3D%22slice%20cursor-pointer%22%3E%3Cpath%20class%3D%22surface%22%20d%3D%22M964.5714285714288%2C54L1304.0000000000002%2C54L1304.0000000000002%2C266.4873699286605L964.5714285714288%2C266.4873699286605Z%22%20style%3D%22pointer-events%3A%20all%3B%20stroke-width%3A%201%3B%20fill%3A%20rgb(111%2C%20146%2C%20184)%3B%20fill-opacity%3A%201%3B%20stroke%3A%20rgb(255%2C%20255%2C%20255)%3B%20stroke-opacity%3A%201%3B%20opacity%3A%201%3B%22%2F%3E%3Cg%20class%3D%22slicetext%22%3E%3Ctext%20data-notex%3D%221%22%20class%3D%22slicetext%22%20text-anchor%3D%22start%22%20data-unformatted%3D%22Pareto%20price%20change%22%20data-math%3D%22N%22%20x%3D%220%22%20y%3D%220%22%20style%3D%22font-family%3A%20%26quot%3BOpen%20Sans%26quot%3B%2C%20verdana%2C%20arial%2C%20sans-serif%3B%20font-size%3A%2012px%3B%20fill%3A%20rgb(255%2C%20255%2C%20255)%3B%20fill-opacity%3A%201%3B%20white-space%3A%20pre%3B%22%20transform%3D%22translate(970.5714285714288%2C69)%22%3EPareto%20price%20change%3C%2Ftext%3E%3C%2Fg%3E%3C%2Fg%3E%3Cg%20class%3D%22slice%20cursor-pointer%22%3E%3Cpath%20class%3D%22surface%22%20d%3D%22M964.5714285714288%2C269.4873699286605L1304.0000000000002%2C269.4873699286605L1304.0000000000002%2C448.82435984685935L964.5714285714288%2C448.82435984685935Z%22%20style%3D%22pointer-events%3A%20all%3B%20stroke-width%3A%201%3B%20fill%3A%20rgb(245%2C%20163%2C%2084)%3B%20fill-opacity%3A%201%3B%20stroke%3A%20rgb(255%2C%20255%2C%20255)%3B%20stroke-opacity%3A%201%3B%20opacity%3A%201%3B%22%2F%3E%3Cg%20class%3D%22slicetext%22%3E%3Ctext%20data-notex%3D%221%22%20class%3D%22slicetext%22%20text-anchor%3D%22start%22%20data-unformatted%3D%22Base%22%20data-math%3D%22N%22%20x%3D%220%22%20y%3D%220%22%20style%3D%22font-family%3A%20%26quot%3BOpen%20Sans%26quot%3B%2C%20verdana%2C%20arial%2C%20sans-serif%3B%20font-size%3A%2012px%3B%20fill%3A%20rgb(68%2C%2068%2C%2068)%3B%20fill-opacity%3A%201%3B%20white-space%3A%20pre%3B%22%20transform%3D%22translate(970.5714285714288%2C284.4873699286605)%22%3EBase%3C%2Ftext%3E%3C%2Fg%3E%3C%2Fg%3E%3Cg%20class%3D%22slice%20cursor-pointer%22%3E%3Cpath%20class%3D%22surface%22%20d%3D%22M964.5714285714288%2C451.82435984685935L1304.0000000000002%2C451.82435984685935L1304.0000000000002%2C622L964.5714285714288%2C622Z%22%20style%3D%22pointer-events%3A%20all%3B%20stroke-width%3A%201%3B%20fill%3A%20rgb(231%2C%20119%2C%20120)%3B%20fill-opacity%3A%201%3B%20stroke%3A%20rgb(255%2C%20255%2C%20255)%3B%20stroke-opacity%3A%201%3B%20opacity%3A%201%3B%22%2F%3E%3Cg%20class%3D%22slicetext%22%3E%3Ctext%20data-notex%3D%221%22%20class%3D%22slicetext%22%20text-anchor%3D%22start%22%20data-unformatted%3D%22Geographical%20Improvements%22%20data-math%3D%22N%22%20x%3D%220%22%20y%3D%220%22%20style%3D%22font-family%3A%20%26quot%3BOpen%20Sans%26quot%3B%2C%20verdana%2C%20arial%2C%20sans-serif%3B%20font-size%3A%2012px%3B%20fill%3A%20rgb(68%2C%2068%2C%2068)%3B%20fill-opacity%3A%201%3B%20white-space%3A%20pre%3B%22%20transform%3D%22translate(970.5714285714288%2C466.82435984685935)%22%3EGeographical%20Improvements%3C%2Ftext%3E%3C%2Fg%3E%3C%2Fg%3E%3Cg%20class%3D%22slice%20cursor-pointer%22%3E%3Cpath%20class%3D%22surface%22%20d%3D%22M970.5714285714288%2C78L1103.8364780337033%2C78L1103.8364780337033%2C167.9161058448125L970.5714285714288%2C167.9161058448125Z%22%20style%3D%22pointer-events%3A%20all%3B%20stroke-width%3A%201%3B%20fill%3A%20rgb(78%2C%20121%2C%20167)%3B%20fill-opacity%3A%201%3B%20stroke%3A%20rgb(255%2C%20255%2C%20255)%3B%20stroke-opacity%3A%201%3B%20opacity%3A%201%3B%22%2F%3E%3Cg%20class%3D%22slicetext%22%3E%3Ctext%20data-notex%3D%221%22%20class%3D%22slicetext%22%20text-anchor%3D%22start%22%20data-unformatted%3D%22Washington%22%20data-math%3D%22N%22%20x%3D%220%22%20y%3D%220%22%20style%3D%22font-family%3A%20%26quot%3BOpen%20Sans%26quot%3B%2C%20verdana%2C%20arial%2C%20sans-serif%3B%20font-size%3A%2012px%3B%20fill%3A%20rgb(255%2C%20255%2C%20255)%3B%20fill-opacity%3A%201%3B%20white-space%3A%20pre%3B%22%20transform%3D%22translate(973.5714285714288%2C93)%22%3EWashington%3C%2Ftext%3E%3C%2Fg%3E%3C%2Fg%3E%3Cg%20class%3D%22slice%20cursor-pointer%22%3E%3Cpath%20class%3D%22surface%22%20d%3D%22M970.5714285714288%2C170.9161058448125L1103.8364780337033%2C170.9161058448125L1103.8364780337033%2C260.4873699286605L970.5714285714288%2C260.4873699286605Z%22%20style%3D%22pointer-events%3A%20all%3B%20stroke-width%3A%201%3B%20fill%3A%20rgb(78%2C%20121%2C%20167)%3B%20fill-opacity%3A%201%3B%20stroke%3A%20rgb(255%2C%20255%2C%20255)%3B%20stroke-opacity%3A%201%3B%20opacity%3A%201%3B%22%2F%3E%3Cg%20class%3D%22slicetext%22%3E%3Ctext%20data-notex%3D%221%22%20class%3D%22slicetext%22%20text-anchor%3D%22start%22%20data-unformatted%3D%22Arizona%22%20data-math%3D%22N%22%20x%3D%220%22%20y%3D%220%22%20style%3D%22font-family%3A%20%26quot%3BOpen%20Sans%26quot%3B%2C%20verdana%2C%20arial%2C%20sans-serif%3B%20font-size%3A%2012px%3B%20fill%3A%20rgb(255%2C%20255%2C%20255)%3B%20fill-opacity%3A%201%3B%20white-space%3A%20pre%3B%22%20transform%3D%22translate(974.5714285714288%2C185.9161058448125)%22%3EArizona%3C%2Ftext%3E%3C%2Fg%3E%3C%2Fg%3E%3Cg%20class%3D%22slice%20cursor-pointer%22%3E%3Cpath%20class%3D%22surface%22%20d%3D%22M1106.8364780337033%2C78L1234.293045385907%2C78L1234.293045385907%2C168.1856488860666L1106.8364780337033%2C168.1856488860666Z%22%20style%3D%22pointer-events%3A%20all%3B%20stroke-width%3A%201%3B%20fill%3A%20rgb(78%2C%20121%2C%20167)%3B%20fill-opacity%3A%201%3B%20stroke%3A%20rgb(255%2C%20255%2C%20255)%3B%20stroke-opacity%3A%201%3B%20opacity%3A%201%3B%22%2F%3E%3Cg%20class%3D%22slicetext%22%3E%3Ctext%20data-notex%3D%221%22%20class%3D%22slicetext%22%20text-anchor%3D%22start%22%20data-unformatted%3D%22Nevada%22%20data-math%3D%22N%22%20x%3D%220%22%20y%3D%220%22%20style%3D%22font-family%3A%20%26quot%3BOpen%20Sans%26quot%3B%2C%20verdana%2C%20arial%2C%20sans-serif%3B%20font-size%3A%2012px%3B%20fill%3A%20rgb(255%2C%20255%2C%20255)%3B%20fill-opacity%3A%201%3B%20white-space%3A%20pre%3B%22%20transform%3D%22translate(1109.8364780337033%2C93)%22%3ENevada%3C%2Ftext%3E%3C%2Fg%3E%3C%2Fg%3E%3Cg%20class%3D%22slice%20cursor-pointer%22%3E%3Cpath%20class%3D%22surface%22%20d%3D%22M1106.8364780337033%2C171.1856488860666L1234.293045385907%2C171.1856488860666L1234.293045385907%2C260.4873699286605L1106.8364780337033%2C260.4873699286605Z%22%20style%3D%22pointer-events%3A%20all%3B%20stroke-width%3A%201%3B%20fill%3A%20rgb(78%2C%20121%2C%20167)%3B%20fill-opacity%3A%201%3B%20stroke%3A%20rgb(255%2C%20255%2C%20255)%3B%20stroke-opacity%3A%201%3B%20opacity%3A%201%3B%22%2F%3E%3Cg%20class%3D%22slicetext%22%3E%3Ctext%20data-notex%3D%221%22%20class%3D%22slicetext%22%20text-anchor%3D%22start%22%20data-unformatted%3D%22California%22%20data-math%3D%22N%22%20x%3D%220%22%20y%3D%220%22%20style%3D%22font-family%3A%20%26quot%3BOpen%20Sans%26quot%3B%2C%20verdana%2C%20arial%2C%20sans-serif%3B%20font-size%3A%2012px%3B%20fill%3A%20rgb(255%2C%20255%2C%20255)%3B%20fill-opacity%3A%201%3B%20white-space%3A%20pre%3B%22%20transform%3D%22translate(1109.8364780337033%2C186.1856488860666)%22%3ECalifornia%3C%2Ftext%3E%3C%2Fg%3E%3C%2Fg%3E%3Cg%20class%3D%22slice%20cursor-pointer%22%3E%3Cpath%20class%3D%22surface%22%20d%3D%22M1237.293045385907%2C78L1298.0000000000002%2C78L1298.0000000000002%2C260.48736992866054L1237.293045385907%2C260.48736992866054Z%22%20style%3D%22pointer-events%3A%20all%3B%20stroke-width%3A%201%3B%20fill%3A%20rgb(78%2C%20121%2C%20167)%3B%20fill-opacity%3A%201%3B%20stroke%3A%20rgb(255%2C%20255%2C%20255)%3B%20stroke-opacity%3A%201%3B%20opacity%3A%201%3B%22%2F%3E%3Cg%20class%3D%22slicetext%22%3E%3Ctext%20data-notex%3D%221%22%20class%3D%22slicetext%22%20text-anchor%3D%22start%22%20data-unformatted%3D%22Oregon%22%20data-math%3D%22N%22%20x%3D%220%22%20y%3D%220%22%20style%3D%22font-family%3A%20%26quot%3BOpen%20Sans%26quot%3B%2C%20verdana%2C%20arial%2C%20sans-serif%3B%20font-size%3A%2012px%3B%20fill%3A%20rgb(255%2C%20255%2C%20255)%3B%20fill-opacity%3A%201%3B%20white-space%3A%20pre%3B%22%20transform%3D%22translate(1240.293045385907%2C93)%22%3EOregon%3C%2Ftext%3E%3C%2Fg%3E%3C%2Fg%3E%3Cg%20class%3D%22slice%20cursor-pointer%22%3E%3Cpath%20class%3D%22surface%22%20d%3D%22M970.5714285714288%2C293.4873699286605L1103.5822472841037%2C293.4873699286605L1103.5822472841037%2C366.7023204986349L970.5714285714288%2C366.7023204986349Z%22%20style%3D%22pointer-events%3A%20all%3B%20stroke-width%3A%201%3B%20fill%3A%20rgb(242%2C%20142%2C%2044)%3B%20fill-opacity%3A%201%3B%20stroke%3A%20rgb(255%2C%20255%2C%20255)%3B%20stroke-opacity%3A%201%3B%20opacity%3A%201%3B%22%2F%3E%3Cg%20class%3D%22slicetext%22%3E%3Ctext%20data-notex%3D%221%22%20class%3D%22slicetext%22%20text-anchor%3D%22start%22%20data-unformatted%3D%22Washington%22%20data-math%3D%22N%22%20x%3D%220%22%20y%3D%220%22%20style%3D%22font-family%3A%20%26quot%3BOpen%20Sans%26quot%3B%2C%20verdana%2C%20arial%2C%20sans-serif%3B%20font-size%3A%2012px%3B%20fill%3A%20rgb(68%2C%2068%2C%2068)%3B%20fill-opacity%3A%201%3B%20white-space%3A%20pre%3B%22%20transform%3D%22translate(973.5714285714288%2C308.4873699286605)%22%3EWashington%3C%2Ftext%3E%3C%2Fg%3E%3C%2Fg%3E%3Cg%20class%3D%22slice%20cursor-pointer%22%3E%3Cpath%20class%3D%22surface%22%20d%3D%22M970.5714285714288%2C369.7023204986349L1103.5822472841037%2C369.7023204986349L1103.5822472841037%2C442.82435984685935L970.5714285714288%2C442.82435984685935Z%22%20style%3D%22pointer-events%3A%20all%3B%20stroke-width%3A%201%3B%20fill%3A%20rgb(242%2C%20142%2C%2044)%3B%20fill-opacity%3A%201%3B%20stroke%3A%20rgb(255%2C%20255%2C%20255)%3B%20stroke-opacity%3A%201%3B%20opacity%3A%201%3B%22%2F%3E%3Cg%20class%3D%22slicetext%22%3E%3Ctext%20data-notex%3D%221%22%20class%3D%22slicetext%22%20text-anchor%3D%22start%22%20data-unformatted%3D%22Arizona%22%20data-math%3D%22N%22%20x%3D%220%22%20y%3D%220%22%20style%3D%22font-family%3A%20%26quot%3BOpen%20Sans%26quot%3B%2C%20verdana%2C%20arial%2C%20sans-serif%3B%20font-size%3A%2012px%3B%20fill%3A%20rgb(68%2C%2068%2C%2068)%3B%20fill-opacity%3A%201%3B%20white-space%3A%20pre%3B%22%20transform%3D%22translate(974.5714285714288%2C384.7023204986349)%22%3EArizona%3C%2Ftext%3E%3C%2Fg%3E%3C%2Fg%3E%3Cg%20class%3D%22slice%20cursor-pointer%22%3E%3Cpath%20class%3D%22surface%22%20d%3D%22M1106.5822472841037%2C293.4873699286605L1234.0496159428394%2C293.4873699286605L1234.0496159428394%2C366.87404905833756L1106.5822472841037%2C366.87404905833756Z%22%20style%3D%22pointer-events%3A%20all%3B%20stroke-width%3A%201%3B%20fill%3A%20rgb(242%2C%20142%2C%2044)%3B%20fill-opacity%3A%201%3B%20stroke%3A%20rgb(255%2C%20255%2C%20255)%3B%20stroke-opacity%3A%201%3B%20opacity%3A%201%3B%22%2F%3E%3Cg%20class%3D%22slicetext%22%3E%3Ctext%20data-notex%3D%221%22%20class%3D%22slicetext%22%20text-anchor%3D%22start%22%20data-unformatted%3D%22Nevada%22%20data-math%3D%22N%22%20x%3D%220%22%20y%3D%220%22%20style%3D%22font-family%3A%20%26quot%3BOpen%20Sans%26quot%3B%2C%20verdana%2C%20arial%2C%20sans-serif%3B%20font-size%3A%2012px%3B%20fill%3A%20rgb(68%2C%2068%2C%2068)%3B%20fill-opacity%3A%201%3B%20white-space%3A%20pre%3B%22%20transform%3D%22translate(1109.5822472841037%2C308.4873699286605)%22%3ENevada%3C%2Ftext%3E%3C%2Fg%3E%3C%2Fg%3E%3Cg%20class%3D%22slice%20cursor-pointer%22%3E%3Cpath%20class%3D%22surface%22%20d%3D%22M1106.5822472841037%2C369.87404905833756L1234.0496159428394%2C369.87404905833756L1234.0496159428394%2C442.82435984685935L1106.5822472841037%2C442.82435984685935Z%22%20style%3D%22pointer-events%3A%20all%3B%20stroke-width%3A%201%3B%20fill%3A%20rgb(242%2C%20142%2C%2044)%3B%20fill-opacity%3A%201%3B%20stroke%3A%20rgb(255%2C%20255%2C%20255)%3B%20stroke-opacity%3A%201%3B%20opacity%3A%201%3B%22%2F%3E%3Cg%20class%3D%22slicetext%22%3E%3Ctext%20data-notex%3D%221%22%20class%3D%22slicetext%22%20text-anchor%3D%22start%22%20data-unformatted%3D%22California%22%20data-math%3D%22N%22%20x%3D%220%22%20y%3D%220%22%20style%3D%22font-family%3A%20%26quot%3BOpen%20Sans%26quot%3B%2C%20verdana%2C%20arial%2C%20sans-serif%3B%20font-size%3A%2012px%3B%20fill%3A%20rgb(68%2C%2068%2C%2068)%3B%20fill-opacity%3A%201%3B%20white-space%3A%20pre%3B%22%20transform%3D%22translate(1109.5822472841037%2C384.87404905833756)%22%3ECalifornia%3C%2Ftext%3E%3C%2Fg%3E%3C%2Fg%3E%3Cg%20class%3D%22slice%20cursor-pointer%22%3E%3Cpath%20class%3D%22surface%22%20d%3D%22M1237.0496159428394%2C293.4873699286605L1298.0000000000002%2C293.4873699286605L1298.0000000000002%2C442.82435984685935L1237.0496159428394%2C442.82435984685935Z%22%20style%3D%22pointer-events%3A%20all%3B%20stroke-width%3A%201%3B%20fill%3A%20rgb(242%2C%20142%2C%2044)%3B%20fill-opacity%3A%201%3B%20stroke%3A%20rgb(255%2C%20255%2C%20255)%3B%20stroke-opacity%3A%201%3B%20opacity%3A%201%3B%22%2F%3E%3Cg%20class%3D%22slicetext%22%3E%3Ctext%20data-notex%3D%221%22%20class%3D%22slicetext%22%20text-anchor%3D%22start%22%20data-unformatted%3D%22Oregon%22%20data-math%3D%22N%22%20x%3D%220%22%20y%3D%220%22%20style%3D%22font-family%3A%20%26quot%3BOpen%20Sans%26quot%3B%2C%20verdana%2C%20arial%2C%20sans-serif%3B%20font-size%3A%2012px%3B%20fill%3A%20rgb(68%2C%2068%2C%2068)%3B%20fill-opacity%3A%201%3B%20white-space%3A%20pre%3B%22%20transform%3D%22translate(1240.0496159428394%2C308.4873699286605)%22%3EOregon%3C%2Ftext%3E%3C%2Fg%3E%3C%2Fg%3E%3Cg%20class%3D%22slice%20cursor-pointer%22%3E%3Cpath%20class%3D%22surface%22%20d%3D%22M970.5714285714288%2C475.82435984685935L1108.0122217849198%2C475.82435984685935L1108.0122217849198%2C545.7772226075942L970.5714285714288%2C545.7772226075942Z%22%20style%3D%22pointer-events%3A%20all%3B%20stroke-width%3A%201%3B%20fill%3A%20rgb(225%2C%2087%2C%2089)%3B%20fill-opacity%3A%201%3B%20stroke%3A%20rgb(255%2C%20255%2C%20255)%3B%20stroke-opacity%3A%201%3B%20opacity%3A%201%3B%22%2F%3E%3Cg%20class%3D%22slicetext%22%3E%3Ctext%20data-notex%3D%221%22%20class%3D%22slicetext%22%20text-anchor%3D%22start%22%20data-unformatted%3D%22Arizona%22%20data-math%3D%22N%22%20x%3D%220%22%20y%3D%220%22%20style%3D%22font-family%3A%20%26quot%3BOpen%20Sans%26quot%3B%2C%20verdana%2C%20arial%2C%20sans-serif%3B%20font-size%3A%2012px%3B%20fill%3A%20rgb(68%2C%2068%2C%2068)%3B%20fill-opacity%3A%201%3B%20white-space%3A%20pre%3B%22%20transform%3D%22translate(974.5714285714288%2C490.82435984685935)%22%3EArizona%3C%2Ftext%3E%3C%2Fg%3E%3C%2Fg%3E%3Cg%20class%3D%22slice%20cursor-pointer%22%3E%3Cpath%20class%3D%22surface%22%20d%3D%22M970.5714285714288%2C548.7772226075942L1108.0122217849198%2C548.7772226075942L1108.0122217849198%2C616L970.5714285714288%2C616Z%22%20style%3D%22pointer-events%3A%20all%3B%20stroke-width%3A%201%3B%20fill%3A%20rgb(225%2C%2087%2C%2089)%3B%20fill-opacity%3A%201%3B%20stroke%3A%20rgb(255%2C%20255%2C%20255)%3B%20stroke-opacity%3A%201%3B%20opacity%3A%201%3B%22%2F%3E%3Cg%20class%3D%22slicetext%22%3E%3Ctext%20data-notex%3D%221%22%20class%3D%22slicetext%22%20text-anchor%3D%22start%22%20data-unformatted%3D%22Nevada%22%20data-math%3D%22N%22%20x%3D%220%22%20y%3D%220%22%20style%3D%22font-family%3A%20%26quot%3BOpen%20Sans%26quot%3B%2C%20verdana%2C%20arial%2C%20sans-serif%3B%20font-size%3A%2012px%3B%20fill%3A%20rgb(68%2C%2068%2C%2068)%3B%20fill-opacity%3A%201%3B%20white-space%3A%20pre%3B%22%20transform%3D%22translate(973.5714285714288%2C563.7772226075942)%22%3ENevada%3C%2Ftext%3E%3C%2Fg%3E%3C%2Fg%3E%3Cg%20class%3D%22slice%20cursor-pointer%22%3E%3Cpath%20class%3D%22surface%22%20d%3D%22M1111.0122217849198%2C475.82435984685935L1237.3998574481634%2C475.82435984685935L1237.3998574481634%2C548.6106109879938L1111.0122217849198%2C548.6106109879938Z%22%20style%3D%22pointer-events%3A%20all%3B%20stroke-width%3A%201%3B%20fill%3A%20rgb(225%2C%2087%2C%2089)%3B%20fill-opacity%3A%201%3B%20stroke%3A%20rgb(255%2C%20255%2C%20255)%3B%20stroke-opacity%3A%201%3B%20opacity%3A%201%3B%22%2F%3E%3Cg%20class%3D%22slicetext%22%3E%3Ctext%20data-notex%3D%221%22%20class%3D%22slicetext%22%20text-anchor%3D%22start%22%20data-unformatted%3D%22California%22%20data-math%3D%22N%22%20x%3D%220%22%20y%3D%220%22%20style%3D%22font-family%3A%20%26quot%3BOpen%20Sans%26quot%3B%2C%20verdana%2C%20arial%2C%20sans-serif%3B%20font-size%3A%2012px%3B%20fill%3A%20rgb(68%2C%2068%2C%2068)%3B%20fill-opacity%3A%201%3B%20white-space%3A%20pre%3B%22%20transform%3D%22translate(1114.0122217849198%2C490.82435984685935)%22%3ECalifornia%3C%2Ftext%3E%3C%2Fg%3E%3C%2Fg%3E%3Cg%20class%3D%22slice%20cursor-pointer%22%3E%3Cpath%20class%3D%22surface%22%20d%3D%22M1111.0122217849198%2C551.6106109879938L1237.3998574481634%2C551.6106109879938L1237.3998574481634%2C616L1111.0122217849198%2C616Z%22%20style%3D%22pointer-events%3A%20all%3B%20stroke-width%3A%201%3B%20fill%3A%20rgb(225%2C%2087%2C%2089)%3B%20fill-opacity%3A%201%3B%20stroke%3A%20rgb(255%2C%20255%2C%20255)%3B%20stroke-opacity%3A%201%3B%20opacity%3A%201%3B%22%2F%3E%3Cg%20class%3D%22slicetext%22%3E%3Ctext%20data-notex%3D%221%22%20class%3D%22slicetext%22%20text-anchor%3D%22start%22%20data-unformatted%3D%22Washington%22%20data-math%3D%22N%22%20x%3D%220%22%20y%3D%220%22%20style%3D%22font-family%3A%20%26quot%3BOpen%20Sans%26quot%3B%2C%20verdana%2C%20arial%2C%20sans-serif%3B%20font-size%3A%2012px%3B%20fill%3A%20rgb(68%2C%2068%2C%2068)%3B%20fill-opacity%3A%201%3B%20white-space%3A%20pre%3B%22%20transform%3D%22translate(1114.0122217849198%2C566.6106109879938)%22%3EWashington%3C%2Ftext%3E%3C%2Fg%3E%3C%2Fg%3E%3Cg%20class%3D%22slice%20cursor-pointer%22%3E%3Cpath%20class%3D%22surface%22%20d%3D%22M1240.3998574481634%2C475.82435984685935L1298.0000000000002%2C475.82435984685935L1298.0000000000002%2C616L1240.3998574481634%2C616Z%22%20style%3D%22pointer-events%3A%20all%3B%20stroke-width%3A%201%3B%20fill%3A%20rgb(225%2C%2087%2C%2089)%3B%20fill-opacity%3A%201%3B%20stroke%3A%20rgb(255%2C%20255%2C%20255)%3B%20stroke-opacity%3A%201%3B%20opacity%3A%201%3B%22%2F%3E%3Cg%20class%3D%22slicetext%22%3E%3Ctext%20data-notex%3D%221%22%20class%3D%22slicetext%22%20text-anchor%3D%22start%22%20data-unformatted%3D%22Oregon%22%20data-math%3D%22N%22%20x%3D%220%22%20y%3D%220%22%20style%3D%22font-family%3A%20%26quot%3BOpen%20Sans%26quot%3B%2C%20verdana%2C%20arial%2C%20sans-serif%3B%20font-size%3A%2012px%3B%20fill%3A%20rgb(68%2C%2068%2C%2068)%3B%20fill-opacity%3A%201%3B%20white-space%3A%20pre%3B%22%20transform%3D%22translate(1243.3998574481634%2C490.82435984685935)%22%3EOregon%3C%2Ftext%3E%3C%2Fg%3E%3C%2Fg%3E%3C%2Fg%3E%3C%2Fg%3E%3Cg%20class%3D%22sunburstlayer%22%2F%3E%3Cg%20class%3D%22glimages%22%2F%3E%3C%2Fsvg%3E%3Cdiv%20class%3D%22gl-container%22%3E%3C%2Fdiv%3E%3Csvg%20class%3D%22main-svg%22%20xmlns%3D%22http%3A%2F%2Fwww.w3.org%2F2000%2Fsvg%22%20xmlns%3Axlink%3D%22http%3A%2F%2Fwww.w3.org%2F1999%2Fxlink%22%20width%3D%221310%22%20height%3D%22668%22%3E%3Cdefs%20id%3D%22topdefs-4926fd%22%3E%3Cg%20class%3D%22clips%22%2F%3E%3C%2Fdefs%3E%3Cg%20class%3D%22indicatorlayer%22%2F%3E%3Cg%20class%3D%22layer-above%22%3E%3Cg%20class%3D%22imagelayer%22%2F%3E%3Cg%20class%3D%22shapelayer%22%2F%3E%3C%2Fg%3E%3Cg%20class%3D%22infolayer%22%3E%3Cg%20class%3D%22g-gtitle%22%2F%3E%3C%2Fg%3E%3Cg%20class%3D%22menulayer%22%2F%3E%3Cg%20class%3D%22zoomlayer%22%2F%3E%3C%2Fsvg%3E%3Cdiv%20class%3D%22modebar-container%22%20style%3D%22position%3A%20absolute%3B%20top%3A%200px%3B%20right%3A%200px%3B%20width%3A%20100%25%3B%22%3E%3Cdiv%20id%3D%22modebar-4926fd%22%20class%3D%22modebar%20modebar--hover%20ease-bg%22%3E%3Cdiv%20class%3D%22modebar-group%22%3E%3Ca%20rel%3D%22tooltip%22%20class%3D%22modebar-btn%22%20data-title%3D%22Download%20plot%20as%20a%20png%22%20data-toggle%3D%22false%22%20data-gravity%3D%22n%22%3E%3Csvg%20xmlns%3D%22http%3A%2F%2Fwww.w3.org%2F2000%2Fsvg%22%20viewBox%3D%220%200%201000%201000%22%20class%3D%22icon%22%20height%3D%221em%22%20width%3D%221em%22%3E%3Cpath%20d%3D%22m500%20450c-83%200-150-67-150-150%200-83%2067-150%20150-150%2083%200%20150%2067%20150%20150%200%2083-67%20150-150%20150z%20m400%20150h-120c-16%200-34%2013-39%2029l-31%2093c-6%2015-23%2028-40%2028h-340c-16%200-34-13-39-28l-31-94c-6-15-23-28-40-28h-120c-55%200-100-45-100-100v-450c0-55%2045-100%20100-100h800c55%200%20100%2045%20100%20100v450c0%2055-45%20100-100%20100z%20m-400-550c-138%200-250%20112-250%20250%200%20138%20112%20250%20250%20250%20138%200%20250-112%20250-250%200-138-112-250-250-250z%20m365%20380c-19%200-35%2016-35%2035%200%2019%2016%2035%2035%2035%2019%200%2035-16%2035-35%200-19-16-35-35-35z%22%20transform%3D%22matrix(1%200%200%20-1%200%20850)%22%2F%3E%3C%2Fsvg%3E%3C%2Fa%3E%3C%2Fdiv%3E%3Cdiv%20class%3D%22modebar-group%22%3E%3C%2Fdiv%3E%3C%2Fdiv%3E%3C%2Fdiv%3E%3Csvg%20class%3D%22main-svg%22%20xmlns%3D%22http%3A%2F%2Fwww.w3.org%2F2000%2Fsvg%22%20xmlns%3Axlink%3D%22http%3A%2F%2Fwww.w3.org%2F1999%2Fxlink%22%20width%3D%221310%22%20height%3D%22668%22%3E%3Cg%20class%3D%22hoverlayer%22%2F%3E%3C%2Fsvg%3E%3C%2Fdiv%3E%3C%2Fdiv%3E%3C%2Fdiv%3E%3C%2Fdiv%3E%3C%2Fdiv%3E%3C%2Fdiv%3E%3C%2Fdiv%3E%3C%2Fdiv%3E%3C%2Fdiv%3E%3C%2Fdiv%3E%3C%2FforeignObject%3E%3C%2Fsvg%3E\">"
      ],
      "text/plain": [
       "Open the notebook in JupyterLab with the Atoti extension enabled to build this widget."
      ]
     },
     "metadata": {},
     "output_type": "display_data"
    }
   ],
   "source": [
    "session.visualize(\"Scenarios: Revenue realised by State and location code\")"
   ]
  },
  {
   "cell_type": "code",
   "execution_count": 44,
   "id": "b273b901-f015-42ec-bc82-2b96c270618c",
   "metadata": {
    "atoti": {
     "height": 358,
     "widget": {
      "filters": [
       "{[Epoch].[Epoch].[Base], [Epoch].[Epoch].[Personal Auto Boost], [Epoch].[Epoch].[Pareto price change]}"
      ],
      "mapping": {
       "horizontalSubplots": [],
       "splitBy": [
        "ALL_MEASURES",
        "[predictions].[Policy_Type].[Policy_Type]"
       ],
       "values": [
        "[Measures].[revenue_realised_propotion]"
       ],
       "verticalSubplots": [],
       "xAxis": [
        "[Epoch].[Epoch].[Branch]"
       ]
      },
      "name": "Sales by demogrpahics",
      "query": {
       "mdx": "WITH  Member [Measures].[[predictions]].[Policy_Type]].[Policy_Type]]_for_order] AS [predictions].[Policy_Type].CurrentMember.MEMBER_VALUE  SELECT NON EMPTY Order(Crossjoin({[Measures].[revenue_realised_propotion]}, Hierarchize(Descendants({[predictions].[Policy_Type].[AllMember]}, 1, SELF_AND_BEFORE))), [Measures].[[predictions]].[Policy_Type]].[Policy_Type]]_for_order], BASC) ON COLUMNS, NON EMPTY [Epoch].[Epoch].[Branch].Members ON ROWS FROM [predictions] CELL PROPERTIES VALUE, FORMATTED_VALUE, BACK_COLOR, FORE_COLOR, FONT_FLAGS",
       "updateMode": "once"
      },
      "serverKey": "default",
      "widgetKey": "plotly-clustered-column-chart"
     }
    },
    "tags": []
   },
   "outputs": [
    {
     "data": {
      "application/vnd.atoti.widget.v0+json": {
       "name": "Scenarios: Revenue realized by policy types",
       "sessionId": "1685500978_82OHXW",
       "sessionLocation": {
        "https": false,
        "port": 54578
       },
       "widgetCreationCode": "session.visualize()"
      },
      "text/html": [
       "<img src=\"data:image/svg+xml;charset=utf8,%3C%3Fxml%20version%3D%221.0%22%20standalone%3D%22no%22%3F%3E%3Csvg%20xmlns%3D%22http%3A%2F%2Fwww.w3.org%2F2000%2Fsvg%22%20xmlns%3Axlink%3D%22http%3A%2F%2Fwww.w3.org%2F1999%2Fxlink%22%20height%3D%22350%22%20width%3D%221310%22%20viewBox%3D%220%200%201310%20350%22%3E%3Cdefs%20id%3D%22defs-757e2e%22%3E%3Cg%20class%3D%22clips%22%3E%3CclipPath%20id%3D%22clip757e2exyplot%22%20class%3D%22plotclip%22%3E%3Crect%20width%3D%221072%22%20height%3D%22280%22%2F%3E%3C%2FclipPath%3E%3CclipPath%20class%3D%22axesclip%22%20id%3D%22clip757e2ex%22%3E%3Crect%20x%3D%2280%22%20y%3D%220%22%20width%3D%221072%22%20height%3D%22350%22%2F%3E%3C%2FclipPath%3E%3CclipPath%20class%3D%22axesclip%22%20id%3D%22clip757e2ey%22%3E%3Crect%20x%3D%220%22%20y%3D%2230%22%20width%3D%221310%22%20height%3D%22280%22%2F%3E%3C%2FclipPath%3E%3CclipPath%20class%3D%22axesclip%22%20id%3D%22clip757e2exy%22%3E%3Crect%20x%3D%2280%22%20y%3D%2230%22%20width%3D%221072%22%20height%3D%22280%22%2F%3E%3C%2FclipPath%3E%3C%2Fg%3E%3Cg%20class%3D%22gradients%22%2F%3E%3C%2Fdefs%3E%3Cg%20class%3D%22bglayer%22%2F%3E%3Cg%20class%3D%22draglayer%20cursor-crosshair%22%3E%3Cg%20class%3D%22xy%22%3E%3Crect%20class%3D%22nsewdrag%20drag%22%20data-subplot%3D%22xy%22%20x%3D%2280%22%20y%3D%2230%22%20width%3D%221072%22%20height%3D%22280%22%20style%3D%22fill%3A%20transparent%3B%20stroke-width%3A%200%3B%20pointer-events%3A%20all%3B%22%2F%3E%3Crect%20class%3D%22nwdrag%20drag%20cursor-nw-resize%22%20data-subplot%3D%22xy%22%20x%3D%2260%22%20y%3D%2210%22%20width%3D%2220%22%20height%3D%2220%22%20style%3D%22fill%3A%20transparent%3B%20stroke-width%3A%200%3B%20pointer-events%3A%20all%3B%22%2F%3E%3Crect%20class%3D%22nedrag%20drag%20cursor-ne-resize%22%20data-subplot%3D%22xy%22%20x%3D%221152%22%20y%3D%2210%22%20width%3D%2220%22%20height%3D%2220%22%20style%3D%22fill%3A%20transparent%3B%20stroke-width%3A%200%3B%20pointer-events%3A%20all%3B%22%2F%3E%3Crect%20class%3D%22swdrag%20drag%20cursor-sw-resize%22%20data-subplot%3D%22xy%22%20x%3D%2260%22%20y%3D%22310%22%20width%3D%2220%22%20height%3D%2220%22%20style%3D%22fill%3A%20transparent%3B%20stroke-width%3A%200%3B%20pointer-events%3A%20all%3B%22%2F%3E%3Crect%20class%3D%22sedrag%20drag%20cursor-se-resize%22%20data-subplot%3D%22xy%22%20x%3D%221152%22%20y%3D%22310%22%20width%3D%2220%22%20height%3D%2220%22%20style%3D%22fill%3A%20transparent%3B%20stroke-width%3A%200%3B%20pointer-events%3A%20all%3B%22%2F%3E%3Crect%20class%3D%22ewdrag%20drag%20cursor-ew-resize%22%20data-subplot%3D%22xy%22%20x%3D%22187.2%22%20y%3D%22310.5%22%20width%3D%22857.6%22%20height%3D%2220%22%20style%3D%22fill%3A%20transparent%3B%20stroke-width%3A%200%3B%20pointer-events%3A%20all%3B%22%2F%3E%3Crect%20class%3D%22wdrag%20drag%20cursor-w-resize%22%20data-subplot%3D%22xy%22%20x%3D%2280%22%20y%3D%22310.5%22%20width%3D%22107.2%22%20height%3D%2220%22%20style%3D%22fill%3A%20transparent%3B%20stroke-width%3A%200%3B%20pointer-events%3A%20all%3B%22%2F%3E%3Crect%20class%3D%22edrag%20drag%20cursor-e-resize%22%20data-subplot%3D%22xy%22%20x%3D%221044.8000000000002%22%20y%3D%22310.5%22%20width%3D%22107.2%22%20height%3D%2220%22%20style%3D%22fill%3A%20transparent%3B%20stroke-width%3A%200%3B%20pointer-events%3A%20all%3B%22%2F%3E%3Crect%20class%3D%22nsdrag%20drag%20cursor-ns-resize%22%20data-subplot%3D%22xy%22%20x%3D%2259.5%22%20y%3D%2258%22%20width%3D%2220%22%20height%3D%22224%22%20style%3D%22fill%3A%20transparent%3B%20stroke-width%3A%200%3B%20pointer-events%3A%20all%3B%22%2F%3E%3Crect%20class%3D%22sdrag%20drag%20cursor-s-resize%22%20data-subplot%3D%22xy%22%20x%3D%2259.5%22%20y%3D%22282%22%20width%3D%2220%22%20height%3D%2228%22%20style%3D%22fill%3A%20transparent%3B%20stroke-width%3A%200%3B%20pointer-events%3A%20all%3B%22%2F%3E%3Crect%20class%3D%22ndrag%20drag%20cursor-n-resize%22%20data-subplot%3D%22xy%22%20x%3D%2259.5%22%20y%3D%2230%22%20width%3D%2220%22%20height%3D%2228%22%20style%3D%22fill%3A%20transparent%3B%20stroke-width%3A%200%3B%20pointer-events%3A%20all%3B%22%2F%3E%3C%2Fg%3E%3C%2Fg%3E%3Cg%20class%3D%22layer-below%22%3E%3Cg%20class%3D%22imagelayer%22%2F%3E%3Cg%20class%3D%22shapelayer%22%2F%3E%3C%2Fg%3E%3Cg%20class%3D%22cartesianlayer%22%3E%3Cg%20class%3D%22subplot%20xy%22%3E%3Cg%20class%3D%22layer-subplot%22%3E%3Cg%20class%3D%22shapelayer%22%2F%3E%3Cg%20class%3D%22imagelayer%22%2F%3E%3C%2Fg%3E%3Cg%20class%3D%22gridlayer%22%3E%3Cg%20class%3D%22x%22%3E%3Cpath%20class%3D%22xgrid%20crisp%22%20transform%3D%22translate(258.66999999999996%2C0)%22%20d%3D%22M0%2C30v280%22%20style%3D%22stroke%3A%20rgb(0%2C%200%2C%200)%3B%20stroke-opacity%3A%200%3B%20stroke-width%3A%201px%3B%22%2F%3E%3Cpath%20class%3D%22xgrid%20crisp%22%20transform%3D%22translate(616%2C0)%22%20d%3D%22M0%2C30v280%22%20style%3D%22stroke%3A%20rgb(0%2C%200%2C%200)%3B%20stroke-opacity%3A%200%3B%20stroke-width%3A%201px%3B%22%2F%3E%3Cpath%20class%3D%22xgrid%20crisp%22%20transform%3D%22translate(973.33%2C0)%22%20d%3D%22M0%2C30v280%22%20style%3D%22stroke%3A%20rgb(0%2C%200%2C%200)%3B%20stroke-opacity%3A%200%3B%20stroke-width%3A%201px%3B%22%2F%3E%3C%2Fg%3E%3Cg%20class%3D%22y%22%3E%3Cpath%20class%3D%22ygrid%20crisp%22%20transform%3D%22translate(0%2C250.89)%22%20d%3D%22M80%2C0h1072%22%20style%3D%22stroke%3A%20rgb(89%2C%2089%2C%2089)%3B%20stroke-opacity%3A%200.25%3B%20stroke-width%3A%201px%3B%22%2F%3E%3Cpath%20class%3D%22ygrid%20crisp%22%20transform%3D%22translate(0%2C191.77)%22%20d%3D%22M80%2C0h1072%22%20style%3D%22stroke%3A%20rgb(89%2C%2089%2C%2089)%3B%20stroke-opacity%3A%200.25%3B%20stroke-width%3A%201px%3B%22%2F%3E%3Cpath%20class%3D%22ygrid%20crisp%22%20transform%3D%22translate(0%2C132.66)%22%20d%3D%22M80%2C0h1072%22%20style%3D%22stroke%3A%20rgb(89%2C%2089%2C%2089)%3B%20stroke-opacity%3A%200.25%3B%20stroke-width%3A%201px%3B%22%2F%3E%3Cpath%20class%3D%22ygrid%20crisp%22%20transform%3D%22translate(0%2C73.55)%22%20d%3D%22M80%2C0h1072%22%20style%3D%22stroke%3A%20rgb(89%2C%2089%2C%2089)%3B%20stroke-opacity%3A%200.25%3B%20stroke-width%3A%201px%3B%22%2F%3E%3C%2Fg%3E%3C%2Fg%3E%3Cg%20class%3D%22zerolinelayer%22%3E%3Cpath%20class%3D%22yzl%20zl%20crisp%22%20transform%3D%22translate(0%2C310)%22%20d%3D%22M80%2C0h1072%22%20style%3D%22stroke%3A%20rgb(89%2C%2089%2C%2089)%3B%20stroke-opacity%3A%200.5%3B%20stroke-width%3A%201px%3B%22%2F%3E%3C%2Fg%3E%3Cpath%20class%3D%22xlines-below%22%2F%3E%3Cpath%20class%3D%22ylines-below%22%2F%3E%3Cg%20class%3D%22overlines-below%22%2F%3E%3Cg%20class%3D%22xaxislayer-below%22%2F%3E%3Cg%20class%3D%22yaxislayer-below%22%2F%3E%3Cg%20class%3D%22overaxes-below%22%2F%3E%3Cg%20class%3D%22plot%22%20transform%3D%22translate(80%2C30)%22%20clip-path%3D%22url('%23clip757e2exyplot')%22%3E%3Cg%20class%3D%22barlayer%20mlayer%22%3E%3Cg%20class%3D%22trace%20bars%22%20style%3D%22opacity%3A%201%3B%22%3E%3Cg%20class%3D%22points%22%3E%3Cg%20class%3D%22point%22%3E%3Cpath%20d%3D%22M35.73%2C280V39.02H131.02V280Z%22%20style%3D%22vector-effect%3A%20non-scaling-stroke%3B%20opacity%3A%201%3B%20stroke-width%3A%200px%3B%20fill%3A%20rgb(78%2C%20121%2C%20167)%3B%20fill-opacity%3A%201%3B%22%2F%3E%3C%2Fg%3E%3Cg%20class%3D%22point%22%3E%3Cpath%20d%3D%22M393.07%2C280V28.24H488.36V280Z%22%20style%3D%22vector-effect%3A%20non-scaling-stroke%3B%20opacity%3A%201%3B%20stroke-width%3A%200px%3B%20fill%3A%20rgb(78%2C%20121%2C%20167)%3B%20fill-opacity%3A%201%3B%22%2F%3E%3C%2Fg%3E%3Cg%20class%3D%22point%22%3E%3Cpath%20d%3D%22M750.4%2C280V39.75H845.69V280Z%22%20style%3D%22vector-effect%3A%20non-scaling-stroke%3B%20opacity%3A%201%3B%20stroke-width%3A%200px%3B%20fill%3A%20rgb(78%2C%20121%2C%20167)%3B%20fill-opacity%3A%201%3B%22%2F%3E%3C%2Fg%3E%3C%2Fg%3E%3C%2Fg%3E%3Cg%20class%3D%22trace%20bars%22%20style%3D%22opacity%3A%201%3B%22%3E%3Cg%20class%3D%22points%22%3E%3Cg%20class%3D%22point%22%3E%3Cpath%20d%3D%22M131.02%2C280V85.12H226.31V280Z%22%20style%3D%22vector-effect%3A%20non-scaling-stroke%3B%20opacity%3A%201%3B%20stroke-width%3A%200px%3B%20fill%3A%20rgb(242%2C%20142%2C%2044)%3B%20fill-opacity%3A%201%3B%22%2F%3E%3C%2Fg%3E%3Cg%20class%3D%22point%22%3E%3Cpath%20d%3D%22M488.36%2C280V65.99H583.64V280Z%22%20style%3D%22vector-effect%3A%20non-scaling-stroke%3B%20opacity%3A%201%3B%20stroke-width%3A%200px%3B%20fill%3A%20rgb(242%2C%20142%2C%2044)%3B%20fill-opacity%3A%201%3B%22%2F%3E%3C%2Fg%3E%3Cg%20class%3D%22point%22%3E%3Cpath%20d%3D%22M845.69%2C280V87.02H940.98V280Z%22%20style%3D%22vector-effect%3A%20non-scaling-stroke%3B%20opacity%3A%201%3B%20stroke-width%3A%200px%3B%20fill%3A%20rgb(242%2C%20142%2C%2044)%3B%20fill-opacity%3A%201%3B%22%2F%3E%3C%2Fg%3E%3C%2Fg%3E%3C%2Fg%3E%3Cg%20class%3D%22trace%20bars%22%20style%3D%22opacity%3A%201%3B%22%3E%3Cg%20class%3D%22points%22%3E%3Cg%20class%3D%22point%22%3E%3Cpath%20d%3D%22M226.31%2C280V20.95H321.6V280Z%22%20style%3D%22vector-effect%3A%20non-scaling-stroke%3B%20opacity%3A%201%3B%20stroke-width%3A%200px%3B%20fill%3A%20rgb(225%2C%2087%2C%2089)%3B%20fill-opacity%3A%201%3B%22%2F%3E%3C%2Fg%3E%3Cg%20class%3D%22point%22%3E%3Cpath%20d%3D%22M583.64%2C280V14H678.93V280Z%22%20style%3D%22vector-effect%3A%20non-scaling-stroke%3B%20opacity%3A%201%3B%20stroke-width%3A%200px%3B%20fill%3A%20rgb(225%2C%2087%2C%2089)%3B%20fill-opacity%3A%201%3B%22%2F%3E%3C%2Fg%3E%3Cg%20class%3D%22point%22%3E%3Cpath%20d%3D%22M940.98%2C280V21.15H1036.27V280Z%22%20style%3D%22vector-effect%3A%20non-scaling-stroke%3B%20opacity%3A%201%3B%20stroke-width%3A%200px%3B%20fill%3A%20rgb(225%2C%2087%2C%2089)%3B%20fill-opacity%3A%201%3B%22%2F%3E%3C%2Fg%3E%3C%2Fg%3E%3C%2Fg%3E%3C%2Fg%3E%3C%2Fg%3E%3Cg%20class%3D%22overplot%22%2F%3E%3Cpath%20class%3D%22xlines-above%20crisp%22%20style%3D%22fill%3A%20none%3B%20stroke-width%3A%201px%3B%20stroke%3A%20rgb(89%2C%2089%2C%2089)%3B%20stroke-opacity%3A%200.25%3B%22%20d%3D%22M79%2C310.5H1152%22%2F%3E%3Cpath%20class%3D%22ylines-above%20crisp%22%20style%3D%22fill%3A%20none%3B%20stroke-width%3A%201px%3B%20stroke%3A%20rgb(89%2C%2089%2C%2089)%3B%20stroke-opacity%3A%200.25%3B%22%20d%3D%22M79.5%2C30V310%22%2F%3E%3Cg%20class%3D%22overlines-above%22%2F%3E%3Cg%20class%3D%22xaxislayer-above%22%3E%3Cg%20class%3D%22xtick%22%3E%3Ctext%20text-anchor%3D%22middle%22%20x%3D%220%22%20y%3D%22325.4%22%20data-unformatted%3D%22Base%22%20data-math%3D%22N%22%20transform%3D%22translate(258.66999999999996%2C0)%22%20style%3D%22font-family%3A%20%26quot%3BOpen%20Sans%26quot%3B%2C%20verdana%2C%20arial%2C%20sans-serif%3B%20font-size%3A%2012px%3B%20fill%3A%20rgb(89%2C%2089%2C%2089)%3B%20fill-opacity%3A%201%3B%20white-space%3A%20pre%3B%22%3EBase%3C%2Ftext%3E%3C%2Fg%3E%3Cg%20class%3D%22xtick%22%3E%3Ctext%20text-anchor%3D%22middle%22%20x%3D%220%22%20y%3D%22325.4%22%20data-unformatted%3D%22Pareto%20price%20change%22%20data-math%3D%22N%22%20transform%3D%22translate(616%2C0)%22%20style%3D%22font-family%3A%20%26quot%3BOpen%20Sans%26quot%3B%2C%20verdana%2C%20arial%2C%20sans-serif%3B%20font-size%3A%2012px%3B%20fill%3A%20rgb(89%2C%2089%2C%2089)%3B%20fill-opacity%3A%201%3B%20white-space%3A%20pre%3B%22%3EPareto%20price%20change%3C%2Ftext%3E%3C%2Fg%3E%3Cg%20class%3D%22xtick%22%3E%3Ctext%20text-anchor%3D%22middle%22%20x%3D%220%22%20y%3D%22325.4%22%20data-unformatted%3D%22Personal%20Auto%20Boost%22%20data-math%3D%22N%22%20transform%3D%22translate(973.33%2C0)%22%20style%3D%22font-family%3A%20%26quot%3BOpen%20Sans%26quot%3B%2C%20verdana%2C%20arial%2C%20sans-serif%3B%20font-size%3A%2012px%3B%20fill%3A%20rgb(89%2C%2089%2C%2089)%3B%20fill-opacity%3A%201%3B%20white-space%3A%20pre%3B%22%3EPersonal%20Auto%20Boost%3C%2Ftext%3E%3C%2Fg%3E%3C%2Fg%3E%3Cg%20class%3D%22yaxislayer-above%22%3E%3Cg%20class%3D%22ytick%22%3E%3Ctext%20text-anchor%3D%22end%22%20x%3D%2276.6%22%20y%3D%224.199999999999999%22%20data-unformatted%3D%220%22%20data-math%3D%22N%22%20transform%3D%22translate(0%2C310)%22%20style%3D%22font-family%3A%20%26quot%3BOpen%20Sans%26quot%3B%2C%20verdana%2C%20arial%2C%20sans-serif%3B%20font-size%3A%2012px%3B%20fill%3A%20rgb(89%2C%2089%2C%2089)%3B%20fill-opacity%3A%201%3B%20white-space%3A%20pre%3B%22%3E0%3C%2Ftext%3E%3C%2Fg%3E%3Cg%20class%3D%22ytick%22%3E%3Ctext%20text-anchor%3D%22end%22%20x%3D%2276.6%22%20y%3D%224.199999999999999%22%20data-unformatted%3D%220.2%22%20data-math%3D%22N%22%20transform%3D%22translate(0%2C250.89)%22%20style%3D%22font-family%3A%20%26quot%3BOpen%20Sans%26quot%3B%2C%20verdana%2C%20arial%2C%20sans-serif%3B%20font-size%3A%2012px%3B%20fill%3A%20rgb(89%2C%2089%2C%2089)%3B%20fill-opacity%3A%201%3B%20white-space%3A%20pre%3B%22%3E0.2%3C%2Ftext%3E%3C%2Fg%3E%3Cg%20class%3D%22ytick%22%3E%3Ctext%20text-anchor%3D%22end%22%20x%3D%2276.6%22%20y%3D%224.199999999999999%22%20data-unformatted%3D%220.4%22%20data-math%3D%22N%22%20transform%3D%22translate(0%2C191.77)%22%20style%3D%22font-family%3A%20%26quot%3BOpen%20Sans%26quot%3B%2C%20verdana%2C%20arial%2C%20sans-serif%3B%20font-size%3A%2012px%3B%20fill%3A%20rgb(89%2C%2089%2C%2089)%3B%20fill-opacity%3A%201%3B%20white-space%3A%20pre%3B%22%3E0.4%3C%2Ftext%3E%3C%2Fg%3E%3Cg%20class%3D%22ytick%22%3E%3Ctext%20text-anchor%3D%22end%22%20x%3D%2276.6%22%20y%3D%224.199999999999999%22%20data-unformatted%3D%220.6%22%20data-math%3D%22N%22%20transform%3D%22translate(0%2C132.66)%22%20style%3D%22font-family%3A%20%26quot%3BOpen%20Sans%26quot%3B%2C%20verdana%2C%20arial%2C%20sans-serif%3B%20font-size%3A%2012px%3B%20fill%3A%20rgb(89%2C%2089%2C%2089)%3B%20fill-opacity%3A%201%3B%20white-space%3A%20pre%3B%22%3E0.6%3C%2Ftext%3E%3C%2Fg%3E%3Cg%20class%3D%22ytick%22%3E%3Ctext%20text-anchor%3D%22end%22%20x%3D%2276.6%22%20y%3D%224.199999999999999%22%20data-unformatted%3D%220.8%22%20data-math%3D%22N%22%20transform%3D%22translate(0%2C73.55)%22%20style%3D%22font-family%3A%20%26quot%3BOpen%20Sans%26quot%3B%2C%20verdana%2C%20arial%2C%20sans-serif%3B%20font-size%3A%2012px%3B%20fill%3A%20rgb(89%2C%2089%2C%2089)%3B%20fill-opacity%3A%201%3B%20white-space%3A%20pre%3B%22%3E0.8%3C%2Ftext%3E%3C%2Fg%3E%3C%2Fg%3E%3Cg%20class%3D%22overaxes-above%22%2F%3E%3C%2Fg%3E%3C%2Fg%3E%3Cg%20class%3D%22polarlayer%22%2F%3E%3Cg%20class%3D%22ternarylayer%22%2F%3E%3Cg%20class%3D%22geolayer%22%2F%3E%3Cg%20class%3D%22funnelarealayer%22%2F%3E%3Cg%20class%3D%22pielayer%22%2F%3E%3Cg%20class%3D%22treemaplayer%22%2F%3E%3Cg%20class%3D%22sunburstlayer%22%2F%3E%3Cg%20class%3D%22glimages%22%2F%3E%3Cdefs%20id%3D%22topdefs-757e2e%22%3E%3Cg%20class%3D%22clips%22%2F%3E%3CclipPath%20id%3D%22legend757e2e%22%3E%3Crect%20width%3D%22137%22%20height%3D%2287%22%20x%3D%220%22%20y%3D%220%22%2F%3E%3C%2FclipPath%3E%3C%2Fdefs%3E%3Cg%20class%3D%22indicatorlayer%22%2F%3E%3Cg%20class%3D%22layer-above%22%3E%3Cg%20class%3D%22imagelayer%22%2F%3E%3Cg%20class%3D%22shapelayer%22%2F%3E%3C%2Fg%3E%3Cg%20class%3D%22infolayer%22%3E%3Cg%20class%3D%22legend%22%20pointer-events%3D%22all%22%20transform%3D%22translate(1173%2C30)%22%3E%3Crect%20class%3D%22bg%22%20shape-rendering%3D%22crispEdges%22%20style%3D%22stroke%3A%20rgb(68%2C%2068%2C%2068)%3B%20stroke-opacity%3A%201%3B%20fill%3A%20rgb(255%2C%20255%2C%20255)%3B%20fill-opacity%3A%201%3B%20stroke-width%3A%200px%3B%22%20width%3D%22137%22%20height%3D%2287%22%20x%3D%220%22%20y%3D%220%22%2F%3E%3Cg%20class%3D%22scrollbox%22%20transform%3D%22%22%20clip-path%3D%22url('%23legend757e2e')%22%3E%3Cg%20class%3D%22groups%22%20transform%3D%22%22%3E%3Cg%20class%3D%22traces%22%20style%3D%22opacity%3A%201%3B%22%20transform%3D%22translate(0%2C14.5)%22%3E%3Ctext%20class%3D%22legendtext%22%20text-anchor%3D%22start%22%20x%3D%2240%22%20y%3D%224.680000000000001%22%20data-unformatted%3D%22Corporate%20Auto%22%20data-math%3D%22N%22%20style%3D%22font-family%3A%20%26quot%3BOpen%20Sans%26quot%3B%2C%20verdana%2C%20arial%2C%20sans-serif%3B%20font-size%3A%2012px%3B%20fill%3A%20rgb(89%2C%2089%2C%2089)%3B%20fill-opacity%3A%201%3B%20white-space%3A%20pre%3B%22%3ECorporate%20Auto%3C%2Ftext%3E%3Cg%20class%3D%22layers%22%20style%3D%22opacity%3A%201%3B%22%3E%3Cg%20class%3D%22legendfill%22%2F%3E%3Cg%20class%3D%22legendlines%22%2F%3E%3Cg%20class%3D%22legendsymbols%22%3E%3Cg%20class%3D%22legendpoints%22%3E%3Cpath%20class%3D%22legendundefined%22%20d%3D%22M6%2C6H-6V-6H6Z%22%20transform%3D%22translate(20%2C0)%22%20style%3D%22stroke-width%3A%200px%3B%20fill%3A%20rgb(78%2C%20121%2C%20167)%3B%20fill-opacity%3A%201%3B%22%2F%3E%3C%2Fg%3E%3C%2Fg%3E%3C%2Fg%3E%3Crect%20class%3D%22legendtoggle%22%20pointer-events%3D%22all%22%20x%3D%220%22%20y%3D%22-9.5%22%20width%3D%22131.515625%22%20height%3D%2219%22%20style%3D%22cursor%3A%20pointer%3B%20fill%3A%20rgb(0%2C%200%2C%200)%3B%20fill-opacity%3A%200%3B%22%2F%3E%3C%2Fg%3E%3C%2Fg%3E%3Cg%20class%3D%22groups%22%20transform%3D%22translate(0%2C10)%22%3E%3Cg%20class%3D%22traces%22%20style%3D%22opacity%3A%201%3B%22%20transform%3D%22translate(0%2C33.5)%22%3E%3Ctext%20class%3D%22legendtext%22%20text-anchor%3D%22start%22%20x%3D%2240%22%20y%3D%224.680000000000001%22%20data-unformatted%3D%22Personal%20Auto%22%20data-math%3D%22N%22%20style%3D%22font-family%3A%20%26quot%3BOpen%20Sans%26quot%3B%2C%20verdana%2C%20arial%2C%20sans-serif%3B%20font-size%3A%2012px%3B%20fill%3A%20rgb(89%2C%2089%2C%2089)%3B%20fill-opacity%3A%201%3B%20white-space%3A%20pre%3B%22%3EPersonal%20Auto%3C%2Ftext%3E%3Cg%20class%3D%22layers%22%20style%3D%22opacity%3A%201%3B%22%3E%3Cg%20class%3D%22legendfill%22%2F%3E%3Cg%20class%3D%22legendlines%22%2F%3E%3Cg%20class%3D%22legendsymbols%22%3E%3Cg%20class%3D%22legendpoints%22%3E%3Cpath%20class%3D%22legendundefined%22%20d%3D%22M6%2C6H-6V-6H6Z%22%20transform%3D%22translate(20%2C0)%22%20style%3D%22stroke-width%3A%200px%3B%20fill%3A%20rgb(242%2C%20142%2C%2044)%3B%20fill-opacity%3A%201%3B%22%2F%3E%3C%2Fg%3E%3C%2Fg%3E%3C%2Fg%3E%3Crect%20class%3D%22legendtoggle%22%20pointer-events%3D%22all%22%20x%3D%220%22%20y%3D%22-9.5%22%20width%3D%22131.515625%22%20height%3D%2219%22%20style%3D%22cursor%3A%20pointer%3B%20fill%3A%20rgb(0%2C%200%2C%200)%3B%20fill-opacity%3A%200%3B%22%2F%3E%3C%2Fg%3E%3C%2Fg%3E%3Cg%20class%3D%22groups%22%20transform%3D%22translate(0%2C20)%22%3E%3Cg%20class%3D%22traces%22%20style%3D%22opacity%3A%201%3B%22%20transform%3D%22translate(0%2C52.5)%22%3E%3Ctext%20class%3D%22legendtext%22%20text-anchor%3D%22start%22%20x%3D%2240%22%20y%3D%224.680000000000001%22%20data-unformatted%3D%22Special%20Auto%22%20data-math%3D%22N%22%20style%3D%22font-family%3A%20%26quot%3BOpen%20Sans%26quot%3B%2C%20verdana%2C%20arial%2C%20sans-serif%3B%20font-size%3A%2012px%3B%20fill%3A%20rgb(89%2C%2089%2C%2089)%3B%20fill-opacity%3A%201%3B%20white-space%3A%20pre%3B%22%3ESpecial%20Auto%3C%2Ftext%3E%3Cg%20class%3D%22layers%22%20style%3D%22opacity%3A%201%3B%22%3E%3Cg%20class%3D%22legendfill%22%2F%3E%3Cg%20class%3D%22legendlines%22%2F%3E%3Cg%20class%3D%22legendsymbols%22%3E%3Cg%20class%3D%22legendpoints%22%3E%3Cpath%20class%3D%22legendundefined%22%20d%3D%22M6%2C6H-6V-6H6Z%22%20transform%3D%22translate(20%2C0)%22%20style%3D%22stroke-width%3A%200px%3B%20fill%3A%20rgb(225%2C%2087%2C%2089)%3B%20fill-opacity%3A%201%3B%22%2F%3E%3C%2Fg%3E%3C%2Fg%3E%3C%2Fg%3E%3Crect%20class%3D%22legendtoggle%22%20pointer-events%3D%22all%22%20x%3D%220%22%20y%3D%22-9.5%22%20width%3D%22131.515625%22%20height%3D%2219%22%20style%3D%22cursor%3A%20pointer%3B%20fill%3A%20rgb(0%2C%200%2C%200)%3B%20fill-opacity%3A%200%3B%22%2F%3E%3C%2Fg%3E%3C%2Fg%3E%3C%2Fg%3E%3Crect%20class%3D%22scrollbar%22%20rx%3D%2220%22%20ry%3D%223%22%20width%3D%220%22%20height%3D%220%22%20style%3D%22fill%3A%20rgb(128%2C%20139%2C%20164)%3B%20fill-opacity%3A%201%3B%22%20x%3D%220%22%20y%3D%220%22%2F%3E%3C%2Fg%3E%3Cg%20class%3D%22g-gtitle%22%2F%3E%3Cg%20class%3D%22g-xtitle%22%2F%3E%3Cg%20class%3D%22g-ytitle%22%2F%3E%3C%2Fg%3E%3Cg%20class%3D%22menulayer%22%2F%3E%3Cg%20class%3D%22zoomlayer%22%2F%3E%3Cg%20class%3D%22hoverlayer%22%2F%3E%3C%2Fsvg%3E\">"
      ],
      "text/plain": [
       "Open the notebook in JupyterLab with the Atoti extension enabled to build this widget."
      ]
     },
     "metadata": {},
     "output_type": "display_data"
    }
   ],
   "source": [
    "session.visualize(\"Scenarios: Revenue realized by policy types\")"
   ]
  },
  {
   "cell_type": "code",
   "execution_count": 45,
   "id": "84bc52c5-7903-4780-9bfc-a2e5aa11f0fd",
   "metadata": {
    "atoti": {
     "height": 663,
     "widget": {
      "filters": [
       "{[Epoch].[Epoch].[Base], [Epoch].[Epoch].[Personal Auto Boost], [Epoch].[Epoch].[Pareto price change]}"
      ],
      "mapping": {
       "color": [
        "[predictions].[Coverage_Type].[Coverage_Type]"
       ],
       "horizontalSubplots": [
        "[predictions].[Policy_Type].[Policy_Type]"
       ],
       "size": [
        "[Measures].[revenue_realised]"
       ],
       "splitBy": [],
       "verticalSubplots": [
        "[Epoch].[Epoch].[Branch]"
       ],
       "xValues": [
        "[Measures].[sale_propotion]"
       ],
       "yValues": [
        "[Measures].[revenue_realised_propotion]"
       ]
      },
      "query": {
       "mdx": "SELECT NON EMPTY Crossjoin(Hierarchize(Descendants({[predictions].[Policy_Type].[AllMember]}, 1, SELF_AND_BEFORE)), [Epoch].[Epoch].[Branch].Members, {[Measures].[sale_propotion], [Measures].[revenue_realised_propotion], [Measures].[revenue_realised]}) ON COLUMNS, NON EMPTY Hierarchize(Descendants({[predictions].[Coverage_Type].[AllMember]}, 1, SELF_AND_BEFORE)) ON ROWS FROM [predictions] CELL PROPERTIES VALUE, FORMATTED_VALUE, BACK_COLOR, FORE_COLOR, FONT_FLAGS",
       "updateMode": "once"
      },
      "serverKey": "default",
      "widgetKey": "plotly-scatter-plot"
     }
    },
    "tags": []
   },
   "outputs": [
    {
     "data": {
      "application/vnd.atoti.widget.v0+json": {
       "name": "Scenario: Revenue and sales by policy and coverage type",
       "sessionId": "1685500978_82OHXW",
       "sessionLocation": {
        "https": false,
        "port": 54578
       },
       "widgetCreationCode": "session.visualize()"
      },
      "text/html": [
       "<img src=\"data:image/svg+xml;charset=utf8,%3C%3Fxml%20version%3D%221.0%22%20standalone%3D%22no%22%3F%3E%3Csvg%20xmlns%3D%22http%3A%2F%2Fwww.w3.org%2F2000%2Fsvg%22%20height%3D%22655%22%20width%3D%221310%22%3E%3CforeignObject%20width%3D%22100%25%22%20height%3D%22100%25%22%20x%3D%220%22%20y%3D%220%22%3E%3Cstyle%20xmlns%3D%22http%3A%2F%2Fwww.w3.org%2F1999%2Fxhtml%22%20type%3D%22text%2Fcss%22%3E*%2C%20%3A%3Abefore%2C%20%3A%3Aafter%20%7Bbox-sizing%3A%20unset%7D%0Aa%20%7Bcolor%3A%20unset%3B%20text-decoration-line%3A%20unset%3B%20text-decoration-thickness%3A%20unset%3B%20text-decoration-style%3A%20unset%3B%20text-decoration-color%3A%20unset%7D%0A.ant-root%20%5Bclass%5E%3D%22ant-%22%5D%2C%20.ant-root%20%5Bclass*%3D%22ant-%22%5D%2C%20.ant-root%20%5Bclass%5E%3D%22ant-%22%5D%20*%2C%20.ant-root%20%5Bclass*%3D%22ant-%22%5D%20*%2C%20.ant-root%20%5Bclass%5E%3D%22ant-%22%5D%20%3A%3Abefore%2C%20.ant-root%20%5Bclass*%3D%22ant-%22%5D%20%3A%3Abefore%2C%20.ant-root%20%5Bclass%5E%3D%22ant-%22%5D%20%3A%3Aafter%2C%20.ant-root%20%5Bclass*%3D%22ant-%22%5D%20%3A%3Aafter%20%7Bbox-sizing%3A%20border-box%7D%0A.ant-root%2C%20.ant-root%20%7Bwidth%3A%20100%25%3B%20height%3A%20100%25%7D%0A.ant-root%20*%2C%20.ant-root%20%3A%3Abefore%2C%20.ant-root%20%3A%3Aafter%20%7Bbox-sizing%3A%20border-box%7D%0A.ant-root%20%7Btext-size-adjust%3A%20100%25%3B%20-webkit-tap-highlight-color%3A%20rgba(0%2C%200%2C%200%2C%200)%3B%20font-family%3A%20-apple-system%2C%20BlinkMacSystemFont%2C%20%22Segoe%20UI%22%2C%20Roboto%2C%20%22Helvetica%20Neue%22%2C%20Arial%2C%20%22Noto%20Sans%22%2C%20sans-serif%2C%20%22Apple%20Color%20Emoji%22%2C%20%22Segoe%20UI%20Emoji%22%2C%20%22Segoe%20UI%20Symbol%22%2C%20%22Noto%20Color%20Emoji%22%3B%20line-height%3A%201.66667%3B%20color%3A%20rgb(89%2C%2089%2C%2089)%3B%20font-variant-ligatures%3A%20normal%3B%20font-variant-numeric%3A%20tabular-nums%3B%20font-variant-east-asian%3A%20normal%3B%20font-variant-caps%3A%20normal%3B%20font-variant-alternates%3A%20normal%3B%20background-color%3A%20rgb(255%2C%20255%2C%20255)%3B%20margin-top%3A%200px%3B%20margin-right%3A%200px%3B%20margin-bottom%3A%200px%3B%20margin-left%3A%200px%3B%20font-size%3A%2012px%3B%20--antd-wave-shadow-color%3A%20%231890ff%3B%20--scroll-bar%3A%200%7D%0A.ant-root%20a%20%7Bcolor%3A%20rgb(24%2C%20144%2C%20255)%3B%20cursor%3A%20pointer%3B%20background-color%3A%20rgba(0%2C%200%2C%200%2C%200)%3B%20outline-color%3A%20initial%3B%20outline-style%3A%20none%3B%20outline-width%3A%20initial%3B%20text-decoration-line%3A%20none%3B%20text-decoration-thickness%3A%20initial%3B%20text-decoration-style%3A%20initial%3B%20text-decoration-color%3A%20initial%3B%20transition-duration%3A%200.3s%3B%20transition-timing-function%3A%20ease%3B%20transition-delay%3A%200s%3B%20transition-property%3A%20color%7D%0A.ant-root%20svg%3Anot(%3Aroot)%20%7Boverflow-x%3A%20hidden%3B%20overflow-y%3A%20hidden%7D%0A.ant-root%20a%2C%20.ant-root%20area%2C%20.ant-root%20button%2C%20.ant-root%20%5Brole%3D%22button%22%5D%2C%20.ant-root%20input%3Anot(%5Btype%3D%22range%22%5D)%2C%20.ant-root%20label%2C%20.ant-root%20select%2C%20.ant-root%20summary%2C%20.ant-root%20textarea%20%7Btouch-action%3A%20manipulation%7D%0A.css-12ebr42-AWidget%20%7Bheight%3A%20100%25%7D%0A.css-1b1raxz-DefaultWidgetLoadingOverlay%20%7Bdisplay%3A%20flex%3B%20height%3A%20100%25%3B%20-webkit-box-pack%3A%20center%3B%20justify-content%3A%20center%3B%20position%3A%20absolute%3B%20width%3A%20100%25%3B%20-webkit-box-align%3A%20center%3B%20align-items%3A%20center%3B%20pointer-events%3A%20none%3B%20z-index%3A%202%7D%0A.css-34a2ml-DefaultWidgetLoadingOverlay%20%7Bbackground-image%3A%20initial%3B%20background-position-x%3A%20initial%3B%20background-position-y%3A%20initial%3B%20background-size%3A%20initial%3B%20background-repeat-x%3A%20initial%3B%20background-repeat-y%3A%20initial%3B%20background-attachment%3A%20initial%3B%20background-origin%3A%20initial%3B%20background-clip%3A%20initial%3B%20background-color%3A%20transparent%3B%20width%3A%20calc(100%25%20-%204px)%3B%20height%3A%20calc(100%25%20-%204px)%7D%0A.css-13w0jw1-WidgetLoadingOverlay-ChartWithLoadingOverlay%20%7Bposition%3A%20relative%3B%20height%3A%20100%25%7D%0A.css-1u8fyhz-ChartWithMetaData%20%7Bheight%3A%20100%25%7D%0A.css-znpfyj-Plot%20%7Bheight%3A%20100%25%3B%20position%3A%20relative%3B%20width%3A%20100%25%7D%0A.css-mb8m0v-Plot%20%7Bposition%3A%20absolute%3B%20top%3A%200px%3B%20bottom%3A%200px%3B%20left%3A%200px%3B%20right%3A%200px%7D%0A.css-mb8m0v-Plot%20.js-plotly-plot%20%7Bheight%3A%20100%25%7D%0A.js-plotly-plot%20.plotly%20.modebar-btn%20svg%20%7Bposition%3A%20relative%3B%20top%3A%202px%7D%0A.js-plotly-plot%20.plotly%20.modebar-btn%20%7Bposition%3A%20relative%3B%20font-size%3A%2016px%3B%20padding-top%3A%203px%3B%20padding-right%3A%204px%3B%20padding-bottom%3A%203px%3B%20padding-left%3A%204px%3B%20height%3A%2022px%3B%20cursor%3A%20pointer%3B%20line-height%3A%20normal%3B%20box-sizing%3A%20border-box%7D%0A.js-plotly-plot%20.plotly%20.modebar-group%20%7Bfloat%3A%20left%3B%20display%3A%20inline-block%3B%20box-sizing%3A%20border-box%3B%20padding-left%3A%208px%3B%20position%3A%20relative%3B%20vertical-align%3A%20middle%3B%20white-space%3A%20nowrap%7D%0A.js-plotly-plot%20.plotly%20.modebar--hover%20%26gt%3B%20%3Anot(.watermark)%20%7Bopacity%3A%200%3B%20transition-duration%3A%200.3s%3B%20transition-timing-function%3A%20ease%3B%20transition-delay%3A%200s%3B%20transition-property%3A%20opacity%7D%0A.js-plotly-plot%20.plotly%20.ease-bg%20%7Btransition-duration%3A%200.3s%3B%20transition-timing-function%3A%20ease%3B%20transition-delay%3A%200s%3B%20transition-property%3A%20background-color%7D%0A.js-plotly-plot%20.plotly%20.modebar%20%7Bposition%3A%20absolute%3B%20top%3A%202px%3B%20right%3A%202px%7D%0A.js-plotly-plot%20.plotly%20.cursor-ne-resize%20%7Bcursor%3A%20ne-resize%7D%0A.js-plotly-plot%20.plotly%20.cursor-n-resize%20%7Bcursor%3A%20n-resize%7D%0A.js-plotly-plot%20.plotly%20.cursor-nw-resize%20%7Bcursor%3A%20nw-resize%7D%0A.js-plotly-plot%20.plotly%20.cursor-e-resize%20%7Bcursor%3A%20e-resize%7D%0A.js-plotly-plot%20.plotly%20.cursor-w-resize%20%7Bcursor%3A%20w-resize%7D%0A.js-plotly-plot%20.plotly%20.cursor-se-resize%20%7Bcursor%3A%20se-resize%7D%0A.js-plotly-plot%20.plotly%20.cursor-s-resize%20%7Bcursor%3A%20s-resize%7D%0A.js-plotly-plot%20.plotly%20.cursor-sw-resize%20%7Bcursor%3A%20sw-resize%7D%0A.js-plotly-plot%20.plotly%20.cursor-ew-resize%20%7Bcursor%3A%20ew-resize%7D%0A.js-plotly-plot%20.plotly%20.cursor-ns-resize%20%7Bcursor%3A%20ns-resize%7D%0A.js-plotly-plot%20.plotly%20.cursor-crosshair%20%7Bcursor%3A%20crosshair%7D%0A.js-plotly-plot%20.plotly%20.main-svg%20.draglayer%20%7Bpointer-events%3A%20all%7D%0A.js-plotly-plot%20.plotly%20.main-svg%20%7Bposition%3A%20absolute%3B%20top%3A%200px%3B%20left%3A%200px%3B%20pointer-events%3A%20none%7D%0A.js-plotly-plot%20.plotly%20svg%20%7Boverflow-x%3A%20hidden%3B%20overflow-y%3A%20hidden%7D%0A.js-plotly-plot%20.plotly%20.user-select-none%20%7Buser-select%3A%20none%7D%0A.js-plotly-plot%20.plotly%20.crisp%20%7Bshape-rendering%3A%20crispedges%7D%0A.js-plotly-plot%20.plotly%20a%20%7Btext-decoration-line%3A%20none%3B%20text-decoration-thickness%3A%20initial%3B%20text-decoration-style%3A%20initial%3B%20text-decoration-color%3A%20initial%7D%0A.js-plotly-plot%20.plotly%2C%20.js-plotly-plot%20.plotly%20div%20%7Bdirection%3A%20ltr%3B%20font-family%3A%20%22Open%20Sans%22%2C%20verdana%2C%20arial%2C%20sans-serif%3B%20margin-top%3A%200px%3B%20margin-right%3A%200px%3B%20margin-bottom%3A%200px%3B%20margin-left%3A%200px%3B%20padding-top%3A%200px%3B%20padding-right%3A%200px%3B%20padding-bottom%3A%200px%3B%20padding-left%3A%200px%7D%0A%23modebar-8f02f0%20.modebar-btn.active%20.icon%20path%20%7Bfill%3A%20rgba(68%2C%2068%2C%2068%2C%200.7)%7D%0A%23modebar-8f02f0%20.modebar-btn%20.icon%20path%20%7Bfill%3A%20rgba(68%2C%2068%2C%2068%2C%200.3)%7D%0A*%20%7B-ms-overflow-style%3A%20none%3B%20scrollbar-width%3A%20none%7D%0A*%3A%3A-webkit-scrollbar%20%7Bdisplay%3A%20none%7D%0A.atoti-hidden-in-snapshot%20%7Bdisplay%3A%20none%7D%3C%2Fstyle%3E%3Cdiv%20xmlns%3D%22http%3A%2F%2Fwww.w3.org%2F1999%2Fxhtml%22%20style%3D%22height%3A%20655px%3B%20width%3A%201310px%3B%22%3E%3Cdiv%20class%3D%22ant-root%20css-0%22%3E%3Cdiv%20class%3D%22ant-dropdown-trigger%20css-12ebr42-AWidget%22%3E%3Cdiv%20class%3D%22css-13w0jw1-WidgetLoadingOverlay-ChartWithLoadingOverlay%22%3E%3Cdiv%20class%3D%22css-1b1raxz-DefaultWidgetLoadingOverlay%22%3E%3Cdiv%20class%3D%22css-34a2ml-DefaultWidgetLoadingOverlay%22%3E%3C%2Fdiv%3E%3C%2Fdiv%3E%3Cdiv%20class%3D%22css-1u8fyhz-ChartWithMetaData%22%3E%3Cdiv%20tabindex%3D%220%22%20class%3D%22css-znpfyj-Plot%22%3E%3Cdiv%20class%3D%22css-mb8m0v-Plot%22%3E%3Cdiv%20style%3D%22position%3A%20relative%3B%20display%3A%20inline-block%3B%22%20class%3D%22js-plotly-plot%22%3E%3Cdiv%20class%3D%22plot-container%20plotly%22%3E%3Cdiv%20class%3D%22user-select-none%20svg-container%22%20style%3D%22position%3A%20relative%3B%20width%3A%201310px%3B%20height%3A%20655px%3B%22%3E%3Csvg%20class%3D%22main-svg%22%20xmlns%3D%22http%3A%2F%2Fwww.w3.org%2F2000%2Fsvg%22%20xmlns%3Axlink%3D%22http%3A%2F%2Fwww.w3.org%2F1999%2Fxlink%22%20width%3D%221310%22%20height%3D%22655%22%20style%3D%22background%3A%20rgb(255%2C%20255%2C%20255)%3B%22%3E%3Cdefs%20id%3D%22defs-8f02f0%22%3E%3Cg%20class%3D%22clips%22%3E%3CclipPath%20id%3D%22clip8f02f0xyplot%22%20class%3D%22plotclip%22%3E%3Crect%20width%3D%22316.00000000000006%22%20height%3D%22151.66666666666669%22%2F%3E%3C%2FclipPath%3E%3CclipPath%20id%3D%22clip8f02f0xy3plot%22%20class%3D%22plotclip%22%3E%3Crect%20width%3D%22316.00000000000006%22%20height%3D%22151.66666666666663%22%2F%3E%3C%2FclipPath%3E%3CclipPath%20id%3D%22clip8f02f0xy5plot%22%20class%3D%22plotclip%22%3E%3Crect%20width%3D%22316.00000000000006%22%20height%3D%22151.66666666666666%22%2F%3E%3C%2FclipPath%3E%3CclipPath%20id%3D%22clip8f02f0x2yplot%22%20class%3D%22plotclip%22%3E%3Crect%20width%3D%22316.00000000000006%22%20height%3D%22151.66666666666669%22%2F%3E%3C%2FclipPath%3E%3CclipPath%20id%3D%22clip8f02f0x2y3plot%22%20class%3D%22plotclip%22%3E%3Crect%20width%3D%22316.00000000000006%22%20height%3D%22151.66666666666663%22%2F%3E%3C%2FclipPath%3E%3CclipPath%20id%3D%22clip8f02f0x2y5plot%22%20class%3D%22plotclip%22%3E%3Crect%20width%3D%22316.00000000000006%22%20height%3D%22151.66666666666666%22%2F%3E%3C%2FclipPath%3E%3CclipPath%20id%3D%22clip8f02f0x3yplot%22%20class%3D%22plotclip%22%3E%3Crect%20width%3D%22316%22%20height%3D%22151.66666666666669%22%2F%3E%3C%2FclipPath%3E%3CclipPath%20id%3D%22clip8f02f0x3y3plot%22%20class%3D%22plotclip%22%3E%3Crect%20width%3D%22316%22%20height%3D%22151.66666666666663%22%2F%3E%3C%2FclipPath%3E%3CclipPath%20id%3D%22clip8f02f0x3y5plot%22%20class%3D%22plotclip%22%3E%3Crect%20width%3D%22316%22%20height%3D%22151.66666666666666%22%2F%3E%3C%2FclipPath%3E%3CclipPath%20class%3D%22axesclip%22%20id%3D%22clip8f02f0x%22%3E%3Crect%20x%3D%2280%22%20y%3D%220%22%20width%3D%22316.00000000000006%22%20height%3D%22655%22%2F%3E%3C%2FclipPath%3E%3CclipPath%20class%3D%22axesclip%22%20id%3D%22clip8f02f0y%22%3E%3Crect%20x%3D%220%22%20y%3D%2230%22%20width%3D%221310%22%20height%3D%22151.66666666666669%22%2F%3E%3C%2FclipPath%3E%3CclipPath%20class%3D%22axesclip%22%20id%3D%22clip8f02f0xy%22%3E%3Crect%20x%3D%2280%22%20y%3D%2230%22%20width%3D%22316.00000000000006%22%20height%3D%22151.66666666666669%22%2F%3E%3C%2FclipPath%3E%3CclipPath%20class%3D%22axesclip%22%20id%3D%22clip8f02f0y3%22%3E%3Crect%20x%3D%220%22%20y%3D%22246.6666666666667%22%20width%3D%221310%22%20height%3D%22151.66666666666663%22%2F%3E%3C%2FclipPath%3E%3CclipPath%20class%3D%22axesclip%22%20id%3D%22clip8f02f0xy3%22%3E%3Crect%20x%3D%2280%22%20y%3D%22246.6666666666667%22%20width%3D%22316.00000000000006%22%20height%3D%22151.66666666666663%22%2F%3E%3C%2FclipPath%3E%3CclipPath%20class%3D%22axesclip%22%20id%3D%22clip8f02f0y5%22%3E%3Crect%20x%3D%220%22%20y%3D%22463.3333333333333%22%20width%3D%221310%22%20height%3D%22151.66666666666666%22%2F%3E%3C%2FclipPath%3E%3CclipPath%20class%3D%22axesclip%22%20id%3D%22clip8f02f0xy5%22%3E%3Crect%20x%3D%2280%22%20y%3D%22463.3333333333333%22%20width%3D%22316.00000000000006%22%20height%3D%22151.66666666666666%22%2F%3E%3C%2FclipPath%3E%3CclipPath%20class%3D%22axesclip%22%20id%3D%22clip8f02f0x2%22%3E%3Crect%20x%3D%22475%22%20y%3D%220%22%20width%3D%22316.00000000000006%22%20height%3D%22655%22%2F%3E%3C%2FclipPath%3E%3CclipPath%20class%3D%22axesclip%22%20id%3D%22clip8f02f0x2y%22%3E%3Crect%20x%3D%22475%22%20y%3D%2230%22%20width%3D%22316.00000000000006%22%20height%3D%22151.66666666666669%22%2F%3E%3C%2FclipPath%3E%3CclipPath%20class%3D%22axesclip%22%20id%3D%22clip8f02f0x2y3%22%3E%3Crect%20x%3D%22475%22%20y%3D%22246.6666666666667%22%20width%3D%22316.00000000000006%22%20height%3D%22151.66666666666663%22%2F%3E%3C%2FclipPath%3E%3CclipPath%20class%3D%22axesclip%22%20id%3D%22clip8f02f0x2y5%22%3E%3Crect%20x%3D%22475%22%20y%3D%22463.3333333333333%22%20width%3D%22316.00000000000006%22%20height%3D%22151.66666666666666%22%2F%3E%3C%2FclipPath%3E%3CclipPath%20class%3D%22axesclip%22%20id%3D%22clip8f02f0x3%22%3E%3Crect%20x%3D%22870%22%20y%3D%220%22%20width%3D%22316%22%20height%3D%22655%22%2F%3E%3C%2FclipPath%3E%3CclipPath%20class%3D%22axesclip%22%20id%3D%22clip8f02f0x3y%22%3E%3Crect%20x%3D%22870%22%20y%3D%2230%22%20width%3D%22316%22%20height%3D%22151.66666666666669%22%2F%3E%3C%2FclipPath%3E%3CclipPath%20class%3D%22axesclip%22%20id%3D%22clip8f02f0x3y3%22%3E%3Crect%20x%3D%22870%22%20y%3D%22246.6666666666667%22%20width%3D%22316%22%20height%3D%22151.66666666666663%22%2F%3E%3C%2FclipPath%3E%3CclipPath%20class%3D%22axesclip%22%20id%3D%22clip8f02f0x3y5%22%3E%3Crect%20x%3D%22870%22%20y%3D%22463.3333333333333%22%20width%3D%22316%22%20height%3D%22151.66666666666666%22%2F%3E%3C%2FclipPath%3E%3C%2Fg%3E%3Cg%20class%3D%22gradients%22%2F%3E%3C%2Fdefs%3E%3Cg%20class%3D%22bglayer%22%2F%3E%3Cg%20class%3D%22draglayer%20cursor-crosshair%22%3E%3Cg%20class%3D%22xy%22%3E%3Crect%20class%3D%22nsewdrag%20drag%22%20data-subplot%3D%22xy%22%20x%3D%2280%22%20y%3D%2230%22%20width%3D%22316.00000000000006%22%20height%3D%22151.66666666666669%22%20style%3D%22fill%3A%20transparent%3B%20stroke-width%3A%200%3B%20pointer-events%3A%20all%3B%22%2F%3E%3Crect%20class%3D%22nwdrag%20drag%20cursor-nw-resize%22%20data-subplot%3D%22xy%22%20x%3D%2260%22%20y%3D%2210%22%20width%3D%2220%22%20height%3D%2220%22%20style%3D%22fill%3A%20transparent%3B%20stroke-width%3A%200%3B%20pointer-events%3A%20all%3B%22%2F%3E%3Crect%20class%3D%22nedrag%20drag%20cursor-ne-resize%22%20data-subplot%3D%22xy%22%20x%3D%22396.00000000000006%22%20y%3D%2210%22%20width%3D%2220%22%20height%3D%2220%22%20style%3D%22fill%3A%20transparent%3B%20stroke-width%3A%200%3B%20pointer-events%3A%20all%3B%22%2F%3E%3Crect%20class%3D%22swdrag%20drag%20cursor-sw-resize%22%20data-subplot%3D%22xy%22%20x%3D%2260%22%20y%3D%22181.66666666666669%22%20width%3D%2220%22%20height%3D%2220%22%20style%3D%22fill%3A%20transparent%3B%20stroke-width%3A%200%3B%20pointer-events%3A%20all%3B%22%2F%3E%3Crect%20class%3D%22sedrag%20drag%20cursor-se-resize%22%20data-subplot%3D%22xy%22%20x%3D%22396.00000000000006%22%20y%3D%22181.66666666666669%22%20width%3D%2220%22%20height%3D%2220%22%20style%3D%22fill%3A%20transparent%3B%20stroke-width%3A%200%3B%20pointer-events%3A%20all%3B%22%2F%3E%3Crect%20class%3D%22nsdrag%20drag%20cursor-ns-resize%22%20data-subplot%3D%22xy%22%20x%3D%2259.5%22%20y%3D%2245.16666666666667%22%20width%3D%2220%22%20height%3D%22121.33333333333336%22%20style%3D%22fill%3A%20transparent%3B%20stroke-width%3A%200%3B%20pointer-events%3A%20all%3B%22%2F%3E%3Crect%20class%3D%22sdrag%20drag%20cursor-s-resize%22%20data-subplot%3D%22xy%22%20x%3D%2259.5%22%20y%3D%22166.50000000000003%22%20width%3D%2220%22%20height%3D%2215.16666666666667%22%20style%3D%22fill%3A%20transparent%3B%20stroke-width%3A%200%3B%20pointer-events%3A%20all%3B%22%2F%3E%3Crect%20class%3D%22ndrag%20drag%20cursor-n-resize%22%20data-subplot%3D%22xy%22%20x%3D%2259.5%22%20y%3D%2230%22%20width%3D%2220%22%20height%3D%2215.16666666666667%22%20style%3D%22fill%3A%20transparent%3B%20stroke-width%3A%200%3B%20pointer-events%3A%20all%3B%22%2F%3E%3C%2Fg%3E%3Cg%20class%3D%22xy3%22%3E%3Crect%20class%3D%22nsewdrag%20drag%22%20data-subplot%3D%22xy3%22%20x%3D%2280%22%20y%3D%22246.6666666666667%22%20width%3D%22316.00000000000006%22%20height%3D%22151.66666666666663%22%20style%3D%22fill%3A%20transparent%3B%20stroke-width%3A%200%3B%20pointer-events%3A%20all%3B%22%2F%3E%3Crect%20class%3D%22nwdrag%20drag%20cursor-nw-resize%22%20data-subplot%3D%22xy3%22%20x%3D%2260%22%20y%3D%22226.6666666666667%22%20width%3D%2220%22%20height%3D%2220%22%20style%3D%22fill%3A%20transparent%3B%20stroke-width%3A%200%3B%20pointer-events%3A%20all%3B%22%2F%3E%3Crect%20class%3D%22nedrag%20drag%20cursor-ne-resize%22%20data-subplot%3D%22xy3%22%20x%3D%22396.00000000000006%22%20y%3D%22226.6666666666667%22%20width%3D%2220%22%20height%3D%2220%22%20style%3D%22fill%3A%20transparent%3B%20stroke-width%3A%200%3B%20pointer-events%3A%20all%3B%22%2F%3E%3Crect%20class%3D%22swdrag%20drag%20cursor-sw-resize%22%20data-subplot%3D%22xy3%22%20x%3D%2260%22%20y%3D%22398.33333333333337%22%20width%3D%2220%22%20height%3D%2220%22%20style%3D%22fill%3A%20transparent%3B%20stroke-width%3A%200%3B%20pointer-events%3A%20all%3B%22%2F%3E%3Crect%20class%3D%22sedrag%20drag%20cursor-se-resize%22%20data-subplot%3D%22xy3%22%20x%3D%22396.00000000000006%22%20y%3D%22398.33333333333337%22%20width%3D%2220%22%20height%3D%2220%22%20style%3D%22fill%3A%20transparent%3B%20stroke-width%3A%200%3B%20pointer-events%3A%20all%3B%22%2F%3E%3Crect%20class%3D%22nsdrag%20drag%20cursor-ns-resize%22%20data-subplot%3D%22xy3%22%20x%3D%2259.5%22%20y%3D%22261.83333333333337%22%20width%3D%2220%22%20height%3D%22121.33333333333331%22%20style%3D%22fill%3A%20transparent%3B%20stroke-width%3A%200%3B%20pointer-events%3A%20all%3B%22%2F%3E%3Crect%20class%3D%22sdrag%20drag%20cursor-s-resize%22%20data-subplot%3D%22xy3%22%20x%3D%2259.5%22%20y%3D%22383.1666666666667%22%20width%3D%2220%22%20height%3D%2215.166666666666664%22%20style%3D%22fill%3A%20transparent%3B%20stroke-width%3A%200%3B%20pointer-events%3A%20all%3B%22%2F%3E%3Crect%20class%3D%22ndrag%20drag%20cursor-n-resize%22%20data-subplot%3D%22xy3%22%20x%3D%2259.5%22%20y%3D%22246.6666666666667%22%20width%3D%2220%22%20height%3D%2215.166666666666664%22%20style%3D%22fill%3A%20transparent%3B%20stroke-width%3A%200%3B%20pointer-events%3A%20all%3B%22%2F%3E%3C%2Fg%3E%3Cg%20class%3D%22xy5%22%3E%3Crect%20class%3D%22nsewdrag%20drag%22%20data-subplot%3D%22xy5%22%20x%3D%2280%22%20y%3D%22463.3333333333333%22%20width%3D%22316.00000000000006%22%20height%3D%22151.66666666666666%22%20style%3D%22fill%3A%20transparent%3B%20stroke-width%3A%200%3B%20pointer-events%3A%20all%3B%22%2F%3E%3Crect%20class%3D%22nwdrag%20drag%20cursor-nw-resize%22%20data-subplot%3D%22xy5%22%20x%3D%2260%22%20y%3D%22443.3333333333333%22%20width%3D%2220%22%20height%3D%2220%22%20style%3D%22fill%3A%20transparent%3B%20stroke-width%3A%200%3B%20pointer-events%3A%20all%3B%22%2F%3E%3Crect%20class%3D%22nedrag%20drag%20cursor-ne-resize%22%20data-subplot%3D%22xy5%22%20x%3D%22396.00000000000006%22%20y%3D%22443.3333333333333%22%20width%3D%2220%22%20height%3D%2220%22%20style%3D%22fill%3A%20transparent%3B%20stroke-width%3A%200%3B%20pointer-events%3A%20all%3B%22%2F%3E%3Crect%20class%3D%22swdrag%20drag%20cursor-sw-resize%22%20data-subplot%3D%22xy5%22%20x%3D%2260%22%20y%3D%22615%22%20width%3D%2220%22%20height%3D%2220%22%20style%3D%22fill%3A%20transparent%3B%20stroke-width%3A%200%3B%20pointer-events%3A%20all%3B%22%2F%3E%3Crect%20class%3D%22sedrag%20drag%20cursor-se-resize%22%20data-subplot%3D%22xy5%22%20x%3D%22396.00000000000006%22%20y%3D%22615%22%20width%3D%2220%22%20height%3D%2220%22%20style%3D%22fill%3A%20transparent%3B%20stroke-width%3A%200%3B%20pointer-events%3A%20all%3B%22%2F%3E%3Crect%20class%3D%22ewdrag%20drag%20cursor-ew-resize%22%20data-subplot%3D%22xy5%22%20x%3D%22111.60000000000001%22%20y%3D%22615.5%22%20width%3D%22252.80000000000007%22%20height%3D%2220%22%20style%3D%22fill%3A%20transparent%3B%20stroke-width%3A%200%3B%20pointer-events%3A%20all%3B%22%2F%3E%3Crect%20class%3D%22wdrag%20drag%20cursor-w-resize%22%20data-subplot%3D%22xy5%22%20x%3D%2280%22%20y%3D%22615.5%22%20width%3D%2231.60000000000001%22%20height%3D%2220%22%20style%3D%22fill%3A%20transparent%3B%20stroke-width%3A%200%3B%20pointer-events%3A%20all%3B%22%2F%3E%3Crect%20class%3D%22edrag%20drag%20cursor-e-resize%22%20data-subplot%3D%22xy5%22%20x%3D%22364.40000000000003%22%20y%3D%22615.5%22%20width%3D%2231.60000000000001%22%20height%3D%2220%22%20style%3D%22fill%3A%20transparent%3B%20stroke-width%3A%200%3B%20pointer-events%3A%20all%3B%22%2F%3E%3Crect%20class%3D%22nsdrag%20drag%20cursor-ns-resize%22%20data-subplot%3D%22xy5%22%20x%3D%2259.5%22%20y%3D%22478.5%22%20width%3D%2220%22%20height%3D%22121.33333333333333%22%20style%3D%22fill%3A%20transparent%3B%20stroke-width%3A%200%3B%20pointer-events%3A%20all%3B%22%2F%3E%3Crect%20class%3D%22sdrag%20drag%20cursor-s-resize%22%20data-subplot%3D%22xy5%22%20x%3D%2259.5%22%20y%3D%22599.8333333333333%22%20width%3D%2220%22%20height%3D%2215.166666666666666%22%20style%3D%22fill%3A%20transparent%3B%20stroke-width%3A%200%3B%20pointer-events%3A%20all%3B%22%2F%3E%3Crect%20class%3D%22ndrag%20drag%20cursor-n-resize%22%20data-subplot%3D%22xy5%22%20x%3D%2259.5%22%20y%3D%22463.3333333333333%22%20width%3D%2220%22%20height%3D%2215.166666666666666%22%20style%3D%22fill%3A%20transparent%3B%20stroke-width%3A%200%3B%20pointer-events%3A%20all%3B%22%2F%3E%3C%2Fg%3E%3Cg%20class%3D%22x2y%22%3E%3Crect%20class%3D%22nsewdrag%20drag%22%20data-subplot%3D%22x2y%22%20x%3D%22475%22%20y%3D%2230%22%20width%3D%22316.00000000000006%22%20height%3D%22151.66666666666669%22%20style%3D%22fill%3A%20transparent%3B%20stroke-width%3A%200%3B%20pointer-events%3A%20all%3B%22%2F%3E%3Crect%20class%3D%22nwdrag%20drag%20cursor-nw-resize%22%20data-subplot%3D%22x2y%22%20x%3D%22455%22%20y%3D%2210%22%20width%3D%2220%22%20height%3D%2220%22%20style%3D%22fill%3A%20transparent%3B%20stroke-width%3A%200%3B%20pointer-events%3A%20all%3B%22%2F%3E%3Crect%20class%3D%22nedrag%20drag%20cursor-ne-resize%22%20data-subplot%3D%22x2y%22%20x%3D%22791%22%20y%3D%2210%22%20width%3D%2220%22%20height%3D%2220%22%20style%3D%22fill%3A%20transparent%3B%20stroke-width%3A%200%3B%20pointer-events%3A%20all%3B%22%2F%3E%3Crect%20class%3D%22swdrag%20drag%20cursor-sw-resize%22%20data-subplot%3D%22x2y%22%20x%3D%22455%22%20y%3D%22181.66666666666669%22%20width%3D%2220%22%20height%3D%2220%22%20style%3D%22fill%3A%20transparent%3B%20stroke-width%3A%200%3B%20pointer-events%3A%20all%3B%22%2F%3E%3Crect%20class%3D%22sedrag%20drag%20cursor-se-resize%22%20data-subplot%3D%22x2y%22%20x%3D%22791%22%20y%3D%22181.66666666666669%22%20width%3D%2220%22%20height%3D%2220%22%20style%3D%22fill%3A%20transparent%3B%20stroke-width%3A%200%3B%20pointer-events%3A%20all%3B%22%2F%3E%3C%2Fg%3E%3Cg%20class%3D%22x2y3%22%3E%3Crect%20class%3D%22nsewdrag%20drag%22%20data-subplot%3D%22x2y3%22%20x%3D%22475%22%20y%3D%22246.6666666666667%22%20width%3D%22316.00000000000006%22%20height%3D%22151.66666666666663%22%20style%3D%22fill%3A%20transparent%3B%20stroke-width%3A%200%3B%20pointer-events%3A%20all%3B%22%2F%3E%3Crect%20class%3D%22nwdrag%20drag%20cursor-nw-resize%22%20data-subplot%3D%22x2y3%22%20x%3D%22455%22%20y%3D%22226.6666666666667%22%20width%3D%2220%22%20height%3D%2220%22%20style%3D%22fill%3A%20transparent%3B%20stroke-width%3A%200%3B%20pointer-events%3A%20all%3B%22%2F%3E%3Crect%20class%3D%22nedrag%20drag%20cursor-ne-resize%22%20data-subplot%3D%22x2y3%22%20x%3D%22791%22%20y%3D%22226.6666666666667%22%20width%3D%2220%22%20height%3D%2220%22%20style%3D%22fill%3A%20transparent%3B%20stroke-width%3A%200%3B%20pointer-events%3A%20all%3B%22%2F%3E%3Crect%20class%3D%22swdrag%20drag%20cursor-sw-resize%22%20data-subplot%3D%22x2y3%22%20x%3D%22455%22%20y%3D%22398.33333333333337%22%20width%3D%2220%22%20height%3D%2220%22%20style%3D%22fill%3A%20transparent%3B%20stroke-width%3A%200%3B%20pointer-events%3A%20all%3B%22%2F%3E%3Crect%20class%3D%22sedrag%20drag%20cursor-se-resize%22%20data-subplot%3D%22x2y3%22%20x%3D%22791%22%20y%3D%22398.33333333333337%22%20width%3D%2220%22%20height%3D%2220%22%20style%3D%22fill%3A%20transparent%3B%20stroke-width%3A%200%3B%20pointer-events%3A%20all%3B%22%2F%3E%3C%2Fg%3E%3Cg%20class%3D%22x2y5%22%3E%3Crect%20class%3D%22nsewdrag%20drag%22%20data-subplot%3D%22x2y5%22%20x%3D%22475%22%20y%3D%22463.3333333333333%22%20width%3D%22316.00000000000006%22%20height%3D%22151.66666666666666%22%20style%3D%22fill%3A%20transparent%3B%20stroke-width%3A%200%3B%20pointer-events%3A%20all%3B%22%2F%3E%3Crect%20class%3D%22nwdrag%20drag%20cursor-nw-resize%22%20data-subplot%3D%22x2y5%22%20x%3D%22455%22%20y%3D%22443.3333333333333%22%20width%3D%2220%22%20height%3D%2220%22%20style%3D%22fill%3A%20transparent%3B%20stroke-width%3A%200%3B%20pointer-events%3A%20all%3B%22%2F%3E%3Crect%20class%3D%22nedrag%20drag%20cursor-ne-resize%22%20data-subplot%3D%22x2y5%22%20x%3D%22791%22%20y%3D%22443.3333333333333%22%20width%3D%2220%22%20height%3D%2220%22%20style%3D%22fill%3A%20transparent%3B%20stroke-width%3A%200%3B%20pointer-events%3A%20all%3B%22%2F%3E%3Crect%20class%3D%22swdrag%20drag%20cursor-sw-resize%22%20data-subplot%3D%22x2y5%22%20x%3D%22455%22%20y%3D%22615%22%20width%3D%2220%22%20height%3D%2220%22%20style%3D%22fill%3A%20transparent%3B%20stroke-width%3A%200%3B%20pointer-events%3A%20all%3B%22%2F%3E%3Crect%20class%3D%22sedrag%20drag%20cursor-se-resize%22%20data-subplot%3D%22x2y5%22%20x%3D%22791%22%20y%3D%22615%22%20width%3D%2220%22%20height%3D%2220%22%20style%3D%22fill%3A%20transparent%3B%20stroke-width%3A%200%3B%20pointer-events%3A%20all%3B%22%2F%3E%3Crect%20class%3D%22ewdrag%20drag%20cursor-ew-resize%22%20data-subplot%3D%22x2y5%22%20x%3D%22506.6%22%20y%3D%22615.5%22%20width%3D%22252.80000000000007%22%20height%3D%2220%22%20style%3D%22fill%3A%20transparent%3B%20stroke-width%3A%200%3B%20pointer-events%3A%20all%3B%22%2F%3E%3Crect%20class%3D%22wdrag%20drag%20cursor-w-resize%22%20data-subplot%3D%22x2y5%22%20x%3D%22475%22%20y%3D%22615.5%22%20width%3D%2231.60000000000001%22%20height%3D%2220%22%20style%3D%22fill%3A%20transparent%3B%20stroke-width%3A%200%3B%20pointer-events%3A%20all%3B%22%2F%3E%3Crect%20class%3D%22edrag%20drag%20cursor-e-resize%22%20data-subplot%3D%22x2y5%22%20x%3D%22759.4000000000001%22%20y%3D%22615.5%22%20width%3D%2231.60000000000001%22%20height%3D%2220%22%20style%3D%22fill%3A%20transparent%3B%20stroke-width%3A%200%3B%20pointer-events%3A%20all%3B%22%2F%3E%3C%2Fg%3E%3Cg%20class%3D%22x3y%22%3E%3Crect%20class%3D%22nsewdrag%20drag%22%20data-subplot%3D%22x3y%22%20x%3D%22870%22%20y%3D%2230%22%20width%3D%22316%22%20height%3D%22151.66666666666669%22%20style%3D%22fill%3A%20transparent%3B%20stroke-width%3A%200%3B%20pointer-events%3A%20all%3B%22%2F%3E%3Crect%20class%3D%22nwdrag%20drag%20cursor-nw-resize%22%20data-subplot%3D%22x3y%22%20x%3D%22850%22%20y%3D%2210%22%20width%3D%2220%22%20height%3D%2220%22%20style%3D%22fill%3A%20transparent%3B%20stroke-width%3A%200%3B%20pointer-events%3A%20all%3B%22%2F%3E%3Crect%20class%3D%22nedrag%20drag%20cursor-ne-resize%22%20data-subplot%3D%22x3y%22%20x%3D%221186%22%20y%3D%2210%22%20width%3D%2220%22%20height%3D%2220%22%20style%3D%22fill%3A%20transparent%3B%20stroke-width%3A%200%3B%20pointer-events%3A%20all%3B%22%2F%3E%3Crect%20class%3D%22swdrag%20drag%20cursor-sw-resize%22%20data-subplot%3D%22x3y%22%20x%3D%22850%22%20y%3D%22181.66666666666669%22%20width%3D%2220%22%20height%3D%2220%22%20style%3D%22fill%3A%20transparent%3B%20stroke-width%3A%200%3B%20pointer-events%3A%20all%3B%22%2F%3E%3Crect%20class%3D%22sedrag%20drag%20cursor-se-resize%22%20data-subplot%3D%22x3y%22%20x%3D%221186%22%20y%3D%22181.66666666666669%22%20width%3D%2220%22%20height%3D%2220%22%20style%3D%22fill%3A%20transparent%3B%20stroke-width%3A%200%3B%20pointer-events%3A%20all%3B%22%2F%3E%3C%2Fg%3E%3Cg%20class%3D%22x3y3%22%3E%3Crect%20class%3D%22nsewdrag%20drag%22%20data-subplot%3D%22x3y3%22%20x%3D%22870%22%20y%3D%22246.6666666666667%22%20width%3D%22316%22%20height%3D%22151.66666666666663%22%20style%3D%22fill%3A%20transparent%3B%20stroke-width%3A%200%3B%20pointer-events%3A%20all%3B%22%2F%3E%3Crect%20class%3D%22nwdrag%20drag%20cursor-nw-resize%22%20data-subplot%3D%22x3y3%22%20x%3D%22850%22%20y%3D%22226.6666666666667%22%20width%3D%2220%22%20height%3D%2220%22%20style%3D%22fill%3A%20transparent%3B%20stroke-width%3A%200%3B%20pointer-events%3A%20all%3B%22%2F%3E%3Crect%20class%3D%22nedrag%20drag%20cursor-ne-resize%22%20data-subplot%3D%22x3y3%22%20x%3D%221186%22%20y%3D%22226.6666666666667%22%20width%3D%2220%22%20height%3D%2220%22%20style%3D%22fill%3A%20transparent%3B%20stroke-width%3A%200%3B%20pointer-events%3A%20all%3B%22%2F%3E%3Crect%20class%3D%22swdrag%20drag%20cursor-sw-resize%22%20data-subplot%3D%22x3y3%22%20x%3D%22850%22%20y%3D%22398.33333333333337%22%20width%3D%2220%22%20height%3D%2220%22%20style%3D%22fill%3A%20transparent%3B%20stroke-width%3A%200%3B%20pointer-events%3A%20all%3B%22%2F%3E%3Crect%20class%3D%22sedrag%20drag%20cursor-se-resize%22%20data-subplot%3D%22x3y3%22%20x%3D%221186%22%20y%3D%22398.33333333333337%22%20width%3D%2220%22%20height%3D%2220%22%20style%3D%22fill%3A%20transparent%3B%20stroke-width%3A%200%3B%20pointer-events%3A%20all%3B%22%2F%3E%3C%2Fg%3E%3Cg%20class%3D%22x3y5%22%3E%3Crect%20class%3D%22nsewdrag%20drag%22%20data-subplot%3D%22x3y5%22%20x%3D%22870%22%20y%3D%22463.3333333333333%22%20width%3D%22316%22%20height%3D%22151.66666666666666%22%20style%3D%22fill%3A%20transparent%3B%20stroke-width%3A%200%3B%20pointer-events%3A%20all%3B%22%2F%3E%3Crect%20class%3D%22nwdrag%20drag%20cursor-nw-resize%22%20data-subplot%3D%22x3y5%22%20x%3D%22850%22%20y%3D%22443.3333333333333%22%20width%3D%2220%22%20height%3D%2220%22%20style%3D%22fill%3A%20transparent%3B%20stroke-width%3A%200%3B%20pointer-events%3A%20all%3B%22%2F%3E%3Crect%20class%3D%22nedrag%20drag%20cursor-ne-resize%22%20data-subplot%3D%22x3y5%22%20x%3D%221186%22%20y%3D%22443.3333333333333%22%20width%3D%2220%22%20height%3D%2220%22%20style%3D%22fill%3A%20transparent%3B%20stroke-width%3A%200%3B%20pointer-events%3A%20all%3B%22%2F%3E%3Crect%20class%3D%22swdrag%20drag%20cursor-sw-resize%22%20data-subplot%3D%22x3y5%22%20x%3D%22850%22%20y%3D%22615%22%20width%3D%2220%22%20height%3D%2220%22%20style%3D%22fill%3A%20transparent%3B%20stroke-width%3A%200%3B%20pointer-events%3A%20all%3B%22%2F%3E%3Crect%20class%3D%22sedrag%20drag%20cursor-se-resize%22%20data-subplot%3D%22x3y5%22%20x%3D%221186%22%20y%3D%22615%22%20width%3D%2220%22%20height%3D%2220%22%20style%3D%22fill%3A%20transparent%3B%20stroke-width%3A%200%3B%20pointer-events%3A%20all%3B%22%2F%3E%3Crect%20class%3D%22ewdrag%20drag%20cursor-ew-resize%22%20data-subplot%3D%22x3y5%22%20x%3D%22901.6%22%20y%3D%22615.5%22%20width%3D%22252.8%22%20height%3D%2220%22%20style%3D%22fill%3A%20transparent%3B%20stroke-width%3A%200%3B%20pointer-events%3A%20all%3B%22%2F%3E%3Crect%20class%3D%22wdrag%20drag%20cursor-w-resize%22%20data-subplot%3D%22x3y5%22%20x%3D%22870%22%20y%3D%22615.5%22%20width%3D%2231.6%22%20height%3D%2220%22%20style%3D%22fill%3A%20transparent%3B%20stroke-width%3A%200%3B%20pointer-events%3A%20all%3B%22%2F%3E%3Crect%20class%3D%22edrag%20drag%20cursor-e-resize%22%20data-subplot%3D%22x3y5%22%20x%3D%221154.4%22%20y%3D%22615.5%22%20width%3D%2231.6%22%20height%3D%2220%22%20style%3D%22fill%3A%20transparent%3B%20stroke-width%3A%200%3B%20pointer-events%3A%20all%3B%22%2F%3E%3C%2Fg%3E%3C%2Fg%3E%3Cg%20class%3D%22layer-below%22%3E%3Cg%20class%3D%22imagelayer%22%2F%3E%3Cg%20class%3D%22shapelayer%22%2F%3E%3C%2Fg%3E%3Cg%20class%3D%22cartesianlayer%22%3E%3Cg%20class%3D%22subplot%20xy%22%3E%3Cg%20class%3D%22layer-subplot%22%3E%3Cg%20class%3D%22shapelayer%22%2F%3E%3Cg%20class%3D%22imagelayer%22%2F%3E%3C%2Fg%3E%3Cg%20class%3D%22gridlayer%22%3E%3Cg%20class%3D%22x%22%3E%3Cpath%20class%3D%22xgrid%20crisp%22%20transform%3D%22translate(151.06%2C0)%22%20d%3D%22M0%2C30v151.66666666666669%22%20style%3D%22stroke%3A%20rgb(89%2C%2089%2C%2089)%3B%20stroke-opacity%3A%200.25%3B%20stroke-width%3A%201px%3B%22%2F%3E%3Cpath%20class%3D%22xgrid%20crisp%22%20transform%3D%22translate(274.73%2C0)%22%20d%3D%22M0%2C30v151.66666666666669%22%20style%3D%22stroke%3A%20rgb(89%2C%2089%2C%2089)%3B%20stroke-opacity%3A%200.25%3B%20stroke-width%3A%201px%3B%22%2F%3E%3C%2Fg%3E%3Cg%20class%3D%22y%22%3E%3Cpath%20class%3D%22ygrid%20crisp%22%20transform%3D%22translate(0%2C136.82999999999998)%22%20d%3D%22M80%2C0h316.00000000000006%22%20style%3D%22stroke%3A%20rgb(89%2C%2089%2C%2089)%3B%20stroke-opacity%3A%200.25%3B%20stroke-width%3A%201px%3B%22%2F%3E%3Cpath%20class%3D%22ygrid%20crisp%22%20transform%3D%22translate(0%2C67)%22%20d%3D%22M80%2C0h316.00000000000006%22%20style%3D%22stroke%3A%20rgb(89%2C%2089%2C%2089)%3B%20stroke-opacity%3A%200.25%3B%20stroke-width%3A%201px%3B%22%2F%3E%3C%2Fg%3E%3C%2Fg%3E%3Cg%20class%3D%22zerolinelayer%22%2F%3E%3Cpath%20class%3D%22xlines-below%22%2F%3E%3Cpath%20class%3D%22ylines-below%22%2F%3E%3Cg%20class%3D%22overlines-below%22%2F%3E%3Cg%20class%3D%22xaxislayer-below%22%2F%3E%3Cg%20class%3D%22yaxislayer-below%22%2F%3E%3Cg%20class%3D%22overaxes-below%22%2F%3E%3Cg%20class%3D%22plot%22%20transform%3D%22translate(80%2C30)%22%20clip-path%3D%22url('%23clip8f02f0xyplot')%22%3E%3Cg%20class%3D%22scatterlayer%20mlayer%22%3E%3Cg%20class%3D%22trace%20scatter%20trace5e5dab%22%20style%3D%22stroke-miterlimit%3A%202%3B%20opacity%3A%201%3B%22%3E%3Cg%20class%3D%22fills%22%2F%3E%3Cg%20class%3D%22errorbars%22%2F%3E%3Cg%20class%3D%22lines%22%2F%3E%3Cg%20class%3D%22points%22%3E%3Cpath%20class%3D%22point%22%20transform%3D%22translate(71.74%2C69.38)%22%20d%3D%22M38.01%2C0A38.01%2C38.01%200%201%2C1%200%2C-38.01A38.01%2C38.01%200%200%2C1%2038.01%2C0Z%22%20style%3D%22opacity%3A%200.7%3B%20stroke-width%3A%201px%3B%20fill%3A%20rgb(78%2C%20121%2C%20167)%3B%20fill-opacity%3A%201%3B%20stroke%3A%20rgb(255%2C%20255%2C%20255)%3B%20stroke-opacity%3A%201%3B%22%2F%3E%3C%2Fg%3E%3Cg%20class%3D%22text%22%2F%3E%3C%2Fg%3E%3Cg%20class%3D%22trace%20scatter%20trace01c90f%22%20style%3D%22stroke-miterlimit%3A%202%3B%20opacity%3A%201%3B%22%3E%3Cg%20class%3D%22fills%22%2F%3E%3Cg%20class%3D%22errorbars%22%2F%3E%3Cg%20class%3D%22lines%22%2F%3E%3Cg%20class%3D%22points%22%3E%3Cpath%20class%3D%22point%22%20transform%3D%22translate(165.03%2C61.69)%22%20d%3D%22M37.64%2C0A37.64%2C37.64%200%201%2C1%200%2C-37.64A37.64%2C37.64%200%200%2C1%2037.64%2C0Z%22%20style%3D%22opacity%3A%200.7%3B%20stroke-width%3A%201px%3B%20fill%3A%20rgb(242%2C%20142%2C%2044)%3B%20fill-opacity%3A%201%3B%20stroke%3A%20rgb(255%2C%20255%2C%20255)%3B%20stroke-opacity%3A%201%3B%22%2F%3E%3C%2Fg%3E%3Cg%20class%3D%22text%22%2F%3E%3C%2Fg%3E%3Cg%20class%3D%22trace%20scatter%20trace76473c%22%20style%3D%22stroke-miterlimit%3A%202%3B%20opacity%3A%201%3B%22%3E%3Cg%20class%3D%22fills%22%2F%3E%3Cg%20class%3D%22errorbars%22%2F%3E%3Cg%20class%3D%22lines%22%2F%3E%3Cg%20class%3D%22points%22%3E%3Cpath%20class%3D%22point%22%20transform%3D%22translate(251.45%2C55.52)%22%20d%3D%22M32.92%2C0A32.92%2C32.92%200%201%2C1%200%2C-32.92A32.92%2C32.92%200%200%2C1%2032.92%2C0Z%22%20style%3D%22opacity%3A%200.7%3B%20stroke-width%3A%201px%3B%20fill%3A%20rgb(225%2C%2087%2C%2089)%3B%20fill-opacity%3A%201%3B%20stroke%3A%20rgb(255%2C%20255%2C%20255)%3B%20stroke-opacity%3A%201%3B%22%2F%3E%3C%2Fg%3E%3Cg%20class%3D%22text%22%2F%3E%3C%2Fg%3E%3C%2Fg%3E%3C%2Fg%3E%3Cg%20class%3D%22overplot%22%2F%3E%3Cpath%20class%3D%22xlines-above%20crisp%22%20d%3D%22M0%2C0%22%20style%3D%22fill%3A%20none%3B%22%2F%3E%3Cpath%20class%3D%22ylines-above%20crisp%22%20d%3D%22M79.5%2C30V181.66666666666669%22%20style%3D%22fill%3A%20none%3B%20stroke-width%3A%201px%3B%20stroke%3A%20rgb(89%2C%2089%2C%2089)%3B%20stroke-opacity%3A%200.25%3B%22%2F%3E%3Cg%20class%3D%22overlines-above%22%2F%3E%3Cg%20class%3D%22xaxislayer-above%22%2F%3E%3Cg%20class%3D%22yaxislayer-above%22%3E%3Cg%20class%3D%22ytick%22%3E%3Ctext%20text-anchor%3D%22end%22%20x%3D%2276.6%22%20y%3D%224.199999999999999%22%20data-unformatted%3D%220.5%22%20data-math%3D%22N%22%20transform%3D%22translate(0%2C136.82999999999998)%22%20style%3D%22font-family%3A%20%26quot%3BOpen%20Sans%26quot%3B%2C%20verdana%2C%20arial%2C%20sans-serif%3B%20font-size%3A%2012px%3B%20fill%3A%20rgb(89%2C%2089%2C%2089)%3B%20fill-opacity%3A%201%3B%20white-space%3A%20pre%3B%22%3E0.5%3C%2Ftext%3E%3C%2Fg%3E%3Cg%20class%3D%22ytick%22%3E%3Ctext%20text-anchor%3D%22end%22%20x%3D%2276.6%22%20y%3D%224.199999999999999%22%20data-unformatted%3D%221%22%20data-math%3D%22N%22%20transform%3D%22translate(0%2C67)%22%20style%3D%22font-family%3A%20%26quot%3BOpen%20Sans%26quot%3B%2C%20verdana%2C%20arial%2C%20sans-serif%3B%20font-size%3A%2012px%3B%20fill%3A%20rgb(89%2C%2089%2C%2089)%3B%20fill-opacity%3A%201%3B%20white-space%3A%20pre%3B%22%3E1%3C%2Ftext%3E%3C%2Fg%3E%3C%2Fg%3E%3Cg%20class%3D%22overaxes-above%22%2F%3E%3C%2Fg%3E%3Cg%20class%3D%22subplot%20xy3%22%3E%3Cg%20class%3D%22layer-subplot%22%3E%3Cg%20class%3D%22shapelayer%22%2F%3E%3Cg%20class%3D%22imagelayer%22%2F%3E%3C%2Fg%3E%3Cg%20class%3D%22gridlayer%22%3E%3Cg%20class%3D%22x%22%3E%3Cpath%20class%3D%22xgrid%20crisp%22%20transform%3D%22translate(151.06%2C0)%22%20d%3D%22M0%2C246.6666666666667v151.66666666666663%22%20style%3D%22stroke%3A%20rgb(89%2C%2089%2C%2089)%3B%20stroke-opacity%3A%200.25%3B%20stroke-width%3A%201px%3B%22%2F%3E%3Cpath%20class%3D%22xgrid%20crisp%22%20transform%3D%22translate(274.73%2C0)%22%20d%3D%22M0%2C246.6666666666667v151.66666666666663%22%20style%3D%22stroke%3A%20rgb(89%2C%2089%2C%2089)%3B%20stroke-opacity%3A%200.25%3B%20stroke-width%3A%201px%3B%22%2F%3E%3C%2Fg%3E%3Cg%20class%3D%22y3%22%3E%3Cpath%20class%3D%22y3grid%20crisp%22%20transform%3D%22translate(0%2C353.91666666666674)%22%20d%3D%22M80%2C0h316.00000000000006%22%20style%3D%22stroke%3A%20rgb(238%2C%20238%2C%20238)%3B%20stroke-opacity%3A%201%3B%20stroke-width%3A%201px%3B%22%2F%3E%3Cpath%20class%3D%22y3grid%20crisp%22%20transform%3D%22translate(0%2C297.5666666666667)%22%20d%3D%22M80%2C0h316.00000000000006%22%20style%3D%22stroke%3A%20rgb(238%2C%20238%2C%20238)%3B%20stroke-opacity%3A%201%3B%20stroke-width%3A%201px%3B%22%2F%3E%3C%2Fg%3E%3C%2Fg%3E%3Cg%20class%3D%22zerolinelayer%22%2F%3E%3Cpath%20class%3D%22xlines-below%22%2F%3E%3Cpath%20class%3D%22ylines-below%22%2F%3E%3Cg%20class%3D%22overlines-below%22%2F%3E%3Cg%20class%3D%22xaxislayer-below%22%2F%3E%3Cg%20class%3D%22yaxislayer-below%22%2F%3E%3Cg%20class%3D%22overaxes-below%22%2F%3E%3Cg%20class%3D%22plot%22%20transform%3D%22translate(80%2C246.6666666666667)%22%20clip-path%3D%22url('%23clip8f02f0xy3plot')%22%3E%3Cg%20class%3D%22scatterlayer%20mlayer%22%3E%3Cg%20class%3D%22trace%20scatter%20tracebee88d%22%20style%3D%22stroke-miterlimit%3A%202%3B%20opacity%3A%201%3B%22%3E%3Cg%20class%3D%22fills%22%2F%3E%3Cg%20class%3D%22errorbars%22%2F%3E%3Cg%20class%3D%22lines%22%2F%3E%3Cg%20class%3D%22points%22%3E%3Cpath%20class%3D%22point%22%20transform%3D%22translate(71.74%2C71.89)%22%20d%3D%22M44.75%2C0A44.75%2C44.75%200%201%2C1%200%2C-44.75A44.75%2C44.75%200%200%2C1%2044.75%2C0Z%22%20style%3D%22opacity%3A%200.7%3B%20stroke-width%3A%201px%3B%20fill%3A%20rgb(78%2C%20121%2C%20167)%3B%20fill-opacity%3A%201%3B%20stroke%3A%20rgb(255%2C%20255%2C%20255)%3B%20stroke-opacity%3A%201%3B%22%2F%3E%3C%2Fg%3E%3Cg%20class%3D%22text%22%2F%3E%3C%2Fg%3E%3Cg%20class%3D%22trace%20scatter%20trace6f827a%22%20style%3D%22stroke-miterlimit%3A%202%3B%20opacity%3A%201%3B%22%3E%3Cg%20class%3D%22fills%22%2F%3E%3Cg%20class%3D%22errorbars%22%2F%3E%3Cg%20class%3D%22lines%22%2F%3E%3Cg%20class%3D%22points%22%3E%3Cpath%20class%3D%22point%22%20transform%3D%22translate(165.03%2C66.9)%22%20d%3D%22M44.51%2C0A44.51%2C44.51%200%201%2C1%200%2C-44.51A44.51%2C44.51%200%200%2C1%2044.51%2C0Z%22%20style%3D%22opacity%3A%200.7%3B%20stroke-width%3A%201px%3B%20fill%3A%20rgb(242%2C%20142%2C%2044)%3B%20fill-opacity%3A%201%3B%20stroke%3A%20rgb(255%2C%20255%2C%20255)%3B%20stroke-opacity%3A%201%3B%22%2F%3E%3C%2Fg%3E%3Cg%20class%3D%22text%22%2F%3E%3C%2Fg%3E%3Cg%20class%3D%22trace%20scatter%20tracef25b2f%22%20style%3D%22stroke-miterlimit%3A%202%3B%20opacity%3A%201%3B%22%3E%3Cg%20class%3D%22fills%22%2F%3E%3Cg%20class%3D%22errorbars%22%2F%3E%3Cg%20class%3D%22lines%22%2F%3E%3Cg%20class%3D%22points%22%3E%3Cpath%20class%3D%22point%22%20transform%3D%22translate(251.45%2C63.05)%22%20d%3D%22M39%2C0A39%2C39%200%201%2C1%200%2C-39A39%2C39%200%200%2C1%2039%2C0Z%22%20style%3D%22opacity%3A%200.7%3B%20stroke-width%3A%201px%3B%20fill%3A%20rgb(225%2C%2087%2C%2089)%3B%20fill-opacity%3A%201%3B%20stroke%3A%20rgb(255%2C%20255%2C%20255)%3B%20stroke-opacity%3A%201%3B%22%2F%3E%3C%2Fg%3E%3Cg%20class%3D%22text%22%2F%3E%3C%2Fg%3E%3C%2Fg%3E%3C%2Fg%3E%3Cg%20class%3D%22overplot%22%2F%3E%3Cpath%20class%3D%22xlines-above%20crisp%22%20d%3D%22M0%2C0%22%20style%3D%22fill%3A%20none%3B%22%2F%3E%3Cpath%20class%3D%22ylines-above%20crisp%22%20d%3D%22M0%2C0%22%20style%3D%22fill%3A%20none%3B%22%2F%3E%3Cg%20class%3D%22overlines-above%22%2F%3E%3Cg%20class%3D%22xaxislayer-above%22%2F%3E%3Cg%20class%3D%22yaxislayer-above%22%3E%3Cg%20class%3D%22y3tick%22%3E%3Ctext%20text-anchor%3D%22end%22%20x%3D%2279%22%20y%3D%224.199999999999999%22%20data-unformatted%3D%220.5%22%20data-math%3D%22N%22%20transform%3D%22translate(0%2C353.91666666666674)%22%20style%3D%22font-family%3A%20%26quot%3BOpen%20Sans%26quot%3B%2C%20verdana%2C%20arial%2C%20sans-serif%3B%20font-size%3A%2012px%3B%20fill%3A%20rgb(89%2C%2089%2C%2089)%3B%20fill-opacity%3A%201%3B%20white-space%3A%20pre%3B%22%3E0.5%3C%2Ftext%3E%3C%2Fg%3E%3Cg%20class%3D%22y3tick%22%3E%3Ctext%20text-anchor%3D%22end%22%20x%3D%2279%22%20y%3D%224.199999999999999%22%20data-unformatted%3D%221%22%20data-math%3D%22N%22%20transform%3D%22translate(0%2C297.5666666666667)%22%20style%3D%22font-family%3A%20%26quot%3BOpen%20Sans%26quot%3B%2C%20verdana%2C%20arial%2C%20sans-serif%3B%20font-size%3A%2012px%3B%20fill%3A%20rgb(89%2C%2089%2C%2089)%3B%20fill-opacity%3A%201%3B%20white-space%3A%20pre%3B%22%3E1%3C%2Ftext%3E%3C%2Fg%3E%3C%2Fg%3E%3Cg%20class%3D%22overaxes-above%22%2F%3E%3C%2Fg%3E%3Cg%20class%3D%22subplot%20xy5%22%3E%3Cg%20class%3D%22layer-subplot%22%3E%3Cg%20class%3D%22shapelayer%22%2F%3E%3Cg%20class%3D%22imagelayer%22%2F%3E%3C%2Fg%3E%3Cg%20class%3D%22gridlayer%22%3E%3Cg%20class%3D%22x%22%3E%3Cpath%20class%3D%22xgrid%20crisp%22%20transform%3D%22translate(151.06%2C0)%22%20d%3D%22M0%2C463.3333333333333v151.66666666666666%22%20style%3D%22stroke%3A%20rgb(89%2C%2089%2C%2089)%3B%20stroke-opacity%3A%200.25%3B%20stroke-width%3A%201px%3B%22%2F%3E%3Cpath%20class%3D%22xgrid%20crisp%22%20transform%3D%22translate(274.73%2C0)%22%20d%3D%22M0%2C463.3333333333333v151.66666666666666%22%20style%3D%22stroke%3A%20rgb(89%2C%2089%2C%2089)%3B%20stroke-opacity%3A%200.25%3B%20stroke-width%3A%201px%3B%22%2F%3E%3C%2Fg%3E%3Cg%20class%3D%22y5%22%3E%3Cpath%20class%3D%22y5grid%20crisp%22%20transform%3D%22translate(0%2C548.0133333333333)%22%20d%3D%22M80%2C0h316.00000000000006%22%20style%3D%22stroke%3A%20rgb(238%2C%20238%2C%20238)%3B%20stroke-opacity%3A%201%3B%20stroke-width%3A%201px%3B%22%2F%3E%3Cpath%20class%3D%22y5grid%20crisp%22%20transform%3D%22translate(0%2C513.3133333333333)%22%20d%3D%22M80%2C0h316.00000000000006%22%20style%3D%22stroke%3A%20rgb(238%2C%20238%2C%20238)%3B%20stroke-opacity%3A%201%3B%20stroke-width%3A%201px%3B%22%2F%3E%3Cpath%20class%3D%22y5grid%20crisp%22%20transform%3D%22translate(0%2C478.62333333333333)%22%20d%3D%22M80%2C0h316.00000000000006%22%20style%3D%22stroke%3A%20rgb(238%2C%20238%2C%20238)%3B%20stroke-opacity%3A%201%3B%20stroke-width%3A%201px%3B%22%2F%3E%3C%2Fg%3E%3C%2Fg%3E%3Cg%20class%3D%22zerolinelayer%22%3E%3Cpath%20class%3D%22y5zl%20zl%20crisp%22%20transform%3D%22translate(0%2C582.7033333333334)%22%20d%3D%22M80%2C0h316.00000000000006%22%20style%3D%22stroke%3A%20rgb(68%2C%2068%2C%2068)%3B%20stroke-opacity%3A%201%3B%20stroke-width%3A%201px%3B%22%2F%3E%3C%2Fg%3E%3Cpath%20class%3D%22xlines-below%22%2F%3E%3Cpath%20class%3D%22ylines-below%22%2F%3E%3Cg%20class%3D%22overlines-below%22%2F%3E%3Cg%20class%3D%22xaxislayer-below%22%2F%3E%3Cg%20class%3D%22yaxislayer-below%22%2F%3E%3Cg%20class%3D%22overaxes-below%22%2F%3E%3Cg%20class%3D%22plot%22%20transform%3D%22translate(80%2C463.3333333333333)%22%20clip-path%3D%22url('%23clip8f02f0xy5plot')%22%3E%3Cg%20class%3D%22scatterlayer%20mlayer%22%3E%3Cg%20class%3D%22trace%20scatter%20tracedee6d8%22%20style%3D%22stroke-miterlimit%3A%202%3B%20opacity%3A%201%3B%22%3E%3Cg%20class%3D%22fills%22%2F%3E%3Cg%20class%3D%22errorbars%22%2F%3E%3Cg%20class%3D%22lines%22%2F%3E%3Cg%20class%3D%22points%22%3E%3Cpath%20class%3D%22point%22%20transform%3D%22translate(188.39%2C66.07)%22%20d%3D%22M43.71%2C0A43.71%2C43.71%200%201%2C1%200%2C-43.71A43.71%2C43.71%200%200%2C1%2043.71%2C0Z%22%20style%3D%22opacity%3A%200.7%3B%20stroke-width%3A%201px%3B%20fill%3A%20rgb(78%2C%20121%2C%20167)%3B%20fill-opacity%3A%201%3B%20stroke%3A%20rgb(255%2C%20255%2C%20255)%3B%20stroke-opacity%3A%201%3B%22%2F%3E%3C%2Fg%3E%3Cg%20class%3D%22text%22%2F%3E%3C%2Fg%3E%3Cg%20class%3D%22trace%20scatter%20trace3a1035%22%20style%3D%22stroke-miterlimit%3A%202%3B%20opacity%3A%201%3B%22%3E%3Cg%20class%3D%22fills%22%2F%3E%3Cg%20class%3D%22errorbars%22%2F%3E%3Cg%20class%3D%22lines%22%2F%3E%3Cg%20class%3D%22points%22%3E%3Cpath%20class%3D%22point%22%20transform%3D%22translate(165.03%2C62.25)%22%20d%3D%22M37.64%2C0A37.64%2C37.64%200%201%2C1%200%2C-37.64A37.64%2C37.64%200%200%2C1%2037.64%2C0Z%22%20style%3D%22opacity%3A%200.7%3B%20stroke-width%3A%201px%3B%20fill%3A%20rgb(242%2C%20142%2C%2044)%3B%20fill-opacity%3A%201%3B%20stroke%3A%20rgb(255%2C%20255%2C%20255)%3B%20stroke-opacity%3A%201%3B%22%2F%3E%3C%2Fg%3E%3Cg%20class%3D%22text%22%2F%3E%3C%2Fg%3E%3Cg%20class%3D%22trace%20scatter%20tracefd793a%22%20style%3D%22stroke-miterlimit%3A%202%3B%20opacity%3A%201%3B%22%3E%3Cg%20class%3D%22fills%22%2F%3E%3Cg%20class%3D%22errorbars%22%2F%3E%3Cg%20class%3D%22lines%22%2F%3E%3Cg%20class%3D%22points%22%3E%3Cpath%20class%3D%22point%22%20transform%3D%22translate(251.45%2C59.19)%22%20d%3D%22M32.92%2C0A32.92%2C32.92%200%201%2C1%200%2C-32.92A32.92%2C32.92%200%200%2C1%2032.92%2C0Z%22%20style%3D%22opacity%3A%200.7%3B%20stroke-width%3A%201px%3B%20fill%3A%20rgb(225%2C%2087%2C%2089)%3B%20fill-opacity%3A%201%3B%20stroke%3A%20rgb(255%2C%20255%2C%20255)%3B%20stroke-opacity%3A%201%3B%22%2F%3E%3C%2Fg%3E%3Cg%20class%3D%22text%22%2F%3E%3C%2Fg%3E%3C%2Fg%3E%3C%2Fg%3E%3Cg%20class%3D%22overplot%22%2F%3E%3Cpath%20class%3D%22xlines-above%20crisp%22%20d%3D%22M80%2C615.5H396.00000000000006%22%20style%3D%22fill%3A%20none%3B%20stroke-width%3A%201px%3B%20stroke%3A%20rgb(89%2C%2089%2C%2089)%3B%20stroke-opacity%3A%200.25%3B%22%2F%3E%3Cpath%20class%3D%22ylines-above%20crisp%22%20d%3D%22M0%2C0%22%20style%3D%22fill%3A%20none%3B%22%2F%3E%3Cg%20class%3D%22overlines-above%22%2F%3E%3Cg%20class%3D%22xaxislayer-above%22%3E%3Cg%20class%3D%22xtick%22%3E%3Ctext%20text-anchor%3D%22middle%22%20x%3D%220%22%20y%3D%22630.4%22%20data-unformatted%3D%220.7%22%20data-math%3D%22N%22%20transform%3D%22translate(151.06%2C0)%22%20style%3D%22font-family%3A%20%26quot%3BOpen%20Sans%26quot%3B%2C%20verdana%2C%20arial%2C%20sans-serif%3B%20font-size%3A%2012px%3B%20fill%3A%20rgb(89%2C%2089%2C%2089)%3B%20fill-opacity%3A%201%3B%20white-space%3A%20pre%3B%22%3E0.7%3C%2Ftext%3E%3C%2Fg%3E%3Cg%20class%3D%22xtick%22%3E%3Ctext%20text-anchor%3D%22middle%22%20x%3D%220%22%20y%3D%22630.4%22%20data-unformatted%3D%220.8%22%20data-math%3D%22N%22%20transform%3D%22translate(274.73%2C0)%22%20style%3D%22font-family%3A%20%26quot%3BOpen%20Sans%26quot%3B%2C%20verdana%2C%20arial%2C%20sans-serif%3B%20font-size%3A%2012px%3B%20fill%3A%20rgb(89%2C%2089%2C%2089)%3B%20fill-opacity%3A%201%3B%20white-space%3A%20pre%3B%22%3E0.8%3C%2Ftext%3E%3C%2Fg%3E%3C%2Fg%3E%3Cg%20class%3D%22yaxislayer-above%22%3E%3Cg%20class%3D%22y5tick%22%3E%3Ctext%20text-anchor%3D%22end%22%20x%3D%2279%22%20y%3D%224.199999999999999%22%20data-unformatted%3D%220%22%20data-math%3D%22N%22%20transform%3D%22translate(0%2C582.7033333333334)%22%20style%3D%22font-family%3A%20%26quot%3BOpen%20Sans%26quot%3B%2C%20verdana%2C%20arial%2C%20sans-serif%3B%20font-size%3A%2012px%3B%20fill%3A%20rgb(89%2C%2089%2C%2089)%3B%20fill-opacity%3A%201%3B%20white-space%3A%20pre%3B%22%3E0%3C%2Ftext%3E%3C%2Fg%3E%3Cg%20class%3D%22y5tick%22%3E%3Ctext%20text-anchor%3D%22end%22%20x%3D%2279%22%20y%3D%224.199999999999999%22%20data-unformatted%3D%220.5%22%20data-math%3D%22N%22%20transform%3D%22translate(0%2C548.0133333333333)%22%20style%3D%22font-family%3A%20%26quot%3BOpen%20Sans%26quot%3B%2C%20verdana%2C%20arial%2C%20sans-serif%3B%20font-size%3A%2012px%3B%20fill%3A%20rgb(89%2C%2089%2C%2089)%3B%20fill-opacity%3A%201%3B%20white-space%3A%20pre%3B%22%3E0.5%3C%2Ftext%3E%3C%2Fg%3E%3Cg%20class%3D%22y5tick%22%3E%3Ctext%20text-anchor%3D%22end%22%20x%3D%2279%22%20y%3D%224.199999999999999%22%20data-unformatted%3D%221%22%20data-math%3D%22N%22%20transform%3D%22translate(0%2C513.3133333333333)%22%20style%3D%22font-family%3A%20%26quot%3BOpen%20Sans%26quot%3B%2C%20verdana%2C%20arial%2C%20sans-serif%3B%20font-size%3A%2012px%3B%20fill%3A%20rgb(89%2C%2089%2C%2089)%3B%20fill-opacity%3A%201%3B%20white-space%3A%20pre%3B%22%3E1%3C%2Ftext%3E%3C%2Fg%3E%3Cg%20class%3D%22y5tick%22%3E%3Ctext%20text-anchor%3D%22end%22%20x%3D%2279%22%20y%3D%224.199999999999999%22%20data-unformatted%3D%221.5%22%20data-math%3D%22N%22%20transform%3D%22translate(0%2C478.62333333333333)%22%20style%3D%22font-family%3A%20%26quot%3BOpen%20Sans%26quot%3B%2C%20verdana%2C%20arial%2C%20sans-serif%3B%20font-size%3A%2012px%3B%20fill%3A%20rgb(89%2C%2089%2C%2089)%3B%20fill-opacity%3A%201%3B%20white-space%3A%20pre%3B%22%3E1.5%3C%2Ftext%3E%3C%2Fg%3E%3C%2Fg%3E%3Cg%20class%3D%22overaxes-above%22%2F%3E%3C%2Fg%3E%3Cg%20class%3D%22subplot%20x2y%22%3E%3Cg%20class%3D%22layer-subplot%22%3E%3Cg%20class%3D%22shapelayer%22%2F%3E%3Cg%20class%3D%22imagelayer%22%2F%3E%3C%2Fg%3E%3Cg%20class%3D%22gridlayer%22%3E%3Cg%20class%3D%22x2%22%3E%3Cpath%20class%3D%22x2grid%20crisp%22%20transform%3D%22translate(524.76%2C0)%22%20d%3D%22M0%2C30v151.66666666666669%22%20style%3D%22stroke%3A%20rgb(238%2C%20238%2C%20238)%3B%20stroke-opacity%3A%201%3B%20stroke-width%3A%201px%3B%22%2F%3E%3Cpath%20class%3D%22x2grid%20crisp%22%20transform%3D%22translate(607.22%2C0)%22%20d%3D%22M0%2C30v151.66666666666669%22%20style%3D%22stroke%3A%20rgb(238%2C%20238%2C%20238)%3B%20stroke-opacity%3A%201%3B%20stroke-width%3A%201px%3B%22%2F%3E%3Cpath%20class%3D%22x2grid%20crisp%22%20transform%3D%22translate(689.6800000000001%2C0)%22%20d%3D%22M0%2C30v151.66666666666669%22%20style%3D%22stroke%3A%20rgb(238%2C%20238%2C%20238)%3B%20stroke-opacity%3A%201%3B%20stroke-width%3A%201px%3B%22%2F%3E%3Cpath%20class%3D%22x2grid%20crisp%22%20transform%3D%22translate(772.14%2C0)%22%20d%3D%22M0%2C30v151.66666666666669%22%20style%3D%22stroke%3A%20rgb(238%2C%20238%2C%20238)%3B%20stroke-opacity%3A%201%3B%20stroke-width%3A%201px%3B%22%2F%3E%3C%2Fg%3E%3Cg%20class%3D%22y%22%3E%3Cpath%20class%3D%22ygrid%20crisp%22%20transform%3D%22translate(0%2C136.82999999999998)%22%20d%3D%22M475%2C0h316.00000000000006%22%20style%3D%22stroke%3A%20rgb(89%2C%2089%2C%2089)%3B%20stroke-opacity%3A%200.25%3B%20stroke-width%3A%201px%3B%22%2F%3E%3Cpath%20class%3D%22ygrid%20crisp%22%20transform%3D%22translate(0%2C67)%22%20d%3D%22M475%2C0h316.00000000000006%22%20style%3D%22stroke%3A%20rgb(89%2C%2089%2C%2089)%3B%20stroke-opacity%3A%200.25%3B%20stroke-width%3A%201px%3B%22%2F%3E%3C%2Fg%3E%3C%2Fg%3E%3Cg%20class%3D%22zerolinelayer%22%2F%3E%3Cpath%20class%3D%22xlines-below%22%2F%3E%3Cpath%20class%3D%22ylines-below%22%2F%3E%3Cg%20class%3D%22overlines-below%22%2F%3E%3Cg%20class%3D%22xaxislayer-below%22%2F%3E%3Cg%20class%3D%22yaxislayer-below%22%2F%3E%3Cg%20class%3D%22overaxes-below%22%2F%3E%3Cg%20class%3D%22plot%22%20transform%3D%22translate(475%2C30)%22%20clip-path%3D%22url('%23clip8f02f0x2yplot')%22%3E%3Cg%20class%3D%22scatterlayer%20mlayer%22%3E%3Cg%20class%3D%22trace%20scatter%20tracebf423b%22%20style%3D%22stroke-miterlimit%3A%202%3B%20opacity%3A%201%3B%22%3E%3Cg%20class%3D%22fills%22%2F%3E%3Cg%20class%3D%22errorbars%22%2F%3E%3Cg%20class%3D%22lines%22%2F%3E%3Cg%20class%3D%22points%22%3E%3Cpath%20class%3D%22point%22%20transform%3D%22translate(66.47%2C100.61)%22%20d%3D%22M34.78%2C0A34.78%2C34.78%200%201%2C1%200%2C-34.78A34.78%2C34.78%200%200%2C1%2034.78%2C0Z%22%20style%3D%22opacity%3A%200.7%3B%20stroke-width%3A%201px%3B%20fill%3A%20rgb(78%2C%20121%2C%20167)%3B%20fill-opacity%3A%201%3B%20stroke%3A%20rgb(255%2C%20255%2C%20255)%3B%20stroke-opacity%3A%201%3B%22%2F%3E%3C%2Fg%3E%3Cg%20class%3D%22text%22%2F%3E%3C%2Fg%3E%3Cg%20class%3D%22trace%20scatter%20trace66ff46%22%20style%3D%22stroke-miterlimit%3A%202%3B%20opacity%3A%201%3B%22%3E%3Cg%20class%3D%22fills%22%2F%3E%3Cg%20class%3D%22errorbars%22%2F%3E%3Cg%20class%3D%22lines%22%2F%3E%3Cg%20class%3D%22points%22%3E%3Cpath%20class%3D%22point%22%20transform%3D%22translate(124.06%2C83.27)%22%20d%3D%22M36.07%2C0A36.07%2C36.07%200%201%2C1%200%2C-36.07A36.07%2C36.07%200%200%2C1%2036.07%2C0Z%22%20style%3D%22opacity%3A%200.7%3B%20stroke-width%3A%201px%3B%20fill%3A%20rgb(242%2C%20142%2C%2044)%3B%20fill-opacity%3A%201%3B%20stroke%3A%20rgb(255%2C%20255%2C%20255)%3B%20stroke-opacity%3A%201%3B%22%2F%3E%3C%2Fg%3E%3Cg%20class%3D%22text%22%2F%3E%3C%2Fg%3E%3Cg%20class%3D%22trace%20scatter%20trace4855b3%22%20style%3D%22stroke-miterlimit%3A%202%3B%20opacity%3A%201%3B%22%3E%3Cg%20class%3D%22fills%22%2F%3E%3Cg%20class%3D%22errorbars%22%2F%3E%3Cg%20class%3D%22lines%22%2F%3E%3Cg%20class%3D%22points%22%3E%3Cpath%20class%3D%22point%22%20transform%3D%22translate(206.51%2C62.44)%22%20d%3D%22M35.22%2C0A35.22%2C35.22%200%201%2C1%200%2C-35.22A35.22%2C35.22%200%200%2C1%2035.22%2C0Z%22%20style%3D%22opacity%3A%200.7%3B%20stroke-width%3A%201px%3B%20fill%3A%20rgb(225%2C%2087%2C%2089)%3B%20fill-opacity%3A%201%3B%20stroke%3A%20rgb(255%2C%20255%2C%20255)%3B%20stroke-opacity%3A%201%3B%22%2F%3E%3C%2Fg%3E%3Cg%20class%3D%22text%22%2F%3E%3C%2Fg%3E%3C%2Fg%3E%3C%2Fg%3E%3Cg%20class%3D%22overplot%22%2F%3E%3Cpath%20class%3D%22xlines-above%20crisp%22%20d%3D%22M0%2C0%22%20style%3D%22fill%3A%20none%3B%22%2F%3E%3Cpath%20class%3D%22ylines-above%20crisp%22%20d%3D%22M0%2C0%22%20style%3D%22fill%3A%20none%3B%22%2F%3E%3Cg%20class%3D%22overlines-above%22%2F%3E%3Cg%20class%3D%22xaxislayer-above%22%2F%3E%3Cg%20class%3D%22yaxislayer-above%22%2F%3E%3Cg%20class%3D%22overaxes-above%22%2F%3E%3C%2Fg%3E%3Cg%20class%3D%22subplot%20x2y3%22%3E%3Cg%20class%3D%22layer-subplot%22%3E%3Cg%20class%3D%22shapelayer%22%2F%3E%3Cg%20class%3D%22imagelayer%22%2F%3E%3C%2Fg%3E%3Cg%20class%3D%22gridlayer%22%3E%3Cg%20class%3D%22x2%22%3E%3Cpath%20class%3D%22x2grid%20crisp%22%20transform%3D%22translate(524.76%2C0)%22%20d%3D%22M0%2C246.6666666666667v151.66666666666663%22%20style%3D%22stroke%3A%20rgb(238%2C%20238%2C%20238)%3B%20stroke-opacity%3A%201%3B%20stroke-width%3A%201px%3B%22%2F%3E%3Cpath%20class%3D%22x2grid%20crisp%22%20transform%3D%22translate(607.22%2C0)%22%20d%3D%22M0%2C246.6666666666667v151.66666666666663%22%20style%3D%22stroke%3A%20rgb(238%2C%20238%2C%20238)%3B%20stroke-opacity%3A%201%3B%20stroke-width%3A%201px%3B%22%2F%3E%3Cpath%20class%3D%22x2grid%20crisp%22%20transform%3D%22translate(689.6800000000001%2C0)%22%20d%3D%22M0%2C246.6666666666667v151.66666666666663%22%20style%3D%22stroke%3A%20rgb(238%2C%20238%2C%20238)%3B%20stroke-opacity%3A%201%3B%20stroke-width%3A%201px%3B%22%2F%3E%3Cpath%20class%3D%22x2grid%20crisp%22%20transform%3D%22translate(772.14%2C0)%22%20d%3D%22M0%2C246.6666666666667v151.66666666666663%22%20style%3D%22stroke%3A%20rgb(238%2C%20238%2C%20238)%3B%20stroke-opacity%3A%201%3B%20stroke-width%3A%201px%3B%22%2F%3E%3C%2Fg%3E%3Cg%20class%3D%22y3%22%3E%3Cpath%20class%3D%22y3grid%20crisp%22%20transform%3D%22translate(0%2C353.91666666666674)%22%20d%3D%22M475%2C0h316.00000000000006%22%20style%3D%22stroke%3A%20rgb(238%2C%20238%2C%20238)%3B%20stroke-opacity%3A%201%3B%20stroke-width%3A%201px%3B%22%2F%3E%3Cpath%20class%3D%22y3grid%20crisp%22%20transform%3D%22translate(0%2C297.5666666666667)%22%20d%3D%22M475%2C0h316.00000000000006%22%20style%3D%22stroke%3A%20rgb(238%2C%20238%2C%20238)%3B%20stroke-opacity%3A%201%3B%20stroke-width%3A%201px%3B%22%2F%3E%3C%2Fg%3E%3C%2Fg%3E%3Cg%20class%3D%22zerolinelayer%22%2F%3E%3Cpath%20class%3D%22xlines-below%22%2F%3E%3Cpath%20class%3D%22ylines-below%22%2F%3E%3Cg%20class%3D%22overlines-below%22%2F%3E%3Cg%20class%3D%22xaxislayer-below%22%2F%3E%3Cg%20class%3D%22yaxislayer-below%22%2F%3E%3Cg%20class%3D%22overaxes-below%22%2F%3E%3Cg%20class%3D%22plot%22%20transform%3D%22translate(475%2C246.6666666666667)%22%20clip-path%3D%22url('%23clip8f02f0x2y3plot')%22%3E%3Cg%20class%3D%22scatterlayer%20mlayer%22%3E%3Cg%20class%3D%22trace%20scatter%20tracef083f6%22%20style%3D%22stroke-miterlimit%3A%202%3B%20opacity%3A%201%3B%22%3E%3Cg%20class%3D%22fills%22%2F%3E%3Cg%20class%3D%22errorbars%22%2F%3E%3Cg%20class%3D%22lines%22%2F%3E%3Cg%20class%3D%22points%22%3E%3Cpath%20class%3D%22point%22%20transform%3D%22translate(66.2%2C93.68)%22%20d%3D%22M40.32%2C0A40.32%2C40.32%200%201%2C1%200%2C-40.32A40.32%2C40.32%200%200%2C1%2040.32%2C0Z%22%20style%3D%22opacity%3A%200.7%3B%20stroke-width%3A%201px%3B%20fill%3A%20rgb(78%2C%20121%2C%20167)%3B%20fill-opacity%3A%201%3B%20stroke%3A%20rgb(255%2C%20255%2C%20255)%3B%20stroke-opacity%3A%201%3B%22%2F%3E%3C%2Fg%3E%3Cg%20class%3D%22text%22%2F%3E%3C%2Fg%3E%3Cg%20class%3D%22trace%20scatter%20trace17a9db%22%20style%3D%22stroke-miterlimit%3A%202%3B%20opacity%3A%201%3B%22%3E%3Cg%20class%3D%22fills%22%2F%3E%3Cg%20class%3D%22errorbars%22%2F%3E%3Cg%20class%3D%22lines%22%2F%3E%3Cg%20class%3D%22points%22%3E%3Cpath%20class%3D%22point%22%20transform%3D%22translate(124.06%2C81.21)%22%20d%3D%22M42.2%2C0A42.2%2C42.2%200%201%2C1%200%2C-42.2A42.2%2C42.2%200%200%2C1%2042.2%2C0Z%22%20style%3D%22opacity%3A%200.7%3B%20stroke-width%3A%201px%3B%20fill%3A%20rgb(242%2C%20142%2C%2044)%3B%20fill-opacity%3A%201%3B%20stroke%3A%20rgb(255%2C%20255%2C%20255)%3B%20stroke-opacity%3A%201%3B%22%2F%3E%3C%2Fg%3E%3Cg%20class%3D%22text%22%2F%3E%3C%2Fg%3E%3Cg%20class%3D%22trace%20scatter%20trace534334%22%20style%3D%22stroke-miterlimit%3A%202%3B%20opacity%3A%201%3B%22%3E%3Cg%20class%3D%22fills%22%2F%3E%3Cg%20class%3D%22errorbars%22%2F%3E%3Cg%20class%3D%22lines%22%2F%3E%3Cg%20class%3D%22points%22%3E%3Cpath%20class%3D%22point%22%20transform%3D%22translate(206.51%2C67.34)%22%20d%3D%22M41.6%2C0A41.6%2C41.6%200%201%2C1%200%2C-41.6A41.6%2C41.6%200%200%2C1%2041.6%2C0Z%22%20style%3D%22opacity%3A%200.7%3B%20stroke-width%3A%201px%3B%20fill%3A%20rgb(225%2C%2087%2C%2089)%3B%20fill-opacity%3A%201%3B%20stroke%3A%20rgb(255%2C%20255%2C%20255)%3B%20stroke-opacity%3A%201%3B%22%2F%3E%3C%2Fg%3E%3Cg%20class%3D%22text%22%2F%3E%3C%2Fg%3E%3C%2Fg%3E%3C%2Fg%3E%3Cg%20class%3D%22overplot%22%2F%3E%3Cpath%20class%3D%22xlines-above%20crisp%22%20d%3D%22M0%2C0%22%20style%3D%22fill%3A%20none%3B%22%2F%3E%3Cpath%20class%3D%22ylines-above%20crisp%22%20d%3D%22M0%2C0%22%20style%3D%22fill%3A%20none%3B%22%2F%3E%3Cg%20class%3D%22overlines-above%22%2F%3E%3Cg%20class%3D%22xaxislayer-above%22%2F%3E%3Cg%20class%3D%22yaxislayer-above%22%2F%3E%3Cg%20class%3D%22overaxes-above%22%2F%3E%3C%2Fg%3E%3Cg%20class%3D%22subplot%20x2y5%22%3E%3Cg%20class%3D%22layer-subplot%22%3E%3Cg%20class%3D%22shapelayer%22%2F%3E%3Cg%20class%3D%22imagelayer%22%2F%3E%3C%2Fg%3E%3Cg%20class%3D%22gridlayer%22%3E%3Cg%20class%3D%22x2%22%3E%3Cpath%20class%3D%22x2grid%20crisp%22%20transform%3D%22translate(524.76%2C0)%22%20d%3D%22M0%2C463.3333333333333v151.66666666666666%22%20style%3D%22stroke%3A%20rgb(238%2C%20238%2C%20238)%3B%20stroke-opacity%3A%201%3B%20stroke-width%3A%201px%3B%22%2F%3E%3Cpath%20class%3D%22x2grid%20crisp%22%20transform%3D%22translate(607.22%2C0)%22%20d%3D%22M0%2C463.3333333333333v151.66666666666666%22%20style%3D%22stroke%3A%20rgb(238%2C%20238%2C%20238)%3B%20stroke-opacity%3A%201%3B%20stroke-width%3A%201px%3B%22%2F%3E%3Cpath%20class%3D%22x2grid%20crisp%22%20transform%3D%22translate(689.6800000000001%2C0)%22%20d%3D%22M0%2C463.3333333333333v151.66666666666666%22%20style%3D%22stroke%3A%20rgb(238%2C%20238%2C%20238)%3B%20stroke-opacity%3A%201%3B%20stroke-width%3A%201px%3B%22%2F%3E%3Cpath%20class%3D%22x2grid%20crisp%22%20transform%3D%22translate(772.14%2C0)%22%20d%3D%22M0%2C463.3333333333333v151.66666666666666%22%20style%3D%22stroke%3A%20rgb(238%2C%20238%2C%20238)%3B%20stroke-opacity%3A%201%3B%20stroke-width%3A%201px%3B%22%2F%3E%3C%2Fg%3E%3Cg%20class%3D%22y5%22%3E%3Cpath%20class%3D%22y5grid%20crisp%22%20transform%3D%22translate(0%2C548.0133333333333)%22%20d%3D%22M475%2C0h316.00000000000006%22%20style%3D%22stroke%3A%20rgb(238%2C%20238%2C%20238)%3B%20stroke-opacity%3A%201%3B%20stroke-width%3A%201px%3B%22%2F%3E%3Cpath%20class%3D%22y5grid%20crisp%22%20transform%3D%22translate(0%2C513.3133333333333)%22%20d%3D%22M475%2C0h316.00000000000006%22%20style%3D%22stroke%3A%20rgb(238%2C%20238%2C%20238)%3B%20stroke-opacity%3A%201%3B%20stroke-width%3A%201px%3B%22%2F%3E%3Cpath%20class%3D%22y5grid%20crisp%22%20transform%3D%22translate(0%2C478.62333333333333)%22%20d%3D%22M475%2C0h316.00000000000006%22%20style%3D%22stroke%3A%20rgb(238%2C%20238%2C%20238)%3B%20stroke-opacity%3A%201%3B%20stroke-width%3A%201px%3B%22%2F%3E%3C%2Fg%3E%3C%2Fg%3E%3Cg%20class%3D%22zerolinelayer%22%3E%3Cpath%20class%3D%22y5zl%20zl%20crisp%22%20transform%3D%22translate(0%2C582.7033333333334)%22%20d%3D%22M475%2C0h316.00000000000006%22%20style%3D%22stroke%3A%20rgb(68%2C%2068%2C%2068)%3B%20stroke-opacity%3A%201%3B%20stroke-width%3A%201px%3B%22%2F%3E%3C%2Fg%3E%3Cpath%20class%3D%22xlines-below%22%2F%3E%3Cpath%20class%3D%22ylines-below%22%2F%3E%3Cg%20class%3D%22overlines-below%22%2F%3E%3Cg%20class%3D%22xaxislayer-below%22%2F%3E%3Cg%20class%3D%22yaxislayer-below%22%2F%3E%3Cg%20class%3D%22overaxes-below%22%2F%3E%3Cg%20class%3D%22plot%22%20transform%3D%22translate(475%2C463.3333333333333)%22%20clip-path%3D%22url('%23clip8f02f0x2y5plot')%22%3E%3Cg%20class%3D%22scatterlayer%20mlayer%22%3E%3Cg%20class%3D%22trace%20scatter%20trace47fdbe%22%20style%3D%22stroke-miterlimit%3A%202%3B%20opacity%3A%201%3B%22%3E%3Cg%20class%3D%22fills%22%2F%3E%3Cg%20class%3D%22errorbars%22%2F%3E%3Cg%20class%3D%22lines%22%2F%3E%3Cg%20class%3D%22points%22%3E%3Cpath%20class%3D%22point%22%20transform%3D%22translate(203.55%2C81.58)%22%20d%3D%22M50%2C0A50%2C50%200%201%2C1%200%2C-50A50%2C50%200%200%2C1%2050%2C0Z%22%20style%3D%22opacity%3A%200.7%3B%20stroke-width%3A%201px%3B%20fill%3A%20rgb(78%2C%20121%2C%20167)%3B%20fill-opacity%3A%201%3B%20stroke%3A%20rgb(255%2C%20255%2C%20255)%3B%20stroke-opacity%3A%201%3B%22%2F%3E%3C%2Fg%3E%3Cg%20class%3D%22text%22%2F%3E%3C%2Fg%3E%3Cg%20class%3D%22trace%20scatter%20trace761d3d%22%20style%3D%22stroke-miterlimit%3A%202%3B%20opacity%3A%201%3B%22%3E%3Cg%20class%3D%22fills%22%2F%3E%3Cg%20class%3D%22errorbars%22%2F%3E%3Cg%20class%3D%22lines%22%2F%3E%3Cg%20class%3D%22points%22%3E%3Cpath%20class%3D%22point%22%20transform%3D%22translate(186.58%2C72.97)%22%20d%3D%22M45.08%2C0A45.08%2C45.08%200%201%2C1%200%2C-45.08A45.08%2C45.08%200%200%2C1%2045.08%2C0Z%22%20style%3D%22opacity%3A%200.7%3B%20stroke-width%3A%201px%3B%20fill%3A%20rgb(242%2C%20142%2C%2044)%3B%20fill-opacity%3A%201%3B%20stroke%3A%20rgb(255%2C%20255%2C%20255)%3B%20stroke-opacity%3A%201%3B%22%2F%3E%3C%2Fg%3E%3Cg%20class%3D%22text%22%2F%3E%3C%2Fg%3E%3Cg%20class%3D%22trace%20scatter%20trace6d52d9%22%20style%3D%22stroke-miterlimit%3A%202%3B%20opacity%3A%201%3B%22%3E%3Cg%20class%3D%22fills%22%2F%3E%3Cg%20class%3D%22errorbars%22%2F%3E%3Cg%20class%3D%22lines%22%2F%3E%3Cg%20class%3D%22points%22%3E%3Cpath%20class%3D%22point%22%20transform%3D%22translate(245.16%2C62.62)%22%20d%3D%22M44.03%2C0A44.03%2C44.03%200%201%2C1%200%2C-44.03A44.03%2C44.03%200%200%2C1%2044.03%2C0Z%22%20style%3D%22opacity%3A%200.7%3B%20stroke-width%3A%201px%3B%20fill%3A%20rgb(225%2C%2087%2C%2089)%3B%20fill-opacity%3A%201%3B%20stroke%3A%20rgb(255%2C%20255%2C%20255)%3B%20stroke-opacity%3A%201%3B%22%2F%3E%3C%2Fg%3E%3Cg%20class%3D%22text%22%2F%3E%3C%2Fg%3E%3C%2Fg%3E%3C%2Fg%3E%3Cg%20class%3D%22overplot%22%2F%3E%3Cpath%20class%3D%22xlines-above%20crisp%22%20d%3D%22M0%2C0%22%20style%3D%22fill%3A%20none%3B%22%2F%3E%3Cpath%20class%3D%22ylines-above%20crisp%22%20d%3D%22M0%2C0%22%20style%3D%22fill%3A%20none%3B%22%2F%3E%3Cg%20class%3D%22overlines-above%22%2F%3E%3Cg%20class%3D%22xaxislayer-above%22%3E%3Cg%20class%3D%22x2tick%22%3E%3Ctext%20text-anchor%3D%22middle%22%20x%3D%220%22%20y%3D%22628%22%20data-unformatted%3D%220.4%22%20data-math%3D%22N%22%20transform%3D%22translate(524.76%2C0)%22%20style%3D%22font-family%3A%20%26quot%3BOpen%20Sans%26quot%3B%2C%20verdana%2C%20arial%2C%20sans-serif%3B%20font-size%3A%2012px%3B%20fill%3A%20rgb(89%2C%2089%2C%2089)%3B%20fill-opacity%3A%201%3B%20white-space%3A%20pre%3B%22%3E0.4%3C%2Ftext%3E%3C%2Fg%3E%3Cg%20class%3D%22x2tick%22%3E%3Ctext%20text-anchor%3D%22middle%22%20x%3D%220%22%20y%3D%22628%22%20data-unformatted%3D%220.6%22%20data-math%3D%22N%22%20transform%3D%22translate(607.22%2C0)%22%20style%3D%22font-family%3A%20%26quot%3BOpen%20Sans%26quot%3B%2C%20verdana%2C%20arial%2C%20sans-serif%3B%20font-size%3A%2012px%3B%20fill%3A%20rgb(89%2C%2089%2C%2089)%3B%20fill-opacity%3A%201%3B%20white-space%3A%20pre%3B%22%3E0.6%3C%2Ftext%3E%3C%2Fg%3E%3Cg%20class%3D%22x2tick%22%3E%3Ctext%20text-anchor%3D%22middle%22%20x%3D%220%22%20y%3D%22628%22%20data-unformatted%3D%220.8%22%20data-math%3D%22N%22%20transform%3D%22translate(689.6800000000001%2C0)%22%20style%3D%22font-family%3A%20%26quot%3BOpen%20Sans%26quot%3B%2C%20verdana%2C%20arial%2C%20sans-serif%3B%20font-size%3A%2012px%3B%20fill%3A%20rgb(89%2C%2089%2C%2089)%3B%20fill-opacity%3A%201%3B%20white-space%3A%20pre%3B%22%3E0.8%3C%2Ftext%3E%3C%2Fg%3E%3Cg%20class%3D%22x2tick%22%3E%3Ctext%20text-anchor%3D%22middle%22%20x%3D%220%22%20y%3D%22628%22%20data-unformatted%3D%221%22%20data-math%3D%22N%22%20transform%3D%22translate(772.14%2C0)%22%20style%3D%22font-family%3A%20%26quot%3BOpen%20Sans%26quot%3B%2C%20verdana%2C%20arial%2C%20sans-serif%3B%20font-size%3A%2012px%3B%20fill%3A%20rgb(89%2C%2089%2C%2089)%3B%20fill-opacity%3A%201%3B%20white-space%3A%20pre%3B%22%3E1%3C%2Ftext%3E%3C%2Fg%3E%3C%2Fg%3E%3Cg%20class%3D%22yaxislayer-above%22%2F%3E%3Cg%20class%3D%22overaxes-above%22%2F%3E%3C%2Fg%3E%3Cg%20class%3D%22subplot%20x3y%22%3E%3Cg%20class%3D%22layer-subplot%22%3E%3Cg%20class%3D%22shapelayer%22%2F%3E%3Cg%20class%3D%22imagelayer%22%2F%3E%3C%2Fg%3E%3Cg%20class%3D%22gridlayer%22%3E%3Cg%20class%3D%22x3%22%3E%3Cpath%20class%3D%22x3grid%20crisp%22%20transform%3D%22translate(918.88%2C0)%22%20d%3D%22M0%2C30v151.66666666666669%22%20style%3D%22stroke%3A%20rgb(238%2C%20238%2C%20238)%3B%20stroke-opacity%3A%201%3B%20stroke-width%3A%201px%3B%22%2F%3E%3Cpath%20class%3D%22x3grid%20crisp%22%20transform%3D%22translate(992.27%2C0)%22%20d%3D%22M0%2C30v151.66666666666669%22%20style%3D%22stroke%3A%20rgb(238%2C%20238%2C%20238)%3B%20stroke-opacity%3A%201%3B%20stroke-width%3A%201px%3B%22%2F%3E%3Cpath%20class%3D%22x3grid%20crisp%22%20transform%3D%22translate(1065.66%2C0)%22%20d%3D%22M0%2C30v151.66666666666669%22%20style%3D%22stroke%3A%20rgb(238%2C%20238%2C%20238)%3B%20stroke-opacity%3A%201%3B%20stroke-width%3A%201px%3B%22%2F%3E%3Cpath%20class%3D%22x3grid%20crisp%22%20transform%3D%22translate(1139.06%2C0)%22%20d%3D%22M0%2C30v151.66666666666669%22%20style%3D%22stroke%3A%20rgb(238%2C%20238%2C%20238)%3B%20stroke-opacity%3A%201%3B%20stroke-width%3A%201px%3B%22%2F%3E%3C%2Fg%3E%3Cg%20class%3D%22y%22%3E%3Cpath%20class%3D%22ygrid%20crisp%22%20transform%3D%22translate(0%2C136.82999999999998)%22%20d%3D%22M870%2C0h316%22%20style%3D%22stroke%3A%20rgb(89%2C%2089%2C%2089)%3B%20stroke-opacity%3A%200.25%3B%20stroke-width%3A%201px%3B%22%2F%3E%3Cpath%20class%3D%22ygrid%20crisp%22%20transform%3D%22translate(0%2C67)%22%20d%3D%22M870%2C0h316%22%20style%3D%22stroke%3A%20rgb(89%2C%2089%2C%2089)%3B%20stroke-opacity%3A%200.25%3B%20stroke-width%3A%201px%3B%22%2F%3E%3C%2Fg%3E%3C%2Fg%3E%3Cg%20class%3D%22zerolinelayer%22%2F%3E%3Cpath%20class%3D%22xlines-below%22%2F%3E%3Cpath%20class%3D%22ylines-below%22%2F%3E%3Cg%20class%3D%22overlines-below%22%2F%3E%3Cg%20class%3D%22xaxislayer-below%22%2F%3E%3Cg%20class%3D%22yaxislayer-below%22%2F%3E%3Cg%20class%3D%22overaxes-below%22%2F%3E%3Cg%20class%3D%22plot%22%20transform%3D%22translate(870%2C30)%22%20clip-path%3D%22url('%23clip8f02f0x3yplot')%22%3E%3Cg%20class%3D%22scatterlayer%20mlayer%22%3E%3Cg%20class%3D%22trace%20scatter%20trace027a07%22%20style%3D%22stroke-miterlimit%3A%202%3B%20opacity%3A%201%3B%22%3E%3Cg%20class%3D%22fills%22%2F%3E%3Cg%20class%3D%22errorbars%22%2F%3E%3Cg%20class%3D%22lines%22%2F%3E%3Cg%20class%3D%22points%22%3E%3Cpath%20class%3D%22point%22%20transform%3D%22translate(67.55%2C56.24)%22%20d%3D%22M34.95%2C0A34.95%2C34.95%200%201%2C1%200%2C-34.95A34.95%2C34.95%200%200%2C1%2034.95%2C0Z%22%20style%3D%22opacity%3A%200.7%3B%20stroke-width%3A%201px%3B%20fill%3A%20rgb(78%2C%20121%2C%20167)%3B%20fill-opacity%3A%201%3B%20stroke%3A%20rgb(255%2C%20255%2C%20255)%3B%20stroke-opacity%3A%201%3B%22%2F%3E%3C%2Fg%3E%3Cg%20class%3D%22text%22%2F%3E%3C%2Fg%3E%3Cg%20class%3D%22trace%20scatter%20traced88b38%22%20style%3D%22stroke-miterlimit%3A%202%3B%20opacity%3A%201%3B%22%3E%3Cg%20class%3D%22fills%22%2F%3E%3Cg%20class%3D%22errorbars%22%2F%3E%3Cg%20class%3D%22lines%22%2F%3E%3Cg%20class%3D%22points%22%3E%3Cpath%20class%3D%22point%22%20transform%3D%22translate(95.87%2C54)%22%20d%3D%22M35.86%2C0A35.86%2C35.86%200%201%2C1%200%2C-35.86A35.86%2C35.86%200%200%2C1%2035.86%2C0Z%22%20style%3D%22opacity%3A%200.7%3B%20stroke-width%3A%201px%3B%20fill%3A%20rgb(242%2C%20142%2C%2044)%3B%20fill-opacity%3A%201%3B%20stroke%3A%20rgb(255%2C%20255%2C%20255)%3B%20stroke-opacity%3A%201%3B%22%2F%3E%3C%2Fg%3E%3Cg%20class%3D%22text%22%2F%3E%3C%2Fg%3E%3Cg%20class%3D%22trace%20scatter%20trace055653%22%20style%3D%22stroke-miterlimit%3A%202%3B%20opacity%3A%201%3B%22%3E%3Cg%20class%3D%22fills%22%2F%3E%3Cg%20class%3D%22errorbars%22%2F%3E%3Cg%20class%3D%22lines%22%2F%3E%3Cg%20class%3D%22points%22%3E%3Cpath%20class%3D%22point%22%20transform%3D%22translate(157%2C52.51)%22%20d%3D%22M35.95%2C0A35.95%2C35.95%200%201%2C1%200%2C-35.95A35.95%2C35.95%200%200%2C1%2035.95%2C0Z%22%20style%3D%22opacity%3A%200.7%3B%20stroke-width%3A%201px%3B%20fill%3A%20rgb(225%2C%2087%2C%2089)%3B%20fill-opacity%3A%201%3B%20stroke%3A%20rgb(255%2C%20255%2C%20255)%3B%20stroke-opacity%3A%201%3B%22%2F%3E%3C%2Fg%3E%3Cg%20class%3D%22text%22%2F%3E%3C%2Fg%3E%3C%2Fg%3E%3C%2Fg%3E%3Cg%20class%3D%22overplot%22%2F%3E%3Cpath%20class%3D%22xlines-above%20crisp%22%20d%3D%22M0%2C0%22%20style%3D%22fill%3A%20none%3B%22%2F%3E%3Cpath%20class%3D%22ylines-above%20crisp%22%20d%3D%22M0%2C0%22%20style%3D%22fill%3A%20none%3B%22%2F%3E%3Cg%20class%3D%22overlines-above%22%2F%3E%3Cg%20class%3D%22xaxislayer-above%22%2F%3E%3Cg%20class%3D%22yaxislayer-above%22%2F%3E%3Cg%20class%3D%22overaxes-above%22%2F%3E%3C%2Fg%3E%3Cg%20class%3D%22subplot%20x3y3%22%3E%3Cg%20class%3D%22layer-subplot%22%3E%3Cg%20class%3D%22shapelayer%22%2F%3E%3Cg%20class%3D%22imagelayer%22%2F%3E%3C%2Fg%3E%3Cg%20class%3D%22gridlayer%22%3E%3Cg%20class%3D%22x3%22%3E%3Cpath%20class%3D%22x3grid%20crisp%22%20transform%3D%22translate(918.88%2C0)%22%20d%3D%22M0%2C246.6666666666667v151.66666666666663%22%20style%3D%22stroke%3A%20rgb(238%2C%20238%2C%20238)%3B%20stroke-opacity%3A%201%3B%20stroke-width%3A%201px%3B%22%2F%3E%3Cpath%20class%3D%22x3grid%20crisp%22%20transform%3D%22translate(992.27%2C0)%22%20d%3D%22M0%2C246.6666666666667v151.66666666666663%22%20style%3D%22stroke%3A%20rgb(238%2C%20238%2C%20238)%3B%20stroke-opacity%3A%201%3B%20stroke-width%3A%201px%3B%22%2F%3E%3Cpath%20class%3D%22x3grid%20crisp%22%20transform%3D%22translate(1065.66%2C0)%22%20d%3D%22M0%2C246.6666666666667v151.66666666666663%22%20style%3D%22stroke%3A%20rgb(238%2C%20238%2C%20238)%3B%20stroke-opacity%3A%201%3B%20stroke-width%3A%201px%3B%22%2F%3E%3Cpath%20class%3D%22x3grid%20crisp%22%20transform%3D%22translate(1139.06%2C0)%22%20d%3D%22M0%2C246.6666666666667v151.66666666666663%22%20style%3D%22stroke%3A%20rgb(238%2C%20238%2C%20238)%3B%20stroke-opacity%3A%201%3B%20stroke-width%3A%201px%3B%22%2F%3E%3C%2Fg%3E%3Cg%20class%3D%22y3%22%3E%3Cpath%20class%3D%22y3grid%20crisp%22%20transform%3D%22translate(0%2C353.91666666666674)%22%20d%3D%22M870%2C0h316%22%20style%3D%22stroke%3A%20rgb(238%2C%20238%2C%20238)%3B%20stroke-opacity%3A%201%3B%20stroke-width%3A%201px%3B%22%2F%3E%3Cpath%20class%3D%22y3grid%20crisp%22%20transform%3D%22translate(0%2C297.5666666666667)%22%20d%3D%22M870%2C0h316%22%20style%3D%22stroke%3A%20rgb(238%2C%20238%2C%20238)%3B%20stroke-opacity%3A%201%3B%20stroke-width%3A%201px%3B%22%2F%3E%3C%2Fg%3E%3C%2Fg%3E%3Cg%20class%3D%22zerolinelayer%22%2F%3E%3Cpath%20class%3D%22xlines-below%22%2F%3E%3Cpath%20class%3D%22ylines-below%22%2F%3E%3Cg%20class%3D%22overlines-below%22%2F%3E%3Cg%20class%3D%22xaxislayer-below%22%2F%3E%3Cg%20class%3D%22yaxislayer-below%22%2F%3E%3Cg%20class%3D%22overaxes-below%22%2F%3E%3Cg%20class%3D%22plot%22%20transform%3D%22translate(870%2C246.6666666666667)%22%20clip-path%3D%22url('%23clip8f02f0x3y3plot')%22%3E%3Cg%20class%3D%22scatterlayer%20mlayer%22%3E%3Cg%20class%3D%22trace%20scatter%20tracecb7a6f%22%20style%3D%22stroke-miterlimit%3A%202%3B%20opacity%3A%201%3B%22%3E%3Cg%20class%3D%22fills%22%2F%3E%3Cg%20class%3D%22errorbars%22%2F%3E%3Cg%20class%3D%22lines%22%2F%3E%3Cg%20class%3D%22points%22%3E%3Cpath%20class%3D%22point%22%20transform%3D%22translate(67.55%2C63.45)%22%20d%3D%22M41.4%2C0A41.4%2C41.4%200%201%2C1%200%2C-41.4A41.4%2C41.4%200%200%2C1%2041.4%2C0Z%22%20style%3D%22opacity%3A%200.7%3B%20stroke-width%3A%201px%3B%20fill%3A%20rgb(78%2C%20121%2C%20167)%3B%20fill-opacity%3A%201%3B%20stroke%3A%20rgb(255%2C%20255%2C%20255)%3B%20stroke-opacity%3A%201%3B%22%2F%3E%3C%2Fg%3E%3Cg%20class%3D%22text%22%2F%3E%3C%2Fg%3E%3Cg%20class%3D%22trace%20scatter%20trace810820%22%20style%3D%22stroke-miterlimit%3A%202%3B%20opacity%3A%201%3B%22%3E%3Cg%20class%3D%22fills%22%2F%3E%3Cg%20class%3D%22errorbars%22%2F%3E%3Cg%20class%3D%22lines%22%2F%3E%3Cg%20class%3D%22points%22%3E%3Cpath%20class%3D%22point%22%20transform%3D%22translate(95.87%2C62.07)%22%20d%3D%22M42.56%2C0A42.56%2C42.56%200%201%2C1%200%2C-42.56A42.56%2C42.56%200%200%2C1%2042.56%2C0Z%22%20style%3D%22opacity%3A%200.7%3B%20stroke-width%3A%201px%3B%20fill%3A%20rgb(242%2C%20142%2C%2044)%3B%20fill-opacity%3A%201%3B%20stroke%3A%20rgb(255%2C%20255%2C%20255)%3B%20stroke-opacity%3A%201%3B%22%2F%3E%3C%2Fg%3E%3Cg%20class%3D%22text%22%2F%3E%3C%2Fg%3E%3Cg%20class%3D%22trace%20scatter%20tracea66b00%22%20style%3D%22stroke-miterlimit%3A%202%3B%20opacity%3A%201%3B%22%3E%3Cg%20class%3D%22fills%22%2F%3E%3Cg%20class%3D%22errorbars%22%2F%3E%3Cg%20class%3D%22lines%22%2F%3E%3Cg%20class%3D%22points%22%3E%3Cpath%20class%3D%22point%22%20transform%3D%22translate(157%2C61.01)%22%20d%3D%22M42.74%2C0A42.74%2C42.74%200%201%2C1%200%2C-42.74A42.74%2C42.74%200%200%2C1%2042.74%2C0Z%22%20style%3D%22opacity%3A%200.7%3B%20stroke-width%3A%201px%3B%20fill%3A%20rgb(225%2C%2087%2C%2089)%3B%20fill-opacity%3A%201%3B%20stroke%3A%20rgb(255%2C%20255%2C%20255)%3B%20stroke-opacity%3A%201%3B%22%2F%3E%3C%2Fg%3E%3Cg%20class%3D%22text%22%2F%3E%3C%2Fg%3E%3C%2Fg%3E%3C%2Fg%3E%3Cg%20class%3D%22overplot%22%2F%3E%3Cpath%20class%3D%22xlines-above%20crisp%22%20d%3D%22M0%2C0%22%20style%3D%22fill%3A%20none%3B%22%2F%3E%3Cpath%20class%3D%22ylines-above%20crisp%22%20d%3D%22M0%2C0%22%20style%3D%22fill%3A%20none%3B%22%2F%3E%3Cg%20class%3D%22overlines-above%22%2F%3E%3Cg%20class%3D%22xaxislayer-above%22%2F%3E%3Cg%20class%3D%22yaxislayer-above%22%2F%3E%3Cg%20class%3D%22overaxes-above%22%2F%3E%3C%2Fg%3E%3Cg%20class%3D%22subplot%20x3y5%22%3E%3Cg%20class%3D%22layer-subplot%22%3E%3Cg%20class%3D%22shapelayer%22%2F%3E%3Cg%20class%3D%22imagelayer%22%2F%3E%3C%2Fg%3E%3Cg%20class%3D%22gridlayer%22%3E%3Cg%20class%3D%22x3%22%3E%3Cpath%20class%3D%22x3grid%20crisp%22%20transform%3D%22translate(918.88%2C0)%22%20d%3D%22M0%2C463.3333333333333v151.66666666666666%22%20style%3D%22stroke%3A%20rgb(238%2C%20238%2C%20238)%3B%20stroke-opacity%3A%201%3B%20stroke-width%3A%201px%3B%22%2F%3E%3Cpath%20class%3D%22x3grid%20crisp%22%20transform%3D%22translate(992.27%2C0)%22%20d%3D%22M0%2C463.3333333333333v151.66666666666666%22%20style%3D%22stroke%3A%20rgb(238%2C%20238%2C%20238)%3B%20stroke-opacity%3A%201%3B%20stroke-width%3A%201px%3B%22%2F%3E%3Cpath%20class%3D%22x3grid%20crisp%22%20transform%3D%22translate(1065.66%2C0)%22%20d%3D%22M0%2C463.3333333333333v151.66666666666666%22%20style%3D%22stroke%3A%20rgb(238%2C%20238%2C%20238)%3B%20stroke-opacity%3A%201%3B%20stroke-width%3A%201px%3B%22%2F%3E%3Cpath%20class%3D%22x3grid%20crisp%22%20transform%3D%22translate(1139.06%2C0)%22%20d%3D%22M0%2C463.3333333333333v151.66666666666666%22%20style%3D%22stroke%3A%20rgb(238%2C%20238%2C%20238)%3B%20stroke-opacity%3A%201%3B%20stroke-width%3A%201px%3B%22%2F%3E%3C%2Fg%3E%3Cg%20class%3D%22y5%22%3E%3Cpath%20class%3D%22y5grid%20crisp%22%20transform%3D%22translate(0%2C548.0133333333333)%22%20d%3D%22M870%2C0h316%22%20style%3D%22stroke%3A%20rgb(238%2C%20238%2C%20238)%3B%20stroke-opacity%3A%201%3B%20stroke-width%3A%201px%3B%22%2F%3E%3Cpath%20class%3D%22y5grid%20crisp%22%20transform%3D%22translate(0%2C513.3133333333333)%22%20d%3D%22M870%2C0h316%22%20style%3D%22stroke%3A%20rgb(238%2C%20238%2C%20238)%3B%20stroke-opacity%3A%201%3B%20stroke-width%3A%201px%3B%22%2F%3E%3Cpath%20class%3D%22y5grid%20crisp%22%20transform%3D%22translate(0%2C478.62333333333333)%22%20d%3D%22M870%2C0h316%22%20style%3D%22stroke%3A%20rgb(238%2C%20238%2C%20238)%3B%20stroke-opacity%3A%201%3B%20stroke-width%3A%201px%3B%22%2F%3E%3C%2Fg%3E%3C%2Fg%3E%3Cg%20class%3D%22zerolinelayer%22%3E%3Cpath%20class%3D%22y5zl%20zl%20crisp%22%20transform%3D%22translate(0%2C582.7033333333334)%22%20d%3D%22M870%2C0h316%22%20style%3D%22stroke%3A%20rgb(68%2C%2068%2C%2068)%3B%20stroke-opacity%3A%201%3B%20stroke-width%3A%201px%3B%22%2F%3E%3C%2Fg%3E%3Cpath%20class%3D%22xlines-below%22%2F%3E%3Cpath%20class%3D%22ylines-below%22%2F%3E%3Cg%20class%3D%22overlines-below%22%2F%3E%3Cg%20class%3D%22xaxislayer-below%22%2F%3E%3Cg%20class%3D%22yaxislayer-below%22%2F%3E%3Cg%20class%3D%22overaxes-below%22%2F%3E%3Cg%20class%3D%22plot%22%20transform%3D%22translate(870%2C463.3333333333333)%22%20clip-path%3D%22url('%23clip8f02f0x3y5plot')%22%3E%3Cg%20class%3D%22scatterlayer%20mlayer%22%3E%3Cg%20class%3D%22trace%20scatter%20trace6d7d94%22%20style%3D%22stroke-miterlimit%3A%202%3B%20opacity%3A%201%3B%22%3E%3Cg%20class%3D%22fills%22%2F%3E%3Cg%20class%3D%22errorbars%22%2F%3E%3Cg%20class%3D%22lines%22%2F%3E%3Cg%20class%3D%22points%22%3E%3Cpath%20class%3D%22point%22%20transform%3D%22translate(249.97%2C59.54)%22%20d%3D%22M40.19%2C0A40.19%2C40.19%200%201%2C1%200%2C-40.19A40.19%2C40.19%200%200%2C1%2040.19%2C0Z%22%20style%3D%22opacity%3A%200.7%3B%20stroke-width%3A%201px%3B%20fill%3A%20rgb(78%2C%20121%2C%20167)%3B%20fill-opacity%3A%201%3B%20stroke%3A%20rgb(255%2C%20255%2C%20255)%3B%20stroke-opacity%3A%201%3B%22%2F%3E%3C%2Fg%3E%3Cg%20class%3D%22text%22%2F%3E%3C%2Fg%3E%3Cg%20class%3D%22trace%20scatter%20trace12d846%22%20style%3D%22stroke-miterlimit%3A%202%3B%20opacity%3A%201%3B%22%3E%3Cg%20class%3D%22fills%22%2F%3E%3Cg%20class%3D%22errorbars%22%2F%3E%3Cg%20class%3D%22lines%22%2F%3E%3Cg%20class%3D%22points%22%3E%3Cpath%20class%3D%22point%22%20transform%3D%22translate(95.87%2C58.43)%22%20d%3D%22M35.86%2C0A35.86%2C35.86%200%201%2C1%200%2C-35.86A35.86%2C35.86%200%200%2C1%2035.86%2C0Z%22%20style%3D%22opacity%3A%200.7%3B%20stroke-width%3A%201px%3B%20fill%3A%20rgb(242%2C%20142%2C%2044)%3B%20fill-opacity%3A%201%3B%20stroke%3A%20rgb(255%2C%20255%2C%20255)%3B%20stroke-opacity%3A%201%3B%22%2F%3E%3C%2Fg%3E%3Cg%20class%3D%22text%22%2F%3E%3C%2Fg%3E%3Cg%20class%3D%22trace%20scatter%20trace39cb26%22%20style%3D%22stroke-miterlimit%3A%202%3B%20opacity%3A%201%3B%22%3E%3Cg%20class%3D%22fills%22%2F%3E%3Cg%20class%3D%22errorbars%22%2F%3E%3Cg%20class%3D%22lines%22%2F%3E%3Cg%20class%3D%22points%22%3E%3Cpath%20class%3D%22point%22%20transform%3D%22translate(157%2C57.69)%22%20d%3D%22M35.95%2C0A35.95%2C35.95%200%201%2C1%200%2C-35.95A35.95%2C35.95%200%200%2C1%2035.95%2C0Z%22%20style%3D%22opacity%3A%200.7%3B%20stroke-width%3A%201px%3B%20fill%3A%20rgb(225%2C%2087%2C%2089)%3B%20fill-opacity%3A%201%3B%20stroke%3A%20rgb(255%2C%20255%2C%20255)%3B%20stroke-opacity%3A%201%3B%22%2F%3E%3C%2Fg%3E%3Cg%20class%3D%22text%22%2F%3E%3C%2Fg%3E%3C%2Fg%3E%3C%2Fg%3E%3Cg%20class%3D%22overplot%22%2F%3E%3Cpath%20class%3D%22xlines-above%20crisp%22%20d%3D%22M0%2C0%22%20style%3D%22fill%3A%20none%3B%22%2F%3E%3Cpath%20class%3D%22ylines-above%20crisp%22%20d%3D%22M0%2C0%22%20style%3D%22fill%3A%20none%3B%22%2F%3E%3Cg%20class%3D%22overlines-above%22%2F%3E%3Cg%20class%3D%22xaxislayer-above%22%3E%3Cg%20class%3D%22x3tick%22%3E%3Ctext%20text-anchor%3D%22middle%22%20x%3D%220%22%20y%3D%22628%22%20data-unformatted%3D%220.84%22%20data-math%3D%22N%22%20transform%3D%22translate(918.88%2C0)%22%20style%3D%22font-family%3A%20%26quot%3BOpen%20Sans%26quot%3B%2C%20verdana%2C%20arial%2C%20sans-serif%3B%20font-size%3A%2012px%3B%20fill%3A%20rgb(89%2C%2089%2C%2089)%3B%20fill-opacity%3A%201%3B%20white-space%3A%20pre%3B%22%3E0.84%3C%2Ftext%3E%3C%2Fg%3E%3Cg%20class%3D%22x3tick%22%3E%3Ctext%20text-anchor%3D%22middle%22%20x%3D%220%22%20y%3D%22628%22%20data-unformatted%3D%220.86%22%20data-math%3D%22N%22%20transform%3D%22translate(992.27%2C0)%22%20style%3D%22font-family%3A%20%26quot%3BOpen%20Sans%26quot%3B%2C%20verdana%2C%20arial%2C%20sans-serif%3B%20font-size%3A%2012px%3B%20fill%3A%20rgb(89%2C%2089%2C%2089)%3B%20fill-opacity%3A%201%3B%20white-space%3A%20pre%3B%22%3E0.86%3C%2Ftext%3E%3C%2Fg%3E%3Cg%20class%3D%22x3tick%22%3E%3Ctext%20text-anchor%3D%22middle%22%20x%3D%220%22%20y%3D%22628%22%20data-unformatted%3D%220.88%22%20data-math%3D%22N%22%20transform%3D%22translate(1065.66%2C0)%22%20style%3D%22font-family%3A%20%26quot%3BOpen%20Sans%26quot%3B%2C%20verdana%2C%20arial%2C%20sans-serif%3B%20font-size%3A%2012px%3B%20fill%3A%20rgb(89%2C%2089%2C%2089)%3B%20fill-opacity%3A%201%3B%20white-space%3A%20pre%3B%22%3E0.88%3C%2Ftext%3E%3C%2Fg%3E%3Cg%20class%3D%22x3tick%22%3E%3Ctext%20text-anchor%3D%22middle%22%20x%3D%220%22%20y%3D%22628%22%20data-unformatted%3D%220.9%22%20data-math%3D%22N%22%20transform%3D%22translate(1139.06%2C0)%22%20style%3D%22font-family%3A%20%26quot%3BOpen%20Sans%26quot%3B%2C%20verdana%2C%20arial%2C%20sans-serif%3B%20font-size%3A%2012px%3B%20fill%3A%20rgb(89%2C%2089%2C%2089)%3B%20fill-opacity%3A%201%3B%20white-space%3A%20pre%3B%22%3E0.9%3C%2Ftext%3E%3C%2Fg%3E%3C%2Fg%3E%3Cg%20class%3D%22yaxislayer-above%22%2F%3E%3Cg%20class%3D%22overaxes-above%22%2F%3E%3C%2Fg%3E%3C%2Fg%3E%3Cg%20class%3D%22polarlayer%22%2F%3E%3Cg%20class%3D%22ternarylayer%22%2F%3E%3Cg%20class%3D%22geolayer%22%2F%3E%3Cg%20class%3D%22funnelarealayer%22%2F%3E%3Cg%20class%3D%22pielayer%22%2F%3E%3Cg%20class%3D%22treemaplayer%22%2F%3E%3Cg%20class%3D%22sunburstlayer%22%2F%3E%3Cg%20class%3D%22glimages%22%2F%3E%3C%2Fsvg%3E%3Cdiv%20class%3D%22gl-container%22%3E%3C%2Fdiv%3E%3Csvg%20class%3D%22main-svg%22%20xmlns%3D%22http%3A%2F%2Fwww.w3.org%2F2000%2Fsvg%22%20xmlns%3Axlink%3D%22http%3A%2F%2Fwww.w3.org%2F1999%2Fxlink%22%20width%3D%221310%22%20height%3D%22655%22%3E%3Cdefs%20id%3D%22topdefs-8f02f0%22%3E%3Cg%20class%3D%22clips%22%2F%3E%3CclipPath%20id%3D%22legend8f02f0%22%3E%3Crect%20width%3D%22102%22%20height%3D%2287%22%20x%3D%220%22%20y%3D%220%22%2F%3E%3C%2FclipPath%3E%3C%2Fdefs%3E%3Cg%20class%3D%22indicatorlayer%22%2F%3E%3Cg%20class%3D%22layer-above%22%3E%3Cg%20class%3D%22imagelayer%22%2F%3E%3Cg%20class%3D%22shapelayer%22%2F%3E%3C%2Fg%3E%3Cg%20class%3D%22infolayer%22%3E%3Cg%20class%3D%22legend%22%20pointer-events%3D%22all%22%20transform%3D%22translate(1208%2C30)%22%3E%3Crect%20class%3D%22bg%22%20shape-rendering%3D%22crispEdges%22%20width%3D%22102%22%20height%3D%2287%22%20x%3D%220%22%20y%3D%220%22%20style%3D%22stroke%3A%20rgb(68%2C%2068%2C%2068)%3B%20stroke-opacity%3A%201%3B%20fill%3A%20rgb(255%2C%20255%2C%20255)%3B%20fill-opacity%3A%201%3B%20stroke-width%3A%200px%3B%22%2F%3E%3Cg%20class%3D%22scrollbox%22%20transform%3D%22%22%20clip-path%3D%22url('%23legend8f02f0')%22%3E%3Cg%20class%3D%22groups%22%20transform%3D%22%22%3E%3Cg%20class%3D%22traces%22%20transform%3D%22translate(0%2C14.5)%22%20style%3D%22opacity%3A%201%3B%22%3E%3Ctext%20class%3D%22legendtext%22%20text-anchor%3D%22start%22%20x%3D%2240%22%20y%3D%224.680000000000001%22%20data-unformatted%3D%22Basic%22%20data-math%3D%22N%22%20style%3D%22font-family%3A%20%26quot%3BOpen%20Sans%26quot%3B%2C%20verdana%2C%20arial%2C%20sans-serif%3B%20font-size%3A%2012px%3B%20fill%3A%20rgb(89%2C%2089%2C%2089)%3B%20fill-opacity%3A%201%3B%20white-space%3A%20pre%3B%22%3EBasic%3C%2Ftext%3E%3Cg%20class%3D%22layers%22%20style%3D%22opacity%3A%201%3B%22%3E%3Cg%20class%3D%22legendfill%22%2F%3E%3Cg%20class%3D%22legendlines%22%2F%3E%3Cg%20class%3D%22legendsymbols%22%3E%3Cg%20class%3D%22legendpoints%22%3E%3Cpath%20class%3D%22scatterpts%22%20transform%3D%22translate(20%2C0)%22%20d%3D%22M8%2C0A8%2C8%200%201%2C1%200%2C-8A8%2C8%200%200%2C1%208%2C0Z%22%20style%3D%22opacity%3A%200.7%3B%20stroke-width%3A%201px%3B%20fill%3A%20rgb(78%2C%20121%2C%20167)%3B%20fill-opacity%3A%201%3B%20stroke%3A%20rgb(255%2C%20255%2C%20255)%3B%20stroke-opacity%3A%201%3B%22%2F%3E%3C%2Fg%3E%3C%2Fg%3E%3C%2Fg%3E%3Crect%20class%3D%22legendtoggle%22%20pointer-events%3D%22all%22%20x%3D%220%22%20y%3D%22-9.5%22%20width%3D%2296.265625%22%20height%3D%2219%22%20style%3D%22cursor%3A%20pointer%3B%20fill%3A%20rgb(0%2C%200%2C%200)%3B%20fill-opacity%3A%200%3B%22%2F%3E%3C%2Fg%3E%3C%2Fg%3E%3Cg%20class%3D%22groups%22%20transform%3D%22translate(0%2C10)%22%3E%3Cg%20class%3D%22traces%22%20transform%3D%22translate(0%2C33.5)%22%20style%3D%22opacity%3A%201%3B%22%3E%3Ctext%20class%3D%22legendtext%22%20text-anchor%3D%22start%22%20x%3D%2240%22%20y%3D%224.680000000000001%22%20data-unformatted%3D%22Extended%22%20data-math%3D%22N%22%20style%3D%22font-family%3A%20%26quot%3BOpen%20Sans%26quot%3B%2C%20verdana%2C%20arial%2C%20sans-serif%3B%20font-size%3A%2012px%3B%20fill%3A%20rgb(89%2C%2089%2C%2089)%3B%20fill-opacity%3A%201%3B%20white-space%3A%20pre%3B%22%3EExtended%3C%2Ftext%3E%3Cg%20class%3D%22layers%22%20style%3D%22opacity%3A%201%3B%22%3E%3Cg%20class%3D%22legendfill%22%2F%3E%3Cg%20class%3D%22legendlines%22%2F%3E%3Cg%20class%3D%22legendsymbols%22%3E%3Cg%20class%3D%22legendpoints%22%3E%3Cpath%20class%3D%22scatterpts%22%20transform%3D%22translate(20%2C0)%22%20d%3D%22M8%2C0A8%2C8%200%201%2C1%200%2C-8A8%2C8%200%200%2C1%208%2C0Z%22%20style%3D%22opacity%3A%200.7%3B%20stroke-width%3A%201px%3B%20fill%3A%20rgb(242%2C%20142%2C%2044)%3B%20fill-opacity%3A%201%3B%20stroke%3A%20rgb(255%2C%20255%2C%20255)%3B%20stroke-opacity%3A%201%3B%22%2F%3E%3C%2Fg%3E%3C%2Fg%3E%3C%2Fg%3E%3Crect%20class%3D%22legendtoggle%22%20pointer-events%3D%22all%22%20x%3D%220%22%20y%3D%22-9.5%22%20width%3D%2296.265625%22%20height%3D%2219%22%20style%3D%22cursor%3A%20pointer%3B%20fill%3A%20rgb(0%2C%200%2C%200)%3B%20fill-opacity%3A%200%3B%22%2F%3E%3C%2Fg%3E%3C%2Fg%3E%3Cg%20class%3D%22groups%22%20transform%3D%22translate(0%2C20)%22%3E%3Cg%20class%3D%22traces%22%20transform%3D%22translate(0%2C52.5)%22%20style%3D%22opacity%3A%201%3B%22%3E%3Ctext%20class%3D%22legendtext%22%20text-anchor%3D%22start%22%20x%3D%2240%22%20y%3D%224.680000000000001%22%20data-unformatted%3D%22Premium%22%20data-math%3D%22N%22%20style%3D%22font-family%3A%20%26quot%3BOpen%20Sans%26quot%3B%2C%20verdana%2C%20arial%2C%20sans-serif%3B%20font-size%3A%2012px%3B%20fill%3A%20rgb(89%2C%2089%2C%2089)%3B%20fill-opacity%3A%201%3B%20white-space%3A%20pre%3B%22%3EPremium%3C%2Ftext%3E%3Cg%20class%3D%22layers%22%20style%3D%22opacity%3A%201%3B%22%3E%3Cg%20class%3D%22legendfill%22%2F%3E%3Cg%20class%3D%22legendlines%22%2F%3E%3Cg%20class%3D%22legendsymbols%22%3E%3Cg%20class%3D%22legendpoints%22%3E%3Cpath%20class%3D%22scatterpts%22%20transform%3D%22translate(20%2C0)%22%20d%3D%22M8%2C0A8%2C8%200%201%2C1%200%2C-8A8%2C8%200%200%2C1%208%2C0Z%22%20style%3D%22opacity%3A%200.7%3B%20stroke-width%3A%201px%3B%20fill%3A%20rgb(225%2C%2087%2C%2089)%3B%20fill-opacity%3A%201%3B%20stroke%3A%20rgb(255%2C%20255%2C%20255)%3B%20stroke-opacity%3A%201%3B%22%2F%3E%3C%2Fg%3E%3C%2Fg%3E%3C%2Fg%3E%3Crect%20class%3D%22legendtoggle%22%20pointer-events%3D%22all%22%20x%3D%220%22%20y%3D%22-9.5%22%20width%3D%2296.265625%22%20height%3D%2219%22%20style%3D%22cursor%3A%20pointer%3B%20fill%3A%20rgb(0%2C%200%2C%200)%3B%20fill-opacity%3A%200%3B%22%2F%3E%3C%2Fg%3E%3C%2Fg%3E%3C%2Fg%3E%3Crect%20class%3D%22scrollbar%22%20rx%3D%2220%22%20ry%3D%223%22%20width%3D%220%22%20height%3D%220%22%20x%3D%220%22%20y%3D%220%22%20style%3D%22fill%3A%20rgb(128%2C%20139%2C%20164)%3B%20fill-opacity%3A%201%3B%22%2F%3E%3C%2Fg%3E%3Cg%20class%3D%22g-gtitle%22%2F%3E%3Cg%20class%3D%22g-xtitle%22%20transform%3D%22translate(0%2C-15)%22%3E%3Ctext%20class%3D%22xtitle%22%20x%3D%22238.00000000000003%22%20y%3D%22667%22%20text-anchor%3D%22middle%22%20data-unformatted%3D%22Corporate%20Auto%22%20data-math%3D%22N%22%20style%3D%22font-family%3A%20%26quot%3BOpen%20Sans%26quot%3B%2C%20verdana%2C%20arial%2C%20sans-serif%3B%20font-size%3A%2014px%3B%20fill%3A%20rgb(89%2C%2089%2C%2089)%3B%20opacity%3A%201%3B%20font-weight%3A%20normal%3B%20white-space%3A%20pre%3B%22%3ECorporate%20Auto%3C%2Ftext%3E%3C%2Fg%3E%3Cg%20class%3D%22g-x2title%22%20transform%3D%22translate(0%2C-15)%22%3E%3Ctext%20class%3D%22x2title%22%20x%3D%22633%22%20y%3D%22667%22%20text-anchor%3D%22middle%22%20data-unformatted%3D%22Personal%20Auto%22%20data-math%3D%22N%22%20style%3D%22font-family%3A%20%26quot%3BOpen%20Sans%26quot%3B%2C%20verdana%2C%20arial%2C%20sans-serif%3B%20font-size%3A%2014px%3B%20fill%3A%20rgb(89%2C%2089%2C%2089)%3B%20opacity%3A%201%3B%20font-weight%3A%20normal%3B%20white-space%3A%20pre%3B%22%3EPersonal%20Auto%3C%2Ftext%3E%3C%2Fg%3E%3Cg%20class%3D%22g-x3title%22%20transform%3D%22translate(0%2C-15)%22%3E%3Ctext%20class%3D%22x3title%22%20x%3D%221028%22%20y%3D%22667%22%20text-anchor%3D%22middle%22%20data-unformatted%3D%22Special%20Auto%22%20data-math%3D%22N%22%20style%3D%22font-family%3A%20%26quot%3BOpen%20Sans%26quot%3B%2C%20verdana%2C%20arial%2C%20sans-serif%3B%20font-size%3A%2014px%3B%20fill%3A%20rgb(89%2C%2089%2C%2089)%3B%20opacity%3A%201%3B%20font-weight%3A%20normal%3B%20white-space%3A%20pre%3B%22%3ESpecial%20Auto%3C%2Ftext%3E%3C%2Fg%3E%3Cg%20class%3D%22g-ytitle%22%3E%3Ctext%20class%3D%22ytitle%22%20transform%3D%22rotate(-90%2C42%2C105.83333333333334)%22%20x%3D%2242%22%20y%3D%22105.83333333333334%22%20text-anchor%3D%22middle%22%20data-unformatted%3D%22Base%22%20data-math%3D%22N%22%20style%3D%22font-family%3A%20%26quot%3BOpen%20Sans%26quot%3B%2C%20verdana%2C%20arial%2C%20sans-serif%3B%20font-size%3A%2014px%3B%20fill%3A%20rgb(89%2C%2089%2C%2089)%3B%20opacity%3A%201%3B%20font-weight%3A%20normal%3B%20white-space%3A%20pre%3B%22%3EBase%3C%2Ftext%3E%3C%2Fg%3E%3Cg%20class%3D%22g-y3title%22%3E%3Ctext%20class%3D%22y3title%22%20transform%3D%22rotate(-90%2C42%2C322.5)%22%20x%3D%2242%22%20y%3D%22322.5%22%20text-anchor%3D%22middle%22%20data-unformatted%3D%22Pareto%20price%20change%22%20data-math%3D%22N%22%20style%3D%22font-family%3A%20%26quot%3BOpen%20Sans%26quot%3B%2C%20verdana%2C%20arial%2C%20sans-serif%3B%20font-size%3A%2014px%3B%20fill%3A%20rgb(89%2C%2089%2C%2089)%3B%20opacity%3A%201%3B%20font-weight%3A%20normal%3B%20white-space%3A%20pre%3B%22%3EPareto%20price%20change%3C%2Ftext%3E%3C%2Fg%3E%3Cg%20class%3D%22g-y5title%22%3E%3Ctext%20class%3D%22y5title%22%20transform%3D%22rotate(-90%2C42%2C539.1666666666666)%22%20x%3D%2242%22%20y%3D%22539.1666666666666%22%20text-anchor%3D%22middle%22%20data-unformatted%3D%22Personal%20Auto%20Boost%22%20data-math%3D%22N%22%20style%3D%22font-family%3A%20%26quot%3BOpen%20Sans%26quot%3B%2C%20verdana%2C%20arial%2C%20sans-serif%3B%20font-size%3A%2014px%3B%20fill%3A%20rgb(89%2C%2089%2C%2089)%3B%20opacity%3A%201%3B%20font-weight%3A%20normal%3B%20white-space%3A%20pre%3B%22%3EPersonal%20Auto%20Boost%3C%2Ftext%3E%3C%2Fg%3E%3C%2Fg%3E%3Cg%20class%3D%22menulayer%22%2F%3E%3Cg%20class%3D%22zoomlayer%22%2F%3E%3C%2Fsvg%3E%3Cdiv%20class%3D%22modebar-container%22%20style%3D%22position%3A%20absolute%3B%20top%3A%200px%3B%20right%3A%200px%3B%20width%3A%20100%25%3B%22%3E%3Cdiv%20id%3D%22modebar-8f02f0%22%20class%3D%22modebar%20modebar--hover%20ease-bg%22%3E%3Cdiv%20class%3D%22modebar-group%22%3E%3Ca%20rel%3D%22tooltip%22%20class%3D%22modebar-btn%22%20data-title%3D%22Download%20plot%20as%20a%20png%22%20data-toggle%3D%22false%22%20data-gravity%3D%22n%22%3E%3Csvg%20xmlns%3D%22http%3A%2F%2Fwww.w3.org%2F2000%2Fsvg%22%20viewBox%3D%220%200%201000%201000%22%20class%3D%22icon%22%20height%3D%221em%22%20width%3D%221em%22%3E%3Cpath%20d%3D%22m500%20450c-83%200-150-67-150-150%200-83%2067-150%20150-150%2083%200%20150%2067%20150%20150%200%2083-67%20150-150%20150z%20m400%20150h-120c-16%200-34%2013-39%2029l-31%2093c-6%2015-23%2028-40%2028h-340c-16%200-34-13-39-28l-31-94c-6-15-23-28-40-28h-120c-55%200-100-45-100-100v-450c0-55%2045-100%20100-100h800c55%200%20100%2045%20100%20100v450c0%2055-45%20100-100%20100z%20m-400-550c-138%200-250%20112-250%20250%200%20138%20112%20250%20250%20250%20138%200%20250-112%20250-250%200-138-112-250-250-250z%20m365%20380c-19%200-35%2016-35%2035%200%2019%2016%2035%2035%2035%2019%200%2035-16%2035-35%200-19-16-35-35-35z%22%20transform%3D%22matrix(1%200%200%20-1%200%20850)%22%2F%3E%3C%2Fsvg%3E%3C%2Fa%3E%3C%2Fdiv%3E%3Cdiv%20class%3D%22modebar-group%22%3E%3Ca%20rel%3D%22tooltip%22%20class%3D%22modebar-btn%20active%22%20data-title%3D%22Zoom%22%20data-attr%3D%22dragmode%22%20data-val%3D%22zoom%22%20data-toggle%3D%22false%22%20data-gravity%3D%22n%22%3E%3Csvg%20xmlns%3D%22http%3A%2F%2Fwww.w3.org%2F2000%2Fsvg%22%20viewBox%3D%220%200%201000%201000%22%20class%3D%22icon%22%20height%3D%221em%22%20width%3D%221em%22%3E%3Cpath%20d%3D%22m1000-25l-250%20251c40%2063%2063%20138%2063%20218%200%20224-182%20406-407%20406-224%200-406-182-406-406s183-406%20407-406c80%200%20155%2022%20218%2062l250-250%20125%20125z%20m-812%20250l0%20438%20437%200%200-438-437%200z%20m62%20375l313%200%200-312-313%200%200%20312z%22%20transform%3D%22matrix(1%200%200%20-1%200%20850)%22%2F%3E%3C%2Fsvg%3E%3C%2Fa%3E%3Ca%20rel%3D%22tooltip%22%20class%3D%22modebar-btn%22%20data-title%3D%22Pan%22%20data-attr%3D%22dragmode%22%20data-val%3D%22pan%22%20data-toggle%3D%22false%22%20data-gravity%3D%22n%22%3E%3Csvg%20xmlns%3D%22http%3A%2F%2Fwww.w3.org%2F2000%2Fsvg%22%20viewBox%3D%220%200%201000%201000%22%20class%3D%22icon%22%20height%3D%221em%22%20width%3D%221em%22%3E%3Cpath%20d%3D%22m1000%20350l-187%20188%200-125-250%200%200%20250%20125%200-188%20187-187-187%20125%200%200-250-250%200%200%20125-188-188%20186-187%200%20125%20252%200%200-250-125%200%20187-188%20188%20188-125%200%200%20250%20250%200%200-126%20187%20188z%22%20transform%3D%22matrix(1%200%200%20-1%200%20850)%22%2F%3E%3C%2Fsvg%3E%3C%2Fa%3E%3Ca%20rel%3D%22tooltip%22%20class%3D%22modebar-btn%22%20data-title%3D%22Box%20Select%22%20data-attr%3D%22dragmode%22%20data-val%3D%22select%22%20data-toggle%3D%22false%22%20data-gravity%3D%22n%22%3E%3Csvg%20xmlns%3D%22http%3A%2F%2Fwww.w3.org%2F2000%2Fsvg%22%20viewBox%3D%220%200%201000%201000%22%20class%3D%22icon%22%20height%3D%221em%22%20width%3D%221em%22%3E%3Cpath%20d%3D%22m0%20850l0-143%20143%200%200%20143-143%200z%20m286%200l0-143%20143%200%200%20143-143%200z%20m285%200l0-143%20143%200%200%20143-143%200z%20m286%200l0-143%20143%200%200%20143-143%200z%20m-857-286l0-143%20143%200%200%20143-143%200z%20m857%200l0-143%20143%200%200%20143-143%200z%20m-857-285l0-143%20143%200%200%20143-143%200z%20m857%200l0-143%20143%200%200%20143-143%200z%20m-857-286l0-143%20143%200%200%20143-143%200z%20m286%200l0-143%20143%200%200%20143-143%200z%20m285%200l0-143%20143%200%200%20143-143%200z%20m286%200l0-143%20143%200%200%20143-143%200z%22%20transform%3D%22matrix(1%200%200%20-1%200%20850)%22%2F%3E%3C%2Fsvg%3E%3C%2Fa%3E%3Ca%20rel%3D%22tooltip%22%20class%3D%22modebar-btn%22%20data-title%3D%22Lasso%20Select%22%20data-attr%3D%22dragmode%22%20data-val%3D%22lasso%22%20data-toggle%3D%22false%22%20data-gravity%3D%22n%22%3E%3Csvg%20xmlns%3D%22http%3A%2F%2Fwww.w3.org%2F2000%2Fsvg%22%20viewBox%3D%220%200%201031%201000%22%20class%3D%22icon%22%20height%3D%221em%22%20width%3D%221em%22%3E%3Cpath%20d%3D%22m1018%20538c-36%20207-290%20336-568%20286-277-48-473-256-436-463%2010-57%2036-108%2076-151-13-66%2011-137%2068-183%2034-28%2075-41%20114-42l-55-70%200%200c-2-1-3-2-4-3-10-14-8-34%205-45%2014-11%2034-8%2045%204%201%201%202%203%202%205l0%200%20113%20140c16%2011%2031%2024%2045%2040%204%203%206%207%208%2011%2048-3%20100%200%20151%209%20278%2048%20473%20255%20436%20462z%20m-624-379c-80%2014-149%2048-197%2096%2042%2042%20109%2047%20156%209%2033-26%2047-66%2041-105z%20m-187-74c-19%2016-33%2037-39%2060%2050-32%20109-55%20174-68-42-25-95-24-135%208z%20m360%2075c-34-7-69-9-102-8%208%2062-16%20128-68%20170-73%2059-175%2054-244-5-9%2020-16%2040-20%2061-28%20159%20121%20317%20333%20354s407-60%20434-217c28-159-121-318-333-355z%22%20transform%3D%22matrix(1%200%200%20-1%200%20850)%22%2F%3E%3C%2Fsvg%3E%3C%2Fa%3E%3C%2Fdiv%3E%3Cdiv%20class%3D%22modebar-group%22%3E%3Ca%20rel%3D%22tooltip%22%20class%3D%22modebar-btn%22%20data-title%3D%22Zoom%20in%22%20data-attr%3D%22zoom%22%20data-val%3D%22in%22%20data-toggle%3D%22false%22%20data-gravity%3D%22n%22%3E%3Csvg%20xmlns%3D%22http%3A%2F%2Fwww.w3.org%2F2000%2Fsvg%22%20viewBox%3D%220%200%20875%201000%22%20class%3D%22icon%22%20height%3D%221em%22%20width%3D%221em%22%3E%3Cpath%20d%3D%22m1%20787l0-875%20875%200%200%20875-875%200z%20m687-500l-187%200%200-187-125%200%200%20187-188%200%200%20125%20188%200%200%20187%20125%200%200-187%20187%200%200-125z%22%20transform%3D%22matrix(1%200%200%20-1%200%20850)%22%2F%3E%3C%2Fsvg%3E%3C%2Fa%3E%3Ca%20rel%3D%22tooltip%22%20class%3D%22modebar-btn%22%20data-title%3D%22Zoom%20out%22%20data-attr%3D%22zoom%22%20data-val%3D%22out%22%20data-toggle%3D%22false%22%20data-gravity%3D%22n%22%3E%3Csvg%20xmlns%3D%22http%3A%2F%2Fwww.w3.org%2F2000%2Fsvg%22%20viewBox%3D%220%200%20875%201000%22%20class%3D%22icon%22%20height%3D%221em%22%20width%3D%221em%22%3E%3Cpath%20d%3D%22m0%20788l0-876%20875%200%200%20876-875%200z%20m688-500l-500%200%200%20125%20500%200%200-125z%22%20transform%3D%22matrix(1%200%200%20-1%200%20850)%22%2F%3E%3C%2Fsvg%3E%3C%2Fa%3E%3Ca%20rel%3D%22tooltip%22%20class%3D%22modebar-btn%22%20data-title%3D%22Autoscale%22%20data-attr%3D%22zoom%22%20data-val%3D%22auto%22%20data-toggle%3D%22false%22%20data-gravity%3D%22n%22%3E%3Csvg%20xmlns%3D%22http%3A%2F%2Fwww.w3.org%2F2000%2Fsvg%22%20viewBox%3D%220%200%201000%201000%22%20class%3D%22icon%22%20height%3D%221em%22%20width%3D%221em%22%3E%3Cpath%20d%3D%22m250%20850l-187%200-63%200%200-62%200-188%2063%200%200%20188%20187%200%200%2062z%20m688%200l-188%200%200-62%20188%200%200-188%2062%200%200%20188%200%2062-62%200z%20m-875-938l0%20188-63%200%200-188%200-62%2063%200%20187%200%200%2062-187%200z%20m875%20188l0-188-188%200%200-62%20188%200%2062%200%200%2062%200%20188-62%200z%20m-125%20188l-1%200-93-94-156%20156%20156%20156%2092-93%202%200%200%20250-250%200%200-2%2093-92-156-156-156%20156%2094%2092%200%202-250%200%200-250%200%200%2093%2093%20157-156-157-156-93%2094%200%200%200-250%20250%200%200%200-94%2093%20156%20157%20156-157-93-93%200%200%20250%200%200%20250z%22%20transform%3D%22matrix(1%200%200%20-1%200%20850)%22%2F%3E%3C%2Fsvg%3E%3C%2Fa%3E%3C%2Fdiv%3E%3Cdiv%20class%3D%22modebar-group%22%3E%3C%2Fdiv%3E%3C%2Fdiv%3E%3C%2Fdiv%3E%3Csvg%20class%3D%22main-svg%22%20xmlns%3D%22http%3A%2F%2Fwww.w3.org%2F2000%2Fsvg%22%20xmlns%3Axlink%3D%22http%3A%2F%2Fwww.w3.org%2F1999%2Fxlink%22%20width%3D%221310%22%20height%3D%22655%22%3E%3Cg%20class%3D%22hoverlayer%22%2F%3E%3C%2Fsvg%3E%3C%2Fdiv%3E%3C%2Fdiv%3E%3C%2Fdiv%3E%3C%2Fdiv%3E%3C%2Fdiv%3E%3C%2Fdiv%3E%3C%2Fdiv%3E%3C%2Fdiv%3E%3C%2Fdiv%3E%3C%2Fdiv%3E%3C%2FforeignObject%3E%3C%2Fsvg%3E\">"
      ],
      "text/plain": [
       "Open the notebook in JupyterLab with the Atoti extension enabled to build this widget."
      ]
     },
     "metadata": {},
     "output_type": "display_data"
    }
   ],
   "source": [
    "session.visualize(\"Scenario: Revenue and sales by policy and coverage type\")"
   ]
  },
  {
   "cell_type": "code",
   "execution_count": 46,
   "id": "6c37b732-4ad0-43c8-9f49-4413d12482aa",
   "metadata": {
    "atoti": {
     "height": 261,
     "widget": {
      "mapping": {
       "goal": [
        "[Measures].[Price.SUM]"
       ],
       "horizontalSubplots": [
        "[Epoch].[Epoch].[Branch]"
       ],
       "maximum": [],
       "minimum": [],
       "value": [
        "[Measures].[revenue_realised]"
       ],
       "verticalSubplots": []
      },
      "query": {
       "mdx": "SELECT NON EMPTY Crossjoin([Epoch].[Epoch].[Branch].Members, {[Measures].[revenue_realised], [Measures].[Price.SUM]}) ON COLUMNS FROM [predictions] CELL PROPERTIES VALUE, FORMATTED_VALUE, BACK_COLOR, FORE_COLOR, FONT_FLAGS",
       "updateMode": "once"
      },
      "serverKey": "default",
      "widgetKey": "plotly-gauge-chart"
     }
    },
    "tags": []
   },
   "outputs": [
    {
     "data": {
      "application/vnd.atoti.widget.v0+json": {
       "name": "Scenarios: Revenue realised gauge",
       "sessionId": "1685500978_82OHXW",
       "sessionLocation": {
        "https": false,
        "port": 54578
       },
       "widgetCreationCode": "session.visualize()"
      },
      "text/html": [
       "<img src=\"data:image/svg+xml;charset=utf8,%3C%3Fxml%20version%3D%221.0%22%20standalone%3D%22no%22%3F%3E%3Csvg%20xmlns%3D%22http%3A%2F%2Fwww.w3.org%2F2000%2Fsvg%22%20xmlns%3Axlink%3D%22http%3A%2F%2Fwww.w3.org%2F1999%2Fxlink%22%20height%3D%22253%22%20width%3D%221310%22%20viewBox%3D%220%200%201310%20253%22%3E%3Cdefs%20id%3D%22defs-9888cd%22%3E%3Cg%20class%3D%22clips%22%2F%3E%3Cg%20class%3D%22gradients%22%2F%3E%3C%2Fdefs%3E%3Cg%20class%3D%22bglayer%22%2F%3E%3Cg%20class%3D%22draglayer%22%2F%3E%3Cg%20class%3D%22layer-below%22%3E%3Cg%20class%3D%22imagelayer%22%2F%3E%3Cg%20class%3D%22shapelayer%22%2F%3E%3C%2Fg%3E%3Cg%20class%3D%22cartesianlayer%22%2F%3E%3Cg%20class%3D%22polarlayer%22%2F%3E%3Cg%20class%3D%22ternarylayer%22%2F%3E%3Cg%20class%3D%22geolayer%22%2F%3E%3Cg%20class%3D%22funnelarealayer%22%2F%3E%3Cg%20class%3D%22pielayer%22%2F%3E%3Cg%20class%3D%22treemaplayer%22%2F%3E%3Cg%20class%3D%22sunburstlayer%22%2F%3E%3Cg%20class%3D%22glimages%22%2F%3E%3Cdefs%20id%3D%22topdefs-9888cd%22%3E%3Cg%20class%3D%22clips%22%2F%3E%3C%2Fdefs%3E%3Cg%20class%3D%22indicatorlayer%22%3E%3Cg%20class%3D%22trace%22%3E%3Cg%20class%3D%22numbers%22%20transform%3D%22translate(203.15789473684208%2C184.12703292100377)scale(0.5265832027892514)%22%3E%3Ctext%20text-anchor%3D%22middle%22%20class%3D%22number%22%20data-unformatted%3D%223.92M%22%20data-math%3D%22N%22%20style%3D%22font-family%3A%20%26quot%3BOpen%20Sans%26quot%3B%2C%20verdana%2C%20arial%2C%20sans-serif%3B%20font-size%3A%2080px%3B%20fill%3A%20rgb(89%2C%2089%2C%2089)%3B%20fill-opacity%3A%201%3B%20white-space%3A%20pre%3B%22%20x%3D%220%22%20y%3D%220%22%3E3.92M%3C%2Ftext%3E%3C%2Fg%3E%3Cg%20class%3D%22angular%22%20transform%3D%22translate(203.15789473684208%2C193.07894736842104)%22%3E%3Cg%20class%3D%22bg-arc%22%3E%3Cpath%20d%3D%22M-123.1578947368421%2C-1.5082492157920032e-14A123.1578947368421%2C123.1578947368421%200%200%2C1%20123.1578947368421%2C0L92.36842105263158%2C0A92.36842105263158%2C92.36842105263158%200%200%2C0%20-92.36842105263158%2C-1.1311869118440025e-14Z%22%20style%3D%22stroke%3A%20rgb(68%2C%2068%2C%2068)%3B%20stroke-opacity%3A%201%3B%20fill%3A%20rgb(255%2C%20255%2C%20255)%3B%20fill-opacity%3A%201%3B%20stroke-width%3A%200%3B%22%2F%3E%3C%2Fg%3E%3Cg%20class%3D%22value-arc%22%3E%3Cpath%20d%3D%22M-115.46052631578947%2C-1.4139836398050032e-14A115.46052631578947%2C115.46052631578947%200%200%2C1%2057.73026315789472%2C-99.99174892379538L50.03289473684209%2C-86.659515733956A100.0657894736842%2C100.0657894736842%200%200%2C0%20-100.0657894736842%2C-1.2254524878310027e-14Z%22%20style%3D%22stroke%3A%20rgb(68%2C%2068%2C%2068)%3B%20stroke-opacity%3A%201%3B%20fill%3A%20rgb(78%2C%20121%2C%20167)%3B%20fill-opacity%3A%201%3B%20stroke-width%3A%200%3B%22%2F%3E%3C%2Fg%3E%3Cg%20class%3D%22threshold-arc%22%3E%3Cpath%20d%3D%22M109.75669366833304%2C-50.57541567215452A120.8486842105263%2C120.8486842105263%200%200%2C1%20109.75669366833304%2C-50.57541567215452L85.98772816054118%2C-39.6227778832803A94.67763157894737%2C94.67763157894737%200%200%2C0%2085.98772816054118%2C-39.6227778832803Z%22%20style%3D%22stroke%3A%20rgb(245%2C%2034%2C%2045)%3B%20stroke-opacity%3A%201%3B%20fill%3A%20rgb(0%2C%200%2C%200)%3B%20fill-opacity%3A%201%3B%20stroke-width%3A%203%3B%22%2F%3E%3C%2Fg%3E%3Cg%20class%3D%22gauge-outline%22%3E%3Cpath%20d%3D%22M-123.1578947368421%2C-1.5082492157920032e-14A123.1578947368421%2C123.1578947368421%200%200%2C1%20123.1578947368421%2C0L92.36842105263158%2C0A92.36842105263158%2C92.36842105263158%200%200%2C0%20-92.36842105263158%2C-1.1311869118440025e-14Z%22%20style%3D%22stroke%3A%20rgb(68%2C%2068%2C%2068)%3B%20stroke-opacity%3A%201%3B%20fill%3A%20rgb(0%2C%200%2C%200)%3B%20fill-opacity%3A%200%3B%20stroke-width%3A%201%3B%22%2F%3E%3C%2Fg%3E%3C%2Fg%3E%3Cg%20class%3D%22angularaxis%20crisp%22%3E%3Cpath%20class%3D%22xangularaxistick%20ticks%20crisp%22%20d%3D%22M0.5%2C0h5%22%20transform%3D%22translate(79.99999999999999%2C193.078947368421)rotate(-180)%22%20style%3D%22stroke%3A%20rgb(68%2C%2068%2C%2068)%3B%20stroke-opacity%3A%201%3B%20stroke-width%3A%201px%3B%22%2F%3E%3Cpath%20class%3D%22xangularaxistick%20ticks%20crisp%22%20d%3D%22M0.5%2C0h5%22%20transform%3D%22translate(97.12975042011193%2C130.4219473703225)rotate(-149.41916878459128)%22%20style%3D%22stroke%3A%20rgb(68%2C%2068%2C%2068)%3B%20stroke-opacity%3A%201%3B%20stroke-width%3A%201px%3B%22%2F%3E%3Cpath%20class%3D%22xangularaxistick%20ticks%20crisp%22%20d%3D%22M0.5%2C0h5%22%20transform%3D%22translate(143.7539259200621%2C85.19458555065754)rotate(-118.83833756918254)%22%20style%3D%22stroke%3A%20rgb(68%2C%2068%2C%2068)%3B%20stroke-opacity%3A%201%3B%20stroke-width%3A%201px%3B%22%2F%3E%3Cpath%20class%3D%22xangularaxistick%20ticks%20crisp%22%20d%3D%22M0.5%2C0h5%22%20transform%3D%22translate(206.90282623720498%2C69.97800292009983)rotate(-88.25750635377385)%22%20style%3D%22stroke%3A%20rgb(68%2C%2068%2C%2068)%3B%20stroke-opacity%3A%201%3B%20stroke-width%3A%201px%3B%22%2F%3E%3Cpath%20class%3D%22xangularaxistick%20ticks%20crisp%22%20d%3D%22M0.5%2C0h5%22%20transform%3D%22translate(269.0099786082872%2C89.0050789585304)rotate(-57.676675138365106)%22%20style%3D%22stroke%3A%20rgb(68%2C%2068%2C%2068)%3B%20stroke-opacity%3A%201%3B%20stroke-width%3A%201px%3B%22%2F%3E%3Cpath%20class%3D%22xangularaxistick%20ticks%20crisp%22%20d%3D%22M0.5%2C0h5%22%20transform%3D%22translate(312.7986989572493%2C136.98294852792077)rotate(-27.09584392295638)%22%20style%3D%22stroke%3A%20rgb(68%2C%2068%2C%2068)%3B%20stroke-opacity%3A%201%3B%20stroke-width%3A%201px%3B%22%2F%3E%3Cg%20class%3D%22xangularaxistick%22%3E%3Ctext%20text-anchor%3D%22end%22%20x%3D%22-7.9%22%20y%3D%224.199999999999998%22%20data-unformatted%3D%220%22%20data-math%3D%22N%22%20transform%3D%22translate(79.99999999999999%2C193.078947368421)%22%20style%3D%22font-family%3A%20%26quot%3BOpen%20Sans%26quot%3B%2C%20verdana%2C%20arial%2C%20sans-serif%3B%20font-size%3A%2012px%3B%20fill%3A%20rgb(89%2C%2089%2C%2089)%3B%20fill-opacity%3A%201%3B%20white-space%3A%20pre%3B%22%3E0%3C%2Ftext%3E%3C%2Fg%3E%3Cg%20class%3D%22xangularaxistick%22%3E%3Ctext%20text-anchor%3D%22end%22%20x%3D%22-6.801207035017606%22%20y%3D%22-1.6243286252789835%22%20data-unformatted%3D%221M%22%20data-math%3D%22N%22%20transform%3D%22translate(97.12975042011193%2C130.4219473703225)%22%20style%3D%22font-family%3A%20%26quot%3BOpen%20Sans%26quot%3B%2C%20verdana%2C%20arial%2C%20sans-serif%3B%20font-size%3A%2012px%3B%20fill%3A%20rgb(89%2C%2089%2C%2089)%3B%20fill-opacity%3A%201%3B%20white-space%3A%20pre%3B%22%3E1M%3C%2Ftext%3E%3C%2Fg%3E%3Cg%20class%3D%22xangularaxistick%22%3E%3Ctext%20text-anchor%3D%22end%22%20x%3D%22-3.8104853501703753%22%20y%3D%22-6.996808929981743%22%20data-unformatted%3D%222M%22%20data-math%3D%22N%22%20transform%3D%22translate(143.7539259200621%2C85.19458555065754)%22%20style%3D%22font-family%3A%20%26quot%3BOpen%20Sans%26quot%3B%2C%20verdana%2C%20arial%2C%20sans-serif%3B%20font-size%3A%2012px%3B%20fill%3A%20rgb(89%2C%2089%2C%2089)%3B%20fill-opacity%3A%201%3B%20white-space%3A%20pre%3B%22%3E2M%3C%2Ftext%3E%3C%2Fg%3E%3Cg%20class%3D%22xangularaxistick%22%3E%3Ctext%20text-anchor%3D%22middle%22%20x%3D%220.24021975136943188%22%20y%3D%22-10.167525339661328%22%20data-unformatted%3D%223M%22%20data-math%3D%22N%22%20transform%3D%22translate(206.90282623720498%2C69.97800292009983)%22%20style%3D%22font-family%3A%20%26quot%3BOpen%20Sans%26quot%3B%2C%20verdana%2C%20arial%2C%20sans-serif%3B%20font-size%3A%2012px%3B%20fill%3A%20rgb(89%2C%2089%2C%2089)%3B%20fill-opacity%3A%201%3B%20white-space%3A%20pre%3B%22%3E3M%3C%2Ftext%3E%3C%2Fg%3E%3Cg%20class%3D%22xangularaxistick%22%3E%3Ctext%20text-anchor%3D%22start%22%20x%3D%224.224101619275178%22%20y%3D%22-6.458230664476188%22%20data-unformatted%3D%224M%22%20data-math%3D%22N%22%20transform%3D%22translate(269.0099786082872%2C89.0050789585304)%22%20style%3D%22font-family%3A%20%26quot%3BOpen%20Sans%26quot%3B%2C%20verdana%2C%20arial%2C%20sans-serif%3B%20font-size%3A%2012px%3B%20fill%3A%20rgb(89%2C%2089%2C%2089)%3B%20fill-opacity%3A%201%3B%20white-space%3A%20pre%3B%22%3E4M%3C%2Ftext%3E%3C%2Fg%3E%3Cg%20class%3D%22xangularaxistick%22%3E%3Ctext%20text-anchor%3D%22start%22%20x%3D%227.0329421852492%22%20y%3D%22-0.9524148702125665%22%20data-unformatted%3D%225M%22%20data-math%3D%22N%22%20transform%3D%22translate(312.7986989572493%2C136.98294852792077)%22%20style%3D%22font-family%3A%20%26quot%3BOpen%20Sans%26quot%3B%2C%20verdana%2C%20arial%2C%20sans-serif%3B%20font-size%3A%2012px%3B%20fill%3A%20rgb(89%2C%2089%2C%2089)%3B%20fill-opacity%3A%201%3B%20white-space%3A%20pre%3B%22%3E5M%3C%2Ftext%3E%3C%2Fg%3E%3C%2Fg%3E%3Ctext%20class%3D%22title%22%20text-anchor%3D%22middle%22%20data-unformatted%3D%22Base%22%20data-math%3D%22N%22%20x%3D%220%22%20y%3D%220%22%20style%3D%22font-family%3A%20%26quot%3BOpen%20Sans%26quot%3B%2C%20verdana%2C%20arial%2C%20sans-serif%3B%20font-size%3A%2020px%3B%20fill%3A%20rgb(89%2C%2089%2C%2089)%3B%20fill-opacity%3A%201%3B%20white-space%3A%20pre%3B%22%20transform%3D%22translate(203.15789473684208%2C38.810546875)%22%3EBase%3C%2Ftext%3E%3C%2Fg%3E%3Cg%20class%3D%22trace%22%3E%3Cg%20class%3D%22numbers%22%20transform%3D%22translate(511.05263157894734%2C184.12703292100377)scale(0.5265832027892514)%22%3E%3Ctext%20text-anchor%3D%22middle%22%20class%3D%22number%22%20data-unformatted%3D%223.73M%22%20data-math%3D%22N%22%20style%3D%22font-family%3A%20%26quot%3BOpen%20Sans%26quot%3B%2C%20verdana%2C%20arial%2C%20sans-serif%3B%20font-size%3A%2080px%3B%20fill%3A%20rgb(89%2C%2089%2C%2089)%3B%20fill-opacity%3A%201%3B%20white-space%3A%20pre%3B%22%20x%3D%220%22%20y%3D%220%22%3E3.73M%3C%2Ftext%3E%3C%2Fg%3E%3Cg%20class%3D%22angular%22%20transform%3D%22translate(511.05263157894734%2C193.07894736842104)%22%3E%3Cg%20class%3D%22bg-arc%22%3E%3Cpath%20d%3D%22M-123.1578947368421%2C-1.5082492157920032e-14A123.1578947368421%2C123.1578947368421%200%200%2C1%20123.1578947368421%2C0L92.36842105263158%2C0A92.36842105263158%2C92.36842105263158%200%200%2C0%20-92.36842105263158%2C-1.1311869118440025e-14Z%22%20style%3D%22stroke%3A%20rgb(68%2C%2068%2C%2068)%3B%20stroke-opacity%3A%201%3B%20fill%3A%20rgb(255%2C%20255%2C%20255)%3B%20fill-opacity%3A%201%3B%20stroke-width%3A%200%3B%22%2F%3E%3C%2Fg%3E%3Cg%20class%3D%22value-arc%22%3E%3Cpath%20d%3D%22M-115.46052631578947%2C-1.4139836398050032e-14A115.46052631578947%2C115.46052631578947%200%200%2C1%2057.73026315789472%2C-99.99174892379538L50.03289473684209%2C-86.659515733956A100.0657894736842%2C100.0657894736842%200%200%2C0%20-100.0657894736842%2C-1.2254524878310027e-14Z%22%20style%3D%22stroke%3A%20rgb(68%2C%2068%2C%2068)%3B%20stroke-opacity%3A%201%3B%20fill%3A%20rgb(78%2C%20121%2C%20167)%3B%20fill-opacity%3A%201%3B%20stroke-width%3A%200%3B%22%2F%3E%3C%2Fg%3E%3Cg%20class%3D%22threshold-arc%22%3E%3Cpath%20d%3D%22M109.91689264000142%2C-50.2262997619963A120.8486842105263%2C120.8486842105263%200%200%2C1%20109.91689264000142%2C-50.2262997619963L86.113234361275%2C-39.3492666925194A94.67763157894737%2C94.67763157894737%200%200%2C0%2086.113234361275%2C-39.3492666925194Z%22%20style%3D%22stroke%3A%20rgb(245%2C%2034%2C%2045)%3B%20stroke-opacity%3A%201%3B%20fill%3A%20rgb(0%2C%200%2C%200)%3B%20fill-opacity%3A%201%3B%20stroke-width%3A%203%3B%22%2F%3E%3C%2Fg%3E%3Cg%20class%3D%22gauge-outline%22%3E%3Cpath%20d%3D%22M-123.1578947368421%2C-1.5082492157920032e-14A123.1578947368421%2C123.1578947368421%200%200%2C1%20123.1578947368421%2C0L92.36842105263158%2C0A92.36842105263158%2C92.36842105263158%200%200%2C0%20-92.36842105263158%2C-1.1311869118440025e-14Z%22%20style%3D%22stroke%3A%20rgb(68%2C%2068%2C%2068)%3B%20stroke-opacity%3A%201%3B%20fill%3A%20rgb(0%2C%200%2C%200)%3B%20fill-opacity%3A%200%3B%20stroke-width%3A%201%3B%22%2F%3E%3C%2Fg%3E%3C%2Fg%3E%3Cg%20class%3D%22angularaxis%20crisp%22%3E%3Cpath%20class%3D%22xangularaxistick%20ticks%20crisp%22%20d%3D%22M0.5%2C0h5%22%20transform%3D%22translate(387.89473684210526%2C193.078947368421)rotate(-180)%22%20style%3D%22stroke%3A%20rgb(68%2C%2068%2C%2068)%3B%20stroke-opacity%3A%201%3B%20stroke-width%3A%201px%3B%22%2F%3E%3Cpath%20class%3D%22xangularaxistick%20ticks%20crisp%22%20d%3D%22M0.5%2C0h5%22%20transform%3D%22translate(406.7871438201975%2C127.53068195703834)rotate(-147.8437823376987)%22%20style%3D%22stroke%3A%20rgb(68%2C%2068%2C%2068)%3B%20stroke-opacity%3A%201%3B%20stroke-width%3A%201px%3B%22%2F%3E%3Cpath%20class%3D%22xangularaxistick%20ticks%20crisp%22%20d%3D%22M0.5%2C0h5%22%20transform%3D%22translate(457.66817861166106%2C82.09260939209767)rotate(-115.68756467539741)%22%20style%3D%22stroke%3A%20rgb(68%2C%2068%2C%2068)%3B%20stroke-opacity%3A%201%3B%20stroke-width%3A%201px%3B%22%2F%3E%3Cpath%20class%3D%22xangularaxistick%20ticks%20crisp%22%20d%3D%22M0.5%2C0h5%22%20transform%3D%22translate(524.9275513718896%2C70.7051199511563)rotate(-83.53134701309612)%22%20style%3D%22stroke%3A%20rgb(68%2C%2068%2C%2068)%3B%20stroke-opacity%3A%201%3B%20stroke-width%3A%201px%3B%22%2F%3E%3Cpath%20class%3D%22xangularaxistick%20ticks%20crisp%22%20d%3D%22M0.5%2C0h5%22%20transform%3D%22translate(587.9301019109078%2C96.86189279196026)rotate(-51.37512935079484)%22%20style%3D%22stroke%3A%20rgb(68%2C%2068%2C%2068)%3B%20stroke-opacity%3A%201%3B%20stroke-width%3A%201px%3B%22%2F%3E%3Cpath%20class%3D%22xangularaxistick%20ticks%20crisp%22%20d%3D%22M0.5%2C0h5%22%20transform%3D%22translate(627.3466621232636%2C152.53803598536632)rotate(-19.21891168849355)%22%20style%3D%22stroke%3A%20rgb(68%2C%2068%2C%2068)%3B%20stroke-opacity%3A%201%3B%20stroke-width%3A%201px%3B%22%2F%3E%3Cg%20class%3D%22xangularaxistick%22%3E%3Ctext%20text-anchor%3D%22end%22%20x%3D%22-7.9%22%20y%3D%224.199999999999998%22%20data-unformatted%3D%220%22%20data-math%3D%22N%22%20transform%3D%22translate(387.89473684210526%2C193.078947368421)%22%20style%3D%22font-family%3A%20%26quot%3BOpen%20Sans%26quot%3B%2C%20verdana%2C%20arial%2C%20sans-serif%3B%20font-size%3A%2012px%3B%20fill%3A%20rgb(89%2C%2089%2C%2089)%3B%20fill-opacity%3A%201%3B%20white-space%3A%20pre%3B%22%3E0%3C%2Ftext%3E%3C%2Fg%3E%3Cg%20class%3D%22xangularaxistick%22%3E%3Ctext%20text-anchor%3D%22end%22%20x%3D%22-6.688140902815534%22%20y%3D%22-1.9262434264356245%22%20data-unformatted%3D%221M%22%20data-math%3D%22N%22%20transform%3D%22translate(406.7871438201975%2C127.53068195703834)%22%20style%3D%22font-family%3A%20%26quot%3BOpen%20Sans%26quot%3B%2C%20verdana%2C%20arial%2C%20sans-serif%3B%20font-size%3A%2012px%3B%20fill%3A%20rgb(89%2C%2089%2C%2089)%3B%20fill-opacity%3A%201%3B%20white-space%3A%20pre%3B%22%3E1M%3C%2Ftext%3E%3C%2Fg%3E%3Cg%20class%3D%22xangularaxistick%22%3E%3Ctext%20text-anchor%3D%22end%22%20x%3D%22-3.424361705294731%22%20y%3D%22-7.461515809904718%22%20data-unformatted%3D%222M%22%20data-math%3D%22N%22%20transform%3D%22translate(457.66817861166106%2C82.09260939209767)%22%20style%3D%22font-family%3A%20%26quot%3BOpen%20Sans%26quot%3B%2C%20verdana%2C%20arial%2C%20sans-serif%3B%20font-size%3A%2012px%3B%20fill%3A%20rgb(89%2C%2089%2C%2089)%3B%20fill-opacity%3A%201%3B%20white-space%3A%20pre%3B%22%3E2M%3C%2Ftext%3E%3C%2Fg%3E%3Cg%20class%3D%22xangularaxistick%22%3E%3Ctext%20text-anchor%3D%22start%22%20x%3D%220.8900108807353202%22%20y%3D%22-9.76125616499227%22%20data-unformatted%3D%223M%22%20data-math%3D%22N%22%20transform%3D%22translate(524.9275513718896%2C70.7051199511563)%22%20style%3D%22font-family%3A%20%26quot%3BOpen%20Sans%26quot%3B%2C%20verdana%2C%20arial%2C%20sans-serif%3B%20font-size%3A%2012px%3B%20fill%3A%20rgb(89%2C%2089%2C%2089)%3B%20fill-opacity%3A%201%3B%20white-space%3A%20pre%3B%22%3E3M%3C%2Ftext%3E%3C%2Fg%3E%3Cg%20class%3D%22xangularaxistick%22%3E%3Ctext%20text-anchor%3D%22start%22%20x%3D%224.931328331977459%22%20y%3D%22-5.42515190090724%22%20data-unformatted%3D%224M%22%20data-math%3D%22N%22%20transform%3D%22translate(587.9301019109078%2C96.86189279196026)%22%20style%3D%22font-family%3A%20%26quot%3BOpen%20Sans%26quot%3B%2C%20verdana%2C%20arial%2C%20sans-serif%3B%20font-size%3A%2012px%3B%20fill%3A%20rgb(89%2C%2089%2C%2089)%3B%20fill-opacity%3A%201%3B%20white-space%3A%20pre%3B%22%3E4M%3C%2Ftext%3E%3C%2Fg%3E%3Cg%20class%3D%22xangularaxistick%22%3E%3Ctext%20text-anchor%3D%22start%22%20x%3D%227.459715378077728%22%20y%3D%220.5753877263985601%22%20data-unformatted%3D%225M%22%20data-math%3D%22N%22%20transform%3D%22translate(627.3466621232636%2C152.53803598536632)%22%20style%3D%22font-family%3A%20%26quot%3BOpen%20Sans%26quot%3B%2C%20verdana%2C%20arial%2C%20sans-serif%3B%20font-size%3A%2012px%3B%20fill%3A%20rgb(89%2C%2089%2C%2089)%3B%20fill-opacity%3A%201%3B%20white-space%3A%20pre%3B%22%3E5M%3C%2Ftext%3E%3C%2Fg%3E%3C%2Fg%3E%3Ctext%20class%3D%22title%22%20text-anchor%3D%22middle%22%20data-unformatted%3D%22Geographical%20Improvements%22%20data-math%3D%22N%22%20x%3D%220%22%20y%3D%220%22%20style%3D%22font-family%3A%20%26quot%3BOpen%20Sans%26quot%3B%2C%20verdana%2C%20arial%2C%20sans-serif%3B%20font-size%3A%2020px%3B%20fill%3A%20rgb(89%2C%2089%2C%2089)%3B%20fill-opacity%3A%201%3B%20white-space%3A%20pre%3B%22%20transform%3D%22translate(511.05263157894734%2C39.9443359375)%22%3EGeographical%20Improvements%3C%2Ftext%3E%3C%2Fg%3E%3Cg%20class%3D%22trace%22%3E%3Cg%20class%3D%22numbers%22%20transform%3D%22translate(818.9473684210526%2C184.12703292100377)scale(0.5265832027892514)%22%3E%3Ctext%20text-anchor%3D%22middle%22%20class%3D%22number%22%20data-unformatted%3D%224.63M%22%20data-math%3D%22N%22%20style%3D%22font-family%3A%20%26quot%3BOpen%20Sans%26quot%3B%2C%20verdana%2C%20arial%2C%20sans-serif%3B%20font-size%3A%2080px%3B%20fill%3A%20rgb(89%2C%2089%2C%2089)%3B%20fill-opacity%3A%201%3B%20white-space%3A%20pre%3B%22%20x%3D%220%22%20y%3D%220%22%3E4.63M%3C%2Ftext%3E%3C%2Fg%3E%3Cg%20class%3D%22angular%22%20transform%3D%22translate(818.9473684210526%2C193.07894736842104)%22%3E%3Cg%20class%3D%22bg-arc%22%3E%3Cpath%20d%3D%22M-123.1578947368421%2C-1.5082492157920032e-14A123.1578947368421%2C123.1578947368421%200%200%2C1%20123.1578947368421%2C0L92.36842105263158%2C0A92.36842105263158%2C92.36842105263158%200%200%2C0%20-92.36842105263158%2C-1.1311869118440025e-14Z%22%20style%3D%22stroke%3A%20rgb(68%2C%2068%2C%2068)%3B%20stroke-opacity%3A%201%3B%20fill%3A%20rgb(255%2C%20255%2C%20255)%3B%20fill-opacity%3A%201%3B%20stroke-width%3A%200%3B%22%2F%3E%3C%2Fg%3E%3Cg%20class%3D%22value-arc%22%3E%3Cpath%20d%3D%22M-115.46052631578947%2C-1.4139836398050032e-14A115.46052631578947%2C115.46052631578947%200%200%2C1%2057.73026315789472%2C-99.99174892379538L50.03289473684209%2C-86.659515733956A100.0657894736842%2C100.0657894736842%200%200%2C0%20-100.0657894736842%2C-1.2254524878310027e-14Z%22%20style%3D%22stroke%3A%20rgb(68%2C%2068%2C%2068)%3B%20stroke-opacity%3A%201%3B%20fill%3A%20rgb(78%2C%20121%2C%20167)%3B%20fill-opacity%3A%201%3B%20stroke-width%3A%200%3B%22%2F%3E%3C%2Fg%3E%3Cg%20class%3D%22threshold-arc%22%3E%3Cpath%20d%3D%22M100.76834144536146%2C-66.70941341195076A120.8486842105263%2C120.8486842105263%200%200%2C1%20100.76834144536146%2C-66.70941341195076L78.94589807502841%2C-52.26278885140093A94.67763157894737%2C94.67763157894737%200%200%2C0%2078.94589807502841%2C-52.26278885140093Z%22%20style%3D%22stroke%3A%20rgb(245%2C%2034%2C%2045)%3B%20stroke-opacity%3A%201%3B%20fill%3A%20rgb(0%2C%200%2C%200)%3B%20fill-opacity%3A%201%3B%20stroke-width%3A%203%3B%22%2F%3E%3C%2Fg%3E%3Cg%20class%3D%22gauge-outline%22%3E%3Cpath%20d%3D%22M-123.1578947368421%2C-1.5082492157920032e-14A123.1578947368421%2C123.1578947368421%200%200%2C1%20123.1578947368421%2C0L92.36842105263158%2C0A92.36842105263158%2C92.36842105263158%200%200%2C0%20-92.36842105263158%2C-1.1311869118440025e-14Z%22%20style%3D%22stroke%3A%20rgb(68%2C%2068%2C%2068)%3B%20stroke-opacity%3A%201%3B%20fill%3A%20rgb(0%2C%200%2C%200)%3B%20fill-opacity%3A%200%3B%20stroke-width%3A%201%3B%22%2F%3E%3C%2Fg%3E%3C%2Fg%3E%3Cg%20class%3D%22angularaxis%20crisp%22%3E%3Cpath%20class%3D%22xangularaxistick%20ticks%20crisp%22%20d%3D%22M0.5%2C0h5%22%20transform%3D%22translate(695.7894736842105%2C193.078947368421)rotate(-180)%22%20style%3D%22stroke%3A%20rgb(68%2C%2068%2C%2068)%3B%20stroke-opacity%3A%201%3B%20stroke-width%3A%201px%3B%22%2F%3E%3Cpath%20class%3D%22xangularaxistick%20ticks%20crisp%22%20d%3D%22M0.5%2C0h5%22%20transform%3D%22translate(708.1858805074179%2C139.22952925486265)rotate(-154.07215787112858)%22%20style%3D%22stroke%3A%20rgb(68%2C%2068%2C%2068)%3B%20stroke-opacity%3A%201%3B%20stroke-width%3A%201px%3B%22%2F%3E%3Cpath%20class%3D%22xangularaxistick%20ticks%20crisp%22%20d%3D%22M0.5%2C0h5%22%20transform%3D%22translate(742.8795906006274%2C96.22049284082956)rotate(-128.14431574225716)%22%20style%3D%22stroke%3A%20rgb(68%2C%2068%2C%2068)%3B%20stroke-opacity%3A%201%3B%20stroke-width%3A%201px%3B%22%2F%3E%3Cpath%20class%3D%22xangularaxistick%20ticks%20crisp%22%20d%3D%22M0.5%2C0h5%22%20transform%3D%22translate(792.8864419587835%2C72.70995157656739)rotate(-102.2164736133857)%22%20style%3D%22stroke%3A%20rgb(68%2C%2068%2C%2068)%3B%20stroke-opacity%3A%201%3B%20stroke-width%3A%201px%3B%22%2F%3E%3Cpath%20class%3D%22xangularaxistick%20ticks%20crisp%22%20d%3D%22M0.5%2C0h5%22%20transform%3D%22translate(848.1395968089939%2C73.43079302512434)rotate(-76.2886314845143)%22%20style%3D%22stroke%3A%20rgb(68%2C%2068%2C%2068)%3B%20stroke-opacity%3A%201%3B%20stroke-width%3A%201px%3B%22%2F%3E%3Cpath%20class%3D%22xangularaxistick%20ticks%20crisp%22%20d%3D%22M0.5%2C0h5%22%20transform%3D%22translate(897.5160883734906%2C98.23790519233329)rotate(-50.36078935564287)%22%20style%3D%22stroke%3A%20rgb(68%2C%2068%2C%2068)%3B%20stroke-opacity%3A%201%3B%20stroke-width%3A%201px%3B%22%2F%3E%3Cpath%20class%3D%22xangularaxistick%20ticks%20crisp%22%20d%3D%22M0.5%2C0h5%22%20transform%3D%22translate(931.0759760866433%2C142.13738890200665)rotate(-24.432947226771418)%22%20style%3D%22stroke%3A%20rgb(68%2C%2068%2C%2068)%3B%20stroke-opacity%3A%201%3B%20stroke-width%3A%201px%3B%22%2F%3E%3Cg%20class%3D%22xangularaxistick%22%3E%3Ctext%20text-anchor%3D%22end%22%20x%3D%22-7.9%22%20y%3D%224.199999999999998%22%20data-unformatted%3D%220%22%20data-math%3D%22N%22%20transform%3D%22translate(695.7894736842105%2C193.078947368421)%22%20style%3D%22font-family%3A%20%26quot%3BOpen%20Sans%26quot%3B%2C%20verdana%2C%20arial%2C%20sans-serif%3B%20font-size%3A%2012px%3B%20fill%3A%20rgb(89%2C%2089%2C%2089)%3B%20fill-opacity%3A%201%3B%20white-space%3A%20pre%3B%22%3E0%3C%2Ftext%3E%3C%2Fg%3E%3Cg%20class%3D%22xangularaxistick%22%3E%3Ctext%20text-anchor%3D%22end%22%20x%3D%22-7.104828775998535%22%20y%3D%22-0.7263095680834741%22%20data-unformatted%3D%221M%22%20data-math%3D%22N%22%20transform%3D%22translate(708.1858805074179%2C139.22952925486265)%22%20style%3D%22font-family%3A%20%26quot%3BOpen%20Sans%26quot%3B%2C%20verdana%2C%20arial%2C%20sans-serif%3B%20font-size%3A%2012px%3B%20fill%3A%20rgb(89%2C%2089%2C%2089)%3B%20fill-opacity%3A%201%3B%20white-space%3A%20pre%3B%22%3E1M%3C%2Ftext%3E%3C%2Fg%3E%3Cg%20class%3D%22xangularaxistick%22%3E%3Ctext%20text-anchor%3D%22end%22%20x%3D%22-4.8793903636093265%22%20y%3D%22-5.506406359393044%22%20data-unformatted%3D%222M%22%20data-math%3D%22N%22%20transform%3D%22translate(742.8795906006274%2C96.22049284082956)%22%20style%3D%22font-family%3A%20%26quot%3BOpen%20Sans%26quot%3B%2C%20verdana%2C%20arial%2C%20sans-serif%3B%20font-size%3A%2012px%3B%20fill%3A%20rgb(89%2C%2089%2C%2089)%3B%20fill-opacity%3A%201%3B%20white-space%3A%20pre%3B%22%3E2M%3C%2Ftext%3E%3C%2Fg%3E%3Cg%20class%3D%22xangularaxistick%22%3E%3Ctext%20text-anchor%3D%22end%22%20x%3D%22-1.671685923925893%22%20y%3D%22-9.178013053323372%22%20data-unformatted%3D%223M%22%20data-math%3D%22N%22%20transform%3D%22translate(792.8864419587835%2C72.70995157656739)%22%20style%3D%22font-family%3A%20%26quot%3BOpen%20Sans%26quot%3B%2C%20verdana%2C%20arial%2C%20sans-serif%3B%20font-size%3A%2012px%3B%20fill%3A%20rgb(89%2C%2089%2C%2089)%3B%20fill-opacity%3A%201%3B%20white-space%3A%20pre%3B%22%3E3M%3C%2Ftext%3E%3C%2Fg%3E%3Cg%20class%3D%22xangularaxistick%22%3E%3Ctext%20text-anchor%3D%22start%22%20x%3D%221.8725442226623912%22%20y%3D%22-9.010941871634808%22%20data-unformatted%3D%224M%22%20data-math%3D%22N%22%20transform%3D%22translate(848.1395968089939%2C73.43079302512434)%22%20style%3D%22font-family%3A%20%26quot%3BOpen%20Sans%26quot%3B%2C%20verdana%2C%20arial%2C%20sans-serif%3B%20font-size%3A%2012px%3B%20fill%3A%20rgb(89%2C%2089%2C%2089)%3B%20fill-opacity%3A%201%3B%20white-space%3A%20pre%3B%22%3E4M%3C%2Ftext%3E%3C%2Fg%3E%3Cg%20class%3D%22xangularaxistick%22%3E%3Ctext%20text-anchor%3D%22start%22%20x%3D%225.039814044812367%22%20y%3D%22-5.252396624639243%22%20data-unformatted%3D%225M%22%20data-math%3D%22N%22%20transform%3D%22translate(897.5160883734906%2C98.23790519233329)%22%20style%3D%22font-family%3A%20%26quot%3BOpen%20Sans%26quot%3B%2C%20verdana%2C%20arial%2C%20sans-serif%3B%20font-size%3A%2012px%3B%20fill%3A%20rgb(89%2C%2089%2C%2089)%3B%20fill-opacity%3A%201%3B%20white-space%3A%20pre%3B%22%3E5M%3C%2Ftext%3E%3C%2Fg%3E%3Cg%20class%3D%22xangularaxistick%22%3E%3Ctext%20text-anchor%3D%22start%22%20x%3D%227.192523081455199%22%20y%3D%22-0.43649576930049605%22%20data-unformatted%3D%226M%22%20data-math%3D%22N%22%20transform%3D%22translate(931.0759760866433%2C142.13738890200665)%22%20style%3D%22font-family%3A%20%26quot%3BOpen%20Sans%26quot%3B%2C%20verdana%2C%20arial%2C%20sans-serif%3B%20font-size%3A%2012px%3B%20fill%3A%20rgb(89%2C%2089%2C%2089)%3B%20fill-opacity%3A%201%3B%20white-space%3A%20pre%3B%22%3E6M%3C%2Ftext%3E%3C%2Fg%3E%3C%2Fg%3E%3Ctext%20class%3D%22title%22%20text-anchor%3D%22middle%22%20data-unformatted%3D%22Pareto%20price%20change%22%20data-math%3D%22N%22%20x%3D%220%22%20y%3D%220%22%20style%3D%22font-family%3A%20%26quot%3BOpen%20Sans%26quot%3B%2C%20verdana%2C%20arial%2C%20sans-serif%3B%20font-size%3A%2020px%3B%20fill%3A%20rgb(89%2C%2089%2C%2089)%3B%20fill-opacity%3A%201%3B%20white-space%3A%20pre%3B%22%20transform%3D%22translate(818.9473684210526%2C42.5322265625)%22%3EPareto%20price%20change%3C%2Ftext%3E%3C%2Fg%3E%3Cg%20class%3D%22trace%22%3E%3Cg%20class%3D%22numbers%22%20transform%3D%22translate(1126.842105263158%2C184.12703292100377)scale(0.5265832027892514)%22%3E%3Ctext%20text-anchor%3D%22middle%22%20class%3D%22number%22%20data-unformatted%3D%224.46M%22%20data-math%3D%22N%22%20style%3D%22font-family%3A%20%26quot%3BOpen%20Sans%26quot%3B%2C%20verdana%2C%20arial%2C%20sans-serif%3B%20font-size%3A%2080px%3B%20fill%3A%20rgb(89%2C%2089%2C%2089)%3B%20fill-opacity%3A%201%3B%20white-space%3A%20pre%3B%22%20x%3D%220%22%20y%3D%220%22%3E4.46M%3C%2Ftext%3E%3C%2Fg%3E%3Cg%20class%3D%22angular%22%20transform%3D%22translate(1126.842105263158%2C193.07894736842104)%22%3E%3Cg%20class%3D%22bg-arc%22%3E%3Cpath%20d%3D%22M-123.1578947368421%2C-1.5082492157920032e-14A123.1578947368421%2C123.1578947368421%200%200%2C1%20123.1578947368421%2C0L92.36842105263158%2C0A92.36842105263158%2C92.36842105263158%200%200%2C0%20-92.36842105263158%2C-1.1311869118440025e-14Z%22%20style%3D%22stroke%3A%20rgb(68%2C%2068%2C%2068)%3B%20stroke-opacity%3A%201%3B%20fill%3A%20rgb(255%2C%20255%2C%20255)%3B%20fill-opacity%3A%201%3B%20stroke-width%3A%200%3B%22%2F%3E%3C%2Fg%3E%3Cg%20class%3D%22value-arc%22%3E%3Cpath%20d%3D%22M-115.46052631578947%2C-1.4139836398050032e-14A115.46052631578947%2C115.46052631578947%200%200%2C1%2057.73026315789472%2C-99.99174892379538L50.03289473684209%2C-86.659515733956A100.0657894736842%2C100.0657894736842%200%200%2C0%20-100.0657894736842%2C-1.2254524878310027e-14Z%22%20style%3D%22stroke%3A%20rgb(68%2C%2068%2C%2068)%3B%20stroke-opacity%3A%201%3B%20fill%3A%20rgb(78%2C%20121%2C%20167)%3B%20fill-opacity%3A%201%3B%20stroke-width%3A%200%3B%22%2F%3E%3C%2Fg%3E%3Cg%20class%3D%22threshold-arc%22%3E%3Cpath%20d%3D%22M112.1642394357775%2C-44.98430689928525A120.8486842105263%2C120.8486842105263%200%200%2C1%20112.1642394357775%2C-44.98430689928525L87.87389458981296%2C-35.242482475236216A94.67763157894737%2C94.67763157894737%200%200%2C0%2087.87389458981296%2C-35.242482475236216Z%22%20style%3D%22stroke%3A%20rgb(245%2C%2034%2C%2045)%3B%20stroke-opacity%3A%201%3B%20fill%3A%20rgb(0%2C%200%2C%200)%3B%20fill-opacity%3A%201%3B%20stroke-width%3A%203%3B%22%2F%3E%3C%2Fg%3E%3Cg%20class%3D%22gauge-outline%22%3E%3Cpath%20d%3D%22M-123.1578947368421%2C-1.5082492157920032e-14A123.1578947368421%2C123.1578947368421%200%200%2C1%20123.1578947368421%2C0L92.36842105263158%2C0A92.36842105263158%2C92.36842105263158%200%200%2C0%20-92.36842105263158%2C-1.1311869118440025e-14Z%22%20style%3D%22stroke%3A%20rgb(68%2C%2068%2C%2068)%3B%20stroke-opacity%3A%201%3B%20fill%3A%20rgb(0%2C%200%2C%200)%3B%20fill-opacity%3A%200%3B%20stroke-width%3A%201%3B%22%2F%3E%3C%2Fg%3E%3C%2Fg%3E%3Cg%20class%3D%22angularaxis%20crisp%22%3E%3Cpath%20class%3D%22xangularaxistick%20ticks%20crisp%22%20d%3D%22M0.5%2C0h5%22%20transform%3D%22translate(1003.6842105263158%2C193.078947368421)rotate(-180)%22%20style%3D%22stroke%3A%20rgb(68%2C%2068%2C%2068)%3B%20stroke-opacity%3A%201%3B%20stroke-width%3A%201px%3B%22%2F%3E%3Cpath%20class%3D%22xangularaxistick%20ticks%20crisp%22%20d%3D%22M0.5%2C0h5%22%20transform%3D%22translate(1017.0097657289041%2C137.35889506726585)rotate(-153.10044550536156)%22%20style%3D%22stroke%3A%20rgb(68%2C%2068%2C%2068)%3B%20stroke-opacity%3A%201%3B%20stroke-width%3A%201px%3B%22%2F%3E%3Cpath%20class%3D%22xangularaxistick%20ticks%20crisp%22%20d%3D%22M0.5%2C0h5%22%20transform%3D%22translate(1054.1028091078765%2C93.69654535053195)rotate(-126.20089101072313)%22%20style%3D%22stroke%3A%20rgb(68%2C%2068%2C%2068)%3B%20stroke-opacity%3A%201%3B%20stroke-width%3A%201px%3B%22%2F%3E%3Cpath%20class%3D%22xangularaxistick%20ticks%20crisp%22%20d%3D%22M0.5%2C0h5%22%20transform%3D%22translate(1106.936483785975%2C71.54033922426713)rotate(-99.30133651608467)%22%20style%3D%22stroke%3A%20rgb(68%2C%2068%2C%2068)%3B%20stroke-opacity%3A%201%3B%20stroke-width%3A%201px%3B%22%2F%3E%3Cpath%20class%3D%22xangularaxistick%20ticks%20crisp%22%20d%3D%22M0.5%2C0h5%22%20transform%3D%22translate(1164.077693249445%2C75.68483327692775)rotate(-72.40178202144625)%22%20style%3D%22stroke%3A%20rgb(68%2C%2068%2C%2068)%3B%20stroke-opacity%3A%201%3B%20stroke-width%3A%201px%3B%22%2F%3E%3Cpath%20class%3D%22xangularaxistick%20ticks%20crisp%22%20d%3D%22M0.5%2C0h5%22%20transform%3D%22translate(1213.1611994812656%2C105.23316767823596)rotate(-45.502227526807815)%22%20style%3D%22stroke%3A%20rgb(68%2C%2068%2C%2068)%3B%20stroke-opacity%3A%201%3B%20stroke-width%3A%201px%3B%22%2F%3E%3Cpath%20class%3D%22xangularaxistick%20ticks%20crisp%22%20d%3D%22M0.5%2C0h5%22%20transform%3D%22translate(1243.5654345628507%2C153.79114476753003)rotate(-18.602673032169374)%22%20style%3D%22stroke%3A%20rgb(68%2C%2068%2C%2068)%3B%20stroke-opacity%3A%201%3B%20stroke-width%3A%201px%3B%22%2F%3E%3Cg%20class%3D%22xangularaxistick%22%3E%3Ctext%20text-anchor%3D%22end%22%20x%3D%22-7.9%22%20y%3D%224.199999999999998%22%20data-unformatted%3D%220%22%20data-math%3D%22N%22%20transform%3D%22translate(1003.6842105263158%2C193.078947368421)%22%20style%3D%22font-family%3A%20%26quot%3BOpen%20Sans%26quot%3B%2C%20verdana%2C%20arial%2C%20sans-serif%3B%20font-size%3A%2012px%3B%20fill%3A%20rgb(89%2C%2089%2C%2089)%3B%20fill-opacity%3A%201%3B%20white-space%3A%20pre%3B%22%3E0%3C%2Ftext%3E%3C%2Fg%3E%3Cg%20class%3D%22xangularaxistick%22%3E%3Ctext%20text-anchor%3D%22end%22%20x%3D%22-7.045228275252776%22%20y%3D%22-0.9144416839754772%22%20data-unformatted%3D%221M%22%20data-math%3D%22N%22%20transform%3D%22translate(1017.0097657289041%2C137.35889506726585)%22%20style%3D%22font-family%3A%20%26quot%3BOpen%20Sans%26quot%3B%2C%20verdana%2C%20arial%2C%20sans-serif%3B%20font-size%3A%2012px%3B%20fill%3A%20rgb(89%2C%2089%2C%2089)%3B%20fill-opacity%3A%201%3B%20white-space%3A%20pre%3B%22%3E1M%3C%2Ftext%3E%3C%2Fg%3E%3Cg%20class%3D%22xangularaxistick%22%3E%3Ctext%20text-anchor%3D%22end%22%20x%3D%22-4.665883911499041%22%20y%3D%22-5.831000103294631%22%20data-unformatted%3D%222M%22%20data-math%3D%22N%22%20transform%3D%22translate(1054.1028091078765%2C93.69654535053195)%22%20style%3D%22font-family%3A%20%26quot%3BOpen%20Sans%26quot%3B%2C%20verdana%2C%20arial%2C%20sans-serif%3B%20font-size%3A%2012px%3B%20fill%3A%20rgb(89%2C%2089%2C%2089)%3B%20fill-opacity%3A%201%3B%20white-space%3A%20pre%3B%22%3E2M%3C%2Ftext%3E%3C%2Fg%3E%3Cg%20class%3D%22xangularaxistick%22%3E%3Ctext%20text-anchor%3D%22end%22%20x%3D%22-1.2768520443269864%22%20y%3D%22-9.48574231621014%22%20data-unformatted%3D%223M%22%20data-math%3D%22N%22%20transform%3D%22translate(1106.936483785975%2C71.54033922426713)%22%20style%3D%22font-family%3A%20%26quot%3BOpen%20Sans%26quot%3B%2C%20verdana%2C%20arial%2C%20sans-serif%3B%20font-size%3A%2012px%3B%20fill%3A%20rgb(89%2C%2089%2C%2089)%3B%20fill-opacity%3A%201%3B%20white-space%3A%20pre%3B%22%3E3M%3C%2Ftext%3E%3C%2Fg%3E%3Cg%20class%3D%22xangularaxistick%22%3E%3Ctext%20text-anchor%3D%22start%22%20x%3D%222.3884879302314967%22%20y%3D%22-8.54813171213655%22%20data-unformatted%3D%224M%22%20data-math%3D%22N%22%20transform%3D%22translate(1164.077693249445%2C75.68483327692775)%22%20style%3D%22font-family%3A%20%26quot%3BOpen%20Sans%26quot%3B%2C%20verdana%2C%20arial%2C%20sans-serif%3B%20font-size%3A%2012px%3B%20fill%3A%20rgb(89%2C%2089%2C%2089)%3B%20fill-opacity%3A%201%3B%20white-space%3A%20pre%3B%22%3E4M%3C%2Ftext%3E%3C%2Fg%3E%3Cg%20class%3D%22xangularaxistick%22%3E%3Ctext%20text-anchor%3D%22start%22%20x%3D%225.536964120571777%22%20y%3D%22-4.403057849044545%22%20data-unformatted%3D%225M%22%20data-math%3D%22N%22%20transform%3D%22translate(1213.1611994812656%2C105.23316767823596)%22%20style%3D%22font-family%3A%20%26quot%3BOpen%20Sans%26quot%3B%2C%20verdana%2C%20arial%2C%20sans-serif%3B%20font-size%3A%2012px%3B%20fill%3A%20rgb(89%2C%2089%2C%2089)%3B%20fill-opacity%3A%201%3B%20white-space%3A%20pre%3B%22%3E5M%3C%2Ftext%3E%3C%2Fg%3E%3Cg%20class%3D%22xangularaxistick%22%3E%3Ctext%20text-anchor%3D%22start%22%20x%3D%227.4872528751640495%22%20y%3D%220.6948285081714123%22%20data-unformatted%3D%226M%22%20data-math%3D%22N%22%20transform%3D%22translate(1243.5654345628507%2C153.79114476753003)%22%20style%3D%22font-family%3A%20%26quot%3BOpen%20Sans%26quot%3B%2C%20verdana%2C%20arial%2C%20sans-serif%3B%20font-size%3A%2012px%3B%20fill%3A%20rgb(89%2C%2089%2C%2089)%3B%20fill-opacity%3A%201%3B%20white-space%3A%20pre%3B%22%3E6M%3C%2Ftext%3E%3C%2Fg%3E%3C%2Fg%3E%3Ctext%20class%3D%22title%22%20text-anchor%3D%22middle%22%20data-unformatted%3D%22Personal%20Auto%20Boost%22%20data-math%3D%22N%22%20x%3D%220%22%20y%3D%220%22%20style%3D%22font-family%3A%20%26quot%3BOpen%20Sans%26quot%3B%2C%20verdana%2C%20arial%2C%20sans-serif%3B%20font-size%3A%2020px%3B%20fill%3A%20rgb(89%2C%2089%2C%2089)%3B%20fill-opacity%3A%201%3B%20white-space%3A%20pre%3B%22%20transform%3D%22translate(1126.842105263158%2C41.0546875)%22%3EPersonal%20Auto%20Boost%3C%2Ftext%3E%3C%2Fg%3E%3C%2Fg%3E%3Cg%20class%3D%22layer-above%22%3E%3Cg%20class%3D%22imagelayer%22%2F%3E%3Cg%20class%3D%22shapelayer%22%2F%3E%3C%2Fg%3E%3Cg%20class%3D%22infolayer%22%3E%3Cg%20class%3D%22g-gtitle%22%2F%3E%3C%2Fg%3E%3Cg%20class%3D%22menulayer%22%2F%3E%3Cg%20class%3D%22zoomlayer%22%2F%3E%3Cg%20class%3D%22hoverlayer%22%2F%3E%3C%2Fsvg%3E\">"
      ],
      "text/plain": [
       "Open the notebook in JupyterLab with the Atoti extension enabled to build this widget."
      ]
     },
     "metadata": {},
     "output_type": "display_data"
    }
   ],
   "source": [
    "session.visualize(\"Scenarios: Revenue realised gauge\")"
   ]
  },
  {
   "cell_type": "markdown",
   "id": "3e8183eb-0ce6-47ea-9e48-e5ba3fc16125",
   "metadata": {},
   "source": [
    "## Let us summarize this information in a new tab of the dashboard we created above"
   ]
  },
  {
   "cell_type": "code",
   "execution_count": 47,
   "id": "337a9bf0-d459-43e8-8061-8874e465661a",
   "metadata": {
    "tags": []
   },
   "outputs": [
    {
     "data": {
      "application/vnd.atoti.link.v0+json": {
       "path": "#/dashboard/39f",
       "sessionLocation": {
        "https": false,
        "port": 54578
       }
      },
      "text/plain": [
       "Open the notebook in JupyterLab with the Atoti extension enabled to see this link."
      ]
     },
     "execution_count": 47,
     "metadata": {},
     "output_type": "execute_result"
    }
   ],
   "source": [
    "session.link(path=\"#/dashboard/39f\")"
   ]
  },
  {
   "cell_type": "markdown",
   "id": "244b64cc-4f50-4007-9e73-6b4f44c4edc5",
   "metadata": {},
   "source": [
    "# Conclusion:\n",
    "\n",
    "In this notebook, we used Atoti and a predictive model based on XGBosst classification.  \n",
    "\n",
    "We saw above, how Atoti can seamlessly integrate with a predictive model to create different what-if scenarios and hence, identify the price-sensitive and insensitive customers across different segments.\n",
    "\n",
    "**Now we would like to invite you to try for yourself how Atoti can help you simplify what-if scenarios and the price elasticity of demand!!**\n",
    "\n",
    "<div style=\"text-align: center;\" ><a href=\"https://www.atoti.io/?utm_source=gallery&utm_content=creditcard-fraud-detection\" target=\"_blank\" rel=\"noopener noreferrer\"><img src=\"https://data.atoti.io/notebooks/banners/Try+Atoti.jpg\" alt=\"Try Atoti\"></a></div>"
   ]
  }
 ],
 "metadata": {
  "kernelspec": {
   "display_name": "Python 3 (ipykernel)",
   "language": "python",
   "name": "python3"
  },
  "language_info": {
   "codemirror_mode": {
    "name": "ipython",
    "version": 3
   },
   "file_extension": ".py",
   "mimetype": "text/x-python",
   "name": "python",
   "nbconvert_exporter": "python",
   "pygments_lexer": "ipython3",
   "version": "3.10.11"
  }
 },
 "nbformat": 4,
 "nbformat_minor": 5
}
