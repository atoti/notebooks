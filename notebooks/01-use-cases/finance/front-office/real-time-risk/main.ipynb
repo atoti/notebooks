{
 "cells": [
  {
   "cell_type": "markdown",
   "metadata": {},
   "source": [
    "# Real-time aggregation with Atoti\n",
    "\\[_In case you’re unable to see the Atoti visualizations in GitHub, try viewing the notebook in [nbviewer](https://nbviewer.org/github/atoti/notebooks/blob/main/notebooks/01-use-cases/finance/front-office/real-time-risk/main.ipynb)._]\n"
   ]
  },
  {
   "cell_type": "markdown",
   "metadata": {},
   "source": [
    "## Introduction\n",
    "\n",
    "In our example we will create a real-time risk dashboard using Atoti. We will explore the three methods for real-time updates: \n",
    "\n",
    "- monitoring **file updates**, \n",
    "- the **append** method and \n",
    "- subscribing to a **kafka feed** with a custom serializer.\n",
    "\n",
    "Using a finance use case as an example, we are going to perform the following:\n",
    "- simulate a live feed of market quotes \n",
    "- use QuantLib to recalculate sensitivities on the fly\n",
    "- stream updated risk numbers to an Atoti-powered in-memory cube which will update our risk dashboard. \n",
    "- we will emulate real-time trading activity: every time a new trade arrives from kafka, a live \"trades_blotter\" widget in Atoti app will blink to reflect the updates of measurements due to the new records. \n",
    "\n",
    "<div style=\"text-align: center;\" ><a href=\"https://www.atoti.io/?utm_source=gallery&utm_content=real-time-risk\" target=\"_blank\" rel=\"noopener noreferrer\"><img src=\"https://data.atoti.io/notebooks/banners/Discover+Atoti+now.jpg\" alt=\"Try Atoti\"></a></div>\n",
    "\n",
    "Have a look at the GIF of the running Atoti application below. On the left, we have a real-time market data feed which is a replay of historical stock prices. On the bottom, there are our trades and on the right, we have risk data continuously re-calculated and re-aggregated at various levels. Every time market data is updated, a chain of actions is performed automatically, resulting in an update to the risk summary table. With this in mind, let’s dive deep into the details!\n",
    "\n",
    "<img src=\"./img/app-preview.gif\" alt=\"Real-time risk app preview\" width=\"75%\">\n",
    "Note that the above GIF is captured from version 0.4.x. The latest web application may diff in terms of looks and functionality."
   ]
  },
  {
   "cell_type": "markdown",
   "metadata": {},
   "source": [
    "# Imports"
   ]
  },
  {
   "cell_type": "code",
   "execution_count": 1,
   "metadata": {},
   "outputs": [],
   "source": [
    "# !conda install -c conda-forge python-wget -y"
   ]
  },
  {
   "cell_type": "code",
   "execution_count": 2,
   "metadata": {},
   "outputs": [],
   "source": [
    "# !pip install atoti[kafka,aws] watchdog kafka-python"
   ]
  },
  {
   "cell_type": "code",
   "execution_count": 3,
   "metadata": {},
   "outputs": [],
   "source": [
    "import json\n",
    "import os\n",
    "import queue\n",
    "import random\n",
    "import threading\n",
    "import time\n",
    "from datetime import datetime, timedelta\n",
    "\n",
    "import atoti as tt\n",
    "import pandas as pd\n",
    "import wget\n",
    "from IPython.display import clear_output\n",
    "from watchdog.events import FileCreatedEvent, FileSystemEventHandler\n",
    "from watchdog.observers.polling import PollingObserver"
   ]
  },
  {
   "cell_type": "markdown",
   "metadata": {},
   "source": [
    "# atoti session\n",
    "\n",
    "The first step is to create Atoti session for an in-memory data cube:"
   ]
  },
  {
   "cell_type": "code",
   "execution_count": 4,
   "metadata": {},
   "outputs": [],
   "source": [
    "session = tt.Session(user_content_storage=\"./content\", java_options=[\"-Xmx4G\"])"
   ]
  },
  {
   "cell_type": "markdown",
   "metadata": {},
   "source": [
    "# Atoti for real-time update\n",
    "\n",
    "As we discussed, we have several live feeds in our app - *a market data feed* simulating the tick stock price time-series which is then producing *a feed of risk numbers* by recalculating option greeks with a Quantlib function. You can easily replace them with your own real time data sources - for example, live trade feeds, sensitivity updates, stress-testing numbers, etc. \n",
    "\n",
    "At the time of writing, Atoti provides **three ways to implement real-time update**: \n",
    "\n",
    "- the first is by using the a third party library [watchdog](https://github.com/gorakhargosh/watchdog) to monitor a folder and upload into the table as soon as there are any, \n",
    "- the second is the **append** command that pushes new data into a datastore forcing re-calculation. \n",
    "- the third is to let a datastore listen to a **kafka feed**.\n",
    "\n",
    "All three methods are illustrated below.\n",
    "\n",
    "**Data visualization** in the Atoti app supports the “continuous queries” feature, enabling widgets to automatically refresh the results every time a single contribution changes in the data store. You can toggle between “Turn on real-time”, “Refresh periodically” and “Pause query” for each widget in the Atoti app, as shown in this picture:\n",
    "\n",
    "<img src=\"./img/widget-query-mode.png\" alt=\"Widget query mode\" width=\"50%\">"
   ]
  },
  {
   "cell_type": "markdown",
   "metadata": {},
   "source": [
    "We can create dashboards with the Atoti UI that comes with the library. Click on the below link to access Atoti UI."
   ]
  },
  {
   "cell_type": "code",
   "execution_count": 5,
   "metadata": {},
   "outputs": [
    {
     "data": {
      "application/vnd.atoti.link.v0+json": {
       "path": "",
       "sessionLocation": {
        "https": false,
        "port": 54183
       }
      },
      "text/plain": [
       "Open the notebook in JupyterLab with the Atoti extension enabled to see this link."
      ]
     },
     "execution_count": 5,
     "metadata": {},
     "output_type": "execute_result"
    }
   ],
   "source": [
    "session.link()"
   ]
  },
  {
   "cell_type": "markdown",
   "metadata": {},
   "source": [
    "# Atoti data cube"
   ]
  },
  {
   "cell_type": "markdown",
   "metadata": {},
   "source": [
    "Let's create a cube with two datastores: one for the market data and one for the risk metrics. \n",
    "\n",
    "### 1. Real-time via file/folder monitoring\n",
    "\n",
    "Let's start by creating the `sensitivity_table` with an inital data load. We could alternatively create an empty data table with [atoti.create_table](https://activeviam.jfrog.io/artifactory/atoti-generic-continuous/0.6.0.20210628173539/documentation-0.6.0.20210628173539.zip!/lib/atoti.session.html?highlight=create_table#atoti.session.Session.create_table)."
   ]
  },
  {
   "cell_type": "code",
   "execution_count": 6,
   "metadata": {},
   "outputs": [],
   "source": [
    "sensitivities_table = session.read_csv(\n",
    "    \"s3://data.atoti.io/notebooks/real-time-risk/dynamic-input-files/risk_data.csv\",\n",
    "    keys=[\"AsOfDate\", \"TradeId\", \"RiskFactor\"],\n",
    "    table_name=\"Sensitivities\",\n",
    "    types={\"TradeId\": tt.type.STRING, \"AsOfDate\": tt.type.LOCAL_DATE},\n",
    ")"
   ]
  },
  {
   "cell_type": "markdown",
   "metadata": {},
   "source": [
    "We proceed to create the cube, thereafter, we can start data exploration:"
   ]
  },
  {
   "cell_type": "code",
   "execution_count": 7,
   "metadata": {},
   "outputs": [],
   "source": [
    "cube = session.create_cube(sensitivities_table, \"Sensitivities\")"
   ]
  },
  {
   "cell_type": "code",
   "execution_count": 8,
   "metadata": {},
   "outputs": [
    {
     "data": {
      "image/svg+xml": [
       "<svg xmlns=\"http://www.w3.org/2000/svg\" xmlns:xlink=\"http://www.w3.org/1999/xlink\" width=\"202px\" height=\"162px\" viewBox=\"0.00 0.00 202.00 162.00\">\n",
       "<g id=\"graph0\" class=\"graph\" transform=\"scale(1.0 1.0) rotate(0) translate(4 158)\">\n",
       "<title>Sensitivities schema</title>\n",
       "<polygon fill=\"white\" stroke=\"transparent\" points=\"-4,4 -4,-158 198,-158 198,4 -4,4\"/>\n",
       "<!-- Sensitivities -->\n",
       "<g id=\"node1\" class=\"node\">\n",
       "<title>Sensitivities</title>\n",
       "<text text-anchor=\"start\" x=\"61.5\" y=\"-134.6\" font-family=\"-apple-system, BlinkMacSystemFont, 'Segoe UI', Helvetica, Arial, sans-serif, 'Apple Color Emoji', 'Segoe UI Emoji', 'Segoe UI Symbol'\" font-weight=\"bold\" font-size=\"13.00\">Sensitivities</text>\n",
       "<polygon fill=\"#f5f5f5\" stroke=\"transparent\" points=\"9,-101 9,-125 40,-125 40,-101 9,-101\"/>\n",
       "<text text-anchor=\"start\" x=\"14\" y=\"-110.6\" font-family=\"-apple-system, BlinkMacSystemFont, 'Segoe UI', Helvetica, Arial, sans-serif, 'Apple Color Emoji', 'Segoe UI Emoji', 'Segoe UI Symbol'\" font-weight=\"bold\" font-size=\"13.00\">key</text>\n",
       "<polygon fill=\"#f5f5f5\" stroke=\"transparent\" points=\"40,-101 40,-125 118,-125 118,-101 40,-101\"/>\n",
       "<text text-anchor=\"start\" x=\"45\" y=\"-109.6\" font-family=\"-apple-system, BlinkMacSystemFont, 'Segoe UI', Helvetica, Arial, sans-serif, 'Apple Color Emoji', 'Segoe UI Emoji', 'Segoe UI Symbol'\" font-size=\"13.00\">AsOfDate</text>\n",
       "<polygon fill=\"#f5f5f5\" stroke=\"transparent\" points=\"118,-101 118,-125 185,-125 185,-101 118,-101\"/>\n",
       "<text text-anchor=\"start\" x=\"123\" y=\"-110.6\" font-family=\"-apple-system, BlinkMacSystemFont, 'Segoe UI', Helvetica, Arial, sans-serif, 'Apple Color Emoji', 'Segoe UI Emoji', 'Segoe UI Symbol'\" font-style=\"italic\" font-size=\"13.00\">LocalDate</text>\n",
       "<polygon fill=\"#ffffff\" stroke=\"transparent\" points=\"9,-77 9,-101 40,-101 40,-77 9,-77\"/>\n",
       "<text text-anchor=\"start\" x=\"14\" y=\"-86.6\" font-family=\"-apple-system, BlinkMacSystemFont, 'Segoe UI', Helvetica, Arial, sans-serif, 'Apple Color Emoji', 'Segoe UI Emoji', 'Segoe UI Symbol'\" font-weight=\"bold\" font-size=\"13.00\">key</text>\n",
       "<polygon fill=\"#ffffff\" stroke=\"transparent\" points=\"40,-77 40,-101 118,-101 118,-77 40,-77\"/>\n",
       "<text text-anchor=\"start\" x=\"45\" y=\"-85.6\" font-family=\"-apple-system, BlinkMacSystemFont, 'Segoe UI', Helvetica, Arial, sans-serif, 'Apple Color Emoji', 'Segoe UI Emoji', 'Segoe UI Symbol'\" font-size=\"13.00\">TradeId</text>\n",
       "<polygon fill=\"#ffffff\" stroke=\"transparent\" points=\"118,-77 118,-101 185,-101 185,-77 118,-77\"/>\n",
       "<text text-anchor=\"start\" x=\"147\" y=\"-86.6\" font-family=\"-apple-system, BlinkMacSystemFont, 'Segoe UI', Helvetica, Arial, sans-serif, 'Apple Color Emoji', 'Segoe UI Emoji', 'Segoe UI Symbol'\" font-style=\"italic\" font-size=\"13.00\">String</text>\n",
       "<polygon fill=\"#f5f5f5\" stroke=\"transparent\" points=\"9,-53 9,-77 40,-77 40,-53 9,-53\"/>\n",
       "<text text-anchor=\"start\" x=\"14\" y=\"-62.6\" font-family=\"-apple-system, BlinkMacSystemFont, 'Segoe UI', Helvetica, Arial, sans-serif, 'Apple Color Emoji', 'Segoe UI Emoji', 'Segoe UI Symbol'\" font-weight=\"bold\" font-size=\"13.00\">key</text>\n",
       "<polygon fill=\"#f5f5f5\" stroke=\"transparent\" points=\"40,-53 40,-77 118,-77 118,-53 40,-53\"/>\n",
       "<text text-anchor=\"start\" x=\"45\" y=\"-61.6\" font-family=\"-apple-system, BlinkMacSystemFont, 'Segoe UI', Helvetica, Arial, sans-serif, 'Apple Color Emoji', 'Segoe UI Emoji', 'Segoe UI Symbol'\" font-size=\"13.00\">RiskFactor</text>\n",
       "<polygon fill=\"#f5f5f5\" stroke=\"transparent\" points=\"118,-53 118,-77 185,-77 185,-53 118,-53\"/>\n",
       "<text text-anchor=\"start\" x=\"147\" y=\"-62.6\" font-family=\"-apple-system, BlinkMacSystemFont, 'Segoe UI', Helvetica, Arial, sans-serif, 'Apple Color Emoji', 'Segoe UI Emoji', 'Segoe UI Symbol'\" font-style=\"italic\" font-size=\"13.00\">String</text>\n",
       "<polygon fill=\"#ffffff\" stroke=\"transparent\" points=\"9,-29 9,-53 40,-53 40,-29 9,-29\"/>\n",
       "<polygon fill=\"#ffffff\" stroke=\"transparent\" points=\"40,-29 40,-53 118,-53 118,-29 40,-29\"/>\n",
       "<text text-anchor=\"start\" x=\"45\" y=\"-37.6\" font-family=\"-apple-system, BlinkMacSystemFont, 'Segoe UI', Helvetica, Arial, sans-serif, 'Apple Color Emoji', 'Segoe UI Emoji', 'Segoe UI Symbol'\" font-size=\"13.00\">MarketValue</text>\n",
       "<polygon fill=\"#ffffff\" stroke=\"transparent\" points=\"118,-29 118,-53 185,-53 185,-29 118,-29\"/>\n",
       "<text text-anchor=\"start\" x=\"143\" y=\"-38.6\" font-family=\"-apple-system, BlinkMacSystemFont, 'Segoe UI', Helvetica, Arial, sans-serif, 'Apple Color Emoji', 'Segoe UI Emoji', 'Segoe UI Symbol'\" font-style=\"italic\" font-size=\"13.00\">double</text>\n",
       "<polygon fill=\"#f5f5f5\" stroke=\"transparent\" points=\"9,-5 9,-29 40,-29 40,-5 9,-5\"/>\n",
       "<polygon fill=\"#f5f5f5\" stroke=\"transparent\" points=\"40,-5 40,-29 118,-29 118,-5 40,-5\"/>\n",
       "<text text-anchor=\"start\" x=\"45\" y=\"-13.6\" font-family=\"-apple-system, BlinkMacSystemFont, 'Segoe UI', Helvetica, Arial, sans-serif, 'Apple Color Emoji', 'Segoe UI Emoji', 'Segoe UI Symbol'\" font-size=\"13.00\">Delta</text>\n",
       "<polygon fill=\"#f5f5f5\" stroke=\"transparent\" points=\"118,-5 118,-29 185,-29 185,-5 118,-5\"/>\n",
       "<text text-anchor=\"start\" x=\"143\" y=\"-14.6\" font-family=\"-apple-system, BlinkMacSystemFont, 'Segoe UI', Helvetica, Arial, sans-serif, 'Apple Color Emoji', 'Segoe UI Emoji', 'Segoe UI Symbol'\" font-style=\"italic\" font-size=\"13.00\">double</text>\n",
       "<polygon fill=\"none\" stroke=\"black\" points=\"8,-4 8,-150 186,-150 186,-4 8,-4\"/>\n",
       "</g>\n",
       "</g>\n",
       "</svg>"
      ],
      "text/plain": [
       "<IPython.core.display.SVG object>"
      ]
     },
     "execution_count": 8,
     "metadata": {},
     "output_type": "execute_result"
    }
   ],
   "source": [
    "cube.schema"
   ]
  },
  {
   "cell_type": "markdown",
   "metadata": {},
   "source": [
    "### Refining the cube\n",
    "\n",
    "The `create_cube` command triggered the creation of default measures and dimensions, which can be further customized and refined, we are creating variables to access their collections:"
   ]
  },
  {
   "cell_type": "code",
   "execution_count": 9,
   "metadata": {},
   "outputs": [],
   "source": [
    "m, lvl, h = cube.measures, cube.levels, cube.hierarchies"
   ]
  },
  {
   "cell_type": "markdown",
   "metadata": {},
   "source": [
    "The following cell **hides the created measures** for the mean:"
   ]
  },
  {
   "cell_type": "code",
   "execution_count": 10,
   "metadata": {},
   "outputs": [],
   "source": [
    "m[\"MarketValue.MEAN\"].visible = False\n",
    "m[\"Delta.MEAN\"].visible = False"
   ]
  },
  {
   "cell_type": "markdown",
   "metadata": {},
   "source": [
    "The next cell is making the date dimension slicing, so that there's no summation across dates:"
   ]
  },
  {
   "cell_type": "code",
   "execution_count": 11,
   "metadata": {},
   "outputs": [],
   "source": [
    "h[\"AsOfDate\"].slicing = True"
   ]
  },
  {
   "cell_type": "markdown",
   "metadata": {},
   "source": [
    "The next cell will sort dates in desc order:"
   ]
  },
  {
   "cell_type": "code",
   "execution_count": 12,
   "metadata": {},
   "outputs": [],
   "source": [
    "lvl[\"AsOfDate\"].order = tt.NaturalOrder(ascending=False)"
   ]
  },
  {
   "cell_type": "markdown",
   "metadata": {},
   "source": [
    "Please refer to the Atoti documentation to learn about other ways to refine your cube, in particular about creating custom aggregation functions: [New measures](https://docs.atoti.io/0.4.1/tutorial/01-Basics.html#New-measures)."
   ]
  },
  {
   "cell_type": "markdown",
   "metadata": {},
   "source": [
    "#### Data visualization\n",
    "\n",
    "Let's do a quick visualization to view the Market Value and Delta measures from the initial source file.  \n",
    "The following command serves for a quick inline Atoti visualization:"
   ]
  },
  {
   "cell_type": "code",
   "execution_count": 13,
   "metadata": {
    "atoti": {
     "height": 213,
     "widget": {
      "mapping": {
       "columns": [
        "ALL_MEASURES"
       ],
       "measures": [
        "[Measures].[MarketValue.SUM]",
        "[Measures].[Delta.SUM]"
       ],
       "rows": [
        "[Sensitivities].[AsOfDate].[AsOfDate]",
        "[Sensitivities].[RiskFactor].[RiskFactor]"
       ]
      },
      "query": {
       "mdx": "SELECT NON EMPTY Crossjoin([Sensitivities].[AsOfDate].[AsOfDate].Members, Hierarchize(Descendants({[Sensitivities].[RiskFactor].[AllMember]}, 1, SELF_AND_BEFORE))) ON ROWS, NON EMPTY {[Measures].[MarketValue.SUM], [Measures].[Delta.SUM]} ON COLUMNS FROM [Sensitivities] CELL PROPERTIES VALUE, FORMATTED_VALUE, BACK_COLOR, FORE_COLOR, FONT_FLAGS",
       "updateMode": "once"
      },
      "serverKey": "default",
      "widgetKey": "pivot-table"
     }
    },
    "tags": []
   },
   "outputs": [
    {
     "data": {
      "application/vnd.atoti.widget.v0+json": {
       "name": "Initial risk data",
       "sessionId": "1685500705_DPWWLG",
       "sessionLocation": {
        "https": false,
        "port": 54183
       },
       "widgetCreationCode": "session.visualize()"
      },
      "text/html": [
       "<img src=\"data:image/svg+xml;charset=utf8,%3C%3Fxml%20version%3D%221.0%22%20standalone%3D%22no%22%3F%3E%3Csvg%20xmlns%3D%22http%3A%2F%2Fwww.w3.org%2F2000%2Fsvg%22%20height%3D%22205%22%20width%3D%221310%22%3E%3CforeignObject%20width%3D%22100%25%22%20height%3D%22100%25%22%20x%3D%220%22%20y%3D%220%22%3E%3Cstyle%20xmlns%3D%22http%3A%2F%2Fwww.w3.org%2F1999%2Fxhtml%22%20type%3D%22text%2Fcss%22%3E*%2C%20%3A%3Abefore%2C%20%3A%3Aafter%20%7Bbox-sizing%3A%20unset%7D%0A.ant-root%20%5Bclass%5E%3D%22ant-%22%5D%2C%20.ant-root%20%5Bclass*%3D%22ant-%22%5D%2C%20.ant-root%20%5Bclass%5E%3D%22ant-%22%5D%20*%2C%20.ant-root%20%5Bclass*%3D%22ant-%22%5D%20*%2C%20.ant-root%20%5Bclass%5E%3D%22ant-%22%5D%20%3A%3Abefore%2C%20.ant-root%20%5Bclass*%3D%22ant-%22%5D%20%3A%3Abefore%2C%20.ant-root%20%5Bclass%5E%3D%22ant-%22%5D%20%3A%3Aafter%2C%20.ant-root%20%5Bclass*%3D%22ant-%22%5D%20%3A%3Aafter%20%7Bbox-sizing%3A%20border-box%7D%0A.ant-root%2C%20.ant-root%20%7Bwidth%3A%20100%25%3B%20height%3A%20100%25%7D%0A.ant-root%20*%2C%20.ant-root%20%3A%3Abefore%2C%20.ant-root%20%3A%3Aafter%20%7Bbox-sizing%3A%20border-box%7D%0A.ant-root%20%7Btext-size-adjust%3A%20100%25%3B%20-webkit-tap-highlight-color%3A%20rgba(0%2C%200%2C%200%2C%200)%3B%20font-family%3A%20-apple-system%2C%20BlinkMacSystemFont%2C%20%22Segoe%20UI%22%2C%20Roboto%2C%20%22Helvetica%20Neue%22%2C%20Arial%2C%20%22Noto%20Sans%22%2C%20sans-serif%2C%20%22Apple%20Color%20Emoji%22%2C%20%22Segoe%20UI%20Emoji%22%2C%20%22Segoe%20UI%20Symbol%22%2C%20%22Noto%20Color%20Emoji%22%3B%20line-height%3A%201.66667%3B%20color%3A%20rgb(89%2C%2089%2C%2089)%3B%20font-variant-ligatures%3A%20normal%3B%20font-variant-numeric%3A%20tabular-nums%3B%20font-variant-east-asian%3A%20normal%3B%20font-variant-caps%3A%20normal%3B%20font-variant-alternates%3A%20normal%3B%20background-color%3A%20rgb(255%2C%20255%2C%20255)%3B%20margin-top%3A%200px%3B%20margin-right%3A%200px%3B%20margin-bottom%3A%200px%3B%20margin-left%3A%200px%3B%20font-size%3A%2012px%3B%20--antd-wave-shadow-color%3A%20%231890ff%3B%20--scroll-bar%3A%200%7D%0A.ant-root%20.aui-invisible-scrollbars%20%7B%7D%0A.css-12ebr42-AWidget%20%7Bheight%3A%20100%25%7D%0A.css-2p9ued-WidgetLoadingOverlay%20%7Bheight%3A%20100%25%3B%20position%3A%20relative%7D%0A.css-1b1raxz-DefaultWidgetLoadingOverlay%20%7Bdisplay%3A%20flex%3B%20height%3A%20100%25%3B%20-webkit-box-pack%3A%20center%3B%20justify-content%3A%20center%3B%20position%3A%20absolute%3B%20width%3A%20100%25%3B%20-webkit-box-align%3A%20center%3B%20align-items%3A%20center%3B%20pointer-events%3A%20none%3B%20z-index%3A%202%7D%0A.css-34a2ml-DefaultWidgetLoadingOverlay%20%7Bbackground-image%3A%20initial%3B%20background-position-x%3A%20initial%3B%20background-position-y%3A%20initial%3B%20background-size%3A%20initial%3B%20background-repeat-x%3A%20initial%3B%20background-repeat-y%3A%20initial%3B%20background-attachment%3A%20initial%3B%20background-origin%3A%20initial%3B%20background-clip%3A%20initial%3B%20background-color%3A%20transparent%3B%20width%3A%20calc(100%25%20-%204px)%3B%20height%3A%20calc(100%25%20-%204px)%7D%0A.css-1hwl8p1-Table%20%7Bpadding-bottom%3A%202px%3B%20padding-right%3A%202px%3B%20height%3A%20100%25%7D%0A.css-14ejcn0-Table%20%7Bheight%3A%20calc(100%25%20-%2030px)%3B%20outline-color%3A%20initial%3B%20outline-style%3A%20none%3B%20outline-width%3A%20initial%3B%20position%3A%20relative%7D%0A.css-1rxpjm0-ColumnResizeHint%20%7Bdisplay%3A%20none%3B%20position%3A%20absolute%3B%20z-index%3A%201%7D%0A.css-walxhl-ColumnResizeHint%20%7Bheight%3A%2028px%3B%20background-color%3A%20rgb(24%2C%20144%2C%20255)%3B%20width%3A%205px%7D%0A.css-1uww2vi-Table%20%7Bheight%3A%2030px%3B%20text-align%3A%20right%3B%20padding-right%3A%2025px%7D%0A.css-j1md2z-ColumnResizeHint%20%7Bdisplay%3A%20none%3B%20float%3A%20right%3B%20height%3A%20145px%3B%20background-color%3A%20rgb(24%2C%20144%2C%20255)%3B%20opacity%3A%200.4%3B%20width%3A%202px%7D%0A.css-1risl2v-Table%20%7Bdisplay%3A%20flex%3B%20height%3A%20173px%7D%0A.css-cjaqq6-Table%20%7Bborder-collapse%3A%20collapse%3B%20height%3A%2028px%3B%20width%3A%20240px%7D%0A.css-17cmzye%20%7Bheight%3A%2028px%3B%20width%3A%20240px%7D%0A.css-1q24z4%20%7Bcursor%3A%20cell%3B%20height%3A%2028px%3B%20overflow-x%3A%20hidden%3B%20overflow-y%3A%20hidden%3B%20position%3A%20relative%3B%20width%3A%20240px%3B%20border-right-width%3A%202px%3B%20border-right-style%3A%20solid%3B%20border-right-color%3A%20rgb(233%2C%20233%2C%20233)%7D%0A.css-1hol363-ResizableCell%20%7Bdisplay%3A%20flex%3B%20flex-direction%3A%20column%3B%20position%3A%20absolute%3B%20top%3A%200px%3B%20left%3A%200px%3B%20height%3A%2028px%3B%20width%3A%20120px%7D%0A.css-xxcrt1-ResizableCell%20%7Bbackground-image%3A%20initial%3B%20background-position-x%3A%20initial%3B%20background-position-y%3A%20initial%3B%20background-size%3A%20initial%3B%20background-repeat-x%3A%20initial%3B%20background-repeat-y%3A%20initial%3B%20background-attachment%3A%20initial%3B%20background-origin%3A%20initial%3B%20background-clip%3A%20initial%3B%20background-color%3A%20transparent%3B%20cursor%3A%20col-resize%3B%20height%3A%20100%25%3B%20position%3A%20absolute%3B%20right%3A%200px%3B%20width%3A%205px%3B%20z-index%3A%201%7D%0A.css-fpuq48-ResizableCell%20%7Bdisplay%3A%20flex%3B%20flex-direction%3A%20column%3B%20position%3A%20absolute%3B%20top%3A%200px%3B%20left%3A%20120px%3B%20height%3A%2028px%3B%20width%3A%20120px%7D%0A.css-2onc43%20%7Bheight%3A%20145px%3B%20width%3A%20240px%3B%20overflow-x%3A%20hidden%3B%20overflow-y%3A%20auto%7D%0A.css-b6akq2%20%7Bcursor%3A%20cell%3B%20height%3A%20112px%3B%20overflow-x%3A%20hidden%3B%20overflow-y%3A%20hidden%3B%20position%3A%20relative%3B%20width%3A%20240px%3B%20border-top-width%3A%202px%3B%20border-top-style%3A%20solid%3B%20border-top-color%3A%20rgb(233%2C%20233%2C%20233)%3B%20border-right-width%3A%202px%3B%20border-right-style%3A%20solid%3B%20border-right-color%3A%20rgb(233%2C%20233%2C%20233)%7D%0A.css-1farq9y-Table%20%7Bwidth%3A%201068px%3B%20border-collapse%3A%20collapse%7D%0A.css-1p13kwu%20%7Bheight%3A%2028px%3B%20width%3A%201050px%3B%20overflow-x%3A%20auto%3B%20overflow-y%3A%20hidden%7D%0A.css-99ih7p%20%7Bcursor%3A%20cell%3B%20height%3A%2028px%3B%20overflow-x%3A%20hidden%3B%20overflow-y%3A%20hidden%3B%20position%3A%20relative%3B%20width%3A%20240px%7D%0A.css-du8zig%20%7Bheight%3A%20145px%3B%20width%3A%201068px%3B%20overflow-x%3A%20auto%3B%20overflow-y%3A%20auto%7D%0A.css-l17vxh%20%7Bcursor%3A%20cell%3B%20height%3A%20112px%3B%20overflow-x%3A%20hidden%3B%20overflow-y%3A%20hidden%3B%20position%3A%20relative%3B%20width%3A%20240px%3B%20border-top-width%3A%202px%3B%20border-top-style%3A%20solid%3B%20border-top-color%3A%20rgb(233%2C%20233%2C%20233)%7D%0A*%20%7B-ms-overflow-style%3A%20none%3B%20scrollbar-width%3A%20none%7D%0A*%3A%3A-webkit-scrollbar%20%7Bdisplay%3A%20none%7D%0A.atoti-hidden-in-snapshot%20%7Bdisplay%3A%20none%7D%3C%2Fstyle%3E%3Cdiv%20xmlns%3D%22http%3A%2F%2Fwww.w3.org%2F1999%2Fxhtml%22%20style%3D%22height%3A%20205px%3B%20width%3A%201310px%3B%22%3E%3Cdiv%20class%3D%22ant-root%20css-0%22%3E%3Cdiv%20class%3D%22ant-dropdown-trigger%20css-12ebr42-AWidget%22%3E%3Cdiv%20class%3D%22css-2p9ued-WidgetLoadingOverlay%22%3E%3Cdiv%20class%3D%22css-1b1raxz-DefaultWidgetLoadingOverlay%22%3E%3Cdiv%20class%3D%22css-34a2ml-DefaultWidgetLoadingOverlay%22%3E%3C%2Fdiv%3E%3C%2Fdiv%3E%3Cdiv%20class%3D%22css-1hwl8p1-Table%22%3E%3Cdiv%20tabindex%3D%220%22%20class%3D%22css-14ejcn0-Table%22%3E%3Cdiv%20class%3D%22css-1rxpjm0-ColumnResizeHint%22%3E%3Cdiv%20class%3D%22css-walxhl-ColumnResizeHint%22%3E%3C%2Fdiv%3E%3Cdiv%20class%3D%22css-j1md2z-ColumnResizeHint%22%3E%3C%2Fdiv%3E%3C%2Fdiv%3E%3Cdiv%20class%3D%22css-1risl2v-Table%22%3E%3Cdiv%20class%3D%22css-cjaqq6-Table%22%3E%3Cdiv%20class%3D%22%20css-17cmzye%22%3E%3Cdiv%20class%3D%22css-1q24z4%22%3E%3Cdiv%20class%3D%22css-1hol363-ResizableCell%22%3E%3Cdiv%20class%3D%22aui-table-cell%22%20style%3D%22height%3A%2028px%3B%20left%3A%200px%3B%20top%3A%200px%3B%20width%3A%20115px%3B%20text-align%3A%20left%3B%20font-size%3A%2012px%3B%20padding%3A%204px%204px%203px%3B%20overflow%3A%20hidden%3B%20position%3A%20absolute%3B%20white-space%3A%20nowrap%3B%20text-overflow%3A%20ellipsis%3B%20font-weight%3A%20600%3B%20display%3A%20flex%3B%20align-items%3A%20center%3B%22%3E%3Cspan%3EAsOfDate%3C%2Fspan%3E%3C%2Fdiv%3E%3Cdiv%20class%3D%22css-xxcrt1-ResizableCell%22%3E%3C%2Fdiv%3E%3C%2Fdiv%3E%3Cdiv%20class%3D%22css-fpuq48-ResizableCell%22%3E%3Cdiv%20class%3D%22aui-table-cell%22%20style%3D%22height%3A%2028px%3B%20left%3A%200px%3B%20top%3A%200px%3B%20width%3A%20115px%3B%20text-align%3A%20left%3B%20font-size%3A%2012px%3B%20padding%3A%204px%204px%203px%3B%20overflow%3A%20hidden%3B%20position%3A%20absolute%3B%20white-space%3A%20nowrap%3B%20text-overflow%3A%20ellipsis%3B%20font-weight%3A%20600%3B%20display%3A%20flex%3B%20align-items%3A%20center%3B%22%3E%3Cspan%3ERiskFactor%3C%2Fspan%3E%3C%2Fdiv%3E%3Cdiv%20class%3D%22css-xxcrt1-ResizableCell%22%3E%3C%2Fdiv%3E%3C%2Fdiv%3E%3C%2Fdiv%3E%3C%2Fdiv%3E%3Cdiv%20class%3D%22aui-invisible-scrollbars%20css-2onc43%22%3E%3Cdiv%20class%3D%22css-b6akq2%22%3E%3Cdiv%20style%3D%22display%3A%20flex%3B%20align-items%3A%20center%3B%20height%3A%2028px%3B%20left%3A%200px%3B%20top%3A%200px%3B%20width%3A%20120px%3B%20text-align%3A%20left%3B%20font-size%3A%2012px%3B%20padding%3A%204px%204px%203px%3B%20overflow%3A%20hidden%3B%20position%3A%20absolute%3B%20white-space%3A%20nowrap%3B%20text-overflow%3A%20ellipsis%3B%20font-weight%3A%20600%3B%22%3E%3Cspan%20style%3D%22text-overflow%3A%20ellipsis%3B%20overflow%3A%20hidden%3B%20white-space%3A%20nowrap%3B%20max-width%3A%20calc((100%25%20-%200px)%20-%200px)%3B%22%3E2020-07-09%3C%2Fspan%3E%3C%2Fdiv%3E%3Cdiv%20style%3D%22display%3A%20flex%3B%20align-items%3A%20center%3B%20height%3A%2028px%3B%20left%3A%20120px%3B%20top%3A%200px%3B%20width%3A%20120px%3B%20text-align%3A%20left%3B%20font-size%3A%2012px%3B%20padding%3A%204px%204px%203px%3B%20overflow%3A%20hidden%3B%20position%3A%20absolute%3B%20white-space%3A%20nowrap%3B%20text-overflow%3A%20ellipsis%3B%20border-right%3A%202px%20solid%20rgb(233%2C%20233%2C%20233)%3B%20background-color%3A%20transparent%3B%22%3E%3Cspan%20style%3D%22text-overflow%3A%20ellipsis%3B%20overflow%3A%20hidden%3B%20white-space%3A%20nowrap%3B%20max-width%3A%20calc((100%25%20-%200px)%20-%200px)%3B%22%3E%3C%2Fspan%3E%3C%2Fdiv%3E%3Cdiv%20style%3D%22display%3A%20none%3B%20align-items%3A%20center%3B%20height%3A%2028px%3B%20left%3A%200px%3B%20top%3A%2028px%3B%20width%3A%20120px%3B%20text-align%3A%20left%3B%20font-size%3A%2012px%3B%20padding%3A%204px%204px%203px%3B%20overflow%3A%20hidden%3B%20position%3A%20absolute%3B%20white-space%3A%20nowrap%3B%20text-overflow%3A%20ellipsis%3B%20font-weight%3A%20600%3B%22%3E%3Cspan%20style%3D%22text-overflow%3A%20ellipsis%3B%20overflow%3A%20hidden%3B%20white-space%3A%20nowrap%3B%20max-width%3A%20calc((100%25%20-%200px)%20-%200px)%3B%22%3E2020-07-09%3C%2Fspan%3E%3C%2Fdiv%3E%3Cdiv%20style%3D%22display%3A%20flex%3B%20align-items%3A%20center%3B%20height%3A%2028px%3B%20left%3A%20120px%3B%20top%3A%2028px%3B%20width%3A%20120px%3B%20text-align%3A%20left%3B%20font-size%3A%2012px%3B%20padding%3A%204px%204px%203px%3B%20overflow%3A%20hidden%3B%20position%3A%20absolute%3B%20white-space%3A%20nowrap%3B%20text-overflow%3A%20ellipsis%3B%20border-right%3A%202px%20solid%20rgb(233%2C%20233%2C%20233)%3B%20background-color%3A%20rgb(250%2C%20250%2C%20250)%3B%22%3E%3Cspan%20style%3D%22text-overflow%3A%20ellipsis%3B%20overflow%3A%20hidden%3B%20white-space%3A%20nowrap%3B%20max-width%3A%20calc((100%25%20-%200px)%20-%200px)%3B%22%3EAAPL%3C%2Fspan%3E%3C%2Fdiv%3E%3Cdiv%20style%3D%22display%3A%20none%3B%20align-items%3A%20center%3B%20height%3A%2028px%3B%20left%3A%200px%3B%20top%3A%2056px%3B%20width%3A%20120px%3B%20text-align%3A%20left%3B%20font-size%3A%2012px%3B%20padding%3A%204px%204px%203px%3B%20overflow%3A%20hidden%3B%20position%3A%20absolute%3B%20white-space%3A%20nowrap%3B%20text-overflow%3A%20ellipsis%3B%20font-weight%3A%20600%3B%22%3E%3Cspan%20style%3D%22text-overflow%3A%20ellipsis%3B%20overflow%3A%20hidden%3B%20white-space%3A%20nowrap%3B%20max-width%3A%20calc((100%25%20-%200px)%20-%200px)%3B%22%3E2020-07-09%3C%2Fspan%3E%3C%2Fdiv%3E%3Cdiv%20style%3D%22display%3A%20flex%3B%20align-items%3A%20center%3B%20height%3A%2028px%3B%20left%3A%20120px%3B%20top%3A%2056px%3B%20width%3A%20120px%3B%20text-align%3A%20left%3B%20font-size%3A%2012px%3B%20padding%3A%204px%204px%203px%3B%20overflow%3A%20hidden%3B%20position%3A%20absolute%3B%20white-space%3A%20nowrap%3B%20text-overflow%3A%20ellipsis%3B%20border-right%3A%202px%20solid%20rgb(233%2C%20233%2C%20233)%3B%20background-color%3A%20transparent%3B%22%3E%3Cspan%20style%3D%22text-overflow%3A%20ellipsis%3B%20overflow%3A%20hidden%3B%20white-space%3A%20nowrap%3B%20max-width%3A%20calc((100%25%20-%200px)%20-%200px)%3B%22%3EMSFT%3C%2Fspan%3E%3C%2Fdiv%3E%3Cdiv%20style%3D%22display%3A%20none%3B%20align-items%3A%20center%3B%20height%3A%2028px%3B%20left%3A%200px%3B%20top%3A%2084px%3B%20width%3A%20120px%3B%20text-align%3A%20left%3B%20font-size%3A%2012px%3B%20padding%3A%204px%204px%203px%3B%20overflow%3A%20hidden%3B%20position%3A%20absolute%3B%20white-space%3A%20nowrap%3B%20text-overflow%3A%20ellipsis%3B%20font-weight%3A%20600%3B%22%3E%3Cspan%20style%3D%22text-overflow%3A%20ellipsis%3B%20overflow%3A%20hidden%3B%20white-space%3A%20nowrap%3B%20max-width%3A%20calc((100%25%20-%200px)%20-%200px)%3B%22%3E2020-07-09%3C%2Fspan%3E%3C%2Fdiv%3E%3Cdiv%20style%3D%22display%3A%20flex%3B%20align-items%3A%20center%3B%20height%3A%2028px%3B%20left%3A%20120px%3B%20top%3A%2084px%3B%20width%3A%20120px%3B%20text-align%3A%20left%3B%20font-size%3A%2012px%3B%20padding%3A%204px%204px%203px%3B%20overflow%3A%20hidden%3B%20position%3A%20absolute%3B%20white-space%3A%20nowrap%3B%20text-overflow%3A%20ellipsis%3B%20border-right%3A%202px%20solid%20rgb(233%2C%20233%2C%20233)%3B%20background-color%3A%20rgb(250%2C%20250%2C%20250)%3B%22%3E%3Cspan%20style%3D%22text-overflow%3A%20ellipsis%3B%20overflow%3A%20hidden%3B%20white-space%3A%20nowrap%3B%20max-width%3A%20calc((100%25%20-%200px)%20-%200px)%3B%22%3EOXY%3C%2Fspan%3E%3C%2Fdiv%3E%3C%2Fdiv%3E%3C%2Fdiv%3E%3C%2Fdiv%3E%3Cdiv%20class%3D%22css-1farq9y-Table%22%3E%3Cdiv%20class%3D%22aui-invisible-scrollbars%20css-1p13kwu%22%3E%3Cdiv%20class%3D%22css-99ih7p%22%3E%3Cdiv%20class%3D%22css-1hol363-ResizableCell%22%3E%3Cdiv%20style%3D%22display%3A%20flex%3B%20align-items%3A%20center%3B%20height%3A%2028px%3B%20left%3A%200px%3B%20top%3A%200px%3B%20width%3A%20115px%3B%20text-align%3A%20left%3B%20font-size%3A%2012px%3B%20padding%3A%204px%204px%203px%3B%20overflow%3A%20hidden%3B%20position%3A%20absolute%3B%20white-space%3A%20nowrap%3B%20text-overflow%3A%20ellipsis%3B%20font-weight%3A%20600%3B%22%3E%3Cspan%20style%3D%22text-overflow%3A%20ellipsis%3B%20overflow%3A%20hidden%3B%20white-space%3A%20nowrap%3B%20max-width%3A%20calc((100%25%20-%200px)%20-%200px)%3B%22%3EMarketValue.SUM%3C%2Fspan%3E%3C%2Fdiv%3E%3Cdiv%20class%3D%22css-xxcrt1-ResizableCell%22%3E%3C%2Fdiv%3E%3C%2Fdiv%3E%3Cdiv%20class%3D%22css-fpuq48-ResizableCell%22%3E%3Cdiv%20style%3D%22display%3A%20flex%3B%20align-items%3A%20center%3B%20height%3A%2028px%3B%20left%3A%200px%3B%20top%3A%200px%3B%20width%3A%20115px%3B%20text-align%3A%20left%3B%20font-size%3A%2012px%3B%20padding%3A%204px%204px%203px%3B%20overflow%3A%20hidden%3B%20position%3A%20absolute%3B%20white-space%3A%20nowrap%3B%20text-overflow%3A%20ellipsis%3B%20font-weight%3A%20600%3B%22%3E%3Cspan%20style%3D%22text-overflow%3A%20ellipsis%3B%20overflow%3A%20hidden%3B%20white-space%3A%20nowrap%3B%20max-width%3A%20calc((100%25%20-%200px)%20-%200px)%3B%22%3EDelta.SUM%3C%2Fspan%3E%3C%2Fdiv%3E%3Cdiv%20class%3D%22css-xxcrt1-ResizableCell%22%3E%3C%2Fdiv%3E%3C%2Fdiv%3E%3C%2Fdiv%3E%3C%2Fdiv%3E%3Cdiv%20class%3D%22%20css-du8zig%22%3E%3Cdiv%20class%3D%22css-l17vxh%22%3E%3Cdiv%20class%3D%22aui-table-cell%22%20style%3D%22height%3A%2028px%3B%20left%3A%200px%3B%20top%3A%200px%3B%20width%3A%20120px%3B%20text-align%3A%20right%3B%20font-size%3A%2012px%3B%20padding%3A%204px%204px%203px%3B%20overflow%3A%20hidden%3B%20position%3A%20absolute%3B%20white-space%3A%20nowrap%3B%20text-overflow%3A%20ellipsis%3B%20border-right%3A%201px%20solid%20rgb(233%2C%20233%2C%20233)%3B%20background-color%3A%20transparent%3B%22%3E2%2C110.28%3C%2Fdiv%3E%3Cdiv%20class%3D%22aui-table-cell%22%20style%3D%22height%3A%2028px%3B%20left%3A%20120px%3B%20top%3A%200px%3B%20width%3A%20120px%3B%20text-align%3A%20right%3B%20font-size%3A%2012px%3B%20padding%3A%204px%204px%203px%3B%20overflow%3A%20hidden%3B%20position%3A%20absolute%3B%20white-space%3A%20nowrap%3B%20text-overflow%3A%20ellipsis%3B%20border-right%3A%201px%20solid%20rgb(233%2C%20233%2C%20233)%3B%20background-color%3A%20transparent%3B%22%3E34%2C450.16%3C%2Fdiv%3E%3Cdiv%20class%3D%22aui-table-cell%22%20style%3D%22height%3A%2028px%3B%20left%3A%200px%3B%20top%3A%2028px%3B%20width%3A%20120px%3B%20text-align%3A%20right%3B%20font-size%3A%2012px%3B%20padding%3A%204px%204px%203px%3B%20overflow%3A%20hidden%3B%20position%3A%20absolute%3B%20white-space%3A%20nowrap%3B%20text-overflow%3A%20ellipsis%3B%20border-right%3A%201px%20solid%20rgb(233%2C%20233%2C%20233)%3B%20background-color%3A%20rgb(250%2C%20250%2C%20250)%3B%22%3E1%2C508.95%3C%2Fdiv%3E%3Cdiv%20class%3D%22aui-table-cell%22%20style%3D%22height%3A%2028px%3B%20left%3A%20120px%3B%20top%3A%2028px%3B%20width%3A%20120px%3B%20text-align%3A%20right%3B%20font-size%3A%2012px%3B%20padding%3A%204px%204px%203px%3B%20overflow%3A%20hidden%3B%20position%3A%20absolute%3B%20white-space%3A%20nowrap%3B%20text-overflow%3A%20ellipsis%3B%20border-right%3A%201px%20solid%20rgb(233%2C%20233%2C%20233)%3B%20background-color%3A%20rgb(250%2C%20250%2C%20250)%3B%22%3E-154.09%3C%2Fdiv%3E%3Cdiv%20class%3D%22aui-table-cell%22%20style%3D%22height%3A%2028px%3B%20left%3A%200px%3B%20top%3A%2056px%3B%20width%3A%20120px%3B%20text-align%3A%20right%3B%20font-size%3A%2012px%3B%20padding%3A%204px%204px%203px%3B%20overflow%3A%20hidden%3B%20position%3A%20absolute%3B%20white-space%3A%20nowrap%3B%20text-overflow%3A%20ellipsis%3B%20border-right%3A%201px%20solid%20rgb(233%2C%20233%2C%20233)%3B%20background-color%3A%20transparent%3B%22%3E591.64%3C%2Fdiv%3E%3Cdiv%20class%3D%22aui-table-cell%22%20style%3D%22height%3A%2028px%3B%20left%3A%20120px%3B%20top%3A%2056px%3B%20width%3A%20120px%3B%20text-align%3A%20right%3B%20font-size%3A%2012px%3B%20padding%3A%204px%204px%203px%3B%20overflow%3A%20hidden%3B%20position%3A%20absolute%3B%20white-space%3A%20nowrap%3B%20text-overflow%3A%20ellipsis%3B%20border-right%3A%201px%20solid%20rgb(233%2C%20233%2C%20233)%3B%20background-color%3A%20transparent%3B%22%3E34%2C723.31%3C%2Fdiv%3E%3Cdiv%20class%3D%22aui-table-cell%22%20style%3D%22height%3A%2028px%3B%20left%3A%200px%3B%20top%3A%2084px%3B%20width%3A%20120px%3B%20text-align%3A%20right%3B%20font-size%3A%2012px%3B%20padding%3A%204px%204px%203px%3B%20overflow%3A%20hidden%3B%20position%3A%20absolute%3B%20white-space%3A%20nowrap%3B%20text-overflow%3A%20ellipsis%3B%20border-right%3A%201px%20solid%20rgb(233%2C%20233%2C%20233)%3B%20background-color%3A%20rgb(250%2C%20250%2C%20250)%3B%22%3E9.70%3C%2Fdiv%3E%3Cdiv%20class%3D%22aui-table-cell%22%20style%3D%22height%3A%2028px%3B%20left%3A%20120px%3B%20top%3A%2084px%3B%20width%3A%20120px%3B%20text-align%3A%20right%3B%20font-size%3A%2012px%3B%20padding%3A%204px%204px%203px%3B%20overflow%3A%20hidden%3B%20position%3A%20absolute%3B%20white-space%3A%20nowrap%3B%20text-overflow%3A%20ellipsis%3B%20border-right%3A%201px%20solid%20rgb(233%2C%20233%2C%20233)%3B%20background-color%3A%20rgb(250%2C%20250%2C%20250)%3B%22%3E-119.07%3C%2Fdiv%3E%3C%2Fdiv%3E%3C%2Fdiv%3E%3C%2Fdiv%3E%3C%2Fdiv%3E%3C%2Fdiv%3E%3Cdiv%20class%3D%22css-1uww2vi-Table%22%3E%3C%2Fdiv%3E%3C%2Fdiv%3E%3C%2Fdiv%3E%3C%2Fdiv%3E%3C%2Fdiv%3E%3C%2Fdiv%3E%3C%2FforeignObject%3E%3C%2Fsvg%3E\">"
      ],
      "text/plain": [
       "Open the notebook in JupyterLab with the Atoti extension enabled to build this widget."
      ]
     },
     "metadata": {},
     "output_type": "display_data"
    }
   ],
   "source": [
    "session.visualize(\"Initial risk data\")"
   ]
  },
  {
   "cell_type": "markdown",
   "metadata": {},
   "source": [
    "We are expecting new files to be loaded into the directory. Using the popular [watchdog](https://github.com/gorakhargosh/watchdog) library, we overload the `on_created` event function to load the received file into the Atoti data table `Sensitivities`.  \n",
    "There are other [watchdog events handlers](https://pythonhosted.org/watchdog/api.html#event-handler-classes) that you may consider using, depending on your use case.\n",
    "\n",
    "By using watchdog, this allows us to implement conditional loading or have data preprocessing before loading them into the Atoti cube."
   ]
  },
  {
   "cell_type": "code",
   "execution_count": 14,
   "metadata": {},
   "outputs": [],
   "source": [
    "watch_directory = \"./dynamic-input-files\"\n",
    "if not os.path.exists(watch_directory):\n",
    "    os.makedirs(watch_directory)"
   ]
  },
  {
   "cell_type": "code",
   "execution_count": 15,
   "metadata": {},
   "outputs": [],
   "source": [
    "class AtotiWatcher(FileSystemEventHandler):\n",
    "    def on_created(self, event: FileCreatedEvent):\n",
    "        try:\n",
    "            filename = os.path.basename(event.src_path)\n",
    "            if filename != \"dynamic-input-files\":\n",
    "                print(\"New file received\", filename)\n",
    "                sensitivities_table.load_csv(event.src_path)\n",
    "                print(\"File loaded\", event.src_path)\n",
    "        except Exception as error:\n",
    "            print(error)\n",
    "\n",
    "    def on_modified(self, event: FileCreatedEvent):\n",
    "        try:\n",
    "            filename = os.path.basename(event.src_path)\n",
    "            if filename != \"dynamic-input-files\":\n",
    "                print(\"File modified\", filename)\n",
    "                sensitivities_table.load_csv(event.src_path)\n",
    "                print(\"Modified file loaded\", event.src_path)\n",
    "        except Exception as error:\n",
    "            print(error)\n",
    "\n",
    "\n",
    "observer = PollingObserver()\n",
    "observer.schedule(AtotiWatcher(), watch_directory)\n",
    "observer.start()"
   ]
  },
  {
   "cell_type": "markdown",
   "metadata": {},
   "source": [
    "### Real-time data loading: Loading a new file to the directory \n",
    "\n",
    "Let's download portfolio from the previous business day into the same folder"
   ]
  },
  {
   "cell_type": "code",
   "execution_count": 16,
   "metadata": {},
   "outputs": [
    {
     "name": "stdout",
     "output_type": "stream",
     "text": [
      "100% [................................................................................] 1256 / 1256"
     ]
    },
    {
     "data": {
      "text/plain": [
       "'./dynamic-input-files/risk_data_previous_cob (1).csv'"
      ]
     },
     "execution_count": 16,
     "metadata": {},
     "output_type": "execute_result"
    }
   ],
   "source": [
    "wget.download(\n",
    "    \"https://data.atoti.io/notebooks/real-time-risk/static-input-files/risk_data_previous_cob.csv\",\n",
    "    \"./dynamic-input-files\",\n",
    ")"
   ]
  },
  {
   "cell_type": "code",
   "execution_count": 17,
   "metadata": {
    "atoti": {
     "height": 293,
     "widget": {
      "mapping": {
       "columns": [
        "ALL_MEASURES"
       ],
       "measures": [
        "[Measures].[MarketValue.SUM]",
        "[Measures].[Delta.SUM]"
       ],
       "rows": [
        "[Sensitivities].[AsOfDate].[AsOfDate]",
        "[Sensitivities].[RiskFactor].[RiskFactor]"
       ]
      },
      "name": "Risk data after uploading 8th of July",
      "query": {
       "context": {
        "queriesResultLimit.intermediateSize": 1000000,
        "queriesResultLimit.transientSize": 10000000
       },
       "mdx": "SELECT NON EMPTY Crossjoin([Sensitivities].[AsOfDate].[AsOfDate].Members, Hierarchize(Descendants({[Sensitivities].[RiskFactor].[AllMember]}, 1, SELF_AND_BEFORE))) ON ROWS, NON EMPTY {[Measures].[MarketValue.SUM], [Measures].[Delta.SUM]} ON COLUMNS FROM [Sensitivities] CELL PROPERTIES VALUE, FORMATTED_VALUE, BACK_COLOR, FORE_COLOR, FONT_FLAGS",
       "updateMode": "once"
      },
      "serverKey": "default",
      "widgetKey": "pivot-table"
     }
    },
    "tags": []
   },
   "outputs": [
    {
     "data": {
      "application/vnd.atoti.widget.v0+json": {
       "name": "Risk data after uploading 8th of July",
       "sessionId": "1685500705_DPWWLG",
       "sessionLocation": {
        "https": false,
        "port": 54183
       },
       "widgetCreationCode": "session.visualize()"
      },
      "text/html": [
       "<img src=\"data:image/svg+xml;charset=utf8,%3C%3Fxml%20version%3D%221.0%22%20standalone%3D%22no%22%3F%3E%3Csvg%20xmlns%3D%22http%3A%2F%2Fwww.w3.org%2F2000%2Fsvg%22%20height%3D%22285%22%20width%3D%221310%22%3E%3CforeignObject%20width%3D%22100%25%22%20height%3D%22100%25%22%20x%3D%220%22%20y%3D%220%22%3E%3Cstyle%20xmlns%3D%22http%3A%2F%2Fwww.w3.org%2F1999%2Fxhtml%22%20type%3D%22text%2Fcss%22%3E*%2C%20%3A%3Abefore%2C%20%3A%3Aafter%20%7Bbox-sizing%3A%20unset%7D%0A.ant-root%20%5Bclass%5E%3D%22ant-%22%5D%2C%20.ant-root%20%5Bclass*%3D%22ant-%22%5D%2C%20.ant-root%20%5Bclass%5E%3D%22ant-%22%5D%20*%2C%20.ant-root%20%5Bclass*%3D%22ant-%22%5D%20*%2C%20.ant-root%20%5Bclass%5E%3D%22ant-%22%5D%20%3A%3Abefore%2C%20.ant-root%20%5Bclass*%3D%22ant-%22%5D%20%3A%3Abefore%2C%20.ant-root%20%5Bclass%5E%3D%22ant-%22%5D%20%3A%3Aafter%2C%20.ant-root%20%5Bclass*%3D%22ant-%22%5D%20%3A%3Aafter%20%7Bbox-sizing%3A%20border-box%7D%0A.ant-root%2C%20.ant-root%20%7Bwidth%3A%20100%25%3B%20height%3A%20100%25%7D%0A.ant-root%20*%2C%20.ant-root%20%3A%3Abefore%2C%20.ant-root%20%3A%3Aafter%20%7Bbox-sizing%3A%20border-box%7D%0A.ant-root%20%7Btext-size-adjust%3A%20100%25%3B%20-webkit-tap-highlight-color%3A%20rgba(0%2C%200%2C%200%2C%200)%3B%20font-family%3A%20-apple-system%2C%20BlinkMacSystemFont%2C%20%22Segoe%20UI%22%2C%20Roboto%2C%20%22Helvetica%20Neue%22%2C%20Arial%2C%20%22Noto%20Sans%22%2C%20sans-serif%2C%20%22Apple%20Color%20Emoji%22%2C%20%22Segoe%20UI%20Emoji%22%2C%20%22Segoe%20UI%20Symbol%22%2C%20%22Noto%20Color%20Emoji%22%3B%20line-height%3A%201.66667%3B%20color%3A%20rgb(89%2C%2089%2C%2089)%3B%20font-variant-ligatures%3A%20normal%3B%20font-variant-numeric%3A%20tabular-nums%3B%20font-variant-east-asian%3A%20normal%3B%20font-variant-caps%3A%20normal%3B%20font-variant-alternates%3A%20normal%3B%20background-color%3A%20rgb(255%2C%20255%2C%20255)%3B%20margin-top%3A%200px%3B%20margin-right%3A%200px%3B%20margin-bottom%3A%200px%3B%20margin-left%3A%200px%3B%20font-size%3A%2012px%3B%20--antd-wave-shadow-color%3A%20%231890ff%3B%20--scroll-bar%3A%200%7D%0A.ant-root%20.aui-invisible-scrollbars%20%7B%7D%0A.css-12ebr42-AWidget%20%7Bheight%3A%20100%25%7D%0A.css-2p9ued-WidgetLoadingOverlay%20%7Bheight%3A%20100%25%3B%20position%3A%20relative%7D%0A.css-1b1raxz-DefaultWidgetLoadingOverlay%20%7Bdisplay%3A%20flex%3B%20height%3A%20100%25%3B%20-webkit-box-pack%3A%20center%3B%20justify-content%3A%20center%3B%20position%3A%20absolute%3B%20width%3A%20100%25%3B%20-webkit-box-align%3A%20center%3B%20align-items%3A%20center%3B%20pointer-events%3A%20none%3B%20z-index%3A%202%7D%0A.css-34a2ml-DefaultWidgetLoadingOverlay%20%7Bbackground-image%3A%20initial%3B%20background-position-x%3A%20initial%3B%20background-position-y%3A%20initial%3B%20background-size%3A%20initial%3B%20background-repeat-x%3A%20initial%3B%20background-repeat-y%3A%20initial%3B%20background-attachment%3A%20initial%3B%20background-origin%3A%20initial%3B%20background-clip%3A%20initial%3B%20background-color%3A%20transparent%3B%20width%3A%20calc(100%25%20-%204px)%3B%20height%3A%20calc(100%25%20-%204px)%7D%0A.css-1hwl8p1-Table%20%7Bpadding-bottom%3A%202px%3B%20padding-right%3A%202px%3B%20height%3A%20100%25%7D%0A.css-14ejcn0-Table%20%7Bheight%3A%20calc(100%25%20-%2030px)%3B%20outline-color%3A%20initial%3B%20outline-style%3A%20none%3B%20outline-width%3A%20initial%3B%20position%3A%20relative%7D%0A.css-1rxpjm0-ColumnResizeHint%20%7Bdisplay%3A%20none%3B%20position%3A%20absolute%3B%20z-index%3A%201%7D%0A.css-walxhl-ColumnResizeHint%20%7Bheight%3A%2028px%3B%20background-color%3A%20rgb(24%2C%20144%2C%20255)%3B%20width%3A%205px%7D%0A.css-1uww2vi-Table%20%7Bheight%3A%2030px%3B%20text-align%3A%20right%3B%20padding-right%3A%2025px%7D%0A.css-cjaqq6-Table%20%7Bborder-collapse%3A%20collapse%3B%20height%3A%2028px%3B%20width%3A%20240px%7D%0A.css-17cmzye%20%7Bheight%3A%2028px%3B%20width%3A%20240px%7D%0A.css-1q24z4%20%7Bcursor%3A%20cell%3B%20height%3A%2028px%3B%20overflow-x%3A%20hidden%3B%20overflow-y%3A%20hidden%3B%20position%3A%20relative%3B%20width%3A%20240px%3B%20border-right-width%3A%202px%3B%20border-right-style%3A%20solid%3B%20border-right-color%3A%20rgb(233%2C%20233%2C%20233)%7D%0A.css-1hol363-ResizableCell%20%7Bdisplay%3A%20flex%3B%20flex-direction%3A%20column%3B%20position%3A%20absolute%3B%20top%3A%200px%3B%20left%3A%200px%3B%20height%3A%2028px%3B%20width%3A%20120px%7D%0A.css-xxcrt1-ResizableCell%20%7Bbackground-image%3A%20initial%3B%20background-position-x%3A%20initial%3B%20background-position-y%3A%20initial%3B%20background-size%3A%20initial%3B%20background-repeat-x%3A%20initial%3B%20background-repeat-y%3A%20initial%3B%20background-attachment%3A%20initial%3B%20background-origin%3A%20initial%3B%20background-clip%3A%20initial%3B%20background-color%3A%20transparent%3B%20cursor%3A%20col-resize%3B%20height%3A%20100%25%3B%20position%3A%20absolute%3B%20right%3A%200px%3B%20width%3A%205px%3B%20z-index%3A%201%7D%0A.css-fpuq48-ResizableCell%20%7Bdisplay%3A%20flex%3B%20flex-direction%3A%20column%3B%20position%3A%20absolute%3B%20top%3A%200px%3B%20left%3A%20120px%3B%20height%3A%2028px%3B%20width%3A%20120px%7D%0A.css-b6akq2%20%7Bcursor%3A%20cell%3B%20height%3A%20112px%3B%20overflow-x%3A%20hidden%3B%20overflow-y%3A%20hidden%3B%20position%3A%20relative%3B%20width%3A%20240px%3B%20border-top-width%3A%202px%3B%20border-top-style%3A%20solid%3B%20border-top-color%3A%20rgb(233%2C%20233%2C%20233)%3B%20border-right-width%3A%202px%3B%20border-right-style%3A%20solid%3B%20border-right-color%3A%20rgb(233%2C%20233%2C%20233)%7D%0A.css-1farq9y-Table%20%7Bwidth%3A%201068px%3B%20border-collapse%3A%20collapse%7D%0A.css-1p13kwu%20%7Bheight%3A%2028px%3B%20width%3A%201050px%3B%20overflow-x%3A%20auto%3B%20overflow-y%3A%20hidden%7D%0A.css-99ih7p%20%7Bcursor%3A%20cell%3B%20height%3A%2028px%3B%20overflow-x%3A%20hidden%3B%20overflow-y%3A%20hidden%3B%20position%3A%20relative%3B%20width%3A%20240px%7D%0A.css-l17vxh%20%7Bcursor%3A%20cell%3B%20height%3A%20112px%3B%20overflow-x%3A%20hidden%3B%20overflow-y%3A%20hidden%3B%20position%3A%20relative%3B%20width%3A%20240px%3B%20border-top-width%3A%202px%3B%20border-top-style%3A%20solid%3B%20border-top-color%3A%20rgb(233%2C%20233%2C%20233)%7D%0A.css-1l56fnt-ColumnResizeHint%20%7Bdisplay%3A%20none%3B%20float%3A%20right%3B%20height%3A%20225px%3B%20background-color%3A%20rgb(24%2C%20144%2C%20255)%3B%20opacity%3A%200.4%3B%20width%3A%202px%7D%0A.css-1tcextf-Table%20%7Bdisplay%3A%20flex%3B%20height%3A%20253px%7D%0A.css-s2xkvr%20%7Bheight%3A%20225px%3B%20width%3A%20240px%3B%20overflow-x%3A%20hidden%3B%20overflow-y%3A%20auto%7D%0A.css-4sgn7n%20%7Bheight%3A%20225px%3B%20width%3A%201068px%3B%20overflow-x%3A%20auto%3B%20overflow-y%3A%20auto%7D%0A*%20%7B-ms-overflow-style%3A%20none%3B%20scrollbar-width%3A%20none%7D%0A*%3A%3A-webkit-scrollbar%20%7Bdisplay%3A%20none%7D%0A.atoti-hidden-in-snapshot%20%7Bdisplay%3A%20none%7D%3C%2Fstyle%3E%3Cdiv%20xmlns%3D%22http%3A%2F%2Fwww.w3.org%2F1999%2Fxhtml%22%20style%3D%22height%3A%20285px%3B%20width%3A%201310px%3B%22%3E%3Cdiv%20class%3D%22ant-root%20css-0%22%3E%3Cdiv%20class%3D%22ant-dropdown-trigger%20css-12ebr42-AWidget%22%3E%3Cdiv%20class%3D%22css-2p9ued-WidgetLoadingOverlay%22%3E%3Cdiv%20class%3D%22css-1b1raxz-DefaultWidgetLoadingOverlay%22%3E%3Cdiv%20class%3D%22css-34a2ml-DefaultWidgetLoadingOverlay%22%3E%3C%2Fdiv%3E%3C%2Fdiv%3E%3Cdiv%20class%3D%22css-1hwl8p1-Table%22%3E%3Cdiv%20tabindex%3D%220%22%20class%3D%22css-14ejcn0-Table%22%3E%3Cdiv%20class%3D%22css-1rxpjm0-ColumnResizeHint%22%3E%3Cdiv%20class%3D%22css-walxhl-ColumnResizeHint%22%3E%3C%2Fdiv%3E%3Cdiv%20class%3D%22css-1l56fnt-ColumnResizeHint%22%3E%3C%2Fdiv%3E%3C%2Fdiv%3E%3Cdiv%20class%3D%22css-1tcextf-Table%22%3E%3Cdiv%20class%3D%22css-cjaqq6-Table%22%3E%3Cdiv%20class%3D%22%20css-17cmzye%22%3E%3Cdiv%20class%3D%22css-1q24z4%22%3E%3Cdiv%20class%3D%22css-1hol363-ResizableCell%22%3E%3Cdiv%20class%3D%22aui-table-cell%22%20style%3D%22height%3A%2028px%3B%20left%3A%200px%3B%20top%3A%200px%3B%20width%3A%20115px%3B%20text-align%3A%20left%3B%20font-size%3A%2012px%3B%20padding%3A%204px%204px%203px%3B%20overflow%3A%20hidden%3B%20position%3A%20absolute%3B%20white-space%3A%20nowrap%3B%20text-overflow%3A%20ellipsis%3B%20font-weight%3A%20600%3B%20display%3A%20flex%3B%20align-items%3A%20center%3B%22%3E%3Cspan%3EAsOfDate%3C%2Fspan%3E%3C%2Fdiv%3E%3Cdiv%20class%3D%22css-xxcrt1-ResizableCell%22%3E%3C%2Fdiv%3E%3C%2Fdiv%3E%3Cdiv%20class%3D%22css-fpuq48-ResizableCell%22%3E%3Cdiv%20class%3D%22aui-table-cell%22%20style%3D%22height%3A%2028px%3B%20left%3A%200px%3B%20top%3A%200px%3B%20width%3A%20115px%3B%20text-align%3A%20left%3B%20font-size%3A%2012px%3B%20padding%3A%204px%204px%203px%3B%20overflow%3A%20hidden%3B%20position%3A%20absolute%3B%20white-space%3A%20nowrap%3B%20text-overflow%3A%20ellipsis%3B%20font-weight%3A%20600%3B%20display%3A%20flex%3B%20align-items%3A%20center%3B%22%3E%3Cspan%3ERiskFactor%3C%2Fspan%3E%3C%2Fdiv%3E%3Cdiv%20class%3D%22css-xxcrt1-ResizableCell%22%3E%3C%2Fdiv%3E%3C%2Fdiv%3E%3C%2Fdiv%3E%3C%2Fdiv%3E%3Cdiv%20class%3D%22aui-invisible-scrollbars%20css-s2xkvr%22%3E%3Cdiv%20class%3D%22css-b6akq2%22%3E%3Cdiv%20style%3D%22display%3A%20flex%3B%20align-items%3A%20center%3B%20height%3A%2028px%3B%20left%3A%200px%3B%20top%3A%200px%3B%20width%3A%20120px%3B%20text-align%3A%20left%3B%20font-size%3A%2012px%3B%20padding%3A%204px%204px%203px%3B%20overflow%3A%20hidden%3B%20position%3A%20absolute%3B%20white-space%3A%20nowrap%3B%20text-overflow%3A%20ellipsis%3B%20font-weight%3A%20600%3B%22%3E%3Cspan%20style%3D%22text-overflow%3A%20ellipsis%3B%20overflow%3A%20hidden%3B%20white-space%3A%20nowrap%3B%20max-width%3A%20calc((100%25%20-%200px)%20-%200px)%3B%22%3E2020-07-09%3C%2Fspan%3E%3C%2Fdiv%3E%3Cdiv%20style%3D%22display%3A%20flex%3B%20align-items%3A%20center%3B%20height%3A%2028px%3B%20left%3A%20120px%3B%20top%3A%200px%3B%20width%3A%20120px%3B%20text-align%3A%20left%3B%20font-size%3A%2012px%3B%20padding%3A%204px%204px%203px%3B%20overflow%3A%20hidden%3B%20position%3A%20absolute%3B%20white-space%3A%20nowrap%3B%20text-overflow%3A%20ellipsis%3B%20border-right%3A%202px%20solid%20rgb(233%2C%20233%2C%20233)%3B%20background-color%3A%20transparent%3B%22%3E%3Cspan%20style%3D%22text-overflow%3A%20ellipsis%3B%20overflow%3A%20hidden%3B%20white-space%3A%20nowrap%3B%20max-width%3A%20calc((100%25%20-%200px)%20-%200px)%3B%22%3E%3C%2Fspan%3E%3C%2Fdiv%3E%3Cdiv%20style%3D%22display%3A%20none%3B%20align-items%3A%20center%3B%20height%3A%2028px%3B%20left%3A%200px%3B%20top%3A%2028px%3B%20width%3A%20120px%3B%20text-align%3A%20left%3B%20font-size%3A%2012px%3B%20padding%3A%204px%204px%203px%3B%20overflow%3A%20hidden%3B%20position%3A%20absolute%3B%20white-space%3A%20nowrap%3B%20text-overflow%3A%20ellipsis%3B%20font-weight%3A%20600%3B%22%3E%3Cspan%20style%3D%22text-overflow%3A%20ellipsis%3B%20overflow%3A%20hidden%3B%20white-space%3A%20nowrap%3B%20max-width%3A%20calc((100%25%20-%200px)%20-%200px)%3B%22%3E2020-07-09%3C%2Fspan%3E%3C%2Fdiv%3E%3Cdiv%20style%3D%22display%3A%20flex%3B%20align-items%3A%20center%3B%20height%3A%2028px%3B%20left%3A%20120px%3B%20top%3A%2028px%3B%20width%3A%20120px%3B%20text-align%3A%20left%3B%20font-size%3A%2012px%3B%20padding%3A%204px%204px%203px%3B%20overflow%3A%20hidden%3B%20position%3A%20absolute%3B%20white-space%3A%20nowrap%3B%20text-overflow%3A%20ellipsis%3B%20border-right%3A%202px%20solid%20rgb(233%2C%20233%2C%20233)%3B%20background-color%3A%20rgb(250%2C%20250%2C%20250)%3B%22%3E%3Cspan%20style%3D%22text-overflow%3A%20ellipsis%3B%20overflow%3A%20hidden%3B%20white-space%3A%20nowrap%3B%20max-width%3A%20calc((100%25%20-%200px)%20-%200px)%3B%22%3EAAPL%3C%2Fspan%3E%3C%2Fdiv%3E%3Cdiv%20style%3D%22display%3A%20none%3B%20align-items%3A%20center%3B%20height%3A%2028px%3B%20left%3A%200px%3B%20top%3A%2056px%3B%20width%3A%20120px%3B%20text-align%3A%20left%3B%20font-size%3A%2012px%3B%20padding%3A%204px%204px%203px%3B%20overflow%3A%20hidden%3B%20position%3A%20absolute%3B%20white-space%3A%20nowrap%3B%20text-overflow%3A%20ellipsis%3B%20font-weight%3A%20600%3B%22%3E%3Cspan%20style%3D%22text-overflow%3A%20ellipsis%3B%20overflow%3A%20hidden%3B%20white-space%3A%20nowrap%3B%20max-width%3A%20calc((100%25%20-%200px)%20-%200px)%3B%22%3E2020-07-09%3C%2Fspan%3E%3C%2Fdiv%3E%3Cdiv%20style%3D%22display%3A%20flex%3B%20align-items%3A%20center%3B%20height%3A%2028px%3B%20left%3A%20120px%3B%20top%3A%2056px%3B%20width%3A%20120px%3B%20text-align%3A%20left%3B%20font-size%3A%2012px%3B%20padding%3A%204px%204px%203px%3B%20overflow%3A%20hidden%3B%20position%3A%20absolute%3B%20white-space%3A%20nowrap%3B%20text-overflow%3A%20ellipsis%3B%20border-right%3A%202px%20solid%20rgb(233%2C%20233%2C%20233)%3B%20background-color%3A%20transparent%3B%22%3E%3Cspan%20style%3D%22text-overflow%3A%20ellipsis%3B%20overflow%3A%20hidden%3B%20white-space%3A%20nowrap%3B%20max-width%3A%20calc((100%25%20-%200px)%20-%200px)%3B%22%3EMSFT%3C%2Fspan%3E%3C%2Fdiv%3E%3Cdiv%20style%3D%22display%3A%20none%3B%20align-items%3A%20center%3B%20height%3A%2028px%3B%20left%3A%200px%3B%20top%3A%2084px%3B%20width%3A%20120px%3B%20text-align%3A%20left%3B%20font-size%3A%2012px%3B%20padding%3A%204px%204px%203px%3B%20overflow%3A%20hidden%3B%20position%3A%20absolute%3B%20white-space%3A%20nowrap%3B%20text-overflow%3A%20ellipsis%3B%20font-weight%3A%20600%3B%22%3E%3Cspan%20style%3D%22text-overflow%3A%20ellipsis%3B%20overflow%3A%20hidden%3B%20white-space%3A%20nowrap%3B%20max-width%3A%20calc((100%25%20-%200px)%20-%200px)%3B%22%3E2020-07-09%3C%2Fspan%3E%3C%2Fdiv%3E%3Cdiv%20style%3D%22display%3A%20flex%3B%20align-items%3A%20center%3B%20height%3A%2028px%3B%20left%3A%20120px%3B%20top%3A%2084px%3B%20width%3A%20120px%3B%20text-align%3A%20left%3B%20font-size%3A%2012px%3B%20padding%3A%204px%204px%203px%3B%20overflow%3A%20hidden%3B%20position%3A%20absolute%3B%20white-space%3A%20nowrap%3B%20text-overflow%3A%20ellipsis%3B%20border-right%3A%202px%20solid%20rgb(233%2C%20233%2C%20233)%3B%20background-color%3A%20rgb(250%2C%20250%2C%20250)%3B%22%3E%3Cspan%20style%3D%22text-overflow%3A%20ellipsis%3B%20overflow%3A%20hidden%3B%20white-space%3A%20nowrap%3B%20max-width%3A%20calc((100%25%20-%200px)%20-%200px)%3B%22%3EOXY%3C%2Fspan%3E%3C%2Fdiv%3E%3C%2Fdiv%3E%3C%2Fdiv%3E%3C%2Fdiv%3E%3Cdiv%20class%3D%22css-1farq9y-Table%22%3E%3Cdiv%20class%3D%22aui-invisible-scrollbars%20css-1p13kwu%22%3E%3Cdiv%20class%3D%22css-99ih7p%22%3E%3Cdiv%20class%3D%22css-1hol363-ResizableCell%22%3E%3Cdiv%20style%3D%22display%3A%20flex%3B%20align-items%3A%20center%3B%20height%3A%2028px%3B%20left%3A%200px%3B%20top%3A%200px%3B%20width%3A%20115px%3B%20text-align%3A%20left%3B%20font-size%3A%2012px%3B%20padding%3A%204px%204px%203px%3B%20overflow%3A%20hidden%3B%20position%3A%20absolute%3B%20white-space%3A%20nowrap%3B%20text-overflow%3A%20ellipsis%3B%20font-weight%3A%20600%3B%22%3E%3Cspan%20style%3D%22text-overflow%3A%20ellipsis%3B%20overflow%3A%20hidden%3B%20white-space%3A%20nowrap%3B%20max-width%3A%20calc((100%25%20-%200px)%20-%200px)%3B%22%3EMarketValue.SUM%3C%2Fspan%3E%3C%2Fdiv%3E%3Cdiv%20class%3D%22css-xxcrt1-ResizableCell%22%3E%3C%2Fdiv%3E%3C%2Fdiv%3E%3Cdiv%20class%3D%22css-fpuq48-ResizableCell%22%3E%3Cdiv%20style%3D%22display%3A%20flex%3B%20align-items%3A%20center%3B%20height%3A%2028px%3B%20left%3A%200px%3B%20top%3A%200px%3B%20width%3A%20115px%3B%20text-align%3A%20left%3B%20font-size%3A%2012px%3B%20padding%3A%204px%204px%203px%3B%20overflow%3A%20hidden%3B%20position%3A%20absolute%3B%20white-space%3A%20nowrap%3B%20text-overflow%3A%20ellipsis%3B%20font-weight%3A%20600%3B%22%3E%3Cspan%20style%3D%22text-overflow%3A%20ellipsis%3B%20overflow%3A%20hidden%3B%20white-space%3A%20nowrap%3B%20max-width%3A%20calc((100%25%20-%200px)%20-%200px)%3B%22%3EDelta.SUM%3C%2Fspan%3E%3C%2Fdiv%3E%3Cdiv%20class%3D%22css-xxcrt1-ResizableCell%22%3E%3C%2Fdiv%3E%3C%2Fdiv%3E%3C%2Fdiv%3E%3C%2Fdiv%3E%3Cdiv%20class%3D%22%20css-4sgn7n%22%3E%3Cdiv%20class%3D%22css-l17vxh%22%3E%3Cdiv%20class%3D%22aui-table-cell%22%20style%3D%22height%3A%2028px%3B%20left%3A%200px%3B%20top%3A%200px%3B%20width%3A%20120px%3B%20text-align%3A%20right%3B%20font-size%3A%2012px%3B%20padding%3A%204px%204px%203px%3B%20overflow%3A%20hidden%3B%20position%3A%20absolute%3B%20white-space%3A%20nowrap%3B%20text-overflow%3A%20ellipsis%3B%20border-right%3A%201px%20solid%20rgb(233%2C%20233%2C%20233)%3B%20background-color%3A%20transparent%3B%22%3E2%2C110.28%3C%2Fdiv%3E%3Cdiv%20class%3D%22aui-table-cell%22%20style%3D%22height%3A%2028px%3B%20left%3A%20120px%3B%20top%3A%200px%3B%20width%3A%20120px%3B%20text-align%3A%20right%3B%20font-size%3A%2012px%3B%20padding%3A%204px%204px%203px%3B%20overflow%3A%20hidden%3B%20position%3A%20absolute%3B%20white-space%3A%20nowrap%3B%20text-overflow%3A%20ellipsis%3B%20border-right%3A%201px%20solid%20rgb(233%2C%20233%2C%20233)%3B%20background-color%3A%20transparent%3B%22%3E34%2C450.16%3C%2Fdiv%3E%3Cdiv%20class%3D%22aui-table-cell%22%20style%3D%22height%3A%2028px%3B%20left%3A%200px%3B%20top%3A%2028px%3B%20width%3A%20120px%3B%20text-align%3A%20right%3B%20font-size%3A%2012px%3B%20padding%3A%204px%204px%203px%3B%20overflow%3A%20hidden%3B%20position%3A%20absolute%3B%20white-space%3A%20nowrap%3B%20text-overflow%3A%20ellipsis%3B%20border-right%3A%201px%20solid%20rgb(233%2C%20233%2C%20233)%3B%20background-color%3A%20rgb(250%2C%20250%2C%20250)%3B%22%3E1%2C508.95%3C%2Fdiv%3E%3Cdiv%20class%3D%22aui-table-cell%22%20style%3D%22height%3A%2028px%3B%20left%3A%20120px%3B%20top%3A%2028px%3B%20width%3A%20120px%3B%20text-align%3A%20right%3B%20font-size%3A%2012px%3B%20padding%3A%204px%204px%203px%3B%20overflow%3A%20hidden%3B%20position%3A%20absolute%3B%20white-space%3A%20nowrap%3B%20text-overflow%3A%20ellipsis%3B%20border-right%3A%201px%20solid%20rgb(233%2C%20233%2C%20233)%3B%20background-color%3A%20rgb(250%2C%20250%2C%20250)%3B%22%3E-154.09%3C%2Fdiv%3E%3Cdiv%20class%3D%22aui-table-cell%22%20style%3D%22height%3A%2028px%3B%20left%3A%200px%3B%20top%3A%2056px%3B%20width%3A%20120px%3B%20text-align%3A%20right%3B%20font-size%3A%2012px%3B%20padding%3A%204px%204px%203px%3B%20overflow%3A%20hidden%3B%20position%3A%20absolute%3B%20white-space%3A%20nowrap%3B%20text-overflow%3A%20ellipsis%3B%20border-right%3A%201px%20solid%20rgb(233%2C%20233%2C%20233)%3B%20background-color%3A%20transparent%3B%22%3E591.64%3C%2Fdiv%3E%3Cdiv%20class%3D%22aui-table-cell%22%20style%3D%22height%3A%2028px%3B%20left%3A%20120px%3B%20top%3A%2056px%3B%20width%3A%20120px%3B%20text-align%3A%20right%3B%20font-size%3A%2012px%3B%20padding%3A%204px%204px%203px%3B%20overflow%3A%20hidden%3B%20position%3A%20absolute%3B%20white-space%3A%20nowrap%3B%20text-overflow%3A%20ellipsis%3B%20border-right%3A%201px%20solid%20rgb(233%2C%20233%2C%20233)%3B%20background-color%3A%20transparent%3B%22%3E34%2C723.31%3C%2Fdiv%3E%3Cdiv%20class%3D%22aui-table-cell%22%20style%3D%22height%3A%2028px%3B%20left%3A%200px%3B%20top%3A%2084px%3B%20width%3A%20120px%3B%20text-align%3A%20right%3B%20font-size%3A%2012px%3B%20padding%3A%204px%204px%203px%3B%20overflow%3A%20hidden%3B%20position%3A%20absolute%3B%20white-space%3A%20nowrap%3B%20text-overflow%3A%20ellipsis%3B%20border-right%3A%201px%20solid%20rgb(233%2C%20233%2C%20233)%3B%20background-color%3A%20rgb(250%2C%20250%2C%20250)%3B%22%3E9.70%3C%2Fdiv%3E%3Cdiv%20class%3D%22aui-table-cell%22%20style%3D%22height%3A%2028px%3B%20left%3A%20120px%3B%20top%3A%2084px%3B%20width%3A%20120px%3B%20text-align%3A%20right%3B%20font-size%3A%2012px%3B%20padding%3A%204px%204px%203px%3B%20overflow%3A%20hidden%3B%20position%3A%20absolute%3B%20white-space%3A%20nowrap%3B%20text-overflow%3A%20ellipsis%3B%20border-right%3A%201px%20solid%20rgb(233%2C%20233%2C%20233)%3B%20background-color%3A%20rgb(250%2C%20250%2C%20250)%3B%22%3E-119.07%3C%2Fdiv%3E%3C%2Fdiv%3E%3C%2Fdiv%3E%3C%2Fdiv%3E%3C%2Fdiv%3E%3C%2Fdiv%3E%3Cdiv%20class%3D%22css-1uww2vi-Table%22%3E%3C%2Fdiv%3E%3C%2Fdiv%3E%3C%2Fdiv%3E%3C%2Fdiv%3E%3C%2Fdiv%3E%3C%2Fdiv%3E%3C%2FforeignObject%3E%3C%2Fsvg%3E\">"
      ],
      "text/plain": [
       "Open the notebook in JupyterLab with the Atoti extension enabled to build this widget."
      ]
     },
     "metadata": {},
     "output_type": "display_data"
    }
   ],
   "source": [
    "session.visualize(\"Risk data after uploading 8th of July\")"
   ]
  },
  {
   "cell_type": "markdown",
   "metadata": {},
   "source": [
    "### Real-time data loading: Modifying an existing file\n",
    "\n",
    "We will modify the previously downloaded risk_data_previous_cob.csv to include the previous day risk data."
   ]
  },
  {
   "cell_type": "code",
   "execution_count": 18,
   "metadata": {},
   "outputs": [
    {
     "data": {
      "text/html": [
       "<div>\n",
       "<style scoped>\n",
       "    .dataframe tbody tr th:only-of-type {\n",
       "        vertical-align: middle;\n",
       "    }\n",
       "\n",
       "    .dataframe tbody tr th {\n",
       "        vertical-align: top;\n",
       "    }\n",
       "\n",
       "    .dataframe thead th {\n",
       "        text-align: right;\n",
       "    }\n",
       "</style>\n",
       "<table border=\"1\" class=\"dataframe\">\n",
       "  <thead>\n",
       "    <tr style=\"text-align: right;\">\n",
       "      <th></th>\n",
       "      <th>AsOfDate</th>\n",
       "      <th>TradeId</th>\n",
       "      <th>RiskFactor</th>\n",
       "      <th>MarketValue</th>\n",
       "      <th>Delta</th>\n",
       "    </tr>\n",
       "  </thead>\n",
       "  <tbody>\n",
       "    <tr>\n",
       "      <th>0</th>\n",
       "      <td>2020-07-07</td>\n",
       "      <td>Trd_0</td>\n",
       "      <td>MSFT</td>\n",
       "      <td>99.049795</td>\n",
       "      <td>6125.737500</td>\n",
       "    </tr>\n",
       "    <tr>\n",
       "      <th>1</th>\n",
       "      <td>2020-07-07</td>\n",
       "      <td>Trd_1</td>\n",
       "      <td>OXY</td>\n",
       "      <td>9.086285</td>\n",
       "      <td>198.409124</td>\n",
       "    </tr>\n",
       "    <tr>\n",
       "      <th>2</th>\n",
       "      <td>2020-07-07</td>\n",
       "      <td>Trd_2</td>\n",
       "      <td>AAPL</td>\n",
       "      <td>78.826585</td>\n",
       "      <td>16132.143066</td>\n",
       "    </tr>\n",
       "    <tr>\n",
       "      <th>3</th>\n",
       "      <td>2020-07-07</td>\n",
       "      <td>Trd_3</td>\n",
       "      <td>MSFT</td>\n",
       "      <td>99.124606</td>\n",
       "      <td>6216.607731</td>\n",
       "    </tr>\n",
       "    <tr>\n",
       "      <th>4</th>\n",
       "      <td>2020-07-07</td>\n",
       "      <td>Trd_4</td>\n",
       "      <td>OXY</td>\n",
       "      <td>0.780461</td>\n",
       "      <td>-349.011094</td>\n",
       "    </tr>\n",
       "  </tbody>\n",
       "</table>\n",
       "</div>"
      ],
      "text/plain": [
       "    AsOfDate TradeId RiskFactor  MarketValue         Delta\n",
       "0 2020-07-07   Trd_0       MSFT    99.049795   6125.737500\n",
       "1 2020-07-07   Trd_1        OXY     9.086285    198.409124\n",
       "2 2020-07-07   Trd_2       AAPL    78.826585  16132.143066\n",
       "3 2020-07-07   Trd_3       MSFT    99.124606   6216.607731\n",
       "4 2020-07-07   Trd_4        OXY     0.780461   -349.011094"
      ]
     },
     "execution_count": 18,
     "metadata": {},
     "output_type": "execute_result"
    }
   ],
   "source": [
    "previous_cob_df = pd.read_csv(\"./dynamic-input-files/risk_data_previous_cob.csv\")\n",
    "previous_cob_df[\"AsOfDate\"] = pd.DatetimeIndex(\n",
    "    previous_cob_df[\"AsOfDate\"]\n",
    ") + pd.DateOffset(-1)\n",
    "previous_cob_df.head()"
   ]
  },
  {
   "cell_type": "markdown",
   "metadata": {},
   "source": [
    "The below will append the updated data back to the same CSV."
   ]
  },
  {
   "cell_type": "code",
   "execution_count": 19,
   "metadata": {},
   "outputs": [],
   "source": [
    "previous_cob_df.to_csv(\n",
    "    \"./dynamic-input-files/risk_data_previous_cob.csv\",\n",
    "    index=False,\n",
    "    mode=\"a\",\n",
    "    header=False,\n",
    ")"
   ]
  },
  {
   "cell_type": "code",
   "execution_count": 20,
   "metadata": {
    "atoti": {
     "height": 406,
     "widget": {
      "mapping": {
       "columns": [
        "ALL_MEASURES"
       ],
       "measures": [
        "[Measures].[MarketValue.SUM]",
        "[Measures].[Delta.SUM]"
       ],
       "rows": [
        "[Sensitivities].[AsOfDate].[AsOfDate]",
        "[Sensitivities].[RiskFactor].[RiskFactor]"
       ]
      },
      "name": "Risk data after uploading 8th of July",
      "query": {
       "context": {
        "queriesResultLimit.intermediateSize": 1000000,
        "queriesResultLimit.transientSize": 10000000
       },
       "mdx": "SELECT NON EMPTY Crossjoin([Sensitivities].[AsOfDate].[AsOfDate].Members, Hierarchize(Descendants({[Sensitivities].[RiskFactor].[AllMember]}, 1, SELF_AND_BEFORE))) ON ROWS, NON EMPTY {[Measures].[MarketValue.SUM], [Measures].[Delta.SUM]} ON COLUMNS FROM [Sensitivities] CELL PROPERTIES VALUE, FORMATTED_VALUE, BACK_COLOR, FORE_COLOR, FONT_FLAGS",
       "updateMode": "once"
      },
      "serverKey": "default",
      "widgetKey": "pivot-table"
     }
    },
    "tags": []
   },
   "outputs": [
    {
     "data": {
      "application/vnd.atoti.widget.v0+json": {
       "name": "Risk data after data file modification",
       "sessionId": "1685500705_DPWWLG",
       "sessionLocation": {
        "https": false,
        "port": 54183
       },
       "widgetCreationCode": "session.visualize()"
      },
      "text/html": [
       "<img src=\"data:image/svg+xml;charset=utf8,%3C%3Fxml%20version%3D%221.0%22%20standalone%3D%22no%22%3F%3E%3Csvg%20xmlns%3D%22http%3A%2F%2Fwww.w3.org%2F2000%2Fsvg%22%20height%3D%22398%22%20width%3D%221310%22%3E%3CforeignObject%20width%3D%22100%25%22%20height%3D%22100%25%22%20x%3D%220%22%20y%3D%220%22%3E%3Cstyle%20xmlns%3D%22http%3A%2F%2Fwww.w3.org%2F1999%2Fxhtml%22%20type%3D%22text%2Fcss%22%3E*%2C%20%3A%3Abefore%2C%20%3A%3Aafter%20%7Bbox-sizing%3A%20unset%7D%0A.ant-root%20%5Bclass%5E%3D%22ant-%22%5D%2C%20.ant-root%20%5Bclass*%3D%22ant-%22%5D%2C%20.ant-root%20%5Bclass%5E%3D%22ant-%22%5D%20*%2C%20.ant-root%20%5Bclass*%3D%22ant-%22%5D%20*%2C%20.ant-root%20%5Bclass%5E%3D%22ant-%22%5D%20%3A%3Abefore%2C%20.ant-root%20%5Bclass*%3D%22ant-%22%5D%20%3A%3Abefore%2C%20.ant-root%20%5Bclass%5E%3D%22ant-%22%5D%20%3A%3Aafter%2C%20.ant-root%20%5Bclass*%3D%22ant-%22%5D%20%3A%3Aafter%20%7Bbox-sizing%3A%20border-box%7D%0A.ant-root%2C%20.ant-root%20%7Bwidth%3A%20100%25%3B%20height%3A%20100%25%7D%0A.ant-root%20*%2C%20.ant-root%20%3A%3Abefore%2C%20.ant-root%20%3A%3Aafter%20%7Bbox-sizing%3A%20border-box%7D%0A.ant-root%20%7Btext-size-adjust%3A%20100%25%3B%20-webkit-tap-highlight-color%3A%20rgba(0%2C%200%2C%200%2C%200)%3B%20font-family%3A%20-apple-system%2C%20BlinkMacSystemFont%2C%20%22Segoe%20UI%22%2C%20Roboto%2C%20%22Helvetica%20Neue%22%2C%20Arial%2C%20%22Noto%20Sans%22%2C%20sans-serif%2C%20%22Apple%20Color%20Emoji%22%2C%20%22Segoe%20UI%20Emoji%22%2C%20%22Segoe%20UI%20Symbol%22%2C%20%22Noto%20Color%20Emoji%22%3B%20line-height%3A%201.66667%3B%20color%3A%20rgb(89%2C%2089%2C%2089)%3B%20font-variant-ligatures%3A%20normal%3B%20font-variant-numeric%3A%20tabular-nums%3B%20font-variant-east-asian%3A%20normal%3B%20font-variant-caps%3A%20normal%3B%20font-variant-alternates%3A%20normal%3B%20background-color%3A%20rgb(255%2C%20255%2C%20255)%3B%20margin-top%3A%200px%3B%20margin-right%3A%200px%3B%20margin-bottom%3A%200px%3B%20margin-left%3A%200px%3B%20font-size%3A%2012px%3B%20--antd-wave-shadow-color%3A%20%231890ff%3B%20--scroll-bar%3A%200%7D%0A.ant-root%20.aui-invisible-scrollbars%20%7B%7D%0A.css-12ebr42-AWidget%20%7Bheight%3A%20100%25%7D%0A.css-2p9ued-WidgetLoadingOverlay%20%7Bheight%3A%20100%25%3B%20position%3A%20relative%7D%0A.css-1b1raxz-DefaultWidgetLoadingOverlay%20%7Bdisplay%3A%20flex%3B%20height%3A%20100%25%3B%20-webkit-box-pack%3A%20center%3B%20justify-content%3A%20center%3B%20position%3A%20absolute%3B%20width%3A%20100%25%3B%20-webkit-box-align%3A%20center%3B%20align-items%3A%20center%3B%20pointer-events%3A%20none%3B%20z-index%3A%202%7D%0A.css-34a2ml-DefaultWidgetLoadingOverlay%20%7Bbackground-image%3A%20initial%3B%20background-position-x%3A%20initial%3B%20background-position-y%3A%20initial%3B%20background-size%3A%20initial%3B%20background-repeat-x%3A%20initial%3B%20background-repeat-y%3A%20initial%3B%20background-attachment%3A%20initial%3B%20background-origin%3A%20initial%3B%20background-clip%3A%20initial%3B%20background-color%3A%20transparent%3B%20width%3A%20calc(100%25%20-%204px)%3B%20height%3A%20calc(100%25%20-%204px)%7D%0A.css-1hwl8p1-Table%20%7Bpadding-bottom%3A%202px%3B%20padding-right%3A%202px%3B%20height%3A%20100%25%7D%0A.css-14ejcn0-Table%20%7Bheight%3A%20calc(100%25%20-%2030px)%3B%20outline-color%3A%20initial%3B%20outline-style%3A%20none%3B%20outline-width%3A%20initial%3B%20position%3A%20relative%7D%0A.css-1rxpjm0-ColumnResizeHint%20%7Bdisplay%3A%20none%3B%20position%3A%20absolute%3B%20z-index%3A%201%7D%0A.css-walxhl-ColumnResizeHint%20%7Bheight%3A%2028px%3B%20background-color%3A%20rgb(24%2C%20144%2C%20255)%3B%20width%3A%205px%7D%0A.css-1uww2vi-Table%20%7Bheight%3A%2030px%3B%20text-align%3A%20right%3B%20padding-right%3A%2025px%7D%0A.css-cjaqq6-Table%20%7Bborder-collapse%3A%20collapse%3B%20height%3A%2028px%3B%20width%3A%20240px%7D%0A.css-17cmzye%20%7Bheight%3A%2028px%3B%20width%3A%20240px%7D%0A.css-1q24z4%20%7Bcursor%3A%20cell%3B%20height%3A%2028px%3B%20overflow-x%3A%20hidden%3B%20overflow-y%3A%20hidden%3B%20position%3A%20relative%3B%20width%3A%20240px%3B%20border-right-width%3A%202px%3B%20border-right-style%3A%20solid%3B%20border-right-color%3A%20rgb(233%2C%20233%2C%20233)%7D%0A.css-1hol363-ResizableCell%20%7Bdisplay%3A%20flex%3B%20flex-direction%3A%20column%3B%20position%3A%20absolute%3B%20top%3A%200px%3B%20left%3A%200px%3B%20height%3A%2028px%3B%20width%3A%20120px%7D%0A.css-xxcrt1-ResizableCell%20%7Bbackground-image%3A%20initial%3B%20background-position-x%3A%20initial%3B%20background-position-y%3A%20initial%3B%20background-size%3A%20initial%3B%20background-repeat-x%3A%20initial%3B%20background-repeat-y%3A%20initial%3B%20background-attachment%3A%20initial%3B%20background-origin%3A%20initial%3B%20background-clip%3A%20initial%3B%20background-color%3A%20transparent%3B%20cursor%3A%20col-resize%3B%20height%3A%20100%25%3B%20position%3A%20absolute%3B%20right%3A%200px%3B%20width%3A%205px%3B%20z-index%3A%201%7D%0A.css-fpuq48-ResizableCell%20%7Bdisplay%3A%20flex%3B%20flex-direction%3A%20column%3B%20position%3A%20absolute%3B%20top%3A%200px%3B%20left%3A%20120px%3B%20height%3A%2028px%3B%20width%3A%20120px%7D%0A.css-b6akq2%20%7Bcursor%3A%20cell%3B%20height%3A%20112px%3B%20overflow-x%3A%20hidden%3B%20overflow-y%3A%20hidden%3B%20position%3A%20relative%3B%20width%3A%20240px%3B%20border-top-width%3A%202px%3B%20border-top-style%3A%20solid%3B%20border-top-color%3A%20rgb(233%2C%20233%2C%20233)%3B%20border-right-width%3A%202px%3B%20border-right-style%3A%20solid%3B%20border-right-color%3A%20rgb(233%2C%20233%2C%20233)%7D%0A.css-1farq9y-Table%20%7Bwidth%3A%201068px%3B%20border-collapse%3A%20collapse%7D%0A.css-1p13kwu%20%7Bheight%3A%2028px%3B%20width%3A%201050px%3B%20overflow-x%3A%20auto%3B%20overflow-y%3A%20hidden%7D%0A.css-99ih7p%20%7Bcursor%3A%20cell%3B%20height%3A%2028px%3B%20overflow-x%3A%20hidden%3B%20overflow-y%3A%20hidden%3B%20position%3A%20relative%3B%20width%3A%20240px%7D%0A.css-l17vxh%20%7Bcursor%3A%20cell%3B%20height%3A%20112px%3B%20overflow-x%3A%20hidden%3B%20overflow-y%3A%20hidden%3B%20position%3A%20relative%3B%20width%3A%20240px%3B%20border-top-width%3A%202px%3B%20border-top-style%3A%20solid%3B%20border-top-color%3A%20rgb(233%2C%20233%2C%20233)%7D%0A.css-1g9mb02-ColumnResizeHint%20%7Bdisplay%3A%20none%3B%20float%3A%20right%3B%20height%3A%20338px%3B%20background-color%3A%20rgb(24%2C%20144%2C%20255)%3B%20opacity%3A%200.4%3B%20width%3A%202px%7D%0A.css-68tupv-Table%20%7Bdisplay%3A%20flex%3B%20height%3A%20366px%7D%0A.css-rbgq36%20%7Bheight%3A%20338px%3B%20width%3A%20240px%3B%20overflow-x%3A%20hidden%3B%20overflow-y%3A%20auto%7D%0A.css-1p6ieyi%20%7Bheight%3A%20338px%3B%20width%3A%201068px%3B%20overflow-x%3A%20auto%3B%20overflow-y%3A%20auto%7D%0A*%20%7B-ms-overflow-style%3A%20none%3B%20scrollbar-width%3A%20none%7D%0A*%3A%3A-webkit-scrollbar%20%7Bdisplay%3A%20none%7D%0A.atoti-hidden-in-snapshot%20%7Bdisplay%3A%20none%7D%3C%2Fstyle%3E%3Cdiv%20xmlns%3D%22http%3A%2F%2Fwww.w3.org%2F1999%2Fxhtml%22%20style%3D%22height%3A%20398px%3B%20width%3A%201310px%3B%22%3E%3Cdiv%20class%3D%22ant-root%20css-0%22%3E%3Cdiv%20class%3D%22ant-dropdown-trigger%20css-12ebr42-AWidget%22%3E%3Cdiv%20class%3D%22css-2p9ued-WidgetLoadingOverlay%22%3E%3Cdiv%20class%3D%22css-1b1raxz-DefaultWidgetLoadingOverlay%22%3E%3Cdiv%20class%3D%22css-34a2ml-DefaultWidgetLoadingOverlay%22%3E%3C%2Fdiv%3E%3C%2Fdiv%3E%3Cdiv%20class%3D%22css-1hwl8p1-Table%22%3E%3Cdiv%20tabindex%3D%220%22%20class%3D%22css-14ejcn0-Table%22%3E%3Cdiv%20class%3D%22css-1rxpjm0-ColumnResizeHint%22%3E%3Cdiv%20class%3D%22css-walxhl-ColumnResizeHint%22%3E%3C%2Fdiv%3E%3Cdiv%20class%3D%22css-1g9mb02-ColumnResizeHint%22%3E%3C%2Fdiv%3E%3C%2Fdiv%3E%3Cdiv%20class%3D%22css-68tupv-Table%22%3E%3Cdiv%20class%3D%22css-cjaqq6-Table%22%3E%3Cdiv%20class%3D%22%20css-17cmzye%22%3E%3Cdiv%20class%3D%22css-1q24z4%22%3E%3Cdiv%20class%3D%22css-1hol363-ResizableCell%22%3E%3Cdiv%20class%3D%22aui-table-cell%22%20style%3D%22height%3A%2028px%3B%20left%3A%200px%3B%20top%3A%200px%3B%20width%3A%20115px%3B%20text-align%3A%20left%3B%20font-size%3A%2012px%3B%20padding%3A%204px%204px%203px%3B%20overflow%3A%20hidden%3B%20position%3A%20absolute%3B%20white-space%3A%20nowrap%3B%20text-overflow%3A%20ellipsis%3B%20font-weight%3A%20600%3B%20display%3A%20flex%3B%20align-items%3A%20center%3B%22%3E%3Cspan%3EAsOfDate%3C%2Fspan%3E%3C%2Fdiv%3E%3Cdiv%20class%3D%22css-xxcrt1-ResizableCell%22%3E%3C%2Fdiv%3E%3C%2Fdiv%3E%3Cdiv%20class%3D%22css-fpuq48-ResizableCell%22%3E%3Cdiv%20class%3D%22aui-table-cell%22%20style%3D%22height%3A%2028px%3B%20left%3A%200px%3B%20top%3A%200px%3B%20width%3A%20115px%3B%20text-align%3A%20left%3B%20font-size%3A%2012px%3B%20padding%3A%204px%204px%203px%3B%20overflow%3A%20hidden%3B%20position%3A%20absolute%3B%20white-space%3A%20nowrap%3B%20text-overflow%3A%20ellipsis%3B%20font-weight%3A%20600%3B%20display%3A%20flex%3B%20align-items%3A%20center%3B%22%3E%3Cspan%3ERiskFactor%3C%2Fspan%3E%3C%2Fdiv%3E%3Cdiv%20class%3D%22css-xxcrt1-ResizableCell%22%3E%3C%2Fdiv%3E%3C%2Fdiv%3E%3C%2Fdiv%3E%3C%2Fdiv%3E%3Cdiv%20class%3D%22aui-invisible-scrollbars%20css-rbgq36%22%3E%3Cdiv%20class%3D%22css-b6akq2%22%3E%3Cdiv%20style%3D%22display%3A%20flex%3B%20align-items%3A%20center%3B%20height%3A%2028px%3B%20left%3A%200px%3B%20top%3A%200px%3B%20width%3A%20120px%3B%20text-align%3A%20left%3B%20font-size%3A%2012px%3B%20padding%3A%204px%204px%203px%3B%20overflow%3A%20hidden%3B%20position%3A%20absolute%3B%20white-space%3A%20nowrap%3B%20text-overflow%3A%20ellipsis%3B%20font-weight%3A%20600%3B%22%3E%3Cspan%20style%3D%22text-overflow%3A%20ellipsis%3B%20overflow%3A%20hidden%3B%20white-space%3A%20nowrap%3B%20max-width%3A%20calc((100%25%20-%200px)%20-%200px)%3B%22%3E2020-07-09%3C%2Fspan%3E%3C%2Fdiv%3E%3Cdiv%20style%3D%22display%3A%20flex%3B%20align-items%3A%20center%3B%20height%3A%2028px%3B%20left%3A%20120px%3B%20top%3A%200px%3B%20width%3A%20120px%3B%20text-align%3A%20left%3B%20font-size%3A%2012px%3B%20padding%3A%204px%204px%203px%3B%20overflow%3A%20hidden%3B%20position%3A%20absolute%3B%20white-space%3A%20nowrap%3B%20text-overflow%3A%20ellipsis%3B%20border-right%3A%202px%20solid%20rgb(233%2C%20233%2C%20233)%3B%20background-color%3A%20transparent%3B%22%3E%3Cspan%20style%3D%22text-overflow%3A%20ellipsis%3B%20overflow%3A%20hidden%3B%20white-space%3A%20nowrap%3B%20max-width%3A%20calc((100%25%20-%200px)%20-%200px)%3B%22%3E%3C%2Fspan%3E%3C%2Fdiv%3E%3Cdiv%20style%3D%22display%3A%20none%3B%20align-items%3A%20center%3B%20height%3A%2028px%3B%20left%3A%200px%3B%20top%3A%2028px%3B%20width%3A%20120px%3B%20text-align%3A%20left%3B%20font-size%3A%2012px%3B%20padding%3A%204px%204px%203px%3B%20overflow%3A%20hidden%3B%20position%3A%20absolute%3B%20white-space%3A%20nowrap%3B%20text-overflow%3A%20ellipsis%3B%20font-weight%3A%20600%3B%22%3E%3Cspan%20style%3D%22text-overflow%3A%20ellipsis%3B%20overflow%3A%20hidden%3B%20white-space%3A%20nowrap%3B%20max-width%3A%20calc((100%25%20-%200px)%20-%200px)%3B%22%3E2020-07-09%3C%2Fspan%3E%3C%2Fdiv%3E%3Cdiv%20style%3D%22display%3A%20flex%3B%20align-items%3A%20center%3B%20height%3A%2028px%3B%20left%3A%20120px%3B%20top%3A%2028px%3B%20width%3A%20120px%3B%20text-align%3A%20left%3B%20font-size%3A%2012px%3B%20padding%3A%204px%204px%203px%3B%20overflow%3A%20hidden%3B%20position%3A%20absolute%3B%20white-space%3A%20nowrap%3B%20text-overflow%3A%20ellipsis%3B%20border-right%3A%202px%20solid%20rgb(233%2C%20233%2C%20233)%3B%20background-color%3A%20rgb(250%2C%20250%2C%20250)%3B%22%3E%3Cspan%20style%3D%22text-overflow%3A%20ellipsis%3B%20overflow%3A%20hidden%3B%20white-space%3A%20nowrap%3B%20max-width%3A%20calc((100%25%20-%200px)%20-%200px)%3B%22%3EAAPL%3C%2Fspan%3E%3C%2Fdiv%3E%3Cdiv%20style%3D%22display%3A%20none%3B%20align-items%3A%20center%3B%20height%3A%2028px%3B%20left%3A%200px%3B%20top%3A%2056px%3B%20width%3A%20120px%3B%20text-align%3A%20left%3B%20font-size%3A%2012px%3B%20padding%3A%204px%204px%203px%3B%20overflow%3A%20hidden%3B%20position%3A%20absolute%3B%20white-space%3A%20nowrap%3B%20text-overflow%3A%20ellipsis%3B%20font-weight%3A%20600%3B%22%3E%3Cspan%20style%3D%22text-overflow%3A%20ellipsis%3B%20overflow%3A%20hidden%3B%20white-space%3A%20nowrap%3B%20max-width%3A%20calc((100%25%20-%200px)%20-%200px)%3B%22%3E2020-07-09%3C%2Fspan%3E%3C%2Fdiv%3E%3Cdiv%20style%3D%22display%3A%20flex%3B%20align-items%3A%20center%3B%20height%3A%2028px%3B%20left%3A%20120px%3B%20top%3A%2056px%3B%20width%3A%20120px%3B%20text-align%3A%20left%3B%20font-size%3A%2012px%3B%20padding%3A%204px%204px%203px%3B%20overflow%3A%20hidden%3B%20position%3A%20absolute%3B%20white-space%3A%20nowrap%3B%20text-overflow%3A%20ellipsis%3B%20border-right%3A%202px%20solid%20rgb(233%2C%20233%2C%20233)%3B%20background-color%3A%20transparent%3B%22%3E%3Cspan%20style%3D%22text-overflow%3A%20ellipsis%3B%20overflow%3A%20hidden%3B%20white-space%3A%20nowrap%3B%20max-width%3A%20calc((100%25%20-%200px)%20-%200px)%3B%22%3EMSFT%3C%2Fspan%3E%3C%2Fdiv%3E%3Cdiv%20style%3D%22display%3A%20none%3B%20align-items%3A%20center%3B%20height%3A%2028px%3B%20left%3A%200px%3B%20top%3A%2084px%3B%20width%3A%20120px%3B%20text-align%3A%20left%3B%20font-size%3A%2012px%3B%20padding%3A%204px%204px%203px%3B%20overflow%3A%20hidden%3B%20position%3A%20absolute%3B%20white-space%3A%20nowrap%3B%20text-overflow%3A%20ellipsis%3B%20font-weight%3A%20600%3B%22%3E%3Cspan%20style%3D%22text-overflow%3A%20ellipsis%3B%20overflow%3A%20hidden%3B%20white-space%3A%20nowrap%3B%20max-width%3A%20calc((100%25%20-%200px)%20-%200px)%3B%22%3E2020-07-09%3C%2Fspan%3E%3C%2Fdiv%3E%3Cdiv%20style%3D%22display%3A%20flex%3B%20align-items%3A%20center%3B%20height%3A%2028px%3B%20left%3A%20120px%3B%20top%3A%2084px%3B%20width%3A%20120px%3B%20text-align%3A%20left%3B%20font-size%3A%2012px%3B%20padding%3A%204px%204px%203px%3B%20overflow%3A%20hidden%3B%20position%3A%20absolute%3B%20white-space%3A%20nowrap%3B%20text-overflow%3A%20ellipsis%3B%20border-right%3A%202px%20solid%20rgb(233%2C%20233%2C%20233)%3B%20background-color%3A%20rgb(250%2C%20250%2C%20250)%3B%22%3E%3Cspan%20style%3D%22text-overflow%3A%20ellipsis%3B%20overflow%3A%20hidden%3B%20white-space%3A%20nowrap%3B%20max-width%3A%20calc((100%25%20-%200px)%20-%200px)%3B%22%3EOXY%3C%2Fspan%3E%3C%2Fdiv%3E%3C%2Fdiv%3E%3C%2Fdiv%3E%3C%2Fdiv%3E%3Cdiv%20class%3D%22css-1farq9y-Table%22%3E%3Cdiv%20class%3D%22aui-invisible-scrollbars%20css-1p13kwu%22%3E%3Cdiv%20class%3D%22css-99ih7p%22%3E%3Cdiv%20class%3D%22css-1hol363-ResizableCell%22%3E%3Cdiv%20style%3D%22display%3A%20flex%3B%20align-items%3A%20center%3B%20height%3A%2028px%3B%20left%3A%200px%3B%20top%3A%200px%3B%20width%3A%20115px%3B%20text-align%3A%20left%3B%20font-size%3A%2012px%3B%20padding%3A%204px%204px%203px%3B%20overflow%3A%20hidden%3B%20position%3A%20absolute%3B%20white-space%3A%20nowrap%3B%20text-overflow%3A%20ellipsis%3B%20font-weight%3A%20600%3B%22%3E%3Cspan%20style%3D%22text-overflow%3A%20ellipsis%3B%20overflow%3A%20hidden%3B%20white-space%3A%20nowrap%3B%20max-width%3A%20calc((100%25%20-%200px)%20-%200px)%3B%22%3EMarketValue.SUM%3C%2Fspan%3E%3C%2Fdiv%3E%3Cdiv%20class%3D%22css-xxcrt1-ResizableCell%22%3E%3C%2Fdiv%3E%3C%2Fdiv%3E%3Cdiv%20class%3D%22css-fpuq48-ResizableCell%22%3E%3Cdiv%20style%3D%22display%3A%20flex%3B%20align-items%3A%20center%3B%20height%3A%2028px%3B%20left%3A%200px%3B%20top%3A%200px%3B%20width%3A%20115px%3B%20text-align%3A%20left%3B%20font-size%3A%2012px%3B%20padding%3A%204px%204px%203px%3B%20overflow%3A%20hidden%3B%20position%3A%20absolute%3B%20white-space%3A%20nowrap%3B%20text-overflow%3A%20ellipsis%3B%20font-weight%3A%20600%3B%22%3E%3Cspan%20style%3D%22text-overflow%3A%20ellipsis%3B%20overflow%3A%20hidden%3B%20white-space%3A%20nowrap%3B%20max-width%3A%20calc((100%25%20-%200px)%20-%200px)%3B%22%3EDelta.SUM%3C%2Fspan%3E%3C%2Fdiv%3E%3Cdiv%20class%3D%22css-xxcrt1-ResizableCell%22%3E%3C%2Fdiv%3E%3C%2Fdiv%3E%3C%2Fdiv%3E%3C%2Fdiv%3E%3Cdiv%20class%3D%22%20css-1p6ieyi%22%3E%3Cdiv%20class%3D%22css-l17vxh%22%3E%3Cdiv%20class%3D%22aui-table-cell%22%20style%3D%22height%3A%2028px%3B%20left%3A%200px%3B%20top%3A%200px%3B%20width%3A%20120px%3B%20text-align%3A%20right%3B%20font-size%3A%2012px%3B%20padding%3A%204px%204px%203px%3B%20overflow%3A%20hidden%3B%20position%3A%20absolute%3B%20white-space%3A%20nowrap%3B%20text-overflow%3A%20ellipsis%3B%20border-right%3A%201px%20solid%20rgb(233%2C%20233%2C%20233)%3B%20background-color%3A%20transparent%3B%22%3E2%2C110.28%3C%2Fdiv%3E%3Cdiv%20class%3D%22aui-table-cell%22%20style%3D%22height%3A%2028px%3B%20left%3A%20120px%3B%20top%3A%200px%3B%20width%3A%20120px%3B%20text-align%3A%20right%3B%20font-size%3A%2012px%3B%20padding%3A%204px%204px%203px%3B%20overflow%3A%20hidden%3B%20position%3A%20absolute%3B%20white-space%3A%20nowrap%3B%20text-overflow%3A%20ellipsis%3B%20border-right%3A%201px%20solid%20rgb(233%2C%20233%2C%20233)%3B%20background-color%3A%20transparent%3B%22%3E34%2C450.16%3C%2Fdiv%3E%3Cdiv%20class%3D%22aui-table-cell%22%20style%3D%22height%3A%2028px%3B%20left%3A%200px%3B%20top%3A%2028px%3B%20width%3A%20120px%3B%20text-align%3A%20right%3B%20font-size%3A%2012px%3B%20padding%3A%204px%204px%203px%3B%20overflow%3A%20hidden%3B%20position%3A%20absolute%3B%20white-space%3A%20nowrap%3B%20text-overflow%3A%20ellipsis%3B%20border-right%3A%201px%20solid%20rgb(233%2C%20233%2C%20233)%3B%20background-color%3A%20rgb(250%2C%20250%2C%20250)%3B%22%3E1%2C508.95%3C%2Fdiv%3E%3Cdiv%20class%3D%22aui-table-cell%22%20style%3D%22height%3A%2028px%3B%20left%3A%20120px%3B%20top%3A%2028px%3B%20width%3A%20120px%3B%20text-align%3A%20right%3B%20font-size%3A%2012px%3B%20padding%3A%204px%204px%203px%3B%20overflow%3A%20hidden%3B%20position%3A%20absolute%3B%20white-space%3A%20nowrap%3B%20text-overflow%3A%20ellipsis%3B%20border-right%3A%201px%20solid%20rgb(233%2C%20233%2C%20233)%3B%20background-color%3A%20rgb(250%2C%20250%2C%20250)%3B%22%3E-154.09%3C%2Fdiv%3E%3Cdiv%20class%3D%22aui-table-cell%22%20style%3D%22height%3A%2028px%3B%20left%3A%200px%3B%20top%3A%2056px%3B%20width%3A%20120px%3B%20text-align%3A%20right%3B%20font-size%3A%2012px%3B%20padding%3A%204px%204px%203px%3B%20overflow%3A%20hidden%3B%20position%3A%20absolute%3B%20white-space%3A%20nowrap%3B%20text-overflow%3A%20ellipsis%3B%20border-right%3A%201px%20solid%20rgb(233%2C%20233%2C%20233)%3B%20background-color%3A%20transparent%3B%22%3E591.64%3C%2Fdiv%3E%3Cdiv%20class%3D%22aui-table-cell%22%20style%3D%22height%3A%2028px%3B%20left%3A%20120px%3B%20top%3A%2056px%3B%20width%3A%20120px%3B%20text-align%3A%20right%3B%20font-size%3A%2012px%3B%20padding%3A%204px%204px%203px%3B%20overflow%3A%20hidden%3B%20position%3A%20absolute%3B%20white-space%3A%20nowrap%3B%20text-overflow%3A%20ellipsis%3B%20border-right%3A%201px%20solid%20rgb(233%2C%20233%2C%20233)%3B%20background-color%3A%20transparent%3B%22%3E34%2C723.31%3C%2Fdiv%3E%3Cdiv%20class%3D%22aui-table-cell%22%20style%3D%22height%3A%2028px%3B%20left%3A%200px%3B%20top%3A%2084px%3B%20width%3A%20120px%3B%20text-align%3A%20right%3B%20font-size%3A%2012px%3B%20padding%3A%204px%204px%203px%3B%20overflow%3A%20hidden%3B%20position%3A%20absolute%3B%20white-space%3A%20nowrap%3B%20text-overflow%3A%20ellipsis%3B%20border-right%3A%201px%20solid%20rgb(233%2C%20233%2C%20233)%3B%20background-color%3A%20rgb(250%2C%20250%2C%20250)%3B%22%3E9.70%3C%2Fdiv%3E%3Cdiv%20class%3D%22aui-table-cell%22%20style%3D%22height%3A%2028px%3B%20left%3A%20120px%3B%20top%3A%2084px%3B%20width%3A%20120px%3B%20text-align%3A%20right%3B%20font-size%3A%2012px%3B%20padding%3A%204px%204px%203px%3B%20overflow%3A%20hidden%3B%20position%3A%20absolute%3B%20white-space%3A%20nowrap%3B%20text-overflow%3A%20ellipsis%3B%20border-right%3A%201px%20solid%20rgb(233%2C%20233%2C%20233)%3B%20background-color%3A%20rgb(250%2C%20250%2C%20250)%3B%22%3E-119.07%3C%2Fdiv%3E%3C%2Fdiv%3E%3C%2Fdiv%3E%3C%2Fdiv%3E%3C%2Fdiv%3E%3C%2Fdiv%3E%3Cdiv%20class%3D%22css-1uww2vi-Table%22%3E%3C%2Fdiv%3E%3C%2Fdiv%3E%3C%2Fdiv%3E%3C%2Fdiv%3E%3C%2Fdiv%3E%3C%2Fdiv%3E%3C%2FforeignObject%3E%3C%2Fsvg%3E\">"
      ],
      "text/plain": [
       "Open the notebook in JupyterLab with the Atoti extension enabled to build this widget."
      ]
     },
     "metadata": {},
     "output_type": "display_data"
    }
   ],
   "source": [
    "session.visualize(\"Risk data after data file modification\")"
   ]
  },
  {
   "cell_type": "markdown",
   "metadata": {},
   "source": [
    "Uncomment these commands to stop the folder monitoring. However, we will still require the folder monitoring in the later user case. Hence, the monitoring will be stopped later on."
   ]
  },
  {
   "cell_type": "code",
   "execution_count": 21,
   "metadata": {},
   "outputs": [],
   "source": [
    "# observer.stop()\n",
    "# observer.join()"
   ]
  },
  {
   "cell_type": "markdown",
   "metadata": {},
   "source": [
    "### 2. Real-time via datastore `append` function\n",
    "\n",
    "To implement real-time instrument prices, we’ll be pushing new values using the datastore `append` command. In the following cell, we're creating the `market_data_table`. As you probably noticed, we are not setting the `watch` parameter as in the previous example, as it defaults to `False`:"
   ]
  },
  {
   "cell_type": "code",
   "execution_count": 22,
   "metadata": {},
   "outputs": [
    {
     "name": "stdout",
     "output_type": "stream",
     "text": [
      "File modified risk_data_previous_cob (1).csv\n",
      "Modified file loaded ./dynamic-input-files\\risk_data_previous_cob (1).csv\n",
      "File modified risk_data_previous_cob.csv\n",
      "Modified file loaded ./dynamic-input-files\\risk_data_previous_cob.csv\n"
     ]
    }
   ],
   "source": [
    "market_data_table = session.read_csv(\n",
    "    \"s3://data.atoti.io/notebooks/real-time-risk/static-input-files/market_data.csv\",\n",
    "    keys=[\"AsOfDate\", \"Instrument\"],\n",
    "    table_name=\"Market_Data_table\",\n",
    "    types={\n",
    "        \"AsOfDate\": tt.type.LOCAL_DATE,\n",
    "        \"Instrument\": tt.type.STRING,\n",
    "        \"Quote\": tt.type.DOUBLE,\n",
    "    },\n",
    ")"
   ]
  },
  {
   "cell_type": "markdown",
   "metadata": {},
   "source": [
    "Displaying the current state of the `market data store`:"
   ]
  },
  {
   "cell_type": "code",
   "execution_count": 23,
   "metadata": {},
   "outputs": [
    {
     "data": {
      "text/html": [
       "<div>\n",
       "<style scoped>\n",
       "    .dataframe tbody tr th:only-of-type {\n",
       "        vertical-align: middle;\n",
       "    }\n",
       "\n",
       "    .dataframe tbody tr th {\n",
       "        vertical-align: top;\n",
       "    }\n",
       "\n",
       "    .dataframe thead th {\n",
       "        text-align: right;\n",
       "    }\n",
       "</style>\n",
       "<table border=\"1\" class=\"dataframe\">\n",
       "  <thead>\n",
       "    <tr style=\"text-align: right;\">\n",
       "      <th></th>\n",
       "      <th></th>\n",
       "      <th>Quote</th>\n",
       "    </tr>\n",
       "    <tr>\n",
       "      <th>AsOfDate</th>\n",
       "      <th>Instrument</th>\n",
       "      <th></th>\n",
       "    </tr>\n",
       "  </thead>\n",
       "  <tbody>\n",
       "    <tr>\n",
       "      <th rowspan=\"3\" valign=\"top\">2020-07-08</th>\n",
       "      <th>OXY</th>\n",
       "      <td>16.23</td>\n",
       "    </tr>\n",
       "    <tr>\n",
       "      <th>MSFT</th>\n",
       "      <td>214.0</td>\n",
       "    </tr>\n",
       "    <tr>\n",
       "      <th>AAPL</th>\n",
       "      <td>380.0</td>\n",
       "    </tr>\n",
       "  </tbody>\n",
       "</table>\n",
       "</div>"
      ],
      "text/plain": [
       "                       Quote\n",
       "AsOfDate   Instrument       \n",
       "2020-07-08 OXY         16.23\n",
       "           MSFT        214.0\n",
       "           AAPL        380.0"
      ]
     },
     "execution_count": 23,
     "metadata": {},
     "output_type": "execute_result"
    }
   ],
   "source": [
    "market_data_table.head(5)"
   ]
  },
  {
   "cell_type": "markdown",
   "metadata": {},
   "source": [
    "At any time, we can use the `append` command to inject new records, for example:"
   ]
  },
  {
   "cell_type": "code",
   "execution_count": 24,
   "metadata": {},
   "outputs": [
    {
     "data": {
      "text/html": [
       "<div>\n",
       "<style scoped>\n",
       "    .dataframe tbody tr th:only-of-type {\n",
       "        vertical-align: middle;\n",
       "    }\n",
       "\n",
       "    .dataframe tbody tr th {\n",
       "        vertical-align: top;\n",
       "    }\n",
       "\n",
       "    .dataframe thead th {\n",
       "        text-align: right;\n",
       "    }\n",
       "</style>\n",
       "<table border=\"1\" class=\"dataframe\">\n",
       "  <thead>\n",
       "    <tr style=\"text-align: right;\">\n",
       "      <th></th>\n",
       "      <th></th>\n",
       "      <th>Quote</th>\n",
       "    </tr>\n",
       "    <tr>\n",
       "      <th>AsOfDate</th>\n",
       "      <th>Instrument</th>\n",
       "      <th></th>\n",
       "    </tr>\n",
       "  </thead>\n",
       "  <tbody>\n",
       "    <tr>\n",
       "      <th rowspan=\"3\" valign=\"top\">2020-07-08</th>\n",
       "      <th>OXY</th>\n",
       "      <td>16.23</td>\n",
       "    </tr>\n",
       "    <tr>\n",
       "      <th>MSFT</th>\n",
       "      <td>214.0</td>\n",
       "    </tr>\n",
       "    <tr>\n",
       "      <th>AAPL</th>\n",
       "      <td>380.0</td>\n",
       "    </tr>\n",
       "    <tr>\n",
       "      <th rowspan=\"2\" valign=\"top\">2020-07-09</th>\n",
       "      <th>AAPL</th>\n",
       "      <td>381.0</td>\n",
       "    </tr>\n",
       "    <tr>\n",
       "      <th>OXY</th>\n",
       "      <td>16.8</td>\n",
       "    </tr>\n",
       "  </tbody>\n",
       "</table>\n",
       "</div>"
      ],
      "text/plain": [
       "                       Quote\n",
       "AsOfDate   Instrument       \n",
       "2020-07-08 OXY         16.23\n",
       "           MSFT        214.0\n",
       "           AAPL        380.0\n",
       "2020-07-09 AAPL        381.0\n",
       "           OXY          16.8"
      ]
     },
     "execution_count": 24,
     "metadata": {},
     "output_type": "execute_result"
    }
   ],
   "source": [
    "asOfDate = datetime(2020, 7, 9)\n",
    "\n",
    "market_data_table.append((asOfDate, \"AAPL\", 381.0))\n",
    "market_data_table.append((asOfDate, \"OXY\", 16.8))\n",
    "market_data_table.append((asOfDate, \"MSFT\", 215.0))\n",
    "market_data_table.head(5)"
   ]
  },
  {
   "cell_type": "markdown",
   "metadata": {},
   "source": [
    "This `join` will link the `sensitivities_table` and the `market_data_table` and allow displaying sensitivities next to quotes."
   ]
  },
  {
   "cell_type": "code",
   "execution_count": 25,
   "metadata": {},
   "outputs": [],
   "source": [
    "sensitivities_table.join(\n",
    "    market_data_table,\n",
    "    (sensitivities_table[\"AsOfDate\"] == market_data_table[\"AsOfDate\"])\n",
    "    & (sensitivities_table[\"RiskFactor\"] == market_data_table[\"Instrument\"]),\n",
    ")"
   ]
  },
  {
   "cell_type": "markdown",
   "metadata": {},
   "source": [
    "Current state of the data model can be visualized by the following command:"
   ]
  },
  {
   "cell_type": "code",
   "execution_count": 26,
   "metadata": {},
   "outputs": [
    {
     "data": {
      "image/svg+xml": [
       "<svg xmlns=\"http://www.w3.org/2000/svg\" xmlns:xlink=\"http://www.w3.org/1999/xlink\" width=\"558px\" height=\"162px\" viewBox=\"0.00 0.00 558.00 162.00\">\n",
       "<g id=\"graph0\" class=\"graph\" transform=\"scale(1.0 1.0) rotate(0) translate(4 158)\">\n",
       "<title>Sensitivities schema</title>\n",
       "<polygon fill=\"white\" stroke=\"transparent\" points=\"-4,4 -4,-158 554,-158 554,4 -4,4\"/>\n",
       "<!-- Sensitivities -->\n",
       "<g id=\"node1\" class=\"node\">\n",
       "<title>Sensitivities</title>\n",
       "<text text-anchor=\"start\" x=\"61.5\" y=\"-134.6\" font-family=\"-apple-system, BlinkMacSystemFont, 'Segoe UI', Helvetica, Arial, sans-serif, 'Apple Color Emoji', 'Segoe UI Emoji', 'Segoe UI Symbol'\" font-weight=\"bold\" font-size=\"13.00\">Sensitivities</text>\n",
       "<polygon fill=\"#f5f5f5\" stroke=\"transparent\" points=\"9,-101 9,-125 40,-125 40,-101 9,-101\"/>\n",
       "<text text-anchor=\"start\" x=\"14\" y=\"-110.6\" font-family=\"-apple-system, BlinkMacSystemFont, 'Segoe UI', Helvetica, Arial, sans-serif, 'Apple Color Emoji', 'Segoe UI Emoji', 'Segoe UI Symbol'\" font-weight=\"bold\" font-size=\"13.00\">key</text>\n",
       "<polygon fill=\"#f5f5f5\" stroke=\"transparent\" points=\"40,-101 40,-125 118,-125 118,-101 40,-101\"/>\n",
       "<text text-anchor=\"start\" x=\"45\" y=\"-109.6\" font-family=\"-apple-system, BlinkMacSystemFont, 'Segoe UI', Helvetica, Arial, sans-serif, 'Apple Color Emoji', 'Segoe UI Emoji', 'Segoe UI Symbol'\" font-size=\"13.00\">AsOfDate</text>\n",
       "<polygon fill=\"#f5f5f5\" stroke=\"transparent\" points=\"118,-101 118,-125 185,-125 185,-101 118,-101\"/>\n",
       "<text text-anchor=\"start\" x=\"123\" y=\"-110.6\" font-family=\"-apple-system, BlinkMacSystemFont, 'Segoe UI', Helvetica, Arial, sans-serif, 'Apple Color Emoji', 'Segoe UI Emoji', 'Segoe UI Symbol'\" font-style=\"italic\" font-size=\"13.00\">LocalDate</text>\n",
       "<polygon fill=\"#ffffff\" stroke=\"transparent\" points=\"9,-77 9,-101 40,-101 40,-77 9,-77\"/>\n",
       "<text text-anchor=\"start\" x=\"14\" y=\"-86.6\" font-family=\"-apple-system, BlinkMacSystemFont, 'Segoe UI', Helvetica, Arial, sans-serif, 'Apple Color Emoji', 'Segoe UI Emoji', 'Segoe UI Symbol'\" font-weight=\"bold\" font-size=\"13.00\">key</text>\n",
       "<polygon fill=\"#ffffff\" stroke=\"transparent\" points=\"40,-77 40,-101 118,-101 118,-77 40,-77\"/>\n",
       "<text text-anchor=\"start\" x=\"45\" y=\"-85.6\" font-family=\"-apple-system, BlinkMacSystemFont, 'Segoe UI', Helvetica, Arial, sans-serif, 'Apple Color Emoji', 'Segoe UI Emoji', 'Segoe UI Symbol'\" font-size=\"13.00\">TradeId</text>\n",
       "<polygon fill=\"#ffffff\" stroke=\"transparent\" points=\"118,-77 118,-101 185,-101 185,-77 118,-77\"/>\n",
       "<text text-anchor=\"start\" x=\"147\" y=\"-86.6\" font-family=\"-apple-system, BlinkMacSystemFont, 'Segoe UI', Helvetica, Arial, sans-serif, 'Apple Color Emoji', 'Segoe UI Emoji', 'Segoe UI Symbol'\" font-style=\"italic\" font-size=\"13.00\">String</text>\n",
       "<polygon fill=\"#f5f5f5\" stroke=\"transparent\" points=\"9,-53 9,-77 40,-77 40,-53 9,-53\"/>\n",
       "<text text-anchor=\"start\" x=\"14\" y=\"-62.6\" font-family=\"-apple-system, BlinkMacSystemFont, 'Segoe UI', Helvetica, Arial, sans-serif, 'Apple Color Emoji', 'Segoe UI Emoji', 'Segoe UI Symbol'\" font-weight=\"bold\" font-size=\"13.00\">key</text>\n",
       "<polygon fill=\"#f5f5f5\" stroke=\"transparent\" points=\"40,-53 40,-77 118,-77 118,-53 40,-53\"/>\n",
       "<text text-anchor=\"start\" x=\"45\" y=\"-61.6\" font-family=\"-apple-system, BlinkMacSystemFont, 'Segoe UI', Helvetica, Arial, sans-serif, 'Apple Color Emoji', 'Segoe UI Emoji', 'Segoe UI Symbol'\" font-size=\"13.00\">RiskFactor</text>\n",
       "<polygon fill=\"#f5f5f5\" stroke=\"transparent\" points=\"118,-53 118,-77 185,-77 185,-53 118,-53\"/>\n",
       "<text text-anchor=\"start\" x=\"147\" y=\"-62.6\" font-family=\"-apple-system, BlinkMacSystemFont, 'Segoe UI', Helvetica, Arial, sans-serif, 'Apple Color Emoji', 'Segoe UI Emoji', 'Segoe UI Symbol'\" font-style=\"italic\" font-size=\"13.00\">String</text>\n",
       "<polygon fill=\"#ffffff\" stroke=\"transparent\" points=\"9,-29 9,-53 40,-53 40,-29 9,-29\"/>\n",
       "<polygon fill=\"#ffffff\" stroke=\"transparent\" points=\"40,-29 40,-53 118,-53 118,-29 40,-29\"/>\n",
       "<text text-anchor=\"start\" x=\"45\" y=\"-37.6\" font-family=\"-apple-system, BlinkMacSystemFont, 'Segoe UI', Helvetica, Arial, sans-serif, 'Apple Color Emoji', 'Segoe UI Emoji', 'Segoe UI Symbol'\" font-size=\"13.00\">MarketValue</text>\n",
       "<polygon fill=\"#ffffff\" stroke=\"transparent\" points=\"118,-29 118,-53 185,-53 185,-29 118,-29\"/>\n",
       "<text text-anchor=\"start\" x=\"143\" y=\"-38.6\" font-family=\"-apple-system, BlinkMacSystemFont, 'Segoe UI', Helvetica, Arial, sans-serif, 'Apple Color Emoji', 'Segoe UI Emoji', 'Segoe UI Symbol'\" font-style=\"italic\" font-size=\"13.00\">double</text>\n",
       "<polygon fill=\"#f5f5f5\" stroke=\"transparent\" points=\"9,-5 9,-29 40,-29 40,-5 9,-5\"/>\n",
       "<polygon fill=\"#f5f5f5\" stroke=\"transparent\" points=\"40,-5 40,-29 118,-29 118,-5 40,-5\"/>\n",
       "<text text-anchor=\"start\" x=\"45\" y=\"-13.6\" font-family=\"-apple-system, BlinkMacSystemFont, 'Segoe UI', Helvetica, Arial, sans-serif, 'Apple Color Emoji', 'Segoe UI Emoji', 'Segoe UI Symbol'\" font-size=\"13.00\">Delta</text>\n",
       "<polygon fill=\"#f5f5f5\" stroke=\"transparent\" points=\"118,-5 118,-29 185,-29 185,-5 118,-5\"/>\n",
       "<text text-anchor=\"start\" x=\"143\" y=\"-14.6\" font-family=\"-apple-system, BlinkMacSystemFont, 'Segoe UI', Helvetica, Arial, sans-serif, 'Apple Color Emoji', 'Segoe UI Emoji', 'Segoe UI Symbol'\" font-style=\"italic\" font-size=\"13.00\">double</text>\n",
       "<polygon fill=\"none\" stroke=\"black\" points=\"8,-4 8,-150 186,-150 186,-4 8,-4\"/>\n",
       "</g>\n",
       "<!-- Market_Data_table -->\n",
       "<g id=\"node2\" class=\"node\">\n",
       "<title>Market_Data_table</title>\n",
       "<text text-anchor=\"start\" x=\"403.5\" y=\"-110.6\" font-family=\"-apple-system, BlinkMacSystemFont, 'Segoe UI', Helvetica, Arial, sans-serif, 'Apple Color Emoji', 'Segoe UI Emoji', 'Segoe UI Symbol'\" font-weight=\"bold\" font-size=\"13.00\">Market_Data_table</text>\n",
       "<polygon fill=\"#f5f5f5\" stroke=\"transparent\" points=\"375,-77 375,-101 406,-101 406,-77 375,-77\"/>\n",
       "<text text-anchor=\"start\" x=\"380\" y=\"-86.6\" font-family=\"-apple-system, BlinkMacSystemFont, 'Segoe UI', Helvetica, Arial, sans-serif, 'Apple Color Emoji', 'Segoe UI Emoji', 'Segoe UI Symbol'\" font-weight=\"bold\" font-size=\"13.00\">key</text>\n",
       "<polygon fill=\"#f5f5f5\" stroke=\"transparent\" points=\"406,-77 406,-101 474,-101 474,-77 406,-77\"/>\n",
       "<text text-anchor=\"start\" x=\"411\" y=\"-85.6\" font-family=\"-apple-system, BlinkMacSystemFont, 'Segoe UI', Helvetica, Arial, sans-serif, 'Apple Color Emoji', 'Segoe UI Emoji', 'Segoe UI Symbol'\" font-size=\"13.00\">AsOfDate</text>\n",
       "<polygon fill=\"#f5f5f5\" stroke=\"transparent\" points=\"474,-77 474,-101 541,-101 541,-77 474,-77\"/>\n",
       "<text text-anchor=\"start\" x=\"479\" y=\"-86.6\" font-family=\"-apple-system, BlinkMacSystemFont, 'Segoe UI', Helvetica, Arial, sans-serif, 'Apple Color Emoji', 'Segoe UI Emoji', 'Segoe UI Symbol'\" font-style=\"italic\" font-size=\"13.00\">LocalDate</text>\n",
       "<polygon fill=\"#ffffff\" stroke=\"transparent\" points=\"375,-53 375,-77 406,-77 406,-53 375,-53\"/>\n",
       "<text text-anchor=\"start\" x=\"380\" y=\"-62.6\" font-family=\"-apple-system, BlinkMacSystemFont, 'Segoe UI', Helvetica, Arial, sans-serif, 'Apple Color Emoji', 'Segoe UI Emoji', 'Segoe UI Symbol'\" font-weight=\"bold\" font-size=\"13.00\">key</text>\n",
       "<polygon fill=\"#ffffff\" stroke=\"transparent\" points=\"406,-53 406,-77 474,-77 474,-53 406,-53\"/>\n",
       "<text text-anchor=\"start\" x=\"411\" y=\"-61.6\" font-family=\"-apple-system, BlinkMacSystemFont, 'Segoe UI', Helvetica, Arial, sans-serif, 'Apple Color Emoji', 'Segoe UI Emoji', 'Segoe UI Symbol'\" font-size=\"13.00\">Instrument</text>\n",
       "<polygon fill=\"#ffffff\" stroke=\"transparent\" points=\"474,-53 474,-77 541,-77 541,-53 474,-53\"/>\n",
       "<text text-anchor=\"start\" x=\"503\" y=\"-62.6\" font-family=\"-apple-system, BlinkMacSystemFont, 'Segoe UI', Helvetica, Arial, sans-serif, 'Apple Color Emoji', 'Segoe UI Emoji', 'Segoe UI Symbol'\" font-style=\"italic\" font-size=\"13.00\">String</text>\n",
       "<polygon fill=\"#f5f5f5\" stroke=\"transparent\" points=\"375,-29 375,-53 406,-53 406,-29 375,-29\"/>\n",
       "<polygon fill=\"#f5f5f5\" stroke=\"transparent\" points=\"406,-29 406,-53 474,-53 474,-29 406,-29\"/>\n",
       "<text text-anchor=\"start\" x=\"411\" y=\"-37.6\" font-family=\"-apple-system, BlinkMacSystemFont, 'Segoe UI', Helvetica, Arial, sans-serif, 'Apple Color Emoji', 'Segoe UI Emoji', 'Segoe UI Symbol'\" font-size=\"13.00\">Quote</text>\n",
       "<polygon fill=\"#f5f5f5\" stroke=\"transparent\" points=\"474,-29 474,-53 541,-53 541,-29 474,-29\"/>\n",
       "<text text-anchor=\"start\" x=\"499\" y=\"-38.6\" font-family=\"-apple-system, BlinkMacSystemFont, 'Segoe UI', Helvetica, Arial, sans-serif, 'Apple Color Emoji', 'Segoe UI Emoji', 'Segoe UI Symbol'\" font-style=\"italic\" font-size=\"13.00\">double</text>\n",
       "<polygon fill=\"none\" stroke=\"black\" points=\"374,-28 374,-126 542,-126 542,-28 374,-28\"/>\n",
       "</g>\n",
       "<!-- Sensitivities&#45;&gt;Market_Data_table -->\n",
       "<g id=\"edge1\" class=\"edge\">\n",
       "<title>Sensitivities-&gt;Market_Data_table</title>\n",
       "<path fill=\"none\" stroke=\"black\" d=\"M194.21,-77C244.05,-77 304.89,-77 355.48,-77\"/>\n",
       "<polygon fill=\"black\" stroke=\"black\" points=\"355.79,-80.5 365.79,-77 355.79,-73.5 355.79,-80.5\"/>\n",
       "<text text-anchor=\"middle\" x=\"280\" y=\"-94.6\" font-family=\"-apple-system, BlinkMacSystemFont, 'Segoe UI', Helvetica, Arial, sans-serif, 'Apple Color Emoji', 'Segoe UI Emoji', 'Segoe UI Symbol'\" font-size=\"13.00\">AsOfDate → AsOfDate</text>\n",
       "<text text-anchor=\"middle\" x=\"280\" y=\"-80.6\" font-family=\"-apple-system, BlinkMacSystemFont, 'Segoe UI', Helvetica, Arial, sans-serif, 'Apple Color Emoji', 'Segoe UI Emoji', 'Segoe UI Symbol'\" font-size=\"13.00\">RiskFactor → Instrument</text>\n",
       "</g>\n",
       "</g>\n",
       "</svg>"
      ],
      "text/plain": [
       "<IPython.core.display.SVG object>"
      ]
     },
     "execution_count": 26,
     "metadata": {},
     "output_type": "execute_result"
    }
   ],
   "source": [
    "cube.schema"
   ]
  },
  {
   "cell_type": "code",
   "execution_count": 27,
   "metadata": {},
   "outputs": [],
   "source": [
    "m[\"Quote.VALUE\"] = tt.agg.single_value(market_data_table[\"Quote\"])"
   ]
  },
  {
   "cell_type": "code",
   "execution_count": 28,
   "metadata": {
    "atoti": {
     "height": 420,
     "widget": {
      "mapping": {
       "columns": [
        "ALL_MEASURES"
       ],
       "measures": [
        "[Measures].[Delta.SUM]",
        "[Measures].[MarketValue.SUM]",
        "[Measures].[Quote.VALUE]"
       ],
       "rows": [
        "[Sensitivities].[AsOfDate].[AsOfDate] => [Sensitivities].[RiskFactor].[RiskFactor]"
       ]
      },
      "query": {
       "mdx": "SELECT NON EMPTY {[Measures].[Delta.SUM], [Measures].[MarketValue.SUM], [Measures].[Quote.VALUE]} ON COLUMNS, NON EMPTY Hierarchize(Union(Crossjoin([Sensitivities].[AsOfDate].[AsOfDate].Members, [Sensitivities].[RiskFactor].DefaultMember), Crossjoin([Sensitivities].[AsOfDate].[2020-07-09], Hierarchize(Descendants({[Sensitivities].[RiskFactor].[AllMember]}, 1, SELF_AND_BEFORE))), Crossjoin([Sensitivities].[AsOfDate].[2020-07-08], Hierarchize(Descendants({[Sensitivities].[RiskFactor].[AllMember]}, 1, SELF_AND_BEFORE))), Crossjoin([Sensitivities].[AsOfDate].[2020-07-07], Hierarchize(Descendants({[Sensitivities].[RiskFactor].[AllMember]}, 1, SELF_AND_BEFORE))))) ON ROWS FROM [Sensitivities]",
       "updateMode": "once"
      },
      "serverKey": "default",
      "widgetKey": "pivot-table"
     }
    },
    "tags": []
   },
   "outputs": [
    {
     "data": {
      "application/vnd.atoti.widget.v0+json": {
       "name": "Quotes next to Deltas and MarketValues",
       "sessionId": "1685500705_DPWWLG",
       "sessionLocation": {
        "https": false,
        "port": 54183
       },
       "widgetCreationCode": "session.visualize()"
      },
      "text/html": [
       "<img src=\"data:image/svg+xml;charset=utf8,%3C%3Fxml%20version%3D%221.0%22%20standalone%3D%22no%22%3F%3E%3Csvg%20xmlns%3D%22http%3A%2F%2Fwww.w3.org%2F2000%2Fsvg%22%20height%3D%22412%22%20width%3D%221310%22%3E%3CforeignObject%20width%3D%22100%25%22%20height%3D%22100%25%22%20x%3D%220%22%20y%3D%220%22%3E%3Cstyle%20xmlns%3D%22http%3A%2F%2Fwww.w3.org%2F1999%2Fxhtml%22%20type%3D%22text%2Fcss%22%3E.anticon%20%7Bdisplay%3A%20inline-block%3B%20color%3A%20inherit%3B%20font-style%3A%20normal%3B%20line-height%3A%200%3B%20text-align%3A%20center%3B%20text-transform%3A%20none%3B%20vertical-align%3A%20-0.125em%3B%20text-rendering%3A%20optimizelegibility%3B%20-webkit-font-smoothing%3A%20antialiased%7D%0A.anticon%20%26gt%3B%20*%20%7Bline-height%3A%201%7D%0A.anticon%20svg%20%7Bdisplay%3A%20inline-block%7D%0A.anticon%5Btabindex%5D%20%7Bcursor%3A%20pointer%7D%0A*%2C%20%3A%3Abefore%2C%20%3A%3Aafter%20%7Bbox-sizing%3A%20unset%7D%0A.ant-root%20%5Bclass%5E%3D%22ant-%22%5D%2C%20.ant-root%20%5Bclass*%3D%22ant-%22%5D%2C%20.ant-root%20%5Bclass%5E%3D%22ant-%22%5D%20*%2C%20.ant-root%20%5Bclass*%3D%22ant-%22%5D%20*%2C%20.ant-root%20%5Bclass%5E%3D%22ant-%22%5D%20%3A%3Abefore%2C%20.ant-root%20%5Bclass*%3D%22ant-%22%5D%20%3A%3Abefore%2C%20.ant-root%20%5Bclass%5E%3D%22ant-%22%5D%20%3A%3Aafter%2C%20.ant-root%20%5Bclass*%3D%22ant-%22%5D%20%3A%3Aafter%20%7Bbox-sizing%3A%20border-box%7D%0A.ant-root%2C%20.ant-root%20%7Bwidth%3A%20100%25%3B%20height%3A%20100%25%7D%0A.ant-root%20*%2C%20.ant-root%20%3A%3Abefore%2C%20.ant-root%20%3A%3Aafter%20%7Bbox-sizing%3A%20border-box%7D%0A.ant-root%20%7Btext-size-adjust%3A%20100%25%3B%20-webkit-tap-highlight-color%3A%20rgba(0%2C%200%2C%200%2C%200)%3B%20font-family%3A%20-apple-system%2C%20BlinkMacSystemFont%2C%20%22Segoe%20UI%22%2C%20Roboto%2C%20%22Helvetica%20Neue%22%2C%20Arial%2C%20%22Noto%20Sans%22%2C%20sans-serif%2C%20%22Apple%20Color%20Emoji%22%2C%20%22Segoe%20UI%20Emoji%22%2C%20%22Segoe%20UI%20Symbol%22%2C%20%22Noto%20Color%20Emoji%22%3B%20line-height%3A%201.66667%3B%20color%3A%20rgb(89%2C%2089%2C%2089)%3B%20font-variant-ligatures%3A%20normal%3B%20font-variant-numeric%3A%20tabular-nums%3B%20font-variant-east-asian%3A%20normal%3B%20font-variant-caps%3A%20normal%3B%20font-variant-alternates%3A%20normal%3B%20background-color%3A%20rgb(255%2C%20255%2C%20255)%3B%20margin-top%3A%200px%3B%20margin-right%3A%200px%3B%20margin-bottom%3A%200px%3B%20margin-left%3A%200px%3B%20font-size%3A%2012px%3B%20--antd-wave-shadow-color%3A%20%231890ff%3B%20--scroll-bar%3A%200%7D%0A.ant-root%20svg%3Anot(%3Aroot)%20%7Boverflow-x%3A%20hidden%3B%20overflow-y%3A%20hidden%7D%0A.ant-root%20.anticon%20%7Bcolor%3A%20inherit%3B%20text-align%3A%20center%3B%20text-transform%3A%20none%3B%20vertical-align%3A%20-0.125em%3B%20text-rendering%3A%20optimizelegibility%3B%20-webkit-font-smoothing%3A%20antialiased%3B%20font-style%3A%20normal%3B%20line-height%3A%200%3B%20display%3A%20inline-block%7D%0A.ant-root%20.anticon%20%26gt%3B%20*%20%7Bline-height%3A%201%7D%0A.ant-root%20.anticon%20svg%20%7Bdisplay%3A%20inline-block%7D%0A.ant-root%20.anticon%5Btabindex%5D%20%7Bcursor%3A%20pointer%7D%0A.ant-root%20.aui-invisible-scrollbars%20%7B%7D%0A.css-12ebr42-AWidget%20%7Bheight%3A%20100%25%7D%0A.css-2p9ued-WidgetLoadingOverlay%20%7Bheight%3A%20100%25%3B%20position%3A%20relative%7D%0A.css-1b1raxz-DefaultWidgetLoadingOverlay%20%7Bdisplay%3A%20flex%3B%20height%3A%20100%25%3B%20-webkit-box-pack%3A%20center%3B%20justify-content%3A%20center%3B%20position%3A%20absolute%3B%20width%3A%20100%25%3B%20-webkit-box-align%3A%20center%3B%20align-items%3A%20center%3B%20pointer-events%3A%20none%3B%20z-index%3A%202%7D%0A.css-34a2ml-DefaultWidgetLoadingOverlay%20%7Bbackground-image%3A%20initial%3B%20background-position-x%3A%20initial%3B%20background-position-y%3A%20initial%3B%20background-size%3A%20initial%3B%20background-repeat-x%3A%20initial%3B%20background-repeat-y%3A%20initial%3B%20background-attachment%3A%20initial%3B%20background-origin%3A%20initial%3B%20background-clip%3A%20initial%3B%20background-color%3A%20transparent%3B%20width%3A%20calc(100%25%20-%204px)%3B%20height%3A%20calc(100%25%20-%204px)%7D%0A.css-1hwl8p1-Table%20%7Bpadding-bottom%3A%202px%3B%20padding-right%3A%202px%3B%20height%3A%20100%25%7D%0A.css-14ejcn0-Table%20%7Bheight%3A%20calc(100%25%20-%2030px)%3B%20outline-color%3A%20initial%3B%20outline-style%3A%20none%3B%20outline-width%3A%20initial%3B%20position%3A%20relative%7D%0A.css-1rxpjm0-ColumnResizeHint%20%7Bdisplay%3A%20none%3B%20position%3A%20absolute%3B%20z-index%3A%201%7D%0A.css-walxhl-ColumnResizeHint%20%7Bheight%3A%2028px%3B%20background-color%3A%20rgb(24%2C%20144%2C%20255)%3B%20width%3A%205px%7D%0A.css-1uww2vi-Table%20%7Bheight%3A%2030px%3B%20text-align%3A%20right%3B%20padding-right%3A%2025px%7D%0A.css-cjaqq6-Table%20%7Bborder-collapse%3A%20collapse%3B%20height%3A%2028px%3B%20width%3A%20240px%7D%0A.css-17cmzye%20%7Bheight%3A%2028px%3B%20width%3A%20240px%7D%0A.css-1q24z4%20%7Bcursor%3A%20cell%3B%20height%3A%2028px%3B%20overflow-x%3A%20hidden%3B%20overflow-y%3A%20hidden%3B%20position%3A%20relative%3B%20width%3A%20240px%3B%20border-right-width%3A%202px%3B%20border-right-style%3A%20solid%3B%20border-right-color%3A%20rgb(233%2C%20233%2C%20233)%7D%0A.css-1hol363-ResizableCell%20%7Bdisplay%3A%20flex%3B%20flex-direction%3A%20column%3B%20position%3A%20absolute%3B%20top%3A%200px%3B%20left%3A%200px%3B%20height%3A%2028px%3B%20width%3A%20120px%7D%0A.css-xxcrt1-ResizableCell%20%7Bbackground-image%3A%20initial%3B%20background-position-x%3A%20initial%3B%20background-position-y%3A%20initial%3B%20background-size%3A%20initial%3B%20background-repeat-x%3A%20initial%3B%20background-repeat-y%3A%20initial%3B%20background-attachment%3A%20initial%3B%20background-origin%3A%20initial%3B%20background-clip%3A%20initial%3B%20background-color%3A%20transparent%3B%20cursor%3A%20col-resize%3B%20height%3A%20100%25%3B%20position%3A%20absolute%3B%20right%3A%200px%3B%20width%3A%205px%3B%20z-index%3A%201%7D%0A.css-fpuq48-ResizableCell%20%7Bdisplay%3A%20flex%3B%20flex-direction%3A%20column%3B%20position%3A%20absolute%3B%20top%3A%200px%3B%20left%3A%20120px%3B%20height%3A%2028px%3B%20width%3A%20120px%7D%0A.css-1farq9y-Table%20%7Bwidth%3A%201068px%3B%20border-collapse%3A%20collapse%7D%0A.css-1p13kwu%20%7Bheight%3A%2028px%3B%20width%3A%201050px%3B%20overflow-x%3A%20auto%3B%20overflow-y%3A%20hidden%7D%0A.css-1yzepaz-ColumnResizeHint%20%7Bdisplay%3A%20none%3B%20float%3A%20right%3B%20height%3A%20352px%3B%20background-color%3A%20rgb(24%2C%20144%2C%20255)%3B%20opacity%3A%200.4%3B%20width%3A%202px%7D%0A.css-1hq2630-Table%20%7Bdisplay%3A%20flex%3B%20height%3A%20380px%7D%0A.css-1ye35qe%20%7Bheight%3A%20352px%3B%20width%3A%20240px%3B%20overflow-x%3A%20hidden%3B%20overflow-y%3A%20auto%7D%0A.css-1cy6ucf%20%7Bcursor%3A%20cell%3B%20height%3A%20392px%3B%20overflow-x%3A%20hidden%3B%20overflow-y%3A%20hidden%3B%20position%3A%20relative%3B%20width%3A%20240px%3B%20border-top-width%3A%202px%3B%20border-top-style%3A%20solid%3B%20border-top-color%3A%20rgb(233%2C%20233%2C%20233)%3B%20border-right-width%3A%202px%3B%20border-right-style%3A%20solid%3B%20border-right-color%3A%20rgb(233%2C%20233%2C%20233)%7D%0A.css-1jtaj6k%20%7Bcursor%3A%20cell%3B%20height%3A%2028px%3B%20overflow-x%3A%20hidden%3B%20overflow-y%3A%20hidden%3B%20position%3A%20relative%3B%20width%3A%20360px%7D%0A.css-3geaec-ResizableCell%20%7Bdisplay%3A%20flex%3B%20flex-direction%3A%20column%3B%20position%3A%20absolute%3B%20top%3A%200px%3B%20left%3A%20240px%3B%20height%3A%2028px%3B%20width%3A%20120px%7D%0A.css-x6bdm4%20%7Bheight%3A%20352px%3B%20width%3A%201068px%3B%20overflow-x%3A%20auto%3B%20overflow-y%3A%20auto%7D%0A.css-1fpi2j9%20%7Bcursor%3A%20cell%3B%20height%3A%20392px%3B%20overflow-x%3A%20hidden%3B%20overflow-y%3A%20hidden%3B%20position%3A%20relative%3B%20width%3A%20360px%3B%20border-top-width%3A%202px%3B%20border-top-style%3A%20solid%3B%20border-top-color%3A%20rgb(233%2C%20233%2C%20233)%7D%0A*%20%7B-ms-overflow-style%3A%20none%3B%20scrollbar-width%3A%20none%7D%0A*%3A%3A-webkit-scrollbar%20%7Bdisplay%3A%20none%7D%0A.atoti-hidden-in-snapshot%20%7Bdisplay%3A%20none%7D%3C%2Fstyle%3E%3Cdiv%20xmlns%3D%22http%3A%2F%2Fwww.w3.org%2F1999%2Fxhtml%22%20style%3D%22height%3A%20412px%3B%20width%3A%201310px%3B%22%3E%3Cdiv%20class%3D%22ant-root%20css-0%22%3E%3Cdiv%20class%3D%22ant-dropdown-trigger%20css-12ebr42-AWidget%22%3E%3Cdiv%20class%3D%22css-2p9ued-WidgetLoadingOverlay%22%3E%3Cdiv%20class%3D%22css-1b1raxz-DefaultWidgetLoadingOverlay%22%3E%3Cdiv%20class%3D%22css-34a2ml-DefaultWidgetLoadingOverlay%22%3E%3C%2Fdiv%3E%3C%2Fdiv%3E%3Cdiv%20class%3D%22css-1hwl8p1-Table%22%3E%3Cdiv%20tabindex%3D%220%22%20class%3D%22css-14ejcn0-Table%22%3E%3Cdiv%20class%3D%22css-1rxpjm0-ColumnResizeHint%22%3E%3Cdiv%20class%3D%22css-walxhl-ColumnResizeHint%22%3E%3C%2Fdiv%3E%3Cdiv%20class%3D%22css-1yzepaz-ColumnResizeHint%22%3E%3C%2Fdiv%3E%3C%2Fdiv%3E%3Cdiv%20class%3D%22css-1hq2630-Table%22%3E%3Cdiv%20class%3D%22css-cjaqq6-Table%22%3E%3Cdiv%20class%3D%22%20css-17cmzye%22%3E%3Cdiv%20class%3D%22css-1q24z4%22%3E%3Cdiv%20class%3D%22css-1hol363-ResizableCell%22%3E%3Cdiv%20class%3D%22aui-table-cell%22%20style%3D%22height%3A%2028px%3B%20left%3A%200px%3B%20top%3A%200px%3B%20width%3A%20115px%3B%20text-align%3A%20left%3B%20font-size%3A%2012px%3B%20padding%3A%204px%204px%203px%3B%20overflow%3A%20hidden%3B%20position%3A%20absolute%3B%20white-space%3A%20nowrap%3B%20text-overflow%3A%20ellipsis%3B%20font-weight%3A%20600%3B%20display%3A%20flex%3B%20align-items%3A%20center%3B%22%3E%3Cspan%3EAsOfDate%3C%2Fspan%3E%3C%2Fdiv%3E%3Cdiv%20class%3D%22css-xxcrt1-ResizableCell%22%3E%3C%2Fdiv%3E%3C%2Fdiv%3E%3Cdiv%20class%3D%22css-fpuq48-ResizableCell%22%3E%3Cdiv%20class%3D%22aui-table-cell%22%20style%3D%22height%3A%2028px%3B%20left%3A%200px%3B%20top%3A%200px%3B%20width%3A%20115px%3B%20text-align%3A%20left%3B%20font-size%3A%2012px%3B%20padding%3A%204px%204px%203px%3B%20overflow%3A%20hidden%3B%20position%3A%20absolute%3B%20white-space%3A%20nowrap%3B%20text-overflow%3A%20ellipsis%3B%20font-weight%3A%20600%3B%20display%3A%20flex%3B%20align-items%3A%20center%3B%22%3E%3Cspan%3ERiskFactor%3C%2Fspan%3E%3C%2Fdiv%3E%3Cdiv%20class%3D%22css-xxcrt1-ResizableCell%22%3E%3C%2Fdiv%3E%3C%2Fdiv%3E%3C%2Fdiv%3E%3C%2Fdiv%3E%3Cdiv%20class%3D%22aui-invisible-scrollbars%20css-1ye35qe%22%3E%3Cdiv%20class%3D%22css-1cy6ucf%22%3E%3Cdiv%20style%3D%22display%3A%20flex%3B%20align-items%3A%20center%3B%20height%3A%2028px%3B%20left%3A%200px%3B%20top%3A%200px%3B%20width%3A%20120px%3B%20text-align%3A%20left%3B%20font-size%3A%2012px%3B%20padding%3A%204px%204px%203px%3B%20overflow%3A%20hidden%3B%20position%3A%20absolute%3B%20white-space%3A%20nowrap%3B%20text-overflow%3A%20ellipsis%3B%20font-weight%3A%20600%3B%22%3E%3Cspan%20role%3D%22img%22%20aria-label%3D%22caret-down%22%20tabindex%3D%22-1%22%20class%3D%22anticon%20anticon-caret-down%22%20style%3D%22cursor%3A%20pointer%3B%20font-size%3A%2012px%3B%20margin-right%3A%206px%3B%20color%3A%20rgb(141%2C%20141%2C%20141)%3B%22%3E%3Csvg%20xmlns%3D%22http%3A%2F%2Fwww.w3.org%2F2000%2Fsvg%22%20viewBox%3D%220%200%201024%201024%22%20focusable%3D%22false%22%20data-icon%3D%22caret-down%22%20width%3D%221em%22%20height%3D%221em%22%20fill%3D%22currentColor%22%20aria-hidden%3D%22true%22%3E%3Cpath%20d%3D%22M840.4%20300H183.6c-19.7%200-30.7%2020.8-18.5%2035l328.4%20380.8c9.4%2010.9%2027.5%2010.9%2037%200L858.9%20335c12.2-14.2%201.2-35-18.5-35z%22%2F%3E%3C%2Fsvg%3E%3C%2Fspan%3E%3Cspan%20style%3D%22text-overflow%3A%20ellipsis%3B%20overflow%3A%20hidden%3B%20white-space%3A%20nowrap%3B%20max-width%3A%20calc((100%25%20-%2016px)%20-%200px)%3B%22%3E2020-07-09%3C%2Fspan%3E%3C%2Fdiv%3E%3Cdiv%20style%3D%22display%3A%20flex%3B%20align-items%3A%20center%3B%20height%3A%2028px%3B%20left%3A%20120px%3B%20top%3A%200px%3B%20width%3A%20120px%3B%20text-align%3A%20left%3B%20font-size%3A%2012px%3B%20padding%3A%204px%204px%203px%3B%20overflow%3A%20hidden%3B%20position%3A%20absolute%3B%20white-space%3A%20nowrap%3B%20text-overflow%3A%20ellipsis%3B%20border-right%3A%202px%20solid%20rgb(233%2C%20233%2C%20233)%3B%20background-color%3A%20transparent%3B%22%3E%3Cspan%20style%3D%22text-overflow%3A%20ellipsis%3B%20overflow%3A%20hidden%3B%20white-space%3A%20nowrap%3B%20max-width%3A%20calc((100%25%20-%200px)%20-%200px)%3B%22%3E%3C%2Fspan%3E%3C%2Fdiv%3E%3Cdiv%20style%3D%22display%3A%20none%3B%20align-items%3A%20center%3B%20height%3A%2028px%3B%20left%3A%200px%3B%20top%3A%2028px%3B%20width%3A%20120px%3B%20text-align%3A%20left%3B%20font-size%3A%2012px%3B%20padding%3A%204px%204px%203px%3B%20overflow%3A%20hidden%3B%20position%3A%20absolute%3B%20white-space%3A%20nowrap%3B%20text-overflow%3A%20ellipsis%3B%20font-weight%3A%20600%3B%22%3E%3Cspan%20role%3D%22img%22%20aria-label%3D%22caret-down%22%20tabindex%3D%22-1%22%20class%3D%22anticon%20anticon-caret-down%22%20style%3D%22cursor%3A%20pointer%3B%20font-size%3A%2012px%3B%20margin-right%3A%206px%3B%20color%3A%20rgb(141%2C%20141%2C%20141)%3B%22%3E%3Csvg%20xmlns%3D%22http%3A%2F%2Fwww.w3.org%2F2000%2Fsvg%22%20viewBox%3D%220%200%201024%201024%22%20focusable%3D%22false%22%20data-icon%3D%22caret-down%22%20width%3D%221em%22%20height%3D%221em%22%20fill%3D%22currentColor%22%20aria-hidden%3D%22true%22%3E%3Cpath%20d%3D%22M840.4%20300H183.6c-19.7%200-30.7%2020.8-18.5%2035l328.4%20380.8c9.4%2010.9%2027.5%2010.9%2037%200L858.9%20335c12.2-14.2%201.2-35-18.5-35z%22%2F%3E%3C%2Fsvg%3E%3C%2Fspan%3E%3Cspan%20style%3D%22text-overflow%3A%20ellipsis%3B%20overflow%3A%20hidden%3B%20white-space%3A%20nowrap%3B%20max-width%3A%20calc((100%25%20-%2016px)%20-%200px)%3B%22%3E2020-07-09%3C%2Fspan%3E%3C%2Fdiv%3E%3Cdiv%20style%3D%22display%3A%20flex%3B%20align-items%3A%20center%3B%20height%3A%2028px%3B%20left%3A%20120px%3B%20top%3A%2028px%3B%20width%3A%20120px%3B%20text-align%3A%20left%3B%20font-size%3A%2012px%3B%20padding%3A%204px%204px%203px%3B%20overflow%3A%20hidden%3B%20position%3A%20absolute%3B%20white-space%3A%20nowrap%3B%20text-overflow%3A%20ellipsis%3B%20border-right%3A%202px%20solid%20rgb(233%2C%20233%2C%20233)%3B%20background-color%3A%20rgb(250%2C%20250%2C%20250)%3B%22%3E%3Cspan%20style%3D%22text-overflow%3A%20ellipsis%3B%20overflow%3A%20hidden%3B%20white-space%3A%20nowrap%3B%20max-width%3A%20calc((100%25%20-%200px)%20-%200px)%3B%22%3EAAPL%3C%2Fspan%3E%3C%2Fdiv%3E%3Cdiv%20style%3D%22display%3A%20none%3B%20align-items%3A%20center%3B%20height%3A%2028px%3B%20left%3A%200px%3B%20top%3A%2056px%3B%20width%3A%20120px%3B%20text-align%3A%20left%3B%20font-size%3A%2012px%3B%20padding%3A%204px%204px%203px%3B%20overflow%3A%20hidden%3B%20position%3A%20absolute%3B%20white-space%3A%20nowrap%3B%20text-overflow%3A%20ellipsis%3B%20font-weight%3A%20600%3B%22%3E%3Cspan%20role%3D%22img%22%20aria-label%3D%22caret-down%22%20tabindex%3D%22-1%22%20class%3D%22anticon%20anticon-caret-down%22%20style%3D%22cursor%3A%20pointer%3B%20font-size%3A%2012px%3B%20margin-right%3A%206px%3B%20color%3A%20rgb(141%2C%20141%2C%20141)%3B%22%3E%3Csvg%20xmlns%3D%22http%3A%2F%2Fwww.w3.org%2F2000%2Fsvg%22%20viewBox%3D%220%200%201024%201024%22%20focusable%3D%22false%22%20data-icon%3D%22caret-down%22%20width%3D%221em%22%20height%3D%221em%22%20fill%3D%22currentColor%22%20aria-hidden%3D%22true%22%3E%3Cpath%20d%3D%22M840.4%20300H183.6c-19.7%200-30.7%2020.8-18.5%2035l328.4%20380.8c9.4%2010.9%2027.5%2010.9%2037%200L858.9%20335c12.2-14.2%201.2-35-18.5-35z%22%2F%3E%3C%2Fsvg%3E%3C%2Fspan%3E%3Cspan%20style%3D%22text-overflow%3A%20ellipsis%3B%20overflow%3A%20hidden%3B%20white-space%3A%20nowrap%3B%20max-width%3A%20calc((100%25%20-%2016px)%20-%200px)%3B%22%3E2020-07-09%3C%2Fspan%3E%3C%2Fdiv%3E%3Cdiv%20style%3D%22display%3A%20flex%3B%20align-items%3A%20center%3B%20height%3A%2028px%3B%20left%3A%20120px%3B%20top%3A%2056px%3B%20width%3A%20120px%3B%20text-align%3A%20left%3B%20font-size%3A%2012px%3B%20padding%3A%204px%204px%203px%3B%20overflow%3A%20hidden%3B%20position%3A%20absolute%3B%20white-space%3A%20nowrap%3B%20text-overflow%3A%20ellipsis%3B%20border-right%3A%202px%20solid%20rgb(233%2C%20233%2C%20233)%3B%20background-color%3A%20transparent%3B%22%3E%3Cspan%20style%3D%22text-overflow%3A%20ellipsis%3B%20overflow%3A%20hidden%3B%20white-space%3A%20nowrap%3B%20max-width%3A%20calc((100%25%20-%200px)%20-%200px)%3B%22%3EMSFT%3C%2Fspan%3E%3C%2Fdiv%3E%3Cdiv%20style%3D%22display%3A%20none%3B%20align-items%3A%20center%3B%20height%3A%2028px%3B%20left%3A%200px%3B%20top%3A%2084px%3B%20width%3A%20120px%3B%20text-align%3A%20left%3B%20font-size%3A%2012px%3B%20padding%3A%204px%204px%203px%3B%20overflow%3A%20hidden%3B%20position%3A%20absolute%3B%20white-space%3A%20nowrap%3B%20text-overflow%3A%20ellipsis%3B%20font-weight%3A%20600%3B%22%3E%3Cspan%20role%3D%22img%22%20aria-label%3D%22caret-down%22%20tabindex%3D%22-1%22%20class%3D%22anticon%20anticon-caret-down%22%20style%3D%22cursor%3A%20pointer%3B%20font-size%3A%2012px%3B%20margin-right%3A%206px%3B%20color%3A%20rgb(141%2C%20141%2C%20141)%3B%22%3E%3Csvg%20xmlns%3D%22http%3A%2F%2Fwww.w3.org%2F2000%2Fsvg%22%20viewBox%3D%220%200%201024%201024%22%20focusable%3D%22false%22%20data-icon%3D%22caret-down%22%20width%3D%221em%22%20height%3D%221em%22%20fill%3D%22currentColor%22%20aria-hidden%3D%22true%22%3E%3Cpath%20d%3D%22M840.4%20300H183.6c-19.7%200-30.7%2020.8-18.5%2035l328.4%20380.8c9.4%2010.9%2027.5%2010.9%2037%200L858.9%20335c12.2-14.2%201.2-35-18.5-35z%22%2F%3E%3C%2Fsvg%3E%3C%2Fspan%3E%3Cspan%20style%3D%22text-overflow%3A%20ellipsis%3B%20overflow%3A%20hidden%3B%20white-space%3A%20nowrap%3B%20max-width%3A%20calc((100%25%20-%2016px)%20-%200px)%3B%22%3E2020-07-09%3C%2Fspan%3E%3C%2Fdiv%3E%3Cdiv%20style%3D%22display%3A%20flex%3B%20align-items%3A%20center%3B%20height%3A%2028px%3B%20left%3A%20120px%3B%20top%3A%2084px%3B%20width%3A%20120px%3B%20text-align%3A%20left%3B%20font-size%3A%2012px%3B%20padding%3A%204px%204px%203px%3B%20overflow%3A%20hidden%3B%20position%3A%20absolute%3B%20white-space%3A%20nowrap%3B%20text-overflow%3A%20ellipsis%3B%20border-right%3A%202px%20solid%20rgb(233%2C%20233%2C%20233)%3B%20background-color%3A%20rgb(250%2C%20250%2C%20250)%3B%22%3E%3Cspan%20style%3D%22text-overflow%3A%20ellipsis%3B%20overflow%3A%20hidden%3B%20white-space%3A%20nowrap%3B%20max-width%3A%20calc((100%25%20-%200px)%20-%200px)%3B%22%3EOXY%3C%2Fspan%3E%3C%2Fdiv%3E%3Cdiv%20style%3D%22display%3A%20flex%3B%20align-items%3A%20center%3B%20height%3A%2028px%3B%20left%3A%200px%3B%20top%3A%20112px%3B%20width%3A%20120px%3B%20text-align%3A%20left%3B%20font-size%3A%2012px%3B%20padding%3A%204px%204px%203px%3B%20overflow%3A%20hidden%3B%20position%3A%20absolute%3B%20white-space%3A%20nowrap%3B%20text-overflow%3A%20ellipsis%3B%20border-top%3A%201px%20solid%20rgb(233%2C%20233%2C%20233)%3B%20font-weight%3A%20600%3B%22%3E%3Cspan%20role%3D%22img%22%20aria-label%3D%22caret-down%22%20tabindex%3D%22-1%22%20class%3D%22anticon%20anticon-caret-down%22%20style%3D%22cursor%3A%20pointer%3B%20font-size%3A%2012px%3B%20margin-right%3A%206px%3B%20color%3A%20rgb(141%2C%20141%2C%20141)%3B%22%3E%3Csvg%20xmlns%3D%22http%3A%2F%2Fwww.w3.org%2F2000%2Fsvg%22%20viewBox%3D%220%200%201024%201024%22%20focusable%3D%22false%22%20data-icon%3D%22caret-down%22%20width%3D%221em%22%20height%3D%221em%22%20fill%3D%22currentColor%22%20aria-hidden%3D%22true%22%3E%3Cpath%20d%3D%22M840.4%20300H183.6c-19.7%200-30.7%2020.8-18.5%2035l328.4%20380.8c9.4%2010.9%2027.5%2010.9%2037%200L858.9%20335c12.2-14.2%201.2-35-18.5-35z%22%2F%3E%3C%2Fsvg%3E%3C%2Fspan%3E%3Cspan%20style%3D%22text-overflow%3A%20ellipsis%3B%20overflow%3A%20hidden%3B%20white-space%3A%20nowrap%3B%20max-width%3A%20calc((100%25%20-%2016px)%20-%200px)%3B%22%3E2020-07-08%3C%2Fspan%3E%3C%2Fdiv%3E%3Cdiv%20style%3D%22display%3A%20flex%3B%20align-items%3A%20center%3B%20height%3A%2028px%3B%20left%3A%20120px%3B%20top%3A%20112px%3B%20width%3A%20120px%3B%20text-align%3A%20left%3B%20font-size%3A%2012px%3B%20padding%3A%204px%204px%203px%3B%20overflow%3A%20hidden%3B%20position%3A%20absolute%3B%20white-space%3A%20nowrap%3B%20text-overflow%3A%20ellipsis%3B%20border-right%3A%202px%20solid%20rgb(233%2C%20233%2C%20233)%3B%20border-top%3A%201px%20solid%20rgb(233%2C%20233%2C%20233)%3B%20background-color%3A%20transparent%3B%22%3E%3Cspan%20style%3D%22text-overflow%3A%20ellipsis%3B%20overflow%3A%20hidden%3B%20white-space%3A%20nowrap%3B%20max-width%3A%20calc((100%25%20-%200px)%20-%200px)%3B%22%3E%3C%2Fspan%3E%3C%2Fdiv%3E%3Cdiv%20style%3D%22display%3A%20none%3B%20align-items%3A%20center%3B%20height%3A%2028px%3B%20left%3A%200px%3B%20top%3A%20140px%3B%20width%3A%20120px%3B%20text-align%3A%20left%3B%20font-size%3A%2012px%3B%20padding%3A%204px%204px%203px%3B%20overflow%3A%20hidden%3B%20position%3A%20absolute%3B%20white-space%3A%20nowrap%3B%20text-overflow%3A%20ellipsis%3B%20font-weight%3A%20600%3B%22%3E%3Cspan%20role%3D%22img%22%20aria-label%3D%22caret-down%22%20tabindex%3D%22-1%22%20class%3D%22anticon%20anticon-caret-down%22%20style%3D%22cursor%3A%20pointer%3B%20font-size%3A%2012px%3B%20margin-right%3A%206px%3B%20color%3A%20rgb(141%2C%20141%2C%20141)%3B%22%3E%3Csvg%20xmlns%3D%22http%3A%2F%2Fwww.w3.org%2F2000%2Fsvg%22%20viewBox%3D%220%200%201024%201024%22%20focusable%3D%22false%22%20data-icon%3D%22caret-down%22%20width%3D%221em%22%20height%3D%221em%22%20fill%3D%22currentColor%22%20aria-hidden%3D%22true%22%3E%3Cpath%20d%3D%22M840.4%20300H183.6c-19.7%200-30.7%2020.8-18.5%2035l328.4%20380.8c9.4%2010.9%2027.5%2010.9%2037%200L858.9%20335c12.2-14.2%201.2-35-18.5-35z%22%2F%3E%3C%2Fsvg%3E%3C%2Fspan%3E%3Cspan%20style%3D%22text-overflow%3A%20ellipsis%3B%20overflow%3A%20hidden%3B%20white-space%3A%20nowrap%3B%20max-width%3A%20calc((100%25%20-%2016px)%20-%200px)%3B%22%3E2020-07-08%3C%2Fspan%3E%3C%2Fdiv%3E%3Cdiv%20style%3D%22display%3A%20flex%3B%20align-items%3A%20center%3B%20height%3A%2028px%3B%20left%3A%20120px%3B%20top%3A%20140px%3B%20width%3A%20120px%3B%20text-align%3A%20left%3B%20font-size%3A%2012px%3B%20padding%3A%204px%204px%203px%3B%20overflow%3A%20hidden%3B%20position%3A%20absolute%3B%20white-space%3A%20nowrap%3B%20text-overflow%3A%20ellipsis%3B%20border-right%3A%202px%20solid%20rgb(233%2C%20233%2C%20233)%3B%20background-color%3A%20rgb(250%2C%20250%2C%20250)%3B%22%3E%3Cspan%20style%3D%22text-overflow%3A%20ellipsis%3B%20overflow%3A%20hidden%3B%20white-space%3A%20nowrap%3B%20max-width%3A%20calc((100%25%20-%200px)%20-%200px)%3B%22%3EAAPL%3C%2Fspan%3E%3C%2Fdiv%3E%3Cdiv%20style%3D%22display%3A%20none%3B%20align-items%3A%20center%3B%20height%3A%2028px%3B%20left%3A%200px%3B%20top%3A%20168px%3B%20width%3A%20120px%3B%20text-align%3A%20left%3B%20font-size%3A%2012px%3B%20padding%3A%204px%204px%203px%3B%20overflow%3A%20hidden%3B%20position%3A%20absolute%3B%20white-space%3A%20nowrap%3B%20text-overflow%3A%20ellipsis%3B%20font-weight%3A%20600%3B%22%3E%3Cspan%20role%3D%22img%22%20aria-label%3D%22caret-down%22%20tabindex%3D%22-1%22%20class%3D%22anticon%20anticon-caret-down%22%20style%3D%22cursor%3A%20pointer%3B%20font-size%3A%2012px%3B%20margin-right%3A%206px%3B%20color%3A%20rgb(141%2C%20141%2C%20141)%3B%22%3E%3Csvg%20xmlns%3D%22http%3A%2F%2Fwww.w3.org%2F2000%2Fsvg%22%20viewBox%3D%220%200%201024%201024%22%20focusable%3D%22false%22%20data-icon%3D%22caret-down%22%20width%3D%221em%22%20height%3D%221em%22%20fill%3D%22currentColor%22%20aria-hidden%3D%22true%22%3E%3Cpath%20d%3D%22M840.4%20300H183.6c-19.7%200-30.7%2020.8-18.5%2035l328.4%20380.8c9.4%2010.9%2027.5%2010.9%2037%200L858.9%20335c12.2-14.2%201.2-35-18.5-35z%22%2F%3E%3C%2Fsvg%3E%3C%2Fspan%3E%3Cspan%20style%3D%22text-overflow%3A%20ellipsis%3B%20overflow%3A%20hidden%3B%20white-space%3A%20nowrap%3B%20max-width%3A%20calc((100%25%20-%2016px)%20-%200px)%3B%22%3E2020-07-08%3C%2Fspan%3E%3C%2Fdiv%3E%3Cdiv%20style%3D%22display%3A%20flex%3B%20align-items%3A%20center%3B%20height%3A%2028px%3B%20left%3A%20120px%3B%20top%3A%20168px%3B%20width%3A%20120px%3B%20text-align%3A%20left%3B%20font-size%3A%2012px%3B%20padding%3A%204px%204px%203px%3B%20overflow%3A%20hidden%3B%20position%3A%20absolute%3B%20white-space%3A%20nowrap%3B%20text-overflow%3A%20ellipsis%3B%20border-right%3A%202px%20solid%20rgb(233%2C%20233%2C%20233)%3B%20background-color%3A%20transparent%3B%22%3E%3Cspan%20style%3D%22text-overflow%3A%20ellipsis%3B%20overflow%3A%20hidden%3B%20white-space%3A%20nowrap%3B%20max-width%3A%20calc((100%25%20-%200px)%20-%200px)%3B%22%3EMSFT%3C%2Fspan%3E%3C%2Fdiv%3E%3Cdiv%20style%3D%22display%3A%20none%3B%20align-items%3A%20center%3B%20height%3A%2028px%3B%20left%3A%200px%3B%20top%3A%20196px%3B%20width%3A%20120px%3B%20text-align%3A%20left%3B%20font-size%3A%2012px%3B%20padding%3A%204px%204px%203px%3B%20overflow%3A%20hidden%3B%20position%3A%20absolute%3B%20white-space%3A%20nowrap%3B%20text-overflow%3A%20ellipsis%3B%20font-weight%3A%20600%3B%22%3E%3Cspan%20role%3D%22img%22%20aria-label%3D%22caret-down%22%20tabindex%3D%22-1%22%20class%3D%22anticon%20anticon-caret-down%22%20style%3D%22cursor%3A%20pointer%3B%20font-size%3A%2012px%3B%20margin-right%3A%206px%3B%20color%3A%20rgb(141%2C%20141%2C%20141)%3B%22%3E%3Csvg%20xmlns%3D%22http%3A%2F%2Fwww.w3.org%2F2000%2Fsvg%22%20viewBox%3D%220%200%201024%201024%22%20focusable%3D%22false%22%20data-icon%3D%22caret-down%22%20width%3D%221em%22%20height%3D%221em%22%20fill%3D%22currentColor%22%20aria-hidden%3D%22true%22%3E%3Cpath%20d%3D%22M840.4%20300H183.6c-19.7%200-30.7%2020.8-18.5%2035l328.4%20380.8c9.4%2010.9%2027.5%2010.9%2037%200L858.9%20335c12.2-14.2%201.2-35-18.5-35z%22%2F%3E%3C%2Fsvg%3E%3C%2Fspan%3E%3Cspan%20style%3D%22text-overflow%3A%20ellipsis%3B%20overflow%3A%20hidden%3B%20white-space%3A%20nowrap%3B%20max-width%3A%20calc((100%25%20-%2016px)%20-%200px)%3B%22%3E2020-07-08%3C%2Fspan%3E%3C%2Fdiv%3E%3Cdiv%20style%3D%22display%3A%20flex%3B%20align-items%3A%20center%3B%20height%3A%2028px%3B%20left%3A%20120px%3B%20top%3A%20196px%3B%20width%3A%20120px%3B%20text-align%3A%20left%3B%20font-size%3A%2012px%3B%20padding%3A%204px%204px%203px%3B%20overflow%3A%20hidden%3B%20position%3A%20absolute%3B%20white-space%3A%20nowrap%3B%20text-overflow%3A%20ellipsis%3B%20border-right%3A%202px%20solid%20rgb(233%2C%20233%2C%20233)%3B%20background-color%3A%20rgb(250%2C%20250%2C%20250)%3B%22%3E%3Cspan%20style%3D%22text-overflow%3A%20ellipsis%3B%20overflow%3A%20hidden%3B%20white-space%3A%20nowrap%3B%20max-width%3A%20calc((100%25%20-%200px)%20-%200px)%3B%22%3EOXY%3C%2Fspan%3E%3C%2Fdiv%3E%3Cdiv%20style%3D%22display%3A%20flex%3B%20align-items%3A%20center%3B%20height%3A%2028px%3B%20left%3A%200px%3B%20top%3A%20224px%3B%20width%3A%20120px%3B%20text-align%3A%20left%3B%20font-size%3A%2012px%3B%20padding%3A%204px%204px%203px%3B%20overflow%3A%20hidden%3B%20position%3A%20absolute%3B%20white-space%3A%20nowrap%3B%20text-overflow%3A%20ellipsis%3B%20border-top%3A%201px%20solid%20rgb(233%2C%20233%2C%20233)%3B%20font-weight%3A%20600%3B%22%3E%3Cspan%20role%3D%22img%22%20aria-label%3D%22caret-down%22%20tabindex%3D%22-1%22%20class%3D%22anticon%20anticon-caret-down%22%20style%3D%22cursor%3A%20pointer%3B%20font-size%3A%2012px%3B%20margin-right%3A%206px%3B%20color%3A%20rgb(141%2C%20141%2C%20141)%3B%22%3E%3Csvg%20xmlns%3D%22http%3A%2F%2Fwww.w3.org%2F2000%2Fsvg%22%20viewBox%3D%220%200%201024%201024%22%20focusable%3D%22false%22%20data-icon%3D%22caret-down%22%20width%3D%221em%22%20height%3D%221em%22%20fill%3D%22currentColor%22%20aria-hidden%3D%22true%22%3E%3Cpath%20d%3D%22M840.4%20300H183.6c-19.7%200-30.7%2020.8-18.5%2035l328.4%20380.8c9.4%2010.9%2027.5%2010.9%2037%200L858.9%20335c12.2-14.2%201.2-35-18.5-35z%22%2F%3E%3C%2Fsvg%3E%3C%2Fspan%3E%3Cspan%20style%3D%22text-overflow%3A%20ellipsis%3B%20overflow%3A%20hidden%3B%20white-space%3A%20nowrap%3B%20max-width%3A%20calc((100%25%20-%2016px)%20-%200px)%3B%22%3E2020-07-07%3C%2Fspan%3E%3C%2Fdiv%3E%3Cdiv%20style%3D%22display%3A%20flex%3B%20align-items%3A%20center%3B%20height%3A%2028px%3B%20left%3A%20120px%3B%20top%3A%20224px%3B%20width%3A%20120px%3B%20text-align%3A%20left%3B%20font-size%3A%2012px%3B%20padding%3A%204px%204px%203px%3B%20overflow%3A%20hidden%3B%20position%3A%20absolute%3B%20white-space%3A%20nowrap%3B%20text-overflow%3A%20ellipsis%3B%20border-right%3A%202px%20solid%20rgb(233%2C%20233%2C%20233)%3B%20border-top%3A%201px%20solid%20rgb(233%2C%20233%2C%20233)%3B%20background-color%3A%20transparent%3B%22%3E%3Cspan%20style%3D%22text-overflow%3A%20ellipsis%3B%20overflow%3A%20hidden%3B%20white-space%3A%20nowrap%3B%20max-width%3A%20calc((100%25%20-%200px)%20-%200px)%3B%22%3E%3C%2Fspan%3E%3C%2Fdiv%3E%3Cdiv%20style%3D%22display%3A%20none%3B%20align-items%3A%20center%3B%20height%3A%2028px%3B%20left%3A%200px%3B%20top%3A%20252px%3B%20width%3A%20120px%3B%20text-align%3A%20left%3B%20font-size%3A%2012px%3B%20padding%3A%204px%204px%203px%3B%20overflow%3A%20hidden%3B%20position%3A%20absolute%3B%20white-space%3A%20nowrap%3B%20text-overflow%3A%20ellipsis%3B%20font-weight%3A%20600%3B%22%3E%3Cspan%20role%3D%22img%22%20aria-label%3D%22caret-down%22%20tabindex%3D%22-1%22%20class%3D%22anticon%20anticon-caret-down%22%20style%3D%22cursor%3A%20pointer%3B%20font-size%3A%2012px%3B%20margin-right%3A%206px%3B%20color%3A%20rgb(141%2C%20141%2C%20141)%3B%22%3E%3Csvg%20xmlns%3D%22http%3A%2F%2Fwww.w3.org%2F2000%2Fsvg%22%20viewBox%3D%220%200%201024%201024%22%20focusable%3D%22false%22%20data-icon%3D%22caret-down%22%20width%3D%221em%22%20height%3D%221em%22%20fill%3D%22currentColor%22%20aria-hidden%3D%22true%22%3E%3Cpath%20d%3D%22M840.4%20300H183.6c-19.7%200-30.7%2020.8-18.5%2035l328.4%20380.8c9.4%2010.9%2027.5%2010.9%2037%200L858.9%20335c12.2-14.2%201.2-35-18.5-35z%22%2F%3E%3C%2Fsvg%3E%3C%2Fspan%3E%3Cspan%20style%3D%22text-overflow%3A%20ellipsis%3B%20overflow%3A%20hidden%3B%20white-space%3A%20nowrap%3B%20max-width%3A%20calc((100%25%20-%2016px)%20-%200px)%3B%22%3E2020-07-07%3C%2Fspan%3E%3C%2Fdiv%3E%3Cdiv%20style%3D%22display%3A%20flex%3B%20align-items%3A%20center%3B%20height%3A%2028px%3B%20left%3A%20120px%3B%20top%3A%20252px%3B%20width%3A%20120px%3B%20text-align%3A%20left%3B%20font-size%3A%2012px%3B%20padding%3A%204px%204px%203px%3B%20overflow%3A%20hidden%3B%20position%3A%20absolute%3B%20white-space%3A%20nowrap%3B%20text-overflow%3A%20ellipsis%3B%20border-right%3A%202px%20solid%20rgb(233%2C%20233%2C%20233)%3B%20background-color%3A%20rgb(250%2C%20250%2C%20250)%3B%22%3E%3Cspan%20style%3D%22text-overflow%3A%20ellipsis%3B%20overflow%3A%20hidden%3B%20white-space%3A%20nowrap%3B%20max-width%3A%20calc((100%25%20-%200px)%20-%200px)%3B%22%3EAAPL%3C%2Fspan%3E%3C%2Fdiv%3E%3Cdiv%20style%3D%22display%3A%20none%3B%20align-items%3A%20center%3B%20height%3A%2028px%3B%20left%3A%200px%3B%20top%3A%20280px%3B%20width%3A%20120px%3B%20text-align%3A%20left%3B%20font-size%3A%2012px%3B%20padding%3A%204px%204px%203px%3B%20overflow%3A%20hidden%3B%20position%3A%20absolute%3B%20white-space%3A%20nowrap%3B%20text-overflow%3A%20ellipsis%3B%20font-weight%3A%20600%3B%22%3E%3Cspan%20role%3D%22img%22%20aria-label%3D%22caret-down%22%20tabindex%3D%22-1%22%20class%3D%22anticon%20anticon-caret-down%22%20style%3D%22cursor%3A%20pointer%3B%20font-size%3A%2012px%3B%20margin-right%3A%206px%3B%20color%3A%20rgb(141%2C%20141%2C%20141)%3B%22%3E%3Csvg%20xmlns%3D%22http%3A%2F%2Fwww.w3.org%2F2000%2Fsvg%22%20viewBox%3D%220%200%201024%201024%22%20focusable%3D%22false%22%20data-icon%3D%22caret-down%22%20width%3D%221em%22%20height%3D%221em%22%20fill%3D%22currentColor%22%20aria-hidden%3D%22true%22%3E%3Cpath%20d%3D%22M840.4%20300H183.6c-19.7%200-30.7%2020.8-18.5%2035l328.4%20380.8c9.4%2010.9%2027.5%2010.9%2037%200L858.9%20335c12.2-14.2%201.2-35-18.5-35z%22%2F%3E%3C%2Fsvg%3E%3C%2Fspan%3E%3Cspan%20style%3D%22text-overflow%3A%20ellipsis%3B%20overflow%3A%20hidden%3B%20white-space%3A%20nowrap%3B%20max-width%3A%20calc((100%25%20-%2016px)%20-%200px)%3B%22%3E2020-07-07%3C%2Fspan%3E%3C%2Fdiv%3E%3Cdiv%20style%3D%22display%3A%20flex%3B%20align-items%3A%20center%3B%20height%3A%2028px%3B%20left%3A%20120px%3B%20top%3A%20280px%3B%20width%3A%20120px%3B%20text-align%3A%20left%3B%20font-size%3A%2012px%3B%20padding%3A%204px%204px%203px%3B%20overflow%3A%20hidden%3B%20position%3A%20absolute%3B%20white-space%3A%20nowrap%3B%20text-overflow%3A%20ellipsis%3B%20border-right%3A%202px%20solid%20rgb(233%2C%20233%2C%20233)%3B%20background-color%3A%20transparent%3B%22%3E%3Cspan%20style%3D%22text-overflow%3A%20ellipsis%3B%20overflow%3A%20hidden%3B%20white-space%3A%20nowrap%3B%20max-width%3A%20calc((100%25%20-%200px)%20-%200px)%3B%22%3EMSFT%3C%2Fspan%3E%3C%2Fdiv%3E%3Cdiv%20style%3D%22display%3A%20none%3B%20align-items%3A%20center%3B%20height%3A%2028px%3B%20left%3A%200px%3B%20top%3A%20308px%3B%20width%3A%20120px%3B%20text-align%3A%20left%3B%20font-size%3A%2012px%3B%20padding%3A%204px%204px%203px%3B%20overflow%3A%20hidden%3B%20position%3A%20absolute%3B%20white-space%3A%20nowrap%3B%20text-overflow%3A%20ellipsis%3B%20font-weight%3A%20600%3B%22%3E%3Cspan%20role%3D%22img%22%20aria-label%3D%22caret-down%22%20tabindex%3D%22-1%22%20class%3D%22anticon%20anticon-caret-down%22%20style%3D%22cursor%3A%20pointer%3B%20font-size%3A%2012px%3B%20margin-right%3A%206px%3B%20color%3A%20rgb(141%2C%20141%2C%20141)%3B%22%3E%3Csvg%20xmlns%3D%22http%3A%2F%2Fwww.w3.org%2F2000%2Fsvg%22%20viewBox%3D%220%200%201024%201024%22%20focusable%3D%22false%22%20data-icon%3D%22caret-down%22%20width%3D%221em%22%20height%3D%221em%22%20fill%3D%22currentColor%22%20aria-hidden%3D%22true%22%3E%3Cpath%20d%3D%22M840.4%20300H183.6c-19.7%200-30.7%2020.8-18.5%2035l328.4%20380.8c9.4%2010.9%2027.5%2010.9%2037%200L858.9%20335c12.2-14.2%201.2-35-18.5-35z%22%2F%3E%3C%2Fsvg%3E%3C%2Fspan%3E%3Cspan%20style%3D%22text-overflow%3A%20ellipsis%3B%20overflow%3A%20hidden%3B%20white-space%3A%20nowrap%3B%20max-width%3A%20calc((100%25%20-%2016px)%20-%200px)%3B%22%3E2020-07-07%3C%2Fspan%3E%3C%2Fdiv%3E%3Cdiv%20style%3D%22display%3A%20flex%3B%20align-items%3A%20center%3B%20height%3A%2028px%3B%20left%3A%20120px%3B%20top%3A%20308px%3B%20width%3A%20120px%3B%20text-align%3A%20left%3B%20font-size%3A%2012px%3B%20padding%3A%204px%204px%203px%3B%20overflow%3A%20hidden%3B%20position%3A%20absolute%3B%20white-space%3A%20nowrap%3B%20text-overflow%3A%20ellipsis%3B%20border-right%3A%202px%20solid%20rgb(233%2C%20233%2C%20233)%3B%20background-color%3A%20rgb(250%2C%20250%2C%20250)%3B%22%3E%3Cspan%20style%3D%22text-overflow%3A%20ellipsis%3B%20overflow%3A%20hidden%3B%20white-space%3A%20nowrap%3B%20max-width%3A%20calc((100%25%20-%200px)%20-%200px)%3B%22%3EOXY%3C%2Fspan%3E%3C%2Fdiv%3E%3Cdiv%20style%3D%22display%3A%20flex%3B%20align-items%3A%20center%3B%20height%3A%2028px%3B%20left%3A%200px%3B%20top%3A%20336px%3B%20width%3A%20120px%3B%20text-align%3A%20left%3B%20font-size%3A%2012px%3B%20padding%3A%204px%204px%203px%3B%20overflow%3A%20hidden%3B%20position%3A%20absolute%3B%20white-space%3A%20nowrap%3B%20text-overflow%3A%20ellipsis%3B%20border-top%3A%201px%20solid%20rgb(233%2C%20233%2C%20233)%3B%20font-weight%3A%20600%3B%22%3E%3Cspan%20role%3D%22img%22%20aria-label%3D%22caret-right%22%20tabindex%3D%22-1%22%20class%3D%22anticon%20anticon-caret-right%22%20style%3D%22cursor%3A%20pointer%3B%20font-size%3A%2012px%3B%20margin-right%3A%206px%3B%20color%3A%20rgb(217%2C%20217%2C%20217)%3B%22%3E%3Csvg%20xmlns%3D%22http%3A%2F%2Fwww.w3.org%2F2000%2Fsvg%22%20viewBox%3D%220%200%201024%201024%22%20focusable%3D%22false%22%20data-icon%3D%22caret-right%22%20width%3D%221em%22%20height%3D%221em%22%20fill%3D%22currentColor%22%20aria-hidden%3D%22true%22%3E%3Cpath%20d%3D%22M715.8%20493.5L335%20165.1c-14.2-12.2-35-1.2-35%2018.5v656.8c0%2019.7%2020.8%2030.7%2035%2018.5l380.8-328.4c10.9-9.4%2010.9-27.6%200-37z%22%2F%3E%3C%2Fsvg%3E%3C%2Fspan%3E%3Cspan%20style%3D%22text-overflow%3A%20ellipsis%3B%20overflow%3A%20hidden%3B%20white-space%3A%20nowrap%3B%20max-width%3A%20calc((100%25%20-%2016px)%20-%200px)%3B%22%3E2020-07-06%3C%2Fspan%3E%3C%2Fdiv%3E%3Cdiv%20style%3D%22display%3A%20flex%3B%20align-items%3A%20center%3B%20height%3A%2028px%3B%20left%3A%20120px%3B%20top%3A%20336px%3B%20width%3A%20120px%3B%20text-align%3A%20left%3B%20font-size%3A%2012px%3B%20padding%3A%204px%204px%203px%3B%20overflow%3A%20hidden%3B%20position%3A%20absolute%3B%20white-space%3A%20nowrap%3B%20text-overflow%3A%20ellipsis%3B%20border-right%3A%202px%20solid%20rgb(233%2C%20233%2C%20233)%3B%20border-top%3A%201px%20solid%20rgb(233%2C%20233%2C%20233)%3B%20background-color%3A%20transparent%3B%22%3E%3Cspan%20style%3D%22text-overflow%3A%20ellipsis%3B%20overflow%3A%20hidden%3B%20white-space%3A%20nowrap%3B%20max-width%3A%20calc((100%25%20-%200px)%20-%200px)%3B%22%3E%3C%2Fspan%3E%3C%2Fdiv%3E%3Cdiv%20style%3D%22display%3A%20flex%3B%20align-items%3A%20center%3B%20height%3A%2028px%3B%20left%3A%200px%3B%20top%3A%20364px%3B%20width%3A%20120px%3B%20text-align%3A%20left%3B%20font-size%3A%2012px%3B%20padding%3A%204px%204px%203px%3B%20overflow%3A%20hidden%3B%20position%3A%20absolute%3B%20white-space%3A%20nowrap%3B%20text-overflow%3A%20ellipsis%3B%20border-top%3A%201px%20solid%20rgb(233%2C%20233%2C%20233)%3B%20font-weight%3A%20600%3B%22%3E%3Cspan%20role%3D%22img%22%20aria-label%3D%22caret-right%22%20tabindex%3D%22-1%22%20class%3D%22anticon%20anticon-caret-right%22%20style%3D%22cursor%3A%20pointer%3B%20font-size%3A%2012px%3B%20margin-right%3A%206px%3B%20color%3A%20rgb(217%2C%20217%2C%20217)%3B%22%3E%3Csvg%20xmlns%3D%22http%3A%2F%2Fwww.w3.org%2F2000%2Fsvg%22%20viewBox%3D%220%200%201024%201024%22%20focusable%3D%22false%22%20data-icon%3D%22caret-right%22%20width%3D%221em%22%20height%3D%221em%22%20fill%3D%22currentColor%22%20aria-hidden%3D%22true%22%3E%3Cpath%20d%3D%22M715.8%20493.5L335%20165.1c-14.2-12.2-35-1.2-35%2018.5v656.8c0%2019.7%2020.8%2030.7%2035%2018.5l380.8-328.4c10.9-9.4%2010.9-27.6%200-37z%22%2F%3E%3C%2Fsvg%3E%3C%2Fspan%3E%3Cspan%20style%3D%22text-overflow%3A%20ellipsis%3B%20overflow%3A%20hidden%3B%20white-space%3A%20nowrap%3B%20max-width%3A%20calc((100%25%20-%2016px)%20-%200px)%3B%22%3E2020-07-05%3C%2Fspan%3E%3C%2Fdiv%3E%3Cdiv%20style%3D%22display%3A%20flex%3B%20align-items%3A%20center%3B%20height%3A%2028px%3B%20left%3A%20120px%3B%20top%3A%20364px%3B%20width%3A%20120px%3B%20text-align%3A%20left%3B%20font-size%3A%2012px%3B%20padding%3A%204px%204px%203px%3B%20overflow%3A%20hidden%3B%20position%3A%20absolute%3B%20white-space%3A%20nowrap%3B%20text-overflow%3A%20ellipsis%3B%20border-right%3A%202px%20solid%20rgb(233%2C%20233%2C%20233)%3B%20border-top%3A%201px%20solid%20rgb(233%2C%20233%2C%20233)%3B%20background-color%3A%20transparent%3B%22%3E%3Cspan%20style%3D%22text-overflow%3A%20ellipsis%3B%20overflow%3A%20hidden%3B%20white-space%3A%20nowrap%3B%20max-width%3A%20calc((100%25%20-%200px)%20-%200px)%3B%22%3E%3C%2Fspan%3E%3C%2Fdiv%3E%3C%2Fdiv%3E%3C%2Fdiv%3E%3C%2Fdiv%3E%3Cdiv%20class%3D%22css-1farq9y-Table%22%3E%3Cdiv%20class%3D%22aui-invisible-scrollbars%20css-1p13kwu%22%3E%3Cdiv%20class%3D%22css-1jtaj6k%22%3E%3Cdiv%20class%3D%22css-1hol363-ResizableCell%22%3E%3Cdiv%20style%3D%22display%3A%20flex%3B%20align-items%3A%20center%3B%20height%3A%2028px%3B%20left%3A%200px%3B%20top%3A%200px%3B%20width%3A%20115px%3B%20text-align%3A%20left%3B%20font-size%3A%2012px%3B%20padding%3A%204px%204px%203px%3B%20overflow%3A%20hidden%3B%20position%3A%20absolute%3B%20white-space%3A%20nowrap%3B%20text-overflow%3A%20ellipsis%3B%20font-weight%3A%20600%3B%22%3E%3Cspan%20style%3D%22text-overflow%3A%20ellipsis%3B%20overflow%3A%20hidden%3B%20white-space%3A%20nowrap%3B%20max-width%3A%20calc((100%25%20-%200px)%20-%200px)%3B%22%3EDelta.SUM%3C%2Fspan%3E%3C%2Fdiv%3E%3Cdiv%20class%3D%22css-xxcrt1-ResizableCell%22%3E%3C%2Fdiv%3E%3C%2Fdiv%3E%3Cdiv%20class%3D%22css-fpuq48-ResizableCell%22%3E%3Cdiv%20style%3D%22display%3A%20flex%3B%20align-items%3A%20center%3B%20height%3A%2028px%3B%20left%3A%200px%3B%20top%3A%200px%3B%20width%3A%20115px%3B%20text-align%3A%20left%3B%20font-size%3A%2012px%3B%20padding%3A%204px%204px%203px%3B%20overflow%3A%20hidden%3B%20position%3A%20absolute%3B%20white-space%3A%20nowrap%3B%20text-overflow%3A%20ellipsis%3B%20font-weight%3A%20600%3B%22%3E%3Cspan%20style%3D%22text-overflow%3A%20ellipsis%3B%20overflow%3A%20hidden%3B%20white-space%3A%20nowrap%3B%20max-width%3A%20calc((100%25%20-%200px)%20-%200px)%3B%22%3EMarketValue.SUM%3C%2Fspan%3E%3C%2Fdiv%3E%3Cdiv%20class%3D%22css-xxcrt1-ResizableCell%22%3E%3C%2Fdiv%3E%3C%2Fdiv%3E%3Cdiv%20class%3D%22css-3geaec-ResizableCell%22%3E%3Cdiv%20style%3D%22display%3A%20flex%3B%20align-items%3A%20center%3B%20height%3A%2028px%3B%20left%3A%200px%3B%20top%3A%200px%3B%20width%3A%20115px%3B%20text-align%3A%20left%3B%20font-size%3A%2012px%3B%20padding%3A%204px%204px%203px%3B%20overflow%3A%20hidden%3B%20position%3A%20absolute%3B%20white-space%3A%20nowrap%3B%20text-overflow%3A%20ellipsis%3B%20font-weight%3A%20600%3B%22%3E%3Cspan%20style%3D%22text-overflow%3A%20ellipsis%3B%20overflow%3A%20hidden%3B%20white-space%3A%20nowrap%3B%20max-width%3A%20calc((100%25%20-%200px)%20-%200px)%3B%22%3EQuote.VALUE%3C%2Fspan%3E%3C%2Fdiv%3E%3Cdiv%20class%3D%22css-xxcrt1-ResizableCell%22%3E%3C%2Fdiv%3E%3C%2Fdiv%3E%3C%2Fdiv%3E%3C%2Fdiv%3E%3Cdiv%20class%3D%22%20css-x6bdm4%22%3E%3Cdiv%20class%3D%22css-1fpi2j9%22%3E%3Cdiv%20class%3D%22aui-table-cell%22%20style%3D%22height%3A%2028px%3B%20left%3A%200px%3B%20top%3A%200px%3B%20width%3A%20120px%3B%20text-align%3A%20right%3B%20font-size%3A%2012px%3B%20padding%3A%204px%204px%203px%3B%20overflow%3A%20hidden%3B%20position%3A%20absolute%3B%20white-space%3A%20nowrap%3B%20text-overflow%3A%20ellipsis%3B%20border-right%3A%201px%20solid%20rgb(233%2C%20233%2C%20233)%3B%20background-color%3A%20transparent%3B%22%3E34%2C450.16%3C%2Fdiv%3E%3Cdiv%20class%3D%22aui-table-cell%22%20style%3D%22height%3A%2028px%3B%20left%3A%20120px%3B%20top%3A%200px%3B%20width%3A%20120px%3B%20text-align%3A%20right%3B%20font-size%3A%2012px%3B%20padding%3A%204px%204px%203px%3B%20overflow%3A%20hidden%3B%20position%3A%20absolute%3B%20white-space%3A%20nowrap%3B%20text-overflow%3A%20ellipsis%3B%20border-right%3A%201px%20solid%20rgb(233%2C%20233%2C%20233)%3B%20background-color%3A%20transparent%3B%22%3E2%2C110.28%3C%2Fdiv%3E%3Cdiv%20class%3D%22aui-table-cell%22%20style%3D%22height%3A%2028px%3B%20left%3A%20240px%3B%20top%3A%200px%3B%20width%3A%20120px%3B%20text-align%3A%20right%3B%20font-size%3A%2012px%3B%20padding%3A%204px%204px%203px%3B%20overflow%3A%20hidden%3B%20position%3A%20absolute%3B%20white-space%3A%20nowrap%3B%20text-overflow%3A%20ellipsis%3B%20border-right%3A%201px%20solid%20rgb(233%2C%20233%2C%20233)%3B%20background-color%3A%20transparent%3B%22%3E%3C%2Fdiv%3E%3Cdiv%20class%3D%22aui-table-cell%22%20style%3D%22height%3A%2028px%3B%20left%3A%200px%3B%20top%3A%2028px%3B%20width%3A%20120px%3B%20text-align%3A%20right%3B%20font-size%3A%2012px%3B%20padding%3A%204px%204px%203px%3B%20overflow%3A%20hidden%3B%20position%3A%20absolute%3B%20white-space%3A%20nowrap%3B%20text-overflow%3A%20ellipsis%3B%20border-right%3A%201px%20solid%20rgb(233%2C%20233%2C%20233)%3B%20background-color%3A%20rgb(250%2C%20250%2C%20250)%3B%22%3E-154.09%3C%2Fdiv%3E%3Cdiv%20class%3D%22aui-table-cell%22%20style%3D%22height%3A%2028px%3B%20left%3A%20120px%3B%20top%3A%2028px%3B%20width%3A%20120px%3B%20text-align%3A%20right%3B%20font-size%3A%2012px%3B%20padding%3A%204px%204px%203px%3B%20overflow%3A%20hidden%3B%20position%3A%20absolute%3B%20white-space%3A%20nowrap%3B%20text-overflow%3A%20ellipsis%3B%20border-right%3A%201px%20solid%20rgb(233%2C%20233%2C%20233)%3B%20background-color%3A%20rgb(250%2C%20250%2C%20250)%3B%22%3E1%2C508.95%3C%2Fdiv%3E%3Cdiv%20class%3D%22aui-table-cell%22%20style%3D%22height%3A%2028px%3B%20left%3A%20240px%3B%20top%3A%2028px%3B%20width%3A%20120px%3B%20text-align%3A%20right%3B%20font-size%3A%2012px%3B%20padding%3A%204px%204px%203px%3B%20overflow%3A%20hidden%3B%20position%3A%20absolute%3B%20white-space%3A%20nowrap%3B%20text-overflow%3A%20ellipsis%3B%20border-right%3A%201px%20solid%20rgb(233%2C%20233%2C%20233)%3B%20background-color%3A%20rgb(250%2C%20250%2C%20250)%3B%22%3E381.00%3C%2Fdiv%3E%3Cdiv%20class%3D%22aui-table-cell%22%20style%3D%22height%3A%2028px%3B%20left%3A%200px%3B%20top%3A%2056px%3B%20width%3A%20120px%3B%20text-align%3A%20right%3B%20font-size%3A%2012px%3B%20padding%3A%204px%204px%203px%3B%20overflow%3A%20hidden%3B%20position%3A%20absolute%3B%20white-space%3A%20nowrap%3B%20text-overflow%3A%20ellipsis%3B%20border-right%3A%201px%20solid%20rgb(233%2C%20233%2C%20233)%3B%20background-color%3A%20transparent%3B%22%3E34%2C723.31%3C%2Fdiv%3E%3Cdiv%20class%3D%22aui-table-cell%22%20style%3D%22height%3A%2028px%3B%20left%3A%20120px%3B%20top%3A%2056px%3B%20width%3A%20120px%3B%20text-align%3A%20right%3B%20font-size%3A%2012px%3B%20padding%3A%204px%204px%203px%3B%20overflow%3A%20hidden%3B%20position%3A%20absolute%3B%20white-space%3A%20nowrap%3B%20text-overflow%3A%20ellipsis%3B%20border-right%3A%201px%20solid%20rgb(233%2C%20233%2C%20233)%3B%20background-color%3A%20transparent%3B%22%3E591.64%3C%2Fdiv%3E%3Cdiv%20class%3D%22aui-table-cell%22%20style%3D%22height%3A%2028px%3B%20left%3A%20240px%3B%20top%3A%2056px%3B%20width%3A%20120px%3B%20text-align%3A%20right%3B%20font-size%3A%2012px%3B%20padding%3A%204px%204px%203px%3B%20overflow%3A%20hidden%3B%20position%3A%20absolute%3B%20white-space%3A%20nowrap%3B%20text-overflow%3A%20ellipsis%3B%20border-right%3A%201px%20solid%20rgb(233%2C%20233%2C%20233)%3B%20background-color%3A%20transparent%3B%22%3E215.00%3C%2Fdiv%3E%3Cdiv%20class%3D%22aui-table-cell%22%20style%3D%22height%3A%2028px%3B%20left%3A%200px%3B%20top%3A%2084px%3B%20width%3A%20120px%3B%20text-align%3A%20right%3B%20font-size%3A%2012px%3B%20padding%3A%204px%204px%203px%3B%20overflow%3A%20hidden%3B%20position%3A%20absolute%3B%20white-space%3A%20nowrap%3B%20text-overflow%3A%20ellipsis%3B%20border-right%3A%201px%20solid%20rgb(233%2C%20233%2C%20233)%3B%20background-color%3A%20rgb(250%2C%20250%2C%20250)%3B%22%3E-119.07%3C%2Fdiv%3E%3Cdiv%20class%3D%22aui-table-cell%22%20style%3D%22height%3A%2028px%3B%20left%3A%20120px%3B%20top%3A%2084px%3B%20width%3A%20120px%3B%20text-align%3A%20right%3B%20font-size%3A%2012px%3B%20padding%3A%204px%204px%203px%3B%20overflow%3A%20hidden%3B%20position%3A%20absolute%3B%20white-space%3A%20nowrap%3B%20text-overflow%3A%20ellipsis%3B%20border-right%3A%201px%20solid%20rgb(233%2C%20233%2C%20233)%3B%20background-color%3A%20rgb(250%2C%20250%2C%20250)%3B%22%3E9.70%3C%2Fdiv%3E%3Cdiv%20class%3D%22aui-table-cell%22%20style%3D%22height%3A%2028px%3B%20left%3A%20240px%3B%20top%3A%2084px%3B%20width%3A%20120px%3B%20text-align%3A%20right%3B%20font-size%3A%2012px%3B%20padding%3A%204px%204px%203px%3B%20overflow%3A%20hidden%3B%20position%3A%20absolute%3B%20white-space%3A%20nowrap%3B%20text-overflow%3A%20ellipsis%3B%20border-right%3A%201px%20solid%20rgb(233%2C%20233%2C%20233)%3B%20background-color%3A%20rgb(250%2C%20250%2C%20250)%3B%22%3E16.80%3C%2Fdiv%3E%3Cdiv%20class%3D%22aui-table-cell%22%20style%3D%22height%3A%2028px%3B%20left%3A%200px%3B%20top%3A%20112px%3B%20width%3A%20120px%3B%20text-align%3A%20right%3B%20font-size%3A%2012px%3B%20padding%3A%204px%204px%203px%3B%20overflow%3A%20hidden%3B%20position%3A%20absolute%3B%20white-space%3A%20nowrap%3B%20text-overflow%3A%20ellipsis%3B%20border-right%3A%201px%20solid%20rgb(233%2C%20233%2C%20233)%3B%20border-top%3A%201px%20solid%20rgb(233%2C%20233%2C%20233)%3B%20background-color%3A%20transparent%3B%22%3E32%2C327.85%3C%2Fdiv%3E%3Cdiv%20class%3D%22aui-table-cell%22%20style%3D%22height%3A%2028px%3B%20left%3A%20120px%3B%20top%3A%20112px%3B%20width%3A%20120px%3B%20text-align%3A%20right%3B%20font-size%3A%2012px%3B%20padding%3A%204px%204px%203px%3B%20overflow%3A%20hidden%3B%20position%3A%20absolute%3B%20white-space%3A%20nowrap%3B%20text-overflow%3A%20ellipsis%3B%20border-right%3A%201px%20solid%20rgb(233%2C%20233%2C%20233)%3B%20border-top%3A%201px%20solid%20rgb(233%2C%20233%2C%20233)%3B%20background-color%3A%20transparent%3B%22%3E2%2C040.36%3C%2Fdiv%3E%3Cdiv%20class%3D%22aui-table-cell%22%20style%3D%22height%3A%2028px%3B%20left%3A%20240px%3B%20top%3A%20112px%3B%20width%3A%20120px%3B%20text-align%3A%20right%3B%20font-size%3A%2012px%3B%20padding%3A%204px%204px%203px%3B%20overflow%3A%20hidden%3B%20position%3A%20absolute%3B%20white-space%3A%20nowrap%3B%20text-overflow%3A%20ellipsis%3B%20border-right%3A%201px%20solid%20rgb(233%2C%20233%2C%20233)%3B%20border-top%3A%201px%20solid%20rgb(233%2C%20233%2C%20233)%3B%20background-color%3A%20transparent%3B%22%3E%3C%2Fdiv%3E%3Cdiv%20class%3D%22aui-table-cell%22%20style%3D%22height%3A%2028px%3B%20left%3A%200px%3B%20top%3A%20140px%3B%20width%3A%20120px%3B%20text-align%3A%20right%3B%20font-size%3A%2012px%3B%20padding%3A%204px%204px%203px%3B%20overflow%3A%20hidden%3B%20position%3A%20absolute%3B%20white-space%3A%20nowrap%3B%20text-overflow%3A%20ellipsis%3B%20border-right%3A%201px%20solid%20rgb(233%2C%20233%2C%20233)%3B%20background-color%3A%20rgb(250%2C%20250%2C%20250)%3B%22%3E-2%2C492.01%3C%2Fdiv%3E%3Cdiv%20class%3D%22aui-table-cell%22%20style%3D%22height%3A%2028px%3B%20left%3A%20120px%3B%20top%3A%20140px%3B%20width%3A%20120px%3B%20text-align%3A%20right%3B%20font-size%3A%2012px%3B%20padding%3A%204px%204px%203px%3B%20overflow%3A%20hidden%3B%20position%3A%20absolute%3B%20white-space%3A%20nowrap%3B%20text-overflow%3A%20ellipsis%3B%20border-right%3A%201px%20solid%20rgb(233%2C%20233%2C%20233)%3B%20background-color%3A%20rgb(250%2C%20250%2C%20250)%3B%22%3E1%2C405.72%3C%2Fdiv%3E%3Cdiv%20class%3D%22aui-table-cell%22%20style%3D%22height%3A%2028px%3B%20left%3A%20240px%3B%20top%3A%20140px%3B%20width%3A%20120px%3B%20text-align%3A%20right%3B%20font-size%3A%2012px%3B%20padding%3A%204px%204px%203px%3B%20overflow%3A%20hidden%3B%20position%3A%20absolute%3B%20white-space%3A%20nowrap%3B%20text-overflow%3A%20ellipsis%3B%20border-right%3A%201px%20solid%20rgb(233%2C%20233%2C%20233)%3B%20background-color%3A%20rgb(250%2C%20250%2C%20250)%3B%22%3E380.00%3C%2Fdiv%3E%3Cdiv%20class%3D%22aui-table-cell%22%20style%3D%22height%3A%2028px%3B%20left%3A%200px%3B%20top%3A%20168px%3B%20width%3A%20120px%3B%20text-align%3A%20right%3B%20font-size%3A%2012px%3B%20padding%3A%204px%204px%203px%3B%20overflow%3A%20hidden%3B%20position%3A%20absolute%3B%20white-space%3A%20nowrap%3B%20text-overflow%3A%20ellipsis%3B%20border-right%3A%201px%20solid%20rgb(233%2C%20233%2C%20233)%3B%20background-color%3A%20transparent%3B%22%3E34%2C970.47%3C%2Fdiv%3E%3Cdiv%20class%3D%22aui-table-cell%22%20style%3D%22height%3A%2028px%3B%20left%3A%20120px%3B%20top%3A%20168px%3B%20width%3A%20120px%3B%20text-align%3A%20right%3B%20font-size%3A%2012px%3B%20padding%3A%204px%204px%203px%3B%20overflow%3A%20hidden%3B%20position%3A%20absolute%3B%20white-space%3A%20nowrap%3B%20text-overflow%3A%20ellipsis%3B%20border-right%3A%201px%20solid%20rgb(233%2C%20233%2C%20233)%3B%20background-color%3A%20transparent%3B%22%3E624.77%3C%2Fdiv%3E%3Cdiv%20class%3D%22aui-table-cell%22%20style%3D%22height%3A%2028px%3B%20left%3A%20240px%3B%20top%3A%20168px%3B%20width%3A%20120px%3B%20text-align%3A%20right%3B%20font-size%3A%2012px%3B%20padding%3A%204px%204px%203px%3B%20overflow%3A%20hidden%3B%20position%3A%20absolute%3B%20white-space%3A%20nowrap%3B%20text-overflow%3A%20ellipsis%3B%20border-right%3A%201px%20solid%20rgb(233%2C%20233%2C%20233)%3B%20background-color%3A%20transparent%3B%22%3E214.00%3C%2Fdiv%3E%3Cdiv%20class%3D%22aui-table-cell%22%20style%3D%22height%3A%2028px%3B%20left%3A%200px%3B%20top%3A%20196px%3B%20width%3A%20120px%3B%20text-align%3A%20right%3B%20font-size%3A%2012px%3B%20padding%3A%204px%204px%203px%3B%20overflow%3A%20hidden%3B%20position%3A%20absolute%3B%20white-space%3A%20nowrap%3B%20text-overflow%3A%20ellipsis%3B%20border-right%3A%201px%20solid%20rgb(233%2C%20233%2C%20233)%3B%20background-color%3A%20rgb(250%2C%20250%2C%20250)%3B%22%3E-150.60%3C%2Fdiv%3E%3Cdiv%20class%3D%22aui-table-cell%22%20style%3D%22height%3A%2028px%3B%20left%3A%20120px%3B%20top%3A%20196px%3B%20width%3A%20120px%3B%20text-align%3A%20right%3B%20font-size%3A%2012px%3B%20padding%3A%204px%204px%203px%3B%20overflow%3A%20hidden%3B%20position%3A%20absolute%3B%20white-space%3A%20nowrap%3B%20text-overflow%3A%20ellipsis%3B%20border-right%3A%201px%20solid%20rgb(233%2C%20233%2C%20233)%3B%20background-color%3A%20rgb(250%2C%20250%2C%20250)%3B%22%3E9.87%3C%2Fdiv%3E%3Cdiv%20class%3D%22aui-table-cell%22%20style%3D%22height%3A%2028px%3B%20left%3A%20240px%3B%20top%3A%20196px%3B%20width%3A%20120px%3B%20text-align%3A%20right%3B%20font-size%3A%2012px%3B%20padding%3A%204px%204px%203px%3B%20overflow%3A%20hidden%3B%20position%3A%20absolute%3B%20white-space%3A%20nowrap%3B%20text-overflow%3A%20ellipsis%3B%20border-right%3A%201px%20solid%20rgb(233%2C%20233%2C%20233)%3B%20background-color%3A%20rgb(250%2C%20250%2C%20250)%3B%22%3E16.23%3C%2Fdiv%3E%3Cdiv%20class%3D%22aui-table-cell%22%20style%3D%22height%3A%2028px%3B%20left%3A%200px%3B%20top%3A%20224px%3B%20width%3A%20120px%3B%20text-align%3A%20right%3B%20font-size%3A%2012px%3B%20padding%3A%204px%204px%203px%3B%20overflow%3A%20hidden%3B%20position%3A%20absolute%3B%20white-space%3A%20nowrap%3B%20text-overflow%3A%20ellipsis%3B%20border-right%3A%201px%20solid%20rgb(233%2C%20233%2C%20233)%3B%20border-top%3A%201px%20solid%20rgb(233%2C%20233%2C%20233)%3B%20background-color%3A%20transparent%3B%22%3E32%2C327.85%3C%2Fdiv%3E%3Cdiv%20class%3D%22aui-table-cell%22%20style%3D%22height%3A%2028px%3B%20left%3A%20120px%3B%20top%3A%20224px%3B%20width%3A%20120px%3B%20text-align%3A%20right%3B%20font-size%3A%2012px%3B%20padding%3A%204px%204px%203px%3B%20overflow%3A%20hidden%3B%20position%3A%20absolute%3B%20white-space%3A%20nowrap%3B%20text-overflow%3A%20ellipsis%3B%20border-right%3A%201px%20solid%20rgb(233%2C%20233%2C%20233)%3B%20border-top%3A%201px%20solid%20rgb(233%2C%20233%2C%20233)%3B%20background-color%3A%20transparent%3B%22%3E2%2C040.36%3C%2Fdiv%3E%3Cdiv%20class%3D%22aui-table-cell%22%20style%3D%22height%3A%2028px%3B%20left%3A%20240px%3B%20top%3A%20224px%3B%20width%3A%20120px%3B%20text-align%3A%20right%3B%20font-size%3A%2012px%3B%20padding%3A%204px%204px%203px%3B%20overflow%3A%20hidden%3B%20position%3A%20absolute%3B%20white-space%3A%20nowrap%3B%20text-overflow%3A%20ellipsis%3B%20border-right%3A%201px%20solid%20rgb(233%2C%20233%2C%20233)%3B%20border-top%3A%201px%20solid%20rgb(233%2C%20233%2C%20233)%3B%20background-color%3A%20transparent%3B%22%3E%3C%2Fdiv%3E%3Cdiv%20class%3D%22aui-table-cell%22%20style%3D%22height%3A%2028px%3B%20left%3A%200px%3B%20top%3A%20252px%3B%20width%3A%20120px%3B%20text-align%3A%20right%3B%20font-size%3A%2012px%3B%20padding%3A%204px%204px%203px%3B%20overflow%3A%20hidden%3B%20position%3A%20absolute%3B%20white-space%3A%20nowrap%3B%20text-overflow%3A%20ellipsis%3B%20border-right%3A%201px%20solid%20rgb(233%2C%20233%2C%20233)%3B%20background-color%3A%20rgb(250%2C%20250%2C%20250)%3B%22%3E-2%2C492.01%3C%2Fdiv%3E%3Cdiv%20class%3D%22aui-table-cell%22%20style%3D%22height%3A%2028px%3B%20left%3A%20120px%3B%20top%3A%20252px%3B%20width%3A%20120px%3B%20text-align%3A%20right%3B%20font-size%3A%2012px%3B%20padding%3A%204px%204px%203px%3B%20overflow%3A%20hidden%3B%20position%3A%20absolute%3B%20white-space%3A%20nowrap%3B%20text-overflow%3A%20ellipsis%3B%20border-right%3A%201px%20solid%20rgb(233%2C%20233%2C%20233)%3B%20background-color%3A%20rgb(250%2C%20250%2C%20250)%3B%22%3E1%2C405.72%3C%2Fdiv%3E%3Cdiv%20class%3D%22aui-table-cell%22%20style%3D%22height%3A%2028px%3B%20left%3A%20240px%3B%20top%3A%20252px%3B%20width%3A%20120px%3B%20text-align%3A%20right%3B%20font-size%3A%2012px%3B%20padding%3A%204px%204px%203px%3B%20overflow%3A%20hidden%3B%20position%3A%20absolute%3B%20white-space%3A%20nowrap%3B%20text-overflow%3A%20ellipsis%3B%20border-right%3A%201px%20solid%20rgb(233%2C%20233%2C%20233)%3B%20background-color%3A%20rgb(250%2C%20250%2C%20250)%3B%22%3E%3C%2Fdiv%3E%3Cdiv%20class%3D%22aui-table-cell%22%20style%3D%22height%3A%2028px%3B%20left%3A%200px%3B%20top%3A%20280px%3B%20width%3A%20120px%3B%20text-align%3A%20right%3B%20font-size%3A%2012px%3B%20padding%3A%204px%204px%203px%3B%20overflow%3A%20hidden%3B%20position%3A%20absolute%3B%20white-space%3A%20nowrap%3B%20text-overflow%3A%20ellipsis%3B%20border-right%3A%201px%20solid%20rgb(233%2C%20233%2C%20233)%3B%20background-color%3A%20transparent%3B%22%3E34%2C970.47%3C%2Fdiv%3E%3Cdiv%20class%3D%22aui-table-cell%22%20style%3D%22height%3A%2028px%3B%20left%3A%20120px%3B%20top%3A%20280px%3B%20width%3A%20120px%3B%20text-align%3A%20right%3B%20font-size%3A%2012px%3B%20padding%3A%204px%204px%203px%3B%20overflow%3A%20hidden%3B%20position%3A%20absolute%3B%20white-space%3A%20nowrap%3B%20text-overflow%3A%20ellipsis%3B%20border-right%3A%201px%20solid%20rgb(233%2C%20233%2C%20233)%3B%20background-color%3A%20transparent%3B%22%3E624.77%3C%2Fdiv%3E%3Cdiv%20class%3D%22aui-table-cell%22%20style%3D%22height%3A%2028px%3B%20left%3A%20240px%3B%20top%3A%20280px%3B%20width%3A%20120px%3B%20text-align%3A%20right%3B%20font-size%3A%2012px%3B%20padding%3A%204px%204px%203px%3B%20overflow%3A%20hidden%3B%20position%3A%20absolute%3B%20white-space%3A%20nowrap%3B%20text-overflow%3A%20ellipsis%3B%20border-right%3A%201px%20solid%20rgb(233%2C%20233%2C%20233)%3B%20background-color%3A%20transparent%3B%22%3E%3C%2Fdiv%3E%3Cdiv%20class%3D%22aui-table-cell%22%20style%3D%22height%3A%2028px%3B%20left%3A%200px%3B%20top%3A%20308px%3B%20width%3A%20120px%3B%20text-align%3A%20right%3B%20font-size%3A%2012px%3B%20padding%3A%204px%204px%203px%3B%20overflow%3A%20hidden%3B%20position%3A%20absolute%3B%20white-space%3A%20nowrap%3B%20text-overflow%3A%20ellipsis%3B%20border-right%3A%201px%20solid%20rgb(233%2C%20233%2C%20233)%3B%20background-color%3A%20rgb(250%2C%20250%2C%20250)%3B%22%3E-150.60%3C%2Fdiv%3E%3Cdiv%20class%3D%22aui-table-cell%22%20style%3D%22height%3A%2028px%3B%20left%3A%20120px%3B%20top%3A%20308px%3B%20width%3A%20120px%3B%20text-align%3A%20right%3B%20font-size%3A%2012px%3B%20padding%3A%204px%204px%203px%3B%20overflow%3A%20hidden%3B%20position%3A%20absolute%3B%20white-space%3A%20nowrap%3B%20text-overflow%3A%20ellipsis%3B%20border-right%3A%201px%20solid%20rgb(233%2C%20233%2C%20233)%3B%20background-color%3A%20rgb(250%2C%20250%2C%20250)%3B%22%3E9.87%3C%2Fdiv%3E%3Cdiv%20class%3D%22aui-table-cell%22%20style%3D%22height%3A%2028px%3B%20left%3A%20240px%3B%20top%3A%20308px%3B%20width%3A%20120px%3B%20text-align%3A%20right%3B%20font-size%3A%2012px%3B%20padding%3A%204px%204px%203px%3B%20overflow%3A%20hidden%3B%20position%3A%20absolute%3B%20white-space%3A%20nowrap%3B%20text-overflow%3A%20ellipsis%3B%20border-right%3A%201px%20solid%20rgb(233%2C%20233%2C%20233)%3B%20background-color%3A%20rgb(250%2C%20250%2C%20250)%3B%22%3E%3C%2Fdiv%3E%3Cdiv%20class%3D%22aui-table-cell%22%20style%3D%22height%3A%2028px%3B%20left%3A%200px%3B%20top%3A%20336px%3B%20width%3A%20120px%3B%20text-align%3A%20right%3B%20font-size%3A%2012px%3B%20padding%3A%204px%204px%203px%3B%20overflow%3A%20hidden%3B%20position%3A%20absolute%3B%20white-space%3A%20nowrap%3B%20text-overflow%3A%20ellipsis%3B%20border-right%3A%201px%20solid%20rgb(233%2C%20233%2C%20233)%3B%20border-top%3A%201px%20solid%20rgb(233%2C%20233%2C%20233)%3B%20background-color%3A%20transparent%3B%22%3E32%2C327.85%3C%2Fdiv%3E%3Cdiv%20class%3D%22aui-table-cell%22%20style%3D%22height%3A%2028px%3B%20left%3A%20120px%3B%20top%3A%20336px%3B%20width%3A%20120px%3B%20text-align%3A%20right%3B%20font-size%3A%2012px%3B%20padding%3A%204px%204px%203px%3B%20overflow%3A%20hidden%3B%20position%3A%20absolute%3B%20white-space%3A%20nowrap%3B%20text-overflow%3A%20ellipsis%3B%20border-right%3A%201px%20solid%20rgb(233%2C%20233%2C%20233)%3B%20border-top%3A%201px%20solid%20rgb(233%2C%20233%2C%20233)%3B%20background-color%3A%20transparent%3B%22%3E2%2C040.36%3C%2Fdiv%3E%3Cdiv%20class%3D%22aui-table-cell%22%20style%3D%22height%3A%2028px%3B%20left%3A%20240px%3B%20top%3A%20336px%3B%20width%3A%20120px%3B%20text-align%3A%20right%3B%20font-size%3A%2012px%3B%20padding%3A%204px%204px%203px%3B%20overflow%3A%20hidden%3B%20position%3A%20absolute%3B%20white-space%3A%20nowrap%3B%20text-overflow%3A%20ellipsis%3B%20border-right%3A%201px%20solid%20rgb(233%2C%20233%2C%20233)%3B%20border-top%3A%201px%20solid%20rgb(233%2C%20233%2C%20233)%3B%20background-color%3A%20transparent%3B%22%3E%3C%2Fdiv%3E%3Cdiv%20class%3D%22aui-table-cell%22%20style%3D%22height%3A%2028px%3B%20left%3A%200px%3B%20top%3A%20364px%3B%20width%3A%20120px%3B%20text-align%3A%20right%3B%20font-size%3A%2012px%3B%20padding%3A%204px%204px%203px%3B%20overflow%3A%20hidden%3B%20position%3A%20absolute%3B%20white-space%3A%20nowrap%3B%20text-overflow%3A%20ellipsis%3B%20border-right%3A%201px%20solid%20rgb(233%2C%20233%2C%20233)%3B%20border-top%3A%201px%20solid%20rgb(233%2C%20233%2C%20233)%3B%20background-color%3A%20transparent%3B%22%3E32%2C327.85%3C%2Fdiv%3E%3Cdiv%20class%3D%22aui-table-cell%22%20style%3D%22height%3A%2028px%3B%20left%3A%20120px%3B%20top%3A%20364px%3B%20width%3A%20120px%3B%20text-align%3A%20right%3B%20font-size%3A%2012px%3B%20padding%3A%204px%204px%203px%3B%20overflow%3A%20hidden%3B%20position%3A%20absolute%3B%20white-space%3A%20nowrap%3B%20text-overflow%3A%20ellipsis%3B%20border-right%3A%201px%20solid%20rgb(233%2C%20233%2C%20233)%3B%20border-top%3A%201px%20solid%20rgb(233%2C%20233%2C%20233)%3B%20background-color%3A%20transparent%3B%22%3E2%2C040.36%3C%2Fdiv%3E%3Cdiv%20class%3D%22aui-table-cell%22%20style%3D%22height%3A%2028px%3B%20left%3A%20240px%3B%20top%3A%20364px%3B%20width%3A%20120px%3B%20text-align%3A%20right%3B%20font-size%3A%2012px%3B%20padding%3A%204px%204px%203px%3B%20overflow%3A%20hidden%3B%20position%3A%20absolute%3B%20white-space%3A%20nowrap%3B%20text-overflow%3A%20ellipsis%3B%20border-right%3A%201px%20solid%20rgb(233%2C%20233%2C%20233)%3B%20border-top%3A%201px%20solid%20rgb(233%2C%20233%2C%20233)%3B%20background-color%3A%20transparent%3B%22%3E%3C%2Fdiv%3E%3C%2Fdiv%3E%3C%2Fdiv%3E%3C%2Fdiv%3E%3C%2Fdiv%3E%3C%2Fdiv%3E%3Cdiv%20class%3D%22css-1uww2vi-Table%22%3E%3C%2Fdiv%3E%3C%2Fdiv%3E%3C%2Fdiv%3E%3C%2Fdiv%3E%3C%2Fdiv%3E%3C%2Fdiv%3E%3C%2FforeignObject%3E%3C%2Fsvg%3E\">"
      ],
      "text/plain": [
       "Open the notebook in JupyterLab with the Atoti extension enabled to build this widget."
      ]
     },
     "metadata": {},
     "output_type": "display_data"
    }
   ],
   "source": [
    "session.visualize(\"Quotes next to Deltas and MarketValues\")"
   ]
  },
  {
   "cell_type": "markdown",
   "metadata": {},
   "source": [
    "# Enriching risk data - trade attributes and multi-level book structure"
   ]
  },
  {
   "cell_type": "markdown",
   "metadata": {},
   "source": [
    "To facilitate the analysis, we can enrich the metrics with additional attributes such as risk factors, regions, sectors, trade typologies, etc. \n",
    "\n",
    "In this example, we are adding trade attribute data and linking trades to a multi-level booking hierarchy. "
   ]
  },
  {
   "cell_type": "code",
   "execution_count": 29,
   "metadata": {},
   "outputs": [
    {
     "data": {
      "text/html": [
       "<div>\n",
       "<style scoped>\n",
       "    .dataframe tbody tr th:only-of-type {\n",
       "        vertical-align: middle;\n",
       "    }\n",
       "\n",
       "    .dataframe tbody tr th {\n",
       "        vertical-align: top;\n",
       "    }\n",
       "\n",
       "    .dataframe thead th {\n",
       "        text-align: right;\n",
       "    }\n",
       "</style>\n",
       "<table border=\"1\" class=\"dataframe\">\n",
       "  <thead>\n",
       "    <tr style=\"text-align: right;\">\n",
       "      <th></th>\n",
       "      <th>Ticker</th>\n",
       "      <th>Book</th>\n",
       "      <th>Product</th>\n",
       "      <th>Quantity</th>\n",
       "      <th>Strike</th>\n",
       "      <th>Maturity</th>\n",
       "      <th>OptionType</th>\n",
       "    </tr>\n",
       "    <tr>\n",
       "      <th>TradeId</th>\n",
       "      <th></th>\n",
       "      <th></th>\n",
       "      <th></th>\n",
       "      <th></th>\n",
       "      <th></th>\n",
       "      <th></th>\n",
       "      <th></th>\n",
       "    </tr>\n",
       "  </thead>\n",
       "  <tbody>\n",
       "    <tr>\n",
       "      <th>Trd_18</th>\n",
       "      <td>MSFT</td>\n",
       "      <td>EQ_LARG_DM</td>\n",
       "      <td>EQ_Option</td>\n",
       "      <td>-100</td>\n",
       "      <td>213.13999938964844</td>\n",
       "      <td>2039-04-20</td>\n",
       "      <td>call</td>\n",
       "    </tr>\n",
       "    <tr>\n",
       "      <th>Trd_19</th>\n",
       "      <td>MSFT</td>\n",
       "      <td>EQ_WAREHOU</td>\n",
       "      <td>EQ_Option</td>\n",
       "      <td>-100</td>\n",
       "      <td>213.3800048828125</td>\n",
       "      <td>2024-12-25</td>\n",
       "      <td>put</td>\n",
       "    </tr>\n",
       "    <tr>\n",
       "      <th>Trd_0</th>\n",
       "      <td>MSFT</td>\n",
       "      <td>EQ_SMAL_EM</td>\n",
       "      <td>EQ_Option</td>\n",
       "      <td>-100</td>\n",
       "      <td>212.341796875</td>\n",
       "      <td>2033-11-24</td>\n",
       "      <td>put</td>\n",
       "    </tr>\n",
       "    <tr>\n",
       "      <th>Trd_1</th>\n",
       "      <td>OXY</td>\n",
       "      <td>EQ_WAREHOU</td>\n",
       "      <td>EQ_Option</td>\n",
       "      <td>-50</td>\n",
       "      <td>16.48699951171875</td>\n",
       "      <td>2040-03-21</td>\n",
       "      <td>put</td>\n",
       "    </tr>\n",
       "    <tr>\n",
       "      <th>Trd_2</th>\n",
       "      <td>AAPL</td>\n",
       "      <td>EQ_STRUCT</td>\n",
       "      <td>EQ_Option</td>\n",
       "      <td>-100</td>\n",
       "      <td>384.6700134277344</td>\n",
       "      <td>2023-01-26</td>\n",
       "      <td>call</td>\n",
       "    </tr>\n",
       "  </tbody>\n",
       "</table>\n",
       "</div>"
      ],
      "text/plain": [
       "        Ticker        Book    Product  Quantity              Strike  \\\n",
       "TradeId                                                               \n",
       "Trd_18    MSFT  EQ_LARG_DM  EQ_Option      -100  213.13999938964844   \n",
       "Trd_19    MSFT  EQ_WAREHOU  EQ_Option      -100   213.3800048828125   \n",
       "Trd_0     MSFT  EQ_SMAL_EM  EQ_Option      -100       212.341796875   \n",
       "Trd_1      OXY  EQ_WAREHOU  EQ_Option       -50   16.48699951171875   \n",
       "Trd_2     AAPL   EQ_STRUCT  EQ_Option      -100   384.6700134277344   \n",
       "\n",
       "          Maturity OptionType  \n",
       "TradeId                        \n",
       "Trd_18  2039-04-20       call  \n",
       "Trd_19  2024-12-25        put  \n",
       "Trd_0   2033-11-24        put  \n",
       "Trd_1   2040-03-21        put  \n",
       "Trd_2   2023-01-26       call  "
      ]
     },
     "execution_count": 29,
     "metadata": {},
     "output_type": "execute_result"
    }
   ],
   "source": [
    "trade_attributes = session.read_csv(\n",
    "    \"s3://data.atoti.io/notebooks/real-time-risk/static-input-files/trade_attributes.csv\",\n",
    "    types={\"TradeId\": tt.type.STRING, \"Strike\": tt.type.STRING},\n",
    "    keys=[\"TradeId\"],\n",
    "    table_name=\"Trade_Attributes\",\n",
    ")\n",
    "\n",
    "trade_attributes.head()"
   ]
  },
  {
   "cell_type": "code",
   "execution_count": 30,
   "metadata": {},
   "outputs": [],
   "source": [
    "sensitivities_table.join(trade_attributes)"
   ]
  },
  {
   "cell_type": "code",
   "execution_count": 31,
   "metadata": {},
   "outputs": [],
   "source": [
    "book_hierarchy = session.read_pandas(\n",
    "    pd.DataFrame(\n",
    "        data={\n",
    "            \"Book\": [\n",
    "                \"EQ_VOL_HED\",\n",
    "                \"EQ_STRUCT\",\n",
    "                \"EQ_LARG_DM\",\n",
    "                \"EQ_WAREHOU\",\n",
    "                \"EQ_SMAL_EM\",\n",
    "            ],\n",
    "            \"Desk\": [\n",
    "                \"Structuring\",\n",
    "                \"Structuring\",\n",
    "                \"Equity Trading\",\n",
    "                \"Equity Trading\",\n",
    "                \"Equity Trading\",\n",
    "            ],\n",
    "            \"Business Unit\": [\n",
    "                \"Equities\",\n",
    "                \"Equities\",\n",
    "                \"Equities\",\n",
    "                \"Equities\",\n",
    "                \"Equities\",\n",
    "            ],\n",
    "        }\n",
    "    ),\n",
    "    keys=[\"Book\"],\n",
    "    table_name=\"Book_Hierarchy\",\n",
    ")\n",
    "\n",
    "trade_attributes.join(book_hierarchy)"
   ]
  },
  {
   "cell_type": "markdown",
   "metadata": {},
   "source": [
    "Current state of the data model:"
   ]
  },
  {
   "cell_type": "code",
   "execution_count": 32,
   "metadata": {},
   "outputs": [
    {
     "data": {
      "image/svg+xml": [
       "<svg xmlns=\"http://www.w3.org/2000/svg\" xmlns:xlink=\"http://www.w3.org/1999/xlink\" width=\"852px\" height=\"358px\" viewBox=\"0.00 0.00 852.00 358.00\">\n",
       "<g id=\"graph0\" class=\"graph\" transform=\"scale(1.0 1.0) rotate(0) translate(4 354)\">\n",
       "<title>Sensitivities schema</title>\n",
       "<polygon fill=\"white\" stroke=\"transparent\" points=\"-4,4 -4,-354 848,-354 848,4 -4,4\"/>\n",
       "<!-- Sensitivities -->\n",
       "<g id=\"node1\" class=\"node\">\n",
       "<title>Sensitivities</title>\n",
       "<text text-anchor=\"start\" x=\"61.5\" y=\"-135.6\" font-family=\"-apple-system, BlinkMacSystemFont, 'Segoe UI', Helvetica, Arial, sans-serif, 'Apple Color Emoji', 'Segoe UI Emoji', 'Segoe UI Symbol'\" font-weight=\"bold\" font-size=\"13.00\">Sensitivities</text>\n",
       "<polygon fill=\"#f5f5f5\" stroke=\"transparent\" points=\"9,-102 9,-126 40,-126 40,-102 9,-102\"/>\n",
       "<text text-anchor=\"start\" x=\"14\" y=\"-111.6\" font-family=\"-apple-system, BlinkMacSystemFont, 'Segoe UI', Helvetica, Arial, sans-serif, 'Apple Color Emoji', 'Segoe UI Emoji', 'Segoe UI Symbol'\" font-weight=\"bold\" font-size=\"13.00\">key</text>\n",
       "<polygon fill=\"#f5f5f5\" stroke=\"transparent\" points=\"40,-102 40,-126 118,-126 118,-102 40,-102\"/>\n",
       "<text text-anchor=\"start\" x=\"45\" y=\"-110.6\" font-family=\"-apple-system, BlinkMacSystemFont, 'Segoe UI', Helvetica, Arial, sans-serif, 'Apple Color Emoji', 'Segoe UI Emoji', 'Segoe UI Symbol'\" font-size=\"13.00\">AsOfDate</text>\n",
       "<polygon fill=\"#f5f5f5\" stroke=\"transparent\" points=\"118,-102 118,-126 185,-126 185,-102 118,-102\"/>\n",
       "<text text-anchor=\"start\" x=\"123\" y=\"-111.6\" font-family=\"-apple-system, BlinkMacSystemFont, 'Segoe UI', Helvetica, Arial, sans-serif, 'Apple Color Emoji', 'Segoe UI Emoji', 'Segoe UI Symbol'\" font-style=\"italic\" font-size=\"13.00\">LocalDate</text>\n",
       "<polygon fill=\"#ffffff\" stroke=\"transparent\" points=\"9,-78 9,-102 40,-102 40,-78 9,-78\"/>\n",
       "<text text-anchor=\"start\" x=\"14\" y=\"-87.6\" font-family=\"-apple-system, BlinkMacSystemFont, 'Segoe UI', Helvetica, Arial, sans-serif, 'Apple Color Emoji', 'Segoe UI Emoji', 'Segoe UI Symbol'\" font-weight=\"bold\" font-size=\"13.00\">key</text>\n",
       "<polygon fill=\"#ffffff\" stroke=\"transparent\" points=\"40,-78 40,-102 118,-102 118,-78 40,-78\"/>\n",
       "<text text-anchor=\"start\" x=\"45\" y=\"-86.6\" font-family=\"-apple-system, BlinkMacSystemFont, 'Segoe UI', Helvetica, Arial, sans-serif, 'Apple Color Emoji', 'Segoe UI Emoji', 'Segoe UI Symbol'\" font-size=\"13.00\">TradeId</text>\n",
       "<polygon fill=\"#ffffff\" stroke=\"transparent\" points=\"118,-78 118,-102 185,-102 185,-78 118,-78\"/>\n",
       "<text text-anchor=\"start\" x=\"147\" y=\"-87.6\" font-family=\"-apple-system, BlinkMacSystemFont, 'Segoe UI', Helvetica, Arial, sans-serif, 'Apple Color Emoji', 'Segoe UI Emoji', 'Segoe UI Symbol'\" font-style=\"italic\" font-size=\"13.00\">String</text>\n",
       "<polygon fill=\"#f5f5f5\" stroke=\"transparent\" points=\"9,-54 9,-78 40,-78 40,-54 9,-54\"/>\n",
       "<text text-anchor=\"start\" x=\"14\" y=\"-63.6\" font-family=\"-apple-system, BlinkMacSystemFont, 'Segoe UI', Helvetica, Arial, sans-serif, 'Apple Color Emoji', 'Segoe UI Emoji', 'Segoe UI Symbol'\" font-weight=\"bold\" font-size=\"13.00\">key</text>\n",
       "<polygon fill=\"#f5f5f5\" stroke=\"transparent\" points=\"40,-54 40,-78 118,-78 118,-54 40,-54\"/>\n",
       "<text text-anchor=\"start\" x=\"45\" y=\"-62.6\" font-family=\"-apple-system, BlinkMacSystemFont, 'Segoe UI', Helvetica, Arial, sans-serif, 'Apple Color Emoji', 'Segoe UI Emoji', 'Segoe UI Symbol'\" font-size=\"13.00\">RiskFactor</text>\n",
       "<polygon fill=\"#f5f5f5\" stroke=\"transparent\" points=\"118,-54 118,-78 185,-78 185,-54 118,-54\"/>\n",
       "<text text-anchor=\"start\" x=\"147\" y=\"-63.6\" font-family=\"-apple-system, BlinkMacSystemFont, 'Segoe UI', Helvetica, Arial, sans-serif, 'Apple Color Emoji', 'Segoe UI Emoji', 'Segoe UI Symbol'\" font-style=\"italic\" font-size=\"13.00\">String</text>\n",
       "<polygon fill=\"#ffffff\" stroke=\"transparent\" points=\"9,-30 9,-54 40,-54 40,-30 9,-30\"/>\n",
       "<polygon fill=\"#ffffff\" stroke=\"transparent\" points=\"40,-30 40,-54 118,-54 118,-30 40,-30\"/>\n",
       "<text text-anchor=\"start\" x=\"45\" y=\"-38.6\" font-family=\"-apple-system, BlinkMacSystemFont, 'Segoe UI', Helvetica, Arial, sans-serif, 'Apple Color Emoji', 'Segoe UI Emoji', 'Segoe UI Symbol'\" font-size=\"13.00\">MarketValue</text>\n",
       "<polygon fill=\"#ffffff\" stroke=\"transparent\" points=\"118,-30 118,-54 185,-54 185,-30 118,-30\"/>\n",
       "<text text-anchor=\"start\" x=\"143\" y=\"-39.6\" font-family=\"-apple-system, BlinkMacSystemFont, 'Segoe UI', Helvetica, Arial, sans-serif, 'Apple Color Emoji', 'Segoe UI Emoji', 'Segoe UI Symbol'\" font-style=\"italic\" font-size=\"13.00\">double</text>\n",
       "<polygon fill=\"#f5f5f5\" stroke=\"transparent\" points=\"9,-6 9,-30 40,-30 40,-6 9,-6\"/>\n",
       "<polygon fill=\"#f5f5f5\" stroke=\"transparent\" points=\"40,-6 40,-30 118,-30 118,-6 40,-6\"/>\n",
       "<text text-anchor=\"start\" x=\"45\" y=\"-14.6\" font-family=\"-apple-system, BlinkMacSystemFont, 'Segoe UI', Helvetica, Arial, sans-serif, 'Apple Color Emoji', 'Segoe UI Emoji', 'Segoe UI Symbol'\" font-size=\"13.00\">Delta</text>\n",
       "<polygon fill=\"#f5f5f5\" stroke=\"transparent\" points=\"118,-6 118,-30 185,-30 185,-6 118,-6\"/>\n",
       "<text text-anchor=\"start\" x=\"143\" y=\"-15.6\" font-family=\"-apple-system, BlinkMacSystemFont, 'Segoe UI', Helvetica, Arial, sans-serif, 'Apple Color Emoji', 'Segoe UI Emoji', 'Segoe UI Symbol'\" font-style=\"italic\" font-size=\"13.00\">double</text>\n",
       "<polygon fill=\"none\" stroke=\"black\" points=\"8,-5 8,-151 186,-151 186,-5 8,-5\"/>\n",
       "</g>\n",
       "<!-- Trade_Attributes -->\n",
       "<g id=\"node2\" class=\"node\">\n",
       "<title>Trade_Attributes</title>\n",
       "<text text-anchor=\"start\" x=\"411\" y=\"-330.6\" font-family=\"-apple-system, BlinkMacSystemFont, 'Segoe UI', Helvetica, Arial, sans-serif, 'Apple Color Emoji', 'Segoe UI Emoji', 'Segoe UI Symbol'\" font-weight=\"bold\" font-size=\"13.00\">Trade_Attributes</text>\n",
       "<polygon fill=\"#f5f5f5\" stroke=\"transparent\" points=\"375.5,-297 375.5,-321 406.5,-321 406.5,-297 375.5,-297\"/>\n",
       "<text text-anchor=\"start\" x=\"380.5\" y=\"-306.6\" font-family=\"-apple-system, BlinkMacSystemFont, 'Segoe UI', Helvetica, Arial, sans-serif, 'Apple Color Emoji', 'Segoe UI Emoji', 'Segoe UI Symbol'\" font-weight=\"bold\" font-size=\"13.00\">key</text>\n",
       "<polygon fill=\"#f5f5f5\" stroke=\"transparent\" points=\"406.5,-297 406.5,-321 479.5,-321 479.5,-297 406.5,-297\"/>\n",
       "<text text-anchor=\"start\" x=\"411.5\" y=\"-305.6\" font-family=\"-apple-system, BlinkMacSystemFont, 'Segoe UI', Helvetica, Arial, sans-serif, 'Apple Color Emoji', 'Segoe UI Emoji', 'Segoe UI Symbol'\" font-size=\"13.00\">TradeId</text>\n",
       "<polygon fill=\"#f5f5f5\" stroke=\"transparent\" points=\"479.5,-297 479.5,-321 546.5,-321 546.5,-297 479.5,-297\"/>\n",
       "<text text-anchor=\"start\" x=\"508.5\" y=\"-306.6\" font-family=\"-apple-system, BlinkMacSystemFont, 'Segoe UI', Helvetica, Arial, sans-serif, 'Apple Color Emoji', 'Segoe UI Emoji', 'Segoe UI Symbol'\" font-style=\"italic\" font-size=\"13.00\">String</text>\n",
       "<polygon fill=\"#ffffff\" stroke=\"transparent\" points=\"375.5,-273 375.5,-297 406.5,-297 406.5,-273 375.5,-273\"/>\n",
       "<polygon fill=\"#ffffff\" stroke=\"transparent\" points=\"406.5,-273 406.5,-297 479.5,-297 479.5,-273 406.5,-273\"/>\n",
       "<text text-anchor=\"start\" x=\"411.5\" y=\"-281.6\" font-family=\"-apple-system, BlinkMacSystemFont, 'Segoe UI', Helvetica, Arial, sans-serif, 'Apple Color Emoji', 'Segoe UI Emoji', 'Segoe UI Symbol'\" font-size=\"13.00\">Ticker</text>\n",
       "<polygon fill=\"#ffffff\" stroke=\"transparent\" points=\"479.5,-273 479.5,-297 546.5,-297 546.5,-273 479.5,-273\"/>\n",
       "<text text-anchor=\"start\" x=\"508.5\" y=\"-282.6\" font-family=\"-apple-system, BlinkMacSystemFont, 'Segoe UI', Helvetica, Arial, sans-serif, 'Apple Color Emoji', 'Segoe UI Emoji', 'Segoe UI Symbol'\" font-style=\"italic\" font-size=\"13.00\">String</text>\n",
       "<polygon fill=\"#f5f5f5\" stroke=\"transparent\" points=\"375.5,-249 375.5,-273 406.5,-273 406.5,-249 375.5,-249\"/>\n",
       "<polygon fill=\"#f5f5f5\" stroke=\"transparent\" points=\"406.5,-249 406.5,-273 479.5,-273 479.5,-249 406.5,-249\"/>\n",
       "<text text-anchor=\"start\" x=\"411.5\" y=\"-257.6\" font-family=\"-apple-system, BlinkMacSystemFont, 'Segoe UI', Helvetica, Arial, sans-serif, 'Apple Color Emoji', 'Segoe UI Emoji', 'Segoe UI Symbol'\" font-size=\"13.00\">Book</text>\n",
       "<polygon fill=\"#f5f5f5\" stroke=\"transparent\" points=\"479.5,-249 479.5,-273 546.5,-273 546.5,-249 479.5,-249\"/>\n",
       "<text text-anchor=\"start\" x=\"508.5\" y=\"-258.6\" font-family=\"-apple-system, BlinkMacSystemFont, 'Segoe UI', Helvetica, Arial, sans-serif, 'Apple Color Emoji', 'Segoe UI Emoji', 'Segoe UI Symbol'\" font-style=\"italic\" font-size=\"13.00\">String</text>\n",
       "<polygon fill=\"#ffffff\" stroke=\"transparent\" points=\"375.5,-225 375.5,-249 406.5,-249 406.5,-225 375.5,-225\"/>\n",
       "<polygon fill=\"#ffffff\" stroke=\"transparent\" points=\"406.5,-225 406.5,-249 479.5,-249 479.5,-225 406.5,-225\"/>\n",
       "<text text-anchor=\"start\" x=\"411.5\" y=\"-233.6\" font-family=\"-apple-system, BlinkMacSystemFont, 'Segoe UI', Helvetica, Arial, sans-serif, 'Apple Color Emoji', 'Segoe UI Emoji', 'Segoe UI Symbol'\" font-size=\"13.00\">Product</text>\n",
       "<polygon fill=\"#ffffff\" stroke=\"transparent\" points=\"479.5,-225 479.5,-249 546.5,-249 546.5,-225 479.5,-225\"/>\n",
       "<text text-anchor=\"start\" x=\"508.5\" y=\"-234.6\" font-family=\"-apple-system, BlinkMacSystemFont, 'Segoe UI', Helvetica, Arial, sans-serif, 'Apple Color Emoji', 'Segoe UI Emoji', 'Segoe UI Symbol'\" font-style=\"italic\" font-size=\"13.00\">String</text>\n",
       "<polygon fill=\"#f5f5f5\" stroke=\"transparent\" points=\"375.5,-201 375.5,-225 406.5,-225 406.5,-201 375.5,-201\"/>\n",
       "<polygon fill=\"#f5f5f5\" stroke=\"transparent\" points=\"406.5,-201 406.5,-225 479.5,-225 479.5,-201 406.5,-201\"/>\n",
       "<text text-anchor=\"start\" x=\"411.5\" y=\"-209.6\" font-family=\"-apple-system, BlinkMacSystemFont, 'Segoe UI', Helvetica, Arial, sans-serif, 'Apple Color Emoji', 'Segoe UI Emoji', 'Segoe UI Symbol'\" font-size=\"13.00\">Quantity</text>\n",
       "<polygon fill=\"#f5f5f5\" stroke=\"transparent\" points=\"479.5,-201 479.5,-225 546.5,-225 546.5,-201 479.5,-201\"/>\n",
       "<text text-anchor=\"start\" x=\"527.5\" y=\"-210.6\" font-family=\"-apple-system, BlinkMacSystemFont, 'Segoe UI', Helvetica, Arial, sans-serif, 'Apple Color Emoji', 'Segoe UI Emoji', 'Segoe UI Symbol'\" font-style=\"italic\" font-size=\"13.00\">int</text>\n",
       "<polygon fill=\"#ffffff\" stroke=\"transparent\" points=\"375.5,-177 375.5,-201 406.5,-201 406.5,-177 375.5,-177\"/>\n",
       "<polygon fill=\"#ffffff\" stroke=\"transparent\" points=\"406.5,-177 406.5,-201 479.5,-201 479.5,-177 406.5,-177\"/>\n",
       "<text text-anchor=\"start\" x=\"411.5\" y=\"-185.6\" font-family=\"-apple-system, BlinkMacSystemFont, 'Segoe UI', Helvetica, Arial, sans-serif, 'Apple Color Emoji', 'Segoe UI Emoji', 'Segoe UI Symbol'\" font-size=\"13.00\">Strike</text>\n",
       "<polygon fill=\"#ffffff\" stroke=\"transparent\" points=\"479.5,-177 479.5,-201 546.5,-201 546.5,-177 479.5,-177\"/>\n",
       "<text text-anchor=\"start\" x=\"508.5\" y=\"-186.6\" font-family=\"-apple-system, BlinkMacSystemFont, 'Segoe UI', Helvetica, Arial, sans-serif, 'Apple Color Emoji', 'Segoe UI Emoji', 'Segoe UI Symbol'\" font-style=\"italic\" font-size=\"13.00\">String</text>\n",
       "<polygon fill=\"#f5f5f5\" stroke=\"transparent\" points=\"375.5,-153 375.5,-177 406.5,-177 406.5,-153 375.5,-153\"/>\n",
       "<polygon fill=\"#f5f5f5\" stroke=\"transparent\" points=\"406.5,-153 406.5,-177 479.5,-177 479.5,-153 406.5,-153\"/>\n",
       "<text text-anchor=\"start\" x=\"411.5\" y=\"-161.6\" font-family=\"-apple-system, BlinkMacSystemFont, 'Segoe UI', Helvetica, Arial, sans-serif, 'Apple Color Emoji', 'Segoe UI Emoji', 'Segoe UI Symbol'\" font-size=\"13.00\">Maturity</text>\n",
       "<polygon fill=\"#f5f5f5\" stroke=\"transparent\" points=\"479.5,-153 479.5,-177 546.5,-177 546.5,-153 479.5,-153\"/>\n",
       "<text text-anchor=\"start\" x=\"484.5\" y=\"-162.6\" font-family=\"-apple-system, BlinkMacSystemFont, 'Segoe UI', Helvetica, Arial, sans-serif, 'Apple Color Emoji', 'Segoe UI Emoji', 'Segoe UI Symbol'\" font-style=\"italic\" font-size=\"13.00\">LocalDate</text>\n",
       "<polygon fill=\"#ffffff\" stroke=\"transparent\" points=\"375.5,-129 375.5,-153 406.5,-153 406.5,-129 375.5,-129\"/>\n",
       "<polygon fill=\"#ffffff\" stroke=\"transparent\" points=\"406.5,-129 406.5,-153 479.5,-153 479.5,-129 406.5,-129\"/>\n",
       "<text text-anchor=\"start\" x=\"411.5\" y=\"-137.6\" font-family=\"-apple-system, BlinkMacSystemFont, 'Segoe UI', Helvetica, Arial, sans-serif, 'Apple Color Emoji', 'Segoe UI Emoji', 'Segoe UI Symbol'\" font-size=\"13.00\">OptionType</text>\n",
       "<polygon fill=\"#ffffff\" stroke=\"transparent\" points=\"479.5,-129 479.5,-153 546.5,-153 546.5,-129 479.5,-129\"/>\n",
       "<text text-anchor=\"start\" x=\"508.5\" y=\"-138.6\" font-family=\"-apple-system, BlinkMacSystemFont, 'Segoe UI', Helvetica, Arial, sans-serif, 'Apple Color Emoji', 'Segoe UI Emoji', 'Segoe UI Symbol'\" font-style=\"italic\" font-size=\"13.00\">String</text>\n",
       "<polygon fill=\"none\" stroke=\"black\" points=\"374,-128 374,-346 547,-346 547,-128 374,-128\"/>\n",
       "</g>\n",
       "<!-- Sensitivities&#45;&gt;Trade_Attributes -->\n",
       "<g id=\"edge2\" class=\"edge\">\n",
       "<title>Sensitivities-&gt;Trade_Attributes</title>\n",
       "<path fill=\"none\" stroke=\"black\" d=\"M194.4,-120.4C244.41,-142.4 305.53,-169.28 356.48,-191.69\"/>\n",
       "<polygon fill=\"black\" stroke=\"black\" points=\"355.3,-194.99 365.87,-195.82 358.12,-188.59 355.3,-194.99\"/>\n",
       "<text text-anchor=\"middle\" x=\"280\" y=\"-189.6\" font-family=\"-apple-system, BlinkMacSystemFont, 'Segoe UI', Helvetica, Arial, sans-serif, 'Apple Color Emoji', 'Segoe UI Emoji', 'Segoe UI Symbol'\" font-size=\"13.00\">TradeId → TradeId</text>\n",
       "</g>\n",
       "<!-- Market_Data_table -->\n",
       "<g id=\"node4\" class=\"node\">\n",
       "<title>Market_Data_table</title>\n",
       "<text text-anchor=\"start\" x=\"406\" y=\"-86.6\" font-family=\"-apple-system, BlinkMacSystemFont, 'Segoe UI', Helvetica, Arial, sans-serif, 'Apple Color Emoji', 'Segoe UI Emoji', 'Segoe UI Symbol'\" font-weight=\"bold\" font-size=\"13.00\">Market_Data_table</text>\n",
       "<polygon fill=\"#f5f5f5\" stroke=\"transparent\" points=\"377.5,-53 377.5,-77 408.5,-77 408.5,-53 377.5,-53\"/>\n",
       "<text text-anchor=\"start\" x=\"382.5\" y=\"-62.6\" font-family=\"-apple-system, BlinkMacSystemFont, 'Segoe UI', Helvetica, Arial, sans-serif, 'Apple Color Emoji', 'Segoe UI Emoji', 'Segoe UI Symbol'\" font-weight=\"bold\" font-size=\"13.00\">key</text>\n",
       "<polygon fill=\"#f5f5f5\" stroke=\"transparent\" points=\"408.5,-53 408.5,-77 476.5,-77 476.5,-53 408.5,-53\"/>\n",
       "<text text-anchor=\"start\" x=\"413.5\" y=\"-61.6\" font-family=\"-apple-system, BlinkMacSystemFont, 'Segoe UI', Helvetica, Arial, sans-serif, 'Apple Color Emoji', 'Segoe UI Emoji', 'Segoe UI Symbol'\" font-size=\"13.00\">AsOfDate</text>\n",
       "<polygon fill=\"#f5f5f5\" stroke=\"transparent\" points=\"476.5,-53 476.5,-77 543.5,-77 543.5,-53 476.5,-53\"/>\n",
       "<text text-anchor=\"start\" x=\"481.5\" y=\"-62.6\" font-family=\"-apple-system, BlinkMacSystemFont, 'Segoe UI', Helvetica, Arial, sans-serif, 'Apple Color Emoji', 'Segoe UI Emoji', 'Segoe UI Symbol'\" font-style=\"italic\" font-size=\"13.00\">LocalDate</text>\n",
       "<polygon fill=\"#ffffff\" stroke=\"transparent\" points=\"377.5,-29 377.5,-53 408.5,-53 408.5,-29 377.5,-29\"/>\n",
       "<text text-anchor=\"start\" x=\"382.5\" y=\"-38.6\" font-family=\"-apple-system, BlinkMacSystemFont, 'Segoe UI', Helvetica, Arial, sans-serif, 'Apple Color Emoji', 'Segoe UI Emoji', 'Segoe UI Symbol'\" font-weight=\"bold\" font-size=\"13.00\">key</text>\n",
       "<polygon fill=\"#ffffff\" stroke=\"transparent\" points=\"408.5,-29 408.5,-53 476.5,-53 476.5,-29 408.5,-29\"/>\n",
       "<text text-anchor=\"start\" x=\"413.5\" y=\"-37.6\" font-family=\"-apple-system, BlinkMacSystemFont, 'Segoe UI', Helvetica, Arial, sans-serif, 'Apple Color Emoji', 'Segoe UI Emoji', 'Segoe UI Symbol'\" font-size=\"13.00\">Instrument</text>\n",
       "<polygon fill=\"#ffffff\" stroke=\"transparent\" points=\"476.5,-29 476.5,-53 543.5,-53 543.5,-29 476.5,-29\"/>\n",
       "<text text-anchor=\"start\" x=\"505.5\" y=\"-38.6\" font-family=\"-apple-system, BlinkMacSystemFont, 'Segoe UI', Helvetica, Arial, sans-serif, 'Apple Color Emoji', 'Segoe UI Emoji', 'Segoe UI Symbol'\" font-style=\"italic\" font-size=\"13.00\">String</text>\n",
       "<polygon fill=\"#f5f5f5\" stroke=\"transparent\" points=\"377.5,-5 377.5,-29 408.5,-29 408.5,-5 377.5,-5\"/>\n",
       "<polygon fill=\"#f5f5f5\" stroke=\"transparent\" points=\"408.5,-5 408.5,-29 476.5,-29 476.5,-5 408.5,-5\"/>\n",
       "<text text-anchor=\"start\" x=\"413.5\" y=\"-13.6\" font-family=\"-apple-system, BlinkMacSystemFont, 'Segoe UI', Helvetica, Arial, sans-serif, 'Apple Color Emoji', 'Segoe UI Emoji', 'Segoe UI Symbol'\" font-size=\"13.00\">Quote</text>\n",
       "<polygon fill=\"#f5f5f5\" stroke=\"transparent\" points=\"476.5,-5 476.5,-29 543.5,-29 543.5,-5 476.5,-5\"/>\n",
       "<text text-anchor=\"start\" x=\"501.5\" y=\"-14.6\" font-family=\"-apple-system, BlinkMacSystemFont, 'Segoe UI', Helvetica, Arial, sans-serif, 'Apple Color Emoji', 'Segoe UI Emoji', 'Segoe UI Symbol'\" font-style=\"italic\" font-size=\"13.00\">double</text>\n",
       "<polygon fill=\"none\" stroke=\"black\" points=\"376.5,-4 376.5,-102 544.5,-102 544.5,-4 376.5,-4\"/>\n",
       "</g>\n",
       "<!-- Sensitivities&#45;&gt;Market_Data_table -->\n",
       "<g id=\"edge1\" class=\"edge\">\n",
       "<title>Sensitivities-&gt;Market_Data_table</title>\n",
       "<path fill=\"none\" stroke=\"black\" d=\"M194.4,-71.33C244.99,-67.83 306.95,-63.55 358.24,-60\"/>\n",
       "<polygon fill=\"black\" stroke=\"black\" points=\"358.61,-63.49 368.35,-59.3 358.13,-56.5 358.61,-63.49\"/>\n",
       "<text text-anchor=\"middle\" x=\"280\" y=\"-87.6\" font-family=\"-apple-system, BlinkMacSystemFont, 'Segoe UI', Helvetica, Arial, sans-serif, 'Apple Color Emoji', 'Segoe UI Emoji', 'Segoe UI Symbol'\" font-size=\"13.00\">AsOfDate → AsOfDate</text>\n",
       "<text text-anchor=\"middle\" x=\"280\" y=\"-73.6\" font-family=\"-apple-system, BlinkMacSystemFont, 'Segoe UI', Helvetica, Arial, sans-serif, 'Apple Color Emoji', 'Segoe UI Emoji', 'Segoe UI Symbol'\" font-size=\"13.00\">RiskFactor → Instrument</text>\n",
       "</g>\n",
       "<!-- Book_Hierarchy -->\n",
       "<g id=\"node3\" class=\"node\">\n",
       "<title>Book_Hierarchy</title>\n",
       "<text text-anchor=\"start\" x=\"708.5\" y=\"-270.6\" font-family=\"-apple-system, BlinkMacSystemFont, 'Segoe UI', Helvetica, Arial, sans-serif, 'Apple Color Emoji', 'Segoe UI Emoji', 'Segoe UI Symbol'\" font-weight=\"bold\" font-size=\"13.00\">Book_Hierarchy</text>\n",
       "<polygon fill=\"#f5f5f5\" stroke=\"transparent\" points=\"676.5,-237 676.5,-261 707.5,-261 707.5,-237 676.5,-237\"/>\n",
       "<text text-anchor=\"start\" x=\"681.5\" y=\"-246.6\" font-family=\"-apple-system, BlinkMacSystemFont, 'Segoe UI', Helvetica, Arial, sans-serif, 'Apple Color Emoji', 'Segoe UI Emoji', 'Segoe UI Symbol'\" font-weight=\"bold\" font-size=\"13.00\">key</text>\n",
       "<polygon fill=\"#f5f5f5\" stroke=\"transparent\" points=\"707.5,-237 707.5,-261 792.5,-261 792.5,-237 707.5,-237\"/>\n",
       "<text text-anchor=\"start\" x=\"712.5\" y=\"-245.6\" font-family=\"-apple-system, BlinkMacSystemFont, 'Segoe UI', Helvetica, Arial, sans-serif, 'Apple Color Emoji', 'Segoe UI Emoji', 'Segoe UI Symbol'\" font-size=\"13.00\">Book</text>\n",
       "<polygon fill=\"#f5f5f5\" stroke=\"transparent\" points=\"792.5,-237 792.5,-261 835.5,-261 835.5,-237 792.5,-237\"/>\n",
       "<text text-anchor=\"start\" x=\"797.5\" y=\"-246.6\" font-family=\"-apple-system, BlinkMacSystemFont, 'Segoe UI', Helvetica, Arial, sans-serif, 'Apple Color Emoji', 'Segoe UI Emoji', 'Segoe UI Symbol'\" font-style=\"italic\" font-size=\"13.00\">String</text>\n",
       "<polygon fill=\"#ffffff\" stroke=\"transparent\" points=\"676.5,-213 676.5,-237 707.5,-237 707.5,-213 676.5,-213\"/>\n",
       "<polygon fill=\"#ffffff\" stroke=\"transparent\" points=\"707.5,-213 707.5,-237 792.5,-237 792.5,-213 707.5,-213\"/>\n",
       "<text text-anchor=\"start\" x=\"712.5\" y=\"-221.6\" font-family=\"-apple-system, BlinkMacSystemFont, 'Segoe UI', Helvetica, Arial, sans-serif, 'Apple Color Emoji', 'Segoe UI Emoji', 'Segoe UI Symbol'\" font-size=\"13.00\">Desk</text>\n",
       "<polygon fill=\"#ffffff\" stroke=\"transparent\" points=\"792.5,-213 792.5,-237 835.5,-237 835.5,-213 792.5,-213\"/>\n",
       "<text text-anchor=\"start\" x=\"797.5\" y=\"-222.6\" font-family=\"-apple-system, BlinkMacSystemFont, 'Segoe UI', Helvetica, Arial, sans-serif, 'Apple Color Emoji', 'Segoe UI Emoji', 'Segoe UI Symbol'\" font-style=\"italic\" font-size=\"13.00\">String</text>\n",
       "<polygon fill=\"#f5f5f5\" stroke=\"transparent\" points=\"676.5,-189 676.5,-213 707.5,-213 707.5,-189 676.5,-189\"/>\n",
       "<polygon fill=\"#f5f5f5\" stroke=\"transparent\" points=\"707.5,-189 707.5,-213 792.5,-213 792.5,-189 707.5,-189\"/>\n",
       "<text text-anchor=\"start\" x=\"712.5\" y=\"-197.6\" font-family=\"-apple-system, BlinkMacSystemFont, 'Segoe UI', Helvetica, Arial, sans-serif, 'Apple Color Emoji', 'Segoe UI Emoji', 'Segoe UI Symbol'\" font-size=\"13.00\">Business Unit</text>\n",
       "<polygon fill=\"#f5f5f5\" stroke=\"transparent\" points=\"792.5,-189 792.5,-213 835.5,-213 835.5,-189 792.5,-189\"/>\n",
       "<text text-anchor=\"start\" x=\"797.5\" y=\"-198.6\" font-family=\"-apple-system, BlinkMacSystemFont, 'Segoe UI', Helvetica, Arial, sans-serif, 'Apple Color Emoji', 'Segoe UI Emoji', 'Segoe UI Symbol'\" font-style=\"italic\" font-size=\"13.00\">String</text>\n",
       "<polygon fill=\"none\" stroke=\"black\" points=\"675,-188 675,-286 836,-286 836,-188 675,-188\"/>\n",
       "</g>\n",
       "<!-- Trade_Attributes&#45;&gt;Book_Hierarchy -->\n",
       "<g id=\"edge3\" class=\"edge\">\n",
       "<title>Trade_Attributes-&gt;Book_Hierarchy</title>\n",
       "<path fill=\"none\" stroke=\"black\" d=\"M555.01,-237C587.49,-237 623.99,-237 656.8,-237\"/>\n",
       "<polygon fill=\"black\" stroke=\"black\" points=\"656.85,-240.5 666.85,-237 656.85,-233.5 656.85,-240.5\"/>\n",
       "<text text-anchor=\"middle\" x=\"611\" y=\"-240.6\" font-family=\"-apple-system, BlinkMacSystemFont, 'Segoe UI', Helvetica, Arial, sans-serif, 'Apple Color Emoji', 'Segoe UI Emoji', 'Segoe UI Symbol'\" font-size=\"13.00\">Book → Book</text>\n",
       "</g>\n",
       "</g>\n",
       "</svg>"
      ],
      "text/plain": [
       "<IPython.core.display.SVG object>"
      ]
     },
     "execution_count": 32,
     "metadata": {},
     "output_type": "execute_result"
    }
   ],
   "source": [
    "cube.schema"
   ]
  },
  {
   "cell_type": "code",
   "execution_count": 33,
   "metadata": {},
   "outputs": [],
   "source": [
    "# from v0.6.0 int and long table columns in base stores automatically become measures instead of levels unless they are keys.\n",
    "m[\"Quantity\"] = tt.agg.sum(trade_attributes[\"Quantity\"])"
   ]
  },
  {
   "cell_type": "markdown",
   "metadata": {},
   "source": [
    "In fact, the **attributes do not have to be static**. They can be refreshed as soon as data arrives. For example, by adding a “Trade status” into the `trade_attributes` store I could use it to tag trades as “Terminated” and filter them out from the view."
   ]
  },
  {
   "cell_type": "markdown",
   "metadata": {},
   "source": [
    "In the following cell, we are creating a hierarchy representing ogranisational structure:"
   ]
  },
  {
   "cell_type": "code",
   "execution_count": 34,
   "metadata": {},
   "outputs": [],
   "source": [
    "h[\"Portfolio Structure\"] = {\n",
    "    \"Business Unit\": lvl[\"Business Unit\"],\n",
    "    \"Desk\": lvl[\"Desk\"],\n",
    "    \"Book\": lvl[\"Book\"],\n",
    "}"
   ]
  },
  {
   "cell_type": "markdown",
   "metadata": {},
   "source": [
    "We can expand and collapse data along the multi-level hierarchy:"
   ]
  },
  {
   "cell_type": "code",
   "execution_count": 35,
   "metadata": {
    "atoti": {
     "height": 328,
     "widget": {
      "mapping": {
       "columns": [
        "ALL_MEASURES"
       ],
       "measures": [
        "[Measures].[Delta.SUM]"
       ],
       "rows": [
        "[Book_Hierarchy].[Portfolio Structure].[Business Unit] => [Book_Hierarchy].[Portfolio Structure].[Book]"
       ]
      },
      "query": {
       "mdx": "SELECT NON EMPTY Hierarchize(Union(Descendants({[Book_Hierarchy].[Portfolio Structure].[AllMember]}, 1, SELF_AND_BEFORE), Descendants({[Book_Hierarchy].[Portfolio Structure].[AllMember].[Equities]}, [Book_Hierarchy].[Portfolio Structure].[Desk]), Descendants({[Book_Hierarchy].[Portfolio Structure].[AllMember].[Equities].[Equity Trading]}, [Book_Hierarchy].[Portfolio Structure].[Book]), Descendants({[Book_Hierarchy].[Portfolio Structure].[AllMember].[Equities].[Structuring]}, [Book_Hierarchy].[Portfolio Structure].[Book]))) ON ROWS, NON EMPTY {[Measures].[Delta.SUM]} ON COLUMNS FROM [Sensitivities]",
       "updateMode": "once"
      },
      "serverKey": "default",
      "widgetKey": "pivot-table"
     }
    },
    "tags": []
   },
   "outputs": [
    {
     "data": {
      "application/vnd.atoti.widget.v0+json": {
       "name": null,
       "sessionId": "1685500705_DPWWLG",
       "sessionLocation": {
        "https": false,
        "port": 54183
       },
       "widgetCreationCode": "session.visualize()"
      },
      "text/html": [
       "<img src=\"data:image/svg+xml;charset=utf8,%3C%3Fxml%20version%3D%221.0%22%20standalone%3D%22no%22%3F%3E%3Csvg%20xmlns%3D%22http%3A%2F%2Fwww.w3.org%2F2000%2Fsvg%22%20height%3D%22320%22%20width%3D%221310%22%3E%3CforeignObject%20width%3D%22100%25%22%20height%3D%22100%25%22%20x%3D%220%22%20y%3D%220%22%3E%3Cstyle%20xmlns%3D%22http%3A%2F%2Fwww.w3.org%2F1999%2Fxhtml%22%20type%3D%22text%2Fcss%22%3E.anticon%20%7Bdisplay%3A%20inline-block%3B%20color%3A%20inherit%3B%20font-style%3A%20normal%3B%20line-height%3A%200%3B%20text-align%3A%20center%3B%20text-transform%3A%20none%3B%20vertical-align%3A%20-0.125em%3B%20text-rendering%3A%20optimizelegibility%3B%20-webkit-font-smoothing%3A%20antialiased%7D%0A.anticon%20%26gt%3B%20*%20%7Bline-height%3A%201%7D%0A.anticon%20svg%20%7Bdisplay%3A%20inline-block%7D%0A.anticon%5Btabindex%5D%20%7Bcursor%3A%20pointer%7D%0A*%2C%20%3A%3Abefore%2C%20%3A%3Aafter%20%7Bbox-sizing%3A%20unset%7D%0A.ant-root%20%5Bclass%5E%3D%22ant-%22%5D%2C%20.ant-root%20%5Bclass*%3D%22ant-%22%5D%2C%20.ant-root%20%5Bclass%5E%3D%22ant-%22%5D%20*%2C%20.ant-root%20%5Bclass*%3D%22ant-%22%5D%20*%2C%20.ant-root%20%5Bclass%5E%3D%22ant-%22%5D%20%3A%3Abefore%2C%20.ant-root%20%5Bclass*%3D%22ant-%22%5D%20%3A%3Abefore%2C%20.ant-root%20%5Bclass%5E%3D%22ant-%22%5D%20%3A%3Aafter%2C%20.ant-root%20%5Bclass*%3D%22ant-%22%5D%20%3A%3Aafter%20%7Bbox-sizing%3A%20border-box%7D%0A.ant-root%2C%20.ant-root%20%7Bwidth%3A%20100%25%3B%20height%3A%20100%25%7D%0A.ant-root%20*%2C%20.ant-root%20%3A%3Abefore%2C%20.ant-root%20%3A%3Aafter%20%7Bbox-sizing%3A%20border-box%7D%0A.ant-root%20%7Btext-size-adjust%3A%20100%25%3B%20-webkit-tap-highlight-color%3A%20rgba(0%2C%200%2C%200%2C%200)%3B%20font-family%3A%20-apple-system%2C%20BlinkMacSystemFont%2C%20%22Segoe%20UI%22%2C%20Roboto%2C%20%22Helvetica%20Neue%22%2C%20Arial%2C%20%22Noto%20Sans%22%2C%20sans-serif%2C%20%22Apple%20Color%20Emoji%22%2C%20%22Segoe%20UI%20Emoji%22%2C%20%22Segoe%20UI%20Symbol%22%2C%20%22Noto%20Color%20Emoji%22%3B%20line-height%3A%201.66667%3B%20color%3A%20rgb(89%2C%2089%2C%2089)%3B%20font-variant-ligatures%3A%20normal%3B%20font-variant-numeric%3A%20tabular-nums%3B%20font-variant-east-asian%3A%20normal%3B%20font-variant-caps%3A%20normal%3B%20font-variant-alternates%3A%20normal%3B%20background-color%3A%20rgb(255%2C%20255%2C%20255)%3B%20margin-top%3A%200px%3B%20margin-right%3A%200px%3B%20margin-bottom%3A%200px%3B%20margin-left%3A%200px%3B%20font-size%3A%2012px%3B%20--antd-wave-shadow-color%3A%20%231890ff%3B%20--scroll-bar%3A%200%7D%0A.ant-root%20svg%3Anot(%3Aroot)%20%7Boverflow-x%3A%20hidden%3B%20overflow-y%3A%20hidden%7D%0A.ant-root%20a%2C%20.ant-root%20area%2C%20.ant-root%20button%2C%20.ant-root%20%5Brole%3D%22button%22%5D%2C%20.ant-root%20input%3Anot(%5Btype%3D%22range%22%5D)%2C%20.ant-root%20label%2C%20.ant-root%20select%2C%20.ant-root%20summary%2C%20.ant-root%20textarea%20%7Btouch-action%3A%20manipulation%7D%0A.ant-root%20input%2C%20.ant-root%20button%2C%20.ant-root%20select%2C%20.ant-root%20optgroup%2C%20.ant-root%20textarea%20%7Bcolor%3A%20inherit%3B%20font-size%3A%20inherit%3B%20font-family%3A%20inherit%3B%20line-height%3A%20inherit%3B%20margin-top%3A%200px%3B%20margin-right%3A%200px%3B%20margin-bottom%3A%200px%3B%20margin-left%3A%200px%7D%0A.ant-root%20button%2C%20.ant-root%20input%20%7Boverflow-x%3A%20visible%3B%20overflow-y%3A%20visible%7D%0A.ant-root%20%5Btype%3D%22search%22%5D%20%7Boutline-offset%3A%20-2px%3B%20appearance%3A%20none%7D%0A.ant-root%20.anticon%20%7Bcolor%3A%20inherit%3B%20text-align%3A%20center%3B%20text-transform%3A%20none%3B%20vertical-align%3A%20-0.125em%3B%20text-rendering%3A%20optimizelegibility%3B%20-webkit-font-smoothing%3A%20antialiased%3B%20font-style%3A%20normal%3B%20line-height%3A%200%3B%20display%3A%20inline-block%7D%0A.ant-root%20.anticon%20%26gt%3B%20*%20%7Bline-height%3A%201%7D%0A.ant-root%20.anticon%20svg%20%7Bdisplay%3A%20inline-block%7D%0A.ant-root%20.anticon%5Btabindex%5D%20%7Bcursor%3A%20pointer%7D%0A.ant-root%20.ant-select-single%20.ant-select-selector%20%7Bdisplay%3A%20flex%7D%0A.ant-root%20.ant-select-single%20.ant-select-selector%20.ant-select-selection-search%20%7Bposition%3A%20absolute%3B%20top%3A%200px%3B%20right%3A%207px%3B%20bottom%3A%200px%3B%20left%3A%207px%7D%0A.ant-root%20.ant-select-single%20.ant-select-selector%20.ant-select-selection-search-input%20%7Bwidth%3A%20100%25%7D%0A.ant-root%20.ant-select-single%20.ant-select-selector%20.ant-select-selection-item%2C%20.ant-root%20.ant-select-single%20.ant-select-selector%20.ant-select-selection-placeholder%20%7Bpadding-top%3A%200px%3B%20padding-right%3A%200px%3B%20padding-bottom%3A%200px%3B%20padding-left%3A%200px%3B%20line-height%3A%2026px%3B%20transition-duration%3A%200.3s%3B%20transition-timing-function%3A%20ease%3B%20transition-delay%3A%200s%3B%20transition-property%3A%20all%7D%0A.ant-root%20.ant-select-single%20.ant-select-selector%20.ant-select-selection-item%20%7Buser-select%3A%20none%3B%20position%3A%20relative%7D%0A.ant-root%20.ant-select-single.ant-select-show-arrow%20.ant-select-selection-search%20%7Bright%3A%2019px%7D%0A.ant-root%20.ant-select-single.ant-select-show-arrow%20.ant-select-selection-item%2C%20.ant-root%20.ant-select-single.ant-select-show-arrow%20.ant-select-selection-placeholder%20%7Bpadding-right%3A%2015px%7D%0A.ant-root%20.ant-select-single%3Anot(.ant-select-customize-input)%20.ant-select-selector%20%7Bwidth%3A%20100%25%3B%20height%3A%2028px%3B%20padding-top%3A%200px%3B%20padding-right%3A%207px%3B%20padding-bottom%3A%200px%3B%20padding-left%3A%207px%7D%0A.ant-root%20.ant-select-single%3Anot(.ant-select-customize-input)%20.ant-select-selector%20.ant-select-selection-search-input%20%7Bheight%3A%2026px%7D%0A.ant-root%20.ant-select%20%7Bbox-sizing%3A%20border-box%3B%20color%3A%20rgb(89%2C%2089%2C%2089)%3B%20font-variant-ligatures%3A%20normal%3B%20font-variant-numeric%3A%20tabular-nums%3B%20font-variant-east-asian%3A%20normal%3B%20font-variant-caps%3A%20normal%3B%20font-variant-alternates%3A%20normal%3B%20cursor%3A%20pointer%3B%20margin-top%3A%200px%3B%20margin-right%3A%200px%3B%20margin-bottom%3A%200px%3B%20margin-left%3A%200px%3B%20padding-top%3A%200px%3B%20padding-right%3A%200px%3B%20padding-bottom%3A%200px%3B%20padding-left%3A%200px%3B%20font-size%3A%2012px%3B%20line-height%3A%201.66667%3B%20list-style-position%3A%20initial%3B%20list-style-image%3A%20initial%3B%20list-style-type%3A%20none%3B%20display%3A%20inline-block%3B%20position%3A%20relative%7D%0A.ant-root%20.ant-select%3Anot(.ant-select-customize-input)%20.ant-select-selector%20%7Bbackground-color%3A%20rgb(255%2C%20255%2C%20255)%3B%20border-top-width%3A%201px%3B%20border-right-width%3A%201px%3B%20border-bottom-width%3A%201px%3B%20border-left-width%3A%201px%3B%20border-top-style%3A%20solid%3B%20border-right-style%3A%20solid%3B%20border-bottom-style%3A%20solid%3B%20border-left-style%3A%20solid%3B%20border-top-color%3A%20rgb(233%2C%20233%2C%20233)%3B%20border-right-color%3A%20rgb(233%2C%20233%2C%20233)%3B%20border-bottom-color%3A%20rgb(233%2C%20233%2C%20233)%3B%20border-left-color%3A%20rgb(233%2C%20233%2C%20233)%3B%20border-image-source%3A%20initial%3B%20border-image-slice%3A%20initial%3B%20border-image-width%3A%20initial%3B%20border-image-outset%3A%20initial%3B%20border-image-repeat%3A%20initial%3B%20border-top-left-radius%3A%202px%3B%20border-top-right-radius%3A%202px%3B%20border-bottom-right-radius%3A%202px%3B%20border-bottom-left-radius%3A%202px%3B%20transition-duration%3A%200.3s%3B%20transition-timing-function%3A%20cubic-bezier(0.645%2C%200.045%2C%200.355%2C%201)%3B%20transition-delay%3A%200s%3B%20transition-property%3A%20all%3B%20position%3A%20relative%7D%0A.ant-root%20.ant-select%3Anot(.ant-select-customize-input)%20.ant-select-selector%20input%20%7Bcursor%3A%20pointer%7D%0A.ant-root%20.ant-select%3Anot(.ant-select-customize-input)%20.ant-select-selector%20.ant-select-selection-search-input%20%7Bappearance%3A%20none%3B%20background-image%3A%20initial%3B%20background-position-x%3A%200px%3B%20background-position-y%3A%200px%3B%20background-size%3A%20initial%3B%20background-repeat-x%3A%20initial%3B%20background-repeat-y%3A%20initial%3B%20background-attachment%3A%20initial%3B%20background-origin%3A%20initial%3B%20background-clip%3A%20initial%3B%20background-color%3A%20initial%3B%20border-top-width%3A%20initial%3B%20border-right-width%3A%20initial%3B%20border-bottom-width%3A%20initial%3B%20border-left-width%3A%20initial%3B%20border-top-style%3A%20none%3B%20border-right-style%3A%20none%3B%20border-bottom-style%3A%20none%3B%20border-left-style%3A%20none%3B%20border-top-color%3A%20initial%3B%20border-right-color%3A%20initial%3B%20border-bottom-color%3A%20initial%3B%20border-left-color%3A%20initial%3B%20border-image-source%3A%20initial%3B%20border-image-slice%3A%20initial%3B%20border-image-width%3A%20initial%3B%20border-image-outset%3A%20initial%3B%20border-image-repeat%3A%20initial%3B%20outline-color%3A%20initial%3B%20outline-style%3A%20none%3B%20outline-width%3A%20initial%3B%20margin-top%3A%200px%3B%20margin-right%3A%200px%3B%20margin-bottom%3A%200px%3B%20margin-left%3A%200px%3B%20padding-top%3A%200px%3B%20padding-right%3A%200px%3B%20padding-bottom%3A%200px%3B%20padding-left%3A%200px%7D%0A.ant-root%20.ant-select-selection-item%20%7Bwhite-space%3A%20nowrap%3B%20text-overflow%3A%20ellipsis%3B%20flex-grow%3A%201%3B%20flex-shrink%3A%201%3B%20flex-basis%3A%200%25%3B%20overflow-x%3A%20hidden%3B%20overflow-y%3A%20hidden%7D%0A.ant-root%20.ant-select-arrow%20%7Btext-transform%3A%20none%3B%20vertical-align%3A%20-0.125em%3B%20text-rendering%3A%20optimizelegibility%3B%20-webkit-font-smoothing%3A%20antialiased%3B%20width%3A%2012px%3B%20height%3A%2012px%3B%20color%3A%20rgb(191%2C%20191%2C%20191)%3B%20text-align%3A%20center%3B%20pointer-events%3A%20none%3B%20margin-top%3A%20-6px%3B%20font-size%3A%2012px%3B%20font-style%3A%20normal%3B%20line-height%3A%201%3B%20display%3A%20inline-block%3B%20position%3A%20absolute%3B%20top%3A%2053%25%3B%20right%3A%207px%7D%0A.ant-root%20.ant-select-arrow%20%26gt%3B%20*%20%7Bline-height%3A%201%7D%0A.ant-root%20.ant-select-arrow%20svg%20%7Bdisplay%3A%20inline-block%7D%0A.ant-root%20.ant-select-arrow%20.anticon%20%7Bvertical-align%3A%20top%3B%20transition-duration%3A%200.3s%3B%20transition-timing-function%3A%20ease%3B%20transition-delay%3A%200s%3B%20transition-property%3A%20transform%7D%0A.ant-root%20.ant-select-arrow%20.anticon%20%26gt%3B%20svg%20%7Bvertical-align%3A%20top%7D%0A.ant-root%20.ant-select-borderless%20.ant-select-selector%20%7Bbox-shadow%3A%20none%20!important%3B%20background-color%3A%20rgba(0%2C%200%2C%200%2C%200)%20!important%3B%20border-top-color%3A%20rgba(0%2C%200%2C%200%2C%200)%20!important%3B%20border-right-color%3A%20rgba(0%2C%200%2C%200%2C%200)%20!important%3B%20border-bottom-color%3A%20rgba(0%2C%200%2C%200%2C%200)%20!important%3B%20border-left-color%3A%20rgba(0%2C%200%2C%200%2C%200)%20!important%7D%0A.ant-root%20.aui-invisible-scrollbars%20%7B%7D%0A.css-12ebr42-AWidget%20%7Bheight%3A%20100%25%7D%0A.css-2p9ued-WidgetLoadingOverlay%20%7Bheight%3A%20100%25%3B%20position%3A%20relative%7D%0A.css-1b1raxz-DefaultWidgetLoadingOverlay%20%7Bdisplay%3A%20flex%3B%20height%3A%20100%25%3B%20-webkit-box-pack%3A%20center%3B%20justify-content%3A%20center%3B%20position%3A%20absolute%3B%20width%3A%20100%25%3B%20-webkit-box-align%3A%20center%3B%20align-items%3A%20center%3B%20pointer-events%3A%20none%3B%20z-index%3A%202%7D%0A.css-34a2ml-DefaultWidgetLoadingOverlay%20%7Bbackground-image%3A%20initial%3B%20background-position-x%3A%20initial%3B%20background-position-y%3A%20initial%3B%20background-size%3A%20initial%3B%20background-repeat-x%3A%20initial%3B%20background-repeat-y%3A%20initial%3B%20background-attachment%3A%20initial%3B%20background-origin%3A%20initial%3B%20background-clip%3A%20initial%3B%20background-color%3A%20transparent%3B%20width%3A%20calc(100%25%20-%204px)%3B%20height%3A%20calc(100%25%20-%204px)%7D%0A.css-1hwl8p1-Table%20%7Bpadding-bottom%3A%202px%3B%20padding-right%3A%202px%3B%20height%3A%20100%25%7D%0A.css-14ejcn0-Table%20%7Bheight%3A%20calc(100%25%20-%2030px)%3B%20outline-color%3A%20initial%3B%20outline-style%3A%20none%3B%20outline-width%3A%20initial%3B%20position%3A%20relative%7D%0A.css-1rxpjm0-ColumnResizeHint%20%7Bdisplay%3A%20none%3B%20position%3A%20absolute%3B%20z-index%3A%201%7D%0A.css-walxhl-ColumnResizeHint%20%7Bheight%3A%2028px%3B%20background-color%3A%20rgb(24%2C%20144%2C%20255)%3B%20width%3A%205px%7D%0A.css-1uww2vi-Table%20%7Bheight%3A%2030px%3B%20text-align%3A%20right%3B%20padding-right%3A%2025px%7D%0A.css-1hol363-ResizableCell%20%7Bdisplay%3A%20flex%3B%20flex-direction%3A%20column%3B%20position%3A%20absolute%3B%20top%3A%200px%3B%20left%3A%200px%3B%20height%3A%2028px%3B%20width%3A%20120px%7D%0A.css-xxcrt1-ResizableCell%20%7Bbackground-image%3A%20initial%3B%20background-position-x%3A%20initial%3B%20background-position-y%3A%20initial%3B%20background-size%3A%20initial%3B%20background-repeat-x%3A%20initial%3B%20background-repeat-y%3A%20initial%3B%20background-attachment%3A%20initial%3B%20background-origin%3A%20initial%3B%20background-clip%3A%20initial%3B%20background-color%3A%20transparent%3B%20cursor%3A%20col-resize%3B%20height%3A%20100%25%3B%20position%3A%20absolute%3B%20right%3A%200px%3B%20width%3A%205px%3B%20z-index%3A%201%7D%0A.css-fpuq48-ResizableCell%20%7Bdisplay%3A%20flex%3B%20flex-direction%3A%20column%3B%20position%3A%20absolute%3B%20top%3A%200px%3B%20left%3A%20120px%3B%20height%3A%2028px%3B%20width%3A%20120px%7D%0A.css-3geaec-ResizableCell%20%7Bdisplay%3A%20flex%3B%20flex-direction%3A%20column%3B%20position%3A%20absolute%3B%20top%3A%200px%3B%20left%3A%20240px%3B%20height%3A%2028px%3B%20width%3A%20120px%7D%0A.css-td93r5-ColumnResizeHint%20%7Bdisplay%3A%20none%3B%20float%3A%20right%3B%20height%3A%20260px%3B%20background-color%3A%20rgb(24%2C%20144%2C%20255)%3B%20opacity%3A%200.4%3B%20width%3A%202px%7D%0A.css-1u0eowe-Table%20%7Bdisplay%3A%20flex%3B%20height%3A%20288px%7D%0A.css-17w6qeo-Table%20%7Bborder-collapse%3A%20collapse%3B%20height%3A%2028px%3B%20width%3A%20360px%7D%0A.css-1mo0147%20%7Bheight%3A%2028px%3B%20width%3A%20360px%7D%0A.css-jp6lk1%20%7Bcursor%3A%20cell%3B%20height%3A%2028px%3B%20overflow-x%3A%20hidden%3B%20overflow-y%3A%20hidden%3B%20position%3A%20relative%3B%20width%3A%20360px%3B%20border-right-width%3A%202px%3B%20border-right-style%3A%20solid%3B%20border-right-color%3A%20rgb(233%2C%20233%2C%20233)%7D%0A.css-1lgh0pt%20%7Bheight%3A%20260px%3B%20width%3A%20360px%3B%20overflow-x%3A%20hidden%3B%20overflow-y%3A%20auto%7D%0A.css-sqd2ah%20%7Bcursor%3A%20cell%3B%20height%3A%20252px%3B%20overflow-x%3A%20hidden%3B%20overflow-y%3A%20hidden%3B%20position%3A%20relative%3B%20width%3A%20360px%3B%20border-top-width%3A%202px%3B%20border-top-style%3A%20solid%3B%20border-top-color%3A%20rgb(233%2C%20233%2C%20233)%3B%20border-right-width%3A%202px%3B%20border-right-style%3A%20solid%3B%20border-right-color%3A%20rgb(233%2C%20233%2C%20233)%7D%0A.css-269iub-Table%20%7Bwidth%3A%20948px%3B%20border-collapse%3A%20collapse%7D%0A.css-cvjuvp%20%7Bheight%3A%2028px%3B%20width%3A%20930px%3B%20overflow-x%3A%20auto%3B%20overflow-y%3A%20hidden%7D%0A.css-1toshix%20%7Bcursor%3A%20cell%3B%20height%3A%2028px%3B%20overflow-x%3A%20hidden%3B%20overflow-y%3A%20hidden%3B%20position%3A%20relative%3B%20width%3A%20120px%7D%0A.css-1x1da6%20%7Bheight%3A%20260px%3B%20width%3A%20948px%3B%20overflow-x%3A%20auto%3B%20overflow-y%3A%20auto%7D%0A.css-1eje0r9%20%7Bcursor%3A%20cell%3B%20height%3A%20252px%3B%20overflow-x%3A%20hidden%3B%20overflow-y%3A%20hidden%3B%20position%3A%20relative%3B%20width%3A%20120px%3B%20border-top-width%3A%202px%3B%20border-top-style%3A%20solid%3B%20border-top-color%3A%20rgb(233%2C%20233%2C%20233)%7D%0A.css-q3vr58-SelectionOverlay%20%7Bbackground-image%3A%20initial%3B%20background-position-x%3A%20initial%3B%20background-position-y%3A%20initial%3B%20background-size%3A%20initial%3B%20background-repeat-x%3A%20initial%3B%20background-repeat-y%3A%20initial%3B%20background-attachment%3A%20initial%3B%20background-origin%3A%20initial%3B%20background-clip%3A%20initial%3B%20background-color%3A%20rgba(0%2C%20132%2C%20255%2C%200.1)%3B%20position%3A%20absolute%3B%20top%3A%20112px%3B%20left%3A%20240px%3B%20height%3A%2028px%3B%20width%3A%20120px%3B%20pointer-events%3A%20none%7D%0A.css-7chgg0-TableStatistics%20%7Bdisplay%3A%20flex%3B%20-webkit-box-pack%3A%20justify%3B%20justify-content%3A%20space-between%7D%0A.css-he8tu9-TableStatistics%20%7Boverflow-x%3A%20hidden%3B%20overflow-y%3A%20hidden%3B%20white-space%3A%20nowrap%3B%20text-overflow%3A%20ellipsis%7D%0A*%20%7B-ms-overflow-style%3A%20none%3B%20scrollbar-width%3A%20none%7D%0A*%3A%3A-webkit-scrollbar%20%7Bdisplay%3A%20none%7D%0A.atoti-hidden-in-snapshot%20%7Bdisplay%3A%20none%7D%3C%2Fstyle%3E%3Cdiv%20xmlns%3D%22http%3A%2F%2Fwww.w3.org%2F1999%2Fxhtml%22%20style%3D%22height%3A%20320px%3B%20width%3A%201310px%3B%22%3E%3Cdiv%20class%3D%22ant-root%20css-0%22%3E%3Cdiv%20class%3D%22ant-dropdown-trigger%20css-12ebr42-AWidget%22%3E%3Cdiv%20class%3D%22css-2p9ued-WidgetLoadingOverlay%22%3E%3Cdiv%20class%3D%22css-1b1raxz-DefaultWidgetLoadingOverlay%22%3E%3Cdiv%20class%3D%22css-34a2ml-DefaultWidgetLoadingOverlay%22%3E%3C%2Fdiv%3E%3C%2Fdiv%3E%3Cdiv%20class%3D%22css-1hwl8p1-Table%22%3E%3Cdiv%20tabindex%3D%220%22%20class%3D%22css-14ejcn0-Table%22%3E%3Cdiv%20class%3D%22css-1rxpjm0-ColumnResizeHint%22%3E%3Cdiv%20class%3D%22css-walxhl-ColumnResizeHint%22%3E%3C%2Fdiv%3E%3Cdiv%20class%3D%22css-td93r5-ColumnResizeHint%22%3E%3C%2Fdiv%3E%3C%2Fdiv%3E%3Cdiv%20class%3D%22css-1u0eowe-Table%22%3E%3Cdiv%20class%3D%22css-17w6qeo-Table%22%3E%3Cdiv%20class%3D%22%20css-1mo0147%22%3E%3Cdiv%20class%3D%22css-jp6lk1%22%3E%3Cdiv%20class%3D%22css-1hol363-ResizableCell%22%3E%3Cdiv%20class%3D%22aui-table-cell%22%20style%3D%22height%3A%2028px%3B%20left%3A%200px%3B%20top%3A%200px%3B%20width%3A%20115px%3B%20text-align%3A%20left%3B%20font-size%3A%2012px%3B%20padding%3A%204px%204px%203px%3B%20overflow%3A%20hidden%3B%20position%3A%20absolute%3B%20white-space%3A%20nowrap%3B%20text-overflow%3A%20ellipsis%3B%20font-weight%3A%20600%3B%20display%3A%20flex%3B%20align-items%3A%20center%3B%22%3E%3Cspan%3EBusiness%20Unit%3C%2Fspan%3E%3C%2Fdiv%3E%3Cdiv%20class%3D%22css-xxcrt1-ResizableCell%22%3E%3C%2Fdiv%3E%3C%2Fdiv%3E%3Cdiv%20class%3D%22css-fpuq48-ResizableCell%22%3E%3Cdiv%20class%3D%22aui-table-cell%22%20style%3D%22height%3A%2028px%3B%20left%3A%200px%3B%20top%3A%200px%3B%20width%3A%20115px%3B%20text-align%3A%20left%3B%20font-size%3A%2012px%3B%20padding%3A%204px%204px%203px%3B%20overflow%3A%20hidden%3B%20position%3A%20absolute%3B%20white-space%3A%20nowrap%3B%20text-overflow%3A%20ellipsis%3B%20font-weight%3A%20600%3B%20display%3A%20flex%3B%20align-items%3A%20center%3B%22%3E%3Cspan%3EDesk%3C%2Fspan%3E%3C%2Fdiv%3E%3Cdiv%20class%3D%22css-xxcrt1-ResizableCell%22%3E%3C%2Fdiv%3E%3C%2Fdiv%3E%3Cdiv%20class%3D%22css-3geaec-ResizableCell%22%3E%3Cdiv%20class%3D%22aui-table-cell%22%20style%3D%22height%3A%2028px%3B%20left%3A%200px%3B%20top%3A%200px%3B%20width%3A%20115px%3B%20text-align%3A%20left%3B%20font-size%3A%2012px%3B%20padding%3A%204px%204px%203px%3B%20overflow%3A%20hidden%3B%20position%3A%20absolute%3B%20white-space%3A%20nowrap%3B%20text-overflow%3A%20ellipsis%3B%20font-weight%3A%20600%3B%20display%3A%20flex%3B%20align-items%3A%20center%3B%22%3E%3Cspan%3EBook%3C%2Fspan%3E%3C%2Fdiv%3E%3Cdiv%20class%3D%22css-xxcrt1-ResizableCell%22%3E%3C%2Fdiv%3E%3C%2Fdiv%3E%3C%2Fdiv%3E%3C%2Fdiv%3E%3Cdiv%20class%3D%22aui-invisible-scrollbars%20css-1lgh0pt%22%3E%3Cdiv%20class%3D%22css-sqd2ah%22%3E%3Cdiv%20style%3D%22display%3A%20flex%3B%20align-items%3A%20center%3B%20height%3A%2028px%3B%20left%3A%200px%3B%20top%3A%200px%3B%20width%3A%20120px%3B%20text-align%3A%20left%3B%20font-size%3A%2012px%3B%20padding%3A%204px%204px%203px%3B%20overflow%3A%20hidden%3B%20position%3A%20absolute%3B%20white-space%3A%20nowrap%3B%20text-overflow%3A%20ellipsis%3B%20font-weight%3A%20600%3B%22%3E%3Cspan%20style%3D%22text-overflow%3A%20ellipsis%3B%20overflow%3A%20hidden%3B%20white-space%3A%20nowrap%3B%20max-width%3A%20calc((100%25%20-%200px)%20-%200px)%3B%22%3ETotal%3C%2Fspan%3E%3C%2Fdiv%3E%3Cdiv%20style%3D%22display%3A%20flex%3B%20align-items%3A%20center%3B%20height%3A%2028px%3B%20left%3A%20120px%3B%20top%3A%200px%3B%20width%3A%20120px%3B%20text-align%3A%20left%3B%20font-size%3A%2012px%3B%20padding%3A%204px%204px%203px%3B%20overflow%3A%20hidden%3B%20position%3A%20absolute%3B%20white-space%3A%20nowrap%3B%20text-overflow%3A%20ellipsis%3B%20font-weight%3A%20600%3B%22%3E%3Cspan%20style%3D%22text-overflow%3A%20ellipsis%3B%20overflow%3A%20hidden%3B%20white-space%3A%20nowrap%3B%20max-width%3A%20calc((100%25%20-%200px)%20-%200px)%3B%22%3E%3C%2Fspan%3E%3C%2Fdiv%3E%3Cdiv%20style%3D%22display%3A%20flex%3B%20align-items%3A%20center%3B%20height%3A%2028px%3B%20left%3A%20240px%3B%20top%3A%200px%3B%20width%3A%20120px%3B%20text-align%3A%20left%3B%20font-size%3A%2012px%3B%20padding%3A%204px%204px%203px%3B%20overflow%3A%20hidden%3B%20position%3A%20absolute%3B%20white-space%3A%20nowrap%3B%20text-overflow%3A%20ellipsis%3B%20border-right%3A%202px%20solid%20rgb(233%2C%20233%2C%20233)%3B%20background-color%3A%20transparent%3B%22%3E%3Cspan%20style%3D%22text-overflow%3A%20ellipsis%3B%20overflow%3A%20hidden%3B%20white-space%3A%20nowrap%3B%20max-width%3A%20calc((100%25%20-%200px)%20-%200px)%3B%22%3E%3C%2Fspan%3E%3C%2Fdiv%3E%3Cdiv%20style%3D%22display%3A%20flex%3B%20align-items%3A%20center%3B%20height%3A%2028px%3B%20left%3A%200px%3B%20top%3A%2028px%3B%20width%3A%20120px%3B%20text-align%3A%20left%3B%20font-size%3A%2012px%3B%20padding%3A%204px%204px%203px%3B%20overflow%3A%20hidden%3B%20position%3A%20absolute%3B%20white-space%3A%20nowrap%3B%20text-overflow%3A%20ellipsis%3B%20border-top%3A%201px%20solid%20rgb(233%2C%20233%2C%20233)%3B%20font-weight%3A%20600%3B%22%3E%3Cspan%20role%3D%22img%22%20aria-label%3D%22caret-down%22%20tabindex%3D%22-1%22%20class%3D%22anticon%20anticon-caret-down%22%20style%3D%22cursor%3A%20pointer%3B%20font-size%3A%2012px%3B%20margin-right%3A%206px%3B%20color%3A%20rgb(141%2C%20141%2C%20141)%3B%22%3E%3Csvg%20xmlns%3D%22http%3A%2F%2Fwww.w3.org%2F2000%2Fsvg%22%20viewBox%3D%220%200%201024%201024%22%20focusable%3D%22false%22%20data-icon%3D%22caret-down%22%20width%3D%221em%22%20height%3D%221em%22%20fill%3D%22currentColor%22%20aria-hidden%3D%22true%22%3E%3Cpath%20d%3D%22M840.4%20300H183.6c-19.7%200-30.7%2020.8-18.5%2035l328.4%20380.8c9.4%2010.9%2027.5%2010.9%2037%200L858.9%20335c12.2-14.2%201.2-35-18.5-35z%22%2F%3E%3C%2Fsvg%3E%3C%2Fspan%3E%3Cspan%20style%3D%22text-overflow%3A%20ellipsis%3B%20overflow%3A%20hidden%3B%20white-space%3A%20nowrap%3B%20max-width%3A%20calc((100%25%20-%2016px)%20-%200px)%3B%22%3EEquities%3C%2Fspan%3E%3C%2Fdiv%3E%3Cdiv%20style%3D%22display%3A%20flex%3B%20align-items%3A%20center%3B%20height%3A%2028px%3B%20left%3A%20120px%3B%20top%3A%2028px%3B%20width%3A%20120px%3B%20text-align%3A%20left%3B%20font-size%3A%2012px%3B%20padding%3A%204px%204px%203px%3B%20overflow%3A%20hidden%3B%20position%3A%20absolute%3B%20white-space%3A%20nowrap%3B%20text-overflow%3A%20ellipsis%3B%20border-top%3A%201px%20solid%20rgb(233%2C%20233%2C%20233)%3B%20font-weight%3A%20600%3B%22%3E%3Cspan%20style%3D%22text-overflow%3A%20ellipsis%3B%20overflow%3A%20hidden%3B%20white-space%3A%20nowrap%3B%20max-width%3A%20calc((100%25%20-%2016px)%20-%200px)%3B%22%3E%3C%2Fspan%3E%3C%2Fdiv%3E%3Cdiv%20style%3D%22display%3A%20flex%3B%20align-items%3A%20center%3B%20height%3A%2028px%3B%20left%3A%20240px%3B%20top%3A%2028px%3B%20width%3A%20120px%3B%20text-align%3A%20left%3B%20font-size%3A%2012px%3B%20padding%3A%204px%204px%203px%3B%20overflow%3A%20hidden%3B%20position%3A%20absolute%3B%20white-space%3A%20nowrap%3B%20text-overflow%3A%20ellipsis%3B%20border-right%3A%202px%20solid%20rgb(233%2C%20233%2C%20233)%3B%20border-top%3A%201px%20solid%20rgb(233%2C%20233%2C%20233)%3B%20background-color%3A%20transparent%3B%22%3E%3Cspan%20style%3D%22text-overflow%3A%20ellipsis%3B%20overflow%3A%20hidden%3B%20white-space%3A%20nowrap%3B%20max-width%3A%20calc((100%25%20-%2016px)%20-%200px)%3B%22%3E%3C%2Fspan%3E%3C%2Fdiv%3E%3Cdiv%20style%3D%22display%3A%20none%3B%20align-items%3A%20center%3B%20height%3A%2028px%3B%20left%3A%200px%3B%20top%3A%2056px%3B%20width%3A%20120px%3B%20text-align%3A%20left%3B%20font-size%3A%2012px%3B%20padding%3A%204px%204px%203px%3B%20overflow%3A%20hidden%3B%20position%3A%20absolute%3B%20white-space%3A%20nowrap%3B%20text-overflow%3A%20ellipsis%3B%20border-top%3A%201px%20solid%20rgb(233%2C%20233%2C%20233)%3B%20font-weight%3A%20600%3B%22%3E%3Cspan%20role%3D%22img%22%20aria-label%3D%22caret-down%22%20tabindex%3D%22-1%22%20class%3D%22anticon%20anticon-caret-down%22%20style%3D%22cursor%3A%20pointer%3B%20font-size%3A%2012px%3B%20margin-right%3A%206px%3B%20color%3A%20rgb(141%2C%20141%2C%20141)%3B%22%3E%3Csvg%20xmlns%3D%22http%3A%2F%2Fwww.w3.org%2F2000%2Fsvg%22%20viewBox%3D%220%200%201024%201024%22%20focusable%3D%22false%22%20data-icon%3D%22caret-down%22%20width%3D%221em%22%20height%3D%221em%22%20fill%3D%22currentColor%22%20aria-hidden%3D%22true%22%3E%3Cpath%20d%3D%22M840.4%20300H183.6c-19.7%200-30.7%2020.8-18.5%2035l328.4%20380.8c9.4%2010.9%2027.5%2010.9%2037%200L858.9%20335c12.2-14.2%201.2-35-18.5-35z%22%2F%3E%3C%2Fsvg%3E%3C%2Fspan%3E%3Cspan%20style%3D%22text-overflow%3A%20ellipsis%3B%20overflow%3A%20hidden%3B%20white-space%3A%20nowrap%3B%20max-width%3A%20calc((100%25%20-%2016px)%20-%200px)%3B%22%3EEquities%3C%2Fspan%3E%3C%2Fdiv%3E%3Cdiv%20style%3D%22display%3A%20flex%3B%20align-items%3A%20center%3B%20height%3A%2028px%3B%20left%3A%20120px%3B%20top%3A%2056px%3B%20width%3A%20120px%3B%20text-align%3A%20left%3B%20font-size%3A%2012px%3B%20padding%3A%204px%204px%203px%3B%20overflow%3A%20hidden%3B%20position%3A%20absolute%3B%20white-space%3A%20nowrap%3B%20text-overflow%3A%20ellipsis%3B%20border-top%3A%201px%20solid%20rgb(233%2C%20233%2C%20233)%3B%20font-weight%3A%20600%3B%22%3E%3Cspan%20role%3D%22img%22%20aria-label%3D%22caret-down%22%20tabindex%3D%22-1%22%20class%3D%22anticon%20anticon-caret-down%22%20style%3D%22cursor%3A%20pointer%3B%20font-size%3A%2012px%3B%20margin-right%3A%206px%3B%20color%3A%20rgb(141%2C%20141%2C%20141)%3B%22%3E%3Csvg%20xmlns%3D%22http%3A%2F%2Fwww.w3.org%2F2000%2Fsvg%22%20viewBox%3D%220%200%201024%201024%22%20focusable%3D%22false%22%20data-icon%3D%22caret-down%22%20width%3D%221em%22%20height%3D%221em%22%20fill%3D%22currentColor%22%20aria-hidden%3D%22true%22%3E%3Cpath%20d%3D%22M840.4%20300H183.6c-19.7%200-30.7%2020.8-18.5%2035l328.4%20380.8c9.4%2010.9%2027.5%2010.9%2037%200L858.9%20335c12.2-14.2%201.2-35-18.5-35z%22%2F%3E%3C%2Fsvg%3E%3C%2Fspan%3E%3Cspan%20style%3D%22text-overflow%3A%20ellipsis%3B%20overflow%3A%20hidden%3B%20white-space%3A%20nowrap%3B%20max-width%3A%20calc((100%25%20-%2016px)%20-%200px)%3B%22%3EEquity%20Trading%3C%2Fspan%3E%3C%2Fdiv%3E%3Cdiv%20style%3D%22display%3A%20flex%3B%20align-items%3A%20center%3B%20height%3A%2028px%3B%20left%3A%20240px%3B%20top%3A%2056px%3B%20width%3A%20120px%3B%20text-align%3A%20left%3B%20font-size%3A%2012px%3B%20padding%3A%204px%204px%203px%3B%20overflow%3A%20hidden%3B%20position%3A%20absolute%3B%20white-space%3A%20nowrap%3B%20text-overflow%3A%20ellipsis%3B%20border-right%3A%202px%20solid%20rgb(233%2C%20233%2C%20233)%3B%20border-top%3A%201px%20solid%20rgb(233%2C%20233%2C%20233)%3B%20background-color%3A%20transparent%3B%22%3E%3Cspan%20style%3D%22text-overflow%3A%20ellipsis%3B%20overflow%3A%20hidden%3B%20white-space%3A%20nowrap%3B%20max-width%3A%20calc((100%25%20-%2016px)%20-%200px)%3B%22%3E%3C%2Fspan%3E%3C%2Fdiv%3E%3Cdiv%20style%3D%22display%3A%20none%3B%20align-items%3A%20center%3B%20height%3A%2028px%3B%20left%3A%200px%3B%20top%3A%2084px%3B%20width%3A%20120px%3B%20text-align%3A%20left%3B%20font-size%3A%2012px%3B%20padding%3A%204px%204px%203px%3B%20overflow%3A%20hidden%3B%20position%3A%20absolute%3B%20white-space%3A%20nowrap%3B%20text-overflow%3A%20ellipsis%3B%20font-weight%3A%20600%3B%22%3E%3Cspan%20role%3D%22img%22%20aria-label%3D%22caret-down%22%20tabindex%3D%22-1%22%20class%3D%22anticon%20anticon-caret-down%22%20style%3D%22cursor%3A%20pointer%3B%20font-size%3A%2012px%3B%20margin-right%3A%206px%3B%20color%3A%20rgb(141%2C%20141%2C%20141)%3B%22%3E%3Csvg%20xmlns%3D%22http%3A%2F%2Fwww.w3.org%2F2000%2Fsvg%22%20viewBox%3D%220%200%201024%201024%22%20focusable%3D%22false%22%20data-icon%3D%22caret-down%22%20width%3D%221em%22%20height%3D%221em%22%20fill%3D%22currentColor%22%20aria-hidden%3D%22true%22%3E%3Cpath%20d%3D%22M840.4%20300H183.6c-19.7%200-30.7%2020.8-18.5%2035l328.4%20380.8c9.4%2010.9%2027.5%2010.9%2037%200L858.9%20335c12.2-14.2%201.2-35-18.5-35z%22%2F%3E%3C%2Fsvg%3E%3C%2Fspan%3E%3Cspan%20style%3D%22text-overflow%3A%20ellipsis%3B%20overflow%3A%20hidden%3B%20white-space%3A%20nowrap%3B%20max-width%3A%20calc((100%25%20-%2016px)%20-%200px)%3B%22%3EEquities%3C%2Fspan%3E%3C%2Fdiv%3E%3Cdiv%20style%3D%22display%3A%20none%3B%20align-items%3A%20center%3B%20height%3A%2028px%3B%20left%3A%20120px%3B%20top%3A%2084px%3B%20width%3A%20120px%3B%20text-align%3A%20left%3B%20font-size%3A%2012px%3B%20padding%3A%204px%204px%203px%3B%20overflow%3A%20hidden%3B%20position%3A%20absolute%3B%20white-space%3A%20nowrap%3B%20text-overflow%3A%20ellipsis%3B%20font-weight%3A%20600%3B%22%3E%3Cspan%20role%3D%22img%22%20aria-label%3D%22caret-down%22%20tabindex%3D%22-1%22%20class%3D%22anticon%20anticon-caret-down%22%20style%3D%22cursor%3A%20pointer%3B%20font-size%3A%2012px%3B%20margin-right%3A%206px%3B%20color%3A%20rgb(141%2C%20141%2C%20141)%3B%22%3E%3Csvg%20xmlns%3D%22http%3A%2F%2Fwww.w3.org%2F2000%2Fsvg%22%20viewBox%3D%220%200%201024%201024%22%20focusable%3D%22false%22%20data-icon%3D%22caret-down%22%20width%3D%221em%22%20height%3D%221em%22%20fill%3D%22currentColor%22%20aria-hidden%3D%22true%22%3E%3Cpath%20d%3D%22M840.4%20300H183.6c-19.7%200-30.7%2020.8-18.5%2035l328.4%20380.8c9.4%2010.9%2027.5%2010.9%2037%200L858.9%20335c12.2-14.2%201.2-35-18.5-35z%22%2F%3E%3C%2Fsvg%3E%3C%2Fspan%3E%3Cspan%20style%3D%22text-overflow%3A%20ellipsis%3B%20overflow%3A%20hidden%3B%20white-space%3A%20nowrap%3B%20max-width%3A%20calc((100%25%20-%2016px)%20-%200px)%3B%22%3EEquity%20Trading%3C%2Fspan%3E%3C%2Fdiv%3E%3Cdiv%20style%3D%22display%3A%20flex%3B%20align-items%3A%20center%3B%20height%3A%2028px%3B%20left%3A%20240px%3B%20top%3A%2084px%3B%20width%3A%20120px%3B%20text-align%3A%20left%3B%20font-size%3A%2012px%3B%20padding%3A%204px%204px%203px%3B%20overflow%3A%20hidden%3B%20position%3A%20absolute%3B%20white-space%3A%20nowrap%3B%20text-overflow%3A%20ellipsis%3B%20border-right%3A%202px%20solid%20rgb(233%2C%20233%2C%20233)%3B%20background-color%3A%20rgb(250%2C%20250%2C%20250)%3B%22%3E%3Cspan%20style%3D%22text-overflow%3A%20ellipsis%3B%20overflow%3A%20hidden%3B%20white-space%3A%20nowrap%3B%20max-width%3A%20calc((100%25%20-%200px)%20-%200px)%3B%22%3EEQ_LARG_DM%3C%2Fspan%3E%3C%2Fdiv%3E%3Cdiv%20style%3D%22display%3A%20none%3B%20align-items%3A%20center%3B%20height%3A%2028px%3B%20left%3A%200px%3B%20top%3A%20112px%3B%20width%3A%20120px%3B%20text-align%3A%20left%3B%20font-size%3A%2012px%3B%20padding%3A%204px%204px%203px%3B%20overflow%3A%20hidden%3B%20position%3A%20absolute%3B%20white-space%3A%20nowrap%3B%20text-overflow%3A%20ellipsis%3B%20font-weight%3A%20600%3B%22%3E%3Cspan%20role%3D%22img%22%20aria-label%3D%22caret-down%22%20tabindex%3D%22-1%22%20class%3D%22anticon%20anticon-caret-down%22%20style%3D%22cursor%3A%20pointer%3B%20font-size%3A%2012px%3B%20margin-right%3A%206px%3B%20color%3A%20rgb(141%2C%20141%2C%20141)%3B%22%3E%3Csvg%20xmlns%3D%22http%3A%2F%2Fwww.w3.org%2F2000%2Fsvg%22%20viewBox%3D%220%200%201024%201024%22%20focusable%3D%22false%22%20data-icon%3D%22caret-down%22%20width%3D%221em%22%20height%3D%221em%22%20fill%3D%22currentColor%22%20aria-hidden%3D%22true%22%3E%3Cpath%20d%3D%22M840.4%20300H183.6c-19.7%200-30.7%2020.8-18.5%2035l328.4%20380.8c9.4%2010.9%2027.5%2010.9%2037%200L858.9%20335c12.2-14.2%201.2-35-18.5-35z%22%2F%3E%3C%2Fsvg%3E%3C%2Fspan%3E%3Cspan%20style%3D%22text-overflow%3A%20ellipsis%3B%20overflow%3A%20hidden%3B%20white-space%3A%20nowrap%3B%20max-width%3A%20calc((100%25%20-%2016px)%20-%200px)%3B%22%3EEquities%3C%2Fspan%3E%3C%2Fdiv%3E%3Cdiv%20style%3D%22display%3A%20none%3B%20align-items%3A%20center%3B%20height%3A%2028px%3B%20left%3A%20120px%3B%20top%3A%20112px%3B%20width%3A%20120px%3B%20text-align%3A%20left%3B%20font-size%3A%2012px%3B%20padding%3A%204px%204px%203px%3B%20overflow%3A%20hidden%3B%20position%3A%20absolute%3B%20white-space%3A%20nowrap%3B%20text-overflow%3A%20ellipsis%3B%20font-weight%3A%20600%3B%22%3E%3Cspan%20role%3D%22img%22%20aria-label%3D%22caret-down%22%20tabindex%3D%22-1%22%20class%3D%22anticon%20anticon-caret-down%22%20style%3D%22cursor%3A%20pointer%3B%20font-size%3A%2012px%3B%20margin-right%3A%206px%3B%20color%3A%20rgb(141%2C%20141%2C%20141)%3B%22%3E%3Csvg%20xmlns%3D%22http%3A%2F%2Fwww.w3.org%2F2000%2Fsvg%22%20viewBox%3D%220%200%201024%201024%22%20focusable%3D%22false%22%20data-icon%3D%22caret-down%22%20width%3D%221em%22%20height%3D%221em%22%20fill%3D%22currentColor%22%20aria-hidden%3D%22true%22%3E%3Cpath%20d%3D%22M840.4%20300H183.6c-19.7%200-30.7%2020.8-18.5%2035l328.4%20380.8c9.4%2010.9%2027.5%2010.9%2037%200L858.9%20335c12.2-14.2%201.2-35-18.5-35z%22%2F%3E%3C%2Fsvg%3E%3C%2Fspan%3E%3Cspan%20style%3D%22text-overflow%3A%20ellipsis%3B%20overflow%3A%20hidden%3B%20white-space%3A%20nowrap%3B%20max-width%3A%20calc((100%25%20-%2016px)%20-%200px)%3B%22%3EEquity%20Trading%3C%2Fspan%3E%3C%2Fdiv%3E%3Cdiv%20style%3D%22display%3A%20flex%3B%20align-items%3A%20center%3B%20height%3A%2028px%3B%20left%3A%20240px%3B%20top%3A%20112px%3B%20width%3A%20120px%3B%20text-align%3A%20left%3B%20font-size%3A%2012px%3B%20padding%3A%204px%204px%203px%3B%20overflow%3A%20hidden%3B%20position%3A%20absolute%3B%20white-space%3A%20nowrap%3B%20text-overflow%3A%20ellipsis%3B%20border-right%3A%202px%20solid%20rgb(233%2C%20233%2C%20233)%3B%20background-color%3A%20transparent%3B%22%3E%3Cspan%20style%3D%22text-overflow%3A%20ellipsis%3B%20overflow%3A%20hidden%3B%20white-space%3A%20nowrap%3B%20max-width%3A%20calc((100%25%20-%200px)%20-%200px)%3B%22%3EEQ_SMAL_EM%3C%2Fspan%3E%3C%2Fdiv%3E%3Cdiv%20style%3D%22display%3A%20none%3B%20align-items%3A%20center%3B%20height%3A%2028px%3B%20left%3A%200px%3B%20top%3A%20140px%3B%20width%3A%20120px%3B%20text-align%3A%20left%3B%20font-size%3A%2012px%3B%20padding%3A%204px%204px%203px%3B%20overflow%3A%20hidden%3B%20position%3A%20absolute%3B%20white-space%3A%20nowrap%3B%20text-overflow%3A%20ellipsis%3B%20font-weight%3A%20600%3B%22%3E%3Cspan%20role%3D%22img%22%20aria-label%3D%22caret-down%22%20tabindex%3D%22-1%22%20class%3D%22anticon%20anticon-caret-down%22%20style%3D%22cursor%3A%20pointer%3B%20font-size%3A%2012px%3B%20margin-right%3A%206px%3B%20color%3A%20rgb(141%2C%20141%2C%20141)%3B%22%3E%3Csvg%20xmlns%3D%22http%3A%2F%2Fwww.w3.org%2F2000%2Fsvg%22%20viewBox%3D%220%200%201024%201024%22%20focusable%3D%22false%22%20data-icon%3D%22caret-down%22%20width%3D%221em%22%20height%3D%221em%22%20fill%3D%22currentColor%22%20aria-hidden%3D%22true%22%3E%3Cpath%20d%3D%22M840.4%20300H183.6c-19.7%200-30.7%2020.8-18.5%2035l328.4%20380.8c9.4%2010.9%2027.5%2010.9%2037%200L858.9%20335c12.2-14.2%201.2-35-18.5-35z%22%2F%3E%3C%2Fsvg%3E%3C%2Fspan%3E%3Cspan%20style%3D%22text-overflow%3A%20ellipsis%3B%20overflow%3A%20hidden%3B%20white-space%3A%20nowrap%3B%20max-width%3A%20calc((100%25%20-%2016px)%20-%200px)%3B%22%3EEquities%3C%2Fspan%3E%3C%2Fdiv%3E%3Cdiv%20style%3D%22display%3A%20none%3B%20align-items%3A%20center%3B%20height%3A%2028px%3B%20left%3A%20120px%3B%20top%3A%20140px%3B%20width%3A%20120px%3B%20text-align%3A%20left%3B%20font-size%3A%2012px%3B%20padding%3A%204px%204px%203px%3B%20overflow%3A%20hidden%3B%20position%3A%20absolute%3B%20white-space%3A%20nowrap%3B%20text-overflow%3A%20ellipsis%3B%20font-weight%3A%20600%3B%22%3E%3Cspan%20role%3D%22img%22%20aria-label%3D%22caret-down%22%20tabindex%3D%22-1%22%20class%3D%22anticon%20anticon-caret-down%22%20style%3D%22cursor%3A%20pointer%3B%20font-size%3A%2012px%3B%20margin-right%3A%206px%3B%20color%3A%20rgb(141%2C%20141%2C%20141)%3B%22%3E%3Csvg%20xmlns%3D%22http%3A%2F%2Fwww.w3.org%2F2000%2Fsvg%22%20viewBox%3D%220%200%201024%201024%22%20focusable%3D%22false%22%20data-icon%3D%22caret-down%22%20width%3D%221em%22%20height%3D%221em%22%20fill%3D%22currentColor%22%20aria-hidden%3D%22true%22%3E%3Cpath%20d%3D%22M840.4%20300H183.6c-19.7%200-30.7%2020.8-18.5%2035l328.4%20380.8c9.4%2010.9%2027.5%2010.9%2037%200L858.9%20335c12.2-14.2%201.2-35-18.5-35z%22%2F%3E%3C%2Fsvg%3E%3C%2Fspan%3E%3Cspan%20style%3D%22text-overflow%3A%20ellipsis%3B%20overflow%3A%20hidden%3B%20white-space%3A%20nowrap%3B%20max-width%3A%20calc((100%25%20-%2016px)%20-%200px)%3B%22%3EEquity%20Trading%3C%2Fspan%3E%3C%2Fdiv%3E%3Cdiv%20style%3D%22display%3A%20flex%3B%20align-items%3A%20center%3B%20height%3A%2028px%3B%20left%3A%20240px%3B%20top%3A%20140px%3B%20width%3A%20120px%3B%20text-align%3A%20left%3B%20font-size%3A%2012px%3B%20padding%3A%204px%204px%203px%3B%20overflow%3A%20hidden%3B%20position%3A%20absolute%3B%20white-space%3A%20nowrap%3B%20text-overflow%3A%20ellipsis%3B%20border-right%3A%202px%20solid%20rgb(233%2C%20233%2C%20233)%3B%20background-color%3A%20rgb(250%2C%20250%2C%20250)%3B%22%3E%3Cspan%20style%3D%22text-overflow%3A%20ellipsis%3B%20overflow%3A%20hidden%3B%20white-space%3A%20nowrap%3B%20max-width%3A%20calc((100%25%20-%200px)%20-%200px)%3B%22%3EEQ_WAREHOU%3C%2Fspan%3E%3C%2Fdiv%3E%3Cdiv%20style%3D%22display%3A%20none%3B%20align-items%3A%20center%3B%20height%3A%2028px%3B%20left%3A%200px%3B%20top%3A%20168px%3B%20width%3A%20120px%3B%20text-align%3A%20left%3B%20font-size%3A%2012px%3B%20padding%3A%204px%204px%203px%3B%20overflow%3A%20hidden%3B%20position%3A%20absolute%3B%20white-space%3A%20nowrap%3B%20text-overflow%3A%20ellipsis%3B%20border-top%3A%201px%20solid%20rgb(233%2C%20233%2C%20233)%3B%20font-weight%3A%20600%3B%22%3E%3Cspan%20role%3D%22img%22%20aria-label%3D%22caret-down%22%20tabindex%3D%22-1%22%20class%3D%22anticon%20anticon-caret-down%22%20style%3D%22cursor%3A%20pointer%3B%20font-size%3A%2012px%3B%20margin-right%3A%206px%3B%20color%3A%20rgb(141%2C%20141%2C%20141)%3B%22%3E%3Csvg%20xmlns%3D%22http%3A%2F%2Fwww.w3.org%2F2000%2Fsvg%22%20viewBox%3D%220%200%201024%201024%22%20focusable%3D%22false%22%20data-icon%3D%22caret-down%22%20width%3D%221em%22%20height%3D%221em%22%20fill%3D%22currentColor%22%20aria-hidden%3D%22true%22%3E%3Cpath%20d%3D%22M840.4%20300H183.6c-19.7%200-30.7%2020.8-18.5%2035l328.4%20380.8c9.4%2010.9%2027.5%2010.9%2037%200L858.9%20335c12.2-14.2%201.2-35-18.5-35z%22%2F%3E%3C%2Fsvg%3E%3C%2Fspan%3E%3Cspan%20style%3D%22text-overflow%3A%20ellipsis%3B%20overflow%3A%20hidden%3B%20white-space%3A%20nowrap%3B%20max-width%3A%20calc((100%25%20-%2016px)%20-%200px)%3B%22%3EEquities%3C%2Fspan%3E%3C%2Fdiv%3E%3Cdiv%20style%3D%22display%3A%20flex%3B%20align-items%3A%20center%3B%20height%3A%2028px%3B%20left%3A%20120px%3B%20top%3A%20168px%3B%20width%3A%20120px%3B%20text-align%3A%20left%3B%20font-size%3A%2012px%3B%20padding%3A%204px%204px%203px%3B%20overflow%3A%20hidden%3B%20position%3A%20absolute%3B%20white-space%3A%20nowrap%3B%20text-overflow%3A%20ellipsis%3B%20border-top%3A%201px%20solid%20rgb(233%2C%20233%2C%20233)%3B%20font-weight%3A%20600%3B%22%3E%3Cspan%20role%3D%22img%22%20aria-label%3D%22caret-down%22%20tabindex%3D%22-1%22%20class%3D%22anticon%20anticon-caret-down%22%20style%3D%22cursor%3A%20pointer%3B%20font-size%3A%2012px%3B%20margin-right%3A%206px%3B%20color%3A%20rgb(141%2C%20141%2C%20141)%3B%22%3E%3Csvg%20xmlns%3D%22http%3A%2F%2Fwww.w3.org%2F2000%2Fsvg%22%20viewBox%3D%220%200%201024%201024%22%20focusable%3D%22false%22%20data-icon%3D%22caret-down%22%20width%3D%221em%22%20height%3D%221em%22%20fill%3D%22currentColor%22%20aria-hidden%3D%22true%22%3E%3Cpath%20d%3D%22M840.4%20300H183.6c-19.7%200-30.7%2020.8-18.5%2035l328.4%20380.8c9.4%2010.9%2027.5%2010.9%2037%200L858.9%20335c12.2-14.2%201.2-35-18.5-35z%22%2F%3E%3C%2Fsvg%3E%3C%2Fspan%3E%3Cspan%20style%3D%22text-overflow%3A%20ellipsis%3B%20overflow%3A%20hidden%3B%20white-space%3A%20nowrap%3B%20max-width%3A%20calc((100%25%20-%2016px)%20-%200px)%3B%22%3EStructuring%3C%2Fspan%3E%3C%2Fdiv%3E%3Cdiv%20style%3D%22display%3A%20flex%3B%20align-items%3A%20center%3B%20height%3A%2028px%3B%20left%3A%20240px%3B%20top%3A%20168px%3B%20width%3A%20120px%3B%20text-align%3A%20left%3B%20font-size%3A%2012px%3B%20padding%3A%204px%204px%203px%3B%20overflow%3A%20hidden%3B%20position%3A%20absolute%3B%20white-space%3A%20nowrap%3B%20text-overflow%3A%20ellipsis%3B%20border-right%3A%202px%20solid%20rgb(233%2C%20233%2C%20233)%3B%20border-top%3A%201px%20solid%20rgb(233%2C%20233%2C%20233)%3B%20background-color%3A%20transparent%3B%22%3E%3Cspan%20style%3D%22text-overflow%3A%20ellipsis%3B%20overflow%3A%20hidden%3B%20white-space%3A%20nowrap%3B%20max-width%3A%20calc((100%25%20-%2016px)%20-%200px)%3B%22%3E%3C%2Fspan%3E%3C%2Fdiv%3E%3Cdiv%20style%3D%22display%3A%20none%3B%20align-items%3A%20center%3B%20height%3A%2028px%3B%20left%3A%200px%3B%20top%3A%20196px%3B%20width%3A%20120px%3B%20text-align%3A%20left%3B%20font-size%3A%2012px%3B%20padding%3A%204px%204px%203px%3B%20overflow%3A%20hidden%3B%20position%3A%20absolute%3B%20white-space%3A%20nowrap%3B%20text-overflow%3A%20ellipsis%3B%20font-weight%3A%20600%3B%22%3E%3Cspan%20role%3D%22img%22%20aria-label%3D%22caret-down%22%20tabindex%3D%22-1%22%20class%3D%22anticon%20anticon-caret-down%22%20style%3D%22cursor%3A%20pointer%3B%20font-size%3A%2012px%3B%20margin-right%3A%206px%3B%20color%3A%20rgb(141%2C%20141%2C%20141)%3B%22%3E%3Csvg%20xmlns%3D%22http%3A%2F%2Fwww.w3.org%2F2000%2Fsvg%22%20viewBox%3D%220%200%201024%201024%22%20focusable%3D%22false%22%20data-icon%3D%22caret-down%22%20width%3D%221em%22%20height%3D%221em%22%20fill%3D%22currentColor%22%20aria-hidden%3D%22true%22%3E%3Cpath%20d%3D%22M840.4%20300H183.6c-19.7%200-30.7%2020.8-18.5%2035l328.4%20380.8c9.4%2010.9%2027.5%2010.9%2037%200L858.9%20335c12.2-14.2%201.2-35-18.5-35z%22%2F%3E%3C%2Fsvg%3E%3C%2Fspan%3E%3Cspan%20style%3D%22text-overflow%3A%20ellipsis%3B%20overflow%3A%20hidden%3B%20white-space%3A%20nowrap%3B%20max-width%3A%20calc((100%25%20-%2016px)%20-%200px)%3B%22%3EEquities%3C%2Fspan%3E%3C%2Fdiv%3E%3Cdiv%20style%3D%22display%3A%20none%3B%20align-items%3A%20center%3B%20height%3A%2028px%3B%20left%3A%20120px%3B%20top%3A%20196px%3B%20width%3A%20120px%3B%20text-align%3A%20left%3B%20font-size%3A%2012px%3B%20padding%3A%204px%204px%203px%3B%20overflow%3A%20hidden%3B%20position%3A%20absolute%3B%20white-space%3A%20nowrap%3B%20text-overflow%3A%20ellipsis%3B%20font-weight%3A%20600%3B%22%3E%3Cspan%20role%3D%22img%22%20aria-label%3D%22caret-down%22%20tabindex%3D%22-1%22%20class%3D%22anticon%20anticon-caret-down%22%20style%3D%22cursor%3A%20pointer%3B%20font-size%3A%2012px%3B%20margin-right%3A%206px%3B%20color%3A%20rgb(141%2C%20141%2C%20141)%3B%22%3E%3Csvg%20xmlns%3D%22http%3A%2F%2Fwww.w3.org%2F2000%2Fsvg%22%20viewBox%3D%220%200%201024%201024%22%20focusable%3D%22false%22%20data-icon%3D%22caret-down%22%20width%3D%221em%22%20height%3D%221em%22%20fill%3D%22currentColor%22%20aria-hidden%3D%22true%22%3E%3Cpath%20d%3D%22M840.4%20300H183.6c-19.7%200-30.7%2020.8-18.5%2035l328.4%20380.8c9.4%2010.9%2027.5%2010.9%2037%200L858.9%20335c12.2-14.2%201.2-35-18.5-35z%22%2F%3E%3C%2Fsvg%3E%3C%2Fspan%3E%3Cspan%20style%3D%22text-overflow%3A%20ellipsis%3B%20overflow%3A%20hidden%3B%20white-space%3A%20nowrap%3B%20max-width%3A%20calc((100%25%20-%2016px)%20-%200px)%3B%22%3EStructuring%3C%2Fspan%3E%3C%2Fdiv%3E%3Cdiv%20style%3D%22display%3A%20flex%3B%20align-items%3A%20center%3B%20height%3A%2028px%3B%20left%3A%20240px%3B%20top%3A%20196px%3B%20width%3A%20120px%3B%20text-align%3A%20left%3B%20font-size%3A%2012px%3B%20padding%3A%204px%204px%203px%3B%20overflow%3A%20hidden%3B%20position%3A%20absolute%3B%20white-space%3A%20nowrap%3B%20text-overflow%3A%20ellipsis%3B%20border-right%3A%202px%20solid%20rgb(233%2C%20233%2C%20233)%3B%20background-color%3A%20rgb(250%2C%20250%2C%20250)%3B%22%3E%3Cspan%20style%3D%22text-overflow%3A%20ellipsis%3B%20overflow%3A%20hidden%3B%20white-space%3A%20nowrap%3B%20max-width%3A%20calc((100%25%20-%200px)%20-%200px)%3B%22%3EEQ_STRUCT%3C%2Fspan%3E%3C%2Fdiv%3E%3Cdiv%20style%3D%22display%3A%20none%3B%20align-items%3A%20center%3B%20height%3A%2028px%3B%20left%3A%200px%3B%20top%3A%20224px%3B%20width%3A%20120px%3B%20text-align%3A%20left%3B%20font-size%3A%2012px%3B%20padding%3A%204px%204px%203px%3B%20overflow%3A%20hidden%3B%20position%3A%20absolute%3B%20white-space%3A%20nowrap%3B%20text-overflow%3A%20ellipsis%3B%20font-weight%3A%20600%3B%22%3E%3Cspan%20role%3D%22img%22%20aria-label%3D%22caret-down%22%20tabindex%3D%22-1%22%20class%3D%22anticon%20anticon-caret-down%22%20style%3D%22cursor%3A%20pointer%3B%20font-size%3A%2012px%3B%20margin-right%3A%206px%3B%20color%3A%20rgb(141%2C%20141%2C%20141)%3B%22%3E%3Csvg%20xmlns%3D%22http%3A%2F%2Fwww.w3.org%2F2000%2Fsvg%22%20viewBox%3D%220%200%201024%201024%22%20focusable%3D%22false%22%20data-icon%3D%22caret-down%22%20width%3D%221em%22%20height%3D%221em%22%20fill%3D%22currentColor%22%20aria-hidden%3D%22true%22%3E%3Cpath%20d%3D%22M840.4%20300H183.6c-19.7%200-30.7%2020.8-18.5%2035l328.4%20380.8c9.4%2010.9%2027.5%2010.9%2037%200L858.9%20335c12.2-14.2%201.2-35-18.5-35z%22%2F%3E%3C%2Fsvg%3E%3C%2Fspan%3E%3Cspan%20style%3D%22text-overflow%3A%20ellipsis%3B%20overflow%3A%20hidden%3B%20white-space%3A%20nowrap%3B%20max-width%3A%20calc((100%25%20-%2016px)%20-%200px)%3B%22%3EEquities%3C%2Fspan%3E%3C%2Fdiv%3E%3Cdiv%20style%3D%22display%3A%20none%3B%20align-items%3A%20center%3B%20height%3A%2028px%3B%20left%3A%20120px%3B%20top%3A%20224px%3B%20width%3A%20120px%3B%20text-align%3A%20left%3B%20font-size%3A%2012px%3B%20padding%3A%204px%204px%203px%3B%20overflow%3A%20hidden%3B%20position%3A%20absolute%3B%20white-space%3A%20nowrap%3B%20text-overflow%3A%20ellipsis%3B%20font-weight%3A%20600%3B%22%3E%3Cspan%20role%3D%22img%22%20aria-label%3D%22caret-down%22%20tabindex%3D%22-1%22%20class%3D%22anticon%20anticon-caret-down%22%20style%3D%22cursor%3A%20pointer%3B%20font-size%3A%2012px%3B%20margin-right%3A%206px%3B%20color%3A%20rgb(141%2C%20141%2C%20141)%3B%22%3E%3Csvg%20xmlns%3D%22http%3A%2F%2Fwww.w3.org%2F2000%2Fsvg%22%20viewBox%3D%220%200%201024%201024%22%20focusable%3D%22false%22%20data-icon%3D%22caret-down%22%20width%3D%221em%22%20height%3D%221em%22%20fill%3D%22currentColor%22%20aria-hidden%3D%22true%22%3E%3Cpath%20d%3D%22M840.4%20300H183.6c-19.7%200-30.7%2020.8-18.5%2035l328.4%20380.8c9.4%2010.9%2027.5%2010.9%2037%200L858.9%20335c12.2-14.2%201.2-35-18.5-35z%22%2F%3E%3C%2Fsvg%3E%3C%2Fspan%3E%3Cspan%20style%3D%22text-overflow%3A%20ellipsis%3B%20overflow%3A%20hidden%3B%20white-space%3A%20nowrap%3B%20max-width%3A%20calc((100%25%20-%2016px)%20-%200px)%3B%22%3EStructuring%3C%2Fspan%3E%3C%2Fdiv%3E%3Cdiv%20style%3D%22display%3A%20flex%3B%20align-items%3A%20center%3B%20height%3A%2028px%3B%20left%3A%20240px%3B%20top%3A%20224px%3B%20width%3A%20120px%3B%20text-align%3A%20left%3B%20font-size%3A%2012px%3B%20padding%3A%204px%204px%203px%3B%20overflow%3A%20hidden%3B%20position%3A%20absolute%3B%20white-space%3A%20nowrap%3B%20text-overflow%3A%20ellipsis%3B%20border-right%3A%202px%20solid%20rgb(233%2C%20233%2C%20233)%3B%20background-color%3A%20transparent%3B%22%3E%3Cspan%20style%3D%22text-overflow%3A%20ellipsis%3B%20overflow%3A%20hidden%3B%20white-space%3A%20nowrap%3B%20max-width%3A%20calc((100%25%20-%200px)%20-%200px)%3B%22%3EEQ_VOL_HED%3C%2Fspan%3E%3C%2Fdiv%3E%3Cdiv%20class%3D%22css-q3vr58-SelectionOverlay%22%3E%3C%2Fdiv%3E%3C%2Fdiv%3E%3C%2Fdiv%3E%3C%2Fdiv%3E%3Cdiv%20class%3D%22css-269iub-Table%22%3E%3Cdiv%20class%3D%22aui-invisible-scrollbars%20css-cvjuvp%22%3E%3Cdiv%20class%3D%22css-1toshix%22%3E%3Cdiv%20class%3D%22css-1hol363-ResizableCell%22%3E%3Cdiv%20style%3D%22display%3A%20flex%3B%20align-items%3A%20center%3B%20height%3A%2028px%3B%20left%3A%200px%3B%20top%3A%200px%3B%20width%3A%20115px%3B%20text-align%3A%20left%3B%20font-size%3A%2012px%3B%20padding%3A%204px%204px%203px%3B%20overflow%3A%20hidden%3B%20position%3A%20absolute%3B%20white-space%3A%20nowrap%3B%20text-overflow%3A%20ellipsis%3B%20font-weight%3A%20600%3B%22%3E%3Cspan%20style%3D%22text-overflow%3A%20ellipsis%3B%20overflow%3A%20hidden%3B%20white-space%3A%20nowrap%3B%20max-width%3A%20calc((100%25%20-%200px)%20-%200px)%3B%22%3EDelta.SUM%3C%2Fspan%3E%3C%2Fdiv%3E%3Cdiv%20class%3D%22css-xxcrt1-ResizableCell%22%3E%3C%2Fdiv%3E%3C%2Fdiv%3E%3C%2Fdiv%3E%3C%2Fdiv%3E%3Cdiv%20class%3D%22%20css-1x1da6%22%3E%3Cdiv%20class%3D%22css-1eje0r9%22%3E%3Cdiv%20class%3D%22aui-table-cell%22%20style%3D%22height%3A%2028px%3B%20left%3A%200px%3B%20top%3A%200px%3B%20width%3A%20120px%3B%20text-align%3A%20right%3B%20font-size%3A%2012px%3B%20padding%3A%204px%204px%203px%3B%20overflow%3A%20hidden%3B%20position%3A%20absolute%3B%20white-space%3A%20nowrap%3B%20text-overflow%3A%20ellipsis%3B%20border-right%3A%201px%20solid%20rgb(233%2C%20233%2C%20233)%3B%20background-color%3A%20transparent%3B%22%3E34%2C450.16%3C%2Fdiv%3E%3Cdiv%20class%3D%22aui-table-cell%22%20style%3D%22height%3A%2028px%3B%20left%3A%200px%3B%20top%3A%2028px%3B%20width%3A%20120px%3B%20text-align%3A%20right%3B%20font-size%3A%2012px%3B%20padding%3A%204px%204px%203px%3B%20overflow%3A%20hidden%3B%20position%3A%20absolute%3B%20white-space%3A%20nowrap%3B%20text-overflow%3A%20ellipsis%3B%20border-right%3A%201px%20solid%20rgb(233%2C%20233%2C%20233)%3B%20border-top%3A%201px%20solid%20rgb(233%2C%20233%2C%20233)%3B%20background-color%3A%20transparent%3B%22%3E34%2C450.16%3C%2Fdiv%3E%3Cdiv%20class%3D%22aui-table-cell%22%20style%3D%22height%3A%2028px%3B%20left%3A%200px%3B%20top%3A%2056px%3B%20width%3A%20120px%3B%20text-align%3A%20right%3B%20font-size%3A%2012px%3B%20padding%3A%204px%204px%203px%3B%20overflow%3A%20hidden%3B%20position%3A%20absolute%3B%20white-space%3A%20nowrap%3B%20text-overflow%3A%20ellipsis%3B%20border-right%3A%201px%20solid%20rgb(233%2C%20233%2C%20233)%3B%20border-top%3A%201px%20solid%20rgb(233%2C%20233%2C%20233)%3B%20background-color%3A%20transparent%3B%22%3E50%2C003.35%3C%2Fdiv%3E%3Cdiv%20class%3D%22aui-table-cell%22%20style%3D%22height%3A%2028px%3B%20left%3A%200px%3B%20top%3A%2084px%3B%20width%3A%20120px%3B%20text-align%3A%20right%3B%20font-size%3A%2012px%3B%20padding%3A%204px%204px%203px%3B%20overflow%3A%20hidden%3B%20position%3A%20absolute%3B%20white-space%3A%20nowrap%3B%20text-overflow%3A%20ellipsis%3B%20border-right%3A%201px%20solid%20rgb(233%2C%20233%2C%20233)%3B%20background-color%3A%20rgb(250%2C%20250%2C%20250)%3B%22%3E34%2C792.10%3C%2Fdiv%3E%3Cdiv%20class%3D%22aui-table-cell%22%20style%3D%22height%3A%2028px%3B%20left%3A%200px%3B%20top%3A%20112px%3B%20width%3A%20120px%3B%20text-align%3A%20right%3B%20font-size%3A%2012px%3B%20padding%3A%204px%204px%203px%3B%20overflow%3A%20hidden%3B%20position%3A%20absolute%3B%20white-space%3A%20nowrap%3B%20text-overflow%3A%20ellipsis%3B%20border-right%3A%201px%20solid%20rgb(233%2C%20233%2C%20233)%3B%20background-color%3A%20transparent%3B%22%3E4%2C491.99%3C%2Fdiv%3E%3Cdiv%20class%3D%22aui-table-cell%22%20style%3D%22height%3A%2028px%3B%20left%3A%200px%3B%20top%3A%20140px%3B%20width%3A%20120px%3B%20text-align%3A%20right%3B%20font-size%3A%2012px%3B%20padding%3A%204px%204px%203px%3B%20overflow%3A%20hidden%3B%20position%3A%20absolute%3B%20white-space%3A%20nowrap%3B%20text-overflow%3A%20ellipsis%3B%20border-right%3A%201px%20solid%20rgb(233%2C%20233%2C%20233)%3B%20background-color%3A%20rgb(250%2C%20250%2C%20250)%3B%22%3E10%2C719.26%3C%2Fdiv%3E%3Cdiv%20class%3D%22aui-table-cell%22%20style%3D%22height%3A%2028px%3B%20left%3A%200px%3B%20top%3A%20168px%3B%20width%3A%20120px%3B%20text-align%3A%20right%3B%20font-size%3A%2012px%3B%20padding%3A%204px%204px%203px%3B%20overflow%3A%20hidden%3B%20position%3A%20absolute%3B%20white-space%3A%20nowrap%3B%20text-overflow%3A%20ellipsis%3B%20border-right%3A%201px%20solid%20rgb(233%2C%20233%2C%20233)%3B%20border-top%3A%201px%20solid%20rgb(233%2C%20233%2C%20233)%3B%20background-color%3A%20transparent%3B%22%3E-15%2C553.19%3C%2Fdiv%3E%3Cdiv%20class%3D%22aui-table-cell%22%20style%3D%22height%3A%2028px%3B%20left%3A%200px%3B%20top%3A%20196px%3B%20width%3A%20120px%3B%20text-align%3A%20right%3B%20font-size%3A%2012px%3B%20padding%3A%204px%204px%203px%3B%20overflow%3A%20hidden%3B%20position%3A%20absolute%3B%20white-space%3A%20nowrap%3B%20text-overflow%3A%20ellipsis%3B%20border-right%3A%201px%20solid%20rgb(233%2C%20233%2C%20233)%3B%20background-color%3A%20rgb(250%2C%20250%2C%20250)%3B%22%3E-7%2C677.24%3C%2Fdiv%3E%3Cdiv%20class%3D%22aui-table-cell%22%20style%3D%22height%3A%2028px%3B%20left%3A%200px%3B%20top%3A%20224px%3B%20width%3A%20120px%3B%20text-align%3A%20right%3B%20font-size%3A%2012px%3B%20padding%3A%204px%204px%203px%3B%20overflow%3A%20hidden%3B%20position%3A%20absolute%3B%20white-space%3A%20nowrap%3B%20text-overflow%3A%20ellipsis%3B%20border-right%3A%201px%20solid%20rgb(233%2C%20233%2C%20233)%3B%20background-color%3A%20transparent%3B%22%3E-7%2C875.95%3C%2Fdiv%3E%3C%2Fdiv%3E%3C%2Fdiv%3E%3C%2Fdiv%3E%3C%2Fdiv%3E%3C%2Fdiv%3E%3Cdiv%20class%3D%22css-1uww2vi-Table%22%3E%3Cdiv%20class%3D%22ant-select%20ant-select-borderless%20ant-select-single%20ant-select-show-arrow%22%3E%3Cdiv%20class%3D%22ant-select-selector%22%3E%3Cspan%20class%3D%22ant-select-selection-search%22%3E%3Cinput%20autocomplete%3D%22off%22%20type%3D%22search%22%20class%3D%22ant-select-selection-search-input%22%20role%3D%22combobox%22%20aria-haspopup%3D%22listbox%22%20aria-owns%3D%22rc_select_1_list%22%20aria-autocomplete%3D%22list%22%20aria-controls%3D%22rc_select_1_list%22%20aria-activedescendant%3D%22rc_select_1_list_0%22%20readonly%3D%22%22%20unselectable%3D%22on%22%20value%3D%22%22%20style%3D%22opacity%3A%200%3B%22%20id%3D%22rc_select_1%22%20%2F%3E%3C%2Fspan%3E%3Cspan%20class%3D%22ant-select-selection-item%22%3E%3Cdiv%20class%3D%22css-7chgg0-TableStatistics%22%3E%3Cdiv%20class%3D%22css-he8tu9-TableStatistics%22%3ESum%C2%A0%3C%2Fdiv%3E%3Cdiv%3E%3C%2Fdiv%3E%3C%2Fdiv%3E%3C%2Fspan%3E%3C%2Fdiv%3E%3Cspan%20class%3D%22ant-select-arrow%22%20unselectable%3D%22on%22%20aria-hidden%3D%22true%22%20style%3D%22user-select%3A%20none%3B%22%3E%3Cspan%20role%3D%22img%22%20aria-label%3D%22down%22%20class%3D%22anticon%20anticon-down%20ant-select-suffix%22%3E%3Csvg%20xmlns%3D%22http%3A%2F%2Fwww.w3.org%2F2000%2Fsvg%22%20viewBox%3D%2264%2064%20896%20896%22%20focusable%3D%22false%22%20data-icon%3D%22down%22%20width%3D%221em%22%20height%3D%221em%22%20fill%3D%22currentColor%22%20aria-hidden%3D%22true%22%3E%3Cpath%20d%3D%22M884%20256h-75c-5.1%200-9.9%202.5-12.9%206.6L512%20654.2%20227.9%20262.6c-3-4.1-7.8-6.6-12.9-6.6h-75c-6.5%200-10.3%207.4-6.5%2012.7l352.6%20486.1c12.8%2017.6%2039%2017.6%2051.7%200l352.6-486.1c3.9-5.3.1-12.7-6.4-12.7z%22%2F%3E%3C%2Fsvg%3E%3C%2Fspan%3E%3C%2Fspan%3E%3C%2Fdiv%3E%3C%2Fdiv%3E%3C%2Fdiv%3E%3C%2Fdiv%3E%3C%2Fdiv%3E%3C%2Fdiv%3E%3C%2Fdiv%3E%3C%2FforeignObject%3E%3C%2Fsvg%3E\">"
      ],
      "text/plain": [
       "Open the notebook in JupyterLab with the Atoti extension enabled to build this widget."
      ]
     },
     "metadata": {},
     "output_type": "display_data"
    }
   ],
   "source": [
    "session.visualize()"
   ]
  },
  {
   "cell_type": "markdown",
   "metadata": {},
   "source": [
    "Current data model schema:"
   ]
  },
  {
   "cell_type": "code",
   "execution_count": 36,
   "metadata": {},
   "outputs": [
    {
     "data": {
      "image/svg+xml": [
       "<svg xmlns=\"http://www.w3.org/2000/svg\" xmlns:xlink=\"http://www.w3.org/1999/xlink\" width=\"852px\" height=\"358px\" viewBox=\"0.00 0.00 852.00 358.00\">\n",
       "<g id=\"graph0\" class=\"graph\" transform=\"scale(1.0 1.0) rotate(0) translate(4 354)\">\n",
       "<title>Sensitivities schema</title>\n",
       "<polygon fill=\"white\" stroke=\"transparent\" points=\"-4,4 -4,-354 848,-354 848,4 -4,4\"/>\n",
       "<!-- Sensitivities -->\n",
       "<g id=\"node1\" class=\"node\">\n",
       "<title>Sensitivities</title>\n",
       "<text text-anchor=\"start\" x=\"61.5\" y=\"-135.6\" font-family=\"-apple-system, BlinkMacSystemFont, 'Segoe UI', Helvetica, Arial, sans-serif, 'Apple Color Emoji', 'Segoe UI Emoji', 'Segoe UI Symbol'\" font-weight=\"bold\" font-size=\"13.00\">Sensitivities</text>\n",
       "<polygon fill=\"#f5f5f5\" stroke=\"transparent\" points=\"9,-102 9,-126 40,-126 40,-102 9,-102\"/>\n",
       "<text text-anchor=\"start\" x=\"14\" y=\"-111.6\" font-family=\"-apple-system, BlinkMacSystemFont, 'Segoe UI', Helvetica, Arial, sans-serif, 'Apple Color Emoji', 'Segoe UI Emoji', 'Segoe UI Symbol'\" font-weight=\"bold\" font-size=\"13.00\">key</text>\n",
       "<polygon fill=\"#f5f5f5\" stroke=\"transparent\" points=\"40,-102 40,-126 118,-126 118,-102 40,-102\"/>\n",
       "<text text-anchor=\"start\" x=\"45\" y=\"-110.6\" font-family=\"-apple-system, BlinkMacSystemFont, 'Segoe UI', Helvetica, Arial, sans-serif, 'Apple Color Emoji', 'Segoe UI Emoji', 'Segoe UI Symbol'\" font-size=\"13.00\">AsOfDate</text>\n",
       "<polygon fill=\"#f5f5f5\" stroke=\"transparent\" points=\"118,-102 118,-126 185,-126 185,-102 118,-102\"/>\n",
       "<text text-anchor=\"start\" x=\"123\" y=\"-111.6\" font-family=\"-apple-system, BlinkMacSystemFont, 'Segoe UI', Helvetica, Arial, sans-serif, 'Apple Color Emoji', 'Segoe UI Emoji', 'Segoe UI Symbol'\" font-style=\"italic\" font-size=\"13.00\">LocalDate</text>\n",
       "<polygon fill=\"#ffffff\" stroke=\"transparent\" points=\"9,-78 9,-102 40,-102 40,-78 9,-78\"/>\n",
       "<text text-anchor=\"start\" x=\"14\" y=\"-87.6\" font-family=\"-apple-system, BlinkMacSystemFont, 'Segoe UI', Helvetica, Arial, sans-serif, 'Apple Color Emoji', 'Segoe UI Emoji', 'Segoe UI Symbol'\" font-weight=\"bold\" font-size=\"13.00\">key</text>\n",
       "<polygon fill=\"#ffffff\" stroke=\"transparent\" points=\"40,-78 40,-102 118,-102 118,-78 40,-78\"/>\n",
       "<text text-anchor=\"start\" x=\"45\" y=\"-86.6\" font-family=\"-apple-system, BlinkMacSystemFont, 'Segoe UI', Helvetica, Arial, sans-serif, 'Apple Color Emoji', 'Segoe UI Emoji', 'Segoe UI Symbol'\" font-size=\"13.00\">TradeId</text>\n",
       "<polygon fill=\"#ffffff\" stroke=\"transparent\" points=\"118,-78 118,-102 185,-102 185,-78 118,-78\"/>\n",
       "<text text-anchor=\"start\" x=\"147\" y=\"-87.6\" font-family=\"-apple-system, BlinkMacSystemFont, 'Segoe UI', Helvetica, Arial, sans-serif, 'Apple Color Emoji', 'Segoe UI Emoji', 'Segoe UI Symbol'\" font-style=\"italic\" font-size=\"13.00\">String</text>\n",
       "<polygon fill=\"#f5f5f5\" stroke=\"transparent\" points=\"9,-54 9,-78 40,-78 40,-54 9,-54\"/>\n",
       "<text text-anchor=\"start\" x=\"14\" y=\"-63.6\" font-family=\"-apple-system, BlinkMacSystemFont, 'Segoe UI', Helvetica, Arial, sans-serif, 'Apple Color Emoji', 'Segoe UI Emoji', 'Segoe UI Symbol'\" font-weight=\"bold\" font-size=\"13.00\">key</text>\n",
       "<polygon fill=\"#f5f5f5\" stroke=\"transparent\" points=\"40,-54 40,-78 118,-78 118,-54 40,-54\"/>\n",
       "<text text-anchor=\"start\" x=\"45\" y=\"-62.6\" font-family=\"-apple-system, BlinkMacSystemFont, 'Segoe UI', Helvetica, Arial, sans-serif, 'Apple Color Emoji', 'Segoe UI Emoji', 'Segoe UI Symbol'\" font-size=\"13.00\">RiskFactor</text>\n",
       "<polygon fill=\"#f5f5f5\" stroke=\"transparent\" points=\"118,-54 118,-78 185,-78 185,-54 118,-54\"/>\n",
       "<text text-anchor=\"start\" x=\"147\" y=\"-63.6\" font-family=\"-apple-system, BlinkMacSystemFont, 'Segoe UI', Helvetica, Arial, sans-serif, 'Apple Color Emoji', 'Segoe UI Emoji', 'Segoe UI Symbol'\" font-style=\"italic\" font-size=\"13.00\">String</text>\n",
       "<polygon fill=\"#ffffff\" stroke=\"transparent\" points=\"9,-30 9,-54 40,-54 40,-30 9,-30\"/>\n",
       "<polygon fill=\"#ffffff\" stroke=\"transparent\" points=\"40,-30 40,-54 118,-54 118,-30 40,-30\"/>\n",
       "<text text-anchor=\"start\" x=\"45\" y=\"-38.6\" font-family=\"-apple-system, BlinkMacSystemFont, 'Segoe UI', Helvetica, Arial, sans-serif, 'Apple Color Emoji', 'Segoe UI Emoji', 'Segoe UI Symbol'\" font-size=\"13.00\">MarketValue</text>\n",
       "<polygon fill=\"#ffffff\" stroke=\"transparent\" points=\"118,-30 118,-54 185,-54 185,-30 118,-30\"/>\n",
       "<text text-anchor=\"start\" x=\"143\" y=\"-39.6\" font-family=\"-apple-system, BlinkMacSystemFont, 'Segoe UI', Helvetica, Arial, sans-serif, 'Apple Color Emoji', 'Segoe UI Emoji', 'Segoe UI Symbol'\" font-style=\"italic\" font-size=\"13.00\">double</text>\n",
       "<polygon fill=\"#f5f5f5\" stroke=\"transparent\" points=\"9,-6 9,-30 40,-30 40,-6 9,-6\"/>\n",
       "<polygon fill=\"#f5f5f5\" stroke=\"transparent\" points=\"40,-6 40,-30 118,-30 118,-6 40,-6\"/>\n",
       "<text text-anchor=\"start\" x=\"45\" y=\"-14.6\" font-family=\"-apple-system, BlinkMacSystemFont, 'Segoe UI', Helvetica, Arial, sans-serif, 'Apple Color Emoji', 'Segoe UI Emoji', 'Segoe UI Symbol'\" font-size=\"13.00\">Delta</text>\n",
       "<polygon fill=\"#f5f5f5\" stroke=\"transparent\" points=\"118,-6 118,-30 185,-30 185,-6 118,-6\"/>\n",
       "<text text-anchor=\"start\" x=\"143\" y=\"-15.6\" font-family=\"-apple-system, BlinkMacSystemFont, 'Segoe UI', Helvetica, Arial, sans-serif, 'Apple Color Emoji', 'Segoe UI Emoji', 'Segoe UI Symbol'\" font-style=\"italic\" font-size=\"13.00\">double</text>\n",
       "<polygon fill=\"none\" stroke=\"black\" points=\"8,-5 8,-151 186,-151 186,-5 8,-5\"/>\n",
       "</g>\n",
       "<!-- Trade_Attributes -->\n",
       "<g id=\"node2\" class=\"node\">\n",
       "<title>Trade_Attributes</title>\n",
       "<text text-anchor=\"start\" x=\"411\" y=\"-330.6\" font-family=\"-apple-system, BlinkMacSystemFont, 'Segoe UI', Helvetica, Arial, sans-serif, 'Apple Color Emoji', 'Segoe UI Emoji', 'Segoe UI Symbol'\" font-weight=\"bold\" font-size=\"13.00\">Trade_Attributes</text>\n",
       "<polygon fill=\"#f5f5f5\" stroke=\"transparent\" points=\"375.5,-297 375.5,-321 406.5,-321 406.5,-297 375.5,-297\"/>\n",
       "<text text-anchor=\"start\" x=\"380.5\" y=\"-306.6\" font-family=\"-apple-system, BlinkMacSystemFont, 'Segoe UI', Helvetica, Arial, sans-serif, 'Apple Color Emoji', 'Segoe UI Emoji', 'Segoe UI Symbol'\" font-weight=\"bold\" font-size=\"13.00\">key</text>\n",
       "<polygon fill=\"#f5f5f5\" stroke=\"transparent\" points=\"406.5,-297 406.5,-321 479.5,-321 479.5,-297 406.5,-297\"/>\n",
       "<text text-anchor=\"start\" x=\"411.5\" y=\"-305.6\" font-family=\"-apple-system, BlinkMacSystemFont, 'Segoe UI', Helvetica, Arial, sans-serif, 'Apple Color Emoji', 'Segoe UI Emoji', 'Segoe UI Symbol'\" font-size=\"13.00\">TradeId</text>\n",
       "<polygon fill=\"#f5f5f5\" stroke=\"transparent\" points=\"479.5,-297 479.5,-321 546.5,-321 546.5,-297 479.5,-297\"/>\n",
       "<text text-anchor=\"start\" x=\"508.5\" y=\"-306.6\" font-family=\"-apple-system, BlinkMacSystemFont, 'Segoe UI', Helvetica, Arial, sans-serif, 'Apple Color Emoji', 'Segoe UI Emoji', 'Segoe UI Symbol'\" font-style=\"italic\" font-size=\"13.00\">String</text>\n",
       "<polygon fill=\"#ffffff\" stroke=\"transparent\" points=\"375.5,-273 375.5,-297 406.5,-297 406.5,-273 375.5,-273\"/>\n",
       "<polygon fill=\"#ffffff\" stroke=\"transparent\" points=\"406.5,-273 406.5,-297 479.5,-297 479.5,-273 406.5,-273\"/>\n",
       "<text text-anchor=\"start\" x=\"411.5\" y=\"-281.6\" font-family=\"-apple-system, BlinkMacSystemFont, 'Segoe UI', Helvetica, Arial, sans-serif, 'Apple Color Emoji', 'Segoe UI Emoji', 'Segoe UI Symbol'\" font-size=\"13.00\">Ticker</text>\n",
       "<polygon fill=\"#ffffff\" stroke=\"transparent\" points=\"479.5,-273 479.5,-297 546.5,-297 546.5,-273 479.5,-273\"/>\n",
       "<text text-anchor=\"start\" x=\"508.5\" y=\"-282.6\" font-family=\"-apple-system, BlinkMacSystemFont, 'Segoe UI', Helvetica, Arial, sans-serif, 'Apple Color Emoji', 'Segoe UI Emoji', 'Segoe UI Symbol'\" font-style=\"italic\" font-size=\"13.00\">String</text>\n",
       "<polygon fill=\"#f5f5f5\" stroke=\"transparent\" points=\"375.5,-249 375.5,-273 406.5,-273 406.5,-249 375.5,-249\"/>\n",
       "<polygon fill=\"#f5f5f5\" stroke=\"transparent\" points=\"406.5,-249 406.5,-273 479.5,-273 479.5,-249 406.5,-249\"/>\n",
       "<text text-anchor=\"start\" x=\"411.5\" y=\"-257.6\" font-family=\"-apple-system, BlinkMacSystemFont, 'Segoe UI', Helvetica, Arial, sans-serif, 'Apple Color Emoji', 'Segoe UI Emoji', 'Segoe UI Symbol'\" font-size=\"13.00\">Book</text>\n",
       "<polygon fill=\"#f5f5f5\" stroke=\"transparent\" points=\"479.5,-249 479.5,-273 546.5,-273 546.5,-249 479.5,-249\"/>\n",
       "<text text-anchor=\"start\" x=\"508.5\" y=\"-258.6\" font-family=\"-apple-system, BlinkMacSystemFont, 'Segoe UI', Helvetica, Arial, sans-serif, 'Apple Color Emoji', 'Segoe UI Emoji', 'Segoe UI Symbol'\" font-style=\"italic\" font-size=\"13.00\">String</text>\n",
       "<polygon fill=\"#ffffff\" stroke=\"transparent\" points=\"375.5,-225 375.5,-249 406.5,-249 406.5,-225 375.5,-225\"/>\n",
       "<polygon fill=\"#ffffff\" stroke=\"transparent\" points=\"406.5,-225 406.5,-249 479.5,-249 479.5,-225 406.5,-225\"/>\n",
       "<text text-anchor=\"start\" x=\"411.5\" y=\"-233.6\" font-family=\"-apple-system, BlinkMacSystemFont, 'Segoe UI', Helvetica, Arial, sans-serif, 'Apple Color Emoji', 'Segoe UI Emoji', 'Segoe UI Symbol'\" font-size=\"13.00\">Product</text>\n",
       "<polygon fill=\"#ffffff\" stroke=\"transparent\" points=\"479.5,-225 479.5,-249 546.5,-249 546.5,-225 479.5,-225\"/>\n",
       "<text text-anchor=\"start\" x=\"508.5\" y=\"-234.6\" font-family=\"-apple-system, BlinkMacSystemFont, 'Segoe UI', Helvetica, Arial, sans-serif, 'Apple Color Emoji', 'Segoe UI Emoji', 'Segoe UI Symbol'\" font-style=\"italic\" font-size=\"13.00\">String</text>\n",
       "<polygon fill=\"#f5f5f5\" stroke=\"transparent\" points=\"375.5,-201 375.5,-225 406.5,-225 406.5,-201 375.5,-201\"/>\n",
       "<polygon fill=\"#f5f5f5\" stroke=\"transparent\" points=\"406.5,-201 406.5,-225 479.5,-225 479.5,-201 406.5,-201\"/>\n",
       "<text text-anchor=\"start\" x=\"411.5\" y=\"-209.6\" font-family=\"-apple-system, BlinkMacSystemFont, 'Segoe UI', Helvetica, Arial, sans-serif, 'Apple Color Emoji', 'Segoe UI Emoji', 'Segoe UI Symbol'\" font-size=\"13.00\">Quantity</text>\n",
       "<polygon fill=\"#f5f5f5\" stroke=\"transparent\" points=\"479.5,-201 479.5,-225 546.5,-225 546.5,-201 479.5,-201\"/>\n",
       "<text text-anchor=\"start\" x=\"527.5\" y=\"-210.6\" font-family=\"-apple-system, BlinkMacSystemFont, 'Segoe UI', Helvetica, Arial, sans-serif, 'Apple Color Emoji', 'Segoe UI Emoji', 'Segoe UI Symbol'\" font-style=\"italic\" font-size=\"13.00\">int</text>\n",
       "<polygon fill=\"#ffffff\" stroke=\"transparent\" points=\"375.5,-177 375.5,-201 406.5,-201 406.5,-177 375.5,-177\"/>\n",
       "<polygon fill=\"#ffffff\" stroke=\"transparent\" points=\"406.5,-177 406.5,-201 479.5,-201 479.5,-177 406.5,-177\"/>\n",
       "<text text-anchor=\"start\" x=\"411.5\" y=\"-185.6\" font-family=\"-apple-system, BlinkMacSystemFont, 'Segoe UI', Helvetica, Arial, sans-serif, 'Apple Color Emoji', 'Segoe UI Emoji', 'Segoe UI Symbol'\" font-size=\"13.00\">Strike</text>\n",
       "<polygon fill=\"#ffffff\" stroke=\"transparent\" points=\"479.5,-177 479.5,-201 546.5,-201 546.5,-177 479.5,-177\"/>\n",
       "<text text-anchor=\"start\" x=\"508.5\" y=\"-186.6\" font-family=\"-apple-system, BlinkMacSystemFont, 'Segoe UI', Helvetica, Arial, sans-serif, 'Apple Color Emoji', 'Segoe UI Emoji', 'Segoe UI Symbol'\" font-style=\"italic\" font-size=\"13.00\">String</text>\n",
       "<polygon fill=\"#f5f5f5\" stroke=\"transparent\" points=\"375.5,-153 375.5,-177 406.5,-177 406.5,-153 375.5,-153\"/>\n",
       "<polygon fill=\"#f5f5f5\" stroke=\"transparent\" points=\"406.5,-153 406.5,-177 479.5,-177 479.5,-153 406.5,-153\"/>\n",
       "<text text-anchor=\"start\" x=\"411.5\" y=\"-161.6\" font-family=\"-apple-system, BlinkMacSystemFont, 'Segoe UI', Helvetica, Arial, sans-serif, 'Apple Color Emoji', 'Segoe UI Emoji', 'Segoe UI Symbol'\" font-size=\"13.00\">Maturity</text>\n",
       "<polygon fill=\"#f5f5f5\" stroke=\"transparent\" points=\"479.5,-153 479.5,-177 546.5,-177 546.5,-153 479.5,-153\"/>\n",
       "<text text-anchor=\"start\" x=\"484.5\" y=\"-162.6\" font-family=\"-apple-system, BlinkMacSystemFont, 'Segoe UI', Helvetica, Arial, sans-serif, 'Apple Color Emoji', 'Segoe UI Emoji', 'Segoe UI Symbol'\" font-style=\"italic\" font-size=\"13.00\">LocalDate</text>\n",
       "<polygon fill=\"#ffffff\" stroke=\"transparent\" points=\"375.5,-129 375.5,-153 406.5,-153 406.5,-129 375.5,-129\"/>\n",
       "<polygon fill=\"#ffffff\" stroke=\"transparent\" points=\"406.5,-129 406.5,-153 479.5,-153 479.5,-129 406.5,-129\"/>\n",
       "<text text-anchor=\"start\" x=\"411.5\" y=\"-137.6\" font-family=\"-apple-system, BlinkMacSystemFont, 'Segoe UI', Helvetica, Arial, sans-serif, 'Apple Color Emoji', 'Segoe UI Emoji', 'Segoe UI Symbol'\" font-size=\"13.00\">OptionType</text>\n",
       "<polygon fill=\"#ffffff\" stroke=\"transparent\" points=\"479.5,-129 479.5,-153 546.5,-153 546.5,-129 479.5,-129\"/>\n",
       "<text text-anchor=\"start\" x=\"508.5\" y=\"-138.6\" font-family=\"-apple-system, BlinkMacSystemFont, 'Segoe UI', Helvetica, Arial, sans-serif, 'Apple Color Emoji', 'Segoe UI Emoji', 'Segoe UI Symbol'\" font-style=\"italic\" font-size=\"13.00\">String</text>\n",
       "<polygon fill=\"none\" stroke=\"black\" points=\"374,-128 374,-346 547,-346 547,-128 374,-128\"/>\n",
       "</g>\n",
       "<!-- Sensitivities&#45;&gt;Trade_Attributes -->\n",
       "<g id=\"edge2\" class=\"edge\">\n",
       "<title>Sensitivities-&gt;Trade_Attributes</title>\n",
       "<path fill=\"none\" stroke=\"black\" d=\"M194.4,-120.4C244.41,-142.4 305.53,-169.28 356.48,-191.69\"/>\n",
       "<polygon fill=\"black\" stroke=\"black\" points=\"355.3,-194.99 365.87,-195.82 358.12,-188.59 355.3,-194.99\"/>\n",
       "<text text-anchor=\"middle\" x=\"280\" y=\"-189.6\" font-family=\"-apple-system, BlinkMacSystemFont, 'Segoe UI', Helvetica, Arial, sans-serif, 'Apple Color Emoji', 'Segoe UI Emoji', 'Segoe UI Symbol'\" font-size=\"13.00\">TradeId → TradeId</text>\n",
       "</g>\n",
       "<!-- Market_Data_table -->\n",
       "<g id=\"node4\" class=\"node\">\n",
       "<title>Market_Data_table</title>\n",
       "<text text-anchor=\"start\" x=\"406\" y=\"-86.6\" font-family=\"-apple-system, BlinkMacSystemFont, 'Segoe UI', Helvetica, Arial, sans-serif, 'Apple Color Emoji', 'Segoe UI Emoji', 'Segoe UI Symbol'\" font-weight=\"bold\" font-size=\"13.00\">Market_Data_table</text>\n",
       "<polygon fill=\"#f5f5f5\" stroke=\"transparent\" points=\"377.5,-53 377.5,-77 408.5,-77 408.5,-53 377.5,-53\"/>\n",
       "<text text-anchor=\"start\" x=\"382.5\" y=\"-62.6\" font-family=\"-apple-system, BlinkMacSystemFont, 'Segoe UI', Helvetica, Arial, sans-serif, 'Apple Color Emoji', 'Segoe UI Emoji', 'Segoe UI Symbol'\" font-weight=\"bold\" font-size=\"13.00\">key</text>\n",
       "<polygon fill=\"#f5f5f5\" stroke=\"transparent\" points=\"408.5,-53 408.5,-77 476.5,-77 476.5,-53 408.5,-53\"/>\n",
       "<text text-anchor=\"start\" x=\"413.5\" y=\"-61.6\" font-family=\"-apple-system, BlinkMacSystemFont, 'Segoe UI', Helvetica, Arial, sans-serif, 'Apple Color Emoji', 'Segoe UI Emoji', 'Segoe UI Symbol'\" font-size=\"13.00\">AsOfDate</text>\n",
       "<polygon fill=\"#f5f5f5\" stroke=\"transparent\" points=\"476.5,-53 476.5,-77 543.5,-77 543.5,-53 476.5,-53\"/>\n",
       "<text text-anchor=\"start\" x=\"481.5\" y=\"-62.6\" font-family=\"-apple-system, BlinkMacSystemFont, 'Segoe UI', Helvetica, Arial, sans-serif, 'Apple Color Emoji', 'Segoe UI Emoji', 'Segoe UI Symbol'\" font-style=\"italic\" font-size=\"13.00\">LocalDate</text>\n",
       "<polygon fill=\"#ffffff\" stroke=\"transparent\" points=\"377.5,-29 377.5,-53 408.5,-53 408.5,-29 377.5,-29\"/>\n",
       "<text text-anchor=\"start\" x=\"382.5\" y=\"-38.6\" font-family=\"-apple-system, BlinkMacSystemFont, 'Segoe UI', Helvetica, Arial, sans-serif, 'Apple Color Emoji', 'Segoe UI Emoji', 'Segoe UI Symbol'\" font-weight=\"bold\" font-size=\"13.00\">key</text>\n",
       "<polygon fill=\"#ffffff\" stroke=\"transparent\" points=\"408.5,-29 408.5,-53 476.5,-53 476.5,-29 408.5,-29\"/>\n",
       "<text text-anchor=\"start\" x=\"413.5\" y=\"-37.6\" font-family=\"-apple-system, BlinkMacSystemFont, 'Segoe UI', Helvetica, Arial, sans-serif, 'Apple Color Emoji', 'Segoe UI Emoji', 'Segoe UI Symbol'\" font-size=\"13.00\">Instrument</text>\n",
       "<polygon fill=\"#ffffff\" stroke=\"transparent\" points=\"476.5,-29 476.5,-53 543.5,-53 543.5,-29 476.5,-29\"/>\n",
       "<text text-anchor=\"start\" x=\"505.5\" y=\"-38.6\" font-family=\"-apple-system, BlinkMacSystemFont, 'Segoe UI', Helvetica, Arial, sans-serif, 'Apple Color Emoji', 'Segoe UI Emoji', 'Segoe UI Symbol'\" font-style=\"italic\" font-size=\"13.00\">String</text>\n",
       "<polygon fill=\"#f5f5f5\" stroke=\"transparent\" points=\"377.5,-5 377.5,-29 408.5,-29 408.5,-5 377.5,-5\"/>\n",
       "<polygon fill=\"#f5f5f5\" stroke=\"transparent\" points=\"408.5,-5 408.5,-29 476.5,-29 476.5,-5 408.5,-5\"/>\n",
       "<text text-anchor=\"start\" x=\"413.5\" y=\"-13.6\" font-family=\"-apple-system, BlinkMacSystemFont, 'Segoe UI', Helvetica, Arial, sans-serif, 'Apple Color Emoji', 'Segoe UI Emoji', 'Segoe UI Symbol'\" font-size=\"13.00\">Quote</text>\n",
       "<polygon fill=\"#f5f5f5\" stroke=\"transparent\" points=\"476.5,-5 476.5,-29 543.5,-29 543.5,-5 476.5,-5\"/>\n",
       "<text text-anchor=\"start\" x=\"501.5\" y=\"-14.6\" font-family=\"-apple-system, BlinkMacSystemFont, 'Segoe UI', Helvetica, Arial, sans-serif, 'Apple Color Emoji', 'Segoe UI Emoji', 'Segoe UI Symbol'\" font-style=\"italic\" font-size=\"13.00\">double</text>\n",
       "<polygon fill=\"none\" stroke=\"black\" points=\"376.5,-4 376.5,-102 544.5,-102 544.5,-4 376.5,-4\"/>\n",
       "</g>\n",
       "<!-- Sensitivities&#45;&gt;Market_Data_table -->\n",
       "<g id=\"edge1\" class=\"edge\">\n",
       "<title>Sensitivities-&gt;Market_Data_table</title>\n",
       "<path fill=\"none\" stroke=\"black\" d=\"M194.4,-71.33C244.99,-67.83 306.95,-63.55 358.24,-60\"/>\n",
       "<polygon fill=\"black\" stroke=\"black\" points=\"358.61,-63.49 368.35,-59.3 358.13,-56.5 358.61,-63.49\"/>\n",
       "<text text-anchor=\"middle\" x=\"280\" y=\"-87.6\" font-family=\"-apple-system, BlinkMacSystemFont, 'Segoe UI', Helvetica, Arial, sans-serif, 'Apple Color Emoji', 'Segoe UI Emoji', 'Segoe UI Symbol'\" font-size=\"13.00\">AsOfDate → AsOfDate</text>\n",
       "<text text-anchor=\"middle\" x=\"280\" y=\"-73.6\" font-family=\"-apple-system, BlinkMacSystemFont, 'Segoe UI', Helvetica, Arial, sans-serif, 'Apple Color Emoji', 'Segoe UI Emoji', 'Segoe UI Symbol'\" font-size=\"13.00\">RiskFactor → Instrument</text>\n",
       "</g>\n",
       "<!-- Book_Hierarchy -->\n",
       "<g id=\"node3\" class=\"node\">\n",
       "<title>Book_Hierarchy</title>\n",
       "<text text-anchor=\"start\" x=\"708.5\" y=\"-270.6\" font-family=\"-apple-system, BlinkMacSystemFont, 'Segoe UI', Helvetica, Arial, sans-serif, 'Apple Color Emoji', 'Segoe UI Emoji', 'Segoe UI Symbol'\" font-weight=\"bold\" font-size=\"13.00\">Book_Hierarchy</text>\n",
       "<polygon fill=\"#f5f5f5\" stroke=\"transparent\" points=\"676.5,-237 676.5,-261 707.5,-261 707.5,-237 676.5,-237\"/>\n",
       "<text text-anchor=\"start\" x=\"681.5\" y=\"-246.6\" font-family=\"-apple-system, BlinkMacSystemFont, 'Segoe UI', Helvetica, Arial, sans-serif, 'Apple Color Emoji', 'Segoe UI Emoji', 'Segoe UI Symbol'\" font-weight=\"bold\" font-size=\"13.00\">key</text>\n",
       "<polygon fill=\"#f5f5f5\" stroke=\"transparent\" points=\"707.5,-237 707.5,-261 792.5,-261 792.5,-237 707.5,-237\"/>\n",
       "<text text-anchor=\"start\" x=\"712.5\" y=\"-245.6\" font-family=\"-apple-system, BlinkMacSystemFont, 'Segoe UI', Helvetica, Arial, sans-serif, 'Apple Color Emoji', 'Segoe UI Emoji', 'Segoe UI Symbol'\" font-size=\"13.00\">Book</text>\n",
       "<polygon fill=\"#f5f5f5\" stroke=\"transparent\" points=\"792.5,-237 792.5,-261 835.5,-261 835.5,-237 792.5,-237\"/>\n",
       "<text text-anchor=\"start\" x=\"797.5\" y=\"-246.6\" font-family=\"-apple-system, BlinkMacSystemFont, 'Segoe UI', Helvetica, Arial, sans-serif, 'Apple Color Emoji', 'Segoe UI Emoji', 'Segoe UI Symbol'\" font-style=\"italic\" font-size=\"13.00\">String</text>\n",
       "<polygon fill=\"#ffffff\" stroke=\"transparent\" points=\"676.5,-213 676.5,-237 707.5,-237 707.5,-213 676.5,-213\"/>\n",
       "<polygon fill=\"#ffffff\" stroke=\"transparent\" points=\"707.5,-213 707.5,-237 792.5,-237 792.5,-213 707.5,-213\"/>\n",
       "<text text-anchor=\"start\" x=\"712.5\" y=\"-221.6\" font-family=\"-apple-system, BlinkMacSystemFont, 'Segoe UI', Helvetica, Arial, sans-serif, 'Apple Color Emoji', 'Segoe UI Emoji', 'Segoe UI Symbol'\" font-size=\"13.00\">Desk</text>\n",
       "<polygon fill=\"#ffffff\" stroke=\"transparent\" points=\"792.5,-213 792.5,-237 835.5,-237 835.5,-213 792.5,-213\"/>\n",
       "<text text-anchor=\"start\" x=\"797.5\" y=\"-222.6\" font-family=\"-apple-system, BlinkMacSystemFont, 'Segoe UI', Helvetica, Arial, sans-serif, 'Apple Color Emoji', 'Segoe UI Emoji', 'Segoe UI Symbol'\" font-style=\"italic\" font-size=\"13.00\">String</text>\n",
       "<polygon fill=\"#f5f5f5\" stroke=\"transparent\" points=\"676.5,-189 676.5,-213 707.5,-213 707.5,-189 676.5,-189\"/>\n",
       "<polygon fill=\"#f5f5f5\" stroke=\"transparent\" points=\"707.5,-189 707.5,-213 792.5,-213 792.5,-189 707.5,-189\"/>\n",
       "<text text-anchor=\"start\" x=\"712.5\" y=\"-197.6\" font-family=\"-apple-system, BlinkMacSystemFont, 'Segoe UI', Helvetica, Arial, sans-serif, 'Apple Color Emoji', 'Segoe UI Emoji', 'Segoe UI Symbol'\" font-size=\"13.00\">Business Unit</text>\n",
       "<polygon fill=\"#f5f5f5\" stroke=\"transparent\" points=\"792.5,-189 792.5,-213 835.5,-213 835.5,-189 792.5,-189\"/>\n",
       "<text text-anchor=\"start\" x=\"797.5\" y=\"-198.6\" font-family=\"-apple-system, BlinkMacSystemFont, 'Segoe UI', Helvetica, Arial, sans-serif, 'Apple Color Emoji', 'Segoe UI Emoji', 'Segoe UI Symbol'\" font-style=\"italic\" font-size=\"13.00\">String</text>\n",
       "<polygon fill=\"none\" stroke=\"black\" points=\"675,-188 675,-286 836,-286 836,-188 675,-188\"/>\n",
       "</g>\n",
       "<!-- Trade_Attributes&#45;&gt;Book_Hierarchy -->\n",
       "<g id=\"edge3\" class=\"edge\">\n",
       "<title>Trade_Attributes-&gt;Book_Hierarchy</title>\n",
       "<path fill=\"none\" stroke=\"black\" d=\"M555.01,-237C587.49,-237 623.99,-237 656.8,-237\"/>\n",
       "<polygon fill=\"black\" stroke=\"black\" points=\"656.85,-240.5 666.85,-237 656.85,-233.5 656.85,-240.5\"/>\n",
       "<text text-anchor=\"middle\" x=\"611\" y=\"-240.6\" font-family=\"-apple-system, BlinkMacSystemFont, 'Segoe UI', Helvetica, Arial, sans-serif, 'Apple Color Emoji', 'Segoe UI Emoji', 'Segoe UI Symbol'\" font-size=\"13.00\">Book → Book</text>\n",
       "</g>\n",
       "</g>\n",
       "</svg>"
      ],
      "text/plain": [
       "<IPython.core.display.SVG object>"
      ]
     },
     "execution_count": 36,
     "metadata": {},
     "output_type": "execute_result"
    }
   ],
   "source": [
    "cube.schema"
   ]
  },
  {
   "cell_type": "markdown",
   "metadata": {},
   "source": [
    "# Start real-time sources\n",
    "\n",
    "In the following section I'm emulating a market data feed, which is triggering portfolio repricing. \n",
    "\n",
    "A pricing library is mocked up by a function computing greeks using a QuantLib implementation of the Black-Scholes formulae. "
   ]
  },
  {
   "cell_type": "code",
   "execution_count": 37,
   "metadata": {},
   "outputs": [],
   "source": [
    "## Uncomment these lines if you wish to install QuantLib\n",
    "# import sys\n",
    "\n",
    "# !{sys.executable} -m pip install QuantLib"
   ]
  },
  {
   "cell_type": "code",
   "execution_count": 38,
   "metadata": {},
   "outputs": [],
   "source": [
    "from pricing_engine_emulator import reprice_portfolio, reprice_trade"
   ]
  },
  {
   "cell_type": "markdown",
   "metadata": {},
   "source": [
    "Open a dashboard via this link - you will see the most recent portfolio summary. The widgets are switched to the \"real-time\" query mode, but the data is not updating just yet. Run the subsequent cells to \"start\" the real-time and watch cells blinking."
   ]
  },
  {
   "cell_type": "code",
   "execution_count": 39,
   "metadata": {},
   "outputs": [
    {
     "data": {
      "application/vnd.atoti.link.v0+json": {
       "path": "#/dashboard/8b4",
       "sessionLocation": {
        "https": false,
        "port": 54183
       }
      },
      "text/plain": [
       "Open the notebook in JupyterLab with the Atoti extension enabled to see this link."
      ]
     },
     "execution_count": 39,
     "metadata": {},
     "output_type": "execute_result"
    }
   ],
   "source": [
    "session.link(path=\"/#/dashboard/8b4\")"
   ]
  },
  {
   "cell_type": "markdown",
   "metadata": {},
   "source": [
    "To simulate the market data updates, I am going to replay simulated historical stock prices. This code snippet downloads historical data and pushes new tick updates into a queue. The publisher waits for the `should_publish` event, which is triggered in the subsequent cells."
   ]
  },
  {
   "cell_type": "code",
   "execution_count": 40,
   "metadata": {},
   "outputs": [],
   "source": [
    "should_publish = threading.Event()\n",
    "\n",
    "spot_update_queue = queue.Queue()\n",
    "tick_data = pd.read_csv(\n",
    "    \"https://data.atoti.io/notebooks/real-time-risk/static-input-files/stock_price_tick_data.csv\",\n",
    "    index_col=\"AsOfDate\",\n",
    "    parse_dates=[\"AsOfDate\"],\n",
    ")\n",
    "positions = pd.read_csv(\n",
    "    \"https://data.atoti.io/notebooks/real-time-risk/static-input-files/trade_attributes.csv\",\n",
    "    parse_dates=[\"Maturity\"],\n",
    ")\n",
    "\n",
    "\n",
    "def start_spot_publisher():\n",
    "    # The publisher is replaying tick_data.\n",
    "    # It waits for the should publish event (see subsequent cells to trigger).\n",
    "\n",
    "    current_time = -1\n",
    "    for idx, row in tick_data.iterrows():\n",
    "        next_time = idx\n",
    "        if current_time != -1:\n",
    "            dt = (next_time - current_time).total_seconds() / 100.0\n",
    "            time.sleep(dt)\n",
    "        current_time = idx\n",
    "        print(\"\\rawaiting for publishing update \" + str(idx), end=\"\")\n",
    "        should_publish.wait()\n",
    "        print(\"\\rpublishing update \" + str(idx), end=\"\")\n",
    "        spot_update_queue.put((idx, row.to_dict()))\n",
    "    spot_update_queue.join()\n",
    "    print(\"All work completed\")\n",
    "\n",
    "\n",
    "def start_spot_update_listener():\n",
    "    print(\"Real time updates started\")\n",
    "    while True:\n",
    "        calc_date, spot_prices_by_ticker = spot_update_queue.get()\n",
    "        \"\"\"\n",
    "        As discussed above, I'm illustrating the \"reactive\" data store \n",
    "        by configuring it with the parameter watch set to True.\n",
    "        With the following code I'm updating the file on disc:\n",
    "        \"\"\"\n",
    "        reprice_portfolio(spot_prices_by_ticker, positions, calc_date).to_csv(\n",
    "            \"dynamic-input-files/risk_data.csv\", index=False\n",
    "        )\n",
    "\n",
    "        \"\"\"\n",
    "        The second example of real-time implementation - is injecting the data \n",
    "        directly into a datastore.\n",
    "        With the following code I'm appending the new stock prices to the market data store.\n",
    "        \"\"\"\n",
    "        for i in list(spot_prices_by_ticker.items()):\n",
    "            if not pd.isnull(i[1]):\n",
    "                clear_output(wait=True)\n",
    "                print((calc_date.date(), i[0], i[1]))\n",
    "                market_data_table.append((calc_date.date(), i[0], i[1]))\n",
    "\n",
    "        spot_update_queue.task_done()\n",
    "\n",
    "\n",
    "listener_thread = threading.Thread(target=start_spot_update_listener, daemon=True)\n",
    "publisher_thread = threading.Thread(target=start_spot_publisher, daemon=True)"
   ]
  },
  {
   "cell_type": "markdown",
   "metadata": {},
   "source": [
    "\n",
    "Run the next cell to start the real-time feeds - and see the cells in the dashboards blinking if then contributing data changes."
   ]
  },
  {
   "cell_type": "code",
   "execution_count": 41,
   "metadata": {
    "tags": []
   },
   "outputs": [
    {
     "name": "stdout",
     "output_type": "stream",
     "text": [
      "(datetime.date(2020, 7, 9), 'OXY', 16.37)\n"
     ]
    }
   ],
   "source": [
    "publisher_thread.start()\n",
    "listener_thread.start()\n",
    "# start publishing\n",
    "should_publish.set()"
   ]
  },
  {
   "cell_type": "code",
   "execution_count": 42,
   "metadata": {
    "tags": []
   },
   "outputs": [],
   "source": [
    "# pause publishing\n",
    "should_publish.clear()"
   ]
  },
  {
   "cell_type": "markdown",
   "metadata": {},
   "source": [
    "#### Stopping watchdog folder monitoring\n",
    "\n",
    "Run the below to stop the watchdog event monitoring the folder for incoming files."
   ]
  },
  {
   "cell_type": "code",
   "execution_count": 43,
   "metadata": {
    "tags": []
   },
   "outputs": [],
   "source": [
    "observer.stop()\n",
    "observer.join()"
   ]
  },
  {
   "cell_type": "markdown",
   "metadata": {},
   "source": [
    "# 3. Kafka feed and a custom deserializer"
   ]
  },
  {
   "cell_type": "markdown",
   "metadata": {},
   "source": [
    "The above real-time feeds are illustrating the file **watch** and the **append** command. Now let's have a quick look at enabling a **kafka feed** for a  datastore.\n",
    "\n",
    "I'm using [Bitnami Docker Image for Kafka](https://hub.docker.com/r/bitnami/kafka/) to run kafka. While the [docker-compose.yml](.docker-compose.yml) is included in this project directory, you can download it with the following command:\n",
    "\n",
    "```\n",
    "curl -sSL https://raw.githubusercontent.com/bitnami/containers/main/bitnami/kafka/docker-compose.yml > docker-compose.yml\n",
    "```\n",
    "\n",
    "The following parameter has been added to the kafka environment section in the docker-compose.yaml - this makes Kafka accessible from outside the container.  \n",
    "```\n",
    "- KAFKA_CFG_ADVERTISED_LISTENERS=PLAINTEXT://127.0.0.1:9092\n",
    "```\n",
    "\n",
    "![Docker config](./img/docker-config.png)\n",
    "\n",
    "### <u>Do the following in your environment to start the Docker containers and create the Kafka producer and consumer</u>  \n",
    "\n",
    "Then I'm using docker-compose to launch kafka:\n",
    "\n",
    "```\n",
    "docker-compose up -d\n",
    "```\n",
    "\n",
    "And then [creating a topic](https://docs.bitnami.com/aws/infrastructure/kafka/administration/run-producer-consumer/) for trades and sensitivites:\n",
    "\n",
    "```\n",
    "docker exec -it real-time-risk-kafka-1 /opt/bitnami/kafka/bin/kafka-topics.sh --create --bootstrap-server 127.0.0.1:9092 --topic trades --partitions 3 --replication-factor 1\n",
    "\n",
    "docker exec -it real-time-risk-kafka-1 /opt/bitnami/kafka/bin/kafka-topics.sh --create --bootstrap-server 127.0.0.1:9092 --topic sensitivities --partitions 3 --replication-factor 1\n",
    "```"
   ]
  },
  {
   "cell_type": "markdown",
   "metadata": {},
   "source": [
    "From Atoti v0.5.0 onwards, we can import the `atoti_kafka` package to load real-time Kafka streams into Atoti table."
   ]
  },
  {
   "cell_type": "code",
   "execution_count": 44,
   "metadata": {
    "tags": []
   },
   "outputs": [],
   "source": [
    "import atoti_kafka"
   ]
  },
  {
   "cell_type": "markdown",
   "metadata": {},
   "source": [
    "Let's point the `sensitivities` and `trades_attributes` to the respective kafka feed. Atoti will consume the arriving sensitivities and trades data, and the widgets will refresh automatically (need to toggle them to real-time mode - as described in the Atoti for real-time section above)\n",
    "\n",
    "For a complete list of the Atoti's `load_kafka` parameters, please refer to the doc [load_kafka](https://docs.atoti.io/latest/lib/atoti/atoti.table.html#atoti.Table.load_kafka). In this example, I set `batch_duration` to `0` such that received records are immediately publihed to the table. To demonstrate how `consumer_config` is being used, we set the `auto.offset.reset` value to `latest` to move to the latest available message."
   ]
  },
  {
   "cell_type": "code",
   "execution_count": 45,
   "metadata": {
    "tags": []
   },
   "outputs": [],
   "source": [
    "sensitivities_table.load_kafka(\n",
    "    bootstrap_server=\"localhost:9092\",\n",
    "    topic=\"sensitivities\",\n",
    "    group_id=\"atoti-risk-consumer\",\n",
    "    consumer_config={\"auto.offset.reset\": \"latest\"},\n",
    "    batch_duration=0,\n",
    ")"
   ]
  },
  {
   "cell_type": "code",
   "execution_count": 46,
   "metadata": {
    "tags": []
   },
   "outputs": [],
   "source": [
    "trade_attributes.load_kafka(\n",
    "    bootstrap_server=\"localhost:9092\",\n",
    "    topic=\"trades\",\n",
    "    group_id=\"atoti-trades-consumer\",\n",
    "    consumer_config={\"auto.offset.reset\": \"latest\"},\n",
    "    batch_duration=0,\n",
    ")"
   ]
  },
  {
   "cell_type": "markdown",
   "metadata": {},
   "source": [
    "I'll be using python kafka module to push new trade events. In the next cell, I'm sending a first sensitivities and trade message."
   ]
  },
  {
   "cell_type": "code",
   "execution_count": 47,
   "metadata": {
    "tags": []
   },
   "outputs": [],
   "source": [
    "# # Uncomment these lines if you wish to install kafka-python\n",
    "# import sys\n",
    "\n",
    "# !conda install  -c conda-forge --yes --prefix {sys.prefix} kafka-python"
   ]
  },
  {
   "cell_type": "code",
   "execution_count": 48,
   "metadata": {
    "tags": []
   },
   "outputs": [],
   "source": [
    "# using kafka python module to publish messages\n",
    "from kafka import KafkaProducer\n",
    "\n",
    "producer = KafkaProducer(\n",
    "    value_serializer=lambda v: json.dumps(v).encode(\"utf-8\"),\n",
    "    bootstrap_servers=[\"127.0.0.1:9092\"],\n",
    ")"
   ]
  },
  {
   "cell_type": "markdown",
   "metadata": {},
   "source": [
    "Click on the below dashboard to observe the incoming trades."
   ]
  },
  {
   "cell_type": "code",
   "execution_count": 49,
   "metadata": {
    "tags": []
   },
   "outputs": [
    {
     "data": {
      "application/vnd.atoti.link.v0+json": {
       "path": "#/dashboard/8b4",
       "sessionLocation": {
        "https": false,
        "port": 54183
       }
      },
      "text/plain": [
       "Open the notebook in JupyterLab with the Atoti extension enabled to see this link."
      ]
     },
     "execution_count": 49,
     "metadata": {},
     "output_type": "execute_result"
    }
   ],
   "source": [
    "session.link(path=\"/#/dashboard/8b4\")"
   ]
  },
  {
   "cell_type": "markdown",
   "metadata": {},
   "source": [
    "I'll only be able to query my trade if the sensitivities are loaded into the cube since `sensitivities` table is the base table of the cube.  \n",
    "Below are the columns of the `sensitivities` table and they have to be available in the sensitivies message."
   ]
  },
  {
   "cell_type": "code",
   "execution_count": 50,
   "metadata": {
    "tags": []
   },
   "outputs": [
    {
     "data": {
      "text/plain": [
       "['AsOfDate', 'TradeId', 'RiskFactor', 'MarketValue', 'Delta']"
      ]
     },
     "execution_count": 50,
     "metadata": {},
     "output_type": "execute_result"
    }
   ],
   "source": [
    "sensitivities_table.columns"
   ]
  },
  {
   "cell_type": "markdown",
   "metadata": {},
   "source": [
    "Run this cell and check in the dashboard that the \"New_Trd_Test\" has arrived - expected on top of the \"Trades Blotter\" table. Do note that information such as Ticker, Book and Product which is coming from the `trade_attributes` table may not be available until the corresponding trade data is loaded into the `trade_attributes` table. "
   ]
  },
  {
   "cell_type": "code",
   "execution_count": 51,
   "metadata": {
    "tags": []
   },
   "outputs": [],
   "source": [
    "# Test sensitivities\n",
    "sensitivities = {\n",
    "    \"AsOfDate\": \"2020-07-09\",\n",
    "    \"TradeId\": \"New_Trd_Test\",\n",
    "    \"MarketValue\": 89.43425919208067,\n",
    "    \"RiskFactor\": \"OXY\",\n",
    "    \"Delta\": 103.34,\n",
    "}\n",
    "\n",
    "l = producer.send(\"sensitivities\", sensitivities)"
   ]
  },
  {
   "cell_type": "markdown",
   "metadata": {},
   "source": [
    "Below are the columns of the `trade_attributes` table and they have to be available in the trade message."
   ]
  },
  {
   "cell_type": "code",
   "execution_count": 52,
   "metadata": {
    "tags": []
   },
   "outputs": [
    {
     "data": {
      "text/plain": [
       "['TradeId',\n",
       " 'Ticker',\n",
       " 'Book',\n",
       " 'Product',\n",
       " 'Quantity',\n",
       " 'Strike',\n",
       " 'Maturity',\n",
       " 'OptionType']"
      ]
     },
     "execution_count": 52,
     "metadata": {},
     "output_type": "execute_result"
    }
   ],
   "source": [
    "trade_attributes.columns"
   ]
  },
  {
   "cell_type": "markdown",
   "metadata": {},
   "source": [
    "After executing the next cell, we should see the Product, Book and Strike appearing under the `Trades Blotter` widget for the new trade."
   ]
  },
  {
   "cell_type": "code",
   "execution_count": 53,
   "metadata": {
    "tags": []
   },
   "outputs": [],
   "source": [
    "# Test trade\n",
    "trd = {\n",
    "    \"TradeId\": \"New_Trd_Test\",\n",
    "    \"Ticker\": \"OXY\",\n",
    "    \"Book\": \"EQ_VOL_HED\",\n",
    "    \"Product\": \"EQ_Option\",\n",
    "    \"Quantity\": 45,\n",
    "    \"Strike\": -31.41249430583221,\n",
    "    \"Maturity\": \"2022-10-01\",\n",
    "    \"OptionType\": \"put\",\n",
    "    # \"MarketValue\": 89.43425919208067,\n",
    "}\n",
    "\n",
    "l = producer.send(\"trades\", trd)"
   ]
  },
  {
   "cell_type": "markdown",
   "metadata": {},
   "source": [
    "To see the messages, the following command can be run:\n",
    "    \n",
    "```\n",
    "docker exec -it real-time-risk_kafka_1 /opt/bitnami/kafka/bin/kafka-console-consumer.sh --bootstrap-server localhost:9092 --topic trades --from-beginning\n",
    "docker exec -it real-time-risk_kafka_1 /opt/bitnami/kafka/bin/kafka-console-consumer.sh --bootstrap-server localhost:9092 --topic sensitivities --from-beginning\n",
    "```"
   ]
  },
  {
   "cell_type": "markdown",
   "metadata": {},
   "source": [
    "In the following cell, I'm creating a function that will generate random trades."
   ]
  },
  {
   "cell_type": "code",
   "execution_count": 54,
   "metadata": {
    "tags": []
   },
   "outputs": [],
   "source": [
    "def generate_a_new_trade(id):\n",
    "    # this function is generating trades data (random)\n",
    "\n",
    "    trade_id = \"New_Trade_\" + str(id)\n",
    "    ticker = random.choice([\"AAPL\", \"MSFT\", \"OXY\"])\n",
    "\n",
    "    trade = {\n",
    "        \"TradeId\": trade_id,\n",
    "        \"Ticker\": ticker,\n",
    "        \"Book\": random.choice(\n",
    "            [\"EQ_LARG_DM\", \"EQ_SMAL_EM\", \"EQ_STRUCT\", \"EQ_VOL_HED\", \"EQ_WAREHOU\"]\n",
    "        ),\n",
    "        \"Product\": \"EQ_Option\",\n",
    "        \"Quantity\": random.randrange(-100, 100),\n",
    "        \"Strike\": random.uniform(-100, 100),\n",
    "        \"Maturity\": \"2022-10-01\",\n",
    "        \"OptionType\": \"put\",\n",
    "    }\n",
    "\n",
    "    print(\"A new trade generated:\")\n",
    "    print(json.dumps(trade, indent=4))\n",
    "\n",
    "    sensitivities = {\n",
    "        \"AsOfDate\": \"2020-07-09\",\n",
    "        \"TradeId\": trade_id,\n",
    "        \"RiskFactor\": ticker,\n",
    "        \"MarketValue\": random.uniform(-100, 100),\n",
    "        \"Delta\": random.uniform(-100, 100),\n",
    "    }\n",
    "\n",
    "    print(\"A new sensitivities generated:\")\n",
    "    print(json.dumps(sensitivities, indent=4))\n",
    "\n",
    "    return trade, sensitivities"
   ]
  },
  {
   "cell_type": "markdown",
   "metadata": {},
   "source": [
    "Let's check that we can see updates in the real-time dashboard:"
   ]
  },
  {
   "cell_type": "code",
   "execution_count": 55,
   "metadata": {
    "tags": []
   },
   "outputs": [
    {
     "data": {
      "application/vnd.atoti.link.v0+json": {
       "path": "#/dashboard/8b4",
       "sessionLocation": {
        "https": false,
        "port": 54183
       }
      },
      "text/plain": [
       "Open the notebook in JupyterLab with the Atoti extension enabled to see this link."
      ]
     },
     "execution_count": 55,
     "metadata": {},
     "output_type": "execute_result"
    }
   ],
   "source": [
    "session.link(path=\"/#/dashboard/8b4\")"
   ]
  },
  {
   "cell_type": "markdown",
   "metadata": {},
   "source": [
    "Run the following cell to publish a few new trades and see them appearing in the \"Trades Blotter\" widget"
   ]
  },
  {
   "cell_type": "code",
   "execution_count": 56,
   "metadata": {
    "tags": []
   },
   "outputs": [
    {
     "name": "stdout",
     "output_type": "stream",
     "text": [
      "A new trade generated:\n",
      "{\n",
      "    \"TradeId\": \"New_Trade_1\",\n",
      "    \"Ticker\": \"MSFT\",\n",
      "    \"Book\": \"EQ_LARG_DM\",\n",
      "    \"Product\": \"EQ_Option\",\n",
      "    \"Quantity\": 87,\n",
      "    \"Strike\": -62.30058936899634,\n",
      "    \"Maturity\": \"2022-10-01\",\n",
      "    \"OptionType\": \"put\"\n",
      "}\n",
      "A new sensitivities generated:\n",
      "{\n",
      "    \"AsOfDate\": \"2020-07-09\",\n",
      "    \"TradeId\": \"New_Trade_1\",\n",
      "    \"RiskFactor\": \"MSFT\",\n",
      "    \"MarketValue\": -71.08639134809619,\n",
      "    \"Delta\": 32.34341105216572\n",
      "}\n",
      "Published.\n",
      "\n"
     ]
    }
   ],
   "source": [
    "for i in range(20, 0, -1):\n",
    "    new_trade, new_sensitivities = generate_a_new_trade(i)\n",
    "\n",
    "    producer.send(\"trades\", new_trade)\n",
    "    producer.send(\"sensitivities\", new_sensitivities)\n",
    "    print(\"Published.\\n\")\n",
    "    time.sleep(1)\n",
    "    clear_output(wait=True)"
   ]
  },
  {
   "cell_type": "markdown",
   "metadata": {},
   "source": [
    "<div style=\"text-align: center;\" ><a href=\"https://www.atoti.io/?utm_source=gallery&utm_content=real-time-risk\" target=\"_blank\" rel=\"noopener noreferrer\"><img src=\"https://data.atoti.io/notebooks/banners/Try+Atoti.jpg\" alt=\"Try Atoti\"></a></div>"
   ]
  }
 ],
 "metadata": {
  "kernelspec": {
   "display_name": "Python 3 (ipykernel)",
   "language": "python",
   "name": "python3"
  },
  "language_info": {
   "codemirror_mode": {
    "name": "ipython",
    "version": 3
   },
   "file_extension": ".py",
   "mimetype": "text/x-python",
   "name": "python",
   "nbconvert_exporter": "python",
   "pygments_lexer": "ipython3",
   "version": "3.10.11"
  }
 },
 "nbformat": 4,
 "nbformat_minor": 4
}
