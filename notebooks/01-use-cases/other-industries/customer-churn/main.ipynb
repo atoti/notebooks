{
 "cells": [
  {
   "cell_type": "markdown",
   "metadata": {},
   "source": [
    "# Understanding Telco Customer Churn\n",
    "\\[_In case you’re unable to see the Atoti visualizations in GitHub, try viewing the notebook in [nbviewer](https://nbviewer.org/github/atoti/notebooks/blob/main/notebooks/01-use-cases/other-industries/customer-churn/main.ipynb)._]\n",
    "\n",
    "### A few definitions\n",
    "- [Customer attrition](https://en.wikipedia.org/wiki/Customer_attrition#:~:text=Customer%20attrition%2C%20also%20known%20as,loss%20of%20clients%20or%20customers.&text=Gross%20attrition%20is%20the%20loss,services%20during%20a%20particular%20period.), also known as customer churn is the loss of customers or subscription to goods/services by a business\n",
    "for a given period of time.\n",
    "- Customer attrition rate is the number of customers lost at the end of the period against the number of customers the business had at the start of the period. \n",
    "- Gross attrition is the loss of revenue from churned customers\n",
    "- Net attrition is the loss of revenue from churned customers including the benefits from expansion (new customers, upgrades...)\n",
    "- Monthly Recurring Revenue (MRR) is the recurring revenue expected on monthly basis for the subscribed goods/services\n",
    "- Gross Revenue Retention (GRR) rate measures the change in the MRR over the period, excluding benefits from expansion.\n",
    "- Net Revenue Retention (NRR) rate measures the change in the MRR over the period, including benefits from expansion.\n",
    "\n",
    "### Introduction\n",
    "\n",
    "Churn is a critical metric for subscription and SaaS companies as it tells us how the departing customers affects the company's monthly revenue and growth, consequently investors' confidence in the company as well.  \n",
    "\n",
    "The GRR is somewhat like a happiness indicator for the existing customers. Having high GRR shows that the company has high retention rates. Customers are happy with the services/products that they are provided with. Investors would be assured by this stability.  \n",
    "If a company has high GRR and even higher NRR, it shows that on top of retaining existing customers, the company has grown its customer base further.  \n",
    "High NRR coupled with low GRR implies that although the company has acquired many new customers, it has low retention rates.  \n",
    "So even if there is still revenue left over after the churn, there is high potential the new customers might churn too. The growth of the company becomes less predictable.  \n",
    "\n",
    "Telecommunication industry is highly sensitive to customer churns as technology advances and users' behaviour changed:\n",
    "- with Mobile Number Portability (MNP), customers can easily switch to another provider while preserving their number\n",
    "- OTT players such as Netflix, Amazon Prime Video, Disney+ are bypassing the traditional operators network such as cable, broadcast and satelite television\n",
    "- OTT applications such as WhatsApp, Google Hangout, Skype are cannibalizing the paid voice and messaging services\n",
    "- customers are less enticed to be contract bounded for handsets as new models get released so frequently\n",
    "\n",
    "In this notebook, we will look at the customer churn in the telecommunication sector.  \n",
    "Using the [Telco Customer Churn data](https://www.kaggle.com/blastchar/telco-customer-churn) from Kaggle, we explore the accuracy of 4 machine learning algorithms against the actual churn in the past month:  \n",
    "- Dummy Classifer Prediction\n",
    "- Naive Bayes Prediction\n",
    "- Logistic Regression Prediction\n",
    "- SVM Classifier Linear Prediction\n",
    "\n",
    "Note: we train the models with last month's churn data using the algorithm provided in [Telecom Customer Churn Prediction](https://www.kaggle.com/pavanraj159/telecom-customer-churn-prediction).  \n",
    "We compare the model's prediction against the same set of data for accuracy comparison.\n",
    "\n",
    "Assuming that we wish to retain 90% NRR for this particular telco, we will explore with Atoti the impact of each model on:\n",
    "- Predicted revenue loss\n",
    "- Number of customers to retain\n",
    "- Expense spent to retain or replace customer\n",
    "\n",
    "Finally, we use what-if simulation to see how the above will change when we change:\n",
    "- the target NRR\n",
    "- the budget spent on customer retention or replacement"
   ]
  },
  {
   "cell_type": "markdown",
   "metadata": {},
   "source": [
    "<div style=\"text-align: center;\" ><a href=\"https://www.atoti.io/?utm_source=gallery&utm_content=drug-efficacy\" target=\"_blank\" rel=\"noopener noreferrer\"><img src=\"https://data.atoti.io/notebooks/banners/Discover+Atoti+now.jpg\" alt=\"Try Atoti\"></a></div>"
   ]
  },
  {
   "cell_type": "markdown",
   "metadata": {},
   "source": [
    "### Things to install\n",
    "pip install imblearn  \n",
    "pip install sklearn"
   ]
  },
  {
   "cell_type": "markdown",
   "metadata": {},
   "source": [
    "!pip install imblearn sklearn"
   ]
  },
  {
   "cell_type": "markdown",
   "metadata": {},
   "source": [
    "Load packages"
   ]
  },
  {
   "cell_type": "code",
   "execution_count": 1,
   "metadata": {},
   "outputs": [],
   "source": [
    "import os\n",
    "import pickle\n",
    "from zipfile import ZipFile\n",
    "\n",
    "import atoti as tt\n",
    "import numpy as np\n",
    "import pandas as pd\n",
    "import wget\n",
    "from _utils import data_utils, prediction\n",
    "from IPython.display import clear_output, display"
   ]
  },
  {
   "cell_type": "markdown",
   "metadata": {},
   "source": [
    "### Global variables"
   ]
  },
  {
   "cell_type": "code",
   "execution_count": 2,
   "metadata": {},
   "outputs": [],
   "source": [
    "MODELS_PATH = \"./models/\""
   ]
  },
  {
   "cell_type": "markdown",
   "metadata": {},
   "source": [
    "### Models download  \n",
    "\n",
    "Skip the following step if you already have the models from [1_create_models.ipynb](1_create_models.ipynb) or downloaded the models previously."
   ]
  },
  {
   "cell_type": "code",
   "execution_count": 5,
   "metadata": {},
   "outputs": [
    {
     "name": "stdout",
     "output_type": "stream",
     "text": [
      "Downloading: 100% [93730 / 93730] bytes\n"
     ]
    }
   ],
   "source": [
    "def bar_custom(current, total, width=80):\n",
    "    clear_output(wait=True)\n",
    "    print(\"Downloading: %d%% [%d / %d] bytes\" % (current / total * 100, current, total))\n",
    "\n",
    "\n",
    "model_url = \"https://data.atoti.io/notebooks/telco-churn/modelsv2.zip\"\n",
    "wget.download(model_url, bar=bar_custom)\n",
    "\n",
    "with ZipFile(\"modelsv2.zip\", \"r\") as zipObj:\n",
    "    # Extract all the contents of zip file in current directory\n",
    "    zipObj.extractall()"
   ]
  },
  {
   "cell_type": "markdown",
   "metadata": {},
   "source": [
    "# STEP 1: Load the data\n",
    "\n",
    "We are using a processed version of the [Telco Customer Churn data from Kaggle](https://www.kaggle.com/blastchar/telco-customer-churn).  \n",
    "\n",
    "Refer to [0_prepare_data.ipynb](0_prepare_data.ipynb) on the data preprocessing details."
   ]
  },
  {
   "cell_type": "code",
   "execution_count": 6,
   "metadata": {},
   "outputs": [
    {
     "name": "stdout",
     "output_type": "stream",
     "text": [
      "Data size: (7032, 25)\n",
      "\n"
     ]
    },
    {
     "data": {
      "text/html": [
       "<div>\n",
       "<style scoped>\n",
       "    .dataframe tbody tr th:only-of-type {\n",
       "        vertical-align: middle;\n",
       "    }\n",
       "\n",
       "    .dataframe tbody tr th {\n",
       "        vertical-align: top;\n",
       "    }\n",
       "\n",
       "    .dataframe thead th {\n",
       "        text-align: right;\n",
       "    }\n",
       "</style>\n",
       "<table border=\"1\" class=\"dataframe\">\n",
       "  <thead>\n",
       "    <tr style=\"text-align: right;\">\n",
       "      <th></th>\n",
       "      <th>CustomerID</th>\n",
       "      <th>Gender</th>\n",
       "      <th>SeniorCitizen</th>\n",
       "      <th>Partner</th>\n",
       "      <th>Dependents</th>\n",
       "      <th>Tenure</th>\n",
       "      <th>PhoneService</th>\n",
       "      <th>MultipleLines</th>\n",
       "      <th>InternetService</th>\n",
       "      <th>OnlineSecurity</th>\n",
       "      <th>...</th>\n",
       "      <th>Contract</th>\n",
       "      <th>PaperlessBilling</th>\n",
       "      <th>PaymentMethod</th>\n",
       "      <th>MonthlyCharges</th>\n",
       "      <th>TotalCharges</th>\n",
       "      <th>TenureGroup</th>\n",
       "      <th>ChurnProbability</th>\n",
       "      <th>ChurnPredicted</th>\n",
       "      <th>Subset</th>\n",
       "      <th>Churn</th>\n",
       "    </tr>\n",
       "  </thead>\n",
       "  <tbody>\n",
       "    <tr>\n",
       "      <th>0</th>\n",
       "      <td>6429-SHBCB</td>\n",
       "      <td>Male</td>\n",
       "      <td>No</td>\n",
       "      <td>No</td>\n",
       "      <td>No</td>\n",
       "      <td>19</td>\n",
       "      <td>Yes</td>\n",
       "      <td>Yes</td>\n",
       "      <td>DSL</td>\n",
       "      <td>No</td>\n",
       "      <td>...</td>\n",
       "      <td>Month-to-month</td>\n",
       "      <td>No</td>\n",
       "      <td>Mailed check</td>\n",
       "      <td>69.6</td>\n",
       "      <td>1394.55</td>\n",
       "      <td>Tenure_12-24</td>\n",
       "      <td>0.0</td>\n",
       "      <td>No</td>\n",
       "      <td>Train</td>\n",
       "      <td>No</td>\n",
       "    </tr>\n",
       "    <tr>\n",
       "      <th>1</th>\n",
       "      <td>0810-DHDBD</td>\n",
       "      <td>Female</td>\n",
       "      <td>No</td>\n",
       "      <td>No</td>\n",
       "      <td>No</td>\n",
       "      <td>52</td>\n",
       "      <td>Yes</td>\n",
       "      <td>Yes</td>\n",
       "      <td>DSL</td>\n",
       "      <td>Yes</td>\n",
       "      <td>...</td>\n",
       "      <td>One year</td>\n",
       "      <td>No</td>\n",
       "      <td>Credit card (automatic)</td>\n",
       "      <td>74.0</td>\n",
       "      <td>3877.65</td>\n",
       "      <td>Tenure_48-60</td>\n",
       "      <td>0.0</td>\n",
       "      <td>No</td>\n",
       "      <td>Train</td>\n",
       "      <td>No</td>\n",
       "    </tr>\n",
       "  </tbody>\n",
       "</table>\n",
       "<p>2 rows × 25 columns</p>\n",
       "</div>"
      ],
      "text/plain": [
       "   CustomerID  Gender SeniorCitizen Partner Dependents  Tenure PhoneService  \\\n",
       "0  6429-SHBCB    Male            No      No         No      19          Yes   \n",
       "1  0810-DHDBD  Female            No      No         No      52          Yes   \n",
       "\n",
       "  MultipleLines InternetService OnlineSecurity  ...        Contract  \\\n",
       "0           Yes             DSL             No  ...  Month-to-month   \n",
       "1           Yes             DSL            Yes  ...        One year   \n",
       "\n",
       "  PaperlessBilling            PaymentMethod MonthlyCharges TotalCharges  \\\n",
       "0               No             Mailed check           69.6      1394.55   \n",
       "1               No  Credit card (automatic)           74.0      3877.65   \n",
       "\n",
       "    TenureGroup ChurnProbability ChurnPredicted  Subset  Churn  \n",
       "0  Tenure_12-24              0.0             No   Train     No  \n",
       "1  Tenure_48-60              0.0             No   Train     No  \n",
       "\n",
       "[2 rows x 25 columns]"
      ]
     },
     "execution_count": 6,
     "metadata": {},
     "output_type": "execute_result"
    }
   ],
   "source": [
    "telcom = pd.read_csv(\n",
    "    \"https://data.atoti.io/notebooks/telco-churn/tranformed_customer_churn.csv\"\n",
    ")\n",
    "# perform data clean up\n",
    "telcom = data_utils.data_cleanup(telcom)\n",
    "\n",
    "print(\"Data size: {}\\n\".format(telcom.shape))\n",
    "telcom.head(2)"
   ]
  },
  {
   "cell_type": "markdown",
   "metadata": {},
   "source": [
    "##### First, we set the columns types."
   ]
  },
  {
   "cell_type": "code",
   "execution_count": 7,
   "metadata": {},
   "outputs": [],
   "source": [
    "col_types = {\n",
    "    \"str\": [\n",
    "        \"CustomerID\",\n",
    "        \"Gender\",\n",
    "        \"Tenure\",\n",
    "        \"InternetService\",\n",
    "        \"Contract\",\n",
    "        \"PaymentMethod\",\n",
    "        \"TenureGroup\",\n",
    "        \"Subset\",\n",
    "        \"SeniorCitizen\",\n",
    "        \"Partner\",\n",
    "        \"Dependents\",\n",
    "        \"PhoneService\",\n",
    "        \"MultipleLines\",\n",
    "        \"OnlineSecurity\",\n",
    "        \"OnlineBackup\",\n",
    "        \"DeviceProtection\",\n",
    "        \"TechSupport\",\n",
    "        \"StreamingTV\",\n",
    "        \"StreamingMovies\",\n",
    "        \"PaperlessBilling\",\n",
    "        \"ChurnPredicted\",\n",
    "        \"Churn\",\n",
    "    ],\n",
    "    \"float\": [\"MonthlyCharges\", \"TotalCharges\", \"ChurnProbability\"],\n",
    "}\n",
    "\n",
    "reverse_col_types = {el: k for k, v in col_types.items() for el in v}\n",
    "\n",
    "for c in telcom.columns:\n",
    "    telcom[c] = telcom[c].astype(reverse_col_types[c])"
   ]
  },
  {
   "cell_type": "markdown",
   "metadata": {},
   "source": [
    "For this analysis, we have performed a series of transformations on the data:\n",
    "\n",
    "- Processing of columns: encoding, normalization etc.\n",
    "- Dimension reduction: Partial Least Squares and component selection\n",
    "\n",
    "These preparation steps are optional. You can use a different approach that fits the best the models you want to use to make predictions.  \n",
    "Here, we load the transformed dataset."
   ]
  },
  {
   "cell_type": "code",
   "execution_count": 8,
   "metadata": {},
   "outputs": [
    {
     "name": "stdout",
     "output_type": "stream",
     "text": [
      "Transformed data size: (7032, 4)\n",
      "\n"
     ]
    },
    {
     "data": {
      "text/html": [
       "<div>\n",
       "<style scoped>\n",
       "    .dataframe tbody tr th:only-of-type {\n",
       "        vertical-align: middle;\n",
       "    }\n",
       "\n",
       "    .dataframe tbody tr th {\n",
       "        vertical-align: top;\n",
       "    }\n",
       "\n",
       "    .dataframe thead th {\n",
       "        text-align: right;\n",
       "    }\n",
       "</style>\n",
       "<table border=\"1\" class=\"dataframe\">\n",
       "  <thead>\n",
       "    <tr style=\"text-align: right;\">\n",
       "      <th></th>\n",
       "      <th>LV1</th>\n",
       "      <th>LV2</th>\n",
       "      <th>LV3</th>\n",
       "      <th>Churn</th>\n",
       "    </tr>\n",
       "  </thead>\n",
       "  <tbody>\n",
       "    <tr>\n",
       "      <th>0</th>\n",
       "      <td>-0.730340</td>\n",
       "      <td>-0.174424</td>\n",
       "      <td>0.396948</td>\n",
       "      <td>0</td>\n",
       "    </tr>\n",
       "    <tr>\n",
       "      <th>1</th>\n",
       "      <td>1.221606</td>\n",
       "      <td>0.230012</td>\n",
       "      <td>0.859353</td>\n",
       "      <td>0</td>\n",
       "    </tr>\n",
       "  </tbody>\n",
       "</table>\n",
       "</div>"
      ],
      "text/plain": [
       "        LV1       LV2       LV3  Churn\n",
       "0 -0.730340 -0.174424  0.396948      0\n",
       "1  1.221606  0.230012  0.859353      0"
      ]
     },
     "execution_count": 8,
     "metadata": {},
     "output_type": "execute_result"
    }
   ],
   "source": [
    "telcom_transf = pd.read_csv(\n",
    "    \"https://data.atoti.io/notebooks/telco-churn/Telco-Customer-Churn_transformed.csv\"\n",
    ")\n",
    "\n",
    "print(\"Transformed data size: {}\\n\".format(telcom_transf.shape))\n",
    "telcom_transf.head(2)"
   ]
  },
  {
   "cell_type": "markdown",
   "metadata": {},
   "source": [
    "# STEP 2: Load the models  \n",
    "\n",
    "We have trained the following models and [saved them with Pickle approach](https://www.kaggle.com/prmohanty/python-how-to-save-and-load-ml-models) in [1_create_models.ipynb](1_create_models.ipynb):\n",
    "- DummyClassifier\n",
    "- Naive Bayes Model\n",
    "- Logistic Regression Model\n",
    "- SVM Classifier Linear Model\n",
    "\n",
    "Refer to [1_create_models.ipynb](1_create_models.ipynb) to understand how we trained the models. We shall load the trained models to proceed with our prediction of the churn."
   ]
  },
  {
   "cell_type": "code",
   "execution_count": 9,
   "metadata": {},
   "outputs": [],
   "source": [
    "filename = os.path.join(MODELS_PATH, \"dummy_unif_clf.sav\")\n",
    "dummy_unif_clf = pickle.load(open(filename, \"rb\"))"
   ]
  },
  {
   "cell_type": "raw",
   "metadata": {},
   "source": [
    "filename = os.path.join(MODELS_PATH, \"dummy_strat_clf.sav\")\n",
    "dummy_strat_clf = pickle.load(open(filename, \"rb\"))"
   ]
  },
  {
   "cell_type": "raw",
   "metadata": {},
   "source": [
    "filename = os.path.join(MODELS_PATH, \"dummy_major_clf.sav\")\n",
    "dummy_major_clf = pickle.load(open(filename, \"rb\"))"
   ]
  },
  {
   "cell_type": "code",
   "execution_count": 10,
   "metadata": {},
   "outputs": [],
   "source": [
    "filename = os.path.join(MODELS_PATH, \"gnb_clf.sav\")\n",
    "gnb_clf = pickle.load(open(filename, \"rb\"))"
   ]
  },
  {
   "cell_type": "code",
   "execution_count": 11,
   "metadata": {},
   "outputs": [],
   "source": [
    "filename = os.path.join(MODELS_PATH, \"lr_clf.sav\")\n",
    "lr_clf = pickle.load(open(filename, \"rb\"))"
   ]
  },
  {
   "cell_type": "code",
   "execution_count": 12,
   "metadata": {},
   "outputs": [],
   "source": [
    "filename = os.path.join(MODELS_PATH, \"svc_clf.sav\")\n",
    "svc_clf = pickle.load(open(filename, \"rb\"))"
   ]
  },
  {
   "cell_type": "markdown",
   "metadata": {},
   "source": [
    "## Process the data\n",
    "\n",
    "We will be using the selected features to perform our predictions."
   ]
  },
  {
   "cell_type": "code",
   "execution_count": 13,
   "metadata": {},
   "outputs": [],
   "source": [
    "X = telcom_transf.copy().drop([\"Churn\"], axis=1)"
   ]
  },
  {
   "cell_type": "markdown",
   "metadata": {},
   "source": [
    "# STEP 3: Atoti's magic!\n",
    "In this part, we leverage the power of Atoti to post-process the results of the models and perform ***scenarios simulations***"
   ]
  },
  {
   "cell_type": "markdown",
   "metadata": {},
   "source": [
    "## Atoti cube creation  \n",
    "\n",
    "We have a simple cube that holds a single data table - Customer table."
   ]
  },
  {
   "cell_type": "code",
   "execution_count": 14,
   "metadata": {},
   "outputs": [],
   "source": [
    "# a session has to be created for atoti\n",
    "session = tt.Session()"
   ]
  },
  {
   "cell_type": "code",
   "execution_count": 15,
   "metadata": {},
   "outputs": [
    {
     "data": {
      "text/html": [
       "<div>\n",
       "<style scoped>\n",
       "    .dataframe tbody tr th:only-of-type {\n",
       "        vertical-align: middle;\n",
       "    }\n",
       "\n",
       "    .dataframe tbody tr th {\n",
       "        vertical-align: top;\n",
       "    }\n",
       "\n",
       "    .dataframe thead th {\n",
       "        text-align: right;\n",
       "    }\n",
       "</style>\n",
       "<table border=\"1\" class=\"dataframe\">\n",
       "  <thead>\n",
       "    <tr style=\"text-align: right;\">\n",
       "      <th></th>\n",
       "      <th>Gender</th>\n",
       "      <th>SeniorCitizen</th>\n",
       "      <th>Partner</th>\n",
       "      <th>Dependents</th>\n",
       "      <th>Tenure</th>\n",
       "      <th>PhoneService</th>\n",
       "      <th>MultipleLines</th>\n",
       "      <th>InternetService</th>\n",
       "      <th>OnlineSecurity</th>\n",
       "      <th>OnlineBackup</th>\n",
       "      <th>...</th>\n",
       "      <th>Contract</th>\n",
       "      <th>PaperlessBilling</th>\n",
       "      <th>PaymentMethod</th>\n",
       "      <th>MonthlyCharges</th>\n",
       "      <th>TotalCharges</th>\n",
       "      <th>TenureGroup</th>\n",
       "      <th>ChurnProbability</th>\n",
       "      <th>ChurnPredicted</th>\n",
       "      <th>Subset</th>\n",
       "      <th>Churn</th>\n",
       "    </tr>\n",
       "    <tr>\n",
       "      <th>CustomerID</th>\n",
       "      <th></th>\n",
       "      <th></th>\n",
       "      <th></th>\n",
       "      <th></th>\n",
       "      <th></th>\n",
       "      <th></th>\n",
       "      <th></th>\n",
       "      <th></th>\n",
       "      <th></th>\n",
       "      <th></th>\n",
       "      <th></th>\n",
       "      <th></th>\n",
       "      <th></th>\n",
       "      <th></th>\n",
       "      <th></th>\n",
       "      <th></th>\n",
       "      <th></th>\n",
       "      <th></th>\n",
       "      <th></th>\n",
       "      <th></th>\n",
       "      <th></th>\n",
       "    </tr>\n",
       "  </thead>\n",
       "  <tbody>\n",
       "    <tr>\n",
       "      <th>2842-JTCCU</th>\n",
       "      <td>Male</td>\n",
       "      <td>No</td>\n",
       "      <td>No</td>\n",
       "      <td>No</td>\n",
       "      <td>2</td>\n",
       "      <td>Yes</td>\n",
       "      <td>No</td>\n",
       "      <td>DSL</td>\n",
       "      <td>No</td>\n",
       "      <td>No</td>\n",
       "      <td>...</td>\n",
       "      <td>Month-to-month</td>\n",
       "      <td>No</td>\n",
       "      <td>Bank transfer (automatic)</td>\n",
       "      <td>46.05</td>\n",
       "      <td>80.35</td>\n",
       "      <td>Tenure_0-12</td>\n",
       "      <td>1.0</td>\n",
       "      <td>Yes</td>\n",
       "      <td>Train</td>\n",
       "      <td>Yes</td>\n",
       "    </tr>\n",
       "    <tr>\n",
       "      <th>5276-KQWHG</th>\n",
       "      <td>Female</td>\n",
       "      <td>Yes</td>\n",
       "      <td>No</td>\n",
       "      <td>No</td>\n",
       "      <td>2</td>\n",
       "      <td>Yes</td>\n",
       "      <td>No</td>\n",
       "      <td>Fiber optic</td>\n",
       "      <td>No</td>\n",
       "      <td>No</td>\n",
       "      <td>...</td>\n",
       "      <td>Month-to-month</td>\n",
       "      <td>Yes</td>\n",
       "      <td>Electronic check</td>\n",
       "      <td>69.60</td>\n",
       "      <td>131.65</td>\n",
       "      <td>Tenure_0-12</td>\n",
       "      <td>1.0</td>\n",
       "      <td>Yes</td>\n",
       "      <td>Train</td>\n",
       "      <td>Yes</td>\n",
       "    </tr>\n",
       "    <tr>\n",
       "      <th>2640-LYMOV</th>\n",
       "      <td>Male</td>\n",
       "      <td>No</td>\n",
       "      <td>No</td>\n",
       "      <td>No</td>\n",
       "      <td>2</td>\n",
       "      <td>Yes</td>\n",
       "      <td>No</td>\n",
       "      <td>No</td>\n",
       "      <td>No</td>\n",
       "      <td>No</td>\n",
       "      <td>...</td>\n",
       "      <td>Month-to-month</td>\n",
       "      <td>Yes</td>\n",
       "      <td>Mailed check</td>\n",
       "      <td>19.65</td>\n",
       "      <td>38.80</td>\n",
       "      <td>Tenure_0-12</td>\n",
       "      <td>0.0</td>\n",
       "      <td>No</td>\n",
       "      <td>Train</td>\n",
       "      <td>No</td>\n",
       "    </tr>\n",
       "    <tr>\n",
       "      <th>9154-QDGTH</th>\n",
       "      <td>Male</td>\n",
       "      <td>No</td>\n",
       "      <td>Yes</td>\n",
       "      <td>Yes</td>\n",
       "      <td>43</td>\n",
       "      <td>Yes</td>\n",
       "      <td>Yes</td>\n",
       "      <td>Fiber optic</td>\n",
       "      <td>No</td>\n",
       "      <td>No</td>\n",
       "      <td>...</td>\n",
       "      <td>One year</td>\n",
       "      <td>Yes</td>\n",
       "      <td>Credit card (automatic)</td>\n",
       "      <td>104.30</td>\n",
       "      <td>4451.85</td>\n",
       "      <td>Tenure_24-48</td>\n",
       "      <td>0.0</td>\n",
       "      <td>No</td>\n",
       "      <td>Train</td>\n",
       "      <td>No</td>\n",
       "    </tr>\n",
       "    <tr>\n",
       "      <th>3594-BDSOA</th>\n",
       "      <td>Female</td>\n",
       "      <td>No</td>\n",
       "      <td>Yes</td>\n",
       "      <td>No</td>\n",
       "      <td>24</td>\n",
       "      <td>Yes</td>\n",
       "      <td>No</td>\n",
       "      <td>No</td>\n",
       "      <td>No</td>\n",
       "      <td>No</td>\n",
       "      <td>...</td>\n",
       "      <td>One year</td>\n",
       "      <td>No</td>\n",
       "      <td>Credit card (automatic)</td>\n",
       "      <td>20.40</td>\n",
       "      <td>482.80</td>\n",
       "      <td>Tenure_12-24</td>\n",
       "      <td>0.0</td>\n",
       "      <td>No</td>\n",
       "      <td>Train</td>\n",
       "      <td>No</td>\n",
       "    </tr>\n",
       "  </tbody>\n",
       "</table>\n",
       "<p>5 rows × 24 columns</p>\n",
       "</div>"
      ],
      "text/plain": [
       "            Gender SeniorCitizen Partner Dependents Tenure PhoneService  \\\n",
       "CustomerID                                                                \n",
       "2842-JTCCU    Male            No      No         No      2          Yes   \n",
       "5276-KQWHG  Female           Yes      No         No      2          Yes   \n",
       "2640-LYMOV    Male            No      No         No      2          Yes   \n",
       "9154-QDGTH    Male            No     Yes        Yes     43          Yes   \n",
       "3594-BDSOA  Female            No     Yes         No     24          Yes   \n",
       "\n",
       "           MultipleLines InternetService OnlineSecurity OnlineBackup  ...  \\\n",
       "CustomerID                                                            ...   \n",
       "2842-JTCCU            No             DSL             No           No  ...   \n",
       "5276-KQWHG            No     Fiber optic             No           No  ...   \n",
       "2640-LYMOV            No              No             No           No  ...   \n",
       "9154-QDGTH           Yes     Fiber optic             No           No  ...   \n",
       "3594-BDSOA            No              No             No           No  ...   \n",
       "\n",
       "                  Contract PaperlessBilling              PaymentMethod  \\\n",
       "CustomerID                                                               \n",
       "2842-JTCCU  Month-to-month               No  Bank transfer (automatic)   \n",
       "5276-KQWHG  Month-to-month              Yes           Electronic check   \n",
       "2640-LYMOV  Month-to-month              Yes               Mailed check   \n",
       "9154-QDGTH        One year              Yes    Credit card (automatic)   \n",
       "3594-BDSOA        One year               No    Credit card (automatic)   \n",
       "\n",
       "           MonthlyCharges TotalCharges   TenureGroup ChurnProbability  \\\n",
       "CustomerID                                                              \n",
       "2842-JTCCU          46.05        80.35   Tenure_0-12              1.0   \n",
       "5276-KQWHG          69.60       131.65   Tenure_0-12              1.0   \n",
       "2640-LYMOV          19.65        38.80   Tenure_0-12              0.0   \n",
       "9154-QDGTH         104.30      4451.85  Tenure_24-48              0.0   \n",
       "3594-BDSOA          20.40       482.80  Tenure_12-24              0.0   \n",
       "\n",
       "            ChurnPredicted  Subset Churn  \n",
       "CustomerID                                \n",
       "2842-JTCCU             Yes   Train   Yes  \n",
       "5276-KQWHG             Yes   Train   Yes  \n",
       "2640-LYMOV              No   Train    No  \n",
       "9154-QDGTH              No   Train    No  \n",
       "3594-BDSOA              No   Train    No  \n",
       "\n",
       "[5 rows x 24 columns]"
      ]
     },
     "execution_count": 15,
     "metadata": {},
     "output_type": "execute_result"
    }
   ],
   "source": [
    "customer = session.read_pandas(telcom, keys=[\"CustomerID\"], table_name=\"customer\")\n",
    "customer.head()"
   ]
  },
  {
   "cell_type": "code",
   "execution_count": 16,
   "metadata": {},
   "outputs": [
    {
     "data": {
      "application/json": {
       "Dimensions": {
        "customer": {
         "Churn": [
          "Churn"
         ],
         "ChurnPredicted": [
          "ChurnPredicted"
         ],
         "Contract": [
          "Contract"
         ],
         "CustomerID": [
          "CustomerID"
         ],
         "Dependents": [
          "Dependents"
         ],
         "DeviceProtection": [
          "DeviceProtection"
         ],
         "Gender": [
          "Gender"
         ],
         "InternetService": [
          "InternetService"
         ],
         "MultipleLines": [
          "MultipleLines"
         ],
         "OnlineBackup": [
          "OnlineBackup"
         ],
         "OnlineSecurity": [
          "OnlineSecurity"
         ],
         "PaperlessBilling": [
          "PaperlessBilling"
         ],
         "Partner": [
          "Partner"
         ],
         "PaymentMethod": [
          "PaymentMethod"
         ],
         "PhoneService": [
          "PhoneService"
         ],
         "SeniorCitizen": [
          "SeniorCitizen"
         ],
         "StreamingMovies": [
          "StreamingMovies"
         ],
         "StreamingTV": [
          "StreamingTV"
         ],
         "Subset": [
          "Subset"
         ],
         "TechSupport": [
          "TechSupport"
         ],
         "Tenure": [
          "Tenure"
         ],
         "TenureGroup": [
          "TenureGroup"
         ]
        }
       },
       "Measures": {
        "ChurnProbability.MEAN": {
         "formatter": "DOUBLE[#,###.00]"
        },
        "ChurnProbability.SUM": {
         "formatter": "DOUBLE[#,###.00]"
        },
        "MonthlyCharges.MEAN": {
         "formatter": "DOUBLE[#,###.00]"
        },
        "MonthlyCharges.SUM": {
         "formatter": "DOUBLE[#,###.00]"
        },
        "TotalCharges.MEAN": {
         "formatter": "DOUBLE[#,###.00]"
        },
        "TotalCharges.SUM": {
         "formatter": "DOUBLE[#,###.00]"
        },
        "contributors.COUNT": {
         "formatter": "INT[#,###]"
        }
       }
      },
      "text/html": [
       "<ul>\n",
       "<li>customer_cube\n",
       "  <ul>\n",
       "  <li>Dimensions\n",
       "    <ul>\n",
       "    <li>customer\n",
       "      <ul>\n",
       "      <li>Churn\n",
       "        <ol>\n",
       "        <li>Churn</li>\n",
       "        </ol>      </li>\n",
       "      <li>ChurnPredicted\n",
       "        <ol>\n",
       "        <li>ChurnPredicted</li>\n",
       "        </ol>      </li>\n",
       "      <li>Contract\n",
       "        <ol>\n",
       "        <li>Contract</li>\n",
       "        </ol>      </li>\n",
       "      <li>CustomerID\n",
       "        <ol>\n",
       "        <li>CustomerID</li>\n",
       "        </ol>      </li>\n",
       "      <li>Dependents\n",
       "        <ol>\n",
       "        <li>Dependents</li>\n",
       "        </ol>      </li>\n",
       "      <li>DeviceProtection\n",
       "        <ol>\n",
       "        <li>DeviceProtection</li>\n",
       "        </ol>      </li>\n",
       "      <li>Gender\n",
       "        <ol>\n",
       "        <li>Gender</li>\n",
       "        </ol>      </li>\n",
       "      <li>InternetService\n",
       "        <ol>\n",
       "        <li>InternetService</li>\n",
       "        </ol>      </li>\n",
       "      <li>MultipleLines\n",
       "        <ol>\n",
       "        <li>MultipleLines</li>\n",
       "        </ol>      </li>\n",
       "      <li>OnlineBackup\n",
       "        <ol>\n",
       "        <li>OnlineBackup</li>\n",
       "        </ol>      </li>\n",
       "      <li>OnlineSecurity\n",
       "        <ol>\n",
       "        <li>OnlineSecurity</li>\n",
       "        </ol>      </li>\n",
       "      <li>PaperlessBilling\n",
       "        <ol>\n",
       "        <li>PaperlessBilling</li>\n",
       "        </ol>      </li>\n",
       "      <li>Partner\n",
       "        <ol>\n",
       "        <li>Partner</li>\n",
       "        </ol>      </li>\n",
       "      <li>PaymentMethod\n",
       "        <ol>\n",
       "        <li>PaymentMethod</li>\n",
       "        </ol>      </li>\n",
       "      <li>PhoneService\n",
       "        <ol>\n",
       "        <li>PhoneService</li>\n",
       "        </ol>      </li>\n",
       "      <li>SeniorCitizen\n",
       "        <ol>\n",
       "        <li>SeniorCitizen</li>\n",
       "        </ol>      </li>\n",
       "      <li>StreamingMovies\n",
       "        <ol>\n",
       "        <li>StreamingMovies</li>\n",
       "        </ol>      </li>\n",
       "      <li>StreamingTV\n",
       "        <ol>\n",
       "        <li>StreamingTV</li>\n",
       "        </ol>      </li>\n",
       "      <li>Subset\n",
       "        <ol>\n",
       "        <li>Subset</li>\n",
       "        </ol>      </li>\n",
       "      <li>TechSupport\n",
       "        <ol>\n",
       "        <li>TechSupport</li>\n",
       "        </ol>      </li>\n",
       "      <li>Tenure\n",
       "        <ol>\n",
       "        <li>Tenure</li>\n",
       "        </ol>      </li>\n",
       "      <li>TenureGroup\n",
       "        <ol>\n",
       "        <li>TenureGroup</li>\n",
       "        </ol>      </li>\n",
       "      </ul>\n",
       "    </li>\n",
       "    </ul>\n",
       "  </li>\n",
       "  <li>Measures\n",
       "    <ul>\n",
       "    <li>ChurnProbability.MEAN\n",
       "      <ul>\n",
       "      <li>formatter: DOUBLE[#,###.00]</li>\n",
       "      </ul>\n",
       "    </li>\n",
       "    <li>ChurnProbability.SUM\n",
       "      <ul>\n",
       "      <li>formatter: DOUBLE[#,###.00]</li>\n",
       "      </ul>\n",
       "    </li>\n",
       "    <li>MonthlyCharges.MEAN\n",
       "      <ul>\n",
       "      <li>formatter: DOUBLE[#,###.00]</li>\n",
       "      </ul>\n",
       "    </li>\n",
       "    <li>MonthlyCharges.SUM\n",
       "      <ul>\n",
       "      <li>formatter: DOUBLE[#,###.00]</li>\n",
       "      </ul>\n",
       "    </li>\n",
       "    <li>TotalCharges.MEAN\n",
       "      <ul>\n",
       "      <li>formatter: DOUBLE[#,###.00]</li>\n",
       "      </ul>\n",
       "    </li>\n",
       "    <li>TotalCharges.SUM\n",
       "      <ul>\n",
       "      <li>formatter: DOUBLE[#,###.00]</li>\n",
       "      </ul>\n",
       "    </li>\n",
       "    <li>contributors.COUNT\n",
       "      <ul>\n",
       "      <li>formatter: INT[#,###]</li>\n",
       "      </ul>\n",
       "    </li>\n",
       "    </ul>\n",
       "  </li>\n",
       "  </ul>\n",
       "</li>\n",
       "</ul>\n"
      ],
      "text/plain": [
       "<atoti.cube.Cube at 0x1d0df061b40>"
      ]
     },
     "execution_count": 16,
     "metadata": {
      "application/json": {
       "expanded": false,
       "root": "customer_cube"
      }
     },
     "output_type": "execute_result"
    }
   ],
   "source": [
    "cube = session.create_cube(customer, \"customer_cube\")\n",
    "\n",
    "h, m, l = cube.hierarchies, cube.measures, cube.levels\n",
    "cube"
   ]
  },
  {
   "cell_type": "markdown",
   "metadata": {},
   "source": [
    "We create a simple function that helps change the dimension of our hierarchies as we group them into logical categories."
   ]
  },
  {
   "cell_type": "code",
   "execution_count": 17,
   "metadata": {},
   "outputs": [],
   "source": [
    "def set_dim(hier_name, dim_name):\n",
    "    h[hier_name].dimension = dim_name"
   ]
  },
  {
   "cell_type": "markdown",
   "metadata": {},
   "source": [
    "## Data classification using dimensions\n",
    "\n",
    "We re-classify the hierarchies under Customer, Demographic, Account and Services."
   ]
  },
  {
   "cell_type": "code",
   "execution_count": 18,
   "metadata": {},
   "outputs": [
    {
     "data": {
      "application/json": {
       "Dimensions": {
        "Account": {
         "Contract": [
          "Contract"
         ],
         "PaperlessBilling": [
          "PaperlessBilling"
         ],
         "PaymentMethod": [
          "PaymentMethod"
         ],
         "Tenure": [
          "Tenure"
         ],
         "TenureGroup": [
          "TenureGroup"
         ]
        },
        "Customer": {
         "Churn": [
          "Churn"
         ],
         "ChurnPredicted": [
          "ChurnPredicted"
         ],
         "CustomerID": [
          "CustomerID"
         ]
        },
        "Demographic": {
         "Dependents": [
          "Dependents"
         ],
         "Gender": [
          "Gender"
         ],
         "Partner": [
          "Partner"
         ],
         "SeniorCitizen": [
          "SeniorCitizen"
         ]
        },
        "Services": {
         "DeviceProtection": [
          "DeviceProtection"
         ],
         "InternetService": [
          "InternetService"
         ],
         "MultipleLines": [
          "MultipleLines"
         ],
         "OnlineBackup": [
          "OnlineBackup"
         ],
         "OnlineSecurity": [
          "OnlineSecurity"
         ],
         "PhoneService": [
          "PhoneService"
         ],
         "StreamingMovies": [
          "StreamingMovies"
         ],
         "StreamingTV": [
          "StreamingTV"
         ],
         "TechSupport": [
          "TechSupport"
         ]
        },
        "customer": {
         "Subset": [
          "Subset"
         ]
        }
       },
       "Measures": {
        "ChurnProbability.MEAN": {
         "formatter": "DOUBLE[#,###.00]"
        },
        "ChurnProbability.SUM": {
         "formatter": "DOUBLE[#,###.00]"
        },
        "MonthlyCharges.MEAN": {
         "formatter": "DOUBLE[#,###.00]"
        },
        "MonthlyCharges.SUM": {
         "formatter": "DOUBLE[#,###.00]"
        },
        "TotalCharges.MEAN": {
         "formatter": "DOUBLE[#,###.00]"
        },
        "TotalCharges.SUM": {
         "formatter": "DOUBLE[#,###.00]"
        },
        "contributors.COUNT": {
         "formatter": "INT[#,###]"
        }
       }
      },
      "text/html": [
       "<ul>\n",
       "<li>customer_cube\n",
       "  <ul>\n",
       "  <li>Dimensions\n",
       "    <ul>\n",
       "    <li>Account\n",
       "      <ul>\n",
       "      <li>Contract\n",
       "        <ol>\n",
       "        <li>Contract</li>\n",
       "        </ol>      </li>\n",
       "      <li>PaperlessBilling\n",
       "        <ol>\n",
       "        <li>PaperlessBilling</li>\n",
       "        </ol>      </li>\n",
       "      <li>PaymentMethod\n",
       "        <ol>\n",
       "        <li>PaymentMethod</li>\n",
       "        </ol>      </li>\n",
       "      <li>Tenure\n",
       "        <ol>\n",
       "        <li>Tenure</li>\n",
       "        </ol>      </li>\n",
       "      <li>TenureGroup\n",
       "        <ol>\n",
       "        <li>TenureGroup</li>\n",
       "        </ol>      </li>\n",
       "      </ul>\n",
       "    </li>\n",
       "    <li>Customer\n",
       "      <ul>\n",
       "      <li>Churn\n",
       "        <ol>\n",
       "        <li>Churn</li>\n",
       "        </ol>      </li>\n",
       "      <li>ChurnPredicted\n",
       "        <ol>\n",
       "        <li>ChurnPredicted</li>\n",
       "        </ol>      </li>\n",
       "      <li>CustomerID\n",
       "        <ol>\n",
       "        <li>CustomerID</li>\n",
       "        </ol>      </li>\n",
       "      </ul>\n",
       "    </li>\n",
       "    <li>Demographic\n",
       "      <ul>\n",
       "      <li>Dependents\n",
       "        <ol>\n",
       "        <li>Dependents</li>\n",
       "        </ol>      </li>\n",
       "      <li>Gender\n",
       "        <ol>\n",
       "        <li>Gender</li>\n",
       "        </ol>      </li>\n",
       "      <li>Partner\n",
       "        <ol>\n",
       "        <li>Partner</li>\n",
       "        </ol>      </li>\n",
       "      <li>SeniorCitizen\n",
       "        <ol>\n",
       "        <li>SeniorCitizen</li>\n",
       "        </ol>      </li>\n",
       "      </ul>\n",
       "    </li>\n",
       "    <li>Services\n",
       "      <ul>\n",
       "      <li>DeviceProtection\n",
       "        <ol>\n",
       "        <li>DeviceProtection</li>\n",
       "        </ol>      </li>\n",
       "      <li>InternetService\n",
       "        <ol>\n",
       "        <li>InternetService</li>\n",
       "        </ol>      </li>\n",
       "      <li>MultipleLines\n",
       "        <ol>\n",
       "        <li>MultipleLines</li>\n",
       "        </ol>      </li>\n",
       "      <li>OnlineBackup\n",
       "        <ol>\n",
       "        <li>OnlineBackup</li>\n",
       "        </ol>      </li>\n",
       "      <li>OnlineSecurity\n",
       "        <ol>\n",
       "        <li>OnlineSecurity</li>\n",
       "        </ol>      </li>\n",
       "      <li>PhoneService\n",
       "        <ol>\n",
       "        <li>PhoneService</li>\n",
       "        </ol>      </li>\n",
       "      <li>StreamingMovies\n",
       "        <ol>\n",
       "        <li>StreamingMovies</li>\n",
       "        </ol>      </li>\n",
       "      <li>StreamingTV\n",
       "        <ol>\n",
       "        <li>StreamingTV</li>\n",
       "        </ol>      </li>\n",
       "      <li>TechSupport\n",
       "        <ol>\n",
       "        <li>TechSupport</li>\n",
       "        </ol>      </li>\n",
       "      </ul>\n",
       "    </li>\n",
       "    <li>customer\n",
       "      <ul>\n",
       "      <li>Subset\n",
       "        <ol>\n",
       "        <li>Subset</li>\n",
       "        </ol>      </li>\n",
       "      </ul>\n",
       "    </li>\n",
       "    </ul>\n",
       "  </li>\n",
       "  <li>Measures\n",
       "    <ul>\n",
       "    <li>ChurnProbability.MEAN\n",
       "      <ul>\n",
       "      <li>formatter: DOUBLE[#,###.00]</li>\n",
       "      </ul>\n",
       "    </li>\n",
       "    <li>ChurnProbability.SUM\n",
       "      <ul>\n",
       "      <li>formatter: DOUBLE[#,###.00]</li>\n",
       "      </ul>\n",
       "    </li>\n",
       "    <li>MonthlyCharges.MEAN\n",
       "      <ul>\n",
       "      <li>formatter: DOUBLE[#,###.00]</li>\n",
       "      </ul>\n",
       "    </li>\n",
       "    <li>MonthlyCharges.SUM\n",
       "      <ul>\n",
       "      <li>formatter: DOUBLE[#,###.00]</li>\n",
       "      </ul>\n",
       "    </li>\n",
       "    <li>TotalCharges.MEAN\n",
       "      <ul>\n",
       "      <li>formatter: DOUBLE[#,###.00]</li>\n",
       "      </ul>\n",
       "    </li>\n",
       "    <li>TotalCharges.SUM\n",
       "      <ul>\n",
       "      <li>formatter: DOUBLE[#,###.00]</li>\n",
       "      </ul>\n",
       "    </li>\n",
       "    <li>contributors.COUNT\n",
       "      <ul>\n",
       "      <li>formatter: INT[#,###]</li>\n",
       "      </ul>\n",
       "    </li>\n",
       "    </ul>\n",
       "  </li>\n",
       "  </ul>\n",
       "</li>\n",
       "</ul>\n"
      ],
      "text/plain": [
       "<atoti.cube.Cube at 0x1d0df061b40>"
      ]
     },
     "execution_count": 18,
     "metadata": {
      "application/json": {
       "expanded": false,
       "root": "customer_cube"
      }
     },
     "output_type": "execute_result"
    }
   ],
   "source": [
    "customer_hierarchy = [\"CustomerID\", \"Churn\", \"ChurnPredicted\"]\n",
    "[set_dim(hier_name, \"Customer\") for hier_name in customer_hierarchy]\n",
    "\n",
    "demographic_hierarchy = [\"Gender\", \"SeniorCitizen\", \"Partner\", \"Dependents\"]\n",
    "[set_dim(hier_name, \"Demographic\") for hier_name in demographic_hierarchy]\n",
    "\n",
    "account_hierarchy = [\n",
    "    \"Tenure\",\n",
    "    \"Contract\",\n",
    "    \"PaperlessBilling\",\n",
    "    \"PaymentMethod\",\n",
    "    \"TenureGroup\",\n",
    "]\n",
    "[set_dim(hier_name, \"Account\") for hier_name in account_hierarchy]\n",
    "\n",
    "services_hierarchy = [\n",
    "    \"PhoneService\",\n",
    "    \"MultipleLines\",\n",
    "    \"InternetService\",\n",
    "    \"OnlineSecurity\",\n",
    "    \"OnlineBackup\",\n",
    "    \"DeviceProtection\",\n",
    "    \"TechSupport\",\n",
    "    \"StreamingTV\",\n",
    "    \"StreamingMovies\",\n",
    "]\n",
    "[set_dim(hier_name, \"Services\") for hier_name in services_hierarchy]\n",
    "\n",
    "cube"
   ]
  },
  {
   "cell_type": "markdown",
   "metadata": {},
   "source": [
    "### Predictions and Scenario creation\n",
    "\n",
    "Now that we are going to load the full dataset into the trained model to get the corresponding prediction and probability. We run the function `model_scenario` to get the `ChurnPredicted` and `ChurnProbability`.\n",
    "\n",
    "We assign the prediction from the data models to `ChurnPredicted`. If churn is predicted, we assign its corresponding probability from the data model to `ChurnProbability`. This is because we are only interested in cases where customers are churning.\n",
    "\n",
    "We convert the binary result of `ChurnPredicted` to 'Yes' and 'No' value such that we can compare it against the actual `Churn`. If the prediction matches the actual churn, we assign the value 1 to its `PredictionAccuracy`. \n",
    "\n",
    "Thereafter, we load the resultant pandas dataframe into the `customer` as a [scenario](https://docs.atoti.io/0.4.1/tutorial/01-Basics.html#Source-simulation). "
   ]
  },
  {
   "cell_type": "code",
   "execution_count": 19,
   "metadata": {},
   "outputs": [],
   "source": [
    "# we run the same month data against the trained models and see its accuracy against the actual churn\n",
    "def model_scenario(predictions, probabilities):\n",
    "    churnProbability = np.amax(probabilities, axis=1)\n",
    "\n",
    "    churn_forecast = telcom.copy().reset_index(drop=True)\n",
    "    churn_forecast = churn_forecast.drop([\"ChurnPredicted\", \"ChurnProbability\"], axis=1)\n",
    "\n",
    "    churn_forecast = pd.concat(\n",
    "        [\n",
    "            churn_forecast,\n",
    "            pd.DataFrame(\n",
    "                {\"ChurnPredicted\": predictions, \"ChurnProbability\": churnProbability}\n",
    "            ),\n",
    "        ],\n",
    "        axis=1,\n",
    "    )\n",
    "\n",
    "    # we are not interested in the probability if it is predicted that the client will not churn\n",
    "    churn_forecast[\"ChurnProbability\"] = np.where(\n",
    "        churn_forecast[\"ChurnPredicted\"] == 1, churn_forecast[\"ChurnProbability\"], 0\n",
    "    )\n",
    "\n",
    "    churn_forecast[\"ChurnPredicted\"] = np.where(\n",
    "        churn_forecast[\"ChurnPredicted\"] == 1, \"Yes\", \"No\"\n",
    "    )\n",
    "\n",
    "    return churn_forecast"
   ]
  },
  {
   "cell_type": "markdown",
   "metadata": {},
   "source": [
    "#### Scenario 1 - Using Naive Bayes Classifier"
   ]
  },
  {
   "cell_type": "code",
   "execution_count": 20,
   "metadata": {},
   "outputs": [],
   "source": [
    "gnb_prediction = gnb_clf.predict(X)\n",
    "gnb_probability = gnb_clf.predict_proba(X)\n",
    "\n",
    "gnb_df = model_scenario(gnb_prediction, gnb_probability)\n",
    "customer.scenarios[\"Naive Bayes Classifier\"].load_pandas(gnb_df)"
   ]
  },
  {
   "cell_type": "markdown",
   "metadata": {},
   "source": [
    "#### Scenario 2 - Using Logistic Regression Classifier "
   ]
  },
  {
   "cell_type": "code",
   "execution_count": 21,
   "metadata": {},
   "outputs": [],
   "source": [
    "lr_prediction = lr_clf.predict(X)\n",
    "lr_probability = lr_clf.predict_proba(X)\n",
    "\n",
    "lr_df = model_scenario(lr_prediction, lr_probability)\n",
    "customer.scenarios[\"Logistic Regression Classifier\"].load_pandas(lr_df)"
   ]
  },
  {
   "cell_type": "markdown",
   "metadata": {},
   "source": [
    "#### Scenario 3 - Using SVM Classifier"
   ]
  },
  {
   "cell_type": "code",
   "execution_count": 22,
   "metadata": {},
   "outputs": [],
   "source": [
    "svm_prediction = svc_clf.predict(X)\n",
    "svm_probability = svc_clf.predict_proba(X)\n",
    "\n",
    "svm_df = model_scenario(svm_prediction, svm_probability)\n",
    "customer.scenarios[\"SVM Classifier\"].load_pandas(svm_df)"
   ]
  },
  {
   "cell_type": "markdown",
   "metadata": {},
   "source": [
    "#### Scenario 4 - Using Dummy Uniform Classifier"
   ]
  },
  {
   "cell_type": "code",
   "execution_count": 23,
   "metadata": {},
   "outputs": [],
   "source": [
    "dummy_unif_prediction = dummy_unif_clf.predict(X)\n",
    "dummy_unif_probability = dummy_unif_clf.predict_proba(X)\n",
    "\n",
    "dummy_unif_df = model_scenario(dummy_unif_prediction, dummy_unif_probability)\n",
    "customer.scenarios[\"Dummy Uniform Classifier\"].load_pandas(dummy_unif_df)"
   ]
  },
  {
   "cell_type": "markdown",
   "metadata": {},
   "source": [
    "#### Scenario 5 - Using Dummy Statified Classifier"
   ]
  },
  {
   "cell_type": "raw",
   "metadata": {},
   "source": [
    "dummy_strat_prediction = dummy_strat_clf.predict(test_X)\n",
    "dummy_strat_probability = dummy_strat_clf.predict_proba(test_X)\n",
    "\n",
    "dummy_strat_df = model_scenario(dummy_strat_prediction, dummy_strat_probability)\n",
    "customer.scenarios[\"Dummy Stratified Classifier\"].load_pandas(dummy_strat_df)"
   ]
  },
  {
   "cell_type": "markdown",
   "metadata": {},
   "source": [
    "#### Scenario 6 - Using Dummy Majority Class Classifier"
   ]
  },
  {
   "cell_type": "raw",
   "metadata": {},
   "source": [
    "dummy_major_prediction = dummy_major_clf.predict(test_X)\n",
    "dummy_major_probability = dummy_major_clf.predict_proba(test_X)\n",
    "\n",
    "dummy_major_df = model_scenario(dummy_major_prediction, dummy_major_probability)\n",
    "customer.scenarios[\"Majority Class Classifier\"].load_pandas(dummy_major_df)"
   ]
  },
  {
   "cell_type": "markdown",
   "metadata": {},
   "source": [
    "## Telco Churn Data Analysis\n",
    "\n",
    "Now that we are ready with our analysis."
   ]
  },
  {
   "cell_type": "markdown",
   "metadata": {},
   "source": [
    "Let's have a quick overview of each prediction results."
   ]
  },
  {
   "cell_type": "code",
   "execution_count": 24,
   "metadata": {
    "atoti": {
     "widget": {
      "columnWidths": {
       "[Epoch].[Epoch].[Branch]": 170
      },
      "filters": [],
      "mapping": {
       "columns": [
        "ALL_MEASURES",
        "[Customer].[ChurnPredicted].[ChurnPredicted]"
       ],
       "measures": [
        "[Measures].[contributors.COUNT]"
       ],
       "rows": [
        "[Epoch].[Epoch].[Branch]"
       ]
      },
      "name": "Last month customer attrition by models",
      "query": {
       "context": {
        "queriesResultLimit.intermediateSize": 1000000,
        "queriesResultLimit.transientSize": 10000000
       },
       "mdx": "SELECT NON EMPTY [Epoch].[Epoch].[Branch].Members ON ROWS, NON EMPTY Crossjoin({[Measures].[contributors.COUNT]}, Hierarchize(Descendants({[Customer].[ChurnPredicted].[AllMember]}, 1, SELF_AND_BEFORE))) ON COLUMNS FROM [customer_cube] CELL PROPERTIES BACK_COLOR, FONT_FLAGS, FORE_COLOR, FORMATTED_VALUE, VALUE"
      },
      "serverKey": "default",
      "switchedTo": "plotly-clustered-bar-chart",
      "widgetKey": "pivot-table"
     }
    },
    "tags": []
   },
   "outputs": [
    {
     "data": {
      "application/vnd.atoti.widget.v0+json": {
       "name": "Last month customer attrition by models",
       "sessionId": "1685413173_PPEYJT",
       "sessionLocation": {
        "https": false,
        "port": 58900
       },
       "widgetCreationCode": "session.visualize()"
      },
      "text/html": [
       "<img src=\"data:image/svg+xml;charset=utf8,%3C%3Fxml%20version%3D%221.0%22%20standalone%3D%22no%22%3F%3E%3Csvg%20xmlns%3D%22http%3A%2F%2Fwww.w3.org%2F2000%2Fsvg%22%20xmlns%3Axlink%3D%22http%3A%2F%2Fwww.w3.org%2F1999%2Fxlink%22%20height%3D%22352%22%20width%3D%221342%22%20viewBox%3D%220%200%201342%20352%22%3E%3Cdefs%20id%3D%22defs-758265%22%3E%3Cg%20class%3D%22clips%22%3E%3CclipPath%20id%3D%22clip758265xyplot%22%20class%3D%22plotclip%22%3E%3Crect%20width%3D%221076%22%20height%3D%22282%22%2F%3E%3C%2FclipPath%3E%3CclipPath%20class%3D%22axesclip%22%20id%3D%22clip758265x%22%3E%3Crect%20x%3D%22177%22%20y%3D%220%22%20width%3D%221076%22%20height%3D%22352%22%2F%3E%3C%2FclipPath%3E%3CclipPath%20class%3D%22axesclip%22%20id%3D%22clip758265y%22%3E%3Crect%20x%3D%220%22%20y%3D%2230%22%20width%3D%221342%22%20height%3D%22282%22%2F%3E%3C%2FclipPath%3E%3CclipPath%20class%3D%22axesclip%22%20id%3D%22clip758265xy%22%3E%3Crect%20x%3D%22177%22%20y%3D%2230%22%20width%3D%221076%22%20height%3D%22282%22%2F%3E%3C%2FclipPath%3E%3C%2Fg%3E%3Cg%20class%3D%22gradients%22%2F%3E%3C%2Fdefs%3E%3Cg%20class%3D%22bglayer%22%2F%3E%3Cg%20class%3D%22draglayer%20cursor-crosshair%22%3E%3Cg%20class%3D%22xy%22%3E%3Crect%20class%3D%22nsewdrag%20drag%22%20data-subplot%3D%22xy%22%20x%3D%22177%22%20y%3D%2230%22%20width%3D%221076%22%20height%3D%22282%22%20style%3D%22fill%3A%20transparent%3B%20stroke-width%3A%200%3B%20pointer-events%3A%20all%3B%22%2F%3E%3Crect%20class%3D%22nwdrag%20drag%20cursor-nw-resize%22%20data-subplot%3D%22xy%22%20x%3D%22157%22%20y%3D%2210%22%20width%3D%2220%22%20height%3D%2220%22%20style%3D%22fill%3A%20transparent%3B%20stroke-width%3A%200%3B%20pointer-events%3A%20all%3B%22%2F%3E%3Crect%20class%3D%22nedrag%20drag%20cursor-ne-resize%22%20data-subplot%3D%22xy%22%20x%3D%221253%22%20y%3D%2210%22%20width%3D%2220%22%20height%3D%2220%22%20style%3D%22fill%3A%20transparent%3B%20stroke-width%3A%200%3B%20pointer-events%3A%20all%3B%22%2F%3E%3Crect%20class%3D%22swdrag%20drag%20cursor-sw-resize%22%20data-subplot%3D%22xy%22%20x%3D%22157%22%20y%3D%22312%22%20width%3D%2220%22%20height%3D%2220%22%20style%3D%22fill%3A%20transparent%3B%20stroke-width%3A%200%3B%20pointer-events%3A%20all%3B%22%2F%3E%3Crect%20class%3D%22sedrag%20drag%20cursor-se-resize%22%20data-subplot%3D%22xy%22%20x%3D%221253%22%20y%3D%22312%22%20width%3D%2220%22%20height%3D%2220%22%20style%3D%22fill%3A%20transparent%3B%20stroke-width%3A%200%3B%20pointer-events%3A%20all%3B%22%2F%3E%3Crect%20class%3D%22ewdrag%20drag%20cursor-ew-resize%22%20data-subplot%3D%22xy%22%20x%3D%22284.6%22%20y%3D%22312.5%22%20width%3D%22860.8000000000001%22%20height%3D%2220%22%20style%3D%22fill%3A%20transparent%3B%20stroke-width%3A%200%3B%20pointer-events%3A%20all%3B%22%2F%3E%3Crect%20class%3D%22wdrag%20drag%20cursor-w-resize%22%20data-subplot%3D%22xy%22%20x%3D%22177%22%20y%3D%22312.5%22%20width%3D%22107.60000000000001%22%20height%3D%2220%22%20style%3D%22fill%3A%20transparent%3B%20stroke-width%3A%200%3B%20pointer-events%3A%20all%3B%22%2F%3E%3Crect%20class%3D%22edrag%20drag%20cursor-e-resize%22%20data-subplot%3D%22xy%22%20x%3D%221145.4%22%20y%3D%22312.5%22%20width%3D%22107.60000000000001%22%20height%3D%2220%22%20style%3D%22fill%3A%20transparent%3B%20stroke-width%3A%200%3B%20pointer-events%3A%20all%3B%22%2F%3E%3Crect%20class%3D%22nsdrag%20drag%20cursor-ns-resize%22%20data-subplot%3D%22xy%22%20x%3D%22156.5%22%20y%3D%2258.2%22%20width%3D%2220%22%20height%3D%22225.60000000000002%22%20style%3D%22fill%3A%20transparent%3B%20stroke-width%3A%200%3B%20pointer-events%3A%20all%3B%22%2F%3E%3Crect%20class%3D%22sdrag%20drag%20cursor-s-resize%22%20data-subplot%3D%22xy%22%20x%3D%22156.5%22%20y%3D%22283.8%22%20width%3D%2220%22%20height%3D%2228.200000000000003%22%20style%3D%22fill%3A%20transparent%3B%20stroke-width%3A%200%3B%20pointer-events%3A%20all%3B%22%2F%3E%3Crect%20class%3D%22ndrag%20drag%20cursor-n-resize%22%20data-subplot%3D%22xy%22%20x%3D%22156.5%22%20y%3D%2230%22%20width%3D%2220%22%20height%3D%2228.200000000000003%22%20style%3D%22fill%3A%20transparent%3B%20stroke-width%3A%200%3B%20pointer-events%3A%20all%3B%22%2F%3E%3C%2Fg%3E%3C%2Fg%3E%3Cg%20class%3D%22layer-below%22%3E%3Cg%20class%3D%22imagelayer%22%2F%3E%3Cg%20class%3D%22shapelayer%22%2F%3E%3C%2Fg%3E%3Cg%20class%3D%22cartesianlayer%22%3E%3Cg%20class%3D%22subplot%20xy%22%3E%3Cg%20class%3D%22layer-subplot%22%3E%3Cg%20class%3D%22shapelayer%22%2F%3E%3Cg%20class%3D%22imagelayer%22%2F%3E%3C%2Fg%3E%3Cg%20class%3D%22gridlayer%22%3E%3Cg%20class%3D%22x%22%3E%3Cpath%20class%3D%22xgrid%20crisp%22%20transform%3D%22translate(370.23%2C0)%22%20d%3D%22M0%2C30v282%22%20style%3D%22stroke%3A%20rgb(0%2C%200%2C%200)%3B%20stroke-opacity%3A%200%3B%20stroke-width%3A%201px%3B%22%2F%3E%3Cpath%20class%3D%22xgrid%20crisp%22%20transform%3D%22translate(563.47%2C0)%22%20d%3D%22M0%2C30v282%22%20style%3D%22stroke%3A%20rgb(0%2C%200%2C%200)%3B%20stroke-opacity%3A%200%3B%20stroke-width%3A%201px%3B%22%2F%3E%3Cpath%20class%3D%22xgrid%20crisp%22%20transform%3D%22translate(756.7%2C0)%22%20d%3D%22M0%2C30v282%22%20style%3D%22stroke%3A%20rgb(0%2C%200%2C%200)%3B%20stroke-opacity%3A%200%3B%20stroke-width%3A%201px%3B%22%2F%3E%3Cpath%20class%3D%22xgrid%20crisp%22%20transform%3D%22translate(949.93%2C0)%22%20d%3D%22M0%2C30v282%22%20style%3D%22stroke%3A%20rgb(0%2C%200%2C%200)%3B%20stroke-opacity%3A%200%3B%20stroke-width%3A%201px%3B%22%2F%3E%3Cpath%20class%3D%22xgrid%20crisp%22%20transform%3D%22translate(1143.1599999999999%2C0)%22%20d%3D%22M0%2C30v282%22%20style%3D%22stroke%3A%20rgb(0%2C%200%2C%200)%3B%20stroke-opacity%3A%200%3B%20stroke-width%3A%201px%3B%22%2F%3E%3C%2Fg%3E%3Cg%20class%3D%22y%22%3E%3Cpath%20class%3D%22ygrid%20crisp%22%20transform%3D%22translate(0%2C283.8)%22%20d%3D%22M177%2C0h1076%22%20style%3D%22stroke%3A%20rgb(89%2C%2089%2C%2089)%3B%20stroke-opacity%3A%200.25%3B%20stroke-width%3A%201px%3B%22%2F%3E%3Cpath%20class%3D%22ygrid%20crisp%22%20transform%3D%22translate(0%2C227.4)%22%20d%3D%22M177%2C0h1076%22%20style%3D%22stroke%3A%20rgb(89%2C%2089%2C%2089)%3B%20stroke-opacity%3A%200.25%3B%20stroke-width%3A%201px%3B%22%2F%3E%3Cpath%20class%3D%22ygrid%20crisp%22%20transform%3D%22translate(0%2C171)%22%20d%3D%22M177%2C0h1076%22%20style%3D%22stroke%3A%20rgb(89%2C%2089%2C%2089)%3B%20stroke-opacity%3A%200.25%3B%20stroke-width%3A%201px%3B%22%2F%3E%3Cpath%20class%3D%22ygrid%20crisp%22%20transform%3D%22translate(0%2C114.6)%22%20d%3D%22M177%2C0h1076%22%20style%3D%22stroke%3A%20rgb(89%2C%2089%2C%2089)%3B%20stroke-opacity%3A%200.25%3B%20stroke-width%3A%201px%3B%22%2F%3E%3Cpath%20class%3D%22ygrid%20crisp%22%20transform%3D%22translate(0%2C58.2)%22%20d%3D%22M177%2C0h1076%22%20style%3D%22stroke%3A%20rgb(89%2C%2089%2C%2089)%3B%20stroke-opacity%3A%200.25%3B%20stroke-width%3A%201px%3B%22%2F%3E%3C%2Fg%3E%3C%2Fg%3E%3Cg%20class%3D%22zerolinelayer%22%3E%3Cpath%20class%3D%22xzl%20zl%20crisp%22%20transform%3D%22translate(177%2C0)%22%20d%3D%22M0%2C30v282%22%20style%3D%22stroke%3A%20rgb(89%2C%2089%2C%2089)%3B%20stroke-opacity%3A%200.5%3B%20stroke-width%3A%201px%3B%22%2F%3E%3C%2Fg%3E%3Cpath%20class%3D%22xlines-below%22%2F%3E%3Cpath%20class%3D%22ylines-below%22%2F%3E%3Cg%20class%3D%22overlines-below%22%2F%3E%3Cg%20class%3D%22xaxislayer-below%22%2F%3E%3Cg%20class%3D%22yaxislayer-below%22%2F%3E%3Cg%20class%3D%22overaxes-below%22%2F%3E%3Cg%20class%3D%22plot%22%20transform%3D%22translate(177%2C30)%22%20clip-path%3D%22url('%23clip758265xyplot')%22%3E%3Cg%20class%3D%22barlayer%20mlayer%22%3E%3Cg%20class%3D%22trace%20bars%22%20style%3D%22opacity%3A%201%3B%22%3E%3Cg%20class%3D%22points%22%3E%3Cg%20class%3D%22point%22%3E%3Cpath%20d%3D%22M0%2C276.36V253.8H997.66V276.36Z%22%20style%3D%22vector-effect%3A%20non-scaling-stroke%3B%20opacity%3A%201%3B%20stroke-width%3A%200px%3B%20fill%3A%20rgb(78%2C%20121%2C%20167)%3B%20fill-opacity%3A%201%3B%22%2F%3E%3C%2Fg%3E%3Cg%20class%3D%22point%22%3E%3Cpath%20d%3D%22M0%2C219.96V197.4H681.53V219.96Z%22%20style%3D%22vector-effect%3A%20non-scaling-stroke%3B%20opacity%3A%201%3B%20stroke-width%3A%200px%3B%20fill%3A%20rgb(78%2C%20121%2C%20167)%3B%20fill-opacity%3A%201%3B%22%2F%3E%3C%2Fg%3E%3Cg%20class%3D%22point%22%3E%3Cpath%20d%3D%22M0%2C163.56V141H993.79V163.56Z%22%20style%3D%22vector-effect%3A%20non-scaling-stroke%3B%20opacity%3A%201%3B%20stroke-width%3A%200px%3B%20fill%3A%20rgb(78%2C%20121%2C%20167)%3B%20fill-opacity%3A%201%3B%22%2F%3E%3C%2Fg%3E%3Cg%20class%3D%22point%22%3E%3Cpath%20d%3D%22M0%2C107.16V84.6H1022.2V107.16Z%22%20style%3D%22vector-effect%3A%20non-scaling-stroke%3B%20opacity%3A%201%3B%20stroke-width%3A%200px%3B%20fill%3A%20rgb(78%2C%20121%2C%20167)%3B%20fill-opacity%3A%201%3B%22%2F%3E%3C%2Fg%3E%3Cg%20class%3D%22point%22%3E%3Cpath%20d%3D%22M0%2C50.76V28.2H831.09V50.76Z%22%20style%3D%22vector-effect%3A%20non-scaling-stroke%3B%20opacity%3A%201%3B%20stroke-width%3A%200px%3B%20fill%3A%20rgb(78%2C%20121%2C%20167)%3B%20fill-opacity%3A%201%3B%22%2F%3E%3C%2Fg%3E%3C%2Fg%3E%3C%2Fg%3E%3Cg%20class%3D%22trace%20bars%22%20style%3D%22opacity%3A%201%3B%22%3E%3Cg%20class%3D%22points%22%3E%3Cg%20class%3D%22point%22%3E%3Cpath%20d%3D%22M0%2C253.8V231.24H361.15V253.8Z%22%20style%3D%22vector-effect%3A%20non-scaling-stroke%3B%20opacity%3A%201%3B%20stroke-width%3A%200px%3B%20fill%3A%20rgb(242%2C%20142%2C%2044)%3B%20fill-opacity%3A%201%3B%22%2F%3E%3C%2Fg%3E%3Cg%20class%3D%22point%22%3E%3Cpath%20d%3D%22M0%2C197.4V174.84H677.28V197.4Z%22%20style%3D%22vector-effect%3A%20non-scaling-stroke%3B%20opacity%3A%201%3B%20stroke-width%3A%200px%3B%20fill%3A%20rgb(242%2C%20142%2C%2044)%3B%20fill-opacity%3A%201%3B%22%2F%3E%3C%2Fg%3E%3Cg%20class%3D%22point%22%3E%3Cpath%20d%3D%22M0%2C141V118.44H365.02V141Z%22%20style%3D%22vector-effect%3A%20non-scaling-stroke%3B%20opacity%3A%201%3B%20stroke-width%3A%200px%3B%20fill%3A%20rgb(242%2C%20142%2C%2044)%3B%20fill-opacity%3A%201%3B%22%2F%3E%3C%2Fg%3E%3Cg%20class%3D%22point%22%3E%3Cpath%20d%3D%22M0%2C84.6V62.04H336.61V84.6Z%22%20style%3D%22vector-effect%3A%20non-scaling-stroke%3B%20opacity%3A%201%3B%20stroke-width%3A%200px%3B%20fill%3A%20rgb(242%2C%20142%2C%2044)%3B%20fill-opacity%3A%201%3B%22%2F%3E%3C%2Fg%3E%3Cg%20class%3D%22point%22%3E%3Cpath%20d%3D%22M0%2C28.2V5.64H527.72V28.2Z%22%20style%3D%22vector-effect%3A%20non-scaling-stroke%3B%20opacity%3A%201%3B%20stroke-width%3A%200px%3B%20fill%3A%20rgb(242%2C%20142%2C%2044)%3B%20fill-opacity%3A%201%3B%22%2F%3E%3C%2Fg%3E%3C%2Fg%3E%3C%2Fg%3E%3C%2Fg%3E%3C%2Fg%3E%3Cg%20class%3D%22overplot%22%2F%3E%3Cpath%20class%3D%22xlines-above%20crisp%22%20style%3D%22fill%3A%20none%3B%20stroke-width%3A%201px%3B%20stroke%3A%20rgb(89%2C%2089%2C%2089)%3B%20stroke-opacity%3A%200.25%3B%22%20d%3D%22M176%2C312.5H1253%22%2F%3E%3Cpath%20class%3D%22ylines-above%20crisp%22%20style%3D%22fill%3A%20none%3B%20stroke-width%3A%201px%3B%20stroke%3A%20rgb(89%2C%2089%2C%2089)%3B%20stroke-opacity%3A%200.25%3B%22%20d%3D%22M176.5%2C30V312%22%2F%3E%3Cg%20class%3D%22overlines-above%22%2F%3E%3Cg%20class%3D%22xaxislayer-above%22%3E%3Cg%20class%3D%22xtick%22%3E%3Ctext%20text-anchor%3D%22middle%22%20x%3D%220%22%20y%3D%22327.4%22%20data-unformatted%3D%220%22%20data-math%3D%22N%22%20transform%3D%22translate(177%2C0)%22%20style%3D%22font-family%3A%20%26quot%3BOpen%20Sans%26quot%3B%2C%20verdana%2C%20arial%2C%20sans-serif%3B%20font-size%3A%2012px%3B%20fill%3A%20rgb(89%2C%2089%2C%2089)%3B%20fill-opacity%3A%201%3B%20white-space%3A%20pre%3B%22%3E0%3C%2Ftext%3E%3C%2Fg%3E%3Cg%20class%3D%22xtick%22%3E%3Ctext%20text-anchor%3D%22middle%22%20x%3D%220%22%20y%3D%22327.4%22%20data-unformatted%3D%221000%22%20data-math%3D%22N%22%20transform%3D%22translate(370.23%2C0)%22%20style%3D%22font-family%3A%20%26quot%3BOpen%20Sans%26quot%3B%2C%20verdana%2C%20arial%2C%20sans-serif%3B%20font-size%3A%2012px%3B%20fill%3A%20rgb(89%2C%2089%2C%2089)%3B%20fill-opacity%3A%201%3B%20white-space%3A%20pre%3B%22%3E1000%3C%2Ftext%3E%3C%2Fg%3E%3Cg%20class%3D%22xtick%22%3E%3Ctext%20text-anchor%3D%22middle%22%20x%3D%220%22%20y%3D%22327.4%22%20data-unformatted%3D%222000%22%20data-math%3D%22N%22%20transform%3D%22translate(563.47%2C0)%22%20style%3D%22font-family%3A%20%26quot%3BOpen%20Sans%26quot%3B%2C%20verdana%2C%20arial%2C%20sans-serif%3B%20font-size%3A%2012px%3B%20fill%3A%20rgb(89%2C%2089%2C%2089)%3B%20fill-opacity%3A%201%3B%20white-space%3A%20pre%3B%22%3E2000%3C%2Ftext%3E%3C%2Fg%3E%3Cg%20class%3D%22xtick%22%3E%3Ctext%20text-anchor%3D%22middle%22%20x%3D%220%22%20y%3D%22327.4%22%20data-unformatted%3D%223000%22%20data-math%3D%22N%22%20transform%3D%22translate(756.7%2C0)%22%20style%3D%22font-family%3A%20%26quot%3BOpen%20Sans%26quot%3B%2C%20verdana%2C%20arial%2C%20sans-serif%3B%20font-size%3A%2012px%3B%20fill%3A%20rgb(89%2C%2089%2C%2089)%3B%20fill-opacity%3A%201%3B%20white-space%3A%20pre%3B%22%3E3000%3C%2Ftext%3E%3C%2Fg%3E%3Cg%20class%3D%22xtick%22%3E%3Ctext%20text-anchor%3D%22middle%22%20x%3D%220%22%20y%3D%22327.4%22%20data-unformatted%3D%224000%22%20data-math%3D%22N%22%20transform%3D%22translate(949.93%2C0)%22%20style%3D%22font-family%3A%20%26quot%3BOpen%20Sans%26quot%3B%2C%20verdana%2C%20arial%2C%20sans-serif%3B%20font-size%3A%2012px%3B%20fill%3A%20rgb(89%2C%2089%2C%2089)%3B%20fill-opacity%3A%201%3B%20white-space%3A%20pre%3B%22%3E4000%3C%2Ftext%3E%3C%2Fg%3E%3Cg%20class%3D%22xtick%22%3E%3Ctext%20text-anchor%3D%22middle%22%20x%3D%220%22%20y%3D%22327.4%22%20data-unformatted%3D%225000%22%20data-math%3D%22N%22%20transform%3D%22translate(1143.1599999999999%2C0)%22%20style%3D%22font-family%3A%20%26quot%3BOpen%20Sans%26quot%3B%2C%20verdana%2C%20arial%2C%20sans-serif%3B%20font-size%3A%2012px%3B%20fill%3A%20rgb(89%2C%2089%2C%2089)%3B%20fill-opacity%3A%201%3B%20white-space%3A%20pre%3B%22%3E5000%3C%2Ftext%3E%3C%2Fg%3E%3C%2Fg%3E%3Cg%20class%3D%22yaxislayer-above%22%3E%3Cg%20class%3D%22ytick%22%3E%3Ctext%20text-anchor%3D%22end%22%20x%3D%22173.6%22%20y%3D%224.199999999999999%22%20data-unformatted%3D%22Base%22%20data-math%3D%22N%22%20transform%3D%22translate(0%2C283.8)%22%20style%3D%22font-family%3A%20%26quot%3BOpen%20Sans%26quot%3B%2C%20verdana%2C%20arial%2C%20sans-serif%3B%20font-size%3A%2012px%3B%20fill%3A%20rgb(89%2C%2089%2C%2089)%3B%20fill-opacity%3A%201%3B%20white-space%3A%20pre%3B%22%3EBase%3C%2Ftext%3E%3C%2Fg%3E%3Cg%20class%3D%22ytick%22%3E%3Ctext%20text-anchor%3D%22end%22%20x%3D%22173.6%22%20y%3D%224.199999999999999%22%20data-unformatted%3D%22Dummy%20Uniform%20Classifier%22%20data-math%3D%22N%22%20transform%3D%22translate(0%2C227.4)%22%20style%3D%22font-family%3A%20%26quot%3BOpen%20Sans%26quot%3B%2C%20verdana%2C%20arial%2C%20sans-serif%3B%20font-size%3A%2012px%3B%20fill%3A%20rgb(89%2C%2089%2C%2089)%3B%20fill-opacity%3A%201%3B%20white-space%3A%20pre%3B%22%3EDummy%20Uniform%20Classifier%3C%2Ftext%3E%3C%2Fg%3E%3Cg%20class%3D%22ytick%22%3E%3Ctext%20text-anchor%3D%22end%22%20x%3D%22173.6%22%20y%3D%224.199999999999999%22%20data-unformatted%3D%22Logistic%20Regression%20Classifier%22%20data-math%3D%22N%22%20transform%3D%22translate(0%2C171)%22%20style%3D%22font-family%3A%20%26quot%3BOpen%20Sans%26quot%3B%2C%20verdana%2C%20arial%2C%20sans-serif%3B%20font-size%3A%2012px%3B%20fill%3A%20rgb(89%2C%2089%2C%2089)%3B%20fill-opacity%3A%201%3B%20white-space%3A%20pre%3B%22%3ELogistic%20Regression%20Classifier%3C%2Ftext%3E%3C%2Fg%3E%3Cg%20class%3D%22ytick%22%3E%3Ctext%20text-anchor%3D%22end%22%20x%3D%22173.6%22%20y%3D%224.199999999999999%22%20data-unformatted%3D%22Naive%20Bayes%20Classifier%22%20data-math%3D%22N%22%20transform%3D%22translate(0%2C114.6)%22%20style%3D%22font-family%3A%20%26quot%3BOpen%20Sans%26quot%3B%2C%20verdana%2C%20arial%2C%20sans-serif%3B%20font-size%3A%2012px%3B%20fill%3A%20rgb(89%2C%2089%2C%2089)%3B%20fill-opacity%3A%201%3B%20white-space%3A%20pre%3B%22%3ENaive%20Bayes%20Classifier%3C%2Ftext%3E%3C%2Fg%3E%3Cg%20class%3D%22ytick%22%3E%3Ctext%20text-anchor%3D%22end%22%20x%3D%22173.6%22%20y%3D%224.199999999999999%22%20data-unformatted%3D%22SVM%20Classifier%22%20data-math%3D%22N%22%20transform%3D%22translate(0%2C58.2)%22%20style%3D%22font-family%3A%20%26quot%3BOpen%20Sans%26quot%3B%2C%20verdana%2C%20arial%2C%20sans-serif%3B%20font-size%3A%2012px%3B%20fill%3A%20rgb(89%2C%2089%2C%2089)%3B%20fill-opacity%3A%201%3B%20white-space%3A%20pre%3B%22%3ESVM%20Classifier%3C%2Ftext%3E%3C%2Fg%3E%3C%2Fg%3E%3Cg%20class%3D%22overaxes-above%22%2F%3E%3C%2Fg%3E%3C%2Fg%3E%3Cg%20class%3D%22polarlayer%22%2F%3E%3Cg%20class%3D%22ternarylayer%22%2F%3E%3Cg%20class%3D%22geolayer%22%2F%3E%3Cg%20class%3D%22funnelarealayer%22%2F%3E%3Cg%20class%3D%22pielayer%22%2F%3E%3Cg%20class%3D%22treemaplayer%22%2F%3E%3Cg%20class%3D%22sunburstlayer%22%2F%3E%3Cg%20class%3D%22glimages%22%2F%3E%3Cdefs%20id%3D%22topdefs-758265%22%3E%3Cg%20class%3D%22clips%22%2F%3E%3CclipPath%20id%3D%22legend758265%22%3E%3Crect%20width%3D%2267%22%20height%3D%2258%22%20x%3D%220%22%20y%3D%220%22%2F%3E%3C%2FclipPath%3E%3C%2Fdefs%3E%3Cg%20class%3D%22indicatorlayer%22%2F%3E%3Cg%20class%3D%22layer-above%22%3E%3Cg%20class%3D%22imagelayer%22%2F%3E%3Cg%20class%3D%22shapelayer%22%2F%3E%3C%2Fg%3E%3Cg%20class%3D%22infolayer%22%3E%3Cg%20class%3D%22legend%22%20pointer-events%3D%22all%22%20transform%3D%22translate(1274.52%2C30)%22%3E%3Crect%20class%3D%22bg%22%20shape-rendering%3D%22crispEdges%22%20style%3D%22stroke%3A%20rgb(68%2C%2068%2C%2068)%3B%20stroke-opacity%3A%201%3B%20fill%3A%20rgb(255%2C%20255%2C%20255)%3B%20fill-opacity%3A%201%3B%20stroke-width%3A%200px%3B%22%20width%3D%2267%22%20height%3D%2258%22%20x%3D%220%22%20y%3D%220%22%2F%3E%3Cg%20class%3D%22scrollbox%22%20transform%3D%22%22%20clip-path%3D%22url('%23legend758265')%22%3E%3Cg%20class%3D%22groups%22%20transform%3D%22%22%3E%3Cg%20class%3D%22traces%22%20style%3D%22opacity%3A%201%3B%22%20transform%3D%22translate(0%2C14.5)%22%3E%3Ctext%20class%3D%22legendtext%22%20text-anchor%3D%22start%22%20x%3D%2240%22%20y%3D%224.680000000000001%22%20data-unformatted%3D%22No%22%20data-math%3D%22N%22%20style%3D%22font-family%3A%20%26quot%3BOpen%20Sans%26quot%3B%2C%20verdana%2C%20arial%2C%20sans-serif%3B%20font-size%3A%2012px%3B%20fill%3A%20rgb(89%2C%2089%2C%2089)%3B%20fill-opacity%3A%201%3B%20white-space%3A%20pre%3B%22%3ENo%3C%2Ftext%3E%3Cg%20class%3D%22layers%22%20style%3D%22opacity%3A%201%3B%22%3E%3Cg%20class%3D%22legendfill%22%2F%3E%3Cg%20class%3D%22legendlines%22%2F%3E%3Cg%20class%3D%22legendsymbols%22%3E%3Cg%20class%3D%22legendpoints%22%3E%3Cpath%20class%3D%22legendundefined%22%20d%3D%22M6%2C6H-6V-6H6Z%22%20transform%3D%22translate(20%2C0)%22%20style%3D%22stroke-width%3A%200px%3B%20fill%3A%20rgb(78%2C%20121%2C%20167)%3B%20fill-opacity%3A%201%3B%22%2F%3E%3C%2Fg%3E%3C%2Fg%3E%3C%2Fg%3E%3Crect%20class%3D%22legendtoggle%22%20pointer-events%3D%22all%22%20x%3D%220%22%20y%3D%22-9.5%22%20width%3D%2261.76953125%22%20height%3D%2219%22%20style%3D%22cursor%3A%20pointer%3B%20fill%3A%20rgb(0%2C%200%2C%200)%3B%20fill-opacity%3A%200%3B%22%2F%3E%3C%2Fg%3E%3C%2Fg%3E%3Cg%20class%3D%22groups%22%20transform%3D%22translate(0%2C10)%22%3E%3Cg%20class%3D%22traces%22%20style%3D%22opacity%3A%201%3B%22%20transform%3D%22translate(0%2C33.5)%22%3E%3Ctext%20class%3D%22legendtext%22%20text-anchor%3D%22start%22%20x%3D%2240%22%20y%3D%224.680000000000001%22%20data-unformatted%3D%22Yes%22%20data-math%3D%22N%22%20style%3D%22font-family%3A%20%26quot%3BOpen%20Sans%26quot%3B%2C%20verdana%2C%20arial%2C%20sans-serif%3B%20font-size%3A%2012px%3B%20fill%3A%20rgb(89%2C%2089%2C%2089)%3B%20fill-opacity%3A%201%3B%20white-space%3A%20pre%3B%22%3EYes%3C%2Ftext%3E%3Cg%20class%3D%22layers%22%20style%3D%22opacity%3A%201%3B%22%3E%3Cg%20class%3D%22legendfill%22%2F%3E%3Cg%20class%3D%22legendlines%22%2F%3E%3Cg%20class%3D%22legendsymbols%22%3E%3Cg%20class%3D%22legendpoints%22%3E%3Cpath%20class%3D%22legendundefined%22%20d%3D%22M6%2C6H-6V-6H6Z%22%20transform%3D%22translate(20%2C0)%22%20style%3D%22stroke-width%3A%200px%3B%20fill%3A%20rgb(242%2C%20142%2C%2044)%3B%20fill-opacity%3A%201%3B%22%2F%3E%3C%2Fg%3E%3C%2Fg%3E%3C%2Fg%3E%3Crect%20class%3D%22legendtoggle%22%20pointer-events%3D%22all%22%20x%3D%220%22%20y%3D%22-9.5%22%20width%3D%2261.76953125%22%20height%3D%2219%22%20style%3D%22cursor%3A%20pointer%3B%20fill%3A%20rgb(0%2C%200%2C%200)%3B%20fill-opacity%3A%200%3B%22%2F%3E%3C%2Fg%3E%3C%2Fg%3E%3C%2Fg%3E%3Crect%20class%3D%22scrollbar%22%20rx%3D%2220%22%20ry%3D%223%22%20width%3D%220%22%20height%3D%220%22%20style%3D%22fill%3A%20rgb(128%2C%20139%2C%20164)%3B%20fill-opacity%3A%201%3B%22%20x%3D%220%22%20y%3D%220%22%2F%3E%3C%2Fg%3E%3Cg%20class%3D%22g-gtitle%22%2F%3E%3Cg%20class%3D%22g-xtitle%22%2F%3E%3Cg%20class%3D%22g-ytitle%22%2F%3E%3C%2Fg%3E%3Cg%20class%3D%22menulayer%22%2F%3E%3Cg%20class%3D%22zoomlayer%22%2F%3E%3Cg%20class%3D%22hoverlayer%22%2F%3E%3C%2Fsvg%3E\">"
      ],
      "text/plain": [
       "Open the notebook in JupyterLab with the Atoti extension enabled to build this widget."
      ]
     },
     "metadata": {},
     "output_type": "display_data"
    }
   ],
   "source": [
    "session.visualize(\"Last month customer attrition by models\")"
   ]
  },
  {
   "cell_type": "markdown",
   "metadata": {},
   "source": [
    "#### Model F1-score\n",
    "\n",
    "This is just giving us the count for churned and retained customers. A more relevant view to asses our models it to look at F1-score, or Precision and Recall."
   ]
  },
  {
   "cell_type": "code",
   "execution_count": 25,
   "metadata": {},
   "outputs": [],
   "source": [
    "m[\"true positive\"] = tt.agg.sum(\n",
    "    tt.filter(\n",
    "        tt.where(l[\"Churn\"] == l[\"ChurnPredicted\"], 1, 0), l[\"ChurnPredicted\"] == \"Yes\"\n",
    "    ),\n",
    "    scope=tt.OriginScope(l[\"CustomerID\"], l[\"Churn\"], l[\"ChurnPredicted\"]),\n",
    ")\n",
    "m[\"true negative\"] = tt.agg.sum(\n",
    "    tt.filter(\n",
    "        tt.where(l[\"Churn\"] == l[\"ChurnPredicted\"], 1, 0), l[\"ChurnPredicted\"] == \"No\"\n",
    "    ),\n",
    "    scope=tt.OriginScope(l[\"CustomerID\"], l[\"Churn\"], l[\"ChurnPredicted\"]),\n",
    ")\n",
    "\n",
    "m[\"false positive\"] = tt.agg.sum(\n",
    "    tt.filter(\n",
    "        tt.where(l[\"Churn\"] != l[\"ChurnPredicted\"], 1, 0), l[\"ChurnPredicted\"] == \"Yes\"\n",
    "    ),\n",
    "    scope=tt.OriginScope(l[\"CustomerID\"], l[\"Churn\"], l[\"ChurnPredicted\"]),\n",
    ")\n",
    "m[\"false negative\"] = tt.agg.sum(\n",
    "    tt.filter(\n",
    "        tt.where(l[\"Churn\"] != l[\"ChurnPredicted\"], 1, 0), l[\"ChurnPredicted\"] == \"No\"\n",
    "    ),\n",
    "    scope=tt.OriginScope(l[\"CustomerID\"], l[\"Churn\"], l[\"ChurnPredicted\"]),\n",
    ")\n",
    "\n",
    "m[\"precision\"] = m[\"true positive\"] / (m[\"true positive\"] + m[\"false positive\"])\n",
    "m[\"recall\"] = m[\"true positive\"] / (m[\"true positive\"] + m[\"false negative\"])\n",
    "m[\"f1 score\"] = 2 * (m[\"recall\"] * m[\"precision\"]) / (m[\"recall\"] + m[\"precision\"])"
   ]
  },
  {
   "cell_type": "markdown",
   "metadata": {},
   "source": [
    "Let's look at the F1-score of the algorithm as we compute the number of correctly predicted churn cases in the pivot table below.  \n",
    "\n",
    "Looking at just the customers who churned, we see that _SVM Classifier_ has the highest percentage of correct prediction (Recall of 0.78), with 1,451 churns detected out of the 1,869. But, at the same time, SVM Classifier is the one with the most false positive (Precision of 0.53). Which means that 47% of the time it is predicting churn wrongly!\n",
    "\n",
    "As a consequence, we will focus on the F1-score to compare our classifiers in the following paragraphs, as it takes into account Precision and Recall at the same time."
   ]
  },
  {
   "cell_type": "code",
   "execution_count": 26,
   "metadata": {
    "atoti": {
     "height": 244,
     "widget": {
      "columnWidths": {
       "[Epoch].[Epoch].[Branch]": 183.234375
      },
      "mapping": {
       "columns": [
        "ALL_MEASURES"
       ],
       "measures": [
        "[Measures].[recall (1)]",
        "[Measures].[true negative]",
        "[Measures].[true positive]",
        "[Measures].[precision (1)]",
        "[Measures].[false negative]",
        "[Measures].[false positive]"
       ],
       "rows": [
        "[Epoch].[Epoch].[Branch]"
       ]
      },
      "query": {
       "mdx": "WITH  Member [Measures].[recall (1)] AS [Measures].[recall], BACK_COLOR = rgb(140, 228, 245), CAPTION = [Measures].[recall].MEMBER_CAPTION, FORMAT_STRING = \"#.##%\"    Member [Measures].[precision (1)] AS [Measures].[precision], BACK_COLOR = rgb(140, 228, 245), CAPTION = [Measures].[precision].MEMBER_CAPTION, FORMAT_STRING = \"#.##%\"  SELECT NON EMPTY [Epoch].[Epoch].[Branch].Members ON ROWS, NON EMPTY {[Measures].[recall (1)], [Measures].[true negative], [Measures].[true positive], [Measures].[precision (1)], [Measures].[false negative], [Measures].[false positive]} ON COLUMNS FROM [customer_cube] CELL PROPERTIES BACK_COLOR, FONT_FLAGS, FORE_COLOR, FORMATTED_VALUE, VALUE",
       "updateMode": "once"
      },
      "serverKey": "default",
      "widgetKey": "pivot-table"
     }
    }
   },
   "outputs": [
    {
     "data": {
      "application/vnd.atoti.widget.v0+json": {
       "name": "Precision and Recall comparison across models",
       "sessionId": "1685413173_PPEYJT",
       "sessionLocation": {
        "https": false,
        "port": 58900
       },
       "widgetCreationCode": "session.visualize()"
      },
      "text/html": [
       "<img src=\"data:image/svg+xml;charset=utf8,%3C%3Fxml%20version%3D%221.0%22%20standalone%3D%22no%22%3F%3E%3Csvg%20xmlns%3D%22http%3A%2F%2Fwww.w3.org%2F2000%2Fsvg%22%20height%3D%22236%22%20width%3D%221342%22%3E%3CforeignObject%20width%3D%22100%25%22%20height%3D%22100%25%22%20x%3D%220%22%20y%3D%220%22%3E%3Cstyle%20xmlns%3D%22http%3A%2F%2Fwww.w3.org%2F1999%2Fxhtml%22%20type%3D%22text%2Fcss%22%3E*%2C%20%3A%3Abefore%2C%20%3A%3Aafter%20%7Bbox-sizing%3A%20unset%7D%0A.ant-root%20%5Bclass%5E%3D%22ant-%22%5D%2C%20.ant-root%20%5Bclass*%3D%22ant-%22%5D%2C%20.ant-root%20%5Bclass%5E%3D%22ant-%22%5D%20*%2C%20.ant-root%20%5Bclass*%3D%22ant-%22%5D%20*%2C%20.ant-root%20%5Bclass%5E%3D%22ant-%22%5D%20%3A%3Abefore%2C%20.ant-root%20%5Bclass*%3D%22ant-%22%5D%20%3A%3Abefore%2C%20.ant-root%20%5Bclass%5E%3D%22ant-%22%5D%20%3A%3Aafter%2C%20.ant-root%20%5Bclass*%3D%22ant-%22%5D%20%3A%3Aafter%20%7Bbox-sizing%3A%20border-box%7D%0A.ant-root%2C%20.ant-root%20%7Bwidth%3A%20100%25%3B%20height%3A%20100%25%7D%0A.ant-root%20*%2C%20.ant-root%20%3A%3Abefore%2C%20.ant-root%20%3A%3Aafter%20%7Bbox-sizing%3A%20border-box%7D%0A.ant-root%20%7Btext-size-adjust%3A%20100%25%3B%20-webkit-tap-highlight-color%3A%20rgba(0%2C%200%2C%200%2C%200)%3B%20font-family%3A%20-apple-system%2C%20BlinkMacSystemFont%2C%20%22Segoe%20UI%22%2C%20Roboto%2C%20%22Helvetica%20Neue%22%2C%20Arial%2C%20%22Noto%20Sans%22%2C%20sans-serif%2C%20%22Apple%20Color%20Emoji%22%2C%20%22Segoe%20UI%20Emoji%22%2C%20%22Segoe%20UI%20Symbol%22%2C%20%22Noto%20Color%20Emoji%22%3B%20line-height%3A%201.66667%3B%20color%3A%20rgb(89%2C%2089%2C%2089)%3B%20font-variant-ligatures%3A%20normal%3B%20font-variant-numeric%3A%20tabular-nums%3B%20font-variant-east-asian%3A%20normal%3B%20font-variant-caps%3A%20normal%3B%20font-variant-alternates%3A%20normal%3B%20background-color%3A%20rgb(255%2C%20255%2C%20255)%3B%20margin-top%3A%200px%3B%20margin-right%3A%200px%3B%20margin-bottom%3A%200px%3B%20margin-left%3A%200px%3B%20font-size%3A%2012px%3B%20--antd-wave-shadow-color%3A%20%231890ff%3B%20--scroll-bar%3A%200%7D%0A.ant-root%20.aui-invisible-scrollbars%20%7B%7D%0A.css-12ebr42-AWidget%20%7Bheight%3A%20100%25%7D%0A.css-1b1raxz-DefaultWidgetLoadingOverlay%20%7Bdisplay%3A%20flex%3B%20height%3A%20100%25%3B%20-webkit-box-pack%3A%20center%3B%20justify-content%3A%20center%3B%20position%3A%20absolute%3B%20width%3A%20100%25%3B%20-webkit-box-align%3A%20center%3B%20align-items%3A%20center%3B%20pointer-events%3A%20none%3B%20z-index%3A%202%7D%0A.css-34a2ml-DefaultWidgetLoadingOverlay%20%7Bbackground-image%3A%20initial%3B%20background-position-x%3A%20initial%3B%20background-position-y%3A%20initial%3B%20background-size%3A%20initial%3B%20background-repeat-x%3A%20initial%3B%20background-repeat-y%3A%20initial%3B%20background-attachment%3A%20initial%3B%20background-origin%3A%20initial%3B%20background-clip%3A%20initial%3B%20background-color%3A%20transparent%3B%20width%3A%20calc(100%25%20-%204px)%3B%20height%3A%20calc(100%25%20-%204px)%7D%0A.css-2p9ued-WidgetLoadingOverlay%20%7Bheight%3A%20100%25%3B%20position%3A%20relative%7D%0A.css-1hwl8p1-Table%20%7Bpadding-bottom%3A%202px%3B%20padding-right%3A%202px%3B%20height%3A%20100%25%7D%0A.css-14ejcn0-Table%20%7Bheight%3A%20calc(100%25%20-%2030px)%3B%20outline-color%3A%20initial%3B%20outline-style%3A%20none%3B%20outline-width%3A%20initial%3B%20position%3A%20relative%7D%0A.css-1rxpjm0-ColumnResizeHint%20%7Bdisplay%3A%20none%3B%20position%3A%20absolute%3B%20z-index%3A%201%7D%0A.css-walxhl-ColumnResizeHint%20%7Bheight%3A%2028px%3B%20background-color%3A%20rgb(24%2C%20144%2C%20255)%3B%20width%3A%205px%7D%0A.css-1uww2vi-Table%20%7Bheight%3A%2030px%3B%20text-align%3A%20right%3B%20padding-right%3A%2025px%7D%0A.css-17zcl51-ColumnResizeHint%20%7Bdisplay%3A%20none%3B%20float%3A%20right%3B%20height%3A%20176px%3B%20background-color%3A%20rgb(24%2C%20144%2C%20255)%3B%20opacity%3A%200.4%3B%20width%3A%202px%7D%0A.css-1f51lj1-Table%20%7Bdisplay%3A%20flex%3B%20height%3A%20204px%7D%0A.css-fwbcoy-Table%20%7Bborder-collapse%3A%20collapse%3B%20height%3A%2028px%3B%20width%3A%20183.234px%7D%0A.css-1hzr4wp%20%7Bheight%3A%2028px%3B%20width%3A%20183.234px%7D%0A.css-p8xigr%20%7Bcursor%3A%20cell%3B%20height%3A%2028px%3B%20overflow-x%3A%20hidden%3B%20overflow-y%3A%20hidden%3B%20position%3A%20relative%3B%20width%3A%20183.234px%3B%20border-right-width%3A%202px%3B%20border-right-style%3A%20solid%3B%20border-right-color%3A%20rgb(233%2C%20233%2C%20233)%7D%0A.css-j64yvd-ResizableCell%20%7Bdisplay%3A%20flex%3B%20flex-direction%3A%20column%3B%20position%3A%20absolute%3B%20top%3A%200px%3B%20left%3A%200px%3B%20height%3A%2028px%3B%20width%3A%20183.234px%7D%0A.css-xxcrt1-ResizableCell%20%7Bbackground-image%3A%20initial%3B%20background-position-x%3A%20initial%3B%20background-position-y%3A%20initial%3B%20background-size%3A%20initial%3B%20background-repeat-x%3A%20initial%3B%20background-repeat-y%3A%20initial%3B%20background-attachment%3A%20initial%3B%20background-origin%3A%20initial%3B%20background-clip%3A%20initial%3B%20background-color%3A%20transparent%3B%20cursor%3A%20col-resize%3B%20height%3A%20100%25%3B%20position%3A%20absolute%3B%20right%3A%200px%3B%20width%3A%205px%3B%20z-index%3A%201%7D%0A.css-1klugl%20%7Bheight%3A%20176px%3B%20width%3A%20183.234px%3B%20overflow-x%3A%20hidden%3B%20overflow-y%3A%20auto%7D%0A.css-tkdnaq%20%7Bcursor%3A%20cell%3B%20height%3A%20140px%3B%20overflow-x%3A%20hidden%3B%20overflow-y%3A%20hidden%3B%20position%3A%20relative%3B%20width%3A%20183.234px%3B%20border-top-width%3A%202px%3B%20border-top-style%3A%20solid%3B%20border-top-color%3A%20rgb(233%2C%20233%2C%20233)%3B%20border-right-width%3A%202px%3B%20border-right-style%3A%20solid%3B%20border-right-color%3A%20rgb(233%2C%20233%2C%20233)%7D%0A.css-qogcij-Table%20%7Bwidth%3A%201156.77px%3B%20border-collapse%3A%20collapse%7D%0A.css-1huu199%20%7Bheight%3A%2028px%3B%20width%3A%201138.77px%3B%20overflow-x%3A%20auto%3B%20overflow-y%3A%20hidden%7D%0A.css-1yi90br%20%7Bcursor%3A%20cell%3B%20height%3A%2028px%3B%20overflow-x%3A%20hidden%3B%20overflow-y%3A%20hidden%3B%20position%3A%20relative%3B%20width%3A%20720px%7D%0A.css-1hol363-ResizableCell%20%7Bdisplay%3A%20flex%3B%20flex-direction%3A%20column%3B%20position%3A%20absolute%3B%20top%3A%200px%3B%20left%3A%200px%3B%20height%3A%2028px%3B%20width%3A%20120px%7D%0A.css-fpuq48-ResizableCell%20%7Bdisplay%3A%20flex%3B%20flex-direction%3A%20column%3B%20position%3A%20absolute%3B%20top%3A%200px%3B%20left%3A%20120px%3B%20height%3A%2028px%3B%20width%3A%20120px%7D%0A.css-3geaec-ResizableCell%20%7Bdisplay%3A%20flex%3B%20flex-direction%3A%20column%3B%20position%3A%20absolute%3B%20top%3A%200px%3B%20left%3A%20240px%3B%20height%3A%2028px%3B%20width%3A%20120px%7D%0A.css-9kbkmr-ResizableCell%20%7Bdisplay%3A%20flex%3B%20flex-direction%3A%20column%3B%20position%3A%20absolute%3B%20top%3A%200px%3B%20left%3A%20360px%3B%20height%3A%2028px%3B%20width%3A%20120px%7D%0A.css-76qu0m-ResizableCell%20%7Bdisplay%3A%20flex%3B%20flex-direction%3A%20column%3B%20position%3A%20absolute%3B%20top%3A%200px%3B%20left%3A%20480px%3B%20height%3A%2028px%3B%20width%3A%20120px%7D%0A.css-1h9kznl-ResizableCell%20%7Bdisplay%3A%20flex%3B%20flex-direction%3A%20column%3B%20position%3A%20absolute%3B%20top%3A%200px%3B%20left%3A%20600px%3B%20height%3A%2028px%3B%20width%3A%20120px%7D%0A.css-cr47no%20%7Bheight%3A%20176px%3B%20width%3A%201156.77px%3B%20overflow-x%3A%20auto%3B%20overflow-y%3A%20auto%7D%0A.css-i8q39l%20%7Bcursor%3A%20cell%3B%20height%3A%20140px%3B%20overflow-x%3A%20hidden%3B%20overflow-y%3A%20hidden%3B%20position%3A%20relative%3B%20width%3A%20720px%3B%20border-top-width%3A%202px%3B%20border-top-style%3A%20solid%3B%20border-top-color%3A%20rgb(233%2C%20233%2C%20233)%7D%0A*%20%7B-ms-overflow-style%3A%20none%3B%20scrollbar-width%3A%20none%7D%0A*%3A%3A-webkit-scrollbar%20%7Bdisplay%3A%20none%7D%0A.atoti-hidden-in-snapshot%20%7Bdisplay%3A%20none%7D%3C%2Fstyle%3E%3Cdiv%20xmlns%3D%22http%3A%2F%2Fwww.w3.org%2F1999%2Fxhtml%22%20style%3D%22height%3A%20236px%3B%20width%3A%201342px%3B%22%3E%3Cdiv%20class%3D%22ant-root%20css-0%22%3E%3Cdiv%20class%3D%22ant-dropdown-trigger%20css-12ebr42-AWidget%22%3E%3Cdiv%20class%3D%22css-2p9ued-WidgetLoadingOverlay%22%3E%3Cdiv%20class%3D%22css-1b1raxz-DefaultWidgetLoadingOverlay%22%3E%3Cdiv%20class%3D%22css-34a2ml-DefaultWidgetLoadingOverlay%22%3E%3C%2Fdiv%3E%3C%2Fdiv%3E%3Cdiv%20class%3D%22css-1hwl8p1-Table%22%3E%3Cdiv%20tabindex%3D%220%22%20class%3D%22css-14ejcn0-Table%22%3E%3Cdiv%20class%3D%22css-1rxpjm0-ColumnResizeHint%22%3E%3Cdiv%20class%3D%22css-walxhl-ColumnResizeHint%22%3E%3C%2Fdiv%3E%3Cdiv%20class%3D%22css-17zcl51-ColumnResizeHint%22%3E%3C%2Fdiv%3E%3C%2Fdiv%3E%3Cdiv%20class%3D%22css-1f51lj1-Table%22%3E%3Cdiv%20class%3D%22css-fwbcoy-Table%22%3E%3Cdiv%20class%3D%22%20css-1hzr4wp%22%3E%3Cdiv%20class%3D%22css-p8xigr%22%3E%3Cdiv%20class%3D%22css-j64yvd-ResizableCell%22%3E%3Cdiv%20class%3D%22aui-table-cell%22%20style%3D%22height%3A%2028px%3B%20left%3A%200px%3B%20top%3A%200px%3B%20width%3A%20178.234px%3B%20text-align%3A%20left%3B%20font-size%3A%2012px%3B%20padding%3A%204px%204px%203px%3B%20overflow%3A%20hidden%3B%20position%3A%20absolute%3B%20white-space%3A%20nowrap%3B%20text-overflow%3A%20ellipsis%3B%20font-weight%3A%20600%3B%20display%3A%20flex%3B%20align-items%3A%20center%3B%22%3E%3Cspan%3EScenario%3C%2Fspan%3E%3C%2Fdiv%3E%3Cdiv%20class%3D%22css-xxcrt1-ResizableCell%22%3E%3C%2Fdiv%3E%3C%2Fdiv%3E%3C%2Fdiv%3E%3C%2Fdiv%3E%3Cdiv%20class%3D%22aui-invisible-scrollbars%20css-1klugl%22%3E%3Cdiv%20class%3D%22css-tkdnaq%22%3E%3Cdiv%20style%3D%22display%3A%20flex%3B%20align-items%3A%20center%3B%20height%3A%2028px%3B%20left%3A%200px%3B%20top%3A%200px%3B%20width%3A%20183.234px%3B%20text-align%3A%20left%3B%20font-size%3A%2012px%3B%20padding%3A%204px%204px%203px%3B%20overflow%3A%20hidden%3B%20position%3A%20absolute%3B%20white-space%3A%20nowrap%3B%20text-overflow%3A%20ellipsis%3B%20border-right%3A%202px%20solid%20rgb(233%2C%20233%2C%20233)%3B%20background-color%3A%20transparent%3B%22%3E%3Cspan%20style%3D%22text-overflow%3A%20ellipsis%3B%20overflow%3A%20hidden%3B%20white-space%3A%20nowrap%3B%20max-width%3A%20calc((100%25%20-%200px)%20-%200px)%3B%22%3EBase%3C%2Fspan%3E%3C%2Fdiv%3E%3Cdiv%20style%3D%22display%3A%20flex%3B%20align-items%3A%20center%3B%20height%3A%2028px%3B%20left%3A%200px%3B%20top%3A%2028px%3B%20width%3A%20183.234px%3B%20text-align%3A%20left%3B%20font-size%3A%2012px%3B%20padding%3A%204px%204px%203px%3B%20overflow%3A%20hidden%3B%20position%3A%20absolute%3B%20white-space%3A%20nowrap%3B%20text-overflow%3A%20ellipsis%3B%20border-right%3A%202px%20solid%20rgb(233%2C%20233%2C%20233)%3B%20background-color%3A%20rgb(250%2C%20250%2C%20250)%3B%22%3E%3Cspan%20style%3D%22text-overflow%3A%20ellipsis%3B%20overflow%3A%20hidden%3B%20white-space%3A%20nowrap%3B%20max-width%3A%20calc((100%25%20-%200px)%20-%200px)%3B%22%3EDummy%20Uniform%20Classifier%3C%2Fspan%3E%3C%2Fdiv%3E%3Cdiv%20style%3D%22display%3A%20flex%3B%20align-items%3A%20center%3B%20height%3A%2028px%3B%20left%3A%200px%3B%20top%3A%2056px%3B%20width%3A%20183.234px%3B%20text-align%3A%20left%3B%20font-size%3A%2012px%3B%20padding%3A%204px%204px%203px%3B%20overflow%3A%20hidden%3B%20position%3A%20absolute%3B%20white-space%3A%20nowrap%3B%20text-overflow%3A%20ellipsis%3B%20border-right%3A%202px%20solid%20rgb(233%2C%20233%2C%20233)%3B%20background-color%3A%20transparent%3B%22%3E%3Cspan%20style%3D%22text-overflow%3A%20ellipsis%3B%20overflow%3A%20hidden%3B%20white-space%3A%20nowrap%3B%20max-width%3A%20calc((100%25%20-%200px)%20-%200px)%3B%22%3ELogistic%20Regression%20Classifier%3C%2Fspan%3E%3C%2Fdiv%3E%3Cdiv%20style%3D%22display%3A%20flex%3B%20align-items%3A%20center%3B%20height%3A%2028px%3B%20left%3A%200px%3B%20top%3A%2084px%3B%20width%3A%20183.234px%3B%20text-align%3A%20left%3B%20font-size%3A%2012px%3B%20padding%3A%204px%204px%203px%3B%20overflow%3A%20hidden%3B%20position%3A%20absolute%3B%20white-space%3A%20nowrap%3B%20text-overflow%3A%20ellipsis%3B%20border-right%3A%202px%20solid%20rgb(233%2C%20233%2C%20233)%3B%20background-color%3A%20rgb(250%2C%20250%2C%20250)%3B%22%3E%3Cspan%20style%3D%22text-overflow%3A%20ellipsis%3B%20overflow%3A%20hidden%3B%20white-space%3A%20nowrap%3B%20max-width%3A%20calc((100%25%20-%200px)%20-%200px)%3B%22%3ENaive%20Bayes%20Classifier%3C%2Fspan%3E%3C%2Fdiv%3E%3Cdiv%20style%3D%22display%3A%20flex%3B%20align-items%3A%20center%3B%20height%3A%2028px%3B%20left%3A%200px%3B%20top%3A%20112px%3B%20width%3A%20183.234px%3B%20text-align%3A%20left%3B%20font-size%3A%2012px%3B%20padding%3A%204px%204px%203px%3B%20overflow%3A%20hidden%3B%20position%3A%20absolute%3B%20white-space%3A%20nowrap%3B%20text-overflow%3A%20ellipsis%3B%20border-right%3A%202px%20solid%20rgb(233%2C%20233%2C%20233)%3B%20background-color%3A%20transparent%3B%22%3E%3Cspan%20style%3D%22text-overflow%3A%20ellipsis%3B%20overflow%3A%20hidden%3B%20white-space%3A%20nowrap%3B%20max-width%3A%20calc((100%25%20-%200px)%20-%200px)%3B%22%3ESVM%20Classifier%3C%2Fspan%3E%3C%2Fdiv%3E%3C%2Fdiv%3E%3C%2Fdiv%3E%3C%2Fdiv%3E%3Cdiv%20class%3D%22css-qogcij-Table%22%3E%3Cdiv%20class%3D%22aui-invisible-scrollbars%20css-1huu199%22%3E%3Cdiv%20class%3D%22css-1yi90br%22%3E%3Cdiv%20class%3D%22css-1hol363-ResizableCell%22%3E%3Cdiv%20style%3D%22display%3A%20flex%3B%20align-items%3A%20center%3B%20height%3A%2028px%3B%20left%3A%200px%3B%20top%3A%200px%3B%20width%3A%20115px%3B%20text-align%3A%20left%3B%20font-size%3A%2012px%3B%20padding%3A%204px%204px%203px%3B%20overflow%3A%20hidden%3B%20position%3A%20absolute%3B%20white-space%3A%20nowrap%3B%20text-overflow%3A%20ellipsis%3B%20font-weight%3A%20600%3B%22%3E%3Cspan%20style%3D%22text-overflow%3A%20ellipsis%3B%20overflow%3A%20hidden%3B%20white-space%3A%20nowrap%3B%20max-width%3A%20calc((100%25%20-%200px)%20-%200px)%3B%22%3Erecall%3C%2Fspan%3E%3C%2Fdiv%3E%3Cdiv%20class%3D%22css-xxcrt1-ResizableCell%22%3E%3C%2Fdiv%3E%3C%2Fdiv%3E%3Cdiv%20class%3D%22css-fpuq48-ResizableCell%22%3E%3Cdiv%20style%3D%22display%3A%20flex%3B%20align-items%3A%20center%3B%20height%3A%2028px%3B%20left%3A%200px%3B%20top%3A%200px%3B%20width%3A%20115px%3B%20text-align%3A%20left%3B%20font-size%3A%2012px%3B%20padding%3A%204px%204px%203px%3B%20overflow%3A%20hidden%3B%20position%3A%20absolute%3B%20white-space%3A%20nowrap%3B%20text-overflow%3A%20ellipsis%3B%20font-weight%3A%20600%3B%22%3E%3Cspan%20style%3D%22text-overflow%3A%20ellipsis%3B%20overflow%3A%20hidden%3B%20white-space%3A%20nowrap%3B%20max-width%3A%20calc((100%25%20-%200px)%20-%200px)%3B%22%3Etrue%20negative%3C%2Fspan%3E%3C%2Fdiv%3E%3Cdiv%20class%3D%22css-xxcrt1-ResizableCell%22%3E%3C%2Fdiv%3E%3C%2Fdiv%3E%3Cdiv%20class%3D%22css-3geaec-ResizableCell%22%3E%3Cdiv%20style%3D%22display%3A%20flex%3B%20align-items%3A%20center%3B%20height%3A%2028px%3B%20left%3A%200px%3B%20top%3A%200px%3B%20width%3A%20115px%3B%20text-align%3A%20left%3B%20font-size%3A%2012px%3B%20padding%3A%204px%204px%203px%3B%20overflow%3A%20hidden%3B%20position%3A%20absolute%3B%20white-space%3A%20nowrap%3B%20text-overflow%3A%20ellipsis%3B%20font-weight%3A%20600%3B%22%3E%3Cspan%20style%3D%22text-overflow%3A%20ellipsis%3B%20overflow%3A%20hidden%3B%20white-space%3A%20nowrap%3B%20max-width%3A%20calc((100%25%20-%200px)%20-%200px)%3B%22%3Etrue%20positive%3C%2Fspan%3E%3C%2Fdiv%3E%3Cdiv%20class%3D%22css-xxcrt1-ResizableCell%22%3E%3C%2Fdiv%3E%3C%2Fdiv%3E%3Cdiv%20class%3D%22css-9kbkmr-ResizableCell%22%3E%3Cdiv%20style%3D%22display%3A%20flex%3B%20align-items%3A%20center%3B%20height%3A%2028px%3B%20left%3A%200px%3B%20top%3A%200px%3B%20width%3A%20115px%3B%20text-align%3A%20left%3B%20font-size%3A%2012px%3B%20padding%3A%204px%204px%203px%3B%20overflow%3A%20hidden%3B%20position%3A%20absolute%3B%20white-space%3A%20nowrap%3B%20text-overflow%3A%20ellipsis%3B%20font-weight%3A%20600%3B%22%3E%3Cspan%20style%3D%22text-overflow%3A%20ellipsis%3B%20overflow%3A%20hidden%3B%20white-space%3A%20nowrap%3B%20max-width%3A%20calc((100%25%20-%200px)%20-%200px)%3B%22%3Eprecision%3C%2Fspan%3E%3C%2Fdiv%3E%3Cdiv%20class%3D%22css-xxcrt1-ResizableCell%22%3E%3C%2Fdiv%3E%3C%2Fdiv%3E%3Cdiv%20class%3D%22css-76qu0m-ResizableCell%22%3E%3Cdiv%20style%3D%22display%3A%20flex%3B%20align-items%3A%20center%3B%20height%3A%2028px%3B%20left%3A%200px%3B%20top%3A%200px%3B%20width%3A%20115px%3B%20text-align%3A%20left%3B%20font-size%3A%2012px%3B%20padding%3A%204px%204px%203px%3B%20overflow%3A%20hidden%3B%20position%3A%20absolute%3B%20white-space%3A%20nowrap%3B%20text-overflow%3A%20ellipsis%3B%20font-weight%3A%20600%3B%22%3E%3Cspan%20style%3D%22text-overflow%3A%20ellipsis%3B%20overflow%3A%20hidden%3B%20white-space%3A%20nowrap%3B%20max-width%3A%20calc((100%25%20-%200px)%20-%200px)%3B%22%3Efalse%20negative%3C%2Fspan%3E%3C%2Fdiv%3E%3Cdiv%20class%3D%22css-xxcrt1-ResizableCell%22%3E%3C%2Fdiv%3E%3C%2Fdiv%3E%3Cdiv%20class%3D%22css-1h9kznl-ResizableCell%22%3E%3Cdiv%20style%3D%22display%3A%20flex%3B%20align-items%3A%20center%3B%20height%3A%2028px%3B%20left%3A%200px%3B%20top%3A%200px%3B%20width%3A%20115px%3B%20text-align%3A%20left%3B%20font-size%3A%2012px%3B%20padding%3A%204px%204px%203px%3B%20overflow%3A%20hidden%3B%20position%3A%20absolute%3B%20white-space%3A%20nowrap%3B%20text-overflow%3A%20ellipsis%3B%20font-weight%3A%20600%3B%22%3E%3Cspan%20style%3D%22text-overflow%3A%20ellipsis%3B%20overflow%3A%20hidden%3B%20white-space%3A%20nowrap%3B%20max-width%3A%20calc((100%25%20-%200px)%20-%200px)%3B%22%3Efalse%20positive%3C%2Fspan%3E%3C%2Fdiv%3E%3Cdiv%20class%3D%22css-xxcrt1-ResizableCell%22%3E%3C%2Fdiv%3E%3C%2Fdiv%3E%3C%2Fdiv%3E%3C%2Fdiv%3E%3Cdiv%20class%3D%22%20css-cr47no%22%3E%3Cdiv%20class%3D%22css-i8q39l%22%3E%3Cdiv%20class%3D%22aui-table-cell%22%20style%3D%22height%3A%2028px%3B%20left%3A%200px%3B%20top%3A%200px%3B%20width%3A%20120px%3B%20text-align%3A%20right%3B%20font-size%3A%2012px%3B%20padding%3A%204px%204px%203px%3B%20overflow%3A%20hidden%3B%20position%3A%20absolute%3B%20white-space%3A%20nowrap%3B%20text-overflow%3A%20ellipsis%3B%20border-right%3A%201px%20solid%20rgb(233%2C%20233%2C%20233)%3B%20background-color%3A%20rgb(140%2C%20228%2C%20245)%3B%22%3E100%25%3C%2Fdiv%3E%3Cdiv%20class%3D%22aui-table-cell%22%20style%3D%22height%3A%2028px%3B%20left%3A%20120px%3B%20top%3A%200px%3B%20width%3A%20120px%3B%20text-align%3A%20right%3B%20font-size%3A%2012px%3B%20padding%3A%204px%204px%203px%3B%20overflow%3A%20hidden%3B%20position%3A%20absolute%3B%20white-space%3A%20nowrap%3B%20text-overflow%3A%20ellipsis%3B%20border-right%3A%201px%20solid%20rgb(233%2C%20233%2C%20233)%3B%20background-color%3A%20transparent%3B%22%3E5%2C163%3C%2Fdiv%3E%3Cdiv%20class%3D%22aui-table-cell%22%20style%3D%22height%3A%2028px%3B%20left%3A%20240px%3B%20top%3A%200px%3B%20width%3A%20120px%3B%20text-align%3A%20right%3B%20font-size%3A%2012px%3B%20padding%3A%204px%204px%203px%3B%20overflow%3A%20hidden%3B%20position%3A%20absolute%3B%20white-space%3A%20nowrap%3B%20text-overflow%3A%20ellipsis%3B%20border-right%3A%201px%20solid%20rgb(233%2C%20233%2C%20233)%3B%20background-color%3A%20transparent%3B%22%3E1%2C869%3C%2Fdiv%3E%3Cdiv%20class%3D%22aui-table-cell%22%20style%3D%22height%3A%2028px%3B%20left%3A%20360px%3B%20top%3A%200px%3B%20width%3A%20120px%3B%20text-align%3A%20right%3B%20font-size%3A%2012px%3B%20padding%3A%204px%204px%203px%3B%20overflow%3A%20hidden%3B%20position%3A%20absolute%3B%20white-space%3A%20nowrap%3B%20text-overflow%3A%20ellipsis%3B%20border-right%3A%201px%20solid%20rgb(233%2C%20233%2C%20233)%3B%20background-color%3A%20rgb(140%2C%20228%2C%20245)%3B%22%3E100%25%3C%2Fdiv%3E%3Cdiv%20class%3D%22aui-table-cell%22%20style%3D%22height%3A%2028px%3B%20left%3A%20480px%3B%20top%3A%200px%3B%20width%3A%20120px%3B%20text-align%3A%20right%3B%20font-size%3A%2012px%3B%20padding%3A%204px%204px%203px%3B%20overflow%3A%20hidden%3B%20position%3A%20absolute%3B%20white-space%3A%20nowrap%3B%20text-overflow%3A%20ellipsis%3B%20border-right%3A%201px%20solid%20rgb(233%2C%20233%2C%20233)%3B%20background-color%3A%20transparent%3B%22%3E0%3C%2Fdiv%3E%3Cdiv%20class%3D%22aui-table-cell%22%20style%3D%22height%3A%2028px%3B%20left%3A%20600px%3B%20top%3A%200px%3B%20width%3A%20120px%3B%20text-align%3A%20right%3B%20font-size%3A%2012px%3B%20padding%3A%204px%204px%203px%3B%20overflow%3A%20hidden%3B%20position%3A%20absolute%3B%20white-space%3A%20nowrap%3B%20text-overflow%3A%20ellipsis%3B%20border-right%3A%201px%20solid%20rgb(233%2C%20233%2C%20233)%3B%20background-color%3A%20transparent%3B%22%3E0%3C%2Fdiv%3E%3Cdiv%20class%3D%22aui-table-cell%22%20style%3D%22height%3A%2028px%3B%20left%3A%200px%3B%20top%3A%2028px%3B%20width%3A%20120px%3B%20text-align%3A%20right%3B%20font-size%3A%2012px%3B%20padding%3A%204px%204px%203px%3B%20overflow%3A%20hidden%3B%20position%3A%20absolute%3B%20white-space%3A%20nowrap%3B%20text-overflow%3A%20ellipsis%3B%20border-right%3A%201px%20solid%20rgb(233%2C%20233%2C%20233)%3B%20background-color%3A%20rgb(123%2C%20224%2C%20244)%3B%22%3E48.64%25%3C%2Fdiv%3E%3Cdiv%20class%3D%22aui-table-cell%22%20style%3D%22height%3A%2028px%3B%20left%3A%20120px%3B%20top%3A%2028px%3B%20width%3A%20120px%3B%20text-align%3A%20right%3B%20font-size%3A%2012px%3B%20padding%3A%204px%204px%203px%3B%20overflow%3A%20hidden%3B%20position%3A%20absolute%3B%20white-space%3A%20nowrap%3B%20text-overflow%3A%20ellipsis%3B%20border-right%3A%201px%20solid%20rgb(233%2C%20233%2C%20233)%3B%20background-color%3A%20rgb(250%2C%20250%2C%20250)%3B%22%3E2%2C567%3C%2Fdiv%3E%3Cdiv%20class%3D%22aui-table-cell%22%20style%3D%22height%3A%2028px%3B%20left%3A%20240px%3B%20top%3A%2028px%3B%20width%3A%20120px%3B%20text-align%3A%20right%3B%20font-size%3A%2012px%3B%20padding%3A%204px%204px%203px%3B%20overflow%3A%20hidden%3B%20position%3A%20absolute%3B%20white-space%3A%20nowrap%3B%20text-overflow%3A%20ellipsis%3B%20border-right%3A%201px%20solid%20rgb(233%2C%20233%2C%20233)%3B%20background-color%3A%20rgb(250%2C%20250%2C%20250)%3B%22%3E909%3C%2Fdiv%3E%3Cdiv%20class%3D%22aui-table-cell%22%20style%3D%22height%3A%2028px%3B%20left%3A%20360px%3B%20top%3A%2028px%3B%20width%3A%20120px%3B%20text-align%3A%20right%3B%20font-size%3A%2012px%3B%20padding%3A%204px%204px%203px%3B%20overflow%3A%20hidden%3B%20position%3A%20absolute%3B%20white-space%3A%20nowrap%3B%20text-overflow%3A%20ellipsis%3B%20border-right%3A%201px%20solid%20rgb(233%2C%20233%2C%20233)%3B%20background-color%3A%20rgb(123%2C%20224%2C%20244)%3B%22%3E25.93%25%3C%2Fdiv%3E%3Cdiv%20class%3D%22aui-table-cell%22%20style%3D%22height%3A%2028px%3B%20left%3A%20480px%3B%20top%3A%2028px%3B%20width%3A%20120px%3B%20text-align%3A%20right%3B%20font-size%3A%2012px%3B%20padding%3A%204px%204px%203px%3B%20overflow%3A%20hidden%3B%20position%3A%20absolute%3B%20white-space%3A%20nowrap%3B%20text-overflow%3A%20ellipsis%3B%20border-right%3A%201px%20solid%20rgb(233%2C%20233%2C%20233)%3B%20background-color%3A%20rgb(250%2C%20250%2C%20250)%3B%22%3E960%3C%2Fdiv%3E%3Cdiv%20class%3D%22aui-table-cell%22%20style%3D%22height%3A%2028px%3B%20left%3A%20600px%3B%20top%3A%2028px%3B%20width%3A%20120px%3B%20text-align%3A%20right%3B%20font-size%3A%2012px%3B%20padding%3A%204px%204px%203px%3B%20overflow%3A%20hidden%3B%20position%3A%20absolute%3B%20white-space%3A%20nowrap%3B%20text-overflow%3A%20ellipsis%3B%20border-right%3A%201px%20solid%20rgb(233%2C%20233%2C%20233)%3B%20background-color%3A%20rgb(250%2C%20250%2C%20250)%3B%22%3E2%2C596%3C%2Fdiv%3E%3Cdiv%20class%3D%22aui-table-cell%22%20style%3D%22height%3A%2028px%3B%20left%3A%200px%3B%20top%3A%2056px%3B%20width%3A%20120px%3B%20text-align%3A%20right%3B%20font-size%3A%2012px%3B%20padding%3A%204px%204px%203px%3B%20overflow%3A%20hidden%3B%20position%3A%20absolute%3B%20white-space%3A%20nowrap%3B%20text-overflow%3A%20ellipsis%3B%20border-right%3A%201px%20solid%20rgb(233%2C%20233%2C%20233)%3B%20background-color%3A%20rgb(140%2C%20228%2C%20245)%3B%22%3E61.8%25%3C%2Fdiv%3E%3Cdiv%20class%3D%22aui-table-cell%22%20style%3D%22height%3A%2028px%3B%20left%3A%20120px%3B%20top%3A%2056px%3B%20width%3A%20120px%3B%20text-align%3A%20right%3B%20font-size%3A%2012px%3B%20padding%3A%204px%204px%203px%3B%20overflow%3A%20hidden%3B%20position%3A%20absolute%3B%20white-space%3A%20nowrap%3B%20text-overflow%3A%20ellipsis%3B%20border-right%3A%201px%20solid%20rgb(233%2C%20233%2C%20233)%3B%20background-color%3A%20transparent%3B%22%3E4%2C429%3C%2Fdiv%3E%3Cdiv%20class%3D%22aui-table-cell%22%20style%3D%22height%3A%2028px%3B%20left%3A%20240px%3B%20top%3A%2056px%3B%20width%3A%20120px%3B%20text-align%3A%20right%3B%20font-size%3A%2012px%3B%20padding%3A%204px%204px%203px%3B%20overflow%3A%20hidden%3B%20position%3A%20absolute%3B%20white-space%3A%20nowrap%3B%20text-overflow%3A%20ellipsis%3B%20border-right%3A%201px%20solid%20rgb(233%2C%20233%2C%20233)%3B%20background-color%3A%20transparent%3B%22%3E1%2C155%3C%2Fdiv%3E%3Cdiv%20class%3D%22aui-table-cell%22%20style%3D%22height%3A%2028px%3B%20left%3A%20360px%3B%20top%3A%2056px%3B%20width%3A%20120px%3B%20text-align%3A%20right%3B%20font-size%3A%2012px%3B%20padding%3A%204px%204px%203px%3B%20overflow%3A%20hidden%3B%20position%3A%20absolute%3B%20white-space%3A%20nowrap%3B%20text-overflow%3A%20ellipsis%3B%20border-right%3A%201px%20solid%20rgb(233%2C%20233%2C%20233)%3B%20background-color%3A%20rgb(140%2C%20228%2C%20245)%3B%22%3E61.14%25%3C%2Fdiv%3E%3Cdiv%20class%3D%22aui-table-cell%22%20style%3D%22height%3A%2028px%3B%20left%3A%20480px%3B%20top%3A%2056px%3B%20width%3A%20120px%3B%20text-align%3A%20right%3B%20font-size%3A%2012px%3B%20padding%3A%204px%204px%203px%3B%20overflow%3A%20hidden%3B%20position%3A%20absolute%3B%20white-space%3A%20nowrap%3B%20text-overflow%3A%20ellipsis%3B%20border-right%3A%201px%20solid%20rgb(233%2C%20233%2C%20233)%3B%20background-color%3A%20transparent%3B%22%3E714%3C%2Fdiv%3E%3Cdiv%20class%3D%22aui-table-cell%22%20style%3D%22height%3A%2028px%3B%20left%3A%20600px%3B%20top%3A%2056px%3B%20width%3A%20120px%3B%20text-align%3A%20right%3B%20font-size%3A%2012px%3B%20padding%3A%204px%204px%203px%3B%20overflow%3A%20hidden%3B%20position%3A%20absolute%3B%20white-space%3A%20nowrap%3B%20text-overflow%3A%20ellipsis%3B%20border-right%3A%201px%20solid%20rgb(233%2C%20233%2C%20233)%3B%20background-color%3A%20transparent%3B%22%3E734%3C%2Fdiv%3E%3Cdiv%20class%3D%22aui-table-cell%22%20style%3D%22height%3A%2028px%3B%20left%3A%200px%3B%20top%3A%2084px%3B%20width%3A%20120px%3B%20text-align%3A%20right%3B%20font-size%3A%2012px%3B%20padding%3A%204px%204px%203px%3B%20overflow%3A%20hidden%3B%20position%3A%20absolute%3B%20white-space%3A%20nowrap%3B%20text-overflow%3A%20ellipsis%3B%20border-right%3A%201px%20solid%20rgb(233%2C%20233%2C%20233)%3B%20background-color%3A%20rgb(123%2C%20224%2C%20244)%3B%22%3E57.73%25%3C%2Fdiv%3E%3Cdiv%20class%3D%22aui-table-cell%22%20style%3D%22height%3A%2028px%3B%20left%3A%20120px%3B%20top%3A%2084px%3B%20width%3A%20120px%3B%20text-align%3A%20right%3B%20font-size%3A%2012px%3B%20padding%3A%204px%204px%203px%3B%20overflow%3A%20hidden%3B%20position%3A%20absolute%3B%20white-space%3A%20nowrap%3B%20text-overflow%3A%20ellipsis%3B%20border-right%3A%201px%20solid%20rgb(233%2C%20233%2C%20233)%3B%20background-color%3A%20rgb(250%2C%20250%2C%20250)%3B%22%3E4%2C500%3C%2Fdiv%3E%3Cdiv%20class%3D%22aui-table-cell%22%20style%3D%22height%3A%2028px%3B%20left%3A%20240px%3B%20top%3A%2084px%3B%20width%3A%20120px%3B%20text-align%3A%20right%3B%20font-size%3A%2012px%3B%20padding%3A%204px%204px%203px%3B%20overflow%3A%20hidden%3B%20position%3A%20absolute%3B%20white-space%3A%20nowrap%3B%20text-overflow%3A%20ellipsis%3B%20border-right%3A%201px%20solid%20rgb(233%2C%20233%2C%20233)%3B%20background-color%3A%20rgb(250%2C%20250%2C%20250)%3B%22%3E1%2C079%3C%2Fdiv%3E%3Cdiv%20class%3D%22aui-table-cell%22%20style%3D%22height%3A%2028px%3B%20left%3A%20360px%3B%20top%3A%2084px%3B%20width%3A%20120px%3B%20text-align%3A%20right%3B%20font-size%3A%2012px%3B%20padding%3A%204px%204px%203px%3B%20overflow%3A%20hidden%3B%20position%3A%20absolute%3B%20white-space%3A%20nowrap%3B%20text-overflow%3A%20ellipsis%3B%20border-right%3A%201px%20solid%20rgb(233%2C%20233%2C%20233)%3B%20background-color%3A%20rgb(123%2C%20224%2C%20244)%3B%22%3E61.94%25%3C%2Fdiv%3E%3Cdiv%20class%3D%22aui-table-cell%22%20style%3D%22height%3A%2028px%3B%20left%3A%20480px%3B%20top%3A%2084px%3B%20width%3A%20120px%3B%20text-align%3A%20right%3B%20font-size%3A%2012px%3B%20padding%3A%204px%204px%203px%3B%20overflow%3A%20hidden%3B%20position%3A%20absolute%3B%20white-space%3A%20nowrap%3B%20text-overflow%3A%20ellipsis%3B%20border-right%3A%201px%20solid%20rgb(233%2C%20233%2C%20233)%3B%20background-color%3A%20rgb(250%2C%20250%2C%20250)%3B%22%3E790%3C%2Fdiv%3E%3Cdiv%20class%3D%22aui-table-cell%22%20style%3D%22height%3A%2028px%3B%20left%3A%20600px%3B%20top%3A%2084px%3B%20width%3A%20120px%3B%20text-align%3A%20right%3B%20font-size%3A%2012px%3B%20padding%3A%204px%204px%203px%3B%20overflow%3A%20hidden%3B%20position%3A%20absolute%3B%20white-space%3A%20nowrap%3B%20text-overflow%3A%20ellipsis%3B%20border-right%3A%201px%20solid%20rgb(233%2C%20233%2C%20233)%3B%20background-color%3A%20rgb(250%2C%20250%2C%20250)%3B%22%3E663%3C%2Fdiv%3E%3Cdiv%20class%3D%22aui-table-cell%22%20style%3D%22height%3A%2028px%3B%20left%3A%200px%3B%20top%3A%20112px%3B%20width%3A%20120px%3B%20text-align%3A%20right%3B%20font-size%3A%2012px%3B%20padding%3A%204px%204px%203px%3B%20overflow%3A%20hidden%3B%20position%3A%20absolute%3B%20white-space%3A%20nowrap%3B%20text-overflow%3A%20ellipsis%3B%20border-right%3A%201px%20solid%20rgb(233%2C%20233%2C%20233)%3B%20background-color%3A%20rgb(140%2C%20228%2C%20245)%3B%22%3E77.64%25%3C%2Fdiv%3E%3Cdiv%20class%3D%22aui-table-cell%22%20style%3D%22height%3A%2028px%3B%20left%3A%20120px%3B%20top%3A%20112px%3B%20width%3A%20120px%3B%20text-align%3A%20right%3B%20font-size%3A%2012px%3B%20padding%3A%204px%204px%203px%3B%20overflow%3A%20hidden%3B%20position%3A%20absolute%3B%20white-space%3A%20nowrap%3B%20text-overflow%3A%20ellipsis%3B%20border-right%3A%201px%20solid%20rgb(233%2C%20233%2C%20233)%3B%20background-color%3A%20transparent%3B%22%3E3%2C883%3C%2Fdiv%3E%3Cdiv%20class%3D%22aui-table-cell%22%20style%3D%22height%3A%2028px%3B%20left%3A%20240px%3B%20top%3A%20112px%3B%20width%3A%20120px%3B%20text-align%3A%20right%3B%20font-size%3A%2012px%3B%20padding%3A%204px%204px%203px%3B%20overflow%3A%20hidden%3B%20position%3A%20absolute%3B%20white-space%3A%20nowrap%3B%20text-overflow%3A%20ellipsis%3B%20border-right%3A%201px%20solid%20rgb(233%2C%20233%2C%20233)%3B%20background-color%3A%20transparent%3B%22%3E1%2C451%3C%2Fdiv%3E%3Cdiv%20class%3D%22aui-table-cell%22%20style%3D%22height%3A%2028px%3B%20left%3A%20360px%3B%20top%3A%20112px%3B%20width%3A%20120px%3B%20text-align%3A%20right%3B%20font-size%3A%2012px%3B%20padding%3A%204px%204px%203px%3B%20overflow%3A%20hidden%3B%20position%3A%20absolute%3B%20white-space%3A%20nowrap%3B%20text-overflow%3A%20ellipsis%3B%20border-right%3A%201px%20solid%20rgb(233%2C%20233%2C%20233)%3B%20background-color%3A%20rgb(140%2C%20228%2C%20245)%3B%22%3E53.13%25%3C%2Fdiv%3E%3Cdiv%20class%3D%22aui-table-cell%22%20style%3D%22height%3A%2028px%3B%20left%3A%20480px%3B%20top%3A%20112px%3B%20width%3A%20120px%3B%20text-align%3A%20right%3B%20font-size%3A%2012px%3B%20padding%3A%204px%204px%203px%3B%20overflow%3A%20hidden%3B%20position%3A%20absolute%3B%20white-space%3A%20nowrap%3B%20text-overflow%3A%20ellipsis%3B%20border-right%3A%201px%20solid%20rgb(233%2C%20233%2C%20233)%3B%20background-color%3A%20transparent%3B%22%3E418%3C%2Fdiv%3E%3Cdiv%20class%3D%22aui-table-cell%22%20style%3D%22height%3A%2028px%3B%20left%3A%20600px%3B%20top%3A%20112px%3B%20width%3A%20120px%3B%20text-align%3A%20right%3B%20font-size%3A%2012px%3B%20padding%3A%204px%204px%203px%3B%20overflow%3A%20hidden%3B%20position%3A%20absolute%3B%20white-space%3A%20nowrap%3B%20text-overflow%3A%20ellipsis%3B%20border-right%3A%201px%20solid%20rgb(233%2C%20233%2C%20233)%3B%20background-color%3A%20transparent%3B%22%3E1%2C280%3C%2Fdiv%3E%3C%2Fdiv%3E%3C%2Fdiv%3E%3C%2Fdiv%3E%3C%2Fdiv%3E%3C%2Fdiv%3E%3Cdiv%20class%3D%22css-1uww2vi-Table%22%3E%3C%2Fdiv%3E%3C%2Fdiv%3E%3C%2Fdiv%3E%3C%2Fdiv%3E%3C%2Fdiv%3E%3C%2Fdiv%3E%3C%2FforeignObject%3E%3C%2Fsvg%3E\">"
      ],
      "text/plain": [
       "Open the notebook in JupyterLab with the Atoti extension enabled to build this widget."
      ]
     },
     "metadata": {},
     "output_type": "display_data"
    }
   ],
   "source": [
    "session.visualize(\"Precision and Recall comparison across models\")"
   ]
  },
  {
   "cell_type": "code",
   "execution_count": 27,
   "metadata": {
    "atoti": {
     "widget": {
      "filters": [],
      "mapping": {
       "horizontalSubplots": [],
       "splitBy": [],
       "values": [
        "[Measures].[f1 score]"
       ],
       "verticalSubplots": [],
       "yAxis": [
        "[Epoch].[Epoch].[Branch]"
       ]
      },
      "name": "Last month customer churn F1-score by model",
      "query": {
       "context": {
        "queriesResultLimit.intermediateSize": 1000000,
        "queriesResultLimit.transientSize": 10000000
       },
       "mdx": "SELECT NON EMPTY [Measures].[f1 score] ON COLUMNS, NON EMPTY [Epoch].[Epoch].[Branch].Members ON ROWS FROM [customer_cube] CELL PROPERTIES VALUE, FORMATTED_VALUE, BACK_COLOR, FORE_COLOR, FONT_FLAGS"
      },
      "serverKey": "default",
      "widgetKey": "plotly-clustered-bar-chart"
     }
    }
   },
   "outputs": [
    {
     "data": {
      "application/vnd.atoti.widget.v0+json": {
       "name": "Last month customer churn F1-score by model",
       "sessionId": "1685413173_PPEYJT",
       "sessionLocation": {
        "https": false,
        "port": 58900
       },
       "widgetCreationCode": "session.visualize()"
      },
      "text/html": [
       "<img src=\"data:image/svg+xml;charset=utf8,%3C%3Fxml%20version%3D%221.0%22%20standalone%3D%22no%22%3F%3E%3Csvg%20xmlns%3D%22http%3A%2F%2Fwww.w3.org%2F2000%2Fsvg%22%20xmlns%3Axlink%3D%22http%3A%2F%2Fwww.w3.org%2F1999%2Fxlink%22%20height%3D%22352%22%20width%3D%221342%22%20viewBox%3D%220%200%201342%20352%22%3E%3Cdefs%20id%3D%22defs-ae6155%22%3E%3Cg%20class%3D%22clips%22%3E%3CclipPath%20id%3D%22clipae6155xyplot%22%20class%3D%22plotclip%22%3E%3Crect%20width%3D%221165%22%20height%3D%22282%22%2F%3E%3C%2FclipPath%3E%3CclipPath%20class%3D%22axesclip%22%20id%3D%22clipae6155x%22%3E%3Crect%20x%3D%22177%22%20y%3D%220%22%20width%3D%221165%22%20height%3D%22352%22%2F%3E%3C%2FclipPath%3E%3CclipPath%20class%3D%22axesclip%22%20id%3D%22clipae6155y%22%3E%3Crect%20x%3D%220%22%20y%3D%2230%22%20width%3D%221342%22%20height%3D%22282%22%2F%3E%3C%2FclipPath%3E%3CclipPath%20class%3D%22axesclip%22%20id%3D%22clipae6155xy%22%3E%3Crect%20x%3D%22177%22%20y%3D%2230%22%20width%3D%221165%22%20height%3D%22282%22%2F%3E%3C%2FclipPath%3E%3C%2Fg%3E%3Cg%20class%3D%22gradients%22%2F%3E%3C%2Fdefs%3E%3Cg%20class%3D%22bglayer%22%2F%3E%3Cg%20class%3D%22draglayer%20cursor-crosshair%22%3E%3Cg%20class%3D%22xy%22%3E%3Crect%20class%3D%22nsewdrag%20drag%22%20data-subplot%3D%22xy%22%20x%3D%22177%22%20y%3D%2230%22%20width%3D%221165%22%20height%3D%22282%22%20style%3D%22fill%3A%20transparent%3B%20stroke-width%3A%200%3B%20pointer-events%3A%20all%3B%22%2F%3E%3Crect%20class%3D%22nwdrag%20drag%20cursor-nw-resize%22%20data-subplot%3D%22xy%22%20x%3D%22157%22%20y%3D%2210%22%20width%3D%2220%22%20height%3D%2220%22%20style%3D%22fill%3A%20transparent%3B%20stroke-width%3A%200%3B%20pointer-events%3A%20all%3B%22%2F%3E%3Crect%20class%3D%22nedrag%20drag%20cursor-ne-resize%22%20data-subplot%3D%22xy%22%20x%3D%221342%22%20y%3D%2210%22%20width%3D%2220%22%20height%3D%2220%22%20style%3D%22fill%3A%20transparent%3B%20stroke-width%3A%200%3B%20pointer-events%3A%20all%3B%22%2F%3E%3Crect%20class%3D%22swdrag%20drag%20cursor-sw-resize%22%20data-subplot%3D%22xy%22%20x%3D%22157%22%20y%3D%22312%22%20width%3D%2220%22%20height%3D%2220%22%20style%3D%22fill%3A%20transparent%3B%20stroke-width%3A%200%3B%20pointer-events%3A%20all%3B%22%2F%3E%3Crect%20class%3D%22sedrag%20drag%20cursor-se-resize%22%20data-subplot%3D%22xy%22%20x%3D%221342%22%20y%3D%22312%22%20width%3D%2220%22%20height%3D%2220%22%20style%3D%22fill%3A%20transparent%3B%20stroke-width%3A%200%3B%20pointer-events%3A%20all%3B%22%2F%3E%3Crect%20class%3D%22ewdrag%20drag%20cursor-ew-resize%22%20data-subplot%3D%22xy%22%20x%3D%22293.5%22%20y%3D%22312.5%22%20width%3D%22932%22%20height%3D%2220%22%20style%3D%22fill%3A%20transparent%3B%20stroke-width%3A%200%3B%20pointer-events%3A%20all%3B%22%2F%3E%3Crect%20class%3D%22wdrag%20drag%20cursor-w-resize%22%20data-subplot%3D%22xy%22%20x%3D%22177%22%20y%3D%22312.5%22%20width%3D%22116.5%22%20height%3D%2220%22%20style%3D%22fill%3A%20transparent%3B%20stroke-width%3A%200%3B%20pointer-events%3A%20all%3B%22%2F%3E%3Crect%20class%3D%22edrag%20drag%20cursor-e-resize%22%20data-subplot%3D%22xy%22%20x%3D%221225.5%22%20y%3D%22312.5%22%20width%3D%22116.5%22%20height%3D%2220%22%20style%3D%22fill%3A%20transparent%3B%20stroke-width%3A%200%3B%20pointer-events%3A%20all%3B%22%2F%3E%3Crect%20class%3D%22nsdrag%20drag%20cursor-ns-resize%22%20data-subplot%3D%22xy%22%20x%3D%22156.5%22%20y%3D%2258.2%22%20width%3D%2220%22%20height%3D%22225.60000000000002%22%20style%3D%22fill%3A%20transparent%3B%20stroke-width%3A%200%3B%20pointer-events%3A%20all%3B%22%2F%3E%3Crect%20class%3D%22sdrag%20drag%20cursor-s-resize%22%20data-subplot%3D%22xy%22%20x%3D%22156.5%22%20y%3D%22283.8%22%20width%3D%2220%22%20height%3D%2228.200000000000003%22%20style%3D%22fill%3A%20transparent%3B%20stroke-width%3A%200%3B%20pointer-events%3A%20all%3B%22%2F%3E%3Crect%20class%3D%22ndrag%20drag%20cursor-n-resize%22%20data-subplot%3D%22xy%22%20x%3D%22156.5%22%20y%3D%2230%22%20width%3D%2220%22%20height%3D%2228.200000000000003%22%20style%3D%22fill%3A%20transparent%3B%20stroke-width%3A%200%3B%20pointer-events%3A%20all%3B%22%2F%3E%3C%2Fg%3E%3C%2Fg%3E%3Cg%20class%3D%22layer-below%22%3E%3Cg%20class%3D%22imagelayer%22%2F%3E%3Cg%20class%3D%22shapelayer%22%2F%3E%3C%2Fg%3E%3Cg%20class%3D%22cartesianlayer%22%3E%3Cg%20class%3D%22subplot%20xy%22%3E%3Cg%20class%3D%22layer-subplot%22%3E%3Cg%20class%3D%22shapelayer%22%2F%3E%3Cg%20class%3D%22imagelayer%22%2F%3E%3C%2Fg%3E%3Cg%20class%3D%22gridlayer%22%3E%3Cg%20class%3D%22x%22%3E%3Cpath%20class%3D%22xgrid%20crisp%22%20transform%3D%22translate(398.35%2C0)%22%20d%3D%22M0%2C30v282%22%20style%3D%22stroke%3A%20rgb(0%2C%200%2C%200)%3B%20stroke-opacity%3A%200%3B%20stroke-width%3A%201px%3B%22%2F%3E%3Cpath%20class%3D%22xgrid%20crisp%22%20transform%3D%22translate(619.7%2C0)%22%20d%3D%22M0%2C30v282%22%20style%3D%22stroke%3A%20rgb(0%2C%200%2C%200)%3B%20stroke-opacity%3A%200%3B%20stroke-width%3A%201px%3B%22%2F%3E%3Cpath%20class%3D%22xgrid%20crisp%22%20transform%3D%22translate(841.05%2C0)%22%20d%3D%22M0%2C30v282%22%20style%3D%22stroke%3A%20rgb(0%2C%200%2C%200)%3B%20stroke-opacity%3A%200%3B%20stroke-width%3A%201px%3B%22%2F%3E%3Cpath%20class%3D%22xgrid%20crisp%22%20transform%3D%22translate(1062.4%2C0)%22%20d%3D%22M0%2C30v282%22%20style%3D%22stroke%3A%20rgb(0%2C%200%2C%200)%3B%20stroke-opacity%3A%200%3B%20stroke-width%3A%201px%3B%22%2F%3E%3Cpath%20class%3D%22xgrid%20crisp%22%20transform%3D%22translate(1283.75%2C0)%22%20d%3D%22M0%2C30v282%22%20style%3D%22stroke%3A%20rgb(0%2C%200%2C%200)%3B%20stroke-opacity%3A%200%3B%20stroke-width%3A%201px%3B%22%2F%3E%3C%2Fg%3E%3Cg%20class%3D%22y%22%3E%3Cpath%20class%3D%22ygrid%20crisp%22%20transform%3D%22translate(0%2C283.8)%22%20d%3D%22M177%2C0h1165%22%20style%3D%22stroke%3A%20rgb(89%2C%2089%2C%2089)%3B%20stroke-opacity%3A%200.25%3B%20stroke-width%3A%201px%3B%22%2F%3E%3Cpath%20class%3D%22ygrid%20crisp%22%20transform%3D%22translate(0%2C227.4)%22%20d%3D%22M177%2C0h1165%22%20style%3D%22stroke%3A%20rgb(89%2C%2089%2C%2089)%3B%20stroke-opacity%3A%200.25%3B%20stroke-width%3A%201px%3B%22%2F%3E%3Cpath%20class%3D%22ygrid%20crisp%22%20transform%3D%22translate(0%2C171)%22%20d%3D%22M177%2C0h1165%22%20style%3D%22stroke%3A%20rgb(89%2C%2089%2C%2089)%3B%20stroke-opacity%3A%200.25%3B%20stroke-width%3A%201px%3B%22%2F%3E%3Cpath%20class%3D%22ygrid%20crisp%22%20transform%3D%22translate(0%2C114.6)%22%20d%3D%22M177%2C0h1165%22%20style%3D%22stroke%3A%20rgb(89%2C%2089%2C%2089)%3B%20stroke-opacity%3A%200.25%3B%20stroke-width%3A%201px%3B%22%2F%3E%3Cpath%20class%3D%22ygrid%20crisp%22%20transform%3D%22translate(0%2C58.2)%22%20d%3D%22M177%2C0h1165%22%20style%3D%22stroke%3A%20rgb(89%2C%2089%2C%2089)%3B%20stroke-opacity%3A%200.25%3B%20stroke-width%3A%201px%3B%22%2F%3E%3C%2Fg%3E%3C%2Fg%3E%3Cg%20class%3D%22zerolinelayer%22%3E%3Cpath%20class%3D%22xzl%20zl%20crisp%22%20transform%3D%22translate(177%2C0)%22%20d%3D%22M0%2C30v282%22%20style%3D%22stroke%3A%20rgb(89%2C%2089%2C%2089)%3B%20stroke-opacity%3A%200.5%3B%20stroke-width%3A%201px%3B%22%2F%3E%3C%2Fg%3E%3Cpath%20class%3D%22xlines-below%22%2F%3E%3Cpath%20class%3D%22ylines-below%22%2F%3E%3Cg%20class%3D%22overlines-below%22%2F%3E%3Cg%20class%3D%22xaxislayer-below%22%2F%3E%3Cg%20class%3D%22yaxislayer-below%22%2F%3E%3Cg%20class%3D%22overaxes-below%22%2F%3E%3Cg%20class%3D%22plot%22%20transform%3D%22translate(177%2C30)%22%20clip-path%3D%22url('%23clipae6155xyplot')%22%3E%3Cg%20class%3D%22barlayer%20mlayer%22%3E%3Cg%20class%3D%22trace%20bars%22%20style%3D%22opacity%3A%201%3B%22%3E%3Cg%20class%3D%22points%22%3E%3Cg%20class%3D%22point%22%3E%3Cpath%20d%3D%22M0%2C276.36V231.24H1106.75V276.36Z%22%20style%3D%22vector-effect%3A%20non-scaling-stroke%3B%20opacity%3A%201%3B%20stroke-width%3A%200px%3B%20fill%3A%20rgb(78%2C%20121%2C%20167)%3B%20fill-opacity%3A%201%3B%22%2F%3E%3C%2Fg%3E%3Cg%20class%3D%22point%22%3E%3Cpath%20d%3D%22M0%2C219.96V174.84H374.41V219.96Z%22%20style%3D%22vector-effect%3A%20non-scaling-stroke%3B%20opacity%3A%201%3B%20stroke-width%3A%200px%3B%20fill%3A%20rgb(78%2C%20121%2C%20167)%3B%20fill-opacity%3A%201%3B%22%2F%3E%3C%2Fg%3E%3Cg%20class%3D%22point%22%3E%3Cpath%20d%3D%22M0%2C163.56V118.44H680.31V163.56Z%22%20style%3D%22vector-effect%3A%20non-scaling-stroke%3B%20opacity%3A%201%3B%20stroke-width%3A%200px%3B%20fill%3A%20rgb(78%2C%20121%2C%20167)%3B%20fill-opacity%3A%201%3B%22%2F%3E%3C%2Fg%3E%3Cg%20class%3D%22point%22%3E%3Cpath%20d%3D%22M0%2C107.16V62.04H661.41V107.16Z%22%20style%3D%22vector-effect%3A%20non-scaling-stroke%3B%20opacity%3A%201%3B%20stroke-width%3A%200px%3B%20fill%3A%20rgb(78%2C%20121%2C%20167)%3B%20fill-opacity%3A%201%3B%22%2F%3E%3C%2Fg%3E%3Cg%20class%3D%22point%22%3E%3Cpath%20d%3D%22M0%2C50.76V5.64H698.21V50.76Z%22%20style%3D%22vector-effect%3A%20non-scaling-stroke%3B%20opacity%3A%201%3B%20stroke-width%3A%200px%3B%20fill%3A%20rgb(78%2C%20121%2C%20167)%3B%20fill-opacity%3A%201%3B%22%2F%3E%3C%2Fg%3E%3C%2Fg%3E%3C%2Fg%3E%3C%2Fg%3E%3C%2Fg%3E%3Cg%20class%3D%22overplot%22%2F%3E%3Cpath%20class%3D%22xlines-above%20crisp%22%20d%3D%22M176%2C312.5H1342%22%20style%3D%22fill%3A%20none%3B%20stroke-width%3A%201px%3B%20stroke%3A%20rgb(89%2C%2089%2C%2089)%3B%20stroke-opacity%3A%200.25%3B%22%2F%3E%3Cpath%20class%3D%22ylines-above%20crisp%22%20d%3D%22M176.5%2C30V312%22%20style%3D%22fill%3A%20none%3B%20stroke-width%3A%201px%3B%20stroke%3A%20rgb(89%2C%2089%2C%2089)%3B%20stroke-opacity%3A%200.25%3B%22%2F%3E%3Cg%20class%3D%22overlines-above%22%2F%3E%3Cg%20class%3D%22xaxislayer-above%22%3E%3Cg%20class%3D%22xtick%22%3E%3Ctext%20text-anchor%3D%22middle%22%20x%3D%220%22%20y%3D%22327.4%22%20data-unformatted%3D%220%22%20data-math%3D%22N%22%20transform%3D%22translate(177%2C0)%22%20style%3D%22font-family%3A%20%26quot%3BOpen%20Sans%26quot%3B%2C%20verdana%2C%20arial%2C%20sans-serif%3B%20font-size%3A%2012px%3B%20fill%3A%20rgb(89%2C%2089%2C%2089)%3B%20fill-opacity%3A%201%3B%20white-space%3A%20pre%3B%22%3E0%3C%2Ftext%3E%3C%2Fg%3E%3Cg%20class%3D%22xtick%22%3E%3Ctext%20text-anchor%3D%22middle%22%20x%3D%220%22%20y%3D%22327.4%22%20data-unformatted%3D%220.2%22%20data-math%3D%22N%22%20transform%3D%22translate(398.35%2C0)%22%20style%3D%22font-family%3A%20%26quot%3BOpen%20Sans%26quot%3B%2C%20verdana%2C%20arial%2C%20sans-serif%3B%20font-size%3A%2012px%3B%20fill%3A%20rgb(89%2C%2089%2C%2089)%3B%20fill-opacity%3A%201%3B%20white-space%3A%20pre%3B%22%3E0.2%3C%2Ftext%3E%3C%2Fg%3E%3Cg%20class%3D%22xtick%22%3E%3Ctext%20text-anchor%3D%22middle%22%20x%3D%220%22%20y%3D%22327.4%22%20data-unformatted%3D%220.4%22%20data-math%3D%22N%22%20transform%3D%22translate(619.7%2C0)%22%20style%3D%22font-family%3A%20%26quot%3BOpen%20Sans%26quot%3B%2C%20verdana%2C%20arial%2C%20sans-serif%3B%20font-size%3A%2012px%3B%20fill%3A%20rgb(89%2C%2089%2C%2089)%3B%20fill-opacity%3A%201%3B%20white-space%3A%20pre%3B%22%3E0.4%3C%2Ftext%3E%3C%2Fg%3E%3Cg%20class%3D%22xtick%22%3E%3Ctext%20text-anchor%3D%22middle%22%20x%3D%220%22%20y%3D%22327.4%22%20data-unformatted%3D%220.6%22%20data-math%3D%22N%22%20transform%3D%22translate(841.05%2C0)%22%20style%3D%22font-family%3A%20%26quot%3BOpen%20Sans%26quot%3B%2C%20verdana%2C%20arial%2C%20sans-serif%3B%20font-size%3A%2012px%3B%20fill%3A%20rgb(89%2C%2089%2C%2089)%3B%20fill-opacity%3A%201%3B%20white-space%3A%20pre%3B%22%3E0.6%3C%2Ftext%3E%3C%2Fg%3E%3Cg%20class%3D%22xtick%22%3E%3Ctext%20text-anchor%3D%22middle%22%20x%3D%220%22%20y%3D%22327.4%22%20data-unformatted%3D%220.8%22%20data-math%3D%22N%22%20transform%3D%22translate(1062.4%2C0)%22%20style%3D%22font-family%3A%20%26quot%3BOpen%20Sans%26quot%3B%2C%20verdana%2C%20arial%2C%20sans-serif%3B%20font-size%3A%2012px%3B%20fill%3A%20rgb(89%2C%2089%2C%2089)%3B%20fill-opacity%3A%201%3B%20white-space%3A%20pre%3B%22%3E0.8%3C%2Ftext%3E%3C%2Fg%3E%3Cg%20class%3D%22xtick%22%3E%3Ctext%20text-anchor%3D%22middle%22%20x%3D%220%22%20y%3D%22327.4%22%20data-unformatted%3D%221%22%20data-math%3D%22N%22%20transform%3D%22translate(1283.75%2C0)%22%20style%3D%22font-family%3A%20%26quot%3BOpen%20Sans%26quot%3B%2C%20verdana%2C%20arial%2C%20sans-serif%3B%20font-size%3A%2012px%3B%20fill%3A%20rgb(89%2C%2089%2C%2089)%3B%20fill-opacity%3A%201%3B%20white-space%3A%20pre%3B%22%3E1%3C%2Ftext%3E%3C%2Fg%3E%3C%2Fg%3E%3Cg%20class%3D%22yaxislayer-above%22%3E%3Cg%20class%3D%22ytick%22%3E%3Ctext%20text-anchor%3D%22end%22%20x%3D%22173.6%22%20y%3D%224.199999999999999%22%20data-unformatted%3D%22Base%22%20data-math%3D%22N%22%20transform%3D%22translate(0%2C283.8)%22%20style%3D%22font-family%3A%20%26quot%3BOpen%20Sans%26quot%3B%2C%20verdana%2C%20arial%2C%20sans-serif%3B%20font-size%3A%2012px%3B%20fill%3A%20rgb(89%2C%2089%2C%2089)%3B%20fill-opacity%3A%201%3B%20white-space%3A%20pre%3B%22%3EBase%3C%2Ftext%3E%3C%2Fg%3E%3Cg%20class%3D%22ytick%22%3E%3Ctext%20text-anchor%3D%22end%22%20x%3D%22173.6%22%20y%3D%224.199999999999999%22%20data-unformatted%3D%22Dummy%20Uniform%20Classifier%22%20data-math%3D%22N%22%20transform%3D%22translate(0%2C227.4)%22%20style%3D%22font-family%3A%20%26quot%3BOpen%20Sans%26quot%3B%2C%20verdana%2C%20arial%2C%20sans-serif%3B%20font-size%3A%2012px%3B%20fill%3A%20rgb(89%2C%2089%2C%2089)%3B%20fill-opacity%3A%201%3B%20white-space%3A%20pre%3B%22%3EDummy%20Uniform%20Classifier%3C%2Ftext%3E%3C%2Fg%3E%3Cg%20class%3D%22ytick%22%3E%3Ctext%20text-anchor%3D%22end%22%20x%3D%22173.6%22%20y%3D%224.199999999999999%22%20data-unformatted%3D%22Logistic%20Regression%20Classifier%22%20data-math%3D%22N%22%20transform%3D%22translate(0%2C171)%22%20style%3D%22font-family%3A%20%26quot%3BOpen%20Sans%26quot%3B%2C%20verdana%2C%20arial%2C%20sans-serif%3B%20font-size%3A%2012px%3B%20fill%3A%20rgb(89%2C%2089%2C%2089)%3B%20fill-opacity%3A%201%3B%20white-space%3A%20pre%3B%22%3ELogistic%20Regression%20Classifier%3C%2Ftext%3E%3C%2Fg%3E%3Cg%20class%3D%22ytick%22%3E%3Ctext%20text-anchor%3D%22end%22%20x%3D%22173.6%22%20y%3D%224.199999999999999%22%20data-unformatted%3D%22Naive%20Bayes%20Classifier%22%20data-math%3D%22N%22%20transform%3D%22translate(0%2C114.6)%22%20style%3D%22font-family%3A%20%26quot%3BOpen%20Sans%26quot%3B%2C%20verdana%2C%20arial%2C%20sans-serif%3B%20font-size%3A%2012px%3B%20fill%3A%20rgb(89%2C%2089%2C%2089)%3B%20fill-opacity%3A%201%3B%20white-space%3A%20pre%3B%22%3ENaive%20Bayes%20Classifier%3C%2Ftext%3E%3C%2Fg%3E%3Cg%20class%3D%22ytick%22%3E%3Ctext%20text-anchor%3D%22end%22%20x%3D%22173.6%22%20y%3D%224.199999999999999%22%20data-unformatted%3D%22SVM%20Classifier%22%20data-math%3D%22N%22%20transform%3D%22translate(0%2C58.2)%22%20style%3D%22font-family%3A%20%26quot%3BOpen%20Sans%26quot%3B%2C%20verdana%2C%20arial%2C%20sans-serif%3B%20font-size%3A%2012px%3B%20fill%3A%20rgb(89%2C%2089%2C%2089)%3B%20fill-opacity%3A%201%3B%20white-space%3A%20pre%3B%22%3ESVM%20Classifier%3C%2Ftext%3E%3C%2Fg%3E%3C%2Fg%3E%3Cg%20class%3D%22overaxes-above%22%2F%3E%3C%2Fg%3E%3C%2Fg%3E%3Cg%20class%3D%22polarlayer%22%2F%3E%3Cg%20class%3D%22ternarylayer%22%2F%3E%3Cg%20class%3D%22geolayer%22%2F%3E%3Cg%20class%3D%22funnelarealayer%22%2F%3E%3Cg%20class%3D%22pielayer%22%2F%3E%3Cg%20class%3D%22treemaplayer%22%2F%3E%3Cg%20class%3D%22sunburstlayer%22%2F%3E%3Cg%20class%3D%22glimages%22%2F%3E%3Cdefs%20id%3D%22topdefs-ae6155%22%3E%3Cg%20class%3D%22clips%22%2F%3E%3C%2Fdefs%3E%3Cg%20class%3D%22indicatorlayer%22%2F%3E%3Cg%20class%3D%22layer-above%22%3E%3Cg%20class%3D%22imagelayer%22%2F%3E%3Cg%20class%3D%22shapelayer%22%2F%3E%3C%2Fg%3E%3Cg%20class%3D%22infolayer%22%3E%3Cg%20class%3D%22g-gtitle%22%2F%3E%3Cg%20class%3D%22g-xtitle%22%2F%3E%3Cg%20class%3D%22g-ytitle%22%2F%3E%3C%2Fg%3E%3Cg%20class%3D%22menulayer%22%2F%3E%3Cg%20class%3D%22zoomlayer%22%2F%3E%3Cg%20class%3D%22hoverlayer%22%2F%3E%3C%2Fsvg%3E\">"
      ],
      "text/plain": [
       "Open the notebook in JupyterLab with the Atoti extension enabled to build this widget."
      ]
     },
     "metadata": {},
     "output_type": "display_data"
    }
   ],
   "source": [
    "session.visualize(\"Last month customer churn F1-score by model\")"
   ]
  },
  {
   "cell_type": "markdown",
   "metadata": {},
   "source": [
    "The results here above show that SVM Classifier is the best model w.r.t F1 score.\n",
    "Let's analyze if it would be the one bringing the highest revenue to the company."
   ]
  },
  {
   "cell_type": "markdown",
   "metadata": {},
   "source": [
    "#### Churn and MRR Analysis"
   ]
  },
  {
   "cell_type": "code",
   "execution_count": 28,
   "metadata": {
    "atoti": {
     "widget": {
      "mapping": {
       "horizontalSubplots": [],
       "sliceBy": [
        "[Customer].[Churn].[Churn]"
       ],
       "values": [
        "[Measures].[contributors.COUNT]"
       ],
       "verticalSubplots": []
      },
      "query": {
       "mdx": "SELECT NON EMPTY Hierarchize(Descendants({[Customer].[Churn].[AllMember]}, 1, SELF_AND_BEFORE)) ON ROWS, NON EMPTY {[Measures].[contributors.COUNT]} ON COLUMNS FROM [customer_cube] CELL PROPERTIES VALUE, FORMATTED_VALUE, BACK_COLOR, FORE_COLOR, FONT_FLAGS",
       "updateMode": "once"
      },
      "serverKey": "default",
      "widgetKey": "plotly-pie-chart"
     }
    },
    "tags": []
   },
   "outputs": [
    {
     "data": {
      "application/vnd.atoti.widget.v0+json": {
       "name": "Percentage customers churned last month",
       "sessionId": "1685413173_PPEYJT",
       "sessionLocation": {
        "https": false,
        "port": 58900
       },
       "widgetCreationCode": "session.visualize()"
      },
      "text/html": [
       "<img src=\"data:image/svg+xml;charset=utf8,%3C%3Fxml%20version%3D%221.0%22%20standalone%3D%22no%22%3F%3E%3Csvg%20xmlns%3D%22http%3A%2F%2Fwww.w3.org%2F2000%2Fsvg%22%20xmlns%3Axlink%3D%22http%3A%2F%2Fwww.w3.org%2F1999%2Fxlink%22%20height%3D%22352%22%20width%3D%221342%22%20viewBox%3D%220%200%201342%20352%22%3E%3Cdefs%20id%3D%22defs-518c82%22%3E%3Cg%20class%3D%22clips%22%2F%3E%3Cg%20class%3D%22gradients%22%2F%3E%3C%2Fdefs%3E%3Cg%20class%3D%22bglayer%22%2F%3E%3Cg%20class%3D%22draglayer%22%2F%3E%3Cg%20class%3D%22layer-below%22%3E%3Cg%20class%3D%22imagelayer%22%2F%3E%3Cg%20class%3D%22shapelayer%22%2F%3E%3C%2Fg%3E%3Cg%20class%3D%22cartesianlayer%22%2F%3E%3Cg%20class%3D%22polarlayer%22%2F%3E%3Cg%20class%3D%22ternarylayer%22%2F%3E%3Cg%20class%3D%22geolayer%22%2F%3E%3Cg%20class%3D%22funnelarealayer%22%2F%3E%3Cg%20class%3D%22pielayer%22%3E%3Cg%20class%3D%22trace%22%20stroke-linejoin%3D%22round%22%20style%3D%22opacity%3A%201%3B%22%3E%3Cg%20class%3D%22slice%22%3E%3Cpath%20class%3D%22surface%22%20d%3D%22M666%2C171l0%2C-141a141%2C141%200%201%201%20-140.30708325418945%2C154.9614608369594Z%22%20style%3D%22pointer-events%3A%20all%3B%20stroke-width%3A%200%3B%20fill%3A%20rgb(78%2C%20121%2C%20167)%3B%20fill-opacity%3A%201%3B%20stroke%3A%20rgb(68%2C%2068%2C%2068)%3B%20stroke-opacity%3A%201%3B%22%2F%3E%3C%2Fg%3E%3Cg%20class%3D%22slice%22%3E%3Cpath%20class%3D%22surface%22%20d%3D%22M666%2C171l-140.30708325418945%2C13.961460836959356a141%2C141%200%200%201%20140.30708325418945%2C-154.96146083695936Z%22%20style%3D%22pointer-events%3A%20all%3B%20stroke-width%3A%200%3B%20fill%3A%20rgb(242%2C%20142%2C%2044)%3B%20fill-opacity%3A%201%3B%20stroke%3A%20rgb(68%2C%2068%2C%2068)%3B%20stroke-opacity%3A%201%3B%22%2F%3E%3C%2Fg%3E%3C%2Fg%3E%3C%2Fg%3E%3Cg%20class%3D%22treemaplayer%22%2F%3E%3Cg%20class%3D%22sunburstlayer%22%2F%3E%3Cg%20class%3D%22glimages%22%2F%3E%3Cdefs%20id%3D%22topdefs-518c82%22%3E%3Cg%20class%3D%22clips%22%2F%3E%3CclipPath%20id%3D%22legend518c82%22%3E%3Crect%20width%3D%2267%22%20height%3D%2248%22%20x%3D%220%22%20y%3D%220%22%2F%3E%3C%2FclipPath%3E%3C%2Fdefs%3E%3Cg%20class%3D%22indicatorlayer%22%2F%3E%3Cg%20class%3D%22layer-above%22%3E%3Cg%20class%3D%22imagelayer%22%2F%3E%3Cg%20class%3D%22shapelayer%22%2F%3E%3C%2Fg%3E%3Cg%20class%3D%22infolayer%22%3E%3Cg%20class%3D%22legend%22%20pointer-events%3D%22all%22%20transform%3D%22translate(1275%2C30)%22%3E%3Crect%20class%3D%22bg%22%20shape-rendering%3D%22crispEdges%22%20width%3D%2267%22%20height%3D%2248%22%20x%3D%220%22%20y%3D%220%22%20style%3D%22stroke%3A%20rgb(68%2C%2068%2C%2068)%3B%20stroke-opacity%3A%201%3B%20fill%3A%20rgb(255%2C%20255%2C%20255)%3B%20fill-opacity%3A%201%3B%20stroke-width%3A%200px%3B%22%2F%3E%3Cg%20class%3D%22scrollbox%22%20transform%3D%22%22%20clip-path%3D%22url('%23legend518c82')%22%3E%3Cg%20class%3D%22groups%22%3E%3Cg%20class%3D%22traces%22%20transform%3D%22translate(0%2C14.5)%22%20style%3D%22opacity%3A%201%3B%22%3E%3Ctext%20class%3D%22legendtext%22%20text-anchor%3D%22start%22%20x%3D%2240%22%20y%3D%224.680000000000001%22%20data-unformatted%3D%22No%22%20data-math%3D%22N%22%20style%3D%22font-family%3A%20%26quot%3BOpen%20Sans%26quot%3B%2C%20verdana%2C%20arial%2C%20sans-serif%3B%20font-size%3A%2012px%3B%20fill%3A%20rgb(89%2C%2089%2C%2089)%3B%20fill-opacity%3A%201%3B%20white-space%3A%20pre%3B%22%3ENo%3C%2Ftext%3E%3Cg%20class%3D%22layers%22%20style%3D%22opacity%3A%201%3B%22%3E%3Cg%20class%3D%22legendfill%22%2F%3E%3Cg%20class%3D%22legendlines%22%2F%3E%3Cg%20class%3D%22legendsymbols%22%3E%3Cg%20class%3D%22legendpoints%22%3E%3Cpath%20class%3D%22legendpie%22%20d%3D%22M6%2C6H-6V-6H6Z%22%20transform%3D%22translate(20%2C0)%22%20style%3D%22stroke-width%3A%200%3B%20fill%3A%20rgb(78%2C%20121%2C%20167)%3B%20fill-opacity%3A%201%3B%20stroke%3A%20rgb(68%2C%2068%2C%2068)%3B%20stroke-opacity%3A%201%3B%22%2F%3E%3C%2Fg%3E%3C%2Fg%3E%3C%2Fg%3E%3Crect%20class%3D%22legendtoggle%22%20pointer-events%3D%22all%22%20x%3D%220%22%20y%3D%22-9.5%22%20width%3D%2261.76953125%22%20height%3D%2219%22%20style%3D%22cursor%3A%20pointer%3B%20fill%3A%20rgb(0%2C%200%2C%200)%3B%20fill-opacity%3A%200%3B%22%2F%3E%3C%2Fg%3E%3Cg%20class%3D%22traces%22%20transform%3D%22translate(0%2C33.5)%22%20style%3D%22opacity%3A%201%3B%22%3E%3Ctext%20class%3D%22legendtext%22%20text-anchor%3D%22start%22%20x%3D%2240%22%20y%3D%224.680000000000001%22%20data-unformatted%3D%22Yes%22%20data-math%3D%22N%22%20style%3D%22font-family%3A%20%26quot%3BOpen%20Sans%26quot%3B%2C%20verdana%2C%20arial%2C%20sans-serif%3B%20font-size%3A%2012px%3B%20fill%3A%20rgb(89%2C%2089%2C%2089)%3B%20fill-opacity%3A%201%3B%20white-space%3A%20pre%3B%22%3EYes%3C%2Ftext%3E%3Cg%20class%3D%22layers%22%20style%3D%22opacity%3A%201%3B%22%3E%3Cg%20class%3D%22legendfill%22%2F%3E%3Cg%20class%3D%22legendlines%22%2F%3E%3Cg%20class%3D%22legendsymbols%22%3E%3Cg%20class%3D%22legendpoints%22%3E%3Cpath%20class%3D%22legendpie%22%20d%3D%22M6%2C6H-6V-6H6Z%22%20transform%3D%22translate(20%2C0)%22%20style%3D%22stroke-width%3A%200%3B%20fill%3A%20rgb(242%2C%20142%2C%2044)%3B%20fill-opacity%3A%201%3B%20stroke%3A%20rgb(68%2C%2068%2C%2068)%3B%20stroke-opacity%3A%201%3B%22%2F%3E%3C%2Fg%3E%3C%2Fg%3E%3C%2Fg%3E%3Crect%20class%3D%22legendtoggle%22%20pointer-events%3D%22all%22%20x%3D%220%22%20y%3D%22-9.5%22%20width%3D%2261.76953125%22%20height%3D%2219%22%20style%3D%22cursor%3A%20pointer%3B%20fill%3A%20rgb(0%2C%200%2C%200)%3B%20fill-opacity%3A%200%3B%22%2F%3E%3C%2Fg%3E%3C%2Fg%3E%3C%2Fg%3E%3Crect%20class%3D%22scrollbar%22%20rx%3D%2220%22%20ry%3D%223%22%20width%3D%220%22%20height%3D%220%22%20x%3D%220%22%20y%3D%220%22%20style%3D%22fill%3A%20rgb(128%2C%20139%2C%20164)%3B%20fill-opacity%3A%201%3B%22%2F%3E%3C%2Fg%3E%3Cg%20class%3D%22g-gtitle%22%2F%3E%3C%2Fg%3E%3Cg%20class%3D%22menulayer%22%2F%3E%3Cg%20class%3D%22zoomlayer%22%2F%3E%3Cg%20class%3D%22hoverlayer%22%2F%3E%3C%2Fsvg%3E\">"
      ],
      "text/plain": [
       "Open the notebook in JupyterLab with the Atoti extension enabled to build this widget."
      ]
     },
     "metadata": {},
     "output_type": "display_data"
    }
   ],
   "source": [
    "session.visualize(\"Percentage customers churned last month\")"
   ]
  },
  {
   "cell_type": "markdown",
   "metadata": {},
   "source": [
    "We see that more than 25% customers churned last month. The telco would have lose all its customers in the few coming months if this attrition rate keeps up.  \n",
    "  \n",
    "The below shows the actual churn vs the false positive predicted by each model. SVM Classifier has the most correct churn prediction but also the most number of false churn prediction.  "
   ]
  },
  {
   "cell_type": "code",
   "execution_count": 29,
   "metadata": {
    "atoti": {
     "widget": {
      "filters": [
       "[Customer].[ChurnPredicted].[AllMember].[Yes]"
      ],
      "mapping": {
       "horizontalSubplots": [],
       "splitBy": [
        "ALL_MEASURES",
        "[Customer].[Churn].[Churn]"
       ],
       "values": [
        "[Measures].[contributors.COUNT]"
       ],
       "verticalSubplots": [],
       "xAxis": [
        "[Epoch].[Epoch].[Branch]"
       ]
      },
      "query": {
       "mdx": "SELECT NON EMPTY Crossjoin({[Measures].[contributors.COUNT]}, Hierarchize(Descendants({[Customer].[Churn].[AllMember]}, 1, SELF_AND_BEFORE))) ON COLUMNS, NON EMPTY Order([Epoch].[Epoch].[Branch].Members, [Measures].[contributors.COUNT], BASC) ON ROWS FROM [customer_cube]",
       "updateMode": "once"
      },
      "serverKey": "default",
      "widgetKey": "plotly-clustered-column-chart"
     }
    }
   },
   "outputs": [
    {
     "data": {
      "application/vnd.atoti.widget.v0+json": {
       "name": "Churn prediction comparison",
       "sessionId": "1685413173_PPEYJT",
       "sessionLocation": {
        "https": false,
        "port": 58900
       },
       "widgetCreationCode": "session.visualize()"
      },
      "text/html": [
       "<img src=\"data:image/svg+xml;charset=utf8,%3C%3Fxml%20version%3D%221.0%22%20standalone%3D%22no%22%3F%3E%3Csvg%20xmlns%3D%22http%3A%2F%2Fwww.w3.org%2F2000%2Fsvg%22%20xmlns%3Axlink%3D%22http%3A%2F%2Fwww.w3.org%2F1999%2Fxlink%22%20height%3D%22352%22%20width%3D%221342%22%20viewBox%3D%220%200%201342%20352%22%3E%3Cdefs%20id%3D%22defs-615984%22%3E%3Cg%20class%3D%22clips%22%3E%3CclipPath%20id%3D%22clip615984xyplot%22%20class%3D%22plotclip%22%3E%3Crect%20width%3D%221172%22%20height%3D%22282%22%2F%3E%3C%2FclipPath%3E%3CclipPath%20class%3D%22axesclip%22%20id%3D%22clip615984x%22%3E%3Crect%20x%3D%2280%22%20y%3D%220%22%20width%3D%221172%22%20height%3D%22352%22%2F%3E%3C%2FclipPath%3E%3CclipPath%20class%3D%22axesclip%22%20id%3D%22clip615984y%22%3E%3Crect%20x%3D%220%22%20y%3D%2230%22%20width%3D%221342%22%20height%3D%22282%22%2F%3E%3C%2FclipPath%3E%3CclipPath%20class%3D%22axesclip%22%20id%3D%22clip615984xy%22%3E%3Crect%20x%3D%2280%22%20y%3D%2230%22%20width%3D%221172%22%20height%3D%22282%22%2F%3E%3C%2FclipPath%3E%3C%2Fg%3E%3Cg%20class%3D%22gradients%22%2F%3E%3C%2Fdefs%3E%3Cg%20class%3D%22bglayer%22%2F%3E%3Cg%20class%3D%22draglayer%20cursor-crosshair%22%3E%3Cg%20class%3D%22xy%22%3E%3Crect%20class%3D%22nsewdrag%20drag%22%20data-subplot%3D%22xy%22%20x%3D%2280%22%20y%3D%2230%22%20width%3D%221172%22%20height%3D%22282%22%20style%3D%22fill%3A%20transparent%3B%20stroke-width%3A%200%3B%20pointer-events%3A%20all%3B%22%2F%3E%3Crect%20class%3D%22nwdrag%20drag%20cursor-nw-resize%22%20data-subplot%3D%22xy%22%20x%3D%2260%22%20y%3D%2210%22%20width%3D%2220%22%20height%3D%2220%22%20style%3D%22fill%3A%20transparent%3B%20stroke-width%3A%200%3B%20pointer-events%3A%20all%3B%22%2F%3E%3Crect%20class%3D%22nedrag%20drag%20cursor-ne-resize%22%20data-subplot%3D%22xy%22%20x%3D%221252%22%20y%3D%2210%22%20width%3D%2220%22%20height%3D%2220%22%20style%3D%22fill%3A%20transparent%3B%20stroke-width%3A%200%3B%20pointer-events%3A%20all%3B%22%2F%3E%3Crect%20class%3D%22swdrag%20drag%20cursor-sw-resize%22%20data-subplot%3D%22xy%22%20x%3D%2260%22%20y%3D%22312%22%20width%3D%2220%22%20height%3D%2220%22%20style%3D%22fill%3A%20transparent%3B%20stroke-width%3A%200%3B%20pointer-events%3A%20all%3B%22%2F%3E%3Crect%20class%3D%22sedrag%20drag%20cursor-se-resize%22%20data-subplot%3D%22xy%22%20x%3D%221252%22%20y%3D%22312%22%20width%3D%2220%22%20height%3D%2220%22%20style%3D%22fill%3A%20transparent%3B%20stroke-width%3A%200%3B%20pointer-events%3A%20all%3B%22%2F%3E%3Crect%20class%3D%22ewdrag%20drag%20cursor-ew-resize%22%20data-subplot%3D%22xy%22%20x%3D%22197.2%22%20y%3D%22312.5%22%20width%3D%22937.6%22%20height%3D%2220%22%20style%3D%22fill%3A%20transparent%3B%20stroke-width%3A%200%3B%20pointer-events%3A%20all%3B%22%2F%3E%3Crect%20class%3D%22wdrag%20drag%20cursor-w-resize%22%20data-subplot%3D%22xy%22%20x%3D%2280%22%20y%3D%22312.5%22%20width%3D%22117.2%22%20height%3D%2220%22%20style%3D%22fill%3A%20transparent%3B%20stroke-width%3A%200%3B%20pointer-events%3A%20all%3B%22%2F%3E%3Crect%20class%3D%22edrag%20drag%20cursor-e-resize%22%20data-subplot%3D%22xy%22%20x%3D%221134.8%22%20y%3D%22312.5%22%20width%3D%22117.2%22%20height%3D%2220%22%20style%3D%22fill%3A%20transparent%3B%20stroke-width%3A%200%3B%20pointer-events%3A%20all%3B%22%2F%3E%3Crect%20class%3D%22nsdrag%20drag%20cursor-ns-resize%22%20data-subplot%3D%22xy%22%20x%3D%2259.5%22%20y%3D%2258.2%22%20width%3D%2220%22%20height%3D%22225.60000000000002%22%20style%3D%22fill%3A%20transparent%3B%20stroke-width%3A%200%3B%20pointer-events%3A%20all%3B%22%2F%3E%3Crect%20class%3D%22sdrag%20drag%20cursor-s-resize%22%20data-subplot%3D%22xy%22%20x%3D%2259.5%22%20y%3D%22283.8%22%20width%3D%2220%22%20height%3D%2228.200000000000003%22%20style%3D%22fill%3A%20transparent%3B%20stroke-width%3A%200%3B%20pointer-events%3A%20all%3B%22%2F%3E%3Crect%20class%3D%22ndrag%20drag%20cursor-n-resize%22%20data-subplot%3D%22xy%22%20x%3D%2259.5%22%20y%3D%2230%22%20width%3D%2220%22%20height%3D%2228.200000000000003%22%20style%3D%22fill%3A%20transparent%3B%20stroke-width%3A%200%3B%20pointer-events%3A%20all%3B%22%2F%3E%3C%2Fg%3E%3C%2Fg%3E%3Cg%20class%3D%22layer-below%22%3E%3Cg%20class%3D%22imagelayer%22%2F%3E%3Cg%20class%3D%22shapelayer%22%2F%3E%3C%2Fg%3E%3Cg%20class%3D%22cartesianlayer%22%3E%3Cg%20class%3D%22subplot%20xy%22%3E%3Cg%20class%3D%22layer-subplot%22%3E%3Cg%20class%3D%22shapelayer%22%2F%3E%3Cg%20class%3D%22imagelayer%22%2F%3E%3C%2Fg%3E%3Cg%20class%3D%22gridlayer%22%3E%3Cg%20class%3D%22x%22%3E%3Cpath%20class%3D%22xgrid%20crisp%22%20transform%3D%22translate(197.2%2C0)%22%20d%3D%22M0%2C30v282%22%20style%3D%22stroke%3A%20rgb(0%2C%200%2C%200)%3B%20stroke-opacity%3A%200%3B%20stroke-width%3A%201px%3B%22%2F%3E%3Cpath%20class%3D%22xgrid%20crisp%22%20transform%3D%22translate(431.6%2C0)%22%20d%3D%22M0%2C30v282%22%20style%3D%22stroke%3A%20rgb(0%2C%200%2C%200)%3B%20stroke-opacity%3A%200%3B%20stroke-width%3A%201px%3B%22%2F%3E%3Cpath%20class%3D%22xgrid%20crisp%22%20transform%3D%22translate(666%2C0)%22%20d%3D%22M0%2C30v282%22%20style%3D%22stroke%3A%20rgb(0%2C%200%2C%200)%3B%20stroke-opacity%3A%200%3B%20stroke-width%3A%201px%3B%22%2F%3E%3Cpath%20class%3D%22xgrid%20crisp%22%20transform%3D%22translate(900.4%2C0)%22%20d%3D%22M0%2C30v282%22%20style%3D%22stroke%3A%20rgb(0%2C%200%2C%200)%3B%20stroke-opacity%3A%200%3B%20stroke-width%3A%201px%3B%22%2F%3E%3Cpath%20class%3D%22xgrid%20crisp%22%20transform%3D%22translate(1134.8%2C0)%22%20d%3D%22M0%2C30v282%22%20style%3D%22stroke%3A%20rgb(0%2C%200%2C%200)%3B%20stroke-opacity%3A%200%3B%20stroke-width%3A%201px%3B%22%2F%3E%3C%2Fg%3E%3Cg%20class%3D%22y%22%3E%3Cpath%20class%3D%22ygrid%20crisp%22%20transform%3D%22translate(0%2C260.4)%22%20d%3D%22M80%2C0h1172%22%20style%3D%22stroke%3A%20rgb(89%2C%2089%2C%2089)%3B%20stroke-opacity%3A%200.25%3B%20stroke-width%3A%201px%3B%22%2F%3E%3Cpath%20class%3D%22ygrid%20crisp%22%20transform%3D%22translate(0%2C208.8)%22%20d%3D%22M80%2C0h1172%22%20style%3D%22stroke%3A%20rgb(89%2C%2089%2C%2089)%3B%20stroke-opacity%3A%200.25%3B%20stroke-width%3A%201px%3B%22%2F%3E%3Cpath%20class%3D%22ygrid%20crisp%22%20transform%3D%22translate(0%2C157.2)%22%20d%3D%22M80%2C0h1172%22%20style%3D%22stroke%3A%20rgb(89%2C%2089%2C%2089)%3B%20stroke-opacity%3A%200.25%3B%20stroke-width%3A%201px%3B%22%2F%3E%3Cpath%20class%3D%22ygrid%20crisp%22%20transform%3D%22translate(0%2C105.61)%22%20d%3D%22M80%2C0h1172%22%20style%3D%22stroke%3A%20rgb(89%2C%2089%2C%2089)%3B%20stroke-opacity%3A%200.25%3B%20stroke-width%3A%201px%3B%22%2F%3E%3Cpath%20class%3D%22ygrid%20crisp%22%20transform%3D%22translate(0%2C54.010000000000005)%22%20d%3D%22M80%2C0h1172%22%20style%3D%22stroke%3A%20rgb(89%2C%2089%2C%2089)%3B%20stroke-opacity%3A%200.25%3B%20stroke-width%3A%201px%3B%22%2F%3E%3C%2Fg%3E%3C%2Fg%3E%3Cg%20class%3D%22zerolinelayer%22%3E%3Cpath%20class%3D%22yzl%20zl%20crisp%22%20transform%3D%22translate(0%2C312)%22%20d%3D%22M80%2C0h1172%22%20style%3D%22stroke%3A%20rgb(89%2C%2089%2C%2089)%3B%20stroke-opacity%3A%200.5%3B%20stroke-width%3A%201px%3B%22%2F%3E%3C%2Fg%3E%3Cpath%20class%3D%22xlines-below%22%2F%3E%3Cpath%20class%3D%22ylines-below%22%2F%3E%3Cg%20class%3D%22overlines-below%22%2F%3E%3Cg%20class%3D%22xaxislayer-below%22%2F%3E%3Cg%20class%3D%22yaxislayer-below%22%2F%3E%3Cg%20class%3D%22overaxes-below%22%2F%3E%3Cg%20class%3D%22plot%22%20transform%3D%22translate(80%2C30)%22%20clip-path%3D%22url('%23clip615984xyplot')%22%3E%3Cg%20class%3D%22barlayer%20mlayer%22%3E%3Cg%20class%3D%22trace%20bars%22%20style%3D%22opacity%3A%201%3B%22%3E%3Cg%20class%3D%22points%22%3E%3Cg%20class%3D%22point%22%3E%3Cpath%20d%3D%22M23.44%2C282V213.58H117.2V282Z%22%20style%3D%22vector-effect%3A%20non-scaling-stroke%3B%20opacity%3A%201%3B%20stroke-width%3A%200px%3B%20fill%3A%20rgb(78%2C%20121%2C%20167)%3B%20fill-opacity%3A%201%3B%22%2F%3E%3C%2Fg%3E%3Cg%20class%3D%22point%22%3E%3Cpath%20d%3D%22M257.84%2C282V282H351.6V282Z%22%20style%3D%22vector-effect%3A%20non-scaling-stroke%3B%20opacity%3A%201%3B%20stroke-width%3A%200px%3B%20fill%3A%20rgb(78%2C%20121%2C%20167)%3B%20fill-opacity%3A%201%3B%22%2F%3E%3C%2Fg%3E%3Cg%20class%3D%22point%22%3E%3Cpath%20d%3D%22M492.24%2C282V206.25H586V282Z%22%20style%3D%22vector-effect%3A%20non-scaling-stroke%3B%20opacity%3A%201%3B%20stroke-width%3A%200px%3B%20fill%3A%20rgb(78%2C%20121%2C%20167)%3B%20fill-opacity%3A%201%3B%22%2F%3E%3C%2Fg%3E%3Cg%20class%3D%22point%22%3E%3Cpath%20d%3D%22M726.64%2C282V149.91H820.4V282Z%22%20style%3D%22vector-effect%3A%20non-scaling-stroke%3B%20opacity%3A%201%3B%20stroke-width%3A%200px%3B%20fill%3A%20rgb(78%2C%20121%2C%20167)%3B%20fill-opacity%3A%201%3B%22%2F%3E%3C%2Fg%3E%3Cg%20class%3D%22point%22%3E%3Cpath%20d%3D%22M961.04%2C282V14.1H1054.8V282Z%22%20style%3D%22vector-effect%3A%20non-scaling-stroke%3B%20opacity%3A%201%3B%20stroke-width%3A%200px%3B%20fill%3A%20rgb(78%2C%20121%2C%20167)%3B%20fill-opacity%3A%201%3B%22%2F%3E%3C%2Fg%3E%3C%2Fg%3E%3C%2Fg%3E%3Cg%20class%3D%22trace%20bars%22%20style%3D%22opacity%3A%201%3B%22%3E%3Cg%20class%3D%22points%22%3E%3Cg%20class%3D%22point%22%3E%3Cpath%20d%3D%22M117.2%2C282V170.65H210.96V282Z%22%20style%3D%22vector-effect%3A%20non-scaling-stroke%3B%20opacity%3A%201%3B%20stroke-width%3A%200px%3B%20fill%3A%20rgb(242%2C%20142%2C%2044)%3B%20fill-opacity%3A%201%3B%22%2F%3E%3C%2Fg%3E%3Cg%20class%3D%22point%22%3E%3Cpath%20d%3D%22M351.6%2C282V89.12H445.36V282Z%22%20style%3D%22vector-effect%3A%20non-scaling-stroke%3B%20opacity%3A%201%3B%20stroke-width%3A%200px%3B%20fill%3A%20rgb(242%2C%20142%2C%2044)%3B%20fill-opacity%3A%201%3B%22%2F%3E%3C%2Fg%3E%3Cg%20class%3D%22point%22%3E%3Cpath%20d%3D%22M586%2C282V162.81H679.76V282Z%22%20style%3D%22vector-effect%3A%20non-scaling-stroke%3B%20opacity%3A%201%3B%20stroke-width%3A%200px%3B%20fill%3A%20rgb(242%2C%20142%2C%2044)%3B%20fill-opacity%3A%201%3B%22%2F%3E%3C%2Fg%3E%3Cg%20class%3D%22point%22%3E%3Cpath%20d%3D%22M820.4%2C282V132.26H914.16V282Z%22%20style%3D%22vector-effect%3A%20non-scaling-stroke%3B%20opacity%3A%201%3B%20stroke-width%3A%200px%3B%20fill%3A%20rgb(242%2C%20142%2C%2044)%3B%20fill-opacity%3A%201%3B%22%2F%3E%3C%2Fg%3E%3Cg%20class%3D%22point%22%3E%3Cpath%20d%3D%22M1054.8%2C282V188.19H1148.56V282Z%22%20style%3D%22vector-effect%3A%20non-scaling-stroke%3B%20opacity%3A%201%3B%20stroke-width%3A%200px%3B%20fill%3A%20rgb(242%2C%20142%2C%2044)%3B%20fill-opacity%3A%201%3B%22%2F%3E%3C%2Fg%3E%3C%2Fg%3E%3C%2Fg%3E%3C%2Fg%3E%3C%2Fg%3E%3Cg%20class%3D%22overplot%22%2F%3E%3Cpath%20class%3D%22xlines-above%20crisp%22%20d%3D%22M79%2C312.5H1252%22%20style%3D%22fill%3A%20none%3B%20stroke-width%3A%201px%3B%20stroke%3A%20rgb(89%2C%2089%2C%2089)%3B%20stroke-opacity%3A%200.25%3B%22%2F%3E%3Cpath%20class%3D%22ylines-above%20crisp%22%20d%3D%22M79.5%2C30V312%22%20style%3D%22fill%3A%20none%3B%20stroke-width%3A%201px%3B%20stroke%3A%20rgb(89%2C%2089%2C%2089)%3B%20stroke-opacity%3A%200.25%3B%22%2F%3E%3Cg%20class%3D%22overlines-above%22%2F%3E%3Cg%20class%3D%22xaxislayer-above%22%3E%3Cg%20class%3D%22xtick%22%3E%3Ctext%20text-anchor%3D%22middle%22%20x%3D%220%22%20y%3D%22327.4%22%20data-unformatted%3D%22Naive%20Bayes%20Classifier%22%20data-math%3D%22N%22%20transform%3D%22translate(197.2%2C0)%22%20style%3D%22font-family%3A%20%26quot%3BOpen%20Sans%26quot%3B%2C%20verdana%2C%20arial%2C%20sans-serif%3B%20font-size%3A%2012px%3B%20fill%3A%20rgb(89%2C%2089%2C%2089)%3B%20fill-opacity%3A%201%3B%20white-space%3A%20pre%3B%22%3ENaive%20Bayes%20Classifier%3C%2Ftext%3E%3C%2Fg%3E%3Cg%20class%3D%22xtick%22%3E%3Ctext%20text-anchor%3D%22middle%22%20x%3D%220%22%20y%3D%22327.4%22%20data-unformatted%3D%22Base%22%20data-math%3D%22N%22%20transform%3D%22translate(431.6%2C0)%22%20style%3D%22font-family%3A%20%26quot%3BOpen%20Sans%26quot%3B%2C%20verdana%2C%20arial%2C%20sans-serif%3B%20font-size%3A%2012px%3B%20fill%3A%20rgb(89%2C%2089%2C%2089)%3B%20fill-opacity%3A%201%3B%20white-space%3A%20pre%3B%22%3EBase%3C%2Ftext%3E%3C%2Fg%3E%3Cg%20class%3D%22xtick%22%3E%3Ctext%20text-anchor%3D%22middle%22%20x%3D%220%22%20y%3D%22327.4%22%20data-unformatted%3D%22Logistic%20Regression%20Classifier%22%20data-math%3D%22N%22%20transform%3D%22translate(666%2C0)%22%20style%3D%22font-family%3A%20%26quot%3BOpen%20Sans%26quot%3B%2C%20verdana%2C%20arial%2C%20sans-serif%3B%20font-size%3A%2012px%3B%20fill%3A%20rgb(89%2C%2089%2C%2089)%3B%20fill-opacity%3A%201%3B%20white-space%3A%20pre%3B%22%3ELogistic%20Regression%20Classifier%3C%2Ftext%3E%3C%2Fg%3E%3Cg%20class%3D%22xtick%22%3E%3Ctext%20text-anchor%3D%22middle%22%20x%3D%220%22%20y%3D%22327.4%22%20data-unformatted%3D%22SVM%20Classifier%22%20data-math%3D%22N%22%20transform%3D%22translate(900.4%2C0)%22%20style%3D%22font-family%3A%20%26quot%3BOpen%20Sans%26quot%3B%2C%20verdana%2C%20arial%2C%20sans-serif%3B%20font-size%3A%2012px%3B%20fill%3A%20rgb(89%2C%2089%2C%2089)%3B%20fill-opacity%3A%201%3B%20white-space%3A%20pre%3B%22%3ESVM%20Classifier%3C%2Ftext%3E%3C%2Fg%3E%3Cg%20class%3D%22xtick%22%3E%3Ctext%20text-anchor%3D%22middle%22%20x%3D%220%22%20y%3D%22327.4%22%20data-unformatted%3D%22Dummy%20Uniform%20Classifier%22%20data-math%3D%22N%22%20transform%3D%22translate(1134.8%2C0)%22%20style%3D%22font-family%3A%20%26quot%3BOpen%20Sans%26quot%3B%2C%20verdana%2C%20arial%2C%20sans-serif%3B%20font-size%3A%2012px%3B%20fill%3A%20rgb(89%2C%2089%2C%2089)%3B%20fill-opacity%3A%201%3B%20white-space%3A%20pre%3B%22%3EDummy%20Uniform%20Classifier%3C%2Ftext%3E%3C%2Fg%3E%3C%2Fg%3E%3Cg%20class%3D%22yaxislayer-above%22%3E%3Cg%20class%3D%22ytick%22%3E%3Ctext%20text-anchor%3D%22end%22%20x%3D%2276.6%22%20y%3D%224.199999999999999%22%20data-unformatted%3D%220%22%20data-math%3D%22N%22%20transform%3D%22translate(0%2C312)%22%20style%3D%22font-family%3A%20%26quot%3BOpen%20Sans%26quot%3B%2C%20verdana%2C%20arial%2C%20sans-serif%3B%20font-size%3A%2012px%3B%20fill%3A%20rgb(89%2C%2089%2C%2089)%3B%20fill-opacity%3A%201%3B%20white-space%3A%20pre%3B%22%3E0%3C%2Ftext%3E%3C%2Fg%3E%3Cg%20class%3D%22ytick%22%3E%3Ctext%20text-anchor%3D%22end%22%20x%3D%2276.6%22%20y%3D%224.199999999999999%22%20data-unformatted%3D%22500%22%20data-math%3D%22N%22%20transform%3D%22translate(0%2C260.4)%22%20style%3D%22font-family%3A%20%26quot%3BOpen%20Sans%26quot%3B%2C%20verdana%2C%20arial%2C%20sans-serif%3B%20font-size%3A%2012px%3B%20fill%3A%20rgb(89%2C%2089%2C%2089)%3B%20fill-opacity%3A%201%3B%20white-space%3A%20pre%3B%22%3E500%3C%2Ftext%3E%3C%2Fg%3E%3Cg%20class%3D%22ytick%22%3E%3Ctext%20text-anchor%3D%22end%22%20x%3D%2276.6%22%20y%3D%224.199999999999999%22%20data-unformatted%3D%221000%22%20data-math%3D%22N%22%20transform%3D%22translate(0%2C208.8)%22%20style%3D%22font-family%3A%20%26quot%3BOpen%20Sans%26quot%3B%2C%20verdana%2C%20arial%2C%20sans-serif%3B%20font-size%3A%2012px%3B%20fill%3A%20rgb(89%2C%2089%2C%2089)%3B%20fill-opacity%3A%201%3B%20white-space%3A%20pre%3B%22%3E1000%3C%2Ftext%3E%3C%2Fg%3E%3Cg%20class%3D%22ytick%22%3E%3Ctext%20text-anchor%3D%22end%22%20x%3D%2276.6%22%20y%3D%224.199999999999999%22%20data-unformatted%3D%221500%22%20data-math%3D%22N%22%20transform%3D%22translate(0%2C157.2)%22%20style%3D%22font-family%3A%20%26quot%3BOpen%20Sans%26quot%3B%2C%20verdana%2C%20arial%2C%20sans-serif%3B%20font-size%3A%2012px%3B%20fill%3A%20rgb(89%2C%2089%2C%2089)%3B%20fill-opacity%3A%201%3B%20white-space%3A%20pre%3B%22%3E1500%3C%2Ftext%3E%3C%2Fg%3E%3Cg%20class%3D%22ytick%22%3E%3Ctext%20text-anchor%3D%22end%22%20x%3D%2276.6%22%20y%3D%224.199999999999999%22%20data-unformatted%3D%222000%22%20data-math%3D%22N%22%20transform%3D%22translate(0%2C105.61)%22%20style%3D%22font-family%3A%20%26quot%3BOpen%20Sans%26quot%3B%2C%20verdana%2C%20arial%2C%20sans-serif%3B%20font-size%3A%2012px%3B%20fill%3A%20rgb(89%2C%2089%2C%2089)%3B%20fill-opacity%3A%201%3B%20white-space%3A%20pre%3B%22%3E2000%3C%2Ftext%3E%3C%2Fg%3E%3Cg%20class%3D%22ytick%22%3E%3Ctext%20text-anchor%3D%22end%22%20x%3D%2276.6%22%20y%3D%224.199999999999999%22%20data-unformatted%3D%222500%22%20data-math%3D%22N%22%20transform%3D%22translate(0%2C54.010000000000005)%22%20style%3D%22font-family%3A%20%26quot%3BOpen%20Sans%26quot%3B%2C%20verdana%2C%20arial%2C%20sans-serif%3B%20font-size%3A%2012px%3B%20fill%3A%20rgb(89%2C%2089%2C%2089)%3B%20fill-opacity%3A%201%3B%20white-space%3A%20pre%3B%22%3E2500%3C%2Ftext%3E%3C%2Fg%3E%3C%2Fg%3E%3Cg%20class%3D%22overaxes-above%22%2F%3E%3C%2Fg%3E%3C%2Fg%3E%3Cg%20class%3D%22polarlayer%22%2F%3E%3Cg%20class%3D%22ternarylayer%22%2F%3E%3Cg%20class%3D%22geolayer%22%2F%3E%3Cg%20class%3D%22funnelarealayer%22%2F%3E%3Cg%20class%3D%22pielayer%22%2F%3E%3Cg%20class%3D%22treemaplayer%22%2F%3E%3Cg%20class%3D%22sunburstlayer%22%2F%3E%3Cg%20class%3D%22glimages%22%2F%3E%3Cdefs%20id%3D%22topdefs-615984%22%3E%3Cg%20class%3D%22clips%22%2F%3E%3CclipPath%20id%3D%22legend615984%22%3E%3Crect%20width%3D%2267%22%20height%3D%2258%22%20x%3D%220%22%20y%3D%220%22%2F%3E%3C%2FclipPath%3E%3C%2Fdefs%3E%3Cg%20class%3D%22indicatorlayer%22%2F%3E%3Cg%20class%3D%22layer-above%22%3E%3Cg%20class%3D%22imagelayer%22%2F%3E%3Cg%20class%3D%22shapelayer%22%2F%3E%3C%2Fg%3E%3Cg%20class%3D%22infolayer%22%3E%3Cg%20class%3D%22legend%22%20pointer-events%3D%22all%22%20transform%3D%22translate(1275%2C30)%22%3E%3Crect%20class%3D%22bg%22%20shape-rendering%3D%22crispEdges%22%20width%3D%2267%22%20height%3D%2258%22%20x%3D%220%22%20y%3D%220%22%20style%3D%22stroke%3A%20rgb(68%2C%2068%2C%2068)%3B%20stroke-opacity%3A%201%3B%20fill%3A%20rgb(255%2C%20255%2C%20255)%3B%20fill-opacity%3A%201%3B%20stroke-width%3A%200px%3B%22%2F%3E%3Cg%20class%3D%22scrollbox%22%20transform%3D%22%22%20clip-path%3D%22url('%23legend615984')%22%3E%3Cg%20class%3D%22groups%22%20transform%3D%22%22%3E%3Cg%20class%3D%22traces%22%20transform%3D%22translate(0%2C14.5)%22%20style%3D%22opacity%3A%201%3B%22%3E%3Ctext%20class%3D%22legendtext%22%20text-anchor%3D%22start%22%20x%3D%2240%22%20y%3D%224.680000000000001%22%20data-unformatted%3D%22No%22%20data-math%3D%22N%22%20style%3D%22font-family%3A%20%26quot%3BOpen%20Sans%26quot%3B%2C%20verdana%2C%20arial%2C%20sans-serif%3B%20font-size%3A%2012px%3B%20fill%3A%20rgb(89%2C%2089%2C%2089)%3B%20fill-opacity%3A%201%3B%20white-space%3A%20pre%3B%22%3ENo%3C%2Ftext%3E%3Cg%20class%3D%22layers%22%20style%3D%22opacity%3A%201%3B%22%3E%3Cg%20class%3D%22legendfill%22%2F%3E%3Cg%20class%3D%22legendlines%22%2F%3E%3Cg%20class%3D%22legendsymbols%22%3E%3Cg%20class%3D%22legendpoints%22%3E%3Cpath%20class%3D%22legendundefined%22%20d%3D%22M6%2C6H-6V-6H6Z%22%20transform%3D%22translate(20%2C0)%22%20style%3D%22stroke-width%3A%200px%3B%20fill%3A%20rgb(78%2C%20121%2C%20167)%3B%20fill-opacity%3A%201%3B%22%2F%3E%3C%2Fg%3E%3C%2Fg%3E%3C%2Fg%3E%3Crect%20class%3D%22legendtoggle%22%20pointer-events%3D%22all%22%20x%3D%220%22%20y%3D%22-9.5%22%20width%3D%2261.76953125%22%20height%3D%2219%22%20style%3D%22cursor%3A%20pointer%3B%20fill%3A%20rgb(0%2C%200%2C%200)%3B%20fill-opacity%3A%200%3B%22%2F%3E%3C%2Fg%3E%3C%2Fg%3E%3Cg%20class%3D%22groups%22%20transform%3D%22translate(0%2C10)%22%3E%3Cg%20class%3D%22traces%22%20transform%3D%22translate(0%2C33.5)%22%20style%3D%22opacity%3A%201%3B%22%3E%3Ctext%20class%3D%22legendtext%22%20text-anchor%3D%22start%22%20x%3D%2240%22%20y%3D%224.680000000000001%22%20data-unformatted%3D%22Yes%22%20data-math%3D%22N%22%20style%3D%22font-family%3A%20%26quot%3BOpen%20Sans%26quot%3B%2C%20verdana%2C%20arial%2C%20sans-serif%3B%20font-size%3A%2012px%3B%20fill%3A%20rgb(89%2C%2089%2C%2089)%3B%20fill-opacity%3A%201%3B%20white-space%3A%20pre%3B%22%3EYes%3C%2Ftext%3E%3Cg%20class%3D%22layers%22%20style%3D%22opacity%3A%201%3B%22%3E%3Cg%20class%3D%22legendfill%22%2F%3E%3Cg%20class%3D%22legendlines%22%2F%3E%3Cg%20class%3D%22legendsymbols%22%3E%3Cg%20class%3D%22legendpoints%22%3E%3Cpath%20class%3D%22legendundefined%22%20d%3D%22M6%2C6H-6V-6H6Z%22%20transform%3D%22translate(20%2C0)%22%20style%3D%22stroke-width%3A%200px%3B%20fill%3A%20rgb(242%2C%20142%2C%2044)%3B%20fill-opacity%3A%201%3B%22%2F%3E%3C%2Fg%3E%3C%2Fg%3E%3C%2Fg%3E%3Crect%20class%3D%22legendtoggle%22%20pointer-events%3D%22all%22%20x%3D%220%22%20y%3D%22-9.5%22%20width%3D%2261.76953125%22%20height%3D%2219%22%20style%3D%22cursor%3A%20pointer%3B%20fill%3A%20rgb(0%2C%200%2C%200)%3B%20fill-opacity%3A%200%3B%22%2F%3E%3C%2Fg%3E%3C%2Fg%3E%3C%2Fg%3E%3Crect%20class%3D%22scrollbar%22%20rx%3D%2220%22%20ry%3D%223%22%20width%3D%220%22%20height%3D%220%22%20x%3D%220%22%20y%3D%220%22%20style%3D%22fill%3A%20rgb(128%2C%20139%2C%20164)%3B%20fill-opacity%3A%201%3B%22%2F%3E%3C%2Fg%3E%3Cg%20class%3D%22g-gtitle%22%2F%3E%3Cg%20class%3D%22g-xtitle%22%2F%3E%3Cg%20class%3D%22g-ytitle%22%2F%3E%3C%2Fg%3E%3Cg%20class%3D%22menulayer%22%2F%3E%3Cg%20class%3D%22zoomlayer%22%2F%3E%3Cg%20class%3D%22hoverlayer%22%2F%3E%3C%2Fsvg%3E\">"
      ],
      "text/plain": [
       "Open the notebook in JupyterLab with the Atoti extension enabled to build this widget."
      ]
     },
     "metadata": {},
     "output_type": "display_data"
    }
   ],
   "source": [
    "session.visualize(\"Churn prediction comparison\")"
   ]
  },
  {
   "cell_type": "markdown",
   "metadata": {},
   "source": [
    "Let's see the impact on this in the telco's net revenue retention (NRR).\n",
    "\n",
    "Since we only have one month's data, we have a simple formula for calculating NRR:\n",
    "\n",
    "# NRR = $\\frac{MRR(initial) + Expansion - Churn}{MRR(initial)} $  \n",
    "\n",
    "We use [`atoti.total`](https://docs.atoti.io/0.4.1/lib/atoti.html?#atoti.total) to get the total _MonthlyCharges_ for _MRR Initial_ across all the customers because we want to ignore all filters for this measure.  \n",
    "The level `Churn` shows the actual status of customers churning, while the level `ChurnPredicted` reflects the predicted status from the models.  \n",
    "We get the revenue lost by taking the _MonthlyCharges_ for customers who have churned or predicted to churn."
   ]
  },
  {
   "cell_type": "code",
   "execution_count": 30,
   "metadata": {},
   "outputs": [],
   "source": [
    "m[\"MRR Initial\"] = tt.total(m[\"MonthlyCharges.SUM\"], h[\"CustomerID\"])\n",
    "\n",
    "m[\"Actual RR Loss\"] = tt.total(\n",
    "    tt.filter(m[\"MonthlyCharges.SUM\"], l[\"Churn\"] == \"Yes\"), h[\"CustomerID\"]\n",
    ")\n",
    "\n",
    "# we use ChurnPredicted here instead of churn because we want to see the difference between the prediction and the actual churn\n",
    "# we know the exact amount of money (m[\"MonthlyCharges.SUM\"]) lost if the customer churns\n",
    "m[\"Predicted RR Loss\"] = tt.agg.sum(\n",
    "    tt.filter(m[\"MonthlyCharges.SUM\"], l[\"ChurnPredicted\"] == \"Yes\"),\n",
    "    scope=tt.OriginScope(l[\"CustomerID\"]),\n",
    ")\n",
    "\n",
    "m[\"NRR\"] = (m[\"MRR Initial\"] - m[\"Predicted RR Loss\"]) / m[\"MRR Initial\"]"
   ]
  },
  {
   "cell_type": "markdown",
   "metadata": {},
   "source": [
    "We can see that all the models over-predicted the loss."
   ]
  },
  {
   "cell_type": "code",
   "execution_count": 31,
   "metadata": {
    "atoti": {
     "height": 240,
     "widget": {
      "columnWidths": {
       "[Epoch].[Epoch].[Branch]": 165,
       "[Measures].[Actual RR Loss - Predicted RR Loss]": 149,
       "[Measures].[Churn MonthlyCharges.MEAN]": 177.33749389648438
      },
      "filters": [],
      "mapping": {
       "columns": [
        "ALL_MEASURES"
       ],
       "measures": [
        "[Measures].[Actual RR Loss]",
        "[Measures].[Predicted RR Loss]",
        "[Measures].[Actual RR Loss - Predicted RR Loss]",
        "[Measures].[MRR Initial]",
        "[Measures].[NRR]"
       ],
       "rows": [
        "[Epoch].[Epoch].[Branch]"
       ]
      },
      "name": "NRR - Actual vs Predicted",
      "query": {
       "context": {
        "queriesResultLimit.intermediateSize": 1000000,
        "queriesResultLimit.transientSize": 10000000
       },
       "mdx": "WITH  Member [Measures].[Actual RR Loss - Predicted RR Loss] AS [Measures].[Actual RR Loss] - [Measures].[Predicted RR Loss], CAPTION = \"Difference with Actual\", BACK_COLOR = CASE WHEN [Measures].[Actual RR Loss - Predicted RR Loss] > 0 THEN rgb(252, 179, 80) WHEN [Measures].[Actual RR Loss - Predicted RR Loss] < 0 THEN rgb(252, 179, 80) END, FORMAT_STRING = \"#,###.00\"  SELECT NON EMPTY Union(Hierarchize([Epoch].[Epoch].[Branch].Members), [Epoch].[Epoch].[Branch].Members) ON ROWS, NON EMPTY {[Measures].[MRR Initial], [Measures].[Actual RR Loss], [Measures].[Predicted RR Loss], [Measures].[Actual RR Loss - Predicted RR Loss], [Measures].[NRR]} ON COLUMNS FROM [customer_cube] CELL PROPERTIES BACK_COLOR, FONT_FLAGS, FORE_COLOR, FORMATTED_VALUE, VALUE"
      },
      "serverKey": "default",
      "widgetKey": "pivot-table"
     }
    }
   },
   "outputs": [
    {
     "data": {
      "application/vnd.atoti.widget.v0+json": {
       "name": "NRR - Actual vs Predicted",
       "sessionId": "1685413173_PPEYJT",
       "sessionLocation": {
        "https": false,
        "port": 58900
       },
       "widgetCreationCode": "session.visualize()"
      },
      "text/html": [
       "<img src=\"data:image/svg+xml;charset=utf8,%3C%3Fxml%20version%3D%221.0%22%20standalone%3D%22no%22%3F%3E%3Csvg%20xmlns%3D%22http%3A%2F%2Fwww.w3.org%2F2000%2Fsvg%22%20height%3D%22232%22%20width%3D%221342%22%3E%3CforeignObject%20width%3D%22100%25%22%20height%3D%22100%25%22%20x%3D%220%22%20y%3D%220%22%3E%3Cstyle%20xmlns%3D%22http%3A%2F%2Fwww.w3.org%2F1999%2Fxhtml%22%20type%3D%22text%2Fcss%22%3E*%2C%20%3A%3Abefore%2C%20%3A%3Aafter%20%7Bbox-sizing%3A%20unset%7D%0A.ant-root%20%5Bclass%5E%3D%22ant-%22%5D%2C%20.ant-root%20%5Bclass*%3D%22ant-%22%5D%2C%20.ant-root%20%5Bclass%5E%3D%22ant-%22%5D%20*%2C%20.ant-root%20%5Bclass*%3D%22ant-%22%5D%20*%2C%20.ant-root%20%5Bclass%5E%3D%22ant-%22%5D%20%3A%3Abefore%2C%20.ant-root%20%5Bclass*%3D%22ant-%22%5D%20%3A%3Abefore%2C%20.ant-root%20%5Bclass%5E%3D%22ant-%22%5D%20%3A%3Aafter%2C%20.ant-root%20%5Bclass*%3D%22ant-%22%5D%20%3A%3Aafter%20%7Bbox-sizing%3A%20border-box%7D%0A.ant-root%2C%20.ant-root%20%7Bwidth%3A%20100%25%3B%20height%3A%20100%25%7D%0A.ant-root%20*%2C%20.ant-root%20%3A%3Abefore%2C%20.ant-root%20%3A%3Aafter%20%7Bbox-sizing%3A%20border-box%7D%0A.ant-root%20%7Btext-size-adjust%3A%20100%25%3B%20-webkit-tap-highlight-color%3A%20rgba(0%2C%200%2C%200%2C%200)%3B%20font-family%3A%20-apple-system%2C%20BlinkMacSystemFont%2C%20%22Segoe%20UI%22%2C%20Roboto%2C%20%22Helvetica%20Neue%22%2C%20Arial%2C%20%22Noto%20Sans%22%2C%20sans-serif%2C%20%22Apple%20Color%20Emoji%22%2C%20%22Segoe%20UI%20Emoji%22%2C%20%22Segoe%20UI%20Symbol%22%2C%20%22Noto%20Color%20Emoji%22%3B%20line-height%3A%201.66667%3B%20color%3A%20rgb(89%2C%2089%2C%2089)%3B%20font-variant-ligatures%3A%20normal%3B%20font-variant-numeric%3A%20tabular-nums%3B%20font-variant-east-asian%3A%20normal%3B%20font-variant-caps%3A%20normal%3B%20font-variant-alternates%3A%20normal%3B%20background-color%3A%20rgb(255%2C%20255%2C%20255)%3B%20margin-top%3A%200px%3B%20margin-right%3A%200px%3B%20margin-bottom%3A%200px%3B%20margin-left%3A%200px%3B%20font-size%3A%2012px%3B%20--antd-wave-shadow-color%3A%20%231890ff%3B%20--scroll-bar%3A%200%7D%0A.ant-root%20.aui-invisible-scrollbars%20%7B%7D%0A.css-12ebr42-AWidget%20%7Bheight%3A%20100%25%7D%0A.css-1b1raxz-DefaultWidgetLoadingOverlay%20%7Bdisplay%3A%20flex%3B%20height%3A%20100%25%3B%20-webkit-box-pack%3A%20center%3B%20justify-content%3A%20center%3B%20position%3A%20absolute%3B%20width%3A%20100%25%3B%20-webkit-box-align%3A%20center%3B%20align-items%3A%20center%3B%20pointer-events%3A%20none%3B%20z-index%3A%202%7D%0A.css-34a2ml-DefaultWidgetLoadingOverlay%20%7Bbackground-image%3A%20initial%3B%20background-position-x%3A%20initial%3B%20background-position-y%3A%20initial%3B%20background-size%3A%20initial%3B%20background-repeat-x%3A%20initial%3B%20background-repeat-y%3A%20initial%3B%20background-attachment%3A%20initial%3B%20background-origin%3A%20initial%3B%20background-clip%3A%20initial%3B%20background-color%3A%20transparent%3B%20width%3A%20calc(100%25%20-%204px)%3B%20height%3A%20calc(100%25%20-%204px)%7D%0A.css-2p9ued-WidgetLoadingOverlay%20%7Bheight%3A%20100%25%3B%20position%3A%20relative%7D%0A.css-1hwl8p1-Table%20%7Bpadding-bottom%3A%202px%3B%20padding-right%3A%202px%3B%20height%3A%20100%25%7D%0A.css-14ejcn0-Table%20%7Bheight%3A%20calc(100%25%20-%2030px)%3B%20outline-color%3A%20initial%3B%20outline-style%3A%20none%3B%20outline-width%3A%20initial%3B%20position%3A%20relative%7D%0A.css-1rxpjm0-ColumnResizeHint%20%7Bdisplay%3A%20none%3B%20position%3A%20absolute%3B%20z-index%3A%201%7D%0A.css-walxhl-ColumnResizeHint%20%7Bheight%3A%2028px%3B%20background-color%3A%20rgb(24%2C%20144%2C%20255)%3B%20width%3A%205px%7D%0A.css-1uww2vi-Table%20%7Bheight%3A%2030px%3B%20text-align%3A%20right%3B%20padding-right%3A%2025px%7D%0A.css-xxcrt1-ResizableCell%20%7Bbackground-image%3A%20initial%3B%20background-position-x%3A%20initial%3B%20background-position-y%3A%20initial%3B%20background-size%3A%20initial%3B%20background-repeat-x%3A%20initial%3B%20background-repeat-y%3A%20initial%3B%20background-attachment%3A%20initial%3B%20background-origin%3A%20initial%3B%20background-clip%3A%20initial%3B%20background-color%3A%20transparent%3B%20cursor%3A%20col-resize%3B%20height%3A%20100%25%3B%20position%3A%20absolute%3B%20right%3A%200px%3B%20width%3A%205px%3B%20z-index%3A%201%7D%0A.css-1hol363-ResizableCell%20%7Bdisplay%3A%20flex%3B%20flex-direction%3A%20column%3B%20position%3A%20absolute%3B%20top%3A%200px%3B%20left%3A%200px%3B%20height%3A%2028px%3B%20width%3A%20120px%7D%0A.css-fpuq48-ResizableCell%20%7Bdisplay%3A%20flex%3B%20flex-direction%3A%20column%3B%20position%3A%20absolute%3B%20top%3A%200px%3B%20left%3A%20120px%3B%20height%3A%2028px%3B%20width%3A%20120px%7D%0A.css-3geaec-ResizableCell%20%7Bdisplay%3A%20flex%3B%20flex-direction%3A%20column%3B%20position%3A%20absolute%3B%20top%3A%200px%3B%20left%3A%20240px%3B%20height%3A%2028px%3B%20width%3A%20120px%7D%0A.css-1a1i4bo-ColumnResizeHint%20%7Bdisplay%3A%20none%3B%20float%3A%20right%3B%20height%3A%20172px%3B%20background-color%3A%20rgb(24%2C%20144%2C%20255)%3B%20opacity%3A%200.4%3B%20width%3A%202px%7D%0A.css-18j92kz-Table%20%7Bdisplay%3A%20flex%3B%20height%3A%20200px%7D%0A.css-xffsl8-Table%20%7Bborder-collapse%3A%20collapse%3B%20height%3A%2028px%3B%20width%3A%20165px%7D%0A.css-1ol41u9%20%7Bheight%3A%2028px%3B%20width%3A%20165px%7D%0A.css-1krqb1e%20%7Bcursor%3A%20cell%3B%20height%3A%2028px%3B%20overflow-x%3A%20hidden%3B%20overflow-y%3A%20hidden%3B%20position%3A%20relative%3B%20width%3A%20165px%3B%20border-right-width%3A%202px%3B%20border-right-style%3A%20solid%3B%20border-right-color%3A%20rgb(233%2C%20233%2C%20233)%7D%0A.css-185pjwl-ResizableCell%20%7Bdisplay%3A%20flex%3B%20flex-direction%3A%20column%3B%20position%3A%20absolute%3B%20top%3A%200px%3B%20left%3A%200px%3B%20height%3A%2028px%3B%20width%3A%20165px%7D%0A.css-18q1iy%20%7Bheight%3A%20172px%3B%20width%3A%20165px%3B%20overflow-x%3A%20hidden%3B%20overflow-y%3A%20auto%7D%0A.css-1ulpsyi%20%7Bcursor%3A%20cell%3B%20height%3A%20140px%3B%20overflow-x%3A%20hidden%3B%20overflow-y%3A%20hidden%3B%20position%3A%20relative%3B%20width%3A%20165px%3B%20border-top-width%3A%202px%3B%20border-top-style%3A%20solid%3B%20border-top-color%3A%20rgb(233%2C%20233%2C%20233)%3B%20border-right-width%3A%202px%3B%20border-right-style%3A%20solid%3B%20border-right-color%3A%20rgb(233%2C%20233%2C%20233)%7D%0A.css-bpyn0h-Table%20%7Bwidth%3A%201175px%3B%20border-collapse%3A%20collapse%7D%0A.css-ow3gxs%20%7Bheight%3A%2028px%3B%20width%3A%201157px%3B%20overflow-x%3A%20auto%3B%20overflow-y%3A%20hidden%7D%0A.css-tzfi1g%20%7Bcursor%3A%20cell%3B%20height%3A%2028px%3B%20overflow-x%3A%20hidden%3B%20overflow-y%3A%20hidden%3B%20position%3A%20relative%3B%20width%3A%20629px%7D%0A.css-gfph7r-ResizableCell%20%7Bdisplay%3A%20flex%3B%20flex-direction%3A%20column%3B%20position%3A%20absolute%3B%20top%3A%200px%3B%20left%3A%20360px%3B%20height%3A%2028px%3B%20width%3A%20149px%7D%0A.css-b6m2i6-ResizableCell%20%7Bdisplay%3A%20flex%3B%20flex-direction%3A%20column%3B%20position%3A%20absolute%3B%20top%3A%200px%3B%20left%3A%20509px%3B%20height%3A%2028px%3B%20width%3A%20120px%7D%0A.css-ydde6r%20%7Bheight%3A%20172px%3B%20width%3A%201175px%3B%20overflow-x%3A%20auto%3B%20overflow-y%3A%20auto%7D%0A.css-1gangaa%20%7Bcursor%3A%20cell%3B%20height%3A%20140px%3B%20overflow-x%3A%20hidden%3B%20overflow-y%3A%20hidden%3B%20position%3A%20relative%3B%20width%3A%20629px%3B%20border-top-width%3A%202px%3B%20border-top-style%3A%20solid%3B%20border-top-color%3A%20rgb(233%2C%20233%2C%20233)%7D%0A*%20%7B-ms-overflow-style%3A%20none%3B%20scrollbar-width%3A%20none%7D%0A*%3A%3A-webkit-scrollbar%20%7Bdisplay%3A%20none%7D%0A.atoti-hidden-in-snapshot%20%7Bdisplay%3A%20none%7D%3C%2Fstyle%3E%3Cdiv%20xmlns%3D%22http%3A%2F%2Fwww.w3.org%2F1999%2Fxhtml%22%20style%3D%22height%3A%20232px%3B%20width%3A%201342px%3B%22%3E%3Cdiv%20class%3D%22ant-root%20css-0%22%3E%3Cdiv%20class%3D%22ant-dropdown-trigger%20css-12ebr42-AWidget%22%3E%3Cdiv%20class%3D%22css-2p9ued-WidgetLoadingOverlay%22%3E%3Cdiv%20class%3D%22css-1b1raxz-DefaultWidgetLoadingOverlay%22%3E%3Cdiv%20class%3D%22css-34a2ml-DefaultWidgetLoadingOverlay%22%3E%3C%2Fdiv%3E%3C%2Fdiv%3E%3Cdiv%20class%3D%22css-1hwl8p1-Table%22%3E%3Cdiv%20tabindex%3D%220%22%20class%3D%22css-14ejcn0-Table%22%3E%3Cdiv%20class%3D%22css-1rxpjm0-ColumnResizeHint%22%3E%3Cdiv%20class%3D%22css-walxhl-ColumnResizeHint%22%3E%3C%2Fdiv%3E%3Cdiv%20class%3D%22css-1a1i4bo-ColumnResizeHint%22%3E%3C%2Fdiv%3E%3C%2Fdiv%3E%3Cdiv%20class%3D%22css-18j92kz-Table%22%3E%3Cdiv%20class%3D%22css-xffsl8-Table%22%3E%3Cdiv%20class%3D%22%20css-1ol41u9%22%3E%3Cdiv%20class%3D%22css-1krqb1e%22%3E%3Cdiv%20class%3D%22css-185pjwl-ResizableCell%22%3E%3Cdiv%20class%3D%22aui-table-cell%22%20style%3D%22height%3A%2028px%3B%20left%3A%200px%3B%20top%3A%200px%3B%20width%3A%20160px%3B%20text-align%3A%20left%3B%20font-size%3A%2012px%3B%20padding%3A%204px%204px%203px%3B%20overflow%3A%20hidden%3B%20position%3A%20absolute%3B%20white-space%3A%20nowrap%3B%20text-overflow%3A%20ellipsis%3B%20font-weight%3A%20600%3B%20display%3A%20flex%3B%20align-items%3A%20center%3B%22%3E%3Cspan%3EScenario%3C%2Fspan%3E%3C%2Fdiv%3E%3Cdiv%20class%3D%22css-xxcrt1-ResizableCell%22%3E%3C%2Fdiv%3E%3C%2Fdiv%3E%3C%2Fdiv%3E%3C%2Fdiv%3E%3Cdiv%20class%3D%22aui-invisible-scrollbars%20css-18q1iy%22%3E%3Cdiv%20class%3D%22css-1ulpsyi%22%3E%3Cdiv%20style%3D%22display%3A%20flex%3B%20align-items%3A%20center%3B%20height%3A%2028px%3B%20left%3A%200px%3B%20top%3A%200px%3B%20width%3A%20165px%3B%20text-align%3A%20left%3B%20font-size%3A%2012px%3B%20padding%3A%204px%204px%203px%3B%20overflow%3A%20hidden%3B%20position%3A%20absolute%3B%20white-space%3A%20nowrap%3B%20text-overflow%3A%20ellipsis%3B%20border-right%3A%202px%20solid%20rgb(233%2C%20233%2C%20233)%3B%20background-color%3A%20transparent%3B%22%3E%3Cspan%20style%3D%22text-overflow%3A%20ellipsis%3B%20overflow%3A%20hidden%3B%20white-space%3A%20nowrap%3B%20max-width%3A%20calc((100%25%20-%200px)%20-%200px)%3B%22%3EBase%3C%2Fspan%3E%3C%2Fdiv%3E%3Cdiv%20style%3D%22display%3A%20flex%3B%20align-items%3A%20center%3B%20height%3A%2028px%3B%20left%3A%200px%3B%20top%3A%2028px%3B%20width%3A%20165px%3B%20text-align%3A%20left%3B%20font-size%3A%2012px%3B%20padding%3A%204px%204px%203px%3B%20overflow%3A%20hidden%3B%20position%3A%20absolute%3B%20white-space%3A%20nowrap%3B%20text-overflow%3A%20ellipsis%3B%20border-right%3A%202px%20solid%20rgb(233%2C%20233%2C%20233)%3B%20background-color%3A%20rgb(250%2C%20250%2C%20250)%3B%22%3E%3Cspan%20style%3D%22text-overflow%3A%20ellipsis%3B%20overflow%3A%20hidden%3B%20white-space%3A%20nowrap%3B%20max-width%3A%20calc((100%25%20-%200px)%20-%200px)%3B%22%3EDummy%20Uniform%20Classifier%3C%2Fspan%3E%3C%2Fdiv%3E%3Cdiv%20style%3D%22display%3A%20flex%3B%20align-items%3A%20center%3B%20height%3A%2028px%3B%20left%3A%200px%3B%20top%3A%2056px%3B%20width%3A%20165px%3B%20text-align%3A%20left%3B%20font-size%3A%2012px%3B%20padding%3A%204px%204px%203px%3B%20overflow%3A%20hidden%3B%20position%3A%20absolute%3B%20white-space%3A%20nowrap%3B%20text-overflow%3A%20ellipsis%3B%20border-right%3A%202px%20solid%20rgb(233%2C%20233%2C%20233)%3B%20background-color%3A%20transparent%3B%22%3E%3Cspan%20style%3D%22text-overflow%3A%20ellipsis%3B%20overflow%3A%20hidden%3B%20white-space%3A%20nowrap%3B%20max-width%3A%20calc((100%25%20-%200px)%20-%200px)%3B%22%3ELogistic%20Regression%20Classifier%3C%2Fspan%3E%3C%2Fdiv%3E%3Cdiv%20style%3D%22display%3A%20flex%3B%20align-items%3A%20center%3B%20height%3A%2028px%3B%20left%3A%200px%3B%20top%3A%2084px%3B%20width%3A%20165px%3B%20text-align%3A%20left%3B%20font-size%3A%2012px%3B%20padding%3A%204px%204px%203px%3B%20overflow%3A%20hidden%3B%20position%3A%20absolute%3B%20white-space%3A%20nowrap%3B%20text-overflow%3A%20ellipsis%3B%20border-right%3A%202px%20solid%20rgb(233%2C%20233%2C%20233)%3B%20background-color%3A%20rgb(250%2C%20250%2C%20250)%3B%22%3E%3Cspan%20style%3D%22text-overflow%3A%20ellipsis%3B%20overflow%3A%20hidden%3B%20white-space%3A%20nowrap%3B%20max-width%3A%20calc((100%25%20-%200px)%20-%200px)%3B%22%3ENaive%20Bayes%20Classifier%3C%2Fspan%3E%3C%2Fdiv%3E%3Cdiv%20style%3D%22display%3A%20flex%3B%20align-items%3A%20center%3B%20height%3A%2028px%3B%20left%3A%200px%3B%20top%3A%20112px%3B%20width%3A%20165px%3B%20text-align%3A%20left%3B%20font-size%3A%2012px%3B%20padding%3A%204px%204px%203px%3B%20overflow%3A%20hidden%3B%20position%3A%20absolute%3B%20white-space%3A%20nowrap%3B%20text-overflow%3A%20ellipsis%3B%20border-right%3A%202px%20solid%20rgb(233%2C%20233%2C%20233)%3B%20background-color%3A%20transparent%3B%22%3E%3Cspan%20style%3D%22text-overflow%3A%20ellipsis%3B%20overflow%3A%20hidden%3B%20white-space%3A%20nowrap%3B%20max-width%3A%20calc((100%25%20-%200px)%20-%200px)%3B%22%3ESVM%20Classifier%3C%2Fspan%3E%3C%2Fdiv%3E%3C%2Fdiv%3E%3C%2Fdiv%3E%3C%2Fdiv%3E%3Cdiv%20class%3D%22css-bpyn0h-Table%22%3E%3Cdiv%20class%3D%22aui-invisible-scrollbars%20css-ow3gxs%22%3E%3Cdiv%20class%3D%22css-tzfi1g%22%3E%3Cdiv%20class%3D%22css-1hol363-ResizableCell%22%3E%3Cdiv%20style%3D%22display%3A%20flex%3B%20align-items%3A%20center%3B%20height%3A%2028px%3B%20left%3A%200px%3B%20top%3A%200px%3B%20width%3A%20115px%3B%20text-align%3A%20left%3B%20font-size%3A%2012px%3B%20padding%3A%204px%204px%203px%3B%20overflow%3A%20hidden%3B%20position%3A%20absolute%3B%20white-space%3A%20nowrap%3B%20text-overflow%3A%20ellipsis%3B%20font-weight%3A%20600%3B%22%3E%3Cspan%20style%3D%22text-overflow%3A%20ellipsis%3B%20overflow%3A%20hidden%3B%20white-space%3A%20nowrap%3B%20max-width%3A%20calc((100%25%20-%200px)%20-%200px)%3B%22%3EMRR%20Initial%3C%2Fspan%3E%3C%2Fdiv%3E%3Cdiv%20class%3D%22css-xxcrt1-ResizableCell%22%3E%3C%2Fdiv%3E%3C%2Fdiv%3E%3Cdiv%20class%3D%22css-fpuq48-ResizableCell%22%3E%3Cdiv%20style%3D%22display%3A%20flex%3B%20align-items%3A%20center%3B%20height%3A%2028px%3B%20left%3A%200px%3B%20top%3A%200px%3B%20width%3A%20115px%3B%20text-align%3A%20left%3B%20font-size%3A%2012px%3B%20padding%3A%204px%204px%203px%3B%20overflow%3A%20hidden%3B%20position%3A%20absolute%3B%20white-space%3A%20nowrap%3B%20text-overflow%3A%20ellipsis%3B%20font-weight%3A%20600%3B%22%3E%3Cspan%20style%3D%22text-overflow%3A%20ellipsis%3B%20overflow%3A%20hidden%3B%20white-space%3A%20nowrap%3B%20max-width%3A%20calc((100%25%20-%200px)%20-%200px)%3B%22%3EActual%20RR%20Loss%3C%2Fspan%3E%3C%2Fdiv%3E%3Cdiv%20class%3D%22css-xxcrt1-ResizableCell%22%3E%3C%2Fdiv%3E%3C%2Fdiv%3E%3Cdiv%20class%3D%22css-3geaec-ResizableCell%22%3E%3Cdiv%20style%3D%22display%3A%20flex%3B%20align-items%3A%20center%3B%20height%3A%2028px%3B%20left%3A%200px%3B%20top%3A%200px%3B%20width%3A%20115px%3B%20text-align%3A%20left%3B%20font-size%3A%2012px%3B%20padding%3A%204px%204px%203px%3B%20overflow%3A%20hidden%3B%20position%3A%20absolute%3B%20white-space%3A%20nowrap%3B%20text-overflow%3A%20ellipsis%3B%20font-weight%3A%20600%3B%22%3E%3Cspan%20style%3D%22text-overflow%3A%20ellipsis%3B%20overflow%3A%20hidden%3B%20white-space%3A%20nowrap%3B%20max-width%3A%20calc((100%25%20-%200px)%20-%200px)%3B%22%3EPredicted%20RR%20Loss%3C%2Fspan%3E%3C%2Fdiv%3E%3Cdiv%20class%3D%22css-xxcrt1-ResizableCell%22%3E%3C%2Fdiv%3E%3C%2Fdiv%3E%3Cdiv%20class%3D%22css-gfph7r-ResizableCell%22%3E%3Cdiv%20style%3D%22display%3A%20flex%3B%20align-items%3A%20center%3B%20height%3A%2028px%3B%20left%3A%200px%3B%20top%3A%200px%3B%20width%3A%20144px%3B%20text-align%3A%20left%3B%20font-size%3A%2012px%3B%20padding%3A%204px%204px%203px%3B%20overflow%3A%20hidden%3B%20position%3A%20absolute%3B%20white-space%3A%20nowrap%3B%20text-overflow%3A%20ellipsis%3B%20font-weight%3A%20600%3B%22%3E%3Cspan%20style%3D%22text-overflow%3A%20ellipsis%3B%20overflow%3A%20hidden%3B%20white-space%3A%20nowrap%3B%20max-width%3A%20calc((100%25%20-%200px)%20-%200px)%3B%22%3EDifference%20with%20Actual%3C%2Fspan%3E%3C%2Fdiv%3E%3Cdiv%20class%3D%22css-xxcrt1-ResizableCell%22%3E%3C%2Fdiv%3E%3C%2Fdiv%3E%3Cdiv%20class%3D%22css-b6m2i6-ResizableCell%22%3E%3Cdiv%20style%3D%22display%3A%20flex%3B%20align-items%3A%20center%3B%20height%3A%2028px%3B%20left%3A%200px%3B%20top%3A%200px%3B%20width%3A%20115px%3B%20text-align%3A%20left%3B%20font-size%3A%2012px%3B%20padding%3A%204px%204px%203px%3B%20overflow%3A%20hidden%3B%20position%3A%20absolute%3B%20white-space%3A%20nowrap%3B%20text-overflow%3A%20ellipsis%3B%20font-weight%3A%20600%3B%22%3E%3Cspan%20style%3D%22text-overflow%3A%20ellipsis%3B%20overflow%3A%20hidden%3B%20white-space%3A%20nowrap%3B%20max-width%3A%20calc((100%25%20-%200px)%20-%200px)%3B%22%3ENRR%3C%2Fspan%3E%3C%2Fdiv%3E%3Cdiv%20class%3D%22css-xxcrt1-ResizableCell%22%3E%3C%2Fdiv%3E%3C%2Fdiv%3E%3C%2Fdiv%3E%3C%2Fdiv%3E%3Cdiv%20class%3D%22%20css-ydde6r%22%3E%3Cdiv%20class%3D%22css-1gangaa%22%3E%3Cdiv%20class%3D%22aui-table-cell%22%20style%3D%22height%3A%2028px%3B%20left%3A%200px%3B%20top%3A%200px%3B%20width%3A%20120px%3B%20text-align%3A%20right%3B%20font-size%3A%2012px%3B%20padding%3A%204px%204px%203px%3B%20overflow%3A%20hidden%3B%20position%3A%20absolute%3B%20white-space%3A%20nowrap%3B%20text-overflow%3A%20ellipsis%3B%20border-right%3A%201px%20solid%20rgb(233%2C%20233%2C%20233)%3B%20background-color%3A%20transparent%3B%22%3E455%2C661.00%3C%2Fdiv%3E%3Cdiv%20class%3D%22aui-table-cell%22%20style%3D%22height%3A%2028px%3B%20left%3A%20120px%3B%20top%3A%200px%3B%20width%3A%20120px%3B%20text-align%3A%20right%3B%20font-size%3A%2012px%3B%20padding%3A%204px%204px%203px%3B%20overflow%3A%20hidden%3B%20position%3A%20absolute%3B%20white-space%3A%20nowrap%3B%20text-overflow%3A%20ellipsis%3B%20border-right%3A%201px%20solid%20rgb(233%2C%20233%2C%20233)%3B%20background-color%3A%20transparent%3B%22%3E139%2C130.85%3C%2Fdiv%3E%3Cdiv%20class%3D%22aui-table-cell%22%20style%3D%22height%3A%2028px%3B%20left%3A%20240px%3B%20top%3A%200px%3B%20width%3A%20120px%3B%20text-align%3A%20right%3B%20font-size%3A%2012px%3B%20padding%3A%204px%204px%203px%3B%20overflow%3A%20hidden%3B%20position%3A%20absolute%3B%20white-space%3A%20nowrap%3B%20text-overflow%3A%20ellipsis%3B%20border-right%3A%201px%20solid%20rgb(233%2C%20233%2C%20233)%3B%20background-color%3A%20transparent%3B%22%3E139%2C130.85%3C%2Fdiv%3E%3Cdiv%20class%3D%22aui-table-cell%22%20style%3D%22height%3A%2028px%3B%20left%3A%20360px%3B%20top%3A%200px%3B%20width%3A%20149px%3B%20text-align%3A%20right%3B%20font-size%3A%2012px%3B%20padding%3A%204px%204px%203px%3B%20overflow%3A%20hidden%3B%20position%3A%20absolute%3B%20white-space%3A%20nowrap%3B%20text-overflow%3A%20ellipsis%3B%20border-right%3A%201px%20solid%20rgb(233%2C%20233%2C%20233)%3B%20background-color%3A%20transparent%3B%22%3E.00%3C%2Fdiv%3E%3Cdiv%20class%3D%22aui-table-cell%22%20style%3D%22height%3A%2028px%3B%20left%3A%20509px%3B%20top%3A%200px%3B%20width%3A%20120px%3B%20text-align%3A%20right%3B%20font-size%3A%2012px%3B%20padding%3A%204px%204px%203px%3B%20overflow%3A%20hidden%3B%20position%3A%20absolute%3B%20white-space%3A%20nowrap%3B%20text-overflow%3A%20ellipsis%3B%20border-right%3A%201px%20solid%20rgb(233%2C%20233%2C%20233)%3B%20background-color%3A%20transparent%3B%22%3E.69%3C%2Fdiv%3E%3Cdiv%20class%3D%22aui-table-cell%22%20style%3D%22height%3A%2028px%3B%20left%3A%200px%3B%20top%3A%2028px%3B%20width%3A%20120px%3B%20text-align%3A%20right%3B%20font-size%3A%2012px%3B%20padding%3A%204px%204px%203px%3B%20overflow%3A%20hidden%3B%20position%3A%20absolute%3B%20white-space%3A%20nowrap%3B%20text-overflow%3A%20ellipsis%3B%20border-right%3A%201px%20solid%20rgb(233%2C%20233%2C%20233)%3B%20background-color%3A%20rgb(250%2C%20250%2C%20250)%3B%22%3E455%2C661.00%3C%2Fdiv%3E%3Cdiv%20class%3D%22aui-table-cell%22%20style%3D%22height%3A%2028px%3B%20left%3A%20120px%3B%20top%3A%2028px%3B%20width%3A%20120px%3B%20text-align%3A%20right%3B%20font-size%3A%2012px%3B%20padding%3A%204px%204px%203px%3B%20overflow%3A%20hidden%3B%20position%3A%20absolute%3B%20white-space%3A%20nowrap%3B%20text-overflow%3A%20ellipsis%3B%20border-right%3A%201px%20solid%20rgb(233%2C%20233%2C%20233)%3B%20background-color%3A%20rgb(250%2C%20250%2C%20250)%3B%22%3E139%2C130.85%3C%2Fdiv%3E%3Cdiv%20class%3D%22aui-table-cell%22%20style%3D%22height%3A%2028px%3B%20left%3A%20240px%3B%20top%3A%2028px%3B%20width%3A%20120px%3B%20text-align%3A%20right%3B%20font-size%3A%2012px%3B%20padding%3A%204px%204px%203px%3B%20overflow%3A%20hidden%3B%20position%3A%20absolute%3B%20white-space%3A%20nowrap%3B%20text-overflow%3A%20ellipsis%3B%20border-right%3A%201px%20solid%20rgb(233%2C%20233%2C%20233)%3B%20background-color%3A%20rgb(250%2C%20250%2C%20250)%3B%22%3E227%2C975.50%3C%2Fdiv%3E%3Cdiv%20class%3D%22aui-table-cell%22%20style%3D%22height%3A%2028px%3B%20left%3A%20360px%3B%20top%3A%2028px%3B%20width%3A%20149px%3B%20text-align%3A%20right%3B%20font-size%3A%2012px%3B%20padding%3A%204px%204px%203px%3B%20overflow%3A%20hidden%3B%20position%3A%20absolute%3B%20white-space%3A%20nowrap%3B%20text-overflow%3A%20ellipsis%3B%20border-right%3A%201px%20solid%20rgb(233%2C%20233%2C%20233)%3B%20background-color%3A%20rgb(252%2C%20168%2C%2054)%3B%22%3E-88%2C844.65%3C%2Fdiv%3E%3Cdiv%20class%3D%22aui-table-cell%22%20style%3D%22height%3A%2028px%3B%20left%3A%20509px%3B%20top%3A%2028px%3B%20width%3A%20120px%3B%20text-align%3A%20right%3B%20font-size%3A%2012px%3B%20padding%3A%204px%204px%203px%3B%20overflow%3A%20hidden%3B%20position%3A%20absolute%3B%20white-space%3A%20nowrap%3B%20text-overflow%3A%20ellipsis%3B%20border-right%3A%201px%20solid%20rgb(233%2C%20233%2C%20233)%3B%20background-color%3A%20rgb(250%2C%20250%2C%20250)%3B%22%3E.50%3C%2Fdiv%3E%3Cdiv%20class%3D%22aui-table-cell%22%20style%3D%22height%3A%2028px%3B%20left%3A%200px%3B%20top%3A%2056px%3B%20width%3A%20120px%3B%20text-align%3A%20right%3B%20font-size%3A%2012px%3B%20padding%3A%204px%204px%203px%3B%20overflow%3A%20hidden%3B%20position%3A%20absolute%3B%20white-space%3A%20nowrap%3B%20text-overflow%3A%20ellipsis%3B%20border-right%3A%201px%20solid%20rgb(233%2C%20233%2C%20233)%3B%20background-color%3A%20transparent%3B%22%3E455%2C661.00%3C%2Fdiv%3E%3Cdiv%20class%3D%22aui-table-cell%22%20style%3D%22height%3A%2028px%3B%20left%3A%20120px%3B%20top%3A%2056px%3B%20width%3A%20120px%3B%20text-align%3A%20right%3B%20font-size%3A%2012px%3B%20padding%3A%204px%204px%203px%3B%20overflow%3A%20hidden%3B%20position%3A%20absolute%3B%20white-space%3A%20nowrap%3B%20text-overflow%3A%20ellipsis%3B%20border-right%3A%201px%20solid%20rgb(233%2C%20233%2C%20233)%3B%20background-color%3A%20transparent%3B%22%3E139%2C130.85%3C%2Fdiv%3E%3Cdiv%20class%3D%22aui-table-cell%22%20style%3D%22height%3A%2028px%3B%20left%3A%20240px%3B%20top%3A%2056px%3B%20width%3A%20120px%3B%20text-align%3A%20right%3B%20font-size%3A%2012px%3B%20padding%3A%204px%204px%203px%3B%20overflow%3A%20hidden%3B%20position%3A%20absolute%3B%20white-space%3A%20nowrap%3B%20text-overflow%3A%20ellipsis%3B%20border-right%3A%201px%20solid%20rgb(233%2C%20233%2C%20233)%3B%20background-color%3A%20transparent%3B%22%3E151%2C948.90%3C%2Fdiv%3E%3Cdiv%20class%3D%22aui-table-cell%22%20style%3D%22height%3A%2028px%3B%20left%3A%20360px%3B%20top%3A%2056px%3B%20width%3A%20149px%3B%20text-align%3A%20right%3B%20font-size%3A%2012px%3B%20padding%3A%204px%204px%203px%3B%20overflow%3A%20hidden%3B%20position%3A%20absolute%3B%20white-space%3A%20nowrap%3B%20text-overflow%3A%20ellipsis%3B%20border-right%3A%201px%20solid%20rgb(233%2C%20233%2C%20233)%3B%20background-color%3A%20rgb(252%2C%20179%2C%2080)%3B%22%3E-12%2C818.05%3C%2Fdiv%3E%3Cdiv%20class%3D%22aui-table-cell%22%20style%3D%22height%3A%2028px%3B%20left%3A%20509px%3B%20top%3A%2056px%3B%20width%3A%20120px%3B%20text-align%3A%20right%3B%20font-size%3A%2012px%3B%20padding%3A%204px%204px%203px%3B%20overflow%3A%20hidden%3B%20position%3A%20absolute%3B%20white-space%3A%20nowrap%3B%20text-overflow%3A%20ellipsis%3B%20border-right%3A%201px%20solid%20rgb(233%2C%20233%2C%20233)%3B%20background-color%3A%20transparent%3B%22%3E.67%3C%2Fdiv%3E%3Cdiv%20class%3D%22aui-table-cell%22%20style%3D%22height%3A%2028px%3B%20left%3A%200px%3B%20top%3A%2084px%3B%20width%3A%20120px%3B%20text-align%3A%20right%3B%20font-size%3A%2012px%3B%20padding%3A%204px%204px%203px%3B%20overflow%3A%20hidden%3B%20position%3A%20absolute%3B%20white-space%3A%20nowrap%3B%20text-overflow%3A%20ellipsis%3B%20border-right%3A%201px%20solid%20rgb(233%2C%20233%2C%20233)%3B%20background-color%3A%20rgb(250%2C%20250%2C%20250)%3B%22%3E455%2C661.00%3C%2Fdiv%3E%3Cdiv%20class%3D%22aui-table-cell%22%20style%3D%22height%3A%2028px%3B%20left%3A%20120px%3B%20top%3A%2084px%3B%20width%3A%20120px%3B%20text-align%3A%20right%3B%20font-size%3A%2012px%3B%20padding%3A%204px%204px%203px%3B%20overflow%3A%20hidden%3B%20position%3A%20absolute%3B%20white-space%3A%20nowrap%3B%20text-overflow%3A%20ellipsis%3B%20border-right%3A%201px%20solid%20rgb(233%2C%20233%2C%20233)%3B%20background-color%3A%20rgb(250%2C%20250%2C%20250)%3B%22%3E139%2C130.85%3C%2Fdiv%3E%3Cdiv%20class%3D%22aui-table-cell%22%20style%3D%22height%3A%2028px%3B%20left%3A%20240px%3B%20top%3A%2084px%3B%20width%3A%20120px%3B%20text-align%3A%20right%3B%20font-size%3A%2012px%3B%20padding%3A%204px%204px%203px%3B%20overflow%3A%20hidden%3B%20position%3A%20absolute%3B%20white-space%3A%20nowrap%3B%20text-overflow%3A%20ellipsis%3B%20border-right%3A%201px%20solid%20rgb(233%2C%20233%2C%20233)%3B%20background-color%3A%20rgb(250%2C%20250%2C%20250)%3B%22%3E140%2C748.55%3C%2Fdiv%3E%3Cdiv%20class%3D%22aui-table-cell%22%20style%3D%22height%3A%2028px%3B%20left%3A%20360px%3B%20top%3A%2084px%3B%20width%3A%20149px%3B%20text-align%3A%20right%3B%20font-size%3A%2012px%3B%20padding%3A%204px%204px%203px%3B%20overflow%3A%20hidden%3B%20position%3A%20absolute%3B%20white-space%3A%20nowrap%3B%20text-overflow%3A%20ellipsis%3B%20border-right%3A%201px%20solid%20rgb(233%2C%20233%2C%20233)%3B%20background-color%3A%20rgb(252%2C%20168%2C%2054)%3B%22%3E-1%2C617.70%3C%2Fdiv%3E%3Cdiv%20class%3D%22aui-table-cell%22%20style%3D%22height%3A%2028px%3B%20left%3A%20509px%3B%20top%3A%2084px%3B%20width%3A%20120px%3B%20text-align%3A%20right%3B%20font-size%3A%2012px%3B%20padding%3A%204px%204px%203px%3B%20overflow%3A%20hidden%3B%20position%3A%20absolute%3B%20white-space%3A%20nowrap%3B%20text-overflow%3A%20ellipsis%3B%20border-right%3A%201px%20solid%20rgb(233%2C%20233%2C%20233)%3B%20background-color%3A%20rgb(250%2C%20250%2C%20250)%3B%22%3E.69%3C%2Fdiv%3E%3Cdiv%20class%3D%22aui-table-cell%22%20style%3D%22height%3A%2028px%3B%20left%3A%200px%3B%20top%3A%20112px%3B%20width%3A%20120px%3B%20text-align%3A%20right%3B%20font-size%3A%2012px%3B%20padding%3A%204px%204px%203px%3B%20overflow%3A%20hidden%3B%20position%3A%20absolute%3B%20white-space%3A%20nowrap%3B%20text-overflow%3A%20ellipsis%3B%20border-right%3A%201px%20solid%20rgb(233%2C%20233%2C%20233)%3B%20background-color%3A%20transparent%3B%22%3E455%2C661.00%3C%2Fdiv%3E%3Cdiv%20class%3D%22aui-table-cell%22%20style%3D%22height%3A%2028px%3B%20left%3A%20120px%3B%20top%3A%20112px%3B%20width%3A%20120px%3B%20text-align%3A%20right%3B%20font-size%3A%2012px%3B%20padding%3A%204px%204px%203px%3B%20overflow%3A%20hidden%3B%20position%3A%20absolute%3B%20white-space%3A%20nowrap%3B%20text-overflow%3A%20ellipsis%3B%20border-right%3A%201px%20solid%20rgb(233%2C%20233%2C%20233)%3B%20background-color%3A%20transparent%3B%22%3E139%2C130.85%3C%2Fdiv%3E%3Cdiv%20class%3D%22aui-table-cell%22%20style%3D%22height%3A%2028px%3B%20left%3A%20240px%3B%20top%3A%20112px%3B%20width%3A%20120px%3B%20text-align%3A%20right%3B%20font-size%3A%2012px%3B%20padding%3A%204px%204px%203px%3B%20overflow%3A%20hidden%3B%20position%3A%20absolute%3B%20white-space%3A%20nowrap%3B%20text-overflow%3A%20ellipsis%3B%20border-right%3A%201px%20solid%20rgb(233%2C%20233%2C%20233)%3B%20background-color%3A%20transparent%3B%22%3E207%2C278.10%3C%2Fdiv%3E%3Cdiv%20class%3D%22aui-table-cell%22%20style%3D%22height%3A%2028px%3B%20left%3A%20360px%3B%20top%3A%20112px%3B%20width%3A%20149px%3B%20text-align%3A%20right%3B%20font-size%3A%2012px%3B%20padding%3A%204px%204px%203px%3B%20overflow%3A%20hidden%3B%20position%3A%20absolute%3B%20white-space%3A%20nowrap%3B%20text-overflow%3A%20ellipsis%3B%20border-right%3A%201px%20solid%20rgb(233%2C%20233%2C%20233)%3B%20background-color%3A%20rgb(252%2C%20179%2C%2080)%3B%22%3E-68%2C147.25%3C%2Fdiv%3E%3Cdiv%20class%3D%22aui-table-cell%22%20style%3D%22height%3A%2028px%3B%20left%3A%20509px%3B%20top%3A%20112px%3B%20width%3A%20120px%3B%20text-align%3A%20right%3B%20font-size%3A%2012px%3B%20padding%3A%204px%204px%203px%3B%20overflow%3A%20hidden%3B%20position%3A%20absolute%3B%20white-space%3A%20nowrap%3B%20text-overflow%3A%20ellipsis%3B%20border-right%3A%201px%20solid%20rgb(233%2C%20233%2C%20233)%3B%20background-color%3A%20transparent%3B%22%3E.55%3C%2Fdiv%3E%3C%2Fdiv%3E%3C%2Fdiv%3E%3C%2Fdiv%3E%3C%2Fdiv%3E%3C%2Fdiv%3E%3Cdiv%20class%3D%22css-1uww2vi-Table%22%3E%3C%2Fdiv%3E%3C%2Fdiv%3E%3C%2Fdiv%3E%3C%2Fdiv%3E%3C%2Fdiv%3E%3C%2Fdiv%3E%3C%2FforeignObject%3E%3C%2Fsvg%3E\">"
      ],
      "text/plain": [
       "Open the notebook in JupyterLab with the Atoti extension enabled to build this widget."
      ]
     },
     "metadata": {},
     "output_type": "display_data"
    }
   ],
   "source": [
    "session.visualize(\"NRR - Actual vs Predicted\")"
   ]
  },
  {
   "cell_type": "markdown",
   "metadata": {},
   "source": [
    "From the below chart, we see the importance of choosing an appropriate predictive model w.r.t our business case. We could grossly over-estimate or under-estimate the loss if we are not careful with our projection.  "
   ]
  },
  {
   "cell_type": "code",
   "execution_count": 32,
   "metadata": {
    "atoti": {
     "height": 325,
     "widget": {
      "columnWidths": {
       "[Measures].[Actual RR Loss - Predicted RR Loss]": 149
      },
      "filters": [],
      "mapping": {
       "horizontalSubplots": [],
       "splitBy": [
        "ALL_MEASURES"
       ],
       "values": [
        "[Measures].[Actual RR Loss]",
        "[Measures].[Predicted RR Loss]",
        "[Measures].[Actual RR Loss - Predicted RR Loss]"
       ],
       "verticalSubplots": [],
       "xAxis": [
        "[Epoch].[Epoch].[Branch]"
       ]
      },
      "name": "NRR - Actual vs Predicted",
      "query": {
       "context": {
        "queriesResultLimit.intermediateSize": 1000000,
        "queriesResultLimit.transientSize": 10000000
       },
       "mdx": "WITH  Member [Measures].[Actual RR Loss - Predicted RR Loss] AS [Measures].[Actual RR Loss] - [Measures].[Predicted RR Loss], CAPTION = \"Difference with Actual\", FORE_COLOR = CASE WHEN [Measures].[Actual RR Loss - Predicted RR Loss] > 0 THEN rgb(255, 0, 0) END, FORMAT_STRING = \"#,###.00\"  SELECT NON EMPTY Union(Hierarchize([Epoch].[Epoch].[Branch].Members), [Epoch].[Epoch].[Branch].Members) ON ROWS, NON EMPTY {[Measures].[Actual RR Loss], [Measures].[Predicted RR Loss], [Measures].[Actual RR Loss - Predicted RR Loss]} ON COLUMNS FROM [customer_cube] CELL PROPERTIES BACK_COLOR, FONT_FLAGS, FORE_COLOR, FORMATTED_VALUE, VALUE"
      },
      "serverKey": "default",
      "widgetKey": "plotly-clustered-column-chart"
     }
    }
   },
   "outputs": [
    {
     "data": {
      "application/vnd.atoti.widget.v0+json": {
       "name": "NRR - Actual vs Predicted",
       "sessionId": "1685413173_PPEYJT",
       "sessionLocation": {
        "https": false,
        "port": 58900
       },
       "widgetCreationCode": "session.visualize()"
      },
      "text/html": [
       "<img src=\"data:image/svg+xml;charset=utf8,%3C%3Fxml%20version%3D%221.0%22%20standalone%3D%22no%22%3F%3E%3Csvg%20xmlns%3D%22http%3A%2F%2Fwww.w3.org%2F2000%2Fsvg%22%20xmlns%3Axlink%3D%22http%3A%2F%2Fwww.w3.org%2F1999%2Fxlink%22%20height%3D%22317%22%20width%3D%221342%22%20viewBox%3D%220%200%201342%20317%22%3E%3Cdefs%20id%3D%22defs-8031ca%22%3E%3Cg%20class%3D%22clips%22%3E%3CclipPath%20id%3D%22clip8031caxyplot%22%20class%3D%22plotclip%22%3E%3Crect%20width%3D%221063%22%20height%3D%22247%22%2F%3E%3C%2FclipPath%3E%3CclipPath%20class%3D%22axesclip%22%20id%3D%22clip8031cax%22%3E%3Crect%20x%3D%2280%22%20y%3D%220%22%20width%3D%221063%22%20height%3D%22317%22%2F%3E%3C%2FclipPath%3E%3CclipPath%20class%3D%22axesclip%22%20id%3D%22clip8031cay%22%3E%3Crect%20x%3D%220%22%20y%3D%2230%22%20width%3D%221342%22%20height%3D%22247%22%2F%3E%3C%2FclipPath%3E%3CclipPath%20class%3D%22axesclip%22%20id%3D%22clip8031caxy%22%3E%3Crect%20x%3D%2280%22%20y%3D%2230%22%20width%3D%221063%22%20height%3D%22247%22%2F%3E%3C%2FclipPath%3E%3C%2Fg%3E%3Cg%20class%3D%22gradients%22%2F%3E%3C%2Fdefs%3E%3Cg%20class%3D%22bglayer%22%2F%3E%3Cg%20class%3D%22draglayer%20cursor-crosshair%22%3E%3Cg%20class%3D%22xy%22%3E%3Crect%20class%3D%22nsewdrag%20drag%22%20data-subplot%3D%22xy%22%20x%3D%2280%22%20y%3D%2230%22%20width%3D%221063%22%20height%3D%22247%22%20style%3D%22fill%3A%20transparent%3B%20stroke-width%3A%200%3B%20pointer-events%3A%20all%3B%22%2F%3E%3Crect%20class%3D%22nwdrag%20drag%20cursor-nw-resize%22%20data-subplot%3D%22xy%22%20x%3D%2260%22%20y%3D%2210%22%20width%3D%2220%22%20height%3D%2220%22%20style%3D%22fill%3A%20transparent%3B%20stroke-width%3A%200%3B%20pointer-events%3A%20all%3B%22%2F%3E%3Crect%20class%3D%22nedrag%20drag%20cursor-ne-resize%22%20data-subplot%3D%22xy%22%20x%3D%221143%22%20y%3D%2210%22%20width%3D%2220%22%20height%3D%2220%22%20style%3D%22fill%3A%20transparent%3B%20stroke-width%3A%200%3B%20pointer-events%3A%20all%3B%22%2F%3E%3Crect%20class%3D%22swdrag%20drag%20cursor-sw-resize%22%20data-subplot%3D%22xy%22%20x%3D%2260%22%20y%3D%22277%22%20width%3D%2220%22%20height%3D%2220%22%20style%3D%22fill%3A%20transparent%3B%20stroke-width%3A%200%3B%20pointer-events%3A%20all%3B%22%2F%3E%3Crect%20class%3D%22sedrag%20drag%20cursor-se-resize%22%20data-subplot%3D%22xy%22%20x%3D%221143%22%20y%3D%22277%22%20width%3D%2220%22%20height%3D%2220%22%20style%3D%22fill%3A%20transparent%3B%20stroke-width%3A%200%3B%20pointer-events%3A%20all%3B%22%2F%3E%3Crect%20class%3D%22ewdrag%20drag%20cursor-ew-resize%22%20data-subplot%3D%22xy%22%20x%3D%22186.3%22%20y%3D%22277.5%22%20width%3D%22850.4000000000001%22%20height%3D%2220%22%20style%3D%22fill%3A%20transparent%3B%20stroke-width%3A%200%3B%20pointer-events%3A%20all%3B%22%2F%3E%3Crect%20class%3D%22wdrag%20drag%20cursor-w-resize%22%20data-subplot%3D%22xy%22%20x%3D%2280%22%20y%3D%22277.5%22%20width%3D%22106.30000000000001%22%20height%3D%2220%22%20style%3D%22fill%3A%20transparent%3B%20stroke-width%3A%200%3B%20pointer-events%3A%20all%3B%22%2F%3E%3Crect%20class%3D%22edrag%20drag%20cursor-e-resize%22%20data-subplot%3D%22xy%22%20x%3D%221036.7%22%20y%3D%22277.5%22%20width%3D%22106.30000000000001%22%20height%3D%2220%22%20style%3D%22fill%3A%20transparent%3B%20stroke-width%3A%200%3B%20pointer-events%3A%20all%3B%22%2F%3E%3Crect%20class%3D%22nsdrag%20drag%20cursor-ns-resize%22%20data-subplot%3D%22xy%22%20x%3D%2259.5%22%20y%3D%2254.7%22%20width%3D%2220%22%20height%3D%22197.60000000000002%22%20style%3D%22fill%3A%20transparent%3B%20stroke-width%3A%200%3B%20pointer-events%3A%20all%3B%22%2F%3E%3Crect%20class%3D%22sdrag%20drag%20cursor-s-resize%22%20data-subplot%3D%22xy%22%20x%3D%2259.5%22%20y%3D%22252.3%22%20width%3D%2220%22%20height%3D%2224.700000000000003%22%20style%3D%22fill%3A%20transparent%3B%20stroke-width%3A%200%3B%20pointer-events%3A%20all%3B%22%2F%3E%3Crect%20class%3D%22ndrag%20drag%20cursor-n-resize%22%20data-subplot%3D%22xy%22%20x%3D%2259.5%22%20y%3D%2230%22%20width%3D%2220%22%20height%3D%2224.700000000000003%22%20style%3D%22fill%3A%20transparent%3B%20stroke-width%3A%200%3B%20pointer-events%3A%20all%3B%22%2F%3E%3C%2Fg%3E%3C%2Fg%3E%3Cg%20class%3D%22layer-below%22%3E%3Cg%20class%3D%22imagelayer%22%2F%3E%3Cg%20class%3D%22shapelayer%22%2F%3E%3C%2Fg%3E%3Cg%20class%3D%22cartesianlayer%22%3E%3Cg%20class%3D%22subplot%20xy%22%3E%3Cg%20class%3D%22layer-subplot%22%3E%3Cg%20class%3D%22shapelayer%22%2F%3E%3Cg%20class%3D%22imagelayer%22%2F%3E%3C%2Fg%3E%3Cg%20class%3D%22gridlayer%22%3E%3Cg%20class%3D%22x%22%3E%3Cpath%20class%3D%22xgrid%20crisp%22%20transform%3D%22translate(186.3%2C0)%22%20d%3D%22M0%2C30v247%22%20style%3D%22stroke%3A%20rgb(0%2C%200%2C%200)%3B%20stroke-opacity%3A%200%3B%20stroke-width%3A%201px%3B%22%2F%3E%3Cpath%20class%3D%22xgrid%20crisp%22%20transform%3D%22translate(398.9%2C0)%22%20d%3D%22M0%2C30v247%22%20style%3D%22stroke%3A%20rgb(0%2C%200%2C%200)%3B%20stroke-opacity%3A%200%3B%20stroke-width%3A%201px%3B%22%2F%3E%3Cpath%20class%3D%22xgrid%20crisp%22%20transform%3D%22translate(611.5%2C0)%22%20d%3D%22M0%2C30v247%22%20style%3D%22stroke%3A%20rgb(0%2C%200%2C%200)%3B%20stroke-opacity%3A%200%3B%20stroke-width%3A%201px%3B%22%2F%3E%3Cpath%20class%3D%22xgrid%20crisp%22%20transform%3D%22translate(824.1%2C0)%22%20d%3D%22M0%2C30v247%22%20style%3D%22stroke%3A%20rgb(0%2C%200%2C%200)%3B%20stroke-opacity%3A%200%3B%20stroke-width%3A%201px%3B%22%2F%3E%3Cpath%20class%3D%22xgrid%20crisp%22%20transform%3D%22translate(1036.7%2C0)%22%20d%3D%22M0%2C30v247%22%20style%3D%22stroke%3A%20rgb(0%2C%200%2C%200)%3B%20stroke-opacity%3A%200%3B%20stroke-width%3A%201px%3B%22%2F%3E%3C%2Fg%3E%3Cg%20class%3D%22y%22%3E%3Cpath%20class%3D%22ygrid%20crisp%22%20transform%3D%22translate(0%2C272.48)%22%20d%3D%22M80%2C0h1063%22%20style%3D%22stroke%3A%20rgb(89%2C%2089%2C%2089)%3B%20stroke-opacity%3A%200.25%3B%20stroke-width%3A%201px%3B%22%2F%3E%3Cpath%20class%3D%22ygrid%20crisp%22%20transform%3D%22translate(0%2C237.39)%22%20d%3D%22M80%2C0h1063%22%20style%3D%22stroke%3A%20rgb(89%2C%2089%2C%2089)%3B%20stroke-opacity%3A%200.25%3B%20stroke-width%3A%201px%3B%22%2F%3E%3Cpath%20class%3D%22ygrid%20crisp%22%20transform%3D%22translate(0%2C167.23)%22%20d%3D%22M80%2C0h1063%22%20style%3D%22stroke%3A%20rgb(89%2C%2089%2C%2089)%3B%20stroke-opacity%3A%200.25%3B%20stroke-width%3A%201px%3B%22%2F%3E%3Cpath%20class%3D%22ygrid%20crisp%22%20transform%3D%22translate(0%2C132.15)%22%20d%3D%22M80%2C0h1063%22%20style%3D%22stroke%3A%20rgb(89%2C%2089%2C%2089)%3B%20stroke-opacity%3A%200.25%3B%20stroke-width%3A%201px%3B%22%2F%3E%3Cpath%20class%3D%22ygrid%20crisp%22%20transform%3D%22translate(0%2C97.06)%22%20d%3D%22M80%2C0h1063%22%20style%3D%22stroke%3A%20rgb(89%2C%2089%2C%2089)%3B%20stroke-opacity%3A%200.25%3B%20stroke-width%3A%201px%3B%22%2F%3E%3Cpath%20class%3D%22ygrid%20crisp%22%20transform%3D%22translate(0%2C61.980000000000004)%22%20d%3D%22M80%2C0h1063%22%20style%3D%22stroke%3A%20rgb(89%2C%2089%2C%2089)%3B%20stroke-opacity%3A%200.25%3B%20stroke-width%3A%201px%3B%22%2F%3E%3C%2Fg%3E%3C%2Fg%3E%3Cg%20class%3D%22zerolinelayer%22%3E%3Cpath%20class%3D%22yzl%20zl%20crisp%22%20transform%3D%22translate(0%2C202.31)%22%20d%3D%22M80%2C0h1063%22%20style%3D%22stroke%3A%20rgb(89%2C%2089%2C%2089)%3B%20stroke-opacity%3A%200.5%3B%20stroke-width%3A%201px%3B%22%2F%3E%3C%2Fg%3E%3Cpath%20class%3D%22xlines-below%22%2F%3E%3Cpath%20class%3D%22ylines-below%22%2F%3E%3Cg%20class%3D%22overlines-below%22%2F%3E%3Cg%20class%3D%22xaxislayer-below%22%2F%3E%3Cg%20class%3D%22yaxislayer-below%22%2F%3E%3Cg%20class%3D%22overaxes-below%22%2F%3E%3Cg%20class%3D%22plot%22%20transform%3D%22translate(80%2C30)%22%20clip-path%3D%22url('%23clip8031caxyplot')%22%3E%3Cg%20class%3D%22barlayer%20mlayer%22%3E%3Cg%20class%3D%22trace%20bars%22%20style%3D%22opacity%3A%201%3B%22%3E%3Cg%20class%3D%22points%22%3E%3Cg%20class%3D%22point%22%3E%3Cpath%20d%3D%22M21.26%2C172.31V74.69H77.95V172.31Z%22%20style%3D%22vector-effect%3A%20non-scaling-stroke%3B%20opacity%3A%201%3B%20stroke-width%3A%200px%3B%20fill%3A%20rgb(78%2C%20121%2C%20167)%3B%20fill-opacity%3A%201%3B%22%2F%3E%3C%2Fg%3E%3Cg%20class%3D%22point%22%3E%3Cpath%20d%3D%22M233.86%2C172.31V74.69H290.55V172.31Z%22%20style%3D%22vector-effect%3A%20non-scaling-stroke%3B%20opacity%3A%201%3B%20stroke-width%3A%200px%3B%20fill%3A%20rgb(78%2C%20121%2C%20167)%3B%20fill-opacity%3A%201%3B%22%2F%3E%3C%2Fg%3E%3Cg%20class%3D%22point%22%3E%3Cpath%20d%3D%22M446.46%2C172.31V74.69H503.15V172.31Z%22%20style%3D%22vector-effect%3A%20non-scaling-stroke%3B%20opacity%3A%201%3B%20stroke-width%3A%200px%3B%20fill%3A%20rgb(78%2C%20121%2C%20167)%3B%20fill-opacity%3A%201%3B%22%2F%3E%3C%2Fg%3E%3Cg%20class%3D%22point%22%3E%3Cpath%20d%3D%22M659.06%2C172.31V74.69H715.75V172.31Z%22%20style%3D%22vector-effect%3A%20non-scaling-stroke%3B%20opacity%3A%201%3B%20stroke-width%3A%200px%3B%20fill%3A%20rgb(78%2C%20121%2C%20167)%3B%20fill-opacity%3A%201%3B%22%2F%3E%3C%2Fg%3E%3Cg%20class%3D%22point%22%3E%3Cpath%20d%3D%22M871.66%2C172.31V74.69H928.35V172.31Z%22%20style%3D%22vector-effect%3A%20non-scaling-stroke%3B%20opacity%3A%201%3B%20stroke-width%3A%200px%3B%20fill%3A%20rgb(78%2C%20121%2C%20167)%3B%20fill-opacity%3A%201%3B%22%2F%3E%3C%2Fg%3E%3C%2Fg%3E%3C%2Fg%3E%3Cg%20class%3D%22trace%20bars%22%20style%3D%22opacity%3A%201%3B%22%3E%3Cg%20class%3D%22points%22%3E%3Cg%20class%3D%22point%22%3E%3Cpath%20d%3D%22M77.95%2C172.31V74.69H134.65V172.31Z%22%20style%3D%22vector-effect%3A%20non-scaling-stroke%3B%20opacity%3A%201%3B%20stroke-width%3A%200px%3B%20fill%3A%20rgb(242%2C%20142%2C%2044)%3B%20fill-opacity%3A%201%3B%22%2F%3E%3C%2Fg%3E%3Cg%20class%3D%22point%22%3E%3Cpath%20d%3D%22M290.55%2C172.31V12.35H347.25V172.31Z%22%20style%3D%22vector-effect%3A%20non-scaling-stroke%3B%20opacity%3A%201%3B%20stroke-width%3A%200px%3B%20fill%3A%20rgb(242%2C%20142%2C%2044)%3B%20fill-opacity%3A%201%3B%22%2F%3E%3C%2Fg%3E%3Cg%20class%3D%22point%22%3E%3Cpath%20d%3D%22M503.15%2C172.31V65.69H559.85V172.31Z%22%20style%3D%22vector-effect%3A%20non-scaling-stroke%3B%20opacity%3A%201%3B%20stroke-width%3A%200px%3B%20fill%3A%20rgb(242%2C%20142%2C%2044)%3B%20fill-opacity%3A%201%3B%22%2F%3E%3C%2Fg%3E%3Cg%20class%3D%22point%22%3E%3Cpath%20d%3D%22M715.75%2C172.31V73.55H772.45V172.31Z%22%20style%3D%22vector-effect%3A%20non-scaling-stroke%3B%20opacity%3A%201%3B%20stroke-width%3A%200px%3B%20fill%3A%20rgb(242%2C%20142%2C%2044)%3B%20fill-opacity%3A%201%3B%22%2F%3E%3C%2Fg%3E%3Cg%20class%3D%22point%22%3E%3Cpath%20d%3D%22M928.35%2C172.31V26.87H985.05V172.31Z%22%20style%3D%22vector-effect%3A%20non-scaling-stroke%3B%20opacity%3A%201%3B%20stroke-width%3A%200px%3B%20fill%3A%20rgb(242%2C%20142%2C%2044)%3B%20fill-opacity%3A%201%3B%22%2F%3E%3C%2Fg%3E%3C%2Fg%3E%3C%2Fg%3E%3Cg%20class%3D%22trace%20bars%22%20style%3D%22opacity%3A%201%3B%22%3E%3Cg%20class%3D%22points%22%3E%3Cg%20class%3D%22point%22%3E%3Cpath%20d%3D%22M134.65%2C172.31V172.31H191.34V172.31Z%22%20style%3D%22vector-effect%3A%20non-scaling-stroke%3B%20opacity%3A%201%3B%20stroke-width%3A%200px%3B%20fill%3A%20rgb(225%2C%2087%2C%2089)%3B%20fill-opacity%3A%201%3B%22%2F%3E%3C%2Fg%3E%3Cg%20class%3D%22point%22%3E%3Cpath%20d%3D%22M347.25%2C172.31V234.65H403.94V172.31Z%22%20style%3D%22vector-effect%3A%20non-scaling-stroke%3B%20opacity%3A%201%3B%20stroke-width%3A%200px%3B%20fill%3A%20rgb(225%2C%2087%2C%2089)%3B%20fill-opacity%3A%201%3B%22%2F%3E%3C%2Fg%3E%3Cg%20class%3D%22point%22%3E%3Cpath%20d%3D%22M559.85%2C172.31V181.31H616.54V172.31Z%22%20style%3D%22vector-effect%3A%20non-scaling-stroke%3B%20opacity%3A%201%3B%20stroke-width%3A%200px%3B%20fill%3A%20rgb(225%2C%2087%2C%2089)%3B%20fill-opacity%3A%201%3B%22%2F%3E%3C%2Fg%3E%3Cg%20class%3D%22point%22%3E%3Cpath%20d%3D%22M772.45%2C172V174H829.14V172Z%22%20style%3D%22vector-effect%3A%20non-scaling-stroke%3B%20opacity%3A%201%3B%20stroke-width%3A%200px%3B%20fill%3A%20rgb(225%2C%2087%2C%2089)%3B%20fill-opacity%3A%201%3B%22%2F%3E%3C%2Fg%3E%3Cg%20class%3D%22point%22%3E%3Cpath%20d%3D%22M985.05%2C172.31V220.13H1041.74V172.31Z%22%20style%3D%22vector-effect%3A%20non-scaling-stroke%3B%20opacity%3A%201%3B%20stroke-width%3A%200px%3B%20fill%3A%20rgb(225%2C%2087%2C%2089)%3B%20fill-opacity%3A%201%3B%22%2F%3E%3C%2Fg%3E%3C%2Fg%3E%3C%2Fg%3E%3C%2Fg%3E%3C%2Fg%3E%3Cg%20class%3D%22overplot%22%2F%3E%3Cpath%20class%3D%22xlines-above%20crisp%22%20style%3D%22fill%3A%20none%3B%20stroke-width%3A%201px%3B%20stroke%3A%20rgb(89%2C%2089%2C%2089)%3B%20stroke-opacity%3A%200.25%3B%22%20d%3D%22M79%2C277.5H1143%22%2F%3E%3Cpath%20class%3D%22ylines-above%20crisp%22%20style%3D%22fill%3A%20none%3B%20stroke-width%3A%201px%3B%20stroke%3A%20rgb(89%2C%2089%2C%2089)%3B%20stroke-opacity%3A%200.25%3B%22%20d%3D%22M79.5%2C30V277%22%2F%3E%3Cg%20class%3D%22overlines-above%22%2F%3E%3Cg%20class%3D%22xaxislayer-above%22%3E%3Cg%20class%3D%22xtick%22%3E%3Ctext%20text-anchor%3D%22middle%22%20x%3D%220%22%20y%3D%22292.4%22%20data-unformatted%3D%22Base%22%20data-math%3D%22N%22%20transform%3D%22translate(186.3%2C0)%22%20style%3D%22font-family%3A%20%26quot%3BOpen%20Sans%26quot%3B%2C%20verdana%2C%20arial%2C%20sans-serif%3B%20font-size%3A%2012px%3B%20fill%3A%20rgb(89%2C%2089%2C%2089)%3B%20fill-opacity%3A%201%3B%20white-space%3A%20pre%3B%22%3EBase%3C%2Ftext%3E%3C%2Fg%3E%3Cg%20class%3D%22xtick%22%3E%3Ctext%20text-anchor%3D%22middle%22%20x%3D%220%22%20y%3D%22292.4%22%20data-unformatted%3D%22Dummy%20Uniform%20Classifier%22%20data-math%3D%22N%22%20transform%3D%22translate(398.9%2C0)%22%20style%3D%22font-family%3A%20%26quot%3BOpen%20Sans%26quot%3B%2C%20verdana%2C%20arial%2C%20sans-serif%3B%20font-size%3A%2012px%3B%20fill%3A%20rgb(89%2C%2089%2C%2089)%3B%20fill-opacity%3A%201%3B%20white-space%3A%20pre%3B%22%3EDummy%20Uniform%20Classifier%3C%2Ftext%3E%3C%2Fg%3E%3Cg%20class%3D%22xtick%22%3E%3Ctext%20text-anchor%3D%22middle%22%20x%3D%220%22%20y%3D%22292.4%22%20data-unformatted%3D%22Logistic%20Regression%20Classifier%22%20data-math%3D%22N%22%20transform%3D%22translate(611.5%2C0)%22%20style%3D%22font-family%3A%20%26quot%3BOpen%20Sans%26quot%3B%2C%20verdana%2C%20arial%2C%20sans-serif%3B%20font-size%3A%2012px%3B%20fill%3A%20rgb(89%2C%2089%2C%2089)%3B%20fill-opacity%3A%201%3B%20white-space%3A%20pre%3B%22%3ELogistic%20Regression%20Classifier%3C%2Ftext%3E%3C%2Fg%3E%3Cg%20class%3D%22xtick%22%3E%3Ctext%20text-anchor%3D%22middle%22%20x%3D%220%22%20y%3D%22292.4%22%20data-unformatted%3D%22Naive%20Bayes%20Classifier%22%20data-math%3D%22N%22%20transform%3D%22translate(824.1%2C0)%22%20style%3D%22font-family%3A%20%26quot%3BOpen%20Sans%26quot%3B%2C%20verdana%2C%20arial%2C%20sans-serif%3B%20font-size%3A%2012px%3B%20fill%3A%20rgb(89%2C%2089%2C%2089)%3B%20fill-opacity%3A%201%3B%20white-space%3A%20pre%3B%22%3ENaive%20Bayes%20Classifier%3C%2Ftext%3E%3C%2Fg%3E%3Cg%20class%3D%22xtick%22%3E%3Ctext%20text-anchor%3D%22middle%22%20x%3D%220%22%20y%3D%22292.4%22%20data-unformatted%3D%22SVM%20Classifier%22%20data-math%3D%22N%22%20transform%3D%22translate(1036.7%2C0)%22%20style%3D%22font-family%3A%20%26quot%3BOpen%20Sans%26quot%3B%2C%20verdana%2C%20arial%2C%20sans-serif%3B%20font-size%3A%2012px%3B%20fill%3A%20rgb(89%2C%2089%2C%2089)%3B%20fill-opacity%3A%201%3B%20white-space%3A%20pre%3B%22%3ESVM%20Classifier%3C%2Ftext%3E%3C%2Fg%3E%3C%2Fg%3E%3Cg%20class%3D%22yaxislayer-above%22%3E%3Cg%20class%3D%22ytick%22%3E%3Ctext%20text-anchor%3D%22end%22%20x%3D%2276.6%22%20y%3D%224.199999999999999%22%20data-unformatted%3D%22%E2%88%92100k%22%20data-math%3D%22N%22%20transform%3D%22translate(0%2C272.48)%22%20style%3D%22font-family%3A%20%26quot%3BOpen%20Sans%26quot%3B%2C%20verdana%2C%20arial%2C%20sans-serif%3B%20font-size%3A%2012px%3B%20fill%3A%20rgb(89%2C%2089%2C%2089)%3B%20fill-opacity%3A%201%3B%20white-space%3A%20pre%3B%22%3E%E2%88%92100k%3C%2Ftext%3E%3C%2Fg%3E%3Cg%20class%3D%22ytick%22%3E%3Ctext%20text-anchor%3D%22end%22%20x%3D%2276.6%22%20y%3D%224.199999999999999%22%20data-unformatted%3D%22%E2%88%9250k%22%20data-math%3D%22N%22%20transform%3D%22translate(0%2C237.39)%22%20style%3D%22font-family%3A%20%26quot%3BOpen%20Sans%26quot%3B%2C%20verdana%2C%20arial%2C%20sans-serif%3B%20font-size%3A%2012px%3B%20fill%3A%20rgb(89%2C%2089%2C%2089)%3B%20fill-opacity%3A%201%3B%20white-space%3A%20pre%3B%22%3E%E2%88%9250k%3C%2Ftext%3E%3C%2Fg%3E%3Cg%20class%3D%22ytick%22%3E%3Ctext%20text-anchor%3D%22end%22%20x%3D%2276.6%22%20y%3D%224.199999999999999%22%20data-unformatted%3D%220%22%20data-math%3D%22N%22%20transform%3D%22translate(0%2C202.31)%22%20style%3D%22font-family%3A%20%26quot%3BOpen%20Sans%26quot%3B%2C%20verdana%2C%20arial%2C%20sans-serif%3B%20font-size%3A%2012px%3B%20fill%3A%20rgb(89%2C%2089%2C%2089)%3B%20fill-opacity%3A%201%3B%20white-space%3A%20pre%3B%22%3E0%3C%2Ftext%3E%3C%2Fg%3E%3Cg%20class%3D%22ytick%22%3E%3Ctext%20text-anchor%3D%22end%22%20x%3D%2276.6%22%20y%3D%224.199999999999999%22%20data-unformatted%3D%2250k%22%20data-math%3D%22N%22%20transform%3D%22translate(0%2C167.23)%22%20style%3D%22font-family%3A%20%26quot%3BOpen%20Sans%26quot%3B%2C%20verdana%2C%20arial%2C%20sans-serif%3B%20font-size%3A%2012px%3B%20fill%3A%20rgb(89%2C%2089%2C%2089)%3B%20fill-opacity%3A%201%3B%20white-space%3A%20pre%3B%22%3E50k%3C%2Ftext%3E%3C%2Fg%3E%3Cg%20class%3D%22ytick%22%3E%3Ctext%20text-anchor%3D%22end%22%20x%3D%2276.6%22%20y%3D%224.199999999999999%22%20data-unformatted%3D%22100k%22%20data-math%3D%22N%22%20transform%3D%22translate(0%2C132.15)%22%20style%3D%22font-family%3A%20%26quot%3BOpen%20Sans%26quot%3B%2C%20verdana%2C%20arial%2C%20sans-serif%3B%20font-size%3A%2012px%3B%20fill%3A%20rgb(89%2C%2089%2C%2089)%3B%20fill-opacity%3A%201%3B%20white-space%3A%20pre%3B%22%3E100k%3C%2Ftext%3E%3C%2Fg%3E%3Cg%20class%3D%22ytick%22%3E%3Ctext%20text-anchor%3D%22end%22%20x%3D%2276.6%22%20y%3D%224.199999999999999%22%20data-unformatted%3D%22150k%22%20data-math%3D%22N%22%20transform%3D%22translate(0%2C97.06)%22%20style%3D%22font-family%3A%20%26quot%3BOpen%20Sans%26quot%3B%2C%20verdana%2C%20arial%2C%20sans-serif%3B%20font-size%3A%2012px%3B%20fill%3A%20rgb(89%2C%2089%2C%2089)%3B%20fill-opacity%3A%201%3B%20white-space%3A%20pre%3B%22%3E150k%3C%2Ftext%3E%3C%2Fg%3E%3Cg%20class%3D%22ytick%22%3E%3Ctext%20text-anchor%3D%22end%22%20x%3D%2276.6%22%20y%3D%224.199999999999999%22%20data-unformatted%3D%22200k%22%20data-math%3D%22N%22%20transform%3D%22translate(0%2C61.980000000000004)%22%20style%3D%22font-family%3A%20%26quot%3BOpen%20Sans%26quot%3B%2C%20verdana%2C%20arial%2C%20sans-serif%3B%20font-size%3A%2012px%3B%20fill%3A%20rgb(89%2C%2089%2C%2089)%3B%20fill-opacity%3A%201%3B%20white-space%3A%20pre%3B%22%3E200k%3C%2Ftext%3E%3C%2Fg%3E%3C%2Fg%3E%3Cg%20class%3D%22overaxes-above%22%2F%3E%3C%2Fg%3E%3C%2Fg%3E%3Cg%20class%3D%22polarlayer%22%2F%3E%3Cg%20class%3D%22ternarylayer%22%2F%3E%3Cg%20class%3D%22geolayer%22%2F%3E%3Cg%20class%3D%22funnelarealayer%22%2F%3E%3Cg%20class%3D%22pielayer%22%2F%3E%3Cg%20class%3D%22treemaplayer%22%2F%3E%3Cg%20class%3D%22sunburstlayer%22%2F%3E%3Cg%20class%3D%22glimages%22%2F%3E%3Cdefs%20id%3D%22topdefs-8031ca%22%3E%3Cg%20class%3D%22clips%22%2F%3E%3CclipPath%20id%3D%22legend8031ca%22%3E%3Crect%20width%3D%22178%22%20height%3D%2287%22%20x%3D%220%22%20y%3D%220%22%2F%3E%3C%2FclipPath%3E%3C%2Fdefs%3E%3Cg%20class%3D%22indicatorlayer%22%2F%3E%3Cg%20class%3D%22layer-above%22%3E%3Cg%20class%3D%22imagelayer%22%2F%3E%3Cg%20class%3D%22shapelayer%22%2F%3E%3C%2Fg%3E%3Cg%20class%3D%22infolayer%22%3E%3Cg%20class%3D%22legend%22%20pointer-events%3D%22all%22%20transform%3D%22translate(1164%2C30)%22%3E%3Crect%20class%3D%22bg%22%20shape-rendering%3D%22crispEdges%22%20style%3D%22stroke%3A%20rgb(68%2C%2068%2C%2068)%3B%20stroke-opacity%3A%201%3B%20fill%3A%20rgb(255%2C%20255%2C%20255)%3B%20fill-opacity%3A%201%3B%20stroke-width%3A%200px%3B%22%20width%3D%22178%22%20height%3D%2287%22%20x%3D%220%22%20y%3D%220%22%2F%3E%3Cg%20class%3D%22scrollbox%22%20transform%3D%22%22%20clip-path%3D%22url('%23legend8031ca')%22%3E%3Cg%20class%3D%22groups%22%20transform%3D%22%22%3E%3Cg%20class%3D%22traces%22%20style%3D%22opacity%3A%201%3B%22%20transform%3D%22translate(0%2C14.5)%22%3E%3Ctext%20class%3D%22legendtext%22%20text-anchor%3D%22start%22%20x%3D%2240%22%20y%3D%224.680000000000001%22%20data-unformatted%3D%22Actual%20RR%20Loss%22%20data-math%3D%22N%22%20style%3D%22font-family%3A%20%26quot%3BOpen%20Sans%26quot%3B%2C%20verdana%2C%20arial%2C%20sans-serif%3B%20font-size%3A%2012px%3B%20fill%3A%20rgb(89%2C%2089%2C%2089)%3B%20fill-opacity%3A%201%3B%20white-space%3A%20pre%3B%22%3EActual%20RR%20Loss%3C%2Ftext%3E%3Cg%20class%3D%22layers%22%20style%3D%22opacity%3A%201%3B%22%3E%3Cg%20class%3D%22legendfill%22%2F%3E%3Cg%20class%3D%22legendlines%22%2F%3E%3Cg%20class%3D%22legendsymbols%22%3E%3Cg%20class%3D%22legendpoints%22%3E%3Cpath%20class%3D%22legendundefined%22%20d%3D%22M6%2C6H-6V-6H6Z%22%20transform%3D%22translate(20%2C0)%22%20style%3D%22stroke-width%3A%200px%3B%20fill%3A%20rgb(78%2C%20121%2C%20167)%3B%20fill-opacity%3A%201%3B%22%2F%3E%3C%2Fg%3E%3C%2Fg%3E%3C%2Fg%3E%3Crect%20class%3D%22legendtoggle%22%20pointer-events%3D%22all%22%20x%3D%220%22%20y%3D%22-9.5%22%20width%3D%22172.546875%22%20height%3D%2219%22%20style%3D%22cursor%3A%20pointer%3B%20fill%3A%20rgb(0%2C%200%2C%200)%3B%20fill-opacity%3A%200%3B%22%2F%3E%3C%2Fg%3E%3C%2Fg%3E%3Cg%20class%3D%22groups%22%20transform%3D%22translate(0%2C10)%22%3E%3Cg%20class%3D%22traces%22%20style%3D%22opacity%3A%201%3B%22%20transform%3D%22translate(0%2C33.5)%22%3E%3Ctext%20class%3D%22legendtext%22%20text-anchor%3D%22start%22%20x%3D%2240%22%20y%3D%224.680000000000001%22%20data-unformatted%3D%22Predicted%20RR%20Loss%22%20data-math%3D%22N%22%20style%3D%22font-family%3A%20%26quot%3BOpen%20Sans%26quot%3B%2C%20verdana%2C%20arial%2C%20sans-serif%3B%20font-size%3A%2012px%3B%20fill%3A%20rgb(89%2C%2089%2C%2089)%3B%20fill-opacity%3A%201%3B%20white-space%3A%20pre%3B%22%3EPredicted%20RR%20Loss%3C%2Ftext%3E%3Cg%20class%3D%22layers%22%20style%3D%22opacity%3A%201%3B%22%3E%3Cg%20class%3D%22legendfill%22%2F%3E%3Cg%20class%3D%22legendlines%22%2F%3E%3Cg%20class%3D%22legendsymbols%22%3E%3Cg%20class%3D%22legendpoints%22%3E%3Cpath%20class%3D%22legendundefined%22%20d%3D%22M6%2C6H-6V-6H6Z%22%20transform%3D%22translate(20%2C0)%22%20style%3D%22stroke-width%3A%200px%3B%20fill%3A%20rgb(242%2C%20142%2C%2044)%3B%20fill-opacity%3A%201%3B%22%2F%3E%3C%2Fg%3E%3C%2Fg%3E%3C%2Fg%3E%3Crect%20class%3D%22legendtoggle%22%20pointer-events%3D%22all%22%20x%3D%220%22%20y%3D%22-9.5%22%20width%3D%22172.546875%22%20height%3D%2219%22%20style%3D%22cursor%3A%20pointer%3B%20fill%3A%20rgb(0%2C%200%2C%200)%3B%20fill-opacity%3A%200%3B%22%2F%3E%3C%2Fg%3E%3C%2Fg%3E%3Cg%20class%3D%22groups%22%20transform%3D%22translate(0%2C20)%22%3E%3Cg%20class%3D%22traces%22%20style%3D%22opacity%3A%201%3B%22%20transform%3D%22translate(0%2C52.5)%22%3E%3Ctext%20class%3D%22legendtext%22%20text-anchor%3D%22start%22%20x%3D%2240%22%20y%3D%224.680000000000001%22%20data-unformatted%3D%22Difference%20with%20Actual%22%20data-math%3D%22N%22%20style%3D%22font-family%3A%20%26quot%3BOpen%20Sans%26quot%3B%2C%20verdana%2C%20arial%2C%20sans-serif%3B%20font-size%3A%2012px%3B%20fill%3A%20rgb(89%2C%2089%2C%2089)%3B%20fill-opacity%3A%201%3B%20white-space%3A%20pre%3B%22%3EDifference%20with%20Actual%3C%2Ftext%3E%3Cg%20class%3D%22layers%22%20style%3D%22opacity%3A%201%3B%22%3E%3Cg%20class%3D%22legendfill%22%2F%3E%3Cg%20class%3D%22legendlines%22%2F%3E%3Cg%20class%3D%22legendsymbols%22%3E%3Cg%20class%3D%22legendpoints%22%3E%3Cpath%20class%3D%22legendundefined%22%20d%3D%22M6%2C6H-6V-6H6Z%22%20transform%3D%22translate(20%2C0)%22%20style%3D%22stroke-width%3A%200px%3B%20fill%3A%20rgb(225%2C%2087%2C%2089)%3B%20fill-opacity%3A%201%3B%22%2F%3E%3C%2Fg%3E%3C%2Fg%3E%3C%2Fg%3E%3Crect%20class%3D%22legendtoggle%22%20pointer-events%3D%22all%22%20x%3D%220%22%20y%3D%22-9.5%22%20width%3D%22172.546875%22%20height%3D%2219%22%20style%3D%22cursor%3A%20pointer%3B%20fill%3A%20rgb(0%2C%200%2C%200)%3B%20fill-opacity%3A%200%3B%22%2F%3E%3C%2Fg%3E%3C%2Fg%3E%3C%2Fg%3E%3Crect%20class%3D%22scrollbar%22%20rx%3D%2220%22%20ry%3D%223%22%20width%3D%220%22%20height%3D%220%22%20style%3D%22fill%3A%20rgb(128%2C%20139%2C%20164)%3B%20fill-opacity%3A%201%3B%22%20x%3D%220%22%20y%3D%220%22%2F%3E%3C%2Fg%3E%3Cg%20class%3D%22g-gtitle%22%2F%3E%3Cg%20class%3D%22g-xtitle%22%2F%3E%3Cg%20class%3D%22g-ytitle%22%2F%3E%3C%2Fg%3E%3Cg%20class%3D%22menulayer%22%2F%3E%3Cg%20class%3D%22zoomlayer%22%2F%3E%3Cg%20class%3D%22hoverlayer%22%2F%3E%3C%2Fsvg%3E\">"
      ],
      "text/plain": [
       "Open the notebook in JupyterLab with the Atoti extension enabled to build this widget."
      ]
     },
     "metadata": {},
     "output_type": "display_data"
    }
   ],
   "source": [
    "session.visualize(\"NRR - Actual vs Predicted\")"
   ]
  },
  {
   "cell_type": "markdown",
   "metadata": {},
   "source": [
    "Is it better to adopt a model that over-estimates the loss? After all, if we manage to retain these customers, the revenue will be retained.\n",
    "If we adopt a model that under-estimates the loss, we would end up retaining less customers than necessary to maintain our NRR.  \n",
    "\n",
    "Let's help business decide with a customer retention strategy that depicts the loss and gain by each model."
   ]
  },
  {
   "cell_type": "markdown",
   "metadata": {
    "execution": {
     "iopub.execute_input": "2020-07-16T10:50:02.048627Z",
     "iopub.status.busy": "2020-07-16T10:50:02.048627Z",
     "iopub.status.idle": "2020-07-16T10:50:02.052603Z",
     "shell.execute_reply": "2020-07-16T10:50:02.051622Z",
     "shell.execute_reply.started": "2020-07-16T10:50:02.048627Z"
    }
   },
   "source": [
    "#### Customer Retention Strategy\n",
    "\n",
    "We have to reduce the rate of attrition before the telco loses all its customers.  \n",
    "To do so, we have 2 potential strategies:\n",
    "1. retain existing customers through better service offers or discounts etc\n",
    "2. replace the churned customers through marketing effort\n",
    "\n",
    "According to [Harvard Business Review](https://hbr.org/2014/10/the-value-of-keeping-the-right-customers), it can cost 5 to 25 times more money to replace a customer than retaining one.  \n",
    "It is not realistic to assume we will be able to retain all customers, so let's make some assumptions:\n",
    "1. We aim to achieve a target NRR of 90%\n",
    "2. We compute the number of customers that we need to retain in order to achieve this target NRR\n",
    "3. For each customer identified, we will set aside a budget of $100 for retention purpose\n",
    "4. We do not know who has really churned yet\n",
    "\n",
    "Let's start by creating a measure for our target NRR. This is so that we can change our target later in our simulations."
   ]
  },
  {
   "cell_type": "code",
   "execution_count": 33,
   "metadata": {},
   "outputs": [],
   "source": [
    "m[\"TargetNRR\"] = 0.9"
   ]
  },
  {
   "cell_type": "markdown",
   "metadata": {},
   "source": [
    "To achieve the target NRR, we compute the maximum loss possible."
   ]
  },
  {
   "cell_type": "code",
   "execution_count": 34,
   "metadata": {},
   "outputs": [],
   "source": [
    "m[\"Expected RR Loss\"] = m[\"MRR Initial\"] - (m[\"TargetNRR\"] * m[\"MRR Initial\"])"
   ]
  },
  {
   "cell_type": "markdown",
   "metadata": {},
   "source": [
    "We define _Predicted RR Loss Overflow_ here as the amount of money between what we predicted we will be losing and the maximum loss we can have in order to achieve the target NRR.  \n",
    "We need this as a target revenue amount that we need to obtain from the customers that are either to be retained or replaced."
   ]
  },
  {
   "cell_type": "code",
   "execution_count": 35,
   "metadata": {},
   "outputs": [],
   "source": [
    "m[\"Predicted RR Loss Overflow\"] = tt.total(\n",
    "    m[\"Predicted RR Loss\"] - m[\"Expected RR Loss\"], h[\"CustomerID\"]\n",
    ")"
   ]
  },
  {
   "cell_type": "markdown",
   "metadata": {},
   "source": [
    "Let's take the average _MonthlyCharges_ of those who are predicted to churn as the amount that each retained customer will give.  \n",
    "Notice we use [`atoti.parent_value`](https://docs.atoti.io/0.4.1/lib/atoti.html?#atoti.parent_value) on the `ChurnMean`, this is because we need this value to be constant across all the customers in order to have a constant Predicted Churn Overflow .\n",
    "\n",
    "By dividing the _Predicted RR Loss Overflow_ by the average _MonthlyCharges_, we get the target number of customers to retain for each algorithm."
   ]
  },
  {
   "cell_type": "code",
   "execution_count": 36,
   "metadata": {},
   "outputs": [],
   "source": [
    "m[\"Churn MonthlyCharges.MEAN\"] = tt.parent_value(\n",
    "    m[\"MonthlyCharges.MEAN\"],\n",
    "    degrees={h[\"CustomerID\"]: 1, h[\"ChurnPredicted\"]: 1},\n",
    "    apply_filters=False,\n",
    "    total_value=m[\"MonthlyCharges.MEAN\"],\n",
    ")"
   ]
  },
  {
   "cell_type": "code",
   "execution_count": 37,
   "metadata": {},
   "outputs": [],
   "source": [
    "m[\"Predicted Churn Overflow\"] = tt.total(\n",
    "    tt.math.ceil(m[\"Predicted RR Loss Overflow\"] / m[\"Churn MonthlyCharges.MEAN\"]),\n",
    "    h[\"ChurnPredicted\"],\n",
    ")"
   ]
  },
  {
   "cell_type": "markdown",
   "metadata": {},
   "source": [
    "Let's also create a measure for _Predicted Churn Count_ so that we can see how many customers are predicted to churn and how many we intend to retain."
   ]
  },
  {
   "cell_type": "code",
   "execution_count": 38,
   "metadata": {},
   "outputs": [],
   "source": [
    "m[\"Predicted Churn Count\"] = tt.agg.sum(\n",
    "    tt.filter(m[\"contributors.COUNT\"], l[\"ChurnPredicted\"] == \"Yes\"),\n",
    "    scope=tt.OriginScope(l[\"CustomerID\"], l[\"ChurnPredicted\"]),\n",
    ")"
   ]
  },
  {
   "cell_type": "markdown",
   "metadata": {},
   "source": [
    "From the base scenario, we can see that in order to maintain NRR of 90%, we should retain 1,444 customers based on the actual churn.  \n",
    "However, we can see that _Naive Bayes Classifier_ has the smallest gap to the base scenario in terms of number of customers to retain.  "
   ]
  },
  {
   "cell_type": "code",
   "execution_count": 39,
   "metadata": {
    "atoti": {
     "height": 230,
     "widget": {
      "columnWidths": {
       "[Epoch].[Epoch].[Branch]": 164,
       "[Measures].[Churn MonthlyCharges.MEAN]": 178,
       "[Measures].[Predicted Churn Count]": 145,
       "[Measures].[Predicted Churn Overflow (1)]": 159.1999969482422,
       "[Measures].[Predicted Churn Overflow]": 162,
       "[Measures].[Predicted RR Loss Overflow]": 174
      },
      "filters": [],
      "mapping": {
       "columns": [
        "ALL_MEASURES"
       ],
       "measures": [
        "[Measures].[Predicted RR Loss]",
        "[Measures].[Expected RR Loss]",
        "[Measures].[Predicted RR Loss Overflow]",
        "[Measures].[Churn MonthlyCharges.MEAN]",
        "[Measures].[Predicted Churn Overflow (1)]",
        "[Measures].[Predicted Churn Count]",
        "[Measures].[Nb not retained]"
       ],
       "rows": [
        "[Epoch].[Epoch].[Branch]"
       ]
      },
      "name": "Predicted churn vs Predicted Churn Overflow",
      "query": {
       "context": {
        "queriesResultLimit.intermediateSize": 1000000,
        "queriesResultLimit.transientSize": 10000000
       },
       "mdx": "WITH  Member [Measures].[Predicted Churn Overflow (1)] AS [Measures].[Predicted Churn Overflow], CAPTION = [Measures].[Predicted Churn Overflow].MEMBER_CAPTION, BACK_COLOR = rgb(193, 251, 138), FORMAT_STRING = \"#,###.00\"    Member [Measures].[Nb not retained] AS [Measures].[Predicted Churn Count] - [Measures].[Predicted Churn Overflow], CAPTION = \"Nb. not retained\", BACK_COLOR = rgb(250, 196, 87), FORMAT_STRING = \"#,###.00\"  SELECT NON EMPTY {[Measures].[Predicted RR Loss], [Measures].[Expected RR Loss], [Measures].[Predicted RR Loss Overflow], [Measures].[Churn MonthlyCharges.MEAN], [Measures].[Predicted Churn Overflow (1)], [Measures].[Predicted Churn Count], [Measures].[Nb not retained]} ON COLUMNS, NON EMPTY [Epoch].[Epoch].[Branch].Members ON ROWS FROM [customer_cube] CELL PROPERTIES VALUE, FORMATTED_VALUE, BACK_COLOR, FORE_COLOR, FONT_FLAGS"
      },
      "serverKey": "default",
      "widgetKey": "pivot-table"
     }
    }
   },
   "outputs": [
    {
     "data": {
      "application/vnd.atoti.widget.v0+json": {
       "name": "Predicted churn vs Predicted Churn Overflow",
       "sessionId": "1685413173_PPEYJT",
       "sessionLocation": {
        "https": false,
        "port": 58900
       },
       "widgetCreationCode": "session.visualize()"
      },
      "text/html": [
       "<img src=\"data:image/svg+xml;charset=utf8,%3C%3Fxml%20version%3D%221.0%22%20standalone%3D%22no%22%3F%3E%3Csvg%20xmlns%3D%22http%3A%2F%2Fwww.w3.org%2F2000%2Fsvg%22%20height%3D%22222%22%20width%3D%221342%22%3E%3CforeignObject%20width%3D%22100%25%22%20height%3D%22100%25%22%20x%3D%220%22%20y%3D%220%22%3E%3Cstyle%20xmlns%3D%22http%3A%2F%2Fwww.w3.org%2F1999%2Fxhtml%22%20type%3D%22text%2Fcss%22%3E*%2C%20%3A%3Abefore%2C%20%3A%3Aafter%20%7Bbox-sizing%3A%20unset%7D%0A.ant-root%20%5Bclass%5E%3D%22ant-%22%5D%2C%20.ant-root%20%5Bclass*%3D%22ant-%22%5D%2C%20.ant-root%20%5Bclass%5E%3D%22ant-%22%5D%20*%2C%20.ant-root%20%5Bclass*%3D%22ant-%22%5D%20*%2C%20.ant-root%20%5Bclass%5E%3D%22ant-%22%5D%20%3A%3Abefore%2C%20.ant-root%20%5Bclass*%3D%22ant-%22%5D%20%3A%3Abefore%2C%20.ant-root%20%5Bclass%5E%3D%22ant-%22%5D%20%3A%3Aafter%2C%20.ant-root%20%5Bclass*%3D%22ant-%22%5D%20%3A%3Aafter%20%7Bbox-sizing%3A%20border-box%7D%0A.ant-root%2C%20.ant-root%20%7Bwidth%3A%20100%25%3B%20height%3A%20100%25%7D%0A.ant-root%20*%2C%20.ant-root%20%3A%3Abefore%2C%20.ant-root%20%3A%3Aafter%20%7Bbox-sizing%3A%20border-box%7D%0A.ant-root%20%7Btext-size-adjust%3A%20100%25%3B%20-webkit-tap-highlight-color%3A%20rgba(0%2C%200%2C%200%2C%200)%3B%20font-family%3A%20-apple-system%2C%20BlinkMacSystemFont%2C%20%22Segoe%20UI%22%2C%20Roboto%2C%20%22Helvetica%20Neue%22%2C%20Arial%2C%20%22Noto%20Sans%22%2C%20sans-serif%2C%20%22Apple%20Color%20Emoji%22%2C%20%22Segoe%20UI%20Emoji%22%2C%20%22Segoe%20UI%20Symbol%22%2C%20%22Noto%20Color%20Emoji%22%3B%20line-height%3A%201.66667%3B%20color%3A%20rgb(89%2C%2089%2C%2089)%3B%20font-variant-ligatures%3A%20normal%3B%20font-variant-numeric%3A%20tabular-nums%3B%20font-variant-east-asian%3A%20normal%3B%20font-variant-caps%3A%20normal%3B%20font-variant-alternates%3A%20normal%3B%20background-color%3A%20rgb(255%2C%20255%2C%20255)%3B%20margin-top%3A%200px%3B%20margin-right%3A%200px%3B%20margin-bottom%3A%200px%3B%20margin-left%3A%200px%3B%20font-size%3A%2012px%3B%20--antd-wave-shadow-color%3A%20%231890ff%3B%20--scroll-bar%3A%200%7D%0A.ant-root%20.aui-invisible-scrollbars%20%7B%7D%0A.css-12ebr42-AWidget%20%7Bheight%3A%20100%25%7D%0A.css-1b1raxz-DefaultWidgetLoadingOverlay%20%7Bdisplay%3A%20flex%3B%20height%3A%20100%25%3B%20-webkit-box-pack%3A%20center%3B%20justify-content%3A%20center%3B%20position%3A%20absolute%3B%20width%3A%20100%25%3B%20-webkit-box-align%3A%20center%3B%20align-items%3A%20center%3B%20pointer-events%3A%20none%3B%20z-index%3A%202%7D%0A.css-34a2ml-DefaultWidgetLoadingOverlay%20%7Bbackground-image%3A%20initial%3B%20background-position-x%3A%20initial%3B%20background-position-y%3A%20initial%3B%20background-size%3A%20initial%3B%20background-repeat-x%3A%20initial%3B%20background-repeat-y%3A%20initial%3B%20background-attachment%3A%20initial%3B%20background-origin%3A%20initial%3B%20background-clip%3A%20initial%3B%20background-color%3A%20transparent%3B%20width%3A%20calc(100%25%20-%204px)%3B%20height%3A%20calc(100%25%20-%204px)%7D%0A.css-2p9ued-WidgetLoadingOverlay%20%7Bheight%3A%20100%25%3B%20position%3A%20relative%7D%0A.css-1hwl8p1-Table%20%7Bpadding-bottom%3A%202px%3B%20padding-right%3A%202px%3B%20height%3A%20100%25%7D%0A.css-14ejcn0-Table%20%7Bheight%3A%20calc(100%25%20-%2030px)%3B%20outline-color%3A%20initial%3B%20outline-style%3A%20none%3B%20outline-width%3A%20initial%3B%20position%3A%20relative%7D%0A.css-1rxpjm0-ColumnResizeHint%20%7Bdisplay%3A%20none%3B%20position%3A%20absolute%3B%20z-index%3A%201%7D%0A.css-walxhl-ColumnResizeHint%20%7Bheight%3A%2028px%3B%20background-color%3A%20rgb(24%2C%20144%2C%20255)%3B%20width%3A%205px%7D%0A.css-1uww2vi-Table%20%7Bheight%3A%2030px%3B%20text-align%3A%20right%3B%20padding-right%3A%2025px%7D%0A.css-xxcrt1-ResizableCell%20%7Bbackground-image%3A%20initial%3B%20background-position-x%3A%20initial%3B%20background-position-y%3A%20initial%3B%20background-size%3A%20initial%3B%20background-repeat-x%3A%20initial%3B%20background-repeat-y%3A%20initial%3B%20background-attachment%3A%20initial%3B%20background-origin%3A%20initial%3B%20background-clip%3A%20initial%3B%20background-color%3A%20transparent%3B%20cursor%3A%20col-resize%3B%20height%3A%20100%25%3B%20position%3A%20absolute%3B%20right%3A%200px%3B%20width%3A%205px%3B%20z-index%3A%201%7D%0A.css-1hol363-ResizableCell%20%7Bdisplay%3A%20flex%3B%20flex-direction%3A%20column%3B%20position%3A%20absolute%3B%20top%3A%200px%3B%20left%3A%200px%3B%20height%3A%2028px%3B%20width%3A%20120px%7D%0A.css-fpuq48-ResizableCell%20%7Bdisplay%3A%20flex%3B%20flex-direction%3A%20column%3B%20position%3A%20absolute%3B%20top%3A%200px%3B%20left%3A%20120px%3B%20height%3A%2028px%3B%20width%3A%20120px%7D%0A.css-1mpsr70-ColumnResizeHint%20%7Bdisplay%3A%20none%3B%20float%3A%20right%3B%20height%3A%20162px%3B%20background-color%3A%20rgb(24%2C%20144%2C%20255)%3B%20opacity%3A%200.4%3B%20width%3A%202px%7D%0A.css-1nk7kqc-Table%20%7Bdisplay%3A%20flex%3B%20height%3A%20190px%7D%0A.css-ujw29l-Table%20%7Bborder-collapse%3A%20collapse%3B%20height%3A%2028px%3B%20width%3A%20164px%7D%0A.css-18c96v8%20%7Bheight%3A%2028px%3B%20width%3A%20164px%7D%0A.css-jbi2x0%20%7Bcursor%3A%20cell%3B%20height%3A%2028px%3B%20overflow-x%3A%20hidden%3B%20overflow-y%3A%20hidden%3B%20position%3A%20relative%3B%20width%3A%20164px%3B%20border-right-width%3A%202px%3B%20border-right-style%3A%20solid%3B%20border-right-color%3A%20rgb(233%2C%20233%2C%20233)%7D%0A.css-l59r7t-ResizableCell%20%7Bdisplay%3A%20flex%3B%20flex-direction%3A%20column%3B%20position%3A%20absolute%3B%20top%3A%200px%3B%20left%3A%200px%3B%20height%3A%2028px%3B%20width%3A%20164px%7D%0A.css-1ddex1g%20%7Bheight%3A%20162px%3B%20width%3A%20164px%3B%20overflow-x%3A%20hidden%3B%20overflow-y%3A%20auto%7D%0A.css-8ch8dh%20%7Bcursor%3A%20cell%3B%20height%3A%20140px%3B%20overflow-x%3A%20hidden%3B%20overflow-y%3A%20hidden%3B%20position%3A%20relative%3B%20width%3A%20164px%3B%20border-top-width%3A%202px%3B%20border-top-style%3A%20solid%3B%20border-top-color%3A%20rgb(233%2C%20233%2C%20233)%3B%20border-right-width%3A%202px%3B%20border-right-style%3A%20solid%3B%20border-right-color%3A%20rgb(233%2C%20233%2C%20233)%7D%0A.css-15jas85-Table%20%7Bwidth%3A%201176px%3B%20border-collapse%3A%20collapse%7D%0A.css-1mdxc43%20%7Bheight%3A%2028px%3B%20width%3A%201158px%3B%20overflow-x%3A%20auto%3B%20overflow-y%3A%20hidden%7D%0A.css-24yi9c%20%7Bcursor%3A%20cell%3B%20height%3A%2028px%3B%20overflow-x%3A%20hidden%3B%20overflow-y%3A%20hidden%3B%20position%3A%20relative%3B%20width%3A%201016.2px%7D%0A.css-p9t9un-ResizableCell%20%7Bdisplay%3A%20flex%3B%20flex-direction%3A%20column%3B%20position%3A%20absolute%3B%20top%3A%200px%3B%20left%3A%20240px%3B%20height%3A%2028px%3B%20width%3A%20174px%7D%0A.css-1ldjzew-ResizableCell%20%7Bdisplay%3A%20flex%3B%20flex-direction%3A%20column%3B%20position%3A%20absolute%3B%20top%3A%200px%3B%20left%3A%20414px%3B%20height%3A%2028px%3B%20width%3A%20178px%7D%0A.css-848mqz-ResizableCell%20%7Bdisplay%3A%20flex%3B%20flex-direction%3A%20column%3B%20position%3A%20absolute%3B%20top%3A%200px%3B%20left%3A%20592px%3B%20height%3A%2028px%3B%20width%3A%20159.2px%7D%0A.css-1erglte-ResizableCell%20%7Bdisplay%3A%20flex%3B%20flex-direction%3A%20column%3B%20position%3A%20absolute%3B%20top%3A%200px%3B%20left%3A%20751.2px%3B%20height%3A%2028px%3B%20width%3A%20145px%7D%0A.css-1p9t45e-ResizableCell%20%7Bdisplay%3A%20flex%3B%20flex-direction%3A%20column%3B%20position%3A%20absolute%3B%20top%3A%200px%3B%20left%3A%20896.2px%3B%20height%3A%2028px%3B%20width%3A%20120px%7D%0A.css-woxk1t%20%7Bheight%3A%20162px%3B%20width%3A%201176px%3B%20overflow-x%3A%20auto%3B%20overflow-y%3A%20auto%7D%0A.css-1xat41n%20%7Bcursor%3A%20cell%3B%20height%3A%20140px%3B%20overflow-x%3A%20hidden%3B%20overflow-y%3A%20hidden%3B%20position%3A%20relative%3B%20width%3A%201016.2px%3B%20border-top-width%3A%202px%3B%20border-top-style%3A%20solid%3B%20border-top-color%3A%20rgb(233%2C%20233%2C%20233)%7D%0A*%20%7B-ms-overflow-style%3A%20none%3B%20scrollbar-width%3A%20none%7D%0A*%3A%3A-webkit-scrollbar%20%7Bdisplay%3A%20none%7D%0A.atoti-hidden-in-snapshot%20%7Bdisplay%3A%20none%7D%3C%2Fstyle%3E%3Cdiv%20xmlns%3D%22http%3A%2F%2Fwww.w3.org%2F1999%2Fxhtml%22%20style%3D%22height%3A%20222px%3B%20width%3A%201342px%3B%22%3E%3Cdiv%20class%3D%22ant-root%20css-0%22%3E%3Cdiv%20class%3D%22ant-dropdown-trigger%20css-12ebr42-AWidget%22%3E%3Cdiv%20class%3D%22css-2p9ued-WidgetLoadingOverlay%22%3E%3Cdiv%20class%3D%22css-1b1raxz-DefaultWidgetLoadingOverlay%22%3E%3Cdiv%20class%3D%22css-34a2ml-DefaultWidgetLoadingOverlay%22%3E%3C%2Fdiv%3E%3C%2Fdiv%3E%3Cdiv%20class%3D%22css-1hwl8p1-Table%22%3E%3Cdiv%20tabindex%3D%220%22%20class%3D%22css-14ejcn0-Table%22%3E%3Cdiv%20class%3D%22css-1rxpjm0-ColumnResizeHint%22%3E%3Cdiv%20class%3D%22css-walxhl-ColumnResizeHint%22%3E%3C%2Fdiv%3E%3Cdiv%20class%3D%22css-1mpsr70-ColumnResizeHint%22%3E%3C%2Fdiv%3E%3C%2Fdiv%3E%3Cdiv%20class%3D%22css-1nk7kqc-Table%22%3E%3Cdiv%20class%3D%22css-ujw29l-Table%22%3E%3Cdiv%20class%3D%22%20css-18c96v8%22%3E%3Cdiv%20class%3D%22css-jbi2x0%22%3E%3Cdiv%20class%3D%22css-l59r7t-ResizableCell%22%3E%3Cdiv%20class%3D%22aui-table-cell%22%20style%3D%22height%3A%2028px%3B%20left%3A%200px%3B%20top%3A%200px%3B%20width%3A%20159px%3B%20text-align%3A%20left%3B%20font-size%3A%2012px%3B%20padding%3A%204px%204px%203px%3B%20overflow%3A%20hidden%3B%20position%3A%20absolute%3B%20white-space%3A%20nowrap%3B%20text-overflow%3A%20ellipsis%3B%20font-weight%3A%20600%3B%20display%3A%20flex%3B%20align-items%3A%20center%3B%22%3E%3Cspan%3EScenario%3C%2Fspan%3E%3C%2Fdiv%3E%3Cdiv%20class%3D%22css-xxcrt1-ResizableCell%22%3E%3C%2Fdiv%3E%3C%2Fdiv%3E%3C%2Fdiv%3E%3C%2Fdiv%3E%3Cdiv%20class%3D%22aui-invisible-scrollbars%20css-1ddex1g%22%3E%3Cdiv%20class%3D%22css-8ch8dh%22%3E%3Cdiv%20style%3D%22display%3A%20flex%3B%20align-items%3A%20center%3B%20height%3A%2028px%3B%20left%3A%200px%3B%20top%3A%200px%3B%20width%3A%20164px%3B%20text-align%3A%20left%3B%20font-size%3A%2012px%3B%20padding%3A%204px%204px%203px%3B%20overflow%3A%20hidden%3B%20position%3A%20absolute%3B%20white-space%3A%20nowrap%3B%20text-overflow%3A%20ellipsis%3B%20border-right%3A%202px%20solid%20rgb(233%2C%20233%2C%20233)%3B%20background-color%3A%20transparent%3B%22%3E%3Cspan%20style%3D%22text-overflow%3A%20ellipsis%3B%20overflow%3A%20hidden%3B%20white-space%3A%20nowrap%3B%20max-width%3A%20calc((100%25%20-%200px)%20-%200px)%3B%22%3EBase%3C%2Fspan%3E%3C%2Fdiv%3E%3Cdiv%20style%3D%22display%3A%20flex%3B%20align-items%3A%20center%3B%20height%3A%2028px%3B%20left%3A%200px%3B%20top%3A%2028px%3B%20width%3A%20164px%3B%20text-align%3A%20left%3B%20font-size%3A%2012px%3B%20padding%3A%204px%204px%203px%3B%20overflow%3A%20hidden%3B%20position%3A%20absolute%3B%20white-space%3A%20nowrap%3B%20text-overflow%3A%20ellipsis%3B%20border-right%3A%202px%20solid%20rgb(233%2C%20233%2C%20233)%3B%20background-color%3A%20rgb(250%2C%20250%2C%20250)%3B%22%3E%3Cspan%20style%3D%22text-overflow%3A%20ellipsis%3B%20overflow%3A%20hidden%3B%20white-space%3A%20nowrap%3B%20max-width%3A%20calc((100%25%20-%200px)%20-%200px)%3B%22%3EDummy%20Uniform%20Classifier%3C%2Fspan%3E%3C%2Fdiv%3E%3Cdiv%20style%3D%22display%3A%20flex%3B%20align-items%3A%20center%3B%20height%3A%2028px%3B%20left%3A%200px%3B%20top%3A%2056px%3B%20width%3A%20164px%3B%20text-align%3A%20left%3B%20font-size%3A%2012px%3B%20padding%3A%204px%204px%203px%3B%20overflow%3A%20hidden%3B%20position%3A%20absolute%3B%20white-space%3A%20nowrap%3B%20text-overflow%3A%20ellipsis%3B%20border-right%3A%202px%20solid%20rgb(233%2C%20233%2C%20233)%3B%20background-color%3A%20transparent%3B%22%3E%3Cspan%20style%3D%22text-overflow%3A%20ellipsis%3B%20overflow%3A%20hidden%3B%20white-space%3A%20nowrap%3B%20max-width%3A%20calc((100%25%20-%200px)%20-%200px)%3B%22%3ELogistic%20Regression%20Classifier%3C%2Fspan%3E%3C%2Fdiv%3E%3Cdiv%20style%3D%22display%3A%20flex%3B%20align-items%3A%20center%3B%20height%3A%2028px%3B%20left%3A%200px%3B%20top%3A%2084px%3B%20width%3A%20164px%3B%20text-align%3A%20left%3B%20font-size%3A%2012px%3B%20padding%3A%204px%204px%203px%3B%20overflow%3A%20hidden%3B%20position%3A%20absolute%3B%20white-space%3A%20nowrap%3B%20text-overflow%3A%20ellipsis%3B%20border-right%3A%202px%20solid%20rgb(233%2C%20233%2C%20233)%3B%20background-color%3A%20rgb(250%2C%20250%2C%20250)%3B%22%3E%3Cspan%20style%3D%22text-overflow%3A%20ellipsis%3B%20overflow%3A%20hidden%3B%20white-space%3A%20nowrap%3B%20max-width%3A%20calc((100%25%20-%200px)%20-%200px)%3B%22%3ENaive%20Bayes%20Classifier%3C%2Fspan%3E%3C%2Fdiv%3E%3Cdiv%20style%3D%22display%3A%20flex%3B%20align-items%3A%20center%3B%20height%3A%2028px%3B%20left%3A%200px%3B%20top%3A%20112px%3B%20width%3A%20164px%3B%20text-align%3A%20left%3B%20font-size%3A%2012px%3B%20padding%3A%204px%204px%203px%3B%20overflow%3A%20hidden%3B%20position%3A%20absolute%3B%20white-space%3A%20nowrap%3B%20text-overflow%3A%20ellipsis%3B%20border-right%3A%202px%20solid%20rgb(233%2C%20233%2C%20233)%3B%20background-color%3A%20transparent%3B%22%3E%3Cspan%20style%3D%22text-overflow%3A%20ellipsis%3B%20overflow%3A%20hidden%3B%20white-space%3A%20nowrap%3B%20max-width%3A%20calc((100%25%20-%200px)%20-%200px)%3B%22%3ESVM%20Classifier%3C%2Fspan%3E%3C%2Fdiv%3E%3C%2Fdiv%3E%3C%2Fdiv%3E%3C%2Fdiv%3E%3Cdiv%20class%3D%22css-15jas85-Table%22%3E%3Cdiv%20class%3D%22aui-invisible-scrollbars%20css-1mdxc43%22%3E%3Cdiv%20class%3D%22css-24yi9c%22%3E%3Cdiv%20class%3D%22css-1hol363-ResizableCell%22%3E%3Cdiv%20style%3D%22display%3A%20flex%3B%20align-items%3A%20center%3B%20height%3A%2028px%3B%20left%3A%200px%3B%20top%3A%200px%3B%20width%3A%20115px%3B%20text-align%3A%20left%3B%20font-size%3A%2012px%3B%20padding%3A%204px%204px%203px%3B%20overflow%3A%20hidden%3B%20position%3A%20absolute%3B%20white-space%3A%20nowrap%3B%20text-overflow%3A%20ellipsis%3B%20font-weight%3A%20600%3B%22%3E%3Cspan%20style%3D%22text-overflow%3A%20ellipsis%3B%20overflow%3A%20hidden%3B%20white-space%3A%20nowrap%3B%20max-width%3A%20calc((100%25%20-%200px)%20-%200px)%3B%22%3EPredicted%20RR%20Loss%3C%2Fspan%3E%3C%2Fdiv%3E%3Cdiv%20class%3D%22css-xxcrt1-ResizableCell%22%3E%3C%2Fdiv%3E%3C%2Fdiv%3E%3Cdiv%20class%3D%22css-fpuq48-ResizableCell%22%3E%3Cdiv%20style%3D%22display%3A%20flex%3B%20align-items%3A%20center%3B%20height%3A%2028px%3B%20left%3A%200px%3B%20top%3A%200px%3B%20width%3A%20115px%3B%20text-align%3A%20left%3B%20font-size%3A%2012px%3B%20padding%3A%204px%204px%203px%3B%20overflow%3A%20hidden%3B%20position%3A%20absolute%3B%20white-space%3A%20nowrap%3B%20text-overflow%3A%20ellipsis%3B%20font-weight%3A%20600%3B%22%3E%3Cspan%20style%3D%22text-overflow%3A%20ellipsis%3B%20overflow%3A%20hidden%3B%20white-space%3A%20nowrap%3B%20max-width%3A%20calc((100%25%20-%200px)%20-%200px)%3B%22%3EExpected%20RR%20Loss%3C%2Fspan%3E%3C%2Fdiv%3E%3Cdiv%20class%3D%22css-xxcrt1-ResizableCell%22%3E%3C%2Fdiv%3E%3C%2Fdiv%3E%3Cdiv%20class%3D%22css-p9t9un-ResizableCell%22%3E%3Cdiv%20style%3D%22display%3A%20flex%3B%20align-items%3A%20center%3B%20height%3A%2028px%3B%20left%3A%200px%3B%20top%3A%200px%3B%20width%3A%20169px%3B%20text-align%3A%20left%3B%20font-size%3A%2012px%3B%20padding%3A%204px%204px%203px%3B%20overflow%3A%20hidden%3B%20position%3A%20absolute%3B%20white-space%3A%20nowrap%3B%20text-overflow%3A%20ellipsis%3B%20font-weight%3A%20600%3B%22%3E%3Cspan%20style%3D%22text-overflow%3A%20ellipsis%3B%20overflow%3A%20hidden%3B%20white-space%3A%20nowrap%3B%20max-width%3A%20calc((100%25%20-%200px)%20-%200px)%3B%22%3EPredicted%20RR%20Loss%20Overflow%3C%2Fspan%3E%3C%2Fdiv%3E%3Cdiv%20class%3D%22css-xxcrt1-ResizableCell%22%3E%3C%2Fdiv%3E%3C%2Fdiv%3E%3Cdiv%20class%3D%22css-1ldjzew-ResizableCell%22%3E%3Cdiv%20style%3D%22display%3A%20flex%3B%20align-items%3A%20center%3B%20height%3A%2028px%3B%20left%3A%200px%3B%20top%3A%200px%3B%20width%3A%20173px%3B%20text-align%3A%20left%3B%20font-size%3A%2012px%3B%20padding%3A%204px%204px%203px%3B%20overflow%3A%20hidden%3B%20position%3A%20absolute%3B%20white-space%3A%20nowrap%3B%20text-overflow%3A%20ellipsis%3B%20font-weight%3A%20600%3B%22%3E%3Cspan%20style%3D%22text-overflow%3A%20ellipsis%3B%20overflow%3A%20hidden%3B%20white-space%3A%20nowrap%3B%20max-width%3A%20calc((100%25%20-%200px)%20-%200px)%3B%22%3EChurn%20MonthlyCharges.MEAN%3C%2Fspan%3E%3C%2Fdiv%3E%3Cdiv%20class%3D%22css-xxcrt1-ResizableCell%22%3E%3C%2Fdiv%3E%3C%2Fdiv%3E%3Cdiv%20class%3D%22css-848mqz-ResizableCell%22%3E%3Cdiv%20style%3D%22display%3A%20flex%3B%20align-items%3A%20center%3B%20height%3A%2028px%3B%20left%3A%200px%3B%20top%3A%200px%3B%20width%3A%20154.2px%3B%20text-align%3A%20left%3B%20font-size%3A%2012px%3B%20padding%3A%204px%204px%203px%3B%20overflow%3A%20hidden%3B%20position%3A%20absolute%3B%20white-space%3A%20nowrap%3B%20text-overflow%3A%20ellipsis%3B%20font-weight%3A%20600%3B%22%3E%3Cspan%20style%3D%22text-overflow%3A%20ellipsis%3B%20overflow%3A%20hidden%3B%20white-space%3A%20nowrap%3B%20max-width%3A%20calc((100%25%20-%200px)%20-%200px)%3B%22%3EPredicted%20Churn%20Overflow%3C%2Fspan%3E%3C%2Fdiv%3E%3Cdiv%20class%3D%22css-xxcrt1-ResizableCell%22%3E%3C%2Fdiv%3E%3C%2Fdiv%3E%3Cdiv%20class%3D%22css-1erglte-ResizableCell%22%3E%3Cdiv%20style%3D%22display%3A%20flex%3B%20align-items%3A%20center%3B%20height%3A%2028px%3B%20left%3A%200px%3B%20top%3A%200px%3B%20width%3A%20140px%3B%20text-align%3A%20left%3B%20font-size%3A%2012px%3B%20padding%3A%204px%204px%203px%3B%20overflow%3A%20hidden%3B%20position%3A%20absolute%3B%20white-space%3A%20nowrap%3B%20text-overflow%3A%20ellipsis%3B%20font-weight%3A%20600%3B%22%3E%3Cspan%20style%3D%22text-overflow%3A%20ellipsis%3B%20overflow%3A%20hidden%3B%20white-space%3A%20nowrap%3B%20max-width%3A%20calc((100%25%20-%200px)%20-%200px)%3B%22%3EPredicted%20Churn%20Count%3C%2Fspan%3E%3C%2Fdiv%3E%3Cdiv%20class%3D%22css-xxcrt1-ResizableCell%22%3E%3C%2Fdiv%3E%3C%2Fdiv%3E%3Cdiv%20class%3D%22css-1p9t45e-ResizableCell%22%3E%3Cdiv%20style%3D%22display%3A%20flex%3B%20align-items%3A%20center%3B%20height%3A%2028px%3B%20left%3A%200px%3B%20top%3A%200px%3B%20width%3A%20115px%3B%20text-align%3A%20left%3B%20font-size%3A%2012px%3B%20padding%3A%204px%204px%203px%3B%20overflow%3A%20hidden%3B%20position%3A%20absolute%3B%20white-space%3A%20nowrap%3B%20text-overflow%3A%20ellipsis%3B%20font-weight%3A%20600%3B%22%3E%3Cspan%20style%3D%22text-overflow%3A%20ellipsis%3B%20overflow%3A%20hidden%3B%20white-space%3A%20nowrap%3B%20max-width%3A%20calc((100%25%20-%200px)%20-%200px)%3B%22%3ENb.%20not%20retained%3C%2Fspan%3E%3C%2Fdiv%3E%3Cdiv%20class%3D%22css-xxcrt1-ResizableCell%22%3E%3C%2Fdiv%3E%3C%2Fdiv%3E%3C%2Fdiv%3E%3C%2Fdiv%3E%3Cdiv%20class%3D%22%20css-woxk1t%22%3E%3Cdiv%20class%3D%22css-1xat41n%22%3E%3Cdiv%20class%3D%22aui-table-cell%22%20style%3D%22height%3A%2028px%3B%20left%3A%200px%3B%20top%3A%200px%3B%20width%3A%20120px%3B%20text-align%3A%20right%3B%20font-size%3A%2012px%3B%20padding%3A%204px%204px%203px%3B%20overflow%3A%20hidden%3B%20position%3A%20absolute%3B%20white-space%3A%20nowrap%3B%20text-overflow%3A%20ellipsis%3B%20border-right%3A%201px%20solid%20rgb(233%2C%20233%2C%20233)%3B%20background-color%3A%20transparent%3B%22%3E139%2C130.85%3C%2Fdiv%3E%3Cdiv%20class%3D%22aui-table-cell%22%20style%3D%22height%3A%2028px%3B%20left%3A%20120px%3B%20top%3A%200px%3B%20width%3A%20120px%3B%20text-align%3A%20right%3B%20font-size%3A%2012px%3B%20padding%3A%204px%204px%203px%3B%20overflow%3A%20hidden%3B%20position%3A%20absolute%3B%20white-space%3A%20nowrap%3B%20text-overflow%3A%20ellipsis%3B%20border-right%3A%201px%20solid%20rgb(233%2C%20233%2C%20233)%3B%20background-color%3A%20transparent%3B%22%3E45%2C566.10%3C%2Fdiv%3E%3Cdiv%20class%3D%22aui-table-cell%22%20style%3D%22height%3A%2028px%3B%20left%3A%20240px%3B%20top%3A%200px%3B%20width%3A%20174px%3B%20text-align%3A%20right%3B%20font-size%3A%2012px%3B%20padding%3A%204px%204px%203px%3B%20overflow%3A%20hidden%3B%20position%3A%20absolute%3B%20white-space%3A%20nowrap%3B%20text-overflow%3A%20ellipsis%3B%20border-right%3A%201px%20solid%20rgb(233%2C%20233%2C%20233)%3B%20background-color%3A%20transparent%3B%22%3E93%2C564.75%3C%2Fdiv%3E%3Cdiv%20class%3D%22aui-table-cell%22%20style%3D%22height%3A%2028px%3B%20left%3A%20414px%3B%20top%3A%200px%3B%20width%3A%20178px%3B%20text-align%3A%20right%3B%20font-size%3A%2012px%3B%20padding%3A%204px%204px%203px%3B%20overflow%3A%20hidden%3B%20position%3A%20absolute%3B%20white-space%3A%20nowrap%3B%20text-overflow%3A%20ellipsis%3B%20border-right%3A%201px%20solid%20rgb(233%2C%20233%2C%20233)%3B%20background-color%3A%20transparent%3B%22%3E64.80%3C%2Fdiv%3E%3Cdiv%20class%3D%22aui-table-cell%22%20style%3D%22height%3A%2028px%3B%20left%3A%20592px%3B%20top%3A%200px%3B%20width%3A%20159.2px%3B%20text-align%3A%20right%3B%20font-size%3A%2012px%3B%20padding%3A%204px%204px%203px%3B%20overflow%3A%20hidden%3B%20position%3A%20absolute%3B%20white-space%3A%20nowrap%3B%20text-overflow%3A%20ellipsis%3B%20border-right%3A%201px%20solid%20rgb(233%2C%20233%2C%20233)%3B%20background-color%3A%20rgb(193%2C%20251%2C%20138)%3B%22%3E1%2C444.00%3C%2Fdiv%3E%3Cdiv%20class%3D%22aui-table-cell%22%20style%3D%22height%3A%2028px%3B%20left%3A%20751.2px%3B%20top%3A%200px%3B%20width%3A%20145px%3B%20text-align%3A%20right%3B%20font-size%3A%2012px%3B%20padding%3A%204px%204px%203px%3B%20overflow%3A%20hidden%3B%20position%3A%20absolute%3B%20white-space%3A%20nowrap%3B%20text-overflow%3A%20ellipsis%3B%20border-right%3A%201px%20solid%20rgb(233%2C%20233%2C%20233)%3B%20background-color%3A%20transparent%3B%22%3E1%2C869%3C%2Fdiv%3E%3Cdiv%20class%3D%22aui-table-cell%22%20style%3D%22height%3A%2028px%3B%20left%3A%20896.2px%3B%20top%3A%200px%3B%20width%3A%20120px%3B%20text-align%3A%20right%3B%20font-size%3A%2012px%3B%20padding%3A%204px%204px%203px%3B%20overflow%3A%20hidden%3B%20position%3A%20absolute%3B%20white-space%3A%20nowrap%3B%20text-overflow%3A%20ellipsis%3B%20border-right%3A%201px%20solid%20rgb(233%2C%20233%2C%20233)%3B%20background-color%3A%20rgb(250%2C%20196%2C%2087)%3B%22%3E425.00%3C%2Fdiv%3E%3Cdiv%20class%3D%22aui-table-cell%22%20style%3D%22height%3A%2028px%3B%20left%3A%200px%3B%20top%3A%2028px%3B%20width%3A%20120px%3B%20text-align%3A%20right%3B%20font-size%3A%2012px%3B%20padding%3A%204px%204px%203px%3B%20overflow%3A%20hidden%3B%20position%3A%20absolute%3B%20white-space%3A%20nowrap%3B%20text-overflow%3A%20ellipsis%3B%20border-right%3A%201px%20solid%20rgb(233%2C%20233%2C%20233)%3B%20background-color%3A%20rgb(250%2C%20250%2C%20250)%3B%22%3E227%2C975.50%3C%2Fdiv%3E%3Cdiv%20class%3D%22aui-table-cell%22%20style%3D%22height%3A%2028px%3B%20left%3A%20120px%3B%20top%3A%2028px%3B%20width%3A%20120px%3B%20text-align%3A%20right%3B%20font-size%3A%2012px%3B%20padding%3A%204px%204px%203px%3B%20overflow%3A%20hidden%3B%20position%3A%20absolute%3B%20white-space%3A%20nowrap%3B%20text-overflow%3A%20ellipsis%3B%20border-right%3A%201px%20solid%20rgb(233%2C%20233%2C%20233)%3B%20background-color%3A%20rgb(250%2C%20250%2C%20250)%3B%22%3E45%2C566.10%3C%2Fdiv%3E%3Cdiv%20class%3D%22aui-table-cell%22%20style%3D%22height%3A%2028px%3B%20left%3A%20240px%3B%20top%3A%2028px%3B%20width%3A%20174px%3B%20text-align%3A%20right%3B%20font-size%3A%2012px%3B%20padding%3A%204px%204px%203px%3B%20overflow%3A%20hidden%3B%20position%3A%20absolute%3B%20white-space%3A%20nowrap%3B%20text-overflow%3A%20ellipsis%3B%20border-right%3A%201px%20solid%20rgb(233%2C%20233%2C%20233)%3B%20background-color%3A%20rgb(250%2C%20250%2C%20250)%3B%22%3E182%2C409.40%3C%2Fdiv%3E%3Cdiv%20class%3D%22aui-table-cell%22%20style%3D%22height%3A%2028px%3B%20left%3A%20414px%3B%20top%3A%2028px%3B%20width%3A%20178px%3B%20text-align%3A%20right%3B%20font-size%3A%2012px%3B%20padding%3A%204px%204px%203px%3B%20overflow%3A%20hidden%3B%20position%3A%20absolute%3B%20white-space%3A%20nowrap%3B%20text-overflow%3A%20ellipsis%3B%20border-right%3A%201px%20solid%20rgb(233%2C%20233%2C%20233)%3B%20background-color%3A%20rgb(250%2C%20250%2C%20250)%3B%22%3E64.80%3C%2Fdiv%3E%3Cdiv%20class%3D%22aui-table-cell%22%20style%3D%22height%3A%2028px%3B%20left%3A%20592px%3B%20top%3A%2028px%3B%20width%3A%20159.2px%3B%20text-align%3A%20right%3B%20font-size%3A%2012px%3B%20padding%3A%204px%204px%203px%3B%20overflow%3A%20hidden%3B%20position%3A%20absolute%3B%20white-space%3A%20nowrap%3B%20text-overflow%3A%20ellipsis%3B%20border-right%3A%201px%20solid%20rgb(233%2C%20233%2C%20233)%3B%20background-color%3A%20rgb(184%2C%20250%2C%20120)%3B%22%3E2%2C816.00%3C%2Fdiv%3E%3Cdiv%20class%3D%22aui-table-cell%22%20style%3D%22height%3A%2028px%3B%20left%3A%20751.2px%3B%20top%3A%2028px%3B%20width%3A%20145px%3B%20text-align%3A%20right%3B%20font-size%3A%2012px%3B%20padding%3A%204px%204px%203px%3B%20overflow%3A%20hidden%3B%20position%3A%20absolute%3B%20white-space%3A%20nowrap%3B%20text-overflow%3A%20ellipsis%3B%20border-right%3A%201px%20solid%20rgb(233%2C%20233%2C%20233)%3B%20background-color%3A%20rgb(250%2C%20250%2C%20250)%3B%22%3E3%2C505%3C%2Fdiv%3E%3Cdiv%20class%3D%22aui-table-cell%22%20style%3D%22height%3A%2028px%3B%20left%3A%20896.2px%3B%20top%3A%2028px%3B%20width%3A%20120px%3B%20text-align%3A%20right%3B%20font-size%3A%2012px%3B%20padding%3A%204px%204px%203px%3B%20overflow%3A%20hidden%3B%20position%3A%20absolute%3B%20white-space%3A%20nowrap%3B%20text-overflow%3A%20ellipsis%3B%20border-right%3A%201px%20solid%20rgb(233%2C%20233%2C%20233)%3B%20background-color%3A%20rgb(249%2C%20187%2C%2062)%3B%22%3E689.00%3C%2Fdiv%3E%3Cdiv%20class%3D%22aui-table-cell%22%20style%3D%22height%3A%2028px%3B%20left%3A%200px%3B%20top%3A%2056px%3B%20width%3A%20120px%3B%20text-align%3A%20right%3B%20font-size%3A%2012px%3B%20padding%3A%204px%204px%203px%3B%20overflow%3A%20hidden%3B%20position%3A%20absolute%3B%20white-space%3A%20nowrap%3B%20text-overflow%3A%20ellipsis%3B%20border-right%3A%201px%20solid%20rgb(233%2C%20233%2C%20233)%3B%20background-color%3A%20transparent%3B%22%3E151%2C948.90%3C%2Fdiv%3E%3Cdiv%20class%3D%22aui-table-cell%22%20style%3D%22height%3A%2028px%3B%20left%3A%20120px%3B%20top%3A%2056px%3B%20width%3A%20120px%3B%20text-align%3A%20right%3B%20font-size%3A%2012px%3B%20padding%3A%204px%204px%203px%3B%20overflow%3A%20hidden%3B%20position%3A%20absolute%3B%20white-space%3A%20nowrap%3B%20text-overflow%3A%20ellipsis%3B%20border-right%3A%201px%20solid%20rgb(233%2C%20233%2C%20233)%3B%20background-color%3A%20transparent%3B%22%3E45%2C566.10%3C%2Fdiv%3E%3Cdiv%20class%3D%22aui-table-cell%22%20style%3D%22height%3A%2028px%3B%20left%3A%20240px%3B%20top%3A%2056px%3B%20width%3A%20174px%3B%20text-align%3A%20right%3B%20font-size%3A%2012px%3B%20padding%3A%204px%204px%203px%3B%20overflow%3A%20hidden%3B%20position%3A%20absolute%3B%20white-space%3A%20nowrap%3B%20text-overflow%3A%20ellipsis%3B%20border-right%3A%201px%20solid%20rgb(233%2C%20233%2C%20233)%3B%20background-color%3A%20transparent%3B%22%3E106%2C382.80%3C%2Fdiv%3E%3Cdiv%20class%3D%22aui-table-cell%22%20style%3D%22height%3A%2028px%3B%20left%3A%20414px%3B%20top%3A%2056px%3B%20width%3A%20178px%3B%20text-align%3A%20right%3B%20font-size%3A%2012px%3B%20padding%3A%204px%204px%203px%3B%20overflow%3A%20hidden%3B%20position%3A%20absolute%3B%20white-space%3A%20nowrap%3B%20text-overflow%3A%20ellipsis%3B%20border-right%3A%201px%20solid%20rgb(233%2C%20233%2C%20233)%3B%20background-color%3A%20transparent%3B%22%3E64.80%3C%2Fdiv%3E%3Cdiv%20class%3D%22aui-table-cell%22%20style%3D%22height%3A%2028px%3B%20left%3A%20592px%3B%20top%3A%2056px%3B%20width%3A%20159.2px%3B%20text-align%3A%20right%3B%20font-size%3A%2012px%3B%20padding%3A%204px%204px%203px%3B%20overflow%3A%20hidden%3B%20position%3A%20absolute%3B%20white-space%3A%20nowrap%3B%20text-overflow%3A%20ellipsis%3B%20border-right%3A%201px%20solid%20rgb(233%2C%20233%2C%20233)%3B%20background-color%3A%20rgb(193%2C%20251%2C%20138)%3B%22%3E1%2C642.00%3C%2Fdiv%3E%3Cdiv%20class%3D%22aui-table-cell%22%20style%3D%22height%3A%2028px%3B%20left%3A%20751.2px%3B%20top%3A%2056px%3B%20width%3A%20145px%3B%20text-align%3A%20right%3B%20font-size%3A%2012px%3B%20padding%3A%204px%204px%203px%3B%20overflow%3A%20hidden%3B%20position%3A%20absolute%3B%20white-space%3A%20nowrap%3B%20text-overflow%3A%20ellipsis%3B%20border-right%3A%201px%20solid%20rgb(233%2C%20233%2C%20233)%3B%20background-color%3A%20transparent%3B%22%3E1%2C889%3C%2Fdiv%3E%3Cdiv%20class%3D%22aui-table-cell%22%20style%3D%22height%3A%2028px%3B%20left%3A%20896.2px%3B%20top%3A%2056px%3B%20width%3A%20120px%3B%20text-align%3A%20right%3B%20font-size%3A%2012px%3B%20padding%3A%204px%204px%203px%3B%20overflow%3A%20hidden%3B%20position%3A%20absolute%3B%20white-space%3A%20nowrap%3B%20text-overflow%3A%20ellipsis%3B%20border-right%3A%201px%20solid%20rgb(233%2C%20233%2C%20233)%3B%20background-color%3A%20rgb(250%2C%20196%2C%2087)%3B%22%3E247.00%3C%2Fdiv%3E%3Cdiv%20class%3D%22aui-table-cell%22%20style%3D%22height%3A%2028px%3B%20left%3A%200px%3B%20top%3A%2084px%3B%20width%3A%20120px%3B%20text-align%3A%20right%3B%20font-size%3A%2012px%3B%20padding%3A%204px%204px%203px%3B%20overflow%3A%20hidden%3B%20position%3A%20absolute%3B%20white-space%3A%20nowrap%3B%20text-overflow%3A%20ellipsis%3B%20border-right%3A%201px%20solid%20rgb(233%2C%20233%2C%20233)%3B%20background-color%3A%20rgb(250%2C%20250%2C%20250)%3B%22%3E140%2C748.55%3C%2Fdiv%3E%3Cdiv%20class%3D%22aui-table-cell%22%20style%3D%22height%3A%2028px%3B%20left%3A%20120px%3B%20top%3A%2084px%3B%20width%3A%20120px%3B%20text-align%3A%20right%3B%20font-size%3A%2012px%3B%20padding%3A%204px%204px%203px%3B%20overflow%3A%20hidden%3B%20position%3A%20absolute%3B%20white-space%3A%20nowrap%3B%20text-overflow%3A%20ellipsis%3B%20border-right%3A%201px%20solid%20rgb(233%2C%20233%2C%20233)%3B%20background-color%3A%20rgb(250%2C%20250%2C%20250)%3B%22%3E45%2C566.10%3C%2Fdiv%3E%3Cdiv%20class%3D%22aui-table-cell%22%20style%3D%22height%3A%2028px%3B%20left%3A%20240px%3B%20top%3A%2084px%3B%20width%3A%20174px%3B%20text-align%3A%20right%3B%20font-size%3A%2012px%3B%20padding%3A%204px%204px%203px%3B%20overflow%3A%20hidden%3B%20position%3A%20absolute%3B%20white-space%3A%20nowrap%3B%20text-overflow%3A%20ellipsis%3B%20border-right%3A%201px%20solid%20rgb(233%2C%20233%2C%20233)%3B%20background-color%3A%20rgb(250%2C%20250%2C%20250)%3B%22%3E95%2C182.45%3C%2Fdiv%3E%3Cdiv%20class%3D%22aui-table-cell%22%20style%3D%22height%3A%2028px%3B%20left%3A%20414px%3B%20top%3A%2084px%3B%20width%3A%20178px%3B%20text-align%3A%20right%3B%20font-size%3A%2012px%3B%20padding%3A%204px%204px%203px%3B%20overflow%3A%20hidden%3B%20position%3A%20absolute%3B%20white-space%3A%20nowrap%3B%20text-overflow%3A%20ellipsis%3B%20border-right%3A%201px%20solid%20rgb(233%2C%20233%2C%20233)%3B%20background-color%3A%20rgb(250%2C%20250%2C%20250)%3B%22%3E64.80%3C%2Fdiv%3E%3Cdiv%20class%3D%22aui-table-cell%22%20style%3D%22height%3A%2028px%3B%20left%3A%20592px%3B%20top%3A%2084px%3B%20width%3A%20159.2px%3B%20text-align%3A%20right%3B%20font-size%3A%2012px%3B%20padding%3A%204px%204px%203px%3B%20overflow%3A%20hidden%3B%20position%3A%20absolute%3B%20white-space%3A%20nowrap%3B%20text-overflow%3A%20ellipsis%3B%20border-right%3A%201px%20solid%20rgb(233%2C%20233%2C%20233)%3B%20background-color%3A%20rgb(184%2C%20250%2C%20120)%3B%22%3E1%2C469.00%3C%2Fdiv%3E%3Cdiv%20class%3D%22aui-table-cell%22%20style%3D%22height%3A%2028px%3B%20left%3A%20751.2px%3B%20top%3A%2084px%3B%20width%3A%20145px%3B%20text-align%3A%20right%3B%20font-size%3A%2012px%3B%20padding%3A%204px%204px%203px%3B%20overflow%3A%20hidden%3B%20position%3A%20absolute%3B%20white-space%3A%20nowrap%3B%20text-overflow%3A%20ellipsis%3B%20border-right%3A%201px%20solid%20rgb(233%2C%20233%2C%20233)%3B%20background-color%3A%20rgb(250%2C%20250%2C%20250)%3B%22%3E1%2C742%3C%2Fdiv%3E%3Cdiv%20class%3D%22aui-table-cell%22%20style%3D%22height%3A%2028px%3B%20left%3A%20896.2px%3B%20top%3A%2084px%3B%20width%3A%20120px%3B%20text-align%3A%20right%3B%20font-size%3A%2012px%3B%20padding%3A%204px%204px%203px%3B%20overflow%3A%20hidden%3B%20position%3A%20absolute%3B%20white-space%3A%20nowrap%3B%20text-overflow%3A%20ellipsis%3B%20border-right%3A%201px%20solid%20rgb(233%2C%20233%2C%20233)%3B%20background-color%3A%20rgb(249%2C%20187%2C%2062)%3B%22%3E273.00%3C%2Fdiv%3E%3Cdiv%20class%3D%22aui-table-cell%22%20style%3D%22height%3A%2028px%3B%20left%3A%200px%3B%20top%3A%20112px%3B%20width%3A%20120px%3B%20text-align%3A%20right%3B%20font-size%3A%2012px%3B%20padding%3A%204px%204px%203px%3B%20overflow%3A%20hidden%3B%20position%3A%20absolute%3B%20white-space%3A%20nowrap%3B%20text-overflow%3A%20ellipsis%3B%20border-right%3A%201px%20solid%20rgb(233%2C%20233%2C%20233)%3B%20background-color%3A%20transparent%3B%22%3E207%2C278.10%3C%2Fdiv%3E%3Cdiv%20class%3D%22aui-table-cell%22%20style%3D%22height%3A%2028px%3B%20left%3A%20120px%3B%20top%3A%20112px%3B%20width%3A%20120px%3B%20text-align%3A%20right%3B%20font-size%3A%2012px%3B%20padding%3A%204px%204px%203px%3B%20overflow%3A%20hidden%3B%20position%3A%20absolute%3B%20white-space%3A%20nowrap%3B%20text-overflow%3A%20ellipsis%3B%20border-right%3A%201px%20solid%20rgb(233%2C%20233%2C%20233)%3B%20background-color%3A%20transparent%3B%22%3E45%2C566.10%3C%2Fdiv%3E%3Cdiv%20class%3D%22aui-table-cell%22%20style%3D%22height%3A%2028px%3B%20left%3A%20240px%3B%20top%3A%20112px%3B%20width%3A%20174px%3B%20text-align%3A%20right%3B%20font-size%3A%2012px%3B%20padding%3A%204px%204px%203px%3B%20overflow%3A%20hidden%3B%20position%3A%20absolute%3B%20white-space%3A%20nowrap%3B%20text-overflow%3A%20ellipsis%3B%20border-right%3A%201px%20solid%20rgb(233%2C%20233%2C%20233)%3B%20background-color%3A%20transparent%3B%22%3E161%2C712.00%3C%2Fdiv%3E%3Cdiv%20class%3D%22aui-table-cell%22%20style%3D%22height%3A%2028px%3B%20left%3A%20414px%3B%20top%3A%20112px%3B%20width%3A%20178px%3B%20text-align%3A%20right%3B%20font-size%3A%2012px%3B%20padding%3A%204px%204px%203px%3B%20overflow%3A%20hidden%3B%20position%3A%20absolute%3B%20white-space%3A%20nowrap%3B%20text-overflow%3A%20ellipsis%3B%20border-right%3A%201px%20solid%20rgb(233%2C%20233%2C%20233)%3B%20background-color%3A%20transparent%3B%22%3E64.80%3C%2Fdiv%3E%3Cdiv%20class%3D%22aui-table-cell%22%20style%3D%22height%3A%2028px%3B%20left%3A%20592px%3B%20top%3A%20112px%3B%20width%3A%20159.2px%3B%20text-align%3A%20right%3B%20font-size%3A%2012px%3B%20padding%3A%204px%204px%203px%3B%20overflow%3A%20hidden%3B%20position%3A%20absolute%3B%20white-space%3A%20nowrap%3B%20text-overflow%3A%20ellipsis%3B%20border-right%3A%201px%20solid%20rgb(233%2C%20233%2C%20233)%3B%20background-color%3A%20rgb(193%2C%20251%2C%20138)%3B%22%3E2%2C496.00%3C%2Fdiv%3E%3Cdiv%20class%3D%22aui-table-cell%22%20style%3D%22height%3A%2028px%3B%20left%3A%20751.2px%3B%20top%3A%20112px%3B%20width%3A%20145px%3B%20text-align%3A%20right%3B%20font-size%3A%2012px%3B%20padding%3A%204px%204px%203px%3B%20overflow%3A%20hidden%3B%20position%3A%20absolute%3B%20white-space%3A%20nowrap%3B%20text-overflow%3A%20ellipsis%3B%20border-right%3A%201px%20solid%20rgb(233%2C%20233%2C%20233)%3B%20background-color%3A%20transparent%3B%22%3E2%2C731%3C%2Fdiv%3E%3Cdiv%20class%3D%22aui-table-cell%22%20style%3D%22height%3A%2028px%3B%20left%3A%20896.2px%3B%20top%3A%20112px%3B%20width%3A%20120px%3B%20text-align%3A%20right%3B%20font-size%3A%2012px%3B%20padding%3A%204px%204px%203px%3B%20overflow%3A%20hidden%3B%20position%3A%20absolute%3B%20white-space%3A%20nowrap%3B%20text-overflow%3A%20ellipsis%3B%20border-right%3A%201px%20solid%20rgb(233%2C%20233%2C%20233)%3B%20background-color%3A%20rgb(250%2C%20196%2C%2087)%3B%22%3E235.00%3C%2Fdiv%3E%3C%2Fdiv%3E%3C%2Fdiv%3E%3C%2Fdiv%3E%3C%2Fdiv%3E%3C%2Fdiv%3E%3Cdiv%20class%3D%22css-1uww2vi-Table%22%3E%3C%2Fdiv%3E%3C%2Fdiv%3E%3C%2Fdiv%3E%3C%2Fdiv%3E%3C%2Fdiv%3E%3C%2Fdiv%3E%3C%2FforeignObject%3E%3C%2Fsvg%3E\">"
      ],
      "text/plain": [
       "Open the notebook in JupyterLab with the Atoti extension enabled to build this widget."
      ]
     },
     "metadata": {},
     "output_type": "display_data"
    }
   ],
   "source": [
    "session.visualize(\"Predicted churn vs Predicted Churn Overflow\")"
   ]
  },
  {
   "cell_type": "code",
   "execution_count": 40,
   "metadata": {
    "atoti": {
     "widget": {
      "mapping": {
       "horizontalSubplots": [],
       "splitBy": [
        "ALL_MEASURES"
       ],
       "values": [
        "[Measures].[Predicted Churn Overflow]"
       ],
       "verticalSubplots": [],
       "yAxis": [
        "[Epoch].[Epoch].[Branch]"
       ]
      },
      "query": {
       "mdx": "SELECT NON EMPTY {[Measures].[Predicted Churn Overflow]} ON COLUMNS, NON EMPTY Order([Epoch].[Epoch].[Branch].Members, [Measures].[Predicted Churn Overflow], BDESC) ON ROWS FROM [customer_cube]",
       "updateMode": "once"
      },
      "serverKey": "default",
      "widgetKey": "plotly-clustered-bar-chart"
     }
    }
   },
   "outputs": [
    {
     "data": {
      "application/vnd.atoti.widget.v0+json": {
       "name": "Difference in number of customers to retain",
       "sessionId": "1685413173_PPEYJT",
       "sessionLocation": {
        "https": false,
        "port": 58900
       },
       "widgetCreationCode": "session.visualize()"
      },
      "text/html": [
       "<img src=\"data:image/svg+xml;charset=utf8,%3C%3Fxml%20version%3D%221.0%22%20standalone%3D%22no%22%3F%3E%3Csvg%20xmlns%3D%22http%3A%2F%2Fwww.w3.org%2F2000%2Fsvg%22%20xmlns%3Axlink%3D%22http%3A%2F%2Fwww.w3.org%2F1999%2Fxlink%22%20height%3D%22352%22%20width%3D%221342%22%20viewBox%3D%220%200%201342%20352%22%3E%3Cdefs%20id%3D%22defs-5cf176%22%3E%3Cg%20class%3D%22clips%22%3E%3CclipPath%20id%3D%22clip5cf176xyplot%22%20class%3D%22plotclip%22%3E%3Crect%20width%3D%22946%22%20height%3D%22282%22%2F%3E%3C%2FclipPath%3E%3CclipPath%20class%3D%22axesclip%22%20id%3D%22clip5cf176x%22%3E%3Crect%20x%3D%22177%22%20y%3D%220%22%20width%3D%22946%22%20height%3D%22352%22%2F%3E%3C%2FclipPath%3E%3CclipPath%20class%3D%22axesclip%22%20id%3D%22clip5cf176y%22%3E%3Crect%20x%3D%220%22%20y%3D%2230%22%20width%3D%221342%22%20height%3D%22282%22%2F%3E%3C%2FclipPath%3E%3CclipPath%20class%3D%22axesclip%22%20id%3D%22clip5cf176xy%22%3E%3Crect%20x%3D%22177%22%20y%3D%2230%22%20width%3D%22946%22%20height%3D%22282%22%2F%3E%3C%2FclipPath%3E%3C%2Fg%3E%3Cg%20class%3D%22gradients%22%2F%3E%3C%2Fdefs%3E%3Cg%20class%3D%22bglayer%22%2F%3E%3Cg%20class%3D%22draglayer%20cursor-crosshair%22%3E%3Cg%20class%3D%22xy%22%3E%3Crect%20class%3D%22nsewdrag%20drag%22%20data-subplot%3D%22xy%22%20x%3D%22177%22%20y%3D%2230%22%20width%3D%22946%22%20height%3D%22282%22%20style%3D%22fill%3A%20transparent%3B%20stroke-width%3A%200%3B%20pointer-events%3A%20all%3B%22%2F%3E%3Crect%20class%3D%22nwdrag%20drag%20cursor-nw-resize%22%20data-subplot%3D%22xy%22%20x%3D%22157%22%20y%3D%2210%22%20width%3D%2220%22%20height%3D%2220%22%20style%3D%22fill%3A%20transparent%3B%20stroke-width%3A%200%3B%20pointer-events%3A%20all%3B%22%2F%3E%3Crect%20class%3D%22nedrag%20drag%20cursor-ne-resize%22%20data-subplot%3D%22xy%22%20x%3D%221123%22%20y%3D%2210%22%20width%3D%2220%22%20height%3D%2220%22%20style%3D%22fill%3A%20transparent%3B%20stroke-width%3A%200%3B%20pointer-events%3A%20all%3B%22%2F%3E%3Crect%20class%3D%22swdrag%20drag%20cursor-sw-resize%22%20data-subplot%3D%22xy%22%20x%3D%22157%22%20y%3D%22312%22%20width%3D%2220%22%20height%3D%2220%22%20style%3D%22fill%3A%20transparent%3B%20stroke-width%3A%200%3B%20pointer-events%3A%20all%3B%22%2F%3E%3Crect%20class%3D%22sedrag%20drag%20cursor-se-resize%22%20data-subplot%3D%22xy%22%20x%3D%221123%22%20y%3D%22312%22%20width%3D%2220%22%20height%3D%2220%22%20style%3D%22fill%3A%20transparent%3B%20stroke-width%3A%200%3B%20pointer-events%3A%20all%3B%22%2F%3E%3Crect%20class%3D%22ewdrag%20drag%20cursor-ew-resize%22%20data-subplot%3D%22xy%22%20x%3D%22271.6%22%20y%3D%22312.5%22%20width%3D%22756.8000000000001%22%20height%3D%2220%22%20style%3D%22fill%3A%20transparent%3B%20stroke-width%3A%200%3B%20pointer-events%3A%20all%3B%22%2F%3E%3Crect%20class%3D%22wdrag%20drag%20cursor-w-resize%22%20data-subplot%3D%22xy%22%20x%3D%22177%22%20y%3D%22312.5%22%20width%3D%2294.60000000000001%22%20height%3D%2220%22%20style%3D%22fill%3A%20transparent%3B%20stroke-width%3A%200%3B%20pointer-events%3A%20all%3B%22%2F%3E%3Crect%20class%3D%22edrag%20drag%20cursor-e-resize%22%20data-subplot%3D%22xy%22%20x%3D%221028.4%22%20y%3D%22312.5%22%20width%3D%2294.60000000000001%22%20height%3D%2220%22%20style%3D%22fill%3A%20transparent%3B%20stroke-width%3A%200%3B%20pointer-events%3A%20all%3B%22%2F%3E%3Crect%20class%3D%22nsdrag%20drag%20cursor-ns-resize%22%20data-subplot%3D%22xy%22%20x%3D%22156.5%22%20y%3D%2258.2%22%20width%3D%2220%22%20height%3D%22225.60000000000002%22%20style%3D%22fill%3A%20transparent%3B%20stroke-width%3A%200%3B%20pointer-events%3A%20all%3B%22%2F%3E%3Crect%20class%3D%22sdrag%20drag%20cursor-s-resize%22%20data-subplot%3D%22xy%22%20x%3D%22156.5%22%20y%3D%22283.8%22%20width%3D%2220%22%20height%3D%2228.200000000000003%22%20style%3D%22fill%3A%20transparent%3B%20stroke-width%3A%200%3B%20pointer-events%3A%20all%3B%22%2F%3E%3Crect%20class%3D%22ndrag%20drag%20cursor-n-resize%22%20data-subplot%3D%22xy%22%20x%3D%22156.5%22%20y%3D%2230%22%20width%3D%2220%22%20height%3D%2228.200000000000003%22%20style%3D%22fill%3A%20transparent%3B%20stroke-width%3A%200%3B%20pointer-events%3A%20all%3B%22%2F%3E%3C%2Fg%3E%3C%2Fg%3E%3Cg%20class%3D%22layer-below%22%3E%3Cg%20class%3D%22imagelayer%22%2F%3E%3Cg%20class%3D%22shapelayer%22%2F%3E%3C%2Fg%3E%3Cg%20class%3D%22cartesianlayer%22%3E%3Cg%20class%3D%22subplot%20xy%22%3E%3Cg%20class%3D%22layer-subplot%22%3E%3Cg%20class%3D%22shapelayer%22%2F%3E%3Cg%20class%3D%22imagelayer%22%2F%3E%3C%2Fg%3E%3Cg%20class%3D%22gridlayer%22%3E%3Cg%20class%3D%22x%22%3E%3Cpath%20class%3D%22xgrid%20crisp%22%20transform%3D%22translate(336.57%2C0)%22%20d%3D%22M0%2C30v282%22%20style%3D%22stroke%3A%20rgb(0%2C%200%2C%200)%3B%20stroke-opacity%3A%200%3B%20stroke-width%3A%201px%3B%22%2F%3E%3Cpath%20class%3D%22xgrid%20crisp%22%20transform%3D%22translate(496.14%2C0)%22%20d%3D%22M0%2C30v282%22%20style%3D%22stroke%3A%20rgb(0%2C%200%2C%200)%3B%20stroke-opacity%3A%200%3B%20stroke-width%3A%201px%3B%22%2F%3E%3Cpath%20class%3D%22xgrid%20crisp%22%20transform%3D%22translate(655.71%2C0)%22%20d%3D%22M0%2C30v282%22%20style%3D%22stroke%3A%20rgb(0%2C%200%2C%200)%3B%20stroke-opacity%3A%200%3B%20stroke-width%3A%201px%3B%22%2F%3E%3Cpath%20class%3D%22xgrid%20crisp%22%20transform%3D%22translate(815.28%2C0)%22%20d%3D%22M0%2C30v282%22%20style%3D%22stroke%3A%20rgb(0%2C%200%2C%200)%3B%20stroke-opacity%3A%200%3B%20stroke-width%3A%201px%3B%22%2F%3E%3Cpath%20class%3D%22xgrid%20crisp%22%20transform%3D%22translate(974.85%2C0)%22%20d%3D%22M0%2C30v282%22%20style%3D%22stroke%3A%20rgb(0%2C%200%2C%200)%3B%20stroke-opacity%3A%200%3B%20stroke-width%3A%201px%3B%22%2F%3E%3C%2Fg%3E%3Cg%20class%3D%22y%22%3E%3Cpath%20class%3D%22ygrid%20crisp%22%20transform%3D%22translate(0%2C283.8)%22%20d%3D%22M177%2C0h946%22%20style%3D%22stroke%3A%20rgb(89%2C%2089%2C%2089)%3B%20stroke-opacity%3A%200.25%3B%20stroke-width%3A%201px%3B%22%2F%3E%3Cpath%20class%3D%22ygrid%20crisp%22%20transform%3D%22translate(0%2C227.4)%22%20d%3D%22M177%2C0h946%22%20style%3D%22stroke%3A%20rgb(89%2C%2089%2C%2089)%3B%20stroke-opacity%3A%200.25%3B%20stroke-width%3A%201px%3B%22%2F%3E%3Cpath%20class%3D%22ygrid%20crisp%22%20transform%3D%22translate(0%2C171)%22%20d%3D%22M177%2C0h946%22%20style%3D%22stroke%3A%20rgb(89%2C%2089%2C%2089)%3B%20stroke-opacity%3A%200.25%3B%20stroke-width%3A%201px%3B%22%2F%3E%3Cpath%20class%3D%22ygrid%20crisp%22%20transform%3D%22translate(0%2C114.6)%22%20d%3D%22M177%2C0h946%22%20style%3D%22stroke%3A%20rgb(89%2C%2089%2C%2089)%3B%20stroke-opacity%3A%200.25%3B%20stroke-width%3A%201px%3B%22%2F%3E%3Cpath%20class%3D%22ygrid%20crisp%22%20transform%3D%22translate(0%2C58.2)%22%20d%3D%22M177%2C0h946%22%20style%3D%22stroke%3A%20rgb(89%2C%2089%2C%2089)%3B%20stroke-opacity%3A%200.25%3B%20stroke-width%3A%201px%3B%22%2F%3E%3C%2Fg%3E%3C%2Fg%3E%3Cg%20class%3D%22zerolinelayer%22%3E%3Cpath%20class%3D%22xzl%20zl%20crisp%22%20transform%3D%22translate(177%2C0)%22%20d%3D%22M0%2C30v282%22%20style%3D%22stroke%3A%20rgb(89%2C%2089%2C%2089)%3B%20stroke-opacity%3A%200.5%3B%20stroke-width%3A%201px%3B%22%2F%3E%3C%2Fg%3E%3Cpath%20class%3D%22xlines-below%22%2F%3E%3Cpath%20class%3D%22ylines-below%22%2F%3E%3Cg%20class%3D%22overlines-below%22%2F%3E%3Cg%20class%3D%22xaxislayer-below%22%2F%3E%3Cg%20class%3D%22yaxislayer-below%22%2F%3E%3Cg%20class%3D%22overaxes-below%22%2F%3E%3Cg%20class%3D%22plot%22%20transform%3D%22translate(177%2C30)%22%20clip-path%3D%22url('%23clip5cf176xyplot')%22%3E%3Cg%20class%3D%22barlayer%20mlayer%22%3E%3Cg%20class%3D%22trace%20bars%22%20style%3D%22opacity%3A%201%3B%22%3E%3Cg%20class%3D%22points%22%3E%3Cg%20class%3D%22point%22%3E%3Cpath%20d%3D%22M0%2C276.36V231.24H460.84V276.36Z%22%20style%3D%22vector-effect%3A%20non-scaling-stroke%3B%20opacity%3A%201%3B%20stroke-width%3A%200px%3B%20fill%3A%20rgb(78%2C%20121%2C%20167)%3B%20fill-opacity%3A%201%3B%22%2F%3E%3C%2Fg%3E%3Cg%20class%3D%22point%22%3E%3Cpath%20d%3D%22M0%2C219.96V174.84H468.82V219.96Z%22%20style%3D%22vector-effect%3A%20non-scaling-stroke%3B%20opacity%3A%201%3B%20stroke-width%3A%200px%3B%20fill%3A%20rgb(78%2C%20121%2C%20167)%3B%20fill-opacity%3A%201%3B%22%2F%3E%3C%2Fg%3E%3Cg%20class%3D%22point%22%3E%3Cpath%20d%3D%22M0%2C163.56V118.44H524.03V163.56Z%22%20style%3D%22vector-effect%3A%20non-scaling-stroke%3B%20opacity%3A%201%3B%20stroke-width%3A%200px%3B%20fill%3A%20rgb(78%2C%20121%2C%20167)%3B%20fill-opacity%3A%201%3B%22%2F%3E%3C%2Fg%3E%3Cg%20class%3D%22point%22%3E%3Cpath%20d%3D%22M0%2C107.16V62.04H796.58V107.16Z%22%20style%3D%22vector-effect%3A%20non-scaling-stroke%3B%20opacity%3A%201%3B%20stroke-width%3A%200px%3B%20fill%3A%20rgb(78%2C%20121%2C%20167)%3B%20fill-opacity%3A%201%3B%22%2F%3E%3C%2Fg%3E%3Cg%20class%3D%22point%22%3E%3Cpath%20d%3D%22M0%2C50.76V5.64H898.7V50.76Z%22%20style%3D%22vector-effect%3A%20non-scaling-stroke%3B%20opacity%3A%201%3B%20stroke-width%3A%200px%3B%20fill%3A%20rgb(78%2C%20121%2C%20167)%3B%20fill-opacity%3A%201%3B%22%2F%3E%3C%2Fg%3E%3C%2Fg%3E%3C%2Fg%3E%3C%2Fg%3E%3C%2Fg%3E%3Cg%20class%3D%22overplot%22%2F%3E%3Cpath%20class%3D%22xlines-above%20crisp%22%20style%3D%22fill%3A%20none%3B%20stroke-width%3A%201px%3B%20stroke%3A%20rgb(89%2C%2089%2C%2089)%3B%20stroke-opacity%3A%200.25%3B%22%20d%3D%22M176%2C312.5H1123%22%2F%3E%3Cpath%20class%3D%22ylines-above%20crisp%22%20style%3D%22fill%3A%20none%3B%20stroke-width%3A%201px%3B%20stroke%3A%20rgb(89%2C%2089%2C%2089)%3B%20stroke-opacity%3A%200.25%3B%22%20d%3D%22M176.5%2C30V312%22%2F%3E%3Cg%20class%3D%22overlines-above%22%2F%3E%3Cg%20class%3D%22xaxislayer-above%22%3E%3Cg%20class%3D%22xtick%22%3E%3Ctext%20text-anchor%3D%22middle%22%20x%3D%220%22%20y%3D%22327.4%22%20data-unformatted%3D%220%22%20data-math%3D%22N%22%20transform%3D%22translate(177%2C0)%22%20style%3D%22font-family%3A%20%26quot%3BOpen%20Sans%26quot%3B%2C%20verdana%2C%20arial%2C%20sans-serif%3B%20font-size%3A%2012px%3B%20fill%3A%20rgb(89%2C%2089%2C%2089)%3B%20fill-opacity%3A%201%3B%20white-space%3A%20pre%3B%22%3E0%3C%2Ftext%3E%3C%2Fg%3E%3Cg%20class%3D%22xtick%22%3E%3Ctext%20text-anchor%3D%22middle%22%20x%3D%220%22%20y%3D%22327.4%22%20data-unformatted%3D%22500%22%20data-math%3D%22N%22%20transform%3D%22translate(336.57%2C0)%22%20style%3D%22font-family%3A%20%26quot%3BOpen%20Sans%26quot%3B%2C%20verdana%2C%20arial%2C%20sans-serif%3B%20font-size%3A%2012px%3B%20fill%3A%20rgb(89%2C%2089%2C%2089)%3B%20fill-opacity%3A%201%3B%20white-space%3A%20pre%3B%22%3E500%3C%2Ftext%3E%3C%2Fg%3E%3Cg%20class%3D%22xtick%22%3E%3Ctext%20text-anchor%3D%22middle%22%20x%3D%220%22%20y%3D%22327.4%22%20data-unformatted%3D%221000%22%20data-math%3D%22N%22%20transform%3D%22translate(496.14%2C0)%22%20style%3D%22font-family%3A%20%26quot%3BOpen%20Sans%26quot%3B%2C%20verdana%2C%20arial%2C%20sans-serif%3B%20font-size%3A%2012px%3B%20fill%3A%20rgb(89%2C%2089%2C%2089)%3B%20fill-opacity%3A%201%3B%20white-space%3A%20pre%3B%22%3E1000%3C%2Ftext%3E%3C%2Fg%3E%3Cg%20class%3D%22xtick%22%3E%3Ctext%20text-anchor%3D%22middle%22%20x%3D%220%22%20y%3D%22327.4%22%20data-unformatted%3D%221500%22%20data-math%3D%22N%22%20transform%3D%22translate(655.71%2C0)%22%20style%3D%22font-family%3A%20%26quot%3BOpen%20Sans%26quot%3B%2C%20verdana%2C%20arial%2C%20sans-serif%3B%20font-size%3A%2012px%3B%20fill%3A%20rgb(89%2C%2089%2C%2089)%3B%20fill-opacity%3A%201%3B%20white-space%3A%20pre%3B%22%3E1500%3C%2Ftext%3E%3C%2Fg%3E%3Cg%20class%3D%22xtick%22%3E%3Ctext%20text-anchor%3D%22middle%22%20x%3D%220%22%20y%3D%22327.4%22%20data-unformatted%3D%222000%22%20data-math%3D%22N%22%20transform%3D%22translate(815.28%2C0)%22%20style%3D%22font-family%3A%20%26quot%3BOpen%20Sans%26quot%3B%2C%20verdana%2C%20arial%2C%20sans-serif%3B%20font-size%3A%2012px%3B%20fill%3A%20rgb(89%2C%2089%2C%2089)%3B%20fill-opacity%3A%201%3B%20white-space%3A%20pre%3B%22%3E2000%3C%2Ftext%3E%3C%2Fg%3E%3Cg%20class%3D%22xtick%22%3E%3Ctext%20text-anchor%3D%22middle%22%20x%3D%220%22%20y%3D%22327.4%22%20data-unformatted%3D%222500%22%20data-math%3D%22N%22%20transform%3D%22translate(974.85%2C0)%22%20style%3D%22font-family%3A%20%26quot%3BOpen%20Sans%26quot%3B%2C%20verdana%2C%20arial%2C%20sans-serif%3B%20font-size%3A%2012px%3B%20fill%3A%20rgb(89%2C%2089%2C%2089)%3B%20fill-opacity%3A%201%3B%20white-space%3A%20pre%3B%22%3E2500%3C%2Ftext%3E%3C%2Fg%3E%3C%2Fg%3E%3Cg%20class%3D%22yaxislayer-above%22%3E%3Cg%20class%3D%22ytick%22%3E%3Ctext%20text-anchor%3D%22end%22%20x%3D%22173.6%22%20y%3D%224.199999999999999%22%20data-unformatted%3D%22Base%22%20data-math%3D%22N%22%20transform%3D%22translate(0%2C283.8)%22%20style%3D%22font-family%3A%20%26quot%3BOpen%20Sans%26quot%3B%2C%20verdana%2C%20arial%2C%20sans-serif%3B%20font-size%3A%2012px%3B%20fill%3A%20rgb(89%2C%2089%2C%2089)%3B%20fill-opacity%3A%201%3B%20white-space%3A%20pre%3B%22%3EBase%3C%2Ftext%3E%3C%2Fg%3E%3Cg%20class%3D%22ytick%22%3E%3Ctext%20text-anchor%3D%22end%22%20x%3D%22173.6%22%20y%3D%224.199999999999999%22%20data-unformatted%3D%22Naive%20Bayes%20Classifier%22%20data-math%3D%22N%22%20transform%3D%22translate(0%2C227.4)%22%20style%3D%22font-family%3A%20%26quot%3BOpen%20Sans%26quot%3B%2C%20verdana%2C%20arial%2C%20sans-serif%3B%20font-size%3A%2012px%3B%20fill%3A%20rgb(89%2C%2089%2C%2089)%3B%20fill-opacity%3A%201%3B%20white-space%3A%20pre%3B%22%3ENaive%20Bayes%20Classifier%3C%2Ftext%3E%3C%2Fg%3E%3Cg%20class%3D%22ytick%22%3E%3Ctext%20text-anchor%3D%22end%22%20x%3D%22173.6%22%20y%3D%224.199999999999999%22%20data-unformatted%3D%22Logistic%20Regression%20Classifier%22%20data-math%3D%22N%22%20transform%3D%22translate(0%2C171)%22%20style%3D%22font-family%3A%20%26quot%3BOpen%20Sans%26quot%3B%2C%20verdana%2C%20arial%2C%20sans-serif%3B%20font-size%3A%2012px%3B%20fill%3A%20rgb(89%2C%2089%2C%2089)%3B%20fill-opacity%3A%201%3B%20white-space%3A%20pre%3B%22%3ELogistic%20Regression%20Classifier%3C%2Ftext%3E%3C%2Fg%3E%3Cg%20class%3D%22ytick%22%3E%3Ctext%20text-anchor%3D%22end%22%20x%3D%22173.6%22%20y%3D%224.199999999999999%22%20data-unformatted%3D%22SVM%20Classifier%22%20data-math%3D%22N%22%20transform%3D%22translate(0%2C114.6)%22%20style%3D%22font-family%3A%20%26quot%3BOpen%20Sans%26quot%3B%2C%20verdana%2C%20arial%2C%20sans-serif%3B%20font-size%3A%2012px%3B%20fill%3A%20rgb(89%2C%2089%2C%2089)%3B%20fill-opacity%3A%201%3B%20white-space%3A%20pre%3B%22%3ESVM%20Classifier%3C%2Ftext%3E%3C%2Fg%3E%3Cg%20class%3D%22ytick%22%3E%3Ctext%20text-anchor%3D%22end%22%20x%3D%22173.6%22%20y%3D%224.199999999999999%22%20data-unformatted%3D%22Dummy%20Uniform%20Classifier%22%20data-math%3D%22N%22%20transform%3D%22translate(0%2C58.2)%22%20style%3D%22font-family%3A%20%26quot%3BOpen%20Sans%26quot%3B%2C%20verdana%2C%20arial%2C%20sans-serif%3B%20font-size%3A%2012px%3B%20fill%3A%20rgb(89%2C%2089%2C%2089)%3B%20fill-opacity%3A%201%3B%20white-space%3A%20pre%3B%22%3EDummy%20Uniform%20Classifier%3C%2Ftext%3E%3C%2Fg%3E%3C%2Fg%3E%3Cg%20class%3D%22overaxes-above%22%2F%3E%3C%2Fg%3E%3C%2Fg%3E%3Cg%20class%3D%22polarlayer%22%2F%3E%3Cg%20class%3D%22ternarylayer%22%2F%3E%3Cg%20class%3D%22geolayer%22%2F%3E%3Cg%20class%3D%22funnelarealayer%22%2F%3E%3Cg%20class%3D%22pielayer%22%2F%3E%3Cg%20class%3D%22treemaplayer%22%2F%3E%3Cg%20class%3D%22sunburstlayer%22%2F%3E%3Cg%20class%3D%22glimages%22%2F%3E%3Cdefs%20id%3D%22topdefs-5cf176%22%3E%3Cg%20class%3D%22clips%22%2F%3E%3CclipPath%20id%3D%22legend5cf176%22%3E%3Crect%20width%3D%22200%22%20height%3D%2229%22%20x%3D%220%22%20y%3D%220%22%2F%3E%3C%2FclipPath%3E%3C%2Fdefs%3E%3Cg%20class%3D%22indicatorlayer%22%2F%3E%3Cg%20class%3D%22layer-above%22%3E%3Cg%20class%3D%22imagelayer%22%2F%3E%3Cg%20class%3D%22shapelayer%22%2F%3E%3C%2Fg%3E%3Cg%20class%3D%22infolayer%22%3E%3Cg%20class%3D%22legend%22%20pointer-events%3D%22all%22%20transform%3D%22translate(1141.92%2C30)%22%3E%3Crect%20class%3D%22bg%22%20shape-rendering%3D%22crispEdges%22%20style%3D%22stroke%3A%20rgb(68%2C%2068%2C%2068)%3B%20stroke-opacity%3A%201%3B%20fill%3A%20rgb(255%2C%20255%2C%20255)%3B%20fill-opacity%3A%201%3B%20stroke-width%3A%200px%3B%22%20width%3D%22200%22%20height%3D%2229%22%20x%3D%220%22%20y%3D%220%22%2F%3E%3Cg%20class%3D%22scrollbox%22%20transform%3D%22%22%20clip-path%3D%22url('%23legend5cf176')%22%3E%3Cg%20class%3D%22groups%22%20transform%3D%22%22%3E%3Cg%20class%3D%22traces%22%20style%3D%22opacity%3A%201%3B%22%20transform%3D%22translate(0%2C14.5)%22%3E%3Ctext%20class%3D%22legendtext%22%20text-anchor%3D%22start%22%20x%3D%2240%22%20y%3D%224.680000000000001%22%20data-unformatted%3D%22Predicted%20Churn%20Overflow%22%20data-math%3D%22N%22%20style%3D%22font-family%3A%20%26quot%3BOpen%20Sans%26quot%3B%2C%20verdana%2C%20arial%2C%20sans-serif%3B%20font-size%3A%2012px%3B%20fill%3A%20rgb(89%2C%2089%2C%2089)%3B%20fill-opacity%3A%201%3B%20white-space%3A%20pre%3B%22%3EPredicted%20Churn%20Overflow%3C%2Ftext%3E%3Cg%20class%3D%22layers%22%20style%3D%22opacity%3A%201%3B%22%3E%3Cg%20class%3D%22legendfill%22%2F%3E%3Cg%20class%3D%22legendlines%22%2F%3E%3Cg%20class%3D%22legendsymbols%22%3E%3Cg%20class%3D%22legendpoints%22%3E%3Cpath%20class%3D%22legendundefined%22%20d%3D%22M6%2C6H-6V-6H6Z%22%20transform%3D%22translate(20%2C0)%22%20style%3D%22stroke-width%3A%200px%3B%20fill%3A%20rgb(78%2C%20121%2C%20167)%3B%20fill-opacity%3A%201%3B%22%2F%3E%3C%2Fg%3E%3C%2Fg%3E%3C%2Fg%3E%3Crect%20class%3D%22legendtoggle%22%20pointer-events%3D%22all%22%20x%3D%220%22%20y%3D%22-9.5%22%20width%3D%22194.10546875%22%20height%3D%2219%22%20style%3D%22cursor%3A%20pointer%3B%20fill%3A%20rgb(0%2C%200%2C%200)%3B%20fill-opacity%3A%200%3B%22%2F%3E%3C%2Fg%3E%3C%2Fg%3E%3C%2Fg%3E%3Crect%20class%3D%22scrollbar%22%20rx%3D%2220%22%20ry%3D%223%22%20width%3D%220%22%20height%3D%220%22%20style%3D%22fill%3A%20rgb(128%2C%20139%2C%20164)%3B%20fill-opacity%3A%201%3B%22%20x%3D%220%22%20y%3D%220%22%2F%3E%3C%2Fg%3E%3Cg%20class%3D%22g-gtitle%22%2F%3E%3Cg%20class%3D%22g-xtitle%22%2F%3E%3Cg%20class%3D%22g-ytitle%22%2F%3E%3C%2Fg%3E%3Cg%20class%3D%22menulayer%22%2F%3E%3Cg%20class%3D%22zoomlayer%22%2F%3E%3Cg%20class%3D%22hoverlayer%22%2F%3E%3C%2Fsvg%3E\">"
      ],
      "text/plain": [
       "Open the notebook in JupyterLab with the Atoti extension enabled to build this widget."
      ]
     },
     "metadata": {},
     "output_type": "display_data"
    }
   ],
   "source": [
    "session.visualize(\"Difference in number of customers to retain\")"
   ]
  },
  {
   "cell_type": "markdown",
   "metadata": {},
   "source": [
    "Now that we know the estimated number of customers to retain, how do we identify who to retain?  \n",
    "During data clean up, we ensured that only predicted churn customers have a value under _ChurnProbability_ and therefore eligible for retention.  \n",
    "However, we increase this possibility in _Churn Score_ if the _MonthyCharges_ of the customer is higher or equal to the average as the higher their recurring charges, the less customers we need to retain.\n",
    "\n",
    "We will be ranking the customers who has the highest possibility to churn by using [`atoti.rank`](https://docs.atoti.io/0.4.1/lib/atoti.html?#atoti.rank).  \n",
    "This allows us to identify the customers to be retained as those whose rank is lesser or equal to the Predicted Churn Overflow ."
   ]
  },
  {
   "cell_type": "code",
   "execution_count": 41,
   "metadata": {},
   "outputs": [],
   "source": [
    "# we only rank those customers who are churning. We give higher weightage to customer with higher charge so as to minimize the lost\n",
    "m[\"Churn Score\"] = tt.where(\n",
    "    (m[\"MonthlyCharges.MEAN\"] >= m[\"Churn MonthlyCharges.MEAN\"])\n",
    "    & (m[\"ChurnProbability.MEAN\"] > 0),\n",
    "    m[\"ChurnProbability.MEAN\"] + 1,\n",
    "    m[\"ChurnProbability.MEAN\"],\n",
    ")\n",
    "\n",
    "m[\"Churn Rank\"] = tt.rank(\n",
    "    m[\"Churn Score\"], h[\"CustomerID\"], ascending=False, apply_filters=True\n",
    ")"
   ]
  },
  {
   "cell_type": "markdown",
   "metadata": {},
   "source": [
    "So let's set our _Retention budget_ and _New Customer budget_.\n",
    "\n",
    "For the customers identified for retention, we create a measure _Retention cost_ where we spend the _Retention budget_ and a measure _New Customer cost_ where we spend the _New Customer budget_."
   ]
  },
  {
   "cell_type": "code",
   "execution_count": 42,
   "metadata": {},
   "outputs": [],
   "source": [
    "m[\"Retention budget\"] = 100\n",
    "m[\"New Customer budget\"] = 500\n",
    "\n",
    "# we spent $100 on each of the customers identified and managed to retain all of them\n",
    "m[\"Retention cost\"] = tt.agg.sum(\n",
    "    tt.where(\n",
    "        (m[\"Churn Rank\"] <= m[\"Predicted Churn Overflow\"]) & (m[\"Churn Score\"] > 0),\n",
    "        m[\"Retention budget\"],\n",
    "        0,\n",
    "    ),\n",
    "    scope=tt.OriginScope(l[\"CustomerID\"], l[\"ChurnPredicted\"]),\n",
    ")\n",
    "\n",
    "# we retained none of the customers, hence spending $500 to recruit number of new customers equivalent to the Predicted Churn Overflow\n",
    "m[\"New Customer cost\"] = tt.agg.sum(\n",
    "    tt.where(\n",
    "        (m[\"Churn Rank\"] <= m[\"Predicted Churn Overflow\"]) & (m[\"Churn Score\"] > 0),\n",
    "        m[\"New Customer budget\"],\n",
    "        0,\n",
    "    ),\n",
    "    scope=tt.OriginScope(l[\"CustomerID\"], l[\"ChurnPredicted\"]),\n",
    ")"
   ]
  },
  {
   "cell_type": "code",
   "execution_count": 43,
   "metadata": {
    "atoti": {
     "height": 342,
     "widget": {
      "columnWidths": {
       "[Measures].[MonthlyCharges.SUM]": 148.65625,
       "[Measures].[Predicted Churn Overflow]": 187.34375
      },
      "filters": [
       "[Epoch].[Epoch].[Logistic Regression Classifier]"
      ],
      "mapping": {
       "columns": [
        "ALL_MEASURES"
       ],
       "measures": [
        "[Measures].[Churn Rank]",
        "[Measures].[Predicted Churn Overflow]",
        "[Measures].[Churn Score]",
        "[Measures].[MonthlyCharges.SUM]",
        "[Measures].[Retention cost]"
       ],
       "rows": [
        "[Customer].[ChurnPredicted].[ChurnPredicted] => [Customer].[CustomerID].[CustomerID]"
       ]
      },
      "query": {
       "mdx": "SELECT NON EMPTY Order(Hierarchize(Union(Crossjoin(Descendants({[Customer].[ChurnPredicted].[AllMember]}, 1, SELF_AND_BEFORE), [Customer].[CustomerID].DefaultMember), Crossjoin([Customer].[ChurnPredicted].[AllMember].[Yes], Hierarchize(Descendants({[Customer].[CustomerID].[AllMember]}, 1, SELF_AND_BEFORE))))), [Measures].[Churn Rank], ASC) ON ROWS, NON EMPTY {[Measures].[Churn Rank], [Measures].[Predicted Churn Overflow], [Measures].[Churn Score], [Measures].[MonthlyCharges.SUM], [Measures].[Retention cost]} ON COLUMNS FROM [customer_cube] WHERE [Measures].[Churn Rank] <= [Measures].[Predicted Churn Overflow]",
       "updateMode": "once"
      },
      "serverKey": "default",
      "widgetKey": "pivot-table"
     }
    }
   },
   "outputs": [
    {
     "data": {
      "application/vnd.atoti.widget.v0+json": {
       "name": "Customer retention based on churn ranking for Logistic Regression",
       "sessionId": "1685413173_PPEYJT",
       "sessionLocation": {
        "https": false,
        "port": 58900
       },
       "widgetCreationCode": "session.visualize()"
      },
      "text/html": [
       "<img src=\"data:image/svg+xml;charset=utf8,%3C%3Fxml%20version%3D%221.0%22%20standalone%3D%22no%22%3F%3E%3Csvg%20xmlns%3D%22http%3A%2F%2Fwww.w3.org%2F2000%2Fsvg%22%20height%3D%22334%22%20width%3D%221342%22%3E%3CforeignObject%20width%3D%22100%25%22%20height%3D%22100%25%22%20x%3D%220%22%20y%3D%220%22%3E%3Cstyle%20xmlns%3D%22http%3A%2F%2Fwww.w3.org%2F1999%2Fxhtml%22%20type%3D%22text%2Fcss%22%3E.anticon%20%7Bdisplay%3A%20inline-block%3B%20color%3A%20inherit%3B%20font-style%3A%20normal%3B%20line-height%3A%200%3B%20text-align%3A%20center%3B%20text-transform%3A%20none%3B%20vertical-align%3A%20-0.125em%3B%20text-rendering%3A%20optimizelegibility%3B%20-webkit-font-smoothing%3A%20antialiased%7D%0A.anticon%20%26gt%3B%20*%20%7Bline-height%3A%201%7D%0A.anticon%20svg%20%7Bdisplay%3A%20inline-block%7D%0A.anticon%5Btabindex%5D%20%7Bcursor%3A%20pointer%7D%0A*%2C%20%3A%3Abefore%2C%20%3A%3Aafter%20%7Bbox-sizing%3A%20unset%7D%0A.ant-root%20%5Bclass%5E%3D%22ant-%22%5D%2C%20.ant-root%20%5Bclass*%3D%22ant-%22%5D%2C%20.ant-root%20%5Bclass%5E%3D%22ant-%22%5D%20*%2C%20.ant-root%20%5Bclass*%3D%22ant-%22%5D%20*%2C%20.ant-root%20%5Bclass%5E%3D%22ant-%22%5D%20%3A%3Abefore%2C%20.ant-root%20%5Bclass*%3D%22ant-%22%5D%20%3A%3Abefore%2C%20.ant-root%20%5Bclass%5E%3D%22ant-%22%5D%20%3A%3Aafter%2C%20.ant-root%20%5Bclass*%3D%22ant-%22%5D%20%3A%3Aafter%20%7Bbox-sizing%3A%20border-box%7D%0A.ant-root%2C%20.ant-root%20%7Bwidth%3A%20100%25%3B%20height%3A%20100%25%7D%0A.ant-root%20*%2C%20.ant-root%20%3A%3Abefore%2C%20.ant-root%20%3A%3Aafter%20%7Bbox-sizing%3A%20border-box%7D%0A.ant-root%20%7Btext-size-adjust%3A%20100%25%3B%20-webkit-tap-highlight-color%3A%20rgba(0%2C%200%2C%200%2C%200)%3B%20font-family%3A%20-apple-system%2C%20BlinkMacSystemFont%2C%20%22Segoe%20UI%22%2C%20Roboto%2C%20%22Helvetica%20Neue%22%2C%20Arial%2C%20%22Noto%20Sans%22%2C%20sans-serif%2C%20%22Apple%20Color%20Emoji%22%2C%20%22Segoe%20UI%20Emoji%22%2C%20%22Segoe%20UI%20Symbol%22%2C%20%22Noto%20Color%20Emoji%22%3B%20line-height%3A%201.66667%3B%20color%3A%20rgb(89%2C%2089%2C%2089)%3B%20font-variant-ligatures%3A%20normal%3B%20font-variant-numeric%3A%20tabular-nums%3B%20font-variant-east-asian%3A%20normal%3B%20font-variant-caps%3A%20normal%3B%20font-variant-alternates%3A%20normal%3B%20background-color%3A%20rgb(255%2C%20255%2C%20255)%3B%20margin-top%3A%200px%3B%20margin-right%3A%200px%3B%20margin-bottom%3A%200px%3B%20margin-left%3A%200px%3B%20font-size%3A%2012px%3B%20--antd-wave-shadow-color%3A%20%231890ff%3B%20--scroll-bar%3A%200%7D%0A.ant-root%20svg%3Anot(%3Aroot)%20%7Boverflow-x%3A%20hidden%3B%20overflow-y%3A%20hidden%7D%0A.ant-root%20.anticon%20%7Bcolor%3A%20inherit%3B%20text-align%3A%20center%3B%20text-transform%3A%20none%3B%20vertical-align%3A%20-0.125em%3B%20text-rendering%3A%20optimizelegibility%3B%20-webkit-font-smoothing%3A%20antialiased%3B%20font-style%3A%20normal%3B%20line-height%3A%200%3B%20display%3A%20inline-block%7D%0A.ant-root%20.anticon%20%26gt%3B%20*%20%7Bline-height%3A%201%7D%0A.ant-root%20.anticon%20svg%20%7Bdisplay%3A%20inline-block%7D%0A.ant-root%20.anticon%5Btabindex%5D%20%7Bcursor%3A%20pointer%7D%0A.ant-root%20.aui-invisible-scrollbars%20%7B%7D%0A.css-12ebr42-AWidget%20%7Bheight%3A%20100%25%7D%0A.css-1b1raxz-DefaultWidgetLoadingOverlay%20%7Bdisplay%3A%20flex%3B%20height%3A%20100%25%3B%20-webkit-box-pack%3A%20center%3B%20justify-content%3A%20center%3B%20position%3A%20absolute%3B%20width%3A%20100%25%3B%20-webkit-box-align%3A%20center%3B%20align-items%3A%20center%3B%20pointer-events%3A%20none%3B%20z-index%3A%202%7D%0A.css-34a2ml-DefaultWidgetLoadingOverlay%20%7Bbackground-image%3A%20initial%3B%20background-position-x%3A%20initial%3B%20background-position-y%3A%20initial%3B%20background-size%3A%20initial%3B%20background-repeat-x%3A%20initial%3B%20background-repeat-y%3A%20initial%3B%20background-attachment%3A%20initial%3B%20background-origin%3A%20initial%3B%20background-clip%3A%20initial%3B%20background-color%3A%20transparent%3B%20width%3A%20calc(100%25%20-%204px)%3B%20height%3A%20calc(100%25%20-%204px)%7D%0A.css-2p9ued-WidgetLoadingOverlay%20%7Bheight%3A%20100%25%3B%20position%3A%20relative%7D%0A.css-1hwl8p1-Table%20%7Bpadding-bottom%3A%202px%3B%20padding-right%3A%202px%3B%20height%3A%20100%25%7D%0A.css-14ejcn0-Table%20%7Bheight%3A%20calc(100%25%20-%2030px)%3B%20outline-color%3A%20initial%3B%20outline-style%3A%20none%3B%20outline-width%3A%20initial%3B%20position%3A%20relative%7D%0A.css-1rxpjm0-ColumnResizeHint%20%7Bdisplay%3A%20none%3B%20position%3A%20absolute%3B%20z-index%3A%201%7D%0A.css-walxhl-ColumnResizeHint%20%7Bheight%3A%2028px%3B%20background-color%3A%20rgb(24%2C%20144%2C%20255)%3B%20width%3A%205px%7D%0A.css-1uww2vi-Table%20%7Bheight%3A%2030px%3B%20text-align%3A%20right%3B%20padding-right%3A%2025px%7D%0A.css-xxcrt1-ResizableCell%20%7Bbackground-image%3A%20initial%3B%20background-position-x%3A%20initial%3B%20background-position-y%3A%20initial%3B%20background-size%3A%20initial%3B%20background-repeat-x%3A%20initial%3B%20background-repeat-y%3A%20initial%3B%20background-attachment%3A%20initial%3B%20background-origin%3A%20initial%3B%20background-clip%3A%20initial%3B%20background-color%3A%20transparent%3B%20cursor%3A%20col-resize%3B%20height%3A%20100%25%3B%20position%3A%20absolute%3B%20right%3A%200px%3B%20width%3A%205px%3B%20z-index%3A%201%7D%0A.css-1hol363-ResizableCell%20%7Bdisplay%3A%20flex%3B%20flex-direction%3A%20column%3B%20position%3A%20absolute%3B%20top%3A%200px%3B%20left%3A%200px%3B%20height%3A%2028px%3B%20width%3A%20120px%7D%0A.css-fpuq48-ResizableCell%20%7Bdisplay%3A%20flex%3B%20flex-direction%3A%20column%3B%20position%3A%20absolute%3B%20top%3A%200px%3B%20left%3A%20120px%3B%20height%3A%2028px%3B%20width%3A%20120px%7D%0A.css-uf7wcs-ColumnResizeHint%20%7Bdisplay%3A%20none%3B%20float%3A%20right%3B%20height%3A%20274px%3B%20background-color%3A%20rgb(24%2C%20144%2C%20255)%3B%20opacity%3A%200.4%3B%20width%3A%202px%7D%0A.css-1hx3ay6-Table%20%7Bdisplay%3A%20flex%3B%20height%3A%20302px%7D%0A.css-cjaqq6-Table%20%7Bborder-collapse%3A%20collapse%3B%20height%3A%2028px%3B%20width%3A%20240px%7D%0A.css-17cmzye%20%7Bheight%3A%2028px%3B%20width%3A%20240px%7D%0A.css-1q24z4%20%7Bcursor%3A%20cell%3B%20height%3A%2028px%3B%20overflow-x%3A%20hidden%3B%20overflow-y%3A%20hidden%3B%20position%3A%20relative%3B%20width%3A%20240px%3B%20border-right-width%3A%202px%3B%20border-right-style%3A%20solid%3B%20border-right-color%3A%20rgb(233%2C%20233%2C%20233)%7D%0A.css-10k2aj0%20%7Bheight%3A%20274px%3B%20width%3A%20240px%3B%20overflow-x%3A%20hidden%3B%20overflow-y%3A%20auto%7D%0A.css-lt70af%20%7Bcursor%3A%20cell%3B%20height%3A%2052976px%3B%20overflow-x%3A%20hidden%3B%20overflow-y%3A%20hidden%3B%20position%3A%20relative%3B%20width%3A%20240px%3B%20border-top-width%3A%202px%3B%20border-top-style%3A%20solid%3B%20border-top-color%3A%20rgb(233%2C%20233%2C%20233)%3B%20border-right-width%3A%202px%3B%20border-right-style%3A%20solid%3B%20border-right-color%3A%20rgb(233%2C%20233%2C%20233)%7D%0A.css-18jlsyg-Table%20%7Bwidth%3A%201100px%3B%20border-collapse%3A%20collapse%7D%0A.css-1lcui2a%20%7Bheight%3A%2028px%3B%20width%3A%201082px%3B%20overflow-x%3A%20auto%3B%20overflow-y%3A%20hidden%7D%0A.css-teunqz%20%7Bcursor%3A%20cell%3B%20height%3A%2028px%3B%20overflow-x%3A%20hidden%3B%20overflow-y%3A%20hidden%3B%20position%3A%20relative%3B%20width%3A%20696px%7D%0A.css-9ncptl-ResizableCell%20%7Bdisplay%3A%20flex%3B%20flex-direction%3A%20column%3B%20position%3A%20absolute%3B%20top%3A%200px%3B%20left%3A%20120px%3B%20height%3A%2028px%3B%20width%3A%20187.344px%7D%0A.css-we1lxy-ResizableCell%20%7Bdisplay%3A%20flex%3B%20flex-direction%3A%20column%3B%20position%3A%20absolute%3B%20top%3A%200px%3B%20left%3A%20307.344px%3B%20height%3A%2028px%3B%20width%3A%20120px%7D%0A.css-qko0pj-ResizableCell%20%7Bdisplay%3A%20flex%3B%20flex-direction%3A%20column%3B%20position%3A%20absolute%3B%20top%3A%200px%3B%20left%3A%20427.344px%3B%20height%3A%2028px%3B%20width%3A%20148.656px%7D%0A.css-u0z7bj-ResizableCell%20%7Bdisplay%3A%20flex%3B%20flex-direction%3A%20column%3B%20position%3A%20absolute%3B%20top%3A%200px%3B%20left%3A%20576px%3B%20height%3A%2028px%3B%20width%3A%20120px%7D%0A.css-1srbrtv%20%7Bheight%3A%20274px%3B%20width%3A%201100px%3B%20overflow-x%3A%20auto%3B%20overflow-y%3A%20auto%7D%0A.css-1a5gyva%20%7Bcursor%3A%20cell%3B%20height%3A%2052976px%3B%20overflow-x%3A%20hidden%3B%20overflow-y%3A%20hidden%3B%20position%3A%20relative%3B%20width%3A%20696px%3B%20border-top-width%3A%202px%3B%20border-top-style%3A%20solid%3B%20border-top-color%3A%20rgb(233%2C%20233%2C%20233)%7D%0A*%20%7B-ms-overflow-style%3A%20none%3B%20scrollbar-width%3A%20none%7D%0A*%3A%3A-webkit-scrollbar%20%7Bdisplay%3A%20none%7D%0A.atoti-hidden-in-snapshot%20%7Bdisplay%3A%20none%7D%3C%2Fstyle%3E%3Cdiv%20xmlns%3D%22http%3A%2F%2Fwww.w3.org%2F1999%2Fxhtml%22%20style%3D%22height%3A%20334px%3B%20width%3A%201342px%3B%22%3E%3Cdiv%20class%3D%22ant-root%20css-0%22%3E%3Cdiv%20class%3D%22ant-dropdown-trigger%20css-12ebr42-AWidget%22%3E%3Cdiv%20class%3D%22css-2p9ued-WidgetLoadingOverlay%22%3E%3Cdiv%20class%3D%22css-1b1raxz-DefaultWidgetLoadingOverlay%22%3E%3Cdiv%20class%3D%22css-34a2ml-DefaultWidgetLoadingOverlay%22%3E%3C%2Fdiv%3E%3C%2Fdiv%3E%3Cdiv%20class%3D%22css-1hwl8p1-Table%22%3E%3Cdiv%20tabindex%3D%220%22%20class%3D%22css-14ejcn0-Table%22%3E%3Cdiv%20class%3D%22css-1rxpjm0-ColumnResizeHint%22%3E%3Cdiv%20class%3D%22css-walxhl-ColumnResizeHint%22%3E%3C%2Fdiv%3E%3Cdiv%20class%3D%22css-uf7wcs-ColumnResizeHint%22%3E%3C%2Fdiv%3E%3C%2Fdiv%3E%3Cdiv%20class%3D%22css-1hx3ay6-Table%22%3E%3Cdiv%20class%3D%22css-cjaqq6-Table%22%3E%3Cdiv%20class%3D%22%20css-17cmzye%22%3E%3Cdiv%20class%3D%22css-1q24z4%22%3E%3Cdiv%20class%3D%22css-1hol363-ResizableCell%22%3E%3Cdiv%20class%3D%22aui-table-cell%22%20style%3D%22height%3A%2028px%3B%20left%3A%200px%3B%20top%3A%200px%3B%20width%3A%20115px%3B%20text-align%3A%20left%3B%20font-size%3A%2012px%3B%20padding%3A%204px%204px%203px%3B%20overflow%3A%20hidden%3B%20position%3A%20absolute%3B%20white-space%3A%20nowrap%3B%20text-overflow%3A%20ellipsis%3B%20font-weight%3A%20600%3B%20display%3A%20flex%3B%20align-items%3A%20center%3B%22%3E%3Cspan%3EChurnPredicted%3C%2Fspan%3E%3C%2Fdiv%3E%3Cdiv%20class%3D%22css-xxcrt1-ResizableCell%22%3E%3C%2Fdiv%3E%3C%2Fdiv%3E%3Cdiv%20class%3D%22css-fpuq48-ResizableCell%22%3E%3Cdiv%20class%3D%22aui-table-cell%22%20style%3D%22height%3A%2028px%3B%20left%3A%200px%3B%20top%3A%200px%3B%20width%3A%20115px%3B%20text-align%3A%20left%3B%20font-size%3A%2012px%3B%20padding%3A%204px%204px%203px%3B%20overflow%3A%20hidden%3B%20position%3A%20absolute%3B%20white-space%3A%20nowrap%3B%20text-overflow%3A%20ellipsis%3B%20font-weight%3A%20600%3B%20display%3A%20flex%3B%20align-items%3A%20center%3B%22%3E%3Cspan%3ECustomerID%3C%2Fspan%3E%3C%2Fdiv%3E%3Cdiv%20class%3D%22css-xxcrt1-ResizableCell%22%3E%3C%2Fdiv%3E%3C%2Fdiv%3E%3C%2Fdiv%3E%3C%2Fdiv%3E%3Cdiv%20class%3D%22aui-invisible-scrollbars%20css-10k2aj0%22%3E%3Cdiv%20class%3D%22css-lt70af%22%3E%3Cdiv%20style%3D%22display%3A%20flex%3B%20align-items%3A%20center%3B%20height%3A%2028px%3B%20left%3A%200px%3B%20top%3A%200px%3B%20width%3A%20120px%3B%20text-align%3A%20left%3B%20font-size%3A%2012px%3B%20padding%3A%204px%204px%203px%3B%20overflow%3A%20hidden%3B%20position%3A%20absolute%3B%20white-space%3A%20nowrap%3B%20text-overflow%3A%20ellipsis%3B%20font-weight%3A%20600%3B%22%3E%3Cspan%20style%3D%22text-overflow%3A%20ellipsis%3B%20overflow%3A%20hidden%3B%20white-space%3A%20nowrap%3B%20max-width%3A%20calc((100%25%20-%200px)%20-%200px)%3B%22%3ETotal%3C%2Fspan%3E%3C%2Fdiv%3E%3Cdiv%20style%3D%22display%3A%20flex%3B%20align-items%3A%20center%3B%20height%3A%2028px%3B%20left%3A%20120px%3B%20top%3A%200px%3B%20width%3A%20120px%3B%20text-align%3A%20left%3B%20font-size%3A%2012px%3B%20padding%3A%204px%204px%203px%3B%20overflow%3A%20hidden%3B%20position%3A%20absolute%3B%20white-space%3A%20nowrap%3B%20text-overflow%3A%20ellipsis%3B%20border-right%3A%202px%20solid%20rgb(233%2C%20233%2C%20233)%3B%20background-color%3A%20transparent%3B%22%3E%3Cspan%20style%3D%22text-overflow%3A%20ellipsis%3B%20overflow%3A%20hidden%3B%20white-space%3A%20nowrap%3B%20max-width%3A%20calc((100%25%20-%200px)%20-%200px)%3B%22%3E%3C%2Fspan%3E%3C%2Fdiv%3E%3Cdiv%20style%3D%22display%3A%20flex%3B%20align-items%3A%20center%3B%20height%3A%2028px%3B%20left%3A%200px%3B%20top%3A%2028px%3B%20width%3A%20120px%3B%20text-align%3A%20left%3B%20font-size%3A%2012px%3B%20padding%3A%204px%204px%203px%3B%20overflow%3A%20hidden%3B%20position%3A%20absolute%3B%20white-space%3A%20nowrap%3B%20text-overflow%3A%20ellipsis%3B%20border-top%3A%201px%20solid%20rgb(233%2C%20233%2C%20233)%3B%20font-weight%3A%20600%3B%22%3E%3Cspan%20role%3D%22img%22%20aria-label%3D%22caret-right%22%20tabindex%3D%22-1%22%20class%3D%22anticon%20anticon-caret-right%22%20style%3D%22cursor%3A%20pointer%3B%20font-size%3A%2012px%3B%20margin-right%3A%206px%3B%20color%3A%20rgb(217%2C%20217%2C%20217)%3B%22%3E%3Csvg%20xmlns%3D%22http%3A%2F%2Fwww.w3.org%2F2000%2Fsvg%22%20viewBox%3D%220%200%201024%201024%22%20focusable%3D%22false%22%20data-icon%3D%22caret-right%22%20width%3D%221em%22%20height%3D%221em%22%20fill%3D%22currentColor%22%20aria-hidden%3D%22true%22%3E%3Cpath%20d%3D%22M715.8%20493.5L335%20165.1c-14.2-12.2-35-1.2-35%2018.5v656.8c0%2019.7%2020.8%2030.7%2035%2018.5l380.8-328.4c10.9-9.4%2010.9-27.6%200-37z%22%2F%3E%3C%2Fsvg%3E%3C%2Fspan%3E%3Cspan%20style%3D%22text-overflow%3A%20ellipsis%3B%20overflow%3A%20hidden%3B%20white-space%3A%20nowrap%3B%20max-width%3A%20calc((100%25%20-%2016px)%20-%200px)%3B%22%3ENo%3C%2Fspan%3E%3C%2Fdiv%3E%3Cdiv%20style%3D%22display%3A%20flex%3B%20align-items%3A%20center%3B%20height%3A%2028px%3B%20left%3A%20120px%3B%20top%3A%2028px%3B%20width%3A%20120px%3B%20text-align%3A%20left%3B%20font-size%3A%2012px%3B%20padding%3A%204px%204px%203px%3B%20overflow%3A%20hidden%3B%20position%3A%20absolute%3B%20white-space%3A%20nowrap%3B%20text-overflow%3A%20ellipsis%3B%20border-right%3A%202px%20solid%20rgb(233%2C%20233%2C%20233)%3B%20border-top%3A%201px%20solid%20rgb(233%2C%20233%2C%20233)%3B%20background-color%3A%20transparent%3B%22%3E%3Cspan%20style%3D%22text-overflow%3A%20ellipsis%3B%20overflow%3A%20hidden%3B%20white-space%3A%20nowrap%3B%20max-width%3A%20calc((100%25%20-%200px)%20-%200px)%3B%22%3E%3C%2Fspan%3E%3C%2Fdiv%3E%3Cdiv%20style%3D%22display%3A%20flex%3B%20align-items%3A%20center%3B%20height%3A%2028px%3B%20left%3A%200px%3B%20top%3A%2056px%3B%20width%3A%20120px%3B%20text-align%3A%20left%3B%20font-size%3A%2012px%3B%20padding%3A%204px%204px%203px%3B%20overflow%3A%20hidden%3B%20position%3A%20absolute%3B%20white-space%3A%20nowrap%3B%20text-overflow%3A%20ellipsis%3B%20border-top%3A%201px%20solid%20rgb(233%2C%20233%2C%20233)%3B%20font-weight%3A%20600%3B%22%3E%3Cspan%20role%3D%22img%22%20aria-label%3D%22caret-down%22%20tabindex%3D%22-1%22%20class%3D%22anticon%20anticon-caret-down%22%20style%3D%22cursor%3A%20pointer%3B%20font-size%3A%2012px%3B%20margin-right%3A%206px%3B%20color%3A%20rgb(141%2C%20141%2C%20141)%3B%22%3E%3Csvg%20xmlns%3D%22http%3A%2F%2Fwww.w3.org%2F2000%2Fsvg%22%20viewBox%3D%220%200%201024%201024%22%20focusable%3D%22false%22%20data-icon%3D%22caret-down%22%20width%3D%221em%22%20height%3D%221em%22%20fill%3D%22currentColor%22%20aria-hidden%3D%22true%22%3E%3Cpath%20d%3D%22M840.4%20300H183.6c-19.7%200-30.7%2020.8-18.5%2035l328.4%20380.8c9.4%2010.9%2027.5%2010.9%2037%200L858.9%20335c12.2-14.2%201.2-35-18.5-35z%22%2F%3E%3C%2Fsvg%3E%3C%2Fspan%3E%3Cspan%20style%3D%22text-overflow%3A%20ellipsis%3B%20overflow%3A%20hidden%3B%20white-space%3A%20nowrap%3B%20max-width%3A%20calc((100%25%20-%2016px)%20-%200px)%3B%22%3EYes%3C%2Fspan%3E%3C%2Fdiv%3E%3Cdiv%20style%3D%22display%3A%20flex%3B%20align-items%3A%20center%3B%20height%3A%2028px%3B%20left%3A%20120px%3B%20top%3A%2056px%3B%20width%3A%20120px%3B%20text-align%3A%20left%3B%20font-size%3A%2012px%3B%20padding%3A%204px%204px%203px%3B%20overflow%3A%20hidden%3B%20position%3A%20absolute%3B%20white-space%3A%20nowrap%3B%20text-overflow%3A%20ellipsis%3B%20border-right%3A%202px%20solid%20rgb(233%2C%20233%2C%20233)%3B%20border-top%3A%201px%20solid%20rgb(233%2C%20233%2C%20233)%3B%20background-color%3A%20transparent%3B%22%3E%3Cspan%20style%3D%22text-overflow%3A%20ellipsis%3B%20overflow%3A%20hidden%3B%20white-space%3A%20nowrap%3B%20max-width%3A%20calc((100%25%20-%200px)%20-%200px)%3B%22%3E%3C%2Fspan%3E%3C%2Fdiv%3E%3Cdiv%20style%3D%22display%3A%20none%3B%20align-items%3A%20center%3B%20height%3A%2028px%3B%20left%3A%200px%3B%20top%3A%2084px%3B%20width%3A%20120px%3B%20text-align%3A%20left%3B%20font-size%3A%2012px%3B%20padding%3A%204px%204px%203px%3B%20overflow%3A%20hidden%3B%20position%3A%20absolute%3B%20white-space%3A%20nowrap%3B%20text-overflow%3A%20ellipsis%3B%20font-weight%3A%20600%3B%22%3E%3Cspan%20role%3D%22img%22%20aria-label%3D%22caret-down%22%20tabindex%3D%22-1%22%20class%3D%22anticon%20anticon-caret-down%22%20style%3D%22cursor%3A%20pointer%3B%20font-size%3A%2012px%3B%20margin-right%3A%206px%3B%20color%3A%20rgb(141%2C%20141%2C%20141)%3B%22%3E%3Csvg%20xmlns%3D%22http%3A%2F%2Fwww.w3.org%2F2000%2Fsvg%22%20viewBox%3D%220%200%201024%201024%22%20focusable%3D%22false%22%20data-icon%3D%22caret-down%22%20width%3D%221em%22%20height%3D%221em%22%20fill%3D%22currentColor%22%20aria-hidden%3D%22true%22%3E%3Cpath%20d%3D%22M840.4%20300H183.6c-19.7%200-30.7%2020.8-18.5%2035l328.4%20380.8c9.4%2010.9%2027.5%2010.9%2037%200L858.9%20335c12.2-14.2%201.2-35-18.5-35z%22%2F%3E%3C%2Fsvg%3E%3C%2Fspan%3E%3Cspan%20style%3D%22text-overflow%3A%20ellipsis%3B%20overflow%3A%20hidden%3B%20white-space%3A%20nowrap%3B%20max-width%3A%20calc((100%25%20-%2016px)%20-%200px)%3B%22%3EYes%3C%2Fspan%3E%3C%2Fdiv%3E%3Cdiv%20style%3D%22display%3A%20flex%3B%20align-items%3A%20center%3B%20height%3A%2028px%3B%20left%3A%20120px%3B%20top%3A%2084px%3B%20width%3A%20120px%3B%20text-align%3A%20left%3B%20font-size%3A%2012px%3B%20padding%3A%204px%204px%203px%3B%20overflow%3A%20hidden%3B%20position%3A%20absolute%3B%20white-space%3A%20nowrap%3B%20text-overflow%3A%20ellipsis%3B%20border-right%3A%202px%20solid%20rgb(233%2C%20233%2C%20233)%3B%20background-color%3A%20rgb(250%2C%20250%2C%20250)%3B%22%3E%3Cspan%20style%3D%22text-overflow%3A%20ellipsis%3B%20overflow%3A%20hidden%3B%20white-space%3A%20nowrap%3B%20max-width%3A%20calc((100%25%20-%200px)%20-%200px)%3B%22%3E7216-EWTRS%3C%2Fspan%3E%3C%2Fdiv%3E%3Cdiv%20style%3D%22display%3A%20none%3B%20align-items%3A%20center%3B%20height%3A%2028px%3B%20left%3A%200px%3B%20top%3A%20112px%3B%20width%3A%20120px%3B%20text-align%3A%20left%3B%20font-size%3A%2012px%3B%20padding%3A%204px%204px%203px%3B%20overflow%3A%20hidden%3B%20position%3A%20absolute%3B%20white-space%3A%20nowrap%3B%20text-overflow%3A%20ellipsis%3B%20font-weight%3A%20600%3B%22%3E%3Cspan%20role%3D%22img%22%20aria-label%3D%22caret-down%22%20tabindex%3D%22-1%22%20class%3D%22anticon%20anticon-caret-down%22%20style%3D%22cursor%3A%20pointer%3B%20font-size%3A%2012px%3B%20margin-right%3A%206px%3B%20color%3A%20rgb(141%2C%20141%2C%20141)%3B%22%3E%3Csvg%20xmlns%3D%22http%3A%2F%2Fwww.w3.org%2F2000%2Fsvg%22%20viewBox%3D%220%200%201024%201024%22%20focusable%3D%22false%22%20data-icon%3D%22caret-down%22%20width%3D%221em%22%20height%3D%221em%22%20fill%3D%22currentColor%22%20aria-hidden%3D%22true%22%3E%3Cpath%20d%3D%22M840.4%20300H183.6c-19.7%200-30.7%2020.8-18.5%2035l328.4%20380.8c9.4%2010.9%2027.5%2010.9%2037%200L858.9%20335c12.2-14.2%201.2-35-18.5-35z%22%2F%3E%3C%2Fsvg%3E%3C%2Fspan%3E%3Cspan%20style%3D%22text-overflow%3A%20ellipsis%3B%20overflow%3A%20hidden%3B%20white-space%3A%20nowrap%3B%20max-width%3A%20calc((100%25%20-%2016px)%20-%200px)%3B%22%3EYes%3C%2Fspan%3E%3C%2Fdiv%3E%3Cdiv%20style%3D%22display%3A%20flex%3B%20align-items%3A%20center%3B%20height%3A%2028px%3B%20left%3A%20120px%3B%20top%3A%20112px%3B%20width%3A%20120px%3B%20text-align%3A%20left%3B%20font-size%3A%2012px%3B%20padding%3A%204px%204px%203px%3B%20overflow%3A%20hidden%3B%20position%3A%20absolute%3B%20white-space%3A%20nowrap%3B%20text-overflow%3A%20ellipsis%3B%20border-right%3A%202px%20solid%20rgb(233%2C%20233%2C%20233)%3B%20background-color%3A%20transparent%3B%22%3E%3Cspan%20style%3D%22text-overflow%3A%20ellipsis%3B%20overflow%3A%20hidden%3B%20white-space%3A%20nowrap%3B%20max-width%3A%20calc((100%25%20-%200px)%20-%200px)%3B%22%3E9300-AGZNL%3C%2Fspan%3E%3C%2Fdiv%3E%3Cdiv%20style%3D%22display%3A%20none%3B%20align-items%3A%20center%3B%20height%3A%2028px%3B%20left%3A%200px%3B%20top%3A%20140px%3B%20width%3A%20120px%3B%20text-align%3A%20left%3B%20font-size%3A%2012px%3B%20padding%3A%204px%204px%203px%3B%20overflow%3A%20hidden%3B%20position%3A%20absolute%3B%20white-space%3A%20nowrap%3B%20text-overflow%3A%20ellipsis%3B%20font-weight%3A%20600%3B%22%3E%3Cspan%20role%3D%22img%22%20aria-label%3D%22caret-down%22%20tabindex%3D%22-1%22%20class%3D%22anticon%20anticon-caret-down%22%20style%3D%22cursor%3A%20pointer%3B%20font-size%3A%2012px%3B%20margin-right%3A%206px%3B%20color%3A%20rgb(141%2C%20141%2C%20141)%3B%22%3E%3Csvg%20xmlns%3D%22http%3A%2F%2Fwww.w3.org%2F2000%2Fsvg%22%20viewBox%3D%220%200%201024%201024%22%20focusable%3D%22false%22%20data-icon%3D%22caret-down%22%20width%3D%221em%22%20height%3D%221em%22%20fill%3D%22currentColor%22%20aria-hidden%3D%22true%22%3E%3Cpath%20d%3D%22M840.4%20300H183.6c-19.7%200-30.7%2020.8-18.5%2035l328.4%20380.8c9.4%2010.9%2027.5%2010.9%2037%200L858.9%20335c12.2-14.2%201.2-35-18.5-35z%22%2F%3E%3C%2Fsvg%3E%3C%2Fspan%3E%3Cspan%20style%3D%22text-overflow%3A%20ellipsis%3B%20overflow%3A%20hidden%3B%20white-space%3A%20nowrap%3B%20max-width%3A%20calc((100%25%20-%2016px)%20-%200px)%3B%22%3EYes%3C%2Fspan%3E%3C%2Fdiv%3E%3Cdiv%20style%3D%22display%3A%20flex%3B%20align-items%3A%20center%3B%20height%3A%2028px%3B%20left%3A%20120px%3B%20top%3A%20140px%3B%20width%3A%20120px%3B%20text-align%3A%20left%3B%20font-size%3A%2012px%3B%20padding%3A%204px%204px%203px%3B%20overflow%3A%20hidden%3B%20position%3A%20absolute%3B%20white-space%3A%20nowrap%3B%20text-overflow%3A%20ellipsis%3B%20border-right%3A%202px%20solid%20rgb(233%2C%20233%2C%20233)%3B%20background-color%3A%20rgb(250%2C%20250%2C%20250)%3B%22%3E%3Cspan%20style%3D%22text-overflow%3A%20ellipsis%3B%20overflow%3A%20hidden%3B%20white-space%3A%20nowrap%3B%20max-width%3A%20calc((100%25%20-%200px)%20-%200px)%3B%22%3E9497-QCMMS%3C%2Fspan%3E%3C%2Fdiv%3E%3Cdiv%20style%3D%22display%3A%20none%3B%20align-items%3A%20center%3B%20height%3A%2028px%3B%20left%3A%200px%3B%20top%3A%20168px%3B%20width%3A%20120px%3B%20text-align%3A%20left%3B%20font-size%3A%2012px%3B%20padding%3A%204px%204px%203px%3B%20overflow%3A%20hidden%3B%20position%3A%20absolute%3B%20white-space%3A%20nowrap%3B%20text-overflow%3A%20ellipsis%3B%20font-weight%3A%20600%3B%22%3E%3Cspan%20role%3D%22img%22%20aria-label%3D%22caret-down%22%20tabindex%3D%22-1%22%20class%3D%22anticon%20anticon-caret-down%22%20style%3D%22cursor%3A%20pointer%3B%20font-size%3A%2012px%3B%20margin-right%3A%206px%3B%20color%3A%20rgb(141%2C%20141%2C%20141)%3B%22%3E%3Csvg%20xmlns%3D%22http%3A%2F%2Fwww.w3.org%2F2000%2Fsvg%22%20viewBox%3D%220%200%201024%201024%22%20focusable%3D%22false%22%20data-icon%3D%22caret-down%22%20width%3D%221em%22%20height%3D%221em%22%20fill%3D%22currentColor%22%20aria-hidden%3D%22true%22%3E%3Cpath%20d%3D%22M840.4%20300H183.6c-19.7%200-30.7%2020.8-18.5%2035l328.4%20380.8c9.4%2010.9%2027.5%2010.9%2037%200L858.9%20335c12.2-14.2%201.2-35-18.5-35z%22%2F%3E%3C%2Fsvg%3E%3C%2Fspan%3E%3Cspan%20style%3D%22text-overflow%3A%20ellipsis%3B%20overflow%3A%20hidden%3B%20white-space%3A%20nowrap%3B%20max-width%3A%20calc((100%25%20-%2016px)%20-%200px)%3B%22%3EYes%3C%2Fspan%3E%3C%2Fdiv%3E%3Cdiv%20style%3D%22display%3A%20flex%3B%20align-items%3A%20center%3B%20height%3A%2028px%3B%20left%3A%20120px%3B%20top%3A%20168px%3B%20width%3A%20120px%3B%20text-align%3A%20left%3B%20font-size%3A%2012px%3B%20padding%3A%204px%204px%203px%3B%20overflow%3A%20hidden%3B%20position%3A%20absolute%3B%20white-space%3A%20nowrap%3B%20text-overflow%3A%20ellipsis%3B%20border-right%3A%202px%20solid%20rgb(233%2C%20233%2C%20233)%3B%20background-color%3A%20transparent%3B%22%3E%3Cspan%20style%3D%22text-overflow%3A%20ellipsis%3B%20overflow%3A%20hidden%3B%20white-space%3A%20nowrap%3B%20max-width%3A%20calc((100%25%20-%200px)%20-%200px)%3B%22%3E5178-LMXOP%3C%2Fspan%3E%3C%2Fdiv%3E%3Cdiv%20style%3D%22display%3A%20none%3B%20align-items%3A%20center%3B%20height%3A%2028px%3B%20left%3A%200px%3B%20top%3A%20196px%3B%20width%3A%20120px%3B%20text-align%3A%20left%3B%20font-size%3A%2012px%3B%20padding%3A%204px%204px%203px%3B%20overflow%3A%20hidden%3B%20position%3A%20absolute%3B%20white-space%3A%20nowrap%3B%20text-overflow%3A%20ellipsis%3B%20font-weight%3A%20600%3B%22%3E%3Cspan%20role%3D%22img%22%20aria-label%3D%22caret-down%22%20tabindex%3D%22-1%22%20class%3D%22anticon%20anticon-caret-down%22%20style%3D%22cursor%3A%20pointer%3B%20font-size%3A%2012px%3B%20margin-right%3A%206px%3B%20color%3A%20rgb(141%2C%20141%2C%20141)%3B%22%3E%3Csvg%20xmlns%3D%22http%3A%2F%2Fwww.w3.org%2F2000%2Fsvg%22%20viewBox%3D%220%200%201024%201024%22%20focusable%3D%22false%22%20data-icon%3D%22caret-down%22%20width%3D%221em%22%20height%3D%221em%22%20fill%3D%22currentColor%22%20aria-hidden%3D%22true%22%3E%3Cpath%20d%3D%22M840.4%20300H183.6c-19.7%200-30.7%2020.8-18.5%2035l328.4%20380.8c9.4%2010.9%2027.5%2010.9%2037%200L858.9%20335c12.2-14.2%201.2-35-18.5-35z%22%2F%3E%3C%2Fsvg%3E%3C%2Fspan%3E%3Cspan%20style%3D%22text-overflow%3A%20ellipsis%3B%20overflow%3A%20hidden%3B%20white-space%3A%20nowrap%3B%20max-width%3A%20calc((100%25%20-%2016px)%20-%200px)%3B%22%3EYes%3C%2Fspan%3E%3C%2Fdiv%3E%3Cdiv%20style%3D%22display%3A%20flex%3B%20align-items%3A%20center%3B%20height%3A%2028px%3B%20left%3A%20120px%3B%20top%3A%20196px%3B%20width%3A%20120px%3B%20text-align%3A%20left%3B%20font-size%3A%2012px%3B%20padding%3A%204px%204px%203px%3B%20overflow%3A%20hidden%3B%20position%3A%20absolute%3B%20white-space%3A%20nowrap%3B%20text-overflow%3A%20ellipsis%3B%20border-right%3A%202px%20solid%20rgb(233%2C%20233%2C%20233)%3B%20background-color%3A%20rgb(250%2C%20250%2C%20250)%3B%22%3E%3Cspan%20style%3D%22text-overflow%3A%20ellipsis%3B%20overflow%3A%20hidden%3B%20white-space%3A%20nowrap%3B%20max-width%3A%20calc((100%25%20-%200px)%20-%200px)%3B%22%3E7024-OHCCK%3C%2Fspan%3E%3C%2Fdiv%3E%3Cdiv%20style%3D%22display%3A%20none%3B%20align-items%3A%20center%3B%20height%3A%2028px%3B%20left%3A%200px%3B%20top%3A%20224px%3B%20width%3A%20120px%3B%20text-align%3A%20left%3B%20font-size%3A%2012px%3B%20padding%3A%204px%204px%203px%3B%20overflow%3A%20hidden%3B%20position%3A%20absolute%3B%20white-space%3A%20nowrap%3B%20text-overflow%3A%20ellipsis%3B%20font-weight%3A%20600%3B%22%3E%3Cspan%20role%3D%22img%22%20aria-label%3D%22caret-down%22%20tabindex%3D%22-1%22%20class%3D%22anticon%20anticon-caret-down%22%20style%3D%22cursor%3A%20pointer%3B%20font-size%3A%2012px%3B%20margin-right%3A%206px%3B%20color%3A%20rgb(141%2C%20141%2C%20141)%3B%22%3E%3Csvg%20xmlns%3D%22http%3A%2F%2Fwww.w3.org%2F2000%2Fsvg%22%20viewBox%3D%220%200%201024%201024%22%20focusable%3D%22false%22%20data-icon%3D%22caret-down%22%20width%3D%221em%22%20height%3D%221em%22%20fill%3D%22currentColor%22%20aria-hidden%3D%22true%22%3E%3Cpath%20d%3D%22M840.4%20300H183.6c-19.7%200-30.7%2020.8-18.5%2035l328.4%20380.8c9.4%2010.9%2027.5%2010.9%2037%200L858.9%20335c12.2-14.2%201.2-35-18.5-35z%22%2F%3E%3C%2Fsvg%3E%3C%2Fspan%3E%3Cspan%20style%3D%22text-overflow%3A%20ellipsis%3B%20overflow%3A%20hidden%3B%20white-space%3A%20nowrap%3B%20max-width%3A%20calc((100%25%20-%2016px)%20-%200px)%3B%22%3EYes%3C%2Fspan%3E%3C%2Fdiv%3E%3Cdiv%20style%3D%22display%3A%20flex%3B%20align-items%3A%20center%3B%20height%3A%2028px%3B%20left%3A%20120px%3B%20top%3A%20224px%3B%20width%3A%20120px%3B%20text-align%3A%20left%3B%20font-size%3A%2012px%3B%20padding%3A%204px%204px%203px%3B%20overflow%3A%20hidden%3B%20position%3A%20absolute%3B%20white-space%3A%20nowrap%3B%20text-overflow%3A%20ellipsis%3B%20border-right%3A%202px%20solid%20rgb(233%2C%20233%2C%20233)%3B%20background-color%3A%20transparent%3B%22%3E%3Cspan%20style%3D%22text-overflow%3A%20ellipsis%3B%20overflow%3A%20hidden%3B%20white-space%3A%20nowrap%3B%20max-width%3A%20calc((100%25%20-%200px)%20-%200px)%3B%22%3E2720-WGKHP%3C%2Fspan%3E%3C%2Fdiv%3E%3Cdiv%20style%3D%22display%3A%20none%3B%20align-items%3A%20center%3B%20height%3A%2028px%3B%20left%3A%200px%3B%20top%3A%20252px%3B%20width%3A%20120px%3B%20text-align%3A%20left%3B%20font-size%3A%2012px%3B%20padding%3A%204px%204px%203px%3B%20overflow%3A%20hidden%3B%20position%3A%20absolute%3B%20white-space%3A%20nowrap%3B%20text-overflow%3A%20ellipsis%3B%20font-weight%3A%20600%3B%22%3E%3Cspan%20role%3D%22img%22%20aria-label%3D%22caret-down%22%20tabindex%3D%22-1%22%20class%3D%22anticon%20anticon-caret-down%22%20style%3D%22cursor%3A%20pointer%3B%20font-size%3A%2012px%3B%20margin-right%3A%206px%3B%20color%3A%20rgb(141%2C%20141%2C%20141)%3B%22%3E%3Csvg%20xmlns%3D%22http%3A%2F%2Fwww.w3.org%2F2000%2Fsvg%22%20viewBox%3D%220%200%201024%201024%22%20focusable%3D%22false%22%20data-icon%3D%22caret-down%22%20width%3D%221em%22%20height%3D%221em%22%20fill%3D%22currentColor%22%20aria-hidden%3D%22true%22%3E%3Cpath%20d%3D%22M840.4%20300H183.6c-19.7%200-30.7%2020.8-18.5%2035l328.4%20380.8c9.4%2010.9%2027.5%2010.9%2037%200L858.9%20335c12.2-14.2%201.2-35-18.5-35z%22%2F%3E%3C%2Fsvg%3E%3C%2Fspan%3E%3Cspan%20style%3D%22text-overflow%3A%20ellipsis%3B%20overflow%3A%20hidden%3B%20white-space%3A%20nowrap%3B%20max-width%3A%20calc((100%25%20-%2016px)%20-%200px)%3B%22%3EYes%3C%2Fspan%3E%3C%2Fdiv%3E%3Cdiv%20style%3D%22display%3A%20flex%3B%20align-items%3A%20center%3B%20height%3A%2028px%3B%20left%3A%20120px%3B%20top%3A%20252px%3B%20width%3A%20120px%3B%20text-align%3A%20left%3B%20font-size%3A%2012px%3B%20padding%3A%204px%204px%203px%3B%20overflow%3A%20hidden%3B%20position%3A%20absolute%3B%20white-space%3A%20nowrap%3B%20text-overflow%3A%20ellipsis%3B%20border-right%3A%202px%20solid%20rgb(233%2C%20233%2C%20233)%3B%20background-color%3A%20rgb(250%2C%20250%2C%20250)%3B%22%3E%3Cspan%20style%3D%22text-overflow%3A%20ellipsis%3B%20overflow%3A%20hidden%3B%20white-space%3A%20nowrap%3B%20max-width%3A%20calc((100%25%20-%200px)%20-%200px)%3B%22%3E4424-TKOPW%3C%2Fspan%3E%3C%2Fdiv%3E%3Cdiv%20style%3D%22display%3A%20none%3B%20align-items%3A%20center%3B%20height%3A%2028px%3B%20left%3A%200px%3B%20top%3A%20280px%3B%20width%3A%20120px%3B%20text-align%3A%20left%3B%20font-size%3A%2012px%3B%20padding%3A%204px%204px%203px%3B%20overflow%3A%20hidden%3B%20position%3A%20absolute%3B%20white-space%3A%20nowrap%3B%20text-overflow%3A%20ellipsis%3B%20font-weight%3A%20600%3B%22%3E%3Cspan%20role%3D%22img%22%20aria-label%3D%22caret-down%22%20tabindex%3D%22-1%22%20class%3D%22anticon%20anticon-caret-down%22%20style%3D%22cursor%3A%20pointer%3B%20font-size%3A%2012px%3B%20margin-right%3A%206px%3B%20color%3A%20rgb(141%2C%20141%2C%20141)%3B%22%3E%3Csvg%20xmlns%3D%22http%3A%2F%2Fwww.w3.org%2F2000%2Fsvg%22%20viewBox%3D%220%200%201024%201024%22%20focusable%3D%22false%22%20data-icon%3D%22caret-down%22%20width%3D%221em%22%20height%3D%221em%22%20fill%3D%22currentColor%22%20aria-hidden%3D%22true%22%3E%3Cpath%20d%3D%22M840.4%20300H183.6c-19.7%200-30.7%2020.8-18.5%2035l328.4%20380.8c9.4%2010.9%2027.5%2010.9%2037%200L858.9%20335c12.2-14.2%201.2-35-18.5-35z%22%2F%3E%3C%2Fsvg%3E%3C%2Fspan%3E%3Cspan%20style%3D%22text-overflow%3A%20ellipsis%3B%20overflow%3A%20hidden%3B%20white-space%3A%20nowrap%3B%20max-width%3A%20calc((100%25%20-%2016px)%20-%200px)%3B%22%3EYes%3C%2Fspan%3E%3C%2Fdiv%3E%3Cdiv%20style%3D%22display%3A%20flex%3B%20align-items%3A%20center%3B%20height%3A%2028px%3B%20left%3A%20120px%3B%20top%3A%20280px%3B%20width%3A%20120px%3B%20text-align%3A%20left%3B%20font-size%3A%2012px%3B%20padding%3A%204px%204px%203px%3B%20overflow%3A%20hidden%3B%20position%3A%20absolute%3B%20white-space%3A%20nowrap%3B%20text-overflow%3A%20ellipsis%3B%20border-right%3A%202px%20solid%20rgb(233%2C%20233%2C%20233)%3B%20background-color%3A%20transparent%3B%22%3E%3Cspan%20style%3D%22text-overflow%3A%20ellipsis%3B%20overflow%3A%20hidden%3B%20white-space%3A%20nowrap%3B%20max-width%3A%20calc((100%25%20-%200px)%20-%200px)%3B%22%3E5150-ITWWB%3C%2Fspan%3E%3C%2Fdiv%3E%3C%2Fdiv%3E%3C%2Fdiv%3E%3C%2Fdiv%3E%3Cdiv%20class%3D%22css-18jlsyg-Table%22%3E%3Cdiv%20class%3D%22aui-invisible-scrollbars%20css-1lcui2a%22%3E%3Cdiv%20class%3D%22css-teunqz%22%3E%3Cdiv%20class%3D%22css-1hol363-ResizableCell%22%3E%3Cdiv%20style%3D%22display%3A%20flex%3B%20align-items%3A%20center%3B%20height%3A%2028px%3B%20left%3A%200px%3B%20top%3A%200px%3B%20width%3A%20115px%3B%20text-align%3A%20left%3B%20font-size%3A%2012px%3B%20padding%3A%204px%204px%203px%3B%20overflow%3A%20hidden%3B%20position%3A%20absolute%3B%20white-space%3A%20nowrap%3B%20text-overflow%3A%20ellipsis%3B%20font-weight%3A%20600%3B%22%3E%3Cspan%20style%3D%22text-overflow%3A%20ellipsis%3B%20overflow%3A%20hidden%3B%20white-space%3A%20nowrap%3B%20max-width%3A%20calc((100%25%20-%200px)%20-%2018px)%3B%22%3EChurn%20Rank%3C%2Fspan%3E%3Csvg%20xmlns%3D%22http%3A%2F%2Fwww.w3.org%2F2000%2Fsvg%22%20viewBox%3D%2264%2064%20896%20896%22%20width%3D%221em%22%20height%3D%221em%22%20fill%3D%22currentColor%22%20style%3D%22cursor%3A%20pointer%3B%20height%3A%20100%25%3B%20margin-left%3A%20auto%3B%22%3E%3Cpath%20d%3D%22M404%20705h-76V175a8%208%200%2000-8-8h-56a8%208%200%2000-8%208v530h-76a8%208%200%2000-6.3%2013l112%20141.9a8%208%200%200011.2%201.4%209.3%209.3%200%20001.4-1.4l112-141.9a8.1%208.1%200%2000-6.3-13zm237.6-489.2v232.3h61.9V127.6h-51.6l-89.7%2091.5%2038.4%2039.6%2041-42.9zm2.4%20615.8c29.6-23.4%2060.2-49.5%2082.5-75.5%2027-31.5%2040.2-61%2040.2-90.2s-12.1-55.8-35.1-73.7c-20.2-15.7-47.6-24.4-77.2-24.4-45.8%200-88.1%2018.9-113.3%2050.5l-4.2%205.3%2037.2%2041%205.9-7c12.9-15.5%2036.4-33.9%2074.9-33.9%2023.2%200%2050.2%2011%2050.2%2042.1%200%2043.5-51.3%2087.7-160.3%20171.5l-3.1%202.4V887H768v-55.4z%22%2F%3E%3C%2Fsvg%3E%3C%2Fdiv%3E%3Cdiv%20class%3D%22css-xxcrt1-ResizableCell%22%3E%3C%2Fdiv%3E%3C%2Fdiv%3E%3Cdiv%20class%3D%22css-9ncptl-ResizableCell%22%3E%3Cdiv%20style%3D%22display%3A%20flex%3B%20align-items%3A%20center%3B%20height%3A%2028px%3B%20left%3A%200px%3B%20top%3A%200px%3B%20width%3A%20182.344px%3B%20text-align%3A%20left%3B%20font-size%3A%2012px%3B%20padding%3A%204px%204px%203px%3B%20overflow%3A%20hidden%3B%20position%3A%20absolute%3B%20white-space%3A%20nowrap%3B%20text-overflow%3A%20ellipsis%3B%20font-weight%3A%20600%3B%22%3E%3Cspan%20style%3D%22text-overflow%3A%20ellipsis%3B%20overflow%3A%20hidden%3B%20white-space%3A%20nowrap%3B%20max-width%3A%20calc((100%25%20-%200px)%20-%200px)%3B%22%3EPredicted%20Churn%20Overflow%3C%2Fspan%3E%3C%2Fdiv%3E%3Cdiv%20class%3D%22css-xxcrt1-ResizableCell%22%3E%3C%2Fdiv%3E%3C%2Fdiv%3E%3Cdiv%20class%3D%22css-we1lxy-ResizableCell%22%3E%3Cdiv%20style%3D%22display%3A%20flex%3B%20align-items%3A%20center%3B%20height%3A%2028px%3B%20left%3A%200px%3B%20top%3A%200px%3B%20width%3A%20115px%3B%20text-align%3A%20left%3B%20font-size%3A%2012px%3B%20padding%3A%204px%204px%203px%3B%20overflow%3A%20hidden%3B%20position%3A%20absolute%3B%20white-space%3A%20nowrap%3B%20text-overflow%3A%20ellipsis%3B%20font-weight%3A%20600%3B%22%3E%3Cspan%20style%3D%22text-overflow%3A%20ellipsis%3B%20overflow%3A%20hidden%3B%20white-space%3A%20nowrap%3B%20max-width%3A%20calc((100%25%20-%200px)%20-%200px)%3B%22%3EChurn%20Score%3C%2Fspan%3E%3C%2Fdiv%3E%3Cdiv%20class%3D%22css-xxcrt1-ResizableCell%22%3E%3C%2Fdiv%3E%3C%2Fdiv%3E%3Cdiv%20class%3D%22css-qko0pj-ResizableCell%22%3E%3Cdiv%20style%3D%22display%3A%20flex%3B%20align-items%3A%20center%3B%20height%3A%2028px%3B%20left%3A%200px%3B%20top%3A%200px%3B%20width%3A%20143.656px%3B%20text-align%3A%20left%3B%20font-size%3A%2012px%3B%20padding%3A%204px%204px%203px%3B%20overflow%3A%20hidden%3B%20position%3A%20absolute%3B%20white-space%3A%20nowrap%3B%20text-overflow%3A%20ellipsis%3B%20font-weight%3A%20600%3B%22%3E%3Cspan%20style%3D%22text-overflow%3A%20ellipsis%3B%20overflow%3A%20hidden%3B%20white-space%3A%20nowrap%3B%20max-width%3A%20calc((100%25%20-%200px)%20-%200px)%3B%22%3EMonthlyCharges.SUM%3C%2Fspan%3E%3C%2Fdiv%3E%3Cdiv%20class%3D%22css-xxcrt1-ResizableCell%22%3E%3C%2Fdiv%3E%3C%2Fdiv%3E%3Cdiv%20class%3D%22css-u0z7bj-ResizableCell%22%3E%3Cdiv%20style%3D%22display%3A%20flex%3B%20align-items%3A%20center%3B%20height%3A%2028px%3B%20left%3A%200px%3B%20top%3A%200px%3B%20width%3A%20115px%3B%20text-align%3A%20left%3B%20font-size%3A%2012px%3B%20padding%3A%204px%204px%203px%3B%20overflow%3A%20hidden%3B%20position%3A%20absolute%3B%20white-space%3A%20nowrap%3B%20text-overflow%3A%20ellipsis%3B%20font-weight%3A%20600%3B%22%3E%3Cspan%20style%3D%22text-overflow%3A%20ellipsis%3B%20overflow%3A%20hidden%3B%20white-space%3A%20nowrap%3B%20max-width%3A%20calc((100%25%20-%200px)%20-%200px)%3B%22%3ERetention%20cost%3C%2Fspan%3E%3C%2Fdiv%3E%3Cdiv%20class%3D%22css-xxcrt1-ResizableCell%22%3E%3C%2Fdiv%3E%3C%2Fdiv%3E%3C%2Fdiv%3E%3C%2Fdiv%3E%3Cdiv%20class%3D%22%20css-1srbrtv%22%3E%3Cdiv%20class%3D%22css-1a5gyva%22%3E%3Cdiv%20class%3D%22aui-table-cell%22%20style%3D%22height%3A%2028px%3B%20left%3A%200px%3B%20top%3A%200px%3B%20width%3A%20120px%3B%20text-align%3A%20right%3B%20font-size%3A%2012px%3B%20padding%3A%204px%204px%203px%3B%20overflow%3A%20hidden%3B%20position%3A%20absolute%3B%20white-space%3A%20nowrap%3B%20text-overflow%3A%20ellipsis%3B%20border-right%3A%201px%20solid%20rgb(233%2C%20233%2C%20233)%3B%20background-color%3A%20transparent%3B%22%3E1%3C%2Fdiv%3E%3Cdiv%20class%3D%22aui-table-cell%22%20style%3D%22height%3A%2028px%3B%20left%3A%20120px%3B%20top%3A%200px%3B%20width%3A%20187.344px%3B%20text-align%3A%20right%3B%20font-size%3A%2012px%3B%20padding%3A%204px%204px%203px%3B%20overflow%3A%20hidden%3B%20position%3A%20absolute%3B%20white-space%3A%20nowrap%3B%20text-overflow%3A%20ellipsis%3B%20border-right%3A%201px%20solid%20rgb(233%2C%20233%2C%20233)%3B%20background-color%3A%20transparent%3B%22%3E1%2C642%3C%2Fdiv%3E%3Cdiv%20class%3D%22aui-table-cell%22%20style%3D%22height%3A%2028px%3B%20left%3A%20307.344px%3B%20top%3A%200px%3B%20width%3A%20120px%3B%20text-align%3A%20right%3B%20font-size%3A%2012px%3B%20padding%3A%204px%204px%203px%3B%20overflow%3A%20hidden%3B%20position%3A%20absolute%3B%20white-space%3A%20nowrap%3B%20text-overflow%3A%20ellipsis%3B%20border-right%3A%201px%20solid%20rgb(233%2C%20233%2C%20233)%3B%20background-color%3A%20transparent%3B%22%3E1.19%3C%2Fdiv%3E%3Cdiv%20class%3D%22aui-table-cell%22%20style%3D%22height%3A%2028px%3B%20left%3A%20427.344px%3B%20top%3A%200px%3B%20width%3A%20148.656px%3B%20text-align%3A%20right%3B%20font-size%3A%2012px%3B%20padding%3A%204px%204px%203px%3B%20overflow%3A%20hidden%3B%20position%3A%20absolute%3B%20white-space%3A%20nowrap%3B%20text-overflow%3A%20ellipsis%3B%20border-right%3A%201px%20solid%20rgb(233%2C%20233%2C%20233)%3B%20background-color%3A%20transparent%3B%22%3E455%2C661.00%3C%2Fdiv%3E%3Cdiv%20class%3D%22aui-table-cell%22%20style%3D%22height%3A%2028px%3B%20left%3A%20576px%3B%20top%3A%200px%3B%20width%3A%20120px%3B%20text-align%3A%20right%3B%20font-size%3A%2012px%3B%20padding%3A%204px%204px%203px%3B%20overflow%3A%20hidden%3B%20position%3A%20absolute%3B%20white-space%3A%20nowrap%3B%20text-overflow%3A%20ellipsis%3B%20border-right%3A%201px%20solid%20rgb(233%2C%20233%2C%20233)%3B%20background-color%3A%20transparent%3B%22%3E164%2C200%3C%2Fdiv%3E%3Cdiv%20class%3D%22aui-table-cell%22%20style%3D%22height%3A%2028px%3B%20left%3A%200px%3B%20top%3A%2028px%3B%20width%3A%20120px%3B%20text-align%3A%20right%3B%20font-size%3A%2012px%3B%20padding%3A%204px%204px%203px%3B%20overflow%3A%20hidden%3B%20position%3A%20absolute%3B%20white-space%3A%20nowrap%3B%20text-overflow%3A%20ellipsis%3B%20border-right%3A%201px%20solid%20rgb(233%2C%20233%2C%20233)%3B%20border-top%3A%201px%20solid%20rgb(233%2C%20233%2C%20233)%3B%20background-color%3A%20transparent%3B%22%3E1%3C%2Fdiv%3E%3Cdiv%20class%3D%22aui-table-cell%22%20style%3D%22height%3A%2028px%3B%20left%3A%20120px%3B%20top%3A%2028px%3B%20width%3A%20187.344px%3B%20text-align%3A%20right%3B%20font-size%3A%2012px%3B%20padding%3A%204px%204px%203px%3B%20overflow%3A%20hidden%3B%20position%3A%20absolute%3B%20white-space%3A%20nowrap%3B%20text-overflow%3A%20ellipsis%3B%20border-right%3A%201px%20solid%20rgb(233%2C%20233%2C%20233)%3B%20border-top%3A%201px%20solid%20rgb(233%2C%20233%2C%20233)%3B%20background-color%3A%20transparent%3B%22%3E1%2C642%3C%2Fdiv%3E%3Cdiv%20class%3D%22aui-table-cell%22%20style%3D%22height%3A%2028px%3B%20left%3A%20307.344px%3B%20top%3A%2028px%3B%20width%3A%20120px%3B%20text-align%3A%20right%3B%20font-size%3A%2012px%3B%20padding%3A%204px%204px%203px%3B%20overflow%3A%20hidden%3B%20position%3A%20absolute%3B%20white-space%3A%20nowrap%3B%20text-overflow%3A%20ellipsis%3B%20border-right%3A%201px%20solid%20rgb(233%2C%20233%2C%20233)%3B%20border-top%3A%201px%20solid%20rgb(233%2C%20233%2C%20233)%3B%20background-color%3A%20transparent%3B%22%3E.00%3C%2Fdiv%3E%3Cdiv%20class%3D%22aui-table-cell%22%20style%3D%22height%3A%2028px%3B%20left%3A%20427.344px%3B%20top%3A%2028px%3B%20width%3A%20148.656px%3B%20text-align%3A%20right%3B%20font-size%3A%2012px%3B%20padding%3A%204px%204px%203px%3B%20overflow%3A%20hidden%3B%20position%3A%20absolute%3B%20white-space%3A%20nowrap%3B%20text-overflow%3A%20ellipsis%3B%20border-right%3A%201px%20solid%20rgb(233%2C%20233%2C%20233)%3B%20border-top%3A%201px%20solid%20rgb(233%2C%20233%2C%20233)%3B%20background-color%3A%20transparent%3B%22%3E303%2C712.10%3C%2Fdiv%3E%3Cdiv%20class%3D%22aui-table-cell%22%20style%3D%22height%3A%2028px%3B%20left%3A%20576px%3B%20top%3A%2028px%3B%20width%3A%20120px%3B%20text-align%3A%20right%3B%20font-size%3A%2012px%3B%20padding%3A%204px%204px%203px%3B%20overflow%3A%20hidden%3B%20position%3A%20absolute%3B%20white-space%3A%20nowrap%3B%20text-overflow%3A%20ellipsis%3B%20border-right%3A%201px%20solid%20rgb(233%2C%20233%2C%20233)%3B%20border-top%3A%201px%20solid%20rgb(233%2C%20233%2C%20233)%3B%20background-color%3A%20transparent%3B%22%3E0%3C%2Fdiv%3E%3Cdiv%20class%3D%22aui-table-cell%22%20style%3D%22height%3A%2028px%3B%20left%3A%200px%3B%20top%3A%2056px%3B%20width%3A%20120px%3B%20text-align%3A%20right%3B%20font-size%3A%2012px%3B%20padding%3A%204px%204px%203px%3B%20overflow%3A%20hidden%3B%20position%3A%20absolute%3B%20white-space%3A%20nowrap%3B%20text-overflow%3A%20ellipsis%3B%20border-right%3A%201px%20solid%20rgb(233%2C%20233%2C%20233)%3B%20border-top%3A%201px%20solid%20rgb(233%2C%20233%2C%20233)%3B%20background-color%3A%20transparent%3B%22%3E1%3C%2Fdiv%3E%3Cdiv%20class%3D%22aui-table-cell%22%20style%3D%22height%3A%2028px%3B%20left%3A%20120px%3B%20top%3A%2056px%3B%20width%3A%20187.344px%3B%20text-align%3A%20right%3B%20font-size%3A%2012px%3B%20padding%3A%204px%204px%203px%3B%20overflow%3A%20hidden%3B%20position%3A%20absolute%3B%20white-space%3A%20nowrap%3B%20text-overflow%3A%20ellipsis%3B%20border-right%3A%201px%20solid%20rgb(233%2C%20233%2C%20233)%3B%20border-top%3A%201px%20solid%20rgb(233%2C%20233%2C%20233)%3B%20background-color%3A%20transparent%3B%22%3E1%2C642%3C%2Fdiv%3E%3Cdiv%20class%3D%22aui-table-cell%22%20style%3D%22height%3A%2028px%3B%20left%3A%20307.344px%3B%20top%3A%2056px%3B%20width%3A%20120px%3B%20text-align%3A%20right%3B%20font-size%3A%2012px%3B%20padding%3A%204px%204px%203px%3B%20overflow%3A%20hidden%3B%20position%3A%20absolute%3B%20white-space%3A%20nowrap%3B%20text-overflow%3A%20ellipsis%3B%20border-right%3A%201px%20solid%20rgb(233%2C%20233%2C%20233)%3B%20border-top%3A%201px%20solid%20rgb(233%2C%20233%2C%20233)%3B%20background-color%3A%20transparent%3B%22%3E1.71%3C%2Fdiv%3E%3Cdiv%20class%3D%22aui-table-cell%22%20style%3D%22height%3A%2028px%3B%20left%3A%20427.344px%3B%20top%3A%2056px%3B%20width%3A%20148.656px%3B%20text-align%3A%20right%3B%20font-size%3A%2012px%3B%20padding%3A%204px%204px%203px%3B%20overflow%3A%20hidden%3B%20position%3A%20absolute%3B%20white-space%3A%20nowrap%3B%20text-overflow%3A%20ellipsis%3B%20border-right%3A%201px%20solid%20rgb(233%2C%20233%2C%20233)%3B%20border-top%3A%201px%20solid%20rgb(233%2C%20233%2C%20233)%3B%20background-color%3A%20transparent%3B%22%3E151%2C948.90%3C%2Fdiv%3E%3Cdiv%20class%3D%22aui-table-cell%22%20style%3D%22height%3A%2028px%3B%20left%3A%20576px%3B%20top%3A%2056px%3B%20width%3A%20120px%3B%20text-align%3A%20right%3B%20font-size%3A%2012px%3B%20padding%3A%204px%204px%203px%3B%20overflow%3A%20hidden%3B%20position%3A%20absolute%3B%20white-space%3A%20nowrap%3B%20text-overflow%3A%20ellipsis%3B%20border-right%3A%201px%20solid%20rgb(233%2C%20233%2C%20233)%3B%20border-top%3A%201px%20solid%20rgb(233%2C%20233%2C%20233)%3B%20background-color%3A%20transparent%3B%22%3E164%2C200%3C%2Fdiv%3E%3Cdiv%20class%3D%22aui-table-cell%22%20style%3D%22height%3A%2028px%3B%20left%3A%200px%3B%20top%3A%2084px%3B%20width%3A%20120px%3B%20text-align%3A%20right%3B%20font-size%3A%2012px%3B%20padding%3A%204px%204px%203px%3B%20overflow%3A%20hidden%3B%20position%3A%20absolute%3B%20white-space%3A%20nowrap%3B%20text-overflow%3A%20ellipsis%3B%20border-right%3A%201px%20solid%20rgb(233%2C%20233%2C%20233)%3B%20background-color%3A%20rgb(250%2C%20250%2C%20250)%3B%22%3E1%3C%2Fdiv%3E%3Cdiv%20class%3D%22aui-table-cell%22%20style%3D%22height%3A%2028px%3B%20left%3A%20120px%3B%20top%3A%2084px%3B%20width%3A%20187.344px%3B%20text-align%3A%20right%3B%20font-size%3A%2012px%3B%20padding%3A%204px%204px%203px%3B%20overflow%3A%20hidden%3B%20position%3A%20absolute%3B%20white-space%3A%20nowrap%3B%20text-overflow%3A%20ellipsis%3B%20border-right%3A%201px%20solid%20rgb(233%2C%20233%2C%20233)%3B%20background-color%3A%20rgb(250%2C%20250%2C%20250)%3B%22%3E1%2C642%3C%2Fdiv%3E%3Cdiv%20class%3D%22aui-table-cell%22%20style%3D%22height%3A%2028px%3B%20left%3A%20307.344px%3B%20top%3A%2084px%3B%20width%3A%20120px%3B%20text-align%3A%20right%3B%20font-size%3A%2012px%3B%20padding%3A%204px%204px%203px%3B%20overflow%3A%20hidden%3B%20position%3A%20absolute%3B%20white-space%3A%20nowrap%3B%20text-overflow%3A%20ellipsis%3B%20border-right%3A%201px%20solid%20rgb(233%2C%20233%2C%20233)%3B%20background-color%3A%20rgb(250%2C%20250%2C%20250)%3B%22%3E1.93%3C%2Fdiv%3E%3Cdiv%20class%3D%22aui-table-cell%22%20style%3D%22height%3A%2028px%3B%20left%3A%20427.344px%3B%20top%3A%2084px%3B%20width%3A%20148.656px%3B%20text-align%3A%20right%3B%20font-size%3A%2012px%3B%20padding%3A%204px%204px%203px%3B%20overflow%3A%20hidden%3B%20position%3A%20absolute%3B%20white-space%3A%20nowrap%3B%20text-overflow%3A%20ellipsis%3B%20border-right%3A%201px%20solid%20rgb(233%2C%20233%2C%20233)%3B%20background-color%3A%20rgb(250%2C%20250%2C%20250)%3B%22%3E100.80%3C%2Fdiv%3E%3Cdiv%20class%3D%22aui-table-cell%22%20style%3D%22height%3A%2028px%3B%20left%3A%20576px%3B%20top%3A%2084px%3B%20width%3A%20120px%3B%20text-align%3A%20right%3B%20font-size%3A%2012px%3B%20padding%3A%204px%204px%203px%3B%20overflow%3A%20hidden%3B%20position%3A%20absolute%3B%20white-space%3A%20nowrap%3B%20text-overflow%3A%20ellipsis%3B%20border-right%3A%201px%20solid%20rgb(233%2C%20233%2C%20233)%3B%20background-color%3A%20rgb(250%2C%20250%2C%20250)%3B%22%3E100%3C%2Fdiv%3E%3Cdiv%20class%3D%22aui-table-cell%22%20style%3D%22height%3A%2028px%3B%20left%3A%200px%3B%20top%3A%20112px%3B%20width%3A%20120px%3B%20text-align%3A%20right%3B%20font-size%3A%2012px%3B%20padding%3A%204px%204px%203px%3B%20overflow%3A%20hidden%3B%20position%3A%20absolute%3B%20white-space%3A%20nowrap%3B%20text-overflow%3A%20ellipsis%3B%20border-right%3A%201px%20solid%20rgb(233%2C%20233%2C%20233)%3B%20background-color%3A%20transparent%3B%22%3E2%3C%2Fdiv%3E%3Cdiv%20class%3D%22aui-table-cell%22%20style%3D%22height%3A%2028px%3B%20left%3A%20120px%3B%20top%3A%20112px%3B%20width%3A%20187.344px%3B%20text-align%3A%20right%3B%20font-size%3A%2012px%3B%20padding%3A%204px%204px%203px%3B%20overflow%3A%20hidden%3B%20position%3A%20absolute%3B%20white-space%3A%20nowrap%3B%20text-overflow%3A%20ellipsis%3B%20border-right%3A%201px%20solid%20rgb(233%2C%20233%2C%20233)%3B%20background-color%3A%20transparent%3B%22%3E1%2C642%3C%2Fdiv%3E%3Cdiv%20class%3D%22aui-table-cell%22%20style%3D%22height%3A%2028px%3B%20left%3A%20307.344px%3B%20top%3A%20112px%3B%20width%3A%20120px%3B%20text-align%3A%20right%3B%20font-size%3A%2012px%3B%20padding%3A%204px%204px%203px%3B%20overflow%3A%20hidden%3B%20position%3A%20absolute%3B%20white-space%3A%20nowrap%3B%20text-overflow%3A%20ellipsis%3B%20border-right%3A%201px%20solid%20rgb(233%2C%20233%2C%20233)%3B%20background-color%3A%20transparent%3B%22%3E1.93%3C%2Fdiv%3E%3Cdiv%20class%3D%22aui-table-cell%22%20style%3D%22height%3A%2028px%3B%20left%3A%20427.344px%3B%20top%3A%20112px%3B%20width%3A%20148.656px%3B%20text-align%3A%20right%3B%20font-size%3A%2012px%3B%20padding%3A%204px%204px%203px%3B%20overflow%3A%20hidden%3B%20position%3A%20absolute%3B%20white-space%3A%20nowrap%3B%20text-overflow%3A%20ellipsis%3B%20border-right%3A%201px%20solid%20rgb(233%2C%20233%2C%20233)%3B%20background-color%3A%20transparent%3B%22%3E94.00%3C%2Fdiv%3E%3Cdiv%20class%3D%22aui-table-cell%22%20style%3D%22height%3A%2028px%3B%20left%3A%20576px%3B%20top%3A%20112px%3B%20width%3A%20120px%3B%20text-align%3A%20right%3B%20font-size%3A%2012px%3B%20padding%3A%204px%204px%203px%3B%20overflow%3A%20hidden%3B%20position%3A%20absolute%3B%20white-space%3A%20nowrap%3B%20text-overflow%3A%20ellipsis%3B%20border-right%3A%201px%20solid%20rgb(233%2C%20233%2C%20233)%3B%20background-color%3A%20transparent%3B%22%3E100%3C%2Fdiv%3E%3Cdiv%20class%3D%22aui-table-cell%22%20style%3D%22height%3A%2028px%3B%20left%3A%200px%3B%20top%3A%20140px%3B%20width%3A%20120px%3B%20text-align%3A%20right%3B%20font-size%3A%2012px%3B%20padding%3A%204px%204px%203px%3B%20overflow%3A%20hidden%3B%20position%3A%20absolute%3B%20white-space%3A%20nowrap%3B%20text-overflow%3A%20ellipsis%3B%20border-right%3A%201px%20solid%20rgb(233%2C%20233%2C%20233)%3B%20background-color%3A%20rgb(250%2C%20250%2C%20250)%3B%22%3E3%3C%2Fdiv%3E%3Cdiv%20class%3D%22aui-table-cell%22%20style%3D%22height%3A%2028px%3B%20left%3A%20120px%3B%20top%3A%20140px%3B%20width%3A%20187.344px%3B%20text-align%3A%20right%3B%20font-size%3A%2012px%3B%20padding%3A%204px%204px%203px%3B%20overflow%3A%20hidden%3B%20position%3A%20absolute%3B%20white-space%3A%20nowrap%3B%20text-overflow%3A%20ellipsis%3B%20border-right%3A%201px%20solid%20rgb(233%2C%20233%2C%20233)%3B%20background-color%3A%20rgb(250%2C%20250%2C%20250)%3B%22%3E1%2C642%3C%2Fdiv%3E%3Cdiv%20class%3D%22aui-table-cell%22%20style%3D%22height%3A%2028px%3B%20left%3A%20307.344px%3B%20top%3A%20140px%3B%20width%3A%20120px%3B%20text-align%3A%20right%3B%20font-size%3A%2012px%3B%20padding%3A%204px%204px%203px%3B%20overflow%3A%20hidden%3B%20position%3A%20absolute%3B%20white-space%3A%20nowrap%3B%20text-overflow%3A%20ellipsis%3B%20border-right%3A%201px%20solid%20rgb(233%2C%20233%2C%20233)%3B%20background-color%3A%20rgb(250%2C%20250%2C%20250)%3B%22%3E1.93%3C%2Fdiv%3E%3Cdiv%20class%3D%22aui-table-cell%22%20style%3D%22height%3A%2028px%3B%20left%3A%20427.344px%3B%20top%3A%20140px%3B%20width%3A%20148.656px%3B%20text-align%3A%20right%3B%20font-size%3A%2012px%3B%20padding%3A%204px%204px%203px%3B%20overflow%3A%20hidden%3B%20position%3A%20absolute%3B%20white-space%3A%20nowrap%3B%20text-overflow%3A%20ellipsis%3B%20border-right%3A%201px%20solid%20rgb(233%2C%20233%2C%20233)%3B%20background-color%3A%20rgb(250%2C%20250%2C%20250)%3B%22%3E93.55%3C%2Fdiv%3E%3Cdiv%20class%3D%22aui-table-cell%22%20style%3D%22height%3A%2028px%3B%20left%3A%20576px%3B%20top%3A%20140px%3B%20width%3A%20120px%3B%20text-align%3A%20right%3B%20font-size%3A%2012px%3B%20padding%3A%204px%204px%203px%3B%20overflow%3A%20hidden%3B%20position%3A%20absolute%3B%20white-space%3A%20nowrap%3B%20text-overflow%3A%20ellipsis%3B%20border-right%3A%201px%20solid%20rgb(233%2C%20233%2C%20233)%3B%20background-color%3A%20rgb(250%2C%20250%2C%20250)%3B%22%3E100%3C%2Fdiv%3E%3Cdiv%20class%3D%22aui-table-cell%22%20style%3D%22height%3A%2028px%3B%20left%3A%200px%3B%20top%3A%20168px%3B%20width%3A%20120px%3B%20text-align%3A%20right%3B%20font-size%3A%2012px%3B%20padding%3A%204px%204px%203px%3B%20overflow%3A%20hidden%3B%20position%3A%20absolute%3B%20white-space%3A%20nowrap%3B%20text-overflow%3A%20ellipsis%3B%20border-right%3A%201px%20solid%20rgb(233%2C%20233%2C%20233)%3B%20background-color%3A%20transparent%3B%22%3E4%3C%2Fdiv%3E%3Cdiv%20class%3D%22aui-table-cell%22%20style%3D%22height%3A%2028px%3B%20left%3A%20120px%3B%20top%3A%20168px%3B%20width%3A%20187.344px%3B%20text-align%3A%20right%3B%20font-size%3A%2012px%3B%20padding%3A%204px%204px%203px%3B%20overflow%3A%20hidden%3B%20position%3A%20absolute%3B%20white-space%3A%20nowrap%3B%20text-overflow%3A%20ellipsis%3B%20border-right%3A%201px%20solid%20rgb(233%2C%20233%2C%20233)%3B%20background-color%3A%20transparent%3B%22%3E1%2C642%3C%2Fdiv%3E%3Cdiv%20class%3D%22aui-table-cell%22%20style%3D%22height%3A%2028px%3B%20left%3A%20307.344px%3B%20top%3A%20168px%3B%20width%3A%20120px%3B%20text-align%3A%20right%3B%20font-size%3A%2012px%3B%20padding%3A%204px%204px%203px%3B%20overflow%3A%20hidden%3B%20position%3A%20absolute%3B%20white-space%3A%20nowrap%3B%20text-overflow%3A%20ellipsis%3B%20border-right%3A%201px%20solid%20rgb(233%2C%20233%2C%20233)%3B%20background-color%3A%20transparent%3B%22%3E1.93%3C%2Fdiv%3E%3Cdiv%20class%3D%22aui-table-cell%22%20style%3D%22height%3A%2028px%3B%20left%3A%20427.344px%3B%20top%3A%20168px%3B%20width%3A%20148.656px%3B%20text-align%3A%20right%3B%20font-size%3A%2012px%3B%20padding%3A%204px%204px%203px%3B%20overflow%3A%20hidden%3B%20position%3A%20absolute%3B%20white-space%3A%20nowrap%3B%20text-overflow%3A%20ellipsis%3B%20border-right%3A%201px%20solid%20rgb(233%2C%20233%2C%20233)%3B%20background-color%3A%20transparent%3B%22%3E95.10%3C%2Fdiv%3E%3Cdiv%20class%3D%22aui-table-cell%22%20style%3D%22height%3A%2028px%3B%20left%3A%20576px%3B%20top%3A%20168px%3B%20width%3A%20120px%3B%20text-align%3A%20right%3B%20font-size%3A%2012px%3B%20padding%3A%204px%204px%203px%3B%20overflow%3A%20hidden%3B%20position%3A%20absolute%3B%20white-space%3A%20nowrap%3B%20text-overflow%3A%20ellipsis%3B%20border-right%3A%201px%20solid%20rgb(233%2C%20233%2C%20233)%3B%20background-color%3A%20transparent%3B%22%3E100%3C%2Fdiv%3E%3Cdiv%20class%3D%22aui-table-cell%22%20style%3D%22height%3A%2028px%3B%20left%3A%200px%3B%20top%3A%20196px%3B%20width%3A%20120px%3B%20text-align%3A%20right%3B%20font-size%3A%2012px%3B%20padding%3A%204px%204px%203px%3B%20overflow%3A%20hidden%3B%20position%3A%20absolute%3B%20white-space%3A%20nowrap%3B%20text-overflow%3A%20ellipsis%3B%20border-right%3A%201px%20solid%20rgb(233%2C%20233%2C%20233)%3B%20background-color%3A%20rgb(250%2C%20250%2C%20250)%3B%22%3E5%3C%2Fdiv%3E%3Cdiv%20class%3D%22aui-table-cell%22%20style%3D%22height%3A%2028px%3B%20left%3A%20120px%3B%20top%3A%20196px%3B%20width%3A%20187.344px%3B%20text-align%3A%20right%3B%20font-size%3A%2012px%3B%20padding%3A%204px%204px%203px%3B%20overflow%3A%20hidden%3B%20position%3A%20absolute%3B%20white-space%3A%20nowrap%3B%20text-overflow%3A%20ellipsis%3B%20border-right%3A%201px%20solid%20rgb(233%2C%20233%2C%20233)%3B%20background-color%3A%20rgb(250%2C%20250%2C%20250)%3B%22%3E1%2C642%3C%2Fdiv%3E%3Cdiv%20class%3D%22aui-table-cell%22%20style%3D%22height%3A%2028px%3B%20left%3A%20307.344px%3B%20top%3A%20196px%3B%20width%3A%20120px%3B%20text-align%3A%20right%3B%20font-size%3A%2012px%3B%20padding%3A%204px%204px%203px%3B%20overflow%3A%20hidden%3B%20position%3A%20absolute%3B%20white-space%3A%20nowrap%3B%20text-overflow%3A%20ellipsis%3B%20border-right%3A%201px%20solid%20rgb(233%2C%20233%2C%20233)%3B%20background-color%3A%20rgb(250%2C%20250%2C%20250)%3B%22%3E1.93%3C%2Fdiv%3E%3Cdiv%20class%3D%22aui-table-cell%22%20style%3D%22height%3A%2028px%3B%20left%3A%20427.344px%3B%20top%3A%20196px%3B%20width%3A%20148.656px%3B%20text-align%3A%20right%3B%20font-size%3A%2012px%3B%20padding%3A%204px%204px%203px%3B%20overflow%3A%20hidden%3B%20position%3A%20absolute%3B%20white-space%3A%20nowrap%3B%20text-overflow%3A%20ellipsis%3B%20border-right%3A%201px%20solid%20rgb(233%2C%20233%2C%20233)%3B%20background-color%3A%20rgb(250%2C%20250%2C%20250)%3B%22%3E93.85%3C%2Fdiv%3E%3Cdiv%20class%3D%22aui-table-cell%22%20style%3D%22height%3A%2028px%3B%20left%3A%20576px%3B%20top%3A%20196px%3B%20width%3A%20120px%3B%20text-align%3A%20right%3B%20font-size%3A%2012px%3B%20padding%3A%204px%204px%203px%3B%20overflow%3A%20hidden%3B%20position%3A%20absolute%3B%20white-space%3A%20nowrap%3B%20text-overflow%3A%20ellipsis%3B%20border-right%3A%201px%20solid%20rgb(233%2C%20233%2C%20233)%3B%20background-color%3A%20rgb(250%2C%20250%2C%20250)%3B%22%3E100%3C%2Fdiv%3E%3Cdiv%20class%3D%22aui-table-cell%22%20style%3D%22height%3A%2028px%3B%20left%3A%200px%3B%20top%3A%20224px%3B%20width%3A%20120px%3B%20text-align%3A%20right%3B%20font-size%3A%2012px%3B%20padding%3A%204px%204px%203px%3B%20overflow%3A%20hidden%3B%20position%3A%20absolute%3B%20white-space%3A%20nowrap%3B%20text-overflow%3A%20ellipsis%3B%20border-right%3A%201px%20solid%20rgb(233%2C%20233%2C%20233)%3B%20background-color%3A%20transparent%3B%22%3E6%3C%2Fdiv%3E%3Cdiv%20class%3D%22aui-table-cell%22%20style%3D%22height%3A%2028px%3B%20left%3A%20120px%3B%20top%3A%20224px%3B%20width%3A%20187.344px%3B%20text-align%3A%20right%3B%20font-size%3A%2012px%3B%20padding%3A%204px%204px%203px%3B%20overflow%3A%20hidden%3B%20position%3A%20absolute%3B%20white-space%3A%20nowrap%3B%20text-overflow%3A%20ellipsis%3B%20border-right%3A%201px%20solid%20rgb(233%2C%20233%2C%20233)%3B%20background-color%3A%20transparent%3B%22%3E1%2C642%3C%2Fdiv%3E%3Cdiv%20class%3D%22aui-table-cell%22%20style%3D%22height%3A%2028px%3B%20left%3A%20307.344px%3B%20top%3A%20224px%3B%20width%3A%20120px%3B%20text-align%3A%20right%3B%20font-size%3A%2012px%3B%20padding%3A%204px%204px%203px%3B%20overflow%3A%20hidden%3B%20position%3A%20absolute%3B%20white-space%3A%20nowrap%3B%20text-overflow%3A%20ellipsis%3B%20border-right%3A%201px%20solid%20rgb(233%2C%20233%2C%20233)%3B%20background-color%3A%20transparent%3B%22%3E1.93%3C%2Fdiv%3E%3Cdiv%20class%3D%22aui-table-cell%22%20style%3D%22height%3A%2028px%3B%20left%3A%20427.344px%3B%20top%3A%20224px%3B%20width%3A%20148.656px%3B%20text-align%3A%20right%3B%20font-size%3A%2012px%3B%20padding%3A%204px%204px%203px%3B%20overflow%3A%20hidden%3B%20position%3A%20absolute%3B%20white-space%3A%20nowrap%3B%20text-overflow%3A%20ellipsis%3B%20border-right%3A%201px%20solid%20rgb(233%2C%20233%2C%20233)%3B%20background-color%3A%20transparent%3B%22%3E94.00%3C%2Fdiv%3E%3Cdiv%20class%3D%22aui-table-cell%22%20style%3D%22height%3A%2028px%3B%20left%3A%20576px%3B%20top%3A%20224px%3B%20width%3A%20120px%3B%20text-align%3A%20right%3B%20font-size%3A%2012px%3B%20padding%3A%204px%204px%203px%3B%20overflow%3A%20hidden%3B%20position%3A%20absolute%3B%20white-space%3A%20nowrap%3B%20text-overflow%3A%20ellipsis%3B%20border-right%3A%201px%20solid%20rgb(233%2C%20233%2C%20233)%3B%20background-color%3A%20transparent%3B%22%3E100%3C%2Fdiv%3E%3Cdiv%20class%3D%22aui-table-cell%22%20style%3D%22height%3A%2028px%3B%20left%3A%200px%3B%20top%3A%20252px%3B%20width%3A%20120px%3B%20text-align%3A%20right%3B%20font-size%3A%2012px%3B%20padding%3A%204px%204px%203px%3B%20overflow%3A%20hidden%3B%20position%3A%20absolute%3B%20white-space%3A%20nowrap%3B%20text-overflow%3A%20ellipsis%3B%20border-right%3A%201px%20solid%20rgb(233%2C%20233%2C%20233)%3B%20background-color%3A%20rgb(250%2C%20250%2C%20250)%3B%22%3E7%3C%2Fdiv%3E%3Cdiv%20class%3D%22aui-table-cell%22%20style%3D%22height%3A%2028px%3B%20left%3A%20120px%3B%20top%3A%20252px%3B%20width%3A%20187.344px%3B%20text-align%3A%20right%3B%20font-size%3A%2012px%3B%20padding%3A%204px%204px%203px%3B%20overflow%3A%20hidden%3B%20position%3A%20absolute%3B%20white-space%3A%20nowrap%3B%20text-overflow%3A%20ellipsis%3B%20border-right%3A%201px%20solid%20rgb(233%2C%20233%2C%20233)%3B%20background-color%3A%20rgb(250%2C%20250%2C%20250)%3B%22%3E1%2C642%3C%2Fdiv%3E%3Cdiv%20class%3D%22aui-table-cell%22%20style%3D%22height%3A%2028px%3B%20left%3A%20307.344px%3B%20top%3A%20252px%3B%20width%3A%20120px%3B%20text-align%3A%20right%3B%20font-size%3A%2012px%3B%20padding%3A%204px%204px%203px%3B%20overflow%3A%20hidden%3B%20position%3A%20absolute%3B%20white-space%3A%20nowrap%3B%20text-overflow%3A%20ellipsis%3B%20border-right%3A%201px%20solid%20rgb(233%2C%20233%2C%20233)%3B%20background-color%3A%20rgb(250%2C%20250%2C%20250)%3B%22%3E1.93%3C%2Fdiv%3E%3Cdiv%20class%3D%22aui-table-cell%22%20style%3D%22height%3A%2028px%3B%20left%3A%20427.344px%3B%20top%3A%20252px%3B%20width%3A%20148.656px%3B%20text-align%3A%20right%3B%20font-size%3A%2012px%3B%20padding%3A%204px%204px%203px%3B%20overflow%3A%20hidden%3B%20position%3A%20absolute%3B%20white-space%3A%20nowrap%3B%20text-overflow%3A%20ellipsis%3B%20border-right%3A%201px%20solid%20rgb(233%2C%20233%2C%20233)%3B%20background-color%3A%20rgb(250%2C%20250%2C%20250)%3B%22%3E93.85%3C%2Fdiv%3E%3Cdiv%20class%3D%22aui-table-cell%22%20style%3D%22height%3A%2028px%3B%20left%3A%20576px%3B%20top%3A%20252px%3B%20width%3A%20120px%3B%20text-align%3A%20right%3B%20font-size%3A%2012px%3B%20padding%3A%204px%204px%203px%3B%20overflow%3A%20hidden%3B%20position%3A%20absolute%3B%20white-space%3A%20nowrap%3B%20text-overflow%3A%20ellipsis%3B%20border-right%3A%201px%20solid%20rgb(233%2C%20233%2C%20233)%3B%20background-color%3A%20rgb(250%2C%20250%2C%20250)%3B%22%3E100%3C%2Fdiv%3E%3Cdiv%20class%3D%22aui-table-cell%22%20style%3D%22height%3A%2028px%3B%20left%3A%200px%3B%20top%3A%20280px%3B%20width%3A%20120px%3B%20text-align%3A%20right%3B%20font-size%3A%2012px%3B%20padding%3A%204px%204px%203px%3B%20overflow%3A%20hidden%3B%20position%3A%20absolute%3B%20white-space%3A%20nowrap%3B%20text-overflow%3A%20ellipsis%3B%20border-right%3A%201px%20solid%20rgb(233%2C%20233%2C%20233)%3B%20background-color%3A%20transparent%3B%22%3E8%3C%2Fdiv%3E%3Cdiv%20class%3D%22aui-table-cell%22%20style%3D%22height%3A%2028px%3B%20left%3A%20120px%3B%20top%3A%20280px%3B%20width%3A%20187.344px%3B%20text-align%3A%20right%3B%20font-size%3A%2012px%3B%20padding%3A%204px%204px%203px%3B%20overflow%3A%20hidden%3B%20position%3A%20absolute%3B%20white-space%3A%20nowrap%3B%20text-overflow%3A%20ellipsis%3B%20border-right%3A%201px%20solid%20rgb(233%2C%20233%2C%20233)%3B%20background-color%3A%20transparent%3B%22%3E1%2C642%3C%2Fdiv%3E%3Cdiv%20class%3D%22aui-table-cell%22%20style%3D%22height%3A%2028px%3B%20left%3A%20307.344px%3B%20top%3A%20280px%3B%20width%3A%20120px%3B%20text-align%3A%20right%3B%20font-size%3A%2012px%3B%20padding%3A%204px%204px%203px%3B%20overflow%3A%20hidden%3B%20position%3A%20absolute%3B%20white-space%3A%20nowrap%3B%20text-overflow%3A%20ellipsis%3B%20border-right%3A%201px%20solid%20rgb(233%2C%20233%2C%20233)%3B%20background-color%3A%20transparent%3B%22%3E1.93%3C%2Fdiv%3E%3Cdiv%20class%3D%22aui-table-cell%22%20style%3D%22height%3A%2028px%3B%20left%3A%20427.344px%3B%20top%3A%20280px%3B%20width%3A%20148.656px%3B%20text-align%3A%20right%3B%20font-size%3A%2012px%3B%20padding%3A%204px%204px%203px%3B%20overflow%3A%20hidden%3B%20position%3A%20absolute%3B%20white-space%3A%20nowrap%3B%20text-overflow%3A%20ellipsis%3B%20border-right%3A%201px%20solid%20rgb(233%2C%20233%2C%20233)%3B%20background-color%3A%20transparent%3B%22%3E94.85%3C%2Fdiv%3E%3Cdiv%20class%3D%22aui-table-cell%22%20style%3D%22height%3A%2028px%3B%20left%3A%20576px%3B%20top%3A%20280px%3B%20width%3A%20120px%3B%20text-align%3A%20right%3B%20font-size%3A%2012px%3B%20padding%3A%204px%204px%203px%3B%20overflow%3A%20hidden%3B%20position%3A%20absolute%3B%20white-space%3A%20nowrap%3B%20text-overflow%3A%20ellipsis%3B%20border-right%3A%201px%20solid%20rgb(233%2C%20233%2C%20233)%3B%20background-color%3A%20transparent%3B%22%3E100%3C%2Fdiv%3E%3C%2Fdiv%3E%3C%2Fdiv%3E%3C%2Fdiv%3E%3C%2Fdiv%3E%3C%2Fdiv%3E%3Cdiv%20class%3D%22css-1uww2vi-Table%22%3E%3C%2Fdiv%3E%3C%2Fdiv%3E%3C%2Fdiv%3E%3C%2Fdiv%3E%3C%2Fdiv%3E%3C%2Fdiv%3E%3C%2FforeignObject%3E%3C%2Fsvg%3E\">"
      ],
      "text/plain": [
       "Open the notebook in JupyterLab with the Atoti extension enabled to build this widget."
      ]
     },
     "metadata": {},
     "output_type": "display_data"
    }
   ],
   "source": [
    "session.visualize(\"Customer retention based on churn ranking for Logistic Regression\")"
   ]
  },
  {
   "cell_type": "markdown",
   "metadata": {},
   "source": [
    "Based on the predicted churn, we see the expenses that we needed to maintain 90% NRR either by retaining or replacing the Predicted Churn Overflow.  \n",
    "We see the amount of saving we will have if we retained successfully our target customers.  \n",
    "We also see that _Naive Bayes Classifier_ allows us to maintain the same NRR with the least amount of money."
   ]
  },
  {
   "cell_type": "code",
   "execution_count": 44,
   "metadata": {
    "atoti": {
     "widget": {
      "filters": [],
      "mapping": {
       "horizontalSubplots": [],
       "splitBy": [
        "ALL_MEASURES"
       ],
       "values": [
        "[Measures].[Retention cost]",
        "[Measures].[New Customer cost]",
        "[Measures].[Saving]"
       ],
       "verticalSubplots": [],
       "xAxis": [
        "[Epoch].[Epoch].[Branch]"
       ]
      },
      "query": {
       "mdx": "WITH  Member [Measures].[Saving] AS [Measures].[New Customer cost] - [Measures].[Retention cost], FORMAT_STRING = \"#,###.##\"  SELECT NON EMPTY Order([Epoch].[Epoch].[Branch].Members, [Measures].[Retention cost], BDESC) ON ROWS, NON EMPTY {[Measures].[Retention cost], [Measures].[New Customer cost], [Measures].[Saving]} ON COLUMNS FROM [customer_cube]",
       "updateMode": "once"
      },
      "serverKey": "default",
      "widgetKey": "plotly-clustered-column-chart"
     }
    }
   },
   "outputs": [
    {
     "data": {
      "application/vnd.atoti.widget.v0+json": {
       "name": "Cost to maintain 90% NRR",
       "sessionId": "1685413173_PPEYJT",
       "sessionLocation": {
        "https": false,
        "port": 58900
       },
       "widgetCreationCode": "session.visualize()"
      },
      "text/html": [
       "<img src=\"data:image/svg+xml;charset=utf8,%3C%3Fxml%20version%3D%221.0%22%20standalone%3D%22no%22%3F%3E%3Csvg%20xmlns%3D%22http%3A%2F%2Fwww.w3.org%2F2000%2Fsvg%22%20xmlns%3Axlink%3D%22http%3A%2F%2Fwww.w3.org%2F1999%2Fxlink%22%20height%3D%22352%22%20width%3D%221342%22%20viewBox%3D%220%200%201342%20352%22%3E%3Cdefs%20id%3D%22defs-518f3a%22%3E%3Cg%20class%3D%22clips%22%3E%3CclipPath%20id%3D%22clip518f3axyplot%22%20class%3D%22plotclip%22%3E%3Crect%20width%3D%221077%22%20height%3D%22282%22%2F%3E%3C%2FclipPath%3E%3CclipPath%20class%3D%22axesclip%22%20id%3D%22clip518f3ax%22%3E%3Crect%20x%3D%2280%22%20y%3D%220%22%20width%3D%221077%22%20height%3D%22352%22%2F%3E%3C%2FclipPath%3E%3CclipPath%20class%3D%22axesclip%22%20id%3D%22clip518f3ay%22%3E%3Crect%20x%3D%220%22%20y%3D%2230%22%20width%3D%221342%22%20height%3D%22282%22%2F%3E%3C%2FclipPath%3E%3CclipPath%20class%3D%22axesclip%22%20id%3D%22clip518f3axy%22%3E%3Crect%20x%3D%2280%22%20y%3D%2230%22%20width%3D%221077%22%20height%3D%22282%22%2F%3E%3C%2FclipPath%3E%3C%2Fg%3E%3Cg%20class%3D%22gradients%22%2F%3E%3C%2Fdefs%3E%3Cg%20class%3D%22bglayer%22%2F%3E%3Cg%20class%3D%22draglayer%20cursor-crosshair%22%3E%3Cg%20class%3D%22xy%22%3E%3Crect%20class%3D%22nsewdrag%20drag%22%20data-subplot%3D%22xy%22%20x%3D%2280%22%20y%3D%2230%22%20width%3D%221077%22%20height%3D%22282%22%20style%3D%22fill%3A%20transparent%3B%20stroke-width%3A%200%3B%20pointer-events%3A%20all%3B%22%2F%3E%3Crect%20class%3D%22nwdrag%20drag%20cursor-nw-resize%22%20data-subplot%3D%22xy%22%20x%3D%2260%22%20y%3D%2210%22%20width%3D%2220%22%20height%3D%2220%22%20style%3D%22fill%3A%20transparent%3B%20stroke-width%3A%200%3B%20pointer-events%3A%20all%3B%22%2F%3E%3Crect%20class%3D%22nedrag%20drag%20cursor-ne-resize%22%20data-subplot%3D%22xy%22%20x%3D%221157%22%20y%3D%2210%22%20width%3D%2220%22%20height%3D%2220%22%20style%3D%22fill%3A%20transparent%3B%20stroke-width%3A%200%3B%20pointer-events%3A%20all%3B%22%2F%3E%3Crect%20class%3D%22swdrag%20drag%20cursor-sw-resize%22%20data-subplot%3D%22xy%22%20x%3D%2260%22%20y%3D%22312%22%20width%3D%2220%22%20height%3D%2220%22%20style%3D%22fill%3A%20transparent%3B%20stroke-width%3A%200%3B%20pointer-events%3A%20all%3B%22%2F%3E%3Crect%20class%3D%22sedrag%20drag%20cursor-se-resize%22%20data-subplot%3D%22xy%22%20x%3D%221157%22%20y%3D%22312%22%20width%3D%2220%22%20height%3D%2220%22%20style%3D%22fill%3A%20transparent%3B%20stroke-width%3A%200%3B%20pointer-events%3A%20all%3B%22%2F%3E%3Crect%20class%3D%22ewdrag%20drag%20cursor-ew-resize%22%20data-subplot%3D%22xy%22%20x%3D%22187.7%22%20y%3D%22312.5%22%20width%3D%22861.6%22%20height%3D%2220%22%20style%3D%22fill%3A%20transparent%3B%20stroke-width%3A%200%3B%20pointer-events%3A%20all%3B%22%2F%3E%3Crect%20class%3D%22wdrag%20drag%20cursor-w-resize%22%20data-subplot%3D%22xy%22%20x%3D%2280%22%20y%3D%22312.5%22%20width%3D%22107.7%22%20height%3D%2220%22%20style%3D%22fill%3A%20transparent%3B%20stroke-width%3A%200%3B%20pointer-events%3A%20all%3B%22%2F%3E%3Crect%20class%3D%22edrag%20drag%20cursor-e-resize%22%20data-subplot%3D%22xy%22%20x%3D%221049.3000000000002%22%20y%3D%22312.5%22%20width%3D%22107.7%22%20height%3D%2220%22%20style%3D%22fill%3A%20transparent%3B%20stroke-width%3A%200%3B%20pointer-events%3A%20all%3B%22%2F%3E%3Crect%20class%3D%22nsdrag%20drag%20cursor-ns-resize%22%20data-subplot%3D%22xy%22%20x%3D%2259.5%22%20y%3D%2258.2%22%20width%3D%2220%22%20height%3D%22225.60000000000002%22%20style%3D%22fill%3A%20transparent%3B%20stroke-width%3A%200%3B%20pointer-events%3A%20all%3B%22%2F%3E%3Crect%20class%3D%22sdrag%20drag%20cursor-s-resize%22%20data-subplot%3D%22xy%22%20x%3D%2259.5%22%20y%3D%22283.8%22%20width%3D%2220%22%20height%3D%2228.200000000000003%22%20style%3D%22fill%3A%20transparent%3B%20stroke-width%3A%200%3B%20pointer-events%3A%20all%3B%22%2F%3E%3Crect%20class%3D%22ndrag%20drag%20cursor-n-resize%22%20data-subplot%3D%22xy%22%20x%3D%2259.5%22%20y%3D%2230%22%20width%3D%2220%22%20height%3D%2228.200000000000003%22%20style%3D%22fill%3A%20transparent%3B%20stroke-width%3A%200%3B%20pointer-events%3A%20all%3B%22%2F%3E%3C%2Fg%3E%3C%2Fg%3E%3Cg%20class%3D%22layer-below%22%3E%3Cg%20class%3D%22imagelayer%22%2F%3E%3Cg%20class%3D%22shapelayer%22%2F%3E%3C%2Fg%3E%3Cg%20class%3D%22cartesianlayer%22%3E%3Cg%20class%3D%22subplot%20xy%22%3E%3Cg%20class%3D%22layer-subplot%22%3E%3Cg%20class%3D%22shapelayer%22%2F%3E%3Cg%20class%3D%22imagelayer%22%2F%3E%3C%2Fg%3E%3Cg%20class%3D%22gridlayer%22%3E%3Cg%20class%3D%22x%22%3E%3Cpath%20class%3D%22xgrid%20crisp%22%20transform%3D%22translate(187.7%2C0)%22%20d%3D%22M0%2C30v282%22%20style%3D%22stroke%3A%20rgb(0%2C%200%2C%200)%3B%20stroke-opacity%3A%200%3B%20stroke-width%3A%201px%3B%22%2F%3E%3Cpath%20class%3D%22xgrid%20crisp%22%20transform%3D%22translate(403.1%2C0)%22%20d%3D%22M0%2C30v282%22%20style%3D%22stroke%3A%20rgb(0%2C%200%2C%200)%3B%20stroke-opacity%3A%200%3B%20stroke-width%3A%201px%3B%22%2F%3E%3Cpath%20class%3D%22xgrid%20crisp%22%20transform%3D%22translate(618.5%2C0)%22%20d%3D%22M0%2C30v282%22%20style%3D%22stroke%3A%20rgb(0%2C%200%2C%200)%3B%20stroke-opacity%3A%200%3B%20stroke-width%3A%201px%3B%22%2F%3E%3Cpath%20class%3D%22xgrid%20crisp%22%20transform%3D%22translate(833.9%2C0)%22%20d%3D%22M0%2C30v282%22%20style%3D%22stroke%3A%20rgb(0%2C%200%2C%200)%3B%20stroke-opacity%3A%200%3B%20stroke-width%3A%201px%3B%22%2F%3E%3Cpath%20class%3D%22xgrid%20crisp%22%20transform%3D%22translate(1049.3%2C0)%22%20d%3D%22M0%2C30v282%22%20style%3D%22stroke%3A%20rgb(0%2C%200%2C%200)%3B%20stroke-opacity%3A%200%3B%20stroke-width%3A%201px%3B%22%2F%3E%3C%2Fg%3E%3Cg%20class%3D%22y%22%3E%3Cpath%20class%3D%22ygrid%20crisp%22%20transform%3D%22translate(0%2C273.95)%22%20d%3D%22M80%2C0h1077%22%20style%3D%22stroke%3A%20rgb(89%2C%2089%2C%2089)%3B%20stroke-opacity%3A%200.25%3B%20stroke-width%3A%201px%3B%22%2F%3E%3Cpath%20class%3D%22ygrid%20crisp%22%20transform%3D%22translate(0%2C235.89)%22%20d%3D%22M80%2C0h1077%22%20style%3D%22stroke%3A%20rgb(89%2C%2089%2C%2089)%3B%20stroke-opacity%3A%200.25%3B%20stroke-width%3A%201px%3B%22%2F%3E%3Cpath%20class%3D%22ygrid%20crisp%22%20transform%3D%22translate(0%2C197.84)%22%20d%3D%22M80%2C0h1077%22%20style%3D%22stroke%3A%20rgb(89%2C%2089%2C%2089)%3B%20stroke-opacity%3A%200.25%3B%20stroke-width%3A%201px%3B%22%2F%3E%3Cpath%20class%3D%22ygrid%20crisp%22%20transform%3D%22translate(0%2C159.78)%22%20d%3D%22M80%2C0h1077%22%20style%3D%22stroke%3A%20rgb(89%2C%2089%2C%2089)%3B%20stroke-opacity%3A%200.25%3B%20stroke-width%3A%201px%3B%22%2F%3E%3Cpath%20class%3D%22ygrid%20crisp%22%20transform%3D%22translate(0%2C121.73)%22%20d%3D%22M80%2C0h1077%22%20style%3D%22stroke%3A%20rgb(89%2C%2089%2C%2089)%3B%20stroke-opacity%3A%200.25%3B%20stroke-width%3A%201px%3B%22%2F%3E%3Cpath%20class%3D%22ygrid%20crisp%22%20transform%3D%22translate(0%2C83.68)%22%20d%3D%22M80%2C0h1077%22%20style%3D%22stroke%3A%20rgb(89%2C%2089%2C%2089)%3B%20stroke-opacity%3A%200.25%3B%20stroke-width%3A%201px%3B%22%2F%3E%3Cpath%20class%3D%22ygrid%20crisp%22%20transform%3D%22translate(0%2C45.62)%22%20d%3D%22M80%2C0h1077%22%20style%3D%22stroke%3A%20rgb(89%2C%2089%2C%2089)%3B%20stroke-opacity%3A%200.25%3B%20stroke-width%3A%201px%3B%22%2F%3E%3C%2Fg%3E%3C%2Fg%3E%3Cg%20class%3D%22zerolinelayer%22%3E%3Cpath%20class%3D%22yzl%20zl%20crisp%22%20transform%3D%22translate(0%2C312)%22%20d%3D%22M80%2C0h1077%22%20style%3D%22stroke%3A%20rgb(89%2C%2089%2C%2089)%3B%20stroke-opacity%3A%200.5%3B%20stroke-width%3A%201px%3B%22%2F%3E%3C%2Fg%3E%3Cpath%20class%3D%22xlines-below%22%2F%3E%3Cpath%20class%3D%22ylines-below%22%2F%3E%3Cg%20class%3D%22overlines-below%22%2F%3E%3Cg%20class%3D%22xaxislayer-below%22%2F%3E%3Cg%20class%3D%22yaxislayer-below%22%2F%3E%3Cg%20class%3D%22overaxes-below%22%2F%3E%3Cg%20class%3D%22plot%22%20transform%3D%22translate(80%2C30)%22%20clip-path%3D%22url('%23clip518f3axyplot')%22%3E%3Cg%20class%3D%22barlayer%20mlayer%22%3E%3Cg%20class%3D%22trace%20bars%22%20style%3D%22opacity%3A%201%3B%22%3E%3Cg%20class%3D%22points%22%3E%3Cg%20class%3D%22point%22%3E%3Cpath%20d%3D%22M21.54%2C282V228.42H78.98V282Z%22%20style%3D%22vector-effect%3A%20non-scaling-stroke%3B%20opacity%3A%201%3B%20stroke-width%3A%200px%3B%20fill%3A%20rgb(78%2C%20121%2C%20167)%3B%20fill-opacity%3A%201%3B%22%2F%3E%3C%2Fg%3E%3Cg%20class%3D%22point%22%3E%3Cpath%20d%3D%22M236.94%2C282V234.51H294.38V282Z%22%20style%3D%22vector-effect%3A%20non-scaling-stroke%3B%20opacity%3A%201%3B%20stroke-width%3A%200px%3B%20fill%3A%20rgb(78%2C%20121%2C%20167)%3B%20fill-opacity%3A%201%3B%22%2F%3E%3C%2Fg%3E%3Cg%20class%3D%22point%22%3E%3Cpath%20d%3D%22M452.34%2C282V250.76H509.78V282Z%22%20style%3D%22vector-effect%3A%20non-scaling-stroke%3B%20opacity%3A%201%3B%20stroke-width%3A%200px%3B%20fill%3A%20rgb(78%2C%20121%2C%20167)%3B%20fill-opacity%3A%201%3B%22%2F%3E%3C%2Fg%3E%3Cg%20class%3D%22point%22%3E%3Cpath%20d%3D%22M667.74%2C282V254.05H725.18V282Z%22%20style%3D%22vector-effect%3A%20non-scaling-stroke%3B%20opacity%3A%201%3B%20stroke-width%3A%200px%3B%20fill%3A%20rgb(78%2C%20121%2C%20167)%3B%20fill-opacity%3A%201%3B%22%2F%3E%3C%2Fg%3E%3Cg%20class%3D%22point%22%3E%3Cpath%20d%3D%22M883.14%2C282V254.53H940.58V282Z%22%20style%3D%22vector-effect%3A%20non-scaling-stroke%3B%20opacity%3A%201%3B%20stroke-width%3A%200px%3B%20fill%3A%20rgb(78%2C%20121%2C%20167)%3B%20fill-opacity%3A%201%3B%22%2F%3E%3C%2Fg%3E%3C%2Fg%3E%3C%2Fg%3E%3Cg%20class%3D%22trace%20bars%22%20style%3D%22opacity%3A%201%3B%22%3E%3Cg%20class%3D%22points%22%3E%3Cg%20class%3D%22point%22%3E%3Cpath%20d%3D%22M78.98%2C282V14.1H136.42V282Z%22%20style%3D%22vector-effect%3A%20non-scaling-stroke%3B%20opacity%3A%201%3B%20stroke-width%3A%200px%3B%20fill%3A%20rgb(242%2C%20142%2C%2044)%3B%20fill-opacity%3A%201%3B%22%2F%3E%3C%2Fg%3E%3Cg%20class%3D%22point%22%3E%3Cpath%20d%3D%22M294.38%2C282V44.54H351.82V282Z%22%20style%3D%22vector-effect%3A%20non-scaling-stroke%3B%20opacity%3A%201%3B%20stroke-width%3A%200px%3B%20fill%3A%20rgb(242%2C%20142%2C%2044)%3B%20fill-opacity%3A%201%3B%22%2F%3E%3C%2Fg%3E%3Cg%20class%3D%22point%22%3E%3Cpath%20d%3D%22M509.78%2C282V125.79H567.22V282Z%22%20style%3D%22vector-effect%3A%20non-scaling-stroke%3B%20opacity%3A%201%3B%20stroke-width%3A%200px%3B%20fill%3A%20rgb(242%2C%20142%2C%2044)%3B%20fill-opacity%3A%201%3B%22%2F%3E%3C%2Fg%3E%3Cg%20class%3D%22point%22%3E%3Cpath%20d%3D%22M725.18%2C282V142.25H782.62V282Z%22%20style%3D%22vector-effect%3A%20non-scaling-stroke%3B%20opacity%3A%201%3B%20stroke-width%3A%200px%3B%20fill%3A%20rgb(242%2C%20142%2C%2044)%3B%20fill-opacity%3A%201%3B%22%2F%3E%3C%2Fg%3E%3Cg%20class%3D%22point%22%3E%3Cpath%20d%3D%22M940.58%2C282V144.63H998.02V282Z%22%20style%3D%22vector-effect%3A%20non-scaling-stroke%3B%20opacity%3A%201%3B%20stroke-width%3A%200px%3B%20fill%3A%20rgb(242%2C%20142%2C%2044)%3B%20fill-opacity%3A%201%3B%22%2F%3E%3C%2Fg%3E%3C%2Fg%3E%3C%2Fg%3E%3Cg%20class%3D%22trace%20bars%22%20style%3D%22opacity%3A%201%3B%22%3E%3Cg%20class%3D%22points%22%3E%3Cg%20class%3D%22point%22%3E%3Cpath%20d%3D%22M136.42%2C282V67.68H193.86V282Z%22%20style%3D%22vector-effect%3A%20non-scaling-stroke%3B%20opacity%3A%201%3B%20stroke-width%3A%200px%3B%20fill%3A%20rgb(225%2C%2087%2C%2089)%3B%20fill-opacity%3A%201%3B%22%2F%3E%3C%2Fg%3E%3Cg%20class%3D%22point%22%3E%3Cpath%20d%3D%22M351.82%2C282V92.03H409.26V282Z%22%20style%3D%22vector-effect%3A%20non-scaling-stroke%3B%20opacity%3A%201%3B%20stroke-width%3A%200px%3B%20fill%3A%20rgb(225%2C%2087%2C%2089)%3B%20fill-opacity%3A%201%3B%22%2F%3E%3C%2Fg%3E%3Cg%20class%3D%22point%22%3E%3Cpath%20d%3D%22M567.22%2C282V157.03H624.66V282Z%22%20style%3D%22vector-effect%3A%20non-scaling-stroke%3B%20opacity%3A%201%3B%20stroke-width%3A%200px%3B%20fill%3A%20rgb(225%2C%2087%2C%2089)%3B%20fill-opacity%3A%201%3B%22%2F%3E%3C%2Fg%3E%3Cg%20class%3D%22point%22%3E%3Cpath%20d%3D%22M782.62%2C282V170.2H840.06V282Z%22%20style%3D%22vector-effect%3A%20non-scaling-stroke%3B%20opacity%3A%201%3B%20stroke-width%3A%200px%3B%20fill%3A%20rgb(225%2C%2087%2C%2089)%3B%20fill-opacity%3A%201%3B%22%2F%3E%3C%2Fg%3E%3Cg%20class%3D%22point%22%3E%3Cpath%20d%3D%22M998.02%2C282V172.1H1055.46V282Z%22%20style%3D%22vector-effect%3A%20non-scaling-stroke%3B%20opacity%3A%201%3B%20stroke-width%3A%200px%3B%20fill%3A%20rgb(225%2C%2087%2C%2089)%3B%20fill-opacity%3A%201%3B%22%2F%3E%3C%2Fg%3E%3C%2Fg%3E%3C%2Fg%3E%3C%2Fg%3E%3C%2Fg%3E%3Cg%20class%3D%22overplot%22%2F%3E%3Cpath%20class%3D%22xlines-above%20crisp%22%20style%3D%22fill%3A%20none%3B%20stroke-width%3A%201px%3B%20stroke%3A%20rgb(89%2C%2089%2C%2089)%3B%20stroke-opacity%3A%200.25%3B%22%20d%3D%22M79%2C312.5H1157%22%2F%3E%3Cpath%20class%3D%22ylines-above%20crisp%22%20style%3D%22fill%3A%20none%3B%20stroke-width%3A%201px%3B%20stroke%3A%20rgb(89%2C%2089%2C%2089)%3B%20stroke-opacity%3A%200.25%3B%22%20d%3D%22M79.5%2C30V312%22%2F%3E%3Cg%20class%3D%22overlines-above%22%2F%3E%3Cg%20class%3D%22xaxislayer-above%22%3E%3Cg%20class%3D%22xtick%22%3E%3Ctext%20text-anchor%3D%22middle%22%20x%3D%220%22%20y%3D%22327.4%22%20data-unformatted%3D%22Dummy%20Uniform%20Classifier%22%20data-math%3D%22N%22%20transform%3D%22translate(187.7%2C0)%22%20style%3D%22font-family%3A%20%26quot%3BOpen%20Sans%26quot%3B%2C%20verdana%2C%20arial%2C%20sans-serif%3B%20font-size%3A%2012px%3B%20fill%3A%20rgb(89%2C%2089%2C%2089)%3B%20fill-opacity%3A%201%3B%20white-space%3A%20pre%3B%22%3EDummy%20Uniform%20Classifier%3C%2Ftext%3E%3C%2Fg%3E%3Cg%20class%3D%22xtick%22%3E%3Ctext%20text-anchor%3D%22middle%22%20x%3D%220%22%20y%3D%22327.4%22%20data-unformatted%3D%22SVM%20Classifier%22%20data-math%3D%22N%22%20transform%3D%22translate(403.1%2C0)%22%20style%3D%22font-family%3A%20%26quot%3BOpen%20Sans%26quot%3B%2C%20verdana%2C%20arial%2C%20sans-serif%3B%20font-size%3A%2012px%3B%20fill%3A%20rgb(89%2C%2089%2C%2089)%3B%20fill-opacity%3A%201%3B%20white-space%3A%20pre%3B%22%3ESVM%20Classifier%3C%2Ftext%3E%3C%2Fg%3E%3Cg%20class%3D%22xtick%22%3E%3Ctext%20text-anchor%3D%22middle%22%20x%3D%220%22%20y%3D%22327.4%22%20data-unformatted%3D%22Logistic%20Regression%20Classifier%22%20data-math%3D%22N%22%20transform%3D%22translate(618.5%2C0)%22%20style%3D%22font-family%3A%20%26quot%3BOpen%20Sans%26quot%3B%2C%20verdana%2C%20arial%2C%20sans-serif%3B%20font-size%3A%2012px%3B%20fill%3A%20rgb(89%2C%2089%2C%2089)%3B%20fill-opacity%3A%201%3B%20white-space%3A%20pre%3B%22%3ELogistic%20Regression%20Classifier%3C%2Ftext%3E%3C%2Fg%3E%3Cg%20class%3D%22xtick%22%3E%3Ctext%20text-anchor%3D%22middle%22%20x%3D%220%22%20y%3D%22327.4%22%20data-unformatted%3D%22Naive%20Bayes%20Classifier%22%20data-math%3D%22N%22%20transform%3D%22translate(833.9%2C0)%22%20style%3D%22font-family%3A%20%26quot%3BOpen%20Sans%26quot%3B%2C%20verdana%2C%20arial%2C%20sans-serif%3B%20font-size%3A%2012px%3B%20fill%3A%20rgb(89%2C%2089%2C%2089)%3B%20fill-opacity%3A%201%3B%20white-space%3A%20pre%3B%22%3ENaive%20Bayes%20Classifier%3C%2Ftext%3E%3C%2Fg%3E%3Cg%20class%3D%22xtick%22%3E%3Ctext%20text-anchor%3D%22middle%22%20x%3D%220%22%20y%3D%22327.4%22%20data-unformatted%3D%22Base%22%20data-math%3D%22N%22%20transform%3D%22translate(1049.3%2C0)%22%20style%3D%22font-family%3A%20%26quot%3BOpen%20Sans%26quot%3B%2C%20verdana%2C%20arial%2C%20sans-serif%3B%20font-size%3A%2012px%3B%20fill%3A%20rgb(89%2C%2089%2C%2089)%3B%20fill-opacity%3A%201%3B%20white-space%3A%20pre%3B%22%3EBase%3C%2Ftext%3E%3C%2Fg%3E%3C%2Fg%3E%3Cg%20class%3D%22yaxislayer-above%22%3E%3Cg%20class%3D%22ytick%22%3E%3Ctext%20text-anchor%3D%22end%22%20x%3D%2276.6%22%20y%3D%224.199999999999999%22%20data-unformatted%3D%220%22%20data-math%3D%22N%22%20transform%3D%22translate(0%2C312)%22%20style%3D%22font-family%3A%20%26quot%3BOpen%20Sans%26quot%3B%2C%20verdana%2C%20arial%2C%20sans-serif%3B%20font-size%3A%2012px%3B%20fill%3A%20rgb(89%2C%2089%2C%2089)%3B%20fill-opacity%3A%201%3B%20white-space%3A%20pre%3B%22%3E0%3C%2Ftext%3E%3C%2Fg%3E%3Cg%20class%3D%22ytick%22%3E%3Ctext%20text-anchor%3D%22end%22%20x%3D%2276.6%22%20y%3D%224.199999999999999%22%20data-unformatted%3D%220.2M%22%20data-math%3D%22N%22%20transform%3D%22translate(0%2C273.95)%22%20style%3D%22font-family%3A%20%26quot%3BOpen%20Sans%26quot%3B%2C%20verdana%2C%20arial%2C%20sans-serif%3B%20font-size%3A%2012px%3B%20fill%3A%20rgb(89%2C%2089%2C%2089)%3B%20fill-opacity%3A%201%3B%20white-space%3A%20pre%3B%22%3E0.2M%3C%2Ftext%3E%3C%2Fg%3E%3Cg%20class%3D%22ytick%22%3E%3Ctext%20text-anchor%3D%22end%22%20x%3D%2276.6%22%20y%3D%224.199999999999999%22%20data-unformatted%3D%220.4M%22%20data-math%3D%22N%22%20transform%3D%22translate(0%2C235.89)%22%20style%3D%22font-family%3A%20%26quot%3BOpen%20Sans%26quot%3B%2C%20verdana%2C%20arial%2C%20sans-serif%3B%20font-size%3A%2012px%3B%20fill%3A%20rgb(89%2C%2089%2C%2089)%3B%20fill-opacity%3A%201%3B%20white-space%3A%20pre%3B%22%3E0.4M%3C%2Ftext%3E%3C%2Fg%3E%3Cg%20class%3D%22ytick%22%3E%3Ctext%20text-anchor%3D%22end%22%20x%3D%2276.6%22%20y%3D%224.199999999999999%22%20data-unformatted%3D%220.6M%22%20data-math%3D%22N%22%20transform%3D%22translate(0%2C197.84)%22%20style%3D%22font-family%3A%20%26quot%3BOpen%20Sans%26quot%3B%2C%20verdana%2C%20arial%2C%20sans-serif%3B%20font-size%3A%2012px%3B%20fill%3A%20rgb(89%2C%2089%2C%2089)%3B%20fill-opacity%3A%201%3B%20white-space%3A%20pre%3B%22%3E0.6M%3C%2Ftext%3E%3C%2Fg%3E%3Cg%20class%3D%22ytick%22%3E%3Ctext%20text-anchor%3D%22end%22%20x%3D%2276.6%22%20y%3D%224.199999999999999%22%20data-unformatted%3D%220.8M%22%20data-math%3D%22N%22%20transform%3D%22translate(0%2C159.78)%22%20style%3D%22font-family%3A%20%26quot%3BOpen%20Sans%26quot%3B%2C%20verdana%2C%20arial%2C%20sans-serif%3B%20font-size%3A%2012px%3B%20fill%3A%20rgb(89%2C%2089%2C%2089)%3B%20fill-opacity%3A%201%3B%20white-space%3A%20pre%3B%22%3E0.8M%3C%2Ftext%3E%3C%2Fg%3E%3Cg%20class%3D%22ytick%22%3E%3Ctext%20text-anchor%3D%22end%22%20x%3D%2276.6%22%20y%3D%224.199999999999999%22%20data-unformatted%3D%221M%22%20data-math%3D%22N%22%20transform%3D%22translate(0%2C121.73)%22%20style%3D%22font-family%3A%20%26quot%3BOpen%20Sans%26quot%3B%2C%20verdana%2C%20arial%2C%20sans-serif%3B%20font-size%3A%2012px%3B%20fill%3A%20rgb(89%2C%2089%2C%2089)%3B%20fill-opacity%3A%201%3B%20white-space%3A%20pre%3B%22%3E1M%3C%2Ftext%3E%3C%2Fg%3E%3Cg%20class%3D%22ytick%22%3E%3Ctext%20text-anchor%3D%22end%22%20x%3D%2276.6%22%20y%3D%224.199999999999999%22%20data-unformatted%3D%221.2M%22%20data-math%3D%22N%22%20transform%3D%22translate(0%2C83.68)%22%20style%3D%22font-family%3A%20%26quot%3BOpen%20Sans%26quot%3B%2C%20verdana%2C%20arial%2C%20sans-serif%3B%20font-size%3A%2012px%3B%20fill%3A%20rgb(89%2C%2089%2C%2089)%3B%20fill-opacity%3A%201%3B%20white-space%3A%20pre%3B%22%3E1.2M%3C%2Ftext%3E%3C%2Fg%3E%3Cg%20class%3D%22ytick%22%3E%3Ctext%20text-anchor%3D%22end%22%20x%3D%2276.6%22%20y%3D%224.199999999999999%22%20data-unformatted%3D%221.4M%22%20data-math%3D%22N%22%20transform%3D%22translate(0%2C45.62)%22%20style%3D%22font-family%3A%20%26quot%3BOpen%20Sans%26quot%3B%2C%20verdana%2C%20arial%2C%20sans-serif%3B%20font-size%3A%2012px%3B%20fill%3A%20rgb(89%2C%2089%2C%2089)%3B%20fill-opacity%3A%201%3B%20white-space%3A%20pre%3B%22%3E1.4M%3C%2Ftext%3E%3C%2Fg%3E%3C%2Fg%3E%3Cg%20class%3D%22overaxes-above%22%2F%3E%3C%2Fg%3E%3C%2Fg%3E%3Cg%20class%3D%22polarlayer%22%2F%3E%3Cg%20class%3D%22ternarylayer%22%2F%3E%3Cg%20class%3D%22geolayer%22%2F%3E%3Cg%20class%3D%22funnelarealayer%22%2F%3E%3Cg%20class%3D%22pielayer%22%2F%3E%3Cg%20class%3D%22treemaplayer%22%2F%3E%3Cg%20class%3D%22sunburstlayer%22%2F%3E%3Cg%20class%3D%22glimages%22%2F%3E%3Cdefs%20id%3D%22topdefs-518f3a%22%3E%3Cg%20class%3D%22clips%22%2F%3E%3CclipPath%20id%3D%22legend518f3a%22%3E%3Crect%20width%3D%22163%22%20height%3D%2287%22%20x%3D%220%22%20y%3D%220%22%2F%3E%3C%2FclipPath%3E%3C%2Fdefs%3E%3Cg%20class%3D%22indicatorlayer%22%2F%3E%3Cg%20class%3D%22layer-above%22%3E%3Cg%20class%3D%22imagelayer%22%2F%3E%3Cg%20class%3D%22shapelayer%22%2F%3E%3C%2Fg%3E%3Cg%20class%3D%22infolayer%22%3E%3Cg%20class%3D%22legend%22%20pointer-events%3D%22all%22%20transform%3D%22translate(1178.54%2C30)%22%3E%3Crect%20class%3D%22bg%22%20shape-rendering%3D%22crispEdges%22%20style%3D%22stroke%3A%20rgb(68%2C%2068%2C%2068)%3B%20stroke-opacity%3A%201%3B%20fill%3A%20rgb(255%2C%20255%2C%20255)%3B%20fill-opacity%3A%201%3B%20stroke-width%3A%200px%3B%22%20width%3D%22163%22%20height%3D%2287%22%20x%3D%220%22%20y%3D%220%22%2F%3E%3Cg%20class%3D%22scrollbox%22%20transform%3D%22%22%20clip-path%3D%22url('%23legend518f3a')%22%3E%3Cg%20class%3D%22groups%22%20transform%3D%22%22%3E%3Cg%20class%3D%22traces%22%20style%3D%22opacity%3A%201%3B%22%20transform%3D%22translate(0%2C14.5)%22%3E%3Ctext%20class%3D%22legendtext%22%20text-anchor%3D%22start%22%20x%3D%2240%22%20y%3D%224.680000000000001%22%20data-unformatted%3D%22Retention%20cost%22%20data-math%3D%22N%22%20style%3D%22font-family%3A%20%26quot%3BOpen%20Sans%26quot%3B%2C%20verdana%2C%20arial%2C%20sans-serif%3B%20font-size%3A%2012px%3B%20fill%3A%20rgb(89%2C%2089%2C%2089)%3B%20fill-opacity%3A%201%3B%20white-space%3A%20pre%3B%22%3ERetention%20cost%3C%2Ftext%3E%3Cg%20class%3D%22layers%22%20style%3D%22opacity%3A%201%3B%22%3E%3Cg%20class%3D%22legendfill%22%2F%3E%3Cg%20class%3D%22legendlines%22%2F%3E%3Cg%20class%3D%22legendsymbols%22%3E%3Cg%20class%3D%22legendpoints%22%3E%3Cpath%20class%3D%22legendundefined%22%20d%3D%22M6%2C6H-6V-6H6Z%22%20transform%3D%22translate(20%2C0)%22%20style%3D%22stroke-width%3A%200px%3B%20fill%3A%20rgb(78%2C%20121%2C%20167)%3B%20fill-opacity%3A%201%3B%22%2F%3E%3C%2Fg%3E%3C%2Fg%3E%3C%2Fg%3E%3Crect%20class%3D%22legendtoggle%22%20pointer-events%3D%22all%22%20x%3D%220%22%20y%3D%22-9.5%22%20width%3D%22157.34765625%22%20height%3D%2219%22%20style%3D%22cursor%3A%20pointer%3B%20fill%3A%20rgb(0%2C%200%2C%200)%3B%20fill-opacity%3A%200%3B%22%2F%3E%3C%2Fg%3E%3C%2Fg%3E%3Cg%20class%3D%22groups%22%20transform%3D%22translate(0%2C10)%22%3E%3Cg%20class%3D%22traces%22%20style%3D%22opacity%3A%201%3B%22%20transform%3D%22translate(0%2C33.5)%22%3E%3Ctext%20class%3D%22legendtext%22%20text-anchor%3D%22start%22%20x%3D%2240%22%20y%3D%224.680000000000001%22%20data-unformatted%3D%22New%20Customer%20cost%22%20data-math%3D%22N%22%20style%3D%22font-family%3A%20%26quot%3BOpen%20Sans%26quot%3B%2C%20verdana%2C%20arial%2C%20sans-serif%3B%20font-size%3A%2012px%3B%20fill%3A%20rgb(89%2C%2089%2C%2089)%3B%20fill-opacity%3A%201%3B%20white-space%3A%20pre%3B%22%3ENew%20Customer%20cost%3C%2Ftext%3E%3Cg%20class%3D%22layers%22%20style%3D%22opacity%3A%201%3B%22%3E%3Cg%20class%3D%22legendfill%22%2F%3E%3Cg%20class%3D%22legendlines%22%2F%3E%3Cg%20class%3D%22legendsymbols%22%3E%3Cg%20class%3D%22legendpoints%22%3E%3Cpath%20class%3D%22legendundefined%22%20d%3D%22M6%2C6H-6V-6H6Z%22%20transform%3D%22translate(20%2C0)%22%20style%3D%22stroke-width%3A%200px%3B%20fill%3A%20rgb(242%2C%20142%2C%2044)%3B%20fill-opacity%3A%201%3B%22%2F%3E%3C%2Fg%3E%3C%2Fg%3E%3C%2Fg%3E%3Crect%20class%3D%22legendtoggle%22%20pointer-events%3D%22all%22%20x%3D%220%22%20y%3D%22-9.5%22%20width%3D%22157.34765625%22%20height%3D%2219%22%20style%3D%22cursor%3A%20pointer%3B%20fill%3A%20rgb(0%2C%200%2C%200)%3B%20fill-opacity%3A%200%3B%22%2F%3E%3C%2Fg%3E%3C%2Fg%3E%3Cg%20class%3D%22groups%22%20transform%3D%22translate(0%2C20)%22%3E%3Cg%20class%3D%22traces%22%20style%3D%22opacity%3A%201%3B%22%20transform%3D%22translate(0%2C52.5)%22%3E%3Ctext%20class%3D%22legendtext%22%20text-anchor%3D%22start%22%20x%3D%2240%22%20y%3D%224.680000000000001%22%20data-unformatted%3D%22Saving%22%20data-math%3D%22N%22%20style%3D%22font-family%3A%20%26quot%3BOpen%20Sans%26quot%3B%2C%20verdana%2C%20arial%2C%20sans-serif%3B%20font-size%3A%2012px%3B%20fill%3A%20rgb(89%2C%2089%2C%2089)%3B%20fill-opacity%3A%201%3B%20white-space%3A%20pre%3B%22%3ESaving%3C%2Ftext%3E%3Cg%20class%3D%22layers%22%20style%3D%22opacity%3A%201%3B%22%3E%3Cg%20class%3D%22legendfill%22%2F%3E%3Cg%20class%3D%22legendlines%22%2F%3E%3Cg%20class%3D%22legendsymbols%22%3E%3Cg%20class%3D%22legendpoints%22%3E%3Cpath%20class%3D%22legendundefined%22%20d%3D%22M6%2C6H-6V-6H6Z%22%20transform%3D%22translate(20%2C0)%22%20style%3D%22stroke-width%3A%200px%3B%20fill%3A%20rgb(225%2C%2087%2C%2089)%3B%20fill-opacity%3A%201%3B%22%2F%3E%3C%2Fg%3E%3C%2Fg%3E%3C%2Fg%3E%3Crect%20class%3D%22legendtoggle%22%20pointer-events%3D%22all%22%20x%3D%220%22%20y%3D%22-9.5%22%20width%3D%22157.34765625%22%20height%3D%2219%22%20style%3D%22cursor%3A%20pointer%3B%20fill%3A%20rgb(0%2C%200%2C%200)%3B%20fill-opacity%3A%200%3B%22%2F%3E%3C%2Fg%3E%3C%2Fg%3E%3C%2Fg%3E%3Crect%20class%3D%22scrollbar%22%20rx%3D%2220%22%20ry%3D%223%22%20width%3D%220%22%20height%3D%220%22%20style%3D%22fill%3A%20rgb(128%2C%20139%2C%20164)%3B%20fill-opacity%3A%201%3B%22%20x%3D%220%22%20y%3D%220%22%2F%3E%3C%2Fg%3E%3Cg%20class%3D%22g-gtitle%22%2F%3E%3Cg%20class%3D%22g-xtitle%22%2F%3E%3Cg%20class%3D%22g-ytitle%22%2F%3E%3C%2Fg%3E%3Cg%20class%3D%22menulayer%22%2F%3E%3Cg%20class%3D%22zoomlayer%22%2F%3E%3Cg%20class%3D%22hoverlayer%22%2F%3E%3C%2Fsvg%3E\">"
      ],
      "text/plain": [
       "Open the notebook in JupyterLab with the Atoti extension enabled to build this widget."
      ]
     },
     "metadata": {},
     "output_type": "display_data"
    }
   ],
   "source": [
    "session.visualize(\"Cost to maintain 90% NRR\")"
   ]
  },
  {
   "cell_type": "markdown",
   "metadata": {},
   "source": [
    "#### Reality check\n",
    "\n",
    "Now let's compare our prediction against the actual churn results.\n",
    "\n",
    "We assume that those who we attempt to retain did not churn, the retention campaign is successful.  \n",
    "However, there are those who we didn't predict they will churn, and in fact churned.  \n",
    "We compute the new revenue lost on these assumption and understanding."
   ]
  },
  {
   "cell_type": "code",
   "execution_count": 45,
   "metadata": {},
   "outputs": [],
   "source": [
    "# Churned customers that were not targeted by the campaign\n",
    "# we know the actual amount that was lost through the lost of these customers\n",
    "m[\"After Campaign RR Loss\"] = tt.agg.sum(\n",
    "    tt.where(\n",
    "        m[\"Retention cost\"] == 100,\n",
    "        0,\n",
    "        tt.where(l[\"Churn\"] == \"Yes\", m[\"MonthlyCharges.SUM\"], 0),\n",
    "    ),\n",
    "    scope=tt.OriginScope(l[\"CustomerID\"], l[\"Churn\"]),\n",
    ")\n",
    "\n",
    "m[\"After Campaign NRR\"] = (m[\"MRR Initial\"] - m[\"After Campaign RR Loss\"]) / m[\n",
    "    \"MRR Initial\"\n",
    "]"
   ]
  },
  {
   "cell_type": "markdown",
   "metadata": {},
   "source": [
    "In the table below, we see that NRR across the different prediction is above 80%, with _SVM Classifier_ retaining the most revenue (ignoring the base scenario).  \n",
    "However, it also incurrs the most expenses in retention which we saw earlier. This could be explained by the fact that it has a larger Predicted Churn Overflow  of 2,496 compared to the rest.  \n",
    "This greatly increases the chances of identifying the correct customer who will churn compared to the rest of the prediction models."
   ]
  },
  {
   "cell_type": "code",
   "execution_count": 46,
   "metadata": {
    "atoti": {
     "height": 258,
     "widget": {
      "columnWidths": {
       "[Epoch].[Epoch].[Branch]": 170,
       "[Measures].[Actual RR Loss - After Campaign RR Loss]": 119,
       "[Measures].[Actual RR Loss]": 101,
       "[Measures].[After Campaign NRR (1)]": 134,
       "[Measures].[After Campaign RR Loss]": 151,
       "[Measures].[MRR Initial]": 81,
       "[Measures].[NRR (1)]": 75.34375,
       "[Measures].[NRR - After Campaign NRR]": 107
      },
      "filters": [],
      "mapping": {
       "columns": [
        "ALL_MEASURES"
       ],
       "measures": [
        "[Measures].[MRR Initial]",
        "[Measures].[Actual RR Loss]",
        "[Measures].[After Campaign RR Loss]",
        "[Measures].[Actual RR Loss - After Campaign RR Loss]",
        "[Measures].[NRR (1)]",
        "[Measures].[After Campaign NRR (1)]",
        "[Measures].[NRR - After Campaign NRR]"
       ],
       "rows": [
        "[Epoch].[Epoch].[Branch]"
       ]
      },
      "name": "NRR after retention effort",
      "query": {
       "context": {
        "queriesResultLimit.intermediateSize": 1000000,
        "queriesResultLimit.transientSize": 10000000
       },
       "mdx": "WITH  Member [Measures].[NRR - After Campaign NRR] AS [Measures].[After Campaign NRR] - [Measures].[NRR], CAPTION = \"Increase in NRR\", FORMAT_STRING = \"#,###.000\"    Member [Measures].[After Campaign NRR (1)] AS [Measures].[After Campaign NRR], FORMAT_STRING = \"#,###.000\", CAPTION = [Measures].[After Campaign NRR].MEMBER_CAPTION    Member [Measures].[NRR (1)] AS [Measures].[NRR], FORMAT_STRING = \"#,###.000\", CAPTION = [Measures].[NRR].MEMBER_CAPTION    Member [Measures].[Actual RR Loss - After Campaign RR Loss] AS [Measures].[Actual RR Loss] - [Measures].[After Campaign RR Loss], CAPTION = \"Revenue Retained\", FORMAT_STRING = \"#,###.00\"  SELECT NON EMPTY Union(Hierarchize([Epoch].[Epoch].[Branch].Members), [Epoch].[Epoch].[Branch].Members) ON ROWS, NON EMPTY {[Measures].[MRR Initial], [Measures].[Actual RR Loss], [Measures].[After Campaign RR Loss], [Measures].[NRR (1)], [Measures].[After Campaign NRR (1)], [Measures].[NRR - After Campaign NRR], [Measures].[Actual RR Loss - After Campaign RR Loss]} ON COLUMNS FROM [customer_cube] CELL PROPERTIES BACK_COLOR, FONT_FLAGS, FORE_COLOR, FORMATTED_VALUE, VALUE"
      },
      "serverKey": "default",
      "widgetKey": "pivot-table"
     }
    }
   },
   "outputs": [
    {
     "data": {
      "application/vnd.atoti.widget.v0+json": {
       "name": "NRR after retention effort",
       "sessionId": "1685413173_PPEYJT",
       "sessionLocation": {
        "https": false,
        "port": 58900
       },
       "widgetCreationCode": "session.visualize()"
      },
      "text/html": [
       "<img src=\"data:image/svg+xml;charset=utf8,%3C%3Fxml%20version%3D%221.0%22%20standalone%3D%22no%22%3F%3E%3Csvg%20xmlns%3D%22http%3A%2F%2Fwww.w3.org%2F2000%2Fsvg%22%20height%3D%22250%22%20width%3D%221342%22%3E%3CforeignObject%20width%3D%22100%25%22%20height%3D%22100%25%22%20x%3D%220%22%20y%3D%220%22%3E%3Cstyle%20xmlns%3D%22http%3A%2F%2Fwww.w3.org%2F1999%2Fxhtml%22%20type%3D%22text%2Fcss%22%3E*%2C%20%3A%3Abefore%2C%20%3A%3Aafter%20%7Bbox-sizing%3A%20unset%7D%0A.ant-root%20%5Bclass%5E%3D%22ant-%22%5D%2C%20.ant-root%20%5Bclass*%3D%22ant-%22%5D%2C%20.ant-root%20%5Bclass%5E%3D%22ant-%22%5D%20*%2C%20.ant-root%20%5Bclass*%3D%22ant-%22%5D%20*%2C%20.ant-root%20%5Bclass%5E%3D%22ant-%22%5D%20%3A%3Abefore%2C%20.ant-root%20%5Bclass*%3D%22ant-%22%5D%20%3A%3Abefore%2C%20.ant-root%20%5Bclass%5E%3D%22ant-%22%5D%20%3A%3Aafter%2C%20.ant-root%20%5Bclass*%3D%22ant-%22%5D%20%3A%3Aafter%20%7Bbox-sizing%3A%20border-box%7D%0A.ant-root%2C%20.ant-root%20%7Bwidth%3A%20100%25%3B%20height%3A%20100%25%7D%0A.ant-root%20*%2C%20.ant-root%20%3A%3Abefore%2C%20.ant-root%20%3A%3Aafter%20%7Bbox-sizing%3A%20border-box%7D%0A.ant-root%20%7Btext-size-adjust%3A%20100%25%3B%20-webkit-tap-highlight-color%3A%20rgba(0%2C%200%2C%200%2C%200)%3B%20font-family%3A%20-apple-system%2C%20BlinkMacSystemFont%2C%20%22Segoe%20UI%22%2C%20Roboto%2C%20%22Helvetica%20Neue%22%2C%20Arial%2C%20%22Noto%20Sans%22%2C%20sans-serif%2C%20%22Apple%20Color%20Emoji%22%2C%20%22Segoe%20UI%20Emoji%22%2C%20%22Segoe%20UI%20Symbol%22%2C%20%22Noto%20Color%20Emoji%22%3B%20line-height%3A%201.66667%3B%20color%3A%20rgb(89%2C%2089%2C%2089)%3B%20font-variant-ligatures%3A%20normal%3B%20font-variant-numeric%3A%20tabular-nums%3B%20font-variant-east-asian%3A%20normal%3B%20font-variant-caps%3A%20normal%3B%20font-variant-alternates%3A%20normal%3B%20background-color%3A%20rgb(255%2C%20255%2C%20255)%3B%20margin-top%3A%200px%3B%20margin-right%3A%200px%3B%20margin-bottom%3A%200px%3B%20margin-left%3A%200px%3B%20font-size%3A%2012px%3B%20--antd-wave-shadow-color%3A%20%231890ff%3B%20--scroll-bar%3A%200%7D%0A.ant-root%20.aui-invisible-scrollbars%20%7B%7D%0A.css-12ebr42-AWidget%20%7Bheight%3A%20100%25%7D%0A.css-1b1raxz-DefaultWidgetLoadingOverlay%20%7Bdisplay%3A%20flex%3B%20height%3A%20100%25%3B%20-webkit-box-pack%3A%20center%3B%20justify-content%3A%20center%3B%20position%3A%20absolute%3B%20width%3A%20100%25%3B%20-webkit-box-align%3A%20center%3B%20align-items%3A%20center%3B%20pointer-events%3A%20none%3B%20z-index%3A%202%7D%0A.css-34a2ml-DefaultWidgetLoadingOverlay%20%7Bbackground-image%3A%20initial%3B%20background-position-x%3A%20initial%3B%20background-position-y%3A%20initial%3B%20background-size%3A%20initial%3B%20background-repeat-x%3A%20initial%3B%20background-repeat-y%3A%20initial%3B%20background-attachment%3A%20initial%3B%20background-origin%3A%20initial%3B%20background-clip%3A%20initial%3B%20background-color%3A%20transparent%3B%20width%3A%20calc(100%25%20-%204px)%3B%20height%3A%20calc(100%25%20-%204px)%7D%0A.css-2p9ued-WidgetLoadingOverlay%20%7Bheight%3A%20100%25%3B%20position%3A%20relative%7D%0A.css-1hwl8p1-Table%20%7Bpadding-bottom%3A%202px%3B%20padding-right%3A%202px%3B%20height%3A%20100%25%7D%0A.css-14ejcn0-Table%20%7Bheight%3A%20calc(100%25%20-%2030px)%3B%20outline-color%3A%20initial%3B%20outline-style%3A%20none%3B%20outline-width%3A%20initial%3B%20position%3A%20relative%7D%0A.css-1rxpjm0-ColumnResizeHint%20%7Bdisplay%3A%20none%3B%20position%3A%20absolute%3B%20z-index%3A%201%7D%0A.css-walxhl-ColumnResizeHint%20%7Bheight%3A%2028px%3B%20background-color%3A%20rgb(24%2C%20144%2C%20255)%3B%20width%3A%205px%7D%0A.css-1uww2vi-Table%20%7Bheight%3A%2030px%3B%20text-align%3A%20right%3B%20padding-right%3A%2025px%7D%0A.css-xxcrt1-ResizableCell%20%7Bbackground-image%3A%20initial%3B%20background-position-x%3A%20initial%3B%20background-position-y%3A%20initial%3B%20background-size%3A%20initial%3B%20background-repeat-x%3A%20initial%3B%20background-repeat-y%3A%20initial%3B%20background-attachment%3A%20initial%3B%20background-origin%3A%20initial%3B%20background-clip%3A%20initial%3B%20background-color%3A%20transparent%3B%20cursor%3A%20col-resize%3B%20height%3A%20100%25%3B%20position%3A%20absolute%3B%20right%3A%200px%3B%20width%3A%205px%3B%20z-index%3A%201%7D%0A.css-o2x73c-ColumnResizeHint%20%7Bdisplay%3A%20none%3B%20float%3A%20right%3B%20height%3A%20190px%3B%20background-color%3A%20rgb(24%2C%20144%2C%20255)%3B%20opacity%3A%200.4%3B%20width%3A%202px%7D%0A.css-1h4tvo4-Table%20%7Bdisplay%3A%20flex%3B%20height%3A%20218px%7D%0A.css-19rqym0-Table%20%7Bborder-collapse%3A%20collapse%3B%20height%3A%2028px%3B%20width%3A%20170px%7D%0A.css-1eorwt1%20%7Bheight%3A%2028px%3B%20width%3A%20170px%7D%0A.css-159rhol%20%7Bcursor%3A%20cell%3B%20height%3A%2028px%3B%20overflow-x%3A%20hidden%3B%20overflow-y%3A%20hidden%3B%20position%3A%20relative%3B%20width%3A%20170px%3B%20border-right-width%3A%202px%3B%20border-right-style%3A%20solid%3B%20border-right-color%3A%20rgb(233%2C%20233%2C%20233)%7D%0A.css-107wbdi-ResizableCell%20%7Bdisplay%3A%20flex%3B%20flex-direction%3A%20column%3B%20position%3A%20absolute%3B%20top%3A%200px%3B%20left%3A%200px%3B%20height%3A%2028px%3B%20width%3A%20170px%7D%0A.css-pu49t7%20%7Bheight%3A%20190px%3B%20width%3A%20170px%3B%20overflow-x%3A%20hidden%3B%20overflow-y%3A%20auto%7D%0A.css-atsg2c%20%7Bcursor%3A%20cell%3B%20height%3A%20140px%3B%20overflow-x%3A%20hidden%3B%20overflow-y%3A%20hidden%3B%20position%3A%20relative%3B%20width%3A%20170px%3B%20border-top-width%3A%202px%3B%20border-top-style%3A%20solid%3B%20border-top-color%3A%20rgb(233%2C%20233%2C%20233)%3B%20border-right-width%3A%202px%3B%20border-right-style%3A%20solid%3B%20border-right-color%3A%20rgb(233%2C%20233%2C%20233)%7D%0A.css-y6iw6o-Table%20%7Bwidth%3A%201170px%3B%20border-collapse%3A%20collapse%7D%0A.css-u4zxy4%20%7Bheight%3A%2028px%3B%20width%3A%201152px%3B%20overflow-x%3A%20auto%3B%20overflow-y%3A%20hidden%7D%0A.css-8dkaxl%20%7Bcursor%3A%20cell%3B%20height%3A%2028px%3B%20overflow-x%3A%20hidden%3B%20overflow-y%3A%20hidden%3B%20position%3A%20relative%3B%20width%3A%20768.344px%7D%0A.css-fcqn58-ResizableCell%20%7Bdisplay%3A%20flex%3B%20flex-direction%3A%20column%3B%20position%3A%20absolute%3B%20top%3A%200px%3B%20left%3A%200px%3B%20height%3A%2028px%3B%20width%3A%2081px%7D%0A.css-f07qwr-ResizableCell%20%7Bdisplay%3A%20flex%3B%20flex-direction%3A%20column%3B%20position%3A%20absolute%3B%20top%3A%200px%3B%20left%3A%2081px%3B%20height%3A%2028px%3B%20width%3A%20101px%7D%0A.css-1s3eybe-ResizableCell%20%7Bdisplay%3A%20flex%3B%20flex-direction%3A%20column%3B%20position%3A%20absolute%3B%20top%3A%200px%3B%20left%3A%20182px%3B%20height%3A%2028px%3B%20width%3A%20151px%7D%0A.css-opbvv3-ResizableCell%20%7Bdisplay%3A%20flex%3B%20flex-direction%3A%20column%3B%20position%3A%20absolute%3B%20top%3A%200px%3B%20left%3A%20333px%3B%20height%3A%2028px%3B%20width%3A%2075.3438px%7D%0A.css-1h0i1c8-ResizableCell%20%7Bdisplay%3A%20flex%3B%20flex-direction%3A%20column%3B%20position%3A%20absolute%3B%20top%3A%200px%3B%20left%3A%20408.344px%3B%20height%3A%2028px%3B%20width%3A%20134px%7D%0A.css-1tthjod-ResizableCell%20%7Bdisplay%3A%20flex%3B%20flex-direction%3A%20column%3B%20position%3A%20absolute%3B%20top%3A%200px%3B%20left%3A%20542.344px%3B%20height%3A%2028px%3B%20width%3A%20107px%7D%0A.css-10uoqu4-ResizableCell%20%7Bdisplay%3A%20flex%3B%20flex-direction%3A%20column%3B%20position%3A%20absolute%3B%20top%3A%200px%3B%20left%3A%20649.344px%3B%20height%3A%2028px%3B%20width%3A%20119px%7D%0A.css-nbdbbb%20%7Bheight%3A%20190px%3B%20width%3A%201170px%3B%20overflow-x%3A%20auto%3B%20overflow-y%3A%20auto%7D%0A.css-l1o18%20%7Bcursor%3A%20cell%3B%20height%3A%20140px%3B%20overflow-x%3A%20hidden%3B%20overflow-y%3A%20hidden%3B%20position%3A%20relative%3B%20width%3A%20768.344px%3B%20border-top-width%3A%202px%3B%20border-top-style%3A%20solid%3B%20border-top-color%3A%20rgb(233%2C%20233%2C%20233)%7D%0A*%20%7B-ms-overflow-style%3A%20none%3B%20scrollbar-width%3A%20none%7D%0A*%3A%3A-webkit-scrollbar%20%7Bdisplay%3A%20none%7D%0A.atoti-hidden-in-snapshot%20%7Bdisplay%3A%20none%7D%3C%2Fstyle%3E%3Cdiv%20xmlns%3D%22http%3A%2F%2Fwww.w3.org%2F1999%2Fxhtml%22%20style%3D%22height%3A%20250px%3B%20width%3A%201342px%3B%22%3E%3Cdiv%20class%3D%22ant-root%20css-0%22%3E%3Cdiv%20class%3D%22ant-dropdown-trigger%20css-12ebr42-AWidget%22%3E%3Cdiv%20class%3D%22css-2p9ued-WidgetLoadingOverlay%22%3E%3Cdiv%20class%3D%22css-1b1raxz-DefaultWidgetLoadingOverlay%22%3E%3Cdiv%20class%3D%22css-34a2ml-DefaultWidgetLoadingOverlay%22%3E%3C%2Fdiv%3E%3C%2Fdiv%3E%3Cdiv%20class%3D%22css-1hwl8p1-Table%22%3E%3Cdiv%20tabindex%3D%220%22%20class%3D%22css-14ejcn0-Table%22%3E%3Cdiv%20class%3D%22css-1rxpjm0-ColumnResizeHint%22%3E%3Cdiv%20class%3D%22css-walxhl-ColumnResizeHint%22%3E%3C%2Fdiv%3E%3Cdiv%20class%3D%22css-o2x73c-ColumnResizeHint%22%3E%3C%2Fdiv%3E%3C%2Fdiv%3E%3Cdiv%20class%3D%22css-1h4tvo4-Table%22%3E%3Cdiv%20class%3D%22css-19rqym0-Table%22%3E%3Cdiv%20class%3D%22%20css-1eorwt1%22%3E%3Cdiv%20class%3D%22css-159rhol%22%3E%3Cdiv%20class%3D%22css-107wbdi-ResizableCell%22%3E%3Cdiv%20class%3D%22aui-table-cell%22%20style%3D%22height%3A%2028px%3B%20left%3A%200px%3B%20top%3A%200px%3B%20width%3A%20165px%3B%20text-align%3A%20left%3B%20font-size%3A%2012px%3B%20padding%3A%204px%204px%203px%3B%20overflow%3A%20hidden%3B%20position%3A%20absolute%3B%20white-space%3A%20nowrap%3B%20text-overflow%3A%20ellipsis%3B%20font-weight%3A%20600%3B%20display%3A%20flex%3B%20align-items%3A%20center%3B%22%3E%3Cspan%3EScenario%3C%2Fspan%3E%3C%2Fdiv%3E%3Cdiv%20class%3D%22css-xxcrt1-ResizableCell%22%3E%3C%2Fdiv%3E%3C%2Fdiv%3E%3C%2Fdiv%3E%3C%2Fdiv%3E%3Cdiv%20class%3D%22aui-invisible-scrollbars%20css-pu49t7%22%3E%3Cdiv%20class%3D%22css-atsg2c%22%3E%3Cdiv%20style%3D%22display%3A%20flex%3B%20align-items%3A%20center%3B%20height%3A%2028px%3B%20left%3A%200px%3B%20top%3A%200px%3B%20width%3A%20170px%3B%20text-align%3A%20left%3B%20font-size%3A%2012px%3B%20padding%3A%204px%204px%203px%3B%20overflow%3A%20hidden%3B%20position%3A%20absolute%3B%20white-space%3A%20nowrap%3B%20text-overflow%3A%20ellipsis%3B%20border-right%3A%202px%20solid%20rgb(233%2C%20233%2C%20233)%3B%20background-color%3A%20transparent%3B%22%3E%3Cspan%20style%3D%22text-overflow%3A%20ellipsis%3B%20overflow%3A%20hidden%3B%20white-space%3A%20nowrap%3B%20max-width%3A%20calc((100%25%20-%200px)%20-%200px)%3B%22%3EBase%3C%2Fspan%3E%3C%2Fdiv%3E%3Cdiv%20style%3D%22display%3A%20flex%3B%20align-items%3A%20center%3B%20height%3A%2028px%3B%20left%3A%200px%3B%20top%3A%2028px%3B%20width%3A%20170px%3B%20text-align%3A%20left%3B%20font-size%3A%2012px%3B%20padding%3A%204px%204px%203px%3B%20overflow%3A%20hidden%3B%20position%3A%20absolute%3B%20white-space%3A%20nowrap%3B%20text-overflow%3A%20ellipsis%3B%20border-right%3A%202px%20solid%20rgb(233%2C%20233%2C%20233)%3B%20background-color%3A%20rgb(250%2C%20250%2C%20250)%3B%22%3E%3Cspan%20style%3D%22text-overflow%3A%20ellipsis%3B%20overflow%3A%20hidden%3B%20white-space%3A%20nowrap%3B%20max-width%3A%20calc((100%25%20-%200px)%20-%200px)%3B%22%3EDummy%20Uniform%20Classifier%3C%2Fspan%3E%3C%2Fdiv%3E%3Cdiv%20style%3D%22display%3A%20flex%3B%20align-items%3A%20center%3B%20height%3A%2028px%3B%20left%3A%200px%3B%20top%3A%2056px%3B%20width%3A%20170px%3B%20text-align%3A%20left%3B%20font-size%3A%2012px%3B%20padding%3A%204px%204px%203px%3B%20overflow%3A%20hidden%3B%20position%3A%20absolute%3B%20white-space%3A%20nowrap%3B%20text-overflow%3A%20ellipsis%3B%20border-right%3A%202px%20solid%20rgb(233%2C%20233%2C%20233)%3B%20background-color%3A%20transparent%3B%22%3E%3Cspan%20style%3D%22text-overflow%3A%20ellipsis%3B%20overflow%3A%20hidden%3B%20white-space%3A%20nowrap%3B%20max-width%3A%20calc((100%25%20-%200px)%20-%200px)%3B%22%3ELogistic%20Regression%20Classifier%3C%2Fspan%3E%3C%2Fdiv%3E%3Cdiv%20style%3D%22display%3A%20flex%3B%20align-items%3A%20center%3B%20height%3A%2028px%3B%20left%3A%200px%3B%20top%3A%2084px%3B%20width%3A%20170px%3B%20text-align%3A%20left%3B%20font-size%3A%2012px%3B%20padding%3A%204px%204px%203px%3B%20overflow%3A%20hidden%3B%20position%3A%20absolute%3B%20white-space%3A%20nowrap%3B%20text-overflow%3A%20ellipsis%3B%20border-right%3A%202px%20solid%20rgb(233%2C%20233%2C%20233)%3B%20background-color%3A%20rgb(250%2C%20250%2C%20250)%3B%22%3E%3Cspan%20style%3D%22text-overflow%3A%20ellipsis%3B%20overflow%3A%20hidden%3B%20white-space%3A%20nowrap%3B%20max-width%3A%20calc((100%25%20-%200px)%20-%200px)%3B%22%3ENaive%20Bayes%20Classifier%3C%2Fspan%3E%3C%2Fdiv%3E%3Cdiv%20style%3D%22display%3A%20flex%3B%20align-items%3A%20center%3B%20height%3A%2028px%3B%20left%3A%200px%3B%20top%3A%20112px%3B%20width%3A%20170px%3B%20text-align%3A%20left%3B%20font-size%3A%2012px%3B%20padding%3A%204px%204px%203px%3B%20overflow%3A%20hidden%3B%20position%3A%20absolute%3B%20white-space%3A%20nowrap%3B%20text-overflow%3A%20ellipsis%3B%20border-right%3A%202px%20solid%20rgb(233%2C%20233%2C%20233)%3B%20background-color%3A%20transparent%3B%22%3E%3Cspan%20style%3D%22text-overflow%3A%20ellipsis%3B%20overflow%3A%20hidden%3B%20white-space%3A%20nowrap%3B%20max-width%3A%20calc((100%25%20-%200px)%20-%200px)%3B%22%3ESVM%20Classifier%3C%2Fspan%3E%3C%2Fdiv%3E%3C%2Fdiv%3E%3C%2Fdiv%3E%3C%2Fdiv%3E%3Cdiv%20class%3D%22css-y6iw6o-Table%22%3E%3Cdiv%20class%3D%22aui-invisible-scrollbars%20css-u4zxy4%22%3E%3Cdiv%20class%3D%22css-8dkaxl%22%3E%3Cdiv%20class%3D%22css-fcqn58-ResizableCell%22%3E%3Cdiv%20style%3D%22display%3A%20flex%3B%20align-items%3A%20center%3B%20height%3A%2028px%3B%20left%3A%200px%3B%20top%3A%200px%3B%20width%3A%2076px%3B%20text-align%3A%20left%3B%20font-size%3A%2012px%3B%20padding%3A%204px%204px%203px%3B%20overflow%3A%20hidden%3B%20position%3A%20absolute%3B%20white-space%3A%20nowrap%3B%20text-overflow%3A%20ellipsis%3B%20font-weight%3A%20600%3B%22%3E%3Cspan%20style%3D%22text-overflow%3A%20ellipsis%3B%20overflow%3A%20hidden%3B%20white-space%3A%20nowrap%3B%20max-width%3A%20calc((100%25%20-%200px)%20-%200px)%3B%22%3EMRR%20Initial%3C%2Fspan%3E%3C%2Fdiv%3E%3Cdiv%20class%3D%22css-xxcrt1-ResizableCell%22%3E%3C%2Fdiv%3E%3C%2Fdiv%3E%3Cdiv%20class%3D%22css-f07qwr-ResizableCell%22%3E%3Cdiv%20style%3D%22display%3A%20flex%3B%20align-items%3A%20center%3B%20height%3A%2028px%3B%20left%3A%200px%3B%20top%3A%200px%3B%20width%3A%2096px%3B%20text-align%3A%20left%3B%20font-size%3A%2012px%3B%20padding%3A%204px%204px%203px%3B%20overflow%3A%20hidden%3B%20position%3A%20absolute%3B%20white-space%3A%20nowrap%3B%20text-overflow%3A%20ellipsis%3B%20font-weight%3A%20600%3B%22%3E%3Cspan%20style%3D%22text-overflow%3A%20ellipsis%3B%20overflow%3A%20hidden%3B%20white-space%3A%20nowrap%3B%20max-width%3A%20calc((100%25%20-%200px)%20-%200px)%3B%22%3EActual%20RR%20Loss%3C%2Fspan%3E%3C%2Fdiv%3E%3Cdiv%20class%3D%22css-xxcrt1-ResizableCell%22%3E%3C%2Fdiv%3E%3C%2Fdiv%3E%3Cdiv%20class%3D%22css-1s3eybe-ResizableCell%22%3E%3Cdiv%20style%3D%22display%3A%20flex%3B%20align-items%3A%20center%3B%20height%3A%2028px%3B%20left%3A%200px%3B%20top%3A%200px%3B%20width%3A%20146px%3B%20text-align%3A%20left%3B%20font-size%3A%2012px%3B%20padding%3A%204px%204px%203px%3B%20overflow%3A%20hidden%3B%20position%3A%20absolute%3B%20white-space%3A%20nowrap%3B%20text-overflow%3A%20ellipsis%3B%20font-weight%3A%20600%3B%22%3E%3Cspan%20style%3D%22text-overflow%3A%20ellipsis%3B%20overflow%3A%20hidden%3B%20white-space%3A%20nowrap%3B%20max-width%3A%20calc((100%25%20-%200px)%20-%200px)%3B%22%3EAfter%20Campaign%20RR%20Loss%3C%2Fspan%3E%3C%2Fdiv%3E%3Cdiv%20class%3D%22css-xxcrt1-ResizableCell%22%3E%3C%2Fdiv%3E%3C%2Fdiv%3E%3Cdiv%20class%3D%22css-opbvv3-ResizableCell%22%3E%3Cdiv%20style%3D%22display%3A%20flex%3B%20align-items%3A%20center%3B%20height%3A%2028px%3B%20left%3A%200px%3B%20top%3A%200px%3B%20width%3A%2070.3438px%3B%20text-align%3A%20left%3B%20font-size%3A%2012px%3B%20padding%3A%204px%204px%203px%3B%20overflow%3A%20hidden%3B%20position%3A%20absolute%3B%20white-space%3A%20nowrap%3B%20text-overflow%3A%20ellipsis%3B%20font-weight%3A%20600%3B%22%3E%3Cspan%20style%3D%22text-overflow%3A%20ellipsis%3B%20overflow%3A%20hidden%3B%20white-space%3A%20nowrap%3B%20max-width%3A%20calc((100%25%20-%200px)%20-%200px)%3B%22%3ENRR%3C%2Fspan%3E%3C%2Fdiv%3E%3Cdiv%20class%3D%22css-xxcrt1-ResizableCell%22%3E%3C%2Fdiv%3E%3C%2Fdiv%3E%3Cdiv%20class%3D%22css-1h0i1c8-ResizableCell%22%3E%3Cdiv%20style%3D%22display%3A%20flex%3B%20align-items%3A%20center%3B%20height%3A%2028px%3B%20left%3A%200px%3B%20top%3A%200px%3B%20width%3A%20129px%3B%20text-align%3A%20left%3B%20font-size%3A%2012px%3B%20padding%3A%204px%204px%203px%3B%20overflow%3A%20hidden%3B%20position%3A%20absolute%3B%20white-space%3A%20nowrap%3B%20text-overflow%3A%20ellipsis%3B%20font-weight%3A%20600%3B%22%3E%3Cspan%20style%3D%22text-overflow%3A%20ellipsis%3B%20overflow%3A%20hidden%3B%20white-space%3A%20nowrap%3B%20max-width%3A%20calc((100%25%20-%200px)%20-%200px)%3B%22%3EAfter%20Campaign%20NRR%3C%2Fspan%3E%3C%2Fdiv%3E%3Cdiv%20class%3D%22css-xxcrt1-ResizableCell%22%3E%3C%2Fdiv%3E%3C%2Fdiv%3E%3Cdiv%20class%3D%22css-1tthjod-ResizableCell%22%3E%3Cdiv%20style%3D%22display%3A%20flex%3B%20align-items%3A%20center%3B%20height%3A%2028px%3B%20left%3A%200px%3B%20top%3A%200px%3B%20width%3A%20102px%3B%20text-align%3A%20left%3B%20font-size%3A%2012px%3B%20padding%3A%204px%204px%203px%3B%20overflow%3A%20hidden%3B%20position%3A%20absolute%3B%20white-space%3A%20nowrap%3B%20text-overflow%3A%20ellipsis%3B%20font-weight%3A%20600%3B%22%3E%3Cspan%20style%3D%22text-overflow%3A%20ellipsis%3B%20overflow%3A%20hidden%3B%20white-space%3A%20nowrap%3B%20max-width%3A%20calc((100%25%20-%200px)%20-%200px)%3B%22%3EIncrease%20in%20NRR%3C%2Fspan%3E%3C%2Fdiv%3E%3Cdiv%20class%3D%22css-xxcrt1-ResizableCell%22%3E%3C%2Fdiv%3E%3C%2Fdiv%3E%3Cdiv%20class%3D%22css-10uoqu4-ResizableCell%22%3E%3Cdiv%20style%3D%22display%3A%20flex%3B%20align-items%3A%20center%3B%20height%3A%2028px%3B%20left%3A%200px%3B%20top%3A%200px%3B%20width%3A%20114px%3B%20text-align%3A%20left%3B%20font-size%3A%2012px%3B%20padding%3A%204px%204px%203px%3B%20overflow%3A%20hidden%3B%20position%3A%20absolute%3B%20white-space%3A%20nowrap%3B%20text-overflow%3A%20ellipsis%3B%20font-weight%3A%20600%3B%22%3E%3Cspan%20style%3D%22text-overflow%3A%20ellipsis%3B%20overflow%3A%20hidden%3B%20white-space%3A%20nowrap%3B%20max-width%3A%20calc((100%25%20-%200px)%20-%200px)%3B%22%3ERevenue%20Retained%3C%2Fspan%3E%3C%2Fdiv%3E%3Cdiv%20class%3D%22css-xxcrt1-ResizableCell%22%3E%3C%2Fdiv%3E%3C%2Fdiv%3E%3C%2Fdiv%3E%3C%2Fdiv%3E%3Cdiv%20class%3D%22%20css-nbdbbb%22%3E%3Cdiv%20class%3D%22css-l1o18%22%3E%3Cdiv%20class%3D%22aui-table-cell%22%20style%3D%22height%3A%2028px%3B%20left%3A%200px%3B%20top%3A%200px%3B%20width%3A%2081px%3B%20text-align%3A%20right%3B%20font-size%3A%2012px%3B%20padding%3A%204px%204px%203px%3B%20overflow%3A%20hidden%3B%20position%3A%20absolute%3B%20white-space%3A%20nowrap%3B%20text-overflow%3A%20ellipsis%3B%20border-right%3A%201px%20solid%20rgb(233%2C%20233%2C%20233)%3B%20background-color%3A%20transparent%3B%22%3E455%2C661.00%3C%2Fdiv%3E%3Cdiv%20class%3D%22aui-table-cell%22%20style%3D%22height%3A%2028px%3B%20left%3A%2081px%3B%20top%3A%200px%3B%20width%3A%20101px%3B%20text-align%3A%20right%3B%20font-size%3A%2012px%3B%20padding%3A%204px%204px%203px%3B%20overflow%3A%20hidden%3B%20position%3A%20absolute%3B%20white-space%3A%20nowrap%3B%20text-overflow%3A%20ellipsis%3B%20border-right%3A%201px%20solid%20rgb(233%2C%20233%2C%20233)%3B%20background-color%3A%20transparent%3B%22%3E139%2C130.85%3C%2Fdiv%3E%3Cdiv%20class%3D%22aui-table-cell%22%20style%3D%22height%3A%2028px%3B%20left%3A%20182px%3B%20top%3A%200px%3B%20width%3A%20151px%3B%20text-align%3A%20right%3B%20font-size%3A%2012px%3B%20padding%3A%204px%204px%203px%3B%20overflow%3A%20hidden%3B%20position%3A%20absolute%3B%20white-space%3A%20nowrap%3B%20text-overflow%3A%20ellipsis%3B%20border-right%3A%201px%20solid%20rgb(233%2C%20233%2C%20233)%3B%20background-color%3A%20transparent%3B%22%3E9%2C392.35%3C%2Fdiv%3E%3Cdiv%20class%3D%22aui-table-cell%22%20style%3D%22height%3A%2028px%3B%20left%3A%20333px%3B%20top%3A%200px%3B%20width%3A%2075.3438px%3B%20text-align%3A%20right%3B%20font-size%3A%2012px%3B%20padding%3A%204px%204px%203px%3B%20overflow%3A%20hidden%3B%20position%3A%20absolute%3B%20white-space%3A%20nowrap%3B%20text-overflow%3A%20ellipsis%3B%20border-right%3A%201px%20solid%20rgb(233%2C%20233%2C%20233)%3B%20background-color%3A%20transparent%3B%22%3E.695%3C%2Fdiv%3E%3Cdiv%20class%3D%22aui-table-cell%22%20style%3D%22height%3A%2028px%3B%20left%3A%20408.344px%3B%20top%3A%200px%3B%20width%3A%20134px%3B%20text-align%3A%20right%3B%20font-size%3A%2012px%3B%20padding%3A%204px%204px%203px%3B%20overflow%3A%20hidden%3B%20position%3A%20absolute%3B%20white-space%3A%20nowrap%3B%20text-overflow%3A%20ellipsis%3B%20border-right%3A%201px%20solid%20rgb(233%2C%20233%2C%20233)%3B%20background-color%3A%20transparent%3B%22%3E.979%3C%2Fdiv%3E%3Cdiv%20class%3D%22aui-table-cell%22%20style%3D%22height%3A%2028px%3B%20left%3A%20542.344px%3B%20top%3A%200px%3B%20width%3A%20107px%3B%20text-align%3A%20right%3B%20font-size%3A%2012px%3B%20padding%3A%204px%204px%203px%3B%20overflow%3A%20hidden%3B%20position%3A%20absolute%3B%20white-space%3A%20nowrap%3B%20text-overflow%3A%20ellipsis%3B%20border-right%3A%201px%20solid%20rgb(233%2C%20233%2C%20233)%3B%20background-color%3A%20transparent%3B%22%3E.285%3C%2Fdiv%3E%3Cdiv%20class%3D%22aui-table-cell%22%20style%3D%22height%3A%2028px%3B%20left%3A%20649.344px%3B%20top%3A%200px%3B%20width%3A%20119px%3B%20text-align%3A%20right%3B%20font-size%3A%2012px%3B%20padding%3A%204px%204px%203px%3B%20overflow%3A%20hidden%3B%20position%3A%20absolute%3B%20white-space%3A%20nowrap%3B%20text-overflow%3A%20ellipsis%3B%20border-right%3A%201px%20solid%20rgb(233%2C%20233%2C%20233)%3B%20background-color%3A%20transparent%3B%22%3E129%2C738.50%3C%2Fdiv%3E%3Cdiv%20class%3D%22aui-table-cell%22%20style%3D%22height%3A%2028px%3B%20left%3A%200px%3B%20top%3A%2028px%3B%20width%3A%2081px%3B%20text-align%3A%20right%3B%20font-size%3A%2012px%3B%20padding%3A%204px%204px%203px%3B%20overflow%3A%20hidden%3B%20position%3A%20absolute%3B%20white-space%3A%20nowrap%3B%20text-overflow%3A%20ellipsis%3B%20border-right%3A%201px%20solid%20rgb(233%2C%20233%2C%20233)%3B%20background-color%3A%20rgb(250%2C%20250%2C%20250)%3B%22%3E455%2C661.00%3C%2Fdiv%3E%3Cdiv%20class%3D%22aui-table-cell%22%20style%3D%22height%3A%2028px%3B%20left%3A%2081px%3B%20top%3A%2028px%3B%20width%3A%20101px%3B%20text-align%3A%20right%3B%20font-size%3A%2012px%3B%20padding%3A%204px%204px%203px%3B%20overflow%3A%20hidden%3B%20position%3A%20absolute%3B%20white-space%3A%20nowrap%3B%20text-overflow%3A%20ellipsis%3B%20border-right%3A%201px%20solid%20rgb(233%2C%20233%2C%20233)%3B%20background-color%3A%20rgb(250%2C%20250%2C%20250)%3B%22%3E139%2C130.85%3C%2Fdiv%3E%3Cdiv%20class%3D%22aui-table-cell%22%20style%3D%22height%3A%2028px%3B%20left%3A%20182px%3B%20top%3A%2028px%3B%20width%3A%20151px%3B%20text-align%3A%20right%3B%20font-size%3A%2012px%3B%20padding%3A%204px%204px%203px%3B%20overflow%3A%20hidden%3B%20position%3A%20absolute%3B%20white-space%3A%20nowrap%3B%20text-overflow%3A%20ellipsis%3B%20border-right%3A%201px%20solid%20rgb(233%2C%20233%2C%20233)%3B%20background-color%3A%20rgb(250%2C%20250%2C%20250)%3B%22%3E79%2C517.40%3C%2Fdiv%3E%3Cdiv%20class%3D%22aui-table-cell%22%20style%3D%22height%3A%2028px%3B%20left%3A%20333px%3B%20top%3A%2028px%3B%20width%3A%2075.3438px%3B%20text-align%3A%20right%3B%20font-size%3A%2012px%3B%20padding%3A%204px%204px%203px%3B%20overflow%3A%20hidden%3B%20position%3A%20absolute%3B%20white-space%3A%20nowrap%3B%20text-overflow%3A%20ellipsis%3B%20border-right%3A%201px%20solid%20rgb(233%2C%20233%2C%20233)%3B%20background-color%3A%20rgb(250%2C%20250%2C%20250)%3B%22%3E.500%3C%2Fdiv%3E%3Cdiv%20class%3D%22aui-table-cell%22%20style%3D%22height%3A%2028px%3B%20left%3A%20408.344px%3B%20top%3A%2028px%3B%20width%3A%20134px%3B%20text-align%3A%20right%3B%20font-size%3A%2012px%3B%20padding%3A%204px%204px%203px%3B%20overflow%3A%20hidden%3B%20position%3A%20absolute%3B%20white-space%3A%20nowrap%3B%20text-overflow%3A%20ellipsis%3B%20border-right%3A%201px%20solid%20rgb(233%2C%20233%2C%20233)%3B%20background-color%3A%20rgb(250%2C%20250%2C%20250)%3B%22%3E.825%3C%2Fdiv%3E%3Cdiv%20class%3D%22aui-table-cell%22%20style%3D%22height%3A%2028px%3B%20left%3A%20542.344px%3B%20top%3A%2028px%3B%20width%3A%20107px%3B%20text-align%3A%20right%3B%20font-size%3A%2012px%3B%20padding%3A%204px%204px%203px%3B%20overflow%3A%20hidden%3B%20position%3A%20absolute%3B%20white-space%3A%20nowrap%3B%20text-overflow%3A%20ellipsis%3B%20border-right%3A%201px%20solid%20rgb(233%2C%20233%2C%20233)%3B%20background-color%3A%20rgb(250%2C%20250%2C%20250)%3B%22%3E.326%3C%2Fdiv%3E%3Cdiv%20class%3D%22aui-table-cell%22%20style%3D%22height%3A%2028px%3B%20left%3A%20649.344px%3B%20top%3A%2028px%3B%20width%3A%20119px%3B%20text-align%3A%20right%3B%20font-size%3A%2012px%3B%20padding%3A%204px%204px%203px%3B%20overflow%3A%20hidden%3B%20position%3A%20absolute%3B%20white-space%3A%20nowrap%3B%20text-overflow%3A%20ellipsis%3B%20border-right%3A%201px%20solid%20rgb(233%2C%20233%2C%20233)%3B%20background-color%3A%20rgb(250%2C%20250%2C%20250)%3B%22%3E59%2C613.45%3C%2Fdiv%3E%3Cdiv%20class%3D%22aui-table-cell%22%20style%3D%22height%3A%2028px%3B%20left%3A%200px%3B%20top%3A%2056px%3B%20width%3A%2081px%3B%20text-align%3A%20right%3B%20font-size%3A%2012px%3B%20padding%3A%204px%204px%203px%3B%20overflow%3A%20hidden%3B%20position%3A%20absolute%3B%20white-space%3A%20nowrap%3B%20text-overflow%3A%20ellipsis%3B%20border-right%3A%201px%20solid%20rgb(233%2C%20233%2C%20233)%3B%20background-color%3A%20transparent%3B%22%3E455%2C661.00%3C%2Fdiv%3E%3Cdiv%20class%3D%22aui-table-cell%22%20style%3D%22height%3A%2028px%3B%20left%3A%2081px%3B%20top%3A%2056px%3B%20width%3A%20101px%3B%20text-align%3A%20right%3B%20font-size%3A%2012px%3B%20padding%3A%204px%204px%203px%3B%20overflow%3A%20hidden%3B%20position%3A%20absolute%3B%20white-space%3A%20nowrap%3B%20text-overflow%3A%20ellipsis%3B%20border-right%3A%201px%20solid%20rgb(233%2C%20233%2C%20233)%3B%20background-color%3A%20transparent%3B%22%3E139%2C130.85%3C%2Fdiv%3E%3Cdiv%20class%3D%22aui-table-cell%22%20style%3D%22height%3A%2028px%3B%20left%3A%20182px%3B%20top%3A%2056px%3B%20width%3A%20151px%3B%20text-align%3A%20right%3B%20font-size%3A%2012px%3B%20padding%3A%204px%204px%203px%3B%20overflow%3A%20hidden%3B%20position%3A%20absolute%3B%20white-space%3A%20nowrap%3B%20text-overflow%3A%20ellipsis%3B%20border-right%3A%201px%20solid%20rgb(233%2C%20233%2C%20233)%3B%20background-color%3A%20transparent%3B%22%3E50%2C090.35%3C%2Fdiv%3E%3Cdiv%20class%3D%22aui-table-cell%22%20style%3D%22height%3A%2028px%3B%20left%3A%20333px%3B%20top%3A%2056px%3B%20width%3A%2075.3438px%3B%20text-align%3A%20right%3B%20font-size%3A%2012px%3B%20padding%3A%204px%204px%203px%3B%20overflow%3A%20hidden%3B%20position%3A%20absolute%3B%20white-space%3A%20nowrap%3B%20text-overflow%3A%20ellipsis%3B%20border-right%3A%201px%20solid%20rgb(233%2C%20233%2C%20233)%3B%20background-color%3A%20transparent%3B%22%3E.667%3C%2Fdiv%3E%3Cdiv%20class%3D%22aui-table-cell%22%20style%3D%22height%3A%2028px%3B%20left%3A%20408.344px%3B%20top%3A%2056px%3B%20width%3A%20134px%3B%20text-align%3A%20right%3B%20font-size%3A%2012px%3B%20padding%3A%204px%204px%203px%3B%20overflow%3A%20hidden%3B%20position%3A%20absolute%3B%20white-space%3A%20nowrap%3B%20text-overflow%3A%20ellipsis%3B%20border-right%3A%201px%20solid%20rgb(233%2C%20233%2C%20233)%3B%20background-color%3A%20transparent%3B%22%3E.890%3C%2Fdiv%3E%3Cdiv%20class%3D%22aui-table-cell%22%20style%3D%22height%3A%2028px%3B%20left%3A%20542.344px%3B%20top%3A%2056px%3B%20width%3A%20107px%3B%20text-align%3A%20right%3B%20font-size%3A%2012px%3B%20padding%3A%204px%204px%203px%3B%20overflow%3A%20hidden%3B%20position%3A%20absolute%3B%20white-space%3A%20nowrap%3B%20text-overflow%3A%20ellipsis%3B%20border-right%3A%201px%20solid%20rgb(233%2C%20233%2C%20233)%3B%20background-color%3A%20transparent%3B%22%3E.224%3C%2Fdiv%3E%3Cdiv%20class%3D%22aui-table-cell%22%20style%3D%22height%3A%2028px%3B%20left%3A%20649.344px%3B%20top%3A%2056px%3B%20width%3A%20119px%3B%20text-align%3A%20right%3B%20font-size%3A%2012px%3B%20padding%3A%204px%204px%203px%3B%20overflow%3A%20hidden%3B%20position%3A%20absolute%3B%20white-space%3A%20nowrap%3B%20text-overflow%3A%20ellipsis%3B%20border-right%3A%201px%20solid%20rgb(233%2C%20233%2C%20233)%3B%20background-color%3A%20transparent%3B%22%3E89%2C040.50%3C%2Fdiv%3E%3Cdiv%20class%3D%22aui-table-cell%22%20style%3D%22height%3A%2028px%3B%20left%3A%200px%3B%20top%3A%2084px%3B%20width%3A%2081px%3B%20text-align%3A%20right%3B%20font-size%3A%2012px%3B%20padding%3A%204px%204px%203px%3B%20overflow%3A%20hidden%3B%20position%3A%20absolute%3B%20white-space%3A%20nowrap%3B%20text-overflow%3A%20ellipsis%3B%20border-right%3A%201px%20solid%20rgb(233%2C%20233%2C%20233)%3B%20background-color%3A%20rgb(250%2C%20250%2C%20250)%3B%22%3E455%2C661.00%3C%2Fdiv%3E%3Cdiv%20class%3D%22aui-table-cell%22%20style%3D%22height%3A%2028px%3B%20left%3A%2081px%3B%20top%3A%2084px%3B%20width%3A%20101px%3B%20text-align%3A%20right%3B%20font-size%3A%2012px%3B%20padding%3A%204px%204px%203px%3B%20overflow%3A%20hidden%3B%20position%3A%20absolute%3B%20white-space%3A%20nowrap%3B%20text-overflow%3A%20ellipsis%3B%20border-right%3A%201px%20solid%20rgb(233%2C%20233%2C%20233)%3B%20background-color%3A%20rgb(250%2C%20250%2C%20250)%3B%22%3E139%2C130.85%3C%2Fdiv%3E%3Cdiv%20class%3D%22aui-table-cell%22%20style%3D%22height%3A%2028px%3B%20left%3A%20182px%3B%20top%3A%2084px%3B%20width%3A%20151px%3B%20text-align%3A%20right%3B%20font-size%3A%2012px%3B%20padding%3A%204px%204px%203px%3B%20overflow%3A%20hidden%3B%20position%3A%20absolute%3B%20white-space%3A%20nowrap%3B%20text-overflow%3A%20ellipsis%3B%20border-right%3A%201px%20solid%20rgb(233%2C%20233%2C%20233)%3B%20background-color%3A%20rgb(250%2C%20250%2C%20250)%3B%22%3E55%2C383.70%3C%2Fdiv%3E%3Cdiv%20class%3D%22aui-table-cell%22%20style%3D%22height%3A%2028px%3B%20left%3A%20333px%3B%20top%3A%2084px%3B%20width%3A%2075.3438px%3B%20text-align%3A%20right%3B%20font-size%3A%2012px%3B%20padding%3A%204px%204px%203px%3B%20overflow%3A%20hidden%3B%20position%3A%20absolute%3B%20white-space%3A%20nowrap%3B%20text-overflow%3A%20ellipsis%3B%20border-right%3A%201px%20solid%20rgb(233%2C%20233%2C%20233)%3B%20background-color%3A%20rgb(250%2C%20250%2C%20250)%3B%22%3E.691%3C%2Fdiv%3E%3Cdiv%20class%3D%22aui-table-cell%22%20style%3D%22height%3A%2028px%3B%20left%3A%20408.344px%3B%20top%3A%2084px%3B%20width%3A%20134px%3B%20text-align%3A%20right%3B%20font-size%3A%2012px%3B%20padding%3A%204px%204px%203px%3B%20overflow%3A%20hidden%3B%20position%3A%20absolute%3B%20white-space%3A%20nowrap%3B%20text-overflow%3A%20ellipsis%3B%20border-right%3A%201px%20solid%20rgb(233%2C%20233%2C%20233)%3B%20background-color%3A%20rgb(250%2C%20250%2C%20250)%3B%22%3E.878%3C%2Fdiv%3E%3Cdiv%20class%3D%22aui-table-cell%22%20style%3D%22height%3A%2028px%3B%20left%3A%20542.344px%3B%20top%3A%2084px%3B%20width%3A%20107px%3B%20text-align%3A%20right%3B%20font-size%3A%2012px%3B%20padding%3A%204px%204px%203px%3B%20overflow%3A%20hidden%3B%20position%3A%20absolute%3B%20white-space%3A%20nowrap%3B%20text-overflow%3A%20ellipsis%3B%20border-right%3A%201px%20solid%20rgb(233%2C%20233%2C%20233)%3B%20background-color%3A%20rgb(250%2C%20250%2C%20250)%3B%22%3E.187%3C%2Fdiv%3E%3Cdiv%20class%3D%22aui-table-cell%22%20style%3D%22height%3A%2028px%3B%20left%3A%20649.344px%3B%20top%3A%2084px%3B%20width%3A%20119px%3B%20text-align%3A%20right%3B%20font-size%3A%2012px%3B%20padding%3A%204px%204px%203px%3B%20overflow%3A%20hidden%3B%20position%3A%20absolute%3B%20white-space%3A%20nowrap%3B%20text-overflow%3A%20ellipsis%3B%20border-right%3A%201px%20solid%20rgb(233%2C%20233%2C%20233)%3B%20background-color%3A%20rgb(250%2C%20250%2C%20250)%3B%22%3E83%2C747.15%3C%2Fdiv%3E%3Cdiv%20class%3D%22aui-table-cell%22%20style%3D%22height%3A%2028px%3B%20left%3A%200px%3B%20top%3A%20112px%3B%20width%3A%2081px%3B%20text-align%3A%20right%3B%20font-size%3A%2012px%3B%20padding%3A%204px%204px%203px%3B%20overflow%3A%20hidden%3B%20position%3A%20absolute%3B%20white-space%3A%20nowrap%3B%20text-overflow%3A%20ellipsis%3B%20border-right%3A%201px%20solid%20rgb(233%2C%20233%2C%20233)%3B%20background-color%3A%20transparent%3B%22%3E455%2C661.00%3C%2Fdiv%3E%3Cdiv%20class%3D%22aui-table-cell%22%20style%3D%22height%3A%2028px%3B%20left%3A%2081px%3B%20top%3A%20112px%3B%20width%3A%20101px%3B%20text-align%3A%20right%3B%20font-size%3A%2012px%3B%20padding%3A%204px%204px%203px%3B%20overflow%3A%20hidden%3B%20position%3A%20absolute%3B%20white-space%3A%20nowrap%3B%20text-overflow%3A%20ellipsis%3B%20border-right%3A%201px%20solid%20rgb(233%2C%20233%2C%20233)%3B%20background-color%3A%20transparent%3B%22%3E139%2C130.85%3C%2Fdiv%3E%3Cdiv%20class%3D%22aui-table-cell%22%20style%3D%22height%3A%2028px%3B%20left%3A%20182px%3B%20top%3A%20112px%3B%20width%3A%20151px%3B%20text-align%3A%20right%3B%20font-size%3A%2012px%3B%20padding%3A%204px%204px%203px%3B%20overflow%3A%20hidden%3B%20position%3A%20absolute%3B%20white-space%3A%20nowrap%3B%20text-overflow%3A%20ellipsis%3B%20border-right%3A%201px%20solid%20rgb(233%2C%20233%2C%20233)%3B%20background-color%3A%20transparent%3B%22%3E33%2C350.05%3C%2Fdiv%3E%3Cdiv%20class%3D%22aui-table-cell%22%20style%3D%22height%3A%2028px%3B%20left%3A%20333px%3B%20top%3A%20112px%3B%20width%3A%2075.3438px%3B%20text-align%3A%20right%3B%20font-size%3A%2012px%3B%20padding%3A%204px%204px%203px%3B%20overflow%3A%20hidden%3B%20position%3A%20absolute%3B%20white-space%3A%20nowrap%3B%20text-overflow%3A%20ellipsis%3B%20border-right%3A%201px%20solid%20rgb(233%2C%20233%2C%20233)%3B%20background-color%3A%20transparent%3B%22%3E.545%3C%2Fdiv%3E%3Cdiv%20class%3D%22aui-table-cell%22%20style%3D%22height%3A%2028px%3B%20left%3A%20408.344px%3B%20top%3A%20112px%3B%20width%3A%20134px%3B%20text-align%3A%20right%3B%20font-size%3A%2012px%3B%20padding%3A%204px%204px%203px%3B%20overflow%3A%20hidden%3B%20position%3A%20absolute%3B%20white-space%3A%20nowrap%3B%20text-overflow%3A%20ellipsis%3B%20border-right%3A%201px%20solid%20rgb(233%2C%20233%2C%20233)%3B%20background-color%3A%20transparent%3B%22%3E.927%3C%2Fdiv%3E%3Cdiv%20class%3D%22aui-table-cell%22%20style%3D%22height%3A%2028px%3B%20left%3A%20542.344px%3B%20top%3A%20112px%3B%20width%3A%20107px%3B%20text-align%3A%20right%3B%20font-size%3A%2012px%3B%20padding%3A%204px%204px%203px%3B%20overflow%3A%20hidden%3B%20position%3A%20absolute%3B%20white-space%3A%20nowrap%3B%20text-overflow%3A%20ellipsis%3B%20border-right%3A%201px%20solid%20rgb(233%2C%20233%2C%20233)%3B%20background-color%3A%20transparent%3B%22%3E.382%3C%2Fdiv%3E%3Cdiv%20class%3D%22aui-table-cell%22%20style%3D%22height%3A%2028px%3B%20left%3A%20649.344px%3B%20top%3A%20112px%3B%20width%3A%20119px%3B%20text-align%3A%20right%3B%20font-size%3A%2012px%3B%20padding%3A%204px%204px%203px%3B%20overflow%3A%20hidden%3B%20position%3A%20absolute%3B%20white-space%3A%20nowrap%3B%20text-overflow%3A%20ellipsis%3B%20border-right%3A%201px%20solid%20rgb(233%2C%20233%2C%20233)%3B%20background-color%3A%20transparent%3B%22%3E105%2C780.80%3C%2Fdiv%3E%3C%2Fdiv%3E%3C%2Fdiv%3E%3C%2Fdiv%3E%3C%2Fdiv%3E%3C%2Fdiv%3E%3Cdiv%20class%3D%22css-1uww2vi-Table%22%3E%3C%2Fdiv%3E%3C%2Fdiv%3E%3C%2Fdiv%3E%3C%2Fdiv%3E%3C%2Fdiv%3E%3C%2Fdiv%3E%3C%2FforeignObject%3E%3C%2Fsvg%3E\">"
      ],
      "text/plain": [
       "Open the notebook in JupyterLab with the Atoti extension enabled to build this widget."
      ]
     },
     "metadata": {},
     "output_type": "display_data"
    }
   ],
   "source": [
    "session.visualize(\"NRR after retention effort\")"
   ]
  },
  {
   "cell_type": "markdown",
   "metadata": {},
   "source": [
    "There exists a possibility that a customer has been predicted to churn but in fact, did not. In this case, the retention budget is kind of wasted.  \n",
    "We can see this in _SVM Classifier_ where it predicted 2731 customers churning but only 1451 (slightly more than half of the predicted) of these customers actually churned.  \n",
    "\n",
    "Let's see how much of the expense was actually well-spent."
   ]
  },
  {
   "cell_type": "code",
   "execution_count": 47,
   "metadata": {},
   "outputs": [],
   "source": [
    "# Churned customer targeted by the campaign\n",
    "m[\"Successful Retention Cost\"] = tt.agg.sum(\n",
    "    tt.where(\n",
    "        (m[\"Retention cost\"] == 100) & (l[\"Churn\"] == \"Yes\"), m[\"Retention cost\"], 0\n",
    "    ),\n",
    "    scope=tt.OriginScope(l[\"CustomerID\"], l[\"Churn\"]),\n",
    ")"
   ]
  },
  {
   "cell_type": "markdown",
   "metadata": {},
   "source": [
    "We see that the _Naive Bayes Classifier_ and _Logistic Regression Classifier_ are very close in performance, while _SVM Classifier_ doubled their unsuccessul retention costs."
   ]
  },
  {
   "cell_type": "code",
   "execution_count": 48,
   "metadata": {
    "atoti": {
     "widget": {
      "filters": [],
      "mapping": {
       "horizontalSubplots": [],
       "splitBy": [
        "ALL_MEASURES"
       ],
       "values": [
        "[Measures].[Retention cost]",
        "[Measures].[Successful Retention Cost]",
        "[Measures].[Unsuccessful Retention Cost]"
       ],
       "verticalSubplots": [],
       "xAxis": [
        "[Epoch].[Epoch].[Branch]"
       ]
      },
      "query": {
       "mdx": "WITH  Member [Measures].[Unsuccessful Retention Cost] AS [Measures].[Retention cost] - [Measures].[Successful Retention Cost], FORMAT_STRING = \"#,###.##\" SELECT NON EMPTY [Epoch].[Epoch].[Branch].Members ON ROWS, NON EMPTY {[Measures].[Retention cost], [Measures].[Successful Retention Cost], [Measures].[Unsuccessful Retention Cost]} ON COLUMNS FROM [customer_cube]",
       "updateMode": "once"
      },
      "serverKey": "default",
      "style": {
       "isTextVisible": true
      },
      "widgetKey": "plotly-clustered-column-chart"
     }
    }
   },
   "outputs": [
    {
     "data": {
      "application/vnd.atoti.widget.v0+json": {
       "name": "Successful retention with respect to cost",
       "sessionId": "1685413173_PPEYJT",
       "sessionLocation": {
        "https": false,
        "port": 58900
       },
       "widgetCreationCode": "session.visualize()"
      },
      "text/html": [
       "<img src=\"data:image/svg+xml;charset=utf8,%3C%3Fxml%20version%3D%221.0%22%20standalone%3D%22no%22%3F%3E%3Csvg%20xmlns%3D%22http%3A%2F%2Fwww.w3.org%2F2000%2Fsvg%22%20xmlns%3Axlink%3D%22http%3A%2F%2Fwww.w3.org%2F1999%2Fxlink%22%20height%3D%22352%22%20width%3D%221342%22%20viewBox%3D%220%200%201342%20352%22%3E%3Cdefs%20id%3D%22defs-837405%22%3E%3Cg%20class%3D%22clips%22%3E%3CclipPath%20id%3D%22clip837405xyplot%22%20class%3D%22plotclip%22%3E%3Crect%20width%3D%221025%22%20height%3D%22282%22%2F%3E%3C%2FclipPath%3E%3CclipPath%20class%3D%22axesclip%22%20id%3D%22clip837405x%22%3E%3Crect%20x%3D%2280%22%20y%3D%220%22%20width%3D%221025%22%20height%3D%22352%22%2F%3E%3C%2FclipPath%3E%3CclipPath%20class%3D%22axesclip%22%20id%3D%22clip837405y%22%3E%3Crect%20x%3D%220%22%20y%3D%2230%22%20width%3D%221342%22%20height%3D%22282%22%2F%3E%3C%2FclipPath%3E%3CclipPath%20class%3D%22axesclip%22%20id%3D%22clip837405xy%22%3E%3Crect%20x%3D%2280%22%20y%3D%2230%22%20width%3D%221025%22%20height%3D%22282%22%2F%3E%3C%2FclipPath%3E%3C%2Fg%3E%3Cg%20class%3D%22gradients%22%2F%3E%3C%2Fdefs%3E%3Cg%20class%3D%22bglayer%22%2F%3E%3Cg%20class%3D%22draglayer%20cursor-crosshair%22%3E%3Cg%20class%3D%22xy%22%3E%3Crect%20class%3D%22nsewdrag%20drag%22%20data-subplot%3D%22xy%22%20x%3D%2280%22%20y%3D%2230%22%20width%3D%221025%22%20height%3D%22282%22%20style%3D%22fill%3A%20transparent%3B%20stroke-width%3A%200%3B%20pointer-events%3A%20all%3B%22%2F%3E%3Crect%20class%3D%22nwdrag%20drag%20cursor-nw-resize%22%20data-subplot%3D%22xy%22%20x%3D%2260%22%20y%3D%2210%22%20width%3D%2220%22%20height%3D%2220%22%20style%3D%22fill%3A%20transparent%3B%20stroke-width%3A%200%3B%20pointer-events%3A%20all%3B%22%2F%3E%3Crect%20class%3D%22nedrag%20drag%20cursor-ne-resize%22%20data-subplot%3D%22xy%22%20x%3D%221105%22%20y%3D%2210%22%20width%3D%2220%22%20height%3D%2220%22%20style%3D%22fill%3A%20transparent%3B%20stroke-width%3A%200%3B%20pointer-events%3A%20all%3B%22%2F%3E%3Crect%20class%3D%22swdrag%20drag%20cursor-sw-resize%22%20data-subplot%3D%22xy%22%20x%3D%2260%22%20y%3D%22312%22%20width%3D%2220%22%20height%3D%2220%22%20style%3D%22fill%3A%20transparent%3B%20stroke-width%3A%200%3B%20pointer-events%3A%20all%3B%22%2F%3E%3Crect%20class%3D%22sedrag%20drag%20cursor-se-resize%22%20data-subplot%3D%22xy%22%20x%3D%221105%22%20y%3D%22312%22%20width%3D%2220%22%20height%3D%2220%22%20style%3D%22fill%3A%20transparent%3B%20stroke-width%3A%200%3B%20pointer-events%3A%20all%3B%22%2F%3E%3Crect%20class%3D%22ewdrag%20drag%20cursor-ew-resize%22%20data-subplot%3D%22xy%22%20x%3D%22182.5%22%20y%3D%22312.5%22%20width%3D%22820%22%20height%3D%2220%22%20style%3D%22fill%3A%20transparent%3B%20stroke-width%3A%200%3B%20pointer-events%3A%20all%3B%22%2F%3E%3Crect%20class%3D%22wdrag%20drag%20cursor-w-resize%22%20data-subplot%3D%22xy%22%20x%3D%2280%22%20y%3D%22312.5%22%20width%3D%22102.5%22%20height%3D%2220%22%20style%3D%22fill%3A%20transparent%3B%20stroke-width%3A%200%3B%20pointer-events%3A%20all%3B%22%2F%3E%3Crect%20class%3D%22edrag%20drag%20cursor-e-resize%22%20data-subplot%3D%22xy%22%20x%3D%221002.5%22%20y%3D%22312.5%22%20width%3D%22102.5%22%20height%3D%2220%22%20style%3D%22fill%3A%20transparent%3B%20stroke-width%3A%200%3B%20pointer-events%3A%20all%3B%22%2F%3E%3Crect%20class%3D%22nsdrag%20drag%20cursor-ns-resize%22%20data-subplot%3D%22xy%22%20x%3D%2259.5%22%20y%3D%2258.2%22%20width%3D%2220%22%20height%3D%22225.60000000000002%22%20style%3D%22fill%3A%20transparent%3B%20stroke-width%3A%200%3B%20pointer-events%3A%20all%3B%22%2F%3E%3Crect%20class%3D%22sdrag%20drag%20cursor-s-resize%22%20data-subplot%3D%22xy%22%20x%3D%2259.5%22%20y%3D%22283.8%22%20width%3D%2220%22%20height%3D%2228.200000000000003%22%20style%3D%22fill%3A%20transparent%3B%20stroke-width%3A%200%3B%20pointer-events%3A%20all%3B%22%2F%3E%3Crect%20class%3D%22ndrag%20drag%20cursor-n-resize%22%20data-subplot%3D%22xy%22%20x%3D%2259.5%22%20y%3D%2230%22%20width%3D%2220%22%20height%3D%2228.200000000000003%22%20style%3D%22fill%3A%20transparent%3B%20stroke-width%3A%200%3B%20pointer-events%3A%20all%3B%22%2F%3E%3C%2Fg%3E%3C%2Fg%3E%3Cg%20class%3D%22layer-below%22%3E%3Cg%20class%3D%22imagelayer%22%2F%3E%3Cg%20class%3D%22shapelayer%22%2F%3E%3C%2Fg%3E%3Cg%20class%3D%22cartesianlayer%22%3E%3Cg%20class%3D%22subplot%20xy%22%3E%3Cg%20class%3D%22layer-subplot%22%3E%3Cg%20class%3D%22shapelayer%22%2F%3E%3Cg%20class%3D%22imagelayer%22%2F%3E%3C%2Fg%3E%3Cg%20class%3D%22gridlayer%22%3E%3Cg%20class%3D%22x%22%3E%3Cpath%20class%3D%22xgrid%20crisp%22%20transform%3D%22translate(182.5%2C0)%22%20d%3D%22M0%2C30v282%22%20style%3D%22stroke%3A%20rgb(0%2C%200%2C%200)%3B%20stroke-opacity%3A%200%3B%20stroke-width%3A%201px%3B%22%2F%3E%3Cpath%20class%3D%22xgrid%20crisp%22%20transform%3D%22translate(387.5%2C0)%22%20d%3D%22M0%2C30v282%22%20style%3D%22stroke%3A%20rgb(0%2C%200%2C%200)%3B%20stroke-opacity%3A%200%3B%20stroke-width%3A%201px%3B%22%2F%3E%3Cpath%20class%3D%22xgrid%20crisp%22%20transform%3D%22translate(592.5%2C0)%22%20d%3D%22M0%2C30v282%22%20style%3D%22stroke%3A%20rgb(0%2C%200%2C%200)%3B%20stroke-opacity%3A%200%3B%20stroke-width%3A%201px%3B%22%2F%3E%3Cpath%20class%3D%22xgrid%20crisp%22%20transform%3D%22translate(797.5%2C0)%22%20d%3D%22M0%2C30v282%22%20style%3D%22stroke%3A%20rgb(0%2C%200%2C%200)%3B%20stroke-opacity%3A%200%3B%20stroke-width%3A%201px%3B%22%2F%3E%3Cpath%20class%3D%22xgrid%20crisp%22%20transform%3D%22translate(1002.5%2C0)%22%20d%3D%22M0%2C30v282%22%20style%3D%22stroke%3A%20rgb(0%2C%200%2C%200)%3B%20stroke-opacity%3A%200%3B%20stroke-width%3A%201px%3B%22%2F%3E%3C%2Fg%3E%3Cg%20class%3D%22y%22%3E%3Cpath%20class%3D%22ygrid%20crisp%22%20transform%3D%22translate(0%2C236.51)%22%20d%3D%22M80%2C0h1025%22%20style%3D%22stroke%3A%20rgb(89%2C%2089%2C%2089)%3B%20stroke-opacity%3A%200.25%3B%20stroke-width%3A%201px%3B%22%2F%3E%3Cpath%20class%3D%22ygrid%20crisp%22%20transform%3D%22translate(0%2C194.97)%22%20d%3D%22M80%2C0h1025%22%20style%3D%22stroke%3A%20rgb(89%2C%2089%2C%2089)%3B%20stroke-opacity%3A%200.25%3B%20stroke-width%3A%201px%3B%22%2F%3E%3Cpath%20class%3D%22ygrid%20crisp%22%20transform%3D%22translate(0%2C153.43)%22%20d%3D%22M80%2C0h1025%22%20style%3D%22stroke%3A%20rgb(89%2C%2089%2C%2089)%3B%20stroke-opacity%3A%200.25%3B%20stroke-width%3A%201px%3B%22%2F%3E%3Cpath%20class%3D%22ygrid%20crisp%22%20transform%3D%22translate(0%2C111.89)%22%20d%3D%22M80%2C0h1025%22%20style%3D%22stroke%3A%20rgb(89%2C%2089%2C%2089)%3B%20stroke-opacity%3A%200.25%3B%20stroke-width%3A%201px%3B%22%2F%3E%3Cpath%20class%3D%22ygrid%20crisp%22%20transform%3D%22translate(0%2C70.35)%22%20d%3D%22M80%2C0h1025%22%20style%3D%22stroke%3A%20rgb(89%2C%2089%2C%2089)%3B%20stroke-opacity%3A%200.25%3B%20stroke-width%3A%201px%3B%22%2F%3E%3C%2Fg%3E%3C%2Fg%3E%3Cg%20class%3D%22zerolinelayer%22%3E%3Cpath%20class%3D%22yzl%20zl%20crisp%22%20transform%3D%22translate(0%2C278.03999999999996)%22%20d%3D%22M80%2C0h1025%22%20style%3D%22stroke%3A%20rgb(89%2C%2089%2C%2089)%3B%20stroke-opacity%3A%200.5%3B%20stroke-width%3A%201px%3B%22%2F%3E%3C%2Fg%3E%3Cpath%20class%3D%22xlines-below%22%2F%3E%3Cpath%20class%3D%22ylines-below%22%2F%3E%3Cg%20class%3D%22overlines-below%22%2F%3E%3Cg%20class%3D%22xaxislayer-below%22%2F%3E%3Cg%20class%3D%22yaxislayer-below%22%2F%3E%3Cg%20class%3D%22overaxes-below%22%2F%3E%3Cg%20class%3D%22plot%22%20transform%3D%22translate(80%2C30)%22%20clip-path%3D%22url('%23clip837405xyplot')%22%3E%3Cg%20class%3D%22barlayer%20mlayer%22%3E%3Cg%20class%3D%22trace%20bars%22%20style%3D%22opacity%3A%201%3B%22%3E%3Cg%20class%3D%22points%22%3E%3Cg%20class%3D%22point%22%3E%3Cpath%20d%3D%22M20.5%2C248.04V128.08H75.17V248.04Z%22%20style%3D%22vector-effect%3A%20non-scaling-stroke%3B%20opacity%3A%201%3B%20stroke-width%3A%200px%3B%20fill%3A%20rgb(78%2C%20121%2C%20167)%3B%20fill-opacity%3A%201%3B%22%2F%3E%3C%2Fg%3E%3Cg%20class%3D%22point%22%3E%3Cpath%20d%3D%22M225.5%2C248.04V14.1H280.17V248.04Z%22%20style%3D%22vector-effect%3A%20non-scaling-stroke%3B%20opacity%3A%201%3B%20stroke-width%3A%200px%3B%20fill%3A%20rgb(78%2C%20121%2C%20167)%3B%20fill-opacity%3A%201%3B%22%2F%3E%3C%2Fg%3E%3Cg%20class%3D%22point%22%3E%3Cpath%20d%3D%22M430.5%2C248.04V111.63H485.17V248.04Z%22%20style%3D%22vector-effect%3A%20non-scaling-stroke%3B%20opacity%3A%201%3B%20stroke-width%3A%200px%3B%20fill%3A%20rgb(78%2C%20121%2C%20167)%3B%20fill-opacity%3A%201%3B%22%2F%3E%3C%2Fg%3E%3Cg%20class%3D%22point%22%3E%3Cpath%20d%3D%22M635.5%2C248.04V126H690.17V248.04Z%22%20style%3D%22vector-effect%3A%20non-scaling-stroke%3B%20opacity%3A%201%3B%20stroke-width%3A%200px%3B%20fill%3A%20rgb(78%2C%20121%2C%20167)%3B%20fill-opacity%3A%201%3B%22%2F%3E%3C%2Fg%3E%3Cg%20class%3D%22point%22%3E%3Cpath%20d%3D%22M840.5%2C248.04V40.68H895.17V248.04Z%22%20style%3D%22vector-effect%3A%20non-scaling-stroke%3B%20opacity%3A%201%3B%20stroke-width%3A%200px%3B%20fill%3A%20rgb(78%2C%20121%2C%20167)%3B%20fill-opacity%3A%201%3B%22%2F%3E%3C%2Fg%3E%3C%2Fg%3E%3C%2Fg%3E%3Cg%20class%3D%22trace%20bars%22%20style%3D%22opacity%3A%201%3B%22%3E%3Cg%20class%3D%22points%22%3E%3Cg%20class%3D%22point%22%3E%3Cpath%20d%3D%22M75.17%2C248.04V108.23H129.83V248.04Z%22%20style%3D%22vector-effect%3A%20non-scaling-stroke%3B%20opacity%3A%201%3B%20stroke-width%3A%200px%3B%20fill%3A%20rgb(242%2C%20142%2C%2044)%3B%20fill-opacity%3A%201%3B%22%2F%3E%3C%2Fg%3E%3Cg%20class%3D%22point%22%3E%3Cpath%20d%3D%22M280.17%2C248.04V186.98H334.83V248.04Z%22%20style%3D%22vector-effect%3A%20non-scaling-stroke%3B%20opacity%3A%201%3B%20stroke-width%3A%200px%3B%20fill%3A%20rgb(242%2C%20142%2C%2044)%3B%20fill-opacity%3A%201%3B%22%2F%3E%3C%2Fg%3E%3Cg%20class%3D%22point%22%3E%3Cpath%20d%3D%22M485.17%2C248.04V159.57H539.83V248.04Z%22%20style%3D%22vector-effect%3A%20non-scaling-stroke%3B%20opacity%3A%201%3B%20stroke-width%3A%200px%3B%20fill%3A%20rgb(242%2C%20142%2C%2044)%3B%20fill-opacity%3A%201%3B%22%2F%3E%3C%2Fg%3E%3Cg%20class%3D%22point%22%3E%3Cpath%20d%3D%22M690.17%2C248.04V165.38H744.83V248.04Z%22%20style%3D%22vector-effect%3A%20non-scaling-stroke%3B%20opacity%3A%201%3B%20stroke-width%3A%200px%3B%20fill%3A%20rgb(242%2C%20142%2C%2044)%3B%20fill-opacity%3A%201%3B%22%2F%3E%3C%2Fg%3E%3Cg%20class%3D%22point%22%3E%3Cpath%20d%3D%22M895.17%2C248.04V138.22H949.83V248.04Z%22%20style%3D%22vector-effect%3A%20non-scaling-stroke%3B%20opacity%3A%201%3B%20stroke-width%3A%200px%3B%20fill%3A%20rgb(242%2C%20142%2C%2044)%3B%20fill-opacity%3A%201%3B%22%2F%3E%3C%2Fg%3E%3C%2Fg%3E%3C%2Fg%3E%3Cg%20class%3D%22trace%20bars%22%20style%3D%22opacity%3A%201%3B%22%3E%3Cg%20class%3D%22points%22%3E%3Cg%20class%3D%22point%22%3E%3Cpath%20d%3D%22M129.83%2C248.04V267.9H184.5V248.04Z%22%20style%3D%22vector-effect%3A%20non-scaling-stroke%3B%20opacity%3A%201%3B%20stroke-width%3A%200px%3B%20fill%3A%20rgb(225%2C%2087%2C%2089)%3B%20fill-opacity%3A%201%3B%22%2F%3E%3C%2Fg%3E%3Cg%20class%3D%22point%22%3E%3Cpath%20d%3D%22M334.83%2C248.04V75.16H389.5V248.04Z%22%20style%3D%22vector-effect%3A%20non-scaling-stroke%3B%20opacity%3A%201%3B%20stroke-width%3A%200px%3B%20fill%3A%20rgb(225%2C%2087%2C%2089)%3B%20fill-opacity%3A%201%3B%22%2F%3E%3C%2Fg%3E%3Cg%20class%3D%22point%22%3E%3Cpath%20d%3D%22M539.83%2C248.04V200.11H594.5V248.04Z%22%20style%3D%22vector-effect%3A%20non-scaling-stroke%3B%20opacity%3A%201%3B%20stroke-width%3A%200px%3B%20fill%3A%20rgb(225%2C%2087%2C%2089)%3B%20fill-opacity%3A%201%3B%22%2F%3E%3C%2Fg%3E%3Cg%20class%3D%22point%22%3E%3Cpath%20d%3D%22M744.83%2C248.04V208.67H799.5V248.04Z%22%20style%3D%22vector-effect%3A%20non-scaling-stroke%3B%20opacity%3A%201%3B%20stroke-width%3A%200px%3B%20fill%3A%20rgb(225%2C%2087%2C%2089)%3B%20fill-opacity%3A%201%3B%22%2F%3E%3C%2Fg%3E%3Cg%20class%3D%22point%22%3E%3Cpath%20d%3D%22M949.83%2C248.04V150.51H1004.5V248.04Z%22%20style%3D%22vector-effect%3A%20non-scaling-stroke%3B%20opacity%3A%201%3B%20stroke-width%3A%200px%3B%20fill%3A%20rgb(225%2C%2087%2C%2089)%3B%20fill-opacity%3A%201%3B%22%2F%3E%3C%2Fg%3E%3C%2Fg%3E%3C%2Fg%3E%3C%2Fg%3E%3C%2Fg%3E%3Cg%20class%3D%22overplot%22%2F%3E%3Cpath%20class%3D%22xlines-above%20crisp%22%20style%3D%22fill%3A%20none%3B%20stroke-width%3A%201px%3B%20stroke%3A%20rgb(89%2C%2089%2C%2089)%3B%20stroke-opacity%3A%200.25%3B%22%20d%3D%22M79%2C312.5H1105%22%2F%3E%3Cpath%20class%3D%22ylines-above%20crisp%22%20style%3D%22fill%3A%20none%3B%20stroke-width%3A%201px%3B%20stroke%3A%20rgb(89%2C%2089%2C%2089)%3B%20stroke-opacity%3A%200.25%3B%22%20d%3D%22M79.5%2C30V312%22%2F%3E%3Cg%20class%3D%22overlines-above%22%2F%3E%3Cg%20class%3D%22xaxislayer-above%22%3E%3Cg%20class%3D%22xtick%22%3E%3Ctext%20text-anchor%3D%22middle%22%20x%3D%220%22%20y%3D%22327.4%22%20data-unformatted%3D%22Base%22%20data-math%3D%22N%22%20transform%3D%22translate(182.5%2C0)%22%20style%3D%22font-family%3A%20%26quot%3BOpen%20Sans%26quot%3B%2C%20verdana%2C%20arial%2C%20sans-serif%3B%20font-size%3A%2012px%3B%20fill%3A%20rgb(89%2C%2089%2C%2089)%3B%20fill-opacity%3A%201%3B%20white-space%3A%20pre%3B%22%3EBase%3C%2Ftext%3E%3C%2Fg%3E%3Cg%20class%3D%22xtick%22%3E%3Ctext%20text-anchor%3D%22middle%22%20x%3D%220%22%20y%3D%22327.4%22%20data-unformatted%3D%22Dummy%20Uniform%20Classifier%22%20data-math%3D%22N%22%20transform%3D%22translate(387.5%2C0)%22%20style%3D%22font-family%3A%20%26quot%3BOpen%20Sans%26quot%3B%2C%20verdana%2C%20arial%2C%20sans-serif%3B%20font-size%3A%2012px%3B%20fill%3A%20rgb(89%2C%2089%2C%2089)%3B%20fill-opacity%3A%201%3B%20white-space%3A%20pre%3B%22%3EDummy%20Uniform%20Classifier%3C%2Ftext%3E%3C%2Fg%3E%3Cg%20class%3D%22xtick%22%3E%3Ctext%20text-anchor%3D%22middle%22%20x%3D%220%22%20y%3D%22327.4%22%20data-unformatted%3D%22Logistic%20Regression%20Classifier%22%20data-math%3D%22N%22%20transform%3D%22translate(592.5%2C0)%22%20style%3D%22font-family%3A%20%26quot%3BOpen%20Sans%26quot%3B%2C%20verdana%2C%20arial%2C%20sans-serif%3B%20font-size%3A%2012px%3B%20fill%3A%20rgb(89%2C%2089%2C%2089)%3B%20fill-opacity%3A%201%3B%20white-space%3A%20pre%3B%22%3ELogistic%20Regression%20Classifier%3C%2Ftext%3E%3C%2Fg%3E%3Cg%20class%3D%22xtick%22%3E%3Ctext%20text-anchor%3D%22middle%22%20x%3D%220%22%20y%3D%22327.4%22%20data-unformatted%3D%22Naive%20Bayes%20Classifier%22%20data-math%3D%22N%22%20transform%3D%22translate(797.5%2C0)%22%20style%3D%22font-family%3A%20%26quot%3BOpen%20Sans%26quot%3B%2C%20verdana%2C%20arial%2C%20sans-serif%3B%20font-size%3A%2012px%3B%20fill%3A%20rgb(89%2C%2089%2C%2089)%3B%20fill-opacity%3A%201%3B%20white-space%3A%20pre%3B%22%3ENaive%20Bayes%20Classifier%3C%2Ftext%3E%3C%2Fg%3E%3Cg%20class%3D%22xtick%22%3E%3Ctext%20text-anchor%3D%22middle%22%20x%3D%220%22%20y%3D%22327.4%22%20data-unformatted%3D%22SVM%20Classifier%22%20data-math%3D%22N%22%20transform%3D%22translate(1002.5%2C0)%22%20style%3D%22font-family%3A%20%26quot%3BOpen%20Sans%26quot%3B%2C%20verdana%2C%20arial%2C%20sans-serif%3B%20font-size%3A%2012px%3B%20fill%3A%20rgb(89%2C%2089%2C%2089)%3B%20fill-opacity%3A%201%3B%20white-space%3A%20pre%3B%22%3ESVM%20Classifier%3C%2Ftext%3E%3C%2Fg%3E%3C%2Fg%3E%3Cg%20class%3D%22yaxislayer-above%22%3E%3Cg%20class%3D%22ytick%22%3E%3Ctext%20text-anchor%3D%22end%22%20x%3D%2276.6%22%20y%3D%224.199999999999999%22%20data-unformatted%3D%220%22%20data-math%3D%22N%22%20transform%3D%22translate(0%2C278.03999999999996)%22%20style%3D%22font-family%3A%20%26quot%3BOpen%20Sans%26quot%3B%2C%20verdana%2C%20arial%2C%20sans-serif%3B%20font-size%3A%2012px%3B%20fill%3A%20rgb(89%2C%2089%2C%2089)%3B%20fill-opacity%3A%201%3B%20white-space%3A%20pre%3B%22%3E0%3C%2Ftext%3E%3C%2Fg%3E%3Cg%20class%3D%22ytick%22%3E%3Ctext%20text-anchor%3D%22end%22%20x%3D%2276.6%22%20y%3D%224.199999999999999%22%20data-unformatted%3D%2250k%22%20data-math%3D%22N%22%20transform%3D%22translate(0%2C236.51)%22%20style%3D%22font-family%3A%20%26quot%3BOpen%20Sans%26quot%3B%2C%20verdana%2C%20arial%2C%20sans-serif%3B%20font-size%3A%2012px%3B%20fill%3A%20rgb(89%2C%2089%2C%2089)%3B%20fill-opacity%3A%201%3B%20white-space%3A%20pre%3B%22%3E50k%3C%2Ftext%3E%3C%2Fg%3E%3Cg%20class%3D%22ytick%22%3E%3Ctext%20text-anchor%3D%22end%22%20x%3D%2276.6%22%20y%3D%224.199999999999999%22%20data-unformatted%3D%22100k%22%20data-math%3D%22N%22%20transform%3D%22translate(0%2C194.97)%22%20style%3D%22font-family%3A%20%26quot%3BOpen%20Sans%26quot%3B%2C%20verdana%2C%20arial%2C%20sans-serif%3B%20font-size%3A%2012px%3B%20fill%3A%20rgb(89%2C%2089%2C%2089)%3B%20fill-opacity%3A%201%3B%20white-space%3A%20pre%3B%22%3E100k%3C%2Ftext%3E%3C%2Fg%3E%3Cg%20class%3D%22ytick%22%3E%3Ctext%20text-anchor%3D%22end%22%20x%3D%2276.6%22%20y%3D%224.199999999999999%22%20data-unformatted%3D%22150k%22%20data-math%3D%22N%22%20transform%3D%22translate(0%2C153.43)%22%20style%3D%22font-family%3A%20%26quot%3BOpen%20Sans%26quot%3B%2C%20verdana%2C%20arial%2C%20sans-serif%3B%20font-size%3A%2012px%3B%20fill%3A%20rgb(89%2C%2089%2C%2089)%3B%20fill-opacity%3A%201%3B%20white-space%3A%20pre%3B%22%3E150k%3C%2Ftext%3E%3C%2Fg%3E%3Cg%20class%3D%22ytick%22%3E%3Ctext%20text-anchor%3D%22end%22%20x%3D%2276.6%22%20y%3D%224.199999999999999%22%20data-unformatted%3D%22200k%22%20data-math%3D%22N%22%20transform%3D%22translate(0%2C111.89)%22%20style%3D%22font-family%3A%20%26quot%3BOpen%20Sans%26quot%3B%2C%20verdana%2C%20arial%2C%20sans-serif%3B%20font-size%3A%2012px%3B%20fill%3A%20rgb(89%2C%2089%2C%2089)%3B%20fill-opacity%3A%201%3B%20white-space%3A%20pre%3B%22%3E200k%3C%2Ftext%3E%3C%2Fg%3E%3Cg%20class%3D%22ytick%22%3E%3Ctext%20text-anchor%3D%22end%22%20x%3D%2276.6%22%20y%3D%224.199999999999999%22%20data-unformatted%3D%22250k%22%20data-math%3D%22N%22%20transform%3D%22translate(0%2C70.35)%22%20style%3D%22font-family%3A%20%26quot%3BOpen%20Sans%26quot%3B%2C%20verdana%2C%20arial%2C%20sans-serif%3B%20font-size%3A%2012px%3B%20fill%3A%20rgb(89%2C%2089%2C%2089)%3B%20fill-opacity%3A%201%3B%20white-space%3A%20pre%3B%22%3E250k%3C%2Ftext%3E%3C%2Fg%3E%3C%2Fg%3E%3Cg%20class%3D%22overaxes-above%22%2F%3E%3C%2Fg%3E%3C%2Fg%3E%3Cg%20class%3D%22polarlayer%22%2F%3E%3Cg%20class%3D%22ternarylayer%22%2F%3E%3Cg%20class%3D%22geolayer%22%2F%3E%3Cg%20class%3D%22funnelarealayer%22%2F%3E%3Cg%20class%3D%22pielayer%22%2F%3E%3Cg%20class%3D%22treemaplayer%22%2F%3E%3Cg%20class%3D%22sunburstlayer%22%2F%3E%3Cg%20class%3D%22glimages%22%2F%3E%3Cdefs%20id%3D%22topdefs-837405%22%3E%3Cg%20class%3D%22clips%22%2F%3E%3CclipPath%20id%3D%22legend837405%22%3E%3Crect%20width%3D%22216%22%20height%3D%2287%22%20x%3D%220%22%20y%3D%220%22%2F%3E%3C%2FclipPath%3E%3C%2Fdefs%3E%3Cg%20class%3D%22indicatorlayer%22%2F%3E%3Cg%20class%3D%22layer-above%22%3E%3Cg%20class%3D%22imagelayer%22%2F%3E%3Cg%20class%3D%22shapelayer%22%2F%3E%3C%2Fg%3E%3Cg%20class%3D%22infolayer%22%3E%3Cg%20class%3D%22legend%22%20pointer-events%3D%22all%22%20transform%3D%22translate(1125.5%2C30)%22%3E%3Crect%20class%3D%22bg%22%20shape-rendering%3D%22crispEdges%22%20style%3D%22stroke%3A%20rgb(68%2C%2068%2C%2068)%3B%20stroke-opacity%3A%201%3B%20fill%3A%20rgb(255%2C%20255%2C%20255)%3B%20fill-opacity%3A%201%3B%20stroke-width%3A%200px%3B%22%20width%3D%22216%22%20height%3D%2287%22%20x%3D%220%22%20y%3D%220%22%2F%3E%3Cg%20class%3D%22scrollbox%22%20transform%3D%22%22%20clip-path%3D%22url('%23legend837405')%22%3E%3Cg%20class%3D%22groups%22%20transform%3D%22%22%3E%3Cg%20class%3D%22traces%22%20style%3D%22opacity%3A%201%3B%22%20transform%3D%22translate(0%2C14.5)%22%3E%3Ctext%20class%3D%22legendtext%22%20text-anchor%3D%22start%22%20x%3D%2240%22%20y%3D%224.680000000000001%22%20data-unformatted%3D%22Retention%20cost%22%20data-math%3D%22N%22%20style%3D%22font-family%3A%20%26quot%3BOpen%20Sans%26quot%3B%2C%20verdana%2C%20arial%2C%20sans-serif%3B%20font-size%3A%2012px%3B%20fill%3A%20rgb(89%2C%2089%2C%2089)%3B%20fill-opacity%3A%201%3B%20white-space%3A%20pre%3B%22%3ERetention%20cost%3C%2Ftext%3E%3Cg%20class%3D%22layers%22%20style%3D%22opacity%3A%201%3B%22%3E%3Cg%20class%3D%22legendfill%22%2F%3E%3Cg%20class%3D%22legendlines%22%2F%3E%3Cg%20class%3D%22legendsymbols%22%3E%3Cg%20class%3D%22legendpoints%22%3E%3Cpath%20class%3D%22legendundefined%22%20d%3D%22M6%2C6H-6V-6H6Z%22%20transform%3D%22translate(20%2C0)%22%20style%3D%22stroke-width%3A%200px%3B%20fill%3A%20rgb(78%2C%20121%2C%20167)%3B%20fill-opacity%3A%201%3B%22%2F%3E%3C%2Fg%3E%3C%2Fg%3E%3C%2Fg%3E%3Crect%20class%3D%22legendtoggle%22%20pointer-events%3D%22all%22%20x%3D%220%22%20y%3D%22-9.5%22%20width%3D%22210.404296875%22%20height%3D%2219%22%20style%3D%22cursor%3A%20pointer%3B%20fill%3A%20rgb(0%2C%200%2C%200)%3B%20fill-opacity%3A%200%3B%22%2F%3E%3C%2Fg%3E%3C%2Fg%3E%3Cg%20class%3D%22groups%22%20transform%3D%22translate(0%2C10)%22%3E%3Cg%20class%3D%22traces%22%20style%3D%22opacity%3A%201%3B%22%20transform%3D%22translate(0%2C33.5)%22%3E%3Ctext%20class%3D%22legendtext%22%20text-anchor%3D%22start%22%20x%3D%2240%22%20y%3D%224.680000000000001%22%20data-unformatted%3D%22Successful%20Retention%20Cost%22%20data-math%3D%22N%22%20style%3D%22font-family%3A%20%26quot%3BOpen%20Sans%26quot%3B%2C%20verdana%2C%20arial%2C%20sans-serif%3B%20font-size%3A%2012px%3B%20fill%3A%20rgb(89%2C%2089%2C%2089)%3B%20fill-opacity%3A%201%3B%20white-space%3A%20pre%3B%22%3ESuccessful%20Retention%20Cost%3C%2Ftext%3E%3Cg%20class%3D%22layers%22%20style%3D%22opacity%3A%201%3B%22%3E%3Cg%20class%3D%22legendfill%22%2F%3E%3Cg%20class%3D%22legendlines%22%2F%3E%3Cg%20class%3D%22legendsymbols%22%3E%3Cg%20class%3D%22legendpoints%22%3E%3Cpath%20class%3D%22legendundefined%22%20d%3D%22M6%2C6H-6V-6H6Z%22%20transform%3D%22translate(20%2C0)%22%20style%3D%22stroke-width%3A%200px%3B%20fill%3A%20rgb(242%2C%20142%2C%2044)%3B%20fill-opacity%3A%201%3B%22%2F%3E%3C%2Fg%3E%3C%2Fg%3E%3C%2Fg%3E%3Crect%20class%3D%22legendtoggle%22%20pointer-events%3D%22all%22%20x%3D%220%22%20y%3D%22-9.5%22%20width%3D%22210.404296875%22%20height%3D%2219%22%20style%3D%22cursor%3A%20pointer%3B%20fill%3A%20rgb(0%2C%200%2C%200)%3B%20fill-opacity%3A%200%3B%22%2F%3E%3C%2Fg%3E%3C%2Fg%3E%3Cg%20class%3D%22groups%22%20transform%3D%22translate(0%2C20)%22%3E%3Cg%20class%3D%22traces%22%20style%3D%22opacity%3A%201%3B%22%20transform%3D%22translate(0%2C52.5)%22%3E%3Ctext%20class%3D%22legendtext%22%20text-anchor%3D%22start%22%20x%3D%2240%22%20y%3D%224.680000000000001%22%20data-unformatted%3D%22Unsuccessful%20Retention%20Cost%22%20data-math%3D%22N%22%20style%3D%22font-family%3A%20%26quot%3BOpen%20Sans%26quot%3B%2C%20verdana%2C%20arial%2C%20sans-serif%3B%20font-size%3A%2012px%3B%20fill%3A%20rgb(89%2C%2089%2C%2089)%3B%20fill-opacity%3A%201%3B%20white-space%3A%20pre%3B%22%3EUnsuccessful%20Retention%20Cost%3C%2Ftext%3E%3Cg%20class%3D%22layers%22%20style%3D%22opacity%3A%201%3B%22%3E%3Cg%20class%3D%22legendfill%22%2F%3E%3Cg%20class%3D%22legendlines%22%2F%3E%3Cg%20class%3D%22legendsymbols%22%3E%3Cg%20class%3D%22legendpoints%22%3E%3Cpath%20class%3D%22legendundefined%22%20d%3D%22M6%2C6H-6V-6H6Z%22%20transform%3D%22translate(20%2C0)%22%20style%3D%22stroke-width%3A%200px%3B%20fill%3A%20rgb(225%2C%2087%2C%2089)%3B%20fill-opacity%3A%201%3B%22%2F%3E%3C%2Fg%3E%3C%2Fg%3E%3C%2Fg%3E%3Crect%20class%3D%22legendtoggle%22%20pointer-events%3D%22all%22%20x%3D%220%22%20y%3D%22-9.5%22%20width%3D%22210.404296875%22%20height%3D%2219%22%20style%3D%22cursor%3A%20pointer%3B%20fill%3A%20rgb(0%2C%200%2C%200)%3B%20fill-opacity%3A%200%3B%22%2F%3E%3C%2Fg%3E%3C%2Fg%3E%3C%2Fg%3E%3Crect%20class%3D%22scrollbar%22%20rx%3D%2220%22%20ry%3D%223%22%20width%3D%220%22%20height%3D%220%22%20style%3D%22fill%3A%20rgb(128%2C%20139%2C%20164)%3B%20fill-opacity%3A%201%3B%22%20x%3D%220%22%20y%3D%220%22%2F%3E%3C%2Fg%3E%3Cg%20class%3D%22g-gtitle%22%2F%3E%3Cg%20class%3D%22g-xtitle%22%2F%3E%3Cg%20class%3D%22g-ytitle%22%2F%3E%3C%2Fg%3E%3Cg%20class%3D%22menulayer%22%2F%3E%3Cg%20class%3D%22zoomlayer%22%2F%3E%3Cg%20class%3D%22hoverlayer%22%2F%3E%3C%2Fsvg%3E\">"
      ],
      "text/plain": [
       "Open the notebook in JupyterLab with the Atoti extension enabled to build this widget."
      ]
     },
     "metadata": {},
     "output_type": "display_data"
    }
   ],
   "source": [
    "session.visualize(\"Successful retention with respect to cost\")"
   ]
  },
  {
   "cell_type": "markdown",
   "metadata": {},
   "source": [
    "For those models that didn't meet the 90% target NRR, chances are that it identified customers who didn't actually churn within the retention list.  \n",
    "Now we need to make up for this gap in the NRR, let's see how many new customers we need to recruit.  \n",
    "\n",
    "Again, we compute the difference between our _After Campaign RR Loss_ with the _Expected RR Loss_ to see how much revenue we need to replace."
   ]
  },
  {
   "cell_type": "code",
   "execution_count": 49,
   "metadata": {},
   "outputs": [],
   "source": [
    "# gap_to_target_nrr = m[\"TargetNRR\"] - m[\"After Campaign NRR\"]\n",
    "\n",
    "m[\"Gap in revenue loss\"] = m[\"After Campaign RR Loss\"] - m[\"Expected RR Loss\"]\n",
    "\n",
    "m[\"Clients to replace\"] = tt.total(\n",
    "    tt.where(\n",
    "        m[\"Gap in revenue loss\"] > 0,\n",
    "        tt.math.ceil(m[\"Gap in revenue loss\"] / m[\"Churn MonthlyCharges.MEAN\"]),\n",
    "        0,\n",
    "    ),\n",
    "    h[\"ChurnPredicted\"],\n",
    ")"
   ]
  },
  {
   "cell_type": "markdown",
   "metadata": {},
   "source": [
    "Money spent on retention is already spent. We have to add on marketing expense for replacing the customers.  \n",
    "Let's compute the _Actual Expense_."
   ]
  },
  {
   "cell_type": "code",
   "execution_count": 50,
   "metadata": {},
   "outputs": [],
   "source": [
    "m[\"Actual New Customer budget\"] = m[\"Clients to replace\"] * m[\"New Customer budget\"]\n",
    "m[\"Actual Expense\"] = m[\"Retention cost\"] + m[\"Actual New Customer budget\"]"
   ]
  },
  {
   "cell_type": "markdown",
   "metadata": {},
   "source": [
    "Likewise, something that would be interesting for business is the amount of revenue lost."
   ]
  },
  {
   "cell_type": "code",
   "execution_count": 51,
   "metadata": {},
   "outputs": [],
   "source": [
    "m[\"Final Revenue Loss\"] = m[\"After Campaign RR Loss\"] - (\n",
    "    m[\"Clients to replace\"] * m[\"Churn MonthlyCharges.MEAN\"]\n",
    ")\n",
    "\n",
    "m[\"Final NRR\"] = (m[\"MRR Initial\"] - m[\"Final Revenue Loss\"]) / m[\"MRR Initial\"]\n",
    "m[\"Final NRR\"].formatter = \"DOUBLE[#,###.000]\""
   ]
  },
  {
   "cell_type": "markdown",
   "metadata": {},
   "source": [
    "When we look at the NRR which are now above 90%, _Logistic Regression Classifier_ turns out to be the most cost effective model.  "
   ]
  },
  {
   "cell_type": "code",
   "execution_count": 52,
   "metadata": {
    "atoti": {
     "height": 233,
     "widget": {
      "columnWidths": {
       "[Epoch].[Epoch].[Branch]": 170,
       "[Measures].[After Campaign NRR]": 148
      },
      "filters": [],
      "mapping": {
       "columns": [
        "ALL_MEASURES"
       ],
       "measures": [
        "[Measures].[Clients to replace]",
        "[Measures].[Final Revenue Loss]",
        "[Measures].[After Campaign NRR]",
        "[Measures].[Final NRR]",
        "[Measures].[Actual Expense]"
       ],
       "rows": [
        "[Epoch].[Epoch].[Branch]"
       ]
      },
      "query": {
       "mdx": "SELECT NON EMPTY [Epoch].[Epoch].[Branch].Members ON ROWS, NON EMPTY {[Measures].[Clients to replace], [Measures].[Final Revenue Loss], [Measures].[After Campaign NRR], [Measures].[Final NRR], [Measures].[Actual Expense]} ON COLUMNS FROM [customer_cube]",
       "updateMode": "once"
      },
      "serverKey": "default",
      "widgetKey": "pivot-table"
     }
    },
    "tags": []
   },
   "outputs": [
    {
     "data": {
      "application/vnd.atoti.widget.v0+json": {
       "name": "Actual Expense to maintain 90% NRR",
       "sessionId": "1685413173_PPEYJT",
       "sessionLocation": {
        "https": false,
        "port": 58900
       },
       "widgetCreationCode": "session.visualize()"
      },
      "text/html": [
       "<img src=\"data:image/svg+xml;charset=utf8,%3C%3Fxml%20version%3D%221.0%22%20standalone%3D%22no%22%3F%3E%3Csvg%20xmlns%3D%22http%3A%2F%2Fwww.w3.org%2F2000%2Fsvg%22%20height%3D%22225%22%20width%3D%221342%22%3E%3CforeignObject%20width%3D%22100%25%22%20height%3D%22100%25%22%20x%3D%220%22%20y%3D%220%22%3E%3Cstyle%20xmlns%3D%22http%3A%2F%2Fwww.w3.org%2F1999%2Fxhtml%22%20type%3D%22text%2Fcss%22%3E*%2C%20%3A%3Abefore%2C%20%3A%3Aafter%20%7Bbox-sizing%3A%20unset%7D%0A.ant-root%20%5Bclass%5E%3D%22ant-%22%5D%2C%20.ant-root%20%5Bclass*%3D%22ant-%22%5D%2C%20.ant-root%20%5Bclass%5E%3D%22ant-%22%5D%20*%2C%20.ant-root%20%5Bclass*%3D%22ant-%22%5D%20*%2C%20.ant-root%20%5Bclass%5E%3D%22ant-%22%5D%20%3A%3Abefore%2C%20.ant-root%20%5Bclass*%3D%22ant-%22%5D%20%3A%3Abefore%2C%20.ant-root%20%5Bclass%5E%3D%22ant-%22%5D%20%3A%3Aafter%2C%20.ant-root%20%5Bclass*%3D%22ant-%22%5D%20%3A%3Aafter%20%7Bbox-sizing%3A%20border-box%7D%0A.ant-root%2C%20.ant-root%20%7Bwidth%3A%20100%25%3B%20height%3A%20100%25%7D%0A.ant-root%20*%2C%20.ant-root%20%3A%3Abefore%2C%20.ant-root%20%3A%3Aafter%20%7Bbox-sizing%3A%20border-box%7D%0A.ant-root%20%7Btext-size-adjust%3A%20100%25%3B%20-webkit-tap-highlight-color%3A%20rgba(0%2C%200%2C%200%2C%200)%3B%20font-family%3A%20-apple-system%2C%20BlinkMacSystemFont%2C%20%22Segoe%20UI%22%2C%20Roboto%2C%20%22Helvetica%20Neue%22%2C%20Arial%2C%20%22Noto%20Sans%22%2C%20sans-serif%2C%20%22Apple%20Color%20Emoji%22%2C%20%22Segoe%20UI%20Emoji%22%2C%20%22Segoe%20UI%20Symbol%22%2C%20%22Noto%20Color%20Emoji%22%3B%20line-height%3A%201.66667%3B%20color%3A%20rgb(89%2C%2089%2C%2089)%3B%20font-variant-ligatures%3A%20normal%3B%20font-variant-numeric%3A%20tabular-nums%3B%20font-variant-east-asian%3A%20normal%3B%20font-variant-caps%3A%20normal%3B%20font-variant-alternates%3A%20normal%3B%20background-color%3A%20rgb(255%2C%20255%2C%20255)%3B%20margin-top%3A%200px%3B%20margin-right%3A%200px%3B%20margin-bottom%3A%200px%3B%20margin-left%3A%200px%3B%20font-size%3A%2012px%3B%20--antd-wave-shadow-color%3A%20%231890ff%3B%20--scroll-bar%3A%200%7D%0A.ant-root%20.aui-invisible-scrollbars%20%7B%7D%0A.css-12ebr42-AWidget%20%7Bheight%3A%20100%25%7D%0A.css-1b1raxz-DefaultWidgetLoadingOverlay%20%7Bdisplay%3A%20flex%3B%20height%3A%20100%25%3B%20-webkit-box-pack%3A%20center%3B%20justify-content%3A%20center%3B%20position%3A%20absolute%3B%20width%3A%20100%25%3B%20-webkit-box-align%3A%20center%3B%20align-items%3A%20center%3B%20pointer-events%3A%20none%3B%20z-index%3A%202%7D%0A.css-34a2ml-DefaultWidgetLoadingOverlay%20%7Bbackground-image%3A%20initial%3B%20background-position-x%3A%20initial%3B%20background-position-y%3A%20initial%3B%20background-size%3A%20initial%3B%20background-repeat-x%3A%20initial%3B%20background-repeat-y%3A%20initial%3B%20background-attachment%3A%20initial%3B%20background-origin%3A%20initial%3B%20background-clip%3A%20initial%3B%20background-color%3A%20transparent%3B%20width%3A%20calc(100%25%20-%204px)%3B%20height%3A%20calc(100%25%20-%204px)%7D%0A.css-2p9ued-WidgetLoadingOverlay%20%7Bheight%3A%20100%25%3B%20position%3A%20relative%7D%0A.css-1hwl8p1-Table%20%7Bpadding-bottom%3A%202px%3B%20padding-right%3A%202px%3B%20height%3A%20100%25%7D%0A.css-14ejcn0-Table%20%7Bheight%3A%20calc(100%25%20-%2030px)%3B%20outline-color%3A%20initial%3B%20outline-style%3A%20none%3B%20outline-width%3A%20initial%3B%20position%3A%20relative%7D%0A.css-1rxpjm0-ColumnResizeHint%20%7Bdisplay%3A%20none%3B%20position%3A%20absolute%3B%20z-index%3A%201%7D%0A.css-walxhl-ColumnResizeHint%20%7Bheight%3A%2028px%3B%20background-color%3A%20rgb(24%2C%20144%2C%20255)%3B%20width%3A%205px%7D%0A.css-1uww2vi-Table%20%7Bheight%3A%2030px%3B%20text-align%3A%20right%3B%20padding-right%3A%2025px%7D%0A.css-xxcrt1-ResizableCell%20%7Bbackground-image%3A%20initial%3B%20background-position-x%3A%20initial%3B%20background-position-y%3A%20initial%3B%20background-size%3A%20initial%3B%20background-repeat-x%3A%20initial%3B%20background-repeat-y%3A%20initial%3B%20background-attachment%3A%20initial%3B%20background-origin%3A%20initial%3B%20background-clip%3A%20initial%3B%20background-color%3A%20transparent%3B%20cursor%3A%20col-resize%3B%20height%3A%20100%25%3B%20position%3A%20absolute%3B%20right%3A%200px%3B%20width%3A%205px%3B%20z-index%3A%201%7D%0A.css-1hol363-ResizableCell%20%7Bdisplay%3A%20flex%3B%20flex-direction%3A%20column%3B%20position%3A%20absolute%3B%20top%3A%200px%3B%20left%3A%200px%3B%20height%3A%2028px%3B%20width%3A%20120px%7D%0A.css-fpuq48-ResizableCell%20%7Bdisplay%3A%20flex%3B%20flex-direction%3A%20column%3B%20position%3A%20absolute%3B%20top%3A%200px%3B%20left%3A%20120px%3B%20height%3A%2028px%3B%20width%3A%20120px%7D%0A.css-19rqym0-Table%20%7Bborder-collapse%3A%20collapse%3B%20height%3A%2028px%3B%20width%3A%20170px%7D%0A.css-1eorwt1%20%7Bheight%3A%2028px%3B%20width%3A%20170px%7D%0A.css-159rhol%20%7Bcursor%3A%20cell%3B%20height%3A%2028px%3B%20overflow-x%3A%20hidden%3B%20overflow-y%3A%20hidden%3B%20position%3A%20relative%3B%20width%3A%20170px%3B%20border-right-width%3A%202px%3B%20border-right-style%3A%20solid%3B%20border-right-color%3A%20rgb(233%2C%20233%2C%20233)%7D%0A.css-107wbdi-ResizableCell%20%7Bdisplay%3A%20flex%3B%20flex-direction%3A%20column%3B%20position%3A%20absolute%3B%20top%3A%200px%3B%20left%3A%200px%3B%20height%3A%2028px%3B%20width%3A%20170px%7D%0A.css-atsg2c%20%7Bcursor%3A%20cell%3B%20height%3A%20140px%3B%20overflow-x%3A%20hidden%3B%20overflow-y%3A%20hidden%3B%20position%3A%20relative%3B%20width%3A%20170px%3B%20border-top-width%3A%202px%3B%20border-top-style%3A%20solid%3B%20border-top-color%3A%20rgb(233%2C%20233%2C%20233)%3B%20border-right-width%3A%202px%3B%20border-right-style%3A%20solid%3B%20border-right-color%3A%20rgb(233%2C%20233%2C%20233)%7D%0A.css-y6iw6o-Table%20%7Bwidth%3A%201170px%3B%20border-collapse%3A%20collapse%7D%0A.css-u4zxy4%20%7Bheight%3A%2028px%3B%20width%3A%201152px%3B%20overflow-x%3A%20auto%3B%20overflow-y%3A%20hidden%7D%0A.css-w4vgvh-ColumnResizeHint%20%7Bdisplay%3A%20none%3B%20float%3A%20right%3B%20height%3A%20165px%3B%20background-color%3A%20rgb(24%2C%20144%2C%20255)%3B%20opacity%3A%200.4%3B%20width%3A%202px%7D%0A.css-vjaoy8-Table%20%7Bdisplay%3A%20flex%3B%20height%3A%20193px%7D%0A.css-1aixbf8%20%7Bheight%3A%20165px%3B%20width%3A%20170px%3B%20overflow-x%3A%20hidden%3B%20overflow-y%3A%20auto%7D%0A.css-1cp18vt%20%7Bcursor%3A%20cell%3B%20height%3A%2028px%3B%20overflow-x%3A%20hidden%3B%20overflow-y%3A%20hidden%3B%20position%3A%20relative%3B%20width%3A%20628px%7D%0A.css-1fdf420-ResizableCell%20%7Bdisplay%3A%20flex%3B%20flex-direction%3A%20column%3B%20position%3A%20absolute%3B%20top%3A%200px%3B%20left%3A%20240px%3B%20height%3A%2028px%3B%20width%3A%20148px%7D%0A.css-11ibk0j-ResizableCell%20%7Bdisplay%3A%20flex%3B%20flex-direction%3A%20column%3B%20position%3A%20absolute%3B%20top%3A%200px%3B%20left%3A%20388px%3B%20height%3A%2028px%3B%20width%3A%20120px%7D%0A.css-1uvnbs6-ResizableCell%20%7Bdisplay%3A%20flex%3B%20flex-direction%3A%20column%3B%20position%3A%20absolute%3B%20top%3A%200px%3B%20left%3A%20508px%3B%20height%3A%2028px%3B%20width%3A%20120px%7D%0A.css-1bytf05%20%7Bheight%3A%20165px%3B%20width%3A%201170px%3B%20overflow-x%3A%20auto%3B%20overflow-y%3A%20auto%7D%0A.css-8r0yax%20%7Bcursor%3A%20cell%3B%20height%3A%20140px%3B%20overflow-x%3A%20hidden%3B%20overflow-y%3A%20hidden%3B%20position%3A%20relative%3B%20width%3A%20628px%3B%20border-top-width%3A%202px%3B%20border-top-style%3A%20solid%3B%20border-top-color%3A%20rgb(233%2C%20233%2C%20233)%7D%0A*%20%7B-ms-overflow-style%3A%20none%3B%20scrollbar-width%3A%20none%7D%0A*%3A%3A-webkit-scrollbar%20%7Bdisplay%3A%20none%7D%0A.atoti-hidden-in-snapshot%20%7Bdisplay%3A%20none%7D%3C%2Fstyle%3E%3Cdiv%20xmlns%3D%22http%3A%2F%2Fwww.w3.org%2F1999%2Fxhtml%22%20style%3D%22height%3A%20225px%3B%20width%3A%201342px%3B%22%3E%3Cdiv%20class%3D%22ant-root%20css-0%22%3E%3Cdiv%20class%3D%22ant-dropdown-trigger%20css-12ebr42-AWidget%22%3E%3Cdiv%20class%3D%22css-2p9ued-WidgetLoadingOverlay%22%3E%3Cdiv%20class%3D%22css-1b1raxz-DefaultWidgetLoadingOverlay%22%3E%3Cdiv%20class%3D%22css-34a2ml-DefaultWidgetLoadingOverlay%22%3E%3C%2Fdiv%3E%3C%2Fdiv%3E%3Cdiv%20class%3D%22css-1hwl8p1-Table%22%3E%3Cdiv%20tabindex%3D%220%22%20class%3D%22css-14ejcn0-Table%22%3E%3Cdiv%20class%3D%22css-1rxpjm0-ColumnResizeHint%22%3E%3Cdiv%20class%3D%22css-walxhl-ColumnResizeHint%22%3E%3C%2Fdiv%3E%3Cdiv%20class%3D%22css-w4vgvh-ColumnResizeHint%22%3E%3C%2Fdiv%3E%3C%2Fdiv%3E%3Cdiv%20class%3D%22css-vjaoy8-Table%22%3E%3Cdiv%20class%3D%22css-19rqym0-Table%22%3E%3Cdiv%20class%3D%22%20css-1eorwt1%22%3E%3Cdiv%20class%3D%22css-159rhol%22%3E%3Cdiv%20class%3D%22css-107wbdi-ResizableCell%22%3E%3Cdiv%20class%3D%22aui-table-cell%22%20style%3D%22height%3A%2028px%3B%20left%3A%200px%3B%20top%3A%200px%3B%20width%3A%20165px%3B%20text-align%3A%20left%3B%20font-size%3A%2012px%3B%20padding%3A%204px%204px%203px%3B%20overflow%3A%20hidden%3B%20position%3A%20absolute%3B%20white-space%3A%20nowrap%3B%20text-overflow%3A%20ellipsis%3B%20font-weight%3A%20600%3B%20display%3A%20flex%3B%20align-items%3A%20center%3B%22%3E%3Cspan%3EScenario%3C%2Fspan%3E%3C%2Fdiv%3E%3Cdiv%20class%3D%22css-xxcrt1-ResizableCell%22%3E%3C%2Fdiv%3E%3C%2Fdiv%3E%3C%2Fdiv%3E%3C%2Fdiv%3E%3Cdiv%20class%3D%22aui-invisible-scrollbars%20css-1aixbf8%22%3E%3Cdiv%20class%3D%22css-atsg2c%22%3E%3Cdiv%20style%3D%22display%3A%20flex%3B%20align-items%3A%20center%3B%20height%3A%2028px%3B%20left%3A%200px%3B%20top%3A%200px%3B%20width%3A%20170px%3B%20text-align%3A%20left%3B%20font-size%3A%2012px%3B%20padding%3A%204px%204px%203px%3B%20overflow%3A%20hidden%3B%20position%3A%20absolute%3B%20white-space%3A%20nowrap%3B%20text-overflow%3A%20ellipsis%3B%20border-right%3A%202px%20solid%20rgb(233%2C%20233%2C%20233)%3B%20background-color%3A%20transparent%3B%22%3E%3Cspan%20style%3D%22text-overflow%3A%20ellipsis%3B%20overflow%3A%20hidden%3B%20white-space%3A%20nowrap%3B%20max-width%3A%20calc((100%25%20-%200px)%20-%200px)%3B%22%3EBase%3C%2Fspan%3E%3C%2Fdiv%3E%3Cdiv%20style%3D%22display%3A%20flex%3B%20align-items%3A%20center%3B%20height%3A%2028px%3B%20left%3A%200px%3B%20top%3A%2028px%3B%20width%3A%20170px%3B%20text-align%3A%20left%3B%20font-size%3A%2012px%3B%20padding%3A%204px%204px%203px%3B%20overflow%3A%20hidden%3B%20position%3A%20absolute%3B%20white-space%3A%20nowrap%3B%20text-overflow%3A%20ellipsis%3B%20border-right%3A%202px%20solid%20rgb(233%2C%20233%2C%20233)%3B%20background-color%3A%20rgb(250%2C%20250%2C%20250)%3B%22%3E%3Cspan%20style%3D%22text-overflow%3A%20ellipsis%3B%20overflow%3A%20hidden%3B%20white-space%3A%20nowrap%3B%20max-width%3A%20calc((100%25%20-%200px)%20-%200px)%3B%22%3EDummy%20Uniform%20Classifier%3C%2Fspan%3E%3C%2Fdiv%3E%3Cdiv%20style%3D%22display%3A%20flex%3B%20align-items%3A%20center%3B%20height%3A%2028px%3B%20left%3A%200px%3B%20top%3A%2056px%3B%20width%3A%20170px%3B%20text-align%3A%20left%3B%20font-size%3A%2012px%3B%20padding%3A%204px%204px%203px%3B%20overflow%3A%20hidden%3B%20position%3A%20absolute%3B%20white-space%3A%20nowrap%3B%20text-overflow%3A%20ellipsis%3B%20border-right%3A%202px%20solid%20rgb(233%2C%20233%2C%20233)%3B%20background-color%3A%20transparent%3B%22%3E%3Cspan%20style%3D%22text-overflow%3A%20ellipsis%3B%20overflow%3A%20hidden%3B%20white-space%3A%20nowrap%3B%20max-width%3A%20calc((100%25%20-%200px)%20-%200px)%3B%22%3ELogistic%20Regression%20Classifier%3C%2Fspan%3E%3C%2Fdiv%3E%3Cdiv%20style%3D%22display%3A%20flex%3B%20align-items%3A%20center%3B%20height%3A%2028px%3B%20left%3A%200px%3B%20top%3A%2084px%3B%20width%3A%20170px%3B%20text-align%3A%20left%3B%20font-size%3A%2012px%3B%20padding%3A%204px%204px%203px%3B%20overflow%3A%20hidden%3B%20position%3A%20absolute%3B%20white-space%3A%20nowrap%3B%20text-overflow%3A%20ellipsis%3B%20border-right%3A%202px%20solid%20rgb(233%2C%20233%2C%20233)%3B%20background-color%3A%20rgb(250%2C%20250%2C%20250)%3B%22%3E%3Cspan%20style%3D%22text-overflow%3A%20ellipsis%3B%20overflow%3A%20hidden%3B%20white-space%3A%20nowrap%3B%20max-width%3A%20calc((100%25%20-%200px)%20-%200px)%3B%22%3ENaive%20Bayes%20Classifier%3C%2Fspan%3E%3C%2Fdiv%3E%3Cdiv%20style%3D%22display%3A%20flex%3B%20align-items%3A%20center%3B%20height%3A%2028px%3B%20left%3A%200px%3B%20top%3A%20112px%3B%20width%3A%20170px%3B%20text-align%3A%20left%3B%20font-size%3A%2012px%3B%20padding%3A%204px%204px%203px%3B%20overflow%3A%20hidden%3B%20position%3A%20absolute%3B%20white-space%3A%20nowrap%3B%20text-overflow%3A%20ellipsis%3B%20border-right%3A%202px%20solid%20rgb(233%2C%20233%2C%20233)%3B%20background-color%3A%20transparent%3B%22%3E%3Cspan%20style%3D%22text-overflow%3A%20ellipsis%3B%20overflow%3A%20hidden%3B%20white-space%3A%20nowrap%3B%20max-width%3A%20calc((100%25%20-%200px)%20-%200px)%3B%22%3ESVM%20Classifier%3C%2Fspan%3E%3C%2Fdiv%3E%3C%2Fdiv%3E%3C%2Fdiv%3E%3C%2Fdiv%3E%3Cdiv%20class%3D%22css-y6iw6o-Table%22%3E%3Cdiv%20class%3D%22aui-invisible-scrollbars%20css-u4zxy4%22%3E%3Cdiv%20class%3D%22css-1cp18vt%22%3E%3Cdiv%20class%3D%22css-1hol363-ResizableCell%22%3E%3Cdiv%20style%3D%22display%3A%20flex%3B%20align-items%3A%20center%3B%20height%3A%2028px%3B%20left%3A%200px%3B%20top%3A%200px%3B%20width%3A%20115px%3B%20text-align%3A%20left%3B%20font-size%3A%2012px%3B%20padding%3A%204px%204px%203px%3B%20overflow%3A%20hidden%3B%20position%3A%20absolute%3B%20white-space%3A%20nowrap%3B%20text-overflow%3A%20ellipsis%3B%20font-weight%3A%20600%3B%22%3E%3Cspan%20style%3D%22text-overflow%3A%20ellipsis%3B%20overflow%3A%20hidden%3B%20white-space%3A%20nowrap%3B%20max-width%3A%20calc((100%25%20-%200px)%20-%200px)%3B%22%3EClients%20to%20replace%3C%2Fspan%3E%3C%2Fdiv%3E%3Cdiv%20class%3D%22css-xxcrt1-ResizableCell%22%3E%3C%2Fdiv%3E%3C%2Fdiv%3E%3Cdiv%20class%3D%22css-fpuq48-ResizableCell%22%3E%3Cdiv%20style%3D%22display%3A%20flex%3B%20align-items%3A%20center%3B%20height%3A%2028px%3B%20left%3A%200px%3B%20top%3A%200px%3B%20width%3A%20115px%3B%20text-align%3A%20left%3B%20font-size%3A%2012px%3B%20padding%3A%204px%204px%203px%3B%20overflow%3A%20hidden%3B%20position%3A%20absolute%3B%20white-space%3A%20nowrap%3B%20text-overflow%3A%20ellipsis%3B%20font-weight%3A%20600%3B%22%3E%3Cspan%20style%3D%22text-overflow%3A%20ellipsis%3B%20overflow%3A%20hidden%3B%20white-space%3A%20nowrap%3B%20max-width%3A%20calc((100%25%20-%200px)%20-%200px)%3B%22%3EFinal%20Revenue%20Loss%3C%2Fspan%3E%3C%2Fdiv%3E%3Cdiv%20class%3D%22css-xxcrt1-ResizableCell%22%3E%3C%2Fdiv%3E%3C%2Fdiv%3E%3Cdiv%20class%3D%22css-1fdf420-ResizableCell%22%3E%3Cdiv%20style%3D%22display%3A%20flex%3B%20align-items%3A%20center%3B%20height%3A%2028px%3B%20left%3A%200px%3B%20top%3A%200px%3B%20width%3A%20143px%3B%20text-align%3A%20left%3B%20font-size%3A%2012px%3B%20padding%3A%204px%204px%203px%3B%20overflow%3A%20hidden%3B%20position%3A%20absolute%3B%20white-space%3A%20nowrap%3B%20text-overflow%3A%20ellipsis%3B%20font-weight%3A%20600%3B%22%3E%3Cspan%20style%3D%22text-overflow%3A%20ellipsis%3B%20overflow%3A%20hidden%3B%20white-space%3A%20nowrap%3B%20max-width%3A%20calc((100%25%20-%200px)%20-%200px)%3B%22%3EAfter%20Campaign%20NRR%3C%2Fspan%3E%3C%2Fdiv%3E%3Cdiv%20class%3D%22css-xxcrt1-ResizableCell%22%3E%3C%2Fdiv%3E%3C%2Fdiv%3E%3Cdiv%20class%3D%22css-11ibk0j-ResizableCell%22%3E%3Cdiv%20style%3D%22display%3A%20flex%3B%20align-items%3A%20center%3B%20height%3A%2028px%3B%20left%3A%200px%3B%20top%3A%200px%3B%20width%3A%20115px%3B%20text-align%3A%20left%3B%20font-size%3A%2012px%3B%20padding%3A%204px%204px%203px%3B%20overflow%3A%20hidden%3B%20position%3A%20absolute%3B%20white-space%3A%20nowrap%3B%20text-overflow%3A%20ellipsis%3B%20font-weight%3A%20600%3B%22%3E%3Cspan%20style%3D%22text-overflow%3A%20ellipsis%3B%20overflow%3A%20hidden%3B%20white-space%3A%20nowrap%3B%20max-width%3A%20calc((100%25%20-%200px)%20-%200px)%3B%22%3EFinal%20NRR%3C%2Fspan%3E%3C%2Fdiv%3E%3Cdiv%20class%3D%22css-xxcrt1-ResizableCell%22%3E%3C%2Fdiv%3E%3C%2Fdiv%3E%3Cdiv%20class%3D%22css-1uvnbs6-ResizableCell%22%3E%3Cdiv%20style%3D%22display%3A%20flex%3B%20align-items%3A%20center%3B%20height%3A%2028px%3B%20left%3A%200px%3B%20top%3A%200px%3B%20width%3A%20115px%3B%20text-align%3A%20left%3B%20font-size%3A%2012px%3B%20padding%3A%204px%204px%203px%3B%20overflow%3A%20hidden%3B%20position%3A%20absolute%3B%20white-space%3A%20nowrap%3B%20text-overflow%3A%20ellipsis%3B%20font-weight%3A%20600%3B%22%3E%3Cspan%20style%3D%22text-overflow%3A%20ellipsis%3B%20overflow%3A%20hidden%3B%20white-space%3A%20nowrap%3B%20max-width%3A%20calc((100%25%20-%200px)%20-%200px)%3B%22%3EActual%20Expense%3C%2Fspan%3E%3C%2Fdiv%3E%3Cdiv%20class%3D%22css-xxcrt1-ResizableCell%22%3E%3C%2Fdiv%3E%3C%2Fdiv%3E%3C%2Fdiv%3E%3C%2Fdiv%3E%3Cdiv%20class%3D%22%20css-1bytf05%22%3E%3Cdiv%20class%3D%22css-8r0yax%22%3E%3Cdiv%20class%3D%22aui-table-cell%22%20style%3D%22height%3A%2028px%3B%20left%3A%200px%3B%20top%3A%200px%3B%20width%3A%20120px%3B%20text-align%3A%20right%3B%20font-size%3A%2012px%3B%20padding%3A%204px%204px%203px%3B%20overflow%3A%20hidden%3B%20position%3A%20absolute%3B%20white-space%3A%20nowrap%3B%20text-overflow%3A%20ellipsis%3B%20border-right%3A%201px%20solid%20rgb(233%2C%20233%2C%20233)%3B%20background-color%3A%20transparent%3B%22%3E0%3C%2Fdiv%3E%3Cdiv%20class%3D%22aui-table-cell%22%20style%3D%22height%3A%2028px%3B%20left%3A%20120px%3B%20top%3A%200px%3B%20width%3A%20120px%3B%20text-align%3A%20right%3B%20font-size%3A%2012px%3B%20padding%3A%204px%204px%203px%3B%20overflow%3A%20hidden%3B%20position%3A%20absolute%3B%20white-space%3A%20nowrap%3B%20text-overflow%3A%20ellipsis%3B%20border-right%3A%201px%20solid%20rgb(233%2C%20233%2C%20233)%3B%20background-color%3A%20transparent%3B%22%3E9%2C392.35%3C%2Fdiv%3E%3Cdiv%20class%3D%22aui-table-cell%22%20style%3D%22height%3A%2028px%3B%20left%3A%20240px%3B%20top%3A%200px%3B%20width%3A%20148px%3B%20text-align%3A%20right%3B%20font-size%3A%2012px%3B%20padding%3A%204px%204px%203px%3B%20overflow%3A%20hidden%3B%20position%3A%20absolute%3B%20white-space%3A%20nowrap%3B%20text-overflow%3A%20ellipsis%3B%20border-right%3A%201px%20solid%20rgb(233%2C%20233%2C%20233)%3B%20background-color%3A%20transparent%3B%22%3E.98%3C%2Fdiv%3E%3Cdiv%20class%3D%22aui-table-cell%22%20style%3D%22height%3A%2028px%3B%20left%3A%20388px%3B%20top%3A%200px%3B%20width%3A%20120px%3B%20text-align%3A%20right%3B%20font-size%3A%2012px%3B%20padding%3A%204px%204px%203px%3B%20overflow%3A%20hidden%3B%20position%3A%20absolute%3B%20white-space%3A%20nowrap%3B%20text-overflow%3A%20ellipsis%3B%20border-right%3A%201px%20solid%20rgb(233%2C%20233%2C%20233)%3B%20background-color%3A%20transparent%3B%22%3E.979%3C%2Fdiv%3E%3Cdiv%20class%3D%22aui-table-cell%22%20style%3D%22height%3A%2028px%3B%20left%3A%20508px%3B%20top%3A%200px%3B%20width%3A%20120px%3B%20text-align%3A%20right%3B%20font-size%3A%2012px%3B%20padding%3A%204px%204px%203px%3B%20overflow%3A%20hidden%3B%20position%3A%20absolute%3B%20white-space%3A%20nowrap%3B%20text-overflow%3A%20ellipsis%3B%20border-right%3A%201px%20solid%20rgb(233%2C%20233%2C%20233)%3B%20background-color%3A%20transparent%3B%22%3E144%2C400%3C%2Fdiv%3E%3Cdiv%20class%3D%22aui-table-cell%22%20style%3D%22height%3A%2028px%3B%20left%3A%200px%3B%20top%3A%2028px%3B%20width%3A%20120px%3B%20text-align%3A%20right%3B%20font-size%3A%2012px%3B%20padding%3A%204px%204px%203px%3B%20overflow%3A%20hidden%3B%20position%3A%20absolute%3B%20white-space%3A%20nowrap%3B%20text-overflow%3A%20ellipsis%3B%20border-right%3A%201px%20solid%20rgb(233%2C%20233%2C%20233)%3B%20background-color%3A%20rgb(250%2C%20250%2C%20250)%3B%22%3E524%3C%2Fdiv%3E%3Cdiv%20class%3D%22aui-table-cell%22%20style%3D%22height%3A%2028px%3B%20left%3A%20120px%3B%20top%3A%2028px%3B%20width%3A%20120px%3B%20text-align%3A%20right%3B%20font-size%3A%2012px%3B%20padding%3A%204px%204px%203px%3B%20overflow%3A%20hidden%3B%20position%3A%20absolute%3B%20white-space%3A%20nowrap%3B%20text-overflow%3A%20ellipsis%3B%20border-right%3A%201px%20solid%20rgb(233%2C%20233%2C%20233)%3B%20background-color%3A%20rgb(250%2C%20250%2C%20250)%3B%22%3E45%2C563.14%3C%2Fdiv%3E%3Cdiv%20class%3D%22aui-table-cell%22%20style%3D%22height%3A%2028px%3B%20left%3A%20240px%3B%20top%3A%2028px%3B%20width%3A%20148px%3B%20text-align%3A%20right%3B%20font-size%3A%2012px%3B%20padding%3A%204px%204px%203px%3B%20overflow%3A%20hidden%3B%20position%3A%20absolute%3B%20white-space%3A%20nowrap%3B%20text-overflow%3A%20ellipsis%3B%20border-right%3A%201px%20solid%20rgb(233%2C%20233%2C%20233)%3B%20background-color%3A%20rgb(250%2C%20250%2C%20250)%3B%22%3E.83%3C%2Fdiv%3E%3Cdiv%20class%3D%22aui-table-cell%22%20style%3D%22height%3A%2028px%3B%20left%3A%20388px%3B%20top%3A%2028px%3B%20width%3A%20120px%3B%20text-align%3A%20right%3B%20font-size%3A%2012px%3B%20padding%3A%204px%204px%203px%3B%20overflow%3A%20hidden%3B%20position%3A%20absolute%3B%20white-space%3A%20nowrap%3B%20text-overflow%3A%20ellipsis%3B%20border-right%3A%201px%20solid%20rgb(233%2C%20233%2C%20233)%3B%20background-color%3A%20rgb(250%2C%20250%2C%20250)%3B%22%3E.900%3C%2Fdiv%3E%3Cdiv%20class%3D%22aui-table-cell%22%20style%3D%22height%3A%2028px%3B%20left%3A%20508px%3B%20top%3A%2028px%3B%20width%3A%20120px%3B%20text-align%3A%20right%3B%20font-size%3A%2012px%3B%20padding%3A%204px%204px%203px%3B%20overflow%3A%20hidden%3B%20position%3A%20absolute%3B%20white-space%3A%20nowrap%3B%20text-overflow%3A%20ellipsis%3B%20border-right%3A%201px%20solid%20rgb(233%2C%20233%2C%20233)%3B%20background-color%3A%20rgb(250%2C%20250%2C%20250)%3B%22%3E543%2C600%3C%2Fdiv%3E%3Cdiv%20class%3D%22aui-table-cell%22%20style%3D%22height%3A%2028px%3B%20left%3A%200px%3B%20top%3A%2056px%3B%20width%3A%20120px%3B%20text-align%3A%20right%3B%20font-size%3A%2012px%3B%20padding%3A%204px%204px%203px%3B%20overflow%3A%20hidden%3B%20position%3A%20absolute%3B%20white-space%3A%20nowrap%3B%20text-overflow%3A%20ellipsis%3B%20border-right%3A%201px%20solid%20rgb(233%2C%20233%2C%20233)%3B%20background-color%3A%20transparent%3B%22%3E70%3C%2Fdiv%3E%3Cdiv%20class%3D%22aui-table-cell%22%20style%3D%22height%3A%2028px%3B%20left%3A%20120px%3B%20top%3A%2056px%3B%20width%3A%20120px%3B%20text-align%3A%20right%3B%20font-size%3A%2012px%3B%20padding%3A%204px%204px%203px%3B%20overflow%3A%20hidden%3B%20position%3A%20absolute%3B%20white-space%3A%20nowrap%3B%20text-overflow%3A%20ellipsis%3B%20border-right%3A%201px%20solid%20rgb(233%2C%20233%2C%20233)%3B%20background-color%3A%20transparent%3B%22%3E45%2C554.48%3C%2Fdiv%3E%3Cdiv%20class%3D%22aui-table-cell%22%20style%3D%22height%3A%2028px%3B%20left%3A%20240px%3B%20top%3A%2056px%3B%20width%3A%20148px%3B%20text-align%3A%20right%3B%20font-size%3A%2012px%3B%20padding%3A%204px%204px%203px%3B%20overflow%3A%20hidden%3B%20position%3A%20absolute%3B%20white-space%3A%20nowrap%3B%20text-overflow%3A%20ellipsis%3B%20border-right%3A%201px%20solid%20rgb(233%2C%20233%2C%20233)%3B%20background-color%3A%20transparent%3B%22%3E.89%3C%2Fdiv%3E%3Cdiv%20class%3D%22aui-table-cell%22%20style%3D%22height%3A%2028px%3B%20left%3A%20388px%3B%20top%3A%2056px%3B%20width%3A%20120px%3B%20text-align%3A%20right%3B%20font-size%3A%2012px%3B%20padding%3A%204px%204px%203px%3B%20overflow%3A%20hidden%3B%20position%3A%20absolute%3B%20white-space%3A%20nowrap%3B%20text-overflow%3A%20ellipsis%3B%20border-right%3A%201px%20solid%20rgb(233%2C%20233%2C%20233)%3B%20background-color%3A%20transparent%3B%22%3E.900%3C%2Fdiv%3E%3Cdiv%20class%3D%22aui-table-cell%22%20style%3D%22height%3A%2028px%3B%20left%3A%20508px%3B%20top%3A%2056px%3B%20width%3A%20120px%3B%20text-align%3A%20right%3B%20font-size%3A%2012px%3B%20padding%3A%204px%204px%203px%3B%20overflow%3A%20hidden%3B%20position%3A%20absolute%3B%20white-space%3A%20nowrap%3B%20text-overflow%3A%20ellipsis%3B%20border-right%3A%201px%20solid%20rgb(233%2C%20233%2C%20233)%3B%20background-color%3A%20transparent%3B%22%3E199%2C200%3C%2Fdiv%3E%3Cdiv%20class%3D%22aui-table-cell%22%20style%3D%22height%3A%2028px%3B%20left%3A%200px%3B%20top%3A%2084px%3B%20width%3A%20120px%3B%20text-align%3A%20right%3B%20font-size%3A%2012px%3B%20padding%3A%204px%204px%203px%3B%20overflow%3A%20hidden%3B%20position%3A%20absolute%3B%20white-space%3A%20nowrap%3B%20text-overflow%3A%20ellipsis%3B%20border-right%3A%201px%20solid%20rgb(233%2C%20233%2C%20233)%3B%20background-color%3A%20rgb(250%2C%20250%2C%20250)%3B%22%3E152%3C%2Fdiv%3E%3Cdiv%20class%3D%22aui-table-cell%22%20style%3D%22height%3A%2028px%3B%20left%3A%20120px%3B%20top%3A%2084px%3B%20width%3A%20120px%3B%20text-align%3A%20right%3B%20font-size%3A%2012px%3B%20padding%3A%204px%204px%203px%3B%20overflow%3A%20hidden%3B%20position%3A%20absolute%3B%20white-space%3A%20nowrap%3B%20text-overflow%3A%20ellipsis%3B%20border-right%3A%201px%20solid%20rgb(233%2C%20233%2C%20233)%3B%20background-color%3A%20rgb(250%2C%20250%2C%20250)%3B%22%3E45%2C534.37%3C%2Fdiv%3E%3Cdiv%20class%3D%22aui-table-cell%22%20style%3D%22height%3A%2028px%3B%20left%3A%20240px%3B%20top%3A%2084px%3B%20width%3A%20148px%3B%20text-align%3A%20right%3B%20font-size%3A%2012px%3B%20padding%3A%204px%204px%203px%3B%20overflow%3A%20hidden%3B%20position%3A%20absolute%3B%20white-space%3A%20nowrap%3B%20text-overflow%3A%20ellipsis%3B%20border-right%3A%201px%20solid%20rgb(233%2C%20233%2C%20233)%3B%20background-color%3A%20rgb(250%2C%20250%2C%20250)%3B%22%3E.88%3C%2Fdiv%3E%3Cdiv%20class%3D%22aui-table-cell%22%20style%3D%22height%3A%2028px%3B%20left%3A%20388px%3B%20top%3A%2084px%3B%20width%3A%20120px%3B%20text-align%3A%20right%3B%20font-size%3A%2012px%3B%20padding%3A%204px%204px%203px%3B%20overflow%3A%20hidden%3B%20position%3A%20absolute%3B%20white-space%3A%20nowrap%3B%20text-overflow%3A%20ellipsis%3B%20border-right%3A%201px%20solid%20rgb(233%2C%20233%2C%20233)%3B%20background-color%3A%20rgb(250%2C%20250%2C%20250)%3B%22%3E.900%3C%2Fdiv%3E%3Cdiv%20class%3D%22aui-table-cell%22%20style%3D%22height%3A%2028px%3B%20left%3A%20508px%3B%20top%3A%2084px%3B%20width%3A%20120px%3B%20text-align%3A%20right%3B%20font-size%3A%2012px%3B%20padding%3A%204px%204px%203px%3B%20overflow%3A%20hidden%3B%20position%3A%20absolute%3B%20white-space%3A%20nowrap%3B%20text-overflow%3A%20ellipsis%3B%20border-right%3A%201px%20solid%20rgb(233%2C%20233%2C%20233)%3B%20background-color%3A%20rgb(250%2C%20250%2C%20250)%3B%22%3E222%2C900%3C%2Fdiv%3E%3Cdiv%20class%3D%22aui-table-cell%22%20style%3D%22height%3A%2028px%3B%20left%3A%200px%3B%20top%3A%20112px%3B%20width%3A%20120px%3B%20text-align%3A%20right%3B%20font-size%3A%2012px%3B%20padding%3A%204px%204px%203px%3B%20overflow%3A%20hidden%3B%20position%3A%20absolute%3B%20white-space%3A%20nowrap%3B%20text-overflow%3A%20ellipsis%3B%20border-right%3A%201px%20solid%20rgb(233%2C%20233%2C%20233)%3B%20background-color%3A%20transparent%3B%22%3E0%3C%2Fdiv%3E%3Cdiv%20class%3D%22aui-table-cell%22%20style%3D%22height%3A%2028px%3B%20left%3A%20120px%3B%20top%3A%20112px%3B%20width%3A%20120px%3B%20text-align%3A%20right%3B%20font-size%3A%2012px%3B%20padding%3A%204px%204px%203px%3B%20overflow%3A%20hidden%3B%20position%3A%20absolute%3B%20white-space%3A%20nowrap%3B%20text-overflow%3A%20ellipsis%3B%20border-right%3A%201px%20solid%20rgb(233%2C%20233%2C%20233)%3B%20background-color%3A%20transparent%3B%22%3E33%2C350.05%3C%2Fdiv%3E%3Cdiv%20class%3D%22aui-table-cell%22%20style%3D%22height%3A%2028px%3B%20left%3A%20240px%3B%20top%3A%20112px%3B%20width%3A%20148px%3B%20text-align%3A%20right%3B%20font-size%3A%2012px%3B%20padding%3A%204px%204px%203px%3B%20overflow%3A%20hidden%3B%20position%3A%20absolute%3B%20white-space%3A%20nowrap%3B%20text-overflow%3A%20ellipsis%3B%20border-right%3A%201px%20solid%20rgb(233%2C%20233%2C%20233)%3B%20background-color%3A%20transparent%3B%22%3E.93%3C%2Fdiv%3E%3Cdiv%20class%3D%22aui-table-cell%22%20style%3D%22height%3A%2028px%3B%20left%3A%20388px%3B%20top%3A%20112px%3B%20width%3A%20120px%3B%20text-align%3A%20right%3B%20font-size%3A%2012px%3B%20padding%3A%204px%204px%203px%3B%20overflow%3A%20hidden%3B%20position%3A%20absolute%3B%20white-space%3A%20nowrap%3B%20text-overflow%3A%20ellipsis%3B%20border-right%3A%201px%20solid%20rgb(233%2C%20233%2C%20233)%3B%20background-color%3A%20transparent%3B%22%3E.927%3C%2Fdiv%3E%3Cdiv%20class%3D%22aui-table-cell%22%20style%3D%22height%3A%2028px%3B%20left%3A%20508px%3B%20top%3A%20112px%3B%20width%3A%20120px%3B%20text-align%3A%20right%3B%20font-size%3A%2012px%3B%20padding%3A%204px%204px%203px%3B%20overflow%3A%20hidden%3B%20position%3A%20absolute%3B%20white-space%3A%20nowrap%3B%20text-overflow%3A%20ellipsis%3B%20border-right%3A%201px%20solid%20rgb(233%2C%20233%2C%20233)%3B%20background-color%3A%20transparent%3B%22%3E249%2C600%3C%2Fdiv%3E%3C%2Fdiv%3E%3C%2Fdiv%3E%3C%2Fdiv%3E%3C%2Fdiv%3E%3C%2Fdiv%3E%3Cdiv%20class%3D%22css-1uww2vi-Table%22%3E%3C%2Fdiv%3E%3C%2Fdiv%3E%3C%2Fdiv%3E%3C%2Fdiv%3E%3C%2Fdiv%3E%3C%2Fdiv%3E%3C%2FforeignObject%3E%3C%2Fsvg%3E\">"
      ],
      "text/plain": [
       "Open the notebook in JupyterLab with the Atoti extension enabled to build this widget."
      ]
     },
     "metadata": {},
     "output_type": "display_data"
    }
   ],
   "source": [
    "session.visualize(\"Actual Expense to maintain 90% NRR\")"
   ]
  },
  {
   "cell_type": "markdown",
   "metadata": {},
   "source": [
    "Now if we compare _Logistic Regression Classifier_ against _SVM Classifier_ that has the highest NRR, we can see that we have to spend \\\\$50k more in order to get the \\\\$12k additional increase in revenue. \n",
    "\n",
    "Here below, we compare SVM Classifier with Logistic Regression Classifier which is the best performing model."
   ]
  },
  {
   "cell_type": "code",
   "execution_count": 53,
   "metadata": {
    "atoti": {
     "height": 144,
     "widget": {
      "columnWidths": {
       "[Epoch].[Epoch].[Branch]": 170
      },
      "comparison": {
       "comparedMemberNamePath": [
        "SVM Classifier"
       ],
       "dimensionName": "Epoch",
       "hierarchyName": "Epoch",
       "referenceMemberNamePath": [
        "Logistic Regression Classifier"
       ]
      },
      "filters": [
       "{[Epoch].[Epoch].[SVM Classifier], [Epoch].[Epoch].[Logistic Regression Classifier]}"
      ],
      "mapping": {
       "columns": [
        "ALL_MEASURES"
       ],
       "measures": [
        "[Measures].[Final Revenue Loss]",
        "[Measures].[Actual Expense]"
       ],
       "rows": []
      },
      "name": "SVM Classifier vs Logistic Regression Classifier",
      "query": {
       "mdx": "SELECT NON EMPTY {[Measures].[Final Revenue Loss], [Measures].[Actual Expense]} ON COLUMNS FROM [customer_cube]"
      },
      "serverKey": "default",
      "switchedTo": "kpi",
      "widgetKey": "pivot-table"
     }
    },
    "tags": []
   },
   "outputs": [
    {
     "data": {
      "application/vnd.atoti.widget.v0+json": {
       "name": "SVM Classifier vs Logistic Regression Classifier",
       "sessionId": "1685413173_PPEYJT",
       "sessionLocation": {
        "https": false,
        "port": 58900
       },
       "widgetCreationCode": "session.visualize()"
      },
      "text/html": [
       "<img src=\"data:image/svg+xml;charset=utf8,%3C%3Fxml%20version%3D%221.0%22%20standalone%3D%22no%22%3F%3E%3Csvg%20xmlns%3D%22http%3A%2F%2Fwww.w3.org%2F2000%2Fsvg%22%20height%3D%22136%22%20width%3D%221342%22%3E%3CforeignObject%20width%3D%22100%25%22%20height%3D%22100%25%22%20x%3D%220%22%20y%3D%220%22%3E%3Cstyle%20xmlns%3D%22http%3A%2F%2Fwww.w3.org%2F1999%2Fxhtml%22%20type%3D%22text%2Fcss%22%3E*%2C%20%3A%3Abefore%2C%20%3A%3Aafter%20%7Bbox-sizing%3A%20unset%7D%0A.ant-root%20%5Bclass%5E%3D%22ant-%22%5D%2C%20.ant-root%20%5Bclass*%3D%22ant-%22%5D%2C%20.ant-root%20%5Bclass%5E%3D%22ant-%22%5D%20*%2C%20.ant-root%20%5Bclass*%3D%22ant-%22%5D%20*%2C%20.ant-root%20%5Bclass%5E%3D%22ant-%22%5D%20%3A%3Abefore%2C%20.ant-root%20%5Bclass*%3D%22ant-%22%5D%20%3A%3Abefore%2C%20.ant-root%20%5Bclass%5E%3D%22ant-%22%5D%20%3A%3Aafter%2C%20.ant-root%20%5Bclass*%3D%22ant-%22%5D%20%3A%3Aafter%20%7Bbox-sizing%3A%20border-box%7D%0A.ant-root%2C%20.ant-root%20%7Bwidth%3A%20100%25%3B%20height%3A%20100%25%7D%0A.ant-root%20*%2C%20.ant-root%20%3A%3Abefore%2C%20.ant-root%20%3A%3Aafter%20%7Bbox-sizing%3A%20border-box%7D%0A.ant-root%20%7Btext-size-adjust%3A%20100%25%3B%20-webkit-tap-highlight-color%3A%20rgba(0%2C%200%2C%200%2C%200)%3B%20font-family%3A%20-apple-system%2C%20BlinkMacSystemFont%2C%20%22Segoe%20UI%22%2C%20Roboto%2C%20%22Helvetica%20Neue%22%2C%20Arial%2C%20%22Noto%20Sans%22%2C%20sans-serif%2C%20%22Apple%20Color%20Emoji%22%2C%20%22Segoe%20UI%20Emoji%22%2C%20%22Segoe%20UI%20Symbol%22%2C%20%22Noto%20Color%20Emoji%22%3B%20line-height%3A%201.66667%3B%20color%3A%20rgb(89%2C%2089%2C%2089)%3B%20font-variant-ligatures%3A%20normal%3B%20font-variant-numeric%3A%20tabular-nums%3B%20font-variant-east-asian%3A%20normal%3B%20font-variant-caps%3A%20normal%3B%20font-variant-alternates%3A%20normal%3B%20background-color%3A%20rgb(255%2C%20255%2C%20255)%3B%20margin-top%3A%200px%3B%20margin-right%3A%200px%3B%20margin-bottom%3A%200px%3B%20margin-left%3A%200px%3B%20font-size%3A%2012px%3B%20--antd-wave-shadow-color%3A%20%231890ff%3B%20--scroll-bar%3A%200%7D%0A.ant-root%20a%2C%20.ant-root%20area%2C%20.ant-root%20button%2C%20.ant-root%20%5Brole%3D%22button%22%5D%2C%20.ant-root%20input%3Anot(%5Btype%3D%22range%22%5D)%2C%20.ant-root%20label%2C%20.ant-root%20select%2C%20.ant-root%20summary%2C%20.ant-root%20textarea%20%7Btouch-action%3A%20manipulation%7D%0A.ant-root%20table%20%7Bborder-collapse%3A%20collapse%7D%0A.ant-root%20input%2C%20.ant-root%20button%2C%20.ant-root%20select%2C%20.ant-root%20optgroup%2C%20.ant-root%20textarea%20%7Bcolor%3A%20inherit%3B%20font-size%3A%20inherit%3B%20font-family%3A%20inherit%3B%20line-height%3A%20inherit%3B%20margin-top%3A%200px%3B%20margin-right%3A%200px%3B%20margin-bottom%3A%200px%3B%20margin-left%3A%200px%7D%0A.ant-root%20button%2C%20.ant-root%20input%20%7Boverflow-x%3A%20visible%3B%20overflow-y%3A%20visible%7D%0A.css-12ebr42-AWidget%20%7Bheight%3A%20100%25%7D%0A.css-1b1raxz-DefaultWidgetLoadingOverlay%20%7Bdisplay%3A%20flex%3B%20height%3A%20100%25%3B%20-webkit-box-pack%3A%20center%3B%20justify-content%3A%20center%3B%20position%3A%20absolute%3B%20width%3A%20100%25%3B%20-webkit-box-align%3A%20center%3B%20align-items%3A%20center%3B%20pointer-events%3A%20none%3B%20z-index%3A%202%7D%0A.css-34a2ml-DefaultWidgetLoadingOverlay%20%7Bbackground-image%3A%20initial%3B%20background-position-x%3A%20initial%3B%20background-position-y%3A%20initial%3B%20background-size%3A%20initial%3B%20background-repeat-x%3A%20initial%3B%20background-repeat-y%3A%20initial%3B%20background-attachment%3A%20initial%3B%20background-origin%3A%20initial%3B%20background-clip%3A%20initial%3B%20background-color%3A%20transparent%3B%20width%3A%20calc(100%25%20-%204px)%3B%20height%3A%20calc(100%25%20-%204px)%7D%0A.css-2p9ued-WidgetLoadingOverlay%20%7Bheight%3A%20100%25%3B%20position%3A%20relative%7D%0A.css-1gs7mol-GridOfKpis%20%7Bpadding-bottom%3A%202px%3B%20padding-right%3A%202px%3B%20width%3A%20100%25%3B%20height%3A%20100%25%7D%0A.css-1gcu0ga-GridOfKpis%20%7Bwidth%3A%20100%25%3B%20height%3A%20100%25%3B%20overflow-x%3A%20auto%3B%20overflow-y%3A%20auto%7D%0A.css-rppi2-GridOfKpis%20%7B-webkit-border-horizontal-spacing%3A%2020px%3B%20-webkit-border-vertical-spacing%3A%2010px%3B%20border-collapse%3A%20separate%20!important%7D%0A.css-wfocel-SingleKpiComparison%20%7Bbackground-image%3A%20none%3B%20background-position-x%3A%20initial%3B%20background-position-y%3A%20initial%3B%20background-size%3A%20initial%3B%20background-repeat-x%3A%20initial%3B%20background-repeat-y%3A%20initial%3B%20background-attachment%3A%20initial%3B%20background-origin%3A%20initial%3B%20background-clip%3A%20initial%3B%20background-color%3A%20initial%3B%20padding-top%3A%202px%3B%20padding-right%3A%205px%3B%20padding-bottom%3A%202px%3B%20padding-left%3A%205px%3B%20white-space%3A%20nowrap%7D%0A.css-1amqsfe-captionValueCss%20%7Bheight%3A%2025px%3B%20display%3A%20flex%3B%20-webkit-box-align%3A%20center%3B%20align-items%3A%20center%3B%20-webkit-box-pack%3A%20justify%3B%20justify-content%3A%20space-between%7D%0A.css-10ana7o-AutoSizedInput%20%7Bposition%3A%20relative%7D%0A.css-10ana7o-AutoSizedInput%20input%20%7Bcolor%3A%20rgb(89%2C%2089%2C%2089)%3B%20padding-left%3A%202px%3B%20padding-right%3A%202px%3B%20height%3A%2025px%3B%20border-top-width%3A%201px%3B%20border-right-width%3A%201px%3B%20border-bottom-width%3A%201px%3B%20border-left-width%3A%201px%3B%20border-top-style%3A%20solid%3B%20border-right-style%3A%20solid%3B%20border-bottom-style%3A%20solid%3B%20border-left-style%3A%20solid%3B%20border-top-color%3A%20transparent%3B%20border-right-color%3A%20transparent%3B%20border-bottom-color%3A%20transparent%3B%20border-left-color%3A%20transparent%3B%20border-image-source%3A%20initial%3B%20border-image-slice%3A%20initial%3B%20border-image-width%3A%20initial%3B%20border-image-outset%3A%20initial%3B%20border-image-repeat%3A%20initial%3B%20background-image%3A%20initial%3B%20background-position-x%3A%20initial%3B%20background-position-y%3A%20initial%3B%20background-size%3A%20initial%3B%20background-repeat-x%3A%20initial%3B%20background-repeat-y%3A%20initial%3B%20background-attachment%3A%20initial%3B%20background-origin%3A%20initial%3B%20background-clip%3A%20initial%3B%20background-color%3A%20transparent%7D%0A.css-drsoo9-AutoSizedInput%20%7Bpadding-left%3A%202px%3B%20padding-right%3A%202px%3B%20color%3A%20rgb(89%2C%2089%2C%2089)%3B%20height%3A%2025px%3B%20border-top-width%3A%201px%3B%20border-right-width%3A%201px%3B%20border-bottom-width%3A%201px%3B%20border-left-width%3A%201px%3B%20border-top-style%3A%20solid%3B%20border-right-style%3A%20solid%3B%20border-bottom-style%3A%20solid%3B%20border-left-style%3A%20solid%3B%20border-top-color%3A%20transparent%3B%20border-right-color%3A%20transparent%3B%20border-bottom-color%3A%20transparent%3B%20border-left-color%3A%20transparent%3B%20border-image-source%3A%20initial%3B%20border-image-slice%3A%20initial%3B%20border-image-width%3A%20initial%3B%20border-image-outset%3A%20initial%3B%20border-image-repeat%3A%20initial%3B%20background-image%3A%20initial%3B%20background-position-x%3A%20initial%3B%20background-position-y%3A%20initial%3B%20background-size%3A%20initial%3B%20background-repeat-x%3A%20initial%3B%20background-repeat-y%3A%20initial%3B%20background-attachment%3A%20initial%3B%20background-origin%3A%20initial%3B%20background-clip%3A%20initial%3B%20background-color%3A%20transparent%3B%20opacity%3A%200%3B%20pointer-events%3A%20none%3B%20width%3A%20fit-content%3B%20position%3A%20absolute%3B%20top%3A%200px%3B%20white-space%3A%20pre%7D%0A.css-t1yq8p-SingleKpiComparison%20%7Bmargin-left%3A%204px%3B%20color%3A%20rgb(245%2C%2034%2C%2045)%7D%0A.css-164757w-SingleKpiComparison%20%7Bmargin-left%3A%203px%3B%20padding-left%3A%206px%3B%20border-left-width%3A%203px%3B%20border-left-style%3A%20solid%3B%20border-left-color%3A%20rgb(24%2C%20144%2C%20255)%3B%20white-space%3A%20nowrap%7D%0A.css-fhq4hf-SingleKpiComparison%20%7Bpadding-left%3A%202px%7D%0A.css-alm88o-SingleKpiComparison%20%7Bmargin-left%3A%204px%7D%0A.css-15z4fmb-SingleKpiComparison%20%7Bpadding-left%3A%202px%3B%20font-weight%3A%20600%7D%0A.css-x3tqew-SingleKpiComparison%20%7Bmargin-left%3A%204px%3B%20font-weight%3A%20600%7D%0A.css-1ejcrwf-SingleKpiComparison%20%7Bmargin-left%3A%204px%3B%20color%3A%20rgb(82%2C%20196%2C%2026)%7D%0A.css-c9ncsp-AutoSizedInput%20%7Bbackground-color%3A%20rgb(255%2C%20255%2C%20255)%3B%20min-width%3A%20105px%7D%0A.css-k4w8yh-AutoSizedInput%20%7Bbackground-color%3A%20rgb(255%2C%20255%2C%20255)%3B%20min-width%3A%2085.5156px%7D%0A*%20%7B-ms-overflow-style%3A%20none%3B%20scrollbar-width%3A%20none%7D%0A*%3A%3A-webkit-scrollbar%20%7Bdisplay%3A%20none%7D%0A.atoti-hidden-in-snapshot%20%7Bdisplay%3A%20none%7D%3C%2Fstyle%3E%3Cdiv%20xmlns%3D%22http%3A%2F%2Fwww.w3.org%2F1999%2Fxhtml%22%20style%3D%22height%3A%20136px%3B%20width%3A%201342px%3B%22%3E%3Cdiv%20class%3D%22ant-root%20css-0%22%3E%3Cdiv%20class%3D%22ant-dropdown-trigger%20css-12ebr42-AWidget%22%3E%3Cdiv%20class%3D%22css-2p9ued-WidgetLoadingOverlay%22%3E%3Cdiv%20class%3D%22css-1b1raxz-DefaultWidgetLoadingOverlay%22%3E%3Cdiv%20class%3D%22css-34a2ml-DefaultWidgetLoadingOverlay%22%3E%3C%2Fdiv%3E%3C%2Fdiv%3E%3Cdiv%20class%3D%22css-1gs7mol-GridOfKpis%22%3E%3Cdiv%20class%3D%22css-1gcu0ga-GridOfKpis%22%3E%3Ctable%20class%3D%22css-rppi2-GridOfKpis%22%3E%3Ctbody%3E%3Ctr%3E%3Ctd%3E%3Cdiv%20class%3D%22css-wfocel-SingleKpiComparison%22%3E%3Cdiv%20class%3D%22css-1amqsfe-captionValueCss%22%3E%3Cdiv%20class%3D%22css-10ana7o-AutoSizedInput%22%3E%3Cinput%20class%3D%22css-c9ncsp-AutoSizedInput%22%20value%3D%22Final%20Revenue%20Loss%22%20%2F%3E%3Cdiv%20class%3D%22css-drsoo9-AutoSizedInput%22%3EFinal%20Revenue%20Loss%3C%2Fdiv%3E%3C%2Fdiv%3E%3Cspan%20class%3D%22css-t1yq8p-SingleKpiComparison%22%3E-12%2C204.43%3C%2Fspan%3E%3C%2Fdiv%3E%3Cdiv%20class%3D%22css-164757w-SingleKpiComparison%22%3E%3Cdiv%20class%3D%22css-1amqsfe-captionValueCss%22%3E%3Cspan%20class%3D%22css-fhq4hf-SingleKpiComparison%22%3ELogistic%20Regression%20Classifier%3C%2Fspan%3E%3Cspan%20class%3D%22css-alm88o-SingleKpiComparison%22%3E45%2C554.48%3C%2Fspan%3E%3C%2Fdiv%3E%3Cdiv%20class%3D%22css-1amqsfe-captionValueCss%22%3E%3Cspan%20class%3D%22css-15z4fmb-SingleKpiComparison%22%3ESVM%20Classifier%3C%2Fspan%3E%3Cspan%20class%3D%22css-x3tqew-SingleKpiComparison%22%3E33%2C350.05%3C%2Fspan%3E%3C%2Fdiv%3E%3C%2Fdiv%3E%3C%2Fdiv%3E%3C%2Ftd%3E%3Ctd%3E%3Cdiv%20class%3D%22css-wfocel-SingleKpiComparison%22%3E%3Cdiv%20class%3D%22css-1amqsfe-captionValueCss%22%3E%3Cdiv%20class%3D%22css-10ana7o-AutoSizedInput%22%3E%3Cinput%20class%3D%22css-k4w8yh-AutoSizedInput%22%20value%3D%22Actual%20Expense%22%20%2F%3E%3Cdiv%20class%3D%22css-drsoo9-AutoSizedInput%22%3EActual%20Expense%3C%2Fdiv%3E%3C%2Fdiv%3E%3Cspan%20class%3D%22css-1ejcrwf-SingleKpiComparison%22%3E%2B50%2C400%3C%2Fspan%3E%3C%2Fdiv%3E%3Cdiv%20class%3D%22css-164757w-SingleKpiComparison%22%3E%3Cdiv%20class%3D%22css-1amqsfe-captionValueCss%22%3E%3Cspan%20class%3D%22css-fhq4hf-SingleKpiComparison%22%3ELogistic%20Regression%20Classifier%3C%2Fspan%3E%3Cspan%20class%3D%22css-alm88o-SingleKpiComparison%22%3E199%2C200%3C%2Fspan%3E%3C%2Fdiv%3E%3Cdiv%20class%3D%22css-1amqsfe-captionValueCss%22%3E%3Cspan%20class%3D%22css-15z4fmb-SingleKpiComparison%22%3ESVM%20Classifier%3C%2Fspan%3E%3Cspan%20class%3D%22css-x3tqew-SingleKpiComparison%22%3E249%2C600%3C%2Fspan%3E%3C%2Fdiv%3E%3C%2Fdiv%3E%3C%2Fdiv%3E%3C%2Ftd%3E%3C%2Ftr%3E%3C%2Ftbody%3E%3C%2Ftable%3E%3C%2Fdiv%3E%3C%2Fdiv%3E%3C%2Fdiv%3E%3C%2Fdiv%3E%3C%2Fdiv%3E%3C%2Fdiv%3E%3C%2FforeignObject%3E%3C%2Fsvg%3E\">"
      ],
      "text/plain": [
       "Open the notebook in JupyterLab with the Atoti extension enabled to build this widget."
      ]
     },
     "metadata": {},
     "output_type": "display_data"
    }
   ],
   "source": [
    "session.visualize(\"SVM Classifier vs Logistic Regression Classifier\")"
   ]
  },
  {
   "cell_type": "markdown",
   "metadata": {},
   "source": [
    "## What-if we want 95% NRR?\n",
    "\n",
    "We can easily setup a new parameter simulation that allow us to replace the _TargetNRR_.\n",
    "\n",
    "Here, we replace the definition of the measure `TargetNRR` with simulated value as shown below:"
   ]
  },
  {
   "cell_type": "code",
   "execution_count": 54,
   "metadata": {},
   "outputs": [],
   "source": [
    "NRR_simulation = cube.create_parameter_simulation(\n",
    "    \"NRR Simulation\", measures={\"TargetNRR\": 0.90}, base_scenario_name=\"90% NRR\"\n",
    ")"
   ]
  },
  {
   "cell_type": "markdown",
   "metadata": {},
   "source": [
    "We create a scenario corresponding to achieving 95% NRR."
   ]
  },
  {
   "cell_type": "code",
   "execution_count": 55,
   "metadata": {},
   "outputs": [],
   "source": [
    "NRR_simulation += (\"95% NRR\", 0.95)"
   ]
  },
  {
   "cell_type": "markdown",
   "metadata": {},
   "source": [
    "We see the expense to achieve 95% NRR is close to 1.5 times the expense to achieve 90% NRR.  \n",
    "All the predictions have a gap with the targeted NRR, hence requires new recruitment of customers to replace those who have churn.  \n",
    "This consequently results in higher expenses."
   ]
  },
  {
   "cell_type": "code",
   "execution_count": 56,
   "metadata": {
    "atoti": {
     "height": 284,
     "widget": {
      "columnWidths": {
       "[Epoch].[Epoch].[Branch]": 167
      },
      "filters": [],
      "mapping": {
       "columns": [
        "[NRR Simulation].[NRR Simulation].[NRR Simulation]",
        "ALL_MEASURES"
       ],
       "measures": [
        "[Measures].[After Campaign NRR]",
        "[Measures].[Clients to replace]",
        "[Measures].[Actual Expense]",
        "[Measures].[Final Revenue Loss]",
        "[Measures].[Final NRR]"
       ],
       "rows": [
        "[Epoch].[Epoch].[Branch]"
       ]
      },
      "name": "",
      "query": {
       "mdx": "WITH  Member [Measures].[Actual Expense (1)] AS [Measures].[Actual Expense], CAPTION = [Measures].[Actual Expense].MEMBER_CAPTION, FORMAT_STRING = \"#,###\", FONT_FLAGS = 1, FORE_COLOR = rgb(0, 0, 255)  SELECT NON EMPTY Crossjoin([NRR Simulation].[NRR Simulation].[NRR Simulation].Members, {[Measures].[Actual Expense (1)], [Measures].[After Campaign NRR], [Measures].[Actual Expense], [Measures].[Final Revenue Loss], [Measures].[Final NRR], [Measures].[Clients to replace]}) ON COLUMNS, NON EMPTY [Epoch].[Epoch].[Branch].Members ON ROWS FROM [customer_cube] CELL PROPERTIES BACK_COLOR, FONT_FLAGS, FORE_COLOR, FORMATTED_VALUE, VALUE"
      },
      "serverKey": "default",
      "widgetKey": "pivot-table"
     }
    },
    "tags": []
   },
   "outputs": [
    {
     "data": {
      "application/vnd.atoti.widget.v0+json": {
       "name": null,
       "sessionId": "1685413173_PPEYJT",
       "sessionLocation": {
        "https": false,
        "port": 58900
       },
       "widgetCreationCode": "session.visualize()"
      },
      "text/html": [
       "<img src=\"data:image/svg+xml;charset=utf8,%3C%3Fxml%20version%3D%221.0%22%20standalone%3D%22no%22%3F%3E%3Csvg%20xmlns%3D%22http%3A%2F%2Fwww.w3.org%2F2000%2Fsvg%22%20height%3D%22276%22%20width%3D%221342%22%3E%3CforeignObject%20width%3D%22100%25%22%20height%3D%22100%25%22%20x%3D%220%22%20y%3D%220%22%3E%3Cstyle%20xmlns%3D%22http%3A%2F%2Fwww.w3.org%2F1999%2Fxhtml%22%20type%3D%22text%2Fcss%22%3E*%2C%20%3A%3Abefore%2C%20%3A%3Aafter%20%7Bbox-sizing%3A%20unset%7D%0A.ant-root%20%5Bclass%5E%3D%22ant-%22%5D%2C%20.ant-root%20%5Bclass*%3D%22ant-%22%5D%2C%20.ant-root%20%5Bclass%5E%3D%22ant-%22%5D%20*%2C%20.ant-root%20%5Bclass*%3D%22ant-%22%5D%20*%2C%20.ant-root%20%5Bclass%5E%3D%22ant-%22%5D%20%3A%3Abefore%2C%20.ant-root%20%5Bclass*%3D%22ant-%22%5D%20%3A%3Abefore%2C%20.ant-root%20%5Bclass%5E%3D%22ant-%22%5D%20%3A%3Aafter%2C%20.ant-root%20%5Bclass*%3D%22ant-%22%5D%20%3A%3Aafter%20%7Bbox-sizing%3A%20border-box%7D%0A.ant-root%2C%20.ant-root%20%7Bwidth%3A%20100%25%3B%20height%3A%20100%25%7D%0A.ant-root%20*%2C%20.ant-root%20%3A%3Abefore%2C%20.ant-root%20%3A%3Aafter%20%7Bbox-sizing%3A%20border-box%7D%0A.ant-root%20%7Btext-size-adjust%3A%20100%25%3B%20-webkit-tap-highlight-color%3A%20rgba(0%2C%200%2C%200%2C%200)%3B%20font-family%3A%20-apple-system%2C%20BlinkMacSystemFont%2C%20%22Segoe%20UI%22%2C%20Roboto%2C%20%22Helvetica%20Neue%22%2C%20Arial%2C%20%22Noto%20Sans%22%2C%20sans-serif%2C%20%22Apple%20Color%20Emoji%22%2C%20%22Segoe%20UI%20Emoji%22%2C%20%22Segoe%20UI%20Symbol%22%2C%20%22Noto%20Color%20Emoji%22%3B%20line-height%3A%201.66667%3B%20color%3A%20rgb(89%2C%2089%2C%2089)%3B%20font-variant-ligatures%3A%20normal%3B%20font-variant-numeric%3A%20tabular-nums%3B%20font-variant-east-asian%3A%20normal%3B%20font-variant-caps%3A%20normal%3B%20font-variant-alternates%3A%20normal%3B%20background-color%3A%20rgb(255%2C%20255%2C%20255)%3B%20margin-top%3A%200px%3B%20margin-right%3A%200px%3B%20margin-bottom%3A%200px%3B%20margin-left%3A%200px%3B%20font-size%3A%2012px%3B%20--antd-wave-shadow-color%3A%20%231890ff%3B%20--scroll-bar%3A%200%7D%0A.ant-root%20.aui-invisible-scrollbars%20%7B%7D%0A.css-12ebr42-AWidget%20%7Bheight%3A%20100%25%7D%0A.css-1b1raxz-DefaultWidgetLoadingOverlay%20%7Bdisplay%3A%20flex%3B%20height%3A%20100%25%3B%20-webkit-box-pack%3A%20center%3B%20justify-content%3A%20center%3B%20position%3A%20absolute%3B%20width%3A%20100%25%3B%20-webkit-box-align%3A%20center%3B%20align-items%3A%20center%3B%20pointer-events%3A%20none%3B%20z-index%3A%202%7D%0A.css-34a2ml-DefaultWidgetLoadingOverlay%20%7Bbackground-image%3A%20initial%3B%20background-position-x%3A%20initial%3B%20background-position-y%3A%20initial%3B%20background-size%3A%20initial%3B%20background-repeat-x%3A%20initial%3B%20background-repeat-y%3A%20initial%3B%20background-attachment%3A%20initial%3B%20background-origin%3A%20initial%3B%20background-clip%3A%20initial%3B%20background-color%3A%20transparent%3B%20width%3A%20calc(100%25%20-%204px)%3B%20height%3A%20calc(100%25%20-%204px)%7D%0A.css-2p9ued-WidgetLoadingOverlay%20%7Bheight%3A%20100%25%3B%20position%3A%20relative%7D%0A.css-1hwl8p1-Table%20%7Bpadding-bottom%3A%202px%3B%20padding-right%3A%202px%3B%20height%3A%20100%25%7D%0A.css-14ejcn0-Table%20%7Bheight%3A%20calc(100%25%20-%2030px)%3B%20outline-color%3A%20initial%3B%20outline-style%3A%20none%3B%20outline-width%3A%20initial%3B%20position%3A%20relative%7D%0A.css-1rxpjm0-ColumnResizeHint%20%7Bdisplay%3A%20none%3B%20position%3A%20absolute%3B%20z-index%3A%201%7D%0A.css-1uww2vi-Table%20%7Bheight%3A%2030px%3B%20text-align%3A%20right%3B%20padding-right%3A%2025px%7D%0A.css-xxcrt1-ResizableCell%20%7Bbackground-image%3A%20initial%3B%20background-position-x%3A%20initial%3B%20background-position-y%3A%20initial%3B%20background-size%3A%20initial%3B%20background-repeat-x%3A%20initial%3B%20background-repeat-y%3A%20initial%3B%20background-attachment%3A%20initial%3B%20background-origin%3A%20initial%3B%20background-clip%3A%20initial%3B%20background-color%3A%20transparent%3B%20cursor%3A%20col-resize%3B%20height%3A%20100%25%3B%20position%3A%20absolute%3B%20right%3A%200px%3B%20width%3A%205px%3B%20z-index%3A%201%7D%0A.css-1hol363-ResizableCell%20%7Bdisplay%3A%20flex%3B%20flex-direction%3A%20column%3B%20position%3A%20absolute%3B%20top%3A%200px%3B%20left%3A%200px%3B%20height%3A%2028px%3B%20width%3A%20120px%7D%0A.css-fpuq48-ResizableCell%20%7Bdisplay%3A%20flex%3B%20flex-direction%3A%20column%3B%20position%3A%20absolute%3B%20top%3A%200px%3B%20left%3A%20120px%3B%20height%3A%2028px%3B%20width%3A%20120px%7D%0A.css-3geaec-ResizableCell%20%7Bdisplay%3A%20flex%3B%20flex-direction%3A%20column%3B%20position%3A%20absolute%3B%20top%3A%200px%3B%20left%3A%20240px%3B%20height%3A%2028px%3B%20width%3A%20120px%7D%0A.css-9kbkmr-ResizableCell%20%7Bdisplay%3A%20flex%3B%20flex-direction%3A%20column%3B%20position%3A%20absolute%3B%20top%3A%200px%3B%20left%3A%20360px%3B%20height%3A%2028px%3B%20width%3A%20120px%7D%0A.css-76qu0m-ResizableCell%20%7Bdisplay%3A%20flex%3B%20flex-direction%3A%20column%3B%20position%3A%20absolute%3B%20top%3A%200px%3B%20left%3A%20480px%3B%20height%3A%2028px%3B%20width%3A%20120px%7D%0A.css-1h9kznl-ResizableCell%20%7Bdisplay%3A%20flex%3B%20flex-direction%3A%20column%3B%20position%3A%20absolute%3B%20top%3A%200px%3B%20left%3A%20600px%3B%20height%3A%2028px%3B%20width%3A%20120px%7D%0A.css-1bk59ax-ColumnResizeHint%20%7Bheight%3A%2056px%3B%20background-color%3A%20rgb(24%2C%20144%2C%20255)%3B%20width%3A%205px%7D%0A.css-1vkeh9i-ColumnResizeHint%20%7Bdisplay%3A%20none%3B%20float%3A%20right%3B%20height%3A%20188px%3B%20background-color%3A%20rgb(24%2C%20144%2C%20255)%3B%20opacity%3A%200.4%3B%20width%3A%202px%7D%0A.css-1d0xvol-Table%20%7Bdisplay%3A%20flex%3B%20height%3A%20244px%7D%0A.css-1n5hvjo-Table%20%7Bborder-collapse%3A%20collapse%3B%20height%3A%2056px%3B%20width%3A%20167px%7D%0A.css-171gfhi%20%7Bheight%3A%2056px%3B%20width%3A%20167px%7D%0A.css-1l2ibgf%20%7Bcursor%3A%20cell%3B%20height%3A%2056px%3B%20overflow-x%3A%20hidden%3B%20overflow-y%3A%20hidden%3B%20position%3A%20relative%3B%20width%3A%20167px%3B%20border-right-width%3A%202px%3B%20border-right-style%3A%20solid%3B%20border-right-color%3A%20rgb(233%2C%20233%2C%20233)%7D%0A.css-1nl79g7-ResizableCell%20%7Bdisplay%3A%20flex%3B%20flex-direction%3A%20column%3B%20position%3A%20absolute%3B%20top%3A%200px%3B%20left%3A%200px%3B%20height%3A%2028px%3B%20width%3A%20167px%7D%0A.css-gbitvy-ResizableCell%20%7Bdisplay%3A%20flex%3B%20flex-direction%3A%20column%3B%20position%3A%20absolute%3B%20top%3A%2028px%3B%20left%3A%200px%3B%20height%3A%2028px%3B%20width%3A%20167px%7D%0A.css-b4ac0d%20%7Bcursor%3A%20cell%3B%20height%3A%20140px%3B%20overflow-x%3A%20hidden%3B%20overflow-y%3A%20hidden%3B%20position%3A%20relative%3B%20width%3A%20167px%3B%20border-top-width%3A%202px%3B%20border-top-style%3A%20solid%3B%20border-top-color%3A%20rgb(233%2C%20233%2C%20233)%3B%20border-right-width%3A%202px%3B%20border-right-style%3A%20solid%3B%20border-right-color%3A%20rgb(233%2C%20233%2C%20233)%7D%0A.css-hmqo6p-Table%20%7Bwidth%3A%201173px%3B%20border-collapse%3A%20collapse%7D%0A.css-11ptha6%20%7Bheight%3A%2056px%3B%20width%3A%201155px%3B%20overflow-x%3A%20auto%3B%20overflow-y%3A%20hidden%7D%0A.css-kufvw%20%7Bcursor%3A%20cell%3B%20height%3A%2056px%3B%20overflow-x%3A%20hidden%3B%20overflow-y%3A%20hidden%3B%20position%3A%20relative%3B%20width%3A%201440px%7D%0A.css-3vd2qh-ResizableCell%20%7Bdisplay%3A%20flex%3B%20flex-direction%3A%20column%3B%20position%3A%20absolute%3B%20top%3A%200px%3B%20left%3A%20720px%3B%20height%3A%2028px%3B%20width%3A%20120px%7D%0A.css-1hcg36z-ResizableCell%20%7Bdisplay%3A%20flex%3B%20flex-direction%3A%20column%3B%20position%3A%20absolute%3B%20top%3A%200px%3B%20left%3A%20840px%3B%20height%3A%2028px%3B%20width%3A%20120px%7D%0A.css-qplnlo-ResizableCell%20%7Bdisplay%3A%20flex%3B%20flex-direction%3A%20column%3B%20position%3A%20absolute%3B%20top%3A%200px%3B%20left%3A%20960px%3B%20height%3A%2028px%3B%20width%3A%20120px%7D%0A.css-1vkqqng-ResizableCell%20%7Bdisplay%3A%20flex%3B%20flex-direction%3A%20column%3B%20position%3A%20absolute%3B%20top%3A%200px%3B%20left%3A%201080px%3B%20height%3A%2028px%3B%20width%3A%20120px%7D%0A.css-z51yao-ResizableCell%20%7Bdisplay%3A%20flex%3B%20flex-direction%3A%20column%3B%20position%3A%20absolute%3B%20top%3A%2028px%3B%20left%3A%200px%3B%20height%3A%2028px%3B%20width%3A%20120px%7D%0A.css-10fw2tq-ResizableCell%20%7Bdisplay%3A%20flex%3B%20flex-direction%3A%20column%3B%20position%3A%20absolute%3B%20top%3A%2028px%3B%20left%3A%20120px%3B%20height%3A%2028px%3B%20width%3A%20120px%7D%0A.css-1pd7flk-ResizableCell%20%7Bdisplay%3A%20flex%3B%20flex-direction%3A%20column%3B%20position%3A%20absolute%3B%20top%3A%2028px%3B%20left%3A%20240px%3B%20height%3A%2028px%3B%20width%3A%20120px%7D%0A.css-eaczoo-ResizableCell%20%7Bdisplay%3A%20flex%3B%20flex-direction%3A%20column%3B%20position%3A%20absolute%3B%20top%3A%2028px%3B%20left%3A%20360px%3B%20height%3A%2028px%3B%20width%3A%20120px%7D%0A.css-ud38eq-ResizableCell%20%7Bdisplay%3A%20flex%3B%20flex-direction%3A%20column%3B%20position%3A%20absolute%3B%20top%3A%2028px%3B%20left%3A%20480px%3B%20height%3A%2028px%3B%20width%3A%20120px%7D%0A.css-1ipcw93-ResizableCell%20%7Bdisplay%3A%20flex%3B%20flex-direction%3A%20column%3B%20position%3A%20absolute%3B%20top%3A%2028px%3B%20left%3A%20600px%3B%20height%3A%2028px%3B%20width%3A%20120px%7D%0A.css-10cfvm3-ResizableCell%20%7Bdisplay%3A%20flex%3B%20flex-direction%3A%20column%3B%20position%3A%20absolute%3B%20top%3A%2028px%3B%20left%3A%20720px%3B%20height%3A%2028px%3B%20width%3A%20120px%7D%0A.css-l83k0q-ResizableCell%20%7Bdisplay%3A%20flex%3B%20flex-direction%3A%20column%3B%20position%3A%20absolute%3B%20top%3A%2028px%3B%20left%3A%20840px%3B%20height%3A%2028px%3B%20width%3A%20120px%7D%0A.css-1gon5fe-ResizableCell%20%7Bdisplay%3A%20flex%3B%20flex-direction%3A%20column%3B%20position%3A%20absolute%3B%20top%3A%2028px%3B%20left%3A%20960px%3B%20height%3A%2028px%3B%20width%3A%20120px%7D%0A.css-m9kxo2-ResizableCell%20%7Bdisplay%3A%20flex%3B%20flex-direction%3A%20column%3B%20position%3A%20absolute%3B%20top%3A%2028px%3B%20left%3A%201080px%3B%20height%3A%2028px%3B%20width%3A%20120px%7D%0A.css-htbn3k%20%7Bheight%3A%20188px%3B%20width%3A%201173px%3B%20overflow-x%3A%20auto%3B%20overflow-y%3A%20auto%7D%0A.css-1sxkhow%20%7Bcursor%3A%20cell%3B%20height%3A%20140px%3B%20overflow-x%3A%20hidden%3B%20overflow-y%3A%20hidden%3B%20position%3A%20relative%3B%20width%3A%201440px%3B%20border-top-width%3A%202px%3B%20border-top-style%3A%20solid%3B%20border-top-color%3A%20rgb(233%2C%20233%2C%20233)%7D%0A.css-gpq4q0%20%7Bheight%3A%20170px%3B%20width%3A%20167px%3B%20overflow-x%3A%20hidden%3B%20overflow-y%3A%20auto%7D%0A*%20%7B-ms-overflow-style%3A%20none%3B%20scrollbar-width%3A%20none%7D%0A*%3A%3A-webkit-scrollbar%20%7Bdisplay%3A%20none%7D%0A.atoti-hidden-in-snapshot%20%7Bdisplay%3A%20none%7D%3C%2Fstyle%3E%3Cdiv%20xmlns%3D%22http%3A%2F%2Fwww.w3.org%2F1999%2Fxhtml%22%20style%3D%22height%3A%20276px%3B%20width%3A%201342px%3B%22%3E%3Cdiv%20class%3D%22ant-root%20css-0%22%3E%3Cdiv%20class%3D%22ant-dropdown-trigger%20css-12ebr42-AWidget%22%3E%3Cdiv%20class%3D%22css-2p9ued-WidgetLoadingOverlay%22%3E%3Cdiv%20class%3D%22css-1b1raxz-DefaultWidgetLoadingOverlay%22%3E%3Cdiv%20class%3D%22css-34a2ml-DefaultWidgetLoadingOverlay%22%3E%3C%2Fdiv%3E%3C%2Fdiv%3E%3Cdiv%20class%3D%22css-1hwl8p1-Table%22%3E%3Cdiv%20tabindex%3D%220%22%20class%3D%22css-14ejcn0-Table%22%3E%3Cdiv%20class%3D%22css-1rxpjm0-ColumnResizeHint%22%3E%3Cdiv%20class%3D%22css-1bk59ax-ColumnResizeHint%22%3E%3C%2Fdiv%3E%3Cdiv%20class%3D%22css-1vkeh9i-ColumnResizeHint%22%3E%3C%2Fdiv%3E%3C%2Fdiv%3E%3Cdiv%20class%3D%22css-1d0xvol-Table%22%3E%3Cdiv%20class%3D%22css-1n5hvjo-Table%22%3E%3Cdiv%20class%3D%22%20css-171gfhi%22%3E%3Cdiv%20class%3D%22css-1l2ibgf%22%3E%3Cdiv%20class%3D%22css-1nl79g7-ResizableCell%22%3E%3Cdiv%20class%3D%22aui-table-cell%22%20style%3D%22height%3A%2028px%3B%20left%3A%200px%3B%20top%3A%200px%3B%20width%3A%20162px%3B%20text-align%3A%20left%3B%20font-size%3A%2012px%3B%20padding%3A%204px%204px%203px%3B%20overflow%3A%20hidden%3B%20position%3A%20absolute%3B%20white-space%3A%20nowrap%3B%20text-overflow%3A%20ellipsis%3B%20font-weight%3A%20600%3B%20display%3A%20flex%3B%20align-items%3A%20center%3B%22%3E%3Cspan%3EScenario%3C%2Fspan%3E%3C%2Fdiv%3E%3Cdiv%20class%3D%22css-xxcrt1-ResizableCell%22%3E%3C%2Fdiv%3E%3C%2Fdiv%3E%3Cdiv%20class%3D%22css-gbitvy-ResizableCell%22%3E%3Cdiv%20class%3D%22aui-table-cell%22%20style%3D%22height%3A%2028px%3B%20left%3A%200px%3B%20top%3A%200px%3B%20width%3A%20162px%3B%20text-align%3A%20left%3B%20font-size%3A%2012px%3B%20padding%3A%204px%204px%203px%3B%20overflow%3A%20hidden%3B%20position%3A%20absolute%3B%20white-space%3A%20nowrap%3B%20text-overflow%3A%20ellipsis%3B%20font-weight%3A%20600%3B%20display%3A%20none%3B%20align-items%3A%20center%3B%22%3E%3Cspan%3EScenario%3C%2Fspan%3E%3C%2Fdiv%3E%3Cdiv%20class%3D%22css-xxcrt1-ResizableCell%22%3E%3C%2Fdiv%3E%3C%2Fdiv%3E%3C%2Fdiv%3E%3C%2Fdiv%3E%3Cdiv%20class%3D%22aui-invisible-scrollbars%20css-gpq4q0%22%3E%3Cdiv%20class%3D%22css-b4ac0d%22%3E%3Cdiv%20style%3D%22display%3A%20flex%3B%20align-items%3A%20center%3B%20height%3A%2028px%3B%20left%3A%200px%3B%20top%3A%200px%3B%20width%3A%20167px%3B%20text-align%3A%20left%3B%20font-size%3A%2012px%3B%20padding%3A%204px%204px%203px%3B%20overflow%3A%20hidden%3B%20position%3A%20absolute%3B%20white-space%3A%20nowrap%3B%20text-overflow%3A%20ellipsis%3B%20border-right%3A%202px%20solid%20rgb(233%2C%20233%2C%20233)%3B%20background-color%3A%20transparent%3B%22%3E%3Cspan%20style%3D%22text-overflow%3A%20ellipsis%3B%20overflow%3A%20hidden%3B%20white-space%3A%20nowrap%3B%20max-width%3A%20calc((100%25%20-%200px)%20-%200px)%3B%22%3EBase%3C%2Fspan%3E%3C%2Fdiv%3E%3Cdiv%20style%3D%22display%3A%20flex%3B%20align-items%3A%20center%3B%20height%3A%2028px%3B%20left%3A%200px%3B%20top%3A%2028px%3B%20width%3A%20167px%3B%20text-align%3A%20left%3B%20font-size%3A%2012px%3B%20padding%3A%204px%204px%203px%3B%20overflow%3A%20hidden%3B%20position%3A%20absolute%3B%20white-space%3A%20nowrap%3B%20text-overflow%3A%20ellipsis%3B%20border-right%3A%202px%20solid%20rgb(233%2C%20233%2C%20233)%3B%20background-color%3A%20rgb(250%2C%20250%2C%20250)%3B%22%3E%3Cspan%20style%3D%22text-overflow%3A%20ellipsis%3B%20overflow%3A%20hidden%3B%20white-space%3A%20nowrap%3B%20max-width%3A%20calc((100%25%20-%200px)%20-%200px)%3B%22%3EDummy%20Uniform%20Classifier%3C%2Fspan%3E%3C%2Fdiv%3E%3Cdiv%20style%3D%22display%3A%20flex%3B%20align-items%3A%20center%3B%20height%3A%2028px%3B%20left%3A%200px%3B%20top%3A%2056px%3B%20width%3A%20167px%3B%20text-align%3A%20left%3B%20font-size%3A%2012px%3B%20padding%3A%204px%204px%203px%3B%20overflow%3A%20hidden%3B%20position%3A%20absolute%3B%20white-space%3A%20nowrap%3B%20text-overflow%3A%20ellipsis%3B%20border-right%3A%202px%20solid%20rgb(233%2C%20233%2C%20233)%3B%20background-color%3A%20transparent%3B%22%3E%3Cspan%20style%3D%22text-overflow%3A%20ellipsis%3B%20overflow%3A%20hidden%3B%20white-space%3A%20nowrap%3B%20max-width%3A%20calc((100%25%20-%200px)%20-%200px)%3B%22%3ELogistic%20Regression%20Classifier%3C%2Fspan%3E%3C%2Fdiv%3E%3Cdiv%20style%3D%22display%3A%20flex%3B%20align-items%3A%20center%3B%20height%3A%2028px%3B%20left%3A%200px%3B%20top%3A%2084px%3B%20width%3A%20167px%3B%20text-align%3A%20left%3B%20font-size%3A%2012px%3B%20padding%3A%204px%204px%203px%3B%20overflow%3A%20hidden%3B%20position%3A%20absolute%3B%20white-space%3A%20nowrap%3B%20text-overflow%3A%20ellipsis%3B%20border-right%3A%202px%20solid%20rgb(233%2C%20233%2C%20233)%3B%20background-color%3A%20rgb(250%2C%20250%2C%20250)%3B%22%3E%3Cspan%20style%3D%22text-overflow%3A%20ellipsis%3B%20overflow%3A%20hidden%3B%20white-space%3A%20nowrap%3B%20max-width%3A%20calc((100%25%20-%200px)%20-%200px)%3B%22%3ENaive%20Bayes%20Classifier%3C%2Fspan%3E%3C%2Fdiv%3E%3Cdiv%20style%3D%22display%3A%20flex%3B%20align-items%3A%20center%3B%20height%3A%2028px%3B%20left%3A%200px%3B%20top%3A%20112px%3B%20width%3A%20167px%3B%20text-align%3A%20left%3B%20font-size%3A%2012px%3B%20padding%3A%204px%204px%203px%3B%20overflow%3A%20hidden%3B%20position%3A%20absolute%3B%20white-space%3A%20nowrap%3B%20text-overflow%3A%20ellipsis%3B%20border-right%3A%202px%20solid%20rgb(233%2C%20233%2C%20233)%3B%20background-color%3A%20transparent%3B%22%3E%3Cspan%20style%3D%22text-overflow%3A%20ellipsis%3B%20overflow%3A%20hidden%3B%20white-space%3A%20nowrap%3B%20max-width%3A%20calc((100%25%20-%200px)%20-%200px)%3B%22%3ESVM%20Classifier%3C%2Fspan%3E%3C%2Fdiv%3E%3C%2Fdiv%3E%3C%2Fdiv%3E%3C%2Fdiv%3E%3Cdiv%20class%3D%22css-hmqo6p-Table%22%3E%3Cdiv%20class%3D%22aui-invisible-scrollbars%20css-11ptha6%22%3E%3Cdiv%20class%3D%22css-kufvw%22%3E%3Cdiv%20class%3D%22css-1hol363-ResizableCell%22%3E%3Cdiv%20style%3D%22display%3A%20flex%3B%20align-items%3A%20center%3B%20height%3A%2028px%3B%20left%3A%200px%3B%20top%3A%200px%3B%20width%3A%20115px%3B%20text-align%3A%20left%3B%20font-size%3A%2012px%3B%20padding%3A%204px%204px%203px%3B%20overflow%3A%20hidden%3B%20position%3A%20absolute%3B%20white-space%3A%20nowrap%3B%20text-overflow%3A%20ellipsis%3B%20font-weight%3A%20600%3B%22%3E%3Cspan%20style%3D%22text-overflow%3A%20ellipsis%3B%20overflow%3A%20hidden%3B%20white-space%3A%20nowrap%3B%20max-width%3A%20calc((100%25%20-%200px)%20-%200px)%3B%22%3E90%25%20NRR%3C%2Fspan%3E%3C%2Fdiv%3E%3Cdiv%20class%3D%22css-xxcrt1-ResizableCell%22%3E%3C%2Fdiv%3E%3C%2Fdiv%3E%3Cdiv%20class%3D%22css-fpuq48-ResizableCell%22%3E%3Cdiv%20style%3D%22display%3A%20none%3B%20align-items%3A%20center%3B%20height%3A%2028px%3B%20left%3A%200px%3B%20top%3A%200px%3B%20width%3A%20115px%3B%20text-align%3A%20left%3B%20font-size%3A%2012px%3B%20padding%3A%204px%204px%203px%3B%20overflow%3A%20hidden%3B%20position%3A%20absolute%3B%20white-space%3A%20nowrap%3B%20text-overflow%3A%20ellipsis%3B%20font-weight%3A%20600%3B%22%3E%3Cspan%20style%3D%22text-overflow%3A%20ellipsis%3B%20overflow%3A%20hidden%3B%20white-space%3A%20nowrap%3B%20max-width%3A%20calc((100%25%20-%200px)%20-%200px)%3B%22%3E90%25%20NRR%3C%2Fspan%3E%3C%2Fdiv%3E%3Cdiv%20class%3D%22css-xxcrt1-ResizableCell%22%3E%3C%2Fdiv%3E%3C%2Fdiv%3E%3Cdiv%20class%3D%22css-3geaec-ResizableCell%22%3E%3Cdiv%20style%3D%22display%3A%20none%3B%20align-items%3A%20center%3B%20height%3A%2028px%3B%20left%3A%200px%3B%20top%3A%200px%3B%20width%3A%20115px%3B%20text-align%3A%20left%3B%20font-size%3A%2012px%3B%20padding%3A%204px%204px%203px%3B%20overflow%3A%20hidden%3B%20position%3A%20absolute%3B%20white-space%3A%20nowrap%3B%20text-overflow%3A%20ellipsis%3B%20font-weight%3A%20600%3B%22%3E%3Cspan%20style%3D%22text-overflow%3A%20ellipsis%3B%20overflow%3A%20hidden%3B%20white-space%3A%20nowrap%3B%20max-width%3A%20calc((100%25%20-%200px)%20-%200px)%3B%22%3E90%25%20NRR%3C%2Fspan%3E%3C%2Fdiv%3E%3Cdiv%20class%3D%22css-xxcrt1-ResizableCell%22%3E%3C%2Fdiv%3E%3C%2Fdiv%3E%3Cdiv%20class%3D%22css-9kbkmr-ResizableCell%22%3E%3Cdiv%20style%3D%22display%3A%20none%3B%20align-items%3A%20center%3B%20height%3A%2028px%3B%20left%3A%200px%3B%20top%3A%200px%3B%20width%3A%20115px%3B%20text-align%3A%20left%3B%20font-size%3A%2012px%3B%20padding%3A%204px%204px%203px%3B%20overflow%3A%20hidden%3B%20position%3A%20absolute%3B%20white-space%3A%20nowrap%3B%20text-overflow%3A%20ellipsis%3B%20font-weight%3A%20600%3B%22%3E%3Cspan%20style%3D%22text-overflow%3A%20ellipsis%3B%20overflow%3A%20hidden%3B%20white-space%3A%20nowrap%3B%20max-width%3A%20calc((100%25%20-%200px)%20-%200px)%3B%22%3E90%25%20NRR%3C%2Fspan%3E%3C%2Fdiv%3E%3Cdiv%20class%3D%22css-xxcrt1-ResizableCell%22%3E%3C%2Fdiv%3E%3C%2Fdiv%3E%3Cdiv%20class%3D%22css-76qu0m-ResizableCell%22%3E%3Cdiv%20style%3D%22display%3A%20none%3B%20align-items%3A%20center%3B%20height%3A%2028px%3B%20left%3A%200px%3B%20top%3A%200px%3B%20width%3A%20115px%3B%20text-align%3A%20left%3B%20font-size%3A%2012px%3B%20padding%3A%204px%204px%203px%3B%20overflow%3A%20hidden%3B%20position%3A%20absolute%3B%20white-space%3A%20nowrap%3B%20text-overflow%3A%20ellipsis%3B%20font-weight%3A%20600%3B%22%3E%3Cspan%20style%3D%22text-overflow%3A%20ellipsis%3B%20overflow%3A%20hidden%3B%20white-space%3A%20nowrap%3B%20max-width%3A%20calc((100%25%20-%200px)%20-%200px)%3B%22%3E90%25%20NRR%3C%2Fspan%3E%3C%2Fdiv%3E%3Cdiv%20class%3D%22css-xxcrt1-ResizableCell%22%3E%3C%2Fdiv%3E%3C%2Fdiv%3E%3Cdiv%20class%3D%22css-1h9kznl-ResizableCell%22%3E%3Cdiv%20style%3D%22display%3A%20none%3B%20align-items%3A%20center%3B%20height%3A%2028px%3B%20left%3A%200px%3B%20top%3A%200px%3B%20width%3A%20115px%3B%20text-align%3A%20left%3B%20font-size%3A%2012px%3B%20padding%3A%204px%204px%203px%3B%20overflow%3A%20hidden%3B%20position%3A%20absolute%3B%20white-space%3A%20nowrap%3B%20text-overflow%3A%20ellipsis%3B%20font-weight%3A%20600%3B%22%3E%3Cspan%20style%3D%22text-overflow%3A%20ellipsis%3B%20overflow%3A%20hidden%3B%20white-space%3A%20nowrap%3B%20max-width%3A%20calc((100%25%20-%200px)%20-%200px)%3B%22%3E90%25%20NRR%3C%2Fspan%3E%3C%2Fdiv%3E%3Cdiv%20class%3D%22css-xxcrt1-ResizableCell%22%3E%3C%2Fdiv%3E%3C%2Fdiv%3E%3Cdiv%20class%3D%22css-3vd2qh-ResizableCell%22%3E%3Cdiv%20style%3D%22display%3A%20flex%3B%20align-items%3A%20center%3B%20height%3A%2028px%3B%20left%3A%200px%3B%20top%3A%200px%3B%20width%3A%20115px%3B%20text-align%3A%20left%3B%20font-size%3A%2012px%3B%20padding%3A%204px%204px%203px%3B%20overflow%3A%20hidden%3B%20position%3A%20absolute%3B%20white-space%3A%20nowrap%3B%20text-overflow%3A%20ellipsis%3B%20font-weight%3A%20600%3B%22%3E%3Cspan%20style%3D%22text-overflow%3A%20ellipsis%3B%20overflow%3A%20hidden%3B%20white-space%3A%20nowrap%3B%20max-width%3A%20calc((100%25%20-%200px)%20-%200px)%3B%22%3E95%25%20NRR%3C%2Fspan%3E%3C%2Fdiv%3E%3Cdiv%20class%3D%22css-xxcrt1-ResizableCell%22%3E%3C%2Fdiv%3E%3C%2Fdiv%3E%3Cdiv%20class%3D%22css-1hcg36z-ResizableCell%22%3E%3Cdiv%20style%3D%22display%3A%20none%3B%20align-items%3A%20center%3B%20height%3A%2028px%3B%20left%3A%200px%3B%20top%3A%200px%3B%20width%3A%20115px%3B%20text-align%3A%20left%3B%20font-size%3A%2012px%3B%20padding%3A%204px%204px%203px%3B%20overflow%3A%20hidden%3B%20position%3A%20absolute%3B%20white-space%3A%20nowrap%3B%20text-overflow%3A%20ellipsis%3B%20font-weight%3A%20600%3B%22%3E%3Cspan%20style%3D%22text-overflow%3A%20ellipsis%3B%20overflow%3A%20hidden%3B%20white-space%3A%20nowrap%3B%20max-width%3A%20calc((100%25%20-%200px)%20-%200px)%3B%22%3E95%25%20NRR%3C%2Fspan%3E%3C%2Fdiv%3E%3Cdiv%20class%3D%22css-xxcrt1-ResizableCell%22%3E%3C%2Fdiv%3E%3C%2Fdiv%3E%3Cdiv%20class%3D%22css-qplnlo-ResizableCell%22%3E%3Cdiv%20style%3D%22display%3A%20none%3B%20align-items%3A%20center%3B%20height%3A%2028px%3B%20left%3A%200px%3B%20top%3A%200px%3B%20width%3A%20115px%3B%20text-align%3A%20left%3B%20font-size%3A%2012px%3B%20padding%3A%204px%204px%203px%3B%20overflow%3A%20hidden%3B%20position%3A%20absolute%3B%20white-space%3A%20nowrap%3B%20text-overflow%3A%20ellipsis%3B%20font-weight%3A%20600%3B%22%3E%3Cspan%20style%3D%22text-overflow%3A%20ellipsis%3B%20overflow%3A%20hidden%3B%20white-space%3A%20nowrap%3B%20max-width%3A%20calc((100%25%20-%200px)%20-%200px)%3B%22%3E95%25%20NRR%3C%2Fspan%3E%3C%2Fdiv%3E%3Cdiv%20class%3D%22css-xxcrt1-ResizableCell%22%3E%3C%2Fdiv%3E%3C%2Fdiv%3E%3Cdiv%20class%3D%22css-1vkqqng-ResizableCell%22%3E%3Cdiv%20style%3D%22display%3A%20none%3B%20align-items%3A%20center%3B%20height%3A%2028px%3B%20left%3A%200px%3B%20top%3A%200px%3B%20width%3A%20115px%3B%20text-align%3A%20left%3B%20font-size%3A%2012px%3B%20padding%3A%204px%204px%203px%3B%20overflow%3A%20hidden%3B%20position%3A%20absolute%3B%20white-space%3A%20nowrap%3B%20text-overflow%3A%20ellipsis%3B%20font-weight%3A%20600%3B%22%3E%3Cspan%20style%3D%22text-overflow%3A%20ellipsis%3B%20overflow%3A%20hidden%3B%20white-space%3A%20nowrap%3B%20max-width%3A%20calc((100%25%20-%200px)%20-%200px)%3B%22%3E95%25%20NRR%3C%2Fspan%3E%3C%2Fdiv%3E%3Cdiv%20class%3D%22css-xxcrt1-ResizableCell%22%3E%3C%2Fdiv%3E%3C%2Fdiv%3E%3Cdiv%20class%3D%22css-z51yao-ResizableCell%22%3E%3Cdiv%20style%3D%22display%3A%20flex%3B%20align-items%3A%20center%3B%20height%3A%2028px%3B%20left%3A%200px%3B%20top%3A%200px%3B%20width%3A%20115px%3B%20text-align%3A%20left%3B%20font-size%3A%2012px%3B%20padding%3A%204px%204px%203px%3B%20overflow%3A%20hidden%3B%20position%3A%20absolute%3B%20white-space%3A%20nowrap%3B%20text-overflow%3A%20ellipsis%3B%20font-weight%3A%20600%3B%22%3E%3Cspan%20style%3D%22text-overflow%3A%20ellipsis%3B%20overflow%3A%20hidden%3B%20white-space%3A%20nowrap%3B%20max-width%3A%20calc((100%25%20-%200px)%20-%200px)%3B%22%3EActual%20Expense%3C%2Fspan%3E%3C%2Fdiv%3E%3Cdiv%20class%3D%22css-xxcrt1-ResizableCell%22%3E%3C%2Fdiv%3E%3C%2Fdiv%3E%3Cdiv%20class%3D%22css-10fw2tq-ResizableCell%22%3E%3Cdiv%20style%3D%22display%3A%20flex%3B%20align-items%3A%20center%3B%20height%3A%2028px%3B%20left%3A%200px%3B%20top%3A%200px%3B%20width%3A%20115px%3B%20text-align%3A%20left%3B%20font-size%3A%2012px%3B%20padding%3A%204px%204px%203px%3B%20overflow%3A%20hidden%3B%20position%3A%20absolute%3B%20white-space%3A%20nowrap%3B%20text-overflow%3A%20ellipsis%3B%20font-weight%3A%20600%3B%22%3E%3Cspan%20style%3D%22text-overflow%3A%20ellipsis%3B%20overflow%3A%20hidden%3B%20white-space%3A%20nowrap%3B%20max-width%3A%20calc((100%25%20-%200px)%20-%200px)%3B%22%3EAfter%20Campaign%20NRR%3C%2Fspan%3E%3C%2Fdiv%3E%3Cdiv%20class%3D%22css-xxcrt1-ResizableCell%22%3E%3C%2Fdiv%3E%3C%2Fdiv%3E%3Cdiv%20class%3D%22css-1pd7flk-ResizableCell%22%3E%3Cdiv%20style%3D%22display%3A%20flex%3B%20align-items%3A%20center%3B%20height%3A%2028px%3B%20left%3A%200px%3B%20top%3A%200px%3B%20width%3A%20115px%3B%20text-align%3A%20left%3B%20font-size%3A%2012px%3B%20padding%3A%204px%204px%203px%3B%20overflow%3A%20hidden%3B%20position%3A%20absolute%3B%20white-space%3A%20nowrap%3B%20text-overflow%3A%20ellipsis%3B%20font-weight%3A%20600%3B%22%3E%3Cspan%20style%3D%22text-overflow%3A%20ellipsis%3B%20overflow%3A%20hidden%3B%20white-space%3A%20nowrap%3B%20max-width%3A%20calc((100%25%20-%200px)%20-%200px)%3B%22%3EActual%20Expense%3C%2Fspan%3E%3C%2Fdiv%3E%3Cdiv%20class%3D%22css-xxcrt1-ResizableCell%22%3E%3C%2Fdiv%3E%3C%2Fdiv%3E%3Cdiv%20class%3D%22css-eaczoo-ResizableCell%22%3E%3Cdiv%20style%3D%22display%3A%20flex%3B%20align-items%3A%20center%3B%20height%3A%2028px%3B%20left%3A%200px%3B%20top%3A%200px%3B%20width%3A%20115px%3B%20text-align%3A%20left%3B%20font-size%3A%2012px%3B%20padding%3A%204px%204px%203px%3B%20overflow%3A%20hidden%3B%20position%3A%20absolute%3B%20white-space%3A%20nowrap%3B%20text-overflow%3A%20ellipsis%3B%20font-weight%3A%20600%3B%22%3E%3Cspan%20style%3D%22text-overflow%3A%20ellipsis%3B%20overflow%3A%20hidden%3B%20white-space%3A%20nowrap%3B%20max-width%3A%20calc((100%25%20-%200px)%20-%200px)%3B%22%3EFinal%20Revenue%20Loss%3C%2Fspan%3E%3C%2Fdiv%3E%3Cdiv%20class%3D%22css-xxcrt1-ResizableCell%22%3E%3C%2Fdiv%3E%3C%2Fdiv%3E%3Cdiv%20class%3D%22css-ud38eq-ResizableCell%22%3E%3Cdiv%20style%3D%22display%3A%20flex%3B%20align-items%3A%20center%3B%20height%3A%2028px%3B%20left%3A%200px%3B%20top%3A%200px%3B%20width%3A%20115px%3B%20text-align%3A%20left%3B%20font-size%3A%2012px%3B%20padding%3A%204px%204px%203px%3B%20overflow%3A%20hidden%3B%20position%3A%20absolute%3B%20white-space%3A%20nowrap%3B%20text-overflow%3A%20ellipsis%3B%20font-weight%3A%20600%3B%22%3E%3Cspan%20style%3D%22text-overflow%3A%20ellipsis%3B%20overflow%3A%20hidden%3B%20white-space%3A%20nowrap%3B%20max-width%3A%20calc((100%25%20-%200px)%20-%200px)%3B%22%3EFinal%20NRR%3C%2Fspan%3E%3C%2Fdiv%3E%3Cdiv%20class%3D%22css-xxcrt1-ResizableCell%22%3E%3C%2Fdiv%3E%3C%2Fdiv%3E%3Cdiv%20class%3D%22css-1ipcw93-ResizableCell%22%3E%3Cdiv%20style%3D%22display%3A%20flex%3B%20align-items%3A%20center%3B%20height%3A%2028px%3B%20left%3A%200px%3B%20top%3A%200px%3B%20width%3A%20115px%3B%20text-align%3A%20left%3B%20font-size%3A%2012px%3B%20padding%3A%204px%204px%203px%3B%20overflow%3A%20hidden%3B%20position%3A%20absolute%3B%20white-space%3A%20nowrap%3B%20text-overflow%3A%20ellipsis%3B%20font-weight%3A%20600%3B%22%3E%3Cspan%20style%3D%22text-overflow%3A%20ellipsis%3B%20overflow%3A%20hidden%3B%20white-space%3A%20nowrap%3B%20max-width%3A%20calc((100%25%20-%200px)%20-%200px)%3B%22%3EClients%20to%20replace%3C%2Fspan%3E%3C%2Fdiv%3E%3Cdiv%20class%3D%22css-xxcrt1-ResizableCell%22%3E%3C%2Fdiv%3E%3C%2Fdiv%3E%3Cdiv%20class%3D%22css-10cfvm3-ResizableCell%22%3E%3Cdiv%20style%3D%22display%3A%20flex%3B%20align-items%3A%20center%3B%20height%3A%2028px%3B%20left%3A%200px%3B%20top%3A%200px%3B%20width%3A%20115px%3B%20text-align%3A%20left%3B%20font-size%3A%2012px%3B%20padding%3A%204px%204px%203px%3B%20overflow%3A%20hidden%3B%20position%3A%20absolute%3B%20white-space%3A%20nowrap%3B%20text-overflow%3A%20ellipsis%3B%20font-weight%3A%20600%3B%22%3E%3Cspan%20style%3D%22text-overflow%3A%20ellipsis%3B%20overflow%3A%20hidden%3B%20white-space%3A%20nowrap%3B%20max-width%3A%20calc((100%25%20-%200px)%20-%200px)%3B%22%3EActual%20Expense%3C%2Fspan%3E%3C%2Fdiv%3E%3Cdiv%20class%3D%22css-xxcrt1-ResizableCell%22%3E%3C%2Fdiv%3E%3C%2Fdiv%3E%3Cdiv%20class%3D%22css-l83k0q-ResizableCell%22%3E%3Cdiv%20style%3D%22display%3A%20flex%3B%20align-items%3A%20center%3B%20height%3A%2028px%3B%20left%3A%200px%3B%20top%3A%200px%3B%20width%3A%20115px%3B%20text-align%3A%20left%3B%20font-size%3A%2012px%3B%20padding%3A%204px%204px%203px%3B%20overflow%3A%20hidden%3B%20position%3A%20absolute%3B%20white-space%3A%20nowrap%3B%20text-overflow%3A%20ellipsis%3B%20font-weight%3A%20600%3B%22%3E%3Cspan%20style%3D%22text-overflow%3A%20ellipsis%3B%20overflow%3A%20hidden%3B%20white-space%3A%20nowrap%3B%20max-width%3A%20calc((100%25%20-%200px)%20-%200px)%3B%22%3EAfter%20Campaign%20NRR%3C%2Fspan%3E%3C%2Fdiv%3E%3Cdiv%20class%3D%22css-xxcrt1-ResizableCell%22%3E%3C%2Fdiv%3E%3C%2Fdiv%3E%3Cdiv%20class%3D%22css-1gon5fe-ResizableCell%22%3E%3Cdiv%20style%3D%22display%3A%20flex%3B%20align-items%3A%20center%3B%20height%3A%2028px%3B%20left%3A%200px%3B%20top%3A%200px%3B%20width%3A%20115px%3B%20text-align%3A%20left%3B%20font-size%3A%2012px%3B%20padding%3A%204px%204px%203px%3B%20overflow%3A%20hidden%3B%20position%3A%20absolute%3B%20white-space%3A%20nowrap%3B%20text-overflow%3A%20ellipsis%3B%20font-weight%3A%20600%3B%22%3E%3Cspan%20style%3D%22text-overflow%3A%20ellipsis%3B%20overflow%3A%20hidden%3B%20white-space%3A%20nowrap%3B%20max-width%3A%20calc((100%25%20-%200px)%20-%200px)%3B%22%3EActual%20Expense%3C%2Fspan%3E%3C%2Fdiv%3E%3Cdiv%20class%3D%22css-xxcrt1-ResizableCell%22%3E%3C%2Fdiv%3E%3C%2Fdiv%3E%3Cdiv%20class%3D%22css-m9kxo2-ResizableCell%22%3E%3Cdiv%20style%3D%22display%3A%20flex%3B%20align-items%3A%20center%3B%20height%3A%2028px%3B%20left%3A%200px%3B%20top%3A%200px%3B%20width%3A%20115px%3B%20text-align%3A%20left%3B%20font-size%3A%2012px%3B%20padding%3A%204px%204px%203px%3B%20overflow%3A%20hidden%3B%20position%3A%20absolute%3B%20white-space%3A%20nowrap%3B%20text-overflow%3A%20ellipsis%3B%20font-weight%3A%20600%3B%22%3E%3Cspan%20style%3D%22text-overflow%3A%20ellipsis%3B%20overflow%3A%20hidden%3B%20white-space%3A%20nowrap%3B%20max-width%3A%20calc((100%25%20-%200px)%20-%200px)%3B%22%3EFinal%20Revenue%20Loss%3C%2Fspan%3E%3C%2Fdiv%3E%3Cdiv%20class%3D%22css-xxcrt1-ResizableCell%22%3E%3C%2Fdiv%3E%3C%2Fdiv%3E%3C%2Fdiv%3E%3C%2Fdiv%3E%3Cdiv%20class%3D%22%20css-htbn3k%22%3E%3Cdiv%20class%3D%22css-1sxkhow%22%3E%3Cdiv%20class%3D%22aui-table-cell%22%20style%3D%22height%3A%2028px%3B%20left%3A%200px%3B%20top%3A%200px%3B%20width%3A%20120px%3B%20text-align%3A%20right%3B%20font-size%3A%2012px%3B%20padding%3A%204px%204px%203px%3B%20overflow%3A%20hidden%3B%20position%3A%20absolute%3B%20white-space%3A%20nowrap%3B%20text-overflow%3A%20ellipsis%3B%20border-right%3A%201px%20solid%20rgb(233%2C%20233%2C%20233)%3B%20color%3A%20rgb(0%2C%200%2C%20255)%3B%20background-color%3A%20transparent%3B%22%3E144%2C400%3C%2Fdiv%3E%3Cdiv%20class%3D%22aui-table-cell%22%20style%3D%22height%3A%2028px%3B%20left%3A%20120px%3B%20top%3A%200px%3B%20width%3A%20120px%3B%20text-align%3A%20right%3B%20font-size%3A%2012px%3B%20padding%3A%204px%204px%203px%3B%20overflow%3A%20hidden%3B%20position%3A%20absolute%3B%20white-space%3A%20nowrap%3B%20text-overflow%3A%20ellipsis%3B%20border-right%3A%201px%20solid%20rgb(233%2C%20233%2C%20233)%3B%20background-color%3A%20transparent%3B%22%3E.98%3C%2Fdiv%3E%3Cdiv%20class%3D%22aui-table-cell%22%20style%3D%22height%3A%2028px%3B%20left%3A%20240px%3B%20top%3A%200px%3B%20width%3A%20120px%3B%20text-align%3A%20right%3B%20font-size%3A%2012px%3B%20padding%3A%204px%204px%203px%3B%20overflow%3A%20hidden%3B%20position%3A%20absolute%3B%20white-space%3A%20nowrap%3B%20text-overflow%3A%20ellipsis%3B%20border-right%3A%201px%20solid%20rgb(233%2C%20233%2C%20233)%3B%20background-color%3A%20transparent%3B%22%3E144%2C400%3C%2Fdiv%3E%3Cdiv%20class%3D%22aui-table-cell%22%20style%3D%22height%3A%2028px%3B%20left%3A%20360px%3B%20top%3A%200px%3B%20width%3A%20120px%3B%20text-align%3A%20right%3B%20font-size%3A%2012px%3B%20padding%3A%204px%204px%203px%3B%20overflow%3A%20hidden%3B%20position%3A%20absolute%3B%20white-space%3A%20nowrap%3B%20text-overflow%3A%20ellipsis%3B%20border-right%3A%201px%20solid%20rgb(233%2C%20233%2C%20233)%3B%20background-color%3A%20transparent%3B%22%3E9%2C392.35%3C%2Fdiv%3E%3Cdiv%20class%3D%22aui-table-cell%22%20style%3D%22height%3A%2028px%3B%20left%3A%20480px%3B%20top%3A%200px%3B%20width%3A%20120px%3B%20text-align%3A%20right%3B%20font-size%3A%2012px%3B%20padding%3A%204px%204px%203px%3B%20overflow%3A%20hidden%3B%20position%3A%20absolute%3B%20white-space%3A%20nowrap%3B%20text-overflow%3A%20ellipsis%3B%20border-right%3A%201px%20solid%20rgb(233%2C%20233%2C%20233)%3B%20background-color%3A%20transparent%3B%22%3E.979%3C%2Fdiv%3E%3Cdiv%20class%3D%22aui-table-cell%22%20style%3D%22height%3A%2028px%3B%20left%3A%20600px%3B%20top%3A%200px%3B%20width%3A%20120px%3B%20text-align%3A%20right%3B%20font-size%3A%2012px%3B%20padding%3A%204px%204px%203px%3B%20overflow%3A%20hidden%3B%20position%3A%20absolute%3B%20white-space%3A%20nowrap%3B%20text-overflow%3A%20ellipsis%3B%20border-right%3A%201px%20solid%20rgb(233%2C%20233%2C%20233)%3B%20background-color%3A%20transparent%3B%22%3E0%3C%2Fdiv%3E%3Cdiv%20class%3D%22aui-table-cell%22%20style%3D%22height%3A%2028px%3B%20left%3A%20720px%3B%20top%3A%200px%3B%20width%3A%20120px%3B%20text-align%3A%20right%3B%20font-size%3A%2012px%3B%20padding%3A%204px%204px%203px%3B%20overflow%3A%20hidden%3B%20position%3A%20absolute%3B%20white-space%3A%20nowrap%3B%20text-overflow%3A%20ellipsis%3B%20border-right%3A%201px%20solid%20rgb(233%2C%20233%2C%20233)%3B%20color%3A%20rgb(0%2C%200%2C%20255)%3B%20background-color%3A%20transparent%3B%22%3E179%2C600%3C%2Fdiv%3E%3Cdiv%20class%3D%22aui-table-cell%22%20style%3D%22height%3A%2028px%3B%20left%3A%20840px%3B%20top%3A%200px%3B%20width%3A%20120px%3B%20text-align%3A%20right%3B%20font-size%3A%2012px%3B%20padding%3A%204px%204px%203px%3B%20overflow%3A%20hidden%3B%20position%3A%20absolute%3B%20white-space%3A%20nowrap%3B%20text-overflow%3A%20ellipsis%3B%20border-right%3A%201px%20solid%20rgb(233%2C%20233%2C%20233)%3B%20background-color%3A%20transparent%3B%22%3E.99%3C%2Fdiv%3E%3Cdiv%20class%3D%22aui-table-cell%22%20style%3D%22height%3A%2028px%3B%20left%3A%20960px%3B%20top%3A%200px%3B%20width%3A%20120px%3B%20text-align%3A%20right%3B%20font-size%3A%2012px%3B%20padding%3A%204px%204px%203px%3B%20overflow%3A%20hidden%3B%20position%3A%20absolute%3B%20white-space%3A%20nowrap%3B%20text-overflow%3A%20ellipsis%3B%20border-right%3A%201px%20solid%20rgb(233%2C%20233%2C%20233)%3B%20background-color%3A%20transparent%3B%22%3E179%2C600%3C%2Fdiv%3E%3Cdiv%20class%3D%22aui-table-cell%22%20style%3D%22height%3A%2028px%3B%20left%3A%201080px%3B%20top%3A%200px%3B%20width%3A%20120px%3B%20text-align%3A%20right%3B%20font-size%3A%2012px%3B%20padding%3A%204px%204px%203px%3B%20overflow%3A%20hidden%3B%20position%3A%20absolute%3B%20white-space%3A%20nowrap%3B%20text-overflow%3A%20ellipsis%3B%20border-right%3A%201px%20solid%20rgb(233%2C%20233%2C%20233)%3B%20background-color%3A%20transparent%3B%22%3E4%2C947.75%3C%2Fdiv%3E%3Cdiv%20class%3D%22aui-table-cell%22%20style%3D%22height%3A%2028px%3B%20left%3A%200px%3B%20top%3A%2028px%3B%20width%3A%20120px%3B%20text-align%3A%20right%3B%20font-size%3A%2012px%3B%20padding%3A%204px%204px%203px%3B%20overflow%3A%20hidden%3B%20position%3A%20absolute%3B%20white-space%3A%20nowrap%3B%20text-overflow%3A%20ellipsis%3B%20border-right%3A%201px%20solid%20rgb(233%2C%20233%2C%20233)%3B%20color%3A%20rgb(0%2C%200%2C%20255)%3B%20background-color%3A%20rgb(250%2C%20250%2C%20250)%3B%22%3E543%2C600%3C%2Fdiv%3E%3Cdiv%20class%3D%22aui-table-cell%22%20style%3D%22height%3A%2028px%3B%20left%3A%20120px%3B%20top%3A%2028px%3B%20width%3A%20120px%3B%20text-align%3A%20right%3B%20font-size%3A%2012px%3B%20padding%3A%204px%204px%203px%3B%20overflow%3A%20hidden%3B%20position%3A%20absolute%3B%20white-space%3A%20nowrap%3B%20text-overflow%3A%20ellipsis%3B%20border-right%3A%201px%20solid%20rgb(233%2C%20233%2C%20233)%3B%20background-color%3A%20rgb(250%2C%20250%2C%20250)%3B%22%3E.83%3C%2Fdiv%3E%3Cdiv%20class%3D%22aui-table-cell%22%20style%3D%22height%3A%2028px%3B%20left%3A%20240px%3B%20top%3A%2028px%3B%20width%3A%20120px%3B%20text-align%3A%20right%3B%20font-size%3A%2012px%3B%20padding%3A%204px%204px%203px%3B%20overflow%3A%20hidden%3B%20position%3A%20absolute%3B%20white-space%3A%20nowrap%3B%20text-overflow%3A%20ellipsis%3B%20border-right%3A%201px%20solid%20rgb(233%2C%20233%2C%20233)%3B%20background-color%3A%20rgb(250%2C%20250%2C%20250)%3B%22%3E543%2C600%3C%2Fdiv%3E%3Cdiv%20class%3D%22aui-table-cell%22%20style%3D%22height%3A%2028px%3B%20left%3A%20360px%3B%20top%3A%2028px%3B%20width%3A%20120px%3B%20text-align%3A%20right%3B%20font-size%3A%2012px%3B%20padding%3A%204px%204px%203px%3B%20overflow%3A%20hidden%3B%20position%3A%20absolute%3B%20white-space%3A%20nowrap%3B%20text-overflow%3A%20ellipsis%3B%20border-right%3A%201px%20solid%20rgb(233%2C%20233%2C%20233)%3B%20background-color%3A%20rgb(250%2C%20250%2C%20250)%3B%22%3E45%2C563.14%3C%2Fdiv%3E%3Cdiv%20class%3D%22aui-table-cell%22%20style%3D%22height%3A%2028px%3B%20left%3A%20480px%3B%20top%3A%2028px%3B%20width%3A%20120px%3B%20text-align%3A%20right%3B%20font-size%3A%2012px%3B%20padding%3A%204px%204px%203px%3B%20overflow%3A%20hidden%3B%20position%3A%20absolute%3B%20white-space%3A%20nowrap%3B%20text-overflow%3A%20ellipsis%3B%20border-right%3A%201px%20solid%20rgb(233%2C%20233%2C%20233)%3B%20background-color%3A%20rgb(250%2C%20250%2C%20250)%3B%22%3E.900%3C%2Fdiv%3E%3Cdiv%20class%3D%22aui-table-cell%22%20style%3D%22height%3A%2028px%3B%20left%3A%20600px%3B%20top%3A%2028px%3B%20width%3A%20120px%3B%20text-align%3A%20right%3B%20font-size%3A%2012px%3B%20padding%3A%204px%204px%203px%3B%20overflow%3A%20hidden%3B%20position%3A%20absolute%3B%20white-space%3A%20nowrap%3B%20text-overflow%3A%20ellipsis%3B%20border-right%3A%201px%20solid%20rgb(233%2C%20233%2C%20233)%3B%20background-color%3A%20rgb(250%2C%20250%2C%20250)%3B%22%3E524%3C%2Fdiv%3E%3Cdiv%20class%3D%22aui-table-cell%22%20style%3D%22height%3A%2028px%3B%20left%3A%20720px%3B%20top%3A%2028px%3B%20width%3A%20120px%3B%20text-align%3A%20right%3B%20font-size%3A%2012px%3B%20padding%3A%204px%204px%203px%3B%20overflow%3A%20hidden%3B%20position%3A%20absolute%3B%20white-space%3A%20nowrap%3B%20text-overflow%3A%20ellipsis%3B%20border-right%3A%201px%20solid%20rgb(233%2C%20233%2C%20233)%3B%20color%3A%20rgb(0%2C%200%2C%20255)%3B%20background-color%3A%20rgb(250%2C%20250%2C%20250)%3B%22%3E718%2C200%3C%2Fdiv%3E%3Cdiv%20class%3D%22aui-table-cell%22%20style%3D%22height%3A%2028px%3B%20left%3A%20840px%3B%20top%3A%2028px%3B%20width%3A%20120px%3B%20text-align%3A%20right%3B%20font-size%3A%2012px%3B%20padding%3A%204px%204px%203px%3B%20overflow%3A%20hidden%3B%20position%3A%20absolute%3B%20white-space%3A%20nowrap%3B%20text-overflow%3A%20ellipsis%3B%20border-right%3A%201px%20solid%20rgb(233%2C%20233%2C%20233)%3B%20background-color%3A%20rgb(250%2C%20250%2C%20250)%3B%22%3E.84%3C%2Fdiv%3E%3Cdiv%20class%3D%22aui-table-cell%22%20style%3D%22height%3A%2028px%3B%20left%3A%20960px%3B%20top%3A%2028px%3B%20width%3A%20120px%3B%20text-align%3A%20right%3B%20font-size%3A%2012px%3B%20padding%3A%204px%204px%203px%3B%20overflow%3A%20hidden%3B%20position%3A%20absolute%3B%20white-space%3A%20nowrap%3B%20text-overflow%3A%20ellipsis%3B%20border-right%3A%201px%20solid%20rgb(233%2C%20233%2C%20233)%3B%20background-color%3A%20rgb(250%2C%20250%2C%20250)%3B%22%3E718%2C200%3C%2Fdiv%3E%3Cdiv%20class%3D%22aui-table-cell%22%20style%3D%22height%3A%2028px%3B%20left%3A%201080px%3B%20top%3A%2028px%3B%20width%3A%20120px%3B%20text-align%3A%20right%3B%20font-size%3A%2012px%3B%20padding%3A%204px%204px%203px%3B%20overflow%3A%20hidden%3B%20position%3A%20absolute%3B%20white-space%3A%20nowrap%3B%20text-overflow%3A%20ellipsis%3B%20border-right%3A%201px%20solid%20rgb(233%2C%20233%2C%20233)%3B%20background-color%3A%20rgb(250%2C%20250%2C%20250)%3B%22%3E22%2C733.64%3C%2Fdiv%3E%3Cdiv%20class%3D%22aui-table-cell%22%20style%3D%22height%3A%2028px%3B%20left%3A%200px%3B%20top%3A%2056px%3B%20width%3A%20120px%3B%20text-align%3A%20right%3B%20font-size%3A%2012px%3B%20padding%3A%204px%204px%203px%3B%20overflow%3A%20hidden%3B%20position%3A%20absolute%3B%20white-space%3A%20nowrap%3B%20text-overflow%3A%20ellipsis%3B%20border-right%3A%201px%20solid%20rgb(233%2C%20233%2C%20233)%3B%20color%3A%20rgb(0%2C%200%2C%20255)%3B%20background-color%3A%20transparent%3B%22%3E199%2C200%3C%2Fdiv%3E%3Cdiv%20class%3D%22aui-table-cell%22%20style%3D%22height%3A%2028px%3B%20left%3A%20120px%3B%20top%3A%2056px%3B%20width%3A%20120px%3B%20text-align%3A%20right%3B%20font-size%3A%2012px%3B%20padding%3A%204px%204px%203px%3B%20overflow%3A%20hidden%3B%20position%3A%20absolute%3B%20white-space%3A%20nowrap%3B%20text-overflow%3A%20ellipsis%3B%20border-right%3A%201px%20solid%20rgb(233%2C%20233%2C%20233)%3B%20background-color%3A%20transparent%3B%22%3E.89%3C%2Fdiv%3E%3Cdiv%20class%3D%22aui-table-cell%22%20style%3D%22height%3A%2028px%3B%20left%3A%20240px%3B%20top%3A%2056px%3B%20width%3A%20120px%3B%20text-align%3A%20right%3B%20font-size%3A%2012px%3B%20padding%3A%204px%204px%203px%3B%20overflow%3A%20hidden%3B%20position%3A%20absolute%3B%20white-space%3A%20nowrap%3B%20text-overflow%3A%20ellipsis%3B%20border-right%3A%201px%20solid%20rgb(233%2C%20233%2C%20233)%3B%20background-color%3A%20transparent%3B%22%3E199%2C200%3C%2Fdiv%3E%3Cdiv%20class%3D%22aui-table-cell%22%20style%3D%22height%3A%2028px%3B%20left%3A%20360px%3B%20top%3A%2056px%3B%20width%3A%20120px%3B%20text-align%3A%20right%3B%20font-size%3A%2012px%3B%20padding%3A%204px%204px%203px%3B%20overflow%3A%20hidden%3B%20position%3A%20absolute%3B%20white-space%3A%20nowrap%3B%20text-overflow%3A%20ellipsis%3B%20border-right%3A%201px%20solid%20rgb(233%2C%20233%2C%20233)%3B%20background-color%3A%20transparent%3B%22%3E45%2C554.48%3C%2Fdiv%3E%3Cdiv%20class%3D%22aui-table-cell%22%20style%3D%22height%3A%2028px%3B%20left%3A%20480px%3B%20top%3A%2056px%3B%20width%3A%20120px%3B%20text-align%3A%20right%3B%20font-size%3A%2012px%3B%20padding%3A%204px%204px%203px%3B%20overflow%3A%20hidden%3B%20position%3A%20absolute%3B%20white-space%3A%20nowrap%3B%20text-overflow%3A%20ellipsis%3B%20border-right%3A%201px%20solid%20rgb(233%2C%20233%2C%20233)%3B%20background-color%3A%20transparent%3B%22%3E.900%3C%2Fdiv%3E%3Cdiv%20class%3D%22aui-table-cell%22%20style%3D%22height%3A%2028px%3B%20left%3A%20600px%3B%20top%3A%2056px%3B%20width%3A%20120px%3B%20text-align%3A%20right%3B%20font-size%3A%2012px%3B%20padding%3A%204px%204px%203px%3B%20overflow%3A%20hidden%3B%20position%3A%20absolute%3B%20white-space%3A%20nowrap%3B%20text-overflow%3A%20ellipsis%3B%20border-right%3A%201px%20solid%20rgb(233%2C%20233%2C%20233)%3B%20background-color%3A%20transparent%3B%22%3E70%3C%2Fdiv%3E%3Cdiv%20class%3D%22aui-table-cell%22%20style%3D%22height%3A%2028px%3B%20left%3A%20720px%3B%20top%3A%2056px%3B%20width%3A%20120px%3B%20text-align%3A%20right%3B%20font-size%3A%2012px%3B%20padding%3A%204px%204px%203px%3B%20overflow%3A%20hidden%3B%20position%3A%20absolute%3B%20white-space%3A%20nowrap%3B%20text-overflow%3A%20ellipsis%3B%20border-right%3A%201px%20solid%20rgb(233%2C%20233%2C%20233)%3B%20color%3A%20rgb(0%2C%200%2C%20255)%3B%20background-color%3A%20transparent%3B%22%3E368%2C400%3C%2Fdiv%3E%3Cdiv%20class%3D%22aui-table-cell%22%20style%3D%22height%3A%2028px%3B%20left%3A%20840px%3B%20top%3A%2056px%3B%20width%3A%20120px%3B%20text-align%3A%20right%3B%20font-size%3A%2012px%3B%20padding%3A%204px%204px%203px%3B%20overflow%3A%20hidden%3B%20position%3A%20absolute%3B%20white-space%3A%20nowrap%3B%20text-overflow%3A%20ellipsis%3B%20border-right%3A%201px%20solid%20rgb(233%2C%20233%2C%20233)%3B%20background-color%3A%20transparent%3B%22%3E.90%3C%2Fdiv%3E%3Cdiv%20class%3D%22aui-table-cell%22%20style%3D%22height%3A%2028px%3B%20left%3A%20960px%3B%20top%3A%2056px%3B%20width%3A%20120px%3B%20text-align%3A%20right%3B%20font-size%3A%2012px%3B%20padding%3A%204px%204px%203px%3B%20overflow%3A%20hidden%3B%20position%3A%20absolute%3B%20white-space%3A%20nowrap%3B%20text-overflow%3A%20ellipsis%3B%20border-right%3A%201px%20solid%20rgb(233%2C%20233%2C%20233)%3B%20background-color%3A%20transparent%3B%22%3E368%2C400%3C%2Fdiv%3E%3Cdiv%20class%3D%22aui-table-cell%22%20style%3D%22height%3A%2028px%3B%20left%3A%201080px%3B%20top%3A%2056px%3B%20width%3A%20120px%3B%20text-align%3A%20right%3B%20font-size%3A%2012px%3B%20padding%3A%204px%204px%203px%3B%20overflow%3A%20hidden%3B%20position%3A%20absolute%3B%20white-space%3A%20nowrap%3B%20text-overflow%3A%20ellipsis%3B%20border-right%3A%201px%20solid%20rgb(233%2C%20233%2C%20233)%3B%20background-color%3A%20transparent%3B%22%3E22%2C734.34%3C%2Fdiv%3E%3Cdiv%20class%3D%22aui-table-cell%22%20style%3D%22height%3A%2028px%3B%20left%3A%200px%3B%20top%3A%2084px%3B%20width%3A%20120px%3B%20text-align%3A%20right%3B%20font-size%3A%2012px%3B%20padding%3A%204px%204px%203px%3B%20overflow%3A%20hidden%3B%20position%3A%20absolute%3B%20white-space%3A%20nowrap%3B%20text-overflow%3A%20ellipsis%3B%20border-right%3A%201px%20solid%20rgb(233%2C%20233%2C%20233)%3B%20color%3A%20rgb(0%2C%200%2C%20255)%3B%20background-color%3A%20rgb(250%2C%20250%2C%20250)%3B%22%3E222%2C900%3C%2Fdiv%3E%3Cdiv%20class%3D%22aui-table-cell%22%20style%3D%22height%3A%2028px%3B%20left%3A%20120px%3B%20top%3A%2084px%3B%20width%3A%20120px%3B%20text-align%3A%20right%3B%20font-size%3A%2012px%3B%20padding%3A%204px%204px%203px%3B%20overflow%3A%20hidden%3B%20position%3A%20absolute%3B%20white-space%3A%20nowrap%3B%20text-overflow%3A%20ellipsis%3B%20border-right%3A%201px%20solid%20rgb(233%2C%20233%2C%20233)%3B%20background-color%3A%20rgb(250%2C%20250%2C%20250)%3B%22%3E.88%3C%2Fdiv%3E%3Cdiv%20class%3D%22aui-table-cell%22%20style%3D%22height%3A%2028px%3B%20left%3A%20240px%3B%20top%3A%2084px%3B%20width%3A%20120px%3B%20text-align%3A%20right%3B%20font-size%3A%2012px%3B%20padding%3A%204px%204px%203px%3B%20overflow%3A%20hidden%3B%20position%3A%20absolute%3B%20white-space%3A%20nowrap%3B%20text-overflow%3A%20ellipsis%3B%20border-right%3A%201px%20solid%20rgb(233%2C%20233%2C%20233)%3B%20background-color%3A%20rgb(250%2C%20250%2C%20250)%3B%22%3E222%2C900%3C%2Fdiv%3E%3Cdiv%20class%3D%22aui-table-cell%22%20style%3D%22height%3A%2028px%3B%20left%3A%20360px%3B%20top%3A%2084px%3B%20width%3A%20120px%3B%20text-align%3A%20right%3B%20font-size%3A%2012px%3B%20padding%3A%204px%204px%203px%3B%20overflow%3A%20hidden%3B%20position%3A%20absolute%3B%20white-space%3A%20nowrap%3B%20text-overflow%3A%20ellipsis%3B%20border-right%3A%201px%20solid%20rgb(233%2C%20233%2C%20233)%3B%20background-color%3A%20rgb(250%2C%20250%2C%20250)%3B%22%3E45%2C534.37%3C%2Fdiv%3E%3Cdiv%20class%3D%22aui-table-cell%22%20style%3D%22height%3A%2028px%3B%20left%3A%20480px%3B%20top%3A%2084px%3B%20width%3A%20120px%3B%20text-align%3A%20right%3B%20font-size%3A%2012px%3B%20padding%3A%204px%204px%203px%3B%20overflow%3A%20hidden%3B%20position%3A%20absolute%3B%20white-space%3A%20nowrap%3B%20text-overflow%3A%20ellipsis%3B%20border-right%3A%201px%20solid%20rgb(233%2C%20233%2C%20233)%3B%20background-color%3A%20rgb(250%2C%20250%2C%20250)%3B%22%3E.900%3C%2Fdiv%3E%3Cdiv%20class%3D%22aui-table-cell%22%20style%3D%22height%3A%2028px%3B%20left%3A%20600px%3B%20top%3A%2084px%3B%20width%3A%20120px%3B%20text-align%3A%20right%3B%20font-size%3A%2012px%3B%20padding%3A%204px%204px%203px%3B%20overflow%3A%20hidden%3B%20position%3A%20absolute%3B%20white-space%3A%20nowrap%3B%20text-overflow%3A%20ellipsis%3B%20border-right%3A%201px%20solid%20rgb(233%2C%20233%2C%20233)%3B%20background-color%3A%20rgb(250%2C%20250%2C%20250)%3B%22%3E152%3C%2Fdiv%3E%3Cdiv%20class%3D%22aui-table-cell%22%20style%3D%22height%3A%2028px%3B%20left%3A%20720px%3B%20top%3A%2084px%3B%20width%3A%20120px%3B%20text-align%3A%20right%3B%20font-size%3A%2012px%3B%20padding%3A%204px%204px%203px%3B%20overflow%3A%20hidden%3B%20position%3A%20absolute%3B%20white-space%3A%20nowrap%3B%20text-overflow%3A%20ellipsis%3B%20border-right%3A%201px%20solid%20rgb(233%2C%20233%2C%20233)%3B%20color%3A%20rgb(0%2C%200%2C%20255)%3B%20background-color%3A%20rgb(250%2C%20250%2C%20250)%3B%22%3E393%2C700%3C%2Fdiv%3E%3Cdiv%20class%3D%22aui-table-cell%22%20style%3D%22height%3A%2028px%3B%20left%3A%20840px%3B%20top%3A%2084px%3B%20width%3A%20120px%3B%20text-align%3A%20right%3B%20font-size%3A%2012px%3B%20padding%3A%204px%204px%203px%3B%20overflow%3A%20hidden%3B%20position%3A%20absolute%3B%20white-space%3A%20nowrap%3B%20text-overflow%3A%20ellipsis%3B%20border-right%3A%201px%20solid%20rgb(233%2C%20233%2C%20233)%3B%20background-color%3A%20rgb(250%2C%20250%2C%20250)%3B%22%3E.89%3C%2Fdiv%3E%3Cdiv%20class%3D%22aui-table-cell%22%20style%3D%22height%3A%2028px%3B%20left%3A%20960px%3B%20top%3A%2084px%3B%20width%3A%20120px%3B%20text-align%3A%20right%3B%20font-size%3A%2012px%3B%20padding%3A%204px%204px%203px%3B%20overflow%3A%20hidden%3B%20position%3A%20absolute%3B%20white-space%3A%20nowrap%3B%20text-overflow%3A%20ellipsis%3B%20border-right%3A%201px%20solid%20rgb(233%2C%20233%2C%20233)%3B%20background-color%3A%20rgb(250%2C%20250%2C%20250)%3B%22%3E393%2C700%3C%2Fdiv%3E%3Cdiv%20class%3D%22aui-table-cell%22%20style%3D%22height%3A%2028px%3B%20left%3A%201080px%3B%20top%3A%2084px%3B%20width%3A%20120px%3B%20text-align%3A%20right%3B%20font-size%3A%2012px%3B%20padding%3A%204px%204px%203px%3B%20overflow%3A%20hidden%3B%20position%3A%20absolute%3B%20white-space%3A%20nowrap%3B%20text-overflow%3A%20ellipsis%3B%20border-right%3A%201px%20solid%20rgb(233%2C%20233%2C%20233)%3B%20background-color%3A%20rgb(250%2C%20250%2C%20250)%3B%22%3E22%2C740.29%3C%2Fdiv%3E%3Cdiv%20class%3D%22aui-table-cell%22%20style%3D%22height%3A%2028px%3B%20left%3A%200px%3B%20top%3A%20112px%3B%20width%3A%20120px%3B%20text-align%3A%20right%3B%20font-size%3A%2012px%3B%20padding%3A%204px%204px%203px%3B%20overflow%3A%20hidden%3B%20position%3A%20absolute%3B%20white-space%3A%20nowrap%3B%20text-overflow%3A%20ellipsis%3B%20border-right%3A%201px%20solid%20rgb(233%2C%20233%2C%20233)%3B%20color%3A%20rgb(0%2C%200%2C%20255)%3B%20background-color%3A%20transparent%3B%22%3E249%2C600%3C%2Fdiv%3E%3Cdiv%20class%3D%22aui-table-cell%22%20style%3D%22height%3A%2028px%3B%20left%3A%20120px%3B%20top%3A%20112px%3B%20width%3A%20120px%3B%20text-align%3A%20right%3B%20font-size%3A%2012px%3B%20padding%3A%204px%204px%203px%3B%20overflow%3A%20hidden%3B%20position%3A%20absolute%3B%20white-space%3A%20nowrap%3B%20text-overflow%3A%20ellipsis%3B%20border-right%3A%201px%20solid%20rgb(233%2C%20233%2C%20233)%3B%20background-color%3A%20transparent%3B%22%3E.93%3C%2Fdiv%3E%3Cdiv%20class%3D%22aui-table-cell%22%20style%3D%22height%3A%2028px%3B%20left%3A%20240px%3B%20top%3A%20112px%3B%20width%3A%20120px%3B%20text-align%3A%20right%3B%20font-size%3A%2012px%3B%20padding%3A%204px%204px%203px%3B%20overflow%3A%20hidden%3B%20position%3A%20absolute%3B%20white-space%3A%20nowrap%3B%20text-overflow%3A%20ellipsis%3B%20border-right%3A%201px%20solid%20rgb(233%2C%20233%2C%20233)%3B%20background-color%3A%20transparent%3B%22%3E249%2C600%3C%2Fdiv%3E%3Cdiv%20class%3D%22aui-table-cell%22%20style%3D%22height%3A%2028px%3B%20left%3A%20360px%3B%20top%3A%20112px%3B%20width%3A%20120px%3B%20text-align%3A%20right%3B%20font-size%3A%2012px%3B%20padding%3A%204px%204px%203px%3B%20overflow%3A%20hidden%3B%20position%3A%20absolute%3B%20white-space%3A%20nowrap%3B%20text-overflow%3A%20ellipsis%3B%20border-right%3A%201px%20solid%20rgb(233%2C%20233%2C%20233)%3B%20background-color%3A%20transparent%3B%22%3E33%2C350.05%3C%2Fdiv%3E%3Cdiv%20class%3D%22aui-table-cell%22%20style%3D%22height%3A%2028px%3B%20left%3A%20480px%3B%20top%3A%20112px%3B%20width%3A%20120px%3B%20text-align%3A%20right%3B%20font-size%3A%2012px%3B%20padding%3A%204px%204px%203px%3B%20overflow%3A%20hidden%3B%20position%3A%20absolute%3B%20white-space%3A%20nowrap%3B%20text-overflow%3A%20ellipsis%3B%20border-right%3A%201px%20solid%20rgb(233%2C%20233%2C%20233)%3B%20background-color%3A%20transparent%3B%22%3E.927%3C%2Fdiv%3E%3Cdiv%20class%3D%22aui-table-cell%22%20style%3D%22height%3A%2028px%3B%20left%3A%20600px%3B%20top%3A%20112px%3B%20width%3A%20120px%3B%20text-align%3A%20right%3B%20font-size%3A%2012px%3B%20padding%3A%204px%204px%203px%3B%20overflow%3A%20hidden%3B%20position%3A%20absolute%3B%20white-space%3A%20nowrap%3B%20text-overflow%3A%20ellipsis%3B%20border-right%3A%201px%20solid%20rgb(233%2C%20233%2C%20233)%3B%20background-color%3A%20transparent%3B%22%3E0%3C%2Fdiv%3E%3Cdiv%20class%3D%22aui-table-cell%22%20style%3D%22height%3A%2028px%3B%20left%3A%20720px%3B%20top%3A%20112px%3B%20width%3A%20120px%3B%20text-align%3A%20right%3B%20font-size%3A%2012px%3B%20padding%3A%204px%204px%203px%3B%20overflow%3A%20hidden%3B%20position%3A%20absolute%3B%20white-space%3A%20nowrap%3B%20text-overflow%3A%20ellipsis%3B%20border-right%3A%201px%20solid%20rgb(233%2C%20233%2C%20233)%3B%20color%3A%20rgb(0%2C%200%2C%20255)%3B%20background-color%3A%20transparent%3B%22%3E319%2C600%3C%2Fdiv%3E%3Cdiv%20class%3D%22aui-table-cell%22%20style%3D%22height%3A%2028px%3B%20left%3A%20840px%3B%20top%3A%20112px%3B%20width%3A%20120px%3B%20text-align%3A%20right%3B%20font-size%3A%2012px%3B%20padding%3A%204px%204px%203px%3B%20overflow%3A%20hidden%3B%20position%3A%20absolute%3B%20white-space%3A%20nowrap%3B%20text-overflow%3A%20ellipsis%3B%20border-right%3A%201px%20solid%20rgb(233%2C%20233%2C%20233)%3B%20background-color%3A%20transparent%3B%22%3E.94%3C%2Fdiv%3E%3Cdiv%20class%3D%22aui-table-cell%22%20style%3D%22height%3A%2028px%3B%20left%3A%20960px%3B%20top%3A%20112px%3B%20width%3A%20120px%3B%20text-align%3A%20right%3B%20font-size%3A%2012px%3B%20padding%3A%204px%204px%203px%3B%20overflow%3A%20hidden%3B%20position%3A%20absolute%3B%20white-space%3A%20nowrap%3B%20text-overflow%3A%20ellipsis%3B%20border-right%3A%201px%20solid%20rgb(233%2C%20233%2C%20233)%3B%20background-color%3A%20transparent%3B%22%3E319%2C600%3C%2Fdiv%3E%3Cdiv%20class%3D%22aui-table-cell%22%20style%3D%22height%3A%2028px%3B%20left%3A%201080px%3B%20top%3A%20112px%3B%20width%3A%20120px%3B%20text-align%3A%20right%3B%20font-size%3A%2012px%3B%20padding%3A%204px%204px%203px%3B%20overflow%3A%20hidden%3B%20position%3A%20absolute%3B%20white-space%3A%20nowrap%3B%20text-overflow%3A%20ellipsis%3B%20border-right%3A%201px%20solid%20rgb(233%2C%20233%2C%20233)%3B%20background-color%3A%20transparent%3B%22%3E22%2C767.72%3C%2Fdiv%3E%3C%2Fdiv%3E%3C%2Fdiv%3E%3C%2Fdiv%3E%3C%2Fdiv%3E%3C%2Fdiv%3E%3Cdiv%20class%3D%22css-1uww2vi-Table%22%3E%3C%2Fdiv%3E%3C%2Fdiv%3E%3C%2Fdiv%3E%3C%2Fdiv%3E%3C%2Fdiv%3E%3C%2Fdiv%3E%3C%2FforeignObject%3E%3C%2Fsvg%3E\">"
      ],
      "text/plain": [
       "Open the notebook in JupyterLab with the Atoti extension enabled to build this widget."
      ]
     },
     "metadata": {},
     "output_type": "display_data"
    }
   ],
   "source": [
    "# Pending fix from https://github.com/activeviam/atoti/issues/3849\n",
    "# currently Parameter simulations created after source simulations are not correctly fed on scenarios other than Base\n",
    "session.visualize()"
   ]
  },
  {
   "cell_type": "markdown",
   "metadata": {
    "tags": []
   },
   "source": [
    "## What-if New Customer budget is twice the expected?\n",
    "\n",
    "We can easily create a new parameter simulation that allow us to scale the _New Customer budget_.\n",
    "\n",
    "Here, we create a simulation using the measure \"New Customer budget\" and set its default value correspond to the previous \"New Customer budget\" measure (= 500)."
   ]
  },
  {
   "cell_type": "code",
   "execution_count": 57,
   "metadata": {},
   "outputs": [],
   "source": [
    "marketing_budget_simulation = cube.create_parameter_simulation(\n",
    "    \"New Customer budget Simulation\",\n",
    "    measures={\"New Customer budget\": 500},\n",
    "    base_scenario_name=\"5 x Retention\",\n",
    ")"
   ]
  },
  {
   "cell_type": "markdown",
   "metadata": {},
   "source": [
    "We can create a scenario corresponding to a \"New Customer Budget\" of 1000, or x10 our retention cost."
   ]
  },
  {
   "cell_type": "code",
   "execution_count": 58,
   "metadata": {},
   "outputs": [],
   "source": [
    "marketing_budget_simulation += (\"10 x Retention\", 1000)"
   ]
  },
  {
   "cell_type": "markdown",
   "metadata": {},
   "source": [
    "We see the Final NRR and Actual Expense being recomputed. This increase in _New Customer budget_ does not impact the _SVM Classifier_ model as its NRR exceeds 90% if the retention rate is 100%.  "
   ]
  },
  {
   "cell_type": "code",
   "execution_count": 59,
   "metadata": {
    "atoti": {
     "height": 372,
     "widget": {
      "columnWidths": {
       "[Epoch].[Epoch].[Branch]": 170
      },
      "filters": [],
      "mapping": {
       "columns": [
        "ALL_MEASURES",
        "[NRR Simulation].[NRR Simulation].[NRR Simulation]",
        "[New Customer budget Simulation].[New Customer budget Simulation].[New Customer budget Simulation]"
       ],
       "measures": [
        "[Measures].[Actual Expense (1)]",
        "[Measures].[Actual Expense]"
       ],
       "rows": [
        "[Epoch].[Epoch].[Branch]"
       ]
      },
      "name": "",
      "query": {
       "context": {
        "queriesResultLimit.intermediateSize": 1000000,
        "queriesResultLimit.transientSize": 10000000
       },
       "mdx": "WITH  Member [Measures].[Actual Expense (1)] AS [Measures].[Actual Expense], CAPTION = [Measures].[Actual Expense].MEMBER_CAPTION, FORMAT_STRING = \"#,###\"    Member [New Customer budget Simulation].[New Customer budget Simulation].[5 x Retention - 10 x Retention] AS [New Customer budget Simulation].[New Customer budget Simulation].[10 x Retention] - [New Customer budget Simulation].[New Customer budget Simulation].[5 x Retention], CAPTION = \"Expense difference\", BACK_COLOR = RGB(115, 232, 255), FORMAT_STRING = \"#,###\"  SELECT NON EMPTY Crossjoin([Measures].[Actual Expense (1)], [NRR Simulation].[NRR Simulation].[NRR Simulation].Members, Union([New Customer budget Simulation].[New Customer budget Simulation].[New Customer budget Simulation].Members, [New Customer budget Simulation].[New Customer budget Simulation].[5 x Retention - 10 x Retention])) ON COLUMNS, NON EMPTY [Epoch].[Epoch].[Branch].Members ON ROWS FROM [customer_cube] CELL PROPERTIES BACK_COLOR, FONT_FLAGS, FORE_COLOR, FORMATTED_VALUE, VALUE"
      },
      "serverKey": "default",
      "widgetKey": "pivot-table"
     }
    },
    "tags": []
   },
   "outputs": [
    {
     "data": {
      "application/vnd.atoti.widget.v0+json": {
       "name": "Budget adjustment against target NRR simulation",
       "sessionId": "1685413173_PPEYJT",
       "sessionLocation": {
        "https": false,
        "port": 58900
       },
       "widgetCreationCode": "session.visualize()"
      },
      "text/html": [
       "<img src=\"data:image/svg+xml;charset=utf8,%3C%3Fxml%20version%3D%221.0%22%20standalone%3D%22no%22%3F%3E%3Csvg%20xmlns%3D%22http%3A%2F%2Fwww.w3.org%2F2000%2Fsvg%22%20height%3D%22364%22%20width%3D%221342%22%3E%3CforeignObject%20width%3D%22100%25%22%20height%3D%22100%25%22%20x%3D%220%22%20y%3D%220%22%3E%3Cstyle%20xmlns%3D%22http%3A%2F%2Fwww.w3.org%2F1999%2Fxhtml%22%20type%3D%22text%2Fcss%22%3E*%2C%20%3A%3Abefore%2C%20%3A%3Aafter%20%7Bbox-sizing%3A%20unset%7D%0A.ant-root%20%5Bclass%5E%3D%22ant-%22%5D%2C%20.ant-root%20%5Bclass*%3D%22ant-%22%5D%2C%20.ant-root%20%5Bclass%5E%3D%22ant-%22%5D%20*%2C%20.ant-root%20%5Bclass*%3D%22ant-%22%5D%20*%2C%20.ant-root%20%5Bclass%5E%3D%22ant-%22%5D%20%3A%3Abefore%2C%20.ant-root%20%5Bclass*%3D%22ant-%22%5D%20%3A%3Abefore%2C%20.ant-root%20%5Bclass%5E%3D%22ant-%22%5D%20%3A%3Aafter%2C%20.ant-root%20%5Bclass*%3D%22ant-%22%5D%20%3A%3Aafter%20%7Bbox-sizing%3A%20border-box%7D%0A.ant-root%2C%20.ant-root%20%7Bwidth%3A%20100%25%3B%20height%3A%20100%25%7D%0A.ant-root%20*%2C%20.ant-root%20%3A%3Abefore%2C%20.ant-root%20%3A%3Aafter%20%7Bbox-sizing%3A%20border-box%7D%0A.ant-root%20%7Btext-size-adjust%3A%20100%25%3B%20-webkit-tap-highlight-color%3A%20rgba(0%2C%200%2C%200%2C%200)%3B%20font-family%3A%20-apple-system%2C%20BlinkMacSystemFont%2C%20%22Segoe%20UI%22%2C%20Roboto%2C%20%22Helvetica%20Neue%22%2C%20Arial%2C%20%22Noto%20Sans%22%2C%20sans-serif%2C%20%22Apple%20Color%20Emoji%22%2C%20%22Segoe%20UI%20Emoji%22%2C%20%22Segoe%20UI%20Symbol%22%2C%20%22Noto%20Color%20Emoji%22%3B%20line-height%3A%201.66667%3B%20color%3A%20rgb(89%2C%2089%2C%2089)%3B%20font-variant-ligatures%3A%20normal%3B%20font-variant-numeric%3A%20tabular-nums%3B%20font-variant-east-asian%3A%20normal%3B%20font-variant-caps%3A%20normal%3B%20font-variant-alternates%3A%20normal%3B%20background-color%3A%20rgb(255%2C%20255%2C%20255)%3B%20margin-top%3A%200px%3B%20margin-right%3A%200px%3B%20margin-bottom%3A%200px%3B%20margin-left%3A%200px%3B%20font-size%3A%2012px%3B%20--antd-wave-shadow-color%3A%20%231890ff%3B%20--scroll-bar%3A%200%7D%0A.ant-root%20.aui-invisible-scrollbars%20%7B%7D%0A.css-12ebr42-AWidget%20%7Bheight%3A%20100%25%7D%0A.css-1b1raxz-DefaultWidgetLoadingOverlay%20%7Bdisplay%3A%20flex%3B%20height%3A%20100%25%3B%20-webkit-box-pack%3A%20center%3B%20justify-content%3A%20center%3B%20position%3A%20absolute%3B%20width%3A%20100%25%3B%20-webkit-box-align%3A%20center%3B%20align-items%3A%20center%3B%20pointer-events%3A%20none%3B%20z-index%3A%202%7D%0A.css-34a2ml-DefaultWidgetLoadingOverlay%20%7Bbackground-image%3A%20initial%3B%20background-position-x%3A%20initial%3B%20background-position-y%3A%20initial%3B%20background-size%3A%20initial%3B%20background-repeat-x%3A%20initial%3B%20background-repeat-y%3A%20initial%3B%20background-attachment%3A%20initial%3B%20background-origin%3A%20initial%3B%20background-clip%3A%20initial%3B%20background-color%3A%20transparent%3B%20width%3A%20calc(100%25%20-%204px)%3B%20height%3A%20calc(100%25%20-%204px)%7D%0A.css-2p9ued-WidgetLoadingOverlay%20%7Bheight%3A%20100%25%3B%20position%3A%20relative%7D%0A.css-1hwl8p1-Table%20%7Bpadding-bottom%3A%202px%3B%20padding-right%3A%202px%3B%20height%3A%20100%25%7D%0A.css-14ejcn0-Table%20%7Bheight%3A%20calc(100%25%20-%2030px)%3B%20outline-color%3A%20initial%3B%20outline-style%3A%20none%3B%20outline-width%3A%20initial%3B%20position%3A%20relative%7D%0A.css-1rxpjm0-ColumnResizeHint%20%7Bdisplay%3A%20none%3B%20position%3A%20absolute%3B%20z-index%3A%201%7D%0A.css-1uww2vi-Table%20%7Bheight%3A%2030px%3B%20text-align%3A%20right%3B%20padding-right%3A%2025px%7D%0A.css-xxcrt1-ResizableCell%20%7Bbackground-image%3A%20initial%3B%20background-position-x%3A%20initial%3B%20background-position-y%3A%20initial%3B%20background-size%3A%20initial%3B%20background-repeat-x%3A%20initial%3B%20background-repeat-y%3A%20initial%3B%20background-attachment%3A%20initial%3B%20background-origin%3A%20initial%3B%20background-clip%3A%20initial%3B%20background-color%3A%20transparent%3B%20cursor%3A%20col-resize%3B%20height%3A%20100%25%3B%20position%3A%20absolute%3B%20right%3A%200px%3B%20width%3A%205px%3B%20z-index%3A%201%7D%0A.css-1hol363-ResizableCell%20%7Bdisplay%3A%20flex%3B%20flex-direction%3A%20column%3B%20position%3A%20absolute%3B%20top%3A%200px%3B%20left%3A%200px%3B%20height%3A%2028px%3B%20width%3A%20120px%7D%0A.css-fpuq48-ResizableCell%20%7Bdisplay%3A%20flex%3B%20flex-direction%3A%20column%3B%20position%3A%20absolute%3B%20top%3A%200px%3B%20left%3A%20120px%3B%20height%3A%2028px%3B%20width%3A%20120px%7D%0A.css-3geaec-ResizableCell%20%7Bdisplay%3A%20flex%3B%20flex-direction%3A%20column%3B%20position%3A%20absolute%3B%20top%3A%200px%3B%20left%3A%20240px%3B%20height%3A%2028px%3B%20width%3A%20120px%7D%0A.css-9kbkmr-ResizableCell%20%7Bdisplay%3A%20flex%3B%20flex-direction%3A%20column%3B%20position%3A%20absolute%3B%20top%3A%200px%3B%20left%3A%20360px%3B%20height%3A%2028px%3B%20width%3A%20120px%7D%0A.css-76qu0m-ResizableCell%20%7Bdisplay%3A%20flex%3B%20flex-direction%3A%20column%3B%20position%3A%20absolute%3B%20top%3A%200px%3B%20left%3A%20480px%3B%20height%3A%2028px%3B%20width%3A%20120px%7D%0A.css-1h9kznl-ResizableCell%20%7Bdisplay%3A%20flex%3B%20flex-direction%3A%20column%3B%20position%3A%20absolute%3B%20top%3A%200px%3B%20left%3A%20600px%3B%20height%3A%2028px%3B%20width%3A%20120px%7D%0A.css-i8q39l%20%7Bcursor%3A%20cell%3B%20height%3A%20140px%3B%20overflow-x%3A%20hidden%3B%20overflow-y%3A%20hidden%3B%20position%3A%20relative%3B%20width%3A%20720px%3B%20border-top-width%3A%202px%3B%20border-top-style%3A%20solid%3B%20border-top-color%3A%20rgb(233%2C%20233%2C%20233)%7D%0A.css-107wbdi-ResizableCell%20%7Bdisplay%3A%20flex%3B%20flex-direction%3A%20column%3B%20position%3A%20absolute%3B%20top%3A%200px%3B%20left%3A%200px%3B%20height%3A%2028px%3B%20width%3A%20170px%7D%0A.css-atsg2c%20%7Bcursor%3A%20cell%3B%20height%3A%20140px%3B%20overflow-x%3A%20hidden%3B%20overflow-y%3A%20hidden%3B%20position%3A%20relative%3B%20width%3A%20170px%3B%20border-top-width%3A%202px%3B%20border-top-style%3A%20solid%3B%20border-top-color%3A%20rgb(233%2C%20233%2C%20233)%3B%20border-right-width%3A%202px%3B%20border-right-style%3A%20solid%3B%20border-right-color%3A%20rgb(233%2C%20233%2C%20233)%7D%0A.css-y6iw6o-Table%20%7Bwidth%3A%201170px%3B%20border-collapse%3A%20collapse%7D%0A.css-z51yao-ResizableCell%20%7Bdisplay%3A%20flex%3B%20flex-direction%3A%20column%3B%20position%3A%20absolute%3B%20top%3A%2028px%3B%20left%3A%200px%3B%20height%3A%2028px%3B%20width%3A%20120px%7D%0A.css-10fw2tq-ResizableCell%20%7Bdisplay%3A%20flex%3B%20flex-direction%3A%20column%3B%20position%3A%20absolute%3B%20top%3A%2028px%3B%20left%3A%20120px%3B%20height%3A%2028px%3B%20width%3A%20120px%7D%0A.css-1pd7flk-ResizableCell%20%7Bdisplay%3A%20flex%3B%20flex-direction%3A%20column%3B%20position%3A%20absolute%3B%20top%3A%2028px%3B%20left%3A%20240px%3B%20height%3A%2028px%3B%20width%3A%20120px%7D%0A.css-eaczoo-ResizableCell%20%7Bdisplay%3A%20flex%3B%20flex-direction%3A%20column%3B%20position%3A%20absolute%3B%20top%3A%2028px%3B%20left%3A%20360px%3B%20height%3A%2028px%3B%20width%3A%20120px%7D%0A.css-ud38eq-ResizableCell%20%7Bdisplay%3A%20flex%3B%20flex-direction%3A%20column%3B%20position%3A%20absolute%3B%20top%3A%2028px%3B%20left%3A%20480px%3B%20height%3A%2028px%3B%20width%3A%20120px%7D%0A.css-1ipcw93-ResizableCell%20%7Bdisplay%3A%20flex%3B%20flex-direction%3A%20column%3B%20position%3A%20absolute%3B%20top%3A%2028px%3B%20left%3A%20600px%3B%20height%3A%2028px%3B%20width%3A%20120px%7D%0A.css-1qh8lim-ColumnResizeHint%20%7Bheight%3A%2084px%3B%20background-color%3A%20rgb(24%2C%20144%2C%20255)%3B%20width%3A%205px%7D%0A.css-1setn92-ColumnResizeHint%20%7Bdisplay%3A%20none%3B%20float%3A%20right%3B%20height%3A%20248px%3B%20background-color%3A%20rgb(24%2C%20144%2C%20255)%3B%20opacity%3A%200.4%3B%20width%3A%202px%7D%0A.css-lomoqo-Table%20%7Bdisplay%3A%20flex%3B%20height%3A%20332px%7D%0A.css-uydmqp-Table%20%7Bborder-collapse%3A%20collapse%3B%20height%3A%2084px%3B%20width%3A%20170px%7D%0A.css-1oi96h3%20%7Bheight%3A%2084px%3B%20width%3A%20170px%7D%0A.css-ni65xb%20%7Bcursor%3A%20cell%3B%20height%3A%2084px%3B%20overflow-x%3A%20hidden%3B%20overflow-y%3A%20hidden%3B%20position%3A%20relative%3B%20width%3A%20170px%3B%20border-right-width%3A%202px%3B%20border-right-style%3A%20solid%3B%20border-right-color%3A%20rgb(233%2C%20233%2C%20233)%7D%0A.css-lh2v5u-ResizableCell%20%7Bdisplay%3A%20flex%3B%20flex-direction%3A%20column%3B%20position%3A%20absolute%3B%20top%3A%2028px%3B%20left%3A%200px%3B%20height%3A%2028px%3B%20width%3A%20170px%7D%0A.css-5jyfqr-ResizableCell%20%7Bdisplay%3A%20flex%3B%20flex-direction%3A%20column%3B%20position%3A%20absolute%3B%20top%3A%2056px%3B%20left%3A%200px%3B%20height%3A%2028px%3B%20width%3A%20170px%7D%0A.css-qmd6qv%20%7Bheight%3A%20248px%3B%20width%3A%20170px%3B%20overflow-x%3A%20hidden%3B%20overflow-y%3A%20auto%7D%0A.css-nnttac%20%7Bheight%3A%2084px%3B%20width%3A%201152px%3B%20overflow-x%3A%20auto%3B%20overflow-y%3A%20hidden%7D%0A.css-obl80h%20%7Bcursor%3A%20cell%3B%20height%3A%2084px%3B%20overflow-x%3A%20hidden%3B%20overflow-y%3A%20hidden%3B%20position%3A%20relative%3B%20width%3A%20720px%7D%0A.css-1fxwmlz-ResizableCell%20%7Bdisplay%3A%20flex%3B%20flex-direction%3A%20column%3B%20position%3A%20absolute%3B%20top%3A%2056px%3B%20left%3A%200px%3B%20height%3A%2028px%3B%20width%3A%20120px%7D%0A.css-1npib1f-ResizableCell%20%7Bdisplay%3A%20flex%3B%20flex-direction%3A%20column%3B%20position%3A%20absolute%3B%20top%3A%2056px%3B%20left%3A%20120px%3B%20height%3A%2028px%3B%20width%3A%20120px%7D%0A.css-5hvha5-ResizableCell%20%7Bdisplay%3A%20flex%3B%20flex-direction%3A%20column%3B%20position%3A%20absolute%3B%20top%3A%2056px%3B%20left%3A%20240px%3B%20height%3A%2028px%3B%20width%3A%20120px%7D%0A.css-uh2nmj-ResizableCell%20%7Bdisplay%3A%20flex%3B%20flex-direction%3A%20column%3B%20position%3A%20absolute%3B%20top%3A%2056px%3B%20left%3A%20360px%3B%20height%3A%2028px%3B%20width%3A%20120px%7D%0A.css-1576jk4-ResizableCell%20%7Bdisplay%3A%20flex%3B%20flex-direction%3A%20column%3B%20position%3A%20absolute%3B%20top%3A%2056px%3B%20left%3A%20480px%3B%20height%3A%2028px%3B%20width%3A%20120px%7D%0A.css-15m43ep-ResizableCell%20%7Bdisplay%3A%20flex%3B%20flex-direction%3A%20column%3B%20position%3A%20absolute%3B%20top%3A%2056px%3B%20left%3A%20600px%3B%20height%3A%2028px%3B%20width%3A%20120px%7D%0A.css-1mpot0z%20%7Bheight%3A%20248px%3B%20width%3A%201170px%3B%20overflow-x%3A%20auto%3B%20overflow-y%3A%20auto%7D%0A*%20%7B-ms-overflow-style%3A%20none%3B%20scrollbar-width%3A%20none%7D%0A*%3A%3A-webkit-scrollbar%20%7Bdisplay%3A%20none%7D%0A.atoti-hidden-in-snapshot%20%7Bdisplay%3A%20none%7D%3C%2Fstyle%3E%3Cdiv%20xmlns%3D%22http%3A%2F%2Fwww.w3.org%2F1999%2Fxhtml%22%20style%3D%22height%3A%20364px%3B%20width%3A%201342px%3B%22%3E%3Cdiv%20class%3D%22ant-root%20css-0%22%3E%3Cdiv%20class%3D%22ant-dropdown-trigger%20css-12ebr42-AWidget%22%3E%3Cdiv%20class%3D%22css-2p9ued-WidgetLoadingOverlay%22%3E%3Cdiv%20class%3D%22css-1b1raxz-DefaultWidgetLoadingOverlay%22%3E%3Cdiv%20class%3D%22css-34a2ml-DefaultWidgetLoadingOverlay%22%3E%3C%2Fdiv%3E%3C%2Fdiv%3E%3Cdiv%20class%3D%22css-1hwl8p1-Table%22%3E%3Cdiv%20tabindex%3D%220%22%20class%3D%22css-14ejcn0-Table%22%3E%3Cdiv%20class%3D%22css-1rxpjm0-ColumnResizeHint%22%3E%3Cdiv%20class%3D%22css-1qh8lim-ColumnResizeHint%22%3E%3C%2Fdiv%3E%3Cdiv%20class%3D%22css-1setn92-ColumnResizeHint%22%3E%3C%2Fdiv%3E%3C%2Fdiv%3E%3Cdiv%20class%3D%22css-lomoqo-Table%22%3E%3Cdiv%20class%3D%22css-uydmqp-Table%22%3E%3Cdiv%20class%3D%22%20css-1oi96h3%22%3E%3Cdiv%20class%3D%22css-ni65xb%22%3E%3Cdiv%20class%3D%22css-107wbdi-ResizableCell%22%3E%3Cdiv%20class%3D%22aui-table-cell%22%20style%3D%22height%3A%2028px%3B%20left%3A%200px%3B%20top%3A%200px%3B%20width%3A%20165px%3B%20text-align%3A%20left%3B%20font-size%3A%2012px%3B%20padding%3A%204px%204px%203px%3B%20overflow%3A%20hidden%3B%20position%3A%20absolute%3B%20white-space%3A%20nowrap%3B%20text-overflow%3A%20ellipsis%3B%20font-weight%3A%20600%3B%20display%3A%20flex%3B%20align-items%3A%20center%3B%22%3E%3Cspan%3EScenario%3C%2Fspan%3E%3C%2Fdiv%3E%3Cdiv%20class%3D%22css-xxcrt1-ResizableCell%22%3E%3C%2Fdiv%3E%3C%2Fdiv%3E%3Cdiv%20class%3D%22css-lh2v5u-ResizableCell%22%3E%3Cdiv%20class%3D%22aui-table-cell%22%20style%3D%22height%3A%2028px%3B%20left%3A%200px%3B%20top%3A%200px%3B%20width%3A%20165px%3B%20text-align%3A%20left%3B%20font-size%3A%2012px%3B%20padding%3A%204px%204px%203px%3B%20overflow%3A%20hidden%3B%20position%3A%20absolute%3B%20white-space%3A%20nowrap%3B%20text-overflow%3A%20ellipsis%3B%20font-weight%3A%20600%3B%20display%3A%20none%3B%20align-items%3A%20center%3B%22%3E%3Cspan%3EScenario%3C%2Fspan%3E%3C%2Fdiv%3E%3Cdiv%20class%3D%22css-xxcrt1-ResizableCell%22%3E%3C%2Fdiv%3E%3C%2Fdiv%3E%3Cdiv%20class%3D%22css-5jyfqr-ResizableCell%22%3E%3Cdiv%20class%3D%22aui-table-cell%22%20style%3D%22height%3A%2028px%3B%20left%3A%200px%3B%20top%3A%200px%3B%20width%3A%20165px%3B%20text-align%3A%20left%3B%20font-size%3A%2012px%3B%20padding%3A%204px%204px%203px%3B%20overflow%3A%20hidden%3B%20position%3A%20absolute%3B%20white-space%3A%20nowrap%3B%20text-overflow%3A%20ellipsis%3B%20font-weight%3A%20600%3B%20display%3A%20none%3B%20align-items%3A%20center%3B%22%3E%3Cspan%3EScenario%3C%2Fspan%3E%3C%2Fdiv%3E%3Cdiv%20class%3D%22css-xxcrt1-ResizableCell%22%3E%3C%2Fdiv%3E%3C%2Fdiv%3E%3C%2Fdiv%3E%3C%2Fdiv%3E%3Cdiv%20class%3D%22aui-invisible-scrollbars%20css-qmd6qv%22%3E%3Cdiv%20class%3D%22css-atsg2c%22%3E%3Cdiv%20style%3D%22display%3A%20flex%3B%20align-items%3A%20center%3B%20height%3A%2028px%3B%20left%3A%200px%3B%20top%3A%200px%3B%20width%3A%20170px%3B%20text-align%3A%20left%3B%20font-size%3A%2012px%3B%20padding%3A%204px%204px%203px%3B%20overflow%3A%20hidden%3B%20position%3A%20absolute%3B%20white-space%3A%20nowrap%3B%20text-overflow%3A%20ellipsis%3B%20border-right%3A%202px%20solid%20rgb(233%2C%20233%2C%20233)%3B%20background-color%3A%20transparent%3B%22%3E%3Cspan%20style%3D%22text-overflow%3A%20ellipsis%3B%20overflow%3A%20hidden%3B%20white-space%3A%20nowrap%3B%20max-width%3A%20calc((100%25%20-%200px)%20-%200px)%3B%22%3EBase%3C%2Fspan%3E%3C%2Fdiv%3E%3Cdiv%20style%3D%22display%3A%20flex%3B%20align-items%3A%20center%3B%20height%3A%2028px%3B%20left%3A%200px%3B%20top%3A%2028px%3B%20width%3A%20170px%3B%20text-align%3A%20left%3B%20font-size%3A%2012px%3B%20padding%3A%204px%204px%203px%3B%20overflow%3A%20hidden%3B%20position%3A%20absolute%3B%20white-space%3A%20nowrap%3B%20text-overflow%3A%20ellipsis%3B%20border-right%3A%202px%20solid%20rgb(233%2C%20233%2C%20233)%3B%20background-color%3A%20rgb(250%2C%20250%2C%20250)%3B%22%3E%3Cspan%20style%3D%22text-overflow%3A%20ellipsis%3B%20overflow%3A%20hidden%3B%20white-space%3A%20nowrap%3B%20max-width%3A%20calc((100%25%20-%200px)%20-%200px)%3B%22%3EDummy%20Uniform%20Classifier%3C%2Fspan%3E%3C%2Fdiv%3E%3Cdiv%20style%3D%22display%3A%20flex%3B%20align-items%3A%20center%3B%20height%3A%2028px%3B%20left%3A%200px%3B%20top%3A%2056px%3B%20width%3A%20170px%3B%20text-align%3A%20left%3B%20font-size%3A%2012px%3B%20padding%3A%204px%204px%203px%3B%20overflow%3A%20hidden%3B%20position%3A%20absolute%3B%20white-space%3A%20nowrap%3B%20text-overflow%3A%20ellipsis%3B%20border-right%3A%202px%20solid%20rgb(233%2C%20233%2C%20233)%3B%20background-color%3A%20transparent%3B%22%3E%3Cspan%20style%3D%22text-overflow%3A%20ellipsis%3B%20overflow%3A%20hidden%3B%20white-space%3A%20nowrap%3B%20max-width%3A%20calc((100%25%20-%200px)%20-%200px)%3B%22%3ELogistic%20Regression%20Classifier%3C%2Fspan%3E%3C%2Fdiv%3E%3Cdiv%20style%3D%22display%3A%20flex%3B%20align-items%3A%20center%3B%20height%3A%2028px%3B%20left%3A%200px%3B%20top%3A%2084px%3B%20width%3A%20170px%3B%20text-align%3A%20left%3B%20font-size%3A%2012px%3B%20padding%3A%204px%204px%203px%3B%20overflow%3A%20hidden%3B%20position%3A%20absolute%3B%20white-space%3A%20nowrap%3B%20text-overflow%3A%20ellipsis%3B%20border-right%3A%202px%20solid%20rgb(233%2C%20233%2C%20233)%3B%20background-color%3A%20rgb(250%2C%20250%2C%20250)%3B%22%3E%3Cspan%20style%3D%22text-overflow%3A%20ellipsis%3B%20overflow%3A%20hidden%3B%20white-space%3A%20nowrap%3B%20max-width%3A%20calc((100%25%20-%200px)%20-%200px)%3B%22%3ENaive%20Bayes%20Classifier%3C%2Fspan%3E%3C%2Fdiv%3E%3Cdiv%20style%3D%22display%3A%20flex%3B%20align-items%3A%20center%3B%20height%3A%2028px%3B%20left%3A%200px%3B%20top%3A%20112px%3B%20width%3A%20170px%3B%20text-align%3A%20left%3B%20font-size%3A%2012px%3B%20padding%3A%204px%204px%203px%3B%20overflow%3A%20hidden%3B%20position%3A%20absolute%3B%20white-space%3A%20nowrap%3B%20text-overflow%3A%20ellipsis%3B%20border-right%3A%202px%20solid%20rgb(233%2C%20233%2C%20233)%3B%20background-color%3A%20transparent%3B%22%3E%3Cspan%20style%3D%22text-overflow%3A%20ellipsis%3B%20overflow%3A%20hidden%3B%20white-space%3A%20nowrap%3B%20max-width%3A%20calc((100%25%20-%200px)%20-%200px)%3B%22%3ESVM%20Classifier%3C%2Fspan%3E%3C%2Fdiv%3E%3C%2Fdiv%3E%3C%2Fdiv%3E%3C%2Fdiv%3E%3Cdiv%20class%3D%22css-y6iw6o-Table%22%3E%3Cdiv%20class%3D%22aui-invisible-scrollbars%20css-nnttac%22%3E%3Cdiv%20class%3D%22css-obl80h%22%3E%3Cdiv%20class%3D%22css-1hol363-ResizableCell%22%3E%3Cdiv%20style%3D%22display%3A%20flex%3B%20align-items%3A%20center%3B%20height%3A%2028px%3B%20left%3A%200px%3B%20top%3A%200px%3B%20width%3A%20115px%3B%20text-align%3A%20left%3B%20font-size%3A%2012px%3B%20padding%3A%204px%204px%203px%3B%20overflow%3A%20hidden%3B%20position%3A%20absolute%3B%20white-space%3A%20nowrap%3B%20text-overflow%3A%20ellipsis%3B%20font-weight%3A%20600%3B%22%3E%3Cspan%20style%3D%22text-overflow%3A%20ellipsis%3B%20overflow%3A%20hidden%3B%20white-space%3A%20nowrap%3B%20max-width%3A%20calc((100%25%20-%200px)%20-%200px)%3B%22%3EActual%20Expense%3C%2Fspan%3E%3C%2Fdiv%3E%3Cdiv%20class%3D%22css-xxcrt1-ResizableCell%22%3E%3C%2Fdiv%3E%3C%2Fdiv%3E%3Cdiv%20class%3D%22css-fpuq48-ResizableCell%22%3E%3Cdiv%20style%3D%22display%3A%20none%3B%20align-items%3A%20center%3B%20height%3A%2028px%3B%20left%3A%200px%3B%20top%3A%200px%3B%20width%3A%20115px%3B%20text-align%3A%20left%3B%20font-size%3A%2012px%3B%20padding%3A%204px%204px%203px%3B%20overflow%3A%20hidden%3B%20position%3A%20absolute%3B%20white-space%3A%20nowrap%3B%20text-overflow%3A%20ellipsis%3B%20font-weight%3A%20600%3B%22%3E%3Cspan%20style%3D%22text-overflow%3A%20ellipsis%3B%20overflow%3A%20hidden%3B%20white-space%3A%20nowrap%3B%20max-width%3A%20calc((100%25%20-%200px)%20-%200px)%3B%22%3EActual%20Expense%3C%2Fspan%3E%3C%2Fdiv%3E%3Cdiv%20class%3D%22css-xxcrt1-ResizableCell%22%3E%3C%2Fdiv%3E%3C%2Fdiv%3E%3Cdiv%20class%3D%22css-3geaec-ResizableCell%22%3E%3Cdiv%20style%3D%22display%3A%20none%3B%20align-items%3A%20center%3B%20height%3A%2028px%3B%20left%3A%200px%3B%20top%3A%200px%3B%20width%3A%20115px%3B%20text-align%3A%20left%3B%20font-size%3A%2012px%3B%20padding%3A%204px%204px%203px%3B%20overflow%3A%20hidden%3B%20position%3A%20absolute%3B%20white-space%3A%20nowrap%3B%20text-overflow%3A%20ellipsis%3B%20font-weight%3A%20600%3B%22%3E%3Cspan%20style%3D%22text-overflow%3A%20ellipsis%3B%20overflow%3A%20hidden%3B%20white-space%3A%20nowrap%3B%20max-width%3A%20calc((100%25%20-%200px)%20-%200px)%3B%22%3EActual%20Expense%3C%2Fspan%3E%3C%2Fdiv%3E%3Cdiv%20class%3D%22css-xxcrt1-ResizableCell%22%3E%3C%2Fdiv%3E%3C%2Fdiv%3E%3Cdiv%20class%3D%22css-9kbkmr-ResizableCell%22%3E%3Cdiv%20style%3D%22display%3A%20none%3B%20align-items%3A%20center%3B%20height%3A%2028px%3B%20left%3A%200px%3B%20top%3A%200px%3B%20width%3A%20115px%3B%20text-align%3A%20left%3B%20font-size%3A%2012px%3B%20padding%3A%204px%204px%203px%3B%20overflow%3A%20hidden%3B%20position%3A%20absolute%3B%20white-space%3A%20nowrap%3B%20text-overflow%3A%20ellipsis%3B%20font-weight%3A%20600%3B%22%3E%3Cspan%20style%3D%22text-overflow%3A%20ellipsis%3B%20overflow%3A%20hidden%3B%20white-space%3A%20nowrap%3B%20max-width%3A%20calc((100%25%20-%200px)%20-%200px)%3B%22%3EActual%20Expense%3C%2Fspan%3E%3C%2Fdiv%3E%3Cdiv%20class%3D%22css-xxcrt1-ResizableCell%22%3E%3C%2Fdiv%3E%3C%2Fdiv%3E%3Cdiv%20class%3D%22css-76qu0m-ResizableCell%22%3E%3Cdiv%20style%3D%22display%3A%20none%3B%20align-items%3A%20center%3B%20height%3A%2028px%3B%20left%3A%200px%3B%20top%3A%200px%3B%20width%3A%20115px%3B%20text-align%3A%20left%3B%20font-size%3A%2012px%3B%20padding%3A%204px%204px%203px%3B%20overflow%3A%20hidden%3B%20position%3A%20absolute%3B%20white-space%3A%20nowrap%3B%20text-overflow%3A%20ellipsis%3B%20font-weight%3A%20600%3B%22%3E%3Cspan%20style%3D%22text-overflow%3A%20ellipsis%3B%20overflow%3A%20hidden%3B%20white-space%3A%20nowrap%3B%20max-width%3A%20calc((100%25%20-%200px)%20-%200px)%3B%22%3EActual%20Expense%3C%2Fspan%3E%3C%2Fdiv%3E%3Cdiv%20class%3D%22css-xxcrt1-ResizableCell%22%3E%3C%2Fdiv%3E%3C%2Fdiv%3E%3Cdiv%20class%3D%22css-1h9kznl-ResizableCell%22%3E%3Cdiv%20style%3D%22display%3A%20none%3B%20align-items%3A%20center%3B%20height%3A%2028px%3B%20left%3A%200px%3B%20top%3A%200px%3B%20width%3A%20115px%3B%20text-align%3A%20left%3B%20font-size%3A%2012px%3B%20padding%3A%204px%204px%203px%3B%20overflow%3A%20hidden%3B%20position%3A%20absolute%3B%20white-space%3A%20nowrap%3B%20text-overflow%3A%20ellipsis%3B%20font-weight%3A%20600%3B%22%3E%3Cspan%20style%3D%22text-overflow%3A%20ellipsis%3B%20overflow%3A%20hidden%3B%20white-space%3A%20nowrap%3B%20max-width%3A%20calc((100%25%20-%200px)%20-%200px)%3B%22%3EActual%20Expense%3C%2Fspan%3E%3C%2Fdiv%3E%3Cdiv%20class%3D%22css-xxcrt1-ResizableCell%22%3E%3C%2Fdiv%3E%3C%2Fdiv%3E%3Cdiv%20class%3D%22css-z51yao-ResizableCell%22%3E%3Cdiv%20style%3D%22display%3A%20flex%3B%20align-items%3A%20center%3B%20height%3A%2028px%3B%20left%3A%200px%3B%20top%3A%200px%3B%20width%3A%20115px%3B%20text-align%3A%20left%3B%20font-size%3A%2012px%3B%20padding%3A%204px%204px%203px%3B%20overflow%3A%20hidden%3B%20position%3A%20absolute%3B%20white-space%3A%20nowrap%3B%20text-overflow%3A%20ellipsis%3B%20font-weight%3A%20600%3B%22%3E%3Cspan%20style%3D%22text-overflow%3A%20ellipsis%3B%20overflow%3A%20hidden%3B%20white-space%3A%20nowrap%3B%20max-width%3A%20calc((100%25%20-%200px)%20-%200px)%3B%22%3E90%25%20NRR%3C%2Fspan%3E%3C%2Fdiv%3E%3Cdiv%20class%3D%22css-xxcrt1-ResizableCell%22%3E%3C%2Fdiv%3E%3C%2Fdiv%3E%3Cdiv%20class%3D%22css-10fw2tq-ResizableCell%22%3E%3Cdiv%20style%3D%22display%3A%20none%3B%20align-items%3A%20center%3B%20height%3A%2028px%3B%20left%3A%200px%3B%20top%3A%200px%3B%20width%3A%20115px%3B%20text-align%3A%20left%3B%20font-size%3A%2012px%3B%20padding%3A%204px%204px%203px%3B%20overflow%3A%20hidden%3B%20position%3A%20absolute%3B%20white-space%3A%20nowrap%3B%20text-overflow%3A%20ellipsis%3B%20font-weight%3A%20600%3B%22%3E%3Cspan%20style%3D%22text-overflow%3A%20ellipsis%3B%20overflow%3A%20hidden%3B%20white-space%3A%20nowrap%3B%20max-width%3A%20calc((100%25%20-%200px)%20-%200px)%3B%22%3E90%25%20NRR%3C%2Fspan%3E%3C%2Fdiv%3E%3Cdiv%20class%3D%22css-xxcrt1-ResizableCell%22%3E%3C%2Fdiv%3E%3C%2Fdiv%3E%3Cdiv%20class%3D%22css-1pd7flk-ResizableCell%22%3E%3Cdiv%20style%3D%22display%3A%20none%3B%20align-items%3A%20center%3B%20height%3A%2028px%3B%20left%3A%200px%3B%20top%3A%200px%3B%20width%3A%20115px%3B%20text-align%3A%20left%3B%20font-size%3A%2012px%3B%20padding%3A%204px%204px%203px%3B%20overflow%3A%20hidden%3B%20position%3A%20absolute%3B%20white-space%3A%20nowrap%3B%20text-overflow%3A%20ellipsis%3B%20font-weight%3A%20600%3B%22%3E%3Cspan%20style%3D%22text-overflow%3A%20ellipsis%3B%20overflow%3A%20hidden%3B%20white-space%3A%20nowrap%3B%20max-width%3A%20calc((100%25%20-%200px)%20-%200px)%3B%22%3E90%25%20NRR%3C%2Fspan%3E%3C%2Fdiv%3E%3Cdiv%20class%3D%22css-xxcrt1-ResizableCell%22%3E%3C%2Fdiv%3E%3C%2Fdiv%3E%3Cdiv%20class%3D%22css-eaczoo-ResizableCell%22%3E%3Cdiv%20style%3D%22display%3A%20flex%3B%20align-items%3A%20center%3B%20height%3A%2028px%3B%20left%3A%200px%3B%20top%3A%200px%3B%20width%3A%20115px%3B%20text-align%3A%20left%3B%20font-size%3A%2012px%3B%20padding%3A%204px%204px%203px%3B%20overflow%3A%20hidden%3B%20position%3A%20absolute%3B%20white-space%3A%20nowrap%3B%20text-overflow%3A%20ellipsis%3B%20font-weight%3A%20600%3B%22%3E%3Cspan%20style%3D%22text-overflow%3A%20ellipsis%3B%20overflow%3A%20hidden%3B%20white-space%3A%20nowrap%3B%20max-width%3A%20calc((100%25%20-%200px)%20-%200px)%3B%22%3E95%25%20NRR%3C%2Fspan%3E%3C%2Fdiv%3E%3Cdiv%20class%3D%22css-xxcrt1-ResizableCell%22%3E%3C%2Fdiv%3E%3C%2Fdiv%3E%3Cdiv%20class%3D%22css-ud38eq-ResizableCell%22%3E%3Cdiv%20style%3D%22display%3A%20none%3B%20align-items%3A%20center%3B%20height%3A%2028px%3B%20left%3A%200px%3B%20top%3A%200px%3B%20width%3A%20115px%3B%20text-align%3A%20left%3B%20font-size%3A%2012px%3B%20padding%3A%204px%204px%203px%3B%20overflow%3A%20hidden%3B%20position%3A%20absolute%3B%20white-space%3A%20nowrap%3B%20text-overflow%3A%20ellipsis%3B%20font-weight%3A%20600%3B%22%3E%3Cspan%20style%3D%22text-overflow%3A%20ellipsis%3B%20overflow%3A%20hidden%3B%20white-space%3A%20nowrap%3B%20max-width%3A%20calc((100%25%20-%200px)%20-%200px)%3B%22%3E95%25%20NRR%3C%2Fspan%3E%3C%2Fdiv%3E%3Cdiv%20class%3D%22css-xxcrt1-ResizableCell%22%3E%3C%2Fdiv%3E%3C%2Fdiv%3E%3Cdiv%20class%3D%22css-1ipcw93-ResizableCell%22%3E%3Cdiv%20style%3D%22display%3A%20none%3B%20align-items%3A%20center%3B%20height%3A%2028px%3B%20left%3A%200px%3B%20top%3A%200px%3B%20width%3A%20115px%3B%20text-align%3A%20left%3B%20font-size%3A%2012px%3B%20padding%3A%204px%204px%203px%3B%20overflow%3A%20hidden%3B%20position%3A%20absolute%3B%20white-space%3A%20nowrap%3B%20text-overflow%3A%20ellipsis%3B%20font-weight%3A%20600%3B%22%3E%3Cspan%20style%3D%22text-overflow%3A%20ellipsis%3B%20overflow%3A%20hidden%3B%20white-space%3A%20nowrap%3B%20max-width%3A%20calc((100%25%20-%200px)%20-%200px)%3B%22%3E95%25%20NRR%3C%2Fspan%3E%3C%2Fdiv%3E%3Cdiv%20class%3D%22css-xxcrt1-ResizableCell%22%3E%3C%2Fdiv%3E%3C%2Fdiv%3E%3Cdiv%20class%3D%22css-1fxwmlz-ResizableCell%22%3E%3Cdiv%20style%3D%22display%3A%20flex%3B%20align-items%3A%20center%3B%20height%3A%2028px%3B%20left%3A%200px%3B%20top%3A%200px%3B%20width%3A%20115px%3B%20text-align%3A%20left%3B%20font-size%3A%2012px%3B%20padding%3A%204px%204px%203px%3B%20overflow%3A%20hidden%3B%20position%3A%20absolute%3B%20white-space%3A%20nowrap%3B%20text-overflow%3A%20ellipsis%3B%20font-weight%3A%20600%3B%22%3E%3Cspan%20style%3D%22text-overflow%3A%20ellipsis%3B%20overflow%3A%20hidden%3B%20white-space%3A%20nowrap%3B%20max-width%3A%20calc((100%25%20-%200px)%20-%200px)%3B%22%3E5%20x%20Retention%3C%2Fspan%3E%3C%2Fdiv%3E%3Cdiv%20class%3D%22css-xxcrt1-ResizableCell%22%3E%3C%2Fdiv%3E%3C%2Fdiv%3E%3Cdiv%20class%3D%22css-1npib1f-ResizableCell%22%3E%3Cdiv%20style%3D%22display%3A%20flex%3B%20align-items%3A%20center%3B%20height%3A%2028px%3B%20left%3A%200px%3B%20top%3A%200px%3B%20width%3A%20115px%3B%20text-align%3A%20left%3B%20font-size%3A%2012px%3B%20padding%3A%204px%204px%203px%3B%20overflow%3A%20hidden%3B%20position%3A%20absolute%3B%20white-space%3A%20nowrap%3B%20text-overflow%3A%20ellipsis%3B%20font-weight%3A%20600%3B%22%3E%3Cspan%20style%3D%22text-overflow%3A%20ellipsis%3B%20overflow%3A%20hidden%3B%20white-space%3A%20nowrap%3B%20max-width%3A%20calc((100%25%20-%200px)%20-%200px)%3B%22%3E10%20x%20Retention%3C%2Fspan%3E%3C%2Fdiv%3E%3Cdiv%20class%3D%22css-xxcrt1-ResizableCell%22%3E%3C%2Fdiv%3E%3C%2Fdiv%3E%3Cdiv%20class%3D%22css-5hvha5-ResizableCell%22%3E%3Cdiv%20style%3D%22display%3A%20flex%3B%20align-items%3A%20center%3B%20height%3A%2028px%3B%20left%3A%200px%3B%20top%3A%200px%3B%20width%3A%20115px%3B%20text-align%3A%20left%3B%20font-size%3A%2012px%3B%20padding%3A%204px%204px%203px%3B%20overflow%3A%20hidden%3B%20position%3A%20absolute%3B%20white-space%3A%20nowrap%3B%20text-overflow%3A%20ellipsis%3B%20font-weight%3A%20600%3B%22%3E%3Cspan%20style%3D%22text-overflow%3A%20ellipsis%3B%20overflow%3A%20hidden%3B%20white-space%3A%20nowrap%3B%20max-width%3A%20calc((100%25%20-%200px)%20-%200px)%3B%22%3EExpense%20difference%3C%2Fspan%3E%3C%2Fdiv%3E%3Cdiv%20class%3D%22css-xxcrt1-ResizableCell%22%3E%3C%2Fdiv%3E%3C%2Fdiv%3E%3Cdiv%20class%3D%22css-uh2nmj-ResizableCell%22%3E%3Cdiv%20style%3D%22display%3A%20flex%3B%20align-items%3A%20center%3B%20height%3A%2028px%3B%20left%3A%200px%3B%20top%3A%200px%3B%20width%3A%20115px%3B%20text-align%3A%20left%3B%20font-size%3A%2012px%3B%20padding%3A%204px%204px%203px%3B%20overflow%3A%20hidden%3B%20position%3A%20absolute%3B%20white-space%3A%20nowrap%3B%20text-overflow%3A%20ellipsis%3B%20font-weight%3A%20600%3B%22%3E%3Cspan%20style%3D%22text-overflow%3A%20ellipsis%3B%20overflow%3A%20hidden%3B%20white-space%3A%20nowrap%3B%20max-width%3A%20calc((100%25%20-%200px)%20-%200px)%3B%22%3E5%20x%20Retention%3C%2Fspan%3E%3C%2Fdiv%3E%3Cdiv%20class%3D%22css-xxcrt1-ResizableCell%22%3E%3C%2Fdiv%3E%3C%2Fdiv%3E%3Cdiv%20class%3D%22css-1576jk4-ResizableCell%22%3E%3Cdiv%20style%3D%22display%3A%20flex%3B%20align-items%3A%20center%3B%20height%3A%2028px%3B%20left%3A%200px%3B%20top%3A%200px%3B%20width%3A%20115px%3B%20text-align%3A%20left%3B%20font-size%3A%2012px%3B%20padding%3A%204px%204px%203px%3B%20overflow%3A%20hidden%3B%20position%3A%20absolute%3B%20white-space%3A%20nowrap%3B%20text-overflow%3A%20ellipsis%3B%20font-weight%3A%20600%3B%22%3E%3Cspan%20style%3D%22text-overflow%3A%20ellipsis%3B%20overflow%3A%20hidden%3B%20white-space%3A%20nowrap%3B%20max-width%3A%20calc((100%25%20-%200px)%20-%200px)%3B%22%3E10%20x%20Retention%3C%2Fspan%3E%3C%2Fdiv%3E%3Cdiv%20class%3D%22css-xxcrt1-ResizableCell%22%3E%3C%2Fdiv%3E%3C%2Fdiv%3E%3Cdiv%20class%3D%22css-15m43ep-ResizableCell%22%3E%3Cdiv%20style%3D%22display%3A%20flex%3B%20align-items%3A%20center%3B%20height%3A%2028px%3B%20left%3A%200px%3B%20top%3A%200px%3B%20width%3A%20115px%3B%20text-align%3A%20left%3B%20font-size%3A%2012px%3B%20padding%3A%204px%204px%203px%3B%20overflow%3A%20hidden%3B%20position%3A%20absolute%3B%20white-space%3A%20nowrap%3B%20text-overflow%3A%20ellipsis%3B%20font-weight%3A%20600%3B%22%3E%3Cspan%20style%3D%22text-overflow%3A%20ellipsis%3B%20overflow%3A%20hidden%3B%20white-space%3A%20nowrap%3B%20max-width%3A%20calc((100%25%20-%200px)%20-%200px)%3B%22%3EExpense%20difference%3C%2Fspan%3E%3C%2Fdiv%3E%3Cdiv%20class%3D%22css-xxcrt1-ResizableCell%22%3E%3C%2Fdiv%3E%3C%2Fdiv%3E%3C%2Fdiv%3E%3C%2Fdiv%3E%3Cdiv%20class%3D%22%20css-1mpot0z%22%3E%3Cdiv%20class%3D%22css-i8q39l%22%3E%3Cdiv%20class%3D%22aui-table-cell%22%20style%3D%22height%3A%2028px%3B%20left%3A%200px%3B%20top%3A%200px%3B%20width%3A%20120px%3B%20text-align%3A%20right%3B%20font-size%3A%2012px%3B%20padding%3A%204px%204px%203px%3B%20overflow%3A%20hidden%3B%20position%3A%20absolute%3B%20white-space%3A%20nowrap%3B%20text-overflow%3A%20ellipsis%3B%20border-right%3A%201px%20solid%20rgb(233%2C%20233%2C%20233)%3B%20background-color%3A%20transparent%3B%22%3E144%2C400%3C%2Fdiv%3E%3Cdiv%20class%3D%22aui-table-cell%22%20style%3D%22height%3A%2028px%3B%20left%3A%20120px%3B%20top%3A%200px%3B%20width%3A%20120px%3B%20text-align%3A%20right%3B%20font-size%3A%2012px%3B%20padding%3A%204px%204px%203px%3B%20overflow%3A%20hidden%3B%20position%3A%20absolute%3B%20white-space%3A%20nowrap%3B%20text-overflow%3A%20ellipsis%3B%20border-right%3A%201px%20solid%20rgb(233%2C%20233%2C%20233)%3B%20background-color%3A%20transparent%3B%22%3E144%2C400%3C%2Fdiv%3E%3Cdiv%20class%3D%22aui-table-cell%22%20style%3D%22height%3A%2028px%3B%20left%3A%20240px%3B%20top%3A%200px%3B%20width%3A%20120px%3B%20text-align%3A%20right%3B%20font-size%3A%2012px%3B%20padding%3A%204px%204px%203px%3B%20overflow%3A%20hidden%3B%20position%3A%20absolute%3B%20white-space%3A%20nowrap%3B%20text-overflow%3A%20ellipsis%3B%20border-right%3A%201px%20solid%20rgb(233%2C%20233%2C%20233)%3B%20background-color%3A%20rgb(115%2C%20232%2C%20255)%3B%22%3E0%3C%2Fdiv%3E%3Cdiv%20class%3D%22aui-table-cell%22%20style%3D%22height%3A%2028px%3B%20left%3A%20360px%3B%20top%3A%200px%3B%20width%3A%20120px%3B%20text-align%3A%20right%3B%20font-size%3A%2012px%3B%20padding%3A%204px%204px%203px%3B%20overflow%3A%20hidden%3B%20position%3A%20absolute%3B%20white-space%3A%20nowrap%3B%20text-overflow%3A%20ellipsis%3B%20border-right%3A%201px%20solid%20rgb(233%2C%20233%2C%20233)%3B%20background-color%3A%20transparent%3B%22%3E179%2C600%3C%2Fdiv%3E%3Cdiv%20class%3D%22aui-table-cell%22%20style%3D%22height%3A%2028px%3B%20left%3A%20480px%3B%20top%3A%200px%3B%20width%3A%20120px%3B%20text-align%3A%20right%3B%20font-size%3A%2012px%3B%20padding%3A%204px%204px%203px%3B%20overflow%3A%20hidden%3B%20position%3A%20absolute%3B%20white-space%3A%20nowrap%3B%20text-overflow%3A%20ellipsis%3B%20border-right%3A%201px%20solid%20rgb(233%2C%20233%2C%20233)%3B%20background-color%3A%20transparent%3B%22%3E179%2C600%3C%2Fdiv%3E%3Cdiv%20class%3D%22aui-table-cell%22%20style%3D%22height%3A%2028px%3B%20left%3A%20600px%3B%20top%3A%200px%3B%20width%3A%20120px%3B%20text-align%3A%20right%3B%20font-size%3A%2012px%3B%20padding%3A%204px%204px%203px%3B%20overflow%3A%20hidden%3B%20position%3A%20absolute%3B%20white-space%3A%20nowrap%3B%20text-overflow%3A%20ellipsis%3B%20border-right%3A%201px%20solid%20rgb(233%2C%20233%2C%20233)%3B%20background-color%3A%20rgb(115%2C%20232%2C%20255)%3B%22%3E0%3C%2Fdiv%3E%3Cdiv%20class%3D%22aui-table-cell%22%20style%3D%22height%3A%2028px%3B%20left%3A%200px%3B%20top%3A%2028px%3B%20width%3A%20120px%3B%20text-align%3A%20right%3B%20font-size%3A%2012px%3B%20padding%3A%204px%204px%203px%3B%20overflow%3A%20hidden%3B%20position%3A%20absolute%3B%20white-space%3A%20nowrap%3B%20text-overflow%3A%20ellipsis%3B%20border-right%3A%201px%20solid%20rgb(233%2C%20233%2C%20233)%3B%20background-color%3A%20rgb(250%2C%20250%2C%20250)%3B%22%3E543%2C600%3C%2Fdiv%3E%3Cdiv%20class%3D%22aui-table-cell%22%20style%3D%22height%3A%2028px%3B%20left%3A%20120px%3B%20top%3A%2028px%3B%20width%3A%20120px%3B%20text-align%3A%20right%3B%20font-size%3A%2012px%3B%20padding%3A%204px%204px%203px%3B%20overflow%3A%20hidden%3B%20position%3A%20absolute%3B%20white-space%3A%20nowrap%3B%20text-overflow%3A%20ellipsis%3B%20border-right%3A%201px%20solid%20rgb(233%2C%20233%2C%20233)%3B%20background-color%3A%20rgb(250%2C%20250%2C%20250)%3B%22%3E805%2C600%3C%2Fdiv%3E%3Cdiv%20class%3D%22aui-table-cell%22%20style%3D%22height%3A%2028px%3B%20left%3A%20240px%3B%20top%3A%2028px%3B%20width%3A%20120px%3B%20text-align%3A%20right%3B%20font-size%3A%2012px%3B%20padding%3A%204px%204px%203px%3B%20overflow%3A%20hidden%3B%20position%3A%20absolute%3B%20white-space%3A%20nowrap%3B%20text-overflow%3A%20ellipsis%3B%20border-right%3A%201px%20solid%20rgb(233%2C%20233%2C%20233)%3B%20background-color%3A%20rgb(94%2C%20229%2C%20255)%3B%22%3E262%2C000%3C%2Fdiv%3E%3Cdiv%20class%3D%22aui-table-cell%22%20style%3D%22height%3A%2028px%3B%20left%3A%20360px%3B%20top%3A%2028px%3B%20width%3A%20120px%3B%20text-align%3A%20right%3B%20font-size%3A%2012px%3B%20padding%3A%204px%204px%203px%3B%20overflow%3A%20hidden%3B%20position%3A%20absolute%3B%20white-space%3A%20nowrap%3B%20text-overflow%3A%20ellipsis%3B%20border-right%3A%201px%20solid%20rgb(233%2C%20233%2C%20233)%3B%20background-color%3A%20rgb(250%2C%20250%2C%20250)%3B%22%3E718%2C200%3C%2Fdiv%3E%3Cdiv%20class%3D%22aui-table-cell%22%20style%3D%22height%3A%2028px%3B%20left%3A%20480px%3B%20top%3A%2028px%3B%20width%3A%20120px%3B%20text-align%3A%20right%3B%20font-size%3A%2012px%3B%20padding%3A%204px%204px%203px%3B%20overflow%3A%20hidden%3B%20position%3A%20absolute%3B%20white-space%3A%20nowrap%3B%20text-overflow%3A%20ellipsis%3B%20border-right%3A%201px%20solid%20rgb(233%2C%20233%2C%20233)%3B%20background-color%3A%20rgb(250%2C%20250%2C%20250)%3B%22%3E1%2C119%2C700%3C%2Fdiv%3E%3Cdiv%20class%3D%22aui-table-cell%22%20style%3D%22height%3A%2028px%3B%20left%3A%20600px%3B%20top%3A%2028px%3B%20width%3A%20120px%3B%20text-align%3A%20right%3B%20font-size%3A%2012px%3B%20padding%3A%204px%204px%203px%3B%20overflow%3A%20hidden%3B%20position%3A%20absolute%3B%20white-space%3A%20nowrap%3B%20text-overflow%3A%20ellipsis%3B%20border-right%3A%201px%20solid%20rgb(233%2C%20233%2C%20233)%3B%20background-color%3A%20rgb(94%2C%20229%2C%20255)%3B%22%3E401%2C500%3C%2Fdiv%3E%3Cdiv%20class%3D%22aui-table-cell%22%20style%3D%22height%3A%2028px%3B%20left%3A%200px%3B%20top%3A%2056px%3B%20width%3A%20120px%3B%20text-align%3A%20right%3B%20font-size%3A%2012px%3B%20padding%3A%204px%204px%203px%3B%20overflow%3A%20hidden%3B%20position%3A%20absolute%3B%20white-space%3A%20nowrap%3B%20text-overflow%3A%20ellipsis%3B%20border-right%3A%201px%20solid%20rgb(233%2C%20233%2C%20233)%3B%20background-color%3A%20transparent%3B%22%3E199%2C200%3C%2Fdiv%3E%3Cdiv%20class%3D%22aui-table-cell%22%20style%3D%22height%3A%2028px%3B%20left%3A%20120px%3B%20top%3A%2056px%3B%20width%3A%20120px%3B%20text-align%3A%20right%3B%20font-size%3A%2012px%3B%20padding%3A%204px%204px%203px%3B%20overflow%3A%20hidden%3B%20position%3A%20absolute%3B%20white-space%3A%20nowrap%3B%20text-overflow%3A%20ellipsis%3B%20border-right%3A%201px%20solid%20rgb(233%2C%20233%2C%20233)%3B%20background-color%3A%20transparent%3B%22%3E234%2C200%3C%2Fdiv%3E%3Cdiv%20class%3D%22aui-table-cell%22%20style%3D%22height%3A%2028px%3B%20left%3A%20240px%3B%20top%3A%2056px%3B%20width%3A%20120px%3B%20text-align%3A%20right%3B%20font-size%3A%2012px%3B%20padding%3A%204px%204px%203px%3B%20overflow%3A%20hidden%3B%20position%3A%20absolute%3B%20white-space%3A%20nowrap%3B%20text-overflow%3A%20ellipsis%3B%20border-right%3A%201px%20solid%20rgb(233%2C%20233%2C%20233)%3B%20background-color%3A%20rgb(115%2C%20232%2C%20255)%3B%22%3E35%2C000%3C%2Fdiv%3E%3Cdiv%20class%3D%22aui-table-cell%22%20style%3D%22height%3A%2028px%3B%20left%3A%20360px%3B%20top%3A%2056px%3B%20width%3A%20120px%3B%20text-align%3A%20right%3B%20font-size%3A%2012px%3B%20padding%3A%204px%204px%203px%3B%20overflow%3A%20hidden%3B%20position%3A%20absolute%3B%20white-space%3A%20nowrap%3B%20text-overflow%3A%20ellipsis%3B%20border-right%3A%201px%20solid%20rgb(233%2C%20233%2C%20233)%3B%20background-color%3A%20transparent%3B%22%3E368%2C400%3C%2Fdiv%3E%3Cdiv%20class%3D%22aui-table-cell%22%20style%3D%22height%3A%2028px%3B%20left%3A%20480px%3B%20top%3A%2056px%3B%20width%3A%20120px%3B%20text-align%3A%20right%3B%20font-size%3A%2012px%3B%20padding%3A%204px%204px%203px%3B%20overflow%3A%20hidden%3B%20position%3A%20absolute%3B%20white-space%3A%20nowrap%3B%20text-overflow%3A%20ellipsis%3B%20border-right%3A%201px%20solid%20rgb(233%2C%20233%2C%20233)%3B%20background-color%3A%20transparent%3B%22%3E547%2C900%3C%2Fdiv%3E%3Cdiv%20class%3D%22aui-table-cell%22%20style%3D%22height%3A%2028px%3B%20left%3A%20600px%3B%20top%3A%2056px%3B%20width%3A%20120px%3B%20text-align%3A%20right%3B%20font-size%3A%2012px%3B%20padding%3A%204px%204px%203px%3B%20overflow%3A%20hidden%3B%20position%3A%20absolute%3B%20white-space%3A%20nowrap%3B%20text-overflow%3A%20ellipsis%3B%20border-right%3A%201px%20solid%20rgb(233%2C%20233%2C%20233)%3B%20background-color%3A%20rgb(115%2C%20232%2C%20255)%3B%22%3E179%2C500%3C%2Fdiv%3E%3Cdiv%20class%3D%22aui-table-cell%22%20style%3D%22height%3A%2028px%3B%20left%3A%200px%3B%20top%3A%2084px%3B%20width%3A%20120px%3B%20text-align%3A%20right%3B%20font-size%3A%2012px%3B%20padding%3A%204px%204px%203px%3B%20overflow%3A%20hidden%3B%20position%3A%20absolute%3B%20white-space%3A%20nowrap%3B%20text-overflow%3A%20ellipsis%3B%20border-right%3A%201px%20solid%20rgb(233%2C%20233%2C%20233)%3B%20background-color%3A%20rgb(250%2C%20250%2C%20250)%3B%22%3E222%2C900%3C%2Fdiv%3E%3Cdiv%20class%3D%22aui-table-cell%22%20style%3D%22height%3A%2028px%3B%20left%3A%20120px%3B%20top%3A%2084px%3B%20width%3A%20120px%3B%20text-align%3A%20right%3B%20font-size%3A%2012px%3B%20padding%3A%204px%204px%203px%3B%20overflow%3A%20hidden%3B%20position%3A%20absolute%3B%20white-space%3A%20nowrap%3B%20text-overflow%3A%20ellipsis%3B%20border-right%3A%201px%20solid%20rgb(233%2C%20233%2C%20233)%3B%20background-color%3A%20rgb(250%2C%20250%2C%20250)%3B%22%3E298%2C900%3C%2Fdiv%3E%3Cdiv%20class%3D%22aui-table-cell%22%20style%3D%22height%3A%2028px%3B%20left%3A%20240px%3B%20top%3A%2084px%3B%20width%3A%20120px%3B%20text-align%3A%20right%3B%20font-size%3A%2012px%3B%20padding%3A%204px%204px%203px%3B%20overflow%3A%20hidden%3B%20position%3A%20absolute%3B%20white-space%3A%20nowrap%3B%20text-overflow%3A%20ellipsis%3B%20border-right%3A%201px%20solid%20rgb(233%2C%20233%2C%20233)%3B%20background-color%3A%20rgb(94%2C%20229%2C%20255)%3B%22%3E76%2C000%3C%2Fdiv%3E%3Cdiv%20class%3D%22aui-table-cell%22%20style%3D%22height%3A%2028px%3B%20left%3A%20360px%3B%20top%3A%2084px%3B%20width%3A%20120px%3B%20text-align%3A%20right%3B%20font-size%3A%2012px%3B%20padding%3A%204px%204px%203px%3B%20overflow%3A%20hidden%3B%20position%3A%20absolute%3B%20white-space%3A%20nowrap%3B%20text-overflow%3A%20ellipsis%3B%20border-right%3A%201px%20solid%20rgb(233%2C%20233%2C%20233)%3B%20background-color%3A%20rgb(250%2C%20250%2C%20250)%3B%22%3E393%2C700%3C%2Fdiv%3E%3Cdiv%20class%3D%22aui-table-cell%22%20style%3D%22height%3A%2028px%3B%20left%3A%20480px%3B%20top%3A%2084px%3B%20width%3A%20120px%3B%20text-align%3A%20right%3B%20font-size%3A%2012px%3B%20padding%3A%204px%204px%203px%3B%20overflow%3A%20hidden%3B%20position%3A%20absolute%3B%20white-space%3A%20nowrap%3B%20text-overflow%3A%20ellipsis%3B%20border-right%3A%201px%20solid%20rgb(233%2C%20233%2C%20233)%3B%20background-color%3A%20rgb(250%2C%20250%2C%20250)%3B%22%3E613%2C200%3C%2Fdiv%3E%3Cdiv%20class%3D%22aui-table-cell%22%20style%3D%22height%3A%2028px%3B%20left%3A%20600px%3B%20top%3A%2084px%3B%20width%3A%20120px%3B%20text-align%3A%20right%3B%20font-size%3A%2012px%3B%20padding%3A%204px%204px%203px%3B%20overflow%3A%20hidden%3B%20position%3A%20absolute%3B%20white-space%3A%20nowrap%3B%20text-overflow%3A%20ellipsis%3B%20border-right%3A%201px%20solid%20rgb(233%2C%20233%2C%20233)%3B%20background-color%3A%20rgb(94%2C%20229%2C%20255)%3B%22%3E219%2C500%3C%2Fdiv%3E%3Cdiv%20class%3D%22aui-table-cell%22%20style%3D%22height%3A%2028px%3B%20left%3A%200px%3B%20top%3A%20112px%3B%20width%3A%20120px%3B%20text-align%3A%20right%3B%20font-size%3A%2012px%3B%20padding%3A%204px%204px%203px%3B%20overflow%3A%20hidden%3B%20position%3A%20absolute%3B%20white-space%3A%20nowrap%3B%20text-overflow%3A%20ellipsis%3B%20border-right%3A%201px%20solid%20rgb(233%2C%20233%2C%20233)%3B%20background-color%3A%20transparent%3B%22%3E249%2C600%3C%2Fdiv%3E%3Cdiv%20class%3D%22aui-table-cell%22%20style%3D%22height%3A%2028px%3B%20left%3A%20120px%3B%20top%3A%20112px%3B%20width%3A%20120px%3B%20text-align%3A%20right%3B%20font-size%3A%2012px%3B%20padding%3A%204px%204px%203px%3B%20overflow%3A%20hidden%3B%20position%3A%20absolute%3B%20white-space%3A%20nowrap%3B%20text-overflow%3A%20ellipsis%3B%20border-right%3A%201px%20solid%20rgb(233%2C%20233%2C%20233)%3B%20background-color%3A%20transparent%3B%22%3E249%2C600%3C%2Fdiv%3E%3Cdiv%20class%3D%22aui-table-cell%22%20style%3D%22height%3A%2028px%3B%20left%3A%20240px%3B%20top%3A%20112px%3B%20width%3A%20120px%3B%20text-align%3A%20right%3B%20font-size%3A%2012px%3B%20padding%3A%204px%204px%203px%3B%20overflow%3A%20hidden%3B%20position%3A%20absolute%3B%20white-space%3A%20nowrap%3B%20text-overflow%3A%20ellipsis%3B%20border-right%3A%201px%20solid%20rgb(233%2C%20233%2C%20233)%3B%20background-color%3A%20rgb(115%2C%20232%2C%20255)%3B%22%3E0%3C%2Fdiv%3E%3Cdiv%20class%3D%22aui-table-cell%22%20style%3D%22height%3A%2028px%3B%20left%3A%20360px%3B%20top%3A%20112px%3B%20width%3A%20120px%3B%20text-align%3A%20right%3B%20font-size%3A%2012px%3B%20padding%3A%204px%204px%203px%3B%20overflow%3A%20hidden%3B%20position%3A%20absolute%3B%20white-space%3A%20nowrap%3B%20text-overflow%3A%20ellipsis%3B%20border-right%3A%201px%20solid%20rgb(233%2C%20233%2C%20233)%3B%20background-color%3A%20transparent%3B%22%3E319%2C600%3C%2Fdiv%3E%3Cdiv%20class%3D%22aui-table-cell%22%20style%3D%22height%3A%2028px%3B%20left%3A%20480px%3B%20top%3A%20112px%3B%20width%3A%20120px%3B%20text-align%3A%20right%3B%20font-size%3A%2012px%3B%20padding%3A%204px%204px%203px%3B%20overflow%3A%20hidden%3B%20position%3A%20absolute%3B%20white-space%3A%20nowrap%3B%20text-overflow%3A%20ellipsis%3B%20border-right%3A%201px%20solid%20rgb(233%2C%20233%2C%20233)%3B%20background-color%3A%20transparent%3B%22%3E366%2C100%3C%2Fdiv%3E%3Cdiv%20class%3D%22aui-table-cell%22%20style%3D%22height%3A%2028px%3B%20left%3A%20600px%3B%20top%3A%20112px%3B%20width%3A%20120px%3B%20text-align%3A%20right%3B%20font-size%3A%2012px%3B%20padding%3A%204px%204px%203px%3B%20overflow%3A%20hidden%3B%20position%3A%20absolute%3B%20white-space%3A%20nowrap%3B%20text-overflow%3A%20ellipsis%3B%20border-right%3A%201px%20solid%20rgb(233%2C%20233%2C%20233)%3B%20background-color%3A%20rgb(115%2C%20232%2C%20255)%3B%22%3E46%2C500%3C%2Fdiv%3E%3C%2Fdiv%3E%3C%2Fdiv%3E%3C%2Fdiv%3E%3C%2Fdiv%3E%3C%2Fdiv%3E%3Cdiv%20class%3D%22css-1uww2vi-Table%22%3E%3C%2Fdiv%3E%3C%2Fdiv%3E%3C%2Fdiv%3E%3C%2Fdiv%3E%3C%2Fdiv%3E%3C%2Fdiv%3E%3C%2FforeignObject%3E%3C%2Fsvg%3E\">"
      ],
      "text/plain": [
       "Open the notebook in JupyterLab with the Atoti extension enabled to build this widget."
      ]
     },
     "metadata": {},
     "output_type": "display_data"
    }
   ],
   "source": [
    "session.visualize(\"Budget adjustment against target NRR simulation\")"
   ]
  },
  {
   "cell_type": "markdown",
   "metadata": {},
   "source": [
    "<div style=\"text-align: center;\" ><a href=\"https://www.atoti.io/?utm_source=gallery&utm_content=drug-efficacy\" target=\"_blank\" rel=\"noopener noreferrer\"><img src=\"https://data.atoti.io/notebooks/banners/Try+Atoti.jpg\" alt=\"Try Atoti\"></a></div>"
   ]
  }
 ],
 "metadata": {
  "kernelspec": {
   "display_name": "Python 3 (ipykernel)",
   "language": "python",
   "name": "python3"
  },
  "language_info": {
   "codemirror_mode": {
    "name": "ipython",
    "version": 3
   },
   "file_extension": ".py",
   "mimetype": "text/x-python",
   "name": "python",
   "nbconvert_exporter": "python",
   "pygments_lexer": "ipython3",
   "version": "3.10.11"
  }
 },
 "nbformat": 4,
 "nbformat_minor": 4
}
