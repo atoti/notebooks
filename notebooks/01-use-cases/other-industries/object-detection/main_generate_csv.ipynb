{
 "cells": [
  {
   "cell_type": "markdown",
   "id": "6db91520-19b6-4fd7-9ba1-dfa224dc509f",
   "metadata": {},
   "source": [
    "# Run atoti experiment"
   ]
  },
  {
   "cell_type": "markdown",
   "id": "abf22f8c-3343-4dd1-b1fe-7034f047a4a1",
   "metadata": {},
   "source": [
    "faceNet: full path to the parent directory where face detection model is stored\n",
    "maskNet: full path to the masked face classifier, including the model file\n",
    "conf_level: minimum probability to filter weak detections from the faceNet model\n",
    "video_from_camera: full path to the video recording associated to a specific camera\n",
    "output_folder: folder where the predictions are stored in csv files"
   ]
  },
  {
   "cell_type": "markdown",
   "id": "9a3cee1e-f0b6-4689-ad3f-32d369713f9e",
   "metadata": {},
   "source": [
    "### Load librairies"
   ]
  },
  {
   "cell_type": "code",
   "execution_count": 1,
   "id": "2caa1008-faf7-424d-a0e8-44bdaa965c0e",
   "metadata": {},
   "outputs": [],
   "source": [
    "import sys\n",
    "import os\n",
    "from ai import detect_masked_face_from_video as detector_object"
   ]
  },
  {
   "cell_type": "markdown",
   "id": "1c8739e1-5334-4334-b124-d675d1878a0d",
   "metadata": {},
   "source": [
    "## STEP 0: Define variables"
   ]
  },
  {
   "cell_type": "code",
   "execution_count": 2,
   "id": "03ab28cc-b8df-426d-a0d0-dd3b58c8ae90",
   "metadata": {},
   "outputs": [
    {
     "name": "stdout",
     "output_type": "stream",
     "text": [
      "C:\\Users\\raghav\\atoti_play\\mask\\mask_detection\\mask_detection_better_model\n"
     ]
    }
   ],
   "source": [
    "print(os.getcwd())\n",
    "\n",
    "base_path = os.getcwd()\n",
    "\n",
    "masked_face_detector = os.path.join(base_path, \"ai\", \"model\", \"model_final.pth\")\n",
    "conf_level = 0.5\n",
    "\n",
    "output_folder = os.path.join(base_path, \"data\", \"output_files\")\n",
    "\n",
    "metadata_folder = os.path.join(base_path, \"data\", \"metadata\")\n",
    "\n",
    "broadcast_dict = {}"
   ]
  },
  {
   "cell_type": "markdown",
   "id": "084f19f7-d1be-4576-a934-eed5c8814672",
   "metadata": {},
   "source": [
    "## STEP 1: Create atoti watchdog"
   ]
  },
  {
   "cell_type": "markdown",
   "id": "61cb6cd1-7cce-4323-96fe-4394aa5f5eb3",
   "metadata": {},
   "source": [
    "## STEP 2: Instantiate a detection object"
   ]
  },
  {
   "cell_type": "code",
   "execution_count": 3,
   "id": "091326c3-4adb-4771-80bd-563523728134",
   "metadata": {},
   "outputs": [],
   "source": [
    "detector = detector_object.MakePredictions()"
   ]
  },
  {
   "cell_type": "markdown",
   "id": "422c27c5-5707-42be-92d0-f5d8dc8018cc",
   "metadata": {
    "tags": []
   },
   "source": [
    "## STEP 3: Create predictions in streaming from one camera recording to be uploaded in atoti"
   ]
  },
  {
   "cell_type": "code",
   "execution_count": 4,
   "id": "d07eda94-c018-4c48-8bd6-afbd762c98f5",
   "metadata": {},
   "outputs": [
    {
     "data": {
      "text/plain": [
       "'C:\\\\Users\\\\raghav\\\\atoti_play\\\\mask\\\\mask_detection\\\\mask_detection_better_model\\\\data\\\\metadata\\\\val-with-only-2-classes.json'"
      ]
     },
     "execution_count": 4,
     "metadata": {},
     "output_type": "execute_result"
    }
   ],
   "source": [
    "str(os.path.join(metadata_folder, \"val-with-only-2-classes.json\"))"
   ]
  },
  {
   "cell_type": "code",
   "execution_count": 5,
   "id": "fc70a5c8-5349-4d77-b780-56ad1b0b356f",
   "metadata": {},
   "outputs": [],
   "source": [
    "def add_video_source(source_name):\n",
    "    video_from_camera = os.path.join(base_path, \"data\", \"videos\", source_name)\n",
    "    detector.get_detections_from_camera(\n",
    "        masked_face_detector, conf_level, video_from_camera, output_folder\n",
    "    )"
   ]
  },
  {
   "cell_type": "code",
   "execution_count": null,
   "id": "94c8255b-3608-4be6-a972-472e59d8f23a",
   "metadata": {},
   "outputs": [
    {
     "name": "stdout",
     "output_type": "stream",
     "text": [
      "Loading the detector model...\n",
      "\n"
     ]
    },
    {
     "name": "stderr",
     "output_type": "stream",
     "text": [
      "Some model parameters or buffers are not found in the checkpoint:\n",
      "\u001b[34mbackbone.fpn_lateral2.bias\u001b[0m\n",
      "\u001b[34mbackbone.fpn_lateral3.bias\u001b[0m\n",
      "\u001b[34mbackbone.fpn_lateral4.bias\u001b[0m\n",
      "\u001b[34mbackbone.fpn_lateral5.bias\u001b[0m\n",
      "\u001b[34mbackbone.fpn_output2.bias\u001b[0m\n",
      "\u001b[34mbackbone.fpn_output3.bias\u001b[0m\n",
      "\u001b[34mbackbone.fpn_output4.bias\u001b[0m\n",
      "\u001b[34mbackbone.fpn_output5.bias\u001b[0m\n",
      "The checkpoint state_dict contains keys that are not used by the model:\n",
      "  \u001b[35mbackbone.fpn_lateral2.norm.{bias, weight}\u001b[0m\n",
      "  \u001b[35mbackbone.fpn_output2.norm.{bias, weight}\u001b[0m\n",
      "  \u001b[35mbackbone.fpn_lateral3.norm.{bias, weight}\u001b[0m\n",
      "  \u001b[35mbackbone.fpn_output3.norm.{bias, weight}\u001b[0m\n",
      "  \u001b[35mbackbone.fpn_lateral4.norm.{bias, weight}\u001b[0m\n",
      "  \u001b[35mbackbone.fpn_output4.norm.{bias, weight}\u001b[0m\n",
      "  \u001b[35mbackbone.fpn_lateral5.norm.{bias, weight}\u001b[0m\n",
      "  \u001b[35mbackbone.fpn_output5.norm.{bias, weight}\u001b[0m\n"
     ]
    },
    {
     "name": "stdout",
     "output_type": "stream",
     "text": [
      "C:\\Users\\raghav\\atoti_play\\mask\\mask_detection\\mask_detection_better_model\\data\\videos\\Mayotte_camera7.mp4\n",
      "Reading the video...\n",
      "\n"
     ]
    }
   ],
   "source": [
    "# add video name to trigger new monitoring of camera\n",
    "add_video_source(\"Mayotte_camera7.mp4\")"
   ]
  },
  {
   "cell_type": "code",
   "execution_count": null,
   "id": "eb9a7f28-40a6-4ca6-9cdf-624b3bc708e3",
   "metadata": {},
   "outputs": [],
   "source": []
  },
  {
   "cell_type": "code",
   "execution_count": null,
   "id": "b1aca7c7-0c50-45e2-bbc6-9fdd4dd41b7b",
   "metadata": {},
   "outputs": [],
   "source": []
  }
 ],
 "metadata": {
  "kernelspec": {
   "display_name": "Python 3 (ipykernel)",
   "language": "python",
   "name": "python3"
  },
  "language_info": {
   "codemirror_mode": {
    "name": "ipython",
    "version": 3
   },
   "file_extension": ".py",
   "mimetype": "text/x-python",
   "name": "python",
   "nbconvert_exporter": "python",
   "pygments_lexer": "ipython3",
   "version": "3.9.7"
  }
 },
 "nbformat": 4,
 "nbformat_minor": 5
}
