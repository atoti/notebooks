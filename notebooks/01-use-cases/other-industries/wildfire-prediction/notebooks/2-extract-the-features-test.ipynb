{
 "cells": [
  {
   "cell_type": "markdown",
   "id": "0967f56e-2ddd-4653-bb91-1aa35827e40e",
   "metadata": {},
   "source": [
    "# Feature Extraction\n",
    "\n",
    "### In this notebook, we perform feature extraction from our dataset using the tsfresh package.\n",
    "\n",
    "#### We consider a binary classification problem with the following classes:\n",
    "\n",
    "#### - Class -1: Non-critical fire (burns less than 10 000 acres)\n",
    "#### - Class 1: Critical fire (burns more than 10 000 acres)\n",
    "\n",
    "#### Also, we consider the scenario where we want to predict if the fire is going to grow critically within the next 6 hours.\n",
    "\n",
    "#### This horizon of prediction of 6 hours is arbitrary (you could change it), and corresponds to the delay that could be to mobilise the appropriate resources to deal with the fire before it becomes critical."
   ]
  },
  {
   "cell_type": "markdown",
   "id": "06beb897-35e3-41a1-acb1-8df3251e4629",
   "metadata": {},
   "source": [
    "### Install some required packages\n",
    "#### Only install those that are not installed yet"
   ]
  },
  {
   "cell_type": "code",
   "execution_count": null,
   "id": "88ed3a2c",
   "metadata": {},
   "outputs": [],
   "source": [
    "!pip install natsort\n",
    "!pip install tsfresh\n",
    "!pip install -U pandas"
   ]
  },
  {
   "cell_type": "markdown",
   "id": "d337120a",
   "metadata": {},
   "source": [
    "### Import packages"
   ]
  },
  {
   "cell_type": "code",
   "execution_count": null,
   "id": "e66c624a",
   "metadata": {},
   "outputs": [],
   "source": [
    "%matplotlib inline\n",
    "\n",
    "import os\n",
    "import pandas as pd, numpy as np\n",
    "import random\n",
    "from natsort import natsorted\n",
    "import matplotlib.pylab as plt\n",
    "\n",
    "import datetime\n",
    "from datetime import date, timedelta\n",
    "import time\n",
    "\n",
    "from tsfresh import extract_features, select_features\n",
    "from tsfresh.utilities.dataframe_functions import (\n",
    "    impute,\n",
    "    make_forecasting_frame,\n",
    "    roll_time_series,\n",
    ")\n",
    "from tsfresh.feature_extraction import (\n",
    "    ComprehensiveFCParameters,\n",
    "    EfficientFCParameters,\n",
    "    MinimalFCParameters,\n",
    "    settings,\n",
    ")\n",
    "\n",
    "import ast\n",
    "\n",
    "import multiprocessing\n",
    "\n",
    "import warnings\n",
    "\n",
    "warnings.filterwarnings(\"ignore\")"
   ]
  },
  {
   "cell_type": "code",
   "execution_count": null,
   "id": "29af439c",
   "metadata": {},
   "outputs": [],
   "source": [
    "num_cpus = multiprocessing.cpu_count()\n",
    "\n",
    "print(f\"Number of available cpus: {multiprocessing.cpu_count()}\\n\")\n",
    "print(f\"Number of cpus to use: {num_cpus}\")"
   ]
  },
  {
   "cell_type": "markdown",
   "id": "257358c9",
   "metadata": {},
   "source": [
    "### Global variables"
   ]
  },
  {
   "cell_type": "code",
   "execution_count": null,
   "id": "4b8dca39",
   "metadata": {},
   "outputs": [],
   "source": [
    "RESULTS = \"../results\""
   ]
  },
  {
   "cell_type": "markdown",
   "id": "b7d58b09",
   "metadata": {},
   "source": [
    "### Utility function"
   ]
  },
  {
   "cell_type": "code",
   "execution_count": null,
   "id": "6f27f738",
   "metadata": {},
   "outputs": [],
   "source": [
    "def make_sorter(l):\n",
    "    \"\"\"\n",
    "    Create a dict from the list to map to 0..len(l)\n",
    "    Returns a mapper to map a series to this custom sort order\n",
    "    \"\"\"\n",
    "    sort_order = {k: v for k, v in zip(l, range(len(l)))}\n",
    "    return lambda s: s.map(lambda x: sort_order[x])"
   ]
  },
  {
   "cell_type": "markdown",
   "id": "4bc0eb05",
   "metadata": {},
   "source": [
    "# Load the data"
   ]
  },
  {
   "cell_type": "markdown",
   "id": "ab3f5215",
   "metadata": {},
   "source": [
    "### Rolled dataset "
   ]
  },
  {
   "cell_type": "code",
   "execution_count": null,
   "id": "59fe147c",
   "metadata": {},
   "outputs": [],
   "source": [
    "df_rolled_test = pd.read_csv(\n",
    "    os.path.join(RESULTS, \"fires-stations-final-dataset-flat-format-rolled-test.csv\")\n",
    ")\n",
    "df_rolled_test.shape"
   ]
  },
  {
   "cell_type": "code",
   "execution_count": null,
   "id": "2bf085f9",
   "metadata": {},
   "outputs": [],
   "source": [
    "df_rolled_test.head()"
   ]
  },
  {
   "cell_type": "code",
   "execution_count": null,
   "id": "1c64d1b5",
   "metadata": {},
   "outputs": [],
   "source": [
    "X_cols = [\n",
    "    \"id\",\n",
    "    \"time_step\",\n",
    "    \"ghi_station_1\",\n",
    "    \"dni_station_1\",\n",
    "    \"wind_speed_station_1\",\n",
    "    \"wind_direction_station_1\",\n",
    "    \"dhi_station_1\",\n",
    "    \"air_temperature_station_1\",\n",
    "    \"solar_zenith_angle_station_1\",\n",
    "    \"ghi_station_2\",\n",
    "    \"dni_station_2\",\n",
    "    \"wind_speed_station_2\",\n",
    "    \"wind_direction_station_2\",\n",
    "    \"dhi_station_2\",\n",
    "    \"air_temperature_station_2\",\n",
    "    \"solar_zenith_angle_station_2\",\n",
    "    \"duration_in_hours\",\n",
    "]\n",
    "\n",
    "y_col = [\"category\"]"
   ]
  },
  {
   "cell_type": "markdown",
   "id": "8bdb841b-1e50-4255-bc6f-6fffd09b92c4",
   "metadata": {},
   "source": [
    "#### Running this cell could take a very long time\n",
    "#### This could last until a few hours\n",
    "#### Please consider using distributed calculation, e.g. with Dask or PySpark"
   ]
  },
  {
   "cell_type": "code",
   "execution_count": null,
   "id": "5b21eb93",
   "metadata": {},
   "outputs": [],
   "source": [
    "%%time\n",
    "X_test = extract_features(\n",
    "    df_rolled_test[X_cols],\n",
    "    column_id=\"id\",\n",
    "    column_sort=\"time_step\",\n",
    "    default_fc_parameters=ComprehensiveFCParameters(),  # we could use also: MinimalFCParameters(), EfficientFCParameters()\n",
    "    impute_function=impute,\n",
    "    n_jobs=num_cpus,\n",
    ")\n",
    "X_test.shape"
   ]
  },
  {
   "cell_type": "code",
   "execution_count": null,
   "id": "968b1aaf",
   "metadata": {},
   "outputs": [],
   "source": [
    "X_test.head()"
   ]
  },
  {
   "cell_type": "code",
   "execution_count": null,
   "id": "e8a0f980",
   "metadata": {},
   "outputs": [],
   "source": [
    "X_test.to_csv(\n",
    "    os.path.join(\n",
    "        RESULTS,\n",
    "        \"extracted-features-ComprehensiveFCParameters-full--without-target-horizon-test.csv\",\n",
    "    )\n",
    ")"
   ]
  },
  {
   "cell_type": "markdown",
   "id": "f3383886",
   "metadata": {},
   "source": [
    "# STEP 1: Feature Selection"
   ]
  },
  {
   "cell_type": "markdown",
   "id": "73aa2005",
   "metadata": {},
   "source": [
    "### Hypothesis:\n",
    "### Here, we want to predict the evolution of the considered in the near future, given the parameters provided by the surrounding stations the last couple of hours."
   ]
  },
  {
   "cell_type": "markdown",
   "id": "e9f2d131",
   "metadata": {},
   "source": [
    "### Set the horizons of prediction"
   ]
  },
  {
   "cell_type": "code",
   "execution_count": null,
   "id": "7ec3a6a0",
   "metadata": {},
   "outputs": [],
   "source": [
    "horizon_6h = 6\n",
    "# horizon_12h = 12\n",
    "# horizon_18h = 18"
   ]
  },
  {
   "cell_type": "markdown",
   "id": "296b194d",
   "metadata": {},
   "source": [
    "### Create the target vectors"
   ]
  },
  {
   "cell_type": "markdown",
   "id": "1b1456b0",
   "metadata": {},
   "source": [
    "#### Scenario 1: Horizon of prediction of 6 hours"
   ]
  },
  {
   "cell_type": "code",
   "execution_count": null,
   "id": "25b75896",
   "metadata": {},
   "outputs": [],
   "source": [
    "df_rolled_test[\"id\"] = df_rolled_test[\"id\"].apply(\n",
    "    lambda idx: idx if not isinstance(idx, str) else ast.literal_eval(idx)\n",
    ")\n",
    "test_ids = list(np.unique(df_rolled_test[\"id\"]))\n",
    "X_test_6h = X_test.copy()\n",
    "X_test_6h = X_test_6h.reset_index()\n",
    "X_test_6h.rename(columns={X_test_6h.columns[0]: \"id\"}, inplace=True)\n",
    "X_test_6h[\"id\"] = X_test_6h[\"id\"].apply(\n",
    "    lambda idx: idx if not isinstance(idx, str) else ast.literal_eval(idx)\n",
    ")\n",
    "X_test_6h = X_test_6h.sort_values(\"id\", key=make_sorter(test_ids))\n",
    "X_test_6h = X_test_6h.set_index(\"id\")\n",
    "X_test_6h = X_test_6h.rename_axis(index=None)\n",
    "# remove the last id\n",
    "# as we cannot find any label to assign to it\n",
    "X_test_6h = X_test_6h[:-horizon_6h]\n",
    "\n",
    "test_target_dic_6h = {}\n",
    "\n",
    "# loop over all the ids\n",
    "# excepted the last\n",
    "for idx in range(len(test_ids) - horizon_6h):\n",
    "    temp_df_6h = df_rolled_test[\n",
    "        df_rolled_test[\"id\"] == test_ids[idx + horizon_6h]\n",
    "    ].reset_index(drop=True)\n",
    "    test_target_dic_6h[test_ids[idx]] = temp_df_6h.loc[len(temp_df_6h) - 1, \"category\"]\n",
    "\n",
    "test_target_6h = [\n",
    "    test_target_dic_6h[idx]\n",
    "    if not isinstance(idx, str)\n",
    "    else test_target_dic_6h[ast.literal_eval(idx)]\n",
    "    for idx in X_test_6h.index\n",
    "]"
   ]
  },
  {
   "cell_type": "code",
   "execution_count": null,
   "id": "ba0355cd",
   "metadata": {},
   "outputs": [],
   "source": [
    "test_df_6h = X_test_6h.copy()\n",
    "test_df_6h[\"target\"] = test_target_6h\n",
    "test_df_6h.shape"
   ]
  },
  {
   "cell_type": "code",
   "execution_count": null,
   "id": "de9bcc65",
   "metadata": {},
   "outputs": [],
   "source": [
    "test_df_6h.head()"
   ]
  },
  {
   "cell_type": "markdown",
   "id": "05973b6b",
   "metadata": {},
   "source": [
    "### Save the full dataset of extracted features"
   ]
  },
  {
   "cell_type": "code",
   "execution_count": null,
   "id": "8cc1084f",
   "metadata": {},
   "outputs": [],
   "source": [
    "test_df_6h.to_csv(\n",
    "    os.path.join(\n",
    "        RESULTS,\n",
    "        \"extracted-features-ComprehensiveFCParameters-full-target-horizon-6h-test.csv\",\n",
    "    )\n",
    ")"
   ]
  },
  {
   "cell_type": "markdown",
   "id": "0b0d88fc-b012-4408-aa7d-86d3385f25a4",
   "metadata": {},
   "source": [
    "### Filter the descriptor columns\n",
    "### We use the ***select_features*** function of tsfresh to retain only the most relevant descriptors of the X dataframe w.r.t the target."
   ]
  },
  {
   "cell_type": "code",
   "execution_count": null,
   "id": "a4241246",
   "metadata": {},
   "outputs": [],
   "source": [
    "train_df_filtered_6h = pd.read_csv(\n",
    "    os.path.join(\n",
    "        RESULTS,\n",
    "        \"extracted-features-ComprehensiveFCParameters-filtered-target-horizon-6h-train.csv\",\n",
    "    ),\n",
    "    index_col=0,\n",
    ")\n",
    "train_df_filtered_6h.shape"
   ]
  },
  {
   "cell_type": "code",
   "execution_count": null,
   "id": "d56a3c56",
   "metadata": {},
   "outputs": [],
   "source": [
    "%%time\n",
    "test_df_filtered_6h = test_df_6h[list(train_df_filtered_6h.columns)]\n",
    "test_df_filtered_6h.shape"
   ]
  },
  {
   "cell_type": "code",
   "execution_count": null,
   "id": "ac4f26f8",
   "metadata": {},
   "outputs": [],
   "source": [
    "test_df_filtered_6h.head(2)"
   ]
  },
  {
   "cell_type": "markdown",
   "id": "ad350a7c",
   "metadata": {},
   "source": [
    "### Save the filtered dataset of extracted features"
   ]
  },
  {
   "cell_type": "code",
   "execution_count": null,
   "id": "81865fc9",
   "metadata": {},
   "outputs": [],
   "source": [
    "test_df_filtered_6h.to_csv(\n",
    "    os.path.join(\n",
    "        RESULTS,\n",
    "        \"extracted-features-ComprehensiveFCParameters-filtered-target-horizon-6h-test.csv\",\n",
    "    )\n",
    ")"
   ]
  }
 ],
 "metadata": {
  "instance_type": "ml.r5.24xlarge",
  "kernelspec": {
   "display_name": "Python 3 (ipykernel)",
   "language": "python",
   "name": "python3"
  },
  "language_info": {
   "codemirror_mode": {
    "name": "ipython",
    "version": 3
   },
   "file_extension": ".py",
   "mimetype": "text/x-python",
   "name": "python",
   "nbconvert_exporter": "python",
   "pygments_lexer": "ipython3",
   "version": "3.9.7"
  }
 },
 "nbformat": 4,
 "nbformat_minor": 5
}
