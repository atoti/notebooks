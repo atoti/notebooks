{
 "cells": [
  {
   "cell_type": "markdown",
   "id": "97c267e8-e64e-4bf2-801f-3f607d1f85e3",
   "metadata": {
    "tags": []
   },
   "source": [
    "# Exploring Pokémon Battles with Atoti\n",
    "\n",
    "This notebook explores the Pokémon data from Kaggle in an [OLAP](https://en.wikipedia.org/wiki/Online_analytical_processing) cube created using [Atoti](https://www.atoti.io/):  \n",
    "- [Tuan Nguyen Van Anh's Pokémon Dataset with Team Combat](https://www.kaggle.com/tuannguyenvananh/pokemon-dataset-with-team-combat)  \n",
    "- [Mario Tormo Romero's Complete Pokémon Dataset](https://www.kaggle.com/mariotormo/complete-pokemon-dataset-updated-090420).\n",
    "\n",
    "I will demonstrate how I can create a analytics platform end-to-end:\n",
    "- Preprocessing: processing data prior to data loading into the cube\n",
    "- Measure creation: creating KPIs for the story\n",
    "- Data visualization: creating visualizations in Jupyter notebook during data modelling stage\n",
    "- Dashboarding: complete storytelling with dashboards using Atoti web application\n",
    "\n",
    "Bonus:  \n",
    "Using the [<img src=\"https://img.shields.io/badge/🔒-Atoti-291A40\" />](https://docs.atoti.io/latest/how_tos/unlock_all_features.html#), I have also extended the Atoti web application to create custom widgets.  \n",
    "The custom widget will invoke the [custom endpoints](https://docs.atoti.io/latest/lib/atoti.session.html#atoti.session.Session.endpoint) to simulate random battles.   \n",
    "\n",
    "__Note: <img src=\"https://img.shields.io/badge/🔒-Atoti-291A40\" /> is the unlocked version of the free <img src=\"https://img.shields.io/badge/-Atoti%20CE-AF4D61\" />.__"
   ]
  },
  {
   "cell_type": "code",
   "execution_count": 1,
   "id": "7b40be65-cfa3-45d4-a587-6cc596771774",
   "metadata": {},
   "outputs": [],
   "source": [
    "import datetime as dt\n",
    "import urllib\n",
    "from datetime import date\n",
    "\n",
    "import atoti as tt\n",
    "import numpy as np\n",
    "import pandas as pd"
   ]
  },
  {
   "cell_type": "markdown",
   "id": "e5db8b1f-a1f5-4616-9717-93a4ba36ecee",
   "metadata": {
    "tags": []
   },
   "source": [
    "## 1. Data preprocessing\n",
    "\n",
    "Atoti can read from various datasources including Pandas. I will make use of Pandas to clean up my data and perform some low level computations before loading data into Atoti."
   ]
  },
  {
   "cell_type": "markdown",
   "id": "52c7d21e-a384-41ca-baae-4518cd6f88d0",
   "metadata": {},
   "source": [
    "### 1.1 Pokémon stats data\n",
    "\n",
    "Before looking at each battle, let's understand the Pokémon a little more. Using Pandas, I renamed the columns into a friendlier convention.  \n",
    "\n",
    "Since __Atoti will automatically inherit the data type from the DataFrame__, I will cast the data type for the Pandas DataFrame column accordingly.    \n",
    "For instance, the `Pokedex` column is inferred as `int` by Pandas but I want it to be treated as a `String`. So let's cast it explicitly."
   ]
  },
  {
   "cell_type": "code",
   "execution_count": 2,
   "id": "d5af24e3-7aa6-4ec6-8d60-d51e1cb3164e",
   "metadata": {
    "tags": []
   },
   "outputs": [
    {
     "data": {
      "text/html": [
       "<div>\n",
       "<style scoped>\n",
       "    .dataframe tbody tr th:only-of-type {\n",
       "        vertical-align: middle;\n",
       "    }\n",
       "\n",
       "    .dataframe tbody tr th {\n",
       "        vertical-align: top;\n",
       "    }\n",
       "\n",
       "    .dataframe thead th {\n",
       "        text-align: right;\n",
       "    }\n",
       "</style>\n",
       "<table border=\"1\" class=\"dataframe\">\n",
       "  <thead>\n",
       "    <tr style=\"text-align: right;\">\n",
       "      <th></th>\n",
       "      <th>Pokedex</th>\n",
       "      <th>Generation</th>\n",
       "      <th>Pokemon</th>\n",
       "      <th>JP Name</th>\n",
       "      <th>Primary Type</th>\n",
       "      <th>Secondary Type</th>\n",
       "      <th>Classification</th>\n",
       "      <th>Percentage Male</th>\n",
       "      <th>Percentage Female</th>\n",
       "      <th>Height</th>\n",
       "      <th>...</th>\n",
       "      <th>Base Egg Steps</th>\n",
       "      <th>HP</th>\n",
       "      <th>Attack</th>\n",
       "      <th>Defense</th>\n",
       "      <th>SP Attack</th>\n",
       "      <th>SP Defense</th>\n",
       "      <th>Speed</th>\n",
       "      <th>Sub-Legendary</th>\n",
       "      <th>Legendary</th>\n",
       "      <th>Mythical</th>\n",
       "    </tr>\n",
       "  </thead>\n",
       "  <tbody>\n",
       "    <tr>\n",
       "      <th>0</th>\n",
       "      <td>1</td>\n",
       "      <td>I</td>\n",
       "      <td>Bulbasaur</td>\n",
       "      <td>Fushigidane</td>\n",
       "      <td>grass</td>\n",
       "      <td>poison</td>\n",
       "      <td>Seed</td>\n",
       "      <td>88.14</td>\n",
       "      <td>11.86</td>\n",
       "      <td>0.7</td>\n",
       "      <td>...</td>\n",
       "      <td>5120</td>\n",
       "      <td>45</td>\n",
       "      <td>49</td>\n",
       "      <td>49</td>\n",
       "      <td>65</td>\n",
       "      <td>65</td>\n",
       "      <td>45</td>\n",
       "      <td>0</td>\n",
       "      <td>0</td>\n",
       "      <td>0</td>\n",
       "    </tr>\n",
       "    <tr>\n",
       "      <th>1</th>\n",
       "      <td>2</td>\n",
       "      <td>I</td>\n",
       "      <td>Ivysaur</td>\n",
       "      <td>Fushigisou</td>\n",
       "      <td>grass</td>\n",
       "      <td>poison</td>\n",
       "      <td>Seed</td>\n",
       "      <td>88.14</td>\n",
       "      <td>11.86</td>\n",
       "      <td>1.0</td>\n",
       "      <td>...</td>\n",
       "      <td>5120</td>\n",
       "      <td>60</td>\n",
       "      <td>62</td>\n",
       "      <td>63</td>\n",
       "      <td>80</td>\n",
       "      <td>80</td>\n",
       "      <td>60</td>\n",
       "      <td>0</td>\n",
       "      <td>0</td>\n",
       "      <td>0</td>\n",
       "    </tr>\n",
       "    <tr>\n",
       "      <th>2</th>\n",
       "      <td>3</td>\n",
       "      <td>I</td>\n",
       "      <td>Venusaur</td>\n",
       "      <td>Fushigibana</td>\n",
       "      <td>grass</td>\n",
       "      <td>poison</td>\n",
       "      <td>Seed</td>\n",
       "      <td>88.14</td>\n",
       "      <td>11.86</td>\n",
       "      <td>2.0</td>\n",
       "      <td>...</td>\n",
       "      <td>5120</td>\n",
       "      <td>80</td>\n",
       "      <td>82</td>\n",
       "      <td>83</td>\n",
       "      <td>100</td>\n",
       "      <td>100</td>\n",
       "      <td>80</td>\n",
       "      <td>0</td>\n",
       "      <td>0</td>\n",
       "      <td>0</td>\n",
       "    </tr>\n",
       "    <tr>\n",
       "      <th>3</th>\n",
       "      <td>4</td>\n",
       "      <td>I</td>\n",
       "      <td>Charmander</td>\n",
       "      <td>Hitokage</td>\n",
       "      <td>fire</td>\n",
       "      <td>NaN</td>\n",
       "      <td>Lizard</td>\n",
       "      <td>88.14</td>\n",
       "      <td>11.86</td>\n",
       "      <td>0.6</td>\n",
       "      <td>...</td>\n",
       "      <td>5120</td>\n",
       "      <td>39</td>\n",
       "      <td>52</td>\n",
       "      <td>43</td>\n",
       "      <td>60</td>\n",
       "      <td>50</td>\n",
       "      <td>65</td>\n",
       "      <td>0</td>\n",
       "      <td>0</td>\n",
       "      <td>0</td>\n",
       "    </tr>\n",
       "    <tr>\n",
       "      <th>4</th>\n",
       "      <td>5</td>\n",
       "      <td>I</td>\n",
       "      <td>Charmeleon</td>\n",
       "      <td>Lizardo</td>\n",
       "      <td>fire</td>\n",
       "      <td>NaN</td>\n",
       "      <td>Flame</td>\n",
       "      <td>88.14</td>\n",
       "      <td>11.86</td>\n",
       "      <td>1.1</td>\n",
       "      <td>...</td>\n",
       "      <td>5120</td>\n",
       "      <td>58</td>\n",
       "      <td>64</td>\n",
       "      <td>58</td>\n",
       "      <td>80</td>\n",
       "      <td>65</td>\n",
       "      <td>80</td>\n",
       "      <td>0</td>\n",
       "      <td>0</td>\n",
       "      <td>0</td>\n",
       "    </tr>\n",
       "  </tbody>\n",
       "</table>\n",
       "<p>5 rows × 22 columns</p>\n",
       "</div>"
      ],
      "text/plain": [
       "  Pokedex Generation     Pokemon      JP Name Primary Type Secondary Type  \\\n",
       "0       1          I   Bulbasaur  Fushigidane        grass         poison   \n",
       "1       2          I     Ivysaur   Fushigisou        grass         poison   \n",
       "2       3          I    Venusaur  Fushigibana        grass         poison   \n",
       "3       4          I  Charmander     Hitokage         fire            NaN   \n",
       "4       5          I  Charmeleon      Lizardo         fire            NaN   \n",
       "\n",
       "  Classification  Percentage Male  Percentage Female  Height  ...  \\\n",
       "0           Seed            88.14              11.86     0.7  ...   \n",
       "1           Seed            88.14              11.86     1.0  ...   \n",
       "2           Seed            88.14              11.86     2.0  ...   \n",
       "3         Lizard            88.14              11.86     0.6  ...   \n",
       "4          Flame            88.14              11.86     1.1  ...   \n",
       "\n",
       "   Base Egg Steps  HP  Attack  Defense  SP Attack  SP Defense  Speed  \\\n",
       "0            5120  45      49       49         65          65     45   \n",
       "1            5120  60      62       63         80          80     60   \n",
       "2            5120  80      82       83        100         100     80   \n",
       "3            5120  39      52       43         60          50     65   \n",
       "4            5120  58      64       58         80          65     80   \n",
       "\n",
       "   Sub-Legendary  Legendary  Mythical  \n",
       "0              0          0         0  \n",
       "1              0          0         0  \n",
       "2              0          0         0  \n",
       "3              0          0         0  \n",
       "4              0          0         0  \n",
       "\n",
       "[5 rows x 22 columns]"
      ]
     },
     "execution_count": 2,
     "metadata": {},
     "output_type": "execute_result"
    }
   ],
   "source": [
    "pokemon_df = pd.read_csv(\n",
    "    \"https://data.atoti.io/notebooks/pokemon/pokemon.csv\",\n",
    "    header=0,\n",
    "    names=[\n",
    "        \"Pokedex\",\n",
    "        \"Generation\",\n",
    "        \"Pokemon\",\n",
    "        \"JP Name\",\n",
    "        \"Primary Type\",\n",
    "        \"Secondary Type\",\n",
    "        \"Classification\",\n",
    "        \"Percentage Male\",\n",
    "        \"Percentage Female\",\n",
    "        \"Height\",\n",
    "        \"Weight\",\n",
    "        \"Capture Rate\",\n",
    "        \"Base Egg Steps\",\n",
    "        \"HP\",\n",
    "        \"Attack\",\n",
    "        \"Defense\",\n",
    "        \"SP Attack\",\n",
    "        \"SP Defense\",\n",
    "        \"Speed\",\n",
    "        \"Sub-Legendary\",\n",
    "        \"Legendary\",\n",
    "        \"Mythical\",\n",
    "    ],\n",
    "    dtype={\"Pokedex\": str},\n",
    ")\n",
    "\n",
    "pokemon_df.head()"
   ]
  },
  {
   "cell_type": "markdown",
   "id": "9fdc88b6-045f-4f45-bb17-0d084b1a54d6",
   "metadata": {},
   "source": [
    "I want to combine the 3 columns-`Sub-Legendary`, `Legendary` and `Mythical` into a boolean column `(Sub)Legendary or Mythical` and drop the columns that are not being used."
   ]
  },
  {
   "cell_type": "code",
   "execution_count": 3,
   "id": "f839d309-b5a2-4ae4-ae5c-f44742cc87d0",
   "metadata": {},
   "outputs": [],
   "source": [
    "pokemon_df[\"(Sub)Legendary or Mythical\"] = False\n",
    "pokemon_df.loc[\n",
    "    (pokemon_df[\"Sub-Legendary\"] == 1)\n",
    "    | (pokemon_df[\"Legendary\"] == 1)\n",
    "    | (pokemon_df[\"Mythical\"] == 1),\n",
    "    \"(Sub)Legendary or Mythical\",\n",
    "] = True"
   ]
  },
  {
   "cell_type": "code",
   "execution_count": 4,
   "id": "331ba4e5-15d6-4c2a-bb77-43074011b066",
   "metadata": {},
   "outputs": [
    {
     "data": {
      "text/html": [
       "<div>\n",
       "<style scoped>\n",
       "    .dataframe tbody tr th:only-of-type {\n",
       "        vertical-align: middle;\n",
       "    }\n",
       "\n",
       "    .dataframe tbody tr th {\n",
       "        vertical-align: top;\n",
       "    }\n",
       "\n",
       "    .dataframe thead th {\n",
       "        text-align: right;\n",
       "    }\n",
       "</style>\n",
       "<table border=\"1\" class=\"dataframe\">\n",
       "  <thead>\n",
       "    <tr style=\"text-align: right;\">\n",
       "      <th></th>\n",
       "      <th>Pokedex</th>\n",
       "      <th>Generation</th>\n",
       "      <th>Pokemon</th>\n",
       "      <th>Classification</th>\n",
       "      <th>Percentage Male</th>\n",
       "      <th>Percentage Female</th>\n",
       "      <th>Height</th>\n",
       "      <th>Weight</th>\n",
       "      <th>Capture Rate</th>\n",
       "      <th>Base Egg Steps</th>\n",
       "      <th>HP</th>\n",
       "      <th>Attack</th>\n",
       "      <th>Defense</th>\n",
       "      <th>SP Attack</th>\n",
       "      <th>SP Defense</th>\n",
       "      <th>Speed</th>\n",
       "      <th>(Sub)Legendary or Mythical</th>\n",
       "    </tr>\n",
       "  </thead>\n",
       "  <tbody>\n",
       "    <tr>\n",
       "      <th>0</th>\n",
       "      <td>1</td>\n",
       "      <td>I</td>\n",
       "      <td>Bulbasaur</td>\n",
       "      <td>Seed</td>\n",
       "      <td>88.14</td>\n",
       "      <td>11.86</td>\n",
       "      <td>0.7</td>\n",
       "      <td>6.9</td>\n",
       "      <td>45</td>\n",
       "      <td>5120</td>\n",
       "      <td>45</td>\n",
       "      <td>49</td>\n",
       "      <td>49</td>\n",
       "      <td>65</td>\n",
       "      <td>65</td>\n",
       "      <td>45</td>\n",
       "      <td>False</td>\n",
       "    </tr>\n",
       "    <tr>\n",
       "      <th>1</th>\n",
       "      <td>2</td>\n",
       "      <td>I</td>\n",
       "      <td>Ivysaur</td>\n",
       "      <td>Seed</td>\n",
       "      <td>88.14</td>\n",
       "      <td>11.86</td>\n",
       "      <td>1.0</td>\n",
       "      <td>13.0</td>\n",
       "      <td>45</td>\n",
       "      <td>5120</td>\n",
       "      <td>60</td>\n",
       "      <td>62</td>\n",
       "      <td>63</td>\n",
       "      <td>80</td>\n",
       "      <td>80</td>\n",
       "      <td>60</td>\n",
       "      <td>False</td>\n",
       "    </tr>\n",
       "    <tr>\n",
       "      <th>2</th>\n",
       "      <td>3</td>\n",
       "      <td>I</td>\n",
       "      <td>Venusaur</td>\n",
       "      <td>Seed</td>\n",
       "      <td>88.14</td>\n",
       "      <td>11.86</td>\n",
       "      <td>2.0</td>\n",
       "      <td>100.0</td>\n",
       "      <td>45</td>\n",
       "      <td>5120</td>\n",
       "      <td>80</td>\n",
       "      <td>82</td>\n",
       "      <td>83</td>\n",
       "      <td>100</td>\n",
       "      <td>100</td>\n",
       "      <td>80</td>\n",
       "      <td>False</td>\n",
       "    </tr>\n",
       "    <tr>\n",
       "      <th>3</th>\n",
       "      <td>4</td>\n",
       "      <td>I</td>\n",
       "      <td>Charmander</td>\n",
       "      <td>Lizard</td>\n",
       "      <td>88.14</td>\n",
       "      <td>11.86</td>\n",
       "      <td>0.6</td>\n",
       "      <td>8.5</td>\n",
       "      <td>45</td>\n",
       "      <td>5120</td>\n",
       "      <td>39</td>\n",
       "      <td>52</td>\n",
       "      <td>43</td>\n",
       "      <td>60</td>\n",
       "      <td>50</td>\n",
       "      <td>65</td>\n",
       "      <td>False</td>\n",
       "    </tr>\n",
       "    <tr>\n",
       "      <th>4</th>\n",
       "      <td>5</td>\n",
       "      <td>I</td>\n",
       "      <td>Charmeleon</td>\n",
       "      <td>Flame</td>\n",
       "      <td>88.14</td>\n",
       "      <td>11.86</td>\n",
       "      <td>1.1</td>\n",
       "      <td>19.0</td>\n",
       "      <td>45</td>\n",
       "      <td>5120</td>\n",
       "      <td>58</td>\n",
       "      <td>64</td>\n",
       "      <td>58</td>\n",
       "      <td>80</td>\n",
       "      <td>65</td>\n",
       "      <td>80</td>\n",
       "      <td>False</td>\n",
       "    </tr>\n",
       "  </tbody>\n",
       "</table>\n",
       "</div>"
      ],
      "text/plain": [
       "  Pokedex Generation     Pokemon Classification  Percentage Male  \\\n",
       "0       1          I   Bulbasaur           Seed            88.14   \n",
       "1       2          I     Ivysaur           Seed            88.14   \n",
       "2       3          I    Venusaur           Seed            88.14   \n",
       "3       4          I  Charmander         Lizard            88.14   \n",
       "4       5          I  Charmeleon          Flame            88.14   \n",
       "\n",
       "   Percentage Female  Height  Weight  Capture Rate  Base Egg Steps  HP  \\\n",
       "0              11.86     0.7     6.9            45            5120  45   \n",
       "1              11.86     1.0    13.0            45            5120  60   \n",
       "2              11.86     2.0   100.0            45            5120  80   \n",
       "3              11.86     0.6     8.5            45            5120  39   \n",
       "4              11.86     1.1    19.0            45            5120  58   \n",
       "\n",
       "   Attack  Defense  SP Attack  SP Defense  Speed  (Sub)Legendary or Mythical  \n",
       "0      49       49         65          65     45                       False  \n",
       "1      62       63         80          80     60                       False  \n",
       "2      82       83        100         100     80                       False  \n",
       "3      52       43         60          50     65                       False  \n",
       "4      64       58         80          65     80                       False  "
      ]
     },
     "execution_count": 4,
     "metadata": {},
     "output_type": "execute_result"
    }
   ],
   "source": [
    "pokemon_df.drop(\n",
    "    columns=[\n",
    "        \"Sub-Legendary\",\n",
    "        \"Legendary\",\n",
    "        \"Mythical\",\n",
    "        \"JP Name\",\n",
    "        \"Primary Type\",\n",
    "        \"Secondary Type\",\n",
    "    ],\n",
    "    inplace=True,\n",
    ")\n",
    "\n",
    "pokemon_df.head()"
   ]
  },
  {
   "cell_type": "markdown",
   "id": "b77ed207-70a0-4d4d-b28f-d7295ddb6427",
   "metadata": {},
   "source": [
    "### 1.2 Pokémon's combat data\n",
    "\n",
    "This dataset gives information on each battle such as the battling Pokémon, the battle results and the number of views.  \n",
    "Using Pandas, I've renamed the columns during the read of the combats.csv file and cast the IDs to `String`."
   ]
  },
  {
   "cell_type": "code",
   "execution_count": 5,
   "id": "0cd8f642-4758-40b5-b4cc-0c2e44a12150",
   "metadata": {},
   "outputs": [
    {
     "data": {
      "text/html": [
       "<div>\n",
       "<style scoped>\n",
       "    .dataframe tbody tr th:only-of-type {\n",
       "        vertical-align: middle;\n",
       "    }\n",
       "\n",
       "    .dataframe tbody tr th {\n",
       "        vertical-align: top;\n",
       "    }\n",
       "\n",
       "    .dataframe thead th {\n",
       "        text-align: right;\n",
       "    }\n",
       "</style>\n",
       "<table border=\"1\" class=\"dataframe\">\n",
       "  <thead>\n",
       "    <tr style=\"text-align: right;\">\n",
       "      <th></th>\n",
       "      <th>Registration ID</th>\n",
       "      <th>Combat ID</th>\n",
       "      <th>Pokemon ID</th>\n",
       "      <th>Opponent Pokemon ID</th>\n",
       "      <th>Result</th>\n",
       "      <th>Type Multiplier</th>\n",
       "      <th>Replay Views</th>\n",
       "      <th>Live Views (Start - End)</th>\n",
       "    </tr>\n",
       "  </thead>\n",
       "  <tbody>\n",
       "    <tr>\n",
       "      <th>0</th>\n",
       "      <td>1</td>\n",
       "      <td>1</td>\n",
       "      <td>266</td>\n",
       "      <td>298</td>\n",
       "      <td>losE</td>\n",
       "      <td>0.5</td>\n",
       "      <td>29629</td>\n",
       "      <td>15306;1664</td>\n",
       "    </tr>\n",
       "    <tr>\n",
       "      <th>1</th>\n",
       "      <td>2</td>\n",
       "      <td>1</td>\n",
       "      <td>298</td>\n",
       "      <td>266</td>\n",
       "      <td>WIn</td>\n",
       "      <td>1.0</td>\n",
       "      <td>109229</td>\n",
       "      <td>83732;75822</td>\n",
       "    </tr>\n",
       "    <tr>\n",
       "      <th>2</th>\n",
       "      <td>3</td>\n",
       "      <td>2</td>\n",
       "      <td>702</td>\n",
       "      <td>701</td>\n",
       "      <td>LOSE</td>\n",
       "      <td>2.0</td>\n",
       "      <td>27634</td>\n",
       "      <td>4533;2656</td>\n",
       "    </tr>\n",
       "    <tr>\n",
       "      <th>3</th>\n",
       "      <td>4</td>\n",
       "      <td>2</td>\n",
       "      <td>701</td>\n",
       "      <td>702</td>\n",
       "      <td>WIN</td>\n",
       "      <td>0.5</td>\n",
       "      <td>82359</td>\n",
       "      <td>9983;40424</td>\n",
       "    </tr>\n",
       "    <tr>\n",
       "      <th>4</th>\n",
       "      <td>5</td>\n",
       "      <td>3</td>\n",
       "      <td>191</td>\n",
       "      <td>668</td>\n",
       "      <td>LOSE</td>\n",
       "      <td>0.5</td>\n",
       "      <td>71664</td>\n",
       "      <td>54796;16377</td>\n",
       "    </tr>\n",
       "  </tbody>\n",
       "</table>\n",
       "</div>"
      ],
      "text/plain": [
       "  Registration ID Combat ID Pokemon ID Opponent Pokemon ID Result  \\\n",
       "0               1         1        266                 298   losE   \n",
       "1               2         1        298                 266    WIn   \n",
       "2               3         2        702                 701   LOSE   \n",
       "3               4         2        701                 702    WIN   \n",
       "4               5         3        191                 668   LOSE   \n",
       "\n",
       "   Type Multiplier  Replay Views Live Views (Start - End)  \n",
       "0              0.5         29629               15306;1664  \n",
       "1              1.0        109229              83732;75822  \n",
       "2              2.0         27634                4533;2656  \n",
       "3              0.5         82359               9983;40424  \n",
       "4              0.5         71664              54796;16377  "
      ]
     },
     "execution_count": 5,
     "metadata": {},
     "output_type": "execute_result"
    }
   ],
   "source": [
    "combat_df = pd.read_csv(\n",
    "    \"https://data.atoti.io/notebooks/pokemon/combats.csv\",\n",
    "    header=0,\n",
    "    names=[\n",
    "        \"Registration ID\",\n",
    "        \"Combat ID\",\n",
    "        \"Pokemon ID\",\n",
    "        \"Opponent Pokemon ID\",\n",
    "        \"Result\",\n",
    "        \"Type Multiplier\",\n",
    "        \"Replay Views\",\n",
    "        \"Live Views (Start - End)\",\n",
    "    ],\n",
    "    dtype={\n",
    "        \"Registration ID\": str,\n",
    "        \"Combat ID\": str,\n",
    "        \"Pokemon ID\": str,\n",
    "        \"Opponent Pokemon ID\": str,\n",
    "    },\n",
    ")\n",
    "\n",
    "combat_df.head()"
   ]
  },
  {
   "cell_type": "markdown",
   "id": "010543a0-2c2b-49b4-a019-d1a8e72d6854",
   "metadata": {},
   "source": [
    "The `Result` column is of random casing. Let's set the column values to a standardized casing, uppercase i."
   ]
  },
  {
   "cell_type": "code",
   "execution_count": 6,
   "id": "4982444f-27d0-417c-b4ff-ef00abd9aabe",
   "metadata": {},
   "outputs": [
    {
     "data": {
      "text/html": [
       "<div>\n",
       "<style scoped>\n",
       "    .dataframe tbody tr th:only-of-type {\n",
       "        vertical-align: middle;\n",
       "    }\n",
       "\n",
       "    .dataframe tbody tr th {\n",
       "        vertical-align: top;\n",
       "    }\n",
       "\n",
       "    .dataframe thead th {\n",
       "        text-align: right;\n",
       "    }\n",
       "</style>\n",
       "<table border=\"1\" class=\"dataframe\">\n",
       "  <thead>\n",
       "    <tr style=\"text-align: right;\">\n",
       "      <th></th>\n",
       "      <th>Registration ID</th>\n",
       "      <th>Combat ID</th>\n",
       "      <th>Pokemon ID</th>\n",
       "      <th>Opponent Pokemon ID</th>\n",
       "      <th>Result</th>\n",
       "      <th>Type Multiplier</th>\n",
       "      <th>Replay Views</th>\n",
       "      <th>Live Views (Start - End)</th>\n",
       "    </tr>\n",
       "  </thead>\n",
       "  <tbody>\n",
       "    <tr>\n",
       "      <th>0</th>\n",
       "      <td>1</td>\n",
       "      <td>1</td>\n",
       "      <td>266</td>\n",
       "      <td>298</td>\n",
       "      <td>LOSE</td>\n",
       "      <td>0.5</td>\n",
       "      <td>29629</td>\n",
       "      <td>15306;1664</td>\n",
       "    </tr>\n",
       "    <tr>\n",
       "      <th>1</th>\n",
       "      <td>2</td>\n",
       "      <td>1</td>\n",
       "      <td>298</td>\n",
       "      <td>266</td>\n",
       "      <td>WIN</td>\n",
       "      <td>1.0</td>\n",
       "      <td>109229</td>\n",
       "      <td>83732;75822</td>\n",
       "    </tr>\n",
       "    <tr>\n",
       "      <th>2</th>\n",
       "      <td>3</td>\n",
       "      <td>2</td>\n",
       "      <td>702</td>\n",
       "      <td>701</td>\n",
       "      <td>LOSE</td>\n",
       "      <td>2.0</td>\n",
       "      <td>27634</td>\n",
       "      <td>4533;2656</td>\n",
       "    </tr>\n",
       "    <tr>\n",
       "      <th>3</th>\n",
       "      <td>4</td>\n",
       "      <td>2</td>\n",
       "      <td>701</td>\n",
       "      <td>702</td>\n",
       "      <td>WIN</td>\n",
       "      <td>0.5</td>\n",
       "      <td>82359</td>\n",
       "      <td>9983;40424</td>\n",
       "    </tr>\n",
       "    <tr>\n",
       "      <th>4</th>\n",
       "      <td>5</td>\n",
       "      <td>3</td>\n",
       "      <td>191</td>\n",
       "      <td>668</td>\n",
       "      <td>LOSE</td>\n",
       "      <td>0.5</td>\n",
       "      <td>71664</td>\n",
       "      <td>54796;16377</td>\n",
       "    </tr>\n",
       "  </tbody>\n",
       "</table>\n",
       "</div>"
      ],
      "text/plain": [
       "  Registration ID Combat ID Pokemon ID Opponent Pokemon ID Result  \\\n",
       "0               1         1        266                 298   LOSE   \n",
       "1               2         1        298                 266    WIN   \n",
       "2               3         2        702                 701   LOSE   \n",
       "3               4         2        701                 702    WIN   \n",
       "4               5         3        191                 668   LOSE   \n",
       "\n",
       "   Type Multiplier  Replay Views Live Views (Start - End)  \n",
       "0              0.5         29629               15306;1664  \n",
       "1              1.0        109229              83732;75822  \n",
       "2              2.0         27634                4533;2656  \n",
       "3              0.5         82359               9983;40424  \n",
       "4              0.5         71664              54796;16377  "
      ]
     },
     "execution_count": 6,
     "metadata": {},
     "output_type": "execute_result"
    }
   ],
   "source": [
    "combat_df[\"Result\"] = combat_df[\"Result\"].str.upper()\n",
    "combat_df.head()"
   ]
  },
  {
   "cell_type": "markdown",
   "id": "b408b04d-c022-45d3-a69d-a3df289ff20b",
   "metadata": {},
   "source": [
    "I split the `Live Views (Start - End)` column by the delimiter `;` to get the viewership at the start and the end of the combat."
   ]
  },
  {
   "cell_type": "code",
   "execution_count": 7,
   "id": "1fc519db-75ce-43c1-83cd-a268be6551b2",
   "metadata": {},
   "outputs": [
    {
     "data": {
      "text/html": [
       "<div>\n",
       "<style scoped>\n",
       "    .dataframe tbody tr th:only-of-type {\n",
       "        vertical-align: middle;\n",
       "    }\n",
       "\n",
       "    .dataframe tbody tr th {\n",
       "        vertical-align: top;\n",
       "    }\n",
       "\n",
       "    .dataframe thead th {\n",
       "        text-align: right;\n",
       "    }\n",
       "</style>\n",
       "<table border=\"1\" class=\"dataframe\">\n",
       "  <thead>\n",
       "    <tr style=\"text-align: right;\">\n",
       "      <th></th>\n",
       "      <th>Registration ID</th>\n",
       "      <th>Combat ID</th>\n",
       "      <th>Pokemon ID</th>\n",
       "      <th>Opponent Pokemon ID</th>\n",
       "      <th>Result</th>\n",
       "      <th>Type Multiplier</th>\n",
       "      <th>Replay Views</th>\n",
       "      <th>Live Views (Start - End)</th>\n",
       "      <th>Live Views Start</th>\n",
       "      <th>Live Views End</th>\n",
       "    </tr>\n",
       "  </thead>\n",
       "  <tbody>\n",
       "    <tr>\n",
       "      <th>0</th>\n",
       "      <td>1</td>\n",
       "      <td>1</td>\n",
       "      <td>266</td>\n",
       "      <td>298</td>\n",
       "      <td>LOSE</td>\n",
       "      <td>0.5</td>\n",
       "      <td>29629</td>\n",
       "      <td>15306;1664</td>\n",
       "      <td>15306</td>\n",
       "      <td>1664</td>\n",
       "    </tr>\n",
       "    <tr>\n",
       "      <th>1</th>\n",
       "      <td>2</td>\n",
       "      <td>1</td>\n",
       "      <td>298</td>\n",
       "      <td>266</td>\n",
       "      <td>WIN</td>\n",
       "      <td>1.0</td>\n",
       "      <td>109229</td>\n",
       "      <td>83732;75822</td>\n",
       "      <td>83732</td>\n",
       "      <td>75822</td>\n",
       "    </tr>\n",
       "    <tr>\n",
       "      <th>2</th>\n",
       "      <td>3</td>\n",
       "      <td>2</td>\n",
       "      <td>702</td>\n",
       "      <td>701</td>\n",
       "      <td>LOSE</td>\n",
       "      <td>2.0</td>\n",
       "      <td>27634</td>\n",
       "      <td>4533;2656</td>\n",
       "      <td>4533</td>\n",
       "      <td>2656</td>\n",
       "    </tr>\n",
       "    <tr>\n",
       "      <th>3</th>\n",
       "      <td>4</td>\n",
       "      <td>2</td>\n",
       "      <td>701</td>\n",
       "      <td>702</td>\n",
       "      <td>WIN</td>\n",
       "      <td>0.5</td>\n",
       "      <td>82359</td>\n",
       "      <td>9983;40424</td>\n",
       "      <td>9983</td>\n",
       "      <td>40424</td>\n",
       "    </tr>\n",
       "    <tr>\n",
       "      <th>4</th>\n",
       "      <td>5</td>\n",
       "      <td>3</td>\n",
       "      <td>191</td>\n",
       "      <td>668</td>\n",
       "      <td>LOSE</td>\n",
       "      <td>0.5</td>\n",
       "      <td>71664</td>\n",
       "      <td>54796;16377</td>\n",
       "      <td>54796</td>\n",
       "      <td>16377</td>\n",
       "    </tr>\n",
       "  </tbody>\n",
       "</table>\n",
       "</div>"
      ],
      "text/plain": [
       "  Registration ID Combat ID Pokemon ID Opponent Pokemon ID Result  \\\n",
       "0               1         1        266                 298   LOSE   \n",
       "1               2         1        298                 266    WIN   \n",
       "2               3         2        702                 701   LOSE   \n",
       "3               4         2        701                 702    WIN   \n",
       "4               5         3        191                 668   LOSE   \n",
       "\n",
       "   Type Multiplier  Replay Views Live Views (Start - End)  Live Views Start  \\\n",
       "0              0.5         29629               15306;1664             15306   \n",
       "1              1.0        109229              83732;75822             83732   \n",
       "2              2.0         27634                4533;2656              4533   \n",
       "3              0.5         82359               9983;40424              9983   \n",
       "4              0.5         71664              54796;16377             54796   \n",
       "\n",
       "   Live Views End  \n",
       "0            1664  \n",
       "1           75822  \n",
       "2            2656  \n",
       "3           40424  \n",
       "4           16377  "
      ]
     },
     "execution_count": 7,
     "metadata": {},
     "output_type": "execute_result"
    }
   ],
   "source": [
    "combat_df[[\"Live Views Start\", \"Live Views End\"]] = combat_df[\n",
    "    \"Live Views (Start - End)\"\n",
    "].str.split(\";\", n=1, expand=True)\n",
    "combat_df[[\"Live Views Start\", \"Live Views End\"]] = combat_df[\n",
    "    [\"Live Views Start\", \"Live Views End\"]\n",
    "].astype(int)\n",
    "\n",
    "combat_df.head()"
   ]
  },
  {
   "cell_type": "markdown",
   "id": "33ec5580-f09f-4586-8cc2-eba51fb35371",
   "metadata": {},
   "source": [
    "Using Pandas, I will compute the rate of change in views from the start to the end of the battle. This could also be done in the cube using Atoti's aggregation functions. However, as these statistics at the granular level will not change, computing it before loading into the cube will save some computation resources at query time (Atoti computes on the fly)."
   ]
  },
  {
   "cell_type": "code",
   "execution_count": 8,
   "id": "b8862370-5f4b-461a-bbf4-a3be444967d0",
   "metadata": {},
   "outputs": [
    {
     "data": {
      "text/html": [
       "<div>\n",
       "<style scoped>\n",
       "    .dataframe tbody tr th:only-of-type {\n",
       "        vertical-align: middle;\n",
       "    }\n",
       "\n",
       "    .dataframe tbody tr th {\n",
       "        vertical-align: top;\n",
       "    }\n",
       "\n",
       "    .dataframe thead th {\n",
       "        text-align: right;\n",
       "    }\n",
       "</style>\n",
       "<table border=\"1\" class=\"dataframe\">\n",
       "  <thead>\n",
       "    <tr style=\"text-align: right;\">\n",
       "      <th></th>\n",
       "      <th>Registration ID</th>\n",
       "      <th>Combat ID</th>\n",
       "      <th>Pokemon ID</th>\n",
       "      <th>Opponent Pokemon ID</th>\n",
       "      <th>Result</th>\n",
       "      <th>Type Multiplier</th>\n",
       "      <th>Replay Views</th>\n",
       "      <th>Live Views (Start - End)</th>\n",
       "      <th>Live Views Start</th>\n",
       "      <th>Live Views End</th>\n",
       "      <th>Live Views Change</th>\n",
       "    </tr>\n",
       "  </thead>\n",
       "  <tbody>\n",
       "    <tr>\n",
       "      <th>0</th>\n",
       "      <td>1</td>\n",
       "      <td>1</td>\n",
       "      <td>266</td>\n",
       "      <td>298</td>\n",
       "      <td>LOSE</td>\n",
       "      <td>0.5</td>\n",
       "      <td>29629</td>\n",
       "      <td>15306;1664</td>\n",
       "      <td>15306</td>\n",
       "      <td>1664</td>\n",
       "      <td>-0.891284</td>\n",
       "    </tr>\n",
       "    <tr>\n",
       "      <th>1</th>\n",
       "      <td>2</td>\n",
       "      <td>1</td>\n",
       "      <td>298</td>\n",
       "      <td>266</td>\n",
       "      <td>WIN</td>\n",
       "      <td>1.0</td>\n",
       "      <td>109229</td>\n",
       "      <td>83732;75822</td>\n",
       "      <td>83732</td>\n",
       "      <td>75822</td>\n",
       "      <td>-0.094468</td>\n",
       "    </tr>\n",
       "    <tr>\n",
       "      <th>2</th>\n",
       "      <td>3</td>\n",
       "      <td>2</td>\n",
       "      <td>702</td>\n",
       "      <td>701</td>\n",
       "      <td>LOSE</td>\n",
       "      <td>2.0</td>\n",
       "      <td>27634</td>\n",
       "      <td>4533;2656</td>\n",
       "      <td>4533</td>\n",
       "      <td>2656</td>\n",
       "      <td>-0.414075</td>\n",
       "    </tr>\n",
       "    <tr>\n",
       "      <th>3</th>\n",
       "      <td>4</td>\n",
       "      <td>2</td>\n",
       "      <td>701</td>\n",
       "      <td>702</td>\n",
       "      <td>WIN</td>\n",
       "      <td>0.5</td>\n",
       "      <td>82359</td>\n",
       "      <td>9983;40424</td>\n",
       "      <td>9983</td>\n",
       "      <td>40424</td>\n",
       "      <td>3.049284</td>\n",
       "    </tr>\n",
       "    <tr>\n",
       "      <th>4</th>\n",
       "      <td>5</td>\n",
       "      <td>3</td>\n",
       "      <td>191</td>\n",
       "      <td>668</td>\n",
       "      <td>LOSE</td>\n",
       "      <td>0.5</td>\n",
       "      <td>71664</td>\n",
       "      <td>54796;16377</td>\n",
       "      <td>54796</td>\n",
       "      <td>16377</td>\n",
       "      <td>-0.701128</td>\n",
       "    </tr>\n",
       "  </tbody>\n",
       "</table>\n",
       "</div>"
      ],
      "text/plain": [
       "  Registration ID Combat ID Pokemon ID Opponent Pokemon ID Result  \\\n",
       "0               1         1        266                 298   LOSE   \n",
       "1               2         1        298                 266    WIN   \n",
       "2               3         2        702                 701   LOSE   \n",
       "3               4         2        701                 702    WIN   \n",
       "4               5         3        191                 668   LOSE   \n",
       "\n",
       "   Type Multiplier  Replay Views Live Views (Start - End)  Live Views Start  \\\n",
       "0              0.5         29629               15306;1664             15306   \n",
       "1              1.0        109229              83732;75822             83732   \n",
       "2              2.0         27634                4533;2656              4533   \n",
       "3              0.5         82359               9983;40424              9983   \n",
       "4              0.5         71664              54796;16377             54796   \n",
       "\n",
       "   Live Views End  Live Views Change  \n",
       "0            1664          -0.891284  \n",
       "1           75822          -0.094468  \n",
       "2            2656          -0.414075  \n",
       "3           40424           3.049284  \n",
       "4           16377          -0.701128  "
      ]
     },
     "execution_count": 8,
     "metadata": {},
     "output_type": "execute_result"
    }
   ],
   "source": [
    "combat_df[\"Live Views Change\"] = (\n",
    "    combat_df[\"Live Views End\"] - combat_df[\"Live Views Start\"]\n",
    ") / combat_df[\"Live Views Start\"]\n",
    "combat_df.head()"
   ]
  },
  {
   "cell_type": "markdown",
   "id": "8caa114f-cc72-4e98-b184-066175cdd467",
   "metadata": {},
   "source": [
    "Since I have the number of live views at the start and end of the battle, I will drop the column `Live Views (Start - End)`."
   ]
  },
  {
   "cell_type": "code",
   "execution_count": 9,
   "id": "683cf2e4-cc11-4acd-a2ac-23da970c1480",
   "metadata": {},
   "outputs": [],
   "source": [
    "combat_df.drop(columns=[\"Live Views (Start - End)\"], inplace=True)"
   ]
  },
  {
   "cell_type": "markdown",
   "id": "cdc184d8-99f0-4614-bdfc-38573f04174c",
   "metadata": {},
   "source": [
    "## 2. Datasets used for simulations  \n",
    "Later on in the use case, I will be performing some what-if simulations by modifying some data:\n",
    "- Number of tickets sold in `Combat info` dataset\n",
    "\n",
    "While Atoti is able to load CSV directly into its table, here I'm going to load the data into Pandas DataFrame first.  \n",
    "This is to facilitate data manipulation later on for the [source simulations](https://docs.atoti.io/latest/tutorial/tutorial.html#Source-simulation) at the end of the notebook.\n",
    "\n",
    "### 2.1 Combat info   \n",
    "\n",
    "This dataset gives the number of tickets sold for each combat and the date of the battle.  "
   ]
  },
  {
   "cell_type": "code",
   "execution_count": 10,
   "id": "f4c4df99-b6e6-495d-a6c7-a6a07932c13c",
   "metadata": {},
   "outputs": [
    {
     "data": {
      "text/html": [
       "<div>\n",
       "<style scoped>\n",
       "    .dataframe tbody tr th:only-of-type {\n",
       "        vertical-align: middle;\n",
       "    }\n",
       "\n",
       "    .dataframe tbody tr th {\n",
       "        vertical-align: top;\n",
       "    }\n",
       "\n",
       "    .dataframe thead th {\n",
       "        text-align: right;\n",
       "    }\n",
       "</style>\n",
       "<table border=\"1\" class=\"dataframe\">\n",
       "  <thead>\n",
       "    <tr style=\"text-align: right;\">\n",
       "      <th></th>\n",
       "      <th>Combat ID</th>\n",
       "      <th>Season</th>\n",
       "      <th>Location ID</th>\n",
       "      <th>Tickets Sold</th>\n",
       "      <th>Date</th>\n",
       "    </tr>\n",
       "  </thead>\n",
       "  <tbody>\n",
       "    <tr>\n",
       "      <th>0</th>\n",
       "      <td>1</td>\n",
       "      <td>1</td>\n",
       "      <td>1</td>\n",
       "      <td>1959</td>\n",
       "      <td>2253-02-18</td>\n",
       "    </tr>\n",
       "    <tr>\n",
       "      <th>1</th>\n",
       "      <td>2</td>\n",
       "      <td>1</td>\n",
       "      <td>2</td>\n",
       "      <td>1921</td>\n",
       "      <td>2253-02-18</td>\n",
       "    </tr>\n",
       "    <tr>\n",
       "      <th>2</th>\n",
       "      <td>3</td>\n",
       "      <td>1</td>\n",
       "      <td>3</td>\n",
       "      <td>1936</td>\n",
       "      <td>2253-02-18</td>\n",
       "    </tr>\n",
       "    <tr>\n",
       "      <th>3</th>\n",
       "      <td>4</td>\n",
       "      <td>1</td>\n",
       "      <td>4</td>\n",
       "      <td>1737</td>\n",
       "      <td>2253-02-18</td>\n",
       "    </tr>\n",
       "    <tr>\n",
       "      <th>4</th>\n",
       "      <td>5</td>\n",
       "      <td>1</td>\n",
       "      <td>5</td>\n",
       "      <td>1971</td>\n",
       "      <td>2253-02-18</td>\n",
       "    </tr>\n",
       "  </tbody>\n",
       "</table>\n",
       "</div>"
      ],
      "text/plain": [
       "  Combat ID Season Location ID  Tickets Sold        Date\n",
       "0         1      1           1          1959  2253-02-18\n",
       "1         2      1           2          1921  2253-02-18\n",
       "2         3      1           3          1936  2253-02-18\n",
       "3         4      1           4          1737  2253-02-18\n",
       "4         5      1           5          1971  2253-02-18"
      ]
     },
     "execution_count": 10,
     "metadata": {},
     "output_type": "execute_result"
    }
   ],
   "source": [
    "combat_info_df = pd.read_csv(\n",
    "    \"combatinfo (1).csv\",\n",
    "    dtype={\"Season\": str, \"Combat ID\": str, \"Location ID\": str},\n",
    ")\n",
    "combat_info_df[\"Date\"] = pd.to_datetime(\n",
    "    combat_info_df[\"Date\"], format=\"%d/%m/%Y\"\n",
    ").dt.date\n",
    "\n",
    "combat_info_df.head()"
   ]
  },
  {
   "cell_type": "markdown",
   "id": "2c2ca6ba-2121-4ffa-b391-553ce0ab6190",
   "metadata": {
    "tags": []
   },
   "source": [
    "## 3. Getting started with Atoti\n",
    "\n",
    "Now that I have cleaned up our data, I can get started with Atoti.  \n",
    "\n",
    "### 3.0 Switching between Atoti and Atoti Community Edition \n",
    "\n",
    "<img src=\"https://img.shields.io/badge/-Atoti%20CE-AF4D61\" /> 🔛 <img src=\"https://img.shields.io/badge/🔒-Atoti-291A40\" />  \n",
    "\n",
    "Switch from Atoti Community Edition to Atoti unlocked version by updating the below variable to `True`. "
   ]
  },
  {
   "cell_type": "code",
   "execution_count": 11,
   "id": "e729db46-bbe0-44c1-9343-c937fbb07539",
   "metadata": {},
   "outputs": [],
   "source": [
    "atoti_unlock = False"
   ]
  },
  {
   "cell_type": "markdown",
   "id": "48076916-b069-4ecd-82fa-cd465441edb3",
   "metadata": {},
   "source": [
    "By setting the above variable to `True`, we can leverage Atoti's locked feature to create customized widgets for the Atoti UI.  \n",
    "**If you don't have an Atoti license yet, [register online for a trial license](https://atoti.io/evaluation-license-request/) to [unlock all the features of Atoti](https://docs.atoti.io/latest/how_tos/unlock_all_features.html).**\n",
    "\n",
    "Setting the above variable to `False` will continue to use the Atoti Community Edition. No licensing setup is required..\n",
    "\n",
    "Below shows the configuration(s) required to register the custom widgets in this use case."
   ]
  },
  {
   "cell_type": "code",
   "execution_count": 12,
   "id": "9c042833-c7f6-49ca-a66e-c0a7987b098d",
   "metadata": {},
   "outputs": [],
   "source": [
    "plus_app_ext = (\n",
    "    # {\"@atoti/pokemon-extension\": \"./extensions/dist\"} if atoti_unlock else {}\n",
    "    {\"@atoti/pokemon-extension\": \"./ui/dist\"} if atoti_unlock else {}\n",
    ")"
   ]
  },
  {
   "cell_type": "code",
   "execution_count": 13,
   "id": "e665a100-59a9-4a39-8a23-6c1205dfc849",
   "metadata": {
    "tags": []
   },
   "outputs": [],
   "source": [
    "# from utils import build\n",
    "\n",
    "# if atoti_unlock:\n",
    "#     build.download_dist()"
   ]
  },
  {
   "cell_type": "markdown",
   "id": "7372fce1-5dcc-4942-9b95-cc78765bcc2b",
   "metadata": {},
   "source": [
    "Let's proceed with basic Atoti and proceed to create an Atoti session. "
   ]
  },
  {
   "cell_type": "markdown",
   "id": "019277b1-ebf1-426a-aa65-3677924f277a",
   "metadata": {},
   "source": [
    "### 3.1 Create Atoti session\n",
    "Using the [session configuration](https://docs.atoti.io/latest/lib/atoti.config.session_config.html#atoti.config.session_config.SessionConfig), I can:\n",
    "1. fix the `port` that will be used by the Atoti web application\n",
    "2. create `user_content_storage` to save our dashboards. Otherwise, dashboards will be stored in transient memory and will be gone when the session is gone."
   ]
  },
  {
   "cell_type": "code",
   "execution_count": 14,
   "id": "638b684d-e697-456a-a7d4-645759aafdf5",
   "metadata": {},
   "outputs": [],
   "source": [
    "session = tt.Session(\n",
    "    port=8080,\n",
    "    user_content_storage=\"./content\",\n",
    "    app_extensions=plus_app_ext,\n",
    "    java_options=[\"-Xms1G\", \"-Xmx12G\"],\n",
    ")"
   ]
  },
  {
   "cell_type": "markdown",
   "id": "26517c17-e20a-4807-88f5-5fc1a6eabf17",
   "metadata": {},
   "source": [
    "### 3.2 Create Atoti tables  \n",
    "\n",
    "Atoti can load data from a variety of datasources, such as CSV and Pandas Dataframe as demonstrated below."
   ]
  },
  {
   "cell_type": "code",
   "execution_count": 15,
   "id": "f2786aed-f104-41ee-bbda-d94fe5cdc955",
   "metadata": {},
   "outputs": [
    {
     "data": {
      "text/html": [
       "<div>\n",
       "<style scoped>\n",
       "    .dataframe tbody tr th:only-of-type {\n",
       "        vertical-align: middle;\n",
       "    }\n",
       "\n",
       "    .dataframe tbody tr th {\n",
       "        vertical-align: top;\n",
       "    }\n",
       "\n",
       "    .dataframe thead th {\n",
       "        text-align: right;\n",
       "    }\n",
       "</style>\n",
       "<table border=\"1\" class=\"dataframe\">\n",
       "  <thead>\n",
       "    <tr style=\"text-align: right;\">\n",
       "      <th></th>\n",
       "      <th>Pokemon Type</th>\n",
       "      <th>Opponent Pokemon Type</th>\n",
       "      <th>Registration ID</th>\n",
       "    </tr>\n",
       "    <tr>\n",
       "      <th>ID</th>\n",
       "      <th></th>\n",
       "      <th></th>\n",
       "      <th></th>\n",
       "    </tr>\n",
       "  </thead>\n",
       "  <tbody>\n",
       "    <tr>\n",
       "      <th>19001</th>\n",
       "      <td>Flying</td>\n",
       "      <td>Fire</td>\n",
       "      <td>10709</td>\n",
       "    </tr>\n",
       "    <tr>\n",
       "      <th>3</th>\n",
       "      <td>Normal</td>\n",
       "      <td>Bug</td>\n",
       "      <td>2</td>\n",
       "    </tr>\n",
       "    <tr>\n",
       "      <th>13769</th>\n",
       "      <td>Flying</td>\n",
       "      <td>Rock</td>\n",
       "      <td>7793</td>\n",
       "    </tr>\n",
       "  </tbody>\n",
       "</table>\n",
       "</div>"
      ],
      "text/plain": [
       "      Pokemon Type Opponent Pokemon Type Registration ID\n",
       "ID                                                      \n",
       "19001       Flying                  Fire           10709\n",
       "3           Normal                   Bug               2\n",
       "13769       Flying                  Rock            7793"
      ]
     },
     "execution_count": 15,
     "metadata": {},
     "output_type": "execute_result"
    }
   ],
   "source": [
    "type_t = session.read_csv(\n",
    "    \"s3://data.atoti.io/notebooks/pokemon/type_reg.csv\",\n",
    "    table_name=\"Types\",\n",
    "    keys=[\"ID\"],\n",
    "    types={\"ID\": tt.type.STRING, \"Registration ID\": tt.type.STRING},\n",
    ")\n",
    "\n",
    "type_t.head(3)"
   ]
  },
  {
   "cell_type": "code",
   "execution_count": 16,
   "id": "f0709bbd-c72a-4bb8-b7a4-348a009b437c",
   "metadata": {
    "tags": []
   },
   "outputs": [
    {
     "data": {
      "text/html": [
       "<div>\n",
       "<style scoped>\n",
       "    .dataframe tbody tr th:only-of-type {\n",
       "        vertical-align: middle;\n",
       "    }\n",
       "\n",
       "    .dataframe tbody tr th {\n",
       "        vertical-align: top;\n",
       "    }\n",
       "\n",
       "    .dataframe thead th {\n",
       "        text-align: right;\n",
       "    }\n",
       "</style>\n",
       "<table border=\"1\" class=\"dataframe\">\n",
       "  <thead>\n",
       "    <tr style=\"text-align: right;\">\n",
       "      <th></th>\n",
       "      <th>Combat ID</th>\n",
       "      <th>Pokemon ID</th>\n",
       "      <th>Opponent Pokemon ID</th>\n",
       "      <th>Result</th>\n",
       "      <th>Type Multiplier</th>\n",
       "      <th>Replay Views</th>\n",
       "      <th>Live Views Start</th>\n",
       "      <th>Live Views End</th>\n",
       "      <th>Live Views Change</th>\n",
       "    </tr>\n",
       "    <tr>\n",
       "      <th>Registration ID</th>\n",
       "      <th></th>\n",
       "      <th></th>\n",
       "      <th></th>\n",
       "      <th></th>\n",
       "      <th></th>\n",
       "      <th></th>\n",
       "      <th></th>\n",
       "      <th></th>\n",
       "      <th></th>\n",
       "    </tr>\n",
       "  </thead>\n",
       "  <tbody>\n",
       "    <tr>\n",
       "      <th>19</th>\n",
       "      <td>10</td>\n",
       "      <td>302</td>\n",
       "      <td>31</td>\n",
       "      <td>LOSE</td>\n",
       "      <td>1.0</td>\n",
       "      <td>66777</td>\n",
       "      <td>46798</td>\n",
       "      <td>38510</td>\n",
       "      <td>-0.177102</td>\n",
       "    </tr>\n",
       "    <tr>\n",
       "      <th>39</th>\n",
       "      <td>20</td>\n",
       "      <td>563</td>\n",
       "      <td>578</td>\n",
       "      <td>WIN</td>\n",
       "      <td>2.0</td>\n",
       "      <td>103339</td>\n",
       "      <td>60255</td>\n",
       "      <td>89631</td>\n",
       "      <td>0.487528</td>\n",
       "    </tr>\n",
       "    <tr>\n",
       "      <th>59</th>\n",
       "      <td>30</td>\n",
       "      <td>694</td>\n",
       "      <td>747</td>\n",
       "      <td>WIN</td>\n",
       "      <td>1.5</td>\n",
       "      <td>59205</td>\n",
       "      <td>15409</td>\n",
       "      <td>49521</td>\n",
       "      <td>2.213771</td>\n",
       "    </tr>\n",
       "  </tbody>\n",
       "</table>\n",
       "</div>"
      ],
      "text/plain": [
       "                Combat ID Pokemon ID Opponent Pokemon ID Result  \\\n",
       "Registration ID                                                   \n",
       "19                     10        302                  31   LOSE   \n",
       "39                     20        563                 578    WIN   \n",
       "59                     30        694                 747    WIN   \n",
       "\n",
       "                 Type Multiplier  Replay Views  Live Views Start  \\\n",
       "Registration ID                                                    \n",
       "19                           1.0         66777             46798   \n",
       "39                           2.0        103339             60255   \n",
       "59                           1.5         59205             15409   \n",
       "\n",
       "                 Live Views End  Live Views Change  \n",
       "Registration ID                                     \n",
       "19                        38510          -0.177102  \n",
       "39                        89631           0.487528  \n",
       "59                        49521           2.213771  "
      ]
     },
     "execution_count": 16,
     "metadata": {},
     "output_type": "execute_result"
    }
   ],
   "source": [
    "combat_t = session.read_pandas(\n",
    "    combat_df,\n",
    "    table_name=\"Combats\",\n",
    "    keys=[\"Registration ID\"],\n",
    "    types={\n",
    "        \"Replay Views\": tt.type.LONG,\n",
    "        \"Live Views Change\": tt.type.DOUBLE,\n",
    "        \"Live Views Start\": tt.type.LONG,\n",
    "        \"Live Views End\": tt.type.LONG,\n",
    "    },\n",
    ")\n",
    "\n",
    "combat_t.head(3)"
   ]
  },
  {
   "cell_type": "code",
   "execution_count": 17,
   "id": "1b15d782-f89d-421c-98dd-1f8f5117a806",
   "metadata": {},
   "outputs": [],
   "source": [
    "combat_info_t = session.read_pandas(\n",
    "    combat_info_df, table_name=\"Combat Info\", keys=[\"Combat ID\"]\n",
    ")"
   ]
  },
  {
   "cell_type": "markdown",
   "id": "f37affaf-77c1-40b1-879d-504292200c57",
   "metadata": {},
   "source": [
    "The location dataset gives detail to the location where the combats are held and the costs of hosting a battle."
   ]
  },
  {
   "cell_type": "code",
   "execution_count": 18,
   "id": "69f56c66-fa46-43be-93d7-d486dcf45084",
   "metadata": {},
   "outputs": [
    {
     "data": {
      "text/html": [
       "<div>\n",
       "<style scoped>\n",
       "    .dataframe tbody tr th:only-of-type {\n",
       "        vertical-align: middle;\n",
       "    }\n",
       "\n",
       "    .dataframe tbody tr th {\n",
       "        vertical-align: top;\n",
       "    }\n",
       "\n",
       "    .dataframe thead th {\n",
       "        text-align: right;\n",
       "    }\n",
       "</style>\n",
       "<table border=\"1\" class=\"dataframe\">\n",
       "  <thead>\n",
       "    <tr style=\"text-align: right;\">\n",
       "      <th></th>\n",
       "      <th>Region</th>\n",
       "      <th>Settlement</th>\n",
       "      <th>Stadium Cost</th>\n",
       "      <th>Ticket Price</th>\n",
       "      <th>Stadium Capacity</th>\n",
       "    </tr>\n",
       "    <tr>\n",
       "      <th>Location ID</th>\n",
       "      <th></th>\n",
       "      <th></th>\n",
       "      <th></th>\n",
       "      <th></th>\n",
       "      <th></th>\n",
       "    </tr>\n",
       "  </thead>\n",
       "  <tbody>\n",
       "    <tr>\n",
       "      <th>19</th>\n",
       "      <td>Johto</td>\n",
       "      <td>Safari Zone Gate</td>\n",
       "      <td>16000.0</td>\n",
       "      <td>15.0</td>\n",
       "      <td>2000</td>\n",
       "    </tr>\n",
       "    <tr>\n",
       "      <th>20</th>\n",
       "      <td>Kanto</td>\n",
       "      <td>Pallet Town</td>\n",
       "      <td>6000.0</td>\n",
       "      <td>10.0</td>\n",
       "      <td>2000</td>\n",
       "    </tr>\n",
       "    <tr>\n",
       "      <th>1</th>\n",
       "      <td>Alola</td>\n",
       "      <td>Iki Town</td>\n",
       "      <td>17000.0</td>\n",
       "      <td>15.0</td>\n",
       "      <td>2000</td>\n",
       "    </tr>\n",
       "  </tbody>\n",
       "</table>\n",
       "</div>"
      ],
      "text/plain": [
       "            Region        Settlement  Stadium Cost  Ticket Price  \\\n",
       "Location ID                                                        \n",
       "19           Johto  Safari Zone Gate       16000.0          15.0   \n",
       "20           Kanto       Pallet Town        6000.0          10.0   \n",
       "1            Alola          Iki Town       17000.0          15.0   \n",
       "\n",
       "             Stadium Capacity  \n",
       "Location ID                    \n",
       "19                       2000  \n",
       "20                       2000  \n",
       "1                        2000  "
      ]
     },
     "execution_count": 18,
     "metadata": {},
     "output_type": "execute_result"
    }
   ],
   "source": [
    "location_t = session.read_csv(\n",
    "    \"s3://data.atoti.io/notebooks/pokemon/locations.csv\",\n",
    "    table_name=\"Locations\",\n",
    "    keys=[\"Location ID\"],\n",
    "    types={\n",
    "        \"Location ID\": tt.type.STRING,\n",
    "        \"Stadium Cost\": tt.type.DOUBLE,\n",
    "        \"Ticket Price\": tt.type.DOUBLE,\n",
    "    },\n",
    ")\n",
    "\n",
    "location_t.head(3)"
   ]
  },
  {
   "cell_type": "markdown",
   "id": "2784f801-1917-4f04-aee4-0e8687d6691a",
   "metadata": {},
   "source": [
    "I will load the Pokémon stats dataset into 2 separate tables as:\n",
    "1. the battling Pokémon\n",
    "2. the opponent Pokémon (columns renamed)"
   ]
  },
  {
   "cell_type": "code",
   "execution_count": 19,
   "id": "0b7b93bd-6aae-4518-a7c5-b2d914518252",
   "metadata": {},
   "outputs": [
    {
     "data": {
      "text/html": [
       "<div>\n",
       "<style scoped>\n",
       "    .dataframe tbody tr th:only-of-type {\n",
       "        vertical-align: middle;\n",
       "    }\n",
       "\n",
       "    .dataframe tbody tr th {\n",
       "        vertical-align: top;\n",
       "    }\n",
       "\n",
       "    .dataframe thead th {\n",
       "        text-align: right;\n",
       "    }\n",
       "</style>\n",
       "<table border=\"1\" class=\"dataframe\">\n",
       "  <thead>\n",
       "    <tr style=\"text-align: right;\">\n",
       "      <th></th>\n",
       "      <th>Generation</th>\n",
       "      <th>Pokemon</th>\n",
       "      <th>Classification</th>\n",
       "      <th>Percentage Male</th>\n",
       "      <th>Percentage Female</th>\n",
       "      <th>Height</th>\n",
       "      <th>Weight</th>\n",
       "      <th>Capture Rate</th>\n",
       "      <th>Base Egg Steps</th>\n",
       "      <th>HP</th>\n",
       "      <th>Attack</th>\n",
       "      <th>Defense</th>\n",
       "      <th>SP Attack</th>\n",
       "      <th>SP Defense</th>\n",
       "      <th>Speed</th>\n",
       "      <th>(Sub)Legendary or Mythical</th>\n",
       "    </tr>\n",
       "    <tr>\n",
       "      <th>Pokedex</th>\n",
       "      <th></th>\n",
       "      <th></th>\n",
       "      <th></th>\n",
       "      <th></th>\n",
       "      <th></th>\n",
       "      <th></th>\n",
       "      <th></th>\n",
       "      <th></th>\n",
       "      <th></th>\n",
       "      <th></th>\n",
       "      <th></th>\n",
       "      <th></th>\n",
       "      <th></th>\n",
       "      <th></th>\n",
       "      <th></th>\n",
       "      <th></th>\n",
       "    </tr>\n",
       "  </thead>\n",
       "  <tbody>\n",
       "    <tr>\n",
       "      <th>19</th>\n",
       "      <td>I</td>\n",
       "      <td>Rattata</td>\n",
       "      <td>Mouse</td>\n",
       "      <td>50.0</td>\n",
       "      <td>50.0</td>\n",
       "      <td>0.3</td>\n",
       "      <td>3.5</td>\n",
       "      <td>255</td>\n",
       "      <td>3840</td>\n",
       "      <td>30</td>\n",
       "      <td>56</td>\n",
       "      <td>35</td>\n",
       "      <td>25</td>\n",
       "      <td>35</td>\n",
       "      <td>72</td>\n",
       "      <td>False</td>\n",
       "    </tr>\n",
       "    <tr>\n",
       "      <th>39</th>\n",
       "      <td>I</td>\n",
       "      <td>Jigglypuff</td>\n",
       "      <td>Balloon</td>\n",
       "      <td>24.9</td>\n",
       "      <td>75.1</td>\n",
       "      <td>0.5</td>\n",
       "      <td>5.5</td>\n",
       "      <td>170</td>\n",
       "      <td>2560</td>\n",
       "      <td>115</td>\n",
       "      <td>45</td>\n",
       "      <td>20</td>\n",
       "      <td>45</td>\n",
       "      <td>25</td>\n",
       "      <td>20</td>\n",
       "      <td>False</td>\n",
       "    </tr>\n",
       "    <tr>\n",
       "      <th>59</th>\n",
       "      <td>I</td>\n",
       "      <td>Arcanine</td>\n",
       "      <td>Legendary</td>\n",
       "      <td>75.49</td>\n",
       "      <td>24.51</td>\n",
       "      <td>1.9</td>\n",
       "      <td>155.0</td>\n",
       "      <td>75</td>\n",
       "      <td>5120</td>\n",
       "      <td>90</td>\n",
       "      <td>110</td>\n",
       "      <td>80</td>\n",
       "      <td>100</td>\n",
       "      <td>80</td>\n",
       "      <td>95</td>\n",
       "      <td>False</td>\n",
       "    </tr>\n",
       "  </tbody>\n",
       "</table>\n",
       "</div>"
      ],
      "text/plain": [
       "        Generation     Pokemon Classification  Percentage Male  \\\n",
       "Pokedex                                                          \n",
       "19               I     Rattata          Mouse             50.0   \n",
       "39               I  Jigglypuff        Balloon             24.9   \n",
       "59               I    Arcanine      Legendary            75.49   \n",
       "\n",
       "         Percentage Female  Height  Weight  Capture Rate  Base Egg Steps   HP  \\\n",
       "Pokedex                                                                         \n",
       "19                    50.0     0.3     3.5           255            3840   30   \n",
       "39                    75.1     0.5     5.5           170            2560  115   \n",
       "59                   24.51     1.9   155.0            75            5120   90   \n",
       "\n",
       "         Attack  Defense  SP Attack  SP Defense  Speed  \\\n",
       "Pokedex                                                  \n",
       "19           56       35         25          35     72   \n",
       "39           45       20         45          25     20   \n",
       "59          110       80        100          80     95   \n",
       "\n",
       "         (Sub)Legendary or Mythical  \n",
       "Pokedex                              \n",
       "19                            False  \n",
       "39                            False  \n",
       "59                            False  "
      ]
     },
     "execution_count": 19,
     "metadata": {},
     "output_type": "execute_result"
    }
   ],
   "source": [
    "pokemon_t = session.read_pandas(pokemon_df, table_name=\"Pokemon\", keys=[\"Pokedex\"])\n",
    "pokemon_t.head(3)"
   ]
  },
  {
   "cell_type": "code",
   "execution_count": 20,
   "id": "3bfa42e8-8dd6-4796-998a-bff4eda00cd6",
   "metadata": {},
   "outputs": [],
   "source": [
    "pokemon_df.columns = map(lambda n: \"Opponent \" + n, pokemon_df.columns)"
   ]
  },
  {
   "cell_type": "code",
   "execution_count": 21,
   "id": "919c752f-876c-41e9-8419-8ef4783ae0d5",
   "metadata": {},
   "outputs": [
    {
     "data": {
      "text/html": [
       "<div>\n",
       "<style scoped>\n",
       "    .dataframe tbody tr th:only-of-type {\n",
       "        vertical-align: middle;\n",
       "    }\n",
       "\n",
       "    .dataframe tbody tr th {\n",
       "        vertical-align: top;\n",
       "    }\n",
       "\n",
       "    .dataframe thead th {\n",
       "        text-align: right;\n",
       "    }\n",
       "</style>\n",
       "<table border=\"1\" class=\"dataframe\">\n",
       "  <thead>\n",
       "    <tr style=\"text-align: right;\">\n",
       "      <th></th>\n",
       "      <th>Opponent Generation</th>\n",
       "      <th>Opponent Pokemon</th>\n",
       "      <th>Opponent Classification</th>\n",
       "      <th>Opponent Percentage Male</th>\n",
       "      <th>Opponent Percentage Female</th>\n",
       "      <th>Opponent Height</th>\n",
       "      <th>Opponent Weight</th>\n",
       "      <th>Opponent Capture Rate</th>\n",
       "      <th>Opponent Base Egg Steps</th>\n",
       "      <th>Opponent HP</th>\n",
       "      <th>Opponent Attack</th>\n",
       "      <th>Opponent Defense</th>\n",
       "      <th>Opponent SP Attack</th>\n",
       "      <th>Opponent SP Defense</th>\n",
       "      <th>Opponent Speed</th>\n",
       "      <th>Opponent (Sub)Legendary or Mythical</th>\n",
       "    </tr>\n",
       "    <tr>\n",
       "      <th>Opponent Pokedex</th>\n",
       "      <th></th>\n",
       "      <th></th>\n",
       "      <th></th>\n",
       "      <th></th>\n",
       "      <th></th>\n",
       "      <th></th>\n",
       "      <th></th>\n",
       "      <th></th>\n",
       "      <th></th>\n",
       "      <th></th>\n",
       "      <th></th>\n",
       "      <th></th>\n",
       "      <th></th>\n",
       "      <th></th>\n",
       "      <th></th>\n",
       "      <th></th>\n",
       "    </tr>\n",
       "  </thead>\n",
       "  <tbody>\n",
       "    <tr>\n",
       "      <th>19</th>\n",
       "      <td>I</td>\n",
       "      <td>Rattata</td>\n",
       "      <td>Mouse</td>\n",
       "      <td>50.0</td>\n",
       "      <td>50.0</td>\n",
       "      <td>0.3</td>\n",
       "      <td>3.5</td>\n",
       "      <td>255</td>\n",
       "      <td>3840</td>\n",
       "      <td>30</td>\n",
       "      <td>56</td>\n",
       "      <td>35</td>\n",
       "      <td>25</td>\n",
       "      <td>35</td>\n",
       "      <td>72</td>\n",
       "      <td>False</td>\n",
       "    </tr>\n",
       "    <tr>\n",
       "      <th>39</th>\n",
       "      <td>I</td>\n",
       "      <td>Jigglypuff</td>\n",
       "      <td>Balloon</td>\n",
       "      <td>24.9</td>\n",
       "      <td>75.1</td>\n",
       "      <td>0.5</td>\n",
       "      <td>5.5</td>\n",
       "      <td>170</td>\n",
       "      <td>2560</td>\n",
       "      <td>115</td>\n",
       "      <td>45</td>\n",
       "      <td>20</td>\n",
       "      <td>45</td>\n",
       "      <td>25</td>\n",
       "      <td>20</td>\n",
       "      <td>False</td>\n",
       "    </tr>\n",
       "    <tr>\n",
       "      <th>59</th>\n",
       "      <td>I</td>\n",
       "      <td>Arcanine</td>\n",
       "      <td>Legendary</td>\n",
       "      <td>75.49</td>\n",
       "      <td>24.51</td>\n",
       "      <td>1.9</td>\n",
       "      <td>155.0</td>\n",
       "      <td>75</td>\n",
       "      <td>5120</td>\n",
       "      <td>90</td>\n",
       "      <td>110</td>\n",
       "      <td>80</td>\n",
       "      <td>100</td>\n",
       "      <td>80</td>\n",
       "      <td>95</td>\n",
       "      <td>False</td>\n",
       "    </tr>\n",
       "  </tbody>\n",
       "</table>\n",
       "</div>"
      ],
      "text/plain": [
       "                 Opponent Generation Opponent Pokemon Opponent Classification  \\\n",
       "Opponent Pokedex                                                                \n",
       "19                                 I          Rattata                   Mouse   \n",
       "39                                 I       Jigglypuff                 Balloon   \n",
       "59                                 I         Arcanine               Legendary   \n",
       "\n",
       "                  Opponent Percentage Male  Opponent Percentage Female  \\\n",
       "Opponent Pokedex                                                         \n",
       "19                                    50.0                        50.0   \n",
       "39                                    24.9                        75.1   \n",
       "59                                   75.49                       24.51   \n",
       "\n",
       "                  Opponent Height  Opponent Weight  Opponent Capture Rate  \\\n",
       "Opponent Pokedex                                                            \n",
       "19                            0.3              3.5                    255   \n",
       "39                            0.5              5.5                    170   \n",
       "59                            1.9            155.0                     75   \n",
       "\n",
       "                  Opponent Base Egg Steps  Opponent HP  Opponent Attack  \\\n",
       "Opponent Pokedex                                                          \n",
       "19                                   3840           30               56   \n",
       "39                                   2560          115               45   \n",
       "59                                   5120           90              110   \n",
       "\n",
       "                  Opponent Defense  Opponent SP Attack  Opponent SP Defense  \\\n",
       "Opponent Pokedex                                                              \n",
       "19                              35                  25                   35   \n",
       "39                              20                  45                   25   \n",
       "59                              80                 100                   80   \n",
       "\n",
       "                  Opponent Speed  Opponent (Sub)Legendary or Mythical  \n",
       "Opponent Pokedex                                                       \n",
       "19                            72                                False  \n",
       "39                            20                                False  \n",
       "59                            95                                False  "
      ]
     },
     "execution_count": 21,
     "metadata": {},
     "output_type": "execute_result"
    }
   ],
   "source": [
    "o_pokemon_t = session.read_pandas(\n",
    "    pokemon_df, table_name=\"Opponent Pokemon\", keys=[\"Opponent Pokedex\"]\n",
    ")\n",
    "o_pokemon_t.head(3)"
   ]
  },
  {
   "cell_type": "markdown",
   "id": "9db41f8f-a52d-4332-8542-a8634cd49986",
   "metadata": {},
   "source": [
    "### 3.3 Create multidimensional data cube  \n",
    "\n",
    "Choose the data table with the most granular level data to be the base table for cube creation."
   ]
  },
  {
   "cell_type": "code",
   "execution_count": 22,
   "id": "3af09580-c773-48b8-904a-6ecc2b70b206",
   "metadata": {},
   "outputs": [],
   "source": [
    "cube_name = \"Pokemon battles\"\n",
    "cube = session.create_cube(type_t, name=cube_name)"
   ]
  },
  {
   "cell_type": "markdown",
   "id": "8ecbcc38-24ea-47ee-9126-2137ea5a1391",
   "metadata": {},
   "source": [
    "### 3.4 Join referenced tables\n",
    "\n",
    "I create joins between tables as show below. It is not necessary to specify the joining conditions explicity if the column names are matching.  \n",
    "Atoti automatically infers the conditional joins based on the common column names between the tables."
   ]
  },
  {
   "cell_type": "code",
   "execution_count": 23,
   "id": "ae94d920-388c-4209-9f1e-32a1a42371e5",
   "metadata": {},
   "outputs": [],
   "source": [
    "type_t.join(combat_t, type_t[\"Registration ID\"] == combat_t[\"Registration ID\"])\n",
    "combat_t.join(pokemon_t, combat_t[\"Pokemon ID\"] == pokemon_t[\"Pokedex\"])\n",
    "combat_t.join(\n",
    "    o_pokemon_t, combat_t[\"Opponent Pokemon ID\"] == o_pokemon_t[\"Opponent Pokedex\"]\n",
    ")\n",
    "combat_t.join(combat_info_t, combat_t[\"Combat ID\"] == combat_info_t[\"Combat ID\"])\n",
    "combat_info_t.join(\n",
    "    location_t, combat_info_t[\"Location ID\"] == location_t[\"Location ID\"]\n",
    ")"
   ]
  },
  {
   "cell_type": "code",
   "execution_count": null,
   "id": "00f66662-a0a6-4308-b8bd-6e23e960667c",
   "metadata": {},
   "outputs": [],
   "source": [
    "session.tables.schema"
   ]
  },
  {
   "cell_type": "markdown",
   "id": "7b50029a-8d46-4694-8ef3-743e18c93c6f",
   "metadata": {},
   "source": [
    "## 4. Cube manipulation \n",
    "\n",
    "Aliasing the cube attributes makes it easier to work with during measure creations and hierarchy manipulations."
   ]
  },
  {
   "cell_type": "code",
   "execution_count": null,
   "id": "43cb9fc7-dabe-4564-9faa-3c263ec0086c",
   "metadata": {},
   "outputs": [],
   "source": [
    "h, m, l = cube.hierarchies, cube.measures, cube.levels"
   ]
  },
  {
   "cell_type": "code",
   "execution_count": null,
   "id": "fdc10e2d-1a93-48c1-885d-cf98ff37acd6",
   "metadata": {
    "tags": []
   },
   "outputs": [],
   "source": [
    "h"
   ]
  },
  {
   "cell_type": "code",
   "execution_count": null,
   "id": "f3f32f26-7ab6-46eb-8931-d83be1da9c55",
   "metadata": {},
   "outputs": [],
   "source": [
    "m"
   ]
  },
  {
   "cell_type": "markdown",
   "id": "af5bd199-9976-4af9-8ae8-fe04deadc18e",
   "metadata": {
    "tags": []
   },
   "source": [
    "### 4.1 Hierarchy manipulation\n",
    "\n",
    "Here I am going to clean up the hierarchies automatically created that I don't need, and create others.  \n",
    "__Note:__ I can also [create the cube in `manual` mode](https://docs.atoti.io/latest/lib/atoti.session.html#atoti.session.Session.create_cube) if I prefer to create all measures and hierarchies manually."
   ]
  },
  {
   "cell_type": "markdown",
   "id": "35c23a1b-2a7e-43a0-b293-51260cc5a5e5",
   "metadata": {},
   "source": [
    "#### 4.1.1 Create multilevels hierarchy"
   ]
  },
  {
   "cell_type": "code",
   "execution_count": null,
   "id": "30f966b7-223a-4a66-8ca2-44407aea4946",
   "metadata": {
    "tags": []
   },
   "outputs": [],
   "source": [
    "h[\"Location\"] = [l[\"Region\"], l[\"Settlement\"]]"
   ]
  },
  {
   "cell_type": "markdown",
   "id": "5e0b8e2b-188a-4ea2-9869-95e9e5086a51",
   "metadata": {},
   "source": [
    "#### 4.1.2 Reassign dimensions "
   ]
  },
  {
   "cell_type": "code",
   "execution_count": null,
   "id": "f7a174da-d195-4479-80a4-4f655705aa14",
   "metadata": {},
   "outputs": [],
   "source": [
    "h[\"Date\"].dimension = \"Time\"\n",
    "h[\"Season\"].dimension = \"Time\"\n",
    "h[\"Pokemon Type\"].dimension = \"Pokemon\"\n",
    "h[\"Opponent Pokemon Type\"].dimension = \"Opponent Pokemon\"\n",
    "h[\"Result\"].dimension = \"Win-Lose\"\n",
    "h[\"Location\"].dimension = \"Location\""
   ]
  },
  {
   "cell_type": "markdown",
   "id": "3d0c4ef0-f102-46a4-8d29-4672e830cc6b",
   "metadata": {
    "tags": []
   },
   "source": [
    "#### 4.1.3 Create date hierarchy from date column"
   ]
  },
  {
   "cell_type": "code",
   "execution_count": null,
   "id": "dd819d5a-c337-42ed-b0b3-2b999a297e1f",
   "metadata": {},
   "outputs": [],
   "source": [
    "cube.create_date_hierarchy(\n",
    "    \"Date\",\n",
    "    column=combat_info_t[\"Date\"],\n",
    "    levels={\"Year\": \"yyyy\", \"Month\": \"MMM\", \"Day\": \"dd\"},\n",
    ")"
   ]
  },
  {
   "cell_type": "code",
   "execution_count": null,
   "id": "0215c07b-ad7a-49d8-9799-818c64fcadfc",
   "metadata": {
    "atoti": {
     "height": 291,
     "widget": {
      "mapping": {
       "columns": [
        "ALL_MEASURES"
       ],
       "measures": [
        "[Measures].[contributors.COUNT]"
       ],
       "rows": [
        "[Combat Info].[Date].[Year] => [Combat Info].[Date].[Day]"
       ]
      },
      "query": {
       "mdx": "SELECT NON EMPTY Hierarchize(Union(Descendants({[Combat Info].[Date].[AllMember]}, 1, SELF_AND_BEFORE), Descendants({[Combat Info].[Date].[AllMember].[N/A]}, [Combat Info].[Date].[Month]), Descendants({[Combat Info].[Date].[AllMember].[N/A].[N/A]}, [Combat Info].[Date].[Day]), Descendants({[Combat Info].[Date].[AllMember].[2253]}, [Combat Info].[Date].[Month]), Descendants({[Combat Info].[Date].[AllMember].[2253].[Feb]}, [Combat Info].[Date].[Day]))) ON ROWS, NON EMPTY {[Measures].[contributors.COUNT]} ON COLUMNS FROM [Pokemon battles] CELL PROPERTIES VALUE, FORMATTED_VALUE, BACK_COLOR, FORE_COLOR, FONT_FLAGS",
       "updateMode": "once"
      },
      "serverKey": "default",
      "widgetKey": "pivot-table"
     }
    },
    "tags": []
   },
   "outputs": [],
   "source": [
    "session.visualize()"
   ]
  },
  {
   "cell_type": "markdown",
   "id": "0e5edaa9-22f7-4ddf-811c-1988721e11e8",
   "metadata": {},
   "source": [
    "#### 4.1.4 Sort members of a level\n",
    "\n",
    "Using [Atoti comparators](https://docs.atoti.io/latest/lib/atoti.comparator.html#atoti.comparator.Comparator), I can order the members of a level in ascending, descending or a given order."
   ]
  },
  {
   "cell_type": "code",
   "execution_count": null,
   "id": "85827de0-5647-4e43-b803-a3a88460eaf0",
   "metadata": {},
   "outputs": [],
   "source": [
    "l[\"Result\"].order = tt.CustomOrder(first_elements=[\"WIN\", \"LOSE\"])"
   ]
  },
  {
   "cell_type": "markdown",
   "id": "62059318-b9cb-4d13-9f5a-b272f90913e9",
   "metadata": {},
   "source": [
    "Ordering the Pokémon types by the standard:"
   ]
  },
  {
   "cell_type": "code",
   "execution_count": null,
   "id": "7e567203-1c6d-458c-95d4-cc5f91fc4c62",
   "metadata": {},
   "outputs": [],
   "source": [
    "order_list = [\n",
    "    \"Normal\",\n",
    "    \"Fire\",\n",
    "    \"Water\",\n",
    "    \"Electric\",\n",
    "    \"Grass\",\n",
    "    \"Ice\",\n",
    "    \"Fighting\",\n",
    "    \"Poison\",\n",
    "    \"Ground\",\n",
    "    \"Flying\",\n",
    "    \"Psychic\",\n",
    "    \"Bug\",\n",
    "    \"Rock\",\n",
    "    \"Ghost\",\n",
    "    \"Dragon\",\n",
    "    \"Dark\",\n",
    "    \"Steel\",\n",
    "    \"Fairy\",\n",
    "]\n",
    "\n",
    "l[\"Pokemon Type\"].order = tt.CustomOrder(first_elements=order_list)\n",
    "l[\"Opponent Pokemon Type\"].order = tt.CustomOrder(first_elements=order_list)"
   ]
  },
  {
   "cell_type": "code",
   "execution_count": null,
   "id": "e4a409c6-6bbf-47f6-8d1f-0590c79f2ff9",
   "metadata": {
    "atoti": {
     "widget": {
      "columnWidths": {
       "[Pokemon].[Pokemon Type].[Pokemon Type]": 102,
       "[Win-Lose].[Result].[Result]": 56
      },
      "mapping": {
       "columns": [
        "ALL_MEASURES",
        "[Opponent Pokemon].[Opponent Pokemon Type].[Opponent Pokemon Type]"
       ],
       "measures": [
        "[Measures].[contributors.COUNT]"
       ],
       "rows": [
        "[Pokemon].[Pokemon Type].[Pokemon Type] => [Win-Lose].[Result].[Result]"
       ]
      },
      "query": {
       "mdx": "SELECT NON EMPTY Hierarchize(Union(Crossjoin(Descendants({[Pokemon].[Pokemon Type].[AllMember]}, 1, SELF_AND_BEFORE), [Win-Lose].[Result].DefaultMember), Crossjoin([Pokemon].[Pokemon Type].[AllMember].[Normal], Hierarchize(Descendants({[Win-Lose].[Result].[AllMember]}, 1, SELF_AND_BEFORE))))) ON ROWS, NON EMPTY Crossjoin({[Measures].[contributors.COUNT]}, Hierarchize(Descendants({[Opponent Pokemon].[Opponent Pokemon Type].[AllMember]}, 1, SELF_AND_BEFORE))) ON COLUMNS FROM [Pokemon battles] CELL PROPERTIES VALUE, FORMATTED_VALUE, BACK_COLOR, FORE_COLOR, FONT_FLAGS",
       "updateMode": "once"
      },
      "serverKey": "default",
      "widgetKey": "pivot-table"
     }
    },
    "tags": []
   },
   "outputs": [],
   "source": [
    "session.visualize(\"Sorted members for Pokemon Type level\")"
   ]
  },
  {
   "cell_type": "markdown",
   "id": "f760925b-f5c7-443d-abe1-7e5592b78c87",
   "metadata": {},
   "source": [
    "#### 4.1.5 Delete hierarchies"
   ]
  },
  {
   "cell_type": "code",
   "execution_count": null,
   "id": "ff67c1d9-de5f-433b-bfb3-864c380819f5",
   "metadata": {},
   "outputs": [],
   "source": [
    "del h[\"Opponent Pokemon ID\"]\n",
    "del h[\"Opponent Classification\"]\n",
    "del h[\"Opponent Generation\"]\n",
    "\n",
    "del h[\"Region\"]\n",
    "del h[\"Settlement\"]"
   ]
  },
  {
   "cell_type": "markdown",
   "id": "11f9fa22-d0ba-4ffd-af00-e25aa368cfb3",
   "metadata": {},
   "source": [
    "#### 4.1.6 Hide hierarchies\n",
    "\n",
    "These are some hierarchies needed for measures later on that do not need to be visible."
   ]
  },
  {
   "cell_type": "code",
   "execution_count": null,
   "id": "7a8ed41c-95cf-4e8e-81c4-e51548effaef",
   "metadata": {},
   "outputs": [],
   "source": [
    "h[\"ID\"].visible = False\n",
    "h[\"ID\"].dimension = \"Hidden\"\n",
    "h[\"Registration ID\"].visible = False\n",
    "h[\"Registration ID\"].dimension = \"Hidden\"\n",
    "h[\"Combat ID\"].visible = False\n",
    "h[\"Combat ID\"].dimension = \"Hidden\"\n",
    "h[\"Location ID\"].visible = False\n",
    "h[\"Location ID\"].dimension = \"Hidden\"\n",
    "h[\"Pokemon ID\"].visible = False\n",
    "h[\"Pokemon ID\"].dimension = \"Hidden\""
   ]
  },
  {
   "cell_type": "code",
   "execution_count": null,
   "id": "5da9421d-f523-402a-99ff-70c48d5e326a",
   "metadata": {},
   "outputs": [],
   "source": [
    "h"
   ]
  },
  {
   "cell_type": "markdown",
   "id": "d2c04de7-c480-4932-8fde-f1dd99b9494e",
   "metadata": {
    "tags": []
   },
   "source": [
    "### 4.2 Measures manipulation\n",
    "\n",
    "Atoti has many [aggregation functions](https://docs.atoti.io/latest/lib/atoti.agg.html#module-atoti.agg) available. Next, I'll be using them to [create new measures](https://docs.atoti.io/latest/tutorial/tutorial.html#New-measures). "
   ]
  },
  {
   "cell_type": "markdown",
   "id": "0e43d895-2c14-4f3f-8da6-bdb49a65d52e",
   "metadata": {},
   "source": [
    "#### 4.2.1 Measures creation"
   ]
  },
  {
   "cell_type": "markdown",
   "id": "1e609952-eba0-411d-94f9-34b747f7e691",
   "metadata": {},
   "source": [
    "*__Data stats related measures__*  \n",
    "Below are some measures that gives overall info about the dataset.  "
   ]
  },
  {
   "cell_type": "code",
   "execution_count": null,
   "id": "c79af52c-1e6b-4132-8614-9b429f5313b1",
   "metadata": {},
   "outputs": [],
   "source": [
    "m[\"No. of Matches\"] = tt.agg.count_distinct(combat_t[\"Combat ID\"])\n",
    "m[\"No. of Pokemon\"] = tt.agg.count_distinct(pokemon_t[\"Pokedex\"])\n",
    "m[\"No. of Regions\"] = tt.agg.count_distinct(location_t[\"Region\"])\n",
    "m[\"No. of Locations\"] = tt.agg.count_distinct(location_t[\"Location ID\"])\n",
    "m[\"No. of Seasons\"] = tt.agg.count_distinct(combat_info_t[\"Season\"])\n",
    "m[\"No. of Days\"] = tt.agg.count_distinct(combat_info_t[\"Date\"])"
   ]
  },
  {
   "cell_type": "markdown",
   "id": "9704beed-0acd-49b7-a14f-e6a689a8025a",
   "metadata": {},
   "source": [
    "After creating those measures, I get a nice overall view of the dataset like this:"
   ]
  },
  {
   "cell_type": "code",
   "execution_count": null,
   "id": "a4aaf797-81f5-497b-9d07-424b60043743",
   "metadata": {
    "atoti": {
     "height": 143,
     "widget": {
      "mapping": {
       "columns": [],
       "measures": [
        "[Measures].[contributors.COUNT]",
        "[Measures].[No. of Matches]",
        "[Measures].[No. of Pokemon]",
        "[Measures].[No. of Locations]",
        "[Measures].[No. of Regions]",
        "[Measures].[No. of Seasons]",
        "[Measures].[No. of Days]"
       ],
       "rows": []
      },
      "query": {
       "mdx": "SELECT NON EMPTY {[Measures].[contributors.COUNT], [Measures].[No. of Matches], [Measures].[No. of Pokemon], [Measures].[No. of Locations], [Measures].[No. of Regions], [Measures].[No. of Seasons], [Measures].[No. of Days]} ON COLUMNS FROM [Pokemon battles] CELL PROPERTIES VALUE, FORMATTED_VALUE, BACK_COLOR, FORE_COLOR, FONT_FLAGS",
       "updateMode": "once"
      },
      "serverKey": "default",
      "widgetKey": "kpi"
     }
    },
    "tags": []
   },
   "outputs": [],
   "source": [
    "session.visualize(\"Overview of Data\")"
   ]
  },
  {
   "cell_type": "markdown",
   "id": "23aee781-f1e1-439a-82c6-05b01aef3bf5",
   "metadata": {},
   "source": [
    "`contributors.COUNT` is created automatically when the cube is created. It gives the number of facts contributing to the query.  \n",
    "As we can see, there are 50k unique matches involving 784 Pokémon out of the 177k records, spanning across 500 days."
   ]
  },
  {
   "cell_type": "code",
   "execution_count": null,
   "id": "46a5f0a2-0980-4e82-9dc7-49b8900acb83",
   "metadata": {
    "atoti": {
     "widget": {
      "mapping": {
       "horizontalSubplots": [],
       "splitBy": [
        "[Combat Info].[Date].[Year]"
       ],
       "values": [
        "[Measures].[No. of Matches]"
       ],
       "verticalSubplots": [],
       "xAxis": [
        "[Combat Info].[Date].[Month]"
       ]
      },
      "name": "No. of Matches Held Over Seasons",
      "query": {
       "mdx": "SELECT NON EMPTY Crossjoin(Hierarchize(Descendants({[Combat Info].[Date].[AllMember]}, 2, SELF_AND_BEFORE)), {[Measures].[No. of Matches]}) ON COLUMNS FROM [Pokemon battles] CELL PROPERTIES VALUE, FORMATTED_VALUE, BACK_COLOR, FORE_COLOR, FONT_FLAGS",
       "updateMode": "once"
      },
      "serverKey": "default",
      "switchedTo": "plotly-stacked-column-chart",
      "widgetKey": "plotly-clustered-column-chart"
     }
    },
    "tags": []
   },
   "outputs": [],
   "source": [
    "session.visualize(\"No. of Matches Held Over Seasons\")"
   ]
  },
  {
   "cell_type": "markdown",
   "id": "f2c7ecfd-9fc0-4a70-b8a6-274550a203c1",
   "metadata": {},
   "source": [
    "*__Battle results related measures__*  \n",
    "\n",
    "Here I am creating the measures revolving around win/lose stats."
   ]
  },
  {
   "cell_type": "code",
   "execution_count": null,
   "id": "54483a13-531a-481e-b8e8-77dae9764f1f",
   "metadata": {},
   "outputs": [],
   "source": [
    "m[\"Win\"] = tt.where(\n",
    "    tt.filter(m[\"No. of Matches\"], l[\"Result\"] == \"WIN\").isnull(),\n",
    "    0,\n",
    "    tt.filter(m[\"No. of Matches\"], l[\"Result\"] == \"WIN\"),\n",
    ")\n",
    "\n",
    "m[\"Lose\"] = tt.where(\n",
    "    tt.filter(m[\"No. of Matches\"], l[\"Result\"] == \"LOSE\").isnull(),\n",
    "    0,\n",
    "    tt.filter(m[\"No. of Matches\"], l[\"Result\"] == \"LOSE\"),\n",
    ")"
   ]
  },
  {
   "cell_type": "code",
   "execution_count": null,
   "id": "bfcb016a-727f-410e-aa60-e9a84048b7e1",
   "metadata": {},
   "outputs": [],
   "source": [
    "m[\"Win Rate\"] = m[\"Win\"] / (m[\"Win\"] + m[\"Lose\"])\n",
    "m[\"Win Rate\"].formatter = \"DOUBLE[0.00%]\""
   ]
  },
  {
   "cell_type": "markdown",
   "id": "4ffc7dc2-3f03-4e95-b53f-ac256d2620bb",
   "metadata": {},
   "source": [
    "With the Win Rate measure, we can take a look at the win rate for each Pokémon type:"
   ]
  },
  {
   "cell_type": "code",
   "execution_count": null,
   "id": "1ccbc1ed-5f8a-41ee-8e8f-d6ad2b285da0",
   "metadata": {
    "atoti": {
     "widget": {
      "mapping": {
       "horizontalSubplots": [],
       "splitBy": [
        "ALL_MEASURES"
       ],
       "values": [
        "[Measures].[Win Rate]"
       ],
       "verticalSubplots": [],
       "xAxis": [
        "[Pokemon].[Pokemon Type].[Pokemon Type]"
       ]
      },
      "name": "Overall Win Rate Against Opponent Type",
      "query": {
       "mdx": "SELECT NON EMPTY Hierarchize(Descendants({[Pokemon].[Pokemon Type].[AllMember]}, 1, SELF_AND_BEFORE)) ON ROWS, NON EMPTY {[Measures].[Win Rate]} ON COLUMNS FROM [Pokemon battles] CELL PROPERTIES VALUE, FORMATTED_VALUE, BACK_COLOR, FORE_COLOR, FONT_FLAGS",
       "updateMode": "once"
      },
      "serverKey": "default",
      "widgetKey": "plotly-line-chart"
     }
    },
    "tags": []
   },
   "outputs": [],
   "source": [
    "session.visualize(\"Win Rate For Each Pokémon Type\")"
   ]
  },
  {
   "cell_type": "markdown",
   "id": "b4876e38-49c1-42aa-bb68-ce5afe77ce16",
   "metadata": {},
   "source": [
    "Next I am going to calculate the trend win rate for a Pokémon over the seasons:"
   ]
  },
  {
   "cell_type": "code",
   "execution_count": null,
   "id": "1ec715c4-4ec8-4a96-ba92-971b0e1bf9dd",
   "metadata": {},
   "outputs": [],
   "source": [
    "m[\"Trend Win Rate\"] = tt.where(\n",
    "    l[\"Season\"] != \"1\",\n",
    "    m[\"Win Rate\"] - tt.shift(m[\"Win Rate\"], h[\"Season\"], offset=-1),\n",
    ")\n",
    "m[\"Trend Win Rate\"].formatter = \"DOUBLE[0.00%]\""
   ]
  },
  {
   "cell_type": "markdown",
   "id": "92130074-138f-4729-a43b-a9df9df39388",
   "metadata": {},
   "source": [
    "Here is Chikorita's trend win rate:"
   ]
  },
  {
   "cell_type": "code",
   "execution_count": null,
   "id": "877e31d9-7ad8-4cb8-a8eb-da0dc0e8d87d",
   "metadata": {
    "atoti": {
     "height": 236,
     "widget": {
      "filters": [
       "[Pokemon].[Pokemon].[AllMember].[Chikorita]"
      ],
      "mapping": {
       "columns": [
        "ALL_MEASURES"
       ],
       "measures": [
        "[Measures].[Win Rate]",
        "[Measures].[Trend Win Rate]"
       ],
       "rows": [
        "[Time].[Season].[Season]"
       ]
      },
      "name": "Trend Win Rate For Chikorita",
      "query": {
       "mdx": "SELECT NON EMPTY {[Measures].[Win Rate], [Measures].[Trend Win Rate]} ON COLUMNS, NON EMPTY Hierarchize(Descendants({[Time].[Season].[AllMember]}, 1, SELF_AND_BEFORE)) ON ROWS FROM [Pokemon battles] CELL PROPERTIES VALUE, FORMATTED_VALUE, BACK_COLOR, FORE_COLOR, FONT_FLAGS",
       "updateMode": "once"
      },
      "serverKey": "default",
      "widgetKey": "pivot-table"
     }
    },
    "tags": []
   },
   "outputs": [],
   "source": [
    "session.visualize(\"Trend Win Rate For Chikorita\")"
   ]
  },
  {
   "cell_type": "markdown",
   "id": "937bcefc-ceaa-4404-802f-392e8819ac2b",
   "metadata": {},
   "source": [
    "Calculating max win rate scoped by each Pokémon in order to find the highest win rate among a group of Pokémon:"
   ]
  },
  {
   "cell_type": "code",
   "execution_count": null,
   "id": "e5751ce4-e9a1-45dc-a6a3-64be8e4a15f7",
   "metadata": {},
   "outputs": [],
   "source": [
    "m[\"Max Win Rate (Pokemon)\"] = tt.agg.max(\n",
    "    m[\"Win Rate\"], scope=tt.OriginScope(l[\"Pokemon\"])\n",
    ")\n",
    "m[\"Max Win Rate (Pokemon)\"].formatter = \"DOUBLE[0.00%]\""
   ]
  },
  {
   "cell_type": "markdown",
   "id": "2f8f934e-09ef-4123-8ca3-13332d1e53ef",
   "metadata": {},
   "source": [
    "This is something similar for max win rate by season:"
   ]
  },
  {
   "cell_type": "code",
   "execution_count": null,
   "id": "58c5a84a-0e41-4a21-8c94-71934349170a",
   "metadata": {},
   "outputs": [],
   "source": [
    "m[\"Max Win Rate (Season)\"] = tt.agg.max(\n",
    "    m[\"Win Rate\"], scope=tt.OriginScope(l[\"Season\"])\n",
    ")\n",
    "m[\"Max Win Rate (Season)\"].formatter = \"DOUBLE[0.00%]\""
   ]
  },
  {
   "cell_type": "markdown",
   "id": "3cfc6567-4e99-4f5a-bd85-b25066174e18",
   "metadata": {},
   "source": [
    "So now, I can look at Psyduck's highest win rate out of all the seasons:"
   ]
  },
  {
   "cell_type": "code",
   "execution_count": null,
   "id": "8f725f88-06e5-4cd7-a26e-9f50b2c29322",
   "metadata": {
    "atoti": {
     "height": 239,
     "widget": {
      "columnWidths": {
       "[Measures].[Max Win Rate (Season)],[Time].[Season].[AllMember]": 151.6761474609375
      },
      "filters": [
       "[Pokemon].[Pokemon].[AllMember].[Psyduck]"
      ],
      "mapping": {
       "columns": [
        "ALL_MEASURES"
       ],
       "measures": [
        "[Measures].[Max Win Rate (Season)]"
       ],
       "rows": [
        "[Pokemon].[Pokemon].[Pokemon]",
        "[Time].[Season].[Season]"
       ]
      },
      "query": {
       "mdx": "SELECT NON EMPTY Crossjoin(Hierarchize(Descendants({[Pokemon].[Pokemon].[AllMember]}, 1, SELF_AND_BEFORE)), Hierarchize(Descendants({[Time].[Season].[AllMember]}, 1, SELF_AND_BEFORE))) ON ROWS, NON EMPTY {[Measures].[Max Win Rate (Season)]} ON COLUMNS FROM [Pokemon battles] CELL PROPERTIES VALUE, FORMATTED_VALUE, BACK_COLOR, FORE_COLOR, FONT_FLAGS",
       "updateMode": "once"
      },
      "queryContext": [
       {
        "key": "mdx.hiddengrandtotals",
        "value": "1"
       }
      ],
      "serverKey": "default",
      "widgetKey": "pivot-table"
     }
    },
    "tags": []
   },
   "outputs": [],
   "source": [
    "session.visualize(\"Max Win Rate (Season) for Psyduck\")"
   ]
  },
  {
   "cell_type": "markdown",
   "id": "51e17b2d-f1e0-4976-9569-2b98f5aa3089",
   "metadata": {},
   "source": [
    "With the max win rate measure, I can pick out all the Pokémon whose highest win rate over all the seasons have never gone above 30% :("
   ]
  },
  {
   "cell_type": "code",
   "execution_count": null,
   "id": "5660cb37-455a-4582-af21-12e737ff9701",
   "metadata": {},
   "outputs": [],
   "source": [
    "m[\"Boost this Pokemon\"] = tt.where(\n",
    "    (m[\"Max Win Rate (Season)\"] < 0.3) & (l[\"Season\"].isnull()), \"BOOST\", \"\"\n",
    ")"
   ]
  },
  {
   "cell_type": "markdown",
   "id": "c88efd2c-b5d0-4586-9c14-8ac7cda5284f",
   "metadata": {},
   "source": [
    "Hopefully these Pokémon will get boosted soon."
   ]
  },
  {
   "cell_type": "code",
   "execution_count": null,
   "id": "15e7f125-53b4-4651-89b0-0fe64d4c1ff8",
   "metadata": {
    "atoti": {
     "height": 365,
     "widget": {
      "columnWidths": {
       "[Measures].[Max Win Rate (Season)]": 143.6761474609375
      },
      "mapping": {
       "columns": [
        "ALL_MEASURES"
       ],
       "measures": [
        "[Measures].[Max Win Rate (Season)]",
        "[Measures].[Boost this Pokemon]"
       ],
       "rows": [
        "[Pokemon].[Pokemon].[Pokemon]"
       ]
      },
      "query": {
       "mdx": "SELECT NON EMPTY {[Measures].[Max Win Rate (Season)], [Measures].[Boost this Pokemon]} ON COLUMNS, NON EMPTY Hierarchize(Descendants({[Pokemon].[Pokemon].[AllMember]}, 1, SELF_AND_BEFORE)) ON ROWS FROM [Pokemon battles] CELL PROPERTIES VALUE, FORMATTED_VALUE, BACK_COLOR, FORE_COLOR, FONT_FLAGS",
       "updateMode": "once"
      },
      "serverKey": "default",
      "widgetKey": "pivot-table"
     }
    },
    "tags": []
   },
   "outputs": [],
   "source": [
    "session.visualize(\"Boost Pokemon\")"
   ]
  },
  {
   "cell_type": "markdown",
   "id": "98a73238-052f-43a5-b7c0-44592a45b7a6",
   "metadata": {},
   "source": [
    "*__Pokémon stats related measures__*\n",
    "\n",
    "Here I will store Pokémon stat aggregates. These are scoped by Registration ID since our base dataset includes duplicated data."
   ]
  },
  {
   "cell_type": "code",
   "execution_count": null,
   "id": "d922a7f5-4903-43b3-ba6f-313dc209b87b",
   "metadata": {},
   "outputs": [],
   "source": [
    "m[\"Avg HP\"] = tt.agg.mean(\n",
    "    tt.agg.single_value(pokemon_t[\"HP\"]), scope=tt.OriginScope(l[\"Registration ID\"])\n",
    ")\n",
    "\n",
    "m[\"Avg Def\"] = tt.agg.mean(\n",
    "    tt.agg.single_value(pokemon_t[\"Defense\"]),\n",
    "    scope=tt.OriginScope(l[\"Registration ID\"]),\n",
    ")\n",
    "\n",
    "m[\"Avg SP Def\"] = tt.agg.mean(\n",
    "    tt.agg.single_value(pokemon_t[\"SP Defense\"]),\n",
    "    scope=tt.OriginScope(l[\"Registration ID\"]),\n",
    ")\n",
    "\n",
    "m[\"Avg Atk\"] = tt.agg.mean(\n",
    "    tt.agg.single_value(pokemon_t[\"Attack\"]), scope=tt.OriginScope(l[\"Registration ID\"])\n",
    ")\n",
    "\n",
    "m[\"Avg SP Atk\"] = tt.agg.mean(\n",
    "    tt.agg.single_value(pokemon_t[\"SP Attack\"]),\n",
    "    scope=tt.OriginScope(l[\"Registration ID\"]),\n",
    ")\n",
    "\n",
    "m[\"Avg Speed\"] = tt.agg.mean(\n",
    "    tt.agg.single_value(pokemon_t[\"Speed\"]), scope=tt.OriginScope(l[\"Registration ID\"])\n",
    ")\n",
    "\n",
    "m[\"Avg Type Multiplier\"] = tt.agg.mean(\n",
    "    tt.agg.single_value(combat_t[\"Type Multiplier\"]),\n",
    "    scope=tt.OriginScope(l[\"Registration ID\"]),\n",
    ")"
   ]
  },
  {
   "cell_type": "markdown",
   "id": "9ac5def1-7c7e-4afb-a231-a6d4f89dcf8a",
   "metadata": {},
   "source": [
    "Now I can compare the average speed of the Pokémon in winning vs losing battles."
   ]
  },
  {
   "cell_type": "code",
   "execution_count": null,
   "id": "79be6f0b-746f-4af1-a106-4cfe990dd1e3",
   "metadata": {
    "atoti": {
     "height": 100,
     "widget": {
      "mapping": {
       "columns": [
        "[Win-Lose].[Result].[Result]"
       ],
       "measures": [
        "[Measures].[Avg Speed]"
       ],
       "rows": []
      },
      "name": "Average Speed",
      "query": {
       "mdx": "SELECT NON EMPTY Crossjoin(Hierarchize(Descendants({[Win-Lose].[Result].[AllMember]}, 1, SELF_AND_BEFORE)), {[Measures].[Avg Speed]}) ON COLUMNS FROM [Pokemon battles] CELL PROPERTIES VALUE, FORMATTED_VALUE, BACK_COLOR, FORE_COLOR, FONT_FLAGS",
       "updateMode": "once"
      },
      "queryContext": [
       {
        "key": "mdx.hiddengrandtotals",
        "value": "1"
       }
      ],
      "serverKey": "default",
      "widgetKey": "kpi"
     }
    },
    "tags": []
   },
   "outputs": [],
   "source": [
    "session.visualize(\"Average Speed\")"
   ]
  },
  {
   "cell_type": "markdown",
   "id": "f1d6e1a2-65c4-4918-a067-1f5745a10380",
   "metadata": {},
   "source": [
    "*__Replay Views related measures__*"
   ]
  },
  {
   "cell_type": "code",
   "execution_count": null,
   "id": "d03a4107-6856-41ab-a8f6-e6d3e5976082",
   "metadata": {},
   "outputs": [],
   "source": [
    "replay_views = tt.agg.single_value(combat_t[\"Replay Views\"])"
   ]
  },
  {
   "cell_type": "code",
   "execution_count": null,
   "id": "431e8146-50c6-4e34-934c-7b9df7d6de21",
   "metadata": {},
   "outputs": [],
   "source": [
    "m[\"Total Replay Views\"] = tt.agg.sum(\n",
    "    replay_views,\n",
    "    scope=tt.OriginScope(l[\"Registration ID\"]),\n",
    ")"
   ]
  },
  {
   "cell_type": "code",
   "execution_count": null,
   "id": "2d7a1dd3-3e42-49bc-84c2-1a19d3a13799",
   "metadata": {},
   "outputs": [],
   "source": [
    "m[\"Avg Replay Views\"] = tt.agg.mean(\n",
    "    replay_views,\n",
    "    scope=tt.OriginScope(l[\"Registration ID\"]),\n",
    ")"
   ]
  },
  {
   "cell_type": "code",
   "execution_count": null,
   "id": "b1d2fd2f-022a-4967-963d-fb29f8010e4d",
   "metadata": {},
   "outputs": [],
   "source": [
    "m[\"Max Replay Views\"] = tt.agg.max(\n",
    "    replay_views, scope=tt.OriginScope(l[\"Registration ID\"])\n",
    ")\n",
    "m[\"Min Replay Views\"] = tt.agg.min(\n",
    "    replay_views, scope=tt.OriginScope(l[\"Registration ID\"])\n",
    ")"
   ]
  },
  {
   "cell_type": "code",
   "execution_count": null,
   "id": "3ada13e5-bb56-435c-81f9-05e42113fda6",
   "metadata": {
    "atoti": {
     "height": 101,
     "widget": {
      "mapping": {
       "columns": [],
       "measures": [
        "[Measures].[Max Replay Views]",
        "[Measures].[Min Replay Views]"
       ],
       "rows": []
      },
      "name": "Replay Views",
      "query": {
       "mdx": "SELECT NON EMPTY {[Measures].[Max Replay Views], [Measures].[Min Replay Views]} ON COLUMNS FROM [Pokemon battles] CELL PROPERTIES VALUE, FORMATTED_VALUE, BACK_COLOR, FORE_COLOR, FONT_FLAGS",
       "updateMode": "once"
      },
      "serverKey": "default",
      "widgetKey": "kpi"
     }
    },
    "tags": []
   },
   "outputs": [],
   "source": [
    "session.visualize(\"Replay Views\")"
   ]
  },
  {
   "cell_type": "code",
   "execution_count": null,
   "id": "4f488c8c-1572-49c8-95f2-315e317c0311",
   "metadata": {
    "atoti": {
     "height": 212,
     "widget": {
      "mapping": {
       "columns": [
        "ALL_MEASURES"
       ],
       "measures": [
        "[Measures].[Avg Replay Views]"
       ],
       "rows": [
        "[Pokemon].[Pokemon].[Pokemon]"
       ]
      },
      "query": {
       "mdx": "SELECT NON EMPTY {[Measures].[Avg Replay Views]} ON COLUMNS, NON EMPTY Order(Hierarchize(Descendants({[Pokemon].[Pokemon].[AllMember]}, 1, SELF_AND_BEFORE)), [Measures].[Avg Replay Views], DESC) ON ROWS FROM [Pokemon battles] CELL PROPERTIES VALUE, FORMATTED_VALUE, BACK_COLOR, FORE_COLOR, FONT_FLAGS",
       "updateMode": "once"
      },
      "queryContext": [
       {
        "key": "mdx.hiddengrandtotals",
        "value": "1"
       }
      ],
      "serverKey": "default",
      "widgetKey": "pivot-table"
     }
    },
    "tags": []
   },
   "outputs": [],
   "source": [
    "session.visualize(\"Most Popular Pokémon (Replay Views)\")"
   ]
  },
  {
   "cell_type": "markdown",
   "id": "c47f925d-c325-453a-a5be-0a78c33757e5",
   "metadata": {},
   "source": [
    "*__Live views related measures__*\n",
    "\n",
    "_Change_\n",
    "\n",
    "Use the [`formatter`](https://docs.atoti.io/latest/lib/atoti.measure.html#atoti.measure.Measure.formatter) attribute to format the measure."
   ]
  },
  {
   "cell_type": "code",
   "execution_count": null,
   "id": "a2e75c42-1e14-435a-88a3-d8e88266527c",
   "metadata": {},
   "outputs": [],
   "source": [
    "live_views_change = tt.agg.single_value(combat_t[\"Live Views Change\"])"
   ]
  },
  {
   "cell_type": "code",
   "execution_count": null,
   "id": "940a0a3e-d5f8-4f83-ba43-cc66fe7a3e9a",
   "metadata": {},
   "outputs": [],
   "source": [
    "m[\"Avg % Change\"] = tt.agg.mean(\n",
    "    live_views_change,\n",
    "    scope=tt.OriginScope(l[\"Registration ID\"]),\n",
    ")\n",
    "m[\"Avg % Change\"].formatter = \"DOUBLE[0.00%]\""
   ]
  },
  {
   "cell_type": "code",
   "execution_count": null,
   "id": "d73d59e3-9a47-4aef-9927-711b6a29f480",
   "metadata": {},
   "outputs": [],
   "source": [
    "m[\"Max % Change\"] = tt.agg.max(\n",
    "    live_views_change,\n",
    "    scope=tt.OriginScope(l[\"Registration ID\"]),\n",
    ")\n",
    "m[\"Max % Change\"].formatter = \"DOUBLE[0.00%]\""
   ]
  },
  {
   "cell_type": "code",
   "execution_count": null,
   "id": "28da67a7-9868-441a-8506-bc2eadd04bac",
   "metadata": {},
   "outputs": [],
   "source": [
    "m[\"Min % Change\"] = tt.agg.min(\n",
    "    live_views_change,\n",
    "    scope=tt.OriginScope(l[\"Registration ID\"]),\n",
    ")\n",
    "m[\"Min % Change\"].formatter = \"DOUBLE[0.00%]\""
   ]
  },
  {
   "cell_type": "markdown",
   "id": "c4343b9a-603c-4af2-9b50-087b59671943",
   "metadata": {},
   "source": [
    "_Start Views_"
   ]
  },
  {
   "cell_type": "code",
   "execution_count": null,
   "id": "6996f5bb-6e35-43fd-bb05-c6e50a916ad6",
   "metadata": {},
   "outputs": [],
   "source": [
    "live_views_start = tt.agg.single_value(combat_t[\"Live Views Start\"])"
   ]
  },
  {
   "cell_type": "code",
   "execution_count": null,
   "id": "38a8e218-00f4-4f3c-9935-7621a5b2797b",
   "metadata": {},
   "outputs": [],
   "source": [
    "m[\"Avg Start Views\"] = tt.agg.mean(\n",
    "    live_views_start,\n",
    "    scope=tt.OriginScope(l[\"Registration ID\"]),\n",
    ")"
   ]
  },
  {
   "cell_type": "code",
   "execution_count": null,
   "id": "56e24415-9ab8-44f6-a7f3-193b029fa05e",
   "metadata": {},
   "outputs": [],
   "source": [
    "m[\"Max Start Views\"] = tt.agg.max(\n",
    "    live_views_start,\n",
    "    scope=tt.OriginScope(l[\"Registration ID\"]),\n",
    ")\n",
    "\n",
    "m[\"Min Start Views\"] = tt.agg.min(\n",
    "    live_views_start,\n",
    "    scope=tt.OriginScope(l[\"Registration ID\"]),\n",
    ")"
   ]
  },
  {
   "cell_type": "markdown",
   "id": "db699d49-3170-44b3-89b2-8989798857d8",
   "metadata": {},
   "source": [
    "_End Views_"
   ]
  },
  {
   "cell_type": "code",
   "execution_count": null,
   "id": "1efa914b-604a-4012-bfac-68673d679992",
   "metadata": {},
   "outputs": [],
   "source": [
    "live_views_end = tt.agg.single_value(combat_t[\"Live Views End\"])"
   ]
  },
  {
   "cell_type": "code",
   "execution_count": null,
   "id": "77e9150b-c418-491e-93a2-435987884f98",
   "metadata": {},
   "outputs": [],
   "source": [
    "m[\"Avg End Views\"] = tt.agg.mean(\n",
    "    live_views_end,\n",
    "    scope=tt.OriginScope(l[\"Registration ID\"]),\n",
    ")"
   ]
  },
  {
   "cell_type": "code",
   "execution_count": null,
   "id": "a18c7329-2f95-4471-8797-60113fe1bb11",
   "metadata": {},
   "outputs": [],
   "source": [
    "m[\"Max End Views\"] = tt.agg.max(\n",
    "    live_views_end,\n",
    "    scope=tt.OriginScope(l[\"Registration ID\"]),\n",
    ")\n",
    "\n",
    "m[\"Min End Views\"] = tt.agg.min(\n",
    "    live_views_end,\n",
    "    scope=tt.OriginScope(l[\"Registration ID\"]),\n",
    ")"
   ]
  },
  {
   "cell_type": "code",
   "execution_count": null,
   "id": "5447fc12-833f-49bf-9c35-fd3a3d59e852",
   "metadata": {
    "atoti": {
     "height": 161,
     "widget": {
      "mapping": {
       "columns": [
        "ALL_MEASURES"
       ],
       "measures": [
        "[Measures].[Avg % Change]",
        "[Measures].[Avg Start Views]",
        "[Measures].[Avg End Views]"
       ],
       "rows": [
        "[Win-Lose].[Result].[Result]"
       ]
      },
      "name": "Average % Change by W/L",
      "query": {
       "mdx": "SELECT NON EMPTY Hierarchize(Descendants({[Win-Lose].[Result].[AllMember]}, 1, SELF_AND_BEFORE)) ON ROWS, NON EMPTY {[Measures].[Avg % Change], [Measures].[Avg Start Views], [Measures].[Avg End Views]} ON COLUMNS FROM [Pokemon battles] CELL PROPERTIES VALUE, FORMATTED_VALUE, BACK_COLOR, FORE_COLOR, FONT_FLAGS",
       "updateMode": "once"
      },
      "serverKey": "default",
      "widgetKey": "pivot-table"
     }
    },
    "tags": []
   },
   "outputs": [],
   "source": [
    "session.visualize(\"Live Views by W/L\")"
   ]
  },
  {
   "cell_type": "markdown",
   "id": "2082d298-1441-485e-aa73-d9b87bbaa3c7",
   "metadata": {},
   "source": [
    "*__Sales related measures__*\n",
    "\n",
    "_Stadium capacity_"
   ]
  },
  {
   "cell_type": "code",
   "execution_count": null,
   "id": "ab09b6d8-8681-411d-b3eb-31ae6d1bcc49",
   "metadata": {},
   "outputs": [],
   "source": [
    "m[\"Tickets Sold\"] = tt.agg.sum(\n",
    "    tt.agg.single_value(combat_info_t[\"Tickets Sold\"]),\n",
    "    scope=tt.OriginScope(l[\"Combat ID\"]),\n",
    ")\n",
    "m[\"Tickets Sold\"].formatter = \"INT[000,000]\""
   ]
  },
  {
   "cell_type": "code",
   "execution_count": null,
   "id": "aa5c8308-5a57-48d8-8ead-fd23101934a0",
   "metadata": {},
   "outputs": [],
   "source": [
    "m[\"Stadium Capacity\"] = tt.agg.max(\n",
    "    tt.agg.single_value(location_t[\"Stadium Capacity\"]),\n",
    "    scope=tt.OriginScope(l[\"Settlement\"]),\n",
    ")"
   ]
  },
  {
   "cell_type": "code",
   "execution_count": null,
   "id": "918cd049-a03c-4480-8f7a-8bdac7758119",
   "metadata": {},
   "outputs": [],
   "source": [
    "m[\"Avg Stadium Capacity\"] = tt.agg.mean(\n",
    "    m[\"Tickets Sold\"] / m[\"Stadium Capacity\"],\n",
    "    scope=tt.OriginScope(l[\"Combat ID\"]),\n",
    ")\n",
    "m[\"Avg Stadium Capacity\"].formatter = \"DOUBLE[0.00%]\""
   ]
  },
  {
   "cell_type": "code",
   "execution_count": null,
   "id": "e9a84e10-d6b5-4a9e-b5b0-b3fc378e301a",
   "metadata": {},
   "outputs": [],
   "source": [
    "m[\"Max Stadium Capacity\"] = tt.agg.max(\n",
    "    m[\"Tickets Sold\"] / m[\"Stadium Capacity\"],\n",
    "    scope=tt.OriginScope(l[\"Combat ID\"]),\n",
    ")\n",
    "\n",
    "m[\"Min Stadium Capacity\"] = tt.agg.min(\n",
    "    m[\"Tickets Sold\"] / m[\"Stadium Capacity\"],\n",
    "    scope=tt.OriginScope(l[\"Combat ID\"]),\n",
    ")\n",
    "\n",
    "m[\"Max Stadium Capacity\"].formatter = \"DOUBLE[0.00%]\"\n",
    "m[\"Min Stadium Capacity\"].formatter = \"DOUBLE[0.00%]\""
   ]
  },
  {
   "cell_type": "code",
   "execution_count": null,
   "id": "46cf4391-b5a9-4da8-9ac3-85310f7ae855",
   "metadata": {
    "atoti": {
     "widget": {
      "mapping": {
       "horizontalSubplots": [],
       "splitBy": [
        "[Location].[Location].[Region]"
       ],
       "values": [
        "[Measures].[Avg Stadium Capacity]"
       ],
       "verticalSubplots": [],
       "xAxis": [
        "[Location].[Location].[Settlement]"
       ]
      },
      "name": "Stadium Capacity % by Location",
      "query": {
       "mdx": "SELECT NON EMPTY Hierarchize(Descendants({[Location].[Location].[AllMember]}, 2, SELF_AND_BEFORE)) ON ROWS, NON EMPTY {[Measures].[Avg Stadium Capacity]} ON COLUMNS FROM [Pokemon battles] CELL PROPERTIES VALUE, FORMATTED_VALUE, BACK_COLOR, FORE_COLOR, FONT_FLAGS",
       "updateMode": "once"
      },
      "serverKey": "default",
      "switchedTo": "plotly-stacked-column-chart",
      "widgetKey": "plotly-clustered-column-chart"
     }
    },
    "tags": []
   },
   "outputs": [],
   "source": [
    "session.visualize(\"Average Stadium Capacity by Location\")"
   ]
  },
  {
   "cell_type": "markdown",
   "id": "55097e93-6054-4b11-89b2-654baec4b816",
   "metadata": {},
   "source": [
    "_Stadium cost_"
   ]
  },
  {
   "cell_type": "code",
   "execution_count": null,
   "id": "7a6d14f0-99b8-4bd3-8812-c4c680770f07",
   "metadata": {},
   "outputs": [],
   "source": [
    "stadium_cost = tt.agg.single_value(location_t[\"Stadium Cost\"])"
   ]
  },
  {
   "cell_type": "code",
   "execution_count": null,
   "id": "f0061b1c-4c5e-46af-a472-642646f637d3",
   "metadata": {},
   "outputs": [],
   "source": [
    "m[\"Avg Stadium Cost\"] = tt.agg.mean(stadium_cost, scope=tt.OriginScope(l[\"Combat ID\"]))"
   ]
  },
  {
   "cell_type": "code",
   "execution_count": null,
   "id": "c3f5e24c-93f0-4b01-920e-bbbc1977f52b",
   "metadata": {},
   "outputs": [],
   "source": [
    "m[\"Max Stadium Cost\"] = tt.agg.max(stadium_cost, scope=tt.OriginScope(l[\"Settlement\"]))\n",
    "\n",
    "m[\"Min Stadium Cost\"] = tt.agg.min(stadium_cost, scope=tt.OriginScope(l[\"Settlement\"]))"
   ]
  },
  {
   "cell_type": "markdown",
   "id": "463e4542-06d5-417f-9383-4695ff028fa7",
   "metadata": {},
   "source": [
    "_Ticket price_"
   ]
  },
  {
   "cell_type": "code",
   "execution_count": null,
   "id": "6377dd48-3692-46d2-a8a8-a71f9b76b54c",
   "metadata": {},
   "outputs": [],
   "source": [
    "ticket_price = tt.agg.single_value(location_t[\"Ticket Price\"])"
   ]
  },
  {
   "cell_type": "code",
   "execution_count": null,
   "id": "37b335f1-33af-464c-bad4-3b573e480f3e",
   "metadata": {},
   "outputs": [],
   "source": [
    "m[\"Avg Ticket Price\"] = tt.agg.mean(ticket_price, scope=tt.OriginScope(l[\"Combat ID\"]))"
   ]
  },
  {
   "cell_type": "code",
   "execution_count": null,
   "id": "19c9c340-8e87-4ecb-a812-e5030025ff94",
   "metadata": {},
   "outputs": [],
   "source": [
    "m[\"Max Ticket Price\"] = tt.agg.max(ticket_price, scope=tt.OriginScope(l[\"Settlement\"]))\n",
    "m[\"Min Ticket Price\"] = tt.agg.min(ticket_price, scope=tt.OriginScope(l[\"Settlement\"]))"
   ]
  },
  {
   "cell_type": "markdown",
   "id": "ea7a6f35-ce12-43dd-a3ee-fa1defbd7aa9",
   "metadata": {},
   "source": [
    "_Number of matches where tickets are all sold_"
   ]
  },
  {
   "cell_type": "code",
   "execution_count": null,
   "id": "9f4c919b-d05b-4790-bd83-3946448227e1",
   "metadata": {
    "tags": []
   },
   "outputs": [],
   "source": [
    "m[\"No. of Matches at Full Stadium Capacity\"] = tt.agg.sum(\n",
    "    tt.where(\n",
    "        m[\"Tickets Sold\"] == m[\"Stadium Capacity\"],\n",
    "        1,\n",
    "        0,\n",
    "    ),\n",
    "    scope=tt.OriginScope(l[\"Combat ID\"]),\n",
    ")"
   ]
  },
  {
   "cell_type": "code",
   "execution_count": null,
   "id": "85d911aa-8bfa-42e5-b994-0231f8335765",
   "metadata": {},
   "outputs": [],
   "source": [
    "m[\"Percentage of Matches at Full Stadium Capacity\"] = (\n",
    "    m[\"No. of Matches at Full Stadium Capacity\"] / m[\"No. of Matches\"]\n",
    ")\n",
    "m[\"Percentage of Matches at Full Stadium Capacity\"].formatter = \"DOUBLE[0.00%]\""
   ]
  },
  {
   "cell_type": "code",
   "execution_count": null,
   "id": "d49d23a1-3c5a-44b5-b40d-30c3a6505baf",
   "metadata": {
    "atoti": {
     "widget": {
      "mapping": {
       "horizontalSubplots": [],
       "splitBy": [
        "[Location].[Location].[Region]"
       ],
       "values": [
        "[Measures].[Percentage of Matches at Full Stadium Capacity]"
       ],
       "verticalSubplots": [],
       "xAxis": [
        "[Location].[Location].[Settlement]"
       ]
      },
      "name": "% of Matches at Full Stadium Capacity",
      "query": {
       "mdx": "SELECT NON EMPTY {[Measures].[Percentage of Matches at Full Stadium Capacity]} ON COLUMNS, NON EMPTY Hierarchize(Descendants({[Location].[Location].[AllMember]}, 2, SELF_AND_BEFORE)) ON ROWS FROM [Pokemon battles] CELL PROPERTIES VALUE, FORMATTED_VALUE, BACK_COLOR, FORE_COLOR, FONT_FLAGS",
       "updateMode": "once"
      },
      "serverKey": "default",
      "switchedTo": "plotly-stacked-column-chart",
      "widgetKey": "plotly-clustered-column-chart"
     }
    },
    "tags": []
   },
   "outputs": [],
   "source": [
    "session.visualize(\"% of Matches at Full Stadium Capacity\")"
   ]
  },
  {
   "cell_type": "markdown",
   "id": "b6289340-db22-4497-88a1-4d433c2d9c09",
   "metadata": {},
   "source": [
    "_Profit_"
   ]
  },
  {
   "cell_type": "code",
   "execution_count": null,
   "id": "bf2c83d1-dc3b-433b-9497-eccf58e59fed",
   "metadata": {},
   "outputs": [],
   "source": [
    "m[\"Profit\"] = tt.agg.sum(\n",
    "    (m[\"Tickets Sold\"] * m[\"Avg Ticket Price\"]) - m[\"Avg Stadium Cost\"],\n",
    "    scope=tt.OriginScope(l[\"Combat ID\"]),\n",
    ")"
   ]
  },
  {
   "cell_type": "code",
   "execution_count": null,
   "id": "7bae1f6a-3f43-4a2b-a9ad-f735fca67283",
   "metadata": {},
   "outputs": [],
   "source": [
    "m[\"Profit Location Ratio\"] = m[\"Profit\"] / tt.parent_value(\n",
    "    m[\"Profit\"], degrees={h[\"Location\"]: 1}\n",
    ")\n",
    "m[\"Profit Location Ratio\"].formatter = \"DOUBLE[0.00%]\""
   ]
  },
  {
   "cell_type": "code",
   "execution_count": null,
   "id": "27b53212-828f-45b8-a7d0-bc16faaf310e",
   "metadata": {
    "atoti": {
     "widget": {
      "mapping": {
       "columns": [
        "ALL_MEASURES"
       ],
       "measures": [
        "[Measures].[Profit Location Ratio]"
       ],
       "rows": [
        "[Location].[Location].[Region]"
       ]
      },
      "name": "Profit Location Ratio",
      "query": {
       "mdx": "SELECT NON EMPTY {[Measures].[Profit Location Ratio]} ON COLUMNS, NON EMPTY Hierarchize(Descendants({[Location].[Location].[AllMember]}, 1, SELF_AND_BEFORE)) ON ROWS FROM [Pokemon battles] CELL PROPERTIES VALUE, FORMATTED_VALUE, BACK_COLOR, FORE_COLOR, FONT_FLAGS",
       "updateMode": "once"
      },
      "serverKey": "default",
      "switchedTo": "plotly-donut-chart",
      "widgetKey": "pivot-table"
     }
    },
    "tags": []
   },
   "outputs": [],
   "source": [
    "session.visualize(\"Profit Location Ratio\")"
   ]
  },
  {
   "cell_type": "markdown",
   "id": "b3c9315e-bf65-4498-8658-b4e4dc0ed6ca",
   "metadata": {},
   "source": [
    "*__Match count related measures__*"
   ]
  },
  {
   "cell_type": "code",
   "execution_count": null,
   "id": "10e8618a-bb82-4c60-8e34-e9a4ca24117c",
   "metadata": {},
   "outputs": [],
   "source": [
    "m[\"Match Location Ratio\"] = m[\"No. of Matches\"] / tt.parent_value(\n",
    "    m[\"No. of Matches\"], degrees={h[\"Location\"]: 1}\n",
    ")\n",
    "m[\"Match Location Ratio\"].formatter = \"DOUBLE[0.00%]\""
   ]
  },
  {
   "cell_type": "code",
   "execution_count": null,
   "id": "4c84684b-e001-41b5-b982-777d5042ccff",
   "metadata": {
    "atoti": {
     "widget": {
      "columnWidths": {
       "[Measures].[Match Location Ratio]": 129.6761474609375
      },
      "mapping": {
       "horizontalSubplots": [],
       "splitBy": [
        "ALL_MEASURES"
       ],
       "values": [
        "[Measures].[Match Location Ratio]",
        "[Measures].[Profit Location Ratio]"
       ],
       "verticalSubplots": [],
       "xAxis": [
        "[Location].[Location].[Region]"
       ]
      },
      "name": "Match Location Ratio",
      "query": {
       "mdx": "SELECT NON EMPTY Hierarchize(Descendants({[Location].[Location].[AllMember]}, 1, SELF_AND_BEFORE)) ON ROWS, NON EMPTY {[Measures].[Match Location Ratio], [Measures].[Profit Location Ratio]} ON COLUMNS FROM [Pokemon battles] CELL PROPERTIES VALUE, FORMATTED_VALUE, BACK_COLOR, FORE_COLOR, FONT_FLAGS",
       "updateMode": "once"
      },
      "serverKey": "default",
      "widgetKey": "plotly-line-chart"
     }
    },
    "tags": []
   },
   "outputs": [],
   "source": [
    "session.visualize(\"Match Location Ratio\")"
   ]
  },
  {
   "cell_type": "code",
   "execution_count": null,
   "id": "98795a2c-87f9-4d7d-b0d4-84e7c1b423ef",
   "metadata": {},
   "outputs": [],
   "source": [
    "m[\"Match Season Ratio\"] = m[\"No. of Matches\"] / tt.parent_value(\n",
    "    m[\"No. of Matches\"], degrees={h[\"Season\"]: 1}\n",
    ")\n",
    "m[\"Match Season Ratio\"].formatter = \"DOUBLE[0.00%]\""
   ]
  },
  {
   "cell_type": "markdown",
   "id": "a1ffebed-3156-41b1-aef1-e6049f39a244",
   "metadata": {},
   "source": [
    "#### 4.2.2 Organize measures into folder\n",
    "\n",
    "Group the measures into folders based on the nature of the KPI:"
   ]
  },
  {
   "cell_type": "code",
   "execution_count": null,
   "id": "1ce22840-962a-4b5f-a151-f570e2e6f9d6",
   "metadata": {
    "tags": []
   },
   "outputs": [],
   "source": [
    "for measure in [\n",
    "    m[\"No. of Matches\"],\n",
    "    m[\"No. of Pokemon\"],\n",
    "    m[\"No. of Regions\"],\n",
    "    m[\"No. of Locations\"],\n",
    "    m[\"No. of Seasons\"],\n",
    "    m[\"No. of Days\"],\n",
    "]:\n",
    "    measure.folder = \"Data\""
   ]
  },
  {
   "cell_type": "code",
   "execution_count": null,
   "id": "cb0cb128-50fa-4a5c-8623-dede22e585be",
   "metadata": {},
   "outputs": [],
   "source": [
    "for measure in [\n",
    "    m[\"Win\"],\n",
    "    m[\"Lose\"],\n",
    "    m[\"Win Rate\"],\n",
    "    m[\"Trend Win Rate\"],\n",
    "    m[\"Max Win Rate (Pokemon)\"],\n",
    "    m[\"Max Win Rate (Season)\"],\n",
    "    m[\"Boost this Pokemon\"],\n",
    "]:\n",
    "    measure.folder = \"Results\""
   ]
  },
  {
   "cell_type": "code",
   "execution_count": null,
   "id": "879fd68b-970f-44b7-81a8-3e4b201ceff9",
   "metadata": {},
   "outputs": [],
   "source": [
    "for measure in [\n",
    "    m[\"Avg HP\"],\n",
    "    m[\"Avg Def\"],\n",
    "    m[\"Avg SP Def\"],\n",
    "    m[\"Avg Atk\"],\n",
    "    m[\"Avg SP Atk\"],\n",
    "    m[\"Avg Speed\"],\n",
    "    m[\"Avg Type Multiplier\"],\n",
    "]:\n",
    "    measure.folder = \"Pokemon Stats\""
   ]
  },
  {
   "cell_type": "code",
   "execution_count": null,
   "id": "f140e4fa-602d-4a13-8e90-f7a1b96ff67d",
   "metadata": {},
   "outputs": [],
   "source": [
    "for measure in [\n",
    "    m[\"Total Replay Views\"],\n",
    "    m[\"Avg Replay Views\"],\n",
    "    m[\"Max Replay Views\"],\n",
    "    m[\"Min Replay Views\"],\n",
    "]:\n",
    "    measure.folder = \"Replay Views\""
   ]
  },
  {
   "cell_type": "code",
   "execution_count": null,
   "id": "55e17a80-3592-4742-9832-09664a057f64",
   "metadata": {},
   "outputs": [],
   "source": [
    "for measure in [\n",
    "    m[\"Avg % Change\"],\n",
    "    m[\"Max % Change\"],\n",
    "    m[\"Min % Change\"],\n",
    "    m[\"Avg Start Views\"],\n",
    "    m[\"Max Start Views\"],\n",
    "    m[\"Min Start Views\"],\n",
    "    m[\"Avg End Views\"],\n",
    "    m[\"Max End Views\"],\n",
    "    m[\"Min End Views\"],\n",
    "]:\n",
    "    measure.folder = \"Live Views\""
   ]
  },
  {
   "cell_type": "code",
   "execution_count": null,
   "id": "a94591c5-d9ec-411f-8e34-c4d8486dd825",
   "metadata": {},
   "outputs": [],
   "source": [
    "for measure in [\n",
    "    m[\"Stadium Capacity\"],\n",
    "    m[\"Avg Stadium Capacity\"],\n",
    "    m[\"Max Stadium Capacity\"],\n",
    "    m[\"Min Stadium Capacity\"],\n",
    "    m[\"Avg Stadium Cost\"],\n",
    "    m[\"Max Stadium Cost\"],\n",
    "    m[\"Min Stadium Cost\"],\n",
    "    m[\"Avg Ticket Price\"],\n",
    "    m[\"Max Ticket Price\"],\n",
    "    m[\"Min Ticket Price\"],\n",
    "    m[\"No. of Matches at Full Stadium Capacity\"],\n",
    "    m[\"Percentage of Matches at Full Stadium Capacity\"],\n",
    "    m[\"Profit\"],\n",
    "    m[\"Profit Location Ratio\"],\n",
    "    m[\"Tickets Sold\"],\n",
    "]:\n",
    "    measure.folder = \"Sales\""
   ]
  },
  {
   "cell_type": "code",
   "execution_count": null,
   "id": "f0b382cb-6a2c-41cd-9a25-4b654b58f7b5",
   "metadata": {},
   "outputs": [],
   "source": [
    "for measure in [m[\"Match Location Ratio\"], m[\"Match Season Ratio\"]]:\n",
    "    measure.folder = \"Match Count\""
   ]
  },
  {
   "cell_type": "markdown",
   "id": "80c7c6bf-cf9a-4966-a53b-f2d9fb95bf8d",
   "metadata": {},
   "source": [
    "## 5. BI Web application\n",
    "\n",
    "Access the BI web application using the below URL. Previously I have hardcoded the port for the web application to 8080. "
   ]
  },
  {
   "cell_type": "code",
   "execution_count": null,
   "id": "19d3d584-0995-464d-8523-2e932b240a85",
   "metadata": {},
   "outputs": [],
   "source": [
    "session.link()"
   ]
  },
  {
   "cell_type": "markdown",
   "id": "54406feb-445c-42a4-b2a5-fe35df2e60e7",
   "metadata": {},
   "source": [
    "I can share the dashboard via its URL:"
   ]
  },
  {
   "cell_type": "code",
   "execution_count": null,
   "id": "6c9aa675-116c-41b6-b5a0-2101dd50b542",
   "metadata": {},
   "outputs": [],
   "source": [
    "session.link(path=\"/#/dashboard/c31\")"
   ]
  },
  {
   "cell_type": "markdown",
   "id": "92180f04-7eb6-4fed-814f-088376637d0a",
   "metadata": {
    "tags": []
   },
   "source": [
    "## 6. Atoti what-if simulation: Source simulation\n",
    "\n",
    "Atoti has 2 [types of simulations](https://docs.atoti.io/latest/tutorial/tutorial.html#Simulations): \n",
    "- Source simulation\n",
    "- Parameter simulation \n",
    "\n",
    "Using source simulation, I will modify the Pandas DataFrame containing the data on combat info to simulate a decrease in ticket sales.  \n",
    "Using parameter simulation, parameter measures will be created to simulate the impact on profit when there's an increase in stadium cost and ticket price."
   ]
  },
  {
   "cell_type": "markdown",
   "id": "12c356e9-d6bc-45fc-aebd-a5c86279b3d3",
   "metadata": {},
   "source": [
    "### 6.1 Simulate Ticket Sales\n",
    "\n",
    "Below, I reduce the number of tickets sold for the Location ID 5 by 20%."
   ]
  },
  {
   "cell_type": "code",
   "execution_count": null,
   "id": "b196b2ee-e992-418a-a249-010a4fb585a1",
   "metadata": {},
   "outputs": [],
   "source": [
    "combat_info_s1 = combat_info_df.copy()"
   ]
  },
  {
   "cell_type": "code",
   "execution_count": null,
   "id": "a78e9246-1f0f-4e18-9026-dcc3593db79e",
   "metadata": {},
   "outputs": [],
   "source": [
    "combat_info_s1[\"Tickets Sold\"] = np.where(\n",
    "    combat_info_s1[\"Location ID\"] == \"5\",\n",
    "    round(combat_info_s1[\"Tickets Sold\"] * 0.8),\n",
    "    combat_info_s1[\"Tickets Sold\"],\n",
    ")"
   ]
  },
  {
   "cell_type": "code",
   "execution_count": null,
   "id": "649eae1c-a973-4ff4-960e-eda406446abb",
   "metadata": {},
   "outputs": [],
   "source": [
    "combat_info_t.scenarios[\"Viridian Tickets Sold simulation\"].load_pandas(combat_info_s1)"
   ]
  },
  {
   "cell_type": "markdown",
   "id": "22d6536e-1061-41d0-9cab-474ea05b9e9c",
   "metadata": {},
   "source": [
    "I can see the data changed for Kanto > Viridian city changed and the profit decreases when the number of tickets sold reduces."
   ]
  },
  {
   "cell_type": "code",
   "execution_count": null,
   "id": "8916bc1e-8b45-4056-a5c4-19d7ca30e122",
   "metadata": {
    "atoti": {
     "height": 429,
     "widget": {
      "columnWidths": {
       "[Measures].[Profit],[Epoch].[Epoch].[Viridian Tickets Sold simulation]": 199,
       "[Measures].[Tickets Sold],[Epoch].[Epoch].[Viridian Cost simulation]": 151,
       "[Measures].[Tickets Sold],[Epoch].[Epoch].[Viridian Tickets Sold simulation]": 206
      },
      "mapping": {
       "columns": [
        "ALL_MEASURES",
        "[Epoch].[Epoch].[Branch]"
       ],
       "measures": [
        "[Measures].[Tickets Sold]",
        "[Measures].[Profit]"
       ],
       "rows": [
        "[Location].[Location].[Region] => [Location].[Location].[Settlement]"
       ]
      },
      "query": {
       "mdx": "SELECT NON EMPTY Hierarchize(Union(Descendants({[Location].[Location].[AllMember]}, 1, SELF_AND_BEFORE), Descendants({[Location].[Location].[AllMember].[Kanto]}, [Location].[Location].[Settlement]))) ON ROWS, NON EMPTY Crossjoin({[Measures].[Tickets Sold], [Measures].[Profit]}, [Epoch].[Epoch].[Branch].Members) ON COLUMNS FROM [Pokemon battles] CELL PROPERTIES VALUE, FORMATTED_VALUE, BACK_COLOR, FORE_COLOR, FONT_FLAGS",
       "updateMode": "once"
      },
      "serverKey": "default",
      "widgetKey": "pivot-table"
     }
    },
    "tags": []
   },
   "outputs": [],
   "source": [
    "session.visualize(\"Impact of tickets sold on profit\")"
   ]
  },
  {
   "cell_type": "markdown",
   "id": "e5851637-dcd6-45ac-9b38-c9661fb85987",
   "metadata": {
    "tags": []
   },
   "source": [
    "### 6.2 Simulate Stadium Cost & Ticket Price   \n",
    "\n",
    "I set up a simulation that allow me to adjust the cost of stadium and its ticket pricing for a given Location ID."
   ]
  },
  {
   "cell_type": "code",
   "execution_count": null,
   "id": "5dc6b2ba-d851-4d45-926f-05953a3615ea",
   "metadata": {},
   "outputs": [],
   "source": [
    "cost_simulation = cube.create_parameter_simulation(\n",
    "    \"Cost Simulation\",\n",
    "    levels=[l[\"Location ID\"], l[\"Region\"]],\n",
    "    measures={\"Simulated Stadium Cost\": None, \"Simulated Ticket Price\": None},\n",
    ")"
   ]
  },
  {
   "cell_type": "markdown",
   "id": "93ca23af-7395-49e7-876b-e284820a0c6d",
   "metadata": {},
   "source": [
    "I create a scenario in the simulation where the cost increases for the `Location ID` 5:\n",
    "- Stadium cost goes from 25,000 to 28,000\n",
    "- Ticket price goes from \\\\$20 to \\\\$25."
   ]
  },
  {
   "cell_type": "code",
   "execution_count": null,
   "id": "96502e3f-469c-4ec5-a749-ade21726b20e",
   "metadata": {},
   "outputs": [],
   "source": [
    "cost_simulation += (\"Cost increase\", \"5\", None, 28000, 25)"
   ]
  },
  {
   "cell_type": "markdown",
   "id": "4df28a77-c4d5-4b28-9245-c3bd020ac599",
   "metadata": {},
   "source": [
    "I need to associate the newly create measures- `m[\"Simulated Stadium Cost\"]` and `m[\"Simulated Ticket Price\"]` with my stadium cost and ticket price.  \n",
    "To do so, I update the existing definition of the below measures to consider the simulated values if they are not `None`."
   ]
  },
  {
   "cell_type": "code",
   "execution_count": null,
   "id": "5efa86cc-cdf4-4bfa-abd9-403e835b797a",
   "metadata": {},
   "outputs": [],
   "source": [
    "m[\"Avg Stadium Cost\"] = tt.agg.mean(\n",
    "    tt.where(\n",
    "        ~m[\"Simulated Stadium Cost\"].isnull(), m[\"Simulated Stadium Cost\"], stadium_cost\n",
    "    ),\n",
    "    scope=tt.OriginScope(l[\"Combat ID\"], l[\"Location ID\"]),\n",
    ")\n",
    "\n",
    "\n",
    "m[\"Avg Ticket Price\"] = tt.agg.mean(\n",
    "    tt.where(\n",
    "        ~m[\"Simulated Ticket Price\"].isnull(), m[\"Simulated Ticket Price\"], ticket_price\n",
    "    ),\n",
    "    scope=tt.OriginScope(l[\"Combat ID\"], l[\"Location ID\"]),\n",
    ")"
   ]
  },
  {
   "cell_type": "markdown",
   "id": "d387753a-9c7e-4740-83ed-2e4a586e6f6d",
   "metadata": {},
   "source": [
    "Since profit is affected by the `m[\"Avg Stadium Cost\"]` and `m[\"Avg Ticket Price\"]`, the simulated values caused the profit to increase accordingly.  \n",
    "The below visualization stacks the source simulation against the parameter simulation."
   ]
  },
  {
   "cell_type": "code",
   "execution_count": null,
   "id": "f2c3c9eb-febd-469e-b4ec-bc27f4f9dce9",
   "metadata": {
    "atoti": {
     "height": 196,
     "widget": {
      "filters": [
       "[Location].[Location].[AllMember].[Kanto].[Viridian City]"
      ],
      "mapping": {
       "columns": [
        "[Cost Simulation].[Cost Simulation].[Cost Simulation]",
        "ALL_MEASURES"
       ],
       "measures": [
        "[Measures].[Profit]",
        "[Measures].[Tickets Sold]",
        "[Measures].[Avg Stadium Cost]",
        "[Measures].[Avg Ticket Price]",
        "[Measures].[Simulated Stadium Cost]",
        "[Measures].[Simulated Ticket Price]"
       ],
       "rows": [
        "[Epoch].[Epoch].[Branch]"
       ]
      },
      "name": "Viridian What-if",
      "query": {
       "mdx": "SELECT NON EMPTY [Epoch].[Epoch].[Branch].Members ON ROWS, NON EMPTY Crossjoin([Cost Simulation].[Cost Simulation].[Cost Simulation].Members, {[Measures].[Profit], [Measures].[Tickets Sold], [Measures].[Avg Stadium Cost], [Measures].[Avg Ticket Price], [Measures].[Simulated Stadium Cost], [Measures].[Simulated Ticket Price]}) ON COLUMNS FROM [Pokemon battles] CELL PROPERTIES VALUE, FORMATTED_VALUE, BACK_COLOR, FORE_COLOR, FONT_FLAGS",
       "updateMode": "once"
      },
      "serverKey": "default",
      "widgetKey": "pivot-table"
     }
    },
    "tags": []
   },
   "outputs": [],
   "source": [
    "session.visualize(\"Viridian What-if simulation\")"
   ]
  },
  {
   "cell_type": "markdown",
   "id": "115cd7f3-392e-44f6-832d-a0f03c1ceea0",
   "metadata": {
    "tags": []
   },
   "source": [
    "## 7. Endpoints for custom UI plugins \n",
    "\n",
    "The below sections shows how I created endpoints to trigger custom behaviours from the web application to the back-end.  "
   ]
  },
  {
   "cell_type": "markdown",
   "id": "902324a6-fb58-4f6b-aec1-62939cea5fa4",
   "metadata": {},
   "source": [
    "### 7.1 Helper functions  \n",
    "\n",
    "I have created some Python functions to help determine which Pokémon wins the match. These functions are available in the [helper.py](utils/helper.py)."
   ]
  },
  {
   "cell_type": "code",
   "execution_count": null,
   "id": "25328b57-56f7-4dd4-ad22-d48ee87d685e",
   "metadata": {},
   "outputs": [],
   "source": [
    "from utils import helper\n",
    "\n",
    "helper_util = helper.Helper(session, cube_name)"
   ]
  },
  {
   "cell_type": "markdown",
   "id": "40c4f423-cf2e-4ae4-b284-d42a2424a70e",
   "metadata": {},
   "source": [
    "### 7.2 Endpoints  \n",
    "\n",
    "I can create custom [endpoints](https://docs.atoti.io/latest/lib/atoti/atoti.session.html#atoti.Session.endpoint) with Atoti. \n",
    "This saves me from the trouble of having to add [FastAPI](https://fastapi.tiangolo.com/) or [Flask server](https://flask.palletsprojects.com/) to the project.  \n",
    "\n",
    "__Note: Custom endpoint is available for <img src=\"https://img.shields.io/badge/-Atoti%20CE-AF4D61\" />. However, in my use case, I'm triggering the endpoints from the custom widgets in the web application. Therefore, I would need <img src=\"https://img.shields.io/badge/🔒-Atoti-291A40\" />.__"
   ]
  },
  {
   "cell_type": "code",
   "execution_count": null,
   "id": "56a85352-ade0-4849-a033-06f5be7b0517",
   "metadata": {},
   "outputs": [],
   "source": [
    "@session.endpoint(\"levels/{level_name}/members\", method=\"GET\")\n",
    "def get_level_members(request, user, session):\n",
    "\n",
    "    level_name = urllib.parse.unquote(request.path_parameters[\"level_name\"])\n",
    "    dimension_name = session.cubes[cube_name].levels[level_name].dimension\n",
    "    hierarchy_name = session.cubes[cube_name].levels[level_name].hierarchy\n",
    "    mdx = f\"SELECT NON EMPTY [{dimension_name}].[{hierarchy_name}].[{level_name}].Members ON 0 FROM [{cube_name}]\"\n",
    "    df = session.query_mdx(mdx, keep_totals=False, timeout=dt.timedelta(seconds=30))\n",
    "    members = df.index.to_list()\n",
    "    if isinstance(members[0], date):\n",
    "        members = list(map(lambda x: x.isoformat(), members))\n",
    "    return members"
   ]
  },
  {
   "cell_type": "code",
   "execution_count": null,
   "id": "beb1ebcf-5f21-4819-a1f7-8a3a12ac4b68",
   "metadata": {
    "tags": []
   },
   "outputs": [],
   "source": [
    "@session.endpoint(\"measures/win-rate/{pokemon}/{opponent}\", method=\"GET\")\n",
    "def get_win_rate(request, user, session):\n",
    "    pokemon = urllib.parse.unquote(request.path_parameters[\"pokemon\"])\n",
    "    opponent = urllib.parse.unquote(request.path_parameters[\"opponent\"])\n",
    "    \n",
    "    mdx = f\"\"\" SELECT [Measures].[Win Rate] ON COLUMNS FROM [{cube_name}]\n",
    "                WHERE (\n",
    "                    [Pokemon].[Pokemon].[AllMember].[{pokemon}],\n",
    "                    [Opponent Pokemon].[Opponent Pokemon].[AllMember].[{opponent}] )\"\"\"\n",
    "    df = session.query_mdx(mdx, keep_totals=False, timeout=dt.timedelta(seconds=30))\n",
    "\n",
    "    if (df.size > 0) & (~pd.isna(df[\"Win Rate\"][0])):\n",
    "        return df[\"Win Rate\"][0]\n",
    "    else:\n",
    "        return None"
   ]
  },
  {
   "cell_type": "code",
   "execution_count": null,
   "id": "cb6b6b07-4334-4f30-987f-f0da2d9ead04",
   "metadata": {
    "tags": []
   },
   "outputs": [],
   "source": [
    "@session.endpoint(\"battle/{pokemon}/{opponent}/{winner}\", method=\"GET\")\n",
    "def battle(request, user, session):\n",
    "    pokemon = urllib.parse.unquote(request.path_parameters[\"pokemon\"])\n",
    "    opponent = urllib.parse.unquote(request.path_parameters[\"opponent\"])\n",
    "    winner = urllib.parse.unquote(request.path_parameters[\"winner\"])\n",
    "    helper_util.generate_new_battle(pokemon, opponent, pokemon == winner)\n",
    "    return \"OK\""
   ]
  },
  {
   "cell_type": "markdown",
   "id": "067429bc-0240-41ea-a694-eecddf3e0d9a",
   "metadata": {},
   "source": [
    "### <img src=\"https://img.shields.io/badge/🔒-Atoti-291A40\" /> Invoke endpoint from Custom UI"
   ]
  },
  {
   "cell_type": "markdown",
   "id": "40f61698-9c9b-4142-bdfc-ef8058c868af",
   "metadata": {},
   "source": [
    "Refer to the [javascript extension](extensions/src) for the web application to see how I invoke the endpoints with custom widgets.  \n",
    "Follow the [README.md](extensions/README.md) on how to build the javascript project. To use the custom web application, configure the `dist` when instantiating the session:  \n",
    "\n",
    "```\n",
    "session = tt.Session(\n",
    "    app_extensions={\"@atoti/pokemon-extension\": \"./extensions/dist\"},\n",
    ")\n",
    "```\n",
    "\n",
    "To see the customized widgets in action, click on the link below.   \n",
    "Remember to run the notebook with `atoti_unlock` set to `True`. Have fun battling your favorite Pokémon!"
   ]
  },
  {
   "cell_type": "code",
   "execution_count": null,
   "id": "f28d1e47-465f-4c85-8256-27b199a14f79",
   "metadata": {},
   "outputs": [],
   "source": []
  }
 ],
 "metadata": {
  "kernelspec": {
   "display_name": "Python 3 (ipykernel)",
   "language": "python",
   "name": "python3"
  },
  "language_info": {
   "codemirror_mode": {
    "name": "ipython",
    "version": 3
   },
   "file_extension": ".py",
   "mimetype": "text/x-python",
   "name": "python",
   "nbconvert_exporter": "python",
   "pygments_lexer": "ipython3",
   "version": "3.10.11"
  }
 },
 "nbformat": 4,
 "nbformat_minor": 5
}
