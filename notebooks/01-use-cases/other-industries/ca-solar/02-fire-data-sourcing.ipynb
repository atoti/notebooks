{
 "cells": [
  {
   "cell_type": "markdown",
   "id": "f1e33aba-8ee7-49e6-ba33-95c14300eda7",
   "metadata": {},
   "source": [
    "# Sourcing fire data\n",
    "This notebook stitches together downloaded jsons from fire.ca.gov to create several dataframes used in the main notebook.\n",
    "\n",
    "The underlying jsons are not provided, but one can download it for themselves from ca.fire.gov and run this notebook to create updated files."
   ]
  },
  {
   "cell_type": "code",
   "execution_count": null,
   "id": "aa519a64-99d5-4104-80e2-a4854ea1ab3e",
   "metadata": {},
   "outputs": [],
   "source": [
    "import json  # for raw fire data\n",
    "\n",
    "import numpy as np  # for nan\n",
    "import pandas as pd  # to convert json data to dataframe\n",
    "import pyarrow.feather as feather  # lightweight export of dataframe\n",
    "from scipy.spatial.distance import cdist"
   ]
  },
  {
   "cell_type": "code",
   "execution_count": null,
   "id": "8216315c-406a-4f6e-b822-d6492b2c84d2",
   "metadata": {},
   "outputs": [],
   "source": [
    "# Loading Data\n",
    "path_to_read_data = \"./data\"  # this data can be downloaded from ca.fire.gov; replace path as appropriate\n",
    "path_to_write_data = \"./data\"\n",
    "\n",
    "# Opening JSON\n",
    "start = 2016\n",
    "end = 2021"
   ]
  },
  {
   "cell_type": "code",
   "execution_count": null,
   "id": "2cf7ee01-48b0-4e6e-8350-d75861c04cd6",
   "metadata": {},
   "outputs": [],
   "source": [
    "# initiate data with first year\n",
    "with open(f\"{path_to_read_data}/calfire-{start}.json\") as f:\n",
    "    start_data = json.load(f)\n",
    "    annual_data = start_data[f\"firedata{start}\"]\n",
    "\n",
    "print(f\"Number of fires in {start} : {len(annual_data)}\")"
   ]
  },
  {
   "cell_type": "code",
   "execution_count": null,
   "id": "6edcb782-e6c9-4f51-a638-f5983cb98ce1",
   "metadata": {},
   "outputs": [],
   "source": [
    "# add second year through final year\n",
    "for year in range(start + 1, end):\n",
    "    with open(f\"{path_to_read_data}/calfire-{year}.json\") as f:\n",
    "        additional_data = json.load(f)\n",
    "        new_data = additional_data[f\"firedata{year}\"]\n",
    "        print(f\"Number of fires in {year} : {len(new_data)}\")\n",
    "        for new_datum in new_data:\n",
    "            annual_data.append(new_datum)"
   ]
  },
  {
   "cell_type": "code",
   "execution_count": null,
   "id": "0a79781c-06dd-4ec4-bf0e-c4db906be46b",
   "metadata": {},
   "outputs": [],
   "source": [
    "# clean and convert data to dataframe\n",
    "df = pd.DataFrame.from_dict(annual_data)\n",
    "df = df.loc[df[\"AcresBurnedDisplay\"] != 0]  # removing trivial data"
   ]
  },
  {
   "cell_type": "markdown",
   "id": "51540117-ec8c-4e2e-b428-6695b496011e",
   "metadata": {},
   "source": [
    "Creating a dataframe hosting the relationship between each solar data station to the wildfire locations and a dataframe with fire lat/lons"
   ]
  },
  {
   "cell_type": "code",
   "execution_count": null,
   "id": "0842c184-a961-48e5-bff4-f3576df7ca38",
   "metadata": {},
   "outputs": [],
   "source": [
    "# create df of fire+lat+lon\n",
    "fire_latlon = df.filter([\"Name\", \"Latitude\", \"Longitude\", \"StartedDate\"], axis=1)\n",
    "\n",
    "fire_latlon[\"LatLon\"] = [\n",
    "    (x, y) for x, y in zip(fire_latlon[\"Latitude\"], fire_latlon[\"Longitude\"])\n",
    "]\n",
    "\n",
    "fire_latlon[\"When\"] = pd.to_datetime(fire_latlon[\"StartedDate\"]).dt.strftime(\"%Y-%m-%d\")\n",
    "del fire_latlon[\"StartedDate\"]\n",
    "fire_latlon.head()"
   ]
  },
  {
   "cell_type": "code",
   "execution_count": null,
   "id": "abdea6ea-20b4-482a-8e38-3a54e329c7c2",
   "metadata": {},
   "outputs": [],
   "source": [
    "fire_latlon[\"Name\"] = fire_latlon[\"When\"].astype(str) + fire_latlon[\"Name\"]\n",
    "del fire_latlon[\"When\"]"
   ]
  },
  {
   "cell_type": "code",
   "execution_count": null,
   "id": "5f3fe8e8-48a3-43cd-89e0-d99e01cdb59a",
   "metadata": {},
   "outputs": [],
   "source": [
    "# pull in station lat+lon\n",
    "solar_df = pd.read_feather(\n",
    "    \"s3://data.atoti.io/notebooks/ca-solar/nsrdb_station_lat_lon.feather\"\n",
    ")\n",
    "\n",
    "solar_df[\"LatLon\"] = [\n",
    "    (x, y) for x, y in zip(solar_df[\"Latitude\"], solar_df[\"Longitude\"])\n",
    "]\n",
    "solar_df.head()"
   ]
  },
  {
   "cell_type": "code",
   "execution_count": null,
   "id": "fac78866-0acb-405d-b431-a669e0b26728",
   "metadata": {},
   "outputs": [],
   "source": [
    "# create matrix of distances\n",
    "fire_station_dist = cdist(list(solar_df[\"LatLon\"]), list(fire_latlon[\"LatLon\"]))\n",
    "\n",
    "fs_dist = pd.DataFrame(data=fire_station_dist, columns=fire_latlon[\"Name\"])\n",
    "fs_dist.head()"
   ]
  },
  {
   "cell_type": "code",
   "execution_count": null,
   "id": "19e6db9a-6778-46c5-a021-8a786074d693",
   "metadata": {},
   "outputs": [],
   "source": [
    "dist = pd.concat([solar_df[\"Station\"], fs_dist], axis=1)"
   ]
  },
  {
   "cell_type": "code",
   "execution_count": null,
   "id": "1e2a542d-fe5f-40d5-b976-bf411288f609",
   "metadata": {},
   "outputs": [],
   "source": [
    "dist.head()"
   ]
  },
  {
   "cell_type": "code",
   "execution_count": null,
   "id": "6f62825b-4b64-4ada-b67b-c6300c45a9c8",
   "metadata": {},
   "outputs": [],
   "source": [
    "dist_df = pd.melt(\n",
    "    dist, id_vars=\"Station\", ignore_index=False, var_name=\"Fire\", value_name=\"Distance\"\n",
    ")\n",
    "\n",
    "dist_df.head()"
   ]
  },
  {
   "cell_type": "code",
   "execution_count": null,
   "id": "7bed7347-6bad-4351-9de2-80a3928bd492",
   "metadata": {},
   "outputs": [],
   "source": [
    "fire_loc = fire_latlon.drop(\"LatLon\", axis=1)\n",
    "fire_loc.rename(\n",
    "    columns={\n",
    "        \"Name\": \"Fire\",\n",
    "    },\n",
    "    inplace=True,\n",
    ")"
   ]
  },
  {
   "cell_type": "code",
   "execution_count": null,
   "id": "f102661b-82f3-42b7-b0d7-f891d70aad62",
   "metadata": {},
   "outputs": [],
   "source": [
    "feather.write_feather(\n",
    "    dist_df, f\"{path_to_write_data}/distance.feather\", compression=\"zstd\"\n",
    ")\n",
    "feather.write_feather(\n",
    "    fire_loc, f\"{path_to_write_data}/fire_loc.feather\", compression=\"zstd\"\n",
    ")"
   ]
  },
  {
   "cell_type": "markdown",
   "id": "34f20c00-0742-4ea9-8ab5-0d0e81c749ec",
   "metadata": {},
   "source": [
    "Creating a dataframe holding the key fire data"
   ]
  },
  {
   "cell_type": "code",
   "execution_count": null,
   "id": "02e7349d-13db-4223-bca2-6553c6121f42",
   "metadata": {},
   "outputs": [],
   "source": [
    "df.head()"
   ]
  },
  {
   "cell_type": "code",
   "execution_count": null,
   "id": "5d2c9ae6-4dda-4b08-aaba-901891ba9151",
   "metadata": {},
   "outputs": [],
   "source": [
    "fire_data = df.filter(\n",
    "    [\"Name\", \"AcresBurnedDisplay\", \"StartedDate\", \"UpdatedDate\"], axis=1\n",
    ")\n",
    "fire_data[\"StartedMonth\"] = pd.to_datetime(fire_data[\"StartedDate\"]).dt.strftime(\"%m\")\n",
    "\n",
    "fire_data[\"When\"] = pd.to_datetime(fire_data[\"StartedDate\"]).dt.strftime(\"%Y-%m-%d\")\n",
    "\n",
    "fire_data[\"UpdatedDate\"] = pd.to_datetime(fire_data[\"UpdatedDate\"])\n",
    "fire_data[\"UpdatedDate\"] = [d.date() for d in fire_data[\"UpdatedDate\"]]\n",
    "\n",
    "fire_data[\"Name\"] = fire_data[\"When\"].astype(str) + fire_data[\"Name\"]\n",
    "del fire_data[\"When\"]\n",
    "\n",
    "fire_data.rename(\n",
    "    columns={\n",
    "        \"UpdatedDate\": \"EndedDate\",\n",
    "        \"AcresBurnedDisplay\": \"AcresBurned\",\n",
    "        \"Name\": \"Fire\",\n",
    "    },\n",
    "    inplace=True,\n",
    ")\n",
    "\n",
    "fire_data.head()"
   ]
  },
  {
   "cell_type": "code",
   "execution_count": null,
   "id": "5e3557d7-52d5-4c8c-9a75-47ba140a057a",
   "metadata": {},
   "outputs": [],
   "source": [
    "feather.write_feather(\n",
    "    fire_data, f\"{path_to_write_data}/fire_data.feather\", compression=\"zstd\"\n",
    ")"
   ]
  }
 ],
 "metadata": {
  "kernelspec": {
   "display_name": "Python 3 (ipykernel)",
   "language": "python",
   "name": "python3"
  },
  "language_info": {
   "codemirror_mode": {
    "name": "ipython",
    "version": 3
   },
   "file_extension": ".py",
   "mimetype": "text/x-python",
   "name": "python",
   "nbconvert_exporter": "python",
   "pygments_lexer": "ipython3",
   "version": "3.7.12+"
  }
 },
 "nbformat": 4,
 "nbformat_minor": 5
}
