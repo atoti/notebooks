{
 "cells": [
  {
   "cell_type": "markdown",
   "id": "7e528120-b324-46dc-9e6b-04354b3b0909",
   "metadata": {},
   "source": [
    "# Watching a Monte Carlo Estimate of Pi with Atoti CE\n",
    "\n",
    "They say a watched pot never boils. Does that mean a watched pie never bakes? Or worse, a watched monte carlo estimate for pi never converges?? 🤯  \n",
    "Let's find out! We're going to estimate the value of pi using a simple monte carlo simulation, and watch in real time as it converges 🫣\n",
    "\n",
    "<div style=\"text-align: center;\" ><a href=\"https://www.atoti.io/?utm_source=gallery&utm_content=ca-solar\" target=\"_blank\" rel=\"noopener noreferrer\"><img src=\"https://data.atoti.io/notebooks/banners/Discover-Atoti-now.png\" alt=\"Try Atoti\"></a></div>"
   ]
  },
  {
   "cell_type": "code",
   "execution_count": 1,
   "id": "a851d48c-5729-440a-a7b1-a7f50f2c9148",
   "metadata": {},
   "outputs": [],
   "source": [
    "import numpy as np"
   ]
  },
  {
   "cell_type": "markdown",
   "id": "d99f5856-1887-4bb4-9cfb-e53656a06472",
   "metadata": {},
   "source": [
    "The idea behind this estimate is simple. Let's assume we have a circle of radius one, fitted inside a square whose side length is 2. We know the area of the circle is $\\pi r^2=\\pi$ and the area of the square is $s^2=4$. If we randomly assign points to the 2x2 square grid, many of the points would be inside the circle, and rest would be outside. We would expect $Q=\\frac{A_c}{A_s}=\\frac{\\pi r^2}{s^2}=\\frac{\\pi}{4}$ of the points to land in the circle."
   ]
  },
  {
   "cell_type": "code",
   "execution_count": 2,
   "id": "6c1c27dc-7063-4c25-bc02-11c7966ac90f",
   "metadata": {},
   "outputs": [],
   "source": [
    "# counter for total number of points in circle and total number of points\n",
    "count_in_circle = 0\n",
    "count_total = 0"
   ]
  },
  {
   "cell_type": "markdown",
   "id": "00e97640-fef3-4a15-9d61-62cbf3c58323",
   "metadata": {},
   "source": [
    "That means if we run a simulation randomly assigning points, we would expect $Q_i\\to_{i\\to\\infty} \\frac{\\pi}{4}$ or $4Q_i\\to_{i\\to\\infty}\\pi$. If I do some renaming, then $4Q_i = P_i\\to_{i\\to\\infty}\\pi$.\n",
    "\n",
    "So let's try!"
   ]
  },
  {
   "cell_type": "code",
   "execution_count": 3,
   "id": "b2c951b5-a211-4d01-8fc7-cc294e4157f4",
   "metadata": {},
   "outputs": [
    {
     "name": "stdout",
     "output_type": "stream",
     "text": [
      "3.108\n"
     ]
    }
   ],
   "source": [
    "# let's just see what happens if we try this for a \"small\" number of points\n",
    "counter = 1000\n",
    "P = []\n",
    "x = np.random.uniform(-1, 1, counter)\n",
    "y = np.random.uniform(-1, 1, counter)\n",
    "\n",
    "for i in range(counter):\n",
    "    if x[i] ** 2 + y[i] ** 2 <= 1:\n",
    "        count_in_circle += 1\n",
    "    count_total += 1\n",
    "    P.append(4 * count_in_circle / count_total)\n",
    "\n",
    "print(P[-1])"
   ]
  },
  {
   "cell_type": "markdown",
   "id": "86af646d-16d2-436a-8fc8-f4ff86528d4a",
   "metadata": {},
   "source": [
    "This isn't a bad estimate! But can it get better?"
   ]
  },
  {
   "cell_type": "code",
   "execution_count": 4,
   "id": "64c2b8d2-7aac-4169-a5b0-e35e7792d786",
   "metadata": {},
   "outputs": [],
   "source": [
    "# let's turn the above into a function\n",
    "def pi_iter(P, count_in_circle, count_total):\n",
    "    counter = 1000\n",
    "    x = np.random.uniform(-1, 1, counter)\n",
    "    y = np.random.uniform(-1, 1, counter)\n",
    "\n",
    "    for i in range(counter):\n",
    "        if x[i] ** 2 + y[i] ** 2 <= 1:\n",
    "            count_in_circle += 1\n",
    "        count_total += 1\n",
    "        P.append(4 * count_in_circle / count_total)\n",
    "    return P, count_in_circle, count_total"
   ]
  },
  {
   "cell_type": "code",
   "execution_count": 5,
   "id": "6f70564c-cd30-4f33-8f6c-803b5e1a97d1",
   "metadata": {},
   "outputs": [],
   "source": [
    "import time\n",
    "\n",
    "import atoti as tt"
   ]
  },
  {
   "cell_type": "code",
   "execution_count": 6,
   "id": "3867af2b-375d-46fd-88c9-99dc03cd8a2b",
   "metadata": {},
   "outputs": [],
   "source": [
    "session = tt.Session(user_content_storage=\"./content\", port=8081)"
   ]
  },
  {
   "cell_type": "code",
   "execution_count": 7,
   "id": "520f985a-7fe0-4114-a4d5-387a120a2b9b",
   "metadata": {},
   "outputs": [],
   "source": [
    "# got data, got to use it!\n",
    "table = session.create_table(\n",
    "    \"pi_est\", types={\"Iteration\": tt.type.INT, \"P_i\": tt.type.FLOAT}, keys=[\"Iteration\"]\n",
    ")\n",
    "table.append((count_total / 1000, P[-1]))\n",
    "\n",
    "cube = session.create_cube(table, mode=\"no_measures\")"
   ]
  },
  {
   "cell_type": "code",
   "execution_count": 8,
   "id": "f026b4df-d9b4-4f35-a1a2-82bbdf5699fc",
   "metadata": {},
   "outputs": [],
   "source": [
    "cube.measures[\"Pi\"] = np.pi"
   ]
  },
  {
   "cell_type": "code",
   "execution_count": 9,
   "id": "d7702769-15b3-4a84-b0d1-9fc019a89842",
   "metadata": {
    "tags": []
   },
   "outputs": [],
   "source": [
    "cube.measures[\"Pi_est\"] = tt.agg.single_value(table[\"P_i\"])"
   ]
  },
  {
   "cell_type": "code",
   "execution_count": 10,
   "id": "c7a4080d-d87f-4bf7-a65c-812b27e7a76f",
   "metadata": {},
   "outputs": [
    {
     "data": {
      "application/vnd.atoti.link.v0+json": {
       "path": "#/dashboard/61c",
       "sessionLocation": {
        "https": false,
        "port": 8081
       }
      },
      "text/plain": [
       "Open the notebook in JupyterLab with the Atoti extension enabled to see this link."
      ]
     },
     "execution_count": 10,
     "metadata": {},
     "output_type": "execute_result"
    }
   ],
   "source": [
    "session.link(path=\"#/dashboard/61c\")"
   ]
  },
  {
   "cell_type": "markdown",
   "id": "8235c9b5-dcbe-4b68-b205-17e8d36dde5c",
   "metadata": {},
   "source": [
    "Run the below cell to continue the interation, and watch the estimate evolve (and converge!) using the above dashboard."
   ]
  },
  {
   "cell_type": "code",
   "execution_count": 11,
   "id": "c2878fc1-fb1a-43b8-9f29-cc35434f97a2",
   "metadata": {},
   "outputs": [],
   "source": [
    "# iterate through\n",
    "for i in range(5000):\n",
    "    P, count_in_circle, count_total = pi_iter(P, count_in_circle, count_total)\n",
    "    table.append((count_total / 1000, P[-1]))"
   ]
  },
  {
   "cell_type": "markdown",
   "id": "bfb05b5b-a7bb-4fc4-a336-06dba78eda35",
   "metadata": {},
   "source": [
    "<div style=\"text-align: center;\" ><a href=\"https://www.atoti.io/?utm_source=gallery&utm_content=ca-solar\" target=\"_blank\" rel=\"noopener noreferrer\"><img src=\"https://data.atoti.io/notebooks/banners/Your-turn-to-try-Atoti.jpg\" alt=\"Try Atoti\"></a></div>"
   ]
  }
 ],
 "metadata": {
  "kernelspec": {
   "display_name": "Python 3 (ipykernel)",
   "language": "python",
   "name": "python3"
  },
  "language_info": {
   "codemirror_mode": {
    "name": "ipython",
    "version": 3
   },
   "file_extension": ".py",
   "mimetype": "text/x-python",
   "name": "python",
   "nbconvert_exporter": "python",
   "pygments_lexer": "ipython3",
   "version": "3.10.11"
  }
 },
 "nbformat": 4,
 "nbformat_minor": 5
}
