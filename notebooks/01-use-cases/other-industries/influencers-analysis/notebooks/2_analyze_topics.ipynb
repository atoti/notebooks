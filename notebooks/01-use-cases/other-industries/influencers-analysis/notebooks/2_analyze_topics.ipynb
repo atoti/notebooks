{
 "cells": [
  {
   "cell_type": "markdown",
   "metadata": {
    "id": "q8uxCSNqoXh4"
   },
   "source": [
    "# Topic Modeling with BERT - Analyze results\n",
    "Int his notebook we analyze the created topics."
   ]
  },
  {
   "cell_type": "code",
   "execution_count": 1,
   "metadata": {},
   "outputs": [],
   "source": [
    "import os\n",
    "import sys\n",
    "import re\n",
    "import glob\n",
    "import numpy as np\n",
    "import pandas as pd\n",
    "import random\n",
    "import langdetect\n",
    "from langdetect import detect\n",
    "from joblib import Parallel, delayed\n",
    "from datetime import datetime, timedelta\n",
    "\n",
    "# from bertopic import BERTopic\n",
    "from bertopic._bertopic import BERTopic\n",
    "\n",
    "# OPTIONAL: if you want to have more information on what's happening, activate the logger as follows\n",
    "import logging\n",
    "\n",
    "logging.basicConfig(level=logging.INFO)\n",
    "\n",
    "import umap\n",
    "import hdbscan\n",
    "from sentence_transformers import SentenceTransformer\n",
    "from sklearn.feature_extraction.text import CountVectorizer\n",
    "from sklearn.metrics.pairwise import cosine_similarity\n",
    "from tqdm import tqdm\n",
    "import matplotlib.pyplot as plt\n",
    "\n",
    "from _utils import *\n",
    "\n",
    "import pickle\n",
    "from pathlib import Path"
   ]
  },
  {
   "cell_type": "markdown",
   "metadata": {},
   "source": [
    "### Global variables"
   ]
  },
  {
   "cell_type": "code",
   "execution_count": 2,
   "metadata": {},
   "outputs": [],
   "source": [
    "PROJECT_PATH = Path(\"../../\")\n",
    "DATA_PATH = Path(PROJECT_PATH / \"data\")\n",
    "RESULTS_PATH = Path(PROJECT_PATH / \"results\")"
   ]
  },
  {
   "cell_type": "markdown",
   "metadata": {
    "id": "a_rCkle2Qz0-"
   },
   "source": [
    "### Laod the data\n",
    "The data is filtered to keep only last week tweets and we append Twitter metrics (number of counts, likes, retweets etc.) to the dataset. "
   ]
  },
  {
   "cell_type": "code",
   "execution_count": 6,
   "metadata": {
    "colab": {
     "base_uri": "https://localhost:8080/",
     "height": 370
    },
    "executionInfo": {
     "elapsed": 1654,
     "status": "ok",
     "timestamp": 1623852028637,
     "user": {
      "displayName": "Ariel Ibaba",
      "photoUrl": "",
      "userId": "11123111901736149061"
     },
     "user_tz": -120
    },
    "id": "Er8fKch2Qz0_",
    "outputId": "b44f4d0c-80f4-4f03-d1f3-9b9a63f0f195"
   },
   "outputs": [
    {
     "name": "stdout",
     "output_type": "stream",
     "text": [
      "Data size: (11002, 9)\n",
      "\n"
     ]
    },
    {
     "data": {
      "text/html": [
       "<div>\n",
       "<style scoped>\n",
       "    .dataframe tbody tr th:only-of-type {\n",
       "        vertical-align: middle;\n",
       "    }\n",
       "\n",
       "    .dataframe tbody tr th {\n",
       "        vertical-align: top;\n",
       "    }\n",
       "\n",
       "    .dataframe thead th {\n",
       "        text-align: right;\n",
       "    }\n",
       "</style>\n",
       "<table border=\"1\" class=\"dataframe\">\n",
       "  <thead>\n",
       "    <tr style=\"text-align: right;\">\n",
       "      <th></th>\n",
       "      <th>tweetLink</th>\n",
       "      <th>retweet_count</th>\n",
       "      <th>favorite_count</th>\n",
       "      <th>reply_count</th>\n",
       "      <th>quote_count</th>\n",
       "      <th>text</th>\n",
       "      <th>profileUrl</th>\n",
       "      <th>name</th>\n",
       "      <th>text_lengths</th>\n",
       "    </tr>\n",
       "  </thead>\n",
       "  <tbody>\n",
       "    <tr>\n",
       "      <th>0</th>\n",
       "      <td>https://twitter.com/nigewillson/status/1396723...</td>\n",
       "      <td>10</td>\n",
       "      <td>12</td>\n",
       "      <td>0</td>\n",
       "      <td>0</td>\n",
       "      <td>New Artificial Intelligence System Can Make Yo...</td>\n",
       "      <td>https://twitter.com/nigewillson</td>\n",
       "      <td>Nige Willson</td>\n",
       "      <td>20</td>\n",
       "    </tr>\n",
       "    <tr>\n",
       "      <th>1</th>\n",
       "      <td>https://twitter.com/YvesMulkers/status/1396806...</td>\n",
       "      <td>1</td>\n",
       "      <td>1</td>\n",
       "      <td>0</td>\n",
       "      <td>0</td>\n",
       "      <td>Get the insights on #datagovernance #datamesh ...</td>\n",
       "      <td>https://twitter.com/YvesMulkers</td>\n",
       "      <td>Yves Mulkers</td>\n",
       "      <td>26</td>\n",
       "    </tr>\n",
       "    <tr>\n",
       "      <th>2</th>\n",
       "      <td>https://twitter.com/YvesMulkers/status/1396807...</td>\n",
       "      <td>1</td>\n",
       "      <td>2</td>\n",
       "      <td>0</td>\n",
       "      <td>0</td>\n",
       "      <td>#AI can accomplish incredible things when lead...</td>\n",
       "      <td>https://twitter.com/YvesMulkers</td>\n",
       "      <td>Yves Mulkers</td>\n",
       "      <td>32</td>\n",
       "    </tr>\n",
       "    <tr>\n",
       "      <th>3</th>\n",
       "      <td>https://twitter.com/jennwvaughan/status/139691...</td>\n",
       "      <td>1</td>\n",
       "      <td>35</td>\n",
       "      <td>1</td>\n",
       "      <td>1</td>\n",
       "      <td>Ok, I literally shrieked with glee when I hear...</td>\n",
       "      <td>https://twitter.com/jennwvaughan</td>\n",
       "      <td>Jenn Wortman Vaughan</td>\n",
       "      <td>27</td>\n",
       "    </tr>\n",
       "    <tr>\n",
       "      <th>4</th>\n",
       "      <td>https://twitter.com/nigewillson/status/1396722...</td>\n",
       "      <td>10</td>\n",
       "      <td>6</td>\n",
       "      <td>0</td>\n",
       "      <td>0</td>\n",
       "      <td>Can Artificial Intelligence decode your dreams...</td>\n",
       "      <td>https://twitter.com/nigewillson</td>\n",
       "      <td>Nige Willson</td>\n",
       "      <td>22</td>\n",
       "    </tr>\n",
       "  </tbody>\n",
       "</table>\n",
       "</div>"
      ],
      "text/plain": [
       "                                           tweetLink  ...  text_lengths\n",
       "0  https://twitter.com/nigewillson/status/1396723...  ...            20\n",
       "1  https://twitter.com/YvesMulkers/status/1396806...  ...            26\n",
       "2  https://twitter.com/YvesMulkers/status/1396807...  ...            32\n",
       "3  https://twitter.com/jennwvaughan/status/139691...  ...            27\n",
       "4  https://twitter.com/nigewillson/status/1396722...  ...            22\n",
       "\n",
       "[5 rows x 9 columns]"
      ]
     },
     "execution_count": 6,
     "metadata": {
      "tags": []
     },
     "output_type": "execute_result"
    }
   ],
   "source": [
    "df = pd.read_csv(Path(DATA_PATH / \"reduced_data.csv\"))\n",
    "df = df.reset_index(drop=True)\n",
    "\n",
    "print(f\"Data size: {df.shape}\\n\")\n",
    "df.head()"
   ]
  },
  {
   "cell_type": "markdown",
   "metadata": {
    "id": "uyh2VJDFQz1A"
   },
   "source": [
    "## Load embeddings"
   ]
  },
  {
   "cell_type": "code",
   "execution_count": 7,
   "metadata": {
    "colab": {
     "base_uri": "https://localhost:8080/"
    },
    "executionInfo": {
     "elapsed": 2689,
     "status": "ok",
     "timestamp": 1623852031324,
     "user": {
      "displayName": "Ariel Ibaba",
      "photoUrl": "",
      "userId": "11123111901736149061"
     },
     "user_tz": -120
    },
    "id": "XXUQv7AuQz1A",
    "outputId": "e2b38fd1-9d07-4694-ea81-f38ea717b964"
   },
   "outputs": [
    {
     "name": "stdout",
     "output_type": "stream",
     "text": [
      "Number of documents: 11002\n",
      "\n",
      "Embeddings type: <class 'numpy.ndarray'>\n",
      "Embeddings size: (11002, 768)\n"
     ]
    }
   ],
   "source": [
    "# Load sentences & embeddings from disc\n",
    "with open(Path(DATA_PATH / \"embeddings.pkl\"), \"rb\") as f:\n",
    "    stored_data = pickle.load(f)\n",
    "    docs = stored_data[\"sentences\"]\n",
    "    embeddings = stored_data[\"embeddings\"]\n",
    "\n",
    "print(f\"Number of documents: {len(docs)}\\n\")\n",
    "print(f\"Embeddings type: {type(embeddings)}\\nEmbeddings size: {embeddings.shape}\")"
   ]
  },
  {
   "cell_type": "code",
   "execution_count": 8,
   "metadata": {
    "colab": {
     "base_uri": "https://localhost:8080/",
     "height": 622
    },
    "executionInfo": {
     "elapsed": 8,
     "status": "ok",
     "timestamp": 1623852031324,
     "user": {
      "displayName": "Ariel Ibaba",
      "photoUrl": "",
      "userId": "11123111901736149061"
     },
     "user_tz": -120
    },
    "id": "RJvK4r6zQz1A",
    "outputId": "e914ccc9-9644-45e5-ba68-63039f20db31"
   },
   "outputs": [
    {
     "data": {
      "text/html": [
       "<div>\n",
       "<style scoped>\n",
       "    .dataframe tbody tr th:only-of-type {\n",
       "        vertical-align: middle;\n",
       "    }\n",
       "\n",
       "    .dataframe tbody tr th {\n",
       "        vertical-align: top;\n",
       "    }\n",
       "\n",
       "    .dataframe thead th {\n",
       "        text-align: right;\n",
       "    }\n",
       "</style>\n",
       "<table border=\"1\" class=\"dataframe\">\n",
       "  <thead>\n",
       "    <tr style=\"text-align: right;\">\n",
       "      <th></th>\n",
       "      <th>text</th>\n",
       "      <th>text_cleansed</th>\n",
       "    </tr>\n",
       "  </thead>\n",
       "  <tbody>\n",
       "    <tr>\n",
       "      <th>0</th>\n",
       "      <td>New Artificial Intelligence System Can Make Yo...</td>\n",
       "      <td>Artificial Intelligence Favorite Actors Speak ...</td>\n",
       "    </tr>\n",
       "    <tr>\n",
       "      <th>1</th>\n",
       "      <td>Get the insights on #datagovernance #datamesh ...</td>\n",
       "      <td>insights #datagovernance Revamp Analytics AI b...</td>\n",
       "    </tr>\n",
       "    <tr>\n",
       "      <th>2</th>\n",
       "      <td>#AI can accomplish incredible things when lead...</td>\n",
       "      <td>#AI accomplish incredible things leaders focus...</td>\n",
       "    </tr>\n",
       "    <tr>\n",
       "      <th>3</th>\n",
       "      <td>Ok, I literally shrieked with glee when I hear...</td>\n",
       "      <td>literally shrieked glee heard received dissert...</td>\n",
       "    </tr>\n",
       "    <tr>\n",
       "      <th>4</th>\n",
       "      <td>Can Artificial Intelligence decode your dreams...</td>\n",
       "      <td>Artificial Intelligence decode dreams Artifici...</td>\n",
       "    </tr>\n",
       "    <tr>\n",
       "      <th>5</th>\n",
       "      <td>RT @nigewillson:New Artificial Intelligence Sy...</td>\n",
       "      <td>Artificial Intelligence Favorite Actors Speak ...</td>\n",
       "    </tr>\n",
       "    <tr>\n",
       "      <th>6</th>\n",
       "      <td>RT @nigewillson:Can Artificial Intelligence de...</td>\n",
       "      <td>Artificial Intelligence decode dreams Artifici...</td>\n",
       "    </tr>\n",
       "    <tr>\n",
       "      <th>7</th>\n",
       "      <td>Twitter Axing Artificial Intelligence Photo Cr...</td>\n",
       "      <td>Twitter Axing Artificial Intelligence Photo Cr...</td>\n",
       "    </tr>\n",
       "    <tr>\n",
       "      <th>8</th>\n",
       "      <td>The Future of Artificial Intelligence: Trends ...</td>\n",
       "      <td>Future Artificial Intelligence Trends Watch #ai</td>\n",
       "    </tr>\n",
       "    <tr>\n",
       "      <th>9</th>\n",
       "      <td>Can Your Enterprise Benefit from No-Code Artif...</td>\n",
       "      <td>Enterprise Benefit Code Artificial Intelligenc...</td>\n",
       "    </tr>\n",
       "    <tr>\n",
       "      <th>10</th>\n",
       "      <td>Artificial Intelligence Is Everywhere — Should...</td>\n",
       "      <td>Artificial Intelligence — Excited Concerned #ai</td>\n",
       "    </tr>\n",
       "    <tr>\n",
       "      <th>11</th>\n",
       "      <td>10k non-existent cats created by machine &amp;amp;...</td>\n",
       "      <td>10k existent cats created machine amp Artifici...</td>\n",
       "    </tr>\n",
       "    <tr>\n",
       "      <th>12</th>\n",
       "      <td>Historical Portraits brought to Life using Col...</td>\n",
       "      <td>Historical Portraits brought Life Colorization...</td>\n",
       "    </tr>\n",
       "    <tr>\n",
       "      <th>13</th>\n",
       "      <td>Let Artificial Intelligence Help with Parking ...</td>\n",
       "      <td>Artificial Intelligence Parking Problems amp a...</td>\n",
       "    </tr>\n",
       "    <tr>\n",
       "      <th>14</th>\n",
       "      <td>RT @JoeMacGregor:NASA/GSFC is hiring a scienti...</td>\n",
       "      <td>NASA GSFC hiring scientist specializes sea ice...</td>\n",
       "    </tr>\n",
       "    <tr>\n",
       "      <th>15</th>\n",
       "      <td>China showcases its artificial intelligence ad...</td>\n",
       "      <td>China showcases artificial intelligence advanc...</td>\n",
       "    </tr>\n",
       "    <tr>\n",
       "      <th>16</th>\n",
       "      <td>IBM’s Project CodeNet will test how far you ca...</td>\n",
       "      <td>IBM’ Project CodeNet test push Artificial Inte...</td>\n",
       "    </tr>\n",
       "    <tr>\n",
       "      <th>17</th>\n",
       "      <td>Come to 'Data Warehousing &amp;amp; BI Summit 2021...</td>\n",
       "      <td>Data Warehousing amp Summit 2021 30 Jun #Busin...</td>\n",
       "    </tr>\n",
       "    <tr>\n",
       "      <th>18</th>\n",
       "      <td>RT @CREWcrew:Mitch McConnell got $250,000 from...</td>\n",
       "      <td>Mitch McConnell 250 000 37 Fortune 500 CEOs ’ ...</td>\n",
       "    </tr>\n",
       "    <tr>\n",
       "      <th>19</th>\n",
       "      <td>RT @ArvindKrishna:Great piece by @tsmullaney h...</td>\n",
       "      <td>Great piece highlighting Lois Lew mastered IBM...</td>\n",
       "    </tr>\n",
       "  </tbody>\n",
       "</table>\n",
       "</div>"
      ],
      "text/plain": [
       "                                                 text                                      text_cleansed\n",
       "0   New Artificial Intelligence System Can Make Yo...  Artificial Intelligence Favorite Actors Speak ...\n",
       "1   Get the insights on #datagovernance #datamesh ...  insights #datagovernance Revamp Analytics AI b...\n",
       "2   #AI can accomplish incredible things when lead...  #AI accomplish incredible things leaders focus...\n",
       "3   Ok, I literally shrieked with glee when I hear...  literally shrieked glee heard received dissert...\n",
       "4   Can Artificial Intelligence decode your dreams...  Artificial Intelligence decode dreams Artifici...\n",
       "5   RT @nigewillson:New Artificial Intelligence Sy...  Artificial Intelligence Favorite Actors Speak ...\n",
       "6   RT @nigewillson:Can Artificial Intelligence de...  Artificial Intelligence decode dreams Artifici...\n",
       "7   Twitter Axing Artificial Intelligence Photo Cr...  Twitter Axing Artificial Intelligence Photo Cr...\n",
       "8   The Future of Artificial Intelligence: Trends ...    Future Artificial Intelligence Trends Watch #ai\n",
       "9   Can Your Enterprise Benefit from No-Code Artif...  Enterprise Benefit Code Artificial Intelligenc...\n",
       "10  Artificial Intelligence Is Everywhere — Should...    Artificial Intelligence — Excited Concerned #ai\n",
       "11  10k non-existent cats created by machine &amp;...  10k existent cats created machine amp Artifici...\n",
       "12  Historical Portraits brought to Life using Col...  Historical Portraits brought Life Colorization...\n",
       "13  Let Artificial Intelligence Help with Parking ...  Artificial Intelligence Parking Problems amp a...\n",
       "14  RT @JoeMacGregor:NASA/GSFC is hiring a scienti...  NASA GSFC hiring scientist specializes sea ice...\n",
       "15  China showcases its artificial intelligence ad...  China showcases artificial intelligence advanc...\n",
       "16  IBM’s Project CodeNet will test how far you ca...  IBM’ Project CodeNet test push Artificial Inte...\n",
       "17  Come to 'Data Warehousing &amp; BI Summit 2021...  Data Warehousing amp Summit 2021 30 Jun #Busin...\n",
       "18  RT @CREWcrew:Mitch McConnell got $250,000 from...  Mitch McConnell 250 000 37 Fortune 500 CEOs ’ ...\n",
       "19  RT @ArvindKrishna:Great piece by @tsmullaney h...  Great piece highlighting Lois Lew mastered IBM..."
      ]
     },
     "execution_count": 8,
     "metadata": {
      "tags": []
     },
     "output_type": "execute_result"
    }
   ],
   "source": [
    "df[\"text_cleansed\"] = docs\n",
    "df[[\"text\", \"text_cleansed\"]].head(20)"
   ]
  },
  {
   "cell_type": "code",
   "execution_count": 9,
   "metadata": {
    "colab": {
     "base_uri": "https://localhost:8080/"
    },
    "executionInfo": {
     "elapsed": 6,
     "status": "ok",
     "timestamp": 1623852031325,
     "user": {
      "displayName": "Ariel Ibaba",
      "photoUrl": "",
      "userId": "11123111901736149061"
     },
     "user_tz": -120
    },
    "id": "4IxF1hlsQz1B",
    "outputId": "88da5e6a-f113-4f6f-dff7-7b49f9c7f6ec"
   },
   "outputs": [
    {
     "name": "stdout",
     "output_type": "stream",
     "text": [
      "Num. of documents: 11002\n",
      "\n",
      "\n",
      "1: \"Join 2 Jul Revamp Analytics AI based Solutions Barry Devlin #datagovernance\"\n",
      "\n",
      "2: \"Company #AI Institutional Review Board\"\n",
      "\n",
      "3: \"#dataviz 47 000 debris orbit Source\"\n",
      "\n"
     ]
    }
   ],
   "source": [
    "print(f\"Num. of documents: {len(docs)}\\n\\n\")\n",
    "\n",
    "for i, d in enumerate(random.sample(list(docs), 3)):\n",
    "    print(f\"{i + 1}: '{d}'\\n\")"
   ]
  },
  {
   "cell_type": "markdown",
   "metadata": {
    "id": "SBcNmZJzSTY8"
   },
   "source": [
    "# **Create Topics**\n",
    "We select the \"english\" as the main language for our documents. If you want a multilingual model that supports 50+ languages, please select \"multilingual\" instead. "
   ]
  },
  {
   "cell_type": "markdown",
   "metadata": {
    "id": "sqj_1yFqQz1B"
   },
   "source": [
    "### Load model"
   ]
  },
  {
   "cell_type": "code",
   "execution_count": 10,
   "metadata": {
    "executionInfo": {
     "elapsed": 10031,
     "status": "ok",
     "timestamp": 1623852041352,
     "user": {
      "displayName": "Ariel Ibaba",
      "photoUrl": "",
      "userId": "11123111901736149061"
     },
     "user_tz": -120
    },
    "id": "FHjax7DlQz1C"
   },
   "outputs": [],
   "source": [
    "topic_model = BERTopic.load(Path(RESULTS_PATH / \"topic_model\"))"
   ]
  },
  {
   "cell_type": "markdown",
   "metadata": {
    "id": "cbXZAI3wQz1C"
   },
   "source": [
    "### Get topics and probabilities from reloaded model"
   ]
  },
  {
   "cell_type": "code",
   "execution_count": 11,
   "metadata": {
    "executionInfo": {
     "elapsed": 78786,
     "status": "ok",
     "timestamp": 1623852120110,
     "user": {
      "displayName": "Ariel Ibaba",
      "photoUrl": "",
      "userId": "11123111901736149061"
     },
     "user_tz": -120
    },
    "id": "RSvJOccAQz1C"
   },
   "outputs": [],
   "source": [
    "predictions, probabilities = topic_model.transform(docs, embeddings)"
   ]
  },
  {
   "cell_type": "code",
   "execution_count": 12,
   "metadata": {
    "colab": {
     "base_uri": "https://localhost:8080/"
    },
    "executionInfo": {
     "elapsed": 32,
     "status": "ok",
     "timestamp": 1623852120111,
     "user": {
      "displayName": "Ariel Ibaba",
      "photoUrl": "",
      "userId": "11123111901736149061"
     },
     "user_tz": -120
    },
    "id": "tiS1TYzFZpF2",
    "outputId": "8cec9f40-dadc-4f37-8ab9-27c413cacd66"
   },
   "outputs": [
    {
     "data": {
      "text/plain": [
       "array([ -1,   0,   1,   2,   3,   4,   5,   6,   7,   8,   9,  10,  11,\n",
       "        12,  13,  14,  15,  16,  17,  18,  19,  20,  21,  22,  23,  24,\n",
       "        25,  26,  27,  28,  29,  30,  31,  32,  33,  34,  35,  36,  37,\n",
       "        38,  39,  40,  41,  42,  43,  44,  45,  46,  47,  48,  49,  50,\n",
       "        51,  52,  53,  54,  55,  56,  57,  58,  59,  60,  61,  62,  63,\n",
       "        64,  65,  66,  67,  68,  69,  70,  71,  72,  73,  74,  75,  76,\n",
       "        77,  78,  79,  80,  81,  82,  83,  84,  85,  86,  87,  88,  89,\n",
       "        90,  91,  92,  93,  94,  95,  96,  97,  98,  99, 100, 101, 102,\n",
       "       103, 104, 105, 106, 107, 108, 109, 110, 111, 112, 113, 114, 115,\n",
       "       116, 117, 118, 119, 120, 121, 122, 123, 124, 125, 126, 127, 128,\n",
       "       129, 130, 131, 132, 133, 134, 135, 136, 137, 138, 139, 140, 141,\n",
       "       142, 143, 144, 145, 146, 147, 148, 149, 150, 151, 152, 153, 154,\n",
       "       155, 156, 157, 158, 159, 160, 161, 162, 163, 164, 165, 166, 167,\n",
       "       168, 169, 170, 171, 172, 173, 174, 175, 176, 177, 178, 179, 180,\n",
       "       181, 182, 183, 184, 185, 186, 187, 188, 189, 190, 191, 192, 193,\n",
       "       194, 195, 196, 197, 198, 199, 200, 201, 202, 203, 204, 205, 206,\n",
       "       207, 208, 209, 210, 211, 212, 213, 214, 215, 216, 217, 218, 219,\n",
       "       220, 221, 222, 223, 224, 225, 226, 227, 228, 229, 230, 231, 232,\n",
       "       233, 234, 235, 236, 237, 238, 239, 240, 241, 242, 243, 244, 245,\n",
       "       246, 247, 248, 249, 250, 251, 252, 253, 254, 255, 256, 257, 258,\n",
       "       259, 260, 261, 262, 263, 264, 265, 266, 267, 268, 269, 270, 271,\n",
       "       272, 273, 274, 275, 276, 277, 278, 279, 280, 281, 282, 283, 284,\n",
       "       285, 286, 287, 288, 289, 290, 291, 292, 293, 294, 295, 296, 297,\n",
       "       298, 299, 300, 301, 302, 303, 304, 305, 306, 307, 308, 309, 310,\n",
       "       311, 312, 313, 314, 315, 316, 317, 318, 319, 320, 321, 322, 323,\n",
       "       324, 325, 326, 327, 328, 329, 330, 331, 332, 333, 334, 335])"
      ]
     },
     "execution_count": 12,
     "metadata": {
      "tags": []
     },
     "output_type": "execute_result"
    }
   ],
   "source": [
    "np.unique(predictions)"
   ]
  },
  {
   "cell_type": "markdown",
   "metadata": {
    "id": "2D3dVFOrQz1C"
   },
   "source": [
    "### Topics list"
   ]
  },
  {
   "cell_type": "code",
   "execution_count": 13,
   "metadata": {
    "colab": {
     "base_uri": "https://localhost:8080/"
    },
    "executionInfo": {
     "elapsed": 30,
     "status": "ok",
     "timestamp": 1623852120111,
     "user": {
      "displayName": "Ariel Ibaba",
      "photoUrl": "",
      "userId": "11123111901736149061"
     },
     "user_tz": -120
    },
    "id": "mCF8U4ItQz1C",
    "outputId": "3e14f6ec-7d37-42ef-cfe5-e0373628fdb1"
   },
   "outputs": [
    {
     "data": {
      "text/plain": [
       "dict_keys([-1, 0, 1, 2, 3, 4, 5, 6, 7, 8, 9, 10, 11, 12, 13, 14, 15, 16, 17, 18, 19, 20, 21, 22, 23, 24, 25, 26, 27, 28, 29, 30, 31, 32, 33, 34, 35, 36, 37, 38, 39, 40, 41, 42, 43, 44, 45, 46, 47, 48, 49, 50, 51, 52, 53, 54, 55, 56, 57, 58, 59, 60, 61, 62, 63, 64, 65, 66, 67, 68, 69, 70, 71, 72, 73, 74, 75, 76, 77, 78, 79, 80, 81, 82, 83, 84, 85, 86, 87, 88, 89, 90, 91, 92, 93, 94, 95, 96, 97, 98, 99, 100, 101, 102, 103, 104, 105, 106, 107, 108, 109, 110, 111, 112, 113, 114, 115, 116, 117, 118, 119, 120, 121, 122, 123, 124, 125, 126, 127, 128, 129, 130, 131, 132, 133, 134, 135, 136, 137, 138, 139, 140, 141, 142, 143, 144, 145, 146, 147, 148, 149, 150, 151, 152, 153, 154, 155, 156, 157, 158, 159, 160, 161, 162, 163, 164, 165, 166, 167, 168, 169, 170, 171, 172, 173, 174, 175, 176, 177, 178, 179, 180, 181, 182, 183, 184, 185, 186, 187, 188, 189, 190, 191, 192, 193, 194, 195, 196, 197, 198, 199, 200, 201, 202, 203, 204, 205, 206, 207, 208, 209, 210, 211, 212, 213, 214, 215, 216, 217, 218, 219, 220, 221, 222, 223, 224, 225, 226, 227, 228, 229, 230, 231, 232, 233, 234, 235, 236, 237, 238, 239, 240, 241, 242, 243, 244, 245, 246, 247, 248, 249, 250, 251, 252, 253, 254, 255, 256, 257, 258, 259, 260, 261, 262, 263, 264, 265, 266, 267, 268, 269, 270, 271, 272, 273, 274, 275, 276, 277, 278, 279, 280, 281, 282, 283, 284, 285, 286, 287, 288, 289, 290, 291, 292, 293, 294, 295, 296, 297, 298, 299, 300, 301, 302, 303, 304, 305, 306, 307, 308, 309, 310, 311, 312, 313, 314, 315, 316, 317, 318, 319, 320, 321, 322, 323, 324, 325, 326, 327, 328, 329, 330, 331, 332, 333, 334, 335])"
      ]
     },
     "execution_count": 13,
     "metadata": {
      "tags": []
     },
     "output_type": "execute_result"
    }
   ],
   "source": [
    "topic_model.get_topics().keys()"
   ]
  },
  {
   "cell_type": "markdown",
   "metadata": {
    "id": "eFqt5ypQQz1D"
   },
   "source": [
    "## Topics importance\n",
    "We rank the topics according to the number of \"relevant\" documents for them."
   ]
  },
  {
   "cell_type": "markdown",
   "metadata": {
    "id": "Z3mO3totQz1D"
   },
   "source": [
    "First, we use the built_in function provided in BERTopic."
   ]
  },
  {
   "cell_type": "markdown",
   "metadata": {
    "id": "Wn4MZTrqQz1E"
   },
   "source": [
    "help(BERTopic)"
   ]
  },
  {
   "cell_type": "code",
   "execution_count": 15,
   "metadata": {
    "colab": {
     "base_uri": "https://localhost:8080/",
     "height": 363
    },
    "executionInfo": {
     "elapsed": 26,
     "status": "ok",
     "timestamp": 1623852120112,
     "user": {
      "displayName": "Ariel Ibaba",
      "photoUrl": "",
      "userId": "11123111901736149061"
     },
     "user_tz": -120
    },
    "id": "FR2mrLTNQz1E",
    "outputId": "1335c1b6-b196-4786-d51e-1df45c50a0c4"
   },
   "outputs": [
    {
     "data": {
      "text/html": [
       "<div>\n",
       "<style scoped>\n",
       "    .dataframe tbody tr th:only-of-type {\n",
       "        vertical-align: middle;\n",
       "    }\n",
       "\n",
       "    .dataframe tbody tr th {\n",
       "        vertical-align: top;\n",
       "    }\n",
       "\n",
       "    .dataframe thead th {\n",
       "        text-align: right;\n",
       "    }\n",
       "</style>\n",
       "<table border=\"1\" class=\"dataframe\">\n",
       "  <thead>\n",
       "    <tr style=\"text-align: right;\">\n",
       "      <th></th>\n",
       "      <th>Topic</th>\n",
       "      <th>Count</th>\n",
       "    </tr>\n",
       "  </thead>\n",
       "  <tbody>\n",
       "    <tr>\n",
       "      <th>0</th>\n",
       "      <td>-1</td>\n",
       "      <td>2923</td>\n",
       "    </tr>\n",
       "    <tr>\n",
       "      <th>1</th>\n",
       "      <td>186</td>\n",
       "      <td>153</td>\n",
       "    </tr>\n",
       "    <tr>\n",
       "      <th>2</th>\n",
       "      <td>96</td>\n",
       "      <td>136</td>\n",
       "    </tr>\n",
       "    <tr>\n",
       "      <th>3</th>\n",
       "      <td>112</td>\n",
       "      <td>132</td>\n",
       "    </tr>\n",
       "    <tr>\n",
       "      <th>4</th>\n",
       "      <td>22</td>\n",
       "      <td>129</td>\n",
       "    </tr>\n",
       "    <tr>\n",
       "      <th>5</th>\n",
       "      <td>329</td>\n",
       "      <td>117</td>\n",
       "    </tr>\n",
       "    <tr>\n",
       "      <th>6</th>\n",
       "      <td>249</td>\n",
       "      <td>111</td>\n",
       "    </tr>\n",
       "    <tr>\n",
       "      <th>7</th>\n",
       "      <td>107</td>\n",
       "      <td>98</td>\n",
       "    </tr>\n",
       "    <tr>\n",
       "      <th>8</th>\n",
       "      <td>85</td>\n",
       "      <td>74</td>\n",
       "    </tr>\n",
       "    <tr>\n",
       "      <th>10</th>\n",
       "      <td>263</td>\n",
       "      <td>71</td>\n",
       "    </tr>\n",
       "    <tr>\n",
       "      <th>9</th>\n",
       "      <td>278</td>\n",
       "      <td>71</td>\n",
       "    </tr>\n",
       "  </tbody>\n",
       "</table>\n",
       "</div>"
      ],
      "text/plain": [
       "    Topic  Count\n",
       "0      -1   2923\n",
       "1     186    153\n",
       "2      96    136\n",
       "3     112    132\n",
       "4      22    129\n",
       "5     329    117\n",
       "6     249    111\n",
       "7     107     98\n",
       "8      85     74\n",
       "10    263     71\n",
       "9     278     71"
      ]
     },
     "execution_count": 15,
     "metadata": {
      "tags": []
     },
     "output_type": "execute_result"
    }
   ],
   "source": [
    "topic_model.get_topic_freq().head(11)"
   ]
  },
  {
   "cell_type": "code",
   "execution_count": 16,
   "metadata": {
    "colab": {
     "base_uri": "https://localhost:8080/",
     "height": 363
    },
    "executionInfo": {
     "elapsed": 26,
     "status": "ok",
     "timestamp": 1623852120113,
     "user": {
      "displayName": "Ariel Ibaba",
      "photoUrl": "",
      "userId": "11123111901736149061"
     },
     "user_tz": -120
    },
    "id": "x1rTEkLIQz1E",
    "outputId": "df4c6391-02e4-49c1-d3cf-6a3ab0c8a61e"
   },
   "outputs": [
    {
     "data": {
      "text/html": [
       "<div>\n",
       "<style scoped>\n",
       "    .dataframe tbody tr th:only-of-type {\n",
       "        vertical-align: middle;\n",
       "    }\n",
       "\n",
       "    .dataframe tbody tr th {\n",
       "        vertical-align: top;\n",
       "    }\n",
       "\n",
       "    .dataframe thead th {\n",
       "        text-align: right;\n",
       "    }\n",
       "</style>\n",
       "<table border=\"1\" class=\"dataframe\">\n",
       "  <thead>\n",
       "    <tr style=\"text-align: right;\">\n",
       "      <th></th>\n",
       "      <th>Topic</th>\n",
       "      <th>Count</th>\n",
       "    </tr>\n",
       "  </thead>\n",
       "  <tbody>\n",
       "    <tr>\n",
       "      <th>313</th>\n",
       "      <td>169</td>\n",
       "      <td>10</td>\n",
       "    </tr>\n",
       "    <tr>\n",
       "      <th>312</th>\n",
       "      <td>205</td>\n",
       "      <td>10</td>\n",
       "    </tr>\n",
       "    <tr>\n",
       "      <th>311</th>\n",
       "      <td>192</td>\n",
       "      <td>10</td>\n",
       "    </tr>\n",
       "    <tr>\n",
       "      <th>310</th>\n",
       "      <td>60</td>\n",
       "      <td>10</td>\n",
       "    </tr>\n",
       "    <tr>\n",
       "      <th>309</th>\n",
       "      <td>6</td>\n",
       "      <td>10</td>\n",
       "    </tr>\n",
       "    <tr>\n",
       "      <th>308</th>\n",
       "      <td>18</td>\n",
       "      <td>10</td>\n",
       "    </tr>\n",
       "    <tr>\n",
       "      <th>307</th>\n",
       "      <td>46</td>\n",
       "      <td>10</td>\n",
       "    </tr>\n",
       "    <tr>\n",
       "      <th>306</th>\n",
       "      <td>36</td>\n",
       "      <td>10</td>\n",
       "    </tr>\n",
       "    <tr>\n",
       "      <th>305</th>\n",
       "      <td>41</td>\n",
       "      <td>10</td>\n",
       "    </tr>\n",
       "    <tr>\n",
       "      <th>304</th>\n",
       "      <td>327</td>\n",
       "      <td>10</td>\n",
       "    </tr>\n",
       "    <tr>\n",
       "      <th>336</th>\n",
       "      <td>184</td>\n",
       "      <td>10</td>\n",
       "    </tr>\n",
       "  </tbody>\n",
       "</table>\n",
       "</div>"
      ],
      "text/plain": [
       "     Topic  Count\n",
       "313    169     10\n",
       "312    205     10\n",
       "311    192     10\n",
       "310     60     10\n",
       "309      6     10\n",
       "308     18     10\n",
       "307     46     10\n",
       "306     36     10\n",
       "305     41     10\n",
       "304    327     10\n",
       "336    184     10"
      ]
     },
     "execution_count": 16,
     "metadata": {
      "tags": []
     },
     "output_type": "execute_result"
    }
   ],
   "source": [
    "topic_model.get_topic_freq().tail(11)"
   ]
  },
  {
   "cell_type": "markdown",
   "metadata": {
    "id": "zQbeGIoQQz1E"
   },
   "source": [
    "## Relevant tweets per topic\n",
    "We define a tweet as being relevant for a given topic if :\n",
    "- This tweets is labeled we that topic, and\n",
    "- That topic as a probability higher than a given threshold within this tweet (here we consider a threshold of 0.25)\n",
    "\n",
    "Here we display randomly M relevant tweets for each of the top-K topics."
   ]
  },
  {
   "cell_type": "markdown",
   "metadata": {
    "id": "zAI-_fW0Qz1E"
   },
   "source": [
    "Now, we define **relevant documents given a topic** as being those for which that **topic has a probability above a user-defined threshold**."
   ]
  },
  {
   "cell_type": "code",
   "execution_count": 17,
   "metadata": {
    "colab": {
     "base_uri": "https://localhost:8080/"
    },
    "executionInfo": {
     "elapsed": 25,
     "status": "ok",
     "timestamp": 1623852120113,
     "user": {
      "displayName": "Ariel Ibaba",
      "photoUrl": "",
      "userId": "11123111901736149061"
     },
     "user_tz": -120
    },
    "id": "WH-tNycVQz1F",
    "outputId": "527a9875-f4e3-405f-da96-d6db0fba5f64"
   },
   "outputs": [
    {
     "name": "stdout",
     "output_type": "stream",
     "text": [
      "Topic 186:\n",
      "[('2021', 0.11518344111464827), ('trends', 0.06973633657430857), ('trends 2021', 0.04791319519051584), ('2021 ai', 0.041789472437149734), ('companies', 0.03782389258944172), ('watch 2021', 0.03740412879855314), ('watch', 0.03687575794795414), ('iot', 0.031124820300891674), ('10', 0.029940307679780117), ('fintech', 0.027130500269414805), ('ai', 0.02533194981053806), ('leading tech', 0.024722970994140298), ('choose great', 0.024722970994140298), ('great wine', 0.024722970994140298), ('tech trends', 0.024722970994140298), ('intelligence movies', 0.024588839428707168), ('wine', 0.024252606974425835), ('leading', 0.024165918247990883), ('usa', 0.02414878068708062), ('movies', 0.024140236513879545), ('story', 0.02374750132534524), ('choose', 0.023238947782268815), ('artificial intelligence', 0.02319284370426363), ('intelligence', 0.02276603359764348), ('artificial', 0.02269160719355901), ('big data', 0.022121650224670896), ('list', 0.022062304794297955), ('50', 0.021883707813432438), ('data', 0.01927979170934966), ('big', 0.01924991905259945)]\n",
      "\n",
      "Tweet ID: 7586\n",
      "25 Artificial Intelligence Movies Watch 2021 matrix 👍 #ai\n",
      "Link: https://twitter.com/DeepLearn007/status/1392864230311870470\n",
      "\n",
      "Tweet ID: 361\n",
      "Leading Tech Trends 2021 #AI\n",
      "Link: https://twitter.com/DeepLearn007/status/1396883553439338501\n",
      "\n",
      "Tweet ID: 9623\n",
      "story 2021 CNBC Disruptor 50 companies\n",
      "Link: https://twitter.com/datagenius/status/1398717551211917316\n",
      "\n",
      "Tweet ID: 1912\n",
      "Leading Tech Trends 2021 #AI\n",
      "Link: https://twitter.com/pierrepinna/status/1395448636490850306\n",
      "\n",
      "Tweet ID: 7437\n",
      "15 big data tools technologies 2021\n",
      "Link: https://twitter.com/data_nerd/status/1392798034568822787\n",
      "\n",
      "Tweet ID: 4065\n",
      "mature 10x program selects 22 projects General Services Administration’ 10x technology investment program …\n",
      "Link: https://twitter.com/rschmelzer/status/1390474850624364550\n",
      "\n",
      "Tweet ID: 8230\n",
      "Based work identified factors impact IoT data quality subsequentl…\n",
      "Link: https://twitter.com/geoanorak/status/1391695506166796291\n",
      "\n",
      "Tweet ID: 3824\n",
      "product room fintech giants leave startups TechCrunch #fintech\n",
      "Link: https://twitter.com/terence_mills/status/1390813841869656064\n",
      "\n",
      "Tweet ID: 2898\n",
      "Forbes 50 #AI Companies Watch 2021\n",
      "Link: https://twitter.com/DeepLearn007/status/1391185442062708736\n",
      "\n",
      "Tweet ID: 10386\n",
      "story Psst #IronViz 2021 coming Stay tuned ❤️ excited\n",
      "Link: https://twitter.com/datagenius/status/1398022979418796037\n",
      "\n",
      "\n",
      "**************************************************************************************************************************************\n",
      "\n"
     ]
    }
   ],
   "source": [
    "top_K = 10\n",
    "M = 10\n",
    "topics = list(topic_model.get_topic_freq().Topic)[1 : top_K + 1]\n",
    "topic_rank = 0\n",
    "\n",
    "clusterer = topic_model.hdbscan_model\n",
    "tree = clusterer.condensed_tree_\n",
    "clusters = tree._select_clusters()\n",
    "cluster = clusters[topics[topic_rank]]\n",
    "c_exemplars = topic_model.get_most_relevant_documents(cluster, tree)\n",
    "\n",
    "if len(c_exemplars) > 0:\n",
    "    n = min(len(c_exemplars), M)\n",
    "    samples = np.random.choice(c_exemplars, size=n, replace=False)\n",
    "\n",
    "    print(f\"Topic {topics[topic_rank]}:\\n{topic_model.get_topic(topics[topic_rank])}\\n\")\n",
    "    for idx in samples:\n",
    "        print(f\"Tweet ID: {idx}\\n{docs[idx]}\\nLink: {df.iloc[idx, 0]}\\n\")\n",
    "    print(\n",
    "        \"\\n**************************************************************************************************************************************\\n\"\n",
    "    )\n",
    "else:\n",
    "    print(f\"Topic {topics[topic_rank]}:\\n{topic_model.get_topic(topics[topic_rank])}\\n\")\n",
    "    print(\"No tweet related to current topic with significant probability.\")"
   ]
  },
  {
   "cell_type": "markdown",
   "metadata": {
    "id": "HlimG7coQz1F"
   },
   "source": [
    "## Export results all results"
   ]
  },
  {
   "cell_type": "code",
   "execution_count": 24,
   "metadata": {
    "executionInfo": {
     "elapsed": 1103,
     "status": "ok",
     "timestamp": 1623852212086,
     "user": {
      "displayName": "Ariel Ibaba",
      "photoUrl": "",
      "userId": "11123111901736149061"
     },
     "user_tz": -120
    },
    "id": "tmj57U0kQz1F"
   },
   "outputs": [],
   "source": [
    "topics_ = list(topic_model.get_topic_freq().Topic)[1:]\n",
    "\n",
    "exemplars_df = pd.DataFrame()\n",
    "topics_exemplars = []\n",
    "urls_exemplars = []\n",
    "topic_counts_exemplars = []\n",
    "keywords_exemplars = []\n",
    "texts_exemplars = []\n",
    "\n",
    "clusterer = topic_model.hdbscan_model\n",
    "tree = clusterer.condensed_tree_\n",
    "clusters = tree._select_clusters()\n",
    "\n",
    "export_df = pd.DataFrame()\n",
    "topics = []\n",
    "urls = []\n",
    "topic_counts = []\n",
    "keywords = []\n",
    "texts = []\n",
    "\n",
    "for topic in topics_:\n",
    "    cluster = clusters[topic]\n",
    "    c_exemplars = topic_model.get_most_relevant_documents(cluster, tree)\n",
    "    ids = np.asarray(np.asarray(predictions) == topic).nonzero()[0]\n",
    "    topic_count = len(ids)\n",
    "\n",
    "    for idx in c_exemplars:\n",
    "        topics_exemplars.append(topic)\n",
    "        urls_exemplars.append(df.iloc[idx, 0])\n",
    "        topic_counts_exemplars.append(topic_count)\n",
    "        keywords_exemplars.append(topic_model.get_topic(topic)[:20])\n",
    "        texts_exemplars.append(df.iloc[idx, 5])\n",
    "\n",
    "    for idx in ids:\n",
    "        topics.append(topic)\n",
    "        urls.append(df.iloc[idx, 0])\n",
    "        topic_counts.append(topic_count)\n",
    "        keywords.append(topic_model.get_topic(topic)[:20])\n",
    "        texts.append(df.iloc[idx, 5])\n",
    "\n",
    "\n",
    "keys = [\"topic_keyword_\" + str(i) for i in range(1, 21)]\n",
    "cols_exemplars = [\n",
    "    urls_exemplars,\n",
    "    texts_exemplars,\n",
    "    topics_exemplars,\n",
    "    topic_counts_exemplars,\n",
    "]\n",
    "cols = [urls, texts, topics, topic_counts]\n",
    "colnames = [\"tweetLink\", \"text\", \"topic\", \"topic_count\"]\n",
    "keywords_exemplars_df = pd.DataFrame(keywords_exemplars, columns=keys)\n",
    "keywords_df = pd.DataFrame(keywords, columns=keys)\n",
    "\n",
    "for i in range(len(cols_exemplars)):\n",
    "    col_exemplars_df = pd.DataFrame(cols_exemplars[i], columns=[colnames[i]])\n",
    "    exemplars_df = pd.concat([exemplars_df, col_exemplars_df], axis=1)\n",
    "    col_df = pd.DataFrame(cols[i], columns=[colnames[i]])\n",
    "    export_df = pd.concat([export_df, col_df], axis=1)\n",
    "\n",
    "exemplars_df = pd.concat([exemplars_df, keywords_exemplars_df], axis=1)\n",
    "exemplars_df = exemplars_df.sort_values([\"topic_count\"], ascending=False)\n",
    "exemplars_df = exemplars_df.reset_index(drop=True)\n",
    "\n",
    "export_df = pd.concat([export_df, keywords_df], axis=1)\n",
    "export_df = export_df.sort_values([\"topic_count\"], ascending=False)\n",
    "export_df = export_df.reset_index(drop=True)"
   ]
  },
  {
   "cell_type": "code",
   "execution_count": 25,
   "metadata": {
    "colab": {
     "base_uri": "https://localhost:8080/",
     "height": 503
    },
    "executionInfo": {
     "elapsed": 424,
     "status": "ok",
     "timestamp": 1623852217342,
     "user": {
      "displayName": "Ariel Ibaba",
      "photoUrl": "",
      "userId": "11123111901736149061"
     },
     "user_tz": -120
    },
    "id": "HnRnhVY4FaN6",
    "outputId": "0f89cb40-a631-461d-f100-6a730b74ab26"
   },
   "outputs": [
    {
     "name": "stdout",
     "output_type": "stream",
     "text": [
      "Output dataframe shape: (4038, 24)\n",
      "\n"
     ]
    },
    {
     "data": {
      "text/html": [
       "<div>\n",
       "<style scoped>\n",
       "    .dataframe tbody tr th:only-of-type {\n",
       "        vertical-align: middle;\n",
       "    }\n",
       "\n",
       "    .dataframe tbody tr th {\n",
       "        vertical-align: top;\n",
       "    }\n",
       "\n",
       "    .dataframe thead th {\n",
       "        text-align: right;\n",
       "    }\n",
       "</style>\n",
       "<table border=\"1\" class=\"dataframe\">\n",
       "  <thead>\n",
       "    <tr style=\"text-align: right;\">\n",
       "      <th></th>\n",
       "      <th>tweetLink</th>\n",
       "      <th>text</th>\n",
       "      <th>topic</th>\n",
       "      <th>topic_count</th>\n",
       "      <th>topic_keyword_1</th>\n",
       "      <th>topic_keyword_2</th>\n",
       "      <th>topic_keyword_3</th>\n",
       "      <th>topic_keyword_4</th>\n",
       "      <th>topic_keyword_5</th>\n",
       "      <th>topic_keyword_6</th>\n",
       "      <th>topic_keyword_7</th>\n",
       "      <th>topic_keyword_8</th>\n",
       "      <th>topic_keyword_9</th>\n",
       "      <th>topic_keyword_10</th>\n",
       "      <th>topic_keyword_11</th>\n",
       "      <th>topic_keyword_12</th>\n",
       "      <th>topic_keyword_13</th>\n",
       "      <th>topic_keyword_14</th>\n",
       "      <th>topic_keyword_15</th>\n",
       "      <th>topic_keyword_16</th>\n",
       "      <th>topic_keyword_17</th>\n",
       "      <th>topic_keyword_18</th>\n",
       "      <th>topic_keyword_19</th>\n",
       "      <th>topic_keyword_20</th>\n",
       "    </tr>\n",
       "  </thead>\n",
       "  <tbody>\n",
       "    <tr>\n",
       "      <th>0</th>\n",
       "      <td>https://twitter.com/KayFButterfield/status/139...</td>\n",
       "      <td>RT @SethBergeson:📣STARTING NOW! #SmartToyAward...</td>\n",
       "      <td>186</td>\n",
       "      <td>153</td>\n",
       "      <td>(2021, 0.11518344111464827)</td>\n",
       "      <td>(trends, 0.06973633657430857)</td>\n",
       "      <td>(trends 2021, 0.04791319519051584)</td>\n",
       "      <td>(2021 ai, 0.041789472437149734)</td>\n",
       "      <td>(companies, 0.03782389258944172)</td>\n",
       "      <td>(watch 2021, 0.03740412879855314)</td>\n",
       "      <td>(watch, 0.03687575794795414)</td>\n",
       "      <td>(iot, 0.031124820300891674)</td>\n",
       "      <td>(10, 0.029940307679780117)</td>\n",
       "      <td>(fintech, 0.027130500269414805)</td>\n",
       "      <td>(ai, 0.02533194981053806)</td>\n",
       "      <td>(leading tech, 0.024722970994140298)</td>\n",
       "      <td>(choose great, 0.024722970994140298)</td>\n",
       "      <td>(great wine, 0.024722970994140298)</td>\n",
       "      <td>(tech trends, 0.024722970994140298)</td>\n",
       "      <td>(intelligence movies, 0.024588839428707168)</td>\n",
       "      <td>(wine, 0.024252606974425835)</td>\n",
       "      <td>(leading, 0.024165918247990883)</td>\n",
       "      <td>(usa, 0.02414878068708062)</td>\n",
       "      <td>(movies, 0.024140236513879545)</td>\n",
       "    </tr>\n",
       "    <tr>\n",
       "      <th>1</th>\n",
       "      <td>https://twitter.com/terence_mills/status/13908...</td>\n",
       "      <td>RT @albertogaruccio: How much product room wil...</td>\n",
       "      <td>186</td>\n",
       "      <td>153</td>\n",
       "      <td>(2021, 0.11518344111464827)</td>\n",
       "      <td>(trends, 0.06973633657430857)</td>\n",
       "      <td>(trends 2021, 0.04791319519051584)</td>\n",
       "      <td>(2021 ai, 0.041789472437149734)</td>\n",
       "      <td>(companies, 0.03782389258944172)</td>\n",
       "      <td>(watch 2021, 0.03740412879855314)</td>\n",
       "      <td>(watch, 0.03687575794795414)</td>\n",
       "      <td>(iot, 0.031124820300891674)</td>\n",
       "      <td>(10, 0.029940307679780117)</td>\n",
       "      <td>(fintech, 0.027130500269414805)</td>\n",
       "      <td>(ai, 0.02533194981053806)</td>\n",
       "      <td>(leading tech, 0.024722970994140298)</td>\n",
       "      <td>(choose great, 0.024722970994140298)</td>\n",
       "      <td>(great wine, 0.024722970994140298)</td>\n",
       "      <td>(tech trends, 0.024722970994140298)</td>\n",
       "      <td>(intelligence movies, 0.024588839428707168)</td>\n",
       "      <td>(wine, 0.024252606974425835)</td>\n",
       "      <td>(leading, 0.024165918247990883)</td>\n",
       "      <td>(usa, 0.02414878068708062)</td>\n",
       "      <td>(movies, 0.024140236513879545)</td>\n",
       "    </tr>\n",
       "    <tr>\n",
       "      <th>2</th>\n",
       "      <td>https://twitter.com/Fisher85M/status/139837012...</td>\n",
       "      <td>RT @ipfconline1:Here is a list of the top paym...</td>\n",
       "      <td>186</td>\n",
       "      <td>153</td>\n",
       "      <td>(2021, 0.11518344111464827)</td>\n",
       "      <td>(trends, 0.06973633657430857)</td>\n",
       "      <td>(trends 2021, 0.04791319519051584)</td>\n",
       "      <td>(2021 ai, 0.041789472437149734)</td>\n",
       "      <td>(companies, 0.03782389258944172)</td>\n",
       "      <td>(watch 2021, 0.03740412879855314)</td>\n",
       "      <td>(watch, 0.03687575794795414)</td>\n",
       "      <td>(iot, 0.031124820300891674)</td>\n",
       "      <td>(10, 0.029940307679780117)</td>\n",
       "      <td>(fintech, 0.027130500269414805)</td>\n",
       "      <td>(ai, 0.02533194981053806)</td>\n",
       "      <td>(leading tech, 0.024722970994140298)</td>\n",
       "      <td>(choose great, 0.024722970994140298)</td>\n",
       "      <td>(great wine, 0.024722970994140298)</td>\n",
       "      <td>(tech trends, 0.024722970994140298)</td>\n",
       "      <td>(intelligence movies, 0.024588839428707168)</td>\n",
       "      <td>(wine, 0.024252606974425835)</td>\n",
       "      <td>(leading, 0.024165918247990883)</td>\n",
       "      <td>(usa, 0.02414878068708062)</td>\n",
       "      <td>(movies, 0.024140236513879545)</td>\n",
       "    </tr>\n",
       "    <tr>\n",
       "      <th>3</th>\n",
       "      <td>https://twitter.com/alvinfoo/status/1391524882...</td>\n",
       "      <td>RT @alvinfoo: Industry composition of US stock...</td>\n",
       "      <td>186</td>\n",
       "      <td>153</td>\n",
       "      <td>(2021, 0.11518344111464827)</td>\n",
       "      <td>(trends, 0.06973633657430857)</td>\n",
       "      <td>(trends 2021, 0.04791319519051584)</td>\n",
       "      <td>(2021 ai, 0.041789472437149734)</td>\n",
       "      <td>(companies, 0.03782389258944172)</td>\n",
       "      <td>(watch 2021, 0.03740412879855314)</td>\n",
       "      <td>(watch, 0.03687575794795414)</td>\n",
       "      <td>(iot, 0.031124820300891674)</td>\n",
       "      <td>(10, 0.029940307679780117)</td>\n",
       "      <td>(fintech, 0.027130500269414805)</td>\n",
       "      <td>(ai, 0.02533194981053806)</td>\n",
       "      <td>(leading tech, 0.024722970994140298)</td>\n",
       "      <td>(choose great, 0.024722970994140298)</td>\n",
       "      <td>(great wine, 0.024722970994140298)</td>\n",
       "      <td>(tech trends, 0.024722970994140298)</td>\n",
       "      <td>(intelligence movies, 0.024588839428707168)</td>\n",
       "      <td>(wine, 0.024252606974425835)</td>\n",
       "      <td>(leading, 0.024165918247990883)</td>\n",
       "      <td>(usa, 0.02414878068708062)</td>\n",
       "      <td>(movies, 0.024140236513879545)</td>\n",
       "    </tr>\n",
       "    <tr>\n",
       "      <th>4</th>\n",
       "      <td>https://twitter.com/TamaraMcCleary/status/1394...</td>\n",
       "      <td>#IoT News’ list of innovative companies to wat...</td>\n",
       "      <td>186</td>\n",
       "      <td>153</td>\n",
       "      <td>(2021, 0.11518344111464827)</td>\n",
       "      <td>(trends, 0.06973633657430857)</td>\n",
       "      <td>(trends 2021, 0.04791319519051584)</td>\n",
       "      <td>(2021 ai, 0.041789472437149734)</td>\n",
       "      <td>(companies, 0.03782389258944172)</td>\n",
       "      <td>(watch 2021, 0.03740412879855314)</td>\n",
       "      <td>(watch, 0.03687575794795414)</td>\n",
       "      <td>(iot, 0.031124820300891674)</td>\n",
       "      <td>(10, 0.029940307679780117)</td>\n",
       "      <td>(fintech, 0.027130500269414805)</td>\n",
       "      <td>(ai, 0.02533194981053806)</td>\n",
       "      <td>(leading tech, 0.024722970994140298)</td>\n",
       "      <td>(choose great, 0.024722970994140298)</td>\n",
       "      <td>(great wine, 0.024722970994140298)</td>\n",
       "      <td>(tech trends, 0.024722970994140298)</td>\n",
       "      <td>(intelligence movies, 0.024588839428707168)</td>\n",
       "      <td>(wine, 0.024252606974425835)</td>\n",
       "      <td>(leading, 0.024165918247990883)</td>\n",
       "      <td>(usa, 0.02414878068708062)</td>\n",
       "      <td>(movies, 0.024140236513879545)</td>\n",
       "    </tr>\n",
       "  </tbody>\n",
       "</table>\n",
       "</div>"
      ],
      "text/plain": [
       "                                           tweetLink  ...                topic_keyword_20\n",
       "0  https://twitter.com/KayFButterfield/status/139...  ...  (movies, 0.024140236513879545)\n",
       "1  https://twitter.com/terence_mills/status/13908...  ...  (movies, 0.024140236513879545)\n",
       "2  https://twitter.com/Fisher85M/status/139837012...  ...  (movies, 0.024140236513879545)\n",
       "3  https://twitter.com/alvinfoo/status/1391524882...  ...  (movies, 0.024140236513879545)\n",
       "4  https://twitter.com/TamaraMcCleary/status/1394...  ...  (movies, 0.024140236513879545)\n",
       "\n",
       "[5 rows x 24 columns]"
      ]
     },
     "execution_count": 25,
     "metadata": {
      "tags": []
     },
     "output_type": "execute_result"
    }
   ],
   "source": [
    "print(f\"Output dataframe shape: {exemplars_df.shape}\\n\")\n",
    "exemplars_df.head()"
   ]
  },
  {
   "cell_type": "code",
   "execution_count": 26,
   "metadata": {
    "colab": {
     "base_uri": "https://localhost:8080/",
     "height": 455
    },
    "executionInfo": {
     "elapsed": 426,
     "status": "ok",
     "timestamp": 1623852221230,
     "user": {
      "displayName": "Ariel Ibaba",
      "photoUrl": "",
      "userId": "11123111901736149061"
     },
     "user_tz": -120
    },
    "id": "jfjEzRApFW9t",
    "outputId": "9189d05b-7d2d-4625-96a8-b6c0fb7f9e57"
   },
   "outputs": [
    {
     "name": "stdout",
     "output_type": "stream",
     "text": [
      "Output dataframe shape: (8079, 24)\n",
      "\n"
     ]
    },
    {
     "data": {
      "text/html": [
       "<div>\n",
       "<style scoped>\n",
       "    .dataframe tbody tr th:only-of-type {\n",
       "        vertical-align: middle;\n",
       "    }\n",
       "\n",
       "    .dataframe tbody tr th {\n",
       "        vertical-align: top;\n",
       "    }\n",
       "\n",
       "    .dataframe thead th {\n",
       "        text-align: right;\n",
       "    }\n",
       "</style>\n",
       "<table border=\"1\" class=\"dataframe\">\n",
       "  <thead>\n",
       "    <tr style=\"text-align: right;\">\n",
       "      <th></th>\n",
       "      <th>tweetLink</th>\n",
       "      <th>text</th>\n",
       "      <th>topic</th>\n",
       "      <th>topic_count</th>\n",
       "      <th>topic_keyword_1</th>\n",
       "      <th>topic_keyword_2</th>\n",
       "      <th>topic_keyword_3</th>\n",
       "      <th>topic_keyword_4</th>\n",
       "      <th>topic_keyword_5</th>\n",
       "      <th>topic_keyword_6</th>\n",
       "      <th>topic_keyword_7</th>\n",
       "      <th>topic_keyword_8</th>\n",
       "      <th>topic_keyword_9</th>\n",
       "      <th>topic_keyword_10</th>\n",
       "      <th>topic_keyword_11</th>\n",
       "      <th>topic_keyword_12</th>\n",
       "      <th>topic_keyword_13</th>\n",
       "      <th>topic_keyword_14</th>\n",
       "      <th>topic_keyword_15</th>\n",
       "      <th>topic_keyword_16</th>\n",
       "      <th>topic_keyword_17</th>\n",
       "      <th>topic_keyword_18</th>\n",
       "      <th>topic_keyword_19</th>\n",
       "      <th>topic_keyword_20</th>\n",
       "    </tr>\n",
       "  </thead>\n",
       "  <tbody>\n",
       "    <tr>\n",
       "      <th>0</th>\n",
       "      <td>https://twitter.com/YvesMulkers/status/1396799...</td>\n",
       "      <td>RT @CREWcrew:Mitch McConnell got $250,000 from...</td>\n",
       "      <td>186</td>\n",
       "      <td>153</td>\n",
       "      <td>(2021, 0.11518344111464827)</td>\n",
       "      <td>(trends, 0.06973633657430857)</td>\n",
       "      <td>(trends 2021, 0.04791319519051584)</td>\n",
       "      <td>(2021 ai, 0.041789472437149734)</td>\n",
       "      <td>(companies, 0.03782389258944172)</td>\n",
       "      <td>(watch 2021, 0.03740412879855314)</td>\n",
       "      <td>(watch, 0.03687575794795414)</td>\n",
       "      <td>(iot, 0.031124820300891674)</td>\n",
       "      <td>(10, 0.029940307679780117)</td>\n",
       "      <td>(fintech, 0.027130500269414805)</td>\n",
       "      <td>(ai, 0.02533194981053806)</td>\n",
       "      <td>(leading tech, 0.024722970994140298)</td>\n",
       "      <td>(choose great, 0.024722970994140298)</td>\n",
       "      <td>(great wine, 0.024722970994140298)</td>\n",
       "      <td>(tech trends, 0.024722970994140298)</td>\n",
       "      <td>(intelligence movies, 0.024588839428707168)</td>\n",
       "      <td>(wine, 0.024252606974425835)</td>\n",
       "      <td>(leading, 0.024165918247990883)</td>\n",
       "      <td>(usa, 0.02414878068708062)</td>\n",
       "      <td>(movies, 0.024140236513879545)</td>\n",
       "    </tr>\n",
       "    <tr>\n",
       "      <th>1</th>\n",
       "      <td>https://twitter.com/freddy1876/status/13921717...</td>\n",
       "      <td>PyCon: PyCon 2021 Welcomes 8 Early-Stage Compa...</td>\n",
       "      <td>186</td>\n",
       "      <td>153</td>\n",
       "      <td>(2021, 0.11518344111464827)</td>\n",
       "      <td>(trends, 0.06973633657430857)</td>\n",
       "      <td>(trends 2021, 0.04791319519051584)</td>\n",
       "      <td>(2021 ai, 0.041789472437149734)</td>\n",
       "      <td>(companies, 0.03782389258944172)</td>\n",
       "      <td>(watch 2021, 0.03740412879855314)</td>\n",
       "      <td>(watch, 0.03687575794795414)</td>\n",
       "      <td>(iot, 0.031124820300891674)</td>\n",
       "      <td>(10, 0.029940307679780117)</td>\n",
       "      <td>(fintech, 0.027130500269414805)</td>\n",
       "      <td>(ai, 0.02533194981053806)</td>\n",
       "      <td>(leading tech, 0.024722970994140298)</td>\n",
       "      <td>(choose great, 0.024722970994140298)</td>\n",
       "      <td>(great wine, 0.024722970994140298)</td>\n",
       "      <td>(tech trends, 0.024722970994140298)</td>\n",
       "      <td>(intelligence movies, 0.024588839428707168)</td>\n",
       "      <td>(wine, 0.024252606974425835)</td>\n",
       "      <td>(leading, 0.024165918247990883)</td>\n",
       "      <td>(usa, 0.02414878068708062)</td>\n",
       "      <td>(movies, 0.024140236513879545)</td>\n",
       "    </tr>\n",
       "    <tr>\n",
       "      <th>2</th>\n",
       "      <td>https://twitter.com/rschmelzer/status/13925902...</td>\n",
       "      <td>RT @cognilytica: Navy will push ahead with Pro...</td>\n",
       "      <td>186</td>\n",
       "      <td>153</td>\n",
       "      <td>(2021, 0.11518344111464827)</td>\n",
       "      <td>(trends, 0.06973633657430857)</td>\n",
       "      <td>(trends 2021, 0.04791319519051584)</td>\n",
       "      <td>(2021 ai, 0.041789472437149734)</td>\n",
       "      <td>(companies, 0.03782389258944172)</td>\n",
       "      <td>(watch 2021, 0.03740412879855314)</td>\n",
       "      <td>(watch, 0.03687575794795414)</td>\n",
       "      <td>(iot, 0.031124820300891674)</td>\n",
       "      <td>(10, 0.029940307679780117)</td>\n",
       "      <td>(fintech, 0.027130500269414805)</td>\n",
       "      <td>(ai, 0.02533194981053806)</td>\n",
       "      <td>(leading tech, 0.024722970994140298)</td>\n",
       "      <td>(choose great, 0.024722970994140298)</td>\n",
       "      <td>(great wine, 0.024722970994140298)</td>\n",
       "      <td>(tech trends, 0.024722970994140298)</td>\n",
       "      <td>(intelligence movies, 0.024588839428707168)</td>\n",
       "      <td>(wine, 0.024252606974425835)</td>\n",
       "      <td>(leading, 0.024165918247990883)</td>\n",
       "      <td>(usa, 0.02414878068708062)</td>\n",
       "      <td>(movies, 0.024140236513879545)</td>\n",
       "    </tr>\n",
       "    <tr>\n",
       "      <th>3</th>\n",
       "      <td>https://twitter.com/rschmelzer/status/13925387...</td>\n",
       "      <td>RT @cognilytica: Pentagon leaders emphasize ro...</td>\n",
       "      <td>186</td>\n",
       "      <td>153</td>\n",
       "      <td>(2021, 0.11518344111464827)</td>\n",
       "      <td>(trends, 0.06973633657430857)</td>\n",
       "      <td>(trends 2021, 0.04791319519051584)</td>\n",
       "      <td>(2021 ai, 0.041789472437149734)</td>\n",
       "      <td>(companies, 0.03782389258944172)</td>\n",
       "      <td>(watch 2021, 0.03740412879855314)</td>\n",
       "      <td>(watch, 0.03687575794795414)</td>\n",
       "      <td>(iot, 0.031124820300891674)</td>\n",
       "      <td>(10, 0.029940307679780117)</td>\n",
       "      <td>(fintech, 0.027130500269414805)</td>\n",
       "      <td>(ai, 0.02533194981053806)</td>\n",
       "      <td>(leading tech, 0.024722970994140298)</td>\n",
       "      <td>(choose great, 0.024722970994140298)</td>\n",
       "      <td>(great wine, 0.024722970994140298)</td>\n",
       "      <td>(tech trends, 0.024722970994140298)</td>\n",
       "      <td>(intelligence movies, 0.024588839428707168)</td>\n",
       "      <td>(wine, 0.024252606974425835)</td>\n",
       "      <td>(leading, 0.024165918247990883)</td>\n",
       "      <td>(usa, 0.02414878068708062)</td>\n",
       "      <td>(movies, 0.024140236513879545)</td>\n",
       "    </tr>\n",
       "    <tr>\n",
       "      <th>4</th>\n",
       "      <td>https://twitter.com/DeepLearn007/status/139247...</td>\n",
       "      <td>RT @lyakovet: \"Where is #AI Going in 2022\"\\n\\n...</td>\n",
       "      <td>186</td>\n",
       "      <td>153</td>\n",
       "      <td>(2021, 0.11518344111464827)</td>\n",
       "      <td>(trends, 0.06973633657430857)</td>\n",
       "      <td>(trends 2021, 0.04791319519051584)</td>\n",
       "      <td>(2021 ai, 0.041789472437149734)</td>\n",
       "      <td>(companies, 0.03782389258944172)</td>\n",
       "      <td>(watch 2021, 0.03740412879855314)</td>\n",
       "      <td>(watch, 0.03687575794795414)</td>\n",
       "      <td>(iot, 0.031124820300891674)</td>\n",
       "      <td>(10, 0.029940307679780117)</td>\n",
       "      <td>(fintech, 0.027130500269414805)</td>\n",
       "      <td>(ai, 0.02533194981053806)</td>\n",
       "      <td>(leading tech, 0.024722970994140298)</td>\n",
       "      <td>(choose great, 0.024722970994140298)</td>\n",
       "      <td>(great wine, 0.024722970994140298)</td>\n",
       "      <td>(tech trends, 0.024722970994140298)</td>\n",
       "      <td>(intelligence movies, 0.024588839428707168)</td>\n",
       "      <td>(wine, 0.024252606974425835)</td>\n",
       "      <td>(leading, 0.024165918247990883)</td>\n",
       "      <td>(usa, 0.02414878068708062)</td>\n",
       "      <td>(movies, 0.024140236513879545)</td>\n",
       "    </tr>\n",
       "  </tbody>\n",
       "</table>\n",
       "</div>"
      ],
      "text/plain": [
       "                                           tweetLink  ...                topic_keyword_20\n",
       "0  https://twitter.com/YvesMulkers/status/1396799...  ...  (movies, 0.024140236513879545)\n",
       "1  https://twitter.com/freddy1876/status/13921717...  ...  (movies, 0.024140236513879545)\n",
       "2  https://twitter.com/rschmelzer/status/13925902...  ...  (movies, 0.024140236513879545)\n",
       "3  https://twitter.com/rschmelzer/status/13925387...  ...  (movies, 0.024140236513879545)\n",
       "4  https://twitter.com/DeepLearn007/status/139247...  ...  (movies, 0.024140236513879545)\n",
       "\n",
       "[5 rows x 24 columns]"
      ]
     },
     "execution_count": 26,
     "metadata": {
      "tags": []
     },
     "output_type": "execute_result"
    }
   ],
   "source": [
    "print(f\"Output dataframe shape: {export_df.shape}\\n\")\n",
    "export_df.head()"
   ]
  },
  {
   "cell_type": "code",
   "execution_count": 41,
   "metadata": {
    "executionInfo": {
     "elapsed": 410,
     "status": "ok",
     "timestamp": 1623852652122,
     "user": {
      "displayName": "Ariel Ibaba",
      "photoUrl": "",
      "userId": "11123111901736149061"
     },
     "user_tz": -120
    },
    "id": "xHP7Sb_XQz1G"
   },
   "outputs": [],
   "source": [
    "results_exemplars_df = exemplars_df.merge(df, how=\"left\", on=[\"tweetLink\", \"text\"])\n",
    "results_df = export_df.merge(df, how=\"left\", on=[\"tweetLink\", \"text\"])\n",
    "\n",
    "cols = [\n",
    "    \"tweetLink\",\n",
    "    \"text\",\n",
    "    \"retweet_count\",\n",
    "    \"favorite_count\",\n",
    "    \"reply_count\",\n",
    "    \"quote_count\",\n",
    "    \"topic\",\n",
    "    \"topic_count\",\n",
    "    \"profileUrl\",\n",
    "    \"name\",\n",
    "]\n",
    "cols = cols + [c for c in results_df.columns if \"keyword\" in c]\n",
    "\n",
    "results_exemplars_df = results_exemplars_df[cols]\n",
    "results_exemplars_df = results_exemplars_df.sort_values(\n",
    "    [\"topic_count\"], ascending=False\n",
    ")\n",
    "results_exemplars_df = results_exemplars_df.reset_index(drop=True)\n",
    "\n",
    "results_df = results_df[cols]\n",
    "results_df = results_df.sort_values([\"topic_count\"], ascending=False)\n",
    "results_df = results_df.reset_index(drop=True)"
   ]
  },
  {
   "cell_type": "code",
   "execution_count": 43,
   "metadata": {
    "colab": {
     "base_uri": "https://localhost:8080/",
     "height": 406
    },
    "executionInfo": {
     "elapsed": 422,
     "status": "ok",
     "timestamp": 1623852721661,
     "user": {
      "displayName": "Ariel Ibaba",
      "photoUrl": "",
      "userId": "11123111901736149061"
     },
     "user_tz": -120
    },
    "id": "P2bnoGExGqiY",
    "outputId": "6f1f4f81-aa9c-4984-ebfa-b1fa95d367ba"
   },
   "outputs": [
    {
     "name": "stdout",
     "output_type": "stream",
     "text": [
      "Output dataframe shape: (4038, 30)\n",
      "\n"
     ]
    },
    {
     "data": {
      "text/html": [
       "<div>\n",
       "<style scoped>\n",
       "    .dataframe tbody tr th:only-of-type {\n",
       "        vertical-align: middle;\n",
       "    }\n",
       "\n",
       "    .dataframe tbody tr th {\n",
       "        vertical-align: top;\n",
       "    }\n",
       "\n",
       "    .dataframe thead th {\n",
       "        text-align: right;\n",
       "    }\n",
       "</style>\n",
       "<table border=\"1\" class=\"dataframe\">\n",
       "  <thead>\n",
       "    <tr style=\"text-align: right;\">\n",
       "      <th></th>\n",
       "      <th>tweetLink</th>\n",
       "      <th>text</th>\n",
       "      <th>retweet_count</th>\n",
       "      <th>favorite_count</th>\n",
       "      <th>reply_count</th>\n",
       "      <th>quote_count</th>\n",
       "      <th>topic</th>\n",
       "      <th>topic_count</th>\n",
       "      <th>profileUrl</th>\n",
       "      <th>name</th>\n",
       "      <th>topic_keyword_1</th>\n",
       "      <th>topic_keyword_2</th>\n",
       "      <th>topic_keyword_3</th>\n",
       "      <th>topic_keyword_4</th>\n",
       "      <th>topic_keyword_5</th>\n",
       "      <th>topic_keyword_6</th>\n",
       "      <th>topic_keyword_7</th>\n",
       "      <th>topic_keyword_8</th>\n",
       "      <th>topic_keyword_9</th>\n",
       "      <th>topic_keyword_10</th>\n",
       "      <th>topic_keyword_11</th>\n",
       "      <th>topic_keyword_12</th>\n",
       "      <th>topic_keyword_13</th>\n",
       "      <th>topic_keyword_14</th>\n",
       "      <th>topic_keyword_15</th>\n",
       "      <th>topic_keyword_16</th>\n",
       "      <th>topic_keyword_17</th>\n",
       "      <th>topic_keyword_18</th>\n",
       "      <th>topic_keyword_19</th>\n",
       "      <th>topic_keyword_20</th>\n",
       "    </tr>\n",
       "  </thead>\n",
       "  <tbody>\n",
       "    <tr>\n",
       "      <th>0</th>\n",
       "      <td>https://twitter.com/KayFButterfield/status/139...</td>\n",
       "      <td>RT @SethBergeson:📣STARTING NOW! #SmartToyAward...</td>\n",
       "      <td>2</td>\n",
       "      <td>0</td>\n",
       "      <td>0</td>\n",
       "      <td>0</td>\n",
       "      <td>186</td>\n",
       "      <td>153</td>\n",
       "      <td>https://twitter.com/KayFButterfield</td>\n",
       "      <td>KayFirth-Butterfield</td>\n",
       "      <td>(2021, 0.11518344111464827)</td>\n",
       "      <td>(trends, 0.06973633657430857)</td>\n",
       "      <td>(trends 2021, 0.04791319519051584)</td>\n",
       "      <td>(2021 ai, 0.041789472437149734)</td>\n",
       "      <td>(companies, 0.03782389258944172)</td>\n",
       "      <td>(watch 2021, 0.03740412879855314)</td>\n",
       "      <td>(watch, 0.03687575794795414)</td>\n",
       "      <td>(iot, 0.031124820300891674)</td>\n",
       "      <td>(10, 0.029940307679780117)</td>\n",
       "      <td>(fintech, 0.027130500269414805)</td>\n",
       "      <td>(ai, 0.02533194981053806)</td>\n",
       "      <td>(leading tech, 0.024722970994140298)</td>\n",
       "      <td>(choose great, 0.024722970994140298)</td>\n",
       "      <td>(great wine, 0.024722970994140298)</td>\n",
       "      <td>(tech trends, 0.024722970994140298)</td>\n",
       "      <td>(intelligence movies, 0.024588839428707168)</td>\n",
       "      <td>(wine, 0.024252606974425835)</td>\n",
       "      <td>(leading, 0.024165918247990883)</td>\n",
       "      <td>(usa, 0.02414878068708062)</td>\n",
       "      <td>(movies, 0.024140236513879545)</td>\n",
       "    </tr>\n",
       "    <tr>\n",
       "      <th>1</th>\n",
       "      <td>https://twitter.com/pierrepinna/status/1395448...</td>\n",
       "      <td>RT @DeepLearn007:Leading Tech Trends 2021\\n\\nh...</td>\n",
       "      <td>126</td>\n",
       "      <td>0</td>\n",
       "      <td>0</td>\n",
       "      <td>0</td>\n",
       "      <td>186</td>\n",
       "      <td>153</td>\n",
       "      <td>https://twitter.com/pierrepinna</td>\n",
       "      <td>Pinna Pierre</td>\n",
       "      <td>(2021, 0.11518344111464827)</td>\n",
       "      <td>(trends, 0.06973633657430857)</td>\n",
       "      <td>(trends 2021, 0.04791319519051584)</td>\n",
       "      <td>(2021 ai, 0.041789472437149734)</td>\n",
       "      <td>(companies, 0.03782389258944172)</td>\n",
       "      <td>(watch 2021, 0.03740412879855314)</td>\n",
       "      <td>(watch, 0.03687575794795414)</td>\n",
       "      <td>(iot, 0.031124820300891674)</td>\n",
       "      <td>(10, 0.029940307679780117)</td>\n",
       "      <td>(fintech, 0.027130500269414805)</td>\n",
       "      <td>(ai, 0.02533194981053806)</td>\n",
       "      <td>(leading tech, 0.024722970994140298)</td>\n",
       "      <td>(choose great, 0.024722970994140298)</td>\n",
       "      <td>(great wine, 0.024722970994140298)</td>\n",
       "      <td>(tech trends, 0.024722970994140298)</td>\n",
       "      <td>(intelligence movies, 0.024588839428707168)</td>\n",
       "      <td>(wine, 0.024252606974425835)</td>\n",
       "      <td>(leading, 0.024165918247990883)</td>\n",
       "      <td>(usa, 0.02414878068708062)</td>\n",
       "      <td>(movies, 0.024140236513879545)</td>\n",
       "    </tr>\n",
       "    <tr>\n",
       "      <th>2</th>\n",
       "      <td>https://twitter.com/terence_mills/status/13904...</td>\n",
       "      <td>RT @stratorob: Fintech: A Major Driving Force ...</td>\n",
       "      <td>14</td>\n",
       "      <td>0</td>\n",
       "      <td>0</td>\n",
       "      <td>0</td>\n",
       "      <td>186</td>\n",
       "      <td>153</td>\n",
       "      <td>https://twitter.com/terence_mills</td>\n",
       "      <td>Terence Mills 特伦斯米尔斯</td>\n",
       "      <td>(2021, 0.11518344111464827)</td>\n",
       "      <td>(trends, 0.06973633657430857)</td>\n",
       "      <td>(trends 2021, 0.04791319519051584)</td>\n",
       "      <td>(2021 ai, 0.041789472437149734)</td>\n",
       "      <td>(companies, 0.03782389258944172)</td>\n",
       "      <td>(watch 2021, 0.03740412879855314)</td>\n",
       "      <td>(watch, 0.03687575794795414)</td>\n",
       "      <td>(iot, 0.031124820300891674)</td>\n",
       "      <td>(10, 0.029940307679780117)</td>\n",
       "      <td>(fintech, 0.027130500269414805)</td>\n",
       "      <td>(ai, 0.02533194981053806)</td>\n",
       "      <td>(leading tech, 0.024722970994140298)</td>\n",
       "      <td>(choose great, 0.024722970994140298)</td>\n",
       "      <td>(great wine, 0.024722970994140298)</td>\n",
       "      <td>(tech trends, 0.024722970994140298)</td>\n",
       "      <td>(intelligence movies, 0.024588839428707168)</td>\n",
       "      <td>(wine, 0.024252606974425835)</td>\n",
       "      <td>(leading, 0.024165918247990883)</td>\n",
       "      <td>(usa, 0.02414878068708062)</td>\n",
       "      <td>(movies, 0.024140236513879545)</td>\n",
       "    </tr>\n",
       "    <tr>\n",
       "      <th>3</th>\n",
       "      <td>https://twitter.com/DeepLearn007/status/139688...</td>\n",
       "      <td>RT @DeepLearn007:Leading Tech Trends 2021\\n\\nh...</td>\n",
       "      <td>126</td>\n",
       "      <td>0</td>\n",
       "      <td>0</td>\n",
       "      <td>0</td>\n",
       "      <td>186</td>\n",
       "      <td>153</td>\n",
       "      <td>https://twitter.com/DeepLearn007</td>\n",
       "      <td>AI</td>\n",
       "      <td>(2021, 0.11518344111464827)</td>\n",
       "      <td>(trends, 0.06973633657430857)</td>\n",
       "      <td>(trends 2021, 0.04791319519051584)</td>\n",
       "      <td>(2021 ai, 0.041789472437149734)</td>\n",
       "      <td>(companies, 0.03782389258944172)</td>\n",
       "      <td>(watch 2021, 0.03740412879855314)</td>\n",
       "      <td>(watch, 0.03687575794795414)</td>\n",
       "      <td>(iot, 0.031124820300891674)</td>\n",
       "      <td>(10, 0.029940307679780117)</td>\n",
       "      <td>(fintech, 0.027130500269414805)</td>\n",
       "      <td>(ai, 0.02533194981053806)</td>\n",
       "      <td>(leading tech, 0.024722970994140298)</td>\n",
       "      <td>(choose great, 0.024722970994140298)</td>\n",
       "      <td>(great wine, 0.024722970994140298)</td>\n",
       "      <td>(tech trends, 0.024722970994140298)</td>\n",
       "      <td>(intelligence movies, 0.024588839428707168)</td>\n",
       "      <td>(wine, 0.024252606974425835)</td>\n",
       "      <td>(leading, 0.024165918247990883)</td>\n",
       "      <td>(usa, 0.02414878068708062)</td>\n",
       "      <td>(movies, 0.024140236513879545)</td>\n",
       "    </tr>\n",
       "    <tr>\n",
       "      <th>4</th>\n",
       "      <td>https://twitter.com/data_nerd/status/139585064...</td>\n",
       "      <td>Top Companies 2021: The 50 best workplaces to ...</td>\n",
       "      <td>0</td>\n",
       "      <td>0</td>\n",
       "      <td>0</td>\n",
       "      <td>0</td>\n",
       "      <td>186</td>\n",
       "      <td>153</td>\n",
       "      <td>https://twitter.com/data_nerd</td>\n",
       "      <td>Carla Gentry</td>\n",
       "      <td>(2021, 0.11518344111464827)</td>\n",
       "      <td>(trends, 0.06973633657430857)</td>\n",
       "      <td>(trends 2021, 0.04791319519051584)</td>\n",
       "      <td>(2021 ai, 0.041789472437149734)</td>\n",
       "      <td>(companies, 0.03782389258944172)</td>\n",
       "      <td>(watch 2021, 0.03740412879855314)</td>\n",
       "      <td>(watch, 0.03687575794795414)</td>\n",
       "      <td>(iot, 0.031124820300891674)</td>\n",
       "      <td>(10, 0.029940307679780117)</td>\n",
       "      <td>(fintech, 0.027130500269414805)</td>\n",
       "      <td>(ai, 0.02533194981053806)</td>\n",
       "      <td>(leading tech, 0.024722970994140298)</td>\n",
       "      <td>(choose great, 0.024722970994140298)</td>\n",
       "      <td>(great wine, 0.024722970994140298)</td>\n",
       "      <td>(tech trends, 0.024722970994140298)</td>\n",
       "      <td>(intelligence movies, 0.024588839428707168)</td>\n",
       "      <td>(wine, 0.024252606974425835)</td>\n",
       "      <td>(leading, 0.024165918247990883)</td>\n",
       "      <td>(usa, 0.02414878068708062)</td>\n",
       "      <td>(movies, 0.024140236513879545)</td>\n",
       "    </tr>\n",
       "  </tbody>\n",
       "</table>\n",
       "</div>"
      ],
      "text/plain": [
       "                                           tweetLink  ...                topic_keyword_20\n",
       "0  https://twitter.com/KayFButterfield/status/139...  ...  (movies, 0.024140236513879545)\n",
       "1  https://twitter.com/pierrepinna/status/1395448...  ...  (movies, 0.024140236513879545)\n",
       "2  https://twitter.com/terence_mills/status/13904...  ...  (movies, 0.024140236513879545)\n",
       "3  https://twitter.com/DeepLearn007/status/139688...  ...  (movies, 0.024140236513879545)\n",
       "4  https://twitter.com/data_nerd/status/139585064...  ...  (movies, 0.024140236513879545)\n",
       "\n",
       "[5 rows x 30 columns]"
      ]
     },
     "execution_count": 43,
     "metadata": {
      "tags": []
     },
     "output_type": "execute_result"
    }
   ],
   "source": [
    "print(f\"Output dataframe shape: {results_exemplars_df.shape}\\n\")\n",
    "results_exemplars_df.head()"
   ]
  },
  {
   "cell_type": "code",
   "execution_count": 44,
   "metadata": {
    "colab": {
     "base_uri": "https://localhost:8080/",
     "height": 422
    },
    "executionInfo": {
     "elapsed": 338,
     "status": "ok",
     "timestamp": 1623852727996,
     "user": {
      "displayName": "Ariel Ibaba",
      "photoUrl": "",
      "userId": "11123111901736149061"
     },
     "user_tz": -120
    },
    "id": "imT-T4QnGwPV",
    "outputId": "5ae39e9e-4f57-406c-8eff-8be8b9aa4f69"
   },
   "outputs": [
    {
     "name": "stdout",
     "output_type": "stream",
     "text": [
      "Output dataframe shape: (8079, 30)\n",
      "\n"
     ]
    },
    {
     "data": {
      "text/html": [
       "<div>\n",
       "<style scoped>\n",
       "    .dataframe tbody tr th:only-of-type {\n",
       "        vertical-align: middle;\n",
       "    }\n",
       "\n",
       "    .dataframe tbody tr th {\n",
       "        vertical-align: top;\n",
       "    }\n",
       "\n",
       "    .dataframe thead th {\n",
       "        text-align: right;\n",
       "    }\n",
       "</style>\n",
       "<table border=\"1\" class=\"dataframe\">\n",
       "  <thead>\n",
       "    <tr style=\"text-align: right;\">\n",
       "      <th></th>\n",
       "      <th>tweetLink</th>\n",
       "      <th>text</th>\n",
       "      <th>retweet_count</th>\n",
       "      <th>favorite_count</th>\n",
       "      <th>reply_count</th>\n",
       "      <th>quote_count</th>\n",
       "      <th>topic</th>\n",
       "      <th>topic_count</th>\n",
       "      <th>profileUrl</th>\n",
       "      <th>name</th>\n",
       "      <th>topic_keyword_1</th>\n",
       "      <th>topic_keyword_2</th>\n",
       "      <th>topic_keyword_3</th>\n",
       "      <th>topic_keyword_4</th>\n",
       "      <th>topic_keyword_5</th>\n",
       "      <th>topic_keyword_6</th>\n",
       "      <th>topic_keyword_7</th>\n",
       "      <th>topic_keyword_8</th>\n",
       "      <th>topic_keyword_9</th>\n",
       "      <th>topic_keyword_10</th>\n",
       "      <th>topic_keyword_11</th>\n",
       "      <th>topic_keyword_12</th>\n",
       "      <th>topic_keyword_13</th>\n",
       "      <th>topic_keyword_14</th>\n",
       "      <th>topic_keyword_15</th>\n",
       "      <th>topic_keyword_16</th>\n",
       "      <th>topic_keyword_17</th>\n",
       "      <th>topic_keyword_18</th>\n",
       "      <th>topic_keyword_19</th>\n",
       "      <th>topic_keyword_20</th>\n",
       "    </tr>\n",
       "  </thead>\n",
       "  <tbody>\n",
       "    <tr>\n",
       "      <th>0</th>\n",
       "      <td>https://twitter.com/YvesMulkers/status/1396799...</td>\n",
       "      <td>RT @CREWcrew:Mitch McConnell got $250,000 from...</td>\n",
       "      <td>1010</td>\n",
       "      <td>0</td>\n",
       "      <td>0</td>\n",
       "      <td>0</td>\n",
       "      <td>186</td>\n",
       "      <td>153</td>\n",
       "      <td>https://twitter.com/YvesMulkers</td>\n",
       "      <td>Yves Mulkers</td>\n",
       "      <td>(2021, 0.11518344111464827)</td>\n",
       "      <td>(trends, 0.06973633657430857)</td>\n",
       "      <td>(trends 2021, 0.04791319519051584)</td>\n",
       "      <td>(2021 ai, 0.041789472437149734)</td>\n",
       "      <td>(companies, 0.03782389258944172)</td>\n",
       "      <td>(watch 2021, 0.03740412879855314)</td>\n",
       "      <td>(watch, 0.03687575794795414)</td>\n",
       "      <td>(iot, 0.031124820300891674)</td>\n",
       "      <td>(10, 0.029940307679780117)</td>\n",
       "      <td>(fintech, 0.027130500269414805)</td>\n",
       "      <td>(ai, 0.02533194981053806)</td>\n",
       "      <td>(leading tech, 0.024722970994140298)</td>\n",
       "      <td>(choose great, 0.024722970994140298)</td>\n",
       "      <td>(great wine, 0.024722970994140298)</td>\n",
       "      <td>(tech trends, 0.024722970994140298)</td>\n",
       "      <td>(intelligence movies, 0.024588839428707168)</td>\n",
       "      <td>(wine, 0.024252606974425835)</td>\n",
       "      <td>(leading, 0.024165918247990883)</td>\n",
       "      <td>(usa, 0.02414878068708062)</td>\n",
       "      <td>(movies, 0.024140236513879545)</td>\n",
       "    </tr>\n",
       "    <tr>\n",
       "      <th>1</th>\n",
       "      <td>https://twitter.com/data_nerd/status/139693655...</td>\n",
       "      <td>Madrona Venture Group’s Steve Singh on key tre...</td>\n",
       "      <td>0</td>\n",
       "      <td>0</td>\n",
       "      <td>0</td>\n",
       "      <td>0</td>\n",
       "      <td>186</td>\n",
       "      <td>153</td>\n",
       "      <td>https://twitter.com/data_nerd</td>\n",
       "      <td>Carla Gentry</td>\n",
       "      <td>(2021, 0.11518344111464827)</td>\n",
       "      <td>(trends, 0.06973633657430857)</td>\n",
       "      <td>(trends 2021, 0.04791319519051584)</td>\n",
       "      <td>(2021 ai, 0.041789472437149734)</td>\n",
       "      <td>(companies, 0.03782389258944172)</td>\n",
       "      <td>(watch 2021, 0.03740412879855314)</td>\n",
       "      <td>(watch, 0.03687575794795414)</td>\n",
       "      <td>(iot, 0.031124820300891674)</td>\n",
       "      <td>(10, 0.029940307679780117)</td>\n",
       "      <td>(fintech, 0.027130500269414805)</td>\n",
       "      <td>(ai, 0.02533194981053806)</td>\n",
       "      <td>(leading tech, 0.024722970994140298)</td>\n",
       "      <td>(choose great, 0.024722970994140298)</td>\n",
       "      <td>(great wine, 0.024722970994140298)</td>\n",
       "      <td>(tech trends, 0.024722970994140298)</td>\n",
       "      <td>(intelligence movies, 0.024588839428707168)</td>\n",
       "      <td>(wine, 0.024252606974425835)</td>\n",
       "      <td>(leading, 0.024165918247990883)</td>\n",
       "      <td>(usa, 0.02414878068708062)</td>\n",
       "      <td>(movies, 0.024140236513879545)</td>\n",
       "    </tr>\n",
       "    <tr>\n",
       "      <th>2</th>\n",
       "      <td>https://twitter.com/TamaraMcCleary/status/1395...</td>\n",
       "      <td>2021 Internet Of Things 50: The Bright Lights ...</td>\n",
       "      <td>10</td>\n",
       "      <td>11</td>\n",
       "      <td>0</td>\n",
       "      <td>0</td>\n",
       "      <td>186</td>\n",
       "      <td>153</td>\n",
       "      <td>https://twitter.com/TamaraMcCleary</td>\n",
       "      <td>Tamara McCleary</td>\n",
       "      <td>(2021, 0.11518344111464827)</td>\n",
       "      <td>(trends, 0.06973633657430857)</td>\n",
       "      <td>(trends 2021, 0.04791319519051584)</td>\n",
       "      <td>(2021 ai, 0.041789472437149734)</td>\n",
       "      <td>(companies, 0.03782389258944172)</td>\n",
       "      <td>(watch 2021, 0.03740412879855314)</td>\n",
       "      <td>(watch, 0.03687575794795414)</td>\n",
       "      <td>(iot, 0.031124820300891674)</td>\n",
       "      <td>(10, 0.029940307679780117)</td>\n",
       "      <td>(fintech, 0.027130500269414805)</td>\n",
       "      <td>(ai, 0.02533194981053806)</td>\n",
       "      <td>(leading tech, 0.024722970994140298)</td>\n",
       "      <td>(choose great, 0.024722970994140298)</td>\n",
       "      <td>(great wine, 0.024722970994140298)</td>\n",
       "      <td>(tech trends, 0.024722970994140298)</td>\n",
       "      <td>(intelligence movies, 0.024588839428707168)</td>\n",
       "      <td>(wine, 0.024252606974425835)</td>\n",
       "      <td>(leading, 0.024165918247990883)</td>\n",
       "      <td>(usa, 0.02414878068708062)</td>\n",
       "      <td>(movies, 0.024140236513879545)</td>\n",
       "    </tr>\n",
       "    <tr>\n",
       "      <th>3</th>\n",
       "      <td>https://twitter.com/data_nerd/status/139585064...</td>\n",
       "      <td>Top Companies 2021: The 50 best workplaces to ...</td>\n",
       "      <td>0</td>\n",
       "      <td>0</td>\n",
       "      <td>0</td>\n",
       "      <td>0</td>\n",
       "      <td>186</td>\n",
       "      <td>153</td>\n",
       "      <td>https://twitter.com/data_nerd</td>\n",
       "      <td>Carla Gentry</td>\n",
       "      <td>(2021, 0.11518344111464827)</td>\n",
       "      <td>(trends, 0.06973633657430857)</td>\n",
       "      <td>(trends 2021, 0.04791319519051584)</td>\n",
       "      <td>(2021 ai, 0.041789472437149734)</td>\n",
       "      <td>(companies, 0.03782389258944172)</td>\n",
       "      <td>(watch 2021, 0.03740412879855314)</td>\n",
       "      <td>(watch, 0.03687575794795414)</td>\n",
       "      <td>(iot, 0.031124820300891674)</td>\n",
       "      <td>(10, 0.029940307679780117)</td>\n",
       "      <td>(fintech, 0.027130500269414805)</td>\n",
       "      <td>(ai, 0.02533194981053806)</td>\n",
       "      <td>(leading tech, 0.024722970994140298)</td>\n",
       "      <td>(choose great, 0.024722970994140298)</td>\n",
       "      <td>(great wine, 0.024722970994140298)</td>\n",
       "      <td>(tech trends, 0.024722970994140298)</td>\n",
       "      <td>(intelligence movies, 0.024588839428707168)</td>\n",
       "      <td>(wine, 0.024252606974425835)</td>\n",
       "      <td>(leading, 0.024165918247990883)</td>\n",
       "      <td>(usa, 0.02414878068708062)</td>\n",
       "      <td>(movies, 0.024140236513879545)</td>\n",
       "    </tr>\n",
       "    <tr>\n",
       "      <th>4</th>\n",
       "      <td>https://twitter.com/Ronald_vanLoon/status/1396...</td>\n",
       "      <td>Whoever Leads In #ArtificialIntelligence In 20...</td>\n",
       "      <td>7</td>\n",
       "      <td>5</td>\n",
       "      <td>0</td>\n",
       "      <td>1</td>\n",
       "      <td>186</td>\n",
       "      <td>153</td>\n",
       "      <td>https://twitter.com/Ronald_vanLoon</td>\n",
       "      <td>Ronald van Loon</td>\n",
       "      <td>(2021, 0.11518344111464827)</td>\n",
       "      <td>(trends, 0.06973633657430857)</td>\n",
       "      <td>(trends 2021, 0.04791319519051584)</td>\n",
       "      <td>(2021 ai, 0.041789472437149734)</td>\n",
       "      <td>(companies, 0.03782389258944172)</td>\n",
       "      <td>(watch 2021, 0.03740412879855314)</td>\n",
       "      <td>(watch, 0.03687575794795414)</td>\n",
       "      <td>(iot, 0.031124820300891674)</td>\n",
       "      <td>(10, 0.029940307679780117)</td>\n",
       "      <td>(fintech, 0.027130500269414805)</td>\n",
       "      <td>(ai, 0.02533194981053806)</td>\n",
       "      <td>(leading tech, 0.024722970994140298)</td>\n",
       "      <td>(choose great, 0.024722970994140298)</td>\n",
       "      <td>(great wine, 0.024722970994140298)</td>\n",
       "      <td>(tech trends, 0.024722970994140298)</td>\n",
       "      <td>(intelligence movies, 0.024588839428707168)</td>\n",
       "      <td>(wine, 0.024252606974425835)</td>\n",
       "      <td>(leading, 0.024165918247990883)</td>\n",
       "      <td>(usa, 0.02414878068708062)</td>\n",
       "      <td>(movies, 0.024140236513879545)</td>\n",
       "    </tr>\n",
       "  </tbody>\n",
       "</table>\n",
       "</div>"
      ],
      "text/plain": [
       "                                           tweetLink  ...                topic_keyword_20\n",
       "0  https://twitter.com/YvesMulkers/status/1396799...  ...  (movies, 0.024140236513879545)\n",
       "1  https://twitter.com/data_nerd/status/139693655...  ...  (movies, 0.024140236513879545)\n",
       "2  https://twitter.com/TamaraMcCleary/status/1395...  ...  (movies, 0.024140236513879545)\n",
       "3  https://twitter.com/data_nerd/status/139585064...  ...  (movies, 0.024140236513879545)\n",
       "4  https://twitter.com/Ronald_vanLoon/status/1396...  ...  (movies, 0.024140236513879545)\n",
       "\n",
       "[5 rows x 30 columns]"
      ]
     },
     "execution_count": 44,
     "metadata": {
      "tags": []
     },
     "output_type": "execute_result"
    }
   ],
   "source": [
    "print(f\"Output dataframe shape: {results_df.shape}\\n\")\n",
    "results_df.head()"
   ]
  },
  {
   "cell_type": "code",
   "execution_count": 45,
   "metadata": {
    "colab": {
     "base_uri": "https://localhost:8080/"
    },
    "executionInfo": {
     "elapsed": 5,
     "status": "ok",
     "timestamp": 1623852731663,
     "user": {
      "displayName": "Ariel Ibaba",
      "photoUrl": "",
      "userId": "11123111901736149061"
     },
     "user_tz": -120
    },
    "id": "MZWFi0pFG268",
    "outputId": "e778029c-48cc-4f5b-d86a-4625e52d5bf6"
   },
   "outputs": [
    {
     "data": {
      "text/plain": [
       "186    42\n",
       "85     35\n",
       "96     34\n",
       "112    32\n",
       "128    27\n",
       "       ..\n",
       "218    10\n",
       "216    10\n",
       "214    10\n",
       "127    10\n",
       "335    10\n",
       "Name: topic, Length: 336, dtype: int64"
      ]
     },
     "execution_count": 45,
     "metadata": {
      "tags": []
     },
     "output_type": "execute_result"
    }
   ],
   "source": [
    "results_exemplars_df.topic.value_counts()"
   ]
  },
  {
   "cell_type": "code",
   "execution_count": 46,
   "metadata": {
    "colab": {
     "base_uri": "https://localhost:8080/"
    },
    "executionInfo": {
     "elapsed": 417,
     "status": "ok",
     "timestamp": 1623852734148,
     "user": {
      "displayName": "Ariel Ibaba",
      "photoUrl": "",
      "userId": "11123111901736149061"
     },
     "user_tz": -120
    },
    "id": "HZIYM-L8Qz1G",
    "outputId": "e36b2d28-f7cf-42a4-ad0c-ed4307ffd203"
   },
   "outputs": [
    {
     "data": {
      "text/plain": [
       "186    153\n",
       "96     136\n",
       "112    132\n",
       "22     129\n",
       "329    117\n",
       "      ... \n",
       "292     10\n",
       "74      10\n",
       "15      10\n",
       "184     10\n",
       "304     10\n",
       "Name: topic, Length: 336, dtype: int64"
      ]
     },
     "execution_count": 46,
     "metadata": {
      "tags": []
     },
     "output_type": "execute_result"
    }
   ],
   "source": [
    "results_df.topic.value_counts()"
   ]
  },
  {
   "cell_type": "markdown",
   "metadata": {
    "id": "FG3FefqlQz1G"
   },
   "source": [
    "### Save the results file"
   ]
  },
  {
   "cell_type": "code",
   "execution_count": 47,
   "metadata": {
    "executionInfo": {
     "elapsed": 1343,
     "status": "ok",
     "timestamp": 1623852738557,
     "user": {
      "displayName": "Ariel Ibaba",
      "photoUrl": "",
      "userId": "11123111901736149061"
     },
     "user_tz": -120
    },
    "id": "wqJ98hRBHBOY"
   },
   "outputs": [],
   "source": [
    "results_exemplars_df.to_csv(\n",
    "    Path(RESULTS_PATH / \"Topic Extraction - exemplars only.csv\"), index=False\n",
    ")"
   ]
  },
  {
   "cell_type": "code",
   "execution_count": 48,
   "metadata": {
    "executionInfo": {
     "elapsed": 1830,
     "status": "ok",
     "timestamp": 1623852741724,
     "user": {
      "displayName": "Ariel Ibaba",
      "photoUrl": "",
      "userId": "11123111901736149061"
     },
     "user_tz": -120
    },
    "id": "K-Izg3EmQz1H"
   },
   "outputs": [],
   "source": [
    "results_df.to_csv(Path(RESULTS_PATH / \"Topic Extraction - all.csv\"), index=False)"
   ]
  }
 ],
 "metadata": {
  "colab": {
   "collapsed_sections": [],
   "name": "2_analyze_topics_influencers_analysis.ipynb",
   "provenance": []
  },
  "kernelspec": {
   "display_name": "Python 3",
   "language": "python",
   "name": "python3"
  },
  "language_info": {
   "codemirror_mode": {
    "name": "ipython",
    "version": 3
   },
   "file_extension": ".py",
   "mimetype": "text/x-python",
   "name": "python",
   "nbconvert_exporter": "python",
   "pygments_lexer": "ipython3",
   "version": "3.7.8"
  }
 },
 "nbformat": 4,
 "nbformat_minor": 4
}
