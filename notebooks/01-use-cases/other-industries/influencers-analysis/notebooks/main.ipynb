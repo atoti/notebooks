{
 "cells": [
  {
   "cell_type": "markdown",
   "metadata": {},
   "source": [
    "# Twitter AI influencers analysis\n",
    "\\[_In case you’re unable to see the atoti visualizations in GitHub, try viewing the notebook in [nbviewer](https://nbviewer.org/github/atoti/notebooks/blob/main/notebooks/01-use-cases/other-industries/influencers-analysis/notebooks/main.ipynb)._]\n",
    "\n",
    "### Introduction\n",
    "\n",
    "In this notebook, we perform an analysis of the posts from the Twitter AI influencers in order to provide a list of the top influencers with regard to some specific KPIs.\n",
    "\n",
    "Here are the KPIs that we use for our analysis:\n",
    "\n",
    "- The mean number of replies per tweet\n",
    "- The mean number of retweets and quotes per tweet\n",
    "- The mean number of likes per tweet\n",
    "\n",
    "First, we calculate these KPIs considering all the tweets, then we determine them for the most popular topics (topics with the most associated tweets, including all types: tweet, reply, quote and like)."
   ]
  },
  {
   "cell_type": "code",
   "execution_count": 1,
   "metadata": {},
   "outputs": [],
   "source": [
    "import os\n",
    "import random as rd\n",
    "from pathlib import Path\n",
    "from zipfile import ZipFile\n",
    "\n",
    "import atoti as tt\n",
    "import numpy as np\n",
    "import pandas as pd\n",
    "import wget\n",
    "from IPython.display import clear_output, display"
   ]
  },
  {
   "cell_type": "markdown",
   "metadata": {},
   "source": [
    "#### Global variables"
   ]
  },
  {
   "cell_type": "code",
   "execution_count": 2,
   "metadata": {},
   "outputs": [],
   "source": [
    "RESULTS_PATH = Path(\"results\")"
   ]
  },
  {
   "cell_type": "markdown",
   "metadata": {},
   "source": [
    "### Data download  \n",
    "\n",
    "Skip the following step if you already downloaded the data to your local."
   ]
  },
  {
   "cell_type": "code",
   "execution_count": 3,
   "metadata": {},
   "outputs": [
    {
     "name": "stdout",
     "output_type": "stream",
     "text": [
      "Downloading: 100% [2537248 / 2537248] bytes\n"
     ]
    }
   ],
   "source": [
    "def bar_custom(current, total, width=80):\n",
    "    clear_output(wait=True)\n",
    "    print(\"Downloading: %d%% [%d / %d] bytes\" % (current / total * 100, current, total))\n",
    "\n",
    "\n",
    "data_url = (\n",
    "    \"https://data.atoti.io/notebooks/influencers-analysis/influencers-analysis.zip\"\n",
    ")\n",
    "wget.download(data_url, bar=bar_custom)\n",
    "\n",
    "with ZipFile(\"influencers-analysis.zip\", \"r\") as zipObj:\n",
    "    # Extract all the contents of zip file in current directory\n",
    "    zipObj.extractall()"
   ]
  },
  {
   "cell_type": "markdown",
   "metadata": {},
   "source": [
    "# STEP 0: Load the results"
   ]
  },
  {
   "cell_type": "code",
   "execution_count": 4,
   "metadata": {},
   "outputs": [
    {
     "name": "stdout",
     "output_type": "stream",
     "text": [
      "Data size: (8079, 30)\n",
      "\n"
     ]
    },
    {
     "data": {
      "text/html": [
       "<div>\n",
       "<style scoped>\n",
       "    .dataframe tbody tr th:only-of-type {\n",
       "        vertical-align: middle;\n",
       "    }\n",
       "\n",
       "    .dataframe tbody tr th {\n",
       "        vertical-align: top;\n",
       "    }\n",
       "\n",
       "    .dataframe thead th {\n",
       "        text-align: right;\n",
       "    }\n",
       "</style>\n",
       "<table border=\"1\" class=\"dataframe\">\n",
       "  <thead>\n",
       "    <tr style=\"text-align: right;\">\n",
       "      <th></th>\n",
       "      <th>tweetLink</th>\n",
       "      <th>text</th>\n",
       "      <th>retweet_count</th>\n",
       "      <th>favorite_count</th>\n",
       "      <th>reply_count</th>\n",
       "      <th>quote_count</th>\n",
       "      <th>topic</th>\n",
       "      <th>topic_count</th>\n",
       "      <th>profileUrl</th>\n",
       "      <th>name</th>\n",
       "      <th>...</th>\n",
       "      <th>topic_keyword_11</th>\n",
       "      <th>topic_keyword_12</th>\n",
       "      <th>topic_keyword_13</th>\n",
       "      <th>topic_keyword_14</th>\n",
       "      <th>topic_keyword_15</th>\n",
       "      <th>topic_keyword_16</th>\n",
       "      <th>topic_keyword_17</th>\n",
       "      <th>topic_keyword_18</th>\n",
       "      <th>topic_keyword_19</th>\n",
       "      <th>topic_keyword_20</th>\n",
       "    </tr>\n",
       "  </thead>\n",
       "  <tbody>\n",
       "    <tr>\n",
       "      <th>0</th>\n",
       "      <td>https://twitter.com/YvesMulkers/status/1396799...</td>\n",
       "      <td>RT @CREWcrew:Mitch McConnell got $250,000 from...</td>\n",
       "      <td>1010</td>\n",
       "      <td>0</td>\n",
       "      <td>0</td>\n",
       "      <td>0</td>\n",
       "      <td>186</td>\n",
       "      <td>153</td>\n",
       "      <td>https://twitter.com/YvesMulkers</td>\n",
       "      <td>Yves Mulkers</td>\n",
       "      <td>...</td>\n",
       "      <td>('ai', 0.02533194981053806)</td>\n",
       "      <td>('leading tech', 0.024722970994140298)</td>\n",
       "      <td>('choose great', 0.024722970994140298)</td>\n",
       "      <td>('great wine', 0.024722970994140298)</td>\n",
       "      <td>('tech trends', 0.024722970994140298)</td>\n",
       "      <td>('intelligence movies', 0.024588839428707168)</td>\n",
       "      <td>('wine', 0.024252606974425835)</td>\n",
       "      <td>('leading', 0.024165918247990883)</td>\n",
       "      <td>('usa', 0.02414878068708062)</td>\n",
       "      <td>('movies', 0.024140236513879545)</td>\n",
       "    </tr>\n",
       "    <tr>\n",
       "      <th>1</th>\n",
       "      <td>https://twitter.com/data_nerd/status/139693655...</td>\n",
       "      <td>Madrona Venture Group’s Steve Singh on key tre...</td>\n",
       "      <td>0</td>\n",
       "      <td>0</td>\n",
       "      <td>0</td>\n",
       "      <td>0</td>\n",
       "      <td>186</td>\n",
       "      <td>153</td>\n",
       "      <td>https://twitter.com/data_nerd</td>\n",
       "      <td>Carla Gentry</td>\n",
       "      <td>...</td>\n",
       "      <td>('ai', 0.02533194981053806)</td>\n",
       "      <td>('leading tech', 0.024722970994140298)</td>\n",
       "      <td>('choose great', 0.024722970994140298)</td>\n",
       "      <td>('great wine', 0.024722970994140298)</td>\n",
       "      <td>('tech trends', 0.024722970994140298)</td>\n",
       "      <td>('intelligence movies', 0.024588839428707168)</td>\n",
       "      <td>('wine', 0.024252606974425835)</td>\n",
       "      <td>('leading', 0.024165918247990883)</td>\n",
       "      <td>('usa', 0.02414878068708062)</td>\n",
       "      <td>('movies', 0.024140236513879545)</td>\n",
       "    </tr>\n",
       "  </tbody>\n",
       "</table>\n",
       "<p>2 rows × 30 columns</p>\n",
       "</div>"
      ],
      "text/plain": [
       "                                           tweetLink  \\\n",
       "0  https://twitter.com/YvesMulkers/status/1396799...   \n",
       "1  https://twitter.com/data_nerd/status/139693655...   \n",
       "\n",
       "                                                text  retweet_count  \\\n",
       "0  RT @CREWcrew:Mitch McConnell got $250,000 from...           1010   \n",
       "1  Madrona Venture Group’s Steve Singh on key tre...              0   \n",
       "\n",
       "   favorite_count  reply_count  quote_count  topic  topic_count  \\\n",
       "0               0            0            0    186          153   \n",
       "1               0            0            0    186          153   \n",
       "\n",
       "                        profileUrl          name  ...  \\\n",
       "0  https://twitter.com/YvesMulkers  Yves Mulkers  ...   \n",
       "1    https://twitter.com/data_nerd  Carla Gentry  ...   \n",
       "\n",
       "              topic_keyword_11                        topic_keyword_12  \\\n",
       "0  ('ai', 0.02533194981053806)  ('leading tech', 0.024722970994140298)   \n",
       "1  ('ai', 0.02533194981053806)  ('leading tech', 0.024722970994140298)   \n",
       "\n",
       "                         topic_keyword_13  \\\n",
       "0  ('choose great', 0.024722970994140298)   \n",
       "1  ('choose great', 0.024722970994140298)   \n",
       "\n",
       "                       topic_keyword_14  \\\n",
       "0  ('great wine', 0.024722970994140298)   \n",
       "1  ('great wine', 0.024722970994140298)   \n",
       "\n",
       "                        topic_keyword_15  \\\n",
       "0  ('tech trends', 0.024722970994140298)   \n",
       "1  ('tech trends', 0.024722970994140298)   \n",
       "\n",
       "                                topic_keyword_16  \\\n",
       "0  ('intelligence movies', 0.024588839428707168)   \n",
       "1  ('intelligence movies', 0.024588839428707168)   \n",
       "\n",
       "                 topic_keyword_17                   topic_keyword_18  \\\n",
       "0  ('wine', 0.024252606974425835)  ('leading', 0.024165918247990883)   \n",
       "1  ('wine', 0.024252606974425835)  ('leading', 0.024165918247990883)   \n",
       "\n",
       "               topic_keyword_19                  topic_keyword_20  \n",
       "0  ('usa', 0.02414878068708062)  ('movies', 0.024140236513879545)  \n",
       "1  ('usa', 0.02414878068708062)  ('movies', 0.024140236513879545)  \n",
       "\n",
       "[2 rows x 30 columns]"
      ]
     },
     "execution_count": 4,
     "metadata": {},
     "output_type": "execute_result"
    }
   ],
   "source": [
    "df = pd.read_csv(RESULTS_PATH / \"Topic Extraction - all.csv\")\n",
    "\n",
    "print(f\"Data size: {df.shape}\\n\")\n",
    "df.head(2)"
   ]
  },
  {
   "cell_type": "code",
   "execution_count": 5,
   "metadata": {},
   "outputs": [
    {
     "name": "stdout",
     "output_type": "stream",
     "text": [
      "Data size: (4038, 30)\n",
      "\n"
     ]
    },
    {
     "data": {
      "text/html": [
       "<div>\n",
       "<style scoped>\n",
       "    .dataframe tbody tr th:only-of-type {\n",
       "        vertical-align: middle;\n",
       "    }\n",
       "\n",
       "    .dataframe tbody tr th {\n",
       "        vertical-align: top;\n",
       "    }\n",
       "\n",
       "    .dataframe thead th {\n",
       "        text-align: right;\n",
       "    }\n",
       "</style>\n",
       "<table border=\"1\" class=\"dataframe\">\n",
       "  <thead>\n",
       "    <tr style=\"text-align: right;\">\n",
       "      <th></th>\n",
       "      <th>tweetLink</th>\n",
       "      <th>text</th>\n",
       "      <th>retweet_count</th>\n",
       "      <th>favorite_count</th>\n",
       "      <th>reply_count</th>\n",
       "      <th>quote_count</th>\n",
       "      <th>topic</th>\n",
       "      <th>topic_count</th>\n",
       "      <th>profileUrl</th>\n",
       "      <th>name</th>\n",
       "      <th>...</th>\n",
       "      <th>topic_keyword_11</th>\n",
       "      <th>topic_keyword_12</th>\n",
       "      <th>topic_keyword_13</th>\n",
       "      <th>topic_keyword_14</th>\n",
       "      <th>topic_keyword_15</th>\n",
       "      <th>topic_keyword_16</th>\n",
       "      <th>topic_keyword_17</th>\n",
       "      <th>topic_keyword_18</th>\n",
       "      <th>topic_keyword_19</th>\n",
       "      <th>topic_keyword_20</th>\n",
       "    </tr>\n",
       "  </thead>\n",
       "  <tbody>\n",
       "    <tr>\n",
       "      <th>0</th>\n",
       "      <td>https://twitter.com/KayFButterfield/status/139...</td>\n",
       "      <td>RT @SethBergeson:📣STARTING NOW! #SmartToyAward...</td>\n",
       "      <td>2</td>\n",
       "      <td>0</td>\n",
       "      <td>0</td>\n",
       "      <td>0</td>\n",
       "      <td>186</td>\n",
       "      <td>153</td>\n",
       "      <td>https://twitter.com/KayFButterfield</td>\n",
       "      <td>KayFirth-Butterfield</td>\n",
       "      <td>...</td>\n",
       "      <td>('ai', 0.02533194981053806)</td>\n",
       "      <td>('leading tech', 0.024722970994140298)</td>\n",
       "      <td>('choose great', 0.024722970994140298)</td>\n",
       "      <td>('great wine', 0.024722970994140298)</td>\n",
       "      <td>('tech trends', 0.024722970994140298)</td>\n",
       "      <td>('intelligence movies', 0.024588839428707168)</td>\n",
       "      <td>('wine', 0.024252606974425835)</td>\n",
       "      <td>('leading', 0.024165918247990883)</td>\n",
       "      <td>('usa', 0.02414878068708062)</td>\n",
       "      <td>('movies', 0.024140236513879545)</td>\n",
       "    </tr>\n",
       "    <tr>\n",
       "      <th>1</th>\n",
       "      <td>https://twitter.com/pierrepinna/status/1395448...</td>\n",
       "      <td>RT @DeepLearn007:Leading Tech Trends 2021\\r\\n\\...</td>\n",
       "      <td>126</td>\n",
       "      <td>0</td>\n",
       "      <td>0</td>\n",
       "      <td>0</td>\n",
       "      <td>186</td>\n",
       "      <td>153</td>\n",
       "      <td>https://twitter.com/pierrepinna</td>\n",
       "      <td>Pinna Pierre</td>\n",
       "      <td>...</td>\n",
       "      <td>('ai', 0.02533194981053806)</td>\n",
       "      <td>('leading tech', 0.024722970994140298)</td>\n",
       "      <td>('choose great', 0.024722970994140298)</td>\n",
       "      <td>('great wine', 0.024722970994140298)</td>\n",
       "      <td>('tech trends', 0.024722970994140298)</td>\n",
       "      <td>('intelligence movies', 0.024588839428707168)</td>\n",
       "      <td>('wine', 0.024252606974425835)</td>\n",
       "      <td>('leading', 0.024165918247990883)</td>\n",
       "      <td>('usa', 0.02414878068708062)</td>\n",
       "      <td>('movies', 0.024140236513879545)</td>\n",
       "    </tr>\n",
       "  </tbody>\n",
       "</table>\n",
       "<p>2 rows × 30 columns</p>\n",
       "</div>"
      ],
      "text/plain": [
       "                                           tweetLink  \\\n",
       "0  https://twitter.com/KayFButterfield/status/139...   \n",
       "1  https://twitter.com/pierrepinna/status/1395448...   \n",
       "\n",
       "                                                text  retweet_count  \\\n",
       "0  RT @SethBergeson:📣STARTING NOW! #SmartToyAward...              2   \n",
       "1  RT @DeepLearn007:Leading Tech Trends 2021\\r\\n\\...            126   \n",
       "\n",
       "   favorite_count  reply_count  quote_count  topic  topic_count  \\\n",
       "0               0            0            0    186          153   \n",
       "1               0            0            0    186          153   \n",
       "\n",
       "                            profileUrl                  name  ...  \\\n",
       "0  https://twitter.com/KayFButterfield  KayFirth-Butterfield  ...   \n",
       "1      https://twitter.com/pierrepinna          Pinna Pierre  ...   \n",
       "\n",
       "              topic_keyword_11                        topic_keyword_12  \\\n",
       "0  ('ai', 0.02533194981053806)  ('leading tech', 0.024722970994140298)   \n",
       "1  ('ai', 0.02533194981053806)  ('leading tech', 0.024722970994140298)   \n",
       "\n",
       "                         topic_keyword_13  \\\n",
       "0  ('choose great', 0.024722970994140298)   \n",
       "1  ('choose great', 0.024722970994140298)   \n",
       "\n",
       "                       topic_keyword_14  \\\n",
       "0  ('great wine', 0.024722970994140298)   \n",
       "1  ('great wine', 0.024722970994140298)   \n",
       "\n",
       "                        topic_keyword_15  \\\n",
       "0  ('tech trends', 0.024722970994140298)   \n",
       "1  ('tech trends', 0.024722970994140298)   \n",
       "\n",
       "                                topic_keyword_16  \\\n",
       "0  ('intelligence movies', 0.024588839428707168)   \n",
       "1  ('intelligence movies', 0.024588839428707168)   \n",
       "\n",
       "                 topic_keyword_17                   topic_keyword_18  \\\n",
       "0  ('wine', 0.024252606974425835)  ('leading', 0.024165918247990883)   \n",
       "1  ('wine', 0.024252606974425835)  ('leading', 0.024165918247990883)   \n",
       "\n",
       "               topic_keyword_19                  topic_keyword_20  \n",
       "0  ('usa', 0.02414878068708062)  ('movies', 0.024140236513879545)  \n",
       "1  ('usa', 0.02414878068708062)  ('movies', 0.024140236513879545)  \n",
       "\n",
       "[2 rows x 30 columns]"
      ]
     },
     "execution_count": 5,
     "metadata": {},
     "output_type": "execute_result"
    }
   ],
   "source": [
    "exemplars_df = pd.read_csv(RESULTS_PATH / \"Topic Extraction - exemplars only.csv\")\n",
    "\n",
    "print(f\"Data size: {exemplars_df.shape}\\n\")\n",
    "exemplars_df.head(2)"
   ]
  },
  {
   "cell_type": "markdown",
   "metadata": {},
   "source": [
    "From the above quick exploratory data analysis, we have noticed no irregularity in the data in term of:\n",
    "- Missing data\n",
    "- Infinite values\n",
    "- redundant data\n",
    "\n",
    "The data is clean so we can proceed our analysis."
   ]
  },
  {
   "cell_type": "markdown",
   "metadata": {},
   "source": [
    "# STEP 1: Prepare the data"
   ]
  },
  {
   "cell_type": "code",
   "execution_count": 6,
   "metadata": {},
   "outputs": [
    {
     "name": "stdout",
     "output_type": "stream",
     "text": [
      "Data size: (336, 22)\n",
      "\n"
     ]
    },
    {
     "data": {
      "text/html": [
       "<div>\n",
       "<style scoped>\n",
       "    .dataframe tbody tr th:only-of-type {\n",
       "        vertical-align: middle;\n",
       "    }\n",
       "\n",
       "    .dataframe tbody tr th {\n",
       "        vertical-align: top;\n",
       "    }\n",
       "\n",
       "    .dataframe thead th {\n",
       "        text-align: right;\n",
       "    }\n",
       "</style>\n",
       "<table border=\"1\" class=\"dataframe\">\n",
       "  <thead>\n",
       "    <tr style=\"text-align: right;\">\n",
       "      <th></th>\n",
       "      <th>topic</th>\n",
       "      <th>topic_count</th>\n",
       "      <th>topic_keyword_1</th>\n",
       "      <th>topic_keyword_2</th>\n",
       "      <th>topic_keyword_3</th>\n",
       "      <th>topic_keyword_4</th>\n",
       "      <th>topic_keyword_5</th>\n",
       "      <th>topic_keyword_6</th>\n",
       "      <th>topic_keyword_7</th>\n",
       "      <th>topic_keyword_8</th>\n",
       "      <th>...</th>\n",
       "      <th>topic_keyword_11</th>\n",
       "      <th>topic_keyword_12</th>\n",
       "      <th>topic_keyword_13</th>\n",
       "      <th>topic_keyword_14</th>\n",
       "      <th>topic_keyword_15</th>\n",
       "      <th>topic_keyword_16</th>\n",
       "      <th>topic_keyword_17</th>\n",
       "      <th>topic_keyword_18</th>\n",
       "      <th>topic_keyword_19</th>\n",
       "      <th>topic_keyword_20</th>\n",
       "    </tr>\n",
       "  </thead>\n",
       "  <tbody>\n",
       "    <tr>\n",
       "      <th>0</th>\n",
       "      <td>186</td>\n",
       "      <td>153</td>\n",
       "      <td>('2021', 0.11518344111464827)</td>\n",
       "      <td>('trends', 0.06973633657430857)</td>\n",
       "      <td>('trends 2021', 0.04791319519051584)</td>\n",
       "      <td>('2021 ai', 0.041789472437149734)</td>\n",
       "      <td>('companies', 0.03782389258944172)</td>\n",
       "      <td>('watch 2021', 0.03740412879855314)</td>\n",
       "      <td>('watch', 0.03687575794795414)</td>\n",
       "      <td>('iot', 0.031124820300891674)</td>\n",
       "      <td>...</td>\n",
       "      <td>('ai', 0.02533194981053806)</td>\n",
       "      <td>('leading tech', 0.024722970994140298)</td>\n",
       "      <td>('choose great', 0.024722970994140298)</td>\n",
       "      <td>('great wine', 0.024722970994140298)</td>\n",
       "      <td>('tech trends', 0.024722970994140298)</td>\n",
       "      <td>('intelligence movies', 0.024588839428707168)</td>\n",
       "      <td>('wine', 0.024252606974425835)</td>\n",
       "      <td>('leading', 0.024165918247990883)</td>\n",
       "      <td>('usa', 0.02414878068708062)</td>\n",
       "      <td>('movies', 0.024140236513879545)</td>\n",
       "    </tr>\n",
       "    <tr>\n",
       "      <th>1</th>\n",
       "      <td>96</td>\n",
       "      <td>136</td>\n",
       "      <td>('security', 0.13334875147029324)</td>\n",
       "      <td>('cybersecurity', 0.06613946852875736)</td>\n",
       "      <td>('server', 0.04812775359226998)</td>\n",
       "      <td>('vulnerabilities', 0.04753864385244478)</td>\n",
       "      <td>('protect', 0.04664468941473375)</td>\n",
       "      <td>('security vulnerabilities', 0.03804328196636811)</td>\n",
       "      <td>('machinelearning security', 0.03804328196636811)</td>\n",
       "      <td>('report highlights', 0.03804328196636811)</td>\n",
       "      <td>...</td>\n",
       "      <td>('growing threat', 0.03804328196636811)</td>\n",
       "      <td>('web report', 0.03804328196636811)</td>\n",
       "      <td>('hackers', 0.03700637689061967)</td>\n",
       "      <td>('threat', 0.0366620556522023)</td>\n",
       "      <td>('highlights', 0.03660856377351593)</td>\n",
       "      <td>('cyber', 0.036009969037109894)</td>\n",
       "      <td>('web', 0.035272071778176234)</td>\n",
       "      <td>('report', 0.03361564675896366)</td>\n",
       "      <td>('growing', 0.03335609543508208)</td>\n",
       "      <td>('online', 0.03320985993021597)</td>\n",
       "    </tr>\n",
       "    <tr>\n",
       "      <th>2</th>\n",
       "      <td>112</td>\n",
       "      <td>132</td>\n",
       "      <td>('healthcare', 0.08062913143207898)</td>\n",
       "      <td>('ai', 0.05952155861485934)</td>\n",
       "      <td>('future', 0.058975517545946286)</td>\n",
       "      <td>('future ai', 0.049136348227743466)</td>\n",
       "      <td>('cancer', 0.04197501211933508)</td>\n",
       "      <td>('artificial intelligence', 0.037859947522765086)</td>\n",
       "      <td>('intelligence', 0.03716322363479036)</td>\n",
       "      <td>('artificial', 0.037041730134947215)</td>\n",
       "      <td>...</td>\n",
       "      <td>('doctor', 0.03409881855831573)</td>\n",
       "      <td>('disease', 0.0335395197066635)</td>\n",
       "      <td>('healthtech', 0.0332097995751255)</td>\n",
       "      <td>('drugs combat', 0.024660267842207345)</td>\n",
       "      <td>('bone', 0.024660267842207345)</td>\n",
       "      <td>('current drugs', 0.024660267842207345)</td>\n",
       "      <td>('paulapicc', 0.024660267842207345)</td>\n",
       "      <td>('intelligence improve', 0.024660267842207345)</td>\n",
       "      <td>('teach big', 0.024660267842207345)</td>\n",
       "      <td>('healthcare enzc', 0.024660267842207345)</td>\n",
       "    </tr>\n",
       "    <tr>\n",
       "      <th>3</th>\n",
       "      <td>22</td>\n",
       "      <td>129</td>\n",
       "      <td>('spacex', 0.08589130794119605)</td>\n",
       "      <td>('space', 0.08050827064759014)</td>\n",
       "      <td>('earth', 0.0730039525475797)</td>\n",
       "      <td>('moon', 0.061162312916090415)</td>\n",
       "      <td>('mission', 0.06107994265280764)</td>\n",
       "      <td>('view earth', 0.04893123080850168)</td>\n",
       "      <td>('captured', 0.04893123080850168)</td>\n",
       "      <td>('view', 0.045779234310052146)</td>\n",
       "      <td>...</td>\n",
       "      <td>('starlink', 0.034937815331619035)</td>\n",
       "      <td>('captured capsule', 0.034937815331619035)</td>\n",
       "      <td>('iss', 0.034937815331619035)</td>\n",
       "      <td>('space station', 0.034937815331619035)</td>\n",
       "      <td>('earth iss', 0.034937815331619035)</td>\n",
       "      <td>('clearest picture', 0.034937815331619035)</td>\n",
       "      <td>('clearest', 0.034937815331619035)</td>\n",
       "      <td>('space shuttle', 0.034937815331619035)</td>\n",
       "      <td>('station captured', 0.034937815331619035)</td>\n",
       "      <td>('international space', 0.034937815331619035)</td>\n",
       "    </tr>\n",
       "    <tr>\n",
       "      <th>4</th>\n",
       "      <td>329</td>\n",
       "      <td>117</td>\n",
       "      <td>('ama', 0.06914391674971687)</td>\n",
       "      <td>('05', 0.06495635291986186)</td>\n",
       "      <td>('average', 0.06380059646402073)</td>\n",
       "      <td>('called', 0.06354995794021061)</td>\n",
       "      <td>('rstats', 0.05819670264538107)</td>\n",
       "      <td>('today', 0.04850149381542877)</td>\n",
       "      <td>('great', 0.04480246824313703)</td>\n",
       "      <td>('continue south', 0.03879269368962269)</td>\n",
       "      <td>...</td>\n",
       "      <td>('mlb adley', 0.03879269368962269)</td>\n",
       "      <td>('validation playing', 0.03879269368962269)</td>\n",
       "      <td>('ama reddit', 0.03879269368962269)</td>\n",
       "      <td>('session animated', 0.03879269368962269)</td>\n",
       "      <td>('ama today', 0.03879269368962269)</td>\n",
       "      <td>('called monte', 0.03879269368962269)</td>\n",
       "      <td>('called trolling', 0.03879269368962269)</td>\n",
       "      <td>('chose rstats', 0.03879269368962269)</td>\n",
       "      <td>('kombucha taproom', 0.03879269368962269)</td>\n",
       "      <td>('sections', 0.03879269368962269)</td>\n",
       "    </tr>\n",
       "  </tbody>\n",
       "</table>\n",
       "<p>5 rows × 22 columns</p>\n",
       "</div>"
      ],
      "text/plain": [
       "   topic  topic_count                      topic_keyword_1  \\\n",
       "0    186          153        ('2021', 0.11518344111464827)   \n",
       "1     96          136    ('security', 0.13334875147029324)   \n",
       "2    112          132  ('healthcare', 0.08062913143207898)   \n",
       "3     22          129      ('spacex', 0.08589130794119605)   \n",
       "4    329          117         ('ama', 0.06914391674971687)   \n",
       "\n",
       "                          topic_keyword_2  \\\n",
       "0         ('trends', 0.06973633657430857)   \n",
       "1  ('cybersecurity', 0.06613946852875736)   \n",
       "2             ('ai', 0.05952155861485934)   \n",
       "3          ('space', 0.08050827064759014)   \n",
       "4             ('05', 0.06495635291986186)   \n",
       "\n",
       "                        topic_keyword_3  \\\n",
       "0  ('trends 2021', 0.04791319519051584)   \n",
       "1       ('server', 0.04812775359226998)   \n",
       "2      ('future', 0.058975517545946286)   \n",
       "3         ('earth', 0.0730039525475797)   \n",
       "4      ('average', 0.06380059646402073)   \n",
       "\n",
       "                            topic_keyword_4  \\\n",
       "0         ('2021 ai', 0.041789472437149734)   \n",
       "1  ('vulnerabilities', 0.04753864385244478)   \n",
       "2       ('future ai', 0.049136348227743466)   \n",
       "3            ('moon', 0.061162312916090415)   \n",
       "4           ('called', 0.06354995794021061)   \n",
       "\n",
       "                      topic_keyword_5  \\\n",
       "0  ('companies', 0.03782389258944172)   \n",
       "1    ('protect', 0.04664468941473375)   \n",
       "2     ('cancer', 0.04197501211933508)   \n",
       "3    ('mission', 0.06107994265280764)   \n",
       "4     ('rstats', 0.05819670264538107)   \n",
       "\n",
       "                                     topic_keyword_6  \\\n",
       "0                ('watch 2021', 0.03740412879855314)   \n",
       "1  ('security vulnerabilities', 0.03804328196636811)   \n",
       "2  ('artificial intelligence', 0.037859947522765086)   \n",
       "3                ('view earth', 0.04893123080850168)   \n",
       "4                     ('today', 0.04850149381542877)   \n",
       "\n",
       "                                     topic_keyword_7  \\\n",
       "0                     ('watch', 0.03687575794795414)   \n",
       "1  ('machinelearning security', 0.03804328196636811)   \n",
       "2              ('intelligence', 0.03716322363479036)   \n",
       "3                  ('captured', 0.04893123080850168)   \n",
       "4                     ('great', 0.04480246824313703)   \n",
       "\n",
       "                              topic_keyword_8  ...  \\\n",
       "0               ('iot', 0.031124820300891674)  ...   \n",
       "1  ('report highlights', 0.03804328196636811)  ...   \n",
       "2        ('artificial', 0.037041730134947215)  ...   \n",
       "3              ('view', 0.045779234310052146)  ...   \n",
       "4     ('continue south', 0.03879269368962269)  ...   \n",
       "\n",
       "                          topic_keyword_11  \\\n",
       "0              ('ai', 0.02533194981053806)   \n",
       "1  ('growing threat', 0.03804328196636811)   \n",
       "2          ('doctor', 0.03409881855831573)   \n",
       "3       ('starlink', 0.034937815331619035)   \n",
       "4       ('mlb adley', 0.03879269368962269)   \n",
       "\n",
       "                              topic_keyword_12  \\\n",
       "0       ('leading tech', 0.024722970994140298)   \n",
       "1          ('web report', 0.03804328196636811)   \n",
       "2              ('disease', 0.0335395197066635)   \n",
       "3   ('captured capsule', 0.034937815331619035)   \n",
       "4  ('validation playing', 0.03879269368962269)   \n",
       "\n",
       "                         topic_keyword_13  \\\n",
       "0  ('choose great', 0.024722970994140298)   \n",
       "1        ('hackers', 0.03700637689061967)   \n",
       "2      ('healthtech', 0.0332097995751255)   \n",
       "3           ('iss', 0.034937815331619035)   \n",
       "4     ('ama reddit', 0.03879269368962269)   \n",
       "\n",
       "                            topic_keyword_14  \\\n",
       "0       ('great wine', 0.024722970994140298)   \n",
       "1             ('threat', 0.0366620556522023)   \n",
       "2     ('drugs combat', 0.024660267842207345)   \n",
       "3    ('space station', 0.034937815331619035)   \n",
       "4  ('session animated', 0.03879269368962269)   \n",
       "\n",
       "                        topic_keyword_15  \\\n",
       "0  ('tech trends', 0.024722970994140298)   \n",
       "1    ('highlights', 0.03660856377351593)   \n",
       "2         ('bone', 0.024660267842207345)   \n",
       "3    ('earth iss', 0.034937815331619035)   \n",
       "4     ('ama today', 0.03879269368962269)   \n",
       "\n",
       "                                topic_keyword_16  \\\n",
       "0  ('intelligence movies', 0.024588839428707168)   \n",
       "1                ('cyber', 0.036009969037109894)   \n",
       "2        ('current drugs', 0.024660267842207345)   \n",
       "3     ('clearest picture', 0.034937815331619035)   \n",
       "4          ('called monte', 0.03879269368962269)   \n",
       "\n",
       "                           topic_keyword_17  \\\n",
       "0            ('wine', 0.024252606974425835)   \n",
       "1             ('web', 0.035272071778176234)   \n",
       "2       ('paulapicc', 0.024660267842207345)   \n",
       "3        ('clearest', 0.034937815331619035)   \n",
       "4  ('called trolling', 0.03879269368962269)   \n",
       "\n",
       "                                 topic_keyword_18  \\\n",
       "0               ('leading', 0.024165918247990883)   \n",
       "1                 ('report', 0.03361564675896366)   \n",
       "2  ('intelligence improve', 0.024660267842207345)   \n",
       "3         ('space shuttle', 0.034937815331619035)   \n",
       "4           ('chose rstats', 0.03879269368962269)   \n",
       "\n",
       "                             topic_keyword_19  \\\n",
       "0                ('usa', 0.02414878068708062)   \n",
       "1            ('growing', 0.03335609543508208)   \n",
       "2         ('teach big', 0.024660267842207345)   \n",
       "3  ('station captured', 0.034937815331619035)   \n",
       "4   ('kombucha taproom', 0.03879269368962269)   \n",
       "\n",
       "                                topic_keyword_20  \n",
       "0               ('movies', 0.024140236513879545)  \n",
       "1                ('online', 0.03320985993021597)  \n",
       "2      ('healthcare enzc', 0.024660267842207345)  \n",
       "3  ('international space', 0.034937815331619035)  \n",
       "4              ('sections', 0.03879269368962269)  \n",
       "\n",
       "[5 rows x 22 columns]"
      ]
     },
     "execution_count": 6,
     "metadata": {},
     "output_type": "execute_result"
    }
   ],
   "source": [
    "topics_cols = [c for c in df.columns if \"topic\" in c or \"keyword\" in c]\n",
    "topics_df = df[topics_cols].drop_duplicates(subset=[\"topic\"])\n",
    "topics_df = topics_df.reset_index(drop=True)\n",
    "\n",
    "print(f\"Data size: {topics_df.shape}\\n\")\n",
    "topics_df.head()"
   ]
  },
  {
   "cell_type": "code",
   "execution_count": 7,
   "metadata": {
    "tags": []
   },
   "outputs": [
    {
     "name": "stdout",
     "output_type": "stream",
     "text": [
      "Data size: (8079, 10)\n",
      "\n"
     ]
    },
    {
     "data": {
      "text/html": [
       "<div>\n",
       "<style scoped>\n",
       "    .dataframe tbody tr th:only-of-type {\n",
       "        vertical-align: middle;\n",
       "    }\n",
       "\n",
       "    .dataframe tbody tr th {\n",
       "        vertical-align: top;\n",
       "    }\n",
       "\n",
       "    .dataframe thead th {\n",
       "        text-align: right;\n",
       "    }\n",
       "</style>\n",
       "<table border=\"1\" class=\"dataframe\">\n",
       "  <thead>\n",
       "    <tr style=\"text-align: right;\">\n",
       "      <th></th>\n",
       "      <th>tweetLink</th>\n",
       "      <th>text</th>\n",
       "      <th>retweet_count</th>\n",
       "      <th>favorite_count</th>\n",
       "      <th>reply_count</th>\n",
       "      <th>quote_count</th>\n",
       "      <th>topic</th>\n",
       "      <th>topic_count</th>\n",
       "      <th>profileUrl</th>\n",
       "      <th>name</th>\n",
       "    </tr>\n",
       "  </thead>\n",
       "  <tbody>\n",
       "    <tr>\n",
       "      <th>0</th>\n",
       "      <td>https://twitter.com/YvesMulkers/status/1396799...</td>\n",
       "      <td>RT @CREWcrew:Mitch McConnell got $250,000 from...</td>\n",
       "      <td>1010</td>\n",
       "      <td>0</td>\n",
       "      <td>0</td>\n",
       "      <td>0</td>\n",
       "      <td>186</td>\n",
       "      <td>153</td>\n",
       "      <td>https://twitter.com/YvesMulkers</td>\n",
       "      <td>Yves Mulkers</td>\n",
       "    </tr>\n",
       "    <tr>\n",
       "      <th>1</th>\n",
       "      <td>https://twitter.com/data_nerd/status/139693655...</td>\n",
       "      <td>Madrona Venture Group’s Steve Singh on key tre...</td>\n",
       "      <td>0</td>\n",
       "      <td>0</td>\n",
       "      <td>0</td>\n",
       "      <td>0</td>\n",
       "      <td>186</td>\n",
       "      <td>153</td>\n",
       "      <td>https://twitter.com/data_nerd</td>\n",
       "      <td>Carla Gentry</td>\n",
       "    </tr>\n",
       "    <tr>\n",
       "      <th>2</th>\n",
       "      <td>https://twitter.com/TamaraMcCleary/status/1395...</td>\n",
       "      <td>2021 Internet Of Things 50: The Bright Lights ...</td>\n",
       "      <td>10</td>\n",
       "      <td>11</td>\n",
       "      <td>0</td>\n",
       "      <td>0</td>\n",
       "      <td>186</td>\n",
       "      <td>153</td>\n",
       "      <td>https://twitter.com/TamaraMcCleary</td>\n",
       "      <td>Tamara McCleary</td>\n",
       "    </tr>\n",
       "    <tr>\n",
       "      <th>3</th>\n",
       "      <td>https://twitter.com/data_nerd/status/139585064...</td>\n",
       "      <td>Top Companies 2021: The 50 best workplaces to ...</td>\n",
       "      <td>0</td>\n",
       "      <td>0</td>\n",
       "      <td>0</td>\n",
       "      <td>0</td>\n",
       "      <td>186</td>\n",
       "      <td>153</td>\n",
       "      <td>https://twitter.com/data_nerd</td>\n",
       "      <td>Carla Gentry</td>\n",
       "    </tr>\n",
       "    <tr>\n",
       "      <th>4</th>\n",
       "      <td>https://twitter.com/Ronald_vanLoon/status/1396...</td>\n",
       "      <td>Whoever Leads In #ArtificialIntelligence In 20...</td>\n",
       "      <td>7</td>\n",
       "      <td>5</td>\n",
       "      <td>0</td>\n",
       "      <td>1</td>\n",
       "      <td>186</td>\n",
       "      <td>153</td>\n",
       "      <td>https://twitter.com/Ronald_vanLoon</td>\n",
       "      <td>Ronald van Loon</td>\n",
       "    </tr>\n",
       "  </tbody>\n",
       "</table>\n",
       "</div>"
      ],
      "text/plain": [
       "                                           tweetLink  \\\n",
       "0  https://twitter.com/YvesMulkers/status/1396799...   \n",
       "1  https://twitter.com/data_nerd/status/139693655...   \n",
       "2  https://twitter.com/TamaraMcCleary/status/1395...   \n",
       "3  https://twitter.com/data_nerd/status/139585064...   \n",
       "4  https://twitter.com/Ronald_vanLoon/status/1396...   \n",
       "\n",
       "                                                text  retweet_count  \\\n",
       "0  RT @CREWcrew:Mitch McConnell got $250,000 from...           1010   \n",
       "1  Madrona Venture Group’s Steve Singh on key tre...              0   \n",
       "2  2021 Internet Of Things 50: The Bright Lights ...             10   \n",
       "3  Top Companies 2021: The 50 best workplaces to ...              0   \n",
       "4  Whoever Leads In #ArtificialIntelligence In 20...              7   \n",
       "\n",
       "   favorite_count  reply_count  quote_count  topic  topic_count  \\\n",
       "0               0            0            0    186          153   \n",
       "1               0            0            0    186          153   \n",
       "2              11            0            0    186          153   \n",
       "3               0            0            0    186          153   \n",
       "4               5            0            1    186          153   \n",
       "\n",
       "                           profileUrl             name  \n",
       "0     https://twitter.com/YvesMulkers     Yves Mulkers  \n",
       "1       https://twitter.com/data_nerd     Carla Gentry  \n",
       "2  https://twitter.com/TamaraMcCleary  Tamara McCleary  \n",
       "3       https://twitter.com/data_nerd     Carla Gentry  \n",
       "4  https://twitter.com/Ronald_vanLoon  Ronald van Loon  "
      ]
     },
     "execution_count": 7,
     "metadata": {},
     "output_type": "execute_result"
    }
   ],
   "source": [
    "cols = [c for c in df.columns if \"keyword\" not in c and \"proba\" not in c]\n",
    "df = df[cols].drop_duplicates(subset=[\"tweetLink\"])\n",
    "df = df.reset_index(drop=True)\n",
    "\n",
    "print(f\"Data size: {df.shape}\\n\")\n",
    "df.head()"
   ]
  },
  {
   "cell_type": "markdown",
   "metadata": {},
   "source": [
    "# STEP 3: Atoti's magic!\n",
    "In this part, we leverage the power of Atoti to post-process the results in order to produce some insights."
   ]
  },
  {
   "cell_type": "markdown",
   "metadata": {},
   "source": [
    "## Atoti cube creation  \n",
    "\n",
    "We have a simple cube that holds a single data table. Let's call it influencer_table."
   ]
  },
  {
   "cell_type": "code",
   "execution_count": 8,
   "metadata": {},
   "outputs": [],
   "source": [
    "# a session has to be created for atoti\n",
    "session = tt.Session()"
   ]
  },
  {
   "cell_type": "code",
   "execution_count": 9,
   "metadata": {},
   "outputs": [
    {
     "data": {
      "text/html": [
       "<div>\n",
       "<style scoped>\n",
       "    .dataframe tbody tr th:only-of-type {\n",
       "        vertical-align: middle;\n",
       "    }\n",
       "\n",
       "    .dataframe tbody tr th {\n",
       "        vertical-align: top;\n",
       "    }\n",
       "\n",
       "    .dataframe thead th {\n",
       "        text-align: right;\n",
       "    }\n",
       "</style>\n",
       "<table border=\"1\" class=\"dataframe\">\n",
       "  <thead>\n",
       "    <tr style=\"text-align: right;\">\n",
       "      <th></th>\n",
       "      <th>tweetLink</th>\n",
       "      <th>text</th>\n",
       "      <th>retweet_count</th>\n",
       "      <th>favorite_count</th>\n",
       "      <th>reply_count</th>\n",
       "      <th>quote_count</th>\n",
       "      <th>topic</th>\n",
       "      <th>topic_count</th>\n",
       "      <th>profileUrl</th>\n",
       "      <th>name</th>\n",
       "    </tr>\n",
       "  </thead>\n",
       "  <tbody>\n",
       "    <tr>\n",
       "      <th>0</th>\n",
       "      <td>https://twitter.com/YvesMulkers/status/1396799...</td>\n",
       "      <td>RT @CREWcrew:Mitch McConnell got $250,000 from...</td>\n",
       "      <td>1010</td>\n",
       "      <td>0</td>\n",
       "      <td>0</td>\n",
       "      <td>0</td>\n",
       "      <td>186</td>\n",
       "      <td>153</td>\n",
       "      <td>https://twitter.com/YvesMulkers</td>\n",
       "      <td>Yves Mulkers</td>\n",
       "    </tr>\n",
       "    <tr>\n",
       "      <th>1</th>\n",
       "      <td>https://twitter.com/YvesMulkers/status/1391437...</td>\n",
       "      <td>RT @Paula_Piccard: Vivino: Choose Your Next Gr...</td>\n",
       "      <td>27</td>\n",
       "      <td>0</td>\n",
       "      <td>0</td>\n",
       "      <td>0</td>\n",
       "      <td>186</td>\n",
       "      <td>153</td>\n",
       "      <td>https://twitter.com/YvesMulkers</td>\n",
       "      <td>Yves Mulkers</td>\n",
       "    </tr>\n",
       "    <tr>\n",
       "      <th>2</th>\n",
       "      <td>https://twitter.com/Ronald_vanLoon/status/1391...</td>\n",
       "      <td>The World’s 20 Most Profitable Companies\\r\\nby...</td>\n",
       "      <td>16</td>\n",
       "      <td>14</td>\n",
       "      <td>0</td>\n",
       "      <td>0</td>\n",
       "      <td>186</td>\n",
       "      <td>153</td>\n",
       "      <td>https://twitter.com/Ronald_vanLoon</td>\n",
       "      <td>Ronald van Loon</td>\n",
       "    </tr>\n",
       "    <tr>\n",
       "      <th>3</th>\n",
       "      <td>https://twitter.com/clmt/status/13899514133635...</td>\n",
       "      <td>RT @JFPuget: Nvidia is on #TIME100Companies: a...</td>\n",
       "      <td>1</td>\n",
       "      <td>0</td>\n",
       "      <td>0</td>\n",
       "      <td>0</td>\n",
       "      <td>186</td>\n",
       "      <td>153</td>\n",
       "      <td>https://twitter.com/clmt</td>\n",
       "      <td>Clément Farabet</td>\n",
       "    </tr>\n",
       "    <tr>\n",
       "      <th>4</th>\n",
       "      <td>https://twitter.com/drfeifei/status/1392193417...</td>\n",
       "      <td>RT @StanfordHAI: This week, an intensive AI co...</td>\n",
       "      <td>11</td>\n",
       "      <td>0</td>\n",
       "      <td>0</td>\n",
       "      <td>0</td>\n",
       "      <td>186</td>\n",
       "      <td>153</td>\n",
       "      <td>https://twitter.com/drfeifei</td>\n",
       "      <td>Fei-Fei Li</td>\n",
       "    </tr>\n",
       "  </tbody>\n",
       "</table>\n",
       "</div>"
      ],
      "text/plain": [
       "                                           tweetLink  \\\n",
       "0  https://twitter.com/YvesMulkers/status/1396799...   \n",
       "1  https://twitter.com/YvesMulkers/status/1391437...   \n",
       "2  https://twitter.com/Ronald_vanLoon/status/1391...   \n",
       "3  https://twitter.com/clmt/status/13899514133635...   \n",
       "4  https://twitter.com/drfeifei/status/1392193417...   \n",
       "\n",
       "                                                text  retweet_count  \\\n",
       "0  RT @CREWcrew:Mitch McConnell got $250,000 from...           1010   \n",
       "1  RT @Paula_Piccard: Vivino: Choose Your Next Gr...             27   \n",
       "2  The World’s 20 Most Profitable Companies\\r\\nby...             16   \n",
       "3  RT @JFPuget: Nvidia is on #TIME100Companies: a...              1   \n",
       "4  RT @StanfordHAI: This week, an intensive AI co...             11   \n",
       "\n",
       "   favorite_count  reply_count  quote_count  topic  topic_count  \\\n",
       "0               0            0            0    186          153   \n",
       "1               0            0            0    186          153   \n",
       "2              14            0            0    186          153   \n",
       "3               0            0            0    186          153   \n",
       "4               0            0            0    186          153   \n",
       "\n",
       "                           profileUrl             name  \n",
       "0     https://twitter.com/YvesMulkers     Yves Mulkers  \n",
       "1     https://twitter.com/YvesMulkers     Yves Mulkers  \n",
       "2  https://twitter.com/Ronald_vanLoon  Ronald van Loon  \n",
       "3            https://twitter.com/clmt  Clément Farabet  \n",
       "4        https://twitter.com/drfeifei       Fei-Fei Li  "
      ]
     },
     "execution_count": 9,
     "metadata": {},
     "output_type": "execute_result"
    }
   ],
   "source": [
    "influencer_table = session.read_pandas(\n",
    "    df, table_name=\"influencer\", default_values={\"topic\": 0}\n",
    ")\n",
    "influencer_table.head()"
   ]
  },
  {
   "cell_type": "code",
   "execution_count": 10,
   "metadata": {},
   "outputs": [],
   "source": [
    "cube = session.create_cube(influencer_table, \"influencer_cube\", mode=\"no_measures\")\n",
    "\n",
    "h, m, l = cube.hierarchies, cube.measures, cube.levels"
   ]
  },
  {
   "cell_type": "code",
   "execution_count": 11,
   "metadata": {},
   "outputs": [
    {
     "data": {
      "image/svg+xml": [
       "<svg xmlns=\"http://www.w3.org/2000/svg\" xmlns:xlink=\"http://www.w3.org/1999/xlink\" width=\"166px\" height=\"282px\" viewBox=\"0.00 0.00 166.00 282.00\">\n",
       "<g id=\"graph0\" class=\"graph\" transform=\"scale(1.0 1.0) rotate(0) translate(4 278)\">\n",
       "<title>influencer_cube schema</title>\n",
       "<polygon fill=\"white\" stroke=\"transparent\" points=\"-4,4 -4,-278 162,-278 162,4 -4,4\"/>\n",
       "<!-- influencer -->\n",
       "<g id=\"node1\" class=\"node\">\n",
       "<title>influencer</title>\n",
       "<text text-anchor=\"start\" x=\"50\" y=\"-254.6\" font-family=\"-apple-system, BlinkMacSystemFont, 'Segoe UI', Helvetica, Arial, sans-serif, 'Apple Color Emoji', 'Segoe UI Emoji', 'Segoe UI Symbol'\" font-weight=\"bold\" font-size=\"13.00\">influencer</text>\n",
       "<polygon fill=\"#f5f5f5\" stroke=\"transparent\" points=\"9,-221 9,-245 19,-245 19,-221 9,-221\"/>\n",
       "<polygon fill=\"#f5f5f5\" stroke=\"transparent\" points=\"19,-221 19,-245 106,-245 106,-221 19,-221\"/>\n",
       "<text text-anchor=\"start\" x=\"24\" y=\"-229.6\" font-family=\"-apple-system, BlinkMacSystemFont, 'Segoe UI', Helvetica, Arial, sans-serif, 'Apple Color Emoji', 'Segoe UI Emoji', 'Segoe UI Symbol'\" font-size=\"13.00\">tweetLink</text>\n",
       "<polygon fill=\"#f5f5f5\" stroke=\"transparent\" points=\"106,-221 106,-245 149,-245 149,-221 106,-221\"/>\n",
       "<text text-anchor=\"start\" x=\"111\" y=\"-230.6\" font-family=\"-apple-system, BlinkMacSystemFont, 'Segoe UI', Helvetica, Arial, sans-serif, 'Apple Color Emoji', 'Segoe UI Emoji', 'Segoe UI Symbol'\" font-style=\"italic\" font-size=\"13.00\">String</text>\n",
       "<polygon fill=\"#ffffff\" stroke=\"transparent\" points=\"9,-197 9,-221 19,-221 19,-197 9,-197\"/>\n",
       "<polygon fill=\"#ffffff\" stroke=\"transparent\" points=\"19,-197 19,-221 106,-221 106,-197 19,-197\"/>\n",
       "<text text-anchor=\"start\" x=\"24\" y=\"-205.6\" font-family=\"-apple-system, BlinkMacSystemFont, 'Segoe UI', Helvetica, Arial, sans-serif, 'Apple Color Emoji', 'Segoe UI Emoji', 'Segoe UI Symbol'\" font-size=\"13.00\">text</text>\n",
       "<polygon fill=\"#ffffff\" stroke=\"transparent\" points=\"106,-197 106,-221 149,-221 149,-197 106,-197\"/>\n",
       "<text text-anchor=\"start\" x=\"111\" y=\"-206.6\" font-family=\"-apple-system, BlinkMacSystemFont, 'Segoe UI', Helvetica, Arial, sans-serif, 'Apple Color Emoji', 'Segoe UI Emoji', 'Segoe UI Symbol'\" font-style=\"italic\" font-size=\"13.00\">String</text>\n",
       "<polygon fill=\"#f5f5f5\" stroke=\"transparent\" points=\"9,-173 9,-197 19,-197 19,-173 9,-173\"/>\n",
       "<polygon fill=\"#f5f5f5\" stroke=\"transparent\" points=\"19,-173 19,-197 106,-197 106,-173 19,-173\"/>\n",
       "<text text-anchor=\"start\" x=\"24\" y=\"-181.6\" font-family=\"-apple-system, BlinkMacSystemFont, 'Segoe UI', Helvetica, Arial, sans-serif, 'Apple Color Emoji', 'Segoe UI Emoji', 'Segoe UI Symbol'\" font-size=\"13.00\">retweet_count</text>\n",
       "<polygon fill=\"#f5f5f5\" stroke=\"transparent\" points=\"106,-173 106,-197 149,-197 149,-173 106,-173\"/>\n",
       "<text text-anchor=\"start\" x=\"121\" y=\"-182.6\" font-family=\"-apple-system, BlinkMacSystemFont, 'Segoe UI', Helvetica, Arial, sans-serif, 'Apple Color Emoji', 'Segoe UI Emoji', 'Segoe UI Symbol'\" font-style=\"italic\" font-size=\"13.00\">long</text>\n",
       "<polygon fill=\"#ffffff\" stroke=\"transparent\" points=\"9,-149 9,-173 19,-173 19,-149 9,-149\"/>\n",
       "<polygon fill=\"#ffffff\" stroke=\"transparent\" points=\"19,-149 19,-173 106,-173 106,-149 19,-149\"/>\n",
       "<text text-anchor=\"start\" x=\"24\" y=\"-157.6\" font-family=\"-apple-system, BlinkMacSystemFont, 'Segoe UI', Helvetica, Arial, sans-serif, 'Apple Color Emoji', 'Segoe UI Emoji', 'Segoe UI Symbol'\" font-size=\"13.00\">favorite_count</text>\n",
       "<polygon fill=\"#ffffff\" stroke=\"transparent\" points=\"106,-149 106,-173 149,-173 149,-149 106,-149\"/>\n",
       "<text text-anchor=\"start\" x=\"121\" y=\"-158.6\" font-family=\"-apple-system, BlinkMacSystemFont, 'Segoe UI', Helvetica, Arial, sans-serif, 'Apple Color Emoji', 'Segoe UI Emoji', 'Segoe UI Symbol'\" font-style=\"italic\" font-size=\"13.00\">long</text>\n",
       "<polygon fill=\"#f5f5f5\" stroke=\"transparent\" points=\"9,-125 9,-149 19,-149 19,-125 9,-125\"/>\n",
       "<polygon fill=\"#f5f5f5\" stroke=\"transparent\" points=\"19,-125 19,-149 106,-149 106,-125 19,-125\"/>\n",
       "<text text-anchor=\"start\" x=\"24\" y=\"-133.6\" font-family=\"-apple-system, BlinkMacSystemFont, 'Segoe UI', Helvetica, Arial, sans-serif, 'Apple Color Emoji', 'Segoe UI Emoji', 'Segoe UI Symbol'\" font-size=\"13.00\">reply_count</text>\n",
       "<polygon fill=\"#f5f5f5\" stroke=\"transparent\" points=\"106,-125 106,-149 149,-149 149,-125 106,-125\"/>\n",
       "<text text-anchor=\"start\" x=\"121\" y=\"-134.6\" font-family=\"-apple-system, BlinkMacSystemFont, 'Segoe UI', Helvetica, Arial, sans-serif, 'Apple Color Emoji', 'Segoe UI Emoji', 'Segoe UI Symbol'\" font-style=\"italic\" font-size=\"13.00\">long</text>\n",
       "<polygon fill=\"#ffffff\" stroke=\"transparent\" points=\"9,-101 9,-125 19,-125 19,-101 9,-101\"/>\n",
       "<polygon fill=\"#ffffff\" stroke=\"transparent\" points=\"19,-101 19,-125 106,-125 106,-101 19,-101\"/>\n",
       "<text text-anchor=\"start\" x=\"24\" y=\"-109.6\" font-family=\"-apple-system, BlinkMacSystemFont, 'Segoe UI', Helvetica, Arial, sans-serif, 'Apple Color Emoji', 'Segoe UI Emoji', 'Segoe UI Symbol'\" font-size=\"13.00\">quote_count</text>\n",
       "<polygon fill=\"#ffffff\" stroke=\"transparent\" points=\"106,-101 106,-125 149,-125 149,-101 106,-101\"/>\n",
       "<text text-anchor=\"start\" x=\"121\" y=\"-110.6\" font-family=\"-apple-system, BlinkMacSystemFont, 'Segoe UI', Helvetica, Arial, sans-serif, 'Apple Color Emoji', 'Segoe UI Emoji', 'Segoe UI Symbol'\" font-style=\"italic\" font-size=\"13.00\">long</text>\n",
       "<polygon fill=\"#f5f5f5\" stroke=\"transparent\" points=\"9,-77 9,-101 19,-101 19,-77 9,-77\"/>\n",
       "<polygon fill=\"#f5f5f5\" stroke=\"transparent\" points=\"19,-77 19,-101 106,-101 106,-77 19,-77\"/>\n",
       "<text text-anchor=\"start\" x=\"24\" y=\"-85.6\" font-family=\"-apple-system, BlinkMacSystemFont, 'Segoe UI', Helvetica, Arial, sans-serif, 'Apple Color Emoji', 'Segoe UI Emoji', 'Segoe UI Symbol'\" font-size=\"13.00\">topic</text>\n",
       "<polygon fill=\"#f5f5f5\" stroke=\"transparent\" points=\"106,-77 106,-101 149,-101 149,-77 106,-77\"/>\n",
       "<text text-anchor=\"start\" x=\"121\" y=\"-86.6\" font-family=\"-apple-system, BlinkMacSystemFont, 'Segoe UI', Helvetica, Arial, sans-serif, 'Apple Color Emoji', 'Segoe UI Emoji', 'Segoe UI Symbol'\" font-style=\"italic\" font-size=\"13.00\">long</text>\n",
       "<polygon fill=\"#ffffff\" stroke=\"transparent\" points=\"9,-53 9,-77 19,-77 19,-53 9,-53\"/>\n",
       "<polygon fill=\"#ffffff\" stroke=\"transparent\" points=\"19,-53 19,-77 106,-77 106,-53 19,-53\"/>\n",
       "<text text-anchor=\"start\" x=\"24\" y=\"-61.6\" font-family=\"-apple-system, BlinkMacSystemFont, 'Segoe UI', Helvetica, Arial, sans-serif, 'Apple Color Emoji', 'Segoe UI Emoji', 'Segoe UI Symbol'\" font-size=\"13.00\">topic_count</text>\n",
       "<polygon fill=\"#ffffff\" stroke=\"transparent\" points=\"106,-53 106,-77 149,-77 149,-53 106,-53\"/>\n",
       "<text text-anchor=\"start\" x=\"121\" y=\"-62.6\" font-family=\"-apple-system, BlinkMacSystemFont, 'Segoe UI', Helvetica, Arial, sans-serif, 'Apple Color Emoji', 'Segoe UI Emoji', 'Segoe UI Symbol'\" font-style=\"italic\" font-size=\"13.00\">long</text>\n",
       "<polygon fill=\"#f5f5f5\" stroke=\"transparent\" points=\"9,-29 9,-53 19,-53 19,-29 9,-29\"/>\n",
       "<polygon fill=\"#f5f5f5\" stroke=\"transparent\" points=\"19,-29 19,-53 106,-53 106,-29 19,-29\"/>\n",
       "<text text-anchor=\"start\" x=\"24\" y=\"-37.6\" font-family=\"-apple-system, BlinkMacSystemFont, 'Segoe UI', Helvetica, Arial, sans-serif, 'Apple Color Emoji', 'Segoe UI Emoji', 'Segoe UI Symbol'\" font-size=\"13.00\">profileUrl</text>\n",
       "<polygon fill=\"#f5f5f5\" stroke=\"transparent\" points=\"106,-29 106,-53 149,-53 149,-29 106,-29\"/>\n",
       "<text text-anchor=\"start\" x=\"111\" y=\"-38.6\" font-family=\"-apple-system, BlinkMacSystemFont, 'Segoe UI', Helvetica, Arial, sans-serif, 'Apple Color Emoji', 'Segoe UI Emoji', 'Segoe UI Symbol'\" font-style=\"italic\" font-size=\"13.00\">String</text>\n",
       "<polygon fill=\"#ffffff\" stroke=\"transparent\" points=\"9,-5 9,-29 19,-29 19,-5 9,-5\"/>\n",
       "<polygon fill=\"#ffffff\" stroke=\"transparent\" points=\"19,-5 19,-29 106,-29 106,-5 19,-5\"/>\n",
       "<text text-anchor=\"start\" x=\"24\" y=\"-13.6\" font-family=\"-apple-system, BlinkMacSystemFont, 'Segoe UI', Helvetica, Arial, sans-serif, 'Apple Color Emoji', 'Segoe UI Emoji', 'Segoe UI Symbol'\" font-size=\"13.00\">name</text>\n",
       "<polygon fill=\"#ffffff\" stroke=\"transparent\" points=\"106,-5 106,-29 149,-29 149,-5 106,-5\"/>\n",
       "<text text-anchor=\"start\" x=\"111\" y=\"-14.6\" font-family=\"-apple-system, BlinkMacSystemFont, 'Segoe UI', Helvetica, Arial, sans-serif, 'Apple Color Emoji', 'Segoe UI Emoji', 'Segoe UI Symbol'\" font-style=\"italic\" font-size=\"13.00\">String</text>\n",
       "<polygon fill=\"none\" stroke=\"black\" points=\"8,-4 8,-270 150,-270 150,-4 8,-4\"/>\n",
       "</g>\n",
       "</g>\n",
       "</svg>"
      ],
      "text/plain": [
       "<IPython.core.display.SVG object>"
      ]
     },
     "execution_count": 11,
     "metadata": {},
     "output_type": "execute_result"
    }
   ],
   "source": [
    "cube.schema"
   ]
  },
  {
   "cell_type": "markdown",
   "metadata": {},
   "source": [
    "## Create measures\n",
    "Here, we create the following measures for our analysis:\n",
    "\n",
    "- The mean number of replies per tweet\n",
    "- The mean number of retweets and quotes per tweet\n",
    "- The mean number of likes per tweet\n",
    "\n",
    "We also consider their overall mean over all the influencers."
   ]
  },
  {
   "cell_type": "code",
   "execution_count": 12,
   "metadata": {},
   "outputs": [],
   "source": [
    "m[\"replies\"] = tt.agg.mean(influencer_table[\"reply_count\"])\n",
    "m[\"retweets_quotes\"] = tt.agg.mean(\n",
    "    influencer_table[\"retweet_count\"] + influencer_table[\"quote_count\"]\n",
    ")\n",
    "m[\"likes\"] = tt.agg.mean(influencer_table[\"favorite_count\"])\n",
    "\n",
    "m[\"replies_mean\"] = tt.total(m[\"replies\"], h[\"name\"])\n",
    "m[\"retweets_quotes_mean\"] = tt.total(m[\"retweets_quotes\"], h[\"name\"])\n",
    "m[\"likes_mean\"] = tt.total(m[\"likes\"], h[\"name\"])"
   ]
  },
  {
   "cell_type": "markdown",
   "metadata": {},
   "source": [
    "We format de created measure"
   ]
  },
  {
   "cell_type": "code",
   "execution_count": 13,
   "metadata": {},
   "outputs": [],
   "source": [
    "m[\"replies\"].formatter = \"DOUBLE[#,###.00]\"\n",
    "m[\"retweets_quotes\"].formatter = \"DOUBLE[#,###.00]\"\n",
    "m[\"likes\"].formatter = \"DOUBLE[#,###.00]\"\n",
    "m[\"replies_mean\"].formatter = \"DOUBLE[#,###.00]\"\n",
    "m[\"retweets_quotes_mean\"].formatter = \"DOUBLE[#,###.00]\"\n",
    "m[\"likes_mean\"].formatter = \"DOUBLE[#,###.00]\""
   ]
  },
  {
   "cell_type": "markdown",
   "metadata": {},
   "source": [
    "## Create hierarchies"
   ]
  },
  {
   "cell_type": "code",
   "execution_count": 14,
   "metadata": {},
   "outputs": [],
   "source": [
    "h[\"topic\"] = [influencer_table[\"topic\"]]"
   ]
  },
  {
   "cell_type": "markdown",
   "metadata": {},
   "source": [
    "## Visualize insights\n",
    "Here, we create the following visualizations to present our results:"
   ]
  },
  {
   "cell_type": "markdown",
   "metadata": {},
   "source": [
    "#### Top 10 influencers - Number of replies, retweets and quotes, and likes per tweets"
   ]
  },
  {
   "cell_type": "code",
   "execution_count": 15,
   "metadata": {
    "atoti": {
     "widget": {
      "mapping": {
       "columns": [
        "ALL_MEASURES"
       ],
       "measures": [
        "[Measures].[replies]",
        "[Measures].[retweets_quotes]",
        "[Measures].[likes]",
        "[Measures].[contributors.COUNT]"
       ],
       "rows": [
        "[influencer].[name].[name]"
       ]
      },
      "query": {
       "mdx": "SELECT NON EMPTY Order(Hierarchize(Descendants({[influencer].[name].[AllMember]}, 1, SELF_AND_BEFORE)), [Measures].[contributors.COUNT], DESC) ON ROWS, NON EMPTY {[Measures].[replies], [Measures].[retweets_quotes], [Measures].[likes], [Measures].[contributors.COUNT]} ON COLUMNS FROM [influencer_cube] CELL PROPERTIES VALUE, FORMATTED_VALUE, BACK_COLOR, FORE_COLOR, FONT_FLAGS",
       "updateMode": "once"
      },
      "serverKey": "default",
      "widgetKey": "pivot-table"
     }
    },
    "tags": []
   },
   "outputs": [
    {
     "data": {
      "application/vnd.atoti.widget.v0+json": {
       "name": "Top 10 influencers - Number of replies, retweets and quotes, and likes per tweets",
       "sessionId": "1674717365_VNWIH9",
       "sessionLocation": {
        "https": false,
        "port": 60114
       },
       "widgetCreationCode": "session.visualize()"
      },
      "text/html": [
       "<img src=\"data:image/svg+xml;charset=utf8,%3C%3Fxml%20version%3D%221.0%22%20standalone%3D%22no%22%3F%3E%3Csvg%20xmlns%3D%22http%3A%2F%2Fwww.w3.org%2F2000%2Fsvg%22%20height%3D%22352%22%20width%3D%221183%22%3E%3CforeignObject%20width%3D%22100%25%22%20height%3D%22100%25%22%20x%3D%220%22%20y%3D%220%22%3E%3Cstyle%20xmlns%3D%22http%3A%2F%2Fwww.w3.org%2F1999%2Fxhtml%22%20type%3D%22text%2Fcss%22%3E*%2C%20%3A%3Abefore%2C%20%3A%3Aafter%20%7Bbox-sizing%3A%20unset%7D%0A.ant-root%20%5Bclass%5E%3D%22ant-%22%5D%2C%20.ant-root%20%5Bclass*%3D%22ant-%22%5D%2C%20.ant-root%20%5Bclass%5E%3D%22ant-%22%5D%20*%2C%20.ant-root%20%5Bclass*%3D%22ant-%22%5D%20*%2C%20.ant-root%20%5Bclass%5E%3D%22ant-%22%5D%20%3A%3Abefore%2C%20.ant-root%20%5Bclass*%3D%22ant-%22%5D%20%3A%3Abefore%2C%20.ant-root%20%5Bclass%5E%3D%22ant-%22%5D%20%3A%3Aafter%2C%20.ant-root%20%5Bclass*%3D%22ant-%22%5D%20%3A%3Aafter%20%7Bbox-sizing%3A%20border-box%7D%0A.ant-root%2C%20.ant-root%20%7Bwidth%3A%20100%25%3B%20height%3A%20100%25%7D%0A.ant-root%20*%2C%20.ant-root%20%3A%3Abefore%2C%20.ant-root%20%3A%3Aafter%20%7Bbox-sizing%3A%20border-box%7D%0A.ant-root%20%7Btext-size-adjust%3A%20100%25%3B%20-webkit-tap-highlight-color%3A%20rgba(0%2C%200%2C%200%2C%200)%3B%20font-family%3A%20-apple-system%2C%20BlinkMacSystemFont%2C%20%22Segoe%20UI%22%2C%20Roboto%2C%20%22Helvetica%20Neue%22%2C%20Arial%2C%20%22Noto%20Sans%22%2C%20sans-serif%2C%20%22Apple%20Color%20Emoji%22%2C%20%22Segoe%20UI%20Emoji%22%2C%20%22Segoe%20UI%20Symbol%22%2C%20%22Noto%20Color%20Emoji%22%3B%20line-height%3A%201.66667%3B%20color%3A%20rgb(89%2C%2089%2C%2089)%3B%20font-variant-ligatures%3A%20normal%3B%20font-variant-numeric%3A%20tabular-nums%3B%20font-variant-east-asian%3A%20normal%3B%20font-variant-caps%3A%20normal%3B%20background-color%3A%20rgb(255%2C%20255%2C%20255)%3B%20margin-top%3A%200px%3B%20margin-right%3A%200px%3B%20margin-bottom%3A%200px%3B%20margin-left%3A%200px%3B%20font-size%3A%2012px%3B%20--antd-wave-shadow-color%3A%20%231890ff%3B%20--scroll-bar%3A%200%7D%0A.ant-root%20svg%3Anot(%3Aroot)%20%7Boverflow-x%3A%20hidden%3B%20overflow-y%3A%20hidden%7D%0A.ant-root%20.aui-invisible-scrollbars%20%7B%7D%0A.css-12ebr42-AWidget%20%7Bheight%3A%20100%25%7D%0A.css-2p9ued-WidgetLoadingOverlay%20%7Bheight%3A%20100%25%3B%20position%3A%20relative%7D%0A.css-1b1raxz-DefaultWidgetLoadingOverlay%20%7Bdisplay%3A%20flex%3B%20height%3A%20100%25%3B%20-webkit-box-pack%3A%20center%3B%20justify-content%3A%20center%3B%20position%3A%20absolute%3B%20width%3A%20100%25%3B%20-webkit-box-align%3A%20center%3B%20align-items%3A%20center%3B%20pointer-events%3A%20none%3B%20z-index%3A%202%7D%0A.css-34a2ml-DefaultWidgetLoadingOverlay%20%7Bbackground-image%3A%20initial%3B%20background-position-x%3A%20initial%3B%20background-position-y%3A%20initial%3B%20background-size%3A%20initial%3B%20background-repeat-x%3A%20initial%3B%20background-repeat-y%3A%20initial%3B%20background-attachment%3A%20initial%3B%20background-origin%3A%20initial%3B%20background-clip%3A%20initial%3B%20background-color%3A%20transparent%3B%20width%3A%20calc(100%25%20-%204px)%3B%20height%3A%20calc(100%25%20-%204px)%7D%0A.css-1hwl8p1-Table%20%7Bpadding-bottom%3A%202px%3B%20padding-right%3A%202px%3B%20height%3A%20100%25%7D%0A.css-14ejcn0-Table%20%7Bheight%3A%20calc(100%25%20-%2030px)%3B%20outline-color%3A%20initial%3B%20outline-style%3A%20none%3B%20outline-width%3A%20initial%3B%20position%3A%20relative%7D%0A.css-1rxpjm0-ColumnResizeHint%20%7Bdisplay%3A%20none%3B%20position%3A%20absolute%3B%20z-index%3A%201%7D%0A.css-walxhl-ColumnResizeHint%20%7Bheight%3A%2028px%3B%20background-color%3A%20rgb(24%2C%20144%2C%20255)%3B%20width%3A%205px%7D%0A.css-1uww2vi-Table%20%7Bheight%3A%2030px%3B%20text-align%3A%20right%3B%20padding-right%3A%2025px%7D%0A.css-cavlcc-ColumnResizeHint%20%7Bdisplay%3A%20none%3B%20float%3A%20right%3B%20height%3A%20292px%3B%20background-color%3A%20rgb(24%2C%20144%2C%20255)%3B%20opacity%3A%200.4%3B%20width%3A%202px%7D%0A.css-bi0kgd-Table%20%7Bdisplay%3A%20flex%3B%20height%3A%20320px%7D%0A.css-9wvnih-Table%20%7Bborder-collapse%3A%20collapse%3B%20height%3A%2028px%3B%20width%3A%20120px%7D%0A.css-gy6esx%20%7Bheight%3A%2028px%3B%20width%3A%20120px%7D%0A.css-n1rdc6%20%7Bcursor%3A%20cell%3B%20height%3A%2028px%3B%20overflow-x%3A%20hidden%3B%20overflow-y%3A%20hidden%3B%20position%3A%20relative%3B%20width%3A%20120px%3B%20border-right-width%3A%202px%3B%20border-right-style%3A%20solid%3B%20border-right-color%3A%20rgb(233%2C%20233%2C%20233)%7D%0A.css-1hol363-ResizableCell%20%7Bdisplay%3A%20flex%3B%20flex-direction%3A%20column%3B%20position%3A%20absolute%3B%20top%3A%200px%3B%20left%3A%200px%3B%20height%3A%2028px%3B%20width%3A%20120px%7D%0A.css-xxcrt1-ResizableCell%20%7Bbackground-image%3A%20initial%3B%20background-position-x%3A%20initial%3B%20background-position-y%3A%20initial%3B%20background-size%3A%20initial%3B%20background-repeat-x%3A%20initial%3B%20background-repeat-y%3A%20initial%3B%20background-attachment%3A%20initial%3B%20background-origin%3A%20initial%3B%20background-clip%3A%20initial%3B%20background-color%3A%20transparent%3B%20cursor%3A%20col-resize%3B%20height%3A%20100%25%3B%20position%3A%20absolute%3B%20right%3A%200px%3B%20width%3A%205px%3B%20z-index%3A%201%7D%0A.css-q1l26k%20%7Bheight%3A%20292px%3B%20width%3A%20120px%3B%20overflow-x%3A%20hidden%3B%20overflow-y%3A%20auto%7D%0A.css-1jidyej%20%7Bcursor%3A%20cell%3B%20height%3A%203920px%3B%20overflow-x%3A%20hidden%3B%20overflow-y%3A%20hidden%3B%20position%3A%20relative%3B%20width%3A%20120px%3B%20border-top-width%3A%202px%3B%20border-top-style%3A%20solid%3B%20border-top-color%3A%20rgb(233%2C%20233%2C%20233)%3B%20border-right-width%3A%202px%3B%20border-right-style%3A%20solid%3B%20border-right-color%3A%20rgb(233%2C%20233%2C%20233)%7D%0A.css-cbby7p-Table%20%7Bwidth%3A%201061px%3B%20border-collapse%3A%20collapse%7D%0A.css-1v9chc6%20%7Bheight%3A%2028px%3B%20width%3A%201043px%3B%20overflow-x%3A%20auto%3B%20overflow-y%3A%20hidden%7D%0A.css-1g2rciv%20%7Bcursor%3A%20cell%3B%20height%3A%2028px%3B%20overflow-x%3A%20hidden%3B%20overflow-y%3A%20hidden%3B%20position%3A%20relative%3B%20width%3A%20480px%7D%0A.css-fpuq48-ResizableCell%20%7Bdisplay%3A%20flex%3B%20flex-direction%3A%20column%3B%20position%3A%20absolute%3B%20top%3A%200px%3B%20left%3A%20120px%3B%20height%3A%2028px%3B%20width%3A%20120px%7D%0A.css-3geaec-ResizableCell%20%7Bdisplay%3A%20flex%3B%20flex-direction%3A%20column%3B%20position%3A%20absolute%3B%20top%3A%200px%3B%20left%3A%20240px%3B%20height%3A%2028px%3B%20width%3A%20120px%7D%0A.css-9kbkmr-ResizableCell%20%7Bdisplay%3A%20flex%3B%20flex-direction%3A%20column%3B%20position%3A%20absolute%3B%20top%3A%200px%3B%20left%3A%20360px%3B%20height%3A%2028px%3B%20width%3A%20120px%7D%0A.css-1cx3jl0%20%7Bheight%3A%20292px%3B%20width%3A%201061px%3B%20overflow-x%3A%20auto%3B%20overflow-y%3A%20auto%7D%0A.css-1uha94r%20%7Bcursor%3A%20cell%3B%20height%3A%203920px%3B%20overflow-x%3A%20hidden%3B%20overflow-y%3A%20hidden%3B%20position%3A%20relative%3B%20width%3A%20480px%3B%20border-top-width%3A%202px%3B%20border-top-style%3A%20solid%3B%20border-top-color%3A%20rgb(233%2C%20233%2C%20233)%7D%0A*%20%7B-ms-overflow-style%3A%20none%3B%20scrollbar-width%3A%20none%7D%0A*%3A%3A-webkit-scrollbar%20%7Bdisplay%3A%20none%7D%0A.atoti-hidden-in-snapshot%20%7Bdisplay%3A%20none%7D%3C%2Fstyle%3E%3Cdiv%20xmlns%3D%22http%3A%2F%2Fwww.w3.org%2F1999%2Fxhtml%22%20style%3D%22height%3A%20352px%3B%20width%3A%201183px%3B%22%3E%3Cdiv%20class%3D%22ant-root%20css-0%22%3E%3Cdiv%20class%3D%22ant-dropdown-trigger%20css-12ebr42-AWidget%22%3E%3Cdiv%20class%3D%22css-2p9ued-WidgetLoadingOverlay%22%3E%3Cdiv%20class%3D%22css-1b1raxz-DefaultWidgetLoadingOverlay%22%3E%3Cdiv%20class%3D%22css-34a2ml-DefaultWidgetLoadingOverlay%22%3E%3C%2Fdiv%3E%3C%2Fdiv%3E%3Cdiv%20class%3D%22css-1hwl8p1-Table%22%3E%3Cdiv%20tabindex%3D%220%22%20class%3D%22css-14ejcn0-Table%22%3E%3Cdiv%20class%3D%22css-1rxpjm0-ColumnResizeHint%22%3E%3Cdiv%20class%3D%22css-walxhl-ColumnResizeHint%22%3E%3C%2Fdiv%3E%3Cdiv%20class%3D%22css-cavlcc-ColumnResizeHint%22%3E%3C%2Fdiv%3E%3C%2Fdiv%3E%3Cdiv%20class%3D%22css-bi0kgd-Table%22%3E%3Cdiv%20class%3D%22css-9wvnih-Table%22%3E%3Cdiv%20class%3D%22%20css-gy6esx%22%3E%3Cdiv%20class%3D%22css-n1rdc6%22%3E%3Cdiv%20class%3D%22css-1hol363-ResizableCell%22%3E%3Cdiv%20class%3D%22aui-table-cell%22%20style%3D%22height%3A%2028px%3B%20left%3A%200px%3B%20top%3A%200px%3B%20width%3A%20115px%3B%20text-align%3A%20left%3B%20font-size%3A%2012px%3B%20padding%3A%204px%204px%203px%3B%20overflow%3A%20hidden%3B%20position%3A%20absolute%3B%20white-space%3A%20nowrap%3B%20text-overflow%3A%20ellipsis%3B%20font-weight%3A%20600%3B%20display%3A%20flex%3B%20align-items%3A%20center%3B%22%3E%3Cspan%3Ename%3C%2Fspan%3E%3C%2Fdiv%3E%3Cdiv%20class%3D%22css-xxcrt1-ResizableCell%22%3E%3C%2Fdiv%3E%3C%2Fdiv%3E%3C%2Fdiv%3E%3C%2Fdiv%3E%3Cdiv%20class%3D%22aui-invisible-scrollbars%20css-q1l26k%22%3E%3Cdiv%20class%3D%22css-1jidyej%22%3E%3Cdiv%20style%3D%22display%3A%20flex%3B%20align-items%3A%20center%3B%20height%3A%2028px%3B%20left%3A%200px%3B%20top%3A%200px%3B%20width%3A%20120px%3B%20text-align%3A%20left%3B%20font-size%3A%2012px%3B%20padding%3A%204px%204px%203px%3B%20overflow%3A%20hidden%3B%20position%3A%20absolute%3B%20white-space%3A%20nowrap%3B%20text-overflow%3A%20ellipsis%3B%20border-right%3A%202px%20solid%20rgb(233%2C%20233%2C%20233)%3B%20background-color%3A%20transparent%3B%22%3E%3Cspan%20style%3D%22text-overflow%3A%20ellipsis%3B%20overflow%3A%20hidden%3B%20white-space%3A%20nowrap%3B%20max-width%3A%20calc((100%25%20-%200px)%20-%200px)%3B%22%3ETotal%3C%2Fspan%3E%3C%2Fdiv%3E%3Cdiv%20style%3D%22display%3A%20flex%3B%20align-items%3A%20center%3B%20height%3A%2028px%3B%20left%3A%200px%3B%20top%3A%2028px%3B%20width%3A%20120px%3B%20text-align%3A%20left%3B%20font-size%3A%2012px%3B%20padding%3A%204px%204px%203px%3B%20overflow%3A%20hidden%3B%20position%3A%20absolute%3B%20white-space%3A%20nowrap%3B%20text-overflow%3A%20ellipsis%3B%20border-right%3A%202px%20solid%20rgb(233%2C%20233%2C%20233)%3B%20background-color%3A%20rgb(250%2C%20250%2C%20250)%3B%22%3E%3Cspan%20style%3D%22text-overflow%3A%20ellipsis%3B%20overflow%3A%20hidden%3B%20white-space%3A%20nowrap%3B%20max-width%3A%20calc((100%25%20-%200px)%20-%200px)%3B%22%3E%F0%9F%94%B9Dr.%20Robin%20Kiera%F0%9F%94%B9%3C%2Fspan%3E%3C%2Fdiv%3E%3Cdiv%20style%3D%22display%3A%20flex%3B%20align-items%3A%20center%3B%20height%3A%2028px%3B%20left%3A%200px%3B%20top%3A%2056px%3B%20width%3A%20120px%3B%20text-align%3A%20left%3B%20font-size%3A%2012px%3B%20padding%3A%204px%204px%203px%3B%20overflow%3A%20hidden%3B%20position%3A%20absolute%3B%20white-space%3A%20nowrap%3B%20text-overflow%3A%20ellipsis%3B%20border-right%3A%202px%20solid%20rgb(233%2C%20233%2C%20233)%3B%20background-color%3A%20transparent%3B%22%3E%3Cspan%20style%3D%22text-overflow%3A%20ellipsis%3B%20overflow%3A%20hidden%3B%20white-space%3A%20nowrap%3B%20max-width%3A%20calc((100%25%20-%200px)%20-%200px)%3B%22%3EKDnuggets%3C%2Fspan%3E%3C%2Fdiv%3E%3Cdiv%20style%3D%22display%3A%20flex%3B%20align-items%3A%20center%3B%20height%3A%2028px%3B%20left%3A%200px%3B%20top%3A%2084px%3B%20width%3A%20120px%3B%20text-align%3A%20left%3B%20font-size%3A%2012px%3B%20padding%3A%204px%204px%203px%3B%20overflow%3A%20hidden%3B%20position%3A%20absolute%3B%20white-space%3A%20nowrap%3B%20text-overflow%3A%20ellipsis%3B%20border-right%3A%202px%20solid%20rgb(233%2C%20233%2C%20233)%3B%20background-color%3A%20rgb(250%2C%20250%2C%20250)%3B%22%3E%3Cspan%20style%3D%22text-overflow%3A%20ellipsis%3B%20overflow%3A%20hidden%3B%20white-space%3A%20nowrap%3B%20max-width%3A%20calc((100%25%20-%200px)%20-%200px)%3B%22%3ETamara%20McCleary%3C%2Fspan%3E%3C%2Fdiv%3E%3Cdiv%20style%3D%22display%3A%20flex%3B%20align-items%3A%20center%3B%20height%3A%2028px%3B%20left%3A%200px%3B%20top%3A%20112px%3B%20width%3A%20120px%3B%20text-align%3A%20left%3B%20font-size%3A%2012px%3B%20padding%3A%204px%204px%203px%3B%20overflow%3A%20hidden%3B%20position%3A%20absolute%3B%20white-space%3A%20nowrap%3B%20text-overflow%3A%20ellipsis%3B%20border-right%3A%202px%20solid%20rgb(233%2C%20233%2C%20233)%3B%20background-color%3A%20transparent%3B%22%3E%3Cspan%20style%3D%22text-overflow%3A%20ellipsis%3B%20overflow%3A%20hidden%3B%20white-space%3A%20nowrap%3B%20max-width%3A%20calc((100%25%20-%200px)%20-%200px)%3B%22%3ECarla%20Gentry%3C%2Fspan%3E%3C%2Fdiv%3E%3Cdiv%20style%3D%22display%3A%20flex%3B%20align-items%3A%20center%3B%20height%3A%2028px%3B%20left%3A%200px%3B%20top%3A%20140px%3B%20width%3A%20120px%3B%20text-align%3A%20left%3B%20font-size%3A%2012px%3B%20padding%3A%204px%204px%203px%3B%20overflow%3A%20hidden%3B%20position%3A%20absolute%3B%20white-space%3A%20nowrap%3B%20text-overflow%3A%20ellipsis%3B%20border-right%3A%202px%20solid%20rgb(233%2C%20233%2C%20233)%3B%20background-color%3A%20rgb(250%2C%20250%2C%20250)%3B%22%3E%3Cspan%20style%3D%22text-overflow%3A%20ellipsis%3B%20overflow%3A%20hidden%3B%20white-space%3A%20nowrap%3B%20max-width%3A%20calc((100%25%20-%200px)%20-%200px)%3B%22%3EKirk%20Borne%3C%2Fspan%3E%3C%2Fdiv%3E%3Cdiv%20style%3D%22display%3A%20flex%3B%20align-items%3A%20center%3B%20height%3A%2028px%3B%20left%3A%200px%3B%20top%3A%20168px%3B%20width%3A%20120px%3B%20text-align%3A%20left%3B%20font-size%3A%2012px%3B%20padding%3A%204px%204px%203px%3B%20overflow%3A%20hidden%3B%20position%3A%20absolute%3B%20white-space%3A%20nowrap%3B%20text-overflow%3A%20ellipsis%3B%20border-right%3A%202px%20solid%20rgb(233%2C%20233%2C%20233)%3B%20background-color%3A%20transparent%3B%22%3E%3Cspan%20style%3D%22text-overflow%3A%20ellipsis%3B%20overflow%3A%20hidden%3B%20white-space%3A%20nowrap%3B%20max-width%3A%20calc((100%25%20-%200px)%20-%200px)%3B%22%3EYves%20Mulkers%3C%2Fspan%3E%3C%2Fdiv%3E%3Cdiv%20style%3D%22display%3A%20flex%3B%20align-items%3A%20center%3B%20height%3A%2028px%3B%20left%3A%200px%3B%20top%3A%20196px%3B%20width%3A%20120px%3B%20text-align%3A%20left%3B%20font-size%3A%2012px%3B%20padding%3A%204px%204px%203px%3B%20overflow%3A%20hidden%3B%20position%3A%20absolute%3B%20white-space%3A%20nowrap%3B%20text-overflow%3A%20ellipsis%3B%20border-right%3A%202px%20solid%20rgb(233%2C%20233%2C%20233)%3B%20background-color%3A%20rgb(250%2C%20250%2C%20250)%3B%22%3E%3Cspan%20style%3D%22text-overflow%3A%20ellipsis%3B%20overflow%3A%20hidden%3B%20white-space%3A%20nowrap%3B%20max-width%3A%20calc((100%25%20-%200px)%20-%200px)%3B%22%3EDr.%20Ganapathi%20Pulipaka%20%F0%9F%87%BA%F0%9F%87%B8%3C%2Fspan%3E%3C%2Fdiv%3E%3Cdiv%20style%3D%22display%3A%20flex%3B%20align-items%3A%20center%3B%20height%3A%2028px%3B%20left%3A%200px%3B%20top%3A%20224px%3B%20width%3A%20120px%3B%20text-align%3A%20left%3B%20font-size%3A%2012px%3B%20padding%3A%204px%204px%203px%3B%20overflow%3A%20hidden%3B%20position%3A%20absolute%3B%20white-space%3A%20nowrap%3B%20text-overflow%3A%20ellipsis%3B%20border-right%3A%202px%20solid%20rgb(233%2C%20233%2C%20233)%3B%20background-color%3A%20transparent%3B%22%3E%3Cspan%20style%3D%22text-overflow%3A%20ellipsis%3B%20overflow%3A%20hidden%3B%20white-space%3A%20nowrap%3B%20max-width%3A%20calc((100%25%20-%200px)%20-%200px)%3B%22%3EAndreas%20Staub%3C%2Fspan%3E%3C%2Fdiv%3E%3Cdiv%20style%3D%22display%3A%20flex%3B%20align-items%3A%20center%3B%20height%3A%2028px%3B%20left%3A%200px%3B%20top%3A%20252px%3B%20width%3A%20120px%3B%20text-align%3A%20left%3B%20font-size%3A%2012px%3B%20padding%3A%204px%204px%203px%3B%20overflow%3A%20hidden%3B%20position%3A%20absolute%3B%20white-space%3A%20nowrap%3B%20text-overflow%3A%20ellipsis%3B%20border-right%3A%202px%20solid%20rgb(233%2C%20233%2C%20233)%3B%20background-color%3A%20rgb(250%2C%20250%2C%20250)%3B%22%3E%3Cspan%20style%3D%22text-overflow%3A%20ellipsis%3B%20overflow%3A%20hidden%3B%20white-space%3A%20nowrap%3B%20max-width%3A%20calc((100%25%20-%200px)%20-%200px)%3B%22%3EBob%20E.%20Hayes%3C%2Fspan%3E%3C%2Fdiv%3E%3Cdiv%20style%3D%22display%3A%20flex%3B%20align-items%3A%20center%3B%20height%3A%2028px%3B%20left%3A%200px%3B%20top%3A%20280px%3B%20width%3A%20120px%3B%20text-align%3A%20left%3B%20font-size%3A%2012px%3B%20padding%3A%204px%204px%203px%3B%20overflow%3A%20hidden%3B%20position%3A%20absolute%3B%20white-space%3A%20nowrap%3B%20text-overflow%3A%20ellipsis%3B%20border-right%3A%202px%20solid%20rgb(233%2C%20233%2C%20233)%3B%20background-color%3A%20transparent%3B%22%3E%3Cspan%20style%3D%22text-overflow%3A%20ellipsis%3B%20overflow%3A%20hidden%3B%20white-space%3A%20nowrap%3B%20max-width%3A%20calc((100%25%20-%200px)%20-%200px)%3B%22%3EAlvin%20Foo%3C%2Fspan%3E%3C%2Fdiv%3E%3Cdiv%20style%3D%22display%3A%20flex%3B%20align-items%3A%20center%3B%20height%3A%2028px%3B%20left%3A%200px%3B%20top%3A%20308px%3B%20width%3A%20120px%3B%20text-align%3A%20left%3B%20font-size%3A%2012px%3B%20padding%3A%204px%204px%203px%3B%20overflow%3A%20hidden%3B%20position%3A%20absolute%3B%20white-space%3A%20nowrap%3B%20text-overflow%3A%20ellipsis%3B%20border-right%3A%202px%20solid%20rgb(233%2C%20233%2C%20233)%3B%20background-color%3A%20rgb(250%2C%20250%2C%20250)%3B%22%3E%3Cspan%20style%3D%22text-overflow%3A%20ellipsis%3B%20overflow%3A%20hidden%3B%20white-space%3A%20nowrap%3B%20max-width%3A%20calc((100%25%20-%200px)%20-%200px)%3B%22%3ENige%20Willson%3C%2Fspan%3E%3C%2Fdiv%3E%3C%2Fdiv%3E%3C%2Fdiv%3E%3C%2Fdiv%3E%3Cdiv%20class%3D%22css-cbby7p-Table%22%3E%3Cdiv%20class%3D%22aui-invisible-scrollbars%20css-1v9chc6%22%3E%3Cdiv%20class%3D%22css-1g2rciv%22%3E%3Cdiv%20class%3D%22css-1hol363-ResizableCell%22%3E%3Cdiv%20style%3D%22display%3A%20flex%3B%20align-items%3A%20center%3B%20height%3A%2028px%3B%20left%3A%200px%3B%20top%3A%200px%3B%20width%3A%20115px%3B%20text-align%3A%20left%3B%20font-size%3A%2012px%3B%20padding%3A%204px%204px%203px%3B%20overflow%3A%20hidden%3B%20position%3A%20absolute%3B%20white-space%3A%20nowrap%3B%20text-overflow%3A%20ellipsis%3B%20font-weight%3A%20600%3B%22%3E%3Cspan%20style%3D%22text-overflow%3A%20ellipsis%3B%20overflow%3A%20hidden%3B%20white-space%3A%20nowrap%3B%20max-width%3A%20calc((100%25%20-%200px)%20-%200px)%3B%22%3Ereplies%3C%2Fspan%3E%3C%2Fdiv%3E%3Cdiv%20class%3D%22css-xxcrt1-ResizableCell%22%3E%3C%2Fdiv%3E%3C%2Fdiv%3E%3Cdiv%20class%3D%22css-fpuq48-ResizableCell%22%3E%3Cdiv%20style%3D%22display%3A%20flex%3B%20align-items%3A%20center%3B%20height%3A%2028px%3B%20left%3A%200px%3B%20top%3A%200px%3B%20width%3A%20115px%3B%20text-align%3A%20left%3B%20font-size%3A%2012px%3B%20padding%3A%204px%204px%203px%3B%20overflow%3A%20hidden%3B%20position%3A%20absolute%3B%20white-space%3A%20nowrap%3B%20text-overflow%3A%20ellipsis%3B%20font-weight%3A%20600%3B%22%3E%3Cspan%20style%3D%22text-overflow%3A%20ellipsis%3B%20overflow%3A%20hidden%3B%20white-space%3A%20nowrap%3B%20max-width%3A%20calc((100%25%20-%200px)%20-%200px)%3B%22%3Eretweets_quotes%3C%2Fspan%3E%3C%2Fdiv%3E%3Cdiv%20class%3D%22css-xxcrt1-ResizableCell%22%3E%3C%2Fdiv%3E%3C%2Fdiv%3E%3Cdiv%20class%3D%22css-3geaec-ResizableCell%22%3E%3Cdiv%20style%3D%22display%3A%20flex%3B%20align-items%3A%20center%3B%20height%3A%2028px%3B%20left%3A%200px%3B%20top%3A%200px%3B%20width%3A%20115px%3B%20text-align%3A%20left%3B%20font-size%3A%2012px%3B%20padding%3A%204px%204px%203px%3B%20overflow%3A%20hidden%3B%20position%3A%20absolute%3B%20white-space%3A%20nowrap%3B%20text-overflow%3A%20ellipsis%3B%20font-weight%3A%20600%3B%22%3E%3Cspan%20style%3D%22text-overflow%3A%20ellipsis%3B%20overflow%3A%20hidden%3B%20white-space%3A%20nowrap%3B%20max-width%3A%20calc((100%25%20-%200px)%20-%200px)%3B%22%3Elikes%3C%2Fspan%3E%3C%2Fdiv%3E%3Cdiv%20class%3D%22css-xxcrt1-ResizableCell%22%3E%3C%2Fdiv%3E%3C%2Fdiv%3E%3Cdiv%20class%3D%22css-9kbkmr-ResizableCell%22%3E%3Cdiv%20style%3D%22display%3A%20flex%3B%20align-items%3A%20center%3B%20height%3A%2028px%3B%20left%3A%200px%3B%20top%3A%200px%3B%20width%3A%20115px%3B%20text-align%3A%20left%3B%20font-size%3A%2012px%3B%20padding%3A%204px%204px%203px%3B%20overflow%3A%20hidden%3B%20position%3A%20absolute%3B%20white-space%3A%20nowrap%3B%20text-overflow%3A%20ellipsis%3B%20font-weight%3A%20600%3B%22%3E%3Cspan%20style%3D%22text-overflow%3A%20ellipsis%3B%20overflow%3A%20hidden%3B%20white-space%3A%20nowrap%3B%20max-width%3A%20calc((100%25%20-%200px)%20-%2018px)%3B%22%3Econtributors.COUNT%3C%2Fspan%3E%3Csvg%20xmlns%3D%22http%3A%2F%2Fwww.w3.org%2F2000%2Fsvg%22%20viewBox%3D%2264%2064%20896%20896%22%20width%3D%221em%22%20height%3D%221em%22%20fill%3D%22currentColor%22%20style%3D%22cursor%3A%20pointer%3B%20height%3A%20100%25%3B%20margin-left%3A%20auto%3B%22%3E%3Cpath%20d%3D%22M180%20325h76v530a8%208%200%20008%208h56a8%208%200%20008-8V325h76a8%208%200%20006.3-13l-112-141.9a8%208%200%2000-11.2-1.4l-1.4%201.4-112%20141.9a8.1%208.1%200%20006.3%2013zm461.6-109.2v232.3h61.9V127.6h-51.6l-89.7%2091.5%2038.4%2039.6%2041-42.9zm2.4%20615.8c29.6-23.4%2060.2-49.5%2082.5-75.5%2027-31.5%2040.2-61%2040.2-90.2s-12.1-55.8-35.1-73.7c-20.2-15.7-47.6-24.4-77.2-24.4-45.8%200-88.1%2018.9-113.3%2050.5l-4.2%205.3%2037.2%2041%205.9-7c12.9-15.5%2036.4-33.9%2074.9-33.9%2023.2%200%2050.2%2011%2050.2%2042.1%200%2043.5-51.3%2087.7-160.3%20171.5l-3.1%202.4V887H768v-55.4z%22%2F%3E%3C%2Fsvg%3E%3C%2Fdiv%3E%3Cdiv%20class%3D%22css-xxcrt1-ResizableCell%22%3E%3C%2Fdiv%3E%3C%2Fdiv%3E%3C%2Fdiv%3E%3C%2Fdiv%3E%3Cdiv%20class%3D%22%20css-1cx3jl0%22%3E%3Cdiv%20class%3D%22css-1uha94r%22%3E%3Cdiv%20class%3D%22aui-table-cell%22%20style%3D%22height%3A%2028px%3B%20left%3A%200px%3B%20top%3A%200px%3B%20width%3A%20120px%3B%20text-align%3A%20right%3B%20font-size%3A%2012px%3B%20padding%3A%204px%204px%203px%3B%20overflow%3A%20hidden%3B%20position%3A%20absolute%3B%20white-space%3A%20nowrap%3B%20text-overflow%3A%20ellipsis%3B%20border-right%3A%201px%20solid%20rgb(233%2C%20233%2C%20233)%3B%20background-color%3A%20transparent%3B%22%3E.51%3C%2Fdiv%3E%3Cdiv%20class%3D%22aui-table-cell%22%20style%3D%22height%3A%2028px%3B%20left%3A%20120px%3B%20top%3A%200px%3B%20width%3A%20120px%3B%20text-align%3A%20right%3B%20font-size%3A%2012px%3B%20padding%3A%204px%204px%203px%3B%20overflow%3A%20hidden%3B%20position%3A%20absolute%3B%20white-space%3A%20nowrap%3B%20text-overflow%3A%20ellipsis%3B%20border-right%3A%201px%20solid%20rgb(233%2C%20233%2C%20233)%3B%20background-color%3A%20transparent%3B%22%3E201.00%3C%2Fdiv%3E%3Cdiv%20class%3D%22aui-table-cell%22%20style%3D%22height%3A%2028px%3B%20left%3A%20240px%3B%20top%3A%200px%3B%20width%3A%20120px%3B%20text-align%3A%20right%3B%20font-size%3A%2012px%3B%20padding%3A%204px%204px%203px%3B%20overflow%3A%20hidden%3B%20position%3A%20absolute%3B%20white-space%3A%20nowrap%3B%20text-overflow%3A%20ellipsis%3B%20border-right%3A%201px%20solid%20rgb(233%2C%20233%2C%20233)%3B%20background-color%3A%20transparent%3B%22%3E16.42%3C%2Fdiv%3E%3Cdiv%20class%3D%22aui-table-cell%22%20style%3D%22height%3A%2028px%3B%20left%3A%20360px%3B%20top%3A%200px%3B%20width%3A%20120px%3B%20text-align%3A%20right%3B%20font-size%3A%2012px%3B%20padding%3A%204px%204px%203px%3B%20overflow%3A%20hidden%3B%20position%3A%20absolute%3B%20white-space%3A%20nowrap%3B%20text-overflow%3A%20ellipsis%3B%20border-right%3A%201px%20solid%20rgb(233%2C%20233%2C%20233)%3B%20background-color%3A%20transparent%3B%22%3E8%2C079%3C%2Fdiv%3E%3Cdiv%20class%3D%22aui-table-cell%22%20style%3D%22height%3A%2028px%3B%20left%3A%200px%3B%20top%3A%2028px%3B%20width%3A%20120px%3B%20text-align%3A%20right%3B%20font-size%3A%2012px%3B%20padding%3A%204px%204px%203px%3B%20overflow%3A%20hidden%3B%20position%3A%20absolute%3B%20white-space%3A%20nowrap%3B%20text-overflow%3A%20ellipsis%3B%20border-right%3A%201px%20solid%20rgb(233%2C%20233%2C%20233)%3B%20background-color%3A%20rgb(250%2C%20250%2C%20250)%3B%22%3E.12%3C%2Fdiv%3E%3Cdiv%20class%3D%22aui-table-cell%22%20style%3D%22height%3A%2028px%3B%20left%3A%20120px%3B%20top%3A%2028px%3B%20width%3A%20120px%3B%20text-align%3A%20right%3B%20font-size%3A%2012px%3B%20padding%3A%204px%204px%203px%3B%20overflow%3A%20hidden%3B%20position%3A%20absolute%3B%20white-space%3A%20nowrap%3B%20text-overflow%3A%20ellipsis%3B%20border-right%3A%201px%20solid%20rgb(233%2C%20233%2C%20233)%3B%20background-color%3A%20rgb(250%2C%20250%2C%20250)%3B%22%3E4.00%3C%2Fdiv%3E%3Cdiv%20class%3D%22aui-table-cell%22%20style%3D%22height%3A%2028px%3B%20left%3A%20240px%3B%20top%3A%2028px%3B%20width%3A%20120px%3B%20text-align%3A%20right%3B%20font-size%3A%2012px%3B%20padding%3A%204px%204px%203px%3B%20overflow%3A%20hidden%3B%20position%3A%20absolute%3B%20white-space%3A%20nowrap%3B%20text-overflow%3A%20ellipsis%3B%20border-right%3A%201px%20solid%20rgb(233%2C%20233%2C%20233)%3B%20background-color%3A%20rgb(250%2C%20250%2C%20250)%3B%22%3E4.26%3C%2Fdiv%3E%3Cdiv%20class%3D%22aui-table-cell%22%20style%3D%22height%3A%2028px%3B%20left%3A%20360px%3B%20top%3A%2028px%3B%20width%3A%20120px%3B%20text-align%3A%20right%3B%20font-size%3A%2012px%3B%20padding%3A%204px%204px%203px%3B%20overflow%3A%20hidden%3B%20position%3A%20absolute%3B%20white-space%3A%20nowrap%3B%20text-overflow%3A%20ellipsis%3B%20border-right%3A%201px%20solid%20rgb(233%2C%20233%2C%20233)%3B%20background-color%3A%20rgb(250%2C%20250%2C%20250)%3B%22%3E346%3C%2Fdiv%3E%3Cdiv%20class%3D%22aui-table-cell%22%20style%3D%22height%3A%2028px%3B%20left%3A%200px%3B%20top%3A%2056px%3B%20width%3A%20120px%3B%20text-align%3A%20right%3B%20font-size%3A%2012px%3B%20padding%3A%204px%204px%203px%3B%20overflow%3A%20hidden%3B%20position%3A%20absolute%3B%20white-space%3A%20nowrap%3B%20text-overflow%3A%20ellipsis%3B%20border-right%3A%201px%20solid%20rgb(233%2C%20233%2C%20233)%3B%20background-color%3A%20transparent%3B%22%3E.12%3C%2Fdiv%3E%3Cdiv%20class%3D%22aui-table-cell%22%20style%3D%22height%3A%2028px%3B%20left%3A%20120px%3B%20top%3A%2056px%3B%20width%3A%20120px%3B%20text-align%3A%20right%3B%20font-size%3A%2012px%3B%20padding%3A%204px%204px%203px%3B%20overflow%3A%20hidden%3B%20position%3A%20absolute%3B%20white-space%3A%20nowrap%3B%20text-overflow%3A%20ellipsis%3B%20border-right%3A%201px%20solid%20rgb(233%2C%20233%2C%20233)%3B%20background-color%3A%20transparent%3B%22%3E7.00%3C%2Fdiv%3E%3Cdiv%20class%3D%22aui-table-cell%22%20style%3D%22height%3A%2028px%3B%20left%3A%20240px%3B%20top%3A%2056px%3B%20width%3A%20120px%3B%20text-align%3A%20right%3B%20font-size%3A%2012px%3B%20padding%3A%204px%204px%203px%3B%20overflow%3A%20hidden%3B%20position%3A%20absolute%3B%20white-space%3A%20nowrap%3B%20text-overflow%3A%20ellipsis%3B%20border-right%3A%201px%20solid%20rgb(233%2C%20233%2C%20233)%3B%20background-color%3A%20transparent%3B%22%3E25.07%3C%2Fdiv%3E%3Cdiv%20class%3D%22aui-table-cell%22%20style%3D%22height%3A%2028px%3B%20left%3A%20360px%3B%20top%3A%2056px%3B%20width%3A%20120px%3B%20text-align%3A%20right%3B%20font-size%3A%2012px%3B%20padding%3A%204px%204px%203px%3B%20overflow%3A%20hidden%3B%20position%3A%20absolute%3B%20white-space%3A%20nowrap%3B%20text-overflow%3A%20ellipsis%3B%20border-right%3A%201px%20solid%20rgb(233%2C%20233%2C%20233)%3B%20background-color%3A%20transparent%3B%22%3E305%3C%2Fdiv%3E%3Cdiv%20class%3D%22aui-table-cell%22%20style%3D%22height%3A%2028px%3B%20left%3A%200px%3B%20top%3A%2084px%3B%20width%3A%20120px%3B%20text-align%3A%20right%3B%20font-size%3A%2012px%3B%20padding%3A%204px%204px%203px%3B%20overflow%3A%20hidden%3B%20position%3A%20absolute%3B%20white-space%3A%20nowrap%3B%20text-overflow%3A%20ellipsis%3B%20border-right%3A%201px%20solid%20rgb(233%2C%20233%2C%20233)%3B%20background-color%3A%20rgb(250%2C%20250%2C%20250)%3B%22%3E.20%3C%2Fdiv%3E%3Cdiv%20class%3D%22aui-table-cell%22%20style%3D%22height%3A%2028px%3B%20left%3A%20120px%3B%20top%3A%2084px%3B%20width%3A%20120px%3B%20text-align%3A%20right%3B%20font-size%3A%2012px%3B%20padding%3A%204px%204px%203px%3B%20overflow%3A%20hidden%3B%20position%3A%20absolute%3B%20white-space%3A%20nowrap%3B%20text-overflow%3A%20ellipsis%3B%20border-right%3A%201px%20solid%20rgb(233%2C%20233%2C%20233)%3B%20background-color%3A%20rgb(250%2C%20250%2C%20250)%3B%22%3E8.00%3C%2Fdiv%3E%3Cdiv%20class%3D%22aui-table-cell%22%20style%3D%22height%3A%2028px%3B%20left%3A%20240px%3B%20top%3A%2084px%3B%20width%3A%20120px%3B%20text-align%3A%20right%3B%20font-size%3A%2012px%3B%20padding%3A%204px%204px%203px%3B%20overflow%3A%20hidden%3B%20position%3A%20absolute%3B%20white-space%3A%20nowrap%3B%20text-overflow%3A%20ellipsis%3B%20border-right%3A%201px%20solid%20rgb(233%2C%20233%2C%20233)%3B%20background-color%3A%20rgb(250%2C%20250%2C%20250)%3B%22%3E11.53%3C%2Fdiv%3E%3Cdiv%20class%3D%22aui-table-cell%22%20style%3D%22height%3A%2028px%3B%20left%3A%20360px%3B%20top%3A%2084px%3B%20width%3A%20120px%3B%20text-align%3A%20right%3B%20font-size%3A%2012px%3B%20padding%3A%204px%204px%203px%3B%20overflow%3A%20hidden%3B%20position%3A%20absolute%3B%20white-space%3A%20nowrap%3B%20text-overflow%3A%20ellipsis%3B%20border-right%3A%201px%20solid%20rgb(233%2C%20233%2C%20233)%3B%20background-color%3A%20rgb(250%2C%20250%2C%20250)%3B%22%3E287%3C%2Fdiv%3E%3Cdiv%20class%3D%22aui-table-cell%22%20style%3D%22height%3A%2028px%3B%20left%3A%200px%3B%20top%3A%20112px%3B%20width%3A%20120px%3B%20text-align%3A%20right%3B%20font-size%3A%2012px%3B%20padding%3A%204px%204px%203px%3B%20overflow%3A%20hidden%3B%20position%3A%20absolute%3B%20white-space%3A%20nowrap%3B%20text-overflow%3A%20ellipsis%3B%20border-right%3A%201px%20solid%20rgb(233%2C%20233%2C%20233)%3B%20background-color%3A%20transparent%3B%22%3E.06%3C%2Fdiv%3E%3Cdiv%20class%3D%22aui-table-cell%22%20style%3D%22height%3A%2028px%3B%20left%3A%20120px%3B%20top%3A%20112px%3B%20width%3A%20120px%3B%20text-align%3A%20right%3B%20font-size%3A%2012px%3B%20padding%3A%204px%204px%203px%3B%20overflow%3A%20hidden%3B%20position%3A%20absolute%3B%20white-space%3A%20nowrap%3B%20text-overflow%3A%20ellipsis%3B%20border-right%3A%201px%20solid%20rgb(233%2C%20233%2C%20233)%3B%20background-color%3A%20transparent%3B%22%3E35.00%3C%2Fdiv%3E%3Cdiv%20class%3D%22aui-table-cell%22%20style%3D%22height%3A%2028px%3B%20left%3A%20240px%3B%20top%3A%20112px%3B%20width%3A%20120px%3B%20text-align%3A%20right%3B%20font-size%3A%2012px%3B%20padding%3A%204px%204px%203px%3B%20overflow%3A%20hidden%3B%20position%3A%20absolute%3B%20white-space%3A%20nowrap%3B%20text-overflow%3A%20ellipsis%3B%20border-right%3A%201px%20solid%20rgb(233%2C%20233%2C%20233)%3B%20background-color%3A%20transparent%3B%22%3E1.09%3C%2Fdiv%3E%3Cdiv%20class%3D%22aui-table-cell%22%20style%3D%22height%3A%2028px%3B%20left%3A%20360px%3B%20top%3A%20112px%3B%20width%3A%20120px%3B%20text-align%3A%20right%3B%20font-size%3A%2012px%3B%20padding%3A%204px%204px%203px%3B%20overflow%3A%20hidden%3B%20position%3A%20absolute%3B%20white-space%3A%20nowrap%3B%20text-overflow%3A%20ellipsis%3B%20border-right%3A%201px%20solid%20rgb(233%2C%20233%2C%20233)%3B%20background-color%3A%20transparent%3B%22%3E285%3C%2Fdiv%3E%3Cdiv%20class%3D%22aui-table-cell%22%20style%3D%22height%3A%2028px%3B%20left%3A%200px%3B%20top%3A%20140px%3B%20width%3A%20120px%3B%20text-align%3A%20right%3B%20font-size%3A%2012px%3B%20padding%3A%204px%204px%203px%3B%20overflow%3A%20hidden%3B%20position%3A%20absolute%3B%20white-space%3A%20nowrap%3B%20text-overflow%3A%20ellipsis%3B%20border-right%3A%201px%20solid%20rgb(233%2C%20233%2C%20233)%3B%20background-color%3A%20rgb(250%2C%20250%2C%20250)%3B%22%3E.06%3C%2Fdiv%3E%3Cdiv%20class%3D%22aui-table-cell%22%20style%3D%22height%3A%2028px%3B%20left%3A%20120px%3B%20top%3A%20140px%3B%20width%3A%20120px%3B%20text-align%3A%20right%3B%20font-size%3A%2012px%3B%20padding%3A%204px%204px%203px%3B%20overflow%3A%20hidden%3B%20position%3A%20absolute%3B%20white-space%3A%20nowrap%3B%20text-overflow%3A%20ellipsis%3B%20border-right%3A%201px%20solid%20rgb(233%2C%20233%2C%20233)%3B%20background-color%3A%20rgb(250%2C%20250%2C%20250)%3B%22%3E9.00%3C%2Fdiv%3E%3Cdiv%20class%3D%22aui-table-cell%22%20style%3D%22height%3A%2028px%3B%20left%3A%20240px%3B%20top%3A%20140px%3B%20width%3A%20120px%3B%20text-align%3A%20right%3B%20font-size%3A%2012px%3B%20padding%3A%204px%204px%203px%3B%20overflow%3A%20hidden%3B%20position%3A%20absolute%3B%20white-space%3A%20nowrap%3B%20text-overflow%3A%20ellipsis%3B%20border-right%3A%201px%20solid%20rgb(233%2C%20233%2C%20233)%3B%20background-color%3A%20rgb(250%2C%20250%2C%20250)%3B%22%3E10.75%3C%2Fdiv%3E%3Cdiv%20class%3D%22aui-table-cell%22%20style%3D%22height%3A%2028px%3B%20left%3A%20360px%3B%20top%3A%20140px%3B%20width%3A%20120px%3B%20text-align%3A%20right%3B%20font-size%3A%2012px%3B%20padding%3A%204px%204px%203px%3B%20overflow%3A%20hidden%3B%20position%3A%20absolute%3B%20white-space%3A%20nowrap%3B%20text-overflow%3A%20ellipsis%3B%20border-right%3A%201px%20solid%20rgb(233%2C%20233%2C%20233)%3B%20background-color%3A%20rgb(250%2C%20250%2C%20250)%3B%22%3E279%3C%2Fdiv%3E%3Cdiv%20class%3D%22aui-table-cell%22%20style%3D%22height%3A%2028px%3B%20left%3A%200px%3B%20top%3A%20168px%3B%20width%3A%20120px%3B%20text-align%3A%20right%3B%20font-size%3A%2012px%3B%20padding%3A%204px%204px%203px%3B%20overflow%3A%20hidden%3B%20position%3A%20absolute%3B%20white-space%3A%20nowrap%3B%20text-overflow%3A%20ellipsis%3B%20border-right%3A%201px%20solid%20rgb(233%2C%20233%2C%20233)%3B%20background-color%3A%20transparent%3B%22%3E.00%3C%2Fdiv%3E%3Cdiv%20class%3D%22aui-table-cell%22%20style%3D%22height%3A%2028px%3B%20left%3A%20120px%3B%20top%3A%20168px%3B%20width%3A%20120px%3B%20text-align%3A%20right%3B%20font-size%3A%2012px%3B%20padding%3A%204px%204px%203px%3B%20overflow%3A%20hidden%3B%20position%3A%20absolute%3B%20white-space%3A%20nowrap%3B%20text-overflow%3A%20ellipsis%3B%20border-right%3A%201px%20solid%20rgb(233%2C%20233%2C%20233)%3B%20background-color%3A%20transparent%3B%22%3E259.00%3C%2Fdiv%3E%3Cdiv%20class%3D%22aui-table-cell%22%20style%3D%22height%3A%2028px%3B%20left%3A%20240px%3B%20top%3A%20168px%3B%20width%3A%20120px%3B%20text-align%3A%20right%3B%20font-size%3A%2012px%3B%20padding%3A%204px%204px%203px%3B%20overflow%3A%20hidden%3B%20position%3A%20absolute%3B%20white-space%3A%20nowrap%3B%20text-overflow%3A%20ellipsis%3B%20border-right%3A%201px%20solid%20rgb(233%2C%20233%2C%20233)%3B%20background-color%3A%20transparent%3B%22%3E.83%3C%2Fdiv%3E%3Cdiv%20class%3D%22aui-table-cell%22%20style%3D%22height%3A%2028px%3B%20left%3A%20360px%3B%20top%3A%20168px%3B%20width%3A%20120px%3B%20text-align%3A%20right%3B%20font-size%3A%2012px%3B%20padding%3A%204px%204px%203px%3B%20overflow%3A%20hidden%3B%20position%3A%20absolute%3B%20white-space%3A%20nowrap%3B%20text-overflow%3A%20ellipsis%3B%20border-right%3A%201px%20solid%20rgb(233%2C%20233%2C%20233)%3B%20background-color%3A%20transparent%3B%22%3E276%3C%2Fdiv%3E%3Cdiv%20class%3D%22aui-table-cell%22%20style%3D%22height%3A%2028px%3B%20left%3A%200px%3B%20top%3A%20196px%3B%20width%3A%20120px%3B%20text-align%3A%20right%3B%20font-size%3A%2012px%3B%20padding%3A%204px%204px%203px%3B%20overflow%3A%20hidden%3B%20position%3A%20absolute%3B%20white-space%3A%20nowrap%3B%20text-overflow%3A%20ellipsis%3B%20border-right%3A%201px%20solid%20rgb(233%2C%20233%2C%20233)%3B%20background-color%3A%20rgb(250%2C%20250%2C%20250)%3B%22%3E.22%3C%2Fdiv%3E%3Cdiv%20class%3D%22aui-table-cell%22%20style%3D%22height%3A%2028px%3B%20left%3A%20120px%3B%20top%3A%20196px%3B%20width%3A%20120px%3B%20text-align%3A%20right%3B%20font-size%3A%2012px%3B%20padding%3A%204px%204px%203px%3B%20overflow%3A%20hidden%3B%20position%3A%20absolute%3B%20white-space%3A%20nowrap%3B%20text-overflow%3A%20ellipsis%3B%20border-right%3A%201px%20solid%20rgb(233%2C%20233%2C%20233)%3B%20background-color%3A%20rgb(250%2C%20250%2C%20250)%3B%22%3E48.00%3C%2Fdiv%3E%3Cdiv%20class%3D%22aui-table-cell%22%20style%3D%22height%3A%2028px%3B%20left%3A%20240px%3B%20top%3A%20196px%3B%20width%3A%20120px%3B%20text-align%3A%20right%3B%20font-size%3A%2012px%3B%20padding%3A%204px%204px%203px%3B%20overflow%3A%20hidden%3B%20position%3A%20absolute%3B%20white-space%3A%20nowrap%3B%20text-overflow%3A%20ellipsis%3B%20border-right%3A%201px%20solid%20rgb(233%2C%20233%2C%20233)%3B%20background-color%3A%20rgb(250%2C%20250%2C%20250)%3B%22%3E34.73%3C%2Fdiv%3E%3Cdiv%20class%3D%22aui-table-cell%22%20style%3D%22height%3A%2028px%3B%20left%3A%20360px%3B%20top%3A%20196px%3B%20width%3A%20120px%3B%20text-align%3A%20right%3B%20font-size%3A%2012px%3B%20padding%3A%204px%204px%203px%3B%20overflow%3A%20hidden%3B%20position%3A%20absolute%3B%20white-space%3A%20nowrap%3B%20text-overflow%3A%20ellipsis%3B%20border-right%3A%201px%20solid%20rgb(233%2C%20233%2C%20233)%3B%20background-color%3A%20rgb(250%2C%20250%2C%20250)%3B%22%3E274%3C%2Fdiv%3E%3Cdiv%20class%3D%22aui-table-cell%22%20style%3D%22height%3A%2028px%3B%20left%3A%200px%3B%20top%3A%20224px%3B%20width%3A%20120px%3B%20text-align%3A%20right%3B%20font-size%3A%2012px%3B%20padding%3A%204px%204px%203px%3B%20overflow%3A%20hidden%3B%20position%3A%20absolute%3B%20white-space%3A%20nowrap%3B%20text-overflow%3A%20ellipsis%3B%20border-right%3A%201px%20solid%20rgb(233%2C%20233%2C%20233)%3B%20background-color%3A%20transparent%3B%22%3E.17%3C%2Fdiv%3E%3Cdiv%20class%3D%22aui-table-cell%22%20style%3D%22height%3A%2028px%3B%20left%3A%20120px%3B%20top%3A%20224px%3B%20width%3A%20120px%3B%20text-align%3A%20right%3B%20font-size%3A%2012px%3B%20padding%3A%204px%204px%203px%3B%20overflow%3A%20hidden%3B%20position%3A%20absolute%3B%20white-space%3A%20nowrap%3B%20text-overflow%3A%20ellipsis%3B%20border-right%3A%201px%20solid%20rgb(233%2C%20233%2C%20233)%3B%20background-color%3A%20transparent%3B%22%3E22.00%3C%2Fdiv%3E%3Cdiv%20class%3D%22aui-table-cell%22%20style%3D%22height%3A%2028px%3B%20left%3A%20240px%3B%20top%3A%20224px%3B%20width%3A%20120px%3B%20text-align%3A%20right%3B%20font-size%3A%2012px%3B%20padding%3A%204px%204px%203px%3B%20overflow%3A%20hidden%3B%20position%3A%20absolute%3B%20white-space%3A%20nowrap%3B%20text-overflow%3A%20ellipsis%3B%20border-right%3A%201px%20solid%20rgb(233%2C%20233%2C%20233)%3B%20background-color%3A%20transparent%3B%22%3E8.18%3C%2Fdiv%3E%3Cdiv%20class%3D%22aui-table-cell%22%20style%3D%22height%3A%2028px%3B%20left%3A%20360px%3B%20top%3A%20224px%3B%20width%3A%20120px%3B%20text-align%3A%20right%3B%20font-size%3A%2012px%3B%20padding%3A%204px%204px%203px%3B%20overflow%3A%20hidden%3B%20position%3A%20absolute%3B%20white-space%3A%20nowrap%3B%20text-overflow%3A%20ellipsis%3B%20border-right%3A%201px%20solid%20rgb(233%2C%20233%2C%20233)%3B%20background-color%3A%20transparent%3B%22%3E273%3C%2Fdiv%3E%3Cdiv%20class%3D%22aui-table-cell%22%20style%3D%22height%3A%2028px%3B%20left%3A%200px%3B%20top%3A%20252px%3B%20width%3A%20120px%3B%20text-align%3A%20right%3B%20font-size%3A%2012px%3B%20padding%3A%204px%204px%203px%3B%20overflow%3A%20hidden%3B%20position%3A%20absolute%3B%20white-space%3A%20nowrap%3B%20text-overflow%3A%20ellipsis%3B%20border-right%3A%201px%20solid%20rgb(233%2C%20233%2C%20233)%3B%20background-color%3A%20rgb(250%2C%20250%2C%20250)%3B%22%3E.07%3C%2Fdiv%3E%3Cdiv%20class%3D%22aui-table-cell%22%20style%3D%22height%3A%2028px%3B%20left%3A%20120px%3B%20top%3A%20252px%3B%20width%3A%20120px%3B%20text-align%3A%20right%3B%20font-size%3A%2012px%3B%20padding%3A%204px%204px%203px%3B%20overflow%3A%20hidden%3B%20position%3A%20absolute%3B%20white-space%3A%20nowrap%3B%20text-overflow%3A%20ellipsis%3B%20border-right%3A%201px%20solid%20rgb(233%2C%20233%2C%20233)%3B%20background-color%3A%20rgb(250%2C%20250%2C%20250)%3B%22%3E39.00%3C%2Fdiv%3E%3Cdiv%20class%3D%22aui-table-cell%22%20style%3D%22height%3A%2028px%3B%20left%3A%20240px%3B%20top%3A%20252px%3B%20width%3A%20120px%3B%20text-align%3A%20right%3B%20font-size%3A%2012px%3B%20padding%3A%204px%204px%203px%3B%20overflow%3A%20hidden%3B%20position%3A%20absolute%3B%20white-space%3A%20nowrap%3B%20text-overflow%3A%20ellipsis%3B%20border-right%3A%201px%20solid%20rgb(233%2C%20233%2C%20233)%3B%20background-color%3A%20rgb(250%2C%20250%2C%20250)%3B%22%3E2.35%3C%2Fdiv%3E%3Cdiv%20class%3D%22aui-table-cell%22%20style%3D%22height%3A%2028px%3B%20left%3A%20360px%3B%20top%3A%20252px%3B%20width%3A%20120px%3B%20text-align%3A%20right%3B%20font-size%3A%2012px%3B%20padding%3A%204px%204px%203px%3B%20overflow%3A%20hidden%3B%20position%3A%20absolute%3B%20white-space%3A%20nowrap%3B%20text-overflow%3A%20ellipsis%3B%20border-right%3A%201px%20solid%20rgb(233%2C%20233%2C%20233)%3B%20background-color%3A%20rgb(250%2C%20250%2C%20250)%3B%22%3E270%3C%2Fdiv%3E%3Cdiv%20class%3D%22aui-table-cell%22%20style%3D%22height%3A%2028px%3B%20left%3A%200px%3B%20top%3A%20280px%3B%20width%3A%20120px%3B%20text-align%3A%20right%3B%20font-size%3A%2012px%3B%20padding%3A%204px%204px%203px%3B%20overflow%3A%20hidden%3B%20position%3A%20absolute%3B%20white-space%3A%20nowrap%3B%20text-overflow%3A%20ellipsis%3B%20border-right%3A%201px%20solid%20rgb(233%2C%20233%2C%20233)%3B%20background-color%3A%20transparent%3B%22%3E2.21%3C%2Fdiv%3E%3Cdiv%20class%3D%22aui-table-cell%22%20style%3D%22height%3A%2028px%3B%20left%3A%20120px%3B%20top%3A%20280px%3B%20width%3A%20120px%3B%20text-align%3A%20right%3B%20font-size%3A%2012px%3B%20padding%3A%204px%204px%203px%3B%20overflow%3A%20hidden%3B%20position%3A%20absolute%3B%20white-space%3A%20nowrap%3B%20text-overflow%3A%20ellipsis%3B%20border-right%3A%201px%20solid%20rgb(233%2C%20233%2C%20233)%3B%20background-color%3A%20transparent%3B%22%3E176.00%3C%2Fdiv%3E%3Cdiv%20class%3D%22aui-table-cell%22%20style%3D%22height%3A%2028px%3B%20left%3A%20240px%3B%20top%3A%20280px%3B%20width%3A%20120px%3B%20text-align%3A%20right%3B%20font-size%3A%2012px%3B%20padding%3A%204px%204px%203px%3B%20overflow%3A%20hidden%3B%20position%3A%20absolute%3B%20white-space%3A%20nowrap%3B%20text-overflow%3A%20ellipsis%3B%20border-right%3A%201px%20solid%20rgb(233%2C%20233%2C%20233)%3B%20background-color%3A%20transparent%3B%22%3E72.99%3C%2Fdiv%3E%3Cdiv%20class%3D%22aui-table-cell%22%20style%3D%22height%3A%2028px%3B%20left%3A%20360px%3B%20top%3A%20280px%3B%20width%3A%20120px%3B%20text-align%3A%20right%3B%20font-size%3A%2012px%3B%20padding%3A%204px%204px%203px%3B%20overflow%3A%20hidden%3B%20position%3A%20absolute%3B%20white-space%3A%20nowrap%3B%20text-overflow%3A%20ellipsis%3B%20border-right%3A%201px%20solid%20rgb(233%2C%20233%2C%20233)%3B%20background-color%3A%20transparent%3B%22%3E267%3C%2Fdiv%3E%3Cdiv%20class%3D%22aui-table-cell%22%20style%3D%22height%3A%2028px%3B%20left%3A%200px%3B%20top%3A%20308px%3B%20width%3A%20120px%3B%20text-align%3A%20right%3B%20font-size%3A%2012px%3B%20padding%3A%204px%204px%203px%3B%20overflow%3A%20hidden%3B%20position%3A%20absolute%3B%20white-space%3A%20nowrap%3B%20text-overflow%3A%20ellipsis%3B%20border-right%3A%201px%20solid%20rgb(233%2C%20233%2C%20233)%3B%20background-color%3A%20rgb(250%2C%20250%2C%20250)%3B%22%3E.29%3C%2Fdiv%3E%3Cdiv%20class%3D%22aui-table-cell%22%20style%3D%22height%3A%2028px%3B%20left%3A%20120px%3B%20top%3A%20308px%3B%20width%3A%20120px%3B%20text-align%3A%20right%3B%20font-size%3A%2012px%3B%20padding%3A%204px%204px%203px%3B%20overflow%3A%20hidden%3B%20position%3A%20absolute%3B%20white-space%3A%20nowrap%3B%20text-overflow%3A%20ellipsis%3B%20border-right%3A%201px%20solid%20rgb(233%2C%20233%2C%20233)%3B%20background-color%3A%20rgb(250%2C%20250%2C%20250)%3B%22%3E12.00%3C%2Fdiv%3E%3Cdiv%20class%3D%22aui-table-cell%22%20style%3D%22height%3A%2028px%3B%20left%3A%20240px%3B%20top%3A%20308px%3B%20width%3A%20120px%3B%20text-align%3A%20right%3B%20font-size%3A%2012px%3B%20padding%3A%204px%204px%203px%3B%20overflow%3A%20hidden%3B%20position%3A%20absolute%3B%20white-space%3A%20nowrap%3B%20text-overflow%3A%20ellipsis%3B%20border-right%3A%201px%20solid%20rgb(233%2C%20233%2C%20233)%3B%20background-color%3A%20rgb(250%2C%20250%2C%20250)%3B%22%3E7.97%3C%2Fdiv%3E%3Cdiv%20class%3D%22aui-table-cell%22%20style%3D%22height%3A%2028px%3B%20left%3A%20360px%3B%20top%3A%20308px%3B%20width%3A%20120px%3B%20text-align%3A%20right%3B%20font-size%3A%2012px%3B%20padding%3A%204px%204px%203px%3B%20overflow%3A%20hidden%3B%20position%3A%20absolute%3B%20white-space%3A%20nowrap%3B%20text-overflow%3A%20ellipsis%3B%20border-right%3A%201px%20solid%20rgb(233%2C%20233%2C%20233)%3B%20background-color%3A%20rgb(250%2C%20250%2C%20250)%3B%22%3E263%3C%2Fdiv%3E%3C%2Fdiv%3E%3C%2Fdiv%3E%3C%2Fdiv%3E%3C%2Fdiv%3E%3C%2Fdiv%3E%3Cdiv%20class%3D%22css-1uww2vi-Table%22%3E%3C%2Fdiv%3E%3C%2Fdiv%3E%3C%2Fdiv%3E%3C%2Fdiv%3E%3C%2Fdiv%3E%3C%2Fdiv%3E%3C%2FforeignObject%3E%3C%2Fsvg%3E\">"
      ],
      "text/plain": [
       "Open the notebook in JupyterLab with the atoti extension enabled to build this widget."
      ]
     },
     "metadata": {},
     "output_type": "display_data"
    }
   ],
   "source": [
    "session.visualize(\n",
    "    \"Top 10 influencers - Number of replies, retweets and quotes, and likes per tweets\"\n",
    ")"
   ]
  },
  {
   "cell_type": "markdown",
   "metadata": {},
   "source": [
    "The table here above shows, for each influencer:\n",
    "\n",
    "- The number of tweets from each influencer (in the last colonne (contributor.COUNT))\n",
    "- The average number of replies for each tweet\n",
    "- The average number of retweets and quotes for each tweet\n",
    "- The average number of likes for each tweet\n",
    "\n",
    "We can observe that, in general, it's not those who produce the most tweets that are the most replied to, retweeted or liked.\n",
    "It's the case with Dr. Robin Kiera who tweeted the most last month (346 tweets), but is not even amongst the top 10 most replied."
   ]
  },
  {
   "cell_type": "markdown",
   "metadata": {},
   "source": [
    "The following visualization illustrate well our obersvation."
   ]
  },
  {
   "cell_type": "markdown",
   "metadata": {},
   "source": [
    "#### Top 10 influencers - Number of replies per tweet"
   ]
  },
  {
   "cell_type": "code",
   "execution_count": 16,
   "metadata": {
    "atoti": {
     "widget": {
      "filters": [
       "TopCount(Filter([influencer].[name].Levels(1).Members, NOT IsEmpty([Measures].[replies])), 10, [Measures].[replies])"
      ],
      "mapping": {
       "columnValues": [
        "[Measures].[replies]"
       ],
       "horizontalSubplots": [],
       "lineValues": [
        "[Measures].[replies_mean]"
       ],
       "verticalSubplots": [],
       "xAxis": [
        "[influencer].[name].[name]"
       ]
      },
      "query": {
       "mdx": "SELECT NON EMPTY Order(Hierarchize(Descendants({[influencer].[name].[AllMember]}, 1, SELF_AND_BEFORE)), [Measures].[replies], DESC) ON ROWS, NON EMPTY {[Measures].[replies], [Measures].[replies_mean]} ON COLUMNS FROM [influencer_cube]",
       "updateMode": "once"
      },
      "serverKey": "default",
      "widgetKey": "plotly-clustered-column-and-line-chart"
     }
    },
    "tags": []
   },
   "outputs": [
    {
     "data": {
      "application/vnd.atoti.widget.v0+json": {
       "name": "Top 10 influencers - Number of replies per tweet",
       "sessionId": "1674717365_VNWIH9",
       "sessionLocation": {
        "https": false,
        "port": 60114
       },
       "widgetCreationCode": "session.visualize()"
      },
      "text/html": [
       "<img src=\"data:image/svg+xml;charset=utf8,%3C%3Fxml%20version%3D%221.0%22%20standalone%3D%22no%22%3F%3E%3Csvg%20xmlns%3D%22http%3A%2F%2Fwww.w3.org%2F2000%2Fsvg%22%20xmlns%3Axlink%3D%22http%3A%2F%2Fwww.w3.org%2F1999%2Fxlink%22%20height%3D%22352%22%20width%3D%221183%22%20viewBox%3D%220%200%201183%20352%22%3E%3Cdefs%20id%3D%22defs-e6f556%22%3E%3Cg%20class%3D%22clips%22%3E%3CclipPath%20id%3D%22clipe6f556xyplot%22%20class%3D%22plotclip%22%3E%3Crect%20width%3D%22958%22%20height%3D%22246%22%2F%3E%3C%2FclipPath%3E%3CclipPath%20id%3D%22clipe6f556xy2plot%22%20class%3D%22plotclip%22%3E%3Crect%20width%3D%22958%22%20height%3D%22246%22%2F%3E%3C%2FclipPath%3E%3CclipPath%20class%3D%22axesclip%22%20id%3D%22clipe6f556x%22%3E%3Crect%20x%3D%2280%22%20y%3D%220%22%20width%3D%22958%22%20height%3D%22352%22%2F%3E%3C%2FclipPath%3E%3CclipPath%20class%3D%22axesclip%22%20id%3D%22clipe6f556y%22%3E%3Crect%20x%3D%220%22%20y%3D%2230%22%20width%3D%221183%22%20height%3D%22246%22%2F%3E%3C%2FclipPath%3E%3CclipPath%20class%3D%22axesclip%22%20id%3D%22clipe6f556xy%22%3E%3Crect%20x%3D%2280%22%20y%3D%2230%22%20width%3D%22958%22%20height%3D%22246%22%2F%3E%3C%2FclipPath%3E%3CclipPath%20class%3D%22axesclip%22%20id%3D%22clipe6f556y2%22%3E%3Crect%20x%3D%220%22%20y%3D%2230%22%20width%3D%221183%22%20height%3D%22246%22%2F%3E%3C%2FclipPath%3E%3CclipPath%20class%3D%22axesclip%22%20id%3D%22clipe6f556xy2%22%3E%3Crect%20x%3D%2280%22%20y%3D%2230%22%20width%3D%22958%22%20height%3D%22246%22%2F%3E%3C%2FclipPath%3E%3C%2Fg%3E%3Cg%20class%3D%22gradients%22%2F%3E%3C%2Fdefs%3E%3Cg%20class%3D%22bglayer%22%2F%3E%3Cg%20class%3D%22draglayer%20cursor-crosshair%22%3E%3Cg%20class%3D%22xy%22%3E%3Crect%20class%3D%22nsewdrag%20drag%22%20data-subplot%3D%22xy%22%20x%3D%2280%22%20y%3D%2230%22%20width%3D%22958%22%20height%3D%22246%22%20style%3D%22fill%3A%20transparent%3B%20stroke-width%3A%200%3B%20pointer-events%3A%20all%3B%22%2F%3E%3Crect%20class%3D%22nwdrag%20drag%20cursor-nw-resize%22%20data-subplot%3D%22xy%22%20x%3D%2260%22%20y%3D%2210%22%20width%3D%2220%22%20height%3D%2220%22%20style%3D%22fill%3A%20transparent%3B%20stroke-width%3A%200%3B%20pointer-events%3A%20all%3B%22%2F%3E%3Crect%20class%3D%22nedrag%20drag%20cursor-ne-resize%22%20data-subplot%3D%22xy%22%20x%3D%221038%22%20y%3D%2210%22%20width%3D%2220%22%20height%3D%2220%22%20style%3D%22fill%3A%20transparent%3B%20stroke-width%3A%200%3B%20pointer-events%3A%20all%3B%22%2F%3E%3Crect%20class%3D%22swdrag%20drag%20cursor-sw-resize%22%20data-subplot%3D%22xy%22%20x%3D%2260%22%20y%3D%22276%22%20width%3D%2220%22%20height%3D%2220%22%20style%3D%22fill%3A%20transparent%3B%20stroke-width%3A%200%3B%20pointer-events%3A%20all%3B%22%2F%3E%3Crect%20class%3D%22sedrag%20drag%20cursor-se-resize%22%20data-subplot%3D%22xy%22%20x%3D%221038%22%20y%3D%22276%22%20width%3D%2220%22%20height%3D%2220%22%20style%3D%22fill%3A%20transparent%3B%20stroke-width%3A%200%3B%20pointer-events%3A%20all%3B%22%2F%3E%3Crect%20class%3D%22ewdrag%20drag%20cursor-ew-resize%22%20data-subplot%3D%22xy%22%20x%3D%22175.8%22%20y%3D%22276.5%22%20width%3D%22766.4000000000001%22%20height%3D%2220%22%20style%3D%22fill%3A%20transparent%3B%20stroke-width%3A%200%3B%20pointer-events%3A%20all%3B%22%2F%3E%3Crect%20class%3D%22wdrag%20drag%20cursor-w-resize%22%20data-subplot%3D%22xy%22%20x%3D%2280%22%20y%3D%22276.5%22%20width%3D%2295.80000000000001%22%20height%3D%2220%22%20style%3D%22fill%3A%20transparent%3B%20stroke-width%3A%200%3B%20pointer-events%3A%20all%3B%22%2F%3E%3Crect%20class%3D%22edrag%20drag%20cursor-e-resize%22%20data-subplot%3D%22xy%22%20x%3D%22942.2%22%20y%3D%22276.5%22%20width%3D%2295.80000000000001%22%20height%3D%2220%22%20style%3D%22fill%3A%20transparent%3B%20stroke-width%3A%200%3B%20pointer-events%3A%20all%3B%22%2F%3E%3Crect%20class%3D%22nsdrag%20drag%20cursor-ns-resize%22%20data-subplot%3D%22xy%22%20x%3D%2259.5%22%20y%3D%2254.6%22%20width%3D%2220%22%20height%3D%22196.8%22%20style%3D%22fill%3A%20transparent%3B%20stroke-width%3A%200%3B%20pointer-events%3A%20all%3B%22%2F%3E%3Crect%20class%3D%22sdrag%20drag%20cursor-s-resize%22%20data-subplot%3D%22xy%22%20x%3D%2259.5%22%20y%3D%22251.4%22%20width%3D%2220%22%20height%3D%2224.6%22%20style%3D%22fill%3A%20transparent%3B%20stroke-width%3A%200%3B%20pointer-events%3A%20all%3B%22%2F%3E%3Crect%20class%3D%22ndrag%20drag%20cursor-n-resize%22%20data-subplot%3D%22xy%22%20x%3D%2259.5%22%20y%3D%2230%22%20width%3D%2220%22%20height%3D%2224.6%22%20style%3D%22fill%3A%20transparent%3B%20stroke-width%3A%200%3B%20pointer-events%3A%20all%3B%22%2F%3E%3C%2Fg%3E%3Cg%20class%3D%22xy2%22%3E%3Crect%20class%3D%22nsdrag%20drag%20cursor-ns-resize%22%20data-subplot%3D%22xy2%22%20x%3D%221038.5%22%20y%3D%2254.6%22%20width%3D%2220%22%20height%3D%22196.8%22%20style%3D%22fill%3A%20transparent%3B%20stroke-width%3A%200%3B%20pointer-events%3A%20all%3B%22%2F%3E%3Crect%20class%3D%22sdrag%20drag%20cursor-s-resize%22%20data-subplot%3D%22xy2%22%20x%3D%221038.5%22%20y%3D%22251.4%22%20width%3D%2220%22%20height%3D%2224.6%22%20style%3D%22fill%3A%20transparent%3B%20stroke-width%3A%200%3B%20pointer-events%3A%20all%3B%22%2F%3E%3Crect%20class%3D%22ndrag%20drag%20cursor-n-resize%22%20data-subplot%3D%22xy2%22%20x%3D%221038.5%22%20y%3D%2230%22%20width%3D%2220%22%20height%3D%2224.6%22%20style%3D%22fill%3A%20transparent%3B%20stroke-width%3A%200%3B%20pointer-events%3A%20all%3B%22%2F%3E%3C%2Fg%3E%3C%2Fg%3E%3Cg%20class%3D%22layer-below%22%3E%3Cg%20class%3D%22imagelayer%22%2F%3E%3Cg%20class%3D%22shapelayer%22%2F%3E%3C%2Fg%3E%3Cg%20class%3D%22cartesianlayer%22%3E%3Cg%20class%3D%22subplot%20xy%22%3E%3Cg%20class%3D%22layer-subplot%22%3E%3Cg%20class%3D%22shapelayer%22%2F%3E%3Cg%20class%3D%22imagelayer%22%2F%3E%3C%2Fg%3E%3Cg%20class%3D%22gridlayer%22%3E%3Cg%20class%3D%22x%22%3E%3Cpath%20class%3D%22xgrid%20crisp%22%20transform%3D%22translate(131.65%2C0)%22%20d%3D%22M0%2C30v246%22%20style%3D%22stroke%3A%20rgb(0%2C%200%2C%200)%3B%20stroke-opacity%3A%200%3B%20stroke-width%3A%201px%3B%22%2F%3E%3Cpath%20class%3D%22xgrid%20crisp%22%20transform%3D%22translate(226.62%2C0)%22%20d%3D%22M0%2C30v246%22%20style%3D%22stroke%3A%20rgb(0%2C%200%2C%200)%3B%20stroke-opacity%3A%200%3B%20stroke-width%3A%201px%3B%22%2F%3E%3Cpath%20class%3D%22xgrid%20crisp%22%20transform%3D%22translate(321.58000000000004%2C0)%22%20d%3D%22M0%2C30v246%22%20style%3D%22stroke%3A%20rgb(0%2C%200%2C%200)%3B%20stroke-opacity%3A%200%3B%20stroke-width%3A%201px%3B%22%2F%3E%3Cpath%20class%3D%22xgrid%20crisp%22%20transform%3D%22translate(416.55%2C0)%22%20d%3D%22M0%2C30v246%22%20style%3D%22stroke%3A%20rgb(0%2C%200%2C%200)%3B%20stroke-opacity%3A%200%3B%20stroke-width%3A%201px%3B%22%2F%3E%3Cpath%20class%3D%22xgrid%20crisp%22%20transform%3D%22translate(511.52%2C0)%22%20d%3D%22M0%2C30v246%22%20style%3D%22stroke%3A%20rgb(0%2C%200%2C%200)%3B%20stroke-opacity%3A%200%3B%20stroke-width%3A%201px%3B%22%2F%3E%3Cpath%20class%3D%22xgrid%20crisp%22%20transform%3D%22translate(606.48%2C0)%22%20d%3D%22M0%2C30v246%22%20style%3D%22stroke%3A%20rgb(0%2C%200%2C%200)%3B%20stroke-opacity%3A%200%3B%20stroke-width%3A%201px%3B%22%2F%3E%3Cpath%20class%3D%22xgrid%20crisp%22%20transform%3D%22translate(701.45%2C0)%22%20d%3D%22M0%2C30v246%22%20style%3D%22stroke%3A%20rgb(0%2C%200%2C%200)%3B%20stroke-opacity%3A%200%3B%20stroke-width%3A%201px%3B%22%2F%3E%3Cpath%20class%3D%22xgrid%20crisp%22%20transform%3D%22translate(796.42%2C0)%22%20d%3D%22M0%2C30v246%22%20style%3D%22stroke%3A%20rgb(0%2C%200%2C%200)%3B%20stroke-opacity%3A%200%3B%20stroke-width%3A%201px%3B%22%2F%3E%3Cpath%20class%3D%22xgrid%20crisp%22%20transform%3D%22translate(891.38%2C0)%22%20d%3D%22M0%2C30v246%22%20style%3D%22stroke%3A%20rgb(0%2C%200%2C%200)%3B%20stroke-opacity%3A%200%3B%20stroke-width%3A%201px%3B%22%2F%3E%3Cpath%20class%3D%22xgrid%20crisp%22%20transform%3D%22translate(986.35%2C0)%22%20d%3D%22M0%2C30v246%22%20style%3D%22stroke%3A%20rgb(0%2C%200%2C%200)%3B%20stroke-opacity%3A%200%3B%20stroke-width%3A%201px%3B%22%2F%3E%3C%2Fg%3E%3Cg%20class%3D%22y%22%3E%3Cpath%20class%3D%22ygrid%20crisp%22%20transform%3D%22translate(0%2C234.9)%22%20d%3D%22M80%2C0h958%22%20style%3D%22stroke%3A%20rgb(89%2C%2089%2C%2089)%3B%20stroke-opacity%3A%200.25%3B%20stroke-width%3A%201px%3B%22%2F%3E%3Cpath%20class%3D%22ygrid%20crisp%22%20transform%3D%22translate(0%2C193.79)%22%20d%3D%22M80%2C0h958%22%20style%3D%22stroke%3A%20rgb(89%2C%2089%2C%2089)%3B%20stroke-opacity%3A%200.25%3B%20stroke-width%3A%201px%3B%22%2F%3E%3Cpath%20class%3D%22ygrid%20crisp%22%20transform%3D%22translate(0%2C152.69)%22%20d%3D%22M80%2C0h958%22%20style%3D%22stroke%3A%20rgb(89%2C%2089%2C%2089)%3B%20stroke-opacity%3A%200.25%3B%20stroke-width%3A%201px%3B%22%2F%3E%3Cpath%20class%3D%22ygrid%20crisp%22%20transform%3D%22translate(0%2C111.59)%22%20d%3D%22M80%2C0h958%22%20style%3D%22stroke%3A%20rgb(89%2C%2089%2C%2089)%3B%20stroke-opacity%3A%200.25%3B%20stroke-width%3A%201px%3B%22%2F%3E%3Cpath%20class%3D%22ygrid%20crisp%22%20transform%3D%22translate(0%2C70.47999999999999)%22%20d%3D%22M80%2C0h958%22%20style%3D%22stroke%3A%20rgb(89%2C%2089%2C%2089)%3B%20stroke-opacity%3A%200.25%3B%20stroke-width%3A%201px%3B%22%2F%3E%3C%2Fg%3E%3Cg%20class%3D%22y2%22%3E%3Cpath%20class%3D%22y2grid%20crisp%22%20transform%3D%22translate(0%2C154.73000000000002)%22%20d%3D%22M80%2C0h958%22%20style%3D%22stroke%3A%20rgb(238%2C%20238%2C%20238)%3B%20stroke-opacity%3A%201%3B%20stroke-width%3A%201px%3B%22%2F%3E%3Cpath%20class%3D%22y2grid%20crisp%22%20transform%3D%22translate(0%2C93.22999999999999)%22%20d%3D%22M80%2C0h958%22%20style%3D%22stroke%3A%20rgb(238%2C%20238%2C%20238)%3B%20stroke-opacity%3A%201%3B%20stroke-width%3A%201px%3B%22%2F%3E%3Cpath%20class%3D%22y2grid%20crisp%22%20transform%3D%22translate(0%2C31.73)%22%20d%3D%22M80%2C0h958%22%20style%3D%22stroke%3A%20rgb(238%2C%20238%2C%20238)%3B%20stroke-opacity%3A%201%3B%20stroke-width%3A%201px%3B%22%2F%3E%3C%2Fg%3E%3C%2Fg%3E%3Cg%20class%3D%22zerolinelayer%22%3E%3Cpath%20class%3D%22yzl%20zl%20crisp%22%20transform%3D%22translate(0%2C276)%22%20d%3D%22M80%2C0h958%22%20style%3D%22stroke%3A%20rgb(89%2C%2089%2C%2089)%3B%20stroke-opacity%3A%200.5%3B%20stroke-width%3A%201px%3B%22%2F%3E%3Cpath%20class%3D%22y2zl%20zl%20crisp%22%20transform%3D%22translate(0%2C216.23)%22%20d%3D%22M80%2C0h958%22%20style%3D%22stroke%3A%20rgb(68%2C%2068%2C%2068)%3B%20stroke-opacity%3A%201%3B%20stroke-width%3A%201px%3B%22%2F%3E%3C%2Fg%3E%3Cpath%20class%3D%22xlines-below%22%2F%3E%3Cpath%20class%3D%22ylines-below%22%2F%3E%3Cg%20class%3D%22overlines-below%22%3E%3Cpath%20class%3D%22xy2-x%22%2F%3E%3Cpath%20class%3D%22xy2-y%22%2F%3E%3C%2Fg%3E%3Cg%20class%3D%22xaxislayer-below%22%2F%3E%3Cg%20class%3D%22yaxislayer-below%22%2F%3E%3Cg%20class%3D%22overaxes-below%22%3E%3Cg%20class%3D%22xy2-x%22%2F%3E%3Cg%20class%3D%22xy2-y%22%2F%3E%3C%2Fg%3E%3Cg%20class%3D%22plot%22%20transform%3D%22translate(80%2C30)%22%20clip-path%3D%22url('%23clipe6f556xyplot')%22%3E%3Cg%20class%3D%22barlayer%20mlayer%22%3E%3Cg%20class%3D%22trace%20bars%22%20style%3D%22opacity%3A%201%3B%22%3E%3Cg%20class%3D%22points%22%3E%3Cg%20class%3D%22point%22%3E%3Cpath%20d%3D%22M13.66%2C246V12.3H89.64V246Z%22%20style%3D%22vector-effect%3A%20non-scaling-stroke%3B%20opacity%3A%201%3B%20stroke-width%3A%200px%3B%20fill%3A%20rgb(78%2C%20121%2C%20167)%3B%20fill-opacity%3A%201%3B%22%2F%3E%3C%2Fg%3E%3Cg%20class%3D%22point%22%3E%3Cpath%20d%3D%22M108.63%2C246V127.28H184.6V246Z%22%20style%3D%22vector-effect%3A%20non-scaling-stroke%3B%20opacity%3A%201%3B%20stroke-width%3A%200px%3B%20fill%3A%20rgb(78%2C%20121%2C%20167)%3B%20fill-opacity%3A%201%3B%22%2F%3E%3C%2Fg%3E%3Cg%20class%3D%22point%22%3E%3Cpath%20d%3D%22M203.6%2C246V209.89H279.57V246Z%22%20style%3D%22vector-effect%3A%20non-scaling-stroke%3B%20opacity%3A%201%3B%20stroke-width%3A%200px%3B%20fill%3A%20rgb(78%2C%20121%2C%20167)%3B%20fill-opacity%3A%201%3B%22%2F%3E%3C%2Fg%3E%3Cg%20class%3D%22point%22%3E%3Cpath%20d%3D%22M298.56%2C246V214.97H374.54V246Z%22%20style%3D%22vector-effect%3A%20non-scaling-stroke%3B%20opacity%3A%201%3B%20stroke-width%3A%200px%3B%20fill%3A%20rgb(78%2C%20121%2C%20167)%3B%20fill-opacity%3A%201%3B%22%2F%3E%3C%2Fg%3E%3Cg%20class%3D%22point%22%3E%3Cpath%20d%3D%22M393.53%2C246V217.68H469.5V246Z%22%20style%3D%22vector-effect%3A%20non-scaling-stroke%3B%20opacity%3A%201%3B%20stroke-width%3A%200px%3B%20fill%3A%20rgb(78%2C%20121%2C%20167)%3B%20fill-opacity%3A%201%3B%22%2F%3E%3C%2Fg%3E%3Cg%20class%3D%22point%22%3E%3Cpath%20d%3D%22M488.5%2C246V225.45H564.47V246Z%22%20style%3D%22vector-effect%3A%20non-scaling-stroke%3B%20opacity%3A%201%3B%20stroke-width%3A%200px%3B%20fill%3A%20rgb(78%2C%20121%2C%20167)%3B%20fill-opacity%3A%201%3B%22%2F%3E%3C%2Fg%3E%3Cg%20class%3D%22point%22%3E%3Cpath%20d%3D%22M583.46%2C246V231.05H659.44V246Z%22%20style%3D%22vector-effect%3A%20non-scaling-stroke%3B%20opacity%3A%201%3B%20stroke-width%3A%200px%3B%20fill%3A%20rgb(78%2C%20121%2C%20167)%3B%20fill-opacity%3A%201%3B%22%2F%3E%3C%2Fg%3E%3Cg%20class%3D%22point%22%3E%3Cpath%20d%3D%22M678.43%2C246V235.04H754.4V246Z%22%20style%3D%22vector-effect%3A%20non-scaling-stroke%3B%20opacity%3A%201%3B%20stroke-width%3A%200px%3B%20fill%3A%20rgb(78%2C%20121%2C%20167)%3B%20fill-opacity%3A%201%3B%22%2F%3E%3C%2Fg%3E%3Cg%20class%3D%22point%22%3E%3Cpath%20d%3D%22M773.4%2C246V236.93H849.37V246Z%22%20style%3D%22vector-effect%3A%20non-scaling-stroke%3B%20opacity%3A%201%3B%20stroke-width%3A%200px%3B%20fill%3A%20rgb(78%2C%20121%2C%20167)%3B%20fill-opacity%3A%201%3B%22%2F%3E%3C%2Fg%3E%3Cg%20class%3D%22point%22%3E%3Cpath%20d%3D%22M868.36%2C246V237.78H944.34V246Z%22%20style%3D%22vector-effect%3A%20non-scaling-stroke%3B%20opacity%3A%201%3B%20stroke-width%3A%200px%3B%20fill%3A%20rgb(78%2C%20121%2C%20167)%3B%20fill-opacity%3A%201%3B%22%2F%3E%3C%2Fg%3E%3C%2Fg%3E%3C%2Fg%3E%3C%2Fg%3E%3C%2Fg%3E%3Cg%20class%3D%22overplot%22%3E%3Cg%20class%3D%22xy2%22%20transform%3D%22translate(80%2C30)%22%20clip-path%3D%22url('%23clipe6f556xy2plot')%22%3E%3Cg%20class%3D%22scatterlayer%20mlayer%22%3E%3Cg%20class%3D%22trace%20scatter%20trace954c8c%22%20style%3D%22stroke-miterlimit%3A%202%3B%20opacity%3A%201%3B%22%3E%3Cg%20class%3D%22fills%22%2F%3E%3Cg%20class%3D%22errorbars%22%2F%3E%3Cg%20class%3D%22lines%22%3E%3Cpath%20class%3D%22js-line%22%20d%3D%22M51.65%2C123L906.35%2C123%22%20style%3D%22vector-effect%3A%20non-scaling-stroke%3B%20fill%3A%20none%3B%20stroke%3A%20rgb(242%2C%20142%2C%2044)%3B%20stroke-opacity%3A%201%3B%20stroke-width%3A%202px%3B%20opacity%3A%201%3B%22%2F%3E%3C%2Fg%3E%3Cg%20class%3D%22points%22%3E%3Cpath%20class%3D%22point%22%20transform%3D%22translate(51.65%2C123)%22%20d%3D%22M3%2C0A3%2C3%200%201%2C1%200%2C-3A3%2C3%200%200%2C1%203%2C0Z%22%20style%3D%22opacity%3A%201%3B%20stroke-width%3A%200px%3B%20fill%3A%20rgb(242%2C%20142%2C%2044)%3B%20fill-opacity%3A%201%3B%22%2F%3E%3Cpath%20class%3D%22point%22%20transform%3D%22translate(146.62%2C123)%22%20d%3D%22M3%2C0A3%2C3%200%201%2C1%200%2C-3A3%2C3%200%200%2C1%203%2C0Z%22%20style%3D%22opacity%3A%201%3B%20stroke-width%3A%200px%3B%20fill%3A%20rgb(242%2C%20142%2C%2044)%3B%20fill-opacity%3A%201%3B%22%2F%3E%3Cpath%20class%3D%22point%22%20transform%3D%22translate(241.58%2C123)%22%20d%3D%22M3%2C0A3%2C3%200%201%2C1%200%2C-3A3%2C3%200%200%2C1%203%2C0Z%22%20style%3D%22opacity%3A%201%3B%20stroke-width%3A%200px%3B%20fill%3A%20rgb(242%2C%20142%2C%2044)%3B%20fill-opacity%3A%201%3B%22%2F%3E%3Cpath%20class%3D%22point%22%20transform%3D%22translate(336.55%2C123)%22%20d%3D%22M3%2C0A3%2C3%200%201%2C1%200%2C-3A3%2C3%200%200%2C1%203%2C0Z%22%20style%3D%22opacity%3A%201%3B%20stroke-width%3A%200px%3B%20fill%3A%20rgb(242%2C%20142%2C%2044)%3B%20fill-opacity%3A%201%3B%22%2F%3E%3Cpath%20class%3D%22point%22%20transform%3D%22translate(431.52%2C123)%22%20d%3D%22M3%2C0A3%2C3%200%201%2C1%200%2C-3A3%2C3%200%200%2C1%203%2C0Z%22%20style%3D%22opacity%3A%201%3B%20stroke-width%3A%200px%3B%20fill%3A%20rgb(242%2C%20142%2C%2044)%3B%20fill-opacity%3A%201%3B%22%2F%3E%3Cpath%20class%3D%22point%22%20transform%3D%22translate(526.48%2C123)%22%20d%3D%22M3%2C0A3%2C3%200%201%2C1%200%2C-3A3%2C3%200%200%2C1%203%2C0Z%22%20style%3D%22opacity%3A%201%3B%20stroke-width%3A%200px%3B%20fill%3A%20rgb(242%2C%20142%2C%2044)%3B%20fill-opacity%3A%201%3B%22%2F%3E%3Cpath%20class%3D%22point%22%20transform%3D%22translate(621.45%2C123)%22%20d%3D%22M3%2C0A3%2C3%200%201%2C1%200%2C-3A3%2C3%200%200%2C1%203%2C0Z%22%20style%3D%22opacity%3A%201%3B%20stroke-width%3A%200px%3B%20fill%3A%20rgb(242%2C%20142%2C%2044)%3B%20fill-opacity%3A%201%3B%22%2F%3E%3Cpath%20class%3D%22point%22%20transform%3D%22translate(716.42%2C123)%22%20d%3D%22M3%2C0A3%2C3%200%201%2C1%200%2C-3A3%2C3%200%200%2C1%203%2C0Z%22%20style%3D%22opacity%3A%201%3B%20stroke-width%3A%200px%3B%20fill%3A%20rgb(242%2C%20142%2C%2044)%3B%20fill-opacity%3A%201%3B%22%2F%3E%3Cpath%20class%3D%22point%22%20transform%3D%22translate(811.38%2C123)%22%20d%3D%22M3%2C0A3%2C3%200%201%2C1%200%2C-3A3%2C3%200%200%2C1%203%2C0Z%22%20style%3D%22opacity%3A%201%3B%20stroke-width%3A%200px%3B%20fill%3A%20rgb(242%2C%20142%2C%2044)%3B%20fill-opacity%3A%201%3B%22%2F%3E%3Cpath%20class%3D%22point%22%20transform%3D%22translate(906.35%2C123)%22%20d%3D%22M3%2C0A3%2C3%200%201%2C1%200%2C-3A3%2C3%200%200%2C1%203%2C0Z%22%20style%3D%22opacity%3A%201%3B%20stroke-width%3A%200px%3B%20fill%3A%20rgb(242%2C%20142%2C%2044)%3B%20fill-opacity%3A%201%3B%22%2F%3E%3C%2Fg%3E%3Cg%20class%3D%22text%22%2F%3E%3C%2Fg%3E%3C%2Fg%3E%3C%2Fg%3E%3C%2Fg%3E%3Cpath%20class%3D%22xlines-above%20crisp%22%20style%3D%22fill%3A%20none%3B%20stroke-width%3A%201px%3B%20stroke%3A%20rgb(89%2C%2089%2C%2089)%3B%20stroke-opacity%3A%200.25%3B%22%20d%3D%22M79%2C276.5H1038%22%2F%3E%3Cpath%20class%3D%22ylines-above%20crisp%22%20style%3D%22fill%3A%20none%3B%20stroke-width%3A%201px%3B%20stroke%3A%20rgb(89%2C%2089%2C%2089)%3B%20stroke-opacity%3A%200.25%3B%22%20d%3D%22M79.5%2C30V276%22%2F%3E%3Cg%20class%3D%22overlines-above%22%3E%3Cpath%20class%3D%22xy2-x%20crisp%22%20style%3D%22fill%3A%20none%3B%22%20d%3D%22M0%2C0%22%2F%3E%3Cpath%20class%3D%22xy2-y%20crisp%22%20style%3D%22fill%3A%20none%3B%22%20d%3D%22M0%2C0%22%2F%3E%3C%2Fg%3E%3Cg%20class%3D%22xaxislayer-above%22%3E%3Cg%20class%3D%22xtick%22%3E%3Ctext%20text-anchor%3D%22start%22%20x%3D%220%22%20y%3D%22291.4%22%20data-unformatted%3D%22Andrej%20Karpathy%22%20data-math%3D%22N%22%20transform%3D%22translate(131.65%2C0)%20rotate(30%2C0%2C285.4)%22%20style%3D%22font-family%3A%20%26quot%3BOpen%20Sans%26quot%3B%2C%20verdana%2C%20arial%2C%20sans-serif%3B%20font-size%3A%2012px%3B%20fill%3A%20rgb(89%2C%2089%2C%2089)%3B%20fill-opacity%3A%201%3B%20white-space%3A%20pre%3B%22%3EAndrej%20Karpathy%3C%2Ftext%3E%3C%2Fg%3E%3Cg%20class%3D%22xtick%22%3E%3Ctext%20text-anchor%3D%22start%22%20x%3D%220%22%20y%3D%22291.4%22%20data-unformatted%3D%22%F0%9F%94%A5%20Kareem%20Carr%20%F0%9F%94%A5%22%20data-math%3D%22N%22%20transform%3D%22translate(226.62%2C0)%20rotate(30%2C0%2C285.4)%22%20style%3D%22font-family%3A%20%26quot%3BOpen%20Sans%26quot%3B%2C%20verdana%2C%20arial%2C%20sans-serif%3B%20font-size%3A%2012px%3B%20fill%3A%20rgb(89%2C%2089%2C%2089)%3B%20fill-opacity%3A%201%3B%20white-space%3A%20pre%3B%22%3E%F0%9F%94%A5%20Kareem%20Carr%20%F0%9F%94%A5%3C%2Ftext%3E%3C%2Fg%3E%3Cg%20class%3D%22xtick%22%3E%3Ctext%20text-anchor%3D%22start%22%20x%3D%220%22%20y%3D%22291.4%22%20data-unformatted%3D%22Pedro%20Domingos%22%20data-math%3D%22N%22%20transform%3D%22translate(321.58000000000004%2C0)%20rotate(30%2C0%2C285.4)%22%20style%3D%22font-family%3A%20%26quot%3BOpen%20Sans%26quot%3B%2C%20verdana%2C%20arial%2C%20sans-serif%3B%20font-size%3A%2012px%3B%20fill%3A%20rgb(89%2C%2089%2C%2089)%3B%20fill-opacity%3A%201%3B%20white-space%3A%20pre%3B%22%3EPedro%20Domingos%3C%2Ftext%3E%3C%2Fg%3E%3Cg%20class%3D%22xtick%22%3E%3Ctext%20text-anchor%3D%22start%22%20x%3D%220%22%20y%3D%22291.4%22%20data-unformatted%3D%22Fran%C3%A7ois%20Chollet%22%20data-math%3D%22N%22%20transform%3D%22translate(416.55%2C0)%20rotate(30%2C0%2C285.4)%22%20style%3D%22font-family%3A%20%26quot%3BOpen%20Sans%26quot%3B%2C%20verdana%2C%20arial%2C%20sans-serif%3B%20font-size%3A%2012px%3B%20fill%3A%20rgb(89%2C%2089%2C%2089)%3B%20fill-opacity%3A%201%3B%20white-space%3A%20pre%3B%22%3EFran%C3%A7ois%20Chollet%3C%2Ftext%3E%3C%2Fg%3E%3Cg%20class%3D%22xtick%22%3E%3Ctext%20text-anchor%3D%22start%22%20x%3D%220%22%20y%3D%22291.4%22%20data-unformatted%3D%22Hilary%20Mason%22%20data-math%3D%22N%22%20transform%3D%22translate(511.52%2C0)%20rotate(30%2C0%2C285.4)%22%20style%3D%22font-family%3A%20%26quot%3BOpen%20Sans%26quot%3B%2C%20verdana%2C%20arial%2C%20sans-serif%3B%20font-size%3A%2012px%3B%20fill%3A%20rgb(89%2C%2089%2C%2089)%3B%20fill-opacity%3A%201%3B%20white-space%3A%20pre%3B%22%3EHilary%20Mason%3C%2Ftext%3E%3C%2Fg%3E%3Cg%20class%3D%22xtick%22%3E%3Ctext%20text-anchor%3D%22start%22%20x%3D%220%22%20y%3D%22291.4%22%20data-unformatted%3D%22Oriol%20Vinyals%22%20data-math%3D%22N%22%20transform%3D%22translate(606.48%2C0)%20rotate(30%2C0%2C285.4)%22%20style%3D%22font-family%3A%20%26quot%3BOpen%20Sans%26quot%3B%2C%20verdana%2C%20arial%2C%20sans-serif%3B%20font-size%3A%2012px%3B%20fill%3A%20rgb(89%2C%2089%2C%2089)%3B%20fill-opacity%3A%201%3B%20white-space%3A%20pre%3B%22%3EOriol%20Vinyals%3C%2Ftext%3E%3C%2Fg%3E%3Cg%20class%3D%22xtick%22%3E%3Ctext%20text-anchor%3D%22start%22%20x%3D%220%22%20y%3D%22291.4%22%20data-unformatted%3D%22Randy%20Olson%22%20data-math%3D%22N%22%20transform%3D%22translate(701.45%2C0)%20rotate(30%2C0%2C285.4)%22%20style%3D%22font-family%3A%20%26quot%3BOpen%20Sans%26quot%3B%2C%20verdana%2C%20arial%2C%20sans-serif%3B%20font-size%3A%2012px%3B%20fill%3A%20rgb(89%2C%2089%2C%2089)%3B%20fill-opacity%3A%201%3B%20white-space%3A%20pre%3B%22%3ERandy%20Olson%3C%2Ftext%3E%3C%2Fg%3E%3Cg%20class%3D%22xtick%22%3E%3Ctext%20text-anchor%3D%22start%22%20x%3D%220%22%20y%3D%22291.4%22%20data-unformatted%3D%22Ilya%20Sutskever%22%20data-math%3D%22N%22%20transform%3D%22translate(796.42%2C0)%20rotate(30%2C0%2C285.4)%22%20style%3D%22font-family%3A%20%26quot%3BOpen%20Sans%26quot%3B%2C%20verdana%2C%20arial%2C%20sans-serif%3B%20font-size%3A%2012px%3B%20fill%3A%20rgb(89%2C%2089%2C%2089)%3B%20fill-opacity%3A%201%3B%20white-space%3A%20pre%3B%22%3EIlya%20Sutskever%3C%2Ftext%3E%3C%2Fg%3E%3Cg%20class%3D%22xtick%22%3E%3Ctext%20text-anchor%3D%22start%22%20x%3D%220%22%20y%3D%22291.4%22%20data-unformatted%3D%22Alvin%20Foo%22%20data-math%3D%22N%22%20transform%3D%22translate(891.38%2C0)%20rotate(30%2C0%2C285.4)%22%20style%3D%22font-family%3A%20%26quot%3BOpen%20Sans%26quot%3B%2C%20verdana%2C%20arial%2C%20sans-serif%3B%20font-size%3A%2012px%3B%20fill%3A%20rgb(89%2C%2089%2C%2089)%3B%20fill-opacity%3A%201%3B%20white-space%3A%20pre%3B%22%3EAlvin%20Foo%3C%2Ftext%3E%3C%2Fg%3E%3Cg%20class%3D%22xtick%22%3E%3Ctext%20text-anchor%3D%22start%22%20x%3D%220%22%20y%3D%22291.4%22%20data-unformatted%3D%22Ferenc%20Husz%C3%A1r%F0%9F%87%AA%F0%9F%87%BA%22%20data-math%3D%22N%22%20transform%3D%22translate(986.35%2C0)%20rotate(30%2C0%2C285.4)%22%20style%3D%22font-family%3A%20%26quot%3BOpen%20Sans%26quot%3B%2C%20verdana%2C%20arial%2C%20sans-serif%3B%20font-size%3A%2012px%3B%20fill%3A%20rgb(89%2C%2089%2C%2089)%3B%20fill-opacity%3A%201%3B%20white-space%3A%20pre%3B%22%3EFerenc%20Husz%C3%A1r%F0%9F%87%AA%F0%9F%87%BA%3C%2Ftext%3E%3C%2Fg%3E%3C%2Fg%3E%3Cg%20class%3D%22yaxislayer-above%22%3E%3Cg%20class%3D%22ytick%22%3E%3Ctext%20text-anchor%3D%22end%22%20x%3D%2276.6%22%20y%3D%224.199999999999999%22%20data-unformatted%3D%220%22%20data-math%3D%22N%22%20transform%3D%22translate(0%2C276)%22%20style%3D%22font-family%3A%20%26quot%3BOpen%20Sans%26quot%3B%2C%20verdana%2C%20arial%2C%20sans-serif%3B%20font-size%3A%2012px%3B%20fill%3A%20rgb(89%2C%2089%2C%2089)%3B%20fill-opacity%3A%201%3B%20white-space%3A%20pre%3B%22%3E0%3C%2Ftext%3E%3C%2Fg%3E%3Cg%20class%3D%22ytick%22%3E%3Ctext%20text-anchor%3D%22end%22%20x%3D%2276.6%22%20y%3D%224.199999999999999%22%20data-unformatted%3D%2210%22%20data-math%3D%22N%22%20transform%3D%22translate(0%2C234.9)%22%20style%3D%22font-family%3A%20%26quot%3BOpen%20Sans%26quot%3B%2C%20verdana%2C%20arial%2C%20sans-serif%3B%20font-size%3A%2012px%3B%20fill%3A%20rgb(89%2C%2089%2C%2089)%3B%20fill-opacity%3A%201%3B%20white-space%3A%20pre%3B%22%3E10%3C%2Ftext%3E%3C%2Fg%3E%3Cg%20class%3D%22ytick%22%3E%3Ctext%20text-anchor%3D%22end%22%20x%3D%2276.6%22%20y%3D%224.199999999999999%22%20data-unformatted%3D%2220%22%20data-math%3D%22N%22%20transform%3D%22translate(0%2C193.79)%22%20style%3D%22font-family%3A%20%26quot%3BOpen%20Sans%26quot%3B%2C%20verdana%2C%20arial%2C%20sans-serif%3B%20font-size%3A%2012px%3B%20fill%3A%20rgb(89%2C%2089%2C%2089)%3B%20fill-opacity%3A%201%3B%20white-space%3A%20pre%3B%22%3E20%3C%2Ftext%3E%3C%2Fg%3E%3Cg%20class%3D%22ytick%22%3E%3Ctext%20text-anchor%3D%22end%22%20x%3D%2276.6%22%20y%3D%224.199999999999999%22%20data-unformatted%3D%2230%22%20data-math%3D%22N%22%20transform%3D%22translate(0%2C152.69)%22%20style%3D%22font-family%3A%20%26quot%3BOpen%20Sans%26quot%3B%2C%20verdana%2C%20arial%2C%20sans-serif%3B%20font-size%3A%2012px%3B%20fill%3A%20rgb(89%2C%2089%2C%2089)%3B%20fill-opacity%3A%201%3B%20white-space%3A%20pre%3B%22%3E30%3C%2Ftext%3E%3C%2Fg%3E%3Cg%20class%3D%22ytick%22%3E%3Ctext%20text-anchor%3D%22end%22%20x%3D%2276.6%22%20y%3D%224.199999999999999%22%20data-unformatted%3D%2240%22%20data-math%3D%22N%22%20transform%3D%22translate(0%2C111.59)%22%20style%3D%22font-family%3A%20%26quot%3BOpen%20Sans%26quot%3B%2C%20verdana%2C%20arial%2C%20sans-serif%3B%20font-size%3A%2012px%3B%20fill%3A%20rgb(89%2C%2089%2C%2089)%3B%20fill-opacity%3A%201%3B%20white-space%3A%20pre%3B%22%3E40%3C%2Ftext%3E%3C%2Fg%3E%3Cg%20class%3D%22ytick%22%3E%3Ctext%20text-anchor%3D%22end%22%20x%3D%2276.6%22%20y%3D%224.199999999999999%22%20data-unformatted%3D%2250%22%20data-math%3D%22N%22%20transform%3D%22translate(0%2C70.47999999999999)%22%20style%3D%22font-family%3A%20%26quot%3BOpen%20Sans%26quot%3B%2C%20verdana%2C%20arial%2C%20sans-serif%3B%20font-size%3A%2012px%3B%20fill%3A%20rgb(89%2C%2089%2C%2089)%3B%20fill-opacity%3A%201%3B%20white-space%3A%20pre%3B%22%3E50%3C%2Ftext%3E%3C%2Fg%3E%3C%2Fg%3E%3Cg%20class%3D%22overaxes-above%22%3E%3Cg%20class%3D%22xy2-x%22%2F%3E%3Cg%20class%3D%22xy2-y%22%3E%3Cg%20class%3D%22y2tick%22%3E%3Ctext%20text-anchor%3D%22start%22%20x%3D%221039%22%20y%3D%224.199999999999999%22%20data-unformatted%3D%220%22%20data-math%3D%22N%22%20transform%3D%22translate(0%2C216.23)%22%20style%3D%22font-family%3A%20%26quot%3BOpen%20Sans%26quot%3B%2C%20verdana%2C%20arial%2C%20sans-serif%3B%20font-size%3A%2012px%3B%20fill%3A%20rgb(89%2C%2089%2C%2089)%3B%20fill-opacity%3A%201%3B%20white-space%3A%20pre%3B%22%3E0%3C%2Ftext%3E%3C%2Fg%3E%3Cg%20class%3D%22y2tick%22%3E%3Ctext%20text-anchor%3D%22start%22%20x%3D%221039%22%20y%3D%224.199999999999999%22%20data-unformatted%3D%220.5%22%20data-math%3D%22N%22%20transform%3D%22translate(0%2C154.73000000000002)%22%20style%3D%22font-family%3A%20%26quot%3BOpen%20Sans%26quot%3B%2C%20verdana%2C%20arial%2C%20sans-serif%3B%20font-size%3A%2012px%3B%20fill%3A%20rgb(89%2C%2089%2C%2089)%3B%20fill-opacity%3A%201%3B%20white-space%3A%20pre%3B%22%3E0.5%3C%2Ftext%3E%3C%2Fg%3E%3Cg%20class%3D%22y2tick%22%3E%3Ctext%20text-anchor%3D%22start%22%20x%3D%221039%22%20y%3D%224.199999999999999%22%20data-unformatted%3D%221%22%20data-math%3D%22N%22%20transform%3D%22translate(0%2C93.22999999999999)%22%20style%3D%22font-family%3A%20%26quot%3BOpen%20Sans%26quot%3B%2C%20verdana%2C%20arial%2C%20sans-serif%3B%20font-size%3A%2012px%3B%20fill%3A%20rgb(89%2C%2089%2C%2089)%3B%20fill-opacity%3A%201%3B%20white-space%3A%20pre%3B%22%3E1%3C%2Ftext%3E%3C%2Fg%3E%3Cg%20class%3D%22y2tick%22%3E%3Ctext%20text-anchor%3D%22start%22%20x%3D%221039%22%20y%3D%224.199999999999999%22%20data-unformatted%3D%221.5%22%20data-math%3D%22N%22%20transform%3D%22translate(0%2C31.73)%22%20style%3D%22font-family%3A%20%26quot%3BOpen%20Sans%26quot%3B%2C%20verdana%2C%20arial%2C%20sans-serif%3B%20font-size%3A%2012px%3B%20fill%3A%20rgb(89%2C%2089%2C%2089)%3B%20fill-opacity%3A%201%3B%20white-space%3A%20pre%3B%22%3E1.5%3C%2Ftext%3E%3C%2Fg%3E%3C%2Fg%3E%3C%2Fg%3E%3C%2Fg%3E%3Cg%20class%3D%22subplot%20xy2%22%2F%3E%3C%2Fg%3E%3Cg%20class%3D%22polarlayer%22%2F%3E%3Cg%20class%3D%22ternarylayer%22%2F%3E%3Cg%20class%3D%22geolayer%22%2F%3E%3Cg%20class%3D%22funnelarealayer%22%2F%3E%3Cg%20class%3D%22pielayer%22%2F%3E%3Cg%20class%3D%22treemaplayer%22%2F%3E%3Cg%20class%3D%22sunburstlayer%22%2F%3E%3Cg%20class%3D%22glimages%22%2F%3E%3Cdefs%20id%3D%22topdefs-e6f556%22%3E%3Cg%20class%3D%22clips%22%2F%3E%3CclipPath%20id%3D%22legende6f556%22%3E%3Crect%20width%3D%22126%22%20height%3D%2258%22%20x%3D%220%22%20y%3D%220%22%2F%3E%3C%2FclipPath%3E%3C%2Fdefs%3E%3Cg%20class%3D%22indicatorlayer%22%2F%3E%3Cg%20class%3D%22layer-above%22%3E%3Cg%20class%3D%22imagelayer%22%2F%3E%3Cg%20class%3D%22shapelayer%22%2F%3E%3C%2Fg%3E%3Cg%20class%3D%22infolayer%22%3E%3Cg%20class%3D%22legend%22%20pointer-events%3D%22all%22%20transform%3D%22translate(1057%2C30)%22%3E%3Crect%20class%3D%22bg%22%20shape-rendering%3D%22crispEdges%22%20style%3D%22stroke%3A%20rgb(68%2C%2068%2C%2068)%3B%20stroke-opacity%3A%201%3B%20fill%3A%20rgb(255%2C%20255%2C%20255)%3B%20fill-opacity%3A%201%3B%20stroke-width%3A%200px%3B%22%20width%3D%22126%22%20height%3D%2258%22%20x%3D%220%22%20y%3D%220%22%2F%3E%3Cg%20class%3D%22scrollbox%22%20transform%3D%22%22%20clip-path%3D%22url('%23legende6f556')%22%3E%3Cg%20class%3D%22groups%22%20transform%3D%22%22%3E%3Cg%20class%3D%22traces%22%20style%3D%22opacity%3A%201%3B%22%20transform%3D%22translate(0%2C14.5)%22%3E%3Ctext%20class%3D%22legendtext%22%20text-anchor%3D%22start%22%20x%3D%2240%22%20y%3D%224.680000000000001%22%20data-unformatted%3D%22replies%22%20data-math%3D%22N%22%20style%3D%22font-family%3A%20%26quot%3BOpen%20Sans%26quot%3B%2C%20verdana%2C%20arial%2C%20sans-serif%3B%20font-size%3A%2012px%3B%20fill%3A%20rgb(89%2C%2089%2C%2089)%3B%20fill-opacity%3A%201%3B%20white-space%3A%20pre%3B%22%3Ereplies%3C%2Ftext%3E%3Cg%20class%3D%22layers%22%20style%3D%22opacity%3A%201%3B%22%3E%3Cg%20class%3D%22legendfill%22%2F%3E%3Cg%20class%3D%22legendlines%22%2F%3E%3Cg%20class%3D%22legendsymbols%22%3E%3Cg%20class%3D%22legendpoints%22%3E%3Cpath%20class%3D%22legendundefined%22%20d%3D%22M6%2C6H-6V-6H6Z%22%20transform%3D%22translate(20%2C0)%22%20style%3D%22stroke-width%3A%200px%3B%20fill%3A%20rgb(78%2C%20121%2C%20167)%3B%20fill-opacity%3A%201%3B%22%2F%3E%3C%2Fg%3E%3C%2Fg%3E%3C%2Fg%3E%3Crect%20class%3D%22legendtoggle%22%20pointer-events%3D%22all%22%20x%3D%220%22%20y%3D%22-9.5%22%20width%3D%22120.984375%22%20height%3D%2219%22%20style%3D%22cursor%3A%20pointer%3B%20fill%3A%20rgb(0%2C%200%2C%200)%3B%20fill-opacity%3A%200%3B%22%2F%3E%3C%2Fg%3E%3C%2Fg%3E%3Cg%20class%3D%22groups%22%20transform%3D%22translate(0%2C10)%22%3E%3Cg%20class%3D%22traces%22%20style%3D%22opacity%3A%201%3B%22%20transform%3D%22translate(0%2C33.5)%22%3E%3Ctext%20class%3D%22legendtext%22%20text-anchor%3D%22start%22%20x%3D%2240%22%20y%3D%224.680000000000001%22%20data-unformatted%3D%22replies_mean%22%20data-math%3D%22N%22%20style%3D%22font-family%3A%20%26quot%3BOpen%20Sans%26quot%3B%2C%20verdana%2C%20arial%2C%20sans-serif%3B%20font-size%3A%2012px%3B%20fill%3A%20rgb(89%2C%2089%2C%2089)%3B%20fill-opacity%3A%201%3B%20white-space%3A%20pre%3B%22%3Ereplies_mean%3C%2Ftext%3E%3Cg%20class%3D%22layers%22%20style%3D%22opacity%3A%201%3B%22%3E%3Cg%20class%3D%22legendfill%22%2F%3E%3Cg%20class%3D%22legendlines%22%3E%3Cpath%20class%3D%22js-line%22%20d%3D%22M5%2C0h30%22%20style%3D%22fill%3A%20none%3B%20stroke%3A%20rgb(242%2C%20142%2C%2044)%3B%20stroke-opacity%3A%201%3B%20stroke-width%3A%202px%3B%22%2F%3E%3C%2Fg%3E%3Cg%20class%3D%22legendsymbols%22%3E%3Cg%20class%3D%22legendpoints%22%3E%3Cpath%20class%3D%22scatterpts%22%20transform%3D%22translate(20%2C0)%22%20d%3D%22M3%2C0A3%2C3%200%201%2C1%200%2C-3A3%2C3%200%200%2C1%203%2C0Z%22%20style%3D%22opacity%3A%201%3B%20stroke-width%3A%200px%3B%20fill%3A%20rgb(242%2C%20142%2C%2044)%3B%20fill-opacity%3A%201%3B%22%2F%3E%3Cg%20class%3D%22pointtext%22%20transform%3D%22translate(0%2C12.25)%22%3E%3Ctext%20transform%3D%22translate(20%2C0)%22%20data-unformatted%3D%22Aa%22%20data-math%3D%22N%22%20x%3D%220%22%20y%3D%220%22%20text-anchor%3D%22middle%22%20style%3D%22font-family%3A%20%26quot%3BOpen%20Sans%26quot%3B%2C%20verdana%2C%20arial%2C%20sans-serif%3B%20font-size%3A%2010px%3B%20fill%3A%20rgb(89%2C%2089%2C%2089)%3B%20fill-opacity%3A%201%3B%20white-space%3A%20pre%3B%22%3EAa%3C%2Ftext%3E%3C%2Fg%3E%3C%2Fg%3E%3C%2Fg%3E%3C%2Fg%3E%3Crect%20class%3D%22legendtoggle%22%20pointer-events%3D%22all%22%20x%3D%220%22%20y%3D%22-9.5%22%20width%3D%22120.984375%22%20height%3D%2219%22%20style%3D%22cursor%3A%20pointer%3B%20fill%3A%20rgb(0%2C%200%2C%200)%3B%20fill-opacity%3A%200%3B%22%2F%3E%3C%2Fg%3E%3C%2Fg%3E%3C%2Fg%3E%3Crect%20class%3D%22scrollbar%22%20rx%3D%2220%22%20ry%3D%223%22%20width%3D%220%22%20height%3D%220%22%20style%3D%22fill%3A%20rgb(128%2C%20139%2C%20164)%3B%20fill-opacity%3A%201%3B%22%20x%3D%220%22%20y%3D%220%22%2F%3E%3C%2Fg%3E%3Cg%20class%3D%22g-gtitle%22%2F%3E%3Cg%20class%3D%22g-xtitle%22%2F%3E%3Cg%20class%3D%22g-ytitle%22%2F%3E%3Cg%20class%3D%22g-y2title%22%2F%3E%3C%2Fg%3E%3Cg%20class%3D%22menulayer%22%2F%3E%3Cg%20class%3D%22zoomlayer%22%2F%3E%3Cg%20class%3D%22hoverlayer%22%2F%3E%3C%2Fsvg%3E\">"
      ],
      "text/plain": [
       "Open the notebook in JupyterLab with the atoti extension enabled to build this widget."
      ]
     },
     "metadata": {},
     "output_type": "display_data"
    }
   ],
   "source": [
    "session.visualize(\"Top 10 influencers - Number of replies per tweet\")"
   ]
  },
  {
   "cell_type": "markdown",
   "metadata": {},
   "source": [
    "#### Top 10 influencers - Number of retweets and quotes per tweet"
   ]
  },
  {
   "cell_type": "code",
   "execution_count": 17,
   "metadata": {
    "atoti": {
     "widget": {
      "filters": [
       "TopCount(Filter([influencer].[name].Levels(1).Members, NOT IsEmpty([Measures].[retweets_quotes])), 10, [Measures].[retweets_quotes])"
      ],
      "mapping": {
       "columnValues": [
        "[Measures].[retweets_quotes]"
       ],
       "horizontalSubplots": [],
       "lineValues": [
        "[Measures].[retweets_quotes_mean]"
       ],
       "verticalSubplots": [],
       "xAxis": [
        "[influencer].[name].[name]"
       ]
      },
      "query": {
       "mdx": "SELECT NON EMPTY Order(Hierarchize(Descendants({[influencer].[name].[AllMember]}, 1, SELF_AND_BEFORE)), [Measures].[retweets_quotes], BDESC) ON ROWS, NON EMPTY {[Measures].[retweets_quotes], [Measures].[retweets_quotes_mean]} ON COLUMNS FROM [influencer_cube]",
       "updateMode": "once"
      },
      "serverKey": "default",
      "widgetKey": "plotly-clustered-column-and-line-chart"
     }
    },
    "tags": []
   },
   "outputs": [
    {
     "data": {
      "application/vnd.atoti.widget.v0+json": {
       "name": "Top 10 influencers - Number of retweets and quotes per tweet",
       "sessionId": "1674717365_VNWIH9",
       "sessionLocation": {
        "https": false,
        "port": 60114
       },
       "widgetCreationCode": "session.visualize()"
      },
      "text/html": [
       "<img src=\"data:image/svg+xml;charset=utf8,%3C%3Fxml%20version%3D%221.0%22%20standalone%3D%22no%22%3F%3E%3Csvg%20xmlns%3D%22http%3A%2F%2Fwww.w3.org%2F2000%2Fsvg%22%20xmlns%3Axlink%3D%22http%3A%2F%2Fwww.w3.org%2F1999%2Fxlink%22%20height%3D%22352%22%20width%3D%221183%22%20viewBox%3D%220%200%201183%20352%22%3E%3Cdefs%20id%3D%22defs-efb9cc%22%3E%3Cg%20class%3D%22clips%22%3E%3CclipPath%20id%3D%22clipefb9ccxyplot%22%20class%3D%22plotclip%22%3E%3Crect%20width%3D%22898%22%20height%3D%22197%22%2F%3E%3C%2FclipPath%3E%3CclipPath%20id%3D%22clipefb9ccxy2plot%22%20class%3D%22plotclip%22%3E%3Crect%20width%3D%22898%22%20height%3D%22197%22%2F%3E%3C%2FclipPath%3E%3CclipPath%20class%3D%22axesclip%22%20id%3D%22clipefb9ccx%22%3E%3Crect%20x%3D%2280%22%20y%3D%220%22%20width%3D%22898%22%20height%3D%22352%22%2F%3E%3C%2FclipPath%3E%3CclipPath%20class%3D%22axesclip%22%20id%3D%22clipefb9ccy%22%3E%3Crect%20x%3D%220%22%20y%3D%2230%22%20width%3D%221183%22%20height%3D%22197%22%2F%3E%3C%2FclipPath%3E%3CclipPath%20class%3D%22axesclip%22%20id%3D%22clipefb9ccxy%22%3E%3Crect%20x%3D%2280%22%20y%3D%2230%22%20width%3D%22898%22%20height%3D%22197%22%2F%3E%3C%2FclipPath%3E%3CclipPath%20class%3D%22axesclip%22%20id%3D%22clipefb9ccy2%22%3E%3Crect%20x%3D%220%22%20y%3D%2230%22%20width%3D%221183%22%20height%3D%22197%22%2F%3E%3C%2FclipPath%3E%3CclipPath%20class%3D%22axesclip%22%20id%3D%22clipefb9ccxy2%22%3E%3Crect%20x%3D%2280%22%20y%3D%2230%22%20width%3D%22898%22%20height%3D%22197%22%2F%3E%3C%2FclipPath%3E%3C%2Fg%3E%3Cg%20class%3D%22gradients%22%2F%3E%3C%2Fdefs%3E%3Cg%20class%3D%22bglayer%22%2F%3E%3Cg%20class%3D%22draglayer%20cursor-crosshair%22%3E%3Cg%20class%3D%22xy%22%3E%3Crect%20class%3D%22nsewdrag%20drag%22%20data-subplot%3D%22xy%22%20x%3D%2280%22%20y%3D%2230%22%20width%3D%22898%22%20height%3D%22197%22%20style%3D%22fill%3A%20transparent%3B%20stroke-width%3A%200%3B%20pointer-events%3A%20all%3B%22%2F%3E%3Crect%20class%3D%22nwdrag%20drag%20cursor-nw-resize%22%20data-subplot%3D%22xy%22%20x%3D%2260%22%20y%3D%2210%22%20width%3D%2220%22%20height%3D%2220%22%20style%3D%22fill%3A%20transparent%3B%20stroke-width%3A%200%3B%20pointer-events%3A%20all%3B%22%2F%3E%3Crect%20class%3D%22nedrag%20drag%20cursor-ne-resize%22%20data-subplot%3D%22xy%22%20x%3D%22978%22%20y%3D%2210%22%20width%3D%2220%22%20height%3D%2220%22%20style%3D%22fill%3A%20transparent%3B%20stroke-width%3A%200%3B%20pointer-events%3A%20all%3B%22%2F%3E%3Crect%20class%3D%22swdrag%20drag%20cursor-sw-resize%22%20data-subplot%3D%22xy%22%20x%3D%2260%22%20y%3D%22227%22%20width%3D%2220%22%20height%3D%2220%22%20style%3D%22fill%3A%20transparent%3B%20stroke-width%3A%200%3B%20pointer-events%3A%20all%3B%22%2F%3E%3Crect%20class%3D%22sedrag%20drag%20cursor-se-resize%22%20data-subplot%3D%22xy%22%20x%3D%22978%22%20y%3D%22227%22%20width%3D%2220%22%20height%3D%2220%22%20style%3D%22fill%3A%20transparent%3B%20stroke-width%3A%200%3B%20pointer-events%3A%20all%3B%22%2F%3E%3Crect%20class%3D%22ewdrag%20drag%20cursor-ew-resize%22%20data-subplot%3D%22xy%22%20x%3D%22169.8%22%20y%3D%22227.5%22%20width%3D%22718.4000000000001%22%20height%3D%2220%22%20style%3D%22fill%3A%20transparent%3B%20stroke-width%3A%200%3B%20pointer-events%3A%20all%3B%22%2F%3E%3Crect%20class%3D%22wdrag%20drag%20cursor-w-resize%22%20data-subplot%3D%22xy%22%20x%3D%2280%22%20y%3D%22227.5%22%20width%3D%2289.80000000000001%22%20height%3D%2220%22%20style%3D%22fill%3A%20transparent%3B%20stroke-width%3A%200%3B%20pointer-events%3A%20all%3B%22%2F%3E%3Crect%20class%3D%22edrag%20drag%20cursor-e-resize%22%20data-subplot%3D%22xy%22%20x%3D%22888.2%22%20y%3D%22227.5%22%20width%3D%2289.80000000000001%22%20height%3D%2220%22%20style%3D%22fill%3A%20transparent%3B%20stroke-width%3A%200%3B%20pointer-events%3A%20all%3B%22%2F%3E%3Crect%20class%3D%22nsdrag%20drag%20cursor-ns-resize%22%20data-subplot%3D%22xy%22%20x%3D%2259.5%22%20y%3D%2249.7%22%20width%3D%2220%22%20height%3D%22157.60000000000002%22%20style%3D%22fill%3A%20transparent%3B%20stroke-width%3A%200%3B%20pointer-events%3A%20all%3B%22%2F%3E%3Crect%20class%3D%22sdrag%20drag%20cursor-s-resize%22%20data-subplot%3D%22xy%22%20x%3D%2259.5%22%20y%3D%22207.3%22%20width%3D%2220%22%20height%3D%2219.700000000000003%22%20style%3D%22fill%3A%20transparent%3B%20stroke-width%3A%200%3B%20pointer-events%3A%20all%3B%22%2F%3E%3Crect%20class%3D%22ndrag%20drag%20cursor-n-resize%22%20data-subplot%3D%22xy%22%20x%3D%2259.5%22%20y%3D%2230%22%20width%3D%2220%22%20height%3D%2219.700000000000003%22%20style%3D%22fill%3A%20transparent%3B%20stroke-width%3A%200%3B%20pointer-events%3A%20all%3B%22%2F%3E%3C%2Fg%3E%3Cg%20class%3D%22xy2%22%3E%3Crect%20class%3D%22nsdrag%20drag%20cursor-ns-resize%22%20data-subplot%3D%22xy2%22%20x%3D%22978.5%22%20y%3D%2249.7%22%20width%3D%2220%22%20height%3D%22157.60000000000002%22%20style%3D%22fill%3A%20transparent%3B%20stroke-width%3A%200%3B%20pointer-events%3A%20all%3B%22%2F%3E%3Crect%20class%3D%22sdrag%20drag%20cursor-s-resize%22%20data-subplot%3D%22xy2%22%20x%3D%22978.5%22%20y%3D%22207.3%22%20width%3D%2220%22%20height%3D%2219.700000000000003%22%20style%3D%22fill%3A%20transparent%3B%20stroke-width%3A%200%3B%20pointer-events%3A%20all%3B%22%2F%3E%3Crect%20class%3D%22ndrag%20drag%20cursor-n-resize%22%20data-subplot%3D%22xy2%22%20x%3D%22978.5%22%20y%3D%2230%22%20width%3D%2220%22%20height%3D%2219.700000000000003%22%20style%3D%22fill%3A%20transparent%3B%20stroke-width%3A%200%3B%20pointer-events%3A%20all%3B%22%2F%3E%3C%2Fg%3E%3C%2Fg%3E%3Cg%20class%3D%22layer-below%22%3E%3Cg%20class%3D%22imagelayer%22%2F%3E%3Cg%20class%3D%22shapelayer%22%2F%3E%3C%2Fg%3E%3Cg%20class%3D%22cartesianlayer%22%3E%3Cg%20class%3D%22subplot%20xy%22%3E%3Cg%20class%3D%22layer-subplot%22%3E%3Cg%20class%3D%22shapelayer%22%2F%3E%3Cg%20class%3D%22imagelayer%22%2F%3E%3C%2Fg%3E%3Cg%20class%3D%22gridlayer%22%3E%3Cg%20class%3D%22x%22%3E%3Cpath%20class%3D%22xgrid%20crisp%22%20transform%3D%22translate(128.65%2C0)%22%20d%3D%22M0%2C30v197%22%20style%3D%22stroke%3A%20rgb(0%2C%200%2C%200)%3B%20stroke-opacity%3A%200%3B%20stroke-width%3A%201px%3B%22%2F%3E%3Cpath%20class%3D%22xgrid%20crisp%22%20transform%3D%22translate(217.62%2C0)%22%20d%3D%22M0%2C30v197%22%20style%3D%22stroke%3A%20rgb(0%2C%200%2C%200)%3B%20stroke-opacity%3A%200%3B%20stroke-width%3A%201px%3B%22%2F%3E%3Cpath%20class%3D%22xgrid%20crisp%22%20transform%3D%22translate(306.58000000000004%2C0)%22%20d%3D%22M0%2C30v197%22%20style%3D%22stroke%3A%20rgb(0%2C%200%2C%200)%3B%20stroke-opacity%3A%200%3B%20stroke-width%3A%201px%3B%22%2F%3E%3Cpath%20class%3D%22xgrid%20crisp%22%20transform%3D%22translate(395.55%2C0)%22%20d%3D%22M0%2C30v197%22%20style%3D%22stroke%3A%20rgb(0%2C%200%2C%200)%3B%20stroke-opacity%3A%200%3B%20stroke-width%3A%201px%3B%22%2F%3E%3Cpath%20class%3D%22xgrid%20crisp%22%20transform%3D%22translate(484.52%2C0)%22%20d%3D%22M0%2C30v197%22%20style%3D%22stroke%3A%20rgb(0%2C%200%2C%200)%3B%20stroke-opacity%3A%200%3B%20stroke-width%3A%201px%3B%22%2F%3E%3Cpath%20class%3D%22xgrid%20crisp%22%20transform%3D%22translate(573.48%2C0)%22%20d%3D%22M0%2C30v197%22%20style%3D%22stroke%3A%20rgb(0%2C%200%2C%200)%3B%20stroke-opacity%3A%200%3B%20stroke-width%3A%201px%3B%22%2F%3E%3Cpath%20class%3D%22xgrid%20crisp%22%20transform%3D%22translate(662.45%2C0)%22%20d%3D%22M0%2C30v197%22%20style%3D%22stroke%3A%20rgb(0%2C%200%2C%200)%3B%20stroke-opacity%3A%200%3B%20stroke-width%3A%201px%3B%22%2F%3E%3Cpath%20class%3D%22xgrid%20crisp%22%20transform%3D%22translate(751.42%2C0)%22%20d%3D%22M0%2C30v197%22%20style%3D%22stroke%3A%20rgb(0%2C%200%2C%200)%3B%20stroke-opacity%3A%200%3B%20stroke-width%3A%201px%3B%22%2F%3E%3Cpath%20class%3D%22xgrid%20crisp%22%20transform%3D%22translate(840.38%2C0)%22%20d%3D%22M0%2C30v197%22%20style%3D%22stroke%3A%20rgb(0%2C%200%2C%200)%3B%20stroke-opacity%3A%200%3B%20stroke-width%3A%201px%3B%22%2F%3E%3Cpath%20class%3D%22xgrid%20crisp%22%20transform%3D%22translate(929.35%2C0)%22%20d%3D%22M0%2C30v197%22%20style%3D%22stroke%3A%20rgb(0%2C%200%2C%200)%3B%20stroke-opacity%3A%200%3B%20stroke-width%3A%201px%3B%22%2F%3E%3C%2Fg%3E%3Cg%20class%3D%22y%22%3E%3Cpath%20class%3D%22ygrid%20crisp%22%20transform%3D%22translate(0%2C184.89)%22%20d%3D%22M80%2C0h898%22%20style%3D%22stroke%3A%20rgb(89%2C%2089%2C%2089)%3B%20stroke-opacity%3A%200.25%3B%20stroke-width%3A%201px%3B%22%2F%3E%3Cpath%20class%3D%22ygrid%20crisp%22%20transform%3D%22translate(0%2C142.76999999999998)%22%20d%3D%22M80%2C0h898%22%20style%3D%22stroke%3A%20rgb(89%2C%2089%2C%2089)%3B%20stroke-opacity%3A%200.25%3B%20stroke-width%3A%201px%3B%22%2F%3E%3Cpath%20class%3D%22ygrid%20crisp%22%20transform%3D%22translate(0%2C100.66)%22%20d%3D%22M80%2C0h898%22%20style%3D%22stroke%3A%20rgb(89%2C%2089%2C%2089)%3B%20stroke-opacity%3A%200.25%3B%20stroke-width%3A%201px%3B%22%2F%3E%3Cpath%20class%3D%22ygrid%20crisp%22%20transform%3D%22translate(0%2C58.55)%22%20d%3D%22M80%2C0h898%22%20style%3D%22stroke%3A%20rgb(89%2C%2089%2C%2089)%3B%20stroke-opacity%3A%200.25%3B%20stroke-width%3A%201px%3B%22%2F%3E%3C%2Fg%3E%3Cg%20class%3D%22y2%22%3E%3Cpath%20class%3D%22y2grid%20crisp%22%20transform%3D%22translate(0%2C177.75)%22%20d%3D%22M80%2C0h898%22%20style%3D%22stroke%3A%20rgb(238%2C%20238%2C%20238)%3B%20stroke-opacity%3A%201%3B%20stroke-width%3A%201px%3B%22%2F%3E%3Cpath%20class%3D%22y2grid%20crisp%22%20transform%3D%22translate(0%2C128.5)%22%20d%3D%22M80%2C0h898%22%20style%3D%22stroke%3A%20rgb(238%2C%20238%2C%20238)%3B%20stroke-opacity%3A%201%3B%20stroke-width%3A%201px%3B%22%2F%3E%3Cpath%20class%3D%22y2grid%20crisp%22%20transform%3D%22translate(0%2C79.25)%22%20d%3D%22M80%2C0h898%22%20style%3D%22stroke%3A%20rgb(238%2C%20238%2C%20238)%3B%20stroke-opacity%3A%201%3B%20stroke-width%3A%201px%3B%22%2F%3E%3C%2Fg%3E%3C%2Fg%3E%3Cg%20class%3D%22zerolinelayer%22%3E%3Cpath%20class%3D%22yzl%20zl%20crisp%22%20transform%3D%22translate(0%2C227)%22%20d%3D%22M80%2C0h898%22%20style%3D%22stroke%3A%20rgb(89%2C%2089%2C%2089)%3B%20stroke-opacity%3A%200.5%3B%20stroke-width%3A%201px%3B%22%2F%3E%3C%2Fg%3E%3Cpath%20class%3D%22xlines-below%22%2F%3E%3Cpath%20class%3D%22ylines-below%22%2F%3E%3Cg%20class%3D%22overlines-below%22%3E%3Cpath%20class%3D%22xy2-x%22%2F%3E%3Cpath%20class%3D%22xy2-y%22%2F%3E%3C%2Fg%3E%3Cg%20class%3D%22xaxislayer-below%22%2F%3E%3Cg%20class%3D%22yaxislayer-below%22%2F%3E%3Cg%20class%3D%22overaxes-below%22%3E%3Cg%20class%3D%22xy2-x%22%2F%3E%3Cg%20class%3D%22xy2-y%22%2F%3E%3C%2Fg%3E%3Cg%20class%3D%22plot%22%20transform%3D%22translate(80%2C30)%22%20clip-path%3D%22url('%23clipefb9ccxyplot')%22%3E%3Cg%20class%3D%22barlayer%20mlayer%22%3E%3Cg%20class%3D%22trace%20bars%22%20style%3D%22opacity%3A%201%3B%22%3E%3Cg%20class%3D%22points%22%3E%3Cg%20class%3D%22point%22%3E%3Cpath%20d%3D%22M13.06%2C197V9.85H84.24V197Z%22%20style%3D%22vector-effect%3A%20non-scaling-stroke%3B%20opacity%3A%201%3B%20stroke-width%3A%200px%3B%20fill%3A%20rgb(78%2C%20121%2C%20167)%3B%20fill-opacity%3A%201%3B%22%2F%3E%3C%2Fg%3E%3Cg%20class%3D%22point%22%3E%3Cpath%20d%3D%22M102.03%2C197V26.95H173.2V197Z%22%20style%3D%22vector-effect%3A%20non-scaling-stroke%3B%20opacity%3A%201%3B%20stroke-width%3A%200px%3B%20fill%3A%20rgb(78%2C%20121%2C%20167)%3B%20fill-opacity%3A%201%3B%22%2F%3E%3C%2Fg%3E%3Cg%20class%3D%22point%22%3E%3Cpath%20d%3D%22M191%2C197V51.5H262.17V197Z%22%20style%3D%22vector-effect%3A%20non-scaling-stroke%3B%20opacity%3A%201%3B%20stroke-width%3A%200px%3B%20fill%3A%20rgb(78%2C%20121%2C%20167)%3B%20fill-opacity%3A%201%3B%22%2F%3E%3C%2Fg%3E%3Cg%20class%3D%22point%22%3E%3Cpath%20d%3D%22M279.96%2C197V59.8H351.14V197Z%22%20style%3D%22vector-effect%3A%20non-scaling-stroke%3B%20opacity%3A%201%3B%20stroke-width%3A%200px%3B%20fill%3A%20rgb(78%2C%20121%2C%20167)%3B%20fill-opacity%3A%201%3B%22%2F%3E%3C%2Fg%3E%3Cg%20class%3D%22point%22%3E%3Cpath%20d%3D%22M368.93%2C197V65.94H440.1V197Z%22%20style%3D%22vector-effect%3A%20non-scaling-stroke%3B%20opacity%3A%201%3B%20stroke-width%3A%200px%3B%20fill%3A%20rgb(78%2C%20121%2C%20167)%3B%20fill-opacity%3A%201%3B%22%2F%3E%3C%2Fg%3E%3Cg%20class%3D%22point%22%3E%3Cpath%20d%3D%22M457.9%2C197V80.64H529.07V197Z%22%20style%3D%22vector-effect%3A%20non-scaling-stroke%3B%20opacity%3A%201%3B%20stroke-width%3A%200px%3B%20fill%3A%20rgb(78%2C%20121%2C%20167)%3B%20fill-opacity%3A%201%3B%22%2F%3E%3C%2Fg%3E%3Cg%20class%3D%22point%22%3E%3Cpath%20d%3D%22M546.86%2C197V87.34H618.04V197Z%22%20style%3D%22vector-effect%3A%20non-scaling-stroke%3B%20opacity%3A%201%3B%20stroke-width%3A%200px%3B%20fill%3A%20rgb(78%2C%20121%2C%20167)%3B%20fill-opacity%3A%201%3B%22%2F%3E%3C%2Fg%3E%3Cg%20class%3D%22point%22%3E%3Cpath%20d%3D%22M635.83%2C197V98.58H707V197Z%22%20style%3D%22vector-effect%3A%20non-scaling-stroke%3B%20opacity%3A%201%3B%20stroke-width%3A%200px%3B%20fill%3A%20rgb(78%2C%20121%2C%20167)%3B%20fill-opacity%3A%201%3B%22%2F%3E%3C%2Fg%3E%3Cg%20class%3D%22point%22%3E%3Cpath%20d%3D%22M724.8%2C197V125.58H795.97V197Z%22%20style%3D%22vector-effect%3A%20non-scaling-stroke%3B%20opacity%3A%201%3B%20stroke-width%3A%200px%3B%20fill%3A%20rgb(78%2C%20121%2C%20167)%3B%20fill-opacity%3A%201%3B%22%2F%3E%3C%2Fg%3E%3Cg%20class%3D%22point%22%3E%3Cpath%20d%3D%22M813.76%2C197V132.48H884.94V197Z%22%20style%3D%22vector-effect%3A%20non-scaling-stroke%3B%20opacity%3A%201%3B%20stroke-width%3A%200px%3B%20fill%3A%20rgb(78%2C%20121%2C%20167)%3B%20fill-opacity%3A%201%3B%22%2F%3E%3C%2Fg%3E%3C%2Fg%3E%3C%2Fg%3E%3C%2Fg%3E%3C%2Fg%3E%3Cg%20class%3D%22overplot%22%3E%3Cg%20class%3D%22xy2%22%20transform%3D%22translate(80%2C30)%22%20clip-path%3D%22url('%23clipefb9ccxy2plot')%22%3E%3Cg%20class%3D%22scatterlayer%20mlayer%22%3E%3Cg%20class%3D%22trace%20scatter%20tracefb9395%22%20style%3D%22stroke-miterlimit%3A%202%3B%20opacity%3A%201%3B%22%3E%3Cg%20class%3D%22fills%22%2F%3E%3Cg%20class%3D%22errorbars%22%2F%3E%3Cg%20class%3D%22lines%22%3E%3Cpath%20class%3D%22js-line%22%20d%3D%22M48.65%2C98.5L849.35%2C98.5%22%20style%3D%22vector-effect%3A%20non-scaling-stroke%3B%20fill%3A%20none%3B%20stroke%3A%20rgb(242%2C%20142%2C%2044)%3B%20stroke-opacity%3A%201%3B%20stroke-width%3A%202px%3B%20opacity%3A%201%3B%22%2F%3E%3C%2Fg%3E%3Cg%20class%3D%22points%22%3E%3Cpath%20class%3D%22point%22%20transform%3D%22translate(48.65%2C98.5)%22%20d%3D%22M3%2C0A3%2C3%200%201%2C1%200%2C-3A3%2C3%200%200%2C1%203%2C0Z%22%20style%3D%22opacity%3A%201%3B%20stroke-width%3A%200px%3B%20fill%3A%20rgb(242%2C%20142%2C%2044)%3B%20fill-opacity%3A%201%3B%22%2F%3E%3Cpath%20class%3D%22point%22%20transform%3D%22translate(137.62%2C98.5)%22%20d%3D%22M3%2C0A3%2C3%200%201%2C1%200%2C-3A3%2C3%200%200%2C1%203%2C0Z%22%20style%3D%22opacity%3A%201%3B%20stroke-width%3A%200px%3B%20fill%3A%20rgb(242%2C%20142%2C%2044)%3B%20fill-opacity%3A%201%3B%22%2F%3E%3Cpath%20class%3D%22point%22%20transform%3D%22translate(226.58%2C98.5)%22%20d%3D%22M3%2C0A3%2C3%200%201%2C1%200%2C-3A3%2C3%200%200%2C1%203%2C0Z%22%20style%3D%22opacity%3A%201%3B%20stroke-width%3A%200px%3B%20fill%3A%20rgb(242%2C%20142%2C%2044)%3B%20fill-opacity%3A%201%3B%22%2F%3E%3Cpath%20class%3D%22point%22%20transform%3D%22translate(315.55%2C98.5)%22%20d%3D%22M3%2C0A3%2C3%200%201%2C1%200%2C-3A3%2C3%200%200%2C1%203%2C0Z%22%20style%3D%22opacity%3A%201%3B%20stroke-width%3A%200px%3B%20fill%3A%20rgb(242%2C%20142%2C%2044)%3B%20fill-opacity%3A%201%3B%22%2F%3E%3Cpath%20class%3D%22point%22%20transform%3D%22translate(404.52%2C98.5)%22%20d%3D%22M3%2C0A3%2C3%200%201%2C1%200%2C-3A3%2C3%200%200%2C1%203%2C0Z%22%20style%3D%22opacity%3A%201%3B%20stroke-width%3A%200px%3B%20fill%3A%20rgb(242%2C%20142%2C%2044)%3B%20fill-opacity%3A%201%3B%22%2F%3E%3Cpath%20class%3D%22point%22%20transform%3D%22translate(493.48%2C98.5)%22%20d%3D%22M3%2C0A3%2C3%200%201%2C1%200%2C-3A3%2C3%200%200%2C1%203%2C0Z%22%20style%3D%22opacity%3A%201%3B%20stroke-width%3A%200px%3B%20fill%3A%20rgb(242%2C%20142%2C%2044)%3B%20fill-opacity%3A%201%3B%22%2F%3E%3Cpath%20class%3D%22point%22%20transform%3D%22translate(582.45%2C98.5)%22%20d%3D%22M3%2C0A3%2C3%200%201%2C1%200%2C-3A3%2C3%200%200%2C1%203%2C0Z%22%20style%3D%22opacity%3A%201%3B%20stroke-width%3A%200px%3B%20fill%3A%20rgb(242%2C%20142%2C%2044)%3B%20fill-opacity%3A%201%3B%22%2F%3E%3Cpath%20class%3D%22point%22%20transform%3D%22translate(671.42%2C98.5)%22%20d%3D%22M3%2C0A3%2C3%200%201%2C1%200%2C-3A3%2C3%200%200%2C1%203%2C0Z%22%20style%3D%22opacity%3A%201%3B%20stroke-width%3A%200px%3B%20fill%3A%20rgb(242%2C%20142%2C%2044)%3B%20fill-opacity%3A%201%3B%22%2F%3E%3Cpath%20class%3D%22point%22%20transform%3D%22translate(760.38%2C98.5)%22%20d%3D%22M3%2C0A3%2C3%200%201%2C1%200%2C-3A3%2C3%200%200%2C1%203%2C0Z%22%20style%3D%22opacity%3A%201%3B%20stroke-width%3A%200px%3B%20fill%3A%20rgb(242%2C%20142%2C%2044)%3B%20fill-opacity%3A%201%3B%22%2F%3E%3Cpath%20class%3D%22point%22%20transform%3D%22translate(849.35%2C98.5)%22%20d%3D%22M3%2C0A3%2C3%200%201%2C1%200%2C-3A3%2C3%200%200%2C1%203%2C0Z%22%20style%3D%22opacity%3A%201%3B%20stroke-width%3A%200px%3B%20fill%3A%20rgb(242%2C%20142%2C%2044)%3B%20fill-opacity%3A%201%3B%22%2F%3E%3C%2Fg%3E%3Cg%20class%3D%22text%22%3E%3Cg%20class%3D%22textpoint%22%2F%3E%3Cg%20class%3D%22textpoint%22%2F%3E%3Cg%20class%3D%22textpoint%22%2F%3E%3Cg%20class%3D%22textpoint%22%2F%3E%3Cg%20class%3D%22textpoint%22%2F%3E%3Cg%20class%3D%22textpoint%22%2F%3E%3Cg%20class%3D%22textpoint%22%2F%3E%3Cg%20class%3D%22textpoint%22%2F%3E%3Cg%20class%3D%22textpoint%22%2F%3E%3Cg%20class%3D%22textpoint%22%2F%3E%3C%2Fg%3E%3C%2Fg%3E%3C%2Fg%3E%3C%2Fg%3E%3C%2Fg%3E%3Cpath%20class%3D%22xlines-above%20crisp%22%20style%3D%22fill%3A%20none%3B%20stroke-width%3A%201px%3B%20stroke%3A%20rgb(89%2C%2089%2C%2089)%3B%20stroke-opacity%3A%200.25%3B%22%20d%3D%22M79%2C227.5H978%22%2F%3E%3Cpath%20class%3D%22ylines-above%20crisp%22%20style%3D%22fill%3A%20none%3B%20stroke-width%3A%201px%3B%20stroke%3A%20rgb(89%2C%2089%2C%2089)%3B%20stroke-opacity%3A%200.25%3B%22%20d%3D%22M79.5%2C30V227%22%2F%3E%3Cg%20class%3D%22overlines-above%22%3E%3Cpath%20class%3D%22xy2-x%20crisp%22%20style%3D%22fill%3A%20none%3B%22%20d%3D%22M0%2C0%22%2F%3E%3Cpath%20class%3D%22xy2-y%20crisp%22%20style%3D%22fill%3A%20none%3B%22%20d%3D%22M0%2C0%22%2F%3E%3C%2Fg%3E%3Cg%20class%3D%22xaxislayer-above%22%3E%3Cg%20class%3D%22xtick%22%3E%3Ctext%20text-anchor%3D%22start%22%20x%3D%220%22%20y%3D%22242.4%22%20data-unformatted%3D%22Matthew%20Mayo%22%20data-math%3D%22N%22%20transform%3D%22translate(128.65%2C0)%20rotate(30%2C0%2C236.4)%22%20style%3D%22font-family%3A%20%26quot%3BOpen%20Sans%26quot%3B%2C%20verdana%2C%20arial%2C%20sans-serif%3B%20font-size%3A%2012px%3B%20fill%3A%20rgb(89%2C%2089%2C%2089)%3B%20fill-opacity%3A%201%3B%20white-space%3A%20pre%3B%22%3EMatthew%20Mayo%3C%2Ftext%3E%3C%2Fg%3E%3Cg%20class%3D%22xtick%22%3E%3Ctext%20text-anchor%3D%22start%22%20x%3D%220%22%20y%3D%22242.4%22%20data-unformatted%3D%22Jesse%20Mostipak%22%20data-math%3D%22N%22%20transform%3D%22translate(217.62%2C0)%20rotate(30%2C0%2C236.4)%22%20style%3D%22font-family%3A%20%26quot%3BOpen%20Sans%26quot%3B%2C%20verdana%2C%20arial%2C%20sans-serif%3B%20font-size%3A%2012px%3B%20fill%3A%20rgb(89%2C%2089%2C%2089)%3B%20fill-opacity%3A%201%3B%20white-space%3A%20pre%3B%22%3EJesse%20Mostipak%3C%2Ftext%3E%3C%2Fg%3E%3Cg%20class%3D%22xtick%22%3E%3Ctext%20text-anchor%3D%22start%22%20x%3D%220%22%20y%3D%22242.4%22%20data-unformatted%3D%22David%20Robinson%22%20data-math%3D%22N%22%20transform%3D%22translate(306.58000000000004%2C0)%20rotate(30%2C0%2C236.4)%22%20style%3D%22font-family%3A%20%26quot%3BOpen%20Sans%26quot%3B%2C%20verdana%2C%20arial%2C%20sans-serif%3B%20font-size%3A%2012px%3B%20fill%3A%20rgb(89%2C%2089%2C%2089)%3B%20fill-opacity%3A%201%3B%20white-space%3A%20pre%3B%22%3EDavid%20Robinson%3C%2Ftext%3E%3C%2Fg%3E%3Cg%20class%3D%22xtick%22%3E%3Ctext%20text-anchor%3D%22start%22%20x%3D%220%22%20y%3D%22242.4%22%20data-unformatted%3D%22Hilary%20Parker%22%20data-math%3D%22N%22%20transform%3D%22translate(395.55%2C0)%20rotate(30%2C0%2C236.4)%22%20style%3D%22font-family%3A%20%26quot%3BOpen%20Sans%26quot%3B%2C%20verdana%2C%20arial%2C%20sans-serif%3B%20font-size%3A%2012px%3B%20fill%3A%20rgb(89%2C%2089%2C%2089)%3B%20fill-opacity%3A%201%3B%20white-space%3A%20pre%3B%22%3EHilary%20Parker%3C%2Ftext%3E%3C%2Fg%3E%3Cg%20class%3D%22xtick%22%3E%3Ctext%20text-anchor%3D%22start%22%20x%3D%220%22%20y%3D%22242.4%22%20data-unformatted%3D%22Ayodele%20(eye-ya-deli)%20is%20fullyVaxxed%22%20data-math%3D%22N%22%20transform%3D%22translate(484.52%2C0)%20rotate(30%2C0%2C236.4)%22%20style%3D%22font-family%3A%20%26quot%3BOpen%20Sans%26quot%3B%2C%20verdana%2C%20arial%2C%20sans-serif%3B%20font-size%3A%2012px%3B%20fill%3A%20rgb(89%2C%2089%2C%2089)%3B%20fill-opacity%3A%201%3B%20white-space%3A%20pre%3B%22%3EAyodele%20(eye-ya-deli)%20is%20fullyVaxxed%3C%2Ftext%3E%3C%2Fg%3E%3Cg%20class%3D%22xtick%22%3E%3Ctext%20text-anchor%3D%22start%22%20x%3D%220%22%20y%3D%22242.4%22%20data-unformatted%3D%22Ryan%20Rosario%22%20data-math%3D%22N%22%20transform%3D%22translate(573.48%2C0)%20rotate(30%2C0%2C236.4)%22%20style%3D%22font-family%3A%20%26quot%3BOpen%20Sans%26quot%3B%2C%20verdana%2C%20arial%2C%20sans-serif%3B%20font-size%3A%2012px%3B%20fill%3A%20rgb(89%2C%2089%2C%2089)%3B%20fill-opacity%3A%201%3B%20white-space%3A%20pre%3B%22%3ERyan%20Rosario%3C%2Ftext%3E%3C%2Fg%3E%3Cg%20class%3D%22xtick%22%3E%3Ctext%20text-anchor%3D%22start%22%20x%3D%220%22%20y%3D%22242.4%22%20data-unformatted%3D%22Peter%20Wang%22%20data-math%3D%22N%22%20transform%3D%22translate(662.45%2C0)%20rotate(30%2C0%2C236.4)%22%20style%3D%22font-family%3A%20%26quot%3BOpen%20Sans%26quot%3B%2C%20verdana%2C%20arial%2C%20sans-serif%3B%20font-size%3A%2012px%3B%20fill%3A%20rgb(89%2C%2089%2C%2089)%3B%20fill-opacity%3A%201%3B%20white-space%3A%20pre%3B%22%3EPeter%20Wang%3C%2Ftext%3E%3C%2Fg%3E%3Cg%20class%3D%22xtick%22%3E%3Ctext%20text-anchor%3D%22start%22%20x%3D%220%22%20y%3D%22242.4%22%20data-unformatted%3D%22Data%20Science%20Renee%22%20data-math%3D%22N%22%20transform%3D%22translate(751.42%2C0)%20rotate(30%2C0%2C236.4)%22%20style%3D%22font-family%3A%20%26quot%3BOpen%20Sans%26quot%3B%2C%20verdana%2C%20arial%2C%20sans-serif%3B%20font-size%3A%2012px%3B%20fill%3A%20rgb(89%2C%2089%2C%2089)%3B%20fill-opacity%3A%201%3B%20white-space%3A%20pre%3B%22%3EData%20Science%20Renee%3C%2Ftext%3E%3C%2Fg%3E%3Cg%20class%3D%22xtick%22%3E%3Ctext%20text-anchor%3D%22start%22%20x%3D%220%22%20y%3D%22242.4%22%20data-unformatted%3D%22Fran%C3%A7ois%20Chollet%22%20data-math%3D%22N%22%20transform%3D%22translate(840.38%2C0)%20rotate(30%2C0%2C236.4)%22%20style%3D%22font-family%3A%20%26quot%3BOpen%20Sans%26quot%3B%2C%20verdana%2C%20arial%2C%20sans-serif%3B%20font-size%3A%2012px%3B%20fill%3A%20rgb(89%2C%2089%2C%2089)%3B%20fill-opacity%3A%201%3B%20white-space%3A%20pre%3B%22%3EFran%C3%A7ois%20Chollet%3C%2Ftext%3E%3C%2Fg%3E%3Cg%20class%3D%22xtick%22%3E%3Ctext%20text-anchor%3D%22start%22%20x%3D%220%22%20y%3D%22242.4%22%20data-unformatted%3D%22Hilary%20Mason%22%20data-math%3D%22N%22%20transform%3D%22translate(929.35%2C0)%20rotate(30%2C0%2C236.4)%22%20style%3D%22font-family%3A%20%26quot%3BOpen%20Sans%26quot%3B%2C%20verdana%2C%20arial%2C%20sans-serif%3B%20font-size%3A%2012px%3B%20fill%3A%20rgb(89%2C%2089%2C%2089)%3B%20fill-opacity%3A%201%3B%20white-space%3A%20pre%3B%22%3EHilary%20Mason%3C%2Ftext%3E%3C%2Fg%3E%3C%2Fg%3E%3Cg%20class%3D%22yaxislayer-above%22%3E%3Cg%20class%3D%22ytick%22%3E%3Ctext%20text-anchor%3D%22end%22%20x%3D%2276.6%22%20y%3D%224.199999999999999%22%20data-unformatted%3D%220%22%20data-math%3D%22N%22%20transform%3D%22translate(0%2C227)%22%20style%3D%22font-family%3A%20%26quot%3BOpen%20Sans%26quot%3B%2C%20verdana%2C%20arial%2C%20sans-serif%3B%20font-size%3A%2012px%3B%20fill%3A%20rgb(89%2C%2089%2C%2089)%3B%20fill-opacity%3A%201%3B%20white-space%3A%20pre%3B%22%3E0%3C%2Ftext%3E%3C%2Fg%3E%3Cg%20class%3D%22ytick%22%3E%3Ctext%20text-anchor%3D%22end%22%20x%3D%2276.6%22%20y%3D%224.199999999999999%22%20data-unformatted%3D%221000%22%20data-math%3D%22N%22%20transform%3D%22translate(0%2C184.89)%22%20style%3D%22font-family%3A%20%26quot%3BOpen%20Sans%26quot%3B%2C%20verdana%2C%20arial%2C%20sans-serif%3B%20font-size%3A%2012px%3B%20fill%3A%20rgb(89%2C%2089%2C%2089)%3B%20fill-opacity%3A%201%3B%20white-space%3A%20pre%3B%22%3E1000%3C%2Ftext%3E%3C%2Fg%3E%3Cg%20class%3D%22ytick%22%3E%3Ctext%20text-anchor%3D%22end%22%20x%3D%2276.6%22%20y%3D%224.199999999999999%22%20data-unformatted%3D%222000%22%20data-math%3D%22N%22%20transform%3D%22translate(0%2C142.76999999999998)%22%20style%3D%22font-family%3A%20%26quot%3BOpen%20Sans%26quot%3B%2C%20verdana%2C%20arial%2C%20sans-serif%3B%20font-size%3A%2012px%3B%20fill%3A%20rgb(89%2C%2089%2C%2089)%3B%20fill-opacity%3A%201%3B%20white-space%3A%20pre%3B%22%3E2000%3C%2Ftext%3E%3C%2Fg%3E%3Cg%20class%3D%22ytick%22%3E%3Ctext%20text-anchor%3D%22end%22%20x%3D%2276.6%22%20y%3D%224.199999999999999%22%20data-unformatted%3D%223000%22%20data-math%3D%22N%22%20transform%3D%22translate(0%2C100.66)%22%20style%3D%22font-family%3A%20%26quot%3BOpen%20Sans%26quot%3B%2C%20verdana%2C%20arial%2C%20sans-serif%3B%20font-size%3A%2012px%3B%20fill%3A%20rgb(89%2C%2089%2C%2089)%3B%20fill-opacity%3A%201%3B%20white-space%3A%20pre%3B%22%3E3000%3C%2Ftext%3E%3C%2Fg%3E%3Cg%20class%3D%22ytick%22%3E%3Ctext%20text-anchor%3D%22end%22%20x%3D%2276.6%22%20y%3D%224.199999999999999%22%20data-unformatted%3D%224000%22%20data-math%3D%22N%22%20transform%3D%22translate(0%2C58.55)%22%20style%3D%22font-family%3A%20%26quot%3BOpen%20Sans%26quot%3B%2C%20verdana%2C%20arial%2C%20sans-serif%3B%20font-size%3A%2012px%3B%20fill%3A%20rgb(89%2C%2089%2C%2089)%3B%20fill-opacity%3A%201%3B%20white-space%3A%20pre%3B%22%3E4000%3C%2Ftext%3E%3C%2Fg%3E%3C%2Fg%3E%3Cg%20class%3D%22overaxes-above%22%3E%3Cg%20class%3D%22xy2-x%22%2F%3E%3Cg%20class%3D%22xy2-y%22%3E%3Cg%20class%3D%22y2tick%22%3E%3Ctext%20text-anchor%3D%22start%22%20x%3D%22979%22%20y%3D%224.199999999999999%22%20data-unformatted%3D%22200%22%20data-math%3D%22N%22%20transform%3D%22translate(0%2C227)%22%20style%3D%22font-family%3A%20%26quot%3BOpen%20Sans%26quot%3B%2C%20verdana%2C%20arial%2C%20sans-serif%3B%20font-size%3A%2012px%3B%20fill%3A%20rgb(89%2C%2089%2C%2089)%3B%20fill-opacity%3A%201%3B%20white-space%3A%20pre%3B%22%3E200%3C%2Ftext%3E%3C%2Fg%3E%3Cg%20class%3D%22y2tick%22%3E%3Ctext%20text-anchor%3D%22start%22%20x%3D%22979%22%20y%3D%224.199999999999999%22%20data-unformatted%3D%22200.5%22%20data-math%3D%22N%22%20transform%3D%22translate(0%2C177.75)%22%20style%3D%22font-family%3A%20%26quot%3BOpen%20Sans%26quot%3B%2C%20verdana%2C%20arial%2C%20sans-serif%3B%20font-size%3A%2012px%3B%20fill%3A%20rgb(89%2C%2089%2C%2089)%3B%20fill-opacity%3A%201%3B%20white-space%3A%20pre%3B%22%3E200.5%3C%2Ftext%3E%3C%2Fg%3E%3Cg%20class%3D%22y2tick%22%3E%3Ctext%20text-anchor%3D%22start%22%20x%3D%22979%22%20y%3D%224.199999999999999%22%20data-unformatted%3D%22201%22%20data-math%3D%22N%22%20transform%3D%22translate(0%2C128.5)%22%20style%3D%22font-family%3A%20%26quot%3BOpen%20Sans%26quot%3B%2C%20verdana%2C%20arial%2C%20sans-serif%3B%20font-size%3A%2012px%3B%20fill%3A%20rgb(89%2C%2089%2C%2089)%3B%20fill-opacity%3A%201%3B%20white-space%3A%20pre%3B%22%3E201%3C%2Ftext%3E%3C%2Fg%3E%3Cg%20class%3D%22y2tick%22%3E%3Ctext%20text-anchor%3D%22start%22%20x%3D%22979%22%20y%3D%224.199999999999999%22%20data-unformatted%3D%22201.5%22%20data-math%3D%22N%22%20transform%3D%22translate(0%2C79.25)%22%20style%3D%22font-family%3A%20%26quot%3BOpen%20Sans%26quot%3B%2C%20verdana%2C%20arial%2C%20sans-serif%3B%20font-size%3A%2012px%3B%20fill%3A%20rgb(89%2C%2089%2C%2089)%3B%20fill-opacity%3A%201%3B%20white-space%3A%20pre%3B%22%3E201.5%3C%2Ftext%3E%3C%2Fg%3E%3Cg%20class%3D%22y2tick%22%3E%3Ctext%20text-anchor%3D%22start%22%20x%3D%22979%22%20y%3D%224.199999999999999%22%20data-unformatted%3D%22202%22%20data-math%3D%22N%22%20transform%3D%22translate(0%2C30)%22%20style%3D%22font-family%3A%20%26quot%3BOpen%20Sans%26quot%3B%2C%20verdana%2C%20arial%2C%20sans-serif%3B%20font-size%3A%2012px%3B%20fill%3A%20rgb(89%2C%2089%2C%2089)%3B%20fill-opacity%3A%201%3B%20white-space%3A%20pre%3B%22%3E202%3C%2Ftext%3E%3C%2Fg%3E%3C%2Fg%3E%3C%2Fg%3E%3C%2Fg%3E%3Cg%20class%3D%22subplot%20xy2%22%2F%3E%3C%2Fg%3E%3Cg%20class%3D%22polarlayer%22%2F%3E%3Cg%20class%3D%22ternarylayer%22%2F%3E%3Cg%20class%3D%22geolayer%22%2F%3E%3Cg%20class%3D%22funnelarealayer%22%2F%3E%3Cg%20class%3D%22pielayer%22%2F%3E%3Cg%20class%3D%22treemaplayer%22%2F%3E%3Cg%20class%3D%22sunburstlayer%22%2F%3E%3Cg%20class%3D%22glimages%22%2F%3E%3Cdefs%20id%3D%22topdefs-efb9cc%22%3E%3Cg%20class%3D%22clips%22%2F%3E%3CclipPath%20id%3D%22legendefb9cc%22%3E%3Crect%20width%3D%22187%22%20height%3D%2258%22%20x%3D%220%22%20y%3D%220%22%2F%3E%3C%2FclipPath%3E%3C%2Fdefs%3E%3Cg%20class%3D%22indicatorlayer%22%2F%3E%3Cg%20class%3D%22layer-above%22%3E%3Cg%20class%3D%22imagelayer%22%2F%3E%3Cg%20class%3D%22shapelayer%22%2F%3E%3C%2Fg%3E%3Cg%20class%3D%22infolayer%22%3E%3Cg%20class%3D%22legend%22%20pointer-events%3D%22all%22%20transform%3D%22translate(995.96%2C30)%22%3E%3Crect%20class%3D%22bg%22%20shape-rendering%3D%22crispEdges%22%20style%3D%22stroke%3A%20rgb(68%2C%2068%2C%2068)%3B%20stroke-opacity%3A%201%3B%20fill%3A%20rgb(255%2C%20255%2C%20255)%3B%20fill-opacity%3A%201%3B%20stroke-width%3A%200px%3B%22%20width%3D%22187%22%20height%3D%2258%22%20x%3D%220%22%20y%3D%220%22%2F%3E%3Cg%20class%3D%22scrollbox%22%20transform%3D%22%22%20clip-path%3D%22url('%23legendefb9cc')%22%3E%3Cg%20class%3D%22groups%22%20transform%3D%22%22%3E%3Cg%20class%3D%22traces%22%20style%3D%22opacity%3A%201%3B%22%20transform%3D%22translate(0%2C14.5)%22%3E%3Ctext%20class%3D%22legendtext%22%20text-anchor%3D%22start%22%20x%3D%2240%22%20y%3D%224.680000000000001%22%20data-unformatted%3D%22retweets_quotes%22%20data-math%3D%22N%22%20style%3D%22font-family%3A%20%26quot%3BOpen%20Sans%26quot%3B%2C%20verdana%2C%20arial%2C%20sans-serif%3B%20font-size%3A%2012px%3B%20fill%3A%20rgb(89%2C%2089%2C%2089)%3B%20fill-opacity%3A%201%3B%20white-space%3A%20pre%3B%22%3Eretweets_quotes%3C%2Ftext%3E%3Cg%20class%3D%22layers%22%20style%3D%22opacity%3A%201%3B%22%3E%3Cg%20class%3D%22legendfill%22%2F%3E%3Cg%20class%3D%22legendlines%22%2F%3E%3Cg%20class%3D%22legendsymbols%22%3E%3Cg%20class%3D%22legendpoints%22%3E%3Cpath%20class%3D%22legendundefined%22%20d%3D%22M6%2C6H-6V-6H6Z%22%20transform%3D%22translate(20%2C0)%22%20style%3D%22stroke-width%3A%200px%3B%20fill%3A%20rgb(78%2C%20121%2C%20167)%3B%20fill-opacity%3A%201%3B%22%2F%3E%3C%2Fg%3E%3C%2Fg%3E%3C%2Fg%3E%3Crect%20class%3D%22legendtoggle%22%20pointer-events%3D%22all%22%20x%3D%220%22%20y%3D%22-9.5%22%20width%3D%22181.46875%22%20height%3D%2219%22%20style%3D%22cursor%3A%20pointer%3B%20fill%3A%20rgb(0%2C%200%2C%200)%3B%20fill-opacity%3A%200%3B%22%2F%3E%3C%2Fg%3E%3C%2Fg%3E%3Cg%20class%3D%22groups%22%20transform%3D%22translate(0%2C10)%22%3E%3Cg%20class%3D%22traces%22%20style%3D%22opacity%3A%201%3B%22%20transform%3D%22translate(0%2C33.5)%22%3E%3Ctext%20class%3D%22legendtext%22%20text-anchor%3D%22start%22%20x%3D%2240%22%20y%3D%224.680000000000001%22%20data-unformatted%3D%22retweets_quotes_mean%22%20data-math%3D%22N%22%20style%3D%22font-family%3A%20%26quot%3BOpen%20Sans%26quot%3B%2C%20verdana%2C%20arial%2C%20sans-serif%3B%20font-size%3A%2012px%3B%20fill%3A%20rgb(89%2C%2089%2C%2089)%3B%20fill-opacity%3A%201%3B%20white-space%3A%20pre%3B%22%3Eretweets_quotes_mean%3C%2Ftext%3E%3Cg%20class%3D%22layers%22%20style%3D%22opacity%3A%201%3B%22%3E%3Cg%20class%3D%22legendfill%22%2F%3E%3Cg%20class%3D%22legendlines%22%3E%3Cpath%20class%3D%22js-line%22%20d%3D%22M5%2C0h30%22%20style%3D%22fill%3A%20none%3B%20stroke%3A%20rgb(242%2C%20142%2C%2044)%3B%20stroke-opacity%3A%201%3B%20stroke-width%3A%202px%3B%22%2F%3E%3C%2Fg%3E%3Cg%20class%3D%22legendsymbols%22%3E%3Cg%20class%3D%22legendpoints%22%3E%3Cpath%20class%3D%22scatterpts%22%20transform%3D%22translate(20%2C0)%22%20d%3D%22M3%2C0A3%2C3%200%201%2C1%200%2C-3A3%2C3%200%200%2C1%203%2C0Z%22%20style%3D%22opacity%3A%201%3B%20stroke-width%3A%200px%3B%20fill%3A%20rgb(242%2C%20142%2C%2044)%3B%20fill-opacity%3A%201%3B%22%2F%3E%3Cg%20class%3D%22pointtext%22%20transform%3D%22translate(0%2C12.25)%22%3E%3Ctext%20transform%3D%22translate(20%2C0)%22%20data-unformatted%3D%22Aa%22%20data-math%3D%22N%22%20x%3D%220%22%20y%3D%220%22%20text-anchor%3D%22middle%22%20style%3D%22font-family%3A%20%26quot%3BOpen%20Sans%26quot%3B%2C%20verdana%2C%20arial%2C%20sans-serif%3B%20font-size%3A%2010px%3B%20fill%3A%20rgb(89%2C%2089%2C%2089)%3B%20fill-opacity%3A%201%3B%20white-space%3A%20pre%3B%22%3EAa%3C%2Ftext%3E%3C%2Fg%3E%3C%2Fg%3E%3C%2Fg%3E%3C%2Fg%3E%3Crect%20class%3D%22legendtoggle%22%20pointer-events%3D%22all%22%20x%3D%220%22%20y%3D%22-9.5%22%20width%3D%22181.46875%22%20height%3D%2219%22%20style%3D%22cursor%3A%20pointer%3B%20fill%3A%20rgb(0%2C%200%2C%200)%3B%20fill-opacity%3A%200%3B%22%2F%3E%3C%2Fg%3E%3C%2Fg%3E%3C%2Fg%3E%3Crect%20class%3D%22scrollbar%22%20rx%3D%2220%22%20ry%3D%223%22%20width%3D%220%22%20height%3D%220%22%20style%3D%22fill%3A%20rgb(128%2C%20139%2C%20164)%3B%20fill-opacity%3A%201%3B%22%20x%3D%220%22%20y%3D%220%22%2F%3E%3C%2Fg%3E%3Cg%20class%3D%22g-gtitle%22%2F%3E%3Cg%20class%3D%22g-xtitle%22%2F%3E%3Cg%20class%3D%22g-ytitle%22%2F%3E%3Cg%20class%3D%22g-y2title%22%2F%3E%3C%2Fg%3E%3Cg%20class%3D%22menulayer%22%2F%3E%3Cg%20class%3D%22zoomlayer%22%2F%3E%3Cg%20class%3D%22hoverlayer%22%2F%3E%3C%2Fsvg%3E\">"
      ],
      "text/plain": [
       "Open the notebook in JupyterLab with the atoti extension enabled to build this widget."
      ]
     },
     "metadata": {},
     "output_type": "display_data"
    }
   ],
   "source": [
    "session.visualize(\"Top 10 influencers - Number of retweets and quotes per tweet\")"
   ]
  },
  {
   "cell_type": "markdown",
   "metadata": {},
   "source": [
    "#### Top 10 influencers - Number of likes per tweet"
   ]
  },
  {
   "cell_type": "code",
   "execution_count": 18,
   "metadata": {
    "atoti": {
     "widget": {
      "filters": [
       "TopCount(Filter([influencer].[name].Levels(1).Members, NOT IsEmpty([Measures].[likes])), 10, [Measures].[likes])"
      ],
      "mapping": {
       "columnValues": [
        "[Measures].[likes]"
       ],
       "horizontalSubplots": [],
       "lineValues": [
        "[Measures].[likes_mean]"
       ],
       "verticalSubplots": [],
       "xAxis": [
        "[influencer].[name].[name]"
       ]
      },
      "query": {
       "mdx": "SELECT NON EMPTY Order(Hierarchize(Descendants({[influencer].[name].[AllMember]}, 1, SELF_AND_BEFORE)), [Measures].[likes], BDESC) ON ROWS, NON EMPTY {[Measures].[likes], [Measures].[likes_mean]} ON COLUMNS FROM [influencer_cube]",
       "updateMode": "once"
      },
      "serverKey": "default",
      "widgetKey": "plotly-clustered-column-and-line-chart"
     }
    },
    "tags": []
   },
   "outputs": [
    {
     "data": {
      "application/vnd.atoti.widget.v0+json": {
       "name": "Top 10 influencers - Number of likes per tweet",
       "sessionId": "1674717365_VNWIH9",
       "sessionLocation": {
        "https": false,
        "port": 60114
       },
       "widgetCreationCode": "session.visualize()"
      },
      "text/html": [
       "<img src=\"data:image/svg+xml;charset=utf8,%3C%3Fxml%20version%3D%221.0%22%20standalone%3D%22no%22%3F%3E%3Csvg%20xmlns%3D%22http%3A%2F%2Fwww.w3.org%2F2000%2Fsvg%22%20xmlns%3Axlink%3D%22http%3A%2F%2Fwww.w3.org%2F1999%2Fxlink%22%20height%3D%22352%22%20width%3D%221183%22%20viewBox%3D%220%200%201183%20352%22%3E%3Cdefs%20id%3D%22defs-62655c%22%3E%3Cg%20class%3D%22clips%22%3E%3CclipPath%20id%3D%22clip62655cxyplot%22%20class%3D%22plotclip%22%3E%3Crect%20width%3D%22970%22%20height%3D%22246%22%2F%3E%3C%2FclipPath%3E%3CclipPath%20id%3D%22clip62655cxy2plot%22%20class%3D%22plotclip%22%3E%3Crect%20width%3D%22970%22%20height%3D%22246%22%2F%3E%3C%2FclipPath%3E%3CclipPath%20class%3D%22axesclip%22%20id%3D%22clip62655cx%22%3E%3Crect%20x%3D%2280%22%20y%3D%220%22%20width%3D%22970%22%20height%3D%22352%22%2F%3E%3C%2FclipPath%3E%3CclipPath%20class%3D%22axesclip%22%20id%3D%22clip62655cy%22%3E%3Crect%20x%3D%220%22%20y%3D%2230%22%20width%3D%221183%22%20height%3D%22246%22%2F%3E%3C%2FclipPath%3E%3CclipPath%20class%3D%22axesclip%22%20id%3D%22clip62655cxy%22%3E%3Crect%20x%3D%2280%22%20y%3D%2230%22%20width%3D%22970%22%20height%3D%22246%22%2F%3E%3C%2FclipPath%3E%3CclipPath%20class%3D%22axesclip%22%20id%3D%22clip62655cy2%22%3E%3Crect%20x%3D%220%22%20y%3D%2230%22%20width%3D%221183%22%20height%3D%22246%22%2F%3E%3C%2FclipPath%3E%3CclipPath%20class%3D%22axesclip%22%20id%3D%22clip62655cxy2%22%3E%3Crect%20x%3D%2280%22%20y%3D%2230%22%20width%3D%22970%22%20height%3D%22246%22%2F%3E%3C%2FclipPath%3E%3C%2Fg%3E%3Cg%20class%3D%22gradients%22%2F%3E%3C%2Fdefs%3E%3Cg%20class%3D%22bglayer%22%2F%3E%3Cg%20class%3D%22draglayer%20cursor-crosshair%22%3E%3Cg%20class%3D%22xy%22%3E%3Crect%20class%3D%22nsewdrag%20drag%22%20data-subplot%3D%22xy%22%20x%3D%2280%22%20y%3D%2230%22%20width%3D%22970%22%20height%3D%22246%22%20style%3D%22fill%3A%20transparent%3B%20stroke-width%3A%200%3B%20pointer-events%3A%20all%3B%22%2F%3E%3Crect%20class%3D%22nwdrag%20drag%20cursor-nw-resize%22%20data-subplot%3D%22xy%22%20x%3D%2260%22%20y%3D%2210%22%20width%3D%2220%22%20height%3D%2220%22%20style%3D%22fill%3A%20transparent%3B%20stroke-width%3A%200%3B%20pointer-events%3A%20all%3B%22%2F%3E%3Crect%20class%3D%22nedrag%20drag%20cursor-ne-resize%22%20data-subplot%3D%22xy%22%20x%3D%221050%22%20y%3D%2210%22%20width%3D%2220%22%20height%3D%2220%22%20style%3D%22fill%3A%20transparent%3B%20stroke-width%3A%200%3B%20pointer-events%3A%20all%3B%22%2F%3E%3Crect%20class%3D%22swdrag%20drag%20cursor-sw-resize%22%20data-subplot%3D%22xy%22%20x%3D%2260%22%20y%3D%22276%22%20width%3D%2220%22%20height%3D%2220%22%20style%3D%22fill%3A%20transparent%3B%20stroke-width%3A%200%3B%20pointer-events%3A%20all%3B%22%2F%3E%3Crect%20class%3D%22sedrag%20drag%20cursor-se-resize%22%20data-subplot%3D%22xy%22%20x%3D%221050%22%20y%3D%22276%22%20width%3D%2220%22%20height%3D%2220%22%20style%3D%22fill%3A%20transparent%3B%20stroke-width%3A%200%3B%20pointer-events%3A%20all%3B%22%2F%3E%3Crect%20class%3D%22ewdrag%20drag%20cursor-ew-resize%22%20data-subplot%3D%22xy%22%20x%3D%22177%22%20y%3D%22276.5%22%20width%3D%22776%22%20height%3D%2220%22%20style%3D%22fill%3A%20transparent%3B%20stroke-width%3A%200%3B%20pointer-events%3A%20all%3B%22%2F%3E%3Crect%20class%3D%22wdrag%20drag%20cursor-w-resize%22%20data-subplot%3D%22xy%22%20x%3D%2280%22%20y%3D%22276.5%22%20width%3D%2297%22%20height%3D%2220%22%20style%3D%22fill%3A%20transparent%3B%20stroke-width%3A%200%3B%20pointer-events%3A%20all%3B%22%2F%3E%3Crect%20class%3D%22edrag%20drag%20cursor-e-resize%22%20data-subplot%3D%22xy%22%20x%3D%22953%22%20y%3D%22276.5%22%20width%3D%2297%22%20height%3D%2220%22%20style%3D%22fill%3A%20transparent%3B%20stroke-width%3A%200%3B%20pointer-events%3A%20all%3B%22%2F%3E%3Crect%20class%3D%22nsdrag%20drag%20cursor-ns-resize%22%20data-subplot%3D%22xy%22%20x%3D%2259.5%22%20y%3D%2254.6%22%20width%3D%2220%22%20height%3D%22196.8%22%20style%3D%22fill%3A%20transparent%3B%20stroke-width%3A%200%3B%20pointer-events%3A%20all%3B%22%2F%3E%3Crect%20class%3D%22sdrag%20drag%20cursor-s-resize%22%20data-subplot%3D%22xy%22%20x%3D%2259.5%22%20y%3D%22251.4%22%20width%3D%2220%22%20height%3D%2224.6%22%20style%3D%22fill%3A%20transparent%3B%20stroke-width%3A%200%3B%20pointer-events%3A%20all%3B%22%2F%3E%3Crect%20class%3D%22ndrag%20drag%20cursor-n-resize%22%20data-subplot%3D%22xy%22%20x%3D%2259.5%22%20y%3D%2230%22%20width%3D%2220%22%20height%3D%2224.6%22%20style%3D%22fill%3A%20transparent%3B%20stroke-width%3A%200%3B%20pointer-events%3A%20all%3B%22%2F%3E%3C%2Fg%3E%3Cg%20class%3D%22xy2%22%3E%3Crect%20class%3D%22nsdrag%20drag%20cursor-ns-resize%22%20data-subplot%3D%22xy2%22%20x%3D%221050.5%22%20y%3D%2254.6%22%20width%3D%2220%22%20height%3D%22196.8%22%20style%3D%22fill%3A%20transparent%3B%20stroke-width%3A%200%3B%20pointer-events%3A%20all%3B%22%2F%3E%3Crect%20class%3D%22sdrag%20drag%20cursor-s-resize%22%20data-subplot%3D%22xy2%22%20x%3D%221050.5%22%20y%3D%22251.4%22%20width%3D%2220%22%20height%3D%2224.6%22%20style%3D%22fill%3A%20transparent%3B%20stroke-width%3A%200%3B%20pointer-events%3A%20all%3B%22%2F%3E%3Crect%20class%3D%22ndrag%20drag%20cursor-n-resize%22%20data-subplot%3D%22xy2%22%20x%3D%221050.5%22%20y%3D%2230%22%20width%3D%2220%22%20height%3D%2224.6%22%20style%3D%22fill%3A%20transparent%3B%20stroke-width%3A%200%3B%20pointer-events%3A%20all%3B%22%2F%3E%3C%2Fg%3E%3C%2Fg%3E%3Cg%20class%3D%22layer-below%22%3E%3Cg%20class%3D%22imagelayer%22%2F%3E%3Cg%20class%3D%22shapelayer%22%2F%3E%3C%2Fg%3E%3Cg%20class%3D%22cartesianlayer%22%3E%3Cg%20class%3D%22subplot%20xy%22%3E%3Cg%20class%3D%22layer-subplot%22%3E%3Cg%20class%3D%22shapelayer%22%2F%3E%3Cg%20class%3D%22imagelayer%22%2F%3E%3C%2Fg%3E%3Cg%20class%3D%22gridlayer%22%3E%3Cg%20class%3D%22x%22%3E%3Cpath%20class%3D%22xgrid%20crisp%22%20transform%3D%22translate(132.25%2C0)%22%20d%3D%22M0%2C30v246%22%20style%3D%22stroke%3A%20rgb(0%2C%200%2C%200)%3B%20stroke-opacity%3A%200%3B%20stroke-width%3A%201px%3B%22%2F%3E%3Cpath%20class%3D%22xgrid%20crisp%22%20transform%3D%22translate(228.42%2C0)%22%20d%3D%22M0%2C30v246%22%20style%3D%22stroke%3A%20rgb(0%2C%200%2C%200)%3B%20stroke-opacity%3A%200%3B%20stroke-width%3A%201px%3B%22%2F%3E%3Cpath%20class%3D%22xgrid%20crisp%22%20transform%3D%22translate(324.58000000000004%2C0)%22%20d%3D%22M0%2C30v246%22%20style%3D%22stroke%3A%20rgb(0%2C%200%2C%200)%3B%20stroke-opacity%3A%200%3B%20stroke-width%3A%201px%3B%22%2F%3E%3Cpath%20class%3D%22xgrid%20crisp%22%20transform%3D%22translate(420.75%2C0)%22%20d%3D%22M0%2C30v246%22%20style%3D%22stroke%3A%20rgb(0%2C%200%2C%200)%3B%20stroke-opacity%3A%200%3B%20stroke-width%3A%201px%3B%22%2F%3E%3Cpath%20class%3D%22xgrid%20crisp%22%20transform%3D%22translate(516.9200000000001%2C0)%22%20d%3D%22M0%2C30v246%22%20style%3D%22stroke%3A%20rgb(0%2C%200%2C%200)%3B%20stroke-opacity%3A%200%3B%20stroke-width%3A%201px%3B%22%2F%3E%3Cpath%20class%3D%22xgrid%20crisp%22%20transform%3D%22translate(613.08%2C0)%22%20d%3D%22M0%2C30v246%22%20style%3D%22stroke%3A%20rgb(0%2C%200%2C%200)%3B%20stroke-opacity%3A%200%3B%20stroke-width%3A%201px%3B%22%2F%3E%3Cpath%20class%3D%22xgrid%20crisp%22%20transform%3D%22translate(709.25%2C0)%22%20d%3D%22M0%2C30v246%22%20style%3D%22stroke%3A%20rgb(0%2C%200%2C%200)%3B%20stroke-opacity%3A%200%3B%20stroke-width%3A%201px%3B%22%2F%3E%3Cpath%20class%3D%22xgrid%20crisp%22%20transform%3D%22translate(805.42%2C0)%22%20d%3D%22M0%2C30v246%22%20style%3D%22stroke%3A%20rgb(0%2C%200%2C%200)%3B%20stroke-opacity%3A%200%3B%20stroke-width%3A%201px%3B%22%2F%3E%3Cpath%20class%3D%22xgrid%20crisp%22%20transform%3D%22translate(901.58%2C0)%22%20d%3D%22M0%2C30v246%22%20style%3D%22stroke%3A%20rgb(0%2C%200%2C%200)%3B%20stroke-opacity%3A%200%3B%20stroke-width%3A%201px%3B%22%2F%3E%3Cpath%20class%3D%22xgrid%20crisp%22%20transform%3D%22translate(997.75%2C0)%22%20d%3D%22M0%2C30v246%22%20style%3D%22stroke%3A%20rgb(0%2C%200%2C%200)%3B%20stroke-opacity%3A%200%3B%20stroke-width%3A%201px%3B%22%2F%3E%3C%2Fg%3E%3Cg%20class%3D%22y%22%3E%3Cpath%20class%3D%22ygrid%20crisp%22%20transform%3D%22translate(0%2C235.87)%22%20d%3D%22M80%2C0h970%22%20style%3D%22stroke%3A%20rgb(89%2C%2089%2C%2089)%3B%20stroke-opacity%3A%200.25%3B%20stroke-width%3A%201px%3B%22%2F%3E%3Cpath%20class%3D%22ygrid%20crisp%22%20transform%3D%22translate(0%2C195.73)%22%20d%3D%22M80%2C0h970%22%20style%3D%22stroke%3A%20rgb(89%2C%2089%2C%2089)%3B%20stroke-opacity%3A%200.25%3B%20stroke-width%3A%201px%3B%22%2F%3E%3Cpath%20class%3D%22ygrid%20crisp%22%20transform%3D%22translate(0%2C155.6)%22%20d%3D%22M80%2C0h970%22%20style%3D%22stroke%3A%20rgb(89%2C%2089%2C%2089)%3B%20stroke-opacity%3A%200.25%3B%20stroke-width%3A%201px%3B%22%2F%3E%3Cpath%20class%3D%22ygrid%20crisp%22%20transform%3D%22translate(0%2C115.47)%22%20d%3D%22M80%2C0h970%22%20style%3D%22stroke%3A%20rgb(89%2C%2089%2C%2089)%3B%20stroke-opacity%3A%200.25%3B%20stroke-width%3A%201px%3B%22%2F%3E%3Cpath%20class%3D%22ygrid%20crisp%22%20transform%3D%22translate(0%2C75.34)%22%20d%3D%22M80%2C0h970%22%20style%3D%22stroke%3A%20rgb(89%2C%2089%2C%2089)%3B%20stroke-opacity%3A%200.25%3B%20stroke-width%3A%201px%3B%22%2F%3E%3Cpath%20class%3D%22ygrid%20crisp%22%20transform%3D%22translate(0%2C35.2)%22%20d%3D%22M80%2C0h970%22%20style%3D%22stroke%3A%20rgb(89%2C%2089%2C%2089)%3B%20stroke-opacity%3A%200.25%3B%20stroke-width%3A%201px%3B%22%2F%3E%3C%2Fg%3E%3Cg%20class%3D%22y2%22%3E%3Cpath%20class%3D%22y2grid%20crisp%22%20transform%3D%22translate(0%2C266.53999999999996)%22%20d%3D%22M80%2C0h970%22%20style%3D%22stroke%3A%20rgb(238%2C%20238%2C%20238)%3B%20stroke-opacity%3A%201%3B%20stroke-width%3A%201px%3B%22%2F%3E%3Cpath%20class%3D%22y2grid%20crisp%22%20transform%3D%22translate(0%2C205.04)%22%20d%3D%22M80%2C0h970%22%20style%3D%22stroke%3A%20rgb(238%2C%20238%2C%20238)%3B%20stroke-opacity%3A%201%3B%20stroke-width%3A%201px%3B%22%2F%3E%3Cpath%20class%3D%22y2grid%20crisp%22%20transform%3D%22translate(0%2C143.54000000000002)%22%20d%3D%22M80%2C0h970%22%20style%3D%22stroke%3A%20rgb(238%2C%20238%2C%20238)%3B%20stroke-opacity%3A%201%3B%20stroke-width%3A%201px%3B%22%2F%3E%3Cpath%20class%3D%22y2grid%20crisp%22%20transform%3D%22translate(0%2C82.03999999999999)%22%20d%3D%22M80%2C0h970%22%20style%3D%22stroke%3A%20rgb(238%2C%20238%2C%20238)%3B%20stroke-opacity%3A%201%3B%20stroke-width%3A%201px%3B%22%2F%3E%3C%2Fg%3E%3C%2Fg%3E%3Cg%20class%3D%22zerolinelayer%22%3E%3Cpath%20class%3D%22yzl%20zl%20crisp%22%20transform%3D%22translate(0%2C276)%22%20d%3D%22M80%2C0h970%22%20style%3D%22stroke%3A%20rgb(89%2C%2089%2C%2089)%3B%20stroke-opacity%3A%200.5%3B%20stroke-width%3A%201px%3B%22%2F%3E%3C%2Fg%3E%3Cpath%20class%3D%22xlines-below%22%2F%3E%3Cpath%20class%3D%22ylines-below%22%2F%3E%3Cg%20class%3D%22overlines-below%22%3E%3Cpath%20class%3D%22xy2-x%22%2F%3E%3Cpath%20class%3D%22xy2-y%22%2F%3E%3C%2Fg%3E%3Cg%20class%3D%22xaxislayer-below%22%2F%3E%3Cg%20class%3D%22yaxislayer-below%22%2F%3E%3Cg%20class%3D%22overaxes-below%22%3E%3Cg%20class%3D%22xy2-x%22%2F%3E%3Cg%20class%3D%22xy2-y%22%2F%3E%3C%2Fg%3E%3Cg%20class%3D%22plot%22%20transform%3D%22translate(80%2C30)%22%20clip-path%3D%22url('%23clip62655cxyplot')%22%3E%3Cg%20class%3D%22barlayer%20mlayer%22%3E%3Cg%20class%3D%22trace%20bars%22%20style%3D%22opacity%3A%201%3B%22%3E%3Cg%20class%3D%22points%22%3E%3Cg%20class%3D%22point%22%3E%3Cpath%20d%3D%22M13.78%2C246V12.3H90.72V246Z%22%20style%3D%22vector-effect%3A%20non-scaling-stroke%3B%20opacity%3A%201%3B%20stroke-width%3A%200px%3B%20fill%3A%20rgb(78%2C%20121%2C%20167)%3B%20fill-opacity%3A%201%3B%22%2F%3E%3C%2Fg%3E%3Cg%20class%3D%22point%22%3E%3Cpath%20d%3D%22M109.95%2C246V214.81H186.88V246Z%22%20style%3D%22vector-effect%3A%20non-scaling-stroke%3B%20opacity%3A%201%3B%20stroke-width%3A%200px%3B%20fill%3A%20rgb(78%2C%20121%2C%20167)%3B%20fill-opacity%3A%201%3B%22%2F%3E%3C%2Fg%3E%3Cg%20class%3D%22point%22%3E%3Cpath%20d%3D%22M206.12%2C246V224.87H283.05V246Z%22%20style%3D%22vector-effect%3A%20non-scaling-stroke%3B%20opacity%3A%201%3B%20stroke-width%3A%200px%3B%20fill%3A%20rgb(78%2C%20121%2C%20167)%3B%20fill-opacity%3A%201%3B%22%2F%3E%3C%2Fg%3E%3Cg%20class%3D%22point%22%3E%3Cpath%20d%3D%22M302.28%2C246V230.35H379.22V246Z%22%20style%3D%22vector-effect%3A%20non-scaling-stroke%3B%20opacity%3A%201%3B%20stroke-width%3A%200px%3B%20fill%3A%20rgb(78%2C%20121%2C%20167)%3B%20fill-opacity%3A%201%3B%22%2F%3E%3C%2Fg%3E%3Cg%20class%3D%22point%22%3E%3Cpath%20d%3D%22M398.45%2C246V230.46H475.38V246Z%22%20style%3D%22vector-effect%3A%20non-scaling-stroke%3B%20opacity%3A%201%3B%20stroke-width%3A%200px%3B%20fill%3A%20rgb(78%2C%20121%2C%20167)%3B%20fill-opacity%3A%201%3B%22%2F%3E%3C%2Fg%3E%3Cg%20class%3D%22point%22%3E%3Cpath%20d%3D%22M494.62%2C246V237.01H571.55V246Z%22%20style%3D%22vector-effect%3A%20non-scaling-stroke%3B%20opacity%3A%201%3B%20stroke-width%3A%200px%3B%20fill%3A%20rgb(78%2C%20121%2C%20167)%3B%20fill-opacity%3A%201%3B%22%2F%3E%3C%2Fg%3E%3Cg%20class%3D%22point%22%3E%3Cpath%20d%3D%22M590.78%2C246V237.16H667.72V246Z%22%20style%3D%22vector-effect%3A%20non-scaling-stroke%3B%20opacity%3A%201%3B%20stroke-width%3A%200px%3B%20fill%3A%20rgb(78%2C%20121%2C%20167)%3B%20fill-opacity%3A%201%3B%22%2F%3E%3C%2Fg%3E%3Cg%20class%3D%22point%22%3E%3Cpath%20d%3D%22M686.95%2C246V237.76H763.88V246Z%22%20style%3D%22vector-effect%3A%20non-scaling-stroke%3B%20opacity%3A%201%3B%20stroke-width%3A%200px%3B%20fill%3A%20rgb(78%2C%20121%2C%20167)%3B%20fill-opacity%3A%201%3B%22%2F%3E%3C%2Fg%3E%3Cg%20class%3D%22point%22%3E%3Cpath%20d%3D%22M783.12%2C246V239.66H860.05V246Z%22%20style%3D%22vector-effect%3A%20non-scaling-stroke%3B%20opacity%3A%201%3B%20stroke-width%3A%200px%3B%20fill%3A%20rgb(78%2C%20121%2C%20167)%3B%20fill-opacity%3A%201%3B%22%2F%3E%3C%2Fg%3E%3Cg%20class%3D%22point%22%3E%3Cpath%20d%3D%22M879.28%2C246V240.14H956.22V246Z%22%20style%3D%22vector-effect%3A%20non-scaling-stroke%3B%20opacity%3A%201%3B%20stroke-width%3A%200px%3B%20fill%3A%20rgb(78%2C%20121%2C%20167)%3B%20fill-opacity%3A%201%3B%22%2F%3E%3C%2Fg%3E%3C%2Fg%3E%3C%2Fg%3E%3C%2Fg%3E%3C%2Fg%3E%3Cg%20class%3D%22overplot%22%3E%3Cg%20class%3D%22xy2%22%20transform%3D%22translate(80%2C30)%22%20clip-path%3D%22url('%23clip62655cxy2plot')%22%3E%3Cg%20class%3D%22scatterlayer%20mlayer%22%3E%3Cg%20class%3D%22trace%20scatter%20tracebc90f4%22%20style%3D%22stroke-miterlimit%3A%202%3B%20opacity%3A%201%3B%22%3E%3Cg%20class%3D%22fills%22%2F%3E%3Cg%20class%3D%22errorbars%22%2F%3E%3Cg%20class%3D%22lines%22%3E%3Cpath%20class%3D%22js-line%22%20d%3D%22M52.25%2C123L917.75%2C123%22%20style%3D%22vector-effect%3A%20non-scaling-stroke%3B%20fill%3A%20none%3B%20stroke%3A%20rgb(242%2C%20142%2C%2044)%3B%20stroke-opacity%3A%201%3B%20stroke-width%3A%202px%3B%20opacity%3A%201%3B%22%2F%3E%3C%2Fg%3E%3Cg%20class%3D%22points%22%3E%3Cpath%20class%3D%22point%22%20transform%3D%22translate(52.25%2C123)%22%20d%3D%22M3%2C0A3%2C3%200%201%2C1%200%2C-3A3%2C3%200%200%2C1%203%2C0Z%22%20style%3D%22opacity%3A%201%3B%20stroke-width%3A%200px%3B%20fill%3A%20rgb(242%2C%20142%2C%2044)%3B%20fill-opacity%3A%201%3B%22%2F%3E%3Cpath%20class%3D%22point%22%20transform%3D%22translate(148.42%2C123)%22%20d%3D%22M3%2C0A3%2C3%200%201%2C1%200%2C-3A3%2C3%200%200%2C1%203%2C0Z%22%20style%3D%22opacity%3A%201%3B%20stroke-width%3A%200px%3B%20fill%3A%20rgb(242%2C%20142%2C%2044)%3B%20fill-opacity%3A%201%3B%22%2F%3E%3Cpath%20class%3D%22point%22%20transform%3D%22translate(244.58%2C123)%22%20d%3D%22M3%2C0A3%2C3%200%201%2C1%200%2C-3A3%2C3%200%200%2C1%203%2C0Z%22%20style%3D%22opacity%3A%201%3B%20stroke-width%3A%200px%3B%20fill%3A%20rgb(242%2C%20142%2C%2044)%3B%20fill-opacity%3A%201%3B%22%2F%3E%3Cpath%20class%3D%22point%22%20transform%3D%22translate(340.75%2C123)%22%20d%3D%22M3%2C0A3%2C3%200%201%2C1%200%2C-3A3%2C3%200%200%2C1%203%2C0Z%22%20style%3D%22opacity%3A%201%3B%20stroke-width%3A%200px%3B%20fill%3A%20rgb(242%2C%20142%2C%2044)%3B%20fill-opacity%3A%201%3B%22%2F%3E%3Cpath%20class%3D%22point%22%20transform%3D%22translate(436.92%2C123)%22%20d%3D%22M3%2C0A3%2C3%200%201%2C1%200%2C-3A3%2C3%200%200%2C1%203%2C0Z%22%20style%3D%22opacity%3A%201%3B%20stroke-width%3A%200px%3B%20fill%3A%20rgb(242%2C%20142%2C%2044)%3B%20fill-opacity%3A%201%3B%22%2F%3E%3Cpath%20class%3D%22point%22%20transform%3D%22translate(533.08%2C123)%22%20d%3D%22M3%2C0A3%2C3%200%201%2C1%200%2C-3A3%2C3%200%200%2C1%203%2C0Z%22%20style%3D%22opacity%3A%201%3B%20stroke-width%3A%200px%3B%20fill%3A%20rgb(242%2C%20142%2C%2044)%3B%20fill-opacity%3A%201%3B%22%2F%3E%3Cpath%20class%3D%22point%22%20transform%3D%22translate(629.25%2C123)%22%20d%3D%22M3%2C0A3%2C3%200%201%2C1%200%2C-3A3%2C3%200%200%2C1%203%2C0Z%22%20style%3D%22opacity%3A%201%3B%20stroke-width%3A%200px%3B%20fill%3A%20rgb(242%2C%20142%2C%2044)%3B%20fill-opacity%3A%201%3B%22%2F%3E%3Cpath%20class%3D%22point%22%20transform%3D%22translate(725.42%2C123)%22%20d%3D%22M3%2C0A3%2C3%200%201%2C1%200%2C-3A3%2C3%200%200%2C1%203%2C0Z%22%20style%3D%22opacity%3A%201%3B%20stroke-width%3A%200px%3B%20fill%3A%20rgb(242%2C%20142%2C%2044)%3B%20fill-opacity%3A%201%3B%22%2F%3E%3Cpath%20class%3D%22point%22%20transform%3D%22translate(821.58%2C123)%22%20d%3D%22M3%2C0A3%2C3%200%201%2C1%200%2C-3A3%2C3%200%200%2C1%203%2C0Z%22%20style%3D%22opacity%3A%201%3B%20stroke-width%3A%200px%3B%20fill%3A%20rgb(242%2C%20142%2C%2044)%3B%20fill-opacity%3A%201%3B%22%2F%3E%3Cpath%20class%3D%22point%22%20transform%3D%22translate(917.75%2C123)%22%20d%3D%22M3%2C0A3%2C3%200%201%2C1%200%2C-3A3%2C3%200%200%2C1%203%2C0Z%22%20style%3D%22opacity%3A%201%3B%20stroke-width%3A%200px%3B%20fill%3A%20rgb(242%2C%20142%2C%2044)%3B%20fill-opacity%3A%201%3B%22%2F%3E%3C%2Fg%3E%3Cg%20class%3D%22text%22%3E%3Cg%20class%3D%22textpoint%22%2F%3E%3Cg%20class%3D%22textpoint%22%2F%3E%3Cg%20class%3D%22textpoint%22%2F%3E%3Cg%20class%3D%22textpoint%22%2F%3E%3Cg%20class%3D%22textpoint%22%2F%3E%3Cg%20class%3D%22textpoint%22%2F%3E%3Cg%20class%3D%22textpoint%22%2F%3E%3Cg%20class%3D%22textpoint%22%2F%3E%3Cg%20class%3D%22textpoint%22%2F%3E%3Cg%20class%3D%22textpoint%22%2F%3E%3C%2Fg%3E%3C%2Fg%3E%3C%2Fg%3E%3C%2Fg%3E%3C%2Fg%3E%3Cpath%20class%3D%22xlines-above%20crisp%22%20style%3D%22fill%3A%20none%3B%20stroke-width%3A%201px%3B%20stroke%3A%20rgb(89%2C%2089%2C%2089)%3B%20stroke-opacity%3A%200.25%3B%22%20d%3D%22M79%2C276.5H1050%22%2F%3E%3Cpath%20class%3D%22ylines-above%20crisp%22%20style%3D%22fill%3A%20none%3B%20stroke-width%3A%201px%3B%20stroke%3A%20rgb(89%2C%2089%2C%2089)%3B%20stroke-opacity%3A%200.25%3B%22%20d%3D%22M79.5%2C30V276%22%2F%3E%3Cg%20class%3D%22overlines-above%22%3E%3Cpath%20class%3D%22xy2-x%20crisp%22%20style%3D%22fill%3A%20none%3B%22%20d%3D%22M0%2C0%22%2F%3E%3Cpath%20class%3D%22xy2-y%20crisp%22%20style%3D%22fill%3A%20none%3B%22%20d%3D%22M0%2C0%22%2F%3E%3C%2Fg%3E%3Cg%20class%3D%22xaxislayer-above%22%3E%3Cg%20class%3D%22xtick%22%3E%3Ctext%20text-anchor%3D%22start%22%20x%3D%220%22%20y%3D%22291.4%22%20data-unformatted%3D%22Andrej%20Karpathy%22%20data-math%3D%22N%22%20transform%3D%22translate(132.25%2C0)%20rotate(30%2C0%2C285.4)%22%20style%3D%22font-family%3A%20%26quot%3BOpen%20Sans%26quot%3B%2C%20verdana%2C%20arial%2C%20sans-serif%3B%20font-size%3A%2012px%3B%20fill%3A%20rgb(89%2C%2089%2C%2089)%3B%20fill-opacity%3A%201%3B%20white-space%3A%20pre%3B%22%3EAndrej%20Karpathy%3C%2Ftext%3E%3C%2Fg%3E%3Cg%20class%3D%22xtick%22%3E%3Ctext%20text-anchor%3D%22start%22%20x%3D%220%22%20y%3D%22291.4%22%20data-unformatted%3D%22%F0%9F%94%A5%20Kareem%20Carr%20%F0%9F%94%A5%22%20data-math%3D%22N%22%20transform%3D%22translate(228.42%2C0)%20rotate(30%2C0%2C285.4)%22%20style%3D%22font-family%3A%20%26quot%3BOpen%20Sans%26quot%3B%2C%20verdana%2C%20arial%2C%20sans-serif%3B%20font-size%3A%2012px%3B%20fill%3A%20rgb(89%2C%2089%2C%2089)%3B%20fill-opacity%3A%201%3B%20white-space%3A%20pre%3B%22%3E%F0%9F%94%A5%20Kareem%20Carr%20%F0%9F%94%A5%3C%2Ftext%3E%3C%2Fg%3E%3Cg%20class%3D%22xtick%22%3E%3Ctext%20text-anchor%3D%22start%22%20x%3D%220%22%20y%3D%22291.4%22%20data-unformatted%3D%22Fran%C3%A7ois%20Chollet%22%20data-math%3D%22N%22%20transform%3D%22translate(324.58000000000004%2C0)%20rotate(30%2C0%2C285.4)%22%20style%3D%22font-family%3A%20%26quot%3BOpen%20Sans%26quot%3B%2C%20verdana%2C%20arial%2C%20sans-serif%3B%20font-size%3A%2012px%3B%20fill%3A%20rgb(89%2C%2089%2C%2089)%3B%20fill-opacity%3A%201%3B%20white-space%3A%20pre%3B%22%3EFran%C3%A7ois%20Chollet%3C%2Ftext%3E%3C%2Fg%3E%3Cg%20class%3D%22xtick%22%3E%3Ctext%20text-anchor%3D%22start%22%20x%3D%220%22%20y%3D%22291.4%22%20data-unformatted%3D%22Oriol%20Vinyals%22%20data-math%3D%22N%22%20transform%3D%22translate(420.75%2C0)%20rotate(30%2C0%2C285.4)%22%20style%3D%22font-family%3A%20%26quot%3BOpen%20Sans%26quot%3B%2C%20verdana%2C%20arial%2C%20sans-serif%3B%20font-size%3A%2012px%3B%20fill%3A%20rgb(89%2C%2089%2C%2089)%3B%20fill-opacity%3A%201%3B%20white-space%3A%20pre%3B%22%3EOriol%20Vinyals%3C%2Ftext%3E%3C%2Fg%3E%3Cg%20class%3D%22xtick%22%3E%3Ctext%20text-anchor%3D%22start%22%20x%3D%220%22%20y%3D%22291.4%22%20data-unformatted%3D%22Hilary%20Mason%22%20data-math%3D%22N%22%20transform%3D%22translate(516.9200000000001%2C0)%20rotate(30%2C0%2C285.4)%22%20style%3D%22font-family%3A%20%26quot%3BOpen%20Sans%26quot%3B%2C%20verdana%2C%20arial%2C%20sans-serif%3B%20font-size%3A%2012px%3B%20fill%3A%20rgb(89%2C%2089%2C%2089)%3B%20fill-opacity%3A%201%3B%20white-space%3A%20pre%3B%22%3EHilary%20Mason%3C%2Ftext%3E%3C%2Fg%3E%3Cg%20class%3D%22xtick%22%3E%3Ctext%20text-anchor%3D%22start%22%20x%3D%220%22%20y%3D%22291.4%22%20data-unformatted%3D%22Ilya%20Sutskever%22%20data-math%3D%22N%22%20transform%3D%22translate(613.08%2C0)%20rotate(30%2C0%2C285.4)%22%20style%3D%22font-family%3A%20%26quot%3BOpen%20Sans%26quot%3B%2C%20verdana%2C%20arial%2C%20sans-serif%3B%20font-size%3A%2012px%3B%20fill%3A%20rgb(89%2C%2089%2C%2089)%3B%20fill-opacity%3A%201%3B%20white-space%3A%20pre%3B%22%3EIlya%20Sutskever%3C%2Ftext%3E%3C%2Fg%3E%3Cg%20class%3D%22xtick%22%3E%3Ctext%20text-anchor%3D%22start%22%20x%3D%220%22%20y%3D%22291.4%22%20data-unformatted%3D%22Randy%20Olson%22%20data-math%3D%22N%22%20transform%3D%22translate(709.25%2C0)%20rotate(30%2C0%2C285.4)%22%20style%3D%22font-family%3A%20%26quot%3BOpen%20Sans%26quot%3B%2C%20verdana%2C%20arial%2C%20sans-serif%3B%20font-size%3A%2012px%3B%20fill%3A%20rgb(89%2C%2089%2C%2089)%3B%20fill-opacity%3A%201%3B%20white-space%3A%20pre%3B%22%3ERandy%20Olson%3C%2Ftext%3E%3C%2Fg%3E%3Cg%20class%3D%22xtick%22%3E%3Ctext%20text-anchor%3D%22start%22%20x%3D%220%22%20y%3D%22291.4%22%20data-unformatted%3D%22Pedro%20Domingos%22%20data-math%3D%22N%22%20transform%3D%22translate(805.42%2C0)%20rotate(30%2C0%2C285.4)%22%20style%3D%22font-family%3A%20%26quot%3BOpen%20Sans%26quot%3B%2C%20verdana%2C%20arial%2C%20sans-serif%3B%20font-size%3A%2012px%3B%20fill%3A%20rgb(89%2C%2089%2C%2089)%3B%20fill-opacity%3A%201%3B%20white-space%3A%20pre%3B%22%3EPedro%20Domingos%3C%2Ftext%3E%3C%2Fg%3E%3Cg%20class%3D%22xtick%22%3E%3Ctext%20text-anchor%3D%22start%22%20x%3D%220%22%20y%3D%22291.4%22%20data-unformatted%3D%22Durk%20Kingma%22%20data-math%3D%22N%22%20transform%3D%22translate(901.58%2C0)%20rotate(30%2C0%2C285.4)%22%20style%3D%22font-family%3A%20%26quot%3BOpen%20Sans%26quot%3B%2C%20verdana%2C%20arial%2C%20sans-serif%3B%20font-size%3A%2012px%3B%20fill%3A%20rgb(89%2C%2089%2C%2089)%3B%20fill-opacity%3A%201%3B%20white-space%3A%20pre%3B%22%3EDurk%20Kingma%3C%2Ftext%3E%3C%2Fg%3E%3Cg%20class%3D%22xtick%22%3E%3Ctext%20text-anchor%3D%22start%22%20x%3D%220%22%20y%3D%22291.4%22%20data-unformatted%3D%22Alvin%20Foo%22%20data-math%3D%22N%22%20transform%3D%22translate(997.75%2C0)%20rotate(30%2C0%2C285.4)%22%20style%3D%22font-family%3A%20%26quot%3BOpen%20Sans%26quot%3B%2C%20verdana%2C%20arial%2C%20sans-serif%3B%20font-size%3A%2012px%3B%20fill%3A%20rgb(89%2C%2089%2C%2089)%3B%20fill-opacity%3A%201%3B%20white-space%3A%20pre%3B%22%3EAlvin%20Foo%3C%2Ftext%3E%3C%2Fg%3E%3C%2Fg%3E%3Cg%20class%3D%22yaxislayer-above%22%3E%3Cg%20class%3D%22ytick%22%3E%3Ctext%20text-anchor%3D%22end%22%20x%3D%2276.6%22%20y%3D%224.199999999999999%22%20data-unformatted%3D%220%22%20data-math%3D%22N%22%20transform%3D%22translate(0%2C276)%22%20style%3D%22font-family%3A%20%26quot%3BOpen%20Sans%26quot%3B%2C%20verdana%2C%20arial%2C%20sans-serif%3B%20font-size%3A%2012px%3B%20fill%3A%20rgb(89%2C%2089%2C%2089)%3B%20fill-opacity%3A%201%3B%20white-space%3A%20pre%3B%22%3E0%3C%2Ftext%3E%3C%2Fg%3E%3Cg%20class%3D%22ytick%22%3E%3Ctext%20text-anchor%3D%22end%22%20x%3D%2276.6%22%20y%3D%224.199999999999999%22%20data-unformatted%3D%22500%22%20data-math%3D%22N%22%20transform%3D%22translate(0%2C235.87)%22%20style%3D%22font-family%3A%20%26quot%3BOpen%20Sans%26quot%3B%2C%20verdana%2C%20arial%2C%20sans-serif%3B%20font-size%3A%2012px%3B%20fill%3A%20rgb(89%2C%2089%2C%2089)%3B%20fill-opacity%3A%201%3B%20white-space%3A%20pre%3B%22%3E500%3C%2Ftext%3E%3C%2Fg%3E%3Cg%20class%3D%22ytick%22%3E%3Ctext%20text-anchor%3D%22end%22%20x%3D%2276.6%22%20y%3D%224.199999999999999%22%20data-unformatted%3D%221000%22%20data-math%3D%22N%22%20transform%3D%22translate(0%2C195.73)%22%20style%3D%22font-family%3A%20%26quot%3BOpen%20Sans%26quot%3B%2C%20verdana%2C%20arial%2C%20sans-serif%3B%20font-size%3A%2012px%3B%20fill%3A%20rgb(89%2C%2089%2C%2089)%3B%20fill-opacity%3A%201%3B%20white-space%3A%20pre%3B%22%3E1000%3C%2Ftext%3E%3C%2Fg%3E%3Cg%20class%3D%22ytick%22%3E%3Ctext%20text-anchor%3D%22end%22%20x%3D%2276.6%22%20y%3D%224.199999999999999%22%20data-unformatted%3D%221500%22%20data-math%3D%22N%22%20transform%3D%22translate(0%2C155.6)%22%20style%3D%22font-family%3A%20%26quot%3BOpen%20Sans%26quot%3B%2C%20verdana%2C%20arial%2C%20sans-serif%3B%20font-size%3A%2012px%3B%20fill%3A%20rgb(89%2C%2089%2C%2089)%3B%20fill-opacity%3A%201%3B%20white-space%3A%20pre%3B%22%3E1500%3C%2Ftext%3E%3C%2Fg%3E%3Cg%20class%3D%22ytick%22%3E%3Ctext%20text-anchor%3D%22end%22%20x%3D%2276.6%22%20y%3D%224.199999999999999%22%20data-unformatted%3D%222000%22%20data-math%3D%22N%22%20transform%3D%22translate(0%2C115.47)%22%20style%3D%22font-family%3A%20%26quot%3BOpen%20Sans%26quot%3B%2C%20verdana%2C%20arial%2C%20sans-serif%3B%20font-size%3A%2012px%3B%20fill%3A%20rgb(89%2C%2089%2C%2089)%3B%20fill-opacity%3A%201%3B%20white-space%3A%20pre%3B%22%3E2000%3C%2Ftext%3E%3C%2Fg%3E%3Cg%20class%3D%22ytick%22%3E%3Ctext%20text-anchor%3D%22end%22%20x%3D%2276.6%22%20y%3D%224.199999999999999%22%20data-unformatted%3D%222500%22%20data-math%3D%22N%22%20transform%3D%22translate(0%2C75.34)%22%20style%3D%22font-family%3A%20%26quot%3BOpen%20Sans%26quot%3B%2C%20verdana%2C%20arial%2C%20sans-serif%3B%20font-size%3A%2012px%3B%20fill%3A%20rgb(89%2C%2089%2C%2089)%3B%20fill-opacity%3A%201%3B%20white-space%3A%20pre%3B%22%3E2500%3C%2Ftext%3E%3C%2Fg%3E%3Cg%20class%3D%22ytick%22%3E%3Ctext%20text-anchor%3D%22end%22%20x%3D%2276.6%22%20y%3D%224.199999999999999%22%20data-unformatted%3D%223000%22%20data-math%3D%22N%22%20transform%3D%22translate(0%2C35.2)%22%20style%3D%22font-family%3A%20%26quot%3BOpen%20Sans%26quot%3B%2C%20verdana%2C%20arial%2C%20sans-serif%3B%20font-size%3A%2012px%3B%20fill%3A%20rgb(89%2C%2089%2C%2089)%3B%20fill-opacity%3A%201%3B%20white-space%3A%20pre%3B%22%3E3000%3C%2Ftext%3E%3C%2Fg%3E%3C%2Fg%3E%3Cg%20class%3D%22overaxes-above%22%3E%3Cg%20class%3D%22xy2-x%22%2F%3E%3Cg%20class%3D%22xy2-y%22%3E%3Cg%20class%3D%22y2tick%22%3E%3Ctext%20text-anchor%3D%22start%22%20x%3D%221051%22%20y%3D%224.199999999999999%22%20data-unformatted%3D%2215.5%22%20data-math%3D%22N%22%20transform%3D%22translate(0%2C266.53999999999996)%22%20style%3D%22font-family%3A%20%26quot%3BOpen%20Sans%26quot%3B%2C%20verdana%2C%20arial%2C%20sans-serif%3B%20font-size%3A%2012px%3B%20fill%3A%20rgb(89%2C%2089%2C%2089)%3B%20fill-opacity%3A%201%3B%20white-space%3A%20pre%3B%22%3E15.5%3C%2Ftext%3E%3C%2Fg%3E%3Cg%20class%3D%22y2tick%22%3E%3Ctext%20text-anchor%3D%22start%22%20x%3D%221051%22%20y%3D%224.199999999999999%22%20data-unformatted%3D%2216%22%20data-math%3D%22N%22%20transform%3D%22translate(0%2C205.04)%22%20style%3D%22font-family%3A%20%26quot%3BOpen%20Sans%26quot%3B%2C%20verdana%2C%20arial%2C%20sans-serif%3B%20font-size%3A%2012px%3B%20fill%3A%20rgb(89%2C%2089%2C%2089)%3B%20fill-opacity%3A%201%3B%20white-space%3A%20pre%3B%22%3E16%3C%2Ftext%3E%3C%2Fg%3E%3Cg%20class%3D%22y2tick%22%3E%3Ctext%20text-anchor%3D%22start%22%20x%3D%221051%22%20y%3D%224.199999999999999%22%20data-unformatted%3D%2216.5%22%20data-math%3D%22N%22%20transform%3D%22translate(0%2C143.54000000000002)%22%20style%3D%22font-family%3A%20%26quot%3BOpen%20Sans%26quot%3B%2C%20verdana%2C%20arial%2C%20sans-serif%3B%20font-size%3A%2012px%3B%20fill%3A%20rgb(89%2C%2089%2C%2089)%3B%20fill-opacity%3A%201%3B%20white-space%3A%20pre%3B%22%3E16.5%3C%2Ftext%3E%3C%2Fg%3E%3Cg%20class%3D%22y2tick%22%3E%3Ctext%20text-anchor%3D%22start%22%20x%3D%221051%22%20y%3D%224.199999999999999%22%20data-unformatted%3D%2217%22%20data-math%3D%22N%22%20transform%3D%22translate(0%2C82.03999999999999)%22%20style%3D%22font-family%3A%20%26quot%3BOpen%20Sans%26quot%3B%2C%20verdana%2C%20arial%2C%20sans-serif%3B%20font-size%3A%2012px%3B%20fill%3A%20rgb(89%2C%2089%2C%2089)%3B%20fill-opacity%3A%201%3B%20white-space%3A%20pre%3B%22%3E17%3C%2Ftext%3E%3C%2Fg%3E%3C%2Fg%3E%3C%2Fg%3E%3C%2Fg%3E%3Cg%20class%3D%22subplot%20xy2%22%2F%3E%3C%2Fg%3E%3Cg%20class%3D%22polarlayer%22%2F%3E%3Cg%20class%3D%22ternarylayer%22%2F%3E%3Cg%20class%3D%22geolayer%22%2F%3E%3Cg%20class%3D%22funnelarealayer%22%2F%3E%3Cg%20class%3D%22pielayer%22%2F%3E%3Cg%20class%3D%22treemaplayer%22%2F%3E%3Cg%20class%3D%22sunburstlayer%22%2F%3E%3Cg%20class%3D%22glimages%22%2F%3E%3Cdefs%20id%3D%22topdefs-62655c%22%3E%3Cg%20class%3D%22clips%22%2F%3E%3CclipPath%20id%3D%22legend62655c%22%3E%3Crect%20width%3D%22114%22%20height%3D%2258%22%20x%3D%220%22%20y%3D%220%22%2F%3E%3C%2FclipPath%3E%3C%2Fdefs%3E%3Cg%20class%3D%22indicatorlayer%22%2F%3E%3Cg%20class%3D%22layer-above%22%3E%3Cg%20class%3D%22imagelayer%22%2F%3E%3Cg%20class%3D%22shapelayer%22%2F%3E%3C%2Fg%3E%3Cg%20class%3D%22infolayer%22%3E%3Cg%20class%3D%22legend%22%20pointer-events%3D%22all%22%20transform%3D%22translate(1069%2C30)%22%3E%3Crect%20class%3D%22bg%22%20shape-rendering%3D%22crispEdges%22%20style%3D%22stroke%3A%20rgb(68%2C%2068%2C%2068)%3B%20stroke-opacity%3A%201%3B%20fill%3A%20rgb(255%2C%20255%2C%20255)%3B%20fill-opacity%3A%201%3B%20stroke-width%3A%200px%3B%22%20width%3D%22114%22%20height%3D%2258%22%20x%3D%220%22%20y%3D%220%22%2F%3E%3Cg%20class%3D%22scrollbox%22%20transform%3D%22%22%20clip-path%3D%22url('%23legend62655c')%22%3E%3Cg%20class%3D%22groups%22%20transform%3D%22%22%3E%3Cg%20class%3D%22traces%22%20style%3D%22opacity%3A%201%3B%22%20transform%3D%22translate(0%2C14.5)%22%3E%3Ctext%20class%3D%22legendtext%22%20text-anchor%3D%22start%22%20x%3D%2240%22%20y%3D%224.680000000000001%22%20data-unformatted%3D%22likes%22%20data-math%3D%22N%22%20style%3D%22font-family%3A%20%26quot%3BOpen%20Sans%26quot%3B%2C%20verdana%2C%20arial%2C%20sans-serif%3B%20font-size%3A%2012px%3B%20fill%3A%20rgb(89%2C%2089%2C%2089)%3B%20fill-opacity%3A%201%3B%20white-space%3A%20pre%3B%22%3Elikes%3C%2Ftext%3E%3Cg%20class%3D%22layers%22%20style%3D%22opacity%3A%201%3B%22%3E%3Cg%20class%3D%22legendfill%22%2F%3E%3Cg%20class%3D%22legendlines%22%2F%3E%3Cg%20class%3D%22legendsymbols%22%3E%3Cg%20class%3D%22legendpoints%22%3E%3Cpath%20class%3D%22legendundefined%22%20d%3D%22M6%2C6H-6V-6H6Z%22%20transform%3D%22translate(20%2C0)%22%20style%3D%22stroke-width%3A%200px%3B%20fill%3A%20rgb(78%2C%20121%2C%20167)%3B%20fill-opacity%3A%201%3B%22%2F%3E%3C%2Fg%3E%3C%2Fg%3E%3C%2Fg%3E%3Crect%20class%3D%22legendtoggle%22%20pointer-events%3D%22all%22%20x%3D%220%22%20y%3D%22-9.5%22%20width%3D%22108.234375%22%20height%3D%2219%22%20style%3D%22cursor%3A%20pointer%3B%20fill%3A%20rgb(0%2C%200%2C%200)%3B%20fill-opacity%3A%200%3B%22%2F%3E%3C%2Fg%3E%3C%2Fg%3E%3Cg%20class%3D%22groups%22%20transform%3D%22translate(0%2C10)%22%3E%3Cg%20class%3D%22traces%22%20style%3D%22opacity%3A%201%3B%22%20transform%3D%22translate(0%2C33.5)%22%3E%3Ctext%20class%3D%22legendtext%22%20text-anchor%3D%22start%22%20x%3D%2240%22%20y%3D%224.680000000000001%22%20data-unformatted%3D%22likes_mean%22%20data-math%3D%22N%22%20style%3D%22font-family%3A%20%26quot%3BOpen%20Sans%26quot%3B%2C%20verdana%2C%20arial%2C%20sans-serif%3B%20font-size%3A%2012px%3B%20fill%3A%20rgb(89%2C%2089%2C%2089)%3B%20fill-opacity%3A%201%3B%20white-space%3A%20pre%3B%22%3Elikes_mean%3C%2Ftext%3E%3Cg%20class%3D%22layers%22%20style%3D%22opacity%3A%201%3B%22%3E%3Cg%20class%3D%22legendfill%22%2F%3E%3Cg%20class%3D%22legendlines%22%3E%3Cpath%20class%3D%22js-line%22%20d%3D%22M5%2C0h30%22%20style%3D%22fill%3A%20none%3B%20stroke%3A%20rgb(242%2C%20142%2C%2044)%3B%20stroke-opacity%3A%201%3B%20stroke-width%3A%202px%3B%22%2F%3E%3C%2Fg%3E%3Cg%20class%3D%22legendsymbols%22%3E%3Cg%20class%3D%22legendpoints%22%3E%3Cpath%20class%3D%22scatterpts%22%20transform%3D%22translate(20%2C0)%22%20d%3D%22M3%2C0A3%2C3%200%201%2C1%200%2C-3A3%2C3%200%200%2C1%203%2C0Z%22%20style%3D%22opacity%3A%201%3B%20stroke-width%3A%200px%3B%20fill%3A%20rgb(242%2C%20142%2C%2044)%3B%20fill-opacity%3A%201%3B%22%2F%3E%3Cg%20class%3D%22pointtext%22%20transform%3D%22translate(0%2C12.25)%22%3E%3Ctext%20transform%3D%22translate(20%2C0)%22%20data-unformatted%3D%22Aa%22%20data-math%3D%22N%22%20x%3D%220%22%20y%3D%220%22%20text-anchor%3D%22middle%22%20style%3D%22font-family%3A%20%26quot%3BOpen%20Sans%26quot%3B%2C%20verdana%2C%20arial%2C%20sans-serif%3B%20font-size%3A%2010px%3B%20fill%3A%20rgb(89%2C%2089%2C%2089)%3B%20fill-opacity%3A%201%3B%20white-space%3A%20pre%3B%22%3EAa%3C%2Ftext%3E%3C%2Fg%3E%3C%2Fg%3E%3C%2Fg%3E%3C%2Fg%3E%3Crect%20class%3D%22legendtoggle%22%20pointer-events%3D%22all%22%20x%3D%220%22%20y%3D%22-9.5%22%20width%3D%22108.234375%22%20height%3D%2219%22%20style%3D%22cursor%3A%20pointer%3B%20fill%3A%20rgb(0%2C%200%2C%200)%3B%20fill-opacity%3A%200%3B%22%2F%3E%3C%2Fg%3E%3C%2Fg%3E%3C%2Fg%3E%3Crect%20class%3D%22scrollbar%22%20rx%3D%2220%22%20ry%3D%223%22%20width%3D%220%22%20height%3D%220%22%20style%3D%22fill%3A%20rgb(128%2C%20139%2C%20164)%3B%20fill-opacity%3A%201%3B%22%20x%3D%220%22%20y%3D%220%22%2F%3E%3C%2Fg%3E%3Cg%20class%3D%22g-gtitle%22%2F%3E%3Cg%20class%3D%22g-xtitle%22%2F%3E%3Cg%20class%3D%22g-ytitle%22%2F%3E%3Cg%20class%3D%22g-y2title%22%2F%3E%3C%2Fg%3E%3Cg%20class%3D%22menulayer%22%2F%3E%3Cg%20class%3D%22zoomlayer%22%2F%3E%3Cg%20class%3D%22hoverlayer%22%2F%3E%3C%2Fsvg%3E\">"
      ],
      "text/plain": [
       "Open the notebook in JupyterLab with the atoti extension enabled to build this widget."
      ]
     },
     "metadata": {},
     "output_type": "display_data"
    }
   ],
   "source": [
    "session.visualize(\"Top 10 influencers - Number of likes per tweet\")"
   ]
  },
  {
   "cell_type": "markdown",
   "metadata": {},
   "source": [
    "The graphs demonstrate well that there is a clear distinction between the qantity or the tweets produced by an influencer and the number of people he reaches in terms of the number of replies, retweets and quotes, and likes he gets from his posts.\n",
    "\n",
    "In fact, if we consider the top 3 influencers that post the most: \n",
    "- Dr. Robin Kiera\n",
    "- KDnuggets\n",
    "- Tamara McCleary\n",
    "\n",
    "We oserve that none of them is within the top 10 influencers whose tweets are the most replied, retweeted or quoted, or liked.\n",
    "\n",
    "Unlike these influencers, if we consider Andrej Karpathy who has the higher replies and likes rates per tweet, we can observe that he is actually not even amongst the top 20 influencers with the most tweets.\n",
    "\n",
    "As a consequence, it seems that being more replied, retweeted, quoted or liked has more to have with the content of the tweets written or their quality."
   ]
  },
  {
   "cell_type": "markdown",
   "metadata": {},
   "source": [
    "#### In what follows, we the perform the same kind of analysis than before, but for each topic\n",
    "#### We will focus only on the 5 most discussed topics (top 5 topics with the most tweets associated)"
   ]
  },
  {
   "cell_type": "markdown",
   "metadata": {},
   "source": [
    "#### Top 5 topics\n",
    "Here, we consider the most popular topics as being the ones with the most related tweets, replies, retweets, quotes, and likes."
   ]
  },
  {
   "cell_type": "code",
   "execution_count": 19,
   "metadata": {
    "atoti": {
     "height": 238,
     "widget": {
      "filters": [
       "TopCount(Filter([influencer].[topic].Levels(1).Members, NOT IsEmpty([Measures].[contributors.COUNT])), 5, [Measures].[contributors.COUNT])"
      ],
      "mapping": {
       "columns": [
        "ALL_MEASURES"
       ],
       "measures": [
        "[Measures].[contributors.COUNT]"
       ],
       "rows": [
        "[influencer].[topic].[topic]"
       ]
      },
      "query": {
       "mdx": "SELECT NON EMPTY Order(Hierarchize(Descendants({[influencer].[topic].[AllMember]}, 1, SELF_AND_BEFORE)), [Measures].[contributors.COUNT], DESC) ON ROWS, NON EMPTY {[Measures].[contributors.COUNT]} ON COLUMNS FROM [influencer_cube]",
       "updateMode": "once"
      },
      "serverKey": "default",
      "widgetKey": "pivot-table"
     }
    },
    "tags": []
   },
   "outputs": [
    {
     "data": {
      "application/vnd.atoti.widget.v0+json": {
       "name": "Top 5 topics",
       "sessionId": "1674717365_VNWIH9",
       "sessionLocation": {
        "https": false,
        "port": 60114
       },
       "widgetCreationCode": "session.visualize()"
      },
      "text/html": [
       "<img src=\"data:image/svg+xml;charset=utf8,%3C%3Fxml%20version%3D%221.0%22%20standalone%3D%22no%22%3F%3E%3Csvg%20xmlns%3D%22http%3A%2F%2Fwww.w3.org%2F2000%2Fsvg%22%20height%3D%22230%22%20width%3D%221183%22%3E%3CforeignObject%20width%3D%22100%25%22%20height%3D%22100%25%22%20x%3D%220%22%20y%3D%220%22%3E%3Cstyle%20xmlns%3D%22http%3A%2F%2Fwww.w3.org%2F1999%2Fxhtml%22%20type%3D%22text%2Fcss%22%3E*%2C%20%3A%3Abefore%2C%20%3A%3Aafter%20%7Bbox-sizing%3A%20unset%7D%0A.ant-root%20%5Bclass%5E%3D%22ant-%22%5D%2C%20.ant-root%20%5Bclass*%3D%22ant-%22%5D%2C%20.ant-root%20%5Bclass%5E%3D%22ant-%22%5D%20*%2C%20.ant-root%20%5Bclass*%3D%22ant-%22%5D%20*%2C%20.ant-root%20%5Bclass%5E%3D%22ant-%22%5D%20%3A%3Abefore%2C%20.ant-root%20%5Bclass*%3D%22ant-%22%5D%20%3A%3Abefore%2C%20.ant-root%20%5Bclass%5E%3D%22ant-%22%5D%20%3A%3Aafter%2C%20.ant-root%20%5Bclass*%3D%22ant-%22%5D%20%3A%3Aafter%20%7Bbox-sizing%3A%20border-box%7D%0A.ant-root%2C%20.ant-root%20%7Bwidth%3A%20100%25%3B%20height%3A%20100%25%7D%0A.ant-root%20*%2C%20.ant-root%20%3A%3Abefore%2C%20.ant-root%20%3A%3Aafter%20%7Bbox-sizing%3A%20border-box%7D%0A.ant-root%20%7Btext-size-adjust%3A%20100%25%3B%20-webkit-tap-highlight-color%3A%20rgba(0%2C%200%2C%200%2C%200)%3B%20font-family%3A%20-apple-system%2C%20BlinkMacSystemFont%2C%20%22Segoe%20UI%22%2C%20Roboto%2C%20%22Helvetica%20Neue%22%2C%20Arial%2C%20%22Noto%20Sans%22%2C%20sans-serif%2C%20%22Apple%20Color%20Emoji%22%2C%20%22Segoe%20UI%20Emoji%22%2C%20%22Segoe%20UI%20Symbol%22%2C%20%22Noto%20Color%20Emoji%22%3B%20line-height%3A%201.66667%3B%20color%3A%20rgb(89%2C%2089%2C%2089)%3B%20font-variant-ligatures%3A%20normal%3B%20font-variant-numeric%3A%20tabular-nums%3B%20font-variant-east-asian%3A%20normal%3B%20font-variant-caps%3A%20normal%3B%20background-color%3A%20rgb(255%2C%20255%2C%20255)%3B%20margin-top%3A%200px%3B%20margin-right%3A%200px%3B%20margin-bottom%3A%200px%3B%20margin-left%3A%200px%3B%20font-size%3A%2012px%3B%20--antd-wave-shadow-color%3A%20%231890ff%3B%20--scroll-bar%3A%200%7D%0A.ant-root%20svg%3Anot(%3Aroot)%20%7Boverflow-x%3A%20hidden%3B%20overflow-y%3A%20hidden%7D%0A.ant-root%20.aui-invisible-scrollbars%20%7B%7D%0A.css-12ebr42-AWidget%20%7Bheight%3A%20100%25%7D%0A.css-2p9ued-WidgetLoadingOverlay%20%7Bheight%3A%20100%25%3B%20position%3A%20relative%7D%0A.css-1b1raxz-DefaultWidgetLoadingOverlay%20%7Bdisplay%3A%20flex%3B%20height%3A%20100%25%3B%20-webkit-box-pack%3A%20center%3B%20justify-content%3A%20center%3B%20position%3A%20absolute%3B%20width%3A%20100%25%3B%20-webkit-box-align%3A%20center%3B%20align-items%3A%20center%3B%20pointer-events%3A%20none%3B%20z-index%3A%202%7D%0A.css-34a2ml-DefaultWidgetLoadingOverlay%20%7Bbackground-image%3A%20initial%3B%20background-position-x%3A%20initial%3B%20background-position-y%3A%20initial%3B%20background-size%3A%20initial%3B%20background-repeat-x%3A%20initial%3B%20background-repeat-y%3A%20initial%3B%20background-attachment%3A%20initial%3B%20background-origin%3A%20initial%3B%20background-clip%3A%20initial%3B%20background-color%3A%20transparent%3B%20width%3A%20calc(100%25%20-%204px)%3B%20height%3A%20calc(100%25%20-%204px)%7D%0A.css-1hwl8p1-Table%20%7Bpadding-bottom%3A%202px%3B%20padding-right%3A%202px%3B%20height%3A%20100%25%7D%0A.css-14ejcn0-Table%20%7Bheight%3A%20calc(100%25%20-%2030px)%3B%20outline-color%3A%20initial%3B%20outline-style%3A%20none%3B%20outline-width%3A%20initial%3B%20position%3A%20relative%7D%0A.css-1rxpjm0-ColumnResizeHint%20%7Bdisplay%3A%20none%3B%20position%3A%20absolute%3B%20z-index%3A%201%7D%0A.css-walxhl-ColumnResizeHint%20%7Bheight%3A%2028px%3B%20background-color%3A%20rgb(24%2C%20144%2C%20255)%3B%20width%3A%205px%7D%0A.css-1uww2vi-Table%20%7Bheight%3A%2030px%3B%20text-align%3A%20right%3B%20padding-right%3A%2025px%7D%0A.css-9wvnih-Table%20%7Bborder-collapse%3A%20collapse%3B%20height%3A%2028px%3B%20width%3A%20120px%7D%0A.css-gy6esx%20%7Bheight%3A%2028px%3B%20width%3A%20120px%7D%0A.css-n1rdc6%20%7Bcursor%3A%20cell%3B%20height%3A%2028px%3B%20overflow-x%3A%20hidden%3B%20overflow-y%3A%20hidden%3B%20position%3A%20relative%3B%20width%3A%20120px%3B%20border-right-width%3A%202px%3B%20border-right-style%3A%20solid%3B%20border-right-color%3A%20rgb(233%2C%20233%2C%20233)%7D%0A.css-1hol363-ResizableCell%20%7Bdisplay%3A%20flex%3B%20flex-direction%3A%20column%3B%20position%3A%20absolute%3B%20top%3A%200px%3B%20left%3A%200px%3B%20height%3A%2028px%3B%20width%3A%20120px%7D%0A.css-xxcrt1-ResizableCell%20%7Bbackground-image%3A%20initial%3B%20background-position-x%3A%20initial%3B%20background-position-y%3A%20initial%3B%20background-size%3A%20initial%3B%20background-repeat-x%3A%20initial%3B%20background-repeat-y%3A%20initial%3B%20background-attachment%3A%20initial%3B%20background-origin%3A%20initial%3B%20background-clip%3A%20initial%3B%20background-color%3A%20transparent%3B%20cursor%3A%20col-resize%3B%20height%3A%20100%25%3B%20position%3A%20absolute%3B%20right%3A%200px%3B%20width%3A%205px%3B%20z-index%3A%201%7D%0A.css-cbby7p-Table%20%7Bwidth%3A%201061px%3B%20border-collapse%3A%20collapse%7D%0A.css-1v9chc6%20%7Bheight%3A%2028px%3B%20width%3A%201043px%3B%20overflow-x%3A%20auto%3B%20overflow-y%3A%20hidden%7D%0A.css-195tbl3-ColumnResizeHint%20%7Bdisplay%3A%20none%3B%20float%3A%20right%3B%20height%3A%20170px%3B%20background-color%3A%20rgb(24%2C%20144%2C%20255)%3B%20opacity%3A%200.4%3B%20width%3A%202px%7D%0A.css-14h4hd1-Table%20%7Bdisplay%3A%20flex%3B%20height%3A%20198px%7D%0A.css-1wkv7c2%20%7Bheight%3A%20170px%3B%20width%3A%20120px%3B%20overflow-x%3A%20hidden%3B%20overflow-y%3A%20auto%7D%0A.css-k28svq%20%7Bcursor%3A%20cell%3B%20height%3A%20168px%3B%20overflow-x%3A%20hidden%3B%20overflow-y%3A%20hidden%3B%20position%3A%20relative%3B%20width%3A%20120px%3B%20border-top-width%3A%202px%3B%20border-top-style%3A%20solid%3B%20border-top-color%3A%20rgb(233%2C%20233%2C%20233)%3B%20border-right-width%3A%202px%3B%20border-right-style%3A%20solid%3B%20border-right-color%3A%20rgb(233%2C%20233%2C%20233)%7D%0A.css-1toshix%20%7Bcursor%3A%20cell%3B%20height%3A%2028px%3B%20overflow-x%3A%20hidden%3B%20overflow-y%3A%20hidden%3B%20position%3A%20relative%3B%20width%3A%20120px%7D%0A.css-uda990%20%7Bheight%3A%20170px%3B%20width%3A%201061px%3B%20overflow-x%3A%20auto%3B%20overflow-y%3A%20auto%7D%0A.css-15wrixa%20%7Bcursor%3A%20cell%3B%20height%3A%20168px%3B%20overflow-x%3A%20hidden%3B%20overflow-y%3A%20hidden%3B%20position%3A%20relative%3B%20width%3A%20120px%3B%20border-top-width%3A%202px%3B%20border-top-style%3A%20solid%3B%20border-top-color%3A%20rgb(233%2C%20233%2C%20233)%7D%0A*%20%7B-ms-overflow-style%3A%20none%3B%20scrollbar-width%3A%20none%7D%0A*%3A%3A-webkit-scrollbar%20%7Bdisplay%3A%20none%7D%0A.atoti-hidden-in-snapshot%20%7Bdisplay%3A%20none%7D%3C%2Fstyle%3E%3Cdiv%20xmlns%3D%22http%3A%2F%2Fwww.w3.org%2F1999%2Fxhtml%22%20style%3D%22height%3A%20230px%3B%20width%3A%201183px%3B%22%3E%3Cdiv%20class%3D%22ant-root%20css-0%22%3E%3Cdiv%20class%3D%22ant-dropdown-trigger%20css-12ebr42-AWidget%22%3E%3Cdiv%20class%3D%22css-2p9ued-WidgetLoadingOverlay%22%3E%3Cdiv%20class%3D%22css-1b1raxz-DefaultWidgetLoadingOverlay%22%3E%3Cdiv%20class%3D%22css-34a2ml-DefaultWidgetLoadingOverlay%22%3E%3C%2Fdiv%3E%3C%2Fdiv%3E%3Cdiv%20class%3D%22css-1hwl8p1-Table%22%3E%3Cdiv%20tabindex%3D%220%22%20class%3D%22css-14ejcn0-Table%22%3E%3Cdiv%20class%3D%22css-1rxpjm0-ColumnResizeHint%22%3E%3Cdiv%20class%3D%22css-walxhl-ColumnResizeHint%22%3E%3C%2Fdiv%3E%3Cdiv%20class%3D%22css-195tbl3-ColumnResizeHint%22%3E%3C%2Fdiv%3E%3C%2Fdiv%3E%3Cdiv%20class%3D%22css-14h4hd1-Table%22%3E%3Cdiv%20class%3D%22css-9wvnih-Table%22%3E%3Cdiv%20class%3D%22%20css-gy6esx%22%3E%3Cdiv%20class%3D%22css-n1rdc6%22%3E%3Cdiv%20class%3D%22css-1hol363-ResizableCell%22%3E%3Cdiv%20class%3D%22aui-table-cell%22%20style%3D%22height%3A%2028px%3B%20left%3A%200px%3B%20top%3A%200px%3B%20width%3A%20115px%3B%20text-align%3A%20left%3B%20font-size%3A%2012px%3B%20padding%3A%204px%204px%203px%3B%20overflow%3A%20hidden%3B%20position%3A%20absolute%3B%20white-space%3A%20nowrap%3B%20text-overflow%3A%20ellipsis%3B%20font-weight%3A%20600%3B%20display%3A%20flex%3B%20align-items%3A%20center%3B%22%3E%3Cspan%3Etopic%3C%2Fspan%3E%3C%2Fdiv%3E%3Cdiv%20class%3D%22css-xxcrt1-ResizableCell%22%3E%3C%2Fdiv%3E%3C%2Fdiv%3E%3C%2Fdiv%3E%3C%2Fdiv%3E%3Cdiv%20class%3D%22aui-invisible-scrollbars%20css-1wkv7c2%22%3E%3Cdiv%20class%3D%22css-k28svq%22%3E%3Cdiv%20style%3D%22display%3A%20flex%3B%20align-items%3A%20center%3B%20height%3A%2028px%3B%20left%3A%200px%3B%20top%3A%200px%3B%20width%3A%20120px%3B%20text-align%3A%20left%3B%20font-size%3A%2012px%3B%20padding%3A%204px%204px%203px%3B%20overflow%3A%20hidden%3B%20position%3A%20absolute%3B%20white-space%3A%20nowrap%3B%20text-overflow%3A%20ellipsis%3B%20border-right%3A%202px%20solid%20rgb(233%2C%20233%2C%20233)%3B%20background-color%3A%20transparent%3B%22%3E%3Cspan%20style%3D%22text-overflow%3A%20ellipsis%3B%20overflow%3A%20hidden%3B%20white-space%3A%20nowrap%3B%20max-width%3A%20calc((100%25%20-%200px)%20-%200px)%3B%22%3ETotal%3C%2Fspan%3E%3C%2Fdiv%3E%3Cdiv%20style%3D%22display%3A%20flex%3B%20align-items%3A%20center%3B%20height%3A%2028px%3B%20left%3A%200px%3B%20top%3A%2028px%3B%20width%3A%20120px%3B%20text-align%3A%20left%3B%20font-size%3A%2012px%3B%20padding%3A%204px%204px%203px%3B%20overflow%3A%20hidden%3B%20position%3A%20absolute%3B%20white-space%3A%20nowrap%3B%20text-overflow%3A%20ellipsis%3B%20border-right%3A%202px%20solid%20rgb(233%2C%20233%2C%20233)%3B%20background-color%3A%20rgb(250%2C%20250%2C%20250)%3B%22%3E%3Cspan%20style%3D%22text-overflow%3A%20ellipsis%3B%20overflow%3A%20hidden%3B%20white-space%3A%20nowrap%3B%20max-width%3A%20calc((100%25%20-%200px)%20-%200px)%3B%22%3E186%3C%2Fspan%3E%3C%2Fdiv%3E%3Cdiv%20style%3D%22display%3A%20flex%3B%20align-items%3A%20center%3B%20height%3A%2028px%3B%20left%3A%200px%3B%20top%3A%2056px%3B%20width%3A%20120px%3B%20text-align%3A%20left%3B%20font-size%3A%2012px%3B%20padding%3A%204px%204px%203px%3B%20overflow%3A%20hidden%3B%20position%3A%20absolute%3B%20white-space%3A%20nowrap%3B%20text-overflow%3A%20ellipsis%3B%20border-right%3A%202px%20solid%20rgb(233%2C%20233%2C%20233)%3B%20background-color%3A%20transparent%3B%22%3E%3Cspan%20style%3D%22text-overflow%3A%20ellipsis%3B%20overflow%3A%20hidden%3B%20white-space%3A%20nowrap%3B%20max-width%3A%20calc((100%25%20-%200px)%20-%200px)%3B%22%3E96%3C%2Fspan%3E%3C%2Fdiv%3E%3Cdiv%20style%3D%22display%3A%20flex%3B%20align-items%3A%20center%3B%20height%3A%2028px%3B%20left%3A%200px%3B%20top%3A%2084px%3B%20width%3A%20120px%3B%20text-align%3A%20left%3B%20font-size%3A%2012px%3B%20padding%3A%204px%204px%203px%3B%20overflow%3A%20hidden%3B%20position%3A%20absolute%3B%20white-space%3A%20nowrap%3B%20text-overflow%3A%20ellipsis%3B%20border-right%3A%202px%20solid%20rgb(233%2C%20233%2C%20233)%3B%20background-color%3A%20rgb(250%2C%20250%2C%20250)%3B%22%3E%3Cspan%20style%3D%22text-overflow%3A%20ellipsis%3B%20overflow%3A%20hidden%3B%20white-space%3A%20nowrap%3B%20max-width%3A%20calc((100%25%20-%200px)%20-%200px)%3B%22%3E112%3C%2Fspan%3E%3C%2Fdiv%3E%3Cdiv%20style%3D%22display%3A%20flex%3B%20align-items%3A%20center%3B%20height%3A%2028px%3B%20left%3A%200px%3B%20top%3A%20112px%3B%20width%3A%20120px%3B%20text-align%3A%20left%3B%20font-size%3A%2012px%3B%20padding%3A%204px%204px%203px%3B%20overflow%3A%20hidden%3B%20position%3A%20absolute%3B%20white-space%3A%20nowrap%3B%20text-overflow%3A%20ellipsis%3B%20border-right%3A%202px%20solid%20rgb(233%2C%20233%2C%20233)%3B%20background-color%3A%20transparent%3B%22%3E%3Cspan%20style%3D%22text-overflow%3A%20ellipsis%3B%20overflow%3A%20hidden%3B%20white-space%3A%20nowrap%3B%20max-width%3A%20calc((100%25%20-%200px)%20-%200px)%3B%22%3E22%3C%2Fspan%3E%3C%2Fdiv%3E%3Cdiv%20style%3D%22display%3A%20flex%3B%20align-items%3A%20center%3B%20height%3A%2028px%3B%20left%3A%200px%3B%20top%3A%20140px%3B%20width%3A%20120px%3B%20text-align%3A%20left%3B%20font-size%3A%2012px%3B%20padding%3A%204px%204px%203px%3B%20overflow%3A%20hidden%3B%20position%3A%20absolute%3B%20white-space%3A%20nowrap%3B%20text-overflow%3A%20ellipsis%3B%20border-right%3A%202px%20solid%20rgb(233%2C%20233%2C%20233)%3B%20background-color%3A%20rgb(250%2C%20250%2C%20250)%3B%22%3E%3Cspan%20style%3D%22text-overflow%3A%20ellipsis%3B%20overflow%3A%20hidden%3B%20white-space%3A%20nowrap%3B%20max-width%3A%20calc((100%25%20-%200px)%20-%200px)%3B%22%3E329%3C%2Fspan%3E%3C%2Fdiv%3E%3C%2Fdiv%3E%3C%2Fdiv%3E%3C%2Fdiv%3E%3Cdiv%20class%3D%22css-cbby7p-Table%22%3E%3Cdiv%20class%3D%22aui-invisible-scrollbars%20css-1v9chc6%22%3E%3Cdiv%20class%3D%22css-1toshix%22%3E%3Cdiv%20class%3D%22css-1hol363-ResizableCell%22%3E%3Cdiv%20style%3D%22display%3A%20flex%3B%20align-items%3A%20center%3B%20height%3A%2028px%3B%20left%3A%200px%3B%20top%3A%200px%3B%20width%3A%20115px%3B%20text-align%3A%20left%3B%20font-size%3A%2012px%3B%20padding%3A%204px%204px%203px%3B%20overflow%3A%20hidden%3B%20position%3A%20absolute%3B%20white-space%3A%20nowrap%3B%20text-overflow%3A%20ellipsis%3B%20font-weight%3A%20600%3B%22%3E%3Cspan%20style%3D%22text-overflow%3A%20ellipsis%3B%20overflow%3A%20hidden%3B%20white-space%3A%20nowrap%3B%20max-width%3A%20calc((100%25%20-%200px)%20-%2018px)%3B%22%3Econtributors.COUNT%3C%2Fspan%3E%3Csvg%20xmlns%3D%22http%3A%2F%2Fwww.w3.org%2F2000%2Fsvg%22%20viewBox%3D%2264%2064%20896%20896%22%20width%3D%221em%22%20height%3D%221em%22%20fill%3D%22currentColor%22%20style%3D%22cursor%3A%20pointer%3B%20height%3A%20100%25%3B%20margin-left%3A%20auto%3B%22%3E%3Cpath%20d%3D%22M180%20325h76v530a8%208%200%20008%208h56a8%208%200%20008-8V325h76a8%208%200%20006.3-13l-112-141.9a8%208%200%2000-11.2-1.4l-1.4%201.4-112%20141.9a8.1%208.1%200%20006.3%2013zm461.6-109.2v232.3h61.9V127.6h-51.6l-89.7%2091.5%2038.4%2039.6%2041-42.9zm2.4%20615.8c29.6-23.4%2060.2-49.5%2082.5-75.5%2027-31.5%2040.2-61%2040.2-90.2s-12.1-55.8-35.1-73.7c-20.2-15.7-47.6-24.4-77.2-24.4-45.8%200-88.1%2018.9-113.3%2050.5l-4.2%205.3%2037.2%2041%205.9-7c12.9-15.5%2036.4-33.9%2074.9-33.9%2023.2%200%2050.2%2011%2050.2%2042.1%200%2043.5-51.3%2087.7-160.3%20171.5l-3.1%202.4V887H768v-55.4z%22%2F%3E%3C%2Fsvg%3E%3C%2Fdiv%3E%3Cdiv%20class%3D%22css-xxcrt1-ResizableCell%22%3E%3C%2Fdiv%3E%3C%2Fdiv%3E%3C%2Fdiv%3E%3C%2Fdiv%3E%3Cdiv%20class%3D%22%20css-uda990%22%3E%3Cdiv%20class%3D%22css-15wrixa%22%3E%3Cdiv%20class%3D%22aui-table-cell%22%20style%3D%22height%3A%2028px%3B%20left%3A%200px%3B%20top%3A%200px%3B%20width%3A%20120px%3B%20text-align%3A%20right%3B%20font-size%3A%2012px%3B%20padding%3A%204px%204px%203px%3B%20overflow%3A%20hidden%3B%20position%3A%20absolute%3B%20white-space%3A%20nowrap%3B%20text-overflow%3A%20ellipsis%3B%20border-right%3A%201px%20solid%20rgb(233%2C%20233%2C%20233)%3B%20background-color%3A%20transparent%3B%22%3E667%3C%2Fdiv%3E%3Cdiv%20class%3D%22aui-table-cell%22%20style%3D%22height%3A%2028px%3B%20left%3A%200px%3B%20top%3A%2028px%3B%20width%3A%20120px%3B%20text-align%3A%20right%3B%20font-size%3A%2012px%3B%20padding%3A%204px%204px%203px%3B%20overflow%3A%20hidden%3B%20position%3A%20absolute%3B%20white-space%3A%20nowrap%3B%20text-overflow%3A%20ellipsis%3B%20border-right%3A%201px%20solid%20rgb(233%2C%20233%2C%20233)%3B%20background-color%3A%20rgb(250%2C%20250%2C%20250)%3B%22%3E153%3C%2Fdiv%3E%3Cdiv%20class%3D%22aui-table-cell%22%20style%3D%22height%3A%2028px%3B%20left%3A%200px%3B%20top%3A%2056px%3B%20width%3A%20120px%3B%20text-align%3A%20right%3B%20font-size%3A%2012px%3B%20padding%3A%204px%204px%203px%3B%20overflow%3A%20hidden%3B%20position%3A%20absolute%3B%20white-space%3A%20nowrap%3B%20text-overflow%3A%20ellipsis%3B%20border-right%3A%201px%20solid%20rgb(233%2C%20233%2C%20233)%3B%20background-color%3A%20transparent%3B%22%3E136%3C%2Fdiv%3E%3Cdiv%20class%3D%22aui-table-cell%22%20style%3D%22height%3A%2028px%3B%20left%3A%200px%3B%20top%3A%2084px%3B%20width%3A%20120px%3B%20text-align%3A%20right%3B%20font-size%3A%2012px%3B%20padding%3A%204px%204px%203px%3B%20overflow%3A%20hidden%3B%20position%3A%20absolute%3B%20white-space%3A%20nowrap%3B%20text-overflow%3A%20ellipsis%3B%20border-right%3A%201px%20solid%20rgb(233%2C%20233%2C%20233)%3B%20background-color%3A%20rgb(250%2C%20250%2C%20250)%3B%22%3E132%3C%2Fdiv%3E%3Cdiv%20class%3D%22aui-table-cell%22%20style%3D%22height%3A%2028px%3B%20left%3A%200px%3B%20top%3A%20112px%3B%20width%3A%20120px%3B%20text-align%3A%20right%3B%20font-size%3A%2012px%3B%20padding%3A%204px%204px%203px%3B%20overflow%3A%20hidden%3B%20position%3A%20absolute%3B%20white-space%3A%20nowrap%3B%20text-overflow%3A%20ellipsis%3B%20border-right%3A%201px%20solid%20rgb(233%2C%20233%2C%20233)%3B%20background-color%3A%20transparent%3B%22%3E129%3C%2Fdiv%3E%3Cdiv%20class%3D%22aui-table-cell%22%20style%3D%22height%3A%2028px%3B%20left%3A%200px%3B%20top%3A%20140px%3B%20width%3A%20120px%3B%20text-align%3A%20right%3B%20font-size%3A%2012px%3B%20padding%3A%204px%204px%203px%3B%20overflow%3A%20hidden%3B%20position%3A%20absolute%3B%20white-space%3A%20nowrap%3B%20text-overflow%3A%20ellipsis%3B%20border-right%3A%201px%20solid%20rgb(233%2C%20233%2C%20233)%3B%20background-color%3A%20rgb(250%2C%20250%2C%20250)%3B%22%3E117%3C%2Fdiv%3E%3C%2Fdiv%3E%3C%2Fdiv%3E%3C%2Fdiv%3E%3C%2Fdiv%3E%3C%2Fdiv%3E%3Cdiv%20class%3D%22css-1uww2vi-Table%22%3E%3C%2Fdiv%3E%3C%2Fdiv%3E%3C%2Fdiv%3E%3C%2Fdiv%3E%3C%2Fdiv%3E%3C%2Fdiv%3E%3C%2FforeignObject%3E%3C%2Fsvg%3E\">"
      ],
      "text/plain": [
       "Open the notebook in JupyterLab with the atoti extension enabled to build this widget."
      ]
     },
     "metadata": {},
     "output_type": "display_data"
    }
   ],
   "source": [
    "session.visualize(\"Top 5 topics\")"
   ]
  },
  {
   "cell_type": "markdown",
   "metadata": {},
   "source": [
    "#### Top 5 topics - Labels and illustrations\n",
    "First, we will give a label to each of the considered top topics, and we also provide a sample of the tweets that illustrate them the best."
   ]
  },
  {
   "cell_type": "code",
   "execution_count": 20,
   "metadata": {},
   "outputs": [
    {
     "data": {
      "text/html": [
       "<div>\n",
       "<style scoped>\n",
       "    .dataframe tbody tr th:only-of-type {\n",
       "        vertical-align: middle;\n",
       "    }\n",
       "\n",
       "    .dataframe tbody tr th {\n",
       "        vertical-align: top;\n",
       "    }\n",
       "\n",
       "    .dataframe thead th {\n",
       "        text-align: right;\n",
       "    }\n",
       "</style>\n",
       "<table border=\"1\" class=\"dataframe\">\n",
       "  <thead>\n",
       "    <tr style=\"text-align: right;\">\n",
       "      <th></th>\n",
       "      <th>topic</th>\n",
       "      <th>topic_count</th>\n",
       "      <th>topic_keyword_1</th>\n",
       "      <th>topic_keyword_2</th>\n",
       "      <th>topic_keyword_3</th>\n",
       "      <th>topic_keyword_4</th>\n",
       "      <th>topic_keyword_5</th>\n",
       "      <th>topic_keyword_6</th>\n",
       "      <th>topic_keyword_7</th>\n",
       "      <th>topic_keyword_8</th>\n",
       "      <th>...</th>\n",
       "      <th>topic_keyword_11</th>\n",
       "      <th>topic_keyword_12</th>\n",
       "      <th>topic_keyword_13</th>\n",
       "      <th>topic_keyword_14</th>\n",
       "      <th>topic_keyword_15</th>\n",
       "      <th>topic_keyword_16</th>\n",
       "      <th>topic_keyword_17</th>\n",
       "      <th>topic_keyword_18</th>\n",
       "      <th>topic_keyword_19</th>\n",
       "      <th>topic_keyword_20</th>\n",
       "    </tr>\n",
       "  </thead>\n",
       "  <tbody>\n",
       "    <tr>\n",
       "      <th>0</th>\n",
       "      <td>186</td>\n",
       "      <td>153</td>\n",
       "      <td>('2021', 0.11518344111464827)</td>\n",
       "      <td>('trends', 0.06973633657430857)</td>\n",
       "      <td>('trends 2021', 0.04791319519051584)</td>\n",
       "      <td>('2021 ai', 0.041789472437149734)</td>\n",
       "      <td>('companies', 0.03782389258944172)</td>\n",
       "      <td>('watch 2021', 0.03740412879855314)</td>\n",
       "      <td>('watch', 0.03687575794795414)</td>\n",
       "      <td>('iot', 0.031124820300891674)</td>\n",
       "      <td>...</td>\n",
       "      <td>('ai', 0.02533194981053806)</td>\n",
       "      <td>('leading tech', 0.024722970994140298)</td>\n",
       "      <td>('choose great', 0.024722970994140298)</td>\n",
       "      <td>('great wine', 0.024722970994140298)</td>\n",
       "      <td>('tech trends', 0.024722970994140298)</td>\n",
       "      <td>('intelligence movies', 0.024588839428707168)</td>\n",
       "      <td>('wine', 0.024252606974425835)</td>\n",
       "      <td>('leading', 0.024165918247990883)</td>\n",
       "      <td>('usa', 0.02414878068708062)</td>\n",
       "      <td>('movies', 0.024140236513879545)</td>\n",
       "    </tr>\n",
       "    <tr>\n",
       "      <th>1</th>\n",
       "      <td>96</td>\n",
       "      <td>136</td>\n",
       "      <td>('security', 0.13334875147029324)</td>\n",
       "      <td>('cybersecurity', 0.06613946852875736)</td>\n",
       "      <td>('server', 0.04812775359226998)</td>\n",
       "      <td>('vulnerabilities', 0.04753864385244478)</td>\n",
       "      <td>('protect', 0.04664468941473375)</td>\n",
       "      <td>('security vulnerabilities', 0.03804328196636811)</td>\n",
       "      <td>('machinelearning security', 0.03804328196636811)</td>\n",
       "      <td>('report highlights', 0.03804328196636811)</td>\n",
       "      <td>...</td>\n",
       "      <td>('growing threat', 0.03804328196636811)</td>\n",
       "      <td>('web report', 0.03804328196636811)</td>\n",
       "      <td>('hackers', 0.03700637689061967)</td>\n",
       "      <td>('threat', 0.0366620556522023)</td>\n",
       "      <td>('highlights', 0.03660856377351593)</td>\n",
       "      <td>('cyber', 0.036009969037109894)</td>\n",
       "      <td>('web', 0.035272071778176234)</td>\n",
       "      <td>('report', 0.03361564675896366)</td>\n",
       "      <td>('growing', 0.03335609543508208)</td>\n",
       "      <td>('online', 0.03320985993021597)</td>\n",
       "    </tr>\n",
       "    <tr>\n",
       "      <th>2</th>\n",
       "      <td>112</td>\n",
       "      <td>132</td>\n",
       "      <td>('healthcare', 0.08062913143207898)</td>\n",
       "      <td>('ai', 0.05952155861485934)</td>\n",
       "      <td>('future', 0.058975517545946286)</td>\n",
       "      <td>('future ai', 0.049136348227743466)</td>\n",
       "      <td>('cancer', 0.04197501211933508)</td>\n",
       "      <td>('artificial intelligence', 0.037859947522765086)</td>\n",
       "      <td>('intelligence', 0.03716322363479036)</td>\n",
       "      <td>('artificial', 0.037041730134947215)</td>\n",
       "      <td>...</td>\n",
       "      <td>('doctor', 0.03409881855831573)</td>\n",
       "      <td>('disease', 0.0335395197066635)</td>\n",
       "      <td>('healthtech', 0.0332097995751255)</td>\n",
       "      <td>('drugs combat', 0.024660267842207345)</td>\n",
       "      <td>('bone', 0.024660267842207345)</td>\n",
       "      <td>('current drugs', 0.024660267842207345)</td>\n",
       "      <td>('paulapicc', 0.024660267842207345)</td>\n",
       "      <td>('intelligence improve', 0.024660267842207345)</td>\n",
       "      <td>('teach big', 0.024660267842207345)</td>\n",
       "      <td>('healthcare enzc', 0.024660267842207345)</td>\n",
       "    </tr>\n",
       "    <tr>\n",
       "      <th>3</th>\n",
       "      <td>22</td>\n",
       "      <td>129</td>\n",
       "      <td>('spacex', 0.08589130794119605)</td>\n",
       "      <td>('space', 0.08050827064759014)</td>\n",
       "      <td>('earth', 0.0730039525475797)</td>\n",
       "      <td>('moon', 0.061162312916090415)</td>\n",
       "      <td>('mission', 0.06107994265280764)</td>\n",
       "      <td>('view earth', 0.04893123080850168)</td>\n",
       "      <td>('captured', 0.04893123080850168)</td>\n",
       "      <td>('view', 0.045779234310052146)</td>\n",
       "      <td>...</td>\n",
       "      <td>('starlink', 0.034937815331619035)</td>\n",
       "      <td>('captured capsule', 0.034937815331619035)</td>\n",
       "      <td>('iss', 0.034937815331619035)</td>\n",
       "      <td>('space station', 0.034937815331619035)</td>\n",
       "      <td>('earth iss', 0.034937815331619035)</td>\n",
       "      <td>('clearest picture', 0.034937815331619035)</td>\n",
       "      <td>('clearest', 0.034937815331619035)</td>\n",
       "      <td>('space shuttle', 0.034937815331619035)</td>\n",
       "      <td>('station captured', 0.034937815331619035)</td>\n",
       "      <td>('international space', 0.034937815331619035)</td>\n",
       "    </tr>\n",
       "    <tr>\n",
       "      <th>4</th>\n",
       "      <td>329</td>\n",
       "      <td>117</td>\n",
       "      <td>('ama', 0.06914391674971687)</td>\n",
       "      <td>('05', 0.06495635291986186)</td>\n",
       "      <td>('average', 0.06380059646402073)</td>\n",
       "      <td>('called', 0.06354995794021061)</td>\n",
       "      <td>('rstats', 0.05819670264538107)</td>\n",
       "      <td>('today', 0.04850149381542877)</td>\n",
       "      <td>('great', 0.04480246824313703)</td>\n",
       "      <td>('continue south', 0.03879269368962269)</td>\n",
       "      <td>...</td>\n",
       "      <td>('mlb adley', 0.03879269368962269)</td>\n",
       "      <td>('validation playing', 0.03879269368962269)</td>\n",
       "      <td>('ama reddit', 0.03879269368962269)</td>\n",
       "      <td>('session animated', 0.03879269368962269)</td>\n",
       "      <td>('ama today', 0.03879269368962269)</td>\n",
       "      <td>('called monte', 0.03879269368962269)</td>\n",
       "      <td>('called trolling', 0.03879269368962269)</td>\n",
       "      <td>('chose rstats', 0.03879269368962269)</td>\n",
       "      <td>('kombucha taproom', 0.03879269368962269)</td>\n",
       "      <td>('sections', 0.03879269368962269)</td>\n",
       "    </tr>\n",
       "  </tbody>\n",
       "</table>\n",
       "<p>5 rows × 22 columns</p>\n",
       "</div>"
      ],
      "text/plain": [
       "   topic  topic_count                      topic_keyword_1  \\\n",
       "0    186          153        ('2021', 0.11518344111464827)   \n",
       "1     96          136    ('security', 0.13334875147029324)   \n",
       "2    112          132  ('healthcare', 0.08062913143207898)   \n",
       "3     22          129      ('spacex', 0.08589130794119605)   \n",
       "4    329          117         ('ama', 0.06914391674971687)   \n",
       "\n",
       "                          topic_keyword_2  \\\n",
       "0         ('trends', 0.06973633657430857)   \n",
       "1  ('cybersecurity', 0.06613946852875736)   \n",
       "2             ('ai', 0.05952155861485934)   \n",
       "3          ('space', 0.08050827064759014)   \n",
       "4             ('05', 0.06495635291986186)   \n",
       "\n",
       "                        topic_keyword_3  \\\n",
       "0  ('trends 2021', 0.04791319519051584)   \n",
       "1       ('server', 0.04812775359226998)   \n",
       "2      ('future', 0.058975517545946286)   \n",
       "3         ('earth', 0.0730039525475797)   \n",
       "4      ('average', 0.06380059646402073)   \n",
       "\n",
       "                            topic_keyword_4  \\\n",
       "0         ('2021 ai', 0.041789472437149734)   \n",
       "1  ('vulnerabilities', 0.04753864385244478)   \n",
       "2       ('future ai', 0.049136348227743466)   \n",
       "3            ('moon', 0.061162312916090415)   \n",
       "4           ('called', 0.06354995794021061)   \n",
       "\n",
       "                      topic_keyword_5  \\\n",
       "0  ('companies', 0.03782389258944172)   \n",
       "1    ('protect', 0.04664468941473375)   \n",
       "2     ('cancer', 0.04197501211933508)   \n",
       "3    ('mission', 0.06107994265280764)   \n",
       "4     ('rstats', 0.05819670264538107)   \n",
       "\n",
       "                                     topic_keyword_6  \\\n",
       "0                ('watch 2021', 0.03740412879855314)   \n",
       "1  ('security vulnerabilities', 0.03804328196636811)   \n",
       "2  ('artificial intelligence', 0.037859947522765086)   \n",
       "3                ('view earth', 0.04893123080850168)   \n",
       "4                     ('today', 0.04850149381542877)   \n",
       "\n",
       "                                     topic_keyword_7  \\\n",
       "0                     ('watch', 0.03687575794795414)   \n",
       "1  ('machinelearning security', 0.03804328196636811)   \n",
       "2              ('intelligence', 0.03716322363479036)   \n",
       "3                  ('captured', 0.04893123080850168)   \n",
       "4                     ('great', 0.04480246824313703)   \n",
       "\n",
       "                              topic_keyword_8  ...  \\\n",
       "0               ('iot', 0.031124820300891674)  ...   \n",
       "1  ('report highlights', 0.03804328196636811)  ...   \n",
       "2        ('artificial', 0.037041730134947215)  ...   \n",
       "3              ('view', 0.045779234310052146)  ...   \n",
       "4     ('continue south', 0.03879269368962269)  ...   \n",
       "\n",
       "                          topic_keyword_11  \\\n",
       "0              ('ai', 0.02533194981053806)   \n",
       "1  ('growing threat', 0.03804328196636811)   \n",
       "2          ('doctor', 0.03409881855831573)   \n",
       "3       ('starlink', 0.034937815331619035)   \n",
       "4       ('mlb adley', 0.03879269368962269)   \n",
       "\n",
       "                              topic_keyword_12  \\\n",
       "0       ('leading tech', 0.024722970994140298)   \n",
       "1          ('web report', 0.03804328196636811)   \n",
       "2              ('disease', 0.0335395197066635)   \n",
       "3   ('captured capsule', 0.034937815331619035)   \n",
       "4  ('validation playing', 0.03879269368962269)   \n",
       "\n",
       "                         topic_keyword_13  \\\n",
       "0  ('choose great', 0.024722970994140298)   \n",
       "1        ('hackers', 0.03700637689061967)   \n",
       "2      ('healthtech', 0.0332097995751255)   \n",
       "3           ('iss', 0.034937815331619035)   \n",
       "4     ('ama reddit', 0.03879269368962269)   \n",
       "\n",
       "                            topic_keyword_14  \\\n",
       "0       ('great wine', 0.024722970994140298)   \n",
       "1             ('threat', 0.0366620556522023)   \n",
       "2     ('drugs combat', 0.024660267842207345)   \n",
       "3    ('space station', 0.034937815331619035)   \n",
       "4  ('session animated', 0.03879269368962269)   \n",
       "\n",
       "                        topic_keyword_15  \\\n",
       "0  ('tech trends', 0.024722970994140298)   \n",
       "1    ('highlights', 0.03660856377351593)   \n",
       "2         ('bone', 0.024660267842207345)   \n",
       "3    ('earth iss', 0.034937815331619035)   \n",
       "4     ('ama today', 0.03879269368962269)   \n",
       "\n",
       "                                topic_keyword_16  \\\n",
       "0  ('intelligence movies', 0.024588839428707168)   \n",
       "1                ('cyber', 0.036009969037109894)   \n",
       "2        ('current drugs', 0.024660267842207345)   \n",
       "3     ('clearest picture', 0.034937815331619035)   \n",
       "4          ('called monte', 0.03879269368962269)   \n",
       "\n",
       "                           topic_keyword_17  \\\n",
       "0            ('wine', 0.024252606974425835)   \n",
       "1             ('web', 0.035272071778176234)   \n",
       "2       ('paulapicc', 0.024660267842207345)   \n",
       "3        ('clearest', 0.034937815331619035)   \n",
       "4  ('called trolling', 0.03879269368962269)   \n",
       "\n",
       "                                 topic_keyword_18  \\\n",
       "0               ('leading', 0.024165918247990883)   \n",
       "1                 ('report', 0.03361564675896366)   \n",
       "2  ('intelligence improve', 0.024660267842207345)   \n",
       "3         ('space shuttle', 0.034937815331619035)   \n",
       "4           ('chose rstats', 0.03879269368962269)   \n",
       "\n",
       "                             topic_keyword_19  \\\n",
       "0                ('usa', 0.02414878068708062)   \n",
       "1            ('growing', 0.03335609543508208)   \n",
       "2         ('teach big', 0.024660267842207345)   \n",
       "3  ('station captured', 0.034937815331619035)   \n",
       "4   ('kombucha taproom', 0.03879269368962269)   \n",
       "\n",
       "                                topic_keyword_20  \n",
       "0               ('movies', 0.024140236513879545)  \n",
       "1                ('online', 0.03320985993021597)  \n",
       "2      ('healthcare enzc', 0.024660267842207345)  \n",
       "3  ('international space', 0.034937815331619035)  \n",
       "4              ('sections', 0.03879269368962269)  \n",
       "\n",
       "[5 rows x 22 columns]"
      ]
     },
     "execution_count": 20,
     "metadata": {},
     "output_type": "execute_result"
    }
   ],
   "source": [
    "topics_df.head()"
   ]
  },
  {
   "cell_type": "markdown",
   "metadata": {},
   "source": [
    "We provide the list of the top 10 keywords that define this topic, along side with their associated importance (the higher, the more important)."
   ]
  },
  {
   "cell_type": "code",
   "execution_count": 21,
   "metadata": {},
   "outputs": [],
   "source": [
    "cols = [c for c in topics_cols if \"keyword\" in c]"
   ]
  },
  {
   "cell_type": "markdown",
   "metadata": {},
   "source": [
    "#### Topic 186: Trends for 2021"
   ]
  },
  {
   "cell_type": "code",
   "execution_count": 22,
   "metadata": {},
   "outputs": [
    {
     "name": "stdout",
     "output_type": "stream",
     "text": [
      "Topic 186 keywords:\n",
      "\n",
      "('2021', 0.11518344111464827)\n",
      "('trends', 0.06973633657430857)\n",
      "('trends 2021', 0.04791319519051584)\n",
      "('2021 ai', 0.041789472437149734)\n",
      "('companies', 0.03782389258944172)\n",
      "('watch 2021', 0.03740412879855314)\n",
      "('watch', 0.03687575794795414)\n",
      "('iot', 0.031124820300891674)\n",
      "('10', 0.029940307679780117)\n",
      "('fintech', 0.027130500269414805)\n"
     ]
    }
   ],
   "source": [
    "topic = 186\n",
    "topic_keywords = topics_df[topics_df[\"topic\"] == topic][cols].values.flatten().tolist()\n",
    "\n",
    "print(f\"Topic {topic} keywords:\\n\")\n",
    "for kw in topic_keywords[:10]:\n",
    "    print(kw)"
   ]
  },
  {
   "cell_type": "markdown",
   "metadata": {},
   "source": [
    "Then, we provide a sample of tweets that best illustrate this topic"
   ]
  },
  {
   "cell_type": "code",
   "execution_count": 23,
   "metadata": {},
   "outputs": [
    {
     "name": "stdout",
     "output_type": "stream",
     "text": [
      "Top 186 representatives tweets:\n",
      "\n",
      "1:#IoT News’ list of innovative companies to watch in 2021 https://t.co/vVyHu3uF2n #innovation https://t.co/EPn1lHimqy\n",
      "\n",
      "2:Top story: @tableau: 'Psst...#IronViz 2021 is coming soon. Stay tuned for more information, and give us a ❤️ if you’re excited! ' https://t.co/xc04DNNkDm, see more https://t.co/16gz3lCgEh\n",
      "\n",
      "3:25 Best Artificial Intelligence Movies You Should Watch in 2021 [ matrix 👍 ] https://t.co/mACfZOA3mo #ai #artificialintelligence #machinelearning #deeplearning #movies https://t.co/SacjFmvRCM\n",
      "\n"
     ]
    }
   ],
   "source": [
    "exemplars = exemplars_df[exemplars_df[\"topic\"] == topic][\"text\"].to_list()\n",
    "sample = rd.sample(exemplars, 3)\n",
    "\n",
    "print(f\"Top {topic} representatives tweets:\\n\")\n",
    "\n",
    "for idx, s in enumerate(sample):\n",
    "    print(\"{}:{}\\n\".format(idx + 1, s))"
   ]
  },
  {
   "cell_type": "markdown",
   "metadata": {},
   "source": [
    "#### Topic 96: Cybersecurity"
   ]
  },
  {
   "cell_type": "markdown",
   "metadata": {},
   "source": [
    "We provide the list of keywords that define this topic, along side with their associated importance (the higher, the more important)."
   ]
  },
  {
   "cell_type": "code",
   "execution_count": 24,
   "metadata": {},
   "outputs": [
    {
     "name": "stdout",
     "output_type": "stream",
     "text": [
      "Topic 96 keywords:\n",
      "\n",
      "('security', 0.13334875147029324)\n",
      "('cybersecurity', 0.06613946852875736)\n",
      "('server', 0.04812775359226998)\n",
      "('vulnerabilities', 0.04753864385244478)\n",
      "('protect', 0.04664468941473375)\n",
      "('security vulnerabilities', 0.03804328196636811)\n",
      "('machinelearning security', 0.03804328196636811)\n",
      "('report highlights', 0.03804328196636811)\n",
      "('vulnerabilities growing', 0.03804328196636811)\n",
      "('threat web', 0.03804328196636811)\n"
     ]
    }
   ],
   "source": [
    "topic = 96\n",
    "topic_keywords = topics_df[topics_df[\"topic\"] == topic][cols].values.flatten().tolist()\n",
    "\n",
    "print(f\"Topic {topic} keywords:\\n\")\n",
    "for kw in topic_keywords[:10]:\n",
    "    print(kw)"
   ]
  },
  {
   "cell_type": "markdown",
   "metadata": {},
   "source": [
    "Then, we provide a sample of tweets that best illustrate this topic"
   ]
  },
  {
   "cell_type": "code",
   "execution_count": 25,
   "metadata": {},
   "outputs": [
    {
     "name": "stdout",
     "output_type": "stream",
     "text": [
      "Top 96 representatives tweets:\n",
      "\n",
      "1:Security Gaps in #IoT Access Control Threaten Devices and Users https://t.co/RMsVxHkZTo #cybersecurity https://t.co/ekvQ3mLSPl\n",
      "\n",
      "2:RT @ipfconline1:#MachineLearning security vulnerabilities are a growing threat to the web, report highlights \n",
      "\n",
      "https://t.co/HtoV2GnFoL @bendee983 v/ @DailySwig\n",
      "\n",
      "#CyberSecurity #AI\n",
      "Cc @roxanasoi @terence_mills @YuHelenYu @DeepLearn007 @jblefevre60 @AlaricAloor @Nicochan33 @Ym78200 https://t.co/hICTGwiouC\n",
      "\n",
      "3:Every Security Incident has a Story - Security Boulevard https://t.co/vSC1LJIRxg\n",
      "\n"
     ]
    }
   ],
   "source": [
    "exemplars = exemplars_df[exemplars_df[\"topic\"] == topic][\"text\"].to_list()\n",
    "sample = rd.sample(exemplars, 3)\n",
    "\n",
    "print(f\"Top {topic} representatives tweets:\\n\")\n",
    "\n",
    "for idx, s in enumerate(sample):\n",
    "    print(\"{}:{}\\n\".format(idx + 1, s))"
   ]
  },
  {
   "cell_type": "markdown",
   "metadata": {},
   "source": [
    "#### Topic 112: AI & Healthcare"
   ]
  },
  {
   "cell_type": "markdown",
   "metadata": {},
   "source": [
    "We provide the list of keywords that define this topic, along side with their associated importance (the higher, the more important)."
   ]
  },
  {
   "cell_type": "code",
   "execution_count": 26,
   "metadata": {},
   "outputs": [
    {
     "name": "stdout",
     "output_type": "stream",
     "text": [
      "Topic 112 keywords:\n",
      "\n",
      "('healthcare', 0.08062913143207898)\n",
      "('ai', 0.05952155861485934)\n",
      "('future', 0.058975517545946286)\n",
      "('future ai', 0.049136348227743466)\n",
      "('cancer', 0.04197501211933508)\n",
      "('artificial intelligence', 0.037859947522765086)\n",
      "('intelligence', 0.03716322363479036)\n",
      "('artificial', 0.037041730134947215)\n",
      "('ai healthcare', 0.034528025288226544)\n",
      "('diagnosis', 0.034512708842210735)\n"
     ]
    }
   ],
   "source": [
    "topic = 112\n",
    "topic_keywords = topics_df[topics_df[\"topic\"] == topic][cols].values.flatten().tolist()\n",
    "\n",
    "print(f\"Topic {topic} keywords:\\n\")\n",
    "for kw in topic_keywords[:10]:\n",
    "    print(kw)"
   ]
  },
  {
   "cell_type": "markdown",
   "metadata": {},
   "source": [
    "Then, we provide a sample of tweets that best illustrate this topic"
   ]
  },
  {
   "cell_type": "code",
   "execution_count": 27,
   "metadata": {},
   "outputs": [
    {
     "name": "stdout",
     "output_type": "stream",
     "text": [
      "Top 112 representatives tweets:\n",
      "\n",
      "1:#ArtificialIntelligence Is Rushing Into Patient Care - And Could Raise Risks\n",
      "by @LizSzabo @sciam\n",
      "\n",
      "Learn more https://t.co/SsnBCOqwTb\n",
      "\n",
      "#AI #IoT #BigData #Digital #DataScience #Analytics\n",
      "\n",
      "Cc: @erictopol @hugo_larochelle @soumithchintala https://t.co/gVQBtmj2Mi\n",
      "\n",
      "2:RT @globaliqx:7 Ways #ArtificialIntelligence is Improving #Healthcare \n",
      "\n",
      "https://t.co/VUWZG4FOfE\n",
      "\n",
      "#eHealth #insurtech #fintech #AI #IIOT #healthtech #edtech #Regtech @labordeolivier @AkwyZ  @mvollmer1 @Paula_Piccard @HeinzVHoenen  @IanLJones98 @AudreyDesisto @kalydeoo @Hana_ElSayyed @flokaai https://t.co/DGyI0oTohv\n",
      "\n",
      "3:RT @richardkimphd:FDA Plans Oversight for AI Medical Devices, Addressing Bias  @terence_mills @dinisguarda @DeepLearn007 @ipfconline1 @kalydeoo @rwang0 @FGraillot   https://t.co/HZWbvUL8Pe\n",
      "\n"
     ]
    }
   ],
   "source": [
    "exemplars = exemplars_df[exemplars_df[\"topic\"] == topic][\"text\"].to_list()\n",
    "sample = rd.sample(exemplars, 3)\n",
    "\n",
    "print(f\"Top {topic} representatives tweets:\\n\")\n",
    "\n",
    "for idx, s in enumerate(sample):\n",
    "    print(\"{}:{}\\n\".format(idx + 1, s))"
   ]
  },
  {
   "cell_type": "markdown",
   "metadata": {},
   "source": [
    "#### Topic 22: Space"
   ]
  },
  {
   "cell_type": "markdown",
   "metadata": {},
   "source": [
    "We provide the list of keywords that define this topic, along side with their associated importance (the higher, the more important)."
   ]
  },
  {
   "cell_type": "code",
   "execution_count": 28,
   "metadata": {},
   "outputs": [
    {
     "name": "stdout",
     "output_type": "stream",
     "text": [
      "Topic 22 keywords:\n",
      "\n",
      "('spacex', 0.08589130794119605)\n",
      "('space', 0.08050827064759014)\n",
      "('earth', 0.0730039525475797)\n",
      "('moon', 0.061162312916090415)\n",
      "('mission', 0.06107994265280764)\n",
      "('view earth', 0.04893123080850168)\n",
      "('captured', 0.04893123080850168)\n",
      "('view', 0.045779234310052146)\n",
      "('amazing', 0.04149003287911507)\n",
      "('picture sun', 0.034937815331619035)\n"
     ]
    }
   ],
   "source": [
    "topic = 22\n",
    "topic_keywords = topics_df[topics_df[\"topic\"] == topic][cols].values.flatten().tolist()\n",
    "\n",
    "print(f\"Topic {topic} keywords:\\n\")\n",
    "for kw in topic_keywords[:10]:\n",
    "    print(kw)"
   ]
  },
  {
   "cell_type": "markdown",
   "metadata": {},
   "source": [
    "Then, we provide a sample of tweets that best illustrate this topic"
   ]
  },
  {
   "cell_type": "code",
   "execution_count": 29,
   "metadata": {},
   "outputs": [
    {
     "name": "stdout",
     "output_type": "stream",
     "text": [
      "Top 22 representatives tweets:\n",
      "\n",
      "1:RT @alvinfoo:Amazing view of Earth from the ISS 👍 https://t.co/tH63kLvYD0\n",
      "\n",
      "2:RT @alvinfoo:Rare view of #Earth rising over the Moon captured by Japanese lunar orbiter Kaguya. https://t.co/gmqRLQoqhN\n",
      "\n",
      "3:RT @planetary_megan:I recently got my first #tattoo! It's two circles that show the relative size of the Earth and the #Moon, and when I hold my arms out to the side the distance between them is to scale as well 🌘🌎 https://t.co/FI0WncXFvC\n",
      "\n"
     ]
    }
   ],
   "source": [
    "exemplars = exemplars_df[exemplars_df[\"topic\"] == topic][\"text\"].to_list()\n",
    "sample = rd.sample(exemplars, 3)\n",
    "\n",
    "print(f\"Top {topic} representatives tweets:\\n\")\n",
    "\n",
    "for idx, s in enumerate(sample):\n",
    "    print(\"{}:{}\\n\".format(idx + 1, s))"
   ]
  },
  {
   "cell_type": "markdown",
   "metadata": {},
   "source": [
    "#### Topic 329: RStat, training session, and others"
   ]
  },
  {
   "cell_type": "markdown",
   "metadata": {},
   "source": [
    "We provide the list of keywords that define this topic, along side with their associated importance (the higher, the more important)."
   ]
  },
  {
   "cell_type": "code",
   "execution_count": 30,
   "metadata": {},
   "outputs": [
    {
     "name": "stdout",
     "output_type": "stream",
     "text": [
      "Topic 329 keywords:\n",
      "\n",
      "('ama', 0.06914391674971687)\n",
      "('05', 0.06495635291986186)\n",
      "('average', 0.06380059646402073)\n",
      "('called', 0.06354995794021061)\n",
      "('rstats', 0.05819670264538107)\n",
      "('today', 0.04850149381542877)\n",
      "('great', 0.04480246824313703)\n",
      "('continue south', 0.03879269368962269)\n",
      "('repeated holdout', 0.03879269368962269)\n",
      "('mlb', 0.03879269368962269)\n"
     ]
    }
   ],
   "source": [
    "topic = 329\n",
    "topic_keywords = topics_df[topics_df[\"topic\"] == topic][cols].values.flatten().tolist()\n",
    "\n",
    "print(f\"Topic {topic} keywords:\\n\")\n",
    "for kw in topic_keywords[:10]:\n",
    "    print(kw)"
   ]
  },
  {
   "cell_type": "markdown",
   "metadata": {},
   "source": [
    "Then, we provide a sample of tweets that best illustrate this topic"
   ]
  },
  {
   "cell_type": "code",
   "execution_count": 31,
   "metadata": {},
   "outputs": [
    {
     "name": "stdout",
     "output_type": "stream",
     "text": [
      "Top 329 representatives tweets:\n",
      "\n",
      "1:RT @vardi:ID? https://t.co/UdF6hl299P\n",
      "\n",
      "2:RT @OregonZoo: Moshu Monday https://t.co/PslYZT1Dar\n",
      "\n",
      "3:RT @alisoncook:The city's best new taqueria is in a kombucha taproom, because Houston.👹 https://t.co/tzxughFKD4\n",
      "\n"
     ]
    }
   ],
   "source": [
    "exemplars = exemplars_df[exemplars_df[\"topic\"] == topic][\"text\"].to_list()\n",
    "sample = rd.sample(exemplars, 3)\n",
    "\n",
    "print(f\"Top {topic} representatives tweets:\\n\")\n",
    "\n",
    "for idx, s in enumerate(sample):\n",
    "    print(\"{}:{}\\n\".format(idx + 1, s))"
   ]
  },
  {
   "cell_type": "markdown",
   "metadata": {},
   "source": [
    "All the topics are clearly defined by keywords and illustrated by some tweets, excepted the topic 329.\n",
    "\n",
    "In fact, this last topic seems to be a mixture of several ones: event, R & Statistics, sport etc. So it is a little bit unclear and would need to be refined by splitting it into smaller sub-topics.\n",
    "\n",
    "But, here we will not go forward in this direction as the focus of our analysis is less the quality of the topics than producing a top ranking of the influencers."
   ]
  },
  {
   "cell_type": "markdown",
   "metadata": {},
   "source": [
    "Now, let's analyze the datafor each of the top 5 topics in order to determine the top influencers."
   ]
  },
  {
   "cell_type": "markdown",
   "metadata": {},
   "source": [
    "#### Top 5 influencers for Top 5 topics - With regard to the average number of replies"
   ]
  },
  {
   "cell_type": "code",
   "execution_count": 32,
   "metadata": {
    "atoti": {
     "widget": {
      "filters": [
       "TopCount(Filter([influencer].[topic].Levels(1).Members, NOT IsEmpty([Measures].[contributors.COUNT])), 5, [Measures].[contributors.COUNT])"
      ],
      "mapping": {
       "horizontalSubplots": [
        "[influencer].[topic].[topic]"
       ],
       "sliceBy": [
        "ALL_MEASURES",
        "[influencer].[name].[name]"
       ],
       "values": [
        "[Measures].[replies]"
       ],
       "verticalSubplots": []
      },
      "query": {
       "mdx": "SELECT NON EMPTY Order(GENERATE([influencer].[topic].[topic].Members, TOPCOUNT([influencer].[topic].CURRENTMEMBER * [influencer].[name].[name].MEMBERS, 5, [Measures].[replies])), [Measures].[contributors.COUNT], DESC) ON ROWS, NON EMPTY {[Measures].[replies]} ON COLUMNS FROM [influencer_cube] CELL PROPERTIES VALUE, FORMATTED_VALUE, BACK_COLOR, FORE_COLOR, FONT_FLAGS",
       "updateMode": "once"
      },
      "serverKey": "default",
      "widgetKey": "plotly-donut-chart"
     }
    },
    "tags": []
   },
   "outputs": [
    {
     "data": {
      "application/vnd.atoti.widget.v0+json": {
       "name": "Top 5 influencers for Top 5 topics - With regard to the average number of replies",
       "sessionId": "1674717365_VNWIH9",
       "sessionLocation": {
        "https": false,
        "port": 60114
       },
       "widgetCreationCode": "session.visualize()"
      },
      "text/html": [
       "<img src=\"data:image/svg+xml;charset=utf8,%3C%3Fxml%20version%3D%221.0%22%20standalone%3D%22no%22%3F%3E%3Csvg%20xmlns%3D%22http%3A%2F%2Fwww.w3.org%2F2000%2Fsvg%22%20xmlns%3Axlink%3D%22http%3A%2F%2Fwww.w3.org%2F1999%2Fxlink%22%20height%3D%22352%22%20width%3D%221183%22%20viewBox%3D%220%200%201183%20352%22%3E%3Cdefs%20id%3D%22defs-a507ea%22%3E%3Cg%20class%3D%22clips%22%2F%3E%3Cg%20class%3D%22gradients%22%2F%3E%3C%2Fdefs%3E%3Cg%20class%3D%22bglayer%22%2F%3E%3Cg%20class%3D%22draglayer%22%2F%3E%3Cg%20class%3D%22layer-below%22%3E%3Cg%20class%3D%22imagelayer%22%2F%3E%3Cg%20class%3D%22shapelayer%22%2F%3E%3C%2Fg%3E%3Cg%20class%3D%22cartesianlayer%22%2F%3E%3Cg%20class%3D%22polarlayer%22%2F%3E%3Cg%20class%3D%22ternarylayer%22%2F%3E%3Cg%20class%3D%22geolayer%22%2F%3E%3Cg%20class%3D%22funnelarealayer%22%2F%3E%3Cg%20class%3D%22pielayer%22%3E%3Cg%20class%3D%22trace%22%20stroke-linejoin%3D%22round%22%20style%3D%22opacity%3A%201%3B%22%3E%3Cg%20class%3D%22slice%22%3E%3Cpath%20class%3D%22surface%22%20d%3D%22M123.14167174249901%2C178.28223892354444a25.63333333333334%2C25.63333333333334%200%201%200%2020.941661590834332%2C-40.41557225687777l0%2C-38.45a64.08333333333334%2C64.08333333333334%200%201%201%20-52.35415397708583%2C101.03893064219443Z%22%20style%3D%22pointer-events%3A%20all%3B%20stroke-width%3A%200%3B%20fill%3A%20rgb(78%2C%20121%2C%20167)%3B%20fill-opacity%3A%201%3B%20stroke%3A%20rgb(68%2C%2068%2C%2068)%3B%20stroke-opacity%3A%201%3B%22%2F%3E%3C%2Fg%3E%3Cg%20class%3D%22slice%22%3E%3Cpath%20class%3D%22surface%22%20d%3D%22M144.08333333333334%2C137.86666666666667a25.63333333333334%2C25.63333333333334%200%200%200%20-25.573576116917494%2C27.38261386258107l-38.36036417537623%2C2.6239207938715956a64.08333333333334%2C64.08333333333334%200%200%201%2063.93394029229373%2C-68.45653465645267Z%22%20style%3D%22pointer-events%3A%20all%3B%20stroke-width%3A%200%3B%20fill%3A%20rgb(242%2C%20142%2C%2044)%3B%20fill-opacity%3A%201%3B%20stroke%3A%20rgb(68%2C%2068%2C%2068)%3B%20stroke-opacity%3A%201%3B%22%2F%3E%3C%2Fg%3E%3Cg%20class%3D%22slice%22%3E%3Cpath%20class%3D%22surface%22%20d%3D%22M118.50975721641585%2C165.24928052924773a25.63333333333334%2C25.63333333333334%200%200%200%201.4202878132717218%2C6.834800196068544l-36.22993245546865%2C12.87612108797441a64.08333333333334%2C64.08333333333334%200%200%201%20-3.550719533179304%2C-17.08700049017136Z%22%20style%3D%22pointer-events%3A%20all%3B%20stroke-width%3A%200%3B%20fill%3A%20rgb(225%2C%2087%2C%2089)%3B%20fill-opacity%3A%201%3B%20stroke%3A%20rgb(68%2C%2068%2C%2068)%3B%20stroke-opacity%3A%201%3B%22%2F%3E%3C%2Fg%3E%3Cg%20class%3D%22slice%22%3E%3Cpath%20class%3D%22surface%22%20d%3D%22M119.93004502968758%2C172.08408072531628a25.63333333333334%2C25.63333333333334%200%200%200%201.3938305385982148%2C3.2089197418589266l-34.13918664757133%2C17.6895007007628a64.08333333333334%2C64.08333333333334%200%200%201%20-3.484576346495537%2C-8.022299354647316Z%22%20style%3D%22pointer-events%3A%20all%3B%20stroke-width%3A%200%3B%20fill%3A%20rgb(118%2C%20183%2C%20178)%3B%20fill-opacity%3A%201%3B%20stroke%3A%20rgb(68%2C%2068%2C%2068)%3B%20stroke-opacity%3A%201%3B%22%2F%3E%3C%2Fg%3E%3Cg%20class%3D%22slice%22%3E%3Cpath%20class%3D%22surface%22%20d%3D%22M121.32387556828579%2C175.2930004671752a25.63333333333334%2C25.63333333333334%200%200%200%201.8177961742132256%2C2.989238456369238l-31.412492386251493%2C22.173358385316657a64.08333333333334%2C64.08333333333334%200%200%201%20-4.5444904355330635%2C-7.473096140923094Z%22%20style%3D%22pointer-events%3A%20all%3B%20stroke-width%3A%200%3B%20fill%3A%20rgb(89%2C%20161%2C%2079)%3B%20fill-opacity%3A%201%3B%20stroke%3A%20rgb(68%2C%2068%2C%2068)%3B%20stroke-opacity%3A%201%3B%22%2F%3E%3C%2Fg%3E%3Cg%20class%3D%22titletext%22%3E%3Ctext%20data-notex%3D%221%22%20class%3D%22titletext%22%20transform%3D%22translate(144.08333333333334%2C227.58333333333334)translate(0%2C12)%22%20text-anchor%3D%22middle%22%20data-unformatted%3D%22186%22%20data-math%3D%22N%22%20x%3D%220%22%20y%3D%220%22%20style%3D%22font-family%3A%20%26quot%3BOpen%20Sans%26quot%3B%2C%20verdana%2C%20arial%2C%20sans-serif%3B%20font-size%3A%2012px%3B%20fill%3A%20rgb(89%2C%2089%2C%2089)%3B%20fill-opacity%3A%201%3B%20white-space%3A%20pre%3B%22%3E186%3C%2Ftext%3E%3C%2Fg%3E%3C%2Fg%3E%3Cg%20class%3D%22trace%22%20stroke-linejoin%3D%22round%22%20style%3D%22opacity%3A%201%3B%22%3E%3Cg%20class%3D%22slice%22%3E%3Cpath%20class%3D%22surface%22%20d%3D%22M289.125068284087%2C184.1649962806507a25.633333333333333%2C25.633333333333333%200%201%200%2015.166598382579716%2C-46.29832961398405l0%2C-38.449999999999996a64.08333333333333%2C64.08333333333333%200%201%201%20-37.91649595644929%2C115.74582403496012Z%22%20style%3D%22pointer-events%3A%20all%3B%20stroke-width%3A%200%3B%20fill%3A%20rgb(237%2C%20201%2C%2073)%3B%20fill-opacity%3A%201%3B%20stroke%3A%20rgb(68%2C%2068%2C%2068)%3B%20stroke-opacity%3A%201%3B%22%2F%3E%3C%2Fg%3E%3Cg%20class%3D%22slice%22%3E%3Cpath%20class%3D%22surface%22%20d%3D%22M304.2916666666667%2C137.86666666666667a25.633333333333333%2C25.633333333333333%200%200%200%20-22.164745019695772%2C38.50935197224689l-33.24711752954365%2C19.31402795837033a64.08333333333333%2C64.08333333333333%200%200%201%2055.41186254923942%2C-96.27337993061721Z%22%20style%3D%22pointer-events%3A%20all%3B%20stroke-width%3A%200%3B%20fill%3A%20rgb(175%2C%20122%2C%20161)%3B%20fill-opacity%3A%201%3B%20stroke%3A%20rgb(68%2C%2068%2C%2068)%3B%20stroke-opacity%3A%201%3B%22%2F%3E%3C%2Fg%3E%3Cg%20class%3D%22slice%22%3E%3Cpath%20class%3D%22surface%22%20d%3D%22M282.1269216469709%2C176.37601863891356a25.633333333333333%2C25.633333333333333%200%200%200%203.357113500688337%2C4.540662285505312l-28.211447278511148%2C26.125021386628294a64.08333333333333%2C64.08333333333333%200%200%201%20-8.392783751720842%2C-11.351655713763279Z%22%20style%3D%22pointer-events%3A%20all%3B%20stroke-width%3A%200%3B%20fill%3A%20rgb(255%2C%20157%2C%20167)%3B%20fill-opacity%3A%201%3B%20stroke%3A%20rgb(68%2C%2068%2C%2068)%3B%20stroke-opacity%3A%201%3B%22%2F%3E%3C%2Fg%3E%3Cg%20class%3D%22slice%22%3E%3Cpath%20class%3D%22surface%22%20d%3D%22M285.48403514765926%2C180.91668092441887a25.633333333333333%2C25.633333333333333%200%200%200%203.64103313642774%2C3.248315356231868l-22.74989757386954%2C30.997494420976096a64.08333333333333%2C64.08333333333333%200%200%201%20-9.10258284106935%2C-8.12078839057967Z%22%20style%3D%22pointer-events%3A%20all%3B%20stroke-width%3A%200%3B%20fill%3A%20rgb(156%2C%20117%2C%2095)%3B%20fill-opacity%3A%201%3B%20stroke%3A%20rgb(68%2C%2068%2C%2068)%3B%20stroke-opacity%3A%201%3B%22%2F%3E%3C%2Fg%3E%3Cg%20class%3D%22slice%22%3E%3Cpath%20class%3D%22surface%22%20d%3D%22M289.125068284087%2C184.16499628065074a25.633333333333333%2C25.633333333333333%200%200%200%200%2C0l-22.74989757386954%2C30.997494420976096a64.08333333333333%2C64.08333333333333%200%200%201%200%2C0Z%22%20style%3D%22pointer-events%3A%20all%3B%20stroke-width%3A%200%3B%20fill%3A%20rgb(89%2C%20161%2C%2079)%3B%20fill-opacity%3A%201%3B%20stroke%3A%20rgb(68%2C%2068%2C%2068)%3B%20stroke-opacity%3A%201%3B%22%2F%3E%3C%2Fg%3E%3Cg%20class%3D%22titletext%22%3E%3Ctext%20data-notex%3D%221%22%20class%3D%22titletext%22%20transform%3D%22translate(304.2916666666667%2C227.58333333333331)translate(0%2C12)%22%20text-anchor%3D%22middle%22%20data-unformatted%3D%2296%22%20data-math%3D%22N%22%20x%3D%220%22%20y%3D%220%22%20style%3D%22font-family%3A%20%26quot%3BOpen%20Sans%26quot%3B%2C%20verdana%2C%20arial%2C%20sans-serif%3B%20font-size%3A%2012px%3B%20fill%3A%20rgb(89%2C%2089%2C%2089)%3B%20fill-opacity%3A%201%3B%20white-space%3A%20pre%3B%22%3E96%3C%2Ftext%3E%3C%2Fg%3E%3C%2Fg%3E%3Cg%20class%3D%22trace%22%20stroke-linejoin%3D%22round%22%20style%3D%22opacity%3A%201%3B%22%3E%3Cg%20class%3D%22slice%22%3E%3Cpath%20class%3D%22surface%22%20d%3D%22M460.69846322564973%2C188.84987368668808a25.63333333333334%2C25.63333333333334%200%201%200%203.801536774350278%2C-50.98320702002141l0%2C-38.45a64.08333333333334%2C64.08333333333334%200%201%201%20-9.503841935875695%2C127.45801755005353Z%22%20style%3D%22pointer-events%3A%20all%3B%20stroke-width%3A%200%3B%20fill%3A%20rgb(186%2C%20176%2C%20171)%3B%20fill-opacity%3A%201%3B%20stroke%3A%20rgb(68%2C%2068%2C%2068)%3B%20stroke-opacity%3A%201%3B%22%2F%3E%3C%2Fg%3E%3Cg%20class%3D%22slice%22%3E%3Cpath%20class%3D%22surface%22%20d%3D%22M464.5%2C137.86666666666667a25.63333333333334%2C25.63333333333334%200%200%200%20-22.807471517916625%2C13.933460652949163l-34.21120727687493%2C-17.549809020576262a64.08333333333334%2C64.08333333333334%200%200%201%2057.018678794791555%2C-34.833651632372906Z%22%20style%3D%22pointer-events%3A%20all%3B%20stroke-width%3A%200%3B%20fill%3A%20rgb(237%2C%20201%2C%2073)%3B%20fill-opacity%3A%201%3B%20stroke%3A%20rgb(68%2C%2068%2C%2068)%3B%20stroke-opacity%3A%201%3B%22%2F%3E%3C%2Fg%3E%3Cg%20class%3D%22slice%22%3E%3Cpath%20class%3D%22surface%22%20d%3D%22M441.6925284820834%2C151.80012731961583a25.63333333333334%2C25.63333333333334%200%200%200%201.9873534746568424%2C26.652814278695413l-31.230177064889666%2C22.42941239746685a64.08333333333334%2C64.08333333333334%200%200%201%20-4.968383686642106%2C-66.63203569673853Z%22%20style%3D%22pointer-events%3A%20all%3B%20stroke-width%3A%200%3B%20fill%3A%20rgb(78%2C%20121%2C%20167)%3B%20fill-opacity%3A%201%3B%20stroke%3A%20rgb(68%2C%2068%2C%2068)%3B%20stroke-opacity%3A%201%3B%22%2F%3E%3C%2Fg%3E%3Cg%20class%3D%22slice%22%3E%3Cpath%20class%3D%22surface%22%20d%3D%22M443.67988195674025%2C178.45294159831124a25.63333333333334%2C25.63333333333334%200%200%200%209.030993977467757%2C7.808524337325278l-17.68368609868803%2C34.14219890345477a64.08333333333334%2C64.08333333333334%200%200%201%20-22.577484943669393%2C-19.521310843313195Z%22%20style%3D%22pointer-events%3A%20all%3B%20stroke-width%3A%200%3B%20fill%3A%20rgb(242%2C%20142%2C%2044)%3B%20fill-opacity%3A%201%3B%20stroke%3A%20rgb(68%2C%2068%2C%2068)%3B%20stroke-opacity%3A%201%3B%22%2F%3E%3C%2Fg%3E%3Cg%20class%3D%22slice%22%3E%3Cpath%20class%3D%22surface%22%20d%3D%22M452.710875934208%2C186.26146593563652a25.63333333333334%2C25.63333333333334%200%200%200%207.98758729144175%2C2.5884077510515597l-5.702305161525409%2C38.024810530032106a64.08333333333334%2C64.08333333333334%200%200%201%20-19.968968228604375%2C-6.471019377628899Z%22%20style%3D%22pointer-events%3A%20all%3B%20stroke-width%3A%200%3B%20fill%3A%20rgb(225%2C%2087%2C%2089)%3B%20fill-opacity%3A%201%3B%20stroke%3A%20rgb(68%2C%2068%2C%2068)%3B%20stroke-opacity%3A%201%3B%22%2F%3E%3C%2Fg%3E%3Cg%20class%3D%22titletext%22%3E%3Ctext%20data-notex%3D%221%22%20class%3D%22titletext%22%20transform%3D%22translate(464.5%2C227.58333333333334)translate(0%2C12)%22%20text-anchor%3D%22middle%22%20data-unformatted%3D%22112%22%20data-math%3D%22N%22%20x%3D%220%22%20y%3D%220%22%20style%3D%22font-family%3A%20%26quot%3BOpen%20Sans%26quot%3B%2C%20verdana%2C%20arial%2C%20sans-serif%3B%20font-size%3A%2012px%3B%20fill%3A%20rgb(89%2C%2089%2C%2089)%3B%20fill-opacity%3A%201%3B%20white-space%3A%20pre%3B%22%3E112%3C%2Ftext%3E%3C%2Fg%3E%3C%2Fg%3E%3Cg%20class%3D%22trace%22%20stroke-linejoin%3D%22round%22%20style%3D%22opacity%3A%201%3B%22%3E%3Cg%20class%3D%22slice%22%3E%3Cpath%20class%3D%22surface%22%20d%3D%22M649.8992750630401%2C168.2417541636292a25.633333333333344%2C25.633333333333344%200%200%200%20-25.1909417297068%2C-30.375087496962546l0%2C-38.45000000000001a64.08333333333336%2C64.08333333333336%200%200%201%2062.977354324267%2C75.93771874240636Z%22%20style%3D%22pointer-events%3A%20all%3B%20stroke-width%3A%200%3B%20fill%3A%20rgb(118%2C%20183%2C%20178)%3B%20fill-opacity%3A%201%3B%20stroke%3A%20rgb(68%2C%2068%2C%2068)%3B%20stroke-opacity%3A%201%3B%22%2F%3E%3C%2Fg%3E%3Cg%20class%3D%22slice%22%3E%3Cpath%20class%3D%22surface%22%20d%3D%22M624.7083333333334%2C137.86666666666665a25.633333333333344%2C25.633333333333344%200%200%200%20-25.606510345830344%2C26.805683829841044l-38.409765518745516%2C1.7585257447615472a64.08333333333336%2C64.08333333333336%200%200%201%2064.01627586457586%2C-67.0142095746026Z%22%20style%3D%22pointer-events%3A%20all%3B%20stroke-width%3A%200%3B%20fill%3A%20rgb(118%2C%20183%2C%20178)%3B%20fill-opacity%3A%201%3B%20stroke%3A%20rgb(68%2C%2068%2C%2068)%3B%20stroke-opacity%3A%201%3B%22%2F%3E%3C%2Fg%3E%3Cg%20class%3D%22slice%22%3E%3Cpath%20class%3D%22surface%22%20d%3D%22M599.101822987503%2C164.6723504965077a25.633333333333344%2C25.633333333333344%200%200%200%2023.809753558340226%2C24.397933874699177l-2.6951351812351767%2C38.35542655681031a64.08333333333336%2C64.08333333333336%200%200%201%20-59.52438389585056%2C-60.994834686747936Z%22%20style%3D%22pointer-events%3A%20all%3B%20stroke-width%3A%200%3B%20fill%3A%20rgb(89%2C%20161%2C%2079)%3B%20fill-opacity%3A%201%3B%20stroke%3A%20rgb(68%2C%2068%2C%2068)%3B%20stroke-opacity%3A%201%3B%22%2F%3E%3C%2Fg%3E%3Cg%20class%3D%22slice%22%3E%3Cpath%20class%3D%22surface%22%20d%3D%22M622.9115765458432%2C189.07028437120687a25.633333333333344%2C25.633333333333344%200%200%200%2021.872475419943342%2C-9.631862267110472l30.113577948679833%2C23.907633156144602a64.08333333333336%2C64.08333333333336%200%200%201%20-54.68118854985835%2C24.07965566777618Z%22%20style%3D%22pointer-events%3A%20all%3B%20stroke-width%3A%200%3B%20fill%3A%20rgb(237%2C%20201%2C%2073)%3B%20fill-opacity%3A%201%3B%20stroke%3A%20rgb(68%2C%2068%2C%2068)%3B%20stroke-opacity%3A%201%3B%22%2F%3E%3C%2Fg%3E%3Cg%20class%3D%22slice%22%3E%3Cpath%20class%3D%22surface%22%20d%3D%22M644.7840519657866%2C179.4384221040964a25.633333333333344%2C25.633333333333344%200%200%200%205.11522309725358%2C-11.196667940467222l37.786412594560204%2C7.112631245443769a64.08333333333336%2C64.08333333333336%200%200%201%20-12.788057743133947%2C27.991669851168055Z%22%20style%3D%22pointer-events%3A%20all%3B%20stroke-width%3A%200%3B%20fill%3A%20rgb(78%2C%20121%2C%20167)%3B%20fill-opacity%3A%201%3B%20stroke%3A%20rgb(68%2C%2068%2C%2068)%3B%20stroke-opacity%3A%201%3B%22%2F%3E%3C%2Fg%3E%3Cg%20class%3D%22titletext%22%3E%3Ctext%20data-notex%3D%221%22%20class%3D%22titletext%22%20transform%3D%22translate(624.7083333333334%2C227.58333333333337)translate(0%2C12)%22%20text-anchor%3D%22middle%22%20data-unformatted%3D%2222%22%20data-math%3D%22N%22%20x%3D%220%22%20y%3D%220%22%20style%3D%22font-family%3A%20%26quot%3BOpen%20Sans%26quot%3B%2C%20verdana%2C%20arial%2C%20sans-serif%3B%20font-size%3A%2012px%3B%20fill%3A%20rgb(89%2C%2089%2C%2089)%3B%20fill-opacity%3A%201%3B%20white-space%3A%20pre%3B%22%3E22%3C%2Ftext%3E%3C%2Fg%3E%3C%2Fg%3E%3Cg%20class%3D%22trace%22%20stroke-linejoin%3D%22round%22%20style%3D%22opacity%3A%201%3B%22%3E%3Cg%20class%3D%22slice%22%3E%3Cpath%20class%3D%22surface%22%20d%3D%22M809.5714639866633%2C156.48510535448563a25.633333333333326%2C25.633333333333326%200%200%200%20-24.65479731999659%2C-18.61843868781894l0%2C-38.44999999999999a64.08333333333331%2C64.08333333333331%200%200%201%2061.63699329999147%2C46.54609671954735Z%22%20style%3D%22pointer-events%3A%20all%3B%20stroke-width%3A%200%3B%20fill%3A%20rgb(175%2C%20122%2C%20161)%3B%20fill-opacity%3A%201%3B%20stroke%3A%20rgb(68%2C%2068%2C%2068)%3B%20stroke-opacity%3A%201%3B%22%2F%3E%3C%2Fg%3E%3Cg%20class%3D%22slice%22%3E%3Cpath%20class%3D%22surface%22%20d%3D%22M784.9166666666667%2C137.86666666666667a25.633333333333326%2C25.633333333333326%200%200%200%20-24.65479731999659%2C18.61843868781894l-36.98219597999488%2C-10.522341968271581a64.08333333333331%2C64.08333333333331%200%200%201%2061.63699329999147%2C-46.54609671954735Z%22%20style%3D%22pointer-events%3A%20all%3B%20stroke-width%3A%200%3B%20fill%3A%20rgb(255%2C%20157%2C%20167)%3B%20fill-opacity%3A%201%3B%20stroke%3A%20rgb(68%2C%2068%2C%2068)%3B%20stroke-opacity%3A%201%3B%22%2F%3E%3C%2Fg%3E%3Cg%20class%3D%22slice%22%3E%3Cpath%20class%3D%22surface%22%20d%3D%22M760.2618693466702%2C156.48510535448563a25.633333333333326%2C25.633333333333326%200%200%200%2011.160586211573708%2C28.808793891383495l-20.24131666263432%2C32.690848868803656a64.08333333333331%2C64.08333333333331%200%200%201%20-27.901465528934267%2C-72.02198472845873Z%22%20style%3D%22pointer-events%3A%20all%3B%20stroke-width%3A%200%3B%20fill%3A%20rgb(156%2C%20117%2C%2095)%3B%20fill-opacity%3A%201%3B%20stroke%3A%20rgb(68%2C%2068%2C%2068)%3B%20stroke-opacity%3A%201%3B%22%2F%3E%3C%2Fg%3E%3Cg%20class%3D%22slice%22%3E%3Cpath%20class%3D%22surface%22%20d%3D%22M771.4224555582439%2C185.2938992458691a25.633333333333326%2C25.633333333333326%200%200%200%2030.76327610722963%2C-2.8506373344462164l25.903597498210114%2C28.41489286713433a64.08333333333331%2C64.08333333333331%200%200%201%20-76.90819026807407%2C7.1265933361155405Z%22%20style%3D%22pointer-events%3A%20all%3B%20stroke-width%3A%200%3B%20fill%3A%20rgb(186%2C%20176%2C%20171)%3B%20fill-opacity%3A%201%3B%20stroke%3A%20rgb(68%2C%2068%2C%2068)%3B%20stroke-opacity%3A%201%3B%22%2F%3E%3C%2Fg%3E%3Cg%20class%3D%22slice%22%3E%3Cpath%20class%3D%22surface%22%20d%3D%22M802.1857316654734%2C182.4432619114229a25.633333333333326%2C25.633333333333326%200%200%200%207.385732321189844%2C-25.958156556937276l36.98219597999488%2C-10.522341968271581a64.08333333333331%2C64.08333333333331%200%200%201%20-18.464330802974608%2C64.89539139234319Z%22%20style%3D%22pointer-events%3A%20all%3B%20stroke-width%3A%200%3B%20fill%3A%20rgb(118%2C%20183%2C%20178)%3B%20fill-opacity%3A%201%3B%20stroke%3A%20rgb(68%2C%2068%2C%2068)%3B%20stroke-opacity%3A%201%3B%22%2F%3E%3C%2Fg%3E%3Cg%20class%3D%22titletext%22%3E%3Ctext%20data-notex%3D%221%22%20class%3D%22titletext%22%20transform%3D%22translate(784.9166666666667%2C227.58333333333331)translate(0%2C12)%22%20text-anchor%3D%22middle%22%20data-unformatted%3D%22329%22%20data-math%3D%22N%22%20x%3D%220%22%20y%3D%220%22%20style%3D%22font-family%3A%20%26quot%3BOpen%20Sans%26quot%3B%2C%20verdana%2C%20arial%2C%20sans-serif%3B%20font-size%3A%2012px%3B%20fill%3A%20rgb(89%2C%2089%2C%2089)%3B%20fill-opacity%3A%201%3B%20white-space%3A%20pre%3B%22%3E329%3C%2Ftext%3E%3C%2Fg%3E%3C%2Fg%3E%3C%2Fg%3E%3Cg%20class%3D%22treemaplayer%22%2F%3E%3Cg%20class%3D%22sunburstlayer%22%2F%3E%3Cg%20class%3D%22glimages%22%2F%3E%3Cdefs%20id%3D%22topdefs-a507ea%22%3E%3Cg%20class%3D%22clips%22%2F%3E%3CclipPath%20id%3D%22legenda507ea%22%3E%3Crect%20width%3D%22329%22%20height%3D%22282%22%20x%3D%220%22%20y%3D%220%22%2F%3E%3C%2FclipPath%3E%3C%2Fdefs%3E%3Cg%20class%3D%22indicatorlayer%22%2F%3E%3Cg%20class%3D%22layer-above%22%3E%3Cg%20class%3D%22imagelayer%22%2F%3E%3Cg%20class%3D%22shapelayer%22%2F%3E%3C%2Fg%3E%3Cg%20class%3D%22infolayer%22%3E%3Cg%20class%3D%22legend%22%20pointer-events%3D%22all%22%20transform%3D%22translate(864%2C30)%22%3E%3Crect%20class%3D%22bg%22%20shape-rendering%3D%22crispEdges%22%20style%3D%22stroke%3A%20rgb(68%2C%2068%2C%2068)%3B%20stroke-opacity%3A%201%3B%20fill%3A%20rgb(255%2C%20255%2C%20255)%3B%20fill-opacity%3A%201%3B%20stroke-width%3A%200px%3B%22%20width%3D%22329%22%20height%3D%22282%22%20x%3D%220%22%20y%3D%220%22%2F%3E%3Cg%20class%3D%22scrollbox%22%20clip-path%3D%22url('%23legenda507ea')%22%20transform%3D%22%22%3E%3Cg%20class%3D%22groups%22%3E%3Cg%20class%3D%22traces%22%20style%3D%22opacity%3A%201%3B%22%20transform%3D%22translate(0%2C14.5)%22%3E%3Ctext%20class%3D%22legendtext%22%20text-anchor%3D%22start%22%20x%3D%2240%22%20y%3D%224.680000000000001%22%20data-unformatted%3D%22replies%2C%20Pedro%20Domingos%22%20data-math%3D%22N%22%20style%3D%22font-family%3A%20%26quot%3BOpen%20Sans%26quot%3B%2C%20verdana%2C%20arial%2C%20sans-serif%3B%20font-size%3A%2012px%3B%20fill%3A%20rgb(89%2C%2089%2C%2089)%3B%20fill-opacity%3A%201%3B%20white-space%3A%20pre%3B%22%3Ereplies%2C%20Pedro%20Domingos%3C%2Ftext%3E%3Cg%20class%3D%22layers%22%20style%3D%22opacity%3A%201%3B%22%3E%3Cg%20class%3D%22legendfill%22%2F%3E%3Cg%20class%3D%22legendlines%22%2F%3E%3Cg%20class%3D%22legendsymbols%22%3E%3Cg%20class%3D%22legendpoints%22%3E%3Cpath%20class%3D%22legendpie%22%20d%3D%22M6%2C6H-6V-6H6Z%22%20transform%3D%22translate(20%2C0)%22%20style%3D%22stroke-width%3A%200%3B%20fill%3A%20rgb(78%2C%20121%2C%20167)%3B%20fill-opacity%3A%201%3B%20stroke%3A%20rgb(68%2C%2068%2C%2068)%3B%20stroke-opacity%3A%201%3B%22%2F%3E%3C%2Fg%3E%3C%2Fg%3E%3C%2Fg%3E%3Crect%20class%3D%22legendtoggle%22%20pointer-events%3D%22all%22%20x%3D%220%22%20y%3D%22-9.5%22%20width%3D%22313.234375%22%20height%3D%2219%22%20style%3D%22cursor%3A%20pointer%3B%20fill%3A%20rgb(0%2C%200%2C%200)%3B%20fill-opacity%3A%200%3B%22%2F%3E%3C%2Fg%3E%3Cg%20class%3D%22traces%22%20style%3D%22opacity%3A%201%3B%22%20transform%3D%22translate(0%2C33.5)%22%3E%3Ctext%20class%3D%22legendtext%22%20text-anchor%3D%22start%22%20x%3D%2240%22%20y%3D%224.680000000000001%22%20data-unformatted%3D%22replies%2C%20Fran%C3%A7ois%20Chollet%22%20data-math%3D%22N%22%20style%3D%22font-family%3A%20%26quot%3BOpen%20Sans%26quot%3B%2C%20verdana%2C%20arial%2C%20sans-serif%3B%20font-size%3A%2012px%3B%20fill%3A%20rgb(89%2C%2089%2C%2089)%3B%20fill-opacity%3A%201%3B%20white-space%3A%20pre%3B%22%3Ereplies%2C%20Fran%C3%A7ois%20Chollet%3C%2Ftext%3E%3Cg%20class%3D%22layers%22%20style%3D%22opacity%3A%201%3B%22%3E%3Cg%20class%3D%22legendfill%22%2F%3E%3Cg%20class%3D%22legendlines%22%2F%3E%3Cg%20class%3D%22legendsymbols%22%3E%3Cg%20class%3D%22legendpoints%22%3E%3Cpath%20class%3D%22legendpie%22%20d%3D%22M6%2C6H-6V-6H6Z%22%20transform%3D%22translate(20%2C0)%22%20style%3D%22stroke-width%3A%200%3B%20fill%3A%20rgb(242%2C%20142%2C%2044)%3B%20fill-opacity%3A%201%3B%20stroke%3A%20rgb(68%2C%2068%2C%2068)%3B%20stroke-opacity%3A%201%3B%22%2F%3E%3C%2Fg%3E%3C%2Fg%3E%3C%2Fg%3E%3Crect%20class%3D%22legendtoggle%22%20pointer-events%3D%22all%22%20x%3D%220%22%20y%3D%22-9.5%22%20width%3D%22313.234375%22%20height%3D%2219%22%20style%3D%22cursor%3A%20pointer%3B%20fill%3A%20rgb(0%2C%200%2C%200)%3B%20fill-opacity%3A%200%3B%22%2F%3E%3C%2Fg%3E%3Cg%20class%3D%22traces%22%20style%3D%22opacity%3A%201%3B%22%20transform%3D%22translate(0%2C52.5)%22%3E%3Ctext%20class%3D%22legendtext%22%20text-anchor%3D%22start%22%20x%3D%2240%22%20y%3D%224.680000000000001%22%20data-unformatted%3D%22replies%2C%20Kosta%20Derpanis%22%20data-math%3D%22N%22%20style%3D%22font-family%3A%20%26quot%3BOpen%20Sans%26quot%3B%2C%20verdana%2C%20arial%2C%20sans-serif%3B%20font-size%3A%2012px%3B%20fill%3A%20rgb(89%2C%2089%2C%2089)%3B%20fill-opacity%3A%201%3B%20white-space%3A%20pre%3B%22%3Ereplies%2C%20Kosta%20Derpanis%3C%2Ftext%3E%3Cg%20class%3D%22layers%22%20style%3D%22opacity%3A%201%3B%22%3E%3Cg%20class%3D%22legendfill%22%2F%3E%3Cg%20class%3D%22legendlines%22%2F%3E%3Cg%20class%3D%22legendsymbols%22%3E%3Cg%20class%3D%22legendpoints%22%3E%3Cpath%20class%3D%22legendpie%22%20d%3D%22M6%2C6H-6V-6H6Z%22%20transform%3D%22translate(20%2C0)%22%20style%3D%22stroke-width%3A%200%3B%20fill%3A%20rgb(225%2C%2087%2C%2089)%3B%20fill-opacity%3A%201%3B%20stroke%3A%20rgb(68%2C%2068%2C%2068)%3B%20stroke-opacity%3A%201%3B%22%2F%3E%3C%2Fg%3E%3C%2Fg%3E%3C%2Fg%3E%3Crect%20class%3D%22legendtoggle%22%20pointer-events%3D%22all%22%20x%3D%220%22%20y%3D%22-9.5%22%20width%3D%22313.234375%22%20height%3D%2219%22%20style%3D%22cursor%3A%20pointer%3B%20fill%3A%20rgb(0%2C%200%2C%200)%3B%20fill-opacity%3A%200%3B%22%2F%3E%3C%2Fg%3E%3Cg%20class%3D%22traces%22%20style%3D%22opacity%3A%201%3B%22%20transform%3D%22translate(0%2C71.5)%22%3E%3Ctext%20class%3D%22legendtext%22%20text-anchor%3D%22start%22%20x%3D%2240%22%20y%3D%224.680000000000001%22%20data-unformatted%3D%22replies%2C%20Alvin%20Foo%22%20data-math%3D%22N%22%20style%3D%22font-family%3A%20%26quot%3BOpen%20Sans%26quot%3B%2C%20verdana%2C%20arial%2C%20sans-serif%3B%20font-size%3A%2012px%3B%20fill%3A%20rgb(89%2C%2089%2C%2089)%3B%20fill-opacity%3A%201%3B%20white-space%3A%20pre%3B%22%3Ereplies%2C%20Alvin%20Foo%3C%2Ftext%3E%3Cg%20class%3D%22layers%22%20style%3D%22opacity%3A%201%3B%22%3E%3Cg%20class%3D%22legendfill%22%2F%3E%3Cg%20class%3D%22legendlines%22%2F%3E%3Cg%20class%3D%22legendsymbols%22%3E%3Cg%20class%3D%22legendpoints%22%3E%3Cpath%20class%3D%22legendpie%22%20d%3D%22M6%2C6H-6V-6H6Z%22%20transform%3D%22translate(20%2C0)%22%20style%3D%22stroke-width%3A%200%3B%20fill%3A%20rgb(118%2C%20183%2C%20178)%3B%20fill-opacity%3A%201%3B%20stroke%3A%20rgb(68%2C%2068%2C%2068)%3B%20stroke-opacity%3A%201%3B%22%2F%3E%3C%2Fg%3E%3C%2Fg%3E%3C%2Fg%3E%3Crect%20class%3D%22legendtoggle%22%20pointer-events%3D%22all%22%20x%3D%220%22%20y%3D%22-9.5%22%20width%3D%22313.234375%22%20height%3D%2219%22%20style%3D%22cursor%3A%20pointer%3B%20fill%3A%20rgb(0%2C%200%2C%200)%3B%20fill-opacity%3A%200%3B%22%2F%3E%3C%2Fg%3E%3Cg%20class%3D%22traces%22%20style%3D%22opacity%3A%201%3B%22%20transform%3D%22translate(0%2C90.5)%22%3E%3Ctext%20class%3D%22legendtext%22%20text-anchor%3D%22start%22%20x%3D%2240%22%20y%3D%224.680000000000001%22%20data-unformatted%3D%22replies%2C%20Nige%20Willson%22%20data-math%3D%22N%22%20style%3D%22font-family%3A%20%26quot%3BOpen%20Sans%26quot%3B%2C%20verdana%2C%20arial%2C%20sans-serif%3B%20font-size%3A%2012px%3B%20fill%3A%20rgb(89%2C%2089%2C%2089)%3B%20fill-opacity%3A%201%3B%20white-space%3A%20pre%3B%22%3Ereplies%2C%20Nige%20Willson%3C%2Ftext%3E%3Cg%20class%3D%22layers%22%20style%3D%22opacity%3A%201%3B%22%3E%3Cg%20class%3D%22legendfill%22%2F%3E%3Cg%20class%3D%22legendlines%22%2F%3E%3Cg%20class%3D%22legendsymbols%22%3E%3Cg%20class%3D%22legendpoints%22%3E%3Cpath%20class%3D%22legendpie%22%20d%3D%22M6%2C6H-6V-6H6Z%22%20transform%3D%22translate(20%2C0)%22%20style%3D%22stroke-width%3A%200%3B%20fill%3A%20rgb(89%2C%20161%2C%2079)%3B%20fill-opacity%3A%201%3B%20stroke%3A%20rgb(68%2C%2068%2C%2068)%3B%20stroke-opacity%3A%201%3B%22%2F%3E%3C%2Fg%3E%3C%2Fg%3E%3C%2Fg%3E%3Crect%20class%3D%22legendtoggle%22%20pointer-events%3D%22all%22%20x%3D%220%22%20y%3D%22-9.5%22%20width%3D%22313.234375%22%20height%3D%2219%22%20style%3D%22cursor%3A%20pointer%3B%20fill%3A%20rgb(0%2C%200%2C%200)%3B%20fill-opacity%3A%200%3B%22%2F%3E%3C%2Fg%3E%3Cg%20class%3D%22traces%22%20style%3D%22opacity%3A%201%3B%22%20transform%3D%22translate(0%2C109.5)%22%3E%3Ctext%20class%3D%22legendtext%22%20text-anchor%3D%22start%22%20x%3D%2240%22%20y%3D%224.680000000000001%22%20data-unformatted%3D%22replies%2C%20Ronald%20van%20Loon%22%20data-math%3D%22N%22%20style%3D%22font-family%3A%20%26quot%3BOpen%20Sans%26quot%3B%2C%20verdana%2C%20arial%2C%20sans-serif%3B%20font-size%3A%2012px%3B%20fill%3A%20rgb(89%2C%2089%2C%2089)%3B%20fill-opacity%3A%201%3B%20white-space%3A%20pre%3B%22%3Ereplies%2C%20Ronald%20van%20Loon%3C%2Ftext%3E%3Cg%20class%3D%22layers%22%20style%3D%22opacity%3A%201%3B%22%3E%3Cg%20class%3D%22legendfill%22%2F%3E%3Cg%20class%3D%22legendlines%22%2F%3E%3Cg%20class%3D%22legendsymbols%22%3E%3Cg%20class%3D%22legendpoints%22%3E%3Cpath%20class%3D%22legendpie%22%20d%3D%22M6%2C6H-6V-6H6Z%22%20transform%3D%22translate(20%2C0)%22%20style%3D%22stroke-width%3A%200%3B%20fill%3A%20rgb(237%2C%20201%2C%2073)%3B%20fill-opacity%3A%201%3B%20stroke%3A%20rgb(68%2C%2068%2C%2068)%3B%20stroke-opacity%3A%201%3B%22%2F%3E%3C%2Fg%3E%3C%2Fg%3E%3C%2Fg%3E%3Crect%20class%3D%22legendtoggle%22%20pointer-events%3D%22all%22%20x%3D%220%22%20y%3D%22-9.5%22%20width%3D%22313.234375%22%20height%3D%2219%22%20style%3D%22cursor%3A%20pointer%3B%20fill%3A%20rgb(0%2C%200%2C%200)%3B%20fill-opacity%3A%200%3B%22%2F%3E%3C%2Fg%3E%3Cg%20class%3D%22traces%22%20style%3D%22opacity%3A%201%3B%22%20transform%3D%22translate(0%2C128.5)%22%3E%3Ctext%20class%3D%22legendtext%22%20text-anchor%3D%22start%22%20x%3D%2240%22%20y%3D%224.680000000000001%22%20data-unformatted%3D%22replies%2C%20Sergey%20Levine%22%20data-math%3D%22N%22%20style%3D%22font-family%3A%20%26quot%3BOpen%20Sans%26quot%3B%2C%20verdana%2C%20arial%2C%20sans-serif%3B%20font-size%3A%2012px%3B%20fill%3A%20rgb(89%2C%2089%2C%2089)%3B%20fill-opacity%3A%201%3B%20white-space%3A%20pre%3B%22%3Ereplies%2C%20Sergey%20Levine%3C%2Ftext%3E%3Cg%20class%3D%22layers%22%20style%3D%22opacity%3A%201%3B%22%3E%3Cg%20class%3D%22legendfill%22%2F%3E%3Cg%20class%3D%22legendlines%22%2F%3E%3Cg%20class%3D%22legendsymbols%22%3E%3Cg%20class%3D%22legendpoints%22%3E%3Cpath%20class%3D%22legendpie%22%20d%3D%22M6%2C6H-6V-6H6Z%22%20transform%3D%22translate(20%2C0)%22%20style%3D%22stroke-width%3A%200%3B%20fill%3A%20rgb(175%2C%20122%2C%20161)%3B%20fill-opacity%3A%201%3B%20stroke%3A%20rgb(68%2C%2068%2C%2068)%3B%20stroke-opacity%3A%201%3B%22%2F%3E%3C%2Fg%3E%3C%2Fg%3E%3C%2Fg%3E%3Crect%20class%3D%22legendtoggle%22%20pointer-events%3D%22all%22%20x%3D%220%22%20y%3D%22-9.5%22%20width%3D%22313.234375%22%20height%3D%2219%22%20style%3D%22cursor%3A%20pointer%3B%20fill%3A%20rgb(0%2C%200%2C%200)%3B%20fill-opacity%3A%200%3B%22%2F%3E%3C%2Fg%3E%3Cg%20class%3D%22traces%22%20style%3D%22opacity%3A%201%3B%22%20transform%3D%22translate(0%2C147.5)%22%3E%3Ctext%20class%3D%22legendtext%22%20text-anchor%3D%22start%22%20x%3D%2240%22%20y%3D%224.680000000000001%22%20data-unformatted%3D%22replies%2C%20Carla%20Gentry%22%20data-math%3D%22N%22%20style%3D%22font-family%3A%20%26quot%3BOpen%20Sans%26quot%3B%2C%20verdana%2C%20arial%2C%20sans-serif%3B%20font-size%3A%2012px%3B%20fill%3A%20rgb(89%2C%2089%2C%2089)%3B%20fill-opacity%3A%201%3B%20white-space%3A%20pre%3B%22%3Ereplies%2C%20Carla%20Gentry%3C%2Ftext%3E%3Cg%20class%3D%22layers%22%20style%3D%22opacity%3A%201%3B%22%3E%3Cg%20class%3D%22legendfill%22%2F%3E%3Cg%20class%3D%22legendlines%22%2F%3E%3Cg%20class%3D%22legendsymbols%22%3E%3Cg%20class%3D%22legendpoints%22%3E%3Cpath%20class%3D%22legendpie%22%20d%3D%22M6%2C6H-6V-6H6Z%22%20transform%3D%22translate(20%2C0)%22%20style%3D%22stroke-width%3A%200%3B%20fill%3A%20rgb(255%2C%20157%2C%20167)%3B%20fill-opacity%3A%201%3B%20stroke%3A%20rgb(68%2C%2068%2C%2068)%3B%20stroke-opacity%3A%201%3B%22%2F%3E%3C%2Fg%3E%3C%2Fg%3E%3C%2Fg%3E%3Crect%20class%3D%22legendtoggle%22%20pointer-events%3D%22all%22%20x%3D%220%22%20y%3D%22-9.5%22%20width%3D%22313.234375%22%20height%3D%2219%22%20style%3D%22cursor%3A%20pointer%3B%20fill%3A%20rgb(0%2C%200%2C%200)%3B%20fill-opacity%3A%200%3B%22%2F%3E%3C%2Fg%3E%3Cg%20class%3D%22traces%22%20style%3D%22opacity%3A%201%3B%22%20transform%3D%22translate(0%2C166.5)%22%3E%3Ctext%20class%3D%22legendtext%22%20text-anchor%3D%22start%22%20x%3D%2240%22%20y%3D%224.680000000000001%22%20data-unformatted%3D%22replies%2C%20Tamara%20McCleary%22%20data-math%3D%22N%22%20style%3D%22font-family%3A%20%26quot%3BOpen%20Sans%26quot%3B%2C%20verdana%2C%20arial%2C%20sans-serif%3B%20font-size%3A%2012px%3B%20fill%3A%20rgb(89%2C%2089%2C%2089)%3B%20fill-opacity%3A%201%3B%20white-space%3A%20pre%3B%22%3Ereplies%2C%20Tamara%20McCleary%3C%2Ftext%3E%3Cg%20class%3D%22layers%22%20style%3D%22opacity%3A%201%3B%22%3E%3Cg%20class%3D%22legendfill%22%2F%3E%3Cg%20class%3D%22legendlines%22%2F%3E%3Cg%20class%3D%22legendsymbols%22%3E%3Cg%20class%3D%22legendpoints%22%3E%3Cpath%20class%3D%22legendpie%22%20d%3D%22M6%2C6H-6V-6H6Z%22%20transform%3D%22translate(20%2C0)%22%20style%3D%22stroke-width%3A%200%3B%20fill%3A%20rgb(156%2C%20117%2C%2095)%3B%20fill-opacity%3A%201%3B%20stroke%3A%20rgb(68%2C%2068%2C%2068)%3B%20stroke-opacity%3A%201%3B%22%2F%3E%3C%2Fg%3E%3C%2Fg%3E%3C%2Fg%3E%3Crect%20class%3D%22legendtoggle%22%20pointer-events%3D%22all%22%20x%3D%220%22%20y%3D%22-9.5%22%20width%3D%22313.234375%22%20height%3D%2219%22%20style%3D%22cursor%3A%20pointer%3B%20fill%3A%20rgb(0%2C%200%2C%200)%3B%20fill-opacity%3A%200%3B%22%2F%3E%3C%2Fg%3E%3Cg%20class%3D%22traces%22%20style%3D%22opacity%3A%201%3B%22%20transform%3D%22translate(0%2C185.5)%22%3E%3Ctext%20class%3D%22legendtext%22%20text-anchor%3D%22start%22%20x%3D%2240%22%20y%3D%224.680000000000001%22%20data-unformatted%3D%22replies%2C%20Ayodele%20%7C%20Data%20Science%20Career%20Coach%22%20data-math%3D%22N%22%20style%3D%22font-family%3A%20%26quot%3BOpen%20Sans%26quot%3B%2C%20verdana%2C%20arial%2C%20sans-serif%3B%20font-size%3A%2012px%3B%20fill%3A%20rgb(89%2C%2089%2C%2089)%3B%20fill-opacity%3A%201%3B%20white-space%3A%20pre%3B%22%3Ereplies%2C%20Ayodele%20%7C%20Data%20Science%20Career%20Coach%3C%2Ftext%3E%3Cg%20class%3D%22layers%22%20style%3D%22opacity%3A%201%3B%22%3E%3Cg%20class%3D%22legendfill%22%2F%3E%3Cg%20class%3D%22legendlines%22%2F%3E%3Cg%20class%3D%22legendsymbols%22%3E%3Cg%20class%3D%22legendpoints%22%3E%3Cpath%20class%3D%22legendpie%22%20d%3D%22M6%2C6H-6V-6H6Z%22%20transform%3D%22translate(20%2C0)%22%20style%3D%22stroke-width%3A%200%3B%20fill%3A%20rgb(186%2C%20176%2C%20171)%3B%20fill-opacity%3A%201%3B%20stroke%3A%20rgb(68%2C%2068%2C%2068)%3B%20stroke-opacity%3A%201%3B%22%2F%3E%3C%2Fg%3E%3C%2Fg%3E%3C%2Fg%3E%3Crect%20class%3D%22legendtoggle%22%20pointer-events%3D%22all%22%20x%3D%220%22%20y%3D%22-9.5%22%20width%3D%22313.234375%22%20height%3D%2219%22%20style%3D%22cursor%3A%20pointer%3B%20fill%3A%20rgb(0%2C%200%2C%200)%3B%20fill-opacity%3A%200%3B%22%2F%3E%3C%2Fg%3E%3Cg%20class%3D%22traces%22%20style%3D%22opacity%3A%201%3B%22%20transform%3D%22translate(0%2C204.5)%22%3E%3Ctext%20class%3D%22legendtext%22%20text-anchor%3D%22start%22%20x%3D%2240%22%20y%3D%224.680000000000001%22%20data-unformatted%3D%22replies%2C%20ipfconline%20%23VivaTech%22%20data-math%3D%22N%22%20style%3D%22font-family%3A%20%26quot%3BOpen%20Sans%26quot%3B%2C%20verdana%2C%20arial%2C%20sans-serif%3B%20font-size%3A%2012px%3B%20fill%3A%20rgb(89%2C%2089%2C%2089)%3B%20fill-opacity%3A%201%3B%20white-space%3A%20pre%3B%22%3Ereplies%2C%20ipfconline%20%23VivaTech%3C%2Ftext%3E%3Cg%20class%3D%22layers%22%20style%3D%22opacity%3A%201%3B%22%3E%3Cg%20class%3D%22legendfill%22%2F%3E%3Cg%20class%3D%22legendlines%22%2F%3E%3Cg%20class%3D%22legendsymbols%22%3E%3Cg%20class%3D%22legendpoints%22%3E%3Cpath%20class%3D%22legendpie%22%20d%3D%22M6%2C6H-6V-6H6Z%22%20transform%3D%22translate(20%2C0)%22%20style%3D%22stroke-width%3A%200%3B%20fill%3A%20rgb(78%2C%20121%2C%20167)%3B%20fill-opacity%3A%201%3B%20stroke%3A%20rgb(68%2C%2068%2C%2068)%3B%20stroke-opacity%3A%201%3B%22%2F%3E%3C%2Fg%3E%3C%2Fg%3E%3C%2Fg%3E%3Crect%20class%3D%22legendtoggle%22%20pointer-events%3D%22all%22%20x%3D%220%22%20y%3D%22-9.5%22%20width%3D%22313.234375%22%20height%3D%2219%22%20style%3D%22cursor%3A%20pointer%3B%20fill%3A%20rgb(0%2C%200%2C%200)%3B%20fill-opacity%3A%200%3B%22%2F%3E%3C%2Fg%3E%3Cg%20class%3D%22traces%22%20style%3D%22opacity%3A%201%3B%22%20transform%3D%22translate(0%2C223.5)%22%3E%3Ctext%20class%3D%22legendtext%22%20text-anchor%3D%22start%22%20x%3D%2240%22%20y%3D%224.680000000000001%22%20data-unformatted%3D%22replies%2C%20Bob%20E.%20Hayes%22%20data-math%3D%22N%22%20style%3D%22font-family%3A%20%26quot%3BOpen%20Sans%26quot%3B%2C%20verdana%2C%20arial%2C%20sans-serif%3B%20font-size%3A%2012px%3B%20fill%3A%20rgb(89%2C%2089%2C%2089)%3B%20fill-opacity%3A%201%3B%20white-space%3A%20pre%3B%22%3Ereplies%2C%20Bob%20E.%20Hayes%3C%2Ftext%3E%3Cg%20class%3D%22layers%22%20style%3D%22opacity%3A%201%3B%22%3E%3Cg%20class%3D%22legendfill%22%2F%3E%3Cg%20class%3D%22legendlines%22%2F%3E%3Cg%20class%3D%22legendsymbols%22%3E%3Cg%20class%3D%22legendpoints%22%3E%3Cpath%20class%3D%22legendpie%22%20d%3D%22M6%2C6H-6V-6H6Z%22%20transform%3D%22translate(20%2C0)%22%20style%3D%22stroke-width%3A%200%3B%20fill%3A%20rgb(242%2C%20142%2C%2044)%3B%20fill-opacity%3A%201%3B%20stroke%3A%20rgb(68%2C%2068%2C%2068)%3B%20stroke-opacity%3A%201%3B%22%2F%3E%3C%2Fg%3E%3C%2Fg%3E%3C%2Fg%3E%3Crect%20class%3D%22legendtoggle%22%20pointer-events%3D%22all%22%20x%3D%220%22%20y%3D%22-9.5%22%20width%3D%22313.234375%22%20height%3D%2219%22%20style%3D%22cursor%3A%20pointer%3B%20fill%3A%20rgb(0%2C%200%2C%200)%3B%20fill-opacity%3A%200%3B%22%2F%3E%3C%2Fg%3E%3Cg%20class%3D%22traces%22%20style%3D%22opacity%3A%201%3B%22%20transform%3D%22translate(0%2C242.5)%22%3E%3Ctext%20class%3D%22legendtext%22%20text-anchor%3D%22start%22%20x%3D%2240%22%20y%3D%224.680000000000001%22%20data-unformatted%3D%22replies%2C%20Terence%20Mills%20%E7%89%B9%E4%BC%A6%E6%96%AF%E7%B1%B3%E5%B0%94%E6%96%AF%22%20data-math%3D%22N%22%20style%3D%22font-family%3A%20%26quot%3BOpen%20Sans%26quot%3B%2C%20verdana%2C%20arial%2C%20sans-serif%3B%20font-size%3A%2012px%3B%20fill%3A%20rgb(89%2C%2089%2C%2089)%3B%20fill-opacity%3A%201%3B%20white-space%3A%20pre%3B%22%3Ereplies%2C%20Terence%20Mills%20%E7%89%B9%E4%BC%A6%E6%96%AF%E7%B1%B3%E5%B0%94%E6%96%AF%3C%2Ftext%3E%3Cg%20class%3D%22layers%22%20style%3D%22opacity%3A%201%3B%22%3E%3Cg%20class%3D%22legendfill%22%2F%3E%3Cg%20class%3D%22legendlines%22%2F%3E%3Cg%20class%3D%22legendsymbols%22%3E%3Cg%20class%3D%22legendpoints%22%3E%3Cpath%20class%3D%22legendpie%22%20d%3D%22M6%2C6H-6V-6H6Z%22%20transform%3D%22translate(20%2C0)%22%20style%3D%22stroke-width%3A%200%3B%20fill%3A%20rgb(225%2C%2087%2C%2089)%3B%20fill-opacity%3A%201%3B%20stroke%3A%20rgb(68%2C%2068%2C%2068)%3B%20stroke-opacity%3A%201%3B%22%2F%3E%3C%2Fg%3E%3C%2Fg%3E%3C%2Fg%3E%3Crect%20class%3D%22legendtoggle%22%20pointer-events%3D%22all%22%20x%3D%220%22%20y%3D%22-9.5%22%20width%3D%22313.234375%22%20height%3D%2219%22%20style%3D%22cursor%3A%20pointer%3B%20fill%3A%20rgb(0%2C%200%2C%200)%3B%20fill-opacity%3A%200%3B%22%2F%3E%3C%2Fg%3E%3Cg%20class%3D%22traces%22%20style%3D%22opacity%3A%201%3B%22%20transform%3D%22translate(0%2C261.5)%22%3E%3Ctext%20class%3D%22legendtext%22%20text-anchor%3D%22start%22%20x%3D%2240%22%20y%3D%224.680000000000001%22%20data-unformatted%3D%22replies%2C%20Pascal%20Bornet%22%20data-math%3D%22N%22%20style%3D%22font-family%3A%20%26quot%3BOpen%20Sans%26quot%3B%2C%20verdana%2C%20arial%2C%20sans-serif%3B%20font-size%3A%2012px%3B%20fill%3A%20rgb(89%2C%2089%2C%2089)%3B%20fill-opacity%3A%201%3B%20white-space%3A%20pre%3B%22%3Ereplies%2C%20Pascal%20Bornet%3C%2Ftext%3E%3Cg%20class%3D%22layers%22%20style%3D%22opacity%3A%201%3B%22%3E%3Cg%20class%3D%22legendfill%22%2F%3E%3Cg%20class%3D%22legendlines%22%2F%3E%3Cg%20class%3D%22legendsymbols%22%3E%3Cg%20class%3D%22legendpoints%22%3E%3Cpath%20class%3D%22legendpie%22%20d%3D%22M6%2C6H-6V-6H6Z%22%20transform%3D%22translate(20%2C0)%22%20style%3D%22stroke-width%3A%200%3B%20fill%3A%20rgb(118%2C%20183%2C%20178)%3B%20fill-opacity%3A%201%3B%20stroke%3A%20rgb(68%2C%2068%2C%2068)%3B%20stroke-opacity%3A%201%3B%22%2F%3E%3C%2Fg%3E%3C%2Fg%3E%3C%2Fg%3E%3Crect%20class%3D%22legendtoggle%22%20pointer-events%3D%22all%22%20x%3D%220%22%20y%3D%22-9.5%22%20width%3D%22313.234375%22%20height%3D%2219%22%20style%3D%22cursor%3A%20pointer%3B%20fill%3A%20rgb(0%2C%200%2C%200)%3B%20fill-opacity%3A%200%3B%22%2F%3E%3C%2Fg%3E%3Cg%20class%3D%22traces%22%20style%3D%22opacity%3A%201%3B%22%20transform%3D%22translate(0%2C280.5)%22%3E%3Ctext%20class%3D%22legendtext%22%20text-anchor%3D%22start%22%20x%3D%2240%22%20y%3D%224.680000000000001%22%20data-unformatted%3D%22replies%2C%20Roger%20D.%20Peng%22%20data-math%3D%22N%22%20style%3D%22font-family%3A%20%26quot%3BOpen%20Sans%26quot%3B%2C%20verdana%2C%20arial%2C%20sans-serif%3B%20font-size%3A%2012px%3B%20fill%3A%20rgb(89%2C%2089%2C%2089)%3B%20fill-opacity%3A%201%3B%20white-space%3A%20pre%3B%22%3Ereplies%2C%20Roger%20D.%20Peng%3C%2Ftext%3E%3Cg%20class%3D%22layers%22%20style%3D%22opacity%3A%201%3B%22%3E%3Cg%20class%3D%22legendfill%22%2F%3E%3Cg%20class%3D%22legendlines%22%2F%3E%3Cg%20class%3D%22legendsymbols%22%3E%3Cg%20class%3D%22legendpoints%22%3E%3Cpath%20class%3D%22legendpie%22%20d%3D%22M6%2C6H-6V-6H6Z%22%20transform%3D%22translate(20%2C0)%22%20style%3D%22stroke-width%3A%200%3B%20fill%3A%20rgb(89%2C%20161%2C%2079)%3B%20fill-opacity%3A%201%3B%20stroke%3A%20rgb(68%2C%2068%2C%2068)%3B%20stroke-opacity%3A%201%3B%22%2F%3E%3C%2Fg%3E%3C%2Fg%3E%3C%2Fg%3E%3Crect%20class%3D%22legendtoggle%22%20pointer-events%3D%22all%22%20x%3D%220%22%20y%3D%22-9.5%22%20width%3D%22313.234375%22%20height%3D%2219%22%20style%3D%22cursor%3A%20pointer%3B%20fill%3A%20rgb(0%2C%200%2C%200)%3B%20fill-opacity%3A%200%3B%22%2F%3E%3C%2Fg%3E%3Cg%20class%3D%22traces%22%20style%3D%22opacity%3A%201%3B%22%20transform%3D%22translate(0%2C299.5)%22%3E%3Ctext%20class%3D%22legendtext%22%20text-anchor%3D%22start%22%20x%3D%2240%22%20y%3D%224.680000000000001%22%20data-unformatted%3D%22replies%2C%20Randy%20Olson%22%20data-math%3D%22N%22%20style%3D%22font-family%3A%20%26quot%3BOpen%20Sans%26quot%3B%2C%20verdana%2C%20arial%2C%20sans-serif%3B%20font-size%3A%2012px%3B%20fill%3A%20rgb(89%2C%2089%2C%2089)%3B%20fill-opacity%3A%201%3B%20white-space%3A%20pre%3B%22%3Ereplies%2C%20Randy%20Olson%3C%2Ftext%3E%3Cg%20class%3D%22layers%22%20style%3D%22opacity%3A%201%3B%22%3E%3Cg%20class%3D%22legendfill%22%2F%3E%3Cg%20class%3D%22legendlines%22%2F%3E%3Cg%20class%3D%22legendsymbols%22%3E%3Cg%20class%3D%22legendpoints%22%3E%3Cpath%20class%3D%22legendpie%22%20d%3D%22M6%2C6H-6V-6H6Z%22%20transform%3D%22translate(20%2C0)%22%20style%3D%22stroke-width%3A%200%3B%20fill%3A%20rgb(237%2C%20201%2C%2073)%3B%20fill-opacity%3A%201%3B%20stroke%3A%20rgb(68%2C%2068%2C%2068)%3B%20stroke-opacity%3A%201%3B%22%2F%3E%3C%2Fg%3E%3C%2Fg%3E%3C%2Fg%3E%3Crect%20class%3D%22legendtoggle%22%20pointer-events%3D%22all%22%20x%3D%220%22%20y%3D%22-9.5%22%20width%3D%22313.234375%22%20height%3D%2219%22%20style%3D%22cursor%3A%20pointer%3B%20fill%3A%20rgb(0%2C%200%2C%200)%3B%20fill-opacity%3A%200%3B%22%2F%3E%3C%2Fg%3E%3Cg%20class%3D%22traces%22%20style%3D%22opacity%3A%201%3B%22%20transform%3D%22translate(0%2C318.5)%22%3E%3Ctext%20class%3D%22legendtext%22%20text-anchor%3D%22start%22%20x%3D%2240%22%20y%3D%224.680000000000001%22%20data-unformatted%3D%22replies%2C%20Ayodele%20(eye-ya-deli)%20is%20fullyVaxxed%22%20data-math%3D%22N%22%20style%3D%22font-family%3A%20%26quot%3BOpen%20Sans%26quot%3B%2C%20verdana%2C%20arial%2C%20sans-serif%3B%20font-size%3A%2012px%3B%20fill%3A%20rgb(89%2C%2089%2C%2089)%3B%20fill-opacity%3A%201%3B%20white-space%3A%20pre%3B%22%3Ereplies%2C%20Ayodele%20(eye-ya-deli)%20is%20fullyVaxxed%3C%2Ftext%3E%3Cg%20class%3D%22layers%22%20style%3D%22opacity%3A%201%3B%22%3E%3Cg%20class%3D%22legendfill%22%2F%3E%3Cg%20class%3D%22legendlines%22%2F%3E%3Cg%20class%3D%22legendsymbols%22%3E%3Cg%20class%3D%22legendpoints%22%3E%3Cpath%20class%3D%22legendpie%22%20d%3D%22M6%2C6H-6V-6H6Z%22%20transform%3D%22translate(20%2C0)%22%20style%3D%22stroke-width%3A%200%3B%20fill%3A%20rgb(175%2C%20122%2C%20161)%3B%20fill-opacity%3A%201%3B%20stroke%3A%20rgb(68%2C%2068%2C%2068)%3B%20stroke-opacity%3A%201%3B%22%2F%3E%3C%2Fg%3E%3C%2Fg%3E%3C%2Fg%3E%3Crect%20class%3D%22legendtoggle%22%20pointer-events%3D%22all%22%20x%3D%220%22%20y%3D%22-9.5%22%20width%3D%22313.234375%22%20height%3D%2219%22%20style%3D%22cursor%3A%20pointer%3B%20fill%3A%20rgb(0%2C%200%2C%200)%3B%20fill-opacity%3A%200%3B%22%2F%3E%3C%2Fg%3E%3Cg%20class%3D%22traces%22%20style%3D%22opacity%3A%201%3B%22%20transform%3D%22translate(0%2C337.5)%22%3E%3Ctext%20class%3D%22legendtext%22%20text-anchor%3D%22start%22%20x%3D%2240%22%20y%3D%224.680000000000001%22%20data-unformatted%3D%22replies%2C%20Dr.%20Jacqueline%20Nolis%22%20data-math%3D%22N%22%20style%3D%22font-family%3A%20%26quot%3BOpen%20Sans%26quot%3B%2C%20verdana%2C%20arial%2C%20sans-serif%3B%20font-size%3A%2012px%3B%20fill%3A%20rgb(89%2C%2089%2C%2089)%3B%20fill-opacity%3A%201%3B%20white-space%3A%20pre%3B%22%3Ereplies%2C%20Dr.%20Jacqueline%20Nolis%3C%2Ftext%3E%3Cg%20class%3D%22layers%22%20style%3D%22opacity%3A%201%3B%22%3E%3Cg%20class%3D%22legendfill%22%2F%3E%3Cg%20class%3D%22legendlines%22%2F%3E%3Cg%20class%3D%22legendsymbols%22%3E%3Cg%20class%3D%22legendpoints%22%3E%3Cpath%20class%3D%22legendpie%22%20d%3D%22M6%2C6H-6V-6H6Z%22%20transform%3D%22translate(20%2C0)%22%20style%3D%22stroke-width%3A%200%3B%20fill%3A%20rgb(255%2C%20157%2C%20167)%3B%20fill-opacity%3A%201%3B%20stroke%3A%20rgb(68%2C%2068%2C%2068)%3B%20stroke-opacity%3A%201%3B%22%2F%3E%3C%2Fg%3E%3C%2Fg%3E%3C%2Fg%3E%3Crect%20class%3D%22legendtoggle%22%20pointer-events%3D%22all%22%20x%3D%220%22%20y%3D%22-9.5%22%20width%3D%22313.234375%22%20height%3D%2219%22%20style%3D%22cursor%3A%20pointer%3B%20fill%3A%20rgb(0%2C%200%2C%200)%3B%20fill-opacity%3A%200%3B%22%2F%3E%3C%2Fg%3E%3Cg%20class%3D%22traces%22%20style%3D%22opacity%3A%201%3B%22%20transform%3D%22translate(0%2C356.5)%22%3E%3Ctext%20class%3D%22legendtext%22%20text-anchor%3D%22start%22%20x%3D%2240%22%20y%3D%224.680000000000001%22%20data-unformatted%3D%22replies%2C%20Maximilian%20Igl%22%20data-math%3D%22N%22%20style%3D%22font-family%3A%20%26quot%3BOpen%20Sans%26quot%3B%2C%20verdana%2C%20arial%2C%20sans-serif%3B%20font-size%3A%2012px%3B%20fill%3A%20rgb(89%2C%2089%2C%2089)%3B%20fill-opacity%3A%201%3B%20white-space%3A%20pre%3B%22%3Ereplies%2C%20Maximilian%20Igl%3C%2Ftext%3E%3Cg%20class%3D%22layers%22%20style%3D%22opacity%3A%201%3B%22%3E%3Cg%20class%3D%22legendfill%22%2F%3E%3Cg%20class%3D%22legendlines%22%2F%3E%3Cg%20class%3D%22legendsymbols%22%3E%3Cg%20class%3D%22legendpoints%22%3E%3Cpath%20class%3D%22legendpie%22%20d%3D%22M6%2C6H-6V-6H6Z%22%20transform%3D%22translate(20%2C0)%22%20style%3D%22stroke-width%3A%200%3B%20fill%3A%20rgb(156%2C%20117%2C%2095)%3B%20fill-opacity%3A%201%3B%20stroke%3A%20rgb(68%2C%2068%2C%2068)%3B%20stroke-opacity%3A%201%3B%22%2F%3E%3C%2Fg%3E%3C%2Fg%3E%3C%2Fg%3E%3Crect%20class%3D%22legendtoggle%22%20pointer-events%3D%22all%22%20x%3D%220%22%20y%3D%22-9.5%22%20width%3D%22313.234375%22%20height%3D%2219%22%20style%3D%22cursor%3A%20pointer%3B%20fill%3A%20rgb(0%2C%200%2C%200)%3B%20fill-opacity%3A%200%3B%22%2F%3E%3C%2Fg%3E%3Cg%20class%3D%22traces%22%20style%3D%22opacity%3A%201%3B%22%20transform%3D%22translate(0%2C375.5)%22%3E%3Ctext%20class%3D%22legendtext%22%20text-anchor%3D%22start%22%20x%3D%2240%22%20y%3D%224.680000000000001%22%20data-unformatted%3D%22replies%2C%20Sebastian%20Raschka%22%20data-math%3D%22N%22%20style%3D%22font-family%3A%20%26quot%3BOpen%20Sans%26quot%3B%2C%20verdana%2C%20arial%2C%20sans-serif%3B%20font-size%3A%2012px%3B%20fill%3A%20rgb(89%2C%2089%2C%2089)%3B%20fill-opacity%3A%201%3B%20white-space%3A%20pre%3B%22%3Ereplies%2C%20Sebastian%20Raschka%3C%2Ftext%3E%3Cg%20class%3D%22layers%22%20style%3D%22opacity%3A%201%3B%22%3E%3Cg%20class%3D%22legendfill%22%2F%3E%3Cg%20class%3D%22legendlines%22%2F%3E%3Cg%20class%3D%22legendsymbols%22%3E%3Cg%20class%3D%22legendpoints%22%3E%3Cpath%20class%3D%22legendpie%22%20d%3D%22M6%2C6H-6V-6H6Z%22%20transform%3D%22translate(20%2C0)%22%20style%3D%22stroke-width%3A%200%3B%20fill%3A%20rgb(186%2C%20176%2C%20171)%3B%20fill-opacity%3A%201%3B%20stroke%3A%20rgb(68%2C%2068%2C%2068)%3B%20stroke-opacity%3A%201%3B%22%2F%3E%3C%2Fg%3E%3C%2Fg%3E%3C%2Fg%3E%3Crect%20class%3D%22legendtoggle%22%20pointer-events%3D%22all%22%20x%3D%220%22%20y%3D%22-9.5%22%20width%3D%22313.234375%22%20height%3D%2219%22%20style%3D%22cursor%3A%20pointer%3B%20fill%3A%20rgb(0%2C%200%2C%200)%3B%20fill-opacity%3A%200%3B%22%2F%3E%3C%2Fg%3E%3C%2Fg%3E%3C%2Fg%3E%3Crect%20class%3D%22scrollbar%22%20rx%3D%2220%22%20ry%3D%223%22%20width%3D%226%22%20height%3D%22203.90769230769232%22%20style%3D%22fill%3A%20rgb(128%2C%20139%2C%20164)%3B%20fill-opacity%3A%201%3B%22%20x%3D%22319%22%20y%3D%224%22%2F%3E%3C%2Fg%3E%3Cg%20class%3D%22g-gtitle%22%2F%3E%3C%2Fg%3E%3Cg%20class%3D%22menulayer%22%2F%3E%3Cg%20class%3D%22zoomlayer%22%2F%3E%3Cg%20class%3D%22hoverlayer%22%2F%3E%3C%2Fsvg%3E\">"
      ],
      "text/plain": [
       "Open the notebook in JupyterLab with the atoti extension enabled to build this widget."
      ]
     },
     "metadata": {},
     "output_type": "display_data"
    }
   ],
   "source": [
    "session.visualize(\n",
    "    \"Top 5 influencers for Top 5 topics - With regard to the average number of replies\"\n",
    ")"
   ]
  },
  {
   "cell_type": "markdown",
   "metadata": {},
   "source": [
    "The above graphs (donuts) show the top 5 influencers with the highest replies rates related to the 5 most popular topics.\n",
    "\n",
    "We can observe variable distribution of the avreage number of replies per tweet between the different topics.\n",
    "\n",
    "If we consider Perdo Domingos for example, we observe that he has the highest replies rate (15 replies per tweet) for the topic 186 (the mos popular one), but is not even amongst the top 5 replied influencers for the other topics.\n",
    "\n",
    "Which confirms our preceding assumption."
   ]
  },
  {
   "cell_type": "markdown",
   "metadata": {},
   "source": [
    "#### Top 5 influencers for Top 5 topics - With regard to the average number of retweets and quotes"
   ]
  },
  {
   "cell_type": "code",
   "execution_count": 33,
   "metadata": {
    "atoti": {
     "widget": {
      "filters": [
       "TopCount(Filter([influencer].[topic].Levels(1).Members, NOT IsEmpty([Measures].[contributors.COUNT])), 5, [Measures].[contributors.COUNT])"
      ],
      "mapping": {
       "horizontalSubplots": [
        "[influencer].[topic].[topic]"
       ],
       "sliceBy": [
        "ALL_MEASURES",
        "[influencer].[name].[name]"
       ],
       "values": [
        "[Measures].[retweets_quotes]"
       ],
       "verticalSubplots": []
      },
      "query": {
       "mdx": "SELECT NON EMPTY Order(GENERATE([influencer].[topic].[topic].Members, TOPCOUNT([influencer].[topic].CURRENTMEMBER * [influencer].[name].[name].MEMBERS, 5, [Measures].[retweets_quotes])), [Measures].[contributors.COUNT], DESC) ON ROWS, NON EMPTY {[Measures].[retweets_quotes]} ON COLUMNS FROM [influencer_cube] CELL PROPERTIES VALUE, FORMATTED_VALUE, BACK_COLOR, FORE_COLOR, FONT_FLAGS",
       "updateMode": "once"
      },
      "serverKey": "default",
      "widgetKey": "plotly-donut-chart"
     }
    },
    "tags": []
   },
   "outputs": [
    {
     "data": {
      "application/vnd.atoti.widget.v0+json": {
       "name": "Top 5 influencers for Top 5 topics - With regard to the average number of retweets and quotes",
       "sessionId": "1674717365_VNWIH9",
       "sessionLocation": {
        "https": false,
        "port": 60114
       },
       "widgetCreationCode": "session.visualize()"
      },
      "text/html": [
       "<img src=\"data:image/svg+xml;charset=utf8,%3C%3Fxml%20version%3D%221.0%22%20standalone%3D%22no%22%3F%3E%3Csvg%20xmlns%3D%22http%3A%2F%2Fwww.w3.org%2F2000%2Fsvg%22%20xmlns%3Axlink%3D%22http%3A%2F%2Fwww.w3.org%2F1999%2Fxlink%22%20height%3D%22352%22%20width%3D%221183%22%20viewBox%3D%220%200%201183%20352%22%3E%3Cdefs%20id%3D%22defs-9917b2%22%3E%3Cg%20class%3D%22clips%22%2F%3E%3Cg%20class%3D%22gradients%22%2F%3E%3C%2Fdefs%3E%3Cg%20class%3D%22bglayer%22%2F%3E%3Cg%20class%3D%22draglayer%22%2F%3E%3Cg%20class%3D%22layer-below%22%3E%3Cg%20class%3D%22imagelayer%22%2F%3E%3Cg%20class%3D%22shapelayer%22%2F%3E%3C%2Fg%3E%3Cg%20class%3D%22cartesianlayer%22%2F%3E%3Cg%20class%3D%22polarlayer%22%2F%3E%3Cg%20class%3D%22ternarylayer%22%2F%3E%3Cg%20class%3D%22geolayer%22%2F%3E%3Cg%20class%3D%22funnelarealayer%22%2F%3E%3Cg%20class%3D%22pielayer%22%3E%3Cg%20class%3D%22trace%22%20stroke-linejoin%3D%22round%22%20style%3D%22opacity%3A%201%3B%22%3E%3Cg%20class%3D%22slice%22%3E%3Cpath%20class%3D%22surface%22%20d%3D%22M124.27449768629347%2C145.1061310711661a23.66666666666667%2C23.66666666666667%200%201%200%2014.892168980373208%2C-5.272797737832764l0%2C-35.5a59.16666666666667%2C59.16666666666667%200%201%201%20-37.23042245093302%2C13.18199434458191Z%22%20style%3D%22pointer-events%3A%20all%3B%20stroke-width%3A%200%3B%20fill%3A%20rgb(78%2C%20121%2C%20167)%3B%20fill-opacity%3A%201%3B%20stroke%3A%20rgb(68%2C%2068%2C%2068)%3B%20stroke-opacity%3A%201%3B%22%2F%3E%3C%2Fg%3E%3Cg%20class%3D%22slice%22%3E%3Cpath%20class%3D%22surface%22%20d%3D%22M139.16666666666669%2C139.83333333333331a23.66666666666667%2C23.66666666666667%200%200%200%20-8.116601021419987%2C1.4353396938970207l-12.174901532129981%2C-33.34699045915447a59.16666666666667%2C59.16666666666667%200%200%201%2020.291502553549968%2C-3.5883492347425516Z%22%20style%3D%22pointer-events%3A%20all%3B%20stroke-width%3A%200%3B%20fill%3A%20rgb(242%2C%20142%2C%2044)%3B%20fill-opacity%3A%201%3B%20stroke%3A%20rgb(68%2C%2068%2C%2068)%3B%20stroke-opacity%3A%201%3B%22%2F%3E%3C%2Fg%3E%3Cg%20class%3D%22slice%22%3E%3Cpath%20class%3D%22surface%22%20d%3D%22M131.0500656452467%2C141.26867302723036a23.66666666666667%2C23.66666666666667%200%200%200%20-2.818806998689222%2C1.2425689689038082l-16.40311203016381%2C-31.48313700579876a59.16666666666667%2C59.16666666666667%200%200%201%207.047017496723054%2C-3.10642242225952Z%22%20style%3D%22pointer-events%3A%20all%3B%20stroke-width%3A%200%3B%20fill%3A%20rgb(225%2C%2087%2C%2089)%3B%20fill-opacity%3A%201%3B%20stroke%3A%20rgb(68%2C%2068%2C%2068)%3B%20stroke-opacity%3A%201%3B%22%2F%3E%3C%2Fg%3E%3Cg%20class%3D%22slice%22%3E%3Cpath%20class%3D%22surface%22%20d%3D%22M128.23125864655748%2C142.51124199613417a23.66666666666667%2C23.66666666666667%200%200%200%20-2.220095346950619%2C1.3153281485917803l-19.73325505058974%2C-29.510144782911087a59.16666666666667%2C59.16666666666667%200%200%201%205.550238367376547%2C-3.2883203714794504Z%22%20style%3D%22pointer-events%3A%20all%3B%20stroke-width%3A%200%3B%20fill%3A%20rgb(118%2C%20183%2C%20178)%3B%20fill-opacity%3A%201%3B%20stroke%3A%20rgb(68%2C%2068%2C%2068)%3B%20stroke-opacity%3A%201%3B%22%2F%3E%3C%2Fg%3E%3Cg%20class%3D%22slice%22%3E%3Cpath%20class%3D%22surface%22%20d%3D%22M126.01116329960686%2C143.82657014472593a23.66666666666667%2C23.66666666666667%200%200%200%20-1.736665613313383%2C1.2795609264401635l-22.338253470559817%2C-27.590803393250845a59.16666666666667%2C59.16666666666667%200%200%201%204.3416640332834575%2C-3.1989023161004084Z%22%20style%3D%22pointer-events%3A%20all%3B%20stroke-width%3A%200%3B%20fill%3A%20rgb(89%2C%20161%2C%2079)%3B%20fill-opacity%3A%201%3B%20stroke%3A%20rgb(68%2C%2068%2C%2068)%3B%20stroke-opacity%3A%201%3B%22%2F%3E%3C%2Fg%3E%3Cg%20class%3D%22titletext%22%3E%3Ctext%20data-notex%3D%221%22%20class%3D%22titletext%22%20transform%3D%22translate(139.16666666666669%2C222.66666666666669)translate(0%2C12)%22%20text-anchor%3D%22middle%22%20data-unformatted%3D%22186%22%20data-math%3D%22N%22%20x%3D%220%22%20y%3D%220%22%20style%3D%22font-family%3A%20%26quot%3BOpen%20Sans%26quot%3B%2C%20verdana%2C%20arial%2C%20sans-serif%3B%20font-size%3A%2012px%3B%20fill%3A%20rgb(89%2C%2089%2C%2089)%3B%20fill-opacity%3A%201%3B%20white-space%3A%20pre%3B%22%3E186%3C%2Ftext%3E%3C%2Fg%3E%3C%2Fg%3E%3Cg%20class%3D%22trace%22%20stroke-linejoin%3D%22round%22%20style%3D%22opacity%3A%201%3B%22%3E%3Cg%20class%3D%22slice%22%3E%3Cpath%20class%3D%22surface%22%20d%3D%22M309.6362940101094%2C170.67461328734203a23.666666666666668%2C23.666666666666668%200%200%200%20-22.55296067677604%2C-30.841279954008698l0%2C-35.5a59.166666666666664%2C59.166666666666664%200%200%201%2056.382401691940096%2C77.10319988502174Z%22%20style%3D%22pointer-events%3A%20all%3B%20stroke-width%3A%200%3B%20fill%3A%20rgb(78%2C%20121%2C%20167)%3B%20fill-opacity%3A%201%3B%20stroke%3A%20rgb(68%2C%2068%2C%2068)%3B%20stroke-opacity%3A%201%3B%22%2F%3E%3C%2Fg%3E%3Cg%20class%3D%22slice%22%3E%3Cpath%20class%3D%22surface%22%20d%3D%22M287.08333333333337%2C139.83333333333334a23.666666666666668%2C23.666666666666668%200%200%200%20-21.500344766395393%2C13.774938504346123l-32.25051714959309%2C-14.837592243480815a59.166666666666664%2C59.166666666666664%200%200%201%2053.75086191598848%2C-34.437346260865304Z%22%20style%3D%22pointer-events%3A%20all%3B%20stroke-width%3A%200%3B%20fill%3A%20rgb(237%2C%20201%2C%2073)%3B%20fill-opacity%3A%201%3B%20stroke%3A%20rgb(68%2C%2068%2C%2068)%3B%20stroke-opacity%3A%201%3B%22%2F%3E%3C%2Fg%3E%3Cg%20class%3D%22slice%22%3E%3Cpath%20class%3D%22surface%22%20d%3D%22M265.58298856693796%2C153.60827183767947a23.666666666666668%2C23.666666666666668%200%200%200%203.0621045026211906%2C24.728924901814395l-27.657360395661303%2C22.255795109240772a59.166666666666664%2C59.166666666666664%200%200%201%20-7.655261256552976%2C-61.82231225453598Z%22%20style%3D%22pointer-events%3A%20all%3B%20stroke-width%3A%200%3B%20fill%3A%20rgb(175%2C%20122%2C%20161)%3B%20fill-opacity%3A%201%3B%20stroke%3A%20rgb(68%2C%2068%2C%2068)%3B%20stroke-opacity%3A%201%3B%22%2F%3E%3C%2Fg%3E%3Cg%20class%3D%22slice%22%3E%3Cpath%20class%3D%22surface%22%20d%3D%22M268.64509306955915%2C178.33719673949383a23.666666666666668%2C23.666666666666668%200%200%200%2023.501323232994647%2C8.2815467808167l7.594624453830664%2C34.67811528046582a59.166666666666664%2C59.166666666666664%200%200%201%20-58.75330808248661%2C-20.70386695204175Z%22%20style%3D%22pointer-events%3A%20all%3B%20stroke-width%3A%200%3B%20fill%3A%20rgb(255%2C%20157%2C%20167)%3B%20fill-opacity%3A%201%3B%20stroke%3A%20rgb(68%2C%2068%2C%2068)%3B%20stroke-opacity%3A%201%3B%22%2F%3E%3C%2Fg%3E%3Cg%20class%3D%22slice%22%3E%3Cpath%20class%3D%22surface%22%20d%3D%22M292.1464163025538%2C186.61874352031055a23.666666666666668%2C23.666666666666668%200%200%200%2017.489877707555593%2C-15.944130232968513l33.82944101516405%2C10.76191993101305a59.166666666666664%2C59.166666666666664%200%200%201%20-43.72469426888898%2C39.86032558242128Z%22%20style%3D%22pointer-events%3A%20all%3B%20stroke-width%3A%200%3B%20fill%3A%20rgb(156%2C%20117%2C%2095)%3B%20fill-opacity%3A%201%3B%20stroke%3A%20rgb(68%2C%2068%2C%2068)%3B%20stroke-opacity%3A%201%3B%22%2F%3E%3C%2Fg%3E%3Cg%20class%3D%22titletext%22%3E%3Ctext%20data-notex%3D%221%22%20class%3D%22titletext%22%20transform%3D%22translate(287.08333333333337%2C222.66666666666666)translate(0%2C12)%22%20text-anchor%3D%22middle%22%20data-unformatted%3D%2296%22%20data-math%3D%22N%22%20x%3D%220%22%20y%3D%220%22%20style%3D%22font-family%3A%20%26quot%3BOpen%20Sans%26quot%3B%2C%20verdana%2C%20arial%2C%20sans-serif%3B%20font-size%3A%2012px%3B%20fill%3A%20rgb(89%2C%2089%2C%2089)%3B%20fill-opacity%3A%201%3B%20white-space%3A%20pre%3B%22%3E96%3C%2Ftext%3E%3C%2Fg%3E%3C%2Fg%3E%3Cg%20class%3D%22trace%22%20stroke-linejoin%3D%22round%22%20style%3D%22opacity%3A%201%3B%22%3E%3Cg%20class%3D%22slice%22%3E%3Cpath%20class%3D%22surface%22%20d%3D%22M438.49066984025984%2C186.90782636592752a23.66666666666667%2C23.66666666666667%200%200%200%20-3.4906698402598426%2C-47.07449303259419l0%2C-35.5a59.16666666666667%2C59.16666666666667%200%200%201%208.726674600649606%2C117.68623258148547Z%22%20style%3D%22pointer-events%3A%20all%3B%20stroke-width%3A%200%3B%20fill%3A%20rgb(186%2C%20176%2C%20171)%3B%20fill-opacity%3A%201%3B%20stroke%3A%20rgb(68%2C%2068%2C%2068)%3B%20stroke-opacity%3A%201%3B%22%2F%3E%3C%2Fg%3E%3Cg%20class%3D%22slice%22%3E%3Cpath%20class%3D%22surface%22%20d%3D%22M435%2C139.83333333333331a23.66666666666667%2C23.66666666666667%200%200%200%20-6.317645082311024%2C46.47452653393748l-9.476467623466535%2C34.21178980090622a59.16666666666667%2C59.16666666666667%200%200%201%2015.79411270577756%2C-116.1863163348437Z%22%20style%3D%22pointer-events%3A%20all%3B%20stroke-width%3A%200%3B%20fill%3A%20rgb(78%2C%20121%2C%20167)%3B%20fill-opacity%3A%201%3B%20stroke%3A%20rgb(68%2C%2068%2C%2068)%3B%20stroke-opacity%3A%201%3B%22%2F%3E%3C%2Fg%3E%3Cg%20class%3D%22slice%22%3E%3Cpath%20class%3D%22surface%22%20d%3D%22M428.682354917689%2C186.30785986727082a23.66666666666667%2C23.66666666666667%200%200%200%205.039229767051765%2C0.8242531443246975l-1.9176229728888878%2C35.44816951739326a59.16666666666667%2C59.16666666666667%200%200%201%20-12.598074417629412%2C-2.0606328608117437Z%22%20style%3D%22pointer-events%3A%20all%3B%20stroke-width%3A%200%3B%20fill%3A%20rgb(242%2C%20142%2C%2044)%3B%20fill-opacity%3A%201%3B%20stroke%3A%20rgb(68%2C%2068%2C%2068)%3B%20stroke-opacity%3A%201%3B%22%2F%3E%3C%2Fg%3E%3Cg%20class%3D%22slice%22%3E%3Cpath%20class%3D%22surface%22%20d%3D%22M433.7215846847407%2C187.13211301159552a23.66666666666667%2C23.66666666666667%200%200%200%202.667874403490707%2C-0.0062688033298059056l2.084188632347172%2C35.438766312398556a59.16666666666667%2C59.16666666666667%200%200%201%20-6.669686008726767%2C0.015672008324514763Z%22%20style%3D%22pointer-events%3A%20all%3B%20stroke-width%3A%200%3B%20fill%3A%20rgb(242%2C%20142%2C%2044)%3B%20fill-opacity%3A%201%3B%20stroke%3A%20rgb(68%2C%2068%2C%2068)%3B%20stroke-opacity%3A%201%3B%22%2F%3E%3C%2Fg%3E%3Cg%20class%3D%22slice%22%3E%3Cpath%20class%3D%22surface%22%20d%3D%22M436.38945908823143%2C187.1258442082657a23.66666666666667%2C23.66666666666667%200%200%200%202.101210752028399%2C-0.21801784233818466l5.236004760389771%2C35.11173954889128a59.16666666666667%2C59.16666666666667%200%200%201%20-5.253026880070998%2C0.5450446058454617Z%22%20style%3D%22pointer-events%3A%20all%3B%20stroke-width%3A%200%3B%20fill%3A%20rgb(225%2C%2087%2C%2089)%3B%20fill-opacity%3A%201%3B%20stroke%3A%20rgb(68%2C%2068%2C%2068)%3B%20stroke-opacity%3A%201%3B%22%2F%3E%3C%2Fg%3E%3Cg%20class%3D%22titletext%22%3E%3Ctext%20data-notex%3D%221%22%20class%3D%22titletext%22%20transform%3D%22translate(435%2C222.66666666666669)translate(0%2C12)%22%20text-anchor%3D%22middle%22%20data-unformatted%3D%22112%22%20data-math%3D%22N%22%20x%3D%220%22%20y%3D%220%22%20style%3D%22font-family%3A%20%26quot%3BOpen%20Sans%26quot%3B%2C%20verdana%2C%20arial%2C%20sans-serif%3B%20font-size%3A%2012px%3B%20fill%3A%20rgb(89%2C%2089%2C%2089)%3B%20fill-opacity%3A%201%3B%20white-space%3A%20pre%3B%22%3E112%3C%2Ftext%3E%3C%2Fg%3E%3C%2Fg%3E%3Cg%20class%3D%22trace%22%20stroke-linejoin%3D%22round%22%20style%3D%22opacity%3A%201%3B%22%3E%3Cg%20class%3D%22slice%22%3E%3Cpath%20class%3D%22surface%22%20d%3D%22M599.3449891986065%2C180.53588359603546a23.66666666666668%2C23.66666666666668%200%200%200%20-16.428322531939823%2C-40.70255026270213l0%2C-35.500000000000014a59.16666666666669%2C59.16666666666669%200%200%201%2041.07080632984956%2C101.75637565675532Z%22%20style%3D%22pointer-events%3A%20all%3B%20stroke-width%3A%200%3B%20fill%3A%20rgb(225%2C%2087%2C%2089)%3B%20fill-opacity%3A%201%3B%20stroke%3A%20rgb(68%2C%2068%2C%2068)%3B%20stroke-opacity%3A%201%3B%22%2F%3E%3C%2Fg%3E%3Cg%20class%3D%22slice%22%3E%3Cpath%20class%3D%22surface%22%20d%3D%22M582.9166666666667%2C139.83333333333331a23.66666666666668%2C23.66666666666668%200%200%200%20-23.5893868181115%2C21.755661523654478l-35.384080227167246%2C-2.866507714518302a59.16666666666669%2C59.16666666666669%200%200%201%2058.973467045278746%2C-54.38915380913619Z%22%20style%3D%22pointer-events%3A%20all%3B%20stroke-width%3A%200%3B%20fill%3A%20rgb(78%2C%20121%2C%20167)%3B%20fill-opacity%3A%201%3B%20stroke%3A%20rgb(68%2C%2068%2C%2068)%3B%20stroke-opacity%3A%201%3B%22%2F%3E%3C%2Fg%3E%3Cg%20class%3D%22slice%22%3E%3Cpath%20class%3D%22surface%22%20d%3D%22M559.3272798485552%2C161.5889948569878a23.66666666666668%2C23.66666666666668%200%200%200%2012.000251173967857%2C22.546000808937382l-17.38370346621546%2C30.95249349888777a59.16666666666669%2C59.16666666666669%200%200%201%20-30.000627934919642%2C-56.365002022343454Z%22%20style%3D%22pointer-events%3A%20all%3B%20stroke-width%3A%200%3B%20fill%3A%20rgb(118%2C%20183%2C%20178)%3B%20fill-opacity%3A%201%3B%20stroke%3A%20rgb(68%2C%2068%2C%2068)%3B%20stroke-opacity%3A%201%3B%22%2F%3E%3C%2Fg%3E%3Cg%20class%3D%22slice%22%3E%3Cpath%20class%3D%22surface%22%20d%3D%22M571.3275310225231%2C184.13499566592517a23.66666666666668%2C23.66666666666668%200%200%200%2016.084965029143444%2C2.600723157732588l6.743744077499701%2C34.85357823548665a59.16666666666669%2C59.16666666666669%200%200%201%20-40.212412572858604%2C-6.5018078943314705Z%22%20style%3D%22pointer-events%3A%20all%3B%20stroke-width%3A%200%3B%20fill%3A%20rgb(89%2C%20161%2C%2079)%3B%20fill-opacity%3A%201%3B%20stroke%3A%20rgb(68%2C%2068%2C%2068)%3B%20stroke-opacity%3A%201%3B%22%2F%3E%3C%2Fg%3E%3Cg%20class%3D%22slice%22%3E%3Cpath%20class%3D%22surface%22%20d%3D%22M587.4124960516665%2C186.73571882365778a23.66666666666668%2C23.66666666666668%200%200%200%2011.932493146940018%2C-6.1998352276223105l24.642483797909726%2C25.553825394053188a59.16666666666669%2C59.16666666666669%200%200%201%20-29.831232867350046%2C15.499588069055775Z%22%20style%3D%22pointer-events%3A%20all%3B%20stroke-width%3A%200%3B%20fill%3A%20rgb(237%2C%20201%2C%2073)%3B%20fill-opacity%3A%201%3B%20stroke%3A%20rgb(68%2C%2068%2C%2068)%3B%20stroke-opacity%3A%201%3B%22%2F%3E%3C%2Fg%3E%3Cg%20class%3D%22titletext%22%3E%3Ctext%20data-notex%3D%221%22%20class%3D%22titletext%22%20transform%3D%22translate(582.9166666666667%2C222.66666666666669)translate(0%2C12)%22%20text-anchor%3D%22middle%22%20data-unformatted%3D%2222%22%20data-math%3D%22N%22%20x%3D%220%22%20y%3D%220%22%20style%3D%22font-family%3A%20%26quot%3BOpen%20Sans%26quot%3B%2C%20verdana%2C%20arial%2C%20sans-serif%3B%20font-size%3A%2012px%3B%20fill%3A%20rgb(89%2C%2089%2C%2089)%3B%20fill-opacity%3A%201%3B%20white-space%3A%20pre%3B%22%3E22%3C%2Ftext%3E%3C%2Fg%3E%3C%2Fg%3E%3Cg%20class%3D%22trace%22%20stroke-linejoin%3D%22round%22%20style%3D%22opacity%3A%201%3B%22%3E%3Cg%20class%3D%22slice%22%3E%3Cpath%20class%3D%22surface%22%20d%3D%22M751.3896264618307%2C175.2281679697386a23.66666666666666%2C23.66666666666666%200%200%200%20-20.556293128497376%2C-35.39483463640526l0%2C-35.499999999999986a59.16666666666665%2C59.16666666666665%200%200%201%2051.39073282124344%2C88.48708659101314Z%22%20style%3D%22pointer-events%3A%20all%3B%20stroke-width%3A%200%3B%20fill%3A%20rgb(89%2C%20161%2C%2079)%3B%20fill-opacity%3A%201%3B%20stroke%3A%20rgb(68%2C%2068%2C%2068)%3B%20stroke-opacity%3A%201%3B%22%2F%3E%3C%2Fg%3E%3Cg%20class%3D%22slice%22%3E%3Cpath%20class%3D%22surface%22%20d%3D%22M730.8333333333334%2C139.83333333333334a23.66666666666666%2C23.66666666666666%200%200%200%20-23.659949124886523%2C23.102824030027346l-35.48992368732978%2C-0.8457639549589745a59.16666666666665%2C59.16666666666665%200%200%201%2059.1498728122163%2C-57.75706007506836Z%22%20style%3D%22pointer-events%3A%20all%3B%20stroke-width%3A%200%3B%20fill%3A%20rgb(237%2C%20201%2C%2073)%3B%20fill-opacity%3A%201%3B%20stroke%3A%20rgb(68%2C%2068%2C%2068)%3B%20stroke-opacity%3A%201%3B%22%2F%3E%3C%2Fg%3E%3Cg%20class%3D%22slice%22%3E%3Cpath%20class%3D%22surface%22%20d%3D%22M707.1733842084468%2C162.93615736336068a23.66666666666666%2C23.66666666666666%200%200%200%2016.444331118045444%2C23.103717700411558l-10.823427010261614%2C33.80981259565836a59.16666666666665%2C59.16666666666665%200%200%201%20-41.11082779511361%2C-57.75929425102889Z%22%20style%3D%22pointer-events%3A%20all%3B%20stroke-width%3A%200%3B%20fill%3A%20rgb(175%2C%20122%2C%20161)%3B%20fill-opacity%3A%201%3B%20stroke%3A%20rgb(68%2C%2068%2C%2068)%3B%20stroke-opacity%3A%201%3B%22%2F%3E%3C%2Fg%3E%3Cg%20class%3D%22slice%22%3E%3Cpath%20class%3D%22surface%22%20d%3D%22M723.6177153264923%2C186.03987506377223a23.66666666666666%2C23.66666666666666%200%200%200%2018.791429756322778%2C-1.8974020178488844l17.36371762422255%2C30.963709568885033a59.16666666666665%2C59.16666666666665%200%200%201%20-46.97857439080694%2C4.743505044622211Z%22%20style%3D%22pointer-events%3A%20all%3B%20stroke-width%3A%200%3B%20fill%3A%20rgb(78%2C%20121%2C%20167)%3B%20fill-opacity%3A%201%3B%20stroke%3A%20rgb(68%2C%2068%2C%2068)%3B%20stroke-opacity%3A%201%3B%22%2F%3E%3C%2Fg%3E%3Cg%20class%3D%22slice%22%3E%3Cpath%20class%3D%22surface%22%20d%3D%22M742.409145082815%2C184.14247304592337a23.66666666666666%2C23.66666666666666%200%200%200%208.98048137901568%2C-8.914305076184766l30.834439692746066%2C17.592251954607885a59.16666666666665%2C59.16666666666665%200%200%201%20-22.4512034475392%2C22.28576269046191Z%22%20style%3D%22pointer-events%3A%20all%3B%20stroke-width%3A%200%3B%20fill%3A%20rgb(255%2C%20157%2C%20167)%3B%20fill-opacity%3A%201%3B%20stroke%3A%20rgb(68%2C%2068%2C%2068)%3B%20stroke-opacity%3A%201%3B%22%2F%3E%3C%2Fg%3E%3Cg%20class%3D%22titletext%22%3E%3Ctext%20data-notex%3D%221%22%20class%3D%22titletext%22%20transform%3D%22translate(730.8333333333334%2C222.66666666666666)translate(0%2C12)%22%20text-anchor%3D%22middle%22%20data-unformatted%3D%22329%22%20data-math%3D%22N%22%20x%3D%220%22%20y%3D%220%22%20style%3D%22font-family%3A%20%26quot%3BOpen%20Sans%26quot%3B%2C%20verdana%2C%20arial%2C%20sans-serif%3B%20font-size%3A%2012px%3B%20fill%3A%20rgb(89%2C%2089%2C%2089)%3B%20fill-opacity%3A%201%3B%20white-space%3A%20pre%3B%22%3E329%3C%2Ftext%3E%3C%2Fg%3E%3C%2Fg%3E%3C%2Fg%3E%3Cg%20class%3D%22treemaplayer%22%2F%3E%3Cg%20class%3D%22sunburstlayer%22%2F%3E%3Cg%20class%3D%22glimages%22%2F%3E%3Cdefs%20id%3D%22topdefs-9917b2%22%3E%3Cg%20class%3D%22clips%22%2F%3E%3CclipPath%20id%3D%22legend9917b2%22%3E%3Crect%20width%3D%22389%22%20height%3D%22282%22%20x%3D%220%22%20y%3D%220%22%2F%3E%3C%2FclipPath%3E%3C%2Fdefs%3E%3Cg%20class%3D%22indicatorlayer%22%2F%3E%3Cg%20class%3D%22layer-above%22%3E%3Cg%20class%3D%22imagelayer%22%2F%3E%3Cg%20class%3D%22shapelayer%22%2F%3E%3C%2Fg%3E%3Cg%20class%3D%22infolayer%22%3E%3Cg%20class%3D%22legend%22%20pointer-events%3D%22all%22%20transform%3D%22translate(804%2C30)%22%3E%3Crect%20class%3D%22bg%22%20shape-rendering%3D%22crispEdges%22%20style%3D%22stroke%3A%20rgb(68%2C%2068%2C%2068)%3B%20stroke-opacity%3A%201%3B%20fill%3A%20rgb(255%2C%20255%2C%20255)%3B%20fill-opacity%3A%201%3B%20stroke-width%3A%200px%3B%22%20width%3D%22389%22%20height%3D%22282%22%20x%3D%220%22%20y%3D%220%22%2F%3E%3Cg%20class%3D%22scrollbox%22%20clip-path%3D%22url('%23legend9917b2')%22%20transform%3D%22%22%3E%3Cg%20class%3D%22groups%22%3E%3Cg%20class%3D%22traces%22%20style%3D%22opacity%3A%201%3B%22%20transform%3D%22translate(0%2C14.5)%22%3E%3Ctext%20class%3D%22legendtext%22%20text-anchor%3D%22start%22%20x%3D%2240%22%20y%3D%224.680000000000001%22%20data-unformatted%3D%22retweets_quotes%2C%20Hilary%20Parker%22%20data-math%3D%22N%22%20style%3D%22font-family%3A%20%26quot%3BOpen%20Sans%26quot%3B%2C%20verdana%2C%20arial%2C%20sans-serif%3B%20font-size%3A%2012px%3B%20fill%3A%20rgb(89%2C%2089%2C%2089)%3B%20fill-opacity%3A%201%3B%20white-space%3A%20pre%3B%22%3Eretweets_quotes%2C%20Hilary%20Parker%3C%2Ftext%3E%3Cg%20class%3D%22layers%22%20style%3D%22opacity%3A%201%3B%22%3E%3Cg%20class%3D%22legendfill%22%2F%3E%3Cg%20class%3D%22legendlines%22%2F%3E%3Cg%20class%3D%22legendsymbols%22%3E%3Cg%20class%3D%22legendpoints%22%3E%3Cpath%20class%3D%22legendpie%22%20d%3D%22M6%2C6H-6V-6H6Z%22%20transform%3D%22translate(20%2C0)%22%20style%3D%22stroke-width%3A%200%3B%20fill%3A%20rgb(78%2C%20121%2C%20167)%3B%20fill-opacity%3A%201%3B%20stroke%3A%20rgb(68%2C%2068%2C%2068)%3B%20stroke-opacity%3A%201%3B%22%2F%3E%3C%2Fg%3E%3C%2Fg%3E%3C%2Fg%3E%3Crect%20class%3D%22legendtoggle%22%20pointer-events%3D%22all%22%20x%3D%220%22%20y%3D%22-9.5%22%20width%3D%22373.71875%22%20height%3D%2219%22%20style%3D%22cursor%3A%20pointer%3B%20fill%3A%20rgb(0%2C%200%2C%200)%3B%20fill-opacity%3A%200%3B%22%2F%3E%3C%2Fg%3E%3Cg%20class%3D%22traces%22%20style%3D%22opacity%3A%201%3B%22%20transform%3D%22translate(0%2C33.5)%22%3E%3Ctext%20class%3D%22legendtext%22%20text-anchor%3D%22start%22%20x%3D%2240%22%20y%3D%224.680000000000001%22%20data-unformatted%3D%22retweets_quotes%2C%20Yves%20Mulkers%22%20data-math%3D%22N%22%20style%3D%22font-family%3A%20%26quot%3BOpen%20Sans%26quot%3B%2C%20verdana%2C%20arial%2C%20sans-serif%3B%20font-size%3A%2012px%3B%20fill%3A%20rgb(89%2C%2089%2C%2089)%3B%20fill-opacity%3A%201%3B%20white-space%3A%20pre%3B%22%3Eretweets_quotes%2C%20Yves%20Mulkers%3C%2Ftext%3E%3Cg%20class%3D%22layers%22%20style%3D%22opacity%3A%201%3B%22%3E%3Cg%20class%3D%22legendfill%22%2F%3E%3Cg%20class%3D%22legendlines%22%2F%3E%3Cg%20class%3D%22legendsymbols%22%3E%3Cg%20class%3D%22legendpoints%22%3E%3Cpath%20class%3D%22legendpie%22%20d%3D%22M6%2C6H-6V-6H6Z%22%20transform%3D%22translate(20%2C0)%22%20style%3D%22stroke-width%3A%200%3B%20fill%3A%20rgb(242%2C%20142%2C%2044)%3B%20fill-opacity%3A%201%3B%20stroke%3A%20rgb(68%2C%2068%2C%2068)%3B%20stroke-opacity%3A%201%3B%22%2F%3E%3C%2Fg%3E%3C%2Fg%3E%3C%2Fg%3E%3Crect%20class%3D%22legendtoggle%22%20pointer-events%3D%22all%22%20x%3D%220%22%20y%3D%22-9.5%22%20width%3D%22373.71875%22%20height%3D%2219%22%20style%3D%22cursor%3A%20pointer%3B%20fill%3A%20rgb(0%2C%200%2C%200)%3B%20fill-opacity%3A%200%3B%22%2F%3E%3C%2Fg%3E%3Cg%20class%3D%22traces%22%20style%3D%22opacity%3A%201%3B%22%20transform%3D%22translate(0%2C52.5)%22%3E%3Ctext%20class%3D%22legendtext%22%20text-anchor%3D%22start%22%20x%3D%2240%22%20y%3D%224.680000000000001%22%20data-unformatted%3D%22retweets_quotes%2C%20Pinna%20Pierre%22%20data-math%3D%22N%22%20style%3D%22font-family%3A%20%26quot%3BOpen%20Sans%26quot%3B%2C%20verdana%2C%20arial%2C%20sans-serif%3B%20font-size%3A%2012px%3B%20fill%3A%20rgb(89%2C%2089%2C%2089)%3B%20fill-opacity%3A%201%3B%20white-space%3A%20pre%3B%22%3Eretweets_quotes%2C%20Pinna%20Pierre%3C%2Ftext%3E%3Cg%20class%3D%22layers%22%20style%3D%22opacity%3A%201%3B%22%3E%3Cg%20class%3D%22legendfill%22%2F%3E%3Cg%20class%3D%22legendlines%22%2F%3E%3Cg%20class%3D%22legendsymbols%22%3E%3Cg%20class%3D%22legendpoints%22%3E%3Cpath%20class%3D%22legendpie%22%20d%3D%22M6%2C6H-6V-6H6Z%22%20transform%3D%22translate(20%2C0)%22%20style%3D%22stroke-width%3A%200%3B%20fill%3A%20rgb(225%2C%2087%2C%2089)%3B%20fill-opacity%3A%201%3B%20stroke%3A%20rgb(68%2C%2068%2C%2068)%3B%20stroke-opacity%3A%201%3B%22%2F%3E%3C%2Fg%3E%3C%2Fg%3E%3C%2Fg%3E%3Crect%20class%3D%22legendtoggle%22%20pointer-events%3D%22all%22%20x%3D%220%22%20y%3D%22-9.5%22%20width%3D%22373.71875%22%20height%3D%2219%22%20style%3D%22cursor%3A%20pointer%3B%20fill%3A%20rgb(0%2C%200%2C%200)%3B%20fill-opacity%3A%200%3B%22%2F%3E%3C%2Fg%3E%3Cg%20class%3D%22traces%22%20style%3D%22opacity%3A%201%3B%22%20transform%3D%22translate(0%2C71.5)%22%3E%3Ctext%20class%3D%22legendtext%22%20text-anchor%3D%22start%22%20x%3D%2240%22%20y%3D%224.680000000000001%22%20data-unformatted%3D%22retweets_quotes%2C%20Pedro%20Domingos%22%20data-math%3D%22N%22%20style%3D%22font-family%3A%20%26quot%3BOpen%20Sans%26quot%3B%2C%20verdana%2C%20arial%2C%20sans-serif%3B%20font-size%3A%2012px%3B%20fill%3A%20rgb(89%2C%2089%2C%2089)%3B%20fill-opacity%3A%201%3B%20white-space%3A%20pre%3B%22%3Eretweets_quotes%2C%20Pedro%20Domingos%3C%2Ftext%3E%3Cg%20class%3D%22layers%22%20style%3D%22opacity%3A%201%3B%22%3E%3Cg%20class%3D%22legendfill%22%2F%3E%3Cg%20class%3D%22legendlines%22%2F%3E%3Cg%20class%3D%22legendsymbols%22%3E%3Cg%20class%3D%22legendpoints%22%3E%3Cpath%20class%3D%22legendpie%22%20d%3D%22M6%2C6H-6V-6H6Z%22%20transform%3D%22translate(20%2C0)%22%20style%3D%22stroke-width%3A%200%3B%20fill%3A%20rgb(118%2C%20183%2C%20178)%3B%20fill-opacity%3A%201%3B%20stroke%3A%20rgb(68%2C%2068%2C%2068)%3B%20stroke-opacity%3A%201%3B%22%2F%3E%3C%2Fg%3E%3C%2Fg%3E%3C%2Fg%3E%3Crect%20class%3D%22legendtoggle%22%20pointer-events%3D%22all%22%20x%3D%220%22%20y%3D%22-9.5%22%20width%3D%22373.71875%22%20height%3D%2219%22%20style%3D%22cursor%3A%20pointer%3B%20fill%3A%20rgb(0%2C%200%2C%200)%3B%20fill-opacity%3A%200%3B%22%2F%3E%3C%2Fg%3E%3Cg%20class%3D%22traces%22%20style%3D%22opacity%3A%201%3B%22%20transform%3D%22translate(0%2C90.5)%22%3E%3Ctext%20class%3D%22legendtext%22%20text-anchor%3D%22start%22%20x%3D%2240%22%20y%3D%224.680000000000001%22%20data-unformatted%3D%22retweets_quotes%2C%20AI%22%20data-math%3D%22N%22%20style%3D%22font-family%3A%20%26quot%3BOpen%20Sans%26quot%3B%2C%20verdana%2C%20arial%2C%20sans-serif%3B%20font-size%3A%2012px%3B%20fill%3A%20rgb(89%2C%2089%2C%2089)%3B%20fill-opacity%3A%201%3B%20white-space%3A%20pre%3B%22%3Eretweets_quotes%2C%20AI%3C%2Ftext%3E%3Cg%20class%3D%22layers%22%20style%3D%22opacity%3A%201%3B%22%3E%3Cg%20class%3D%22legendfill%22%2F%3E%3Cg%20class%3D%22legendlines%22%2F%3E%3Cg%20class%3D%22legendsymbols%22%3E%3Cg%20class%3D%22legendpoints%22%3E%3Cpath%20class%3D%22legendpie%22%20d%3D%22M6%2C6H-6V-6H6Z%22%20transform%3D%22translate(20%2C0)%22%20style%3D%22stroke-width%3A%200%3B%20fill%3A%20rgb(89%2C%20161%2C%2079)%3B%20fill-opacity%3A%201%3B%20stroke%3A%20rgb(68%2C%2068%2C%2068)%3B%20stroke-opacity%3A%201%3B%22%2F%3E%3C%2Fg%3E%3C%2Fg%3E%3C%2Fg%3E%3Crect%20class%3D%22legendtoggle%22%20pointer-events%3D%22all%22%20x%3D%220%22%20y%3D%22-9.5%22%20width%3D%22373.71875%22%20height%3D%2219%22%20style%3D%22cursor%3A%20pointer%3B%20fill%3A%20rgb(0%2C%200%2C%200)%3B%20fill-opacity%3A%200%3B%22%2F%3E%3C%2Fg%3E%3Cg%20class%3D%22traces%22%20style%3D%22opacity%3A%201%3B%22%20transform%3D%22translate(0%2C109.5)%22%3E%3Ctext%20class%3D%22legendtext%22%20text-anchor%3D%22start%22%20x%3D%2240%22%20y%3D%224.680000000000001%22%20data-unformatted%3D%22retweets_quotes%2C%20Peter%20Wang%22%20data-math%3D%22N%22%20style%3D%22font-family%3A%20%26quot%3BOpen%20Sans%26quot%3B%2C%20verdana%2C%20arial%2C%20sans-serif%3B%20font-size%3A%2012px%3B%20fill%3A%20rgb(89%2C%2089%2C%2089)%3B%20fill-opacity%3A%201%3B%20white-space%3A%20pre%3B%22%3Eretweets_quotes%2C%20Peter%20Wang%3C%2Ftext%3E%3Cg%20class%3D%22layers%22%20style%3D%22opacity%3A%201%3B%22%3E%3Cg%20class%3D%22legendfill%22%2F%3E%3Cg%20class%3D%22legendlines%22%2F%3E%3Cg%20class%3D%22legendsymbols%22%3E%3Cg%20class%3D%22legendpoints%22%3E%3Cpath%20class%3D%22legendpie%22%20d%3D%22M6%2C6H-6V-6H6Z%22%20transform%3D%22translate(20%2C0)%22%20style%3D%22stroke-width%3A%200%3B%20fill%3A%20rgb(237%2C%20201%2C%2073)%3B%20fill-opacity%3A%201%3B%20stroke%3A%20rgb(68%2C%2068%2C%2068)%3B%20stroke-opacity%3A%201%3B%22%2F%3E%3C%2Fg%3E%3C%2Fg%3E%3C%2Fg%3E%3Crect%20class%3D%22legendtoggle%22%20pointer-events%3D%22all%22%20x%3D%220%22%20y%3D%22-9.5%22%20width%3D%22373.71875%22%20height%3D%2219%22%20style%3D%22cursor%3A%20pointer%3B%20fill%3A%20rgb(0%2C%200%2C%200)%3B%20fill-opacity%3A%200%3B%22%2F%3E%3C%2Fg%3E%3Cg%20class%3D%22traces%22%20style%3D%22opacity%3A%201%3B%22%20transform%3D%22translate(0%2C128.5)%22%3E%3Ctext%20class%3D%22legendtext%22%20text-anchor%3D%22start%22%20x%3D%2240%22%20y%3D%224.680000000000001%22%20data-unformatted%3D%22retweets_quotes%2C%20Ronald%20van%20Loon%22%20data-math%3D%22N%22%20style%3D%22font-family%3A%20%26quot%3BOpen%20Sans%26quot%3B%2C%20verdana%2C%20arial%2C%20sans-serif%3B%20font-size%3A%2012px%3B%20fill%3A%20rgb(89%2C%2089%2C%2089)%3B%20fill-opacity%3A%201%3B%20white-space%3A%20pre%3B%22%3Eretweets_quotes%2C%20Ronald%20van%20Loon%3C%2Ftext%3E%3Cg%20class%3D%22layers%22%20style%3D%22opacity%3A%201%3B%22%3E%3Cg%20class%3D%22legendfill%22%2F%3E%3Cg%20class%3D%22legendlines%22%2F%3E%3Cg%20class%3D%22legendsymbols%22%3E%3Cg%20class%3D%22legendpoints%22%3E%3Cpath%20class%3D%22legendpie%22%20d%3D%22M6%2C6H-6V-6H6Z%22%20transform%3D%22translate(20%2C0)%22%20style%3D%22stroke-width%3A%200%3B%20fill%3A%20rgb(175%2C%20122%2C%20161)%3B%20fill-opacity%3A%201%3B%20stroke%3A%20rgb(68%2C%2068%2C%2068)%3B%20stroke-opacity%3A%201%3B%22%2F%3E%3C%2Fg%3E%3C%2Fg%3E%3C%2Fg%3E%3Crect%20class%3D%22legendtoggle%22%20pointer-events%3D%22all%22%20x%3D%220%22%20y%3D%22-9.5%22%20width%3D%22373.71875%22%20height%3D%2219%22%20style%3D%22cursor%3A%20pointer%3B%20fill%3A%20rgb(0%2C%200%2C%200)%3B%20fill-opacity%3A%200%3B%22%2F%3E%3C%2Fg%3E%3Cg%20class%3D%22traces%22%20style%3D%22opacity%3A%201%3B%22%20transform%3D%22translate(0%2C147.5)%22%3E%3Ctext%20class%3D%22legendtext%22%20text-anchor%3D%22start%22%20x%3D%2240%22%20y%3D%224.680000000000001%22%20data-unformatted%3D%22retweets_quotes%2C%20Alvin%20Foo%22%20data-math%3D%22N%22%20style%3D%22font-family%3A%20%26quot%3BOpen%20Sans%26quot%3B%2C%20verdana%2C%20arial%2C%20sans-serif%3B%20font-size%3A%2012px%3B%20fill%3A%20rgb(89%2C%2089%2C%2089)%3B%20fill-opacity%3A%201%3B%20white-space%3A%20pre%3B%22%3Eretweets_quotes%2C%20Alvin%20Foo%3C%2Ftext%3E%3Cg%20class%3D%22layers%22%20style%3D%22opacity%3A%201%3B%22%3E%3Cg%20class%3D%22legendfill%22%2F%3E%3Cg%20class%3D%22legendlines%22%2F%3E%3Cg%20class%3D%22legendsymbols%22%3E%3Cg%20class%3D%22legendpoints%22%3E%3Cpath%20class%3D%22legendpie%22%20d%3D%22M6%2C6H-6V-6H6Z%22%20transform%3D%22translate(20%2C0)%22%20style%3D%22stroke-width%3A%200%3B%20fill%3A%20rgb(255%2C%20157%2C%20167)%3B%20fill-opacity%3A%201%3B%20stroke%3A%20rgb(68%2C%2068%2C%2068)%3B%20stroke-opacity%3A%201%3B%22%2F%3E%3C%2Fg%3E%3C%2Fg%3E%3C%2Fg%3E%3Crect%20class%3D%22legendtoggle%22%20pointer-events%3D%22all%22%20x%3D%220%22%20y%3D%22-9.5%22%20width%3D%22373.71875%22%20height%3D%2219%22%20style%3D%22cursor%3A%20pointer%3B%20fill%3A%20rgb(0%2C%200%2C%200)%3B%20fill-opacity%3A%200%3B%22%2F%3E%3C%2Fg%3E%3Cg%20class%3D%22traces%22%20style%3D%22opacity%3A%201%3B%22%20transform%3D%22translate(0%2C166.5)%22%3E%3Ctext%20class%3D%22legendtext%22%20text-anchor%3D%22start%22%20x%3D%2240%22%20y%3D%224.680000000000001%22%20data-unformatted%3D%22retweets_quotes%2C%20Marcus%20Borba%22%20data-math%3D%22N%22%20style%3D%22font-family%3A%20%26quot%3BOpen%20Sans%26quot%3B%2C%20verdana%2C%20arial%2C%20sans-serif%3B%20font-size%3A%2012px%3B%20fill%3A%20rgb(89%2C%2089%2C%2089)%3B%20fill-opacity%3A%201%3B%20white-space%3A%20pre%3B%22%3Eretweets_quotes%2C%20Marcus%20Borba%3C%2Ftext%3E%3Cg%20class%3D%22layers%22%20style%3D%22opacity%3A%201%3B%22%3E%3Cg%20class%3D%22legendfill%22%2F%3E%3Cg%20class%3D%22legendlines%22%2F%3E%3Cg%20class%3D%22legendsymbols%22%3E%3Cg%20class%3D%22legendpoints%22%3E%3Cpath%20class%3D%22legendpie%22%20d%3D%22M6%2C6H-6V-6H6Z%22%20transform%3D%22translate(20%2C0)%22%20style%3D%22stroke-width%3A%200%3B%20fill%3A%20rgb(156%2C%20117%2C%2095)%3B%20fill-opacity%3A%201%3B%20stroke%3A%20rgb(68%2C%2068%2C%2068)%3B%20stroke-opacity%3A%201%3B%22%2F%3E%3C%2Fg%3E%3C%2Fg%3E%3C%2Fg%3E%3Crect%20class%3D%22legendtoggle%22%20pointer-events%3D%22all%22%20x%3D%220%22%20y%3D%22-9.5%22%20width%3D%22373.71875%22%20height%3D%2219%22%20style%3D%22cursor%3A%20pointer%3B%20fill%3A%20rgb(0%2C%200%2C%200)%3B%20fill-opacity%3A%200%3B%22%2F%3E%3C%2Fg%3E%3Cg%20class%3D%22traces%22%20style%3D%22opacity%3A%201%3B%22%20transform%3D%22translate(0%2C185.5)%22%3E%3Ctext%20class%3D%22legendtext%22%20text-anchor%3D%22start%22%20x%3D%2240%22%20y%3D%224.680000000000001%22%20data-unformatted%3D%22retweets_quotes%2C%20Ayodele%20(eye-ya-deli)%20is%20fullyVaxxed%22%20data-math%3D%22N%22%20style%3D%22font-family%3A%20%26quot%3BOpen%20Sans%26quot%3B%2C%20verdana%2C%20arial%2C%20sans-serif%3B%20font-size%3A%2012px%3B%20fill%3A%20rgb(89%2C%2089%2C%2089)%3B%20fill-opacity%3A%201%3B%20white-space%3A%20pre%3B%22%3Eretweets_quotes%2C%20Ayodele%20(eye-ya-deli)%20is%20fullyVaxxed%3C%2Ftext%3E%3Cg%20class%3D%22layers%22%20style%3D%22opacity%3A%201%3B%22%3E%3Cg%20class%3D%22legendfill%22%2F%3E%3Cg%20class%3D%22legendlines%22%2F%3E%3Cg%20class%3D%22legendsymbols%22%3E%3Cg%20class%3D%22legendpoints%22%3E%3Cpath%20class%3D%22legendpie%22%20d%3D%22M6%2C6H-6V-6H6Z%22%20transform%3D%22translate(20%2C0)%22%20style%3D%22stroke-width%3A%200%3B%20fill%3A%20rgb(186%2C%20176%2C%20171)%3B%20fill-opacity%3A%201%3B%20stroke%3A%20rgb(68%2C%2068%2C%2068)%3B%20stroke-opacity%3A%201%3B%22%2F%3E%3C%2Fg%3E%3C%2Fg%3E%3C%2Fg%3E%3Crect%20class%3D%22legendtoggle%22%20pointer-events%3D%22all%22%20x%3D%220%22%20y%3D%22-9.5%22%20width%3D%22373.71875%22%20height%3D%2219%22%20style%3D%22cursor%3A%20pointer%3B%20fill%3A%20rgb(0%2C%200%2C%200)%3B%20fill-opacity%3A%200%3B%22%2F%3E%3C%2Fg%3E%3Cg%20class%3D%22traces%22%20style%3D%22opacity%3A%201%3B%22%20transform%3D%22translate(0%2C204.5)%22%3E%3Ctext%20class%3D%22legendtext%22%20text-anchor%3D%22start%22%20x%3D%2240%22%20y%3D%224.680000000000001%22%20data-unformatted%3D%22retweets_quotes%2C%20Ayodele%20%7C%20Data%20Science%20Career%20Coach%22%20data-math%3D%22N%22%20style%3D%22font-family%3A%20%26quot%3BOpen%20Sans%26quot%3B%2C%20verdana%2C%20arial%2C%20sans-serif%3B%20font-size%3A%2012px%3B%20fill%3A%20rgb(89%2C%2089%2C%2089)%3B%20fill-opacity%3A%201%3B%20white-space%3A%20pre%3B%22%3Eretweets_quotes%2C%20Ayodele%20%7C%20Data%20Science%20Career%20Coach%3C%2Ftext%3E%3Cg%20class%3D%22layers%22%20style%3D%22opacity%3A%201%3B%22%3E%3Cg%20class%3D%22legendfill%22%2F%3E%3Cg%20class%3D%22legendlines%22%2F%3E%3Cg%20class%3D%22legendsymbols%22%3E%3Cg%20class%3D%22legendpoints%22%3E%3Cpath%20class%3D%22legendpie%22%20d%3D%22M6%2C6H-6V-6H6Z%22%20transform%3D%22translate(20%2C0)%22%20style%3D%22stroke-width%3A%200%3B%20fill%3A%20rgb(78%2C%20121%2C%20167)%3B%20fill-opacity%3A%201%3B%20stroke%3A%20rgb(68%2C%2068%2C%2068)%3B%20stroke-opacity%3A%201%3B%22%2F%3E%3C%2Fg%3E%3C%2Fg%3E%3C%2Fg%3E%3Crect%20class%3D%22legendtoggle%22%20pointer-events%3D%22all%22%20x%3D%220%22%20y%3D%22-9.5%22%20width%3D%22373.71875%22%20height%3D%2219%22%20style%3D%22cursor%3A%20pointer%3B%20fill%3A%20rgb(0%2C%200%2C%200)%3B%20fill-opacity%3A%200%3B%22%2F%3E%3C%2Fg%3E%3Cg%20class%3D%22traces%22%20style%3D%22opacity%3A%201%3B%22%20transform%3D%22translate(0%2C223.5)%22%3E%3Ctext%20class%3D%22legendtext%22%20text-anchor%3D%22start%22%20x%3D%2240%22%20y%3D%224.680000000000001%22%20data-unformatted%3D%22retweets_quotes%2C%20Andrew%20Ng%22%20data-math%3D%22N%22%20style%3D%22font-family%3A%20%26quot%3BOpen%20Sans%26quot%3B%2C%20verdana%2C%20arial%2C%20sans-serif%3B%20font-size%3A%2012px%3B%20fill%3A%20rgb(89%2C%2089%2C%2089)%3B%20fill-opacity%3A%201%3B%20white-space%3A%20pre%3B%22%3Eretweets_quotes%2C%20Andrew%20Ng%3C%2Ftext%3E%3Cg%20class%3D%22layers%22%20style%3D%22opacity%3A%201%3B%22%3E%3Cg%20class%3D%22legendfill%22%2F%3E%3Cg%20class%3D%22legendlines%22%2F%3E%3Cg%20class%3D%22legendsymbols%22%3E%3Cg%20class%3D%22legendpoints%22%3E%3Cpath%20class%3D%22legendpie%22%20d%3D%22M6%2C6H-6V-6H6Z%22%20transform%3D%22translate(20%2C0)%22%20style%3D%22stroke-width%3A%200%3B%20fill%3A%20rgb(242%2C%20142%2C%2044)%3B%20fill-opacity%3A%201%3B%20stroke%3A%20rgb(68%2C%2068%2C%2068)%3B%20stroke-opacity%3A%201%3B%22%2F%3E%3C%2Fg%3E%3C%2Fg%3E%3C%2Fg%3E%3Crect%20class%3D%22legendtoggle%22%20pointer-events%3D%22all%22%20x%3D%220%22%20y%3D%22-9.5%22%20width%3D%22373.71875%22%20height%3D%2219%22%20style%3D%22cursor%3A%20pointer%3B%20fill%3A%20rgb(0%2C%200%2C%200)%3B%20fill-opacity%3A%200%3B%22%2F%3E%3C%2Fg%3E%3Cg%20class%3D%22traces%22%20style%3D%22opacity%3A%201%3B%22%20transform%3D%22translate(0%2C242.5)%22%3E%3Ctext%20class%3D%22legendtext%22%20text-anchor%3D%22start%22%20x%3D%2240%22%20y%3D%224.680000000000001%22%20data-unformatted%3D%22retweets_quotes%2C%20James%20Briggs%22%20data-math%3D%22N%22%20style%3D%22font-family%3A%20%26quot%3BOpen%20Sans%26quot%3B%2C%20verdana%2C%20arial%2C%20sans-serif%3B%20font-size%3A%2012px%3B%20fill%3A%20rgb(89%2C%2089%2C%2089)%3B%20fill-opacity%3A%201%3B%20white-space%3A%20pre%3B%22%3Eretweets_quotes%2C%20James%20Briggs%3C%2Ftext%3E%3Cg%20class%3D%22layers%22%20style%3D%22opacity%3A%201%3B%22%3E%3Cg%20class%3D%22legendfill%22%2F%3E%3Cg%20class%3D%22legendlines%22%2F%3E%3Cg%20class%3D%22legendsymbols%22%3E%3Cg%20class%3D%22legendpoints%22%3E%3Cpath%20class%3D%22legendpie%22%20d%3D%22M6%2C6H-6V-6H6Z%22%20transform%3D%22translate(20%2C0)%22%20style%3D%22stroke-width%3A%200%3B%20fill%3A%20rgb(225%2C%2087%2C%2089)%3B%20fill-opacity%3A%201%3B%20stroke%3A%20rgb(68%2C%2068%2C%2068)%3B%20stroke-opacity%3A%201%3B%22%2F%3E%3C%2Fg%3E%3C%2Fg%3E%3C%2Fg%3E%3Crect%20class%3D%22legendtoggle%22%20pointer-events%3D%22all%22%20x%3D%220%22%20y%3D%22-9.5%22%20width%3D%22373.71875%22%20height%3D%2219%22%20style%3D%22cursor%3A%20pointer%3B%20fill%3A%20rgb(0%2C%200%2C%200)%3B%20fill-opacity%3A%200%3B%22%2F%3E%3C%2Fg%3E%3Cg%20class%3D%22traces%22%20style%3D%22opacity%3A%201%3B%22%20transform%3D%22translate(0%2C261.5)%22%3E%3Ctext%20class%3D%22legendtext%22%20text-anchor%3D%22start%22%20x%3D%2240%22%20y%3D%224.680000000000001%22%20data-unformatted%3D%22retweets_quotes%2C%20Kevin%20Bass%22%20data-math%3D%22N%22%20style%3D%22font-family%3A%20%26quot%3BOpen%20Sans%26quot%3B%2C%20verdana%2C%20arial%2C%20sans-serif%3B%20font-size%3A%2012px%3B%20fill%3A%20rgb(89%2C%2089%2C%2089)%3B%20fill-opacity%3A%201%3B%20white-space%3A%20pre%3B%22%3Eretweets_quotes%2C%20Kevin%20Bass%3C%2Ftext%3E%3Cg%20class%3D%22layers%22%20style%3D%22opacity%3A%201%3B%22%3E%3Cg%20class%3D%22legendfill%22%2F%3E%3Cg%20class%3D%22legendlines%22%2F%3E%3Cg%20class%3D%22legendsymbols%22%3E%3Cg%20class%3D%22legendpoints%22%3E%3Cpath%20class%3D%22legendpie%22%20d%3D%22M6%2C6H-6V-6H6Z%22%20transform%3D%22translate(20%2C0)%22%20style%3D%22stroke-width%3A%200%3B%20fill%3A%20rgb(118%2C%20183%2C%20178)%3B%20fill-opacity%3A%201%3B%20stroke%3A%20rgb(68%2C%2068%2C%2068)%3B%20stroke-opacity%3A%201%3B%22%2F%3E%3C%2Fg%3E%3C%2Fg%3E%3C%2Fg%3E%3Crect%20class%3D%22legendtoggle%22%20pointer-events%3D%22all%22%20x%3D%220%22%20y%3D%22-9.5%22%20width%3D%22373.71875%22%20height%3D%2219%22%20style%3D%22cursor%3A%20pointer%3B%20fill%3A%20rgb(0%2C%200%2C%200)%3B%20fill-opacity%3A%200%3B%22%2F%3E%3C%2Fg%3E%3Cg%20class%3D%22traces%22%20style%3D%22opacity%3A%201%3B%22%20transform%3D%22translate(0%2C280.5)%22%3E%3Ctext%20class%3D%22legendtext%22%20text-anchor%3D%22start%22%20x%3D%2240%22%20y%3D%224.680000000000001%22%20data-unformatted%3D%22retweets_quotes%2C%20Bruno%20Gon%C3%A7alves%22%20data-math%3D%22N%22%20style%3D%22font-family%3A%20%26quot%3BOpen%20Sans%26quot%3B%2C%20verdana%2C%20arial%2C%20sans-serif%3B%20font-size%3A%2012px%3B%20fill%3A%20rgb(89%2C%2089%2C%2089)%3B%20fill-opacity%3A%201%3B%20white-space%3A%20pre%3B%22%3Eretweets_quotes%2C%20Bruno%20Gon%C3%A7alves%3C%2Ftext%3E%3Cg%20class%3D%22layers%22%20style%3D%22opacity%3A%201%3B%22%3E%3Cg%20class%3D%22legendfill%22%2F%3E%3Cg%20class%3D%22legendlines%22%2F%3E%3Cg%20class%3D%22legendsymbols%22%3E%3Cg%20class%3D%22legendpoints%22%3E%3Cpath%20class%3D%22legendpie%22%20d%3D%22M6%2C6H-6V-6H6Z%22%20transform%3D%22translate(20%2C0)%22%20style%3D%22stroke-width%3A%200%3B%20fill%3A%20rgb(89%2C%20161%2C%2079)%3B%20fill-opacity%3A%201%3B%20stroke%3A%20rgb(68%2C%2068%2C%2068)%3B%20stroke-opacity%3A%201%3B%22%2F%3E%3C%2Fg%3E%3C%2Fg%3E%3C%2Fg%3E%3Crect%20class%3D%22legendtoggle%22%20pointer-events%3D%22all%22%20x%3D%220%22%20y%3D%22-9.5%22%20width%3D%22373.71875%22%20height%3D%2219%22%20style%3D%22cursor%3A%20pointer%3B%20fill%3A%20rgb(0%2C%200%2C%200)%3B%20fill-opacity%3A%200%3B%22%2F%3E%3C%2Fg%3E%3Cg%20class%3D%22traces%22%20style%3D%22opacity%3A%201%3B%22%20transform%3D%22translate(0%2C299.5)%22%3E%3Ctext%20class%3D%22legendtext%22%20text-anchor%3D%22start%22%20x%3D%2240%22%20y%3D%224.680000000000001%22%20data-unformatted%3D%22retweets_quotes%2C%20Fran%C3%A7ois%20Chollet%22%20data-math%3D%22N%22%20style%3D%22font-family%3A%20%26quot%3BOpen%20Sans%26quot%3B%2C%20verdana%2C%20arial%2C%20sans-serif%3B%20font-size%3A%2012px%3B%20fill%3A%20rgb(89%2C%2089%2C%2089)%3B%20fill-opacity%3A%201%3B%20white-space%3A%20pre%3B%22%3Eretweets_quotes%2C%20Fran%C3%A7ois%20Chollet%3C%2Ftext%3E%3Cg%20class%3D%22layers%22%20style%3D%22opacity%3A%201%3B%22%3E%3Cg%20class%3D%22legendfill%22%2F%3E%3Cg%20class%3D%22legendlines%22%2F%3E%3Cg%20class%3D%22legendsymbols%22%3E%3Cg%20class%3D%22legendpoints%22%3E%3Cpath%20class%3D%22legendpie%22%20d%3D%22M6%2C6H-6V-6H6Z%22%20transform%3D%22translate(20%2C0)%22%20style%3D%22stroke-width%3A%200%3B%20fill%3A%20rgb(237%2C%20201%2C%2073)%3B%20fill-opacity%3A%201%3B%20stroke%3A%20rgb(68%2C%2068%2C%2068)%3B%20stroke-opacity%3A%201%3B%22%2F%3E%3C%2Fg%3E%3C%2Fg%3E%3C%2Fg%3E%3Crect%20class%3D%22legendtoggle%22%20pointer-events%3D%22all%22%20x%3D%220%22%20y%3D%22-9.5%22%20width%3D%22373.71875%22%20height%3D%2219%22%20style%3D%22cursor%3A%20pointer%3B%20fill%3A%20rgb(0%2C%200%2C%200)%3B%20fill-opacity%3A%200%3B%22%2F%3E%3C%2Fg%3E%3Cg%20class%3D%22traces%22%20style%3D%22opacity%3A%201%3B%22%20transform%3D%22translate(0%2C318.5)%22%3E%3Ctext%20class%3D%22legendtext%22%20text-anchor%3D%22start%22%20x%3D%2240%22%20y%3D%224.680000000000001%22%20data-unformatted%3D%22retweets_quotes%2C%20Matthew%20Mayo%22%20data-math%3D%22N%22%20style%3D%22font-family%3A%20%26quot%3BOpen%20Sans%26quot%3B%2C%20verdana%2C%20arial%2C%20sans-serif%3B%20font-size%3A%2012px%3B%20fill%3A%20rgb(89%2C%2089%2C%2089)%3B%20fill-opacity%3A%201%3B%20white-space%3A%20pre%3B%22%3Eretweets_quotes%2C%20Matthew%20Mayo%3C%2Ftext%3E%3Cg%20class%3D%22layers%22%20style%3D%22opacity%3A%201%3B%22%3E%3Cg%20class%3D%22legendfill%22%2F%3E%3Cg%20class%3D%22legendlines%22%2F%3E%3Cg%20class%3D%22legendsymbols%22%3E%3Cg%20class%3D%22legendpoints%22%3E%3Cpath%20class%3D%22legendpie%22%20d%3D%22M6%2C6H-6V-6H6Z%22%20transform%3D%22translate(20%2C0)%22%20style%3D%22stroke-width%3A%200%3B%20fill%3A%20rgb(175%2C%20122%2C%20161)%3B%20fill-opacity%3A%201%3B%20stroke%3A%20rgb(68%2C%2068%2C%2068)%3B%20stroke-opacity%3A%201%3B%22%2F%3E%3C%2Fg%3E%3C%2Fg%3E%3C%2Fg%3E%3Crect%20class%3D%22legendtoggle%22%20pointer-events%3D%22all%22%20x%3D%220%22%20y%3D%22-9.5%22%20width%3D%22373.71875%22%20height%3D%2219%22%20style%3D%22cursor%3A%20pointer%3B%20fill%3A%20rgb(0%2C%200%2C%200)%3B%20fill-opacity%3A%200%3B%22%2F%3E%3C%2Fg%3E%3Cg%20class%3D%22traces%22%20style%3D%22opacity%3A%201%3B%22%20transform%3D%22translate(0%2C337.5)%22%3E%3Ctext%20class%3D%22legendtext%22%20text-anchor%3D%22start%22%20x%3D%2240%22%20y%3D%224.680000000000001%22%20data-unformatted%3D%22retweets_quotes%2C%20Jesse%20Mostipak%22%20data-math%3D%22N%22%20style%3D%22font-family%3A%20%26quot%3BOpen%20Sans%26quot%3B%2C%20verdana%2C%20arial%2C%20sans-serif%3B%20font-size%3A%2012px%3B%20fill%3A%20rgb(89%2C%2089%2C%2089)%3B%20fill-opacity%3A%201%3B%20white-space%3A%20pre%3B%22%3Eretweets_quotes%2C%20Jesse%20Mostipak%3C%2Ftext%3E%3Cg%20class%3D%22layers%22%20style%3D%22opacity%3A%201%3B%22%3E%3Cg%20class%3D%22legendfill%22%2F%3E%3Cg%20class%3D%22legendlines%22%2F%3E%3Cg%20class%3D%22legendsymbols%22%3E%3Cg%20class%3D%22legendpoints%22%3E%3Cpath%20class%3D%22legendpie%22%20d%3D%22M6%2C6H-6V-6H6Z%22%20transform%3D%22translate(20%2C0)%22%20style%3D%22stroke-width%3A%200%3B%20fill%3A%20rgb(255%2C%20157%2C%20167)%3B%20fill-opacity%3A%201%3B%20stroke%3A%20rgb(68%2C%2068%2C%2068)%3B%20stroke-opacity%3A%201%3B%22%2F%3E%3C%2Fg%3E%3C%2Fg%3E%3C%2Fg%3E%3Crect%20class%3D%22legendtoggle%22%20pointer-events%3D%22all%22%20x%3D%220%22%20y%3D%22-9.5%22%20width%3D%22373.71875%22%20height%3D%2219%22%20style%3D%22cursor%3A%20pointer%3B%20fill%3A%20rgb(0%2C%200%2C%200)%3B%20fill-opacity%3A%200%3B%22%2F%3E%3C%2Fg%3E%3C%2Fg%3E%3C%2Fg%3E%3Crect%20class%3D%22scrollbar%22%20rx%3D%2220%22%20ry%3D%223%22%20width%3D%226%22%20height%3D%22225.92045454545453%22%20style%3D%22fill%3A%20rgb(128%2C%20139%2C%20164)%3B%20fill-opacity%3A%201%3B%22%20x%3D%22379%22%20y%3D%224%22%2F%3E%3C%2Fg%3E%3Cg%20class%3D%22g-gtitle%22%2F%3E%3C%2Fg%3E%3Cg%20class%3D%22menulayer%22%2F%3E%3Cg%20class%3D%22zoomlayer%22%2F%3E%3Cg%20class%3D%22hoverlayer%22%2F%3E%3C%2Fsvg%3E\">"
      ],
      "text/plain": [
       "Open the notebook in JupyterLab with the atoti extension enabled to build this widget."
      ]
     },
     "metadata": {},
     "output_type": "display_data"
    }
   ],
   "source": [
    "session.visualize(\n",
    "    \"Top 5 influencers for Top 5 topics - With regard to the average number of retweets and quotes\"\n",
    ")"
   ]
  },
  {
   "cell_type": "markdown",
   "metadata": {},
   "source": [
    "The above graphs show the top 5 influencers with the highest retweets and quotes rates related to the 5 most popular topics.\n",
    "\n",
    "Similarly, if we consider James Briggs, we can observe that his has the highest retweet and quote rate for topic 22, but is not even in the top 5 influencers for the other top topics."
   ]
  },
  {
   "cell_type": "markdown",
   "metadata": {},
   "source": [
    "#### Top 5 influencers for Top 5 topics - With regard to the average number of likes"
   ]
  },
  {
   "cell_type": "code",
   "execution_count": 34,
   "metadata": {
    "atoti": {
     "widget": {
      "filters": [
       "TopCount(Filter([influencer].[topic].Levels(1).Members, NOT IsEmpty([Measures].[contributors.COUNT])), 5, [Measures].[contributors.COUNT])"
      ],
      "mapping": {
       "horizontalSubplots": [
        "[influencer].[topic].[topic]"
       ],
       "sliceBy": [
        "ALL_MEASURES",
        "[influencer].[name].[name]"
       ],
       "values": [
        "[Measures].[likes]"
       ],
       "verticalSubplots": []
      },
      "query": {
       "mdx": "SELECT NON EMPTY Order(GENERATE([influencer].[topic].[topic].Members, TOPCOUNT([influencer].[topic].CURRENTMEMBER * [influencer].[name].[name].MEMBERS, 5, [Measures].[likes])), [Measures].[contributors.COUNT], DESC) ON ROWS, NON EMPTY {[Measures].[likes]} ON COLUMNS FROM [influencer_cube] CELL PROPERTIES VALUE, FORMATTED_VALUE, BACK_COLOR, FORE_COLOR, FONT_FLAGS",
       "updateMode": "once"
      },
      "serverKey": "default",
      "widgetKey": "plotly-donut-chart"
     }
    },
    "tags": []
   },
   "outputs": [
    {
     "data": {
      "application/vnd.atoti.widget.v0+json": {
       "name": "Top 5 influencers for Top 5 topics - With regard to the average number of likes",
       "sessionId": "1674717365_VNWIH9",
       "sessionLocation": {
        "https": false,
        "port": 60114
       },
       "widgetCreationCode": "session.visualize()"
      },
      "text/html": [
       "<img src=\"data:image/svg+xml;charset=utf8,%3C%3Fxml%20version%3D%221.0%22%20standalone%3D%22no%22%3F%3E%3Csvg%20xmlns%3D%22http%3A%2F%2Fwww.w3.org%2F2000%2Fsvg%22%20xmlns%3Axlink%3D%22http%3A%2F%2Fwww.w3.org%2F1999%2Fxlink%22%20height%3D%22352%22%20width%3D%221183%22%20viewBox%3D%220%200%201183%20352%22%3E%3Cdefs%20id%3D%22defs-240aaf%22%3E%3Cg%20class%3D%22clips%22%2F%3E%3Cg%20class%3D%22gradients%22%2F%3E%3C%2Fdefs%3E%3Cg%20class%3D%22bglayer%22%2F%3E%3Cg%20class%3D%22draglayer%22%2F%3E%3Cg%20class%3D%22layer-below%22%3E%3Cg%20class%3D%22imagelayer%22%2F%3E%3Cg%20class%3D%22shapelayer%22%2F%3E%3C%2Fg%3E%3Cg%20class%3D%22cartesianlayer%22%2F%3E%3Cg%20class%3D%22polarlayer%22%2F%3E%3Cg%20class%3D%22ternarylayer%22%2F%3E%3Cg%20class%3D%22geolayer%22%2F%3E%3Cg%20class%3D%22funnelarealayer%22%2F%3E%3Cg%20class%3D%22pielayer%22%3E%3Cg%20class%3D%22trace%22%20stroke-linejoin%3D%22round%22%20style%3D%22opacity%3A%201%3B%22%3E%3Cg%20class%3D%22slice%22%3E%3Cpath%20class%3D%22surface%22%20d%3D%22M146.20493676453148%2C189.7960649630373a26.300000000000008%2C26.300000000000008%200%200%200%20-0.45493676453147797%2C-52.59606496303732l0%2C-39.45000000000001a65.75000000000001%2C65.75000000000001%200%200%201%201.1373419113286949%2C131.4901624075933Z%22%20style%3D%22pointer-events%3A%20all%3B%20stroke-width%3A%200%3B%20fill%3A%20rgb(78%2C%20121%2C%20167)%3B%20fill-opacity%3A%201%3B%20stroke%3A%20rgb(68%2C%2068%2C%2068)%3B%20stroke-opacity%3A%201%3B%22%2F%3E%3C%2Fg%3E%3Cg%20class%3D%22slice%22%3E%3Cpath%20class%3D%22surface%22%20d%3D%22M145.75%2C137.2a26.300000000000008%2C26.300000000000008%200%200%200%20-12.77535533692033%2C49.28869931108374l-19.16303300538049%2C34.483048966625596a65.75000000000001%2C65.75000000000001%200%200%201%2031.938388342300822%2C-123.22174827770934Z%22%20style%3D%22pointer-events%3A%20all%3B%20stroke-width%3A%200%3B%20fill%3A%20rgb(242%2C%20142%2C%2044)%3B%20fill-opacity%3A%201%3B%20stroke%3A%20rgb(68%2C%2068%2C%2068)%3B%20stroke-opacity%3A%201%3B%22%2F%3E%3C%2Fg%3E%3Cg%20class%3D%22slice%22%3E%3Cpath%20class%3D%22surface%22%20d%3D%22M132.97464466307966%2C186.48869931108374a26.300000000000008%2C26.300000000000008%200%200%200%206.263143875879603%2C2.4922956044742195l-9.76831719156109%2C38.22149237333692a65.75000000000001%2C65.75000000000001%200%200%201%20-15.657859689699006%2C-6.230739011185548Z%22%20style%3D%22pointer-events%3A%20all%3B%20stroke-width%3A%200%3B%20fill%3A%20rgb(225%2C%2087%2C%2089)%3B%20fill-opacity%3A%201%3B%20stroke%3A%20rgb(68%2C%2068%2C%2068)%3B%20stroke-opacity%3A%201%3B%22%2F%3E%3C%2Fg%3E%3Cg%20class%3D%22slice%22%3E%3Cpath%20class%3D%22surface%22%20d%3D%22M139.23778853895928%2C188.98099491555794a26.300000000000008%2C26.300000000000008%200%200%200%203.5289129799258165%2C0.6492544168264942l-4.474947721672366%2C39.19537399857666a65.75000000000001%2C65.75000000000001%200%200%201%20-8.82228244981454%2C-1.6231360420662355Z%22%20style%3D%22pointer-events%3A%20all%3B%20stroke-width%3A%200%3B%20fill%3A%20rgb(118%2C%20183%2C%20178)%3B%20fill-opacity%3A%201%3B%20stroke%3A%20rgb(68%2C%2068%2C%2068)%3B%20stroke-opacity%3A%201%3B%22%2F%3E%3C%2Fg%3E%3Cg%20class%3D%22slice%22%3E%3Cpath%20class%3D%22surface%22%20d%3D%22M142.7667015188851%2C189.63024933238444a26.300000000000008%2C26.300000000000008%200%200%200%203.4382352456463945%2C0.16581563065286106l0.6824051467972247%2C39.44409744455596a65.75000000000001%2C65.75000000000001%200%200%201%20-8.595588114115985%2C-0.4145390766321526Z%22%20style%3D%22pointer-events%3A%20all%3B%20stroke-width%3A%200%3B%20fill%3A%20rgb(89%2C%20161%2C%2079)%3B%20fill-opacity%3A%201%3B%20stroke%3A%20rgb(68%2C%2068%2C%2068)%3B%20stroke-opacity%3A%201%3B%22%2F%3E%3C%2Fg%3E%3Cg%20class%3D%22titletext%22%3E%3Ctext%20data-notex%3D%221%22%20class%3D%22titletext%22%20transform%3D%22translate(145.75%2C229.25)translate(0%2C12)%22%20text-anchor%3D%22middle%22%20data-unformatted%3D%22186%22%20data-math%3D%22N%22%20x%3D%220%22%20y%3D%220%22%20style%3D%22font-family%3A%20%26quot%3BOpen%20Sans%26quot%3B%2C%20verdana%2C%20arial%2C%20sans-serif%3B%20font-size%3A%2012px%3B%20fill%3A%20rgb(89%2C%2089%2C%2089)%3B%20fill-opacity%3A%201%3B%20white-space%3A%20pre%3B%22%3E186%3C%2Ftext%3E%3C%2Fg%3E%3C%2Fg%3E%3Cg%20class%3D%22trace%22%20stroke-linejoin%3D%22round%22%20style%3D%22opacity%3A%201%3B%22%3E%3Cg%20class%3D%22slice%22%3E%3Cpath%20class%3D%22surface%22%20d%3D%22M309.58085662089496%2C189.79437027165656a26.3%2C26.3%200%201%200%200.5441433791050582%2C-52.59437027165656l0%2C-39.449999999999996a65.75%2C65.75%200%201%201%20-1.3603584477626454%2C131.4859256791414Z%22%20style%3D%22pointer-events%3A%20all%3B%20stroke-width%3A%200%3B%20fill%3A%20rgb(237%2C%20201%2C%2073)%3B%20fill-opacity%3A%201%3B%20stroke%3A%20rgb(68%2C%2068%2C%2068)%3B%20stroke-opacity%3A%201%3B%22%2F%3E%3C%2Fg%3E%3Cg%20class%3D%22slice%22%3E%3Cpath%20class%3D%22surface%22%20d%3D%22M310.125%2C137.2a26.3%2C26.3%200%200%200%20-22.525853095757924%2C39.874827524073126l-33.78877964363688%2C20.362241286109683a65.75%2C65.75%200%200%201%2056.3146327393948%2C-99.68706881018281Z%22%20style%3D%22pointer-events%3A%20all%3B%20stroke-width%3A%200%3B%20fill%3A%20rgb(89%2C%20161%2C%2079)%3B%20fill-opacity%3A%201%3B%20stroke%3A%20rgb(68%2C%2068%2C%2068)%3B%20stroke-opacity%3A%201%3B%22%2F%3E%3C%2Fg%3E%3Cg%20class%3D%22slice%22%3E%3Cpath%20class%3D%22surface%22%20d%3D%22M287.59914690424205%2C177.07482752407313a26.3%2C26.3%200%200%200%206.991228451336514%2C7.646987599919808l-23.30193696663211%2C31.832722685989395a65.75%2C65.75%200%200%201%20-17.478071128341284%2C-19.11746899979952Z%22%20style%3D%22pointer-events%3A%20all%3B%20stroke-width%3A%200%3B%20fill%3A%20rgb(175%2C%20122%2C%20161)%3B%20fill-opacity%3A%201%3B%20stroke%3A%20rgb(68%2C%2068%2C%2068)%3B%20stroke-opacity%3A%201%3B%22%2F%3E%3C%2Fg%3E%3Cg%20class%3D%22slice%22%3E%3Cpath%20class%3D%22surface%22%20d%3D%22M294.5903753555786%2C184.72181512399294a26.3%2C26.3%200%200%200%207.836369982261411%2C3.92628371382246l-11.547381993239995%2C37.72214825672309a65.75%2C65.75%200%200%201%20-19.590924955653527%2C-9.81570928455615Z%22%20style%3D%22pointer-events%3A%20all%3B%20stroke-width%3A%200%3B%20fill%3A%20rgb(255%2C%20157%2C%20167)%3B%20fill-opacity%3A%201%3B%20stroke%3A%20rgb(68%2C%2068%2C%2068)%3B%20stroke-opacity%3A%201%3B%22%2F%3E%3C%2Fg%3E%3Cg%20class%3D%22slice%22%3E%3Cpath%20class%3D%22surface%22%20d%3D%22M302.42674533784%2C188.64809883781538a26.3%2C26.3%200%200%200%207.154111283054921%2C1.1462714338411644l-0.8162150686576143%2C39.441555407484834a65.75%2C65.75%200%200%201%20-17.885278207637302%2C-2.865678584602911Z%22%20style%3D%22pointer-events%3A%20all%3B%20stroke-width%3A%200%3B%20fill%3A%20rgb(156%2C%20117%2C%2095)%3B%20fill-opacity%3A%201%3B%20stroke%3A%20rgb(68%2C%2068%2C%2068)%3B%20stroke-opacity%3A%201%3B%22%2F%3E%3C%2Fg%3E%3Cg%20class%3D%22titletext%22%3E%3Ctext%20data-notex%3D%221%22%20class%3D%22titletext%22%20transform%3D%22translate(310.125%2C229.25)translate(0%2C12)%22%20text-anchor%3D%22middle%22%20data-unformatted%3D%2296%22%20data-math%3D%22N%22%20x%3D%220%22%20y%3D%220%22%20style%3D%22font-family%3A%20%26quot%3BOpen%20Sans%26quot%3B%2C%20verdana%2C%20arial%2C%20sans-serif%3B%20font-size%3A%2012px%3B%20fill%3A%20rgb(89%2C%2089%2C%2089)%3B%20fill-opacity%3A%201%3B%20white-space%3A%20pre%3B%22%3E96%3C%2Ftext%3E%3C%2Fg%3E%3C%2Fg%3E%3Cg%20class%3D%22trace%22%20stroke-linejoin%3D%22round%22%20style%3D%22opacity%3A%201%3B%22%3E%3Cg%20class%3D%22slice%22%3E%3Cpath%20class%3D%22surface%22%20d%3D%22M500.77579076360064%2C162.37180686605592a26.300000000000008%2C26.300000000000008%200%200%200%20-26.275790763600657%2C-25.171806866055935l0%2C-39.45000000000001a65.75000000000001%2C65.75000000000001%200%200%201%2065.68947690900164%2C62.929517165139835Z%22%20style%3D%22pointer-events%3A%20all%3B%20stroke-width%3A%200%3B%20fill%3A%20rgb(175%2C%20122%2C%20161)%3B%20fill-opacity%3A%201%3B%20stroke%3A%20rgb(68%2C%2068%2C%2068)%3B%20stroke-opacity%3A%201%3B%22%2F%3E%3C%2Fg%3E%3Cg%20class%3D%22slice%22%3E%3Cpath%20class%3D%22surface%22%20d%3D%22M474.5%2C137.2a26.300000000000008%2C26.300000000000008%200%200%200%20-24.97594412587298%2C18.060326764897095l-37.46391618880947%2C-12.359509852654368a65.75000000000001%2C65.75000000000001%200%200%201%2062.43986031468245%2C-45.15081691224273Z%22%20style%3D%22pointer-events%3A%20all%3B%20stroke-width%3A%200%3B%20fill%3A%20rgb(186%2C%20176%2C%20171)%3B%20fill-opacity%3A%201%3B%20stroke%3A%20rgb(68%2C%2068%2C%2068)%3B%20stroke-opacity%3A%201%3B%22%2F%3E%3C%2Fg%3E%3Cg%20class%3D%22slice%22%3E%3Cpath%20class%3D%22surface%22%20d%3D%22M449.52405587412704%2C155.2603267648971a26.300000000000008%2C26.300000000000008%200%200%200%209.17793956193175%2C29.266157767655955l-23.697006845911847%2C31.539726798829562a65.75000000000001%2C65.75000000000001%200%200%201%20-22.94484890482937%2C-73.16539441913989Z%22%20style%3D%22pointer-events%3A%20all%3B%20stroke-width%3A%200%3B%20fill%3A%20rgb(89%2C%20161%2C%2079)%3B%20fill-opacity%3A%201%3B%20stroke%3A%20rgb(68%2C%2068%2C%2068)%3B%20stroke-opacity%3A%201%3B%22%2F%3E%3C%2Fg%3E%3Cg%20class%3D%22slice%22%3E%3Cpath%20class%3D%22surface%22%20d%3D%22M458.7019954360588%2C184.52648453255304a26.300000000000008%2C26.300000000000008%200%200%200%2029.735578514816428%2C1.27674465884177l20.90636092631279%2C33.454843787092216a65.75000000000001%2C65.75000000000001%200%200%201%20-74.33894628704107%2C-3.1918616471044245Z%22%20style%3D%22pointer-events%3A%20all%3B%20stroke-width%3A%200%3B%20fill%3A%20rgb(78%2C%20121%2C%20167)%3B%20fill-opacity%3A%201%3B%20stroke%3A%20rgb(68%2C%2068%2C%2068)%3B%20stroke-opacity%3A%201%3B%22%2F%3E%3C%2Fg%3E%3Cg%20class%3D%22slice%22%3E%3Cpath%20class%3D%22surface%22%20d%3D%22M488.4375739508752%2C185.80322919139482a26.300000000000008%2C26.300000000000008%200%200%200%2012.33821681272547%2C-23.43142232533884l39.413686145400995%2C-1.6922897009160376a65.75000000000001%2C65.75000000000001%200%200%201%20-30.84554203181367%2C58.578555813347094Z%22%20style%3D%22pointer-events%3A%20all%3B%20stroke-width%3A%200%3B%20fill%3A%20rgb(156%2C%20117%2C%2095)%3B%20fill-opacity%3A%201%3B%20stroke%3A%20rgb(68%2C%2068%2C%2068)%3B%20stroke-opacity%3A%201%3B%22%2F%3E%3C%2Fg%3E%3Cg%20class%3D%22titletext%22%3E%3Ctext%20data-notex%3D%221%22%20class%3D%22titletext%22%20transform%3D%22translate(474.5%2C229.25)translate(0%2C12)%22%20text-anchor%3D%22middle%22%20data-unformatted%3D%22112%22%20data-math%3D%22N%22%20x%3D%220%22%20y%3D%220%22%20style%3D%22font-family%3A%20%26quot%3BOpen%20Sans%26quot%3B%2C%20verdana%2C%20arial%2C%20sans-serif%3B%20font-size%3A%2012px%3B%20fill%3A%20rgb(89%2C%2089%2C%2089)%3B%20fill-opacity%3A%201%3B%20white-space%3A%20pre%3B%22%3E112%3C%2Ftext%3E%3C%2Fg%3E%3C%2Fg%3E%3Cg%20class%3D%22trace%22%20stroke-linejoin%3D%22round%22%20style%3D%22opacity%3A%201%3B%22%3E%3Cg%20class%3D%22slice%22%3E%3Cpath%20class%3D%22surface%22%20d%3D%22M648.2101419338617%2C188.08749936603266a26.30000000000001%2C26.30000000000001%200%200%200%20-9.335141933861713%2C-50.887499366032685l0%2C-39.45000000000002a65.75000000000003%2C65.75000000000003%200%200%201%2023.337854834654284%2C127.2187484150817Z%22%20style%3D%22pointer-events%3A%20all%3B%20stroke-width%3A%200%3B%20fill%3A%20rgb(242%2C%20142%2C%2044)%3B%20fill-opacity%3A%201%3B%20stroke%3A%20rgb(68%2C%2068%2C%2068)%3B%20stroke-opacity%3A%201%3B%22%2F%3E%3C%2Fg%3E%3Cg%20class%3D%22slice%22%3E%3Cpath%20class%3D%22surface%22%20d%3D%22M638.875%2C137.2a26.30000000000001%2C26.30000000000001%200%200%200%20-17.677285255698237%2C45.77315038684483l-26.515927883547356%2C29.209725580267218a65.75000000000003%2C65.75000000000003%200%200%201%2044.19321313924559%2C-114.43287596711207Z%22%20style%3D%22pointer-events%3A%20all%3B%20stroke-width%3A%200%3B%20fill%3A%20rgb(118%2C%20183%2C%20178)%3B%20fill-opacity%3A%201%3B%20stroke%3A%20rgb(68%2C%2068%2C%2068)%3B%20stroke-opacity%3A%201%3B%22%2F%3E%3C%2Fg%3E%3Cg%20class%3D%22slice%22%3E%3Cpath%20class%3D%22surface%22%20d%3D%22M621.1977147443017%2C182.97315038684482a26.30000000000001%2C26.30000000000001%200%200%200%2010.287136013153981%2C5.767208053021353l-11.085223863816385%2C37.86053765979925a65.75000000000003%2C65.75000000000003%200%200%201%20-25.71784003288495%2C-14.41802013255338Z%22%20style%3D%22pointer-events%3A%20all%3B%20stroke-width%3A%200%3B%20fill%3A%20rgb(225%2C%2087%2C%2089)%3B%20fill-opacity%3A%201%3B%20stroke%3A%20rgb(68%2C%2068%2C%2068)%3B%20stroke-opacity%3A%201%3B%22%2F%3E%3C%2Fg%3E%3Cg%20class%3D%22slice%22%3E%3Cpath%20class%3D%22surface%22%20d%3D%22M631.4848507574558%2C188.74035843986616a26.30000000000001%2C26.30000000000001%200%200%200%208.709368431083591%2C1.0265344242049508l1.9788287828090012%2C39.40033929610667a65.75000000000003%2C65.75000000000003%200%200%201%20-21.773421077708978%2C-2.566336060512377Z%22%20style%3D%22pointer-events%3A%20all%3B%20stroke-width%3A%200%3B%20fill%3A%20rgb(118%2C%20183%2C%20178)%3B%20fill-opacity%3A%201%3B%20stroke%3A%20rgb(68%2C%2068%2C%2068)%3B%20stroke-opacity%3A%201%3B%22%2F%3E%3C%2Fg%3E%3Cg%20class%3D%22slice%22%3E%3Cpath%20class%3D%22surface%22%20d%3D%22M640.1942191885394%2C189.7668928640711a26.30000000000001%2C26.30000000000001%200%200%200%208.015922745322374%2C-1.6793934980384393l14.002712900792561%2C36.88124904904901a65.75000000000003%2C65.75000000000003%200%200%201%20-20.039806863305934%2C4.198483745096098Z%22%20style%3D%22pointer-events%3A%20all%3B%20stroke-width%3A%200%3B%20fill%3A%20rgb(89%2C%20161%2C%2079)%3B%20fill-opacity%3A%201%3B%20stroke%3A%20rgb(68%2C%2068%2C%2068)%3B%20stroke-opacity%3A%201%3B%22%2F%3E%3C%2Fg%3E%3Cg%20class%3D%22titletext%22%3E%3Ctext%20data-notex%3D%221%22%20class%3D%22titletext%22%20transform%3D%22translate(638.875%2C229.25000000000003)translate(0%2C12)%22%20text-anchor%3D%22middle%22%20data-unformatted%3D%2222%22%20data-math%3D%22N%22%20x%3D%220%22%20y%3D%220%22%20style%3D%22font-family%3A%20%26quot%3BOpen%20Sans%26quot%3B%2C%20verdana%2C%20arial%2C%20sans-serif%3B%20font-size%3A%2012px%3B%20fill%3A%20rgb(89%2C%2089%2C%2089)%3B%20fill-opacity%3A%201%3B%20white-space%3A%20pre%3B%22%3E22%3C%2Ftext%3E%3C%2Fg%3E%3C%2Fg%3E%3Cg%20class%3D%22trace%22%20stroke-linejoin%3D%22round%22%20style%3D%22opacity%3A%201%3B%22%3E%3Cg%20class%3D%22slice%22%3E%3Cpath%20class%3D%22surface%22%20d%3D%22M814.4036614035383%2C187.31776306237055a26.299999999999997%2C26.299999999999997%200%200%200%20-11.153661403538178%2C-50.117763062370535l0%2C-39.44999999999999a65.74999999999999%2C65.74999999999999%200%200%201%2027.884153508845444%2C125.29440765592634Z%22%20style%3D%22pointer-events%3A%20all%3B%20stroke-width%3A%200%3B%20fill%3A%20rgb(237%2C%20201%2C%2073)%3B%20fill-opacity%3A%201%3B%20stroke%3A%20rgb(68%2C%2068%2C%2068)%3B%20stroke-opacity%3A%201%3B%22%2F%3E%3C%2Fg%3E%3Cg%20class%3D%22slice%22%3E%3Cpath%20class%3D%22surface%22%20d%3D%22M803.2500000000001%2C137.2a26.299999999999997%2C26.299999999999997%200%200%200%20-21.576882077050865%2C41.33755830688749l-32.365323115576295%2C22.556337460331235a65.74999999999999%2C65.74999999999999%200%200%201%2053.942205192627156%2C-103.34389576721871Z%22%20style%3D%22pointer-events%3A%20all%3B%20stroke-width%3A%200%3B%20fill%3A%20rgb(118%2C%20183%2C%20178)%3B%20fill-opacity%3A%201%3B%20stroke%3A%20rgb(68%2C%2068%2C%2068)%3B%20stroke-opacity%3A%201%3B%22%2F%3E%3C%2Fg%3E%3Cg%20class%3D%22slice%22%3E%3Cpath%20class%3D%22surface%22%20d%3D%22M781.6731179229492%2C178.5375583068875a26.299999999999997%2C26.299999999999997%200%200%200%2020.398231390115214%2C11.236017440585215l-1.7679760304034748%2C39.41036362120906a65.74999999999999%2C65.74999999999999%200%200%201%20-50.995578475288035%2C-28.090043601463037Z%22%20style%3D%22pointer-events%3A%20all%3B%20stroke-width%3A%200%3B%20fill%3A%20rgb(175%2C%20122%2C%20161)%3B%20fill-opacity%3A%201%3B%20stroke%3A%20rgb(68%2C%2068%2C%2068)%3B%20stroke-opacity%3A%201%3B%22%2F%3E%3C%2Fg%3E%3Cg%20class%3D%22slice%22%3E%3Cpath%20class%3D%22surface%22%20d%3D%22M802.0713493130645%2C189.7735757474727a26.299999999999997%2C26.299999999999997%200%200%200%207.553907116811435%2C-0.7579706115303623l9.562884644813677%2C38.27340770391351a65.74999999999999%2C65.74999999999999%200%200%201%20-18.884767792028587%2C1.8949265288259056Z%22%20style%3D%22pointer-events%3A%20all%3B%20stroke-width%3A%200%3B%20fill%3A%20rgb(255%2C%20157%2C%20167)%3B%20fill-opacity%3A%201%3B%20stroke%3A%20rgb(68%2C%2068%2C%2068)%3B%20stroke-opacity%3A%201%3B%22%2F%3E%3C%2Fg%3E%3Cg%20class%3D%22slice%22%3E%3Cpath%20class%3D%22surface%22%20d%3D%22M809.6252564298759%2C189.01560513594234a26.299999999999997%2C26.299999999999997%200%200%200%204.77840497366241%2C-1.6978420735718118l16.73049210530729%2C35.7266445935558a65.74999999999999%2C65.74999999999999%200%200%201%20-11.946012434156025%2C4.244605183929529Z%22%20style%3D%22pointer-events%3A%20all%3B%20stroke-width%3A%200%3B%20fill%3A%20rgb(156%2C%20117%2C%2095)%3B%20fill-opacity%3A%201%3B%20stroke%3A%20rgb(68%2C%2068%2C%2068)%3B%20stroke-opacity%3A%201%3B%22%2F%3E%3C%2Fg%3E%3Cg%20class%3D%22titletext%22%3E%3Ctext%20data-notex%3D%221%22%20class%3D%22titletext%22%20transform%3D%22translate(803.2500000000001%2C229.25)translate(0%2C12)%22%20text-anchor%3D%22middle%22%20data-unformatted%3D%22329%22%20data-math%3D%22N%22%20x%3D%220%22%20y%3D%220%22%20style%3D%22font-family%3A%20%26quot%3BOpen%20Sans%26quot%3B%2C%20verdana%2C%20arial%2C%20sans-serif%3B%20font-size%3A%2012px%3B%20fill%3A%20rgb(89%2C%2089%2C%2089)%3B%20fill-opacity%3A%201%3B%20white-space%3A%20pre%3B%22%3E329%3C%2Ftext%3E%3C%2Fg%3E%3C%2Fg%3E%3C%2Fg%3E%3Cg%20class%3D%22treemaplayer%22%2F%3E%3Cg%20class%3D%22sunburstlayer%22%2F%3E%3Cg%20class%3D%22glimages%22%2F%3E%3Cdefs%20id%3D%22topdefs-240aaf%22%3E%3Cg%20class%3D%22clips%22%2F%3E%3CclipPath%20id%3D%22legend240aaf%22%3E%3Crect%20width%3D%22308%22%20height%3D%22282%22%20x%3D%220%22%20y%3D%220%22%2F%3E%3C%2FclipPath%3E%3C%2Fdefs%3E%3Cg%20class%3D%22indicatorlayer%22%2F%3E%3Cg%20class%3D%22layer-above%22%3E%3Cg%20class%3D%22imagelayer%22%2F%3E%3Cg%20class%3D%22shapelayer%22%2F%3E%3C%2Fg%3E%3Cg%20class%3D%22infolayer%22%3E%3Cg%20class%3D%22legend%22%20pointer-events%3D%22all%22%20transform%3D%22translate(884.78%2C30)%22%3E%3Crect%20class%3D%22bg%22%20shape-rendering%3D%22crispEdges%22%20style%3D%22stroke%3A%20rgb(68%2C%2068%2C%2068)%3B%20stroke-opacity%3A%201%3B%20fill%3A%20rgb(255%2C%20255%2C%20255)%3B%20fill-opacity%3A%201%3B%20stroke-width%3A%200px%3B%22%20width%3D%22308%22%20height%3D%22282%22%20x%3D%220%22%20y%3D%220%22%2F%3E%3Cg%20class%3D%22scrollbox%22%20clip-path%3D%22url('%23legend240aaf')%22%20transform%3D%22%22%3E%3Cg%20class%3D%22groups%22%3E%3Cg%20class%3D%22traces%22%20style%3D%22opacity%3A%201%3B%22%20transform%3D%22translate(0%2C14.5)%22%3E%3Ctext%20class%3D%22legendtext%22%20text-anchor%3D%22start%22%20x%3D%2240%22%20y%3D%224.680000000000001%22%20data-unformatted%3D%22likes%2C%20Fran%C3%A7ois%20Chollet%22%20data-math%3D%22N%22%20style%3D%22font-family%3A%20%26quot%3BOpen%20Sans%26quot%3B%2C%20verdana%2C%20arial%2C%20sans-serif%3B%20font-size%3A%2012px%3B%20fill%3A%20rgb(89%2C%2089%2C%2089)%3B%20fill-opacity%3A%201%3B%20white-space%3A%20pre%3B%22%3Elikes%2C%20Fran%C3%A7ois%20Chollet%3C%2Ftext%3E%3Cg%20class%3D%22layers%22%20style%3D%22opacity%3A%201%3B%22%3E%3Cg%20class%3D%22legendfill%22%2F%3E%3Cg%20class%3D%22legendlines%22%2F%3E%3Cg%20class%3D%22legendsymbols%22%3E%3Cg%20class%3D%22legendpoints%22%3E%3Cpath%20class%3D%22legendpie%22%20d%3D%22M6%2C6H-6V-6H6Z%22%20transform%3D%22translate(20%2C0)%22%20style%3D%22stroke-width%3A%200%3B%20fill%3A%20rgb(78%2C%20121%2C%20167)%3B%20fill-opacity%3A%201%3B%20stroke%3A%20rgb(68%2C%2068%2C%2068)%3B%20stroke-opacity%3A%201%3B%22%2F%3E%3C%2Fg%3E%3C%2Fg%3E%3C%2Fg%3E%3Crect%20class%3D%22legendtoggle%22%20pointer-events%3D%22all%22%20x%3D%220%22%20y%3D%22-9.5%22%20width%3D%22292.171875%22%20height%3D%2219%22%20style%3D%22cursor%3A%20pointer%3B%20fill%3A%20rgb(0%2C%200%2C%200)%3B%20fill-opacity%3A%200%3B%22%2F%3E%3C%2Fg%3E%3Cg%20class%3D%22traces%22%20style%3D%22opacity%3A%201%3B%22%20transform%3D%22translate(0%2C33.5)%22%3E%3Ctext%20class%3D%22legendtext%22%20text-anchor%3D%22start%22%20x%3D%2240%22%20y%3D%224.680000000000001%22%20data-unformatted%3D%22likes%2C%20Pedro%20Domingos%22%20data-math%3D%22N%22%20style%3D%22font-family%3A%20%26quot%3BOpen%20Sans%26quot%3B%2C%20verdana%2C%20arial%2C%20sans-serif%3B%20font-size%3A%2012px%3B%20fill%3A%20rgb(89%2C%2089%2C%2089)%3B%20fill-opacity%3A%201%3B%20white-space%3A%20pre%3B%22%3Elikes%2C%20Pedro%20Domingos%3C%2Ftext%3E%3Cg%20class%3D%22layers%22%20style%3D%22opacity%3A%201%3B%22%3E%3Cg%20class%3D%22legendfill%22%2F%3E%3Cg%20class%3D%22legendlines%22%2F%3E%3Cg%20class%3D%22legendsymbols%22%3E%3Cg%20class%3D%22legendpoints%22%3E%3Cpath%20class%3D%22legendpie%22%20d%3D%22M6%2C6H-6V-6H6Z%22%20transform%3D%22translate(20%2C0)%22%20style%3D%22stroke-width%3A%200%3B%20fill%3A%20rgb(242%2C%20142%2C%2044)%3B%20fill-opacity%3A%201%3B%20stroke%3A%20rgb(68%2C%2068%2C%2068)%3B%20stroke-opacity%3A%201%3B%22%2F%3E%3C%2Fg%3E%3C%2Fg%3E%3C%2Fg%3E%3Crect%20class%3D%22legendtoggle%22%20pointer-events%3D%22all%22%20x%3D%220%22%20y%3D%22-9.5%22%20width%3D%22292.171875%22%20height%3D%2219%22%20style%3D%22cursor%3A%20pointer%3B%20fill%3A%20rgb(0%2C%200%2C%200)%3B%20fill-opacity%3A%200%3B%22%2F%3E%3C%2Fg%3E%3Cg%20class%3D%22traces%22%20style%3D%22opacity%3A%201%3B%22%20transform%3D%22translate(0%2C52.5)%22%3E%3Ctext%20class%3D%22legendtext%22%20text-anchor%3D%22start%22%20x%3D%2240%22%20y%3D%224.680000000000001%22%20data-unformatted%3D%22likes%2C%20Kosta%20Derpanis%22%20data-math%3D%22N%22%20style%3D%22font-family%3A%20%26quot%3BOpen%20Sans%26quot%3B%2C%20verdana%2C%20arial%2C%20sans-serif%3B%20font-size%3A%2012px%3B%20fill%3A%20rgb(89%2C%2089%2C%2089)%3B%20fill-opacity%3A%201%3B%20white-space%3A%20pre%3B%22%3Elikes%2C%20Kosta%20Derpanis%3C%2Ftext%3E%3Cg%20class%3D%22layers%22%20style%3D%22opacity%3A%201%3B%22%3E%3Cg%20class%3D%22legendfill%22%2F%3E%3Cg%20class%3D%22legendlines%22%2F%3E%3Cg%20class%3D%22legendsymbols%22%3E%3Cg%20class%3D%22legendpoints%22%3E%3Cpath%20class%3D%22legendpie%22%20d%3D%22M6%2C6H-6V-6H6Z%22%20transform%3D%22translate(20%2C0)%22%20style%3D%22stroke-width%3A%200%3B%20fill%3A%20rgb(225%2C%2087%2C%2089)%3B%20fill-opacity%3A%201%3B%20stroke%3A%20rgb(68%2C%2068%2C%2068)%3B%20stroke-opacity%3A%201%3B%22%2F%3E%3C%2Fg%3E%3C%2Fg%3E%3C%2Fg%3E%3Crect%20class%3D%22legendtoggle%22%20pointer-events%3D%22all%22%20x%3D%220%22%20y%3D%22-9.5%22%20width%3D%22292.171875%22%20height%3D%2219%22%20style%3D%22cursor%3A%20pointer%3B%20fill%3A%20rgb(0%2C%200%2C%200)%3B%20fill-opacity%3A%200%3B%22%2F%3E%3C%2Fg%3E%3Cg%20class%3D%22traces%22%20style%3D%22opacity%3A%201%3B%22%20transform%3D%22translate(0%2C71.5)%22%3E%3Ctext%20class%3D%22legendtext%22%20text-anchor%3D%22start%22%20x%3D%2240%22%20y%3D%224.680000000000001%22%20data-unformatted%3D%22likes%2C%20Alvin%20Foo%22%20data-math%3D%22N%22%20style%3D%22font-family%3A%20%26quot%3BOpen%20Sans%26quot%3B%2C%20verdana%2C%20arial%2C%20sans-serif%3B%20font-size%3A%2012px%3B%20fill%3A%20rgb(89%2C%2089%2C%2089)%3B%20fill-opacity%3A%201%3B%20white-space%3A%20pre%3B%22%3Elikes%2C%20Alvin%20Foo%3C%2Ftext%3E%3Cg%20class%3D%22layers%22%20style%3D%22opacity%3A%201%3B%22%3E%3Cg%20class%3D%22legendfill%22%2F%3E%3Cg%20class%3D%22legendlines%22%2F%3E%3Cg%20class%3D%22legendsymbols%22%3E%3Cg%20class%3D%22legendpoints%22%3E%3Cpath%20class%3D%22legendpie%22%20d%3D%22M6%2C6H-6V-6H6Z%22%20transform%3D%22translate(20%2C0)%22%20style%3D%22stroke-width%3A%200%3B%20fill%3A%20rgb(118%2C%20183%2C%20178)%3B%20fill-opacity%3A%201%3B%20stroke%3A%20rgb(68%2C%2068%2C%2068)%3B%20stroke-opacity%3A%201%3B%22%2F%3E%3C%2Fg%3E%3C%2Fg%3E%3C%2Fg%3E%3Crect%20class%3D%22legendtoggle%22%20pointer-events%3D%22all%22%20x%3D%220%22%20y%3D%22-9.5%22%20width%3D%22292.171875%22%20height%3D%2219%22%20style%3D%22cursor%3A%20pointer%3B%20fill%3A%20rgb(0%2C%200%2C%200)%3B%20fill-opacity%3A%200%3B%22%2F%3E%3C%2Fg%3E%3Cg%20class%3D%22traces%22%20style%3D%22opacity%3A%201%3B%22%20transform%3D%22translate(0%2C90.5)%22%3E%3Ctext%20class%3D%22legendtext%22%20text-anchor%3D%22start%22%20x%3D%2240%22%20y%3D%224.680000000000001%22%20data-unformatted%3D%22likes%2C%20Ronald%20van%20Loon%22%20data-math%3D%22N%22%20style%3D%22font-family%3A%20%26quot%3BOpen%20Sans%26quot%3B%2C%20verdana%2C%20arial%2C%20sans-serif%3B%20font-size%3A%2012px%3B%20fill%3A%20rgb(89%2C%2089%2C%2089)%3B%20fill-opacity%3A%201%3B%20white-space%3A%20pre%3B%22%3Elikes%2C%20Ronald%20van%20Loon%3C%2Ftext%3E%3Cg%20class%3D%22layers%22%20style%3D%22opacity%3A%201%3B%22%3E%3Cg%20class%3D%22legendfill%22%2F%3E%3Cg%20class%3D%22legendlines%22%2F%3E%3Cg%20class%3D%22legendsymbols%22%3E%3Cg%20class%3D%22legendpoints%22%3E%3Cpath%20class%3D%22legendpie%22%20d%3D%22M6%2C6H-6V-6H6Z%22%20transform%3D%22translate(20%2C0)%22%20style%3D%22stroke-width%3A%200%3B%20fill%3A%20rgb(89%2C%20161%2C%2079)%3B%20fill-opacity%3A%201%3B%20stroke%3A%20rgb(68%2C%2068%2C%2068)%3B%20stroke-opacity%3A%201%3B%22%2F%3E%3C%2Fg%3E%3C%2Fg%3E%3C%2Fg%3E%3Crect%20class%3D%22legendtoggle%22%20pointer-events%3D%22all%22%20x%3D%220%22%20y%3D%22-9.5%22%20width%3D%22292.171875%22%20height%3D%2219%22%20style%3D%22cursor%3A%20pointer%3B%20fill%3A%20rgb(0%2C%200%2C%200)%3B%20fill-opacity%3A%200%3B%22%2F%3E%3C%2Fg%3E%3Cg%20class%3D%22traces%22%20style%3D%22opacity%3A%201%3B%22%20transform%3D%22translate(0%2C109.5)%22%3E%3Ctext%20class%3D%22legendtext%22%20text-anchor%3D%22start%22%20x%3D%2240%22%20y%3D%224.680000000000001%22%20data-unformatted%3D%22likes%2C%20Sergey%20Levine%22%20data-math%3D%22N%22%20style%3D%22font-family%3A%20%26quot%3BOpen%20Sans%26quot%3B%2C%20verdana%2C%20arial%2C%20sans-serif%3B%20font-size%3A%2012px%3B%20fill%3A%20rgb(89%2C%2089%2C%2089)%3B%20fill-opacity%3A%201%3B%20white-space%3A%20pre%3B%22%3Elikes%2C%20Sergey%20Levine%3C%2Ftext%3E%3Cg%20class%3D%22layers%22%20style%3D%22opacity%3A%201%3B%22%3E%3Cg%20class%3D%22legendfill%22%2F%3E%3Cg%20class%3D%22legendlines%22%2F%3E%3Cg%20class%3D%22legendsymbols%22%3E%3Cg%20class%3D%22legendpoints%22%3E%3Cpath%20class%3D%22legendpie%22%20d%3D%22M6%2C6H-6V-6H6Z%22%20transform%3D%22translate(20%2C0)%22%20style%3D%22stroke-width%3A%200%3B%20fill%3A%20rgb(237%2C%20201%2C%2073)%3B%20fill-opacity%3A%201%3B%20stroke%3A%20rgb(68%2C%2068%2C%2068)%3B%20stroke-opacity%3A%201%3B%22%2F%3E%3C%2Fg%3E%3C%2Fg%3E%3C%2Fg%3E%3Crect%20class%3D%22legendtoggle%22%20pointer-events%3D%22all%22%20x%3D%220%22%20y%3D%22-9.5%22%20width%3D%22292.171875%22%20height%3D%2219%22%20style%3D%22cursor%3A%20pointer%3B%20fill%3A%20rgb(0%2C%200%2C%200)%3B%20fill-opacity%3A%200%3B%22%2F%3E%3C%2Fg%3E%3Cg%20class%3D%22traces%22%20style%3D%22opacity%3A%201%3B%22%20transform%3D%22translate(0%2C128.5)%22%3E%3Ctext%20class%3D%22legendtext%22%20text-anchor%3D%22start%22%20x%3D%2240%22%20y%3D%224.680000000000001%22%20data-unformatted%3D%22likes%2C%20Tamara%20McCleary%22%20data-math%3D%22N%22%20style%3D%22font-family%3A%20%26quot%3BOpen%20Sans%26quot%3B%2C%20verdana%2C%20arial%2C%20sans-serif%3B%20font-size%3A%2012px%3B%20fill%3A%20rgb(89%2C%2089%2C%2089)%3B%20fill-opacity%3A%201%3B%20white-space%3A%20pre%3B%22%3Elikes%2C%20Tamara%20McCleary%3C%2Ftext%3E%3Cg%20class%3D%22layers%22%20style%3D%22opacity%3A%201%3B%22%3E%3Cg%20class%3D%22legendfill%22%2F%3E%3Cg%20class%3D%22legendlines%22%2F%3E%3Cg%20class%3D%22legendsymbols%22%3E%3Cg%20class%3D%22legendpoints%22%3E%3Cpath%20class%3D%22legendpie%22%20d%3D%22M6%2C6H-6V-6H6Z%22%20transform%3D%22translate(20%2C0)%22%20style%3D%22stroke-width%3A%200%3B%20fill%3A%20rgb(175%2C%20122%2C%20161)%3B%20fill-opacity%3A%201%3B%20stroke%3A%20rgb(68%2C%2068%2C%2068)%3B%20stroke-opacity%3A%201%3B%22%2F%3E%3C%2Fg%3E%3C%2Fg%3E%3C%2Fg%3E%3Crect%20class%3D%22legendtoggle%22%20pointer-events%3D%22all%22%20x%3D%220%22%20y%3D%22-9.5%22%20width%3D%22292.171875%22%20height%3D%2219%22%20style%3D%22cursor%3A%20pointer%3B%20fill%3A%20rgb(0%2C%200%2C%200)%3B%20fill-opacity%3A%200%3B%22%2F%3E%3C%2Fg%3E%3Cg%20class%3D%22traces%22%20style%3D%22opacity%3A%201%3B%22%20transform%3D%22translate(0%2C147.5)%22%3E%3Ctext%20class%3D%22legendtext%22%20text-anchor%3D%22start%22%20x%3D%2240%22%20y%3D%224.680000000000001%22%20data-unformatted%3D%22likes%2C%20Nige%20Willson%22%20data-math%3D%22N%22%20style%3D%22font-family%3A%20%26quot%3BOpen%20Sans%26quot%3B%2C%20verdana%2C%20arial%2C%20sans-serif%3B%20font-size%3A%2012px%3B%20fill%3A%20rgb(89%2C%2089%2C%2089)%3B%20fill-opacity%3A%201%3B%20white-space%3A%20pre%3B%22%3Elikes%2C%20Nige%20Willson%3C%2Ftext%3E%3Cg%20class%3D%22layers%22%20style%3D%22opacity%3A%201%3B%22%3E%3Cg%20class%3D%22legendfill%22%2F%3E%3Cg%20class%3D%22legendlines%22%2F%3E%3Cg%20class%3D%22legendsymbols%22%3E%3Cg%20class%3D%22legendpoints%22%3E%3Cpath%20class%3D%22legendpie%22%20d%3D%22M6%2C6H-6V-6H6Z%22%20transform%3D%22translate(20%2C0)%22%20style%3D%22stroke-width%3A%200%3B%20fill%3A%20rgb(255%2C%20157%2C%20167)%3B%20fill-opacity%3A%201%3B%20stroke%3A%20rgb(68%2C%2068%2C%2068)%3B%20stroke-opacity%3A%201%3B%22%2F%3E%3C%2Fg%3E%3C%2Fg%3E%3C%2Fg%3E%3Crect%20class%3D%22legendtoggle%22%20pointer-events%3D%22all%22%20x%3D%220%22%20y%3D%22-9.5%22%20width%3D%22292.171875%22%20height%3D%2219%22%20style%3D%22cursor%3A%20pointer%3B%20fill%3A%20rgb(0%2C%200%2C%200)%3B%20fill-opacity%3A%200%3B%22%2F%3E%3C%2Fg%3E%3Cg%20class%3D%22traces%22%20style%3D%22opacity%3A%201%3B%22%20transform%3D%22translate(0%2C166.5)%22%3E%3Ctext%20class%3D%22legendtext%22%20text-anchor%3D%22start%22%20x%3D%2240%22%20y%3D%224.680000000000001%22%20data-unformatted%3D%22likes%2C%20ipfconline%22%20data-math%3D%22N%22%20style%3D%22font-family%3A%20%26quot%3BOpen%20Sans%26quot%3B%2C%20verdana%2C%20arial%2C%20sans-serif%3B%20font-size%3A%2012px%3B%20fill%3A%20rgb(89%2C%2089%2C%2089)%3B%20fill-opacity%3A%201%3B%20white-space%3A%20pre%3B%22%3Elikes%2C%20ipfconline%3C%2Ftext%3E%3Cg%20class%3D%22layers%22%20style%3D%22opacity%3A%201%3B%22%3E%3Cg%20class%3D%22legendfill%22%2F%3E%3Cg%20class%3D%22legendlines%22%2F%3E%3Cg%20class%3D%22legendsymbols%22%3E%3Cg%20class%3D%22legendpoints%22%3E%3Cpath%20class%3D%22legendpie%22%20d%3D%22M6%2C6H-6V-6H6Z%22%20transform%3D%22translate(20%2C0)%22%20style%3D%22stroke-width%3A%200%3B%20fill%3A%20rgb(156%2C%20117%2C%2095)%3B%20fill-opacity%3A%201%3B%20stroke%3A%20rgb(68%2C%2068%2C%2068)%3B%20stroke-opacity%3A%201%3B%22%2F%3E%3C%2Fg%3E%3C%2Fg%3E%3C%2Fg%3E%3Crect%20class%3D%22legendtoggle%22%20pointer-events%3D%22all%22%20x%3D%220%22%20y%3D%22-9.5%22%20width%3D%22292.171875%22%20height%3D%2219%22%20style%3D%22cursor%3A%20pointer%3B%20fill%3A%20rgb(0%2C%200%2C%200)%3B%20fill-opacity%3A%200%3B%22%2F%3E%3C%2Fg%3E%3Cg%20class%3D%22traces%22%20style%3D%22opacity%3A%201%3B%22%20transform%3D%22translate(0%2C185.5)%22%3E%3Ctext%20class%3D%22legendtext%22%20text-anchor%3D%22start%22%20x%3D%2240%22%20y%3D%224.680000000000001%22%20data-unformatted%3D%22likes%2C%20Andreas%20Staub%22%20data-math%3D%22N%22%20style%3D%22font-family%3A%20%26quot%3BOpen%20Sans%26quot%3B%2C%20verdana%2C%20arial%2C%20sans-serif%3B%20font-size%3A%2012px%3B%20fill%3A%20rgb(89%2C%2089%2C%2089)%3B%20fill-opacity%3A%201%3B%20white-space%3A%20pre%3B%22%3Elikes%2C%20Andreas%20Staub%3C%2Ftext%3E%3Cg%20class%3D%22layers%22%20style%3D%22opacity%3A%201%3B%22%3E%3Cg%20class%3D%22legendfill%22%2F%3E%3Cg%20class%3D%22legendlines%22%2F%3E%3Cg%20class%3D%22legendsymbols%22%3E%3Cg%20class%3D%22legendpoints%22%3E%3Cpath%20class%3D%22legendpie%22%20d%3D%22M6%2C6H-6V-6H6Z%22%20transform%3D%22translate(20%2C0)%22%20style%3D%22stroke-width%3A%200%3B%20fill%3A%20rgb(186%2C%20176%2C%20171)%3B%20fill-opacity%3A%201%3B%20stroke%3A%20rgb(68%2C%2068%2C%2068)%3B%20stroke-opacity%3A%201%3B%22%2F%3E%3C%2Fg%3E%3C%2Fg%3E%3C%2Fg%3E%3Crect%20class%3D%22legendtoggle%22%20pointer-events%3D%22all%22%20x%3D%220%22%20y%3D%22-9.5%22%20width%3D%22292.171875%22%20height%3D%2219%22%20style%3D%22cursor%3A%20pointer%3B%20fill%3A%20rgb(0%2C%200%2C%200)%3B%20fill-opacity%3A%200%3B%22%2F%3E%3C%2Fg%3E%3Cg%20class%3D%22traces%22%20style%3D%22opacity%3A%201%3B%22%20transform%3D%22translate(0%2C204.5)%22%3E%3Ctext%20class%3D%22legendtext%22%20text-anchor%3D%22start%22%20x%3D%2240%22%20y%3D%224.680000000000001%22%20data-unformatted%3D%22likes%2C%20Kirk%20Borne%22%20data-math%3D%22N%22%20style%3D%22font-family%3A%20%26quot%3BOpen%20Sans%26quot%3B%2C%20verdana%2C%20arial%2C%20sans-serif%3B%20font-size%3A%2012px%3B%20fill%3A%20rgb(89%2C%2089%2C%2089)%3B%20fill-opacity%3A%201%3B%20white-space%3A%20pre%3B%22%3Elikes%2C%20Kirk%20Borne%3C%2Ftext%3E%3Cg%20class%3D%22layers%22%20style%3D%22opacity%3A%201%3B%22%3E%3Cg%20class%3D%22legendfill%22%2F%3E%3Cg%20class%3D%22legendlines%22%2F%3E%3Cg%20class%3D%22legendsymbols%22%3E%3Cg%20class%3D%22legendpoints%22%3E%3Cpath%20class%3D%22legendpie%22%20d%3D%22M6%2C6H-6V-6H6Z%22%20transform%3D%22translate(20%2C0)%22%20style%3D%22stroke-width%3A%200%3B%20fill%3A%20rgb(78%2C%20121%2C%20167)%3B%20fill-opacity%3A%201%3B%20stroke%3A%20rgb(68%2C%2068%2C%2068)%3B%20stroke-opacity%3A%201%3B%22%2F%3E%3C%2Fg%3E%3C%2Fg%3E%3C%2Fg%3E%3Crect%20class%3D%22legendtoggle%22%20pointer-events%3D%22all%22%20x%3D%220%22%20y%3D%22-9.5%22%20width%3D%22292.171875%22%20height%3D%2219%22%20style%3D%22cursor%3A%20pointer%3B%20fill%3A%20rgb(0%2C%200%2C%200)%3B%20fill-opacity%3A%200%3B%22%2F%3E%3C%2Fg%3E%3Cg%20class%3D%22traces%22%20style%3D%22opacity%3A%201%3B%22%20transform%3D%22translate(0%2C223.5)%22%3E%3Ctext%20class%3D%22legendtext%22%20text-anchor%3D%22start%22%20x%3D%2240%22%20y%3D%224.680000000000001%22%20data-unformatted%3D%22likes%2C%20Pascal%20Bornet%22%20data-math%3D%22N%22%20style%3D%22font-family%3A%20%26quot%3BOpen%20Sans%26quot%3B%2C%20verdana%2C%20arial%2C%20sans-serif%3B%20font-size%3A%2012px%3B%20fill%3A%20rgb(89%2C%2089%2C%2089)%3B%20fill-opacity%3A%201%3B%20white-space%3A%20pre%3B%22%3Elikes%2C%20Pascal%20Bornet%3C%2Ftext%3E%3Cg%20class%3D%22layers%22%20style%3D%22opacity%3A%201%3B%22%3E%3Cg%20class%3D%22legendfill%22%2F%3E%3Cg%20class%3D%22legendlines%22%2F%3E%3Cg%20class%3D%22legendsymbols%22%3E%3Cg%20class%3D%22legendpoints%22%3E%3Cpath%20class%3D%22legendpie%22%20d%3D%22M6%2C6H-6V-6H6Z%22%20transform%3D%22translate(20%2C0)%22%20style%3D%22stroke-width%3A%200%3B%20fill%3A%20rgb(242%2C%20142%2C%2044)%3B%20fill-opacity%3A%201%3B%20stroke%3A%20rgb(68%2C%2068%2C%2068)%3B%20stroke-opacity%3A%201%3B%22%2F%3E%3C%2Fg%3E%3C%2Fg%3E%3C%2Fg%3E%3Crect%20class%3D%22legendtoggle%22%20pointer-events%3D%22all%22%20x%3D%220%22%20y%3D%22-9.5%22%20width%3D%22292.171875%22%20height%3D%2219%22%20style%3D%22cursor%3A%20pointer%3B%20fill%3A%20rgb(0%2C%200%2C%200)%3B%20fill-opacity%3A%200%3B%22%2F%3E%3C%2Fg%3E%3Cg%20class%3D%22traces%22%20style%3D%22opacity%3A%201%3B%22%20transform%3D%22translate(0%2C242.5)%22%3E%3Ctext%20class%3D%22legendtext%22%20text-anchor%3D%22start%22%20x%3D%2240%22%20y%3D%224.680000000000001%22%20data-unformatted%3D%22likes%2C%20Keith%20McNulty%22%20data-math%3D%22N%22%20style%3D%22font-family%3A%20%26quot%3BOpen%20Sans%26quot%3B%2C%20verdana%2C%20arial%2C%20sans-serif%3B%20font-size%3A%2012px%3B%20fill%3A%20rgb(89%2C%2089%2C%2089)%3B%20fill-opacity%3A%201%3B%20white-space%3A%20pre%3B%22%3Elikes%2C%20Keith%20McNulty%3C%2Ftext%3E%3Cg%20class%3D%22layers%22%20style%3D%22opacity%3A%201%3B%22%3E%3Cg%20class%3D%22legendfill%22%2F%3E%3Cg%20class%3D%22legendlines%22%2F%3E%3Cg%20class%3D%22legendsymbols%22%3E%3Cg%20class%3D%22legendpoints%22%3E%3Cpath%20class%3D%22legendpie%22%20d%3D%22M6%2C6H-6V-6H6Z%22%20transform%3D%22translate(20%2C0)%22%20style%3D%22stroke-width%3A%200%3B%20fill%3A%20rgb(225%2C%2087%2C%2089)%3B%20fill-opacity%3A%201%3B%20stroke%3A%20rgb(68%2C%2068%2C%2068)%3B%20stroke-opacity%3A%201%3B%22%2F%3E%3C%2Fg%3E%3C%2Fg%3E%3C%2Fg%3E%3Crect%20class%3D%22legendtoggle%22%20pointer-events%3D%22all%22%20x%3D%220%22%20y%3D%22-9.5%22%20width%3D%22292.171875%22%20height%3D%2219%22%20style%3D%22cursor%3A%20pointer%3B%20fill%3A%20rgb(0%2C%200%2C%200)%3B%20fill-opacity%3A%200%3B%22%2F%3E%3C%2Fg%3E%3Cg%20class%3D%22traces%22%20style%3D%22opacity%3A%201%3B%22%20transform%3D%22translate(0%2C261.5)%22%3E%3Ctext%20class%3D%22legendtext%22%20text-anchor%3D%22start%22%20x%3D%2240%22%20y%3D%224.680000000000001%22%20data-unformatted%3D%22likes%2C%20Randy%20Olson%22%20data-math%3D%22N%22%20style%3D%22font-family%3A%20%26quot%3BOpen%20Sans%26quot%3B%2C%20verdana%2C%20arial%2C%20sans-serif%3B%20font-size%3A%2012px%3B%20fill%3A%20rgb(89%2C%2089%2C%2089)%3B%20fill-opacity%3A%201%3B%20white-space%3A%20pre%3B%22%3Elikes%2C%20Randy%20Olson%3C%2Ftext%3E%3Cg%20class%3D%22layers%22%20style%3D%22opacity%3A%201%3B%22%3E%3Cg%20class%3D%22legendfill%22%2F%3E%3Cg%20class%3D%22legendlines%22%2F%3E%3Cg%20class%3D%22legendsymbols%22%3E%3Cg%20class%3D%22legendpoints%22%3E%3Cpath%20class%3D%22legendpie%22%20d%3D%22M6%2C6H-6V-6H6Z%22%20transform%3D%22translate(20%2C0)%22%20style%3D%22stroke-width%3A%200%3B%20fill%3A%20rgb(118%2C%20183%2C%20178)%3B%20fill-opacity%3A%201%3B%20stroke%3A%20rgb(68%2C%2068%2C%2068)%3B%20stroke-opacity%3A%201%3B%22%2F%3E%3C%2Fg%3E%3C%2Fg%3E%3C%2Fg%3E%3Crect%20class%3D%22legendtoggle%22%20pointer-events%3D%22all%22%20x%3D%220%22%20y%3D%22-9.5%22%20width%3D%22292.171875%22%20height%3D%2219%22%20style%3D%22cursor%3A%20pointer%3B%20fill%3A%20rgb(0%2C%200%2C%200)%3B%20fill-opacity%3A%200%3B%22%2F%3E%3C%2Fg%3E%3Cg%20class%3D%22traces%22%20style%3D%22opacity%3A%201%3B%22%20transform%3D%22translate(0%2C280.5)%22%3E%3Ctext%20class%3D%22legendtext%22%20text-anchor%3D%22start%22%20x%3D%2240%22%20y%3D%224.680000000000001%22%20data-unformatted%3D%22likes%2C%20Fernando%20P%C3%A9rez%22%20data-math%3D%22N%22%20style%3D%22font-family%3A%20%26quot%3BOpen%20Sans%26quot%3B%2C%20verdana%2C%20arial%2C%20sans-serif%3B%20font-size%3A%2012px%3B%20fill%3A%20rgb(89%2C%2089%2C%2089)%3B%20fill-opacity%3A%201%3B%20white-space%3A%20pre%3B%22%3Elikes%2C%20Fernando%20P%C3%A9rez%3C%2Ftext%3E%3Cg%20class%3D%22layers%22%20style%3D%22opacity%3A%201%3B%22%3E%3Cg%20class%3D%22legendfill%22%2F%3E%3Cg%20class%3D%22legendlines%22%2F%3E%3Cg%20class%3D%22legendsymbols%22%3E%3Cg%20class%3D%22legendpoints%22%3E%3Cpath%20class%3D%22legendpie%22%20d%3D%22M6%2C6H-6V-6H6Z%22%20transform%3D%22translate(20%2C0)%22%20style%3D%22stroke-width%3A%200%3B%20fill%3A%20rgb(89%2C%20161%2C%2079)%3B%20fill-opacity%3A%201%3B%20stroke%3A%20rgb(68%2C%2068%2C%2068)%3B%20stroke-opacity%3A%201%3B%22%2F%3E%3C%2Fg%3E%3C%2Fg%3E%3C%2Fg%3E%3Crect%20class%3D%22legendtoggle%22%20pointer-events%3D%22all%22%20x%3D%220%22%20y%3D%22-9.5%22%20width%3D%22292.171875%22%20height%3D%2219%22%20style%3D%22cursor%3A%20pointer%3B%20fill%3A%20rgb(0%2C%200%2C%200)%3B%20fill-opacity%3A%200%3B%22%2F%3E%3C%2Fg%3E%3Cg%20class%3D%22traces%22%20style%3D%22opacity%3A%201%3B%22%20transform%3D%22translate(0%2C299.5)%22%3E%3Ctext%20class%3D%22legendtext%22%20text-anchor%3D%22start%22%20x%3D%2240%22%20y%3D%224.680000000000001%22%20data-unformatted%3D%22likes%2C%20Dr.%20Jacqueline%20Nolis%22%20data-math%3D%22N%22%20style%3D%22font-family%3A%20%26quot%3BOpen%20Sans%26quot%3B%2C%20verdana%2C%20arial%2C%20sans-serif%3B%20font-size%3A%2012px%3B%20fill%3A%20rgb(89%2C%2089%2C%2089)%3B%20fill-opacity%3A%201%3B%20white-space%3A%20pre%3B%22%3Elikes%2C%20Dr.%20Jacqueline%20Nolis%3C%2Ftext%3E%3Cg%20class%3D%22layers%22%20style%3D%22opacity%3A%201%3B%22%3E%3Cg%20class%3D%22legendfill%22%2F%3E%3Cg%20class%3D%22legendlines%22%2F%3E%3Cg%20class%3D%22legendsymbols%22%3E%3Cg%20class%3D%22legendpoints%22%3E%3Cpath%20class%3D%22legendpie%22%20d%3D%22M6%2C6H-6V-6H6Z%22%20transform%3D%22translate(20%2C0)%22%20style%3D%22stroke-width%3A%200%3B%20fill%3A%20rgb(237%2C%20201%2C%2073)%3B%20fill-opacity%3A%201%3B%20stroke%3A%20rgb(68%2C%2068%2C%2068)%3B%20stroke-opacity%3A%201%3B%22%2F%3E%3C%2Fg%3E%3C%2Fg%3E%3C%2Fg%3E%3Crect%20class%3D%22legendtoggle%22%20pointer-events%3D%22all%22%20x%3D%220%22%20y%3D%22-9.5%22%20width%3D%22292.171875%22%20height%3D%2219%22%20style%3D%22cursor%3A%20pointer%3B%20fill%3A%20rgb(0%2C%200%2C%200)%3B%20fill-opacity%3A%200%3B%22%2F%3E%3C%2Fg%3E%3Cg%20class%3D%22traces%22%20style%3D%22opacity%3A%201%3B%22%20transform%3D%22translate(0%2C318.5)%22%3E%3Ctext%20class%3D%22legendtext%22%20text-anchor%3D%22start%22%20x%3D%2240%22%20y%3D%224.680000000000001%22%20data-unformatted%3D%22likes%2C%20Ayodele%20(eye-ya-deli)%20is%20fullyVaxxed%22%20data-math%3D%22N%22%20style%3D%22font-family%3A%20%26quot%3BOpen%20Sans%26quot%3B%2C%20verdana%2C%20arial%2C%20sans-serif%3B%20font-size%3A%2012px%3B%20fill%3A%20rgb(89%2C%2089%2C%2089)%3B%20fill-opacity%3A%201%3B%20white-space%3A%20pre%3B%22%3Elikes%2C%20Ayodele%20(eye-ya-deli)%20is%20fullyVaxxed%3C%2Ftext%3E%3Cg%20class%3D%22layers%22%20style%3D%22opacity%3A%201%3B%22%3E%3Cg%20class%3D%22legendfill%22%2F%3E%3Cg%20class%3D%22legendlines%22%2F%3E%3Cg%20class%3D%22legendsymbols%22%3E%3Cg%20class%3D%22legendpoints%22%3E%3Cpath%20class%3D%22legendpie%22%20d%3D%22M6%2C6H-6V-6H6Z%22%20transform%3D%22translate(20%2C0)%22%20style%3D%22stroke-width%3A%200%3B%20fill%3A%20rgb(175%2C%20122%2C%20161)%3B%20fill-opacity%3A%201%3B%20stroke%3A%20rgb(68%2C%2068%2C%2068)%3B%20stroke-opacity%3A%201%3B%22%2F%3E%3C%2Fg%3E%3C%2Fg%3E%3C%2Fg%3E%3Crect%20class%3D%22legendtoggle%22%20pointer-events%3D%22all%22%20x%3D%220%22%20y%3D%22-9.5%22%20width%3D%22292.171875%22%20height%3D%2219%22%20style%3D%22cursor%3A%20pointer%3B%20fill%3A%20rgb(0%2C%200%2C%200)%3B%20fill-opacity%3A%200%3B%22%2F%3E%3C%2Fg%3E%3Cg%20class%3D%22traces%22%20style%3D%22opacity%3A%201%3B%22%20transform%3D%22translate(0%2C337.5)%22%3E%3Ctext%20class%3D%22legendtext%22%20text-anchor%3D%22start%22%20x%3D%2240%22%20y%3D%224.680000000000001%22%20data-unformatted%3D%22likes%2C%20Data%20Science%20Renee%22%20data-math%3D%22N%22%20style%3D%22font-family%3A%20%26quot%3BOpen%20Sans%26quot%3B%2C%20verdana%2C%20arial%2C%20sans-serif%3B%20font-size%3A%2012px%3B%20fill%3A%20rgb(89%2C%2089%2C%2089)%3B%20fill-opacity%3A%201%3B%20white-space%3A%20pre%3B%22%3Elikes%2C%20Data%20Science%20Renee%3C%2Ftext%3E%3Cg%20class%3D%22layers%22%20style%3D%22opacity%3A%201%3B%22%3E%3Cg%20class%3D%22legendfill%22%2F%3E%3Cg%20class%3D%22legendlines%22%2F%3E%3Cg%20class%3D%22legendsymbols%22%3E%3Cg%20class%3D%22legendpoints%22%3E%3Cpath%20class%3D%22legendpie%22%20d%3D%22M6%2C6H-6V-6H6Z%22%20transform%3D%22translate(20%2C0)%22%20style%3D%22stroke-width%3A%200%3B%20fill%3A%20rgb(255%2C%20157%2C%20167)%3B%20fill-opacity%3A%201%3B%20stroke%3A%20rgb(68%2C%2068%2C%2068)%3B%20stroke-opacity%3A%201%3B%22%2F%3E%3C%2Fg%3E%3C%2Fg%3E%3C%2Fg%3E%3Crect%20class%3D%22legendtoggle%22%20pointer-events%3D%22all%22%20x%3D%220%22%20y%3D%22-9.5%22%20width%3D%22292.171875%22%20height%3D%2219%22%20style%3D%22cursor%3A%20pointer%3B%20fill%3A%20rgb(0%2C%200%2C%200)%3B%20fill-opacity%3A%200%3B%22%2F%3E%3C%2Fg%3E%3Cg%20class%3D%22traces%22%20style%3D%22opacity%3A%201%3B%22%20transform%3D%22translate(0%2C356.5)%22%3E%3Ctext%20class%3D%22legendtext%22%20text-anchor%3D%22start%22%20x%3D%2240%22%20y%3D%224.680000000000001%22%20data-unformatted%3D%22likes%2C%20Sebastian%20Raschka%22%20data-math%3D%22N%22%20style%3D%22font-family%3A%20%26quot%3BOpen%20Sans%26quot%3B%2C%20verdana%2C%20arial%2C%20sans-serif%3B%20font-size%3A%2012px%3B%20fill%3A%20rgb(89%2C%2089%2C%2089)%3B%20fill-opacity%3A%201%3B%20white-space%3A%20pre%3B%22%3Elikes%2C%20Sebastian%20Raschka%3C%2Ftext%3E%3Cg%20class%3D%22layers%22%20style%3D%22opacity%3A%201%3B%22%3E%3Cg%20class%3D%22legendfill%22%2F%3E%3Cg%20class%3D%22legendlines%22%2F%3E%3Cg%20class%3D%22legendsymbols%22%3E%3Cg%20class%3D%22legendpoints%22%3E%3Cpath%20class%3D%22legendpie%22%20d%3D%22M6%2C6H-6V-6H6Z%22%20transform%3D%22translate(20%2C0)%22%20style%3D%22stroke-width%3A%200%3B%20fill%3A%20rgb(156%2C%20117%2C%2095)%3B%20fill-opacity%3A%201%3B%20stroke%3A%20rgb(68%2C%2068%2C%2068)%3B%20stroke-opacity%3A%201%3B%22%2F%3E%3C%2Fg%3E%3C%2Fg%3E%3C%2Fg%3E%3Crect%20class%3D%22legendtoggle%22%20pointer-events%3D%22all%22%20x%3D%220%22%20y%3D%22-9.5%22%20width%3D%22292.171875%22%20height%3D%2219%22%20style%3D%22cursor%3A%20pointer%3B%20fill%3A%20rgb(0%2C%200%2C%200)%3B%20fill-opacity%3A%200%3B%22%2F%3E%3C%2Fg%3E%3C%2Fg%3E%3C%2Fg%3E%3Crect%20class%3D%22scrollbar%22%20rx%3D%2220%22%20ry%3D%223%22%20width%3D%226%22%20height%3D%22214.35040431266847%22%20style%3D%22fill%3A%20rgb(128%2C%20139%2C%20164)%3B%20fill-opacity%3A%201%3B%22%20x%3D%22298%22%20y%3D%224%22%2F%3E%3C%2Fg%3E%3Cg%20class%3D%22g-gtitle%22%2F%3E%3C%2Fg%3E%3Cg%20class%3D%22menulayer%22%2F%3E%3Cg%20class%3D%22zoomlayer%22%2F%3E%3Cg%20class%3D%22hoverlayer%22%2F%3E%3C%2Fsvg%3E\">"
      ],
      "text/plain": [
       "Open the notebook in JupyterLab with the atoti extension enabled to build this widget."
      ]
     },
     "metadata": {},
     "output_type": "display_data"
    }
   ],
   "source": [
    "session.visualize(\n",
    "    \"Top 5 influencers for Top 5 topics - With regard to the average number of likes\"\n",
    ")"
   ]
  },
  {
   "cell_type": "markdown",
   "metadata": {},
   "source": [
    "The above graphs show the top 5 influencers with the highest likes rates related to the 5 most popular topics.\n",
    "\n",
    "Here again, if we consider Françoi Chollet who is largely the most liked (389 likes per tweet on average) influencer considering topic 186, we observe that he is not even in the top 5 influencers for all the other top topics."
   ]
  },
  {
   "cell_type": "markdown",
   "metadata": {},
   "source": [
    "### Conclusion\n",
    "\n",
    "Finally, in this notebook we have performed an analysis that has provided:\n",
    "\n",
    "- A ranking of the influencers by number of tweets written\n",
    "- Different top 10 of the influencers by: replies rate, retweets and quotes rate, and likes rate\n",
    "- Different top 5 of the influencers by topic and by: replies rate, retweets and quotes rate, and likes rate\n",
    "\n",
    "We have shown that the popularity of the influencers on Twitter highly depends on the topics they are writting about. It's clearly a question of topics or quality, but certainly not of quantity.\n",
    "\n",
    "Alternatively, we could have perfomred a simple analysis of correlations betweens all the considered measures (KPIs) to achive the same results. But, here we wanted to demonstrate the aggregation and visualization capabilities of atoti."
   ]
  }
 ],
 "metadata": {
  "kernelspec": {
   "display_name": "Python 3 (ipykernel)",
   "language": "python",
   "name": "python3"
  },
  "language_info": {
   "codemirror_mode": {
    "name": "ipython",
    "version": 3
   },
   "file_extension": ".py",
   "mimetype": "text/x-python",
   "name": "python",
   "nbconvert_exporter": "python",
   "pygments_lexer": "ipython3",
   "version": "3.9.13"
  }
 },
 "nbformat": 4,
 "nbformat_minor": 4
}
