{
 "cells": [
  {
   "cell_type": "markdown",
   "metadata": {},
   "source": [
    "# Twitter AI influencers analysis\n",
    "\\[_In case you’re unable to see the atoti visualizations in GitHub, try viewing the notebook in [nbviewer](https://nbviewer.org/github/atoti/notebooks/blob/master/notebooks/influencers-analysis/notebooks/main.ipynb)._]\n",
    "\n",
    "### Introduction\n",
    "\n",
    "In this notebook, we perform an analysis of the posts from the Twitter AI influencers in order to provide a list of the top influencers with regard to some specific KPIs.\n",
    "\n",
    "Here are the KPIs that we use for our analysis:\n",
    "\n",
    "- The mean number of replies per tweet\n",
    "- The mean number of retweets and quotes per tweet\n",
    "- The mean number of likes per tweet\n",
    "\n",
    "First, we calculate these KPIs considering all the tweets, then we determine them for the most popular topics (topics with the most associated tweets, including all types: tweet, reply, quote and like)."
   ]
  },
  {
   "cell_type": "code",
   "execution_count": 1,
   "metadata": {},
   "outputs": [],
   "source": [
    "import atoti as tt\n",
    "import os\n",
    "import numpy as np\n",
    "import pandas as pd\n",
    "import random as rd\n",
    "from pathlib import Path"
   ]
  },
  {
   "cell_type": "markdown",
   "metadata": {},
   "source": [
    "#### Global variables"
   ]
  },
  {
   "cell_type": "code",
   "execution_count": 2,
   "metadata": {},
   "outputs": [],
   "source": [
    "RESULTS_PATH = Path(\"../results\")"
   ]
  },
  {
   "cell_type": "markdown",
   "metadata": {},
   "source": [
    "# STEP 0: Load the results"
   ]
  },
  {
   "cell_type": "code",
   "execution_count": 3,
   "metadata": {},
   "outputs": [
    {
     "name": "stdout",
     "output_type": "stream",
     "text": [
      "Data size: (8079, 30)\n",
      "\n"
     ]
    },
    {
     "data": {
      "text/html": [
       "<div>\n",
       "<style scoped>\n",
       "    .dataframe tbody tr th:only-of-type {\n",
       "        vertical-align: middle;\n",
       "    }\n",
       "\n",
       "    .dataframe tbody tr th {\n",
       "        vertical-align: top;\n",
       "    }\n",
       "\n",
       "    .dataframe thead th {\n",
       "        text-align: right;\n",
       "    }\n",
       "</style>\n",
       "<table border=\"1\" class=\"dataframe\">\n",
       "  <thead>\n",
       "    <tr style=\"text-align: right;\">\n",
       "      <th></th>\n",
       "      <th>tweetLink</th>\n",
       "      <th>text</th>\n",
       "      <th>retweet_count</th>\n",
       "      <th>favorite_count</th>\n",
       "      <th>reply_count</th>\n",
       "      <th>quote_count</th>\n",
       "      <th>topic</th>\n",
       "      <th>topic_count</th>\n",
       "      <th>profileUrl</th>\n",
       "      <th>name</th>\n",
       "      <th>...</th>\n",
       "      <th>topic_keyword_11</th>\n",
       "      <th>topic_keyword_12</th>\n",
       "      <th>topic_keyword_13</th>\n",
       "      <th>topic_keyword_14</th>\n",
       "      <th>topic_keyword_15</th>\n",
       "      <th>topic_keyword_16</th>\n",
       "      <th>topic_keyword_17</th>\n",
       "      <th>topic_keyword_18</th>\n",
       "      <th>topic_keyword_19</th>\n",
       "      <th>topic_keyword_20</th>\n",
       "    </tr>\n",
       "  </thead>\n",
       "  <tbody>\n",
       "    <tr>\n",
       "      <th>0</th>\n",
       "      <td>https://twitter.com/YvesMulkers/status/1396799...</td>\n",
       "      <td>RT @CREWcrew:Mitch McConnell got $250,000 from...</td>\n",
       "      <td>1010</td>\n",
       "      <td>0</td>\n",
       "      <td>0</td>\n",
       "      <td>0</td>\n",
       "      <td>186</td>\n",
       "      <td>153</td>\n",
       "      <td>https://twitter.com/YvesMulkers</td>\n",
       "      <td>Yves Mulkers</td>\n",
       "      <td>...</td>\n",
       "      <td>('ai', 0.02533194981053806)</td>\n",
       "      <td>('leading tech', 0.024722970994140298)</td>\n",
       "      <td>('choose great', 0.024722970994140298)</td>\n",
       "      <td>('great wine', 0.024722970994140298)</td>\n",
       "      <td>('tech trends', 0.024722970994140298)</td>\n",
       "      <td>('intelligence movies', 0.024588839428707168)</td>\n",
       "      <td>('wine', 0.024252606974425835)</td>\n",
       "      <td>('leading', 0.024165918247990883)</td>\n",
       "      <td>('usa', 0.02414878068708062)</td>\n",
       "      <td>('movies', 0.024140236513879545)</td>\n",
       "    </tr>\n",
       "    <tr>\n",
       "      <th>1</th>\n",
       "      <td>https://twitter.com/data_nerd/status/139693655...</td>\n",
       "      <td>Madrona Venture Group’s Steve Singh on key tre...</td>\n",
       "      <td>0</td>\n",
       "      <td>0</td>\n",
       "      <td>0</td>\n",
       "      <td>0</td>\n",
       "      <td>186</td>\n",
       "      <td>153</td>\n",
       "      <td>https://twitter.com/data_nerd</td>\n",
       "      <td>Carla Gentry</td>\n",
       "      <td>...</td>\n",
       "      <td>('ai', 0.02533194981053806)</td>\n",
       "      <td>('leading tech', 0.024722970994140298)</td>\n",
       "      <td>('choose great', 0.024722970994140298)</td>\n",
       "      <td>('great wine', 0.024722970994140298)</td>\n",
       "      <td>('tech trends', 0.024722970994140298)</td>\n",
       "      <td>('intelligence movies', 0.024588839428707168)</td>\n",
       "      <td>('wine', 0.024252606974425835)</td>\n",
       "      <td>('leading', 0.024165918247990883)</td>\n",
       "      <td>('usa', 0.02414878068708062)</td>\n",
       "      <td>('movies', 0.024140236513879545)</td>\n",
       "    </tr>\n",
       "  </tbody>\n",
       "</table>\n",
       "<p>2 rows × 30 columns</p>\n",
       "</div>"
      ],
      "text/plain": [
       "                                           tweetLink  \\\n",
       "0  https://twitter.com/YvesMulkers/status/1396799...   \n",
       "1  https://twitter.com/data_nerd/status/139693655...   \n",
       "\n",
       "                                                text  retweet_count  \\\n",
       "0  RT @CREWcrew:Mitch McConnell got $250,000 from...           1010   \n",
       "1  Madrona Venture Group’s Steve Singh on key tre...              0   \n",
       "\n",
       "   favorite_count  reply_count  quote_count  topic  topic_count  \\\n",
       "0               0            0            0    186          153   \n",
       "1               0            0            0    186          153   \n",
       "\n",
       "                        profileUrl          name  ...  \\\n",
       "0  https://twitter.com/YvesMulkers  Yves Mulkers  ...   \n",
       "1    https://twitter.com/data_nerd  Carla Gentry  ...   \n",
       "\n",
       "              topic_keyword_11                        topic_keyword_12  \\\n",
       "0  ('ai', 0.02533194981053806)  ('leading tech', 0.024722970994140298)   \n",
       "1  ('ai', 0.02533194981053806)  ('leading tech', 0.024722970994140298)   \n",
       "\n",
       "                         topic_keyword_13  \\\n",
       "0  ('choose great', 0.024722970994140298)   \n",
       "1  ('choose great', 0.024722970994140298)   \n",
       "\n",
       "                       topic_keyword_14  \\\n",
       "0  ('great wine', 0.024722970994140298)   \n",
       "1  ('great wine', 0.024722970994140298)   \n",
       "\n",
       "                        topic_keyword_15  \\\n",
       "0  ('tech trends', 0.024722970994140298)   \n",
       "1  ('tech trends', 0.024722970994140298)   \n",
       "\n",
       "                                topic_keyword_16  \\\n",
       "0  ('intelligence movies', 0.024588839428707168)   \n",
       "1  ('intelligence movies', 0.024588839428707168)   \n",
       "\n",
       "                 topic_keyword_17                   topic_keyword_18  \\\n",
       "0  ('wine', 0.024252606974425835)  ('leading', 0.024165918247990883)   \n",
       "1  ('wine', 0.024252606974425835)  ('leading', 0.024165918247990883)   \n",
       "\n",
       "               topic_keyword_19                  topic_keyword_20  \n",
       "0  ('usa', 0.02414878068708062)  ('movies', 0.024140236513879545)  \n",
       "1  ('usa', 0.02414878068708062)  ('movies', 0.024140236513879545)  \n",
       "\n",
       "[2 rows x 30 columns]"
      ]
     },
     "execution_count": 3,
     "metadata": {},
     "output_type": "execute_result"
    }
   ],
   "source": [
    "df = pd.read_csv(RESULTS_PATH / \"Topic Extraction - all.csv\")\n",
    "\n",
    "print(f\"Data size: {df.shape}\\n\")\n",
    "df.head(2)"
   ]
  },
  {
   "cell_type": "code",
   "execution_count": 4,
   "metadata": {},
   "outputs": [
    {
     "name": "stdout",
     "output_type": "stream",
     "text": [
      "Data size: (4038, 30)\n",
      "\n"
     ]
    },
    {
     "data": {
      "text/html": [
       "<div>\n",
       "<style scoped>\n",
       "    .dataframe tbody tr th:only-of-type {\n",
       "        vertical-align: middle;\n",
       "    }\n",
       "\n",
       "    .dataframe tbody tr th {\n",
       "        vertical-align: top;\n",
       "    }\n",
       "\n",
       "    .dataframe thead th {\n",
       "        text-align: right;\n",
       "    }\n",
       "</style>\n",
       "<table border=\"1\" class=\"dataframe\">\n",
       "  <thead>\n",
       "    <tr style=\"text-align: right;\">\n",
       "      <th></th>\n",
       "      <th>tweetLink</th>\n",
       "      <th>text</th>\n",
       "      <th>retweet_count</th>\n",
       "      <th>favorite_count</th>\n",
       "      <th>reply_count</th>\n",
       "      <th>quote_count</th>\n",
       "      <th>topic</th>\n",
       "      <th>topic_count</th>\n",
       "      <th>profileUrl</th>\n",
       "      <th>name</th>\n",
       "      <th>...</th>\n",
       "      <th>topic_keyword_11</th>\n",
       "      <th>topic_keyword_12</th>\n",
       "      <th>topic_keyword_13</th>\n",
       "      <th>topic_keyword_14</th>\n",
       "      <th>topic_keyword_15</th>\n",
       "      <th>topic_keyword_16</th>\n",
       "      <th>topic_keyword_17</th>\n",
       "      <th>topic_keyword_18</th>\n",
       "      <th>topic_keyword_19</th>\n",
       "      <th>topic_keyword_20</th>\n",
       "    </tr>\n",
       "  </thead>\n",
       "  <tbody>\n",
       "    <tr>\n",
       "      <th>0</th>\n",
       "      <td>https://twitter.com/KayFButterfield/status/139...</td>\n",
       "      <td>RT @SethBergeson:📣STARTING NOW! #SmartToyAward...</td>\n",
       "      <td>2</td>\n",
       "      <td>0</td>\n",
       "      <td>0</td>\n",
       "      <td>0</td>\n",
       "      <td>186</td>\n",
       "      <td>153</td>\n",
       "      <td>https://twitter.com/KayFButterfield</td>\n",
       "      <td>KayFirth-Butterfield</td>\n",
       "      <td>...</td>\n",
       "      <td>('ai', 0.02533194981053806)</td>\n",
       "      <td>('leading tech', 0.024722970994140298)</td>\n",
       "      <td>('choose great', 0.024722970994140298)</td>\n",
       "      <td>('great wine', 0.024722970994140298)</td>\n",
       "      <td>('tech trends', 0.024722970994140298)</td>\n",
       "      <td>('intelligence movies', 0.024588839428707168)</td>\n",
       "      <td>('wine', 0.024252606974425835)</td>\n",
       "      <td>('leading', 0.024165918247990883)</td>\n",
       "      <td>('usa', 0.02414878068708062)</td>\n",
       "      <td>('movies', 0.024140236513879545)</td>\n",
       "    </tr>\n",
       "    <tr>\n",
       "      <th>1</th>\n",
       "      <td>https://twitter.com/pierrepinna/status/1395448...</td>\n",
       "      <td>RT @DeepLearn007:Leading Tech Trends 2021\\r\\n\\...</td>\n",
       "      <td>126</td>\n",
       "      <td>0</td>\n",
       "      <td>0</td>\n",
       "      <td>0</td>\n",
       "      <td>186</td>\n",
       "      <td>153</td>\n",
       "      <td>https://twitter.com/pierrepinna</td>\n",
       "      <td>Pinna Pierre</td>\n",
       "      <td>...</td>\n",
       "      <td>('ai', 0.02533194981053806)</td>\n",
       "      <td>('leading tech', 0.024722970994140298)</td>\n",
       "      <td>('choose great', 0.024722970994140298)</td>\n",
       "      <td>('great wine', 0.024722970994140298)</td>\n",
       "      <td>('tech trends', 0.024722970994140298)</td>\n",
       "      <td>('intelligence movies', 0.024588839428707168)</td>\n",
       "      <td>('wine', 0.024252606974425835)</td>\n",
       "      <td>('leading', 0.024165918247990883)</td>\n",
       "      <td>('usa', 0.02414878068708062)</td>\n",
       "      <td>('movies', 0.024140236513879545)</td>\n",
       "    </tr>\n",
       "  </tbody>\n",
       "</table>\n",
       "<p>2 rows × 30 columns</p>\n",
       "</div>"
      ],
      "text/plain": [
       "                                           tweetLink  \\\n",
       "0  https://twitter.com/KayFButterfield/status/139...   \n",
       "1  https://twitter.com/pierrepinna/status/1395448...   \n",
       "\n",
       "                                                text  retweet_count  \\\n",
       "0  RT @SethBergeson:📣STARTING NOW! #SmartToyAward...              2   \n",
       "1  RT @DeepLearn007:Leading Tech Trends 2021\\r\\n\\...            126   \n",
       "\n",
       "   favorite_count  reply_count  quote_count  topic  topic_count  \\\n",
       "0               0            0            0    186          153   \n",
       "1               0            0            0    186          153   \n",
       "\n",
       "                            profileUrl                  name  ...  \\\n",
       "0  https://twitter.com/KayFButterfield  KayFirth-Butterfield  ...   \n",
       "1      https://twitter.com/pierrepinna          Pinna Pierre  ...   \n",
       "\n",
       "              topic_keyword_11                        topic_keyword_12  \\\n",
       "0  ('ai', 0.02533194981053806)  ('leading tech', 0.024722970994140298)   \n",
       "1  ('ai', 0.02533194981053806)  ('leading tech', 0.024722970994140298)   \n",
       "\n",
       "                         topic_keyword_13  \\\n",
       "0  ('choose great', 0.024722970994140298)   \n",
       "1  ('choose great', 0.024722970994140298)   \n",
       "\n",
       "                       topic_keyword_14  \\\n",
       "0  ('great wine', 0.024722970994140298)   \n",
       "1  ('great wine', 0.024722970994140298)   \n",
       "\n",
       "                        topic_keyword_15  \\\n",
       "0  ('tech trends', 0.024722970994140298)   \n",
       "1  ('tech trends', 0.024722970994140298)   \n",
       "\n",
       "                                topic_keyword_16  \\\n",
       "0  ('intelligence movies', 0.024588839428707168)   \n",
       "1  ('intelligence movies', 0.024588839428707168)   \n",
       "\n",
       "                 topic_keyword_17                   topic_keyword_18  \\\n",
       "0  ('wine', 0.024252606974425835)  ('leading', 0.024165918247990883)   \n",
       "1  ('wine', 0.024252606974425835)  ('leading', 0.024165918247990883)   \n",
       "\n",
       "               topic_keyword_19                  topic_keyword_20  \n",
       "0  ('usa', 0.02414878068708062)  ('movies', 0.024140236513879545)  \n",
       "1  ('usa', 0.02414878068708062)  ('movies', 0.024140236513879545)  \n",
       "\n",
       "[2 rows x 30 columns]"
      ]
     },
     "execution_count": 4,
     "metadata": {},
     "output_type": "execute_result"
    }
   ],
   "source": [
    "exemplars_df = pd.read_csv(RESULTS_PATH / \"Topic Extraction - exemplars only.csv\")\n",
    "\n",
    "print(f\"Data size: {exemplars_df.shape}\\n\")\n",
    "exemplars_df.head(2)"
   ]
  },
  {
   "cell_type": "markdown",
   "metadata": {},
   "source": [
    "From the above quick exploratory data analysis, we have noticed no irregularity in the data in term of:\n",
    "- Missing data\n",
    "- Infinite values\n",
    "- redundant data\n",
    "\n",
    "The data is clean so we can proceed our analysis."
   ]
  },
  {
   "cell_type": "markdown",
   "metadata": {},
   "source": [
    "# STEP 1: Prepare the data"
   ]
  },
  {
   "cell_type": "code",
   "execution_count": 5,
   "metadata": {},
   "outputs": [
    {
     "name": "stdout",
     "output_type": "stream",
     "text": [
      "Data size: (336, 22)\n",
      "\n"
     ]
    },
    {
     "data": {
      "text/html": [
       "<div>\n",
       "<style scoped>\n",
       "    .dataframe tbody tr th:only-of-type {\n",
       "        vertical-align: middle;\n",
       "    }\n",
       "\n",
       "    .dataframe tbody tr th {\n",
       "        vertical-align: top;\n",
       "    }\n",
       "\n",
       "    .dataframe thead th {\n",
       "        text-align: right;\n",
       "    }\n",
       "</style>\n",
       "<table border=\"1\" class=\"dataframe\">\n",
       "  <thead>\n",
       "    <tr style=\"text-align: right;\">\n",
       "      <th></th>\n",
       "      <th>topic</th>\n",
       "      <th>topic_count</th>\n",
       "      <th>topic_keyword_1</th>\n",
       "      <th>topic_keyword_2</th>\n",
       "      <th>topic_keyword_3</th>\n",
       "      <th>topic_keyword_4</th>\n",
       "      <th>topic_keyword_5</th>\n",
       "      <th>topic_keyword_6</th>\n",
       "      <th>topic_keyword_7</th>\n",
       "      <th>topic_keyword_8</th>\n",
       "      <th>...</th>\n",
       "      <th>topic_keyword_11</th>\n",
       "      <th>topic_keyword_12</th>\n",
       "      <th>topic_keyword_13</th>\n",
       "      <th>topic_keyword_14</th>\n",
       "      <th>topic_keyword_15</th>\n",
       "      <th>topic_keyword_16</th>\n",
       "      <th>topic_keyword_17</th>\n",
       "      <th>topic_keyword_18</th>\n",
       "      <th>topic_keyword_19</th>\n",
       "      <th>topic_keyword_20</th>\n",
       "    </tr>\n",
       "  </thead>\n",
       "  <tbody>\n",
       "    <tr>\n",
       "      <th>0</th>\n",
       "      <td>186</td>\n",
       "      <td>153</td>\n",
       "      <td>('2021', 0.11518344111464827)</td>\n",
       "      <td>('trends', 0.06973633657430857)</td>\n",
       "      <td>('trends 2021', 0.04791319519051584)</td>\n",
       "      <td>('2021 ai', 0.041789472437149734)</td>\n",
       "      <td>('companies', 0.03782389258944172)</td>\n",
       "      <td>('watch 2021', 0.03740412879855314)</td>\n",
       "      <td>('watch', 0.03687575794795414)</td>\n",
       "      <td>('iot', 0.031124820300891674)</td>\n",
       "      <td>...</td>\n",
       "      <td>('ai', 0.02533194981053806)</td>\n",
       "      <td>('leading tech', 0.024722970994140298)</td>\n",
       "      <td>('choose great', 0.024722970994140298)</td>\n",
       "      <td>('great wine', 0.024722970994140298)</td>\n",
       "      <td>('tech trends', 0.024722970994140298)</td>\n",
       "      <td>('intelligence movies', 0.024588839428707168)</td>\n",
       "      <td>('wine', 0.024252606974425835)</td>\n",
       "      <td>('leading', 0.024165918247990883)</td>\n",
       "      <td>('usa', 0.02414878068708062)</td>\n",
       "      <td>('movies', 0.024140236513879545)</td>\n",
       "    </tr>\n",
       "    <tr>\n",
       "      <th>1</th>\n",
       "      <td>96</td>\n",
       "      <td>136</td>\n",
       "      <td>('security', 0.13334875147029324)</td>\n",
       "      <td>('cybersecurity', 0.06613946852875736)</td>\n",
       "      <td>('server', 0.04812775359226998)</td>\n",
       "      <td>('vulnerabilities', 0.04753864385244478)</td>\n",
       "      <td>('protect', 0.04664468941473375)</td>\n",
       "      <td>('security vulnerabilities', 0.03804328196636811)</td>\n",
       "      <td>('machinelearning security', 0.03804328196636811)</td>\n",
       "      <td>('report highlights', 0.03804328196636811)</td>\n",
       "      <td>...</td>\n",
       "      <td>('growing threat', 0.03804328196636811)</td>\n",
       "      <td>('web report', 0.03804328196636811)</td>\n",
       "      <td>('hackers', 0.03700637689061967)</td>\n",
       "      <td>('threat', 0.0366620556522023)</td>\n",
       "      <td>('highlights', 0.03660856377351593)</td>\n",
       "      <td>('cyber', 0.036009969037109894)</td>\n",
       "      <td>('web', 0.035272071778176234)</td>\n",
       "      <td>('report', 0.03361564675896366)</td>\n",
       "      <td>('growing', 0.03335609543508208)</td>\n",
       "      <td>('online', 0.03320985993021597)</td>\n",
       "    </tr>\n",
       "    <tr>\n",
       "      <th>2</th>\n",
       "      <td>112</td>\n",
       "      <td>132</td>\n",
       "      <td>('healthcare', 0.08062913143207898)</td>\n",
       "      <td>('ai', 0.05952155861485934)</td>\n",
       "      <td>('future', 0.058975517545946286)</td>\n",
       "      <td>('future ai', 0.049136348227743466)</td>\n",
       "      <td>('cancer', 0.04197501211933508)</td>\n",
       "      <td>('artificial intelligence', 0.037859947522765086)</td>\n",
       "      <td>('intelligence', 0.03716322363479036)</td>\n",
       "      <td>('artificial', 0.037041730134947215)</td>\n",
       "      <td>...</td>\n",
       "      <td>('doctor', 0.03409881855831573)</td>\n",
       "      <td>('disease', 0.0335395197066635)</td>\n",
       "      <td>('healthtech', 0.0332097995751255)</td>\n",
       "      <td>('drugs combat', 0.024660267842207345)</td>\n",
       "      <td>('bone', 0.024660267842207345)</td>\n",
       "      <td>('current drugs', 0.024660267842207345)</td>\n",
       "      <td>('paulapicc', 0.024660267842207345)</td>\n",
       "      <td>('intelligence improve', 0.024660267842207345)</td>\n",
       "      <td>('teach big', 0.024660267842207345)</td>\n",
       "      <td>('healthcare enzc', 0.024660267842207345)</td>\n",
       "    </tr>\n",
       "    <tr>\n",
       "      <th>3</th>\n",
       "      <td>22</td>\n",
       "      <td>129</td>\n",
       "      <td>('spacex', 0.08589130794119605)</td>\n",
       "      <td>('space', 0.08050827064759014)</td>\n",
       "      <td>('earth', 0.0730039525475797)</td>\n",
       "      <td>('moon', 0.061162312916090415)</td>\n",
       "      <td>('mission', 0.06107994265280764)</td>\n",
       "      <td>('view earth', 0.04893123080850168)</td>\n",
       "      <td>('captured', 0.04893123080850168)</td>\n",
       "      <td>('view', 0.045779234310052146)</td>\n",
       "      <td>...</td>\n",
       "      <td>('starlink', 0.034937815331619035)</td>\n",
       "      <td>('captured capsule', 0.034937815331619035)</td>\n",
       "      <td>('iss', 0.034937815331619035)</td>\n",
       "      <td>('space station', 0.034937815331619035)</td>\n",
       "      <td>('earth iss', 0.034937815331619035)</td>\n",
       "      <td>('clearest picture', 0.034937815331619035)</td>\n",
       "      <td>('clearest', 0.034937815331619035)</td>\n",
       "      <td>('space shuttle', 0.034937815331619035)</td>\n",
       "      <td>('station captured', 0.034937815331619035)</td>\n",
       "      <td>('international space', 0.034937815331619035)</td>\n",
       "    </tr>\n",
       "    <tr>\n",
       "      <th>4</th>\n",
       "      <td>329</td>\n",
       "      <td>117</td>\n",
       "      <td>('ama', 0.06914391674971687)</td>\n",
       "      <td>('05', 0.06495635291986186)</td>\n",
       "      <td>('average', 0.06380059646402073)</td>\n",
       "      <td>('called', 0.06354995794021061)</td>\n",
       "      <td>('rstats', 0.05819670264538107)</td>\n",
       "      <td>('today', 0.04850149381542877)</td>\n",
       "      <td>('great', 0.04480246824313703)</td>\n",
       "      <td>('continue south', 0.03879269368962269)</td>\n",
       "      <td>...</td>\n",
       "      <td>('mlb adley', 0.03879269368962269)</td>\n",
       "      <td>('validation playing', 0.03879269368962269)</td>\n",
       "      <td>('ama reddit', 0.03879269368962269)</td>\n",
       "      <td>('session animated', 0.03879269368962269)</td>\n",
       "      <td>('ama today', 0.03879269368962269)</td>\n",
       "      <td>('called monte', 0.03879269368962269)</td>\n",
       "      <td>('called trolling', 0.03879269368962269)</td>\n",
       "      <td>('chose rstats', 0.03879269368962269)</td>\n",
       "      <td>('kombucha taproom', 0.03879269368962269)</td>\n",
       "      <td>('sections', 0.03879269368962269)</td>\n",
       "    </tr>\n",
       "  </tbody>\n",
       "</table>\n",
       "<p>5 rows × 22 columns</p>\n",
       "</div>"
      ],
      "text/plain": [
       "   topic  topic_count                      topic_keyword_1  \\\n",
       "0    186          153        ('2021', 0.11518344111464827)   \n",
       "1     96          136    ('security', 0.13334875147029324)   \n",
       "2    112          132  ('healthcare', 0.08062913143207898)   \n",
       "3     22          129      ('spacex', 0.08589130794119605)   \n",
       "4    329          117         ('ama', 0.06914391674971687)   \n",
       "\n",
       "                          topic_keyword_2  \\\n",
       "0         ('trends', 0.06973633657430857)   \n",
       "1  ('cybersecurity', 0.06613946852875736)   \n",
       "2             ('ai', 0.05952155861485934)   \n",
       "3          ('space', 0.08050827064759014)   \n",
       "4             ('05', 0.06495635291986186)   \n",
       "\n",
       "                        topic_keyword_3  \\\n",
       "0  ('trends 2021', 0.04791319519051584)   \n",
       "1       ('server', 0.04812775359226998)   \n",
       "2      ('future', 0.058975517545946286)   \n",
       "3         ('earth', 0.0730039525475797)   \n",
       "4      ('average', 0.06380059646402073)   \n",
       "\n",
       "                            topic_keyword_4  \\\n",
       "0         ('2021 ai', 0.041789472437149734)   \n",
       "1  ('vulnerabilities', 0.04753864385244478)   \n",
       "2       ('future ai', 0.049136348227743466)   \n",
       "3            ('moon', 0.061162312916090415)   \n",
       "4           ('called', 0.06354995794021061)   \n",
       "\n",
       "                      topic_keyword_5  \\\n",
       "0  ('companies', 0.03782389258944172)   \n",
       "1    ('protect', 0.04664468941473375)   \n",
       "2     ('cancer', 0.04197501211933508)   \n",
       "3    ('mission', 0.06107994265280764)   \n",
       "4     ('rstats', 0.05819670264538107)   \n",
       "\n",
       "                                     topic_keyword_6  \\\n",
       "0                ('watch 2021', 0.03740412879855314)   \n",
       "1  ('security vulnerabilities', 0.03804328196636811)   \n",
       "2  ('artificial intelligence', 0.037859947522765086)   \n",
       "3                ('view earth', 0.04893123080850168)   \n",
       "4                     ('today', 0.04850149381542877)   \n",
       "\n",
       "                                     topic_keyword_7  \\\n",
       "0                     ('watch', 0.03687575794795414)   \n",
       "1  ('machinelearning security', 0.03804328196636811)   \n",
       "2              ('intelligence', 0.03716322363479036)   \n",
       "3                  ('captured', 0.04893123080850168)   \n",
       "4                     ('great', 0.04480246824313703)   \n",
       "\n",
       "                              topic_keyword_8  ...  \\\n",
       "0               ('iot', 0.031124820300891674)  ...   \n",
       "1  ('report highlights', 0.03804328196636811)  ...   \n",
       "2        ('artificial', 0.037041730134947215)  ...   \n",
       "3              ('view', 0.045779234310052146)  ...   \n",
       "4     ('continue south', 0.03879269368962269)  ...   \n",
       "\n",
       "                          topic_keyword_11  \\\n",
       "0              ('ai', 0.02533194981053806)   \n",
       "1  ('growing threat', 0.03804328196636811)   \n",
       "2          ('doctor', 0.03409881855831573)   \n",
       "3       ('starlink', 0.034937815331619035)   \n",
       "4       ('mlb adley', 0.03879269368962269)   \n",
       "\n",
       "                              topic_keyword_12  \\\n",
       "0       ('leading tech', 0.024722970994140298)   \n",
       "1          ('web report', 0.03804328196636811)   \n",
       "2              ('disease', 0.0335395197066635)   \n",
       "3   ('captured capsule', 0.034937815331619035)   \n",
       "4  ('validation playing', 0.03879269368962269)   \n",
       "\n",
       "                         topic_keyword_13  \\\n",
       "0  ('choose great', 0.024722970994140298)   \n",
       "1        ('hackers', 0.03700637689061967)   \n",
       "2      ('healthtech', 0.0332097995751255)   \n",
       "3           ('iss', 0.034937815331619035)   \n",
       "4     ('ama reddit', 0.03879269368962269)   \n",
       "\n",
       "                            topic_keyword_14  \\\n",
       "0       ('great wine', 0.024722970994140298)   \n",
       "1             ('threat', 0.0366620556522023)   \n",
       "2     ('drugs combat', 0.024660267842207345)   \n",
       "3    ('space station', 0.034937815331619035)   \n",
       "4  ('session animated', 0.03879269368962269)   \n",
       "\n",
       "                        topic_keyword_15  \\\n",
       "0  ('tech trends', 0.024722970994140298)   \n",
       "1    ('highlights', 0.03660856377351593)   \n",
       "2         ('bone', 0.024660267842207345)   \n",
       "3    ('earth iss', 0.034937815331619035)   \n",
       "4     ('ama today', 0.03879269368962269)   \n",
       "\n",
       "                                topic_keyword_16  \\\n",
       "0  ('intelligence movies', 0.024588839428707168)   \n",
       "1                ('cyber', 0.036009969037109894)   \n",
       "2        ('current drugs', 0.024660267842207345)   \n",
       "3     ('clearest picture', 0.034937815331619035)   \n",
       "4          ('called monte', 0.03879269368962269)   \n",
       "\n",
       "                           topic_keyword_17  \\\n",
       "0            ('wine', 0.024252606974425835)   \n",
       "1             ('web', 0.035272071778176234)   \n",
       "2       ('paulapicc', 0.024660267842207345)   \n",
       "3        ('clearest', 0.034937815331619035)   \n",
       "4  ('called trolling', 0.03879269368962269)   \n",
       "\n",
       "                                 topic_keyword_18  \\\n",
       "0               ('leading', 0.024165918247990883)   \n",
       "1                 ('report', 0.03361564675896366)   \n",
       "2  ('intelligence improve', 0.024660267842207345)   \n",
       "3         ('space shuttle', 0.034937815331619035)   \n",
       "4           ('chose rstats', 0.03879269368962269)   \n",
       "\n",
       "                             topic_keyword_19  \\\n",
       "0                ('usa', 0.02414878068708062)   \n",
       "1            ('growing', 0.03335609543508208)   \n",
       "2         ('teach big', 0.024660267842207345)   \n",
       "3  ('station captured', 0.034937815331619035)   \n",
       "4   ('kombucha taproom', 0.03879269368962269)   \n",
       "\n",
       "                                topic_keyword_20  \n",
       "0               ('movies', 0.024140236513879545)  \n",
       "1                ('online', 0.03320985993021597)  \n",
       "2      ('healthcare enzc', 0.024660267842207345)  \n",
       "3  ('international space', 0.034937815331619035)  \n",
       "4              ('sections', 0.03879269368962269)  \n",
       "\n",
       "[5 rows x 22 columns]"
      ]
     },
     "execution_count": 5,
     "metadata": {},
     "output_type": "execute_result"
    }
   ],
   "source": [
    "topics_cols = [c for c in df.columns if \"topic\" in c or \"keyword\" in c]\n",
    "topics_df = df[topics_cols].drop_duplicates(subset=[\"topic\"])\n",
    "topics_df = topics_df.reset_index(drop=True)\n",
    "\n",
    "print(f\"Data size: {topics_df.shape}\\n\")\n",
    "topics_df.head()"
   ]
  },
  {
   "cell_type": "code",
   "execution_count": 6,
   "metadata": {
    "tags": []
   },
   "outputs": [
    {
     "name": "stdout",
     "output_type": "stream",
     "text": [
      "Data size: (8079, 10)\n",
      "\n"
     ]
    },
    {
     "data": {
      "text/html": [
       "<div>\n",
       "<style scoped>\n",
       "    .dataframe tbody tr th:only-of-type {\n",
       "        vertical-align: middle;\n",
       "    }\n",
       "\n",
       "    .dataframe tbody tr th {\n",
       "        vertical-align: top;\n",
       "    }\n",
       "\n",
       "    .dataframe thead th {\n",
       "        text-align: right;\n",
       "    }\n",
       "</style>\n",
       "<table border=\"1\" class=\"dataframe\">\n",
       "  <thead>\n",
       "    <tr style=\"text-align: right;\">\n",
       "      <th></th>\n",
       "      <th>tweetLink</th>\n",
       "      <th>text</th>\n",
       "      <th>retweet_count</th>\n",
       "      <th>favorite_count</th>\n",
       "      <th>reply_count</th>\n",
       "      <th>quote_count</th>\n",
       "      <th>topic</th>\n",
       "      <th>topic_count</th>\n",
       "      <th>profileUrl</th>\n",
       "      <th>name</th>\n",
       "    </tr>\n",
       "  </thead>\n",
       "  <tbody>\n",
       "    <tr>\n",
       "      <th>0</th>\n",
       "      <td>https://twitter.com/YvesMulkers/status/1396799...</td>\n",
       "      <td>RT @CREWcrew:Mitch McConnell got $250,000 from...</td>\n",
       "      <td>1010</td>\n",
       "      <td>0</td>\n",
       "      <td>0</td>\n",
       "      <td>0</td>\n",
       "      <td>186</td>\n",
       "      <td>153</td>\n",
       "      <td>https://twitter.com/YvesMulkers</td>\n",
       "      <td>Yves Mulkers</td>\n",
       "    </tr>\n",
       "    <tr>\n",
       "      <th>1</th>\n",
       "      <td>https://twitter.com/data_nerd/status/139693655...</td>\n",
       "      <td>Madrona Venture Group’s Steve Singh on key tre...</td>\n",
       "      <td>0</td>\n",
       "      <td>0</td>\n",
       "      <td>0</td>\n",
       "      <td>0</td>\n",
       "      <td>186</td>\n",
       "      <td>153</td>\n",
       "      <td>https://twitter.com/data_nerd</td>\n",
       "      <td>Carla Gentry</td>\n",
       "    </tr>\n",
       "    <tr>\n",
       "      <th>2</th>\n",
       "      <td>https://twitter.com/TamaraMcCleary/status/1395...</td>\n",
       "      <td>2021 Internet Of Things 50: The Bright Lights ...</td>\n",
       "      <td>10</td>\n",
       "      <td>11</td>\n",
       "      <td>0</td>\n",
       "      <td>0</td>\n",
       "      <td>186</td>\n",
       "      <td>153</td>\n",
       "      <td>https://twitter.com/TamaraMcCleary</td>\n",
       "      <td>Tamara McCleary</td>\n",
       "    </tr>\n",
       "    <tr>\n",
       "      <th>3</th>\n",
       "      <td>https://twitter.com/data_nerd/status/139585064...</td>\n",
       "      <td>Top Companies 2021: The 50 best workplaces to ...</td>\n",
       "      <td>0</td>\n",
       "      <td>0</td>\n",
       "      <td>0</td>\n",
       "      <td>0</td>\n",
       "      <td>186</td>\n",
       "      <td>153</td>\n",
       "      <td>https://twitter.com/data_nerd</td>\n",
       "      <td>Carla Gentry</td>\n",
       "    </tr>\n",
       "    <tr>\n",
       "      <th>4</th>\n",
       "      <td>https://twitter.com/Ronald_vanLoon/status/1396...</td>\n",
       "      <td>Whoever Leads In #ArtificialIntelligence In 20...</td>\n",
       "      <td>7</td>\n",
       "      <td>5</td>\n",
       "      <td>0</td>\n",
       "      <td>1</td>\n",
       "      <td>186</td>\n",
       "      <td>153</td>\n",
       "      <td>https://twitter.com/Ronald_vanLoon</td>\n",
       "      <td>Ronald van Loon</td>\n",
       "    </tr>\n",
       "  </tbody>\n",
       "</table>\n",
       "</div>"
      ],
      "text/plain": [
       "                                           tweetLink  \\\n",
       "0  https://twitter.com/YvesMulkers/status/1396799...   \n",
       "1  https://twitter.com/data_nerd/status/139693655...   \n",
       "2  https://twitter.com/TamaraMcCleary/status/1395...   \n",
       "3  https://twitter.com/data_nerd/status/139585064...   \n",
       "4  https://twitter.com/Ronald_vanLoon/status/1396...   \n",
       "\n",
       "                                                text  retweet_count  \\\n",
       "0  RT @CREWcrew:Mitch McConnell got $250,000 from...           1010   \n",
       "1  Madrona Venture Group’s Steve Singh on key tre...              0   \n",
       "2  2021 Internet Of Things 50: The Bright Lights ...             10   \n",
       "3  Top Companies 2021: The 50 best workplaces to ...              0   \n",
       "4  Whoever Leads In #ArtificialIntelligence In 20...              7   \n",
       "\n",
       "   favorite_count  reply_count  quote_count  topic  topic_count  \\\n",
       "0               0            0            0    186          153   \n",
       "1               0            0            0    186          153   \n",
       "2              11            0            0    186          153   \n",
       "3               0            0            0    186          153   \n",
       "4               5            0            1    186          153   \n",
       "\n",
       "                           profileUrl             name  \n",
       "0     https://twitter.com/YvesMulkers     Yves Mulkers  \n",
       "1       https://twitter.com/data_nerd     Carla Gentry  \n",
       "2  https://twitter.com/TamaraMcCleary  Tamara McCleary  \n",
       "3       https://twitter.com/data_nerd     Carla Gentry  \n",
       "4  https://twitter.com/Ronald_vanLoon  Ronald van Loon  "
      ]
     },
     "execution_count": 6,
     "metadata": {},
     "output_type": "execute_result"
    }
   ],
   "source": [
    "cols = [c for c in df.columns if \"keyword\" not in c and \"proba\" not in c]\n",
    "df = df[cols].drop_duplicates(subset=[\"tweetLink\"])\n",
    "df = df.reset_index(drop=True)\n",
    "\n",
    "print(f\"Data size: {df.shape}\\n\")\n",
    "df.head()"
   ]
  },
  {
   "cell_type": "markdown",
   "metadata": {},
   "source": [
    "# STEP 3: Atoti's magic!\n",
    "In this part, we leverage the power of Atoti to post-process the results in order to produce some insights."
   ]
  },
  {
   "cell_type": "markdown",
   "metadata": {},
   "source": [
    "## Atoti cube creation  \n",
    "\n",
    "We have a simple cube that holds a single data table. Let's call it influencer_table."
   ]
  },
  {
   "cell_type": "code",
   "execution_count": 7,
   "metadata": {},
   "outputs": [],
   "source": [
    "# a session has to be created for atoti\n",
    "session = tt.Session()"
   ]
  },
  {
   "cell_type": "code",
   "execution_count": 8,
   "metadata": {},
   "outputs": [
    {
     "data": {
      "text/html": [
       "<div>\n",
       "<style scoped>\n",
       "    .dataframe tbody tr th:only-of-type {\n",
       "        vertical-align: middle;\n",
       "    }\n",
       "\n",
       "    .dataframe tbody tr th {\n",
       "        vertical-align: top;\n",
       "    }\n",
       "\n",
       "    .dataframe thead th {\n",
       "        text-align: right;\n",
       "    }\n",
       "</style>\n",
       "<table border=\"1\" class=\"dataframe\">\n",
       "  <thead>\n",
       "    <tr style=\"text-align: right;\">\n",
       "      <th></th>\n",
       "      <th>tweetLink</th>\n",
       "      <th>text</th>\n",
       "      <th>retweet_count</th>\n",
       "      <th>favorite_count</th>\n",
       "      <th>reply_count</th>\n",
       "      <th>quote_count</th>\n",
       "      <th>topic</th>\n",
       "      <th>topic_count</th>\n",
       "      <th>profileUrl</th>\n",
       "      <th>name</th>\n",
       "    </tr>\n",
       "  </thead>\n",
       "  <tbody>\n",
       "    <tr>\n",
       "      <th>0</th>\n",
       "      <td>https://twitter.com/YvesMulkers/status/1396799...</td>\n",
       "      <td>RT @CREWcrew:Mitch McConnell got $250,000 from...</td>\n",
       "      <td>1010</td>\n",
       "      <td>0</td>\n",
       "      <td>0</td>\n",
       "      <td>0</td>\n",
       "      <td>186</td>\n",
       "      <td>153</td>\n",
       "      <td>https://twitter.com/YvesMulkers</td>\n",
       "      <td>Yves Mulkers</td>\n",
       "    </tr>\n",
       "    <tr>\n",
       "      <th>1</th>\n",
       "      <td>https://twitter.com/data_nerd/status/139693655...</td>\n",
       "      <td>Madrona Venture Group’s Steve Singh on key tre...</td>\n",
       "      <td>0</td>\n",
       "      <td>0</td>\n",
       "      <td>0</td>\n",
       "      <td>0</td>\n",
       "      <td>186</td>\n",
       "      <td>153</td>\n",
       "      <td>https://twitter.com/data_nerd</td>\n",
       "      <td>Carla Gentry</td>\n",
       "    </tr>\n",
       "    <tr>\n",
       "      <th>2</th>\n",
       "      <td>https://twitter.com/TamaraMcCleary/status/1395...</td>\n",
       "      <td>2021 Internet Of Things 50: The Bright Lights ...</td>\n",
       "      <td>10</td>\n",
       "      <td>11</td>\n",
       "      <td>0</td>\n",
       "      <td>0</td>\n",
       "      <td>186</td>\n",
       "      <td>153</td>\n",
       "      <td>https://twitter.com/TamaraMcCleary</td>\n",
       "      <td>Tamara McCleary</td>\n",
       "    </tr>\n",
       "    <tr>\n",
       "      <th>3</th>\n",
       "      <td>https://twitter.com/data_nerd/status/139585064...</td>\n",
       "      <td>Top Companies 2021: The 50 best workplaces to ...</td>\n",
       "      <td>0</td>\n",
       "      <td>0</td>\n",
       "      <td>0</td>\n",
       "      <td>0</td>\n",
       "      <td>186</td>\n",
       "      <td>153</td>\n",
       "      <td>https://twitter.com/data_nerd</td>\n",
       "      <td>Carla Gentry</td>\n",
       "    </tr>\n",
       "    <tr>\n",
       "      <th>4</th>\n",
       "      <td>https://twitter.com/Ronald_vanLoon/status/1396...</td>\n",
       "      <td>Whoever Leads In #ArtificialIntelligence In 20...</td>\n",
       "      <td>7</td>\n",
       "      <td>5</td>\n",
       "      <td>0</td>\n",
       "      <td>1</td>\n",
       "      <td>186</td>\n",
       "      <td>153</td>\n",
       "      <td>https://twitter.com/Ronald_vanLoon</td>\n",
       "      <td>Ronald van Loon</td>\n",
       "    </tr>\n",
       "  </tbody>\n",
       "</table>\n",
       "</div>"
      ],
      "text/plain": [
       "                                           tweetLink  \\\n",
       "0  https://twitter.com/YvesMulkers/status/1396799...   \n",
       "1  https://twitter.com/data_nerd/status/139693655...   \n",
       "2  https://twitter.com/TamaraMcCleary/status/1395...   \n",
       "3  https://twitter.com/data_nerd/status/139585064...   \n",
       "4  https://twitter.com/Ronald_vanLoon/status/1396...   \n",
       "\n",
       "                                                text  retweet_count  \\\n",
       "0  RT @CREWcrew:Mitch McConnell got $250,000 from...           1010   \n",
       "1  Madrona Venture Group’s Steve Singh on key tre...              0   \n",
       "2  2021 Internet Of Things 50: The Bright Lights ...             10   \n",
       "3  Top Companies 2021: The 50 best workplaces to ...              0   \n",
       "4  Whoever Leads In #ArtificialIntelligence In 20...              7   \n",
       "\n",
       "   favorite_count  reply_count  quote_count  topic  topic_count  \\\n",
       "0               0            0            0    186          153   \n",
       "1               0            0            0    186          153   \n",
       "2              11            0            0    186          153   \n",
       "3               0            0            0    186          153   \n",
       "4               5            0            1    186          153   \n",
       "\n",
       "                           profileUrl             name  \n",
       "0     https://twitter.com/YvesMulkers     Yves Mulkers  \n",
       "1       https://twitter.com/data_nerd     Carla Gentry  \n",
       "2  https://twitter.com/TamaraMcCleary  Tamara McCleary  \n",
       "3       https://twitter.com/data_nerd     Carla Gentry  \n",
       "4  https://twitter.com/Ronald_vanLoon  Ronald van Loon  "
      ]
     },
     "execution_count": 8,
     "metadata": {},
     "output_type": "execute_result"
    }
   ],
   "source": [
    "influencer_table = session.read_pandas(df, table_name=\"influencer\")\n",
    "influencer_table.head()"
   ]
  },
  {
   "cell_type": "code",
   "execution_count": 9,
   "metadata": {},
   "outputs": [],
   "source": [
    "cube = session.create_cube(influencer_table, \"influencer_cube\", mode=\"no_measures\")\n",
    "\n",
    "h, m, l = cube.hierarchies, cube.measures, cube.levels"
   ]
  },
  {
   "cell_type": "code",
   "execution_count": 10,
   "metadata": {},
   "outputs": [
    {
     "data": {
      "image/svg+xml": [
       "<svg xmlns=\"http://www.w3.org/2000/svg\" xmlns:xlink=\"http://www.w3.org/1999/xlink\" width=\"166px\" height=\"282px\" viewBox=\"0.00 0.00 166.00 282.00\">\n",
       "<g id=\"graph0\" class=\"graph\" transform=\"scale(1.0 1.0) rotate(0) translate(4 278)\">\n",
       "<title>influencer_cube schema</title>\n",
       "<polygon fill=\"white\" stroke=\"transparent\" points=\"-4,4 -4,-278 162,-278 162,4 -4,4\"/>\n",
       "<!-- influencer -->\n",
       "<g id=\"node1\" class=\"node\">\n",
       "<title>influencer</title>\n",
       "<text text-anchor=\"start\" x=\"50\" y=\"-254.6\" font-family=\"-apple-system, BlinkMacSystemFont, 'Segoe UI', Helvetica, Arial, sans-serif, 'Apple Color Emoji', 'Segoe UI Emoji', 'Segoe UI Symbol'\" font-weight=\"bold\" font-size=\"13.00\">influencer</text>\n",
       "<polygon fill=\"#f5f5f5\" stroke=\"transparent\" points=\"9,-221 9,-245 19,-245 19,-221 9,-221\"/>\n",
       "<polygon fill=\"#f5f5f5\" stroke=\"transparent\" points=\"19,-221 19,-245 106,-245 106,-221 19,-221\"/>\n",
       "<text text-anchor=\"start\" x=\"24\" y=\"-229.6\" font-family=\"-apple-system, BlinkMacSystemFont, 'Segoe UI', Helvetica, Arial, sans-serif, 'Apple Color Emoji', 'Segoe UI Emoji', 'Segoe UI Symbol'\" font-size=\"13.00\">tweetLink</text>\n",
       "<polygon fill=\"#f5f5f5\" stroke=\"transparent\" points=\"106,-221 106,-245 149,-245 149,-221 106,-221\"/>\n",
       "<text text-anchor=\"start\" x=\"111\" y=\"-230.6\" font-family=\"-apple-system, BlinkMacSystemFont, 'Segoe UI', Helvetica, Arial, sans-serif, 'Apple Color Emoji', 'Segoe UI Emoji', 'Segoe UI Symbol'\" font-style=\"italic\" font-size=\"13.00\">String</text>\n",
       "<polygon fill=\"#ffffff\" stroke=\"transparent\" points=\"9,-197 9,-221 19,-221 19,-197 9,-197\"/>\n",
       "<polygon fill=\"#ffffff\" stroke=\"transparent\" points=\"19,-197 19,-221 106,-221 106,-197 19,-197\"/>\n",
       "<text text-anchor=\"start\" x=\"24\" y=\"-205.6\" font-family=\"-apple-system, BlinkMacSystemFont, 'Segoe UI', Helvetica, Arial, sans-serif, 'Apple Color Emoji', 'Segoe UI Emoji', 'Segoe UI Symbol'\" font-size=\"13.00\">text</text>\n",
       "<polygon fill=\"#ffffff\" stroke=\"transparent\" points=\"106,-197 106,-221 149,-221 149,-197 106,-197\"/>\n",
       "<text text-anchor=\"start\" x=\"111\" y=\"-206.6\" font-family=\"-apple-system, BlinkMacSystemFont, 'Segoe UI', Helvetica, Arial, sans-serif, 'Apple Color Emoji', 'Segoe UI Emoji', 'Segoe UI Symbol'\" font-style=\"italic\" font-size=\"13.00\">String</text>\n",
       "<polygon fill=\"#f5f5f5\" stroke=\"transparent\" points=\"9,-173 9,-197 19,-197 19,-173 9,-173\"/>\n",
       "<polygon fill=\"#f5f5f5\" stroke=\"transparent\" points=\"19,-173 19,-197 106,-197 106,-173 19,-173\"/>\n",
       "<text text-anchor=\"start\" x=\"24\" y=\"-181.6\" font-family=\"-apple-system, BlinkMacSystemFont, 'Segoe UI', Helvetica, Arial, sans-serif, 'Apple Color Emoji', 'Segoe UI Emoji', 'Segoe UI Symbol'\" font-size=\"13.00\">retweet_count</text>\n",
       "<polygon fill=\"#f5f5f5\" stroke=\"transparent\" points=\"106,-173 106,-197 149,-197 149,-173 106,-173\"/>\n",
       "<text text-anchor=\"start\" x=\"121\" y=\"-182.6\" font-family=\"-apple-system, BlinkMacSystemFont, 'Segoe UI', Helvetica, Arial, sans-serif, 'Apple Color Emoji', 'Segoe UI Emoji', 'Segoe UI Symbol'\" font-style=\"italic\" font-size=\"13.00\">long</text>\n",
       "<polygon fill=\"#ffffff\" stroke=\"transparent\" points=\"9,-149 9,-173 19,-173 19,-149 9,-149\"/>\n",
       "<polygon fill=\"#ffffff\" stroke=\"transparent\" points=\"19,-149 19,-173 106,-173 106,-149 19,-149\"/>\n",
       "<text text-anchor=\"start\" x=\"24\" y=\"-157.6\" font-family=\"-apple-system, BlinkMacSystemFont, 'Segoe UI', Helvetica, Arial, sans-serif, 'Apple Color Emoji', 'Segoe UI Emoji', 'Segoe UI Symbol'\" font-size=\"13.00\">favorite_count</text>\n",
       "<polygon fill=\"#ffffff\" stroke=\"transparent\" points=\"106,-149 106,-173 149,-173 149,-149 106,-149\"/>\n",
       "<text text-anchor=\"start\" x=\"121\" y=\"-158.6\" font-family=\"-apple-system, BlinkMacSystemFont, 'Segoe UI', Helvetica, Arial, sans-serif, 'Apple Color Emoji', 'Segoe UI Emoji', 'Segoe UI Symbol'\" font-style=\"italic\" font-size=\"13.00\">long</text>\n",
       "<polygon fill=\"#f5f5f5\" stroke=\"transparent\" points=\"9,-125 9,-149 19,-149 19,-125 9,-125\"/>\n",
       "<polygon fill=\"#f5f5f5\" stroke=\"transparent\" points=\"19,-125 19,-149 106,-149 106,-125 19,-125\"/>\n",
       "<text text-anchor=\"start\" x=\"24\" y=\"-133.6\" font-family=\"-apple-system, BlinkMacSystemFont, 'Segoe UI', Helvetica, Arial, sans-serif, 'Apple Color Emoji', 'Segoe UI Emoji', 'Segoe UI Symbol'\" font-size=\"13.00\">reply_count</text>\n",
       "<polygon fill=\"#f5f5f5\" stroke=\"transparent\" points=\"106,-125 106,-149 149,-149 149,-125 106,-125\"/>\n",
       "<text text-anchor=\"start\" x=\"121\" y=\"-134.6\" font-family=\"-apple-system, BlinkMacSystemFont, 'Segoe UI', Helvetica, Arial, sans-serif, 'Apple Color Emoji', 'Segoe UI Emoji', 'Segoe UI Symbol'\" font-style=\"italic\" font-size=\"13.00\">long</text>\n",
       "<polygon fill=\"#ffffff\" stroke=\"transparent\" points=\"9,-101 9,-125 19,-125 19,-101 9,-101\"/>\n",
       "<polygon fill=\"#ffffff\" stroke=\"transparent\" points=\"19,-101 19,-125 106,-125 106,-101 19,-101\"/>\n",
       "<text text-anchor=\"start\" x=\"24\" y=\"-109.6\" font-family=\"-apple-system, BlinkMacSystemFont, 'Segoe UI', Helvetica, Arial, sans-serif, 'Apple Color Emoji', 'Segoe UI Emoji', 'Segoe UI Symbol'\" font-size=\"13.00\">quote_count</text>\n",
       "<polygon fill=\"#ffffff\" stroke=\"transparent\" points=\"106,-101 106,-125 149,-125 149,-101 106,-101\"/>\n",
       "<text text-anchor=\"start\" x=\"121\" y=\"-110.6\" font-family=\"-apple-system, BlinkMacSystemFont, 'Segoe UI', Helvetica, Arial, sans-serif, 'Apple Color Emoji', 'Segoe UI Emoji', 'Segoe UI Symbol'\" font-style=\"italic\" font-size=\"13.00\">long</text>\n",
       "<polygon fill=\"#f5f5f5\" stroke=\"transparent\" points=\"9,-77 9,-101 19,-101 19,-77 9,-77\"/>\n",
       "<polygon fill=\"#f5f5f5\" stroke=\"transparent\" points=\"19,-77 19,-101 106,-101 106,-77 19,-77\"/>\n",
       "<text text-anchor=\"start\" x=\"24\" y=\"-85.6\" font-family=\"-apple-system, BlinkMacSystemFont, 'Segoe UI', Helvetica, Arial, sans-serif, 'Apple Color Emoji', 'Segoe UI Emoji', 'Segoe UI Symbol'\" font-size=\"13.00\">topic</text>\n",
       "<polygon fill=\"#f5f5f5\" stroke=\"transparent\" points=\"106,-77 106,-101 149,-101 149,-77 106,-77\"/>\n",
       "<text text-anchor=\"start\" x=\"121\" y=\"-86.6\" font-family=\"-apple-system, BlinkMacSystemFont, 'Segoe UI', Helvetica, Arial, sans-serif, 'Apple Color Emoji', 'Segoe UI Emoji', 'Segoe UI Symbol'\" font-style=\"italic\" font-size=\"13.00\">long</text>\n",
       "<polygon fill=\"#ffffff\" stroke=\"transparent\" points=\"9,-53 9,-77 19,-77 19,-53 9,-53\"/>\n",
       "<polygon fill=\"#ffffff\" stroke=\"transparent\" points=\"19,-53 19,-77 106,-77 106,-53 19,-53\"/>\n",
       "<text text-anchor=\"start\" x=\"24\" y=\"-61.6\" font-family=\"-apple-system, BlinkMacSystemFont, 'Segoe UI', Helvetica, Arial, sans-serif, 'Apple Color Emoji', 'Segoe UI Emoji', 'Segoe UI Symbol'\" font-size=\"13.00\">topic_count</text>\n",
       "<polygon fill=\"#ffffff\" stroke=\"transparent\" points=\"106,-53 106,-77 149,-77 149,-53 106,-53\"/>\n",
       "<text text-anchor=\"start\" x=\"121\" y=\"-62.6\" font-family=\"-apple-system, BlinkMacSystemFont, 'Segoe UI', Helvetica, Arial, sans-serif, 'Apple Color Emoji', 'Segoe UI Emoji', 'Segoe UI Symbol'\" font-style=\"italic\" font-size=\"13.00\">long</text>\n",
       "<polygon fill=\"#f5f5f5\" stroke=\"transparent\" points=\"9,-29 9,-53 19,-53 19,-29 9,-29\"/>\n",
       "<polygon fill=\"#f5f5f5\" stroke=\"transparent\" points=\"19,-29 19,-53 106,-53 106,-29 19,-29\"/>\n",
       "<text text-anchor=\"start\" x=\"24\" y=\"-37.6\" font-family=\"-apple-system, BlinkMacSystemFont, 'Segoe UI', Helvetica, Arial, sans-serif, 'Apple Color Emoji', 'Segoe UI Emoji', 'Segoe UI Symbol'\" font-size=\"13.00\">profileUrl</text>\n",
       "<polygon fill=\"#f5f5f5\" stroke=\"transparent\" points=\"106,-29 106,-53 149,-53 149,-29 106,-29\"/>\n",
       "<text text-anchor=\"start\" x=\"111\" y=\"-38.6\" font-family=\"-apple-system, BlinkMacSystemFont, 'Segoe UI', Helvetica, Arial, sans-serif, 'Apple Color Emoji', 'Segoe UI Emoji', 'Segoe UI Symbol'\" font-style=\"italic\" font-size=\"13.00\">String</text>\n",
       "<polygon fill=\"#ffffff\" stroke=\"transparent\" points=\"9,-5 9,-29 19,-29 19,-5 9,-5\"/>\n",
       "<polygon fill=\"#ffffff\" stroke=\"transparent\" points=\"19,-5 19,-29 106,-29 106,-5 19,-5\"/>\n",
       "<text text-anchor=\"start\" x=\"24\" y=\"-13.6\" font-family=\"-apple-system, BlinkMacSystemFont, 'Segoe UI', Helvetica, Arial, sans-serif, 'Apple Color Emoji', 'Segoe UI Emoji', 'Segoe UI Symbol'\" font-size=\"13.00\">name</text>\n",
       "<polygon fill=\"#ffffff\" stroke=\"transparent\" points=\"106,-5 106,-29 149,-29 149,-5 106,-5\"/>\n",
       "<text text-anchor=\"start\" x=\"111\" y=\"-14.6\" font-family=\"-apple-system, BlinkMacSystemFont, 'Segoe UI', Helvetica, Arial, sans-serif, 'Apple Color Emoji', 'Segoe UI Emoji', 'Segoe UI Symbol'\" font-style=\"italic\" font-size=\"13.00\">String</text>\n",
       "<polygon fill=\"none\" stroke=\"black\" points=\"8,-4 8,-270 150,-270 150,-4 8,-4\"/>\n",
       "</g>\n",
       "</g>\n",
       "</svg>"
      ],
      "text/plain": [
       "<IPython.core.display.SVG object>"
      ]
     },
     "execution_count": 10,
     "metadata": {},
     "output_type": "execute_result"
    }
   ],
   "source": [
    "cube.schema"
   ]
  },
  {
   "cell_type": "markdown",
   "metadata": {},
   "source": [
    "## Create measures\n",
    "Here, we create the following measures for our analysis:\n",
    "\n",
    "- The mean number of replies per tweet\n",
    "- The mean number of retweets and quotes per tweet\n",
    "- The mean number of likes per tweet\n",
    "\n",
    "We also consider their overall mean over all the influencers."
   ]
  },
  {
   "cell_type": "code",
   "execution_count": 11,
   "metadata": {},
   "outputs": [],
   "source": [
    "m[\"replies\"] = tt.agg.mean(influencer_table[\"reply_count\"])\n",
    "m[\"retweets_quotes\"] = tt.agg.mean(\n",
    "    influencer_table[\"retweet_count\"] + influencer_table[\"quote_count\"]\n",
    ")\n",
    "m[\"likes\"] = tt.agg.mean(influencer_table[\"favorite_count\"])\n",
    "\n",
    "m[\"replies_mean\"] = tt.total(m[\"replies\"], h[\"name\"])\n",
    "m[\"retweets_quotes_mean\"] = tt.total(m[\"retweets_quotes\"], h[\"name\"])\n",
    "m[\"likes_mean\"] = tt.total(m[\"likes\"], h[\"name\"])"
   ]
  },
  {
   "cell_type": "markdown",
   "metadata": {},
   "source": [
    "We format de created measure"
   ]
  },
  {
   "cell_type": "code",
   "execution_count": 12,
   "metadata": {},
   "outputs": [],
   "source": [
    "m[\"replies\"].formatter = \"DOUBLE[#,###.00]\"\n",
    "m[\"retweets_quotes\"].formatter = \"DOUBLE[#,###.00]\"\n",
    "m[\"likes\"].formatter = \"DOUBLE[#,###.00]\"\n",
    "m[\"replies_mean\"].formatter = \"DOUBLE[#,###.00]\"\n",
    "m[\"retweets_quotes_mean\"].formatter = \"DOUBLE[#,###.00]\"\n",
    "m[\"likes_mean\"].formatter = \"DOUBLE[#,###.00]\""
   ]
  },
  {
   "cell_type": "markdown",
   "metadata": {},
   "source": [
    "## Create hierarchies"
   ]
  },
  {
   "cell_type": "code",
   "execution_count": 13,
   "metadata": {},
   "outputs": [],
   "source": [
    "h[\"topic\"] = [influencer_table[\"topic\"]]"
   ]
  },
  {
   "cell_type": "markdown",
   "metadata": {},
   "source": [
    "## Visualize insights\n",
    "Here, we create the following visualizations to present our results:"
   ]
  },
  {
   "cell_type": "markdown",
   "metadata": {},
   "source": [
    "#### Top 10 influencers - Number of replies, retweets and quotes, and likes per tweets"
   ]
  },
  {
   "cell_type": "code",
   "execution_count": 14,
   "metadata": {
    "atoti": {
     "widget": {
      "mapping": {
       "columns": [
        "ALL_MEASURES"
       ],
       "measures": [
        "[Measures].[replies]",
        "[Measures].[retweets_quotes]",
        "[Measures].[likes]",
        "[Measures].[contributors.COUNT]"
       ],
       "rows": [
        "[influencer].[name].[name]"
       ]
      },
      "query": {
       "mdx": "SELECT NON EMPTY Order(Hierarchize(Descendants({[influencer].[name].[AllMember]}, 1, SELF_AND_BEFORE)), [Measures].[contributors.COUNT], DESC) ON ROWS, NON EMPTY {[Measures].[replies], [Measures].[retweets_quotes], [Measures].[likes], [Measures].[contributors.COUNT]} ON COLUMNS FROM [influencer_cube] CELL PROPERTIES VALUE, FORMATTED_VALUE, BACK_COLOR, FORE_COLOR, FONT_FLAGS",
       "updateMode": "once"
      },
      "serverKey": "default",
      "widgetKey": "pivot-table"
     }
    },
    "tags": []
   },
   "outputs": [
    {
     "data": {
      "application/vnd.atoti.widget.v0+json": {
       "name": "Top 10 influencers - Number of replies, retweets and quotes, and likes per tweets",
       "sessionId": "1648807225_BF0YEB",
       "sessionLocation": {
        "https": null,
        "port": 61470
       },
       "widgetCreationCode": "session.visualize()"
      },
      "text/html": [
       "<img src=\"data:image/svg+xml;charset=utf8,%3C%3Fxml%20version%3D%221.0%22%20standalone%3D%22no%22%3F%3E%3Csvg%20xmlns%3D%22http%3A%2F%2Fwww.w3.org%2F2000%2Fsvg%22%20height%3D%22352%22%20width%3D%22967%22%3E%3CforeignObject%20width%3D%22100%25%22%20height%3D%22100%25%22%20x%3D%220%22%20y%3D%220%22%3E%3Cstyle%20xmlns%3D%22http%3A%2F%2Fwww.w3.org%2F1999%2Fxhtml%22%20type%3D%22text%2Fcss%22%3E*%2C%20%3A%3Abefore%2C%20%3A%3Aafter%20%7Bbox-sizing%3A%20unset%7D%0A.ant-root%20%5Bclass%5E%3D%22ant-%22%5D%2C%20.ant-root%20%5Bclass*%3D%22ant-%22%5D%2C%20.ant-root%20%5Bclass%5E%3D%22ant-%22%5D%20*%2C%20.ant-root%20%5Bclass*%3D%22ant-%22%5D%20*%2C%20.ant-root%20%5Bclass%5E%3D%22ant-%22%5D%20%3A%3Abefore%2C%20.ant-root%20%5Bclass*%3D%22ant-%22%5D%20%3A%3Abefore%2C%20.ant-root%20%5Bclass%5E%3D%22ant-%22%5D%20%3A%3Aafter%2C%20.ant-root%20%5Bclass*%3D%22ant-%22%5D%20%3A%3Aafter%20%7Bbox-sizing%3A%20border-box%7D%0A.ant-root%20html%2C%20.ant-root%20%7Bwidth%3A%20100%25%3B%20height%3A%20100%25%7D%0A.ant-root%20*%2C%20.ant-root%20%3A%3Abefore%2C%20.ant-root%20%3A%3Aafter%20%7Bbox-sizing%3A%20border-box%7D%0A.ant-root%20%7Bmargin-top%3A%200px%3B%20margin-right%3A%200px%3B%20margin-bottom%3A%200px%3B%20margin-left%3A%200px%3B%20color%3A%20rgb(89%2C%2089%2C%2089)%3B%20font-size%3A%2012px%3B%20font-family%3A%20-apple-system%2C%20BlinkMacSystemFont%2C%20%22Segoe%20UI%22%2C%20Roboto%2C%20%22Helvetica%20Neue%22%2C%20Arial%2C%20%22Noto%20Sans%22%2C%20sans-serif%2C%20%22Apple%20Color%20Emoji%22%2C%20%22Segoe%20UI%20Emoji%22%2C%20%22Segoe%20UI%20Symbol%22%2C%20%22Noto%20Color%20Emoji%22%3B%20font-variant-ligatures%3A%20normal%3B%20font-variant-numeric%3A%20tabular-nums%3B%20font-variant-east-asian%3A%20normal%3B%20font-variant-caps%3A%20normal%3B%20line-height%3A%201.66667%3B%20background-color%3A%20rgb(255%2C%20255%2C%20255)%3B%20--antd-wave-shadow-color%3A%20%20%231890FF%3B%20--scroll-bar%3A%20%200%7D%0A.ant-root%20svg%3Anot(%3Aroot)%20%7Boverflow-x%3A%20hidden%3B%20overflow-y%3A%20hidden%7D%0A.ant-root%20.ant-spin%20%7Bbox-sizing%3A%20border-box%3B%20margin-top%3A%200px%3B%20margin-right%3A%200px%3B%20margin-bottom%3A%200px%3B%20margin-left%3A%200px%3B%20padding-top%3A%200px%3B%20padding-right%3A%200px%3B%20padding-bottom%3A%200px%3B%20padding-left%3A%200px%3B%20font-size%3A%2012px%3B%20font-variant-ligatures%3A%20normal%3B%20font-variant-numeric%3A%20tabular-nums%3B%20font-variant-east-asian%3A%20normal%3B%20font-variant-caps%3A%20normal%3B%20line-height%3A%201.66667%3B%20list-style-position%3A%20initial%3B%20list-style-image%3A%20initial%3B%20list-style-type%3A%20none%3B%20position%3A%20absolute%3B%20display%3A%20none%3B%20color%3A%20rgb(24%2C%20144%2C%20255)%3B%20text-align%3A%20center%3B%20vertical-align%3A%20middle%3B%20opacity%3A%200%3B%20transition-duration%3A%200.3s%3B%20transition-timing-function%3A%20cubic-bezier(0.78%2C%200.14%2C%200.15%2C%200.86)%3B%20transition-delay%3A%200s%3B%20transition-property%3A%20transform%7D%0A.ant-root%20.ant-spin-spinning%20%7Bposition%3A%20static%3B%20display%3A%20inline-block%3B%20opacity%3A%201%7D%0A.ant-root%20.ant-spin-dot%20%7Bposition%3A%20relative%3B%20display%3A%20inline-block%3B%20font-size%3A%2020px%3B%20width%3A%201em%3B%20height%3A%201em%7D%0A.ant-root%20.ant-spin-dot-item%20%7Bposition%3A%20absolute%3B%20display%3A%20block%3B%20width%3A%209px%3B%20height%3A%209px%3B%20background-color%3A%20rgb(24%2C%20144%2C%20255)%3B%20border-top-left-radius%3A%20100%25%3B%20border-top-right-radius%3A%20100%25%3B%20border-bottom-right-radius%3A%20100%25%3B%20border-bottom-left-radius%3A%20100%25%3B%20transform%3A%20scale(0.75)%3B%20transform-origin%3A%2050%25%2050%25%3B%20opacity%3A%200.3%3B%20animation-duration%3A%201s%3B%20animation-timing-function%3A%20linear%3B%20animation-delay%3A%200s%3B%20animation-iteration-count%3A%20infinite%3B%20animation-direction%3A%20alternate%3B%20animation-fill-mode%3A%20none%3B%20animation-play-state%3A%20running%3B%20animation-name%3A%20antSpinMove%7D%0A.ant-root%20.ant-spin-dot-item%3Anth-child(1)%20%7Btop%3A%200px%3B%20left%3A%200px%7D%0A.ant-root%20.ant-spin-dot-item%3Anth-child(2)%20%7Btop%3A%200px%3B%20right%3A%200px%3B%20animation-delay%3A%200.4s%7D%0A.ant-root%20.ant-spin-dot-item%3Anth-child(3)%20%7Bright%3A%200px%3B%20bottom%3A%200px%3B%20animation-delay%3A%200.8s%7D%0A.ant-root%20.ant-spin-dot-item%3Anth-child(4)%20%7Bbottom%3A%200px%3B%20left%3A%200px%3B%20animation-delay%3A%201.2s%7D%0A.ant-root%20.ant-spin-dot-spin%20%7Btransform%3A%20rotate(45deg)%3B%20animation-duration%3A%201.2s%3B%20animation-timing-function%3A%20linear%3B%20animation-delay%3A%200s%3B%20animation-iteration-count%3A%20infinite%3B%20animation-direction%3A%20normal%3B%20animation-fill-mode%3A%20none%3B%20animation-play-state%3A%20running%3B%20animation-name%3A%20antRotate%7D%0A.ant-root%20.ant-spin-lg%20.ant-spin-dot%20%7Bfont-size%3A%2032px%7D%0A.ant-root%20.ant-spin-lg%20.ant-spin-dot%20i%20%7Bwidth%3A%2014px%3B%20height%3A%2014px%7D%0A.ant-root%20.aui-invisible-scrollbars%20%7B%7D%0A.css-12ebr42-AWidget%20%7Bheight%3A%20100%25%7D%0A.css-ck2xzt-Spinner%20%7B-webkit-box-align%3A%20center%3B%20align-items%3A%20center%3B%20background-image%3A%20initial%3B%20background-position-x%3A%20initial%3B%20background-position-y%3A%20initial%3B%20background-size%3A%20initial%3B%20background-repeat-x%3A%20initial%3B%20background-repeat-y%3A%20initial%3B%20background-attachment%3A%20initial%3B%20background-origin%3A%20initial%3B%20background-clip%3A%20initial%3B%20background-color%3A%20transparent%3B%20display%3A%20flex%3B%20height%3A%20100%25%3B%20-webkit-box-pack%3A%20center%3B%20justify-content%3A%20center%3B%20position%3A%20absolute%3B%20transition-duration%3A%20300ms%3B%20transition-timing-function%3A%20ease%3B%20transition-delay%3A%200s%3B%20transition-property%3A%20opacity%3B%20width%3A%20100%25%3B%20opacity%3A%200%3B%20pointer-events%3A%20none%3B%20z-index%3A%202%7D%0A.css-1e3kjgr-Spinner%20%7Bheight%3A%20100%25%3B%20position%3A%20relative%7D%0A.css-1hwl8p1-Table%20%7Bpadding-bottom%3A%202px%3B%20padding-right%3A%202px%3B%20height%3A%20100%25%7D%0A.css-14ejcn0-Table%20%7Bheight%3A%20calc(100%25%20-%2030px)%3B%20outline-color%3A%20initial%3B%20outline-style%3A%20none%3B%20outline-width%3A%20initial%3B%20position%3A%20relative%7D%0A.css-1rxpjm0-ColumnResizeHint%20%7Bdisplay%3A%20none%3B%20position%3A%20absolute%3B%20z-index%3A%201%7D%0A.css-1uww2vi-Table%20%7Bheight%3A%2030px%3B%20text-align%3A%20right%3B%20padding-right%3A%2025px%7D%0A.css-bi0kgd-Table%20%7Bdisplay%3A%20flex%3B%20height%3A%20320px%7D%0A.css-1hol363-ResizableCell%20%7Bdisplay%3A%20flex%3B%20flex-direction%3A%20column%3B%20position%3A%20absolute%3B%20top%3A%200px%3B%20left%3A%200px%3B%20height%3A%2028px%3B%20width%3A%20120px%7D%0A.css-xxcrt1-ResizableCell%20%7Bbackground-image%3A%20initial%3B%20background-position-x%3A%20initial%3B%20background-position-y%3A%20initial%3B%20background-size%3A%20initial%3B%20background-repeat-x%3A%20initial%3B%20background-repeat-y%3A%20initial%3B%20background-attachment%3A%20initial%3B%20background-origin%3A%20initial%3B%20background-clip%3A%20initial%3B%20background-color%3A%20transparent%3B%20cursor%3A%20col-resize%3B%20height%3A%20100%25%3B%20position%3A%20absolute%3B%20right%3A%200px%3B%20width%3A%205px%3B%20z-index%3A%201%7D%0A.css-fpuq48-ResizableCell%20%7Bdisplay%3A%20flex%3B%20flex-direction%3A%20column%3B%20position%3A%20absolute%3B%20top%3A%200px%3B%20left%3A%20120px%3B%20height%3A%2028px%3B%20width%3A%20120px%7D%0A.css-3geaec-ResizableCell%20%7Bdisplay%3A%20flex%3B%20flex-direction%3A%20column%3B%20position%3A%20absolute%3B%20top%3A%200px%3B%20left%3A%20240px%3B%20height%3A%2028px%3B%20width%3A%20120px%7D%0A.css-9kbkmr-ResizableCell%20%7Bdisplay%3A%20flex%3B%20flex-direction%3A%20column%3B%20position%3A%20absolute%3B%20top%3A%200px%3B%20left%3A%20360px%3B%20height%3A%2028px%3B%20width%3A%20120px%7D%0A.css-sazb3v-Table%20%7Bwidth%3A%20845px%3B%20border-collapse%3A%20collapse%7D%0A.css-walxhl-ColumnResizeHint%20%7Bheight%3A%2028px%3B%20background-color%3A%20rgb(24%2C%20144%2C%20255)%3B%20width%3A%205px%7D%0A.css-cavlcc-ColumnResizeHint%20%7Bdisplay%3A%20none%3B%20float%3A%20right%3B%20height%3A%20292px%3B%20background-color%3A%20rgb(24%2C%20144%2C%20255)%3B%20opacity%3A%200.4%3B%20width%3A%202px%7D%0A.css-9wvnih-Table%20%7Bborder-collapse%3A%20collapse%3B%20height%3A%2028px%3B%20width%3A%20120px%7D%0A.css-gy6esx%20%7Bheight%3A%2028px%3B%20width%3A%20120px%7D%0A.css-n1rdc6%20%7Bcursor%3A%20cell%3B%20height%3A%2028px%3B%20overflow-x%3A%20hidden%3B%20overflow-y%3A%20hidden%3B%20position%3A%20relative%3B%20width%3A%20120px%3B%20border-right-width%3A%202px%3B%20border-right-style%3A%20solid%3B%20border-right-color%3A%20rgb(233%2C%20233%2C%20233)%7D%0A.css-q1l26k%20%7Bheight%3A%20292px%3B%20width%3A%20120px%3B%20overflow-x%3A%20hidden%3B%20overflow-y%3A%20auto%7D%0A.css-1jidyej%20%7Bcursor%3A%20cell%3B%20height%3A%203920px%3B%20overflow-x%3A%20hidden%3B%20overflow-y%3A%20hidden%3B%20position%3A%20relative%3B%20width%3A%20120px%3B%20border-top-width%3A%202px%3B%20border-top-style%3A%20solid%3B%20border-top-color%3A%20rgb(233%2C%20233%2C%20233)%3B%20border-right-width%3A%202px%3B%20border-right-style%3A%20solid%3B%20border-right-color%3A%20rgb(233%2C%20233%2C%20233)%7D%0A.css-1qlsq0z%20%7Bheight%3A%2028px%3B%20width%3A%20827px%3B%20overflow-x%3A%20auto%3B%20overflow-y%3A%20hidden%7D%0A.css-1g2rciv%20%7Bcursor%3A%20cell%3B%20height%3A%2028px%3B%20overflow-x%3A%20hidden%3B%20overflow-y%3A%20hidden%3B%20position%3A%20relative%3B%20width%3A%20480px%7D%0A.css-xy1u4%20%7Bheight%3A%20292px%3B%20width%3A%20845px%3B%20overflow-x%3A%20auto%3B%20overflow-y%3A%20auto%7D%0A.css-1uha94r%20%7Bcursor%3A%20cell%3B%20height%3A%203920px%3B%20overflow-x%3A%20hidden%3B%20overflow-y%3A%20hidden%3B%20position%3A%20relative%3B%20width%3A%20480px%3B%20border-top-width%3A%202px%3B%20border-top-style%3A%20solid%3B%20border-top-color%3A%20rgb(233%2C%20233%2C%20233)%7D%0A*%20%7B-ms-overflow-style%3A%20none%3B%20scrollbar-width%3A%20none%7D%0A*%3A%3A-webkit-scrollbar%20%7Bdisplay%3A%20none%7D%0A.atoti-hidden-in-snapshot%20%7Bdisplay%3A%20none%7D%3C%2Fstyle%3E%3Cdiv%20xmlns%3D%22http%3A%2F%2Fwww.w3.org%2F1999%2Fxhtml%22%20style%3D%22height%3A%20352px%3B%20width%3A%20967px%3B%22%3E%3Cdiv%20class%3D%22ant-root%20css-0%22%3E%3Cdiv%20class%3D%22ant-dropdown-trigger%20css-12ebr42-AWidget%22%3E%3Cdiv%20class%3D%22css-1e3kjgr-Spinner%22%3E%3Cdiv%20class%3D%22css-ck2xzt-Spinner%22%3E%3Cdiv%20class%3D%22ant-spin%20ant-spin-lg%20ant-spin-spinning%22%3E%3Cspan%20class%3D%22ant-spin-dot%20ant-spin-dot-spin%22%3E%3Ci%20class%3D%22ant-spin-dot-item%22%3E%3C%2Fi%3E%3Ci%20class%3D%22ant-spin-dot-item%22%3E%3C%2Fi%3E%3Ci%20class%3D%22ant-spin-dot-item%22%3E%3C%2Fi%3E%3Ci%20class%3D%22ant-spin-dot-item%22%3E%3C%2Fi%3E%3C%2Fspan%3E%3C%2Fdiv%3E%3C%2Fdiv%3E%3Cdiv%20class%3D%22css-1hwl8p1-Table%22%3E%3Cdiv%20tabindex%3D%220%22%20class%3D%22css-14ejcn0-Table%22%3E%3Cdiv%20class%3D%22css-1rxpjm0-ColumnResizeHint%22%3E%3Cdiv%20class%3D%22css-walxhl-ColumnResizeHint%22%3E%3C%2Fdiv%3E%3Cdiv%20class%3D%22css-cavlcc-ColumnResizeHint%22%3E%3C%2Fdiv%3E%3C%2Fdiv%3E%3Cdiv%20class%3D%22css-bi0kgd-Table%22%3E%3Cdiv%20class%3D%22css-9wvnih-Table%22%3E%3Cdiv%20class%3D%22%20css-gy6esx%22%3E%3Cdiv%20class%3D%22css-n1rdc6%22%3E%3Cdiv%20class%3D%22css-1hol363-ResizableCell%22%3E%3Cdiv%20class%3D%22aui-table-cell%22%20style%3D%22height%3A%2028px%3B%20left%3A%200px%3B%20top%3A%200px%3B%20width%3A%20115px%3B%20text-align%3A%20left%3B%20font-size%3A%2012px%3B%20padding%3A%204px%204px%203px%3B%20overflow%3A%20hidden%3B%20position%3A%20absolute%3B%20white-space%3A%20nowrap%3B%20text-overflow%3A%20ellipsis%3B%20font-weight%3A%20600%3B%20display%3A%20flex%3B%20align-items%3A%20center%3B%22%3E%3Cspan%3Ename%3C%2Fspan%3E%3C%2Fdiv%3E%3Cdiv%20class%3D%22css-xxcrt1-ResizableCell%22%3E%3C%2Fdiv%3E%3C%2Fdiv%3E%3C%2Fdiv%3E%3C%2Fdiv%3E%3Cdiv%20class%3D%22aui-invisible-scrollbars%20css-q1l26k%22%3E%3Cdiv%20class%3D%22css-1jidyej%22%3E%3Cdiv%20style%3D%22display%3A%20flex%3B%20align-items%3A%20center%3B%20height%3A%2028px%3B%20left%3A%200px%3B%20top%3A%200px%3B%20width%3A%20120px%3B%20text-align%3A%20left%3B%20font-size%3A%2012px%3B%20padding%3A%204px%204px%203px%3B%20overflow%3A%20hidden%3B%20position%3A%20absolute%3B%20white-space%3A%20nowrap%3B%20text-overflow%3A%20ellipsis%3B%20background-color%3A%20transparent%3B%20border-right%3A%202px%20solid%20rgb(233%2C%20233%2C%20233)%3B%22%3E%3Cspan%20style%3D%22text-overflow%3A%20ellipsis%3B%20overflow%3A%20hidden%3B%20white-space%3A%20nowrap%3B%20max-width%3A%20calc((100%25%20-%200px)%20-%200px)%3B%22%3ETotal%3C%2Fspan%3E%3C%2Fdiv%3E%3Cdiv%20style%3D%22display%3A%20flex%3B%20align-items%3A%20center%3B%20height%3A%2028px%3B%20left%3A%200px%3B%20top%3A%2028px%3B%20width%3A%20120px%3B%20text-align%3A%20left%3B%20font-size%3A%2012px%3B%20padding%3A%204px%204px%203px%3B%20overflow%3A%20hidden%3B%20position%3A%20absolute%3B%20white-space%3A%20nowrap%3B%20text-overflow%3A%20ellipsis%3B%20background-color%3A%20rgb(250%2C%20250%2C%20250)%3B%20border-right%3A%202px%20solid%20rgb(233%2C%20233%2C%20233)%3B%22%3E%3Cspan%20style%3D%22text-overflow%3A%20ellipsis%3B%20overflow%3A%20hidden%3B%20white-space%3A%20nowrap%3B%20max-width%3A%20calc((100%25%20-%200px)%20-%200px)%3B%22%3E%F0%9F%94%B9Dr.%20Robin%20Kiera%F0%9F%94%B9%3C%2Fspan%3E%3C%2Fdiv%3E%3Cdiv%20style%3D%22display%3A%20flex%3B%20align-items%3A%20center%3B%20height%3A%2028px%3B%20left%3A%200px%3B%20top%3A%2056px%3B%20width%3A%20120px%3B%20text-align%3A%20left%3B%20font-size%3A%2012px%3B%20padding%3A%204px%204px%203px%3B%20overflow%3A%20hidden%3B%20position%3A%20absolute%3B%20white-space%3A%20nowrap%3B%20text-overflow%3A%20ellipsis%3B%20background-color%3A%20transparent%3B%20border-right%3A%202px%20solid%20rgb(233%2C%20233%2C%20233)%3B%22%3E%3Cspan%20style%3D%22text-overflow%3A%20ellipsis%3B%20overflow%3A%20hidden%3B%20white-space%3A%20nowrap%3B%20max-width%3A%20calc((100%25%20-%200px)%20-%200px)%3B%22%3EKDnuggets%3C%2Fspan%3E%3C%2Fdiv%3E%3Cdiv%20style%3D%22display%3A%20flex%3B%20align-items%3A%20center%3B%20height%3A%2028px%3B%20left%3A%200px%3B%20top%3A%2084px%3B%20width%3A%20120px%3B%20text-align%3A%20left%3B%20font-size%3A%2012px%3B%20padding%3A%204px%204px%203px%3B%20overflow%3A%20hidden%3B%20position%3A%20absolute%3B%20white-space%3A%20nowrap%3B%20text-overflow%3A%20ellipsis%3B%20background-color%3A%20rgb(250%2C%20250%2C%20250)%3B%20border-right%3A%202px%20solid%20rgb(233%2C%20233%2C%20233)%3B%22%3E%3Cspan%20style%3D%22text-overflow%3A%20ellipsis%3B%20overflow%3A%20hidden%3B%20white-space%3A%20nowrap%3B%20max-width%3A%20calc((100%25%20-%200px)%20-%200px)%3B%22%3ETamara%20McCleary%3C%2Fspan%3E%3C%2Fdiv%3E%3Cdiv%20style%3D%22display%3A%20flex%3B%20align-items%3A%20center%3B%20height%3A%2028px%3B%20left%3A%200px%3B%20top%3A%20112px%3B%20width%3A%20120px%3B%20text-align%3A%20left%3B%20font-size%3A%2012px%3B%20padding%3A%204px%204px%203px%3B%20overflow%3A%20hidden%3B%20position%3A%20absolute%3B%20white-space%3A%20nowrap%3B%20text-overflow%3A%20ellipsis%3B%20background-color%3A%20transparent%3B%20border-right%3A%202px%20solid%20rgb(233%2C%20233%2C%20233)%3B%22%3E%3Cspan%20style%3D%22text-overflow%3A%20ellipsis%3B%20overflow%3A%20hidden%3B%20white-space%3A%20nowrap%3B%20max-width%3A%20calc((100%25%20-%200px)%20-%200px)%3B%22%3ECarla%20Gentry%3C%2Fspan%3E%3C%2Fdiv%3E%3Cdiv%20style%3D%22display%3A%20flex%3B%20align-items%3A%20center%3B%20height%3A%2028px%3B%20left%3A%200px%3B%20top%3A%20140px%3B%20width%3A%20120px%3B%20text-align%3A%20left%3B%20font-size%3A%2012px%3B%20padding%3A%204px%204px%203px%3B%20overflow%3A%20hidden%3B%20position%3A%20absolute%3B%20white-space%3A%20nowrap%3B%20text-overflow%3A%20ellipsis%3B%20background-color%3A%20rgb(250%2C%20250%2C%20250)%3B%20border-right%3A%202px%20solid%20rgb(233%2C%20233%2C%20233)%3B%22%3E%3Cspan%20style%3D%22text-overflow%3A%20ellipsis%3B%20overflow%3A%20hidden%3B%20white-space%3A%20nowrap%3B%20max-width%3A%20calc((100%25%20-%200px)%20-%200px)%3B%22%3EKirk%20Borne%3C%2Fspan%3E%3C%2Fdiv%3E%3Cdiv%20style%3D%22display%3A%20flex%3B%20align-items%3A%20center%3B%20height%3A%2028px%3B%20left%3A%200px%3B%20top%3A%20168px%3B%20width%3A%20120px%3B%20text-align%3A%20left%3B%20font-size%3A%2012px%3B%20padding%3A%204px%204px%203px%3B%20overflow%3A%20hidden%3B%20position%3A%20absolute%3B%20white-space%3A%20nowrap%3B%20text-overflow%3A%20ellipsis%3B%20background-color%3A%20transparent%3B%20border-right%3A%202px%20solid%20rgb(233%2C%20233%2C%20233)%3B%22%3E%3Cspan%20style%3D%22text-overflow%3A%20ellipsis%3B%20overflow%3A%20hidden%3B%20white-space%3A%20nowrap%3B%20max-width%3A%20calc((100%25%20-%200px)%20-%200px)%3B%22%3EYves%20Mulkers%3C%2Fspan%3E%3C%2Fdiv%3E%3Cdiv%20style%3D%22display%3A%20flex%3B%20align-items%3A%20center%3B%20height%3A%2028px%3B%20left%3A%200px%3B%20top%3A%20196px%3B%20width%3A%20120px%3B%20text-align%3A%20left%3B%20font-size%3A%2012px%3B%20padding%3A%204px%204px%203px%3B%20overflow%3A%20hidden%3B%20position%3A%20absolute%3B%20white-space%3A%20nowrap%3B%20text-overflow%3A%20ellipsis%3B%20background-color%3A%20rgb(250%2C%20250%2C%20250)%3B%20border-right%3A%202px%20solid%20rgb(233%2C%20233%2C%20233)%3B%22%3E%3Cspan%20style%3D%22text-overflow%3A%20ellipsis%3B%20overflow%3A%20hidden%3B%20white-space%3A%20nowrap%3B%20max-width%3A%20calc((100%25%20-%200px)%20-%200px)%3B%22%3EDr.%20Ganapathi%20Pulipaka%20%F0%9F%87%BA%F0%9F%87%B8%3C%2Fspan%3E%3C%2Fdiv%3E%3Cdiv%20style%3D%22display%3A%20flex%3B%20align-items%3A%20center%3B%20height%3A%2028px%3B%20left%3A%200px%3B%20top%3A%20224px%3B%20width%3A%20120px%3B%20text-align%3A%20left%3B%20font-size%3A%2012px%3B%20padding%3A%204px%204px%203px%3B%20overflow%3A%20hidden%3B%20position%3A%20absolute%3B%20white-space%3A%20nowrap%3B%20text-overflow%3A%20ellipsis%3B%20background-color%3A%20transparent%3B%20border-right%3A%202px%20solid%20rgb(233%2C%20233%2C%20233)%3B%22%3E%3Cspan%20style%3D%22text-overflow%3A%20ellipsis%3B%20overflow%3A%20hidden%3B%20white-space%3A%20nowrap%3B%20max-width%3A%20calc((100%25%20-%200px)%20-%200px)%3B%22%3EAndreas%20Staub%3C%2Fspan%3E%3C%2Fdiv%3E%3Cdiv%20style%3D%22display%3A%20flex%3B%20align-items%3A%20center%3B%20height%3A%2028px%3B%20left%3A%200px%3B%20top%3A%20252px%3B%20width%3A%20120px%3B%20text-align%3A%20left%3B%20font-size%3A%2012px%3B%20padding%3A%204px%204px%203px%3B%20overflow%3A%20hidden%3B%20position%3A%20absolute%3B%20white-space%3A%20nowrap%3B%20text-overflow%3A%20ellipsis%3B%20background-color%3A%20rgb(250%2C%20250%2C%20250)%3B%20border-right%3A%202px%20solid%20rgb(233%2C%20233%2C%20233)%3B%22%3E%3Cspan%20style%3D%22text-overflow%3A%20ellipsis%3B%20overflow%3A%20hidden%3B%20white-space%3A%20nowrap%3B%20max-width%3A%20calc((100%25%20-%200px)%20-%200px)%3B%22%3EBob%20E.%20Hayes%3C%2Fspan%3E%3C%2Fdiv%3E%3Cdiv%20style%3D%22display%3A%20flex%3B%20align-items%3A%20center%3B%20height%3A%2028px%3B%20left%3A%200px%3B%20top%3A%20280px%3B%20width%3A%20120px%3B%20text-align%3A%20left%3B%20font-size%3A%2012px%3B%20padding%3A%204px%204px%203px%3B%20overflow%3A%20hidden%3B%20position%3A%20absolute%3B%20white-space%3A%20nowrap%3B%20text-overflow%3A%20ellipsis%3B%20background-color%3A%20transparent%3B%20border-right%3A%202px%20solid%20rgb(233%2C%20233%2C%20233)%3B%22%3E%3Cspan%20style%3D%22text-overflow%3A%20ellipsis%3B%20overflow%3A%20hidden%3B%20white-space%3A%20nowrap%3B%20max-width%3A%20calc((100%25%20-%200px)%20-%200px)%3B%22%3EAlvin%20Foo%3C%2Fspan%3E%3C%2Fdiv%3E%3Cdiv%20style%3D%22display%3A%20flex%3B%20align-items%3A%20center%3B%20height%3A%2028px%3B%20left%3A%200px%3B%20top%3A%20308px%3B%20width%3A%20120px%3B%20text-align%3A%20left%3B%20font-size%3A%2012px%3B%20padding%3A%204px%204px%203px%3B%20overflow%3A%20hidden%3B%20position%3A%20absolute%3B%20white-space%3A%20nowrap%3B%20text-overflow%3A%20ellipsis%3B%20background-color%3A%20rgb(250%2C%20250%2C%20250)%3B%20border-right%3A%202px%20solid%20rgb(233%2C%20233%2C%20233)%3B%22%3E%3Cspan%20style%3D%22text-overflow%3A%20ellipsis%3B%20overflow%3A%20hidden%3B%20white-space%3A%20nowrap%3B%20max-width%3A%20calc((100%25%20-%200px)%20-%200px)%3B%22%3ENige%20Willson%3C%2Fspan%3E%3C%2Fdiv%3E%3C%2Fdiv%3E%3C%2Fdiv%3E%3C%2Fdiv%3E%3Cdiv%20class%3D%22css-sazb3v-Table%22%3E%3Cdiv%20class%3D%22aui-invisible-scrollbars%20css-1qlsq0z%22%3E%3Cdiv%20class%3D%22css-1g2rciv%22%3E%3Cdiv%20class%3D%22css-1hol363-ResizableCell%22%3E%3Cdiv%20style%3D%22display%3A%20flex%3B%20align-items%3A%20center%3B%20height%3A%2028px%3B%20left%3A%200px%3B%20top%3A%200px%3B%20width%3A%20115px%3B%20text-align%3A%20left%3B%20font-size%3A%2012px%3B%20padding%3A%204px%204px%203px%3B%20overflow%3A%20hidden%3B%20position%3A%20absolute%3B%20white-space%3A%20nowrap%3B%20text-overflow%3A%20ellipsis%3B%20font-weight%3A%20600%3B%22%3E%3Cspan%20style%3D%22text-overflow%3A%20ellipsis%3B%20overflow%3A%20hidden%3B%20white-space%3A%20nowrap%3B%20max-width%3A%20calc((100%25%20-%200px)%20-%200px)%3B%22%3Ereplies%3C%2Fspan%3E%3C%2Fdiv%3E%3Cdiv%20class%3D%22css-xxcrt1-ResizableCell%22%3E%3C%2Fdiv%3E%3C%2Fdiv%3E%3Cdiv%20class%3D%22css-fpuq48-ResizableCell%22%3E%3Cdiv%20style%3D%22display%3A%20flex%3B%20align-items%3A%20center%3B%20height%3A%2028px%3B%20left%3A%200px%3B%20top%3A%200px%3B%20width%3A%20115px%3B%20text-align%3A%20left%3B%20font-size%3A%2012px%3B%20padding%3A%204px%204px%203px%3B%20overflow%3A%20hidden%3B%20position%3A%20absolute%3B%20white-space%3A%20nowrap%3B%20text-overflow%3A%20ellipsis%3B%20font-weight%3A%20600%3B%22%3E%3Cspan%20style%3D%22text-overflow%3A%20ellipsis%3B%20overflow%3A%20hidden%3B%20white-space%3A%20nowrap%3B%20max-width%3A%20calc((100%25%20-%200px)%20-%200px)%3B%22%3Eretweets_quotes%3C%2Fspan%3E%3C%2Fdiv%3E%3Cdiv%20class%3D%22css-xxcrt1-ResizableCell%22%3E%3C%2Fdiv%3E%3C%2Fdiv%3E%3Cdiv%20class%3D%22css-3geaec-ResizableCell%22%3E%3Cdiv%20style%3D%22display%3A%20flex%3B%20align-items%3A%20center%3B%20height%3A%2028px%3B%20left%3A%200px%3B%20top%3A%200px%3B%20width%3A%20115px%3B%20text-align%3A%20left%3B%20font-size%3A%2012px%3B%20padding%3A%204px%204px%203px%3B%20overflow%3A%20hidden%3B%20position%3A%20absolute%3B%20white-space%3A%20nowrap%3B%20text-overflow%3A%20ellipsis%3B%20font-weight%3A%20600%3B%22%3E%3Cspan%20style%3D%22text-overflow%3A%20ellipsis%3B%20overflow%3A%20hidden%3B%20white-space%3A%20nowrap%3B%20max-width%3A%20calc((100%25%20-%200px)%20-%200px)%3B%22%3Elikes%3C%2Fspan%3E%3C%2Fdiv%3E%3Cdiv%20class%3D%22css-xxcrt1-ResizableCell%22%3E%3C%2Fdiv%3E%3C%2Fdiv%3E%3Cdiv%20class%3D%22css-9kbkmr-ResizableCell%22%3E%3Cdiv%20style%3D%22display%3A%20flex%3B%20align-items%3A%20center%3B%20height%3A%2028px%3B%20left%3A%200px%3B%20top%3A%200px%3B%20width%3A%20115px%3B%20text-align%3A%20left%3B%20font-size%3A%2012px%3B%20padding%3A%204px%204px%203px%3B%20overflow%3A%20hidden%3B%20position%3A%20absolute%3B%20white-space%3A%20nowrap%3B%20text-overflow%3A%20ellipsis%3B%20font-weight%3A%20600%3B%22%3E%3Cspan%20style%3D%22text-overflow%3A%20ellipsis%3B%20overflow%3A%20hidden%3B%20white-space%3A%20nowrap%3B%20max-width%3A%20calc((100%25%20-%200px)%20-%2018px)%3B%22%3Econtributors.COUNT%3C%2Fspan%3E%3Csvg%20xmlns%3D%22http%3A%2F%2Fwww.w3.org%2F2000%2Fsvg%22%20viewBox%3D%2264%2064%20896%20896%22%20width%3D%221em%22%20height%3D%221em%22%20fill%3D%22currentColor%22%20style%3D%22cursor%3A%20pointer%3B%20height%3A%20100%25%3B%20margin-left%3A%20auto%3B%22%3E%3Cpath%20d%3D%22M180%20325h76v530a8%208%200%20008%208h56a8%208%200%20008-8V325h76a8%208%200%20006.3-13l-112-141.9a8%208%200%2000-11.2-1.4l-1.4%201.4-112%20141.9a8.1%208.1%200%20006.3%2013zm461.6-109.2v232.3h61.9V127.6h-51.6l-89.7%2091.5%2038.4%2039.6%2041-42.9zm2.4%20615.8c29.6-23.4%2060.2-49.5%2082.5-75.5%2027-31.5%2040.2-61%2040.2-90.2s-12.1-55.8-35.1-73.7c-20.2-15.7-47.6-24.4-77.2-24.4-45.8%200-88.1%2018.9-113.3%2050.5l-4.2%205.3%2037.2%2041%205.9-7c12.9-15.5%2036.4-33.9%2074.9-33.9%2023.2%200%2050.2%2011%2050.2%2042.1%200%2043.5-51.3%2087.7-160.3%20171.5l-3.1%202.4V887H768v-55.4z%22%2F%3E%3C%2Fsvg%3E%3C%2Fdiv%3E%3Cdiv%20class%3D%22css-xxcrt1-ResizableCell%22%3E%3C%2Fdiv%3E%3C%2Fdiv%3E%3C%2Fdiv%3E%3C%2Fdiv%3E%3Cdiv%20class%3D%22%20css-xy1u4%22%3E%3Cdiv%20class%3D%22css-1uha94r%22%3E%3Cdiv%20class%3D%22aui-table-cell%22%20style%3D%22height%3A%2028px%3B%20left%3A%200px%3B%20top%3A%200px%3B%20width%3A%20120px%3B%20text-align%3A%20right%3B%20font-size%3A%2012px%3B%20padding%3A%204px%204px%203px%3B%20overflow%3A%20hidden%3B%20position%3A%20absolute%3B%20white-space%3A%20nowrap%3B%20text-overflow%3A%20ellipsis%3B%20background-color%3A%20transparent%3B%20border-right%3A%201px%20solid%20rgb(233%2C%20233%2C%20233)%3B%22%3E.51%3C%2Fdiv%3E%3Cdiv%20class%3D%22aui-table-cell%22%20style%3D%22height%3A%2028px%3B%20left%3A%20120px%3B%20top%3A%200px%3B%20width%3A%20120px%3B%20text-align%3A%20right%3B%20font-size%3A%2012px%3B%20padding%3A%204px%204px%203px%3B%20overflow%3A%20hidden%3B%20position%3A%20absolute%3B%20white-space%3A%20nowrap%3B%20text-overflow%3A%20ellipsis%3B%20background-color%3A%20transparent%3B%20border-right%3A%201px%20solid%20rgb(233%2C%20233%2C%20233)%3B%22%3E201.00%3C%2Fdiv%3E%3Cdiv%20class%3D%22aui-table-cell%22%20style%3D%22height%3A%2028px%3B%20left%3A%20240px%3B%20top%3A%200px%3B%20width%3A%20120px%3B%20text-align%3A%20right%3B%20font-size%3A%2012px%3B%20padding%3A%204px%204px%203px%3B%20overflow%3A%20hidden%3B%20position%3A%20absolute%3B%20white-space%3A%20nowrap%3B%20text-overflow%3A%20ellipsis%3B%20background-color%3A%20transparent%3B%20border-right%3A%201px%20solid%20rgb(233%2C%20233%2C%20233)%3B%22%3E16.42%3C%2Fdiv%3E%3Cdiv%20class%3D%22aui-table-cell%22%20style%3D%22height%3A%2028px%3B%20left%3A%20360px%3B%20top%3A%200px%3B%20width%3A%20120px%3B%20text-align%3A%20right%3B%20font-size%3A%2012px%3B%20padding%3A%204px%204px%203px%3B%20overflow%3A%20hidden%3B%20position%3A%20absolute%3B%20white-space%3A%20nowrap%3B%20text-overflow%3A%20ellipsis%3B%20background-color%3A%20transparent%3B%20border-right%3A%201px%20solid%20rgb(233%2C%20233%2C%20233)%3B%22%3E8%2C079%3C%2Fdiv%3E%3Cdiv%20class%3D%22aui-table-cell%22%20style%3D%22height%3A%2028px%3B%20left%3A%200px%3B%20top%3A%2028px%3B%20width%3A%20120px%3B%20text-align%3A%20right%3B%20font-size%3A%2012px%3B%20padding%3A%204px%204px%203px%3B%20overflow%3A%20hidden%3B%20position%3A%20absolute%3B%20white-space%3A%20nowrap%3B%20text-overflow%3A%20ellipsis%3B%20background-color%3A%20rgb(250%2C%20250%2C%20250)%3B%20border-right%3A%201px%20solid%20rgb(233%2C%20233%2C%20233)%3B%22%3E.12%3C%2Fdiv%3E%3Cdiv%20class%3D%22aui-table-cell%22%20style%3D%22height%3A%2028px%3B%20left%3A%20120px%3B%20top%3A%2028px%3B%20width%3A%20120px%3B%20text-align%3A%20right%3B%20font-size%3A%2012px%3B%20padding%3A%204px%204px%203px%3B%20overflow%3A%20hidden%3B%20position%3A%20absolute%3B%20white-space%3A%20nowrap%3B%20text-overflow%3A%20ellipsis%3B%20background-color%3A%20rgb(250%2C%20250%2C%20250)%3B%20border-right%3A%201px%20solid%20rgb(233%2C%20233%2C%20233)%3B%22%3E4.00%3C%2Fdiv%3E%3Cdiv%20class%3D%22aui-table-cell%22%20style%3D%22height%3A%2028px%3B%20left%3A%20240px%3B%20top%3A%2028px%3B%20width%3A%20120px%3B%20text-align%3A%20right%3B%20font-size%3A%2012px%3B%20padding%3A%204px%204px%203px%3B%20overflow%3A%20hidden%3B%20position%3A%20absolute%3B%20white-space%3A%20nowrap%3B%20text-overflow%3A%20ellipsis%3B%20background-color%3A%20rgb(250%2C%20250%2C%20250)%3B%20border-right%3A%201px%20solid%20rgb(233%2C%20233%2C%20233)%3B%22%3E4.26%3C%2Fdiv%3E%3Cdiv%20class%3D%22aui-table-cell%22%20style%3D%22height%3A%2028px%3B%20left%3A%20360px%3B%20top%3A%2028px%3B%20width%3A%20120px%3B%20text-align%3A%20right%3B%20font-size%3A%2012px%3B%20padding%3A%204px%204px%203px%3B%20overflow%3A%20hidden%3B%20position%3A%20absolute%3B%20white-space%3A%20nowrap%3B%20text-overflow%3A%20ellipsis%3B%20background-color%3A%20rgb(250%2C%20250%2C%20250)%3B%20border-right%3A%201px%20solid%20rgb(233%2C%20233%2C%20233)%3B%22%3E346%3C%2Fdiv%3E%3Cdiv%20class%3D%22aui-table-cell%22%20style%3D%22height%3A%2028px%3B%20left%3A%200px%3B%20top%3A%2056px%3B%20width%3A%20120px%3B%20text-align%3A%20right%3B%20font-size%3A%2012px%3B%20padding%3A%204px%204px%203px%3B%20overflow%3A%20hidden%3B%20position%3A%20absolute%3B%20white-space%3A%20nowrap%3B%20text-overflow%3A%20ellipsis%3B%20background-color%3A%20transparent%3B%20border-right%3A%201px%20solid%20rgb(233%2C%20233%2C%20233)%3B%22%3E.12%3C%2Fdiv%3E%3Cdiv%20class%3D%22aui-table-cell%22%20style%3D%22height%3A%2028px%3B%20left%3A%20120px%3B%20top%3A%2056px%3B%20width%3A%20120px%3B%20text-align%3A%20right%3B%20font-size%3A%2012px%3B%20padding%3A%204px%204px%203px%3B%20overflow%3A%20hidden%3B%20position%3A%20absolute%3B%20white-space%3A%20nowrap%3B%20text-overflow%3A%20ellipsis%3B%20background-color%3A%20transparent%3B%20border-right%3A%201px%20solid%20rgb(233%2C%20233%2C%20233)%3B%22%3E7.00%3C%2Fdiv%3E%3Cdiv%20class%3D%22aui-table-cell%22%20style%3D%22height%3A%2028px%3B%20left%3A%20240px%3B%20top%3A%2056px%3B%20width%3A%20120px%3B%20text-align%3A%20right%3B%20font-size%3A%2012px%3B%20padding%3A%204px%204px%203px%3B%20overflow%3A%20hidden%3B%20position%3A%20absolute%3B%20white-space%3A%20nowrap%3B%20text-overflow%3A%20ellipsis%3B%20background-color%3A%20transparent%3B%20border-right%3A%201px%20solid%20rgb(233%2C%20233%2C%20233)%3B%22%3E25.07%3C%2Fdiv%3E%3Cdiv%20class%3D%22aui-table-cell%22%20style%3D%22height%3A%2028px%3B%20left%3A%20360px%3B%20top%3A%2056px%3B%20width%3A%20120px%3B%20text-align%3A%20right%3B%20font-size%3A%2012px%3B%20padding%3A%204px%204px%203px%3B%20overflow%3A%20hidden%3B%20position%3A%20absolute%3B%20white-space%3A%20nowrap%3B%20text-overflow%3A%20ellipsis%3B%20background-color%3A%20transparent%3B%20border-right%3A%201px%20solid%20rgb(233%2C%20233%2C%20233)%3B%22%3E305%3C%2Fdiv%3E%3Cdiv%20class%3D%22aui-table-cell%22%20style%3D%22height%3A%2028px%3B%20left%3A%200px%3B%20top%3A%2084px%3B%20width%3A%20120px%3B%20text-align%3A%20right%3B%20font-size%3A%2012px%3B%20padding%3A%204px%204px%203px%3B%20overflow%3A%20hidden%3B%20position%3A%20absolute%3B%20white-space%3A%20nowrap%3B%20text-overflow%3A%20ellipsis%3B%20background-color%3A%20rgb(250%2C%20250%2C%20250)%3B%20border-right%3A%201px%20solid%20rgb(233%2C%20233%2C%20233)%3B%22%3E.20%3C%2Fdiv%3E%3Cdiv%20class%3D%22aui-table-cell%22%20style%3D%22height%3A%2028px%3B%20left%3A%20120px%3B%20top%3A%2084px%3B%20width%3A%20120px%3B%20text-align%3A%20right%3B%20font-size%3A%2012px%3B%20padding%3A%204px%204px%203px%3B%20overflow%3A%20hidden%3B%20position%3A%20absolute%3B%20white-space%3A%20nowrap%3B%20text-overflow%3A%20ellipsis%3B%20background-color%3A%20rgb(250%2C%20250%2C%20250)%3B%20border-right%3A%201px%20solid%20rgb(233%2C%20233%2C%20233)%3B%22%3E8.00%3C%2Fdiv%3E%3Cdiv%20class%3D%22aui-table-cell%22%20style%3D%22height%3A%2028px%3B%20left%3A%20240px%3B%20top%3A%2084px%3B%20width%3A%20120px%3B%20text-align%3A%20right%3B%20font-size%3A%2012px%3B%20padding%3A%204px%204px%203px%3B%20overflow%3A%20hidden%3B%20position%3A%20absolute%3B%20white-space%3A%20nowrap%3B%20text-overflow%3A%20ellipsis%3B%20background-color%3A%20rgb(250%2C%20250%2C%20250)%3B%20border-right%3A%201px%20solid%20rgb(233%2C%20233%2C%20233)%3B%22%3E11.53%3C%2Fdiv%3E%3Cdiv%20class%3D%22aui-table-cell%22%20style%3D%22height%3A%2028px%3B%20left%3A%20360px%3B%20top%3A%2084px%3B%20width%3A%20120px%3B%20text-align%3A%20right%3B%20font-size%3A%2012px%3B%20padding%3A%204px%204px%203px%3B%20overflow%3A%20hidden%3B%20position%3A%20absolute%3B%20white-space%3A%20nowrap%3B%20text-overflow%3A%20ellipsis%3B%20background-color%3A%20rgb(250%2C%20250%2C%20250)%3B%20border-right%3A%201px%20solid%20rgb(233%2C%20233%2C%20233)%3B%22%3E287%3C%2Fdiv%3E%3Cdiv%20class%3D%22aui-table-cell%22%20style%3D%22height%3A%2028px%3B%20left%3A%200px%3B%20top%3A%20112px%3B%20width%3A%20120px%3B%20text-align%3A%20right%3B%20font-size%3A%2012px%3B%20padding%3A%204px%204px%203px%3B%20overflow%3A%20hidden%3B%20position%3A%20absolute%3B%20white-space%3A%20nowrap%3B%20text-overflow%3A%20ellipsis%3B%20background-color%3A%20transparent%3B%20border-right%3A%201px%20solid%20rgb(233%2C%20233%2C%20233)%3B%22%3E.06%3C%2Fdiv%3E%3Cdiv%20class%3D%22aui-table-cell%22%20style%3D%22height%3A%2028px%3B%20left%3A%20120px%3B%20top%3A%20112px%3B%20width%3A%20120px%3B%20text-align%3A%20right%3B%20font-size%3A%2012px%3B%20padding%3A%204px%204px%203px%3B%20overflow%3A%20hidden%3B%20position%3A%20absolute%3B%20white-space%3A%20nowrap%3B%20text-overflow%3A%20ellipsis%3B%20background-color%3A%20transparent%3B%20border-right%3A%201px%20solid%20rgb(233%2C%20233%2C%20233)%3B%22%3E35.00%3C%2Fdiv%3E%3Cdiv%20class%3D%22aui-table-cell%22%20style%3D%22height%3A%2028px%3B%20left%3A%20240px%3B%20top%3A%20112px%3B%20width%3A%20120px%3B%20text-align%3A%20right%3B%20font-size%3A%2012px%3B%20padding%3A%204px%204px%203px%3B%20overflow%3A%20hidden%3B%20position%3A%20absolute%3B%20white-space%3A%20nowrap%3B%20text-overflow%3A%20ellipsis%3B%20background-color%3A%20transparent%3B%20border-right%3A%201px%20solid%20rgb(233%2C%20233%2C%20233)%3B%22%3E1.09%3C%2Fdiv%3E%3Cdiv%20class%3D%22aui-table-cell%22%20style%3D%22height%3A%2028px%3B%20left%3A%20360px%3B%20top%3A%20112px%3B%20width%3A%20120px%3B%20text-align%3A%20right%3B%20font-size%3A%2012px%3B%20padding%3A%204px%204px%203px%3B%20overflow%3A%20hidden%3B%20position%3A%20absolute%3B%20white-space%3A%20nowrap%3B%20text-overflow%3A%20ellipsis%3B%20background-color%3A%20transparent%3B%20border-right%3A%201px%20solid%20rgb(233%2C%20233%2C%20233)%3B%22%3E285%3C%2Fdiv%3E%3Cdiv%20class%3D%22aui-table-cell%22%20style%3D%22height%3A%2028px%3B%20left%3A%200px%3B%20top%3A%20140px%3B%20width%3A%20120px%3B%20text-align%3A%20right%3B%20font-size%3A%2012px%3B%20padding%3A%204px%204px%203px%3B%20overflow%3A%20hidden%3B%20position%3A%20absolute%3B%20white-space%3A%20nowrap%3B%20text-overflow%3A%20ellipsis%3B%20background-color%3A%20rgb(250%2C%20250%2C%20250)%3B%20border-right%3A%201px%20solid%20rgb(233%2C%20233%2C%20233)%3B%22%3E.06%3C%2Fdiv%3E%3Cdiv%20class%3D%22aui-table-cell%22%20style%3D%22height%3A%2028px%3B%20left%3A%20120px%3B%20top%3A%20140px%3B%20width%3A%20120px%3B%20text-align%3A%20right%3B%20font-size%3A%2012px%3B%20padding%3A%204px%204px%203px%3B%20overflow%3A%20hidden%3B%20position%3A%20absolute%3B%20white-space%3A%20nowrap%3B%20text-overflow%3A%20ellipsis%3B%20background-color%3A%20rgb(250%2C%20250%2C%20250)%3B%20border-right%3A%201px%20solid%20rgb(233%2C%20233%2C%20233)%3B%22%3E9.00%3C%2Fdiv%3E%3Cdiv%20class%3D%22aui-table-cell%22%20style%3D%22height%3A%2028px%3B%20left%3A%20240px%3B%20top%3A%20140px%3B%20width%3A%20120px%3B%20text-align%3A%20right%3B%20font-size%3A%2012px%3B%20padding%3A%204px%204px%203px%3B%20overflow%3A%20hidden%3B%20position%3A%20absolute%3B%20white-space%3A%20nowrap%3B%20text-overflow%3A%20ellipsis%3B%20background-color%3A%20rgb(250%2C%20250%2C%20250)%3B%20border-right%3A%201px%20solid%20rgb(233%2C%20233%2C%20233)%3B%22%3E10.75%3C%2Fdiv%3E%3Cdiv%20class%3D%22aui-table-cell%22%20style%3D%22height%3A%2028px%3B%20left%3A%20360px%3B%20top%3A%20140px%3B%20width%3A%20120px%3B%20text-align%3A%20right%3B%20font-size%3A%2012px%3B%20padding%3A%204px%204px%203px%3B%20overflow%3A%20hidden%3B%20position%3A%20absolute%3B%20white-space%3A%20nowrap%3B%20text-overflow%3A%20ellipsis%3B%20background-color%3A%20rgb(250%2C%20250%2C%20250)%3B%20border-right%3A%201px%20solid%20rgb(233%2C%20233%2C%20233)%3B%22%3E279%3C%2Fdiv%3E%3Cdiv%20class%3D%22aui-table-cell%22%20style%3D%22height%3A%2028px%3B%20left%3A%200px%3B%20top%3A%20168px%3B%20width%3A%20120px%3B%20text-align%3A%20right%3B%20font-size%3A%2012px%3B%20padding%3A%204px%204px%203px%3B%20overflow%3A%20hidden%3B%20position%3A%20absolute%3B%20white-space%3A%20nowrap%3B%20text-overflow%3A%20ellipsis%3B%20background-color%3A%20transparent%3B%20border-right%3A%201px%20solid%20rgb(233%2C%20233%2C%20233)%3B%22%3E.00%3C%2Fdiv%3E%3Cdiv%20class%3D%22aui-table-cell%22%20style%3D%22height%3A%2028px%3B%20left%3A%20120px%3B%20top%3A%20168px%3B%20width%3A%20120px%3B%20text-align%3A%20right%3B%20font-size%3A%2012px%3B%20padding%3A%204px%204px%203px%3B%20overflow%3A%20hidden%3B%20position%3A%20absolute%3B%20white-space%3A%20nowrap%3B%20text-overflow%3A%20ellipsis%3B%20background-color%3A%20transparent%3B%20border-right%3A%201px%20solid%20rgb(233%2C%20233%2C%20233)%3B%22%3E259.00%3C%2Fdiv%3E%3Cdiv%20class%3D%22aui-table-cell%22%20style%3D%22height%3A%2028px%3B%20left%3A%20240px%3B%20top%3A%20168px%3B%20width%3A%20120px%3B%20text-align%3A%20right%3B%20font-size%3A%2012px%3B%20padding%3A%204px%204px%203px%3B%20overflow%3A%20hidden%3B%20position%3A%20absolute%3B%20white-space%3A%20nowrap%3B%20text-overflow%3A%20ellipsis%3B%20background-color%3A%20transparent%3B%20border-right%3A%201px%20solid%20rgb(233%2C%20233%2C%20233)%3B%22%3E.83%3C%2Fdiv%3E%3Cdiv%20class%3D%22aui-table-cell%22%20style%3D%22height%3A%2028px%3B%20left%3A%20360px%3B%20top%3A%20168px%3B%20width%3A%20120px%3B%20text-align%3A%20right%3B%20font-size%3A%2012px%3B%20padding%3A%204px%204px%203px%3B%20overflow%3A%20hidden%3B%20position%3A%20absolute%3B%20white-space%3A%20nowrap%3B%20text-overflow%3A%20ellipsis%3B%20background-color%3A%20transparent%3B%20border-right%3A%201px%20solid%20rgb(233%2C%20233%2C%20233)%3B%22%3E276%3C%2Fdiv%3E%3Cdiv%20class%3D%22aui-table-cell%22%20style%3D%22height%3A%2028px%3B%20left%3A%200px%3B%20top%3A%20196px%3B%20width%3A%20120px%3B%20text-align%3A%20right%3B%20font-size%3A%2012px%3B%20padding%3A%204px%204px%203px%3B%20overflow%3A%20hidden%3B%20position%3A%20absolute%3B%20white-space%3A%20nowrap%3B%20text-overflow%3A%20ellipsis%3B%20background-color%3A%20rgb(250%2C%20250%2C%20250)%3B%20border-right%3A%201px%20solid%20rgb(233%2C%20233%2C%20233)%3B%22%3E.22%3C%2Fdiv%3E%3Cdiv%20class%3D%22aui-table-cell%22%20style%3D%22height%3A%2028px%3B%20left%3A%20120px%3B%20top%3A%20196px%3B%20width%3A%20120px%3B%20text-align%3A%20right%3B%20font-size%3A%2012px%3B%20padding%3A%204px%204px%203px%3B%20overflow%3A%20hidden%3B%20position%3A%20absolute%3B%20white-space%3A%20nowrap%3B%20text-overflow%3A%20ellipsis%3B%20background-color%3A%20rgb(250%2C%20250%2C%20250)%3B%20border-right%3A%201px%20solid%20rgb(233%2C%20233%2C%20233)%3B%22%3E48.00%3C%2Fdiv%3E%3Cdiv%20class%3D%22aui-table-cell%22%20style%3D%22height%3A%2028px%3B%20left%3A%20240px%3B%20top%3A%20196px%3B%20width%3A%20120px%3B%20text-align%3A%20right%3B%20font-size%3A%2012px%3B%20padding%3A%204px%204px%203px%3B%20overflow%3A%20hidden%3B%20position%3A%20absolute%3B%20white-space%3A%20nowrap%3B%20text-overflow%3A%20ellipsis%3B%20background-color%3A%20rgb(250%2C%20250%2C%20250)%3B%20border-right%3A%201px%20solid%20rgb(233%2C%20233%2C%20233)%3B%22%3E34.73%3C%2Fdiv%3E%3Cdiv%20class%3D%22aui-table-cell%22%20style%3D%22height%3A%2028px%3B%20left%3A%20360px%3B%20top%3A%20196px%3B%20width%3A%20120px%3B%20text-align%3A%20right%3B%20font-size%3A%2012px%3B%20padding%3A%204px%204px%203px%3B%20overflow%3A%20hidden%3B%20position%3A%20absolute%3B%20white-space%3A%20nowrap%3B%20text-overflow%3A%20ellipsis%3B%20background-color%3A%20rgb(250%2C%20250%2C%20250)%3B%20border-right%3A%201px%20solid%20rgb(233%2C%20233%2C%20233)%3B%22%3E274%3C%2Fdiv%3E%3Cdiv%20class%3D%22aui-table-cell%22%20style%3D%22height%3A%2028px%3B%20left%3A%200px%3B%20top%3A%20224px%3B%20width%3A%20120px%3B%20text-align%3A%20right%3B%20font-size%3A%2012px%3B%20padding%3A%204px%204px%203px%3B%20overflow%3A%20hidden%3B%20position%3A%20absolute%3B%20white-space%3A%20nowrap%3B%20text-overflow%3A%20ellipsis%3B%20background-color%3A%20transparent%3B%20border-right%3A%201px%20solid%20rgb(233%2C%20233%2C%20233)%3B%22%3E.17%3C%2Fdiv%3E%3Cdiv%20class%3D%22aui-table-cell%22%20style%3D%22height%3A%2028px%3B%20left%3A%20120px%3B%20top%3A%20224px%3B%20width%3A%20120px%3B%20text-align%3A%20right%3B%20font-size%3A%2012px%3B%20padding%3A%204px%204px%203px%3B%20overflow%3A%20hidden%3B%20position%3A%20absolute%3B%20white-space%3A%20nowrap%3B%20text-overflow%3A%20ellipsis%3B%20background-color%3A%20transparent%3B%20border-right%3A%201px%20solid%20rgb(233%2C%20233%2C%20233)%3B%22%3E22.00%3C%2Fdiv%3E%3Cdiv%20class%3D%22aui-table-cell%22%20style%3D%22height%3A%2028px%3B%20left%3A%20240px%3B%20top%3A%20224px%3B%20width%3A%20120px%3B%20text-align%3A%20right%3B%20font-size%3A%2012px%3B%20padding%3A%204px%204px%203px%3B%20overflow%3A%20hidden%3B%20position%3A%20absolute%3B%20white-space%3A%20nowrap%3B%20text-overflow%3A%20ellipsis%3B%20background-color%3A%20transparent%3B%20border-right%3A%201px%20solid%20rgb(233%2C%20233%2C%20233)%3B%22%3E8.18%3C%2Fdiv%3E%3Cdiv%20class%3D%22aui-table-cell%22%20style%3D%22height%3A%2028px%3B%20left%3A%20360px%3B%20top%3A%20224px%3B%20width%3A%20120px%3B%20text-align%3A%20right%3B%20font-size%3A%2012px%3B%20padding%3A%204px%204px%203px%3B%20overflow%3A%20hidden%3B%20position%3A%20absolute%3B%20white-space%3A%20nowrap%3B%20text-overflow%3A%20ellipsis%3B%20background-color%3A%20transparent%3B%20border-right%3A%201px%20solid%20rgb(233%2C%20233%2C%20233)%3B%22%3E273%3C%2Fdiv%3E%3Cdiv%20class%3D%22aui-table-cell%22%20style%3D%22height%3A%2028px%3B%20left%3A%200px%3B%20top%3A%20252px%3B%20width%3A%20120px%3B%20text-align%3A%20right%3B%20font-size%3A%2012px%3B%20padding%3A%204px%204px%203px%3B%20overflow%3A%20hidden%3B%20position%3A%20absolute%3B%20white-space%3A%20nowrap%3B%20text-overflow%3A%20ellipsis%3B%20background-color%3A%20rgb(250%2C%20250%2C%20250)%3B%20border-right%3A%201px%20solid%20rgb(233%2C%20233%2C%20233)%3B%22%3E.07%3C%2Fdiv%3E%3Cdiv%20class%3D%22aui-table-cell%22%20style%3D%22height%3A%2028px%3B%20left%3A%20120px%3B%20top%3A%20252px%3B%20width%3A%20120px%3B%20text-align%3A%20right%3B%20font-size%3A%2012px%3B%20padding%3A%204px%204px%203px%3B%20overflow%3A%20hidden%3B%20position%3A%20absolute%3B%20white-space%3A%20nowrap%3B%20text-overflow%3A%20ellipsis%3B%20background-color%3A%20rgb(250%2C%20250%2C%20250)%3B%20border-right%3A%201px%20solid%20rgb(233%2C%20233%2C%20233)%3B%22%3E39.00%3C%2Fdiv%3E%3Cdiv%20class%3D%22aui-table-cell%22%20style%3D%22height%3A%2028px%3B%20left%3A%20240px%3B%20top%3A%20252px%3B%20width%3A%20120px%3B%20text-align%3A%20right%3B%20font-size%3A%2012px%3B%20padding%3A%204px%204px%203px%3B%20overflow%3A%20hidden%3B%20position%3A%20absolute%3B%20white-space%3A%20nowrap%3B%20text-overflow%3A%20ellipsis%3B%20background-color%3A%20rgb(250%2C%20250%2C%20250)%3B%20border-right%3A%201px%20solid%20rgb(233%2C%20233%2C%20233)%3B%22%3E2.35%3C%2Fdiv%3E%3Cdiv%20class%3D%22aui-table-cell%22%20style%3D%22height%3A%2028px%3B%20left%3A%20360px%3B%20top%3A%20252px%3B%20width%3A%20120px%3B%20text-align%3A%20right%3B%20font-size%3A%2012px%3B%20padding%3A%204px%204px%203px%3B%20overflow%3A%20hidden%3B%20position%3A%20absolute%3B%20white-space%3A%20nowrap%3B%20text-overflow%3A%20ellipsis%3B%20background-color%3A%20rgb(250%2C%20250%2C%20250)%3B%20border-right%3A%201px%20solid%20rgb(233%2C%20233%2C%20233)%3B%22%3E270%3C%2Fdiv%3E%3Cdiv%20class%3D%22aui-table-cell%22%20style%3D%22height%3A%2028px%3B%20left%3A%200px%3B%20top%3A%20280px%3B%20width%3A%20120px%3B%20text-align%3A%20right%3B%20font-size%3A%2012px%3B%20padding%3A%204px%204px%203px%3B%20overflow%3A%20hidden%3B%20position%3A%20absolute%3B%20white-space%3A%20nowrap%3B%20text-overflow%3A%20ellipsis%3B%20background-color%3A%20transparent%3B%20border-right%3A%201px%20solid%20rgb(233%2C%20233%2C%20233)%3B%22%3E2.21%3C%2Fdiv%3E%3Cdiv%20class%3D%22aui-table-cell%22%20style%3D%22height%3A%2028px%3B%20left%3A%20120px%3B%20top%3A%20280px%3B%20width%3A%20120px%3B%20text-align%3A%20right%3B%20font-size%3A%2012px%3B%20padding%3A%204px%204px%203px%3B%20overflow%3A%20hidden%3B%20position%3A%20absolute%3B%20white-space%3A%20nowrap%3B%20text-overflow%3A%20ellipsis%3B%20background-color%3A%20transparent%3B%20border-right%3A%201px%20solid%20rgb(233%2C%20233%2C%20233)%3B%22%3E176.00%3C%2Fdiv%3E%3Cdiv%20class%3D%22aui-table-cell%22%20style%3D%22height%3A%2028px%3B%20left%3A%20240px%3B%20top%3A%20280px%3B%20width%3A%20120px%3B%20text-align%3A%20right%3B%20font-size%3A%2012px%3B%20padding%3A%204px%204px%203px%3B%20overflow%3A%20hidden%3B%20position%3A%20absolute%3B%20white-space%3A%20nowrap%3B%20text-overflow%3A%20ellipsis%3B%20background-color%3A%20transparent%3B%20border-right%3A%201px%20solid%20rgb(233%2C%20233%2C%20233)%3B%22%3E72.99%3C%2Fdiv%3E%3Cdiv%20class%3D%22aui-table-cell%22%20style%3D%22height%3A%2028px%3B%20left%3A%20360px%3B%20top%3A%20280px%3B%20width%3A%20120px%3B%20text-align%3A%20right%3B%20font-size%3A%2012px%3B%20padding%3A%204px%204px%203px%3B%20overflow%3A%20hidden%3B%20position%3A%20absolute%3B%20white-space%3A%20nowrap%3B%20text-overflow%3A%20ellipsis%3B%20background-color%3A%20transparent%3B%20border-right%3A%201px%20solid%20rgb(233%2C%20233%2C%20233)%3B%22%3E267%3C%2Fdiv%3E%3Cdiv%20class%3D%22aui-table-cell%22%20style%3D%22height%3A%2028px%3B%20left%3A%200px%3B%20top%3A%20308px%3B%20width%3A%20120px%3B%20text-align%3A%20right%3B%20font-size%3A%2012px%3B%20padding%3A%204px%204px%203px%3B%20overflow%3A%20hidden%3B%20position%3A%20absolute%3B%20white-space%3A%20nowrap%3B%20text-overflow%3A%20ellipsis%3B%20background-color%3A%20rgb(250%2C%20250%2C%20250)%3B%20border-right%3A%201px%20solid%20rgb(233%2C%20233%2C%20233)%3B%22%3E.29%3C%2Fdiv%3E%3Cdiv%20class%3D%22aui-table-cell%22%20style%3D%22height%3A%2028px%3B%20left%3A%20120px%3B%20top%3A%20308px%3B%20width%3A%20120px%3B%20text-align%3A%20right%3B%20font-size%3A%2012px%3B%20padding%3A%204px%204px%203px%3B%20overflow%3A%20hidden%3B%20position%3A%20absolute%3B%20white-space%3A%20nowrap%3B%20text-overflow%3A%20ellipsis%3B%20background-color%3A%20rgb(250%2C%20250%2C%20250)%3B%20border-right%3A%201px%20solid%20rgb(233%2C%20233%2C%20233)%3B%22%3E12.00%3C%2Fdiv%3E%3Cdiv%20class%3D%22aui-table-cell%22%20style%3D%22height%3A%2028px%3B%20left%3A%20240px%3B%20top%3A%20308px%3B%20width%3A%20120px%3B%20text-align%3A%20right%3B%20font-size%3A%2012px%3B%20padding%3A%204px%204px%203px%3B%20overflow%3A%20hidden%3B%20position%3A%20absolute%3B%20white-space%3A%20nowrap%3B%20text-overflow%3A%20ellipsis%3B%20background-color%3A%20rgb(250%2C%20250%2C%20250)%3B%20border-right%3A%201px%20solid%20rgb(233%2C%20233%2C%20233)%3B%22%3E7.97%3C%2Fdiv%3E%3Cdiv%20class%3D%22aui-table-cell%22%20style%3D%22height%3A%2028px%3B%20left%3A%20360px%3B%20top%3A%20308px%3B%20width%3A%20120px%3B%20text-align%3A%20right%3B%20font-size%3A%2012px%3B%20padding%3A%204px%204px%203px%3B%20overflow%3A%20hidden%3B%20position%3A%20absolute%3B%20white-space%3A%20nowrap%3B%20text-overflow%3A%20ellipsis%3B%20background-color%3A%20rgb(250%2C%20250%2C%20250)%3B%20border-right%3A%201px%20solid%20rgb(233%2C%20233%2C%20233)%3B%22%3E263%3C%2Fdiv%3E%3C%2Fdiv%3E%3C%2Fdiv%3E%3C%2Fdiv%3E%3C%2Fdiv%3E%3C%2Fdiv%3E%3Cdiv%20class%3D%22css-1uww2vi-Table%22%3E%3C%2Fdiv%3E%3C%2Fdiv%3E%3C%2Fdiv%3E%3C%2Fdiv%3E%3C%2Fdiv%3E%3C%2Fdiv%3E%3C%2FforeignObject%3E%3C%2Fsvg%3E\">"
      ],
      "text/plain": [
       "Open the notebook in JupyterLab with the atoti extension enabled to build this widget."
      ]
     },
     "metadata": {},
     "output_type": "display_data"
    }
   ],
   "source": [
    "session.visualize(\n",
    "    \"Top 10 influencers - Number of replies, retweets and quotes, and likes per tweets\"\n",
    ")"
   ]
  },
  {
   "cell_type": "markdown",
   "metadata": {},
   "source": [
    "The table here above shows, for each influencer:\n",
    "\n",
    "- The number of tweets from each influencer (in the last colonne (contributor.COUNT))\n",
    "- The average number of replies for each tweet\n",
    "- The average number of retweets and quotes for each tweet\n",
    "- The average number of likes for each tweet\n",
    "\n",
    "We can observe that, in general, it's not those who produce the most tweets that are the most replied to, retweeted or liked.\n",
    "It's the case with Dr. Robin Kiera who tweeted the most last month (346 tweets), but is not even amongst the top 10 most replied."
   ]
  },
  {
   "cell_type": "markdown",
   "metadata": {},
   "source": [
    "The following visualization illustrate well our obersvation."
   ]
  },
  {
   "cell_type": "markdown",
   "metadata": {},
   "source": [
    "#### Top 10 influencers - Number of replies per tweet"
   ]
  },
  {
   "cell_type": "code",
   "execution_count": 15,
   "metadata": {
    "atoti": {
     "widget": {
      "filters": [
       "TopCount(Filter([influencer].[name].Levels(1).Members, NOT IsEmpty([Measures].[replies])), 10, [Measures].[replies])"
      ],
      "mapping": {
       "columnValues": [
        "[Measures].[replies]"
       ],
       "horizontalSubplots": [],
       "lineValues": [
        "[Measures].[replies_mean]"
       ],
       "verticalSubplots": [],
       "xAxis": [
        "[influencer].[name].[name]"
       ]
      },
      "query": {
       "mdx": "SELECT NON EMPTY Order(Hierarchize(Descendants({[influencer].[name].[AllMember]}, 1, SELF_AND_BEFORE)), [Measures].[replies], DESC) ON ROWS, NON EMPTY {[Measures].[replies], [Measures].[replies_mean]} ON COLUMNS FROM [influencer_cube]",
       "updateMode": "once"
      },
      "serverKey": "default",
      "widgetKey": "plotly-clustered-column-and-line-chart"
     }
    },
    "tags": []
   },
   "outputs": [
    {
     "data": {
      "application/vnd.atoti.widget.v0+json": {
       "name": "Top 10 influencers - Number of replies per tweet",
       "sessionId": "1648807225_BF0YEB",
       "sessionLocation": {
        "https": null,
        "port": 61470
       },
       "widgetCreationCode": "session.visualize()"
      },
      "text/html": [
       "<img src=\"data:image/svg+xml;charset=utf8,%3C%3Fxml%20version%3D%221.0%22%20standalone%3D%22no%22%3F%3E%3Csvg%20xmlns%3D%22http%3A%2F%2Fwww.w3.org%2F2000%2Fsvg%22%20xmlns%3Axlink%3D%22http%3A%2F%2Fwww.w3.org%2F1999%2Fxlink%22%20height%3D%22352%22%20width%3D%22967%22%20viewBox%3D%220%200%20967%20352%22%3E%3Cdefs%20id%3D%22defs-564905%22%3E%3Cg%20class%3D%22clips%22%3E%3CclipPath%20id%3D%22clip564905xyplot%22%20class%3D%22plotclip%22%3E%3Crect%20width%3D%22746%22%20height%3D%22242%22%2F%3E%3C%2FclipPath%3E%3CclipPath%20id%3D%22clip564905xy2plot%22%20class%3D%22plotclip%22%3E%3Crect%20width%3D%22746%22%20height%3D%22242%22%2F%3E%3C%2FclipPath%3E%3CclipPath%20class%3D%22axesclip%22%20id%3D%22clip564905x%22%3E%3Crect%20x%3D%2280%22%20y%3D%220%22%20width%3D%22746%22%20height%3D%22352%22%2F%3E%3C%2FclipPath%3E%3CclipPath%20class%3D%22axesclip%22%20id%3D%22clip564905y%22%3E%3Crect%20x%3D%220%22%20y%3D%2230%22%20width%3D%22967%22%20height%3D%22242%22%2F%3E%3C%2FclipPath%3E%3CclipPath%20class%3D%22axesclip%22%20id%3D%22clip564905xy%22%3E%3Crect%20x%3D%2280%22%20y%3D%2230%22%20width%3D%22746%22%20height%3D%22242%22%2F%3E%3C%2FclipPath%3E%3CclipPath%20class%3D%22axesclip%22%20id%3D%22clip564905y2%22%3E%3Crect%20x%3D%220%22%20y%3D%2230%22%20width%3D%22967%22%20height%3D%22242%22%2F%3E%3C%2FclipPath%3E%3CclipPath%20class%3D%22axesclip%22%20id%3D%22clip564905xy2%22%3E%3Crect%20x%3D%2280%22%20y%3D%2230%22%20width%3D%22746%22%20height%3D%22242%22%2F%3E%3C%2FclipPath%3E%3C%2Fg%3E%3Cg%20class%3D%22gradients%22%2F%3E%3C%2Fdefs%3E%3Cg%20class%3D%22bglayer%22%2F%3E%3Cg%20class%3D%22draglayer%20cursor-crosshair%22%3E%3Cg%20class%3D%22xy%22%3E%3Crect%20class%3D%22nsewdrag%20drag%22%20data-subplot%3D%22xy%22%20x%3D%2280%22%20y%3D%2230%22%20width%3D%22746%22%20height%3D%22242%22%20style%3D%22fill%3A%20transparent%3B%20stroke-width%3A%200%3B%20pointer-events%3A%20all%3B%22%2F%3E%3Crect%20class%3D%22nwdrag%20drag%20cursor-nw-resize%22%20data-subplot%3D%22xy%22%20x%3D%2260%22%20y%3D%2210%22%20width%3D%2220%22%20height%3D%2220%22%20style%3D%22fill%3A%20transparent%3B%20stroke-width%3A%200%3B%20pointer-events%3A%20all%3B%22%2F%3E%3Crect%20class%3D%22nedrag%20drag%20cursor-ne-resize%22%20data-subplot%3D%22xy%22%20x%3D%22826%22%20y%3D%2210%22%20width%3D%2220%22%20height%3D%2220%22%20style%3D%22fill%3A%20transparent%3B%20stroke-width%3A%200%3B%20pointer-events%3A%20all%3B%22%2F%3E%3Crect%20class%3D%22swdrag%20drag%20cursor-sw-resize%22%20data-subplot%3D%22xy%22%20x%3D%2260%22%20y%3D%22272%22%20width%3D%2220%22%20height%3D%2220%22%20style%3D%22fill%3A%20transparent%3B%20stroke-width%3A%200%3B%20pointer-events%3A%20all%3B%22%2F%3E%3Crect%20class%3D%22sedrag%20drag%20cursor-se-resize%22%20data-subplot%3D%22xy%22%20x%3D%22826%22%20y%3D%22272%22%20width%3D%2220%22%20height%3D%2220%22%20style%3D%22fill%3A%20transparent%3B%20stroke-width%3A%200%3B%20pointer-events%3A%20all%3B%22%2F%3E%3Crect%20class%3D%22ewdrag%20drag%20cursor-ew-resize%22%20data-subplot%3D%22xy%22%20x%3D%22154.60000000000002%22%20y%3D%22272.5%22%20width%3D%22596.8000000000001%22%20height%3D%2220%22%20style%3D%22fill%3A%20transparent%3B%20stroke-width%3A%200%3B%20pointer-events%3A%20all%3B%22%2F%3E%3Crect%20class%3D%22wdrag%20drag%20cursor-w-resize%22%20data-subplot%3D%22xy%22%20x%3D%2280%22%20y%3D%22272.5%22%20width%3D%2274.60000000000001%22%20height%3D%2220%22%20style%3D%22fill%3A%20transparent%3B%20stroke-width%3A%200%3B%20pointer-events%3A%20all%3B%22%2F%3E%3Crect%20class%3D%22edrag%20drag%20cursor-e-resize%22%20data-subplot%3D%22xy%22%20x%3D%22751.4%22%20y%3D%22272.5%22%20width%3D%2274.60000000000001%22%20height%3D%2220%22%20style%3D%22fill%3A%20transparent%3B%20stroke-width%3A%200%3B%20pointer-events%3A%20all%3B%22%2F%3E%3Crect%20class%3D%22nsdrag%20drag%20cursor-ns-resize%22%20data-subplot%3D%22xy%22%20x%3D%2259.5%22%20y%3D%2254.2%22%20width%3D%2220%22%20height%3D%22193.60000000000002%22%20style%3D%22fill%3A%20transparent%3B%20stroke-width%3A%200%3B%20pointer-events%3A%20all%3B%22%2F%3E%3Crect%20class%3D%22sdrag%20drag%20cursor-s-resize%22%20data-subplot%3D%22xy%22%20x%3D%2259.5%22%20y%3D%22247.8%22%20width%3D%2220%22%20height%3D%2224.200000000000003%22%20style%3D%22fill%3A%20transparent%3B%20stroke-width%3A%200%3B%20pointer-events%3A%20all%3B%22%2F%3E%3Crect%20class%3D%22ndrag%20drag%20cursor-n-resize%22%20data-subplot%3D%22xy%22%20x%3D%2259.5%22%20y%3D%2230%22%20width%3D%2220%22%20height%3D%2224.200000000000003%22%20style%3D%22fill%3A%20transparent%3B%20stroke-width%3A%200%3B%20pointer-events%3A%20all%3B%22%2F%3E%3C%2Fg%3E%3Cg%20class%3D%22xy2%22%3E%3Crect%20class%3D%22nsdrag%20drag%20cursor-ns-resize%22%20data-subplot%3D%22xy2%22%20x%3D%22826.5%22%20y%3D%2254.2%22%20width%3D%2220%22%20height%3D%22193.60000000000002%22%20style%3D%22fill%3A%20transparent%3B%20stroke-width%3A%200%3B%20pointer-events%3A%20all%3B%22%2F%3E%3Crect%20class%3D%22sdrag%20drag%20cursor-s-resize%22%20data-subplot%3D%22xy2%22%20x%3D%22826.5%22%20y%3D%22247.8%22%20width%3D%2220%22%20height%3D%2224.200000000000003%22%20style%3D%22fill%3A%20transparent%3B%20stroke-width%3A%200%3B%20pointer-events%3A%20all%3B%22%2F%3E%3Crect%20class%3D%22ndrag%20drag%20cursor-n-resize%22%20data-subplot%3D%22xy2%22%20x%3D%22826.5%22%20y%3D%2230%22%20width%3D%2220%22%20height%3D%2224.200000000000003%22%20style%3D%22fill%3A%20transparent%3B%20stroke-width%3A%200%3B%20pointer-events%3A%20all%3B%22%2F%3E%3C%2Fg%3E%3C%2Fg%3E%3Cg%20class%3D%22layer-below%22%3E%3Cg%20class%3D%22imagelayer%22%2F%3E%3Cg%20class%3D%22shapelayer%22%2F%3E%3C%2Fg%3E%3Cg%20class%3D%22cartesianlayer%22%3E%3Cg%20class%3D%22subplot%20xy%22%3E%3Cg%20class%3D%22layer-subplot%22%3E%3Cg%20class%3D%22shapelayer%22%2F%3E%3Cg%20class%3D%22imagelayer%22%2F%3E%3C%2Fg%3E%3Cg%20class%3D%22gridlayer%22%3E%3Cg%20class%3D%22x%22%3E%3Cpath%20class%3D%22xgrid%20crisp%22%20transform%3D%22translate(121.05%2C0)%22%20d%3D%22M0%2C30v242%22%20style%3D%22stroke%3A%20rgb(0%2C%200%2C%200)%3B%20stroke-opacity%3A%200%3B%20stroke-width%3A%201px%3B%22%2F%3E%3Cpath%20class%3D%22xgrid%20crisp%22%20transform%3D%22translate(194.82%2C0)%22%20d%3D%22M0%2C30v242%22%20style%3D%22stroke%3A%20rgb(0%2C%200%2C%200)%3B%20stroke-opacity%3A%200%3B%20stroke-width%3A%201px%3B%22%2F%3E%3Cpath%20class%3D%22xgrid%20crisp%22%20transform%3D%22translate(268.58000000000004%2C0)%22%20d%3D%22M0%2C30v242%22%20style%3D%22stroke%3A%20rgb(0%2C%200%2C%200)%3B%20stroke-opacity%3A%200%3B%20stroke-width%3A%201px%3B%22%2F%3E%3Cpath%20class%3D%22xgrid%20crisp%22%20transform%3D%22translate(342.35%2C0)%22%20d%3D%22M0%2C30v242%22%20style%3D%22stroke%3A%20rgb(0%2C%200%2C%200)%3B%20stroke-opacity%3A%200%3B%20stroke-width%3A%201px%3B%22%2F%3E%3Cpath%20class%3D%22xgrid%20crisp%22%20transform%3D%22translate(416.12%2C0)%22%20d%3D%22M0%2C30v242%22%20style%3D%22stroke%3A%20rgb(0%2C%200%2C%200)%3B%20stroke-opacity%3A%200%3B%20stroke-width%3A%201px%3B%22%2F%3E%3Cpath%20class%3D%22xgrid%20crisp%22%20transform%3D%22translate(489.88%2C0)%22%20d%3D%22M0%2C30v242%22%20style%3D%22stroke%3A%20rgb(0%2C%200%2C%200)%3B%20stroke-opacity%3A%200%3B%20stroke-width%3A%201px%3B%22%2F%3E%3Cpath%20class%3D%22xgrid%20crisp%22%20transform%3D%22translate(563.65%2C0)%22%20d%3D%22M0%2C30v242%22%20style%3D%22stroke%3A%20rgb(0%2C%200%2C%200)%3B%20stroke-opacity%3A%200%3B%20stroke-width%3A%201px%3B%22%2F%3E%3Cpath%20class%3D%22xgrid%20crisp%22%20transform%3D%22translate(637.42%2C0)%22%20d%3D%22M0%2C30v242%22%20style%3D%22stroke%3A%20rgb(0%2C%200%2C%200)%3B%20stroke-opacity%3A%200%3B%20stroke-width%3A%201px%3B%22%2F%3E%3Cpath%20class%3D%22xgrid%20crisp%22%20transform%3D%22translate(711.18%2C0)%22%20d%3D%22M0%2C30v242%22%20style%3D%22stroke%3A%20rgb(0%2C%200%2C%200)%3B%20stroke-opacity%3A%200%3B%20stroke-width%3A%201px%3B%22%2F%3E%3Cpath%20class%3D%22xgrid%20crisp%22%20transform%3D%22translate(784.95%2C0)%22%20d%3D%22M0%2C30v242%22%20style%3D%22stroke%3A%20rgb(0%2C%200%2C%200)%3B%20stroke-opacity%3A%200%3B%20stroke-width%3A%201px%3B%22%2F%3E%3C%2Fg%3E%3Cg%20class%3D%22y%22%3E%3Cpath%20class%3D%22ygrid%20crisp%22%20transform%3D%22translate(0%2C231.57)%22%20d%3D%22M80%2C0h746%22%20style%3D%22stroke%3A%20rgb(89%2C%2089%2C%2089)%3B%20stroke-opacity%3A%200.25%3B%20stroke-width%3A%201px%3B%22%2F%3E%3Cpath%20class%3D%22ygrid%20crisp%22%20transform%3D%22translate(0%2C191.13)%22%20d%3D%22M80%2C0h746%22%20style%3D%22stroke%3A%20rgb(89%2C%2089%2C%2089)%3B%20stroke-opacity%3A%200.25%3B%20stroke-width%3A%201px%3B%22%2F%3E%3Cpath%20class%3D%22ygrid%20crisp%22%20transform%3D%22translate(0%2C150.7)%22%20d%3D%22M80%2C0h746%22%20style%3D%22stroke%3A%20rgb(89%2C%2089%2C%2089)%3B%20stroke-opacity%3A%200.25%3B%20stroke-width%3A%201px%3B%22%2F%3E%3Cpath%20class%3D%22ygrid%20crisp%22%20transform%3D%22translate(0%2C110.26)%22%20d%3D%22M80%2C0h746%22%20style%3D%22stroke%3A%20rgb(89%2C%2089%2C%2089)%3B%20stroke-opacity%3A%200.25%3B%20stroke-width%3A%201px%3B%22%2F%3E%3Cpath%20class%3D%22ygrid%20crisp%22%20transform%3D%22translate(0%2C69.83)%22%20d%3D%22M80%2C0h746%22%20style%3D%22stroke%3A%20rgb(89%2C%2089%2C%2089)%3B%20stroke-opacity%3A%200.25%3B%20stroke-width%3A%201px%3B%22%2F%3E%3C%2Fg%3E%3Cg%20class%3D%22y2%22%3E%3Cpath%20class%3D%22y2grid%20crisp%22%20transform%3D%22translate(0%2C152.7)%22%20d%3D%22M80%2C0h746%22%20style%3D%22stroke%3A%20rgb(238%2C%20238%2C%20238)%3B%20stroke-opacity%3A%201%3B%20stroke-width%3A%201px%3B%22%2F%3E%3Cpath%20class%3D%22y2grid%20crisp%22%20transform%3D%22translate(0%2C92.2)%22%20d%3D%22M80%2C0h746%22%20style%3D%22stroke%3A%20rgb(238%2C%20238%2C%20238)%3B%20stroke-opacity%3A%201%3B%20stroke-width%3A%201px%3B%22%2F%3E%3Cpath%20class%3D%22y2grid%20crisp%22%20transform%3D%22translate(0%2C31.7)%22%20d%3D%22M80%2C0h746%22%20style%3D%22stroke%3A%20rgb(238%2C%20238%2C%20238)%3B%20stroke-opacity%3A%201%3B%20stroke-width%3A%201px%3B%22%2F%3E%3C%2Fg%3E%3C%2Fg%3E%3Cg%20class%3D%22zerolinelayer%22%3E%3Cpath%20class%3D%22yzl%20zl%20crisp%22%20transform%3D%22translate(0%2C272)%22%20d%3D%22M80%2C0h746%22%20style%3D%22stroke%3A%20rgb(89%2C%2089%2C%2089)%3B%20stroke-opacity%3A%200.5%3B%20stroke-width%3A%201px%3B%22%2F%3E%3Cpath%20class%3D%22y2zl%20zl%20crisp%22%20transform%3D%22translate(0%2C213.2)%22%20d%3D%22M80%2C0h746%22%20style%3D%22stroke%3A%20rgb(68%2C%2068%2C%2068)%3B%20stroke-opacity%3A%201%3B%20stroke-width%3A%201px%3B%22%2F%3E%3C%2Fg%3E%3Cpath%20class%3D%22xlines-below%22%2F%3E%3Cpath%20class%3D%22ylines-below%22%2F%3E%3Cg%20class%3D%22overlines-below%22%3E%3Cpath%20class%3D%22xy2-x%22%2F%3E%3Cpath%20class%3D%22xy2-y%22%2F%3E%3C%2Fg%3E%3Cg%20class%3D%22xaxislayer-below%22%2F%3E%3Cg%20class%3D%22yaxislayer-below%22%2F%3E%3Cg%20class%3D%22overaxes-below%22%3E%3Cg%20class%3D%22xy2-x%22%2F%3E%3Cg%20class%3D%22xy2-y%22%2F%3E%3C%2Fg%3E%3Cg%20class%3D%22plot%22%20transform%3D%22translate(80%2C30)%22%20clip-path%3D%22url('%23clip564905xyplot')%22%3E%3Cg%20class%3D%22barlayer%20mlayer%22%3E%3Cg%20class%3D%22trace%20bars%22%20style%3D%22opacity%3A%201%3B%22%3E%3Cg%20class%3D%22points%22%3E%3Cg%20class%3D%22point%22%3E%3Cpath%20d%3D%22M11.54%2C242V12.1H70.56V242Z%22%20style%3D%22vector-effect%3A%20non-scaling-stroke%3B%20opacity%3A%201%3B%20stroke-width%3A%200px%3B%20fill%3A%20rgb(78%2C%20121%2C%20167)%3B%20fill-opacity%3A%201%3B%22%2F%3E%3C%2Fg%3E%3Cg%20class%3D%22point%22%3E%3Cpath%20d%3D%22M85.31%2C242V125.22H144.32V242Z%22%20style%3D%22vector-effect%3A%20non-scaling-stroke%3B%20opacity%3A%201%3B%20stroke-width%3A%200px%3B%20fill%3A%20rgb(78%2C%20121%2C%20167)%3B%20fill-opacity%3A%201%3B%22%2F%3E%3C%2Fg%3E%3Cg%20class%3D%22point%22%3E%3Cpath%20d%3D%22M159.08%2C242V206.48H218.09V242Z%22%20style%3D%22vector-effect%3A%20non-scaling-stroke%3B%20opacity%3A%201%3B%20stroke-width%3A%200px%3B%20fill%3A%20rgb(78%2C%20121%2C%20167)%3B%20fill-opacity%3A%201%3B%22%2F%3E%3C%2Fg%3E%3Cg%20class%3D%22point%22%3E%3Cpath%20d%3D%22M232.84%2C242V211.47H291.86V242Z%22%20style%3D%22vector-effect%3A%20non-scaling-stroke%3B%20opacity%3A%201%3B%20stroke-width%3A%200px%3B%20fill%3A%20rgb(78%2C%20121%2C%20167)%3B%20fill-opacity%3A%201%3B%22%2F%3E%3C%2Fg%3E%3Cg%20class%3D%22point%22%3E%3Cpath%20d%3D%22M306.61%2C242V214.15H365.62V242Z%22%20style%3D%22vector-effect%3A%20non-scaling-stroke%3B%20opacity%3A%201%3B%20stroke-width%3A%200px%3B%20fill%3A%20rgb(78%2C%20121%2C%20167)%3B%20fill-opacity%3A%201%3B%22%2F%3E%3C%2Fg%3E%3Cg%20class%3D%22point%22%3E%3Cpath%20d%3D%22M380.38%2C242V221.78H439.39V242Z%22%20style%3D%22vector-effect%3A%20non-scaling-stroke%3B%20opacity%3A%201%3B%20stroke-width%3A%200px%3B%20fill%3A%20rgb(78%2C%20121%2C%20167)%3B%20fill-opacity%3A%201%3B%22%2F%3E%3C%2Fg%3E%3Cg%20class%3D%22point%22%3E%3Cpath%20d%3D%22M454.14%2C242V227.3H513.16V242Z%22%20style%3D%22vector-effect%3A%20non-scaling-stroke%3B%20opacity%3A%201%3B%20stroke-width%3A%200px%3B%20fill%3A%20rgb(78%2C%20121%2C%20167)%3B%20fill-opacity%3A%201%3B%22%2F%3E%3C%2Fg%3E%3Cg%20class%3D%22point%22%3E%3Cpath%20d%3D%22M527.91%2C242V231.22H586.92V242Z%22%20style%3D%22vector-effect%3A%20non-scaling-stroke%3B%20opacity%3A%201%3B%20stroke-width%3A%200px%3B%20fill%3A%20rgb(78%2C%20121%2C%20167)%3B%20fill-opacity%3A%201%3B%22%2F%3E%3C%2Fg%3E%3Cg%20class%3D%22point%22%3E%3Cpath%20d%3D%22M601.68%2C242V233.08H660.69V242Z%22%20style%3D%22vector-effect%3A%20non-scaling-stroke%3B%20opacity%3A%201%3B%20stroke-width%3A%200px%3B%20fill%3A%20rgb(78%2C%20121%2C%20167)%3B%20fill-opacity%3A%201%3B%22%2F%3E%3C%2Fg%3E%3Cg%20class%3D%22point%22%3E%3Cpath%20d%3D%22M675.44%2C242V233.91H734.46V242Z%22%20style%3D%22vector-effect%3A%20non-scaling-stroke%3B%20opacity%3A%201%3B%20stroke-width%3A%200px%3B%20fill%3A%20rgb(78%2C%20121%2C%20167)%3B%20fill-opacity%3A%201%3B%22%2F%3E%3C%2Fg%3E%3C%2Fg%3E%3C%2Fg%3E%3C%2Fg%3E%3C%2Fg%3E%3Cg%20class%3D%22overplot%22%3E%3Cg%20class%3D%22xy2%22%20transform%3D%22translate(80%2C30)%22%20clip-path%3D%22url('%23clip564905xy2plot')%22%3E%3Cg%20class%3D%22scatterlayer%20mlayer%22%3E%3Cg%20class%3D%22trace%20scatter%20tracea77c90%22%20style%3D%22stroke-miterlimit%3A%202%3B%20opacity%3A%201%3B%22%3E%3Cg%20class%3D%22fills%22%2F%3E%3Cg%20class%3D%22errorbars%22%2F%3E%3Cg%20class%3D%22lines%22%3E%3Cpath%20class%3D%22js-line%22%20d%3D%22M41.05%2C121L704.95%2C121%22%20style%3D%22vector-effect%3A%20non-scaling-stroke%3B%20fill%3A%20none%3B%20stroke%3A%20rgb(242%2C%20142%2C%2044)%3B%20stroke-opacity%3A%201%3B%20stroke-width%3A%202px%3B%20opacity%3A%201%3B%22%2F%3E%3C%2Fg%3E%3Cg%20class%3D%22points%22%3E%3Cpath%20class%3D%22point%22%20transform%3D%22translate(41.05%2C121)%22%20d%3D%22M3%2C0A3%2C3%200%201%2C1%200%2C-3A3%2C3%200%200%2C1%203%2C0Z%22%20style%3D%22opacity%3A%201%3B%20stroke-width%3A%200px%3B%20fill%3A%20rgb(242%2C%20142%2C%2044)%3B%20fill-opacity%3A%201%3B%22%2F%3E%3Cpath%20class%3D%22point%22%20transform%3D%22translate(114.82%2C121)%22%20d%3D%22M3%2C0A3%2C3%200%201%2C1%200%2C-3A3%2C3%200%200%2C1%203%2C0Z%22%20style%3D%22opacity%3A%201%3B%20stroke-width%3A%200px%3B%20fill%3A%20rgb(242%2C%20142%2C%2044)%3B%20fill-opacity%3A%201%3B%22%2F%3E%3Cpath%20class%3D%22point%22%20transform%3D%22translate(188.58%2C121)%22%20d%3D%22M3%2C0A3%2C3%200%201%2C1%200%2C-3A3%2C3%200%200%2C1%203%2C0Z%22%20style%3D%22opacity%3A%201%3B%20stroke-width%3A%200px%3B%20fill%3A%20rgb(242%2C%20142%2C%2044)%3B%20fill-opacity%3A%201%3B%22%2F%3E%3Cpath%20class%3D%22point%22%20transform%3D%22translate(262.35%2C121)%22%20d%3D%22M3%2C0A3%2C3%200%201%2C1%200%2C-3A3%2C3%200%200%2C1%203%2C0Z%22%20style%3D%22opacity%3A%201%3B%20stroke-width%3A%200px%3B%20fill%3A%20rgb(242%2C%20142%2C%2044)%3B%20fill-opacity%3A%201%3B%22%2F%3E%3Cpath%20class%3D%22point%22%20transform%3D%22translate(336.12%2C121)%22%20d%3D%22M3%2C0A3%2C3%200%201%2C1%200%2C-3A3%2C3%200%200%2C1%203%2C0Z%22%20style%3D%22opacity%3A%201%3B%20stroke-width%3A%200px%3B%20fill%3A%20rgb(242%2C%20142%2C%2044)%3B%20fill-opacity%3A%201%3B%22%2F%3E%3Cpath%20class%3D%22point%22%20transform%3D%22translate(409.88%2C121)%22%20d%3D%22M3%2C0A3%2C3%200%201%2C1%200%2C-3A3%2C3%200%200%2C1%203%2C0Z%22%20style%3D%22opacity%3A%201%3B%20stroke-width%3A%200px%3B%20fill%3A%20rgb(242%2C%20142%2C%2044)%3B%20fill-opacity%3A%201%3B%22%2F%3E%3Cpath%20class%3D%22point%22%20transform%3D%22translate(483.65%2C121)%22%20d%3D%22M3%2C0A3%2C3%200%201%2C1%200%2C-3A3%2C3%200%200%2C1%203%2C0Z%22%20style%3D%22opacity%3A%201%3B%20stroke-width%3A%200px%3B%20fill%3A%20rgb(242%2C%20142%2C%2044)%3B%20fill-opacity%3A%201%3B%22%2F%3E%3Cpath%20class%3D%22point%22%20transform%3D%22translate(557.42%2C121)%22%20d%3D%22M3%2C0A3%2C3%200%201%2C1%200%2C-3A3%2C3%200%200%2C1%203%2C0Z%22%20style%3D%22opacity%3A%201%3B%20stroke-width%3A%200px%3B%20fill%3A%20rgb(242%2C%20142%2C%2044)%3B%20fill-opacity%3A%201%3B%22%2F%3E%3Cpath%20class%3D%22point%22%20transform%3D%22translate(631.18%2C121)%22%20d%3D%22M3%2C0A3%2C3%200%201%2C1%200%2C-3A3%2C3%200%200%2C1%203%2C0Z%22%20style%3D%22opacity%3A%201%3B%20stroke-width%3A%200px%3B%20fill%3A%20rgb(242%2C%20142%2C%2044)%3B%20fill-opacity%3A%201%3B%22%2F%3E%3Cpath%20class%3D%22point%22%20transform%3D%22translate(704.95%2C121)%22%20d%3D%22M3%2C0A3%2C3%200%201%2C1%200%2C-3A3%2C3%200%200%2C1%203%2C0Z%22%20style%3D%22opacity%3A%201%3B%20stroke-width%3A%200px%3B%20fill%3A%20rgb(242%2C%20142%2C%2044)%3B%20fill-opacity%3A%201%3B%22%2F%3E%3C%2Fg%3E%3Cg%20class%3D%22text%22%2F%3E%3C%2Fg%3E%3C%2Fg%3E%3C%2Fg%3E%3C%2Fg%3E%3Cpath%20class%3D%22xlines-above%20crisp%22%20d%3D%22M79%2C272.5H826%22%20style%3D%22fill%3A%20none%3B%20stroke-width%3A%201px%3B%20stroke%3A%20rgb(89%2C%2089%2C%2089)%3B%20stroke-opacity%3A%200.25%3B%22%2F%3E%3Cpath%20class%3D%22ylines-above%20crisp%22%20d%3D%22M79.5%2C30V272%22%20style%3D%22fill%3A%20none%3B%20stroke-width%3A%201px%3B%20stroke%3A%20rgb(89%2C%2089%2C%2089)%3B%20stroke-opacity%3A%200.25%3B%22%2F%3E%3Cg%20class%3D%22overlines-above%22%3E%3Cpath%20class%3D%22xy2-x%20crisp%22%20d%3D%22M0%2C0%22%20style%3D%22fill%3A%20none%3B%22%2F%3E%3Cpath%20class%3D%22xy2-y%20crisp%22%20d%3D%22M0%2C0%22%20style%3D%22fill%3A%20none%3B%22%2F%3E%3C%2Fg%3E%3Cg%20class%3D%22xaxislayer-above%22%3E%3Cg%20class%3D%22xtick%22%3E%3Ctext%20text-anchor%3D%22start%22%20x%3D%220%22%20y%3D%22287.4%22%20data-unformatted%3D%22Andrej%20Karpathy%22%20data-math%3D%22N%22%20transform%3D%22translate(121.05%2C0)%20rotate(30%2C0%2C281.4)%22%20style%3D%22font-family%3A%20%26quot%3BOpen%20Sans%26quot%3B%2C%20verdana%2C%20arial%2C%20sans-serif%3B%20font-size%3A%2012px%3B%20fill%3A%20rgb(89%2C%2089%2C%2089)%3B%20fill-opacity%3A%201%3B%20white-space%3A%20pre%3B%22%3EAndrej%20Karpathy%3C%2Ftext%3E%3C%2Fg%3E%3Cg%20class%3D%22xtick%22%3E%3Ctext%20text-anchor%3D%22start%22%20x%3D%220%22%20y%3D%22287.4%22%20data-unformatted%3D%22%F0%9F%94%A5%20Kareem%20Carr%20%F0%9F%94%A5%22%20data-math%3D%22N%22%20transform%3D%22translate(194.82%2C0)%20rotate(30%2C0%2C281.4)%22%20style%3D%22font-family%3A%20%26quot%3BOpen%20Sans%26quot%3B%2C%20verdana%2C%20arial%2C%20sans-serif%3B%20font-size%3A%2012px%3B%20fill%3A%20rgb(89%2C%2089%2C%2089)%3B%20fill-opacity%3A%201%3B%20white-space%3A%20pre%3B%22%3E%F0%9F%94%A5%20Kareem%20Carr%20%F0%9F%94%A5%3C%2Ftext%3E%3C%2Fg%3E%3Cg%20class%3D%22xtick%22%3E%3Ctext%20text-anchor%3D%22start%22%20x%3D%220%22%20y%3D%22287.4%22%20data-unformatted%3D%22Pedro%20Domingos%22%20data-math%3D%22N%22%20transform%3D%22translate(268.58000000000004%2C0)%20rotate(30%2C0%2C281.4)%22%20style%3D%22font-family%3A%20%26quot%3BOpen%20Sans%26quot%3B%2C%20verdana%2C%20arial%2C%20sans-serif%3B%20font-size%3A%2012px%3B%20fill%3A%20rgb(89%2C%2089%2C%2089)%3B%20fill-opacity%3A%201%3B%20white-space%3A%20pre%3B%22%3EPedro%20Domingos%3C%2Ftext%3E%3C%2Fg%3E%3Cg%20class%3D%22xtick%22%3E%3Ctext%20text-anchor%3D%22start%22%20x%3D%220%22%20y%3D%22287.4%22%20data-unformatted%3D%22Fran%C3%A7ois%20Chollet%22%20data-math%3D%22N%22%20transform%3D%22translate(342.35%2C0)%20rotate(30%2C0%2C281.4)%22%20style%3D%22font-family%3A%20%26quot%3BOpen%20Sans%26quot%3B%2C%20verdana%2C%20arial%2C%20sans-serif%3B%20font-size%3A%2012px%3B%20fill%3A%20rgb(89%2C%2089%2C%2089)%3B%20fill-opacity%3A%201%3B%20white-space%3A%20pre%3B%22%3EFran%C3%A7ois%20Chollet%3C%2Ftext%3E%3C%2Fg%3E%3Cg%20class%3D%22xtick%22%3E%3Ctext%20text-anchor%3D%22start%22%20x%3D%220%22%20y%3D%22287.4%22%20data-unformatted%3D%22Hilary%20Mason%22%20data-math%3D%22N%22%20transform%3D%22translate(416.12%2C0)%20rotate(30%2C0%2C281.4)%22%20style%3D%22font-family%3A%20%26quot%3BOpen%20Sans%26quot%3B%2C%20verdana%2C%20arial%2C%20sans-serif%3B%20font-size%3A%2012px%3B%20fill%3A%20rgb(89%2C%2089%2C%2089)%3B%20fill-opacity%3A%201%3B%20white-space%3A%20pre%3B%22%3EHilary%20Mason%3C%2Ftext%3E%3C%2Fg%3E%3Cg%20class%3D%22xtick%22%3E%3Ctext%20text-anchor%3D%22start%22%20x%3D%220%22%20y%3D%22287.4%22%20data-unformatted%3D%22Oriol%20Vinyals%22%20data-math%3D%22N%22%20transform%3D%22translate(489.88%2C0)%20rotate(30%2C0%2C281.4)%22%20style%3D%22font-family%3A%20%26quot%3BOpen%20Sans%26quot%3B%2C%20verdana%2C%20arial%2C%20sans-serif%3B%20font-size%3A%2012px%3B%20fill%3A%20rgb(89%2C%2089%2C%2089)%3B%20fill-opacity%3A%201%3B%20white-space%3A%20pre%3B%22%3EOriol%20Vinyals%3C%2Ftext%3E%3C%2Fg%3E%3Cg%20class%3D%22xtick%22%3E%3Ctext%20text-anchor%3D%22start%22%20x%3D%220%22%20y%3D%22287.4%22%20data-unformatted%3D%22Randy%20Olson%22%20data-math%3D%22N%22%20transform%3D%22translate(563.65%2C0)%20rotate(30%2C0%2C281.4)%22%20style%3D%22font-family%3A%20%26quot%3BOpen%20Sans%26quot%3B%2C%20verdana%2C%20arial%2C%20sans-serif%3B%20font-size%3A%2012px%3B%20fill%3A%20rgb(89%2C%2089%2C%2089)%3B%20fill-opacity%3A%201%3B%20white-space%3A%20pre%3B%22%3ERandy%20Olson%3C%2Ftext%3E%3C%2Fg%3E%3Cg%20class%3D%22xtick%22%3E%3Ctext%20text-anchor%3D%22start%22%20x%3D%220%22%20y%3D%22287.4%22%20data-unformatted%3D%22Ilya%20Sutskever%22%20data-math%3D%22N%22%20transform%3D%22translate(637.42%2C0)%20rotate(30%2C0%2C281.4)%22%20style%3D%22font-family%3A%20%26quot%3BOpen%20Sans%26quot%3B%2C%20verdana%2C%20arial%2C%20sans-serif%3B%20font-size%3A%2012px%3B%20fill%3A%20rgb(89%2C%2089%2C%2089)%3B%20fill-opacity%3A%201%3B%20white-space%3A%20pre%3B%22%3EIlya%20Sutskever%3C%2Ftext%3E%3C%2Fg%3E%3Cg%20class%3D%22xtick%22%3E%3Ctext%20text-anchor%3D%22start%22%20x%3D%220%22%20y%3D%22287.4%22%20data-unformatted%3D%22Alvin%20Foo%22%20data-math%3D%22N%22%20transform%3D%22translate(711.18%2C0)%20rotate(30%2C0%2C281.4)%22%20style%3D%22font-family%3A%20%26quot%3BOpen%20Sans%26quot%3B%2C%20verdana%2C%20arial%2C%20sans-serif%3B%20font-size%3A%2012px%3B%20fill%3A%20rgb(89%2C%2089%2C%2089)%3B%20fill-opacity%3A%201%3B%20white-space%3A%20pre%3B%22%3EAlvin%20Foo%3C%2Ftext%3E%3C%2Fg%3E%3Cg%20class%3D%22xtick%22%3E%3Ctext%20text-anchor%3D%22start%22%20x%3D%220%22%20y%3D%22287.4%22%20data-unformatted%3D%22Ferenc%20Husz%C3%A1r%F0%9F%87%AA%F0%9F%87%BA%22%20data-math%3D%22N%22%20transform%3D%22translate(784.95%2C0)%20rotate(30%2C0%2C281.4)%22%20style%3D%22font-family%3A%20%26quot%3BOpen%20Sans%26quot%3B%2C%20verdana%2C%20arial%2C%20sans-serif%3B%20font-size%3A%2012px%3B%20fill%3A%20rgb(89%2C%2089%2C%2089)%3B%20fill-opacity%3A%201%3B%20white-space%3A%20pre%3B%22%3EFerenc%20Husz%C3%A1r%F0%9F%87%AA%F0%9F%87%BA%3C%2Ftext%3E%3C%2Fg%3E%3C%2Fg%3E%3Cg%20class%3D%22yaxislayer-above%22%3E%3Cg%20class%3D%22ytick%22%3E%3Ctext%20text-anchor%3D%22end%22%20x%3D%2276.6%22%20y%3D%224.199999999999999%22%20data-unformatted%3D%220%22%20data-math%3D%22N%22%20transform%3D%22translate(0%2C272)%22%20style%3D%22font-family%3A%20%26quot%3BOpen%20Sans%26quot%3B%2C%20verdana%2C%20arial%2C%20sans-serif%3B%20font-size%3A%2012px%3B%20fill%3A%20rgb(89%2C%2089%2C%2089)%3B%20fill-opacity%3A%201%3B%20white-space%3A%20pre%3B%22%3E0%3C%2Ftext%3E%3C%2Fg%3E%3Cg%20class%3D%22ytick%22%3E%3Ctext%20text-anchor%3D%22end%22%20x%3D%2276.6%22%20y%3D%224.199999999999999%22%20data-unformatted%3D%2210%22%20data-math%3D%22N%22%20transform%3D%22translate(0%2C231.57)%22%20style%3D%22font-family%3A%20%26quot%3BOpen%20Sans%26quot%3B%2C%20verdana%2C%20arial%2C%20sans-serif%3B%20font-size%3A%2012px%3B%20fill%3A%20rgb(89%2C%2089%2C%2089)%3B%20fill-opacity%3A%201%3B%20white-space%3A%20pre%3B%22%3E10%3C%2Ftext%3E%3C%2Fg%3E%3Cg%20class%3D%22ytick%22%3E%3Ctext%20text-anchor%3D%22end%22%20x%3D%2276.6%22%20y%3D%224.199999999999999%22%20data-unformatted%3D%2220%22%20data-math%3D%22N%22%20transform%3D%22translate(0%2C191.13)%22%20style%3D%22font-family%3A%20%26quot%3BOpen%20Sans%26quot%3B%2C%20verdana%2C%20arial%2C%20sans-serif%3B%20font-size%3A%2012px%3B%20fill%3A%20rgb(89%2C%2089%2C%2089)%3B%20fill-opacity%3A%201%3B%20white-space%3A%20pre%3B%22%3E20%3C%2Ftext%3E%3C%2Fg%3E%3Cg%20class%3D%22ytick%22%3E%3Ctext%20text-anchor%3D%22end%22%20x%3D%2276.6%22%20y%3D%224.199999999999999%22%20data-unformatted%3D%2230%22%20data-math%3D%22N%22%20transform%3D%22translate(0%2C150.7)%22%20style%3D%22font-family%3A%20%26quot%3BOpen%20Sans%26quot%3B%2C%20verdana%2C%20arial%2C%20sans-serif%3B%20font-size%3A%2012px%3B%20fill%3A%20rgb(89%2C%2089%2C%2089)%3B%20fill-opacity%3A%201%3B%20white-space%3A%20pre%3B%22%3E30%3C%2Ftext%3E%3C%2Fg%3E%3Cg%20class%3D%22ytick%22%3E%3Ctext%20text-anchor%3D%22end%22%20x%3D%2276.6%22%20y%3D%224.199999999999999%22%20data-unformatted%3D%2240%22%20data-math%3D%22N%22%20transform%3D%22translate(0%2C110.26)%22%20style%3D%22font-family%3A%20%26quot%3BOpen%20Sans%26quot%3B%2C%20verdana%2C%20arial%2C%20sans-serif%3B%20font-size%3A%2012px%3B%20fill%3A%20rgb(89%2C%2089%2C%2089)%3B%20fill-opacity%3A%201%3B%20white-space%3A%20pre%3B%22%3E40%3C%2Ftext%3E%3C%2Fg%3E%3Cg%20class%3D%22ytick%22%3E%3Ctext%20text-anchor%3D%22end%22%20x%3D%2276.6%22%20y%3D%224.199999999999999%22%20data-unformatted%3D%2250%22%20data-math%3D%22N%22%20transform%3D%22translate(0%2C69.83)%22%20style%3D%22font-family%3A%20%26quot%3BOpen%20Sans%26quot%3B%2C%20verdana%2C%20arial%2C%20sans-serif%3B%20font-size%3A%2012px%3B%20fill%3A%20rgb(89%2C%2089%2C%2089)%3B%20fill-opacity%3A%201%3B%20white-space%3A%20pre%3B%22%3E50%3C%2Ftext%3E%3C%2Fg%3E%3C%2Fg%3E%3Cg%20class%3D%22overaxes-above%22%3E%3Cg%20class%3D%22xy2-x%22%2F%3E%3Cg%20class%3D%22xy2-y%22%3E%3Cg%20class%3D%22y2tick%22%3E%3Ctext%20text-anchor%3D%22start%22%20x%3D%22827%22%20y%3D%224.199999999999999%22%20data-unformatted%3D%220%22%20data-math%3D%22N%22%20transform%3D%22translate(0%2C213.2)%22%20style%3D%22font-family%3A%20%26quot%3BOpen%20Sans%26quot%3B%2C%20verdana%2C%20arial%2C%20sans-serif%3B%20font-size%3A%2012px%3B%20fill%3A%20rgb(89%2C%2089%2C%2089)%3B%20fill-opacity%3A%201%3B%20white-space%3A%20pre%3B%22%3E0%3C%2Ftext%3E%3C%2Fg%3E%3Cg%20class%3D%22y2tick%22%3E%3Ctext%20text-anchor%3D%22start%22%20x%3D%22827%22%20y%3D%224.199999999999999%22%20data-unformatted%3D%220.5%22%20data-math%3D%22N%22%20transform%3D%22translate(0%2C152.7)%22%20style%3D%22font-family%3A%20%26quot%3BOpen%20Sans%26quot%3B%2C%20verdana%2C%20arial%2C%20sans-serif%3B%20font-size%3A%2012px%3B%20fill%3A%20rgb(89%2C%2089%2C%2089)%3B%20fill-opacity%3A%201%3B%20white-space%3A%20pre%3B%22%3E0.5%3C%2Ftext%3E%3C%2Fg%3E%3Cg%20class%3D%22y2tick%22%3E%3Ctext%20text-anchor%3D%22start%22%20x%3D%22827%22%20y%3D%224.199999999999999%22%20data-unformatted%3D%221%22%20data-math%3D%22N%22%20transform%3D%22translate(0%2C92.2)%22%20style%3D%22font-family%3A%20%26quot%3BOpen%20Sans%26quot%3B%2C%20verdana%2C%20arial%2C%20sans-serif%3B%20font-size%3A%2012px%3B%20fill%3A%20rgb(89%2C%2089%2C%2089)%3B%20fill-opacity%3A%201%3B%20white-space%3A%20pre%3B%22%3E1%3C%2Ftext%3E%3C%2Fg%3E%3Cg%20class%3D%22y2tick%22%3E%3Ctext%20text-anchor%3D%22start%22%20x%3D%22827%22%20y%3D%224.199999999999999%22%20data-unformatted%3D%221.5%22%20data-math%3D%22N%22%20transform%3D%22translate(0%2C31.7)%22%20style%3D%22font-family%3A%20%26quot%3BOpen%20Sans%26quot%3B%2C%20verdana%2C%20arial%2C%20sans-serif%3B%20font-size%3A%2012px%3B%20fill%3A%20rgb(89%2C%2089%2C%2089)%3B%20fill-opacity%3A%201%3B%20white-space%3A%20pre%3B%22%3E1.5%3C%2Ftext%3E%3C%2Fg%3E%3C%2Fg%3E%3C%2Fg%3E%3C%2Fg%3E%3Cg%20class%3D%22subplot%20xy2%22%2F%3E%3C%2Fg%3E%3Cg%20class%3D%22polarlayer%22%2F%3E%3Cg%20class%3D%22ternarylayer%22%2F%3E%3Cg%20class%3D%22geolayer%22%2F%3E%3Cg%20class%3D%22funnelarealayer%22%2F%3E%3Cg%20class%3D%22pielayer%22%2F%3E%3Cg%20class%3D%22treemaplayer%22%2F%3E%3Cg%20class%3D%22sunburstlayer%22%2F%3E%3Cg%20class%3D%22glimages%22%2F%3E%3Cdefs%20id%3D%22topdefs-564905%22%3E%3Cg%20class%3D%22clips%22%2F%3E%3CclipPath%20id%3D%22legend564905%22%3E%3Crect%20width%3D%22126%22%20height%3D%2258%22%20x%3D%220%22%20y%3D%220%22%2F%3E%3C%2FclipPath%3E%3C%2Fdefs%3E%3Cg%20class%3D%22indicatorlayer%22%2F%3E%3Cg%20class%3D%22layer-above%22%3E%3Cg%20class%3D%22imagelayer%22%2F%3E%3Cg%20class%3D%22shapelayer%22%2F%3E%3C%2Fg%3E%3Cg%20class%3D%22infolayer%22%3E%3Cg%20class%3D%22legend%22%20pointer-events%3D%22all%22%20transform%3D%22translate(840.92%2C30)%22%3E%3Crect%20class%3D%22bg%22%20shape-rendering%3D%22crispEdges%22%20width%3D%22126%22%20height%3D%2258%22%20x%3D%220%22%20y%3D%220%22%20style%3D%22stroke%3A%20rgb(68%2C%2068%2C%2068)%3B%20stroke-opacity%3A%201%3B%20fill%3A%20rgb(255%2C%20255%2C%20255)%3B%20fill-opacity%3A%201%3B%20stroke-width%3A%200px%3B%22%2F%3E%3Cg%20class%3D%22scrollbox%22%20transform%3D%22%22%20clip-path%3D%22url('%23legend564905')%22%3E%3Cg%20class%3D%22groups%22%20transform%3D%22%22%3E%3Cg%20class%3D%22traces%22%20transform%3D%22translate(0%2C14.5)%22%20style%3D%22opacity%3A%201%3B%22%3E%3Ctext%20class%3D%22legendtext%22%20text-anchor%3D%22start%22%20x%3D%2240%22%20y%3D%224.680000000000001%22%20data-unformatted%3D%22replies%22%20data-math%3D%22N%22%20style%3D%22font-family%3A%20%26quot%3BOpen%20Sans%26quot%3B%2C%20verdana%2C%20arial%2C%20sans-serif%3B%20font-size%3A%2012px%3B%20fill%3A%20rgb(89%2C%2089%2C%2089)%3B%20fill-opacity%3A%201%3B%20white-space%3A%20pre%3B%22%3Ereplies%3C%2Ftext%3E%3Cg%20class%3D%22layers%22%20style%3D%22opacity%3A%201%3B%22%3E%3Cg%20class%3D%22legendfill%22%2F%3E%3Cg%20class%3D%22legendlines%22%2F%3E%3Cg%20class%3D%22legendsymbols%22%3E%3Cg%20class%3D%22legendpoints%22%3E%3Cpath%20class%3D%22legendundefined%22%20d%3D%22M6%2C6H-6V-6H6Z%22%20transform%3D%22translate(20%2C0)%22%20style%3D%22stroke-width%3A%200px%3B%20fill%3A%20rgb(78%2C%20121%2C%20167)%3B%20fill-opacity%3A%201%3B%22%2F%3E%3C%2Fg%3E%3C%2Fg%3E%3C%2Fg%3E%3Crect%20class%3D%22legendtoggle%22%20pointer-events%3D%22all%22%20x%3D%220%22%20y%3D%22-9.5%22%20width%3D%22120.98750305175781%22%20height%3D%2219%22%20style%3D%22cursor%3A%20pointer%3B%20fill%3A%20rgb(0%2C%200%2C%200)%3B%20fill-opacity%3A%200%3B%22%2F%3E%3C%2Fg%3E%3C%2Fg%3E%3Cg%20class%3D%22groups%22%20transform%3D%22translate(0%2C10)%22%3E%3Cg%20class%3D%22traces%22%20transform%3D%22translate(0%2C33.5)%22%20style%3D%22opacity%3A%201%3B%22%3E%3Ctext%20class%3D%22legendtext%22%20text-anchor%3D%22start%22%20x%3D%2240%22%20y%3D%224.680000000000001%22%20data-unformatted%3D%22replies_mean%22%20data-math%3D%22N%22%20style%3D%22font-family%3A%20%26quot%3BOpen%20Sans%26quot%3B%2C%20verdana%2C%20arial%2C%20sans-serif%3B%20font-size%3A%2012px%3B%20fill%3A%20rgb(89%2C%2089%2C%2089)%3B%20fill-opacity%3A%201%3B%20white-space%3A%20pre%3B%22%3Ereplies_mean%3C%2Ftext%3E%3Cg%20class%3D%22layers%22%20style%3D%22opacity%3A%201%3B%22%3E%3Cg%20class%3D%22legendfill%22%2F%3E%3Cg%20class%3D%22legendlines%22%3E%3Cpath%20class%3D%22js-line%22%20d%3D%22M5%2C0h30%22%20style%3D%22fill%3A%20none%3B%20stroke%3A%20rgb(242%2C%20142%2C%2044)%3B%20stroke-opacity%3A%201%3B%20stroke-width%3A%202px%3B%22%2F%3E%3C%2Fg%3E%3Cg%20class%3D%22legendsymbols%22%3E%3Cg%20class%3D%22legendpoints%22%3E%3Cpath%20class%3D%22scatterpts%22%20transform%3D%22translate(20%2C0)%22%20d%3D%22M3%2C0A3%2C3%200%201%2C1%200%2C-3A3%2C3%200%200%2C1%203%2C0Z%22%20style%3D%22opacity%3A%201%3B%20stroke-width%3A%200px%3B%20fill%3A%20rgb(242%2C%20142%2C%2044)%3B%20fill-opacity%3A%201%3B%22%2F%3E%3Cg%20class%3D%22pointtext%22%20transform%3D%22translate(0%2C12.25)%22%3E%3Ctext%20transform%3D%22translate(20%2C0)%22%20data-unformatted%3D%22Aa%22%20data-math%3D%22N%22%20x%3D%220%22%20y%3D%220%22%20text-anchor%3D%22middle%22%20style%3D%22font-family%3A%20%26quot%3BOpen%20Sans%26quot%3B%2C%20verdana%2C%20arial%2C%20sans-serif%3B%20font-size%3A%2010px%3B%20fill%3A%20rgb(89%2C%2089%2C%2089)%3B%20fill-opacity%3A%201%3B%20white-space%3A%20pre%3B%22%3EAa%3C%2Ftext%3E%3C%2Fg%3E%3C%2Fg%3E%3C%2Fg%3E%3C%2Fg%3E%3Crect%20class%3D%22legendtoggle%22%20pointer-events%3D%22all%22%20x%3D%220%22%20y%3D%22-9.5%22%20width%3D%22120.98750305175781%22%20height%3D%2219%22%20style%3D%22cursor%3A%20pointer%3B%20fill%3A%20rgb(0%2C%200%2C%200)%3B%20fill-opacity%3A%200%3B%22%2F%3E%3C%2Fg%3E%3C%2Fg%3E%3C%2Fg%3E%3Crect%20class%3D%22scrollbar%22%20rx%3D%2220%22%20ry%3D%223%22%20width%3D%220%22%20height%3D%220%22%20x%3D%220%22%20y%3D%220%22%20style%3D%22fill%3A%20rgb(128%2C%20139%2C%20164)%3B%20fill-opacity%3A%201%3B%22%2F%3E%3C%2Fg%3E%3Cg%20class%3D%22g-gtitle%22%2F%3E%3Cg%20class%3D%22g-xtitle%22%2F%3E%3Cg%20class%3D%22g-ytitle%22%2F%3E%3Cg%20class%3D%22g-y2title%22%2F%3E%3C%2Fg%3E%3Cg%20class%3D%22menulayer%22%2F%3E%3Cg%20class%3D%22zoomlayer%22%2F%3E%3Cg%20class%3D%22hoverlayer%22%2F%3E%3C%2Fsvg%3E\">"
      ],
      "text/plain": [
       "Open the notebook in JupyterLab with the atoti extension enabled to build this widget."
      ]
     },
     "metadata": {},
     "output_type": "display_data"
    }
   ],
   "source": [
    "session.visualize(\"Top 10 influencers - Number of replies per tweet\")"
   ]
  },
  {
   "cell_type": "markdown",
   "metadata": {},
   "source": [
    "#### Top 10 influencers - Number of retweets and quotes per tweet"
   ]
  },
  {
   "cell_type": "code",
   "execution_count": 16,
   "metadata": {
    "atoti": {
     "widget": {
      "filters": [
       "TopCount(Filter([influencer].[name].Levels(1).Members, NOT IsEmpty([Measures].[retweets_quotes])), 10, [Measures].[retweets_quotes])"
      ],
      "mapping": {
       "columnValues": [
        "[Measures].[retweets_quotes]"
       ],
       "horizontalSubplots": [],
       "lineValues": [
        "[Measures].[retweets_quotes_mean]"
       ],
       "verticalSubplots": [],
       "xAxis": [
        "[influencer].[name].[name]"
       ]
      },
      "query": {
       "mdx": "SELECT NON EMPTY Order(Hierarchize(Descendants({[influencer].[name].[AllMember]}, 1, SELF_AND_BEFORE)), [Measures].[retweets_quotes], BDESC) ON ROWS, NON EMPTY {[Measures].[retweets_quotes], [Measures].[retweets_quotes_mean]} ON COLUMNS FROM [influencer_cube]",
       "updateMode": "once"
      },
      "serverKey": "default",
      "widgetKey": "plotly-clustered-column-and-line-chart"
     }
    },
    "tags": []
   },
   "outputs": [
    {
     "data": {
      "application/vnd.atoti.widget.v0+json": {
       "name": "Top 10 influencers - Number of retweets and quotes per tweet",
       "sessionId": "1648807225_BF0YEB",
       "sessionLocation": {
        "https": null,
        "port": 61470
       },
       "widgetCreationCode": "session.visualize()"
      },
      "text/html": [
       "<img src=\"data:image/svg+xml;charset=utf8,%3C%3Fxml%20version%3D%221.0%22%20standalone%3D%22no%22%3F%3E%3Csvg%20xmlns%3D%22http%3A%2F%2Fwww.w3.org%2F2000%2Fsvg%22%20xmlns%3Axlink%3D%22http%3A%2F%2Fwww.w3.org%2F1999%2Fxlink%22%20height%3D%22352%22%20width%3D%22967%22%20viewBox%3D%220%200%20967%20352%22%3E%3Cdefs%20id%3D%22defs-308be3%22%3E%3Cg%20class%3D%22clips%22%3E%3CclipPath%20id%3D%22clip308be3xyplot%22%20class%3D%22plotclip%22%3E%3Crect%20width%3D%22686%22%20height%3D%22197%22%2F%3E%3C%2FclipPath%3E%3CclipPath%20id%3D%22clip308be3xy2plot%22%20class%3D%22plotclip%22%3E%3Crect%20width%3D%22686%22%20height%3D%22197%22%2F%3E%3C%2FclipPath%3E%3CclipPath%20class%3D%22axesclip%22%20id%3D%22clip308be3x%22%3E%3Crect%20x%3D%2280%22%20y%3D%220%22%20width%3D%22686%22%20height%3D%22352%22%2F%3E%3C%2FclipPath%3E%3CclipPath%20class%3D%22axesclip%22%20id%3D%22clip308be3y%22%3E%3Crect%20x%3D%220%22%20y%3D%2230%22%20width%3D%22967%22%20height%3D%22197%22%2F%3E%3C%2FclipPath%3E%3CclipPath%20class%3D%22axesclip%22%20id%3D%22clip308be3xy%22%3E%3Crect%20x%3D%2280%22%20y%3D%2230%22%20width%3D%22686%22%20height%3D%22197%22%2F%3E%3C%2FclipPath%3E%3CclipPath%20class%3D%22axesclip%22%20id%3D%22clip308be3y2%22%3E%3Crect%20x%3D%220%22%20y%3D%2230%22%20width%3D%22967%22%20height%3D%22197%22%2F%3E%3C%2FclipPath%3E%3CclipPath%20class%3D%22axesclip%22%20id%3D%22clip308be3xy2%22%3E%3Crect%20x%3D%2280%22%20y%3D%2230%22%20width%3D%22686%22%20height%3D%22197%22%2F%3E%3C%2FclipPath%3E%3C%2Fg%3E%3Cg%20class%3D%22gradients%22%2F%3E%3C%2Fdefs%3E%3Cg%20class%3D%22bglayer%22%2F%3E%3Cg%20class%3D%22draglayer%20cursor-crosshair%22%3E%3Cg%20class%3D%22xy%22%3E%3Crect%20class%3D%22nsewdrag%20drag%22%20data-subplot%3D%22xy%22%20x%3D%2280%22%20y%3D%2230%22%20width%3D%22686%22%20height%3D%22197%22%20style%3D%22fill%3A%20transparent%3B%20stroke-width%3A%200%3B%20pointer-events%3A%20all%3B%22%2F%3E%3Crect%20class%3D%22nwdrag%20drag%20cursor-nw-resize%22%20data-subplot%3D%22xy%22%20x%3D%2260%22%20y%3D%2210%22%20width%3D%2220%22%20height%3D%2220%22%20style%3D%22fill%3A%20transparent%3B%20stroke-width%3A%200%3B%20pointer-events%3A%20all%3B%22%2F%3E%3Crect%20class%3D%22nedrag%20drag%20cursor-ne-resize%22%20data-subplot%3D%22xy%22%20x%3D%22766%22%20y%3D%2210%22%20width%3D%2220%22%20height%3D%2220%22%20style%3D%22fill%3A%20transparent%3B%20stroke-width%3A%200%3B%20pointer-events%3A%20all%3B%22%2F%3E%3Crect%20class%3D%22swdrag%20drag%20cursor-sw-resize%22%20data-subplot%3D%22xy%22%20x%3D%2260%22%20y%3D%22227%22%20width%3D%2220%22%20height%3D%2220%22%20style%3D%22fill%3A%20transparent%3B%20stroke-width%3A%200%3B%20pointer-events%3A%20all%3B%22%2F%3E%3Crect%20class%3D%22sedrag%20drag%20cursor-se-resize%22%20data-subplot%3D%22xy%22%20x%3D%22766%22%20y%3D%22227%22%20width%3D%2220%22%20height%3D%2220%22%20style%3D%22fill%3A%20transparent%3B%20stroke-width%3A%200%3B%20pointer-events%3A%20all%3B%22%2F%3E%3Crect%20class%3D%22ewdrag%20drag%20cursor-ew-resize%22%20data-subplot%3D%22xy%22%20x%3D%22148.60000000000002%22%20y%3D%22227.5%22%20width%3D%22548.8000000000001%22%20height%3D%2220%22%20style%3D%22fill%3A%20transparent%3B%20stroke-width%3A%200%3B%20pointer-events%3A%20all%3B%22%2F%3E%3Crect%20class%3D%22wdrag%20drag%20cursor-w-resize%22%20data-subplot%3D%22xy%22%20x%3D%2280%22%20y%3D%22227.5%22%20width%3D%2268.60000000000001%22%20height%3D%2220%22%20style%3D%22fill%3A%20transparent%3B%20stroke-width%3A%200%3B%20pointer-events%3A%20all%3B%22%2F%3E%3Crect%20class%3D%22edrag%20drag%20cursor-e-resize%22%20data-subplot%3D%22xy%22%20x%3D%22697.4%22%20y%3D%22227.5%22%20width%3D%2268.60000000000001%22%20height%3D%2220%22%20style%3D%22fill%3A%20transparent%3B%20stroke-width%3A%200%3B%20pointer-events%3A%20all%3B%22%2F%3E%3Crect%20class%3D%22nsdrag%20drag%20cursor-ns-resize%22%20data-subplot%3D%22xy%22%20x%3D%2259.5%22%20y%3D%2249.7%22%20width%3D%2220%22%20height%3D%22157.60000000000002%22%20style%3D%22fill%3A%20transparent%3B%20stroke-width%3A%200%3B%20pointer-events%3A%20all%3B%22%2F%3E%3Crect%20class%3D%22sdrag%20drag%20cursor-s-resize%22%20data-subplot%3D%22xy%22%20x%3D%2259.5%22%20y%3D%22207.3%22%20width%3D%2220%22%20height%3D%2219.700000000000003%22%20style%3D%22fill%3A%20transparent%3B%20stroke-width%3A%200%3B%20pointer-events%3A%20all%3B%22%2F%3E%3Crect%20class%3D%22ndrag%20drag%20cursor-n-resize%22%20data-subplot%3D%22xy%22%20x%3D%2259.5%22%20y%3D%2230%22%20width%3D%2220%22%20height%3D%2219.700000000000003%22%20style%3D%22fill%3A%20transparent%3B%20stroke-width%3A%200%3B%20pointer-events%3A%20all%3B%22%2F%3E%3C%2Fg%3E%3Cg%20class%3D%22xy2%22%3E%3Crect%20class%3D%22nsdrag%20drag%20cursor-ns-resize%22%20data-subplot%3D%22xy2%22%20x%3D%22766.5%22%20y%3D%2249.7%22%20width%3D%2220%22%20height%3D%22157.60000000000002%22%20style%3D%22fill%3A%20transparent%3B%20stroke-width%3A%200%3B%20pointer-events%3A%20all%3B%22%2F%3E%3Crect%20class%3D%22sdrag%20drag%20cursor-s-resize%22%20data-subplot%3D%22xy2%22%20x%3D%22766.5%22%20y%3D%22207.3%22%20width%3D%2220%22%20height%3D%2219.700000000000003%22%20style%3D%22fill%3A%20transparent%3B%20stroke-width%3A%200%3B%20pointer-events%3A%20all%3B%22%2F%3E%3Crect%20class%3D%22ndrag%20drag%20cursor-n-resize%22%20data-subplot%3D%22xy2%22%20x%3D%22766.5%22%20y%3D%2230%22%20width%3D%2220%22%20height%3D%2219.700000000000003%22%20style%3D%22fill%3A%20transparent%3B%20stroke-width%3A%200%3B%20pointer-events%3A%20all%3B%22%2F%3E%3C%2Fg%3E%3C%2Fg%3E%3Cg%20class%3D%22layer-below%22%3E%3Cg%20class%3D%22imagelayer%22%2F%3E%3Cg%20class%3D%22shapelayer%22%2F%3E%3C%2Fg%3E%3Cg%20class%3D%22cartesianlayer%22%3E%3Cg%20class%3D%22subplot%20xy%22%3E%3Cg%20class%3D%22layer-subplot%22%3E%3Cg%20class%3D%22shapelayer%22%2F%3E%3Cg%20class%3D%22imagelayer%22%2F%3E%3C%2Fg%3E%3Cg%20class%3D%22gridlayer%22%3E%3Cg%20class%3D%22x%22%3E%3Cpath%20class%3D%22xgrid%20crisp%22%20transform%3D%22translate(118.05%2C0)%22%20d%3D%22M0%2C30v197%22%20style%3D%22stroke%3A%20rgb(0%2C%200%2C%200)%3B%20stroke-opacity%3A%200%3B%20stroke-width%3A%201px%3B%22%2F%3E%3Cpath%20class%3D%22xgrid%20crisp%22%20transform%3D%22translate(185.82%2C0)%22%20d%3D%22M0%2C30v197%22%20style%3D%22stroke%3A%20rgb(0%2C%200%2C%200)%3B%20stroke-opacity%3A%200%3B%20stroke-width%3A%201px%3B%22%2F%3E%3Cpath%20class%3D%22xgrid%20crisp%22%20transform%3D%22translate(253.58%2C0)%22%20d%3D%22M0%2C30v197%22%20style%3D%22stroke%3A%20rgb(0%2C%200%2C%200)%3B%20stroke-opacity%3A%200%3B%20stroke-width%3A%201px%3B%22%2F%3E%3Cpath%20class%3D%22xgrid%20crisp%22%20transform%3D%22translate(321.35%2C0)%22%20d%3D%22M0%2C30v197%22%20style%3D%22stroke%3A%20rgb(0%2C%200%2C%200)%3B%20stroke-opacity%3A%200%3B%20stroke-width%3A%201px%3B%22%2F%3E%3Cpath%20class%3D%22xgrid%20crisp%22%20transform%3D%22translate(389.12%2C0)%22%20d%3D%22M0%2C30v197%22%20style%3D%22stroke%3A%20rgb(0%2C%200%2C%200)%3B%20stroke-opacity%3A%200%3B%20stroke-width%3A%201px%3B%22%2F%3E%3Cpath%20class%3D%22xgrid%20crisp%22%20transform%3D%22translate(456.88%2C0)%22%20d%3D%22M0%2C30v197%22%20style%3D%22stroke%3A%20rgb(0%2C%200%2C%200)%3B%20stroke-opacity%3A%200%3B%20stroke-width%3A%201px%3B%22%2F%3E%3Cpath%20class%3D%22xgrid%20crisp%22%20transform%3D%22translate(524.65%2C0)%22%20d%3D%22M0%2C30v197%22%20style%3D%22stroke%3A%20rgb(0%2C%200%2C%200)%3B%20stroke-opacity%3A%200%3B%20stroke-width%3A%201px%3B%22%2F%3E%3Cpath%20class%3D%22xgrid%20crisp%22%20transform%3D%22translate(592.42%2C0)%22%20d%3D%22M0%2C30v197%22%20style%3D%22stroke%3A%20rgb(0%2C%200%2C%200)%3B%20stroke-opacity%3A%200%3B%20stroke-width%3A%201px%3B%22%2F%3E%3Cpath%20class%3D%22xgrid%20crisp%22%20transform%3D%22translate(660.18%2C0)%22%20d%3D%22M0%2C30v197%22%20style%3D%22stroke%3A%20rgb(0%2C%200%2C%200)%3B%20stroke-opacity%3A%200%3B%20stroke-width%3A%201px%3B%22%2F%3E%3Cpath%20class%3D%22xgrid%20crisp%22%20transform%3D%22translate(727.95%2C0)%22%20d%3D%22M0%2C30v197%22%20style%3D%22stroke%3A%20rgb(0%2C%200%2C%200)%3B%20stroke-opacity%3A%200%3B%20stroke-width%3A%201px%3B%22%2F%3E%3C%2Fg%3E%3Cg%20class%3D%22y%22%3E%3Cpath%20class%3D%22ygrid%20crisp%22%20transform%3D%22translate(0%2C184.89)%22%20d%3D%22M80%2C0h686%22%20style%3D%22stroke%3A%20rgb(89%2C%2089%2C%2089)%3B%20stroke-opacity%3A%200.25%3B%20stroke-width%3A%201px%3B%22%2F%3E%3Cpath%20class%3D%22ygrid%20crisp%22%20transform%3D%22translate(0%2C142.76999999999998)%22%20d%3D%22M80%2C0h686%22%20style%3D%22stroke%3A%20rgb(89%2C%2089%2C%2089)%3B%20stroke-opacity%3A%200.25%3B%20stroke-width%3A%201px%3B%22%2F%3E%3Cpath%20class%3D%22ygrid%20crisp%22%20transform%3D%22translate(0%2C100.66)%22%20d%3D%22M80%2C0h686%22%20style%3D%22stroke%3A%20rgb(89%2C%2089%2C%2089)%3B%20stroke-opacity%3A%200.25%3B%20stroke-width%3A%201px%3B%22%2F%3E%3Cpath%20class%3D%22ygrid%20crisp%22%20transform%3D%22translate(0%2C58.55)%22%20d%3D%22M80%2C0h686%22%20style%3D%22stroke%3A%20rgb(89%2C%2089%2C%2089)%3B%20stroke-opacity%3A%200.25%3B%20stroke-width%3A%201px%3B%22%2F%3E%3C%2Fg%3E%3Cg%20class%3D%22y2%22%3E%3Cpath%20class%3D%22y2grid%20crisp%22%20transform%3D%22translate(0%2C177.75)%22%20d%3D%22M80%2C0h686%22%20style%3D%22stroke%3A%20rgb(238%2C%20238%2C%20238)%3B%20stroke-opacity%3A%201%3B%20stroke-width%3A%201px%3B%22%2F%3E%3Cpath%20class%3D%22y2grid%20crisp%22%20transform%3D%22translate(0%2C128.5)%22%20d%3D%22M80%2C0h686%22%20style%3D%22stroke%3A%20rgb(238%2C%20238%2C%20238)%3B%20stroke-opacity%3A%201%3B%20stroke-width%3A%201px%3B%22%2F%3E%3Cpath%20class%3D%22y2grid%20crisp%22%20transform%3D%22translate(0%2C79.25)%22%20d%3D%22M80%2C0h686%22%20style%3D%22stroke%3A%20rgb(238%2C%20238%2C%20238)%3B%20stroke-opacity%3A%201%3B%20stroke-width%3A%201px%3B%22%2F%3E%3C%2Fg%3E%3C%2Fg%3E%3Cg%20class%3D%22zerolinelayer%22%3E%3Cpath%20class%3D%22yzl%20zl%20crisp%22%20transform%3D%22translate(0%2C227)%22%20d%3D%22M80%2C0h686%22%20style%3D%22stroke%3A%20rgb(89%2C%2089%2C%2089)%3B%20stroke-opacity%3A%200.5%3B%20stroke-width%3A%201px%3B%22%2F%3E%3C%2Fg%3E%3Cpath%20class%3D%22xlines-below%22%2F%3E%3Cpath%20class%3D%22ylines-below%22%2F%3E%3Cg%20class%3D%22overlines-below%22%3E%3Cpath%20class%3D%22xy2-x%22%2F%3E%3Cpath%20class%3D%22xy2-y%22%2F%3E%3C%2Fg%3E%3Cg%20class%3D%22xaxislayer-below%22%2F%3E%3Cg%20class%3D%22yaxislayer-below%22%2F%3E%3Cg%20class%3D%22overaxes-below%22%3E%3Cg%20class%3D%22xy2-x%22%2F%3E%3Cg%20class%3D%22xy2-y%22%2F%3E%3C%2Fg%3E%3Cg%20class%3D%22plot%22%20transform%3D%22translate(80%2C30)%22%20clip-path%3D%22url('%23clip308be3xyplot')%22%3E%3Cg%20class%3D%22barlayer%20mlayer%22%3E%3Cg%20class%3D%22trace%20bars%22%20style%3D%22opacity%3A%201%3B%22%3E%3Cg%20class%3D%22points%22%3E%3Cg%20class%3D%22point%22%3E%3Cpath%20d%3D%22M10.94%2C197V9.85H65.16V197Z%22%20style%3D%22vector-effect%3A%20non-scaling-stroke%3B%20opacity%3A%201%3B%20stroke-width%3A%200px%3B%20fill%3A%20rgb(78%2C%20121%2C%20167)%3B%20fill-opacity%3A%201%3B%22%2F%3E%3C%2Fg%3E%3Cg%20class%3D%22point%22%3E%3Cpath%20d%3D%22M78.71%2C197V26.95H132.92V197Z%22%20style%3D%22vector-effect%3A%20non-scaling-stroke%3B%20opacity%3A%201%3B%20stroke-width%3A%200px%3B%20fill%3A%20rgb(78%2C%20121%2C%20167)%3B%20fill-opacity%3A%201%3B%22%2F%3E%3C%2Fg%3E%3Cg%20class%3D%22point%22%3E%3Cpath%20d%3D%22M146.48%2C197V51.5H200.69V197Z%22%20style%3D%22vector-effect%3A%20non-scaling-stroke%3B%20opacity%3A%201%3B%20stroke-width%3A%200px%3B%20fill%3A%20rgb(78%2C%20121%2C%20167)%3B%20fill-opacity%3A%201%3B%22%2F%3E%3C%2Fg%3E%3Cg%20class%3D%22point%22%3E%3Cpath%20d%3D%22M214.24%2C197V59.8H268.46V197Z%22%20style%3D%22vector-effect%3A%20non-scaling-stroke%3B%20opacity%3A%201%3B%20stroke-width%3A%200px%3B%20fill%3A%20rgb(78%2C%20121%2C%20167)%3B%20fill-opacity%3A%201%3B%22%2F%3E%3C%2Fg%3E%3Cg%20class%3D%22point%22%3E%3Cpath%20d%3D%22M282.01%2C197V65.94H336.22V197Z%22%20style%3D%22vector-effect%3A%20non-scaling-stroke%3B%20opacity%3A%201%3B%20stroke-width%3A%200px%3B%20fill%3A%20rgb(78%2C%20121%2C%20167)%3B%20fill-opacity%3A%201%3B%22%2F%3E%3C%2Fg%3E%3Cg%20class%3D%22point%22%3E%3Cpath%20d%3D%22M349.78%2C197V80.64H403.99V197Z%22%20style%3D%22vector-effect%3A%20non-scaling-stroke%3B%20opacity%3A%201%3B%20stroke-width%3A%200px%3B%20fill%3A%20rgb(78%2C%20121%2C%20167)%3B%20fill-opacity%3A%201%3B%22%2F%3E%3C%2Fg%3E%3Cg%20class%3D%22point%22%3E%3Cpath%20d%3D%22M417.54%2C197V87.34H471.76V197Z%22%20style%3D%22vector-effect%3A%20non-scaling-stroke%3B%20opacity%3A%201%3B%20stroke-width%3A%200px%3B%20fill%3A%20rgb(78%2C%20121%2C%20167)%3B%20fill-opacity%3A%201%3B%22%2F%3E%3C%2Fg%3E%3Cg%20class%3D%22point%22%3E%3Cpath%20d%3D%22M485.31%2C197V98.58H539.52V197Z%22%20style%3D%22vector-effect%3A%20non-scaling-stroke%3B%20opacity%3A%201%3B%20stroke-width%3A%200px%3B%20fill%3A%20rgb(78%2C%20121%2C%20167)%3B%20fill-opacity%3A%201%3B%22%2F%3E%3C%2Fg%3E%3Cg%20class%3D%22point%22%3E%3Cpath%20d%3D%22M553.08%2C197V125.58H607.29V197Z%22%20style%3D%22vector-effect%3A%20non-scaling-stroke%3B%20opacity%3A%201%3B%20stroke-width%3A%200px%3B%20fill%3A%20rgb(78%2C%20121%2C%20167)%3B%20fill-opacity%3A%201%3B%22%2F%3E%3C%2Fg%3E%3Cg%20class%3D%22point%22%3E%3Cpath%20d%3D%22M620.84%2C197V132.48H675.06V197Z%22%20style%3D%22vector-effect%3A%20non-scaling-stroke%3B%20opacity%3A%201%3B%20stroke-width%3A%200px%3B%20fill%3A%20rgb(78%2C%20121%2C%20167)%3B%20fill-opacity%3A%201%3B%22%2F%3E%3C%2Fg%3E%3C%2Fg%3E%3C%2Fg%3E%3C%2Fg%3E%3C%2Fg%3E%3Cg%20class%3D%22overplot%22%3E%3Cg%20class%3D%22xy2%22%20transform%3D%22translate(80%2C30)%22%20clip-path%3D%22url('%23clip308be3xy2plot')%22%3E%3Cg%20class%3D%22scatterlayer%20mlayer%22%3E%3Cg%20class%3D%22trace%20scatter%20trace6d9ac3%22%20style%3D%22stroke-miterlimit%3A%202%3B%20opacity%3A%201%3B%22%3E%3Cg%20class%3D%22fills%22%2F%3E%3Cg%20class%3D%22errorbars%22%2F%3E%3Cg%20class%3D%22lines%22%3E%3Cpath%20class%3D%22js-line%22%20d%3D%22M38.05%2C98.5L647.95%2C98.5%22%20style%3D%22vector-effect%3A%20non-scaling-stroke%3B%20fill%3A%20none%3B%20stroke%3A%20rgb(242%2C%20142%2C%2044)%3B%20stroke-opacity%3A%201%3B%20stroke-width%3A%202px%3B%20opacity%3A%201%3B%22%2F%3E%3C%2Fg%3E%3Cg%20class%3D%22points%22%3E%3Cpath%20class%3D%22point%22%20transform%3D%22translate(38.05%2C98.5)%22%20d%3D%22M3%2C0A3%2C3%200%201%2C1%200%2C-3A3%2C3%200%200%2C1%203%2C0Z%22%20style%3D%22opacity%3A%201%3B%20stroke-width%3A%200px%3B%20fill%3A%20rgb(242%2C%20142%2C%2044)%3B%20fill-opacity%3A%201%3B%22%2F%3E%3Cpath%20class%3D%22point%22%20transform%3D%22translate(105.82%2C98.5)%22%20d%3D%22M3%2C0A3%2C3%200%201%2C1%200%2C-3A3%2C3%200%200%2C1%203%2C0Z%22%20style%3D%22opacity%3A%201%3B%20stroke-width%3A%200px%3B%20fill%3A%20rgb(242%2C%20142%2C%2044)%3B%20fill-opacity%3A%201%3B%22%2F%3E%3Cpath%20class%3D%22point%22%20transform%3D%22translate(173.58%2C98.5)%22%20d%3D%22M3%2C0A3%2C3%200%201%2C1%200%2C-3A3%2C3%200%200%2C1%203%2C0Z%22%20style%3D%22opacity%3A%201%3B%20stroke-width%3A%200px%3B%20fill%3A%20rgb(242%2C%20142%2C%2044)%3B%20fill-opacity%3A%201%3B%22%2F%3E%3Cpath%20class%3D%22point%22%20transform%3D%22translate(241.35%2C98.5)%22%20d%3D%22M3%2C0A3%2C3%200%201%2C1%200%2C-3A3%2C3%200%200%2C1%203%2C0Z%22%20style%3D%22opacity%3A%201%3B%20stroke-width%3A%200px%3B%20fill%3A%20rgb(242%2C%20142%2C%2044)%3B%20fill-opacity%3A%201%3B%22%2F%3E%3Cpath%20class%3D%22point%22%20transform%3D%22translate(309.12%2C98.5)%22%20d%3D%22M3%2C0A3%2C3%200%201%2C1%200%2C-3A3%2C3%200%200%2C1%203%2C0Z%22%20style%3D%22opacity%3A%201%3B%20stroke-width%3A%200px%3B%20fill%3A%20rgb(242%2C%20142%2C%2044)%3B%20fill-opacity%3A%201%3B%22%2F%3E%3Cpath%20class%3D%22point%22%20transform%3D%22translate(376.88%2C98.5)%22%20d%3D%22M3%2C0A3%2C3%200%201%2C1%200%2C-3A3%2C3%200%200%2C1%203%2C0Z%22%20style%3D%22opacity%3A%201%3B%20stroke-width%3A%200px%3B%20fill%3A%20rgb(242%2C%20142%2C%2044)%3B%20fill-opacity%3A%201%3B%22%2F%3E%3Cpath%20class%3D%22point%22%20transform%3D%22translate(444.65%2C98.5)%22%20d%3D%22M3%2C0A3%2C3%200%201%2C1%200%2C-3A3%2C3%200%200%2C1%203%2C0Z%22%20style%3D%22opacity%3A%201%3B%20stroke-width%3A%200px%3B%20fill%3A%20rgb(242%2C%20142%2C%2044)%3B%20fill-opacity%3A%201%3B%22%2F%3E%3Cpath%20class%3D%22point%22%20transform%3D%22translate(512.42%2C98.5)%22%20d%3D%22M3%2C0A3%2C3%200%201%2C1%200%2C-3A3%2C3%200%200%2C1%203%2C0Z%22%20style%3D%22opacity%3A%201%3B%20stroke-width%3A%200px%3B%20fill%3A%20rgb(242%2C%20142%2C%2044)%3B%20fill-opacity%3A%201%3B%22%2F%3E%3Cpath%20class%3D%22point%22%20transform%3D%22translate(580.18%2C98.5)%22%20d%3D%22M3%2C0A3%2C3%200%201%2C1%200%2C-3A3%2C3%200%200%2C1%203%2C0Z%22%20style%3D%22opacity%3A%201%3B%20stroke-width%3A%200px%3B%20fill%3A%20rgb(242%2C%20142%2C%2044)%3B%20fill-opacity%3A%201%3B%22%2F%3E%3Cpath%20class%3D%22point%22%20transform%3D%22translate(647.95%2C98.5)%22%20d%3D%22M3%2C0A3%2C3%200%201%2C1%200%2C-3A3%2C3%200%200%2C1%203%2C0Z%22%20style%3D%22opacity%3A%201%3B%20stroke-width%3A%200px%3B%20fill%3A%20rgb(242%2C%20142%2C%2044)%3B%20fill-opacity%3A%201%3B%22%2F%3E%3C%2Fg%3E%3Cg%20class%3D%22text%22%3E%3Cg%20class%3D%22textpoint%22%2F%3E%3Cg%20class%3D%22textpoint%22%2F%3E%3Cg%20class%3D%22textpoint%22%2F%3E%3Cg%20class%3D%22textpoint%22%2F%3E%3Cg%20class%3D%22textpoint%22%2F%3E%3Cg%20class%3D%22textpoint%22%2F%3E%3Cg%20class%3D%22textpoint%22%2F%3E%3Cg%20class%3D%22textpoint%22%2F%3E%3Cg%20class%3D%22textpoint%22%2F%3E%3Cg%20class%3D%22textpoint%22%2F%3E%3C%2Fg%3E%3C%2Fg%3E%3C%2Fg%3E%3C%2Fg%3E%3C%2Fg%3E%3Cpath%20class%3D%22xlines-above%20crisp%22%20d%3D%22M79%2C227.5H766%22%20style%3D%22fill%3A%20none%3B%20stroke-width%3A%201px%3B%20stroke%3A%20rgb(89%2C%2089%2C%2089)%3B%20stroke-opacity%3A%200.25%3B%22%2F%3E%3Cpath%20class%3D%22ylines-above%20crisp%22%20d%3D%22M79.5%2C30V227%22%20style%3D%22fill%3A%20none%3B%20stroke-width%3A%201px%3B%20stroke%3A%20rgb(89%2C%2089%2C%2089)%3B%20stroke-opacity%3A%200.25%3B%22%2F%3E%3Cg%20class%3D%22overlines-above%22%3E%3Cpath%20class%3D%22xy2-x%20crisp%22%20d%3D%22M0%2C0%22%20style%3D%22fill%3A%20none%3B%22%2F%3E%3Cpath%20class%3D%22xy2-y%20crisp%22%20d%3D%22M0%2C0%22%20style%3D%22fill%3A%20none%3B%22%2F%3E%3C%2Fg%3E%3Cg%20class%3D%22xaxislayer-above%22%3E%3Cg%20class%3D%22xtick%22%3E%3Ctext%20text-anchor%3D%22start%22%20x%3D%220%22%20y%3D%22242.4%22%20data-unformatted%3D%22Matthew%20Mayo%22%20data-math%3D%22N%22%20transform%3D%22translate(118.05%2C0)%20rotate(30%2C0%2C236.4)%22%20style%3D%22font-family%3A%20%26quot%3BOpen%20Sans%26quot%3B%2C%20verdana%2C%20arial%2C%20sans-serif%3B%20font-size%3A%2012px%3B%20fill%3A%20rgb(89%2C%2089%2C%2089)%3B%20fill-opacity%3A%201%3B%20white-space%3A%20pre%3B%22%3EMatthew%20Mayo%3C%2Ftext%3E%3C%2Fg%3E%3Cg%20class%3D%22xtick%22%3E%3Ctext%20text-anchor%3D%22start%22%20x%3D%220%22%20y%3D%22242.4%22%20data-unformatted%3D%22Jesse%20Mostipak%22%20data-math%3D%22N%22%20transform%3D%22translate(185.82%2C0)%20rotate(30%2C0%2C236.4)%22%20style%3D%22font-family%3A%20%26quot%3BOpen%20Sans%26quot%3B%2C%20verdana%2C%20arial%2C%20sans-serif%3B%20font-size%3A%2012px%3B%20fill%3A%20rgb(89%2C%2089%2C%2089)%3B%20fill-opacity%3A%201%3B%20white-space%3A%20pre%3B%22%3EJesse%20Mostipak%3C%2Ftext%3E%3C%2Fg%3E%3Cg%20class%3D%22xtick%22%3E%3Ctext%20text-anchor%3D%22start%22%20x%3D%220%22%20y%3D%22242.4%22%20data-unformatted%3D%22David%20Robinson%22%20data-math%3D%22N%22%20transform%3D%22translate(253.58%2C0)%20rotate(30%2C0%2C236.4)%22%20style%3D%22font-family%3A%20%26quot%3BOpen%20Sans%26quot%3B%2C%20verdana%2C%20arial%2C%20sans-serif%3B%20font-size%3A%2012px%3B%20fill%3A%20rgb(89%2C%2089%2C%2089)%3B%20fill-opacity%3A%201%3B%20white-space%3A%20pre%3B%22%3EDavid%20Robinson%3C%2Ftext%3E%3C%2Fg%3E%3Cg%20class%3D%22xtick%22%3E%3Ctext%20text-anchor%3D%22start%22%20x%3D%220%22%20y%3D%22242.4%22%20data-unformatted%3D%22Hilary%20Parker%22%20data-math%3D%22N%22%20transform%3D%22translate(321.35%2C0)%20rotate(30%2C0%2C236.4)%22%20style%3D%22font-family%3A%20%26quot%3BOpen%20Sans%26quot%3B%2C%20verdana%2C%20arial%2C%20sans-serif%3B%20font-size%3A%2012px%3B%20fill%3A%20rgb(89%2C%2089%2C%2089)%3B%20fill-opacity%3A%201%3B%20white-space%3A%20pre%3B%22%3EHilary%20Parker%3C%2Ftext%3E%3C%2Fg%3E%3Cg%20class%3D%22xtick%22%3E%3Ctext%20text-anchor%3D%22start%22%20x%3D%220%22%20y%3D%22242.4%22%20data-unformatted%3D%22Ayodele%20(eye-ya-deli)%20is%20fullyVaxxed%22%20data-math%3D%22N%22%20transform%3D%22translate(389.12%2C0)%20rotate(30%2C0%2C236.4)%22%20style%3D%22font-family%3A%20%26quot%3BOpen%20Sans%26quot%3B%2C%20verdana%2C%20arial%2C%20sans-serif%3B%20font-size%3A%2012px%3B%20fill%3A%20rgb(89%2C%2089%2C%2089)%3B%20fill-opacity%3A%201%3B%20white-space%3A%20pre%3B%22%3EAyodele%20(eye-ya-deli)%20is%20fullyVaxxed%3C%2Ftext%3E%3C%2Fg%3E%3Cg%20class%3D%22xtick%22%3E%3Ctext%20text-anchor%3D%22start%22%20x%3D%220%22%20y%3D%22242.4%22%20data-unformatted%3D%22Ryan%20Rosario%22%20data-math%3D%22N%22%20transform%3D%22translate(456.88%2C0)%20rotate(30%2C0%2C236.4)%22%20style%3D%22font-family%3A%20%26quot%3BOpen%20Sans%26quot%3B%2C%20verdana%2C%20arial%2C%20sans-serif%3B%20font-size%3A%2012px%3B%20fill%3A%20rgb(89%2C%2089%2C%2089)%3B%20fill-opacity%3A%201%3B%20white-space%3A%20pre%3B%22%3ERyan%20Rosario%3C%2Ftext%3E%3C%2Fg%3E%3Cg%20class%3D%22xtick%22%3E%3Ctext%20text-anchor%3D%22start%22%20x%3D%220%22%20y%3D%22242.4%22%20data-unformatted%3D%22Peter%20Wang%22%20data-math%3D%22N%22%20transform%3D%22translate(524.65%2C0)%20rotate(30%2C0%2C236.4)%22%20style%3D%22font-family%3A%20%26quot%3BOpen%20Sans%26quot%3B%2C%20verdana%2C%20arial%2C%20sans-serif%3B%20font-size%3A%2012px%3B%20fill%3A%20rgb(89%2C%2089%2C%2089)%3B%20fill-opacity%3A%201%3B%20white-space%3A%20pre%3B%22%3EPeter%20Wang%3C%2Ftext%3E%3C%2Fg%3E%3Cg%20class%3D%22xtick%22%3E%3Ctext%20text-anchor%3D%22start%22%20x%3D%220%22%20y%3D%22242.4%22%20data-unformatted%3D%22Data%20Science%20Renee%22%20data-math%3D%22N%22%20transform%3D%22translate(592.42%2C0)%20rotate(30%2C0%2C236.4)%22%20style%3D%22font-family%3A%20%26quot%3BOpen%20Sans%26quot%3B%2C%20verdana%2C%20arial%2C%20sans-serif%3B%20font-size%3A%2012px%3B%20fill%3A%20rgb(89%2C%2089%2C%2089)%3B%20fill-opacity%3A%201%3B%20white-space%3A%20pre%3B%22%3EData%20Science%20Renee%3C%2Ftext%3E%3C%2Fg%3E%3Cg%20class%3D%22xtick%22%3E%3Ctext%20text-anchor%3D%22start%22%20x%3D%220%22%20y%3D%22242.4%22%20data-unformatted%3D%22Fran%C3%A7ois%20Chollet%22%20data-math%3D%22N%22%20transform%3D%22translate(660.18%2C0)%20rotate(30%2C0%2C236.4)%22%20style%3D%22font-family%3A%20%26quot%3BOpen%20Sans%26quot%3B%2C%20verdana%2C%20arial%2C%20sans-serif%3B%20font-size%3A%2012px%3B%20fill%3A%20rgb(89%2C%2089%2C%2089)%3B%20fill-opacity%3A%201%3B%20white-space%3A%20pre%3B%22%3EFran%C3%A7ois%20Chollet%3C%2Ftext%3E%3C%2Fg%3E%3Cg%20class%3D%22xtick%22%3E%3Ctext%20text-anchor%3D%22start%22%20x%3D%220%22%20y%3D%22242.4%22%20data-unformatted%3D%22Hilary%20Mason%22%20data-math%3D%22N%22%20transform%3D%22translate(727.95%2C0)%20rotate(30%2C0%2C236.4)%22%20style%3D%22font-family%3A%20%26quot%3BOpen%20Sans%26quot%3B%2C%20verdana%2C%20arial%2C%20sans-serif%3B%20font-size%3A%2012px%3B%20fill%3A%20rgb(89%2C%2089%2C%2089)%3B%20fill-opacity%3A%201%3B%20white-space%3A%20pre%3B%22%3EHilary%20Mason%3C%2Ftext%3E%3C%2Fg%3E%3C%2Fg%3E%3Cg%20class%3D%22yaxislayer-above%22%3E%3Cg%20class%3D%22ytick%22%3E%3Ctext%20text-anchor%3D%22end%22%20x%3D%2276.6%22%20y%3D%224.199999999999999%22%20data-unformatted%3D%220%22%20data-math%3D%22N%22%20transform%3D%22translate(0%2C227)%22%20style%3D%22font-family%3A%20%26quot%3BOpen%20Sans%26quot%3B%2C%20verdana%2C%20arial%2C%20sans-serif%3B%20font-size%3A%2012px%3B%20fill%3A%20rgb(89%2C%2089%2C%2089)%3B%20fill-opacity%3A%201%3B%20white-space%3A%20pre%3B%22%3E0%3C%2Ftext%3E%3C%2Fg%3E%3Cg%20class%3D%22ytick%22%3E%3Ctext%20text-anchor%3D%22end%22%20x%3D%2276.6%22%20y%3D%224.199999999999999%22%20data-unformatted%3D%221000%22%20data-math%3D%22N%22%20transform%3D%22translate(0%2C184.89)%22%20style%3D%22font-family%3A%20%26quot%3BOpen%20Sans%26quot%3B%2C%20verdana%2C%20arial%2C%20sans-serif%3B%20font-size%3A%2012px%3B%20fill%3A%20rgb(89%2C%2089%2C%2089)%3B%20fill-opacity%3A%201%3B%20white-space%3A%20pre%3B%22%3E1000%3C%2Ftext%3E%3C%2Fg%3E%3Cg%20class%3D%22ytick%22%3E%3Ctext%20text-anchor%3D%22end%22%20x%3D%2276.6%22%20y%3D%224.199999999999999%22%20data-unformatted%3D%222000%22%20data-math%3D%22N%22%20transform%3D%22translate(0%2C142.76999999999998)%22%20style%3D%22font-family%3A%20%26quot%3BOpen%20Sans%26quot%3B%2C%20verdana%2C%20arial%2C%20sans-serif%3B%20font-size%3A%2012px%3B%20fill%3A%20rgb(89%2C%2089%2C%2089)%3B%20fill-opacity%3A%201%3B%20white-space%3A%20pre%3B%22%3E2000%3C%2Ftext%3E%3C%2Fg%3E%3Cg%20class%3D%22ytick%22%3E%3Ctext%20text-anchor%3D%22end%22%20x%3D%2276.6%22%20y%3D%224.199999999999999%22%20data-unformatted%3D%223000%22%20data-math%3D%22N%22%20transform%3D%22translate(0%2C100.66)%22%20style%3D%22font-family%3A%20%26quot%3BOpen%20Sans%26quot%3B%2C%20verdana%2C%20arial%2C%20sans-serif%3B%20font-size%3A%2012px%3B%20fill%3A%20rgb(89%2C%2089%2C%2089)%3B%20fill-opacity%3A%201%3B%20white-space%3A%20pre%3B%22%3E3000%3C%2Ftext%3E%3C%2Fg%3E%3Cg%20class%3D%22ytick%22%3E%3Ctext%20text-anchor%3D%22end%22%20x%3D%2276.6%22%20y%3D%224.199999999999999%22%20data-unformatted%3D%224000%22%20data-math%3D%22N%22%20transform%3D%22translate(0%2C58.55)%22%20style%3D%22font-family%3A%20%26quot%3BOpen%20Sans%26quot%3B%2C%20verdana%2C%20arial%2C%20sans-serif%3B%20font-size%3A%2012px%3B%20fill%3A%20rgb(89%2C%2089%2C%2089)%3B%20fill-opacity%3A%201%3B%20white-space%3A%20pre%3B%22%3E4000%3C%2Ftext%3E%3C%2Fg%3E%3C%2Fg%3E%3Cg%20class%3D%22overaxes-above%22%3E%3Cg%20class%3D%22xy2-x%22%2F%3E%3Cg%20class%3D%22xy2-y%22%3E%3Cg%20class%3D%22y2tick%22%3E%3Ctext%20text-anchor%3D%22start%22%20x%3D%22767%22%20y%3D%224.199999999999999%22%20data-unformatted%3D%22200%22%20data-math%3D%22N%22%20transform%3D%22translate(0%2C227)%22%20style%3D%22font-family%3A%20%26quot%3BOpen%20Sans%26quot%3B%2C%20verdana%2C%20arial%2C%20sans-serif%3B%20font-size%3A%2012px%3B%20fill%3A%20rgb(89%2C%2089%2C%2089)%3B%20fill-opacity%3A%201%3B%20white-space%3A%20pre%3B%22%3E200%3C%2Ftext%3E%3C%2Fg%3E%3Cg%20class%3D%22y2tick%22%3E%3Ctext%20text-anchor%3D%22start%22%20x%3D%22767%22%20y%3D%224.199999999999999%22%20data-unformatted%3D%22200.5%22%20data-math%3D%22N%22%20transform%3D%22translate(0%2C177.75)%22%20style%3D%22font-family%3A%20%26quot%3BOpen%20Sans%26quot%3B%2C%20verdana%2C%20arial%2C%20sans-serif%3B%20font-size%3A%2012px%3B%20fill%3A%20rgb(89%2C%2089%2C%2089)%3B%20fill-opacity%3A%201%3B%20white-space%3A%20pre%3B%22%3E200.5%3C%2Ftext%3E%3C%2Fg%3E%3Cg%20class%3D%22y2tick%22%3E%3Ctext%20text-anchor%3D%22start%22%20x%3D%22767%22%20y%3D%224.199999999999999%22%20data-unformatted%3D%22201%22%20data-math%3D%22N%22%20transform%3D%22translate(0%2C128.5)%22%20style%3D%22font-family%3A%20%26quot%3BOpen%20Sans%26quot%3B%2C%20verdana%2C%20arial%2C%20sans-serif%3B%20font-size%3A%2012px%3B%20fill%3A%20rgb(89%2C%2089%2C%2089)%3B%20fill-opacity%3A%201%3B%20white-space%3A%20pre%3B%22%3E201%3C%2Ftext%3E%3C%2Fg%3E%3Cg%20class%3D%22y2tick%22%3E%3Ctext%20text-anchor%3D%22start%22%20x%3D%22767%22%20y%3D%224.199999999999999%22%20data-unformatted%3D%22201.5%22%20data-math%3D%22N%22%20transform%3D%22translate(0%2C79.25)%22%20style%3D%22font-family%3A%20%26quot%3BOpen%20Sans%26quot%3B%2C%20verdana%2C%20arial%2C%20sans-serif%3B%20font-size%3A%2012px%3B%20fill%3A%20rgb(89%2C%2089%2C%2089)%3B%20fill-opacity%3A%201%3B%20white-space%3A%20pre%3B%22%3E201.5%3C%2Ftext%3E%3C%2Fg%3E%3Cg%20class%3D%22y2tick%22%3E%3Ctext%20text-anchor%3D%22start%22%20x%3D%22767%22%20y%3D%224.199999999999999%22%20data-unformatted%3D%22202%22%20data-math%3D%22N%22%20transform%3D%22translate(0%2C30)%22%20style%3D%22font-family%3A%20%26quot%3BOpen%20Sans%26quot%3B%2C%20verdana%2C%20arial%2C%20sans-serif%3B%20font-size%3A%2012px%3B%20fill%3A%20rgb(89%2C%2089%2C%2089)%3B%20fill-opacity%3A%201%3B%20white-space%3A%20pre%3B%22%3E202%3C%2Ftext%3E%3C%2Fg%3E%3C%2Fg%3E%3C%2Fg%3E%3C%2Fg%3E%3Cg%20class%3D%22subplot%20xy2%22%2F%3E%3C%2Fg%3E%3Cg%20class%3D%22polarlayer%22%2F%3E%3Cg%20class%3D%22ternarylayer%22%2F%3E%3Cg%20class%3D%22geolayer%22%2F%3E%3Cg%20class%3D%22funnelarealayer%22%2F%3E%3Cg%20class%3D%22pielayer%22%2F%3E%3Cg%20class%3D%22treemaplayer%22%2F%3E%3Cg%20class%3D%22sunburstlayer%22%2F%3E%3Cg%20class%3D%22glimages%22%2F%3E%3Cdefs%20id%3D%22topdefs-308be3%22%3E%3Cg%20class%3D%22clips%22%2F%3E%3CclipPath%20id%3D%22legend308be3%22%3E%3Crect%20width%3D%22187%22%20height%3D%2258%22%20x%3D%220%22%20y%3D%220%22%2F%3E%3C%2FclipPath%3E%3C%2Fdefs%3E%3Cg%20class%3D%22indicatorlayer%22%2F%3E%3Cg%20class%3D%22layer-above%22%3E%3Cg%20class%3D%22imagelayer%22%2F%3E%3Cg%20class%3D%22shapelayer%22%2F%3E%3C%2Fg%3E%3Cg%20class%3D%22infolayer%22%3E%3Cg%20class%3D%22legend%22%20pointer-events%3D%22all%22%20transform%3D%22translate(779.72%2C30)%22%3E%3Crect%20class%3D%22bg%22%20shape-rendering%3D%22crispEdges%22%20width%3D%22187%22%20height%3D%2258%22%20x%3D%220%22%20y%3D%220%22%20style%3D%22stroke%3A%20rgb(68%2C%2068%2C%2068)%3B%20stroke-opacity%3A%201%3B%20fill%3A%20rgb(255%2C%20255%2C%20255)%3B%20fill-opacity%3A%201%3B%20stroke-width%3A%200px%3B%22%2F%3E%3Cg%20class%3D%22scrollbox%22%20transform%3D%22%22%20clip-path%3D%22url('%23legend308be3')%22%3E%3Cg%20class%3D%22groups%22%20transform%3D%22%22%3E%3Cg%20class%3D%22traces%22%20transform%3D%22translate(0%2C14.5)%22%20style%3D%22opacity%3A%201%3B%22%3E%3Ctext%20class%3D%22legendtext%22%20text-anchor%3D%22start%22%20x%3D%2240%22%20y%3D%224.680000000000001%22%20data-unformatted%3D%22retweets_quotes%22%20data-math%3D%22N%22%20style%3D%22font-family%3A%20%26quot%3BOpen%20Sans%26quot%3B%2C%20verdana%2C%20arial%2C%20sans-serif%3B%20font-size%3A%2012px%3B%20fill%3A%20rgb(89%2C%2089%2C%2089)%3B%20fill-opacity%3A%201%3B%20white-space%3A%20pre%3B%22%3Eretweets_quotes%3C%2Ftext%3E%3Cg%20class%3D%22layers%22%20style%3D%22opacity%3A%201%3B%22%3E%3Cg%20class%3D%22legendfill%22%2F%3E%3Cg%20class%3D%22legendlines%22%2F%3E%3Cg%20class%3D%22legendsymbols%22%3E%3Cg%20class%3D%22legendpoints%22%3E%3Cpath%20class%3D%22legendundefined%22%20d%3D%22M6%2C6H-6V-6H6Z%22%20transform%3D%22translate(20%2C0)%22%20style%3D%22stroke-width%3A%200px%3B%20fill%3A%20rgb(78%2C%20121%2C%20167)%3B%20fill-opacity%3A%201%3B%22%2F%3E%3C%2Fg%3E%3C%2Fg%3E%3C%2Fg%3E%3Crect%20class%3D%22legendtoggle%22%20pointer-events%3D%22all%22%20x%3D%220%22%20y%3D%22-9.5%22%20width%3D%22181.46250915527344%22%20height%3D%2219%22%20style%3D%22cursor%3A%20pointer%3B%20fill%3A%20rgb(0%2C%200%2C%200)%3B%20fill-opacity%3A%200%3B%22%2F%3E%3C%2Fg%3E%3C%2Fg%3E%3Cg%20class%3D%22groups%22%20transform%3D%22translate(0%2C10)%22%3E%3Cg%20class%3D%22traces%22%20transform%3D%22translate(0%2C33.5)%22%20style%3D%22opacity%3A%201%3B%22%3E%3Ctext%20class%3D%22legendtext%22%20text-anchor%3D%22start%22%20x%3D%2240%22%20y%3D%224.680000000000001%22%20data-unformatted%3D%22retweets_quotes_mean%22%20data-math%3D%22N%22%20style%3D%22font-family%3A%20%26quot%3BOpen%20Sans%26quot%3B%2C%20verdana%2C%20arial%2C%20sans-serif%3B%20font-size%3A%2012px%3B%20fill%3A%20rgb(89%2C%2089%2C%2089)%3B%20fill-opacity%3A%201%3B%20white-space%3A%20pre%3B%22%3Eretweets_quotes_mean%3C%2Ftext%3E%3Cg%20class%3D%22layers%22%20style%3D%22opacity%3A%201%3B%22%3E%3Cg%20class%3D%22legendfill%22%2F%3E%3Cg%20class%3D%22legendlines%22%3E%3Cpath%20class%3D%22js-line%22%20d%3D%22M5%2C0h30%22%20style%3D%22fill%3A%20none%3B%20stroke%3A%20rgb(242%2C%20142%2C%2044)%3B%20stroke-opacity%3A%201%3B%20stroke-width%3A%202px%3B%22%2F%3E%3C%2Fg%3E%3Cg%20class%3D%22legendsymbols%22%3E%3Cg%20class%3D%22legendpoints%22%3E%3Cpath%20class%3D%22scatterpts%22%20transform%3D%22translate(20%2C0)%22%20d%3D%22M3%2C0A3%2C3%200%201%2C1%200%2C-3A3%2C3%200%200%2C1%203%2C0Z%22%20style%3D%22opacity%3A%201%3B%20stroke-width%3A%200px%3B%20fill%3A%20rgb(242%2C%20142%2C%2044)%3B%20fill-opacity%3A%201%3B%22%2F%3E%3Cg%20class%3D%22pointtext%22%20transform%3D%22translate(0%2C12.25)%22%3E%3Ctext%20transform%3D%22translate(20%2C0)%22%20data-unformatted%3D%22Aa%22%20data-math%3D%22N%22%20x%3D%220%22%20y%3D%220%22%20text-anchor%3D%22middle%22%20style%3D%22font-family%3A%20%26quot%3BOpen%20Sans%26quot%3B%2C%20verdana%2C%20arial%2C%20sans-serif%3B%20font-size%3A%2010px%3B%20fill%3A%20rgb(89%2C%2089%2C%2089)%3B%20fill-opacity%3A%201%3B%20white-space%3A%20pre%3B%22%3EAa%3C%2Ftext%3E%3C%2Fg%3E%3C%2Fg%3E%3C%2Fg%3E%3C%2Fg%3E%3Crect%20class%3D%22legendtoggle%22%20pointer-events%3D%22all%22%20x%3D%220%22%20y%3D%22-9.5%22%20width%3D%22181.46250915527344%22%20height%3D%2219%22%20style%3D%22cursor%3A%20pointer%3B%20fill%3A%20rgb(0%2C%200%2C%200)%3B%20fill-opacity%3A%200%3B%22%2F%3E%3C%2Fg%3E%3C%2Fg%3E%3C%2Fg%3E%3Crect%20class%3D%22scrollbar%22%20rx%3D%2220%22%20ry%3D%223%22%20width%3D%220%22%20height%3D%220%22%20x%3D%220%22%20y%3D%220%22%20style%3D%22fill%3A%20rgb(128%2C%20139%2C%20164)%3B%20fill-opacity%3A%201%3B%22%2F%3E%3C%2Fg%3E%3Cg%20class%3D%22g-gtitle%22%2F%3E%3Cg%20class%3D%22g-xtitle%22%2F%3E%3Cg%20class%3D%22g-ytitle%22%2F%3E%3Cg%20class%3D%22g-y2title%22%2F%3E%3C%2Fg%3E%3Cg%20class%3D%22menulayer%22%2F%3E%3Cg%20class%3D%22zoomlayer%22%2F%3E%3Cg%20class%3D%22hoverlayer%22%2F%3E%3C%2Fsvg%3E\">"
      ],
      "text/plain": [
       "Open the notebook in JupyterLab with the atoti extension enabled to build this widget."
      ]
     },
     "metadata": {},
     "output_type": "display_data"
    }
   ],
   "source": [
    "session.visualize(\"Top 10 influencers - Number of retweets and quotes per tweet\")"
   ]
  },
  {
   "cell_type": "markdown",
   "metadata": {},
   "source": [
    "#### Top 10 influencers - Number of likes per tweet"
   ]
  },
  {
   "cell_type": "code",
   "execution_count": 17,
   "metadata": {
    "atoti": {
     "widget": {
      "filters": [
       "TopCount(Filter([influencer].[name].Levels(1).Members, NOT IsEmpty([Measures].[likes])), 10, [Measures].[likes])"
      ],
      "mapping": {
       "columnValues": [
        "[Measures].[likes]"
       ],
       "horizontalSubplots": [],
       "lineValues": [
        "[Measures].[likes_mean]"
       ],
       "verticalSubplots": [],
       "xAxis": [
        "[influencer].[name].[name]"
       ]
      },
      "query": {
       "mdx": "SELECT NON EMPTY Order(Hierarchize(Descendants({[influencer].[name].[AllMember]}, 1, SELF_AND_BEFORE)), [Measures].[likes], BDESC) ON ROWS, NON EMPTY {[Measures].[likes], [Measures].[likes_mean]} ON COLUMNS FROM [influencer_cube]",
       "updateMode": "once"
      },
      "serverKey": "default",
      "widgetKey": "plotly-clustered-column-and-line-chart"
     }
    },
    "tags": []
   },
   "outputs": [
    {
     "data": {
      "application/vnd.atoti.widget.v0+json": {
       "name": "Top 10 influencers - Number of likes per tweet",
       "sessionId": "1648807225_BF0YEB",
       "sessionLocation": {
        "https": null,
        "port": 61470
       },
       "widgetCreationCode": "session.visualize()"
      },
      "text/html": [
       "<img src=\"data:image/svg+xml;charset=utf8,%3C%3Fxml%20version%3D%221.0%22%20standalone%3D%22no%22%3F%3E%3Csvg%20xmlns%3D%22http%3A%2F%2Fwww.w3.org%2F2000%2Fsvg%22%20xmlns%3Axlink%3D%22http%3A%2F%2Fwww.w3.org%2F1999%2Fxlink%22%20height%3D%22352%22%20width%3D%22967%22%20viewBox%3D%220%200%20967%20352%22%3E%3Cdefs%20id%3D%22defs-da120a%22%3E%3Cg%20class%3D%22clips%22%3E%3CclipPath%20id%3D%22clipda120axyplot%22%20class%3D%22plotclip%22%3E%3Crect%20width%3D%22758%22%20height%3D%22242%22%2F%3E%3C%2FclipPath%3E%3CclipPath%20id%3D%22clipda120axy2plot%22%20class%3D%22plotclip%22%3E%3Crect%20width%3D%22758%22%20height%3D%22242%22%2F%3E%3C%2FclipPath%3E%3CclipPath%20class%3D%22axesclip%22%20id%3D%22clipda120ax%22%3E%3Crect%20x%3D%2280%22%20y%3D%220%22%20width%3D%22758%22%20height%3D%22352%22%2F%3E%3C%2FclipPath%3E%3CclipPath%20class%3D%22axesclip%22%20id%3D%22clipda120ay%22%3E%3Crect%20x%3D%220%22%20y%3D%2230%22%20width%3D%22967%22%20height%3D%22242%22%2F%3E%3C%2FclipPath%3E%3CclipPath%20class%3D%22axesclip%22%20id%3D%22clipda120axy%22%3E%3Crect%20x%3D%2280%22%20y%3D%2230%22%20width%3D%22758%22%20height%3D%22242%22%2F%3E%3C%2FclipPath%3E%3CclipPath%20class%3D%22axesclip%22%20id%3D%22clipda120ay2%22%3E%3Crect%20x%3D%220%22%20y%3D%2230%22%20width%3D%22967%22%20height%3D%22242%22%2F%3E%3C%2FclipPath%3E%3CclipPath%20class%3D%22axesclip%22%20id%3D%22clipda120axy2%22%3E%3Crect%20x%3D%2280%22%20y%3D%2230%22%20width%3D%22758%22%20height%3D%22242%22%2F%3E%3C%2FclipPath%3E%3C%2Fg%3E%3Cg%20class%3D%22gradients%22%2F%3E%3C%2Fdefs%3E%3Cg%20class%3D%22bglayer%22%2F%3E%3Cg%20class%3D%22draglayer%20cursor-crosshair%22%3E%3Cg%20class%3D%22xy%22%3E%3Crect%20class%3D%22nsewdrag%20drag%22%20data-subplot%3D%22xy%22%20x%3D%2280%22%20y%3D%2230%22%20width%3D%22758%22%20height%3D%22242%22%20style%3D%22fill%3A%20transparent%3B%20stroke-width%3A%200%3B%20pointer-events%3A%20all%3B%22%2F%3E%3Crect%20class%3D%22nwdrag%20drag%20cursor-nw-resize%22%20data-subplot%3D%22xy%22%20x%3D%2260%22%20y%3D%2210%22%20width%3D%2220%22%20height%3D%2220%22%20style%3D%22fill%3A%20transparent%3B%20stroke-width%3A%200%3B%20pointer-events%3A%20all%3B%22%2F%3E%3Crect%20class%3D%22nedrag%20drag%20cursor-ne-resize%22%20data-subplot%3D%22xy%22%20x%3D%22838%22%20y%3D%2210%22%20width%3D%2220%22%20height%3D%2220%22%20style%3D%22fill%3A%20transparent%3B%20stroke-width%3A%200%3B%20pointer-events%3A%20all%3B%22%2F%3E%3Crect%20class%3D%22swdrag%20drag%20cursor-sw-resize%22%20data-subplot%3D%22xy%22%20x%3D%2260%22%20y%3D%22272%22%20width%3D%2220%22%20height%3D%2220%22%20style%3D%22fill%3A%20transparent%3B%20stroke-width%3A%200%3B%20pointer-events%3A%20all%3B%22%2F%3E%3Crect%20class%3D%22sedrag%20drag%20cursor-se-resize%22%20data-subplot%3D%22xy%22%20x%3D%22838%22%20y%3D%22272%22%20width%3D%2220%22%20height%3D%2220%22%20style%3D%22fill%3A%20transparent%3B%20stroke-width%3A%200%3B%20pointer-events%3A%20all%3B%22%2F%3E%3Crect%20class%3D%22ewdrag%20drag%20cursor-ew-resize%22%20data-subplot%3D%22xy%22%20x%3D%22155.8%22%20y%3D%22272.5%22%20width%3D%22606.4%22%20height%3D%2220%22%20style%3D%22fill%3A%20transparent%3B%20stroke-width%3A%200%3B%20pointer-events%3A%20all%3B%22%2F%3E%3Crect%20class%3D%22wdrag%20drag%20cursor-w-resize%22%20data-subplot%3D%22xy%22%20x%3D%2280%22%20y%3D%22272.5%22%20width%3D%2275.8%22%20height%3D%2220%22%20style%3D%22fill%3A%20transparent%3B%20stroke-width%3A%200%3B%20pointer-events%3A%20all%3B%22%2F%3E%3Crect%20class%3D%22edrag%20drag%20cursor-e-resize%22%20data-subplot%3D%22xy%22%20x%3D%22762.2%22%20y%3D%22272.5%22%20width%3D%2275.8%22%20height%3D%2220%22%20style%3D%22fill%3A%20transparent%3B%20stroke-width%3A%200%3B%20pointer-events%3A%20all%3B%22%2F%3E%3Crect%20class%3D%22nsdrag%20drag%20cursor-ns-resize%22%20data-subplot%3D%22xy%22%20x%3D%2259.5%22%20y%3D%2254.2%22%20width%3D%2220%22%20height%3D%22193.60000000000002%22%20style%3D%22fill%3A%20transparent%3B%20stroke-width%3A%200%3B%20pointer-events%3A%20all%3B%22%2F%3E%3Crect%20class%3D%22sdrag%20drag%20cursor-s-resize%22%20data-subplot%3D%22xy%22%20x%3D%2259.5%22%20y%3D%22247.8%22%20width%3D%2220%22%20height%3D%2224.200000000000003%22%20style%3D%22fill%3A%20transparent%3B%20stroke-width%3A%200%3B%20pointer-events%3A%20all%3B%22%2F%3E%3Crect%20class%3D%22ndrag%20drag%20cursor-n-resize%22%20data-subplot%3D%22xy%22%20x%3D%2259.5%22%20y%3D%2230%22%20width%3D%2220%22%20height%3D%2224.200000000000003%22%20style%3D%22fill%3A%20transparent%3B%20stroke-width%3A%200%3B%20pointer-events%3A%20all%3B%22%2F%3E%3C%2Fg%3E%3Cg%20class%3D%22xy2%22%3E%3Crect%20class%3D%22nsdrag%20drag%20cursor-ns-resize%22%20data-subplot%3D%22xy2%22%20x%3D%22838.5%22%20y%3D%2254.2%22%20width%3D%2220%22%20height%3D%22193.60000000000002%22%20style%3D%22fill%3A%20transparent%3B%20stroke-width%3A%200%3B%20pointer-events%3A%20all%3B%22%2F%3E%3Crect%20class%3D%22sdrag%20drag%20cursor-s-resize%22%20data-subplot%3D%22xy2%22%20x%3D%22838.5%22%20y%3D%22247.8%22%20width%3D%2220%22%20height%3D%2224.200000000000003%22%20style%3D%22fill%3A%20transparent%3B%20stroke-width%3A%200%3B%20pointer-events%3A%20all%3B%22%2F%3E%3Crect%20class%3D%22ndrag%20drag%20cursor-n-resize%22%20data-subplot%3D%22xy2%22%20x%3D%22838.5%22%20y%3D%2230%22%20width%3D%2220%22%20height%3D%2224.200000000000003%22%20style%3D%22fill%3A%20transparent%3B%20stroke-width%3A%200%3B%20pointer-events%3A%20all%3B%22%2F%3E%3C%2Fg%3E%3C%2Fg%3E%3Cg%20class%3D%22layer-below%22%3E%3Cg%20class%3D%22imagelayer%22%2F%3E%3Cg%20class%3D%22shapelayer%22%2F%3E%3C%2Fg%3E%3Cg%20class%3D%22cartesianlayer%22%3E%3Cg%20class%3D%22subplot%20xy%22%3E%3Cg%20class%3D%22layer-subplot%22%3E%3Cg%20class%3D%22shapelayer%22%2F%3E%3Cg%20class%3D%22imagelayer%22%2F%3E%3C%2Fg%3E%3Cg%20class%3D%22gridlayer%22%3E%3Cg%20class%3D%22x%22%3E%3Cpath%20class%3D%22xgrid%20crisp%22%20transform%3D%22translate(121.65%2C0)%22%20d%3D%22M0%2C30v242%22%20style%3D%22stroke%3A%20rgb(0%2C%200%2C%200)%3B%20stroke-opacity%3A%200%3B%20stroke-width%3A%201px%3B%22%2F%3E%3Cpath%20class%3D%22xgrid%20crisp%22%20transform%3D%22translate(196.62%2C0)%22%20d%3D%22M0%2C30v242%22%20style%3D%22stroke%3A%20rgb(0%2C%200%2C%200)%3B%20stroke-opacity%3A%200%3B%20stroke-width%3A%201px%3B%22%2F%3E%3Cpath%20class%3D%22xgrid%20crisp%22%20transform%3D%22translate(271.58000000000004%2C0)%22%20d%3D%22M0%2C30v242%22%20style%3D%22stroke%3A%20rgb(0%2C%200%2C%200)%3B%20stroke-opacity%3A%200%3B%20stroke-width%3A%201px%3B%22%2F%3E%3Cpath%20class%3D%22xgrid%20crisp%22%20transform%3D%22translate(346.55%2C0)%22%20d%3D%22M0%2C30v242%22%20style%3D%22stroke%3A%20rgb(0%2C%200%2C%200)%3B%20stroke-opacity%3A%200%3B%20stroke-width%3A%201px%3B%22%2F%3E%3Cpath%20class%3D%22xgrid%20crisp%22%20transform%3D%22translate(421.52%2C0)%22%20d%3D%22M0%2C30v242%22%20style%3D%22stroke%3A%20rgb(0%2C%200%2C%200)%3B%20stroke-opacity%3A%200%3B%20stroke-width%3A%201px%3B%22%2F%3E%3Cpath%20class%3D%22xgrid%20crisp%22%20transform%3D%22translate(496.48%2C0)%22%20d%3D%22M0%2C30v242%22%20style%3D%22stroke%3A%20rgb(0%2C%200%2C%200)%3B%20stroke-opacity%3A%200%3B%20stroke-width%3A%201px%3B%22%2F%3E%3Cpath%20class%3D%22xgrid%20crisp%22%20transform%3D%22translate(571.45%2C0)%22%20d%3D%22M0%2C30v242%22%20style%3D%22stroke%3A%20rgb(0%2C%200%2C%200)%3B%20stroke-opacity%3A%200%3B%20stroke-width%3A%201px%3B%22%2F%3E%3Cpath%20class%3D%22xgrid%20crisp%22%20transform%3D%22translate(646.42%2C0)%22%20d%3D%22M0%2C30v242%22%20style%3D%22stroke%3A%20rgb(0%2C%200%2C%200)%3B%20stroke-opacity%3A%200%3B%20stroke-width%3A%201px%3B%22%2F%3E%3Cpath%20class%3D%22xgrid%20crisp%22%20transform%3D%22translate(721.38%2C0)%22%20d%3D%22M0%2C30v242%22%20style%3D%22stroke%3A%20rgb(0%2C%200%2C%200)%3B%20stroke-opacity%3A%200%3B%20stroke-width%3A%201px%3B%22%2F%3E%3Cpath%20class%3D%22xgrid%20crisp%22%20transform%3D%22translate(796.35%2C0)%22%20d%3D%22M0%2C30v242%22%20style%3D%22stroke%3A%20rgb(0%2C%200%2C%200)%3B%20stroke-opacity%3A%200%3B%20stroke-width%3A%201px%3B%22%2F%3E%3C%2Fg%3E%3Cg%20class%3D%22y%22%3E%3Cpath%20class%3D%22ygrid%20crisp%22%20transform%3D%22translate(0%2C232.52)%22%20d%3D%22M80%2C0h758%22%20style%3D%22stroke%3A%20rgb(89%2C%2089%2C%2089)%3B%20stroke-opacity%3A%200.25%3B%20stroke-width%3A%201px%3B%22%2F%3E%3Cpath%20class%3D%22ygrid%20crisp%22%20transform%3D%22translate(0%2C193.04)%22%20d%3D%22M80%2C0h758%22%20style%3D%22stroke%3A%20rgb(89%2C%2089%2C%2089)%3B%20stroke-opacity%3A%200.25%3B%20stroke-width%3A%201px%3B%22%2F%3E%3Cpath%20class%3D%22ygrid%20crisp%22%20transform%3D%22translate(0%2C153.56)%22%20d%3D%22M80%2C0h758%22%20style%3D%22stroke%3A%20rgb(89%2C%2089%2C%2089)%3B%20stroke-opacity%3A%200.25%3B%20stroke-width%3A%201px%3B%22%2F%3E%3Cpath%20class%3D%22ygrid%20crisp%22%20transform%3D%22translate(0%2C114.08)%22%20d%3D%22M80%2C0h758%22%20style%3D%22stroke%3A%20rgb(89%2C%2089%2C%2089)%3B%20stroke-opacity%3A%200.25%3B%20stroke-width%3A%201px%3B%22%2F%3E%3Cpath%20class%3D%22ygrid%20crisp%22%20transform%3D%22translate(0%2C74.6)%22%20d%3D%22M80%2C0h758%22%20style%3D%22stroke%3A%20rgb(89%2C%2089%2C%2089)%3B%20stroke-opacity%3A%200.25%3B%20stroke-width%3A%201px%3B%22%2F%3E%3Cpath%20class%3D%22ygrid%20crisp%22%20transform%3D%22translate(0%2C35.12)%22%20d%3D%22M80%2C0h758%22%20style%3D%22stroke%3A%20rgb(89%2C%2089%2C%2089)%3B%20stroke-opacity%3A%200.25%3B%20stroke-width%3A%201px%3B%22%2F%3E%3C%2Fg%3E%3Cg%20class%3D%22y2%22%3E%3Cpath%20class%3D%22y2grid%20crisp%22%20transform%3D%22translate(0%2C262.69)%22%20d%3D%22M80%2C0h758%22%20style%3D%22stroke%3A%20rgb(238%2C%20238%2C%20238)%3B%20stroke-opacity%3A%201%3B%20stroke-width%3A%201px%3B%22%2F%3E%3Cpath%20class%3D%22y2grid%20crisp%22%20transform%3D%22translate(0%2C202.19)%22%20d%3D%22M80%2C0h758%22%20style%3D%22stroke%3A%20rgb(238%2C%20238%2C%20238)%3B%20stroke-opacity%3A%201%3B%20stroke-width%3A%201px%3B%22%2F%3E%3Cpath%20class%3D%22y2grid%20crisp%22%20transform%3D%22translate(0%2C141.69)%22%20d%3D%22M80%2C0h758%22%20style%3D%22stroke%3A%20rgb(238%2C%20238%2C%20238)%3B%20stroke-opacity%3A%201%3B%20stroke-width%3A%201px%3B%22%2F%3E%3Cpath%20class%3D%22y2grid%20crisp%22%20transform%3D%22translate(0%2C81.19)%22%20d%3D%22M80%2C0h758%22%20style%3D%22stroke%3A%20rgb(238%2C%20238%2C%20238)%3B%20stroke-opacity%3A%201%3B%20stroke-width%3A%201px%3B%22%2F%3E%3C%2Fg%3E%3C%2Fg%3E%3Cg%20class%3D%22zerolinelayer%22%3E%3Cpath%20class%3D%22yzl%20zl%20crisp%22%20transform%3D%22translate(0%2C272)%22%20d%3D%22M80%2C0h758%22%20style%3D%22stroke%3A%20rgb(89%2C%2089%2C%2089)%3B%20stroke-opacity%3A%200.5%3B%20stroke-width%3A%201px%3B%22%2F%3E%3C%2Fg%3E%3Cpath%20class%3D%22xlines-below%22%2F%3E%3Cpath%20class%3D%22ylines-below%22%2F%3E%3Cg%20class%3D%22overlines-below%22%3E%3Cpath%20class%3D%22xy2-x%22%2F%3E%3Cpath%20class%3D%22xy2-y%22%2F%3E%3C%2Fg%3E%3Cg%20class%3D%22xaxislayer-below%22%2F%3E%3Cg%20class%3D%22yaxislayer-below%22%2F%3E%3Cg%20class%3D%22overaxes-below%22%3E%3Cg%20class%3D%22xy2-x%22%2F%3E%3Cg%20class%3D%22xy2-y%22%2F%3E%3C%2Fg%3E%3Cg%20class%3D%22plot%22%20transform%3D%22translate(80%2C30)%22%20clip-path%3D%22url('%23clipda120axyplot')%22%3E%3Cg%20class%3D%22barlayer%20mlayer%22%3E%3Cg%20class%3D%22trace%20bars%22%20style%3D%22opacity%3A%201%3B%22%3E%3Cg%20class%3D%22points%22%3E%3Cg%20class%3D%22point%22%3E%3Cpath%20d%3D%22M11.66%2C242V12.1H71.64V242Z%22%20style%3D%22vector-effect%3A%20non-scaling-stroke%3B%20opacity%3A%201%3B%20stroke-width%3A%200px%3B%20fill%3A%20rgb(78%2C%20121%2C%20167)%3B%20fill-opacity%3A%201%3B%22%2F%3E%3C%2Fg%3E%3Cg%20class%3D%22point%22%3E%3Cpath%20d%3D%22M86.63%2C242V211.32H146.6V242Z%22%20style%3D%22vector-effect%3A%20non-scaling-stroke%3B%20opacity%3A%201%3B%20stroke-width%3A%200px%3B%20fill%3A%20rgb(78%2C%20121%2C%20167)%3B%20fill-opacity%3A%201%3B%22%2F%3E%3C%2Fg%3E%3Cg%20class%3D%22point%22%3E%3Cpath%20d%3D%22M161.6%2C242V221.21H221.57V242Z%22%20style%3D%22vector-effect%3A%20non-scaling-stroke%3B%20opacity%3A%201%3B%20stroke-width%3A%200px%3B%20fill%3A%20rgb(78%2C%20121%2C%20167)%3B%20fill-opacity%3A%201%3B%22%2F%3E%3C%2Fg%3E%3Cg%20class%3D%22point%22%3E%3Cpath%20d%3D%22M236.56%2C242V226.6H296.54V242Z%22%20style%3D%22vector-effect%3A%20non-scaling-stroke%3B%20opacity%3A%201%3B%20stroke-width%3A%200px%3B%20fill%3A%20rgb(78%2C%20121%2C%20167)%3B%20fill-opacity%3A%201%3B%22%2F%3E%3C%2Fg%3E%3Cg%20class%3D%22point%22%3E%3Cpath%20d%3D%22M311.53%2C242V226.71H371.5V242Z%22%20style%3D%22vector-effect%3A%20non-scaling-stroke%3B%20opacity%3A%201%3B%20stroke-width%3A%200px%3B%20fill%3A%20rgb(78%2C%20121%2C%20167)%3B%20fill-opacity%3A%201%3B%22%2F%3E%3C%2Fg%3E%3Cg%20class%3D%22point%22%3E%3Cpath%20d%3D%22M386.5%2C242V233.16H446.47V242Z%22%20style%3D%22vector-effect%3A%20non-scaling-stroke%3B%20opacity%3A%201%3B%20stroke-width%3A%200px%3B%20fill%3A%20rgb(78%2C%20121%2C%20167)%3B%20fill-opacity%3A%201%3B%22%2F%3E%3C%2Fg%3E%3Cg%20class%3D%22point%22%3E%3Cpath%20d%3D%22M461.46%2C242V233.31H521.44V242Z%22%20style%3D%22vector-effect%3A%20non-scaling-stroke%3B%20opacity%3A%201%3B%20stroke-width%3A%200px%3B%20fill%3A%20rgb(78%2C%20121%2C%20167)%3B%20fill-opacity%3A%201%3B%22%2F%3E%3C%2Fg%3E%3Cg%20class%3D%22point%22%3E%3Cpath%20d%3D%22M536.43%2C242V233.89H596.4V242Z%22%20style%3D%22vector-effect%3A%20non-scaling-stroke%3B%20opacity%3A%201%3B%20stroke-width%3A%200px%3B%20fill%3A%20rgb(78%2C%20121%2C%20167)%3B%20fill-opacity%3A%201%3B%22%2F%3E%3C%2Fg%3E%3Cg%20class%3D%22point%22%3E%3Cpath%20d%3D%22M611.4%2C242V235.76H671.37V242Z%22%20style%3D%22vector-effect%3A%20non-scaling-stroke%3B%20opacity%3A%201%3B%20stroke-width%3A%200px%3B%20fill%3A%20rgb(78%2C%20121%2C%20167)%3B%20fill-opacity%3A%201%3B%22%2F%3E%3C%2Fg%3E%3Cg%20class%3D%22point%22%3E%3Cpath%20d%3D%22M686.36%2C242V236.24H746.34V242Z%22%20style%3D%22vector-effect%3A%20non-scaling-stroke%3B%20opacity%3A%201%3B%20stroke-width%3A%200px%3B%20fill%3A%20rgb(78%2C%20121%2C%20167)%3B%20fill-opacity%3A%201%3B%22%2F%3E%3C%2Fg%3E%3C%2Fg%3E%3C%2Fg%3E%3C%2Fg%3E%3C%2Fg%3E%3Cg%20class%3D%22overplot%22%3E%3Cg%20class%3D%22xy2%22%20transform%3D%22translate(80%2C30)%22%20clip-path%3D%22url('%23clipda120axy2plot')%22%3E%3Cg%20class%3D%22scatterlayer%20mlayer%22%3E%3Cg%20class%3D%22trace%20scatter%20trace0edfc2%22%20style%3D%22stroke-miterlimit%3A%202%3B%20opacity%3A%201%3B%22%3E%3Cg%20class%3D%22fills%22%2F%3E%3Cg%20class%3D%22errorbars%22%2F%3E%3Cg%20class%3D%22lines%22%3E%3Cpath%20class%3D%22js-line%22%20d%3D%22M41.65%2C121L716.35%2C121%22%20style%3D%22vector-effect%3A%20non-scaling-stroke%3B%20fill%3A%20none%3B%20stroke%3A%20rgb(242%2C%20142%2C%2044)%3B%20stroke-opacity%3A%201%3B%20stroke-width%3A%202px%3B%20opacity%3A%201%3B%22%2F%3E%3C%2Fg%3E%3Cg%20class%3D%22points%22%3E%3Cpath%20class%3D%22point%22%20transform%3D%22translate(41.65%2C121)%22%20d%3D%22M3%2C0A3%2C3%200%201%2C1%200%2C-3A3%2C3%200%200%2C1%203%2C0Z%22%20style%3D%22opacity%3A%201%3B%20stroke-width%3A%200px%3B%20fill%3A%20rgb(242%2C%20142%2C%2044)%3B%20fill-opacity%3A%201%3B%22%2F%3E%3Cpath%20class%3D%22point%22%20transform%3D%22translate(116.62%2C121)%22%20d%3D%22M3%2C0A3%2C3%200%201%2C1%200%2C-3A3%2C3%200%200%2C1%203%2C0Z%22%20style%3D%22opacity%3A%201%3B%20stroke-width%3A%200px%3B%20fill%3A%20rgb(242%2C%20142%2C%2044)%3B%20fill-opacity%3A%201%3B%22%2F%3E%3Cpath%20class%3D%22point%22%20transform%3D%22translate(191.58%2C121)%22%20d%3D%22M3%2C0A3%2C3%200%201%2C1%200%2C-3A3%2C3%200%200%2C1%203%2C0Z%22%20style%3D%22opacity%3A%201%3B%20stroke-width%3A%200px%3B%20fill%3A%20rgb(242%2C%20142%2C%2044)%3B%20fill-opacity%3A%201%3B%22%2F%3E%3Cpath%20class%3D%22point%22%20transform%3D%22translate(266.55%2C121)%22%20d%3D%22M3%2C0A3%2C3%200%201%2C1%200%2C-3A3%2C3%200%200%2C1%203%2C0Z%22%20style%3D%22opacity%3A%201%3B%20stroke-width%3A%200px%3B%20fill%3A%20rgb(242%2C%20142%2C%2044)%3B%20fill-opacity%3A%201%3B%22%2F%3E%3Cpath%20class%3D%22point%22%20transform%3D%22translate(341.52%2C121)%22%20d%3D%22M3%2C0A3%2C3%200%201%2C1%200%2C-3A3%2C3%200%200%2C1%203%2C0Z%22%20style%3D%22opacity%3A%201%3B%20stroke-width%3A%200px%3B%20fill%3A%20rgb(242%2C%20142%2C%2044)%3B%20fill-opacity%3A%201%3B%22%2F%3E%3Cpath%20class%3D%22point%22%20transform%3D%22translate(416.48%2C121)%22%20d%3D%22M3%2C0A3%2C3%200%201%2C1%200%2C-3A3%2C3%200%200%2C1%203%2C0Z%22%20style%3D%22opacity%3A%201%3B%20stroke-width%3A%200px%3B%20fill%3A%20rgb(242%2C%20142%2C%2044)%3B%20fill-opacity%3A%201%3B%22%2F%3E%3Cpath%20class%3D%22point%22%20transform%3D%22translate(491.45%2C121)%22%20d%3D%22M3%2C0A3%2C3%200%201%2C1%200%2C-3A3%2C3%200%200%2C1%203%2C0Z%22%20style%3D%22opacity%3A%201%3B%20stroke-width%3A%200px%3B%20fill%3A%20rgb(242%2C%20142%2C%2044)%3B%20fill-opacity%3A%201%3B%22%2F%3E%3Cpath%20class%3D%22point%22%20transform%3D%22translate(566.42%2C121)%22%20d%3D%22M3%2C0A3%2C3%200%201%2C1%200%2C-3A3%2C3%200%200%2C1%203%2C0Z%22%20style%3D%22opacity%3A%201%3B%20stroke-width%3A%200px%3B%20fill%3A%20rgb(242%2C%20142%2C%2044)%3B%20fill-opacity%3A%201%3B%22%2F%3E%3Cpath%20class%3D%22point%22%20transform%3D%22translate(641.38%2C121)%22%20d%3D%22M3%2C0A3%2C3%200%201%2C1%200%2C-3A3%2C3%200%200%2C1%203%2C0Z%22%20style%3D%22opacity%3A%201%3B%20stroke-width%3A%200px%3B%20fill%3A%20rgb(242%2C%20142%2C%2044)%3B%20fill-opacity%3A%201%3B%22%2F%3E%3Cpath%20class%3D%22point%22%20transform%3D%22translate(716.35%2C121)%22%20d%3D%22M3%2C0A3%2C3%200%201%2C1%200%2C-3A3%2C3%200%200%2C1%203%2C0Z%22%20style%3D%22opacity%3A%201%3B%20stroke-width%3A%200px%3B%20fill%3A%20rgb(242%2C%20142%2C%2044)%3B%20fill-opacity%3A%201%3B%22%2F%3E%3C%2Fg%3E%3Cg%20class%3D%22text%22%2F%3E%3C%2Fg%3E%3C%2Fg%3E%3C%2Fg%3E%3C%2Fg%3E%3Cpath%20class%3D%22xlines-above%20crisp%22%20d%3D%22M79%2C272.5H838%22%20style%3D%22fill%3A%20none%3B%20stroke-width%3A%201px%3B%20stroke%3A%20rgb(89%2C%2089%2C%2089)%3B%20stroke-opacity%3A%200.25%3B%22%2F%3E%3Cpath%20class%3D%22ylines-above%20crisp%22%20d%3D%22M79.5%2C30V272%22%20style%3D%22fill%3A%20none%3B%20stroke-width%3A%201px%3B%20stroke%3A%20rgb(89%2C%2089%2C%2089)%3B%20stroke-opacity%3A%200.25%3B%22%2F%3E%3Cg%20class%3D%22overlines-above%22%3E%3Cpath%20class%3D%22xy2-x%20crisp%22%20d%3D%22M0%2C0%22%20style%3D%22fill%3A%20none%3B%22%2F%3E%3Cpath%20class%3D%22xy2-y%20crisp%22%20d%3D%22M0%2C0%22%20style%3D%22fill%3A%20none%3B%22%2F%3E%3C%2Fg%3E%3Cg%20class%3D%22xaxislayer-above%22%3E%3Cg%20class%3D%22xtick%22%3E%3Ctext%20text-anchor%3D%22start%22%20x%3D%220%22%20y%3D%22287.4%22%20data-unformatted%3D%22Andrej%20Karpathy%22%20data-math%3D%22N%22%20transform%3D%22translate(121.65%2C0)%20rotate(30%2C0%2C281.4)%22%20style%3D%22font-family%3A%20%26quot%3BOpen%20Sans%26quot%3B%2C%20verdana%2C%20arial%2C%20sans-serif%3B%20font-size%3A%2012px%3B%20fill%3A%20rgb(89%2C%2089%2C%2089)%3B%20fill-opacity%3A%201%3B%20white-space%3A%20pre%3B%22%3EAndrej%20Karpathy%3C%2Ftext%3E%3C%2Fg%3E%3Cg%20class%3D%22xtick%22%3E%3Ctext%20text-anchor%3D%22start%22%20x%3D%220%22%20y%3D%22287.4%22%20data-unformatted%3D%22%F0%9F%94%A5%20Kareem%20Carr%20%F0%9F%94%A5%22%20data-math%3D%22N%22%20transform%3D%22translate(196.62%2C0)%20rotate(30%2C0%2C281.4)%22%20style%3D%22font-family%3A%20%26quot%3BOpen%20Sans%26quot%3B%2C%20verdana%2C%20arial%2C%20sans-serif%3B%20font-size%3A%2012px%3B%20fill%3A%20rgb(89%2C%2089%2C%2089)%3B%20fill-opacity%3A%201%3B%20white-space%3A%20pre%3B%22%3E%F0%9F%94%A5%20Kareem%20Carr%20%F0%9F%94%A5%3C%2Ftext%3E%3C%2Fg%3E%3Cg%20class%3D%22xtick%22%3E%3Ctext%20text-anchor%3D%22start%22%20x%3D%220%22%20y%3D%22287.4%22%20data-unformatted%3D%22Fran%C3%A7ois%20Chollet%22%20data-math%3D%22N%22%20transform%3D%22translate(271.58000000000004%2C0)%20rotate(30%2C0%2C281.4)%22%20style%3D%22font-family%3A%20%26quot%3BOpen%20Sans%26quot%3B%2C%20verdana%2C%20arial%2C%20sans-serif%3B%20font-size%3A%2012px%3B%20fill%3A%20rgb(89%2C%2089%2C%2089)%3B%20fill-opacity%3A%201%3B%20white-space%3A%20pre%3B%22%3EFran%C3%A7ois%20Chollet%3C%2Ftext%3E%3C%2Fg%3E%3Cg%20class%3D%22xtick%22%3E%3Ctext%20text-anchor%3D%22start%22%20x%3D%220%22%20y%3D%22287.4%22%20data-unformatted%3D%22Oriol%20Vinyals%22%20data-math%3D%22N%22%20transform%3D%22translate(346.55%2C0)%20rotate(30%2C0%2C281.4)%22%20style%3D%22font-family%3A%20%26quot%3BOpen%20Sans%26quot%3B%2C%20verdana%2C%20arial%2C%20sans-serif%3B%20font-size%3A%2012px%3B%20fill%3A%20rgb(89%2C%2089%2C%2089)%3B%20fill-opacity%3A%201%3B%20white-space%3A%20pre%3B%22%3EOriol%20Vinyals%3C%2Ftext%3E%3C%2Fg%3E%3Cg%20class%3D%22xtick%22%3E%3Ctext%20text-anchor%3D%22start%22%20x%3D%220%22%20y%3D%22287.4%22%20data-unformatted%3D%22Hilary%20Mason%22%20data-math%3D%22N%22%20transform%3D%22translate(421.52%2C0)%20rotate(30%2C0%2C281.4)%22%20style%3D%22font-family%3A%20%26quot%3BOpen%20Sans%26quot%3B%2C%20verdana%2C%20arial%2C%20sans-serif%3B%20font-size%3A%2012px%3B%20fill%3A%20rgb(89%2C%2089%2C%2089)%3B%20fill-opacity%3A%201%3B%20white-space%3A%20pre%3B%22%3EHilary%20Mason%3C%2Ftext%3E%3C%2Fg%3E%3Cg%20class%3D%22xtick%22%3E%3Ctext%20text-anchor%3D%22start%22%20x%3D%220%22%20y%3D%22287.4%22%20data-unformatted%3D%22Ilya%20Sutskever%22%20data-math%3D%22N%22%20transform%3D%22translate(496.48%2C0)%20rotate(30%2C0%2C281.4)%22%20style%3D%22font-family%3A%20%26quot%3BOpen%20Sans%26quot%3B%2C%20verdana%2C%20arial%2C%20sans-serif%3B%20font-size%3A%2012px%3B%20fill%3A%20rgb(89%2C%2089%2C%2089)%3B%20fill-opacity%3A%201%3B%20white-space%3A%20pre%3B%22%3EIlya%20Sutskever%3C%2Ftext%3E%3C%2Fg%3E%3Cg%20class%3D%22xtick%22%3E%3Ctext%20text-anchor%3D%22start%22%20x%3D%220%22%20y%3D%22287.4%22%20data-unformatted%3D%22Randy%20Olson%22%20data-math%3D%22N%22%20transform%3D%22translate(571.45%2C0)%20rotate(30%2C0%2C281.4)%22%20style%3D%22font-family%3A%20%26quot%3BOpen%20Sans%26quot%3B%2C%20verdana%2C%20arial%2C%20sans-serif%3B%20font-size%3A%2012px%3B%20fill%3A%20rgb(89%2C%2089%2C%2089)%3B%20fill-opacity%3A%201%3B%20white-space%3A%20pre%3B%22%3ERandy%20Olson%3C%2Ftext%3E%3C%2Fg%3E%3Cg%20class%3D%22xtick%22%3E%3Ctext%20text-anchor%3D%22start%22%20x%3D%220%22%20y%3D%22287.4%22%20data-unformatted%3D%22Pedro%20Domingos%22%20data-math%3D%22N%22%20transform%3D%22translate(646.42%2C0)%20rotate(30%2C0%2C281.4)%22%20style%3D%22font-family%3A%20%26quot%3BOpen%20Sans%26quot%3B%2C%20verdana%2C%20arial%2C%20sans-serif%3B%20font-size%3A%2012px%3B%20fill%3A%20rgb(89%2C%2089%2C%2089)%3B%20fill-opacity%3A%201%3B%20white-space%3A%20pre%3B%22%3EPedro%20Domingos%3C%2Ftext%3E%3C%2Fg%3E%3Cg%20class%3D%22xtick%22%3E%3Ctext%20text-anchor%3D%22start%22%20x%3D%220%22%20y%3D%22287.4%22%20data-unformatted%3D%22Durk%20Kingma%22%20data-math%3D%22N%22%20transform%3D%22translate(721.38%2C0)%20rotate(30%2C0%2C281.4)%22%20style%3D%22font-family%3A%20%26quot%3BOpen%20Sans%26quot%3B%2C%20verdana%2C%20arial%2C%20sans-serif%3B%20font-size%3A%2012px%3B%20fill%3A%20rgb(89%2C%2089%2C%2089)%3B%20fill-opacity%3A%201%3B%20white-space%3A%20pre%3B%22%3EDurk%20Kingma%3C%2Ftext%3E%3C%2Fg%3E%3Cg%20class%3D%22xtick%22%3E%3Ctext%20text-anchor%3D%22start%22%20x%3D%220%22%20y%3D%22287.4%22%20data-unformatted%3D%22Alvin%20Foo%22%20data-math%3D%22N%22%20transform%3D%22translate(796.35%2C0)%20rotate(30%2C0%2C281.4)%22%20style%3D%22font-family%3A%20%26quot%3BOpen%20Sans%26quot%3B%2C%20verdana%2C%20arial%2C%20sans-serif%3B%20font-size%3A%2012px%3B%20fill%3A%20rgb(89%2C%2089%2C%2089)%3B%20fill-opacity%3A%201%3B%20white-space%3A%20pre%3B%22%3EAlvin%20Foo%3C%2Ftext%3E%3C%2Fg%3E%3C%2Fg%3E%3Cg%20class%3D%22yaxislayer-above%22%3E%3Cg%20class%3D%22ytick%22%3E%3Ctext%20text-anchor%3D%22end%22%20x%3D%2276.6%22%20y%3D%224.199999999999999%22%20data-unformatted%3D%220%22%20data-math%3D%22N%22%20transform%3D%22translate(0%2C272)%22%20style%3D%22font-family%3A%20%26quot%3BOpen%20Sans%26quot%3B%2C%20verdana%2C%20arial%2C%20sans-serif%3B%20font-size%3A%2012px%3B%20fill%3A%20rgb(89%2C%2089%2C%2089)%3B%20fill-opacity%3A%201%3B%20white-space%3A%20pre%3B%22%3E0%3C%2Ftext%3E%3C%2Fg%3E%3Cg%20class%3D%22ytick%22%3E%3Ctext%20text-anchor%3D%22end%22%20x%3D%2276.6%22%20y%3D%224.199999999999999%22%20data-unformatted%3D%22500%22%20data-math%3D%22N%22%20transform%3D%22translate(0%2C232.52)%22%20style%3D%22font-family%3A%20%26quot%3BOpen%20Sans%26quot%3B%2C%20verdana%2C%20arial%2C%20sans-serif%3B%20font-size%3A%2012px%3B%20fill%3A%20rgb(89%2C%2089%2C%2089)%3B%20fill-opacity%3A%201%3B%20white-space%3A%20pre%3B%22%3E500%3C%2Ftext%3E%3C%2Fg%3E%3Cg%20class%3D%22ytick%22%3E%3Ctext%20text-anchor%3D%22end%22%20x%3D%2276.6%22%20y%3D%224.199999999999999%22%20data-unformatted%3D%221000%22%20data-math%3D%22N%22%20transform%3D%22translate(0%2C193.04)%22%20style%3D%22font-family%3A%20%26quot%3BOpen%20Sans%26quot%3B%2C%20verdana%2C%20arial%2C%20sans-serif%3B%20font-size%3A%2012px%3B%20fill%3A%20rgb(89%2C%2089%2C%2089)%3B%20fill-opacity%3A%201%3B%20white-space%3A%20pre%3B%22%3E1000%3C%2Ftext%3E%3C%2Fg%3E%3Cg%20class%3D%22ytick%22%3E%3Ctext%20text-anchor%3D%22end%22%20x%3D%2276.6%22%20y%3D%224.199999999999999%22%20data-unformatted%3D%221500%22%20data-math%3D%22N%22%20transform%3D%22translate(0%2C153.56)%22%20style%3D%22font-family%3A%20%26quot%3BOpen%20Sans%26quot%3B%2C%20verdana%2C%20arial%2C%20sans-serif%3B%20font-size%3A%2012px%3B%20fill%3A%20rgb(89%2C%2089%2C%2089)%3B%20fill-opacity%3A%201%3B%20white-space%3A%20pre%3B%22%3E1500%3C%2Ftext%3E%3C%2Fg%3E%3Cg%20class%3D%22ytick%22%3E%3Ctext%20text-anchor%3D%22end%22%20x%3D%2276.6%22%20y%3D%224.199999999999999%22%20data-unformatted%3D%222000%22%20data-math%3D%22N%22%20transform%3D%22translate(0%2C114.08)%22%20style%3D%22font-family%3A%20%26quot%3BOpen%20Sans%26quot%3B%2C%20verdana%2C%20arial%2C%20sans-serif%3B%20font-size%3A%2012px%3B%20fill%3A%20rgb(89%2C%2089%2C%2089)%3B%20fill-opacity%3A%201%3B%20white-space%3A%20pre%3B%22%3E2000%3C%2Ftext%3E%3C%2Fg%3E%3Cg%20class%3D%22ytick%22%3E%3Ctext%20text-anchor%3D%22end%22%20x%3D%2276.6%22%20y%3D%224.199999999999999%22%20data-unformatted%3D%222500%22%20data-math%3D%22N%22%20transform%3D%22translate(0%2C74.6)%22%20style%3D%22font-family%3A%20%26quot%3BOpen%20Sans%26quot%3B%2C%20verdana%2C%20arial%2C%20sans-serif%3B%20font-size%3A%2012px%3B%20fill%3A%20rgb(89%2C%2089%2C%2089)%3B%20fill-opacity%3A%201%3B%20white-space%3A%20pre%3B%22%3E2500%3C%2Ftext%3E%3C%2Fg%3E%3Cg%20class%3D%22ytick%22%3E%3Ctext%20text-anchor%3D%22end%22%20x%3D%2276.6%22%20y%3D%224.199999999999999%22%20data-unformatted%3D%223000%22%20data-math%3D%22N%22%20transform%3D%22translate(0%2C35.12)%22%20style%3D%22font-family%3A%20%26quot%3BOpen%20Sans%26quot%3B%2C%20verdana%2C%20arial%2C%20sans-serif%3B%20font-size%3A%2012px%3B%20fill%3A%20rgb(89%2C%2089%2C%2089)%3B%20fill-opacity%3A%201%3B%20white-space%3A%20pre%3B%22%3E3000%3C%2Ftext%3E%3C%2Fg%3E%3C%2Fg%3E%3Cg%20class%3D%22overaxes-above%22%3E%3Cg%20class%3D%22xy2-x%22%2F%3E%3Cg%20class%3D%22xy2-y%22%3E%3Cg%20class%3D%22y2tick%22%3E%3Ctext%20text-anchor%3D%22start%22%20x%3D%22839%22%20y%3D%224.199999999999999%22%20data-unformatted%3D%2215.5%22%20data-math%3D%22N%22%20transform%3D%22translate(0%2C262.69)%22%20style%3D%22font-family%3A%20%26quot%3BOpen%20Sans%26quot%3B%2C%20verdana%2C%20arial%2C%20sans-serif%3B%20font-size%3A%2012px%3B%20fill%3A%20rgb(89%2C%2089%2C%2089)%3B%20fill-opacity%3A%201%3B%20white-space%3A%20pre%3B%22%3E15.5%3C%2Ftext%3E%3C%2Fg%3E%3Cg%20class%3D%22y2tick%22%3E%3Ctext%20text-anchor%3D%22start%22%20x%3D%22839%22%20y%3D%224.199999999999999%22%20data-unformatted%3D%2216%22%20data-math%3D%22N%22%20transform%3D%22translate(0%2C202.19)%22%20style%3D%22font-family%3A%20%26quot%3BOpen%20Sans%26quot%3B%2C%20verdana%2C%20arial%2C%20sans-serif%3B%20font-size%3A%2012px%3B%20fill%3A%20rgb(89%2C%2089%2C%2089)%3B%20fill-opacity%3A%201%3B%20white-space%3A%20pre%3B%22%3E16%3C%2Ftext%3E%3C%2Fg%3E%3Cg%20class%3D%22y2tick%22%3E%3Ctext%20text-anchor%3D%22start%22%20x%3D%22839%22%20y%3D%224.199999999999999%22%20data-unformatted%3D%2216.5%22%20data-math%3D%22N%22%20transform%3D%22translate(0%2C141.69)%22%20style%3D%22font-family%3A%20%26quot%3BOpen%20Sans%26quot%3B%2C%20verdana%2C%20arial%2C%20sans-serif%3B%20font-size%3A%2012px%3B%20fill%3A%20rgb(89%2C%2089%2C%2089)%3B%20fill-opacity%3A%201%3B%20white-space%3A%20pre%3B%22%3E16.5%3C%2Ftext%3E%3C%2Fg%3E%3Cg%20class%3D%22y2tick%22%3E%3Ctext%20text-anchor%3D%22start%22%20x%3D%22839%22%20y%3D%224.199999999999999%22%20data-unformatted%3D%2217%22%20data-math%3D%22N%22%20transform%3D%22translate(0%2C81.19)%22%20style%3D%22font-family%3A%20%26quot%3BOpen%20Sans%26quot%3B%2C%20verdana%2C%20arial%2C%20sans-serif%3B%20font-size%3A%2012px%3B%20fill%3A%20rgb(89%2C%2089%2C%2089)%3B%20fill-opacity%3A%201%3B%20white-space%3A%20pre%3B%22%3E17%3C%2Ftext%3E%3C%2Fg%3E%3C%2Fg%3E%3C%2Fg%3E%3C%2Fg%3E%3Cg%20class%3D%22subplot%20xy2%22%2F%3E%3C%2Fg%3E%3Cg%20class%3D%22polarlayer%22%2F%3E%3Cg%20class%3D%22ternarylayer%22%2F%3E%3Cg%20class%3D%22geolayer%22%2F%3E%3Cg%20class%3D%22funnelarealayer%22%2F%3E%3Cg%20class%3D%22pielayer%22%2F%3E%3Cg%20class%3D%22treemaplayer%22%2F%3E%3Cg%20class%3D%22sunburstlayer%22%2F%3E%3Cg%20class%3D%22glimages%22%2F%3E%3Cdefs%20id%3D%22topdefs-da120a%22%3E%3Cg%20class%3D%22clips%22%2F%3E%3CclipPath%20id%3D%22legendda120a%22%3E%3Crect%20width%3D%22114%22%20height%3D%2258%22%20x%3D%220%22%20y%3D%220%22%2F%3E%3C%2FclipPath%3E%3C%2Fdefs%3E%3Cg%20class%3D%22indicatorlayer%22%2F%3E%3Cg%20class%3D%22layer-above%22%3E%3Cg%20class%3D%22imagelayer%22%2F%3E%3Cg%20class%3D%22shapelayer%22%2F%3E%3C%2Fg%3E%3Cg%20class%3D%22infolayer%22%3E%3Cg%20class%3D%22legend%22%20pointer-events%3D%22all%22%20transform%3D%22translate(853%2C30)%22%3E%3Crect%20class%3D%22bg%22%20shape-rendering%3D%22crispEdges%22%20width%3D%22114%22%20height%3D%2258%22%20x%3D%220%22%20y%3D%220%22%20style%3D%22stroke%3A%20rgb(68%2C%2068%2C%2068)%3B%20stroke-opacity%3A%201%3B%20fill%3A%20rgb(255%2C%20255%2C%20255)%3B%20fill-opacity%3A%201%3B%20stroke-width%3A%200px%3B%22%2F%3E%3Cg%20class%3D%22scrollbox%22%20transform%3D%22%22%20clip-path%3D%22url('%23legendda120a')%22%3E%3Cg%20class%3D%22groups%22%20transform%3D%22%22%3E%3Cg%20class%3D%22traces%22%20transform%3D%22translate(0%2C14.5)%22%20style%3D%22opacity%3A%201%3B%22%3E%3Ctext%20class%3D%22legendtext%22%20text-anchor%3D%22start%22%20x%3D%2240%22%20y%3D%224.680000000000001%22%20data-unformatted%3D%22likes%22%20data-math%3D%22N%22%20style%3D%22font-family%3A%20%26quot%3BOpen%20Sans%26quot%3B%2C%20verdana%2C%20arial%2C%20sans-serif%3B%20font-size%3A%2012px%3B%20fill%3A%20rgb(89%2C%2089%2C%2089)%3B%20fill-opacity%3A%201%3B%20white-space%3A%20pre%3B%22%3Elikes%3C%2Ftext%3E%3Cg%20class%3D%22layers%22%20style%3D%22opacity%3A%201%3B%22%3E%3Cg%20class%3D%22legendfill%22%2F%3E%3Cg%20class%3D%22legendlines%22%2F%3E%3Cg%20class%3D%22legendsymbols%22%3E%3Cg%20class%3D%22legendpoints%22%3E%3Cpath%20class%3D%22legendundefined%22%20d%3D%22M6%2C6H-6V-6H6Z%22%20transform%3D%22translate(20%2C0)%22%20style%3D%22stroke-width%3A%200px%3B%20fill%3A%20rgb(78%2C%20121%2C%20167)%3B%20fill-opacity%3A%201%3B%22%2F%3E%3C%2Fg%3E%3C%2Fg%3E%3C%2Fg%3E%3Crect%20class%3D%22legendtoggle%22%20pointer-events%3D%22all%22%20x%3D%220%22%20y%3D%22-9.5%22%20width%3D%22108.2249984741211%22%20height%3D%2219%22%20style%3D%22cursor%3A%20pointer%3B%20fill%3A%20rgb(0%2C%200%2C%200)%3B%20fill-opacity%3A%200%3B%22%2F%3E%3C%2Fg%3E%3C%2Fg%3E%3Cg%20class%3D%22groups%22%20transform%3D%22translate(0%2C10)%22%3E%3Cg%20class%3D%22traces%22%20transform%3D%22translate(0%2C33.5)%22%20style%3D%22opacity%3A%201%3B%22%3E%3Ctext%20class%3D%22legendtext%22%20text-anchor%3D%22start%22%20x%3D%2240%22%20y%3D%224.680000000000001%22%20data-unformatted%3D%22likes_mean%22%20data-math%3D%22N%22%20style%3D%22font-family%3A%20%26quot%3BOpen%20Sans%26quot%3B%2C%20verdana%2C%20arial%2C%20sans-serif%3B%20font-size%3A%2012px%3B%20fill%3A%20rgb(89%2C%2089%2C%2089)%3B%20fill-opacity%3A%201%3B%20white-space%3A%20pre%3B%22%3Elikes_mean%3C%2Ftext%3E%3Cg%20class%3D%22layers%22%20style%3D%22opacity%3A%201%3B%22%3E%3Cg%20class%3D%22legendfill%22%2F%3E%3Cg%20class%3D%22legendlines%22%3E%3Cpath%20class%3D%22js-line%22%20d%3D%22M5%2C0h30%22%20style%3D%22fill%3A%20none%3B%20stroke%3A%20rgb(242%2C%20142%2C%2044)%3B%20stroke-opacity%3A%201%3B%20stroke-width%3A%202px%3B%22%2F%3E%3C%2Fg%3E%3Cg%20class%3D%22legendsymbols%22%3E%3Cg%20class%3D%22legendpoints%22%3E%3Cpath%20class%3D%22scatterpts%22%20transform%3D%22translate(20%2C0)%22%20d%3D%22M3%2C0A3%2C3%200%201%2C1%200%2C-3A3%2C3%200%200%2C1%203%2C0Z%22%20style%3D%22opacity%3A%201%3B%20stroke-width%3A%200px%3B%20fill%3A%20rgb(242%2C%20142%2C%2044)%3B%20fill-opacity%3A%201%3B%22%2F%3E%3Cg%20class%3D%22pointtext%22%20transform%3D%22translate(0%2C12.25)%22%3E%3Ctext%20transform%3D%22translate(20%2C0)%22%20data-unformatted%3D%22Aa%22%20data-math%3D%22N%22%20x%3D%220%22%20y%3D%220%22%20text-anchor%3D%22middle%22%20style%3D%22font-family%3A%20%26quot%3BOpen%20Sans%26quot%3B%2C%20verdana%2C%20arial%2C%20sans-serif%3B%20font-size%3A%2010px%3B%20fill%3A%20rgb(89%2C%2089%2C%2089)%3B%20fill-opacity%3A%201%3B%20white-space%3A%20pre%3B%22%3EAa%3C%2Ftext%3E%3C%2Fg%3E%3C%2Fg%3E%3C%2Fg%3E%3C%2Fg%3E%3Crect%20class%3D%22legendtoggle%22%20pointer-events%3D%22all%22%20x%3D%220%22%20y%3D%22-9.5%22%20width%3D%22108.2249984741211%22%20height%3D%2219%22%20style%3D%22cursor%3A%20pointer%3B%20fill%3A%20rgb(0%2C%200%2C%200)%3B%20fill-opacity%3A%200%3B%22%2F%3E%3C%2Fg%3E%3C%2Fg%3E%3C%2Fg%3E%3Crect%20class%3D%22scrollbar%22%20rx%3D%2220%22%20ry%3D%223%22%20width%3D%220%22%20height%3D%220%22%20x%3D%220%22%20y%3D%220%22%20style%3D%22fill%3A%20rgb(128%2C%20139%2C%20164)%3B%20fill-opacity%3A%201%3B%22%2F%3E%3C%2Fg%3E%3Cg%20class%3D%22g-gtitle%22%2F%3E%3Cg%20class%3D%22g-xtitle%22%2F%3E%3Cg%20class%3D%22g-ytitle%22%2F%3E%3Cg%20class%3D%22g-y2title%22%2F%3E%3C%2Fg%3E%3Cg%20class%3D%22menulayer%22%2F%3E%3Cg%20class%3D%22zoomlayer%22%2F%3E%3Cg%20class%3D%22hoverlayer%22%2F%3E%3C%2Fsvg%3E\">"
      ],
      "text/plain": [
       "Open the notebook in JupyterLab with the atoti extension enabled to build this widget."
      ]
     },
     "metadata": {},
     "output_type": "display_data"
    }
   ],
   "source": [
    "session.visualize(\"Top 10 influencers - Number of likes per tweet\")"
   ]
  },
  {
   "cell_type": "markdown",
   "metadata": {},
   "source": [
    "The graphs demonstrate well that there is a clear distinction between the qantity or the tweets produced by an influencer and the number of people he reaches in terms of the number of replies, retweets and quotes, and likes he gets from his posts.\n",
    "\n",
    "In fact, if we consider the top 3 influencers that post the most: \n",
    "- Dr. Robin Kiera\n",
    "- KDnuggets\n",
    "- Tamara McCleary\n",
    "\n",
    "We oserve that none of them is within the top 10 influencers whose tweets are the most replied, retweeted or quoted, or liked.\n",
    "\n",
    "Unlike these influencers, if we consider Andrej Karpathy who has the higher replies and likes rates per tweet, we can observe that he is actually not even amongst the top 20 influencers with the most tweets.\n",
    "\n",
    "As a consequence, it seems that being more replied, retweeted, quoted or liked has more to have with the content of the tweets written or their quality."
   ]
  },
  {
   "cell_type": "markdown",
   "metadata": {},
   "source": [
    "#### In what follows, we the perform the same kind of analysis than before, but for each topic\n",
    "#### We will focus only on the 5 most discussed topics (top 5 topics with the most tweets associated)"
   ]
  },
  {
   "cell_type": "markdown",
   "metadata": {},
   "source": [
    "#### Top 5 topics\n",
    "Here, we consider the most popular topics as being the ones with the most related tweets, replies, retweets, quotes, and likes."
   ]
  },
  {
   "cell_type": "code",
   "execution_count": 18,
   "metadata": {
    "atoti": {
     "height": 238,
     "widget": {
      "filters": [
       "TopCount(Filter([influencer].[topic].Levels(1).Members, NOT IsEmpty([Measures].[contributors.COUNT])), 5, [Measures].[contributors.COUNT])"
      ],
      "mapping": {
       "columns": [
        "ALL_MEASURES"
       ],
       "measures": [
        "[Measures].[contributors.COUNT]"
       ],
       "rows": [
        "[influencer].[topic].[topic]"
       ]
      },
      "query": {
       "mdx": "SELECT NON EMPTY Order(Hierarchize(Descendants({[influencer].[topic].[AllMember]}, 1, SELF_AND_BEFORE)), [Measures].[contributors.COUNT], DESC) ON ROWS, NON EMPTY {[Measures].[contributors.COUNT]} ON COLUMNS FROM [influencer_cube]",
       "updateMode": "once"
      },
      "serverKey": "default",
      "widgetKey": "pivot-table"
     }
    },
    "tags": []
   },
   "outputs": [
    {
     "data": {
      "application/vnd.atoti.widget.v0+json": {
       "name": "Top 5 topics",
       "sessionId": "1648807225_BF0YEB",
       "sessionLocation": {
        "https": null,
        "port": 61470
       },
       "widgetCreationCode": "session.visualize()"
      },
      "text/html": [
       "<img src=\"data:image/svg+xml;charset=utf8,%3C%3Fxml%20version%3D%221.0%22%20standalone%3D%22no%22%3F%3E%3Csvg%20xmlns%3D%22http%3A%2F%2Fwww.w3.org%2F2000%2Fsvg%22%20height%3D%22230%22%20width%3D%22967%22%3E%3CforeignObject%20width%3D%22100%25%22%20height%3D%22100%25%22%20x%3D%220%22%20y%3D%220%22%3E%3Cstyle%20xmlns%3D%22http%3A%2F%2Fwww.w3.org%2F1999%2Fxhtml%22%20type%3D%22text%2Fcss%22%3E*%2C%20%3A%3Abefore%2C%20%3A%3Aafter%20%7Bbox-sizing%3A%20unset%7D%0A.ant-root%20%5Bclass%5E%3D%22ant-%22%5D%2C%20.ant-root%20%5Bclass*%3D%22ant-%22%5D%2C%20.ant-root%20%5Bclass%5E%3D%22ant-%22%5D%20*%2C%20.ant-root%20%5Bclass*%3D%22ant-%22%5D%20*%2C%20.ant-root%20%5Bclass%5E%3D%22ant-%22%5D%20%3A%3Abefore%2C%20.ant-root%20%5Bclass*%3D%22ant-%22%5D%20%3A%3Abefore%2C%20.ant-root%20%5Bclass%5E%3D%22ant-%22%5D%20%3A%3Aafter%2C%20.ant-root%20%5Bclass*%3D%22ant-%22%5D%20%3A%3Aafter%20%7Bbox-sizing%3A%20border-box%7D%0A.ant-root%20html%2C%20.ant-root%20%7Bwidth%3A%20100%25%3B%20height%3A%20100%25%7D%0A.ant-root%20*%2C%20.ant-root%20%3A%3Abefore%2C%20.ant-root%20%3A%3Aafter%20%7Bbox-sizing%3A%20border-box%7D%0A.ant-root%20%7Bmargin-top%3A%200px%3B%20margin-right%3A%200px%3B%20margin-bottom%3A%200px%3B%20margin-left%3A%200px%3B%20color%3A%20rgb(89%2C%2089%2C%2089)%3B%20font-size%3A%2012px%3B%20font-family%3A%20-apple-system%2C%20BlinkMacSystemFont%2C%20%22Segoe%20UI%22%2C%20Roboto%2C%20%22Helvetica%20Neue%22%2C%20Arial%2C%20%22Noto%20Sans%22%2C%20sans-serif%2C%20%22Apple%20Color%20Emoji%22%2C%20%22Segoe%20UI%20Emoji%22%2C%20%22Segoe%20UI%20Symbol%22%2C%20%22Noto%20Color%20Emoji%22%3B%20font-variant-ligatures%3A%20normal%3B%20font-variant-numeric%3A%20tabular-nums%3B%20font-variant-east-asian%3A%20normal%3B%20font-variant-caps%3A%20normal%3B%20line-height%3A%201.66667%3B%20background-color%3A%20rgb(255%2C%20255%2C%20255)%3B%20--antd-wave-shadow-color%3A%20%20%231890FF%3B%20--scroll-bar%3A%20%200%7D%0A.ant-root%20svg%3Anot(%3Aroot)%20%7Boverflow-x%3A%20hidden%3B%20overflow-y%3A%20hidden%7D%0A.ant-root%20.ant-spin%20%7Bbox-sizing%3A%20border-box%3B%20margin-top%3A%200px%3B%20margin-right%3A%200px%3B%20margin-bottom%3A%200px%3B%20margin-left%3A%200px%3B%20padding-top%3A%200px%3B%20padding-right%3A%200px%3B%20padding-bottom%3A%200px%3B%20padding-left%3A%200px%3B%20font-size%3A%2012px%3B%20font-variant-ligatures%3A%20normal%3B%20font-variant-numeric%3A%20tabular-nums%3B%20font-variant-east-asian%3A%20normal%3B%20font-variant-caps%3A%20normal%3B%20line-height%3A%201.66667%3B%20list-style-position%3A%20initial%3B%20list-style-image%3A%20initial%3B%20list-style-type%3A%20none%3B%20position%3A%20absolute%3B%20display%3A%20none%3B%20color%3A%20rgb(24%2C%20144%2C%20255)%3B%20text-align%3A%20center%3B%20vertical-align%3A%20middle%3B%20opacity%3A%200%3B%20transition-duration%3A%200.3s%3B%20transition-timing-function%3A%20cubic-bezier(0.78%2C%200.14%2C%200.15%2C%200.86)%3B%20transition-delay%3A%200s%3B%20transition-property%3A%20transform%7D%0A.ant-root%20.ant-spin-spinning%20%7Bposition%3A%20static%3B%20display%3A%20inline-block%3B%20opacity%3A%201%7D%0A.ant-root%20.ant-spin-dot%20%7Bposition%3A%20relative%3B%20display%3A%20inline-block%3B%20font-size%3A%2020px%3B%20width%3A%201em%3B%20height%3A%201em%7D%0A.ant-root%20.ant-spin-dot-item%20%7Bposition%3A%20absolute%3B%20display%3A%20block%3B%20width%3A%209px%3B%20height%3A%209px%3B%20background-color%3A%20rgb(24%2C%20144%2C%20255)%3B%20border-top-left-radius%3A%20100%25%3B%20border-top-right-radius%3A%20100%25%3B%20border-bottom-right-radius%3A%20100%25%3B%20border-bottom-left-radius%3A%20100%25%3B%20transform%3A%20scale(0.75)%3B%20transform-origin%3A%2050%25%2050%25%3B%20opacity%3A%200.3%3B%20animation-duration%3A%201s%3B%20animation-timing-function%3A%20linear%3B%20animation-delay%3A%200s%3B%20animation-iteration-count%3A%20infinite%3B%20animation-direction%3A%20alternate%3B%20animation-fill-mode%3A%20none%3B%20animation-play-state%3A%20running%3B%20animation-name%3A%20antSpinMove%7D%0A.ant-root%20.ant-spin-dot-item%3Anth-child(1)%20%7Btop%3A%200px%3B%20left%3A%200px%7D%0A.ant-root%20.ant-spin-dot-item%3Anth-child(2)%20%7Btop%3A%200px%3B%20right%3A%200px%3B%20animation-delay%3A%200.4s%7D%0A.ant-root%20.ant-spin-dot-item%3Anth-child(3)%20%7Bright%3A%200px%3B%20bottom%3A%200px%3B%20animation-delay%3A%200.8s%7D%0A.ant-root%20.ant-spin-dot-item%3Anth-child(4)%20%7Bbottom%3A%200px%3B%20left%3A%200px%3B%20animation-delay%3A%201.2s%7D%0A.ant-root%20.ant-spin-dot-spin%20%7Btransform%3A%20rotate(45deg)%3B%20animation-duration%3A%201.2s%3B%20animation-timing-function%3A%20linear%3B%20animation-delay%3A%200s%3B%20animation-iteration-count%3A%20infinite%3B%20animation-direction%3A%20normal%3B%20animation-fill-mode%3A%20none%3B%20animation-play-state%3A%20running%3B%20animation-name%3A%20antRotate%7D%0A.ant-root%20.ant-spin-lg%20.ant-spin-dot%20%7Bfont-size%3A%2032px%7D%0A.ant-root%20.ant-spin-lg%20.ant-spin-dot%20i%20%7Bwidth%3A%2014px%3B%20height%3A%2014px%7D%0A.ant-root%20.aui-invisible-scrollbars%20%7B%7D%0A.css-12ebr42-AWidget%20%7Bheight%3A%20100%25%7D%0A.css-ck2xzt-Spinner%20%7B-webkit-box-align%3A%20center%3B%20align-items%3A%20center%3B%20background-image%3A%20initial%3B%20background-position-x%3A%20initial%3B%20background-position-y%3A%20initial%3B%20background-size%3A%20initial%3B%20background-repeat-x%3A%20initial%3B%20background-repeat-y%3A%20initial%3B%20background-attachment%3A%20initial%3B%20background-origin%3A%20initial%3B%20background-clip%3A%20initial%3B%20background-color%3A%20transparent%3B%20display%3A%20flex%3B%20height%3A%20100%25%3B%20-webkit-box-pack%3A%20center%3B%20justify-content%3A%20center%3B%20position%3A%20absolute%3B%20transition-duration%3A%20300ms%3B%20transition-timing-function%3A%20ease%3B%20transition-delay%3A%200s%3B%20transition-property%3A%20opacity%3B%20width%3A%20100%25%3B%20opacity%3A%200%3B%20pointer-events%3A%20none%3B%20z-index%3A%202%7D%0A.css-1e3kjgr-Spinner%20%7Bheight%3A%20100%25%3B%20position%3A%20relative%7D%0A.css-1hwl8p1-Table%20%7Bpadding-bottom%3A%202px%3B%20padding-right%3A%202px%3B%20height%3A%20100%25%7D%0A.css-14ejcn0-Table%20%7Bheight%3A%20calc(100%25%20-%2030px)%3B%20outline-color%3A%20initial%3B%20outline-style%3A%20none%3B%20outline-width%3A%20initial%3B%20position%3A%20relative%7D%0A.css-1rxpjm0-ColumnResizeHint%20%7Bdisplay%3A%20none%3B%20position%3A%20absolute%3B%20z-index%3A%201%7D%0A.css-1uww2vi-Table%20%7Bheight%3A%2030px%3B%20text-align%3A%20right%3B%20padding-right%3A%2025px%7D%0A.css-1hol363-ResizableCell%20%7Bdisplay%3A%20flex%3B%20flex-direction%3A%20column%3B%20position%3A%20absolute%3B%20top%3A%200px%3B%20left%3A%200px%3B%20height%3A%2028px%3B%20width%3A%20120px%7D%0A.css-xxcrt1-ResizableCell%20%7Bbackground-image%3A%20initial%3B%20background-position-x%3A%20initial%3B%20background-position-y%3A%20initial%3B%20background-size%3A%20initial%3B%20background-repeat-x%3A%20initial%3B%20background-repeat-y%3A%20initial%3B%20background-attachment%3A%20initial%3B%20background-origin%3A%20initial%3B%20background-clip%3A%20initial%3B%20background-color%3A%20transparent%3B%20cursor%3A%20col-resize%3B%20height%3A%20100%25%3B%20position%3A%20absolute%3B%20right%3A%200px%3B%20width%3A%205px%3B%20z-index%3A%201%7D%0A.css-sazb3v-Table%20%7Bwidth%3A%20845px%3B%20border-collapse%3A%20collapse%7D%0A.css-walxhl-ColumnResizeHint%20%7Bheight%3A%2028px%3B%20background-color%3A%20rgb(24%2C%20144%2C%20255)%3B%20width%3A%205px%7D%0A.css-9wvnih-Table%20%7Bborder-collapse%3A%20collapse%3B%20height%3A%2028px%3B%20width%3A%20120px%7D%0A.css-gy6esx%20%7Bheight%3A%2028px%3B%20width%3A%20120px%7D%0A.css-n1rdc6%20%7Bcursor%3A%20cell%3B%20height%3A%2028px%3B%20overflow-x%3A%20hidden%3B%20overflow-y%3A%20hidden%3B%20position%3A%20relative%3B%20width%3A%20120px%3B%20border-right-width%3A%202px%3B%20border-right-style%3A%20solid%3B%20border-right-color%3A%20rgb(233%2C%20233%2C%20233)%7D%0A.css-1qlsq0z%20%7Bheight%3A%2028px%3B%20width%3A%20827px%3B%20overflow-x%3A%20auto%3B%20overflow-y%3A%20hidden%7D%0A.css-195tbl3-ColumnResizeHint%20%7Bdisplay%3A%20none%3B%20float%3A%20right%3B%20height%3A%20170px%3B%20background-color%3A%20rgb(24%2C%20144%2C%20255)%3B%20opacity%3A%200.4%3B%20width%3A%202px%7D%0A.css-14h4hd1-Table%20%7Bdisplay%3A%20flex%3B%20height%3A%20198px%7D%0A.css-1wkv7c2%20%7Bheight%3A%20170px%3B%20width%3A%20120px%3B%20overflow-x%3A%20hidden%3B%20overflow-y%3A%20auto%7D%0A.css-k28svq%20%7Bcursor%3A%20cell%3B%20height%3A%20168px%3B%20overflow-x%3A%20hidden%3B%20overflow-y%3A%20hidden%3B%20position%3A%20relative%3B%20width%3A%20120px%3B%20border-top-width%3A%202px%3B%20border-top-style%3A%20solid%3B%20border-top-color%3A%20rgb(233%2C%20233%2C%20233)%3B%20border-right-width%3A%202px%3B%20border-right-style%3A%20solid%3B%20border-right-color%3A%20rgb(233%2C%20233%2C%20233)%7D%0A.css-1toshix%20%7Bcursor%3A%20cell%3B%20height%3A%2028px%3B%20overflow-x%3A%20hidden%3B%20overflow-y%3A%20hidden%3B%20position%3A%20relative%3B%20width%3A%20120px%7D%0A.css-1ethhfv%20%7Bheight%3A%20170px%3B%20width%3A%20845px%3B%20overflow-x%3A%20auto%3B%20overflow-y%3A%20auto%7D%0A.css-15wrixa%20%7Bcursor%3A%20cell%3B%20height%3A%20168px%3B%20overflow-x%3A%20hidden%3B%20overflow-y%3A%20hidden%3B%20position%3A%20relative%3B%20width%3A%20120px%3B%20border-top-width%3A%202px%3B%20border-top-style%3A%20solid%3B%20border-top-color%3A%20rgb(233%2C%20233%2C%20233)%7D%0A*%20%7B-ms-overflow-style%3A%20none%3B%20scrollbar-width%3A%20none%7D%0A*%3A%3A-webkit-scrollbar%20%7Bdisplay%3A%20none%7D%0A.atoti-hidden-in-snapshot%20%7Bdisplay%3A%20none%7D%3C%2Fstyle%3E%3Cdiv%20xmlns%3D%22http%3A%2F%2Fwww.w3.org%2F1999%2Fxhtml%22%20style%3D%22height%3A%20230px%3B%20width%3A%20967px%3B%22%3E%3Cdiv%20class%3D%22ant-root%20css-0%22%3E%3Cdiv%20class%3D%22ant-dropdown-trigger%20css-12ebr42-AWidget%22%3E%3Cdiv%20class%3D%22css-1e3kjgr-Spinner%22%3E%3Cdiv%20class%3D%22css-ck2xzt-Spinner%22%3E%3Cdiv%20class%3D%22ant-spin%20ant-spin-lg%20ant-spin-spinning%22%3E%3Cspan%20class%3D%22ant-spin-dot%20ant-spin-dot-spin%22%3E%3Ci%20class%3D%22ant-spin-dot-item%22%3E%3C%2Fi%3E%3Ci%20class%3D%22ant-spin-dot-item%22%3E%3C%2Fi%3E%3Ci%20class%3D%22ant-spin-dot-item%22%3E%3C%2Fi%3E%3Ci%20class%3D%22ant-spin-dot-item%22%3E%3C%2Fi%3E%3C%2Fspan%3E%3C%2Fdiv%3E%3C%2Fdiv%3E%3Cdiv%20class%3D%22css-1hwl8p1-Table%22%3E%3Cdiv%20tabindex%3D%220%22%20class%3D%22css-14ejcn0-Table%22%3E%3Cdiv%20class%3D%22css-1rxpjm0-ColumnResizeHint%22%3E%3Cdiv%20class%3D%22css-walxhl-ColumnResizeHint%22%3E%3C%2Fdiv%3E%3Cdiv%20class%3D%22css-195tbl3-ColumnResizeHint%22%3E%3C%2Fdiv%3E%3C%2Fdiv%3E%3Cdiv%20class%3D%22css-14h4hd1-Table%22%3E%3Cdiv%20class%3D%22css-9wvnih-Table%22%3E%3Cdiv%20class%3D%22%20css-gy6esx%22%3E%3Cdiv%20class%3D%22css-n1rdc6%22%3E%3Cdiv%20class%3D%22css-1hol363-ResizableCell%22%3E%3Cdiv%20class%3D%22aui-table-cell%22%20style%3D%22height%3A%2028px%3B%20left%3A%200px%3B%20top%3A%200px%3B%20width%3A%20115px%3B%20text-align%3A%20left%3B%20font-size%3A%2012px%3B%20padding%3A%204px%204px%203px%3B%20overflow%3A%20hidden%3B%20position%3A%20absolute%3B%20white-space%3A%20nowrap%3B%20text-overflow%3A%20ellipsis%3B%20font-weight%3A%20600%3B%20display%3A%20flex%3B%20align-items%3A%20center%3B%22%3E%3Cspan%3Etopic%3C%2Fspan%3E%3C%2Fdiv%3E%3Cdiv%20class%3D%22css-xxcrt1-ResizableCell%22%3E%3C%2Fdiv%3E%3C%2Fdiv%3E%3C%2Fdiv%3E%3C%2Fdiv%3E%3Cdiv%20class%3D%22aui-invisible-scrollbars%20css-1wkv7c2%22%3E%3Cdiv%20class%3D%22css-k28svq%22%3E%3Cdiv%20style%3D%22display%3A%20flex%3B%20align-items%3A%20center%3B%20height%3A%2028px%3B%20left%3A%200px%3B%20top%3A%200px%3B%20width%3A%20120px%3B%20text-align%3A%20left%3B%20font-size%3A%2012px%3B%20padding%3A%204px%204px%203px%3B%20overflow%3A%20hidden%3B%20position%3A%20absolute%3B%20white-space%3A%20nowrap%3B%20text-overflow%3A%20ellipsis%3B%20background-color%3A%20transparent%3B%20border-right%3A%202px%20solid%20rgb(233%2C%20233%2C%20233)%3B%22%3E%3Cspan%20style%3D%22text-overflow%3A%20ellipsis%3B%20overflow%3A%20hidden%3B%20white-space%3A%20nowrap%3B%20max-width%3A%20calc((100%25%20-%200px)%20-%200px)%3B%22%3ETotal%3C%2Fspan%3E%3C%2Fdiv%3E%3Cdiv%20style%3D%22display%3A%20flex%3B%20align-items%3A%20center%3B%20height%3A%2028px%3B%20left%3A%200px%3B%20top%3A%2028px%3B%20width%3A%20120px%3B%20text-align%3A%20left%3B%20font-size%3A%2012px%3B%20padding%3A%204px%204px%203px%3B%20overflow%3A%20hidden%3B%20position%3A%20absolute%3B%20white-space%3A%20nowrap%3B%20text-overflow%3A%20ellipsis%3B%20background-color%3A%20rgb(250%2C%20250%2C%20250)%3B%20border-right%3A%202px%20solid%20rgb(233%2C%20233%2C%20233)%3B%22%3E%3Cspan%20style%3D%22text-overflow%3A%20ellipsis%3B%20overflow%3A%20hidden%3B%20white-space%3A%20nowrap%3B%20max-width%3A%20calc((100%25%20-%200px)%20-%200px)%3B%22%3E186%3C%2Fspan%3E%3C%2Fdiv%3E%3Cdiv%20style%3D%22display%3A%20flex%3B%20align-items%3A%20center%3B%20height%3A%2028px%3B%20left%3A%200px%3B%20top%3A%2056px%3B%20width%3A%20120px%3B%20text-align%3A%20left%3B%20font-size%3A%2012px%3B%20padding%3A%204px%204px%203px%3B%20overflow%3A%20hidden%3B%20position%3A%20absolute%3B%20white-space%3A%20nowrap%3B%20text-overflow%3A%20ellipsis%3B%20background-color%3A%20transparent%3B%20border-right%3A%202px%20solid%20rgb(233%2C%20233%2C%20233)%3B%22%3E%3Cspan%20style%3D%22text-overflow%3A%20ellipsis%3B%20overflow%3A%20hidden%3B%20white-space%3A%20nowrap%3B%20max-width%3A%20calc((100%25%20-%200px)%20-%200px)%3B%22%3E96%3C%2Fspan%3E%3C%2Fdiv%3E%3Cdiv%20style%3D%22display%3A%20flex%3B%20align-items%3A%20center%3B%20height%3A%2028px%3B%20left%3A%200px%3B%20top%3A%2084px%3B%20width%3A%20120px%3B%20text-align%3A%20left%3B%20font-size%3A%2012px%3B%20padding%3A%204px%204px%203px%3B%20overflow%3A%20hidden%3B%20position%3A%20absolute%3B%20white-space%3A%20nowrap%3B%20text-overflow%3A%20ellipsis%3B%20background-color%3A%20rgb(250%2C%20250%2C%20250)%3B%20border-right%3A%202px%20solid%20rgb(233%2C%20233%2C%20233)%3B%22%3E%3Cspan%20style%3D%22text-overflow%3A%20ellipsis%3B%20overflow%3A%20hidden%3B%20white-space%3A%20nowrap%3B%20max-width%3A%20calc((100%25%20-%200px)%20-%200px)%3B%22%3E112%3C%2Fspan%3E%3C%2Fdiv%3E%3Cdiv%20style%3D%22display%3A%20flex%3B%20align-items%3A%20center%3B%20height%3A%2028px%3B%20left%3A%200px%3B%20top%3A%20112px%3B%20width%3A%20120px%3B%20text-align%3A%20left%3B%20font-size%3A%2012px%3B%20padding%3A%204px%204px%203px%3B%20overflow%3A%20hidden%3B%20position%3A%20absolute%3B%20white-space%3A%20nowrap%3B%20text-overflow%3A%20ellipsis%3B%20background-color%3A%20transparent%3B%20border-right%3A%202px%20solid%20rgb(233%2C%20233%2C%20233)%3B%22%3E%3Cspan%20style%3D%22text-overflow%3A%20ellipsis%3B%20overflow%3A%20hidden%3B%20white-space%3A%20nowrap%3B%20max-width%3A%20calc((100%25%20-%200px)%20-%200px)%3B%22%3E22%3C%2Fspan%3E%3C%2Fdiv%3E%3Cdiv%20style%3D%22display%3A%20flex%3B%20align-items%3A%20center%3B%20height%3A%2028px%3B%20left%3A%200px%3B%20top%3A%20140px%3B%20width%3A%20120px%3B%20text-align%3A%20left%3B%20font-size%3A%2012px%3B%20padding%3A%204px%204px%203px%3B%20overflow%3A%20hidden%3B%20position%3A%20absolute%3B%20white-space%3A%20nowrap%3B%20text-overflow%3A%20ellipsis%3B%20background-color%3A%20rgb(250%2C%20250%2C%20250)%3B%20border-right%3A%202px%20solid%20rgb(233%2C%20233%2C%20233)%3B%22%3E%3Cspan%20style%3D%22text-overflow%3A%20ellipsis%3B%20overflow%3A%20hidden%3B%20white-space%3A%20nowrap%3B%20max-width%3A%20calc((100%25%20-%200px)%20-%200px)%3B%22%3E329%3C%2Fspan%3E%3C%2Fdiv%3E%3C%2Fdiv%3E%3C%2Fdiv%3E%3C%2Fdiv%3E%3Cdiv%20class%3D%22css-sazb3v-Table%22%3E%3Cdiv%20class%3D%22aui-invisible-scrollbars%20css-1qlsq0z%22%3E%3Cdiv%20class%3D%22css-1toshix%22%3E%3Cdiv%20class%3D%22css-1hol363-ResizableCell%22%3E%3Cdiv%20style%3D%22display%3A%20flex%3B%20align-items%3A%20center%3B%20height%3A%2028px%3B%20left%3A%200px%3B%20top%3A%200px%3B%20width%3A%20115px%3B%20text-align%3A%20left%3B%20font-size%3A%2012px%3B%20padding%3A%204px%204px%203px%3B%20overflow%3A%20hidden%3B%20position%3A%20absolute%3B%20white-space%3A%20nowrap%3B%20text-overflow%3A%20ellipsis%3B%20font-weight%3A%20600%3B%22%3E%3Cspan%20style%3D%22text-overflow%3A%20ellipsis%3B%20overflow%3A%20hidden%3B%20white-space%3A%20nowrap%3B%20max-width%3A%20calc((100%25%20-%200px)%20-%2018px)%3B%22%3Econtributors.COUNT%3C%2Fspan%3E%3Csvg%20xmlns%3D%22http%3A%2F%2Fwww.w3.org%2F2000%2Fsvg%22%20viewBox%3D%2264%2064%20896%20896%22%20width%3D%221em%22%20height%3D%221em%22%20fill%3D%22currentColor%22%20style%3D%22cursor%3A%20pointer%3B%20height%3A%20100%25%3B%20margin-left%3A%20auto%3B%22%3E%3Cpath%20d%3D%22M180%20325h76v530a8%208%200%20008%208h56a8%208%200%20008-8V325h76a8%208%200%20006.3-13l-112-141.9a8%208%200%2000-11.2-1.4l-1.4%201.4-112%20141.9a8.1%208.1%200%20006.3%2013zm461.6-109.2v232.3h61.9V127.6h-51.6l-89.7%2091.5%2038.4%2039.6%2041-42.9zm2.4%20615.8c29.6-23.4%2060.2-49.5%2082.5-75.5%2027-31.5%2040.2-61%2040.2-90.2s-12.1-55.8-35.1-73.7c-20.2-15.7-47.6-24.4-77.2-24.4-45.8%200-88.1%2018.9-113.3%2050.5l-4.2%205.3%2037.2%2041%205.9-7c12.9-15.5%2036.4-33.9%2074.9-33.9%2023.2%200%2050.2%2011%2050.2%2042.1%200%2043.5-51.3%2087.7-160.3%20171.5l-3.1%202.4V887H768v-55.4z%22%2F%3E%3C%2Fsvg%3E%3C%2Fdiv%3E%3Cdiv%20class%3D%22css-xxcrt1-ResizableCell%22%3E%3C%2Fdiv%3E%3C%2Fdiv%3E%3C%2Fdiv%3E%3C%2Fdiv%3E%3Cdiv%20class%3D%22%20css-1ethhfv%22%3E%3Cdiv%20class%3D%22css-15wrixa%22%3E%3Cdiv%20class%3D%22aui-table-cell%22%20style%3D%22height%3A%2028px%3B%20left%3A%200px%3B%20top%3A%200px%3B%20width%3A%20120px%3B%20text-align%3A%20right%3B%20font-size%3A%2012px%3B%20padding%3A%204px%204px%203px%3B%20overflow%3A%20hidden%3B%20position%3A%20absolute%3B%20white-space%3A%20nowrap%3B%20text-overflow%3A%20ellipsis%3B%20background-color%3A%20transparent%3B%20border-right%3A%201px%20solid%20rgb(233%2C%20233%2C%20233)%3B%22%3E667%3C%2Fdiv%3E%3Cdiv%20class%3D%22aui-table-cell%22%20style%3D%22height%3A%2028px%3B%20left%3A%200px%3B%20top%3A%2028px%3B%20width%3A%20120px%3B%20text-align%3A%20right%3B%20font-size%3A%2012px%3B%20padding%3A%204px%204px%203px%3B%20overflow%3A%20hidden%3B%20position%3A%20absolute%3B%20white-space%3A%20nowrap%3B%20text-overflow%3A%20ellipsis%3B%20background-color%3A%20rgb(250%2C%20250%2C%20250)%3B%20border-right%3A%201px%20solid%20rgb(233%2C%20233%2C%20233)%3B%22%3E153%3C%2Fdiv%3E%3Cdiv%20class%3D%22aui-table-cell%22%20style%3D%22height%3A%2028px%3B%20left%3A%200px%3B%20top%3A%2056px%3B%20width%3A%20120px%3B%20text-align%3A%20right%3B%20font-size%3A%2012px%3B%20padding%3A%204px%204px%203px%3B%20overflow%3A%20hidden%3B%20position%3A%20absolute%3B%20white-space%3A%20nowrap%3B%20text-overflow%3A%20ellipsis%3B%20background-color%3A%20transparent%3B%20border-right%3A%201px%20solid%20rgb(233%2C%20233%2C%20233)%3B%22%3E136%3C%2Fdiv%3E%3Cdiv%20class%3D%22aui-table-cell%22%20style%3D%22height%3A%2028px%3B%20left%3A%200px%3B%20top%3A%2084px%3B%20width%3A%20120px%3B%20text-align%3A%20right%3B%20font-size%3A%2012px%3B%20padding%3A%204px%204px%203px%3B%20overflow%3A%20hidden%3B%20position%3A%20absolute%3B%20white-space%3A%20nowrap%3B%20text-overflow%3A%20ellipsis%3B%20background-color%3A%20rgb(250%2C%20250%2C%20250)%3B%20border-right%3A%201px%20solid%20rgb(233%2C%20233%2C%20233)%3B%22%3E132%3C%2Fdiv%3E%3Cdiv%20class%3D%22aui-table-cell%22%20style%3D%22height%3A%2028px%3B%20left%3A%200px%3B%20top%3A%20112px%3B%20width%3A%20120px%3B%20text-align%3A%20right%3B%20font-size%3A%2012px%3B%20padding%3A%204px%204px%203px%3B%20overflow%3A%20hidden%3B%20position%3A%20absolute%3B%20white-space%3A%20nowrap%3B%20text-overflow%3A%20ellipsis%3B%20background-color%3A%20transparent%3B%20border-right%3A%201px%20solid%20rgb(233%2C%20233%2C%20233)%3B%22%3E129%3C%2Fdiv%3E%3Cdiv%20class%3D%22aui-table-cell%22%20style%3D%22height%3A%2028px%3B%20left%3A%200px%3B%20top%3A%20140px%3B%20width%3A%20120px%3B%20text-align%3A%20right%3B%20font-size%3A%2012px%3B%20padding%3A%204px%204px%203px%3B%20overflow%3A%20hidden%3B%20position%3A%20absolute%3B%20white-space%3A%20nowrap%3B%20text-overflow%3A%20ellipsis%3B%20background-color%3A%20rgb(250%2C%20250%2C%20250)%3B%20border-right%3A%201px%20solid%20rgb(233%2C%20233%2C%20233)%3B%22%3E117%3C%2Fdiv%3E%3C%2Fdiv%3E%3C%2Fdiv%3E%3C%2Fdiv%3E%3C%2Fdiv%3E%3C%2Fdiv%3E%3Cdiv%20class%3D%22css-1uww2vi-Table%22%3E%3C%2Fdiv%3E%3C%2Fdiv%3E%3C%2Fdiv%3E%3C%2Fdiv%3E%3C%2Fdiv%3E%3C%2Fdiv%3E%3C%2FforeignObject%3E%3C%2Fsvg%3E\">"
      ],
      "text/plain": [
       "Open the notebook in JupyterLab with the atoti extension enabled to build this widget."
      ]
     },
     "metadata": {},
     "output_type": "display_data"
    }
   ],
   "source": [
    "session.visualize(\"Top 5 topics\")"
   ]
  },
  {
   "cell_type": "markdown",
   "metadata": {},
   "source": [
    "#### Top 5 topics - Labels and illustrations\n",
    "First, we will give a label to each of the considered top topics, and we also provide a sample of the tweets that illustrate them the best."
   ]
  },
  {
   "cell_type": "code",
   "execution_count": 19,
   "metadata": {},
   "outputs": [
    {
     "data": {
      "text/html": [
       "<div>\n",
       "<style scoped>\n",
       "    .dataframe tbody tr th:only-of-type {\n",
       "        vertical-align: middle;\n",
       "    }\n",
       "\n",
       "    .dataframe tbody tr th {\n",
       "        vertical-align: top;\n",
       "    }\n",
       "\n",
       "    .dataframe thead th {\n",
       "        text-align: right;\n",
       "    }\n",
       "</style>\n",
       "<table border=\"1\" class=\"dataframe\">\n",
       "  <thead>\n",
       "    <tr style=\"text-align: right;\">\n",
       "      <th></th>\n",
       "      <th>topic</th>\n",
       "      <th>topic_count</th>\n",
       "      <th>topic_keyword_1</th>\n",
       "      <th>topic_keyword_2</th>\n",
       "      <th>topic_keyword_3</th>\n",
       "      <th>topic_keyword_4</th>\n",
       "      <th>topic_keyword_5</th>\n",
       "      <th>topic_keyword_6</th>\n",
       "      <th>topic_keyword_7</th>\n",
       "      <th>topic_keyword_8</th>\n",
       "      <th>...</th>\n",
       "      <th>topic_keyword_11</th>\n",
       "      <th>topic_keyword_12</th>\n",
       "      <th>topic_keyword_13</th>\n",
       "      <th>topic_keyword_14</th>\n",
       "      <th>topic_keyword_15</th>\n",
       "      <th>topic_keyword_16</th>\n",
       "      <th>topic_keyword_17</th>\n",
       "      <th>topic_keyword_18</th>\n",
       "      <th>topic_keyword_19</th>\n",
       "      <th>topic_keyword_20</th>\n",
       "    </tr>\n",
       "  </thead>\n",
       "  <tbody>\n",
       "    <tr>\n",
       "      <th>0</th>\n",
       "      <td>186</td>\n",
       "      <td>153</td>\n",
       "      <td>('2021', 0.11518344111464827)</td>\n",
       "      <td>('trends', 0.06973633657430857)</td>\n",
       "      <td>('trends 2021', 0.04791319519051584)</td>\n",
       "      <td>('2021 ai', 0.041789472437149734)</td>\n",
       "      <td>('companies', 0.03782389258944172)</td>\n",
       "      <td>('watch 2021', 0.03740412879855314)</td>\n",
       "      <td>('watch', 0.03687575794795414)</td>\n",
       "      <td>('iot', 0.031124820300891674)</td>\n",
       "      <td>...</td>\n",
       "      <td>('ai', 0.02533194981053806)</td>\n",
       "      <td>('leading tech', 0.024722970994140298)</td>\n",
       "      <td>('choose great', 0.024722970994140298)</td>\n",
       "      <td>('great wine', 0.024722970994140298)</td>\n",
       "      <td>('tech trends', 0.024722970994140298)</td>\n",
       "      <td>('intelligence movies', 0.024588839428707168)</td>\n",
       "      <td>('wine', 0.024252606974425835)</td>\n",
       "      <td>('leading', 0.024165918247990883)</td>\n",
       "      <td>('usa', 0.02414878068708062)</td>\n",
       "      <td>('movies', 0.024140236513879545)</td>\n",
       "    </tr>\n",
       "    <tr>\n",
       "      <th>1</th>\n",
       "      <td>96</td>\n",
       "      <td>136</td>\n",
       "      <td>('security', 0.13334875147029324)</td>\n",
       "      <td>('cybersecurity', 0.06613946852875736)</td>\n",
       "      <td>('server', 0.04812775359226998)</td>\n",
       "      <td>('vulnerabilities', 0.04753864385244478)</td>\n",
       "      <td>('protect', 0.04664468941473375)</td>\n",
       "      <td>('security vulnerabilities', 0.03804328196636811)</td>\n",
       "      <td>('machinelearning security', 0.03804328196636811)</td>\n",
       "      <td>('report highlights', 0.03804328196636811)</td>\n",
       "      <td>...</td>\n",
       "      <td>('growing threat', 0.03804328196636811)</td>\n",
       "      <td>('web report', 0.03804328196636811)</td>\n",
       "      <td>('hackers', 0.03700637689061967)</td>\n",
       "      <td>('threat', 0.0366620556522023)</td>\n",
       "      <td>('highlights', 0.03660856377351593)</td>\n",
       "      <td>('cyber', 0.036009969037109894)</td>\n",
       "      <td>('web', 0.035272071778176234)</td>\n",
       "      <td>('report', 0.03361564675896366)</td>\n",
       "      <td>('growing', 0.03335609543508208)</td>\n",
       "      <td>('online', 0.03320985993021597)</td>\n",
       "    </tr>\n",
       "    <tr>\n",
       "      <th>2</th>\n",
       "      <td>112</td>\n",
       "      <td>132</td>\n",
       "      <td>('healthcare', 0.08062913143207898)</td>\n",
       "      <td>('ai', 0.05952155861485934)</td>\n",
       "      <td>('future', 0.058975517545946286)</td>\n",
       "      <td>('future ai', 0.049136348227743466)</td>\n",
       "      <td>('cancer', 0.04197501211933508)</td>\n",
       "      <td>('artificial intelligence', 0.037859947522765086)</td>\n",
       "      <td>('intelligence', 0.03716322363479036)</td>\n",
       "      <td>('artificial', 0.037041730134947215)</td>\n",
       "      <td>...</td>\n",
       "      <td>('doctor', 0.03409881855831573)</td>\n",
       "      <td>('disease', 0.0335395197066635)</td>\n",
       "      <td>('healthtech', 0.0332097995751255)</td>\n",
       "      <td>('drugs combat', 0.024660267842207345)</td>\n",
       "      <td>('bone', 0.024660267842207345)</td>\n",
       "      <td>('current drugs', 0.024660267842207345)</td>\n",
       "      <td>('paulapicc', 0.024660267842207345)</td>\n",
       "      <td>('intelligence improve', 0.024660267842207345)</td>\n",
       "      <td>('teach big', 0.024660267842207345)</td>\n",
       "      <td>('healthcare enzc', 0.024660267842207345)</td>\n",
       "    </tr>\n",
       "    <tr>\n",
       "      <th>3</th>\n",
       "      <td>22</td>\n",
       "      <td>129</td>\n",
       "      <td>('spacex', 0.08589130794119605)</td>\n",
       "      <td>('space', 0.08050827064759014)</td>\n",
       "      <td>('earth', 0.0730039525475797)</td>\n",
       "      <td>('moon', 0.061162312916090415)</td>\n",
       "      <td>('mission', 0.06107994265280764)</td>\n",
       "      <td>('view earth', 0.04893123080850168)</td>\n",
       "      <td>('captured', 0.04893123080850168)</td>\n",
       "      <td>('view', 0.045779234310052146)</td>\n",
       "      <td>...</td>\n",
       "      <td>('starlink', 0.034937815331619035)</td>\n",
       "      <td>('captured capsule', 0.034937815331619035)</td>\n",
       "      <td>('iss', 0.034937815331619035)</td>\n",
       "      <td>('space station', 0.034937815331619035)</td>\n",
       "      <td>('earth iss', 0.034937815331619035)</td>\n",
       "      <td>('clearest picture', 0.034937815331619035)</td>\n",
       "      <td>('clearest', 0.034937815331619035)</td>\n",
       "      <td>('space shuttle', 0.034937815331619035)</td>\n",
       "      <td>('station captured', 0.034937815331619035)</td>\n",
       "      <td>('international space', 0.034937815331619035)</td>\n",
       "    </tr>\n",
       "    <tr>\n",
       "      <th>4</th>\n",
       "      <td>329</td>\n",
       "      <td>117</td>\n",
       "      <td>('ama', 0.06914391674971687)</td>\n",
       "      <td>('05', 0.06495635291986186)</td>\n",
       "      <td>('average', 0.06380059646402073)</td>\n",
       "      <td>('called', 0.06354995794021061)</td>\n",
       "      <td>('rstats', 0.05819670264538107)</td>\n",
       "      <td>('today', 0.04850149381542877)</td>\n",
       "      <td>('great', 0.04480246824313703)</td>\n",
       "      <td>('continue south', 0.03879269368962269)</td>\n",
       "      <td>...</td>\n",
       "      <td>('mlb adley', 0.03879269368962269)</td>\n",
       "      <td>('validation playing', 0.03879269368962269)</td>\n",
       "      <td>('ama reddit', 0.03879269368962269)</td>\n",
       "      <td>('session animated', 0.03879269368962269)</td>\n",
       "      <td>('ama today', 0.03879269368962269)</td>\n",
       "      <td>('called monte', 0.03879269368962269)</td>\n",
       "      <td>('called trolling', 0.03879269368962269)</td>\n",
       "      <td>('chose rstats', 0.03879269368962269)</td>\n",
       "      <td>('kombucha taproom', 0.03879269368962269)</td>\n",
       "      <td>('sections', 0.03879269368962269)</td>\n",
       "    </tr>\n",
       "  </tbody>\n",
       "</table>\n",
       "<p>5 rows × 22 columns</p>\n",
       "</div>"
      ],
      "text/plain": [
       "   topic  topic_count                      topic_keyword_1  \\\n",
       "0    186          153        ('2021', 0.11518344111464827)   \n",
       "1     96          136    ('security', 0.13334875147029324)   \n",
       "2    112          132  ('healthcare', 0.08062913143207898)   \n",
       "3     22          129      ('spacex', 0.08589130794119605)   \n",
       "4    329          117         ('ama', 0.06914391674971687)   \n",
       "\n",
       "                          topic_keyword_2  \\\n",
       "0         ('trends', 0.06973633657430857)   \n",
       "1  ('cybersecurity', 0.06613946852875736)   \n",
       "2             ('ai', 0.05952155861485934)   \n",
       "3          ('space', 0.08050827064759014)   \n",
       "4             ('05', 0.06495635291986186)   \n",
       "\n",
       "                        topic_keyword_3  \\\n",
       "0  ('trends 2021', 0.04791319519051584)   \n",
       "1       ('server', 0.04812775359226998)   \n",
       "2      ('future', 0.058975517545946286)   \n",
       "3         ('earth', 0.0730039525475797)   \n",
       "4      ('average', 0.06380059646402073)   \n",
       "\n",
       "                            topic_keyword_4  \\\n",
       "0         ('2021 ai', 0.041789472437149734)   \n",
       "1  ('vulnerabilities', 0.04753864385244478)   \n",
       "2       ('future ai', 0.049136348227743466)   \n",
       "3            ('moon', 0.061162312916090415)   \n",
       "4           ('called', 0.06354995794021061)   \n",
       "\n",
       "                      topic_keyword_5  \\\n",
       "0  ('companies', 0.03782389258944172)   \n",
       "1    ('protect', 0.04664468941473375)   \n",
       "2     ('cancer', 0.04197501211933508)   \n",
       "3    ('mission', 0.06107994265280764)   \n",
       "4     ('rstats', 0.05819670264538107)   \n",
       "\n",
       "                                     topic_keyword_6  \\\n",
       "0                ('watch 2021', 0.03740412879855314)   \n",
       "1  ('security vulnerabilities', 0.03804328196636811)   \n",
       "2  ('artificial intelligence', 0.037859947522765086)   \n",
       "3                ('view earth', 0.04893123080850168)   \n",
       "4                     ('today', 0.04850149381542877)   \n",
       "\n",
       "                                     topic_keyword_7  \\\n",
       "0                     ('watch', 0.03687575794795414)   \n",
       "1  ('machinelearning security', 0.03804328196636811)   \n",
       "2              ('intelligence', 0.03716322363479036)   \n",
       "3                  ('captured', 0.04893123080850168)   \n",
       "4                     ('great', 0.04480246824313703)   \n",
       "\n",
       "                              topic_keyword_8  ...  \\\n",
       "0               ('iot', 0.031124820300891674)  ...   \n",
       "1  ('report highlights', 0.03804328196636811)  ...   \n",
       "2        ('artificial', 0.037041730134947215)  ...   \n",
       "3              ('view', 0.045779234310052146)  ...   \n",
       "4     ('continue south', 0.03879269368962269)  ...   \n",
       "\n",
       "                          topic_keyword_11  \\\n",
       "0              ('ai', 0.02533194981053806)   \n",
       "1  ('growing threat', 0.03804328196636811)   \n",
       "2          ('doctor', 0.03409881855831573)   \n",
       "3       ('starlink', 0.034937815331619035)   \n",
       "4       ('mlb adley', 0.03879269368962269)   \n",
       "\n",
       "                              topic_keyword_12  \\\n",
       "0       ('leading tech', 0.024722970994140298)   \n",
       "1          ('web report', 0.03804328196636811)   \n",
       "2              ('disease', 0.0335395197066635)   \n",
       "3   ('captured capsule', 0.034937815331619035)   \n",
       "4  ('validation playing', 0.03879269368962269)   \n",
       "\n",
       "                         topic_keyword_13  \\\n",
       "0  ('choose great', 0.024722970994140298)   \n",
       "1        ('hackers', 0.03700637689061967)   \n",
       "2      ('healthtech', 0.0332097995751255)   \n",
       "3           ('iss', 0.034937815331619035)   \n",
       "4     ('ama reddit', 0.03879269368962269)   \n",
       "\n",
       "                            topic_keyword_14  \\\n",
       "0       ('great wine', 0.024722970994140298)   \n",
       "1             ('threat', 0.0366620556522023)   \n",
       "2     ('drugs combat', 0.024660267842207345)   \n",
       "3    ('space station', 0.034937815331619035)   \n",
       "4  ('session animated', 0.03879269368962269)   \n",
       "\n",
       "                        topic_keyword_15  \\\n",
       "0  ('tech trends', 0.024722970994140298)   \n",
       "1    ('highlights', 0.03660856377351593)   \n",
       "2         ('bone', 0.024660267842207345)   \n",
       "3    ('earth iss', 0.034937815331619035)   \n",
       "4     ('ama today', 0.03879269368962269)   \n",
       "\n",
       "                                topic_keyword_16  \\\n",
       "0  ('intelligence movies', 0.024588839428707168)   \n",
       "1                ('cyber', 0.036009969037109894)   \n",
       "2        ('current drugs', 0.024660267842207345)   \n",
       "3     ('clearest picture', 0.034937815331619035)   \n",
       "4          ('called monte', 0.03879269368962269)   \n",
       "\n",
       "                           topic_keyword_17  \\\n",
       "0            ('wine', 0.024252606974425835)   \n",
       "1             ('web', 0.035272071778176234)   \n",
       "2       ('paulapicc', 0.024660267842207345)   \n",
       "3        ('clearest', 0.034937815331619035)   \n",
       "4  ('called trolling', 0.03879269368962269)   \n",
       "\n",
       "                                 topic_keyword_18  \\\n",
       "0               ('leading', 0.024165918247990883)   \n",
       "1                 ('report', 0.03361564675896366)   \n",
       "2  ('intelligence improve', 0.024660267842207345)   \n",
       "3         ('space shuttle', 0.034937815331619035)   \n",
       "4           ('chose rstats', 0.03879269368962269)   \n",
       "\n",
       "                             topic_keyword_19  \\\n",
       "0                ('usa', 0.02414878068708062)   \n",
       "1            ('growing', 0.03335609543508208)   \n",
       "2         ('teach big', 0.024660267842207345)   \n",
       "3  ('station captured', 0.034937815331619035)   \n",
       "4   ('kombucha taproom', 0.03879269368962269)   \n",
       "\n",
       "                                topic_keyword_20  \n",
       "0               ('movies', 0.024140236513879545)  \n",
       "1                ('online', 0.03320985993021597)  \n",
       "2      ('healthcare enzc', 0.024660267842207345)  \n",
       "3  ('international space', 0.034937815331619035)  \n",
       "4              ('sections', 0.03879269368962269)  \n",
       "\n",
       "[5 rows x 22 columns]"
      ]
     },
     "execution_count": 19,
     "metadata": {},
     "output_type": "execute_result"
    }
   ],
   "source": [
    "topics_df.head()"
   ]
  },
  {
   "cell_type": "markdown",
   "metadata": {},
   "source": [
    "We provide the list of the top 10 keywords that define this topic, along side with their associated importance (the higher, the more important)."
   ]
  },
  {
   "cell_type": "code",
   "execution_count": 20,
   "metadata": {},
   "outputs": [],
   "source": [
    "cols = [c for c in topics_cols if \"keyword\" in c]"
   ]
  },
  {
   "cell_type": "markdown",
   "metadata": {},
   "source": [
    "#### Topic 186: Trends for 2021"
   ]
  },
  {
   "cell_type": "code",
   "execution_count": 21,
   "metadata": {},
   "outputs": [
    {
     "name": "stdout",
     "output_type": "stream",
     "text": [
      "Topic 186 keywords:\n",
      "\n",
      "('2021', 0.11518344111464827)\n",
      "('trends', 0.06973633657430857)\n",
      "('trends 2021', 0.04791319519051584)\n",
      "('2021 ai', 0.041789472437149734)\n",
      "('companies', 0.03782389258944172)\n",
      "('watch 2021', 0.03740412879855314)\n",
      "('watch', 0.03687575794795414)\n",
      "('iot', 0.031124820300891674)\n",
      "('10', 0.029940307679780117)\n",
      "('fintech', 0.027130500269414805)\n"
     ]
    }
   ],
   "source": [
    "topic = 186\n",
    "topic_keywords = topics_df[topics_df[\"topic\"] == topic][cols].values.flatten().tolist()\n",
    "\n",
    "print(f\"Topic {topic} keywords:\\n\")\n",
    "for kw in topic_keywords[:10]:\n",
    "    print(kw)"
   ]
  },
  {
   "cell_type": "markdown",
   "metadata": {},
   "source": [
    "Then, we provide a sample of tweets that best illustrate this topic"
   ]
  },
  {
   "cell_type": "code",
   "execution_count": 22,
   "metadata": {},
   "outputs": [
    {
     "name": "stdout",
     "output_type": "stream",
     "text": [
      "Top 186 representatives tweets:\n",
      "\n",
      "1:RT @dpachov: 2019: 2 out of 5 representing USA in International Physics Olympiad from CA.\n",
      "\n",
      "7 out of final 20 in the USA from CA.\n",
      "\n",
      "Looks lik…\n",
      "\n",
      "2:RT @SethBergeson:📣STARTING NOW! #SmartToyAwards 2021 https://t.co/HJ7So5IN0m @ProfKlausSchwab speaking now, then @iamwill, @unicefchief, and other judges announcing winners! Join us and learn about the future of #childhood &amp; #play. Thanks @iamangelfdn @unicef @Touchcast @wef @PwC #ResponsibleAI\n",
      "\n",
      "3:Top story: IoT Premier League 2021 Season Week 17 https://t.co/EDrEgMOC9g The IoT Portal Platform https://t.co/iLxuIlW9LB, see more https://t.co/16gz3lCgEh\n",
      "\n"
     ]
    }
   ],
   "source": [
    "exemplars = exemplars_df[exemplars_df[\"topic\"] == topic][\"text\"].to_list()\n",
    "sample = rd.sample(exemplars, 3)\n",
    "\n",
    "print(f\"Top {topic} representatives tweets:\\n\")\n",
    "\n",
    "for idx, s in enumerate(sample):\n",
    "    print(\"{}:{}\\n\".format(idx + 1, s))"
   ]
  },
  {
   "cell_type": "markdown",
   "metadata": {},
   "source": [
    "#### Topic 96: Cybersecurity"
   ]
  },
  {
   "cell_type": "markdown",
   "metadata": {},
   "source": [
    "We provide the list of keywords that define this topic, along side with their associated importance (the higher, the more important)."
   ]
  },
  {
   "cell_type": "code",
   "execution_count": 23,
   "metadata": {},
   "outputs": [
    {
     "name": "stdout",
     "output_type": "stream",
     "text": [
      "Topic 96 keywords:\n",
      "\n",
      "('security', 0.13334875147029324)\n",
      "('cybersecurity', 0.06613946852875736)\n",
      "('server', 0.04812775359226998)\n",
      "('vulnerabilities', 0.04753864385244478)\n",
      "('protect', 0.04664468941473375)\n",
      "('security vulnerabilities', 0.03804328196636811)\n",
      "('machinelearning security', 0.03804328196636811)\n",
      "('report highlights', 0.03804328196636811)\n",
      "('vulnerabilities growing', 0.03804328196636811)\n",
      "('threat web', 0.03804328196636811)\n"
     ]
    }
   ],
   "source": [
    "topic = 96\n",
    "topic_keywords = topics_df[topics_df[\"topic\"] == topic][cols].values.flatten().tolist()\n",
    "\n",
    "print(f\"Topic {topic} keywords:\\n\")\n",
    "for kw in topic_keywords[:10]:\n",
    "    print(kw)"
   ]
  },
  {
   "cell_type": "markdown",
   "metadata": {},
   "source": [
    "Then, we provide a sample of tweets that best illustrate this topic"
   ]
  },
  {
   "cell_type": "code",
   "execution_count": 24,
   "metadata": {},
   "outputs": [
    {
     "name": "stdout",
     "output_type": "stream",
     "text": [
      "Top 96 representatives tweets:\n",
      "\n",
      "1:This #security system uses a #drone to protect your home!\n",
      "by @gigadgets_\n",
      "\n",
      "#AI #IoT #Automation #Digital #Robotics #DigitalTransformation #SmartHome #Technology #Innovation\n",
      "\n",
      "Cc: @tamaramccleary @rwang0 @thinkers360 https://t.co/iwk7zLoUth\n",
      "\n",
      "2:Dedicated Server Security Tips You Must Know to Protect Your Server\n",
      "\n",
      "https://t.co/9QgmmDtbQ1 via @vijaykhatri96 via @DZoneInc\n",
      "\n",
      "#CyberSecurity\n",
      "Cc @MarshaCollier @Fisher85M @jblefevre60 @Shirastweet @TriciaKicksSaaS @roxanasoi @archonsec @DrJDrooghaag @DeepLearn007 https://t.co/ddEN8Fx5dE\n",
      "\n",
      "3:4 steps to reducing ransomware damage https://t.co/tLR1Wrw3j9 \n",
      "\n",
      "@Siemens @antgrasso @MikeQuindazzi @TheDXEngineer @dInnovaTrain @sectest9 @CIOConnection \n",
      "#CyberSecurity #Innovation #Blockchain #MachineLearning #DeepLearning #Analytics #BigData #Fintech #Insurance #IoT #ai https://t.co/GcSGWThRmJ\n",
      "\n"
     ]
    }
   ],
   "source": [
    "exemplars = exemplars_df[exemplars_df[\"topic\"] == topic][\"text\"].to_list()\n",
    "sample = rd.sample(exemplars, 3)\n",
    "\n",
    "print(f\"Top {topic} representatives tweets:\\n\")\n",
    "\n",
    "for idx, s in enumerate(sample):\n",
    "    print(\"{}:{}\\n\".format(idx + 1, s))"
   ]
  },
  {
   "cell_type": "markdown",
   "metadata": {},
   "source": [
    "#### Topic 112: AI & Healthcare"
   ]
  },
  {
   "cell_type": "markdown",
   "metadata": {},
   "source": [
    "We provide the list of keywords that define this topic, along side with their associated importance (the higher, the more important)."
   ]
  },
  {
   "cell_type": "code",
   "execution_count": 25,
   "metadata": {},
   "outputs": [
    {
     "name": "stdout",
     "output_type": "stream",
     "text": [
      "Topic 112 keywords:\n",
      "\n",
      "('healthcare', 0.08062913143207898)\n",
      "('ai', 0.05952155861485934)\n",
      "('future', 0.058975517545946286)\n",
      "('future ai', 0.049136348227743466)\n",
      "('cancer', 0.04197501211933508)\n",
      "('artificial intelligence', 0.037859947522765086)\n",
      "('intelligence', 0.03716322363479036)\n",
      "('artificial', 0.037041730134947215)\n",
      "('ai healthcare', 0.034528025288226544)\n",
      "('diagnosis', 0.034512708842210735)\n"
     ]
    }
   ],
   "source": [
    "topic = 112\n",
    "topic_keywords = topics_df[topics_df[\"topic\"] == topic][cols].values.flatten().tolist()\n",
    "\n",
    "print(f\"Topic {topic} keywords:\\n\")\n",
    "for kw in topic_keywords[:10]:\n",
    "    print(kw)"
   ]
  },
  {
   "cell_type": "markdown",
   "metadata": {},
   "source": [
    "Then, we provide a sample of tweets that best illustrate this topic"
   ]
  },
  {
   "cell_type": "code",
   "execution_count": 26,
   "metadata": {},
   "outputs": [
    {
     "name": "stdout",
     "output_type": "stream",
     "text": [
      "Top 112 representatives tweets:\n",
      "\n",
      "1:Promoting the Responsible Use of #AI in #HealthCare\n",
      "\n",
      "#insurtech #fintech #opendata #datascience #bigdata @terence_mills @Fabriziobustama @missdkingsbury @ipfconline1 @mvollmer1 @MiriamAsensi @floriansemle @SpirosMargaris @jblefevre60 @guzmand @psb_dc \n",
      "\n",
      "https://t.co/Dkx1X56SVg https://t.co/RWDoUNScba\n",
      "\n",
      "2:RT @Nicochan33: How AI may hold the key to faster rare disease diagnosis #eHealth #health #ui #ArtificialIntelligence #AI @AffinityInitia1…\n",
      "\n",
      "3:RT @AlexisCoe:Kay Lahusen (6/5/1930–5/26/2021). Kay &amp; her partner, Barbara Gittings, successfully fought to get the American Psychiatric Association to drop homosexuality as a mental illness. That diagnosis began with Alice Mitchell, the subject of my first book. May her memory be a revolution https://t.co/1JEHjsqB6N\n",
      "\n"
     ]
    }
   ],
   "source": [
    "exemplars = exemplars_df[exemplars_df[\"topic\"] == topic][\"text\"].to_list()\n",
    "sample = rd.sample(exemplars, 3)\n",
    "\n",
    "print(f\"Top {topic} representatives tweets:\\n\")\n",
    "\n",
    "for idx, s in enumerate(sample):\n",
    "    print(\"{}:{}\\n\".format(idx + 1, s))"
   ]
  },
  {
   "cell_type": "markdown",
   "metadata": {},
   "source": [
    "#### Topic 22: Space"
   ]
  },
  {
   "cell_type": "markdown",
   "metadata": {},
   "source": [
    "We provide the list of keywords that define this topic, along side with their associated importance (the higher, the more important)."
   ]
  },
  {
   "cell_type": "code",
   "execution_count": 27,
   "metadata": {},
   "outputs": [
    {
     "name": "stdout",
     "output_type": "stream",
     "text": [
      "Topic 22 keywords:\n",
      "\n",
      "('spacex', 0.08589130794119605)\n",
      "('space', 0.08050827064759014)\n",
      "('earth', 0.0730039525475797)\n",
      "('moon', 0.061162312916090415)\n",
      "('mission', 0.06107994265280764)\n",
      "('view earth', 0.04893123080850168)\n",
      "('captured', 0.04893123080850168)\n",
      "('view', 0.045779234310052146)\n",
      "('amazing', 0.04149003287911507)\n",
      "('picture sun', 0.034937815331619035)\n"
     ]
    }
   ],
   "source": [
    "topic = 22\n",
    "topic_keywords = topics_df[topics_df[\"topic\"] == topic][cols].values.flatten().tolist()\n",
    "\n",
    "print(f\"Topic {topic} keywords:\\n\")\n",
    "for kw in topic_keywords[:10]:\n",
    "    print(kw)"
   ]
  },
  {
   "cell_type": "markdown",
   "metadata": {},
   "source": [
    "Then, we provide a sample of tweets that best illustrate this topic"
   ]
  },
  {
   "cell_type": "code",
   "execution_count": 28,
   "metadata": {},
   "outputs": [
    {
     "name": "stdout",
     "output_type": "stream",
     "text": [
      "Top 22 representatives tweets:\n",
      "\n",
      "1:RT @alvinfoo:Size Comparison - SpaceX Starship compared to Saturn V rocket (used during Apollo Moon Landings) and the #NASA Space Shuttle booster.\n",
      "\n",
      "Source : #SpaceX https://t.co/FOS6rmAZfJ\n",
      "\n",
      "2:RT @alvinfoo:Amazing view of Earth from the ISS 👍 https://t.co/tH63kLvYD0\n",
      "\n",
      "3:An amazing night view of Earth seen from the ISS 😍 https://t.co/hCojNbQ4xq\n",
      "\n"
     ]
    }
   ],
   "source": [
    "exemplars = exemplars_df[exemplars_df[\"topic\"] == topic][\"text\"].to_list()\n",
    "sample = rd.sample(exemplars, 3)\n",
    "\n",
    "print(f\"Top {topic} representatives tweets:\\n\")\n",
    "\n",
    "for idx, s in enumerate(sample):\n",
    "    print(\"{}:{}\\n\".format(idx + 1, s))"
   ]
  },
  {
   "cell_type": "markdown",
   "metadata": {},
   "source": [
    "#### Topic 329: RStat, training session, and others"
   ]
  },
  {
   "cell_type": "markdown",
   "metadata": {},
   "source": [
    "We provide the list of keywords that define this topic, along side with their associated importance (the higher, the more important)."
   ]
  },
  {
   "cell_type": "code",
   "execution_count": 29,
   "metadata": {},
   "outputs": [
    {
     "name": "stdout",
     "output_type": "stream",
     "text": [
      "Topic 329 keywords:\n",
      "\n",
      "('ama', 0.06914391674971687)\n",
      "('05', 0.06495635291986186)\n",
      "('average', 0.06380059646402073)\n",
      "('called', 0.06354995794021061)\n",
      "('rstats', 0.05819670264538107)\n",
      "('today', 0.04850149381542877)\n",
      "('great', 0.04480246824313703)\n",
      "('continue south', 0.03879269368962269)\n",
      "('repeated holdout', 0.03879269368962269)\n",
      "('mlb', 0.03879269368962269)\n"
     ]
    }
   ],
   "source": [
    "topic = 329\n",
    "topic_keywords = topics_df[topics_df[\"topic\"] == topic][cols].values.flatten().tolist()\n",
    "\n",
    "print(f\"Topic {topic} keywords:\\n\")\n",
    "for kw in topic_keywords[:10]:\n",
    "    print(kw)"
   ]
  },
  {
   "cell_type": "markdown",
   "metadata": {},
   "source": [
    "Then, we provide a sample of tweets that best illustrate this topic"
   ]
  },
  {
   "cell_type": "code",
   "execution_count": 30,
   "metadata": {},
   "outputs": [
    {
     "name": "stdout",
     "output_type": "stream",
     "text": [
      "Top 329 representatives tweets:\n",
      "\n",
      "1:RT @BowieBaysox:Adley Rutschman hit his first home run as a right-handed hitter of 2021! https://t.co/7c5Wad5lzL\n",
      "\n",
      "2:@RichmanRonald https://t.co/aYvW168wLF . PS: @JFPuget \"This repeated holdout procedure, sometimes also called Monte Carlo Cross-Validation, ...\" 🙃\n",
      "\n",
      "3:RT @AirBlackettSt:NO₂ at Blackett Street yesterday (29-05-2021)\n",
      "\n",
      "24h Average: 67.20 µg/m³\n",
      "\n",
      "7 Day Average: 60.05 µg/m³ https://t.co/bD8y9bZvmu\n",
      "\n"
     ]
    }
   ],
   "source": [
    "exemplars = exemplars_df[exemplars_df[\"topic\"] == topic][\"text\"].to_list()\n",
    "sample = rd.sample(exemplars, 3)\n",
    "\n",
    "print(f\"Top {topic} representatives tweets:\\n\")\n",
    "\n",
    "for idx, s in enumerate(sample):\n",
    "    print(\"{}:{}\\n\".format(idx + 1, s))"
   ]
  },
  {
   "cell_type": "markdown",
   "metadata": {},
   "source": [
    "All the topics are clearly defined by keywords and illustrated by some tweets, excepted the topic 329.\n",
    "\n",
    "In fact, this last topic seems to be a mixture of several ones: event, R & Statistics, sport etc. So it is a little bit unclear and would need to be refined by splitting it into smaller sub-topics.\n",
    "\n",
    "But, here we will not go forward in this direction as the focus of our analysis is less the quality of the topics than producing a top ranking of the influencers."
   ]
  },
  {
   "cell_type": "markdown",
   "metadata": {},
   "source": [
    "Now, let's analyze the datafor each of the top 5 topics in order to determine the top influencers."
   ]
  },
  {
   "cell_type": "markdown",
   "metadata": {},
   "source": [
    "#### Top 5 influencers for Top 5 topics - With regard to the average number of replies"
   ]
  },
  {
   "cell_type": "code",
   "execution_count": 31,
   "metadata": {
    "atoti": {
     "widget": {
      "filters": [
       "TopCount(Filter([influencer].[topic].Levels(1).Members, NOT IsEmpty([Measures].[contributors.COUNT])), 5, [Measures].[contributors.COUNT])"
      ],
      "mapping": {
       "horizontalSubplots": [
        "[influencer].[topic].[topic]"
       ],
       "sliceBy": [
        "ALL_MEASURES",
        "[influencer].[name].[name]"
       ],
       "values": [
        "[Measures].[replies]"
       ],
       "verticalSubplots": []
      },
      "query": {
       "mdx": "SELECT NON EMPTY Order(GENERATE([influencer].[topic].[topic].Members, TOPCOUNT([influencer].[topic].CURRENTMEMBER * [influencer].[name].[name].MEMBERS, 5, [Measures].[replies])), [Measures].[contributors.COUNT], DESC) ON ROWS, NON EMPTY {[Measures].[replies]} ON COLUMNS FROM [influencer_cube] CELL PROPERTIES VALUE, FORMATTED_VALUE, BACK_COLOR, FORE_COLOR, FONT_FLAGS",
       "updateMode": "once"
      },
      "serverKey": "default",
      "widgetKey": "plotly-donut-chart"
     }
    },
    "tags": []
   },
   "outputs": [
    {
     "data": {
      "application/vnd.atoti.widget.v0+json": {
       "name": "Top 5 influencers for Top 5 topics - With regard to the average number of replies",
       "sessionId": "1648807225_BF0YEB",
       "sessionLocation": {
        "https": null,
        "port": 61470
       },
       "widgetCreationCode": "session.visualize()"
      },
      "text/html": [
       "<img src=\"data:image/svg+xml;charset=utf8,%3C%3Fxml%20version%3D%221.0%22%20standalone%3D%22no%22%3F%3E%3Csvg%20xmlns%3D%22http%3A%2F%2Fwww.w3.org%2F2000%2Fsvg%22%20xmlns%3Axlink%3D%22http%3A%2F%2Fwww.w3.org%2F1999%2Fxlink%22%20height%3D%22352%22%20width%3D%22967%22%20viewBox%3D%220%200%20967%20352%22%3E%3Cdefs%20id%3D%22defs-f1b628%22%3E%3Cg%20class%3D%22clips%22%2F%3E%3Cg%20class%3D%22gradients%22%2F%3E%3C%2Fdefs%3E%3Cg%20class%3D%22bglayer%22%2F%3E%3Cg%20class%3D%22draglayer%22%2F%3E%3Cg%20class%3D%22layer-below%22%3E%3Cg%20class%3D%22imagelayer%22%2F%3E%3Cg%20class%3D%22shapelayer%22%2F%3E%3C%2Fg%3E%3Cg%20class%3D%22cartesianlayer%22%2F%3E%3Cg%20class%3D%22polarlayer%22%2F%3E%3Cg%20class%3D%22ternarylayer%22%2F%3E%3Cg%20class%3D%22geolayer%22%2F%3E%3Cg%20class%3D%22funnelarealayer%22%2F%3E%3Cg%20class%3D%22pielayer%22%3E%3Cg%20class%3D%22trace%22%20stroke-linejoin%3D%22round%22%20style%3D%22opacity%3A%201%3B%22%3E%3Cg%20class%3D%22slice%22%3E%3Cpath%20class%3D%22surface%22%20d%3D%22M111.24825898643947%2C154.5070310278304a18.56666666666667%2C18.56666666666667%200%201%200%2015.168407680227208%2C-29.273697980599373l0%2C-27.85a46.41666666666667%2C46.41666666666667%200%201%201%20-37.92101920056802%2C73.18424495149843Z%22%20style%3D%22pointer-events%3A%20all%3B%20stroke-width%3A%200%3B%20fill%3A%20rgb(78%2C%20121%2C%20167)%3B%20fill-opacity%3A%201%3B%20stroke%3A%20rgb(68%2C%2068%2C%2068)%3B%20stroke-opacity%3A%201%3B%22%2F%3E%3C%2Fg%3E%3Cg%20class%3D%22slice%22%3E%3Cpath%20class%3D%22surface%22%20d%3D%22M126.41666666666667%2C125.23333304723104a18.56666666666667%2C18.56666666666667%200%200%200%20-18.523383481304347%2C19.833700808137394l-27.785075221956514%2C1.900551212206084a46.41666666666667%2C46.41666666666667%200%200%201%2046.30845870326086%2C-49.58425202034348Z%22%20style%3D%22pointer-events%3A%20all%3B%20stroke-width%3A%200%3B%20fill%3A%20rgb(242%2C%20142%2C%2044)%3B%20fill-opacity%3A%201%3B%20stroke%3A%20rgb(68%2C%2068%2C%2068)%3B%20stroke-opacity%3A%201%3B%22%2F%3E%3C%2Fg%3E%3Cg%20class%3D%22slice%22%3E%3Cpath%20class%3D%22surface%22%20d%3D%22M107.89328318536232%2C145.06703385536844a18.56666666666667%2C18.56666666666667%200%200%200%201.0287390272982406%2C4.9505639911705845l-26.241966681009156%2C9.32639719896196a46.41666666666667%2C46.41666666666667%200%200%201%20-2.5718475682456017%2C-12.37640997792646Z%22%20style%3D%22pointer-events%3A%20all%3B%20stroke-width%3A%200%3B%20fill%3A%20rgb(225%2C%2087%2C%2089)%3B%20fill-opacity%3A%201%3B%20stroke%3A%20rgb(68%2C%2068%2C%2068)%3B%20stroke-opacity%3A%201%3B%22%2F%3E%3C%2Fg%3E%3Cg%20class%3D%22slice%22%3E%3Cpath%20class%3D%22surface%22%20d%3D%22M108.92202221266056%2C150.01759784653902a18.56666666666667%2C18.56666666666667%200%200%200%201.0095755656686691%2C2.324276067900418l-24.727603332506153%2C12.812811300812585a46.41666666666667%2C46.41666666666667%200%200%201%20-2.523938914171673%2C-5.8106901697510445Z%22%20style%3D%22pointer-events%3A%20all%3B%20stroke-width%3A%200%3B%20fill%3A%20rgb(118%2C%20183%2C%20178)%3B%20fill-opacity%3A%201%3B%20stroke%3A%20rgb(68%2C%2068%2C%2068)%3B%20stroke-opacity%3A%201%3B%22%2F%3E%3C%2Fg%3E%3Cg%20class%3D%22slice%22%3E%3Cpath%20class%3D%22surface%22%20d%3D%22M109.93159777832923%2C152.34187391443942a18.56666666666667%2C18.56666666666667%200%200%200%201.3166612081102302%2C2.1651571133909813l-22.752611520340807%2C16.060546970899058a46.41666666666667%2C46.41666666666667%200%200%201%20-3.291653020275575%2C-5.412892783477453Z%22%20style%3D%22pointer-events%3A%20all%3B%20stroke-width%3A%200%3B%20fill%3A%20rgb(89%2C%20161%2C%2079)%3B%20fill-opacity%3A%201%3B%20stroke%3A%20rgb(68%2C%2068%2C%2068)%3B%20stroke-opacity%3A%201%3B%22%2F%3E%3C%2Fg%3E%3Cg%20class%3D%22titletext%22%3E%3Ctext%20data-notex%3D%221%22%20class%3D%22titletext%22%20transform%3D%22translate(126.41666666666667%2C190.2166663805644)translate(0%2C12)%22%20text-anchor%3D%22middle%22%20data-unformatted%3D%22186%22%20data-math%3D%22N%22%20x%3D%220%22%20y%3D%220%22%20style%3D%22font-family%3A%20%26quot%3BOpen%20Sans%26quot%3B%2C%20verdana%2C%20arial%2C%20sans-serif%3B%20font-size%3A%2012px%3B%20fill%3A%20rgb(89%2C%2089%2C%2089)%3B%20fill-opacity%3A%201%3B%20white-space%3A%20pre%3B%22%3E186%3C%2Ftext%3E%3C%2Fg%3E%3C%2Fg%3E%3Cg%20class%3D%22trace%22%20stroke-linejoin%3D%22round%22%20style%3D%22opacity%3A%201%3B%22%3E%3Cg%20class%3D%22slice%22%3E%3Cpath%20class%3D%22surface%22%20d%3D%22M231.47290381565207%2C158.76801392498024a18.566666666666666%2C18.566666666666666%200%201%200%2010.985429517681267%2C-33.53468087774919l0%2C-27.849999999999998a46.416666666666664%2C46.416666666666664%200%201%201%20-27.463573794203164%2C83.83670219437298Z%22%20style%3D%22pointer-events%3A%20all%3B%20stroke-width%3A%200%3B%20fill%3A%20rgb(237%2C%20201%2C%2073)%3B%20fill-opacity%3A%201%3B%20stroke%3A%20rgb(68%2C%2068%2C%2068)%3B%20stroke-opacity%3A%201%3B%22%2F%3E%3C%2Fg%3E%3Cg%20class%3D%22slice%22%3E%3Cpath%20class%3D%22surface%22%20d%3D%22M242.45833333333334%2C125.23333304723104a18.566666666666666%2C18.566666666666666%200%200%200%20-16.054308161210074%2C27.892989660001962l-24.08146224181511%2C13.989484490002946a46.416666666666664%2C46.416666666666664%200%200%201%2040.135770403025184%2C-69.7324741500049Z%22%20style%3D%22pointer-events%3A%20all%3B%20stroke-width%3A%200%3B%20fill%3A%20rgb(175%2C%20122%2C%20161)%3B%20fill-opacity%3A%201%3B%20stroke%3A%20rgb(68%2C%2068%2C%2068)%3B%20stroke-opacity%3A%201%3B%22%2F%3E%3C%2Fg%3E%3Cg%20class%3D%22slice%22%3E%3Cpath%20class%3D%22surface%22%20d%3D%22M226.40402517212328%2C153.12632270723302a18.566666666666666%2C18.566666666666666%200%200%200%202.4316153704595624%2C3.2888802250018987l-20.434039186125766%2C18.922804827505793a46.416666666666664%2C46.416666666666664%200%200%201%20-6.079038426148905%2C-8.222200562504746Z%22%20style%3D%22pointer-events%3A%20all%3B%20stroke-width%3A%200%3B%20fill%3A%20rgb(255%2C%20157%2C%20167)%3B%20fill-opacity%3A%201%3B%20stroke%3A%20rgb(68%2C%2068%2C%2068)%3B%20stroke-opacity%3A%201%3B%22%2F%3E%3C%2Fg%3E%3Cg%20class%3D%22slice%22%3E%3Cpath%20class%3D%22surface%22%20d%3D%22M228.83564054258284%2C156.4152029322349a18.566666666666666%2C18.566666666666666%200%200%200%202.637263273069236%2C2.3528109927453174l-16.478144276521913%2C22.452021316623767a46.416666666666664%2C46.416666666666664%200%200%201%20-6.59315818267309%2C-5.882027481863293Z%22%20style%3D%22pointer-events%3A%20all%3B%20stroke-width%3A%200%3B%20fill%3A%20rgb(156%2C%20117%2C%2095)%3B%20fill-opacity%3A%201%3B%20stroke%3A%20rgb(68%2C%2068%2C%2068)%3B%20stroke-opacity%3A%201%3B%22%2F%3E%3C%2Fg%3E%3Cg%20class%3D%22slice%22%3E%3Cpath%20class%3D%22surface%22%20d%3D%22M231.47290381565207%2C158.7680139249802a18.566666666666666%2C18.566666666666666%200%200%200%200%2C0l-16.478144276521913%2C22.452021316623767a46.416666666666664%2C46.416666666666664%200%200%201%200%2C0Z%22%20style%3D%22pointer-events%3A%20all%3B%20stroke-width%3A%200%3B%20fill%3A%20rgb(186%2C%20176%2C%20171)%3B%20fill-opacity%3A%201%3B%20stroke%3A%20rgb(68%2C%2068%2C%2068)%3B%20stroke-opacity%3A%201%3B%22%2F%3E%3C%2Fg%3E%3Cg%20class%3D%22titletext%22%3E%3Ctext%20data-notex%3D%221%22%20class%3D%22titletext%22%20transform%3D%22translate(242.45833333333334%2C190.21666638056436)translate(0%2C12)%22%20text-anchor%3D%22middle%22%20data-unformatted%3D%2296%22%20data-math%3D%22N%22%20x%3D%220%22%20y%3D%220%22%20style%3D%22font-family%3A%20%26quot%3BOpen%20Sans%26quot%3B%2C%20verdana%2C%20arial%2C%20sans-serif%3B%20font-size%3A%2012px%3B%20fill%3A%20rgb(89%2C%2089%2C%2089)%3B%20fill-opacity%3A%201%3B%20white-space%3A%20pre%3B%22%3E96%3C%2Ftext%3E%3C%2Fg%3E%3C%2Fg%3E%3Cg%20class%3D%22trace%22%20stroke-linejoin%3D%22round%22%20style%3D%22opacity%3A%201%3B%22%3E%3Cg%20class%3D%22slice%22%3E%3Cpath%20class%3D%22surface%22%20d%3D%22M355.74648116604277%2C162.16135165601116a18.56666666666667%2C18.56666666666667%200%201%200%202.7535188339572234%2C-36.928018608780135l0%2C-27.85a46.41666666666667%2C46.41666666666667%200%201%201%20-6.883797084893058%2C92.32004652195033Z%22%20style%3D%22pointer-events%3A%20all%3B%20stroke-width%3A%200%3B%20fill%3A%20rgb(144%2C%20172%2C%20203)%3B%20fill-opacity%3A%201%3B%20stroke%3A%20rgb(68%2C%2068%2C%2068)%3B%20stroke-opacity%3A%201%3B%22%2F%3E%3C%2Fg%3E%3Cg%20class%3D%22slice%22%3E%3Cpath%20class%3D%22surface%22%20d%3D%22M358.5%2C125.23333304723104a18.56666666666667%2C18.56666666666667%200%200%200%20-16.51984607994741%2C10.092246532760317l-24.779769119921117%2C-12.711630200859528a46.41666666666667%2C46.41666666666667%200%200%201%2041.299615199868526%2C-25.23061633190079Z%22%20style%3D%22pointer-events%3A%20all%3B%20stroke-width%3A%200%3B%20fill%3A%20rgb(237%2C%20201%2C%2073)%3B%20fill-opacity%3A%201%3B%20stroke%3A%20rgb(68%2C%2068%2C%2068)%3B%20stroke-opacity%3A%201%3B%22%2F%3E%3C%2Fg%3E%3Cg%20class%3D%22slice%22%3E%3Cpath%20class%3D%22surface%22%20d%3D%22M341.9801539200526%2C135.32557957999134a18.56666666666667%2C18.56666666666667%200%200%200%201.4394744933470236%2C19.305094347507602l-22.62055737990058%2C16.24601132040187a46.41666666666667%2C46.41666666666667%200%200%201%20-3.598686233367559%2C-48.262735868769Z%22%20style%3D%22pointer-events%3A%20all%3B%20stroke-width%3A%200%3B%20fill%3A%20rgb(248%2C%20193%2C%20140)%3B%20fill-opacity%3A%201%3B%20stroke%3A%20rgb(68%2C%2068%2C%2068)%3B%20stroke-opacity%3A%201%3B%22%2F%3E%3C%2Fg%3E%3Cg%20class%3D%22slice%22%3E%3Cpath%20class%3D%22surface%22%20d%3D%22M343.4196284133996%2C154.63067392749895a18.56666666666667%2C18.56666666666667%200%200%200%206.541305130623591%2C5.655849227425462l-12.808599683965193%2C24.72978516154006a46.41666666666667%2C46.41666666666667%200%200%201%20-16.35326282655898%2C-14.139623068563655Z%22%20style%3D%22pointer-events%3A%20all%3B%20stroke-width%3A%200%3B%20fill%3A%20rgb(240%2C%20174%2C%20174)%3B%20fill-opacity%3A%201%3B%20stroke%3A%20rgb(68%2C%2068%2C%2068)%3B%20stroke-opacity%3A%201%3B%22%2F%3E%3C%2Fg%3E%3Cg%20class%3D%22slice%22%3E%3Cpath%20class%3D%22surface%22%20d%3D%22M349.9609335440232%2C160.28652315492442a18.56666666666667%2C18.56666666666667%200%200%200%205.785547622019576%2C1.8748285010867591l-4.130278250935829%2C27.542027913170198a46.41666666666667%2C46.41666666666667%200%200%201%20-14.463869055048939%2C-4.687071252716898Z%22%20style%3D%22pointer-events%3A%20all%3B%20stroke-width%3A%200%3B%20fill%3A%20rgb(185%2C%20218%2C%20216)%3B%20fill-opacity%3A%201%3B%20stroke%3A%20rgb(68%2C%2068%2C%2068)%3B%20stroke-opacity%3A%201%3B%22%2F%3E%3C%2Fg%3E%3Cg%20class%3D%22titletext%22%3E%3Ctext%20data-notex%3D%221%22%20class%3D%22titletext%22%20transform%3D%22translate(358.5%2C190.2166663805644)translate(0%2C12)%22%20text-anchor%3D%22middle%22%20data-unformatted%3D%22112%22%20data-math%3D%22N%22%20x%3D%220%22%20y%3D%220%22%20style%3D%22font-family%3A%20%26quot%3BOpen%20Sans%26quot%3B%2C%20verdana%2C%20arial%2C%20sans-serif%3B%20font-size%3A%2012px%3B%20fill%3A%20rgb(89%2C%2089%2C%2089)%3B%20fill-opacity%3A%201%3B%20white-space%3A%20pre%3B%22%3E112%3C%2Ftext%3E%3C%2Fg%3E%3C%2Fg%3E%3Cg%20class%3D%22trace%22%20stroke-linejoin%3D%22round%22%20style%3D%22opacity%3A%201%3B%22%3E%3Cg%20class%3D%22slice%22%3E%3Cpath%20class%3D%22surface%22%20d%3D%22M492.78790144358044%2C147.23453426414667a18.566666666666674%2C18.566666666666674%200%200%200%20-18.24623477691377%2C-22.001201216915657l0%2C-27.850000000000012a46.416666666666686%2C46.416666666666686%200%200%201%2045.61558694228442%2C55.00300304228914Z%22%20style%3D%22pointer-events%3A%20all%3B%20stroke-width%3A%200%3B%20fill%3A%20rgb(118%2C%20183%2C%20178)%3B%20fill-opacity%3A%201%3B%20stroke%3A%20rgb(68%2C%2068%2C%2068)%3B%20stroke-opacity%3A%201%3B%22%2F%3E%3C%2Fg%3E%3Cg%20class%3D%22slice%22%3E%3Cpath%20class%3D%22surface%22%20d%3D%22M474.5416666666667%2C125.23333304723103a18.566666666666674%2C18.566666666666674%200%200%200%20-18.547238312909624%2C19.415820407310093l-27.820857469364437%2C1.273730610965126a46.416666666666686%2C46.416666666666686%200%200%201%2046.36809578227406%2C-48.539551018275226Z%22%20style%3D%22pointer-events%3A%20all%3B%20stroke-width%3A%200%3B%20fill%3A%20rgb(149%2C%20200%2C%20142)%3B%20fill-opacity%3A%201%3B%20stroke%3A%20rgb(68%2C%2068%2C%2068)%3B%20stroke-opacity%3A%201%3B%22%2F%3E%3C%2Fg%3E%3Cg%20class%3D%22slice%22%3E%3Cpath%20class%3D%22surface%22%20d%3D%22M455.9944283537571%2C144.64915345454114a18.566666666666674%2C18.566666666666674%200%200%200%2017.245816296483103%2C17.67184547231137l-1.9521330246397834%2C27.781498819432176a46.416666666666686%2C46.416666666666686%200%200%201%20-43.114540741207755%2C-44.179613680778424Z%22%20style%3D%22pointer-events%3A%20all%3B%20stroke-width%3A%200%3B%20fill%3A%20rgb(246%2C%20229%2C%20166)%3B%20fill-opacity%3A%201%3B%20stroke%3A%20rgb(68%2C%2068%2C%2068)%3B%20stroke-opacity%3A%201%3B%22%2F%3E%3C%2Fg%3E%3Cg%20class%3D%22slice%22%3E%3Cpath%20class%3D%22surface%22%20d%3D%22M473.2402446502402%2C162.3209989268525a18.566666666666674%2C18.566666666666674%200%200%200%2015.842612235251549%2C-6.976524424942179l21.811785328237537%2C17.31671218201891a46.416666666666686%2C46.416666666666686%200%200%201%20-39.60653058812887%2C17.441311062355446Z%22%20style%3D%22pointer-events%3A%20all%3B%20stroke-width%3A%200%3B%20fill%3A%20rgb(213%2C%20186%2C%20206)%3B%20fill-opacity%3A%201%3B%20stroke%3A%20rgb(68%2C%2068%2C%2068)%3B%20stroke-opacity%3A%201%3B%22%2F%3E%3C%2Fg%3E%3Cg%20class%3D%22slice%22%3E%3Cpath%20class%3D%22surface%22%20d%3D%22M489.0828568854917%2C155.34447450191033a18.566666666666674%2C18.566666666666674%200%200%200%203.705044558088747%2C-8.109940237763643l27.369352165370657%2C5.151801825373445a46.416666666666686%2C46.416666666666686%200%200%201%20-9.262611395221867%2C20.27485059440911Z%22%20style%3D%22pointer-events%3A%20all%3B%20stroke-width%3A%200%3B%20fill%3A%20rgb(78%2C%20121%2C%20167)%3B%20fill-opacity%3A%201%3B%20stroke%3A%20rgb(68%2C%2068%2C%2068)%3B%20stroke-opacity%3A%201%3B%22%2F%3E%3C%2Fg%3E%3Cg%20class%3D%22titletext%22%3E%3Ctext%20data-notex%3D%221%22%20class%3D%22titletext%22%20transform%3D%22translate(474.5416666666667%2C190.2166663805644)translate(0%2C12)%22%20text-anchor%3D%22middle%22%20data-unformatted%3D%2222%22%20data-math%3D%22N%22%20x%3D%220%22%20y%3D%220%22%20style%3D%22font-family%3A%20%26quot%3BOpen%20Sans%26quot%3B%2C%20verdana%2C%20arial%2C%20sans-serif%3B%20font-size%3A%2012px%3B%20fill%3A%20rgb(89%2C%2089%2C%2089)%3B%20fill-opacity%3A%201%3B%20white-space%3A%20pre%3B%22%3E22%3C%2Ftext%3E%3C%2Fg%3E%3C%2Fg%3E%3Cg%20class%3D%22trace%22%20stroke-linejoin%3D%22round%22%20style%3D%22opacity%3A%201%3B%22%3E%3Cg%20class%3D%22slice%22%3E%3Cpath%20class%3D%22surface%22%20d%3D%22M608.4412294415754%2C138.71899019822604a18.566666666666663%2C18.566666666666663%200%200%200%20-17.857896108242002%2C-13.48565715099499l0%2C-27.849999999999994a46.41666666666666%2C46.41666666666666%200%200%201%2044.644740270605006%2C33.714142877487475Z%22%20style%3D%22pointer-events%3A%20all%3B%20stroke-width%3A%200%3B%20fill%3A%20rgb(255%2C%20255%2C%20255)%3B%20fill-opacity%3A%201%3B%20stroke%3A%20rgb(68%2C%2068%2C%2068)%3B%20stroke-opacity%3A%201%3B%22%2F%3E%3C%2Fg%3E%3Cg%20class%3D%22slice%22%3E%3Cpath%20class%3D%22surface%22%20d%3D%22M590.5833333333334%2C125.23333304723104a18.566666666666663%2C18.566666666666663%200%200%200%20-17.857896108242002%2C13.48565715099499l-26.786844162363003%2C-7.621514273507509a46.41666666666666%2C46.41666666666666%200%200%201%2044.644740270605006%2C-33.714142877487475Z%22%20style%3D%22pointer-events%3A%20all%3B%20stroke-width%3A%200%3B%20fill%3A%20rgb(196%2C%20171%2C%20157)%3B%20fill-opacity%3A%201%3B%20stroke%3A%20rgb(68%2C%2068%2C%2068)%3B%20stroke-opacity%3A%201%3B%22%2F%3E%3C%2Fg%3E%3Cg%20class%3D%22slice%22%3E%3Cpath%20class%3D%22surface%22%20d%3D%22M572.7254372250914%2C138.71899019822604a18.566666666666663%2C18.566666666666663%200%200%200%208.08380561748576%2C20.866707669051504l-14.661135736134362%2C23.678547230069743a46.41666666666666%2C46.41666666666666%200%200%201%20-20.2095140437144%2C-52.166769172628754Z%22%20style%3D%22pointer-events%3A%20all%3B%20stroke-width%3A%200%3B%20fill%3A%20rgb(232%2C%20229%2C%20227)%3B%20fill-opacity%3A%201%3B%20stroke%3A%20rgb(68%2C%2068%2C%2068)%3B%20stroke-opacity%3A%201%3B%22%2F%3E%3C%2Fg%3E%3Cg%20class%3D%22slice%22%3E%3Cpath%20class%3D%22surface%22%20d%3D%22M580.8092428425771%2C159.58569786727753a18.566666666666663%2C18.566666666666663%200%200%200%2022.282372941127313%2C-2.0647659236495883l18.762423675556605%2C20.58139834459536a46.41666666666666%2C46.41666666666666%200%200%201%20-55.70593235281828%2C5.161914809123971Z%22%20style%3D%22pointer-events%3A%20all%3B%20stroke-width%3A%200%3B%20fill%3A%20rgb(46%2C%2071%2C%2097)%3B%20fill-opacity%3A%201%3B%20stroke%3A%20rgb(68%2C%2068%2C%2068)%3B%20stroke-opacity%3A%201%3B%22%2F%3E%3C%2Fg%3E%3Cg%20class%3D%22slice%22%3E%3Cpath%20class%3D%22surface%22%20d%3D%22M603.0916157837045%2C157.52093194362794a18.566666666666663%2C18.566666666666663%200%200%200%205.349613657870933%2C-18.801941745401912l26.786844162363003%2C-7.621514273507503a46.41666666666666%2C46.41666666666666%200%200%201%20-13.374034144677331%2C47.004854363504776Z%22%20style%3D%22pointer-events%3A%20all%3B%20stroke-width%3A%200%3B%20fill%3A%20rgb(118%2C%20183%2C%20178)%3B%20fill-opacity%3A%201%3B%20stroke%3A%20rgb(68%2C%2068%2C%2068)%3B%20stroke-opacity%3A%201%3B%22%2F%3E%3C%2Fg%3E%3Cg%20class%3D%22titletext%22%3E%3Ctext%20data-notex%3D%221%22%20class%3D%22titletext%22%20transform%3D%22translate(590.5833333333334%2C190.21666638056436)translate(0%2C12)%22%20text-anchor%3D%22middle%22%20data-unformatted%3D%22329%22%20data-math%3D%22N%22%20x%3D%220%22%20y%3D%220%22%20style%3D%22font-family%3A%20%26quot%3BOpen%20Sans%26quot%3B%2C%20verdana%2C%20arial%2C%20sans-serif%3B%20font-size%3A%2012px%3B%20fill%3A%20rgb(89%2C%2089%2C%2089)%3B%20fill-opacity%3A%201%3B%20white-space%3A%20pre%3B%22%3E329%3C%2Ftext%3E%3C%2Fg%3E%3C%2Fg%3E%3C%2Fg%3E%3Cg%20class%3D%22treemaplayer%22%2F%3E%3Cg%20class%3D%22sunburstlayer%22%2F%3E%3Cg%20class%3D%22glimages%22%2F%3E%3Cdefs%20id%3D%22topdefs-f1b628%22%3E%3Cg%20class%3D%22clips%22%2F%3E%3CclipPath%20id%3D%22legendf1b628%22%3E%3Crect%20width%3D%22329%22%20height%3D%22242%22%20x%3D%220%22%20y%3D%220%22%2F%3E%3C%2FclipPath%3E%3C%2Fdefs%3E%3Cg%20class%3D%22indicatorlayer%22%2F%3E%3Cg%20class%3D%22layer-above%22%3E%3Cg%20class%3D%22imagelayer%22%2F%3E%3Cg%20class%3D%22shapelayer%22%2F%3E%3C%2Fg%3E%3Cg%20class%3D%22infolayer%22%3E%3Cg%20class%3D%22legend%22%20pointer-events%3D%22all%22%20transform%3D%22translate(648%2C30)%22%3E%3Crect%20class%3D%22bg%22%20shape-rendering%3D%22crispEdges%22%20width%3D%22329%22%20height%3D%22242%22%20x%3D%220%22%20y%3D%220%22%20style%3D%22stroke%3A%20rgb(68%2C%2068%2C%2068)%3B%20stroke-opacity%3A%201%3B%20fill%3A%20rgb(255%2C%20255%2C%20255)%3B%20fill-opacity%3A%201%3B%20stroke-width%3A%200px%3B%22%2F%3E%3Cg%20class%3D%22scrollbox%22%20clip-path%3D%22url('%23legendf1b628')%22%20transform%3D%22%22%3E%3Cg%20class%3D%22groups%22%3E%3Cg%20class%3D%22traces%22%20transform%3D%22translate(0%2C14.5)%22%20style%3D%22opacity%3A%201%3B%22%3E%3Ctext%20class%3D%22legendtext%22%20text-anchor%3D%22start%22%20x%3D%2240%22%20y%3D%224.680000000000001%22%20data-unformatted%3D%22replies%2C%20Pedro%20Domingos%22%20data-math%3D%22N%22%20style%3D%22font-family%3A%20%26quot%3BOpen%20Sans%26quot%3B%2C%20verdana%2C%20arial%2C%20sans-serif%3B%20font-size%3A%2012px%3B%20fill%3A%20rgb(89%2C%2089%2C%2089)%3B%20fill-opacity%3A%201%3B%20white-space%3A%20pre%3B%22%3Ereplies%2C%20Pedro%20Domingos%3C%2Ftext%3E%3Cg%20class%3D%22layers%22%20style%3D%22opacity%3A%201%3B%22%3E%3Cg%20class%3D%22legendfill%22%2F%3E%3Cg%20class%3D%22legendlines%22%2F%3E%3Cg%20class%3D%22legendsymbols%22%3E%3Cg%20class%3D%22legendpoints%22%3E%3Cpath%20class%3D%22legendpie%22%20d%3D%22M6%2C6H-6V-6H6Z%22%20transform%3D%22translate(20%2C0)%22%20style%3D%22stroke-width%3A%200%3B%20fill%3A%20rgb(78%2C%20121%2C%20167)%3B%20fill-opacity%3A%201%3B%20stroke%3A%20rgb(68%2C%2068%2C%2068)%3B%20stroke-opacity%3A%201%3B%22%2F%3E%3C%2Fg%3E%3C%2Fg%3E%3C%2Fg%3E%3Crect%20class%3D%22legendtoggle%22%20pointer-events%3D%22all%22%20x%3D%220%22%20y%3D%22-9.5%22%20width%3D%22313.2375183105469%22%20height%3D%2219%22%20style%3D%22cursor%3A%20pointer%3B%20fill%3A%20rgb(0%2C%200%2C%200)%3B%20fill-opacity%3A%200%3B%22%2F%3E%3C%2Fg%3E%3Cg%20class%3D%22traces%22%20transform%3D%22translate(0%2C33.5)%22%20style%3D%22opacity%3A%201%3B%22%3E%3Ctext%20class%3D%22legendtext%22%20text-anchor%3D%22start%22%20x%3D%2240%22%20y%3D%224.680000000000001%22%20data-unformatted%3D%22replies%2C%20Fran%C3%A7ois%20Chollet%22%20data-math%3D%22N%22%20style%3D%22font-family%3A%20%26quot%3BOpen%20Sans%26quot%3B%2C%20verdana%2C%20arial%2C%20sans-serif%3B%20font-size%3A%2012px%3B%20fill%3A%20rgb(89%2C%2089%2C%2089)%3B%20fill-opacity%3A%201%3B%20white-space%3A%20pre%3B%22%3Ereplies%2C%20Fran%C3%A7ois%20Chollet%3C%2Ftext%3E%3Cg%20class%3D%22layers%22%20style%3D%22opacity%3A%201%3B%22%3E%3Cg%20class%3D%22legendfill%22%2F%3E%3Cg%20class%3D%22legendlines%22%2F%3E%3Cg%20class%3D%22legendsymbols%22%3E%3Cg%20class%3D%22legendpoints%22%3E%3Cpath%20class%3D%22legendpie%22%20d%3D%22M6%2C6H-6V-6H6Z%22%20transform%3D%22translate(20%2C0)%22%20style%3D%22stroke-width%3A%200%3B%20fill%3A%20rgb(242%2C%20142%2C%2044)%3B%20fill-opacity%3A%201%3B%20stroke%3A%20rgb(68%2C%2068%2C%2068)%3B%20stroke-opacity%3A%201%3B%22%2F%3E%3C%2Fg%3E%3C%2Fg%3E%3C%2Fg%3E%3Crect%20class%3D%22legendtoggle%22%20pointer-events%3D%22all%22%20x%3D%220%22%20y%3D%22-9.5%22%20width%3D%22313.2375183105469%22%20height%3D%2219%22%20style%3D%22cursor%3A%20pointer%3B%20fill%3A%20rgb(0%2C%200%2C%200)%3B%20fill-opacity%3A%200%3B%22%2F%3E%3C%2Fg%3E%3Cg%20class%3D%22traces%22%20transform%3D%22translate(0%2C52.5)%22%20style%3D%22opacity%3A%201%3B%22%3E%3Ctext%20class%3D%22legendtext%22%20text-anchor%3D%22start%22%20x%3D%2240%22%20y%3D%224.680000000000001%22%20data-unformatted%3D%22replies%2C%20Kosta%20Derpanis%22%20data-math%3D%22N%22%20style%3D%22font-family%3A%20%26quot%3BOpen%20Sans%26quot%3B%2C%20verdana%2C%20arial%2C%20sans-serif%3B%20font-size%3A%2012px%3B%20fill%3A%20rgb(89%2C%2089%2C%2089)%3B%20fill-opacity%3A%201%3B%20white-space%3A%20pre%3B%22%3Ereplies%2C%20Kosta%20Derpanis%3C%2Ftext%3E%3Cg%20class%3D%22layers%22%20style%3D%22opacity%3A%201%3B%22%3E%3Cg%20class%3D%22legendfill%22%2F%3E%3Cg%20class%3D%22legendlines%22%2F%3E%3Cg%20class%3D%22legendsymbols%22%3E%3Cg%20class%3D%22legendpoints%22%3E%3Cpath%20class%3D%22legendpie%22%20d%3D%22M6%2C6H-6V-6H6Z%22%20transform%3D%22translate(20%2C0)%22%20style%3D%22stroke-width%3A%200%3B%20fill%3A%20rgb(225%2C%2087%2C%2089)%3B%20fill-opacity%3A%201%3B%20stroke%3A%20rgb(68%2C%2068%2C%2068)%3B%20stroke-opacity%3A%201%3B%22%2F%3E%3C%2Fg%3E%3C%2Fg%3E%3C%2Fg%3E%3Crect%20class%3D%22legendtoggle%22%20pointer-events%3D%22all%22%20x%3D%220%22%20y%3D%22-9.5%22%20width%3D%22313.2375183105469%22%20height%3D%2219%22%20style%3D%22cursor%3A%20pointer%3B%20fill%3A%20rgb(0%2C%200%2C%200)%3B%20fill-opacity%3A%200%3B%22%2F%3E%3C%2Fg%3E%3Cg%20class%3D%22traces%22%20transform%3D%22translate(0%2C71.5)%22%20style%3D%22opacity%3A%201%3B%22%3E%3Ctext%20class%3D%22legendtext%22%20text-anchor%3D%22start%22%20x%3D%2240%22%20y%3D%224.680000000000001%22%20data-unformatted%3D%22replies%2C%20Alvin%20Foo%22%20data-math%3D%22N%22%20style%3D%22font-family%3A%20%26quot%3BOpen%20Sans%26quot%3B%2C%20verdana%2C%20arial%2C%20sans-serif%3B%20font-size%3A%2012px%3B%20fill%3A%20rgb(89%2C%2089%2C%2089)%3B%20fill-opacity%3A%201%3B%20white-space%3A%20pre%3B%22%3Ereplies%2C%20Alvin%20Foo%3C%2Ftext%3E%3Cg%20class%3D%22layers%22%20style%3D%22opacity%3A%201%3B%22%3E%3Cg%20class%3D%22legendfill%22%2F%3E%3Cg%20class%3D%22legendlines%22%2F%3E%3Cg%20class%3D%22legendsymbols%22%3E%3Cg%20class%3D%22legendpoints%22%3E%3Cpath%20class%3D%22legendpie%22%20d%3D%22M6%2C6H-6V-6H6Z%22%20transform%3D%22translate(20%2C0)%22%20style%3D%22stroke-width%3A%200%3B%20fill%3A%20rgb(118%2C%20183%2C%20178)%3B%20fill-opacity%3A%201%3B%20stroke%3A%20rgb(68%2C%2068%2C%2068)%3B%20stroke-opacity%3A%201%3B%22%2F%3E%3C%2Fg%3E%3C%2Fg%3E%3C%2Fg%3E%3Crect%20class%3D%22legendtoggle%22%20pointer-events%3D%22all%22%20x%3D%220%22%20y%3D%22-9.5%22%20width%3D%22313.2375183105469%22%20height%3D%2219%22%20style%3D%22cursor%3A%20pointer%3B%20fill%3A%20rgb(0%2C%200%2C%200)%3B%20fill-opacity%3A%200%3B%22%2F%3E%3C%2Fg%3E%3Cg%20class%3D%22traces%22%20transform%3D%22translate(0%2C90.5)%22%20style%3D%22opacity%3A%201%3B%22%3E%3Ctext%20class%3D%22legendtext%22%20text-anchor%3D%22start%22%20x%3D%2240%22%20y%3D%224.680000000000001%22%20data-unformatted%3D%22replies%2C%20Pete%20Skomoroch%22%20data-math%3D%22N%22%20style%3D%22font-family%3A%20%26quot%3BOpen%20Sans%26quot%3B%2C%20verdana%2C%20arial%2C%20sans-serif%3B%20font-size%3A%2012px%3B%20fill%3A%20rgb(89%2C%2089%2C%2089)%3B%20fill-opacity%3A%201%3B%20white-space%3A%20pre%3B%22%3Ereplies%2C%20Pete%20Skomoroch%3C%2Ftext%3E%3Cg%20class%3D%22layers%22%20style%3D%22opacity%3A%201%3B%22%3E%3Cg%20class%3D%22legendfill%22%2F%3E%3Cg%20class%3D%22legendlines%22%2F%3E%3Cg%20class%3D%22legendsymbols%22%3E%3Cg%20class%3D%22legendpoints%22%3E%3Cpath%20class%3D%22legendpie%22%20d%3D%22M6%2C6H-6V-6H6Z%22%20transform%3D%22translate(20%2C0)%22%20style%3D%22stroke-width%3A%200%3B%20fill%3A%20rgb(89%2C%20161%2C%2079)%3B%20fill-opacity%3A%201%3B%20stroke%3A%20rgb(68%2C%2068%2C%2068)%3B%20stroke-opacity%3A%201%3B%22%2F%3E%3C%2Fg%3E%3C%2Fg%3E%3C%2Fg%3E%3Crect%20class%3D%22legendtoggle%22%20pointer-events%3D%22all%22%20x%3D%220%22%20y%3D%22-9.5%22%20width%3D%22313.2375183105469%22%20height%3D%2219%22%20style%3D%22cursor%3A%20pointer%3B%20fill%3A%20rgb(0%2C%200%2C%200)%3B%20fill-opacity%3A%200%3B%22%2F%3E%3C%2Fg%3E%3Cg%20class%3D%22traces%22%20transform%3D%22translate(0%2C109.5)%22%20style%3D%22opacity%3A%201%3B%22%3E%3Ctext%20class%3D%22legendtext%22%20text-anchor%3D%22start%22%20x%3D%2240%22%20y%3D%224.680000000000001%22%20data-unformatted%3D%22replies%2C%20Ronald%20van%20Loon%22%20data-math%3D%22N%22%20style%3D%22font-family%3A%20%26quot%3BOpen%20Sans%26quot%3B%2C%20verdana%2C%20arial%2C%20sans-serif%3B%20font-size%3A%2012px%3B%20fill%3A%20rgb(89%2C%2089%2C%2089)%3B%20fill-opacity%3A%201%3B%20white-space%3A%20pre%3B%22%3Ereplies%2C%20Ronald%20van%20Loon%3C%2Ftext%3E%3Cg%20class%3D%22layers%22%20style%3D%22opacity%3A%201%3B%22%3E%3Cg%20class%3D%22legendfill%22%2F%3E%3Cg%20class%3D%22legendlines%22%2F%3E%3Cg%20class%3D%22legendsymbols%22%3E%3Cg%20class%3D%22legendpoints%22%3E%3Cpath%20class%3D%22legendpie%22%20d%3D%22M6%2C6H-6V-6H6Z%22%20transform%3D%22translate(20%2C0)%22%20style%3D%22stroke-width%3A%200%3B%20fill%3A%20rgb(237%2C%20201%2C%2073)%3B%20fill-opacity%3A%201%3B%20stroke%3A%20rgb(68%2C%2068%2C%2068)%3B%20stroke-opacity%3A%201%3B%22%2F%3E%3C%2Fg%3E%3C%2Fg%3E%3C%2Fg%3E%3Crect%20class%3D%22legendtoggle%22%20pointer-events%3D%22all%22%20x%3D%220%22%20y%3D%22-9.5%22%20width%3D%22313.2375183105469%22%20height%3D%2219%22%20style%3D%22cursor%3A%20pointer%3B%20fill%3A%20rgb(0%2C%200%2C%200)%3B%20fill-opacity%3A%200%3B%22%2F%3E%3C%2Fg%3E%3Cg%20class%3D%22traces%22%20transform%3D%22translate(0%2C128.5)%22%20style%3D%22opacity%3A%201%3B%22%3E%3Ctext%20class%3D%22legendtext%22%20text-anchor%3D%22start%22%20x%3D%2240%22%20y%3D%224.680000000000001%22%20data-unformatted%3D%22replies%2C%20Sergey%20Levine%22%20data-math%3D%22N%22%20style%3D%22font-family%3A%20%26quot%3BOpen%20Sans%26quot%3B%2C%20verdana%2C%20arial%2C%20sans-serif%3B%20font-size%3A%2012px%3B%20fill%3A%20rgb(89%2C%2089%2C%2089)%3B%20fill-opacity%3A%201%3B%20white-space%3A%20pre%3B%22%3Ereplies%2C%20Sergey%20Levine%3C%2Ftext%3E%3Cg%20class%3D%22layers%22%20style%3D%22opacity%3A%201%3B%22%3E%3Cg%20class%3D%22legendfill%22%2F%3E%3Cg%20class%3D%22legendlines%22%2F%3E%3Cg%20class%3D%22legendsymbols%22%3E%3Cg%20class%3D%22legendpoints%22%3E%3Cpath%20class%3D%22legendpie%22%20d%3D%22M6%2C6H-6V-6H6Z%22%20transform%3D%22translate(20%2C0)%22%20style%3D%22stroke-width%3A%200%3B%20fill%3A%20rgb(175%2C%20122%2C%20161)%3B%20fill-opacity%3A%201%3B%20stroke%3A%20rgb(68%2C%2068%2C%2068)%3B%20stroke-opacity%3A%201%3B%22%2F%3E%3C%2Fg%3E%3C%2Fg%3E%3C%2Fg%3E%3Crect%20class%3D%22legendtoggle%22%20pointer-events%3D%22all%22%20x%3D%220%22%20y%3D%22-9.5%22%20width%3D%22313.2375183105469%22%20height%3D%2219%22%20style%3D%22cursor%3A%20pointer%3B%20fill%3A%20rgb(0%2C%200%2C%200)%3B%20fill-opacity%3A%200%3B%22%2F%3E%3C%2Fg%3E%3Cg%20class%3D%22traces%22%20transform%3D%22translate(0%2C147.5)%22%20style%3D%22opacity%3A%201%3B%22%3E%3Ctext%20class%3D%22legendtext%22%20text-anchor%3D%22start%22%20x%3D%2240%22%20y%3D%224.680000000000001%22%20data-unformatted%3D%22replies%2C%20Carla%20Gentry%22%20data-math%3D%22N%22%20style%3D%22font-family%3A%20%26quot%3BOpen%20Sans%26quot%3B%2C%20verdana%2C%20arial%2C%20sans-serif%3B%20font-size%3A%2012px%3B%20fill%3A%20rgb(89%2C%2089%2C%2089)%3B%20fill-opacity%3A%201%3B%20white-space%3A%20pre%3B%22%3Ereplies%2C%20Carla%20Gentry%3C%2Ftext%3E%3Cg%20class%3D%22layers%22%20style%3D%22opacity%3A%201%3B%22%3E%3Cg%20class%3D%22legendfill%22%2F%3E%3Cg%20class%3D%22legendlines%22%2F%3E%3Cg%20class%3D%22legendsymbols%22%3E%3Cg%20class%3D%22legendpoints%22%3E%3Cpath%20class%3D%22legendpie%22%20d%3D%22M6%2C6H-6V-6H6Z%22%20transform%3D%22translate(20%2C0)%22%20style%3D%22stroke-width%3A%200%3B%20fill%3A%20rgb(255%2C%20157%2C%20167)%3B%20fill-opacity%3A%201%3B%20stroke%3A%20rgb(68%2C%2068%2C%2068)%3B%20stroke-opacity%3A%201%3B%22%2F%3E%3C%2Fg%3E%3C%2Fg%3E%3C%2Fg%3E%3Crect%20class%3D%22legendtoggle%22%20pointer-events%3D%22all%22%20x%3D%220%22%20y%3D%22-9.5%22%20width%3D%22313.2375183105469%22%20height%3D%2219%22%20style%3D%22cursor%3A%20pointer%3B%20fill%3A%20rgb(0%2C%200%2C%200)%3B%20fill-opacity%3A%200%3B%22%2F%3E%3C%2Fg%3E%3Cg%20class%3D%22traces%22%20transform%3D%22translate(0%2C166.5)%22%20style%3D%22opacity%3A%201%3B%22%3E%3Ctext%20class%3D%22legendtext%22%20text-anchor%3D%22start%22%20x%3D%2240%22%20y%3D%224.680000000000001%22%20data-unformatted%3D%22replies%2C%20Tamara%20McCleary%22%20data-math%3D%22N%22%20style%3D%22font-family%3A%20%26quot%3BOpen%20Sans%26quot%3B%2C%20verdana%2C%20arial%2C%20sans-serif%3B%20font-size%3A%2012px%3B%20fill%3A%20rgb(89%2C%2089%2C%2089)%3B%20fill-opacity%3A%201%3B%20white-space%3A%20pre%3B%22%3Ereplies%2C%20Tamara%20McCleary%3C%2Ftext%3E%3Cg%20class%3D%22layers%22%20style%3D%22opacity%3A%201%3B%22%3E%3Cg%20class%3D%22legendfill%22%2F%3E%3Cg%20class%3D%22legendlines%22%2F%3E%3Cg%20class%3D%22legendsymbols%22%3E%3Cg%20class%3D%22legendpoints%22%3E%3Cpath%20class%3D%22legendpie%22%20d%3D%22M6%2C6H-6V-6H6Z%22%20transform%3D%22translate(20%2C0)%22%20style%3D%22stroke-width%3A%200%3B%20fill%3A%20rgb(156%2C%20117%2C%2095)%3B%20fill-opacity%3A%201%3B%20stroke%3A%20rgb(68%2C%2068%2C%2068)%3B%20stroke-opacity%3A%201%3B%22%2F%3E%3C%2Fg%3E%3C%2Fg%3E%3C%2Fg%3E%3Crect%20class%3D%22legendtoggle%22%20pointer-events%3D%22all%22%20x%3D%220%22%20y%3D%22-9.5%22%20width%3D%22313.2375183105469%22%20height%3D%2219%22%20style%3D%22cursor%3A%20pointer%3B%20fill%3A%20rgb(0%2C%200%2C%200)%3B%20fill-opacity%3A%200%3B%22%2F%3E%3C%2Fg%3E%3Cg%20class%3D%22traces%22%20transform%3D%22translate(0%2C185.5)%22%20style%3D%22opacity%3A%201%3B%22%3E%3Ctext%20class%3D%22legendtext%22%20text-anchor%3D%22start%22%20x%3D%2240%22%20y%3D%224.680000000000001%22%20data-unformatted%3D%22replies%2C%20Yves%20Mulkers%22%20data-math%3D%22N%22%20style%3D%22font-family%3A%20%26quot%3BOpen%20Sans%26quot%3B%2C%20verdana%2C%20arial%2C%20sans-serif%3B%20font-size%3A%2012px%3B%20fill%3A%20rgb(89%2C%2089%2C%2089)%3B%20fill-opacity%3A%201%3B%20white-space%3A%20pre%3B%22%3Ereplies%2C%20Yves%20Mulkers%3C%2Ftext%3E%3Cg%20class%3D%22layers%22%20style%3D%22opacity%3A%201%3B%22%3E%3Cg%20class%3D%22legendfill%22%2F%3E%3Cg%20class%3D%22legendlines%22%2F%3E%3Cg%20class%3D%22legendsymbols%22%3E%3Cg%20class%3D%22legendpoints%22%3E%3Cpath%20class%3D%22legendpie%22%20d%3D%22M6%2C6H-6V-6H6Z%22%20transform%3D%22translate(20%2C0)%22%20style%3D%22stroke-width%3A%200%3B%20fill%3A%20rgb(186%2C%20176%2C%20171)%3B%20fill-opacity%3A%201%3B%20stroke%3A%20rgb(68%2C%2068%2C%2068)%3B%20stroke-opacity%3A%201%3B%22%2F%3E%3C%2Fg%3E%3C%2Fg%3E%3C%2Fg%3E%3Crect%20class%3D%22legendtoggle%22%20pointer-events%3D%22all%22%20x%3D%220%22%20y%3D%22-9.5%22%20width%3D%22313.2375183105469%22%20height%3D%2219%22%20style%3D%22cursor%3A%20pointer%3B%20fill%3A%20rgb(0%2C%200%2C%200)%3B%20fill-opacity%3A%200%3B%22%2F%3E%3C%2Fg%3E%3Cg%20class%3D%22traces%22%20transform%3D%22translate(0%2C204.5)%22%20style%3D%22opacity%3A%201%3B%22%3E%3Ctext%20class%3D%22legendtext%22%20text-anchor%3D%22start%22%20x%3D%2240%22%20y%3D%224.680000000000001%22%20data-unformatted%3D%22replies%2C%20Ayodele%20%7C%20Data%20Science%20Career%20Coach%22%20data-math%3D%22N%22%20style%3D%22font-family%3A%20%26quot%3BOpen%20Sans%26quot%3B%2C%20verdana%2C%20arial%2C%20sans-serif%3B%20font-size%3A%2012px%3B%20fill%3A%20rgb(89%2C%2089%2C%2089)%3B%20fill-opacity%3A%201%3B%20white-space%3A%20pre%3B%22%3Ereplies%2C%20Ayodele%20%7C%20Data%20Science%20Career%20Coach%3C%2Ftext%3E%3Cg%20class%3D%22layers%22%20style%3D%22opacity%3A%201%3B%22%3E%3Cg%20class%3D%22legendfill%22%2F%3E%3Cg%20class%3D%22legendlines%22%2F%3E%3Cg%20class%3D%22legendsymbols%22%3E%3Cg%20class%3D%22legendpoints%22%3E%3Cpath%20class%3D%22legendpie%22%20d%3D%22M6%2C6H-6V-6H6Z%22%20transform%3D%22translate(20%2C0)%22%20style%3D%22stroke-width%3A%200%3B%20fill%3A%20rgb(144%2C%20172%2C%20203)%3B%20fill-opacity%3A%201%3B%20stroke%3A%20rgb(68%2C%2068%2C%2068)%3B%20stroke-opacity%3A%201%3B%22%2F%3E%3C%2Fg%3E%3C%2Fg%3E%3C%2Fg%3E%3Crect%20class%3D%22legendtoggle%22%20pointer-events%3D%22all%22%20x%3D%220%22%20y%3D%22-9.5%22%20width%3D%22313.2375183105469%22%20height%3D%2219%22%20style%3D%22cursor%3A%20pointer%3B%20fill%3A%20rgb(0%2C%200%2C%200)%3B%20fill-opacity%3A%200%3B%22%2F%3E%3C%2Fg%3E%3Cg%20class%3D%22traces%22%20transform%3D%22translate(0%2C223.5)%22%20style%3D%22opacity%3A%201%3B%22%3E%3Ctext%20class%3D%22legendtext%22%20text-anchor%3D%22start%22%20x%3D%2240%22%20y%3D%224.680000000000001%22%20data-unformatted%3D%22replies%2C%20ipfconline%20%23VivaTech%22%20data-math%3D%22N%22%20style%3D%22font-family%3A%20%26quot%3BOpen%20Sans%26quot%3B%2C%20verdana%2C%20arial%2C%20sans-serif%3B%20font-size%3A%2012px%3B%20fill%3A%20rgb(89%2C%2089%2C%2089)%3B%20fill-opacity%3A%201%3B%20white-space%3A%20pre%3B%22%3Ereplies%2C%20ipfconline%20%23VivaTech%3C%2Ftext%3E%3Cg%20class%3D%22layers%22%20style%3D%22opacity%3A%201%3B%22%3E%3Cg%20class%3D%22legendfill%22%2F%3E%3Cg%20class%3D%22legendlines%22%2F%3E%3Cg%20class%3D%22legendsymbols%22%3E%3Cg%20class%3D%22legendpoints%22%3E%3Cpath%20class%3D%22legendpie%22%20d%3D%22M6%2C6H-6V-6H6Z%22%20transform%3D%22translate(20%2C0)%22%20style%3D%22stroke-width%3A%200%3B%20fill%3A%20rgb(248%2C%20193%2C%20140)%3B%20fill-opacity%3A%201%3B%20stroke%3A%20rgb(68%2C%2068%2C%2068)%3B%20stroke-opacity%3A%201%3B%22%2F%3E%3C%2Fg%3E%3C%2Fg%3E%3C%2Fg%3E%3Crect%20class%3D%22legendtoggle%22%20pointer-events%3D%22all%22%20x%3D%220%22%20y%3D%22-9.5%22%20width%3D%22313.2375183105469%22%20height%3D%2219%22%20style%3D%22cursor%3A%20pointer%3B%20fill%3A%20rgb(0%2C%200%2C%200)%3B%20fill-opacity%3A%200%3B%22%2F%3E%3C%2Fg%3E%3Cg%20class%3D%22traces%22%20transform%3D%22translate(0%2C242.5)%22%20style%3D%22opacity%3A%201%3B%22%3E%3Ctext%20class%3D%22legendtext%22%20text-anchor%3D%22start%22%20x%3D%2240%22%20y%3D%224.680000000000001%22%20data-unformatted%3D%22replies%2C%20Bob%20E.%20Hayes%22%20data-math%3D%22N%22%20style%3D%22font-family%3A%20%26quot%3BOpen%20Sans%26quot%3B%2C%20verdana%2C%20arial%2C%20sans-serif%3B%20font-size%3A%2012px%3B%20fill%3A%20rgb(89%2C%2089%2C%2089)%3B%20fill-opacity%3A%201%3B%20white-space%3A%20pre%3B%22%3Ereplies%2C%20Bob%20E.%20Hayes%3C%2Ftext%3E%3Cg%20class%3D%22layers%22%20style%3D%22opacity%3A%201%3B%22%3E%3Cg%20class%3D%22legendfill%22%2F%3E%3Cg%20class%3D%22legendlines%22%2F%3E%3Cg%20class%3D%22legendsymbols%22%3E%3Cg%20class%3D%22legendpoints%22%3E%3Cpath%20class%3D%22legendpie%22%20d%3D%22M6%2C6H-6V-6H6Z%22%20transform%3D%22translate(20%2C0)%22%20style%3D%22stroke-width%3A%200%3B%20fill%3A%20rgb(240%2C%20174%2C%20174)%3B%20fill-opacity%3A%201%3B%20stroke%3A%20rgb(68%2C%2068%2C%2068)%3B%20stroke-opacity%3A%201%3B%22%2F%3E%3C%2Fg%3E%3C%2Fg%3E%3C%2Fg%3E%3Crect%20class%3D%22legendtoggle%22%20pointer-events%3D%22all%22%20x%3D%220%22%20y%3D%22-9.5%22%20width%3D%22313.2375183105469%22%20height%3D%2219%22%20style%3D%22cursor%3A%20pointer%3B%20fill%3A%20rgb(0%2C%200%2C%200)%3B%20fill-opacity%3A%200%3B%22%2F%3E%3C%2Fg%3E%3Cg%20class%3D%22traces%22%20transform%3D%22translate(0%2C261.5)%22%20style%3D%22opacity%3A%201%3B%22%3E%3Ctext%20class%3D%22legendtext%22%20text-anchor%3D%22start%22%20x%3D%2240%22%20y%3D%224.680000000000001%22%20data-unformatted%3D%22replies%2C%20Terence%20Mills%20%E7%89%B9%E4%BC%A6%E6%96%AF%E7%B1%B3%E5%B0%94%E6%96%AF%22%20data-math%3D%22N%22%20style%3D%22font-family%3A%20%26quot%3BOpen%20Sans%26quot%3B%2C%20verdana%2C%20arial%2C%20sans-serif%3B%20font-size%3A%2012px%3B%20fill%3A%20rgb(89%2C%2089%2C%2089)%3B%20fill-opacity%3A%201%3B%20white-space%3A%20pre%3B%22%3Ereplies%2C%20Terence%20Mills%20%E7%89%B9%E4%BC%A6%E6%96%AF%E7%B1%B3%E5%B0%94%E6%96%AF%3C%2Ftext%3E%3Cg%20class%3D%22layers%22%20style%3D%22opacity%3A%201%3B%22%3E%3Cg%20class%3D%22legendfill%22%2F%3E%3Cg%20class%3D%22legendlines%22%2F%3E%3Cg%20class%3D%22legendsymbols%22%3E%3Cg%20class%3D%22legendpoints%22%3E%3Cpath%20class%3D%22legendpie%22%20d%3D%22M6%2C6H-6V-6H6Z%22%20transform%3D%22translate(20%2C0)%22%20style%3D%22stroke-width%3A%200%3B%20fill%3A%20rgb(185%2C%20218%2C%20216)%3B%20fill-opacity%3A%201%3B%20stroke%3A%20rgb(68%2C%2068%2C%2068)%3B%20stroke-opacity%3A%201%3B%22%2F%3E%3C%2Fg%3E%3C%2Fg%3E%3C%2Fg%3E%3Crect%20class%3D%22legendtoggle%22%20pointer-events%3D%22all%22%20x%3D%220%22%20y%3D%22-9.5%22%20width%3D%22313.2375183105469%22%20height%3D%2219%22%20style%3D%22cursor%3A%20pointer%3B%20fill%3A%20rgb(0%2C%200%2C%200)%3B%20fill-opacity%3A%200%3B%22%2F%3E%3C%2Fg%3E%3Cg%20class%3D%22traces%22%20transform%3D%22translate(0%2C280.5)%22%20style%3D%22opacity%3A%201%3B%22%3E%3Ctext%20class%3D%22legendtext%22%20text-anchor%3D%22start%22%20x%3D%2240%22%20y%3D%224.680000000000001%22%20data-unformatted%3D%22replies%2C%20Pascal%20Bornet%22%20data-math%3D%22N%22%20style%3D%22font-family%3A%20%26quot%3BOpen%20Sans%26quot%3B%2C%20verdana%2C%20arial%2C%20sans-serif%3B%20font-size%3A%2012px%3B%20fill%3A%20rgb(89%2C%2089%2C%2089)%3B%20fill-opacity%3A%201%3B%20white-space%3A%20pre%3B%22%3Ereplies%2C%20Pascal%20Bornet%3C%2Ftext%3E%3Cg%20class%3D%22layers%22%20style%3D%22opacity%3A%201%3B%22%3E%3Cg%20class%3D%22legendfill%22%2F%3E%3Cg%20class%3D%22legendlines%22%2F%3E%3Cg%20class%3D%22legendsymbols%22%3E%3Cg%20class%3D%22legendpoints%22%3E%3Cpath%20class%3D%22legendpie%22%20d%3D%22M6%2C6H-6V-6H6Z%22%20transform%3D%22translate(20%2C0)%22%20style%3D%22stroke-width%3A%200%3B%20fill%3A%20rgb(149%2C%20200%2C%20142)%3B%20fill-opacity%3A%201%3B%20stroke%3A%20rgb(68%2C%2068%2C%2068)%3B%20stroke-opacity%3A%201%3B%22%2F%3E%3C%2Fg%3E%3C%2Fg%3E%3C%2Fg%3E%3Crect%20class%3D%22legendtoggle%22%20pointer-events%3D%22all%22%20x%3D%220%22%20y%3D%22-9.5%22%20width%3D%22313.2375183105469%22%20height%3D%2219%22%20style%3D%22cursor%3A%20pointer%3B%20fill%3A%20rgb(0%2C%200%2C%200)%3B%20fill-opacity%3A%200%3B%22%2F%3E%3C%2Fg%3E%3Cg%20class%3D%22traces%22%20transform%3D%22translate(0%2C299.5)%22%20style%3D%22opacity%3A%201%3B%22%3E%3Ctext%20class%3D%22legendtext%22%20text-anchor%3D%22start%22%20x%3D%2240%22%20y%3D%224.680000000000001%22%20data-unformatted%3D%22replies%2C%20Roger%20D.%20Peng%22%20data-math%3D%22N%22%20style%3D%22font-family%3A%20%26quot%3BOpen%20Sans%26quot%3B%2C%20verdana%2C%20arial%2C%20sans-serif%3B%20font-size%3A%2012px%3B%20fill%3A%20rgb(89%2C%2089%2C%2089)%3B%20fill-opacity%3A%201%3B%20white-space%3A%20pre%3B%22%3Ereplies%2C%20Roger%20D.%20Peng%3C%2Ftext%3E%3Cg%20class%3D%22layers%22%20style%3D%22opacity%3A%201%3B%22%3E%3Cg%20class%3D%22legendfill%22%2F%3E%3Cg%20class%3D%22legendlines%22%2F%3E%3Cg%20class%3D%22legendsymbols%22%3E%3Cg%20class%3D%22legendpoints%22%3E%3Cpath%20class%3D%22legendpie%22%20d%3D%22M6%2C6H-6V-6H6Z%22%20transform%3D%22translate(20%2C0)%22%20style%3D%22stroke-width%3A%200%3B%20fill%3A%20rgb(246%2C%20229%2C%20166)%3B%20fill-opacity%3A%201%3B%20stroke%3A%20rgb(68%2C%2068%2C%2068)%3B%20stroke-opacity%3A%201%3B%22%2F%3E%3C%2Fg%3E%3C%2Fg%3E%3C%2Fg%3E%3Crect%20class%3D%22legendtoggle%22%20pointer-events%3D%22all%22%20x%3D%220%22%20y%3D%22-9.5%22%20width%3D%22313.2375183105469%22%20height%3D%2219%22%20style%3D%22cursor%3A%20pointer%3B%20fill%3A%20rgb(0%2C%200%2C%200)%3B%20fill-opacity%3A%200%3B%22%2F%3E%3C%2Fg%3E%3Cg%20class%3D%22traces%22%20transform%3D%22translate(0%2C318.5)%22%20style%3D%22opacity%3A%201%3B%22%3E%3Ctext%20class%3D%22legendtext%22%20text-anchor%3D%22start%22%20x%3D%2240%22%20y%3D%224.680000000000001%22%20data-unformatted%3D%22replies%2C%20Randy%20Olson%22%20data-math%3D%22N%22%20style%3D%22font-family%3A%20%26quot%3BOpen%20Sans%26quot%3B%2C%20verdana%2C%20arial%2C%20sans-serif%3B%20font-size%3A%2012px%3B%20fill%3A%20rgb(89%2C%2089%2C%2089)%3B%20fill-opacity%3A%201%3B%20white-space%3A%20pre%3B%22%3Ereplies%2C%20Randy%20Olson%3C%2Ftext%3E%3Cg%20class%3D%22layers%22%20style%3D%22opacity%3A%201%3B%22%3E%3Cg%20class%3D%22legendfill%22%2F%3E%3Cg%20class%3D%22legendlines%22%2F%3E%3Cg%20class%3D%22legendsymbols%22%3E%3Cg%20class%3D%22legendpoints%22%3E%3Cpath%20class%3D%22legendpie%22%20d%3D%22M6%2C6H-6V-6H6Z%22%20transform%3D%22translate(20%2C0)%22%20style%3D%22stroke-width%3A%200%3B%20fill%3A%20rgb(213%2C%20186%2C%20206)%3B%20fill-opacity%3A%201%3B%20stroke%3A%20rgb(68%2C%2068%2C%2068)%3B%20stroke-opacity%3A%201%3B%22%2F%3E%3C%2Fg%3E%3C%2Fg%3E%3C%2Fg%3E%3Crect%20class%3D%22legendtoggle%22%20pointer-events%3D%22all%22%20x%3D%220%22%20y%3D%22-9.5%22%20width%3D%22313.2375183105469%22%20height%3D%2219%22%20style%3D%22cursor%3A%20pointer%3B%20fill%3A%20rgb(0%2C%200%2C%200)%3B%20fill-opacity%3A%200%3B%22%2F%3E%3C%2Fg%3E%3Cg%20class%3D%22traces%22%20transform%3D%22translate(0%2C337.5)%22%20style%3D%22opacity%3A%201%3B%22%3E%3Ctext%20class%3D%22legendtext%22%20text-anchor%3D%22start%22%20x%3D%2240%22%20y%3D%224.680000000000001%22%20data-unformatted%3D%22replies%2C%20Ayodele%20(eye-ya-deli)%20is%20fullyVaxxed%22%20data-math%3D%22N%22%20style%3D%22font-family%3A%20%26quot%3BOpen%20Sans%26quot%3B%2C%20verdana%2C%20arial%2C%20sans-serif%3B%20font-size%3A%2012px%3B%20fill%3A%20rgb(89%2C%2089%2C%2089)%3B%20fill-opacity%3A%201%3B%20white-space%3A%20pre%3B%22%3Ereplies%2C%20Ayodele%20(eye-ya-deli)%20is%20fullyVaxxed%3C%2Ftext%3E%3Cg%20class%3D%22layers%22%20style%3D%22opacity%3A%201%3B%22%3E%3Cg%20class%3D%22legendfill%22%2F%3E%3Cg%20class%3D%22legendlines%22%2F%3E%3Cg%20class%3D%22legendsymbols%22%3E%3Cg%20class%3D%22legendpoints%22%3E%3Cpath%20class%3D%22legendpie%22%20d%3D%22M6%2C6H-6V-6H6Z%22%20transform%3D%22translate(20%2C0)%22%20style%3D%22stroke-width%3A%200%3B%20fill%3A%20rgb(255%2C%20255%2C%20255)%3B%20fill-opacity%3A%201%3B%20stroke%3A%20rgb(68%2C%2068%2C%2068)%3B%20stroke-opacity%3A%201%3B%22%2F%3E%3C%2Fg%3E%3C%2Fg%3E%3C%2Fg%3E%3Crect%20class%3D%22legendtoggle%22%20pointer-events%3D%22all%22%20x%3D%220%22%20y%3D%22-9.5%22%20width%3D%22313.2375183105469%22%20height%3D%2219%22%20style%3D%22cursor%3A%20pointer%3B%20fill%3A%20rgb(0%2C%200%2C%200)%3B%20fill-opacity%3A%200%3B%22%2F%3E%3C%2Fg%3E%3Cg%20class%3D%22traces%22%20transform%3D%22translate(0%2C356.5)%22%20style%3D%22opacity%3A%201%3B%22%3E%3Ctext%20class%3D%22legendtext%22%20text-anchor%3D%22start%22%20x%3D%2240%22%20y%3D%224.680000000000001%22%20data-unformatted%3D%22replies%2C%20Dr.%20Jacqueline%20Nolis%22%20data-math%3D%22N%22%20style%3D%22font-family%3A%20%26quot%3BOpen%20Sans%26quot%3B%2C%20verdana%2C%20arial%2C%20sans-serif%3B%20font-size%3A%2012px%3B%20fill%3A%20rgb(89%2C%2089%2C%2089)%3B%20fill-opacity%3A%201%3B%20white-space%3A%20pre%3B%22%3Ereplies%2C%20Dr.%20Jacqueline%20Nolis%3C%2Ftext%3E%3Cg%20class%3D%22layers%22%20style%3D%22opacity%3A%201%3B%22%3E%3Cg%20class%3D%22legendfill%22%2F%3E%3Cg%20class%3D%22legendlines%22%2F%3E%3Cg%20class%3D%22legendsymbols%22%3E%3Cg%20class%3D%22legendpoints%22%3E%3Cpath%20class%3D%22legendpie%22%20d%3D%22M6%2C6H-6V-6H6Z%22%20transform%3D%22translate(20%2C0)%22%20style%3D%22stroke-width%3A%200%3B%20fill%3A%20rgb(196%2C%20171%2C%20157)%3B%20fill-opacity%3A%201%3B%20stroke%3A%20rgb(68%2C%2068%2C%2068)%3B%20stroke-opacity%3A%201%3B%22%2F%3E%3C%2Fg%3E%3C%2Fg%3E%3C%2Fg%3E%3Crect%20class%3D%22legendtoggle%22%20pointer-events%3D%22all%22%20x%3D%220%22%20y%3D%22-9.5%22%20width%3D%22313.2375183105469%22%20height%3D%2219%22%20style%3D%22cursor%3A%20pointer%3B%20fill%3A%20rgb(0%2C%200%2C%200)%3B%20fill-opacity%3A%200%3B%22%2F%3E%3C%2Fg%3E%3Cg%20class%3D%22traces%22%20transform%3D%22translate(0%2C375.5)%22%20style%3D%22opacity%3A%201%3B%22%3E%3Ctext%20class%3D%22legendtext%22%20text-anchor%3D%22start%22%20x%3D%2240%22%20y%3D%224.680000000000001%22%20data-unformatted%3D%22replies%2C%20Maximilian%20Igl%22%20data-math%3D%22N%22%20style%3D%22font-family%3A%20%26quot%3BOpen%20Sans%26quot%3B%2C%20verdana%2C%20arial%2C%20sans-serif%3B%20font-size%3A%2012px%3B%20fill%3A%20rgb(89%2C%2089%2C%2089)%3B%20fill-opacity%3A%201%3B%20white-space%3A%20pre%3B%22%3Ereplies%2C%20Maximilian%20Igl%3C%2Ftext%3E%3Cg%20class%3D%22layers%22%20style%3D%22opacity%3A%201%3B%22%3E%3Cg%20class%3D%22legendfill%22%2F%3E%3Cg%20class%3D%22legendlines%22%2F%3E%3Cg%20class%3D%22legendsymbols%22%3E%3Cg%20class%3D%22legendpoints%22%3E%3Cpath%20class%3D%22legendpie%22%20d%3D%22M6%2C6H-6V-6H6Z%22%20transform%3D%22translate(20%2C0)%22%20style%3D%22stroke-width%3A%200%3B%20fill%3A%20rgb(232%2C%20229%2C%20227)%3B%20fill-opacity%3A%201%3B%20stroke%3A%20rgb(68%2C%2068%2C%2068)%3B%20stroke-opacity%3A%201%3B%22%2F%3E%3C%2Fg%3E%3C%2Fg%3E%3C%2Fg%3E%3Crect%20class%3D%22legendtoggle%22%20pointer-events%3D%22all%22%20x%3D%220%22%20y%3D%22-9.5%22%20width%3D%22313.2375183105469%22%20height%3D%2219%22%20style%3D%22cursor%3A%20pointer%3B%20fill%3A%20rgb(0%2C%200%2C%200)%3B%20fill-opacity%3A%200%3B%22%2F%3E%3C%2Fg%3E%3Cg%20class%3D%22traces%22%20transform%3D%22translate(0%2C394.5)%22%20style%3D%22opacity%3A%201%3B%22%3E%3Ctext%20class%3D%22legendtext%22%20text-anchor%3D%22start%22%20x%3D%2240%22%20y%3D%224.680000000000001%22%20data-unformatted%3D%22replies%2C%20Sebastian%20Raschka%22%20data-math%3D%22N%22%20style%3D%22font-family%3A%20%26quot%3BOpen%20Sans%26quot%3B%2C%20verdana%2C%20arial%2C%20sans-serif%3B%20font-size%3A%2012px%3B%20fill%3A%20rgb(89%2C%2089%2C%2089)%3B%20fill-opacity%3A%201%3B%20white-space%3A%20pre%3B%22%3Ereplies%2C%20Sebastian%20Raschka%3C%2Ftext%3E%3Cg%20class%3D%22layers%22%20style%3D%22opacity%3A%201%3B%22%3E%3Cg%20class%3D%22legendfill%22%2F%3E%3Cg%20class%3D%22legendlines%22%2F%3E%3Cg%20class%3D%22legendsymbols%22%3E%3Cg%20class%3D%22legendpoints%22%3E%3Cpath%20class%3D%22legendpie%22%20d%3D%22M6%2C6H-6V-6H6Z%22%20transform%3D%22translate(20%2C0)%22%20style%3D%22stroke-width%3A%200%3B%20fill%3A%20rgb(46%2C%2071%2C%2097)%3B%20fill-opacity%3A%201%3B%20stroke%3A%20rgb(68%2C%2068%2C%2068)%3B%20stroke-opacity%3A%201%3B%22%2F%3E%3C%2Fg%3E%3C%2Fg%3E%3C%2Fg%3E%3Crect%20class%3D%22legendtoggle%22%20pointer-events%3D%22all%22%20x%3D%220%22%20y%3D%22-9.5%22%20width%3D%22313.2375183105469%22%20height%3D%2219%22%20style%3D%22cursor%3A%20pointer%3B%20fill%3A%20rgb(0%2C%200%2C%200)%3B%20fill-opacity%3A%200%3B%22%2F%3E%3C%2Fg%3E%3C%2Fg%3E%3C%2Fg%3E%3Crect%20class%3D%22scrollbar%22%20rx%3D%2220%22%20ry%3D%223%22%20width%3D%226%22%20height%3D%22143.1882640586797%22%20x%3D%22319%22%20y%3D%224%22%20style%3D%22fill%3A%20rgb(128%2C%20139%2C%20164)%3B%20fill-opacity%3A%201%3B%22%2F%3E%3C%2Fg%3E%3Cg%20class%3D%22g-gtitle%22%2F%3E%3C%2Fg%3E%3Cg%20class%3D%22menulayer%22%2F%3E%3Cg%20class%3D%22zoomlayer%22%2F%3E%3Cg%20class%3D%22hoverlayer%22%2F%3E%3C%2Fsvg%3E\">"
      ],
      "text/plain": [
       "Open the notebook in JupyterLab with the atoti extension enabled to build this widget."
      ]
     },
     "metadata": {},
     "output_type": "display_data"
    }
   ],
   "source": [
    "session.visualize(\n",
    "    \"Top 5 influencers for Top 5 topics - With regard to the average number of replies\"\n",
    ")"
   ]
  },
  {
   "cell_type": "markdown",
   "metadata": {},
   "source": [
    "The above graphs (donuts) show the top 5 influencers with the highest replies rates related to the 5 most popular topics.\n",
    "\n",
    "We can observe variable distribution of the avreage number of replies per tweet between the different topics.\n",
    "\n",
    "If we consider Perdo Domingos for example, we observe that he has the highest replies rate (15 replies per tweet) for the topic 186 (the mos popular one), but is not even amongst the top 5 replied influencers for the other topics.\n",
    "\n",
    "Which confirms our preceding assumption."
   ]
  },
  {
   "cell_type": "markdown",
   "metadata": {},
   "source": [
    "#### Top 5 influencers for Top 5 topics - With regard to the average number of retweets and quotes"
   ]
  },
  {
   "cell_type": "code",
   "execution_count": 32,
   "metadata": {
    "atoti": {
     "widget": {
      "filters": [
       "TopCount(Filter([influencer].[topic].Levels(1).Members, NOT IsEmpty([Measures].[contributors.COUNT])), 5, [Measures].[contributors.COUNT])"
      ],
      "mapping": {
       "horizontalSubplots": [
        "[influencer].[topic].[topic]"
       ],
       "sliceBy": [
        "ALL_MEASURES",
        "[influencer].[name].[name]"
       ],
       "values": [
        "[Measures].[retweets_quotes]"
       ],
       "verticalSubplots": []
      },
      "query": {
       "mdx": "SELECT NON EMPTY Order(GENERATE([influencer].[topic].[topic].Members, TOPCOUNT([influencer].[topic].CURRENTMEMBER * [influencer].[name].[name].MEMBERS, 5, [Measures].[retweets_quotes])), [Measures].[contributors.COUNT], DESC) ON ROWS, NON EMPTY {[Measures].[retweets_quotes]} ON COLUMNS FROM [influencer_cube] CELL PROPERTIES VALUE, FORMATTED_VALUE, BACK_COLOR, FORE_COLOR, FONT_FLAGS",
       "updateMode": "once"
      },
      "serverKey": "default",
      "widgetKey": "plotly-donut-chart"
     }
    },
    "tags": []
   },
   "outputs": [
    {
     "data": {
      "application/vnd.atoti.widget.v0+json": {
       "name": "Top 5 influencers for Top 5 topics - With regard to the average number of retweets and quotes",
       "sessionId": "1648807225_BF0YEB",
       "sessionLocation": {
        "https": null,
        "port": 61470
       },
       "widgetCreationCode": "session.visualize()"
      },
      "text/html": [
       "<img src=\"data:image/svg+xml;charset=utf8,%3C%3Fxml%20version%3D%221.0%22%20standalone%3D%22no%22%3F%3E%3Csvg%20xmlns%3D%22http%3A%2F%2Fwww.w3.org%2F2000%2Fsvg%22%20xmlns%3Axlink%3D%22http%3A%2F%2Fwww.w3.org%2F1999%2Fxlink%22%20height%3D%22352%22%20width%3D%22967%22%20viewBox%3D%220%200%20967%20352%22%3E%3Cdefs%20id%3D%22defs-ee9a95%22%3E%3Cg%20class%3D%22clips%22%2F%3E%3Cg%20class%3D%22gradients%22%2F%3E%3C%2Fdefs%3E%3Cg%20class%3D%22bglayer%22%2F%3E%3Cg%20class%3D%22draglayer%22%2F%3E%3Cg%20class%3D%22layer-below%22%3E%3Cg%20class%3D%22imagelayer%22%2F%3E%3Cg%20class%3D%22shapelayer%22%2F%3E%3C%2Fg%3E%3Cg%20class%3D%22cartesianlayer%22%2F%3E%3Cg%20class%3D%22polarlayer%22%2F%3E%3Cg%20class%3D%22ternarylayer%22%2F%3E%3Cg%20class%3D%22geolayer%22%2F%3E%3Cg%20class%3D%22funnelarealayer%22%2F%3E%3Cg%20class%3D%22pielayer%22%3E%3Cg%20class%3D%22trace%22%20stroke-linejoin%3D%22round%22%20style%3D%22opacity%3A%201%3B%22%3E%3Cg%20class%3D%22slice%22%3E%3Cpath%20class%3D%22surface%22%20d%3D%22M111.0545068278509%2C130.89838460606774a16.600000000000005%2C16.600000000000005%200%201%200%2010.445493172149096%2C-3.698384892170023l0%2C-24.900000000000002a41.50000000000001%2C41.50000000000001%200%201%201%20-26.113732930372738%2C9.245962230425057Z%22%20style%3D%22pointer-events%3A%20all%3B%20stroke-width%3A%200%3B%20fill%3A%20rgb(78%2C%20121%2C%20167)%3B%20fill-opacity%3A%201%3B%20stroke%3A%20rgb(68%2C%2068%2C%2068)%3B%20stroke-opacity%3A%201%3B%22%2F%3E%3C%2Fg%3E%3Cg%20class%3D%22slice%22%3E%3Cpath%20class%3D%22surface%22%20d%3D%22M121.5%2C127.1999997138977a16.600000000000005%2C16.600000000000005%200%200%200%20-5.693052547418528%2C1.0067593909305885l-8.53957882112779%2C-23.38986091360412a41.50000000000001%2C41.50000000000001%200%200%201%2014.232631368546318%2C-2.516898477326471Z%22%20style%3D%22pointer-events%3A%20all%3B%20stroke-width%3A%200%3B%20fill%3A%20rgb(242%2C%20142%2C%2044)%3B%20fill-opacity%3A%201%3B%20stroke%3A%20rgb(68%2C%2068%2C%2068)%3B%20stroke-opacity%3A%201%3B%22%2F%3E%3C%2Fg%3E%3Cg%20class%3D%22slice%22%3E%3Cpath%20class%3D%22surface%22%20d%3D%22M115.80694745258147%2C128.20675910482828a16.600000000000005%2C16.600000000000005%200%200%200%20-1.9771350497848346%2C0.871548375371964l-11.505281395805042%2C-22.082538350546177a41.50000000000001%2C41.50000000000001%200%200%201%204.942837624462086%2C-2.1788709384299096Z%22%20style%3D%22pointer-events%3A%20all%3B%20stroke-width%3A%200%3B%20fill%3A%20rgb(225%2C%2087%2C%2089)%3B%20fill-opacity%3A%201%3B%20stroke%3A%20rgb(68%2C%2068%2C%2068)%3B%20stroke-opacity%3A%201%3B%22%2F%3E%3C%2Fg%3E%3Cg%20class%3D%22slice%22%3E%3Cpath%20class%3D%22surface%22%20d%3D%22M113.82981240279663%2C129.07830748020027a16.600000000000005%2C16.600000000000005%200%200%200%20-1.5571936377202933%2C0.9225822788714197l-13.841071852385483%2C-20.698664932239044a41.50000000000001%2C41.50000000000001%200%200%201%203.892984094300733%2C-2.3064556971785493Z%22%20style%3D%22pointer-events%3A%20all%3B%20stroke-width%3A%200%3B%20fill%3A%20rgb(118%2C%20183%2C%20178)%3B%20fill-opacity%3A%201%3B%20stroke%3A%20rgb(68%2C%2068%2C%2068)%3B%20stroke-opacity%3A%201%3B%22%2F%3E%3C%2Fg%3E%3Cg%20class%3D%22slice%22%3E%3Cpath%20class%3D%22surface%22%20d%3D%22M112.27261876507634%2C130.00088975907167a16.600000000000005%2C16.600000000000005%200%200%200%20-1.2181119372254443%2C0.8974948469960566l-15.668239758223649%2C-19.35242266174496a41.50000000000001%2C41.50000000000001%200%200%201%203.0452798430636108%2C-2.2437371174901415Z%22%20style%3D%22pointer-events%3A%20all%3B%20stroke-width%3A%200%3B%20fill%3A%20rgb(89%2C%20161%2C%2079)%3B%20fill-opacity%3A%201%3B%20stroke%3A%20rgb(68%2C%2068%2C%2068)%3B%20stroke-opacity%3A%201%3B%22%2F%3E%3C%2Fg%3E%3Cg%20class%3D%22titletext%22%3E%3Ctext%20data-notex%3D%221%22%20class%3D%22titletext%22%20transform%3D%22translate(121.5%2C185.2999997138977)translate(0%2C12)%22%20text-anchor%3D%22middle%22%20data-unformatted%3D%22186%22%20data-math%3D%22N%22%20x%3D%220%22%20y%3D%220%22%20style%3D%22font-family%3A%20%26quot%3BOpen%20Sans%26quot%3B%2C%20verdana%2C%20arial%2C%20sans-serif%3B%20font-size%3A%2012px%3B%20fill%3A%20rgb(89%2C%2089%2C%2089)%3B%20fill-opacity%3A%201%3B%20white-space%3A%20pre%3B%22%3E186%3C%2Ftext%3E%3C%2Fg%3E%3C%2Fg%3E%3Cg%20class%3D%22trace%22%20stroke-linejoin%3D%22round%22%20style%3D%22opacity%3A%201%3B%22%3E%3Cg%20class%3D%22slice%22%3E%3Cpath%20class%3D%22surface%22%20d%3D%22M241.0688372070908%2C148.83233410417424a16.6%2C16.6%200%200%200%20-15.818837207090802%2C-21.632334390276522l0%2C-24.9a41.5%2C41.5%200%200%201%2039.547093017727%2C54.0808359756913Z%22%20style%3D%22pointer-events%3A%20all%3B%20stroke-width%3A%200%3B%20fill%3A%20rgb(78%2C%20121%2C%20167)%3B%20fill-opacity%3A%201%3B%20stroke%3A%20rgb(68%2C%2068%2C%2068)%3B%20stroke-opacity%3A%201%3B%22%2F%3E%3C%2Fg%3E%3Cg%20class%3D%22slice%22%3E%3Cpath%20class%3D%22surface%22%20d%3D%22M225.25%2C127.19999971389771a16.6%2C16.6%200%200%200%20-15.080523512204094%2C9.661858274879393l-22.62078526830614%2C-10.407212587680911a41.5%2C41.5%200%200%201%2037.70130878051023%2C-24.15464568719848Z%22%20style%3D%22pointer-events%3A%20all%3B%20stroke-width%3A%200%3B%20fill%3A%20rgb(237%2C%20201%2C%2073)%3B%20fill-opacity%3A%201%3B%20stroke%3A%20rgb(68%2C%2068%2C%2068)%3B%20stroke-opacity%3A%201%3B%22%2F%3E%3C%2Fg%3E%3Cg%20class%3D%22slice%22%3E%3Cpath%20class%3D%22surface%22%20d%3D%22M210.16947648779592%2C136.8618579887771a16.6%2C16.6%200%200%200%202.14778597507796%2C17.34507690296277l-19.399106305689198%2C15.610402766763244a41.5%2C41.5%200%200%201%20-5.3694649376949%2C-43.36269225740693Z%22%20style%3D%22pointer-events%3A%20all%3B%20stroke-width%3A%200%3B%20fill%3A%20rgb(175%2C%20122%2C%20161)%3B%20fill-opacity%3A%201%3B%20stroke%3A%20rgb(68%2C%2068%2C%2068)%3B%20stroke-opacity%3A%201%3B%22%2F%3E%3C%2Fg%3E%3Cg%20class%3D%22slice%22%3E%3Cpath%20class%3D%22surface%22%20d%3D%22M212.31726246287386%2C154.20693489173988a16.6%2C16.6%200%200%200%2016.484026718353995%2C5.808746896967207l5.32693377184179%2C24.323523112214055a41.5%2C41.5%200%200%201%20-41.210066795884984%2C-14.521867242418018Z%22%20style%3D%22pointer-events%3A%20all%3B%20stroke-width%3A%200%3B%20fill%3A%20rgb(255%2C%20157%2C%20167)%3B%20fill-opacity%3A%201%3B%20stroke%3A%20rgb(68%2C%2068%2C%2068)%3B%20stroke-opacity%3A%201%3B%22%2F%3E%3C%2Fg%3E%3Cg%20class%3D%22slice%22%3E%3Cpath%20class%3D%22surface%22%20d%3D%22M228.80128918122787%2C160.01568178870707a16.6%2C16.6%200%200%200%2012.267548025862936%2C-11.183347684532846l23.728255810636195%2C7.548501585414788a41.5%2C41.5%200%200%201%20-30.66887006465734%2C27.958369211332112Z%22%20style%3D%22pointer-events%3A%20all%3B%20stroke-width%3A%200%3B%20fill%3A%20rgb(156%2C%20117%2C%2095)%3B%20fill-opacity%3A%201%3B%20stroke%3A%20rgb(68%2C%2068%2C%2068)%3B%20stroke-opacity%3A%201%3B%22%2F%3E%3C%2Fg%3E%3Cg%20class%3D%22titletext%22%3E%3Ctext%20data-notex%3D%221%22%20class%3D%22titletext%22%20transform%3D%22translate(225.25%2C185.2999997138977)translate(0%2C12)%22%20text-anchor%3D%22middle%22%20data-unformatted%3D%2296%22%20data-math%3D%22N%22%20x%3D%220%22%20y%3D%220%22%20style%3D%22font-family%3A%20%26quot%3BOpen%20Sans%26quot%3B%2C%20verdana%2C%20arial%2C%20sans-serif%3B%20font-size%3A%2012px%3B%20fill%3A%20rgb(89%2C%2089%2C%2089)%3B%20fill-opacity%3A%201%3B%20white-space%3A%20pre%3B%22%3E96%3C%2Ftext%3E%3C%2Fg%3E%3C%2Fg%3E%3Cg%20class%3D%22trace%22%20stroke-linejoin%3D%22round%22%20style%3D%22opacity%3A%201%3B%22%3E%3Cg%20class%3D%22slice%22%3E%3Cpath%20class%3D%22surface%22%20d%3D%22M331.44838532457663%2C160.21844693957644a16.600000000000005%2C16.600000000000005%200%200%200%20-2.448385324576622%2C-33.01844722567875l0%2C-24.900000000000002a41.50000000000001%2C41.50000000000001%200%200%201%206.120963311441555%2C82.54611806419686Z%22%20style%3D%22pointer-events%3A%20all%3B%20stroke-width%3A%200%3B%20fill%3A%20rgb(186%2C%20176%2C%20171)%3B%20fill-opacity%3A%201%3B%20stroke%3A%20rgb(68%2C%2068%2C%2068)%3B%20stroke-opacity%3A%201%3B%22%2F%3E%3C%2Fg%3E%3Cg%20class%3D%22slice%22%3E%3Cpath%20class%3D%22surface%22%20d%3D%22M329%2C127.1999997138977a16.600000000000005%2C16.600000000000005%200%200%200%20-4.431249649282944%2C32.5976256533815l-6.646874473924416%2C23.996438480072246a41.50000000000001%2C41.50000000000001%200%200%201%2011.07812412320736%2C-81.49406413345375Z%22%20style%3D%22pointer-events%3A%20all%3B%20stroke-width%3A%200%3B%20fill%3A%20rgb(144%2C%20172%2C%20203)%3B%20fill-opacity%3A%201%3B%20stroke%3A%20rgb(68%2C%2068%2C%2068)%3B%20stroke-opacity%3A%201%3B%22%2F%3E%3C%2Fg%3E%3Cg%20class%3D%22slice%22%3E%3Cpath%20class%3D%22surface%22%20d%3D%22M324.56875035071704%2C159.7976253672792a16.600000000000005%2C16.600000000000005%200%200%200%203.534558343650394%2C0.5781381209488728l-1.3450369584488255%2C24.863645661495557a41.50000000000001%2C41.50000000000001%200%200%201%20-8.836395859125984%2C-1.445345302372182Z%22%20style%3D%22pointer-events%3A%20all%3B%20stroke-width%3A%200%3B%20fill%3A%20rgb(242%2C%20142%2C%2044)%3B%20fill-opacity%3A%201%3B%20stroke%3A%20rgb(68%2C%2068%2C%2068)%3B%20stroke-opacity%3A%201%3B%22%2F%3E%3C%2Fg%3E%3Cg%20class%3D%22slice%22%3E%3Cpath%20class%3D%22surface%22%20d%3D%22M328.10330869436746%2C160.37576348822807a16.600000000000005%2C16.600000000000005%200%200%200%201.871269652025876%2C-0.004396991631327296l1.4618675195899886%2C24.857050174048567a41.50000000000001%2C41.50000000000001%200%200%201%20-4.67817413006469%2C0.01099247907831824Z%22%20style%3D%22pointer-events%3A%20all%3B%20stroke-width%3A%200%3B%20fill%3A%20rgb(248%2C%20193%2C%20140)%3B%20fill-opacity%3A%201%3B%20stroke%3A%20rgb(68%2C%2068%2C%2068)%3B%20stroke-opacity%3A%201%3B%22%2F%3E%3C%2Fg%3E%3Cg%20class%3D%22slice%22%3E%3Cpath%20class%3D%22surface%22%20d%3D%22M329.97457834639334%2C160.37136649659675a16.600000000000005%2C16.600000000000005%200%200%200%201.4738069781832994%2C-0.1529195570203058l3.6725779868649377%2C24.627670838518107a41.50000000000001%2C41.50000000000001%200%200%201%20-3.6845174454582486%2C0.38229889255076444Z%22%20style%3D%22pointer-events%3A%20all%3B%20stroke-width%3A%200%3B%20fill%3A%20rgb(225%2C%2087%2C%2089)%3B%20fill-opacity%3A%201%3B%20stroke%3A%20rgb(68%2C%2068%2C%2068)%3B%20stroke-opacity%3A%201%3B%22%2F%3E%3C%2Fg%3E%3Cg%20class%3D%22titletext%22%3E%3Ctext%20data-notex%3D%221%22%20class%3D%22titletext%22%20transform%3D%22translate(329%2C185.2999997138977)translate(0%2C12)%22%20text-anchor%3D%22middle%22%20data-unformatted%3D%22112%22%20data-math%3D%22N%22%20x%3D%220%22%20y%3D%220%22%20style%3D%22font-family%3A%20%26quot%3BOpen%20Sans%26quot%3B%2C%20verdana%2C%20arial%2C%20sans-serif%3B%20font-size%3A%2012px%3B%20fill%3A%20rgb(89%2C%2089%2C%2089)%3B%20fill-opacity%3A%201%3B%20white-space%3A%20pre%3B%22%3E112%3C%2Ftext%3E%3C%2Fg%3E%3C%2Fg%3E%3Cg%20class%3D%22trace%22%20stroke-linejoin%3D%22round%22%20style%3D%22opacity%3A%201%3B%22%3E%3Cg%20class%3D%22slice%22%3E%3Cpath%20class%3D%22surface%22%20d%3D%22M444.2729642547972%2C155.74911243337047a16.60000000000001%2C16.60000000000001%200%200%200%20-11.52296425479723%2C-28.549112719472767l0%2C-24.900000000000013a41.50000000000002%2C41.50000000000002%200%200%201%2028.807410636993076%2C71.37278179868191Z%22%20style%3D%22pointer-events%3A%20all%3B%20stroke-width%3A%200%3B%20fill%3A%20rgb(240%2C%20174%2C%20174)%3B%20fill-opacity%3A%201%3B%20stroke%3A%20rgb(68%2C%2068%2C%2068)%3B%20stroke-opacity%3A%201%3B%22%2F%3E%3C%2Fg%3E%3Cg%20class%3D%22slice%22%3E%3Cpath%20class%3D%22surface%22%20d%3D%22M432.75%2C127.1999997138977a16.60000000000001%2C16.60000000000001%200%200%200%20-16.545795261154264%2C15.259604843352015l-24.81869289173139%2C-2.0105927349719925a41.50000000000002%2C41.50000000000002%200%200%201%2041.364488152885656%2C-38.149012108380035Z%22%20style%3D%22pointer-events%3A%20all%3B%20stroke-width%3A%200%3B%20fill%3A%20rgb(78%2C%20121%2C%20167)%3B%20fill-opacity%3A%201%3B%20stroke%3A%20rgb(68%2C%2068%2C%2068)%3B%20stroke-opacity%3A%201%3B%22%2F%3E%3C%2Fg%3E%3Cg%20class%3D%22slice%22%3E%3Cpath%20class%3D%22surface%22%20d%3D%22M416.20420473884576%2C142.45960455724972a16.60000000000001%2C16.60000000000001%200%200%200%208.417077583994356%2C15.81395549697298l-12.19307651573986%2C21.710340510487477a41.50000000000002%2C41.50000000000002%200%200%201%20-21.04269395998589%2C-39.53488874243245Z%22%20style%3D%22pointer-events%3A%20all%3B%20stroke-width%3A%200%3B%20fill%3A%20rgb(185%2C%20218%2C%20216)%3B%20fill-opacity%3A%201%3B%20stroke%3A%20rgb(68%2C%2068%2C%2068)%3B%20stroke-opacity%3A%201%3B%22%2F%3E%3C%2Fg%3E%3Cg%20class%3D%22slice%22%3E%3Cpath%20class%3D%22surface%22%20d%3D%22M424.6212823228401%2C158.27356005422268a16.60000000000001%2C16.60000000000001%200%200%200%2011.282130400723148%2C1.8241692007758161l4.730119085344861%2C24.4465943116512a41.50000000000002%2C41.50000000000002%200%200%201%20-28.20532600180787%2C-4.56042300193954Z%22%20style%3D%22pointer-events%3A%20all%3B%20stroke-width%3A%200%3B%20fill%3A%20rgb(149%2C%20200%2C%20142)%3B%20fill-opacity%3A%201%3B%20stroke%3A%20rgb(68%2C%2068%2C%2068)%3B%20stroke-opacity%3A%201%3B%22%2F%3E%3C%2Fg%3E%3Cg%20class%3D%22slice%22%3E%3Cpath%20class%3D%22surface%22%20d%3D%22M435.90341272356324%2C160.0977292549985a16.60000000000001%2C16.60000000000001%200%200%200%208.369551531233986%2C-4.348616821628044l17.28444638219584%2C17.923669079209137a41.50000000000002%2C41.50000000000002%200%200%201%20-20.923878828084963%2C10.871542054070108Z%22%20style%3D%22pointer-events%3A%20all%3B%20stroke-width%3A%200%3B%20fill%3A%20rgb(237%2C%20201%2C%2073)%3B%20fill-opacity%3A%201%3B%20stroke%3A%20rgb(68%2C%2068%2C%2068)%3B%20stroke-opacity%3A%201%3B%22%2F%3E%3C%2Fg%3E%3Cg%20class%3D%22titletext%22%3E%3Ctext%20data-notex%3D%221%22%20class%3D%22titletext%22%20transform%3D%22translate(432.75%2C185.29999971389773)translate(0%2C12)%22%20text-anchor%3D%22middle%22%20data-unformatted%3D%2222%22%20data-math%3D%22N%22%20x%3D%220%22%20y%3D%220%22%20style%3D%22font-family%3A%20%26quot%3BOpen%20Sans%26quot%3B%2C%20verdana%2C%20arial%2C%20sans-serif%3B%20font-size%3A%2012px%3B%20fill%3A%20rgb(89%2C%2089%2C%2089)%3B%20fill-opacity%3A%201%3B%20white-space%3A%20pre%3B%22%3E22%3C%2Ftext%3E%3C%2Fg%3E%3C%2Fg%3E%3Cg%20class%3D%22trace%22%20stroke-linejoin%3D%22round%22%20style%3D%22opacity%3A%201%3B%22%3E%3Cg%20class%3D%22slice%22%3E%3Cpath%20class%3D%22surface%22%20d%3D%22M550.9183577154813%2C152.02623583915098a16.599999999999998%2C16.599999999999998%200%200%200%20-14.418357715481262%2C-24.826236125253267l0%2C-24.899999999999995a41.49999999999999%2C41.49999999999999%200%200%201%2036.04589428870315%2C62.065590313133164Z%22%20style%3D%22pointer-events%3A%20all%3B%20stroke-width%3A%200%3B%20fill%3A%20rgb(149%2C%20200%2C%20142)%3B%20fill-opacity%3A%201%3B%20stroke%3A%20rgb(68%2C%2068%2C%2068)%3B%20stroke-opacity%3A%201%3B%22%2F%3E%3C%2Fg%3E%3Cg%20class%3D%22slice%22%3E%3Cpath%20class%3D%22surface%22%20d%3D%22M536.5%2C127.19999971389771a16.599999999999998%2C16.599999999999998%200%200%200%20-16.59528825942745%2C16.20451600979383l-24.892932389141173%2C-0.5932259853092526a41.49999999999999%2C41.49999999999999%200%200%201%2041.48822064856862%2C-40.51129002448457Z%22%20style%3D%22pointer-events%3A%20all%3B%20stroke-width%3A%200%3B%20fill%3A%20rgb(246%2C%20229%2C%20166)%3B%20fill-opacity%3A%201%3B%20stroke%3A%20rgb(68%2C%2068%2C%2068)%3B%20stroke-opacity%3A%201%3B%22%2F%3E%3C%2Fg%3E%3Cg%20class%3D%22slice%22%3E%3Cpath%20class%3D%22surface%22%20d%3D%22M519.9047117405726%2C143.40451572369153a16.599999999999998%2C16.599999999999998%200%200%200%2011.534192812375538%2C16.20514283775346l-7.591643170577865%2C23.714488271320935a41.49999999999999%2C41.49999999999999%200%200%201%20-28.835482030938845%2C-40.51285709438365Z%22%20style%3D%22pointer-events%3A%20all%3B%20stroke-width%3A%200%3B%20fill%3A%20rgb(213%2C%20186%2C%20206)%3B%20fill-opacity%3A%201%3B%20stroke%3A%20rgb(68%2C%2068%2C%2068)%3B%20stroke-opacity%3A%201%3B%22%2F%3E%3C%2Fg%3E%3Cg%20class%3D%22slice%22%3E%3Cpath%20class%3D%22surface%22%20d%3D%22M531.4389045529481%2C159.609658561445a16.599999999999998%2C16.599999999999998%200%200%200%2013.180467631899639%2C-1.3308538097024583l12.179058277271592%2C21.71820755676725a41.49999999999999%2C41.49999999999999%200%200%201%20-32.95116907974909%2C3.327134524256145Z%22%20style%3D%22pointer-events%3A%20all%3B%20stroke-width%3A%200%3B%20fill%3A%20rgb(78%2C%20121%2C%20167)%3B%20fill-opacity%3A%201%3B%20stroke%3A%20rgb(68%2C%2068%2C%2068)%3B%20stroke-opacity%3A%201%3B%22%2F%3E%3C%2Fg%3E%3Cg%20class%3D%22slice%22%3E%3Cpath%20class%3D%22surface%22%20d%3D%22M544.6193721848477%2C158.27880475174254a16.599999999999998%2C16.599999999999998%200%200%200%206.298985530633534%2C-6.252568912591568l21.627536573221892%2C12.339354187879898a41.49999999999999%2C41.49999999999999%200%200%201%20-15.747463826583832%2C15.631422281478919Z%22%20style%3D%22pointer-events%3A%20all%3B%20stroke-width%3A%200%3B%20fill%3A%20rgb(255%2C%20255%2C%20255)%3B%20fill-opacity%3A%201%3B%20stroke%3A%20rgb(68%2C%2068%2C%2068)%3B%20stroke-opacity%3A%201%3B%22%2F%3E%3C%2Fg%3E%3Cg%20class%3D%22titletext%22%3E%3Ctext%20data-notex%3D%221%22%20class%3D%22titletext%22%20transform%3D%22translate(536.5%2C185.2999997138977)translate(0%2C12)%22%20text-anchor%3D%22middle%22%20data-unformatted%3D%22329%22%20data-math%3D%22N%22%20x%3D%220%22%20y%3D%220%22%20style%3D%22font-family%3A%20%26quot%3BOpen%20Sans%26quot%3B%2C%20verdana%2C%20arial%2C%20sans-serif%3B%20font-size%3A%2012px%3B%20fill%3A%20rgb(89%2C%2089%2C%2089)%3B%20fill-opacity%3A%201%3B%20white-space%3A%20pre%3B%22%3E329%3C%2Ftext%3E%3C%2Fg%3E%3C%2Fg%3E%3C%2Fg%3E%3Cg%20class%3D%22treemaplayer%22%2F%3E%3Cg%20class%3D%22sunburstlayer%22%2F%3E%3Cg%20class%3D%22glimages%22%2F%3E%3Cdefs%20id%3D%22topdefs-ee9a95%22%3E%3Cg%20class%3D%22clips%22%2F%3E%3CclipPath%20id%3D%22legendee9a95%22%3E%3Crect%20width%3D%22389%22%20height%3D%22242%22%20x%3D%220%22%20y%3D%220%22%2F%3E%3C%2FclipPath%3E%3C%2Fdefs%3E%3Cg%20class%3D%22indicatorlayer%22%2F%3E%3Cg%20class%3D%22layer-above%22%3E%3Cg%20class%3D%22imagelayer%22%2F%3E%3Cg%20class%3D%22shapelayer%22%2F%3E%3C%2Fg%3E%3Cg%20class%3D%22infolayer%22%3E%3Cg%20class%3D%22legend%22%20pointer-events%3D%22all%22%20transform%3D%22translate(587.96%2C30)%22%3E%3Crect%20class%3D%22bg%22%20shape-rendering%3D%22crispEdges%22%20width%3D%22389%22%20height%3D%22242%22%20x%3D%220%22%20y%3D%220%22%20style%3D%22stroke%3A%20rgb(68%2C%2068%2C%2068)%3B%20stroke-opacity%3A%201%3B%20fill%3A%20rgb(255%2C%20255%2C%20255)%3B%20fill-opacity%3A%201%3B%20stroke-width%3A%200px%3B%22%2F%3E%3Cg%20class%3D%22scrollbox%22%20clip-path%3D%22url('%23legendee9a95')%22%20transform%3D%22%22%3E%3Cg%20class%3D%22groups%22%3E%3Cg%20class%3D%22traces%22%20transform%3D%22translate(0%2C14.5)%22%20style%3D%22opacity%3A%201%3B%22%3E%3Ctext%20class%3D%22legendtext%22%20text-anchor%3D%22start%22%20x%3D%2240%22%20y%3D%224.680000000000001%22%20data-unformatted%3D%22retweets_quotes%2C%20Hilary%20Parker%22%20data-math%3D%22N%22%20style%3D%22font-family%3A%20%26quot%3BOpen%20Sans%26quot%3B%2C%20verdana%2C%20arial%2C%20sans-serif%3B%20font-size%3A%2012px%3B%20fill%3A%20rgb(89%2C%2089%2C%2089)%3B%20fill-opacity%3A%201%3B%20white-space%3A%20pre%3B%22%3Eretweets_quotes%2C%20Hilary%20Parker%3C%2Ftext%3E%3Cg%20class%3D%22layers%22%20style%3D%22opacity%3A%201%3B%22%3E%3Cg%20class%3D%22legendfill%22%2F%3E%3Cg%20class%3D%22legendlines%22%2F%3E%3Cg%20class%3D%22legendsymbols%22%3E%3Cg%20class%3D%22legendpoints%22%3E%3Cpath%20class%3D%22legendpie%22%20d%3D%22M6%2C6H-6V-6H6Z%22%20transform%3D%22translate(20%2C0)%22%20style%3D%22stroke-width%3A%200%3B%20fill%3A%20rgb(78%2C%20121%2C%20167)%3B%20fill-opacity%3A%201%3B%20stroke%3A%20rgb(68%2C%2068%2C%2068)%3B%20stroke-opacity%3A%201%3B%22%2F%3E%3C%2Fg%3E%3C%2Fg%3E%3C%2Fg%3E%3Crect%20class%3D%22legendtoggle%22%20pointer-events%3D%22all%22%20x%3D%220%22%20y%3D%22-9.5%22%20width%3D%22373.7124938964844%22%20height%3D%2219%22%20style%3D%22cursor%3A%20pointer%3B%20fill%3A%20rgb(0%2C%200%2C%200)%3B%20fill-opacity%3A%200%3B%22%2F%3E%3C%2Fg%3E%3Cg%20class%3D%22traces%22%20transform%3D%22translate(0%2C33.5)%22%20style%3D%22opacity%3A%201%3B%22%3E%3Ctext%20class%3D%22legendtext%22%20text-anchor%3D%22start%22%20x%3D%2240%22%20y%3D%224.680000000000001%22%20data-unformatted%3D%22retweets_quotes%2C%20Yves%20Mulkers%22%20data-math%3D%22N%22%20style%3D%22font-family%3A%20%26quot%3BOpen%20Sans%26quot%3B%2C%20verdana%2C%20arial%2C%20sans-serif%3B%20font-size%3A%2012px%3B%20fill%3A%20rgb(89%2C%2089%2C%2089)%3B%20fill-opacity%3A%201%3B%20white-space%3A%20pre%3B%22%3Eretweets_quotes%2C%20Yves%20Mulkers%3C%2Ftext%3E%3Cg%20class%3D%22layers%22%20style%3D%22opacity%3A%201%3B%22%3E%3Cg%20class%3D%22legendfill%22%2F%3E%3Cg%20class%3D%22legendlines%22%2F%3E%3Cg%20class%3D%22legendsymbols%22%3E%3Cg%20class%3D%22legendpoints%22%3E%3Cpath%20class%3D%22legendpie%22%20d%3D%22M6%2C6H-6V-6H6Z%22%20transform%3D%22translate(20%2C0)%22%20style%3D%22stroke-width%3A%200%3B%20fill%3A%20rgb(242%2C%20142%2C%2044)%3B%20fill-opacity%3A%201%3B%20stroke%3A%20rgb(68%2C%2068%2C%2068)%3B%20stroke-opacity%3A%201%3B%22%2F%3E%3C%2Fg%3E%3C%2Fg%3E%3C%2Fg%3E%3Crect%20class%3D%22legendtoggle%22%20pointer-events%3D%22all%22%20x%3D%220%22%20y%3D%22-9.5%22%20width%3D%22373.7124938964844%22%20height%3D%2219%22%20style%3D%22cursor%3A%20pointer%3B%20fill%3A%20rgb(0%2C%200%2C%200)%3B%20fill-opacity%3A%200%3B%22%2F%3E%3C%2Fg%3E%3Cg%20class%3D%22traces%22%20transform%3D%22translate(0%2C52.5)%22%20style%3D%22opacity%3A%201%3B%22%3E%3Ctext%20class%3D%22legendtext%22%20text-anchor%3D%22start%22%20x%3D%2240%22%20y%3D%224.680000000000001%22%20data-unformatted%3D%22retweets_quotes%2C%20Pinna%20Pierre%22%20data-math%3D%22N%22%20style%3D%22font-family%3A%20%26quot%3BOpen%20Sans%26quot%3B%2C%20verdana%2C%20arial%2C%20sans-serif%3B%20font-size%3A%2012px%3B%20fill%3A%20rgb(89%2C%2089%2C%2089)%3B%20fill-opacity%3A%201%3B%20white-space%3A%20pre%3B%22%3Eretweets_quotes%2C%20Pinna%20Pierre%3C%2Ftext%3E%3Cg%20class%3D%22layers%22%20style%3D%22opacity%3A%201%3B%22%3E%3Cg%20class%3D%22legendfill%22%2F%3E%3Cg%20class%3D%22legendlines%22%2F%3E%3Cg%20class%3D%22legendsymbols%22%3E%3Cg%20class%3D%22legendpoints%22%3E%3Cpath%20class%3D%22legendpie%22%20d%3D%22M6%2C6H-6V-6H6Z%22%20transform%3D%22translate(20%2C0)%22%20style%3D%22stroke-width%3A%200%3B%20fill%3A%20rgb(225%2C%2087%2C%2089)%3B%20fill-opacity%3A%201%3B%20stroke%3A%20rgb(68%2C%2068%2C%2068)%3B%20stroke-opacity%3A%201%3B%22%2F%3E%3C%2Fg%3E%3C%2Fg%3E%3C%2Fg%3E%3Crect%20class%3D%22legendtoggle%22%20pointer-events%3D%22all%22%20x%3D%220%22%20y%3D%22-9.5%22%20width%3D%22373.7124938964844%22%20height%3D%2219%22%20style%3D%22cursor%3A%20pointer%3B%20fill%3A%20rgb(0%2C%200%2C%200)%3B%20fill-opacity%3A%200%3B%22%2F%3E%3C%2Fg%3E%3Cg%20class%3D%22traces%22%20transform%3D%22translate(0%2C71.5)%22%20style%3D%22opacity%3A%201%3B%22%3E%3Ctext%20class%3D%22legendtext%22%20text-anchor%3D%22start%22%20x%3D%2240%22%20y%3D%224.680000000000001%22%20data-unformatted%3D%22retweets_quotes%2C%20Pedro%20Domingos%22%20data-math%3D%22N%22%20style%3D%22font-family%3A%20%26quot%3BOpen%20Sans%26quot%3B%2C%20verdana%2C%20arial%2C%20sans-serif%3B%20font-size%3A%2012px%3B%20fill%3A%20rgb(89%2C%2089%2C%2089)%3B%20fill-opacity%3A%201%3B%20white-space%3A%20pre%3B%22%3Eretweets_quotes%2C%20Pedro%20Domingos%3C%2Ftext%3E%3Cg%20class%3D%22layers%22%20style%3D%22opacity%3A%201%3B%22%3E%3Cg%20class%3D%22legendfill%22%2F%3E%3Cg%20class%3D%22legendlines%22%2F%3E%3Cg%20class%3D%22legendsymbols%22%3E%3Cg%20class%3D%22legendpoints%22%3E%3Cpath%20class%3D%22legendpie%22%20d%3D%22M6%2C6H-6V-6H6Z%22%20transform%3D%22translate(20%2C0)%22%20style%3D%22stroke-width%3A%200%3B%20fill%3A%20rgb(118%2C%20183%2C%20178)%3B%20fill-opacity%3A%201%3B%20stroke%3A%20rgb(68%2C%2068%2C%2068)%3B%20stroke-opacity%3A%201%3B%22%2F%3E%3C%2Fg%3E%3C%2Fg%3E%3C%2Fg%3E%3Crect%20class%3D%22legendtoggle%22%20pointer-events%3D%22all%22%20x%3D%220%22%20y%3D%22-9.5%22%20width%3D%22373.7124938964844%22%20height%3D%2219%22%20style%3D%22cursor%3A%20pointer%3B%20fill%3A%20rgb(0%2C%200%2C%200)%3B%20fill-opacity%3A%200%3B%22%2F%3E%3C%2Fg%3E%3Cg%20class%3D%22traces%22%20transform%3D%22translate(0%2C90.5)%22%20style%3D%22opacity%3A%201%3B%22%3E%3Ctext%20class%3D%22legendtext%22%20text-anchor%3D%22start%22%20x%3D%2240%22%20y%3D%224.680000000000001%22%20data-unformatted%3D%22retweets_quotes%2C%20AI%22%20data-math%3D%22N%22%20style%3D%22font-family%3A%20%26quot%3BOpen%20Sans%26quot%3B%2C%20verdana%2C%20arial%2C%20sans-serif%3B%20font-size%3A%2012px%3B%20fill%3A%20rgb(89%2C%2089%2C%2089)%3B%20fill-opacity%3A%201%3B%20white-space%3A%20pre%3B%22%3Eretweets_quotes%2C%20AI%3C%2Ftext%3E%3Cg%20class%3D%22layers%22%20style%3D%22opacity%3A%201%3B%22%3E%3Cg%20class%3D%22legendfill%22%2F%3E%3Cg%20class%3D%22legendlines%22%2F%3E%3Cg%20class%3D%22legendsymbols%22%3E%3Cg%20class%3D%22legendpoints%22%3E%3Cpath%20class%3D%22legendpie%22%20d%3D%22M6%2C6H-6V-6H6Z%22%20transform%3D%22translate(20%2C0)%22%20style%3D%22stroke-width%3A%200%3B%20fill%3A%20rgb(89%2C%20161%2C%2079)%3B%20fill-opacity%3A%201%3B%20stroke%3A%20rgb(68%2C%2068%2C%2068)%3B%20stroke-opacity%3A%201%3B%22%2F%3E%3C%2Fg%3E%3C%2Fg%3E%3C%2Fg%3E%3Crect%20class%3D%22legendtoggle%22%20pointer-events%3D%22all%22%20x%3D%220%22%20y%3D%22-9.5%22%20width%3D%22373.7124938964844%22%20height%3D%2219%22%20style%3D%22cursor%3A%20pointer%3B%20fill%3A%20rgb(0%2C%200%2C%200)%3B%20fill-opacity%3A%200%3B%22%2F%3E%3C%2Fg%3E%3Cg%20class%3D%22traces%22%20transform%3D%22translate(0%2C109.5)%22%20style%3D%22opacity%3A%201%3B%22%3E%3Ctext%20class%3D%22legendtext%22%20text-anchor%3D%22start%22%20x%3D%2240%22%20y%3D%224.680000000000001%22%20data-unformatted%3D%22retweets_quotes%2C%20Peter%20Wang%22%20data-math%3D%22N%22%20style%3D%22font-family%3A%20%26quot%3BOpen%20Sans%26quot%3B%2C%20verdana%2C%20arial%2C%20sans-serif%3B%20font-size%3A%2012px%3B%20fill%3A%20rgb(89%2C%2089%2C%2089)%3B%20fill-opacity%3A%201%3B%20white-space%3A%20pre%3B%22%3Eretweets_quotes%2C%20Peter%20Wang%3C%2Ftext%3E%3Cg%20class%3D%22layers%22%20style%3D%22opacity%3A%201%3B%22%3E%3Cg%20class%3D%22legendfill%22%2F%3E%3Cg%20class%3D%22legendlines%22%2F%3E%3Cg%20class%3D%22legendsymbols%22%3E%3Cg%20class%3D%22legendpoints%22%3E%3Cpath%20class%3D%22legendpie%22%20d%3D%22M6%2C6H-6V-6H6Z%22%20transform%3D%22translate(20%2C0)%22%20style%3D%22stroke-width%3A%200%3B%20fill%3A%20rgb(237%2C%20201%2C%2073)%3B%20fill-opacity%3A%201%3B%20stroke%3A%20rgb(68%2C%2068%2C%2068)%3B%20stroke-opacity%3A%201%3B%22%2F%3E%3C%2Fg%3E%3C%2Fg%3E%3C%2Fg%3E%3Crect%20class%3D%22legendtoggle%22%20pointer-events%3D%22all%22%20x%3D%220%22%20y%3D%22-9.5%22%20width%3D%22373.7124938964844%22%20height%3D%2219%22%20style%3D%22cursor%3A%20pointer%3B%20fill%3A%20rgb(0%2C%200%2C%200)%3B%20fill-opacity%3A%200%3B%22%2F%3E%3C%2Fg%3E%3Cg%20class%3D%22traces%22%20transform%3D%22translate(0%2C128.5)%22%20style%3D%22opacity%3A%201%3B%22%3E%3Ctext%20class%3D%22legendtext%22%20text-anchor%3D%22start%22%20x%3D%2240%22%20y%3D%224.680000000000001%22%20data-unformatted%3D%22retweets_quotes%2C%20Ronald%20van%20Loon%22%20data-math%3D%22N%22%20style%3D%22font-family%3A%20%26quot%3BOpen%20Sans%26quot%3B%2C%20verdana%2C%20arial%2C%20sans-serif%3B%20font-size%3A%2012px%3B%20fill%3A%20rgb(89%2C%2089%2C%2089)%3B%20fill-opacity%3A%201%3B%20white-space%3A%20pre%3B%22%3Eretweets_quotes%2C%20Ronald%20van%20Loon%3C%2Ftext%3E%3Cg%20class%3D%22layers%22%20style%3D%22opacity%3A%201%3B%22%3E%3Cg%20class%3D%22legendfill%22%2F%3E%3Cg%20class%3D%22legendlines%22%2F%3E%3Cg%20class%3D%22legendsymbols%22%3E%3Cg%20class%3D%22legendpoints%22%3E%3Cpath%20class%3D%22legendpie%22%20d%3D%22M6%2C6H-6V-6H6Z%22%20transform%3D%22translate(20%2C0)%22%20style%3D%22stroke-width%3A%200%3B%20fill%3A%20rgb(175%2C%20122%2C%20161)%3B%20fill-opacity%3A%201%3B%20stroke%3A%20rgb(68%2C%2068%2C%2068)%3B%20stroke-opacity%3A%201%3B%22%2F%3E%3C%2Fg%3E%3C%2Fg%3E%3C%2Fg%3E%3Crect%20class%3D%22legendtoggle%22%20pointer-events%3D%22all%22%20x%3D%220%22%20y%3D%22-9.5%22%20width%3D%22373.7124938964844%22%20height%3D%2219%22%20style%3D%22cursor%3A%20pointer%3B%20fill%3A%20rgb(0%2C%200%2C%200)%3B%20fill-opacity%3A%200%3B%22%2F%3E%3C%2Fg%3E%3Cg%20class%3D%22traces%22%20transform%3D%22translate(0%2C147.5)%22%20style%3D%22opacity%3A%201%3B%22%3E%3Ctext%20class%3D%22legendtext%22%20text-anchor%3D%22start%22%20x%3D%2240%22%20y%3D%224.680000000000001%22%20data-unformatted%3D%22retweets_quotes%2C%20Alvin%20Foo%22%20data-math%3D%22N%22%20style%3D%22font-family%3A%20%26quot%3BOpen%20Sans%26quot%3B%2C%20verdana%2C%20arial%2C%20sans-serif%3B%20font-size%3A%2012px%3B%20fill%3A%20rgb(89%2C%2089%2C%2089)%3B%20fill-opacity%3A%201%3B%20white-space%3A%20pre%3B%22%3Eretweets_quotes%2C%20Alvin%20Foo%3C%2Ftext%3E%3Cg%20class%3D%22layers%22%20style%3D%22opacity%3A%201%3B%22%3E%3Cg%20class%3D%22legendfill%22%2F%3E%3Cg%20class%3D%22legendlines%22%2F%3E%3Cg%20class%3D%22legendsymbols%22%3E%3Cg%20class%3D%22legendpoints%22%3E%3Cpath%20class%3D%22legendpie%22%20d%3D%22M6%2C6H-6V-6H6Z%22%20transform%3D%22translate(20%2C0)%22%20style%3D%22stroke-width%3A%200%3B%20fill%3A%20rgb(255%2C%20157%2C%20167)%3B%20fill-opacity%3A%201%3B%20stroke%3A%20rgb(68%2C%2068%2C%2068)%3B%20stroke-opacity%3A%201%3B%22%2F%3E%3C%2Fg%3E%3C%2Fg%3E%3C%2Fg%3E%3Crect%20class%3D%22legendtoggle%22%20pointer-events%3D%22all%22%20x%3D%220%22%20y%3D%22-9.5%22%20width%3D%22373.7124938964844%22%20height%3D%2219%22%20style%3D%22cursor%3A%20pointer%3B%20fill%3A%20rgb(0%2C%200%2C%200)%3B%20fill-opacity%3A%200%3B%22%2F%3E%3C%2Fg%3E%3Cg%20class%3D%22traces%22%20transform%3D%22translate(0%2C166.5)%22%20style%3D%22opacity%3A%201%3B%22%3E%3Ctext%20class%3D%22legendtext%22%20text-anchor%3D%22start%22%20x%3D%2240%22%20y%3D%224.680000000000001%22%20data-unformatted%3D%22retweets_quotes%2C%20Marcus%20Borba%22%20data-math%3D%22N%22%20style%3D%22font-family%3A%20%26quot%3BOpen%20Sans%26quot%3B%2C%20verdana%2C%20arial%2C%20sans-serif%3B%20font-size%3A%2012px%3B%20fill%3A%20rgb(89%2C%2089%2C%2089)%3B%20fill-opacity%3A%201%3B%20white-space%3A%20pre%3B%22%3Eretweets_quotes%2C%20Marcus%20Borba%3C%2Ftext%3E%3Cg%20class%3D%22layers%22%20style%3D%22opacity%3A%201%3B%22%3E%3Cg%20class%3D%22legendfill%22%2F%3E%3Cg%20class%3D%22legendlines%22%2F%3E%3Cg%20class%3D%22legendsymbols%22%3E%3Cg%20class%3D%22legendpoints%22%3E%3Cpath%20class%3D%22legendpie%22%20d%3D%22M6%2C6H-6V-6H6Z%22%20transform%3D%22translate(20%2C0)%22%20style%3D%22stroke-width%3A%200%3B%20fill%3A%20rgb(156%2C%20117%2C%2095)%3B%20fill-opacity%3A%201%3B%20stroke%3A%20rgb(68%2C%2068%2C%2068)%3B%20stroke-opacity%3A%201%3B%22%2F%3E%3C%2Fg%3E%3C%2Fg%3E%3C%2Fg%3E%3Crect%20class%3D%22legendtoggle%22%20pointer-events%3D%22all%22%20x%3D%220%22%20y%3D%22-9.5%22%20width%3D%22373.7124938964844%22%20height%3D%2219%22%20style%3D%22cursor%3A%20pointer%3B%20fill%3A%20rgb(0%2C%200%2C%200)%3B%20fill-opacity%3A%200%3B%22%2F%3E%3C%2Fg%3E%3Cg%20class%3D%22traces%22%20transform%3D%22translate(0%2C185.5)%22%20style%3D%22opacity%3A%201%3B%22%3E%3Ctext%20class%3D%22legendtext%22%20text-anchor%3D%22start%22%20x%3D%2240%22%20y%3D%224.680000000000001%22%20data-unformatted%3D%22retweets_quotes%2C%20Ayodele%20(eye-ya-deli)%20is%20fullyVaxxed%22%20data-math%3D%22N%22%20style%3D%22font-family%3A%20%26quot%3BOpen%20Sans%26quot%3B%2C%20verdana%2C%20arial%2C%20sans-serif%3B%20font-size%3A%2012px%3B%20fill%3A%20rgb(89%2C%2089%2C%2089)%3B%20fill-opacity%3A%201%3B%20white-space%3A%20pre%3B%22%3Eretweets_quotes%2C%20Ayodele%20(eye-ya-deli)%20is%20fullyVaxxed%3C%2Ftext%3E%3Cg%20class%3D%22layers%22%20style%3D%22opacity%3A%201%3B%22%3E%3Cg%20class%3D%22legendfill%22%2F%3E%3Cg%20class%3D%22legendlines%22%2F%3E%3Cg%20class%3D%22legendsymbols%22%3E%3Cg%20class%3D%22legendpoints%22%3E%3Cpath%20class%3D%22legendpie%22%20d%3D%22M6%2C6H-6V-6H6Z%22%20transform%3D%22translate(20%2C0)%22%20style%3D%22stroke-width%3A%200%3B%20fill%3A%20rgb(186%2C%20176%2C%20171)%3B%20fill-opacity%3A%201%3B%20stroke%3A%20rgb(68%2C%2068%2C%2068)%3B%20stroke-opacity%3A%201%3B%22%2F%3E%3C%2Fg%3E%3C%2Fg%3E%3C%2Fg%3E%3Crect%20class%3D%22legendtoggle%22%20pointer-events%3D%22all%22%20x%3D%220%22%20y%3D%22-9.5%22%20width%3D%22373.7124938964844%22%20height%3D%2219%22%20style%3D%22cursor%3A%20pointer%3B%20fill%3A%20rgb(0%2C%200%2C%200)%3B%20fill-opacity%3A%200%3B%22%2F%3E%3C%2Fg%3E%3Cg%20class%3D%22traces%22%20transform%3D%22translate(0%2C204.5)%22%20style%3D%22opacity%3A%201%3B%22%3E%3Ctext%20class%3D%22legendtext%22%20text-anchor%3D%22start%22%20x%3D%2240%22%20y%3D%224.680000000000001%22%20data-unformatted%3D%22retweets_quotes%2C%20Ayodele%20%7C%20Data%20Science%20Career%20Coach%22%20data-math%3D%22N%22%20style%3D%22font-family%3A%20%26quot%3BOpen%20Sans%26quot%3B%2C%20verdana%2C%20arial%2C%20sans-serif%3B%20font-size%3A%2012px%3B%20fill%3A%20rgb(89%2C%2089%2C%2089)%3B%20fill-opacity%3A%201%3B%20white-space%3A%20pre%3B%22%3Eretweets_quotes%2C%20Ayodele%20%7C%20Data%20Science%20Career%20Coach%3C%2Ftext%3E%3Cg%20class%3D%22layers%22%20style%3D%22opacity%3A%201%3B%22%3E%3Cg%20class%3D%22legendfill%22%2F%3E%3Cg%20class%3D%22legendlines%22%2F%3E%3Cg%20class%3D%22legendsymbols%22%3E%3Cg%20class%3D%22legendpoints%22%3E%3Cpath%20class%3D%22legendpie%22%20d%3D%22M6%2C6H-6V-6H6Z%22%20transform%3D%22translate(20%2C0)%22%20style%3D%22stroke-width%3A%200%3B%20fill%3A%20rgb(144%2C%20172%2C%20203)%3B%20fill-opacity%3A%201%3B%20stroke%3A%20rgb(68%2C%2068%2C%2068)%3B%20stroke-opacity%3A%201%3B%22%2F%3E%3C%2Fg%3E%3C%2Fg%3E%3C%2Fg%3E%3Crect%20class%3D%22legendtoggle%22%20pointer-events%3D%22all%22%20x%3D%220%22%20y%3D%22-9.5%22%20width%3D%22373.7124938964844%22%20height%3D%2219%22%20style%3D%22cursor%3A%20pointer%3B%20fill%3A%20rgb(0%2C%200%2C%200)%3B%20fill-opacity%3A%200%3B%22%2F%3E%3C%2Fg%3E%3Cg%20class%3D%22traces%22%20transform%3D%22translate(0%2C223.5)%22%20style%3D%22opacity%3A%201%3B%22%3E%3Ctext%20class%3D%22legendtext%22%20text-anchor%3D%22start%22%20x%3D%2240%22%20y%3D%224.680000000000001%22%20data-unformatted%3D%22retweets_quotes%2C%20Andrew%20Ng%22%20data-math%3D%22N%22%20style%3D%22font-family%3A%20%26quot%3BOpen%20Sans%26quot%3B%2C%20verdana%2C%20arial%2C%20sans-serif%3B%20font-size%3A%2012px%3B%20fill%3A%20rgb(89%2C%2089%2C%2089)%3B%20fill-opacity%3A%201%3B%20white-space%3A%20pre%3B%22%3Eretweets_quotes%2C%20Andrew%20Ng%3C%2Ftext%3E%3Cg%20class%3D%22layers%22%20style%3D%22opacity%3A%201%3B%22%3E%3Cg%20class%3D%22legendfill%22%2F%3E%3Cg%20class%3D%22legendlines%22%2F%3E%3Cg%20class%3D%22legendsymbols%22%3E%3Cg%20class%3D%22legendpoints%22%3E%3Cpath%20class%3D%22legendpie%22%20d%3D%22M6%2C6H-6V-6H6Z%22%20transform%3D%22translate(20%2C0)%22%20style%3D%22stroke-width%3A%200%3B%20fill%3A%20rgb(248%2C%20193%2C%20140)%3B%20fill-opacity%3A%201%3B%20stroke%3A%20rgb(68%2C%2068%2C%2068)%3B%20stroke-opacity%3A%201%3B%22%2F%3E%3C%2Fg%3E%3C%2Fg%3E%3C%2Fg%3E%3Crect%20class%3D%22legendtoggle%22%20pointer-events%3D%22all%22%20x%3D%220%22%20y%3D%22-9.5%22%20width%3D%22373.7124938964844%22%20height%3D%2219%22%20style%3D%22cursor%3A%20pointer%3B%20fill%3A%20rgb(0%2C%200%2C%200)%3B%20fill-opacity%3A%200%3B%22%2F%3E%3C%2Fg%3E%3Cg%20class%3D%22traces%22%20transform%3D%22translate(0%2C242.5)%22%20style%3D%22opacity%3A%201%3B%22%3E%3Ctext%20class%3D%22legendtext%22%20text-anchor%3D%22start%22%20x%3D%2240%22%20y%3D%224.680000000000001%22%20data-unformatted%3D%22retweets_quotes%2C%20James%20Briggs%22%20data-math%3D%22N%22%20style%3D%22font-family%3A%20%26quot%3BOpen%20Sans%26quot%3B%2C%20verdana%2C%20arial%2C%20sans-serif%3B%20font-size%3A%2012px%3B%20fill%3A%20rgb(89%2C%2089%2C%2089)%3B%20fill-opacity%3A%201%3B%20white-space%3A%20pre%3B%22%3Eretweets_quotes%2C%20James%20Briggs%3C%2Ftext%3E%3Cg%20class%3D%22layers%22%20style%3D%22opacity%3A%201%3B%22%3E%3Cg%20class%3D%22legendfill%22%2F%3E%3Cg%20class%3D%22legendlines%22%2F%3E%3Cg%20class%3D%22legendsymbols%22%3E%3Cg%20class%3D%22legendpoints%22%3E%3Cpath%20class%3D%22legendpie%22%20d%3D%22M6%2C6H-6V-6H6Z%22%20transform%3D%22translate(20%2C0)%22%20style%3D%22stroke-width%3A%200%3B%20fill%3A%20rgb(240%2C%20174%2C%20174)%3B%20fill-opacity%3A%201%3B%20stroke%3A%20rgb(68%2C%2068%2C%2068)%3B%20stroke-opacity%3A%201%3B%22%2F%3E%3C%2Fg%3E%3C%2Fg%3E%3C%2Fg%3E%3Crect%20class%3D%22legendtoggle%22%20pointer-events%3D%22all%22%20x%3D%220%22%20y%3D%22-9.5%22%20width%3D%22373.7124938964844%22%20height%3D%2219%22%20style%3D%22cursor%3A%20pointer%3B%20fill%3A%20rgb(0%2C%200%2C%200)%3B%20fill-opacity%3A%200%3B%22%2F%3E%3C%2Fg%3E%3Cg%20class%3D%22traces%22%20transform%3D%22translate(0%2C261.5)%22%20style%3D%22opacity%3A%201%3B%22%3E%3Ctext%20class%3D%22legendtext%22%20text-anchor%3D%22start%22%20x%3D%2240%22%20y%3D%224.680000000000001%22%20data-unformatted%3D%22retweets_quotes%2C%20Kevin%20Bass%22%20data-math%3D%22N%22%20style%3D%22font-family%3A%20%26quot%3BOpen%20Sans%26quot%3B%2C%20verdana%2C%20arial%2C%20sans-serif%3B%20font-size%3A%2012px%3B%20fill%3A%20rgb(89%2C%2089%2C%2089)%3B%20fill-opacity%3A%201%3B%20white-space%3A%20pre%3B%22%3Eretweets_quotes%2C%20Kevin%20Bass%3C%2Ftext%3E%3Cg%20class%3D%22layers%22%20style%3D%22opacity%3A%201%3B%22%3E%3Cg%20class%3D%22legendfill%22%2F%3E%3Cg%20class%3D%22legendlines%22%2F%3E%3Cg%20class%3D%22legendsymbols%22%3E%3Cg%20class%3D%22legendpoints%22%3E%3Cpath%20class%3D%22legendpie%22%20d%3D%22M6%2C6H-6V-6H6Z%22%20transform%3D%22translate(20%2C0)%22%20style%3D%22stroke-width%3A%200%3B%20fill%3A%20rgb(185%2C%20218%2C%20216)%3B%20fill-opacity%3A%201%3B%20stroke%3A%20rgb(68%2C%2068%2C%2068)%3B%20stroke-opacity%3A%201%3B%22%2F%3E%3C%2Fg%3E%3C%2Fg%3E%3C%2Fg%3E%3Crect%20class%3D%22legendtoggle%22%20pointer-events%3D%22all%22%20x%3D%220%22%20y%3D%22-9.5%22%20width%3D%22373.7124938964844%22%20height%3D%2219%22%20style%3D%22cursor%3A%20pointer%3B%20fill%3A%20rgb(0%2C%200%2C%200)%3B%20fill-opacity%3A%200%3B%22%2F%3E%3C%2Fg%3E%3Cg%20class%3D%22traces%22%20transform%3D%22translate(0%2C280.5)%22%20style%3D%22opacity%3A%201%3B%22%3E%3Ctext%20class%3D%22legendtext%22%20text-anchor%3D%22start%22%20x%3D%2240%22%20y%3D%224.680000000000001%22%20data-unformatted%3D%22retweets_quotes%2C%20Bruno%20Gon%C3%A7alves%22%20data-math%3D%22N%22%20style%3D%22font-family%3A%20%26quot%3BOpen%20Sans%26quot%3B%2C%20verdana%2C%20arial%2C%20sans-serif%3B%20font-size%3A%2012px%3B%20fill%3A%20rgb(89%2C%2089%2C%2089)%3B%20fill-opacity%3A%201%3B%20white-space%3A%20pre%3B%22%3Eretweets_quotes%2C%20Bruno%20Gon%C3%A7alves%3C%2Ftext%3E%3Cg%20class%3D%22layers%22%20style%3D%22opacity%3A%201%3B%22%3E%3Cg%20class%3D%22legendfill%22%2F%3E%3Cg%20class%3D%22legendlines%22%2F%3E%3Cg%20class%3D%22legendsymbols%22%3E%3Cg%20class%3D%22legendpoints%22%3E%3Cpath%20class%3D%22legendpie%22%20d%3D%22M6%2C6H-6V-6H6Z%22%20transform%3D%22translate(20%2C0)%22%20style%3D%22stroke-width%3A%200%3B%20fill%3A%20rgb(149%2C%20200%2C%20142)%3B%20fill-opacity%3A%201%3B%20stroke%3A%20rgb(68%2C%2068%2C%2068)%3B%20stroke-opacity%3A%201%3B%22%2F%3E%3C%2Fg%3E%3C%2Fg%3E%3C%2Fg%3E%3Crect%20class%3D%22legendtoggle%22%20pointer-events%3D%22all%22%20x%3D%220%22%20y%3D%22-9.5%22%20width%3D%22373.7124938964844%22%20height%3D%2219%22%20style%3D%22cursor%3A%20pointer%3B%20fill%3A%20rgb(0%2C%200%2C%200)%3B%20fill-opacity%3A%200%3B%22%2F%3E%3C%2Fg%3E%3Cg%20class%3D%22traces%22%20transform%3D%22translate(0%2C299.5)%22%20style%3D%22opacity%3A%201%3B%22%3E%3Ctext%20class%3D%22legendtext%22%20text-anchor%3D%22start%22%20x%3D%2240%22%20y%3D%224.680000000000001%22%20data-unformatted%3D%22retweets_quotes%2C%20Fran%C3%A7ois%20Chollet%22%20data-math%3D%22N%22%20style%3D%22font-family%3A%20%26quot%3BOpen%20Sans%26quot%3B%2C%20verdana%2C%20arial%2C%20sans-serif%3B%20font-size%3A%2012px%3B%20fill%3A%20rgb(89%2C%2089%2C%2089)%3B%20fill-opacity%3A%201%3B%20white-space%3A%20pre%3B%22%3Eretweets_quotes%2C%20Fran%C3%A7ois%20Chollet%3C%2Ftext%3E%3Cg%20class%3D%22layers%22%20style%3D%22opacity%3A%201%3B%22%3E%3Cg%20class%3D%22legendfill%22%2F%3E%3Cg%20class%3D%22legendlines%22%2F%3E%3Cg%20class%3D%22legendsymbols%22%3E%3Cg%20class%3D%22legendpoints%22%3E%3Cpath%20class%3D%22legendpie%22%20d%3D%22M6%2C6H-6V-6H6Z%22%20transform%3D%22translate(20%2C0)%22%20style%3D%22stroke-width%3A%200%3B%20fill%3A%20rgb(246%2C%20229%2C%20166)%3B%20fill-opacity%3A%201%3B%20stroke%3A%20rgb(68%2C%2068%2C%2068)%3B%20stroke-opacity%3A%201%3B%22%2F%3E%3C%2Fg%3E%3C%2Fg%3E%3C%2Fg%3E%3Crect%20class%3D%22legendtoggle%22%20pointer-events%3D%22all%22%20x%3D%220%22%20y%3D%22-9.5%22%20width%3D%22373.7124938964844%22%20height%3D%2219%22%20style%3D%22cursor%3A%20pointer%3B%20fill%3A%20rgb(0%2C%200%2C%200)%3B%20fill-opacity%3A%200%3B%22%2F%3E%3C%2Fg%3E%3Cg%20class%3D%22traces%22%20transform%3D%22translate(0%2C318.5)%22%20style%3D%22opacity%3A%201%3B%22%3E%3Ctext%20class%3D%22legendtext%22%20text-anchor%3D%22start%22%20x%3D%2240%22%20y%3D%224.680000000000001%22%20data-unformatted%3D%22retweets_quotes%2C%20Matthew%20Mayo%22%20data-math%3D%22N%22%20style%3D%22font-family%3A%20%26quot%3BOpen%20Sans%26quot%3B%2C%20verdana%2C%20arial%2C%20sans-serif%3B%20font-size%3A%2012px%3B%20fill%3A%20rgb(89%2C%2089%2C%2089)%3B%20fill-opacity%3A%201%3B%20white-space%3A%20pre%3B%22%3Eretweets_quotes%2C%20Matthew%20Mayo%3C%2Ftext%3E%3Cg%20class%3D%22layers%22%20style%3D%22opacity%3A%201%3B%22%3E%3Cg%20class%3D%22legendfill%22%2F%3E%3Cg%20class%3D%22legendlines%22%2F%3E%3Cg%20class%3D%22legendsymbols%22%3E%3Cg%20class%3D%22legendpoints%22%3E%3Cpath%20class%3D%22legendpie%22%20d%3D%22M6%2C6H-6V-6H6Z%22%20transform%3D%22translate(20%2C0)%22%20style%3D%22stroke-width%3A%200%3B%20fill%3A%20rgb(213%2C%20186%2C%20206)%3B%20fill-opacity%3A%201%3B%20stroke%3A%20rgb(68%2C%2068%2C%2068)%3B%20stroke-opacity%3A%201%3B%22%2F%3E%3C%2Fg%3E%3C%2Fg%3E%3C%2Fg%3E%3Crect%20class%3D%22legendtoggle%22%20pointer-events%3D%22all%22%20x%3D%220%22%20y%3D%22-9.5%22%20width%3D%22373.7124938964844%22%20height%3D%2219%22%20style%3D%22cursor%3A%20pointer%3B%20fill%3A%20rgb(0%2C%200%2C%200)%3B%20fill-opacity%3A%200%3B%22%2F%3E%3C%2Fg%3E%3Cg%20class%3D%22traces%22%20transform%3D%22translate(0%2C337.5)%22%20style%3D%22opacity%3A%201%3B%22%3E%3Ctext%20class%3D%22legendtext%22%20text-anchor%3D%22start%22%20x%3D%2240%22%20y%3D%224.680000000000001%22%20data-unformatted%3D%22retweets_quotes%2C%20Jesse%20Mostipak%22%20data-math%3D%22N%22%20style%3D%22font-family%3A%20%26quot%3BOpen%20Sans%26quot%3B%2C%20verdana%2C%20arial%2C%20sans-serif%3B%20font-size%3A%2012px%3B%20fill%3A%20rgb(89%2C%2089%2C%2089)%3B%20fill-opacity%3A%201%3B%20white-space%3A%20pre%3B%22%3Eretweets_quotes%2C%20Jesse%20Mostipak%3C%2Ftext%3E%3Cg%20class%3D%22layers%22%20style%3D%22opacity%3A%201%3B%22%3E%3Cg%20class%3D%22legendfill%22%2F%3E%3Cg%20class%3D%22legendlines%22%2F%3E%3Cg%20class%3D%22legendsymbols%22%3E%3Cg%20class%3D%22legendpoints%22%3E%3Cpath%20class%3D%22legendpie%22%20d%3D%22M6%2C6H-6V-6H6Z%22%20transform%3D%22translate(20%2C0)%22%20style%3D%22stroke-width%3A%200%3B%20fill%3A%20rgb(255%2C%20255%2C%20255)%3B%20fill-opacity%3A%201%3B%20stroke%3A%20rgb(68%2C%2068%2C%2068)%3B%20stroke-opacity%3A%201%3B%22%2F%3E%3C%2Fg%3E%3C%2Fg%3E%3C%2Fg%3E%3Crect%20class%3D%22legendtoggle%22%20pointer-events%3D%22all%22%20x%3D%220%22%20y%3D%22-9.5%22%20width%3D%22373.7124938964844%22%20height%3D%2219%22%20style%3D%22cursor%3A%20pointer%3B%20fill%3A%20rgb(0%2C%200%2C%200)%3B%20fill-opacity%3A%200%3B%22%2F%3E%3C%2Fg%3E%3C%2Fg%3E%3C%2Fg%3E%3Crect%20class%3D%22scrollbar%22%20rx%3D%2220%22%20ry%3D%223%22%20width%3D%226%22%20height%3D%22166.375%22%20x%3D%22379%22%20y%3D%224%22%20style%3D%22fill%3A%20rgb(128%2C%20139%2C%20164)%3B%20fill-opacity%3A%201%3B%22%2F%3E%3C%2Fg%3E%3Cg%20class%3D%22g-gtitle%22%2F%3E%3C%2Fg%3E%3Cg%20class%3D%22menulayer%22%2F%3E%3Cg%20class%3D%22zoomlayer%22%2F%3E%3Cg%20class%3D%22hoverlayer%22%2F%3E%3C%2Fsvg%3E\">"
      ],
      "text/plain": [
       "Open the notebook in JupyterLab with the atoti extension enabled to build this widget."
      ]
     },
     "metadata": {},
     "output_type": "display_data"
    }
   ],
   "source": [
    "session.visualize(\n",
    "    \"Top 5 influencers for Top 5 topics - With regard to the average number of retweets and quotes\"\n",
    ")"
   ]
  },
  {
   "cell_type": "markdown",
   "metadata": {},
   "source": [
    "The above graphs show the top 5 influencers with the highest retweets and quotes rates related to the 5 most popular topics.\n",
    "\n",
    "Similarly, if we consider James Briggs, we can observe that his has the highest retweet and quote rate for topic 22, but is not even in the top 5 influencers for the other top topics."
   ]
  },
  {
   "cell_type": "markdown",
   "metadata": {},
   "source": [
    "#### Top 5 influencers for Top 5 topics - With regard to the average number of likes"
   ]
  },
  {
   "cell_type": "code",
   "execution_count": 33,
   "metadata": {
    "atoti": {
     "widget": {
      "filters": [
       "TopCount(Filter([influencer].[topic].Levels(1).Members, NOT IsEmpty([Measures].[contributors.COUNT])), 5, [Measures].[contributors.COUNT])"
      ],
      "mapping": {
       "horizontalSubplots": [
        "[influencer].[topic].[topic]"
       ],
       "sliceBy": [
        "ALL_MEASURES",
        "[influencer].[name].[name]"
       ],
       "values": [
        "[Measures].[likes]"
       ],
       "verticalSubplots": []
      },
      "query": {
       "mdx": "SELECT NON EMPTY Order(GENERATE([influencer].[topic].[topic].Members, TOPCOUNT([influencer].[topic].CURRENTMEMBER * [influencer].[name].[name].MEMBERS, 5, [Measures].[likes])), [Measures].[contributors.COUNT], DESC) ON ROWS, NON EMPTY {[Measures].[likes]} ON COLUMNS FROM [influencer_cube] CELL PROPERTIES VALUE, FORMATTED_VALUE, BACK_COLOR, FORE_COLOR, FONT_FLAGS",
       "updateMode": "once"
      },
      "serverKey": "default",
      "widgetKey": "plotly-donut-chart"
     }
    },
    "tags": []
   },
   "outputs": [
    {
     "data": {
      "application/vnd.atoti.widget.v0+json": {
       "name": "Top 5 influencers for Top 5 topics - With regard to the average number of likes",
       "sessionId": "1648807225_BF0YEB",
       "sessionLocation": {
        "https": null,
        "port": 61470
       },
       "widgetCreationCode": "session.visualize()"
      },
      "text/html": [
       "<img src=\"data:image/svg+xml;charset=utf8,%3C%3Fxml%20version%3D%221.0%22%20standalone%3D%22no%22%3F%3E%3Csvg%20xmlns%3D%22http%3A%2F%2Fwww.w3.org%2F2000%2Fsvg%22%20xmlns%3Axlink%3D%22http%3A%2F%2Fwww.w3.org%2F1999%2Fxlink%22%20height%3D%22352%22%20width%3D%22967%22%20viewBox%3D%220%200%20967%20352%22%3E%3Cdefs%20id%3D%22defs-c88eee%22%3E%3Cg%20class%3D%22clips%22%2F%3E%3Cg%20class%3D%22gradients%22%2F%3E%3C%2Fdefs%3E%3Cg%20class%3D%22bglayer%22%2F%3E%3Cg%20class%3D%22draglayer%22%2F%3E%3Cg%20class%3D%22layer-below%22%3E%3Cg%20class%3D%22imagelayer%22%2F%3E%3Cg%20class%3D%22shapelayer%22%2F%3E%3C%2Fg%3E%3Cg%20class%3D%22cartesianlayer%22%2F%3E%3Cg%20class%3D%22polarlayer%22%2F%3E%3Cg%20class%3D%22ternarylayer%22%2F%3E%3Cg%20class%3D%22geolayer%22%2F%3E%3Cg%20class%3D%22funnelarealayer%22%2F%3E%3Cg%20class%3D%22pielayer%22%3E%3Cg%20class%3D%22trace%22%20stroke-linejoin%3D%22round%22%20style%3D%22opacity%3A%201%3B%22%3E%3Cg%20class%3D%22slice%22%3E%3Cpath%20class%3D%22surface%22%20d%3D%22M128.41603106861177%2C163.0304553332545a19.233333333333334%2C19.233333333333334%200%200%200%20-0.3326977352784236%2C-38.463788952690145l0%2C-28.85a48.083333333333336%2C48.083333333333336%200%200%201%200.831744338196059%2C96.15947238172535Z%22%20style%3D%22pointer-events%3A%20all%3B%20stroke-width%3A%200%3B%20fill%3A%20rgb(78%2C%20121%2C%20167)%3B%20fill-opacity%3A%201%3B%20stroke%3A%20rgb(68%2C%2068%2C%2068)%3B%20stroke-opacity%3A%201%3B%22%2F%3E%3C%2Fg%3E%3Cg%20class%3D%22slice%22%3E%3Cpath%20class%3D%22surface%22%20d%3D%22M128.08333333333334%2C124.56666638056437a19.233333333333334%2C19.233333333333334%200%200%200%20-9.342686982766837%2C36.04509442648328l-14.014030474150255%2C25.217641639724917a48.083333333333336%2C48.083333333333336%200%200%201%2023.356717456917092%2C-90.1127360662082Z%22%20style%3D%22pointer-events%3A%20all%3B%20stroke-width%3A%200%3B%20fill%3A%20rgb(242%2C%20142%2C%2044)%3B%20fill-opacity%3A%201%3B%20stroke%3A%20rgb(68%2C%2068%2C%2068)%3B%20stroke-opacity%3A%201%3B%22%2F%3E%3C%2Fg%3E%3Cg%20class%3D%22slice%22%3E%3Cpath%20class%3D%22surface%22%20d%3D%22M118.74064635056651%2C160.61176080704766a19.233333333333334%2C19.233333333333334%200%200%200%204.580271250167971%2C1.8226293584051037l-7.143623598898298%2C27.951585677332574a48.083333333333336%2C48.083333333333336%200%200%201%20-11.450678125419929%2C-4.556573396012759Z%22%20style%3D%22pointer-events%3A%20all%3B%20stroke-width%3A%200%3B%20fill%3A%20rgb(225%2C%2087%2C%2089)%3B%20fill-opacity%3A%201%3B%20stroke%3A%20rgb(68%2C%2068%2C%2068)%3B%20stroke-opacity%3A%201%3B%22%2F%3E%3C%2Fg%3E%3Cg%20class%3D%22slice%22%3E%3Cpath%20class%3D%22surface%22%20d%3D%22M123.32091760073448%2C162.43439016545275a19.233333333333334%2C19.233333333333334%200%200%200%202.580713294571857%2C0.47480329342064354l-3.272553657040513%2C28.663790617463537a48.083333333333336%2C48.083333333333336%200%200%201%20-6.451783236429642%2C-1.1870082335516088Z%22%20style%3D%22pointer-events%3A%20all%3B%20stroke-width%3A%200%3B%20fill%3A%20rgb(118%2C%20183%2C%20178)%3B%20fill-opacity%3A%201%3B%20stroke%3A%20rgb(68%2C%2068%2C%2068)%3B%20stroke-opacity%3A%201%3B%22%2F%3E%3C%2Fg%3E%3Cg%20class%3D%22slice%22%3E%3Cpath%20class%3D%22surface%22%20d%3D%22M125.90163089530634%2C162.9091934588734a19.233333333333334%2C19.233333333333334%200%200%200%202.5144001733054107%2C0.12126187438111345l0.49904660291760267%2C28.84568342903521a48.083333333333336%2C48.083333333333336%200%200%201%20-6.286000433263526%2C-0.3031546859527836Z%22%20style%3D%22pointer-events%3A%20all%3B%20stroke-width%3A%200%3B%20fill%3A%20rgb(89%2C%20161%2C%2079)%3B%20fill-opacity%3A%201%3B%20stroke%3A%20rgb(68%2C%2068%2C%2068)%3B%20stroke-opacity%3A%201%3B%22%2F%3E%3C%2Fg%3E%3Cg%20class%3D%22titletext%22%3E%3Ctext%20data-notex%3D%221%22%20class%3D%22titletext%22%20transform%3D%22translate(128.08333333333334%2C191.88333304723105)translate(0%2C12)%22%20text-anchor%3D%22middle%22%20data-unformatted%3D%22186%22%20data-math%3D%22N%22%20x%3D%220%22%20y%3D%220%22%20style%3D%22font-family%3A%20%26quot%3BOpen%20Sans%26quot%3B%2C%20verdana%2C%20arial%2C%20sans-serif%3B%20font-size%3A%2012px%3B%20fill%3A%20rgb(89%2C%2089%2C%2089)%3B%20fill-opacity%3A%201%3B%20white-space%3A%20pre%3B%22%3E186%3C%2Ftext%3E%3C%2Fg%3E%3C%2Fg%3E%3Cg%20class%3D%22trace%22%20stroke-linejoin%3D%22round%22%20style%3D%22opacity%3A%201%3B%22%3E%3Cg%20class%3D%22slice%22%3E%3Cpath%20class%3D%22surface%22%20d%3D%22M247.89373164798022%2C163.0292159962118a19.233333333333334%2C19.233333333333334%200%201%200%200.397935018686462%2C-38.46254961564745l0%2C-28.849999999999994a48.08333333333333%2C48.08333333333333%200%201%201%20-0.994837546716155%2C96.1563740391186Z%22%20style%3D%22pointer-events%3A%20all%3B%20stroke-width%3A%200%3B%20fill%3A%20rgb(237%2C%20201%2C%2073)%3B%20fill-opacity%3A%201%3B%20stroke%3A%20rgb(68%2C%2068%2C%2068)%3B%20stroke-opacity%3A%201%3B%22%2F%3E%3C%2Fg%3E%3Cg%20class%3D%22slice%22%3E%3Cpath%20class%3D%22surface%22%20d%3D%22M248.29166666666669%2C124.56666638056437a19.233333333333334%2C19.233333333333334%200%200%200%20-16.473279133399643%2C29.16067868363776l-24.709918700099465%2C14.891018025456637a48.08333333333333%2C48.08333333333333%200%200%201%2041.18319783349911%2C-72.9016967090944Z%22%20style%3D%22pointer-events%3A%20all%3B%20stroke-width%3A%200%3B%20fill%3A%20rgb(89%2C%20161%2C%2079)%3B%20fill-opacity%3A%201%3B%20stroke%3A%20rgb(68%2C%2068%2C%2068)%3B%20stroke-opacity%3A%201%3B%22%2F%3E%3C%2Fg%3E%3Cg%20class%3D%22slice%22%3E%3Cpath%20class%3D%22surface%22%20d%3D%22M231.81838753326704%2C153.72734506420213a19.233333333333334%2C19.233333333333334%200%200%200%205.1127234682144085%2C5.592283707419175l-17.040833497777854%2C23.279443586585398a48.08333333333333%2C48.08333333333333%200%200%201%20-12.78180867053602%2C-13.980709268547937Z%22%20style%3D%22pointer-events%3A%20all%3B%20stroke-width%3A%200%3B%20fill%3A%20rgb(175%2C%20122%2C%20161)%3B%20fill-opacity%3A%201%3B%20stroke%3A%20rgb(68%2C%2068%2C%2068)%3B%20stroke-opacity%3A%201%3B%22%2F%3E%3C%2Fg%3E%3Cg%20class%3D%22slice%22%3E%3Cpath%20class%3D%22surface%22%20d%3D%22M236.93111100148144%2C159.3196287716213a19.233333333333334%2C19.233333333333334%200%200%200%205.730780075747571%2C2.8713126779157907l-8.444663384156495%2C27.586412603459085a48.08333333333333%2C48.08333333333333%200%200%201%20-14.326950189368928%2C-7.178281694789476Z%22%20style%3D%22pointer-events%3A%20all%3B%20stroke-width%3A%200%3B%20fill%3A%20rgb(255%2C%20157%2C%20167)%3B%20fill-opacity%3A%201%3B%20stroke%3A%20rgb(68%2C%2068%2C%2068)%3B%20stroke-opacity%3A%201%3B%22%2F%3E%3C%2Fg%3E%3Cg%20class%3D%22slice%22%3E%3Cpath%20class%3D%22surface%22%20d%3D%22M242.66189107722903%2C162.1909414495371a19.233333333333334%2C19.233333333333334%200%200%200%205.2318405707511895%2C0.8382745466747196l-0.5969025280297128%2C28.843824423471162a48.08333333333333%2C48.08333333333333%200%200%201%20-13.079601426877973%2C-2.095686366686799Z%22%20style%3D%22pointer-events%3A%20all%3B%20stroke-width%3A%200%3B%20fill%3A%20rgb(156%2C%20117%2C%2095)%3B%20fill-opacity%3A%201%3B%20stroke%3A%20rgb(68%2C%2068%2C%2068)%3B%20stroke-opacity%3A%201%3B%22%2F%3E%3C%2Fg%3E%3Cg%20class%3D%22titletext%22%3E%3Ctext%20data-notex%3D%221%22%20class%3D%22titletext%22%20transform%3D%22translate(248.29166666666669%2C191.88333304723102)translate(0%2C12)%22%20text-anchor%3D%22middle%22%20data-unformatted%3D%2296%22%20data-math%3D%22N%22%20x%3D%220%22%20y%3D%220%22%20style%3D%22font-family%3A%20%26quot%3BOpen%20Sans%26quot%3B%2C%20verdana%2C%20arial%2C%20sans-serif%3B%20font-size%3A%2012px%3B%20fill%3A%20rgb(89%2C%2089%2C%2089)%3B%20fill-opacity%3A%201%3B%20white-space%3A%20pre%3B%22%3E96%3C%2Ftext%3E%3C%2Fg%3E%3C%2Fg%3E%3Cg%20class%3D%22trace%22%20stroke-linejoin%3D%22round%22%20style%3D%22opacity%3A%201%3B%22%3E%3Cg%20class%3D%22slice%22%3E%3Cpath%20class%3D%22surface%22%20d%3D%22M387.71562898681566%2C142.9749459264633a19.233333333333334%2C19.233333333333334%200%200%200%20-19.215628986815688%2C-18.40827954589895l0%2C-28.85a48.083333333333336%2C48.083333333333336%200%200%201%2048.03907246703922%2C46.020698864747374Z%22%20style%3D%22pointer-events%3A%20all%3B%20stroke-width%3A%200%3B%20fill%3A%20rgb(175%2C%20122%2C%20161)%3B%20fill-opacity%3A%201%3B%20stroke%3A%20rgb(68%2C%2068%2C%2068)%3B%20stroke-opacity%3A%201%3B%22%2F%3E%3C%2Fg%3E%3Cg%20class%3D%22slice%22%3E%3Cpath%20class%3D%22surface%22%20d%3D%22M368.5%2C124.56666638056437a19.233333333333334%2C19.233333333333334%200%200%200%20-18.265044056563635%2C13.207615390805604l-27.397566084845447%2C-9.038576913791594a48.083333333333336%2C48.083333333333336%200%200%201%2045.66261014140908%2C-33.01903847701401Z%22%20style%3D%22pointer-events%3A%20all%3B%20stroke-width%3A%200%3B%20fill%3A%20rgb(186%2C%20176%2C%20171)%3B%20fill-opacity%3A%201%3B%20stroke%3A%20rgb(68%2C%2068%2C%2068)%3B%20stroke-opacity%3A%201%3B%22%2F%3E%3C%2Fg%3E%3Cg%20class%3D%22slice%22%3E%3Cpath%20class%3D%22surface%22%20d%3D%22M350.2349559434364%2C137.77428177136997a19.233333333333334%2C19.233333333333334%200%200%200%206.711877220829681%2C21.402500674191995l-17.329750253600928%2C23.065174097496396a48.083333333333336%2C48.083333333333336%200%200%201%20-16.7796930520742%2C-53.50625168547998Z%22%20style%3D%22pointer-events%3A%20all%3B%20stroke-width%3A%200%3B%20fill%3A%20rgb(89%2C%20161%2C%2079)%3B%20fill-opacity%3A%201%3B%20stroke%3A%20rgb(68%2C%2068%2C%2068)%3B%20stroke-opacity%3A%201%3B%22%2F%3E%3C%2Fg%3E%3Cg%20class%3D%22slice%22%3E%3Cpath%20class%3D%22surface%22%20d%3D%22M356.946833164266%2C159.17678244556197a19.233333333333334%2C19.233333333333334%200%200%200%2021.745790624903773%2C0.9336903271884666l15.288935683754724%2C24.465709588279093a48.083333333333336%2C48.083333333333336%200%200%201%20-54.364476562259426%2C-2.3342258179711664Z%22%20style%3D%22pointer-events%3A%20all%3B%20stroke-width%3A%200%3B%20fill%3A%20rgb(144%2C%20172%2C%20203)%3B%20fill-opacity%3A%201%3B%20stroke%3A%20rgb(68%2C%2068%2C%2068)%3B%20stroke-opacity%3A%201%3B%22%2F%3E%3C%2Fg%3E%3Cg%20class%3D%22slice%22%3E%3Cpath%20class%3D%22surface%22%20d%3D%22M378.69262378916983%2C160.11047277275043a19.233333333333334%2C19.233333333333334%200%200%200%209.023005197645874%2C-17.135526846287082l28.823443480223535%2C-1.2375806811515253a48.083333333333336%2C48.083333333333336%200%200%201%20-22.557512994114685%2C42.8388171157177Z%22%20style%3D%22pointer-events%3A%20all%3B%20stroke-width%3A%200%3B%20fill%3A%20rgb(156%2C%20117%2C%2095)%3B%20fill-opacity%3A%201%3B%20stroke%3A%20rgb(68%2C%2068%2C%2068)%3B%20stroke-opacity%3A%201%3B%22%2F%3E%3C%2Fg%3E%3Cg%20class%3D%22titletext%22%3E%3Ctext%20data-notex%3D%221%22%20class%3D%22titletext%22%20transform%3D%22translate(368.5%2C191.88333304723105)translate(0%2C12)%22%20text-anchor%3D%22middle%22%20data-unformatted%3D%22112%22%20data-math%3D%22N%22%20x%3D%220%22%20y%3D%220%22%20style%3D%22font-family%3A%20%26quot%3BOpen%20Sans%26quot%3B%2C%20verdana%2C%20arial%2C%20sans-serif%3B%20font-size%3A%2012px%3B%20fill%3A%20rgb(89%2C%2089%2C%2089)%3B%20fill-opacity%3A%201%3B%20white-space%3A%20pre%3B%22%3E112%3C%2Ftext%3E%3C%2Fg%3E%3C%2Fg%3E%3Cg%20class%3D%22trace%22%20stroke-linejoin%3D%22round%22%20style%3D%22opacity%3A%201%3B%22%3E%3Cg%20class%3D%22slice%22%3E%3Cpath%20class%3D%22surface%22%20d%3D%22M495.5351735054984%2C161.7809720005908a19.233333333333345%2C19.233333333333345%200%200%200%20-6.826840172165031%2C-37.21430562002644l0%2C-28.850000000000012a48.08333333333336%2C48.08333333333336%200%200%201%2017.067100430412577%2C93.03576405006609Z%22%20style%3D%22pointer-events%3A%20all%3B%20stroke-width%3A%200%3B%20fill%3A%20rgb(248%2C%20193%2C%20140)%3B%20fill-opacity%3A%201%3B%20stroke%3A%20rgb(68%2C%2068%2C%2068)%3B%20stroke-opacity%3A%201%3B%22%2F%3E%3C%2Fg%3E%3Cg%20class%3D%22slice%22%3E%3Cpath%20class%3D%22surface%22%20d%3D%22M488.70833333333337%2C124.56666638056436a19.233333333333345%2C19.233333333333345%200%200%200%20-12.927495047576532%2C33.47415433866853l-19.391242571364796%2C21.36123150800277a48.08333333333336%2C48.08333333333336%200%200%201%2032.31873761894133%2C-83.68538584667131Z%22%20style%3D%22pointer-events%3A%20all%3B%20stroke-width%3A%200%3B%20fill%3A%20rgb(118%2C%20183%2C%20178)%3B%20fill-opacity%3A%201%3B%20stroke%3A%20rgb(68%2C%2068%2C%2068)%3B%20stroke-opacity%3A%201%3B%22%2F%3E%3C%2Fg%3E%3Cg%20class%3D%22slice%22%3E%3Cpath%20class%3D%22surface%22%20d%3D%22M475.78083828575683%2C158.0408207192329a19.233333333333345%2C19.233333333333345%200%200%200%207.523038630658869%2C4.217590680092928l-8.106684625376495%2C27.687617528142162a48.08333333333336%2C48.08333333333336%200%200%201%20-18.80759657664717%2C-10.54397670023232Z%22%20style%3D%22pointer-events%3A%20all%3B%20stroke-width%3A%200%3B%20fill%3A%20rgb(240%2C%20174%2C%20174)%3B%20fill-opacity%3A%201%3B%20stroke%3A%20rgb(68%2C%2068%2C%2068)%3B%20stroke-opacity%3A%201%3B%22%2F%3E%3C%2Fg%3E%3Cg%20class%3D%22slice%22%3E%3Cpath%20class%3D%22surface%22%20d%3D%22M483.30387691641573%2C162.2584113993258a19.233333333333345%2C19.233333333333345%200%200%200%206.369208599157456%2C0.7507102189686408l1.447128273359688%2C28.813682856595122a48.08333333333336%2C48.08333333333336%200%200%201%20-15.923021497893638%2C-1.8767755474216017Z%22%20style%3D%22pointer-events%3A%20all%3B%20stroke-width%3A%200%3B%20fill%3A%20rgb(185%2C%20218%2C%20216)%3B%20fill-opacity%3A%201%3B%20stroke%3A%20rgb(68%2C%2068%2C%2068)%3B%20stroke-opacity%3A%201%3B%22%2F%3E%3C%2Fg%3E%3Cg%20class%3D%22slice%22%3E%3Cpath%20class%3D%22surface%22%20d%3D%22M489.6730855155732%2C163.00912161829444a19.233333333333345%2C19.233333333333345%200%200%200%205.862087989925235%2C-1.2281496177036502l10.24026025824754%2C26.97145843003965a48.08333333333336%2C48.08333333333336%200%200%201%20-14.655219974813086%2C3.0703740442591254Z%22%20style%3D%22pointer-events%3A%20all%3B%20stroke-width%3A%200%3B%20fill%3A%20rgb(149%2C%20200%2C%20142)%3B%20fill-opacity%3A%201%3B%20stroke%3A%20rgb(68%2C%2068%2C%2068)%3B%20stroke-opacity%3A%201%3B%22%2F%3E%3C%2Fg%3E%3Cg%20class%3D%22titletext%22%3E%3Ctext%20data-notex%3D%221%22%20class%3D%22titletext%22%20transform%3D%22translate(488.70833333333337%2C191.88333304723108)translate(0%2C12)%22%20text-anchor%3D%22middle%22%20data-unformatted%3D%2222%22%20data-math%3D%22N%22%20x%3D%220%22%20y%3D%220%22%20style%3D%22font-family%3A%20%26quot%3BOpen%20Sans%26quot%3B%2C%20verdana%2C%20arial%2C%20sans-serif%3B%20font-size%3A%2012px%3B%20fill%3A%20rgb(89%2C%2089%2C%2089)%3B%20fill-opacity%3A%201%3B%20white-space%3A%20pre%3B%22%3E22%3C%2Ftext%3E%3C%2Fg%3E%3C%2Fg%3E%3Cg%20class%3D%22trace%22%20stroke-linejoin%3D%22round%22%20style%3D%22opacity%3A%201%3B%22%3E%3Cg%20class%3D%22slice%22%3E%3Cpath%20class%3D%22surface%22%20d%3D%22M617.073400037822%2C161.2180596467086a19.23333333333333%2C19.23333333333333%200%200%200%20-8.156733371155296%2C-36.65139326614423l0%2C-28.84999999999999a48.08333333333332%2C48.08333333333332%200%200%201%2020.39183342788824%2C91.62848316536058Z%22%20style%3D%22pointer-events%3A%20all%3B%20stroke-width%3A%200%3B%20fill%3A%20rgb(246%2C%20229%2C%20166)%3B%20fill-opacity%3A%201%3B%20stroke%3A%20rgb(68%2C%2068%2C%2068)%3B%20stroke-opacity%3A%201%3B%22%2F%3E%3C%2Fg%3E%3Cg%20class%3D%22slice%22%3E%3Cpath%20class%3D%22surface%22%20d%3D%22M608.9166666666667%2C124.56666638056437a19.23333333333333%2C19.23333333333333%200%200%200%20-15.77929145558726%2C30.23038167689997l-23.668937183380887%2C16.495572515349966a48.08333333333332%2C48.08333333333332%200%200%201%2039.448228638968146%2C-75.57595419224992Z%22%20style%3D%22pointer-events%3A%20all%3B%20stroke-width%3A%200%3B%20fill%3A%20rgb(118%2C%20183%2C%20178)%3B%20fill-opacity%3A%201%3B%20stroke%3A%20rgb(68%2C%2068%2C%2068)%3B%20stroke-opacity%3A%201%3B%22%2F%3E%3C%2Fg%3E%3Cg%20class%3D%22slice%22%3E%3Cpath%20class%3D%22surface%22%20d%3D%22M593.1373752110795%2C154.79704805746434a19.23333333333333%2C19.23333333333333%200%200%200%2014.917337784659669%2C8.216960789882975l-1.2929305063913876%2C28.821013700174426a48.08333333333332%2C48.08333333333332%200%200%201%20-37.29334446164917%2C-20.54240197470744Z%22%20style%3D%22pointer-events%3A%20all%3B%20stroke-width%3A%200%3B%20fill%3A%20rgb(213%2C%20186%2C%20206)%3B%20fill-opacity%3A%201%3B%20stroke%3A%20rgb(68%2C%2068%2C%2068)%3B%20stroke-opacity%3A%201%3B%22%2F%3E%3C%2Fg%3E%3Cg%20class%3D%22slice%22%3E%3Cpath%20class%3D%22surface%22%20d%3D%22M608.0547129957391%2C163.01400884734733a19.23333333333333%2C19.23333333333333%200%200%200%205.5242134428392875%2C-0.5543080391039524l6.993389657867543%2C27.9895516415185a48.08333333333332%2C48.08333333333332%200%200%201%20-13.810533607098218%2C1.385770097759881Z%22%20style%3D%22pointer-events%3A%20all%3B%20stroke-width%3A%200%3B%20fill%3A%20rgb(255%2C%20255%2C%20255)%3B%20fill-opacity%3A%201%3B%20stroke%3A%20rgb(68%2C%2068%2C%2068)%3B%20stroke-opacity%3A%201%3B%22%2F%3E%3C%2Fg%3E%3Cg%20class%3D%22slice%22%3E%3Cpath%20class%3D%22surface%22%20d%3D%22M613.5789264385785%2C162.45970080824338a19.23333333333333%2C19.23333333333333%200%200%200%203.4944735992436122%2C-1.2416411615347727l12.23510005673296%2C26.12708989921634a48.08333333333332%2C48.08333333333332%200%200%201%20-8.73618399810903%2C3.1041029038369317Z%22%20style%3D%22pointer-events%3A%20all%3B%20stroke-width%3A%200%3B%20fill%3A%20rgb(196%2C%20171%2C%20157)%3B%20fill-opacity%3A%201%3B%20stroke%3A%20rgb(68%2C%2068%2C%2068)%3B%20stroke-opacity%3A%201%3B%22%2F%3E%3C%2Fg%3E%3Cg%20class%3D%22titletext%22%3E%3Ctext%20data-notex%3D%221%22%20class%3D%22titletext%22%20transform%3D%22translate(608.9166666666667%2C191.88333304723102)translate(0%2C12)%22%20text-anchor%3D%22middle%22%20data-unformatted%3D%22329%22%20data-math%3D%22N%22%20x%3D%220%22%20y%3D%220%22%20style%3D%22font-family%3A%20%26quot%3BOpen%20Sans%26quot%3B%2C%20verdana%2C%20arial%2C%20sans-serif%3B%20font-size%3A%2012px%3B%20fill%3A%20rgb(89%2C%2089%2C%2089)%3B%20fill-opacity%3A%201%3B%20white-space%3A%20pre%3B%22%3E329%3C%2Ftext%3E%3C%2Fg%3E%3C%2Fg%3E%3C%2Fg%3E%3Cg%20class%3D%22treemaplayer%22%2F%3E%3Cg%20class%3D%22sunburstlayer%22%2F%3E%3Cg%20class%3D%22glimages%22%2F%3E%3Cdefs%20id%3D%22topdefs-c88eee%22%3E%3Cg%20class%3D%22clips%22%2F%3E%3CclipPath%20id%3D%22legendc88eee%22%3E%3Crect%20width%3D%22308%22%20height%3D%22242%22%20x%3D%220%22%20y%3D%220%22%2F%3E%3C%2FclipPath%3E%3C%2Fdefs%3E%3Cg%20class%3D%22indicatorlayer%22%2F%3E%3Cg%20class%3D%22layer-above%22%3E%3Cg%20class%3D%22imagelayer%22%2F%3E%3Cg%20class%3D%22shapelayer%22%2F%3E%3C%2Fg%3E%3Cg%20class%3D%22infolayer%22%3E%3Cg%20class%3D%22legend%22%20pointer-events%3D%22all%22%20transform%3D%22translate(668.54%2C30)%22%3E%3Crect%20class%3D%22bg%22%20shape-rendering%3D%22crispEdges%22%20width%3D%22308%22%20height%3D%22242%22%20x%3D%220%22%20y%3D%220%22%20style%3D%22stroke%3A%20rgb(68%2C%2068%2C%2068)%3B%20stroke-opacity%3A%201%3B%20fill%3A%20rgb(255%2C%20255%2C%20255)%3B%20fill-opacity%3A%201%3B%20stroke-width%3A%200px%3B%22%2F%3E%3Cg%20class%3D%22scrollbox%22%20clip-path%3D%22url('%23legendc88eee')%22%20transform%3D%22%22%3E%3Cg%20class%3D%22groups%22%3E%3Cg%20class%3D%22traces%22%20transform%3D%22translate(0%2C14.5)%22%20style%3D%22opacity%3A%201%3B%22%3E%3Ctext%20class%3D%22legendtext%22%20text-anchor%3D%22start%22%20x%3D%2240%22%20y%3D%224.680000000000001%22%20data-unformatted%3D%22likes%2C%20Fran%C3%A7ois%20Chollet%22%20data-math%3D%22N%22%20style%3D%22font-family%3A%20%26quot%3BOpen%20Sans%26quot%3B%2C%20verdana%2C%20arial%2C%20sans-serif%3B%20font-size%3A%2012px%3B%20fill%3A%20rgb(89%2C%2089%2C%2089)%3B%20fill-opacity%3A%201%3B%20white-space%3A%20pre%3B%22%3Elikes%2C%20Fran%C3%A7ois%20Chollet%3C%2Ftext%3E%3Cg%20class%3D%22layers%22%20style%3D%22opacity%3A%201%3B%22%3E%3Cg%20class%3D%22legendfill%22%2F%3E%3Cg%20class%3D%22legendlines%22%2F%3E%3Cg%20class%3D%22legendsymbols%22%3E%3Cg%20class%3D%22legendpoints%22%3E%3Cpath%20class%3D%22legendpie%22%20d%3D%22M6%2C6H-6V-6H6Z%22%20transform%3D%22translate(20%2C0)%22%20style%3D%22stroke-width%3A%200%3B%20fill%3A%20rgb(78%2C%20121%2C%20167)%3B%20fill-opacity%3A%201%3B%20stroke%3A%20rgb(68%2C%2068%2C%2068)%3B%20stroke-opacity%3A%201%3B%22%2F%3E%3C%2Fg%3E%3C%2Fg%3E%3C%2Fg%3E%3Crect%20class%3D%22legendtoggle%22%20pointer-events%3D%22all%22%20x%3D%220%22%20y%3D%22-9.5%22%20width%3D%22292.1687469482422%22%20height%3D%2219%22%20style%3D%22cursor%3A%20pointer%3B%20fill%3A%20rgb(0%2C%200%2C%200)%3B%20fill-opacity%3A%200%3B%22%2F%3E%3C%2Fg%3E%3Cg%20class%3D%22traces%22%20transform%3D%22translate(0%2C33.5)%22%20style%3D%22opacity%3A%201%3B%22%3E%3Ctext%20class%3D%22legendtext%22%20text-anchor%3D%22start%22%20x%3D%2240%22%20y%3D%224.680000000000001%22%20data-unformatted%3D%22likes%2C%20Pedro%20Domingos%22%20data-math%3D%22N%22%20style%3D%22font-family%3A%20%26quot%3BOpen%20Sans%26quot%3B%2C%20verdana%2C%20arial%2C%20sans-serif%3B%20font-size%3A%2012px%3B%20fill%3A%20rgb(89%2C%2089%2C%2089)%3B%20fill-opacity%3A%201%3B%20white-space%3A%20pre%3B%22%3Elikes%2C%20Pedro%20Domingos%3C%2Ftext%3E%3Cg%20class%3D%22layers%22%20style%3D%22opacity%3A%201%3B%22%3E%3Cg%20class%3D%22legendfill%22%2F%3E%3Cg%20class%3D%22legendlines%22%2F%3E%3Cg%20class%3D%22legendsymbols%22%3E%3Cg%20class%3D%22legendpoints%22%3E%3Cpath%20class%3D%22legendpie%22%20d%3D%22M6%2C6H-6V-6H6Z%22%20transform%3D%22translate(20%2C0)%22%20style%3D%22stroke-width%3A%200%3B%20fill%3A%20rgb(242%2C%20142%2C%2044)%3B%20fill-opacity%3A%201%3B%20stroke%3A%20rgb(68%2C%2068%2C%2068)%3B%20stroke-opacity%3A%201%3B%22%2F%3E%3C%2Fg%3E%3C%2Fg%3E%3C%2Fg%3E%3Crect%20class%3D%22legendtoggle%22%20pointer-events%3D%22all%22%20x%3D%220%22%20y%3D%22-9.5%22%20width%3D%22292.1687469482422%22%20height%3D%2219%22%20style%3D%22cursor%3A%20pointer%3B%20fill%3A%20rgb(0%2C%200%2C%200)%3B%20fill-opacity%3A%200%3B%22%2F%3E%3C%2Fg%3E%3Cg%20class%3D%22traces%22%20transform%3D%22translate(0%2C52.5)%22%20style%3D%22opacity%3A%201%3B%22%3E%3Ctext%20class%3D%22legendtext%22%20text-anchor%3D%22start%22%20x%3D%2240%22%20y%3D%224.680000000000001%22%20data-unformatted%3D%22likes%2C%20Kosta%20Derpanis%22%20data-math%3D%22N%22%20style%3D%22font-family%3A%20%26quot%3BOpen%20Sans%26quot%3B%2C%20verdana%2C%20arial%2C%20sans-serif%3B%20font-size%3A%2012px%3B%20fill%3A%20rgb(89%2C%2089%2C%2089)%3B%20fill-opacity%3A%201%3B%20white-space%3A%20pre%3B%22%3Elikes%2C%20Kosta%20Derpanis%3C%2Ftext%3E%3Cg%20class%3D%22layers%22%20style%3D%22opacity%3A%201%3B%22%3E%3Cg%20class%3D%22legendfill%22%2F%3E%3Cg%20class%3D%22legendlines%22%2F%3E%3Cg%20class%3D%22legendsymbols%22%3E%3Cg%20class%3D%22legendpoints%22%3E%3Cpath%20class%3D%22legendpie%22%20d%3D%22M6%2C6H-6V-6H6Z%22%20transform%3D%22translate(20%2C0)%22%20style%3D%22stroke-width%3A%200%3B%20fill%3A%20rgb(225%2C%2087%2C%2089)%3B%20fill-opacity%3A%201%3B%20stroke%3A%20rgb(68%2C%2068%2C%2068)%3B%20stroke-opacity%3A%201%3B%22%2F%3E%3C%2Fg%3E%3C%2Fg%3E%3C%2Fg%3E%3Crect%20class%3D%22legendtoggle%22%20pointer-events%3D%22all%22%20x%3D%220%22%20y%3D%22-9.5%22%20width%3D%22292.1687469482422%22%20height%3D%2219%22%20style%3D%22cursor%3A%20pointer%3B%20fill%3A%20rgb(0%2C%200%2C%200)%3B%20fill-opacity%3A%200%3B%22%2F%3E%3C%2Fg%3E%3Cg%20class%3D%22traces%22%20transform%3D%22translate(0%2C71.5)%22%20style%3D%22opacity%3A%201%3B%22%3E%3Ctext%20class%3D%22legendtext%22%20text-anchor%3D%22start%22%20x%3D%2240%22%20y%3D%224.680000000000001%22%20data-unformatted%3D%22likes%2C%20Alvin%20Foo%22%20data-math%3D%22N%22%20style%3D%22font-family%3A%20%26quot%3BOpen%20Sans%26quot%3B%2C%20verdana%2C%20arial%2C%20sans-serif%3B%20font-size%3A%2012px%3B%20fill%3A%20rgb(89%2C%2089%2C%2089)%3B%20fill-opacity%3A%201%3B%20white-space%3A%20pre%3B%22%3Elikes%2C%20Alvin%20Foo%3C%2Ftext%3E%3Cg%20class%3D%22layers%22%20style%3D%22opacity%3A%201%3B%22%3E%3Cg%20class%3D%22legendfill%22%2F%3E%3Cg%20class%3D%22legendlines%22%2F%3E%3Cg%20class%3D%22legendsymbols%22%3E%3Cg%20class%3D%22legendpoints%22%3E%3Cpath%20class%3D%22legendpie%22%20d%3D%22M6%2C6H-6V-6H6Z%22%20transform%3D%22translate(20%2C0)%22%20style%3D%22stroke-width%3A%200%3B%20fill%3A%20rgb(118%2C%20183%2C%20178)%3B%20fill-opacity%3A%201%3B%20stroke%3A%20rgb(68%2C%2068%2C%2068)%3B%20stroke-opacity%3A%201%3B%22%2F%3E%3C%2Fg%3E%3C%2Fg%3E%3C%2Fg%3E%3Crect%20class%3D%22legendtoggle%22%20pointer-events%3D%22all%22%20x%3D%220%22%20y%3D%22-9.5%22%20width%3D%22292.1687469482422%22%20height%3D%2219%22%20style%3D%22cursor%3A%20pointer%3B%20fill%3A%20rgb(0%2C%200%2C%200)%3B%20fill-opacity%3A%200%3B%22%2F%3E%3C%2Fg%3E%3Cg%20class%3D%22traces%22%20transform%3D%22translate(0%2C90.5)%22%20style%3D%22opacity%3A%201%3B%22%3E%3Ctext%20class%3D%22legendtext%22%20text-anchor%3D%22start%22%20x%3D%2240%22%20y%3D%224.680000000000001%22%20data-unformatted%3D%22likes%2C%20Ronald%20van%20Loon%22%20data-math%3D%22N%22%20style%3D%22font-family%3A%20%26quot%3BOpen%20Sans%26quot%3B%2C%20verdana%2C%20arial%2C%20sans-serif%3B%20font-size%3A%2012px%3B%20fill%3A%20rgb(89%2C%2089%2C%2089)%3B%20fill-opacity%3A%201%3B%20white-space%3A%20pre%3B%22%3Elikes%2C%20Ronald%20van%20Loon%3C%2Ftext%3E%3Cg%20class%3D%22layers%22%20style%3D%22opacity%3A%201%3B%22%3E%3Cg%20class%3D%22legendfill%22%2F%3E%3Cg%20class%3D%22legendlines%22%2F%3E%3Cg%20class%3D%22legendsymbols%22%3E%3Cg%20class%3D%22legendpoints%22%3E%3Cpath%20class%3D%22legendpie%22%20d%3D%22M6%2C6H-6V-6H6Z%22%20transform%3D%22translate(20%2C0)%22%20style%3D%22stroke-width%3A%200%3B%20fill%3A%20rgb(89%2C%20161%2C%2079)%3B%20fill-opacity%3A%201%3B%20stroke%3A%20rgb(68%2C%2068%2C%2068)%3B%20stroke-opacity%3A%201%3B%22%2F%3E%3C%2Fg%3E%3C%2Fg%3E%3C%2Fg%3E%3Crect%20class%3D%22legendtoggle%22%20pointer-events%3D%22all%22%20x%3D%220%22%20y%3D%22-9.5%22%20width%3D%22292.1687469482422%22%20height%3D%2219%22%20style%3D%22cursor%3A%20pointer%3B%20fill%3A%20rgb(0%2C%200%2C%200)%3B%20fill-opacity%3A%200%3B%22%2F%3E%3C%2Fg%3E%3Cg%20class%3D%22traces%22%20transform%3D%22translate(0%2C109.5)%22%20style%3D%22opacity%3A%201%3B%22%3E%3Ctext%20class%3D%22legendtext%22%20text-anchor%3D%22start%22%20x%3D%2240%22%20y%3D%224.680000000000001%22%20data-unformatted%3D%22likes%2C%20Sergey%20Levine%22%20data-math%3D%22N%22%20style%3D%22font-family%3A%20%26quot%3BOpen%20Sans%26quot%3B%2C%20verdana%2C%20arial%2C%20sans-serif%3B%20font-size%3A%2012px%3B%20fill%3A%20rgb(89%2C%2089%2C%2089)%3B%20fill-opacity%3A%201%3B%20white-space%3A%20pre%3B%22%3Elikes%2C%20Sergey%20Levine%3C%2Ftext%3E%3Cg%20class%3D%22layers%22%20style%3D%22opacity%3A%201%3B%22%3E%3Cg%20class%3D%22legendfill%22%2F%3E%3Cg%20class%3D%22legendlines%22%2F%3E%3Cg%20class%3D%22legendsymbols%22%3E%3Cg%20class%3D%22legendpoints%22%3E%3Cpath%20class%3D%22legendpie%22%20d%3D%22M6%2C6H-6V-6H6Z%22%20transform%3D%22translate(20%2C0)%22%20style%3D%22stroke-width%3A%200%3B%20fill%3A%20rgb(237%2C%20201%2C%2073)%3B%20fill-opacity%3A%201%3B%20stroke%3A%20rgb(68%2C%2068%2C%2068)%3B%20stroke-opacity%3A%201%3B%22%2F%3E%3C%2Fg%3E%3C%2Fg%3E%3C%2Fg%3E%3Crect%20class%3D%22legendtoggle%22%20pointer-events%3D%22all%22%20x%3D%220%22%20y%3D%22-9.5%22%20width%3D%22292.1687469482422%22%20height%3D%2219%22%20style%3D%22cursor%3A%20pointer%3B%20fill%3A%20rgb(0%2C%200%2C%200)%3B%20fill-opacity%3A%200%3B%22%2F%3E%3C%2Fg%3E%3Cg%20class%3D%22traces%22%20transform%3D%22translate(0%2C128.5)%22%20style%3D%22opacity%3A%201%3B%22%3E%3Ctext%20class%3D%22legendtext%22%20text-anchor%3D%22start%22%20x%3D%2240%22%20y%3D%224.680000000000001%22%20data-unformatted%3D%22likes%2C%20Tamara%20McCleary%22%20data-math%3D%22N%22%20style%3D%22font-family%3A%20%26quot%3BOpen%20Sans%26quot%3B%2C%20verdana%2C%20arial%2C%20sans-serif%3B%20font-size%3A%2012px%3B%20fill%3A%20rgb(89%2C%2089%2C%2089)%3B%20fill-opacity%3A%201%3B%20white-space%3A%20pre%3B%22%3Elikes%2C%20Tamara%20McCleary%3C%2Ftext%3E%3Cg%20class%3D%22layers%22%20style%3D%22opacity%3A%201%3B%22%3E%3Cg%20class%3D%22legendfill%22%2F%3E%3Cg%20class%3D%22legendlines%22%2F%3E%3Cg%20class%3D%22legendsymbols%22%3E%3Cg%20class%3D%22legendpoints%22%3E%3Cpath%20class%3D%22legendpie%22%20d%3D%22M6%2C6H-6V-6H6Z%22%20transform%3D%22translate(20%2C0)%22%20style%3D%22stroke-width%3A%200%3B%20fill%3A%20rgb(175%2C%20122%2C%20161)%3B%20fill-opacity%3A%201%3B%20stroke%3A%20rgb(68%2C%2068%2C%2068)%3B%20stroke-opacity%3A%201%3B%22%2F%3E%3C%2Fg%3E%3C%2Fg%3E%3C%2Fg%3E%3Crect%20class%3D%22legendtoggle%22%20pointer-events%3D%22all%22%20x%3D%220%22%20y%3D%22-9.5%22%20width%3D%22292.1687469482422%22%20height%3D%2219%22%20style%3D%22cursor%3A%20pointer%3B%20fill%3A%20rgb(0%2C%200%2C%200)%3B%20fill-opacity%3A%200%3B%22%2F%3E%3C%2Fg%3E%3Cg%20class%3D%22traces%22%20transform%3D%22translate(0%2C147.5)%22%20style%3D%22opacity%3A%201%3B%22%3E%3Ctext%20class%3D%22legendtext%22%20text-anchor%3D%22start%22%20x%3D%2240%22%20y%3D%224.680000000000001%22%20data-unformatted%3D%22likes%2C%20Nige%20Willson%22%20data-math%3D%22N%22%20style%3D%22font-family%3A%20%26quot%3BOpen%20Sans%26quot%3B%2C%20verdana%2C%20arial%2C%20sans-serif%3B%20font-size%3A%2012px%3B%20fill%3A%20rgb(89%2C%2089%2C%2089)%3B%20fill-opacity%3A%201%3B%20white-space%3A%20pre%3B%22%3Elikes%2C%20Nige%20Willson%3C%2Ftext%3E%3Cg%20class%3D%22layers%22%20style%3D%22opacity%3A%201%3B%22%3E%3Cg%20class%3D%22legendfill%22%2F%3E%3Cg%20class%3D%22legendlines%22%2F%3E%3Cg%20class%3D%22legendsymbols%22%3E%3Cg%20class%3D%22legendpoints%22%3E%3Cpath%20class%3D%22legendpie%22%20d%3D%22M6%2C6H-6V-6H6Z%22%20transform%3D%22translate(20%2C0)%22%20style%3D%22stroke-width%3A%200%3B%20fill%3A%20rgb(255%2C%20157%2C%20167)%3B%20fill-opacity%3A%201%3B%20stroke%3A%20rgb(68%2C%2068%2C%2068)%3B%20stroke-opacity%3A%201%3B%22%2F%3E%3C%2Fg%3E%3C%2Fg%3E%3C%2Fg%3E%3Crect%20class%3D%22legendtoggle%22%20pointer-events%3D%22all%22%20x%3D%220%22%20y%3D%22-9.5%22%20width%3D%22292.1687469482422%22%20height%3D%2219%22%20style%3D%22cursor%3A%20pointer%3B%20fill%3A%20rgb(0%2C%200%2C%200)%3B%20fill-opacity%3A%200%3B%22%2F%3E%3C%2Fg%3E%3Cg%20class%3D%22traces%22%20transform%3D%22translate(0%2C166.5)%22%20style%3D%22opacity%3A%201%3B%22%3E%3Ctext%20class%3D%22legendtext%22%20text-anchor%3D%22start%22%20x%3D%2240%22%20y%3D%224.680000000000001%22%20data-unformatted%3D%22likes%2C%20ipfconline%22%20data-math%3D%22N%22%20style%3D%22font-family%3A%20%26quot%3BOpen%20Sans%26quot%3B%2C%20verdana%2C%20arial%2C%20sans-serif%3B%20font-size%3A%2012px%3B%20fill%3A%20rgb(89%2C%2089%2C%2089)%3B%20fill-opacity%3A%201%3B%20white-space%3A%20pre%3B%22%3Elikes%2C%20ipfconline%3C%2Ftext%3E%3Cg%20class%3D%22layers%22%20style%3D%22opacity%3A%201%3B%22%3E%3Cg%20class%3D%22legendfill%22%2F%3E%3Cg%20class%3D%22legendlines%22%2F%3E%3Cg%20class%3D%22legendsymbols%22%3E%3Cg%20class%3D%22legendpoints%22%3E%3Cpath%20class%3D%22legendpie%22%20d%3D%22M6%2C6H-6V-6H6Z%22%20transform%3D%22translate(20%2C0)%22%20style%3D%22stroke-width%3A%200%3B%20fill%3A%20rgb(156%2C%20117%2C%2095)%3B%20fill-opacity%3A%201%3B%20stroke%3A%20rgb(68%2C%2068%2C%2068)%3B%20stroke-opacity%3A%201%3B%22%2F%3E%3C%2Fg%3E%3C%2Fg%3E%3C%2Fg%3E%3Crect%20class%3D%22legendtoggle%22%20pointer-events%3D%22all%22%20x%3D%220%22%20y%3D%22-9.5%22%20width%3D%22292.1687469482422%22%20height%3D%2219%22%20style%3D%22cursor%3A%20pointer%3B%20fill%3A%20rgb(0%2C%200%2C%200)%3B%20fill-opacity%3A%200%3B%22%2F%3E%3C%2Fg%3E%3Cg%20class%3D%22traces%22%20transform%3D%22translate(0%2C185.5)%22%20style%3D%22opacity%3A%201%3B%22%3E%3Ctext%20class%3D%22legendtext%22%20text-anchor%3D%22start%22%20x%3D%2240%22%20y%3D%224.680000000000001%22%20data-unformatted%3D%22likes%2C%20Andreas%20Staub%22%20data-math%3D%22N%22%20style%3D%22font-family%3A%20%26quot%3BOpen%20Sans%26quot%3B%2C%20verdana%2C%20arial%2C%20sans-serif%3B%20font-size%3A%2012px%3B%20fill%3A%20rgb(89%2C%2089%2C%2089)%3B%20fill-opacity%3A%201%3B%20white-space%3A%20pre%3B%22%3Elikes%2C%20Andreas%20Staub%3C%2Ftext%3E%3Cg%20class%3D%22layers%22%20style%3D%22opacity%3A%201%3B%22%3E%3Cg%20class%3D%22legendfill%22%2F%3E%3Cg%20class%3D%22legendlines%22%2F%3E%3Cg%20class%3D%22legendsymbols%22%3E%3Cg%20class%3D%22legendpoints%22%3E%3Cpath%20class%3D%22legendpie%22%20d%3D%22M6%2C6H-6V-6H6Z%22%20transform%3D%22translate(20%2C0)%22%20style%3D%22stroke-width%3A%200%3B%20fill%3A%20rgb(186%2C%20176%2C%20171)%3B%20fill-opacity%3A%201%3B%20stroke%3A%20rgb(68%2C%2068%2C%2068)%3B%20stroke-opacity%3A%201%3B%22%2F%3E%3C%2Fg%3E%3C%2Fg%3E%3C%2Fg%3E%3Crect%20class%3D%22legendtoggle%22%20pointer-events%3D%22all%22%20x%3D%220%22%20y%3D%22-9.5%22%20width%3D%22292.1687469482422%22%20height%3D%2219%22%20style%3D%22cursor%3A%20pointer%3B%20fill%3A%20rgb(0%2C%200%2C%200)%3B%20fill-opacity%3A%200%3B%22%2F%3E%3C%2Fg%3E%3Cg%20class%3D%22traces%22%20transform%3D%22translate(0%2C204.5)%22%20style%3D%22opacity%3A%201%3B%22%3E%3Ctext%20class%3D%22legendtext%22%20text-anchor%3D%22start%22%20x%3D%2240%22%20y%3D%224.680000000000001%22%20data-unformatted%3D%22likes%2C%20Kirk%20Borne%22%20data-math%3D%22N%22%20style%3D%22font-family%3A%20%26quot%3BOpen%20Sans%26quot%3B%2C%20verdana%2C%20arial%2C%20sans-serif%3B%20font-size%3A%2012px%3B%20fill%3A%20rgb(89%2C%2089%2C%2089)%3B%20fill-opacity%3A%201%3B%20white-space%3A%20pre%3B%22%3Elikes%2C%20Kirk%20Borne%3C%2Ftext%3E%3Cg%20class%3D%22layers%22%20style%3D%22opacity%3A%201%3B%22%3E%3Cg%20class%3D%22legendfill%22%2F%3E%3Cg%20class%3D%22legendlines%22%2F%3E%3Cg%20class%3D%22legendsymbols%22%3E%3Cg%20class%3D%22legendpoints%22%3E%3Cpath%20class%3D%22legendpie%22%20d%3D%22M6%2C6H-6V-6H6Z%22%20transform%3D%22translate(20%2C0)%22%20style%3D%22stroke-width%3A%200%3B%20fill%3A%20rgb(144%2C%20172%2C%20203)%3B%20fill-opacity%3A%201%3B%20stroke%3A%20rgb(68%2C%2068%2C%2068)%3B%20stroke-opacity%3A%201%3B%22%2F%3E%3C%2Fg%3E%3C%2Fg%3E%3C%2Fg%3E%3Crect%20class%3D%22legendtoggle%22%20pointer-events%3D%22all%22%20x%3D%220%22%20y%3D%22-9.5%22%20width%3D%22292.1687469482422%22%20height%3D%2219%22%20style%3D%22cursor%3A%20pointer%3B%20fill%3A%20rgb(0%2C%200%2C%200)%3B%20fill-opacity%3A%200%3B%22%2F%3E%3C%2Fg%3E%3Cg%20class%3D%22traces%22%20transform%3D%22translate(0%2C223.5)%22%20style%3D%22opacity%3A%201%3B%22%3E%3Ctext%20class%3D%22legendtext%22%20text-anchor%3D%22start%22%20x%3D%2240%22%20y%3D%224.680000000000001%22%20data-unformatted%3D%22likes%2C%20Pascal%20Bornet%22%20data-math%3D%22N%22%20style%3D%22font-family%3A%20%26quot%3BOpen%20Sans%26quot%3B%2C%20verdana%2C%20arial%2C%20sans-serif%3B%20font-size%3A%2012px%3B%20fill%3A%20rgb(89%2C%2089%2C%2089)%3B%20fill-opacity%3A%201%3B%20white-space%3A%20pre%3B%22%3Elikes%2C%20Pascal%20Bornet%3C%2Ftext%3E%3Cg%20class%3D%22layers%22%20style%3D%22opacity%3A%201%3B%22%3E%3Cg%20class%3D%22legendfill%22%2F%3E%3Cg%20class%3D%22legendlines%22%2F%3E%3Cg%20class%3D%22legendsymbols%22%3E%3Cg%20class%3D%22legendpoints%22%3E%3Cpath%20class%3D%22legendpie%22%20d%3D%22M6%2C6H-6V-6H6Z%22%20transform%3D%22translate(20%2C0)%22%20style%3D%22stroke-width%3A%200%3B%20fill%3A%20rgb(248%2C%20193%2C%20140)%3B%20fill-opacity%3A%201%3B%20stroke%3A%20rgb(68%2C%2068%2C%2068)%3B%20stroke-opacity%3A%201%3B%22%2F%3E%3C%2Fg%3E%3C%2Fg%3E%3C%2Fg%3E%3Crect%20class%3D%22legendtoggle%22%20pointer-events%3D%22all%22%20x%3D%220%22%20y%3D%22-9.5%22%20width%3D%22292.1687469482422%22%20height%3D%2219%22%20style%3D%22cursor%3A%20pointer%3B%20fill%3A%20rgb(0%2C%200%2C%200)%3B%20fill-opacity%3A%200%3B%22%2F%3E%3C%2Fg%3E%3Cg%20class%3D%22traces%22%20transform%3D%22translate(0%2C242.5)%22%20style%3D%22opacity%3A%201%3B%22%3E%3Ctext%20class%3D%22legendtext%22%20text-anchor%3D%22start%22%20x%3D%2240%22%20y%3D%224.680000000000001%22%20data-unformatted%3D%22likes%2C%20Keith%20McNulty%22%20data-math%3D%22N%22%20style%3D%22font-family%3A%20%26quot%3BOpen%20Sans%26quot%3B%2C%20verdana%2C%20arial%2C%20sans-serif%3B%20font-size%3A%2012px%3B%20fill%3A%20rgb(89%2C%2089%2C%2089)%3B%20fill-opacity%3A%201%3B%20white-space%3A%20pre%3B%22%3Elikes%2C%20Keith%20McNulty%3C%2Ftext%3E%3Cg%20class%3D%22layers%22%20style%3D%22opacity%3A%201%3B%22%3E%3Cg%20class%3D%22legendfill%22%2F%3E%3Cg%20class%3D%22legendlines%22%2F%3E%3Cg%20class%3D%22legendsymbols%22%3E%3Cg%20class%3D%22legendpoints%22%3E%3Cpath%20class%3D%22legendpie%22%20d%3D%22M6%2C6H-6V-6H6Z%22%20transform%3D%22translate(20%2C0)%22%20style%3D%22stroke-width%3A%200%3B%20fill%3A%20rgb(240%2C%20174%2C%20174)%3B%20fill-opacity%3A%201%3B%20stroke%3A%20rgb(68%2C%2068%2C%2068)%3B%20stroke-opacity%3A%201%3B%22%2F%3E%3C%2Fg%3E%3C%2Fg%3E%3C%2Fg%3E%3Crect%20class%3D%22legendtoggle%22%20pointer-events%3D%22all%22%20x%3D%220%22%20y%3D%22-9.5%22%20width%3D%22292.1687469482422%22%20height%3D%2219%22%20style%3D%22cursor%3A%20pointer%3B%20fill%3A%20rgb(0%2C%200%2C%200)%3B%20fill-opacity%3A%200%3B%22%2F%3E%3C%2Fg%3E%3Cg%20class%3D%22traces%22%20transform%3D%22translate(0%2C261.5)%22%20style%3D%22opacity%3A%201%3B%22%3E%3Ctext%20class%3D%22legendtext%22%20text-anchor%3D%22start%22%20x%3D%2240%22%20y%3D%224.680000000000001%22%20data-unformatted%3D%22likes%2C%20Randy%20Olson%22%20data-math%3D%22N%22%20style%3D%22font-family%3A%20%26quot%3BOpen%20Sans%26quot%3B%2C%20verdana%2C%20arial%2C%20sans-serif%3B%20font-size%3A%2012px%3B%20fill%3A%20rgb(89%2C%2089%2C%2089)%3B%20fill-opacity%3A%201%3B%20white-space%3A%20pre%3B%22%3Elikes%2C%20Randy%20Olson%3C%2Ftext%3E%3Cg%20class%3D%22layers%22%20style%3D%22opacity%3A%201%3B%22%3E%3Cg%20class%3D%22legendfill%22%2F%3E%3Cg%20class%3D%22legendlines%22%2F%3E%3Cg%20class%3D%22legendsymbols%22%3E%3Cg%20class%3D%22legendpoints%22%3E%3Cpath%20class%3D%22legendpie%22%20d%3D%22M6%2C6H-6V-6H6Z%22%20transform%3D%22translate(20%2C0)%22%20style%3D%22stroke-width%3A%200%3B%20fill%3A%20rgb(185%2C%20218%2C%20216)%3B%20fill-opacity%3A%201%3B%20stroke%3A%20rgb(68%2C%2068%2C%2068)%3B%20stroke-opacity%3A%201%3B%22%2F%3E%3C%2Fg%3E%3C%2Fg%3E%3C%2Fg%3E%3Crect%20class%3D%22legendtoggle%22%20pointer-events%3D%22all%22%20x%3D%220%22%20y%3D%22-9.5%22%20width%3D%22292.1687469482422%22%20height%3D%2219%22%20style%3D%22cursor%3A%20pointer%3B%20fill%3A%20rgb(0%2C%200%2C%200)%3B%20fill-opacity%3A%200%3B%22%2F%3E%3C%2Fg%3E%3Cg%20class%3D%22traces%22%20transform%3D%22translate(0%2C280.5)%22%20style%3D%22opacity%3A%201%3B%22%3E%3Ctext%20class%3D%22legendtext%22%20text-anchor%3D%22start%22%20x%3D%2240%22%20y%3D%224.680000000000001%22%20data-unformatted%3D%22likes%2C%20Fernando%20P%C3%A9rez%22%20data-math%3D%22N%22%20style%3D%22font-family%3A%20%26quot%3BOpen%20Sans%26quot%3B%2C%20verdana%2C%20arial%2C%20sans-serif%3B%20font-size%3A%2012px%3B%20fill%3A%20rgb(89%2C%2089%2C%2089)%3B%20fill-opacity%3A%201%3B%20white-space%3A%20pre%3B%22%3Elikes%2C%20Fernando%20P%C3%A9rez%3C%2Ftext%3E%3Cg%20class%3D%22layers%22%20style%3D%22opacity%3A%201%3B%22%3E%3Cg%20class%3D%22legendfill%22%2F%3E%3Cg%20class%3D%22legendlines%22%2F%3E%3Cg%20class%3D%22legendsymbols%22%3E%3Cg%20class%3D%22legendpoints%22%3E%3Cpath%20class%3D%22legendpie%22%20d%3D%22M6%2C6H-6V-6H6Z%22%20transform%3D%22translate(20%2C0)%22%20style%3D%22stroke-width%3A%200%3B%20fill%3A%20rgb(149%2C%20200%2C%20142)%3B%20fill-opacity%3A%201%3B%20stroke%3A%20rgb(68%2C%2068%2C%2068)%3B%20stroke-opacity%3A%201%3B%22%2F%3E%3C%2Fg%3E%3C%2Fg%3E%3C%2Fg%3E%3Crect%20class%3D%22legendtoggle%22%20pointer-events%3D%22all%22%20x%3D%220%22%20y%3D%22-9.5%22%20width%3D%22292.1687469482422%22%20height%3D%2219%22%20style%3D%22cursor%3A%20pointer%3B%20fill%3A%20rgb(0%2C%200%2C%200)%3B%20fill-opacity%3A%200%3B%22%2F%3E%3C%2Fg%3E%3Cg%20class%3D%22traces%22%20transform%3D%22translate(0%2C299.5)%22%20style%3D%22opacity%3A%201%3B%22%3E%3Ctext%20class%3D%22legendtext%22%20text-anchor%3D%22start%22%20x%3D%2240%22%20y%3D%224.680000000000001%22%20data-unformatted%3D%22likes%2C%20Dr.%20Jacqueline%20Nolis%22%20data-math%3D%22N%22%20style%3D%22font-family%3A%20%26quot%3BOpen%20Sans%26quot%3B%2C%20verdana%2C%20arial%2C%20sans-serif%3B%20font-size%3A%2012px%3B%20fill%3A%20rgb(89%2C%2089%2C%2089)%3B%20fill-opacity%3A%201%3B%20white-space%3A%20pre%3B%22%3Elikes%2C%20Dr.%20Jacqueline%20Nolis%3C%2Ftext%3E%3Cg%20class%3D%22layers%22%20style%3D%22opacity%3A%201%3B%22%3E%3Cg%20class%3D%22legendfill%22%2F%3E%3Cg%20class%3D%22legendlines%22%2F%3E%3Cg%20class%3D%22legendsymbols%22%3E%3Cg%20class%3D%22legendpoints%22%3E%3Cpath%20class%3D%22legendpie%22%20d%3D%22M6%2C6H-6V-6H6Z%22%20transform%3D%22translate(20%2C0)%22%20style%3D%22stroke-width%3A%200%3B%20fill%3A%20rgb(246%2C%20229%2C%20166)%3B%20fill-opacity%3A%201%3B%20stroke%3A%20rgb(68%2C%2068%2C%2068)%3B%20stroke-opacity%3A%201%3B%22%2F%3E%3C%2Fg%3E%3C%2Fg%3E%3C%2Fg%3E%3Crect%20class%3D%22legendtoggle%22%20pointer-events%3D%22all%22%20x%3D%220%22%20y%3D%22-9.5%22%20width%3D%22292.1687469482422%22%20height%3D%2219%22%20style%3D%22cursor%3A%20pointer%3B%20fill%3A%20rgb(0%2C%200%2C%200)%3B%20fill-opacity%3A%200%3B%22%2F%3E%3C%2Fg%3E%3Cg%20class%3D%22traces%22%20transform%3D%22translate(0%2C318.5)%22%20style%3D%22opacity%3A%201%3B%22%3E%3Ctext%20class%3D%22legendtext%22%20text-anchor%3D%22start%22%20x%3D%2240%22%20y%3D%224.680000000000001%22%20data-unformatted%3D%22likes%2C%20Ayodele%20(eye-ya-deli)%20is%20fullyVaxxed%22%20data-math%3D%22N%22%20style%3D%22font-family%3A%20%26quot%3BOpen%20Sans%26quot%3B%2C%20verdana%2C%20arial%2C%20sans-serif%3B%20font-size%3A%2012px%3B%20fill%3A%20rgb(89%2C%2089%2C%2089)%3B%20fill-opacity%3A%201%3B%20white-space%3A%20pre%3B%22%3Elikes%2C%20Ayodele%20(eye-ya-deli)%20is%20fullyVaxxed%3C%2Ftext%3E%3Cg%20class%3D%22layers%22%20style%3D%22opacity%3A%201%3B%22%3E%3Cg%20class%3D%22legendfill%22%2F%3E%3Cg%20class%3D%22legendlines%22%2F%3E%3Cg%20class%3D%22legendsymbols%22%3E%3Cg%20class%3D%22legendpoints%22%3E%3Cpath%20class%3D%22legendpie%22%20d%3D%22M6%2C6H-6V-6H6Z%22%20transform%3D%22translate(20%2C0)%22%20style%3D%22stroke-width%3A%200%3B%20fill%3A%20rgb(213%2C%20186%2C%20206)%3B%20fill-opacity%3A%201%3B%20stroke%3A%20rgb(68%2C%2068%2C%2068)%3B%20stroke-opacity%3A%201%3B%22%2F%3E%3C%2Fg%3E%3C%2Fg%3E%3C%2Fg%3E%3Crect%20class%3D%22legendtoggle%22%20pointer-events%3D%22all%22%20x%3D%220%22%20y%3D%22-9.5%22%20width%3D%22292.1687469482422%22%20height%3D%2219%22%20style%3D%22cursor%3A%20pointer%3B%20fill%3A%20rgb(0%2C%200%2C%200)%3B%20fill-opacity%3A%200%3B%22%2F%3E%3C%2Fg%3E%3Cg%20class%3D%22traces%22%20transform%3D%22translate(0%2C337.5)%22%20style%3D%22opacity%3A%201%3B%22%3E%3Ctext%20class%3D%22legendtext%22%20text-anchor%3D%22start%22%20x%3D%2240%22%20y%3D%224.680000000000001%22%20data-unformatted%3D%22likes%2C%20Data%20Science%20Renee%22%20data-math%3D%22N%22%20style%3D%22font-family%3A%20%26quot%3BOpen%20Sans%26quot%3B%2C%20verdana%2C%20arial%2C%20sans-serif%3B%20font-size%3A%2012px%3B%20fill%3A%20rgb(89%2C%2089%2C%2089)%3B%20fill-opacity%3A%201%3B%20white-space%3A%20pre%3B%22%3Elikes%2C%20Data%20Science%20Renee%3C%2Ftext%3E%3Cg%20class%3D%22layers%22%20style%3D%22opacity%3A%201%3B%22%3E%3Cg%20class%3D%22legendfill%22%2F%3E%3Cg%20class%3D%22legendlines%22%2F%3E%3Cg%20class%3D%22legendsymbols%22%3E%3Cg%20class%3D%22legendpoints%22%3E%3Cpath%20class%3D%22legendpie%22%20d%3D%22M6%2C6H-6V-6H6Z%22%20transform%3D%22translate(20%2C0)%22%20style%3D%22stroke-width%3A%200%3B%20fill%3A%20rgb(255%2C%20255%2C%20255)%3B%20fill-opacity%3A%201%3B%20stroke%3A%20rgb(68%2C%2068%2C%2068)%3B%20stroke-opacity%3A%201%3B%22%2F%3E%3C%2Fg%3E%3C%2Fg%3E%3C%2Fg%3E%3Crect%20class%3D%22legendtoggle%22%20pointer-events%3D%22all%22%20x%3D%220%22%20y%3D%22-9.5%22%20width%3D%22292.1687469482422%22%20height%3D%2219%22%20style%3D%22cursor%3A%20pointer%3B%20fill%3A%20rgb(0%2C%200%2C%200)%3B%20fill-opacity%3A%200%3B%22%2F%3E%3C%2Fg%3E%3Cg%20class%3D%22traces%22%20transform%3D%22translate(0%2C356.5)%22%20style%3D%22opacity%3A%201%3B%22%3E%3Ctext%20class%3D%22legendtext%22%20text-anchor%3D%22start%22%20x%3D%2240%22%20y%3D%224.680000000000001%22%20data-unformatted%3D%22likes%2C%20Sebastian%20Raschka%22%20data-math%3D%22N%22%20style%3D%22font-family%3A%20%26quot%3BOpen%20Sans%26quot%3B%2C%20verdana%2C%20arial%2C%20sans-serif%3B%20font-size%3A%2012px%3B%20fill%3A%20rgb(89%2C%2089%2C%2089)%3B%20fill-opacity%3A%201%3B%20white-space%3A%20pre%3B%22%3Elikes%2C%20Sebastian%20Raschka%3C%2Ftext%3E%3Cg%20class%3D%22layers%22%20style%3D%22opacity%3A%201%3B%22%3E%3Cg%20class%3D%22legendfill%22%2F%3E%3Cg%20class%3D%22legendlines%22%2F%3E%3Cg%20class%3D%22legendsymbols%22%3E%3Cg%20class%3D%22legendpoints%22%3E%3Cpath%20class%3D%22legendpie%22%20d%3D%22M6%2C6H-6V-6H6Z%22%20transform%3D%22translate(20%2C0)%22%20style%3D%22stroke-width%3A%200%3B%20fill%3A%20rgb(196%2C%20171%2C%20157)%3B%20fill-opacity%3A%201%3B%20stroke%3A%20rgb(68%2C%2068%2C%2068)%3B%20stroke-opacity%3A%201%3B%22%2F%3E%3C%2Fg%3E%3C%2Fg%3E%3C%2Fg%3E%3Crect%20class%3D%22legendtoggle%22%20pointer-events%3D%22all%22%20x%3D%220%22%20y%3D%22-9.5%22%20width%3D%22292.1687469482422%22%20height%3D%2219%22%20style%3D%22cursor%3A%20pointer%3B%20fill%3A%20rgb(0%2C%200%2C%200)%3B%20fill-opacity%3A%200%3B%22%2F%3E%3C%2Fg%3E%3C%2Fg%3E%3C%2Fg%3E%3Crect%20class%3D%22scrollbar%22%20rx%3D%2220%22%20ry%3D%223%22%20width%3D%226%22%20height%3D%22157.8544474393531%22%20x%3D%22298%22%20y%3D%224%22%20style%3D%22fill%3A%20rgb(128%2C%20139%2C%20164)%3B%20fill-opacity%3A%201%3B%22%2F%3E%3C%2Fg%3E%3Cg%20class%3D%22g-gtitle%22%2F%3E%3C%2Fg%3E%3Cg%20class%3D%22menulayer%22%2F%3E%3Cg%20class%3D%22zoomlayer%22%2F%3E%3Cg%20class%3D%22hoverlayer%22%2F%3E%3C%2Fsvg%3E\">"
      ],
      "text/plain": [
       "Open the notebook in JupyterLab with the atoti extension enabled to build this widget."
      ]
     },
     "metadata": {},
     "output_type": "display_data"
    }
   ],
   "source": [
    "session.visualize(\n",
    "    \"Top 5 influencers for Top 5 topics - With regard to the average number of likes\"\n",
    ")"
   ]
  },
  {
   "cell_type": "markdown",
   "metadata": {},
   "source": [
    "The above graphs show the top 5 influencers with the highest likes rates related to the 5 most popular topics.\n",
    "\n",
    "Here again, if we consider Françoi Chollet who is largely the most liked (389 likes per tweet on average) influencer considering topic 186, we observe that he is not even in the top 5 influencers for all the other top topics."
   ]
  },
  {
   "cell_type": "markdown",
   "metadata": {},
   "source": [
    "### Conclusion\n",
    "\n",
    "Finally, in this notebook we have performed an analysis that has provided:\n",
    "\n",
    "- A ranking of the influencers by number of tweets written\n",
    "- Different top 10 of the influencers by: replies rate, retweets and quotes rate, and likes rate\n",
    "- Different top 5 of the influencers by topic and by: replies rate, retweets and quotes rate, and likes rate\n",
    "\n",
    "We have shown that the popularity of the influencers on Twitter highly depends on the topics they are writting about. It's clearly a question of topics or quality, but certainly not of quantity.\n",
    "\n",
    "Alternatively, we could have perfomred a simple analysis of correlations betweens all the considered measures (KPIs) to achive the same results. But, here we wanted to demonstrate the aggregation and visualization capabilities of atoti."
   ]
  }
 ],
 "metadata": {
  "kernelspec": {
   "display_name": "Python 3 (ipykernel)",
   "language": "python",
   "name": "python3"
  },
  "language_info": {
   "codemirror_mode": {
    "name": "ipython",
    "version": 3
   },
   "file_extension": ".py",
   "mimetype": "text/x-python",
   "name": "python",
   "nbconvert_exporter": "python",
   "pygments_lexer": "ipython3",
   "version": "3.10.4"
  }
 },
 "nbformat": 4,
 "nbformat_minor": 4
}
