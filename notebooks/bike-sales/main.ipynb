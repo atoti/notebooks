{
 "cells": [
  {
   "cell_type": "markdown",
   "id": "7fafb0e2-a9d7-4345-98b8-4de38f1a25d5",
   "metadata": {},
   "source": [
    "# Exploring Bike Sales\n",
    "\\[_In case you’re unable to see the atoti visualizations in GitHub, try viewing the notebook in [nbviewer](https://nbviewer.org/github/atoti/notebooks/blob/master/notebooks/bike-sales/main.ipynb)._]"
   ]
  },
  {
   "cell_type": "markdown",
   "id": "2395982c-6936-46b9-96ec-4dfae1fc98f4",
   "metadata": {
    "tags": []
   },
   "source": [
    "## Overview\n",
    "We will be exploring how to use **atoti** via an exploration of [Bike Sales data](https://www.kaggle.com/sadiqshah/bike-sales-in-europe) sourced from [kaggle](https://www.kaggle.com/).  Our main focus will be on the various ways one can slice and dice sales data.\n",
    "\n",
    "### This guide will cover the following:\n",
    "* What is atoti\n",
    "* Getting started with atoti\n",
    "* Creating and manipulating hierarchies and levels\n",
    "* Visualizing sales data\n",
    "* Creating aggregations\n",
    "* Simulating alternate scenarios\n",
    "* Creating a Dashboard"
   ]
  },
  {
   "cell_type": "markdown",
   "id": "e8646178-7034-4d7b-a2c7-eccc90ad045a",
   "metadata": {},
   "source": [
    "### What it won't cover:\n",
    "\n",
    "[How to install atoti](https://docs.atoti.io/latest/installation.html)"
   ]
  },
  {
   "cell_type": "markdown",
   "id": "4c8f5344-9d2f-4d3b-b7bc-a0d889148f24",
   "metadata": {},
   "source": [
    "## What is atoti?"
   ]
  },
  {
   "cell_type": "markdown",
   "id": "d7ac276d-d7e4-4c45-80de-6bdf5a98a0b8",
   "metadata": {},
   "source": [
    "<div style=\"text-align: center;\"><a href=\"https://www.atoti.io/?utm_source=gallery&utm_content=bike-sales\" target=\"_blank\" rel=\"noopener noreferrer\"><img src=\"https://data.atoti.io/notebooks/bike-sales/atoti-definition.PNG\" alt=\"Try atoti\"></a></div>"
   ]
  },
  {
   "cell_type": "markdown",
   "id": "a61142f3-471d-4c87-ba21-f753c6c381ea",
   "metadata": {
    "tags": []
   },
   "source": [
    "## Getting Started"
   ]
  },
  {
   "cell_type": "markdown",
   "id": "fdf9addb-d2ef-45e8-adee-70abc1ec4a88",
   "metadata": {},
   "source": [
    "Refer to [atoti's tutorial](https://docs.atoti.io/latest/tutorial/tutorial.html#Getting-started) for more examples on how to get started.  \n",
    "Or check out the other notebooks in our [notebook gallery](https://github.com/atoti/notebooks/tree/master/notebooks).\n",
    "\n",
    "We'll be completing this exploration of bike sales data using the atoti library and a little bit of pandas."
   ]
  },
  {
   "cell_type": "code",
   "execution_count": 1,
   "id": "6f635966-d821-4d7a-b7e5-02b69944b8f7",
   "metadata": {},
   "outputs": [],
   "source": [
    "import atoti as tt\n",
    "import pandas as pd"
   ]
  },
  {
   "cell_type": "code",
   "execution_count": null,
   "id": "92a3a9c4-5ea1-4e3b-b488-b1f0327b49b1",
   "metadata": {},
   "outputs": [],
   "source": [
    "session = tt.Session(\n",
    "        user_content_storage= \"./content\",\n",
    "        port= 9090,\n",
    ")"
   ]
  },
  {
   "cell_type": "markdown",
   "id": "06a5e071-4a88-4a38-b4e8-3ee0a735ebfd",
   "metadata": {},
   "source": [
    "We're including two configs while creating our session:\n",
    "* one to specify the store our content metadata,\n",
    "* and the other to specify a fixed port.\n",
    "\n",
    "Both of these are optional to specify.  In this case, we set these configs so that we can store our dashboard for future reference, and we can access it from the same port each time.  If these were not set, the dashboard would not persist across sessions, and the access port for the dashboarding webapp would be randomly assigned.\n",
    "\n",
    "We provide documentations about [creating a session](https://docs.atoti.io/latest/lib/atoti.html#atoti.Session) and what [configurations are available](https://docs.atoti.io/latest/lib/atoti.config.session_config.html#atoti.config.session_config.SessionConfig) to set up for further information.\n",
    "\n",
    "Looking at the source data, we know there are some data values which, while numerical in nature, we want to treat as a hierarchy--that is, a categorical or hierarchical piece of information.  We'll list out all the columns we are certain are hierarchical.  If we missed any, we can always add it in later.\n",
    "\n",
    "Hint--we purposefully \"forgot\" \"Age_Group\""
   ]
  },
  {
   "cell_type": "code",
   "execution_count": null,
   "id": "d48a1018-9273-4420-903e-34479b07db4a",
   "metadata": {},
   "outputs": [],
   "source": [
    "bike_sales = session.read_csv(\n",
    "    \"s3://data.atoti.io/notebooks/bike-sales/Sales.csv\",\n",
    "    hierarchized_columns=[\n",
    "        \"Day\",\n",
    "        \"Month\",\n",
    "        \"Year\",\n",
    "        \"Customer_Gender\",\n",
    "        \"Country\",\n",
    "        \"State\",\n",
    "        \"Product_Category\",\n",
    "        \"Sub_Category\",\n",
    "        \"Product\",\n",
    "    ],\n",
    ")"
   ]
  },
  {
   "cell_type": "markdown",
   "id": "d7871f58-5387-463f-8e47-cd4d6f4155f0",
   "metadata": {},
   "source": [
    "When creating our *cube*, atoti is capable of using the inferred data type of columns to automatically create *measures* and *hierarchies*you  for us.  In particular, if a data type is numerical, but we set it as a *hierarchized columns*, it will get created as a *hierarchy*."
   ]
  },
  {
   "cell_type": "code",
   "execution_count": null,
   "id": "ad854c51-8e33-4512-9623-1e126211b694",
   "metadata": {},
   "outputs": [],
   "source": [
    "cube = session.create_cube(bike_sales)"
   ]
  },
  {
   "cell_type": "markdown",
   "id": "8db0ea9e-6836-4926-a1cb-cd057b0b5319",
   "metadata": {},
   "source": [
    "We can access the cube's attributes via `cube.hierarchies`, `cube.levels` and `cube.measures`. We can also simplify how we access our measures and hierarchies by assigning aliases. "
   ]
  },
  {
   "cell_type": "code",
   "execution_count": null,
   "id": "d774ea4f-ffad-4263-a481-2fb9944b67f0",
   "metadata": {},
   "outputs": [],
   "source": [
    "h, l, m = cube.hierarchies, cube.levels, cube.measures"
   ]
  },
  {
   "cell_type": "markdown",
   "id": "72c4f1cb-6645-4eae-92af-bf90e4fbe4a1",
   "metadata": {
    "tags": []
   },
   "source": [
    "## Hierarchies and Levels"
   ]
  },
  {
   "cell_type": "markdown",
   "id": "f520cb75-f5b2-4997-9dc2-16caff3ac357",
   "metadata": {},
   "source": [
    "Within our table, we can slice our data along various categorical axes, which are our *hierarchies*.  *Hierarchies* consist of *levels*, where *levels* are attributes with a parent-child relationship."
   ]
  },
  {
   "cell_type": "markdown",
   "id": "6ec23868-8b09-4398-81d8-9f51a3a50b0e",
   "metadata": {},
   "source": [
    "Let's see what *hierarchies* and *levels* we have:"
   ]
  },
  {
   "cell_type": "code",
   "execution_count": null,
   "id": "44125580-ca7d-4e81-9771-16462def2952",
   "metadata": {},
   "outputs": [],
   "source": [
    "h"
   ]
  },
  {
   "cell_type": "markdown",
   "id": "8a3a5d3c-26e6-4dd9-abc4-fcebe299314e",
   "metadata": {},
   "source": [
    "Some of the categorical columns we have as *levels* and *hierarchies* have an innate relationship with each other.  Dates are a great example of this (years contain months, months contain days).\n",
    "\n",
    "We can create a calendar *hierarchy* using the year, month, and day *levels*."
   ]
  },
  {
   "cell_type": "code",
   "execution_count": null,
   "id": "39756393-82b0-41ca-ad48-18807e2666f1",
   "metadata": {},
   "outputs": [],
   "source": [
    "h[\"Calendar\"] = [l[\"Year\"], l[\"Month\"], l[\"Day\"]]"
   ]
  },
  {
   "cell_type": "markdown",
   "id": "6f75c79d-4215-4eb7-b401-afa7836a6626",
   "metadata": {},
   "source": [
    "We can also create an additional *hierarchy* (or *level*!) which categorizes or captures the seasonal nature of sales.  For example, we can create a new *level* called Quarter based off the month.\n",
    "\n",
    "These classifications can naturally pop up as part of normal sales explorations.  For example, do bikes sell better during summer months or winter months?  What are the sales trends per quarter?"
   ]
  },
  {
   "cell_type": "code",
   "execution_count": null,
   "id": "08d472e0-ac48-4f97-97e4-92e5a2193a19",
   "metadata": {},
   "outputs": [],
   "source": [
    "quarters = session.read_pandas(\n",
    "    pd.DataFrame(\n",
    "        data=[(\"Q1\", month) for month in [\"January\", \"February\", \"March\"]]\n",
    "        + [(\"Q2\", month) for month in [\"April\", \"May\", \"June\"]]\n",
    "        + [(\"Q3\", month) for month in [\"July\", \"August\", \"September\"]]\n",
    "        + [(\"Q4\", month) for month in [\"October\", \"November\", \"December\"]],\n",
    "        columns=[\"Quarter\", \"Month\"],\n",
    "    ),\n",
    "    keys=[\"Month\"],\n",
    "    table_name=\"Quarter\",\n",
    ")"
   ]
  },
  {
   "cell_type": "code",
   "execution_count": null,
   "id": "94131b39-dad4-4e74-953c-631e738b464f",
   "metadata": {},
   "outputs": [],
   "source": [
    "quarters.head()"
   ]
  },
  {
   "cell_type": "code",
   "execution_count": null,
   "id": "b23527a3-efd4-4b3c-92df-482d282099c7",
   "metadata": {},
   "outputs": [],
   "source": [
    "bike_sales.join(quarters)"
   ]
  },
  {
   "cell_type": "markdown",
   "id": "d0849aaf-78aa-4c2f-9978-a5c7ae2ed73b",
   "metadata": {},
   "source": [
    "How did this impact our *hierarchies* and *levels*?"
   ]
  },
  {
   "cell_type": "code",
   "execution_count": null,
   "id": "235bb12e-89ba-42d1-a914-ebe474bc0348",
   "metadata": {},
   "outputs": [],
   "source": [
    "h"
   ]
  },
  {
   "cell_type": "markdown",
   "id": "7d7f9656-7bf6-4ffc-ad86-2dad33654abf",
   "metadata": {},
   "source": [
    "Let's add our newly created Quarter level to our Calendar hierarchy.  What would happen if we uncomment the below and run it?"
   ]
  },
  {
   "cell_type": "code",
   "execution_count": null,
   "id": "25ad6f26-2665-41c1-91a9-2ea0cd197394",
   "metadata": {},
   "outputs": [],
   "source": [
    "# h[\"Calendar\"] = [\n",
    "#     l[(\"Year\")],\n",
    "#     l[\"Quarter\"],\n",
    "#     l[(\"Month\")],\n",
    "#     l[(\"Day\")],\n",
    "# ]\n",
    "# del h[\"Year\"], h[\"Quarter\"], h[\"Month\"], h[\"Day\"]"
   ]
  },
  {
   "cell_type": "markdown",
   "id": "175994ee-5cb3-4485-a06e-3e1dfdf26e94",
   "metadata": {},
   "source": [
    "If we run the above cell, we see we have a bit of a mess here--ideally, Quarter would be a part of our Calendar hierarchy, and we wouldn't want duplicated Day/Month/Year hierarchies and levels if it is already in our Calendar hierarchies.  However, when we try to add it, it throws an error that it is unsure which Year level we meant.\n",
    "\n",
    "How do we deal with this?  We can still add in our Quarter level in between Year, Month, and Day-to make sure there is no confusion of which Year/Month/Day we mean, we'll use the tuple version specifying specifically from which table and hierarchy we want this level."
   ]
  },
  {
   "cell_type": "code",
   "execution_count": null,
   "id": "2e8f3cd6-3d90-4087-8e37-776057f8ee26",
   "metadata": {},
   "outputs": [],
   "source": [
    "h[\"Calendar\"] = [\n",
    "    l[(\"Sales\", \"Calendar\", \"Year\")],\n",
    "    l[\"Quarter\"],\n",
    "    l[(\"Sales\", \"Calendar\", \"Month\")],\n",
    "    l[(\"Sales\", \"Calendar\", \"Day\")],\n",
    "]\n",
    "del h[\"Year\"], h[\"Quarter\"], h[\"Month\"], h[\"Day\"]"
   ]
  },
  {
   "cell_type": "code",
   "execution_count": null,
   "id": "fd0dfb3f-1a60-46f7-993f-3073a18a5aa0",
   "metadata": {},
   "outputs": [],
   "source": [
    "h"
   ]
  },
  {
   "cell_type": "markdown",
   "id": "caf55b51-bcd4-422d-9c73-ee0f69af95d7",
   "metadata": {},
   "source": [
    "We can also do the same thing for our products.  It seems natural to combine the Product_Category, Sub_category, and the Product together under a Product hierarchy.  Note that here, we won't delete the Product hierarchy!  Further, we can do the same thing for Country and State, combining that under a Location hierarchy"
   ]
  },
  {
   "cell_type": "code",
   "execution_count": null,
   "id": "fdf6070d-586a-41fc-8d36-e61c42aae295",
   "metadata": {},
   "outputs": [],
   "source": [
    "h[\"Product\"] = [l[\"Product_Category\"], l[\"Sub_Category\"], l[\"Product\"]]\n",
    "del h[\"Product_Category\"], h[\"Sub_Category\"]"
   ]
  },
  {
   "cell_type": "code",
   "execution_count": null,
   "id": "578f3a2e-e840-4801-8fce-34fa134ea77a",
   "metadata": {},
   "outputs": [],
   "source": [
    "h[\"Location\"] = [l[\"Country\"], l[\"State\"]]\n",
    "del h[\"Country\"], h[\"State\"]"
   ]
  },
  {
   "cell_type": "code",
   "execution_count": null,
   "id": "10c6efc6-d881-49d8-830d-3e4b03d638bc",
   "metadata": {},
   "outputs": [],
   "source": [
    "h"
   ]
  },
  {
   "cell_type": "markdown",
   "id": "2f31164d-9265-458a-92b6-f8b1dc14216a",
   "metadata": {},
   "source": [
    "What about that column we \"forgot\" earlier?  How do we add in a level or hierarchy by reading back the underlying data?"
   ]
  },
  {
   "cell_type": "code",
   "execution_count": null,
   "id": "bccdab06-31da-4e5a-8f3c-8a5d0c85465c",
   "metadata": {},
   "outputs": [],
   "source": [
    "h[\"Age_Group\"] = [bike_sales[\"Age_Group\"]]"
   ]
  },
  {
   "cell_type": "markdown",
   "id": "618d1036-a681-41c1-a03f-ef952c7346e3",
   "metadata": {},
   "source": [
    "Looking at the hierarchies now, we have pretty clean list to work with."
   ]
  },
  {
   "cell_type": "code",
   "execution_count": null,
   "id": "76ba71eb-2963-43f2-8b30-fd5f585c9286",
   "metadata": {},
   "outputs": [],
   "source": [
    "h"
   ]
  },
  {
   "cell_type": "markdown",
   "id": "6450c454-35e1-4a95-98af-018f2f93d92d",
   "metadata": {},
   "source": [
    "What about the sort order of each level?"
   ]
  },
  {
   "cell_type": "code",
   "execution_count": null,
   "id": "c162a558-20a6-44ba-8371-71e10f2096c8",
   "metadata": {
    "tags": []
   },
   "outputs": [],
   "source": [
    "l"
   ]
  },
  {
   "cell_type": "markdown",
   "id": "4fe649a9-02c3-4190-b2c0-9f25986b6e32",
   "metadata": {},
   "source": [
    "In most cases, alphabetical order is a perfectly reasonable way to sort items, but for Age_Group, it is a bit annoying.  Ideally, we'd sort them in order of age--either youngest group to oldest group, or vice versa.  We can do that by setting the [comparator](https://docs.atoti.io/latest/lib/atoti.comparator.html#atoti.comparator.Comparator)."
   ]
  },
  {
   "cell_type": "code",
   "execution_count": null,
   "id": "b63453a6-c920-42ac-a11e-35f42d54b7ce",
   "metadata": {},
   "outputs": [],
   "source": [
    "l[\"Age_Group\"].order = tt.PartialOrder(first_elements=[\n",
    "    \"Youth (<25)\", \"Young Adults (25-34)\", \"Adults (35-64)\", \"Seniors (64+)\"\n",
    ")"
   ]
  },
  {
   "cell_type": "markdown",
   "id": "f3ccf351-e20b-4c08-9a77-2cf6cf6d95c2",
   "metadata": {},
   "source": [
    "And we can do the same for the level Month, setting them in chronological order."
   ]
  },
  {
   "cell_type": "code",
   "execution_count": null,
   "id": "b4c13232-ceaa-47ab-a5ca-04b936695ddd",
   "metadata": {},
   "outputs": [],
   "source": [
    "l[\"Month\"].order = tt.PartialOrder(first_elements=[\n",
    "    \"January\",\n",
    "    \"February\",\n",
    "    \"March\",\n",
    "    \"April\",\n",
    "    \"May\",\n",
    "    \"June\",\n",
    "    \"July\",\n",
    "    \"August\",\n",
    "    \"September\",\n",
    "    \"October\",\n",
    "    \"November\",\n",
    "    \"December\",\n",
    ")"
   ]
  },
  {
   "cell_type": "markdown",
   "id": "c258d30e-4840-46e6-885c-75666c7c04c1",
   "metadata": {
    "tags": []
   },
   "source": [
    "## Visualizing Sales Data"
   ]
  },
  {
   "cell_type": "markdown",
   "id": "48b2d46f-33f2-46e4-bd8b-8c5d5d23d5d3",
   "metadata": {},
   "source": [
    "There are different tacts to analyzing sales data.  One group may want insights to demographic information, answering questions like \"who is buying what?\" while another team may focus less on the demographic breakdown of the sales, and instead focus on which items is bringing in more revenueor what are the sales trends.  Yet another team may care about how products fare across locations."
   ]
  },
  {
   "cell_type": "markdown",
   "id": "b6e50303-c785-4ab2-80ae-341a56ac5092",
   "metadata": {},
   "source": [
    "### Demographics"
   ]
  },
  {
   "cell_type": "markdown",
   "id": "0860d89e-058f-49f3-b226-24f01505c8a3",
   "metadata": {},
   "source": [
    "The data we have available allows us to explore the gender and age of our customers.\n",
    "\n",
    "We can see a breakdown by gender and age of each purchases.  Here, for example, we see there are more men than women in each age bracket in our sales."
   ]
  },
  {
   "cell_type": "code",
   "execution_count": null,
   "id": "61ffff34-e626-46e1-86ad-5ee69ae07af7",
   "metadata": {
    "atoti": {
     "height": 331,
     "widget": {
      "mapping": {
       "horizontalSubplots": [],
       "splitBy": [
        "[Sales].[Age_Group].[Age_Group]",
        "ALL_MEASURES"
       ],
       "values": [
        "[Measures].[contributors.COUNT]"
       ],
       "verticalSubplots": [],
       "xAxis": [
        "[Sales].[Customer_Gender].[Customer_Gender]"
       ]
      },
      "name": "Demographic breakdown by product",
      "query": {
       "mdx": "SELECT NON EMPTY Crossjoin(Hierarchize(Descendants({[Sales].[Age_Group].[AllMember]}, 1, SELF_AND_BEFORE)), {[Measures].[contributors.COUNT]}) ON COLUMNS, NON EMPTY Hierarchize(Descendants({[Sales].[Customer_Gender].[AllMember]}, 1, SELF_AND_BEFORE)) ON ROWS FROM [Sales] CELL PROPERTIES VALUE, FORMATTED_VALUE, BACK_COLOR, FORE_COLOR, FONT_FLAGS",
       "updateMode": "once"
      },
      "serverKey": "default",
      "widgetKey": "plotly-clustered-column-chart"
     }
    },
    "tags": []
   },
   "outputs": [],
   "source": [
    "session.visualize(\"Demographic breakdown\")"
   ]
  },
  {
   "cell_type": "markdown",
   "id": "5a567e3d-0894-4522-98b4-b35887a0ba9f",
   "metadata": {},
   "source": [
    "We can also visualize the average age vs the transactions.  Using revenue to size the dot allows us things like:\n",
    "* There are many water bottle sales in the Adult age category, but it does not represent a very large Revenue portion\n",
    "* The Roach-150 Red - 62\" bike is one of the largest contributors of revenue for Young Adults"
   ]
  },
  {
   "cell_type": "code",
   "execution_count": null,
   "id": "6bc02ad2-0022-47af-a7c5-a66d011c75be",
   "metadata": {
    "atoti": {
     "height": 463,
     "widget": {
      "filters": [
       "{[Sales].[Age_Group].[AllMember].[Youth (<25)], [Sales].[Age_Group].[AllMember].[Young Adults (25-34)], [Sales].[Age_Group].[AllMember].[Adults (35-64)]}"
      ],
      "mapping": {
       "color": [
        "[Sales].[Product].[Product]"
       ],
       "horizontalSubplots": [
        "[Sales].[Age_Group].[Age_Group]"
       ],
       "size": [
        "[Measures].[Revenue.SUM]"
       ],
       "splitBy": [],
       "verticalSubplots": [],
       "xValues": [
        "[Measures].[Customer_Age.MEAN]"
       ],
       "yValues": [
        "[Measures].[contributors.COUNT]"
       ]
      },
      "query": {
       "mdx": "SELECT NON EMPTY Crossjoin(Hierarchize(Descendants({[Sales].[Age_Group].[AllMember]}, 1, SELF_AND_BEFORE)), {[Measures].[Customer_Age.MEAN], [Measures].[contributors.COUNT], [Measures].[Revenue.SUM]}) ON COLUMNS, NON EMPTY Hierarchize(Descendants({[Sales].[Product].[AllMember]}, 3, SELF_AND_BEFORE)) ON ROWS FROM [Sales] CELL PROPERTIES VALUE, FORMATTED_VALUE, BACK_COLOR, FORE_COLOR, FONT_FLAGS",
       "updateMode": "once"
      },
      "serverKey": "default",
      "widgetKey": "plotly-scatter-plot"
     }
    },
    "tags": []
   },
   "outputs": [],
   "source": [
    "session.visualize(\"Sales by age\")"
   ]
  },
  {
   "cell_type": "markdown",
   "id": "e3d32e1f-5f74-42de-bd1a-d8b32ba3ea00",
   "metadata": {},
   "source": [
    "And if we want to see the purchasing trends by gender and age, we can use a tree map to see how it breaks down.  For example, we see helmets are a larger portion of sales by female seniors compared to others, and helmets are a smaller portion of sales by male seniors."
   ]
  },
  {
   "cell_type": "code",
   "execution_count": null,
   "id": "763251a8-b734-4400-8647-ba0ba1a53802",
   "metadata": {
    "atoti": {
     "height": 1069,
     "widget": {
      "filters": [],
      "mapping": {
       "groupBy": [
        "[Sales].[Product].[Sub_Category]"
       ],
       "horizontalSubplots": [
        "[Sales].[Age_Group].[Age_Group]"
       ],
       "splitBy": [],
       "values": [
        "[Measures].[Order_Quantity.SUM]"
       ],
       "verticalSubplots": [
        "[Sales].[Customer_Gender].[Customer_Gender]"
       ]
      },
      "query": {
       "mdx": "SELECT NON EMPTY Crossjoin(Hierarchize(Descendants({[Sales].[Age_Group].[AllMember]}, 1, SELF_AND_BEFORE)), Hierarchize(Descendants({[Sales].[Customer_Gender].[AllMember]}, 1, SELF_AND_BEFORE)), {[Measures].[Order_Quantity.SUM]}) ON COLUMNS, NON EMPTY Hierarchize(Descendants({[Sales].[Product].[AllMember]}, 2, SELF_AND_BEFORE)) ON ROWS FROM [Sales] CELL PROPERTIES VALUE, FORMATTED_VALUE, BACK_COLOR, FORE_COLOR, FONT_FLAGS",
       "updateMode": "once"
      },
      "serverKey": "default",
      "widgetKey": "plotly-tree-map"
     }
    },
    "tags": []
   },
   "outputs": [],
   "source": [
    "session.visualize(\"Top products by age and gender\")"
   ]
  },
  {
   "cell_type": "markdown",
   "id": "f3ad512c-66fc-4047-a693-cfa04f6fccd7",
   "metadata": {},
   "source": [
    "### Product Sales"
   ]
  },
  {
   "cell_type": "markdown",
   "id": "7d8d389b-e679-4ac8-a430-ed49766cf1c3",
   "metadata": {},
   "source": [
    "Shifting a bit away from the demographic breakdown of sale, we can see which items are purchased more than others.  For example, we can see that Road bikes make up the majority of bike sales."
   ]
  },
  {
   "cell_type": "code",
   "execution_count": null,
   "id": "75da2d86-ad33-4bd8-bab4-53365d4f62b6",
   "metadata": {
    "atoti": {
     "widget": {
      "filters": [
       "[Sales].[Product].[AllMember].[Bikes]"
      ],
      "isTextVisible": true,
      "mapping": {
       "horizontalSubplots": [
        "[Sales].[Customer_Gender].[Customer_Gender]"
       ],
       "sliceBy": [
        "ALL_MEASURES",
        "[Sales].[Product].[Sub_Category]"
       ],
       "values": [
        "[Measures].[contributors.COUNT]"
       ],
       "verticalSubplots": []
      },
      "query": {
       "mdx": "SELECT NON EMPTY Crossjoin(Hierarchize(Descendants({[Sales].[Customer_Gender].[AllMember]}, 1, SELF_AND_BEFORE)), {[Measures].[contributors.COUNT]}) ON COLUMNS, NON EMPTY Hierarchize(Descendants({[Sales].[Product].[AllMember]}, 2, SELF_AND_BEFORE)) ON ROWS FROM [Sales] CELL PROPERTIES VALUE, FORMATTED_VALUE, BACK_COLOR, FORE_COLOR, FONT_FLAGS",
       "updateMode": "once"
      },
      "serverKey": "default",
      "widgetKey": "plotly-donut-chart"
     }
    },
    "tags": []
   },
   "outputs": [],
   "source": [
    "session.visualize(\"Sales distribution\")"
   ]
  },
  {
   "cell_type": "markdown",
   "id": "05b157c1-ff8b-4893-b8d9-a9348be208ab",
   "metadata": {},
   "source": [
    "Or that the cost of bikes is closer to the revenue brought in by bikes--meaning the profit margin is lower."
   ]
  },
  {
   "cell_type": "code",
   "execution_count": null,
   "id": "d79f04f7-b9c5-45d8-90a9-ebc41125f63b",
   "metadata": {
    "atoti": {
     "height": 354,
     "widget": {
      "mapping": {
       "goal": [
        "[Measures].[Revenue.SUM]"
       ],
       "horizontalSubplots": [
        "[Sales].[Product].[Product_Category]"
       ],
       "maximum": [],
       "minimum": [],
       "value": [
        "[Measures].[Cost.SUM]"
       ],
       "verticalSubplots": []
      },
      "query": {
       "mdx": "SELECT NON EMPTY Crossjoin(Hierarchize(Descendants({[Sales].[Product].[AllMember]}, 1, SELF_AND_BEFORE)), {[Measures].[Cost.SUM], [Measures].[Revenue.SUM]}) ON COLUMNS FROM [Sales] CELL PROPERTIES VALUE, FORMATTED_VALUE, BACK_COLOR, FORE_COLOR, FONT_FLAGS",
       "updateMode": "once"
      },
      "serverKey": "default",
      "widgetKey": "plotly-gauge-chart"
     }
    },
    "tags": []
   },
   "outputs": [],
   "source": [
    "session.visualize(\"Revenue and cost by product category\")"
   ]
  },
  {
   "cell_type": "markdown",
   "id": "b6ac2846-d177-4799-9b27-072d6f6b6633",
   "metadata": {},
   "source": [
    "And we can visualize the trend in price changes over time.  We can see here that:\n",
    "* we did not have accessory or clothing related sales data until 2013.\n",
    "* and while bike prices may have fluctated by about \\$100, clothing and accessory prices only fluctate by a dollar or two."
   ]
  },
  {
   "cell_type": "code",
   "execution_count": null,
   "id": "6f34b53e-cf7b-469b-8db1-d2a94623c5c5",
   "metadata": {
    "atoti": {
     "widget": {
      "columnWidths": {
       "[Sales].[Calendar].[Year]": 221.453125
      },
      "mapping": {
       "horizontalSubplots": [],
       "splitBy": [
        "[Sales].[Product].[Product_Category]",
        "ALL_MEASURES"
       ],
       "values": [
        "[Measures].[Unit_Price.MEAN]"
       ],
       "verticalSubplots": [],
       "xAxis": [
        "[Sales].[Calendar].[Year]"
       ]
      },
      "name": "Year over year mean price change",
      "query": {
       "mdx": "SELECT NON EMPTY Hierarchize(Descendants({[Sales].[Calendar].[AllMember]}, 1, SELF_AND_BEFORE)) ON ROWS, NON EMPTY Crossjoin(Hierarchize(Descendants({[Sales].[Product].[AllMember]}, 1, SELF_AND_BEFORE)), {[Measures].[Unit_Price.MEAN]}) ON COLUMNS FROM [Sales] CELL PROPERTIES VALUE, FORMATTED_VALUE, BACK_COLOR, FORE_COLOR, FONT_FLAGS",
       "updateMode": "once"
      },
      "serverKey": "default",
      "widgetKey": "plotly-line-chart"
     }
    },
    "tags": []
   },
   "outputs": [],
   "source": [
    "session.visualize(\"Year over year mean price change\")"
   ]
  },
  {
   "cell_type": "code",
   "execution_count": null,
   "id": "8b9a92ca-18ba-4331-97e7-f5bca9e4dced",
   "metadata": {
    "atoti": {
     "height": 419,
     "widget": {
      "mapping": {
       "horizontalSubplots": [
        "[Sales].[Age_Group].[Age_Group]"
       ],
       "values": [
        "[Measures].[Profit.SUM]"
       ],
       "verticalSubplots": [],
       "xAxis": [
        "[Sales].[Calendar].[Year]"
       ]
      },
      "query": {
       "mdx": "SELECT NON EMPTY Crossjoin(Hierarchize(Descendants({[Sales].[Age_Group].[AllMember]}, 1, SELF_AND_BEFORE)), {[Measures].[Profit.SUM]}) ON COLUMNS, NON EMPTY Hierarchize(Descendants({[Sales].[Calendar].[AllMember]}, 1, SELF_AND_BEFORE)) ON ROWS FROM [Sales] CELL PROPERTIES VALUE, FORMATTED_VALUE, BACK_COLOR, FORE_COLOR, FONT_FLAGS",
       "updateMode": "once"
      },
      "serverKey": "default",
      "widgetKey": "plotly-waterfall-chart"
     }
    },
    "tags": []
   },
   "outputs": [],
   "source": [
    "session.visualize(\"Yeary sales growth by age group\")"
   ]
  },
  {
   "cell_type": "markdown",
   "id": "ab6a5649-334a-4236-9e71-c440b6bce0c0",
   "metadata": {},
   "source": [
    "### Location trends"
   ]
  },
  {
   "cell_type": "markdown",
   "id": "ba22f077-41cb-4139-9039-9206f9117513",
   "metadata": {},
   "source": [
    "Similarly, we can focus on our sales and sales trends by country, visualizing which countries are the largest contributors to our sales, or how our overall sales evolved over time."
   ]
  },
  {
   "cell_type": "code",
   "execution_count": null,
   "id": "e0e67038-c3b3-48c3-a1e0-d42816687d83",
   "metadata": {
    "atoti": {
     "widget": {
      "mapping": {
       "horizontalSubplots": [
        "[Sales].[Product].[Product_Category]"
       ],
       "stackBy": [
        "[Sales].[Location].[Country]",
        "ALL_MEASURES"
       ],
       "values": [
        "[Measures].[contributors.COUNT]"
       ],
       "verticalSubplots": [],
       "xAxis": []
      },
      "name": "Sales by country and product type",
      "query": {
       "mdx": "SELECT NON EMPTY Crossjoin(Hierarchize(Descendants({[Sales].[Location].[AllMember]}, 1, SELF_AND_BEFORE)), Hierarchize(Descendants({[Sales].[Product].[AllMember]}, 1, SELF_AND_BEFORE)), {[Measures].[contributors.COUNT]}) ON COLUMNS FROM [Sales] CELL PROPERTIES VALUE, FORMATTED_VALUE, BACK_COLOR, FORE_COLOR, FONT_FLAGS",
       "updateMode": "once"
      },
      "serverKey": "default",
      "switchedTo": "plotly-clustered-column-chart",
      "widgetKey": "plotly-100-stacked-column-chart"
     }
    },
    "tags": []
   },
   "outputs": [],
   "source": [
    "session.visualize(\"Sales by country and product type\")"
   ]
  },
  {
   "cell_type": "code",
   "execution_count": null,
   "id": "e92a5202-453f-49df-a15f-98ab57fd0d66",
   "metadata": {
    "atoti": {
     "height": 526,
     "widget": {
      "mapping": {
       "horizontalSubplots": [],
       "stackBy": [
        "ALL_MEASURES",
        "[Sales].[Location].[Country]"
       ],
       "values": [
        "[Measures].[Revenue.SUM]"
       ],
       "verticalSubplots": [],
       "xAxis": [
        "[Sales].[Calendar].[Month]"
       ]
      },
      "name": "Sales by country",
      "query": {
       "mdx": "SELECT NON EMPTY Crossjoin({[Measures].[Revenue.SUM]}, Hierarchize(Descendants({[Sales].[Location].[AllMember]}, 1, SELF_AND_BEFORE))) ON COLUMNS, NON EMPTY Hierarchize(Descendants({[Sales].[Calendar].[AllMember]}, 2, SELF_AND_BEFORE)) ON ROWS FROM [Sales] CELL PROPERTIES VALUE, FORMATTED_VALUE, BACK_COLOR, FORE_COLOR, FONT_FLAGS",
       "updateMode": "once"
      },
      "serverKey": "default",
      "widgetKey": "plotly-100-stacked-area-chart"
     }
    },
    "tags": []
   },
   "outputs": [],
   "source": [
    "session.visualize(\"Sales by country\")"
   ]
  },
  {
   "cell_type": "markdown",
   "id": "66f95cbd-d1da-4c05-bc24-560550e07574",
   "metadata": {
    "tags": []
   },
   "source": [
    "## Aggregations"
   ]
  },
  {
   "cell_type": "markdown",
   "id": "95a44e9f-8806-4080-8e09-91de14ab4266",
   "metadata": {},
   "source": [
    "Now that we have the hierarchies and levels that we want to slice/dice/explore on, do we have all the measures that we want?  Let's first see what measures we have, and if any of them are unnecessary."
   ]
  },
  {
   "cell_type": "code",
   "execution_count": null,
   "id": "fcbd619e-dddc-42e9-ba4f-b674a7fd73d4",
   "metadata": {},
   "outputs": [],
   "source": [
    "m"
   ]
  },
  {
   "cell_type": "markdown",
   "id": "0570c65e-06ed-4376-b051-bde79df9be39",
   "metadata": {},
   "source": [
    "We are treating our calendar related data as hierarchical data, not something we plan on aggregating or summarizing numerically.  We can go ahead and delete these.  Of course, if this was a mistake, we can always read the underlying data back in.  Adjusting our measures does not touch the underlying data."
   ]
  },
  {
   "cell_type": "code",
   "execution_count": null,
   "id": "a33ee5bb-e41a-4720-bae0-3c79382426ec",
   "metadata": {},
   "outputs": [],
   "source": [
    "del m[\"Day.MEAN\"], m[\"Day.SUM\"], m[\"Year.MEAN\"], m[\"Year.SUM\"]"
   ]
  },
  {
   "cell_type": "markdown",
   "id": "0563aee8-63fa-47ae-b493-b39492b11328",
   "metadata": {},
   "source": [
    "We can also use our existing measures to create other messures.  For example, we can create a measure giving the percent of Sales by gender, setting our [scope](https://docs.atoti.io/latest/lib/atoti.scope.html#atoti-scope-package) to define which data to consider."
   ]
  },
  {
   "cell_type": "code",
   "execution_count": null,
   "id": "e9436349-9be1-4e7d-8f57-8bbc0ad70b40",
   "metadata": {},
   "outputs": [],
   "source": [
    "m[\"%sales by gender\"] = m[\"contributors.COUNT\"] / tt.agg.sum(\n",
    "    m[\"contributors.COUNT\"], scope=tt.scope.siblings(h[\"Customer_Gender\"])\n",
    ")"
   ]
  },
  {
   "cell_type": "code",
   "execution_count": null,
   "id": "c3f3b596-044e-410e-8a4d-f20cc20021a1",
   "metadata": {},
   "outputs": [],
   "source": [
    "m[\"%Revenue by gender\"] = m[\"Revenue.SUM\"] / tt.agg.sum(\n",
    "    m[\"Revenue.SUM\"], scope=tt.scope.siblings(h[\"Customer_Gender\"])\n",
    ")"
   ]
  },
  {
   "cell_type": "markdown",
   "id": "e5dd1bad-2acb-4252-a736-14b9b4a29dbc",
   "metadata": {},
   "source": [
    "Or, if we wanted to create a measure which demonstrated how much *Revenue* we have accumulated to date each year, we can also do so.  Here, we leverage **[atoti.scope.cumulative](https://docs.atoti.io/latest/lib/atoti.scope.html#atoti.scope.cumulative)** to set up that we're accumulating each day, resetting each year."
   ]
  },
  {
   "cell_type": "code",
   "execution_count": null,
   "id": "91b8c983-567a-4ebb-a295-3207faca0cb9",
   "metadata": {},
   "outputs": [],
   "source": [
    "m[\"YTD Sales\"] = tt.agg.sum(\n",
    "    m[\"Revenue.SUM\"], scope=tt.scope.cumulative(l[\"Day\"], partitioning=l[\"Year\"])\n",
    ")"
   ]
  },
  {
   "cell_type": "code",
   "execution_count": null,
   "id": "4b838e35-067d-4082-8eea-3c1565fa1312",
   "metadata": {
    "atoti": {
     "widget": {
      "mapping": {
       "columns": [
        "[Sales].[Customer_Gender].[Customer_Gender]",
        "ALL_MEASURES"
       ],
       "measures": [
        "[Measures].[YTD Sales]",
        "[Measures].[Revenue.SUM]",
        "[Measures].[%Revenue by gender]",
        "[Measures].[%sales by gender]"
       ],
       "rows": [
        "[Sales].[Calendar].[Year] => [Sales].[Calendar].[Month]"
       ]
      },
      "query": {
       "mdx": "SELECT NON EMPTY Hierarchize(Descendants({[Sales].[Calendar].[AllMember]}, 1, SELF_AND_BEFORE)) ON ROWS, NON EMPTY Crossjoin(Hierarchize(Descendants({[Sales].[Customer_Gender].[AllMember]}, 1, SELF_AND_BEFORE)), {[Measures].[YTD Sales], [Measures].[Revenue.SUM], [Measures].[%Revenue by gender], [Measures].[%sales by gender]}) ON COLUMNS FROM [Sales] CELL PROPERTIES VALUE, FORMATTED_VALUE, BACK_COLOR, FORE_COLOR, FONT_FLAGS",
       "updateMode": "once"
      },
      "queryContext": [
       {
        "key": "mdx.hiddengrandtotals",
        "value": "0"
       }
      ],
      "serverKey": "default",
      "widgetKey": "pivot-table"
     }
    },
    "tags": []
   },
   "outputs": [],
   "source": [
    "session.visualize(\"Revenue and sales breakdown by Gender\")"
   ]
  },
  {
   "cell_type": "markdown",
   "id": "ac3af647-9a08-4c84-9c05-4d82e05ca595",
   "metadata": {
    "tags": []
   },
   "source": [
    "## Alternate Scenarios"
   ]
  },
  {
   "cell_type": "markdown",
   "id": "132adc15-4972-48e1-90e3-47a89779afe3",
   "metadata": {},
   "source": [
    "We'll set up a [simulation](https://docs.atoti.io/latest/lib/atoti.cube.html#atoti.cube.Cube.create_parameter_simulation) where we increase the revenue during the summer and decrease it during the winter.\n",
    "\n",
    "We'll set up our simulation so that we can adjust the revenue both by the month as well as the Product_Category.  We'll create a measure that we'll use as a weight, and set our default weight to 1."
   ]
  },
  {
   "cell_type": "code",
   "execution_count": null,
   "id": "e32537b8-0aea-4436-b553-87216e920e24",
   "metadata": {},
   "outputs": [],
   "source": [
    "Revenue_simulation = cube.create_parameter_simulation(\n",
    "    \"Revenue_simulation\",\n",
    "    measures={\"Increased Revenue\": 1.0},\n",
    "    base_scenario_name=\"Normal Revenue\",\n",
    "    levels=[l[\"Month\"], l[\"Product_Category\"]],\n",
    ")"
   ]
  },
  {
   "cell_type": "markdown",
   "id": "7c5be64d-916b-4756-908b-e904a0b6a405",
   "metadata": {},
   "source": [
    "We can add to our simulation tables the weight by which we want to shift for each *month* and *Product_category*.  In the below cell, we create two scenarios to simulate:  an \"Off Season\" where we receive less revenue on our bikes, and a \"Summer Sale\" which leads to an increased revenue on our accessories.\n",
    "\n",
    "From there, we can redefine our *Revenue.SUM* measure to account for these two scenarios."
   ]
  },
  {
   "cell_type": "code",
   "execution_count": null,
   "id": "c2cc4049-1571-4822-b4fb-dabc663b984a",
   "metadata": {},
   "outputs": [],
   "source": [
    "Revenue_simulation += (\"Off Season\", \"December\", \"Bikes\", 0.9)\n",
    "Revenue_simulation += (\"Off Season\", \"January\", \"Bikes\", 0.8)\n",
    "Revenue_simulation += (\"Off Season\", \"February\", \"Bikes\", 0.95)\n",
    "\n",
    "Revenue_simulation += (\"Summer Sale\", \"May\", \"Accessories\", 1.2)\n",
    "Revenue_simulation += (\"Summer Sale\", \"June\", \"Accessories\", 1.3)\n",
    "Revenue_simulation += (\"Summer Sale\", \"July\", \"Accessories\", 1.25)"
   ]
  },
  {
   "cell_type": "code",
   "execution_count": null,
   "id": "12662a97-0183-48a5-9c7d-1dc31aaf318b",
   "metadata": {},
   "outputs": [],
   "source": [
    "m[\"Revenue.SUM\"] = tt.agg.sum(\n",
    "    tt.agg.sum(bike_sales[\"Revenue\"]) * m[\"Increased Revenue\"],\n",
    "    scope=tt.scope.origin(l[\"Product\"], l[\"Day\"]),\n",
    ")"
   ]
  },
  {
   "cell_type": "markdown",
   "id": "18e6300a-9942-49a4-9f3d-d1df400055ef",
   "metadata": {},
   "source": [
    "If we lay these three scenarios side by side in a table, we can see how the revenue changes based off our simulation."
   ]
  },
  {
   "cell_type": "code",
   "execution_count": null,
   "id": "9d63c98b-5c06-46df-ac1e-e6a38df9686b",
   "metadata": {
    "atoti": {
     "widget": {
      "columnWidths": {
       "[Sales].[Calendar].[Year]": 81.53125
      },
      "mapping": {
       "columns": [
        "[Revenue_simulation].[Revenue_simulation].[Revenue_simulation]"
       ],
       "measures": [
        "[Measures].[Revenue.SUM]"
       ],
       "rows": [
        "ALL_MEASURES",
        "[Sales].[Calendar].[Quarter] => [Sales].[Calendar].[Day]"
       ]
      },
      "name": "Revenue simulation",
      "query": {
       "mdx": "SELECT NON EMPTY Crossjoin([Revenue_simulation].[Revenue_simulation].[Revenue_simulation].Members, {[Measures].[Revenue.SUM]}) ON COLUMNS, NON EMPTY Hierarchize(Descendants({[Sales].[Calendar].[AllMember]}, 2, SELF_AND_BEFORE)) ON ROWS FROM [Sales] CELL PROPERTIES VALUE, FORMATTED_VALUE, BACK_COLOR, FORE_COLOR, FONT_FLAGS",
       "updateMode": "once"
      },
      "queryContext": [
       {
        "key": "mdx.hiddengrandtotals",
        "value": "1"
       }
      ],
      "serverKey": "default",
      "widgetKey": "pivot-table"
     }
    },
    "tags": []
   },
   "outputs": [],
   "source": [
    "session.visualize(\"Revenue simulation\")"
   ]
  },
  {
   "cell_type": "markdown",
   "id": "22698b6d-839c-4e19-b4ac-8f2c7a59b385",
   "metadata": {},
   "source": [
    "Let us try to create some visualizations to better understand the impact of these scenarios."
   ]
  },
  {
   "cell_type": "code",
   "execution_count": null,
   "id": "a622ab2d-0715-4d43-909a-7951f3f86c1a",
   "metadata": {
    "atoti": {
     "widget": {
      "filters": [],
      "mapping": {
       "horizontalSubplots": [],
       "splitBy": [
        "[Revenue_simulation].[Revenue_simulation].[Revenue_simulation]",
        "ALL_MEASURES"
       ],
       "values": [
        "[Measures].[Revenue.SUM]"
       ],
       "verticalSubplots": [],
       "xAxis": [
        "[Sales].[Calendar].[Month]"
       ]
      },
      "query": {
       "mdx": "SELECT NON EMPTY Crossjoin([Revenue_simulation].[Revenue_simulation].[Revenue_simulation].Members, {[Measures].[Revenue.SUM]}) ON COLUMNS, NON EMPTY Hierarchize(Descendants({[Sales].[Calendar].[AllMember]}, 3, SELF_AND_BEFORE)) ON ROWS FROM [Sales] CELL PROPERTIES VALUE, FORMATTED_VALUE, BACK_COLOR, FORE_COLOR, FONT_FLAGS",
       "updateMode": "once"
      },
      "serverKey": "default",
      "widgetKey": "plotly-line-chart"
     }
    },
    "tags": []
   },
   "outputs": [],
   "source": [
    "session.visualize(\"Revenue scenarios\")"
   ]
  },
  {
   "cell_type": "markdown",
   "id": "dc7963da-a1a6-48f3-88c8-b8feaaa82eb9",
   "metadata": {
    "tags": []
   },
   "source": [
    "## Creating a Dashboard"
   ]
  },
  {
   "cell_type": "markdown",
   "id": "02a1990e-b905-4ced-9e43-0d73890b7f4e",
   "metadata": {},
   "source": [
    "We can summarize this information in another dashboard on the customer level.  By creating a dashboard:\n",
    "* our users will be able to access the dashboards from the web application. \n",
    "* Further, if we want to bring them to a specific dashboard, we can simply share its URL with the users."
   ]
  },
  {
   "cell_type": "code",
   "execution_count": null,
   "id": "afdbf86b-9b0c-4d08-8dd0-66a1981ea0b9",
   "metadata": {},
   "outputs": [],
   "source": [
    "session.link(path=\"#/dashboard/bd8\")"
   ]
  },
  {
   "cell_type": "markdown",
   "id": "3309edbb-6bdc-44eb-b8d2-fd16dd50db43",
   "metadata": {},
   "source": [
    "## Recap"
   ]
  },
  {
   "cell_type": "markdown",
   "id": "dc699168-a230-4027-a6d5-b8cf1ebdf787",
   "metadata": {},
   "source": [
    "<div style=\"text-align: center;\"><a href=\"https://www.atoti.io/?utm_source=gallery&utm_content=bike-sales\" target=\"_blank\" rel=\"noopener noreferrer\"><img src=\"https://data.atoti.io/notebooks/bike-sales/atoti-featuers.png\" alt=\"Try atoti\"></a></div>"
   ]
  },
  {
   "cell_type": "markdown",
   "id": "f4ee74b5-3e3f-4c9f-a49a-72ac0186ff86",
   "metadata": {},
   "source": [
    "## For more information\n",
    "\n",
    "### <img src=\"https://data.atoti.io/notebooks/covid-analytics/img/atoti.png\" width = \"20px\"> Go to https://www.atoti.io to subscribe to our newsletter for the latest information sharing.  \n",
    "\n"
   ]
  },
  {
   "cell_type": "markdown",
   "id": "9640dc07-0c4a-43f0-a58b-057a37491622",
   "metadata": {},
   "source": [
    "\n",
    "## Follow us on \n",
    "\n",
    "### <img src=\"https://data.atoti.io/notebooks/covid-analytics/img/linkedin.png\" width = \"20px\"> LinkedIn https://www.linkedin.com/company/atoti  \n",
    "### <img src=\"https://data.atoti.io/notebooks/covid-analytics/img/twitter.png\" width = \"20px\"> Twitter   https://twitter.com/atoti_io  \n",
    "### <img src=\"https://data.atoti.io/notebooks/covid-analytics/img/youtube.png\" width = \"20px\"> YouTube  https://www.youtube.com/c/atoti  \n",
    "### <img src=\"https://data.atoti.io/notebooks/covid-analytics/img/medium.png\" width = \"20px\"> Medium   https://medium.com/atoti  \n",
    "\n"
   ]
  },
  {
   "cell_type": "markdown",
   "id": "85a5d282-545e-4853-97d8-f945a685bf8f",
   "metadata": {},
   "source": [
    "## Chat with us on  \n",
    "\n",
    "### <img src=\"https://data.atoti.io/notebooks/covid-analytics/img/gitter.png\" width = \"20px\"> Gitter   https://gitter.im/atoti/atoti#"
   ]
  },
  {
   "cell_type": "markdown",
   "id": "dc2b42b3-af15-4256-b933-097c24cc84f4",
   "metadata": {},
   "source": [
    "<div style=\"text-align: center;\"><a href=\"https://www.atoti.io/?utm_source=gallery&utm_content=bike-sales\" target=\"_blank\" rel=\"noopener noreferrer\"><img src=\"https://data.atoti.io/notebooks/banners/discover-try.png\" alt=\"Try atoti\"></a></div>"
   ]
  }
 ],
 "metadata": {
  "kernelspec": {
   "display_name": "Python 3 (ipykernel)",
   "language": "python",
   "name": "python3"
  },
  "language_info": {
   "codemirror_mode": {
    "name": "ipython",
    "version": 3
   },
   "file_extension": ".py",
   "mimetype": "text/x-python",
   "name": "python",
   "nbconvert_exporter": "python",
   "pygments_lexer": "ipython3",
   "version": "3.10.4"
  }
 },
 "nbformat": 4,
 "nbformat_minor": 5
}
