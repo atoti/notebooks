{
 "cells": [
  {
   "cell_type": "markdown",
   "metadata": {},
   "source": [
    "## PnL Explain :  Estimating PnL using sensitivities and Market Data\n",
    "\\[_In case you’re unable to see the atoti visualizations in GitHub, try viewing the notebook in [nbviewer](https://nbviewer.org/github/atoti/notebooks/blob/master/notebooks/pnl-explained/main.ipynb)._]\n",
    "\n",
    "For more context and definitions around pnl explained, [check out our article on atoti.io](https://www.atoti.io/pnl-explained-with-atoti/).\n",
    "\n",
    "### A few definitions:\n",
    "\n",
    "- [Portfolio](https://www.investopedia.com/terms/p/portfolio.asp) refers to any collection of financial assets such as stocks, bonds and cash. \n",
    "- [PnL](https://www.investopedia.com/terms/p/plstatement.asp) is a common term used in trading referring to the total \"Profit and Loss\" made by a portfolio over a certain time period.\n",
    "- [Maturity date](https://www.investopedia.com/terms/m/maturitydate.asp) refers to the due date on which a borrower must pay back the principal of a debt, i.e. the initial amount of money borrowed.\n",
    "- [Tenor](https://www.investopedia.com/terms/t/tenor.asp) refers to the length of time remaining in a contract, while maturity refers to the initial length of the agreement upon its inception. The tenor of a financial instrument declines over time, whereas its maturity remains constant.\n",
    "- [Yield curve](https://www.investopedia.com/terms/y/yieldcurve.asp) is a graphical representation of interest rates per maturity date.\n",
    "- [Sensitivity](https://www.investopedia.com/terms/s/sensitivity.asp) is the magnitude of a financial instrument's reaction to changes in underlying factors.\n",
    "- [Greeks](https://www.investopedia.com/terms/g/greeks.asp) describes the different dimensions of risk involved in taking an options position. \n",
    "- [Delta](https://www.investopedia.com/terms/d/delta.asp), in particular, is a first-order greek, and represents the ratio that compares the change in the price of an asset to the corresponding change in the price of its derivative. For example, if a stock option has a delta value of 0.75, this means that if the underlying stock increases in price by 1 dollar per share, the option on it will rise by 0.75 dollars per share.\n",
    "\n",
    "### Introduction\n",
    "\n",
    "The PnL explain technique seeks to estimate the daily PnL from the change in the underlying risk factors.\n",
    "In this case the risk factors are determined by the yield curve plotting interest rates for each tenor.\n",
    "\n",
    "Usually, a portfolio risk manager will monitor the risk factors that impact his portfolio, instead of monitoring all the positions booked in his portfolio. To assess what will be the value of his portfolio, a portfolio risk manager is interested in performing what-if analysis based on a scenario of the risk factor values.\n",
    "\n",
    "In this notebook, we perform a simplified PnL Explained by using Delta(Δ) to represent our sensitivity instead of the full Greeks. We will utilize the various features of atoti libraries to:\n",
    "\n",
    "- Load data into a multi-dimensional cube\n",
    "- Explore the Data using the embedded visualization or atoti UI\n",
    "- Calculate Estimated PnL using sensitivities and Market Data\n",
    "- Run multiple scenarios of the Yield Curve Stress Test"
   ]
  },
  {
   "cell_type": "markdown",
   "metadata": {},
   "source": [
    "<div style=\"text-align: center;\" ><a href=\"https://www.atoti.io/?utm_source=gallery&utm_content=pnl-explained\" target=\"_blank\" rel=\"noopener noreferrer\"><img src=\"https://data.atoti.io/notebooks/banners/discover.png\" alt=\"Try atoti\"></a></div>"
   ]
  },
  {
   "cell_type": "code",
   "execution_count": 1,
   "metadata": {},
   "outputs": [],
   "source": [
    "import atoti as tt"
   ]
  },
  {
   "cell_type": "code",
   "execution_count": 2,
   "metadata": {},
   "outputs": [
    {
     "ename": "ValueError",
     "evalue": "Expected one of ('true', '1') or ('false', '0') but received atotijavaexception.",
     "output_type": "error",
     "traceback": [
      "\u001b[1;31m---------------------------------------------------------------------------\u001b[0m",
      "\u001b[1;31mPy4JJavaError\u001b[0m                             Traceback (most recent call last)",
      "\u001b[1;32m~\\AppData\\Local\\pypoetry\\Cache\\virtualenvs\\notebooks-bWtx623B-py3.8\\lib\\site-packages\\atoti\\_java_api.py\u001b[0m in \u001b[0;36mwrapped_method\u001b[1;34m(self, *args, **kwargs)\u001b[0m\n\u001b[0;32m    127\u001b[0m         \u001b[1;32mtry\u001b[0m\u001b[1;33m:\u001b[0m\u001b[1;33m\u001b[0m\u001b[1;33m\u001b[0m\u001b[0m\n\u001b[1;32m--> 128\u001b[1;33m             \u001b[1;32mreturn\u001b[0m \u001b[0mfunction\u001b[0m\u001b[1;33m(\u001b[0m\u001b[0mself\u001b[0m\u001b[1;33m,\u001b[0m \u001b[1;33m*\u001b[0m\u001b[0margs\u001b[0m\u001b[1;33m,\u001b[0m \u001b[1;33m**\u001b[0m\u001b[0mkwargs\u001b[0m\u001b[1;33m)\u001b[0m\u001b[1;33m\u001b[0m\u001b[1;33m\u001b[0m\u001b[0m\n\u001b[0m\u001b[0;32m    129\u001b[0m         \u001b[1;32mexcept\u001b[0m \u001b[0mPy4JJavaError\u001b[0m \u001b[1;32mas\u001b[0m \u001b[0mjava_exception\u001b[0m\u001b[1;33m:\u001b[0m\u001b[1;33m\u001b[0m\u001b[1;33m\u001b[0m\u001b[0m\n",
      "\u001b[1;32m~\\AppData\\Local\\pypoetry\\Cache\\virtualenvs\\notebooks-bWtx623B-py3.8\\lib\\site-packages\\atoti\\_java_api.py\u001b[0m in \u001b[0;36mstart_application\u001b[1;34m(self, config)\u001b[0m\n\u001b[0;32m    312\u001b[0m         \u001b[0mjson_config\u001b[0m \u001b[1;33m=\u001b[0m \u001b[0mserialize_config_to_json\u001b[0m\u001b[1;33m(\u001b[0m\u001b[0mconfig\u001b[0m\u001b[1;33m)\u001b[0m\u001b[1;33m\u001b[0m\u001b[1;33m\u001b[0m\u001b[0m\n\u001b[1;32m--> 313\u001b[1;33m         \u001b[0mself\u001b[0m\u001b[1;33m.\u001b[0m\u001b[0mjava_session\u001b[0m\u001b[1;33m.\u001b[0m\u001b[0mstartServer\u001b[0m\u001b[1;33m(\u001b[0m\u001b[0mjson_config\u001b[0m\u001b[1;33m)\u001b[0m\u001b[1;33m\u001b[0m\u001b[1;33m\u001b[0m\u001b[0m\n\u001b[0m\u001b[0;32m    314\u001b[0m \u001b[1;33m\u001b[0m\u001b[0m\n",
      "\u001b[1;32m~\\AppData\\Local\\pypoetry\\Cache\\virtualenvs\\notebooks-bWtx623B-py3.8\\lib\\site-packages\\py4j\\java_gateway.py\u001b[0m in \u001b[0;36m__call__\u001b[1;34m(self, *args)\u001b[0m\n\u001b[0;32m   1320\u001b[0m         \u001b[0manswer\u001b[0m \u001b[1;33m=\u001b[0m \u001b[0mself\u001b[0m\u001b[1;33m.\u001b[0m\u001b[0mgateway_client\u001b[0m\u001b[1;33m.\u001b[0m\u001b[0msend_command\u001b[0m\u001b[1;33m(\u001b[0m\u001b[0mcommand\u001b[0m\u001b[1;33m)\u001b[0m\u001b[1;33m\u001b[0m\u001b[1;33m\u001b[0m\u001b[0m\n\u001b[1;32m-> 1321\u001b[1;33m         return_value = get_return_value(\n\u001b[0m\u001b[0;32m   1322\u001b[0m             answer, self.gateway_client, self.target_id, self.name)\n",
      "\u001b[1;32m~\\AppData\\Local\\pypoetry\\Cache\\virtualenvs\\notebooks-bWtx623B-py3.8\\lib\\site-packages\\py4j\\protocol.py\u001b[0m in \u001b[0;36mget_return_value\u001b[1;34m(answer, gateway_client, target_id, name)\u001b[0m\n\u001b[0;32m    325\u001b[0m             \u001b[1;32mif\u001b[0m \u001b[0manswer\u001b[0m\u001b[1;33m[\u001b[0m\u001b[1;36m1\u001b[0m\u001b[1;33m]\u001b[0m \u001b[1;33m==\u001b[0m \u001b[0mREFERENCE_TYPE\u001b[0m\u001b[1;33m:\u001b[0m\u001b[1;33m\u001b[0m\u001b[1;33m\u001b[0m\u001b[0m\n\u001b[1;32m--> 326\u001b[1;33m                 raise Py4JJavaError(\n\u001b[0m\u001b[0;32m    327\u001b[0m                     \u001b[1;34m\"An error occurred while calling {0}{1}{2}.\\n\"\u001b[0m\u001b[1;33m.\u001b[0m\u001b[1;33m\u001b[0m\u001b[1;33m\u001b[0m\u001b[0m\n",
      "\u001b[1;31mPy4JJavaError\u001b[0m: An error occurred while calling t.startServer.\n: org.springframework.context.ApplicationContextException: Unable to start web server; nested exception is org.springframework.boot.web.server.WebServerException: Unable to start embedded Tomcat\r\n\tat org.springframework.boot.web.servlet.context.ServletWebServerApplicationContext.onRefresh(ServletWebServerApplicationContext.java:163)\r\n\tat org.springframework.context.support.AbstractApplicationContext.refresh(AbstractApplicationContext.java:577)\r\n\tat org.springframework.boot.web.servlet.context.ServletWebServerApplicationContext.refresh(ServletWebServerApplicationContext.java:145)\r\n\tat org.springframework.boot.SpringApplication.refresh(SpringApplication.java:730)\r\n\tat org.springframework.boot.SpringApplication.refreshContext(SpringApplication.java:412)\r\n\tat org.springframework.boot.SpringApplication.run(SpringApplication.java:302)\r\n\tat org.springframework.boot.builder.SpringApplicationBuilder.run(SpringApplicationBuilder.java:164)\r\n\tat io.atoti.util.impl.ServerUtils.startApplication(ServerUtils.java:65)\r\n\tat io.atoti.util.impl.ServerManager.startServer(ServerManager.java:64)\r\n\tat io.atoti.SessionImpl.startServer(SessionImpl.java:208)\r\n\tat java.base/jdk.internal.reflect.NativeMethodAccessorImpl.invoke0(Native Method)\r\n\tat java.base/jdk.internal.reflect.NativeMethodAccessorImpl.invoke(Unknown Source)\r\n\tat java.base/jdk.internal.reflect.DelegatingMethodAccessorImpl.invoke(Unknown Source)\r\n\tat java.base/java.lang.reflect.Method.invoke(Unknown Source)\r\n\tat py4j.reflection.MethodInvoker.invoke(MethodInvoker.java:244)\r\n\tat py4j.reflection.ReflectionEngine.invoke(ReflectionEngine.java:357)\r\n\tat py4j.Gateway.invoke(Gateway.java:282)\r\n\tat py4j.commands.AbstractCommand.invokeMethod(AbstractCommand.java:132)\r\n\tat py4j.commands.CallCommand.execute(CallCommand.java:79)\r\n\tat py4j.ClientServerConnection.waitForCommands(ClientServerConnection.java:182)\r\n\tat py4j.ClientServerConnection.run(ClientServerConnection.java:106)\r\n\tat java.base/java.lang.Thread.run(Unknown Source)\r\nCaused by: org.springframework.boot.web.server.WebServerException: Unable to start embedded Tomcat\r\n\tat org.springframework.boot.web.embedded.tomcat.TomcatWebServer.initialize(TomcatWebServer.java:142)\r\n\tat org.springframework.boot.web.embedded.tomcat.TomcatWebServer.<init>(TomcatWebServer.java:104)\r\n\tat org.springframework.boot.web.embedded.tomcat.TomcatServletWebServerFactory.getTomcatWebServer(TomcatServletWebServerFactory.java:473)\r\n\tat org.springframework.boot.web.embedded.tomcat.TomcatServletWebServerFactory.getWebServer(TomcatServletWebServerFactory.java:206)\r\n\tat org.springframework.boot.web.servlet.context.ServletWebServerApplicationContext.createWebServer(ServletWebServerApplicationContext.java:182)\r\n\tat org.springframework.boot.web.servlet.context.ServletWebServerApplicationContext.onRefresh(ServletWebServerApplicationContext.java:160)\r\n\t... 21 more\r\nCaused by: org.springframework.beans.factory.BeanCreationException: Error creating bean with name 'contextValueFilter' defined in io.atoti.spring.ActivePivotConfig: Bean instantiation via factory method failed; nested exception is org.springframework.beans.BeanInstantiationException: Failed to instantiate [com.qfs.pivot.servlet.impl.ContextValueFilter]: Factory method 'contextValueFilter' threw exception; nested exception is org.springframework.beans.factory.BeanCreationException: Error creating bean with name 'contextValuePropagator' defined in io.atoti.spring.ActivePivotConfig: Bean instantiation via factory method failed; nested exception is org.springframework.beans.BeanInstantiationException: Failed to instantiate [com.quartetfs.biz.pivot.security.impl.ContextValuePropagator]: Factory method 'contextValuePropagator' threw exception; nested exception is org.springframework.beans.factory.BeanCreationException: Error creating bean with name 'contextValueManager' defined in io.atoti.spring.ActivePivotConfig: Bean instantiation via factory method failed; nested exception is org.springframework.beans.BeanInstantiationException: Failed to instantiate [com.quartetfs.biz.pivot.security.impl.ContextValueManager]: Factory method 'contextValueManager' threw exception; nested exception is org.springframework.beans.factory.BeanCreationException: Error creating bean with name 'activePivotContentService' defined in io.atoti.patachou.contentserver.cfg.JdbcContentServiceConfig: Bean instantiation via factory method failed; nested exception is org.springframework.beans.BeanInstantiationException: Failed to instantiate [com.qfs.pivot.content.IActivePivotContentService]: Factory method 'activePivotContentService' threw exception; nested exception is org.springframework.beans.factory.BeanCreationException: Error creating bean with name 'contentService' defined in io.atoti.patachou.contentserver.cfg.JdbcContentServiceConfig: Bean instantiation via factory method failed; nested exception is org.springframework.beans.BeanInstantiationException: Failed to instantiate [com.qfs.content.service.IContentService]: Factory method 'contentService' threw exception; nested exception is org.springframework.beans.factory.BeanCreationException: Error creating bean with name 'jdbcDataSource' defined in io.atoti.patachou.contentserver.cfg.JdbcContentServiceConfig: Bean instantiation via factory method failed; nested exception is org.springframework.beans.BeanInstantiationException: Failed to instantiate [javax.sql.DataSource]: Factory method 'jdbcDataSource' threw exception; nested exception is com.zaxxer.hikari.pool.HikariPool$PoolInitializationException: Failed to initialize pool: General error: \"The write format 1 is smaller than the supported format 2 [2.1.210/5]\" [50000-210]\r\n\tat org.springframework.beans.factory.support.ConstructorResolver.instantiate(ConstructorResolver.java:658)\r\n\tat org.springframework.beans.factory.support.ConstructorResolver.instantiateUsingFactoryMethod(ConstructorResolver.java:486)\r\n\tat org.springframework.beans.factory.support.AbstractAutowireCapableBeanFactory.instantiateUsingFactoryMethod(AbstractAutowireCapableBeanFactory.java:1352)\r\n\tat org.springframework.beans.factory.support.AbstractAutowireCapableBeanFactory.createBeanInstance(AbstractAutowireCapableBeanFactory.java:1195)\r\n\tat org.springframework.beans.factory.support.AbstractAutowireCapableBeanFactory.doCreateBean(AbstractAutowireCapableBeanFactory.java:582)\r\n\tat org.springframework.beans.factory.support.AbstractAutowireCapableBeanFactory.createBean(AbstractAutowireCapableBeanFactory.java:542)\r\n\tat org.springframework.beans.factory.support.AbstractBeanFactory.lambda$doGetBean$0(AbstractBeanFactory.java:335)\r\n\tat org.springframework.beans.factory.support.DefaultSingletonBeanRegistry.getSingleton(DefaultSingletonBeanRegistry.java:234)\r\n\tat org.springframework.beans.factory.support.AbstractBeanFactory.doGetBean(AbstractBeanFactory.java:333)\r\n\tat org.springframework.beans.factory.support.AbstractBeanFactory.getBean(AbstractBeanFactory.java:213)\r\n\tat org.springframework.boot.web.servlet.ServletContextInitializerBeans.getOrderedBeansOfType(ServletContextInitializerBeans.java:212)\r\n\tat org.springframework.boot.web.servlet.ServletContextInitializerBeans.addAsRegistrationBean(ServletContextInitializerBeans.java:175)\r\n\tat org.springframework.boot.web.servlet.ServletContextInitializerBeans.addAsRegistrationBean(ServletContextInitializerBeans.java:170)\r\n\tat org.springframework.boot.web.servlet.ServletContextInitializerBeans.addAdaptableBeans(ServletContextInitializerBeans.java:155)\r\n\tat org.springframework.boot.web.servlet.ServletContextInitializerBeans.<init>(ServletContextInitializerBeans.java:87)\r\n\tat org.springframework.boot.web.servlet.context.ServletWebServerApplicationContext.getServletContextInitializerBeans(ServletWebServerApplicationContext.java:260)\r\n\tat org.springframework.boot.web.servlet.context.ServletWebServerApplicationContext.selfInitialize(ServletWebServerApplicationContext.java:234)\r\n\tat org.springframework.boot.web.embedded.tomcat.TomcatStarter.onStartup(TomcatStarter.java:53)\r\n\tat org.apache.catalina.core.StandardContext.startInternal(StandardContext.java:5219)\r\n\tat org.apache.catalina.util.LifecycleBase.start(LifecycleBase.java:183)\r\n\tat org.apache.catalina.core.ContainerBase$StartChild.call(ContainerBase.java:1396)\r\n\tat org.apache.catalina.core.ContainerBase$StartChild.call(ContainerBase.java:1386)\r\n\tat java.base/java.util.concurrent.FutureTask.run(Unknown Source)\r\n\tat org.apache.tomcat.util.threads.InlineExecutorService.execute(InlineExecutorService.java:75)\r\n\tat java.base/java.util.concurrent.AbstractExecutorService.submit(Unknown Source)\r\n\tat org.apache.catalina.core.ContainerBase.startInternal(ContainerBase.java:919)\r\n\tat org.apache.catalina.core.StandardHost.startInternal(StandardHost.java:835)\r\n\tat org.apache.catalina.util.LifecycleBase.start(LifecycleBase.java:183)\r\n\tat org.apache.catalina.core.ContainerBase$StartChild.call(ContainerBase.java:1396)\r\n\tat org.apache.catalina.core.ContainerBase$StartChild.call(ContainerBase.java:1386)\r\n\tat java.base/java.util.concurrent.FutureTask.run(Unknown Source)\r\n\tat org.apache.tomcat.util.threads.InlineExecutorService.execute(InlineExecutorService.java:75)\r\n\tat java.base/java.util.concurrent.AbstractExecutorService.submit(Unknown Source)\r\n\tat org.apache.catalina.core.ContainerBase.startInternal(ContainerBase.java:919)\r\n\tat org.apache.catalina.core.StandardEngine.startInternal(StandardEngine.java:263)\r\n\tat org.apache.catalina.util.LifecycleBase.start(LifecycleBase.java:183)\r\n\tat org.apache.catalina.core.StandardService.startInternal(StandardService.java:432)\r\n\tat org.apache.catalina.util.LifecycleBase.start(LifecycleBase.java:183)\r\n\tat org.apache.catalina.core.StandardServer.startInternal(StandardServer.java:927)\r\n\tat org.apache.catalina.util.LifecycleBase.start(LifecycleBase.java:183)\r\n\tat org.apache.catalina.startup.Tomcat.start(Tomcat.java:486)\r\n\tat org.springframework.boot.web.embedded.tomcat.TomcatWebServer.initialize(TomcatWebServer.java:123)\r\n\t... 26 more\r\nCaused by: org.springframework.beans.BeanInstantiationException: Failed to instantiate [com.qfs.pivot.servlet.impl.ContextValueFilter]: Factory method 'contextValueFilter' threw exception; nested exception is org.springframework.beans.factory.BeanCreationException: Error creating bean with name 'contextValuePropagator' defined in io.atoti.spring.ActivePivotConfig: Bean instantiation via factory method failed; nested exception is org.springframework.beans.BeanInstantiationException: Failed to instantiate [com.quartetfs.biz.pivot.security.impl.ContextValuePropagator]: Factory method 'contextValuePropagator' threw exception; nested exception is org.springframework.beans.factory.BeanCreationException: Error creating bean with name 'contextValueManager' defined in io.atoti.spring.ActivePivotConfig: Bean instantiation via factory method failed; nested exception is org.springframework.beans.BeanInstantiationException: Failed to instantiate [com.quartetfs.biz.pivot.security.impl.ContextValueManager]: Factory method 'contextValueManager' threw exception; nested exception is org.springframework.beans.factory.BeanCreationException: Error creating bean with name 'activePivotContentService' defined in io.atoti.patachou.contentserver.cfg.JdbcContentServiceConfig: Bean instantiation via factory method failed; nested exception is org.springframework.beans.BeanInstantiationException: Failed to instantiate [com.qfs.pivot.content.IActivePivotContentService]: Factory method 'activePivotContentService' threw exception; nested exception is org.springframework.beans.factory.BeanCreationException: Error creating bean with name 'contentService' defined in io.atoti.patachou.contentserver.cfg.JdbcContentServiceConfig: Bean instantiation via factory method failed; nested exception is org.springframework.beans.BeanInstantiationException: Failed to instantiate [com.qfs.content.service.IContentService]: Factory method 'contentService' threw exception; nested exception is org.springframework.beans.factory.BeanCreationException: Error creating bean with name 'jdbcDataSource' defined in io.atoti.patachou.contentserver.cfg.JdbcContentServiceConfig: Bean instantiation via factory method failed; nested exception is org.springframework.beans.BeanInstantiationException: Failed to instantiate [javax.sql.DataSource]: Factory method 'jdbcDataSource' threw exception; nested exception is com.zaxxer.hikari.pool.HikariPool$PoolInitializationException: Failed to initialize pool: General error: \"The write format 1 is smaller than the supported format 2 [2.1.210/5]\" [50000-210]\r\n\tat org.springframework.beans.factory.support.SimpleInstantiationStrategy.instantiate(SimpleInstantiationStrategy.java:185)\r\n\tat org.springframework.beans.factory.support.ConstructorResolver.instantiate(ConstructorResolver.java:653)\r\n\t... 67 more\r\nCaused by: org.springframework.beans.factory.BeanCreationException: Error creating bean with name 'contextValuePropagator' defined in io.atoti.spring.ActivePivotConfig: Bean instantiation via factory method failed; nested exception is org.springframework.beans.BeanInstantiationException: Failed to instantiate [com.quartetfs.biz.pivot.security.impl.ContextValuePropagator]: Factory method 'contextValuePropagator' threw exception; nested exception is org.springframework.beans.factory.BeanCreationException: Error creating bean with name 'contextValueManager' defined in io.atoti.spring.ActivePivotConfig: Bean instantiation via factory method failed; nested exception is org.springframework.beans.BeanInstantiationException: Failed to instantiate [com.quartetfs.biz.pivot.security.impl.ContextValueManager]: Factory method 'contextValueManager' threw exception; nested exception is org.springframework.beans.factory.BeanCreationException: Error creating bean with name 'activePivotContentService' defined in io.atoti.patachou.contentserver.cfg.JdbcContentServiceConfig: Bean instantiation via factory method failed; nested exception is org.springframework.beans.BeanInstantiationException: Failed to instantiate [com.qfs.pivot.content.IActivePivotContentService]: Factory method 'activePivotContentService' threw exception; nested exception is org.springframework.beans.factory.BeanCreationException: Error creating bean with name 'contentService' defined in io.atoti.patachou.contentserver.cfg.JdbcContentServiceConfig: Bean instantiation via factory method failed; nested exception is org.springframework.beans.BeanInstantiationException: Failed to instantiate [com.qfs.content.service.IContentService]: Factory method 'contentService' threw exception; nested exception is org.springframework.beans.factory.BeanCreationException: Error creating bean with name 'jdbcDataSource' defined in io.atoti.patachou.contentserver.cfg.JdbcContentServiceConfig: Bean instantiation via factory method failed; nested exception is org.springframework.beans.BeanInstantiationException: Failed to instantiate [javax.sql.DataSource]: Factory method 'jdbcDataSource' threw exception; nested exception is com.zaxxer.hikari.pool.HikariPool$PoolInitializationException: Failed to initialize pool: General error: \"The write format 1 is smaller than the supported format 2 [2.1.210/5]\" [50000-210]\r\n\tat org.springframework.beans.factory.support.ConstructorResolver.instantiate(ConstructorResolver.java:658)\r\n\tat org.springframework.beans.factory.support.ConstructorResolver.instantiateUsingFactoryMethod(ConstructorResolver.java:486)\r\n\tat org.springframework.beans.factory.support.AbstractAutowireCapableBeanFactory.instantiateUsingFactoryMethod(AbstractAutowireCapableBeanFactory.java:1352)\r\n\tat org.springframework.beans.factory.support.AbstractAutowireCapableBeanFactory.createBeanInstance(AbstractAutowireCapableBeanFactory.java:1195)\r\n\tat org.springframework.beans.factory.support.AbstractAutowireCapableBeanFactory.doCreateBean(AbstractAutowireCapableBeanFactory.java:582)\r\n\tat org.springframework.beans.factory.support.AbstractAutowireCapableBeanFactory.createBean(AbstractAutowireCapableBeanFactory.java:542)\r\n\tat org.springframework.beans.factory.support.AbstractBeanFactory.lambda$doGetBean$0(AbstractBeanFactory.java:335)\r\n\tat org.springframework.beans.factory.support.DefaultSingletonBeanRegistry.getSingleton(DefaultSingletonBeanRegistry.java:234)\r\n\tat org.springframework.beans.factory.support.AbstractBeanFactory.doGetBean(AbstractBeanFactory.java:333)\r\n\tat org.springframework.beans.factory.support.AbstractBeanFactory.getBean(AbstractBeanFactory.java:208)\r\n\tat org.springframework.context.annotation.ConfigurationClassEnhancer$BeanMethodInterceptor.resolveBeanReference(ConfigurationClassEnhancer.java:362)\r\n\tat org.springframework.context.annotation.ConfigurationClassEnhancer$BeanMethodInterceptor.intercept(ConfigurationClassEnhancer.java:334)\r\n\tat io.atoti.spring.ActivePivotConfig$$EnhancerBySpringCGLIB$$fdc25614.contextValuePropagator(<generated>)\r\n\tat io.atoti.spring.ActivePivotConfig.contextValueFilter(ActivePivotConfig.java:78)\r\n\tat io.atoti.spring.ActivePivotConfig$$EnhancerBySpringCGLIB$$fdc25614.CGLIB$contextValueFilter$5(<generated>)\r\n\tat io.atoti.spring.ActivePivotConfig$$EnhancerBySpringCGLIB$$fdc25614$$FastClassBySpringCGLIB$$ec1cdb68.invoke(<generated>)\r\n\tat org.springframework.cglib.proxy.MethodProxy.invokeSuper(MethodProxy.java:244)\r\n\tat org.springframework.context.annotation.ConfigurationClassEnhancer$BeanMethodInterceptor.intercept(ConfigurationClassEnhancer.java:331)\r\n\tat io.atoti.spring.ActivePivotConfig$$EnhancerBySpringCGLIB$$fdc25614.contextValueFilter(<generated>)\r\n\tat java.base/jdk.internal.reflect.NativeMethodAccessorImpl.invoke0(Native Method)\r\n\tat java.base/jdk.internal.reflect.NativeMethodAccessorImpl.invoke(Unknown Source)\r\n\tat java.base/jdk.internal.reflect.DelegatingMethodAccessorImpl.invoke(Unknown Source)\r\n\tat java.base/java.lang.reflect.Method.invoke(Unknown Source)\r\n\tat org.springframework.beans.factory.support.SimpleInstantiationStrategy.instantiate(SimpleInstantiationStrategy.java:154)\r\n\t... 68 more\r\nCaused by: org.springframework.beans.BeanInstantiationException: Failed to instantiate [com.quartetfs.biz.pivot.security.impl.ContextValuePropagator]: Factory method 'contextValuePropagator' threw exception; nested exception is org.springframework.beans.factory.BeanCreationException: Error creating bean with name 'contextValueManager' defined in io.atoti.spring.ActivePivotConfig: Bean instantiation via factory method failed; nested exception is org.springframework.beans.BeanInstantiationException: Failed to instantiate [com.quartetfs.biz.pivot.security.impl.ContextValueManager]: Factory method 'contextValueManager' threw exception; nested exception is org.springframework.beans.factory.BeanCreationException: Error creating bean with name 'activePivotContentService' defined in io.atoti.patachou.contentserver.cfg.JdbcContentServiceConfig: Bean instantiation via factory method failed; nested exception is org.springframework.beans.BeanInstantiationException: Failed to instantiate [com.qfs.pivot.content.IActivePivotContentService]: Factory method 'activePivotContentService' threw exception; nested exception is org.springframework.beans.factory.BeanCreationException: Error creating bean with name 'contentService' defined in io.atoti.patachou.contentserver.cfg.JdbcContentServiceConfig: Bean instantiation via factory method failed; nested exception is org.springframework.beans.BeanInstantiationException: Failed to instantiate [com.qfs.content.service.IContentService]: Factory method 'contentService' threw exception; nested exception is org.springframework.beans.factory.BeanCreationException: Error creating bean with name 'jdbcDataSource' defined in io.atoti.patachou.contentserver.cfg.JdbcContentServiceConfig: Bean instantiation via factory method failed; nested exception is org.springframework.beans.BeanInstantiationException: Failed to instantiate [javax.sql.DataSource]: Factory method 'jdbcDataSource' threw exception; nested exception is com.zaxxer.hikari.pool.HikariPool$PoolInitializationException: Failed to initialize pool: General error: \"The write format 1 is smaller than the supported format 2 [2.1.210/5]\" [50000-210]\r\n\tat org.springframework.beans.factory.support.SimpleInstantiationStrategy.instantiate(SimpleInstantiationStrategy.java:185)\r\n\tat org.springframework.beans.factory.support.ConstructorResolver.instantiate(ConstructorResolver.java:653)\r\n\t... 91 more\r\nCaused by: org.springframework.beans.factory.BeanCreationException: Error creating bean with name 'contextValueManager' defined in io.atoti.spring.ActivePivotConfig: Bean instantiation via factory method failed; nested exception is org.springframework.beans.BeanInstantiationException: Failed to instantiate [com.quartetfs.biz.pivot.security.impl.ContextValueManager]: Factory method 'contextValueManager' threw exception; nested exception is org.springframework.beans.factory.BeanCreationException: Error creating bean with name 'activePivotContentService' defined in io.atoti.patachou.contentserver.cfg.JdbcContentServiceConfig: Bean instantiation via factory method failed; nested exception is org.springframework.beans.BeanInstantiationException: Failed to instantiate [com.qfs.pivot.content.IActivePivotContentService]: Factory method 'activePivotContentService' threw exception; nested exception is org.springframework.beans.factory.BeanCreationException: Error creating bean with name 'contentService' defined in io.atoti.patachou.contentserver.cfg.JdbcContentServiceConfig: Bean instantiation via factory method failed; nested exception is org.springframework.beans.BeanInstantiationException: Failed to instantiate [com.qfs.content.service.IContentService]: Factory method 'contentService' threw exception; nested exception is org.springframework.beans.factory.BeanCreationException: Error creating bean with name 'jdbcDataSource' defined in io.atoti.patachou.contentserver.cfg.JdbcContentServiceConfig: Bean instantiation via factory method failed; nested exception is org.springframework.beans.BeanInstantiationException: Failed to instantiate [javax.sql.DataSource]: Factory method 'jdbcDataSource' threw exception; nested exception is com.zaxxer.hikari.pool.HikariPool$PoolInitializationException: Failed to initialize pool: General error: \"The write format 1 is smaller than the supported format 2 [2.1.210/5]\" [50000-210]\r\n\tat org.springframework.beans.factory.support.ConstructorResolver.instantiate(ConstructorResolver.java:658)\r\n\tat org.springframework.beans.factory.support.ConstructorResolver.instantiateUsingFactoryMethod(ConstructorResolver.java:486)\r\n\tat org.springframework.beans.factory.support.AbstractAutowireCapableBeanFactory.instantiateUsingFactoryMethod(AbstractAutowireCapableBeanFactory.java:1352)\r\n\tat org.springframework.beans.factory.support.AbstractAutowireCapableBeanFactory.createBeanInstance(AbstractAutowireCapableBeanFactory.java:1195)\r\n\tat org.springframework.beans.factory.support.AbstractAutowireCapableBeanFactory.doCreateBean(AbstractAutowireCapableBeanFactory.java:582)\r\n\tat org.springframework.beans.factory.support.AbstractAutowireCapableBeanFactory.createBean(AbstractAutowireCapableBeanFactory.java:542)\r\n\tat org.springframework.beans.factory.support.AbstractBeanFactory.lambda$doGetBean$0(AbstractBeanFactory.java:335)\r\n\tat org.springframework.beans.factory.support.DefaultSingletonBeanRegistry.getSingleton(DefaultSingletonBeanRegistry.java:234)\r\n\tat org.springframework.beans.factory.support.AbstractBeanFactory.doGetBean(AbstractBeanFactory.java:333)\r\n\tat org.springframework.beans.factory.support.AbstractBeanFactory.getBean(AbstractBeanFactory.java:208)\r\n\tat org.springframework.context.annotation.ConfigurationClassEnhancer$BeanMethodInterceptor.resolveBeanReference(ConfigurationClassEnhancer.java:362)\r\n\tat org.springframework.context.annotation.ConfigurationClassEnhancer$BeanMethodInterceptor.intercept(ConfigurationClassEnhancer.java:334)\r\n\tat io.atoti.spring.ActivePivotConfig$$EnhancerBySpringCGLIB$$fdc25614.contextValueManager(<generated>)\r\n\tat io.atoti.spring.ActivePivotConfig.contextValuePropagator(ActivePivotConfig.java:90)\r\n\tat io.atoti.spring.ActivePivotConfig$$EnhancerBySpringCGLIB$$fdc25614.CGLIB$contextValuePropagator$3(<generated>)\r\n\tat io.atoti.spring.ActivePivotConfig$$EnhancerBySpringCGLIB$$fdc25614$$FastClassBySpringCGLIB$$ec1cdb68.invoke(<generated>)\r\n\tat org.springframework.cglib.proxy.MethodProxy.invokeSuper(MethodProxy.java:244)\r\n\tat org.springframework.context.annotation.ConfigurationClassEnhancer$BeanMethodInterceptor.intercept(ConfigurationClassEnhancer.java:331)\r\n\tat io.atoti.spring.ActivePivotConfig$$EnhancerBySpringCGLIB$$fdc25614.contextValuePropagator(<generated>)\r\n\tat java.base/jdk.internal.reflect.NativeMethodAccessorImpl.invoke0(Native Method)\r\n\tat java.base/jdk.internal.reflect.NativeMethodAccessorImpl.invoke(Unknown Source)\r\n\tat java.base/jdk.internal.reflect.DelegatingMethodAccessorImpl.invoke(Unknown Source)\r\n\tat java.base/java.lang.reflect.Method.invoke(Unknown Source)\r\n\tat org.springframework.beans.factory.support.SimpleInstantiationStrategy.instantiate(SimpleInstantiationStrategy.java:154)\r\n\t... 92 more\r\nCaused by: org.springframework.beans.BeanInstantiationException: Failed to instantiate [com.quartetfs.biz.pivot.security.impl.ContextValueManager]: Factory method 'contextValueManager' threw exception; nested exception is org.springframework.beans.factory.BeanCreationException: Error creating bean with name 'activePivotContentService' defined in io.atoti.patachou.contentserver.cfg.JdbcContentServiceConfig: Bean instantiation via factory method failed; nested exception is org.springframework.beans.BeanInstantiationException: Failed to instantiate [com.qfs.pivot.content.IActivePivotContentService]: Factory method 'activePivotContentService' threw exception; nested exception is org.springframework.beans.factory.BeanCreationException: Error creating bean with name 'contentService' defined in io.atoti.patachou.contentserver.cfg.JdbcContentServiceConfig: Bean instantiation via factory method failed; nested exception is org.springframework.beans.BeanInstantiationException: Failed to instantiate [com.qfs.content.service.IContentService]: Factory method 'contentService' threw exception; nested exception is org.springframework.beans.factory.BeanCreationException: Error creating bean with name 'jdbcDataSource' defined in io.atoti.patachou.contentserver.cfg.JdbcContentServiceConfig: Bean instantiation via factory method failed; nested exception is org.springframework.beans.BeanInstantiationException: Failed to instantiate [javax.sql.DataSource]: Factory method 'jdbcDataSource' threw exception; nested exception is com.zaxxer.hikari.pool.HikariPool$PoolInitializationException: Failed to initialize pool: General error: \"The write format 1 is smaller than the supported format 2 [2.1.210/5]\" [50000-210]\r\n\tat org.springframework.beans.factory.support.SimpleInstantiationStrategy.instantiate(SimpleInstantiationStrategy.java:185)\r\n\tat org.springframework.beans.factory.support.ConstructorResolver.instantiate(ConstructorResolver.java:653)\r\n\t... 115 more\r\nCaused by: org.springframework.beans.factory.BeanCreationException: Error creating bean with name 'activePivotContentService' defined in io.atoti.patachou.contentserver.cfg.JdbcContentServiceConfig: Bean instantiation via factory method failed; nested exception is org.springframework.beans.BeanInstantiationException: Failed to instantiate [com.qfs.pivot.content.IActivePivotContentService]: Factory method 'activePivotContentService' threw exception; nested exception is org.springframework.beans.factory.BeanCreationException: Error creating bean with name 'contentService' defined in io.atoti.patachou.contentserver.cfg.JdbcContentServiceConfig: Bean instantiation via factory method failed; nested exception is org.springframework.beans.BeanInstantiationException: Failed to instantiate [com.qfs.content.service.IContentService]: Factory method 'contentService' threw exception; nested exception is org.springframework.beans.factory.BeanCreationException: Error creating bean with name 'jdbcDataSource' defined in io.atoti.patachou.contentserver.cfg.JdbcContentServiceConfig: Bean instantiation via factory method failed; nested exception is org.springframework.beans.BeanInstantiationException: Failed to instantiate [javax.sql.DataSource]: Factory method 'jdbcDataSource' threw exception; nested exception is com.zaxxer.hikari.pool.HikariPool$PoolInitializationException: Failed to initialize pool: General error: \"The write format 1 is smaller than the supported format 2 [2.1.210/5]\" [50000-210]\r\n\tat org.springframework.beans.factory.support.ConstructorResolver.instantiate(ConstructorResolver.java:658)\r\n\tat org.springframework.beans.factory.support.ConstructorResolver.instantiateUsingFactoryMethod(ConstructorResolver.java:486)\r\n\tat org.springframework.beans.factory.support.AbstractAutowireCapableBeanFactory.instantiateUsingFactoryMethod(AbstractAutowireCapableBeanFactory.java:1352)\r\n\tat org.springframework.beans.factory.support.AbstractAutowireCapableBeanFactory.createBeanInstance(AbstractAutowireCapableBeanFactory.java:1195)\r\n\tat org.springframework.beans.factory.support.AbstractAutowireCapableBeanFactory.doCreateBean(AbstractAutowireCapableBeanFactory.java:582)\r\n\tat org.springframework.beans.factory.support.AbstractAutowireCapableBeanFactory.createBean(AbstractAutowireCapableBeanFactory.java:542)\r\n\tat org.springframework.beans.factory.support.AbstractBeanFactory.lambda$doGetBean$0(AbstractBeanFactory.java:335)\r\n\tat org.springframework.beans.factory.support.DefaultSingletonBeanRegistry.getSingleton(DefaultSingletonBeanRegistry.java:234)\r\n\tat org.springframework.beans.factory.support.AbstractBeanFactory.doGetBean(AbstractBeanFactory.java:333)\r\n\tat org.springframework.beans.factory.support.AbstractBeanFactory.getBean(AbstractBeanFactory.java:208)\r\n\tat org.springframework.context.annotation.ConfigurationClassEnhancer$BeanMethodInterceptor.resolveBeanReference(ConfigurationClassEnhancer.java:362)\r\n\tat org.springframework.context.annotation.ConfigurationClassEnhancer$BeanMethodInterceptor.intercept(ConfigurationClassEnhancer.java:334)\r\n\tat io.atoti.patachou.contentserver.cfg.JdbcContentServiceConfig$$EnhancerBySpringCGLIB$$c94febc7.activePivotContentService(<generated>)\r\n\tat io.atoti.spring.ActivePivotConfig.contextValueManager(ActivePivotConfig.java:61)\r\n\tat io.atoti.spring.ActivePivotConfig$$EnhancerBySpringCGLIB$$fdc25614.CGLIB$contextValueManager$0(<generated>)\r\n\tat io.atoti.spring.ActivePivotConfig$$EnhancerBySpringCGLIB$$fdc25614$$FastClassBySpringCGLIB$$ec1cdb68.invoke(<generated>)\r\n\tat org.springframework.cglib.proxy.MethodProxy.invokeSuper(MethodProxy.java:244)\r\n\tat org.springframework.context.annotation.ConfigurationClassEnhancer$BeanMethodInterceptor.intercept(ConfigurationClassEnhancer.java:331)\r\n\tat io.atoti.spring.ActivePivotConfig$$EnhancerBySpringCGLIB$$fdc25614.contextValueManager(<generated>)\r\n\tat java.base/jdk.internal.reflect.NativeMethodAccessorImpl.invoke0(Native Method)\r\n\tat java.base/jdk.internal.reflect.NativeMethodAccessorImpl.invoke(Unknown Source)\r\n\tat java.base/jdk.internal.reflect.DelegatingMethodAccessorImpl.invoke(Unknown Source)\r\n\tat java.base/java.lang.reflect.Method.invoke(Unknown Source)\r\n\tat org.springframework.beans.factory.support.SimpleInstantiationStrategy.instantiate(SimpleInstantiationStrategy.java:154)\r\n\t... 116 more\r\nCaused by: org.springframework.beans.BeanInstantiationException: Failed to instantiate [com.qfs.pivot.content.IActivePivotContentService]: Factory method 'activePivotContentService' threw exception; nested exception is org.springframework.beans.factory.BeanCreationException: Error creating bean with name 'contentService' defined in io.atoti.patachou.contentserver.cfg.JdbcContentServiceConfig: Bean instantiation via factory method failed; nested exception is org.springframework.beans.BeanInstantiationException: Failed to instantiate [com.qfs.content.service.IContentService]: Factory method 'contentService' threw exception; nested exception is org.springframework.beans.factory.BeanCreationException: Error creating bean with name 'jdbcDataSource' defined in io.atoti.patachou.contentserver.cfg.JdbcContentServiceConfig: Bean instantiation via factory method failed; nested exception is org.springframework.beans.BeanInstantiationException: Failed to instantiate [javax.sql.DataSource]: Factory method 'jdbcDataSource' threw exception; nested exception is com.zaxxer.hikari.pool.HikariPool$PoolInitializationException: Failed to initialize pool: General error: \"The write format 1 is smaller than the supported format 2 [2.1.210/5]\" [50000-210]\r\n\tat org.springframework.beans.factory.support.SimpleInstantiationStrategy.instantiate(SimpleInstantiationStrategy.java:185)\r\n\tat org.springframework.beans.factory.support.ConstructorResolver.instantiate(ConstructorResolver.java:653)\r\n\t... 139 more\r\nCaused by: org.springframework.beans.factory.BeanCreationException: Error creating bean with name 'contentService' defined in io.atoti.patachou.contentserver.cfg.JdbcContentServiceConfig: Bean instantiation via factory method failed; nested exception is org.springframework.beans.BeanInstantiationException: Failed to instantiate [com.qfs.content.service.IContentService]: Factory method 'contentService' threw exception; nested exception is org.springframework.beans.factory.BeanCreationException: Error creating bean with name 'jdbcDataSource' defined in io.atoti.patachou.contentserver.cfg.JdbcContentServiceConfig: Bean instantiation via factory method failed; nested exception is org.springframework.beans.BeanInstantiationException: Failed to instantiate [javax.sql.DataSource]: Factory method 'jdbcDataSource' threw exception; nested exception is com.zaxxer.hikari.pool.HikariPool$PoolInitializationException: Failed to initialize pool: General error: \"The write format 1 is smaller than the supported format 2 [2.1.210/5]\" [50000-210]\r\n\tat org.springframework.beans.factory.support.ConstructorResolver.instantiate(ConstructorResolver.java:658)\r\n\tat org.springframework.beans.factory.support.ConstructorResolver.instantiateUsingFactoryMethod(ConstructorResolver.java:638)\r\n\tat org.springframework.beans.factory.support.AbstractAutowireCapableBeanFactory.instantiateUsingFactoryMethod(AbstractAutowireCapableBeanFactory.java:1352)\r\n\tat org.springframework.beans.factory.support.AbstractAutowireCapableBeanFactory.createBeanInstance(AbstractAutowireCapableBeanFactory.java:1195)\r\n\tat org.springframework.beans.factory.support.AbstractAutowireCapableBeanFactory.doCreateBean(AbstractAutowireCapableBeanFactory.java:582)\r\n\tat org.springframework.beans.factory.support.AbstractAutowireCapableBeanFactory.createBean(AbstractAutowireCapableBeanFactory.java:542)\r\n\tat org.springframework.beans.factory.support.AbstractBeanFactory.lambda$doGetBean$0(AbstractBeanFactory.java:335)\r\n\tat org.springframework.beans.factory.support.DefaultSingletonBeanRegistry.getSingleton(DefaultSingletonBeanRegistry.java:234)\r\n\tat org.springframework.beans.factory.support.AbstractBeanFactory.doGetBean(AbstractBeanFactory.java:333)\r\n\tat org.springframework.beans.factory.support.AbstractBeanFactory.getBean(AbstractBeanFactory.java:208)\r\n\tat org.springframework.context.annotation.ConfigurationClassEnhancer$BeanMethodInterceptor.resolveBeanReference(ConfigurationClassEnhancer.java:362)\r\n\tat org.springframework.context.annotation.ConfigurationClassEnhancer$BeanMethodInterceptor.intercept(ConfigurationClassEnhancer.java:334)\r\n\tat io.atoti.patachou.contentserver.cfg.JdbcContentServiceConfig$$EnhancerBySpringCGLIB$$c94febc7.contentService(<generated>)\r\n\tat io.atoti.patachou.contentserver.cfg.JdbcContentServiceConfig.activePivotContentService(JdbcContentServiceConfig.java:63)\r\n\tat io.atoti.patachou.contentserver.cfg.JdbcContentServiceConfig$$EnhancerBySpringCGLIB$$c94febc7.CGLIB$activePivotContentService$0(<generated>)\r\n\tat io.atoti.patachou.contentserver.cfg.JdbcContentServiceConfig$$EnhancerBySpringCGLIB$$c94febc7$$FastClassBySpringCGLIB$$31c142fd.invoke(<generated>)\r\n\tat org.springframework.cglib.proxy.MethodProxy.invokeSuper(MethodProxy.java:244)\r\n\tat org.springframework.context.annotation.ConfigurationClassEnhancer$BeanMethodInterceptor.intercept(ConfigurationClassEnhancer.java:331)\r\n\tat io.atoti.patachou.contentserver.cfg.JdbcContentServiceConfig$$EnhancerBySpringCGLIB$$c94febc7.activePivotContentService(<generated>)\r\n\tat java.base/jdk.internal.reflect.NativeMethodAccessorImpl.invoke0(Native Method)\r\n\tat java.base/jdk.internal.reflect.NativeMethodAccessorImpl.invoke(Unknown Source)\r\n\tat java.base/jdk.internal.reflect.DelegatingMethodAccessorImpl.invoke(Unknown Source)\r\n\tat java.base/java.lang.reflect.Method.invoke(Unknown Source)\r\n\tat org.springframework.beans.factory.support.SimpleInstantiationStrategy.instantiate(SimpleInstantiationStrategy.java:154)\r\n\t... 140 more\r\nCaused by: org.springframework.beans.BeanInstantiationException: Failed to instantiate [com.qfs.content.service.IContentService]: Factory method 'contentService' threw exception; nested exception is org.springframework.beans.factory.BeanCreationException: Error creating bean with name 'jdbcDataSource' defined in io.atoti.patachou.contentserver.cfg.JdbcContentServiceConfig: Bean instantiation via factory method failed; nested exception is org.springframework.beans.BeanInstantiationException: Failed to instantiate [javax.sql.DataSource]: Factory method 'jdbcDataSource' threw exception; nested exception is com.zaxxer.hikari.pool.HikariPool$PoolInitializationException: Failed to initialize pool: General error: \"The write format 1 is smaller than the supported format 2 [2.1.210/5]\" [50000-210]\r\n\tat org.springframework.beans.factory.support.SimpleInstantiationStrategy.instantiate(SimpleInstantiationStrategy.java:185)\r\n\tat org.springframework.beans.factory.support.ConstructorResolver.instantiate(ConstructorResolver.java:653)\r\n\t... 163 more\r\nCaused by: org.springframework.beans.factory.BeanCreationException: Error creating bean with name 'jdbcDataSource' defined in io.atoti.patachou.contentserver.cfg.JdbcContentServiceConfig: Bean instantiation via factory method failed; nested exception is org.springframework.beans.BeanInstantiationException: Failed to instantiate [javax.sql.DataSource]: Factory method 'jdbcDataSource' threw exception; nested exception is com.zaxxer.hikari.pool.HikariPool$PoolInitializationException: Failed to initialize pool: General error: \"The write format 1 is smaller than the supported format 2 [2.1.210/5]\" [50000-210]\r\n\tat org.springframework.beans.factory.support.ConstructorResolver.instantiate(ConstructorResolver.java:658)\r\n\tat org.springframework.beans.factory.support.ConstructorResolver.instantiateUsingFactoryMethod(ConstructorResolver.java:486)\r\n\tat org.springframework.beans.factory.support.AbstractAutowireCapableBeanFactory.instantiateUsingFactoryMethod(AbstractAutowireCapableBeanFactory.java:1352)\r\n\tat org.springframework.beans.factory.support.AbstractAutowireCapableBeanFactory.createBeanInstance(AbstractAutowireCapableBeanFactory.java:1195)\r\n\tat org.springframework.beans.factory.support.AbstractAutowireCapableBeanFactory.doCreateBean(AbstractAutowireCapableBeanFactory.java:582)\r\n\tat org.springframework.beans.factory.support.AbstractAutowireCapableBeanFactory.createBean(AbstractAutowireCapableBeanFactory.java:542)\r\n\tat org.springframework.beans.factory.support.AbstractBeanFactory.lambda$doGetBean$0(AbstractBeanFactory.java:335)\r\n\tat org.springframework.beans.factory.support.DefaultSingletonBeanRegistry.getSingleton(DefaultSingletonBeanRegistry.java:234)\r\n\tat org.springframework.beans.factory.support.AbstractBeanFactory.doGetBean(AbstractBeanFactory.java:333)\r\n\tat org.springframework.beans.factory.support.AbstractBeanFactory.getBean(AbstractBeanFactory.java:208)\r\n\tat org.springframework.context.annotation.ConfigurationClassEnhancer$BeanMethodInterceptor.resolveBeanReference(ConfigurationClassEnhancer.java:362)\r\n\tat org.springframework.context.annotation.ConfigurationClassEnhancer$BeanMethodInterceptor.intercept(ConfigurationClassEnhancer.java:334)\r\n\tat io.atoti.patachou.contentserver.cfg.JdbcContentServiceConfig$$EnhancerBySpringCGLIB$$c94febc7.jdbcDataSource(<generated>)\r\n\tat io.atoti.patachou.contentserver.cfg.JdbcContentServiceConfig.createHibernateContentServer(JdbcContentServiceConfig.java:87)\r\n\tat io.atoti.patachou.contentserver.cfg.JdbcContentServiceConfig.getContentServiceRequiringUiInitialization(JdbcContentServiceConfig.java:49)\r\n\tat io.atoti.patachou.contentserver.cfg.AContentServiceConfig.contentService(AContentServiceConfig.java:52)\r\n\tat io.atoti.patachou.contentserver.cfg.JdbcContentServiceConfig$$EnhancerBySpringCGLIB$$c94febc7.CGLIB$contentService$3(<generated>)\r\n\tat io.atoti.patachou.contentserver.cfg.JdbcContentServiceConfig$$EnhancerBySpringCGLIB$$c94febc7$$FastClassBySpringCGLIB$$31c142fd.invoke(<generated>)\r\n\tat org.springframework.cglib.proxy.MethodProxy.invokeSuper(MethodProxy.java:244)\r\n\tat org.springframework.context.annotation.ConfigurationClassEnhancer$BeanMethodInterceptor.intercept(ConfigurationClassEnhancer.java:331)\r\n\tat io.atoti.patachou.contentserver.cfg.JdbcContentServiceConfig$$EnhancerBySpringCGLIB$$c94febc7.contentService(<generated>)\r\n\tat java.base/jdk.internal.reflect.NativeMethodAccessorImpl.invoke0(Native Method)\r\n\tat java.base/jdk.internal.reflect.NativeMethodAccessorImpl.invoke(Unknown Source)\r\n\tat java.base/jdk.internal.reflect.DelegatingMethodAccessorImpl.invoke(Unknown Source)\r\n\tat java.base/java.lang.reflect.Method.invoke(Unknown Source)\r\n\tat org.springframework.beans.factory.support.SimpleInstantiationStrategy.instantiate(SimpleInstantiationStrategy.java:154)\r\n\t... 164 more\r\nCaused by: org.springframework.beans.BeanInstantiationException: Failed to instantiate [javax.sql.DataSource]: Factory method 'jdbcDataSource' threw exception; nested exception is com.zaxxer.hikari.pool.HikariPool$PoolInitializationException: Failed to initialize pool: General error: \"The write format 1 is smaller than the supported format 2 [2.1.210/5]\" [50000-210]\r\n\tat org.springframework.beans.factory.support.SimpleInstantiationStrategy.instantiate(SimpleInstantiationStrategy.java:185)\r\n\tat org.springframework.beans.factory.support.ConstructorResolver.instantiate(ConstructorResolver.java:653)\r\n\t... 189 more\r\nCaused by: com.zaxxer.hikari.pool.HikariPool$PoolInitializationException: Failed to initialize pool: General error: \"The write format 1 is smaller than the supported format 2 [2.1.210/5]\" [50000-210]\r\n\tat com.zaxxer.hikari.pool.HikariPool.throwPoolInitializationException(HikariPool.java:596)\r\n\tat com.zaxxer.hikari.pool.HikariPool.checkFailFast(HikariPool.java:582)\r\n\tat com.zaxxer.hikari.pool.HikariPool.<init>(HikariPool.java:115)\r\n\tat com.zaxxer.hikari.HikariDataSource.<init>(HikariDataSource.java:81)\r\n\tat io.atoti.patachou.contentserver.cfg.JdbcContentServiceConfig.jdbcDataSource(JdbcContentServiceConfig.java:103)\r\n\tat io.atoti.patachou.contentserver.cfg.JdbcContentServiceConfig$$EnhancerBySpringCGLIB$$c94febc7.CGLIB$jdbcDataSource$2(<generated>)\r\n\tat io.atoti.patachou.contentserver.cfg.JdbcContentServiceConfig$$EnhancerBySpringCGLIB$$c94febc7$$FastClassBySpringCGLIB$$31c142fd.invoke(<generated>)\r\n\tat org.springframework.cglib.proxy.MethodProxy.invokeSuper(MethodProxy.java:244)\r\n\tat org.springframework.context.annotation.ConfigurationClassEnhancer$BeanMethodInterceptor.intercept(ConfigurationClassEnhancer.java:331)\r\n\tat io.atoti.patachou.contentserver.cfg.JdbcContentServiceConfig$$EnhancerBySpringCGLIB$$c94febc7.jdbcDataSource(<generated>)\r\n\tat java.base/jdk.internal.reflect.NativeMethodAccessorImpl.invoke0(Native Method)\r\n\tat java.base/jdk.internal.reflect.NativeMethodAccessorImpl.invoke(Unknown Source)\r\n\tat java.base/jdk.internal.reflect.DelegatingMethodAccessorImpl.invoke(Unknown Source)\r\n\tat java.base/java.lang.reflect.Method.invoke(Unknown Source)\r\n\tat org.springframework.beans.factory.support.SimpleInstantiationStrategy.instantiate(SimpleInstantiationStrategy.java:154)\r\n\t... 190 more\r\nCaused by: org.h2.jdbc.JdbcSQLNonTransientException: General error: \"The write format 1 is smaller than the supported format 2 [2.1.210/5]\" [50000-210]\r\n\tat org.h2.message.DbException.getJdbcSQLException(DbException.java:573)\r\n\tat org.h2.message.DbException.getJdbcSQLException(DbException.java:496)\r\n\tat org.h2.message.DbException.get(DbException.java:216)\r\n\tat org.h2.mvstore.db.Store.convertMVStoreException(Store.java:166)\r\n\tat org.h2.mvstore.db.Store.<init>(Store.java:140)\r\n\tat org.h2.engine.Database.<init>(Database.java:324)\r\n\tat org.h2.engine.Engine.openSession(Engine.java:92)\r\n\tat org.h2.engine.Engine.openSession(Engine.java:222)\r\n\tat org.h2.engine.Engine.createSession(Engine.java:201)\r\n\tat org.h2.engine.SessionRemote.connectEmbeddedOrServer(SessionRemote.java:338)\r\n\tat org.h2.jdbc.JdbcConnection.<init>(JdbcConnection.java:122)\r\n\tat org.h2.Driver.connect(Driver.java:59)\r\n\tat com.zaxxer.hikari.util.DriverDataSource.getConnection(DriverDataSource.java:121)\r\n\tat com.zaxxer.hikari.pool.PoolBase.newConnection(PoolBase.java:364)\r\n\tat com.zaxxer.hikari.pool.PoolBase.newPoolEntry(PoolBase.java:206)\r\n\tat com.zaxxer.hikari.pool.HikariPool.createPoolEntry(HikariPool.java:476)\r\n\tat com.zaxxer.hikari.pool.HikariPool.checkFailFast(HikariPool.java:561)\r\n\t... 203 more\r\nCaused by: org.h2.mvstore.MVStoreException: The write format 1 is smaller than the supported format 2 [2.1.210/5]\r\n\tat org.h2.mvstore.DataUtils.newMVStoreException(DataUtils.java:1004)\r\n\tat org.h2.mvstore.MVStore.getUnsupportedWriteFormatException(MVStore.java:1059)\r\n\tat org.h2.mvstore.MVStore.readStoreHeader(MVStore.java:878)\r\n\tat org.h2.mvstore.MVStore.<init>(MVStore.java:455)\r\n\tat org.h2.mvstore.MVStore$Builder.open(MVStore.java:4056)\r\n\tat org.h2.mvstore.db.Store.<init>(Store.java:129)\r\n\t... 215 more\r\n",
      "\nDuring handling of the above exception, another exception occurred:\n",
      "\u001b[1;31mValueError\u001b[0m                                Traceback (most recent call last)",
      "\u001b[1;32m~\\AppData\\Local\\Temp\\ipykernel_17948\\2989622892.py\u001b[0m in \u001b[0;36m<module>\u001b[1;34m\u001b[0m\n\u001b[0;32m      1\u001b[0m \u001b[1;31m# Create an atoti session\u001b[0m\u001b[1;33m\u001b[0m\u001b[1;33m\u001b[0m\u001b[1;33m\u001b[0m\u001b[0m\n\u001b[1;32m----> 2\u001b[1;33m \u001b[0msession\u001b[0m \u001b[1;33m=\u001b[0m \u001b[0mtt\u001b[0m\u001b[1;33m.\u001b[0m\u001b[0mSession\u001b[0m\u001b[1;33m(\u001b[0m\u001b[0muser_content_storage\u001b[0m\u001b[1;33m=\u001b[0m \u001b[1;34m\"content\"\u001b[0m\u001b[1;33m)\u001b[0m\u001b[1;33m\u001b[0m\u001b[1;33m\u001b[0m\u001b[0m\n\u001b[0m",
      "\u001b[1;32m~\\AppData\\Local\\pypoetry\\Cache\\virtualenvs\\notebooks-bWtx623B-py3.8\\lib\\site-packages\\atoti\\_runtime_type_checking_utils.py\u001b[0m in \u001b[0;36mtypechecked_func_wrapper\u001b[1;34m(*args, **kwargs)\u001b[0m\n\u001b[0;32m    177\u001b[0m \u001b[1;33m\u001b[0m\u001b[0m\n\u001b[0;32m    178\u001b[0m             \u001b[1;31m# Call the actual function.\u001b[0m\u001b[1;33m\u001b[0m\u001b[1;33m\u001b[0m\u001b[1;33m\u001b[0m\u001b[0m\n\u001b[1;32m--> 179\u001b[1;33m             \u001b[1;32mreturn\u001b[0m \u001b[0mself\u001b[0m\u001b[1;33m.\u001b[0m\u001b[0m_func\u001b[0m\u001b[1;33m(\u001b[0m\u001b[1;33m*\u001b[0m\u001b[0margs\u001b[0m\u001b[1;33m,\u001b[0m \u001b[1;33m**\u001b[0m\u001b[0mkwargs\u001b[0m\u001b[1;33m)\u001b[0m\u001b[1;33m\u001b[0m\u001b[1;33m\u001b[0m\u001b[0m\n\u001b[0m\u001b[0;32m    180\u001b[0m \u001b[1;33m\u001b[0m\u001b[0m\n\u001b[0;32m    181\u001b[0m         \u001b[1;31m# Mark the function as typechecked and return it.\u001b[0m\u001b[1;33m\u001b[0m\u001b[1;33m\u001b[0m\u001b[1;33m\u001b[0m\u001b[0m\n",
      "\u001b[1;32m~\\AppData\\Local\\pypoetry\\Cache\\virtualenvs\\notebooks-bWtx623B-py3.8\\lib\\site-packages\\atoti_core\\doc.py\u001b[0m in \u001b[0;36mwrapper\u001b[1;34m(*args, **kwargs)\u001b[0m\n\u001b[0;32m     19\u001b[0m         \u001b[1;33m@\u001b[0m\u001b[0mwraps\u001b[0m\u001b[1;33m(\u001b[0m\u001b[0mfunction\u001b[0m\u001b[1;33m)\u001b[0m\u001b[1;33m\u001b[0m\u001b[1;33m\u001b[0m\u001b[0m\n\u001b[0;32m     20\u001b[0m         \u001b[1;32mdef\u001b[0m \u001b[0mwrapper\u001b[0m\u001b[1;33m(\u001b[0m\u001b[1;33m*\u001b[0m\u001b[0margs\u001b[0m\u001b[1;33m:\u001b[0m \u001b[0m_P\u001b[0m\u001b[1;33m.\u001b[0m\u001b[0margs\u001b[0m\u001b[1;33m,\u001b[0m \u001b[1;33m**\u001b[0m\u001b[0mkwargs\u001b[0m\u001b[1;33m:\u001b[0m \u001b[0m_P\u001b[0m\u001b[1;33m.\u001b[0m\u001b[0mkwargs\u001b[0m\u001b[1;33m)\u001b[0m \u001b[1;33m->\u001b[0m \u001b[0mAny\u001b[0m\u001b[1;33m:\u001b[0m\u001b[1;33m\u001b[0m\u001b[1;33m\u001b[0m\u001b[0m\n\u001b[1;32m---> 21\u001b[1;33m             \u001b[1;32mreturn\u001b[0m \u001b[0mfunction\u001b[0m\u001b[1;33m(\u001b[0m\u001b[1;33m*\u001b[0m\u001b[0margs\u001b[0m\u001b[1;33m,\u001b[0m \u001b[1;33m**\u001b[0m\u001b[0mkwargs\u001b[0m\u001b[1;33m)\u001b[0m\u001b[1;33m\u001b[0m\u001b[1;33m\u001b[0m\u001b[0m\n\u001b[0m\u001b[0;32m     22\u001b[0m \u001b[1;33m\u001b[0m\u001b[0m\n\u001b[0;32m     23\u001b[0m         \u001b[1;31m# Collecting docstring and docstring templates\u001b[0m\u001b[1;33m\u001b[0m\u001b[1;33m\u001b[0m\u001b[1;33m\u001b[0m\u001b[0m\n",
      "\u001b[1;32m~\\AppData\\Local\\pypoetry\\Cache\\virtualenvs\\notebooks-bWtx623B-py3.8\\lib\\site-packages\\atoti\\session.py\u001b[0m in \u001b[0;36m__init__\u001b[1;34m(self, name, app_extensions, authentication, branding, certificate_authority, client_certificate, extra_jars, https, i18n, java_options, jwt, logging, port, same_site, user_content_storage, **kwargs)\u001b[0m\n\u001b[0;32m    229\u001b[0m             \u001b[0m_sessions\u001b[0m\u001b[1;33m.\u001b[0m\u001b[0m_clear_duplicate_sessions\u001b[0m\u001b[1;33m(\u001b[0m\u001b[0mname\u001b[0m\u001b[1;33m)\u001b[0m\u001b[1;33m\u001b[0m\u001b[1;33m\u001b[0m\u001b[0m\n\u001b[0;32m    230\u001b[0m \u001b[1;33m\u001b[0m\u001b[0m\n\u001b[1;32m--> 231\u001b[1;33m         super().__init__(\n\u001b[0m\u001b[0;32m    232\u001b[0m             \u001b[0mname\u001b[0m\u001b[1;33m=\u001b[0m\u001b[0mname\u001b[0m\u001b[1;33m,\u001b[0m\u001b[1;33m\u001b[0m\u001b[1;33m\u001b[0m\u001b[0m\n\u001b[0;32m    233\u001b[0m             \u001b[0mconfig\u001b[0m\u001b[1;33m=\u001b[0m\u001b[0mconfig\u001b[0m\u001b[1;33m,\u001b[0m\u001b[1;33m\u001b[0m\u001b[1;33m\u001b[0m\u001b[0m\n",
      "\u001b[1;32m~\\AppData\\Local\\pypoetry\\Cache\\virtualenvs\\notebooks-bWtx623B-py3.8\\lib\\site-packages\\atoti\\_local_session.py\u001b[0m in \u001b[0;36m__init__\u001b[1;34m(self, config, distributed, certificate_authority, name)\u001b[0m\n\u001b[0;32m     81\u001b[0m \u001b[1;33m\u001b[0m\u001b[0m\n\u001b[0;32m     82\u001b[0m         \u001b[1;32mtry\u001b[0m\u001b[1;33m:\u001b[0m\u001b[1;33m\u001b[0m\u001b[1;33m\u001b[0m\u001b[0m\n\u001b[1;32m---> 83\u001b[1;33m             \u001b[0mself\u001b[0m\u001b[1;33m.\u001b[0m\u001b[0m_start_application\u001b[0m\u001b[1;33m(\u001b[0m\u001b[1;33m)\u001b[0m\u001b[1;33m\u001b[0m\u001b[1;33m\u001b[0m\u001b[0m\n\u001b[0m\u001b[0;32m     84\u001b[0m         \u001b[1;32mexcept\u001b[0m \u001b[0mAtotiJavaException\u001b[0m \u001b[1;32mas\u001b[0m \u001b[0mave\u001b[0m\u001b[1;33m:\u001b[0m\u001b[1;33m\u001b[0m\u001b[1;33m\u001b[0m\u001b[0m\n\u001b[0;32m     85\u001b[0m             raise AtotiException(\n",
      "\u001b[1;32m~\\AppData\\Local\\pypoetry\\Cache\\virtualenvs\\notebooks-bWtx623B-py3.8\\lib\\site-packages\\atoti\\_local_session.py\u001b[0m in \u001b[0;36m_start_application\u001b[1;34m(self)\u001b[0m\n\u001b[0;32m    153\u001b[0m     \u001b[1;32mdef\u001b[0m \u001b[0m_start_application\u001b[0m\u001b[1;33m(\u001b[0m\u001b[0mself\u001b[0m\u001b[1;33m)\u001b[0m \u001b[1;33m->\u001b[0m \u001b[1;32mNone\u001b[0m\u001b[1;33m:\u001b[0m\u001b[1;33m\u001b[0m\u001b[1;33m\u001b[0m\u001b[0m\n\u001b[0;32m    154\u001b[0m         \u001b[1;32mtry\u001b[0m\u001b[1;33m:\u001b[0m\u001b[1;33m\u001b[0m\u001b[1;33m\u001b[0m\u001b[0m\n\u001b[1;32m--> 155\u001b[1;33m             \u001b[0mself\u001b[0m\u001b[1;33m.\u001b[0m\u001b[0m_java_api\u001b[0m\u001b[1;33m.\u001b[0m\u001b[0mstart_application\u001b[0m\u001b[1;33m(\u001b[0m\u001b[0mself\u001b[0m\u001b[1;33m.\u001b[0m\u001b[0m_config\u001b[0m\u001b[1;33m)\u001b[0m\u001b[1;33m\u001b[0m\u001b[1;33m\u001b[0m\u001b[0m\n\u001b[0m\u001b[0;32m    156\u001b[0m         \u001b[1;32mexcept\u001b[0m \u001b[0mAtotiJavaException\u001b[0m \u001b[1;32mas\u001b[0m \u001b[0merror\u001b[0m\u001b[1;33m:\u001b[0m\u001b[1;33m\u001b[0m\u001b[1;33m\u001b[0m\u001b[0m\n\u001b[0;32m    157\u001b[0m             if (\n",
      "\u001b[1;32m~\\AppData\\Local\\pypoetry\\Cache\\virtualenvs\\notebooks-bWtx623B-py3.8\\lib\\site-packages\\atoti\\_java_api.py\u001b[0m in \u001b[0;36mwrapped_method\u001b[1;34m(self, *args, **kwargs)\u001b[0m\n\u001b[0;32m    130\u001b[0m             cause = (\n\u001b[0;32m    131\u001b[0m                 \u001b[0mstr\u001b[0m\u001b[1;33m(\u001b[0m\u001b[0mjava_exception\u001b[0m\u001b[1;33m)\u001b[0m\u001b[1;33m\u001b[0m\u001b[1;33m\u001b[0m\u001b[0m\n\u001b[1;32m--> 132\u001b[1;33m                 \u001b[1;32mif\u001b[0m \u001b[0mget_env_flag\u001b[0m\u001b[1;33m(\u001b[0m\u001b[0m_ATOTI_VERBOSE_JAVA_EXCEPTIONS\u001b[0m\u001b[1;33m)\u001b[0m\u001b[1;33m\u001b[0m\u001b[1;33m\u001b[0m\u001b[0m\n\u001b[0m\u001b[0;32m    133\u001b[0m                 \u001b[1;32melse\u001b[0m \u001b[0mself\u001b[0m\u001b[1;33m.\u001b[0m\u001b[0mget_throwable_root_cause\u001b[0m\u001b[1;33m(\u001b[0m\u001b[0mjava_exception\u001b[0m\u001b[1;33m.\u001b[0m\u001b[0mjava_exception\u001b[0m\u001b[1;33m)\u001b[0m\u001b[1;33m\u001b[0m\u001b[1;33m\u001b[0m\u001b[0m\n\u001b[0;32m    134\u001b[0m             )\n",
      "\u001b[1;32m~\\AppData\\Local\\pypoetry\\Cache\\virtualenvs\\notebooks-bWtx623B-py3.8\\lib\\site-packages\\atoti_core\\get_env_flag.py\u001b[0m in \u001b[0;36mget_env_flag\u001b[1;34m(variable_name)\u001b[0m\n\u001b[0;32m      5\u001b[0m \u001b[1;33m\u001b[0m\u001b[0m\n\u001b[0;32m      6\u001b[0m \u001b[1;32mdef\u001b[0m \u001b[0mget_env_flag\u001b[0m\u001b[1;33m(\u001b[0m\u001b[0mvariable_name\u001b[0m\u001b[1;33m:\u001b[0m \u001b[0mstr\u001b[0m\u001b[1;33m)\u001b[0m \u001b[1;33m->\u001b[0m \u001b[0mbool\u001b[0m\u001b[1;33m:\u001b[0m\u001b[1;33m\u001b[0m\u001b[1;33m\u001b[0m\u001b[0m\n\u001b[1;32m----> 7\u001b[1;33m     return str_to_bool(\n\u001b[0m\u001b[0;32m      8\u001b[0m         os.environ.get(\n\u001b[0;32m      9\u001b[0m             \u001b[0mvariable_name\u001b[0m\u001b[1;33m,\u001b[0m\u001b[1;33m\u001b[0m\u001b[1;33m\u001b[0m\u001b[0m\n",
      "\u001b[1;32m~\\AppData\\Local\\pypoetry\\Cache\\virtualenvs\\notebooks-bWtx623B-py3.8\\lib\\site-packages\\atoti_core\\str_to_bool.py\u001b[0m in \u001b[0;36mstr_to_bool\u001b[1;34m(value)\u001b[0m\n\u001b[0;32m     14\u001b[0m         \u001b[1;32mreturn\u001b[0m \u001b[1;32mFalse\u001b[0m\u001b[1;33m\u001b[0m\u001b[1;33m\u001b[0m\u001b[0m\n\u001b[0;32m     15\u001b[0m \u001b[1;33m\u001b[0m\u001b[0m\n\u001b[1;32m---> 16\u001b[1;33m     raise ValueError(\n\u001b[0m\u001b[0;32m     17\u001b[0m         \u001b[1;34mf\"Expected one of {_TRUE_VALUES} or {_FALSE_VALUES} but received {value}.\"\u001b[0m\u001b[1;33m\u001b[0m\u001b[1;33m\u001b[0m\u001b[0m\n\u001b[0;32m     18\u001b[0m     )\n",
      "\u001b[1;31mValueError\u001b[0m: Expected one of ('true', '1') or ('false', '0') but received atotijavaexception."
     ]
    }
   ],
   "source": [
    "# Create an atoti session\n",
    "session = tt.Session(user_content_storage= \"content\")"
   ]
  },
  {
   "cell_type": "markdown",
   "metadata": {},
   "source": [
    "## 1.1 Loading Data and creating ActivePivot multidimensional environment\n",
    "### Creating atoti DataStore"
   ]
  },
  {
   "cell_type": "markdown",
   "metadata": {},
   "source": [
    "There are many ways atoti can consume data. In this notebook, we will be using read_csv to load data into the datastores."
   ]
  },
  {
   "cell_type": "markdown",
   "metadata": {},
   "source": [
    "### Position Sensitivities"
   ]
  },
  {
   "cell_type": "code",
   "execution_count": null,
   "metadata": {},
   "outputs": [],
   "source": [
    "position_sensitivity = session.read_csv(\n",
    "    \"s3://data.atoti.io/notebooks/pnl-explained/position_sensitivities.csv\",\n",
    "    keys=[\"book_id\", \"instrument_code\", \"currency\", \"curve\", \"tenor\"],\n",
    "    table_name=\"Position_Sensitivities\",\n",
    ")"
   ]
  },
  {
   "cell_type": "code",
   "execution_count": null,
   "metadata": {},
   "outputs": [],
   "source": [
    "# you can use head(n) to view the first n rows of the store.\n",
    "# likewise, you can use position_sensitivity.columns to view the columns available in the store\n",
    "# lastly, you can use {\"columns\": len(position_sensitivity.columns), \"rows\": len(position_sensitivity)} to view the number of rows and columns loaded into the table\n",
    "position_sensitivity.head(5)"
   ]
  },
  {
   "cell_type": "markdown",
   "metadata": {},
   "source": [
    "### Position Data"
   ]
  },
  {
   "cell_type": "code",
   "execution_count": null,
   "metadata": {},
   "outputs": [],
   "source": [
    "position_table = session.read_csv(\n",
    "    \"s3://data.atoti.io/notebooks/pnl-explained/position_data.csv\",\n",
    "    keys=[\"book_id\", \"instrument_code\"],\n",
    "    table_name=\"Position\",\n",
    ")"
   ]
  },
  {
   "cell_type": "code",
   "execution_count": null,
   "metadata": {},
   "outputs": [],
   "source": [
    "position_table.head(5)"
   ]
  },
  {
   "cell_type": "markdown",
   "metadata": {},
   "source": [
    "### Portfolio structure"
   ]
  },
  {
   "cell_type": "code",
   "execution_count": null,
   "metadata": {},
   "outputs": [],
   "source": [
    "trading_desk_table = session.read_csv(\n",
    "    \"s3://data.atoti.io/notebooks/pnl-explained/trading_desk.csv\",\n",
    "    keys=[\"book_id\"],\n",
    "    table_name=\"Trading_Desk\",\n",
    ")"
   ]
  },
  {
   "cell_type": "code",
   "execution_count": null,
   "metadata": {},
   "outputs": [],
   "source": [
    "trading_desk_table.head(5)"
   ]
  },
  {
   "cell_type": "markdown",
   "metadata": {},
   "source": [
    "### Market data"
   ]
  },
  {
   "cell_type": "code",
   "execution_count": null,
   "metadata": {},
   "outputs": [],
   "source": [
    "market_data_table = session.read_csv(\n",
    "    \"s3://data.atoti.io/notebooks/pnl-explained/market_data.csv\",\n",
    "    keys=[\"currency\", \"curve\", \"tenor\"],\n",
    "    table_name=\"Market_Data\",\n",
    ")"
   ]
  },
  {
   "cell_type": "code",
   "execution_count": null,
   "metadata": {},
   "outputs": [],
   "source": [
    "market_data_table.head()"
   ]
  },
  {
   "cell_type": "markdown",
   "metadata": {},
   "source": [
    "### Creating references between stores  \n",
    "\n",
    "We will proceed to set up references between the stores that we just created. We will perform the join from `position_sensitivity`."
   ]
  },
  {
   "cell_type": "code",
   "execution_count": null,
   "metadata": {},
   "outputs": [],
   "source": [
    "position_sensitivity.join(trading_desk_table, mapping={\"book_id\": \"book_id\"})"
   ]
  },
  {
   "cell_type": "code",
   "execution_count": null,
   "metadata": {},
   "outputs": [],
   "source": [
    "position_sensitivity.join(\n",
    "    position_table, mapping={\"book_id\": \"book_id\", \"instrument_code\": \"instrument_code\"}\n",
    ")"
   ]
  },
  {
   "cell_type": "code",
   "execution_count": null,
   "metadata": {},
   "outputs": [],
   "source": [
    "position_sensitivity.join(\n",
    "    market_data_table,\n",
    "    mapping={\"currency\": \"currency\", \"curve\": \"curve\", \"tenor\": \"tenor\"},\n",
    ")"
   ]
  },
  {
   "cell_type": "markdown",
   "metadata": {},
   "source": [
    "### Creating cube  \n",
    "We create the cube using the base store *position_sensitivity*.   \n",
    "Note that we have not passed in any mode in create_cube().  \n",
    "This means that a hierarchy will be automatically created for each non-numeric column and measure will be automatically created for each numeric column.  "
   ]
  },
  {
   "cell_type": "code",
   "execution_count": null,
   "metadata": {},
   "outputs": [],
   "source": [
    "cube = session.create_cube(position_sensitivity, \"Position_Sensitivities\")"
   ]
  },
  {
   "cell_type": "markdown",
   "metadata": {},
   "source": [
    "We can see that all the stores are joined to *Position Sensitivities Store*, this is what we call the base store.  \n",
    "For a record to be reachable in the cube, it must exists in the base store."
   ]
  },
  {
   "cell_type": "code",
   "execution_count": null,
   "metadata": {},
   "outputs": [],
   "source": [
    "cube.schema"
   ]
  },
  {
   "cell_type": "markdown",
   "metadata": {},
   "source": [
    "### Explore the Data Set as a Cube\n",
    "\n",
    "We have the option to visualize the cube in chart, feature-value, pivot-table or tabular.  \n",
    "Let's look at the sensitivity across currency for each asset class."
   ]
  },
  {
   "cell_type": "code",
   "execution_count": null,
   "metadata": {
    "activeviam": {
     "state": {
      "name": "",
      "type": "container",
      "value": {
       "body": {
        "configuration": {
         "mapping": {
          "horizontal": [],
          "splitBy": [
           "[Trading_Desk].[business_unit].[business_unit]"
          ],
          "values": [
           "[Measures].[sensi.SUM]"
          ],
          "vertical": [],
          "xAxis": [
           "[Position_Sensitivities].[currency].[currency]"
          ]
         },
         "type": "plotly-clustered-column-chart"
        },
        "query": {
         "mdx": "SELECT NON EMPTY Crossjoin([Position_Sensitivities].[currency].[currency].Members, [Trading_Desk].[business_unit].[business_unit].Members) ON ROWS, NON EMPTY [Measures].[sensi.SUM] ON COLUMNS FROM (SELECT TopCount(Filter([Trading_Desk].[book].Levels(1).Members, NOT IsEmpty([Measures].[sensi.SUM])), 5, [Measures].[sensi.SUM]) ON COLUMNS FROM [Position_Sensitivities]) CELL PROPERTIES VALUE, FORMATTED_VALUE, BACK_COLOR, FORE_COLOR, FONT_FLAGS",
         "serverUrl": "",
         "updateMode": "once"
        }
       },
       "containerKey": "chart",
       "showTitleBar": false,
       "style": {}
      }
     }
    },
    "atoti": {
     "widget": {
      "mapping": {
       "horizontal": [],
       "splitBy": [
        "[Trading_Desk].[business_unit].[business_unit]"
       ],
       "values": [
        "[Measures].[sensi.SUM]"
       ],
       "vertical": [],
       "xAxis": [
        "[Position_Sensitivities].[currency].[currency]"
       ]
      },
      "name": "",
      "query": {
       "context": {
        "queriesResultLimit.intermediateSize": 1000000,
        "queriesResultLimit.transientSize": 10000000
       },
       "mdx": "SELECT NON EMPTY Crossjoin([Position_Sensitivities].[currency].[currency].Members, [Trading_Desk].[business_unit].[business_unit].Members) ON ROWS, NON EMPTY [Measures].[sensi.SUM] ON COLUMNS FROM [Position_Sensitivities] CELL PROPERTIES VALUE, FORMATTED_VALUE, BACK_COLOR, FORE_COLOR, FONT_FLAGS",
       "updateMode": "once"
      },
      "serverKey": "default",
      "switchedTo": "plotly-clustered-bar-chart",
      "widgetKey": "plotly-line-chart"
     }
    }
   },
   "outputs": [],
   "source": [
    "session.visualize()"
   ]
  },
  {
   "cell_type": "markdown",
   "metadata": {},
   "source": [
    "### Adding business logic calculation  \n",
    "  \n",
    "Let's assign a variable to the attributes of the cube, so that we can:  \n",
    "* create measures\n",
    "* create hierarchies "
   ]
  },
  {
   "cell_type": "code",
   "execution_count": null,
   "metadata": {},
   "outputs": [],
   "source": [
    "m = cube.measures\n",
    "h = cube.hierarchies\n",
    "lvl = cube.levels"
   ]
  },
  {
   "cell_type": "markdown",
   "metadata": {},
   "source": [
    "Let's inspect what hierarchies have been automatically generated during cube creation"
   ]
  },
  {
   "cell_type": "code",
   "execution_count": null,
   "metadata": {},
   "outputs": [],
   "source": [
    "h"
   ]
  },
  {
   "cell_type": "markdown",
   "metadata": {},
   "source": [
    "Let's inspect what measures have been automatically generated during cube creation"
   ]
  },
  {
   "cell_type": "code",
   "execution_count": null,
   "metadata": {},
   "outputs": [],
   "source": [
    "m"
   ]
  },
  {
   "cell_type": "markdown",
   "metadata": {},
   "source": [
    "### Creating Measures\n",
    "\n",
    "From the *Market Data* store, we have the *start of day* and *end of day* value which we used to calculate the change in yields.  "
   ]
  },
  {
   "cell_type": "code",
   "execution_count": null,
   "metadata": {},
   "outputs": [],
   "source": [
    "m[\"last.VALUE\"] = tt.value(market_data_table[\"last\"])\n",
    "m[\"start_of_day.VALUE\"] = tt.value(market_data_table[\"start_of_day\"])"
   ]
  },
  {
   "cell_type": "markdown",
   "metadata": {},
   "source": [
    "#### Parameter simulation setup\n",
    "\n",
    "We are going to create a parameter simulation measure `last parameter` that will allow us to create fluctuations to the `last.VALUE`.\n",
    "This measure will be added to the `last.VALUE` based on scenarios, at specific *tenor* and *currency* levels.\n",
    "\n",
    "The default value of `last parameter` will be 0.0, hence zero fluctuation from the original value when not defined in the scenario.  \n",
    "We will label the curve derived from the original data set as *Last Curve*"
   ]
  },
  {
   "cell_type": "code",
   "execution_count": null,
   "metadata": {},
   "outputs": [],
   "source": [
    "curve_simulation = cube.create_parameter_simulation(\n",
    "    \"Curve Simulation\",\n",
    "    measures={\"last parameter\": 0.0},\n",
    "    levels=[lvl[\"tenor\"], lvl[\"currency\"]],\n",
    "    base_scenario_name=\"Last Curve\",\n",
    ")"
   ]
  },
  {
   "cell_type": "markdown",
   "metadata": {},
   "source": [
    "As the fluctuations will be by [basis points](https://www.investopedia.com/ask/answers/what-basis-point-bps/), let's format the `last parameter` to show 3 decimal points."
   ]
  },
  {
   "cell_type": "code",
   "execution_count": null,
   "metadata": {},
   "outputs": [],
   "source": [
    "m[\"last parameter\"].formatter = \"DOUBLE[#.000]\""
   ]
  },
  {
   "cell_type": "markdown",
   "metadata": {},
   "source": [
    "Taking in consideration the potential fluctuations in the `last.VALUE` induced by the simulation, let's compute the `effective last` as follows:"
   ]
  },
  {
   "cell_type": "code",
   "execution_count": null,
   "metadata": {},
   "outputs": [],
   "source": [
    "m[\"effective last\"] = m[\"last.VALUE\"] + m[\"last parameter\"]"
   ]
  },
  {
   "cell_type": "markdown",
   "metadata": {},
   "source": [
    "We will come back to the simulations later on in the notebook. For now, let's look at how we can compute our Theoretical Pnl."
   ]
  },
  {
   "cell_type": "markdown",
   "metadata": {},
   "source": [
    "#### Theoretical Pnl\n",
    "\n",
    "We derive our Delta by applying `sensi.SUM` to the [notional](https://www.investopedia.com/terms/n/notionalvalue.asp). We, then apply Delta to our change in yield to get the impact of prices:\n",
    "  \n",
    "$Theoretical Pnl = (Delta) \\times (Yield Change)$  \n",
    "\n",
    "We will aggregate the *Theoretical PnL* over the levels listed in the scope below as we will be exploring the measure over these levels.  \n",
    "Notice that we are using the `effective last` measure here to compute the delta."
   ]
  },
  {
   "cell_type": "code",
   "execution_count": null,
   "metadata": {},
   "outputs": [],
   "source": [
    "m[\"Theoretical PnL\"] = tt.agg.sum(\n",
    "    m[\"sensi.SUM\"]\n",
    "    * (m[\"effective last\"] - m[\"start_of_day.VALUE\"])\n",
    "    * m[\"notional.SUM\"],\n",
    "    scope=tt.scope.origin(\n",
    "        lvl[\"currency\"],\n",
    "        lvl[\"curve\"],\n",
    "        lvl[\"tenor\"],\n",
    "        lvl[\"book_id\"],\n",
    "        lvl[\"instrument_code\"],\n",
    "    ),\n",
    ")"
   ]
  },
  {
   "cell_type": "markdown",
   "metadata": {},
   "source": [
    "### Adding new multi-level hierarchy for portfolio structure  \n",
    "\n",
    "Based on the data that are of interest to the [Buy-Side](https://www.investopedia.com/terms/b/buyside.asp) and [Sell-Side](https://www.investopedia.com/terms/s/sellside.asp), we are going to see how we can structure hierarchies to facilitate the navigation of data in a cube.  "
   ]
  },
  {
   "cell_type": "markdown",
   "metadata": {},
   "source": [
    "#### Asset Mangement : Buy-Side  \n",
    "\n",
    "*Buy-Side* purchases stocks, securities and other financial products, according to the needs and strategy of a portfolio.  \n",
    "It would make data navigation more intuitive to create an *Investment Portfolio Hierarchy* that has Asset Class, Sub Asset Class, Fund and Portfolio as levels.  \n",
    "We would be able to have a global view over the Asset Class level.  \n",
    "If we needed more granular information, we could easily drill-down to the Sub Asset class, Fund and all the way down to the portfolio holding the Asset."
   ]
  },
  {
   "cell_type": "code",
   "execution_count": null,
   "metadata": {},
   "outputs": [],
   "source": [
    "h[\"Investment Portfolio Hierarchy\"] = {\n",
    "    \"Asset Class\": cube.levels[\"asset_class\"],\n",
    "    \"Sub Asset Class\": cube.levels[\"sub_asset_class\"],\n",
    "    \"Fund\": cube.levels[\"fund\"],\n",
    "    \"Portfolio\": cube.levels[\"portfolio\"],\n",
    "}"
   ]
  },
  {
   "cell_type": "markdown",
   "metadata": {},
   "source": [
    "#### Investment Banks : Sell-Side  \n",
    "\n",
    "*Sell-Side* help companies to raise debt and equity capital and then sell those securities to the *Buy-Side*.  \\\n",
    "*Sell-Side* would then be interested in having a global view over the *Business Unit* such as Rates & Credit, Forex, Equity etc.    \n",
    "They could then drill-down to the *Sub Business Unit* to see its performance, the *Trading Desk* and all the way to the *Book* level."
   ]
  },
  {
   "cell_type": "code",
   "execution_count": null,
   "metadata": {},
   "outputs": [],
   "source": [
    "h[\"Trading Book Hierarchy\"] = {\n",
    "    \"Business Unit\": lvl[\"business_unit\"],\n",
    "    \"Sub Business Unit\": lvl[\"sub_business_unit\"],\n",
    "    \"Trading Desk\": lvl[\"trading_desk\"],\n",
    "    \"Book\": lvl[\"book\"],\n",
    "}"
   ]
  },
  {
   "cell_type": "markdown",
   "metadata": {},
   "source": [
    "### Explore the Theoretical PnL by Investment Portfolio Hierarchy\n",
    "\n",
    "We shall explore the Theoretical PnL from the Buy-Side perspective.  \n",
    "  \n",
    "Let's visualize the data in a chart to see the spread of the *Theoretical PnL* across the funds for each *Asset Class*."
   ]
  },
  {
   "cell_type": "code",
   "execution_count": null,
   "metadata": {
    "atoti": {
     "widget": {
      "mapping": {
       "horizontalSubplots": [],
       "stackBy": [
        "[Trading_Desk].[Investment Portfolio Hierarchy].[Fund]"
       ],
       "values": [
        "[Measures].[Theoretical PnL]"
       ],
       "verticalSubplots": [],
       "xAxis": [
        "[Trading_Desk].[Investment Portfolio Hierarchy].[Asset Class]"
       ]
      },
      "name": "Theoretical PnL spread across funds",
      "query": {
       "context": {
        "queriesResultLimit.intermediateSize": 1000000,
        "queriesResultLimit.transientSize": 10000000
       },
       "mdx": "SELECT NON EMPTY [Trading_Desk].[Investment Portfolio Hierarchy].[Fund].Members ON ROWS, NON EMPTY [Measures].[Theoretical PnL] ON COLUMNS FROM [Position_Sensitivities] CELL PROPERTIES VALUE, FORMATTED_VALUE, BACK_COLOR, FORE_COLOR, FONT_FLAGS",
       "updateMode": "once"
      },
      "serverKey": "default",
      "widgetKey": "plotly-100-stacked-column-chart"
     }
    }
   },
   "outputs": [],
   "source": [
    "session.visualize(\"Theoretical PnL spread across funds\")"
   ]
  },
  {
   "cell_type": "markdown",
   "metadata": {},
   "source": [
    "In the next 2 visualizations, we shall see the impact of having the *Investment Portfolio Hierarchy*.\n",
    "\n",
    "In the first tree map, we perform a split at the *portfolio* level from *Investment Portfolio Hierarchy*. This means that we are drilling down from the Asset class to Sub Asset Class, Fund and then to the Portfolio level. E.g. we will see the portfolio HE01 under the Asset Class *Rates & Credit* and *Forex*."
   ]
  },
  {
   "cell_type": "code",
   "execution_count": null,
   "metadata": {
    "activeviam": {
     "state": {
      "name": "",
      "type": "container",
      "value": {
       "body": {
        "configuration": {
         "mapping": {
          "splitBy": [
           "[Trading_Desk].[Investment Portfolio Hierarchy].[Portfolio]"
          ],
          "values": [
           "[Measures].[Theoretical PnL]"
          ]
         },
         "type": "plotly-tree-map"
        },
        "query": {
         "mdx": "SELECT NON EMPTY [Measures].[Theoretical PnL] ON COLUMNS, NON EMPTY [Trading_Desk].[Investment Portfolio Hierarchy].[Portfolio].Members ON ROWS FROM [Position_Sensitivities] CELL PROPERTIES VALUE, FORMATTED_VALUE, BACK_COLOR, FORE_COLOR, FONT_FLAGS",
         "serverUrl": "",
         "updateMode": "once"
        }
       },
       "containerKey": "chart",
       "showTitleBar": false,
       "style": {}
      }
     }
    },
    "atoti": {
     "widget": {
      "mapping": {
       "groupBy": [
        "[Trading_Desk].[Investment Portfolio Hierarchy].[Portfolio]"
       ],
       "horizontalSubplots": [],
       "splitBy": [],
       "values": [
        "[Measures].[Theoretical PnL]"
       ],
       "verticalSubplots": []
      },
      "name": "Investment Portfolio concentration",
      "query": {
       "context": {
        "queriesResultLimit.intermediateSize": 1000000,
        "queriesResultLimit.transientSize": 10000000
       },
       "mdx": "SELECT NON EMPTY [Measures].[Theoretical PnL] ON COLUMNS, NON EMPTY [Trading_Desk].[Investment Portfolio Hierarchy].[Portfolio].Members ON ROWS FROM [Position_Sensitivities] CELL PROPERTIES VALUE, FORMATTED_VALUE, BACK_COLOR, FORE_COLOR, FONT_FLAGS"
      },
      "serverKey": "default",
      "widgetKey": "plotly-tree-map"
     }
    },
    "tags": []
   },
   "outputs": [],
   "source": [
    "session.visualize(\"Investment Portfolio concentration\")"
   ]
  },
  {
   "cell_type": "markdown",
   "metadata": {},
   "source": [
    "In this second tree map, we perform a split at the *portfolio* hierarchy.  \n",
    "Hence we will only see the collective *Theoretical PnL* of the portfolio. E.g. we will only see 1 HE01 in this map."
   ]
  },
  {
   "cell_type": "code",
   "execution_count": null,
   "metadata": {
    "atoti": {
     "widget": {
      "mapping": {
       "groupBy": [],
       "horizontalSubplots": [],
       "splitBy": [
        "[Trading_Desk].[portfolio].[portfolio]"
       ],
       "values": [
        "[Measures].[Theoretical PnL]"
       ],
       "verticalSubplots": []
      },
      "name": "Portfolio concentration",
      "query": {
       "context": {
        "queriesResultLimit.intermediateSize": 1000000,
        "queriesResultLimit.transientSize": 10000000
       },
       "mdx": "SELECT NON EMPTY [Measures].[Theoretical PnL] ON COLUMNS, NON EMPTY [Trading_Desk].[portfolio].[portfolio].Members ON ROWS FROM [Position_Sensitivities] CELL PROPERTIES VALUE, FORMATTED_VALUE, BACK_COLOR, FORE_COLOR, FONT_FLAGS"
      },
      "serverKey": "default",
      "widgetKey": "plotly-tree-map"
     }
    },
    "tags": []
   },
   "outputs": [],
   "source": [
    "session.visualize(\"Portfolio concentration\")"
   ]
  },
  {
   "cell_type": "markdown",
   "metadata": {},
   "source": [
    "In the below pivot-table, we can easily drill-down the levels in the *Investment Portfolio Hierarchy* to see measures at granular levels.  \n",
    "Naturally, this could also be achieved by clicking on `>+` and manually adding a hierarchy to drill down to. It's just a little more tedious."
   ]
  },
  {
   "cell_type": "code",
   "execution_count": null,
   "metadata": {
    "activeviam": {
     "state": {
      "name": "Investment Portfolio Hierarchy Pivot Table",
      "type": "container",
      "value": {
       "body": {
        "configuration": {
         "tabular": {
          "addButtonFilter": "numeric",
          "columns": [
           {
            "key": "c-treeCells-member",
            "width": 486
           }
          ],
          "columnsGroups": [
           {
            "captionProducer": "firstColumn",
            "cellFactory": "kpi-status",
            "selector": "kpi-status"
           },
           {
            "captionProducer": "firstColumn",
            "cellFactory": "lookup",
            "selector": "lookup"
           },
           {
            "captionProducer": "expiry",
            "cellFactory": "expiry",
            "selector": "kpi-expiry"
           },
           {
            "captionProducer": "columnMerge",
            "cellFactory": {
             "args": {
              "automaticExpansion": true
             },
             "key": "treeCells"
            },
            "selector": "member"
           }
          ],
          "defaultOptions": {},
          "hideAddButton": true,
          "lineNumbers": true,
          "pinnedHeaderSelector": "member",
          "sortingMode": "non-breaking",
          "statisticsShown": true
         }
        },
        "contextValues": {},
        "mdx": "SELECT NON EMPTY Hierarchize(Union(Crossjoin(Union(DrilldownLevel([Trading_Desk].[Investment Portfolio Hierarchy].[ALL].[AllMember]), Descendants({[Trading_Desk].[Investment Portfolio Hierarchy].[ALL].[AllMember].[Forex]}, [Trading_Desk].[Investment Portfolio Hierarchy].[Sub Asset Class]), Descendants({[Trading_Desk].[Investment Portfolio Hierarchy].[ALL].[AllMember].[Rates & Credit]}, [Trading_Desk].[Investment Portfolio Hierarchy].[Sub Asset Class]), Descendants({[Trading_Desk].[Investment Portfolio Hierarchy].[ALL].[AllMember].[Equity]}, [Trading_Desk].[Investment Portfolio Hierarchy].[Sub Asset Class]), Descendants({[Trading_Desk].[Investment Portfolio Hierarchy].[ALL].[AllMember].[Equity].[Domestic Equity]}, [Trading_Desk].[Investment Portfolio Hierarchy].[Fund]), Descendants({[Trading_Desk].[Investment Portfolio Hierarchy].[ALL].[AllMember].[Equity].[Domestic Equity].[Poseidon]}, [Trading_Desk].[Investment Portfolio Hierarchy].[Portfolio])), [Position].[instrument_code].DefaultMember), Crossjoin([Trading_Desk].[Investment Portfolio Hierarchy].[ALL].[AllMember].[Equity].[Domestic Equity].[Poseidon].[PO01], [Position].[instrument_code].[instrument_code].Members), Crossjoin([Trading_Desk].[Investment Portfolio Hierarchy].[ALL].[AllMember].[Equity].[Domestic Equity].[Poseidon].[PO01], Descendants({[Position].[instrument_code].[ALL].[AllMember].[UK00180009]}, [Position].[instrument_code].[instrument_code])))) ON ROWS, NON EMPTY {[Measures].[Theoretical PnL], [Measures].[sensi.SUM], [Measures].[contributors.COUNT]} ON COLUMNS FROM [Position_Sensitivities] CELL PROPERTIES VALUE, FORMATTED_VALUE, BACK_COLOR, FORE_COLOR, FONT_FLAGS",
        "ranges": {
         "column": {
          "chunkSize": 50,
          "thresholdPercentage": 0.2
         },
         "row": {
          "chunkSize": 2000,
          "thresholdPercentage": 0.1
         }
        },
        "serverUrl": "",
        "updateMode": "once"
       },
       "containerKey": "pivot-table",
       "showTitleBar": false,
       "style": {}
      }
     }
    },
    "atoti": {
     "height": 227,
     "widget": {
      "columnWidths": {
       "[Trading_Desk].[Investment Portfolio Hierarchy].[Sub Asset Class]": 165
      },
      "mapping": {
       "columns": [
        "ALL_MEASURES"
       ],
       "measures": [
        "[Measures].[Theoretical PnL]",
        "[Measures].[sensi.SUM]",
        "[Measures].[contributors.COUNT]"
       ],
       "rows": [
        "[Trading_Desk].[Investment Portfolio Hierarchy].[Asset Class] => [Trading_Desk].[Investment Portfolio Hierarchy].[Sub Asset Class]"
       ]
      },
      "name": "Investment Portfolio Hierarchy Pivot Table",
      "query": {
       "context": {
        "queriesResultLimit.intermediateSize": 1000000,
        "queriesResultLimit.transientSize": 10000000
       },
       "mdx": "SELECT NON EMPTY {[Measures].[Theoretical PnL], [Measures].[sensi.SUM], [Measures].[contributors.COUNT]} ON COLUMNS, NON EMPTY Hierarchize(Union(Descendants({[Trading_Desk].[Investment Portfolio Hierarchy].[AllMember]}, 1, SELF_AND_BEFORE), Descendants({[Trading_Desk].[Investment Portfolio Hierarchy].[AllMember].[Equity]}, [Trading_Desk].[Investment Portfolio Hierarchy].[Sub Asset Class]), Descendants({[Trading_Desk].[Investment Portfolio Hierarchy].[AllMember].[Forex]}, [Trading_Desk].[Investment Portfolio Hierarchy].[Sub Asset Class]), Descendants({[Trading_Desk].[Investment Portfolio Hierarchy].[AllMember].[Rates & Credit]}, [Trading_Desk].[Investment Portfolio Hierarchy].[Sub Asset Class]))) ON ROWS FROM [Position_Sensitivities] CELL PROPERTIES VALUE, FORMATTED_VALUE, BACK_COLOR, FORE_COLOR, FONT_FLAGS",
       "updateMode": "once"
      },
      "serverKey": "default",
      "widgetKey": "pivot-table"
     }
    },
    "tags": []
   },
   "outputs": [],
   "source": [
    "session.visualize(\"Investment Portfolio Hierarchy Pivot Table\")"
   ]
  },
  {
   "cell_type": "markdown",
   "metadata": {},
   "source": [
    "#### Yield Curve\n",
    "\n",
    "The *Yield Curve* gives insights to the future interest rate changes and economic activity. \n",
    "  \n",
    "A normal yield curve which shows an upward curve, shows longer-term bonds having higher yields than short-term ones. Short-term interest rates are the lowest because there is less embedded inflation risk. This shows economic expansion.\n",
    "\n",
    "An inverted curve which has a downward slope, is a sign of an upcoming recession. The shorter-term bonds yields higher than the longer-term ones.  \n",
    "\n",
    "A flat or humped yield curve shows that the yields for shorter- and longer-term bonds are very close to each other. Investors are expecting interest rates to remain about the same, probably an economic transition.\n",
    "  \n",
    "We will use the start of day and last rates against the tenor to plot our yield curve. We should be able to see a normal upward yield curve in the chart below."
   ]
  },
  {
   "cell_type": "code",
   "execution_count": null,
   "metadata": {
    "atoti": {
     "widget": {
      "filters": [
       "[Position_Sensitivities].[currency].[AllMember].[EUR]",
       "[Position_Sensitivities].[curve].[AllMember].[EUR-Govt-FR]"
      ],
      "mapping": {
       "horizontalSubplots": [],
       "splitBy": [
        "ALL_MEASURES"
       ],
       "values": [
        "[Measures].[last.VALUE]"
       ],
       "verticalSubplots": [],
       "xAxis": [
        "[Position_Sensitivities].[tenor].[tenor]"
       ]
      },
      "plotly": {
       "layout": {
        "xaxis": {
         "title": "Tenor"
        },
        "yaxis": {
         "title": "Theoretical PnL"
        }
       }
      },
      "query": {
       "mdx": "SELECT NON EMPTY {[Measures].[last.VALUE]} ON COLUMNS, NON EMPTY Hierarchize(Descendants({[Position_Sensitivities].[tenor].[AllMember]}, 1, SELF_AND_BEFORE)) ON ROWS FROM [Position_Sensitivities]",
       "updateMode": "once"
      },
      "serverKey": "default",
      "widgetKey": "plotly-line-chart"
     }
    }
   },
   "outputs": [],
   "source": [
    "session.visualize(\"Yield Curve\")"
   ]
  },
  {
   "cell_type": "markdown",
   "metadata": {},
   "source": [
    "We see that *Rates & Credit* has the highest *Theoretical PnL* among the Asset class."
   ]
  },
  {
   "cell_type": "code",
   "execution_count": null,
   "metadata": {
    "activeviam": {
     "state": {
      "name": "Theoretical PnL",
      "type": "container",
      "value": {
       "body": {
        "configuration": {
         "mapping": {
          "splitBy": [],
          "values": [
           "[Measures].[Theoretical PnL]"
          ],
          "yAxis": [
           "[Trading_Desk].[asset_class].[asset_class]"
          ]
         },
         "type": "plotly-clustered-bar-chart"
        },
        "query": {
         "mdx": "SELECT NON EMPTY [Measures].[Theoretical PnL] ON COLUMNS, NON EMPTY [Trading_Desk].[asset_class].[asset_class].Members ON ROWS FROM [Position_Sensitivities] CELL PROPERTIES VALUE, FORMATTED_VALUE, BACK_COLOR, FORE_COLOR, FONT_FLAGS",
         "serverUrl": "",
         "updateMode": "once"
        }
       },
       "containerKey": "chart",
       "showTitleBar": false,
       "style": {}
      }
     }
    },
    "atoti": {
     "widget": {
      "mapping": {
       "horizontal": [],
       "splitBy": [],
       "values": [
        "[Measures].[Theoretical PnL]"
       ],
       "vertical": [],
       "xAxis": [
        "[Trading_Desk].[asset_class].[asset_class]"
       ]
      },
      "name": "Theoretical PnL",
      "query": {
       "context": {
        "queriesResultLimit.intermediateSize": 1000000,
        "queriesResultLimit.transientSize": 10000000
       },
       "mdx": "SELECT NON EMPTY [Measures].[Theoretical PnL] ON COLUMNS, NON EMPTY [Trading_Desk].[asset_class].[asset_class].Members ON ROWS FROM [Position_Sensitivities] CELL PROPERTIES VALUE, FORMATTED_VALUE, BACK_COLOR, FORE_COLOR, FONT_FLAGS",
       "updateMode": "once"
      },
      "serverKey": "default",
      "switchedTo": "plotly-clustered-bar-chart",
      "widgetKey": "plotly-line-chart"
     }
    }
   },
   "outputs": [],
   "source": [
    "session.visualize(\"Theoretical PnL\")"
   ]
  },
  {
   "cell_type": "markdown",
   "metadata": {},
   "source": [
    "By applying sensitivity against the Asset Class and Currency, we can see that the 3 peaks are in the order of *Rates & Credit, EUR*, *Forex, EUR* and lastly *Equity, EUR*. "
   ]
  },
  {
   "cell_type": "code",
   "execution_count": null,
   "metadata": {
    "atoti": {
     "widget": {
      "mapping": {
       "axis": [
        "[Trading_Desk].[Investment Portfolio Hierarchy].[Asset Class]",
        "[Position_Sensitivities].[currency].[currency]"
       ],
       "horizontalSubplots": [],
       "splitBy": [],
       "values": [
        "[Measures].[sensi.SUM]"
       ],
       "verticalSubplots": []
      },
      "name": "Risk Map",
      "query": {
       "context": {
        "queriesResultLimit.intermediateSize": 1000000,
        "queriesResultLimit.transientSize": 10000000
       },
       "mdx": "SELECT NON EMPTY Crossjoin([Trading_Desk].[Investment Portfolio Hierarchy].[Asset Class].Members, [Position_Sensitivities].[currency].[currency].Members) ON ROWS, NON EMPTY [Measures].[sensi.SUM] ON COLUMNS FROM [Position_Sensitivities] CELL PROPERTIES VALUE, FORMATTED_VALUE, BACK_COLOR, FORE_COLOR, FONT_FLAGS",
       "updateMode": "once"
      },
      "serverKey": "default",
      "widgetKey": "plotly-radar-chart"
     }
    }
   },
   "outputs": [],
   "source": [
    "session.visualize(\"Risk Map\")"
   ]
  },
  {
   "cell_type": "markdown",
   "metadata": {},
   "source": [
    "### What-ifs using Parameter simulations\n",
    "We will run simulations to see the impact of shifts in curves: \n",
    "- Parallel Shift\n",
    "- Curve Inversion\n",
    "- Curve Inversion Stress\n"
   ]
  },
  {
   "cell_type": "markdown",
   "metadata": {},
   "source": [
    "#### Shift Simulation  \n",
    "  \n",
    "A parallel shift in the yield curve happens when the interest rates on all fixed-income maturities increase or decrease by the same number of basis point.  \n",
    "The curve does not change but it shifts to the left or to the right. This is most common when the yield curve is upward sloping.  \n",
    "  \n",
    "This simulation is important for investors who might liquidate their positions before maturity, as the shift can cause bond prices to fluctuate substantially.  \n",
    "Investors could mitigate this risk by reducing the bond duration, alleviate the volatility.\n"
   ]
  },
  {
   "cell_type": "markdown",
   "metadata": {},
   "source": [
    "Earlier, we have created the parameter simulation `curve_simulation`.  \n",
    "We will use it to simulate parallel shift in yield curve by applying a negative 10 [bps](https://www.investopedia.com/ask/answers/what-basis-point-bps/) shift on the last rate for Euro currency on all Tenor."
   ]
  },
  {
   "cell_type": "code",
   "execution_count": null,
   "metadata": {},
   "outputs": [],
   "source": [
    "curve_simulation += (\"Curve Parallel Shift\", None, \"EUR\", -0.001)"
   ]
  },
  {
   "cell_type": "markdown",
   "metadata": {},
   "source": [
    "The above snippet creates a scenario `Curve Parallel Shift`, followed by the levels that is affected by this simulation and the value of `last parameter`.  \n",
    "`None` is a wildcard value, indicating that it will affect all the Tenors"
   ]
  },
  {
   "cell_type": "markdown",
   "metadata": {},
   "source": [
    "##### Explore Curve Parallel Shift scenario impact on Theoretical PnL  \n",
    "  \n",
    "We see that while the curve retains its shape, all the data points moved to the right of the graph."
   ]
  },
  {
   "cell_type": "code",
   "execution_count": null,
   "metadata": {
    "atoti": {
     "widget": {
      "filters": [
       "{[Curve Simulation].[Curve Simulation].[Curve Parallel Shift], [Curve Simulation].[Curve Simulation].[Last Curve]}",
       "[Position_Sensitivities].[currency].[AllMember].[EUR]",
       "[Position_Sensitivities].[curve].[AllMember].[EUR-Govt-FR]"
      ],
      "mapping": {
       "horizontalSubplots": [],
       "splitBy": [
        "[Curve Simulation].[Curve Simulation].[Curve Simulation]",
        "ALL_MEASURES"
       ],
       "values": [
        "[Measures].[effective last]"
       ],
       "verticalSubplots": [],
       "xAxis": [
        "[Position_Sensitivities].[tenor].[tenor]"
       ]
      },
      "query": {
       "mdx": "SELECT NON EMPTY Hierarchize(Descendants({[Position_Sensitivities].[tenor].[AllMember]}, 1, SELF_AND_BEFORE)) ON ROWS, NON EMPTY Crossjoin([Curve Simulation].[Curve Simulation].[Curve Simulation].Members, {[Measures].[effective last]}) ON COLUMNS FROM [Position_Sensitivities]",
       "updateMode": "once"
      },
      "serverKey": "default",
      "widgetKey": "plotly-line-chart"
     }
    },
    "tags": []
   },
   "outputs": [],
   "source": [
    "session.visualize(\"Yield Curve Curve Parallel Shift\")"
   ]
  },
  {
   "cell_type": "markdown",
   "metadata": {},
   "source": [
    "Let's now go into the investment portfolio to see the impact of this shift on the *Theoretical PnL*.  \\\n",
    "We see the *Theoretical PnL* went negative on a 10bps shift, with *Rates & Credit* suffering the most loss.  "
   ]
  },
  {
   "cell_type": "code",
   "execution_count": null,
   "metadata": {
    "atoti": {
     "widget": {
      "filters": [
       "[Position_Sensitivities].[currency].[AllMember].[EUR]",
       "{[Curve Simulation].[Curve Simulation].[Last Curve], [Curve Simulation].[Curve Simulation].[Curve Parallel Shift]}"
      ],
      "isTextVisible": true,
      "mapping": {
       "horizontalSubplots": [],
       "splitBy": [
        "[Curve Simulation].[Curve Simulation].[Curve Simulation]"
       ],
       "values": [
        "[Measures].[Theoretical PnL]"
       ],
       "verticalSubplots": [],
       "yAxis": [
        "[Trading_Desk].[Investment Portfolio Hierarchy].[Asset Class]"
       ]
      },
      "name": "Theoretical PnL Parallel Shift - Investment Portfolio",
      "query": {
       "context": {
        "queriesResultLimit.intermediateSize": 1000000,
        "queriesResultLimit.transientSize": 10000000
       },
       "mdx": "SELECT NON EMPTY [Measures].[Theoretical PnL] ON COLUMNS, NON EMPTY Crossjoin([Trading_Desk].[Investment Portfolio Hierarchy].[Asset Class].Members, [Curve Simulation].[Curve Simulation].[Curve Simulation].Members) ON ROWS FROM (SELECT {[Curve Simulation].[Curve Simulation].[Curve Simulation].[Curve Parallel Shift], [Curve Simulation].[Curve Simulation].[Curve Simulation].[Last Curve]} ON COLUMNS FROM [Position_Sensitivities] WHERE [Position_Sensitivities].[currency].[ALL].[AllMember].[EUR]) WHERE [Position_Sensitivities].[currency].[ALL].[AllMember].[EUR] CELL PROPERTIES VALUE, FORMATTED_VALUE, BACK_COLOR, FORE_COLOR, FONT_FLAGS"
      },
      "serverKey": "default",
      "style": {
       "isTextVisible": true
      },
      "widgetKey": "plotly-clustered-bar-chart"
     }
    },
    "tags": []
   },
   "outputs": [],
   "source": [
    "session.visualize(\"Theoretical PnL Parallel Shift - Investment Portfolio\")"
   ]
  },
  {
   "cell_type": "markdown",
   "metadata": {},
   "source": [
    "#### Curve Inversion Simulation\n",
    "\n",
    "An inverted yield curve is a predictor of economic recession as it implies that interest rates are going to fall. In fact, recessions usually cause interest rates to fall.  \n",
    "  \n",
    "Short-term bills are expected to plummet if recession is coming, as Federal Reserve will lower the fed funds rate when economy slows down. Therefore investors may avoid Treasurys with maturities of less than two years to have a safe investment. This sets back the demand for those bills and sends their yields up. Higher demands in the longer-term instruments lower the yields, hence an inverted curve occurs."
   ]
  },
  {
   "cell_type": "markdown",
   "metadata": {},
   "source": [
    "Let's run another simulation on the currency EUR and see the impact on the *Theoretical PnL*.\n",
    "We will set `last parameter` to a negative 20bps for the currency EUR for tenors 5Y and above and observe the change in the curve shape."
   ]
  },
  {
   "cell_type": "code",
   "execution_count": null,
   "metadata": {},
   "outputs": [],
   "source": [
    "curve_simulation += (\"Curve Inversion\", \"5Y\", \"EUR\", -0.002)\n",
    "curve_simulation += (\"Curve Inversion\", \"6Y\", \"EUR\", -0.002)\n",
    "curve_simulation += (\"Curve Inversion\", \"7Y\", \"EUR\", -0.002)\n",
    "curve_simulation += (\"Curve Inversion\", \"8Y\", \"EUR\", -0.002)\n",
    "curve_simulation += (\"Curve Inversion\", \"9Y\", \"EUR\", -0.002)"
   ]
  },
  {
   "cell_type": "markdown",
   "metadata": {},
   "source": [
    "##### Explore Curve Inversion scenario impact on Theoretical PnL  \n",
    "  \n",
    "We see a slight inversion in the curve from the tenor 4Y to 5Y before it becomes a shift to the right, as in the case of a parallel shift.  \n",
    "In this case, we predict that the yields will dip for instruments with more than 5Y maturity."
   ]
  },
  {
   "cell_type": "code",
   "execution_count": null,
   "metadata": {
    "atoti": {
     "widget": {
      "filters": [
       "[Position_Sensitivities].[currency].[AllMember].[EUR]",
       "[Position_Sensitivities].[curve].[AllMember].[EUR-Govt-FR]",
       "{[Curve Simulation].[Curve Simulation].[Last Curve], [Curve Simulation].[Curve Simulation].[Curve Inversion]}"
      ],
      "mapping": {
       "horizontalSubplots": [],
       "splitBy": [
        "[Curve Simulation].[Curve Simulation].[Curve Simulation]",
        "ALL_MEASURES"
       ],
       "values": [
        "[Measures].[effective last]"
       ],
       "verticalSubplots": [],
       "xAxis": [
        "[Position_Sensitivities].[tenor].[tenor]"
       ]
      },
      "query": {
       "mdx": "SELECT NON EMPTY Crossjoin([Curve Simulation].[Curve Simulation].[Curve Simulation].Members, {[Measures].[effective last]}) ON COLUMNS, NON EMPTY Hierarchize(Descendants({[Position_Sensitivities].[tenor].[AllMember]}, 1, SELF_AND_BEFORE)) ON ROWS FROM [Position_Sensitivities]",
       "updateMode": "once"
      },
      "serverKey": "default",
      "widgetKey": "plotly-line-chart"
     }
    },
    "tags": []
   },
   "outputs": [],
   "source": [
    "session.visualize(\"Yield Curve Inversion\")"
   ]
  },
  {
   "cell_type": "markdown",
   "metadata": {},
   "source": [
    "As expected, we can see drastic drop in the *Theoretical PnL* across all the asset classes, the greatest loss incurred in the asset class *Rates & Credit*."
   ]
  },
  {
   "cell_type": "code",
   "execution_count": null,
   "metadata": {
    "atoti": {
     "widget": {
      "filters": [
       "[Position_Sensitivities].[currency].[AllMember].[EUR]",
       "{[Curve Simulation].[Curve Simulation].[Last Curve], [Curve Simulation].[Curve Simulation].[Curve Inversion]}"
      ],
      "isTextVisible": true,
      "mapping": {
       "horizontalSubplots": [],
       "splitBy": [
        "[Curve Simulation].[Curve Simulation].[Curve Simulation]"
       ],
       "values": [
        "[Measures].[Theoretical PnL]"
       ],
       "verticalSubplots": [],
       "yAxis": [
        "[Trading_Desk].[Investment Portfolio Hierarchy].[Asset Class]"
       ]
      },
      "name": "Theoretical PnL Curve Inversion",
      "query": {
       "context": {
        "queriesResultLimit.intermediateSize": 1000000,
        "queriesResultLimit.transientSize": 10000000
       },
       "mdx": "SELECT NON EMPTY [Measures].[Theoretical PnL] ON COLUMNS, NON EMPTY Crossjoin([Trading_Desk].[Investment Portfolio Hierarchy].[Asset Class].Members, [Curve Simulation].[Curve Simulation].[Curve Simulation].Members) ON ROWS FROM (SELECT {[Curve Simulation].[Curve Simulation].[Curve Simulation].[Curve Inversion], [Curve Simulation].[Curve Simulation].[Curve Simulation].[Last Curve]} ON COLUMNS FROM [Position_Sensitivities]) CELL PROPERTIES VALUE, FORMATTED_VALUE, BACK_COLOR, FORE_COLOR, FONT_FLAGS"
      },
      "serverKey": "default",
      "style": {
       "isTextVisible": true
      },
      "widgetKey": "plotly-clustered-bar-chart"
     }
    },
    "tags": []
   },
   "outputs": [],
   "source": [
    "session.visualize(\"Theoretical PnL Curve Inversion\")"
   ]
  },
  {
   "cell_type": "code",
   "execution_count": null,
   "metadata": {
    "atoti": {
     "height": 408,
     "widget": {
      "filters": [
       "{[Curve Simulation].[Curve Simulation].[Last Curve], [Curve Simulation].[Curve Simulation].[Curve Inversion]}"
      ],
      "mapping": {
       "horizontalSubplots": [],
       "splitBy": [
        "[Trading_Desk].[Investment Portfolio Hierarchy].[Asset Class]"
       ],
       "values": [
        "[Measures].[Theoretical PnL]"
       ],
       "verticalSubplots": [
        "[Curve Simulation].[Curve Simulation].[Curve Simulation]"
       ],
       "xAxis": [
        "[Position_Sensitivities].[tenor].[tenor]"
       ]
      },
      "name": "Theoretical PnL against Tenor",
      "query": {
       "context": {
        "queriesResultLimit.intermediateSize": 1000000,
        "queriesResultLimit.transientSize": 10000000
       },
       "mdx": "SELECT NON EMPTY Crossjoin([Position_Sensitivities].[tenor].[tenor].Members, [Trading_Desk].[Investment Portfolio Hierarchy].[Asset Class].Members, [Curve Simulation].[Curve Simulation].[Curve Simulation].Members) ON ROWS, NON EMPTY [Measures].[Theoretical PnL] ON COLUMNS FROM (SELECT {[Curve Simulation].[Curve Simulation].[Curve Simulation].[Curve Inversion], [Curve Simulation].[Curve Simulation].[Curve Simulation].[Last Curve]} ON COLUMNS FROM [Position_Sensitivities]) CELL PROPERTIES VALUE, FORMATTED_VALUE, BACK_COLOR, FORE_COLOR, FONT_FLAGS"
      },
      "serverKey": "default",
      "style": {
       "isTextVisible": false
      },
      "subplotModeEnabled": true,
      "widgetKey": "plotly-clustered-column-chart"
     }
    }
   },
   "outputs": [],
   "source": [
    "session.visualize(\"Theoretical PnL against Tenor\")"
   ]
  },
  {
   "cell_type": "markdown",
   "metadata": {},
   "source": [
    "#### Curve Inversion Stress Simulation  \n",
    "  \n",
    "We will create a new scenario where we stress the curve further by assuming further drops in rates for the longer-term instruments.  "
   ]
  },
  {
   "cell_type": "code",
   "execution_count": null,
   "metadata": {},
   "outputs": [],
   "source": [
    "curve_simulation += (\"Curve Inversion Stress\", \"5Y\", \"EUR\", -0.002)\n",
    "curve_simulation += (\"Curve Inversion Stress\", \"6Y\", \"EUR\", -0.002)\n",
    "curve_simulation += (\"Curve Inversion Stress\", \"7Y\", \"EUR\", -0.004)\n",
    "curve_simulation += (\"Curve Inversion Stress\", \"8Y\", \"EUR\", -0.004)\n",
    "curve_simulation += (\"Curve Inversion Stress\", \"9Y\", \"EUR\", -0.004)"
   ]
  },
  {
   "cell_type": "markdown",
   "metadata": {},
   "source": [
    "##### Explore Curve Inversion Stress scenario impact on Theoretical PnL  \n",
    "  \n",
    "We see the curve is starting to slope more downward."
   ]
  },
  {
   "cell_type": "code",
   "execution_count": null,
   "metadata": {
    "atoti": {
     "widget": {
      "filters": [
       "[Position_Sensitivities].[currency].[AllMember].[EUR]",
       "[Position_Sensitivities].[curve].[AllMember].[EUR-Govt-FR]",
       "{[Curve Simulation].[Curve Simulation].[Curve Inversion Stress], [Curve Simulation].[Curve Simulation].[Last Curve]}"
      ],
      "mapping": {
       "horizontalSubplots": [],
       "splitBy": [
        "[Curve Simulation].[Curve Simulation].[Curve Simulation]",
        "ALL_MEASURES"
       ],
       "values": [
        "[Measures].[effective last]"
       ],
       "verticalSubplots": [],
       "xAxis": [
        "[Position_Sensitivities].[tenor].[tenor]"
       ]
      },
      "query": {
       "mdx": "SELECT NON EMPTY Hierarchize(Descendants({[Position_Sensitivities].[tenor].[AllMember]}, 1, SELF_AND_BEFORE)) ON ROWS, NON EMPTY Crossjoin([Curve Simulation].[Curve Simulation].[Curve Simulation].Members, {[Measures].[effective last]}) ON COLUMNS FROM [Position_Sensitivities]",
       "updateMode": "once"
      },
      "serverKey": "default",
      "widgetKey": "plotly-line-chart"
     }
    },
    "tags": []
   },
   "outputs": [],
   "source": [
    "session.visualize(\"Yield Curve Inversion Stress\")"
   ]
  },
  {
   "cell_type": "markdown",
   "metadata": {},
   "source": [
    "We see the downward slope dipped further in the stress scenario."
   ]
  },
  {
   "cell_type": "code",
   "execution_count": null,
   "metadata": {
    "atoti": {
     "widget": {
      "filters": [
       "[Position_Sensitivities].[currency].[AllMember].[EUR]",
       "{[Curve Simulation].[Curve Simulation].[Curve Inversion Stress], [Curve Simulation].[Curve Simulation].[Curve Inversion], [Curve Simulation].[Curve Simulation].[Last Curve]}"
      ],
      "mapping": {
       "horizontalSubplots": [],
       "splitBy": [
        "[Curve Simulation].[Curve Simulation].[Curve Simulation]"
       ],
       "values": [
        "[Measures].[Theoretical PnL]"
       ],
       "verticalSubplots": [],
       "xAxis": [
        "[Position_Sensitivities].[tenor].[tenor]"
       ]
      },
      "name": "Theoretical PnL Curve Inversion Stress",
      "query": {
       "context": {
        "queriesResultLimit.intermediateSize": 1000000,
        "queriesResultLimit.transientSize": 10000000
       },
       "mdx": "SELECT NON EMPTY Crossjoin([Position_Sensitivities].[tenor].[tenor].Members, [Curve Simulation].[Curve Simulation].[Curve Simulation].Members) ON ROWS, NON EMPTY [Measures].[Theoretical PnL] ON COLUMNS FROM (SELECT {[Curve Simulation].[Curve Simulation].[Curve Simulation].[Curve Inversion Stress], [Curve Simulation].[Curve Simulation].[Curve Simulation].[Curve Inversion], [Curve Simulation].[Curve Simulation].[Curve Simulation].[Last Curve]} ON COLUMNS FROM [Position_Sensitivities]) CELL PROPERTIES VALUE, FORMATTED_VALUE, BACK_COLOR, FORE_COLOR, FONT_FLAGS",
       "updateMode": "once"
      },
      "serverKey": "default",
      "widgetKey": "plotly-line-chart"
     }
    }
   },
   "outputs": [],
   "source": [
    "session.visualize(\"Theoretical PnL Curve Inversion Stress\")"
   ]
  },
  {
   "cell_type": "code",
   "execution_count": null,
   "metadata": {
    "atoti": {
     "widget": {
      "filters": [
       "[Position_Sensitivities].[currency].[AllMember].[EUR]",
       "{[Curve Simulation].[Curve Simulation].[Curve Inversion Stress], [Curve Simulation].[Curve Simulation].[Curve Inversion]}"
      ],
      "mapping": {
       "columns": [
        "[Curve Simulation].[Curve Simulation].[Curve Simulation]",
        "ALL_MEASURES"
       ],
       "measures": [
        "[Measures].[Theoretical PnL]"
       ],
       "rows": [
        "[Trading_Desk].[trading_desk].[trading_desk]"
       ]
      },
      "query": {
       "mdx": "SELECT NON EMPTY Hierarchize(Descendants({[Trading_Desk].[trading_desk].[AllMember]}, 1, SELF_AND_BEFORE)) ON ROWS, NON EMPTY Crossjoin([Curve Simulation].[Curve Simulation].[Curve Simulation].Members, {[Measures].[Theoretical PnL]}) ON COLUMNS FROM [Position_Sensitivities]",
       "updateMode": "once"
      },
      "serverKey": "default",
      "widgetKey": "pivot-table"
     }
    },
    "tags": []
   },
   "outputs": [],
   "source": [
    "session.visualize(\"Scenarios Comparison\")"
   ]
  },
  {
   "cell_type": "markdown",
   "metadata": {},
   "source": [
    "### Build Your Standalone App using atoti UI:\n",
    "\n",
    "* Publish Yield Curve and PnL Views\n",
    "* Add Page Quick filters\n",
    "* Compare scenarios\n",
    "* Save Dashboards  \n",
    "  \n",
    "You can access atoti UI with the link below:"
   ]
  },
  {
   "cell_type": "code",
   "execution_count": null,
   "metadata": {},
   "outputs": [],
   "source": [
    "session.link()"
   ]
  },
  {
   "cell_type": "markdown",
   "metadata": {},
   "source": [
    "We can publish the visualizations above as widgets to atoti UI. Click on *Open App* when you have published all the widgets of interest.  \n",
    "\n",
    "<img src=\"https://data.atoti.io/notebooks/pnl-explained/publish_widget.gif\" alt=\"publish widget\" style=\"zoom:40%;\" />"
   ]
  },
  {
   "cell_type": "markdown",
   "metadata": {},
   "source": [
    "We can quickly put together a PnL Explained dashboard.  \n",
    "\n",
    "<img src=\"https://data.atoti.io/notebooks/pnl-explained/dashboarding.gif\" alt=\"dashboard design\" style=\"zoom:40%;\" />  \n",
    "  \n",
    "Access the above dashboard with the link provided below:"
   ]
  },
  {
   "cell_type": "code",
   "execution_count": null,
   "metadata": {},
   "outputs": [],
   "source": [
    "session.link(path=\"/#/dashboard/223\")"
   ]
  },
  {
   "cell_type": "markdown",
   "metadata": {},
   "source": [
    "<div style=\"text-align: center;\" ><a href=\"https://www.atoti.io/?utm_source=gallery&utm_content=pnl-explained\" target=\"_blank\" rel=\"noopener noreferrer\"><img src=\"https://data.atoti.io/notebooks/banners/discover-try.png\" alt=\"Try atoti\"></a></div>"
   ]
  }
 ],
 "metadata": {
  "kernelspec": {
   "display_name": "Python 3 (ipykernel)",
   "language": "python",
   "name": "python3"
  },
  "language_info": {
   "codemirror_mode": {
    "name": "ipython",
    "version": 3
   },
   "file_extension": ".py",
   "mimetype": "text/x-python",
   "name": "python",
   "nbconvert_exporter": "python",
   "pygments_lexer": "ipython3",
   "version": "3.8.7"
  }
 },
 "nbformat": 4,
 "nbformat_minor": 4
}
