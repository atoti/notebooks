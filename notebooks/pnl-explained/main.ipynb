{
 "cells": [
  {
   "cell_type": "markdown",
   "metadata": {},
   "source": [
    "## PnL Explain :  Estimating PnL using sensitivities and Market Data\n",
    "\n",
    "For more context and definitions around pnl explained, [check out our article on atoti.io](https://www.atoti.io/pnl-explained-with-atoti/).\n",
    "\n",
    "### A few definitions:\n",
    "\n",
    "- [Portfolio](https://www.investopedia.com/terms/p/portfolio.asp) refers to any collection of financial assets such as stocks, bonds and cash. \n",
    "- [PnL](https://www.investopedia.com/terms/p/plstatement.asp) is a common term used in trading referring to the total \"Profit and Loss\" made by a portfolio over a certain time period.\n",
    "- [Maturity date](https://www.investopedia.com/terms/m/maturitydate.asp) refers to the due date on which a borrower must pay back the principal of a debt, i.e. the initial amount of money borrowed.\n",
    "- [Tenor](https://www.investopedia.com/terms/t/tenor.asp) refers to the length of time remaining in a contract, while maturity refers to the initial length of the agreement upon its inception. The tenor of a financial instrument declines over time, whereas its maturity remains constant.\n",
    "- [Yield curve](https://www.investopedia.com/terms/y/yieldcurve.asp) is a graphical representation of interest rates per maturity date.\n",
    "- [Sensitivity](https://www.investopedia.com/terms/s/sensitivity.asp) is the magnitude of a financial instrument's reaction to changes in underlying factors.\n",
    "- [Greeks](https://www.investopedia.com/terms/g/greeks.asp) describes the different dimensions of risk involved in taking an options position. \n",
    "- [Delta](https://www.investopedia.com/terms/d/delta.asp), in particular, is a first-order greek, and represents the ratio that compares the change in the price of an asset to the corresponding change in the price of its derivative. For example, if a stock option has a delta value of 0.75, this means that if the underlying stock increases in price by 1 dollar per share, the option on it will rise by 0.75 dollars per share.\n",
    "\n",
    "### Introduction\n",
    "\n",
    "The PnL explain technique seeks to estimate the daily PnL from the change in the underlying risk factors.\n",
    "In this case the risk factors are determined by the yield curve plotting interest rates for each tenor.\n",
    "\n",
    "Usually, a portfolio risk manager will monitor the risk factors that impact his portfolio, instead of monitoring all the positions booked in his portfolio. To assess what will be the value of his portfolio, a portfolio risk manager is interested in performing what-if analysis based on a scenario of the risk factor values.\n",
    "\n",
    "In this notebook, we perform a simplified PnL Explained by using Delta(Δ) to represent our sensitivity instead of the full Greeks. We will utilize the various features of atoti libraries to:\n",
    "\n",
    "- Load data into a multi-dimensional cube\n",
    "- Explore the Data using the embedded visualization or atoti UI\n",
    "- Calculate Estimated PnL using sensitivities and Market Data\n",
    "- Run multiple scenarios of the Yield Curve Stress Test"
   ]
  },
  {
   "cell_type": "code",
   "execution_count": 1,
   "metadata": {},
   "outputs": [
    {
     "name": "stdout",
     "output_type": "stream",
     "text": [
      "Welcome to atoti 0.4.3!\n",
      "\n",
      "By using this community edition, you agree with the license available at https://www.atoti.io/eula.\n",
      "Browse the official documentation at https://docs.atoti.io.\n",
      "Join the community at https://www.atoti.io/register.\n",
      "\n",
      "You can hide this message by setting the ATOTI_HIDE_EULA_MESSAGE environment variable to True.\n"
     ]
    }
   ],
   "source": [
    "import atoti as tt"
   ]
  },
  {
   "cell_type": "code",
   "execution_count": 2,
   "metadata": {},
   "outputs": [],
   "source": [
    "# tell atoti to load the database containing the UI dashboards\n",
    "config = tt.config.create_config(metadata_db=\"./metadata.db\")\n",
    "\n",
    "# Create an atoti session\n",
    "session = tt.create_session(config=config)"
   ]
  },
  {
   "cell_type": "markdown",
   "metadata": {},
   "source": [
    "## 1.1 Loading Data and creating ActivePivot multidimensional environment\n",
    "### Creating atoti DataStore"
   ]
  },
  {
   "cell_type": "markdown",
   "metadata": {},
   "source": [
    "There are many ways atoti can consume data. In this notebook, we will be using read_csv to load data into the datastores."
   ]
  },
  {
   "cell_type": "markdown",
   "metadata": {},
   "source": [
    "### Position Sensitivities"
   ]
  },
  {
   "cell_type": "code",
   "execution_count": null,
   "metadata": {},
   "outputs": [],
   "source": [
    "position_sensitivity_store = session.read_csv(\n",
    "    \"s3://data.atoti.io/notebooks/pnl-explained/position_sensitivities.csv\",\n",
    "    keys=[\"book_id\", \"instrument_code\", \"currency\", \"curve\", \"tenor\"],\n",
    "    store_name=\"Position Sensitivities Store\",\n",
    ")"
   ]
  },
  {
   "cell_type": "code",
   "execution_count": 4,
   "metadata": {},
   "outputs": [
    {
     "data": {
      "text/html": [
       "<div>\n",
       "<style scoped>\n",
       "    .dataframe tbody tr th:only-of-type {\n",
       "        vertical-align: middle;\n",
       "    }\n",
       "\n",
       "    .dataframe tbody tr th {\n",
       "        vertical-align: top;\n",
       "    }\n",
       "\n",
       "    .dataframe thead th {\n",
       "        text-align: right;\n",
       "    }\n",
       "</style>\n",
       "<table border=\"1\" class=\"dataframe\">\n",
       "  <thead>\n",
       "    <tr style=\"text-align: right;\">\n",
       "      <th></th>\n",
       "      <th></th>\n",
       "      <th></th>\n",
       "      <th></th>\n",
       "      <th></th>\n",
       "      <th>notional</th>\n",
       "      <th>sensi</th>\n",
       "    </tr>\n",
       "    <tr>\n",
       "      <th>book_id</th>\n",
       "      <th>instrument_code</th>\n",
       "      <th>currency</th>\n",
       "      <th>curve</th>\n",
       "      <th>tenor</th>\n",
       "      <th></th>\n",
       "      <th></th>\n",
       "    </tr>\n",
       "  </thead>\n",
       "  <tbody>\n",
       "    <tr>\n",
       "      <th rowspan=\"5\" valign=\"top\">1</th>\n",
       "      <th rowspan=\"5\" valign=\"top\">NL00000001</th>\n",
       "      <th rowspan=\"5\" valign=\"top\">EUR</th>\n",
       "      <th rowspan=\"5\" valign=\"top\">EUR-Govt-NL</th>\n",
       "      <th>1Y</th>\n",
       "      <td>10000000.0</td>\n",
       "      <td>0.01</td>\n",
       "    </tr>\n",
       "    <tr>\n",
       "      <th>2Y</th>\n",
       "      <td>10000000.0</td>\n",
       "      <td>0.01</td>\n",
       "    </tr>\n",
       "    <tr>\n",
       "      <th>3Y</th>\n",
       "      <td>10000000.0</td>\n",
       "      <td>0.01</td>\n",
       "    </tr>\n",
       "    <tr>\n",
       "      <th>4Y</th>\n",
       "      <td>10000000.0</td>\n",
       "      <td>0.01</td>\n",
       "    </tr>\n",
       "    <tr>\n",
       "      <th>5Y</th>\n",
       "      <td>10000000.0</td>\n",
       "      <td>0.01</td>\n",
       "    </tr>\n",
       "  </tbody>\n",
       "</table>\n",
       "</div>"
      ],
      "text/plain": [
       "                                                      notional  sensi\n",
       "book_id instrument_code currency curve       tenor                   \n",
       "1       NL00000001      EUR      EUR-Govt-NL 1Y     10000000.0   0.01\n",
       "                                             2Y     10000000.0   0.01\n",
       "                                             3Y     10000000.0   0.01\n",
       "                                             4Y     10000000.0   0.01\n",
       "                                             5Y     10000000.0   0.01"
      ]
     },
     "execution_count": 4,
     "metadata": {},
     "output_type": "execute_result"
    }
   ],
   "source": [
    "# you can use head(n) to view the first n rows of the store.\n",
    "# likewise, you can use position_sensitivity_store.columns to view the columns available in the store\n",
    "# lastly, you can use position_sensitivity_store.shape to view the number of rows and columns loaded into the store\n",
    "position_sensitivity_store.head(5)"
   ]
  },
  {
   "cell_type": "markdown",
   "metadata": {},
   "source": [
    "### Position Data"
   ]
  },
  {
   "cell_type": "code",
   "execution_count": 5,
   "metadata": {},
   "outputs": [],
   "source": [
    "position_store = session.read_csv(\n",
    "    \"s3://data.atoti.io/notebooks/pnl-explained/position_data.csv\",\n",
    "    keys=[\"book_id\", \"instrument_code\"],\n",
    "    store_name=\"Position Store\",\n",
    ")"
   ]
  },
  {
   "cell_type": "code",
   "execution_count": 6,
   "metadata": {},
   "outputs": [
    {
     "data": {
      "text/html": [
       "<div>\n",
       "<style scoped>\n",
       "    .dataframe tbody tr th:only-of-type {\n",
       "        vertical-align: middle;\n",
       "    }\n",
       "\n",
       "    .dataframe tbody tr th {\n",
       "        vertical-align: top;\n",
       "    }\n",
       "\n",
       "    .dataframe thead th {\n",
       "        text-align: right;\n",
       "    }\n",
       "</style>\n",
       "<table border=\"1\" class=\"dataframe\">\n",
       "  <thead>\n",
       "    <tr style=\"text-align: right;\">\n",
       "      <th></th>\n",
       "      <th></th>\n",
       "      <th>maturity_date</th>\n",
       "      <th>coupon_rate</th>\n",
       "      <th>nominal</th>\n",
       "      <th>currency</th>\n",
       "      <th>curve</th>\n",
       "      <th>issuer_country</th>\n",
       "    </tr>\n",
       "    <tr>\n",
       "      <th>book_id</th>\n",
       "      <th>instrument_code</th>\n",
       "      <th></th>\n",
       "      <th></th>\n",
       "      <th></th>\n",
       "      <th></th>\n",
       "      <th></th>\n",
       "      <th></th>\n",
       "    </tr>\n",
       "  </thead>\n",
       "  <tbody>\n",
       "    <tr>\n",
       "      <th>1</th>\n",
       "      <th>NL00000001</th>\n",
       "      <td>1</td>\n",
       "      <td>0.03</td>\n",
       "      <td>10000000.0</td>\n",
       "      <td>EUR</td>\n",
       "      <td>EUR-Govt-NL</td>\n",
       "      <td>Netherlands</td>\n",
       "    </tr>\n",
       "    <tr>\n",
       "      <th>2</th>\n",
       "      <th>SE00001009</th>\n",
       "      <td>9</td>\n",
       "      <td>0.03</td>\n",
       "      <td>10000000.0</td>\n",
       "      <td>SEK</td>\n",
       "      <td>EUR-Govt-SE</td>\n",
       "      <td>Sweden</td>\n",
       "    </tr>\n",
       "    <tr>\n",
       "      <th>3</th>\n",
       "      <th>CH00002001</th>\n",
       "      <td>1</td>\n",
       "      <td>0.01</td>\n",
       "      <td>10000000.0</td>\n",
       "      <td>CHF</td>\n",
       "      <td>CHF-Govt-CH</td>\n",
       "      <td>Switzerland</td>\n",
       "    </tr>\n",
       "    <tr>\n",
       "      <th>4</th>\n",
       "      <th>IT00003007</th>\n",
       "      <td>7</td>\n",
       "      <td>0.02</td>\n",
       "      <td>10000000.0</td>\n",
       "      <td>EUR</td>\n",
       "      <td>EUR-Govt-IT</td>\n",
       "      <td>Italy</td>\n",
       "    </tr>\n",
       "    <tr>\n",
       "      <th>5</th>\n",
       "      <th>IT00004007</th>\n",
       "      <td>7</td>\n",
       "      <td>0.02</td>\n",
       "      <td>10000000.0</td>\n",
       "      <td>EUR</td>\n",
       "      <td>EUR-Govt-IT</td>\n",
       "      <td>Italy</td>\n",
       "    </tr>\n",
       "  </tbody>\n",
       "</table>\n",
       "</div>"
      ],
      "text/plain": [
       "                         maturity_date  coupon_rate     nominal currency  \\\n",
       "book_id instrument_code                                                    \n",
       "1       NL00000001                   1         0.03  10000000.0      EUR   \n",
       "2       SE00001009                   9         0.03  10000000.0      SEK   \n",
       "3       CH00002001                   1         0.01  10000000.0      CHF   \n",
       "4       IT00003007                   7         0.02  10000000.0      EUR   \n",
       "5       IT00004007                   7         0.02  10000000.0      EUR   \n",
       "\n",
       "                               curve issuer_country  \n",
       "book_id instrument_code                              \n",
       "1       NL00000001       EUR-Govt-NL    Netherlands  \n",
       "2       SE00001009       EUR-Govt-SE         Sweden  \n",
       "3       CH00002001       CHF-Govt-CH    Switzerland  \n",
       "4       IT00003007       EUR-Govt-IT          Italy  \n",
       "5       IT00004007       EUR-Govt-IT          Italy  "
      ]
     },
     "execution_count": 6,
     "metadata": {},
     "output_type": "execute_result"
    }
   ],
   "source": [
    "position_store.head(5)"
   ]
  },
  {
   "cell_type": "markdown",
   "metadata": {},
   "source": [
    "### Portfolio structure"
   ]
  },
  {
   "cell_type": "code",
   "execution_count": 7,
   "metadata": {},
   "outputs": [],
   "source": [
    "trading_desk_store = session.read_csv(\n",
    "    \"s3://data.atoti.io/notebooks/pnl-explained/trading_desk.csv\",\n",
    "    keys=[\"book_id\"],\n",
    "    store_name=\"Trading Desk\",\n",
    ")"
   ]
  },
  {
   "cell_type": "code",
   "execution_count": 8,
   "metadata": {},
   "outputs": [
    {
     "data": {
      "text/html": [
       "<div>\n",
       "<style scoped>\n",
       "    .dataframe tbody tr th:only-of-type {\n",
       "        vertical-align: middle;\n",
       "    }\n",
       "\n",
       "    .dataframe tbody tr th {\n",
       "        vertical-align: top;\n",
       "    }\n",
       "\n",
       "    .dataframe thead th {\n",
       "        text-align: right;\n",
       "    }\n",
       "</style>\n",
       "<table border=\"1\" class=\"dataframe\">\n",
       "  <thead>\n",
       "    <tr style=\"text-align: right;\">\n",
       "      <th></th>\n",
       "      <th>book</th>\n",
       "      <th>trading_desk</th>\n",
       "      <th>sub_business_unit</th>\n",
       "      <th>business_unit</th>\n",
       "      <th>folio_id</th>\n",
       "      <th>portfolio</th>\n",
       "      <th>fund</th>\n",
       "      <th>sub_asset_class</th>\n",
       "      <th>asset_class</th>\n",
       "    </tr>\n",
       "    <tr>\n",
       "      <th>book_id</th>\n",
       "      <th></th>\n",
       "      <th></th>\n",
       "      <th></th>\n",
       "      <th></th>\n",
       "      <th></th>\n",
       "      <th></th>\n",
       "      <th></th>\n",
       "      <th></th>\n",
       "      <th></th>\n",
       "    </tr>\n",
       "  </thead>\n",
       "  <tbody>\n",
       "    <tr>\n",
       "      <th>1</th>\n",
       "      <td>HE01</td>\n",
       "      <td>Hermes</td>\n",
       "      <td>Domestic Rates &amp; Credit</td>\n",
       "      <td>Rates &amp; Credit</td>\n",
       "      <td>1</td>\n",
       "      <td>HE01</td>\n",
       "      <td>Hermes</td>\n",
       "      <td>Domestic Rates &amp; Credit</td>\n",
       "      <td>Rates &amp; Credit</td>\n",
       "    </tr>\n",
       "    <tr>\n",
       "      <th>2</th>\n",
       "      <td>HE02</td>\n",
       "      <td>Hermes</td>\n",
       "      <td>Domestic Rates &amp; Credit</td>\n",
       "      <td>Rates &amp; Credit</td>\n",
       "      <td>2</td>\n",
       "      <td>HE02</td>\n",
       "      <td>Hermes</td>\n",
       "      <td>Domestic Rates &amp; Credit</td>\n",
       "      <td>Rates &amp; Credit</td>\n",
       "    </tr>\n",
       "    <tr>\n",
       "      <th>3</th>\n",
       "      <td>HE03</td>\n",
       "      <td>Hermes</td>\n",
       "      <td>Domestic Rates &amp; Credit</td>\n",
       "      <td>Rates &amp; Credit</td>\n",
       "      <td>3</td>\n",
       "      <td>HE03</td>\n",
       "      <td>Hermes</td>\n",
       "      <td>Domestic Rates &amp; Credit</td>\n",
       "      <td>Rates &amp; Credit</td>\n",
       "    </tr>\n",
       "    <tr>\n",
       "      <th>4</th>\n",
       "      <td>HE04</td>\n",
       "      <td>Hermes</td>\n",
       "      <td>Domestic Rates &amp; Credit</td>\n",
       "      <td>Rates &amp; Credit</td>\n",
       "      <td>4</td>\n",
       "      <td>HE04</td>\n",
       "      <td>Hermes</td>\n",
       "      <td>Domestic Rates &amp; Credit</td>\n",
       "      <td>Rates &amp; Credit</td>\n",
       "    </tr>\n",
       "    <tr>\n",
       "      <th>5</th>\n",
       "      <td>ZE01</td>\n",
       "      <td>Zeus</td>\n",
       "      <td>Domestic Rates &amp; Credit</td>\n",
       "      <td>Rates &amp; Credit</td>\n",
       "      <td>5</td>\n",
       "      <td>ZE01</td>\n",
       "      <td>Zeus</td>\n",
       "      <td>Domestic Rates &amp; Credit</td>\n",
       "      <td>Rates &amp; Credit</td>\n",
       "    </tr>\n",
       "  </tbody>\n",
       "</table>\n",
       "</div>"
      ],
      "text/plain": [
       "         book trading_desk        sub_business_unit   business_unit  folio_id  \\\n",
       "book_id                                                                         \n",
       "1        HE01       Hermes  Domestic Rates & Credit  Rates & Credit         1   \n",
       "2        HE02       Hermes  Domestic Rates & Credit  Rates & Credit         2   \n",
       "3        HE03       Hermes  Domestic Rates & Credit  Rates & Credit         3   \n",
       "4        HE04       Hermes  Domestic Rates & Credit  Rates & Credit         4   \n",
       "5        ZE01         Zeus  Domestic Rates & Credit  Rates & Credit         5   \n",
       "\n",
       "        portfolio    fund          sub_asset_class     asset_class  \n",
       "book_id                                                             \n",
       "1            HE01  Hermes  Domestic Rates & Credit  Rates & Credit  \n",
       "2            HE02  Hermes  Domestic Rates & Credit  Rates & Credit  \n",
       "3            HE03  Hermes  Domestic Rates & Credit  Rates & Credit  \n",
       "4            HE04  Hermes  Domestic Rates & Credit  Rates & Credit  \n",
       "5            ZE01    Zeus  Domestic Rates & Credit  Rates & Credit  "
      ]
     },
     "execution_count": 8,
     "metadata": {},
     "output_type": "execute_result"
    }
   ],
   "source": [
    "trading_desk_store.head(5)"
   ]
  },
  {
   "cell_type": "markdown",
   "metadata": {},
   "source": [
    "### Market data"
   ]
  },
  {
   "cell_type": "code",
   "execution_count": 9,
   "metadata": {},
   "outputs": [],
   "source": [
    "market_data_store = session.read_csv(\n",
    "    \"s3://data.atoti.io/notebooks/pnl-explained/market_data.csv\",\n",
    "    keys=[\"currency\", \"curve\", \"tenor\"],\n",
    "    store_name=\"Market Data\",\n",
    ")"
   ]
  },
  {
   "cell_type": "code",
   "execution_count": 10,
   "metadata": {},
   "outputs": [
    {
     "data": {
      "text/html": [
       "<div>\n",
       "<style scoped>\n",
       "    .dataframe tbody tr th:only-of-type {\n",
       "        vertical-align: middle;\n",
       "    }\n",
       "\n",
       "    .dataframe tbody tr th {\n",
       "        vertical-align: top;\n",
       "    }\n",
       "\n",
       "    .dataframe thead th {\n",
       "        text-align: right;\n",
       "    }\n",
       "</style>\n",
       "<table border=\"1\" class=\"dataframe\">\n",
       "  <thead>\n",
       "    <tr style=\"text-align: right;\">\n",
       "      <th></th>\n",
       "      <th></th>\n",
       "      <th></th>\n",
       "      <th>start_of_day</th>\n",
       "      <th>last</th>\n",
       "    </tr>\n",
       "    <tr>\n",
       "      <th>currency</th>\n",
       "      <th>curve</th>\n",
       "      <th>tenor</th>\n",
       "      <th></th>\n",
       "      <th></th>\n",
       "    </tr>\n",
       "  </thead>\n",
       "  <tbody>\n",
       "    <tr>\n",
       "      <th rowspan=\"5\" valign=\"top\">EUR</th>\n",
       "      <th rowspan=\"5\" valign=\"top\">EUR-Govt-FR</th>\n",
       "      <th>1Y</th>\n",
       "      <td>0.010</td>\n",
       "      <td>0.0101</td>\n",
       "    </tr>\n",
       "    <tr>\n",
       "      <th>2Y</th>\n",
       "      <td>0.015</td>\n",
       "      <td>0.0151</td>\n",
       "    </tr>\n",
       "    <tr>\n",
       "      <th>3Y</th>\n",
       "      <td>0.016</td>\n",
       "      <td>0.0161</td>\n",
       "    </tr>\n",
       "    <tr>\n",
       "      <th>4Y</th>\n",
       "      <td>0.017</td>\n",
       "      <td>0.0171</td>\n",
       "    </tr>\n",
       "    <tr>\n",
       "      <th>5Y</th>\n",
       "      <td>0.018</td>\n",
       "      <td>0.0181</td>\n",
       "    </tr>\n",
       "  </tbody>\n",
       "</table>\n",
       "</div>"
      ],
      "text/plain": [
       "                            start_of_day    last\n",
       "currency curve       tenor                      \n",
       "EUR      EUR-Govt-FR 1Y            0.010  0.0101\n",
       "                     2Y            0.015  0.0151\n",
       "                     3Y            0.016  0.0161\n",
       "                     4Y            0.017  0.0171\n",
       "                     5Y            0.018  0.0181"
      ]
     },
     "execution_count": 10,
     "metadata": {},
     "output_type": "execute_result"
    }
   ],
   "source": [
    "market_data_store.head()"
   ]
  },
  {
   "cell_type": "markdown",
   "metadata": {},
   "source": [
    "### Creating references between stores  \n",
    "\n",
    "We will proceed to set up references between the stores that we just created. We will perform the join from `position_sensitivity_store`."
   ]
  },
  {
   "cell_type": "code",
   "execution_count": 11,
   "metadata": {},
   "outputs": [],
   "source": [
    "position_sensitivity_store.join(trading_desk_store, mapping={\"book_id\": \"book_id\"})"
   ]
  },
  {
   "cell_type": "code",
   "execution_count": 12,
   "metadata": {},
   "outputs": [],
   "source": [
    "position_sensitivity_store.join(\n",
    "    position_store, mapping={\"book_id\": \"book_id\", \"instrument_code\": \"instrument_code\"}\n",
    ")"
   ]
  },
  {
   "cell_type": "code",
   "execution_count": 13,
   "metadata": {},
   "outputs": [],
   "source": [
    "position_sensitivity_store.join(\n",
    "    market_data_store,\n",
    "    mapping={\"currency\": \"currency\", \"curve\": \"curve\", \"tenor\": \"tenor\"},\n",
    ")"
   ]
  },
  {
   "cell_type": "markdown",
   "metadata": {},
   "source": [
    "### Creating cube  \n",
    "We create the cube using the base store *position_sensitivity_store*.   \n",
    "Note that we have not passed in any mode in create_cube().  \n",
    "This means that a hierarchy will be automatically created for each non-numeric column and measure will be automatically created for each numeric column.  "
   ]
  },
  {
   "cell_type": "code",
   "execution_count": 14,
   "metadata": {},
   "outputs": [],
   "source": [
    "position_sensitivity_cube = session.create_cube(\n",
    "    position_sensitivity_store, \"Position_Sensitivities\"\n",
    ")"
   ]
  },
  {
   "cell_type": "markdown",
   "metadata": {},
   "source": [
    "We can see that all the stores are joined to *Position Sensitivities Store*, this is what we call the base store.  \n",
    "For a record to be reachable in the cube, it must exists in the base store."
   ]
  },
  {
   "cell_type": "code",
   "execution_count": 15,
   "metadata": {},
   "outputs": [
    {
     "data": {
      "image/svg+xml": [
       "<svg xmlns=\"http://www.w3.org/2000/svg\" xmlns:xlink=\"http://www.w3.org/1999/xlink\" width=\"694px\" height=\"698px\" viewBox=\"0.00 0.00 694.00 698.00\">\n",
       "<g id=\"graph0\" class=\"graph\" transform=\"scale(1.0 1.0) rotate(0) translate(4 694)\">\n",
       "<title>Position_Sensitivities schema</title>\n",
       "<polygon fill=\"white\" stroke=\"transparent\" points=\"-4,4 -4,-694 690,-694 690,4 -4,4\"/>\n",
       "<!-- Position Sensitivities Store -->\n",
       "<g id=\"node1\" class=\"node\">\n",
       "<title>Position Sensitivities Store</title>\n",
       "<text text-anchor=\"start\" x=\"18.5\" y=\"-366.6\" font-family=\"-apple-system, BlinkMacSystemFont, 'Segoe UI', Helvetica, Arial, sans-serif, 'Apple Color Emoji', 'Segoe UI Emoji', 'Segoe UI Symbol'\" font-weight=\"bold\" font-size=\"13.00\">Position Sensitivities Store</text>\n",
       "<polygon fill=\"#f5f5f5\" stroke=\"transparent\" points=\"9,-333 9,-357 42,-357 42,-333 9,-333\"/>\n",
       "<text text-anchor=\"start\" x=\"14\" y=\"-342.6\" font-family=\"-apple-system, BlinkMacSystemFont, 'Segoe UI', Helvetica, Arial, sans-serif, 'Apple Color Emoji', 'Segoe UI Emoji', 'Segoe UI Symbol'\" font-weight=\"bold\" font-size=\"13.00\">key</text>\n",
       "<polygon fill=\"#f5f5f5\" stroke=\"transparent\" points=\"42,-333 42,-357 152,-357 152,-333 42,-333\"/>\n",
       "<text text-anchor=\"start\" x=\"47\" y=\"-341.6\" font-family=\"-apple-system, BlinkMacSystemFont, 'Segoe UI', Helvetica, Arial, sans-serif, 'Apple Color Emoji', 'Segoe UI Emoji', 'Segoe UI Symbol'\" font-size=\"13.00\">book_id</text>\n",
       "<polygon fill=\"#f5f5f5\" stroke=\"transparent\" points=\"152,-333 152,-357 203,-357 203,-333 152,-333\"/>\n",
       "<text text-anchor=\"start\" x=\"183\" y=\"-342.6\" font-family=\"-apple-system, BlinkMacSystemFont, 'Segoe UI', Helvetica, Arial, sans-serif, 'Apple Color Emoji', 'Segoe UI Emoji', 'Segoe UI Symbol'\" font-style=\"italic\" font-size=\"13.00\">int</text>\n",
       "<polygon fill=\"#ffffff\" stroke=\"transparent\" points=\"9,-309 9,-333 42,-333 42,-309 9,-309\"/>\n",
       "<text text-anchor=\"start\" x=\"14\" y=\"-318.6\" font-family=\"-apple-system, BlinkMacSystemFont, 'Segoe UI', Helvetica, Arial, sans-serif, 'Apple Color Emoji', 'Segoe UI Emoji', 'Segoe UI Symbol'\" font-weight=\"bold\" font-size=\"13.00\">key</text>\n",
       "<polygon fill=\"#ffffff\" stroke=\"transparent\" points=\"42,-309 42,-333 152,-333 152,-309 42,-309\"/>\n",
       "<text text-anchor=\"start\" x=\"47\" y=\"-317.6\" font-family=\"-apple-system, BlinkMacSystemFont, 'Segoe UI', Helvetica, Arial, sans-serif, 'Apple Color Emoji', 'Segoe UI Emoji', 'Segoe UI Symbol'\" font-size=\"13.00\">instrument_code</text>\n",
       "<polygon fill=\"#ffffff\" stroke=\"transparent\" points=\"152,-309 152,-333 203,-333 203,-309 152,-309\"/>\n",
       "<text text-anchor=\"start\" x=\"162\" y=\"-318.6\" font-family=\"-apple-system, BlinkMacSystemFont, 'Segoe UI', Helvetica, Arial, sans-serif, 'Apple Color Emoji', 'Segoe UI Emoji', 'Segoe UI Symbol'\" font-style=\"italic\" font-size=\"13.00\">String</text>\n",
       "<polygon fill=\"#f5f5f5\" stroke=\"transparent\" points=\"9,-285 9,-309 42,-309 42,-285 9,-285\"/>\n",
       "<polygon fill=\"#f5f5f5\" stroke=\"transparent\" points=\"42,-285 42,-309 152,-309 152,-285 42,-285\"/>\n",
       "<text text-anchor=\"start\" x=\"47\" y=\"-293.6\" font-family=\"-apple-system, BlinkMacSystemFont, 'Segoe UI', Helvetica, Arial, sans-serif, 'Apple Color Emoji', 'Segoe UI Emoji', 'Segoe UI Symbol'\" font-size=\"13.00\">notional</text>\n",
       "<polygon fill=\"#f5f5f5\" stroke=\"transparent\" points=\"152,-285 152,-309 203,-309 203,-285 152,-285\"/>\n",
       "<text text-anchor=\"start\" x=\"157\" y=\"-294.6\" font-family=\"-apple-system, BlinkMacSystemFont, 'Segoe UI', Helvetica, Arial, sans-serif, 'Apple Color Emoji', 'Segoe UI Emoji', 'Segoe UI Symbol'\" font-style=\"italic\" font-size=\"13.00\">double</text>\n",
       "<polygon fill=\"#ffffff\" stroke=\"transparent\" points=\"9,-261 9,-285 42,-285 42,-261 9,-261\"/>\n",
       "<text text-anchor=\"start\" x=\"14\" y=\"-270.6\" font-family=\"-apple-system, BlinkMacSystemFont, 'Segoe UI', Helvetica, Arial, sans-serif, 'Apple Color Emoji', 'Segoe UI Emoji', 'Segoe UI Symbol'\" font-weight=\"bold\" font-size=\"13.00\">key</text>\n",
       "<polygon fill=\"#ffffff\" stroke=\"transparent\" points=\"42,-261 42,-285 152,-285 152,-261 42,-261\"/>\n",
       "<text text-anchor=\"start\" x=\"47\" y=\"-269.6\" font-family=\"-apple-system, BlinkMacSystemFont, 'Segoe UI', Helvetica, Arial, sans-serif, 'Apple Color Emoji', 'Segoe UI Emoji', 'Segoe UI Symbol'\" font-size=\"13.00\">currency</text>\n",
       "<polygon fill=\"#ffffff\" stroke=\"transparent\" points=\"152,-261 152,-285 203,-285 203,-261 152,-261\"/>\n",
       "<text text-anchor=\"start\" x=\"162\" y=\"-270.6\" font-family=\"-apple-system, BlinkMacSystemFont, 'Segoe UI', Helvetica, Arial, sans-serif, 'Apple Color Emoji', 'Segoe UI Emoji', 'Segoe UI Symbol'\" font-style=\"italic\" font-size=\"13.00\">String</text>\n",
       "<polygon fill=\"#f5f5f5\" stroke=\"transparent\" points=\"9,-237 9,-261 42,-261 42,-237 9,-237\"/>\n",
       "<text text-anchor=\"start\" x=\"14\" y=\"-246.6\" font-family=\"-apple-system, BlinkMacSystemFont, 'Segoe UI', Helvetica, Arial, sans-serif, 'Apple Color Emoji', 'Segoe UI Emoji', 'Segoe UI Symbol'\" font-weight=\"bold\" font-size=\"13.00\">key</text>\n",
       "<polygon fill=\"#f5f5f5\" stroke=\"transparent\" points=\"42,-237 42,-261 152,-261 152,-237 42,-237\"/>\n",
       "<text text-anchor=\"start\" x=\"47\" y=\"-245.6\" font-family=\"-apple-system, BlinkMacSystemFont, 'Segoe UI', Helvetica, Arial, sans-serif, 'Apple Color Emoji', 'Segoe UI Emoji', 'Segoe UI Symbol'\" font-size=\"13.00\">curve</text>\n",
       "<polygon fill=\"#f5f5f5\" stroke=\"transparent\" points=\"152,-237 152,-261 203,-261 203,-237 152,-237\"/>\n",
       "<text text-anchor=\"start\" x=\"162\" y=\"-246.6\" font-family=\"-apple-system, BlinkMacSystemFont, 'Segoe UI', Helvetica, Arial, sans-serif, 'Apple Color Emoji', 'Segoe UI Emoji', 'Segoe UI Symbol'\" font-style=\"italic\" font-size=\"13.00\">String</text>\n",
       "<polygon fill=\"#ffffff\" stroke=\"transparent\" points=\"9,-213 9,-237 42,-237 42,-213 9,-213\"/>\n",
       "<text text-anchor=\"start\" x=\"14\" y=\"-222.6\" font-family=\"-apple-system, BlinkMacSystemFont, 'Segoe UI', Helvetica, Arial, sans-serif, 'Apple Color Emoji', 'Segoe UI Emoji', 'Segoe UI Symbol'\" font-weight=\"bold\" font-size=\"13.00\">key</text>\n",
       "<polygon fill=\"#ffffff\" stroke=\"transparent\" points=\"42,-213 42,-237 152,-237 152,-213 42,-213\"/>\n",
       "<text text-anchor=\"start\" x=\"47\" y=\"-221.6\" font-family=\"-apple-system, BlinkMacSystemFont, 'Segoe UI', Helvetica, Arial, sans-serif, 'Apple Color Emoji', 'Segoe UI Emoji', 'Segoe UI Symbol'\" font-size=\"13.00\">tenor</text>\n",
       "<polygon fill=\"#ffffff\" stroke=\"transparent\" points=\"152,-213 152,-237 203,-237 203,-213 152,-213\"/>\n",
       "<text text-anchor=\"start\" x=\"162\" y=\"-222.6\" font-family=\"-apple-system, BlinkMacSystemFont, 'Segoe UI', Helvetica, Arial, sans-serif, 'Apple Color Emoji', 'Segoe UI Emoji', 'Segoe UI Symbol'\" font-style=\"italic\" font-size=\"13.00\">String</text>\n",
       "<polygon fill=\"#f5f5f5\" stroke=\"transparent\" points=\"9,-189 9,-213 42,-213 42,-189 9,-189\"/>\n",
       "<polygon fill=\"#f5f5f5\" stroke=\"transparent\" points=\"42,-189 42,-213 152,-213 152,-189 42,-189\"/>\n",
       "<text text-anchor=\"start\" x=\"47\" y=\"-197.6\" font-family=\"-apple-system, BlinkMacSystemFont, 'Segoe UI', Helvetica, Arial, sans-serif, 'Apple Color Emoji', 'Segoe UI Emoji', 'Segoe UI Symbol'\" font-size=\"13.00\">sensi</text>\n",
       "<polygon fill=\"#f5f5f5\" stroke=\"transparent\" points=\"152,-189 152,-213 203,-213 203,-189 152,-189\"/>\n",
       "<text text-anchor=\"start\" x=\"157\" y=\"-198.6\" font-family=\"-apple-system, BlinkMacSystemFont, 'Segoe UI', Helvetica, Arial, sans-serif, 'Apple Color Emoji', 'Segoe UI Emoji', 'Segoe UI Symbol'\" font-style=\"italic\" font-size=\"13.00\">double</text>\n",
       "<polygon fill=\"none\" stroke=\"black\" points=\"8,-188 8,-382 204,-382 204,-188 8,-188\"/>\n",
       "</g>\n",
       "<!-- Trading Desk -->\n",
       "<g id=\"node2\" class=\"node\">\n",
       "<title>Trading Desk</title>\n",
       "<text text-anchor=\"start\" x=\"534\" y=\"-670.6\" font-family=\"-apple-system, BlinkMacSystemFont, 'Segoe UI', Helvetica, Arial, sans-serif, 'Apple Color Emoji', 'Segoe UI Emoji', 'Segoe UI Symbol'\" font-weight=\"bold\" font-size=\"13.00\">Trading Desk</text>\n",
       "<polygon fill=\"#f5f5f5\" stroke=\"transparent\" points=\"476.5,-637 476.5,-661 509.5,-661 509.5,-637 476.5,-637\"/>\n",
       "<text text-anchor=\"start\" x=\"481.5\" y=\"-646.6\" font-family=\"-apple-system, BlinkMacSystemFont, 'Segoe UI', Helvetica, Arial, sans-serif, 'Apple Color Emoji', 'Segoe UI Emoji', 'Segoe UI Symbol'\" font-weight=\"bold\" font-size=\"13.00\">key</text>\n",
       "<polygon fill=\"#f5f5f5\" stroke=\"transparent\" points=\"509.5,-637 509.5,-661 631.5,-661 631.5,-637 509.5,-637\"/>\n",
       "<text text-anchor=\"start\" x=\"514.5\" y=\"-645.6\" font-family=\"-apple-system, BlinkMacSystemFont, 'Segoe UI', Helvetica, Arial, sans-serif, 'Apple Color Emoji', 'Segoe UI Emoji', 'Segoe UI Symbol'\" font-size=\"13.00\">book_id</text>\n",
       "<polygon fill=\"#f5f5f5\" stroke=\"transparent\" points=\"631.5,-637 631.5,-661 677.5,-661 677.5,-637 631.5,-637\"/>\n",
       "<text text-anchor=\"start\" x=\"657.5\" y=\"-646.6\" font-family=\"-apple-system, BlinkMacSystemFont, 'Segoe UI', Helvetica, Arial, sans-serif, 'Apple Color Emoji', 'Segoe UI Emoji', 'Segoe UI Symbol'\" font-style=\"italic\" font-size=\"13.00\">int</text>\n",
       "<polygon fill=\"#ffffff\" stroke=\"transparent\" points=\"476.5,-613 476.5,-637 509.5,-637 509.5,-613 476.5,-613\"/>\n",
       "<polygon fill=\"#ffffff\" stroke=\"transparent\" points=\"509.5,-613 509.5,-637 631.5,-637 631.5,-613 509.5,-613\"/>\n",
       "<text text-anchor=\"start\" x=\"514.5\" y=\"-621.6\" font-family=\"-apple-system, BlinkMacSystemFont, 'Segoe UI', Helvetica, Arial, sans-serif, 'Apple Color Emoji', 'Segoe UI Emoji', 'Segoe UI Symbol'\" font-size=\"13.00\">book</text>\n",
       "<polygon fill=\"#ffffff\" stroke=\"transparent\" points=\"631.5,-613 631.5,-637 677.5,-637 677.5,-613 631.5,-613\"/>\n",
       "<text text-anchor=\"start\" x=\"636.5\" y=\"-622.6\" font-family=\"-apple-system, BlinkMacSystemFont, 'Segoe UI', Helvetica, Arial, sans-serif, 'Apple Color Emoji', 'Segoe UI Emoji', 'Segoe UI Symbol'\" font-style=\"italic\" font-size=\"13.00\">String</text>\n",
       "<polygon fill=\"#f5f5f5\" stroke=\"transparent\" points=\"476.5,-589 476.5,-613 509.5,-613 509.5,-589 476.5,-589\"/>\n",
       "<polygon fill=\"#f5f5f5\" stroke=\"transparent\" points=\"509.5,-589 509.5,-613 631.5,-613 631.5,-589 509.5,-589\"/>\n",
       "<text text-anchor=\"start\" x=\"514.5\" y=\"-597.6\" font-family=\"-apple-system, BlinkMacSystemFont, 'Segoe UI', Helvetica, Arial, sans-serif, 'Apple Color Emoji', 'Segoe UI Emoji', 'Segoe UI Symbol'\" font-size=\"13.00\">trading_desk</text>\n",
       "<polygon fill=\"#f5f5f5\" stroke=\"transparent\" points=\"631.5,-589 631.5,-613 677.5,-613 677.5,-589 631.5,-589\"/>\n",
       "<text text-anchor=\"start\" x=\"636.5\" y=\"-598.6\" font-family=\"-apple-system, BlinkMacSystemFont, 'Segoe UI', Helvetica, Arial, sans-serif, 'Apple Color Emoji', 'Segoe UI Emoji', 'Segoe UI Symbol'\" font-style=\"italic\" font-size=\"13.00\">String</text>\n",
       "<polygon fill=\"#ffffff\" stroke=\"transparent\" points=\"476.5,-565 476.5,-589 509.5,-589 509.5,-565 476.5,-565\"/>\n",
       "<polygon fill=\"#ffffff\" stroke=\"transparent\" points=\"509.5,-565 509.5,-589 631.5,-589 631.5,-565 509.5,-565\"/>\n",
       "<text text-anchor=\"start\" x=\"514.5\" y=\"-573.6\" font-family=\"-apple-system, BlinkMacSystemFont, 'Segoe UI', Helvetica, Arial, sans-serif, 'Apple Color Emoji', 'Segoe UI Emoji', 'Segoe UI Symbol'\" font-size=\"13.00\">sub_business_unit</text>\n",
       "<polygon fill=\"#ffffff\" stroke=\"transparent\" points=\"631.5,-565 631.5,-589 677.5,-589 677.5,-565 631.5,-565\"/>\n",
       "<text text-anchor=\"start\" x=\"636.5\" y=\"-574.6\" font-family=\"-apple-system, BlinkMacSystemFont, 'Segoe UI', Helvetica, Arial, sans-serif, 'Apple Color Emoji', 'Segoe UI Emoji', 'Segoe UI Symbol'\" font-style=\"italic\" font-size=\"13.00\">String</text>\n",
       "<polygon fill=\"#f5f5f5\" stroke=\"transparent\" points=\"476.5,-541 476.5,-565 509.5,-565 509.5,-541 476.5,-541\"/>\n",
       "<polygon fill=\"#f5f5f5\" stroke=\"transparent\" points=\"509.5,-541 509.5,-565 631.5,-565 631.5,-541 509.5,-541\"/>\n",
       "<text text-anchor=\"start\" x=\"514.5\" y=\"-549.6\" font-family=\"-apple-system, BlinkMacSystemFont, 'Segoe UI', Helvetica, Arial, sans-serif, 'Apple Color Emoji', 'Segoe UI Emoji', 'Segoe UI Symbol'\" font-size=\"13.00\">business_unit</text>\n",
       "<polygon fill=\"#f5f5f5\" stroke=\"transparent\" points=\"631.5,-541 631.5,-565 677.5,-565 677.5,-541 631.5,-541\"/>\n",
       "<text text-anchor=\"start\" x=\"636.5\" y=\"-550.6\" font-family=\"-apple-system, BlinkMacSystemFont, 'Segoe UI', Helvetica, Arial, sans-serif, 'Apple Color Emoji', 'Segoe UI Emoji', 'Segoe UI Symbol'\" font-style=\"italic\" font-size=\"13.00\">String</text>\n",
       "<polygon fill=\"#ffffff\" stroke=\"transparent\" points=\"476.5,-517 476.5,-541 509.5,-541 509.5,-517 476.5,-517\"/>\n",
       "<polygon fill=\"#ffffff\" stroke=\"transparent\" points=\"509.5,-517 509.5,-541 631.5,-541 631.5,-517 509.5,-517\"/>\n",
       "<text text-anchor=\"start\" x=\"514.5\" y=\"-525.6\" font-family=\"-apple-system, BlinkMacSystemFont, 'Segoe UI', Helvetica, Arial, sans-serif, 'Apple Color Emoji', 'Segoe UI Emoji', 'Segoe UI Symbol'\" font-size=\"13.00\">folio_id</text>\n",
       "<polygon fill=\"#ffffff\" stroke=\"transparent\" points=\"631.5,-517 631.5,-541 677.5,-541 677.5,-517 631.5,-517\"/>\n",
       "<text text-anchor=\"start\" x=\"657.5\" y=\"-526.6\" font-family=\"-apple-system, BlinkMacSystemFont, 'Segoe UI', Helvetica, Arial, sans-serif, 'Apple Color Emoji', 'Segoe UI Emoji', 'Segoe UI Symbol'\" font-style=\"italic\" font-size=\"13.00\">int</text>\n",
       "<polygon fill=\"#f5f5f5\" stroke=\"transparent\" points=\"476.5,-493 476.5,-517 509.5,-517 509.5,-493 476.5,-493\"/>\n",
       "<polygon fill=\"#f5f5f5\" stroke=\"transparent\" points=\"509.5,-493 509.5,-517 631.5,-517 631.5,-493 509.5,-493\"/>\n",
       "<text text-anchor=\"start\" x=\"514.5\" y=\"-501.6\" font-family=\"-apple-system, BlinkMacSystemFont, 'Segoe UI', Helvetica, Arial, sans-serif, 'Apple Color Emoji', 'Segoe UI Emoji', 'Segoe UI Symbol'\" font-size=\"13.00\">portfolio</text>\n",
       "<polygon fill=\"#f5f5f5\" stroke=\"transparent\" points=\"631.5,-493 631.5,-517 677.5,-517 677.5,-493 631.5,-493\"/>\n",
       "<text text-anchor=\"start\" x=\"636.5\" y=\"-502.6\" font-family=\"-apple-system, BlinkMacSystemFont, 'Segoe UI', Helvetica, Arial, sans-serif, 'Apple Color Emoji', 'Segoe UI Emoji', 'Segoe UI Symbol'\" font-style=\"italic\" font-size=\"13.00\">String</text>\n",
       "<polygon fill=\"#ffffff\" stroke=\"transparent\" points=\"476.5,-469 476.5,-493 509.5,-493 509.5,-469 476.5,-469\"/>\n",
       "<polygon fill=\"#ffffff\" stroke=\"transparent\" points=\"509.5,-469 509.5,-493 631.5,-493 631.5,-469 509.5,-469\"/>\n",
       "<text text-anchor=\"start\" x=\"514.5\" y=\"-477.6\" font-family=\"-apple-system, BlinkMacSystemFont, 'Segoe UI', Helvetica, Arial, sans-serif, 'Apple Color Emoji', 'Segoe UI Emoji', 'Segoe UI Symbol'\" font-size=\"13.00\">fund</text>\n",
       "<polygon fill=\"#ffffff\" stroke=\"transparent\" points=\"631.5,-469 631.5,-493 677.5,-493 677.5,-469 631.5,-469\"/>\n",
       "<text text-anchor=\"start\" x=\"636.5\" y=\"-478.6\" font-family=\"-apple-system, BlinkMacSystemFont, 'Segoe UI', Helvetica, Arial, sans-serif, 'Apple Color Emoji', 'Segoe UI Emoji', 'Segoe UI Symbol'\" font-style=\"italic\" font-size=\"13.00\">String</text>\n",
       "<polygon fill=\"#f5f5f5\" stroke=\"transparent\" points=\"476.5,-445 476.5,-469 509.5,-469 509.5,-445 476.5,-445\"/>\n",
       "<polygon fill=\"#f5f5f5\" stroke=\"transparent\" points=\"509.5,-445 509.5,-469 631.5,-469 631.5,-445 509.5,-445\"/>\n",
       "<text text-anchor=\"start\" x=\"514.5\" y=\"-453.6\" font-family=\"-apple-system, BlinkMacSystemFont, 'Segoe UI', Helvetica, Arial, sans-serif, 'Apple Color Emoji', 'Segoe UI Emoji', 'Segoe UI Symbol'\" font-size=\"13.00\">sub_asset_class</text>\n",
       "<polygon fill=\"#f5f5f5\" stroke=\"transparent\" points=\"631.5,-445 631.5,-469 677.5,-469 677.5,-445 631.5,-445\"/>\n",
       "<text text-anchor=\"start\" x=\"636.5\" y=\"-454.6\" font-family=\"-apple-system, BlinkMacSystemFont, 'Segoe UI', Helvetica, Arial, sans-serif, 'Apple Color Emoji', 'Segoe UI Emoji', 'Segoe UI Symbol'\" font-style=\"italic\" font-size=\"13.00\">String</text>\n",
       "<polygon fill=\"#ffffff\" stroke=\"transparent\" points=\"476.5,-421 476.5,-445 509.5,-445 509.5,-421 476.5,-421\"/>\n",
       "<polygon fill=\"#ffffff\" stroke=\"transparent\" points=\"509.5,-421 509.5,-445 631.5,-445 631.5,-421 509.5,-421\"/>\n",
       "<text text-anchor=\"start\" x=\"514.5\" y=\"-429.6\" font-family=\"-apple-system, BlinkMacSystemFont, 'Segoe UI', Helvetica, Arial, sans-serif, 'Apple Color Emoji', 'Segoe UI Emoji', 'Segoe UI Symbol'\" font-size=\"13.00\">asset_class</text>\n",
       "<polygon fill=\"#ffffff\" stroke=\"transparent\" points=\"631.5,-421 631.5,-445 677.5,-445 677.5,-421 631.5,-421\"/>\n",
       "<text text-anchor=\"start\" x=\"636.5\" y=\"-430.6\" font-family=\"-apple-system, BlinkMacSystemFont, 'Segoe UI', Helvetica, Arial, sans-serif, 'Apple Color Emoji', 'Segoe UI Emoji', 'Segoe UI Symbol'\" font-style=\"italic\" font-size=\"13.00\">String</text>\n",
       "<polygon fill=\"none\" stroke=\"black\" points=\"475,-420 475,-686 678,-686 678,-420 475,-420\"/>\n",
       "</g>\n",
       "<!-- Position Sensitivities Store&#45;&gt;Trading Desk -->\n",
       "<g id=\"edge3\" class=\"edge\">\n",
       "<title>Position Sensitivities Store-&gt;Trading Desk</title>\n",
       "<path fill=\"none\" stroke=\"black\" d=\"M212.14,-345.14C284.99,-386.82 382.06,-442.35 457.55,-485.53\"/>\n",
       "<polygon fill=\"black\" stroke=\"black\" points=\"456.23,-488.8 466.64,-490.73 459.7,-482.73 456.23,-488.8\"/>\n",
       "<text text-anchor=\"middle\" x=\"339.5\" y=\"-476.6\" font-family=\"-apple-system, BlinkMacSystemFont, 'Segoe UI', Helvetica, Arial, sans-serif, 'Apple Color Emoji', 'Segoe UI Emoji', 'Segoe UI Symbol'\" font-size=\"13.00\">book_id → book_id</text>\n",
       "</g>\n",
       "<!-- Position Store -->\n",
       "<g id=\"node3\" class=\"node\">\n",
       "<title>Position Store</title>\n",
       "<text text-anchor=\"start\" x=\"530.5\" y=\"-378.6\" font-family=\"-apple-system, BlinkMacSystemFont, 'Segoe UI', Helvetica, Arial, sans-serif, 'Apple Color Emoji', 'Segoe UI Emoji', 'Segoe UI Symbol'\" font-weight=\"bold\" font-size=\"13.00\">Position Store</text>\n",
       "<polygon fill=\"#f5f5f5\" stroke=\"transparent\" points=\"479.5,-345 479.5,-369 512.5,-369 512.5,-345 479.5,-345\"/>\n",
       "<text text-anchor=\"start\" x=\"484.5\" y=\"-354.6\" font-family=\"-apple-system, BlinkMacSystemFont, 'Segoe UI', Helvetica, Arial, sans-serif, 'Apple Color Emoji', 'Segoe UI Emoji', 'Segoe UI Symbol'\" font-weight=\"bold\" font-size=\"13.00\">key</text>\n",
       "<polygon fill=\"#f5f5f5\" stroke=\"transparent\" points=\"512.5,-345 512.5,-369 622.5,-369 622.5,-345 512.5,-345\"/>\n",
       "<text text-anchor=\"start\" x=\"517.5\" y=\"-353.6\" font-family=\"-apple-system, BlinkMacSystemFont, 'Segoe UI', Helvetica, Arial, sans-serif, 'Apple Color Emoji', 'Segoe UI Emoji', 'Segoe UI Symbol'\" font-size=\"13.00\">book_id</text>\n",
       "<polygon fill=\"#f5f5f5\" stroke=\"transparent\" points=\"622.5,-345 622.5,-369 673.5,-369 673.5,-345 622.5,-345\"/>\n",
       "<text text-anchor=\"start\" x=\"653.5\" y=\"-354.6\" font-family=\"-apple-system, BlinkMacSystemFont, 'Segoe UI', Helvetica, Arial, sans-serif, 'Apple Color Emoji', 'Segoe UI Emoji', 'Segoe UI Symbol'\" font-style=\"italic\" font-size=\"13.00\">int</text>\n",
       "<polygon fill=\"#ffffff\" stroke=\"transparent\" points=\"479.5,-321 479.5,-345 512.5,-345 512.5,-321 479.5,-321\"/>\n",
       "<text text-anchor=\"start\" x=\"484.5\" y=\"-330.6\" font-family=\"-apple-system, BlinkMacSystemFont, 'Segoe UI', Helvetica, Arial, sans-serif, 'Apple Color Emoji', 'Segoe UI Emoji', 'Segoe UI Symbol'\" font-weight=\"bold\" font-size=\"13.00\">key</text>\n",
       "<polygon fill=\"#ffffff\" stroke=\"transparent\" points=\"512.5,-321 512.5,-345 622.5,-345 622.5,-321 512.5,-321\"/>\n",
       "<text text-anchor=\"start\" x=\"517.5\" y=\"-329.6\" font-family=\"-apple-system, BlinkMacSystemFont, 'Segoe UI', Helvetica, Arial, sans-serif, 'Apple Color Emoji', 'Segoe UI Emoji', 'Segoe UI Symbol'\" font-size=\"13.00\">instrument_code</text>\n",
       "<polygon fill=\"#ffffff\" stroke=\"transparent\" points=\"622.5,-321 622.5,-345 673.5,-345 673.5,-321 622.5,-321\"/>\n",
       "<text text-anchor=\"start\" x=\"632.5\" y=\"-330.6\" font-family=\"-apple-system, BlinkMacSystemFont, 'Segoe UI', Helvetica, Arial, sans-serif, 'Apple Color Emoji', 'Segoe UI Emoji', 'Segoe UI Symbol'\" font-style=\"italic\" font-size=\"13.00\">String</text>\n",
       "<polygon fill=\"#f5f5f5\" stroke=\"transparent\" points=\"479.5,-297 479.5,-321 512.5,-321 512.5,-297 479.5,-297\"/>\n",
       "<polygon fill=\"#f5f5f5\" stroke=\"transparent\" points=\"512.5,-297 512.5,-321 622.5,-321 622.5,-297 512.5,-297\"/>\n",
       "<text text-anchor=\"start\" x=\"517.5\" y=\"-305.6\" font-family=\"-apple-system, BlinkMacSystemFont, 'Segoe UI', Helvetica, Arial, sans-serif, 'Apple Color Emoji', 'Segoe UI Emoji', 'Segoe UI Symbol'\" font-size=\"13.00\">maturity_date</text>\n",
       "<polygon fill=\"#f5f5f5\" stroke=\"transparent\" points=\"622.5,-297 622.5,-321 673.5,-321 673.5,-297 622.5,-297\"/>\n",
       "<text text-anchor=\"start\" x=\"653.5\" y=\"-306.6\" font-family=\"-apple-system, BlinkMacSystemFont, 'Segoe UI', Helvetica, Arial, sans-serif, 'Apple Color Emoji', 'Segoe UI Emoji', 'Segoe UI Symbol'\" font-style=\"italic\" font-size=\"13.00\">int</text>\n",
       "<polygon fill=\"#ffffff\" stroke=\"transparent\" points=\"479.5,-273 479.5,-297 512.5,-297 512.5,-273 479.5,-273\"/>\n",
       "<polygon fill=\"#ffffff\" stroke=\"transparent\" points=\"512.5,-273 512.5,-297 622.5,-297 622.5,-273 512.5,-273\"/>\n",
       "<text text-anchor=\"start\" x=\"517.5\" y=\"-281.6\" font-family=\"-apple-system, BlinkMacSystemFont, 'Segoe UI', Helvetica, Arial, sans-serif, 'Apple Color Emoji', 'Segoe UI Emoji', 'Segoe UI Symbol'\" font-size=\"13.00\">coupon_rate</text>\n",
       "<polygon fill=\"#ffffff\" stroke=\"transparent\" points=\"622.5,-273 622.5,-297 673.5,-297 673.5,-273 622.5,-273\"/>\n",
       "<text text-anchor=\"start\" x=\"627.5\" y=\"-282.6\" font-family=\"-apple-system, BlinkMacSystemFont, 'Segoe UI', Helvetica, Arial, sans-serif, 'Apple Color Emoji', 'Segoe UI Emoji', 'Segoe UI Symbol'\" font-style=\"italic\" font-size=\"13.00\">double</text>\n",
       "<polygon fill=\"#f5f5f5\" stroke=\"transparent\" points=\"479.5,-249 479.5,-273 512.5,-273 512.5,-249 479.5,-249\"/>\n",
       "<polygon fill=\"#f5f5f5\" stroke=\"transparent\" points=\"512.5,-249 512.5,-273 622.5,-273 622.5,-249 512.5,-249\"/>\n",
       "<text text-anchor=\"start\" x=\"517.5\" y=\"-257.6\" font-family=\"-apple-system, BlinkMacSystemFont, 'Segoe UI', Helvetica, Arial, sans-serif, 'Apple Color Emoji', 'Segoe UI Emoji', 'Segoe UI Symbol'\" font-size=\"13.00\">nominal</text>\n",
       "<polygon fill=\"#f5f5f5\" stroke=\"transparent\" points=\"622.5,-249 622.5,-273 673.5,-273 673.5,-249 622.5,-249\"/>\n",
       "<text text-anchor=\"start\" x=\"627.5\" y=\"-258.6\" font-family=\"-apple-system, BlinkMacSystemFont, 'Segoe UI', Helvetica, Arial, sans-serif, 'Apple Color Emoji', 'Segoe UI Emoji', 'Segoe UI Symbol'\" font-style=\"italic\" font-size=\"13.00\">double</text>\n",
       "<polygon fill=\"#ffffff\" stroke=\"transparent\" points=\"479.5,-225 479.5,-249 512.5,-249 512.5,-225 479.5,-225\"/>\n",
       "<polygon fill=\"#ffffff\" stroke=\"transparent\" points=\"512.5,-225 512.5,-249 622.5,-249 622.5,-225 512.5,-225\"/>\n",
       "<text text-anchor=\"start\" x=\"517.5\" y=\"-233.6\" font-family=\"-apple-system, BlinkMacSystemFont, 'Segoe UI', Helvetica, Arial, sans-serif, 'Apple Color Emoji', 'Segoe UI Emoji', 'Segoe UI Symbol'\" font-size=\"13.00\">currency</text>\n",
       "<polygon fill=\"#ffffff\" stroke=\"transparent\" points=\"622.5,-225 622.5,-249 673.5,-249 673.5,-225 622.5,-225\"/>\n",
       "<text text-anchor=\"start\" x=\"632.5\" y=\"-234.6\" font-family=\"-apple-system, BlinkMacSystemFont, 'Segoe UI', Helvetica, Arial, sans-serif, 'Apple Color Emoji', 'Segoe UI Emoji', 'Segoe UI Symbol'\" font-style=\"italic\" font-size=\"13.00\">String</text>\n",
       "<polygon fill=\"#f5f5f5\" stroke=\"transparent\" points=\"479.5,-201 479.5,-225 512.5,-225 512.5,-201 479.5,-201\"/>\n",
       "<polygon fill=\"#f5f5f5\" stroke=\"transparent\" points=\"512.5,-201 512.5,-225 622.5,-225 622.5,-201 512.5,-201\"/>\n",
       "<text text-anchor=\"start\" x=\"517.5\" y=\"-209.6\" font-family=\"-apple-system, BlinkMacSystemFont, 'Segoe UI', Helvetica, Arial, sans-serif, 'Apple Color Emoji', 'Segoe UI Emoji', 'Segoe UI Symbol'\" font-size=\"13.00\">curve</text>\n",
       "<polygon fill=\"#f5f5f5\" stroke=\"transparent\" points=\"622.5,-201 622.5,-225 673.5,-225 673.5,-201 622.5,-201\"/>\n",
       "<text text-anchor=\"start\" x=\"632.5\" y=\"-210.6\" font-family=\"-apple-system, BlinkMacSystemFont, 'Segoe UI', Helvetica, Arial, sans-serif, 'Apple Color Emoji', 'Segoe UI Emoji', 'Segoe UI Symbol'\" font-style=\"italic\" font-size=\"13.00\">String</text>\n",
       "<polygon fill=\"#ffffff\" stroke=\"transparent\" points=\"479.5,-177 479.5,-201 512.5,-201 512.5,-177 479.5,-177\"/>\n",
       "<polygon fill=\"#ffffff\" stroke=\"transparent\" points=\"512.5,-177 512.5,-201 622.5,-201 622.5,-177 512.5,-177\"/>\n",
       "<text text-anchor=\"start\" x=\"517.5\" y=\"-185.6\" font-family=\"-apple-system, BlinkMacSystemFont, 'Segoe UI', Helvetica, Arial, sans-serif, 'Apple Color Emoji', 'Segoe UI Emoji', 'Segoe UI Symbol'\" font-size=\"13.00\">issuer_country</text>\n",
       "<polygon fill=\"#ffffff\" stroke=\"transparent\" points=\"622.5,-177 622.5,-201 673.5,-201 673.5,-177 622.5,-177\"/>\n",
       "<text text-anchor=\"start\" x=\"632.5\" y=\"-186.6\" font-family=\"-apple-system, BlinkMacSystemFont, 'Segoe UI', Helvetica, Arial, sans-serif, 'Apple Color Emoji', 'Segoe UI Emoji', 'Segoe UI Symbol'\" font-style=\"italic\" font-size=\"13.00\">String</text>\n",
       "<polygon fill=\"none\" stroke=\"black\" points=\"478.5,-176 478.5,-394 674.5,-394 674.5,-176 478.5,-176\"/>\n",
       "</g>\n",
       "<!-- Position Sensitivities Store&#45;&gt;Position Store -->\n",
       "<g id=\"edge2\" class=\"edge\">\n",
       "<title>Position Sensitivities Store-&gt;Position Store</title>\n",
       "<path fill=\"none\" stroke=\"black\" d=\"M212.14,-285C285.85,-285 384.37,-285 460.23,-285\"/>\n",
       "<polygon fill=\"black\" stroke=\"black\" points=\"460.31,-288.5 470.31,-285 460.31,-281.5 460.31,-288.5\"/>\n",
       "<text text-anchor=\"middle\" x=\"339.5\" y=\"-302.6\" font-family=\"-apple-system, BlinkMacSystemFont, 'Segoe UI', Helvetica, Arial, sans-serif, 'Apple Color Emoji', 'Segoe UI Emoji', 'Segoe UI Symbol'\" font-size=\"13.00\">instrument_code → instrument_code</text>\n",
       "<text text-anchor=\"middle\" x=\"339.5\" y=\"-288.6\" font-family=\"-apple-system, BlinkMacSystemFont, 'Segoe UI', Helvetica, Arial, sans-serif, 'Apple Color Emoji', 'Segoe UI Emoji', 'Segoe UI Symbol'\" font-size=\"13.00\">book_id → book_id</text>\n",
       "</g>\n",
       "<!-- Market Data -->\n",
       "<g id=\"node4\" class=\"node\">\n",
       "<title>Market Data</title>\n",
       "<text text-anchor=\"start\" x=\"539\" y=\"-134.6\" font-family=\"-apple-system, BlinkMacSystemFont, 'Segoe UI', Helvetica, Arial, sans-serif, 'Apple Color Emoji', 'Segoe UI Emoji', 'Segoe UI Symbol'\" font-weight=\"bold\" font-size=\"13.00\">Market Data</text>\n",
       "<polygon fill=\"#f5f5f5\" stroke=\"transparent\" points=\"492.5,-101 492.5,-125 525.5,-125 525.5,-101 492.5,-101\"/>\n",
       "<text text-anchor=\"start\" x=\"497.5\" y=\"-110.6\" font-family=\"-apple-system, BlinkMacSystemFont, 'Segoe UI', Helvetica, Arial, sans-serif, 'Apple Color Emoji', 'Segoe UI Emoji', 'Segoe UI Symbol'\" font-weight=\"bold\" font-size=\"13.00\">key</text>\n",
       "<polygon fill=\"#f5f5f5\" stroke=\"transparent\" points=\"525.5,-101 525.5,-125 610.5,-125 610.5,-101 525.5,-101\"/>\n",
       "<text text-anchor=\"start\" x=\"530.5\" y=\"-109.6\" font-family=\"-apple-system, BlinkMacSystemFont, 'Segoe UI', Helvetica, Arial, sans-serif, 'Apple Color Emoji', 'Segoe UI Emoji', 'Segoe UI Symbol'\" font-size=\"13.00\">currency</text>\n",
       "<polygon fill=\"#f5f5f5\" stroke=\"transparent\" points=\"610.5,-101 610.5,-125 661.5,-125 661.5,-101 610.5,-101\"/>\n",
       "<text text-anchor=\"start\" x=\"620.5\" y=\"-110.6\" font-family=\"-apple-system, BlinkMacSystemFont, 'Segoe UI', Helvetica, Arial, sans-serif, 'Apple Color Emoji', 'Segoe UI Emoji', 'Segoe UI Symbol'\" font-style=\"italic\" font-size=\"13.00\">String</text>\n",
       "<polygon fill=\"#ffffff\" stroke=\"transparent\" points=\"492.5,-77 492.5,-101 525.5,-101 525.5,-77 492.5,-77\"/>\n",
       "<text text-anchor=\"start\" x=\"497.5\" y=\"-86.6\" font-family=\"-apple-system, BlinkMacSystemFont, 'Segoe UI', Helvetica, Arial, sans-serif, 'Apple Color Emoji', 'Segoe UI Emoji', 'Segoe UI Symbol'\" font-weight=\"bold\" font-size=\"13.00\">key</text>\n",
       "<polygon fill=\"#ffffff\" stroke=\"transparent\" points=\"525.5,-77 525.5,-101 610.5,-101 610.5,-77 525.5,-77\"/>\n",
       "<text text-anchor=\"start\" x=\"530.5\" y=\"-85.6\" font-family=\"-apple-system, BlinkMacSystemFont, 'Segoe UI', Helvetica, Arial, sans-serif, 'Apple Color Emoji', 'Segoe UI Emoji', 'Segoe UI Symbol'\" font-size=\"13.00\">curve</text>\n",
       "<polygon fill=\"#ffffff\" stroke=\"transparent\" points=\"610.5,-77 610.5,-101 661.5,-101 661.5,-77 610.5,-77\"/>\n",
       "<text text-anchor=\"start\" x=\"620.5\" y=\"-86.6\" font-family=\"-apple-system, BlinkMacSystemFont, 'Segoe UI', Helvetica, Arial, sans-serif, 'Apple Color Emoji', 'Segoe UI Emoji', 'Segoe UI Symbol'\" font-style=\"italic\" font-size=\"13.00\">String</text>\n",
       "<polygon fill=\"#f5f5f5\" stroke=\"transparent\" points=\"492.5,-53 492.5,-77 525.5,-77 525.5,-53 492.5,-53\"/>\n",
       "<text text-anchor=\"start\" x=\"497.5\" y=\"-62.6\" font-family=\"-apple-system, BlinkMacSystemFont, 'Segoe UI', Helvetica, Arial, sans-serif, 'Apple Color Emoji', 'Segoe UI Emoji', 'Segoe UI Symbol'\" font-weight=\"bold\" font-size=\"13.00\">key</text>\n",
       "<polygon fill=\"#f5f5f5\" stroke=\"transparent\" points=\"525.5,-53 525.5,-77 610.5,-77 610.5,-53 525.5,-53\"/>\n",
       "<text text-anchor=\"start\" x=\"530.5\" y=\"-61.6\" font-family=\"-apple-system, BlinkMacSystemFont, 'Segoe UI', Helvetica, Arial, sans-serif, 'Apple Color Emoji', 'Segoe UI Emoji', 'Segoe UI Symbol'\" font-size=\"13.00\">tenor</text>\n",
       "<polygon fill=\"#f5f5f5\" stroke=\"transparent\" points=\"610.5,-53 610.5,-77 661.5,-77 661.5,-53 610.5,-53\"/>\n",
       "<text text-anchor=\"start\" x=\"620.5\" y=\"-62.6\" font-family=\"-apple-system, BlinkMacSystemFont, 'Segoe UI', Helvetica, Arial, sans-serif, 'Apple Color Emoji', 'Segoe UI Emoji', 'Segoe UI Symbol'\" font-style=\"italic\" font-size=\"13.00\">String</text>\n",
       "<polygon fill=\"#ffffff\" stroke=\"transparent\" points=\"492.5,-29 492.5,-53 525.5,-53 525.5,-29 492.5,-29\"/>\n",
       "<polygon fill=\"#ffffff\" stroke=\"transparent\" points=\"525.5,-29 525.5,-53 610.5,-53 610.5,-29 525.5,-29\"/>\n",
       "<text text-anchor=\"start\" x=\"530.5\" y=\"-37.6\" font-family=\"-apple-system, BlinkMacSystemFont, 'Segoe UI', Helvetica, Arial, sans-serif, 'Apple Color Emoji', 'Segoe UI Emoji', 'Segoe UI Symbol'\" font-size=\"13.00\">start_of_day</text>\n",
       "<polygon fill=\"#ffffff\" stroke=\"transparent\" points=\"610.5,-29 610.5,-53 661.5,-53 661.5,-29 610.5,-29\"/>\n",
       "<text text-anchor=\"start\" x=\"615.5\" y=\"-38.6\" font-family=\"-apple-system, BlinkMacSystemFont, 'Segoe UI', Helvetica, Arial, sans-serif, 'Apple Color Emoji', 'Segoe UI Emoji', 'Segoe UI Symbol'\" font-style=\"italic\" font-size=\"13.00\">double</text>\n",
       "<polygon fill=\"#f5f5f5\" stroke=\"transparent\" points=\"492.5,-5 492.5,-29 525.5,-29 525.5,-5 492.5,-5\"/>\n",
       "<polygon fill=\"#f5f5f5\" stroke=\"transparent\" points=\"525.5,-5 525.5,-29 610.5,-29 610.5,-5 525.5,-5\"/>\n",
       "<text text-anchor=\"start\" x=\"530.5\" y=\"-13.6\" font-family=\"-apple-system, BlinkMacSystemFont, 'Segoe UI', Helvetica, Arial, sans-serif, 'Apple Color Emoji', 'Segoe UI Emoji', 'Segoe UI Symbol'\" font-size=\"13.00\">last</text>\n",
       "<polygon fill=\"#f5f5f5\" stroke=\"transparent\" points=\"610.5,-5 610.5,-29 661.5,-29 661.5,-5 610.5,-5\"/>\n",
       "<text text-anchor=\"start\" x=\"615.5\" y=\"-14.6\" font-family=\"-apple-system, BlinkMacSystemFont, 'Segoe UI', Helvetica, Arial, sans-serif, 'Apple Color Emoji', 'Segoe UI Emoji', 'Segoe UI Symbol'\" font-style=\"italic\" font-size=\"13.00\">double</text>\n",
       "<polygon fill=\"none\" stroke=\"black\" points=\"491,-4 491,-150 662,-150 662,-4 491,-4\"/>\n",
       "</g>\n",
       "<!-- Position Sensitivities Store&#45;&gt;Market Data -->\n",
       "<g id=\"edge1\" class=\"edge\">\n",
       "<title>Position Sensitivities Store-&gt;Market Data</title>\n",
       "<path fill=\"none\" stroke=\"black\" d=\"M212.14,-238.32C290.3,-203.62 396.36,-156.53 473.71,-122.19\"/>\n",
       "<polygon fill=\"black\" stroke=\"black\" points=\"475.27,-125.33 482.99,-118.07 472.43,-118.93 475.27,-125.33\"/>\n",
       "<text text-anchor=\"middle\" x=\"339.5\" y=\"-260.6\" font-family=\"-apple-system, BlinkMacSystemFont, 'Segoe UI', Helvetica, Arial, sans-serif, 'Apple Color Emoji', 'Segoe UI Emoji', 'Segoe UI Symbol'\" font-size=\"13.00\">tenor → tenor</text>\n",
       "<text text-anchor=\"middle\" x=\"339.5\" y=\"-246.6\" font-family=\"-apple-system, BlinkMacSystemFont, 'Segoe UI', Helvetica, Arial, sans-serif, 'Apple Color Emoji', 'Segoe UI Emoji', 'Segoe UI Symbol'\" font-size=\"13.00\">curve → curve</text>\n",
       "<text text-anchor=\"middle\" x=\"339.5\" y=\"-232.6\" font-family=\"-apple-system, BlinkMacSystemFont, 'Segoe UI', Helvetica, Arial, sans-serif, 'Apple Color Emoji', 'Segoe UI Emoji', 'Segoe UI Symbol'\" font-size=\"13.00\">currency → currency</text>\n",
       "</g>\n",
       "</g>\n",
       "</svg>"
      ],
      "text/plain": [
       "<IPython.core.display.SVG object>"
      ]
     },
     "execution_count": 15,
     "metadata": {},
     "output_type": "execute_result"
    }
   ],
   "source": [
    "position_sensitivity_cube.schema"
   ]
  },
  {
   "cell_type": "code",
   "execution_count": 16,
   "metadata": {},
   "outputs": [],
   "source": [
    "# We can now load all the data so that visualizations operate on the entire dataset.\n",
    "# NB: as a best practice, to optimize speed while exploring your data, we recommend keeping the default sampling mode enabled.\n",
    "#     Once the model is ready, as it is the case in this notebook, you may call session.load_all_data() after creating the cube.\n",
    "session.load_all_data()"
   ]
  },
  {
   "cell_type": "markdown",
   "metadata": {},
   "source": [
    "### Explore the Data Set as a Cube\n",
    "\n",
    "We have the option to visualize the cube in chart, feature-value, pivot-table or tabular.  \n",
    "Let's look at the sensitivity across currency for each asset class."
   ]
  },
  {
   "cell_type": "code",
   "execution_count": 17,
   "metadata": {
    "activeviam": {
     "state": {
      "name": "",
      "type": "container",
      "value": {
       "body": {
        "configuration": {
         "mapping": {
          "horizontal": [],
          "splitBy": [
           "[Hierarchies].[business_unit].[business_unit]"
          ],
          "values": [
           "[Measures].[sensi.SUM]"
          ],
          "vertical": [],
          "xAxis": [
           "[Hierarchies].[currency].[currency]"
          ]
         },
         "type": "plotly-clustered-column-chart"
        },
        "query": {
         "mdx": "SELECT NON EMPTY Crossjoin([Hierarchies].[currency].[currency].Members, [Hierarchies].[business_unit].[business_unit].Members) ON ROWS, NON EMPTY [Measures].[sensi.SUM] ON COLUMNS FROM (SELECT TopCount(Filter([Hierarchies].[book].Levels(1).Members, NOT IsEmpty([Measures].[sensi.SUM])), 5, [Measures].[sensi.SUM]) ON COLUMNS FROM [Position_Sensitivities]) CELL PROPERTIES VALUE, FORMATTED_VALUE, BACK_COLOR, FORE_COLOR, FONT_FLAGS",
         "serverUrl": "",
         "updateMode": "once"
        }
       },
       "containerKey": "chart",
       "showTitleBar": false,
       "style": {}
      }
     }
    },
    "atoti": {
     "state": {
      "name": "",
      "type": "container",
      "value": {
       "body": {
        "configuration": {
         "mapping": {
          "horizontal": [],
          "splitBy": [
           "[Hierarchies].[business_unit].[business_unit]"
          ],
          "values": [
           "[Measures].[sensi.SUM]"
          ],
          "vertical": [],
          "xAxis": [
           "[Hierarchies].[currency].[currency]"
          ]
         },
         "switchedTo": "plotly-clustered-bar-chart",
         "type": "plotly-line-chart"
        },
        "query": {
         "mdx": "SELECT NON EMPTY Crossjoin([Hierarchies].[currency].[currency].Members, [Hierarchies].[business_unit].[business_unit].Members) ON ROWS, NON EMPTY [Measures].[sensi.SUM] ON COLUMNS FROM [Position_Sensitivities] CELL PROPERTIES VALUE, FORMATTED_VALUE, BACK_COLOR, FORE_COLOR, FONT_FLAGS",
         "serverUrl": "",
         "updateMode": "once"
        }
       },
       "containerKey": "chart",
       "showTitleBar": false,
       "style": {}
      }
     }
    }
   },
   "outputs": [
    {
     "data": {
      "application/vnd.atoti.v0+json": {
       "cube": "Position_Sensitivities",
       "error": null,
       "name": null,
       "session": "Unnamed"
      },
      "text/html": [
       "<img src=\"data:image/svg+xml;charset=utf8,%3C%3Fxml%20version%3D%221.0%22%20standalone%3D%22no%22%3F%3E%3Csvg%20xmlns%3D%22http%3A%2F%2Fwww.w3.org%2F2000%2Fsvg%22%20xmlns%3Axlink%3D%22http%3A%2F%2Fwww.w3.org%2F1999%2Fxlink%22%20viewBox%3D%220%200%201308%20360%22%3E%3Cdefs%20id%3D%22defs-3a6df6%22%3E%3Cg%20class%3D%22clips%22%3E%3CclipPath%20id%3D%22clip3a6df6xyplot%22%20class%3D%22plotclip%22%3E%3Crect%20width%3D%221081%22%20height%3D%22250%22%2F%3E%3C%2FclipPath%3E%3CclipPath%20class%3D%22axesclip%22%20id%3D%22clip3a6df6x%22%3E%3Crect%20x%3D%2280%22%20y%3D%220%22%20width%3D%221081%22%20height%3D%22360%22%2F%3E%3C%2FclipPath%3E%3CclipPath%20class%3D%22axesclip%22%20id%3D%22clip3a6df6y%22%3E%3Crect%20x%3D%220%22%20y%3D%2230%22%20width%3D%221308%22%20height%3D%22250%22%2F%3E%3C%2FclipPath%3E%3CclipPath%20class%3D%22axesclip%22%20id%3D%22clip3a6df6xy%22%3E%3Crect%20x%3D%2280%22%20y%3D%2230%22%20width%3D%221081%22%20height%3D%22250%22%2F%3E%3C%2FclipPath%3E%3C%2Fg%3E%3Cg%20class%3D%22gradients%22%2F%3E%3C%2Fdefs%3E%3Cg%20class%3D%22bglayer%22%2F%3E%3Cg%20class%3D%22draglayer%20cursor-crosshair%22%3E%3Cg%20class%3D%22xy%22%3E%3Crect%20class%3D%22nsewdrag%20drag%22%20style%3D%22fill%3A%20transparent%3B%20stroke-width%3A%200px%3B%20pointer-events%3A%20all%3B%22%20data-subplot%3D%22xy%22%20x%3D%2280%22%20y%3D%2230%22%20width%3D%221081%22%20height%3D%22250%22%2F%3E%3Crect%20class%3D%22nwdrag%20drag%20cursor-nw-resize%22%20style%3D%22fill%3A%20transparent%3B%20stroke-width%3A%200px%3B%20pointer-events%3A%20all%3B%22%20data-subplot%3D%22xy%22%20x%3D%2260%22%20y%3D%2210%22%20width%3D%2220%22%20height%3D%2220%22%2F%3E%3Crect%20class%3D%22nedrag%20drag%20cursor-ne-resize%22%20style%3D%22fill%3A%20transparent%3B%20stroke-width%3A%200px%3B%20pointer-events%3A%20all%3B%22%20data-subplot%3D%22xy%22%20x%3D%221161%22%20y%3D%2210%22%20width%3D%2220%22%20height%3D%2220%22%2F%3E%3Crect%20class%3D%22swdrag%20drag%20cursor-sw-resize%22%20style%3D%22fill%3A%20transparent%3B%20stroke-width%3A%200px%3B%20pointer-events%3A%20all%3B%22%20data-subplot%3D%22xy%22%20x%3D%2260%22%20y%3D%22280%22%20width%3D%2220%22%20height%3D%2220%22%2F%3E%3Crect%20class%3D%22sedrag%20drag%20cursor-se-resize%22%20style%3D%22fill%3A%20transparent%3B%20stroke-width%3A%200px%3B%20pointer-events%3A%20all%3B%22%20data-subplot%3D%22xy%22%20x%3D%221161%22%20y%3D%22280%22%20width%3D%2220%22%20height%3D%2220%22%2F%3E%3Crect%20class%3D%22ewdrag%20drag%20cursor-ew-resize%22%20style%3D%22fill%3A%20transparent%3B%20stroke-width%3A%200px%3B%20pointer-events%3A%20all%3B%22%20data-subplot%3D%22xy%22%20x%3D%22188.10000000000002%22%20y%3D%22280.5%22%20width%3D%22864.8000000000001%22%20height%3D%2220%22%2F%3E%3Crect%20class%3D%22wdrag%20drag%20cursor-w-resize%22%20style%3D%22fill%3A%20transparent%3B%20stroke-width%3A%200px%3B%20pointer-events%3A%20all%3B%22%20data-subplot%3D%22xy%22%20x%3D%2280%22%20y%3D%22280.5%22%20width%3D%22108.10000000000001%22%20height%3D%2220%22%2F%3E%3Crect%20class%3D%22edrag%20drag%20cursor-e-resize%22%20style%3D%22fill%3A%20transparent%3B%20stroke-width%3A%200px%3B%20pointer-events%3A%20all%3B%22%20data-subplot%3D%22xy%22%20x%3D%221052.9%22%20y%3D%22280.5%22%20width%3D%22108.10000000000001%22%20height%3D%2220%22%2F%3E%3Crect%20class%3D%22nsdrag%20drag%20cursor-ns-resize%22%20style%3D%22fill%3A%20transparent%3B%20stroke-width%3A%200px%3B%20pointer-events%3A%20all%3B%22%20data-subplot%3D%22xy%22%20x%3D%2259.5%22%20y%3D%2255%22%20width%3D%2220%22%20height%3D%22200%22%2F%3E%3Crect%20class%3D%22sdrag%20drag%20cursor-s-resize%22%20style%3D%22fill%3A%20transparent%3B%20stroke-width%3A%200px%3B%20pointer-events%3A%20all%3B%22%20data-subplot%3D%22xy%22%20x%3D%2259.5%22%20y%3D%22255%22%20width%3D%2220%22%20height%3D%2225%22%2F%3E%3Crect%20class%3D%22ndrag%20drag%20cursor-n-resize%22%20style%3D%22fill%3A%20transparent%3B%20stroke-width%3A%200px%3B%20pointer-events%3A%20all%3B%22%20data-subplot%3D%22xy%22%20x%3D%2259.5%22%20y%3D%2230%22%20width%3D%2220%22%20height%3D%2225%22%2F%3E%3C%2Fg%3E%3C%2Fg%3E%3Cg%20class%3D%22layer-below%22%3E%3Cg%20class%3D%22imagelayer%22%2F%3E%3Cg%20class%3D%22shapelayer%22%2F%3E%3C%2Fg%3E%3Cg%20class%3D%22cartesianlayer%22%3E%3Cg%20class%3D%22subplot%20xy%22%3E%3Cg%20class%3D%22layer-subplot%22%3E%3Cg%20class%3D%22shapelayer%22%2F%3E%3Cg%20class%3D%22imagelayer%22%2F%3E%3C%2Fg%3E%3Cg%20class%3D%22gridlayer%22%3E%3Cg%20class%3D%22x%22%3E%3Cpath%20class%3D%22xgrid%20crisp%22%20transform%3D%22translate(283.76%2C0)%22%20d%3D%22M0%2C30v250%22%20style%3D%22stroke%3A%20rgb(0%2C%200%2C%200)%3B%20stroke-opacity%3A%200.1625%3B%20stroke-width%3A%201px%3B%22%2F%3E%3Cpath%20class%3D%22xgrid%20crisp%22%20transform%3D%22translate(487.52%2C0)%22%20d%3D%22M0%2C30v250%22%20style%3D%22stroke%3A%20rgb(0%2C%200%2C%200)%3B%20stroke-opacity%3A%200.1625%3B%20stroke-width%3A%201px%3B%22%2F%3E%3Cpath%20class%3D%22xgrid%20crisp%22%20transform%3D%22translate(691.28%2C0)%22%20d%3D%22M0%2C30v250%22%20style%3D%22stroke%3A%20rgb(0%2C%200%2C%200)%3B%20stroke-opacity%3A%200.1625%3B%20stroke-width%3A%201px%3B%22%2F%3E%3Cpath%20class%3D%22xgrid%20crisp%22%20transform%3D%22translate(895.04%2C0)%22%20d%3D%22M0%2C30v250%22%20style%3D%22stroke%3A%20rgb(0%2C%200%2C%200)%3B%20stroke-opacity%3A%200.1625%3B%20stroke-width%3A%201px%3B%22%2F%3E%3Cpath%20class%3D%22xgrid%20crisp%22%20transform%3D%22translate(1098.8%2C0)%22%20d%3D%22M0%2C30v250%22%20style%3D%22stroke%3A%20rgb(0%2C%200%2C%200)%3B%20stroke-opacity%3A%200.1625%3B%20stroke-width%3A%201px%3B%22%2F%3E%3C%2Fg%3E%3Cg%20class%3D%22y%22%3E%3Cpath%20class%3D%22ygrid%20crisp%22%20transform%3D%22translate(0%2C255)%22%20d%3D%22M80%2C0h1081%22%20style%3D%22stroke%3A%20rgb(0%2C%200%2C%200)%3B%20stroke-opacity%3A%200%3B%20stroke-width%3A%201px%3B%22%2F%3E%3Cpath%20class%3D%22ygrid%20crisp%22%20transform%3D%22translate(0%2C205)%22%20d%3D%22M80%2C0h1081%22%20style%3D%22stroke%3A%20rgb(0%2C%200%2C%200)%3B%20stroke-opacity%3A%200%3B%20stroke-width%3A%201px%3B%22%2F%3E%3Cpath%20class%3D%22ygrid%20crisp%22%20transform%3D%22translate(0%2C155)%22%20d%3D%22M80%2C0h1081%22%20style%3D%22stroke%3A%20rgb(0%2C%200%2C%200)%3B%20stroke-opacity%3A%200%3B%20stroke-width%3A%201px%3B%22%2F%3E%3Cpath%20class%3D%22ygrid%20crisp%22%20transform%3D%22translate(0%2C105)%22%20d%3D%22M80%2C0h1081%22%20style%3D%22stroke%3A%20rgb(0%2C%200%2C%200)%3B%20stroke-opacity%3A%200%3B%20stroke-width%3A%201px%3B%22%2F%3E%3Cpath%20class%3D%22ygrid%20crisp%22%20transform%3D%22translate(0%2C55)%22%20d%3D%22M80%2C0h1081%22%20style%3D%22stroke%3A%20rgb(0%2C%200%2C%200)%3B%20stroke-opacity%3A%200%3B%20stroke-width%3A%201px%3B%22%2F%3E%3C%2Fg%3E%3C%2Fg%3E%3Cg%20class%3D%22zerolinelayer%22%3E%3Cpath%20class%3D%22xzl%20zl%20crisp%22%20transform%3D%22translate(80%2C0)%22%20d%3D%22M0%2C30v250%22%20style%3D%22stroke%3A%20rgb(0%2C%200%2C%200)%3B%20stroke-opacity%3A%200.325%3B%20stroke-width%3A%201px%3B%22%2F%3E%3C%2Fg%3E%3Cpath%20class%3D%22xlines-below%22%2F%3E%3Cpath%20class%3D%22ylines-below%22%2F%3E%3Cg%20class%3D%22overlines-below%22%2F%3E%3Cg%20class%3D%22xaxislayer-below%22%2F%3E%3Cg%20class%3D%22yaxislayer-below%22%2F%3E%3Cg%20class%3D%22overaxes-below%22%2F%3E%3Cg%20class%3D%22plot%22%20transform%3D%22translate(80%2C%2030)%22%20clip-path%3D%22url('%23clip3a6df6xyplot')%22%3E%3Cg%20class%3D%22barlayer%20mlayer%22%3E%3Cg%20class%3D%22trace%20bars%22%20style%3D%22opacity%3A%201%3B%22%3E%3Cg%20class%3D%22points%22%3E%3Cg%20class%3D%22point%22%3E%3Cpath%20style%3D%22vector-effect%3A%20non-scaling-stroke%3B%20opacity%3A%201%3B%20stroke-width%3A%200px%3B%20fill%3A%20rgb(78%2C%20121%2C%20167)%3B%20fill-opacity%3A%201%3B%22%20d%3D%22M0%2C245V231.67H110.03V245Z%22%2F%3E%3C%2Fg%3E%3Cg%20class%3D%22point%22%3E%3Cpath%20style%3D%22vector-effect%3A%20non-scaling-stroke%3B%20opacity%3A%201%3B%20stroke-width%3A%200px%3B%20fill%3A%20rgb(78%2C%20121%2C%20167)%3B%20fill-opacity%3A%201%3B%22%20d%3D%22M0%2C195V181.67H146.71V195Z%22%2F%3E%3C%2Fg%3E%3Cg%20class%3D%22point%22%3E%3Cpath%20style%3D%22vector-effect%3A%20non-scaling-stroke%3B%20opacity%3A%201%3B%20stroke-width%3A%200px%3B%20fill%3A%20rgb(78%2C%20121%2C%20167)%3B%20fill-opacity%3A%201%3B%22%20d%3D%22M0%2C145V131.67H348.43V145Z%22%2F%3E%3C%2Fg%3E%3Cg%20class%3D%22point%22%3E%3Cpath%20style%3D%22vector-effect%3A%20non-scaling-stroke%3B%20opacity%3A%201%3B%20stroke-width%3A%200px%3B%20fill%3A%20rgb(78%2C%20121%2C%20167)%3B%20fill-opacity%3A%201%3B%22%20d%3D%22M0%2C95V81.67H91.69V95Z%22%2F%3E%3C%2Fg%3E%3Cg%20class%3D%22point%22%3E%3Cpath%20style%3D%22vector-effect%3A%20non-scaling-stroke%3B%20opacity%3A%201%3B%20stroke-width%3A%200px%3B%20fill%3A%20rgb(78%2C%20121%2C%20167)%3B%20fill-opacity%3A%201%3B%22%20d%3D%22M0%2C45V31.67H36.68V45Z%22%2F%3E%3C%2Fg%3E%3C%2Fg%3E%3C%2Fg%3E%3Cg%20class%3D%22trace%20bars%22%20style%3D%22opacity%3A%201%3B%22%3E%3Cg%20class%3D%22points%22%3E%3Cg%20class%3D%22point%22%3E%3Cpath%20style%3D%22vector-effect%3A%20non-scaling-stroke%3B%20opacity%3A%201%3B%20stroke-width%3A%200px%3B%20fill%3A%20rgb(242%2C%20142%2C%2044)%3B%20fill-opacity%3A%201%3B%22%20d%3D%22M0%2C231.67V218.33H128.37V231.67Z%22%2F%3E%3C%2Fg%3E%3Cg%20class%3D%22point%22%3E%3Cpath%20style%3D%22vector-effect%3A%20non-scaling-stroke%3B%20opacity%3A%201%3B%20stroke-width%3A%200px%3B%20fill%3A%20rgb(242%2C%20142%2C%2044)%3B%20fill-opacity%3A%201%3B%22%20d%3D%22M0%2C181.67V168.33H146.71V181.67Z%22%2F%3E%3C%2Fg%3E%3Cg%20class%3D%22point%22%3E%3Cpath%20style%3D%22vector-effect%3A%20non-scaling-stroke%3B%20opacity%3A%201%3B%20stroke-width%3A%200px%3B%20fill%3A%20rgb(242%2C%20142%2C%2044)%3B%20fill-opacity%3A%201%3B%22%20d%3D%22M0%2C131.67V118.33H568.49V131.67Z%22%2F%3E%3C%2Fg%3E%3Cg%20class%3D%22point%22%3E%3Cpath%20style%3D%22vector-effect%3A%20non-scaling-stroke%3B%20opacity%3A%201%3B%20stroke-width%3A%200px%3B%20fill%3A%20rgb(242%2C%20142%2C%2044)%3B%20fill-opacity%3A%201%3B%22%20d%3D%22M0%2C81.67V68.33H146.71V81.67Z%22%2F%3E%3C%2Fg%3E%3Cg%20class%3D%22point%22%3E%3Cpath%20style%3D%22vector-effect%3A%20non-scaling-stroke%3B%20opacity%3A%201%3B%20stroke-width%3A%200px%3B%20fill%3A%20rgb(242%2C%20142%2C%2044)%3B%20fill-opacity%3A%201%3B%22%20d%3D%22M0%2C31.67V18.33H110.03V31.67Z%22%2F%3E%3C%2Fg%3E%3C%2Fg%3E%3C%2Fg%3E%3Cg%20class%3D%22trace%20bars%22%20style%3D%22opacity%3A%201%3B%22%3E%3Cg%20class%3D%22points%22%3E%3Cg%20class%3D%22point%22%3E%3Cpath%20style%3D%22vector-effect%3A%20non-scaling-stroke%3B%20opacity%3A%201%3B%20stroke-width%3A%200px%3B%20fill%3A%20rgb(225%2C%2087%2C%2089)%3B%20fill-opacity%3A%201%3B%22%20d%3D%22M0%2C218.33V205H183.38V218.33Z%22%2F%3E%3C%2Fg%3E%3Cg%20class%3D%22point%22%3E%3Cpath%20style%3D%22vector-effect%3A%20non-scaling-stroke%3B%20opacity%3A%201%3B%20stroke-width%3A%200px%3B%20fill%3A%20rgb(225%2C%2087%2C%2089)%3B%20fill-opacity%3A%201%3B%22%20d%3D%22M0%2C168.33V155H146.71V168.33Z%22%2F%3E%3C%2Fg%3E%3Cg%20class%3D%22point%22%3E%3Cpath%20style%3D%22vector-effect%3A%20non-scaling-stroke%3B%20opacity%3A%201%3B%20stroke-width%3A%200px%3B%20fill%3A%20rgb(225%2C%2087%2C%2089)%3B%20fill-opacity%3A%201%3B%22%20d%3D%22M0%2C118.33V105H1026.95V118.33Z%22%2F%3E%3C%2Fg%3E%3Cg%20class%3D%22point%22%3E%3Cpath%20style%3D%22vector-effect%3A%20non-scaling-stroke%3B%20opacity%3A%201%3B%20stroke-width%3A%200px%3B%20fill%3A%20rgb(225%2C%2087%2C%2089)%3B%20fill-opacity%3A%201%3B%22%20d%3D%22M0%2C68.33V55H256.74V68.33Z%22%2F%3E%3C%2Fg%3E%3Cg%20class%3D%22point%22%3E%3Cpath%20style%3D%22vector-effect%3A%20non-scaling-stroke%3B%20opacity%3A%201%3B%20stroke-width%3A%200px%3B%20fill%3A%20rgb(225%2C%2087%2C%2089)%3B%20fill-opacity%3A%201%3B%22%20d%3D%22M0%2C18.33V5H220.06V18.33Z%22%2F%3E%3C%2Fg%3E%3C%2Fg%3E%3C%2Fg%3E%3C%2Fg%3E%3C%2Fg%3E%3Cg%20class%3D%22overplot%22%2F%3E%3Cpath%20class%3D%22xlines-above%20crisp%22%20style%3D%22fill%3A%20none%3B%20stroke-width%3A%201px%3B%20stroke%3A%20rgb(0%2C%200%2C%200)%3B%20stroke-opacity%3A%200.1625%3B%22%20d%3D%22M79%2C280.5H1161%22%2F%3E%3Cpath%20class%3D%22ylines-above%20crisp%22%20style%3D%22fill%3A%20none%3B%20stroke-width%3A%201px%3B%20stroke%3A%20rgb(0%2C%200%2C%200)%3B%20stroke-opacity%3A%200.1625%3B%22%20d%3D%22M79.5%2C30V280%22%2F%3E%3Cg%20class%3D%22overlines-above%22%2F%3E%3Cg%20class%3D%22xaxislayer-above%22%3E%3Cg%20class%3D%22xtick%22%3E%3Ctext%20text-anchor%3D%22middle%22%20x%3D%220%22%20y%3D%22295.4%22%20style%3D%22font-family%3A%20%26quot%3BOpen%20Sans%26quot%3B%2C%20verdana%2C%20arial%2C%20sans-serif%3B%20font-size%3A%2012px%3B%20fill%3A%20rgb(0%2C%200%2C%200)%3B%20fill-opacity%3A%200.65%3B%20white-space%3A%20pre%3B%22%20data-unformatted%3D%220%22%20data-math%3D%22N%22%20transform%3D%22translate(80%2C0)%22%3E0%3C%2Ftext%3E%3C%2Fg%3E%3Cg%20class%3D%22xtick%22%3E%3Ctext%20text-anchor%3D%22middle%22%20x%3D%220%22%20y%3D%22295.4%22%20style%3D%22font-family%3A%20%26quot%3BOpen%20Sans%26quot%3B%2C%20verdana%2C%20arial%2C%20sans-serif%3B%20font-size%3A%2012px%3B%20fill%3A%20rgb(0%2C%200%2C%200)%3B%20fill-opacity%3A%200.65%3B%20white-space%3A%20pre%3B%22%20data-unformatted%3D%221%22%20data-math%3D%22N%22%20transform%3D%22translate(283.76%2C0)%22%3E1%3C%2Ftext%3E%3C%2Fg%3E%3Cg%20class%3D%22xtick%22%3E%3Ctext%20text-anchor%3D%22middle%22%20x%3D%220%22%20y%3D%22295.4%22%20style%3D%22font-family%3A%20%26quot%3BOpen%20Sans%26quot%3B%2C%20verdana%2C%20arial%2C%20sans-serif%3B%20font-size%3A%2012px%3B%20fill%3A%20rgb(0%2C%200%2C%200)%3B%20fill-opacity%3A%200.65%3B%20white-space%3A%20pre%3B%22%20data-unformatted%3D%222%22%20data-math%3D%22N%22%20transform%3D%22translate(487.52%2C0)%22%3E2%3C%2Ftext%3E%3C%2Fg%3E%3Cg%20class%3D%22xtick%22%3E%3Ctext%20text-anchor%3D%22middle%22%20x%3D%220%22%20y%3D%22295.4%22%20style%3D%22font-family%3A%20%26quot%3BOpen%20Sans%26quot%3B%2C%20verdana%2C%20arial%2C%20sans-serif%3B%20font-size%3A%2012px%3B%20fill%3A%20rgb(0%2C%200%2C%200)%3B%20fill-opacity%3A%200.65%3B%20white-space%3A%20pre%3B%22%20data-unformatted%3D%223%22%20data-math%3D%22N%22%20transform%3D%22translate(691.28%2C0)%22%3E3%3C%2Ftext%3E%3C%2Fg%3E%3Cg%20class%3D%22xtick%22%3E%3Ctext%20text-anchor%3D%22middle%22%20x%3D%220%22%20y%3D%22295.4%22%20style%3D%22font-family%3A%20%26quot%3BOpen%20Sans%26quot%3B%2C%20verdana%2C%20arial%2C%20sans-serif%3B%20font-size%3A%2012px%3B%20fill%3A%20rgb(0%2C%200%2C%200)%3B%20fill-opacity%3A%200.65%3B%20white-space%3A%20pre%3B%22%20data-unformatted%3D%224%22%20data-math%3D%22N%22%20transform%3D%22translate(895.04%2C0)%22%3E4%3C%2Ftext%3E%3C%2Fg%3E%3Cg%20class%3D%22xtick%22%3E%3Ctext%20text-anchor%3D%22middle%22%20x%3D%220%22%20y%3D%22295.4%22%20style%3D%22font-family%3A%20%26quot%3BOpen%20Sans%26quot%3B%2C%20verdana%2C%20arial%2C%20sans-serif%3B%20font-size%3A%2012px%3B%20fill%3A%20rgb(0%2C%200%2C%200)%3B%20fill-opacity%3A%200.65%3B%20white-space%3A%20pre%3B%22%20data-unformatted%3D%225%22%20data-math%3D%22N%22%20transform%3D%22translate(1098.8%2C0)%22%3E5%3C%2Ftext%3E%3C%2Fg%3E%3C%2Fg%3E%3Cg%20class%3D%22yaxislayer-above%22%3E%3Cg%20class%3D%22ytick%22%3E%3Ctext%20text-anchor%3D%22end%22%20x%3D%2276.6%22%20y%3D%224.199999999999999%22%20style%3D%22font-family%3A%20%26quot%3BOpen%20Sans%26quot%3B%2C%20verdana%2C%20arial%2C%20sans-serif%3B%20font-size%3A%2012px%3B%20fill%3A%20rgb(0%2C%200%2C%200)%3B%20fill-opacity%3A%200.65%3B%20white-space%3A%20pre%3B%22%20data-unformatted%3D%22CHF%22%20data-math%3D%22N%22%20transform%3D%22translate(0%2C255)%22%3ECHF%3C%2Ftext%3E%3C%2Fg%3E%3Cg%20class%3D%22ytick%22%3E%3Ctext%20text-anchor%3D%22end%22%20x%3D%2276.6%22%20y%3D%224.199999999999999%22%20style%3D%22font-family%3A%20%26quot%3BOpen%20Sans%26quot%3B%2C%20verdana%2C%20arial%2C%20sans-serif%3B%20font-size%3A%2012px%3B%20fill%3A%20rgb(0%2C%200%2C%200)%3B%20fill-opacity%3A%200.65%3B%20white-space%3A%20pre%3B%22%20data-unformatted%3D%22DKK%22%20data-math%3D%22N%22%20transform%3D%22translate(0%2C205)%22%3EDKK%3C%2Ftext%3E%3C%2Fg%3E%3Cg%20class%3D%22ytick%22%3E%3Ctext%20text-anchor%3D%22end%22%20x%3D%2276.6%22%20y%3D%224.199999999999999%22%20style%3D%22font-family%3A%20%26quot%3BOpen%20Sans%26quot%3B%2C%20verdana%2C%20arial%2C%20sans-serif%3B%20font-size%3A%2012px%3B%20fill%3A%20rgb(0%2C%200%2C%200)%3B%20fill-opacity%3A%200.65%3B%20white-space%3A%20pre%3B%22%20data-unformatted%3D%22EUR%22%20data-math%3D%22N%22%20transform%3D%22translate(0%2C155)%22%3EEUR%3C%2Ftext%3E%3C%2Fg%3E%3Cg%20class%3D%22ytick%22%3E%3Ctext%20text-anchor%3D%22end%22%20x%3D%2276.6%22%20y%3D%224.199999999999999%22%20style%3D%22font-family%3A%20%26quot%3BOpen%20Sans%26quot%3B%2C%20verdana%2C%20arial%2C%20sans-serif%3B%20font-size%3A%2012px%3B%20fill%3A%20rgb(0%2C%200%2C%200)%3B%20fill-opacity%3A%200.65%3B%20white-space%3A%20pre%3B%22%20data-unformatted%3D%22GBP%22%20data-math%3D%22N%22%20transform%3D%22translate(0%2C105)%22%3EGBP%3C%2Ftext%3E%3C%2Fg%3E%3Cg%20class%3D%22ytick%22%3E%3Ctext%20text-anchor%3D%22end%22%20x%3D%2276.6%22%20y%3D%224.199999999999999%22%20style%3D%22font-family%3A%20%26quot%3BOpen%20Sans%26quot%3B%2C%20verdana%2C%20arial%2C%20sans-serif%3B%20font-size%3A%2012px%3B%20fill%3A%20rgb(0%2C%200%2C%200)%3B%20fill-opacity%3A%200.65%3B%20white-space%3A%20pre%3B%22%20data-unformatted%3D%22SEK%22%20data-math%3D%22N%22%20transform%3D%22translate(0%2C55)%22%3ESEK%3C%2Ftext%3E%3C%2Fg%3E%3C%2Fg%3E%3Cg%20class%3D%22overaxes-above%22%2F%3E%3C%2Fg%3E%3C%2Fg%3E%3Cg%20class%3D%22polarlayer%22%2F%3E%3Cg%20class%3D%22ternarylayer%22%2F%3E%3Cg%20class%3D%22geolayer%22%2F%3E%3Cg%20class%3D%22funnelarealayer%22%2F%3E%3Cg%20class%3D%22pielayer%22%2F%3E%3Cg%20class%3D%22treemaplayer%22%2F%3E%3Cg%20class%3D%22sunburstlayer%22%2F%3E%3Cg%20class%3D%22glimages%22%2F%3E%3Cdefs%20id%3D%22topdefs-3a6df6%22%3E%3Cg%20class%3D%22clips%22%2F%3E%3CclipPath%20id%3D%22legend3a6df6%22%3E%3Crect%20width%3D%22125%22%20height%3D%2287%22%20x%3D%220%22%20y%3D%220%22%2F%3E%3C%2FclipPath%3E%3C%2Fdefs%3E%3Cg%20class%3D%22indicatorlayer%22%2F%3E%3Cg%20class%3D%22layer-above%22%3E%3Cg%20class%3D%22imagelayer%22%2F%3E%3Cg%20class%3D%22shapelayer%22%2F%3E%3C%2Fg%3E%3Cg%20class%3D%22infolayer%22%3E%3Cg%20class%3D%22legend%22%20pointer-events%3D%22all%22%20transform%3D%22translate(1182.6200000000001%2C%2030)%22%3E%3Crect%20class%3D%22bg%22%20shape-rendering%3D%22crispEdges%22%20style%3D%22stroke%3A%20rgb(68%2C%2068%2C%2068)%3B%20stroke-opacity%3A%201%3B%20fill%3A%20rgb(255%2C%20255%2C%20255)%3B%20fill-opacity%3A%201%3B%20stroke-width%3A%200px%3B%22%20width%3D%22125%22%20height%3D%2287%22%20x%3D%220%22%20y%3D%220%22%2F%3E%3Cg%20class%3D%22scrollbox%22%20transform%3D%22translate(0%2C%200)%22%20clip-path%3D%22url('%23legend3a6df6')%22%3E%3Cg%20class%3D%22groups%22%20transform%3D%22translate(0%2C%200)%22%3E%3Cg%20class%3D%22traces%22%20style%3D%22opacity%3A%201%3B%22%20transform%3D%22translate(0%2C%2014.5)%22%3E%3Ctext%20class%3D%22legendtext%20user-select-none%22%20text-anchor%3D%22start%22%20style%3D%22font-family%3A%20%26quot%3BOpen%20Sans%26quot%3B%2C%20verdana%2C%20arial%2C%20sans-serif%3B%20font-size%3A%2012px%3B%20fill%3A%20rgb(0%2C%200%2C%200)%3B%20fill-opacity%3A%200.65%3B%20white-space%3A%20pre%3B%22%20x%3D%2240%22%20y%3D%224.680000000000001%22%20data-unformatted%3D%22Equity%22%20data-math%3D%22N%22%3EEquity%3C%2Ftext%3E%3Cg%20class%3D%22layers%22%20style%3D%22opacity%3A%201%3B%22%3E%3Cg%20class%3D%22legendfill%22%2F%3E%3Cg%20class%3D%22legendlines%22%2F%3E%3Cg%20class%3D%22legendsymbols%22%3E%3Cg%20class%3D%22legendpoints%22%3E%3Cpath%20class%3D%22legendundefined%22%20d%3D%22M6%2C6H-6V-6H6Z%22%20transform%3D%22translate(20%2C0)%22%20style%3D%22stroke-width%3A%200px%3B%20fill%3A%20rgb(78%2C%20121%2C%20167)%3B%20fill-opacity%3A%201%3B%22%2F%3E%3C%2Fg%3E%3C%2Fg%3E%3C%2Fg%3E%3Crect%20class%3D%22legendtoggle%22%20style%3D%22cursor%3A%20pointer%3B%20fill%3A%20rgb(0%2C%200%2C%200)%3B%20fill-opacity%3A%200%3B%22%20pointer-events%3D%22all%22%20x%3D%220%22%20y%3D%22-9.5%22%20width%3D%22120%22%20height%3D%2219%22%2F%3E%3C%2Fg%3E%3C%2Fg%3E%3Cg%20class%3D%22groups%22%20transform%3D%22translate(0%2C%2010)%22%3E%3Cg%20class%3D%22traces%22%20style%3D%22opacity%3A%201%3B%22%20transform%3D%22translate(0%2C%2033.5)%22%3E%3Ctext%20class%3D%22legendtext%20user-select-none%22%20text-anchor%3D%22start%22%20style%3D%22font-family%3A%20%26quot%3BOpen%20Sans%26quot%3B%2C%20verdana%2C%20arial%2C%20sans-serif%3B%20font-size%3A%2012px%3B%20fill%3A%20rgb(0%2C%200%2C%200)%3B%20fill-opacity%3A%200.65%3B%20white-space%3A%20pre%3B%22%20x%3D%2240%22%20y%3D%224.680000000000001%22%20data-unformatted%3D%22Forex%22%20data-math%3D%22N%22%3EForex%3C%2Ftext%3E%3Cg%20class%3D%22layers%22%20style%3D%22opacity%3A%201%3B%22%3E%3Cg%20class%3D%22legendfill%22%2F%3E%3Cg%20class%3D%22legendlines%22%2F%3E%3Cg%20class%3D%22legendsymbols%22%3E%3Cg%20class%3D%22legendpoints%22%3E%3Cpath%20class%3D%22legendundefined%22%20d%3D%22M6%2C6H-6V-6H6Z%22%20transform%3D%22translate(20%2C0)%22%20style%3D%22stroke-width%3A%200px%3B%20fill%3A%20rgb(242%2C%20142%2C%2044)%3B%20fill-opacity%3A%201%3B%22%2F%3E%3C%2Fg%3E%3C%2Fg%3E%3C%2Fg%3E%3Crect%20class%3D%22legendtoggle%22%20style%3D%22cursor%3A%20pointer%3B%20fill%3A%20rgb(0%2C%200%2C%200)%3B%20fill-opacity%3A%200%3B%22%20pointer-events%3D%22all%22%20x%3D%220%22%20y%3D%22-9.5%22%20width%3D%22120%22%20height%3D%2219%22%2F%3E%3C%2Fg%3E%3C%2Fg%3E%3Cg%20class%3D%22groups%22%20transform%3D%22translate(0%2C%2020)%22%3E%3Cg%20class%3D%22traces%22%20style%3D%22opacity%3A%201%3B%22%20transform%3D%22translate(0%2C%2052.5)%22%3E%3Ctext%20class%3D%22legendtext%20user-select-none%22%20text-anchor%3D%22start%22%20style%3D%22font-family%3A%20%26quot%3BOpen%20Sans%26quot%3B%2C%20verdana%2C%20arial%2C%20sans-serif%3B%20font-size%3A%2012px%3B%20fill%3A%20rgb(0%2C%200%2C%200)%3B%20fill-opacity%3A%200.65%3B%20white-space%3A%20pre%3B%22%20x%3D%2240%22%20y%3D%224.680000000000001%22%20data-unformatted%3D%22Rates%20%26amp%3B%20Credit%22%20data-math%3D%22N%22%3ERates%20%26amp%3B%20Credit%3C%2Ftext%3E%3Cg%20class%3D%22layers%22%20style%3D%22opacity%3A%201%3B%22%3E%3Cg%20class%3D%22legendfill%22%2F%3E%3Cg%20class%3D%22legendlines%22%2F%3E%3Cg%20class%3D%22legendsymbols%22%3E%3Cg%20class%3D%22legendpoints%22%3E%3Cpath%20class%3D%22legendundefined%22%20d%3D%22M6%2C6H-6V-6H6Z%22%20transform%3D%22translate(20%2C0)%22%20style%3D%22stroke-width%3A%200px%3B%20fill%3A%20rgb(225%2C%2087%2C%2089)%3B%20fill-opacity%3A%201%3B%22%2F%3E%3C%2Fg%3E%3C%2Fg%3E%3C%2Fg%3E%3Crect%20class%3D%22legendtoggle%22%20style%3D%22cursor%3A%20pointer%3B%20fill%3A%20rgb(0%2C%200%2C%200)%3B%20fill-opacity%3A%200%3B%22%20pointer-events%3D%22all%22%20x%3D%220%22%20y%3D%22-9.5%22%20width%3D%22120%22%20height%3D%2219%22%2F%3E%3C%2Fg%3E%3C%2Fg%3E%3C%2Fg%3E%3Crect%20class%3D%22scrollbar%22%20rx%3D%2220%22%20ry%3D%223%22%20width%3D%220%22%20height%3D%220%22%20style%3D%22fill%3A%20rgb(128%2C%20139%2C%20164)%3B%20fill-opacity%3A%201%3B%22%20x%3D%220%22%20y%3D%220%22%2F%3E%3C%2Fg%3E%3Cg%20class%3D%22g-gtitle%22%2F%3E%3Cg%20class%3D%22g-xtitle%22%2F%3E%3Cg%20class%3D%22g-ytitle%22%2F%3E%3C%2Fg%3E%3Cg%20class%3D%22menulayer%22%2F%3E%3Cg%20class%3D%22zoomlayer%22%2F%3E%3Cg%20class%3D%22hoverlayer%22%2F%3E%3C%2Fsvg%3E\">"
      ],
      "text/plain": [
       "Open the notebook in JupyterLab with the atoti extension installed and enabled to see this widget."
      ]
     },
     "metadata": {},
     "output_type": "display_data"
    }
   ],
   "source": [
    "position_sensitivity_cube.visualize()"
   ]
  },
  {
   "cell_type": "markdown",
   "metadata": {},
   "source": [
    "### Adding business logic calculation  \n",
    "  \n",
    "Let's assign a variable to the attributes of the cube, so that we can:  \n",
    "* create measures\n",
    "* create hierarchies "
   ]
  },
  {
   "cell_type": "code",
   "execution_count": 18,
   "metadata": {},
   "outputs": [],
   "source": [
    "m = position_sensitivity_cube.measures\n",
    "h = position_sensitivity_cube.hierarchies\n",
    "lvl = position_sensitivity_cube.levels"
   ]
  },
  {
   "cell_type": "markdown",
   "metadata": {},
   "source": [
    "Let's inspect what hierarchies have been automatically generated during cube creation"
   ]
  },
  {
   "cell_type": "code",
   "execution_count": 19,
   "metadata": {},
   "outputs": [
    {
     "data": {
      "application/json": {
       "Hierarchies": {
        "asset_class": [
         "asset_class"
        ],
        "book": [
         "book"
        ],
        "book_id": [
         "book_id"
        ],
        "business_unit": [
         "business_unit"
        ],
        "currency": [
         "currency"
        ],
        "curve": [
         "curve"
        ],
        "folio_id": [
         "folio_id"
        ],
        "fund": [
         "fund"
        ],
        "instrument_code": [
         "instrument_code"
        ],
        "issuer_country": [
         "issuer_country"
        ],
        "maturity_date": [
         "maturity_date"
        ],
        "portfolio": [
         "portfolio"
        ],
        "sub_asset_class": [
         "sub_asset_class"
        ],
        "sub_business_unit": [
         "sub_business_unit"
        ],
        "tenor": [
         "tenor"
        ],
        "trading_desk": [
         "trading_desk"
        ]
       }
      },
      "text/html": [
       "<ul>\n",
       "<li>Dimensions\n",
       "  <ul>\n",
       "  <li>Hierarchies\n",
       "    <ul>\n",
       "    <li>asset_class\n",
       "      <ol>\n",
       "      <li>asset_class</li>\n",
       "      </ol>    </li>\n",
       "    <li>book\n",
       "      <ol>\n",
       "      <li>book</li>\n",
       "      </ol>    </li>\n",
       "    <li>book_id\n",
       "      <ol>\n",
       "      <li>book_id</li>\n",
       "      </ol>    </li>\n",
       "    <li>business_unit\n",
       "      <ol>\n",
       "      <li>business_unit</li>\n",
       "      </ol>    </li>\n",
       "    <li>currency\n",
       "      <ol>\n",
       "      <li>currency</li>\n",
       "      </ol>    </li>\n",
       "    <li>curve\n",
       "      <ol>\n",
       "      <li>curve</li>\n",
       "      </ol>    </li>\n",
       "    <li>folio_id\n",
       "      <ol>\n",
       "      <li>folio_id</li>\n",
       "      </ol>    </li>\n",
       "    <li>fund\n",
       "      <ol>\n",
       "      <li>fund</li>\n",
       "      </ol>    </li>\n",
       "    <li>instrument_code\n",
       "      <ol>\n",
       "      <li>instrument_code</li>\n",
       "      </ol>    </li>\n",
       "    <li>issuer_country\n",
       "      <ol>\n",
       "      <li>issuer_country</li>\n",
       "      </ol>    </li>\n",
       "    <li>maturity_date\n",
       "      <ol>\n",
       "      <li>maturity_date</li>\n",
       "      </ol>    </li>\n",
       "    <li>portfolio\n",
       "      <ol>\n",
       "      <li>portfolio</li>\n",
       "      </ol>    </li>\n",
       "    <li>sub_asset_class\n",
       "      <ol>\n",
       "      <li>sub_asset_class</li>\n",
       "      </ol>    </li>\n",
       "    <li>sub_business_unit\n",
       "      <ol>\n",
       "      <li>sub_business_unit</li>\n",
       "      </ol>    </li>\n",
       "    <li>tenor\n",
       "      <ol>\n",
       "      <li>tenor</li>\n",
       "      </ol>    </li>\n",
       "    <li>trading_desk\n",
       "      <ol>\n",
       "      <li>trading_desk</li>\n",
       "      </ol>    </li>\n",
       "    </ul>\n",
       "  </li>\n",
       "  </ul>\n",
       "</li>\n",
       "</ul>\n"
      ],
      "text/plain": [
       "Hierarchies()"
      ]
     },
     "execution_count": 19,
     "metadata": {
      "application/json": {
       "expanded": true,
       "root": "Dimensions"
      }
     },
     "output_type": "execute_result"
    }
   ],
   "source": [
    "h"
   ]
  },
  {
   "cell_type": "markdown",
   "metadata": {},
   "source": [
    "Let's inspect what measures have been automatically generated during cube creation"
   ]
  },
  {
   "cell_type": "code",
   "execution_count": 20,
   "metadata": {},
   "outputs": [
    {
     "data": {
      "application/json": {
       "contributors.COUNT": {
        "formatter": null
       },
       "coupon_rate.VALUE": {
        "formatter": "DOUBLE[#,###.00]"
       },
       "last.VALUE": {
        "formatter": "DOUBLE[#,###.00]"
       },
       "nominal.VALUE": {
        "formatter": "DOUBLE[#,###.00]"
       },
       "notional.MEAN": {
        "formatter": "DOUBLE[#,###.00]"
       },
       "notional.SUM": {
        "formatter": "DOUBLE[#,###.00]"
       },
       "sensi.MEAN": {
        "formatter": "DOUBLE[#,###.00]"
       },
       "sensi.SUM": {
        "formatter": "DOUBLE[#,###.00]"
       },
       "start_of_day.VALUE": {
        "formatter": "DOUBLE[#,###.00]"
       }
      },
      "text/html": [
       "<ul>\n",
       "<li>Measures\n",
       "  <ul>\n",
       "  <li>contributors.COUNT\n",
       "    <ul>\n",
       "    <li>formatter: None</li>\n",
       "    </ul>\n",
       "  </li>\n",
       "  <li>coupon_rate.VALUE\n",
       "    <ul>\n",
       "    <li>formatter: DOUBLE[#,###.00]</li>\n",
       "    </ul>\n",
       "  </li>\n",
       "  <li>last.VALUE\n",
       "    <ul>\n",
       "    <li>formatter: DOUBLE[#,###.00]</li>\n",
       "    </ul>\n",
       "  </li>\n",
       "  <li>nominal.VALUE\n",
       "    <ul>\n",
       "    <li>formatter: DOUBLE[#,###.00]</li>\n",
       "    </ul>\n",
       "  </li>\n",
       "  <li>notional.MEAN\n",
       "    <ul>\n",
       "    <li>formatter: DOUBLE[#,###.00]</li>\n",
       "    </ul>\n",
       "  </li>\n",
       "  <li>notional.SUM\n",
       "    <ul>\n",
       "    <li>formatter: DOUBLE[#,###.00]</li>\n",
       "    </ul>\n",
       "  </li>\n",
       "  <li>sensi.MEAN\n",
       "    <ul>\n",
       "    <li>formatter: DOUBLE[#,###.00]</li>\n",
       "    </ul>\n",
       "  </li>\n",
       "  <li>sensi.SUM\n",
       "    <ul>\n",
       "    <li>formatter: DOUBLE[#,###.00]</li>\n",
       "    </ul>\n",
       "  </li>\n",
       "  <li>start_of_day.VALUE\n",
       "    <ul>\n",
       "    <li>formatter: DOUBLE[#,###.00]</li>\n",
       "    </ul>\n",
       "  </li>\n",
       "  </ul>\n",
       "</li>\n",
       "</ul>\n"
      ],
      "text/plain": [
       "Measures()"
      ]
     },
     "execution_count": 20,
     "metadata": {
      "application/json": {
       "expanded": false,
       "root": "Measures"
      }
     },
     "output_type": "execute_result"
    }
   ],
   "source": [
    "m"
   ]
  },
  {
   "cell_type": "markdown",
   "metadata": {},
   "source": [
    "#### Creating Measures\n",
    "\n",
    "From the *Market Data* store, we have the *start of day* and *end of day* value which we used to calculate the change in yields.  \n",
    "We derive our Delta by applying `sensi.SUM` to the [notional](https://www.investopedia.com/terms/n/notionalvalue.asp). We, then apply Delta to our change in yield to get the impact of prices:\n",
    "  \n",
    "$Theoretical Pnl = (Delta) \\times (Yield Change)$  \n",
    "\n",
    "We will aggregate the *Theoretical PnL* over the levels listed in the scope below as we will be exploring the measure over these levels."
   ]
  },
  {
   "cell_type": "code",
   "execution_count": 21,
   "metadata": {},
   "outputs": [],
   "source": [
    "m[\"Theoretical PnL\"] = tt.agg.sum(\n",
    "    m[\"sensi.SUM\"] * (m[\"last.VALUE\"] - m[\"start_of_day.VALUE\"]) * m[\"notional.SUM\"],\n",
    "    scope=tt.scope.origin(\n",
    "        lvl[\"currency\"],\n",
    "        lvl[\"curve\"],\n",
    "        lvl[\"tenor\"],\n",
    "        lvl[\"book_id\"],\n",
    "        lvl[\"instrument_code\"],\n",
    "    ),\n",
    ")"
   ]
  },
  {
   "cell_type": "markdown",
   "metadata": {},
   "source": [
    "### Adding new multi-level hierarchy for portfolio structure  \n",
    "\n",
    "Based on the data that are of interest to the [Buy-Side](https://www.investopedia.com/terms/b/buyside.asp) and [Sell-Side](https://www.investopedia.com/terms/s/sellside.asp), we are going to see how we can structure hierarchies to facilitate the navigation of data in a cube.  "
   ]
  },
  {
   "cell_type": "markdown",
   "metadata": {},
   "source": [
    "#### Asset Mangement : Buy-Side  \n",
    "\n",
    "*Buy-Side* purchases stocks, securities and other financial products, according to the needs and strategy of a portfolio.  \n",
    "It would make data navigation more intuitive to create an *Investment Portfolio Hierarchy* that has Asset Class, Sub Asset Class, Fund and Portfolio as levels.  \n",
    "We would be able to have a global view over the Asset Class level.  \n",
    "If we needed more granular information, we could easily drill-down to the Sub Asset class, Fund and all the way down to the portfolio holding the Asset."
   ]
  },
  {
   "cell_type": "code",
   "execution_count": 22,
   "metadata": {},
   "outputs": [],
   "source": [
    "h[\"Investment Portfolio Hierarchy\"] = {\n",
    "    \"Asset Class\": position_sensitivity_cube.levels[\"asset_class\"],\n",
    "    \"Sub Asset Class\": position_sensitivity_cube.levels[\"sub_asset_class\"],\n",
    "    \"Fund\": position_sensitivity_cube.levels[\"fund\"],\n",
    "    \"Portfolio\": position_sensitivity_cube.levels[\"portfolio\"],\n",
    "}"
   ]
  },
  {
   "cell_type": "markdown",
   "metadata": {},
   "source": [
    "#### Investment Banks : Sell-Side  \n",
    "\n",
    "*Sell-Side* help companies to raise debt and equity capital and then sell those securities to the *Buy-Side*.  \\\n",
    "*Sell-Side* would then be interested in having a global view over the *Business Unit* such as Rates & Credit, Forex, Equity etc.    \n",
    "They could then drill-down to the *Sub Business Unit* to see its performance, the *Trading Desk* and all the way to the *Book* level."
   ]
  },
  {
   "cell_type": "code",
   "execution_count": 23,
   "metadata": {},
   "outputs": [],
   "source": [
    "h[\"Trading Book Hierarchy\"] = {\n",
    "    \"Business Unit\": lvl[\"business_unit\"],\n",
    "    \"Sub Business Unit\": lvl[\"sub_business_unit\"],\n",
    "    \"Trading Desk\": lvl[\"trading_desk\"],\n",
    "    \"Book\": lvl[\"book\"],\n",
    "}"
   ]
  },
  {
   "cell_type": "markdown",
   "metadata": {},
   "source": [
    "### Explore the Theoretical PnL by Investment Portfolio Hierarchy\n",
    "\n",
    "We shall explore the Theoretical PnL from the Buy-Side perspective.  \n",
    "  \n",
    "Let's visualize the data in a chart to see the spread of the *Theoretical PnL* across the funds for each *Asset Class*."
   ]
  },
  {
   "cell_type": "code",
   "execution_count": 24,
   "metadata": {
    "activeviam": {
     "state": {
      "name": "",
      "type": "container",
      "value": {
       "body": {
        "configuration": {
         "mapping": {
          "stackBy": [
           "[Hierarchies].[Investment Portfolio Hierarchy].[Fund]"
          ],
          "values": [
           "[Measures].[Theoretical PnL]"
          ],
          "xAxis": [
           "[Hierarchies].[Investment Portfolio Hierarchy].[Asset Class]"
          ]
         },
         "type": "plotly-100-stacked-column-chart"
        },
        "query": {
         "mdx": "SELECT NON EMPTY [Measures].[Theoretical PnL] ON COLUMNS, NON EMPTY [Hierarchies].[Investment Portfolio Hierarchy].[Fund].Members ON ROWS FROM [Position_Sensitivities] CELL PROPERTIES VALUE, FORMATTED_VALUE, BACK_COLOR, FORE_COLOR, FONT_FLAGS",
         "serverUrl": "",
         "updateMode": "once"
        }
       },
       "containerKey": "chart",
       "showTitleBar": false,
       "style": {}
      }
     }
    },
    "atoti": {
     "state": {
      "name": "Theoretical PnL spread across funds",
      "type": "container",
      "value": {
       "body": {
        "configuration": {
         "mapping": {
          "stackBy": [
           "[Hierarchies].[Investment Portfolio Hierarchy].[Fund]"
          ],
          "values": [
           "[Measures].[Theoretical PnL]"
          ],
          "xAxis": [
           "[Hierarchies].[Investment Portfolio Hierarchy].[Asset Class]"
          ]
         },
         "type": "plotly-100-stacked-column-chart"
        },
        "query": {
         "mdx": "SELECT NON EMPTY [Hierarchies].[Investment Portfolio Hierarchy].[Fund].Members ON ROWS, NON EMPTY [Measures].[Theoretical PnL] ON COLUMNS FROM [Position_Sensitivities] CELL PROPERTIES VALUE, FORMATTED_VALUE, BACK_COLOR, FORE_COLOR, FONT_FLAGS",
         "serverUrl": "",
         "updateMode": "once"
        }
       },
       "containerKey": "chart",
       "showTitleBar": false,
       "style": {}
      }
     }
    }
   },
   "outputs": [
    {
     "data": {
      "application/vnd.atoti.v0+json": {
       "cube": "Position_Sensitivities",
       "error": null,
       "name": "Theoretical PnL spread across funds",
       "session": "Unnamed"
      },
      "text/html": [
       "<img src=\"data:image/svg+xml;charset=utf8,%3C%3Fxml%20version%3D%221.0%22%20standalone%3D%22no%22%3F%3E%3Csvg%20xmlns%3D%22http%3A%2F%2Fwww.w3.org%2F2000%2Fsvg%22%20xmlns%3Axlink%3D%22http%3A%2F%2Fwww.w3.org%2F1999%2Fxlink%22%20viewBox%3D%220%200%201308%20360%22%3E%3Cdefs%20id%3D%22defs-19d60c%22%3E%3Cg%20class%3D%22clips%22%3E%3CclipPath%20id%3D%22clip19d60cxyplot%22%20class%3D%22plotclip%22%3E%3Crect%20width%3D%22898%22%20height%3D%22250%22%2F%3E%3C%2FclipPath%3E%3CclipPath%20class%3D%22axesclip%22%20id%3D%22clip19d60cx%22%3E%3Crect%20x%3D%2280%22%20y%3D%220%22%20width%3D%22898%22%20height%3D%22360%22%2F%3E%3C%2FclipPath%3E%3CclipPath%20class%3D%22axesclip%22%20id%3D%22clip19d60cy%22%3E%3Crect%20x%3D%220%22%20y%3D%2230%22%20width%3D%221308%22%20height%3D%22250%22%2F%3E%3C%2FclipPath%3E%3CclipPath%20class%3D%22axesclip%22%20id%3D%22clip19d60cxy%22%3E%3Crect%20x%3D%2280%22%20y%3D%2230%22%20width%3D%22898%22%20height%3D%22250%22%2F%3E%3C%2FclipPath%3E%3C%2Fg%3E%3Cg%20class%3D%22gradients%22%2F%3E%3C%2Fdefs%3E%3Cg%20class%3D%22bglayer%22%2F%3E%3Cg%20class%3D%22draglayer%20cursor-crosshair%22%3E%3Cg%20class%3D%22xy%22%3E%3Crect%20class%3D%22nsewdrag%20drag%22%20style%3D%22fill%3A%20transparent%3B%20stroke-width%3A%200px%3B%20pointer-events%3A%20all%3B%22%20data-subplot%3D%22xy%22%20x%3D%2280%22%20y%3D%2230%22%20width%3D%22898%22%20height%3D%22250%22%2F%3E%3Crect%20class%3D%22nwdrag%20drag%20cursor-nw-resize%22%20style%3D%22fill%3A%20transparent%3B%20stroke-width%3A%200px%3B%20pointer-events%3A%20all%3B%22%20data-subplot%3D%22xy%22%20x%3D%2260%22%20y%3D%2210%22%20width%3D%2220%22%20height%3D%2220%22%2F%3E%3Crect%20class%3D%22nedrag%20drag%20cursor-ne-resize%22%20style%3D%22fill%3A%20transparent%3B%20stroke-width%3A%200px%3B%20pointer-events%3A%20all%3B%22%20data-subplot%3D%22xy%22%20x%3D%22978%22%20y%3D%2210%22%20width%3D%2220%22%20height%3D%2220%22%2F%3E%3Crect%20class%3D%22swdrag%20drag%20cursor-sw-resize%22%20style%3D%22fill%3A%20transparent%3B%20stroke-width%3A%200px%3B%20pointer-events%3A%20all%3B%22%20data-subplot%3D%22xy%22%20x%3D%2260%22%20y%3D%22280%22%20width%3D%2220%22%20height%3D%2220%22%2F%3E%3Crect%20class%3D%22sedrag%20drag%20cursor-se-resize%22%20style%3D%22fill%3A%20transparent%3B%20stroke-width%3A%200px%3B%20pointer-events%3A%20all%3B%22%20data-subplot%3D%22xy%22%20x%3D%22978%22%20y%3D%22280%22%20width%3D%2220%22%20height%3D%2220%22%2F%3E%3Crect%20class%3D%22ewdrag%20drag%20cursor-ew-resize%22%20style%3D%22fill%3A%20transparent%3B%20stroke-width%3A%200px%3B%20pointer-events%3A%20all%3B%22%20data-subplot%3D%22xy%22%20x%3D%22169.8%22%20y%3D%22280.5%22%20width%3D%22718.4000000000001%22%20height%3D%2220%22%2F%3E%3Crect%20class%3D%22wdrag%20drag%20cursor-w-resize%22%20style%3D%22fill%3A%20transparent%3B%20stroke-width%3A%200px%3B%20pointer-events%3A%20all%3B%22%20data-subplot%3D%22xy%22%20x%3D%2280%22%20y%3D%22280.5%22%20width%3D%2289.80000000000001%22%20height%3D%2220%22%2F%3E%3Crect%20class%3D%22edrag%20drag%20cursor-e-resize%22%20style%3D%22fill%3A%20transparent%3B%20stroke-width%3A%200px%3B%20pointer-events%3A%20all%3B%22%20data-subplot%3D%22xy%22%20x%3D%22888.2%22%20y%3D%22280.5%22%20width%3D%2289.80000000000001%22%20height%3D%2220%22%2F%3E%3Crect%20class%3D%22nsdrag%20drag%20cursor-ns-resize%22%20style%3D%22fill%3A%20transparent%3B%20stroke-width%3A%200px%3B%20pointer-events%3A%20all%3B%22%20data-subplot%3D%22xy%22%20x%3D%2259.5%22%20y%3D%2255%22%20width%3D%2220%22%20height%3D%22200%22%2F%3E%3Crect%20class%3D%22sdrag%20drag%20cursor-s-resize%22%20style%3D%22fill%3A%20transparent%3B%20stroke-width%3A%200px%3B%20pointer-events%3A%20all%3B%22%20data-subplot%3D%22xy%22%20x%3D%2259.5%22%20y%3D%22255%22%20width%3D%2220%22%20height%3D%2225%22%2F%3E%3Crect%20class%3D%22ndrag%20drag%20cursor-n-resize%22%20style%3D%22fill%3A%20transparent%3B%20stroke-width%3A%200px%3B%20pointer-events%3A%20all%3B%22%20data-subplot%3D%22xy%22%20x%3D%2259.5%22%20y%3D%2230%22%20width%3D%2220%22%20height%3D%2225%22%2F%3E%3C%2Fg%3E%3C%2Fg%3E%3Cg%20class%3D%22layer-below%22%3E%3Cg%20class%3D%22imagelayer%22%2F%3E%3Cg%20class%3D%22shapelayer%22%2F%3E%3C%2Fg%3E%3Cg%20class%3D%22cartesianlayer%22%3E%3Cg%20class%3D%22subplot%20xy%22%3E%3Cg%20class%3D%22layer-subplot%22%3E%3Cg%20class%3D%22shapelayer%22%2F%3E%3Cg%20class%3D%22imagelayer%22%2F%3E%3C%2Fg%3E%3Cg%20class%3D%22gridlayer%22%3E%3Cg%20class%3D%22x%22%3E%3Cpath%20class%3D%22xgrid%20crisp%22%20transform%3D%22translate(229.67%2C0)%22%20d%3D%22M0%2C30v250%22%20style%3D%22stroke%3A%20rgb(0%2C%200%2C%200)%3B%20stroke-opacity%3A%200%3B%20stroke-width%3A%201px%3B%22%2F%3E%3Cpath%20class%3D%22xgrid%20crisp%22%20transform%3D%22translate(529%2C0)%22%20d%3D%22M0%2C30v250%22%20style%3D%22stroke%3A%20rgb(0%2C%200%2C%200)%3B%20stroke-opacity%3A%200%3B%20stroke-width%3A%201px%3B%22%2F%3E%3Cpath%20class%3D%22xgrid%20crisp%22%20transform%3D%22translate(828.33%2C0)%22%20d%3D%22M0%2C30v250%22%20style%3D%22stroke%3A%20rgb(0%2C%200%2C%200)%3B%20stroke-opacity%3A%200%3B%20stroke-width%3A%201px%3B%22%2F%3E%3C%2Fg%3E%3Cg%20class%3D%22y%22%3E%3Cpath%20class%3D%22ygrid%20crisp%22%20transform%3D%22translate(0%2C232.5)%22%20d%3D%22M80%2C0h898%22%20style%3D%22stroke%3A%20rgb(0%2C%200%2C%200)%3B%20stroke-opacity%3A%200.1625%3B%20stroke-width%3A%201px%3B%22%2F%3E%3Cpath%20class%3D%22ygrid%20crisp%22%20transform%3D%22translate(0%2C185)%22%20d%3D%22M80%2C0h898%22%20style%3D%22stroke%3A%20rgb(0%2C%200%2C%200)%3B%20stroke-opacity%3A%200.1625%3B%20stroke-width%3A%201px%3B%22%2F%3E%3Cpath%20class%3D%22ygrid%20crisp%22%20transform%3D%22translate(0%2C137.5)%22%20d%3D%22M80%2C0h898%22%20style%3D%22stroke%3A%20rgb(0%2C%200%2C%200)%3B%20stroke-opacity%3A%200.1625%3B%20stroke-width%3A%201px%3B%22%2F%3E%3Cpath%20class%3D%22ygrid%20crisp%22%20transform%3D%22translate(0%2C90)%22%20d%3D%22M80%2C0h898%22%20style%3D%22stroke%3A%20rgb(0%2C%200%2C%200)%3B%20stroke-opacity%3A%200.1625%3B%20stroke-width%3A%201px%3B%22%2F%3E%3Cpath%20class%3D%22ygrid%20crisp%22%20transform%3D%22translate(0%2C42.5)%22%20d%3D%22M80%2C0h898%22%20style%3D%22stroke%3A%20rgb(0%2C%200%2C%200)%3B%20stroke-opacity%3A%200.1625%3B%20stroke-width%3A%201px%3B%22%2F%3E%3C%2Fg%3E%3C%2Fg%3E%3Cg%20class%3D%22zerolinelayer%22%3E%3Cpath%20class%3D%22yzl%20zl%20crisp%22%20transform%3D%22translate(0%2C280)%22%20d%3D%22M80%2C0h898%22%20style%3D%22stroke%3A%20rgb(0%2C%200%2C%200)%3B%20stroke-opacity%3A%200.325%3B%20stroke-width%3A%201px%3B%22%2F%3E%3C%2Fg%3E%3Cpath%20class%3D%22xlines-below%22%2F%3E%3Cpath%20class%3D%22ylines-below%22%2F%3E%3Cg%20class%3D%22overlines-below%22%2F%3E%3Cg%20class%3D%22xaxislayer-below%22%2F%3E%3Cg%20class%3D%22yaxislayer-below%22%2F%3E%3Cg%20class%3D%22overaxes-below%22%2F%3E%3Cg%20class%3D%22plot%22%20transform%3D%22translate(80%2C%2030)%22%20clip-path%3D%22url('%23clip19d60cxyplot')%22%3E%3Cg%20class%3D%22barlayer%20mlayer%22%3E%3Cg%20class%3D%22trace%20bars%22%20style%3D%22opacity%3A%201%3B%22%3E%3Cg%20class%3D%22points%22%3E%3Cg%20class%3D%22point%22%3E%3Cpath%20style%3D%22vector-effect%3A%20non-scaling-stroke%3B%20opacity%3A%201%3B%20stroke-width%3A%200px%3B%20fill%3A%20rgb(78%2C%20121%2C%20167)%3B%20fill-opacity%3A%201%3B%22%20d%3D%22M29.93%2C250V131.25H269.4V250Z%22%2F%3E%3C%2Fg%3E%3Cg%20class%3D%22point%22%3E%3Cpath%20style%3D%22vector-effect%3A%20non-scaling-stroke%3B%20opacity%3A%201%3B%20stroke-width%3A%200px%3B%20fill%3A%20rgb(78%2C%20121%2C%20167)%3B%20fill-opacity%3A%201%3B%22%20d%3D%22M329.27%2C250V250H568.73V250Z%22%2F%3E%3C%2Fg%3E%3Cg%20class%3D%22point%22%3E%3Cpath%20style%3D%22vector-effect%3A%20non-scaling-stroke%3B%20opacity%3A%201%3B%20stroke-width%3A%200px%3B%20fill%3A%20rgb(78%2C%20121%2C%20167)%3B%20fill-opacity%3A%201%3B%22%20d%3D%22M628.6%2C250V250H868.07V250Z%22%2F%3E%3C%2Fg%3E%3C%2Fg%3E%3C%2Fg%3E%3Cg%20class%3D%22trace%20bars%22%20style%3D%22opacity%3A%201%3B%22%3E%3Cg%20class%3D%22points%22%3E%3Cg%20class%3D%22point%22%3E%3Cpath%20style%3D%22vector-effect%3A%20non-scaling-stroke%3B%20opacity%3A%201%3B%20stroke-width%3A%200px%3B%20fill%3A%20rgb(242%2C%20142%2C%2044)%3B%20fill-opacity%3A%201%3B%22%20d%3D%22M29.93%2C131.25V12.5H269.4V131.25Z%22%2F%3E%3C%2Fg%3E%3Cg%20class%3D%22point%22%3E%3Cpath%20style%3D%22vector-effect%3A%20non-scaling-stroke%3B%20opacity%3A%201%3B%20stroke-width%3A%200px%3B%20fill%3A%20rgb(242%2C%20142%2C%2044)%3B%20fill-opacity%3A%201%3B%22%20d%3D%22M329.27%2C250V250H568.73V250Z%22%2F%3E%3C%2Fg%3E%3Cg%20class%3D%22point%22%3E%3Cpath%20style%3D%22vector-effect%3A%20non-scaling-stroke%3B%20opacity%3A%201%3B%20stroke-width%3A%200px%3B%20fill%3A%20rgb(242%2C%20142%2C%2044)%3B%20fill-opacity%3A%201%3B%22%20d%3D%22M628.6%2C250V250H868.07V250Z%22%2F%3E%3C%2Fg%3E%3C%2Fg%3E%3C%2Fg%3E%3Cg%20class%3D%22trace%20bars%22%20style%3D%22opacity%3A%201%3B%22%3E%3Cg%20class%3D%22points%22%3E%3Cg%20class%3D%22point%22%3E%3Cpath%20style%3D%22vector-effect%3A%20non-scaling-stroke%3B%20opacity%3A%201%3B%20stroke-width%3A%200px%3B%20fill%3A%20rgb(225%2C%2087%2C%2089)%3B%20fill-opacity%3A%201%3B%22%20d%3D%22M29.93%2C250V250H269.4V250Z%22%2F%3E%3C%2Fg%3E%3Cg%20class%3D%22point%22%3E%3Cpath%20style%3D%22vector-effect%3A%20non-scaling-stroke%3B%20opacity%3A%201%3B%20stroke-width%3A%200px%3B%20fill%3A%20rgb(225%2C%2087%2C%2089)%3B%20fill-opacity%3A%201%3B%22%20d%3D%22M329.27%2C250V170.83H568.73V250Z%22%2F%3E%3C%2Fg%3E%3Cg%20class%3D%22point%22%3E%3Cpath%20style%3D%22vector-effect%3A%20non-scaling-stroke%3B%20opacity%3A%201%3B%20stroke-width%3A%200px%3B%20fill%3A%20rgb(225%2C%2087%2C%2089)%3B%20fill-opacity%3A%201%3B%22%20d%3D%22M628.6%2C250V250H868.07V250Z%22%2F%3E%3C%2Fg%3E%3C%2Fg%3E%3C%2Fg%3E%3Cg%20class%3D%22trace%20bars%22%20style%3D%22opacity%3A%201%3B%22%3E%3Cg%20class%3D%22points%22%3E%3Cg%20class%3D%22point%22%3E%3Cpath%20style%3D%22vector-effect%3A%20non-scaling-stroke%3B%20opacity%3A%201%3B%20stroke-width%3A%200px%3B%20fill%3A%20rgb(118%2C%20183%2C%20178)%3B%20fill-opacity%3A%201%3B%22%20d%3D%22M29.93%2C250V250H269.4V250Z%22%2F%3E%3C%2Fg%3E%3Cg%20class%3D%22point%22%3E%3Cpath%20style%3D%22vector-effect%3A%20non-scaling-stroke%3B%20opacity%3A%201%3B%20stroke-width%3A%200px%3B%20fill%3A%20rgb(118%2C%20183%2C%20178)%3B%20fill-opacity%3A%201%3B%22%20d%3D%22M329.27%2C170.83V91.67H568.73V170.83Z%22%2F%3E%3C%2Fg%3E%3Cg%20class%3D%22point%22%3E%3Cpath%20style%3D%22vector-effect%3A%20non-scaling-stroke%3B%20opacity%3A%201%3B%20stroke-width%3A%200px%3B%20fill%3A%20rgb(118%2C%20183%2C%20178)%3B%20fill-opacity%3A%201%3B%22%20d%3D%22M628.6%2C250V250H868.07V250Z%22%2F%3E%3C%2Fg%3E%3C%2Fg%3E%3C%2Fg%3E%3Cg%20class%3D%22trace%20bars%22%20style%3D%22opacity%3A%201%3B%22%3E%3Cg%20class%3D%22points%22%3E%3Cg%20class%3D%22point%22%3E%3Cpath%20style%3D%22vector-effect%3A%20non-scaling-stroke%3B%20opacity%3A%201%3B%20stroke-width%3A%200px%3B%20fill%3A%20rgb(89%2C%20161%2C%2079)%3B%20fill-opacity%3A%201%3B%22%20d%3D%22M29.93%2C250V250H269.4V250Z%22%2F%3E%3C%2Fg%3E%3Cg%20class%3D%22point%22%3E%3Cpath%20style%3D%22vector-effect%3A%20non-scaling-stroke%3B%20opacity%3A%201%3B%20stroke-width%3A%200px%3B%20fill%3A%20rgb(89%2C%20161%2C%2079)%3B%20fill-opacity%3A%201%3B%22%20d%3D%22M329.27%2C91.67V12.5H568.73V91.67Z%22%2F%3E%3C%2Fg%3E%3Cg%20class%3D%22point%22%3E%3Cpath%20style%3D%22vector-effect%3A%20non-scaling-stroke%3B%20opacity%3A%201%3B%20stroke-width%3A%200px%3B%20fill%3A%20rgb(89%2C%20161%2C%2079)%3B%20fill-opacity%3A%201%3B%22%20d%3D%22M628.6%2C250V250H868.07V250Z%22%2F%3E%3C%2Fg%3E%3C%2Fg%3E%3C%2Fg%3E%3Cg%20class%3D%22trace%20bars%22%20style%3D%22opacity%3A%201%3B%22%3E%3Cg%20class%3D%22points%22%3E%3Cg%20class%3D%22point%22%3E%3Cpath%20style%3D%22vector-effect%3A%20non-scaling-stroke%3B%20opacity%3A%201%3B%20stroke-width%3A%200px%3B%20fill%3A%20rgb(237%2C%20201%2C%2073)%3B%20fill-opacity%3A%201%3B%22%20d%3D%22M29.93%2C250V250H269.4V250Z%22%2F%3E%3C%2Fg%3E%3Cg%20class%3D%22point%22%3E%3Cpath%20style%3D%22vector-effect%3A%20non-scaling-stroke%3B%20opacity%3A%201%3B%20stroke-width%3A%200px%3B%20fill%3A%20rgb(237%2C%20201%2C%2073)%3B%20fill-opacity%3A%201%3B%22%20d%3D%22M329.27%2C250V250H568.73V250Z%22%2F%3E%3C%2Fg%3E%3Cg%20class%3D%22point%22%3E%3Cpath%20style%3D%22vector-effect%3A%20non-scaling-stroke%3B%20opacity%3A%201%3B%20stroke-width%3A%200px%3B%20fill%3A%20rgb(237%2C%20201%2C%2073)%3B%20fill-opacity%3A%201%3B%22%20d%3D%22M628.6%2C250V202.5H868.07V250Z%22%2F%3E%3C%2Fg%3E%3C%2Fg%3E%3C%2Fg%3E%3Cg%20class%3D%22trace%20bars%22%20style%3D%22opacity%3A%201%3B%22%3E%3Cg%20class%3D%22points%22%3E%3Cg%20class%3D%22point%22%3E%3Cpath%20style%3D%22vector-effect%3A%20non-scaling-stroke%3B%20opacity%3A%201%3B%20stroke-width%3A%200px%3B%20fill%3A%20rgb(175%2C%20122%2C%20161)%3B%20fill-opacity%3A%201%3B%22%20d%3D%22M29.93%2C250V250H269.4V250Z%22%2F%3E%3C%2Fg%3E%3Cg%20class%3D%22point%22%3E%3Cpath%20style%3D%22vector-effect%3A%20non-scaling-stroke%3B%20opacity%3A%201%3B%20stroke-width%3A%200px%3B%20fill%3A%20rgb(175%2C%20122%2C%20161)%3B%20fill-opacity%3A%201%3B%22%20d%3D%22M329.27%2C250V250H568.73V250Z%22%2F%3E%3C%2Fg%3E%3Cg%20class%3D%22point%22%3E%3Cpath%20style%3D%22vector-effect%3A%20non-scaling-stroke%3B%20opacity%3A%201%3B%20stroke-width%3A%200px%3B%20fill%3A%20rgb(175%2C%20122%2C%20161)%3B%20fill-opacity%3A%201%3B%22%20d%3D%22M628.6%2C202.5V155H868.07V202.5Z%22%2F%3E%3C%2Fg%3E%3C%2Fg%3E%3C%2Fg%3E%3Cg%20class%3D%22trace%20bars%22%20style%3D%22opacity%3A%201%3B%22%3E%3Cg%20class%3D%22points%22%3E%3Cg%20class%3D%22point%22%3E%3Cpath%20style%3D%22vector-effect%3A%20non-scaling-stroke%3B%20opacity%3A%201%3B%20stroke-width%3A%200px%3B%20fill%3A%20rgb(255%2C%20157%2C%20167)%3B%20fill-opacity%3A%201%3B%22%20d%3D%22M29.93%2C250V250H269.4V250Z%22%2F%3E%3C%2Fg%3E%3Cg%20class%3D%22point%22%3E%3Cpath%20style%3D%22vector-effect%3A%20non-scaling-stroke%3B%20opacity%3A%201%3B%20stroke-width%3A%200px%3B%20fill%3A%20rgb(255%2C%20157%2C%20167)%3B%20fill-opacity%3A%201%3B%22%20d%3D%22M329.27%2C250V250H568.73V250Z%22%2F%3E%3C%2Fg%3E%3Cg%20class%3D%22point%22%3E%3Cpath%20style%3D%22vector-effect%3A%20non-scaling-stroke%3B%20opacity%3A%201%3B%20stroke-width%3A%200px%3B%20fill%3A%20rgb(255%2C%20157%2C%20167)%3B%20fill-opacity%3A%201%3B%22%20d%3D%22M628.6%2C155V107.5H868.07V155Z%22%2F%3E%3C%2Fg%3E%3C%2Fg%3E%3C%2Fg%3E%3Cg%20class%3D%22trace%20bars%22%20style%3D%22opacity%3A%201%3B%22%3E%3Cg%20class%3D%22points%22%3E%3Cg%20class%3D%22point%22%3E%3Cpath%20style%3D%22vector-effect%3A%20non-scaling-stroke%3B%20opacity%3A%201%3B%20stroke-width%3A%200px%3B%20fill%3A%20rgb(156%2C%20117%2C%2095)%3B%20fill-opacity%3A%201%3B%22%20d%3D%22M29.93%2C250V250H269.4V250Z%22%2F%3E%3C%2Fg%3E%3Cg%20class%3D%22point%22%3E%3Cpath%20style%3D%22vector-effect%3A%20non-scaling-stroke%3B%20opacity%3A%201%3B%20stroke-width%3A%200px%3B%20fill%3A%20rgb(156%2C%20117%2C%2095)%3B%20fill-opacity%3A%201%3B%22%20d%3D%22M329.27%2C250V250H568.73V250Z%22%2F%3E%3C%2Fg%3E%3Cg%20class%3D%22point%22%3E%3Cpath%20style%3D%22vector-effect%3A%20non-scaling-stroke%3B%20opacity%3A%201%3B%20stroke-width%3A%200px%3B%20fill%3A%20rgb(156%2C%20117%2C%2095)%3B%20fill-opacity%3A%201%3B%22%20d%3D%22M628.6%2C107.5V60H868.07V107.5Z%22%2F%3E%3C%2Fg%3E%3C%2Fg%3E%3C%2Fg%3E%3Cg%20class%3D%22trace%20bars%22%20style%3D%22opacity%3A%201%3B%22%3E%3Cg%20class%3D%22points%22%3E%3Cg%20class%3D%22point%22%3E%3Cpath%20style%3D%22vector-effect%3A%20non-scaling-stroke%3B%20opacity%3A%201%3B%20stroke-width%3A%200px%3B%20fill%3A%20rgb(186%2C%20176%2C%20171)%3B%20fill-opacity%3A%201%3B%22%20d%3D%22M29.93%2C250V250H269.4V250Z%22%2F%3E%3C%2Fg%3E%3Cg%20class%3D%22point%22%3E%3Cpath%20style%3D%22vector-effect%3A%20non-scaling-stroke%3B%20opacity%3A%201%3B%20stroke-width%3A%200px%3B%20fill%3A%20rgb(186%2C%20176%2C%20171)%3B%20fill-opacity%3A%201%3B%22%20d%3D%22M329.27%2C250V250H568.73V250Z%22%2F%3E%3C%2Fg%3E%3Cg%20class%3D%22point%22%3E%3Cpath%20style%3D%22vector-effect%3A%20non-scaling-stroke%3B%20opacity%3A%201%3B%20stroke-width%3A%200px%3B%20fill%3A%20rgb(186%2C%20176%2C%20171)%3B%20fill-opacity%3A%201%3B%22%20d%3D%22M628.6%2C60V12.5H868.07V60Z%22%2F%3E%3C%2Fg%3E%3C%2Fg%3E%3C%2Fg%3E%3C%2Fg%3E%3C%2Fg%3E%3Cg%20class%3D%22overplot%22%2F%3E%3Cpath%20class%3D%22xlines-above%20crisp%22%20style%3D%22fill%3A%20none%3B%20stroke-width%3A%201px%3B%20stroke%3A%20rgb(0%2C%200%2C%200)%3B%20stroke-opacity%3A%200.1625%3B%22%20d%3D%22M79%2C280.5H978%22%2F%3E%3Cpath%20class%3D%22ylines-above%20crisp%22%20style%3D%22fill%3A%20none%3B%20stroke-width%3A%201px%3B%20stroke%3A%20rgb(0%2C%200%2C%200)%3B%20stroke-opacity%3A%200.1625%3B%22%20d%3D%22M79.5%2C30V280%22%2F%3E%3Cg%20class%3D%22overlines-above%22%2F%3E%3Cg%20class%3D%22xaxislayer-above%22%3E%3Cg%20class%3D%22xtick%22%3E%3Ctext%20text-anchor%3D%22middle%22%20x%3D%220%22%20y%3D%22295.4%22%20style%3D%22font-family%3A%20%26quot%3BOpen%20Sans%26quot%3B%2C%20verdana%2C%20arial%2C%20sans-serif%3B%20font-size%3A%2012px%3B%20fill%3A%20rgb(0%2C%200%2C%200)%3B%20fill-opacity%3A%200.65%3B%20white-space%3A%20pre%3B%22%20data-unformatted%3D%22Equity%22%20data-math%3D%22N%22%20transform%3D%22translate(229.67%2C0)%22%3EEquity%3C%2Ftext%3E%3C%2Fg%3E%3Cg%20class%3D%22xtick%22%3E%3Ctext%20text-anchor%3D%22middle%22%20x%3D%220%22%20y%3D%22295.4%22%20style%3D%22font-family%3A%20%26quot%3BOpen%20Sans%26quot%3B%2C%20verdana%2C%20arial%2C%20sans-serif%3B%20font-size%3A%2012px%3B%20fill%3A%20rgb(0%2C%200%2C%200)%3B%20fill-opacity%3A%200.65%3B%20white-space%3A%20pre%3B%22%20data-unformatted%3D%22Forex%22%20data-math%3D%22N%22%20transform%3D%22translate(529%2C0)%22%3EForex%3C%2Ftext%3E%3C%2Fg%3E%3Cg%20class%3D%22xtick%22%3E%3Ctext%20text-anchor%3D%22middle%22%20x%3D%220%22%20y%3D%22295.4%22%20style%3D%22font-family%3A%20%26quot%3BOpen%20Sans%26quot%3B%2C%20verdana%2C%20arial%2C%20sans-serif%3B%20font-size%3A%2012px%3B%20fill%3A%20rgb(0%2C%200%2C%200)%3B%20fill-opacity%3A%200.65%3B%20white-space%3A%20pre%3B%22%20data-unformatted%3D%22Rates%20%26amp%3B%20Credit%22%20data-math%3D%22N%22%20transform%3D%22translate(828.33%2C0)%22%3ERates%20%26amp%3B%20Credit%3C%2Ftext%3E%3C%2Fg%3E%3C%2Fg%3E%3Cg%20class%3D%22yaxislayer-above%22%3E%3Cg%20class%3D%22ytick%22%3E%3Ctext%20text-anchor%3D%22end%22%20x%3D%2276.6%22%20y%3D%224.199999999999999%22%20style%3D%22font-family%3A%20%26quot%3BOpen%20Sans%26quot%3B%2C%20verdana%2C%20arial%2C%20sans-serif%3B%20font-size%3A%2012px%3B%20fill%3A%20rgb(0%2C%200%2C%200)%3B%20fill-opacity%3A%200.65%3B%20white-space%3A%20pre%3B%22%20data-unformatted%3D%220%25%22%20data-math%3D%22N%22%20transform%3D%22translate(0%2C280)%22%3E0%25%3C%2Ftext%3E%3C%2Fg%3E%3Cg%20class%3D%22ytick%22%3E%3Ctext%20text-anchor%3D%22end%22%20x%3D%2276.6%22%20y%3D%224.199999999999999%22%20style%3D%22font-family%3A%20%26quot%3BOpen%20Sans%26quot%3B%2C%20verdana%2C%20arial%2C%20sans-serif%3B%20font-size%3A%2012px%3B%20fill%3A%20rgb(0%2C%200%2C%200)%3B%20fill-opacity%3A%200.65%3B%20white-space%3A%20pre%3B%22%20data-unformatted%3D%2220%25%22%20data-math%3D%22N%22%20transform%3D%22translate(0%2C232.5)%22%3E20%25%3C%2Ftext%3E%3C%2Fg%3E%3Cg%20class%3D%22ytick%22%3E%3Ctext%20text-anchor%3D%22end%22%20x%3D%2276.6%22%20y%3D%224.199999999999999%22%20style%3D%22font-family%3A%20%26quot%3BOpen%20Sans%26quot%3B%2C%20verdana%2C%20arial%2C%20sans-serif%3B%20font-size%3A%2012px%3B%20fill%3A%20rgb(0%2C%200%2C%200)%3B%20fill-opacity%3A%200.65%3B%20white-space%3A%20pre%3B%22%20data-unformatted%3D%2240%25%22%20data-math%3D%22N%22%20transform%3D%22translate(0%2C185)%22%3E40%25%3C%2Ftext%3E%3C%2Fg%3E%3Cg%20class%3D%22ytick%22%3E%3Ctext%20text-anchor%3D%22end%22%20x%3D%2276.6%22%20y%3D%224.199999999999999%22%20style%3D%22font-family%3A%20%26quot%3BOpen%20Sans%26quot%3B%2C%20verdana%2C%20arial%2C%20sans-serif%3B%20font-size%3A%2012px%3B%20fill%3A%20rgb(0%2C%200%2C%200)%3B%20fill-opacity%3A%200.65%3B%20white-space%3A%20pre%3B%22%20data-unformatted%3D%2260%25%22%20data-math%3D%22N%22%20transform%3D%22translate(0%2C137.5)%22%3E60%25%3C%2Ftext%3E%3C%2Fg%3E%3Cg%20class%3D%22ytick%22%3E%3Ctext%20text-anchor%3D%22end%22%20x%3D%2276.6%22%20y%3D%224.199999999999999%22%20style%3D%22font-family%3A%20%26quot%3BOpen%20Sans%26quot%3B%2C%20verdana%2C%20arial%2C%20sans-serif%3B%20font-size%3A%2012px%3B%20fill%3A%20rgb(0%2C%200%2C%200)%3B%20fill-opacity%3A%200.65%3B%20white-space%3A%20pre%3B%22%20data-unformatted%3D%2280%25%22%20data-math%3D%22N%22%20transform%3D%22translate(0%2C90)%22%3E80%25%3C%2Ftext%3E%3C%2Fg%3E%3Cg%20class%3D%22ytick%22%3E%3Ctext%20text-anchor%3D%22end%22%20x%3D%2276.6%22%20y%3D%224.199999999999999%22%20style%3D%22font-family%3A%20%26quot%3BOpen%20Sans%26quot%3B%2C%20verdana%2C%20arial%2C%20sans-serif%3B%20font-size%3A%2012px%3B%20fill%3A%20rgb(0%2C%200%2C%200)%3B%20fill-opacity%3A%200.65%3B%20white-space%3A%20pre%3B%22%20data-unformatted%3D%22100%25%22%20data-math%3D%22N%22%20transform%3D%22translate(0%2C42.5)%22%3E100%25%3C%2Ftext%3E%3C%2Fg%3E%3C%2Fg%3E%3Cg%20class%3D%22overaxes-above%22%2F%3E%3C%2Fg%3E%3C%2Fg%3E%3Cg%20class%3D%22polarlayer%22%2F%3E%3Cg%20class%3D%22ternarylayer%22%2F%3E%3Cg%20class%3D%22geolayer%22%2F%3E%3Cg%20class%3D%22funnelarealayer%22%2F%3E%3Cg%20class%3D%22pielayer%22%2F%3E%3Cg%20class%3D%22treemaplayer%22%2F%3E%3Cg%20class%3D%22sunburstlayer%22%2F%3E%3Cg%20class%3D%22glimages%22%2F%3E%3Cdefs%20id%3D%22topdefs-19d60c%22%3E%3Cg%20class%3D%22clips%22%2F%3E%3CclipPath%20id%3D%22legend19d60c%22%3E%3Crect%20width%3D%22322%22%20height%3D%22250%22%20x%3D%220%22%20y%3D%220%22%2F%3E%3C%2FclipPath%3E%3C%2Fdefs%3E%3Cg%20class%3D%22indicatorlayer%22%2F%3E%3Cg%20class%3D%22layer-above%22%3E%3Cg%20class%3D%22imagelayer%22%2F%3E%3Cg%20class%3D%22shapelayer%22%2F%3E%3C%2Fg%3E%3Cg%20class%3D%22infolayer%22%3E%3Cg%20class%3D%22legend%22%20pointer-events%3D%22all%22%20transform%3D%22translate(995.96%2C%2030)%22%3E%3Crect%20class%3D%22bg%22%20shape-rendering%3D%22crispEdges%22%20style%3D%22stroke%3A%20rgb(68%2C%2068%2C%2068)%3B%20stroke-opacity%3A%201%3B%20fill%3A%20rgb(255%2C%20255%2C%20255)%3B%20fill-opacity%3A%201%3B%20stroke-width%3A%200px%3B%22%20width%3D%22322%22%20height%3D%22250%22%20x%3D%220%22%20y%3D%220%22%2F%3E%3Cg%20class%3D%22scrollbox%22%20clip-path%3D%22url('%23legend19d60c')%22%20transform%3D%22translate(0%2C%200)%22%3E%3Cg%20class%3D%22groups%22%20transform%3D%22translate(0%2C%200)%22%3E%3Cg%20class%3D%22traces%22%20style%3D%22opacity%3A%201%3B%22%20transform%3D%22translate(0%2C%2014.5)%22%3E%3Ctext%20class%3D%22legendtext%20user-select-none%22%20text-anchor%3D%22start%22%20style%3D%22font-family%3A%20%26quot%3BOpen%20Sans%26quot%3B%2C%20verdana%2C%20arial%2C%20sans-serif%3B%20font-size%3A%2012px%3B%20fill%3A%20rgb(0%2C%200%2C%200)%3B%20fill-opacity%3A%200.65%3B%20white-space%3A%20pre%3B%22%20x%3D%2240%22%20y%3D%224.680000000000001%22%20data-unformatted%3D%22Equity%2C%20Domestic%20Equity%2C%20Poseidon%22%20data-math%3D%22N%22%3EEquity%2C%20Domestic%20Equity%2C%20Poseidon%3C%2Ftext%3E%3Cg%20class%3D%22layers%22%20style%3D%22opacity%3A%201%3B%22%3E%3Cg%20class%3D%22legendfill%22%2F%3E%3Cg%20class%3D%22legendlines%22%2F%3E%3Cg%20class%3D%22legendsymbols%22%3E%3Cg%20class%3D%22legendpoints%22%3E%3Cpath%20class%3D%22legendundefined%22%20d%3D%22M6%2C6H-6V-6H6Z%22%20transform%3D%22translate(20%2C0)%22%20style%3D%22stroke-width%3A%200px%3B%20fill%3A%20rgb(78%2C%20121%2C%20167)%3B%20fill-opacity%3A%201%3B%22%2F%3E%3C%2Fg%3E%3C%2Fg%3E%3C%2Fg%3E%3Crect%20class%3D%22legendtoggle%22%20style%3D%22cursor%3A%20pointer%3B%20fill%3A%20rgb(0%2C%200%2C%200)%3B%20fill-opacity%3A%200%3B%22%20pointer-events%3D%22all%22%20x%3D%220%22%20y%3D%22-9.5%22%20width%3D%22306.66668701171875%22%20height%3D%2219%22%2F%3E%3C%2Fg%3E%3C%2Fg%3E%3Cg%20class%3D%22groups%22%20transform%3D%22translate(0%2C%2010)%22%3E%3Cg%20class%3D%22traces%22%20style%3D%22opacity%3A%201%3B%22%20transform%3D%22translate(0%2C%2033.5)%22%3E%3Ctext%20class%3D%22legendtext%20user-select-none%22%20text-anchor%3D%22start%22%20style%3D%22font-family%3A%20%26quot%3BOpen%20Sans%26quot%3B%2C%20verdana%2C%20arial%2C%20sans-serif%3B%20font-size%3A%2012px%3B%20fill%3A%20rgb(0%2C%200%2C%200)%3B%20fill-opacity%3A%200.65%3B%20white-space%3A%20pre%3B%22%20x%3D%2240%22%20y%3D%224.680000000000001%22%20data-unformatted%3D%22Equity%2C%20Foreign%20Equity%2C%20Iris%22%20data-math%3D%22N%22%3EEquity%2C%20Foreign%20Equity%2C%20Iris%3C%2Ftext%3E%3Cg%20class%3D%22layers%22%20style%3D%22opacity%3A%201%3B%22%3E%3Cg%20class%3D%22legendfill%22%2F%3E%3Cg%20class%3D%22legendlines%22%2F%3E%3Cg%20class%3D%22legendsymbols%22%3E%3Cg%20class%3D%22legendpoints%22%3E%3Cpath%20class%3D%22legendundefined%22%20d%3D%22M6%2C6H-6V-6H6Z%22%20transform%3D%22translate(20%2C0)%22%20style%3D%22stroke-width%3A%200px%3B%20fill%3A%20rgb(242%2C%20142%2C%2044)%3B%20fill-opacity%3A%201%3B%22%2F%3E%3C%2Fg%3E%3C%2Fg%3E%3C%2Fg%3E%3Crect%20class%3D%22legendtoggle%22%20style%3D%22cursor%3A%20pointer%3B%20fill%3A%20rgb(0%2C%200%2C%200)%3B%20fill-opacity%3A%200%3B%22%20pointer-events%3D%22all%22%20x%3D%220%22%20y%3D%22-9.5%22%20width%3D%22306.66668701171875%22%20height%3D%2219%22%2F%3E%3C%2Fg%3E%3C%2Fg%3E%3Cg%20class%3D%22groups%22%20transform%3D%22translate(0%2C%2020)%22%3E%3Cg%20class%3D%22traces%22%20style%3D%22opacity%3A%201%3B%22%20transform%3D%22translate(0%2C%2052.5)%22%3E%3Ctext%20class%3D%22legendtext%20user-select-none%22%20text-anchor%3D%22start%22%20style%3D%22font-family%3A%20%26quot%3BOpen%20Sans%26quot%3B%2C%20verdana%2C%20arial%2C%20sans-serif%3B%20font-size%3A%2012px%3B%20fill%3A%20rgb(0%2C%200%2C%200)%3B%20fill-opacity%3A%200.65%3B%20white-space%3A%20pre%3B%22%20x%3D%2240%22%20y%3D%224.680000000000001%22%20data-unformatted%3D%22Forex%2C%20Developed%20Market%2C%20Kratos%22%20data-math%3D%22N%22%3EForex%2C%20Developed%20Market%2C%20Kratos%3C%2Ftext%3E%3Cg%20class%3D%22layers%22%20style%3D%22opacity%3A%201%3B%22%3E%3Cg%20class%3D%22legendfill%22%2F%3E%3Cg%20class%3D%22legendlines%22%2F%3E%3Cg%20class%3D%22legendsymbols%22%3E%3Cg%20class%3D%22legendpoints%22%3E%3Cpath%20class%3D%22legendundefined%22%20d%3D%22M6%2C6H-6V-6H6Z%22%20transform%3D%22translate(20%2C0)%22%20style%3D%22stroke-width%3A%200px%3B%20fill%3A%20rgb(225%2C%2087%2C%2089)%3B%20fill-opacity%3A%201%3B%22%2F%3E%3C%2Fg%3E%3C%2Fg%3E%3C%2Fg%3E%3Crect%20class%3D%22legendtoggle%22%20style%3D%22cursor%3A%20pointer%3B%20fill%3A%20rgb(0%2C%200%2C%200)%3B%20fill-opacity%3A%200%3B%22%20pointer-events%3D%22all%22%20x%3D%220%22%20y%3D%22-9.5%22%20width%3D%22306.66668701171875%22%20height%3D%2219%22%2F%3E%3C%2Fg%3E%3C%2Fg%3E%3Cg%20class%3D%22groups%22%20transform%3D%22translate(0%2C%2030)%22%3E%3Cg%20class%3D%22traces%22%20style%3D%22opacity%3A%201%3B%22%20transform%3D%22translate(0%2C%2071.5)%22%3E%3Ctext%20class%3D%22legendtext%20user-select-none%22%20text-anchor%3D%22start%22%20style%3D%22font-family%3A%20%26quot%3BOpen%20Sans%26quot%3B%2C%20verdana%2C%20arial%2C%20sans-serif%3B%20font-size%3A%2012px%3B%20fill%3A%20rgb(0%2C%200%2C%200)%3B%20fill-opacity%3A%200.65%3B%20white-space%3A%20pre%3B%22%20x%3D%2240%22%20y%3D%224.680000000000001%22%20data-unformatted%3D%22Forex%2C%20Emerging%20Market%2C%20Hypnos%22%20data-math%3D%22N%22%3EForex%2C%20Emerging%20Market%2C%20Hypnos%3C%2Ftext%3E%3Cg%20class%3D%22layers%22%20style%3D%22opacity%3A%201%3B%22%3E%3Cg%20class%3D%22legendfill%22%2F%3E%3Cg%20class%3D%22legendlines%22%2F%3E%3Cg%20class%3D%22legendsymbols%22%3E%3Cg%20class%3D%22legendpoints%22%3E%3Cpath%20class%3D%22legendundefined%22%20d%3D%22M6%2C6H-6V-6H6Z%22%20transform%3D%22translate(20%2C0)%22%20style%3D%22stroke-width%3A%200px%3B%20fill%3A%20rgb(118%2C%20183%2C%20178)%3B%20fill-opacity%3A%201%3B%22%2F%3E%3C%2Fg%3E%3C%2Fg%3E%3C%2Fg%3E%3Crect%20class%3D%22legendtoggle%22%20style%3D%22cursor%3A%20pointer%3B%20fill%3A%20rgb(0%2C%200%2C%200)%3B%20fill-opacity%3A%200%3B%22%20pointer-events%3D%22all%22%20x%3D%220%22%20y%3D%22-9.5%22%20width%3D%22306.66668701171875%22%20height%3D%2219%22%2F%3E%3C%2Fg%3E%3C%2Fg%3E%3Cg%20class%3D%22groups%22%20transform%3D%22translate(0%2C%2040)%22%3E%3Cg%20class%3D%22traces%22%20style%3D%22opacity%3A%201%3B%22%20transform%3D%22translate(0%2C%2090.5)%22%3E%3Ctext%20class%3D%22legendtext%20user-select-none%22%20text-anchor%3D%22start%22%20style%3D%22font-family%3A%20%26quot%3BOpen%20Sans%26quot%3B%2C%20verdana%2C%20arial%2C%20sans-serif%3B%20font-size%3A%2012px%3B%20fill%3A%20rgb(0%2C%200%2C%200)%3B%20fill-opacity%3A%200.65%3B%20white-space%3A%20pre%3B%22%20x%3D%2240%22%20y%3D%224.680000000000001%22%20data-unformatted%3D%22Forex%2C%20Frontier%20Market%2C%20Hera%22%20data-math%3D%22N%22%3EForex%2C%20Frontier%20Market%2C%20Hera%3C%2Ftext%3E%3Cg%20class%3D%22layers%22%20style%3D%22opacity%3A%201%3B%22%3E%3Cg%20class%3D%22legendfill%22%2F%3E%3Cg%20class%3D%22legendlines%22%2F%3E%3Cg%20class%3D%22legendsymbols%22%3E%3Cg%20class%3D%22legendpoints%22%3E%3Cpath%20class%3D%22legendundefined%22%20d%3D%22M6%2C6H-6V-6H6Z%22%20transform%3D%22translate(20%2C0)%22%20style%3D%22stroke-width%3A%200px%3B%20fill%3A%20rgb(89%2C%20161%2C%2079)%3B%20fill-opacity%3A%201%3B%22%2F%3E%3C%2Fg%3E%3C%2Fg%3E%3C%2Fg%3E%3Crect%20class%3D%22legendtoggle%22%20style%3D%22cursor%3A%20pointer%3B%20fill%3A%20rgb(0%2C%200%2C%200)%3B%20fill-opacity%3A%200%3B%22%20pointer-events%3D%22all%22%20x%3D%220%22%20y%3D%22-9.5%22%20width%3D%22306.66668701171875%22%20height%3D%2219%22%2F%3E%3C%2Fg%3E%3C%2Fg%3E%3Cg%20class%3D%22groups%22%20transform%3D%22translate(0%2C%2050)%22%3E%3Cg%20class%3D%22traces%22%20style%3D%22opacity%3A%201%3B%22%20transform%3D%22translate(0%2C%20109.5)%22%3E%3Ctext%20class%3D%22legendtext%20user-select-none%22%20text-anchor%3D%22start%22%20style%3D%22font-family%3A%20%26quot%3BOpen%20Sans%26quot%3B%2C%20verdana%2C%20arial%2C%20sans-serif%3B%20font-size%3A%2012px%3B%20fill%3A%20rgb(0%2C%200%2C%200)%3B%20fill-opacity%3A%200.65%3B%20white-space%3A%20pre%3B%22%20x%3D%2240%22%20y%3D%224.680000000000001%22%20data-unformatted%3D%22Rates%20%26amp%3B%20Credit%2C%20Domestic%20Rates%20%26amp%3B%20Credit%2C%20Apollo%22%20data-math%3D%22N%22%3ERates%20%26amp%3B%20Credit%2C%20Domestic%20Rates%20%26amp%3B%20Credit%2C%20Apollo%3C%2Ftext%3E%3Cg%20class%3D%22layers%22%20style%3D%22opacity%3A%201%3B%22%3E%3Cg%20class%3D%22legendfill%22%2F%3E%3Cg%20class%3D%22legendlines%22%2F%3E%3Cg%20class%3D%22legendsymbols%22%3E%3Cg%20class%3D%22legendpoints%22%3E%3Cpath%20class%3D%22legendundefined%22%20d%3D%22M6%2C6H-6V-6H6Z%22%20transform%3D%22translate(20%2C0)%22%20style%3D%22stroke-width%3A%200px%3B%20fill%3A%20rgb(237%2C%20201%2C%2073)%3B%20fill-opacity%3A%201%3B%22%2F%3E%3C%2Fg%3E%3C%2Fg%3E%3C%2Fg%3E%3Crect%20class%3D%22legendtoggle%22%20style%3D%22cursor%3A%20pointer%3B%20fill%3A%20rgb(0%2C%200%2C%200)%3B%20fill-opacity%3A%200%3B%22%20pointer-events%3D%22all%22%20x%3D%220%22%20y%3D%22-9.5%22%20width%3D%22306.66668701171875%22%20height%3D%2219%22%2F%3E%3C%2Fg%3E%3C%2Fg%3E%3Cg%20class%3D%22groups%22%20transform%3D%22translate(0%2C%2060)%22%3E%3Cg%20class%3D%22traces%22%20style%3D%22opacity%3A%201%3B%22%20transform%3D%22translate(0%2C%20128.5)%22%3E%3Ctext%20class%3D%22legendtext%20user-select-none%22%20text-anchor%3D%22start%22%20style%3D%22font-family%3A%20%26quot%3BOpen%20Sans%26quot%3B%2C%20verdana%2C%20arial%2C%20sans-serif%3B%20font-size%3A%2012px%3B%20fill%3A%20rgb(0%2C%200%2C%200)%3B%20fill-opacity%3A%200.65%3B%20white-space%3A%20pre%3B%22%20x%3D%2240%22%20y%3D%224.680000000000001%22%20data-unformatted%3D%22Rates%20%26amp%3B%20Credit%2C%20Domestic%20Rates%20%26amp%3B%20Credit%2C%20Hermes%22%20data-math%3D%22N%22%3ERates%20%26amp%3B%20Credit%2C%20Domestic%20Rates%20%26amp%3B%20Credit%2C%20Hermes%3C%2Ftext%3E%3Cg%20class%3D%22layers%22%20style%3D%22opacity%3A%201%3B%22%3E%3Cg%20class%3D%22legendfill%22%2F%3E%3Cg%20class%3D%22legendlines%22%2F%3E%3Cg%20class%3D%22legendsymbols%22%3E%3Cg%20class%3D%22legendpoints%22%3E%3Cpath%20class%3D%22legendundefined%22%20d%3D%22M6%2C6H-6V-6H6Z%22%20transform%3D%22translate(20%2C0)%22%20style%3D%22stroke-width%3A%200px%3B%20fill%3A%20rgb(175%2C%20122%2C%20161)%3B%20fill-opacity%3A%201%3B%22%2F%3E%3C%2Fg%3E%3C%2Fg%3E%3C%2Fg%3E%3Crect%20class%3D%22legendtoggle%22%20style%3D%22cursor%3A%20pointer%3B%20fill%3A%20rgb(0%2C%200%2C%200)%3B%20fill-opacity%3A%200%3B%22%20pointer-events%3D%22all%22%20x%3D%220%22%20y%3D%22-9.5%22%20width%3D%22306.66668701171875%22%20height%3D%2219%22%2F%3E%3C%2Fg%3E%3C%2Fg%3E%3Cg%20class%3D%22groups%22%20transform%3D%22translate(0%2C%2070)%22%3E%3Cg%20class%3D%22traces%22%20style%3D%22opacity%3A%201%3B%22%20transform%3D%22translate(0%2C%20147.5)%22%3E%3Ctext%20class%3D%22legendtext%20user-select-none%22%20text-anchor%3D%22start%22%20style%3D%22font-family%3A%20%26quot%3BOpen%20Sans%26quot%3B%2C%20verdana%2C%20arial%2C%20sans-serif%3B%20font-size%3A%2012px%3B%20fill%3A%20rgb(0%2C%200%2C%200)%3B%20fill-opacity%3A%200.65%3B%20white-space%3A%20pre%3B%22%20x%3D%2240%22%20y%3D%224.680000000000001%22%20data-unformatted%3D%22Rates%20%26amp%3B%20Credit%2C%20Domestic%20Rates%20%26amp%3B%20Credit%2C%20Zeus%22%20data-math%3D%22N%22%3ERates%20%26amp%3B%20Credit%2C%20Domestic%20Rates%20%26amp%3B%20Credit%2C%20Zeus%3C%2Ftext%3E%3Cg%20class%3D%22layers%22%20style%3D%22opacity%3A%201%3B%22%3E%3Cg%20class%3D%22legendfill%22%2F%3E%3Cg%20class%3D%22legendlines%22%2F%3E%3Cg%20class%3D%22legendsymbols%22%3E%3Cg%20class%3D%22legendpoints%22%3E%3Cpath%20class%3D%22legendundefined%22%20d%3D%22M6%2C6H-6V-6H6Z%22%20transform%3D%22translate(20%2C0)%22%20style%3D%22stroke-width%3A%200px%3B%20fill%3A%20rgb(255%2C%20157%2C%20167)%3B%20fill-opacity%3A%201%3B%22%2F%3E%3C%2Fg%3E%3C%2Fg%3E%3C%2Fg%3E%3Crect%20class%3D%22legendtoggle%22%20style%3D%22cursor%3A%20pointer%3B%20fill%3A%20rgb(0%2C%200%2C%200)%3B%20fill-opacity%3A%200%3B%22%20pointer-events%3D%22all%22%20x%3D%220%22%20y%3D%22-9.5%22%20width%3D%22306.66668701171875%22%20height%3D%2219%22%2F%3E%3C%2Fg%3E%3C%2Fg%3E%3Cg%20class%3D%22groups%22%20transform%3D%22translate(0%2C%2080)%22%3E%3Cg%20class%3D%22traces%22%20style%3D%22opacity%3A%201%3B%22%20transform%3D%22translate(0%2C%20166.5)%22%3E%3Ctext%20class%3D%22legendtext%20user-select-none%22%20text-anchor%3D%22start%22%20style%3D%22font-family%3A%20%26quot%3BOpen%20Sans%26quot%3B%2C%20verdana%2C%20arial%2C%20sans-serif%3B%20font-size%3A%2012px%3B%20fill%3A%20rgb(0%2C%200%2C%200)%3B%20fill-opacity%3A%200.65%3B%20white-space%3A%20pre%3B%22%20x%3D%2240%22%20y%3D%224.680000000000001%22%20data-unformatted%3D%22Rates%20%26amp%3B%20Credit%2C%20Foreign%20Rates%20%26amp%3B%20Credit%2C%20Atlas%22%20data-math%3D%22N%22%3ERates%20%26amp%3B%20Credit%2C%20Foreign%20Rates%20%26amp%3B%20Credit%2C%20Atlas%3C%2Ftext%3E%3Cg%20class%3D%22layers%22%20style%3D%22opacity%3A%201%3B%22%3E%3Cg%20class%3D%22legendfill%22%2F%3E%3Cg%20class%3D%22legendlines%22%2F%3E%3Cg%20class%3D%22legendsymbols%22%3E%3Cg%20class%3D%22legendpoints%22%3E%3Cpath%20class%3D%22legendundefined%22%20d%3D%22M6%2C6H-6V-6H6Z%22%20transform%3D%22translate(20%2C0)%22%20style%3D%22stroke-width%3A%200px%3B%20fill%3A%20rgb(156%2C%20117%2C%2095)%3B%20fill-opacity%3A%201%3B%22%2F%3E%3C%2Fg%3E%3C%2Fg%3E%3C%2Fg%3E%3Crect%20class%3D%22legendtoggle%22%20style%3D%22cursor%3A%20pointer%3B%20fill%3A%20rgb(0%2C%200%2C%200)%3B%20fill-opacity%3A%200%3B%22%20pointer-events%3D%22all%22%20x%3D%220%22%20y%3D%22-9.5%22%20width%3D%22306.66668701171875%22%20height%3D%2219%22%2F%3E%3C%2Fg%3E%3C%2Fg%3E%3Cg%20class%3D%22groups%22%20transform%3D%22translate(0%2C%2090)%22%3E%3Cg%20class%3D%22traces%22%20style%3D%22opacity%3A%201%3B%22%20transform%3D%22translate(0%2C%20185.5)%22%3E%3Ctext%20class%3D%22legendtext%20user-select-none%22%20text-anchor%3D%22start%22%20style%3D%22font-family%3A%20%26quot%3BOpen%20Sans%26quot%3B%2C%20verdana%2C%20arial%2C%20sans-serif%3B%20font-size%3A%2012px%3B%20fill%3A%20rgb(0%2C%200%2C%200)%3B%20fill-opacity%3A%200.65%3B%20white-space%3A%20pre%3B%22%20x%3D%2240%22%20y%3D%224.680000000000001%22%20data-unformatted%3D%22Rates%20%26amp%3B%20Credit%2C%20Foreign%20Rates%20%26amp%3B%20Credit%2C%20Chronos%22%20data-math%3D%22N%22%3ERates%20%26amp%3B%20Credit%2C%20Foreign%20Rates%20%26amp%3B%20Credit%2C%20Chronos%3C%2Ftext%3E%3Cg%20class%3D%22layers%22%20style%3D%22opacity%3A%201%3B%22%3E%3Cg%20class%3D%22legendfill%22%2F%3E%3Cg%20class%3D%22legendlines%22%2F%3E%3Cg%20class%3D%22legendsymbols%22%3E%3Cg%20class%3D%22legendpoints%22%3E%3Cpath%20class%3D%22legendundefined%22%20d%3D%22M6%2C6H-6V-6H6Z%22%20transform%3D%22translate(20%2C0)%22%20style%3D%22stroke-width%3A%200px%3B%20fill%3A%20rgb(186%2C%20176%2C%20171)%3B%20fill-opacity%3A%201%3B%22%2F%3E%3C%2Fg%3E%3C%2Fg%3E%3C%2Fg%3E%3Crect%20class%3D%22legendtoggle%22%20style%3D%22cursor%3A%20pointer%3B%20fill%3A%20rgb(0%2C%200%2C%200)%3B%20fill-opacity%3A%200%3B%22%20pointer-events%3D%22all%22%20x%3D%220%22%20y%3D%22-9.5%22%20width%3D%22306.66668701171875%22%20height%3D%2219%22%2F%3E%3C%2Fg%3E%3C%2Fg%3E%3C%2Fg%3E%3Crect%20class%3D%22scrollbar%22%20rx%3D%2220%22%20ry%3D%223%22%20width%3D%226%22%20height%3D%22215.51724137931035%22%20style%3D%22fill%3A%20rgb(128%2C%20139%2C%20164)%3B%20fill-opacity%3A%201%3B%22%20x%3D%22312%22%20y%3D%224%22%2F%3E%3C%2Fg%3E%3Cg%20class%3D%22g-gtitle%22%2F%3E%3Cg%20class%3D%22g-xtitle%22%2F%3E%3Cg%20class%3D%22g-ytitle%22%2F%3E%3C%2Fg%3E%3Cg%20class%3D%22menulayer%22%2F%3E%3Cg%20class%3D%22zoomlayer%22%2F%3E%3Cg%20class%3D%22hoverlayer%22%2F%3E%3C%2Fsvg%3E\">"
      ],
      "text/plain": [
       "Open the notebook in JupyterLab with the atoti extension installed and enabled to see this widget."
      ]
     },
     "metadata": {},
     "output_type": "display_data"
    }
   ],
   "source": [
    "position_sensitivity_cube.visualize(\"Theoretical PnL spread across funds\")"
   ]
  },
  {
   "cell_type": "markdown",
   "metadata": {},
   "source": [
    "In the next 2 visualizations, we shall see the impact of having the *Investment Portfolio Hierarchy*.\n",
    "\n",
    "In the first tree map, we perform a split at the *portfolio* level from *Investment Portfolio Hierarchy*. This means that we are drilling down from the Asset class to Sub Asset Class, Fund and then to the Portfolio level. E.g. we will see the portfolio HE01 under the Asset Class *Rates & Credit* and *Forex*."
   ]
  },
  {
   "cell_type": "code",
   "execution_count": 25,
   "metadata": {
    "activeviam": {
     "state": {
      "name": "",
      "type": "container",
      "value": {
       "body": {
        "configuration": {
         "mapping": {
          "splitBy": [
           "[Hierarchies].[Investment Portfolio Hierarchy].[Portfolio]"
          ],
          "values": [
           "[Measures].[Theoretical PnL]"
          ]
         },
         "type": "plotly-tree-map"
        },
        "query": {
         "mdx": "SELECT NON EMPTY [Measures].[Theoretical PnL] ON COLUMNS, NON EMPTY [Hierarchies].[Investment Portfolio Hierarchy].[Portfolio].Members ON ROWS FROM [Position_Sensitivities] CELL PROPERTIES VALUE, FORMATTED_VALUE, BACK_COLOR, FORE_COLOR, FONT_FLAGS",
         "serverUrl": "",
         "updateMode": "once"
        }
       },
       "containerKey": "chart",
       "showTitleBar": false,
       "style": {}
      }
     }
    },
    "atoti": {
     "height": 333,
     "state": {
      "name": "Investment Portfolio concentration",
      "type": "container",
      "value": {
       "body": {
        "configuration": {
         "mapping": {
          "groupBy": [
           "[Hierarchies].[Investment Portfolio Hierarchy].[Portfolio]"
          ],
          "horizontalSubplots": [],
          "splitBy": [],
          "values": [
           "[Measures].[Theoretical PnL]"
          ],
          "verticalSubplots": []
         },
         "type": "plotly-tree-map"
        },
        "query": {
         "contextValues": {},
         "mdx": "SELECT NON EMPTY [Measures].[Theoretical PnL] ON COLUMNS, NON EMPTY [Hierarchies].[Investment Portfolio Hierarchy].[Portfolio].Members ON ROWS FROM [Position_Sensitivities] CELL PROPERTIES VALUE, FORMATTED_VALUE, BACK_COLOR, FORE_COLOR, FONT_FLAGS",
         "serverUrl": ""
        }
       },
       "containerKey": "chart",
       "showTitleBar": false,
       "style": {}
      }
     }
    }
   },
   "outputs": [
    {
     "data": {
      "application/vnd.atoti.v0+json": {
       "cube": "Position_Sensitivities",
       "error": null,
       "name": "Investment Portfolio concentration",
       "session": "Unnamed"
      },
      "text/html": [
       "<img src=\"data:image/svg+xml;charset=utf8,%3C%3Fxml%20version%3D%221.0%22%20standalone%3D%22no%22%3F%3E%3Csvg%20xmlns%3D%22http%3A%2F%2Fwww.w3.org%2F2000%2Fsvg%22%20xmlns%3Axlink%3D%22http%3A%2F%2Fwww.w3.org%2F1999%2Fxlink%22%20viewBox%3D%220%200%201308%20333%22%3E%3Cdefs%20id%3D%22defs-22c665%22%3E%3Cg%20class%3D%22clips%22%2F%3E%3Cg%20class%3D%22gradients%22%2F%3E%3C%2Fdefs%3E%3Cg%20class%3D%22bglayer%22%2F%3E%3Cg%20class%3D%22draglayer%22%2F%3E%3Cg%20class%3D%22layer-below%22%3E%3Cg%20class%3D%22imagelayer%22%2F%3E%3Cg%20class%3D%22shapelayer%22%2F%3E%3C%2Fg%3E%3Cg%20class%3D%22cartesianlayer%22%2F%3E%3Cg%20class%3D%22polarlayer%22%2F%3E%3Cg%20class%3D%22ternarylayer%22%2F%3E%3Cg%20class%3D%22geolayer%22%2F%3E%3Cg%20class%3D%22funnelarealayer%22%2F%3E%3Cg%20class%3D%22pielayer%22%2F%3E%3Cg%20class%3D%22treemaplayer%22%3E%3Cg%20class%3D%22trace%20treemap%22%20style%3D%22opacity%3A%201%3B%22%3E%3Cg%20class%3D%22slice%20cursor-pointer%22%3E%3Cpath%20class%3D%22surface%22%20style%3D%22pointer-events%3A%20all%3B%20stroke-width%3A%200px%3B%20fill%3A%20rgb(0%2C%200%2C%200)%3B%20fill-opacity%3A%200%3B%20stroke%3A%20rgb(0%2C%200%2C%200)%3B%20stroke-opacity%3A%200%3B%20opacity%3A%200%3B%22%20d%3D%22M80%2C30L1308%2C30L1308%2C253L80%2C253Z%22%2F%3E%3Cg%20class%3D%22slicetext%22%3E%3Ctext%20data-notex%3D%221%22%20class%3D%22slicetext%22%20text-anchor%3D%22start%22%20style%3D%22font-family%3A%20%26quot%3BOpen%20Sans%26quot%3B%2C%20verdana%2C%20arial%2C%20sans-serif%3B%20font-size%3A%2012px%3B%20fill%3A%20rgb(0%2C%200%2C%200)%3B%20fill-opacity%3A%200.65%3B%20white-space%3A%20pre%3B%22%20data-unformatted%3D%22%20%22%20data-math%3D%22N%22%20x%3D%220%22%20y%3D%220%22%20transform%3D%22translate(81%2C45)%22%3E%20%3C%2Ftext%3E%3C%2Fg%3E%3C%2Fg%3E%3Cg%20class%3D%22slice%20cursor-pointer%22%3E%3Cpath%20class%3D%22surface%22%20style%3D%22pointer-events%3A%20all%3B%20stroke-width%3A%201px%3B%20fill%3A%20rgb(78%2C%20121%2C%20167)%3B%20fill-opacity%3A%201%3B%20stroke%3A%20rgb(255%2C%20255%2C%20255)%3B%20stroke-opacity%3A%201%3B%20opacity%3A%201%3B%22%20d%3D%22M80%2C30L169.32499999999996%2C30L169.32499999999996%2C102.33333333333333L80%2C102.33333333333333Z%22%2F%3E%3Cg%20class%3D%22slicetext%22%3E%3Ctext%20data-notex%3D%221%22%20class%3D%22slicetext%22%20text-anchor%3D%22start%22%20style%3D%22font-family%3A%20%26quot%3BOpen%20Sans%26quot%3B%2C%20verdana%2C%20arial%2C%20sans-serif%3B%20font-size%3A%2012px%3B%20fill%3A%20rgb(255%2C%20255%2C%20255)%3B%20fill-opacity%3A%201%3B%20white-space%3A%20pre%3B%22%20data-unformatted%3D%22Equity%2C%20Domestic%20Equity%2C%20Poseidon%2C%20PO01%22%20data-math%3D%22N%22%20x%3D%220%22%20y%3D%220%22%20transform%3D%22translate(83.37720689136391%2C37.52648269636694)scale(0.3772068913639118)%22%3EEquity%2C%20Domestic%20Equity%2C%20Poseidon%2C%20PO01%3C%2Ftext%3E%3C%2Fg%3E%3C%2Fg%3E%3Cg%20class%3D%22slice%20cursor-pointer%22%3E%3Cpath%20class%3D%22surface%22%20style%3D%22pointer-events%3A%20all%3B%20stroke-width%3A%201px%3B%20fill%3A%20rgb(78%2C%20121%2C%20167)%3B%20fill-opacity%3A%201%3B%20stroke%3A%20rgb(255%2C%20255%2C%20255)%3B%20stroke-opacity%3A%201%3B%20opacity%3A%201%3B%22%20d%3D%22M80%2C105.33333333333333L169.32499999999996%2C105.33333333333333L169.32499999999996%2C177.66666666666666L80%2C177.66666666666666Z%22%2F%3E%3Cg%20class%3D%22slicetext%22%3E%3Ctext%20data-notex%3D%221%22%20class%3D%22slicetext%22%20text-anchor%3D%22start%22%20style%3D%22font-family%3A%20%26quot%3BOpen%20Sans%26quot%3B%2C%20verdana%2C%20arial%2C%20sans-serif%3B%20font-size%3A%2012px%3B%20fill%3A%20rgb(255%2C%20255%2C%20255)%3B%20fill-opacity%3A%201%3B%20white-space%3A%20pre%3B%22%20data-unformatted%3D%22Equity%2C%20Domestic%20Equity%2C%20Poseidon%2C%20PO02%22%20data-math%3D%22N%22%20x%3D%220%22%20y%3D%220%22%20transform%3D%22translate(83.37720689136391%2C112.85981602970027)scale(0.3772068913639118)%22%3EEquity%2C%20Domestic%20Equity%2C%20Poseidon%2C%20PO02%3C%2Ftext%3E%3C%2Fg%3E%3C%2Fg%3E%3Cg%20class%3D%22slice%20cursor-pointer%22%3E%3Cpath%20class%3D%22surface%22%20style%3D%22pointer-events%3A%20all%3B%20stroke-width%3A%201px%3B%20fill%3A%20rgb(78%2C%20121%2C%20167)%3B%20fill-opacity%3A%201%3B%20stroke%3A%20rgb(255%2C%20255%2C%20255)%3B%20stroke-opacity%3A%201%3B%20opacity%3A%201%3B%22%20d%3D%22M80%2C180.66666666666666L169.32499999999996%2C180.66666666666666L169.32499999999996%2C253L80%2C253Z%22%2F%3E%3Cg%20class%3D%22slicetext%22%3E%3Ctext%20data-notex%3D%221%22%20class%3D%22slicetext%22%20text-anchor%3D%22start%22%20style%3D%22font-family%3A%20%26quot%3BOpen%20Sans%26quot%3B%2C%20verdana%2C%20arial%2C%20sans-serif%3B%20font-size%3A%2012px%3B%20fill%3A%20rgb(255%2C%20255%2C%20255)%3B%20fill-opacity%3A%201%3B%20white-space%3A%20pre%3B%22%20data-unformatted%3D%22Equity%2C%20Domestic%20Equity%2C%20Poseidon%2C%20PO03%22%20data-math%3D%22N%22%20x%3D%220%22%20y%3D%220%22%20transform%3D%22translate(83.37720689136391%2C188.1931493630336)scale(0.3772068913639118)%22%3EEquity%2C%20Domestic%20Equity%2C%20Poseidon%2C%20PO03%3C%2Ftext%3E%3C%2Fg%3E%3C%2Fg%3E%3Cg%20class%3D%22slice%20cursor-pointer%22%3E%3Cpath%20class%3D%22surface%22%20style%3D%22pointer-events%3A%20all%3B%20stroke-width%3A%201px%3B%20fill%3A%20rgb(78%2C%20121%2C%20167)%3B%20fill-opacity%3A%201%3B%20stroke%3A%20rgb(255%2C%20255%2C%20255)%3B%20stroke-opacity%3A%201%3B%20opacity%3A%201%3B%22%20d%3D%22M172.32499999999996%2C30L261.6499999999999%2C30L261.6499999999999%2C102.33333333333333L172.32499999999996%2C102.33333333333333Z%22%2F%3E%3Cg%20class%3D%22slicetext%22%3E%3Ctext%20data-notex%3D%221%22%20class%3D%22slicetext%22%20text-anchor%3D%22start%22%20style%3D%22font-family%3A%20%26quot%3BOpen%20Sans%26quot%3B%2C%20verdana%2C%20arial%2C%20sans-serif%3B%20font-size%3A%2012px%3B%20fill%3A%20rgb(255%2C%20255%2C%20255)%3B%20fill-opacity%3A%201%3B%20white-space%3A%20pre%3B%22%20data-unformatted%3D%22Equity%2C%20Domestic%20Equity%2C%20Poseidon%2C%20PO04%22%20data-math%3D%22N%22%20x%3D%220%22%20y%3D%220%22%20transform%3D%22translate(175.7022068913639%2C37.52648269636694)scale(0.3772068913639118)%22%3EEquity%2C%20Domestic%20Equity%2C%20Poseidon%2C%20PO04%3C%2Ftext%3E%3C%2Fg%3E%3C%2Fg%3E%3Cg%20class%3D%22slice%20cursor-pointer%22%3E%3Cpath%20class%3D%22surface%22%20style%3D%22pointer-events%3A%20all%3B%20stroke-width%3A%201px%3B%20fill%3A%20rgb(78%2C%20121%2C%20167)%3B%20fill-opacity%3A%201%3B%20stroke%3A%20rgb(255%2C%20255%2C%20255)%3B%20stroke-opacity%3A%201%3B%20opacity%3A%201%3B%22%20d%3D%22M172.32499999999996%2C105.33333333333333L261.6499999999999%2C105.33333333333333L261.6499999999999%2C177.66666666666666L172.32499999999996%2C177.66666666666666Z%22%2F%3E%3Cg%20class%3D%22slicetext%22%3E%3Ctext%20data-notex%3D%221%22%20class%3D%22slicetext%22%20text-anchor%3D%22start%22%20style%3D%22font-family%3A%20%26quot%3BOpen%20Sans%26quot%3B%2C%20verdana%2C%20arial%2C%20sans-serif%3B%20font-size%3A%2012px%3B%20fill%3A%20rgb(255%2C%20255%2C%20255)%3B%20fill-opacity%3A%201%3B%20white-space%3A%20pre%3B%22%20data-unformatted%3D%22Equity%2C%20Foreign%20Equity%2C%20Iris%2C%20IR01%22%20data-math%3D%22N%22%20x%3D%220%22%20y%3D%220%22%20transform%3D%22translate(175.80874455732942%2C114.13826802128688)scale(0.48374455732946275)%22%3EEquity%2C%20Foreign%20Equity%2C%20Iris%2C%20IR01%3C%2Ftext%3E%3C%2Fg%3E%3C%2Fg%3E%3Cg%20class%3D%22slice%20cursor-pointer%22%3E%3Cpath%20class%3D%22surface%22%20style%3D%22pointer-events%3A%20all%3B%20stroke-width%3A%201px%3B%20fill%3A%20rgb(78%2C%20121%2C%20167)%3B%20fill-opacity%3A%201%3B%20stroke%3A%20rgb(255%2C%20255%2C%20255)%3B%20stroke-opacity%3A%201%3B%20opacity%3A%201%3B%22%20d%3D%22M172.32499999999996%2C180.66666666666666L261.6499999999999%2C180.66666666666666L261.6499999999999%2C253L172.32499999999996%2C253Z%22%2F%3E%3Cg%20class%3D%22slicetext%22%3E%3Ctext%20data-notex%3D%221%22%20class%3D%22slicetext%22%20text-anchor%3D%22start%22%20style%3D%22font-family%3A%20%26quot%3BOpen%20Sans%26quot%3B%2C%20verdana%2C%20arial%2C%20sans-serif%3B%20font-size%3A%2012px%3B%20fill%3A%20rgb(255%2C%20255%2C%20255)%3B%20fill-opacity%3A%201%3B%20white-space%3A%20pre%3B%22%20data-unformatted%3D%22Equity%2C%20Foreign%20Equity%2C%20Iris%2C%20IR02%22%20data-math%3D%22N%22%20x%3D%220%22%20y%3D%220%22%20transform%3D%22translate(175.80874455732942%2C189.47160135462022)scale(0.48374455732946275)%22%3EEquity%2C%20Foreign%20Equity%2C%20Iris%2C%20IR02%3C%2Ftext%3E%3C%2Fg%3E%3C%2Fg%3E%3Cg%20class%3D%22slice%20cursor-pointer%22%3E%3Cpath%20class%3D%22surface%22%20style%3D%22pointer-events%3A%20all%3B%20stroke-width%3A%201px%3B%20fill%3A%20rgb(78%2C%20121%2C%20167)%3B%20fill-opacity%3A%201%3B%20stroke%3A%20rgb(255%2C%20255%2C%20255)%3B%20stroke-opacity%3A%201%3B%20opacity%3A%201%3B%22%20d%3D%22M264.6499999999999%2C30L353.9749999999999%2C30L353.9749999999999%2C102.33333333333333L264.6499999999999%2C102.33333333333333Z%22%2F%3E%3Cg%20class%3D%22slicetext%22%3E%3Ctext%20data-notex%3D%221%22%20class%3D%22slicetext%22%20text-anchor%3D%22start%22%20style%3D%22font-family%3A%20%26quot%3BOpen%20Sans%26quot%3B%2C%20verdana%2C%20arial%2C%20sans-serif%3B%20font-size%3A%2012px%3B%20fill%3A%20rgb(255%2C%20255%2C%20255)%3B%20fill-opacity%3A%201%3B%20white-space%3A%20pre%3B%22%20data-unformatted%3D%22Equity%2C%20Foreign%20Equity%2C%20Iris%2C%20IR03%22%20data-math%3D%22N%22%20x%3D%220%22%20y%3D%220%22%20transform%3D%22translate(268.1337445573294%2C38.804934687953555)scale(0.4837445573294629)%22%3EEquity%2C%20Foreign%20Equity%2C%20Iris%2C%20IR03%3C%2Ftext%3E%3C%2Fg%3E%3C%2Fg%3E%3Cg%20class%3D%22slice%20cursor-pointer%22%3E%3Cpath%20class%3D%22surface%22%20style%3D%22pointer-events%3A%20all%3B%20stroke-width%3A%201px%3B%20fill%3A%20rgb(78%2C%20121%2C%20167)%3B%20fill-opacity%3A%201%3B%20stroke%3A%20rgb(255%2C%20255%2C%20255)%3B%20stroke-opacity%3A%201%3B%20opacity%3A%201%3B%22%20d%3D%22M264.6499999999999%2C105.33333333333333L353.9749999999999%2C105.33333333333333L353.9749999999999%2C177.66666666666666L264.6499999999999%2C177.66666666666666Z%22%2F%3E%3Cg%20class%3D%22slicetext%22%3E%3Ctext%20data-notex%3D%221%22%20class%3D%22slicetext%22%20text-anchor%3D%22start%22%20style%3D%22font-family%3A%20%26quot%3BOpen%20Sans%26quot%3B%2C%20verdana%2C%20arial%2C%20sans-serif%3B%20font-size%3A%2012px%3B%20fill%3A%20rgb(255%2C%20255%2C%20255)%3B%20fill-opacity%3A%201%3B%20white-space%3A%20pre%3B%22%20data-unformatted%3D%22Equity%2C%20Foreign%20Equity%2C%20Iris%2C%20IR04%22%20data-math%3D%22N%22%20x%3D%220%22%20y%3D%220%22%20transform%3D%22translate(268.1337445573294%2C114.13826802128688)scale(0.4837445573294629)%22%3EEquity%2C%20Foreign%20Equity%2C%20Iris%2C%20IR04%3C%2Ftext%3E%3C%2Fg%3E%3C%2Fg%3E%3Cg%20class%3D%22slice%20cursor-pointer%22%3E%3Cpath%20class%3D%22surface%22%20style%3D%22pointer-events%3A%20all%3B%20stroke-width%3A%201px%3B%20fill%3A%20rgb(242%2C%20142%2C%2044)%3B%20fill-opacity%3A%201%3B%20stroke%3A%20rgb(255%2C%20255%2C%20255)%3B%20stroke-opacity%3A%201%3B%20opacity%3A%201%3B%22%20d%3D%22M264.6499999999999%2C180.66666666666666L353.9749999999999%2C180.66666666666666L353.9749999999999%2C253L264.6499999999999%2C253Z%22%2F%3E%3Cg%20class%3D%22slicetext%22%3E%3Ctext%20data-notex%3D%221%22%20class%3D%22slicetext%22%20text-anchor%3D%22start%22%20style%3D%22font-family%3A%20%26quot%3BOpen%20Sans%26quot%3B%2C%20verdana%2C%20arial%2C%20sans-serif%3B%20font-size%3A%2012px%3B%20fill%3A%20rgb(68%2C%2068%2C%2068)%3B%20fill-opacity%3A%201%3B%20white-space%3A%20pre%3B%22%20data-unformatted%3D%22Forex%2C%20Developed%20Market%2C%20Kratos%2C%20KR01%22%20data-math%3D%22N%22%20x%3D%220%22%20y%3D%220%22%20transform%3D%22translate(268.03809967948007%2C188.32386282042836)scale(0.38809967948014074)%22%3EForex%2C%20Developed%20Market%2C%20Kratos%2C%20KR01%3C%2Ftext%3E%3C%2Fg%3E%3C%2Fg%3E%3Cg%20class%3D%22slice%20cursor-pointer%22%3E%3Cpath%20class%3D%22surface%22%20style%3D%22pointer-events%3A%20all%3B%20stroke-width%3A%201px%3B%20fill%3A%20rgb(242%2C%20142%2C%2044)%3B%20fill-opacity%3A%201%3B%20stroke%3A%20rgb(255%2C%20255%2C%20255)%3B%20stroke-opacity%3A%201%3B%20opacity%3A%201%3B%22%20d%3D%22M356.9749999999999%2C30L446.29999999999984%2C30L446.29999999999984%2C102.33333333333333L356.9749999999999%2C102.33333333333333Z%22%2F%3E%3Cg%20class%3D%22slicetext%22%3E%3Ctext%20data-notex%3D%221%22%20class%3D%22slicetext%22%20text-anchor%3D%22start%22%20style%3D%22font-family%3A%20%26quot%3BOpen%20Sans%26quot%3B%2C%20verdana%2C%20arial%2C%20sans-serif%3B%20font-size%3A%2012px%3B%20fill%3A%20rgb(68%2C%2068%2C%2068)%3B%20fill-opacity%3A%201%3B%20white-space%3A%20pre%3B%22%20data-unformatted%3D%22Forex%2C%20Developed%20Market%2C%20Kratos%2C%20KR02%22%20data-math%3D%22N%22%20x%3D%220%22%20y%3D%220%22%20transform%3D%22translate(360.36309967948006%2C37.65719615376169)scale(0.38809967948014046)%22%3EForex%2C%20Developed%20Market%2C%20Kratos%2C%20KR02%3C%2Ftext%3E%3C%2Fg%3E%3C%2Fg%3E%3Cg%20class%3D%22slice%20cursor-pointer%22%3E%3Cpath%20class%3D%22surface%22%20style%3D%22pointer-events%3A%20all%3B%20stroke-width%3A%201px%3B%20fill%3A%20rgb(242%2C%20142%2C%2044)%3B%20fill-opacity%3A%201%3B%20stroke%3A%20rgb(255%2C%20255%2C%20255)%3B%20stroke-opacity%3A%201%3B%20opacity%3A%201%3B%22%20d%3D%22M356.9749999999999%2C105.33333333333333L446.29999999999984%2C105.33333333333333L446.29999999999984%2C177.66666666666666L356.9749999999999%2C177.66666666666666Z%22%2F%3E%3Cg%20class%3D%22slicetext%22%3E%3Ctext%20data-notex%3D%221%22%20class%3D%22slicetext%22%20text-anchor%3D%22start%22%20style%3D%22font-family%3A%20%26quot%3BOpen%20Sans%26quot%3B%2C%20verdana%2C%20arial%2C%20sans-serif%3B%20font-size%3A%2012px%3B%20fill%3A%20rgb(68%2C%2068%2C%2068)%3B%20fill-opacity%3A%201%3B%20white-space%3A%20pre%3B%22%20data-unformatted%3D%22Forex%2C%20Developed%20Market%2C%20Kratos%2C%20KR03%22%20data-math%3D%22N%22%20x%3D%220%22%20y%3D%220%22%20transform%3D%22translate(360.36309967948006%2C112.99052948709502)scale(0.38809967948014046)%22%3EForex%2C%20Developed%20Market%2C%20Kratos%2C%20KR03%3C%2Ftext%3E%3C%2Fg%3E%3C%2Fg%3E%3Cg%20class%3D%22slice%20cursor-pointer%22%3E%3Cpath%20class%3D%22surface%22%20style%3D%22pointer-events%3A%20all%3B%20stroke-width%3A%201px%3B%20fill%3A%20rgb(242%2C%20142%2C%2044)%3B%20fill-opacity%3A%201%3B%20stroke%3A%20rgb(255%2C%20255%2C%20255)%3B%20stroke-opacity%3A%201%3B%20opacity%3A%201%3B%22%20d%3D%22M356.9749999999999%2C180.66666666666666L446.29999999999984%2C180.66666666666666L446.29999999999984%2C253L356.9749999999999%2C253Z%22%2F%3E%3Cg%20class%3D%22slicetext%22%3E%3Ctext%20data-notex%3D%221%22%20class%3D%22slicetext%22%20text-anchor%3D%22start%22%20style%3D%22font-family%3A%20%26quot%3BOpen%20Sans%26quot%3B%2C%20verdana%2C%20arial%2C%20sans-serif%3B%20font-size%3A%2012px%3B%20fill%3A%20rgb(68%2C%2068%2C%2068)%3B%20fill-opacity%3A%201%3B%20white-space%3A%20pre%3B%22%20data-unformatted%3D%22Forex%2C%20Developed%20Market%2C%20Kratos%2C%20KR04%22%20data-math%3D%22N%22%20x%3D%220%22%20y%3D%220%22%20transform%3D%22translate(360.36309967948006%2C188.32386282042833)scale(0.38809967948014046)%22%3EForex%2C%20Developed%20Market%2C%20Kratos%2C%20KR04%3C%2Ftext%3E%3C%2Fg%3E%3C%2Fg%3E%3Cg%20class%3D%22slice%20cursor-pointer%22%3E%3Cpath%20class%3D%22surface%22%20style%3D%22pointer-events%3A%20all%3B%20stroke-width%3A%201px%3B%20fill%3A%20rgb(242%2C%20142%2C%2044)%3B%20fill-opacity%3A%201%3B%20stroke%3A%20rgb(255%2C%20255%2C%20255)%3B%20stroke-opacity%3A%201%3B%20opacity%3A%201%3B%22%20d%3D%22M449.29999999999984%2C30L538.6249999999998%2C30L538.6249999999998%2C102.33333333333333L449.29999999999984%2C102.33333333333333Z%22%2F%3E%3Cg%20class%3D%22slicetext%22%3E%3Ctext%20data-notex%3D%221%22%20class%3D%22slicetext%22%20text-anchor%3D%22start%22%20style%3D%22font-family%3A%20%26quot%3BOpen%20Sans%26quot%3B%2C%20verdana%2C%20arial%2C%20sans-serif%3B%20font-size%3A%2012px%3B%20fill%3A%20rgb(68%2C%2068%2C%2068)%3B%20fill-opacity%3A%201%3B%20white-space%3A%20pre%3B%22%20data-unformatted%3D%22Forex%2C%20Emerging%20Market%2C%20Hypnos%2C%20HY01%22%20data-math%3D%22N%22%20x%3D%220%22%20y%3D%220%22%20transform%3D%22translate(452.68809967948%2C37.65719615376169)scale(0.38809967948014046)%22%3EForex%2C%20Emerging%20Market%2C%20Hypnos%2C%20HY01%3C%2Ftext%3E%3C%2Fg%3E%3C%2Fg%3E%3Cg%20class%3D%22slice%20cursor-pointer%22%3E%3Cpath%20class%3D%22surface%22%20style%3D%22pointer-events%3A%20all%3B%20stroke-width%3A%201px%3B%20fill%3A%20rgb(242%2C%20142%2C%2044)%3B%20fill-opacity%3A%201%3B%20stroke%3A%20rgb(255%2C%20255%2C%20255)%3B%20stroke-opacity%3A%201%3B%20opacity%3A%201%3B%22%20d%3D%22M449.29999999999984%2C105.33333333333333L538.6249999999998%2C105.33333333333333L538.6249999999998%2C177.66666666666666L449.29999999999984%2C177.66666666666666Z%22%2F%3E%3Cg%20class%3D%22slicetext%22%3E%3Ctext%20data-notex%3D%221%22%20class%3D%22slicetext%22%20text-anchor%3D%22start%22%20style%3D%22font-family%3A%20%26quot%3BOpen%20Sans%26quot%3B%2C%20verdana%2C%20arial%2C%20sans-serif%3B%20font-size%3A%2012px%3B%20fill%3A%20rgb(68%2C%2068%2C%2068)%3B%20fill-opacity%3A%201%3B%20white-space%3A%20pre%3B%22%20data-unformatted%3D%22Forex%2C%20Emerging%20Market%2C%20Hypnos%2C%20HY02%22%20data-math%3D%22N%22%20x%3D%220%22%20y%3D%220%22%20transform%3D%22translate(452.68809967948%2C112.99052948709502)scale(0.38809967948014046)%22%3EForex%2C%20Emerging%20Market%2C%20Hypnos%2C%20HY02%3C%2Ftext%3E%3C%2Fg%3E%3C%2Fg%3E%3Cg%20class%3D%22slice%20cursor-pointer%22%3E%3Cpath%20class%3D%22surface%22%20style%3D%22pointer-events%3A%20all%3B%20stroke-width%3A%201px%3B%20fill%3A%20rgb(242%2C%20142%2C%2044)%3B%20fill-opacity%3A%201%3B%20stroke%3A%20rgb(255%2C%20255%2C%20255)%3B%20stroke-opacity%3A%201%3B%20opacity%3A%201%3B%22%20d%3D%22M449.29999999999984%2C180.66666666666666L538.6249999999998%2C180.66666666666666L538.6249999999998%2C253L449.29999999999984%2C253Z%22%2F%3E%3Cg%20class%3D%22slicetext%22%3E%3Ctext%20data-notex%3D%221%22%20class%3D%22slicetext%22%20text-anchor%3D%22start%22%20style%3D%22font-family%3A%20%26quot%3BOpen%20Sans%26quot%3B%2C%20verdana%2C%20arial%2C%20sans-serif%3B%20font-size%3A%2012px%3B%20fill%3A%20rgb(68%2C%2068%2C%2068)%3B%20fill-opacity%3A%201%3B%20white-space%3A%20pre%3B%22%20data-unformatted%3D%22Forex%2C%20Emerging%20Market%2C%20Hypnos%2C%20HY03%22%20data-math%3D%22N%22%20x%3D%220%22%20y%3D%220%22%20transform%3D%22translate(452.68809967948%2C188.32386282042833)scale(0.38809967948014046)%22%3EForex%2C%20Emerging%20Market%2C%20Hypnos%2C%20HY03%3C%2Ftext%3E%3C%2Fg%3E%3C%2Fg%3E%3Cg%20class%3D%22slice%20cursor-pointer%22%3E%3Cpath%20class%3D%22surface%22%20style%3D%22pointer-events%3A%20all%3B%20stroke-width%3A%201px%3B%20fill%3A%20rgb(242%2C%20142%2C%2044)%3B%20fill-opacity%3A%201%3B%20stroke%3A%20rgb(255%2C%20255%2C%20255)%3B%20stroke-opacity%3A%201%3B%20opacity%3A%201%3B%22%20d%3D%22M541.6249999999998%2C30L630.9499999999997%2C30L630.9499999999997%2C102.33333333333333L541.6249999999998%2C102.33333333333333Z%22%2F%3E%3Cg%20class%3D%22slicetext%22%3E%3Ctext%20data-notex%3D%221%22%20class%3D%22slicetext%22%20text-anchor%3D%22start%22%20style%3D%22font-family%3A%20%26quot%3BOpen%20Sans%26quot%3B%2C%20verdana%2C%20arial%2C%20sans-serif%3B%20font-size%3A%2012px%3B%20fill%3A%20rgb(68%2C%2068%2C%2068)%3B%20fill-opacity%3A%201%3B%20white-space%3A%20pre%3B%22%20data-unformatted%3D%22Forex%2C%20Emerging%20Market%2C%20Hypnos%2C%20HY04%22%20data-math%3D%22N%22%20x%3D%220%22%20y%3D%220%22%20transform%3D%22translate(545.0130996794799%2C37.65719615376169)scale(0.38809967948014046)%22%3EForex%2C%20Emerging%20Market%2C%20Hypnos%2C%20HY04%3C%2Ftext%3E%3C%2Fg%3E%3C%2Fg%3E%3Cg%20class%3D%22slice%20cursor-pointer%22%3E%3Cpath%20class%3D%22surface%22%20style%3D%22pointer-events%3A%20all%3B%20stroke-width%3A%201px%3B%20fill%3A%20rgb(242%2C%20142%2C%2044)%3B%20fill-opacity%3A%201%3B%20stroke%3A%20rgb(255%2C%20255%2C%20255)%3B%20stroke-opacity%3A%201%3B%20opacity%3A%201%3B%22%20d%3D%22M541.6249999999998%2C105.33333333333333L630.9499999999997%2C105.33333333333333L630.9499999999997%2C177.66666666666666L541.6249999999998%2C177.66666666666666Z%22%2F%3E%3Cg%20class%3D%22slicetext%22%3E%3Ctext%20data-notex%3D%221%22%20class%3D%22slicetext%22%20text-anchor%3D%22start%22%20style%3D%22font-family%3A%20%26quot%3BOpen%20Sans%26quot%3B%2C%20verdana%2C%20arial%2C%20sans-serif%3B%20font-size%3A%2012px%3B%20fill%3A%20rgb(68%2C%2068%2C%2068)%3B%20fill-opacity%3A%201%3B%20white-space%3A%20pre%3B%22%20data-unformatted%3D%22Forex%2C%20Frontier%20Market%2C%20Hera%2C%20HE01%22%20data-math%3D%22N%22%20x%3D%220%22%20y%3D%220%22%20transform%3D%22translate(545.0635526315788%2C113.59596491228069)scale(0.438552631578947)%22%3EForex%2C%20Frontier%20Market%2C%20Hera%2C%20HE01%3C%2Ftext%3E%3C%2Fg%3E%3C%2Fg%3E%3Cg%20class%3D%22slice%20cursor-pointer%22%3E%3Cpath%20class%3D%22surface%22%20style%3D%22pointer-events%3A%20all%3B%20stroke-width%3A%201px%3B%20fill%3A%20rgb(242%2C%20142%2C%2044)%3B%20fill-opacity%3A%201%3B%20stroke%3A%20rgb(255%2C%20255%2C%20255)%3B%20stroke-opacity%3A%201%3B%20opacity%3A%201%3B%22%20d%3D%22M541.6249999999998%2C180.66666666666666L630.9499999999997%2C180.66666666666666L630.9499999999997%2C253L541.6249999999998%2C253Z%22%2F%3E%3Cg%20class%3D%22slicetext%22%3E%3Ctext%20data-notex%3D%221%22%20class%3D%22slicetext%22%20text-anchor%3D%22start%22%20style%3D%22font-family%3A%20%26quot%3BOpen%20Sans%26quot%3B%2C%20verdana%2C%20arial%2C%20sans-serif%3B%20font-size%3A%2012px%3B%20fill%3A%20rgb(68%2C%2068%2C%2068)%3B%20fill-opacity%3A%201%3B%20white-space%3A%20pre%3B%22%20data-unformatted%3D%22Forex%2C%20Frontier%20Market%2C%20Hera%2C%20HE02%22%20data-math%3D%22N%22%20x%3D%220%22%20y%3D%220%22%20transform%3D%22translate(545.0635526315788%2C188.92929824561404)scale(0.438552631578947)%22%3EForex%2C%20Frontier%20Market%2C%20Hera%2C%20HE02%3C%2Ftext%3E%3C%2Fg%3E%3C%2Fg%3E%3Cg%20class%3D%22slice%20cursor-pointer%22%3E%3Cpath%20class%3D%22surface%22%20style%3D%22pointer-events%3A%20all%3B%20stroke-width%3A%201px%3B%20fill%3A%20rgb(242%2C%20142%2C%2044)%3B%20fill-opacity%3A%201%3B%20stroke%3A%20rgb(255%2C%20255%2C%20255)%3B%20stroke-opacity%3A%201%3B%20opacity%3A%201%3B%22%20d%3D%22M633.9499999999997%2C30L723.2749999999996%2C30L723.2749999999996%2C102.33333333333333L633.9499999999997%2C102.33333333333333Z%22%2F%3E%3Cg%20class%3D%22slicetext%22%3E%3Ctext%20data-notex%3D%221%22%20class%3D%22slicetext%22%20text-anchor%3D%22start%22%20style%3D%22font-family%3A%20%26quot%3BOpen%20Sans%26quot%3B%2C%20verdana%2C%20arial%2C%20sans-serif%3B%20font-size%3A%2012px%3B%20fill%3A%20rgb(68%2C%2068%2C%2068)%3B%20fill-opacity%3A%201%3B%20white-space%3A%20pre%3B%22%20data-unformatted%3D%22Forex%2C%20Frontier%20Market%2C%20Hera%2C%20HE03%22%20data-math%3D%22N%22%20x%3D%220%22%20y%3D%220%22%20transform%3D%22translate(637.3885526315787%2C38.262631578947364)scale(0.438552631578947)%22%3EForex%2C%20Frontier%20Market%2C%20Hera%2C%20HE03%3C%2Ftext%3E%3C%2Fg%3E%3C%2Fg%3E%3Cg%20class%3D%22slice%20cursor-pointer%22%3E%3Cpath%20class%3D%22surface%22%20style%3D%22pointer-events%3A%20all%3B%20stroke-width%3A%201px%3B%20fill%3A%20rgb(242%2C%20142%2C%2044)%3B%20fill-opacity%3A%201%3B%20stroke%3A%20rgb(255%2C%20255%2C%20255)%3B%20stroke-opacity%3A%201%3B%20opacity%3A%201%3B%22%20d%3D%22M633.9499999999997%2C105.33333333333333L723.2749999999996%2C105.33333333333333L723.2749999999996%2C177.66666666666666L633.9499999999997%2C177.66666666666666Z%22%2F%3E%3Cg%20class%3D%22slicetext%22%3E%3Ctext%20data-notex%3D%221%22%20class%3D%22slicetext%22%20text-anchor%3D%22start%22%20style%3D%22font-family%3A%20%26quot%3BOpen%20Sans%26quot%3B%2C%20verdana%2C%20arial%2C%20sans-serif%3B%20font-size%3A%2012px%3B%20fill%3A%20rgb(68%2C%2068%2C%2068)%3B%20fill-opacity%3A%201%3B%20white-space%3A%20pre%3B%22%20data-unformatted%3D%22Forex%2C%20Frontier%20Market%2C%20Hera%2C%20HE04%22%20data-math%3D%22N%22%20x%3D%220%22%20y%3D%220%22%20transform%3D%22translate(637.3885526315787%2C113.59596491228069)scale(0.438552631578947)%22%3EForex%2C%20Frontier%20Market%2C%20Hera%2C%20HE04%3C%2Ftext%3E%3C%2Fg%3E%3C%2Fg%3E%3Cg%20class%3D%22slice%20cursor-pointer%22%3E%3Cpath%20class%3D%22surface%22%20style%3D%22pointer-events%3A%20all%3B%20stroke-width%3A%201px%3B%20fill%3A%20rgb(225%2C%2087%2C%2089)%3B%20fill-opacity%3A%201%3B%20stroke%3A%20rgb(255%2C%20255%2C%20255)%3B%20stroke-opacity%3A%201%3B%20opacity%3A%201%3B%22%20d%3D%22M633.9499999999997%2C180.66666666666666L723.2749999999996%2C180.66666666666666L723.2749999999996%2C253L633.9499999999997%2C253Z%22%2F%3E%3Cg%20class%3D%22slicetext%22%3E%3Ctext%20data-notex%3D%221%22%20class%3D%22slicetext%22%20text-anchor%3D%22start%22%20style%3D%22font-family%3A%20%26quot%3BOpen%20Sans%26quot%3B%2C%20verdana%2C%20arial%2C%20sans-serif%3B%20font-size%3A%2012px%3B%20fill%3A%20rgb(68%2C%2068%2C%2068)%3B%20fill-opacity%3A%201%3B%20white-space%3A%20pre%3B%22%20data-unformatted%3D%22Rates%20%26amp%3B%20Credit%2C%20Domestic%20Rates%20%26amp%3B%20Credit%2C%20Apollo%2C%20AP01%22%20data-math%3D%22N%22%20x%3D%220%22%20y%3D%220%22%20transform%3D%22translate(637.2334183673466%2C187.0676870748299)scale(0.28341836734693854)%22%3ERates%20%26amp%3B%20Credit%2C%20Domestic%20Rates%20%26amp%3B%20Credit%2C%20Apollo%2C%20AP01%3C%2Ftext%3E%3C%2Fg%3E%3C%2Fg%3E%3Cg%20class%3D%22slice%20cursor-pointer%22%3E%3Cpath%20class%3D%22surface%22%20style%3D%22pointer-events%3A%20all%3B%20stroke-width%3A%201px%3B%20fill%3A%20rgb(225%2C%2087%2C%2089)%3B%20fill-opacity%3A%201%3B%20stroke%3A%20rgb(255%2C%20255%2C%20255)%3B%20stroke-opacity%3A%201%3B%20opacity%3A%201%3B%22%20d%3D%22M726.2749999999996%2C30L815.5999999999997%2C30L815.5999999999997%2C102.33333333333333L726.2749999999996%2C102.33333333333333Z%22%2F%3E%3Cg%20class%3D%22slicetext%22%3E%3Ctext%20data-notex%3D%221%22%20class%3D%22slicetext%22%20text-anchor%3D%22start%22%20style%3D%22font-family%3A%20%26quot%3BOpen%20Sans%26quot%3B%2C%20verdana%2C%20arial%2C%20sans-serif%3B%20font-size%3A%2012px%3B%20fill%3A%20rgb(68%2C%2068%2C%2068)%3B%20fill-opacity%3A%201%3B%20white-space%3A%20pre%3B%22%20data-unformatted%3D%22Rates%20%26amp%3B%20Credit%2C%20Domestic%20Rates%20%26amp%3B%20Credit%2C%20Apollo%2C%20AP02%22%20data-math%3D%22N%22%20x%3D%220%22%20y%3D%220%22%20transform%3D%22translate(729.5584183673466%2C36.40102040816327)scale(0.2834183673469389)%22%3ERates%20%26amp%3B%20Credit%2C%20Domestic%20Rates%20%26amp%3B%20Credit%2C%20Apollo%2C%20AP02%3C%2Ftext%3E%3C%2Fg%3E%3C%2Fg%3E%3Cg%20class%3D%22slice%20cursor-pointer%22%3E%3Cpath%20class%3D%22surface%22%20style%3D%22pointer-events%3A%20all%3B%20stroke-width%3A%201px%3B%20fill%3A%20rgb(225%2C%2087%2C%2089)%3B%20fill-opacity%3A%201%3B%20stroke%3A%20rgb(255%2C%20255%2C%20255)%3B%20stroke-opacity%3A%201%3B%20opacity%3A%201%3B%22%20d%3D%22M726.2749999999996%2C105.33333333333333L815.5999999999997%2C105.33333333333333L815.5999999999997%2C177.66666666666666L726.2749999999996%2C177.66666666666666Z%22%2F%3E%3Cg%20class%3D%22slicetext%22%3E%3Ctext%20data-notex%3D%221%22%20class%3D%22slicetext%22%20text-anchor%3D%22start%22%20style%3D%22font-family%3A%20%26quot%3BOpen%20Sans%26quot%3B%2C%20verdana%2C%20arial%2C%20sans-serif%3B%20font-size%3A%2012px%3B%20fill%3A%20rgb(68%2C%2068%2C%2068)%3B%20fill-opacity%3A%201%3B%20white-space%3A%20pre%3B%22%20data-unformatted%3D%22Rates%20%26amp%3B%20Credit%2C%20Domestic%20Rates%20%26amp%3B%20Credit%2C%20Apollo%2C%20AP03%22%20data-math%3D%22N%22%20x%3D%220%22%20y%3D%220%22%20transform%3D%22translate(729.5584183673466%2C111.73435374149659)scale(0.2834183673469389)%22%3ERates%20%26amp%3B%20Credit%2C%20Domestic%20Rates%20%26amp%3B%20Credit%2C%20Apollo%2C%20AP03%3C%2Ftext%3E%3C%2Fg%3E%3C%2Fg%3E%3Cg%20class%3D%22slice%20cursor-pointer%22%3E%3Cpath%20class%3D%22surface%22%20style%3D%22pointer-events%3A%20all%3B%20stroke-width%3A%201px%3B%20fill%3A%20rgb(225%2C%2087%2C%2089)%3B%20fill-opacity%3A%201%3B%20stroke%3A%20rgb(255%2C%20255%2C%20255)%3B%20stroke-opacity%3A%201%3B%20opacity%3A%201%3B%22%20d%3D%22M726.2749999999996%2C180.66666666666666L815.5999999999997%2C180.66666666666666L815.5999999999997%2C253L726.2749999999996%2C253Z%22%2F%3E%3Cg%20class%3D%22slicetext%22%3E%3Ctext%20data-notex%3D%221%22%20class%3D%22slicetext%22%20text-anchor%3D%22start%22%20style%3D%22font-family%3A%20%26quot%3BOpen%20Sans%26quot%3B%2C%20verdana%2C%20arial%2C%20sans-serif%3B%20font-size%3A%2012px%3B%20fill%3A%20rgb(68%2C%2068%2C%2068)%3B%20fill-opacity%3A%201%3B%20white-space%3A%20pre%3B%22%20data-unformatted%3D%22Rates%20%26amp%3B%20Credit%2C%20Domestic%20Rates%20%26amp%3B%20Credit%2C%20Apollo%2C%20AP04%22%20data-math%3D%22N%22%20x%3D%220%22%20y%3D%220%22%20transform%3D%22translate(729.5584183673466%2C187.06768707482993)scale(0.2834183673469389)%22%3ERates%20%26amp%3B%20Credit%2C%20Domestic%20Rates%20%26amp%3B%20Credit%2C%20Apollo%2C%20AP04%3C%2Ftext%3E%3C%2Fg%3E%3C%2Fg%3E%3Cg%20class%3D%22slice%20cursor-pointer%22%3E%3Cpath%20class%3D%22surface%22%20style%3D%22pointer-events%3A%20all%3B%20stroke-width%3A%201px%3B%20fill%3A%20rgb(225%2C%2087%2C%2089)%3B%20fill-opacity%3A%201%3B%20stroke%3A%20rgb(255%2C%20255%2C%20255)%3B%20stroke-opacity%3A%201%3B%20opacity%3A%201%3B%22%20d%3D%22M818.5999999999997%2C30L907.9249999999997%2C30L907.9249999999997%2C102.33333333333333L818.5999999999997%2C102.33333333333333Z%22%2F%3E%3Cg%20class%3D%22slicetext%22%3E%3Ctext%20data-notex%3D%221%22%20class%3D%22slicetext%22%20text-anchor%3D%22start%22%20style%3D%22font-family%3A%20%26quot%3BOpen%20Sans%26quot%3B%2C%20verdana%2C%20arial%2C%20sans-serif%3B%20font-size%3A%2012px%3B%20fill%3A%20rgb(68%2C%2068%2C%2068)%3B%20fill-opacity%3A%201%3B%20white-space%3A%20pre%3B%22%20data-unformatted%3D%22Rates%20%26amp%3B%20Credit%2C%20Domestic%20Rates%20%26amp%3B%20Credit%2C%20Hermes%2C%20HE01%22%20data-math%3D%22N%22%20x%3D%220%22%20y%3D%220%22%20transform%3D%22translate(821.8746676171006%2C36.29601140521123)scale(0.27466761710093623)%22%3ERates%20%26amp%3B%20Credit%2C%20Domestic%20Rates%20%26amp%3B%20Credit%2C%20Hermes%2C%20HE01%3C%2Ftext%3E%3C%2Fg%3E%3C%2Fg%3E%3Cg%20class%3D%22slice%20cursor-pointer%22%3E%3Cpath%20class%3D%22surface%22%20style%3D%22pointer-events%3A%20all%3B%20stroke-width%3A%201px%3B%20fill%3A%20rgb(225%2C%2087%2C%2089)%3B%20fill-opacity%3A%201%3B%20stroke%3A%20rgb(255%2C%20255%2C%20255)%3B%20stroke-opacity%3A%201%3B%20opacity%3A%201%3B%22%20d%3D%22M818.5999999999997%2C105.33333333333333L907.9249999999997%2C105.33333333333333L907.9249999999997%2C177.66666666666666L818.5999999999997%2C177.66666666666666Z%22%2F%3E%3Cg%20class%3D%22slicetext%22%3E%3Ctext%20data-notex%3D%221%22%20class%3D%22slicetext%22%20text-anchor%3D%22start%22%20style%3D%22font-family%3A%20%26quot%3BOpen%20Sans%26quot%3B%2C%20verdana%2C%20arial%2C%20sans-serif%3B%20font-size%3A%2012px%3B%20fill%3A%20rgb(68%2C%2068%2C%2068)%3B%20fill-opacity%3A%201%3B%20white-space%3A%20pre%3B%22%20data-unformatted%3D%22Rates%20%26amp%3B%20Credit%2C%20Domestic%20Rates%20%26amp%3B%20Credit%2C%20Hermes%2C%20HE02%22%20data-math%3D%22N%22%20x%3D%220%22%20y%3D%220%22%20transform%3D%22translate(821.8746676171006%2C111.62934473854456)scale(0.27466761710093623)%22%3ERates%20%26amp%3B%20Credit%2C%20Domestic%20Rates%20%26amp%3B%20Credit%2C%20Hermes%2C%20HE02%3C%2Ftext%3E%3C%2Fg%3E%3C%2Fg%3E%3Cg%20class%3D%22slice%20cursor-pointer%22%3E%3Cpath%20class%3D%22surface%22%20style%3D%22pointer-events%3A%20all%3B%20stroke-width%3A%201px%3B%20fill%3A%20rgb(225%2C%2087%2C%2089)%3B%20fill-opacity%3A%201%3B%20stroke%3A%20rgb(255%2C%20255%2C%20255)%3B%20stroke-opacity%3A%201%3B%20opacity%3A%201%3B%22%20d%3D%22M818.5999999999997%2C180.66666666666666L907.9249999999997%2C180.66666666666666L907.9249999999997%2C253L818.5999999999997%2C253Z%22%2F%3E%3Cg%20class%3D%22slicetext%22%3E%3Ctext%20data-notex%3D%221%22%20class%3D%22slicetext%22%20text-anchor%3D%22start%22%20style%3D%22font-family%3A%20%26quot%3BOpen%20Sans%26quot%3B%2C%20verdana%2C%20arial%2C%20sans-serif%3B%20font-size%3A%2012px%3B%20fill%3A%20rgb(68%2C%2068%2C%2068)%3B%20fill-opacity%3A%201%3B%20white-space%3A%20pre%3B%22%20data-unformatted%3D%22Rates%20%26amp%3B%20Credit%2C%20Domestic%20Rates%20%26amp%3B%20Credit%2C%20Hermes%2C%20HE03%22%20data-math%3D%22N%22%20x%3D%220%22%20y%3D%220%22%20transform%3D%22translate(821.8746676171006%2C186.9626780718779)scale(0.27466761710093623)%22%3ERates%20%26amp%3B%20Credit%2C%20Domestic%20Rates%20%26amp%3B%20Credit%2C%20Hermes%2C%20HE03%3C%2Ftext%3E%3C%2Fg%3E%3C%2Fg%3E%3Cg%20class%3D%22slice%20cursor-pointer%22%3E%3Cpath%20class%3D%22surface%22%20style%3D%22pointer-events%3A%20all%3B%20stroke-width%3A%201px%3B%20fill%3A%20rgb(225%2C%2087%2C%2089)%3B%20fill-opacity%3A%201%3B%20stroke%3A%20rgb(255%2C%20255%2C%20255)%3B%20stroke-opacity%3A%201%3B%20opacity%3A%201%3B%22%20d%3D%22M910.9249999999997%2C30L1000.2499999999998%2C30L1000.2499999999998%2C102.33333333333333L910.9249999999997%2C102.33333333333333Z%22%2F%3E%3Cg%20class%3D%22slicetext%22%3E%3Ctext%20data-notex%3D%221%22%20class%3D%22slicetext%22%20text-anchor%3D%22start%22%20style%3D%22font-family%3A%20%26quot%3BOpen%20Sans%26quot%3B%2C%20verdana%2C%20arial%2C%20sans-serif%3B%20font-size%3A%2012px%3B%20fill%3A%20rgb(68%2C%2068%2C%2068)%3B%20fill-opacity%3A%201%3B%20white-space%3A%20pre%3B%22%20data-unformatted%3D%22Rates%20%26amp%3B%20Credit%2C%20Domestic%20Rates%20%26amp%3B%20Credit%2C%20Hermes%2C%20HE04%22%20data-math%3D%22N%22%20x%3D%220%22%20y%3D%220%22%20transform%3D%22translate(914.1996676171007%2C36.29601140521123)scale(0.27466761710093623)%22%3ERates%20%26amp%3B%20Credit%2C%20Domestic%20Rates%20%26amp%3B%20Credit%2C%20Hermes%2C%20HE04%3C%2Ftext%3E%3C%2Fg%3E%3C%2Fg%3E%3Cg%20class%3D%22slice%20cursor-pointer%22%3E%3Cpath%20class%3D%22surface%22%20style%3D%22pointer-events%3A%20all%3B%20stroke-width%3A%201px%3B%20fill%3A%20rgb(225%2C%2087%2C%2089)%3B%20fill-opacity%3A%201%3B%20stroke%3A%20rgb(255%2C%20255%2C%20255)%3B%20stroke-opacity%3A%201%3B%20opacity%3A%201%3B%22%20d%3D%22M910.9249999999997%2C105.33333333333333L1000.2499999999998%2C105.33333333333333L1000.2499999999998%2C177.66666666666666L910.9249999999997%2C177.66666666666666Z%22%2F%3E%3Cg%20class%3D%22slicetext%22%3E%3Ctext%20data-notex%3D%221%22%20class%3D%22slicetext%22%20text-anchor%3D%22start%22%20style%3D%22font-family%3A%20%26quot%3BOpen%20Sans%26quot%3B%2C%20verdana%2C%20arial%2C%20sans-serif%3B%20font-size%3A%2012px%3B%20fill%3A%20rgb(68%2C%2068%2C%2068)%3B%20fill-opacity%3A%201%3B%20white-space%3A%20pre%3B%22%20data-unformatted%3D%22Rates%20%26amp%3B%20Credit%2C%20Domestic%20Rates%20%26amp%3B%20Credit%2C%20Zeus%2C%20ZE01%22%20data-math%3D%22N%22%20x%3D%220%22%20y%3D%220%22%20transform%3D%22translate(914.2156685840218%2C111.82135634159842)scale(0.29066858402209034)%22%3ERates%20%26amp%3B%20Credit%2C%20Domestic%20Rates%20%26amp%3B%20Credit%2C%20Zeus%2C%20ZE01%3C%2Ftext%3E%3C%2Fg%3E%3C%2Fg%3E%3Cg%20class%3D%22slice%20cursor-pointer%22%3E%3Cpath%20class%3D%22surface%22%20style%3D%22pointer-events%3A%20all%3B%20stroke-width%3A%201px%3B%20fill%3A%20rgb(225%2C%2087%2C%2089)%3B%20fill-opacity%3A%201%3B%20stroke%3A%20rgb(255%2C%20255%2C%20255)%3B%20stroke-opacity%3A%201%3B%20opacity%3A%201%3B%22%20d%3D%22M910.9249999999997%2C180.66666666666666L1000.2499999999998%2C180.66666666666666L1000.2499999999998%2C253L910.9249999999997%2C253Z%22%2F%3E%3Cg%20class%3D%22slicetext%22%3E%3Ctext%20data-notex%3D%221%22%20class%3D%22slicetext%22%20text-anchor%3D%22start%22%20style%3D%22font-family%3A%20%26quot%3BOpen%20Sans%26quot%3B%2C%20verdana%2C%20arial%2C%20sans-serif%3B%20font-size%3A%2012px%3B%20fill%3A%20rgb(68%2C%2068%2C%2068)%3B%20fill-opacity%3A%201%3B%20white-space%3A%20pre%3B%22%20data-unformatted%3D%22Rates%20%26amp%3B%20Credit%2C%20Domestic%20Rates%20%26amp%3B%20Credit%2C%20Zeus%2C%20ZE02%22%20data-math%3D%22N%22%20x%3D%220%22%20y%3D%220%22%20transform%3D%22translate(914.2156685840218%2C187.15468967493175)scale(0.29066858402209034)%22%3ERates%20%26amp%3B%20Credit%2C%20Domestic%20Rates%20%26amp%3B%20Credit%2C%20Zeus%2C%20ZE02%3C%2Ftext%3E%3C%2Fg%3E%3C%2Fg%3E%3Cg%20class%3D%22slice%20cursor-pointer%22%3E%3Cpath%20class%3D%22surface%22%20style%3D%22pointer-events%3A%20all%3B%20stroke-width%3A%201px%3B%20fill%3A%20rgb(225%2C%2087%2C%2089)%3B%20fill-opacity%3A%201%3B%20stroke%3A%20rgb(255%2C%20255%2C%20255)%3B%20stroke-opacity%3A%201%3B%20opacity%3A%201%3B%22%20d%3D%22M1003.2499999999998%2C30L1092.5749999999998%2C30L1092.5749999999998%2C102.33333333333333L1003.2499999999998%2C102.33333333333333Z%22%2F%3E%3Cg%20class%3D%22slicetext%22%3E%3Ctext%20data-notex%3D%221%22%20class%3D%22slicetext%22%20text-anchor%3D%22start%22%20style%3D%22font-family%3A%20%26quot%3BOpen%20Sans%26quot%3B%2C%20verdana%2C%20arial%2C%20sans-serif%3B%20font-size%3A%2012px%3B%20fill%3A%20rgb(68%2C%2068%2C%2068)%3B%20fill-opacity%3A%201%3B%20white-space%3A%20pre%3B%22%20data-unformatted%3D%22Rates%20%26amp%3B%20Credit%2C%20Domestic%20Rates%20%26amp%3B%20Credit%2C%20Zeus%2C%20ZE03%22%20data-math%3D%22N%22%20x%3D%220%22%20y%3D%220%22%20transform%3D%22translate(1006.5406685840219%2C36.48802300826508)scale(0.29066858402209034)%22%3ERates%20%26amp%3B%20Credit%2C%20Domestic%20Rates%20%26amp%3B%20Credit%2C%20Zeus%2C%20ZE03%3C%2Ftext%3E%3C%2Fg%3E%3C%2Fg%3E%3Cg%20class%3D%22slice%20cursor-pointer%22%3E%3Cpath%20class%3D%22surface%22%20style%3D%22pointer-events%3A%20all%3B%20stroke-width%3A%201px%3B%20fill%3A%20rgb(225%2C%2087%2C%2089)%3B%20fill-opacity%3A%201%3B%20stroke%3A%20rgb(255%2C%20255%2C%20255)%3B%20stroke-opacity%3A%201%3B%20opacity%3A%201%3B%22%20d%3D%22M1003.2499999999998%2C105.33333333333333L1092.5749999999998%2C105.33333333333333L1092.5749999999998%2C177.66666666666666L1003.2499999999998%2C177.66666666666666Z%22%2F%3E%3Cg%20class%3D%22slicetext%22%3E%3Ctext%20data-notex%3D%221%22%20class%3D%22slicetext%22%20text-anchor%3D%22start%22%20style%3D%22font-family%3A%20%26quot%3BOpen%20Sans%26quot%3B%2C%20verdana%2C%20arial%2C%20sans-serif%3B%20font-size%3A%2012px%3B%20fill%3A%20rgb(68%2C%2068%2C%2068)%3B%20fill-opacity%3A%201%3B%20white-space%3A%20pre%3B%22%20data-unformatted%3D%22Rates%20%26amp%3B%20Credit%2C%20Domestic%20Rates%20%26amp%3B%20Credit%2C%20Zeus%2C%20ZE04%22%20data-math%3D%22N%22%20x%3D%220%22%20y%3D%220%22%20transform%3D%22translate(1006.5406685840219%2C111.82135634159842)scale(0.29066858402209034)%22%3ERates%20%26amp%3B%20Credit%2C%20Domestic%20Rates%20%26amp%3B%20Credit%2C%20Zeus%2C%20ZE04%3C%2Ftext%3E%3C%2Fg%3E%3C%2Fg%3E%3Cg%20class%3D%22slice%20cursor-pointer%22%3E%3Cpath%20class%3D%22surface%22%20style%3D%22pointer-events%3A%20all%3B%20stroke-width%3A%201px%3B%20fill%3A%20rgb(225%2C%2087%2C%2089)%3B%20fill-opacity%3A%201%3B%20stroke%3A%20rgb(255%2C%20255%2C%20255)%3B%20stroke-opacity%3A%201%3B%20opacity%3A%201%3B%22%20d%3D%22M1003.2499999999998%2C180.66666666666666L1092.5749999999998%2C180.66666666666666L1092.5749999999998%2C253L1003.2499999999998%2C253Z%22%2F%3E%3Cg%20class%3D%22slicetext%22%3E%3Ctext%20data-notex%3D%221%22%20class%3D%22slicetext%22%20text-anchor%3D%22start%22%20style%3D%22font-family%3A%20%26quot%3BOpen%20Sans%26quot%3B%2C%20verdana%2C%20arial%2C%20sans-serif%3B%20font-size%3A%2012px%3B%20fill%3A%20rgb(68%2C%2068%2C%2068)%3B%20fill-opacity%3A%201%3B%20white-space%3A%20pre%3B%22%20data-unformatted%3D%22Rates%20%26amp%3B%20Credit%2C%20Foreign%20Rates%20%26amp%3B%20Credit%2C%20Atlas%2C%20AT01%22%20data-math%3D%22N%22%20x%3D%220%22%20y%3D%220%22%20transform%3D%22translate(1006.5513744002905%2C187.28315947015494)scale(0.30137440029069074)%22%3ERates%20%26amp%3B%20Credit%2C%20Foreign%20Rates%20%26amp%3B%20Credit%2C%20Atlas%2C%20AT01%3C%2Ftext%3E%3C%2Fg%3E%3C%2Fg%3E%3Cg%20class%3D%22slice%20cursor-pointer%22%3E%3Cpath%20class%3D%22surface%22%20style%3D%22pointer-events%3A%20all%3B%20stroke-width%3A%201px%3B%20fill%3A%20rgb(225%2C%2087%2C%2089)%3B%20fill-opacity%3A%201%3B%20stroke%3A%20rgb(255%2C%20255%2C%20255)%3B%20stroke-opacity%3A%201%3B%20opacity%3A%201%3B%22%20d%3D%22M1095.5749999999998%2C30L1164.3833333333332%2C30L1164.3833333333332%2C123.85714285714273L1095.5749999999998%2C123.85714285714273Z%22%2F%3E%3Cg%20class%3D%22slicetext%22%3E%3Ctext%20data-notex%3D%221%22%20class%3D%22slicetext%22%20text-anchor%3D%22start%22%20style%3D%22font-family%3A%20%26quot%3BOpen%20Sans%26quot%3B%2C%20verdana%2C%20arial%2C%20sans-serif%3B%20font-size%3A%2012px%3B%20fill%3A%20rgb(68%2C%2068%2C%2068)%3B%20fill-opacity%3A%201%3B%20white-space%3A%20pre%3B%22%20data-unformatted%3D%22Rates%20%26amp%3B%20Credit%2C%20Foreign%20Rates%20%26amp%3B%20Credit%2C%20Atlas%2C%20AT02%22%20data-math%3D%22N%22%20x%3D%220%22%20y%3D%220%22%20transform%3D%22translate(1098.8021686023592%2C35.72602322831196)scale(0.22716860235932962)%22%3ERates%20%26amp%3B%20Credit%2C%20Foreign%20Rates%20%26amp%3B%20Credit%2C%20Atlas%2C%20AT02%3C%2Ftext%3E%3C%2Fg%3E%3C%2Fg%3E%3Cg%20class%3D%22slice%20cursor-pointer%22%3E%3Cpath%20class%3D%22surface%22%20style%3D%22pointer-events%3A%20all%3B%20stroke-width%3A%201px%3B%20fill%3A%20rgb(225%2C%2087%2C%2089)%3B%20fill-opacity%3A%201%3B%20stroke%3A%20rgb(255%2C%20255%2C%20255)%3B%20stroke-opacity%3A%201%3B%20opacity%3A%201%3B%22%20d%3D%22M1167.3833333333332%2C30L1236.1916666666666%2C30L1236.1916666666666%2C123.85714285714273L1167.3833333333332%2C123.85714285714273Z%22%2F%3E%3Cg%20class%3D%22slicetext%22%3E%3Ctext%20data-notex%3D%221%22%20class%3D%22slicetext%22%20text-anchor%3D%22start%22%20style%3D%22font-family%3A%20%26quot%3BOpen%20Sans%26quot%3B%2C%20verdana%2C%20arial%2C%20sans-serif%3B%20font-size%3A%2012px%3B%20fill%3A%20rgb(68%2C%2068%2C%2068)%3B%20fill-opacity%3A%201%3B%20white-space%3A%20pre%3B%22%20data-unformatted%3D%22Rates%20%26amp%3B%20Credit%2C%20Foreign%20Rates%20%26amp%3B%20Credit%2C%20Atlas%2C%20AT03%22%20data-math%3D%22N%22%20x%3D%220%22%20y%3D%220%22%20transform%3D%22translate(1170.6105019356926%2C35.72602322831196)scale(0.22716860235932962)%22%3ERates%20%26amp%3B%20Credit%2C%20Foreign%20Rates%20%26amp%3B%20Credit%2C%20Atlas%2C%20AT03%3C%2Ftext%3E%3C%2Fg%3E%3C%2Fg%3E%3Cg%20class%3D%22slice%20cursor-pointer%22%3E%3Cpath%20class%3D%22surface%22%20style%3D%22pointer-events%3A%20all%3B%20stroke-width%3A%201px%3B%20fill%3A%20rgb(225%2C%2087%2C%2089)%3B%20fill-opacity%3A%201%3B%20stroke%3A%20rgb(255%2C%20255%2C%20255)%3B%20stroke-opacity%3A%201%3B%20opacity%3A%201%3B%22%20d%3D%22M1239.1916666666666%2C30L1308%2C30L1308%2C123.85714285714273L1239.1916666666666%2C123.85714285714273Z%22%2F%3E%3Cg%20class%3D%22slicetext%22%3E%3Ctext%20data-notex%3D%221%22%20class%3D%22slicetext%22%20text-anchor%3D%22start%22%20style%3D%22font-family%3A%20%26quot%3BOpen%20Sans%26quot%3B%2C%20verdana%2C%20arial%2C%20sans-serif%3B%20font-size%3A%2012px%3B%20fill%3A%20rgb(68%2C%2068%2C%2068)%3B%20fill-opacity%3A%201%3B%20white-space%3A%20pre%3B%22%20data-unformatted%3D%22Rates%20%26amp%3B%20Credit%2C%20Foreign%20Rates%20%26amp%3B%20Credit%2C%20Atlas%2C%20AT04%22%20data-math%3D%22N%22%20x%3D%220%22%20y%3D%220%22%20transform%3D%22translate(1242.418835269026%2C35.72602322831196)scale(0.22716860235932962)%22%3ERates%20%26amp%3B%20Credit%2C%20Foreign%20Rates%20%26amp%3B%20Credit%2C%20Atlas%2C%20AT04%3C%2Ftext%3E%3C%2Fg%3E%3C%2Fg%3E%3Cg%20class%3D%22slice%20cursor-pointer%22%3E%3Cpath%20class%3D%22surface%22%20style%3D%22pointer-events%3A%20all%3B%20stroke-width%3A%201px%3B%20fill%3A%20rgb(225%2C%2087%2C%2089)%3B%20fill-opacity%3A%201%3B%20stroke%3A%20rgb(255%2C%20255%2C%20255)%3B%20stroke-opacity%3A%201%3B%20opacity%3A%201%3B%22%20d%3D%22M1095.5749999999998%2C126.85714285714273L1200.2874999999997%2C126.85714285714273L1200.2874999999997%2C188.42857142857136L1095.5749999999998%2C188.42857142857136Z%22%2F%3E%3Cg%20class%3D%22slicetext%22%3E%3Ctext%20data-notex%3D%221%22%20class%3D%22slicetext%22%20text-anchor%3D%22start%22%20style%3D%22font-family%3A%20%26quot%3BOpen%20Sans%26quot%3B%2C%20verdana%2C%20arial%2C%20sans-serif%3B%20font-size%3A%2012px%3B%20fill%3A%20rgb(68%2C%2068%2C%2068)%3B%20fill-opacity%3A%201%3B%20white-space%3A%20pre%3B%22%20data-unformatted%3D%22Rates%20%26amp%3B%20Credit%2C%20Foreign%20Rates%20%26amp%3B%20Credit%2C%20Chronos%2C%20CH01%22%20data-math%3D%22N%22%20x%3D%220%22%20y%3D%220%22%20transform%3D%22translate(1098.9062499999998%2C133.8321428571427)scale(0.33124999999999954)%22%3ERates%20%26amp%3B%20Credit%2C%20Foreign%20Rates%20%26amp%3B%20Credit%2C%20Chronos%2C%20CH01%3C%2Ftext%3E%3C%2Fg%3E%3C%2Fg%3E%3Cg%20class%3D%22slice%20cursor-pointer%22%3E%3Cpath%20class%3D%22surface%22%20style%3D%22pointer-events%3A%20all%3B%20stroke-width%3A%201px%3B%20fill%3A%20rgb(225%2C%2087%2C%2089)%3B%20fill-opacity%3A%201%3B%20stroke%3A%20rgb(255%2C%20255%2C%20255)%3B%20stroke-opacity%3A%201%3B%20opacity%3A%201%3B%22%20d%3D%22M1095.5749999999998%2C191.42857142857136L1200.2874999999997%2C191.42857142857136L1200.2874999999997%2C253L1095.5749999999998%2C253Z%22%2F%3E%3Cg%20class%3D%22slicetext%22%3E%3Ctext%20data-notex%3D%221%22%20class%3D%22slicetext%22%20text-anchor%3D%22start%22%20style%3D%22font-family%3A%20%26quot%3BOpen%20Sans%26quot%3B%2C%20verdana%2C%20arial%2C%20sans-serif%3B%20font-size%3A%2012px%3B%20fill%3A%20rgb(68%2C%2068%2C%2068)%3B%20fill-opacity%3A%201%3B%20white-space%3A%20pre%3B%22%20data-unformatted%3D%22Rates%20%26amp%3B%20Credit%2C%20Foreign%20Rates%20%26amp%3B%20Credit%2C%20Chronos%2C%20CH02%22%20data-math%3D%22N%22%20x%3D%220%22%20y%3D%220%22%20transform%3D%22translate(1098.9062499999998%2C198.40357142857135)scale(0.33124999999999954)%22%3ERates%20%26amp%3B%20Credit%2C%20Foreign%20Rates%20%26amp%3B%20Credit%2C%20Chronos%2C%20CH02%3C%2Ftext%3E%3C%2Fg%3E%3C%2Fg%3E%3Cg%20class%3D%22slice%20cursor-pointer%22%3E%3Cpath%20class%3D%22surface%22%20style%3D%22pointer-events%3A%20all%3B%20stroke-width%3A%201px%3B%20fill%3A%20rgb(225%2C%2087%2C%2089)%3B%20fill-opacity%3A%201%3B%20stroke%3A%20rgb(255%2C%20255%2C%20255)%3B%20stroke-opacity%3A%201%3B%20opacity%3A%201%3B%22%20d%3D%22M1203.2874999999997%2C126.85714285714273L1308%2C126.85714285714273L1308%2C188.4285714285711L1203.2874999999997%2C188.4285714285711Z%22%2F%3E%3Cg%20class%3D%22slicetext%22%3E%3Ctext%20data-notex%3D%221%22%20class%3D%22slicetext%22%20text-anchor%3D%22start%22%20style%3D%22font-family%3A%20%26quot%3BOpen%20Sans%26quot%3B%2C%20verdana%2C%20arial%2C%20sans-serif%3B%20font-size%3A%2012px%3B%20fill%3A%20rgb(68%2C%2068%2C%2068)%3B%20fill-opacity%3A%201%3B%20white-space%3A%20pre%3B%22%20data-unformatted%3D%22Rates%20%26amp%3B%20Credit%2C%20Foreign%20Rates%20%26amp%3B%20Credit%2C%20Chronos%2C%20CH03%22%20data-math%3D%22N%22%20x%3D%220%22%20y%3D%220%22%20transform%3D%22translate(1206.6187499999996%2C133.83214285714274)scale(0.33125000000000104)%22%3ERates%20%26amp%3B%20Credit%2C%20Foreign%20Rates%20%26amp%3B%20Credit%2C%20Chronos%2C%20CH03%3C%2Ftext%3E%3C%2Fg%3E%3C%2Fg%3E%3Cg%20class%3D%22slice%20cursor-pointer%22%3E%3Cpath%20class%3D%22surface%22%20style%3D%22pointer-events%3A%20all%3B%20stroke-width%3A%201px%3B%20fill%3A%20rgb(225%2C%2087%2C%2089)%3B%20fill-opacity%3A%201%3B%20stroke%3A%20rgb(255%2C%20255%2C%20255)%3B%20stroke-opacity%3A%201%3B%20opacity%3A%201%3B%22%20d%3D%22M1203.2874999999997%2C191.4285714285711L1307.999999999999%2C191.4285714285711L1307.999999999999%2C253L1203.2874999999997%2C253Z%22%2F%3E%3Cg%20class%3D%22slicetext%22%3E%3Ctext%20data-notex%3D%221%22%20class%3D%22slicetext%22%20text-anchor%3D%22start%22%20style%3D%22font-family%3A%20%26quot%3BOpen%20Sans%26quot%3B%2C%20verdana%2C%20arial%2C%20sans-serif%3B%20font-size%3A%2012px%3B%20fill%3A%20rgb(68%2C%2068%2C%2068)%3B%20fill-opacity%3A%201%3B%20white-space%3A%20pre%3B%22%20data-unformatted%3D%22Rates%20%26amp%3B%20Credit%2C%20Foreign%20Rates%20%26amp%3B%20Credit%2C%20Chronos%2C%20CH04%22%20data-math%3D%22N%22%20x%3D%220%22%20y%3D%220%22%20transform%3D%22translate(1206.6187499999996%2C198.40357142857107)scale(0.331249999999998)%22%3ERates%20%26amp%3B%20Credit%2C%20Foreign%20Rates%20%26amp%3B%20Credit%2C%20Chronos%2C%20CH04%3C%2Ftext%3E%3C%2Fg%3E%3C%2Fg%3E%3C%2Fg%3E%3C%2Fg%3E%3Cg%20class%3D%22sunburstlayer%22%2F%3E%3Cg%20class%3D%22glimages%22%2F%3E%3Cdefs%20id%3D%22topdefs-22c665%22%3E%3Cg%20class%3D%22clips%22%2F%3E%3C%2Fdefs%3E%3Cg%20class%3D%22indicatorlayer%22%2F%3E%3Cg%20class%3D%22layer-above%22%3E%3Cg%20class%3D%22imagelayer%22%2F%3E%3Cg%20class%3D%22shapelayer%22%2F%3E%3C%2Fg%3E%3Cg%20class%3D%22infolayer%22%3E%3Cg%20class%3D%22g-gtitle%22%2F%3E%3C%2Fg%3E%3Cg%20class%3D%22menulayer%22%2F%3E%3Cg%20class%3D%22zoomlayer%22%2F%3E%3Cg%20class%3D%22hoverlayer%22%2F%3E%3C%2Fsvg%3E\">"
      ],
      "text/plain": [
       "Open the notebook in JupyterLab with the atoti extension installed and enabled to see this widget."
      ]
     },
     "metadata": {},
     "output_type": "display_data"
    }
   ],
   "source": [
    "position_sensitivity_cube.visualize(\"Investment Portfolio concentration\")"
   ]
  },
  {
   "cell_type": "markdown",
   "metadata": {},
   "source": [
    "In this second tree map, we perform a split at the *portfolio* hierarchy.  \n",
    "Hence we will only see the collective *Theoretical PnL* of the portfolio. E.g. we will only see 1 HE01 in this map."
   ]
  },
  {
   "cell_type": "code",
   "execution_count": 26,
   "metadata": {
    "atoti": {
     "state": {
      "name": "Portfolio concentration",
      "type": "container",
      "value": {
       "body": {
        "configuration": {
         "mapping": {
          "groupBy": [],
          "horizontalSubplots": [],
          "splitBy": [
           "[Hierarchies].[portfolio].[portfolio]"
          ],
          "values": [
           "[Measures].[Theoretical PnL]"
          ],
          "verticalSubplots": []
         },
         "type": "plotly-tree-map"
        },
        "query": {
         "contextValues": {},
         "mdx": "SELECT NON EMPTY [Measures].[Theoretical PnL] ON COLUMNS, NON EMPTY [Hierarchies].[portfolio].[portfolio].Members ON ROWS FROM [Position_Sensitivities] CELL PROPERTIES VALUE, FORMATTED_VALUE, BACK_COLOR, FORE_COLOR, FONT_FLAGS",
         "serverUrl": ""
        }
       },
       "containerKey": "chart",
       "showTitleBar": false,
       "style": {}
      }
     }
    }
   },
   "outputs": [
    {
     "data": {
      "application/vnd.atoti.v0+json": {
       "cube": "Position_Sensitivities",
       "error": null,
       "name": "Portfolio concentration",
       "session": "Unnamed"
      },
      "text/html": [
       "<img src=\"data:image/svg+xml;charset=utf8,%3C%3Fxml%20version%3D%221.0%22%20standalone%3D%22no%22%3F%3E%3Csvg%20xmlns%3D%22http%3A%2F%2Fwww.w3.org%2F2000%2Fsvg%22%20xmlns%3Axlink%3D%22http%3A%2F%2Fwww.w3.org%2F1999%2Fxlink%22%20viewBox%3D%220%200%201308%20360%22%3E%3Cdefs%20id%3D%22defs-438800%22%3E%3Cg%20class%3D%22clips%22%2F%3E%3Cg%20class%3D%22gradients%22%2F%3E%3C%2Fdefs%3E%3Cg%20class%3D%22bglayer%22%2F%3E%3Cg%20class%3D%22draglayer%22%2F%3E%3Cg%20class%3D%22layer-below%22%3E%3Cg%20class%3D%22imagelayer%22%2F%3E%3Cg%20class%3D%22shapelayer%22%2F%3E%3C%2Fg%3E%3Cg%20class%3D%22cartesianlayer%22%2F%3E%3Cg%20class%3D%22polarlayer%22%2F%3E%3Cg%20class%3D%22ternarylayer%22%2F%3E%3Cg%20class%3D%22geolayer%22%2F%3E%3Cg%20class%3D%22funnelarealayer%22%2F%3E%3Cg%20class%3D%22pielayer%22%2F%3E%3Cg%20class%3D%22treemaplayer%22%3E%3Cg%20class%3D%22trace%20treemap%22%20style%3D%22opacity%3A%201%3B%22%3E%3Cg%20class%3D%22slice%20cursor-pointer%22%3E%3Cpath%20class%3D%22surface%22%20style%3D%22pointer-events%3A%20all%3B%20stroke-width%3A%200px%3B%20fill%3A%20rgb(0%2C%200%2C%200)%3B%20fill-opacity%3A%200%3B%20stroke%3A%20rgb(0%2C%200%2C%200)%3B%20stroke-opacity%3A%200%3B%20opacity%3A%200%3B%22%20d%3D%22M80%2C30L1308%2C30L1308%2C280L80%2C280Z%22%2F%3E%3Cg%20class%3D%22slicetext%22%3E%3Ctext%20data-notex%3D%221%22%20class%3D%22slicetext%22%20text-anchor%3D%22start%22%20style%3D%22font-family%3A%20%26quot%3BOpen%20Sans%26quot%3B%2C%20verdana%2C%20arial%2C%20sans-serif%3B%20font-size%3A%2012px%3B%20fill%3A%20rgb(0%2C%200%2C%200)%3B%20fill-opacity%3A%200.65%3B%20white-space%3A%20pre%3B%22%20data-unformatted%3D%22%20%22%20data-math%3D%22N%22%20x%3D%220%22%20y%3D%220%22%20transform%3D%22translate(81%2C45)%22%3E%20%3C%2Ftext%3E%3C%2Fg%3E%3C%2Fg%3E%3Cg%20class%3D%22slice%20cursor-pointer%22%3E%3Cpath%20class%3D%22surface%22%20style%3D%22pointer-events%3A%20all%3B%20stroke-width%3A%201px%3B%20fill%3A%20rgb(78%2C%20121%2C%20167)%3B%20fill-opacity%3A%201%3B%20stroke%3A%20rgb(255%2C%20255%2C%20255)%3B%20stroke-opacity%3A%201%3B%20opacity%3A%201%3B%22%20d%3D%22M80%2C30L200.0999999999999%2C30L200.0999999999999%2C153.5L80%2C153.5Z%22%2F%3E%3Cg%20class%3D%22slicetext%22%3E%3Ctext%20data-notex%3D%221%22%20class%3D%22slicetext%22%20text-anchor%3D%22start%22%20style%3D%22font-family%3A%20%26quot%3BOpen%20Sans%26quot%3B%2C%20verdana%2C%20arial%2C%20sans-serif%3B%20font-size%3A%2012px%3B%20fill%3A%20rgb(255%2C%20255%2C%20255)%3B%20fill-opacity%3A%201%3B%20white-space%3A%20pre%3B%22%20data-unformatted%3D%22HE02%22%20data-math%3D%22N%22%20x%3D%220%22%20y%3D%220%22%20transform%3D%22translate(84%2C45)%22%3EHE02%3C%2Ftext%3E%3C%2Fg%3E%3C%2Fg%3E%3Cg%20class%3D%22slice%20cursor-pointer%22%3E%3Cpath%20class%3D%22surface%22%20style%3D%22pointer-events%3A%20all%3B%20stroke-width%3A%201px%3B%20fill%3A%20rgb(78%2C%20121%2C%20167)%3B%20fill-opacity%3A%201%3B%20stroke%3A%20rgb(255%2C%20255%2C%20255)%3B%20stroke-opacity%3A%201%3B%20opacity%3A%201%3B%22%20d%3D%22M80%2C156.5L200.0999999999999%2C156.5L200.0999999999999%2C280L80%2C280Z%22%2F%3E%3Cg%20class%3D%22slicetext%22%3E%3Ctext%20data-notex%3D%221%22%20class%3D%22slicetext%22%20text-anchor%3D%22start%22%20style%3D%22font-family%3A%20%26quot%3BOpen%20Sans%26quot%3B%2C%20verdana%2C%20arial%2C%20sans-serif%3B%20font-size%3A%2012px%3B%20fill%3A%20rgb(255%2C%20255%2C%20255)%3B%20fill-opacity%3A%201%3B%20white-space%3A%20pre%3B%22%20data-unformatted%3D%22HE04%22%20data-math%3D%22N%22%20x%3D%220%22%20y%3D%220%22%20transform%3D%22translate(84%2C171.5)%22%3EHE04%3C%2Ftext%3E%3C%2Fg%3E%3C%2Fg%3E%3Cg%20class%3D%22slice%20cursor-pointer%22%3E%3Cpath%20class%3D%22surface%22%20style%3D%22pointer-events%3A%20all%3B%20stroke-width%3A%201px%3B%20fill%3A%20rgb(78%2C%20121%2C%20167)%3B%20fill-opacity%3A%201%3B%20stroke%3A%20rgb(255%2C%20255%2C%20255)%3B%20stroke-opacity%3A%201%3B%20opacity%3A%201%3B%22%20d%3D%22M203.0999999999999%2C30L323.1999999999998%2C30L323.1999999999998%2C153.5L203.0999999999999%2C153.5Z%22%2F%3E%3Cg%20class%3D%22slicetext%22%3E%3Ctext%20data-notex%3D%221%22%20class%3D%22slicetext%22%20text-anchor%3D%22start%22%20style%3D%22font-family%3A%20%26quot%3BOpen%20Sans%26quot%3B%2C%20verdana%2C%20arial%2C%20sans-serif%3B%20font-size%3A%2012px%3B%20fill%3A%20rgb(255%2C%20255%2C%20255)%3B%20fill-opacity%3A%201%3B%20white-space%3A%20pre%3B%22%20data-unformatted%3D%22HE01%22%20data-math%3D%22N%22%20x%3D%220%22%20y%3D%220%22%20transform%3D%22translate(207.0999999999999%2C45)%22%3EHE01%3C%2Ftext%3E%3C%2Fg%3E%3C%2Fg%3E%3Cg%20class%3D%22slice%20cursor-pointer%22%3E%3Cpath%20class%3D%22surface%22%20style%3D%22pointer-events%3A%20all%3B%20stroke-width%3A%201px%3B%20fill%3A%20rgb(78%2C%20121%2C%20167)%3B%20fill-opacity%3A%201%3B%20stroke%3A%20rgb(255%2C%20255%2C%20255)%3B%20stroke-opacity%3A%201%3B%20opacity%3A%201%3B%22%20d%3D%22M203.0999999999999%2C156.5L323.1999999999998%2C156.5L323.1999999999998%2C280L203.0999999999999%2C280Z%22%2F%3E%3Cg%20class%3D%22slicetext%22%3E%3Ctext%20data-notex%3D%221%22%20class%3D%22slicetext%22%20text-anchor%3D%22start%22%20style%3D%22font-family%3A%20%26quot%3BOpen%20Sans%26quot%3B%2C%20verdana%2C%20arial%2C%20sans-serif%3B%20font-size%3A%2012px%3B%20fill%3A%20rgb(255%2C%20255%2C%20255)%3B%20fill-opacity%3A%201%3B%20white-space%3A%20pre%3B%22%20data-unformatted%3D%22HE03%22%20data-math%3D%22N%22%20x%3D%220%22%20y%3D%220%22%20transform%3D%22translate(207.0999999999999%2C171.5)%22%3EHE03%3C%2Ftext%3E%3C%2Fg%3E%3C%2Fg%3E%3Cg%20class%3D%22slice%20cursor-pointer%22%3E%3Cpath%20class%3D%22surface%22%20style%3D%22pointer-events%3A%20all%3B%20stroke-width%3A%201px%3B%20fill%3A%20rgb(78%2C%20121%2C%20167)%3B%20fill-opacity%3A%201%3B%20stroke%3A%20rgb(255%2C%20255%2C%20255)%3B%20stroke-opacity%3A%201%3B%20opacity%3A%201%3B%22%20d%3D%22M326.1999999999998%2C30L415.52499999999975%2C30L415.52499999999975%2C111.33333333333333L326.1999999999998%2C111.33333333333333Z%22%2F%3E%3Cg%20class%3D%22slicetext%22%3E%3Ctext%20data-notex%3D%221%22%20class%3D%22slicetext%22%20text-anchor%3D%22start%22%20style%3D%22font-family%3A%20%26quot%3BOpen%20Sans%26quot%3B%2C%20verdana%2C%20arial%2C%20sans-serif%3B%20font-size%3A%2012px%3B%20fill%3A%20rgb(255%2C%20255%2C%20255)%3B%20fill-opacity%3A%201%3B%20white-space%3A%20pre%3B%22%20data-unformatted%3D%22AP01%22%20data-math%3D%22N%22%20x%3D%220%22%20y%3D%220%22%20transform%3D%22translate(330.1999999999998%2C45)%22%3EAP01%3C%2Ftext%3E%3C%2Fg%3E%3C%2Fg%3E%3Cg%20class%3D%22slice%20cursor-pointer%22%3E%3Cpath%20class%3D%22surface%22%20style%3D%22pointer-events%3A%20all%3B%20stroke-width%3A%201px%3B%20fill%3A%20rgb(78%2C%20121%2C%20167)%3B%20fill-opacity%3A%201%3B%20stroke%3A%20rgb(255%2C%20255%2C%20255)%3B%20stroke-opacity%3A%201%3B%20opacity%3A%201%3B%22%20d%3D%22M326.1999999999998%2C114.33333333333333L415.52499999999975%2C114.33333333333333L415.52499999999975%2C195.66666666666666L326.1999999999998%2C195.66666666666666Z%22%2F%3E%3Cg%20class%3D%22slicetext%22%3E%3Ctext%20data-notex%3D%221%22%20class%3D%22slicetext%22%20text-anchor%3D%22start%22%20style%3D%22font-family%3A%20%26quot%3BOpen%20Sans%26quot%3B%2C%20verdana%2C%20arial%2C%20sans-serif%3B%20font-size%3A%2012px%3B%20fill%3A%20rgb(255%2C%20255%2C%20255)%3B%20fill-opacity%3A%201%3B%20white-space%3A%20pre%3B%22%20data-unformatted%3D%22AP02%22%20data-math%3D%22N%22%20x%3D%220%22%20y%3D%220%22%20transform%3D%22translate(330.1999999999998%2C129.33333333333331)%22%3EAP02%3C%2Ftext%3E%3C%2Fg%3E%3C%2Fg%3E%3Cg%20class%3D%22slice%20cursor-pointer%22%3E%3Cpath%20class%3D%22surface%22%20style%3D%22pointer-events%3A%20all%3B%20stroke-width%3A%201px%3B%20fill%3A%20rgb(78%2C%20121%2C%20167)%3B%20fill-opacity%3A%201%3B%20stroke%3A%20rgb(255%2C%20255%2C%20255)%3B%20stroke-opacity%3A%201%3B%20opacity%3A%201%3B%22%20d%3D%22M326.1999999999998%2C198.66666666666666L415.52499999999975%2C198.66666666666666L415.52499999999975%2C280L326.1999999999998%2C280Z%22%2F%3E%3Cg%20class%3D%22slicetext%22%3E%3Ctext%20data-notex%3D%221%22%20class%3D%22slicetext%22%20text-anchor%3D%22start%22%20style%3D%22font-family%3A%20%26quot%3BOpen%20Sans%26quot%3B%2C%20verdana%2C%20arial%2C%20sans-serif%3B%20font-size%3A%2012px%3B%20fill%3A%20rgb(255%2C%20255%2C%20255)%3B%20fill-opacity%3A%201%3B%20white-space%3A%20pre%3B%22%20data-unformatted%3D%22AP03%22%20data-math%3D%22N%22%20x%3D%220%22%20y%3D%220%22%20transform%3D%22translate(330.1999999999998%2C213.66666666666666)%22%3EAP03%3C%2Ftext%3E%3C%2Fg%3E%3C%2Fg%3E%3Cg%20class%3D%22slice%20cursor-pointer%22%3E%3Cpath%20class%3D%22surface%22%20style%3D%22pointer-events%3A%20all%3B%20stroke-width%3A%201px%3B%20fill%3A%20rgb(78%2C%20121%2C%20167)%3B%20fill-opacity%3A%201%3B%20stroke%3A%20rgb(255%2C%20255%2C%20255)%3B%20stroke-opacity%3A%201%3B%20opacity%3A%201%3B%22%20d%3D%22M418.52499999999975%2C30L507.8499999999997%2C30L507.8499999999997%2C111.33333333333333L418.52499999999975%2C111.33333333333333Z%22%2F%3E%3Cg%20class%3D%22slicetext%22%3E%3Ctext%20data-notex%3D%221%22%20class%3D%22slicetext%22%20text-anchor%3D%22start%22%20style%3D%22font-family%3A%20%26quot%3BOpen%20Sans%26quot%3B%2C%20verdana%2C%20arial%2C%20sans-serif%3B%20font-size%3A%2012px%3B%20fill%3A%20rgb(255%2C%20255%2C%20255)%3B%20fill-opacity%3A%201%3B%20white-space%3A%20pre%3B%22%20data-unformatted%3D%22AP04%22%20data-math%3D%22N%22%20x%3D%220%22%20y%3D%220%22%20transform%3D%22translate(422.52499999999975%2C45)%22%3EAP04%3C%2Ftext%3E%3C%2Fg%3E%3C%2Fg%3E%3Cg%20class%3D%22slice%20cursor-pointer%22%3E%3Cpath%20class%3D%22surface%22%20style%3D%22pointer-events%3A%20all%3B%20stroke-width%3A%201px%3B%20fill%3A%20rgb(78%2C%20121%2C%20167)%3B%20fill-opacity%3A%201%3B%20stroke%3A%20rgb(255%2C%20255%2C%20255)%3B%20stroke-opacity%3A%201%3B%20opacity%3A%201%3B%22%20d%3D%22M418.52499999999975%2C114.33333333333333L507.8499999999997%2C114.33333333333333L507.8499999999997%2C195.66666666666666L418.52499999999975%2C195.66666666666666Z%22%2F%3E%3Cg%20class%3D%22slicetext%22%3E%3Ctext%20data-notex%3D%221%22%20class%3D%22slicetext%22%20text-anchor%3D%22start%22%20style%3D%22font-family%3A%20%26quot%3BOpen%20Sans%26quot%3B%2C%20verdana%2C%20arial%2C%20sans-serif%3B%20font-size%3A%2012px%3B%20fill%3A%20rgb(255%2C%20255%2C%20255)%3B%20fill-opacity%3A%201%3B%20white-space%3A%20pre%3B%22%20data-unformatted%3D%22AT01%22%20data-math%3D%22N%22%20x%3D%220%22%20y%3D%220%22%20transform%3D%22translate(422.52499999999975%2C129.33333333333331)%22%3EAT01%3C%2Ftext%3E%3C%2Fg%3E%3C%2Fg%3E%3Cg%20class%3D%22slice%20cursor-pointer%22%3E%3Cpath%20class%3D%22surface%22%20style%3D%22pointer-events%3A%20all%3B%20stroke-width%3A%201px%3B%20fill%3A%20rgb(78%2C%20121%2C%20167)%3B%20fill-opacity%3A%201%3B%20stroke%3A%20rgb(255%2C%20255%2C%20255)%3B%20stroke-opacity%3A%201%3B%20opacity%3A%201%3B%22%20d%3D%22M418.52499999999975%2C198.66666666666666L507.8499999999997%2C198.66666666666666L507.8499999999997%2C280L418.52499999999975%2C280Z%22%2F%3E%3Cg%20class%3D%22slicetext%22%3E%3Ctext%20data-notex%3D%221%22%20class%3D%22slicetext%22%20text-anchor%3D%22start%22%20style%3D%22font-family%3A%20%26quot%3BOpen%20Sans%26quot%3B%2C%20verdana%2C%20arial%2C%20sans-serif%3B%20font-size%3A%2012px%3B%20fill%3A%20rgb(255%2C%20255%2C%20255)%3B%20fill-opacity%3A%201%3B%20white-space%3A%20pre%3B%22%20data-unformatted%3D%22AT02%22%20data-math%3D%22N%22%20x%3D%220%22%20y%3D%220%22%20transform%3D%22translate(422.52499999999975%2C213.66666666666666)%22%3EAT02%3C%2Ftext%3E%3C%2Fg%3E%3C%2Fg%3E%3Cg%20class%3D%22slice%20cursor-pointer%22%3E%3Cpath%20class%3D%22surface%22%20style%3D%22pointer-events%3A%20all%3B%20stroke-width%3A%201px%3B%20fill%3A%20rgb(78%2C%20121%2C%20167)%3B%20fill-opacity%3A%201%3B%20stroke%3A%20rgb(255%2C%20255%2C%20255)%3B%20stroke-opacity%3A%201%3B%20opacity%3A%201%3B%22%20d%3D%22M510.8499999999997%2C30L600.1749999999996%2C30L600.1749999999996%2C111.33333333333333L510.8499999999997%2C111.33333333333333Z%22%2F%3E%3Cg%20class%3D%22slicetext%22%3E%3Ctext%20data-notex%3D%221%22%20class%3D%22slicetext%22%20text-anchor%3D%22start%22%20style%3D%22font-family%3A%20%26quot%3BOpen%20Sans%26quot%3B%2C%20verdana%2C%20arial%2C%20sans-serif%3B%20font-size%3A%2012px%3B%20fill%3A%20rgb(255%2C%20255%2C%20255)%3B%20fill-opacity%3A%201%3B%20white-space%3A%20pre%3B%22%20data-unformatted%3D%22AT03%22%20data-math%3D%22N%22%20x%3D%220%22%20y%3D%220%22%20transform%3D%22translate(514.8499999999997%2C45)%22%3EAT03%3C%2Ftext%3E%3C%2Fg%3E%3C%2Fg%3E%3Cg%20class%3D%22slice%20cursor-pointer%22%3E%3Cpath%20class%3D%22surface%22%20style%3D%22pointer-events%3A%20all%3B%20stroke-width%3A%201px%3B%20fill%3A%20rgb(78%2C%20121%2C%20167)%3B%20fill-opacity%3A%201%3B%20stroke%3A%20rgb(255%2C%20255%2C%20255)%3B%20stroke-opacity%3A%201%3B%20opacity%3A%201%3B%22%20d%3D%22M510.8499999999997%2C114.33333333333333L600.1749999999996%2C114.33333333333333L600.1749999999996%2C195.66666666666666L510.8499999999997%2C195.66666666666666Z%22%2F%3E%3Cg%20class%3D%22slicetext%22%3E%3Ctext%20data-notex%3D%221%22%20class%3D%22slicetext%22%20text-anchor%3D%22start%22%20style%3D%22font-family%3A%20%26quot%3BOpen%20Sans%26quot%3B%2C%20verdana%2C%20arial%2C%20sans-serif%3B%20font-size%3A%2012px%3B%20fill%3A%20rgb(255%2C%20255%2C%20255)%3B%20fill-opacity%3A%201%3B%20white-space%3A%20pre%3B%22%20data-unformatted%3D%22AT04%22%20data-math%3D%22N%22%20x%3D%220%22%20y%3D%220%22%20transform%3D%22translate(514.8499999999997%2C129.33333333333331)%22%3EAT04%3C%2Ftext%3E%3C%2Fg%3E%3C%2Fg%3E%3Cg%20class%3D%22slice%20cursor-pointer%22%3E%3Cpath%20class%3D%22surface%22%20style%3D%22pointer-events%3A%20all%3B%20stroke-width%3A%201px%3B%20fill%3A%20rgb(78%2C%20121%2C%20167)%3B%20fill-opacity%3A%201%3B%20stroke%3A%20rgb(255%2C%20255%2C%20255)%3B%20stroke-opacity%3A%201%3B%20opacity%3A%201%3B%22%20d%3D%22M510.8499999999997%2C198.66666666666666L600.1749999999996%2C198.66666666666666L600.1749999999996%2C280L510.8499999999997%2C280Z%22%2F%3E%3Cg%20class%3D%22slicetext%22%3E%3Ctext%20data-notex%3D%221%22%20class%3D%22slicetext%22%20text-anchor%3D%22start%22%20style%3D%22font-family%3A%20%26quot%3BOpen%20Sans%26quot%3B%2C%20verdana%2C%20arial%2C%20sans-serif%3B%20font-size%3A%2012px%3B%20fill%3A%20rgb(255%2C%20255%2C%20255)%3B%20fill-opacity%3A%201%3B%20white-space%3A%20pre%3B%22%20data-unformatted%3D%22CH01%22%20data-math%3D%22N%22%20x%3D%220%22%20y%3D%220%22%20transform%3D%22translate(514.8499999999997%2C213.66666666666666)%22%3ECH01%3C%2Ftext%3E%3C%2Fg%3E%3C%2Fg%3E%3Cg%20class%3D%22slice%20cursor-pointer%22%3E%3Cpath%20class%3D%22surface%22%20style%3D%22pointer-events%3A%20all%3B%20stroke-width%3A%201px%3B%20fill%3A%20rgb(78%2C%20121%2C%20167)%3B%20fill-opacity%3A%201%3B%20stroke%3A%20rgb(255%2C%20255%2C%20255)%3B%20stroke-opacity%3A%201%3B%20opacity%3A%201%3B%22%20d%3D%22M603.1749999999996%2C30L692.4999999999995%2C30L692.4999999999995%2C111.33333333333333L603.1749999999996%2C111.33333333333333Z%22%2F%3E%3Cg%20class%3D%22slicetext%22%3E%3Ctext%20data-notex%3D%221%22%20class%3D%22slicetext%22%20text-anchor%3D%22start%22%20style%3D%22font-family%3A%20%26quot%3BOpen%20Sans%26quot%3B%2C%20verdana%2C%20arial%2C%20sans-serif%3B%20font-size%3A%2012px%3B%20fill%3A%20rgb(255%2C%20255%2C%20255)%3B%20fill-opacity%3A%201%3B%20white-space%3A%20pre%3B%22%20data-unformatted%3D%22CH02%22%20data-math%3D%22N%22%20x%3D%220%22%20y%3D%220%22%20transform%3D%22translate(607.1749999999996%2C45)%22%3ECH02%3C%2Ftext%3E%3C%2Fg%3E%3C%2Fg%3E%3Cg%20class%3D%22slice%20cursor-pointer%22%3E%3Cpath%20class%3D%22surface%22%20style%3D%22pointer-events%3A%20all%3B%20stroke-width%3A%201px%3B%20fill%3A%20rgb(78%2C%20121%2C%20167)%3B%20fill-opacity%3A%201%3B%20stroke%3A%20rgb(255%2C%20255%2C%20255)%3B%20stroke-opacity%3A%201%3B%20opacity%3A%201%3B%22%20d%3D%22M603.1749999999996%2C114.33333333333333L692.4999999999995%2C114.33333333333333L692.4999999999995%2C195.66666666666666L603.1749999999996%2C195.66666666666666Z%22%2F%3E%3Cg%20class%3D%22slicetext%22%3E%3Ctext%20data-notex%3D%221%22%20class%3D%22slicetext%22%20text-anchor%3D%22start%22%20style%3D%22font-family%3A%20%26quot%3BOpen%20Sans%26quot%3B%2C%20verdana%2C%20arial%2C%20sans-serif%3B%20font-size%3A%2012px%3B%20fill%3A%20rgb(255%2C%20255%2C%20255)%3B%20fill-opacity%3A%201%3B%20white-space%3A%20pre%3B%22%20data-unformatted%3D%22CH03%22%20data-math%3D%22N%22%20x%3D%220%22%20y%3D%220%22%20transform%3D%22translate(607.1749999999996%2C129.33333333333331)%22%3ECH03%3C%2Ftext%3E%3C%2Fg%3E%3C%2Fg%3E%3Cg%20class%3D%22slice%20cursor-pointer%22%3E%3Cpath%20class%3D%22surface%22%20style%3D%22pointer-events%3A%20all%3B%20stroke-width%3A%201px%3B%20fill%3A%20rgb(78%2C%20121%2C%20167)%3B%20fill-opacity%3A%201%3B%20stroke%3A%20rgb(255%2C%20255%2C%20255)%3B%20stroke-opacity%3A%201%3B%20opacity%3A%201%3B%22%20d%3D%22M603.1749999999996%2C198.66666666666666L692.4999999999995%2C198.66666666666666L692.4999999999995%2C280L603.1749999999996%2C280Z%22%2F%3E%3Cg%20class%3D%22slicetext%22%3E%3Ctext%20data-notex%3D%221%22%20class%3D%22slicetext%22%20text-anchor%3D%22start%22%20style%3D%22font-family%3A%20%26quot%3BOpen%20Sans%26quot%3B%2C%20verdana%2C%20arial%2C%20sans-serif%3B%20font-size%3A%2012px%3B%20fill%3A%20rgb(255%2C%20255%2C%20255)%3B%20fill-opacity%3A%201%3B%20white-space%3A%20pre%3B%22%20data-unformatted%3D%22CH04%22%20data-math%3D%22N%22%20x%3D%220%22%20y%3D%220%22%20transform%3D%22translate(607.1749999999996%2C213.66666666666666)%22%3ECH04%3C%2Ftext%3E%3C%2Fg%3E%3C%2Fg%3E%3Cg%20class%3D%22slice%20cursor-pointer%22%3E%3Cpath%20class%3D%22surface%22%20style%3D%22pointer-events%3A%20all%3B%20stroke-width%3A%201px%3B%20fill%3A%20rgb(78%2C%20121%2C%20167)%3B%20fill-opacity%3A%201%3B%20stroke%3A%20rgb(255%2C%20255%2C%20255)%3B%20stroke-opacity%3A%201%3B%20opacity%3A%201%3B%22%20d%3D%22M695.4999999999995%2C30L784.8249999999996%2C30L784.8249999999996%2C111.33333333333333L695.4999999999995%2C111.33333333333333Z%22%2F%3E%3Cg%20class%3D%22slicetext%22%3E%3Ctext%20data-notex%3D%221%22%20class%3D%22slicetext%22%20text-anchor%3D%22start%22%20style%3D%22font-family%3A%20%26quot%3BOpen%20Sans%26quot%3B%2C%20verdana%2C%20arial%2C%20sans-serif%3B%20font-size%3A%2012px%3B%20fill%3A%20rgb(255%2C%20255%2C%20255)%3B%20fill-opacity%3A%201%3B%20white-space%3A%20pre%3B%22%20data-unformatted%3D%22HY01%22%20data-math%3D%22N%22%20x%3D%220%22%20y%3D%220%22%20transform%3D%22translate(699.4999999999995%2C45)%22%3EHY01%3C%2Ftext%3E%3C%2Fg%3E%3C%2Fg%3E%3Cg%20class%3D%22slice%20cursor-pointer%22%3E%3Cpath%20class%3D%22surface%22%20style%3D%22pointer-events%3A%20all%3B%20stroke-width%3A%201px%3B%20fill%3A%20rgb(78%2C%20121%2C%20167)%3B%20fill-opacity%3A%201%3B%20stroke%3A%20rgb(255%2C%20255%2C%20255)%3B%20stroke-opacity%3A%201%3B%20opacity%3A%201%3B%22%20d%3D%22M695.4999999999995%2C114.33333333333333L784.8249999999996%2C114.33333333333333L784.8249999999996%2C195.66666666666666L695.4999999999995%2C195.66666666666666Z%22%2F%3E%3Cg%20class%3D%22slicetext%22%3E%3Ctext%20data-notex%3D%221%22%20class%3D%22slicetext%22%20text-anchor%3D%22start%22%20style%3D%22font-family%3A%20%26quot%3BOpen%20Sans%26quot%3B%2C%20verdana%2C%20arial%2C%20sans-serif%3B%20font-size%3A%2012px%3B%20fill%3A%20rgb(255%2C%20255%2C%20255)%3B%20fill-opacity%3A%201%3B%20white-space%3A%20pre%3B%22%20data-unformatted%3D%22HY02%22%20data-math%3D%22N%22%20x%3D%220%22%20y%3D%220%22%20transform%3D%22translate(699.4999999999995%2C129.33333333333331)%22%3EHY02%3C%2Ftext%3E%3C%2Fg%3E%3C%2Fg%3E%3Cg%20class%3D%22slice%20cursor-pointer%22%3E%3Cpath%20class%3D%22surface%22%20style%3D%22pointer-events%3A%20all%3B%20stroke-width%3A%201px%3B%20fill%3A%20rgb(78%2C%20121%2C%20167)%3B%20fill-opacity%3A%201%3B%20stroke%3A%20rgb(255%2C%20255%2C%20255)%3B%20stroke-opacity%3A%201%3B%20opacity%3A%201%3B%22%20d%3D%22M695.4999999999995%2C198.66666666666666L784.8249999999996%2C198.66666666666666L784.8249999999996%2C280L695.4999999999995%2C280Z%22%2F%3E%3Cg%20class%3D%22slicetext%22%3E%3Ctext%20data-notex%3D%221%22%20class%3D%22slicetext%22%20text-anchor%3D%22start%22%20style%3D%22font-family%3A%20%26quot%3BOpen%20Sans%26quot%3B%2C%20verdana%2C%20arial%2C%20sans-serif%3B%20font-size%3A%2012px%3B%20fill%3A%20rgb(255%2C%20255%2C%20255)%3B%20fill-opacity%3A%201%3B%20white-space%3A%20pre%3B%22%20data-unformatted%3D%22HY03%22%20data-math%3D%22N%22%20x%3D%220%22%20y%3D%220%22%20transform%3D%22translate(699.4999999999995%2C213.66666666666666)%22%3EHY03%3C%2Ftext%3E%3C%2Fg%3E%3C%2Fg%3E%3Cg%20class%3D%22slice%20cursor-pointer%22%3E%3Cpath%20class%3D%22surface%22%20style%3D%22pointer-events%3A%20all%3B%20stroke-width%3A%201px%3B%20fill%3A%20rgb(78%2C%20121%2C%20167)%3B%20fill-opacity%3A%201%3B%20stroke%3A%20rgb(255%2C%20255%2C%20255)%3B%20stroke-opacity%3A%201%3B%20opacity%3A%201%3B%22%20d%3D%22M787.8249999999996%2C30L877.1499999999996%2C30L877.1499999999996%2C111.33333333333333L787.8249999999996%2C111.33333333333333Z%22%2F%3E%3Cg%20class%3D%22slicetext%22%3E%3Ctext%20data-notex%3D%221%22%20class%3D%22slicetext%22%20text-anchor%3D%22start%22%20style%3D%22font-family%3A%20%26quot%3BOpen%20Sans%26quot%3B%2C%20verdana%2C%20arial%2C%20sans-serif%3B%20font-size%3A%2012px%3B%20fill%3A%20rgb(255%2C%20255%2C%20255)%3B%20fill-opacity%3A%201%3B%20white-space%3A%20pre%3B%22%20data-unformatted%3D%22HY04%22%20data-math%3D%22N%22%20x%3D%220%22%20y%3D%220%22%20transform%3D%22translate(791.8249999999996%2C45)%22%3EHY04%3C%2Ftext%3E%3C%2Fg%3E%3C%2Fg%3E%3Cg%20class%3D%22slice%20cursor-pointer%22%3E%3Cpath%20class%3D%22surface%22%20style%3D%22pointer-events%3A%20all%3B%20stroke-width%3A%201px%3B%20fill%3A%20rgb(78%2C%20121%2C%20167)%3B%20fill-opacity%3A%201%3B%20stroke%3A%20rgb(255%2C%20255%2C%20255)%3B%20stroke-opacity%3A%201%3B%20opacity%3A%201%3B%22%20d%3D%22M787.8249999999996%2C114.33333333333333L877.1499999999996%2C114.33333333333333L877.1499999999996%2C195.66666666666666L787.8249999999996%2C195.66666666666666Z%22%2F%3E%3Cg%20class%3D%22slicetext%22%3E%3Ctext%20data-notex%3D%221%22%20class%3D%22slicetext%22%20text-anchor%3D%22start%22%20style%3D%22font-family%3A%20%26quot%3BOpen%20Sans%26quot%3B%2C%20verdana%2C%20arial%2C%20sans-serif%3B%20font-size%3A%2012px%3B%20fill%3A%20rgb(255%2C%20255%2C%20255)%3B%20fill-opacity%3A%201%3B%20white-space%3A%20pre%3B%22%20data-unformatted%3D%22IR01%22%20data-math%3D%22N%22%20x%3D%220%22%20y%3D%220%22%20transform%3D%22translate(791.8249999999996%2C129.33333333333331)%22%3EIR01%3C%2Ftext%3E%3C%2Fg%3E%3C%2Fg%3E%3Cg%20class%3D%22slice%20cursor-pointer%22%3E%3Cpath%20class%3D%22surface%22%20style%3D%22pointer-events%3A%20all%3B%20stroke-width%3A%201px%3B%20fill%3A%20rgb(78%2C%20121%2C%20167)%3B%20fill-opacity%3A%201%3B%20stroke%3A%20rgb(255%2C%20255%2C%20255)%3B%20stroke-opacity%3A%201%3B%20opacity%3A%201%3B%22%20d%3D%22M787.8249999999996%2C198.66666666666666L877.1499999999996%2C198.66666666666666L877.1499999999996%2C280L787.8249999999996%2C280Z%22%2F%3E%3Cg%20class%3D%22slicetext%22%3E%3Ctext%20data-notex%3D%221%22%20class%3D%22slicetext%22%20text-anchor%3D%22start%22%20style%3D%22font-family%3A%20%26quot%3BOpen%20Sans%26quot%3B%2C%20verdana%2C%20arial%2C%20sans-serif%3B%20font-size%3A%2012px%3B%20fill%3A%20rgb(255%2C%20255%2C%20255)%3B%20fill-opacity%3A%201%3B%20white-space%3A%20pre%3B%22%20data-unformatted%3D%22IR02%22%20data-math%3D%22N%22%20x%3D%220%22%20y%3D%220%22%20transform%3D%22translate(791.8249999999996%2C213.66666666666666)%22%3EIR02%3C%2Ftext%3E%3C%2Fg%3E%3C%2Fg%3E%3Cg%20class%3D%22slice%20cursor-pointer%22%3E%3Cpath%20class%3D%22surface%22%20style%3D%22pointer-events%3A%20all%3B%20stroke-width%3A%201px%3B%20fill%3A%20rgb(78%2C%20121%2C%20167)%3B%20fill-opacity%3A%201%3B%20stroke%3A%20rgb(255%2C%20255%2C%20255)%3B%20stroke-opacity%3A%201%3B%20opacity%3A%201%3B%22%20d%3D%22M880.1499999999996%2C30L969.4749999999997%2C30L969.4749999999997%2C111.33333333333333L880.1499999999996%2C111.33333333333333Z%22%2F%3E%3Cg%20class%3D%22slicetext%22%3E%3Ctext%20data-notex%3D%221%22%20class%3D%22slicetext%22%20text-anchor%3D%22start%22%20style%3D%22font-family%3A%20%26quot%3BOpen%20Sans%26quot%3B%2C%20verdana%2C%20arial%2C%20sans-serif%3B%20font-size%3A%2012px%3B%20fill%3A%20rgb(255%2C%20255%2C%20255)%3B%20fill-opacity%3A%201%3B%20white-space%3A%20pre%3B%22%20data-unformatted%3D%22IR03%22%20data-math%3D%22N%22%20x%3D%220%22%20y%3D%220%22%20transform%3D%22translate(884.1499999999996%2C45)%22%3EIR03%3C%2Ftext%3E%3C%2Fg%3E%3C%2Fg%3E%3Cg%20class%3D%22slice%20cursor-pointer%22%3E%3Cpath%20class%3D%22surface%22%20style%3D%22pointer-events%3A%20all%3B%20stroke-width%3A%201px%3B%20fill%3A%20rgb(78%2C%20121%2C%20167)%3B%20fill-opacity%3A%201%3B%20stroke%3A%20rgb(255%2C%20255%2C%20255)%3B%20stroke-opacity%3A%201%3B%20opacity%3A%201%3B%22%20d%3D%22M880.1499999999996%2C114.33333333333333L969.4749999999997%2C114.33333333333333L969.4749999999997%2C195.66666666666666L880.1499999999996%2C195.66666666666666Z%22%2F%3E%3Cg%20class%3D%22slicetext%22%3E%3Ctext%20data-notex%3D%221%22%20class%3D%22slicetext%22%20text-anchor%3D%22start%22%20style%3D%22font-family%3A%20%26quot%3BOpen%20Sans%26quot%3B%2C%20verdana%2C%20arial%2C%20sans-serif%3B%20font-size%3A%2012px%3B%20fill%3A%20rgb(255%2C%20255%2C%20255)%3B%20fill-opacity%3A%201%3B%20white-space%3A%20pre%3B%22%20data-unformatted%3D%22IR04%22%20data-math%3D%22N%22%20x%3D%220%22%20y%3D%220%22%20transform%3D%22translate(884.1499999999996%2C129.33333333333331)%22%3EIR04%3C%2Ftext%3E%3C%2Fg%3E%3C%2Fg%3E%3Cg%20class%3D%22slice%20cursor-pointer%22%3E%3Cpath%20class%3D%22surface%22%20style%3D%22pointer-events%3A%20all%3B%20stroke-width%3A%201px%3B%20fill%3A%20rgb(78%2C%20121%2C%20167)%3B%20fill-opacity%3A%201%3B%20stroke%3A%20rgb(255%2C%20255%2C%20255)%3B%20stroke-opacity%3A%201%3B%20opacity%3A%201%3B%22%20d%3D%22M880.1499999999996%2C198.66666666666666L969.4749999999997%2C198.66666666666666L969.4749999999997%2C280L880.1499999999996%2C280Z%22%2F%3E%3Cg%20class%3D%22slicetext%22%3E%3Ctext%20data-notex%3D%221%22%20class%3D%22slicetext%22%20text-anchor%3D%22start%22%20style%3D%22font-family%3A%20%26quot%3BOpen%20Sans%26quot%3B%2C%20verdana%2C%20arial%2C%20sans-serif%3B%20font-size%3A%2012px%3B%20fill%3A%20rgb(255%2C%20255%2C%20255)%3B%20fill-opacity%3A%201%3B%20white-space%3A%20pre%3B%22%20data-unformatted%3D%22KR01%22%20data-math%3D%22N%22%20x%3D%220%22%20y%3D%220%22%20transform%3D%22translate(884.1499999999996%2C213.66666666666666)%22%3EKR01%3C%2Ftext%3E%3C%2Fg%3E%3C%2Fg%3E%3Cg%20class%3D%22slice%20cursor-pointer%22%3E%3Cpath%20class%3D%22surface%22%20style%3D%22pointer-events%3A%20all%3B%20stroke-width%3A%201px%3B%20fill%3A%20rgb(78%2C%20121%2C%20167)%3B%20fill-opacity%3A%201%3B%20stroke%3A%20rgb(255%2C%20255%2C%20255)%3B%20stroke-opacity%3A%201%3B%20opacity%3A%201%3B%22%20d%3D%22M972.4749999999997%2C30L1061.7999999999997%2C30L1061.7999999999997%2C111.33333333333333L972.4749999999997%2C111.33333333333333Z%22%2F%3E%3Cg%20class%3D%22slicetext%22%3E%3Ctext%20data-notex%3D%221%22%20class%3D%22slicetext%22%20text-anchor%3D%22start%22%20style%3D%22font-family%3A%20%26quot%3BOpen%20Sans%26quot%3B%2C%20verdana%2C%20arial%2C%20sans-serif%3B%20font-size%3A%2012px%3B%20fill%3A%20rgb(255%2C%20255%2C%20255)%3B%20fill-opacity%3A%201%3B%20white-space%3A%20pre%3B%22%20data-unformatted%3D%22KR02%22%20data-math%3D%22N%22%20x%3D%220%22%20y%3D%220%22%20transform%3D%22translate(976.4749999999997%2C45)%22%3EKR02%3C%2Ftext%3E%3C%2Fg%3E%3C%2Fg%3E%3Cg%20class%3D%22slice%20cursor-pointer%22%3E%3Cpath%20class%3D%22surface%22%20style%3D%22pointer-events%3A%20all%3B%20stroke-width%3A%201px%3B%20fill%3A%20rgb(78%2C%20121%2C%20167)%3B%20fill-opacity%3A%201%3B%20stroke%3A%20rgb(255%2C%20255%2C%20255)%3B%20stroke-opacity%3A%201%3B%20opacity%3A%201%3B%22%20d%3D%22M972.4749999999997%2C114.33333333333333L1061.7999999999997%2C114.33333333333333L1061.7999999999997%2C195.66666666666666L972.4749999999997%2C195.66666666666666Z%22%2F%3E%3Cg%20class%3D%22slicetext%22%3E%3Ctext%20data-notex%3D%221%22%20class%3D%22slicetext%22%20text-anchor%3D%22start%22%20style%3D%22font-family%3A%20%26quot%3BOpen%20Sans%26quot%3B%2C%20verdana%2C%20arial%2C%20sans-serif%3B%20font-size%3A%2012px%3B%20fill%3A%20rgb(255%2C%20255%2C%20255)%3B%20fill-opacity%3A%201%3B%20white-space%3A%20pre%3B%22%20data-unformatted%3D%22KR03%22%20data-math%3D%22N%22%20x%3D%220%22%20y%3D%220%22%20transform%3D%22translate(976.4749999999997%2C129.33333333333331)%22%3EKR03%3C%2Ftext%3E%3C%2Fg%3E%3C%2Fg%3E%3Cg%20class%3D%22slice%20cursor-pointer%22%3E%3Cpath%20class%3D%22surface%22%20style%3D%22pointer-events%3A%20all%3B%20stroke-width%3A%201px%3B%20fill%3A%20rgb(78%2C%20121%2C%20167)%3B%20fill-opacity%3A%201%3B%20stroke%3A%20rgb(255%2C%20255%2C%20255)%3B%20stroke-opacity%3A%201%3B%20opacity%3A%201%3B%22%20d%3D%22M972.4749999999997%2C198.66666666666666L1061.7999999999997%2C198.66666666666666L1061.7999999999997%2C280L972.4749999999997%2C280Z%22%2F%3E%3Cg%20class%3D%22slicetext%22%3E%3Ctext%20data-notex%3D%221%22%20class%3D%22slicetext%22%20text-anchor%3D%22start%22%20style%3D%22font-family%3A%20%26quot%3BOpen%20Sans%26quot%3B%2C%20verdana%2C%20arial%2C%20sans-serif%3B%20font-size%3A%2012px%3B%20fill%3A%20rgb(255%2C%20255%2C%20255)%3B%20fill-opacity%3A%201%3B%20white-space%3A%20pre%3B%22%20data-unformatted%3D%22KR04%22%20data-math%3D%22N%22%20x%3D%220%22%20y%3D%220%22%20transform%3D%22translate(976.4749999999997%2C213.66666666666666)%22%3EKR04%3C%2Ftext%3E%3C%2Fg%3E%3C%2Fg%3E%3Cg%20class%3D%22slice%20cursor-pointer%22%3E%3Cpath%20class%3D%22surface%22%20style%3D%22pointer-events%3A%20all%3B%20stroke-width%3A%201px%3B%20fill%3A%20rgb(78%2C%20121%2C%20167)%3B%20fill-opacity%3A%201%3B%20stroke%3A%20rgb(255%2C%20255%2C%20255)%3B%20stroke-opacity%3A%201%3B%20opacity%3A%201%3B%22%20d%3D%22M1064.7999999999997%2C30L1143.8666666666663%2C30L1143.8666666666663%2C121.87499999999982L1064.7999999999997%2C121.87499999999982Z%22%2F%3E%3Cg%20class%3D%22slicetext%22%3E%3Ctext%20data-notex%3D%221%22%20class%3D%22slicetext%22%20text-anchor%3D%22start%22%20style%3D%22font-family%3A%20%26quot%3BOpen%20Sans%26quot%3B%2C%20verdana%2C%20arial%2C%20sans-serif%3B%20font-size%3A%2012px%3B%20fill%3A%20rgb(255%2C%20255%2C%20255)%3B%20fill-opacity%3A%201%3B%20white-space%3A%20pre%3B%22%20data-unformatted%3D%22PO01%22%20data-math%3D%22N%22%20x%3D%220%22%20y%3D%220%22%20transform%3D%22translate(1068.7999999999997%2C45)%22%3EPO01%3C%2Ftext%3E%3C%2Fg%3E%3C%2Fg%3E%3Cg%20class%3D%22slice%20cursor-pointer%22%3E%3Cpath%20class%3D%22surface%22%20style%3D%22pointer-events%3A%20all%3B%20stroke-width%3A%201px%3B%20fill%3A%20rgb(78%2C%20121%2C%20167)%3B%20fill-opacity%3A%201%3B%20stroke%3A%20rgb(255%2C%20255%2C%20255)%3B%20stroke-opacity%3A%201%3B%20opacity%3A%201%3B%22%20d%3D%22M1146.8666666666663%2C30L1225.9333333333332%2C30L1225.9333333333332%2C121.87499999999982L1146.8666666666663%2C121.87499999999982Z%22%2F%3E%3Cg%20class%3D%22slicetext%22%3E%3Ctext%20data-notex%3D%221%22%20class%3D%22slicetext%22%20text-anchor%3D%22start%22%20style%3D%22font-family%3A%20%26quot%3BOpen%20Sans%26quot%3B%2C%20verdana%2C%20arial%2C%20sans-serif%3B%20font-size%3A%2012px%3B%20fill%3A%20rgb(255%2C%20255%2C%20255)%3B%20fill-opacity%3A%201%3B%20white-space%3A%20pre%3B%22%20data-unformatted%3D%22PO02%22%20data-math%3D%22N%22%20x%3D%220%22%20y%3D%220%22%20transform%3D%22translate(1150.8666666666663%2C45)%22%3EPO02%3C%2Ftext%3E%3C%2Fg%3E%3C%2Fg%3E%3Cg%20class%3D%22slice%20cursor-pointer%22%3E%3Cpath%20class%3D%22surface%22%20style%3D%22pointer-events%3A%20all%3B%20stroke-width%3A%201px%3B%20fill%3A%20rgb(78%2C%20121%2C%20167)%3B%20fill-opacity%3A%201%3B%20stroke%3A%20rgb(255%2C%20255%2C%20255)%3B%20stroke-opacity%3A%201%3B%20opacity%3A%201%3B%22%20d%3D%22M1228.9333333333332%2C30L1308%2C30L1308%2C121.87499999999982L1228.9333333333332%2C121.87499999999982Z%22%2F%3E%3Cg%20class%3D%22slicetext%22%3E%3Ctext%20data-notex%3D%221%22%20class%3D%22slicetext%22%20text-anchor%3D%22start%22%20style%3D%22font-family%3A%20%26quot%3BOpen%20Sans%26quot%3B%2C%20verdana%2C%20arial%2C%20sans-serif%3B%20font-size%3A%2012px%3B%20fill%3A%20rgb(255%2C%20255%2C%20255)%3B%20fill-opacity%3A%201%3B%20white-space%3A%20pre%3B%22%20data-unformatted%3D%22PO03%22%20data-math%3D%22N%22%20x%3D%220%22%20y%3D%220%22%20transform%3D%22translate(1232.9333333333332%2C45)%22%3EPO03%3C%2Ftext%3E%3C%2Fg%3E%3C%2Fg%3E%3Cg%20class%3D%22slice%20cursor-pointer%22%3E%3Cpath%20class%3D%22surface%22%20style%3D%22pointer-events%3A%20all%3B%20stroke-width%3A%201px%3B%20fill%3A%20rgb(78%2C%20121%2C%20167)%3B%20fill-opacity%3A%201%3B%20stroke%3A%20rgb(255%2C%20255%2C%20255)%3B%20stroke-opacity%3A%201%3B%20opacity%3A%201%3B%22%20d%3D%22M1064.7999999999997%2C124.87499999999982L1160.2799999999995%2C124.87499999999982L1160.2799999999995%2C200.9374999999999L1064.7999999999997%2C200.9374999999999Z%22%2F%3E%3Cg%20class%3D%22slicetext%22%3E%3Ctext%20data-notex%3D%221%22%20class%3D%22slicetext%22%20text-anchor%3D%22start%22%20style%3D%22font-family%3A%20%26quot%3BOpen%20Sans%26quot%3B%2C%20verdana%2C%20arial%2C%20sans-serif%3B%20font-size%3A%2012px%3B%20fill%3A%20rgb(255%2C%20255%2C%20255)%3B%20fill-opacity%3A%201%3B%20white-space%3A%20pre%3B%22%20data-unformatted%3D%22PO04%22%20data-math%3D%22N%22%20x%3D%220%22%20y%3D%220%22%20transform%3D%22translate(1068.7999999999997%2C139.87499999999983)%22%3EPO04%3C%2Ftext%3E%3C%2Fg%3E%3C%2Fg%3E%3Cg%20class%3D%22slice%20cursor-pointer%22%3E%3Cpath%20class%3D%22surface%22%20style%3D%22pointer-events%3A%20all%3B%20stroke-width%3A%201px%3B%20fill%3A%20rgb(78%2C%20121%2C%20167)%3B%20fill-opacity%3A%201%3B%20stroke%3A%20rgb(255%2C%20255%2C%20255)%3B%20stroke-opacity%3A%201%3B%20opacity%3A%201%3B%22%20d%3D%22M1064.7999999999997%2C203.9374999999999L1160.2799999999995%2C203.9374999999999L1160.2799999999995%2C279.99999999999994L1064.7999999999997%2C279.99999999999994Z%22%2F%3E%3Cg%20class%3D%22slicetext%22%3E%3Ctext%20data-notex%3D%221%22%20class%3D%22slicetext%22%20text-anchor%3D%22start%22%20style%3D%22font-family%3A%20%26quot%3BOpen%20Sans%26quot%3B%2C%20verdana%2C%20arial%2C%20sans-serif%3B%20font-size%3A%2012px%3B%20fill%3A%20rgb(255%2C%20255%2C%20255)%3B%20fill-opacity%3A%201%3B%20white-space%3A%20pre%3B%22%20data-unformatted%3D%22ZE01%22%20data-math%3D%22N%22%20x%3D%220%22%20y%3D%220%22%20transform%3D%22translate(1068.7999999999997%2C218.9374999999999)%22%3EZE01%3C%2Ftext%3E%3C%2Fg%3E%3C%2Fg%3E%3Cg%20class%3D%22slice%20cursor-pointer%22%3E%3Cpath%20class%3D%22surface%22%20style%3D%22pointer-events%3A%20all%3B%20stroke-width%3A%201px%3B%20fill%3A%20rgb(78%2C%20121%2C%20167)%3B%20fill-opacity%3A%201%3B%20stroke%3A%20rgb(255%2C%20255%2C%20255)%3B%20stroke-opacity%3A%201%3B%20opacity%3A%201%3B%22%20d%3D%22M1163.2799999999995%2C124.87499999999982L1234.1399999999996%2C124.87499999999982L1234.1399999999996%2C227.2916666666661L1163.2799999999995%2C227.2916666666661Z%22%2F%3E%3Cg%20class%3D%22slicetext%22%3E%3Ctext%20data-notex%3D%221%22%20class%3D%22slicetext%22%20text-anchor%3D%22start%22%20style%3D%22font-family%3A%20%26quot%3BOpen%20Sans%26quot%3B%2C%20verdana%2C%20arial%2C%20sans-serif%3B%20font-size%3A%2012px%3B%20fill%3A%20rgb(255%2C%20255%2C%20255)%3B%20fill-opacity%3A%201%3B%20white-space%3A%20pre%3B%22%20data-unformatted%3D%22ZE02%22%20data-math%3D%22N%22%20x%3D%220%22%20y%3D%220%22%20transform%3D%22translate(1167.2799999999995%2C139.87499999999983)%22%3EZE02%3C%2Ftext%3E%3C%2Fg%3E%3C%2Fg%3E%3Cg%20class%3D%22slice%20cursor-pointer%22%3E%3Cpath%20class%3D%22surface%22%20style%3D%22pointer-events%3A%20all%3B%20stroke-width%3A%201px%3B%20fill%3A%20rgb(78%2C%20121%2C%20167)%3B%20fill-opacity%3A%201%3B%20stroke%3A%20rgb(255%2C%20255%2C%20255)%3B%20stroke-opacity%3A%201%3B%20opacity%3A%201%3B%22%20d%3D%22M1237.1399999999996%2C124.87499999999982L1307.9999999999998%2C124.87499999999982L1307.9999999999998%2C227.2916666666661L1237.1399999999996%2C227.2916666666661Z%22%2F%3E%3Cg%20class%3D%22slicetext%22%3E%3Ctext%20data-notex%3D%221%22%20class%3D%22slicetext%22%20text-anchor%3D%22start%22%20style%3D%22font-family%3A%20%26quot%3BOpen%20Sans%26quot%3B%2C%20verdana%2C%20arial%2C%20sans-serif%3B%20font-size%3A%2012px%3B%20fill%3A%20rgb(255%2C%20255%2C%20255)%3B%20fill-opacity%3A%201%3B%20white-space%3A%20pre%3B%22%20data-unformatted%3D%22ZE03%22%20data-math%3D%22N%22%20x%3D%220%22%20y%3D%220%22%20transform%3D%22translate(1241.1399999999996%2C139.87499999999983)%22%3EZE03%3C%2Ftext%3E%3C%2Fg%3E%3C%2Fg%3E%3Cg%20class%3D%22slice%20cursor-pointer%22%3E%3Cpath%20class%3D%22surface%22%20style%3D%22pointer-events%3A%20all%3B%20stroke-width%3A%201px%3B%20fill%3A%20rgb(78%2C%20121%2C%20167)%3B%20fill-opacity%3A%201%3B%20stroke%3A%20rgb(255%2C%20255%2C%20255)%3B%20stroke-opacity%3A%201%3B%20opacity%3A%201%3B%22%20d%3D%22M1163.2799999999995%2C230.2916666666661L1307.999999999998%2C230.2916666666661L1307.999999999998%2C280L1163.2799999999995%2C280Z%22%2F%3E%3Cg%20class%3D%22slicetext%22%3E%3Ctext%20data-notex%3D%221%22%20class%3D%22slicetext%22%20text-anchor%3D%22start%22%20style%3D%22font-family%3A%20%26quot%3BOpen%20Sans%26quot%3B%2C%20verdana%2C%20arial%2C%20sans-serif%3B%20font-size%3A%2012px%3B%20fill%3A%20rgb(255%2C%20255%2C%20255)%3B%20fill-opacity%3A%201%3B%20white-space%3A%20pre%3B%22%20data-unformatted%3D%22ZE04%22%20data-math%3D%22N%22%20x%3D%220%22%20y%3D%220%22%20transform%3D%22translate(1167.2799999999995%2C245.2916666666661)%22%3EZE04%3C%2Ftext%3E%3C%2Fg%3E%3C%2Fg%3E%3C%2Fg%3E%3C%2Fg%3E%3Cg%20class%3D%22sunburstlayer%22%2F%3E%3Cg%20class%3D%22glimages%22%2F%3E%3Cdefs%20id%3D%22topdefs-438800%22%3E%3Cg%20class%3D%22clips%22%2F%3E%3C%2Fdefs%3E%3Cg%20class%3D%22indicatorlayer%22%2F%3E%3Cg%20class%3D%22layer-above%22%3E%3Cg%20class%3D%22imagelayer%22%2F%3E%3Cg%20class%3D%22shapelayer%22%2F%3E%3C%2Fg%3E%3Cg%20class%3D%22infolayer%22%3E%3Cg%20class%3D%22g-gtitle%22%2F%3E%3C%2Fg%3E%3Cg%20class%3D%22menulayer%22%2F%3E%3Cg%20class%3D%22zoomlayer%22%2F%3E%3Cg%20class%3D%22hoverlayer%22%2F%3E%3C%2Fsvg%3E\">"
      ],
      "text/plain": [
       "Open the notebook in JupyterLab with the atoti extension installed and enabled to see this widget."
      ]
     },
     "metadata": {},
     "output_type": "display_data"
    }
   ],
   "source": [
    "position_sensitivity_cube.visualize(\"Portfolio concentration\")"
   ]
  },
  {
   "cell_type": "markdown",
   "metadata": {},
   "source": [
    "In the below pivot-table, we can easily drill-down the levels in the *Investment Portfolio Hierarchy* to see measures at granular levels.  \n",
    "Naturally, this could also be achieved by clicking on `>+` and manually adding a hierarchy to drill down to. It's just a little more tedious."
   ]
  },
  {
   "cell_type": "code",
   "execution_count": null,
   "metadata": {
    "activeviam": {
     "state": {
      "name": "Investment Portfolio Hierarchy Pivot Table",
      "type": "container",
      "value": {
       "body": {
        "configuration": {
         "tabular": {
          "addButtonFilter": "numeric",
          "columns": [
           {
            "key": "c-treeCells-member",
            "width": 486
           }
          ],
          "columnsGroups": [
           {
            "captionProducer": "firstColumn",
            "cellFactory": "kpi-status",
            "selector": "kpi-status"
           },
           {
            "captionProducer": "firstColumn",
            "cellFactory": "lookup",
            "selector": "lookup"
           },
           {
            "captionProducer": "expiry",
            "cellFactory": "expiry",
            "selector": "kpi-expiry"
           },
           {
            "captionProducer": "columnMerge",
            "cellFactory": {
             "args": {
              "automaticExpansion": true
             },
             "key": "treeCells"
            },
            "selector": "member"
           }
          ],
          "defaultOptions": {},
          "hideAddButton": true,
          "lineNumbers": true,
          "pinnedHeaderSelector": "member",
          "sortingMode": "non-breaking",
          "statisticsShown": true
         }
        },
        "contextValues": {},
        "mdx": "SELECT NON EMPTY Hierarchize(Union(Crossjoin(Union(DrilldownLevel([Hierarchies].[Investment Portfolio Hierarchy].[ALL].[AllMember]), Descendants({[Hierarchies].[Investment Portfolio Hierarchy].[ALL].[AllMember].[Forex]}, [Hierarchies].[Investment Portfolio Hierarchy].[Sub Asset Class]), Descendants({[Hierarchies].[Investment Portfolio Hierarchy].[ALL].[AllMember].[Rates & Credit]}, [Hierarchies].[Investment Portfolio Hierarchy].[Sub Asset Class]), Descendants({[Hierarchies].[Investment Portfolio Hierarchy].[ALL].[AllMember].[Equity]}, [Hierarchies].[Investment Portfolio Hierarchy].[Sub Asset Class]), Descendants({[Hierarchies].[Investment Portfolio Hierarchy].[ALL].[AllMember].[Equity].[Domestic Equity]}, [Hierarchies].[Investment Portfolio Hierarchy].[Fund]), Descendants({[Hierarchies].[Investment Portfolio Hierarchy].[ALL].[AllMember].[Equity].[Domestic Equity].[Poseidon]}, [Hierarchies].[Investment Portfolio Hierarchy].[Portfolio])), [Hierarchies].[instrument_code].DefaultMember), Crossjoin([Hierarchies].[Investment Portfolio Hierarchy].[ALL].[AllMember].[Equity].[Domestic Equity].[Poseidon].[PO01], [Hierarchies].[instrument_code].[instrument_code].Members), Crossjoin([Hierarchies].[Investment Portfolio Hierarchy].[ALL].[AllMember].[Equity].[Domestic Equity].[Poseidon].[PO01], Descendants({[Hierarchies].[instrument_code].[ALL].[AllMember].[UK00180009]}, [Hierarchies].[instrument_code].[instrument_code])))) ON ROWS, NON EMPTY {[Measures].[Theoretical PnL], [Measures].[sensi.SUM], [Measures].[contributors.COUNT]} ON COLUMNS FROM [Position_Sensitivities] CELL PROPERTIES VALUE, FORMATTED_VALUE, BACK_COLOR, FORE_COLOR, FONT_FLAGS",
        "ranges": {
         "column": {
          "chunkSize": 50,
          "thresholdPercentage": 0.2
         },
         "row": {
          "chunkSize": 2000,
          "thresholdPercentage": 0.1
         }
        },
        "serverUrl": "",
        "updateMode": "once"
       },
       "containerKey": "pivot-table",
       "showTitleBar": false,
       "style": {}
      }
     }
    },
    "atoti": {
     "height": 426,
     "state": {
      "name": "Investment Portfolio Hierarchy Pivot Table",
      "type": "container",
      "value": {
       "body": {
        "configuration": {
         "tabular": {
          "addButtonFilter": "numeric",
          "columns": [],
          "columnsGroups": [
           {
            "captionProducer": "firstColumn",
            "cellFactory": "kpi-status",
            "selector": "kpi-status"
           },
           {
            "captionProducer": "firstColumn",
            "cellFactory": "lookup",
            "selector": "lookup"
           },
           {
            "captionProducer": "expiry",
            "cellFactory": "expiry",
            "selector": "kpi-expiry"
           },
           {
            "captionProducer": "columnMerge",
            "cellFactory": {
             "args": {
              "automaticExpansion": true
             },
             "key": "treeCells"
            },
            "selector": "member"
           }
          ],
          "defaultOptions": {},
          "hideAddButton": true,
          "lineNumbers": true,
          "pinnedHeaderSelector": "member",
          "sortingMode": "non-breaking",
          "statisticsShown": true
         }
        },
        "contextValues": {},
        "mdx": "SELECT NON EMPTY Hierarchize(Union(DrilldownLevel([Hierarchies].[Investment Portfolio Hierarchy].[ALL].[AllMember]), Descendants({[Hierarchies].[Investment Portfolio Hierarchy].[ALL].[AllMember].[Rates & Credit]}, [Hierarchies].[Investment Portfolio Hierarchy].[Sub Asset Class]), Descendants({[Hierarchies].[Investment Portfolio Hierarchy].[ALL].[AllMember].[Rates & Credit].[Domestic Rates & Credit]}, [Hierarchies].[Investment Portfolio Hierarchy].[Fund]), Descendants({[Hierarchies].[Investment Portfolio Hierarchy].[ALL].[AllMember].[Rates & Credit].[Domestic Rates & Credit].[Hermes]}, [Hierarchies].[Investment Portfolio Hierarchy].[Portfolio]))) ON ROWS, NON EMPTY {[Measures].[Theoretical PnL], [Measures].[sensi.SUM], [Measures].[contributors.COUNT]} ON COLUMNS FROM [Position_Sensitivities] CELL PROPERTIES VALUE, FORMATTED_VALUE, BACK_COLOR, FORE_COLOR, FONT_FLAGS",
        "ranges": {
         "column": {
          "chunkSize": 50,
          "thresholdPercentage": 0.2
         },
         "row": {
          "chunkSize": 2000,
          "thresholdPercentage": 0.1
         }
        },
        "serverUrl": "",
        "updateMode": "once"
       },
       "containerKey": "pivot-table",
       "showTitleBar": false,
       "style": {}
      }
     }
    }
   },
   "outputs": [],
   "source": [
    "position_sensitivity_cube.visualize(\"Investment Portfolio Hierarchy Pivot Table\")"
   ]
  },
  {
   "cell_type": "markdown",
   "metadata": {},
   "source": [
    "#### Yield Curve\n",
    "\n",
    "The *Yield Curve* gives insights to the future interest rate changes and economic activity. \n",
    "  \n",
    "A normal yield curve which shows an upward curve, shows longer-term bonds having higher yields than short-term ones. Short-term interest rates are the lowest because there is less embedded inflation risk. This shows economic expansion.\n",
    "\n",
    "An inverted curve which has a downward slope, is a sign of an upcoming recession. The shorter-term bonds yields higher than the longer-term ones.  \n",
    "\n",
    "A flat or humped yield curve shows that the yields for shorter- and longer-term bonds are very close to each other. Investors are expecting interest rates to remain about the same, probably an economic transition.\n",
    "  \n",
    "We will use the start of day and last rates against the tenor to plot our yield curve. We should be able to see a normal upward yield curve in the chart below."
   ]
  },
  {
   "cell_type": "code",
   "execution_count": 28,
   "metadata": {
    "activeviam": {
     "state": {
      "name": "Yield Curve",
      "type": "container",
      "value": {
       "body": {
        "configuration": {
         "mapping": {
          "splitBy": [
           "[Hierarchies].[currency].[currency]",
           "[Hierarchies].[curve].[curve]"
          ],
          "values": [
           "[Measures].[start_of_day.VALUE]",
           "[Measures].[last.VALUE]"
          ],
          "xAxis": [
           "[Hierarchies].[tenor].[tenor]"
          ]
         },
         "plotly": {
          "layout": {
           "xaxis": {
            "title": "Tenor"
           },
           "yaxis": {
            "title": "Yield"
           }
          }
         },
         "type": "plotly-line-chart"
        },
        "query": {
         "mdx": "SELECT NON EMPTY Crossjoin([Hierarchies].[tenor].[tenor].Members, [Hierarchies].[currency].[currency].Members, [Hierarchies].[curve].[curve].Members) ON ROWS, NON EMPTY {[Measures].[start_of_day.VALUE], [Measures].[last.VALUE]} ON COLUMNS FROM (SELECT [Hierarchies].[currency].[ALL].[AllMember].[EUR] ON COLUMNS FROM (SELECT [Hierarchies].[curve].[ALL].[AllMember].[EUR-Govt-FR] ON COLUMNS FROM [Position_Sensitivities])) CELL PROPERTIES VALUE, FORMATTED_VALUE, BACK_COLOR, FORE_COLOR, FONT_FLAGS",
         "serverUrl": "",
         "updateMode": "once"
        }
       },
       "containerKey": "chart",
       "showTitleBar": false,
       "style": {}
      }
     }
    },
    "atoti": {
     "height": 350,
     "state": {
      "name": "Yield Curve",
      "type": "container",
      "value": {
       "body": {
        "configuration": {
         "mapping": {
          "horizontal": [],
          "splitBy": [],
          "values": [
           "[Measures].[start_of_day.VALUE]",
           "[Measures].[last.VALUE]"
          ],
          "vertical": [],
          "xAxis": [
           "[Hierarchies].[tenor].[tenor]"
          ]
         },
         "plotly": {
          "layout": {
           "xaxis": {
            "title": "Theoretical PnL"
           },
           "yaxis": {
            "title": "Tenor"
           }
          }
         },
         "type": "plotly-line-chart"
        },
        "query": {
         "contextValues": {},
         "mdx": "SELECT NON EMPTY [Hierarchies].[tenor].[tenor].Members ON ROWS, NON EMPTY {[Measures].[start_of_day.VALUE], [Measures].[last.VALUE]} ON COLUMNS FROM [Position_Sensitivities] CELL PROPERTIES VALUE, FORMATTED_VALUE, BACK_COLOR, FORE_COLOR, FONT_FLAGS",
         "serverUrl": ""
        }
       },
       "containerKey": "chart",
       "showTitleBar": false,
       "style": {}
      }
     }
    }
   },
   "outputs": [
    {
     "data": {
      "application/vnd.atoti.v0+json": {
       "cube": "Position_Sensitivities",
       "error": null,
       "name": "Yield Curve",
       "session": "Unnamed"
      },
      "text/html": [
       "<img src=\"data:image/svg+xml;charset=utf8,%3C%3Fxml%20version%3D%221.0%22%20standalone%3D%22no%22%3F%3E%3Csvg%20xmlns%3D%22http%3A%2F%2Fwww.w3.org%2F2000%2Fsvg%22%20xmlns%3Axlink%3D%22http%3A%2F%2Fwww.w3.org%2F1999%2Fxlink%22%20viewBox%3D%220%200%201308%20350%22%3E%3Cdefs%20id%3D%22defs-779a17%22%3E%3Cg%20class%3D%22clips%22%3E%3CclipPath%20id%3D%22clip779a17xyplot%22%20class%3D%22plotclip%22%3E%3Crect%20width%3D%221053%22%20height%3D%22240%22%2F%3E%3C%2FclipPath%3E%3CclipPath%20class%3D%22axesclip%22%20id%3D%22clip779a17x%22%3E%3Crect%20x%3D%2280%22%20y%3D%220%22%20width%3D%221053%22%20height%3D%22350%22%2F%3E%3C%2FclipPath%3E%3CclipPath%20class%3D%22axesclip%22%20id%3D%22clip779a17y%22%3E%3Crect%20x%3D%220%22%20y%3D%2230%22%20width%3D%221308%22%20height%3D%22240%22%2F%3E%3C%2FclipPath%3E%3CclipPath%20class%3D%22axesclip%22%20id%3D%22clip779a17xy%22%3E%3Crect%20x%3D%2280%22%20y%3D%2230%22%20width%3D%221053%22%20height%3D%22240%22%2F%3E%3C%2FclipPath%3E%3C%2Fg%3E%3Cg%20class%3D%22gradients%22%2F%3E%3C%2Fdefs%3E%3Cg%20class%3D%22bglayer%22%2F%3E%3Cg%20class%3D%22draglayer%20cursor-crosshair%22%3E%3Cg%20class%3D%22xy%22%3E%3Crect%20class%3D%22nsewdrag%20drag%22%20style%3D%22fill%3A%20transparent%3B%20stroke-width%3A%200px%3B%20pointer-events%3A%20all%3B%22%20data-subplot%3D%22xy%22%20x%3D%2280%22%20y%3D%2230%22%20width%3D%221053%22%20height%3D%22240%22%2F%3E%3Crect%20class%3D%22nwdrag%20drag%20cursor-nw-resize%22%20style%3D%22fill%3A%20transparent%3B%20stroke-width%3A%200px%3B%20pointer-events%3A%20all%3B%22%20data-subplot%3D%22xy%22%20x%3D%2260%22%20y%3D%2210%22%20width%3D%2220%22%20height%3D%2220%22%2F%3E%3Crect%20class%3D%22nedrag%20drag%20cursor-ne-resize%22%20style%3D%22fill%3A%20transparent%3B%20stroke-width%3A%200px%3B%20pointer-events%3A%20all%3B%22%20data-subplot%3D%22xy%22%20x%3D%221133%22%20y%3D%2210%22%20width%3D%2220%22%20height%3D%2220%22%2F%3E%3Crect%20class%3D%22swdrag%20drag%20cursor-sw-resize%22%20style%3D%22fill%3A%20transparent%3B%20stroke-width%3A%200px%3B%20pointer-events%3A%20all%3B%22%20data-subplot%3D%22xy%22%20x%3D%2260%22%20y%3D%22270%22%20width%3D%2220%22%20height%3D%2220%22%2F%3E%3Crect%20class%3D%22sedrag%20drag%20cursor-se-resize%22%20style%3D%22fill%3A%20transparent%3B%20stroke-width%3A%200px%3B%20pointer-events%3A%20all%3B%22%20data-subplot%3D%22xy%22%20x%3D%221133%22%20y%3D%22270%22%20width%3D%2220%22%20height%3D%2220%22%2F%3E%3Crect%20class%3D%22ewdrag%20drag%20cursor-ew-resize%22%20style%3D%22fill%3A%20transparent%3B%20stroke-width%3A%200px%3B%20pointer-events%3A%20all%3B%22%20data-subplot%3D%22xy%22%20x%3D%22185.3%22%20y%3D%22270.5%22%20width%3D%22842.4000000000001%22%20height%3D%2220%22%2F%3E%3Crect%20class%3D%22wdrag%20drag%20cursor-w-resize%22%20style%3D%22fill%3A%20transparent%3B%20stroke-width%3A%200px%3B%20pointer-events%3A%20all%3B%22%20data-subplot%3D%22xy%22%20x%3D%2280%22%20y%3D%22270.5%22%20width%3D%22105.30000000000001%22%20height%3D%2220%22%2F%3E%3Crect%20class%3D%22edrag%20drag%20cursor-e-resize%22%20style%3D%22fill%3A%20transparent%3B%20stroke-width%3A%200px%3B%20pointer-events%3A%20all%3B%22%20data-subplot%3D%22xy%22%20x%3D%221027.7%22%20y%3D%22270.5%22%20width%3D%22105.30000000000001%22%20height%3D%2220%22%2F%3E%3Crect%20class%3D%22nsdrag%20drag%20cursor-ns-resize%22%20style%3D%22fill%3A%20transparent%3B%20stroke-width%3A%200px%3B%20pointer-events%3A%20all%3B%22%20data-subplot%3D%22xy%22%20x%3D%2259.5%22%20y%3D%2254%22%20width%3D%2220%22%20height%3D%22192%22%2F%3E%3Crect%20class%3D%22sdrag%20drag%20cursor-s-resize%22%20style%3D%22fill%3A%20transparent%3B%20stroke-width%3A%200px%3B%20pointer-events%3A%20all%3B%22%20data-subplot%3D%22xy%22%20x%3D%2259.5%22%20y%3D%22246%22%20width%3D%2220%22%20height%3D%2224%22%2F%3E%3Crect%20class%3D%22ndrag%20drag%20cursor-n-resize%22%20style%3D%22fill%3A%20transparent%3B%20stroke-width%3A%200px%3B%20pointer-events%3A%20all%3B%22%20data-subplot%3D%22xy%22%20x%3D%2259.5%22%20y%3D%2230%22%20width%3D%2220%22%20height%3D%2224%22%2F%3E%3C%2Fg%3E%3C%2Fg%3E%3Cg%20class%3D%22layer-below%22%3E%3Cg%20class%3D%22imagelayer%22%2F%3E%3Cg%20class%3D%22shapelayer%22%2F%3E%3C%2Fg%3E%3Cg%20class%3D%22cartesianlayer%22%3E%3Cg%20class%3D%22subplot%20xy%22%3E%3Cg%20class%3D%22layer-subplot%22%3E%3Cg%20class%3D%22shapelayer%22%2F%3E%3Cg%20class%3D%22imagelayer%22%2F%3E%3C%2Fg%3E%3Cg%20class%3D%22gridlayer%22%3E%3Cg%20class%3D%22x%22%3E%3Cpath%20class%3D%22xgrid%20crisp%22%20transform%3D%22translate(136.4%2C0)%22%20d%3D%22M0%2C30v240%22%20style%3D%22stroke%3A%20rgb(0%2C%200%2C%200)%3B%20stroke-opacity%3A%200.1625%3B%20stroke-width%3A%201px%3B%22%2F%3E%3Cpath%20class%3D%22xgrid%20crisp%22%20transform%3D%22translate(253.92%2C0)%22%20d%3D%22M0%2C30v240%22%20style%3D%22stroke%3A%20rgb(0%2C%200%2C%200)%3B%20stroke-opacity%3A%200.1625%3B%20stroke-width%3A%201px%3B%22%2F%3E%3Cpath%20class%3D%22xgrid%20crisp%22%20transform%3D%22translate(371.45%2C0)%22%20d%3D%22M0%2C30v240%22%20style%3D%22stroke%3A%20rgb(0%2C%200%2C%200)%3B%20stroke-opacity%3A%200.1625%3B%20stroke-width%3A%201px%3B%22%2F%3E%3Cpath%20class%3D%22xgrid%20crisp%22%20transform%3D%22translate(488.97%2C0)%22%20d%3D%22M0%2C30v240%22%20style%3D%22stroke%3A%20rgb(0%2C%200%2C%200)%3B%20stroke-opacity%3A%200.1625%3B%20stroke-width%3A%201px%3B%22%2F%3E%3Cpath%20class%3D%22xgrid%20crisp%22%20transform%3D%22translate(606.5%2C0)%22%20d%3D%22M0%2C30v240%22%20style%3D%22stroke%3A%20rgb(0%2C%200%2C%200)%3B%20stroke-opacity%3A%200.1625%3B%20stroke-width%3A%201px%3B%22%2F%3E%3Cpath%20class%3D%22xgrid%20crisp%22%20transform%3D%22translate(724.02%2C0)%22%20d%3D%22M0%2C30v240%22%20style%3D%22stroke%3A%20rgb(0%2C%200%2C%200)%3B%20stroke-opacity%3A%200.1625%3B%20stroke-width%3A%201px%3B%22%2F%3E%3Cpath%20class%3D%22xgrid%20crisp%22%20transform%3D%22translate(841.55%2C0)%22%20d%3D%22M0%2C30v240%22%20style%3D%22stroke%3A%20rgb(0%2C%200%2C%200)%3B%20stroke-opacity%3A%200.1625%3B%20stroke-width%3A%201px%3B%22%2F%3E%3Cpath%20class%3D%22xgrid%20crisp%22%20transform%3D%22translate(959.07%2C0)%22%20d%3D%22M0%2C30v240%22%20style%3D%22stroke%3A%20rgb(0%2C%200%2C%200)%3B%20stroke-opacity%3A%200.1625%3B%20stroke-width%3A%201px%3B%22%2F%3E%3Cpath%20class%3D%22xgrid%20crisp%22%20transform%3D%22translate(1076.6%2C0)%22%20d%3D%22M0%2C30v240%22%20style%3D%22stroke%3A%20rgb(0%2C%200%2C%200)%3B%20stroke-opacity%3A%200.1625%3B%20stroke-width%3A%201px%3B%22%2F%3E%3C%2Fg%3E%3Cg%20class%3D%22y%22%3E%3Cpath%20class%3D%22ygrid%20crisp%22%20transform%3D%22translate(0%2C254.25)%22%20d%3D%22M80%2C0h1053%22%20style%3D%22stroke%3A%20rgb(0%2C%200%2C%200)%3B%20stroke-opacity%3A%200.1625%3B%20stroke-width%3A%201px%3B%22%2F%3E%3Cpath%20class%3D%22ygrid%20crisp%22%20transform%3D%22translate(0%2C212.96)%22%20d%3D%22M80%2C0h1053%22%20style%3D%22stroke%3A%20rgb(0%2C%200%2C%200)%3B%20stroke-opacity%3A%200.1625%3B%20stroke-width%3A%201px%3B%22%2F%3E%3Cpath%20class%3D%22ygrid%20crisp%22%20transform%3D%22translate(0%2C171.68)%22%20d%3D%22M80%2C0h1053%22%20style%3D%22stroke%3A%20rgb(0%2C%200%2C%200)%3B%20stroke-opacity%3A%200.1625%3B%20stroke-width%3A%201px%3B%22%2F%3E%3Cpath%20class%3D%22ygrid%20crisp%22%20transform%3D%22translate(0%2C130.39)%22%20d%3D%22M80%2C0h1053%22%20style%3D%22stroke%3A%20rgb(0%2C%200%2C%200)%3B%20stroke-opacity%3A%200.1625%3B%20stroke-width%3A%201px%3B%22%2F%3E%3Cpath%20class%3D%22ygrid%20crisp%22%20transform%3D%22translate(0%2C89.1)%22%20d%3D%22M80%2C0h1053%22%20style%3D%22stroke%3A%20rgb(0%2C%200%2C%200)%3B%20stroke-opacity%3A%200.1625%3B%20stroke-width%3A%201px%3B%22%2F%3E%3Cpath%20class%3D%22ygrid%20crisp%22%20transform%3D%22translate(0%2C47.81)%22%20d%3D%22M80%2C0h1053%22%20style%3D%22stroke%3A%20rgb(0%2C%200%2C%200)%3B%20stroke-opacity%3A%200.1625%3B%20stroke-width%3A%201px%3B%22%2F%3E%3C%2Fg%3E%3C%2Fg%3E%3Cg%20class%3D%22zerolinelayer%22%2F%3E%3Cpath%20class%3D%22xlines-below%22%2F%3E%3Cpath%20class%3D%22ylines-below%22%2F%3E%3Cg%20class%3D%22overlines-below%22%2F%3E%3Cg%20class%3D%22xaxislayer-below%22%2F%3E%3Cg%20class%3D%22yaxislayer-below%22%2F%3E%3Cg%20class%3D%22overaxes-below%22%2F%3E%3Cg%20class%3D%22plot%22%20transform%3D%22translate(80%2C%2030)%22%20clip-path%3D%22url('%23clip779a17xyplot')%22%3E%3Cg%20class%3D%22scatterlayer%20mlayer%22%3E%3Cg%20class%3D%22trace%20scatter%20tracebe968e%22%20style%3D%22stroke-miterlimit%3A%202%3B%20opacity%3A%201%3B%22%3E%3Cg%20class%3D%22fills%22%2F%3E%3Cg%20class%3D%22errorbars%22%2F%3E%3Cg%20class%3D%22lines%22%3E%3Cpath%20class%3D%22js-line%22%20style%3D%22vector-effect%3A%20non-scaling-stroke%3B%20fill%3A%20none%3B%20stroke%3A%20rgb(78%2C%20121%2C%20167)%3B%20stroke-opacity%3A%201%3B%20stroke-width%3A%202px%3B%20opacity%3A%201%3B%22%20d%3D%22M56.4%2C224.25L173.92%2C121.03L291.45%2C100.39L761.55%2C17.81L879.07%2C17.81L996.6%2C17.81%22%2F%3E%3C%2Fg%3E%3Cg%20class%3D%22points%22%3E%3Cpath%20class%3D%22point%22%20transform%3D%22translate(56.4%2C224.25)%22%20style%3D%22opacity%3A%201%3B%20stroke-width%3A%200px%3B%20fill%3A%20rgb(78%2C%20121%2C%20167)%3B%20fill-opacity%3A%201%3B%22%20d%3D%22M3%2C0A3%2C3%200%201%2C1%200%2C-3A3%2C3%200%200%2C1%203%2C0Z%22%2F%3E%3Cpath%20class%3D%22point%22%20transform%3D%22translate(173.92%2C121.03)%22%20style%3D%22opacity%3A%201%3B%20stroke-width%3A%200px%3B%20fill%3A%20rgb(78%2C%20121%2C%20167)%3B%20fill-opacity%3A%201%3B%22%20d%3D%22M3%2C0A3%2C3%200%201%2C1%200%2C-3A3%2C3%200%200%2C1%203%2C0Z%22%2F%3E%3Cpath%20class%3D%22point%22%20transform%3D%22translate(291.45%2C100.39)%22%20style%3D%22opacity%3A%201%3B%20stroke-width%3A%200px%3B%20fill%3A%20rgb(78%2C%20121%2C%20167)%3B%20fill-opacity%3A%201%3B%22%20d%3D%22M3%2C0A3%2C3%200%201%2C1%200%2C-3A3%2C3%200%200%2C1%203%2C0Z%22%2F%3E%3Cpath%20class%3D%22point%22%20transform%3D%22translate(408.97%2C79.75)%22%20style%3D%22opacity%3A%201%3B%20stroke-width%3A%200px%3B%20fill%3A%20rgb(78%2C%20121%2C%20167)%3B%20fill-opacity%3A%201%3B%22%20d%3D%22M3%2C0A3%2C3%200%201%2C1%200%2C-3A3%2C3%200%200%2C1%203%2C0Z%22%2F%3E%3Cpath%20class%3D%22point%22%20transform%3D%22translate(526.5%2C59.1)%22%20style%3D%22opacity%3A%201%3B%20stroke-width%3A%200px%3B%20fill%3A%20rgb(78%2C%20121%2C%20167)%3B%20fill-opacity%3A%201%3B%22%20d%3D%22M3%2C0A3%2C3%200%201%2C1%200%2C-3A3%2C3%200%200%2C1%203%2C0Z%22%2F%3E%3Cpath%20class%3D%22point%22%20transform%3D%22translate(644.02%2C38.46)%22%20style%3D%22opacity%3A%201%3B%20stroke-width%3A%200px%3B%20fill%3A%20rgb(78%2C%20121%2C%20167)%3B%20fill-opacity%3A%201%3B%22%20d%3D%22M3%2C0A3%2C3%200%201%2C1%200%2C-3A3%2C3%200%200%2C1%203%2C0Z%22%2F%3E%3Cpath%20class%3D%22point%22%20transform%3D%22translate(761.55%2C17.81)%22%20style%3D%22opacity%3A%201%3B%20stroke-width%3A%200px%3B%20fill%3A%20rgb(78%2C%20121%2C%20167)%3B%20fill-opacity%3A%201%3B%22%20d%3D%22M3%2C0A3%2C3%200%201%2C1%200%2C-3A3%2C3%200%200%2C1%203%2C0Z%22%2F%3E%3Cpath%20class%3D%22point%22%20transform%3D%22translate(879.07%2C17.81)%22%20style%3D%22opacity%3A%201%3B%20stroke-width%3A%200px%3B%20fill%3A%20rgb(78%2C%20121%2C%20167)%3B%20fill-opacity%3A%201%3B%22%20d%3D%22M3%2C0A3%2C3%200%201%2C1%200%2C-3A3%2C3%200%200%2C1%203%2C0Z%22%2F%3E%3Cpath%20class%3D%22point%22%20transform%3D%22translate(996.6%2C17.81)%22%20style%3D%22opacity%3A%201%3B%20stroke-width%3A%200px%3B%20fill%3A%20rgb(78%2C%20121%2C%20167)%3B%20fill-opacity%3A%201%3B%22%20d%3D%22M3%2C0A3%2C3%200%201%2C1%200%2C-3A3%2C3%200%200%2C1%203%2C0Z%22%2F%3E%3C%2Fg%3E%3Cg%20class%3D%22text%22%2F%3E%3C%2Fg%3E%3Cg%20class%3D%22trace%20scatter%20trace94d343%22%20style%3D%22stroke-miterlimit%3A%202%3B%20opacity%3A%201%3B%22%3E%3Cg%20class%3D%22fills%22%2F%3E%3Cg%20class%3D%22errorbars%22%2F%3E%3Cg%20class%3D%22lines%22%3E%3Cpath%20class%3D%22js-line%22%20style%3D%22vector-effect%3A%20non-scaling-stroke%3B%20fill%3A%20none%3B%20stroke%3A%20rgb(242%2C%20142%2C%2044)%3B%20stroke-opacity%3A%201%3B%20stroke-width%3A%202px%3B%20opacity%3A%201%3B%22%20d%3D%22M56.4%2C222.19L173.92%2C118.97L291.45%2C98.32L761.55%2C15.75L879.07%2C15.75L996.6%2C15.75%22%2F%3E%3C%2Fg%3E%3Cg%20class%3D%22points%22%3E%3Cpath%20class%3D%22point%22%20transform%3D%22translate(56.4%2C222.19)%22%20style%3D%22opacity%3A%201%3B%20stroke-width%3A%200px%3B%20fill%3A%20rgb(242%2C%20142%2C%2044)%3B%20fill-opacity%3A%201%3B%22%20d%3D%22M3%2C0A3%2C3%200%201%2C1%200%2C-3A3%2C3%200%200%2C1%203%2C0Z%22%2F%3E%3Cpath%20class%3D%22point%22%20transform%3D%22translate(173.92%2C118.97)%22%20style%3D%22opacity%3A%201%3B%20stroke-width%3A%200px%3B%20fill%3A%20rgb(242%2C%20142%2C%2044)%3B%20fill-opacity%3A%201%3B%22%20d%3D%22M3%2C0A3%2C3%200%201%2C1%200%2C-3A3%2C3%200%200%2C1%203%2C0Z%22%2F%3E%3Cpath%20class%3D%22point%22%20transform%3D%22translate(291.45%2C98.32)%22%20style%3D%22opacity%3A%201%3B%20stroke-width%3A%200px%3B%20fill%3A%20rgb(242%2C%20142%2C%2044)%3B%20fill-opacity%3A%201%3B%22%20d%3D%22M3%2C0A3%2C3%200%201%2C1%200%2C-3A3%2C3%200%200%2C1%203%2C0Z%22%2F%3E%3Cpath%20class%3D%22point%22%20transform%3D%22translate(408.97%2C77.68)%22%20style%3D%22opacity%3A%201%3B%20stroke-width%3A%200px%3B%20fill%3A%20rgb(242%2C%20142%2C%2044)%3B%20fill-opacity%3A%201%3B%22%20d%3D%22M3%2C0A3%2C3%200%201%2C1%200%2C-3A3%2C3%200%200%2C1%203%2C0Z%22%2F%3E%3Cpath%20class%3D%22point%22%20transform%3D%22translate(526.5%2C57.04)%22%20style%3D%22opacity%3A%201%3B%20stroke-width%3A%200px%3B%20fill%3A%20rgb(242%2C%20142%2C%2044)%3B%20fill-opacity%3A%201%3B%22%20d%3D%22M3%2C0A3%2C3%200%201%2C1%200%2C-3A3%2C3%200%200%2C1%203%2C0Z%22%2F%3E%3Cpath%20class%3D%22point%22%20transform%3D%22translate(644.02%2C36.39)%22%20style%3D%22opacity%3A%201%3B%20stroke-width%3A%200px%3B%20fill%3A%20rgb(242%2C%20142%2C%2044)%3B%20fill-opacity%3A%201%3B%22%20d%3D%22M3%2C0A3%2C3%200%201%2C1%200%2C-3A3%2C3%200%200%2C1%203%2C0Z%22%2F%3E%3Cpath%20class%3D%22point%22%20transform%3D%22translate(761.55%2C15.75)%22%20style%3D%22opacity%3A%201%3B%20stroke-width%3A%200px%3B%20fill%3A%20rgb(242%2C%20142%2C%2044)%3B%20fill-opacity%3A%201%3B%22%20d%3D%22M3%2C0A3%2C3%200%201%2C1%200%2C-3A3%2C3%200%200%2C1%203%2C0Z%22%2F%3E%3Cpath%20class%3D%22point%22%20transform%3D%22translate(879.07%2C15.75)%22%20style%3D%22opacity%3A%201%3B%20stroke-width%3A%200px%3B%20fill%3A%20rgb(242%2C%20142%2C%2044)%3B%20fill-opacity%3A%201%3B%22%20d%3D%22M3%2C0A3%2C3%200%201%2C1%200%2C-3A3%2C3%200%200%2C1%203%2C0Z%22%2F%3E%3Cpath%20class%3D%22point%22%20transform%3D%22translate(996.6%2C15.75)%22%20style%3D%22opacity%3A%201%3B%20stroke-width%3A%200px%3B%20fill%3A%20rgb(242%2C%20142%2C%2044)%3B%20fill-opacity%3A%201%3B%22%20d%3D%22M3%2C0A3%2C3%200%201%2C1%200%2C-3A3%2C3%200%200%2C1%203%2C0Z%22%2F%3E%3C%2Fg%3E%3Cg%20class%3D%22text%22%2F%3E%3C%2Fg%3E%3C%2Fg%3E%3C%2Fg%3E%3Cg%20class%3D%22overplot%22%2F%3E%3Cpath%20class%3D%22xlines-above%20crisp%22%20style%3D%22fill%3A%20none%3B%20stroke-width%3A%201px%3B%20stroke%3A%20rgb(0%2C%200%2C%200)%3B%20stroke-opacity%3A%200.1625%3B%22%20d%3D%22M79%2C270.5H1133%22%2F%3E%3Cpath%20class%3D%22ylines-above%20crisp%22%20style%3D%22fill%3A%20none%3B%20stroke-width%3A%201px%3B%20stroke%3A%20rgb(0%2C%200%2C%200)%3B%20stroke-opacity%3A%200.1625%3B%22%20d%3D%22M79.5%2C30V270%22%2F%3E%3Cg%20class%3D%22overlines-above%22%2F%3E%3Cg%20class%3D%22xaxislayer-above%22%3E%3Cg%20class%3D%22xtick%22%3E%3Ctext%20text-anchor%3D%22middle%22%20x%3D%220%22%20y%3D%22285.4%22%20style%3D%22font-family%3A%20%26quot%3BOpen%20Sans%26quot%3B%2C%20verdana%2C%20arial%2C%20sans-serif%3B%20font-size%3A%2012px%3B%20fill%3A%20rgb(0%2C%200%2C%200)%3B%20fill-opacity%3A%200.65%3B%20white-space%3A%20pre%3B%22%20data-unformatted%3D%221Y%22%20data-math%3D%22N%22%20transform%3D%22translate(136.4%2C0)%22%3E1Y%3C%2Ftext%3E%3C%2Fg%3E%3Cg%20class%3D%22xtick%22%3E%3Ctext%20text-anchor%3D%22middle%22%20x%3D%220%22%20y%3D%22285.4%22%20style%3D%22font-family%3A%20%26quot%3BOpen%20Sans%26quot%3B%2C%20verdana%2C%20arial%2C%20sans-serif%3B%20font-size%3A%2012px%3B%20fill%3A%20rgb(0%2C%200%2C%200)%3B%20fill-opacity%3A%200.65%3B%20white-space%3A%20pre%3B%22%20data-unformatted%3D%222Y%22%20data-math%3D%22N%22%20transform%3D%22translate(253.92%2C0)%22%3E2Y%3C%2Ftext%3E%3C%2Fg%3E%3Cg%20class%3D%22xtick%22%3E%3Ctext%20text-anchor%3D%22middle%22%20x%3D%220%22%20y%3D%22285.4%22%20style%3D%22font-family%3A%20%26quot%3BOpen%20Sans%26quot%3B%2C%20verdana%2C%20arial%2C%20sans-serif%3B%20font-size%3A%2012px%3B%20fill%3A%20rgb(0%2C%200%2C%200)%3B%20fill-opacity%3A%200.65%3B%20white-space%3A%20pre%3B%22%20data-unformatted%3D%223Y%22%20data-math%3D%22N%22%20transform%3D%22translate(371.45%2C0)%22%3E3Y%3C%2Ftext%3E%3C%2Fg%3E%3Cg%20class%3D%22xtick%22%3E%3Ctext%20text-anchor%3D%22middle%22%20x%3D%220%22%20y%3D%22285.4%22%20style%3D%22font-family%3A%20%26quot%3BOpen%20Sans%26quot%3B%2C%20verdana%2C%20arial%2C%20sans-serif%3B%20font-size%3A%2012px%3B%20fill%3A%20rgb(0%2C%200%2C%200)%3B%20fill-opacity%3A%200.65%3B%20white-space%3A%20pre%3B%22%20data-unformatted%3D%224Y%22%20data-math%3D%22N%22%20transform%3D%22translate(488.97%2C0)%22%3E4Y%3C%2Ftext%3E%3C%2Fg%3E%3Cg%20class%3D%22xtick%22%3E%3Ctext%20text-anchor%3D%22middle%22%20x%3D%220%22%20y%3D%22285.4%22%20style%3D%22font-family%3A%20%26quot%3BOpen%20Sans%26quot%3B%2C%20verdana%2C%20arial%2C%20sans-serif%3B%20font-size%3A%2012px%3B%20fill%3A%20rgb(0%2C%200%2C%200)%3B%20fill-opacity%3A%200.65%3B%20white-space%3A%20pre%3B%22%20data-unformatted%3D%225Y%22%20data-math%3D%22N%22%20transform%3D%22translate(606.5%2C0)%22%3E5Y%3C%2Ftext%3E%3C%2Fg%3E%3Cg%20class%3D%22xtick%22%3E%3Ctext%20text-anchor%3D%22middle%22%20x%3D%220%22%20y%3D%22285.4%22%20style%3D%22font-family%3A%20%26quot%3BOpen%20Sans%26quot%3B%2C%20verdana%2C%20arial%2C%20sans-serif%3B%20font-size%3A%2012px%3B%20fill%3A%20rgb(0%2C%200%2C%200)%3B%20fill-opacity%3A%200.65%3B%20white-space%3A%20pre%3B%22%20data-unformatted%3D%226Y%22%20data-math%3D%22N%22%20transform%3D%22translate(724.02%2C0)%22%3E6Y%3C%2Ftext%3E%3C%2Fg%3E%3Cg%20class%3D%22xtick%22%3E%3Ctext%20text-anchor%3D%22middle%22%20x%3D%220%22%20y%3D%22285.4%22%20style%3D%22font-family%3A%20%26quot%3BOpen%20Sans%26quot%3B%2C%20verdana%2C%20arial%2C%20sans-serif%3B%20font-size%3A%2012px%3B%20fill%3A%20rgb(0%2C%200%2C%200)%3B%20fill-opacity%3A%200.65%3B%20white-space%3A%20pre%3B%22%20data-unformatted%3D%227Y%22%20data-math%3D%22N%22%20transform%3D%22translate(841.55%2C0)%22%3E7Y%3C%2Ftext%3E%3C%2Fg%3E%3Cg%20class%3D%22xtick%22%3E%3Ctext%20text-anchor%3D%22middle%22%20x%3D%220%22%20y%3D%22285.4%22%20style%3D%22font-family%3A%20%26quot%3BOpen%20Sans%26quot%3B%2C%20verdana%2C%20arial%2C%20sans-serif%3B%20font-size%3A%2012px%3B%20fill%3A%20rgb(0%2C%200%2C%200)%3B%20fill-opacity%3A%200.65%3B%20white-space%3A%20pre%3B%22%20data-unformatted%3D%228Y%22%20data-math%3D%22N%22%20transform%3D%22translate(959.07%2C0)%22%3E8Y%3C%2Ftext%3E%3C%2Fg%3E%3Cg%20class%3D%22xtick%22%3E%3Ctext%20text-anchor%3D%22middle%22%20x%3D%220%22%20y%3D%22285.4%22%20style%3D%22font-family%3A%20%26quot%3BOpen%20Sans%26quot%3B%2C%20verdana%2C%20arial%2C%20sans-serif%3B%20font-size%3A%2012px%3B%20fill%3A%20rgb(0%2C%200%2C%200)%3B%20fill-opacity%3A%200.65%3B%20white-space%3A%20pre%3B%22%20data-unformatted%3D%229Y%22%20data-math%3D%22N%22%20transform%3D%22translate(1076.6%2C0)%22%3E9Y%3C%2Ftext%3E%3C%2Fg%3E%3C%2Fg%3E%3Cg%20class%3D%22yaxislayer-above%22%3E%3Cg%20class%3D%22ytick%22%3E%3Ctext%20text-anchor%3D%22end%22%20x%3D%2276.6%22%20y%3D%224.199999999999999%22%20style%3D%22font-family%3A%20%26quot%3BOpen%20Sans%26quot%3B%2C%20verdana%2C%20arial%2C%20sans-serif%3B%20font-size%3A%2012px%3B%20fill%3A%20rgb(0%2C%200%2C%200)%3B%20fill-opacity%3A%200.65%3B%20white-space%3A%20pre%3B%22%20data-unformatted%3D%220.01%22%20data-math%3D%22N%22%20transform%3D%22translate(0%2C254.25)%22%3E0.01%3C%2Ftext%3E%3C%2Fg%3E%3Cg%20class%3D%22ytick%22%3E%3Ctext%20text-anchor%3D%22end%22%20x%3D%2276.6%22%20y%3D%224.199999999999999%22%20style%3D%22font-family%3A%20%26quot%3BOpen%20Sans%26quot%3B%2C%20verdana%2C%20arial%2C%20sans-serif%3B%20font-size%3A%2012px%3B%20fill%3A%20rgb(0%2C%200%2C%200)%3B%20fill-opacity%3A%200.65%3B%20white-space%3A%20pre%3B%22%20data-unformatted%3D%220.012%22%20data-math%3D%22N%22%20transform%3D%22translate(0%2C212.96)%22%3E0.012%3C%2Ftext%3E%3C%2Fg%3E%3Cg%20class%3D%22ytick%22%3E%3Ctext%20text-anchor%3D%22end%22%20x%3D%2276.6%22%20y%3D%224.199999999999999%22%20style%3D%22font-family%3A%20%26quot%3BOpen%20Sans%26quot%3B%2C%20verdana%2C%20arial%2C%20sans-serif%3B%20font-size%3A%2012px%3B%20fill%3A%20rgb(0%2C%200%2C%200)%3B%20fill-opacity%3A%200.65%3B%20white-space%3A%20pre%3B%22%20data-unformatted%3D%220.014%22%20data-math%3D%22N%22%20transform%3D%22translate(0%2C171.68)%22%3E0.014%3C%2Ftext%3E%3C%2Fg%3E%3Cg%20class%3D%22ytick%22%3E%3Ctext%20text-anchor%3D%22end%22%20x%3D%2276.6%22%20y%3D%224.199999999999999%22%20style%3D%22font-family%3A%20%26quot%3BOpen%20Sans%26quot%3B%2C%20verdana%2C%20arial%2C%20sans-serif%3B%20font-size%3A%2012px%3B%20fill%3A%20rgb(0%2C%200%2C%200)%3B%20fill-opacity%3A%200.65%3B%20white-space%3A%20pre%3B%22%20data-unformatted%3D%220.016%22%20data-math%3D%22N%22%20transform%3D%22translate(0%2C130.39)%22%3E0.016%3C%2Ftext%3E%3C%2Fg%3E%3Cg%20class%3D%22ytick%22%3E%3Ctext%20text-anchor%3D%22end%22%20x%3D%2276.6%22%20y%3D%224.199999999999999%22%20style%3D%22font-family%3A%20%26quot%3BOpen%20Sans%26quot%3B%2C%20verdana%2C%20arial%2C%20sans-serif%3B%20font-size%3A%2012px%3B%20fill%3A%20rgb(0%2C%200%2C%200)%3B%20fill-opacity%3A%200.65%3B%20white-space%3A%20pre%3B%22%20data-unformatted%3D%220.018%22%20data-math%3D%22N%22%20transform%3D%22translate(0%2C89.1)%22%3E0.018%3C%2Ftext%3E%3C%2Fg%3E%3Cg%20class%3D%22ytick%22%3E%3Ctext%20text-anchor%3D%22end%22%20x%3D%2276.6%22%20y%3D%224.199999999999999%22%20style%3D%22font-family%3A%20%26quot%3BOpen%20Sans%26quot%3B%2C%20verdana%2C%20arial%2C%20sans-serif%3B%20font-size%3A%2012px%3B%20fill%3A%20rgb(0%2C%200%2C%200)%3B%20fill-opacity%3A%200.65%3B%20white-space%3A%20pre%3B%22%20data-unformatted%3D%220.02%22%20data-math%3D%22N%22%20transform%3D%22translate(0%2C47.81)%22%3E0.02%3C%2Ftext%3E%3C%2Fg%3E%3C%2Fg%3E%3Cg%20class%3D%22overaxes-above%22%2F%3E%3C%2Fg%3E%3C%2Fg%3E%3Cg%20class%3D%22polarlayer%22%2F%3E%3Cg%20class%3D%22ternarylayer%22%2F%3E%3Cg%20class%3D%22geolayer%22%2F%3E%3Cg%20class%3D%22funnelarealayer%22%2F%3E%3Cg%20class%3D%22pielayer%22%2F%3E%3Cg%20class%3D%22treemaplayer%22%2F%3E%3Cg%20class%3D%22sunburstlayer%22%2F%3E%3Cg%20class%3D%22glimages%22%2F%3E%3Cdefs%20id%3D%22topdefs-779a17%22%3E%3Cg%20class%3D%22clips%22%2F%3E%3CclipPath%20id%3D%22legend779a17%22%3E%3Crect%20width%3D%22154%22%20height%3D%2258%22%20x%3D%220%22%20y%3D%220%22%2F%3E%3C%2FclipPath%3E%3C%2Fdefs%3E%3Cg%20class%3D%22indicatorlayer%22%2F%3E%3Cg%20class%3D%22layer-above%22%3E%3Cg%20class%3D%22imagelayer%22%2F%3E%3Cg%20class%3D%22shapelayer%22%2F%3E%3C%2Fg%3E%3Cg%20class%3D%22infolayer%22%3E%3Cg%20class%3D%22legend%22%20pointer-events%3D%22all%22%20transform%3D%22translate(1154%2C%2030)%22%3E%3Crect%20class%3D%22bg%22%20shape-rendering%3D%22crispEdges%22%20style%3D%22stroke%3A%20rgb(68%2C%2068%2C%2068)%3B%20stroke-opacity%3A%201%3B%20fill%3A%20rgb(255%2C%20255%2C%20255)%3B%20fill-opacity%3A%201%3B%20stroke-width%3A%200px%3B%22%20width%3D%22154%22%20height%3D%2258%22%20x%3D%220%22%20y%3D%220%22%2F%3E%3Cg%20class%3D%22scrollbox%22%20transform%3D%22translate(0%2C%200)%22%20clip-path%3D%22url('%23legend779a17')%22%3E%3Cg%20class%3D%22groups%22%20transform%3D%22translate(0%2C%200)%22%3E%3Cg%20class%3D%22traces%22%20style%3D%22opacity%3A%201%3B%22%20transform%3D%22translate(0%2C%2014.5)%22%3E%3Ctext%20class%3D%22legendtext%20user-select-none%22%20text-anchor%3D%22start%22%20style%3D%22font-family%3A%20%26quot%3BOpen%20Sans%26quot%3B%2C%20verdana%2C%20arial%2C%20sans-serif%3B%20font-size%3A%2012px%3B%20fill%3A%20rgb(0%2C%200%2C%200)%3B%20fill-opacity%3A%200.65%3B%20white-space%3A%20pre%3B%22%20x%3D%2240%22%20y%3D%224.680000000000001%22%20data-unformatted%3D%22start_of_day.VALUE%22%20data-math%3D%22N%22%3Estart_of_day.VALUE%3C%2Ftext%3E%3Cg%20class%3D%22layers%22%20style%3D%22opacity%3A%201%3B%22%3E%3Cg%20class%3D%22legendfill%22%2F%3E%3Cg%20class%3D%22legendlines%22%3E%3Cpath%20class%3D%22js-line%22%20d%3D%22M5%2C0h30%22%20style%3D%22fill%3A%20none%3B%20stroke%3A%20rgb(78%2C%20121%2C%20167)%3B%20stroke-opacity%3A%201%3B%20stroke-width%3A%202px%3B%22%2F%3E%3C%2Fg%3E%3Cg%20class%3D%22legendsymbols%22%3E%3Cg%20class%3D%22legendpoints%22%3E%3Cpath%20class%3D%22scatterpts%22%20transform%3D%22translate(20%2C0)%22%20style%3D%22opacity%3A%201%3B%20stroke-width%3A%200px%3B%20fill%3A%20rgb(78%2C%20121%2C%20167)%3B%20fill-opacity%3A%201%3B%22%20d%3D%22M3%2C0A3%2C3%200%201%2C1%200%2C-3A3%2C3%200%200%2C1%203%2C0Z%22%2F%3E%3C%2Fg%3E%3C%2Fg%3E%3C%2Fg%3E%3Crect%20class%3D%22legendtoggle%22%20style%3D%22cursor%3A%20pointer%3B%20fill%3A%20rgb(0%2C%200%2C%200)%3B%20fill-opacity%3A%200%3B%22%20pointer-events%3D%22all%22%20x%3D%220%22%20y%3D%22-9.5%22%20width%3D%22148.9166717529297%22%20height%3D%2219%22%2F%3E%3C%2Fg%3E%3C%2Fg%3E%3Cg%20class%3D%22groups%22%20transform%3D%22translate(0%2C%2010)%22%3E%3Cg%20class%3D%22traces%22%20style%3D%22opacity%3A%201%3B%22%20transform%3D%22translate(0%2C%2033.5)%22%3E%3Ctext%20class%3D%22legendtext%20user-select-none%22%20text-anchor%3D%22start%22%20style%3D%22font-family%3A%20%26quot%3BOpen%20Sans%26quot%3B%2C%20verdana%2C%20arial%2C%20sans-serif%3B%20font-size%3A%2012px%3B%20fill%3A%20rgb(0%2C%200%2C%200)%3B%20fill-opacity%3A%200.65%3B%20white-space%3A%20pre%3B%22%20x%3D%2240%22%20y%3D%224.680000000000001%22%20data-unformatted%3D%22last.VALUE%22%20data-math%3D%22N%22%3Elast.VALUE%3C%2Ftext%3E%3Cg%20class%3D%22layers%22%20style%3D%22opacity%3A%201%3B%22%3E%3Cg%20class%3D%22legendfill%22%2F%3E%3Cg%20class%3D%22legendlines%22%3E%3Cpath%20class%3D%22js-line%22%20d%3D%22M5%2C0h30%22%20style%3D%22fill%3A%20none%3B%20stroke%3A%20rgb(242%2C%20142%2C%2044)%3B%20stroke-opacity%3A%201%3B%20stroke-width%3A%202px%3B%22%2F%3E%3C%2Fg%3E%3Cg%20class%3D%22legendsymbols%22%3E%3Cg%20class%3D%22legendpoints%22%3E%3Cpath%20class%3D%22scatterpts%22%20transform%3D%22translate(20%2C0)%22%20style%3D%22opacity%3A%201%3B%20stroke-width%3A%200px%3B%20fill%3A%20rgb(242%2C%20142%2C%2044)%3B%20fill-opacity%3A%201%3B%22%20d%3D%22M3%2C0A3%2C3%200%201%2C1%200%2C-3A3%2C3%200%200%2C1%203%2C0Z%22%2F%3E%3C%2Fg%3E%3C%2Fg%3E%3C%2Fg%3E%3Crect%20class%3D%22legendtoggle%22%20style%3D%22cursor%3A%20pointer%3B%20fill%3A%20rgb(0%2C%200%2C%200)%3B%20fill-opacity%3A%200%3B%22%20pointer-events%3D%22all%22%20x%3D%220%22%20y%3D%22-9.5%22%20width%3D%22148.9166717529297%22%20height%3D%2219%22%2F%3E%3C%2Fg%3E%3C%2Fg%3E%3C%2Fg%3E%3Crect%20class%3D%22scrollbar%22%20rx%3D%2220%22%20ry%3D%223%22%20width%3D%220%22%20height%3D%220%22%20style%3D%22fill%3A%20rgb(128%2C%20139%2C%20164)%3B%20fill-opacity%3A%201%3B%22%20x%3D%220%22%20y%3D%220%22%2F%3E%3C%2Fg%3E%3Cg%20class%3D%22g-gtitle%22%2F%3E%3Cg%20class%3D%22g-xtitle%22%3E%3Ctext%20class%3D%22xtitle%22%20style%3D%22font-family%3A%20%26quot%3BOpen%20Sans%26quot%3B%2C%20verdana%2C%20arial%2C%20sans-serif%3B%20font-size%3A%2014px%3B%20fill%3A%20rgb(0%2C%200%2C%200)%3B%20opacity%3A%200.65%3B%20font-weight%3A%20normal%3B%20white-space%3A%20pre%3B%22%20x%3D%22606.5%22%20y%3D%22322%22%20text-anchor%3D%22middle%22%20data-unformatted%3D%22Theoretical%20PnL%22%20data-math%3D%22N%22%3ETheoretical%20PnL%3C%2Ftext%3E%3C%2Fg%3E%3Cg%20class%3D%22g-ytitle%22%20transform%3D%22translate(-2.43359375%2C0)%22%3E%3Ctext%20class%3D%22ytitle%22%20transform%3D%22rotate(-90%2C42%2C150)%22%20style%3D%22font-family%3A%20%26quot%3BOpen%20Sans%26quot%3B%2C%20verdana%2C%20arial%2C%20sans-serif%3B%20font-size%3A%2014px%3B%20fill%3A%20rgb(0%2C%200%2C%200)%3B%20opacity%3A%200.65%3B%20font-weight%3A%20normal%3B%20white-space%3A%20pre%3B%22%20x%3D%2242%22%20y%3D%22150%22%20text-anchor%3D%22middle%22%20data-unformatted%3D%22Tenor%22%20data-math%3D%22N%22%3ETenor%3C%2Ftext%3E%3C%2Fg%3E%3C%2Fg%3E%3Cg%20class%3D%22menulayer%22%2F%3E%3Cg%20class%3D%22zoomlayer%22%2F%3E%3Cg%20class%3D%22hoverlayer%22%2F%3E%3C%2Fsvg%3E\">"
      ],
      "text/plain": [
       "Open the notebook in JupyterLab with the atoti extension installed and enabled to see this widget."
      ]
     },
     "metadata": {},
     "output_type": "display_data"
    }
   ],
   "source": [
    "position_sensitivity_cube.visualize(\"Yield Curve\")"
   ]
  },
  {
   "cell_type": "markdown",
   "metadata": {},
   "source": [
    "We see that *Rates & Credit* has the highest *Theoretical PnL* among the Asset class."
   ]
  },
  {
   "cell_type": "code",
   "execution_count": 29,
   "metadata": {
    "activeviam": {
     "state": {
      "name": "Theoretical PnL",
      "type": "container",
      "value": {
       "body": {
        "configuration": {
         "mapping": {
          "splitBy": [],
          "values": [
           "[Measures].[Theoretical PnL]"
          ],
          "yAxis": [
           "[Hierarchies].[asset_class].[asset_class]"
          ]
         },
         "type": "plotly-clustered-bar-chart"
        },
        "query": {
         "mdx": "SELECT NON EMPTY [Measures].[Theoretical PnL] ON COLUMNS, NON EMPTY [Hierarchies].[asset_class].[asset_class].Members ON ROWS FROM [Position_Sensitivities] CELL PROPERTIES VALUE, FORMATTED_VALUE, BACK_COLOR, FORE_COLOR, FONT_FLAGS",
         "serverUrl": "",
         "updateMode": "once"
        }
       },
       "containerKey": "chart",
       "showTitleBar": false,
       "style": {}
      }
     }
    },
    "atoti": {
     "state": {
      "name": "Theoretical PnL",
      "type": "container",
      "value": {
       "body": {
        "configuration": {
         "mapping": {
          "horizontal": [],
          "splitBy": [],
          "values": [
           "[Measures].[Theoretical PnL]"
          ],
          "vertical": [],
          "xAxis": [
           "[Hierarchies].[asset_class].[asset_class]"
          ]
         },
         "switchedTo": "plotly-clustered-bar-chart",
         "type": "plotly-line-chart"
        },
        "query": {
         "mdx": "SELECT NON EMPTY [Measures].[Theoretical PnL] ON COLUMNS, NON EMPTY [Hierarchies].[asset_class].[asset_class].Members ON ROWS FROM [Position_Sensitivities] CELL PROPERTIES VALUE, FORMATTED_VALUE, BACK_COLOR, FORE_COLOR, FONT_FLAGS",
         "serverUrl": "",
         "updateMode": "once"
        }
       },
       "containerKey": "chart",
       "showTitleBar": false,
       "style": {}
      }
     }
    }
   },
   "outputs": [
    {
     "data": {
      "application/vnd.atoti.v0+json": {
       "cube": "Position_Sensitivities",
       "error": null,
       "name": "Theoretical PnL",
       "session": "Unnamed"
      },
      "text/html": [
       "<img src=\"data:image/svg+xml;charset=utf8,%3C%3Fxml%20version%3D%221.0%22%20standalone%3D%22no%22%3F%3E%3Csvg%20xmlns%3D%22http%3A%2F%2Fwww.w3.org%2F2000%2Fsvg%22%20xmlns%3Axlink%3D%22http%3A%2F%2Fwww.w3.org%2F1999%2Fxlink%22%20viewBox%3D%220%200%201308%20360%22%3E%3Cdefs%20id%3D%22defs-6b9ab6%22%3E%3Cg%20class%3D%22clips%22%3E%3CclipPath%20id%3D%22clip6b9ab6xyplot%22%20class%3D%22plotclip%22%3E%3Crect%20width%3D%221226%22%20height%3D%22250%22%2F%3E%3C%2FclipPath%3E%3CclipPath%20class%3D%22axesclip%22%20id%3D%22clip6b9ab6x%22%3E%3Crect%20x%3D%2282%22%20y%3D%220%22%20width%3D%221226%22%20height%3D%22360%22%2F%3E%3C%2FclipPath%3E%3CclipPath%20class%3D%22axesclip%22%20id%3D%22clip6b9ab6y%22%3E%3Crect%20x%3D%220%22%20y%3D%2230%22%20width%3D%221308%22%20height%3D%22250%22%2F%3E%3C%2FclipPath%3E%3CclipPath%20class%3D%22axesclip%22%20id%3D%22clip6b9ab6xy%22%3E%3Crect%20x%3D%2282%22%20y%3D%2230%22%20width%3D%221226%22%20height%3D%22250%22%2F%3E%3C%2FclipPath%3E%3C%2Fg%3E%3Cg%20class%3D%22gradients%22%2F%3E%3C%2Fdefs%3E%3Cg%20class%3D%22bglayer%22%2F%3E%3Cg%20class%3D%22draglayer%20cursor-crosshair%22%3E%3Cg%20class%3D%22xy%22%3E%3Crect%20class%3D%22nsewdrag%20drag%22%20style%3D%22fill%3A%20transparent%3B%20stroke-width%3A%200px%3B%20pointer-events%3A%20all%3B%22%20data-subplot%3D%22xy%22%20x%3D%2282%22%20y%3D%2230%22%20width%3D%221226%22%20height%3D%22250%22%2F%3E%3Crect%20class%3D%22nwdrag%20drag%20cursor-nw-resize%22%20style%3D%22fill%3A%20transparent%3B%20stroke-width%3A%200px%3B%20pointer-events%3A%20all%3B%22%20data-subplot%3D%22xy%22%20x%3D%2262%22%20y%3D%2210%22%20width%3D%2220%22%20height%3D%2220%22%2F%3E%3Crect%20class%3D%22nedrag%20drag%20cursor-ne-resize%22%20style%3D%22fill%3A%20transparent%3B%20stroke-width%3A%200px%3B%20pointer-events%3A%20all%3B%22%20data-subplot%3D%22xy%22%20x%3D%221308%22%20y%3D%2210%22%20width%3D%2220%22%20height%3D%2220%22%2F%3E%3Crect%20class%3D%22swdrag%20drag%20cursor-sw-resize%22%20style%3D%22fill%3A%20transparent%3B%20stroke-width%3A%200px%3B%20pointer-events%3A%20all%3B%22%20data-subplot%3D%22xy%22%20x%3D%2262%22%20y%3D%22280%22%20width%3D%2220%22%20height%3D%2220%22%2F%3E%3Crect%20class%3D%22sedrag%20drag%20cursor-se-resize%22%20style%3D%22fill%3A%20transparent%3B%20stroke-width%3A%200px%3B%20pointer-events%3A%20all%3B%22%20data-subplot%3D%22xy%22%20x%3D%221308%22%20y%3D%22280%22%20width%3D%2220%22%20height%3D%2220%22%2F%3E%3Crect%20class%3D%22ewdrag%20drag%20cursor-ew-resize%22%20style%3D%22fill%3A%20transparent%3B%20stroke-width%3A%200px%3B%20pointer-events%3A%20all%3B%22%20data-subplot%3D%22xy%22%20x%3D%22204.60000000000002%22%20y%3D%22280.5%22%20width%3D%22980.8000000000001%22%20height%3D%2220%22%2F%3E%3Crect%20class%3D%22wdrag%20drag%20cursor-w-resize%22%20style%3D%22fill%3A%20transparent%3B%20stroke-width%3A%200px%3B%20pointer-events%3A%20all%3B%22%20data-subplot%3D%22xy%22%20x%3D%2282%22%20y%3D%22280.5%22%20width%3D%22122.60000000000001%22%20height%3D%2220%22%2F%3E%3Crect%20class%3D%22edrag%20drag%20cursor-e-resize%22%20style%3D%22fill%3A%20transparent%3B%20stroke-width%3A%200px%3B%20pointer-events%3A%20all%3B%22%20data-subplot%3D%22xy%22%20x%3D%221185.4%22%20y%3D%22280.5%22%20width%3D%22122.60000000000001%22%20height%3D%2220%22%2F%3E%3Crect%20class%3D%22nsdrag%20drag%20cursor-ns-resize%22%20style%3D%22fill%3A%20transparent%3B%20stroke-width%3A%200px%3B%20pointer-events%3A%20all%3B%22%20data-subplot%3D%22xy%22%20x%3D%2261.5%22%20y%3D%2255%22%20width%3D%2220%22%20height%3D%22200%22%2F%3E%3Crect%20class%3D%22sdrag%20drag%20cursor-s-resize%22%20style%3D%22fill%3A%20transparent%3B%20stroke-width%3A%200px%3B%20pointer-events%3A%20all%3B%22%20data-subplot%3D%22xy%22%20x%3D%2261.5%22%20y%3D%22255%22%20width%3D%2220%22%20height%3D%2225%22%2F%3E%3Crect%20class%3D%22ndrag%20drag%20cursor-n-resize%22%20style%3D%22fill%3A%20transparent%3B%20stroke-width%3A%200px%3B%20pointer-events%3A%20all%3B%22%20data-subplot%3D%22xy%22%20x%3D%2261.5%22%20y%3D%2230%22%20width%3D%2220%22%20height%3D%2225%22%2F%3E%3C%2Fg%3E%3C%2Fg%3E%3Cg%20class%3D%22layer-below%22%3E%3Cg%20class%3D%22imagelayer%22%2F%3E%3Cg%20class%3D%22shapelayer%22%2F%3E%3C%2Fg%3E%3Cg%20class%3D%22cartesianlayer%22%3E%3Cg%20class%3D%22subplot%20xy%22%3E%3Cg%20class%3D%22layer-subplot%22%3E%3Cg%20class%3D%22shapelayer%22%2F%3E%3Cg%20class%3D%22imagelayer%22%2F%3E%3C%2Fg%3E%3Cg%20class%3D%22gridlayer%22%3E%3Cg%20class%3D%22x%22%3E%3Cpath%20class%3D%22xgrid%20crisp%22%20transform%3D%22translate(211.41%2C0)%22%20d%3D%22M0%2C30v250%22%20style%3D%22stroke%3A%20rgb(0%2C%200%2C%200)%3B%20stroke-opacity%3A%200.1625%3B%20stroke-width%3A%201px%3B%22%2F%3E%3Cpath%20class%3D%22xgrid%20crisp%22%20transform%3D%22translate(340.82%2C0)%22%20d%3D%22M0%2C30v250%22%20style%3D%22stroke%3A%20rgb(0%2C%200%2C%200)%3B%20stroke-opacity%3A%200.1625%3B%20stroke-width%3A%201px%3B%22%2F%3E%3Cpath%20class%3D%22xgrid%20crisp%22%20transform%3D%22translate(470.23%2C0)%22%20d%3D%22M0%2C30v250%22%20style%3D%22stroke%3A%20rgb(0%2C%200%2C%200)%3B%20stroke-opacity%3A%200.1625%3B%20stroke-width%3A%201px%3B%22%2F%3E%3Cpath%20class%3D%22xgrid%20crisp%22%20transform%3D%22translate(599.64%2C0)%22%20d%3D%22M0%2C30v250%22%20style%3D%22stroke%3A%20rgb(0%2C%200%2C%200)%3B%20stroke-opacity%3A%200.1625%3B%20stroke-width%3A%201px%3B%22%2F%3E%3Cpath%20class%3D%22xgrid%20crisp%22%20transform%3D%22translate(729.06%2C0)%22%20d%3D%22M0%2C30v250%22%20style%3D%22stroke%3A%20rgb(0%2C%200%2C%200)%3B%20stroke-opacity%3A%200.1625%3B%20stroke-width%3A%201px%3B%22%2F%3E%3Cpath%20class%3D%22xgrid%20crisp%22%20transform%3D%22translate(858.47%2C0)%22%20d%3D%22M0%2C30v250%22%20style%3D%22stroke%3A%20rgb(0%2C%200%2C%200)%3B%20stroke-opacity%3A%200.1625%3B%20stroke-width%3A%201px%3B%22%2F%3E%3Cpath%20class%3D%22xgrid%20crisp%22%20transform%3D%22translate(987.88%2C0)%22%20d%3D%22M0%2C30v250%22%20style%3D%22stroke%3A%20rgb(0%2C%200%2C%200)%3B%20stroke-opacity%3A%200.1625%3B%20stroke-width%3A%201px%3B%22%2F%3E%3Cpath%20class%3D%22xgrid%20crisp%22%20transform%3D%22translate(1117.29%2C0)%22%20d%3D%22M0%2C30v250%22%20style%3D%22stroke%3A%20rgb(0%2C%200%2C%200)%3B%20stroke-opacity%3A%200.1625%3B%20stroke-width%3A%201px%3B%22%2F%3E%3Cpath%20class%3D%22xgrid%20crisp%22%20transform%3D%22translate(1246.7%2C0)%22%20d%3D%22M0%2C30v250%22%20style%3D%22stroke%3A%20rgb(0%2C%200%2C%200)%3B%20stroke-opacity%3A%200.1625%3B%20stroke-width%3A%201px%3B%22%2F%3E%3C%2Fg%3E%3Cg%20class%3D%22y%22%3E%3Cpath%20class%3D%22ygrid%20crisp%22%20transform%3D%22translate(0%2C238.33)%22%20d%3D%22M82%2C0h1226%22%20style%3D%22stroke%3A%20rgb(0%2C%200%2C%200)%3B%20stroke-opacity%3A%200%3B%20stroke-width%3A%201px%3B%22%2F%3E%3Cpath%20class%3D%22ygrid%20crisp%22%20transform%3D%22translate(0%2C155)%22%20d%3D%22M82%2C0h1226%22%20style%3D%22stroke%3A%20rgb(0%2C%200%2C%200)%3B%20stroke-opacity%3A%200%3B%20stroke-width%3A%201px%3B%22%2F%3E%3Cpath%20class%3D%22ygrid%20crisp%22%20transform%3D%22translate(0%2C71.67)%22%20d%3D%22M82%2C0h1226%22%20style%3D%22stroke%3A%20rgb(0%2C%200%2C%200)%3B%20stroke-opacity%3A%200%3B%20stroke-width%3A%201px%3B%22%2F%3E%3C%2Fg%3E%3C%2Fg%3E%3Cg%20class%3D%22zerolinelayer%22%3E%3Cpath%20class%3D%22xzl%20zl%20crisp%22%20transform%3D%22translate(82%2C0)%22%20d%3D%22M0%2C30v250%22%20style%3D%22stroke%3A%20rgb(0%2C%200%2C%200)%3B%20stroke-opacity%3A%200.325%3B%20stroke-width%3A%201px%3B%22%2F%3E%3C%2Fg%3E%3Cpath%20class%3D%22xlines-below%22%2F%3E%3Cpath%20class%3D%22ylines-below%22%2F%3E%3Cg%20class%3D%22overlines-below%22%2F%3E%3Cg%20class%3D%22xaxislayer-below%22%2F%3E%3Cg%20class%3D%22yaxislayer-below%22%2F%3E%3Cg%20class%3D%22overaxes-below%22%2F%3E%3Cg%20class%3D%22plot%22%20transform%3D%22translate(82%2C%2030)%22%20clip-path%3D%22url('%23clip6b9ab6xyplot')%22%3E%3Cg%20class%3D%22barlayer%20mlayer%22%3E%3Cg%20class%3D%22trace%20bars%22%20style%3D%22opacity%3A%201%3B%22%3E%3Cg%20class%3D%22points%22%3E%3Cg%20class%3D%22point%22%3E%3Cpath%20style%3D%22vector-effect%3A%20non-scaling-stroke%3B%20opacity%3A%201%3B%20stroke-width%3A%200px%3B%20fill%3A%20rgb(78%2C%20121%2C%20167)%3B%20fill-opacity%3A%201%3B%22%20d%3D%22M0%2C241.67V175H465.88V241.67Z%22%2F%3E%3C%2Fg%3E%3Cg%20class%3D%22point%22%3E%3Cpath%20style%3D%22vector-effect%3A%20non-scaling-stroke%3B%20opacity%3A%201%3B%20stroke-width%3A%200px%3B%20fill%3A%20rgb(78%2C%20121%2C%20167)%3B%20fill-opacity%3A%201%3B%22%20d%3D%22M0%2C158.33V91.67H698.82V158.33Z%22%2F%3E%3C%2Fg%3E%3Cg%20class%3D%22point%22%3E%3Cpath%20style%3D%22vector-effect%3A%20non-scaling-stroke%3B%20opacity%3A%201%3B%20stroke-width%3A%200px%3B%20fill%3A%20rgb(78%2C%20121%2C%20167)%3B%20fill-opacity%3A%201%3B%22%20d%3D%22M0%2C75V8.33H1164.7V75Z%22%2F%3E%3C%2Fg%3E%3C%2Fg%3E%3C%2Fg%3E%3C%2Fg%3E%3C%2Fg%3E%3Cg%20class%3D%22overplot%22%2F%3E%3Cpath%20class%3D%22xlines-above%20crisp%22%20style%3D%22fill%3A%20none%3B%20stroke-width%3A%201px%3B%20stroke%3A%20rgb(0%2C%200%2C%200)%3B%20stroke-opacity%3A%200.1625%3B%22%20d%3D%22M81%2C280.5H1308%22%2F%3E%3Cpath%20class%3D%22ylines-above%20crisp%22%20style%3D%22fill%3A%20none%3B%20stroke-width%3A%201px%3B%20stroke%3A%20rgb(0%2C%200%2C%200)%3B%20stroke-opacity%3A%200.1625%3B%22%20d%3D%22M81.5%2C30V280%22%2F%3E%3Cg%20class%3D%22overlines-above%22%2F%3E%3Cg%20class%3D%22xaxislayer-above%22%3E%3Cg%20class%3D%22xtick%22%3E%3Ctext%20text-anchor%3D%22middle%22%20x%3D%220%22%20y%3D%22295.4%22%20style%3D%22font-family%3A%20%26quot%3BOpen%20Sans%26quot%3B%2C%20verdana%2C%20arial%2C%20sans-serif%3B%20font-size%3A%2012px%3B%20fill%3A%20rgb(0%2C%200%2C%200)%3B%20fill-opacity%3A%200.65%3B%20white-space%3A%20pre%3B%22%20data-unformatted%3D%220%22%20data-math%3D%22N%22%20transform%3D%22translate(82%2C0)%22%3E0%3C%2Ftext%3E%3C%2Fg%3E%3Cg%20class%3D%22xtick%22%3E%3Ctext%20text-anchor%3D%22middle%22%20x%3D%220%22%20y%3D%22295.4%22%20style%3D%22font-family%3A%20%26quot%3BOpen%20Sans%26quot%3B%2C%20verdana%2C%20arial%2C%20sans-serif%3B%20font-size%3A%2012px%3B%20fill%3A%20rgb(0%2C%200%2C%200)%3B%20fill-opacity%3A%200.65%3B%20white-space%3A%20pre%3B%22%20data-unformatted%3D%221000%22%20data-math%3D%22N%22%20transform%3D%22translate(211.41%2C0)%22%3E1000%3C%2Ftext%3E%3C%2Fg%3E%3Cg%20class%3D%22xtick%22%3E%3Ctext%20text-anchor%3D%22middle%22%20x%3D%220%22%20y%3D%22295.4%22%20style%3D%22font-family%3A%20%26quot%3BOpen%20Sans%26quot%3B%2C%20verdana%2C%20arial%2C%20sans-serif%3B%20font-size%3A%2012px%3B%20fill%3A%20rgb(0%2C%200%2C%200)%3B%20fill-opacity%3A%200.65%3B%20white-space%3A%20pre%3B%22%20data-unformatted%3D%222000%22%20data-math%3D%22N%22%20transform%3D%22translate(340.82%2C0)%22%3E2000%3C%2Ftext%3E%3C%2Fg%3E%3Cg%20class%3D%22xtick%22%3E%3Ctext%20text-anchor%3D%22middle%22%20x%3D%220%22%20y%3D%22295.4%22%20style%3D%22font-family%3A%20%26quot%3BOpen%20Sans%26quot%3B%2C%20verdana%2C%20arial%2C%20sans-serif%3B%20font-size%3A%2012px%3B%20fill%3A%20rgb(0%2C%200%2C%200)%3B%20fill-opacity%3A%200.65%3B%20white-space%3A%20pre%3B%22%20data-unformatted%3D%223000%22%20data-math%3D%22N%22%20transform%3D%22translate(470.23%2C0)%22%3E3000%3C%2Ftext%3E%3C%2Fg%3E%3Cg%20class%3D%22xtick%22%3E%3Ctext%20text-anchor%3D%22middle%22%20x%3D%220%22%20y%3D%22295.4%22%20style%3D%22font-family%3A%20%26quot%3BOpen%20Sans%26quot%3B%2C%20verdana%2C%20arial%2C%20sans-serif%3B%20font-size%3A%2012px%3B%20fill%3A%20rgb(0%2C%200%2C%200)%3B%20fill-opacity%3A%200.65%3B%20white-space%3A%20pre%3B%22%20data-unformatted%3D%224000%22%20data-math%3D%22N%22%20transform%3D%22translate(599.64%2C0)%22%3E4000%3C%2Ftext%3E%3C%2Fg%3E%3Cg%20class%3D%22xtick%22%3E%3Ctext%20text-anchor%3D%22middle%22%20x%3D%220%22%20y%3D%22295.4%22%20style%3D%22font-family%3A%20%26quot%3BOpen%20Sans%26quot%3B%2C%20verdana%2C%20arial%2C%20sans-serif%3B%20font-size%3A%2012px%3B%20fill%3A%20rgb(0%2C%200%2C%200)%3B%20fill-opacity%3A%200.65%3B%20white-space%3A%20pre%3B%22%20data-unformatted%3D%225000%22%20data-math%3D%22N%22%20transform%3D%22translate(729.06%2C0)%22%3E5000%3C%2Ftext%3E%3C%2Fg%3E%3Cg%20class%3D%22xtick%22%3E%3Ctext%20text-anchor%3D%22middle%22%20x%3D%220%22%20y%3D%22295.4%22%20style%3D%22font-family%3A%20%26quot%3BOpen%20Sans%26quot%3B%2C%20verdana%2C%20arial%2C%20sans-serif%3B%20font-size%3A%2012px%3B%20fill%3A%20rgb(0%2C%200%2C%200)%3B%20fill-opacity%3A%200.65%3B%20white-space%3A%20pre%3B%22%20data-unformatted%3D%226000%22%20data-math%3D%22N%22%20transform%3D%22translate(858.47%2C0)%22%3E6000%3C%2Ftext%3E%3C%2Fg%3E%3Cg%20class%3D%22xtick%22%3E%3Ctext%20text-anchor%3D%22middle%22%20x%3D%220%22%20y%3D%22295.4%22%20style%3D%22font-family%3A%20%26quot%3BOpen%20Sans%26quot%3B%2C%20verdana%2C%20arial%2C%20sans-serif%3B%20font-size%3A%2012px%3B%20fill%3A%20rgb(0%2C%200%2C%200)%3B%20fill-opacity%3A%200.65%3B%20white-space%3A%20pre%3B%22%20data-unformatted%3D%227000%22%20data-math%3D%22N%22%20transform%3D%22translate(987.88%2C0)%22%3E7000%3C%2Ftext%3E%3C%2Fg%3E%3Cg%20class%3D%22xtick%22%3E%3Ctext%20text-anchor%3D%22middle%22%20x%3D%220%22%20y%3D%22295.4%22%20style%3D%22font-family%3A%20%26quot%3BOpen%20Sans%26quot%3B%2C%20verdana%2C%20arial%2C%20sans-serif%3B%20font-size%3A%2012px%3B%20fill%3A%20rgb(0%2C%200%2C%200)%3B%20fill-opacity%3A%200.65%3B%20white-space%3A%20pre%3B%22%20data-unformatted%3D%228000%22%20data-math%3D%22N%22%20transform%3D%22translate(1117.29%2C0)%22%3E8000%3C%2Ftext%3E%3C%2Fg%3E%3Cg%20class%3D%22xtick%22%3E%3Ctext%20text-anchor%3D%22middle%22%20x%3D%220%22%20y%3D%22295.4%22%20style%3D%22font-family%3A%20%26quot%3BOpen%20Sans%26quot%3B%2C%20verdana%2C%20arial%2C%20sans-serif%3B%20font-size%3A%2012px%3B%20fill%3A%20rgb(0%2C%200%2C%200)%3B%20fill-opacity%3A%200.65%3B%20white-space%3A%20pre%3B%22%20data-unformatted%3D%229000%22%20data-math%3D%22N%22%20transform%3D%22translate(1246.7%2C0)%22%3E9000%3C%2Ftext%3E%3C%2Fg%3E%3C%2Fg%3E%3Cg%20class%3D%22yaxislayer-above%22%3E%3Cg%20class%3D%22ytick%22%3E%3Ctext%20text-anchor%3D%22end%22%20x%3D%2278.6%22%20y%3D%224.199999999999999%22%20style%3D%22font-family%3A%20%26quot%3BOpen%20Sans%26quot%3B%2C%20verdana%2C%20arial%2C%20sans-serif%3B%20font-size%3A%2012px%3B%20fill%3A%20rgb(0%2C%200%2C%200)%3B%20fill-opacity%3A%200.65%3B%20white-space%3A%20pre%3B%22%20data-unformatted%3D%22Equity%22%20data-math%3D%22N%22%20transform%3D%22translate(0%2C238.33)%22%3EEquity%3C%2Ftext%3E%3C%2Fg%3E%3Cg%20class%3D%22ytick%22%3E%3Ctext%20text-anchor%3D%22end%22%20x%3D%2278.6%22%20y%3D%224.199999999999999%22%20style%3D%22font-family%3A%20%26quot%3BOpen%20Sans%26quot%3B%2C%20verdana%2C%20arial%2C%20sans-serif%3B%20font-size%3A%2012px%3B%20fill%3A%20rgb(0%2C%200%2C%200)%3B%20fill-opacity%3A%200.65%3B%20white-space%3A%20pre%3B%22%20data-unformatted%3D%22Forex%22%20data-math%3D%22N%22%20transform%3D%22translate(0%2C155)%22%3EForex%3C%2Ftext%3E%3C%2Fg%3E%3Cg%20class%3D%22ytick%22%3E%3Ctext%20text-anchor%3D%22end%22%20x%3D%2278.6%22%20y%3D%224.199999999999999%22%20style%3D%22font-family%3A%20%26quot%3BOpen%20Sans%26quot%3B%2C%20verdana%2C%20arial%2C%20sans-serif%3B%20font-size%3A%2012px%3B%20fill%3A%20rgb(0%2C%200%2C%200)%3B%20fill-opacity%3A%200.65%3B%20white-space%3A%20pre%3B%22%20data-unformatted%3D%22Rates%20%26amp%3B%20Credit%22%20data-math%3D%22N%22%20transform%3D%22translate(0%2C71.67)%22%3ERates%20%26amp%3B%20Credit%3C%2Ftext%3E%3C%2Fg%3E%3C%2Fg%3E%3Cg%20class%3D%22overaxes-above%22%2F%3E%3C%2Fg%3E%3C%2Fg%3E%3Cg%20class%3D%22polarlayer%22%2F%3E%3Cg%20class%3D%22ternarylayer%22%2F%3E%3Cg%20class%3D%22geolayer%22%2F%3E%3Cg%20class%3D%22funnelarealayer%22%2F%3E%3Cg%20class%3D%22pielayer%22%2F%3E%3Cg%20class%3D%22treemaplayer%22%2F%3E%3Cg%20class%3D%22sunburstlayer%22%2F%3E%3Cg%20class%3D%22glimages%22%2F%3E%3Cdefs%20id%3D%22topdefs-6b9ab6%22%3E%3Cg%20class%3D%22clips%22%2F%3E%3C%2Fdefs%3E%3Cg%20class%3D%22indicatorlayer%22%2F%3E%3Cg%20class%3D%22layer-above%22%3E%3Cg%20class%3D%22imagelayer%22%2F%3E%3Cg%20class%3D%22shapelayer%22%2F%3E%3C%2Fg%3E%3Cg%20class%3D%22infolayer%22%3E%3Cg%20class%3D%22g-gtitle%22%2F%3E%3Cg%20class%3D%22g-xtitle%22%2F%3E%3Cg%20class%3D%22g-ytitle%22%2F%3E%3C%2Fg%3E%3Cg%20class%3D%22menulayer%22%2F%3E%3Cg%20class%3D%22zoomlayer%22%2F%3E%3Cg%20class%3D%22hoverlayer%22%2F%3E%3C%2Fsvg%3E\">"
      ],
      "text/plain": [
       "Open the notebook in JupyterLab with the atoti extension installed and enabled to see this widget."
      ]
     },
     "metadata": {},
     "output_type": "display_data"
    }
   ],
   "source": [
    "position_sensitivity_cube.visualize(\"Theoretical PnL\")"
   ]
  },
  {
   "cell_type": "markdown",
   "metadata": {},
   "source": [
    "### What-ifs  \n",
    "We will run simulations to see the impact of shifts in curves: \n",
    "- Parallel Shift\n",
    "- Curve Inversion\n",
    "- Curve Inversion Stress\n"
   ]
  },
  {
   "cell_type": "markdown",
   "metadata": {},
   "source": [
    "By applying sensitivity against the Asset Class and Currency, we can see that the 3 peaks are in the order of *Rates & Credit, EUR*, *Forex, EUR* and lastly *Equity, EUR*. "
   ]
  },
  {
   "cell_type": "code",
   "execution_count": 30,
   "metadata": {
    "atoti": {
     "state": {
      "name": "Risk Map",
      "type": "container",
      "value": {
       "body": {
        "configuration": {
         "mapping": {
          "axis": [
           "[Hierarchies].[Investment Portfolio Hierarchy].[Asset Class]",
           "[Hierarchies].[currency].[currency]"
          ],
          "splitBy": [],
          "values": [
           "[Measures].[sensi.SUM]"
          ]
         },
         "type": "plotly-radar-chart"
        },
        "query": {
         "mdx": "SELECT NON EMPTY Crossjoin([Hierarchies].[Investment Portfolio Hierarchy].[Asset Class].Members, [Hierarchies].[currency].[currency].Members) ON ROWS, NON EMPTY [Measures].[sensi.SUM] ON COLUMNS FROM [Position_Sensitivities] CELL PROPERTIES VALUE, FORMATTED_VALUE, BACK_COLOR, FORE_COLOR, FONT_FLAGS",
         "serverUrl": "",
         "updateMode": "once"
        }
       },
       "containerKey": "chart",
       "showTitleBar": false,
       "style": {}
      }
     }
    }
   },
   "outputs": [
    {
     "data": {
      "application/vnd.atoti.v0+json": {
       "cube": "Position_Sensitivities",
       "error": null,
       "name": "Risk Map",
       "session": "Unnamed"
      },
      "text/html": [
       "<img src=\"data:image/svg+xml;charset=utf8,%3C%3Fxml%20version%3D%221.0%22%20standalone%3D%22no%22%3F%3E%3Csvg%20xmlns%3D%22http%3A%2F%2Fwww.w3.org%2F2000%2Fsvg%22%20xmlns%3Axlink%3D%22http%3A%2F%2Fwww.w3.org%2F1999%2Fxlink%22%20viewBox%3D%220%200%201308%20360%22%3E%3Cdefs%20id%3D%22defs-f0c3d1%22%3E%3Cg%20class%3D%22clips%22%3E%3CclipPath%20id%3D%22clipf0c3d1polar-for-traces%22%3E%3Cpath%20d%3D%22M125%2C0A125%2C125%200%2C1%2C0%20-125%2C-1.5308084989341916e-14A125%2C125%200%2C1%2C0%20125%2C3.061616997868383e-14Z%22%20transform%3D%22translate(125%2C125)%22%2F%3E%3C%2FclipPath%3E%3C%2Fg%3E%3Cg%20class%3D%22gradients%22%2F%3E%3C%2Fdefs%3E%3Cg%20class%3D%22bglayer%22%2F%3E%3Cg%20class%3D%22draglayer%22%2F%3E%3Cg%20class%3D%22layer-below%22%3E%3Cg%20class%3D%22imagelayer%22%2F%3E%3Cg%20class%3D%22shapelayer%22%2F%3E%3C%2Fg%3E%3Cg%20class%3D%22cartesianlayer%22%2F%3E%3Cg%20class%3D%22polarlayer%22%3E%3Cg%20class%3D%22polar%22%3E%3Cg%20class%3D%22polarsublayer%20draglayer%22%3E%3Cpath%20class%3D%22angulardrag%20drag%20cursor-move%22%20style%3D%22fill%3A%20transparent%3B%20stroke-width%3A%200px%3B%20pointer-events%3A%20all%3B%22%20d%3D%22M125%2C0A125%2C125%200%2C1%2C0%20-125%2C-1.5308084989341916e-14A125%2C125%200%2C1%2C0%20125%2C3.061616997868383e-14ZM155%2C0A155%2C155%200%2C1%2C1%20-155%2C-1.8982025386783973e-14A155%2C155%200%2C1%2C1%20155%2C3.7964050773567946e-14Z%22%20transform%3D%22translate(664%2C155)%22%2F%3E%3Crect%20class%3D%22radialdrag-inner%20drag%20cursor-crosshair%22%20style%3D%22fill%3A%20transparent%3B%20stroke-width%3A%200px%3B%20pointer-events%3A%20all%3B%22%20x%3D%22-25%22%20y%3D%22-25%22%20width%3D%2250%22%20height%3D%2250%22%20transform%3D%22translate(639%2C155)%22%2F%3E%3Crect%20class%3D%22radialdrag%20drag%20cursor-crosshair%22%20style%3D%22fill%3A%20transparent%3B%20stroke-width%3A%200px%3B%20pointer-events%3A%20all%3B%22%20x%3D%22-25%22%20y%3D%22-25%22%20width%3D%2250%22%20height%3D%2250%22%20transform%3D%22translate(814%2C155)%22%2F%3E%3Cpath%20class%3D%22maindrag%20drag%20cursor-crosshair%22%20style%3D%22fill%3A%20transparent%3B%20stroke-width%3A%200px%3B%20pointer-events%3A%20all%3B%22%20d%3D%22M125%2C0A125%2C125%200%2C1%2C0%20-125%2C-1.5308084989341916e-14A125%2C125%200%2C1%2C0%20125%2C3.061616997868383e-14Z%22%20transform%3D%22translate(664%2C155)%22%2F%3E%3C%2Fg%3E%3Cg%20class%3D%22polarsublayer%20plotbg%22%3E%3Cpath%20d%3D%22M125%2C0A125%2C125%200%2C1%2C0%20-125%2C-1.5308084989341916e-14A125%2C125%200%2C1%2C0%20125%2C3.061616997868383e-14Z%22%20transform%3D%22translate(664%2C155)%22%20style%3D%22fill%3A%20rgb(255%2C%20255%2C%20255)%3B%20fill-opacity%3A%201%3B%22%2F%3E%3C%2Fg%3E%3Cg%20class%3D%22polarsublayer%20backplot%22%3E%3Cg%20class%3D%22maplayer%22%2F%3E%3C%2Fg%3E%3Cg%20class%3D%22polarsublayer%20angular-grid%22%20style%3D%22fill%3A%20none%3B%22%3E%3Cpath%20class%3D%22angularaxisgrid%22%20d%3D%22M664%2C155L789%2C155%22%20style%3D%22stroke%3A%20rgb(180%2C%20180%2C%20180)%3B%20stroke-opacity%3A%201%3B%20stroke-width%3A%201px%3B%22%2F%3E%3Cpath%20class%3D%22angularaxisgrid%22%20d%3D%22M664%2C155L778.1931822053251%2C104.15791961552497%22%20style%3D%22stroke%3A%20rgb(180%2C%20180%2C%20180)%3B%20stroke-opacity%3A%201%3B%20stroke-width%3A%201px%3B%22%2F%3E%3Cpath%20class%3D%22angularaxisgrid%22%20d%3D%22M664%2C155L747.6413257948573%2C62.10689681532574%22%20style%3D%22stroke%3A%20rgb(180%2C%20180%2C%20180)%3B%20stroke-opacity%3A%201%3B%20stroke-width%3A%201px%3B%22%2F%3E%3Cpath%20class%3D%22angularaxisgrid%22%20d%3D%22M664%2C155L702.6271242968685%2C36.11793546310581%22%20style%3D%22stroke%3A%20rgb(180%2C%20180%2C%20180)%3B%20stroke-opacity%3A%201%3B%20stroke-width%3A%201px%3B%22%2F%3E%3Cpath%20class%3D%22angularaxisgrid%22%20d%3D%22M664%2C155L650.9339420915434%2C30.68476307896583%22%20style%3D%22stroke%3A%20rgb(180%2C%20180%2C%20180)%3B%20stroke-opacity%3A%201%3B%20stroke-width%3A%201px%3B%22%2F%3E%3Cpath%20class%3D%22angularaxisgrid%22%20d%3D%22M664%2C155L601.5%2C46.74682452694516%22%20style%3D%22stroke%3A%20rgb(180%2C%20180%2C%20180)%3B%20stroke-opacity%3A%201%3B%20stroke-width%3A%201px%3B%22%2F%3E%3Cpath%20class%3D%22angularaxisgrid%22%20d%3D%22M664%2C155L562.8728757031316%2C81.52684346344084%22%20style%3D%22stroke%3A%20rgb(180%2C%20180%2C%20180)%3B%20stroke-opacity%3A%201%3B%20stroke-width%3A%201px%3B%22%2F%3E%3Cpath%20class%3D%22angularaxisgrid%22%20d%3D%22M664%2C155L541.7315499082742%2C129.01103864778008%22%20style%3D%22stroke%3A%20rgb(180%2C%20180%2C%20180)%3B%20stroke-opacity%3A%201%3B%20stroke-width%3A%201px%3B%22%2F%3E%3Cpath%20class%3D%22angularaxisgrid%22%20d%3D%22M664%2C155L541.7315499082742%2C180.9889613522199%22%20style%3D%22stroke%3A%20rgb(180%2C%20180%2C%20180)%3B%20stroke-opacity%3A%201%3B%20stroke-width%3A%201px%3B%22%2F%3E%3Cpath%20class%3D%22angularaxisgrid%22%20d%3D%22M664%2C155L562.8728757031315%2C228.47315653655915%22%20style%3D%22stroke%3A%20rgb(180%2C%20180%2C%20180)%3B%20stroke-opacity%3A%201%3B%20stroke-width%3A%201px%3B%22%2F%3E%3Cpath%20class%3D%22angularaxisgrid%22%20d%3D%22M664%2C155L601.5%2C263.2531754730548%22%20style%3D%22stroke%3A%20rgb(180%2C%20180%2C%20180)%3B%20stroke-opacity%3A%201%3B%20stroke-width%3A%201px%3B%22%2F%3E%3Cpath%20class%3D%22angularaxisgrid%22%20d%3D%22M664%2C155L650.9339420915433%2C279.31523692103417%22%20style%3D%22stroke%3A%20rgb(180%2C%20180%2C%20180)%3B%20stroke-opacity%3A%201%3B%20stroke-width%3A%201px%3B%22%2F%3E%3Cpath%20class%3D%22angularaxisgrid%22%20d%3D%22M664%2C155L702.6271242968684%2C273.8820645368942%22%20style%3D%22stroke%3A%20rgb(180%2C%20180%2C%20180)%3B%20stroke-opacity%3A%201%3B%20stroke-width%3A%201px%3B%22%2F%3E%3Cpath%20class%3D%22angularaxisgrid%22%20d%3D%22M664%2C155L747.6413257948573%2C247.89310318467426%22%20style%3D%22stroke%3A%20rgb(180%2C%20180%2C%20180)%3B%20stroke-opacity%3A%201%3B%20stroke-width%3A%201px%3B%22%2F%3E%3Cpath%20class%3D%22angularaxisgrid%22%20d%3D%22M664%2C155L778.1931822053251%2C205.84208038447503%22%20style%3D%22stroke%3A%20rgb(180%2C%20180%2C%20180)%3B%20stroke-opacity%3A%201%3B%20stroke-width%3A%201px%3B%22%2F%3E%3C%2Fg%3E%3Cg%20class%3D%22polarsublayer%20radial-grid%22%20style%3D%22fill%3A%20none%3B%22%20transform%3D%22translate(664%2C155)%22%3E%3Cpath%20class%3D%22xgrid%22%20d%3D%22M24.06%2C0A24.06%2C24.06%200%2C1%2C0%20-24.06%2C-2.9465001987485318e-15A24.06%2C24.06%200%2C1%2C0%2024.06%2C5.8930003974970635e-15Z%22%20style%3D%22stroke%3A%20rgb(153%2C%20153%2C%20153)%3B%20stroke-opacity%3A%200.66%3B%20stroke-width%3A%201px%3B%22%2F%3E%3Cpath%20class%3D%22xgrid%22%20d%3D%22M48.12%2C0A48.12%2C48.12%200%2C1%2C0%20-48.12%2C-5.8930003974970635e-15A48.12%2C48.12%200%2C1%2C0%2048.12%2C1.1786000794994127e-14Z%22%20style%3D%22stroke%3A%20rgb(153%2C%20153%2C%20153)%3B%20stroke-opacity%3A%200.66%3B%20stroke-width%3A%201px%3B%22%2F%3E%3Cpath%20class%3D%22xgrid%22%20d%3D%22M72.17%2C0A72.17%2C72.17%200%2C1%2C0%20-72.17%2C-8.838275949446448e-15A72.17%2C72.17%200%2C1%2C0%2072.17%2C1.7676551898892896e-14Z%22%20style%3D%22stroke%3A%20rgb(153%2C%20153%2C%20153)%3B%20stroke-opacity%3A%200.66%3B%20stroke-width%3A%201px%3B%22%2F%3E%3Cpath%20class%3D%22xgrid%22%20d%3D%22M96.23%2C0A96.23%2C96.23%200%2C1%2C0%20-96.23%2C-1.178477614819498e-14A96.23%2C96.23%200%2C1%2C0%2096.23%2C2.356955229638996e-14Z%22%20style%3D%22stroke%3A%20rgb(153%2C%20153%2C%20153)%3B%20stroke-opacity%3A%200.66%3B%20stroke-width%3A%201px%3B%22%2F%3E%3Cpath%20class%3D%22xgrid%22%20d%3D%22M120.29%2C0A120.29%2C120.29%200%2C1%2C0%20-120.29%2C-1.4731276346943514e-14A120.29%2C120.29%200%2C1%2C0%20120.29%2C2.946255269388703e-14Z%22%20style%3D%22stroke%3A%20rgb(153%2C%20153%2C%20153)%3B%20stroke-opacity%3A%200.66%3B%20stroke-width%3A%201px%3B%22%2F%3E%3C%2Fg%3E%3Cg%20class%3D%22polarsublayer%20frontplot%22%20transform%3D%22translate(539%2C30)%22%3E%3Cg%20class%3D%22barlayer%22%2F%3E%3Cg%20class%3D%22scatterlayer%22%3E%3Cg%20class%3D%22trace%20scatter%20tracedf061c%22%20style%3D%22stroke-miterlimit%3A%202%3B%20opacity%3A%201%3B%22%3E%3Cg%20class%3D%22fills%22%20clip-path%3D%22url('%23clipf0c3d1polar-for-traces')%22%3E%3Cg%3E%3Cpath%20class%3D%22js-fill%22%20d%3D%22M137.99%2C125L140.82%2C117.95L152.53%2C94.43L128.35%2C114.7L124.55%2C120.69L117.42%2C111.87L110.99%2C114.82L59.35%2C111.04L108.06%2C128.6L114.49%2C132.64L114.17%2C143.75L123.19%2C142.23L162.47%2C240.32L145.28%2C147.53L148.74%2C135.57L137.99%2C125Z%22%20style%3D%22fill%3A%20rgb(78%2C%20121%2C%20167)%3B%20fill-opacity%3A%200.5%3B%20stroke-width%3A%200px%3B%22%2F%3E%3C%2Fg%3E%3C%2Fg%3E%3Cg%20class%3D%22errorbars%22%2F%3E%3Cg%20class%3D%22lines%22%3E%3Cpath%20class%3D%22js-line%22%20style%3D%22vector-effect%3A%20non-scaling-stroke%3B%20fill%3A%20none%3B%20stroke%3A%20rgb(78%2C%20121%2C%20167)%3B%20stroke-opacity%3A%201%3B%20stroke-width%3A%202px%3B%20opacity%3A%201%3B%22%20d%3D%22M137.99%2C125L140.82%2C117.95L152.53%2C94.43L128.35%2C114.7L124.55%2C120.69L117.42%2C111.87L110.99%2C114.82L59.35%2C111.04L108.06%2C128.6L114.49%2C132.64L114.17%2C143.75L123.19%2C142.23L162.47%2C240.32L145.28%2C147.53L148.74%2C135.57L137.99%2C125%22%20clip-path%3D%22url('%23clipf0c3d1polar-for-traces')%22%2F%3E%3C%2Fg%3E%3Cg%20class%3D%22points%22%3E%3Cpath%20class%3D%22point%22%20transform%3D%22translate(137.99%2C125)%22%20style%3D%22opacity%3A%201%3B%20stroke-width%3A%200px%3B%20fill%3A%20rgb(78%2C%20121%2C%20167)%3B%20fill-opacity%3A%201%3B%22%20d%3D%22M3%2C0A3%2C3%200%201%2C1%200%2C-3A3%2C3%200%200%2C1%203%2C0Z%22%2F%3E%3Cpath%20class%3D%22point%22%20transform%3D%22translate(140.82%2C117.95)%22%20style%3D%22opacity%3A%201%3B%20stroke-width%3A%200px%3B%20fill%3A%20rgb(78%2C%20121%2C%20167)%3B%20fill-opacity%3A%201%3B%22%20d%3D%22M3%2C0A3%2C3%200%201%2C1%200%2C-3A3%2C3%200%200%2C1%203%2C0Z%22%2F%3E%3Cpath%20class%3D%22point%22%20transform%3D%22translate(152.53%2C94.43)%22%20style%3D%22opacity%3A%201%3B%20stroke-width%3A%200px%3B%20fill%3A%20rgb(78%2C%20121%2C%20167)%3B%20fill-opacity%3A%201%3B%22%20d%3D%22M3%2C0A3%2C3%200%201%2C1%200%2C-3A3%2C3%200%200%2C1%203%2C0Z%22%2F%3E%3Cpath%20class%3D%22point%22%20transform%3D%22translate(128.35%2C114.7)%22%20style%3D%22opacity%3A%201%3B%20stroke-width%3A%200px%3B%20fill%3A%20rgb(78%2C%20121%2C%20167)%3B%20fill-opacity%3A%201%3B%22%20d%3D%22M3%2C0A3%2C3%200%201%2C1%200%2C-3A3%2C3%200%200%2C1%203%2C0Z%22%2F%3E%3Cpath%20class%3D%22point%22%20transform%3D%22translate(124.55%2C120.69)%22%20style%3D%22opacity%3A%201%3B%20stroke-width%3A%200px%3B%20fill%3A%20rgb(78%2C%20121%2C%20167)%3B%20fill-opacity%3A%201%3B%22%20d%3D%22M3%2C0A3%2C3%200%201%2C1%200%2C-3A3%2C3%200%200%2C1%203%2C0Z%22%2F%3E%3Cpath%20class%3D%22point%22%20transform%3D%22translate(117.42%2C111.87)%22%20style%3D%22opacity%3A%201%3B%20stroke-width%3A%200px%3B%20fill%3A%20rgb(78%2C%20121%2C%20167)%3B%20fill-opacity%3A%201%3B%22%20d%3D%22M3%2C0A3%2C3%200%201%2C1%200%2C-3A3%2C3%200%200%2C1%203%2C0Z%22%2F%3E%3Cpath%20class%3D%22point%22%20transform%3D%22translate(110.99%2C114.82)%22%20style%3D%22opacity%3A%201%3B%20stroke-width%3A%200px%3B%20fill%3A%20rgb(78%2C%20121%2C%20167)%3B%20fill-opacity%3A%201%3B%22%20d%3D%22M3%2C0A3%2C3%200%201%2C1%200%2C-3A3%2C3%200%200%2C1%203%2C0Z%22%2F%3E%3Cpath%20class%3D%22point%22%20transform%3D%22translate(59.35%2C111.04)%22%20style%3D%22opacity%3A%201%3B%20stroke-width%3A%200px%3B%20fill%3A%20rgb(78%2C%20121%2C%20167)%3B%20fill-opacity%3A%201%3B%22%20d%3D%22M3%2C0A3%2C3%200%201%2C1%200%2C-3A3%2C3%200%200%2C1%203%2C0Z%22%2F%3E%3Cpath%20class%3D%22point%22%20transform%3D%22translate(108.06%2C128.6)%22%20style%3D%22opacity%3A%201%3B%20stroke-width%3A%200px%3B%20fill%3A%20rgb(78%2C%20121%2C%20167)%3B%20fill-opacity%3A%201%3B%22%20d%3D%22M3%2C0A3%2C3%200%201%2C1%200%2C-3A3%2C3%200%200%2C1%203%2C0Z%22%2F%3E%3Cpath%20class%3D%22point%22%20transform%3D%22translate(114.49%2C132.64)%22%20style%3D%22opacity%3A%201%3B%20stroke-width%3A%200px%3B%20fill%3A%20rgb(78%2C%20121%2C%20167)%3B%20fill-opacity%3A%201%3B%22%20d%3D%22M3%2C0A3%2C3%200%201%2C1%200%2C-3A3%2C3%200%200%2C1%203%2C0Z%22%2F%3E%3Cpath%20class%3D%22point%22%20transform%3D%22translate(114.17%2C143.75)%22%20style%3D%22opacity%3A%201%3B%20stroke-width%3A%200px%3B%20fill%3A%20rgb(78%2C%20121%2C%20167)%3B%20fill-opacity%3A%201%3B%22%20d%3D%22M3%2C0A3%2C3%200%201%2C1%200%2C-3A3%2C3%200%200%2C1%203%2C0Z%22%2F%3E%3Cpath%20class%3D%22point%22%20transform%3D%22translate(123.19%2C142.23)%22%20style%3D%22opacity%3A%201%3B%20stroke-width%3A%200px%3B%20fill%3A%20rgb(78%2C%20121%2C%20167)%3B%20fill-opacity%3A%201%3B%22%20d%3D%22M3%2C0A3%2C3%200%201%2C1%200%2C-3A3%2C3%200%200%2C1%203%2C0Z%22%2F%3E%3Cpath%20class%3D%22point%22%20transform%3D%22translate(162.47%2C240.32)%22%20style%3D%22opacity%3A%201%3B%20stroke-width%3A%200px%3B%20fill%3A%20rgb(78%2C%20121%2C%20167)%3B%20fill-opacity%3A%201%3B%22%20d%3D%22M3%2C0A3%2C3%200%201%2C1%200%2C-3A3%2C3%200%200%2C1%203%2C0Z%22%2F%3E%3Cpath%20class%3D%22point%22%20transform%3D%22translate(145.28%2C147.53)%22%20style%3D%22opacity%3A%201%3B%20stroke-width%3A%200px%3B%20fill%3A%20rgb(78%2C%20121%2C%20167)%3B%20fill-opacity%3A%201%3B%22%20d%3D%22M3%2C0A3%2C3%200%201%2C1%200%2C-3A3%2C3%200%200%2C1%203%2C0Z%22%2F%3E%3Cpath%20class%3D%22point%22%20transform%3D%22translate(148.74%2C135.57)%22%20style%3D%22opacity%3A%201%3B%20stroke-width%3A%200px%3B%20fill%3A%20rgb(78%2C%20121%2C%20167)%3B%20fill-opacity%3A%201%3B%22%20d%3D%22M3%2C0A3%2C3%200%201%2C1%200%2C-3A3%2C3%200%200%2C1%203%2C0Z%22%2F%3E%3Cpath%20class%3D%22point%22%20transform%3D%22translate(137.99%2C125)%22%20style%3D%22opacity%3A%201%3B%20stroke-width%3A%200px%3B%20fill%3A%20rgb(78%2C%20121%2C%20167)%3B%20fill-opacity%3A%201%3B%22%20d%3D%22M3%2C0A3%2C3%200%201%2C1%200%2C-3A3%2C3%200%200%2C1%203%2C0Z%22%2F%3E%3C%2Fg%3E%3Cg%20class%3D%22text%22%2F%3E%3C%2Fg%3E%3C%2Fg%3E%3C%2Fg%3E%3Cg%20class%3D%22polarsublayer%20angular-line%22%3E%3Cpath%20style%3D%22fill%3A%20none%3B%20stroke%3A%20rgb(68%2C%2068%2C%2068)%3B%20stroke-opacity%3A%201%3B%22%20d%3D%22M125%2C0A125%2C125%200%2C1%2C0%20-125%2C-1.5308084989341916e-14A125%2C125%200%2C1%2C0%20125%2C3.061616997868383e-14Z%22%20transform%3D%22translate(664%2C155)%22%20stroke-width%3D%221%22%2F%3E%3C%2Fg%3E%3Cg%20class%3D%22polarsublayer%20radial-line%22%3E%3Cline%20style%3D%22fill%3A%20none%3B%20stroke%3A%20rgb(0%2C%200%2C%200)%3B%20stroke-opacity%3A%200.1625%3B%22%20x1%3D%220%22%20y1%3D%220%22%20x2%3D%22125%22%20y2%3D%220%22%20transform%3D%22translate(664%2C155)rotate(0)%22%20stroke-width%3D%221%22%2F%3E%3C%2Fg%3E%3Cg%20class%3D%22polarsublayer%20angular-axis%22%3E%3Cpath%20class%3D%22angularaxistick%20ticks%22%20style%3D%22stroke%3A%20rgb(68%2C%2068%2C%2068)%3B%20stroke-opacity%3A%201%3B%20stroke-width%3A%201px%3B%22%20d%3D%22M0.5%2C0h5%22%20transform%3D%22translate(789%2C155)rotate(0)%22%2F%3E%3Cpath%20class%3D%22angularaxistick%20ticks%22%20style%3D%22stroke%3A%20rgb(68%2C%2068%2C%2068)%3B%20stroke-opacity%3A%201%3B%20stroke-width%3A%201px%3B%22%20d%3D%22M0.5%2C0h5%22%20transform%3D%22translate(778.1931822053251%2C104.15791961552497)rotate(-24)%22%2F%3E%3Cpath%20class%3D%22angularaxistick%20ticks%22%20style%3D%22stroke%3A%20rgb(68%2C%2068%2C%2068)%3B%20stroke-opacity%3A%201%3B%20stroke-width%3A%201px%3B%22%20d%3D%22M0.5%2C0h5%22%20transform%3D%22translate(747.6413257948573%2C62.10689681532574)rotate(-48)%22%2F%3E%3Cpath%20class%3D%22angularaxistick%20ticks%22%20style%3D%22stroke%3A%20rgb(68%2C%2068%2C%2068)%3B%20stroke-opacity%3A%201%3B%20stroke-width%3A%201px%3B%22%20d%3D%22M0.5%2C0h5%22%20transform%3D%22translate(702.6271242968685%2C36.11793546310581)rotate(-72)%22%2F%3E%3Cpath%20class%3D%22angularaxistick%20ticks%22%20style%3D%22stroke%3A%20rgb(68%2C%2068%2C%2068)%3B%20stroke-opacity%3A%201%3B%20stroke-width%3A%201px%3B%22%20d%3D%22M0.5%2C0h5%22%20transform%3D%22translate(650.9339420915434%2C30.68476307896583)rotate(-96)%22%2F%3E%3Cpath%20class%3D%22angularaxistick%20ticks%22%20style%3D%22stroke%3A%20rgb(68%2C%2068%2C%2068)%3B%20stroke-opacity%3A%201%3B%20stroke-width%3A%201px%3B%22%20d%3D%22M0.5%2C0h5%22%20transform%3D%22translate(601.5%2C46.74682452694516)rotate(-120)%22%2F%3E%3Cpath%20class%3D%22angularaxistick%20ticks%22%20style%3D%22stroke%3A%20rgb(68%2C%2068%2C%2068)%3B%20stroke-opacity%3A%201%3B%20stroke-width%3A%201px%3B%22%20d%3D%22M0.5%2C0h5%22%20transform%3D%22translate(562.8728757031316%2C81.52684346344084)rotate(-144)%22%2F%3E%3Cpath%20class%3D%22angularaxistick%20ticks%22%20style%3D%22stroke%3A%20rgb(68%2C%2068%2C%2068)%3B%20stroke-opacity%3A%201%3B%20stroke-width%3A%201px%3B%22%20d%3D%22M0.5%2C0h5%22%20transform%3D%22translate(541.7315499082742%2C129.01103864778008)rotate(-168)%22%2F%3E%3Cpath%20class%3D%22angularaxistick%20ticks%22%20style%3D%22stroke%3A%20rgb(68%2C%2068%2C%2068)%3B%20stroke-opacity%3A%201%3B%20stroke-width%3A%201px%3B%22%20d%3D%22M0.5%2C0h5%22%20transform%3D%22translate(541.7315499082742%2C180.9889613522199)rotate(-192)%22%2F%3E%3Cpath%20class%3D%22angularaxistick%20ticks%22%20style%3D%22stroke%3A%20rgb(68%2C%2068%2C%2068)%3B%20stroke-opacity%3A%201%3B%20stroke-width%3A%201px%3B%22%20d%3D%22M0.5%2C0h5%22%20transform%3D%22translate(562.8728757031315%2C228.47315653655915)rotate(-216)%22%2F%3E%3Cpath%20class%3D%22angularaxistick%20ticks%22%20style%3D%22stroke%3A%20rgb(68%2C%2068%2C%2068)%3B%20stroke-opacity%3A%201%3B%20stroke-width%3A%201px%3B%22%20d%3D%22M0.5%2C0h5%22%20transform%3D%22translate(601.5%2C263.2531754730548)rotate(-240)%22%2F%3E%3Cpath%20class%3D%22angularaxistick%20ticks%22%20style%3D%22stroke%3A%20rgb(68%2C%2068%2C%2068)%3B%20stroke-opacity%3A%201%3B%20stroke-width%3A%201px%3B%22%20d%3D%22M0.5%2C0h5%22%20transform%3D%22translate(650.9339420915433%2C279.31523692103417)rotate(-264)%22%2F%3E%3Cpath%20class%3D%22angularaxistick%20ticks%22%20style%3D%22stroke%3A%20rgb(68%2C%2068%2C%2068)%3B%20stroke-opacity%3A%201%3B%20stroke-width%3A%201px%3B%22%20d%3D%22M0.5%2C0h5%22%20transform%3D%22translate(702.6271242968684%2C273.8820645368942)rotate(-288)%22%2F%3E%3Cpath%20class%3D%22angularaxistick%20ticks%22%20style%3D%22stroke%3A%20rgb(68%2C%2068%2C%2068)%3B%20stroke-opacity%3A%201%3B%20stroke-width%3A%201px%3B%22%20d%3D%22M0.5%2C0h5%22%20transform%3D%22translate(747.6413257948573%2C247.89310318467426)rotate(-312.00000000000006)%22%2F%3E%3Cpath%20class%3D%22angularaxistick%20ticks%22%20style%3D%22stroke%3A%20rgb(68%2C%2068%2C%2068)%3B%20stroke-opacity%3A%201%3B%20stroke-width%3A%201px%3B%22%20d%3D%22M0.5%2C0h5%22%20transform%3D%22translate(778.1931822053251%2C205.84208038447503)rotate(-336)%22%2F%3E%3Cg%20class%3D%22angularaxistick%22%3E%3Ctext%20text-anchor%3D%22start%22%20x%3D%227.9%22%20y%3D%224.199999999999999%22%20style%3D%22font-family%3A%20%26quot%3BOpen%20Sans%26quot%3B%2C%20verdana%2C%20arial%2C%20sans-serif%3B%20font-size%3A%2012px%3B%20fill%3A%20rgb(0%2C%200%2C%200)%3B%20fill-opacity%3A%200.65%3B%20white-space%3A%20pre%3B%22%20data-unformatted%3D%22Equity%2C%20CHF%22%20data-math%3D%22N%22%20transform%3D%22translate(789%2C155)%22%3EEquity%2C%20CHF%3C%2Ftext%3E%3C%2Fg%3E%3Cg%20class%3D%22angularaxistick%22%3E%3Ctext%20text-anchor%3D%22start%22%20x%3D%227.217009115376547%22%20y%3D%22-0.3524965015818191%22%20style%3D%22font-family%3A%20%26quot%3BOpen%20Sans%26quot%3B%2C%20verdana%2C%20arial%2C%20sans-serif%3B%20font-size%3A%2012px%3B%20fill%3A%20rgb(0%2C%200%2C%200)%3B%20fill-opacity%3A%200.65%3B%20white-space%3A%20pre%3B%22%20data-unformatted%3D%22Equity%2C%20DKK%22%20data-math%3D%22N%22%20transform%3D%22translate(778.1931822053251%2C104.15791961552497)%22%3EEquity%2C%20DKK%3C%2Ftext%3E%3C%2Fg%3E%3Cg%20class%3D%22angularaxistick%22%3E%3Ctext%20text-anchor%3D%22start%22%20x%3D%225.286131790234981%22%20y%3D%22-4.844043155709956%22%20style%3D%22font-family%3A%20%26quot%3BOpen%20Sans%26quot%3B%2C%20verdana%2C%20arial%2C%20sans-serif%3B%20font-size%3A%2012px%3B%20fill%3A%20rgb(0%2C%200%2C%200)%3B%20fill-opacity%3A%200.65%3B%20white-space%3A%20pre%3B%22%20data-unformatted%3D%22Equity%2C%20EUR%22%20data-math%3D%22N%22%20transform%3D%22translate(747.6413257948573%2C62.10689681532574)%22%3EEquity%2C%20EUR%3C%2Ftext%3E%3C%2Fg%3E%3Cg%20class%3D%22angularaxistick%22%3E%3Ctext%20text-anchor%3D%22start%22%20x%3D%222.441234255562085%22%20y%3D%22-8.498010741465302%22%20style%3D%22font-family%3A%20%26quot%3BOpen%20Sans%26quot%3B%2C%20verdana%2C%20arial%2C%20sans-serif%3B%20font-size%3A%2012px%3B%20fill%3A%20rgb(0%2C%200%2C%200)%3B%20fill-opacity%3A%200.65%3B%20white-space%3A%20pre%3B%22%20data-unformatted%3D%22Equity%2C%20GBP%22%20data-math%3D%22N%22%20transform%3D%22translate(702.6271242968685%2C36.11793546310581)%22%3EEquity%2C%20GBP%3C%2Ftext%3E%3C%2Fg%3E%3Cg%20class%3D%22angularaxistick%22%3E%3Ctext%20text-anchor%3D%22end%22%20x%3D%22-0.8257748598144614%22%20y%3D%22-9.804555976569073%22%20style%3D%22font-family%3A%20%26quot%3BOpen%20Sans%26quot%3B%2C%20verdana%2C%20arial%2C%20sans-serif%3B%20font-size%3A%2012px%3B%20fill%3A%20rgb(0%2C%200%2C%200)%3B%20fill-opacity%3A%200.65%3B%20white-space%3A%20pre%3B%22%20data-unformatted%3D%22Equity%2C%20SEK%22%20data-math%3D%22N%22%20transform%3D%22translate(650.9339420915434%2C30.68476307896583)%22%3EEquity%2C%20SEK%3C%2Ftext%3E%3C%2Fg%3E%3Cg%20class%3D%22angularaxistick%22%3E%3Ctext%20text-anchor%3D%22end%22%20x%3D%22-3.9499999999999984%22%20y%3D%22-6.8200616589797205%22%20style%3D%22font-family%3A%20%26quot%3BOpen%20Sans%26quot%3B%2C%20verdana%2C%20arial%2C%20sans-serif%3B%20font-size%3A%2012px%3B%20fill%3A%20rgb(0%2C%200%2C%200)%3B%20fill-opacity%3A%200.65%3B%20white-space%3A%20pre%3B%22%20data-unformatted%3D%22Forex%2C%20CHF%22%20data-math%3D%22N%22%20transform%3D%22translate(601.5%2C46.74682452694516)%22%3EForex%2C%20CHF%3C%2Ftext%3E%3C%2Fg%3E%3Cg%20class%3D%22angularaxistick%22%3E%3Ctext%20text-anchor%3D%22end%22%20x%3D%22-6.391234255562084%22%20y%3D%22-2.656316722237696%22%20style%3D%22font-family%3A%20%26quot%3BOpen%20Sans%26quot%3B%2C%20verdana%2C%20arial%2C%20sans-serif%3B%20font-size%3A%2012px%3B%20fill%3A%20rgb(0%2C%200%2C%200)%3B%20fill-opacity%3A%200.65%3B%20white-space%3A%20pre%3B%22%20data-unformatted%3D%22Forex%2C%20DKK%22%20data-math%3D%22N%22%20transform%3D%22translate(562.8728757031316%2C81.52684346344084)%22%3EForex%2C%20DKK%3C%2Ftext%3E%3C%2Fg%3E%3Cg%20class%3D%22angularaxistick%22%3E%3Ctext%20text-anchor%3D%22end%22%20x%3D%22-7.727366045797066%22%20y%3D%221.9667295076590623%22%20style%3D%22font-family%3A%20%26quot%3BOpen%20Sans%26quot%3B%2C%20verdana%2C%20arial%2C%20sans-serif%3B%20font-size%3A%2012px%3B%20fill%3A%20rgb(0%2C%200%2C%200)%3B%20fill-opacity%3A%200.65%3B%20white-space%3A%20pre%3B%22%20data-unformatted%3D%22Forex%2C%20EUR%22%20data-math%3D%22N%22%20transform%3D%22translate(541.7315499082742%2C129.01103864778008)%22%3EForex%2C%20EUR%3C%2Ftext%3E%3C%2Fg%3E%3Cg%20class%3D%22angularaxistick%22%3E%3Ctext%20text-anchor%3D%22end%22%20x%3D%22-7.727366045797066%22%20y%3D%228.245662570355389%22%20style%3D%22font-family%3A%20%26quot%3BOpen%20Sans%26quot%3B%2C%20verdana%2C%20arial%2C%20sans-serif%3B%20font-size%3A%2012px%3B%20fill%3A%20rgb(0%2C%200%2C%200)%3B%20fill-opacity%3A%200.65%3B%20white-space%3A%20pre%3B%22%20data-unformatted%3D%22Forex%2C%20GBP%22%20data-math%3D%22N%22%20transform%3D%22translate(541.7315499082742%2C180.9889613522199)%22%3EForex%2C%20GBP%3C%2Ftext%3E%3C%2Fg%3E%3Cg%20class%3D%22angularaxistick%22%3E%3Ctext%20text-anchor%3D%22end%22%20x%3D%22-6.391234255562086%22%20y%3D%2215.094797896994992%22%20style%3D%22font-family%3A%20%26quot%3BOpen%20Sans%26quot%3B%2C%20verdana%2C%20arial%2C%20sans-serif%3B%20font-size%3A%2012px%3B%20fill%3A%20rgb(0%2C%200%2C%200)%3B%20fill-opacity%3A%200.65%3B%20white-space%3A%20pre%3B%22%20data-unformatted%3D%22Forex%2C%20SEK%22%20data-math%3D%22N%22%20transform%3D%22translate(562.8728757031315%2C228.47315653655915)%22%3EForex%2C%20SEK%3C%2Ftext%3E%3C%2Fg%3E%3Cg%20class%3D%22angularaxistick%22%3E%3Ctext%20text-anchor%3D%22end%22%20x%3D%22-3.9500000000000037%22%20y%3D%2219.333905535310326%22%20style%3D%22font-family%3A%20%26quot%3BOpen%20Sans%26quot%3B%2C%20verdana%2C%20arial%2C%20sans-serif%3B%20font-size%3A%2012px%3B%20fill%3A%20rgb(0%2C%200%2C%200)%3B%20fill-opacity%3A%200.65%3B%20white-space%3A%20pre%3B%22%20data-unformatted%3D%22Rates%20%26amp%3B%20Credit%2C%20CHF%22%20data-math%3D%22N%22%20transform%3D%22translate(601.5%2C263.2531754730548)%22%3ERates%20%26amp%3B%20Credit%2C%20CHF%3C%2Ftext%3E%3C%2Fg%3E%3Cg%20class%3D%22angularaxistick%22%3E%3Ctext%20text-anchor%3D%22end%22%20x%3D%22-0.8257748598144685%22%20y%3D%2220.230005263552783%22%20style%3D%22font-family%3A%20%26quot%3BOpen%20Sans%26quot%3B%2C%20verdana%2C%20arial%2C%20sans-serif%3B%20font-size%3A%2012px%3B%20fill%3A%20rgb(0%2C%200%2C%200)%3B%20fill-opacity%3A%200.65%3B%20white-space%3A%20pre%3B%22%20data-unformatted%3D%22Rates%20%26amp%3B%20Credit%2C%20DKK%22%20data-math%3D%22N%22%20transform%3D%22translate(650.9339420915433%2C279.31523692103417)%22%3ERates%20%26amp%3B%20Credit%2C%20DKK%3C%2Ftext%3E%3C%2Fg%3E%3Cg%20class%3D%22angularaxistick%22%3E%3Ctext%20text-anchor%3D%22start%22%20x%3D%222.441234255562083%22%20y%3D%2220.223896050648335%22%20style%3D%22font-family%3A%20%26quot%3BOpen%20Sans%26quot%3B%2C%20verdana%2C%20arial%2C%20sans-serif%3B%20font-size%3A%2012px%3B%20fill%3A%20rgb(0%2C%200%2C%200)%3B%20fill-opacity%3A%200.65%3B%20white-space%3A%20pre%3B%22%20data-unformatted%3D%22Rates%20%26amp%3B%20Credit%2C%20EUR%22%20data-math%3D%22N%22%20transform%3D%22translate(702.6271242968684%2C273.8820645368942)%22%3ERates%20%26amp%3B%20Credit%2C%20EUR%3C%2Ftext%3E%3C%2Fg%3E%3Cg%20class%3D%22angularaxistick%22%3E%3Ctext%20text-anchor%3D%22start%22%20x%3D%225.2861317902349825%22%20y%3D%2217.598930573707346%22%20style%3D%22font-family%3A%20%26quot%3BOpen%20Sans%26quot%3B%2C%20verdana%2C%20arial%2C%20sans-serif%3B%20font-size%3A%2012px%3B%20fill%3A%20rgb(0%2C%200%2C%200)%3B%20fill-opacity%3A%200.65%3B%20white-space%3A%20pre%3B%22%20data-unformatted%3D%22Rates%20%26amp%3B%20Credit%2C%20GBP%22%20data-math%3D%22N%22%20transform%3D%22translate(747.6413257948573%2C247.89310318467426)%22%3ERates%20%26amp%3B%20Credit%2C%20GBP%3C%2Ftext%3E%3C%2Fg%3E%3Cg%20class%3D%22angularaxistick%22%3E%3Ctext%20text-anchor%3D%22start%22%20x%3D%227.217009115376548%22%20y%3D%2211.930950119307346%22%20style%3D%22font-family%3A%20%26quot%3BOpen%20Sans%26quot%3B%2C%20verdana%2C%20arial%2C%20sans-serif%3B%20font-size%3A%2012px%3B%20fill%3A%20rgb(0%2C%200%2C%200)%3B%20fill-opacity%3A%200.65%3B%20white-space%3A%20pre%3B%22%20data-unformatted%3D%22Rates%20%26amp%3B%20Credit%2C%20SEK%22%20data-math%3D%22N%22%20transform%3D%22translate(778.1931822053251%2C205.84208038447503)%22%3ERates%20%26amp%3B%20Credit%2C%20SEK%3C%2Ftext%3E%3C%2Fg%3E%3C%2Fg%3E%3Cg%20class%3D%22polarsublayer%20radial-axis%22%20transform%3D%22translate(664%2C155)rotate(0)%22%3E%3Cpath%20class%3D%22xtick%20ticks%22%20style%3D%22stroke%3A%20rgb(0%2C%200%2C%200)%3B%20stroke-opacity%3A%200.1625%3B%20stroke-width%3A%201px%3B%22%20d%3D%22M0%2C0.5v5%22%20transform%3D%22translate(0%2C0)%22%2F%3E%3Cpath%20class%3D%22xtick%20ticks%22%20style%3D%22stroke%3A%20rgb(0%2C%200%2C%200)%3B%20stroke-opacity%3A%200.1625%3B%20stroke-width%3A%201px%3B%22%20d%3D%22M0%2C0.5v5%22%20transform%3D%22translate(24.06%2C0)%22%2F%3E%3Cpath%20class%3D%22xtick%20ticks%22%20style%3D%22stroke%3A%20rgb(0%2C%200%2C%200)%3B%20stroke-opacity%3A%200.1625%3B%20stroke-width%3A%201px%3B%22%20d%3D%22M0%2C0.5v5%22%20transform%3D%22translate(48.12%2C0)%22%2F%3E%3Cpath%20class%3D%22xtick%20ticks%22%20style%3D%22stroke%3A%20rgb(0%2C%200%2C%200)%3B%20stroke-opacity%3A%200.1625%3B%20stroke-width%3A%201px%3B%22%20d%3D%22M0%2C0.5v5%22%20transform%3D%22translate(72.17%2C0)%22%2F%3E%3Cpath%20class%3D%22xtick%20ticks%22%20style%3D%22stroke%3A%20rgb(0%2C%200%2C%200)%3B%20stroke-opacity%3A%200.1625%3B%20stroke-width%3A%201px%3B%22%20d%3D%22M0%2C0.5v5%22%20transform%3D%22translate(96.23%2C0)%22%2F%3E%3Cpath%20class%3D%22xtick%20ticks%22%20style%3D%22stroke%3A%20rgb(0%2C%200%2C%200)%3B%20stroke-opacity%3A%200.1625%3B%20stroke-width%3A%201px%3B%22%20d%3D%22M0%2C0.5v5%22%20transform%3D%22translate(120.29%2C0)%22%2F%3E%3Cg%20class%3D%22xtick%22%3E%3Ctext%20text-anchor%3D%22middle%22%20x%3D%220%22%20y%3D%2219.9%22%20style%3D%22font-family%3A%20%26quot%3BOpen%20Sans%26quot%3B%2C%20verdana%2C%20arial%2C%20sans-serif%3B%20font-size%3A%2012px%3B%20fill%3A%20rgb(0%2C%200%2C%200)%3B%20fill-opacity%3A%200.1625%3B%20white-space%3A%20pre%3B%22%20data-unformatted%3D%220%22%20data-math%3D%22N%22%20transform%3D%22translate(0%2C0)%22%3E0%3C%2Ftext%3E%3C%2Fg%3E%3Cg%20class%3D%22xtick%22%3E%3Ctext%20text-anchor%3D%22middle%22%20x%3D%220%22%20y%3D%2219.9%22%20style%3D%22font-family%3A%20%26quot%3BOpen%20Sans%26quot%3B%2C%20verdana%2C%20arial%2C%20sans-serif%3B%20font-size%3A%2012px%3B%20fill%3A%20rgb(0%2C%200%2C%200)%3B%20fill-opacity%3A%200.1625%3B%20white-space%3A%20pre%3B%22%20data-unformatted%3D%221%22%20data-math%3D%22N%22%20transform%3D%22translate(24.06%2C0)%22%3E1%3C%2Ftext%3E%3C%2Fg%3E%3Cg%20class%3D%22xtick%22%3E%3Ctext%20text-anchor%3D%22middle%22%20x%3D%220%22%20y%3D%2219.9%22%20style%3D%22font-family%3A%20%26quot%3BOpen%20Sans%26quot%3B%2C%20verdana%2C%20arial%2C%20sans-serif%3B%20font-size%3A%2012px%3B%20fill%3A%20rgb(0%2C%200%2C%200)%3B%20fill-opacity%3A%200.1625%3B%20white-space%3A%20pre%3B%22%20data-unformatted%3D%222%22%20data-math%3D%22N%22%20transform%3D%22translate(48.12%2C0)%22%3E2%3C%2Ftext%3E%3C%2Fg%3E%3Cg%20class%3D%22xtick%22%3E%3Ctext%20text-anchor%3D%22middle%22%20x%3D%220%22%20y%3D%2219.9%22%20style%3D%22font-family%3A%20%26quot%3BOpen%20Sans%26quot%3B%2C%20verdana%2C%20arial%2C%20sans-serif%3B%20font-size%3A%2012px%3B%20fill%3A%20rgb(0%2C%200%2C%200)%3B%20fill-opacity%3A%200.1625%3B%20white-space%3A%20pre%3B%22%20data-unformatted%3D%223%22%20data-math%3D%22N%22%20transform%3D%22translate(72.17%2C0)%22%3E3%3C%2Ftext%3E%3C%2Fg%3E%3Cg%20class%3D%22xtick%22%3E%3Ctext%20text-anchor%3D%22middle%22%20x%3D%220%22%20y%3D%2219.9%22%20style%3D%22font-family%3A%20%26quot%3BOpen%20Sans%26quot%3B%2C%20verdana%2C%20arial%2C%20sans-serif%3B%20font-size%3A%2012px%3B%20fill%3A%20rgb(0%2C%200%2C%200)%3B%20fill-opacity%3A%200.1625%3B%20white-space%3A%20pre%3B%22%20data-unformatted%3D%224%22%20data-math%3D%22N%22%20transform%3D%22translate(96.23%2C0)%22%3E4%3C%2Ftext%3E%3C%2Fg%3E%3Cg%20class%3D%22xtick%22%3E%3Ctext%20text-anchor%3D%22middle%22%20x%3D%220%22%20y%3D%2219.9%22%20style%3D%22font-family%3A%20%26quot%3BOpen%20Sans%26quot%3B%2C%20verdana%2C%20arial%2C%20sans-serif%3B%20font-size%3A%2012px%3B%20fill%3A%20rgb(0%2C%200%2C%200)%3B%20fill-opacity%3A%200.1625%3B%20white-space%3A%20pre%3B%22%20data-unformatted%3D%225%22%20data-math%3D%22N%22%20transform%3D%22translate(120.29%2C0)%22%3E5%3C%2Ftext%3E%3C%2Fg%3E%3C%2Fg%3E%3C%2Fg%3E%3C%2Fg%3E%3Cg%20class%3D%22ternarylayer%22%2F%3E%3Cg%20class%3D%22geolayer%22%2F%3E%3Cg%20class%3D%22funnelarealayer%22%2F%3E%3Cg%20class%3D%22pielayer%22%2F%3E%3Cg%20class%3D%22treemaplayer%22%2F%3E%3Cg%20class%3D%22sunburstlayer%22%2F%3E%3Cg%20class%3D%22glimages%22%2F%3E%3Cdefs%20id%3D%22topdefs-f0c3d1%22%3E%3Cg%20class%3D%22clips%22%2F%3E%3C%2Fdefs%3E%3Cg%20class%3D%22indicatorlayer%22%2F%3E%3Cg%20class%3D%22layer-above%22%3E%3Cg%20class%3D%22imagelayer%22%2F%3E%3Cg%20class%3D%22shapelayer%22%2F%3E%3C%2Fg%3E%3Cg%20class%3D%22infolayer%22%3E%3Cg%20class%3D%22g-gtitle%22%2F%3E%3Cg%20class%3D%22g-polartitle%22%2F%3E%3C%2Fg%3E%3Cg%20class%3D%22menulayer%22%2F%3E%3Cg%20class%3D%22zoomlayer%22%2F%3E%3Cg%20class%3D%22hoverlayer%22%2F%3E%3C%2Fsvg%3E\">"
      ],
      "text/plain": [
       "Open the notebook in JupyterLab with the atoti extension installed and enabled to see this widget."
      ]
     },
     "metadata": {},
     "output_type": "display_data"
    }
   ],
   "source": [
    "position_sensitivity_cube.visualize(\"Risk Map\")"
   ]
  },
  {
   "cell_type": "markdown",
   "metadata": {},
   "source": [
    "Let's start by setting up a simulation based on *tenor* and *currency*, that fluctuates the *last.VALUE*. \n",
    "We will label the curve derived from the original cube data as *Last Curve*"
   ]
  },
  {
   "cell_type": "code",
   "execution_count": 31,
   "metadata": {},
   "outputs": [],
   "source": [
    "curve_simulation = position_sensitivity_cube.setup_simulation(\n",
    "    \"Curve Simulation\",\n",
    "    levels=[lvl[\"tenor\"], lvl[\"currency\"]],\n",
    "    add=[m[\"last.VALUE\"]],\n",
    "    base_scenario=\"Last Curve\",\n",
    ")"
   ]
  },
  {
   "cell_type": "markdown",
   "metadata": {},
   "source": [
    "#### Shift Simulation  \n",
    "  \n",
    "A parallel shift in the yield curve happens when the interest rates on all fixed-income maturities increase or decrease by the same number of basis point.  \n",
    "The curve does not change but it shifts to the left or to the right. This is most common when the yield curve is upward sloping.  \n",
    "  \n",
    "This simulation is important for investors who might liquidate their positions before maturity, as the shift can cause bond prices to fluctuate substantially.  \n",
    "Investors could mitigate this risk by reducing the bond duration, alleviate the volatility.\n",
    "  \n",
    "We will simulate parallel shift in yield curve by applying a negative 10 [bps](https://www.investopedia.com/ask/answers/what-basis-point-bps/) shift on the last rate for Euro currency on all Tenor."
   ]
  },
  {
   "cell_type": "code",
   "execution_count": 32,
   "metadata": {},
   "outputs": [],
   "source": [
    "# create the scenario\n",
    "curve_shift = curve_simulation.scenarios[\"Curve Parallel Shift\"]"
   ]
  },
  {
   "cell_type": "code",
   "execution_count": 33,
   "metadata": {},
   "outputs": [],
   "source": [
    "# state the condition of the scenario. -0.001 will be added to the last.VALUE for EUR\n",
    "curve_shift += (None, \"EUR\", -0.001)"
   ]
  },
  {
   "cell_type": "code",
   "execution_count": 34,
   "metadata": {},
   "outputs": [
    {
     "data": {
      "text/html": [
       "<div>\n",
       "<style scoped>\n",
       "    .dataframe tbody tr th:only-of-type {\n",
       "        vertical-align: middle;\n",
       "    }\n",
       "\n",
       "    .dataframe tbody tr th {\n",
       "        vertical-align: top;\n",
       "    }\n",
       "\n",
       "    .dataframe thead th {\n",
       "        text-align: right;\n",
       "    }\n",
       "</style>\n",
       "<table border=\"1\" class=\"dataframe\">\n",
       "  <thead>\n",
       "    <tr style=\"text-align: right;\">\n",
       "      <th></th>\n",
       "      <th></th>\n",
       "      <th>Curve Simulation_last.VALUE_add</th>\n",
       "      <th>Priority</th>\n",
       "    </tr>\n",
       "    <tr>\n",
       "      <th>tenor</th>\n",
       "      <th>currency</th>\n",
       "      <th></th>\n",
       "      <th></th>\n",
       "    </tr>\n",
       "  </thead>\n",
       "  <tbody>\n",
       "    <tr>\n",
       "      <th>NaN</th>\n",
       "      <th>EUR</th>\n",
       "      <td>-0.001</td>\n",
       "      <td>0.0</td>\n",
       "    </tr>\n",
       "  </tbody>\n",
       "</table>\n",
       "</div>"
      ],
      "text/plain": [
       "                Curve Simulation_last.VALUE_add  Priority\n",
       "tenor currency                                           \n",
       "NaN   EUR                                -0.001       0.0"
      ]
     },
     "execution_count": 34,
     "metadata": {},
     "output_type": "execute_result"
    }
   ],
   "source": [
    "# preview the condition of the simulation\n",
    "curve_shift.head(5)"
   ]
  },
  {
   "cell_type": "markdown",
   "metadata": {},
   "source": [
    "##### Explore Curve Parallel Shift scenario impact on Theoretical PnL  \n",
    "  \n",
    "We see that while the curve retains its shape, all the data points moved to the right of the graph."
   ]
  },
  {
   "cell_type": "code",
   "execution_count": 35,
   "metadata": {
    "activeviam": {
     "state": {
      "name": "Yield Curve Curve Parallel Shift",
      "type": "container",
      "value": {
       "body": {
        "configuration": {
         "mapping": {
          "splitBy": [],
          "values": [
           "[Measures].[start_of_day.VALUE]",
           "[Measures].[last.VALUE]"
          ],
          "xAxis": [
           "[Hierarchies].[tenor].[tenor]"
          ]
         },
         "type": "plotly-line-chart"
        },
        "query": {
         "mdx": "SELECT NON EMPTY [Hierarchies].[tenor].[tenor].Members ON ROWS, NON EMPTY {[Measures].[start_of_day.VALUE], [Measures].[last.VALUE]} ON COLUMNS FROM [Position_Sensitivities] WHERE ([Measure Simulations].[Curve Simulation].[Curve Simulation].[Curve Parallel Shift], [Hierarchies].[currency].[ALL].[AllMember].[EUR]) CELL PROPERTIES VALUE, FORMATTED_VALUE, BACK_COLOR, FORE_COLOR, FONT_FLAGS",
         "serverUrl": "",
         "updateMode": "once"
        }
       },
       "containerKey": "chart",
       "showTitleBar": false,
       "style": {}
      }
     }
    },
    "atoti": {
     "height": 429,
     "state": {
      "name": "Yield Curve Curve Parallel Shift",
      "type": "container",
      "value": {
       "body": {
        "configuration": {
         "mapping": {
          "horizontal": [],
          "splitBy": [],
          "values": [
           "[Measures].[start_of_day.VALUE]",
           "[Measures].[last.VALUE]"
          ],
          "vertical": [],
          "verticalSubplots": [
           "[Measure Simulations].[Curve Simulation].[Curve Simulation]"
          ],
          "xAxis": [
           "[Hierarchies].[tenor].[tenor]"
          ]
         },
         "subplotModeEnabled": true,
         "type": "plotly-line-chart"
        },
        "query": {
         "contextValues": {},
         "mdx": "SELECT NON EMPTY {[Measures].[start_of_day.VALUE], [Measures].[last.VALUE]} ON COLUMNS, NON EMPTY Crossjoin([Hierarchies].[tenor].[tenor].Members, [Measure Simulations].[Curve Simulation].[Curve Simulation].Members) ON ROWS FROM (SELECT {[Measure Simulations].[Curve Simulation].[Curve Simulation].[Curve Parallel Shift], [Measure Simulations].[Curve Simulation].[Curve Simulation].[Last Curve]} ON COLUMNS FROM [Position_Sensitivities] WHERE [Hierarchies].[currency].[ALL].[AllMember].[EUR]) WHERE [Hierarchies].[currency].[ALL].[AllMember].[EUR] CELL PROPERTIES VALUE, FORMATTED_VALUE, BACK_COLOR, FORE_COLOR, FONT_FLAGS",
         "serverUrl": ""
        }
       },
       "containerKey": "chart",
       "showTitleBar": false,
       "style": {}
      }
     }
    }
   },
   "outputs": [
    {
     "data": {
      "application/vnd.atoti.v0+json": {
       "cube": "Position_Sensitivities",
       "error": null,
       "name": "Yield Curve Curve Parallel Shift",
       "session": "Unnamed"
      },
      "text/html": [
       "<img src=\"data:image/svg+xml;charset=utf8,%3C%3Fxml%20version%3D%221.0%22%20standalone%3D%22no%22%3F%3E%3Csvg%20xmlns%3D%22http%3A%2F%2Fwww.w3.org%2F2000%2Fsvg%22%20xmlns%3Axlink%3D%22http%3A%2F%2Fwww.w3.org%2F1999%2Fxlink%22%20viewBox%3D%220%200%201308%20429%22%3E%3Cdefs%20id%3D%22defs-393405%22%3E%3Cg%20class%3D%22clips%22%3E%3CclipPath%20id%3D%22clip393405xyplot%22%20class%3D%22plotclip%22%3E%3Crect%20width%3D%221053%22%20height%3D%22151.10526315789474%22%2F%3E%3C%2FclipPath%3E%3CclipPath%20id%3D%22clip393405xy2plot%22%20class%3D%22plotclip%22%3E%3Crect%20width%3D%221053%22%20height%3D%22151.10526315789474%22%2F%3E%3C%2FclipPath%3E%3CclipPath%20class%3D%22axesclip%22%20id%3D%22clip393405x%22%3E%3Crect%20x%3D%2280%22%20y%3D%220%22%20width%3D%221053%22%20height%3D%22429%22%2F%3E%3C%2FclipPath%3E%3CclipPath%20class%3D%22axesclip%22%20id%3D%22clip393405y%22%3E%3Crect%20x%3D%220%22%20y%3D%2230%22%20width%3D%221308%22%20height%3D%22151.10526315789474%22%2F%3E%3C%2FclipPath%3E%3CclipPath%20class%3D%22axesclip%22%20id%3D%22clip393405xy%22%3E%3Crect%20x%3D%2280%22%20y%3D%2230%22%20width%3D%221053%22%20height%3D%22151.10526315789474%22%2F%3E%3C%2FclipPath%3E%3CclipPath%20class%3D%22axesclip%22%20id%3D%22clip393405y2%22%3E%3Crect%20x%3D%220%22%20y%3D%22197.8947368421053%22%20width%3D%221308%22%20height%3D%22151.10526315789474%22%2F%3E%3C%2FclipPath%3E%3CclipPath%20class%3D%22axesclip%22%20id%3D%22clip393405xy2%22%3E%3Crect%20x%3D%2280%22%20y%3D%22197.8947368421053%22%20width%3D%221053%22%20height%3D%22151.10526315789474%22%2F%3E%3C%2FclipPath%3E%3C%2Fg%3E%3Cg%20class%3D%22gradients%22%2F%3E%3C%2Fdefs%3E%3Cg%20class%3D%22bglayer%22%2F%3E%3Cg%20class%3D%22draglayer%20cursor-crosshair%22%3E%3Cg%20class%3D%22xy%22%3E%3Crect%20class%3D%22nsewdrag%20drag%22%20style%3D%22fill%3A%20transparent%3B%20stroke-width%3A%200px%3B%20pointer-events%3A%20all%3B%22%20data-subplot%3D%22xy%22%20x%3D%2280%22%20y%3D%2230%22%20width%3D%221053%22%20height%3D%22151.10526315789474%22%2F%3E%3Crect%20class%3D%22nwdrag%20drag%20cursor-nw-resize%22%20style%3D%22fill%3A%20transparent%3B%20stroke-width%3A%200px%3B%20pointer-events%3A%20all%3B%22%20data-subplot%3D%22xy%22%20x%3D%2260%22%20y%3D%2210%22%20width%3D%2220%22%20height%3D%2220%22%2F%3E%3Crect%20class%3D%22nedrag%20drag%20cursor-ne-resize%22%20style%3D%22fill%3A%20transparent%3B%20stroke-width%3A%200px%3B%20pointer-events%3A%20all%3B%22%20data-subplot%3D%22xy%22%20x%3D%221133%22%20y%3D%2210%22%20width%3D%2220%22%20height%3D%2220%22%2F%3E%3Crect%20class%3D%22swdrag%20drag%20cursor-sw-resize%22%20style%3D%22fill%3A%20transparent%3B%20stroke-width%3A%200px%3B%20pointer-events%3A%20all%3B%22%20data-subplot%3D%22xy%22%20x%3D%2260%22%20y%3D%22181.10526315789474%22%20width%3D%2220%22%20height%3D%2220%22%2F%3E%3Crect%20class%3D%22sedrag%20drag%20cursor-se-resize%22%20style%3D%22fill%3A%20transparent%3B%20stroke-width%3A%200px%3B%20pointer-events%3A%20all%3B%22%20data-subplot%3D%22xy%22%20x%3D%221133%22%20y%3D%22181.10526315789474%22%20width%3D%2220%22%20height%3D%2220%22%2F%3E%3Crect%20class%3D%22nsdrag%20drag%20cursor-ns-resize%22%20style%3D%22fill%3A%20transparent%3B%20stroke-width%3A%200px%3B%20pointer-events%3A%20all%3B%22%20data-subplot%3D%22xy%22%20x%3D%2259.5%22%20y%3D%2245.11052631578947%22%20width%3D%2220%22%20height%3D%22120.8842105263158%22%2F%3E%3Crect%20class%3D%22sdrag%20drag%20cursor-s-resize%22%20style%3D%22fill%3A%20transparent%3B%20stroke-width%3A%200px%3B%20pointer-events%3A%20all%3B%22%20data-subplot%3D%22xy%22%20x%3D%2259.5%22%20y%3D%22165.99473684210528%22%20width%3D%2220%22%20height%3D%2215.110526315789475%22%2F%3E%3Crect%20class%3D%22ndrag%20drag%20cursor-n-resize%22%20style%3D%22fill%3A%20transparent%3B%20stroke-width%3A%200px%3B%20pointer-events%3A%20all%3B%22%20data-subplot%3D%22xy%22%20x%3D%2259.5%22%20y%3D%2230%22%20width%3D%2220%22%20height%3D%2215.110526315789475%22%2F%3E%3C%2Fg%3E%3Cg%20class%3D%22xy2%22%3E%3Crect%20class%3D%22nsewdrag%20drag%22%20style%3D%22fill%3A%20transparent%3B%20stroke-width%3A%200px%3B%20pointer-events%3A%20all%3B%22%20data-subplot%3D%22xy2%22%20x%3D%2280%22%20y%3D%22197.8947368421053%22%20width%3D%221053%22%20height%3D%22151.10526315789474%22%2F%3E%3Crect%20class%3D%22nwdrag%20drag%20cursor-nw-resize%22%20style%3D%22fill%3A%20transparent%3B%20stroke-width%3A%200px%3B%20pointer-events%3A%20all%3B%22%20data-subplot%3D%22xy2%22%20x%3D%2260%22%20y%3D%22177.8947368421053%22%20width%3D%2220%22%20height%3D%2220%22%2F%3E%3Crect%20class%3D%22nedrag%20drag%20cursor-ne-resize%22%20style%3D%22fill%3A%20transparent%3B%20stroke-width%3A%200px%3B%20pointer-events%3A%20all%3B%22%20data-subplot%3D%22xy2%22%20x%3D%221133%22%20y%3D%22177.8947368421053%22%20width%3D%2220%22%20height%3D%2220%22%2F%3E%3Crect%20class%3D%22swdrag%20drag%20cursor-sw-resize%22%20style%3D%22fill%3A%20transparent%3B%20stroke-width%3A%200px%3B%20pointer-events%3A%20all%3B%22%20data-subplot%3D%22xy2%22%20x%3D%2260%22%20y%3D%22349%22%20width%3D%2220%22%20height%3D%2220%22%2F%3E%3Crect%20class%3D%22sedrag%20drag%20cursor-se-resize%22%20style%3D%22fill%3A%20transparent%3B%20stroke-width%3A%200px%3B%20pointer-events%3A%20all%3B%22%20data-subplot%3D%22xy2%22%20x%3D%221133%22%20y%3D%22349%22%20width%3D%2220%22%20height%3D%2220%22%2F%3E%3Crect%20class%3D%22ewdrag%20drag%20cursor-ew-resize%22%20style%3D%22fill%3A%20transparent%3B%20stroke-width%3A%200px%3B%20pointer-events%3A%20all%3B%22%20data-subplot%3D%22xy2%22%20x%3D%22185.3%22%20y%3D%22349.5%22%20width%3D%22842.4000000000001%22%20height%3D%2220%22%2F%3E%3Crect%20class%3D%22wdrag%20drag%20cursor-w-resize%22%20style%3D%22fill%3A%20transparent%3B%20stroke-width%3A%200px%3B%20pointer-events%3A%20all%3B%22%20data-subplot%3D%22xy2%22%20x%3D%2280%22%20y%3D%22349.5%22%20width%3D%22105.30000000000001%22%20height%3D%2220%22%2F%3E%3Crect%20class%3D%22edrag%20drag%20cursor-e-resize%22%20style%3D%22fill%3A%20transparent%3B%20stroke-width%3A%200px%3B%20pointer-events%3A%20all%3B%22%20data-subplot%3D%22xy2%22%20x%3D%221027.7%22%20y%3D%22349.5%22%20width%3D%22105.30000000000001%22%20height%3D%2220%22%2F%3E%3Crect%20class%3D%22nsdrag%20drag%20cursor-ns-resize%22%20style%3D%22fill%3A%20transparent%3B%20stroke-width%3A%200px%3B%20pointer-events%3A%20all%3B%22%20data-subplot%3D%22xy2%22%20x%3D%2259.5%22%20y%3D%22213.00526315789477%22%20width%3D%2220%22%20height%3D%22120.8842105263158%22%2F%3E%3Crect%20class%3D%22sdrag%20drag%20cursor-s-resize%22%20style%3D%22fill%3A%20transparent%3B%20stroke-width%3A%200px%3B%20pointer-events%3A%20all%3B%22%20data-subplot%3D%22xy2%22%20x%3D%2259.5%22%20y%3D%22333.88947368421054%22%20width%3D%2220%22%20height%3D%2215.110526315789475%22%2F%3E%3Crect%20class%3D%22ndrag%20drag%20cursor-n-resize%22%20style%3D%22fill%3A%20transparent%3B%20stroke-width%3A%200px%3B%20pointer-events%3A%20all%3B%22%20data-subplot%3D%22xy2%22%20x%3D%2259.5%22%20y%3D%22197.8947368421053%22%20width%3D%2220%22%20height%3D%2215.110526315789475%22%2F%3E%3C%2Fg%3E%3C%2Fg%3E%3Cg%20class%3D%22layer-below%22%3E%3Cg%20class%3D%22imagelayer%22%2F%3E%3Cg%20class%3D%22shapelayer%22%2F%3E%3C%2Fg%3E%3Cg%20class%3D%22cartesianlayer%22%3E%3Cg%20class%3D%22subplot%20xy%22%3E%3Cg%20class%3D%22layer-subplot%22%3E%3Cg%20class%3D%22shapelayer%22%2F%3E%3Cg%20class%3D%22imagelayer%22%2F%3E%3C%2Fg%3E%3Cg%20class%3D%22gridlayer%22%3E%3Cg%20class%3D%22x%22%3E%3Cpath%20class%3D%22xgrid%20crisp%22%20transform%3D%22translate(136.4%2C0)%22%20d%3D%22M0%2C30v151.10526315789474%22%20style%3D%22stroke%3A%20rgb(0%2C%200%2C%200)%3B%20stroke-opacity%3A%200.1625%3B%20stroke-width%3A%201px%3B%22%2F%3E%3Cpath%20class%3D%22xgrid%20crisp%22%20transform%3D%22translate(253.92%2C0)%22%20d%3D%22M0%2C30v151.10526315789474%22%20style%3D%22stroke%3A%20rgb(0%2C%200%2C%200)%3B%20stroke-opacity%3A%200.1625%3B%20stroke-width%3A%201px%3B%22%2F%3E%3Cpath%20class%3D%22xgrid%20crisp%22%20transform%3D%22translate(371.45%2C0)%22%20d%3D%22M0%2C30v151.10526315789474%22%20style%3D%22stroke%3A%20rgb(0%2C%200%2C%200)%3B%20stroke-opacity%3A%200.1625%3B%20stroke-width%3A%201px%3B%22%2F%3E%3Cpath%20class%3D%22xgrid%20crisp%22%20transform%3D%22translate(488.97%2C0)%22%20d%3D%22M0%2C30v151.10526315789474%22%20style%3D%22stroke%3A%20rgb(0%2C%200%2C%200)%3B%20stroke-opacity%3A%200.1625%3B%20stroke-width%3A%201px%3B%22%2F%3E%3Cpath%20class%3D%22xgrid%20crisp%22%20transform%3D%22translate(606.5%2C0)%22%20d%3D%22M0%2C30v151.10526315789474%22%20style%3D%22stroke%3A%20rgb(0%2C%200%2C%200)%3B%20stroke-opacity%3A%200.1625%3B%20stroke-width%3A%201px%3B%22%2F%3E%3Cpath%20class%3D%22xgrid%20crisp%22%20transform%3D%22translate(724.02%2C0)%22%20d%3D%22M0%2C30v151.10526315789474%22%20style%3D%22stroke%3A%20rgb(0%2C%200%2C%200)%3B%20stroke-opacity%3A%200.1625%3B%20stroke-width%3A%201px%3B%22%2F%3E%3Cpath%20class%3D%22xgrid%20crisp%22%20transform%3D%22translate(841.55%2C0)%22%20d%3D%22M0%2C30v151.10526315789474%22%20style%3D%22stroke%3A%20rgb(0%2C%200%2C%200)%3B%20stroke-opacity%3A%200.1625%3B%20stroke-width%3A%201px%3B%22%2F%3E%3Cpath%20class%3D%22xgrid%20crisp%22%20transform%3D%22translate(959.07%2C0)%22%20d%3D%22M0%2C30v151.10526315789474%22%20style%3D%22stroke%3A%20rgb(0%2C%200%2C%200)%3B%20stroke-opacity%3A%200.1625%3B%20stroke-width%3A%201px%3B%22%2F%3E%3Cpath%20class%3D%22xgrid%20crisp%22%20transform%3D%22translate(1076.6%2C0)%22%20d%3D%22M0%2C30v151.10526315789474%22%20style%3D%22stroke%3A%20rgb(0%2C%200%2C%200)%3B%20stroke-opacity%3A%200.1625%3B%20stroke-width%3A%201px%3B%22%2F%3E%3C%2Fg%3E%3Cg%20class%3D%22y%22%3E%3Cpath%20class%3D%22ygrid%20crisp%22%20transform%3D%22translate(0%2C169.8)%22%20d%3D%22M80%2C0h1053%22%20style%3D%22stroke%3A%20rgb(0%2C%200%2C%200)%3B%20stroke-opacity%3A%200.1625%3B%20stroke-width%3A%201px%3B%22%2F%3E%3Cpath%20class%3D%22ygrid%20crisp%22%20transform%3D%22translate(0%2C106.19)%22%20d%3D%22M80%2C0h1053%22%20style%3D%22stroke%3A%20rgb(0%2C%200%2C%200)%3B%20stroke-opacity%3A%200.1625%3B%20stroke-width%3A%201px%3B%22%2F%3E%3Cpath%20class%3D%22ygrid%20crisp%22%20transform%3D%22translate(0%2C42.58)%22%20d%3D%22M80%2C0h1053%22%20style%3D%22stroke%3A%20rgb(0%2C%200%2C%200)%3B%20stroke-opacity%3A%200.1625%3B%20stroke-width%3A%201px%3B%22%2F%3E%3C%2Fg%3E%3C%2Fg%3E%3Cg%20class%3D%22zerolinelayer%22%2F%3E%3Cpath%20class%3D%22xlines-below%22%2F%3E%3Cpath%20class%3D%22ylines-below%22%2F%3E%3Cg%20class%3D%22overlines-below%22%2F%3E%3Cg%20class%3D%22xaxislayer-below%22%2F%3E%3Cg%20class%3D%22yaxislayer-below%22%2F%3E%3Cg%20class%3D%22overaxes-below%22%2F%3E%3Cg%20class%3D%22plot%22%20transform%3D%22translate(80%2C%2030)%22%20clip-path%3D%22url('%23clip393405xyplot')%22%3E%3Cg%20class%3D%22scatterlayer%20mlayer%22%3E%3Cg%20class%3D%22trace%20scatter%20tracea209ea%22%20style%3D%22stroke-miterlimit%3A%202%3B%20opacity%3A%201%3B%22%3E%3Cg%20class%3D%22fills%22%2F%3E%3Cg%20class%3D%22errorbars%22%2F%3E%3Cg%20class%3D%22lines%22%3E%3Cpath%20class%3D%22js-line%22%20style%3D%22vector-effect%3A%20non-scaling-stroke%3B%20fill%3A%20none%3B%20stroke%3A%20rgb(78%2C%20121%2C%20167)%3B%20stroke-opacity%3A%201%3B%20stroke-width%3A%202px%3B%20opacity%3A%201%3B%22%20d%3D%22M56.4%2C139.8L173.92%2C76.19L291.45%2C63.47L761.55%2C12.58L879.07%2C12.58L996.6%2C12.58%22%2F%3E%3C%2Fg%3E%3Cg%20class%3D%22points%22%3E%3Cpath%20class%3D%22point%22%20transform%3D%22translate(56.4%2C139.8)%22%20style%3D%22opacity%3A%201%3B%20stroke-width%3A%200px%3B%20fill%3A%20rgb(78%2C%20121%2C%20167)%3B%20fill-opacity%3A%201%3B%22%20d%3D%22M3%2C0A3%2C3%200%201%2C1%200%2C-3A3%2C3%200%200%2C1%203%2C0Z%22%2F%3E%3Cpath%20class%3D%22point%22%20transform%3D%22translate(173.92%2C76.19)%22%20style%3D%22opacity%3A%201%3B%20stroke-width%3A%200px%3B%20fill%3A%20rgb(78%2C%20121%2C%20167)%3B%20fill-opacity%3A%201%3B%22%20d%3D%22M3%2C0A3%2C3%200%201%2C1%200%2C-3A3%2C3%200%200%2C1%203%2C0Z%22%2F%3E%3Cpath%20class%3D%22point%22%20transform%3D%22translate(291.45%2C63.47)%22%20style%3D%22opacity%3A%201%3B%20stroke-width%3A%200px%3B%20fill%3A%20rgb(78%2C%20121%2C%20167)%3B%20fill-opacity%3A%201%3B%22%20d%3D%22M3%2C0A3%2C3%200%201%2C1%200%2C-3A3%2C3%200%200%2C1%203%2C0Z%22%2F%3E%3Cpath%20class%3D%22point%22%20transform%3D%22translate(408.97%2C50.74)%22%20style%3D%22opacity%3A%201%3B%20stroke-width%3A%200px%3B%20fill%3A%20rgb(78%2C%20121%2C%20167)%3B%20fill-opacity%3A%201%3B%22%20d%3D%22M3%2C0A3%2C3%200%201%2C1%200%2C-3A3%2C3%200%200%2C1%203%2C0Z%22%2F%3E%3Cpath%20class%3D%22point%22%20transform%3D%22translate(526.5%2C38.02)%22%20style%3D%22opacity%3A%201%3B%20stroke-width%3A%200px%3B%20fill%3A%20rgb(78%2C%20121%2C%20167)%3B%20fill-opacity%3A%201%3B%22%20d%3D%22M3%2C0A3%2C3%200%201%2C1%200%2C-3A3%2C3%200%200%2C1%203%2C0Z%22%2F%3E%3Cpath%20class%3D%22point%22%20transform%3D%22translate(644.02%2C25.3)%22%20style%3D%22opacity%3A%201%3B%20stroke-width%3A%200px%3B%20fill%3A%20rgb(78%2C%20121%2C%20167)%3B%20fill-opacity%3A%201%3B%22%20d%3D%22M3%2C0A3%2C3%200%201%2C1%200%2C-3A3%2C3%200%200%2C1%203%2C0Z%22%2F%3E%3Cpath%20class%3D%22point%22%20transform%3D%22translate(761.55%2C12.58)%22%20style%3D%22opacity%3A%201%3B%20stroke-width%3A%200px%3B%20fill%3A%20rgb(78%2C%20121%2C%20167)%3B%20fill-opacity%3A%201%3B%22%20d%3D%22M3%2C0A3%2C3%200%201%2C1%200%2C-3A3%2C3%200%200%2C1%203%2C0Z%22%2F%3E%3Cpath%20class%3D%22point%22%20transform%3D%22translate(879.07%2C12.58)%22%20style%3D%22opacity%3A%201%3B%20stroke-width%3A%200px%3B%20fill%3A%20rgb(78%2C%20121%2C%20167)%3B%20fill-opacity%3A%201%3B%22%20d%3D%22M3%2C0A3%2C3%200%201%2C1%200%2C-3A3%2C3%200%200%2C1%203%2C0Z%22%2F%3E%3Cpath%20class%3D%22point%22%20transform%3D%22translate(996.6%2C12.58)%22%20style%3D%22opacity%3A%201%3B%20stroke-width%3A%200px%3B%20fill%3A%20rgb(78%2C%20121%2C%20167)%3B%20fill-opacity%3A%201%3B%22%20d%3D%22M3%2C0A3%2C3%200%201%2C1%200%2C-3A3%2C3%200%200%2C1%203%2C0Z%22%2F%3E%3C%2Fg%3E%3Cg%20class%3D%22text%22%2F%3E%3C%2Fg%3E%3Cg%20class%3D%22trace%20scatter%20trace3bfaa7%22%20style%3D%22stroke-miterlimit%3A%202%3B%20opacity%3A%201%3B%22%3E%3Cg%20class%3D%22fills%22%2F%3E%3Cg%20class%3D%22errorbars%22%2F%3E%3Cg%20class%3D%22lines%22%3E%3Cpath%20class%3D%22js-line%22%20style%3D%22vector-effect%3A%20non-scaling-stroke%3B%20fill%3A%20none%3B%20stroke%3A%20rgb(242%2C%20142%2C%2044)%3B%20stroke-opacity%3A%201%3B%20stroke-width%3A%202px%3B%20opacity%3A%201%3B%22%20d%3D%22M56.4%2C138.53L173.92%2C74.92L291.45%2C62.19L761.55%2C11.31L879.07%2C11.31L996.6%2C11.31%22%2F%3E%3C%2Fg%3E%3Cg%20class%3D%22points%22%3E%3Cpath%20class%3D%22point%22%20transform%3D%22translate(56.4%2C138.53)%22%20style%3D%22opacity%3A%201%3B%20stroke-width%3A%200px%3B%20fill%3A%20rgb(242%2C%20142%2C%2044)%3B%20fill-opacity%3A%201%3B%22%20d%3D%22M3%2C0A3%2C3%200%201%2C1%200%2C-3A3%2C3%200%200%2C1%203%2C0Z%22%2F%3E%3Cpath%20class%3D%22point%22%20transform%3D%22translate(173.92%2C74.92)%22%20style%3D%22opacity%3A%201%3B%20stroke-width%3A%200px%3B%20fill%3A%20rgb(242%2C%20142%2C%2044)%3B%20fill-opacity%3A%201%3B%22%20d%3D%22M3%2C0A3%2C3%200%201%2C1%200%2C-3A3%2C3%200%200%2C1%203%2C0Z%22%2F%3E%3Cpath%20class%3D%22point%22%20transform%3D%22translate(291.45%2C62.19)%22%20style%3D%22opacity%3A%201%3B%20stroke-width%3A%200px%3B%20fill%3A%20rgb(242%2C%20142%2C%2044)%3B%20fill-opacity%3A%201%3B%22%20d%3D%22M3%2C0A3%2C3%200%201%2C1%200%2C-3A3%2C3%200%200%2C1%203%2C0Z%22%2F%3E%3Cpath%20class%3D%22point%22%20transform%3D%22translate(408.97%2C49.47)%22%20style%3D%22opacity%3A%201%3B%20stroke-width%3A%200px%3B%20fill%3A%20rgb(242%2C%20142%2C%2044)%3B%20fill-opacity%3A%201%3B%22%20d%3D%22M3%2C0A3%2C3%200%201%2C1%200%2C-3A3%2C3%200%200%2C1%203%2C0Z%22%2F%3E%3Cpath%20class%3D%22point%22%20transform%3D%22translate(526.5%2C36.75)%22%20style%3D%22opacity%3A%201%3B%20stroke-width%3A%200px%3B%20fill%3A%20rgb(242%2C%20142%2C%2044)%3B%20fill-opacity%3A%201%3B%22%20d%3D%22M3%2C0A3%2C3%200%201%2C1%200%2C-3A3%2C3%200%200%2C1%203%2C0Z%22%2F%3E%3Cpath%20class%3D%22point%22%20transform%3D%22translate(644.02%2C24.03)%22%20style%3D%22opacity%3A%201%3B%20stroke-width%3A%200px%3B%20fill%3A%20rgb(242%2C%20142%2C%2044)%3B%20fill-opacity%3A%201%3B%22%20d%3D%22M3%2C0A3%2C3%200%201%2C1%200%2C-3A3%2C3%200%200%2C1%203%2C0Z%22%2F%3E%3Cpath%20class%3D%22point%22%20transform%3D%22translate(761.55%2C11.31)%22%20style%3D%22opacity%3A%201%3B%20stroke-width%3A%200px%3B%20fill%3A%20rgb(242%2C%20142%2C%2044)%3B%20fill-opacity%3A%201%3B%22%20d%3D%22M3%2C0A3%2C3%200%201%2C1%200%2C-3A3%2C3%200%200%2C1%203%2C0Z%22%2F%3E%3Cpath%20class%3D%22point%22%20transform%3D%22translate(879.07%2C11.31)%22%20style%3D%22opacity%3A%201%3B%20stroke-width%3A%200px%3B%20fill%3A%20rgb(242%2C%20142%2C%2044)%3B%20fill-opacity%3A%201%3B%22%20d%3D%22M3%2C0A3%2C3%200%201%2C1%200%2C-3A3%2C3%200%200%2C1%203%2C0Z%22%2F%3E%3Cpath%20class%3D%22point%22%20transform%3D%22translate(996.6%2C11.31)%22%20style%3D%22opacity%3A%201%3B%20stroke-width%3A%200px%3B%20fill%3A%20rgb(242%2C%20142%2C%2044)%3B%20fill-opacity%3A%201%3B%22%20d%3D%22M3%2C0A3%2C3%200%201%2C1%200%2C-3A3%2C3%200%200%2C1%203%2C0Z%22%2F%3E%3C%2Fg%3E%3Cg%20class%3D%22text%22%2F%3E%3C%2Fg%3E%3C%2Fg%3E%3C%2Fg%3E%3Cg%20class%3D%22overplot%22%2F%3E%3Cpath%20class%3D%22xlines-above%20crisp%22%20style%3D%22fill%3A%20none%3B%22%20d%3D%22M0%2C0%22%2F%3E%3Cpath%20class%3D%22ylines-above%20crisp%22%20style%3D%22fill%3A%20none%3B%20stroke-width%3A%201px%3B%20stroke%3A%20rgb(0%2C%200%2C%200)%3B%20stroke-opacity%3A%200.1625%3B%22%20d%3D%22M79.5%2C30V181.10526315789474%22%2F%3E%3Cg%20class%3D%22overlines-above%22%2F%3E%3Cg%20class%3D%22xaxislayer-above%22%2F%3E%3Cg%20class%3D%22yaxislayer-above%22%3E%3Cg%20class%3D%22ytick%22%3E%3Ctext%20text-anchor%3D%22end%22%20x%3D%2276.6%22%20y%3D%224.199999999999999%22%20style%3D%22font-family%3A%20%26quot%3BOpen%20Sans%26quot%3B%2C%20verdana%2C%20arial%2C%20sans-serif%3B%20font-size%3A%2012px%3B%20fill%3A%20rgb(0%2C%200%2C%200)%3B%20fill-opacity%3A%200.65%3B%20white-space%3A%20pre%3B%22%20data-unformatted%3D%220.01%22%20data-math%3D%22N%22%20transform%3D%22translate(0%2C169.8)%22%3E0.01%3C%2Ftext%3E%3C%2Fg%3E%3Cg%20class%3D%22ytick%22%3E%3Ctext%20text-anchor%3D%22end%22%20x%3D%2276.6%22%20y%3D%224.199999999999999%22%20style%3D%22font-family%3A%20%26quot%3BOpen%20Sans%26quot%3B%2C%20verdana%2C%20arial%2C%20sans-serif%3B%20font-size%3A%2012px%3B%20fill%3A%20rgb(0%2C%200%2C%200)%3B%20fill-opacity%3A%200.65%3B%20white-space%3A%20pre%3B%22%20data-unformatted%3D%220.015%22%20data-math%3D%22N%22%20transform%3D%22translate(0%2C106.19)%22%3E0.015%3C%2Ftext%3E%3C%2Fg%3E%3Cg%20class%3D%22ytick%22%3E%3Ctext%20text-anchor%3D%22end%22%20x%3D%2276.6%22%20y%3D%224.199999999999999%22%20style%3D%22font-family%3A%20%26quot%3BOpen%20Sans%26quot%3B%2C%20verdana%2C%20arial%2C%20sans-serif%3B%20font-size%3A%2012px%3B%20fill%3A%20rgb(0%2C%200%2C%200)%3B%20fill-opacity%3A%200.65%3B%20white-space%3A%20pre%3B%22%20data-unformatted%3D%220.02%22%20data-math%3D%22N%22%20transform%3D%22translate(0%2C42.58)%22%3E0.02%3C%2Ftext%3E%3C%2Fg%3E%3C%2Fg%3E%3Cg%20class%3D%22overaxes-above%22%2F%3E%3C%2Fg%3E%3Cg%20class%3D%22subplot%20xy2%22%3E%3Cg%20class%3D%22layer-subplot%22%3E%3Cg%20class%3D%22shapelayer%22%2F%3E%3Cg%20class%3D%22imagelayer%22%2F%3E%3C%2Fg%3E%3Cg%20class%3D%22gridlayer%22%3E%3Cg%20class%3D%22x%22%3E%3Cpath%20class%3D%22xgrid%20crisp%22%20transform%3D%22translate(136.4%2C0)%22%20d%3D%22M0%2C197.8947368421053v151.10526315789474%22%20style%3D%22stroke%3A%20rgb(0%2C%200%2C%200)%3B%20stroke-opacity%3A%200.1625%3B%20stroke-width%3A%201px%3B%22%2F%3E%3Cpath%20class%3D%22xgrid%20crisp%22%20transform%3D%22translate(253.92%2C0)%22%20d%3D%22M0%2C197.8947368421053v151.10526315789474%22%20style%3D%22stroke%3A%20rgb(0%2C%200%2C%200)%3B%20stroke-opacity%3A%200.1625%3B%20stroke-width%3A%201px%3B%22%2F%3E%3Cpath%20class%3D%22xgrid%20crisp%22%20transform%3D%22translate(371.45%2C0)%22%20d%3D%22M0%2C197.8947368421053v151.10526315789474%22%20style%3D%22stroke%3A%20rgb(0%2C%200%2C%200)%3B%20stroke-opacity%3A%200.1625%3B%20stroke-width%3A%201px%3B%22%2F%3E%3Cpath%20class%3D%22xgrid%20crisp%22%20transform%3D%22translate(488.97%2C0)%22%20d%3D%22M0%2C197.8947368421053v151.10526315789474%22%20style%3D%22stroke%3A%20rgb(0%2C%200%2C%200)%3B%20stroke-opacity%3A%200.1625%3B%20stroke-width%3A%201px%3B%22%2F%3E%3Cpath%20class%3D%22xgrid%20crisp%22%20transform%3D%22translate(606.5%2C0)%22%20d%3D%22M0%2C197.8947368421053v151.10526315789474%22%20style%3D%22stroke%3A%20rgb(0%2C%200%2C%200)%3B%20stroke-opacity%3A%200.1625%3B%20stroke-width%3A%201px%3B%22%2F%3E%3Cpath%20class%3D%22xgrid%20crisp%22%20transform%3D%22translate(724.02%2C0)%22%20d%3D%22M0%2C197.8947368421053v151.10526315789474%22%20style%3D%22stroke%3A%20rgb(0%2C%200%2C%200)%3B%20stroke-opacity%3A%200.1625%3B%20stroke-width%3A%201px%3B%22%2F%3E%3Cpath%20class%3D%22xgrid%20crisp%22%20transform%3D%22translate(841.55%2C0)%22%20d%3D%22M0%2C197.8947368421053v151.10526315789474%22%20style%3D%22stroke%3A%20rgb(0%2C%200%2C%200)%3B%20stroke-opacity%3A%200.1625%3B%20stroke-width%3A%201px%3B%22%2F%3E%3Cpath%20class%3D%22xgrid%20crisp%22%20transform%3D%22translate(959.07%2C0)%22%20d%3D%22M0%2C197.8947368421053v151.10526315789474%22%20style%3D%22stroke%3A%20rgb(0%2C%200%2C%200)%3B%20stroke-opacity%3A%200.1625%3B%20stroke-width%3A%201px%3B%22%2F%3E%3Cpath%20class%3D%22xgrid%20crisp%22%20transform%3D%22translate(1076.6%2C0)%22%20d%3D%22M0%2C197.8947368421053v151.10526315789474%22%20style%3D%22stroke%3A%20rgb(0%2C%200%2C%200)%3B%20stroke-opacity%3A%200.1625%3B%20stroke-width%3A%201px%3B%22%2F%3E%3C%2Fg%3E%3Cg%20class%3D%22y2%22%3E%3Cpath%20class%3D%22y2grid%20crisp%22%20transform%3D%22translate(0%2C327.08473684210526)%22%20d%3D%22M80%2C0h1053%22%20style%3D%22stroke%3A%20rgb(238%2C%20238%2C%20238)%3B%20stroke-opacity%3A%201%3B%20stroke-width%3A%201px%3B%22%2F%3E%3Cpath%20class%3D%22y2grid%20crisp%22%20transform%3D%22translate(0%2C268.1447368421053)%22%20d%3D%22M80%2C0h1053%22%20style%3D%22stroke%3A%20rgb(238%2C%20238%2C%20238)%3B%20stroke-opacity%3A%201%3B%20stroke-width%3A%201px%3B%22%2F%3E%3Cpath%20class%3D%22y2grid%20crisp%22%20transform%3D%22translate(0%2C209.2047368421053)%22%20d%3D%22M80%2C0h1053%22%20style%3D%22stroke%3A%20rgb(238%2C%20238%2C%20238)%3B%20stroke-opacity%3A%201%3B%20stroke-width%3A%201px%3B%22%2F%3E%3C%2Fg%3E%3C%2Fg%3E%3Cg%20class%3D%22zerolinelayer%22%2F%3E%3Cpath%20class%3D%22xlines-below%22%2F%3E%3Cpath%20class%3D%22ylines-below%22%2F%3E%3Cg%20class%3D%22overlines-below%22%2F%3E%3Cg%20class%3D%22xaxislayer-below%22%2F%3E%3Cg%20class%3D%22yaxislayer-below%22%2F%3E%3Cg%20class%3D%22overaxes-below%22%2F%3E%3Cg%20class%3D%22plot%22%20transform%3D%22translate(80%2C%20197.8947368421053)%22%20clip-path%3D%22url('%23clip393405xy2plot')%22%3E%3Cg%20class%3D%22scatterlayer%20mlayer%22%3E%3Cg%20class%3D%22trace%20scatter%20trace99c361%22%20style%3D%22stroke-miterlimit%3A%202%3B%20opacity%3A%201%3B%22%3E%3Cg%20class%3D%22fills%22%2F%3E%3Cg%20class%3D%22errorbars%22%2F%3E%3Cg%20class%3D%22lines%22%3E%3Cpath%20class%3D%22js-line%22%20style%3D%22vector-effect%3A%20non-scaling-stroke%3B%20fill%3A%20none%3B%20stroke%3A%20rgb(78%2C%20121%2C%20167)%3B%20stroke-opacity%3A%201%3B%20stroke-width%3A%202px%3B%20opacity%3A%201%3B%22%20d%3D%22M56.4%2C129.19L173.92%2C70.25L291.45%2C58.46L761.55%2C11.31L879.07%2C11.31L996.6%2C11.31%22%2F%3E%3C%2Fg%3E%3Cg%20class%3D%22points%22%3E%3Cpath%20class%3D%22point%22%20transform%3D%22translate(56.4%2C129.19)%22%20style%3D%22opacity%3A%201%3B%20stroke-width%3A%200px%3B%20fill%3A%20rgb(78%2C%20121%2C%20167)%3B%20fill-opacity%3A%201%3B%22%20d%3D%22M3%2C0A3%2C3%200%201%2C1%200%2C-3A3%2C3%200%200%2C1%203%2C0Z%22%2F%3E%3Cpath%20class%3D%22point%22%20transform%3D%22translate(173.92%2C70.25)%22%20style%3D%22opacity%3A%201%3B%20stroke-width%3A%200px%3B%20fill%3A%20rgb(78%2C%20121%2C%20167)%3B%20fill-opacity%3A%201%3B%22%20d%3D%22M3%2C0A3%2C3%200%201%2C1%200%2C-3A3%2C3%200%200%2C1%203%2C0Z%22%2F%3E%3Cpath%20class%3D%22point%22%20transform%3D%22translate(291.45%2C58.46)%22%20style%3D%22opacity%3A%201%3B%20stroke-width%3A%200px%3B%20fill%3A%20rgb(78%2C%20121%2C%20167)%3B%20fill-opacity%3A%201%3B%22%20d%3D%22M3%2C0A3%2C3%200%201%2C1%200%2C-3A3%2C3%200%200%2C1%203%2C0Z%22%2F%3E%3Cpath%20class%3D%22point%22%20transform%3D%22translate(408.97%2C46.67)%22%20style%3D%22opacity%3A%201%3B%20stroke-width%3A%200px%3B%20fill%3A%20rgb(78%2C%20121%2C%20167)%3B%20fill-opacity%3A%201%3B%22%20d%3D%22M3%2C0A3%2C3%200%201%2C1%200%2C-3A3%2C3%200%200%2C1%203%2C0Z%22%2F%3E%3Cpath%20class%3D%22point%22%20transform%3D%22translate(526.5%2C34.88)%22%20style%3D%22opacity%3A%201%3B%20stroke-width%3A%200px%3B%20fill%3A%20rgb(78%2C%20121%2C%20167)%3B%20fill-opacity%3A%201%3B%22%20d%3D%22M3%2C0A3%2C3%200%201%2C1%200%2C-3A3%2C3%200%200%2C1%203%2C0Z%22%2F%3E%3Cpath%20class%3D%22point%22%20transform%3D%22translate(644.02%2C23.09)%22%20style%3D%22opacity%3A%201%3B%20stroke-width%3A%200px%3B%20fill%3A%20rgb(78%2C%20121%2C%20167)%3B%20fill-opacity%3A%201%3B%22%20d%3D%22M3%2C0A3%2C3%200%201%2C1%200%2C-3A3%2C3%200%200%2C1%203%2C0Z%22%2F%3E%3Cpath%20class%3D%22point%22%20transform%3D%22translate(761.55%2C11.31)%22%20style%3D%22opacity%3A%201%3B%20stroke-width%3A%200px%3B%20fill%3A%20rgb(78%2C%20121%2C%20167)%3B%20fill-opacity%3A%201%3B%22%20d%3D%22M3%2C0A3%2C3%200%201%2C1%200%2C-3A3%2C3%200%200%2C1%203%2C0Z%22%2F%3E%3Cpath%20class%3D%22point%22%20transform%3D%22translate(879.07%2C11.31)%22%20style%3D%22opacity%3A%201%3B%20stroke-width%3A%200px%3B%20fill%3A%20rgb(78%2C%20121%2C%20167)%3B%20fill-opacity%3A%201%3B%22%20d%3D%22M3%2C0A3%2C3%200%201%2C1%200%2C-3A3%2C3%200%200%2C1%203%2C0Z%22%2F%3E%3Cpath%20class%3D%22point%22%20transform%3D%22translate(996.6%2C11.31)%22%20style%3D%22opacity%3A%201%3B%20stroke-width%3A%200px%3B%20fill%3A%20rgb(78%2C%20121%2C%20167)%3B%20fill-opacity%3A%201%3B%22%20d%3D%22M3%2C0A3%2C3%200%201%2C1%200%2C-3A3%2C3%200%200%2C1%203%2C0Z%22%2F%3E%3C%2Fg%3E%3Cg%20class%3D%22text%22%2F%3E%3C%2Fg%3E%3Cg%20class%3D%22trace%20scatter%20trace30a2f4%22%20style%3D%22stroke-miterlimit%3A%202%3B%20opacity%3A%201%3B%22%3E%3Cg%20class%3D%22fills%22%2F%3E%3Cg%20class%3D%22errorbars%22%2F%3E%3Cg%20class%3D%22lines%22%3E%3Cpath%20class%3D%22js-line%22%20style%3D%22vector-effect%3A%20non-scaling-stroke%3B%20fill%3A%20none%3B%20stroke%3A%20rgb(242%2C%20142%2C%2044)%3B%20stroke-opacity%3A%201%3B%20stroke-width%3A%202px%3B%20opacity%3A%201%3B%22%20d%3D%22M56.4%2C139.8L173.92%2C80.86L291.45%2C69.07L761.55%2C21.91L879.07%2C21.91L996.6%2C21.91%22%2F%3E%3C%2Fg%3E%3Cg%20class%3D%22points%22%3E%3Cpath%20class%3D%22point%22%20transform%3D%22translate(56.4%2C139.8)%22%20style%3D%22opacity%3A%201%3B%20stroke-width%3A%200px%3B%20fill%3A%20rgb(242%2C%20142%2C%2044)%3B%20fill-opacity%3A%201%3B%22%20d%3D%22M3%2C0A3%2C3%200%201%2C1%200%2C-3A3%2C3%200%200%2C1%203%2C0Z%22%2F%3E%3Cpath%20class%3D%22point%22%20transform%3D%22translate(173.92%2C80.86)%22%20style%3D%22opacity%3A%201%3B%20stroke-width%3A%200px%3B%20fill%3A%20rgb(242%2C%20142%2C%2044)%3B%20fill-opacity%3A%201%3B%22%20d%3D%22M3%2C0A3%2C3%200%201%2C1%200%2C-3A3%2C3%200%200%2C1%203%2C0Z%22%2F%3E%3Cpath%20class%3D%22point%22%20transform%3D%22translate(291.45%2C69.07)%22%20style%3D%22opacity%3A%201%3B%20stroke-width%3A%200px%3B%20fill%3A%20rgb(242%2C%20142%2C%2044)%3B%20fill-opacity%3A%201%3B%22%20d%3D%22M3%2C0A3%2C3%200%201%2C1%200%2C-3A3%2C3%200%200%2C1%203%2C0Z%22%2F%3E%3Cpath%20class%3D%22point%22%20transform%3D%22translate(408.97%2C57.28)%22%20style%3D%22opacity%3A%201%3B%20stroke-width%3A%200px%3B%20fill%3A%20rgb(242%2C%20142%2C%2044)%3B%20fill-opacity%3A%201%3B%22%20d%3D%22M3%2C0A3%2C3%200%201%2C1%200%2C-3A3%2C3%200%200%2C1%203%2C0Z%22%2F%3E%3Cpath%20class%3D%22point%22%20transform%3D%22translate(526.5%2C45.49)%22%20style%3D%22opacity%3A%201%3B%20stroke-width%3A%200px%3B%20fill%3A%20rgb(242%2C%20142%2C%2044)%3B%20fill-opacity%3A%201%3B%22%20d%3D%22M3%2C0A3%2C3%200%201%2C1%200%2C-3A3%2C3%200%200%2C1%203%2C0Z%22%2F%3E%3Cpath%20class%3D%22point%22%20transform%3D%22translate(644.02%2C33.7)%22%20style%3D%22opacity%3A%201%3B%20stroke-width%3A%200px%3B%20fill%3A%20rgb(242%2C%20142%2C%2044)%3B%20fill-opacity%3A%201%3B%22%20d%3D%22M3%2C0A3%2C3%200%201%2C1%200%2C-3A3%2C3%200%200%2C1%203%2C0Z%22%2F%3E%3Cpath%20class%3D%22point%22%20transform%3D%22translate(761.55%2C21.91)%22%20style%3D%22opacity%3A%201%3B%20stroke-width%3A%200px%3B%20fill%3A%20rgb(242%2C%20142%2C%2044)%3B%20fill-opacity%3A%201%3B%22%20d%3D%22M3%2C0A3%2C3%200%201%2C1%200%2C-3A3%2C3%200%200%2C1%203%2C0Z%22%2F%3E%3Cpath%20class%3D%22point%22%20transform%3D%22translate(879.07%2C21.91)%22%20style%3D%22opacity%3A%201%3B%20stroke-width%3A%200px%3B%20fill%3A%20rgb(242%2C%20142%2C%2044)%3B%20fill-opacity%3A%201%3B%22%20d%3D%22M3%2C0A3%2C3%200%201%2C1%200%2C-3A3%2C3%200%200%2C1%203%2C0Z%22%2F%3E%3Cpath%20class%3D%22point%22%20transform%3D%22translate(996.6%2C21.91)%22%20style%3D%22opacity%3A%201%3B%20stroke-width%3A%200px%3B%20fill%3A%20rgb(242%2C%20142%2C%2044)%3B%20fill-opacity%3A%201%3B%22%20d%3D%22M3%2C0A3%2C3%200%201%2C1%200%2C-3A3%2C3%200%200%2C1%203%2C0Z%22%2F%3E%3C%2Fg%3E%3Cg%20class%3D%22text%22%2F%3E%3C%2Fg%3E%3C%2Fg%3E%3C%2Fg%3E%3Cg%20class%3D%22overplot%22%2F%3E%3Cpath%20class%3D%22xlines-above%20crisp%22%20style%3D%22fill%3A%20none%3B%20stroke-width%3A%201px%3B%20stroke%3A%20rgb(0%2C%200%2C%200)%3B%20stroke-opacity%3A%200.1625%3B%22%20d%3D%22M80%2C349.5H1133%22%2F%3E%3Cpath%20class%3D%22ylines-above%20crisp%22%20style%3D%22fill%3A%20none%3B%22%20d%3D%22M0%2C0%22%2F%3E%3Cg%20class%3D%22overlines-above%22%2F%3E%3Cg%20class%3D%22xaxislayer-above%22%3E%3Cg%20class%3D%22xtick%22%3E%3Ctext%20text-anchor%3D%22middle%22%20x%3D%220%22%20y%3D%22364.4%22%20style%3D%22font-family%3A%20%26quot%3BOpen%20Sans%26quot%3B%2C%20verdana%2C%20arial%2C%20sans-serif%3B%20font-size%3A%2012px%3B%20fill%3A%20rgb(0%2C%200%2C%200)%3B%20fill-opacity%3A%200.65%3B%20white-space%3A%20pre%3B%22%20data-unformatted%3D%221Y%22%20data-math%3D%22N%22%20transform%3D%22translate(136.4%2C0)%22%3E1Y%3C%2Ftext%3E%3C%2Fg%3E%3Cg%20class%3D%22xtick%22%3E%3Ctext%20text-anchor%3D%22middle%22%20x%3D%220%22%20y%3D%22364.4%22%20style%3D%22font-family%3A%20%26quot%3BOpen%20Sans%26quot%3B%2C%20verdana%2C%20arial%2C%20sans-serif%3B%20font-size%3A%2012px%3B%20fill%3A%20rgb(0%2C%200%2C%200)%3B%20fill-opacity%3A%200.65%3B%20white-space%3A%20pre%3B%22%20data-unformatted%3D%222Y%22%20data-math%3D%22N%22%20transform%3D%22translate(253.92%2C0)%22%3E2Y%3C%2Ftext%3E%3C%2Fg%3E%3Cg%20class%3D%22xtick%22%3E%3Ctext%20text-anchor%3D%22middle%22%20x%3D%220%22%20y%3D%22364.4%22%20style%3D%22font-family%3A%20%26quot%3BOpen%20Sans%26quot%3B%2C%20verdana%2C%20arial%2C%20sans-serif%3B%20font-size%3A%2012px%3B%20fill%3A%20rgb(0%2C%200%2C%200)%3B%20fill-opacity%3A%200.65%3B%20white-space%3A%20pre%3B%22%20data-unformatted%3D%223Y%22%20data-math%3D%22N%22%20transform%3D%22translate(371.45%2C0)%22%3E3Y%3C%2Ftext%3E%3C%2Fg%3E%3Cg%20class%3D%22xtick%22%3E%3Ctext%20text-anchor%3D%22middle%22%20x%3D%220%22%20y%3D%22364.4%22%20style%3D%22font-family%3A%20%26quot%3BOpen%20Sans%26quot%3B%2C%20verdana%2C%20arial%2C%20sans-serif%3B%20font-size%3A%2012px%3B%20fill%3A%20rgb(0%2C%200%2C%200)%3B%20fill-opacity%3A%200.65%3B%20white-space%3A%20pre%3B%22%20data-unformatted%3D%224Y%22%20data-math%3D%22N%22%20transform%3D%22translate(488.97%2C0)%22%3E4Y%3C%2Ftext%3E%3C%2Fg%3E%3Cg%20class%3D%22xtick%22%3E%3Ctext%20text-anchor%3D%22middle%22%20x%3D%220%22%20y%3D%22364.4%22%20style%3D%22font-family%3A%20%26quot%3BOpen%20Sans%26quot%3B%2C%20verdana%2C%20arial%2C%20sans-serif%3B%20font-size%3A%2012px%3B%20fill%3A%20rgb(0%2C%200%2C%200)%3B%20fill-opacity%3A%200.65%3B%20white-space%3A%20pre%3B%22%20data-unformatted%3D%225Y%22%20data-math%3D%22N%22%20transform%3D%22translate(606.5%2C0)%22%3E5Y%3C%2Ftext%3E%3C%2Fg%3E%3Cg%20class%3D%22xtick%22%3E%3Ctext%20text-anchor%3D%22middle%22%20x%3D%220%22%20y%3D%22364.4%22%20style%3D%22font-family%3A%20%26quot%3BOpen%20Sans%26quot%3B%2C%20verdana%2C%20arial%2C%20sans-serif%3B%20font-size%3A%2012px%3B%20fill%3A%20rgb(0%2C%200%2C%200)%3B%20fill-opacity%3A%200.65%3B%20white-space%3A%20pre%3B%22%20data-unformatted%3D%226Y%22%20data-math%3D%22N%22%20transform%3D%22translate(724.02%2C0)%22%3E6Y%3C%2Ftext%3E%3C%2Fg%3E%3Cg%20class%3D%22xtick%22%3E%3Ctext%20text-anchor%3D%22middle%22%20x%3D%220%22%20y%3D%22364.4%22%20style%3D%22font-family%3A%20%26quot%3BOpen%20Sans%26quot%3B%2C%20verdana%2C%20arial%2C%20sans-serif%3B%20font-size%3A%2012px%3B%20fill%3A%20rgb(0%2C%200%2C%200)%3B%20fill-opacity%3A%200.65%3B%20white-space%3A%20pre%3B%22%20data-unformatted%3D%227Y%22%20data-math%3D%22N%22%20transform%3D%22translate(841.55%2C0)%22%3E7Y%3C%2Ftext%3E%3C%2Fg%3E%3Cg%20class%3D%22xtick%22%3E%3Ctext%20text-anchor%3D%22middle%22%20x%3D%220%22%20y%3D%22364.4%22%20style%3D%22font-family%3A%20%26quot%3BOpen%20Sans%26quot%3B%2C%20verdana%2C%20arial%2C%20sans-serif%3B%20font-size%3A%2012px%3B%20fill%3A%20rgb(0%2C%200%2C%200)%3B%20fill-opacity%3A%200.65%3B%20white-space%3A%20pre%3B%22%20data-unformatted%3D%228Y%22%20data-math%3D%22N%22%20transform%3D%22translate(959.07%2C0)%22%3E8Y%3C%2Ftext%3E%3C%2Fg%3E%3Cg%20class%3D%22xtick%22%3E%3Ctext%20text-anchor%3D%22middle%22%20x%3D%220%22%20y%3D%22364.4%22%20style%3D%22font-family%3A%20%26quot%3BOpen%20Sans%26quot%3B%2C%20verdana%2C%20arial%2C%20sans-serif%3B%20font-size%3A%2012px%3B%20fill%3A%20rgb(0%2C%200%2C%200)%3B%20fill-opacity%3A%200.65%3B%20white-space%3A%20pre%3B%22%20data-unformatted%3D%229Y%22%20data-math%3D%22N%22%20transform%3D%22translate(1076.6%2C0)%22%3E9Y%3C%2Ftext%3E%3C%2Fg%3E%3C%2Fg%3E%3Cg%20class%3D%22yaxislayer-above%22%3E%3Cg%20class%3D%22y2tick%22%3E%3Ctext%20text-anchor%3D%22end%22%20x%3D%2279%22%20y%3D%224.199999999999999%22%20style%3D%22font-family%3A%20%26quot%3BOpen%20Sans%26quot%3B%2C%20verdana%2C%20arial%2C%20sans-serif%3B%20font-size%3A%2012px%3B%20fill%3A%20rgb(0%2C%200%2C%200)%3B%20fill-opacity%3A%200.65%3B%20white-space%3A%20pre%3B%22%20data-unformatted%3D%220.01%22%20data-math%3D%22N%22%20transform%3D%22translate(0%2C327.08473684210526)%22%3E0.01%3C%2Ftext%3E%3C%2Fg%3E%3Cg%20class%3D%22y2tick%22%3E%3Ctext%20text-anchor%3D%22end%22%20x%3D%2279%22%20y%3D%224.199999999999999%22%20style%3D%22font-family%3A%20%26quot%3BOpen%20Sans%26quot%3B%2C%20verdana%2C%20arial%2C%20sans-serif%3B%20font-size%3A%2012px%3B%20fill%3A%20rgb(0%2C%200%2C%200)%3B%20fill-opacity%3A%200.65%3B%20white-space%3A%20pre%3B%22%20data-unformatted%3D%220.015%22%20data-math%3D%22N%22%20transform%3D%22translate(0%2C268.1447368421053)%22%3E0.015%3C%2Ftext%3E%3C%2Fg%3E%3Cg%20class%3D%22y2tick%22%3E%3Ctext%20text-anchor%3D%22end%22%20x%3D%2279%22%20y%3D%224.199999999999999%22%20style%3D%22font-family%3A%20%26quot%3BOpen%20Sans%26quot%3B%2C%20verdana%2C%20arial%2C%20sans-serif%3B%20font-size%3A%2012px%3B%20fill%3A%20rgb(0%2C%200%2C%200)%3B%20fill-opacity%3A%200.65%3B%20white-space%3A%20pre%3B%22%20data-unformatted%3D%220.02%22%20data-math%3D%22N%22%20transform%3D%22translate(0%2C209.2047368421053)%22%3E0.02%3C%2Ftext%3E%3C%2Fg%3E%3C%2Fg%3E%3Cg%20class%3D%22overaxes-above%22%2F%3E%3C%2Fg%3E%3C%2Fg%3E%3Cg%20class%3D%22polarlayer%22%2F%3E%3Cg%20class%3D%22ternarylayer%22%2F%3E%3Cg%20class%3D%22geolayer%22%2F%3E%3Cg%20class%3D%22funnelarealayer%22%2F%3E%3Cg%20class%3D%22pielayer%22%2F%3E%3Cg%20class%3D%22treemaplayer%22%2F%3E%3Cg%20class%3D%22sunburstlayer%22%2F%3E%3Cg%20class%3D%22glimages%22%2F%3E%3Cdefs%20id%3D%22topdefs-393405%22%3E%3Cg%20class%3D%22clips%22%2F%3E%3CclipPath%20id%3D%22legend393405%22%3E%3Crect%20width%3D%22154%22%20height%3D%2258%22%20x%3D%220%22%20y%3D%220%22%2F%3E%3C%2FclipPath%3E%3C%2Fdefs%3E%3Cg%20class%3D%22indicatorlayer%22%2F%3E%3Cg%20class%3D%22layer-above%22%3E%3Cg%20class%3D%22imagelayer%22%2F%3E%3Cg%20class%3D%22shapelayer%22%2F%3E%3C%2Fg%3E%3Cg%20class%3D%22infolayer%22%3E%3Cg%20class%3D%22legend%22%20pointer-events%3D%22all%22%20transform%3D%22translate(1154%2C%2030)%22%3E%3Crect%20class%3D%22bg%22%20shape-rendering%3D%22crispEdges%22%20style%3D%22stroke%3A%20rgb(68%2C%2068%2C%2068)%3B%20stroke-opacity%3A%201%3B%20fill%3A%20rgb(255%2C%20255%2C%20255)%3B%20fill-opacity%3A%201%3B%20stroke-width%3A%200px%3B%22%20width%3D%22154%22%20height%3D%2258%22%20x%3D%220%22%20y%3D%220%22%2F%3E%3Cg%20class%3D%22scrollbox%22%20transform%3D%22translate(0%2C%200)%22%20clip-path%3D%22url('%23legend393405')%22%3E%3Cg%20class%3D%22groups%22%20transform%3D%22translate(0%2C%200)%22%3E%3Cg%20class%3D%22traces%22%20style%3D%22opacity%3A%201%3B%22%20transform%3D%22translate(0%2C%2014.5)%22%3E%3Ctext%20class%3D%22legendtext%20user-select-none%22%20text-anchor%3D%22start%22%20style%3D%22font-family%3A%20%26quot%3BOpen%20Sans%26quot%3B%2C%20verdana%2C%20arial%2C%20sans-serif%3B%20font-size%3A%2012px%3B%20fill%3A%20rgb(0%2C%200%2C%200)%3B%20fill-opacity%3A%200.65%3B%20white-space%3A%20pre%3B%22%20x%3D%2240%22%20y%3D%224.680000000000001%22%20data-unformatted%3D%22start_of_day.VALUE%22%20data-math%3D%22N%22%3Estart_of_day.VALUE%3C%2Ftext%3E%3Cg%20class%3D%22layers%22%20style%3D%22opacity%3A%201%3B%22%3E%3Cg%20class%3D%22legendfill%22%2F%3E%3Cg%20class%3D%22legendlines%22%3E%3Cpath%20class%3D%22js-line%22%20d%3D%22M5%2C0h30%22%20style%3D%22fill%3A%20none%3B%20stroke%3A%20rgb(78%2C%20121%2C%20167)%3B%20stroke-opacity%3A%201%3B%20stroke-width%3A%202px%3B%22%2F%3E%3C%2Fg%3E%3Cg%20class%3D%22legendsymbols%22%3E%3Cg%20class%3D%22legendpoints%22%3E%3Cpath%20class%3D%22scatterpts%22%20transform%3D%22translate(20%2C0)%22%20style%3D%22opacity%3A%201%3B%20stroke-width%3A%200px%3B%20fill%3A%20rgb(78%2C%20121%2C%20167)%3B%20fill-opacity%3A%201%3B%22%20d%3D%22M3%2C0A3%2C3%200%201%2C1%200%2C-3A3%2C3%200%200%2C1%203%2C0Z%22%2F%3E%3C%2Fg%3E%3C%2Fg%3E%3C%2Fg%3E%3Crect%20class%3D%22legendtoggle%22%20style%3D%22cursor%3A%20pointer%3B%20fill%3A%20rgb(0%2C%200%2C%200)%3B%20fill-opacity%3A%200%3B%22%20pointer-events%3D%22all%22%20x%3D%220%22%20y%3D%22-9.5%22%20width%3D%22148.9166717529297%22%20height%3D%2219%22%2F%3E%3C%2Fg%3E%3C%2Fg%3E%3Cg%20class%3D%22groups%22%20transform%3D%22translate(0%2C%2010)%22%3E%3Cg%20class%3D%22traces%22%20style%3D%22opacity%3A%201%3B%22%20transform%3D%22translate(0%2C%2033.5)%22%3E%3Ctext%20class%3D%22legendtext%20user-select-none%22%20text-anchor%3D%22start%22%20style%3D%22font-family%3A%20%26quot%3BOpen%20Sans%26quot%3B%2C%20verdana%2C%20arial%2C%20sans-serif%3B%20font-size%3A%2012px%3B%20fill%3A%20rgb(0%2C%200%2C%200)%3B%20fill-opacity%3A%200.65%3B%20white-space%3A%20pre%3B%22%20x%3D%2240%22%20y%3D%224.680000000000001%22%20data-unformatted%3D%22last.VALUE%22%20data-math%3D%22N%22%3Elast.VALUE%3C%2Ftext%3E%3Cg%20class%3D%22layers%22%20style%3D%22opacity%3A%201%3B%22%3E%3Cg%20class%3D%22legendfill%22%2F%3E%3Cg%20class%3D%22legendlines%22%3E%3Cpath%20class%3D%22js-line%22%20d%3D%22M5%2C0h30%22%20style%3D%22fill%3A%20none%3B%20stroke%3A%20rgb(242%2C%20142%2C%2044)%3B%20stroke-opacity%3A%201%3B%20stroke-width%3A%202px%3B%22%2F%3E%3C%2Fg%3E%3Cg%20class%3D%22legendsymbols%22%3E%3Cg%20class%3D%22legendpoints%22%3E%3Cpath%20class%3D%22scatterpts%22%20transform%3D%22translate(20%2C0)%22%20style%3D%22opacity%3A%201%3B%20stroke-width%3A%200px%3B%20fill%3A%20rgb(242%2C%20142%2C%2044)%3B%20fill-opacity%3A%201%3B%22%20d%3D%22M3%2C0A3%2C3%200%201%2C1%200%2C-3A3%2C3%200%200%2C1%203%2C0Z%22%2F%3E%3C%2Fg%3E%3C%2Fg%3E%3C%2Fg%3E%3Crect%20class%3D%22legendtoggle%22%20style%3D%22cursor%3A%20pointer%3B%20fill%3A%20rgb(0%2C%200%2C%200)%3B%20fill-opacity%3A%200%3B%22%20pointer-events%3D%22all%22%20x%3D%220%22%20y%3D%22-9.5%22%20width%3D%22148.9166717529297%22%20height%3D%2219%22%2F%3E%3C%2Fg%3E%3C%2Fg%3E%3C%2Fg%3E%3Crect%20class%3D%22scrollbar%22%20rx%3D%2220%22%20ry%3D%223%22%20width%3D%220%22%20height%3D%220%22%20style%3D%22fill%3A%20rgb(128%2C%20139%2C%20164)%3B%20fill-opacity%3A%201%3B%22%20x%3D%220%22%20y%3D%220%22%2F%3E%3C%2Fg%3E%3Cg%20class%3D%22g-gtitle%22%2F%3E%3Cg%20class%3D%22g-xtitle%22%2F%3E%3Cg%20class%3D%22g-ytitle%22%20transform%3D%22translate(-3.3497467041015625%2C0)%22%3E%3Ctext%20class%3D%22ytitle%22%20transform%3D%22rotate(-90%2C42%2C105.55263157894737)%22%20style%3D%22font-family%3A%20%26quot%3BOpen%20Sans%26quot%3B%2C%20verdana%2C%20arial%2C%20sans-serif%3B%20font-size%3A%2014px%3B%20fill%3A%20rgb(0%2C%200%2C%200)%3B%20opacity%3A%200.65%3B%20font-weight%3A%20normal%3B%20white-space%3A%20pre%3B%22%20x%3D%2242%22%20y%3D%22105.55263157894737%22%20text-anchor%3D%22middle%22%20data-unformatted%3D%22Last%20Curve%22%20data-math%3D%22N%22%3ELast%20Curve%3C%2Ftext%3E%3C%2Fg%3E%3Cg%20class%3D%22g-y2title%22%20transform%3D%22translate(-0.9327545166015625%2C0)%22%3E%3Ctext%20class%3D%22y2title%22%20transform%3D%22rotate(-90%2C42%2C273.44736842105266)%22%20style%3D%22font-family%3A%20%26quot%3BOpen%20Sans%26quot%3B%2C%20verdana%2C%20arial%2C%20sans-serif%3B%20font-size%3A%2014px%3B%20fill%3A%20rgb(0%2C%200%2C%200)%3B%20opacity%3A%200.65%3B%20font-weight%3A%20normal%3B%20white-space%3A%20pre%3B%22%20x%3D%2242%22%20y%3D%22273.44736842105266%22%20text-anchor%3D%22middle%22%20data-unformatted%3D%22Curve%20Parallel%20Shift%22%20data-math%3D%22N%22%3ECurve%20Parallel%20Shift%3C%2Ftext%3E%3C%2Fg%3E%3C%2Fg%3E%3Cg%20class%3D%22menulayer%22%2F%3E%3Cg%20class%3D%22zoomlayer%22%2F%3E%3Cg%20class%3D%22hoverlayer%22%2F%3E%3C%2Fsvg%3E\">"
      ],
      "text/plain": [
       "Open the notebook in JupyterLab with the atoti extension installed and enabled to see this widget."
      ]
     },
     "metadata": {},
     "output_type": "display_data"
    }
   ],
   "source": [
    "position_sensitivity_cube.visualize(\"Yield Curve Curve Parallel Shift\")"
   ]
  },
  {
   "cell_type": "markdown",
   "metadata": {},
   "source": [
    "Let's now go into the investment portfolio to see the impact of this shift on the *Theoretical PnL*.  \\\n",
    "We see the *Theoretical PnL* went negative on a 10bps shift, with *Rates & Credit* suffering the most loss.  "
   ]
  },
  {
   "cell_type": "code",
   "execution_count": 36,
   "metadata": {
    "activeviam": {
     "state": {
      "name": "Theoretical PnL Parallel Shift",
      "type": "container",
      "value": {
       "body": {
        "configuration": {
         "mapping": {
          "splitBy": [
           "[Measure Simulations].[Curve Simulation].[Curve Simulation]"
          ],
          "values": [
           "[Measures].[Theoretical PnL]"
          ],
          "yAxis": [
           "[Hierarchies].[Investment Portfolio Hierarchy].[Asset Class]"
          ]
         },
         "type": "plotly-clustered-bar-chart"
        },
        "query": {
         "mdx": "SELECT NON EMPTY Crossjoin([Hierarchies].[Investment Portfolio Hierarchy].[Asset Class].Members, [Measure Simulations].[Curve Simulation].[Curve Simulation].Members) ON ROWS, NON EMPTY [Measures].[Theoretical PnL] ON COLUMNS FROM [Position_Sensitivities] CELL PROPERTIES VALUE, FORMATTED_VALUE, BACK_COLOR, FORE_COLOR, FONT_FLAGS",
         "serverUrl": "",
         "updateMode": "once"
        }
       },
       "containerKey": "chart",
       "showTitleBar": false,
       "style": {}
      }
     }
    },
    "atoti": {
     "state": {
      "name": "Theoretical PnL Parallel Shift - Investment Portfolio",
      "type": "container",
      "value": {
       "body": {
        "configuration": {
         "mapping": {
          "horizontal": [],
          "splitBy": [
           "[Measure Simulations].[Curve Simulation].[Curve Simulation]"
          ],
          "values": [
           "[Measures].[Theoretical PnL]"
          ],
          "vertical": [],
          "yAxis": [
           "[Hierarchies].[Investment Portfolio Hierarchy].[Asset Class]"
          ]
         },
         "style": {
          "isTextVisible": true
         },
         "type": "plotly-clustered-bar-chart"
        },
        "query": {
         "contextValues": {},
         "mdx": "SELECT NON EMPTY [Measures].[Theoretical PnL] ON COLUMNS, NON EMPTY Crossjoin([Hierarchies].[Investment Portfolio Hierarchy].[Asset Class].Members, [Measure Simulations].[Curve Simulation].[Curve Simulation].Members) ON ROWS FROM (SELECT {[Measure Simulations].[Curve Simulation].[Curve Simulation].[Curve Parallel Shift], [Measure Simulations].[Curve Simulation].[Curve Simulation].[Last Curve]} ON COLUMNS FROM [Position_Sensitivities] WHERE [Hierarchies].[currency].[ALL].[AllMember].[EUR]) WHERE [Hierarchies].[currency].[ALL].[AllMember].[EUR] CELL PROPERTIES VALUE, FORMATTED_VALUE, BACK_COLOR, FORE_COLOR, FONT_FLAGS",
         "serverUrl": ""
        }
       },
       "containerKey": "chart",
       "showTitleBar": false,
       "style": {}
      }
     }
    }
   },
   "outputs": [
    {
     "data": {
      "application/vnd.atoti.v0+json": {
       "cube": "Position_Sensitivities",
       "error": null,
       "name": "Theoretical PnL Parallel Shift - Investment Portfolio",
       "session": "Unnamed"
      },
      "text/html": [
       "<img src=\"data:image/svg+xml;charset=utf8,%3C%3Fxml%20version%3D%221.0%22%20standalone%3D%22no%22%3F%3E%3Csvg%20xmlns%3D%22http%3A%2F%2Fwww.w3.org%2F2000%2Fsvg%22%20xmlns%3Axlink%3D%22http%3A%2F%2Fwww.w3.org%2F1999%2Fxlink%22%20viewBox%3D%220%200%201308%20360%22%3E%3Cdefs%20id%3D%22defs-abdfb9%22%3E%3Cg%20class%3D%22clips%22%3E%3CclipPath%20id%3D%22clipabdfb9xyplot%22%20class%3D%22plotclip%22%3E%3Crect%20width%3D%221055%22%20height%3D%22250%22%2F%3E%3C%2FclipPath%3E%3CclipPath%20class%3D%22axesclip%22%20id%3D%22clipabdfb9x%22%3E%3Crect%20x%3D%2282%22%20y%3D%220%22%20width%3D%221055%22%20height%3D%22360%22%2F%3E%3C%2FclipPath%3E%3CclipPath%20class%3D%22axesclip%22%20id%3D%22clipabdfb9y%22%3E%3Crect%20x%3D%220%22%20y%3D%2230%22%20width%3D%221308%22%20height%3D%22250%22%2F%3E%3C%2FclipPath%3E%3CclipPath%20class%3D%22axesclip%22%20id%3D%22clipabdfb9xy%22%3E%3Crect%20x%3D%2282%22%20y%3D%2230%22%20width%3D%221055%22%20height%3D%22250%22%2F%3E%3C%2FclipPath%3E%3C%2Fg%3E%3Cg%20class%3D%22gradients%22%2F%3E%3C%2Fdefs%3E%3Cg%20class%3D%22bglayer%22%2F%3E%3Cg%20class%3D%22draglayer%20cursor-crosshair%22%3E%3Cg%20class%3D%22xy%22%3E%3Crect%20class%3D%22nsewdrag%20drag%22%20style%3D%22fill%3A%20transparent%3B%20stroke-width%3A%200px%3B%20pointer-events%3A%20all%3B%22%20data-subplot%3D%22xy%22%20x%3D%2282%22%20y%3D%2230%22%20width%3D%221055%22%20height%3D%22250%22%2F%3E%3Crect%20class%3D%22nwdrag%20drag%20cursor-nw-resize%22%20style%3D%22fill%3A%20transparent%3B%20stroke-width%3A%200px%3B%20pointer-events%3A%20all%3B%22%20data-subplot%3D%22xy%22%20x%3D%2262%22%20y%3D%2210%22%20width%3D%2220%22%20height%3D%2220%22%2F%3E%3Crect%20class%3D%22nedrag%20drag%20cursor-ne-resize%22%20style%3D%22fill%3A%20transparent%3B%20stroke-width%3A%200px%3B%20pointer-events%3A%20all%3B%22%20data-subplot%3D%22xy%22%20x%3D%221137%22%20y%3D%2210%22%20width%3D%2220%22%20height%3D%2220%22%2F%3E%3Crect%20class%3D%22swdrag%20drag%20cursor-sw-resize%22%20style%3D%22fill%3A%20transparent%3B%20stroke-width%3A%200px%3B%20pointer-events%3A%20all%3B%22%20data-subplot%3D%22xy%22%20x%3D%2262%22%20y%3D%22280%22%20width%3D%2220%22%20height%3D%2220%22%2F%3E%3Crect%20class%3D%22sedrag%20drag%20cursor-se-resize%22%20style%3D%22fill%3A%20transparent%3B%20stroke-width%3A%200px%3B%20pointer-events%3A%20all%3B%22%20data-subplot%3D%22xy%22%20x%3D%221137%22%20y%3D%22280%22%20width%3D%2220%22%20height%3D%2220%22%2F%3E%3Crect%20class%3D%22ewdrag%20drag%20cursor-ew-resize%22%20style%3D%22fill%3A%20transparent%3B%20stroke-width%3A%200px%3B%20pointer-events%3A%20all%3B%22%20data-subplot%3D%22xy%22%20x%3D%22187.5%22%20y%3D%22280.5%22%20width%3D%22844%22%20height%3D%2220%22%2F%3E%3Crect%20class%3D%22wdrag%20drag%20cursor-w-resize%22%20style%3D%22fill%3A%20transparent%3B%20stroke-width%3A%200px%3B%20pointer-events%3A%20all%3B%22%20data-subplot%3D%22xy%22%20x%3D%2282%22%20y%3D%22280.5%22%20width%3D%22105.5%22%20height%3D%2220%22%2F%3E%3Crect%20class%3D%22edrag%20drag%20cursor-e-resize%22%20style%3D%22fill%3A%20transparent%3B%20stroke-width%3A%200px%3B%20pointer-events%3A%20all%3B%22%20data-subplot%3D%22xy%22%20x%3D%221031.5%22%20y%3D%22280.5%22%20width%3D%22105.5%22%20height%3D%2220%22%2F%3E%3Crect%20class%3D%22nsdrag%20drag%20cursor-ns-resize%22%20style%3D%22fill%3A%20transparent%3B%20stroke-width%3A%200px%3B%20pointer-events%3A%20all%3B%22%20data-subplot%3D%22xy%22%20x%3D%2261.5%22%20y%3D%2255%22%20width%3D%2220%22%20height%3D%22200%22%2F%3E%3Crect%20class%3D%22sdrag%20drag%20cursor-s-resize%22%20style%3D%22fill%3A%20transparent%3B%20stroke-width%3A%200px%3B%20pointer-events%3A%20all%3B%22%20data-subplot%3D%22xy%22%20x%3D%2261.5%22%20y%3D%22255%22%20width%3D%2220%22%20height%3D%2225%22%2F%3E%3Crect%20class%3D%22ndrag%20drag%20cursor-n-resize%22%20style%3D%22fill%3A%20transparent%3B%20stroke-width%3A%200px%3B%20pointer-events%3A%20all%3B%22%20data-subplot%3D%22xy%22%20x%3D%2261.5%22%20y%3D%2230%22%20width%3D%2220%22%20height%3D%2225%22%2F%3E%3C%2Fg%3E%3C%2Fg%3E%3Cg%20class%3D%22layer-below%22%3E%3Cg%20class%3D%22imagelayer%22%2F%3E%3Cg%20class%3D%22shapelayer%22%2F%3E%3C%2Fg%3E%3Cg%20class%3D%22cartesianlayer%22%3E%3Cg%20class%3D%22subplot%20xy%22%3E%3Cg%20class%3D%22layer-subplot%22%3E%3Cg%20class%3D%22shapelayer%22%2F%3E%3Cg%20class%3D%22imagelayer%22%2F%3E%3C%2Fg%3E%3Cg%20class%3D%22gridlayer%22%3E%3Cg%20class%3D%22x%22%3E%3Cpath%20class%3D%22xgrid%20crisp%22%20transform%3D%22translate(235.73%2C0)%22%20d%3D%22M0%2C30v250%22%20style%3D%22stroke%3A%20rgb(0%2C%200%2C%200)%3B%20stroke-opacity%3A%200.1625%3B%20stroke-width%3A%201px%3B%22%2F%3E%3Cpath%20class%3D%22xgrid%20crisp%22%20transform%3D%22translate(424.12%2C0)%22%20d%3D%22M0%2C30v250%22%20style%3D%22stroke%3A%20rgb(0%2C%200%2C%200)%3B%20stroke-opacity%3A%200.1625%3B%20stroke-width%3A%201px%3B%22%2F%3E%3Cpath%20class%3D%22xgrid%20crisp%22%20transform%3D%22translate(612.51%2C0)%22%20d%3D%22M0%2C30v250%22%20style%3D%22stroke%3A%20rgb(0%2C%200%2C%200)%3B%20stroke-opacity%3A%200.1625%3B%20stroke-width%3A%201px%3B%22%2F%3E%3Cpath%20class%3D%22xgrid%20crisp%22%20transform%3D%22translate(800.91%2C0)%22%20d%3D%22M0%2C30v250%22%20style%3D%22stroke%3A%20rgb(0%2C%200%2C%200)%3B%20stroke-opacity%3A%200.1625%3B%20stroke-width%3A%201px%3B%22%2F%3E%3C%2Fg%3E%3Cg%20class%3D%22y%22%3E%3Cpath%20class%3D%22ygrid%20crisp%22%20transform%3D%22translate(0%2C238.33)%22%20d%3D%22M82%2C0h1055%22%20style%3D%22stroke%3A%20rgb(0%2C%200%2C%200)%3B%20stroke-opacity%3A%200%3B%20stroke-width%3A%201px%3B%22%2F%3E%3Cpath%20class%3D%22ygrid%20crisp%22%20transform%3D%22translate(0%2C155)%22%20d%3D%22M82%2C0h1055%22%20style%3D%22stroke%3A%20rgb(0%2C%200%2C%200)%3B%20stroke-opacity%3A%200%3B%20stroke-width%3A%201px%3B%22%2F%3E%3Cpath%20class%3D%22ygrid%20crisp%22%20transform%3D%22translate(0%2C71.67)%22%20d%3D%22M82%2C0h1055%22%20style%3D%22stroke%3A%20rgb(0%2C%200%2C%200)%3B%20stroke-opacity%3A%200%3B%20stroke-width%3A%201px%3B%22%2F%3E%3C%2Fg%3E%3C%2Fg%3E%3Cg%20class%3D%22zerolinelayer%22%3E%3Cpath%20class%3D%22xzl%20zl%20crisp%22%20transform%3D%22translate(989.3%2C0)%22%20d%3D%22M0%2C30v250%22%20style%3D%22stroke%3A%20rgb(0%2C%200%2C%200)%3B%20stroke-opacity%3A%200.325%3B%20stroke-width%3A%201px%3B%22%2F%3E%3C%2Fg%3E%3Cpath%20class%3D%22xlines-below%22%2F%3E%3Cpath%20class%3D%22ylines-below%22%2F%3E%3Cg%20class%3D%22overlines-below%22%2F%3E%3Cg%20class%3D%22xaxislayer-below%22%2F%3E%3Cg%20class%3D%22yaxislayer-below%22%2F%3E%3Cg%20class%3D%22overaxes-below%22%2F%3E%3Cg%20class%3D%22plot%22%20transform%3D%22translate(82%2C%2030)%22%20clip-path%3D%22url('%23clipabdfb9xyplot')%22%3E%3Cg%20class%3D%22barlayer%20mlayer%22%3E%3Cg%20class%3D%22trace%20bars%22%20style%3D%22opacity%3A%201%3B%22%3E%3Cg%20class%3D%22points%22%3E%3Cg%20class%3D%22point%22%3E%3Cpath%20style%3D%22vector-effect%3A%20non-scaling-stroke%3B%20opacity%3A%201%3B%20stroke-width%3A%200px%3B%20fill%3A%20rgb(78%2C%20121%2C%20167)%3B%20fill-opacity%3A%201%3B%22%20d%3D%22M907.3%2C241.67V208.33H939.52V241.67Z%22%2F%3E%3Ctext%20class%3D%22bartext%20bartext-outside%22%20text-anchor%3D%22middle%22%20data-notex%3D%221%22%20style%3D%22font-family%3A%20%26quot%3BOpen%20Sans%26quot%3B%2C%20verdana%2C%20arial%2C%20sans-serif%3B%20font-size%3A%2012px%3B%20fill%3A%20rgb(0%2C%200%2C%200)%3B%20fill-opacity%3A%200.65%3B%20white-space%3A%20pre%3B%22%20data-unformatted%3D%221%2C710.00%22%20data-math%3D%22N%22%20x%3D%220%22%20y%3D%220%22%20transform%3D%22translate(967.170390625%2C228.91692352294922)%22%3E1%2C710.00%3C%2Ftext%3E%3C%2Fg%3E%3Cg%20class%3D%22point%22%3E%3Cpath%20style%3D%22vector-effect%3A%20non-scaling-stroke%3B%20opacity%3A%201%3B%20stroke-width%3A%200px%3B%20fill%3A%20rgb(78%2C%20121%2C%20167)%3B%20fill-opacity%3A%201%3B%22%20d%3D%22M907.3%2C158.33V125H959.86V158.33Z%22%2F%3E%3Ctext%20class%3D%22bartext%20bartext-outside%22%20text-anchor%3D%22middle%22%20data-notex%3D%221%22%20style%3D%22font-family%3A%20%26quot%3BOpen%20Sans%26quot%3B%2C%20verdana%2C%20arial%2C%20sans-serif%3B%20font-size%3A%2012px%3B%20fill%3A%20rgb(0%2C%200%2C%200)%3B%20fill-opacity%3A%200.65%3B%20white-space%3A%20pre%3B%22%20data-unformatted%3D%222%2C790.00%22%20data-math%3D%22N%22%20x%3D%220%22%20y%3D%220%22%20transform%3D%22translate(987.510390625%2C145.58192352294924)%22%3E2%2C790.00%3C%2Ftext%3E%3C%2Fg%3E%3Cg%20class%3D%22point%22%3E%3Cpath%20style%3D%22vector-effect%3A%20non-scaling-stroke%3B%20opacity%3A%201%3B%20stroke-width%3A%200px%3B%20fill%3A%20rgb(78%2C%20121%2C%20167)%3B%20fill-opacity%3A%201%3B%22%20d%3D%22M907.3%2C75V41.67H1002.25V75Z%22%2F%3E%3Ctext%20class%3D%22bartext%20bartext-inside%22%20text-anchor%3D%22middle%22%20data-notex%3D%221%22%20style%3D%22font-family%3A%20%26quot%3BOpen%20Sans%26quot%3B%2C%20verdana%2C%20arial%2C%20sans-serif%3B%20font-size%3A%2012px%3B%20fill%3A%20rgb(255%2C%20255%2C%20255)%3B%20fill-opacity%3A%201%3B%20white-space%3A%20pre%3B%22%20data-unformatted%3D%225%2C040.00%22%20data-math%3D%22N%22%20x%3D%220%22%20y%3D%220%22%20transform%3D%22translate(974.6004028320312%2C62.25192352294922)%22%3E5%2C040.00%3C%2Ftext%3E%3C%2Fg%3E%3C%2Fg%3E%3C%2Fg%3E%3Cg%20class%3D%22trace%20bars%22%20style%3D%22opacity%3A%201%3B%22%3E%3Cg%20class%3D%22points%22%3E%3Cg%20class%3D%22point%22%3E%3Cpath%20style%3D%22vector-effect%3A%20non-scaling-stroke%3B%20opacity%3A%201%3B%20stroke-width%3A%200px%3B%20fill%3A%20rgb(242%2C%20142%2C%2044)%3B%20fill-opacity%3A%201%3B%22%20d%3D%22M907.3%2C208.33V175H617.36V208.33Z%22%2F%3E%3Ctext%20class%3D%22bartext%20bartext-inside%22%20text-anchor%3D%22middle%22%20data-notex%3D%221%22%20style%3D%22font-family%3A%20%26quot%3BOpen%20Sans%26quot%3B%2C%20verdana%2C%20arial%2C%20sans-serif%3B%20font-size%3A%2012px%3B%20fill%3A%20rgb(68%2C%2068%2C%2068)%3B%20fill-opacity%3A%201%3B%20white-space%3A%20pre%3B%22%20data-unformatted%3D%22-15%2C390.00%22%20data-math%3D%22N%22%20x%3D%220%22%20y%3D%220%22%20transform%3D%22translate(650.3433984375%2C195.58192352294924)%22%3E-15%2C390.00%3C%2Ftext%3E%3C%2Fg%3E%3Cg%20class%3D%22point%22%3E%3Cpath%20style%3D%22vector-effect%3A%20non-scaling-stroke%3B%20opacity%3A%201%3B%20stroke-width%3A%200px%3B%20fill%3A%20rgb(242%2C%20142%2C%2044)%3B%20fill-opacity%3A%201%3B%22%20d%3D%22M907.3%2C125V91.67H434.25V125Z%22%2F%3E%3Ctext%20class%3D%22bartext%20bartext-inside%22%20text-anchor%3D%22middle%22%20data-notex%3D%221%22%20style%3D%22font-family%3A%20%26quot%3BOpen%20Sans%26quot%3B%2C%20verdana%2C%20arial%2C%20sans-serif%3B%20font-size%3A%2012px%3B%20fill%3A%20rgb(68%2C%2068%2C%2068)%3B%20fill-opacity%3A%201%3B%20white-space%3A%20pre%3B%22%20data-unformatted%3D%22-25%2C110.00%22%20data-math%3D%22N%22%20x%3D%220%22%20y%3D%220%22%20transform%3D%22translate(467.2333984375%2C112.25192352294923)%22%3E-25%2C110.00%3C%2Ftext%3E%3C%2Fg%3E%3Cg%20class%3D%22point%22%3E%3Cpath%20style%3D%22vector-effect%3A%20non-scaling-stroke%3B%20opacity%3A%201%3B%20stroke-width%3A%200px%3B%20fill%3A%20rgb(242%2C%20142%2C%2044)%3B%20fill-opacity%3A%201%3B%22%20d%3D%22M907.3%2C41.67V8.33H52.75V41.67Z%22%2F%3E%3Ctext%20class%3D%22bartext%20bartext-inside%22%20text-anchor%3D%22middle%22%20data-notex%3D%221%22%20style%3D%22font-family%3A%20%26quot%3BOpen%20Sans%26quot%3B%2C%20verdana%2C%20arial%2C%20sans-serif%3B%20font-size%3A%2012px%3B%20fill%3A%20rgb(68%2C%2068%2C%2068)%3B%20fill-opacity%3A%201%3B%20white-space%3A%20pre%3B%22%20data-unformatted%3D%22-45%2C360.00%22%20data-math%3D%22N%22%20x%3D%220%22%20y%3D%220%22%20transform%3D%22translate(85.7333984375%2C28.91692352294922)%22%3E-45%2C360.00%3C%2Ftext%3E%3C%2Fg%3E%3C%2Fg%3E%3C%2Fg%3E%3C%2Fg%3E%3C%2Fg%3E%3Cg%20class%3D%22overplot%22%2F%3E%3Cpath%20class%3D%22xlines-above%20crisp%22%20style%3D%22fill%3A%20none%3B%20stroke-width%3A%201px%3B%20stroke%3A%20rgb(0%2C%200%2C%200)%3B%20stroke-opacity%3A%200.1625%3B%22%20d%3D%22M81%2C280.5H1137%22%2F%3E%3Cpath%20class%3D%22ylines-above%20crisp%22%20style%3D%22fill%3A%20none%3B%20stroke-width%3A%201px%3B%20stroke%3A%20rgb(0%2C%200%2C%200)%3B%20stroke-opacity%3A%200.1625%3B%22%20d%3D%22M81.5%2C30V280%22%2F%3E%3Cg%20class%3D%22overlines-above%22%2F%3E%3Cg%20class%3D%22xaxislayer-above%22%3E%3Cg%20class%3D%22xtick%22%3E%3Ctext%20text-anchor%3D%22middle%22%20x%3D%220%22%20y%3D%22295.4%22%20style%3D%22font-family%3A%20%26quot%3BOpen%20Sans%26quot%3B%2C%20verdana%2C%20arial%2C%20sans-serif%3B%20font-size%3A%2012px%3B%20fill%3A%20rgb(0%2C%200%2C%200)%3B%20fill-opacity%3A%200.65%3B%20white-space%3A%20pre%3B%22%20data-unformatted%3D%22%E2%88%9240k%22%20data-math%3D%22N%22%20transform%3D%22translate(235.73%2C0)%22%3E%E2%88%9240k%3C%2Ftext%3E%3C%2Fg%3E%3Cg%20class%3D%22xtick%22%3E%3Ctext%20text-anchor%3D%22middle%22%20x%3D%220%22%20y%3D%22295.4%22%20style%3D%22font-family%3A%20%26quot%3BOpen%20Sans%26quot%3B%2C%20verdana%2C%20arial%2C%20sans-serif%3B%20font-size%3A%2012px%3B%20fill%3A%20rgb(0%2C%200%2C%200)%3B%20fill-opacity%3A%200.65%3B%20white-space%3A%20pre%3B%22%20data-unformatted%3D%22%E2%88%9230k%22%20data-math%3D%22N%22%20transform%3D%22translate(424.12%2C0)%22%3E%E2%88%9230k%3C%2Ftext%3E%3C%2Fg%3E%3Cg%20class%3D%22xtick%22%3E%3Ctext%20text-anchor%3D%22middle%22%20x%3D%220%22%20y%3D%22295.4%22%20style%3D%22font-family%3A%20%26quot%3BOpen%20Sans%26quot%3B%2C%20verdana%2C%20arial%2C%20sans-serif%3B%20font-size%3A%2012px%3B%20fill%3A%20rgb(0%2C%200%2C%200)%3B%20fill-opacity%3A%200.65%3B%20white-space%3A%20pre%3B%22%20data-unformatted%3D%22%E2%88%9220k%22%20data-math%3D%22N%22%20transform%3D%22translate(612.51%2C0)%22%3E%E2%88%9220k%3C%2Ftext%3E%3C%2Fg%3E%3Cg%20class%3D%22xtick%22%3E%3Ctext%20text-anchor%3D%22middle%22%20x%3D%220%22%20y%3D%22295.4%22%20style%3D%22font-family%3A%20%26quot%3BOpen%20Sans%26quot%3B%2C%20verdana%2C%20arial%2C%20sans-serif%3B%20font-size%3A%2012px%3B%20fill%3A%20rgb(0%2C%200%2C%200)%3B%20fill-opacity%3A%200.65%3B%20white-space%3A%20pre%3B%22%20data-unformatted%3D%22%E2%88%9210k%22%20data-math%3D%22N%22%20transform%3D%22translate(800.91%2C0)%22%3E%E2%88%9210k%3C%2Ftext%3E%3C%2Fg%3E%3Cg%20class%3D%22xtick%22%3E%3Ctext%20text-anchor%3D%22middle%22%20x%3D%220%22%20y%3D%22295.4%22%20style%3D%22font-family%3A%20%26quot%3BOpen%20Sans%26quot%3B%2C%20verdana%2C%20arial%2C%20sans-serif%3B%20font-size%3A%2012px%3B%20fill%3A%20rgb(0%2C%200%2C%200)%3B%20fill-opacity%3A%200.65%3B%20white-space%3A%20pre%3B%22%20data-unformatted%3D%220%22%20data-math%3D%22N%22%20transform%3D%22translate(989.3%2C0)%22%3E0%3C%2Ftext%3E%3C%2Fg%3E%3C%2Fg%3E%3Cg%20class%3D%22yaxislayer-above%22%3E%3Cg%20class%3D%22ytick%22%3E%3Ctext%20text-anchor%3D%22end%22%20x%3D%2278.6%22%20y%3D%224.199999999999999%22%20style%3D%22font-family%3A%20%26quot%3BOpen%20Sans%26quot%3B%2C%20verdana%2C%20arial%2C%20sans-serif%3B%20font-size%3A%2012px%3B%20fill%3A%20rgb(0%2C%200%2C%200)%3B%20fill-opacity%3A%200.65%3B%20white-space%3A%20pre%3B%22%20data-unformatted%3D%22Equity%22%20data-math%3D%22N%22%20transform%3D%22translate(0%2C238.33)%22%3EEquity%3C%2Ftext%3E%3C%2Fg%3E%3Cg%20class%3D%22ytick%22%3E%3Ctext%20text-anchor%3D%22end%22%20x%3D%2278.6%22%20y%3D%224.199999999999999%22%20style%3D%22font-family%3A%20%26quot%3BOpen%20Sans%26quot%3B%2C%20verdana%2C%20arial%2C%20sans-serif%3B%20font-size%3A%2012px%3B%20fill%3A%20rgb(0%2C%200%2C%200)%3B%20fill-opacity%3A%200.65%3B%20white-space%3A%20pre%3B%22%20data-unformatted%3D%22Forex%22%20data-math%3D%22N%22%20transform%3D%22translate(0%2C155)%22%3EForex%3C%2Ftext%3E%3C%2Fg%3E%3Cg%20class%3D%22ytick%22%3E%3Ctext%20text-anchor%3D%22end%22%20x%3D%2278.6%22%20y%3D%224.199999999999999%22%20style%3D%22font-family%3A%20%26quot%3BOpen%20Sans%26quot%3B%2C%20verdana%2C%20arial%2C%20sans-serif%3B%20font-size%3A%2012px%3B%20fill%3A%20rgb(0%2C%200%2C%200)%3B%20fill-opacity%3A%200.65%3B%20white-space%3A%20pre%3B%22%20data-unformatted%3D%22Rates%20%26amp%3B%20Credit%22%20data-math%3D%22N%22%20transform%3D%22translate(0%2C71.67)%22%3ERates%20%26amp%3B%20Credit%3C%2Ftext%3E%3C%2Fg%3E%3C%2Fg%3E%3Cg%20class%3D%22overaxes-above%22%2F%3E%3C%2Fg%3E%3C%2Fg%3E%3Cg%20class%3D%22polarlayer%22%2F%3E%3Cg%20class%3D%22ternarylayer%22%2F%3E%3Cg%20class%3D%22geolayer%22%2F%3E%3Cg%20class%3D%22funnelarealayer%22%2F%3E%3Cg%20class%3D%22pielayer%22%2F%3E%3Cg%20class%3D%22treemaplayer%22%2F%3E%3Cg%20class%3D%22sunburstlayer%22%2F%3E%3Cg%20class%3D%22glimages%22%2F%3E%3Cdefs%20id%3D%22topdefs-abdfb9%22%3E%3Cg%20class%3D%22clips%22%2F%3E%3CclipPath%20id%3D%22legendabdfb9%22%3E%3Crect%20width%3D%22150%22%20height%3D%2258%22%20x%3D%220%22%20y%3D%220%22%2F%3E%3C%2FclipPath%3E%3C%2Fdefs%3E%3Cg%20class%3D%22indicatorlayer%22%2F%3E%3Cg%20class%3D%22layer-above%22%3E%3Cg%20class%3D%22imagelayer%22%2F%3E%3Cg%20class%3D%22shapelayer%22%2F%3E%3C%2Fg%3E%3Cg%20class%3D%22infolayer%22%3E%3Cg%20class%3D%22legend%22%20pointer-events%3D%22all%22%20transform%3D%22translate(1158%2C%2030)%22%3E%3Crect%20class%3D%22bg%22%20shape-rendering%3D%22crispEdges%22%20style%3D%22stroke%3A%20rgb(68%2C%2068%2C%2068)%3B%20stroke-opacity%3A%201%3B%20fill%3A%20rgb(255%2C%20255%2C%20255)%3B%20fill-opacity%3A%201%3B%20stroke-width%3A%200px%3B%22%20width%3D%22150%22%20height%3D%2258%22%20x%3D%220%22%20y%3D%220%22%2F%3E%3Cg%20class%3D%22scrollbox%22%20transform%3D%22translate(0%2C%200)%22%20clip-path%3D%22url('%23legendabdfb9')%22%3E%3Cg%20class%3D%22groups%22%20transform%3D%22translate(0%2C%200)%22%3E%3Cg%20class%3D%22traces%22%20style%3D%22opacity%3A%201%3B%22%20transform%3D%22translate(0%2C%2014.5)%22%3E%3Ctext%20class%3D%22legendtext%20user-select-none%22%20text-anchor%3D%22start%22%20style%3D%22font-family%3A%20%26quot%3BOpen%20Sans%26quot%3B%2C%20verdana%2C%20arial%2C%20sans-serif%3B%20font-size%3A%2012px%3B%20fill%3A%20rgb(0%2C%200%2C%200)%3B%20fill-opacity%3A%200.65%3B%20white-space%3A%20pre%3B%22%20x%3D%2240%22%20y%3D%224.680000000000001%22%20data-unformatted%3D%22Last%20Curve%22%20data-math%3D%22N%22%3ELast%20Curve%3C%2Ftext%3E%3Cg%20class%3D%22layers%22%20style%3D%22opacity%3A%201%3B%22%3E%3Cg%20class%3D%22legendfill%22%2F%3E%3Cg%20class%3D%22legendlines%22%2F%3E%3Cg%20class%3D%22legendsymbols%22%3E%3Cg%20class%3D%22legendpoints%22%3E%3Cpath%20class%3D%22legendundefined%22%20d%3D%22M6%2C6H-6V-6H6Z%22%20transform%3D%22translate(20%2C0)%22%20style%3D%22stroke-width%3A%200px%3B%20fill%3A%20rgb(78%2C%20121%2C%20167)%3B%20fill-opacity%3A%201%3B%22%2F%3E%3C%2Fg%3E%3C%2Fg%3E%3C%2Fg%3E%3Crect%20class%3D%22legendtoggle%22%20style%3D%22cursor%3A%20pointer%3B%20fill%3A%20rgb(0%2C%200%2C%200)%3B%20fill-opacity%3A%200%3B%22%20pointer-events%3D%22all%22%20x%3D%220%22%20y%3D%22-9.5%22%20width%3D%22144.6666717529297%22%20height%3D%2219%22%2F%3E%3C%2Fg%3E%3C%2Fg%3E%3Cg%20class%3D%22groups%22%20transform%3D%22translate(0%2C%2010)%22%3E%3Cg%20class%3D%22traces%22%20style%3D%22opacity%3A%201%3B%22%20transform%3D%22translate(0%2C%2033.5)%22%3E%3Ctext%20class%3D%22legendtext%20user-select-none%22%20text-anchor%3D%22start%22%20style%3D%22font-family%3A%20%26quot%3BOpen%20Sans%26quot%3B%2C%20verdana%2C%20arial%2C%20sans-serif%3B%20font-size%3A%2012px%3B%20fill%3A%20rgb(0%2C%200%2C%200)%3B%20fill-opacity%3A%200.65%3B%20white-space%3A%20pre%3B%22%20x%3D%2240%22%20y%3D%224.680000000000001%22%20data-unformatted%3D%22Curve%20Parallel%20Shift%22%20data-math%3D%22N%22%3ECurve%20Parallel%20Shift%3C%2Ftext%3E%3Cg%20class%3D%22layers%22%20style%3D%22opacity%3A%201%3B%22%3E%3Cg%20class%3D%22legendfill%22%2F%3E%3Cg%20class%3D%22legendlines%22%2F%3E%3Cg%20class%3D%22legendsymbols%22%3E%3Cg%20class%3D%22legendpoints%22%3E%3Cpath%20class%3D%22legendundefined%22%20d%3D%22M6%2C6H-6V-6H6Z%22%20transform%3D%22translate(20%2C0)%22%20style%3D%22stroke-width%3A%200px%3B%20fill%3A%20rgb(242%2C%20142%2C%2044)%3B%20fill-opacity%3A%201%3B%22%2F%3E%3C%2Fg%3E%3C%2Fg%3E%3C%2Fg%3E%3Crect%20class%3D%22legendtoggle%22%20style%3D%22cursor%3A%20pointer%3B%20fill%3A%20rgb(0%2C%200%2C%200)%3B%20fill-opacity%3A%200%3B%22%20pointer-events%3D%22all%22%20x%3D%220%22%20y%3D%22-9.5%22%20width%3D%22144.6666717529297%22%20height%3D%2219%22%2F%3E%3C%2Fg%3E%3C%2Fg%3E%3C%2Fg%3E%3Crect%20class%3D%22scrollbar%22%20rx%3D%2220%22%20ry%3D%223%22%20width%3D%220%22%20height%3D%220%22%20style%3D%22fill%3A%20rgb(128%2C%20139%2C%20164)%3B%20fill-opacity%3A%201%3B%22%20x%3D%220%22%20y%3D%220%22%2F%3E%3C%2Fg%3E%3Cg%20class%3D%22g-gtitle%22%2F%3E%3Cg%20class%3D%22g-xtitle%22%2F%3E%3Cg%20class%3D%22g-ytitle%22%2F%3E%3C%2Fg%3E%3Cg%20class%3D%22menulayer%22%2F%3E%3Cg%20class%3D%22zoomlayer%22%2F%3E%3Cg%20class%3D%22hoverlayer%22%2F%3E%3C%2Fsvg%3E\">"
      ],
      "text/plain": [
       "Open the notebook in JupyterLab with the atoti extension installed and enabled to see this widget."
      ]
     },
     "metadata": {},
     "output_type": "display_data"
    }
   ],
   "source": [
    "position_sensitivity_cube.visualize(\n",
    "    \"Theoretical PnL Parallel Shift - Investment Portfolio\"\n",
    ")"
   ]
  },
  {
   "cell_type": "markdown",
   "metadata": {},
   "source": [
    "#### Curve Inversion Simulation\n",
    "\n",
    "An inverted yield curve is a predictor of economic recession as it implies that interest rates are going to fall. In fact, recessions usually cause interest rates to fall.  \n",
    "  \n",
    "Short-term bills are expected to plummet if recession is coming, as Federal Reserve will lower the fed funds rate when economy slows down. Therefore investors may avoid Treasurys with maturities of less than two years to have a safe investment. This sets back the demand for those bills and sends their yields up. Higher demands in the longer-term instruments lower the yields, hence an inverted curve occurs."
   ]
  },
  {
   "cell_type": "markdown",
   "metadata": {},
   "source": [
    "Let's run a simulation on the currency EUR and see the impact on the *Theoretical PnL*.\n",
    "We will set a negative 20bps on `last.VALUE` for the currency EUR for tenors 5Y and above and observe the change in the curve shape."
   ]
  },
  {
   "cell_type": "code",
   "execution_count": 37,
   "metadata": {},
   "outputs": [],
   "source": [
    "curve_inversion = curve_simulation.scenarios[\"Curve Inversion\"]"
   ]
  },
  {
   "cell_type": "code",
   "execution_count": 38,
   "metadata": {},
   "outputs": [],
   "source": [
    "curve_inversion += (\"5Y\", \"EUR\", -0.002)\n",
    "curve_inversion += (\"6Y\", \"EUR\", -0.002)\n",
    "curve_inversion += (\"7Y\", \"EUR\", -0.002)\n",
    "curve_inversion += (\"8Y\", \"EUR\", -0.002)\n",
    "curve_inversion += (\"9Y\", \"EUR\", -0.002)"
   ]
  },
  {
   "cell_type": "code",
   "execution_count": 39,
   "metadata": {},
   "outputs": [
    {
     "data": {
      "text/html": [
       "<div>\n",
       "<style scoped>\n",
       "    .dataframe tbody tr th:only-of-type {\n",
       "        vertical-align: middle;\n",
       "    }\n",
       "\n",
       "    .dataframe tbody tr th {\n",
       "        vertical-align: top;\n",
       "    }\n",
       "\n",
       "    .dataframe thead th {\n",
       "        text-align: right;\n",
       "    }\n",
       "</style>\n",
       "<table border=\"1\" class=\"dataframe\">\n",
       "  <thead>\n",
       "    <tr style=\"text-align: right;\">\n",
       "      <th></th>\n",
       "      <th></th>\n",
       "      <th>Curve Simulation_last.VALUE_add</th>\n",
       "      <th>Priority</th>\n",
       "    </tr>\n",
       "    <tr>\n",
       "      <th>tenor</th>\n",
       "      <th>currency</th>\n",
       "      <th></th>\n",
       "      <th></th>\n",
       "    </tr>\n",
       "  </thead>\n",
       "  <tbody>\n",
       "    <tr>\n",
       "      <th>5Y</th>\n",
       "      <th>EUR</th>\n",
       "      <td>-0.002</td>\n",
       "      <td>0.0</td>\n",
       "    </tr>\n",
       "    <tr>\n",
       "      <th>6Y</th>\n",
       "      <th>EUR</th>\n",
       "      <td>-0.002</td>\n",
       "      <td>0.0</td>\n",
       "    </tr>\n",
       "    <tr>\n",
       "      <th>7Y</th>\n",
       "      <th>EUR</th>\n",
       "      <td>-0.002</td>\n",
       "      <td>0.0</td>\n",
       "    </tr>\n",
       "    <tr>\n",
       "      <th>8Y</th>\n",
       "      <th>EUR</th>\n",
       "      <td>-0.002</td>\n",
       "      <td>0.0</td>\n",
       "    </tr>\n",
       "    <tr>\n",
       "      <th>9Y</th>\n",
       "      <th>EUR</th>\n",
       "      <td>-0.002</td>\n",
       "      <td>0.0</td>\n",
       "    </tr>\n",
       "  </tbody>\n",
       "</table>\n",
       "</div>"
      ],
      "text/plain": [
       "                Curve Simulation_last.VALUE_add  Priority\n",
       "tenor currency                                           \n",
       "5Y    EUR                                -0.002       0.0\n",
       "6Y    EUR                                -0.002       0.0\n",
       "7Y    EUR                                -0.002       0.0\n",
       "8Y    EUR                                -0.002       0.0\n",
       "9Y    EUR                                -0.002       0.0"
      ]
     },
     "execution_count": 39,
     "metadata": {},
     "output_type": "execute_result"
    }
   ],
   "source": [
    "curve_inversion.head(5)"
   ]
  },
  {
   "cell_type": "markdown",
   "metadata": {},
   "source": [
    "##### Explore Curve Inversion scenario impact on Theoretical PnL  \n",
    "  \n",
    "We see a slight inversion in the curve from the tenor 4Y to 5Y before it becomes a shift to the right, as in the case of a parallel shift.  \n",
    "In this case, we predict that the yields will dip for instruments with more than 5Y maturity."
   ]
  },
  {
   "cell_type": "code",
   "execution_count": 40,
   "metadata": {
    "activeviam": {
     "state": {
      "name": "Yield Curve Inversion",
      "type": "container",
      "value": {
       "body": {
        "configuration": {
         "mapping": {
          "splitBy": [],
          "values": [
           "[Measures].[last.VALUE]",
           "[Measures].[start_of_day.VALUE]"
          ],
          "xAxis": [
           "[Hierarchies].[tenor].[tenor]"
          ]
         },
         "type": "plotly-line-chart"
        },
        "query": {
         "mdx": "SELECT NON EMPTY [Hierarchies].[tenor].[tenor].Members ON ROWS, NON EMPTY {[Measures].[last.VALUE], [Measures].[start_of_day.VALUE]} ON COLUMNS FROM [Position_Sensitivities] WHERE ([Hierarchies].[currency].[ALL].[AllMember].[EUR], [Measure Simulations].[Curve Simulation].[Curve Simulation].[Curve Inversion]) CELL PROPERTIES VALUE, FORMATTED_VALUE, BACK_COLOR, FORE_COLOR, FONT_FLAGS",
         "serverUrl": "",
         "updateMode": "once"
        }
       },
       "containerKey": "chart",
       "showTitleBar": false,
       "style": {}
      }
     }
    },
    "atoti": {
     "height": 466,
     "state": {
      "name": "Yield Curve Inversion",
      "type": "container",
      "value": {
       "body": {
        "configuration": {
         "mapping": {
          "horizontal": [],
          "splitBy": [],
          "values": [
           "[Measures].[last.VALUE]",
           "[Measures].[start_of_day.VALUE]"
          ],
          "vertical": [],
          "verticalSubplots": [
           "[Measure Simulations].[Curve Simulation].[Curve Simulation]"
          ],
          "xAxis": [
           "[Hierarchies].[tenor].[tenor]"
          ]
         },
         "subplotModeEnabled": true,
         "type": "plotly-line-chart"
        },
        "query": {
         "contextValues": {},
         "mdx": "SELECT NON EMPTY {[Measures].[last.VALUE], [Measures].[start_of_day.VALUE]} ON COLUMNS, NON EMPTY Crossjoin([Hierarchies].[tenor].[tenor].Members, [Measure Simulations].[Curve Simulation].[Curve Simulation].Members) ON ROWS FROM (SELECT {[Measure Simulations].[Curve Simulation].[Curve Simulation].[Curve Inversion], [Measure Simulations].[Curve Simulation].[Curve Simulation].[Last Curve]} ON COLUMNS FROM [Position_Sensitivities]) WHERE [Hierarchies].[currency].[ALL].[AllMember].[EUR] CELL PROPERTIES VALUE, FORMATTED_VALUE, BACK_COLOR, FORE_COLOR, FONT_FLAGS",
         "serverUrl": ""
        }
       },
       "containerKey": "chart",
       "showTitleBar": false,
       "style": {}
      }
     }
    }
   },
   "outputs": [
    {
     "data": {
      "application/vnd.atoti.v0+json": {
       "cube": "Position_Sensitivities",
       "error": null,
       "name": "Yield Curve Inversion",
       "session": "Unnamed"
      },
      "text/html": [
       "<img src=\"data:image/svg+xml;charset=utf8,%3C%3Fxml%20version%3D%221.0%22%20standalone%3D%22no%22%3F%3E%3Csvg%20xmlns%3D%22http%3A%2F%2Fwww.w3.org%2F2000%2Fsvg%22%20xmlns%3Axlink%3D%22http%3A%2F%2Fwww.w3.org%2F1999%2Fxlink%22%20viewBox%3D%220%200%201308%20466%22%3E%3Cdefs%20id%3D%22defs-d68bb3%22%3E%3Cg%20class%3D%22clips%22%3E%3CclipPath%20id%3D%22clipd68bb3xyplot%22%20class%3D%22plotclip%22%3E%3Crect%20width%3D%221053%22%20height%3D%22168.63157894736844%22%2F%3E%3C%2FclipPath%3E%3CclipPath%20id%3D%22clipd68bb3xy2plot%22%20class%3D%22plotclip%22%3E%3Crect%20width%3D%221053%22%20height%3D%22168.6315789473684%22%2F%3E%3C%2FclipPath%3E%3CclipPath%20class%3D%22axesclip%22%20id%3D%22clipd68bb3x%22%3E%3Crect%20x%3D%2280%22%20y%3D%220%22%20width%3D%221053%22%20height%3D%22466%22%2F%3E%3C%2FclipPath%3E%3CclipPath%20class%3D%22axesclip%22%20id%3D%22clipd68bb3y%22%3E%3Crect%20x%3D%220%22%20y%3D%2230%22%20width%3D%221308%22%20height%3D%22168.63157894736844%22%2F%3E%3C%2FclipPath%3E%3CclipPath%20class%3D%22axesclip%22%20id%3D%22clipd68bb3xy%22%3E%3Crect%20x%3D%2280%22%20y%3D%2230%22%20width%3D%221053%22%20height%3D%22168.63157894736844%22%2F%3E%3C%2FclipPath%3E%3CclipPath%20class%3D%22axesclip%22%20id%3D%22clipd68bb3y2%22%3E%3Crect%20x%3D%220%22%20y%3D%22217.36842105263162%22%20width%3D%221308%22%20height%3D%22168.6315789473684%22%2F%3E%3C%2FclipPath%3E%3CclipPath%20class%3D%22axesclip%22%20id%3D%22clipd68bb3xy2%22%3E%3Crect%20x%3D%2280%22%20y%3D%22217.36842105263162%22%20width%3D%221053%22%20height%3D%22168.6315789473684%22%2F%3E%3C%2FclipPath%3E%3C%2Fg%3E%3Cg%20class%3D%22gradients%22%2F%3E%3C%2Fdefs%3E%3Cg%20class%3D%22bglayer%22%2F%3E%3Cg%20class%3D%22draglayer%20cursor-crosshair%22%3E%3Cg%20class%3D%22xy%22%3E%3Crect%20class%3D%22nsewdrag%20drag%22%20style%3D%22fill%3A%20transparent%3B%20stroke-width%3A%200px%3B%20pointer-events%3A%20all%3B%22%20data-subplot%3D%22xy%22%20x%3D%2280%22%20y%3D%2230%22%20width%3D%221053%22%20height%3D%22168.63157894736844%22%2F%3E%3Crect%20class%3D%22nwdrag%20drag%20cursor-nw-resize%22%20style%3D%22fill%3A%20transparent%3B%20stroke-width%3A%200px%3B%20pointer-events%3A%20all%3B%22%20data-subplot%3D%22xy%22%20x%3D%2260%22%20y%3D%2210%22%20width%3D%2220%22%20height%3D%2220%22%2F%3E%3Crect%20class%3D%22nedrag%20drag%20cursor-ne-resize%22%20style%3D%22fill%3A%20transparent%3B%20stroke-width%3A%200px%3B%20pointer-events%3A%20all%3B%22%20data-subplot%3D%22xy%22%20x%3D%221133%22%20y%3D%2210%22%20width%3D%2220%22%20height%3D%2220%22%2F%3E%3Crect%20class%3D%22swdrag%20drag%20cursor-sw-resize%22%20style%3D%22fill%3A%20transparent%3B%20stroke-width%3A%200px%3B%20pointer-events%3A%20all%3B%22%20data-subplot%3D%22xy%22%20x%3D%2260%22%20y%3D%22198.63157894736844%22%20width%3D%2220%22%20height%3D%2220%22%2F%3E%3Crect%20class%3D%22sedrag%20drag%20cursor-se-resize%22%20style%3D%22fill%3A%20transparent%3B%20stroke-width%3A%200px%3B%20pointer-events%3A%20all%3B%22%20data-subplot%3D%22xy%22%20x%3D%221133%22%20y%3D%22198.63157894736844%22%20width%3D%2220%22%20height%3D%2220%22%2F%3E%3Crect%20class%3D%22nsdrag%20drag%20cursor-ns-resize%22%20style%3D%22fill%3A%20transparent%3B%20stroke-width%3A%200px%3B%20pointer-events%3A%20all%3B%22%20data-subplot%3D%22xy%22%20x%3D%2259.5%22%20y%3D%2246.863157894736844%22%20width%3D%2220%22%20height%3D%22134.90526315789475%22%2F%3E%3Crect%20class%3D%22sdrag%20drag%20cursor-s-resize%22%20style%3D%22fill%3A%20transparent%3B%20stroke-width%3A%200px%3B%20pointer-events%3A%20all%3B%22%20data-subplot%3D%22xy%22%20x%3D%2259.5%22%20y%3D%22181.7684210526316%22%20width%3D%2220%22%20height%3D%2216.863157894736844%22%2F%3E%3Crect%20class%3D%22ndrag%20drag%20cursor-n-resize%22%20style%3D%22fill%3A%20transparent%3B%20stroke-width%3A%200px%3B%20pointer-events%3A%20all%3B%22%20data-subplot%3D%22xy%22%20x%3D%2259.5%22%20y%3D%2230%22%20width%3D%2220%22%20height%3D%2216.863157894736844%22%2F%3E%3C%2Fg%3E%3Cg%20class%3D%22xy2%22%3E%3Crect%20class%3D%22nsewdrag%20drag%22%20style%3D%22fill%3A%20transparent%3B%20stroke-width%3A%200px%3B%20pointer-events%3A%20all%3B%22%20data-subplot%3D%22xy2%22%20x%3D%2280%22%20y%3D%22217.36842105263162%22%20width%3D%221053%22%20height%3D%22168.6315789473684%22%2F%3E%3Crect%20class%3D%22nwdrag%20drag%20cursor-nw-resize%22%20style%3D%22fill%3A%20transparent%3B%20stroke-width%3A%200px%3B%20pointer-events%3A%20all%3B%22%20data-subplot%3D%22xy2%22%20x%3D%2260%22%20y%3D%22197.36842105263162%22%20width%3D%2220%22%20height%3D%2220%22%2F%3E%3Crect%20class%3D%22nedrag%20drag%20cursor-ne-resize%22%20style%3D%22fill%3A%20transparent%3B%20stroke-width%3A%200px%3B%20pointer-events%3A%20all%3B%22%20data-subplot%3D%22xy2%22%20x%3D%221133%22%20y%3D%22197.36842105263162%22%20width%3D%2220%22%20height%3D%2220%22%2F%3E%3Crect%20class%3D%22swdrag%20drag%20cursor-sw-resize%22%20style%3D%22fill%3A%20transparent%3B%20stroke-width%3A%200px%3B%20pointer-events%3A%20all%3B%22%20data-subplot%3D%22xy2%22%20x%3D%2260%22%20y%3D%22386%22%20width%3D%2220%22%20height%3D%2220%22%2F%3E%3Crect%20class%3D%22sedrag%20drag%20cursor-se-resize%22%20style%3D%22fill%3A%20transparent%3B%20stroke-width%3A%200px%3B%20pointer-events%3A%20all%3B%22%20data-subplot%3D%22xy2%22%20x%3D%221133%22%20y%3D%22386%22%20width%3D%2220%22%20height%3D%2220%22%2F%3E%3Crect%20class%3D%22ewdrag%20drag%20cursor-ew-resize%22%20style%3D%22fill%3A%20transparent%3B%20stroke-width%3A%200px%3B%20pointer-events%3A%20all%3B%22%20data-subplot%3D%22xy2%22%20x%3D%22185.3%22%20y%3D%22386.5%22%20width%3D%22842.4000000000001%22%20height%3D%2220%22%2F%3E%3Crect%20class%3D%22wdrag%20drag%20cursor-w-resize%22%20style%3D%22fill%3A%20transparent%3B%20stroke-width%3A%200px%3B%20pointer-events%3A%20all%3B%22%20data-subplot%3D%22xy2%22%20x%3D%2280%22%20y%3D%22386.5%22%20width%3D%22105.30000000000001%22%20height%3D%2220%22%2F%3E%3Crect%20class%3D%22edrag%20drag%20cursor-e-resize%22%20style%3D%22fill%3A%20transparent%3B%20stroke-width%3A%200px%3B%20pointer-events%3A%20all%3B%22%20data-subplot%3D%22xy2%22%20x%3D%221027.7%22%20y%3D%22386.5%22%20width%3D%22105.30000000000001%22%20height%3D%2220%22%2F%3E%3Crect%20class%3D%22nsdrag%20drag%20cursor-ns-resize%22%20style%3D%22fill%3A%20transparent%3B%20stroke-width%3A%200px%3B%20pointer-events%3A%20all%3B%22%20data-subplot%3D%22xy2%22%20x%3D%2259.5%22%20y%3D%22234.23157894736846%22%20width%3D%2220%22%20height%3D%22134.90526315789472%22%2F%3E%3Crect%20class%3D%22sdrag%20drag%20cursor-s-resize%22%20style%3D%22fill%3A%20transparent%3B%20stroke-width%3A%200px%3B%20pointer-events%3A%20all%3B%22%20data-subplot%3D%22xy2%22%20x%3D%2259.5%22%20y%3D%22369.1368421052632%22%20width%3D%2220%22%20height%3D%2216.86315789473684%22%2F%3E%3Crect%20class%3D%22ndrag%20drag%20cursor-n-resize%22%20style%3D%22fill%3A%20transparent%3B%20stroke-width%3A%200px%3B%20pointer-events%3A%20all%3B%22%20data-subplot%3D%22xy2%22%20x%3D%2259.5%22%20y%3D%22217.36842105263162%22%20width%3D%2220%22%20height%3D%2216.86315789473684%22%2F%3E%3C%2Fg%3E%3C%2Fg%3E%3Cg%20class%3D%22layer-below%22%3E%3Cg%20class%3D%22imagelayer%22%2F%3E%3Cg%20class%3D%22shapelayer%22%2F%3E%3C%2Fg%3E%3Cg%20class%3D%22cartesianlayer%22%3E%3Cg%20class%3D%22subplot%20xy%22%3E%3Cg%20class%3D%22layer-subplot%22%3E%3Cg%20class%3D%22shapelayer%22%2F%3E%3Cg%20class%3D%22imagelayer%22%2F%3E%3C%2Fg%3E%3Cg%20class%3D%22gridlayer%22%3E%3Cg%20class%3D%22x%22%3E%3Cpath%20class%3D%22xgrid%20crisp%22%20transform%3D%22translate(136.4%2C0)%22%20d%3D%22M0%2C30v168.63157894736844%22%20style%3D%22stroke%3A%20rgb(0%2C%200%2C%200)%3B%20stroke-opacity%3A%200.1625%3B%20stroke-width%3A%201px%3B%22%2F%3E%3Cpath%20class%3D%22xgrid%20crisp%22%20transform%3D%22translate(253.92%2C0)%22%20d%3D%22M0%2C30v168.63157894736844%22%20style%3D%22stroke%3A%20rgb(0%2C%200%2C%200)%3B%20stroke-opacity%3A%200.1625%3B%20stroke-width%3A%201px%3B%22%2F%3E%3Cpath%20class%3D%22xgrid%20crisp%22%20transform%3D%22translate(371.45%2C0)%22%20d%3D%22M0%2C30v168.63157894736844%22%20style%3D%22stroke%3A%20rgb(0%2C%200%2C%200)%3B%20stroke-opacity%3A%200.1625%3B%20stroke-width%3A%201px%3B%22%2F%3E%3Cpath%20class%3D%22xgrid%20crisp%22%20transform%3D%22translate(488.97%2C0)%22%20d%3D%22M0%2C30v168.63157894736844%22%20style%3D%22stroke%3A%20rgb(0%2C%200%2C%200)%3B%20stroke-opacity%3A%200.1625%3B%20stroke-width%3A%201px%3B%22%2F%3E%3Cpath%20class%3D%22xgrid%20crisp%22%20transform%3D%22translate(606.5%2C0)%22%20d%3D%22M0%2C30v168.63157894736844%22%20style%3D%22stroke%3A%20rgb(0%2C%200%2C%200)%3B%20stroke-opacity%3A%200.1625%3B%20stroke-width%3A%201px%3B%22%2F%3E%3Cpath%20class%3D%22xgrid%20crisp%22%20transform%3D%22translate(724.02%2C0)%22%20d%3D%22M0%2C30v168.63157894736844%22%20style%3D%22stroke%3A%20rgb(0%2C%200%2C%200)%3B%20stroke-opacity%3A%200.1625%3B%20stroke-width%3A%201px%3B%22%2F%3E%3Cpath%20class%3D%22xgrid%20crisp%22%20transform%3D%22translate(841.55%2C0)%22%20d%3D%22M0%2C30v168.63157894736844%22%20style%3D%22stroke%3A%20rgb(0%2C%200%2C%200)%3B%20stroke-opacity%3A%200.1625%3B%20stroke-width%3A%201px%3B%22%2F%3E%3Cpath%20class%3D%22xgrid%20crisp%22%20transform%3D%22translate(959.07%2C0)%22%20d%3D%22M0%2C30v168.63157894736844%22%20style%3D%22stroke%3A%20rgb(0%2C%200%2C%200)%3B%20stroke-opacity%3A%200.1625%3B%20stroke-width%3A%201px%3B%22%2F%3E%3Cpath%20class%3D%22xgrid%20crisp%22%20transform%3D%22translate(1076.6%2C0)%22%20d%3D%22M0%2C30v168.63157894736844%22%20style%3D%22stroke%3A%20rgb(0%2C%200%2C%200)%3B%20stroke-opacity%3A%200.1625%3B%20stroke-width%3A%201px%3B%22%2F%3E%3C%2Fg%3E%3Cg%20class%3D%22y%22%3E%3Cpath%20class%3D%22ygrid%20crisp%22%20transform%3D%22translate(0%2C186.45)%22%20d%3D%22M80%2C0h1053%22%20style%3D%22stroke%3A%20rgb(0%2C%200%2C%200)%3B%20stroke-opacity%3A%200.1625%3B%20stroke-width%3A%201px%3B%22%2F%3E%3Cpath%20class%3D%22ygrid%20crisp%22%20transform%3D%22translate(0%2C115.03)%22%20d%3D%22M80%2C0h1053%22%20style%3D%22stroke%3A%20rgb(0%2C%200%2C%200)%3B%20stroke-opacity%3A%200.1625%3B%20stroke-width%3A%201px%3B%22%2F%3E%3Cpath%20class%3D%22ygrid%20crisp%22%20transform%3D%22translate(0%2C43.61)%22%20d%3D%22M80%2C0h1053%22%20style%3D%22stroke%3A%20rgb(0%2C%200%2C%200)%3B%20stroke-opacity%3A%200.1625%3B%20stroke-width%3A%201px%3B%22%2F%3E%3C%2Fg%3E%3C%2Fg%3E%3Cg%20class%3D%22zerolinelayer%22%2F%3E%3Cpath%20class%3D%22xlines-below%22%2F%3E%3Cpath%20class%3D%22ylines-below%22%2F%3E%3Cg%20class%3D%22overlines-below%22%2F%3E%3Cg%20class%3D%22xaxislayer-below%22%2F%3E%3Cg%20class%3D%22yaxislayer-below%22%2F%3E%3Cg%20class%3D%22overaxes-below%22%2F%3E%3Cg%20class%3D%22plot%22%20transform%3D%22translate(80%2C%2030)%22%20clip-path%3D%22url('%23clipd68bb3xyplot')%22%3E%3Cg%20class%3D%22scatterlayer%20mlayer%22%3E%3Cg%20class%3D%22trace%20scatter%20trace581a2a%22%20style%3D%22stroke-miterlimit%3A%202%3B%20opacity%3A%201%3B%22%3E%3Cg%20class%3D%22fills%22%2F%3E%3Cg%20class%3D%22errorbars%22%2F%3E%3Cg%20class%3D%22lines%22%3E%3Cpath%20class%3D%22js-line%22%20style%3D%22vector-effect%3A%20non-scaling-stroke%3B%20fill%3A%20none%3B%20stroke%3A%20rgb(78%2C%20121%2C%20167)%3B%20stroke-opacity%3A%201%3B%20stroke-width%3A%202px%3B%20opacity%3A%201%3B%22%20d%3D%22M56.4%2C155.02L173.92%2C83.6L291.45%2C69.32L761.55%2C12.18L879.07%2C12.18L996.6%2C12.18%22%2F%3E%3C%2Fg%3E%3Cg%20class%3D%22points%22%3E%3Cpath%20class%3D%22point%22%20transform%3D%22translate(56.4%2C155.02)%22%20style%3D%22opacity%3A%200.2%3B%20stroke-width%3A%200px%3B%20fill%3A%20rgb(78%2C%20121%2C%20167)%3B%20fill-opacity%3A%201%3B%22%20d%3D%22M3%2C0A3%2C3%200%201%2C1%200%2C-3A3%2C3%200%200%2C1%203%2C0Z%22%2F%3E%3Cpath%20class%3D%22point%22%20transform%3D%22translate(173.92%2C83.6)%22%20style%3D%22opacity%3A%200.2%3B%20stroke-width%3A%200px%3B%20fill%3A%20rgb(78%2C%20121%2C%20167)%3B%20fill-opacity%3A%201%3B%22%20d%3D%22M3%2C0A3%2C3%200%201%2C1%200%2C-3A3%2C3%200%200%2C1%203%2C0Z%22%2F%3E%3Cpath%20class%3D%22point%22%20transform%3D%22translate(291.45%2C69.32)%22%20style%3D%22opacity%3A%200.2%3B%20stroke-width%3A%200px%3B%20fill%3A%20rgb(78%2C%20121%2C%20167)%3B%20fill-opacity%3A%201%3B%22%20d%3D%22M3%2C0A3%2C3%200%201%2C1%200%2C-3A3%2C3%200%200%2C1%203%2C0Z%22%2F%3E%3Cpath%20class%3D%22point%22%20transform%3D%22translate(408.97%2C55.03)%22%20style%3D%22opacity%3A%200.2%3B%20stroke-width%3A%200px%3B%20fill%3A%20rgb(78%2C%20121%2C%20167)%3B%20fill-opacity%3A%201%3B%22%20d%3D%22M3%2C0A3%2C3%200%201%2C1%200%2C-3A3%2C3%200%200%2C1%203%2C0Z%22%2F%3E%3Cpath%20class%3D%22point%22%20transform%3D%22translate(526.5%2C40.75)%22%20style%3D%22opacity%3A%200.2%3B%20stroke-width%3A%200px%3B%20fill%3A%20rgb(78%2C%20121%2C%20167)%3B%20fill-opacity%3A%201%3B%22%20d%3D%22M3%2C0A3%2C3%200%201%2C1%200%2C-3A3%2C3%200%200%2C1%203%2C0Z%22%2F%3E%3Cpath%20class%3D%22point%22%20transform%3D%22translate(644.02%2C26.47)%22%20style%3D%22opacity%3A%200.2%3B%20stroke-width%3A%200px%3B%20fill%3A%20rgb(78%2C%20121%2C%20167)%3B%20fill-opacity%3A%201%3B%22%20d%3D%22M3%2C0A3%2C3%200%201%2C1%200%2C-3A3%2C3%200%200%2C1%203%2C0Z%22%2F%3E%3Cpath%20class%3D%22point%22%20transform%3D%22translate(761.55%2C12.18)%22%20style%3D%22opacity%3A%200.2%3B%20stroke-width%3A%200px%3B%20fill%3A%20rgb(78%2C%20121%2C%20167)%3B%20fill-opacity%3A%201%3B%22%20d%3D%22M3%2C0A3%2C3%200%201%2C1%200%2C-3A3%2C3%200%200%2C1%203%2C0Z%22%2F%3E%3Cpath%20class%3D%22point%22%20transform%3D%22translate(879.07%2C12.18)%22%20style%3D%22opacity%3A%200.2%3B%20stroke-width%3A%200px%3B%20fill%3A%20rgb(78%2C%20121%2C%20167)%3B%20fill-opacity%3A%201%3B%22%20d%3D%22M3%2C0A3%2C3%200%201%2C1%200%2C-3A3%2C3%200%200%2C1%203%2C0Z%22%2F%3E%3Cpath%20class%3D%22point%22%20transform%3D%22translate(996.6%2C12.18)%22%20style%3D%22opacity%3A%200.2%3B%20stroke-width%3A%200px%3B%20fill%3A%20rgb(78%2C%20121%2C%20167)%3B%20fill-opacity%3A%201%3B%22%20d%3D%22M3%2C0A3%2C3%200%201%2C1%200%2C-3A3%2C3%200%200%2C1%203%2C0Z%22%2F%3E%3C%2Fg%3E%3Cg%20class%3D%22text%22%2F%3E%3C%2Fg%3E%3Cg%20class%3D%22trace%20scatter%20trace4a9e70%22%20style%3D%22stroke-miterlimit%3A%202%3B%20opacity%3A%201%3B%22%3E%3Cg%20class%3D%22fills%22%2F%3E%3Cg%20class%3D%22errorbars%22%2F%3E%3Cg%20class%3D%22lines%22%3E%3Cpath%20class%3D%22js-line%22%20style%3D%22vector-effect%3A%20non-scaling-stroke%3B%20fill%3A%20none%3B%20stroke%3A%20rgb(242%2C%20142%2C%2044)%3B%20stroke-opacity%3A%201%3B%20stroke-width%3A%202px%3B%20opacity%3A%201%3B%22%20d%3D%22M56.4%2C156.45L173.92%2C85.03L291.45%2C70.75L761.55%2C13.61L879.07%2C13.61L996.6%2C13.61%22%2F%3E%3C%2Fg%3E%3Cg%20class%3D%22points%22%3E%3Cpath%20class%3D%22point%22%20transform%3D%22translate(56.4%2C156.45)%22%20style%3D%22opacity%3A%200.2%3B%20stroke-width%3A%200px%3B%20fill%3A%20rgb(242%2C%20142%2C%2044)%3B%20fill-opacity%3A%201%3B%22%20d%3D%22M3%2C0A3%2C3%200%201%2C1%200%2C-3A3%2C3%200%200%2C1%203%2C0Z%22%2F%3E%3Cpath%20class%3D%22point%22%20transform%3D%22translate(173.92%2C85.03)%22%20style%3D%22opacity%3A%200.2%3B%20stroke-width%3A%200px%3B%20fill%3A%20rgb(242%2C%20142%2C%2044)%3B%20fill-opacity%3A%201%3B%22%20d%3D%22M3%2C0A3%2C3%200%201%2C1%200%2C-3A3%2C3%200%200%2C1%203%2C0Z%22%2F%3E%3Cpath%20class%3D%22point%22%20transform%3D%22translate(291.45%2C70.75)%22%20style%3D%22opacity%3A%200.2%3B%20stroke-width%3A%200px%3B%20fill%3A%20rgb(242%2C%20142%2C%2044)%3B%20fill-opacity%3A%201%3B%22%20d%3D%22M3%2C0A3%2C3%200%201%2C1%200%2C-3A3%2C3%200%200%2C1%203%2C0Z%22%2F%3E%3Cpath%20class%3D%22point%22%20transform%3D%22translate(408.97%2C56.46)%22%20style%3D%22opacity%3A%201%3B%20stroke-width%3A%200px%3B%20fill%3A%20rgb(242%2C%20142%2C%2044)%3B%20fill-opacity%3A%201%3B%22%20d%3D%22M3%2C0A3%2C3%200%201%2C1%200%2C-3A3%2C3%200%200%2C1%203%2C0Z%22%2F%3E%3Cpath%20class%3D%22point%22%20transform%3D%22translate(526.5%2C42.18)%22%20style%3D%22opacity%3A%200.2%3B%20stroke-width%3A%200px%3B%20fill%3A%20rgb(242%2C%20142%2C%2044)%3B%20fill-opacity%3A%201%3B%22%20d%3D%22M3%2C0A3%2C3%200%201%2C1%200%2C-3A3%2C3%200%200%2C1%203%2C0Z%22%2F%3E%3Cpath%20class%3D%22point%22%20transform%3D%22translate(644.02%2C27.89)%22%20style%3D%22opacity%3A%200.2%3B%20stroke-width%3A%200px%3B%20fill%3A%20rgb(242%2C%20142%2C%2044)%3B%20fill-opacity%3A%201%3B%22%20d%3D%22M3%2C0A3%2C3%200%201%2C1%200%2C-3A3%2C3%200%200%2C1%203%2C0Z%22%2F%3E%3Cpath%20class%3D%22point%22%20transform%3D%22translate(761.55%2C13.61)%22%20style%3D%22opacity%3A%200.2%3B%20stroke-width%3A%200px%3B%20fill%3A%20rgb(242%2C%20142%2C%2044)%3B%20fill-opacity%3A%201%3B%22%20d%3D%22M3%2C0A3%2C3%200%201%2C1%200%2C-3A3%2C3%200%200%2C1%203%2C0Z%22%2F%3E%3Cpath%20class%3D%22point%22%20transform%3D%22translate(879.07%2C13.61)%22%20style%3D%22opacity%3A%200.2%3B%20stroke-width%3A%200px%3B%20fill%3A%20rgb(242%2C%20142%2C%2044)%3B%20fill-opacity%3A%201%3B%22%20d%3D%22M3%2C0A3%2C3%200%201%2C1%200%2C-3A3%2C3%200%200%2C1%203%2C0Z%22%2F%3E%3Cpath%20class%3D%22point%22%20transform%3D%22translate(996.6%2C13.61)%22%20style%3D%22opacity%3A%200.2%3B%20stroke-width%3A%200px%3B%20fill%3A%20rgb(242%2C%20142%2C%2044)%3B%20fill-opacity%3A%201%3B%22%20d%3D%22M3%2C0A3%2C3%200%201%2C1%200%2C-3A3%2C3%200%200%2C1%203%2C0Z%22%2F%3E%3C%2Fg%3E%3Cg%20class%3D%22text%22%2F%3E%3C%2Fg%3E%3C%2Fg%3E%3C%2Fg%3E%3Cg%20class%3D%22overplot%22%2F%3E%3Cpath%20class%3D%22xlines-above%20crisp%22%20style%3D%22fill%3A%20none%3B%22%20d%3D%22M0%2C0%22%2F%3E%3Cpath%20class%3D%22ylines-above%20crisp%22%20style%3D%22fill%3A%20none%3B%20stroke-width%3A%201px%3B%20stroke%3A%20rgb(0%2C%200%2C%200)%3B%20stroke-opacity%3A%200.1625%3B%22%20d%3D%22M79.5%2C30V198.63157894736844%22%2F%3E%3Cg%20class%3D%22overlines-above%22%2F%3E%3Cg%20class%3D%22xaxislayer-above%22%2F%3E%3Cg%20class%3D%22yaxislayer-above%22%3E%3Cg%20class%3D%22ytick%22%3E%3Ctext%20text-anchor%3D%22end%22%20x%3D%2276.6%22%20y%3D%224.199999999999999%22%20style%3D%22font-family%3A%20%26quot%3BOpen%20Sans%26quot%3B%2C%20verdana%2C%20arial%2C%20sans-serif%3B%20font-size%3A%2012px%3B%20fill%3A%20rgb(0%2C%200%2C%200)%3B%20fill-opacity%3A%200.65%3B%20white-space%3A%20pre%3B%22%20data-unformatted%3D%220.01%22%20data-math%3D%22N%22%20transform%3D%22translate(0%2C186.45)%22%3E0.01%3C%2Ftext%3E%3C%2Fg%3E%3Cg%20class%3D%22ytick%22%3E%3Ctext%20text-anchor%3D%22end%22%20x%3D%2276.6%22%20y%3D%224.199999999999999%22%20style%3D%22font-family%3A%20%26quot%3BOpen%20Sans%26quot%3B%2C%20verdana%2C%20arial%2C%20sans-serif%3B%20font-size%3A%2012px%3B%20fill%3A%20rgb(0%2C%200%2C%200)%3B%20fill-opacity%3A%200.65%3B%20white-space%3A%20pre%3B%22%20data-unformatted%3D%220.015%22%20data-math%3D%22N%22%20transform%3D%22translate(0%2C115.03)%22%3E0.015%3C%2Ftext%3E%3C%2Fg%3E%3Cg%20class%3D%22ytick%22%3E%3Ctext%20text-anchor%3D%22end%22%20x%3D%2276.6%22%20y%3D%224.199999999999999%22%20style%3D%22font-family%3A%20%26quot%3BOpen%20Sans%26quot%3B%2C%20verdana%2C%20arial%2C%20sans-serif%3B%20font-size%3A%2012px%3B%20fill%3A%20rgb(0%2C%200%2C%200)%3B%20fill-opacity%3A%200.65%3B%20white-space%3A%20pre%3B%22%20data-unformatted%3D%220.02%22%20data-math%3D%22N%22%20transform%3D%22translate(0%2C43.61)%22%3E0.02%3C%2Ftext%3E%3C%2Fg%3E%3C%2Fg%3E%3Cg%20class%3D%22overaxes-above%22%2F%3E%3C%2Fg%3E%3Cg%20class%3D%22subplot%20xy2%22%3E%3Cg%20class%3D%22layer-subplot%22%3E%3Cg%20class%3D%22shapelayer%22%2F%3E%3Cg%20class%3D%22imagelayer%22%2F%3E%3C%2Fg%3E%3Cg%20class%3D%22gridlayer%22%3E%3Cg%20class%3D%22x%22%3E%3Cpath%20class%3D%22xgrid%20crisp%22%20transform%3D%22translate(136.4%2C0)%22%20d%3D%22M0%2C217.36842105263162v168.6315789473684%22%20style%3D%22stroke%3A%20rgb(0%2C%200%2C%200)%3B%20stroke-opacity%3A%200.1625%3B%20stroke-width%3A%201px%3B%22%2F%3E%3Cpath%20class%3D%22xgrid%20crisp%22%20transform%3D%22translate(253.92%2C0)%22%20d%3D%22M0%2C217.36842105263162v168.6315789473684%22%20style%3D%22stroke%3A%20rgb(0%2C%200%2C%200)%3B%20stroke-opacity%3A%200.1625%3B%20stroke-width%3A%201px%3B%22%2F%3E%3Cpath%20class%3D%22xgrid%20crisp%22%20transform%3D%22translate(371.45%2C0)%22%20d%3D%22M0%2C217.36842105263162v168.6315789473684%22%20style%3D%22stroke%3A%20rgb(0%2C%200%2C%200)%3B%20stroke-opacity%3A%200.1625%3B%20stroke-width%3A%201px%3B%22%2F%3E%3Cpath%20class%3D%22xgrid%20crisp%22%20transform%3D%22translate(488.97%2C0)%22%20d%3D%22M0%2C217.36842105263162v168.6315789473684%22%20style%3D%22stroke%3A%20rgb(0%2C%200%2C%200)%3B%20stroke-opacity%3A%200.1625%3B%20stroke-width%3A%201px%3B%22%2F%3E%3Cpath%20class%3D%22xgrid%20crisp%22%20transform%3D%22translate(606.5%2C0)%22%20d%3D%22M0%2C217.36842105263162v168.6315789473684%22%20style%3D%22stroke%3A%20rgb(0%2C%200%2C%200)%3B%20stroke-opacity%3A%200.1625%3B%20stroke-width%3A%201px%3B%22%2F%3E%3Cpath%20class%3D%22xgrid%20crisp%22%20transform%3D%22translate(724.02%2C0)%22%20d%3D%22M0%2C217.36842105263162v168.6315789473684%22%20style%3D%22stroke%3A%20rgb(0%2C%200%2C%200)%3B%20stroke-opacity%3A%200.1625%3B%20stroke-width%3A%201px%3B%22%2F%3E%3Cpath%20class%3D%22xgrid%20crisp%22%20transform%3D%22translate(841.55%2C0)%22%20d%3D%22M0%2C217.36842105263162v168.6315789473684%22%20style%3D%22stroke%3A%20rgb(0%2C%200%2C%200)%3B%20stroke-opacity%3A%200.1625%3B%20stroke-width%3A%201px%3B%22%2F%3E%3Cpath%20class%3D%22xgrid%20crisp%22%20transform%3D%22translate(959.07%2C0)%22%20d%3D%22M0%2C217.36842105263162v168.6315789473684%22%20style%3D%22stroke%3A%20rgb(0%2C%200%2C%200)%3B%20stroke-opacity%3A%200.1625%3B%20stroke-width%3A%201px%3B%22%2F%3E%3Cpath%20class%3D%22xgrid%20crisp%22%20transform%3D%22translate(1076.6%2C0)%22%20d%3D%22M0%2C217.36842105263162v168.6315789473684%22%20style%3D%22stroke%3A%20rgb(0%2C%200%2C%200)%3B%20stroke-opacity%3A%200.1625%3B%20stroke-width%3A%201px%3B%22%2F%3E%3C%2Fg%3E%3Cg%20class%3D%22y2%22%3E%3Cpath%20class%3D%22y2grid%20crisp%22%20transform%3D%22translate(0%2C373.8184210526316)%22%20d%3D%22M80%2C0h1053%22%20style%3D%22stroke%3A%20rgb(238%2C%20238%2C%20238)%3B%20stroke-opacity%3A%201%3B%20stroke-width%3A%201px%3B%22%2F%3E%3Cpath%20class%3D%22y2grid%20crisp%22%20transform%3D%22translate(0%2C301.6884210526316)%22%20d%3D%22M80%2C0h1053%22%20style%3D%22stroke%3A%20rgb(238%2C%20238%2C%20238)%3B%20stroke-opacity%3A%201%3B%20stroke-width%3A%201px%3B%22%2F%3E%3Cpath%20class%3D%22y2grid%20crisp%22%20transform%3D%22translate(0%2C229.54842105263162)%22%20d%3D%22M80%2C0h1053%22%20style%3D%22stroke%3A%20rgb(238%2C%20238%2C%20238)%3B%20stroke-opacity%3A%201%3B%20stroke-width%3A%201px%3B%22%2F%3E%3C%2Fg%3E%3C%2Fg%3E%3Cg%20class%3D%22zerolinelayer%22%2F%3E%3Cpath%20class%3D%22xlines-below%22%2F%3E%3Cpath%20class%3D%22ylines-below%22%2F%3E%3Cg%20class%3D%22overlines-below%22%2F%3E%3Cg%20class%3D%22xaxislayer-below%22%2F%3E%3Cg%20class%3D%22yaxislayer-below%22%2F%3E%3Cg%20class%3D%22overaxes-below%22%2F%3E%3Cg%20class%3D%22plot%22%20transform%3D%22translate(80%2C%20217.36842105263162)%22%20clip-path%3D%22url('%23clipd68bb3xy2plot')%22%3E%3Cg%20class%3D%22scatterlayer%20mlayer%22%3E%3Cg%20class%3D%22trace%20scatter%20tracec5a80d%22%20style%3D%22stroke-miterlimit%3A%202%3B%20opacity%3A%201%3B%22%3E%3Cg%20class%3D%22fills%22%2F%3E%3Cg%20class%3D%22errorbars%22%2F%3E%3Cg%20class%3D%22lines%22%3E%3Cpath%20class%3D%22js-line%22%20style%3D%22vector-effect%3A%20non-scaling-stroke%3B%20fill%3A%20none%3B%20stroke%3A%20rgb(78%2C%20121%2C%20167)%3B%20stroke-opacity%3A%201%3B%20stroke-width%3A%202px%3B%20opacity%3A%201%3B%22%20d%3D%22M56.4%2C155.01L173.92%2C82.87L291.45%2C68.45L408.97%2C54.02L526.5%2C68.45L761.55%2C39.59L879.07%2C39.59L996.6%2C39.59%22%2F%3E%3C%2Fg%3E%3Cg%20class%3D%22points%22%3E%3Cpath%20class%3D%22point%22%20transform%3D%22translate(56.4%2C155.01)%22%20style%3D%22opacity%3A%200.2%3B%20stroke-width%3A%200px%3B%20fill%3A%20rgb(78%2C%20121%2C%20167)%3B%20fill-opacity%3A%201%3B%22%20d%3D%22M3%2C0A3%2C3%200%201%2C1%200%2C-3A3%2C3%200%200%2C1%203%2C0Z%22%2F%3E%3Cpath%20class%3D%22point%22%20transform%3D%22translate(173.92%2C82.87)%22%20style%3D%22opacity%3A%200.2%3B%20stroke-width%3A%200px%3B%20fill%3A%20rgb(78%2C%20121%2C%20167)%3B%20fill-opacity%3A%201%3B%22%20d%3D%22M3%2C0A3%2C3%200%201%2C1%200%2C-3A3%2C3%200%200%2C1%203%2C0Z%22%2F%3E%3Cpath%20class%3D%22point%22%20transform%3D%22translate(291.45%2C68.45)%22%20style%3D%22opacity%3A%200.2%3B%20stroke-width%3A%200px%3B%20fill%3A%20rgb(78%2C%20121%2C%20167)%3B%20fill-opacity%3A%201%3B%22%20d%3D%22M3%2C0A3%2C3%200%201%2C1%200%2C-3A3%2C3%200%200%2C1%203%2C0Z%22%2F%3E%3Cpath%20class%3D%22point%22%20transform%3D%22translate(408.97%2C54.02)%22%20style%3D%22opacity%3A%200.2%3B%20stroke-width%3A%200px%3B%20fill%3A%20rgb(78%2C%20121%2C%20167)%3B%20fill-opacity%3A%201%3B%22%20d%3D%22M3%2C0A3%2C3%200%201%2C1%200%2C-3A3%2C3%200%200%2C1%203%2C0Z%22%2F%3E%3Cpath%20class%3D%22point%22%20transform%3D%22translate(526.5%2C68.45)%22%20style%3D%22opacity%3A%200.2%3B%20stroke-width%3A%200px%3B%20fill%3A%20rgb(78%2C%20121%2C%20167)%3B%20fill-opacity%3A%201%3B%22%20d%3D%22M3%2C0A3%2C3%200%201%2C1%200%2C-3A3%2C3%200%200%2C1%203%2C0Z%22%2F%3E%3Cpath%20class%3D%22point%22%20transform%3D%22translate(644.02%2C54.02)%22%20style%3D%22opacity%3A%200.2%3B%20stroke-width%3A%200px%3B%20fill%3A%20rgb(78%2C%20121%2C%20167)%3B%20fill-opacity%3A%201%3B%22%20d%3D%22M3%2C0A3%2C3%200%201%2C1%200%2C-3A3%2C3%200%200%2C1%203%2C0Z%22%2F%3E%3Cpath%20class%3D%22point%22%20transform%3D%22translate(761.55%2C39.59)%22%20style%3D%22opacity%3A%200.2%3B%20stroke-width%3A%200px%3B%20fill%3A%20rgb(78%2C%20121%2C%20167)%3B%20fill-opacity%3A%201%3B%22%20d%3D%22M3%2C0A3%2C3%200%201%2C1%200%2C-3A3%2C3%200%200%2C1%203%2C0Z%22%2F%3E%3Cpath%20class%3D%22point%22%20transform%3D%22translate(879.07%2C39.59)%22%20style%3D%22opacity%3A%200.2%3B%20stroke-width%3A%200px%3B%20fill%3A%20rgb(78%2C%20121%2C%20167)%3B%20fill-opacity%3A%201%3B%22%20d%3D%22M3%2C0A3%2C3%200%201%2C1%200%2C-3A3%2C3%200%200%2C1%203%2C0Z%22%2F%3E%3Cpath%20class%3D%22point%22%20transform%3D%22translate(996.6%2C39.59)%22%20style%3D%22opacity%3A%200.2%3B%20stroke-width%3A%200px%3B%20fill%3A%20rgb(78%2C%20121%2C%20167)%3B%20fill-opacity%3A%201%3B%22%20d%3D%22M3%2C0A3%2C3%200%201%2C1%200%2C-3A3%2C3%200%200%2C1%203%2C0Z%22%2F%3E%3C%2Fg%3E%3Cg%20class%3D%22text%22%2F%3E%3C%2Fg%3E%3Cg%20class%3D%22trace%20scatter%20trace6ce40c%22%20style%3D%22stroke-miterlimit%3A%202%3B%20opacity%3A%201%3B%22%3E%3Cg%20class%3D%22fills%22%2F%3E%3Cg%20class%3D%22errorbars%22%2F%3E%3Cg%20class%3D%22lines%22%3E%3Cpath%20class%3D%22js-line%22%20style%3D%22vector-effect%3A%20non-scaling-stroke%3B%20fill%3A%20none%3B%20stroke%3A%20rgb(242%2C%20142%2C%2044)%3B%20stroke-opacity%3A%201%3B%20stroke-width%3A%202px%3B%20opacity%3A%201%3B%22%20d%3D%22M56.4%2C156.45L173.92%2C84.32L291.45%2C69.89L761.55%2C12.18L879.07%2C12.18L996.6%2C12.18%22%2F%3E%3C%2Fg%3E%3Cg%20class%3D%22points%22%3E%3Cpath%20class%3D%22point%22%20transform%3D%22translate(56.4%2C156.45)%22%20style%3D%22opacity%3A%200.2%3B%20stroke-width%3A%200px%3B%20fill%3A%20rgb(242%2C%20142%2C%2044)%3B%20fill-opacity%3A%201%3B%22%20d%3D%22M3%2C0A3%2C3%200%201%2C1%200%2C-3A3%2C3%200%200%2C1%203%2C0Z%22%2F%3E%3Cpath%20class%3D%22point%22%20transform%3D%22translate(173.92%2C84.32)%22%20style%3D%22opacity%3A%200.2%3B%20stroke-width%3A%200px%3B%20fill%3A%20rgb(242%2C%20142%2C%2044)%3B%20fill-opacity%3A%201%3B%22%20d%3D%22M3%2C0A3%2C3%200%201%2C1%200%2C-3A3%2C3%200%200%2C1%203%2C0Z%22%2F%3E%3Cpath%20class%3D%22point%22%20transform%3D%22translate(291.45%2C69.89)%22%20style%3D%22opacity%3A%200.2%3B%20stroke-width%3A%200px%3B%20fill%3A%20rgb(242%2C%20142%2C%2044)%3B%20fill-opacity%3A%201%3B%22%20d%3D%22M3%2C0A3%2C3%200%201%2C1%200%2C-3A3%2C3%200%200%2C1%203%2C0Z%22%2F%3E%3Cpath%20class%3D%22point%22%20transform%3D%22translate(408.97%2C55.46)%22%20style%3D%22opacity%3A%200.2%3B%20stroke-width%3A%200px%3B%20fill%3A%20rgb(242%2C%20142%2C%2044)%3B%20fill-opacity%3A%201%3B%22%20d%3D%22M3%2C0A3%2C3%200%201%2C1%200%2C-3A3%2C3%200%200%2C1%203%2C0Z%22%2F%3E%3Cpath%20class%3D%22point%22%20transform%3D%22translate(526.5%2C41.04)%22%20style%3D%22opacity%3A%200.2%3B%20stroke-width%3A%200px%3B%20fill%3A%20rgb(242%2C%20142%2C%2044)%3B%20fill-opacity%3A%201%3B%22%20d%3D%22M3%2C0A3%2C3%200%201%2C1%200%2C-3A3%2C3%200%200%2C1%203%2C0Z%22%2F%3E%3Cpath%20class%3D%22point%22%20transform%3D%22translate(644.02%2C26.61)%22%20style%3D%22opacity%3A%200.2%3B%20stroke-width%3A%200px%3B%20fill%3A%20rgb(242%2C%20142%2C%2044)%3B%20fill-opacity%3A%201%3B%22%20d%3D%22M3%2C0A3%2C3%200%201%2C1%200%2C-3A3%2C3%200%200%2C1%203%2C0Z%22%2F%3E%3Cpath%20class%3D%22point%22%20transform%3D%22translate(761.55%2C12.18)%22%20style%3D%22opacity%3A%200.2%3B%20stroke-width%3A%200px%3B%20fill%3A%20rgb(242%2C%20142%2C%2044)%3B%20fill-opacity%3A%201%3B%22%20d%3D%22M3%2C0A3%2C3%200%201%2C1%200%2C-3A3%2C3%200%200%2C1%203%2C0Z%22%2F%3E%3Cpath%20class%3D%22point%22%20transform%3D%22translate(879.07%2C12.18)%22%20style%3D%22opacity%3A%200.2%3B%20stroke-width%3A%200px%3B%20fill%3A%20rgb(242%2C%20142%2C%2044)%3B%20fill-opacity%3A%201%3B%22%20d%3D%22M3%2C0A3%2C3%200%201%2C1%200%2C-3A3%2C3%200%200%2C1%203%2C0Z%22%2F%3E%3Cpath%20class%3D%22point%22%20transform%3D%22translate(996.6%2C12.18)%22%20style%3D%22opacity%3A%200.2%3B%20stroke-width%3A%200px%3B%20fill%3A%20rgb(242%2C%20142%2C%2044)%3B%20fill-opacity%3A%201%3B%22%20d%3D%22M3%2C0A3%2C3%200%201%2C1%200%2C-3A3%2C3%200%200%2C1%203%2C0Z%22%2F%3E%3C%2Fg%3E%3Cg%20class%3D%22text%22%2F%3E%3C%2Fg%3E%3C%2Fg%3E%3C%2Fg%3E%3Cg%20class%3D%22overplot%22%2F%3E%3Cpath%20class%3D%22xlines-above%20crisp%22%20style%3D%22fill%3A%20none%3B%20stroke-width%3A%201px%3B%20stroke%3A%20rgb(0%2C%200%2C%200)%3B%20stroke-opacity%3A%200.1625%3B%22%20d%3D%22M80%2C386.5H1133%22%2F%3E%3Cpath%20class%3D%22ylines-above%20crisp%22%20style%3D%22fill%3A%20none%3B%22%20d%3D%22M0%2C0%22%2F%3E%3Cg%20class%3D%22overlines-above%22%2F%3E%3Cg%20class%3D%22xaxislayer-above%22%3E%3Cg%20class%3D%22xtick%22%3E%3Ctext%20text-anchor%3D%22middle%22%20x%3D%220%22%20y%3D%22401.4%22%20style%3D%22font-family%3A%20%26quot%3BOpen%20Sans%26quot%3B%2C%20verdana%2C%20arial%2C%20sans-serif%3B%20font-size%3A%2012px%3B%20fill%3A%20rgb(0%2C%200%2C%200)%3B%20fill-opacity%3A%200.65%3B%20white-space%3A%20pre%3B%22%20data-unformatted%3D%221Y%22%20data-math%3D%22N%22%20transform%3D%22translate(136.4%2C0)%22%3E1Y%3C%2Ftext%3E%3C%2Fg%3E%3Cg%20class%3D%22xtick%22%3E%3Ctext%20text-anchor%3D%22middle%22%20x%3D%220%22%20y%3D%22401.4%22%20style%3D%22font-family%3A%20%26quot%3BOpen%20Sans%26quot%3B%2C%20verdana%2C%20arial%2C%20sans-serif%3B%20font-size%3A%2012px%3B%20fill%3A%20rgb(0%2C%200%2C%200)%3B%20fill-opacity%3A%200.65%3B%20white-space%3A%20pre%3B%22%20data-unformatted%3D%222Y%22%20data-math%3D%22N%22%20transform%3D%22translate(253.92%2C0)%22%3E2Y%3C%2Ftext%3E%3C%2Fg%3E%3Cg%20class%3D%22xtick%22%3E%3Ctext%20text-anchor%3D%22middle%22%20x%3D%220%22%20y%3D%22401.4%22%20style%3D%22font-family%3A%20%26quot%3BOpen%20Sans%26quot%3B%2C%20verdana%2C%20arial%2C%20sans-serif%3B%20font-size%3A%2012px%3B%20fill%3A%20rgb(0%2C%200%2C%200)%3B%20fill-opacity%3A%200.65%3B%20white-space%3A%20pre%3B%22%20data-unformatted%3D%223Y%22%20data-math%3D%22N%22%20transform%3D%22translate(371.45%2C0)%22%3E3Y%3C%2Ftext%3E%3C%2Fg%3E%3Cg%20class%3D%22xtick%22%3E%3Ctext%20text-anchor%3D%22middle%22%20x%3D%220%22%20y%3D%22401.4%22%20style%3D%22font-family%3A%20%26quot%3BOpen%20Sans%26quot%3B%2C%20verdana%2C%20arial%2C%20sans-serif%3B%20font-size%3A%2012px%3B%20fill%3A%20rgb(0%2C%200%2C%200)%3B%20fill-opacity%3A%200.65%3B%20white-space%3A%20pre%3B%22%20data-unformatted%3D%224Y%22%20data-math%3D%22N%22%20transform%3D%22translate(488.97%2C0)%22%3E4Y%3C%2Ftext%3E%3C%2Fg%3E%3Cg%20class%3D%22xtick%22%3E%3Ctext%20text-anchor%3D%22middle%22%20x%3D%220%22%20y%3D%22401.4%22%20style%3D%22font-family%3A%20%26quot%3BOpen%20Sans%26quot%3B%2C%20verdana%2C%20arial%2C%20sans-serif%3B%20font-size%3A%2012px%3B%20fill%3A%20rgb(0%2C%200%2C%200)%3B%20fill-opacity%3A%200.65%3B%20white-space%3A%20pre%3B%22%20data-unformatted%3D%225Y%22%20data-math%3D%22N%22%20transform%3D%22translate(606.5%2C0)%22%3E5Y%3C%2Ftext%3E%3C%2Fg%3E%3Cg%20class%3D%22xtick%22%3E%3Ctext%20text-anchor%3D%22middle%22%20x%3D%220%22%20y%3D%22401.4%22%20style%3D%22font-family%3A%20%26quot%3BOpen%20Sans%26quot%3B%2C%20verdana%2C%20arial%2C%20sans-serif%3B%20font-size%3A%2012px%3B%20fill%3A%20rgb(0%2C%200%2C%200)%3B%20fill-opacity%3A%200.65%3B%20white-space%3A%20pre%3B%22%20data-unformatted%3D%226Y%22%20data-math%3D%22N%22%20transform%3D%22translate(724.02%2C0)%22%3E6Y%3C%2Ftext%3E%3C%2Fg%3E%3Cg%20class%3D%22xtick%22%3E%3Ctext%20text-anchor%3D%22middle%22%20x%3D%220%22%20y%3D%22401.4%22%20style%3D%22font-family%3A%20%26quot%3BOpen%20Sans%26quot%3B%2C%20verdana%2C%20arial%2C%20sans-serif%3B%20font-size%3A%2012px%3B%20fill%3A%20rgb(0%2C%200%2C%200)%3B%20fill-opacity%3A%200.65%3B%20white-space%3A%20pre%3B%22%20data-unformatted%3D%227Y%22%20data-math%3D%22N%22%20transform%3D%22translate(841.55%2C0)%22%3E7Y%3C%2Ftext%3E%3C%2Fg%3E%3Cg%20class%3D%22xtick%22%3E%3Ctext%20text-anchor%3D%22middle%22%20x%3D%220%22%20y%3D%22401.4%22%20style%3D%22font-family%3A%20%26quot%3BOpen%20Sans%26quot%3B%2C%20verdana%2C%20arial%2C%20sans-serif%3B%20font-size%3A%2012px%3B%20fill%3A%20rgb(0%2C%200%2C%200)%3B%20fill-opacity%3A%200.65%3B%20white-space%3A%20pre%3B%22%20data-unformatted%3D%228Y%22%20data-math%3D%22N%22%20transform%3D%22translate(959.07%2C0)%22%3E8Y%3C%2Ftext%3E%3C%2Fg%3E%3Cg%20class%3D%22xtick%22%3E%3Ctext%20text-anchor%3D%22middle%22%20x%3D%220%22%20y%3D%22401.4%22%20style%3D%22font-family%3A%20%26quot%3BOpen%20Sans%26quot%3B%2C%20verdana%2C%20arial%2C%20sans-serif%3B%20font-size%3A%2012px%3B%20fill%3A%20rgb(0%2C%200%2C%200)%3B%20fill-opacity%3A%200.65%3B%20white-space%3A%20pre%3B%22%20data-unformatted%3D%229Y%22%20data-math%3D%22N%22%20transform%3D%22translate(1076.6%2C0)%22%3E9Y%3C%2Ftext%3E%3C%2Fg%3E%3C%2Fg%3E%3Cg%20class%3D%22yaxislayer-above%22%3E%3Cg%20class%3D%22y2tick%22%3E%3Ctext%20text-anchor%3D%22end%22%20x%3D%2279%22%20y%3D%224.199999999999999%22%20style%3D%22font-family%3A%20%26quot%3BOpen%20Sans%26quot%3B%2C%20verdana%2C%20arial%2C%20sans-serif%3B%20font-size%3A%2012px%3B%20fill%3A%20rgb(0%2C%200%2C%200)%3B%20fill-opacity%3A%200.65%3B%20white-space%3A%20pre%3B%22%20data-unformatted%3D%220.01%22%20data-math%3D%22N%22%20transform%3D%22translate(0%2C373.8184210526316)%22%3E0.01%3C%2Ftext%3E%3C%2Fg%3E%3Cg%20class%3D%22y2tick%22%3E%3Ctext%20text-anchor%3D%22end%22%20x%3D%2279%22%20y%3D%224.199999999999999%22%20style%3D%22font-family%3A%20%26quot%3BOpen%20Sans%26quot%3B%2C%20verdana%2C%20arial%2C%20sans-serif%3B%20font-size%3A%2012px%3B%20fill%3A%20rgb(0%2C%200%2C%200)%3B%20fill-opacity%3A%200.65%3B%20white-space%3A%20pre%3B%22%20data-unformatted%3D%220.015%22%20data-math%3D%22N%22%20transform%3D%22translate(0%2C301.6884210526316)%22%3E0.015%3C%2Ftext%3E%3C%2Fg%3E%3Cg%20class%3D%22y2tick%22%3E%3Ctext%20text-anchor%3D%22end%22%20x%3D%2279%22%20y%3D%224.199999999999999%22%20style%3D%22font-family%3A%20%26quot%3BOpen%20Sans%26quot%3B%2C%20verdana%2C%20arial%2C%20sans-serif%3B%20font-size%3A%2012px%3B%20fill%3A%20rgb(0%2C%200%2C%200)%3B%20fill-opacity%3A%200.65%3B%20white-space%3A%20pre%3B%22%20data-unformatted%3D%220.02%22%20data-math%3D%22N%22%20transform%3D%22translate(0%2C229.54842105263162)%22%3E0.02%3C%2Ftext%3E%3C%2Fg%3E%3C%2Fg%3E%3Cg%20class%3D%22overaxes-above%22%2F%3E%3C%2Fg%3E%3C%2Fg%3E%3Cg%20class%3D%22polarlayer%22%2F%3E%3Cg%20class%3D%22ternarylayer%22%2F%3E%3Cg%20class%3D%22geolayer%22%2F%3E%3Cg%20class%3D%22funnelarealayer%22%2F%3E%3Cg%20class%3D%22pielayer%22%2F%3E%3Cg%20class%3D%22treemaplayer%22%2F%3E%3Cg%20class%3D%22sunburstlayer%22%2F%3E%3Cg%20class%3D%22glimages%22%2F%3E%3Cdefs%20id%3D%22topdefs-d68bb3%22%3E%3Cg%20class%3D%22clips%22%2F%3E%3CclipPath%20id%3D%22legendd68bb3%22%3E%3Crect%20width%3D%22154%22%20height%3D%2258%22%20x%3D%220%22%20y%3D%220%22%2F%3E%3C%2FclipPath%3E%3C%2Fdefs%3E%3Cg%20class%3D%22indicatorlayer%22%2F%3E%3Cg%20class%3D%22layer-above%22%3E%3Cg%20class%3D%22imagelayer%22%2F%3E%3Cg%20class%3D%22shapelayer%22%2F%3E%3C%2Fg%3E%3Cg%20class%3D%22infolayer%22%3E%3Cg%20class%3D%22legend%22%20pointer-events%3D%22all%22%20transform%3D%22translate(1154%2C%2030)%22%3E%3Crect%20class%3D%22bg%22%20shape-rendering%3D%22crispEdges%22%20style%3D%22stroke%3A%20rgb(68%2C%2068%2C%2068)%3B%20stroke-opacity%3A%201%3B%20fill%3A%20rgb(255%2C%20255%2C%20255)%3B%20fill-opacity%3A%201%3B%20stroke-width%3A%200px%3B%22%20width%3D%22154%22%20height%3D%2258%22%20x%3D%220%22%20y%3D%220%22%2F%3E%3Cg%20class%3D%22scrollbox%22%20transform%3D%22translate(0%2C%200)%22%20clip-path%3D%22url('%23legendd68bb3')%22%3E%3Cg%20class%3D%22groups%22%20transform%3D%22translate(0%2C%200)%22%3E%3Cg%20class%3D%22traces%22%20style%3D%22opacity%3A%201%3B%22%20transform%3D%22translate(0%2C%2014.5)%22%3E%3Ctext%20class%3D%22legendtext%20user-select-none%22%20text-anchor%3D%22start%22%20style%3D%22font-family%3A%20%26quot%3BOpen%20Sans%26quot%3B%2C%20verdana%2C%20arial%2C%20sans-serif%3B%20font-size%3A%2012px%3B%20fill%3A%20rgb(0%2C%200%2C%200)%3B%20fill-opacity%3A%200.65%3B%20white-space%3A%20pre%3B%22%20x%3D%2240%22%20y%3D%224.680000000000001%22%20data-unformatted%3D%22last.VALUE%22%20data-math%3D%22N%22%3Elast.VALUE%3C%2Ftext%3E%3Cg%20class%3D%22layers%22%20style%3D%22opacity%3A%201%3B%22%3E%3Cg%20class%3D%22legendfill%22%2F%3E%3Cg%20class%3D%22legendlines%22%3E%3Cpath%20class%3D%22js-line%22%20d%3D%22M5%2C0h30%22%20style%3D%22fill%3A%20none%3B%20stroke%3A%20rgb(78%2C%20121%2C%20167)%3B%20stroke-opacity%3A%201%3B%20stroke-width%3A%202px%3B%22%2F%3E%3C%2Fg%3E%3Cg%20class%3D%22legendsymbols%22%3E%3Cg%20class%3D%22legendpoints%22%3E%3Cpath%20class%3D%22scatterpts%22%20transform%3D%22translate(20%2C0)%22%20style%3D%22opacity%3A%201%3B%20stroke-width%3A%200px%3B%20fill%3A%20rgb(78%2C%20121%2C%20167)%3B%20fill-opacity%3A%201%3B%22%20d%3D%22M3%2C0A3%2C3%200%201%2C1%200%2C-3A3%2C3%200%200%2C1%203%2C0Z%22%2F%3E%3C%2Fg%3E%3C%2Fg%3E%3C%2Fg%3E%3Crect%20class%3D%22legendtoggle%22%20style%3D%22cursor%3A%20pointer%3B%20fill%3A%20rgb(0%2C%200%2C%200)%3B%20fill-opacity%3A%200%3B%22%20pointer-events%3D%22all%22%20x%3D%220%22%20y%3D%22-9.5%22%20width%3D%22148.9166717529297%22%20height%3D%2219%22%2F%3E%3C%2Fg%3E%3C%2Fg%3E%3Cg%20class%3D%22groups%22%20transform%3D%22translate(0%2C%2010)%22%3E%3Cg%20class%3D%22traces%22%20style%3D%22opacity%3A%201%3B%22%20transform%3D%22translate(0%2C%2033.5)%22%3E%3Ctext%20class%3D%22legendtext%20user-select-none%22%20text-anchor%3D%22start%22%20style%3D%22font-family%3A%20%26quot%3BOpen%20Sans%26quot%3B%2C%20verdana%2C%20arial%2C%20sans-serif%3B%20font-size%3A%2012px%3B%20fill%3A%20rgb(0%2C%200%2C%200)%3B%20fill-opacity%3A%200.65%3B%20white-space%3A%20pre%3B%22%20x%3D%2240%22%20y%3D%224.680000000000001%22%20data-unformatted%3D%22start_of_day.VALUE%22%20data-math%3D%22N%22%3Estart_of_day.VALUE%3C%2Ftext%3E%3Cg%20class%3D%22layers%22%20style%3D%22opacity%3A%201%3B%22%3E%3Cg%20class%3D%22legendfill%22%2F%3E%3Cg%20class%3D%22legendlines%22%3E%3Cpath%20class%3D%22js-line%22%20d%3D%22M5%2C0h30%22%20style%3D%22fill%3A%20none%3B%20stroke%3A%20rgb(242%2C%20142%2C%2044)%3B%20stroke-opacity%3A%201%3B%20stroke-width%3A%202px%3B%22%2F%3E%3C%2Fg%3E%3Cg%20class%3D%22legendsymbols%22%3E%3Cg%20class%3D%22legendpoints%22%3E%3Cpath%20class%3D%22scatterpts%22%20transform%3D%22translate(20%2C0)%22%20style%3D%22opacity%3A%201%3B%20stroke-width%3A%200px%3B%20fill%3A%20rgb(242%2C%20142%2C%2044)%3B%20fill-opacity%3A%201%3B%22%20d%3D%22M3%2C0A3%2C3%200%201%2C1%200%2C-3A3%2C3%200%200%2C1%203%2C0Z%22%2F%3E%3C%2Fg%3E%3C%2Fg%3E%3C%2Fg%3E%3Crect%20class%3D%22legendtoggle%22%20style%3D%22cursor%3A%20pointer%3B%20fill%3A%20rgb(0%2C%200%2C%200)%3B%20fill-opacity%3A%200%3B%22%20pointer-events%3D%22all%22%20x%3D%220%22%20y%3D%22-9.5%22%20width%3D%22148.9166717529297%22%20height%3D%2219%22%2F%3E%3C%2Fg%3E%3C%2Fg%3E%3C%2Fg%3E%3Crect%20class%3D%22scrollbar%22%20rx%3D%2220%22%20ry%3D%223%22%20width%3D%220%22%20height%3D%220%22%20style%3D%22fill%3A%20rgb(128%2C%20139%2C%20164)%3B%20fill-opacity%3A%201%3B%22%20x%3D%220%22%20y%3D%220%22%2F%3E%3C%2Fg%3E%3Cg%20class%3D%22g-gtitle%22%2F%3E%3Cg%20class%3D%22g-xtitle%22%2F%3E%3Cg%20class%3D%22g-ytitle%22%20transform%3D%22translate(-3.3497467041015625%2C0)%22%3E%3Ctext%20class%3D%22ytitle%22%20transform%3D%22rotate(-90%2C42%2C114.31578947368422)%22%20style%3D%22font-family%3A%20%26quot%3BOpen%20Sans%26quot%3B%2C%20verdana%2C%20arial%2C%20sans-serif%3B%20font-size%3A%2014px%3B%20fill%3A%20rgb(0%2C%200%2C%200)%3B%20opacity%3A%200.65%3B%20font-weight%3A%20normal%3B%20white-space%3A%20pre%3B%22%20x%3D%2242%22%20y%3D%22114.31578947368422%22%20text-anchor%3D%22middle%22%20data-unformatted%3D%22Last%20Curve%22%20data-math%3D%22N%22%3ELast%20Curve%3C%2Ftext%3E%3C%2Fg%3E%3Cg%20class%3D%22g-y2title%22%20transform%3D%22translate(-0.9327545166015625%2C0)%22%3E%3Ctext%20class%3D%22y2title%22%20transform%3D%22rotate(-90%2C42%2C301.68421052631584)%22%20style%3D%22font-family%3A%20%26quot%3BOpen%20Sans%26quot%3B%2C%20verdana%2C%20arial%2C%20sans-serif%3B%20font-size%3A%2014px%3B%20fill%3A%20rgb(0%2C%200%2C%200)%3B%20opacity%3A%200.65%3B%20font-weight%3A%20normal%3B%20white-space%3A%20pre%3B%22%20x%3D%2242%22%20y%3D%22301.68421052631584%22%20text-anchor%3D%22middle%22%20data-unformatted%3D%22Curve%20Inversion%22%20data-math%3D%22N%22%3ECurve%20Inversion%3C%2Ftext%3E%3C%2Fg%3E%3C%2Fg%3E%3Cg%20class%3D%22menulayer%22%2F%3E%3Cg%20class%3D%22zoomlayer%22%2F%3E%3Cg%20class%3D%22hoverlayer%22%2F%3E%3C%2Fsvg%3E\">"
      ],
      "text/plain": [
       "Open the notebook in JupyterLab with the atoti extension installed and enabled to see this widget."
      ]
     },
     "metadata": {},
     "output_type": "display_data"
    }
   ],
   "source": [
    "position_sensitivity_cube.visualize(\"Yield Curve Inversion\")"
   ]
  },
  {
   "cell_type": "markdown",
   "metadata": {},
   "source": [
    "As expected, we can see drastic drop in the *Theoretical PnL* across all the asset classes, the greatest loss incurred in the asset class *Rates & Credit*."
   ]
  },
  {
   "cell_type": "code",
   "execution_count": 41,
   "metadata": {
    "activeviam": {
     "state": {
      "name": "Theoretical PnL Curve Inversion",
      "type": "container",
      "value": {
       "body": {
        "configuration": {
         "mapping": {
          "splitBy": [
           "[Measure Simulations].[Curve Simulation].[Curve Simulation]"
          ],
          "values": [
           "[Measures].[Theoretical PnL]"
          ],
          "yAxis": [
           "[Hierarchies].[Investment Portfolio Hierarchy].[Asset Class]"
          ]
         },
         "type": "plotly-clustered-bar-chart"
        },
        "query": {
         "mdx": "SELECT NON EMPTY Crossjoin([Hierarchies].[Investment Portfolio Hierarchy].[Asset Class].Members, [Measure Simulations].[Curve Simulation].[Curve Simulation].Members) ON ROWS, NON EMPTY [Measures].[Theoretical PnL] ON COLUMNS FROM [Position_Sensitivities] CELL PROPERTIES VALUE, FORMATTED_VALUE, BACK_COLOR, FORE_COLOR, FONT_FLAGS",
         "serverUrl": "",
         "updateMode": "once"
        }
       },
       "containerKey": "chart",
       "showTitleBar": false,
       "style": {}
      }
     }
    },
    "atoti": {
     "state": {
      "name": "Theoretical PnL Curve Inversion",
      "type": "container",
      "value": {
       "body": {
        "configuration": {
         "mapping": {
          "horizontal": [],
          "splitBy": [
           "[Measure Simulations].[Curve Simulation].[Curve Simulation]"
          ],
          "values": [
           "[Measures].[Theoretical PnL]"
          ],
          "vertical": [],
          "yAxis": [
           "[Hierarchies].[Investment Portfolio Hierarchy].[Asset Class]"
          ]
         },
         "style": {
          "isTextVisible": true
         },
         "type": "plotly-clustered-bar-chart"
        },
        "query": {
         "contextValues": {},
         "mdx": "SELECT NON EMPTY [Measures].[Theoretical PnL] ON COLUMNS, NON EMPTY Crossjoin([Hierarchies].[Investment Portfolio Hierarchy].[Asset Class].Members, [Measure Simulations].[Curve Simulation].[Curve Simulation].Members) ON ROWS FROM (SELECT {[Measure Simulations].[Curve Simulation].[Curve Simulation].[Curve Inversion], [Measure Simulations].[Curve Simulation].[Curve Simulation].[Last Curve]} ON COLUMNS FROM [Position_Sensitivities]) WHERE [Hierarchies].[currency].[ALL].[AllMember].[EUR] CELL PROPERTIES VALUE, FORMATTED_VALUE, BACK_COLOR, FORE_COLOR, FONT_FLAGS",
         "serverUrl": ""
        }
       },
       "containerKey": "chart",
       "showTitleBar": false,
       "style": {}
      }
     }
    }
   },
   "outputs": [
    {
     "data": {
      "application/vnd.atoti.v0+json": {
       "cube": "Position_Sensitivities",
       "error": null,
       "name": "Theoretical PnL Curve Inversion",
       "session": "Unnamed"
      },
      "text/html": [
       "<img src=\"data:image/svg+xml;charset=utf8,%3C%3Fxml%20version%3D%221.0%22%20standalone%3D%22no%22%3F%3E%3Csvg%20xmlns%3D%22http%3A%2F%2Fwww.w3.org%2F2000%2Fsvg%22%20xmlns%3Axlink%3D%22http%3A%2F%2Fwww.w3.org%2F1999%2Fxlink%22%20viewBox%3D%220%200%201308%20360%22%3E%3Cdefs%20id%3D%22defs-94a4d6%22%3E%3Cg%20class%3D%22clips%22%3E%3CclipPath%20id%3D%22clip94a4d6xyplot%22%20class%3D%22plotclip%22%3E%3Crect%20width%3D%221074%22%20height%3D%22250%22%2F%3E%3C%2FclipPath%3E%3CclipPath%20class%3D%22axesclip%22%20id%3D%22clip94a4d6x%22%3E%3Crect%20x%3D%2282%22%20y%3D%220%22%20width%3D%221074%22%20height%3D%22360%22%2F%3E%3C%2FclipPath%3E%3CclipPath%20class%3D%22axesclip%22%20id%3D%22clip94a4d6y%22%3E%3Crect%20x%3D%220%22%20y%3D%2230%22%20width%3D%221308%22%20height%3D%22250%22%2F%3E%3C%2FclipPath%3E%3CclipPath%20class%3D%22axesclip%22%20id%3D%22clip94a4d6xy%22%3E%3Crect%20x%3D%2282%22%20y%3D%2230%22%20width%3D%221074%22%20height%3D%22250%22%2F%3E%3C%2FclipPath%3E%3C%2Fg%3E%3Cg%20class%3D%22gradients%22%2F%3E%3C%2Fdefs%3E%3Cg%20class%3D%22bglayer%22%2F%3E%3Cg%20class%3D%22draglayer%20cursor-crosshair%22%3E%3Cg%20class%3D%22xy%22%3E%3Crect%20class%3D%22nsewdrag%20drag%22%20style%3D%22fill%3A%20transparent%3B%20stroke-width%3A%200px%3B%20pointer-events%3A%20all%3B%22%20data-subplot%3D%22xy%22%20x%3D%2282%22%20y%3D%2230%22%20width%3D%221074%22%20height%3D%22250%22%2F%3E%3Crect%20class%3D%22nwdrag%20drag%20cursor-nw-resize%22%20style%3D%22fill%3A%20transparent%3B%20stroke-width%3A%200px%3B%20pointer-events%3A%20all%3B%22%20data-subplot%3D%22xy%22%20x%3D%2262%22%20y%3D%2210%22%20width%3D%2220%22%20height%3D%2220%22%2F%3E%3Crect%20class%3D%22nedrag%20drag%20cursor-ne-resize%22%20style%3D%22fill%3A%20transparent%3B%20stroke-width%3A%200px%3B%20pointer-events%3A%20all%3B%22%20data-subplot%3D%22xy%22%20x%3D%221156%22%20y%3D%2210%22%20width%3D%2220%22%20height%3D%2220%22%2F%3E%3Crect%20class%3D%22swdrag%20drag%20cursor-sw-resize%22%20style%3D%22fill%3A%20transparent%3B%20stroke-width%3A%200px%3B%20pointer-events%3A%20all%3B%22%20data-subplot%3D%22xy%22%20x%3D%2262%22%20y%3D%22280%22%20width%3D%2220%22%20height%3D%2220%22%2F%3E%3Crect%20class%3D%22sedrag%20drag%20cursor-se-resize%22%20style%3D%22fill%3A%20transparent%3B%20stroke-width%3A%200px%3B%20pointer-events%3A%20all%3B%22%20data-subplot%3D%22xy%22%20x%3D%221156%22%20y%3D%22280%22%20width%3D%2220%22%20height%3D%2220%22%2F%3E%3Crect%20class%3D%22ewdrag%20drag%20cursor-ew-resize%22%20style%3D%22fill%3A%20transparent%3B%20stroke-width%3A%200px%3B%20pointer-events%3A%20all%3B%22%20data-subplot%3D%22xy%22%20x%3D%22189.4%22%20y%3D%22280.5%22%20width%3D%22859.2%22%20height%3D%2220%22%2F%3E%3Crect%20class%3D%22wdrag%20drag%20cursor-w-resize%22%20style%3D%22fill%3A%20transparent%3B%20stroke-width%3A%200px%3B%20pointer-events%3A%20all%3B%22%20data-subplot%3D%22xy%22%20x%3D%2282%22%20y%3D%22280.5%22%20width%3D%22107.4%22%20height%3D%2220%22%2F%3E%3Crect%20class%3D%22edrag%20drag%20cursor-e-resize%22%20style%3D%22fill%3A%20transparent%3B%20stroke-width%3A%200px%3B%20pointer-events%3A%20all%3B%22%20data-subplot%3D%22xy%22%20x%3D%221048.6%22%20y%3D%22280.5%22%20width%3D%22107.4%22%20height%3D%2220%22%2F%3E%3Crect%20class%3D%22nsdrag%20drag%20cursor-ns-resize%22%20style%3D%22fill%3A%20transparent%3B%20stroke-width%3A%200px%3B%20pointer-events%3A%20all%3B%22%20data-subplot%3D%22xy%22%20x%3D%2261.5%22%20y%3D%2255%22%20width%3D%2220%22%20height%3D%22200%22%2F%3E%3Crect%20class%3D%22sdrag%20drag%20cursor-s-resize%22%20style%3D%22fill%3A%20transparent%3B%20stroke-width%3A%200px%3B%20pointer-events%3A%20all%3B%22%20data-subplot%3D%22xy%22%20x%3D%2261.5%22%20y%3D%22255%22%20width%3D%2220%22%20height%3D%2225%22%2F%3E%3Crect%20class%3D%22ndrag%20drag%20cursor-n-resize%22%20style%3D%22fill%3A%20transparent%3B%20stroke-width%3A%200px%3B%20pointer-events%3A%20all%3B%22%20data-subplot%3D%22xy%22%20x%3D%2261.5%22%20y%3D%2230%22%20width%3D%2220%22%20height%3D%2225%22%2F%3E%3C%2Fg%3E%3C%2Fg%3E%3Cg%20class%3D%22layer-below%22%3E%3Cg%20class%3D%22imagelayer%22%2F%3E%3Cg%20class%3D%22shapelayer%22%2F%3E%3C%2Fg%3E%3Cg%20class%3D%22cartesianlayer%22%3E%3Cg%20class%3D%22subplot%20xy%22%3E%3Cg%20class%3D%22layer-subplot%22%3E%3Cg%20class%3D%22shapelayer%22%2F%3E%3Cg%20class%3D%22imagelayer%22%2F%3E%3C%2Fg%3E%3Cg%20class%3D%22gridlayer%22%3E%3Cg%20class%3D%22x%22%3E%3Cpath%20class%3D%22xgrid%20crisp%22%20transform%3D%22translate(152.26999999999998%2C0)%22%20d%3D%22M0%2C30v250%22%20style%3D%22stroke%3A%20rgb(0%2C%200%2C%200)%3B%20stroke-opacity%3A%200.1625%3B%20stroke-width%3A%201px%3B%22%2F%3E%3Cpath%20class%3D%22xgrid%20crisp%22%20transform%3D%22translate(324.88%2C0)%22%20d%3D%22M0%2C30v250%22%20style%3D%22stroke%3A%20rgb(0%2C%200%2C%200)%3B%20stroke-opacity%3A%200.1625%3B%20stroke-width%3A%201px%3B%22%2F%3E%3Cpath%20class%3D%22xgrid%20crisp%22%20transform%3D%22translate(497.48%2C0)%22%20d%3D%22M0%2C30v250%22%20style%3D%22stroke%3A%20rgb(0%2C%200%2C%200)%3B%20stroke-opacity%3A%200.1625%3B%20stroke-width%3A%201px%3B%22%2F%3E%3Cpath%20class%3D%22xgrid%20crisp%22%20transform%3D%22translate(670.09%2C0)%22%20d%3D%22M0%2C30v250%22%20style%3D%22stroke%3A%20rgb(0%2C%200%2C%200)%3B%20stroke-opacity%3A%200.1625%3B%20stroke-width%3A%201px%3B%22%2F%3E%3Cpath%20class%3D%22xgrid%20crisp%22%20transform%3D%22translate(842.7%2C0)%22%20d%3D%22M0%2C30v250%22%20style%3D%22stroke%3A%20rgb(0%2C%200%2C%200)%3B%20stroke-opacity%3A%200.1625%3B%20stroke-width%3A%201px%3B%22%2F%3E%3C%2Fg%3E%3Cg%20class%3D%22y%22%3E%3Cpath%20class%3D%22ygrid%20crisp%22%20transform%3D%22translate(0%2C238.33)%22%20d%3D%22M82%2C0h1074%22%20style%3D%22stroke%3A%20rgb(0%2C%200%2C%200)%3B%20stroke-opacity%3A%200%3B%20stroke-width%3A%201px%3B%22%2F%3E%3Cpath%20class%3D%22ygrid%20crisp%22%20transform%3D%22translate(0%2C155)%22%20d%3D%22M82%2C0h1074%22%20style%3D%22stroke%3A%20rgb(0%2C%200%2C%200)%3B%20stroke-opacity%3A%200%3B%20stroke-width%3A%201px%3B%22%2F%3E%3Cpath%20class%3D%22ygrid%20crisp%22%20transform%3D%22translate(0%2C71.67)%22%20d%3D%22M82%2C0h1074%22%20style%3D%22stroke%3A%20rgb(0%2C%200%2C%200)%3B%20stroke-opacity%3A%200%3B%20stroke-width%3A%201px%3B%22%2F%3E%3C%2Fg%3E%3C%2Fg%3E%3Cg%20class%3D%22zerolinelayer%22%3E%3Cpath%20class%3D%22xzl%20zl%20crisp%22%20transform%3D%22translate(1015.31%2C0)%22%20d%3D%22M0%2C30v250%22%20style%3D%22stroke%3A%20rgb(0%2C%200%2C%200)%3B%20stroke-opacity%3A%200.325%3B%20stroke-width%3A%201px%3B%22%2F%3E%3C%2Fg%3E%3Cpath%20class%3D%22xlines-below%22%2F%3E%3Cpath%20class%3D%22ylines-below%22%2F%3E%3Cg%20class%3D%22overlines-below%22%2F%3E%3Cg%20class%3D%22xaxislayer-below%22%2F%3E%3Cg%20class%3D%22yaxislayer-below%22%2F%3E%3Cg%20class%3D%22overaxes-below%22%2F%3E%3Cg%20class%3D%22plot%22%20transform%3D%22translate(82%2C%2030)%22%20clip-path%3D%22url('%23clip94a4d6xyplot')%22%3E%3Cg%20class%3D%22barlayer%20mlayer%22%3E%3Cg%20class%3D%22trace%20bars%22%20style%3D%22opacity%3A%201%3B%22%3E%3Cg%20class%3D%22points%22%3E%3Cg%20class%3D%22point%22%3E%3Cpath%20style%3D%22vector-effect%3A%20non-scaling-stroke%3B%20opacity%3A%201%3B%20stroke-width%3A%200px%3B%20fill%3A%20rgb(78%2C%20121%2C%20167)%3B%20fill-opacity%3A%201%3B%22%20d%3D%22M933.31%2C241.67V208.33H962.82V241.67Z%22%2F%3E%3Ctext%20class%3D%22bartext%20bartext-outside%22%20text-anchor%3D%22middle%22%20data-notex%3D%221%22%20style%3D%22font-family%3A%20%26quot%3BOpen%20Sans%26quot%3B%2C%20verdana%2C%20arial%2C%20sans-serif%3B%20font-size%3A%2012px%3B%20fill%3A%20rgb(0%2C%200%2C%200)%3B%20fill-opacity%3A%200.65%3B%20white-space%3A%20pre%3B%22%20data-unformatted%3D%221%2C710.00%22%20data-math%3D%22N%22%20x%3D%220%22%20y%3D%220%22%20transform%3D%22translate(990.470390625%2C228.91692352294922)%22%3E1%2C710.00%3C%2Ftext%3E%3C%2Fg%3E%3Cg%20class%3D%22point%22%3E%3Cpath%20style%3D%22vector-effect%3A%20non-scaling-stroke%3B%20opacity%3A%201%3B%20stroke-width%3A%200px%3B%20fill%3A%20rgb(78%2C%20121%2C%20167)%3B%20fill-opacity%3A%201%3B%22%20d%3D%22M933.31%2C158.33V125H981.46V158.33Z%22%2F%3E%3Ctext%20class%3D%22bartext%20bartext-outside%22%20text-anchor%3D%22middle%22%20data-notex%3D%221%22%20style%3D%22font-family%3A%20%26quot%3BOpen%20Sans%26quot%3B%2C%20verdana%2C%20arial%2C%20sans-serif%3B%20font-size%3A%2012px%3B%20fill%3A%20rgb(0%2C%200%2C%200)%3B%20fill-opacity%3A%200.65%3B%20white-space%3A%20pre%3B%22%20data-unformatted%3D%222%2C790.00%22%20data-math%3D%22N%22%20x%3D%220%22%20y%3D%220%22%20transform%3D%22translate(1009.110390625%2C145.58192352294924)%22%3E2%2C790.00%3C%2Ftext%3E%3C%2Fg%3E%3Cg%20class%3D%22point%22%3E%3Cpath%20style%3D%22vector-effect%3A%20non-scaling-stroke%3B%20opacity%3A%201%3B%20stroke-width%3A%200px%3B%20fill%3A%20rgb(78%2C%20121%2C%20167)%3B%20fill-opacity%3A%201%3B%22%20d%3D%22M933.31%2C75V41.67H1020.3V75Z%22%2F%3E%3Ctext%20class%3D%22bartext%20bartext-inside%22%20text-anchor%3D%22middle%22%20data-notex%3D%221%22%20style%3D%22font-family%3A%20%26quot%3BOpen%20Sans%26quot%3B%2C%20verdana%2C%20arial%2C%20sans-serif%3B%20font-size%3A%2012px%3B%20fill%3A%20rgb(255%2C%20255%2C%20255)%3B%20fill-opacity%3A%201%3B%20white-space%3A%20pre%3B%22%20data-unformatted%3D%225%2C040.00%22%20data-math%3D%22N%22%20x%3D%220%22%20y%3D%220%22%20transform%3D%22translate(992.6504028320312%2C62.25192352294922)%22%3E5%2C040.00%3C%2Ftext%3E%3C%2Fg%3E%3C%2Fg%3E%3C%2Fg%3E%3Cg%20class%3D%22trace%20bars%22%20style%3D%22opacity%3A%201%3B%22%3E%3Cg%20class%3D%22points%22%3E%3Cg%20class%3D%22point%22%3E%3Cpath%20style%3D%22vector-effect%3A%20non-scaling-stroke%3B%20opacity%3A%201%3B%20stroke-width%3A%200px%3B%20fill%3A%20rgb(242%2C%20142%2C%2044)%3B%20fill-opacity%3A%201%3B%22%20d%3D%22M933.31%2C208.33V175H634.87V208.33Z%22%2F%3E%3Ctext%20class%3D%22bartext%20bartext-inside%22%20text-anchor%3D%22middle%22%20data-notex%3D%221%22%20style%3D%22font-family%3A%20%26quot%3BOpen%20Sans%26quot%3B%2C%20verdana%2C%20arial%2C%20sans-serif%3B%20font-size%3A%2012px%3B%20fill%3A%20rgb(68%2C%2068%2C%2068)%3B%20fill-opacity%3A%201%3B%20white-space%3A%20pre%3B%22%20data-unformatted%3D%22-17%2C290.00%22%20data-math%3D%22N%22%20x%3D%220%22%20y%3D%220%22%20transform%3D%22translate(667.8533984375%2C195.58192352294924)%22%3E-17%2C290.00%3C%2Ftext%3E%3C%2Fg%3E%3Cg%20class%3D%22point%22%3E%3Cpath%20style%3D%22vector-effect%3A%20non-scaling-stroke%3B%20opacity%3A%201%3B%20stroke-width%3A%200px%3B%20fill%3A%20rgb(242%2C%20142%2C%2044)%3B%20fill-opacity%3A%201%3B%22%20d%3D%22M933.31%2C125V91.67H446.38V125Z%22%2F%3E%3Ctext%20class%3D%22bartext%20bartext-inside%22%20text-anchor%3D%22middle%22%20data-notex%3D%221%22%20style%3D%22font-family%3A%20%26quot%3BOpen%20Sans%26quot%3B%2C%20verdana%2C%20arial%2C%20sans-serif%3B%20font-size%3A%2012px%3B%20fill%3A%20rgb(68%2C%2068%2C%2068)%3B%20fill-opacity%3A%201%3B%20white-space%3A%20pre%3B%22%20data-unformatted%3D%22-28%2C210.00%22%20data-math%3D%22N%22%20x%3D%220%22%20y%3D%220%22%20transform%3D%22translate(479.3633984375%2C112.25192352294923)%22%3E-28%2C210.00%3C%2Ftext%3E%3C%2Fg%3E%3Cg%20class%3D%22point%22%3E%3Cpath%20style%3D%22vector-effect%3A%20non-scaling-stroke%3B%20opacity%3A%201%3B%20stroke-width%3A%200px%3B%20fill%3A%20rgb(242%2C%20142%2C%2044)%3B%20fill-opacity%3A%201%3B%22%20d%3D%22M933.31%2C41.67V8.33H53.7V41.67Z%22%2F%3E%3Ctext%20class%3D%22bartext%20bartext-inside%22%20text-anchor%3D%22middle%22%20data-notex%3D%221%22%20style%3D%22font-family%3A%20%26quot%3BOpen%20Sans%26quot%3B%2C%20verdana%2C%20arial%2C%20sans-serif%3B%20font-size%3A%2012px%3B%20fill%3A%20rgb(68%2C%2068%2C%2068)%3B%20fill-opacity%3A%201%3B%20white-space%3A%20pre%3B%22%20data-unformatted%3D%22-50%2C960.00%22%20data-math%3D%22N%22%20x%3D%220%22%20y%3D%220%22%20transform%3D%22translate(86.6833984375%2C28.91692352294922)%22%3E-50%2C960.00%3C%2Ftext%3E%3C%2Fg%3E%3C%2Fg%3E%3C%2Fg%3E%3C%2Fg%3E%3C%2Fg%3E%3Cg%20class%3D%22overplot%22%2F%3E%3Cpath%20class%3D%22xlines-above%20crisp%22%20style%3D%22fill%3A%20none%3B%20stroke-width%3A%201px%3B%20stroke%3A%20rgb(0%2C%200%2C%200)%3B%20stroke-opacity%3A%200.1625%3B%22%20d%3D%22M81%2C280.5H1156%22%2F%3E%3Cpath%20class%3D%22ylines-above%20crisp%22%20style%3D%22fill%3A%20none%3B%20stroke-width%3A%201px%3B%20stroke%3A%20rgb(0%2C%200%2C%200)%3B%20stroke-opacity%3A%200.1625%3B%22%20d%3D%22M81.5%2C30V280%22%2F%3E%3Cg%20class%3D%22overlines-above%22%2F%3E%3Cg%20class%3D%22xaxislayer-above%22%3E%3Cg%20class%3D%22xtick%22%3E%3Ctext%20text-anchor%3D%22middle%22%20x%3D%220%22%20y%3D%22295.4%22%20style%3D%22font-family%3A%20%26quot%3BOpen%20Sans%26quot%3B%2C%20verdana%2C%20arial%2C%20sans-serif%3B%20font-size%3A%2012px%3B%20fill%3A%20rgb(0%2C%200%2C%200)%3B%20fill-opacity%3A%200.65%3B%20white-space%3A%20pre%3B%22%20data-unformatted%3D%22%E2%88%9250k%22%20data-math%3D%22N%22%20transform%3D%22translate(152.26999999999998%2C0)%22%3E%E2%88%9250k%3C%2Ftext%3E%3C%2Fg%3E%3Cg%20class%3D%22xtick%22%3E%3Ctext%20text-anchor%3D%22middle%22%20x%3D%220%22%20y%3D%22295.4%22%20style%3D%22font-family%3A%20%26quot%3BOpen%20Sans%26quot%3B%2C%20verdana%2C%20arial%2C%20sans-serif%3B%20font-size%3A%2012px%3B%20fill%3A%20rgb(0%2C%200%2C%200)%3B%20fill-opacity%3A%200.65%3B%20white-space%3A%20pre%3B%22%20data-unformatted%3D%22%E2%88%9240k%22%20data-math%3D%22N%22%20transform%3D%22translate(324.88%2C0)%22%3E%E2%88%9240k%3C%2Ftext%3E%3C%2Fg%3E%3Cg%20class%3D%22xtick%22%3E%3Ctext%20text-anchor%3D%22middle%22%20x%3D%220%22%20y%3D%22295.4%22%20style%3D%22font-family%3A%20%26quot%3BOpen%20Sans%26quot%3B%2C%20verdana%2C%20arial%2C%20sans-serif%3B%20font-size%3A%2012px%3B%20fill%3A%20rgb(0%2C%200%2C%200)%3B%20fill-opacity%3A%200.65%3B%20white-space%3A%20pre%3B%22%20data-unformatted%3D%22%E2%88%9230k%22%20data-math%3D%22N%22%20transform%3D%22translate(497.48%2C0)%22%3E%E2%88%9230k%3C%2Ftext%3E%3C%2Fg%3E%3Cg%20class%3D%22xtick%22%3E%3Ctext%20text-anchor%3D%22middle%22%20x%3D%220%22%20y%3D%22295.4%22%20style%3D%22font-family%3A%20%26quot%3BOpen%20Sans%26quot%3B%2C%20verdana%2C%20arial%2C%20sans-serif%3B%20font-size%3A%2012px%3B%20fill%3A%20rgb(0%2C%200%2C%200)%3B%20fill-opacity%3A%200.65%3B%20white-space%3A%20pre%3B%22%20data-unformatted%3D%22%E2%88%9220k%22%20data-math%3D%22N%22%20transform%3D%22translate(670.09%2C0)%22%3E%E2%88%9220k%3C%2Ftext%3E%3C%2Fg%3E%3Cg%20class%3D%22xtick%22%3E%3Ctext%20text-anchor%3D%22middle%22%20x%3D%220%22%20y%3D%22295.4%22%20style%3D%22font-family%3A%20%26quot%3BOpen%20Sans%26quot%3B%2C%20verdana%2C%20arial%2C%20sans-serif%3B%20font-size%3A%2012px%3B%20fill%3A%20rgb(0%2C%200%2C%200)%3B%20fill-opacity%3A%200.65%3B%20white-space%3A%20pre%3B%22%20data-unformatted%3D%22%E2%88%9210k%22%20data-math%3D%22N%22%20transform%3D%22translate(842.7%2C0)%22%3E%E2%88%9210k%3C%2Ftext%3E%3C%2Fg%3E%3Cg%20class%3D%22xtick%22%3E%3Ctext%20text-anchor%3D%22middle%22%20x%3D%220%22%20y%3D%22295.4%22%20style%3D%22font-family%3A%20%26quot%3BOpen%20Sans%26quot%3B%2C%20verdana%2C%20arial%2C%20sans-serif%3B%20font-size%3A%2012px%3B%20fill%3A%20rgb(0%2C%200%2C%200)%3B%20fill-opacity%3A%200.65%3B%20white-space%3A%20pre%3B%22%20data-unformatted%3D%220%22%20data-math%3D%22N%22%20transform%3D%22translate(1015.31%2C0)%22%3E0%3C%2Ftext%3E%3C%2Fg%3E%3C%2Fg%3E%3Cg%20class%3D%22yaxislayer-above%22%3E%3Cg%20class%3D%22ytick%22%3E%3Ctext%20text-anchor%3D%22end%22%20x%3D%2278.6%22%20y%3D%224.199999999999999%22%20style%3D%22font-family%3A%20%26quot%3BOpen%20Sans%26quot%3B%2C%20verdana%2C%20arial%2C%20sans-serif%3B%20font-size%3A%2012px%3B%20fill%3A%20rgb(0%2C%200%2C%200)%3B%20fill-opacity%3A%200.65%3B%20white-space%3A%20pre%3B%22%20data-unformatted%3D%22Equity%22%20data-math%3D%22N%22%20transform%3D%22translate(0%2C238.33)%22%3EEquity%3C%2Ftext%3E%3C%2Fg%3E%3Cg%20class%3D%22ytick%22%3E%3Ctext%20text-anchor%3D%22end%22%20x%3D%2278.6%22%20y%3D%224.199999999999999%22%20style%3D%22font-family%3A%20%26quot%3BOpen%20Sans%26quot%3B%2C%20verdana%2C%20arial%2C%20sans-serif%3B%20font-size%3A%2012px%3B%20fill%3A%20rgb(0%2C%200%2C%200)%3B%20fill-opacity%3A%200.65%3B%20white-space%3A%20pre%3B%22%20data-unformatted%3D%22Forex%22%20data-math%3D%22N%22%20transform%3D%22translate(0%2C155)%22%3EForex%3C%2Ftext%3E%3C%2Fg%3E%3Cg%20class%3D%22ytick%22%3E%3Ctext%20text-anchor%3D%22end%22%20x%3D%2278.6%22%20y%3D%224.199999999999999%22%20style%3D%22font-family%3A%20%26quot%3BOpen%20Sans%26quot%3B%2C%20verdana%2C%20arial%2C%20sans-serif%3B%20font-size%3A%2012px%3B%20fill%3A%20rgb(0%2C%200%2C%200)%3B%20fill-opacity%3A%200.65%3B%20white-space%3A%20pre%3B%22%20data-unformatted%3D%22Rates%20%26amp%3B%20Credit%22%20data-math%3D%22N%22%20transform%3D%22translate(0%2C71.67)%22%3ERates%20%26amp%3B%20Credit%3C%2Ftext%3E%3C%2Fg%3E%3C%2Fg%3E%3Cg%20class%3D%22overaxes-above%22%2F%3E%3C%2Fg%3E%3C%2Fg%3E%3Cg%20class%3D%22polarlayer%22%2F%3E%3Cg%20class%3D%22ternarylayer%22%2F%3E%3Cg%20class%3D%22geolayer%22%2F%3E%3Cg%20class%3D%22funnelarealayer%22%2F%3E%3Cg%20class%3D%22pielayer%22%2F%3E%3Cg%20class%3D%22treemaplayer%22%2F%3E%3Cg%20class%3D%22sunburstlayer%22%2F%3E%3Cg%20class%3D%22glimages%22%2F%3E%3Cdefs%20id%3D%22topdefs-94a4d6%22%3E%3Cg%20class%3D%22clips%22%2F%3E%3CclipPath%20id%3D%22legend94a4d6%22%3E%3Crect%20width%3D%22131%22%20height%3D%2258%22%20x%3D%220%22%20y%3D%220%22%2F%3E%3C%2FclipPath%3E%3C%2Fdefs%3E%3Cg%20class%3D%22indicatorlayer%22%2F%3E%3Cg%20class%3D%22layer-above%22%3E%3Cg%20class%3D%22imagelayer%22%2F%3E%3Cg%20class%3D%22shapelayer%22%2F%3E%3C%2Fg%3E%3Cg%20class%3D%22infolayer%22%3E%3Cg%20class%3D%22legend%22%20pointer-events%3D%22all%22%20transform%3D%22translate(1177%2C%2030)%22%3E%3Crect%20class%3D%22bg%22%20shape-rendering%3D%22crispEdges%22%20style%3D%22stroke%3A%20rgb(68%2C%2068%2C%2068)%3B%20stroke-opacity%3A%201%3B%20fill%3A%20rgb(255%2C%20255%2C%20255)%3B%20fill-opacity%3A%201%3B%20stroke-width%3A%200px%3B%22%20width%3D%22131%22%20height%3D%2258%22%20x%3D%220%22%20y%3D%220%22%2F%3E%3Cg%20class%3D%22scrollbox%22%20transform%3D%22translate(0%2C%200)%22%20clip-path%3D%22url('%23legend94a4d6')%22%3E%3Cg%20class%3D%22groups%22%20transform%3D%22translate(0%2C%200)%22%3E%3Cg%20class%3D%22traces%22%20style%3D%22opacity%3A%201%3B%22%20transform%3D%22translate(0%2C%2014.5)%22%3E%3Ctext%20class%3D%22legendtext%20user-select-none%22%20text-anchor%3D%22start%22%20style%3D%22font-family%3A%20%26quot%3BOpen%20Sans%26quot%3B%2C%20verdana%2C%20arial%2C%20sans-serif%3B%20font-size%3A%2012px%3B%20fill%3A%20rgb(0%2C%200%2C%200)%3B%20fill-opacity%3A%200.65%3B%20white-space%3A%20pre%3B%22%20x%3D%2240%22%20y%3D%224.680000000000001%22%20data-unformatted%3D%22Last%20Curve%22%20data-math%3D%22N%22%3ELast%20Curve%3C%2Ftext%3E%3Cg%20class%3D%22layers%22%20style%3D%22opacity%3A%201%3B%22%3E%3Cg%20class%3D%22legendfill%22%2F%3E%3Cg%20class%3D%22legendlines%22%2F%3E%3Cg%20class%3D%22legendsymbols%22%3E%3Cg%20class%3D%22legendpoints%22%3E%3Cpath%20class%3D%22legendundefined%22%20d%3D%22M6%2C6H-6V-6H6Z%22%20transform%3D%22translate(20%2C0)%22%20style%3D%22stroke-width%3A%200px%3B%20fill%3A%20rgb(78%2C%20121%2C%20167)%3B%20fill-opacity%3A%201%3B%22%2F%3E%3C%2Fg%3E%3C%2Fg%3E%3C%2Fg%3E%3Crect%20class%3D%22legendtoggle%22%20style%3D%22cursor%3A%20pointer%3B%20fill%3A%20rgb(0%2C%200%2C%200)%3B%20fill-opacity%3A%200%3B%22%20pointer-events%3D%22all%22%20x%3D%220%22%20y%3D%22-9.5%22%20width%3D%22126%22%20height%3D%2219%22%2F%3E%3C%2Fg%3E%3C%2Fg%3E%3Cg%20class%3D%22groups%22%20transform%3D%22translate(0%2C%2010)%22%3E%3Cg%20class%3D%22traces%22%20style%3D%22opacity%3A%201%3B%22%20transform%3D%22translate(0%2C%2033.5)%22%3E%3Ctext%20class%3D%22legendtext%20user-select-none%22%20text-anchor%3D%22start%22%20style%3D%22font-family%3A%20%26quot%3BOpen%20Sans%26quot%3B%2C%20verdana%2C%20arial%2C%20sans-serif%3B%20font-size%3A%2012px%3B%20fill%3A%20rgb(0%2C%200%2C%200)%3B%20fill-opacity%3A%200.65%3B%20white-space%3A%20pre%3B%22%20x%3D%2240%22%20y%3D%224.680000000000001%22%20data-unformatted%3D%22Curve%20Inversion%22%20data-math%3D%22N%22%3ECurve%20Inversion%3C%2Ftext%3E%3Cg%20class%3D%22layers%22%20style%3D%22opacity%3A%201%3B%22%3E%3Cg%20class%3D%22legendfill%22%2F%3E%3Cg%20class%3D%22legendlines%22%2F%3E%3Cg%20class%3D%22legendsymbols%22%3E%3Cg%20class%3D%22legendpoints%22%3E%3Cpath%20class%3D%22legendundefined%22%20d%3D%22M6%2C6H-6V-6H6Z%22%20transform%3D%22translate(20%2C0)%22%20style%3D%22stroke-width%3A%200px%3B%20fill%3A%20rgb(242%2C%20142%2C%2044)%3B%20fill-opacity%3A%201%3B%22%2F%3E%3C%2Fg%3E%3C%2Fg%3E%3C%2Fg%3E%3Crect%20class%3D%22legendtoggle%22%20style%3D%22cursor%3A%20pointer%3B%20fill%3A%20rgb(0%2C%200%2C%200)%3B%20fill-opacity%3A%200%3B%22%20pointer-events%3D%22all%22%20x%3D%220%22%20y%3D%22-9.5%22%20width%3D%22126%22%20height%3D%2219%22%2F%3E%3C%2Fg%3E%3C%2Fg%3E%3C%2Fg%3E%3Crect%20class%3D%22scrollbar%22%20rx%3D%2220%22%20ry%3D%223%22%20width%3D%220%22%20height%3D%220%22%20style%3D%22fill%3A%20rgb(128%2C%20139%2C%20164)%3B%20fill-opacity%3A%201%3B%22%20x%3D%220%22%20y%3D%220%22%2F%3E%3C%2Fg%3E%3Cg%20class%3D%22g-gtitle%22%2F%3E%3Cg%20class%3D%22g-xtitle%22%2F%3E%3Cg%20class%3D%22g-ytitle%22%2F%3E%3C%2Fg%3E%3Cg%20class%3D%22menulayer%22%2F%3E%3Cg%20class%3D%22zoomlayer%22%2F%3E%3Cg%20class%3D%22hoverlayer%22%2F%3E%3C%2Fsvg%3E\">"
      ],
      "text/plain": [
       "Open the notebook in JupyterLab with the atoti extension installed and enabled to see this widget."
      ]
     },
     "metadata": {},
     "output_type": "display_data"
    }
   ],
   "source": [
    "position_sensitivity_cube.visualize(\"Theoretical PnL Curve Inversion\")"
   ]
  },
  {
   "cell_type": "code",
   "execution_count": 42,
   "metadata": {
    "atoti": {
     "state": {
      "name": "Theoretical PnL against Tenor",
      "type": "container",
      "value": {
       "body": {
        "configuration": {
         "mapping": {
          "horizontal": [],
          "splitBy": [
           "[Hierarchies].[Investment Portfolio Hierarchy].[Asset Class]"
          ],
          "values": [
           "[Measures].[Theoretical PnL]"
          ],
          "vertical": [],
          "verticalSubplots": [
           "[Measure Simulations].[Curve Simulation].[Curve Simulation]"
          ],
          "xAxis": [
           "[Hierarchies].[tenor].[tenor]"
          ]
         },
         "style": {
          "isTextVisible": false
         },
         "subplotModeEnabled": true,
         "type": "plotly-clustered-column-chart"
        },
        "query": {
         "contextValues": {},
         "mdx": "SELECT NON EMPTY Crossjoin([Hierarchies].[tenor].[tenor].Members, [Hierarchies].[Investment Portfolio Hierarchy].[Asset Class].Members, [Measure Simulations].[Curve Simulation].[Curve Simulation].Members) ON ROWS, NON EMPTY [Measures].[Theoretical PnL] ON COLUMNS FROM (SELECT {[Measure Simulations].[Curve Simulation].[Curve Simulation].[Curve Inversion], [Measure Simulations].[Curve Simulation].[Curve Simulation].[Last Curve]} ON COLUMNS FROM [Position_Sensitivities]) CELL PROPERTIES VALUE, FORMATTED_VALUE, BACK_COLOR, FORE_COLOR, FONT_FLAGS",
         "serverUrl": ""
        }
       },
       "containerKey": "chart",
       "showTitleBar": false,
       "style": {}
      }
     }
    }
   },
   "outputs": [
    {
     "data": {
      "application/vnd.atoti.v0+json": {
       "cube": "Position_Sensitivities",
       "error": null,
       "name": "Theoretical PnL against Tenor",
       "session": "Unnamed"
      },
      "text/html": [
       "<img src=\"data:image/svg+xml;charset=utf8,%3C%3Fxml%20version%3D%221.0%22%20standalone%3D%22no%22%3F%3E%3Csvg%20xmlns%3D%22http%3A%2F%2Fwww.w3.org%2F2000%2Fsvg%22%20xmlns%3Axlink%3D%22http%3A%2F%2Fwww.w3.org%2F1999%2Fxlink%22%20viewBox%3D%220%200%201308%20360%22%3E%3Cdefs%20id%3D%22defs-ce921f%22%3E%3Cg%20class%3D%22clips%22%3E%3CclipPath%20id%3D%22clipce921fxyplot%22%20class%3D%22plotclip%22%3E%3Crect%20width%3D%221081%22%20height%3D%22118.42105263157896%22%2F%3E%3C%2FclipPath%3E%3CclipPath%20id%3D%22clipce921fxy2plot%22%20class%3D%22plotclip%22%3E%3Crect%20width%3D%221081%22%20height%3D%22118.42105263157895%22%2F%3E%3C%2FclipPath%3E%3CclipPath%20class%3D%22axesclip%22%20id%3D%22clipce921fx%22%3E%3Crect%20x%3D%2280%22%20y%3D%220%22%20width%3D%221081%22%20height%3D%22360%22%2F%3E%3C%2FclipPath%3E%3CclipPath%20class%3D%22axesclip%22%20id%3D%22clipce921fy%22%3E%3Crect%20x%3D%220%22%20y%3D%2230%22%20width%3D%221308%22%20height%3D%22118.42105263157896%22%2F%3E%3C%2FclipPath%3E%3CclipPath%20class%3D%22axesclip%22%20id%3D%22clipce921fxy%22%3E%3Crect%20x%3D%2280%22%20y%3D%2230%22%20width%3D%221081%22%20height%3D%22118.42105263157896%22%2F%3E%3C%2FclipPath%3E%3CclipPath%20class%3D%22axesclip%22%20id%3D%22clipce921fy2%22%3E%3Crect%20x%3D%220%22%20y%3D%22161.57894736842107%22%20width%3D%221308%22%20height%3D%22118.42105263157895%22%2F%3E%3C%2FclipPath%3E%3CclipPath%20class%3D%22axesclip%22%20id%3D%22clipce921fxy2%22%3E%3Crect%20x%3D%2280%22%20y%3D%22161.57894736842107%22%20width%3D%221081%22%20height%3D%22118.42105263157895%22%2F%3E%3C%2FclipPath%3E%3C%2Fg%3E%3Cg%20class%3D%22gradients%22%2F%3E%3C%2Fdefs%3E%3Cg%20class%3D%22bglayer%22%2F%3E%3Cg%20class%3D%22draglayer%20cursor-crosshair%22%3E%3Cg%20class%3D%22xy%22%3E%3Crect%20class%3D%22nsewdrag%20drag%22%20style%3D%22fill%3A%20transparent%3B%20stroke-width%3A%200px%3B%20pointer-events%3A%20all%3B%22%20data-subplot%3D%22xy%22%20x%3D%2280%22%20y%3D%2230%22%20width%3D%221081%22%20height%3D%22118.42105263157896%22%2F%3E%3Crect%20class%3D%22nwdrag%20drag%20cursor-nw-resize%22%20style%3D%22fill%3A%20transparent%3B%20stroke-width%3A%200px%3B%20pointer-events%3A%20all%3B%22%20data-subplot%3D%22xy%22%20x%3D%2260%22%20y%3D%2210%22%20width%3D%2220%22%20height%3D%2220%22%2F%3E%3Crect%20class%3D%22nedrag%20drag%20cursor-ne-resize%22%20style%3D%22fill%3A%20transparent%3B%20stroke-width%3A%200px%3B%20pointer-events%3A%20all%3B%22%20data-subplot%3D%22xy%22%20x%3D%221161%22%20y%3D%2210%22%20width%3D%2220%22%20height%3D%2220%22%2F%3E%3Crect%20class%3D%22swdrag%20drag%20cursor-sw-resize%22%20style%3D%22fill%3A%20transparent%3B%20stroke-width%3A%200px%3B%20pointer-events%3A%20all%3B%22%20data-subplot%3D%22xy%22%20x%3D%2260%22%20y%3D%22148.42105263157896%22%20width%3D%2220%22%20height%3D%2220%22%2F%3E%3Crect%20class%3D%22sedrag%20drag%20cursor-se-resize%22%20style%3D%22fill%3A%20transparent%3B%20stroke-width%3A%200px%3B%20pointer-events%3A%20all%3B%22%20data-subplot%3D%22xy%22%20x%3D%221161%22%20y%3D%22148.42105263157896%22%20width%3D%2220%22%20height%3D%2220%22%2F%3E%3Crect%20class%3D%22nsdrag%20drag%20cursor-ns-resize%22%20style%3D%22fill%3A%20transparent%3B%20stroke-width%3A%200px%3B%20pointer-events%3A%20all%3B%22%20data-subplot%3D%22xy%22%20x%3D%2259.5%22%20y%3D%2241.8421052631579%22%20width%3D%2220%22%20height%3D%2294.73684210526318%22%2F%3E%3Crect%20class%3D%22sdrag%20drag%20cursor-s-resize%22%20style%3D%22fill%3A%20transparent%3B%20stroke-width%3A%200px%3B%20pointer-events%3A%20all%3B%22%20data-subplot%3D%22xy%22%20x%3D%2259.5%22%20y%3D%22136.57894736842107%22%20width%3D%2220%22%20height%3D%2211.842105263157897%22%2F%3E%3Crect%20class%3D%22ndrag%20drag%20cursor-n-resize%22%20style%3D%22fill%3A%20transparent%3B%20stroke-width%3A%200px%3B%20pointer-events%3A%20all%3B%22%20data-subplot%3D%22xy%22%20x%3D%2259.5%22%20y%3D%2230%22%20width%3D%2220%22%20height%3D%2211.842105263157897%22%2F%3E%3C%2Fg%3E%3Cg%20class%3D%22xy2%22%3E%3Crect%20class%3D%22nsewdrag%20drag%22%20style%3D%22fill%3A%20transparent%3B%20stroke-width%3A%200px%3B%20pointer-events%3A%20all%3B%22%20data-subplot%3D%22xy2%22%20x%3D%2280%22%20y%3D%22161.57894736842107%22%20width%3D%221081%22%20height%3D%22118.42105263157895%22%2F%3E%3Crect%20class%3D%22nwdrag%20drag%20cursor-nw-resize%22%20style%3D%22fill%3A%20transparent%3B%20stroke-width%3A%200px%3B%20pointer-events%3A%20all%3B%22%20data-subplot%3D%22xy2%22%20x%3D%2260%22%20y%3D%22141.57894736842107%22%20width%3D%2220%22%20height%3D%2220%22%2F%3E%3Crect%20class%3D%22nedrag%20drag%20cursor-ne-resize%22%20style%3D%22fill%3A%20transparent%3B%20stroke-width%3A%200px%3B%20pointer-events%3A%20all%3B%22%20data-subplot%3D%22xy2%22%20x%3D%221161%22%20y%3D%22141.57894736842107%22%20width%3D%2220%22%20height%3D%2220%22%2F%3E%3Crect%20class%3D%22swdrag%20drag%20cursor-sw-resize%22%20style%3D%22fill%3A%20transparent%3B%20stroke-width%3A%200px%3B%20pointer-events%3A%20all%3B%22%20data-subplot%3D%22xy2%22%20x%3D%2260%22%20y%3D%22280%22%20width%3D%2220%22%20height%3D%2220%22%2F%3E%3Crect%20class%3D%22sedrag%20drag%20cursor-se-resize%22%20style%3D%22fill%3A%20transparent%3B%20stroke-width%3A%200px%3B%20pointer-events%3A%20all%3B%22%20data-subplot%3D%22xy2%22%20x%3D%221161%22%20y%3D%22280%22%20width%3D%2220%22%20height%3D%2220%22%2F%3E%3Crect%20class%3D%22ewdrag%20drag%20cursor-ew-resize%22%20style%3D%22fill%3A%20transparent%3B%20stroke-width%3A%200px%3B%20pointer-events%3A%20all%3B%22%20data-subplot%3D%22xy2%22%20x%3D%22188.10000000000002%22%20y%3D%22280.5%22%20width%3D%22864.8000000000001%22%20height%3D%2220%22%2F%3E%3Crect%20class%3D%22wdrag%20drag%20cursor-w-resize%22%20style%3D%22fill%3A%20transparent%3B%20stroke-width%3A%200px%3B%20pointer-events%3A%20all%3B%22%20data-subplot%3D%22xy2%22%20x%3D%2280%22%20y%3D%22280.5%22%20width%3D%22108.10000000000001%22%20height%3D%2220%22%2F%3E%3Crect%20class%3D%22edrag%20drag%20cursor-e-resize%22%20style%3D%22fill%3A%20transparent%3B%20stroke-width%3A%200px%3B%20pointer-events%3A%20all%3B%22%20data-subplot%3D%22xy2%22%20x%3D%221052.9%22%20y%3D%22280.5%22%20width%3D%22108.10000000000001%22%20height%3D%2220%22%2F%3E%3Crect%20class%3D%22nsdrag%20drag%20cursor-ns-resize%22%20style%3D%22fill%3A%20transparent%3B%20stroke-width%3A%200px%3B%20pointer-events%3A%20all%3B%22%20data-subplot%3D%22xy2%22%20x%3D%2259.5%22%20y%3D%22173.42105263157896%22%20width%3D%2220%22%20height%3D%2294.73684210526316%22%2F%3E%3Crect%20class%3D%22sdrag%20drag%20cursor-s-resize%22%20style%3D%22fill%3A%20transparent%3B%20stroke-width%3A%200px%3B%20pointer-events%3A%20all%3B%22%20data-subplot%3D%22xy2%22%20x%3D%2259.5%22%20y%3D%22268.15789473684214%22%20width%3D%2220%22%20height%3D%2211.842105263157896%22%2F%3E%3Crect%20class%3D%22ndrag%20drag%20cursor-n-resize%22%20style%3D%22fill%3A%20transparent%3B%20stroke-width%3A%200px%3B%20pointer-events%3A%20all%3B%22%20data-subplot%3D%22xy2%22%20x%3D%2259.5%22%20y%3D%22161.57894736842107%22%20width%3D%2220%22%20height%3D%2211.842105263157896%22%2F%3E%3C%2Fg%3E%3C%2Fg%3E%3Cg%20class%3D%22layer-below%22%3E%3Cg%20class%3D%22imagelayer%22%2F%3E%3Cg%20class%3D%22shapelayer%22%2F%3E%3C%2Fg%3E%3Cg%20class%3D%22cartesianlayer%22%3E%3Cg%20class%3D%22subplot%20xy%22%3E%3Cg%20class%3D%22layer-subplot%22%3E%3Cg%20class%3D%22shapelayer%22%2F%3E%3Cg%20class%3D%22imagelayer%22%2F%3E%3C%2Fg%3E%3Cg%20class%3D%22gridlayer%22%3E%3Cg%20class%3D%22x%22%3E%3Cpath%20class%3D%22xgrid%20crisp%22%20transform%3D%22translate(140.06%2C0)%22%20d%3D%22M0%2C30v118.42105263157896%22%20style%3D%22stroke%3A%20rgb(0%2C%200%2C%200)%3B%20stroke-opacity%3A%200%3B%20stroke-width%3A%201px%3B%22%2F%3E%3Cpath%20class%3D%22xgrid%20crisp%22%20transform%3D%22translate(260.16999999999996%2C0)%22%20d%3D%22M0%2C30v118.42105263157896%22%20style%3D%22stroke%3A%20rgb(0%2C%200%2C%200)%3B%20stroke-opacity%3A%200%3B%20stroke-width%3A%201px%3B%22%2F%3E%3Cpath%20class%3D%22xgrid%20crisp%22%20transform%3D%22translate(380.28%2C0)%22%20d%3D%22M0%2C30v118.42105263157896%22%20style%3D%22stroke%3A%20rgb(0%2C%200%2C%200)%3B%20stroke-opacity%3A%200%3B%20stroke-width%3A%201px%3B%22%2F%3E%3Cpath%20class%3D%22xgrid%20crisp%22%20transform%3D%22translate(500.39%2C0)%22%20d%3D%22M0%2C30v118.42105263157896%22%20style%3D%22stroke%3A%20rgb(0%2C%200%2C%200)%3B%20stroke-opacity%3A%200%3B%20stroke-width%3A%201px%3B%22%2F%3E%3Cpath%20class%3D%22xgrid%20crisp%22%20transform%3D%22translate(620.5%2C0)%22%20d%3D%22M0%2C30v118.42105263157896%22%20style%3D%22stroke%3A%20rgb(0%2C%200%2C%200)%3B%20stroke-opacity%3A%200%3B%20stroke-width%3A%201px%3B%22%2F%3E%3Cpath%20class%3D%22xgrid%20crisp%22%20transform%3D%22translate(740.61%2C0)%22%20d%3D%22M0%2C30v118.42105263157896%22%20style%3D%22stroke%3A%20rgb(0%2C%200%2C%200)%3B%20stroke-opacity%3A%200%3B%20stroke-width%3A%201px%3B%22%2F%3E%3Cpath%20class%3D%22xgrid%20crisp%22%20transform%3D%22translate(860.72%2C0)%22%20d%3D%22M0%2C30v118.42105263157896%22%20style%3D%22stroke%3A%20rgb(0%2C%200%2C%200)%3B%20stroke-opacity%3A%200%3B%20stroke-width%3A%201px%3B%22%2F%3E%3Cpath%20class%3D%22xgrid%20crisp%22%20transform%3D%22translate(980.83%2C0)%22%20d%3D%22M0%2C30v118.42105263157896%22%20style%3D%22stroke%3A%20rgb(0%2C%200%2C%200)%3B%20stroke-opacity%3A%200%3B%20stroke-width%3A%201px%3B%22%2F%3E%3Cpath%20class%3D%22xgrid%20crisp%22%20transform%3D%22translate(1100.94%2C0)%22%20d%3D%22M0%2C30v118.42105263157896%22%20style%3D%22stroke%3A%20rgb(0%2C%200%2C%200)%3B%20stroke-opacity%3A%200%3B%20stroke-width%3A%201px%3B%22%2F%3E%3C%2Fg%3E%3Cg%20class%3D%22y%22%3E%3Cpath%20class%3D%22ygrid%20crisp%22%20transform%3D%22translate(0%2C92.17)%22%20d%3D%22M80%2C0h1081%22%20style%3D%22stroke%3A%20rgb(0%2C%200%2C%200)%3B%20stroke-opacity%3A%200.1625%3B%20stroke-width%3A%201px%3B%22%2F%3E%3Cpath%20class%3D%22ygrid%20crisp%22%20transform%3D%22translate(0%2C35.92)%22%20d%3D%22M80%2C0h1081%22%20style%3D%22stroke%3A%20rgb(0%2C%200%2C%200)%3B%20stroke-opacity%3A%200.1625%3B%20stroke-width%3A%201px%3B%22%2F%3E%3C%2Fg%3E%3C%2Fg%3E%3Cg%20class%3D%22zerolinelayer%22%3E%3Cpath%20class%3D%22yzl%20zl%20crisp%22%20transform%3D%22translate(0%2C148.42000000000002)%22%20d%3D%22M80%2C0h1081%22%20style%3D%22stroke%3A%20rgb(0%2C%200%2C%200)%3B%20stroke-opacity%3A%200.325%3B%20stroke-width%3A%201px%3B%22%2F%3E%3C%2Fg%3E%3Cpath%20class%3D%22xlines-below%22%2F%3E%3Cpath%20class%3D%22ylines-below%22%2F%3E%3Cg%20class%3D%22overlines-below%22%2F%3E%3Cg%20class%3D%22xaxislayer-below%22%2F%3E%3Cg%20class%3D%22yaxislayer-below%22%2F%3E%3Cg%20class%3D%22overaxes-below%22%2F%3E%3Cg%20class%3D%22plot%22%20transform%3D%22translate(80%2C%2030)%22%20clip-path%3D%22url('%23clipce921fxyplot')%22%3E%3Cg%20class%3D%22barlayer%20mlayer%22%3E%3Cg%20class%3D%22trace%20bars%22%20style%3D%22opacity%3A%201%3B%22%3E%3Cg%20class%3D%22points%22%3E%3Cg%20class%3D%22point%22%3E%3Cpath%20style%3D%22vector-effect%3A%20non-scaling-stroke%3B%20opacity%3A%201%3B%20stroke-width%3A%200px%3B%20fill%3A%20rgb(78%2C%20121%2C%20167)%3B%20fill-opacity%3A%201%3B%22%20d%3D%22M12.01%2C118.42V73.42H44.04V118.42Z%22%2F%3E%3C%2Fg%3E%3Cg%20class%3D%22point%22%3E%3Cpath%20style%3D%22vector-effect%3A%20non-scaling-stroke%3B%20opacity%3A%201%3B%20stroke-width%3A%200px%3B%20fill%3A%20rgb(78%2C%20121%2C%20167)%3B%20fill-opacity%3A%201%3B%22%20d%3D%22M132.12%2C118.42V73.42H164.15V118.42Z%22%2F%3E%3C%2Fg%3E%3Cg%20class%3D%22point%22%3E%3Cpath%20style%3D%22vector-effect%3A%20non-scaling-stroke%3B%20opacity%3A%201%3B%20stroke-width%3A%200px%3B%20fill%3A%20rgb(78%2C%20121%2C%20167)%3B%20fill-opacity%3A%201%3B%22%20d%3D%22M252.23%2C118.42V73.42H284.26V118.42Z%22%2F%3E%3C%2Fg%3E%3Cg%20class%3D%22point%22%3E%3Cpath%20style%3D%22vector-effect%3A%20non-scaling-stroke%3B%20opacity%3A%201%3B%20stroke-width%3A%200px%3B%20fill%3A%20rgb(78%2C%20121%2C%20167)%3B%20fill-opacity%3A%201%3B%22%20d%3D%22M372.34%2C118.42V73.42H404.37V118.42Z%22%2F%3E%3C%2Fg%3E%3Cg%20class%3D%22point%22%3E%3Cpath%20style%3D%22vector-effect%3A%20non-scaling-stroke%3B%20opacity%3A%201%3B%20stroke-width%3A%200px%3B%20fill%3A%20rgb(78%2C%20121%2C%20167)%3B%20fill-opacity%3A%201%3B%22%20d%3D%22M492.46%2C118.42V73.42H524.49V118.42Z%22%2F%3E%3C%2Fg%3E%3Cg%20class%3D%22point%22%3E%3Cpath%20style%3D%22vector-effect%3A%20non-scaling-stroke%3B%20opacity%3A%201%3B%20stroke-width%3A%200px%3B%20fill%3A%20rgb(78%2C%20121%2C%20167)%3B%20fill-opacity%3A%201%3B%22%20d%3D%22M612.57%2C118.42V73.42H644.6V118.42Z%22%2F%3E%3C%2Fg%3E%3Cg%20class%3D%22point%22%3E%3Cpath%20style%3D%22vector-effect%3A%20non-scaling-stroke%3B%20opacity%3A%201%3B%20stroke-width%3A%200px%3B%20fill%3A%20rgb(78%2C%20121%2C%20167)%3B%20fill-opacity%3A%201%3B%22%20d%3D%22M732.68%2C118.42V73.42H764.71V118.42Z%22%2F%3E%3C%2Fg%3E%3Cg%20class%3D%22point%22%3E%3Cpath%20style%3D%22vector-effect%3A%20non-scaling-stroke%3B%20opacity%3A%201%3B%20stroke-width%3A%200px%3B%20fill%3A%20rgb(78%2C%20121%2C%20167)%3B%20fill-opacity%3A%201%3B%22%20d%3D%22M852.79%2C118.42V73.42H884.82V118.42Z%22%2F%3E%3C%2Fg%3E%3Cg%20class%3D%22point%22%3E%3Cpath%20style%3D%22vector-effect%3A%20non-scaling-stroke%3B%20opacity%3A%201%3B%20stroke-width%3A%200px%3B%20fill%3A%20rgb(78%2C%20121%2C%20167)%3B%20fill-opacity%3A%201%3B%22%20d%3D%22M972.9%2C118.42V73.42H1004.93V118.42Z%22%2F%3E%3C%2Fg%3E%3C%2Fg%3E%3C%2Fg%3E%3Cg%20class%3D%22trace%20bars%22%20style%3D%22opacity%3A%201%3B%22%3E%3Cg%20class%3D%22points%22%3E%3Cg%20class%3D%22point%22%3E%3Cpath%20style%3D%22vector-effect%3A%20non-scaling-stroke%3B%20opacity%3A%201%3B%20stroke-width%3A%200px%3B%20fill%3A%20rgb(242%2C%20142%2C%2044)%3B%20fill-opacity%3A%201%3B%22%20d%3D%22M44.04%2C118.42V50.92H76.07V118.42Z%22%2F%3E%3C%2Fg%3E%3Cg%20class%3D%22point%22%3E%3Cpath%20style%3D%22vector-effect%3A%20non-scaling-stroke%3B%20opacity%3A%201%3B%20stroke-width%3A%200px%3B%20fill%3A%20rgb(242%2C%20142%2C%2044)%3B%20fill-opacity%3A%201%3B%22%20d%3D%22M164.15%2C118.42V50.92H196.18V118.42Z%22%2F%3E%3C%2Fg%3E%3Cg%20class%3D%22point%22%3E%3Cpath%20style%3D%22vector-effect%3A%20non-scaling-stroke%3B%20opacity%3A%201%3B%20stroke-width%3A%200px%3B%20fill%3A%20rgb(242%2C%20142%2C%2044)%3B%20fill-opacity%3A%201%3B%22%20d%3D%22M284.26%2C118.42V50.92H316.29V118.42Z%22%2F%3E%3C%2Fg%3E%3Cg%20class%3D%22point%22%3E%3Cpath%20style%3D%22vector-effect%3A%20non-scaling-stroke%3B%20opacity%3A%201%3B%20stroke-width%3A%200px%3B%20fill%3A%20rgb(242%2C%20142%2C%2044)%3B%20fill-opacity%3A%201%3B%22%20d%3D%22M404.37%2C118.42V50.92H436.4V118.42Z%22%2F%3E%3C%2Fg%3E%3Cg%20class%3D%22point%22%3E%3Cpath%20style%3D%22vector-effect%3A%20non-scaling-stroke%3B%20opacity%3A%201%3B%20stroke-width%3A%200px%3B%20fill%3A%20rgb(242%2C%20142%2C%2044)%3B%20fill-opacity%3A%201%3B%22%20d%3D%22M524.49%2C118.42V50.92H556.51V118.42Z%22%2F%3E%3C%2Fg%3E%3Cg%20class%3D%22point%22%3E%3Cpath%20style%3D%22vector-effect%3A%20non-scaling-stroke%3B%20opacity%3A%201%3B%20stroke-width%3A%200px%3B%20fill%3A%20rgb(242%2C%20142%2C%2044)%3B%20fill-opacity%3A%201%3B%22%20d%3D%22M644.6%2C118.42V50.92H676.63V118.42Z%22%2F%3E%3C%2Fg%3E%3Cg%20class%3D%22point%22%3E%3Cpath%20style%3D%22vector-effect%3A%20non-scaling-stroke%3B%20opacity%3A%201%3B%20stroke-width%3A%200px%3B%20fill%3A%20rgb(242%2C%20142%2C%2044)%3B%20fill-opacity%3A%201%3B%22%20d%3D%22M764.71%2C118.42V50.92H796.74V118.42Z%22%2F%3E%3C%2Fg%3E%3Cg%20class%3D%22point%22%3E%3Cpath%20style%3D%22vector-effect%3A%20non-scaling-stroke%3B%20opacity%3A%201%3B%20stroke-width%3A%200px%3B%20fill%3A%20rgb(242%2C%20142%2C%2044)%3B%20fill-opacity%3A%201%3B%22%20d%3D%22M884.82%2C118.42V50.92H916.85V118.42Z%22%2F%3E%3C%2Fg%3E%3Cg%20class%3D%22point%22%3E%3Cpath%20style%3D%22vector-effect%3A%20non-scaling-stroke%3B%20opacity%3A%201%3B%20stroke-width%3A%200px%3B%20fill%3A%20rgb(242%2C%20142%2C%2044)%3B%20fill-opacity%3A%201%3B%22%20d%3D%22M1004.93%2C118.42V50.92H1036.96V118.42Z%22%2F%3E%3C%2Fg%3E%3C%2Fg%3E%3C%2Fg%3E%3Cg%20class%3D%22trace%20bars%22%20style%3D%22opacity%3A%201%3B%22%3E%3Cg%20class%3D%22points%22%3E%3Cg%20class%3D%22point%22%3E%3Cpath%20style%3D%22vector-effect%3A%20non-scaling-stroke%3B%20opacity%3A%201%3B%20stroke-width%3A%200px%3B%20fill%3A%20rgb(225%2C%2087%2C%2089)%3B%20fill-opacity%3A%201%3B%22%20d%3D%22M76.07%2C118.42V5.92H108.1V118.42Z%22%2F%3E%3C%2Fg%3E%3Cg%20class%3D%22point%22%3E%3Cpath%20style%3D%22vector-effect%3A%20non-scaling-stroke%3B%20opacity%3A%201%3B%20stroke-width%3A%200px%3B%20fill%3A%20rgb(225%2C%2087%2C%2089)%3B%20fill-opacity%3A%201%3B%22%20d%3D%22M196.18%2C118.42V5.92H228.21V118.42Z%22%2F%3E%3C%2Fg%3E%3Cg%20class%3D%22point%22%3E%3Cpath%20style%3D%22vector-effect%3A%20non-scaling-stroke%3B%20opacity%3A%201%3B%20stroke-width%3A%200px%3B%20fill%3A%20rgb(225%2C%2087%2C%2089)%3B%20fill-opacity%3A%201%3B%22%20d%3D%22M316.29%2C118.42V5.92H348.32V118.42Z%22%2F%3E%3C%2Fg%3E%3Cg%20class%3D%22point%22%3E%3Cpath%20style%3D%22vector-effect%3A%20non-scaling-stroke%3B%20opacity%3A%201%3B%20stroke-width%3A%200px%3B%20fill%3A%20rgb(225%2C%2087%2C%2089)%3B%20fill-opacity%3A%201%3B%22%20d%3D%22M436.4%2C118.42V5.92H468.43V118.42Z%22%2F%3E%3C%2Fg%3E%3Cg%20class%3D%22point%22%3E%3Cpath%20style%3D%22vector-effect%3A%20non-scaling-stroke%3B%20opacity%3A%201%3B%20stroke-width%3A%200px%3B%20fill%3A%20rgb(225%2C%2087%2C%2089)%3B%20fill-opacity%3A%201%3B%22%20d%3D%22M556.51%2C118.42V5.92H588.54V118.42Z%22%2F%3E%3C%2Fg%3E%3Cg%20class%3D%22point%22%3E%3Cpath%20style%3D%22vector-effect%3A%20non-scaling-stroke%3B%20opacity%3A%201%3B%20stroke-width%3A%200px%3B%20fill%3A%20rgb(225%2C%2087%2C%2089)%3B%20fill-opacity%3A%201%3B%22%20d%3D%22M676.63%2C118.42V5.92H708.66V118.42Z%22%2F%3E%3C%2Fg%3E%3Cg%20class%3D%22point%22%3E%3Cpath%20style%3D%22vector-effect%3A%20non-scaling-stroke%3B%20opacity%3A%201%3B%20stroke-width%3A%200px%3B%20fill%3A%20rgb(225%2C%2087%2C%2089)%3B%20fill-opacity%3A%201%3B%22%20d%3D%22M796.74%2C118.42V5.92H828.77V118.42Z%22%2F%3E%3C%2Fg%3E%3Cg%20class%3D%22point%22%3E%3Cpath%20style%3D%22vector-effect%3A%20non-scaling-stroke%3B%20opacity%3A%201%3B%20stroke-width%3A%200px%3B%20fill%3A%20rgb(225%2C%2087%2C%2089)%3B%20fill-opacity%3A%201%3B%22%20d%3D%22M916.85%2C118.42V5.92H948.88V118.42Z%22%2F%3E%3C%2Fg%3E%3Cg%20class%3D%22point%22%3E%3Cpath%20style%3D%22vector-effect%3A%20non-scaling-stroke%3B%20opacity%3A%201%3B%20stroke-width%3A%200px%3B%20fill%3A%20rgb(225%2C%2087%2C%2089)%3B%20fill-opacity%3A%201%3B%22%20d%3D%22M1036.96%2C118.42V5.92H1068.99V118.42Z%22%2F%3E%3C%2Fg%3E%3C%2Fg%3E%3C%2Fg%3E%3C%2Fg%3E%3C%2Fg%3E%3Cg%20class%3D%22overplot%22%2F%3E%3Cpath%20class%3D%22xlines-above%20crisp%22%20style%3D%22fill%3A%20none%3B%22%20d%3D%22M0%2C0%22%2F%3E%3Cpath%20class%3D%22ylines-above%20crisp%22%20style%3D%22fill%3A%20none%3B%20stroke-width%3A%201px%3B%20stroke%3A%20rgb(0%2C%200%2C%200)%3B%20stroke-opacity%3A%200.1625%3B%22%20d%3D%22M79.5%2C30V148.42105263157896%22%2F%3E%3Cg%20class%3D%22overlines-above%22%2F%3E%3Cg%20class%3D%22xaxislayer-above%22%2F%3E%3Cg%20class%3D%22yaxislayer-above%22%3E%3Cg%20class%3D%22ytick%22%3E%3Ctext%20text-anchor%3D%22end%22%20x%3D%2276.6%22%20y%3D%224.199999999999999%22%20style%3D%22font-family%3A%20%26quot%3BOpen%20Sans%26quot%3B%2C%20verdana%2C%20arial%2C%20sans-serif%3B%20font-size%3A%2012px%3B%20fill%3A%20rgb(0%2C%200%2C%200)%3B%20fill-opacity%3A%200.65%3B%20white-space%3A%20pre%3B%22%20data-unformatted%3D%220%22%20data-math%3D%22N%22%20transform%3D%22translate(0%2C148.42000000000002)%22%3E0%3C%2Ftext%3E%3C%2Fg%3E%3Cg%20class%3D%22ytick%22%3E%3Ctext%20text-anchor%3D%22end%22%20x%3D%2276.6%22%20y%3D%224.199999999999999%22%20style%3D%22font-family%3A%20%26quot%3BOpen%20Sans%26quot%3B%2C%20verdana%2C%20arial%2C%20sans-serif%3B%20font-size%3A%2012px%3B%20fill%3A%20rgb(0%2C%200%2C%200)%3B%20fill-opacity%3A%200.65%3B%20white-space%3A%20pre%3B%22%20data-unformatted%3D%22500%22%20data-math%3D%22N%22%20transform%3D%22translate(0%2C92.17)%22%3E500%3C%2Ftext%3E%3C%2Fg%3E%3Cg%20class%3D%22ytick%22%3E%3Ctext%20text-anchor%3D%22end%22%20x%3D%2276.6%22%20y%3D%224.199999999999999%22%20style%3D%22font-family%3A%20%26quot%3BOpen%20Sans%26quot%3B%2C%20verdana%2C%20arial%2C%20sans-serif%3B%20font-size%3A%2012px%3B%20fill%3A%20rgb(0%2C%200%2C%200)%3B%20fill-opacity%3A%200.65%3B%20white-space%3A%20pre%3B%22%20data-unformatted%3D%221000%22%20data-math%3D%22N%22%20transform%3D%22translate(0%2C35.92)%22%3E1000%3C%2Ftext%3E%3C%2Fg%3E%3C%2Fg%3E%3Cg%20class%3D%22overaxes-above%22%2F%3E%3C%2Fg%3E%3Cg%20class%3D%22subplot%20xy2%22%3E%3Cg%20class%3D%22layer-subplot%22%3E%3Cg%20class%3D%22shapelayer%22%2F%3E%3Cg%20class%3D%22imagelayer%22%2F%3E%3C%2Fg%3E%3Cg%20class%3D%22gridlayer%22%3E%3Cg%20class%3D%22x%22%3E%3Cpath%20class%3D%22xgrid%20crisp%22%20transform%3D%22translate(140.06%2C0)%22%20d%3D%22M0%2C161.57894736842107v118.42105263157895%22%20style%3D%22stroke%3A%20rgb(0%2C%200%2C%200)%3B%20stroke-opacity%3A%200%3B%20stroke-width%3A%201px%3B%22%2F%3E%3Cpath%20class%3D%22xgrid%20crisp%22%20transform%3D%22translate(260.16999999999996%2C0)%22%20d%3D%22M0%2C161.57894736842107v118.42105263157895%22%20style%3D%22stroke%3A%20rgb(0%2C%200%2C%200)%3B%20stroke-opacity%3A%200%3B%20stroke-width%3A%201px%3B%22%2F%3E%3Cpath%20class%3D%22xgrid%20crisp%22%20transform%3D%22translate(380.28%2C0)%22%20d%3D%22M0%2C161.57894736842107v118.42105263157895%22%20style%3D%22stroke%3A%20rgb(0%2C%200%2C%200)%3B%20stroke-opacity%3A%200%3B%20stroke-width%3A%201px%3B%22%2F%3E%3Cpath%20class%3D%22xgrid%20crisp%22%20transform%3D%22translate(500.39%2C0)%22%20d%3D%22M0%2C161.57894736842107v118.42105263157895%22%20style%3D%22stroke%3A%20rgb(0%2C%200%2C%200)%3B%20stroke-opacity%3A%200%3B%20stroke-width%3A%201px%3B%22%2F%3E%3Cpath%20class%3D%22xgrid%20crisp%22%20transform%3D%22translate(620.5%2C0)%22%20d%3D%22M0%2C161.57894736842107v118.42105263157895%22%20style%3D%22stroke%3A%20rgb(0%2C%200%2C%200)%3B%20stroke-opacity%3A%200%3B%20stroke-width%3A%201px%3B%22%2F%3E%3Cpath%20class%3D%22xgrid%20crisp%22%20transform%3D%22translate(740.61%2C0)%22%20d%3D%22M0%2C161.57894736842107v118.42105263157895%22%20style%3D%22stroke%3A%20rgb(0%2C%200%2C%200)%3B%20stroke-opacity%3A%200%3B%20stroke-width%3A%201px%3B%22%2F%3E%3Cpath%20class%3D%22xgrid%20crisp%22%20transform%3D%22translate(860.72%2C0)%22%20d%3D%22M0%2C161.57894736842107v118.42105263157895%22%20style%3D%22stroke%3A%20rgb(0%2C%200%2C%200)%3B%20stroke-opacity%3A%200%3B%20stroke-width%3A%201px%3B%22%2F%3E%3Cpath%20class%3D%22xgrid%20crisp%22%20transform%3D%22translate(980.83%2C0)%22%20d%3D%22M0%2C161.57894736842107v118.42105263157895%22%20style%3D%22stroke%3A%20rgb(0%2C%200%2C%200)%3B%20stroke-opacity%3A%200%3B%20stroke-width%3A%201px%3B%22%2F%3E%3Cpath%20class%3D%22xgrid%20crisp%22%20transform%3D%22translate(1100.94%2C0)%22%20d%3D%22M0%2C161.57894736842107v118.42105263157895%22%20style%3D%22stroke%3A%20rgb(0%2C%200%2C%200)%3B%20stroke-opacity%3A%200%3B%20stroke-width%3A%201px%3B%22%2F%3E%3C%2Fg%3E%3Cg%20class%3D%22y2%22%3E%3Cpath%20class%3D%22y2grid%20crisp%22%20transform%3D%22translate(0%2C272.17894736842106)%22%20d%3D%22M80%2C0h1081%22%20style%3D%22stroke%3A%20rgb(238%2C%20238%2C%20238)%3B%20stroke-opacity%3A%201%3B%20stroke-width%3A%201px%3B%22%2F%3E%3Cpath%20class%3D%22y2grid%20crisp%22%20transform%3D%22translate(0%2C224.59894736842108)%22%20d%3D%22M80%2C0h1081%22%20style%3D%22stroke%3A%20rgb(238%2C%20238%2C%20238)%3B%20stroke-opacity%3A%201%3B%20stroke-width%3A%201px%3B%22%2F%3E%3C%2Fg%3E%3C%2Fg%3E%3Cg%20class%3D%22zerolinelayer%22%3E%3Cpath%20class%3D%22y2zl%20zl%20crisp%22%20transform%3D%22translate(0%2C177.01894736842107)%22%20d%3D%22M80%2C0h1081%22%20style%3D%22stroke%3A%20rgb(68%2C%2068%2C%2068)%3B%20stroke-opacity%3A%201%3B%20stroke-width%3A%201px%3B%22%2F%3E%3C%2Fg%3E%3Cpath%20class%3D%22xlines-below%22%2F%3E%3Cpath%20class%3D%22ylines-below%22%2F%3E%3Cg%20class%3D%22overlines-below%22%2F%3E%3Cg%20class%3D%22xaxislayer-below%22%2F%3E%3Cg%20class%3D%22yaxislayer-below%22%2F%3E%3Cg%20class%3D%22overaxes-below%22%2F%3E%3Cg%20class%3D%22plot%22%20transform%3D%22translate(80%2C%20161.57894736842107)%22%20clip-path%3D%22url('%23clipce921fxy2plot')%22%3E%3Cg%20class%3D%22barlayer%20mlayer%22%3E%3Cg%20class%3D%22trace%20bars%22%20style%3D%22opacity%3A%201%3B%22%3E%3Cg%20class%3D%22points%22%3E%3Cg%20class%3D%22point%22%3E%3Cpath%20style%3D%22vector-effect%3A%20non-scaling-stroke%3B%20opacity%3A%201%3B%20stroke-width%3A%200px%3B%20fill%3A%20rgb(78%2C%20121%2C%20167)%3B%20fill-opacity%3A%201%3B%22%20d%3D%22M12.01%2C15.44V11.63H44.04V15.44Z%22%2F%3E%3C%2Fg%3E%3Cg%20class%3D%22point%22%3E%3Cpath%20style%3D%22vector-effect%3A%20non-scaling-stroke%3B%20opacity%3A%201%3B%20stroke-width%3A%200px%3B%20fill%3A%20rgb(78%2C%20121%2C%20167)%3B%20fill-opacity%3A%201%3B%22%20d%3D%22M132.12%2C15.44V11.63H164.15V15.44Z%22%2F%3E%3C%2Fg%3E%3Cg%20class%3D%22point%22%3E%3Cpath%20style%3D%22vector-effect%3A%20non-scaling-stroke%3B%20opacity%3A%201%3B%20stroke-width%3A%200px%3B%20fill%3A%20rgb(78%2C%20121%2C%20167)%3B%20fill-opacity%3A%201%3B%22%20d%3D%22M252.23%2C15.44V11.63H284.26V15.44Z%22%2F%3E%3C%2Fg%3E%3Cg%20class%3D%22point%22%3E%3Cpath%20style%3D%22vector-effect%3A%20non-scaling-stroke%3B%20opacity%3A%201%3B%20stroke-width%3A%200px%3B%20fill%3A%20rgb(78%2C%20121%2C%20167)%3B%20fill-opacity%3A%201%3B%22%20d%3D%22M372.34%2C15.44V11.63H404.37V15.44Z%22%2F%3E%3C%2Fg%3E%3Cg%20class%3D%22point%22%3E%3Cpath%20style%3D%22vector-effect%3A%20non-scaling-stroke%3B%20opacity%3A%201%3B%20stroke-width%3A%200px%3B%20fill%3A%20rgb(78%2C%20121%2C%20167)%3B%20fill-opacity%3A%201%3B%22%20d%3D%22M492.46%2C15.44V47.79H524.49V15.44Z%22%2F%3E%3C%2Fg%3E%3Cg%20class%3D%22point%22%3E%3Cpath%20style%3D%22vector-effect%3A%20non-scaling-stroke%3B%20opacity%3A%201%3B%20stroke-width%3A%200px%3B%20fill%3A%20rgb(78%2C%20121%2C%20167)%3B%20fill-opacity%3A%201%3B%22%20d%3D%22M612.57%2C15.44V47.79H644.6V15.44Z%22%2F%3E%3C%2Fg%3E%3Cg%20class%3D%22point%22%3E%3Cpath%20style%3D%22vector-effect%3A%20non-scaling-stroke%3B%20opacity%3A%201%3B%20stroke-width%3A%200px%3B%20fill%3A%20rgb(78%2C%20121%2C%20167)%3B%20fill-opacity%3A%201%3B%22%20d%3D%22M732.68%2C15.44V47.79H764.71V15.44Z%22%2F%3E%3C%2Fg%3E%3Cg%20class%3D%22point%22%3E%3Cpath%20style%3D%22vector-effect%3A%20non-scaling-stroke%3B%20opacity%3A%201%3B%20stroke-width%3A%200px%3B%20fill%3A%20rgb(78%2C%20121%2C%20167)%3B%20fill-opacity%3A%201%3B%22%20d%3D%22M852.79%2C15.44V47.79H884.82V15.44Z%22%2F%3E%3C%2Fg%3E%3Cg%20class%3D%22point%22%3E%3Cpath%20style%3D%22vector-effect%3A%20non-scaling-stroke%3B%20opacity%3A%201%3B%20stroke-width%3A%200px%3B%20fill%3A%20rgb(78%2C%20121%2C%20167)%3B%20fill-opacity%3A%201%3B%22%20d%3D%22M972.9%2C15.44V47.79H1004.93V15.44Z%22%2F%3E%3C%2Fg%3E%3C%2Fg%3E%3C%2Fg%3E%3Cg%20class%3D%22trace%20bars%22%20style%3D%22opacity%3A%201%3B%22%3E%3Cg%20class%3D%22points%22%3E%3Cg%20class%3D%22point%22%3E%3Cpath%20style%3D%22vector-effect%3A%20non-scaling-stroke%3B%20opacity%3A%201%3B%20stroke-width%3A%200px%3B%20fill%3A%20rgb(242%2C%20142%2C%2044)%3B%20fill-opacity%3A%201%3B%22%20d%3D%22M44.04%2C15.44V9.73H76.07V15.44Z%22%2F%3E%3C%2Fg%3E%3Cg%20class%3D%22point%22%3E%3Cpath%20style%3D%22vector-effect%3A%20non-scaling-stroke%3B%20opacity%3A%201%3B%20stroke-width%3A%200px%3B%20fill%3A%20rgb(242%2C%20142%2C%2044)%3B%20fill-opacity%3A%201%3B%22%20d%3D%22M164.15%2C15.44V9.73H196.18V15.44Z%22%2F%3E%3C%2Fg%3E%3Cg%20class%3D%22point%22%3E%3Cpath%20style%3D%22vector-effect%3A%20non-scaling-stroke%3B%20opacity%3A%201%3B%20stroke-width%3A%200px%3B%20fill%3A%20rgb(242%2C%20142%2C%2044)%3B%20fill-opacity%3A%201%3B%22%20d%3D%22M284.26%2C15.44V9.73H316.29V15.44Z%22%2F%3E%3C%2Fg%3E%3Cg%20class%3D%22point%22%3E%3Cpath%20style%3D%22vector-effect%3A%20non-scaling-stroke%3B%20opacity%3A%201%3B%20stroke-width%3A%200px%3B%20fill%3A%20rgb(242%2C%20142%2C%2044)%3B%20fill-opacity%3A%201%3B%22%20d%3D%22M404.37%2C15.44V9.73H436.4V15.44Z%22%2F%3E%3C%2Fg%3E%3Cg%20class%3D%22point%22%3E%3Cpath%20style%3D%22vector-effect%3A%20non-scaling-stroke%3B%20opacity%3A%201%3B%20stroke-width%3A%200px%3B%20fill%3A%20rgb(242%2C%20142%2C%2044)%3B%20fill-opacity%3A%201%3B%22%20d%3D%22M524.49%2C15.44V68.73H556.51V15.44Z%22%2F%3E%3C%2Fg%3E%3Cg%20class%3D%22point%22%3E%3Cpath%20style%3D%22vector-effect%3A%20non-scaling-stroke%3B%20opacity%3A%201%3B%20stroke-width%3A%200px%3B%20fill%3A%20rgb(242%2C%20142%2C%2044)%3B%20fill-opacity%3A%201%3B%22%20d%3D%22M644.6%2C15.44V68.73H676.63V15.44Z%22%2F%3E%3C%2Fg%3E%3Cg%20class%3D%22point%22%3E%3Cpath%20style%3D%22vector-effect%3A%20non-scaling-stroke%3B%20opacity%3A%201%3B%20stroke-width%3A%200px%3B%20fill%3A%20rgb(242%2C%20142%2C%2044)%3B%20fill-opacity%3A%201%3B%22%20d%3D%22M764.71%2C15.44V68.73H796.74V15.44Z%22%2F%3E%3C%2Fg%3E%3Cg%20class%3D%22point%22%3E%3Cpath%20style%3D%22vector-effect%3A%20non-scaling-stroke%3B%20opacity%3A%201%3B%20stroke-width%3A%200px%3B%20fill%3A%20rgb(242%2C%20142%2C%2044)%3B%20fill-opacity%3A%201%3B%22%20d%3D%22M884.82%2C15.44V68.73H916.85V15.44Z%22%2F%3E%3C%2Fg%3E%3Cg%20class%3D%22point%22%3E%3Cpath%20style%3D%22vector-effect%3A%20non-scaling-stroke%3B%20opacity%3A%201%3B%20stroke-width%3A%200px%3B%20fill%3A%20rgb(242%2C%20142%2C%2044)%3B%20fill-opacity%3A%201%3B%22%20d%3D%22M1004.93%2C15.44V68.73H1036.96V15.44Z%22%2F%3E%3C%2Fg%3E%3C%2Fg%3E%3C%2Fg%3E%3Cg%20class%3D%22trace%20bars%22%20style%3D%22opacity%3A%201%3B%22%3E%3Cg%20class%3D%22points%22%3E%3Cg%20class%3D%22point%22%3E%3Cpath%20style%3D%22vector-effect%3A%20non-scaling-stroke%3B%20opacity%3A%201%3B%20stroke-width%3A%200px%3B%20fill%3A%20rgb(225%2C%2087%2C%2089)%3B%20fill-opacity%3A%201%3B%22%20d%3D%22M76.07%2C15.44V5.92H108.1V15.44Z%22%2F%3E%3C%2Fg%3E%3Cg%20class%3D%22point%22%3E%3Cpath%20style%3D%22vector-effect%3A%20non-scaling-stroke%3B%20opacity%3A%201%3B%20stroke-width%3A%200px%3B%20fill%3A%20rgb(225%2C%2087%2C%2089)%3B%20fill-opacity%3A%201%3B%22%20d%3D%22M196.18%2C15.44V5.92H228.21V15.44Z%22%2F%3E%3C%2Fg%3E%3Cg%20class%3D%22point%22%3E%3Cpath%20style%3D%22vector-effect%3A%20non-scaling-stroke%3B%20opacity%3A%201%3B%20stroke-width%3A%200px%3B%20fill%3A%20rgb(225%2C%2087%2C%2089)%3B%20fill-opacity%3A%201%3B%22%20d%3D%22M316.29%2C15.44V5.92H348.32V15.44Z%22%2F%3E%3C%2Fg%3E%3Cg%20class%3D%22point%22%3E%3Cpath%20style%3D%22vector-effect%3A%20non-scaling-stroke%3B%20opacity%3A%201%3B%20stroke-width%3A%200px%3B%20fill%3A%20rgb(225%2C%2087%2C%2089)%3B%20fill-opacity%3A%201%3B%22%20d%3D%22M436.4%2C15.44V5.92H468.43V15.44Z%22%2F%3E%3C%2Fg%3E%3Cg%20class%3D%22point%22%3E%3Cpath%20style%3D%22vector-effect%3A%20non-scaling-stroke%3B%20opacity%3A%201%3B%20stroke-width%3A%200px%3B%20fill%3A%20rgb(225%2C%2087%2C%2089)%3B%20fill-opacity%3A%201%3B%22%20d%3D%22M556.51%2C15.44V112.5H588.54V15.44Z%22%2F%3E%3C%2Fg%3E%3Cg%20class%3D%22point%22%3E%3Cpath%20style%3D%22vector-effect%3A%20non-scaling-stroke%3B%20opacity%3A%201%3B%20stroke-width%3A%200px%3B%20fill%3A%20rgb(225%2C%2087%2C%2089)%3B%20fill-opacity%3A%201%3B%22%20d%3D%22M676.63%2C15.44V112.5H708.66V15.44Z%22%2F%3E%3C%2Fg%3E%3Cg%20class%3D%22point%22%3E%3Cpath%20style%3D%22vector-effect%3A%20non-scaling-stroke%3B%20opacity%3A%201%3B%20stroke-width%3A%200px%3B%20fill%3A%20rgb(225%2C%2087%2C%2089)%3B%20fill-opacity%3A%201%3B%22%20d%3D%22M796.74%2C15.44V112.5H828.77V15.44Z%22%2F%3E%3C%2Fg%3E%3Cg%20class%3D%22point%22%3E%3Cpath%20style%3D%22vector-effect%3A%20non-scaling-stroke%3B%20opacity%3A%201%3B%20stroke-width%3A%200px%3B%20fill%3A%20rgb(225%2C%2087%2C%2089)%3B%20fill-opacity%3A%201%3B%22%20d%3D%22M916.85%2C15.44V112.5H948.88V15.44Z%22%2F%3E%3C%2Fg%3E%3Cg%20class%3D%22point%22%3E%3Cpath%20style%3D%22vector-effect%3A%20non-scaling-stroke%3B%20opacity%3A%201%3B%20stroke-width%3A%200px%3B%20fill%3A%20rgb(225%2C%2087%2C%2089)%3B%20fill-opacity%3A%201%3B%22%20d%3D%22M1036.96%2C15.44V112.5H1068.99V15.44Z%22%2F%3E%3C%2Fg%3E%3C%2Fg%3E%3C%2Fg%3E%3C%2Fg%3E%3C%2Fg%3E%3Cg%20class%3D%22overplot%22%2F%3E%3Cpath%20class%3D%22xlines-above%20crisp%22%20style%3D%22fill%3A%20none%3B%20stroke-width%3A%201px%3B%20stroke%3A%20rgb(0%2C%200%2C%200)%3B%20stroke-opacity%3A%200.1625%3B%22%20d%3D%22M80%2C280.5H1161%22%2F%3E%3Cpath%20class%3D%22ylines-above%20crisp%22%20style%3D%22fill%3A%20none%3B%22%20d%3D%22M0%2C0%22%2F%3E%3Cg%20class%3D%22overlines-above%22%2F%3E%3Cg%20class%3D%22xaxislayer-above%22%3E%3Cg%20class%3D%22xtick%22%3E%3Ctext%20text-anchor%3D%22middle%22%20x%3D%220%22%20y%3D%22295.4%22%20style%3D%22font-family%3A%20%26quot%3BOpen%20Sans%26quot%3B%2C%20verdana%2C%20arial%2C%20sans-serif%3B%20font-size%3A%2012px%3B%20fill%3A%20rgb(0%2C%200%2C%200)%3B%20fill-opacity%3A%200.65%3B%20white-space%3A%20pre%3B%22%20data-unformatted%3D%221Y%22%20data-math%3D%22N%22%20transform%3D%22translate(140.06%2C0)%22%3E1Y%3C%2Ftext%3E%3C%2Fg%3E%3Cg%20class%3D%22xtick%22%3E%3Ctext%20text-anchor%3D%22middle%22%20x%3D%220%22%20y%3D%22295.4%22%20style%3D%22font-family%3A%20%26quot%3BOpen%20Sans%26quot%3B%2C%20verdana%2C%20arial%2C%20sans-serif%3B%20font-size%3A%2012px%3B%20fill%3A%20rgb(0%2C%200%2C%200)%3B%20fill-opacity%3A%200.65%3B%20white-space%3A%20pre%3B%22%20data-unformatted%3D%222Y%22%20data-math%3D%22N%22%20transform%3D%22translate(260.16999999999996%2C0)%22%3E2Y%3C%2Ftext%3E%3C%2Fg%3E%3Cg%20class%3D%22xtick%22%3E%3Ctext%20text-anchor%3D%22middle%22%20x%3D%220%22%20y%3D%22295.4%22%20style%3D%22font-family%3A%20%26quot%3BOpen%20Sans%26quot%3B%2C%20verdana%2C%20arial%2C%20sans-serif%3B%20font-size%3A%2012px%3B%20fill%3A%20rgb(0%2C%200%2C%200)%3B%20fill-opacity%3A%200.65%3B%20white-space%3A%20pre%3B%22%20data-unformatted%3D%223Y%22%20data-math%3D%22N%22%20transform%3D%22translate(380.28%2C0)%22%3E3Y%3C%2Ftext%3E%3C%2Fg%3E%3Cg%20class%3D%22xtick%22%3E%3Ctext%20text-anchor%3D%22middle%22%20x%3D%220%22%20y%3D%22295.4%22%20style%3D%22font-family%3A%20%26quot%3BOpen%20Sans%26quot%3B%2C%20verdana%2C%20arial%2C%20sans-serif%3B%20font-size%3A%2012px%3B%20fill%3A%20rgb(0%2C%200%2C%200)%3B%20fill-opacity%3A%200.65%3B%20white-space%3A%20pre%3B%22%20data-unformatted%3D%224Y%22%20data-math%3D%22N%22%20transform%3D%22translate(500.39%2C0)%22%3E4Y%3C%2Ftext%3E%3C%2Fg%3E%3Cg%20class%3D%22xtick%22%3E%3Ctext%20text-anchor%3D%22middle%22%20x%3D%220%22%20y%3D%22295.4%22%20style%3D%22font-family%3A%20%26quot%3BOpen%20Sans%26quot%3B%2C%20verdana%2C%20arial%2C%20sans-serif%3B%20font-size%3A%2012px%3B%20fill%3A%20rgb(0%2C%200%2C%200)%3B%20fill-opacity%3A%200.65%3B%20white-space%3A%20pre%3B%22%20data-unformatted%3D%225Y%22%20data-math%3D%22N%22%20transform%3D%22translate(620.5%2C0)%22%3E5Y%3C%2Ftext%3E%3C%2Fg%3E%3Cg%20class%3D%22xtick%22%3E%3Ctext%20text-anchor%3D%22middle%22%20x%3D%220%22%20y%3D%22295.4%22%20style%3D%22font-family%3A%20%26quot%3BOpen%20Sans%26quot%3B%2C%20verdana%2C%20arial%2C%20sans-serif%3B%20font-size%3A%2012px%3B%20fill%3A%20rgb(0%2C%200%2C%200)%3B%20fill-opacity%3A%200.65%3B%20white-space%3A%20pre%3B%22%20data-unformatted%3D%226Y%22%20data-math%3D%22N%22%20transform%3D%22translate(740.61%2C0)%22%3E6Y%3C%2Ftext%3E%3C%2Fg%3E%3Cg%20class%3D%22xtick%22%3E%3Ctext%20text-anchor%3D%22middle%22%20x%3D%220%22%20y%3D%22295.4%22%20style%3D%22font-family%3A%20%26quot%3BOpen%20Sans%26quot%3B%2C%20verdana%2C%20arial%2C%20sans-serif%3B%20font-size%3A%2012px%3B%20fill%3A%20rgb(0%2C%200%2C%200)%3B%20fill-opacity%3A%200.65%3B%20white-space%3A%20pre%3B%22%20data-unformatted%3D%227Y%22%20data-math%3D%22N%22%20transform%3D%22translate(860.72%2C0)%22%3E7Y%3C%2Ftext%3E%3C%2Fg%3E%3Cg%20class%3D%22xtick%22%3E%3Ctext%20text-anchor%3D%22middle%22%20x%3D%220%22%20y%3D%22295.4%22%20style%3D%22font-family%3A%20%26quot%3BOpen%20Sans%26quot%3B%2C%20verdana%2C%20arial%2C%20sans-serif%3B%20font-size%3A%2012px%3B%20fill%3A%20rgb(0%2C%200%2C%200)%3B%20fill-opacity%3A%200.65%3B%20white-space%3A%20pre%3B%22%20data-unformatted%3D%228Y%22%20data-math%3D%22N%22%20transform%3D%22translate(980.83%2C0)%22%3E8Y%3C%2Ftext%3E%3C%2Fg%3E%3Cg%20class%3D%22xtick%22%3E%3Ctext%20text-anchor%3D%22middle%22%20x%3D%220%22%20y%3D%22295.4%22%20style%3D%22font-family%3A%20%26quot%3BOpen%20Sans%26quot%3B%2C%20verdana%2C%20arial%2C%20sans-serif%3B%20font-size%3A%2012px%3B%20fill%3A%20rgb(0%2C%200%2C%200)%3B%20fill-opacity%3A%200.65%3B%20white-space%3A%20pre%3B%22%20data-unformatted%3D%229Y%22%20data-math%3D%22N%22%20transform%3D%22translate(1100.94%2C0)%22%3E9Y%3C%2Ftext%3E%3C%2Fg%3E%3C%2Fg%3E%3Cg%20class%3D%22yaxislayer-above%22%3E%3Cg%20class%3D%22y2tick%22%3E%3Ctext%20text-anchor%3D%22end%22%20x%3D%2279%22%20y%3D%224.199999999999999%22%20style%3D%22font-family%3A%20%26quot%3BOpen%20Sans%26quot%3B%2C%20verdana%2C%20arial%2C%20sans-serif%3B%20font-size%3A%2012px%3B%20fill%3A%20rgb(0%2C%200%2C%200)%3B%20fill-opacity%3A%200.65%3B%20white-space%3A%20pre%3B%22%20data-unformatted%3D%22%E2%88%9210k%22%20data-math%3D%22N%22%20transform%3D%22translate(0%2C272.17894736842106)%22%3E%E2%88%9210k%3C%2Ftext%3E%3C%2Fg%3E%3Cg%20class%3D%22y2tick%22%3E%3Ctext%20text-anchor%3D%22end%22%20x%3D%2279%22%20y%3D%224.199999999999999%22%20style%3D%22font-family%3A%20%26quot%3BOpen%20Sans%26quot%3B%2C%20verdana%2C%20arial%2C%20sans-serif%3B%20font-size%3A%2012px%3B%20fill%3A%20rgb(0%2C%200%2C%200)%3B%20fill-opacity%3A%200.65%3B%20white-space%3A%20pre%3B%22%20data-unformatted%3D%22%E2%88%925k%22%20data-math%3D%22N%22%20transform%3D%22translate(0%2C224.59894736842108)%22%3E%E2%88%925k%3C%2Ftext%3E%3C%2Fg%3E%3Cg%20class%3D%22y2tick%22%3E%3Ctext%20text-anchor%3D%22end%22%20x%3D%2279%22%20y%3D%224.199999999999999%22%20style%3D%22font-family%3A%20%26quot%3BOpen%20Sans%26quot%3B%2C%20verdana%2C%20arial%2C%20sans-serif%3B%20font-size%3A%2012px%3B%20fill%3A%20rgb(0%2C%200%2C%200)%3B%20fill-opacity%3A%200.65%3B%20white-space%3A%20pre%3B%22%20data-unformatted%3D%220%22%20data-math%3D%22N%22%20transform%3D%22translate(0%2C177.01894736842107)%22%3E0%3C%2Ftext%3E%3C%2Fg%3E%3C%2Fg%3E%3Cg%20class%3D%22overaxes-above%22%2F%3E%3C%2Fg%3E%3C%2Fg%3E%3Cg%20class%3D%22polarlayer%22%2F%3E%3Cg%20class%3D%22ternarylayer%22%2F%3E%3Cg%20class%3D%22geolayer%22%2F%3E%3Cg%20class%3D%22funnelarealayer%22%2F%3E%3Cg%20class%3D%22pielayer%22%2F%3E%3Cg%20class%3D%22treemaplayer%22%2F%3E%3Cg%20class%3D%22sunburstlayer%22%2F%3E%3Cg%20class%3D%22glimages%22%2F%3E%3Cdefs%20id%3D%22topdefs-ce921f%22%3E%3Cg%20class%3D%22clips%22%2F%3E%3CclipPath%20id%3D%22legendce921f%22%3E%3Crect%20width%3D%22125%22%20height%3D%2287%22%20x%3D%220%22%20y%3D%220%22%2F%3E%3C%2FclipPath%3E%3C%2Fdefs%3E%3Cg%20class%3D%22indicatorlayer%22%2F%3E%3Cg%20class%3D%22layer-above%22%3E%3Cg%20class%3D%22imagelayer%22%2F%3E%3Cg%20class%3D%22shapelayer%22%2F%3E%3C%2Fg%3E%3Cg%20class%3D%22infolayer%22%3E%3Cg%20class%3D%22legend%22%20pointer-events%3D%22all%22%20transform%3D%22translate(1182.6200000000001%2C%2030)%22%3E%3Crect%20class%3D%22bg%22%20shape-rendering%3D%22crispEdges%22%20style%3D%22stroke%3A%20rgb(68%2C%2068%2C%2068)%3B%20stroke-opacity%3A%201%3B%20fill%3A%20rgb(255%2C%20255%2C%20255)%3B%20fill-opacity%3A%201%3B%20stroke-width%3A%200px%3B%22%20width%3D%22125%22%20height%3D%2287%22%20x%3D%220%22%20y%3D%220%22%2F%3E%3Cg%20class%3D%22scrollbox%22%20transform%3D%22translate(0%2C%200)%22%20clip-path%3D%22url('%23legendce921f')%22%3E%3Cg%20class%3D%22groups%22%20transform%3D%22translate(0%2C%200)%22%3E%3Cg%20class%3D%22traces%22%20style%3D%22opacity%3A%201%3B%22%20transform%3D%22translate(0%2C%2014.5)%22%3E%3Ctext%20class%3D%22legendtext%20user-select-none%22%20text-anchor%3D%22start%22%20style%3D%22font-family%3A%20%26quot%3BOpen%20Sans%26quot%3B%2C%20verdana%2C%20arial%2C%20sans-serif%3B%20font-size%3A%2012px%3B%20fill%3A%20rgb(0%2C%200%2C%200)%3B%20fill-opacity%3A%200.65%3B%20white-space%3A%20pre%3B%22%20x%3D%2240%22%20y%3D%224.680000000000001%22%20data-unformatted%3D%22Equity%22%20data-math%3D%22N%22%3EEquity%3C%2Ftext%3E%3Cg%20class%3D%22layers%22%20style%3D%22opacity%3A%201%3B%22%3E%3Cg%20class%3D%22legendfill%22%2F%3E%3Cg%20class%3D%22legendlines%22%2F%3E%3Cg%20class%3D%22legendsymbols%22%3E%3Cg%20class%3D%22legendpoints%22%3E%3Cpath%20class%3D%22legendundefined%22%20d%3D%22M6%2C6H-6V-6H6Z%22%20transform%3D%22translate(20%2C0)%22%20style%3D%22stroke-width%3A%200px%3B%20fill%3A%20rgb(78%2C%20121%2C%20167)%3B%20fill-opacity%3A%201%3B%22%2F%3E%3C%2Fg%3E%3C%2Fg%3E%3C%2Fg%3E%3Crect%20class%3D%22legendtoggle%22%20style%3D%22cursor%3A%20pointer%3B%20fill%3A%20rgb(0%2C%200%2C%200)%3B%20fill-opacity%3A%200%3B%22%20pointer-events%3D%22all%22%20x%3D%220%22%20y%3D%22-9.5%22%20width%3D%22120%22%20height%3D%2219%22%2F%3E%3C%2Fg%3E%3C%2Fg%3E%3Cg%20class%3D%22groups%22%20transform%3D%22translate(0%2C%2010)%22%3E%3Cg%20class%3D%22traces%22%20style%3D%22opacity%3A%201%3B%22%20transform%3D%22translate(0%2C%2033.5)%22%3E%3Ctext%20class%3D%22legendtext%20user-select-none%22%20text-anchor%3D%22start%22%20style%3D%22font-family%3A%20%26quot%3BOpen%20Sans%26quot%3B%2C%20verdana%2C%20arial%2C%20sans-serif%3B%20font-size%3A%2012px%3B%20fill%3A%20rgb(0%2C%200%2C%200)%3B%20fill-opacity%3A%200.65%3B%20white-space%3A%20pre%3B%22%20x%3D%2240%22%20y%3D%224.680000000000001%22%20data-unformatted%3D%22Forex%22%20data-math%3D%22N%22%3EForex%3C%2Ftext%3E%3Cg%20class%3D%22layers%22%20style%3D%22opacity%3A%201%3B%22%3E%3Cg%20class%3D%22legendfill%22%2F%3E%3Cg%20class%3D%22legendlines%22%2F%3E%3Cg%20class%3D%22legendsymbols%22%3E%3Cg%20class%3D%22legendpoints%22%3E%3Cpath%20class%3D%22legendundefined%22%20d%3D%22M6%2C6H-6V-6H6Z%22%20transform%3D%22translate(20%2C0)%22%20style%3D%22stroke-width%3A%200px%3B%20fill%3A%20rgb(242%2C%20142%2C%2044)%3B%20fill-opacity%3A%201%3B%22%2F%3E%3C%2Fg%3E%3C%2Fg%3E%3C%2Fg%3E%3Crect%20class%3D%22legendtoggle%22%20style%3D%22cursor%3A%20pointer%3B%20fill%3A%20rgb(0%2C%200%2C%200)%3B%20fill-opacity%3A%200%3B%22%20pointer-events%3D%22all%22%20x%3D%220%22%20y%3D%22-9.5%22%20width%3D%22120%22%20height%3D%2219%22%2F%3E%3C%2Fg%3E%3C%2Fg%3E%3Cg%20class%3D%22groups%22%20transform%3D%22translate(0%2C%2020)%22%3E%3Cg%20class%3D%22traces%22%20style%3D%22opacity%3A%201%3B%22%20transform%3D%22translate(0%2C%2052.5)%22%3E%3Ctext%20class%3D%22legendtext%20user-select-none%22%20text-anchor%3D%22start%22%20style%3D%22font-family%3A%20%26quot%3BOpen%20Sans%26quot%3B%2C%20verdana%2C%20arial%2C%20sans-serif%3B%20font-size%3A%2012px%3B%20fill%3A%20rgb(0%2C%200%2C%200)%3B%20fill-opacity%3A%200.65%3B%20white-space%3A%20pre%3B%22%20x%3D%2240%22%20y%3D%224.680000000000001%22%20data-unformatted%3D%22Rates%20%26amp%3B%20Credit%22%20data-math%3D%22N%22%3ERates%20%26amp%3B%20Credit%3C%2Ftext%3E%3Cg%20class%3D%22layers%22%20style%3D%22opacity%3A%201%3B%22%3E%3Cg%20class%3D%22legendfill%22%2F%3E%3Cg%20class%3D%22legendlines%22%2F%3E%3Cg%20class%3D%22legendsymbols%22%3E%3Cg%20class%3D%22legendpoints%22%3E%3Cpath%20class%3D%22legendundefined%22%20d%3D%22M6%2C6H-6V-6H6Z%22%20transform%3D%22translate(20%2C0)%22%20style%3D%22stroke-width%3A%200px%3B%20fill%3A%20rgb(225%2C%2087%2C%2089)%3B%20fill-opacity%3A%201%3B%22%2F%3E%3C%2Fg%3E%3C%2Fg%3E%3C%2Fg%3E%3Crect%20class%3D%22legendtoggle%22%20style%3D%22cursor%3A%20pointer%3B%20fill%3A%20rgb(0%2C%200%2C%200)%3B%20fill-opacity%3A%200%3B%22%20pointer-events%3D%22all%22%20x%3D%220%22%20y%3D%22-9.5%22%20width%3D%22120%22%20height%3D%2219%22%2F%3E%3C%2Fg%3E%3C%2Fg%3E%3C%2Fg%3E%3Crect%20class%3D%22scrollbar%22%20rx%3D%2220%22%20ry%3D%223%22%20width%3D%220%22%20height%3D%220%22%20style%3D%22fill%3A%20rgb(128%2C%20139%2C%20164)%3B%20fill-opacity%3A%201%3B%22%20x%3D%220%22%20y%3D%220%22%2F%3E%3C%2Fg%3E%3Cg%20class%3D%22g-gtitle%22%2F%3E%3Cg%20class%3D%22g-xtitle%22%2F%3E%3Cg%20class%3D%22g-ytitle%22%3E%3Ctext%20class%3D%22ytitle%22%20transform%3D%22rotate(-90%2C42%2C89.21052631578948)%22%20style%3D%22font-family%3A%20%26quot%3BOpen%20Sans%26quot%3B%2C%20verdana%2C%20arial%2C%20sans-serif%3B%20font-size%3A%2014px%3B%20fill%3A%20rgb(0%2C%200%2C%200)%3B%20opacity%3A%200.65%3B%20font-weight%3A%20normal%3B%20white-space%3A%20pre%3B%22%20x%3D%2242%22%20y%3D%2289.21052631578948%22%20text-anchor%3D%22middle%22%20data-unformatted%3D%22Last%20Curve%22%20data-math%3D%22N%22%3ELast%20Curve%3C%2Ftext%3E%3C%2Fg%3E%3Cg%20class%3D%22g-y2title%22%3E%3Ctext%20class%3D%22y2title%22%20transform%3D%22rotate(-90%2C42%2C220.78947368421055)%22%20style%3D%22font-family%3A%20%26quot%3BOpen%20Sans%26quot%3B%2C%20verdana%2C%20arial%2C%20sans-serif%3B%20font-size%3A%2014px%3B%20fill%3A%20rgb(0%2C%200%2C%200)%3B%20opacity%3A%200.65%3B%20font-weight%3A%20normal%3B%20white-space%3A%20pre%3B%22%20x%3D%2242%22%20y%3D%22220.78947368421055%22%20text-anchor%3D%22middle%22%20data-unformatted%3D%22Curve%20Inversion%22%20data-math%3D%22N%22%3ECurve%20Inversion%3C%2Ftext%3E%3C%2Fg%3E%3C%2Fg%3E%3Cg%20class%3D%22menulayer%22%2F%3E%3Cg%20class%3D%22zoomlayer%22%2F%3E%3Cg%20class%3D%22hoverlayer%22%2F%3E%3C%2Fsvg%3E\">"
      ],
      "text/plain": [
       "Open the notebook in JupyterLab with the atoti extension installed and enabled to see this widget."
      ]
     },
     "metadata": {},
     "output_type": "display_data"
    }
   ],
   "source": [
    "position_sensitivity_cube.visualize(\"Theoretical PnL against Tenor\")"
   ]
  },
  {
   "cell_type": "markdown",
   "metadata": {},
   "source": [
    "#### Curve Inversion Stress Simulation  \n",
    "  \n",
    "We will create a new scenario where we stress the curve further by assuming further drops in rates for the longer-term instruments.  "
   ]
  },
  {
   "cell_type": "code",
   "execution_count": 43,
   "metadata": {},
   "outputs": [],
   "source": [
    "curve_inversion_stress = curve_simulation.scenarios[\"Curve Inversion Stress\"]"
   ]
  },
  {
   "cell_type": "code",
   "execution_count": 44,
   "metadata": {},
   "outputs": [],
   "source": [
    "curve_inversion_stress += (\"5Y\", \"EUR\", -0.002)\n",
    "curve_inversion_stress += (\"6Y\", \"EUR\", -0.002)\n",
    "curve_inversion_stress += (\"7Y\", \"EUR\", -0.004)\n",
    "curve_inversion_stress += (\"8Y\", \"EUR\", -0.004)\n",
    "curve_inversion_stress += (\"9Y\", \"EUR\", -0.004)"
   ]
  },
  {
   "cell_type": "code",
   "execution_count": 45,
   "metadata": {},
   "outputs": [
    {
     "data": {
      "text/html": [
       "<div>\n",
       "<style scoped>\n",
       "    .dataframe tbody tr th:only-of-type {\n",
       "        vertical-align: middle;\n",
       "    }\n",
       "\n",
       "    .dataframe tbody tr th {\n",
       "        vertical-align: top;\n",
       "    }\n",
       "\n",
       "    .dataframe thead th {\n",
       "        text-align: right;\n",
       "    }\n",
       "</style>\n",
       "<table border=\"1\" class=\"dataframe\">\n",
       "  <thead>\n",
       "    <tr style=\"text-align: right;\">\n",
       "      <th></th>\n",
       "      <th></th>\n",
       "      <th>Curve Simulation_last.VALUE_add</th>\n",
       "      <th>Priority</th>\n",
       "    </tr>\n",
       "    <tr>\n",
       "      <th>tenor</th>\n",
       "      <th>currency</th>\n",
       "      <th></th>\n",
       "      <th></th>\n",
       "    </tr>\n",
       "  </thead>\n",
       "  <tbody>\n",
       "    <tr>\n",
       "      <th>5Y</th>\n",
       "      <th>EUR</th>\n",
       "      <td>-0.002</td>\n",
       "      <td>0.0</td>\n",
       "    </tr>\n",
       "    <tr>\n",
       "      <th>6Y</th>\n",
       "      <th>EUR</th>\n",
       "      <td>-0.002</td>\n",
       "      <td>0.0</td>\n",
       "    </tr>\n",
       "    <tr>\n",
       "      <th>7Y</th>\n",
       "      <th>EUR</th>\n",
       "      <td>-0.004</td>\n",
       "      <td>0.0</td>\n",
       "    </tr>\n",
       "    <tr>\n",
       "      <th>8Y</th>\n",
       "      <th>EUR</th>\n",
       "      <td>-0.004</td>\n",
       "      <td>0.0</td>\n",
       "    </tr>\n",
       "    <tr>\n",
       "      <th>9Y</th>\n",
       "      <th>EUR</th>\n",
       "      <td>-0.004</td>\n",
       "      <td>0.0</td>\n",
       "    </tr>\n",
       "  </tbody>\n",
       "</table>\n",
       "</div>"
      ],
      "text/plain": [
       "                Curve Simulation_last.VALUE_add  Priority\n",
       "tenor currency                                           \n",
       "5Y    EUR                                -0.002       0.0\n",
       "6Y    EUR                                -0.002       0.0\n",
       "7Y    EUR                                -0.004       0.0\n",
       "8Y    EUR                                -0.004       0.0\n",
       "9Y    EUR                                -0.004       0.0"
      ]
     },
     "execution_count": 45,
     "metadata": {},
     "output_type": "execute_result"
    }
   ],
   "source": [
    "curve_inversion_stress.head(5)"
   ]
  },
  {
   "cell_type": "markdown",
   "metadata": {},
   "source": [
    "##### Explore Curve Inversion Stress scenario impact on Theoretical PnL  \n",
    "  \n",
    "We see the curve is starting to slope more downward."
   ]
  },
  {
   "cell_type": "code",
   "execution_count": 46,
   "metadata": {
    "activeviam": {
     "state": {
      "name": "Yield Curve Inversion Stress",
      "type": "container",
      "value": {
       "body": {
        "configuration": {
         "mapping": {
          "splitBy": [],
          "values": [
           "[Measures].[start_of_day.VALUE]",
           "[Measures].[last.VALUE]"
          ],
          "xAxis": [
           "[Hierarchies].[tenor].[tenor]"
          ]
         },
         "type": "plotly-line-chart"
        },
        "query": {
         "mdx": "SELECT NON EMPTY [Hierarchies].[tenor].[tenor].Members ON ROWS, NON EMPTY {[Measures].[start_of_day.VALUE], [Measures].[last.VALUE]} ON COLUMNS FROM [Position_Sensitivities] WHERE ([Hierarchies].[currency].[ALL].[AllMember].[EUR], [Measure Simulations].[Curve Simulation].[Curve Simulation].[Curve Inversion Stress]) CELL PROPERTIES VALUE, FORMATTED_VALUE, BACK_COLOR, FORE_COLOR, FONT_FLAGS",
         "serverUrl": "",
         "updateMode": "once"
        }
       },
       "containerKey": "chart",
       "showTitleBar": false,
       "style": {}
      }
     }
    },
    "atoti": {
     "height": 419,
     "state": {
      "name": "Yield Curve Inversion Stress",
      "type": "container",
      "value": {
       "body": {
        "configuration": {
         "mapping": {
          "horizontal": [],
          "splitBy": [],
          "values": [
           "[Measures].[start_of_day.VALUE]",
           "[Measures].[last.VALUE]"
          ],
          "vertical": [],
          "verticalSubplots": [
           "[Measure Simulations].[Curve Simulation].[Curve Simulation]"
          ],
          "xAxis": [
           "[Hierarchies].[tenor].[tenor]"
          ]
         },
         "subplotModeEnabled": true,
         "type": "plotly-line-chart"
        },
        "query": {
         "contextValues": {},
         "mdx": "SELECT NON EMPTY {[Measures].[start_of_day.VALUE], [Measures].[last.VALUE]} ON COLUMNS, NON EMPTY Crossjoin([Hierarchies].[tenor].[tenor].Members, [Measure Simulations].[Curve Simulation].[Curve Simulation].Members) ON ROWS FROM (SELECT {[Measure Simulations].[Curve Simulation].[Curve Simulation].[Curve Inversion Stress], [Measure Simulations].[Curve Simulation].[Curve Simulation].[Last Curve]} ON COLUMNS FROM [Position_Sensitivities]) WHERE [Hierarchies].[currency].[ALL].[AllMember].[EUR] CELL PROPERTIES VALUE, FORMATTED_VALUE, BACK_COLOR, FORE_COLOR, FONT_FLAGS",
         "serverUrl": ""
        }
       },
       "containerKey": "chart",
       "showTitleBar": false,
       "style": {}
      }
     }
    }
   },
   "outputs": [
    {
     "data": {
      "application/vnd.atoti.v0+json": {
       "cube": "Position_Sensitivities",
       "error": null,
       "name": "Yield Curve Inversion Stress",
       "session": "Unnamed"
      },
      "text/html": [
       "<img src=\"data:image/svg+xml;charset=utf8,%3C%3Fxml%20version%3D%221.0%22%20standalone%3D%22no%22%3F%3E%3Csvg%20xmlns%3D%22http%3A%2F%2Fwww.w3.org%2F2000%2Fsvg%22%20xmlns%3Axlink%3D%22http%3A%2F%2Fwww.w3.org%2F1999%2Fxlink%22%20viewBox%3D%220%200%201308%20419%22%3E%3Cdefs%20id%3D%22defs-68f51b%22%3E%3Cg%20class%3D%22clips%22%3E%3CclipPath%20id%3D%22clip68f51bxyplot%22%20class%3D%22plotclip%22%3E%3Crect%20width%3D%221053%22%20height%3D%22146.3684210526316%22%2F%3E%3C%2FclipPath%3E%3CclipPath%20id%3D%22clip68f51bxy2plot%22%20class%3D%22plotclip%22%3E%3Crect%20width%3D%221053%22%20height%3D%22146.36842105263156%22%2F%3E%3C%2FclipPath%3E%3CclipPath%20class%3D%22axesclip%22%20id%3D%22clip68f51bx%22%3E%3Crect%20x%3D%2280%22%20y%3D%220%22%20width%3D%221053%22%20height%3D%22419%22%2F%3E%3C%2FclipPath%3E%3CclipPath%20class%3D%22axesclip%22%20id%3D%22clip68f51by%22%3E%3Crect%20x%3D%220%22%20y%3D%2230%22%20width%3D%221308%22%20height%3D%22146.3684210526316%22%2F%3E%3C%2FclipPath%3E%3CclipPath%20class%3D%22axesclip%22%20id%3D%22clip68f51bxy%22%3E%3Crect%20x%3D%2280%22%20y%3D%2230%22%20width%3D%221053%22%20height%3D%22146.3684210526316%22%2F%3E%3C%2FclipPath%3E%3CclipPath%20class%3D%22axesclip%22%20id%3D%22clip68f51by2%22%3E%3Crect%20x%3D%220%22%20y%3D%22192.63157894736844%22%20width%3D%221308%22%20height%3D%22146.36842105263156%22%2F%3E%3C%2FclipPath%3E%3CclipPath%20class%3D%22axesclip%22%20id%3D%22clip68f51bxy2%22%3E%3Crect%20x%3D%2280%22%20y%3D%22192.63157894736844%22%20width%3D%221053%22%20height%3D%22146.36842105263156%22%2F%3E%3C%2FclipPath%3E%3C%2Fg%3E%3Cg%20class%3D%22gradients%22%2F%3E%3C%2Fdefs%3E%3Cg%20class%3D%22bglayer%22%2F%3E%3Cg%20class%3D%22draglayer%20cursor-crosshair%22%3E%3Cg%20class%3D%22xy%22%3E%3Crect%20class%3D%22nsewdrag%20drag%22%20style%3D%22fill%3A%20transparent%3B%20stroke-width%3A%200px%3B%20pointer-events%3A%20all%3B%22%20data-subplot%3D%22xy%22%20x%3D%2280%22%20y%3D%2230%22%20width%3D%221053%22%20height%3D%22146.3684210526316%22%2F%3E%3Crect%20class%3D%22nwdrag%20drag%20cursor-nw-resize%22%20style%3D%22fill%3A%20transparent%3B%20stroke-width%3A%200px%3B%20pointer-events%3A%20all%3B%22%20data-subplot%3D%22xy%22%20x%3D%2260%22%20y%3D%2210%22%20width%3D%2220%22%20height%3D%2220%22%2F%3E%3Crect%20class%3D%22nedrag%20drag%20cursor-ne-resize%22%20style%3D%22fill%3A%20transparent%3B%20stroke-width%3A%200px%3B%20pointer-events%3A%20all%3B%22%20data-subplot%3D%22xy%22%20x%3D%221133%22%20y%3D%2210%22%20width%3D%2220%22%20height%3D%2220%22%2F%3E%3Crect%20class%3D%22swdrag%20drag%20cursor-sw-resize%22%20style%3D%22fill%3A%20transparent%3B%20stroke-width%3A%200px%3B%20pointer-events%3A%20all%3B%22%20data-subplot%3D%22xy%22%20x%3D%2260%22%20y%3D%22176.3684210526316%22%20width%3D%2220%22%20height%3D%2220%22%2F%3E%3Crect%20class%3D%22sedrag%20drag%20cursor-se-resize%22%20style%3D%22fill%3A%20transparent%3B%20stroke-width%3A%200px%3B%20pointer-events%3A%20all%3B%22%20data-subplot%3D%22xy%22%20x%3D%221133%22%20y%3D%22176.3684210526316%22%20width%3D%2220%22%20height%3D%2220%22%2F%3E%3Crect%20class%3D%22nsdrag%20drag%20cursor-ns-resize%22%20style%3D%22fill%3A%20transparent%3B%20stroke-width%3A%200px%3B%20pointer-events%3A%20all%3B%22%20data-subplot%3D%22xy%22%20x%3D%2259.5%22%20y%3D%2244.636842105263156%22%20width%3D%2220%22%20height%3D%22117.09473684210528%22%2F%3E%3Crect%20class%3D%22sdrag%20drag%20cursor-s-resize%22%20style%3D%22fill%3A%20transparent%3B%20stroke-width%3A%200px%3B%20pointer-events%3A%20all%3B%22%20data-subplot%3D%22xy%22%20x%3D%2259.5%22%20y%3D%22161.73157894736843%22%20width%3D%2220%22%20height%3D%2214.63684210526316%22%2F%3E%3Crect%20class%3D%22ndrag%20drag%20cursor-n-resize%22%20style%3D%22fill%3A%20transparent%3B%20stroke-width%3A%200px%3B%20pointer-events%3A%20all%3B%22%20data-subplot%3D%22xy%22%20x%3D%2259.5%22%20y%3D%2230%22%20width%3D%2220%22%20height%3D%2214.63684210526316%22%2F%3E%3C%2Fg%3E%3Cg%20class%3D%22xy2%22%3E%3Crect%20class%3D%22nsewdrag%20drag%22%20style%3D%22fill%3A%20transparent%3B%20stroke-width%3A%200px%3B%20pointer-events%3A%20all%3B%22%20data-subplot%3D%22xy2%22%20x%3D%2280%22%20y%3D%22192.63157894736844%22%20width%3D%221053%22%20height%3D%22146.36842105263156%22%2F%3E%3Crect%20class%3D%22nwdrag%20drag%20cursor-nw-resize%22%20style%3D%22fill%3A%20transparent%3B%20stroke-width%3A%200px%3B%20pointer-events%3A%20all%3B%22%20data-subplot%3D%22xy2%22%20x%3D%2260%22%20y%3D%22172.63157894736844%22%20width%3D%2220%22%20height%3D%2220%22%2F%3E%3Crect%20class%3D%22nedrag%20drag%20cursor-ne-resize%22%20style%3D%22fill%3A%20transparent%3B%20stroke-width%3A%200px%3B%20pointer-events%3A%20all%3B%22%20data-subplot%3D%22xy2%22%20x%3D%221133%22%20y%3D%22172.63157894736844%22%20width%3D%2220%22%20height%3D%2220%22%2F%3E%3Crect%20class%3D%22swdrag%20drag%20cursor-sw-resize%22%20style%3D%22fill%3A%20transparent%3B%20stroke-width%3A%200px%3B%20pointer-events%3A%20all%3B%22%20data-subplot%3D%22xy2%22%20x%3D%2260%22%20y%3D%22339%22%20width%3D%2220%22%20height%3D%2220%22%2F%3E%3Crect%20class%3D%22sedrag%20drag%20cursor-se-resize%22%20style%3D%22fill%3A%20transparent%3B%20stroke-width%3A%200px%3B%20pointer-events%3A%20all%3B%22%20data-subplot%3D%22xy2%22%20x%3D%221133%22%20y%3D%22339%22%20width%3D%2220%22%20height%3D%2220%22%2F%3E%3Crect%20class%3D%22ewdrag%20drag%20cursor-ew-resize%22%20style%3D%22fill%3A%20transparent%3B%20stroke-width%3A%200px%3B%20pointer-events%3A%20all%3B%22%20data-subplot%3D%22xy2%22%20x%3D%22185.3%22%20y%3D%22339.5%22%20width%3D%22842.4000000000001%22%20height%3D%2220%22%2F%3E%3Crect%20class%3D%22wdrag%20drag%20cursor-w-resize%22%20style%3D%22fill%3A%20transparent%3B%20stroke-width%3A%200px%3B%20pointer-events%3A%20all%3B%22%20data-subplot%3D%22xy2%22%20x%3D%2280%22%20y%3D%22339.5%22%20width%3D%22105.30000000000001%22%20height%3D%2220%22%2F%3E%3Crect%20class%3D%22edrag%20drag%20cursor-e-resize%22%20style%3D%22fill%3A%20transparent%3B%20stroke-width%3A%200px%3B%20pointer-events%3A%20all%3B%22%20data-subplot%3D%22xy2%22%20x%3D%221027.7%22%20y%3D%22339.5%22%20width%3D%22105.30000000000001%22%20height%3D%2220%22%2F%3E%3Crect%20class%3D%22nsdrag%20drag%20cursor-ns-resize%22%20style%3D%22fill%3A%20transparent%3B%20stroke-width%3A%200px%3B%20pointer-events%3A%20all%3B%22%20data-subplot%3D%22xy2%22%20x%3D%2259.5%22%20y%3D%22207.2684210526316%22%20width%3D%2220%22%20height%3D%22117.09473684210525%22%2F%3E%3Crect%20class%3D%22sdrag%20drag%20cursor-s-resize%22%20style%3D%22fill%3A%20transparent%3B%20stroke-width%3A%200px%3B%20pointer-events%3A%20all%3B%22%20data-subplot%3D%22xy2%22%20x%3D%2259.5%22%20y%3D%22324.36315789473684%22%20width%3D%2220%22%20height%3D%2214.636842105263156%22%2F%3E%3Crect%20class%3D%22ndrag%20drag%20cursor-n-resize%22%20style%3D%22fill%3A%20transparent%3B%20stroke-width%3A%200px%3B%20pointer-events%3A%20all%3B%22%20data-subplot%3D%22xy2%22%20x%3D%2259.5%22%20y%3D%22192.63157894736844%22%20width%3D%2220%22%20height%3D%2214.636842105263156%22%2F%3E%3C%2Fg%3E%3C%2Fg%3E%3Cg%20class%3D%22layer-below%22%3E%3Cg%20class%3D%22imagelayer%22%2F%3E%3Cg%20class%3D%22shapelayer%22%2F%3E%3C%2Fg%3E%3Cg%20class%3D%22cartesianlayer%22%3E%3Cg%20class%3D%22subplot%20xy%22%3E%3Cg%20class%3D%22layer-subplot%22%3E%3Cg%20class%3D%22shapelayer%22%2F%3E%3Cg%20class%3D%22imagelayer%22%2F%3E%3C%2Fg%3E%3Cg%20class%3D%22gridlayer%22%3E%3Cg%20class%3D%22x%22%3E%3Cpath%20class%3D%22xgrid%20crisp%22%20transform%3D%22translate(136.4%2C0)%22%20d%3D%22M0%2C30v146.3684210526316%22%20style%3D%22stroke%3A%20rgb(0%2C%200%2C%200)%3B%20stroke-opacity%3A%200.1625%3B%20stroke-width%3A%201px%3B%22%2F%3E%3Cpath%20class%3D%22xgrid%20crisp%22%20transform%3D%22translate(253.92%2C0)%22%20d%3D%22M0%2C30v146.3684210526316%22%20style%3D%22stroke%3A%20rgb(0%2C%200%2C%200)%3B%20stroke-opacity%3A%200.1625%3B%20stroke-width%3A%201px%3B%22%2F%3E%3Cpath%20class%3D%22xgrid%20crisp%22%20transform%3D%22translate(371.45%2C0)%22%20d%3D%22M0%2C30v146.3684210526316%22%20style%3D%22stroke%3A%20rgb(0%2C%200%2C%200)%3B%20stroke-opacity%3A%200.1625%3B%20stroke-width%3A%201px%3B%22%2F%3E%3Cpath%20class%3D%22xgrid%20crisp%22%20transform%3D%22translate(488.97%2C0)%22%20d%3D%22M0%2C30v146.3684210526316%22%20style%3D%22stroke%3A%20rgb(0%2C%200%2C%200)%3B%20stroke-opacity%3A%200.1625%3B%20stroke-width%3A%201px%3B%22%2F%3E%3Cpath%20class%3D%22xgrid%20crisp%22%20transform%3D%22translate(606.5%2C0)%22%20d%3D%22M0%2C30v146.3684210526316%22%20style%3D%22stroke%3A%20rgb(0%2C%200%2C%200)%3B%20stroke-opacity%3A%200.1625%3B%20stroke-width%3A%201px%3B%22%2F%3E%3Cpath%20class%3D%22xgrid%20crisp%22%20transform%3D%22translate(724.02%2C0)%22%20d%3D%22M0%2C30v146.3684210526316%22%20style%3D%22stroke%3A%20rgb(0%2C%200%2C%200)%3B%20stroke-opacity%3A%200.1625%3B%20stroke-width%3A%201px%3B%22%2F%3E%3Cpath%20class%3D%22xgrid%20crisp%22%20transform%3D%22translate(841.55%2C0)%22%20d%3D%22M0%2C30v146.3684210526316%22%20style%3D%22stroke%3A%20rgb(0%2C%200%2C%200)%3B%20stroke-opacity%3A%200.1625%3B%20stroke-width%3A%201px%3B%22%2F%3E%3Cpath%20class%3D%22xgrid%20crisp%22%20transform%3D%22translate(959.07%2C0)%22%20d%3D%22M0%2C30v146.3684210526316%22%20style%3D%22stroke%3A%20rgb(0%2C%200%2C%200)%3B%20stroke-opacity%3A%200.1625%3B%20stroke-width%3A%201px%3B%22%2F%3E%3Cpath%20class%3D%22xgrid%20crisp%22%20transform%3D%22translate(1076.6%2C0)%22%20d%3D%22M0%2C30v146.3684210526316%22%20style%3D%22stroke%3A%20rgb(0%2C%200%2C%200)%3B%20stroke-opacity%3A%200.1625%3B%20stroke-width%3A%201px%3B%22%2F%3E%3C%2Fg%3E%3Cg%20class%3D%22y%22%3E%3Cpath%20class%3D%22ygrid%20crisp%22%20transform%3D%22translate(0%2C165.3)%22%20d%3D%22M80%2C0h1053%22%20style%3D%22stroke%3A%20rgb(0%2C%200%2C%200)%3B%20stroke-opacity%3A%200.1625%3B%20stroke-width%3A%201px%3B%22%2F%3E%3Cpath%20class%3D%22ygrid%20crisp%22%20transform%3D%22translate(0%2C103.8)%22%20d%3D%22M80%2C0h1053%22%20style%3D%22stroke%3A%20rgb(0%2C%200%2C%200)%3B%20stroke-opacity%3A%200.1625%3B%20stroke-width%3A%201px%3B%22%2F%3E%3Cpath%20class%3D%22ygrid%20crisp%22%20transform%3D%22translate(0%2C42.3)%22%20d%3D%22M80%2C0h1053%22%20style%3D%22stroke%3A%20rgb(0%2C%200%2C%200)%3B%20stroke-opacity%3A%200.1625%3B%20stroke-width%3A%201px%3B%22%2F%3E%3C%2Fg%3E%3C%2Fg%3E%3Cg%20class%3D%22zerolinelayer%22%2F%3E%3Cpath%20class%3D%22xlines-below%22%2F%3E%3Cpath%20class%3D%22ylines-below%22%2F%3E%3Cg%20class%3D%22overlines-below%22%2F%3E%3Cg%20class%3D%22xaxislayer-below%22%2F%3E%3Cg%20class%3D%22yaxislayer-below%22%2F%3E%3Cg%20class%3D%22overaxes-below%22%2F%3E%3Cg%20class%3D%22plot%22%20transform%3D%22translate(80%2C%2030)%22%20clip-path%3D%22url('%23clip68f51bxyplot')%22%3E%3Cg%20class%3D%22scatterlayer%20mlayer%22%3E%3Cg%20class%3D%22trace%20scatter%20trace030839%22%20style%3D%22stroke-miterlimit%3A%202%3B%20opacity%3A%201%3B%22%3E%3Cg%20class%3D%22fills%22%2F%3E%3Cg%20class%3D%22errorbars%22%2F%3E%3Cg%20class%3D%22lines%22%3E%3Cpath%20class%3D%22js-line%22%20style%3D%22vector-effect%3A%20non-scaling-stroke%3B%20fill%3A%20none%3B%20stroke%3A%20rgb(78%2C%20121%2C%20167)%3B%20stroke-opacity%3A%201%3B%20stroke-width%3A%202px%3B%20opacity%3A%201%3B%22%20d%3D%22M56.4%2C135.3L173.92%2C73.8L291.45%2C61.5L761.55%2C12.3L879.07%2C12.3L996.6%2C12.3%22%2F%3E%3C%2Fg%3E%3Cg%20class%3D%22points%22%3E%3Cpath%20class%3D%22point%22%20transform%3D%22translate(56.4%2C135.3)%22%20style%3D%22opacity%3A%201%3B%20stroke-width%3A%200px%3B%20fill%3A%20rgb(78%2C%20121%2C%20167)%3B%20fill-opacity%3A%201%3B%22%20d%3D%22M3%2C0A3%2C3%200%201%2C1%200%2C-3A3%2C3%200%200%2C1%203%2C0Z%22%2F%3E%3Cpath%20class%3D%22point%22%20transform%3D%22translate(173.92%2C73.8)%22%20style%3D%22opacity%3A%201%3B%20stroke-width%3A%200px%3B%20fill%3A%20rgb(78%2C%20121%2C%20167)%3B%20fill-opacity%3A%201%3B%22%20d%3D%22M3%2C0A3%2C3%200%201%2C1%200%2C-3A3%2C3%200%200%2C1%203%2C0Z%22%2F%3E%3Cpath%20class%3D%22point%22%20transform%3D%22translate(291.45%2C61.5)%22%20style%3D%22opacity%3A%201%3B%20stroke-width%3A%200px%3B%20fill%3A%20rgb(78%2C%20121%2C%20167)%3B%20fill-opacity%3A%201%3B%22%20d%3D%22M3%2C0A3%2C3%200%201%2C1%200%2C-3A3%2C3%200%200%2C1%203%2C0Z%22%2F%3E%3Cpath%20class%3D%22point%22%20transform%3D%22translate(408.97%2C49.2)%22%20style%3D%22opacity%3A%201%3B%20stroke-width%3A%200px%3B%20fill%3A%20rgb(78%2C%20121%2C%20167)%3B%20fill-opacity%3A%201%3B%22%20d%3D%22M3%2C0A3%2C3%200%201%2C1%200%2C-3A3%2C3%200%200%2C1%203%2C0Z%22%2F%3E%3Cpath%20class%3D%22point%22%20transform%3D%22translate(526.5%2C36.9)%22%20style%3D%22opacity%3A%201%3B%20stroke-width%3A%200px%3B%20fill%3A%20rgb(78%2C%20121%2C%20167)%3B%20fill-opacity%3A%201%3B%22%20d%3D%22M3%2C0A3%2C3%200%201%2C1%200%2C-3A3%2C3%200%200%2C1%203%2C0Z%22%2F%3E%3Cpath%20class%3D%22point%22%20transform%3D%22translate(644.02%2C24.6)%22%20style%3D%22opacity%3A%201%3B%20stroke-width%3A%200px%3B%20fill%3A%20rgb(78%2C%20121%2C%20167)%3B%20fill-opacity%3A%201%3B%22%20d%3D%22M3%2C0A3%2C3%200%201%2C1%200%2C-3A3%2C3%200%200%2C1%203%2C0Z%22%2F%3E%3Cpath%20class%3D%22point%22%20transform%3D%22translate(761.55%2C12.3)%22%20style%3D%22opacity%3A%201%3B%20stroke-width%3A%200px%3B%20fill%3A%20rgb(78%2C%20121%2C%20167)%3B%20fill-opacity%3A%201%3B%22%20d%3D%22M3%2C0A3%2C3%200%201%2C1%200%2C-3A3%2C3%200%200%2C1%203%2C0Z%22%2F%3E%3Cpath%20class%3D%22point%22%20transform%3D%22translate(879.07%2C12.3)%22%20style%3D%22opacity%3A%201%3B%20stroke-width%3A%200px%3B%20fill%3A%20rgb(78%2C%20121%2C%20167)%3B%20fill-opacity%3A%201%3B%22%20d%3D%22M3%2C0A3%2C3%200%201%2C1%200%2C-3A3%2C3%200%200%2C1%203%2C0Z%22%2F%3E%3Cpath%20class%3D%22point%22%20transform%3D%22translate(996.6%2C12.3)%22%20style%3D%22opacity%3A%201%3B%20stroke-width%3A%200px%3B%20fill%3A%20rgb(78%2C%20121%2C%20167)%3B%20fill-opacity%3A%201%3B%22%20d%3D%22M3%2C0A3%2C3%200%201%2C1%200%2C-3A3%2C3%200%200%2C1%203%2C0Z%22%2F%3E%3C%2Fg%3E%3Cg%20class%3D%22text%22%2F%3E%3C%2Fg%3E%3Cg%20class%3D%22trace%20scatter%20trace52fe74%22%20style%3D%22stroke-miterlimit%3A%202%3B%20opacity%3A%201%3B%22%3E%3Cg%20class%3D%22fills%22%2F%3E%3Cg%20class%3D%22errorbars%22%2F%3E%3Cg%20class%3D%22lines%22%3E%3Cpath%20class%3D%22js-line%22%20style%3D%22vector-effect%3A%20non-scaling-stroke%3B%20fill%3A%20none%3B%20stroke%3A%20rgb(242%2C%20142%2C%2044)%3B%20stroke-opacity%3A%201%3B%20stroke-width%3A%202px%3B%20opacity%3A%201%3B%22%20d%3D%22M56.4%2C134.07L173.92%2C72.57L291.45%2C60.27L761.55%2C11.07L879.07%2C11.07L996.6%2C11.07%22%2F%3E%3C%2Fg%3E%3Cg%20class%3D%22points%22%3E%3Cpath%20class%3D%22point%22%20transform%3D%22translate(56.4%2C134.07)%22%20style%3D%22opacity%3A%201%3B%20stroke-width%3A%200px%3B%20fill%3A%20rgb(242%2C%20142%2C%2044)%3B%20fill-opacity%3A%201%3B%22%20d%3D%22M3%2C0A3%2C3%200%201%2C1%200%2C-3A3%2C3%200%200%2C1%203%2C0Z%22%2F%3E%3Cpath%20class%3D%22point%22%20transform%3D%22translate(173.92%2C72.57)%22%20style%3D%22opacity%3A%201%3B%20stroke-width%3A%200px%3B%20fill%3A%20rgb(242%2C%20142%2C%2044)%3B%20fill-opacity%3A%201%3B%22%20d%3D%22M3%2C0A3%2C3%200%201%2C1%200%2C-3A3%2C3%200%200%2C1%203%2C0Z%22%2F%3E%3Cpath%20class%3D%22point%22%20transform%3D%22translate(291.45%2C60.27)%22%20style%3D%22opacity%3A%201%3B%20stroke-width%3A%200px%3B%20fill%3A%20rgb(242%2C%20142%2C%2044)%3B%20fill-opacity%3A%201%3B%22%20d%3D%22M3%2C0A3%2C3%200%201%2C1%200%2C-3A3%2C3%200%200%2C1%203%2C0Z%22%2F%3E%3Cpath%20class%3D%22point%22%20transform%3D%22translate(408.97%2C47.97)%22%20style%3D%22opacity%3A%201%3B%20stroke-width%3A%200px%3B%20fill%3A%20rgb(242%2C%20142%2C%2044)%3B%20fill-opacity%3A%201%3B%22%20d%3D%22M3%2C0A3%2C3%200%201%2C1%200%2C-3A3%2C3%200%200%2C1%203%2C0Z%22%2F%3E%3Cpath%20class%3D%22point%22%20transform%3D%22translate(526.5%2C35.67)%22%20style%3D%22opacity%3A%201%3B%20stroke-width%3A%200px%3B%20fill%3A%20rgb(242%2C%20142%2C%2044)%3B%20fill-opacity%3A%201%3B%22%20d%3D%22M3%2C0A3%2C3%200%201%2C1%200%2C-3A3%2C3%200%200%2C1%203%2C0Z%22%2F%3E%3Cpath%20class%3D%22point%22%20transform%3D%22translate(644.02%2C23.37)%22%20style%3D%22opacity%3A%201%3B%20stroke-width%3A%200px%3B%20fill%3A%20rgb(242%2C%20142%2C%2044)%3B%20fill-opacity%3A%201%3B%22%20d%3D%22M3%2C0A3%2C3%200%201%2C1%200%2C-3A3%2C3%200%200%2C1%203%2C0Z%22%2F%3E%3Cpath%20class%3D%22point%22%20transform%3D%22translate(761.55%2C11.07)%22%20style%3D%22opacity%3A%201%3B%20stroke-width%3A%200px%3B%20fill%3A%20rgb(242%2C%20142%2C%2044)%3B%20fill-opacity%3A%201%3B%22%20d%3D%22M3%2C0A3%2C3%200%201%2C1%200%2C-3A3%2C3%200%200%2C1%203%2C0Z%22%2F%3E%3Cpath%20class%3D%22point%22%20transform%3D%22translate(879.07%2C11.07)%22%20style%3D%22opacity%3A%201%3B%20stroke-width%3A%200px%3B%20fill%3A%20rgb(242%2C%20142%2C%2044)%3B%20fill-opacity%3A%201%3B%22%20d%3D%22M3%2C0A3%2C3%200%201%2C1%200%2C-3A3%2C3%200%200%2C1%203%2C0Z%22%2F%3E%3Cpath%20class%3D%22point%22%20transform%3D%22translate(996.6%2C11.07)%22%20style%3D%22opacity%3A%201%3B%20stroke-width%3A%200px%3B%20fill%3A%20rgb(242%2C%20142%2C%2044)%3B%20fill-opacity%3A%201%3B%22%20d%3D%22M3%2C0A3%2C3%200%201%2C1%200%2C-3A3%2C3%200%200%2C1%203%2C0Z%22%2F%3E%3C%2Fg%3E%3Cg%20class%3D%22text%22%2F%3E%3C%2Fg%3E%3C%2Fg%3E%3C%2Fg%3E%3Cg%20class%3D%22overplot%22%2F%3E%3Cpath%20class%3D%22xlines-above%20crisp%22%20style%3D%22fill%3A%20none%3B%22%20d%3D%22M0%2C0%22%2F%3E%3Cpath%20class%3D%22ylines-above%20crisp%22%20style%3D%22fill%3A%20none%3B%20stroke-width%3A%201px%3B%20stroke%3A%20rgb(0%2C%200%2C%200)%3B%20stroke-opacity%3A%200.1625%3B%22%20d%3D%22M79.5%2C30V176.3684210526316%22%2F%3E%3Cg%20class%3D%22overlines-above%22%2F%3E%3Cg%20class%3D%22xaxislayer-above%22%2F%3E%3Cg%20class%3D%22yaxislayer-above%22%3E%3Cg%20class%3D%22ytick%22%3E%3Ctext%20text-anchor%3D%22end%22%20x%3D%2276.6%22%20y%3D%224.199999999999999%22%20style%3D%22font-family%3A%20%26quot%3BOpen%20Sans%26quot%3B%2C%20verdana%2C%20arial%2C%20sans-serif%3B%20font-size%3A%2012px%3B%20fill%3A%20rgb(0%2C%200%2C%200)%3B%20fill-opacity%3A%200.65%3B%20white-space%3A%20pre%3B%22%20data-unformatted%3D%220.01%22%20data-math%3D%22N%22%20transform%3D%22translate(0%2C165.3)%22%3E0.01%3C%2Ftext%3E%3C%2Fg%3E%3Cg%20class%3D%22ytick%22%3E%3Ctext%20text-anchor%3D%22end%22%20x%3D%2276.6%22%20y%3D%224.199999999999999%22%20style%3D%22font-family%3A%20%26quot%3BOpen%20Sans%26quot%3B%2C%20verdana%2C%20arial%2C%20sans-serif%3B%20font-size%3A%2012px%3B%20fill%3A%20rgb(0%2C%200%2C%200)%3B%20fill-opacity%3A%200.65%3B%20white-space%3A%20pre%3B%22%20data-unformatted%3D%220.015%22%20data-math%3D%22N%22%20transform%3D%22translate(0%2C103.8)%22%3E0.015%3C%2Ftext%3E%3C%2Fg%3E%3Cg%20class%3D%22ytick%22%3E%3Ctext%20text-anchor%3D%22end%22%20x%3D%2276.6%22%20y%3D%224.199999999999999%22%20style%3D%22font-family%3A%20%26quot%3BOpen%20Sans%26quot%3B%2C%20verdana%2C%20arial%2C%20sans-serif%3B%20font-size%3A%2012px%3B%20fill%3A%20rgb(0%2C%200%2C%200)%3B%20fill-opacity%3A%200.65%3B%20white-space%3A%20pre%3B%22%20data-unformatted%3D%220.02%22%20data-math%3D%22N%22%20transform%3D%22translate(0%2C42.3)%22%3E0.02%3C%2Ftext%3E%3C%2Fg%3E%3C%2Fg%3E%3Cg%20class%3D%22overaxes-above%22%2F%3E%3C%2Fg%3E%3Cg%20class%3D%22subplot%20xy2%22%3E%3Cg%20class%3D%22layer-subplot%22%3E%3Cg%20class%3D%22shapelayer%22%2F%3E%3Cg%20class%3D%22imagelayer%22%2F%3E%3C%2Fg%3E%3Cg%20class%3D%22gridlayer%22%3E%3Cg%20class%3D%22x%22%3E%3Cpath%20class%3D%22xgrid%20crisp%22%20transform%3D%22translate(136.4%2C0)%22%20d%3D%22M0%2C192.63157894736844v146.36842105263156%22%20style%3D%22stroke%3A%20rgb(0%2C%200%2C%200)%3B%20stroke-opacity%3A%200.1625%3B%20stroke-width%3A%201px%3B%22%2F%3E%3Cpath%20class%3D%22xgrid%20crisp%22%20transform%3D%22translate(253.92%2C0)%22%20d%3D%22M0%2C192.63157894736844v146.36842105263156%22%20style%3D%22stroke%3A%20rgb(0%2C%200%2C%200)%3B%20stroke-opacity%3A%200.1625%3B%20stroke-width%3A%201px%3B%22%2F%3E%3Cpath%20class%3D%22xgrid%20crisp%22%20transform%3D%22translate(371.45%2C0)%22%20d%3D%22M0%2C192.63157894736844v146.36842105263156%22%20style%3D%22stroke%3A%20rgb(0%2C%200%2C%200)%3B%20stroke-opacity%3A%200.1625%3B%20stroke-width%3A%201px%3B%22%2F%3E%3Cpath%20class%3D%22xgrid%20crisp%22%20transform%3D%22translate(488.97%2C0)%22%20d%3D%22M0%2C192.63157894736844v146.36842105263156%22%20style%3D%22stroke%3A%20rgb(0%2C%200%2C%200)%3B%20stroke-opacity%3A%200.1625%3B%20stroke-width%3A%201px%3B%22%2F%3E%3Cpath%20class%3D%22xgrid%20crisp%22%20transform%3D%22translate(606.5%2C0)%22%20d%3D%22M0%2C192.63157894736844v146.36842105263156%22%20style%3D%22stroke%3A%20rgb(0%2C%200%2C%200)%3B%20stroke-opacity%3A%200.1625%3B%20stroke-width%3A%201px%3B%22%2F%3E%3Cpath%20class%3D%22xgrid%20crisp%22%20transform%3D%22translate(724.02%2C0)%22%20d%3D%22M0%2C192.63157894736844v146.36842105263156%22%20style%3D%22stroke%3A%20rgb(0%2C%200%2C%200)%3B%20stroke-opacity%3A%200.1625%3B%20stroke-width%3A%201px%3B%22%2F%3E%3Cpath%20class%3D%22xgrid%20crisp%22%20transform%3D%22translate(841.55%2C0)%22%20d%3D%22M0%2C192.63157894736844v146.36842105263156%22%20style%3D%22stroke%3A%20rgb(0%2C%200%2C%200)%3B%20stroke-opacity%3A%200.1625%3B%20stroke-width%3A%201px%3B%22%2F%3E%3Cpath%20class%3D%22xgrid%20crisp%22%20transform%3D%22translate(959.07%2C0)%22%20d%3D%22M0%2C192.63157894736844v146.36842105263156%22%20style%3D%22stroke%3A%20rgb(0%2C%200%2C%200)%3B%20stroke-opacity%3A%200.1625%3B%20stroke-width%3A%201px%3B%22%2F%3E%3Cpath%20class%3D%22xgrid%20crisp%22%20transform%3D%22translate(1076.6%2C0)%22%20d%3D%22M0%2C192.63157894736844v146.36842105263156%22%20style%3D%22stroke%3A%20rgb(0%2C%200%2C%200)%3B%20stroke-opacity%3A%200.1625%3B%20stroke-width%3A%201px%3B%22%2F%3E%3C%2Fg%3E%3Cg%20class%3D%22y2%22%3E%3Cpath%20class%3D%22y2grid%20crisp%22%20transform%3D%22translate(0%2C327.93157894736845)%22%20d%3D%22M80%2C0h1053%22%20style%3D%22stroke%3A%20rgb(238%2C%20238%2C%20238)%3B%20stroke-opacity%3A%201%3B%20stroke-width%3A%201px%3B%22%2F%3E%3Cpath%20class%3D%22y2grid%20crisp%22%20transform%3D%22translate(0%2C265.81157894736845)%22%20d%3D%22M80%2C0h1053%22%20style%3D%22stroke%3A%20rgb(238%2C%20238%2C%20238)%3B%20stroke-opacity%3A%201%3B%20stroke-width%3A%201px%3B%22%2F%3E%3Cpath%20class%3D%22y2grid%20crisp%22%20transform%3D%22translate(0%2C203.70157894736843)%22%20d%3D%22M80%2C0h1053%22%20style%3D%22stroke%3A%20rgb(238%2C%20238%2C%20238)%3B%20stroke-opacity%3A%201%3B%20stroke-width%3A%201px%3B%22%2F%3E%3C%2Fg%3E%3C%2Fg%3E%3Cg%20class%3D%22zerolinelayer%22%2F%3E%3Cpath%20class%3D%22xlines-below%22%2F%3E%3Cpath%20class%3D%22ylines-below%22%2F%3E%3Cg%20class%3D%22overlines-below%22%2F%3E%3Cg%20class%3D%22xaxislayer-below%22%2F%3E%3Cg%20class%3D%22yaxislayer-below%22%2F%3E%3Cg%20class%3D%22overaxes-below%22%2F%3E%3Cg%20class%3D%22plot%22%20transform%3D%22translate(80%2C%20192.63157894736844)%22%20clip-path%3D%22url('%23clip68f51bxy2plot')%22%3E%3Cg%20class%3D%22scatterlayer%20mlayer%22%3E%3Cg%20class%3D%22trace%20scatter%20trace1f4cbd%22%20style%3D%22stroke-miterlimit%3A%202%3B%20opacity%3A%201%3B%22%3E%3Cg%20class%3D%22fills%22%2F%3E%3Cg%20class%3D%22errorbars%22%2F%3E%3Cg%20class%3D%22lines%22%3E%3Cpath%20class%3D%22js-line%22%20style%3D%22vector-effect%3A%20non-scaling-stroke%3B%20fill%3A%20none%3B%20stroke%3A%20rgb(78%2C%20121%2C%20167)%3B%20stroke-opacity%3A%201%3B%20stroke-width%3A%202px%3B%20opacity%3A%201%3B%22%20d%3D%22M56.4%2C135.3L173.92%2C73.18L291.45%2C60.76L761.55%2C11.07L879.07%2C11.07L996.6%2C11.07%22%2F%3E%3C%2Fg%3E%3Cg%20class%3D%22points%22%3E%3Cpath%20class%3D%22point%22%20transform%3D%22translate(56.4%2C135.3)%22%20style%3D%22opacity%3A%201%3B%20stroke-width%3A%200px%3B%20fill%3A%20rgb(78%2C%20121%2C%20167)%3B%20fill-opacity%3A%201%3B%22%20d%3D%22M3%2C0A3%2C3%200%201%2C1%200%2C-3A3%2C3%200%200%2C1%203%2C0Z%22%2F%3E%3Cpath%20class%3D%22point%22%20transform%3D%22translate(173.92%2C73.18)%22%20style%3D%22opacity%3A%201%3B%20stroke-width%3A%200px%3B%20fill%3A%20rgb(78%2C%20121%2C%20167)%3B%20fill-opacity%3A%201%3B%22%20d%3D%22M3%2C0A3%2C3%200%201%2C1%200%2C-3A3%2C3%200%200%2C1%203%2C0Z%22%2F%3E%3Cpath%20class%3D%22point%22%20transform%3D%22translate(291.45%2C60.76)%22%20style%3D%22opacity%3A%201%3B%20stroke-width%3A%200px%3B%20fill%3A%20rgb(78%2C%20121%2C%20167)%3B%20fill-opacity%3A%201%3B%22%20d%3D%22M3%2C0A3%2C3%200%201%2C1%200%2C-3A3%2C3%200%200%2C1%203%2C0Z%22%2F%3E%3Cpath%20class%3D%22point%22%20transform%3D%22translate(408.97%2C48.34)%22%20style%3D%22opacity%3A%201%3B%20stroke-width%3A%200px%3B%20fill%3A%20rgb(78%2C%20121%2C%20167)%3B%20fill-opacity%3A%201%3B%22%20d%3D%22M3%2C0A3%2C3%200%201%2C1%200%2C-3A3%2C3%200%200%2C1%203%2C0Z%22%2F%3E%3Cpath%20class%3D%22point%22%20transform%3D%22translate(526.5%2C35.91)%22%20style%3D%22opacity%3A%201%3B%20stroke-width%3A%200px%3B%20fill%3A%20rgb(78%2C%20121%2C%20167)%3B%20fill-opacity%3A%201%3B%22%20d%3D%22M3%2C0A3%2C3%200%201%2C1%200%2C-3A3%2C3%200%200%2C1%203%2C0Z%22%2F%3E%3Cpath%20class%3D%22point%22%20transform%3D%22translate(644.02%2C23.49)%22%20style%3D%22opacity%3A%201%3B%20stroke-width%3A%200px%3B%20fill%3A%20rgb(78%2C%20121%2C%20167)%3B%20fill-opacity%3A%201%3B%22%20d%3D%22M3%2C0A3%2C3%200%201%2C1%200%2C-3A3%2C3%200%200%2C1%203%2C0Z%22%2F%3E%3Cpath%20class%3D%22point%22%20transform%3D%22translate(761.55%2C11.07)%22%20style%3D%22opacity%3A%201%3B%20stroke-width%3A%200px%3B%20fill%3A%20rgb(78%2C%20121%2C%20167)%3B%20fill-opacity%3A%201%3B%22%20d%3D%22M3%2C0A3%2C3%200%201%2C1%200%2C-3A3%2C3%200%200%2C1%203%2C0Z%22%2F%3E%3Cpath%20class%3D%22point%22%20transform%3D%22translate(879.07%2C11.07)%22%20style%3D%22opacity%3A%201%3B%20stroke-width%3A%200px%3B%20fill%3A%20rgb(78%2C%20121%2C%20167)%3B%20fill-opacity%3A%201%3B%22%20d%3D%22M3%2C0A3%2C3%200%201%2C1%200%2C-3A3%2C3%200%200%2C1%203%2C0Z%22%2F%3E%3Cpath%20class%3D%22point%22%20transform%3D%22translate(996.6%2C11.07)%22%20style%3D%22opacity%3A%201%3B%20stroke-width%3A%200px%3B%20fill%3A%20rgb(78%2C%20121%2C%20167)%3B%20fill-opacity%3A%201%3B%22%20d%3D%22M3%2C0A3%2C3%200%201%2C1%200%2C-3A3%2C3%200%200%2C1%203%2C0Z%22%2F%3E%3C%2Fg%3E%3Cg%20class%3D%22text%22%2F%3E%3C%2Fg%3E%3Cg%20class%3D%22trace%20scatter%20trace9ed1b5%22%20style%3D%22stroke-miterlimit%3A%202%3B%20opacity%3A%201%3B%22%3E%3Cg%20class%3D%22fills%22%2F%3E%3Cg%20class%3D%22errorbars%22%2F%3E%3Cg%20class%3D%22lines%22%3E%3Cpath%20class%3D%22js-line%22%20style%3D%22vector-effect%3A%20non-scaling-stroke%3B%20fill%3A%20none%3B%20stroke%3A%20rgb(242%2C%20142%2C%2044)%3B%20stroke-opacity%3A%201%3B%20stroke-width%3A%202px%3B%20opacity%3A%201%3B%22%20d%3D%22M56.4%2C134.06L173.92%2C71.94L291.45%2C59.52L408.97%2C47.1L526.5%2C59.52L644.02%2C47.1L761.55%2C59.52L996.6%2C59.52%22%2F%3E%3C%2Fg%3E%3Cg%20class%3D%22points%22%3E%3Cpath%20class%3D%22point%22%20transform%3D%22translate(56.4%2C134.06)%22%20style%3D%22opacity%3A%201%3B%20stroke-width%3A%200px%3B%20fill%3A%20rgb(242%2C%20142%2C%2044)%3B%20fill-opacity%3A%201%3B%22%20d%3D%22M3%2C0A3%2C3%200%201%2C1%200%2C-3A3%2C3%200%200%2C1%203%2C0Z%22%2F%3E%3Cpath%20class%3D%22point%22%20transform%3D%22translate(173.92%2C71.94)%22%20style%3D%22opacity%3A%201%3B%20stroke-width%3A%200px%3B%20fill%3A%20rgb(242%2C%20142%2C%2044)%3B%20fill-opacity%3A%201%3B%22%20d%3D%22M3%2C0A3%2C3%200%201%2C1%200%2C-3A3%2C3%200%200%2C1%203%2C0Z%22%2F%3E%3Cpath%20class%3D%22point%22%20transform%3D%22translate(291.45%2C59.52)%22%20style%3D%22opacity%3A%201%3B%20stroke-width%3A%200px%3B%20fill%3A%20rgb(242%2C%20142%2C%2044)%3B%20fill-opacity%3A%201%3B%22%20d%3D%22M3%2C0A3%2C3%200%201%2C1%200%2C-3A3%2C3%200%200%2C1%203%2C0Z%22%2F%3E%3Cpath%20class%3D%22point%22%20transform%3D%22translate(408.97%2C47.1)%22%20style%3D%22opacity%3A%201%3B%20stroke-width%3A%200px%3B%20fill%3A%20rgb(242%2C%20142%2C%2044)%3B%20fill-opacity%3A%201%3B%22%20d%3D%22M3%2C0A3%2C3%200%201%2C1%200%2C-3A3%2C3%200%200%2C1%203%2C0Z%22%2F%3E%3Cpath%20class%3D%22point%22%20transform%3D%22translate(526.5%2C59.52)%22%20style%3D%22opacity%3A%201%3B%20stroke-width%3A%200px%3B%20fill%3A%20rgb(242%2C%20142%2C%2044)%3B%20fill-opacity%3A%201%3B%22%20d%3D%22M3%2C0A3%2C3%200%201%2C1%200%2C-3A3%2C3%200%200%2C1%203%2C0Z%22%2F%3E%3Cpath%20class%3D%22point%22%20transform%3D%22translate(644.02%2C47.1)%22%20style%3D%22opacity%3A%201%3B%20stroke-width%3A%200px%3B%20fill%3A%20rgb(242%2C%20142%2C%2044)%3B%20fill-opacity%3A%201%3B%22%20d%3D%22M3%2C0A3%2C3%200%201%2C1%200%2C-3A3%2C3%200%200%2C1%203%2C0Z%22%2F%3E%3Cpath%20class%3D%22point%22%20transform%3D%22translate(761.55%2C59.52)%22%20style%3D%22opacity%3A%201%3B%20stroke-width%3A%200px%3B%20fill%3A%20rgb(242%2C%20142%2C%2044)%3B%20fill-opacity%3A%201%3B%22%20d%3D%22M3%2C0A3%2C3%200%201%2C1%200%2C-3A3%2C3%200%200%2C1%203%2C0Z%22%2F%3E%3Cpath%20class%3D%22point%22%20transform%3D%22translate(879.07%2C59.52)%22%20style%3D%22opacity%3A%201%3B%20stroke-width%3A%200px%3B%20fill%3A%20rgb(242%2C%20142%2C%2044)%3B%20fill-opacity%3A%201%3B%22%20d%3D%22M3%2C0A3%2C3%200%201%2C1%200%2C-3A3%2C3%200%200%2C1%203%2C0Z%22%2F%3E%3Cpath%20class%3D%22point%22%20transform%3D%22translate(996.6%2C59.52)%22%20style%3D%22opacity%3A%201%3B%20stroke-width%3A%200px%3B%20fill%3A%20rgb(242%2C%20142%2C%2044)%3B%20fill-opacity%3A%201%3B%22%20d%3D%22M3%2C0A3%2C3%200%201%2C1%200%2C-3A3%2C3%200%200%2C1%203%2C0Z%22%2F%3E%3C%2Fg%3E%3Cg%20class%3D%22text%22%2F%3E%3C%2Fg%3E%3C%2Fg%3E%3C%2Fg%3E%3Cg%20class%3D%22overplot%22%2F%3E%3Cpath%20class%3D%22xlines-above%20crisp%22%20style%3D%22fill%3A%20none%3B%20stroke-width%3A%201px%3B%20stroke%3A%20rgb(0%2C%200%2C%200)%3B%20stroke-opacity%3A%200.1625%3B%22%20d%3D%22M80%2C339.5H1133%22%2F%3E%3Cpath%20class%3D%22ylines-above%20crisp%22%20style%3D%22fill%3A%20none%3B%22%20d%3D%22M0%2C0%22%2F%3E%3Cg%20class%3D%22overlines-above%22%2F%3E%3Cg%20class%3D%22xaxislayer-above%22%3E%3Cg%20class%3D%22xtick%22%3E%3Ctext%20text-anchor%3D%22middle%22%20x%3D%220%22%20y%3D%22354.4%22%20style%3D%22font-family%3A%20%26quot%3BOpen%20Sans%26quot%3B%2C%20verdana%2C%20arial%2C%20sans-serif%3B%20font-size%3A%2012px%3B%20fill%3A%20rgb(0%2C%200%2C%200)%3B%20fill-opacity%3A%200.65%3B%20white-space%3A%20pre%3B%22%20data-unformatted%3D%221Y%22%20data-math%3D%22N%22%20transform%3D%22translate(136.4%2C0)%22%3E1Y%3C%2Ftext%3E%3C%2Fg%3E%3Cg%20class%3D%22xtick%22%3E%3Ctext%20text-anchor%3D%22middle%22%20x%3D%220%22%20y%3D%22354.4%22%20style%3D%22font-family%3A%20%26quot%3BOpen%20Sans%26quot%3B%2C%20verdana%2C%20arial%2C%20sans-serif%3B%20font-size%3A%2012px%3B%20fill%3A%20rgb(0%2C%200%2C%200)%3B%20fill-opacity%3A%200.65%3B%20white-space%3A%20pre%3B%22%20data-unformatted%3D%222Y%22%20data-math%3D%22N%22%20transform%3D%22translate(253.92%2C0)%22%3E2Y%3C%2Ftext%3E%3C%2Fg%3E%3Cg%20class%3D%22xtick%22%3E%3Ctext%20text-anchor%3D%22middle%22%20x%3D%220%22%20y%3D%22354.4%22%20style%3D%22font-family%3A%20%26quot%3BOpen%20Sans%26quot%3B%2C%20verdana%2C%20arial%2C%20sans-serif%3B%20font-size%3A%2012px%3B%20fill%3A%20rgb(0%2C%200%2C%200)%3B%20fill-opacity%3A%200.65%3B%20white-space%3A%20pre%3B%22%20data-unformatted%3D%223Y%22%20data-math%3D%22N%22%20transform%3D%22translate(371.45%2C0)%22%3E3Y%3C%2Ftext%3E%3C%2Fg%3E%3Cg%20class%3D%22xtick%22%3E%3Ctext%20text-anchor%3D%22middle%22%20x%3D%220%22%20y%3D%22354.4%22%20style%3D%22font-family%3A%20%26quot%3BOpen%20Sans%26quot%3B%2C%20verdana%2C%20arial%2C%20sans-serif%3B%20font-size%3A%2012px%3B%20fill%3A%20rgb(0%2C%200%2C%200)%3B%20fill-opacity%3A%200.65%3B%20white-space%3A%20pre%3B%22%20data-unformatted%3D%224Y%22%20data-math%3D%22N%22%20transform%3D%22translate(488.97%2C0)%22%3E4Y%3C%2Ftext%3E%3C%2Fg%3E%3Cg%20class%3D%22xtick%22%3E%3Ctext%20text-anchor%3D%22middle%22%20x%3D%220%22%20y%3D%22354.4%22%20style%3D%22font-family%3A%20%26quot%3BOpen%20Sans%26quot%3B%2C%20verdana%2C%20arial%2C%20sans-serif%3B%20font-size%3A%2012px%3B%20fill%3A%20rgb(0%2C%200%2C%200)%3B%20fill-opacity%3A%200.65%3B%20white-space%3A%20pre%3B%22%20data-unformatted%3D%225Y%22%20data-math%3D%22N%22%20transform%3D%22translate(606.5%2C0)%22%3E5Y%3C%2Ftext%3E%3C%2Fg%3E%3Cg%20class%3D%22xtick%22%3E%3Ctext%20text-anchor%3D%22middle%22%20x%3D%220%22%20y%3D%22354.4%22%20style%3D%22font-family%3A%20%26quot%3BOpen%20Sans%26quot%3B%2C%20verdana%2C%20arial%2C%20sans-serif%3B%20font-size%3A%2012px%3B%20fill%3A%20rgb(0%2C%200%2C%200)%3B%20fill-opacity%3A%200.65%3B%20white-space%3A%20pre%3B%22%20data-unformatted%3D%226Y%22%20data-math%3D%22N%22%20transform%3D%22translate(724.02%2C0)%22%3E6Y%3C%2Ftext%3E%3C%2Fg%3E%3Cg%20class%3D%22xtick%22%3E%3Ctext%20text-anchor%3D%22middle%22%20x%3D%220%22%20y%3D%22354.4%22%20style%3D%22font-family%3A%20%26quot%3BOpen%20Sans%26quot%3B%2C%20verdana%2C%20arial%2C%20sans-serif%3B%20font-size%3A%2012px%3B%20fill%3A%20rgb(0%2C%200%2C%200)%3B%20fill-opacity%3A%200.65%3B%20white-space%3A%20pre%3B%22%20data-unformatted%3D%227Y%22%20data-math%3D%22N%22%20transform%3D%22translate(841.55%2C0)%22%3E7Y%3C%2Ftext%3E%3C%2Fg%3E%3Cg%20class%3D%22xtick%22%3E%3Ctext%20text-anchor%3D%22middle%22%20x%3D%220%22%20y%3D%22354.4%22%20style%3D%22font-family%3A%20%26quot%3BOpen%20Sans%26quot%3B%2C%20verdana%2C%20arial%2C%20sans-serif%3B%20font-size%3A%2012px%3B%20fill%3A%20rgb(0%2C%200%2C%200)%3B%20fill-opacity%3A%200.65%3B%20white-space%3A%20pre%3B%22%20data-unformatted%3D%228Y%22%20data-math%3D%22N%22%20transform%3D%22translate(959.07%2C0)%22%3E8Y%3C%2Ftext%3E%3C%2Fg%3E%3Cg%20class%3D%22xtick%22%3E%3Ctext%20text-anchor%3D%22middle%22%20x%3D%220%22%20y%3D%22354.4%22%20style%3D%22font-family%3A%20%26quot%3BOpen%20Sans%26quot%3B%2C%20verdana%2C%20arial%2C%20sans-serif%3B%20font-size%3A%2012px%3B%20fill%3A%20rgb(0%2C%200%2C%200)%3B%20fill-opacity%3A%200.65%3B%20white-space%3A%20pre%3B%22%20data-unformatted%3D%229Y%22%20data-math%3D%22N%22%20transform%3D%22translate(1076.6%2C0)%22%3E9Y%3C%2Ftext%3E%3C%2Fg%3E%3C%2Fg%3E%3Cg%20class%3D%22yaxislayer-above%22%3E%3Cg%20class%3D%22y2tick%22%3E%3Ctext%20text-anchor%3D%22end%22%20x%3D%2279%22%20y%3D%224.199999999999999%22%20style%3D%22font-family%3A%20%26quot%3BOpen%20Sans%26quot%3B%2C%20verdana%2C%20arial%2C%20sans-serif%3B%20font-size%3A%2012px%3B%20fill%3A%20rgb(0%2C%200%2C%200)%3B%20fill-opacity%3A%200.65%3B%20white-space%3A%20pre%3B%22%20data-unformatted%3D%220.01%22%20data-math%3D%22N%22%20transform%3D%22translate(0%2C327.93157894736845)%22%3E0.01%3C%2Ftext%3E%3C%2Fg%3E%3Cg%20class%3D%22y2tick%22%3E%3Ctext%20text-anchor%3D%22end%22%20x%3D%2279%22%20y%3D%224.199999999999999%22%20style%3D%22font-family%3A%20%26quot%3BOpen%20Sans%26quot%3B%2C%20verdana%2C%20arial%2C%20sans-serif%3B%20font-size%3A%2012px%3B%20fill%3A%20rgb(0%2C%200%2C%200)%3B%20fill-opacity%3A%200.65%3B%20white-space%3A%20pre%3B%22%20data-unformatted%3D%220.015%22%20data-math%3D%22N%22%20transform%3D%22translate(0%2C265.81157894736845)%22%3E0.015%3C%2Ftext%3E%3C%2Fg%3E%3Cg%20class%3D%22y2tick%22%3E%3Ctext%20text-anchor%3D%22end%22%20x%3D%2279%22%20y%3D%224.199999999999999%22%20style%3D%22font-family%3A%20%26quot%3BOpen%20Sans%26quot%3B%2C%20verdana%2C%20arial%2C%20sans-serif%3B%20font-size%3A%2012px%3B%20fill%3A%20rgb(0%2C%200%2C%200)%3B%20fill-opacity%3A%200.65%3B%20white-space%3A%20pre%3B%22%20data-unformatted%3D%220.02%22%20data-math%3D%22N%22%20transform%3D%22translate(0%2C203.70157894736843)%22%3E0.02%3C%2Ftext%3E%3C%2Fg%3E%3C%2Fg%3E%3Cg%20class%3D%22overaxes-above%22%2F%3E%3C%2Fg%3E%3C%2Fg%3E%3Cg%20class%3D%22polarlayer%22%2F%3E%3Cg%20class%3D%22ternarylayer%22%2F%3E%3Cg%20class%3D%22geolayer%22%2F%3E%3Cg%20class%3D%22funnelarealayer%22%2F%3E%3Cg%20class%3D%22pielayer%22%2F%3E%3Cg%20class%3D%22treemaplayer%22%2F%3E%3Cg%20class%3D%22sunburstlayer%22%2F%3E%3Cg%20class%3D%22glimages%22%2F%3E%3Cdefs%20id%3D%22topdefs-68f51b%22%3E%3Cg%20class%3D%22clips%22%2F%3E%3CclipPath%20id%3D%22legend68f51b%22%3E%3Crect%20width%3D%22154%22%20height%3D%2258%22%20x%3D%220%22%20y%3D%220%22%2F%3E%3C%2FclipPath%3E%3C%2Fdefs%3E%3Cg%20class%3D%22indicatorlayer%22%2F%3E%3Cg%20class%3D%22layer-above%22%3E%3Cg%20class%3D%22imagelayer%22%2F%3E%3Cg%20class%3D%22shapelayer%22%2F%3E%3C%2Fg%3E%3Cg%20class%3D%22infolayer%22%3E%3Cg%20class%3D%22legend%22%20pointer-events%3D%22all%22%20transform%3D%22translate(1154%2C%2030)%22%3E%3Crect%20class%3D%22bg%22%20shape-rendering%3D%22crispEdges%22%20style%3D%22stroke%3A%20rgb(68%2C%2068%2C%2068)%3B%20stroke-opacity%3A%201%3B%20fill%3A%20rgb(255%2C%20255%2C%20255)%3B%20fill-opacity%3A%201%3B%20stroke-width%3A%200px%3B%22%20width%3D%22154%22%20height%3D%2258%22%20x%3D%220%22%20y%3D%220%22%2F%3E%3Cg%20class%3D%22scrollbox%22%20transform%3D%22translate(0%2C%200)%22%20clip-path%3D%22url('%23legend68f51b')%22%3E%3Cg%20class%3D%22groups%22%20transform%3D%22translate(0%2C%200)%22%3E%3Cg%20class%3D%22traces%22%20style%3D%22opacity%3A%201%3B%22%20transform%3D%22translate(0%2C%2014.5)%22%3E%3Ctext%20class%3D%22legendtext%20user-select-none%22%20text-anchor%3D%22start%22%20style%3D%22font-family%3A%20%26quot%3BOpen%20Sans%26quot%3B%2C%20verdana%2C%20arial%2C%20sans-serif%3B%20font-size%3A%2012px%3B%20fill%3A%20rgb(0%2C%200%2C%200)%3B%20fill-opacity%3A%200.65%3B%20white-space%3A%20pre%3B%22%20x%3D%2240%22%20y%3D%224.680000000000001%22%20data-unformatted%3D%22start_of_day.VALUE%22%20data-math%3D%22N%22%3Estart_of_day.VALUE%3C%2Ftext%3E%3Cg%20class%3D%22layers%22%20style%3D%22opacity%3A%201%3B%22%3E%3Cg%20class%3D%22legendfill%22%2F%3E%3Cg%20class%3D%22legendlines%22%3E%3Cpath%20class%3D%22js-line%22%20d%3D%22M5%2C0h30%22%20style%3D%22fill%3A%20none%3B%20stroke%3A%20rgb(78%2C%20121%2C%20167)%3B%20stroke-opacity%3A%201%3B%20stroke-width%3A%202px%3B%22%2F%3E%3C%2Fg%3E%3Cg%20class%3D%22legendsymbols%22%3E%3Cg%20class%3D%22legendpoints%22%3E%3Cpath%20class%3D%22scatterpts%22%20transform%3D%22translate(20%2C0)%22%20style%3D%22opacity%3A%201%3B%20stroke-width%3A%200px%3B%20fill%3A%20rgb(78%2C%20121%2C%20167)%3B%20fill-opacity%3A%201%3B%22%20d%3D%22M3%2C0A3%2C3%200%201%2C1%200%2C-3A3%2C3%200%200%2C1%203%2C0Z%22%2F%3E%3C%2Fg%3E%3C%2Fg%3E%3C%2Fg%3E%3Crect%20class%3D%22legendtoggle%22%20style%3D%22cursor%3A%20pointer%3B%20fill%3A%20rgb(0%2C%200%2C%200)%3B%20fill-opacity%3A%200%3B%22%20pointer-events%3D%22all%22%20x%3D%220%22%20y%3D%22-9.5%22%20width%3D%22148.9166717529297%22%20height%3D%2219%22%2F%3E%3C%2Fg%3E%3C%2Fg%3E%3Cg%20class%3D%22groups%22%20transform%3D%22translate(0%2C%2010)%22%3E%3Cg%20class%3D%22traces%22%20style%3D%22opacity%3A%201%3B%22%20transform%3D%22translate(0%2C%2033.5)%22%3E%3Ctext%20class%3D%22legendtext%20user-select-none%22%20text-anchor%3D%22start%22%20style%3D%22font-family%3A%20%26quot%3BOpen%20Sans%26quot%3B%2C%20verdana%2C%20arial%2C%20sans-serif%3B%20font-size%3A%2012px%3B%20fill%3A%20rgb(0%2C%200%2C%200)%3B%20fill-opacity%3A%200.65%3B%20white-space%3A%20pre%3B%22%20x%3D%2240%22%20y%3D%224.680000000000001%22%20data-unformatted%3D%22last.VALUE%22%20data-math%3D%22N%22%3Elast.VALUE%3C%2Ftext%3E%3Cg%20class%3D%22layers%22%20style%3D%22opacity%3A%201%3B%22%3E%3Cg%20class%3D%22legendfill%22%2F%3E%3Cg%20class%3D%22legendlines%22%3E%3Cpath%20class%3D%22js-line%22%20d%3D%22M5%2C0h30%22%20style%3D%22fill%3A%20none%3B%20stroke%3A%20rgb(242%2C%20142%2C%2044)%3B%20stroke-opacity%3A%201%3B%20stroke-width%3A%202px%3B%22%2F%3E%3C%2Fg%3E%3Cg%20class%3D%22legendsymbols%22%3E%3Cg%20class%3D%22legendpoints%22%3E%3Cpath%20class%3D%22scatterpts%22%20transform%3D%22translate(20%2C0)%22%20style%3D%22opacity%3A%201%3B%20stroke-width%3A%200px%3B%20fill%3A%20rgb(242%2C%20142%2C%2044)%3B%20fill-opacity%3A%201%3B%22%20d%3D%22M3%2C0A3%2C3%200%201%2C1%200%2C-3A3%2C3%200%200%2C1%203%2C0Z%22%2F%3E%3C%2Fg%3E%3C%2Fg%3E%3C%2Fg%3E%3Crect%20class%3D%22legendtoggle%22%20style%3D%22cursor%3A%20pointer%3B%20fill%3A%20rgb(0%2C%200%2C%200)%3B%20fill-opacity%3A%200%3B%22%20pointer-events%3D%22all%22%20x%3D%220%22%20y%3D%22-9.5%22%20width%3D%22148.9166717529297%22%20height%3D%2219%22%2F%3E%3C%2Fg%3E%3C%2Fg%3E%3C%2Fg%3E%3Crect%20class%3D%22scrollbar%22%20rx%3D%2220%22%20ry%3D%223%22%20width%3D%220%22%20height%3D%220%22%20style%3D%22fill%3A%20rgb(128%2C%20139%2C%20164)%3B%20fill-opacity%3A%201%3B%22%20x%3D%220%22%20y%3D%220%22%2F%3E%3C%2Fg%3E%3Cg%20class%3D%22g-gtitle%22%2F%3E%3Cg%20class%3D%22g-xtitle%22%2F%3E%3Cg%20class%3D%22g-ytitle%22%20transform%3D%22translate(-3.3497467041015625%2C0)%22%3E%3Ctext%20class%3D%22ytitle%22%20transform%3D%22rotate(-90%2C42%2C103.1842105263158)%22%20style%3D%22font-family%3A%20%26quot%3BOpen%20Sans%26quot%3B%2C%20verdana%2C%20arial%2C%20sans-serif%3B%20font-size%3A%2014px%3B%20fill%3A%20rgb(0%2C%200%2C%200)%3B%20opacity%3A%200.65%3B%20font-weight%3A%20normal%3B%20white-space%3A%20pre%3B%22%20x%3D%2242%22%20y%3D%22103.1842105263158%22%20text-anchor%3D%22middle%22%20data-unformatted%3D%22Last%20Curve%22%20data-math%3D%22N%22%3ELast%20Curve%3C%2Ftext%3E%3C%2Fg%3E%3Cg%20class%3D%22g-y2title%22%20transform%3D%22translate(-0.9327545166015625%2C0)%22%3E%3Ctext%20class%3D%22y2title%22%20transform%3D%22rotate(-90%2C42%2C265.8157894736842)%22%20style%3D%22font-family%3A%20%26quot%3BOpen%20Sans%26quot%3B%2C%20verdana%2C%20arial%2C%20sans-serif%3B%20font-size%3A%2014px%3B%20fill%3A%20rgb(0%2C%200%2C%200)%3B%20opacity%3A%200.65%3B%20font-weight%3A%20normal%3B%20white-space%3A%20pre%3B%22%20x%3D%2242%22%20y%3D%22265.8157894736842%22%20text-anchor%3D%22middle%22%20data-unformatted%3D%22Curve%20Inversion%20Stress%22%20data-math%3D%22N%22%3ECurve%20Inversion%20Stress%3C%2Ftext%3E%3C%2Fg%3E%3C%2Fg%3E%3Cg%20class%3D%22menulayer%22%2F%3E%3Cg%20class%3D%22zoomlayer%22%2F%3E%3Cg%20class%3D%22hoverlayer%22%2F%3E%3C%2Fsvg%3E\">"
      ],
      "text/plain": [
       "Open the notebook in JupyterLab with the atoti extension installed and enabled to see this widget."
      ]
     },
     "metadata": {},
     "output_type": "display_data"
    }
   ],
   "source": [
    "position_sensitivity_cube.visualize(\"Yield Curve Inversion Stress\")"
   ]
  },
  {
   "cell_type": "markdown",
   "metadata": {},
   "source": [
    "We see the downward slope dipped further in the stress scenario."
   ]
  },
  {
   "cell_type": "code",
   "execution_count": 47,
   "metadata": {
    "activeviam": {
     "state": {
      "name": "Theoretical PnL Curve Inversion Stress",
      "type": "container",
      "value": {
       "body": {
        "configuration": {
         "mapping": {
          "splitBy": [
           "[Measure Simulations].[Curve Simulation].[Curve Simulation]"
          ],
          "values": [
           "[Measures].[Theoretical PnL]"
          ],
          "xAxis": [
           "[Hierarchies].[Investment Portfolio Hierarchy].[Asset Class]"
          ]
         },
         "switchedTo": "plotly-clustered-bar-chart",
         "type": "plotly-line-chart"
        },
        "query": {
         "mdx": "SELECT NON EMPTY Crossjoin([Hierarchies].[Investment Portfolio Hierarchy].[Asset Class].Members, [Measure Simulations].[Curve Simulation].[Curve Simulation].Members) ON ROWS, NON EMPTY [Measures].[Theoretical PnL] ON COLUMNS FROM [Position_Sensitivities] CELL PROPERTIES VALUE, FORMATTED_VALUE, BACK_COLOR, FORE_COLOR, FONT_FLAGS",
         "serverUrl": "",
         "updateMode": "once"
        }
       },
       "containerKey": "chart",
       "showTitleBar": false,
       "style": {}
      }
     }
    },
    "atoti": {
     "state": {
      "name": "Theoretical PnL Curve Inversion Stress",
      "type": "container",
      "value": {
       "body": {
        "configuration": {
         "mapping": {
          "horizontal": [],
          "splitBy": [
           "[Measure Simulations].[Curve Simulation].[Curve Simulation]"
          ],
          "values": [
           "[Measures].[Theoretical PnL]"
          ],
          "vertical": [],
          "xAxis": [
           "[Hierarchies].[tenor].[tenor]"
          ]
         },
         "type": "plotly-line-chart"
        },
        "query": {
         "mdx": "SELECT NON EMPTY Crossjoin([Hierarchies].[tenor].[tenor].Members, [Measure Simulations].[Curve Simulation].[Curve Simulation].Members) ON ROWS, NON EMPTY [Measures].[Theoretical PnL] ON COLUMNS FROM (SELECT {[Measure Simulations].[Curve Simulation].[Curve Simulation].[Curve Inversion Stress], [Measure Simulations].[Curve Simulation].[Curve Simulation].[Curve Inversion], [Measure Simulations].[Curve Simulation].[Curve Simulation].[Last Curve]} ON COLUMNS FROM [Position_Sensitivities]) CELL PROPERTIES VALUE, FORMATTED_VALUE, BACK_COLOR, FORE_COLOR, FONT_FLAGS",
         "serverUrl": "",
         "updateMode": "once"
        }
       },
       "containerKey": "chart",
       "showTitleBar": false,
       "style": {}
      }
     }
    }
   },
   "outputs": [
    {
     "data": {
      "application/vnd.atoti.v0+json": {
       "cube": "Position_Sensitivities",
       "error": null,
       "name": "Theoretical PnL Curve Inversion Stress",
       "session": "Unnamed"
      },
      "text/html": [
       "<img src=\"data:image/svg+xml;charset=utf8,%3C%3Fxml%20version%3D%221.0%22%20standalone%3D%22no%22%3F%3E%3Csvg%20xmlns%3D%22http%3A%2F%2Fwww.w3.org%2F2000%2Fsvg%22%20xmlns%3Axlink%3D%22http%3A%2F%2Fwww.w3.org%2F1999%2Fxlink%22%20viewBox%3D%220%200%201308%20360%22%3E%3Cdefs%20id%3D%22defs-287627%22%3E%3Cg%20class%3D%22clips%22%3E%3CclipPath%20id%3D%22clip287627xyplot%22%20class%3D%22plotclip%22%3E%3Crect%20width%3D%221038%22%20height%3D%22250%22%2F%3E%3C%2FclipPath%3E%3CclipPath%20class%3D%22axesclip%22%20id%3D%22clip287627x%22%3E%3Crect%20x%3D%2280%22%20y%3D%220%22%20width%3D%221038%22%20height%3D%22360%22%2F%3E%3C%2FclipPath%3E%3CclipPath%20class%3D%22axesclip%22%20id%3D%22clip287627y%22%3E%3Crect%20x%3D%220%22%20y%3D%2230%22%20width%3D%221308%22%20height%3D%22250%22%2F%3E%3C%2FclipPath%3E%3CclipPath%20class%3D%22axesclip%22%20id%3D%22clip287627xy%22%3E%3Crect%20x%3D%2280%22%20y%3D%2230%22%20width%3D%221038%22%20height%3D%22250%22%2F%3E%3C%2FclipPath%3E%3C%2Fg%3E%3Cg%20class%3D%22gradients%22%2F%3E%3C%2Fdefs%3E%3Cg%20class%3D%22bglayer%22%2F%3E%3Cg%20class%3D%22draglayer%20cursor-crosshair%22%3E%3Cg%20class%3D%22xy%22%3E%3Crect%20class%3D%22nsewdrag%20drag%22%20style%3D%22fill%3A%20transparent%3B%20stroke-width%3A%200px%3B%20pointer-events%3A%20all%3B%22%20data-subplot%3D%22xy%22%20x%3D%2280%22%20y%3D%2230%22%20width%3D%221038%22%20height%3D%22250%22%2F%3E%3Crect%20class%3D%22nwdrag%20drag%20cursor-nw-resize%22%20style%3D%22fill%3A%20transparent%3B%20stroke-width%3A%200px%3B%20pointer-events%3A%20all%3B%22%20data-subplot%3D%22xy%22%20x%3D%2260%22%20y%3D%2210%22%20width%3D%2220%22%20height%3D%2220%22%2F%3E%3Crect%20class%3D%22nedrag%20drag%20cursor-ne-resize%22%20style%3D%22fill%3A%20transparent%3B%20stroke-width%3A%200px%3B%20pointer-events%3A%20all%3B%22%20data-subplot%3D%22xy%22%20x%3D%221118%22%20y%3D%2210%22%20width%3D%2220%22%20height%3D%2220%22%2F%3E%3Crect%20class%3D%22swdrag%20drag%20cursor-sw-resize%22%20style%3D%22fill%3A%20transparent%3B%20stroke-width%3A%200px%3B%20pointer-events%3A%20all%3B%22%20data-subplot%3D%22xy%22%20x%3D%2260%22%20y%3D%22280%22%20width%3D%2220%22%20height%3D%2220%22%2F%3E%3Crect%20class%3D%22sedrag%20drag%20cursor-se-resize%22%20style%3D%22fill%3A%20transparent%3B%20stroke-width%3A%200px%3B%20pointer-events%3A%20all%3B%22%20data-subplot%3D%22xy%22%20x%3D%221118%22%20y%3D%22280%22%20width%3D%2220%22%20height%3D%2220%22%2F%3E%3Crect%20class%3D%22ewdrag%20drag%20cursor-ew-resize%22%20style%3D%22fill%3A%20transparent%3B%20stroke-width%3A%200px%3B%20pointer-events%3A%20all%3B%22%20data-subplot%3D%22xy%22%20x%3D%22183.8%22%20y%3D%22280.5%22%20width%3D%22830.4000000000001%22%20height%3D%2220%22%2F%3E%3Crect%20class%3D%22wdrag%20drag%20cursor-w-resize%22%20style%3D%22fill%3A%20transparent%3B%20stroke-width%3A%200px%3B%20pointer-events%3A%20all%3B%22%20data-subplot%3D%22xy%22%20x%3D%2280%22%20y%3D%22280.5%22%20width%3D%22103.80000000000001%22%20height%3D%2220%22%2F%3E%3Crect%20class%3D%22edrag%20drag%20cursor-e-resize%22%20style%3D%22fill%3A%20transparent%3B%20stroke-width%3A%200px%3B%20pointer-events%3A%20all%3B%22%20data-subplot%3D%22xy%22%20x%3D%221014.2%22%20y%3D%22280.5%22%20width%3D%22103.80000000000001%22%20height%3D%2220%22%2F%3E%3Crect%20class%3D%22nsdrag%20drag%20cursor-ns-resize%22%20style%3D%22fill%3A%20transparent%3B%20stroke-width%3A%200px%3B%20pointer-events%3A%20all%3B%22%20data-subplot%3D%22xy%22%20x%3D%2259.5%22%20y%3D%2255%22%20width%3D%2220%22%20height%3D%22200%22%2F%3E%3Crect%20class%3D%22sdrag%20drag%20cursor-s-resize%22%20style%3D%22fill%3A%20transparent%3B%20stroke-width%3A%200px%3B%20pointer-events%3A%20all%3B%22%20data-subplot%3D%22xy%22%20x%3D%2259.5%22%20y%3D%22255%22%20width%3D%2220%22%20height%3D%2225%22%2F%3E%3Crect%20class%3D%22ndrag%20drag%20cursor-n-resize%22%20style%3D%22fill%3A%20transparent%3B%20stroke-width%3A%200px%3B%20pointer-events%3A%20all%3B%22%20data-subplot%3D%22xy%22%20x%3D%2259.5%22%20y%3D%2230%22%20width%3D%2220%22%20height%3D%2225%22%2F%3E%3C%2Fg%3E%3C%2Fg%3E%3Cg%20class%3D%22layer-below%22%3E%3Cg%20class%3D%22imagelayer%22%2F%3E%3Cg%20class%3D%22shapelayer%22%2F%3E%3C%2Fg%3E%3Cg%20class%3D%22cartesianlayer%22%3E%3Cg%20class%3D%22subplot%20xy%22%3E%3Cg%20class%3D%22layer-subplot%22%3E%3Cg%20class%3D%22shapelayer%22%2F%3E%3Cg%20class%3D%22imagelayer%22%2F%3E%3C%2Fg%3E%3Cg%20class%3D%22gridlayer%22%3E%3Cg%20class%3D%22x%22%3E%3Cpath%20class%3D%22xgrid%20crisp%22%20transform%3D%22translate(135.65%2C0)%22%20d%3D%22M0%2C30v250%22%20style%3D%22stroke%3A%20rgb(0%2C%200%2C%200)%3B%20stroke-opacity%3A%200.1625%3B%20stroke-width%3A%201px%3B%22%2F%3E%3Cpath%20class%3D%22xgrid%20crisp%22%20transform%3D%22translate(251.49%2C0)%22%20d%3D%22M0%2C30v250%22%20style%3D%22stroke%3A%20rgb(0%2C%200%2C%200)%3B%20stroke-opacity%3A%200.1625%3B%20stroke-width%3A%201px%3B%22%2F%3E%3Cpath%20class%3D%22xgrid%20crisp%22%20transform%3D%22translate(367.33%2C0)%22%20d%3D%22M0%2C30v250%22%20style%3D%22stroke%3A%20rgb(0%2C%200%2C%200)%3B%20stroke-opacity%3A%200.1625%3B%20stroke-width%3A%201px%3B%22%2F%3E%3Cpath%20class%3D%22xgrid%20crisp%22%20transform%3D%22translate(483.16%2C0)%22%20d%3D%22M0%2C30v250%22%20style%3D%22stroke%3A%20rgb(0%2C%200%2C%200)%3B%20stroke-opacity%3A%200.1625%3B%20stroke-width%3A%201px%3B%22%2F%3E%3Cpath%20class%3D%22xgrid%20crisp%22%20transform%3D%22translate(599%2C0)%22%20d%3D%22M0%2C30v250%22%20style%3D%22stroke%3A%20rgb(0%2C%200%2C%200)%3B%20stroke-opacity%3A%200.1625%3B%20stroke-width%3A%201px%3B%22%2F%3E%3Cpath%20class%3D%22xgrid%20crisp%22%20transform%3D%22translate(714.84%2C0)%22%20d%3D%22M0%2C30v250%22%20style%3D%22stroke%3A%20rgb(0%2C%200%2C%200)%3B%20stroke-opacity%3A%200.1625%3B%20stroke-width%3A%201px%3B%22%2F%3E%3Cpath%20class%3D%22xgrid%20crisp%22%20transform%3D%22translate(830.68%2C0)%22%20d%3D%22M0%2C30v250%22%20style%3D%22stroke%3A%20rgb(0%2C%200%2C%200)%3B%20stroke-opacity%3A%200.1625%3B%20stroke-width%3A%201px%3B%22%2F%3E%3Cpath%20class%3D%22xgrid%20crisp%22%20transform%3D%22translate(946.51%2C0)%22%20d%3D%22M0%2C30v250%22%20style%3D%22stroke%3A%20rgb(0%2C%200%2C%200)%3B%20stroke-opacity%3A%200.1625%3B%20stroke-width%3A%201px%3B%22%2F%3E%3Cpath%20class%3D%22xgrid%20crisp%22%20transform%3D%22translate(1062.35%2C0)%22%20d%3D%22M0%2C30v250%22%20style%3D%22stroke%3A%20rgb(0%2C%200%2C%200)%3B%20stroke-opacity%3A%200.1625%3B%20stroke-width%3A%201px%3B%22%2F%3E%3C%2Fg%3E%3Cg%20class%3D%22y%22%3E%3Cpath%20class%3D%22ygrid%20crisp%22%20transform%3D%22translate(0%2C261.7)%22%20d%3D%22M80%2C0h1038%22%20style%3D%22stroke%3A%20rgb(0%2C%200%2C%200)%3B%20stroke-opacity%3A%200.1625%3B%20stroke-width%3A%201px%3B%22%2F%3E%3Cpath%20class%3D%22ygrid%20crisp%22%20transform%3D%22translate(0%2C210.4)%22%20d%3D%22M80%2C0h1038%22%20style%3D%22stroke%3A%20rgb(0%2C%200%2C%200)%3B%20stroke-opacity%3A%200.1625%3B%20stroke-width%3A%201px%3B%22%2F%3E%3Cpath%20class%3D%22ygrid%20crisp%22%20transform%3D%22translate(0%2C159.1)%22%20d%3D%22M80%2C0h1038%22%20style%3D%22stroke%3A%20rgb(0%2C%200%2C%200)%3B%20stroke-opacity%3A%200.1625%3B%20stroke-width%3A%201px%3B%22%2F%3E%3Cpath%20class%3D%22ygrid%20crisp%22%20transform%3D%22translate(0%2C107.81)%22%20d%3D%22M80%2C0h1038%22%20style%3D%22stroke%3A%20rgb(0%2C%200%2C%200)%3B%20stroke-opacity%3A%200.1625%3B%20stroke-width%3A%201px%3B%22%2F%3E%3C%2Fg%3E%3C%2Fg%3E%3Cg%20class%3D%22zerolinelayer%22%3E%3Cpath%20class%3D%22yzl%20zl%20crisp%22%20transform%3D%22translate(0%2C56.510000000000005)%22%20d%3D%22M80%2C0h1038%22%20style%3D%22stroke%3A%20rgb(0%2C%200%2C%200)%3B%20stroke-opacity%3A%200.325%3B%20stroke-width%3A%201px%3B%22%2F%3E%3C%2Fg%3E%3Cpath%20class%3D%22xlines-below%22%2F%3E%3Cpath%20class%3D%22ylines-below%22%2F%3E%3Cg%20class%3D%22overlines-below%22%2F%3E%3Cg%20class%3D%22xaxislayer-below%22%2F%3E%3Cg%20class%3D%22yaxislayer-below%22%2F%3E%3Cg%20class%3D%22overaxes-below%22%2F%3E%3Cg%20class%3D%22plot%22%20transform%3D%22translate(80%2C%2030)%22%20clip-path%3D%22url('%23clip287627xyplot')%22%3E%3Cg%20class%3D%22scatterlayer%20mlayer%22%3E%3Cg%20class%3D%22trace%20scatter%20trace77dc37%22%20style%3D%22stroke-miterlimit%3A%202%3B%20opacity%3A%201%3B%22%3E%3Cg%20class%3D%22fills%22%2F%3E%3Cg%20class%3D%22errorbars%22%2F%3E%3Cg%20class%3D%22lines%22%3E%3Cpath%20class%3D%22js-line%22%20style%3D%22vector-effect%3A%20non-scaling-stroke%3B%20fill%3A%20none%3B%20stroke%3A%20rgb(78%2C%20121%2C%20167)%3B%20stroke-opacity%3A%201%3B%20stroke-width%3A%202px%3B%20opacity%3A%201%3B%22%20d%3D%22M55.65%2C16.25L982.35%2C16.25%22%2F%3E%3C%2Fg%3E%3Cg%20class%3D%22points%22%3E%3Cpath%20class%3D%22point%22%20transform%3D%22translate(55.65%2C16.25)%22%20style%3D%22opacity%3A%201%3B%20stroke-width%3A%200px%3B%20fill%3A%20rgb(78%2C%20121%2C%20167)%3B%20fill-opacity%3A%201%3B%22%20d%3D%22M3%2C0A3%2C3%200%201%2C1%200%2C-3A3%2C3%200%200%2C1%203%2C0Z%22%2F%3E%3Cpath%20class%3D%22point%22%20transform%3D%22translate(171.49%2C16.25)%22%20style%3D%22opacity%3A%201%3B%20stroke-width%3A%200px%3B%20fill%3A%20rgb(78%2C%20121%2C%20167)%3B%20fill-opacity%3A%201%3B%22%20d%3D%22M3%2C0A3%2C3%200%201%2C1%200%2C-3A3%2C3%200%200%2C1%203%2C0Z%22%2F%3E%3Cpath%20class%3D%22point%22%20transform%3D%22translate(287.33%2C16.25)%22%20style%3D%22opacity%3A%201%3B%20stroke-width%3A%200px%3B%20fill%3A%20rgb(78%2C%20121%2C%20167)%3B%20fill-opacity%3A%201%3B%22%20d%3D%22M3%2C0A3%2C3%200%201%2C1%200%2C-3A3%2C3%200%200%2C1%203%2C0Z%22%2F%3E%3Cpath%20class%3D%22point%22%20transform%3D%22translate(403.16%2C16.25)%22%20style%3D%22opacity%3A%201%3B%20stroke-width%3A%200px%3B%20fill%3A%20rgb(78%2C%20121%2C%20167)%3B%20fill-opacity%3A%201%3B%22%20d%3D%22M3%2C0A3%2C3%200%201%2C1%200%2C-3A3%2C3%200%200%2C1%203%2C0Z%22%2F%3E%3Cpath%20class%3D%22point%22%20transform%3D%22translate(519%2C16.25)%22%20style%3D%22opacity%3A%201%3B%20stroke-width%3A%200px%3B%20fill%3A%20rgb(78%2C%20121%2C%20167)%3B%20fill-opacity%3A%201%3B%22%20d%3D%22M3%2C0A3%2C3%200%201%2C1%200%2C-3A3%2C3%200%200%2C1%203%2C0Z%22%2F%3E%3Cpath%20class%3D%22point%22%20transform%3D%22translate(634.84%2C16.25)%22%20style%3D%22opacity%3A%201%3B%20stroke-width%3A%200px%3B%20fill%3A%20rgb(78%2C%20121%2C%20167)%3B%20fill-opacity%3A%201%3B%22%20d%3D%22M3%2C0A3%2C3%200%201%2C1%200%2C-3A3%2C3%200%200%2C1%203%2C0Z%22%2F%3E%3Cpath%20class%3D%22point%22%20transform%3D%22translate(750.68%2C16.25)%22%20style%3D%22opacity%3A%201%3B%20stroke-width%3A%200px%3B%20fill%3A%20rgb(78%2C%20121%2C%20167)%3B%20fill-opacity%3A%201%3B%22%20d%3D%22M3%2C0A3%2C3%200%201%2C1%200%2C-3A3%2C3%200%200%2C1%203%2C0Z%22%2F%3E%3Cpath%20class%3D%22point%22%20transform%3D%22translate(866.51%2C16.25)%22%20style%3D%22opacity%3A%201%3B%20stroke-width%3A%200px%3B%20fill%3A%20rgb(78%2C%20121%2C%20167)%3B%20fill-opacity%3A%201%3B%22%20d%3D%22M3%2C0A3%2C3%200%201%2C1%200%2C-3A3%2C3%200%200%2C1%203%2C0Z%22%2F%3E%3Cpath%20class%3D%22point%22%20transform%3D%22translate(982.35%2C16.25)%22%20style%3D%22opacity%3A%201%3B%20stroke-width%3A%200px%3B%20fill%3A%20rgb(78%2C%20121%2C%20167)%3B%20fill-opacity%3A%201%3B%22%20d%3D%22M3%2C0A3%2C3%200%201%2C1%200%2C-3A3%2C3%200%200%2C1%203%2C0Z%22%2F%3E%3C%2Fg%3E%3Cg%20class%3D%22text%22%2F%3E%3C%2Fg%3E%3Cg%20class%3D%22trace%20scatter%20trace881da4%22%20style%3D%22stroke-miterlimit%3A%202%3B%20opacity%3A%201%3B%22%3E%3Cg%20class%3D%22fills%22%2F%3E%3Cg%20class%3D%22errorbars%22%2F%3E%3Cg%20class%3D%22lines%22%3E%3Cpath%20class%3D%22js-line%22%20style%3D%22vector-effect%3A%20non-scaling-stroke%3B%20fill%3A%20none%3B%20stroke%3A%20rgb(242%2C%20142%2C%2044)%3B%20stroke-opacity%3A%201%3B%20stroke-width%3A%202px%3B%20opacity%3A%201%3B%22%20d%3D%22M55.65%2C16.25L403.16%2C16.25L519%2C125L982.35%2C125%22%2F%3E%3C%2Fg%3E%3Cg%20class%3D%22points%22%3E%3Cpath%20class%3D%22point%22%20transform%3D%22translate(55.65%2C16.25)%22%20style%3D%22opacity%3A%201%3B%20stroke-width%3A%200px%3B%20fill%3A%20rgb(242%2C%20142%2C%2044)%3B%20fill-opacity%3A%201%3B%22%20d%3D%22M3%2C0A3%2C3%200%201%2C1%200%2C-3A3%2C3%200%200%2C1%203%2C0Z%22%2F%3E%3Cpath%20class%3D%22point%22%20transform%3D%22translate(171.49%2C16.25)%22%20style%3D%22opacity%3A%201%3B%20stroke-width%3A%200px%3B%20fill%3A%20rgb(242%2C%20142%2C%2044)%3B%20fill-opacity%3A%201%3B%22%20d%3D%22M3%2C0A3%2C3%200%201%2C1%200%2C-3A3%2C3%200%200%2C1%203%2C0Z%22%2F%3E%3Cpath%20class%3D%22point%22%20transform%3D%22translate(287.33%2C16.25)%22%20style%3D%22opacity%3A%201%3B%20stroke-width%3A%200px%3B%20fill%3A%20rgb(242%2C%20142%2C%2044)%3B%20fill-opacity%3A%201%3B%22%20d%3D%22M3%2C0A3%2C3%200%201%2C1%200%2C-3A3%2C3%200%200%2C1%203%2C0Z%22%2F%3E%3Cpath%20class%3D%22point%22%20transform%3D%22translate(403.16%2C16.25)%22%20style%3D%22opacity%3A%201%3B%20stroke-width%3A%200px%3B%20fill%3A%20rgb(242%2C%20142%2C%2044)%3B%20fill-opacity%3A%201%3B%22%20d%3D%22M3%2C0A3%2C3%200%201%2C1%200%2C-3A3%2C3%200%200%2C1%203%2C0Z%22%2F%3E%3Cpath%20class%3D%22point%22%20transform%3D%22translate(519%2C125)%22%20style%3D%22opacity%3A%201%3B%20stroke-width%3A%200px%3B%20fill%3A%20rgb(242%2C%20142%2C%2044)%3B%20fill-opacity%3A%201%3B%22%20d%3D%22M3%2C0A3%2C3%200%201%2C1%200%2C-3A3%2C3%200%200%2C1%203%2C0Z%22%2F%3E%3Cpath%20class%3D%22point%22%20transform%3D%22translate(634.84%2C125)%22%20style%3D%22opacity%3A%201%3B%20stroke-width%3A%200px%3B%20fill%3A%20rgb(242%2C%20142%2C%2044)%3B%20fill-opacity%3A%201%3B%22%20d%3D%22M3%2C0A3%2C3%200%201%2C1%200%2C-3A3%2C3%200%200%2C1%203%2C0Z%22%2F%3E%3Cpath%20class%3D%22point%22%20transform%3D%22translate(750.68%2C125)%22%20style%3D%22opacity%3A%201%3B%20stroke-width%3A%200px%3B%20fill%3A%20rgb(242%2C%20142%2C%2044)%3B%20fill-opacity%3A%201%3B%22%20d%3D%22M3%2C0A3%2C3%200%201%2C1%200%2C-3A3%2C3%200%200%2C1%203%2C0Z%22%2F%3E%3Cpath%20class%3D%22point%22%20transform%3D%22translate(866.51%2C125)%22%20style%3D%22opacity%3A%201%3B%20stroke-width%3A%200px%3B%20fill%3A%20rgb(242%2C%20142%2C%2044)%3B%20fill-opacity%3A%201%3B%22%20d%3D%22M3%2C0A3%2C3%200%201%2C1%200%2C-3A3%2C3%200%200%2C1%203%2C0Z%22%2F%3E%3Cpath%20class%3D%22point%22%20transform%3D%22translate(982.35%2C125)%22%20style%3D%22opacity%3A%201%3B%20stroke-width%3A%200px%3B%20fill%3A%20rgb(242%2C%20142%2C%2044)%3B%20fill-opacity%3A%201%3B%22%20d%3D%22M3%2C0A3%2C3%200%201%2C1%200%2C-3A3%2C3%200%200%2C1%203%2C0Z%22%2F%3E%3C%2Fg%3E%3Cg%20class%3D%22text%22%2F%3E%3C%2Fg%3E%3Cg%20class%3D%22trace%20scatter%20trace1739aa%22%20style%3D%22stroke-miterlimit%3A%202%3B%20opacity%3A%201%3B%22%3E%3Cg%20class%3D%22fills%22%2F%3E%3Cg%20class%3D%22errorbars%22%2F%3E%3Cg%20class%3D%22lines%22%3E%3Cpath%20class%3D%22js-line%22%20style%3D%22vector-effect%3A%20non-scaling-stroke%3B%20fill%3A%20none%3B%20stroke%3A%20rgb(225%2C%2087%2C%2089)%3B%20stroke-opacity%3A%201%3B%20stroke-width%3A%202px%3B%20opacity%3A%201%3B%22%20d%3D%22M55.65%2C16.25L403.16%2C16.25L519%2C125L634.84%2C125L750.68%2C233.75L982.35%2C233.75%22%2F%3E%3C%2Fg%3E%3Cg%20class%3D%22points%22%3E%3Cpath%20class%3D%22point%22%20transform%3D%22translate(55.65%2C16.25)%22%20style%3D%22opacity%3A%201%3B%20stroke-width%3A%200px%3B%20fill%3A%20rgb(225%2C%2087%2C%2089)%3B%20fill-opacity%3A%201%3B%22%20d%3D%22M3%2C0A3%2C3%200%201%2C1%200%2C-3A3%2C3%200%200%2C1%203%2C0Z%22%2F%3E%3Cpath%20class%3D%22point%22%20transform%3D%22translate(171.49%2C16.25)%22%20style%3D%22opacity%3A%201%3B%20stroke-width%3A%200px%3B%20fill%3A%20rgb(225%2C%2087%2C%2089)%3B%20fill-opacity%3A%201%3B%22%20d%3D%22M3%2C0A3%2C3%200%201%2C1%200%2C-3A3%2C3%200%200%2C1%203%2C0Z%22%2F%3E%3Cpath%20class%3D%22point%22%20transform%3D%22translate(287.33%2C16.25)%22%20style%3D%22opacity%3A%201%3B%20stroke-width%3A%200px%3B%20fill%3A%20rgb(225%2C%2087%2C%2089)%3B%20fill-opacity%3A%201%3B%22%20d%3D%22M3%2C0A3%2C3%200%201%2C1%200%2C-3A3%2C3%200%200%2C1%203%2C0Z%22%2F%3E%3Cpath%20class%3D%22point%22%20transform%3D%22translate(403.16%2C16.25)%22%20style%3D%22opacity%3A%201%3B%20stroke-width%3A%200px%3B%20fill%3A%20rgb(225%2C%2087%2C%2089)%3B%20fill-opacity%3A%201%3B%22%20d%3D%22M3%2C0A3%2C3%200%201%2C1%200%2C-3A3%2C3%200%200%2C1%203%2C0Z%22%2F%3E%3Cpath%20class%3D%22point%22%20transform%3D%22translate(519%2C125)%22%20style%3D%22opacity%3A%201%3B%20stroke-width%3A%200px%3B%20fill%3A%20rgb(225%2C%2087%2C%2089)%3B%20fill-opacity%3A%201%3B%22%20d%3D%22M3%2C0A3%2C3%200%201%2C1%200%2C-3A3%2C3%200%200%2C1%203%2C0Z%22%2F%3E%3Cpath%20class%3D%22point%22%20transform%3D%22translate(634.84%2C125)%22%20style%3D%22opacity%3A%201%3B%20stroke-width%3A%200px%3B%20fill%3A%20rgb(225%2C%2087%2C%2089)%3B%20fill-opacity%3A%201%3B%22%20d%3D%22M3%2C0A3%2C3%200%201%2C1%200%2C-3A3%2C3%200%200%2C1%203%2C0Z%22%2F%3E%3Cpath%20class%3D%22point%22%20transform%3D%22translate(750.68%2C233.75)%22%20style%3D%22opacity%3A%201%3B%20stroke-width%3A%200px%3B%20fill%3A%20rgb(225%2C%2087%2C%2089)%3B%20fill-opacity%3A%201%3B%22%20d%3D%22M3%2C0A3%2C3%200%201%2C1%200%2C-3A3%2C3%200%200%2C1%203%2C0Z%22%2F%3E%3Cpath%20class%3D%22point%22%20transform%3D%22translate(866.51%2C233.75)%22%20style%3D%22opacity%3A%201%3B%20stroke-width%3A%200px%3B%20fill%3A%20rgb(225%2C%2087%2C%2089)%3B%20fill-opacity%3A%201%3B%22%20d%3D%22M3%2C0A3%2C3%200%201%2C1%200%2C-3A3%2C3%200%200%2C1%203%2C0Z%22%2F%3E%3Cpath%20class%3D%22point%22%20transform%3D%22translate(982.35%2C233.75)%22%20style%3D%22opacity%3A%201%3B%20stroke-width%3A%200px%3B%20fill%3A%20rgb(225%2C%2087%2C%2089)%3B%20fill-opacity%3A%201%3B%22%20d%3D%22M3%2C0A3%2C3%200%201%2C1%200%2C-3A3%2C3%200%200%2C1%203%2C0Z%22%2F%3E%3C%2Fg%3E%3Cg%20class%3D%22text%22%2F%3E%3C%2Fg%3E%3C%2Fg%3E%3C%2Fg%3E%3Cg%20class%3D%22overplot%22%2F%3E%3Cpath%20class%3D%22xlines-above%20crisp%22%20style%3D%22fill%3A%20none%3B%20stroke-width%3A%201px%3B%20stroke%3A%20rgb(0%2C%200%2C%200)%3B%20stroke-opacity%3A%200.1625%3B%22%20d%3D%22M79%2C280.5H1118%22%2F%3E%3Cpath%20class%3D%22ylines-above%20crisp%22%20style%3D%22fill%3A%20none%3B%20stroke-width%3A%201px%3B%20stroke%3A%20rgb(0%2C%200%2C%200)%3B%20stroke-opacity%3A%200.1625%3B%22%20d%3D%22M79.5%2C30V280%22%2F%3E%3Cg%20class%3D%22overlines-above%22%2F%3E%3Cg%20class%3D%22xaxislayer-above%22%3E%3Cg%20class%3D%22xtick%22%3E%3Ctext%20text-anchor%3D%22middle%22%20x%3D%220%22%20y%3D%22295.4%22%20style%3D%22font-family%3A%20%26quot%3BOpen%20Sans%26quot%3B%2C%20verdana%2C%20arial%2C%20sans-serif%3B%20font-size%3A%2012px%3B%20fill%3A%20rgb(0%2C%200%2C%200)%3B%20fill-opacity%3A%200.65%3B%20white-space%3A%20pre%3B%22%20data-unformatted%3D%221Y%22%20data-math%3D%22N%22%20transform%3D%22translate(135.65%2C0)%22%3E1Y%3C%2Ftext%3E%3C%2Fg%3E%3Cg%20class%3D%22xtick%22%3E%3Ctext%20text-anchor%3D%22middle%22%20x%3D%220%22%20y%3D%22295.4%22%20style%3D%22font-family%3A%20%26quot%3BOpen%20Sans%26quot%3B%2C%20verdana%2C%20arial%2C%20sans-serif%3B%20font-size%3A%2012px%3B%20fill%3A%20rgb(0%2C%200%2C%200)%3B%20fill-opacity%3A%200.65%3B%20white-space%3A%20pre%3B%22%20data-unformatted%3D%222Y%22%20data-math%3D%22N%22%20transform%3D%22translate(251.49%2C0)%22%3E2Y%3C%2Ftext%3E%3C%2Fg%3E%3Cg%20class%3D%22xtick%22%3E%3Ctext%20text-anchor%3D%22middle%22%20x%3D%220%22%20y%3D%22295.4%22%20style%3D%22font-family%3A%20%26quot%3BOpen%20Sans%26quot%3B%2C%20verdana%2C%20arial%2C%20sans-serif%3B%20font-size%3A%2012px%3B%20fill%3A%20rgb(0%2C%200%2C%200)%3B%20fill-opacity%3A%200.65%3B%20white-space%3A%20pre%3B%22%20data-unformatted%3D%223Y%22%20data-math%3D%22N%22%20transform%3D%22translate(367.33%2C0)%22%3E3Y%3C%2Ftext%3E%3C%2Fg%3E%3Cg%20class%3D%22xtick%22%3E%3Ctext%20text-anchor%3D%22middle%22%20x%3D%220%22%20y%3D%22295.4%22%20style%3D%22font-family%3A%20%26quot%3BOpen%20Sans%26quot%3B%2C%20verdana%2C%20arial%2C%20sans-serif%3B%20font-size%3A%2012px%3B%20fill%3A%20rgb(0%2C%200%2C%200)%3B%20fill-opacity%3A%200.65%3B%20white-space%3A%20pre%3B%22%20data-unformatted%3D%224Y%22%20data-math%3D%22N%22%20transform%3D%22translate(483.16%2C0)%22%3E4Y%3C%2Ftext%3E%3C%2Fg%3E%3Cg%20class%3D%22xtick%22%3E%3Ctext%20text-anchor%3D%22middle%22%20x%3D%220%22%20y%3D%22295.4%22%20style%3D%22font-family%3A%20%26quot%3BOpen%20Sans%26quot%3B%2C%20verdana%2C%20arial%2C%20sans-serif%3B%20font-size%3A%2012px%3B%20fill%3A%20rgb(0%2C%200%2C%200)%3B%20fill-opacity%3A%200.65%3B%20white-space%3A%20pre%3B%22%20data-unformatted%3D%225Y%22%20data-math%3D%22N%22%20transform%3D%22translate(599%2C0)%22%3E5Y%3C%2Ftext%3E%3C%2Fg%3E%3Cg%20class%3D%22xtick%22%3E%3Ctext%20text-anchor%3D%22middle%22%20x%3D%220%22%20y%3D%22295.4%22%20style%3D%22font-family%3A%20%26quot%3BOpen%20Sans%26quot%3B%2C%20verdana%2C%20arial%2C%20sans-serif%3B%20font-size%3A%2012px%3B%20fill%3A%20rgb(0%2C%200%2C%200)%3B%20fill-opacity%3A%200.65%3B%20white-space%3A%20pre%3B%22%20data-unformatted%3D%226Y%22%20data-math%3D%22N%22%20transform%3D%22translate(714.84%2C0)%22%3E6Y%3C%2Ftext%3E%3C%2Fg%3E%3Cg%20class%3D%22xtick%22%3E%3Ctext%20text-anchor%3D%22middle%22%20x%3D%220%22%20y%3D%22295.4%22%20style%3D%22font-family%3A%20%26quot%3BOpen%20Sans%26quot%3B%2C%20verdana%2C%20arial%2C%20sans-serif%3B%20font-size%3A%2012px%3B%20fill%3A%20rgb(0%2C%200%2C%200)%3B%20fill-opacity%3A%200.65%3B%20white-space%3A%20pre%3B%22%20data-unformatted%3D%227Y%22%20data-math%3D%22N%22%20transform%3D%22translate(830.68%2C0)%22%3E7Y%3C%2Ftext%3E%3C%2Fg%3E%3Cg%20class%3D%22xtick%22%3E%3Ctext%20text-anchor%3D%22middle%22%20x%3D%220%22%20y%3D%22295.4%22%20style%3D%22font-family%3A%20%26quot%3BOpen%20Sans%26quot%3B%2C%20verdana%2C%20arial%2C%20sans-serif%3B%20font-size%3A%2012px%3B%20fill%3A%20rgb(0%2C%200%2C%200)%3B%20fill-opacity%3A%200.65%3B%20white-space%3A%20pre%3B%22%20data-unformatted%3D%228Y%22%20data-math%3D%22N%22%20transform%3D%22translate(946.51%2C0)%22%3E8Y%3C%2Ftext%3E%3C%2Fg%3E%3Cg%20class%3D%22xtick%22%3E%3Ctext%20text-anchor%3D%22middle%22%20x%3D%220%22%20y%3D%22295.4%22%20style%3D%22font-family%3A%20%26quot%3BOpen%20Sans%26quot%3B%2C%20verdana%2C%20arial%2C%20sans-serif%3B%20font-size%3A%2012px%3B%20fill%3A%20rgb(0%2C%200%2C%200)%3B%20fill-opacity%3A%200.65%3B%20white-space%3A%20pre%3B%22%20data-unformatted%3D%229Y%22%20data-math%3D%22N%22%20transform%3D%22translate(1062.35%2C0)%22%3E9Y%3C%2Ftext%3E%3C%2Fg%3E%3C%2Fg%3E%3Cg%20class%3D%22yaxislayer-above%22%3E%3Cg%20class%3D%22ytick%22%3E%3Ctext%20text-anchor%3D%22end%22%20x%3D%2276.6%22%20y%3D%224.199999999999999%22%20style%3D%22font-family%3A%20%26quot%3BOpen%20Sans%26quot%3B%2C%20verdana%2C%20arial%2C%20sans-serif%3B%20font-size%3A%2012px%3B%20fill%3A%20rgb(0%2C%200%2C%200)%3B%20fill-opacity%3A%200.65%3B%20white-space%3A%20pre%3B%22%20data-unformatted%3D%22%E2%88%9240k%22%20data-math%3D%22N%22%20transform%3D%22translate(0%2C261.7)%22%3E%E2%88%9240k%3C%2Ftext%3E%3C%2Fg%3E%3Cg%20class%3D%22ytick%22%3E%3Ctext%20text-anchor%3D%22end%22%20x%3D%2276.6%22%20y%3D%224.199999999999999%22%20style%3D%22font-family%3A%20%26quot%3BOpen%20Sans%26quot%3B%2C%20verdana%2C%20arial%2C%20sans-serif%3B%20font-size%3A%2012px%3B%20fill%3A%20rgb(0%2C%200%2C%200)%3B%20fill-opacity%3A%200.65%3B%20white-space%3A%20pre%3B%22%20data-unformatted%3D%22%E2%88%9230k%22%20data-math%3D%22N%22%20transform%3D%22translate(0%2C210.4)%22%3E%E2%88%9230k%3C%2Ftext%3E%3C%2Fg%3E%3Cg%20class%3D%22ytick%22%3E%3Ctext%20text-anchor%3D%22end%22%20x%3D%2276.6%22%20y%3D%224.199999999999999%22%20style%3D%22font-family%3A%20%26quot%3BOpen%20Sans%26quot%3B%2C%20verdana%2C%20arial%2C%20sans-serif%3B%20font-size%3A%2012px%3B%20fill%3A%20rgb(0%2C%200%2C%200)%3B%20fill-opacity%3A%200.65%3B%20white-space%3A%20pre%3B%22%20data-unformatted%3D%22%E2%88%9220k%22%20data-math%3D%22N%22%20transform%3D%22translate(0%2C159.1)%22%3E%E2%88%9220k%3C%2Ftext%3E%3C%2Fg%3E%3Cg%20class%3D%22ytick%22%3E%3Ctext%20text-anchor%3D%22end%22%20x%3D%2276.6%22%20y%3D%224.199999999999999%22%20style%3D%22font-family%3A%20%26quot%3BOpen%20Sans%26quot%3B%2C%20verdana%2C%20arial%2C%20sans-serif%3B%20font-size%3A%2012px%3B%20fill%3A%20rgb(0%2C%200%2C%200)%3B%20fill-opacity%3A%200.65%3B%20white-space%3A%20pre%3B%22%20data-unformatted%3D%22%E2%88%9210k%22%20data-math%3D%22N%22%20transform%3D%22translate(0%2C107.81)%22%3E%E2%88%9210k%3C%2Ftext%3E%3C%2Fg%3E%3Cg%20class%3D%22ytick%22%3E%3Ctext%20text-anchor%3D%22end%22%20x%3D%2276.6%22%20y%3D%224.199999999999999%22%20style%3D%22font-family%3A%20%26quot%3BOpen%20Sans%26quot%3B%2C%20verdana%2C%20arial%2C%20sans-serif%3B%20font-size%3A%2012px%3B%20fill%3A%20rgb(0%2C%200%2C%200)%3B%20fill-opacity%3A%200.65%3B%20white-space%3A%20pre%3B%22%20data-unformatted%3D%220%22%20data-math%3D%22N%22%20transform%3D%22translate(0%2C56.510000000000005)%22%3E0%3C%2Ftext%3E%3C%2Fg%3E%3C%2Fg%3E%3Cg%20class%3D%22overaxes-above%22%2F%3E%3C%2Fg%3E%3C%2Fg%3E%3Cg%20class%3D%22polarlayer%22%2F%3E%3Cg%20class%3D%22ternarylayer%22%2F%3E%3Cg%20class%3D%22geolayer%22%2F%3E%3Cg%20class%3D%22funnelarealayer%22%2F%3E%3Cg%20class%3D%22pielayer%22%2F%3E%3Cg%20class%3D%22treemaplayer%22%2F%3E%3Cg%20class%3D%22sunburstlayer%22%2F%3E%3Cg%20class%3D%22glimages%22%2F%3E%3Cdefs%20id%3D%22topdefs-287627%22%3E%3Cg%20class%3D%22clips%22%2F%3E%3CclipPath%20id%3D%22legend287627%22%3E%3Crect%20width%3D%22169%22%20height%3D%2287%22%20x%3D%220%22%20y%3D%220%22%2F%3E%3C%2FclipPath%3E%3C%2Fdefs%3E%3Cg%20class%3D%22indicatorlayer%22%2F%3E%3Cg%20class%3D%22layer-above%22%3E%3Cg%20class%3D%22imagelayer%22%2F%3E%3Cg%20class%3D%22shapelayer%22%2F%3E%3C%2Fg%3E%3Cg%20class%3D%22infolayer%22%3E%3Cg%20class%3D%22legend%22%20pointer-events%3D%22all%22%20transform%3D%22translate(1138.76%2C%2030)%22%3E%3Crect%20class%3D%22bg%22%20shape-rendering%3D%22crispEdges%22%20style%3D%22stroke%3A%20rgb(68%2C%2068%2C%2068)%3B%20stroke-opacity%3A%201%3B%20fill%3A%20rgb(255%2C%20255%2C%20255)%3B%20fill-opacity%3A%201%3B%20stroke-width%3A%200px%3B%22%20width%3D%22169%22%20height%3D%2287%22%20x%3D%220%22%20y%3D%220%22%2F%3E%3Cg%20class%3D%22scrollbox%22%20transform%3D%22translate(0%2C%200)%22%20clip-path%3D%22url('%23legend287627')%22%3E%3Cg%20class%3D%22groups%22%20transform%3D%22translate(0%2C%200)%22%3E%3Cg%20class%3D%22traces%22%20style%3D%22opacity%3A%201%3B%22%20transform%3D%22translate(0%2C%2014.5)%22%3E%3Ctext%20class%3D%22legendtext%20user-select-none%22%20text-anchor%3D%22start%22%20style%3D%22font-family%3A%20%26quot%3BOpen%20Sans%26quot%3B%2C%20verdana%2C%20arial%2C%20sans-serif%3B%20font-size%3A%2012px%3B%20fill%3A%20rgb(0%2C%200%2C%200)%3B%20fill-opacity%3A%200.65%3B%20white-space%3A%20pre%3B%22%20x%3D%2240%22%20y%3D%224.680000000000001%22%20data-unformatted%3D%22Last%20Curve%22%20data-math%3D%22N%22%3ELast%20Curve%3C%2Ftext%3E%3Cg%20class%3D%22layers%22%20style%3D%22opacity%3A%201%3B%22%3E%3Cg%20class%3D%22legendfill%22%2F%3E%3Cg%20class%3D%22legendlines%22%3E%3Cpath%20class%3D%22js-line%22%20d%3D%22M5%2C0h30%22%20style%3D%22fill%3A%20none%3B%20stroke%3A%20rgb(78%2C%20121%2C%20167)%3B%20stroke-opacity%3A%201%3B%20stroke-width%3A%202px%3B%22%2F%3E%3C%2Fg%3E%3Cg%20class%3D%22legendsymbols%22%3E%3Cg%20class%3D%22legendpoints%22%3E%3Cpath%20class%3D%22scatterpts%22%20transform%3D%22translate(20%2C0)%22%20style%3D%22opacity%3A%201%3B%20stroke-width%3A%200px%3B%20fill%3A%20rgb(78%2C%20121%2C%20167)%3B%20fill-opacity%3A%201%3B%22%20d%3D%22M3%2C0A3%2C3%200%201%2C1%200%2C-3A3%2C3%200%200%2C1%203%2C0Z%22%2F%3E%3C%2Fg%3E%3C%2Fg%3E%3C%2Fg%3E%3Crect%20class%3D%22legendtoggle%22%20style%3D%22cursor%3A%20pointer%3B%20fill%3A%20rgb(0%2C%200%2C%200)%3B%20fill-opacity%3A%200%3B%22%20pointer-events%3D%22all%22%20x%3D%220%22%20y%3D%22-9.5%22%20width%3D%22163.35000610351562%22%20height%3D%2219%22%2F%3E%3C%2Fg%3E%3C%2Fg%3E%3Cg%20class%3D%22groups%22%20transform%3D%22translate(0%2C%2010)%22%3E%3Cg%20class%3D%22traces%22%20style%3D%22opacity%3A%201%3B%22%20transform%3D%22translate(0%2C%2033.5)%22%3E%3Ctext%20class%3D%22legendtext%20user-select-none%22%20text-anchor%3D%22start%22%20style%3D%22font-family%3A%20%26quot%3BOpen%20Sans%26quot%3B%2C%20verdana%2C%20arial%2C%20sans-serif%3B%20font-size%3A%2012px%3B%20fill%3A%20rgb(0%2C%200%2C%200)%3B%20fill-opacity%3A%200.65%3B%20white-space%3A%20pre%3B%22%20x%3D%2240%22%20y%3D%224.680000000000001%22%20data-unformatted%3D%22Curve%20Inversion%22%20data-math%3D%22N%22%3ECurve%20Inversion%3C%2Ftext%3E%3Cg%20class%3D%22layers%22%20style%3D%22opacity%3A%201%3B%22%3E%3Cg%20class%3D%22legendfill%22%2F%3E%3Cg%20class%3D%22legendlines%22%3E%3Cpath%20class%3D%22js-line%22%20d%3D%22M5%2C0h30%22%20style%3D%22fill%3A%20none%3B%20stroke%3A%20rgb(242%2C%20142%2C%2044)%3B%20stroke-opacity%3A%201%3B%20stroke-width%3A%202px%3B%22%2F%3E%3C%2Fg%3E%3Cg%20class%3D%22legendsymbols%22%3E%3Cg%20class%3D%22legendpoints%22%3E%3Cpath%20class%3D%22scatterpts%22%20transform%3D%22translate(20%2C0)%22%20style%3D%22opacity%3A%201%3B%20stroke-width%3A%200px%3B%20fill%3A%20rgb(242%2C%20142%2C%2044)%3B%20fill-opacity%3A%201%3B%22%20d%3D%22M3%2C0A3%2C3%200%201%2C1%200%2C-3A3%2C3%200%200%2C1%203%2C0Z%22%2F%3E%3C%2Fg%3E%3C%2Fg%3E%3C%2Fg%3E%3Crect%20class%3D%22legendtoggle%22%20style%3D%22cursor%3A%20pointer%3B%20fill%3A%20rgb(0%2C%200%2C%200)%3B%20fill-opacity%3A%200%3B%22%20pointer-events%3D%22all%22%20x%3D%220%22%20y%3D%22-9.5%22%20width%3D%22163.35000610351562%22%20height%3D%2219%22%2F%3E%3C%2Fg%3E%3C%2Fg%3E%3Cg%20class%3D%22groups%22%20transform%3D%22translate(0%2C%2020)%22%3E%3Cg%20class%3D%22traces%22%20style%3D%22opacity%3A%201%3B%22%20transform%3D%22translate(0%2C%2052.5)%22%3E%3Ctext%20class%3D%22legendtext%20user-select-none%22%20text-anchor%3D%22start%22%20style%3D%22font-family%3A%20%26quot%3BOpen%20Sans%26quot%3B%2C%20verdana%2C%20arial%2C%20sans-serif%3B%20font-size%3A%2012px%3B%20fill%3A%20rgb(0%2C%200%2C%200)%3B%20fill-opacity%3A%200.65%3B%20white-space%3A%20pre%3B%22%20x%3D%2240%22%20y%3D%224.680000000000001%22%20data-unformatted%3D%22Curve%20Inversion%20Stress%22%20data-math%3D%22N%22%3ECurve%20Inversion%20Stress%3C%2Ftext%3E%3Cg%20class%3D%22layers%22%20style%3D%22opacity%3A%201%3B%22%3E%3Cg%20class%3D%22legendfill%22%2F%3E%3Cg%20class%3D%22legendlines%22%3E%3Cpath%20class%3D%22js-line%22%20d%3D%22M5%2C0h30%22%20style%3D%22fill%3A%20none%3B%20stroke%3A%20rgb(225%2C%2087%2C%2089)%3B%20stroke-opacity%3A%201%3B%20stroke-width%3A%202px%3B%22%2F%3E%3C%2Fg%3E%3Cg%20class%3D%22legendsymbols%22%3E%3Cg%20class%3D%22legendpoints%22%3E%3Cpath%20class%3D%22scatterpts%22%20transform%3D%22translate(20%2C0)%22%20style%3D%22opacity%3A%201%3B%20stroke-width%3A%200px%3B%20fill%3A%20rgb(225%2C%2087%2C%2089)%3B%20fill-opacity%3A%201%3B%22%20d%3D%22M3%2C0A3%2C3%200%201%2C1%200%2C-3A3%2C3%200%200%2C1%203%2C0Z%22%2F%3E%3C%2Fg%3E%3C%2Fg%3E%3C%2Fg%3E%3Crect%20class%3D%22legendtoggle%22%20style%3D%22cursor%3A%20pointer%3B%20fill%3A%20rgb(0%2C%200%2C%200)%3B%20fill-opacity%3A%200%3B%22%20pointer-events%3D%22all%22%20x%3D%220%22%20y%3D%22-9.5%22%20width%3D%22163.35000610351562%22%20height%3D%2219%22%2F%3E%3C%2Fg%3E%3C%2Fg%3E%3C%2Fg%3E%3Crect%20class%3D%22scrollbar%22%20rx%3D%2220%22%20ry%3D%223%22%20width%3D%220%22%20height%3D%220%22%20style%3D%22fill%3A%20rgb(128%2C%20139%2C%20164)%3B%20fill-opacity%3A%201%3B%22%20x%3D%220%22%20y%3D%220%22%2F%3E%3C%2Fg%3E%3Cg%20class%3D%22g-gtitle%22%2F%3E%3Cg%20class%3D%22g-xtitle%22%2F%3E%3Cg%20class%3D%22g-ytitle%22%2F%3E%3C%2Fg%3E%3Cg%20class%3D%22menulayer%22%2F%3E%3Cg%20class%3D%22zoomlayer%22%2F%3E%3Cg%20class%3D%22hoverlayer%22%2F%3E%3C%2Fsvg%3E\">"
      ],
      "text/plain": [
       "Open the notebook in JupyterLab with the atoti extension installed and enabled to see this widget."
      ]
     },
     "metadata": {},
     "output_type": "display_data"
    }
   ],
   "source": [
    "position_sensitivity_cube.visualize(\"Theoretical PnL Curve Inversion Stress\")"
   ]
  },
  {
   "cell_type": "code",
   "execution_count": 48,
   "metadata": {
    "activeviam": {
     "state": {
      "name": "Scenarios Comparaison",
      "type": "container",
      "value": {
       "body": {
        "configuration": {
         "featuredValues": {}
        },
        "contextValues": {},
        "mdx": "SELECT {[Measure Simulations].[Curve Simulation].[Curve Inversion], [Measure Simulations].[Curve Simulation].[Curve Inversion Stress]} ON PAGES, NON EMPTY [Measures].[Theoretical PnL] ON COLUMNS, NON EMPTY Hierarchize(DrilldownLevel([Hierarchies].[trading_desk].[ALL].[AllMember])) ON ROWS FROM [Position_Sensitivities] CELL PROPERTIES VALUE, FORMATTED_VALUE, BACK_COLOR, FORE_COLOR, FONT_FLAGS",
        "ranges": {
         "column": {
          "chunkSize": 20,
          "thresholdPercentage": 0.1
         },
         "row": {
          "chunkSize": 20,
          "thresholdPercentage": 0.1
         }
        },
        "serverUrl": "",
        "updateMode": "once"
       },
       "containerKey": "featured-values",
       "showTitleBar": false,
       "style": {}
      }
     }
    },
    "atoti": {
     "state": {
      "name": "Scenarios Comparison",
      "type": "container",
      "value": {
       "body": {
        "configuration": {
         "featuredValues": {}
        },
        "contextValues": {},
        "mdx": "SELECT {[Measure Simulations].[Curve Simulation].[Curve Inversion Stress], [Measure Simulations].[Curve Simulation].[Curve Inversion]} ON PAGES, NON EMPTY [Measures].[Theoretical PnL] ON COLUMNS, NON EMPTY Hierarchize(DrilldownLevel([Hierarchies].[trading_desk].[ALL].[AllMember])) ON ROWS FROM [Position_Sensitivities] CELL PROPERTIES VALUE, FORMATTED_VALUE, BACK_COLOR, FORE_COLOR, FONT_FLAGS",
        "ranges": {
         "column": {
          "chunkSize": 20,
          "thresholdPercentage": 0.1
         },
         "row": {
          "chunkSize": 20,
          "thresholdPercentage": 0.1
         }
        },
        "serverUrl": "",
        "updateMode": "once"
       },
       "containerKey": "featured-values",
       "showTitleBar": false,
       "style": {}
      }
     }
    }
   },
   "outputs": [
    {
     "data": {
      "application/vnd.atoti.v0+json": {
       "cube": "Position_Sensitivities",
       "error": null,
       "name": "Scenarios Comparison",
       "session": "Unnamed"
      },
      "text/html": [
       "<img src=\"data:image/svg+xml;charset=utf8,%3C?xml%20version=%221.0%22%20standalone=%22no%22?%3E%0A%20%20%20%20%3Csvg%20xmlns=%22http://www.w3.org/2000/svg%22%20width=%221308%22%20height=%22360%22%3E%0A%20%20%20%20%20%20%3CforeignObject%20x=%220%22%20y=%220%22%20width=%22100%25%22%20height=%22100%25%22%3E%0A%20%20%20%20%20%20%20%20%3Cstyle%20type=%22text/css%22%3E.css-xsa55j-dock%20%7Bposition:%20relative;%20z-index:%200;%20height:%20100%25;%20background-color:%20rgb(255,%20255,%20255);%20display:%20flex;%20flex-direction:%20column%7D%0A.css-1ibuxvk-DockBody%20%7Bpadding-top:%200px;%20padding-left:%200px;%20padding-right:%200px;%20padding-bottom:%200px;%20flex-grow:%201;%20flex-shrink:%201;%20flex-basis:%200%25;%20box-sizing:%20border-box;%20position:%20relative;%20z-index:%200;%20overflow-x:%20hidden;%20overflow-y:%20hidden%7D%0A.css-14zuz97%20%7Bbackground-color:%20rgba(0,%200,%200,%200.2);%20background-position-x:%200%25;%20background-position-y:%200%25;%20background-repeat:%20repeat;%20background-attachment:%20scroll;%20background-image:%20none;%20background-size:%20auto;%20background-origin:%20padding-box;%20z-index:%201;%20box-sizing:%20border-box;%20background-clip:%20padding-box%7D%0A.css-14zuz97.vertical%20%7Bwidth:%2012px;%20margin-top:%200px;%20margin-right:%20-6px;%20margin-bottom:%200px;%20margin-left:%20-6px;%20border-left-color:%20transparent;%20border-left-style:%20solid;%20border-left-width:%205.5px;%20border-right-color:%20transparent;%20border-right-style:%20solid;%20border-right-width:%205.5px;%20cursor:%20col-resize%7D%0A.css-14zuz97.disabled%20%7Bdisplay:%20none%7D%0A.css-1lrljg1-EditorSplitPane%20%7Bbackground-color:%20rgb(255,%20255,%20255);%20flex-grow:%201;%20flex-shrink:%201;%20flex-basis:%200%25;%20margin-right:%200px;%20position:%20relative%7D%0A.css-15fz3t7-EditorSplitPane%20%7Bposition:%20absolute;%20top:%200px;%20bottom:%200px;%20left:%200px;%20right:%200px;%20display:%20flex;%20flex-direction:%20column%7D%0A.css-1ouk3zc-EditorSplitPane%20%7Bbackground-color:%20rgb(255,%20255,%20255);%20flex-grow:%201;%20flex-shrink:%201;%20flex-basis:%200%25%7D%0A.css-1jjvrwi-EditorSplitPane%20%7Bposition:%20absolute;%20top:%200px;%20bottom:%200px;%20left:%200px;%20right:%200px;%20overflow-y:%20auto%7D%0A.css-1tklk88-FeaturedValues%20%7Bdisplay:%20flex;%20flex-direction:%20column;%20height:%20100%25;%20width:%20100%25;%20overflow-x:%20hidden;%20overflow-y:%20hidden%7D%0A.css-btdmby-FeaturedValues%20%7Boverflow-x:%20auto;%20overflow-y:%20auto;%20height:%20100%25%7D%0A.css-1g4yje1%20%7Bdisplay:%20flex;%20flex-direction:%20column;%20height:%20100%25%7D%0A.css-12fscm0%20%7Bdisplay:%20flex;%20flex-wrap:%20wrap;%20flex-direction:%20column;%20height:%20100%25%7D%0A.css-2imjyh%20%7Bdisplay:%20flex;%20flex-wrap:%20wrap%7D%0A.css-xie5j%20%7Bwidth:%20min-content;%20padding-right:%2015px%7D%0A.css-9v4jgi-featuredValue%20%7Bmargin-top:%206px;%20padding-top:%204px;%20padding-right:%206px;%20padding-bottom:%204px;%20padding-left:%206px%7D%0A.css-13etuq-TextField%20%7Bposition:%20relative;%20font-size:%2014px;%20line-height:%2022px;%20font-weight:%20600;%20color:%20rgba(0,%200,%200,%200.65)%7D%0A.css-g6zut1%20%7Bvisibility:%20hidden;%20position:%20fixed;%20white-space:%20pre;%20left:%20-1000px;%20top:%20-1000px%7D%0A.css-13f7ta7-featuredValue%20%7Bdisplay:%20flex;%20-moz-box-align:%20center;%20align-items:%20center%7D%0A.css-8y022r-featuredValue%20%7Bcolor:%20rgba(0,%200,%200,%200.65);%20font-size:%2030px;%20white-space:%20nowrap;%20border-top-left-radius:%204px;%20border-top-right-radius:%204px;%20border-bottom-right-radius:%204px;%20border-bottom-left-radius:%204px;%20width:%20min-content;%20line-height:%2038px;%20overflow-x:%20hidden;%20overflow-y:%20hidden;%20text-overflow:%20ellipsis;%20padding-top:%203px;%20padding-right:%203px;%20padding-bottom:%203px;%20padding-left:%203px%7D%0A.css-qgb5l6-ComparisonValue%20%7Bfont-size:%2024px;%20line-height:%2038px;%20border-left-color:%20rgb(233,%20233,%20233);%20border-left-style:%20solid;%20border-left-width:%202px;%20margin-left:%205px;%20color:%20rgb(245,%2034,%2045);%20padding-top:%205px;%20padding-right:%205px;%20padding-bottom:%205px;%20padding-left:%205px%7D%0A.ant-root%20html,%20.ant-root%20%7Bwidth:%20100%25;%20height:%20100%25%7D%0A.ant-root%20*,%20.ant-root%20::before,%20.ant-root%20::after%20%7Bbox-sizing:%20border-box%7D%0A.ant-root%20%7Bmargin-top:%200px;%20margin-right:%200px;%20margin-bottom:%200px;%20margin-left:%200px;%20color:%20rgba(0,%200,%200,%200.65);%20font-size:%2014px;%20font-family:%20-apple-system,%20BlinkMacSystemFont,%20%22Segoe%20UI%22,%20%22PingFang%20SC%22,%20%22Hiragino%20Sans%20GB%22,%20%22Microsoft%20YaHei%22,%20%22Helvetica%20Neue%22,%20Helvetica,%20Arial,%20sans-serif,%20%22Apple%20Color%20Emoji%22,%20%22Segoe%20UI%20Emoji%22,%20%22Segoe%20UI%20Symbol%22;%20font-variant-caps:%20normal;%20font-variant-alternates:%20normal;%20font-variant-east-asian:%20normal;%20font-variant-ligatures:%20normal;%20font-variant-numeric:%20tabular-nums;%20font-variant-position:%20normal;%20line-height:%201.5;%20background-color:%20rgb(255,%20255,%20255);%20font-feature-settings:%20%22tnum%22;%20--antd-wave-shadow-color:%20undefined%7D%0A.ant-root%20p%20%7Bmargin-top:%200px;%20margin-bottom:%201em%7D%0A.ant-root%20.anticon%20%7Bdisplay:%20inline-block;%20color:%20inherit;%20font-style:%20normal;%20line-height:%200;%20text-align:%20center;%20text-transform:%20none;%20vertical-align:%20-0.125em;%20text-rendering:%20optimizelegibility%7D%0A.ant-root%20.ant-input%20%7Bbox-sizing:%20border-box;%20margin-top:%200px;%20margin-right:%200px;%20margin-bottom:%200px;%20margin-left:%200px;%20font-variant-caps:%20normal;%20font-variant-alternates:%20normal;%20font-variant-east-asian:%20normal;%20font-variant-ligatures:%20normal;%20font-variant-numeric:%20tabular-nums;%20font-variant-position:%20normal;%20list-style-position:%20outside;%20list-style-image:%20none;%20list-style-type:%20none;%20font-feature-settings:%20%22tnum%22;%20position:%20relative;%20display:%20inline-block;%20width:%20100%25;%20height:%2032px;%20padding-top:%204px;%20padding-right:%2011px;%20padding-bottom:%204px;%20padding-left:%2011px;%20color:%20rgba(0,%200,%200,%200.65);%20font-size:%2014px;%20line-height:%2032px;%20background-color:%20rgb(255,%20255,%20255);%20background-image:%20none;%20border-top-color:%20rgb(217,%20217,%20217);%20border-top-style:%20solid;%20border-top-width:%201px;%20border-right-color:%20rgb(217,%20217,%20217);%20border-right-style:%20solid;%20border-right-width:%201px;%20border-bottom-color:%20rgb(217,%20217,%20217);%20border-bottom-style:%20solid;%20border-bottom-width:%201px;%20border-left-color:%20rgb(217,%20217,%20217);%20border-left-style:%20solid;%20border-left-width:%201px;%20border-image-outset:%200;%20border-image-repeat:%20stretch;%20border-image-slice:%20100%25;%20border-image-source:%20none;%20border-image-width:%201;%20border-top-left-radius:%204px;%20border-top-right-radius:%204px;%20border-bottom-right-radius:%204px;%20border-bottom-left-radius:%204px;%20transition-property:%20all;%20transition-duration:%200.3s;%20transition-timing-function:%20ease;%20transition-delay:%200s%7D%0A.ant-root%20.ant-typography%20%7Bcolor:%20rgba(0,%200,%200,%200.65)%7D%0A.css-1sxolix-Widget%20%7Bheight:%20100%25%7D%0A.css-1sxolix-Widget%20.ant-root:not(.atoti-widget-chooser)%20%7Bbox-shadow:%20none%7D%3C/style%3E%0A%20%20%20%20%20%20%20%20%3Cdiv%20xmlns=%22http://www.w3.org/1999/xhtml%22%20style=%22height:%20360px;%20width:%201308px%22%3E%0A%20%20%20%20%20%20%20%20%20%20%3Cdiv%20xmlns=%22http://www.w3.org/1999/xhtml%22%20class=%22css-1sxolix-Widget%22%3E%3Cdiv%20class=%22ant-root%20css-xsa55j-dock%22%3E%3Cdiv%20class=%22css-1ibuxvk-DockBody%22%3E%3Cdiv%20class=%22SplitPane%20%20vertical%20disabled%22%20style=%22display:%20flex;%20flex:%201%201%200%25;%20height:%20100%25;%20position:%20relative;%20outline:%20currentcolor%20none%20medium;%20overflow:%20hidden;%20user-select:%20text;%20flex-direction:%20row;%20left:%200px;%20right:%200px;%22%3E%3Cdiv%20class=%22Pane%20vertical%20Pane1%20%20%22%20style=%22flex:%201%201%200%25;%20position:%20relative;%20outline:%20currentcolor%20none%20medium;%20display:%20flex;%20background-color:%20rgb(255,%20255,%20255);%22%3E%3Cdiv%20class=%22css-1lrljg1-EditorSplitPane%22%3E%3Cdiv%20class=%22css-15fz3t7-EditorSplitPane%22%3E%3Cdiv%20class=%22css-1tklk88-FeaturedValues%22%3E%3Cdiv%20class=%22css-btdmby-FeaturedValues%22%3E%3Cdiv%20class=%22css-1g4yje1%22%3E%3Cdiv%20class=%22css-12fscm0%22%3E%3Cdiv%20class=%22css-2imjyh%22%3E%3Cdiv%20class=%22css-xie5j%22%3E%3Cdiv%20class=%22css-9v4jgi-featuredValue%22%3E%3Cdiv%3E%3Cdiv%20class=%22css-13etuq-TextField%22%3E%3Cp%20class=%22ant-input%22%20style=%22font:%20inherit;%20height:%20initial;%20cursor:%20text;%20padding:%200px;%20border-radius:%204px;%20background-color:%20rgb(255,%20255,%20255);%20color:%20inherit;%20text-transform:%20none;%20border:%201px%20solid%20transparent;%20box-sizing:%20content-box;%20min-width:%20100%25;%20max-width:%20100%25;%20text-overflow:%20ellipsis;%20letter-spacing:%20inherit;%20transition:%20none%200s%20ease%200s;%20margin:%200px;%20width:%20307px;%22%3ETotal%20Theoretical%20PnL%20%20Curve%20Inversion%20Stress%3C/p%3E%3Cdiv%3E%3Cspan%20class=%22css-g6zut1%22%3ETotal%20Theoretical%20PnL%20%20Curve%20Inversion%20Stress%3C/span%3E%3Cspan%20class=%22css-g6zut1%22%3E%3C/span%3E%3C/div%3E%3C/div%3E%3C/div%3E%3Cdiv%20class=%22css-13f7ta7-featuredValue%22%3E%3Cdiv%20class=%22css-8y022r-featuredValue%22%3E-151,600.00%3C/div%3E%3Cdiv%20class=%22css-qgb5l6-ComparisonValue%22%3E%3Cdiv%3E72%25%3C/div%3E%3C/div%3E%3Ci%20aria-label=%22icon:%20arrow-down%22%20style=%22color:%20rgb(245,%2034,%2045);%22%20class=%22anticon%20anticon-arrow-down%22%3E%3C/i%3E%3C/div%3E%3Cspan%20class=%22ant-typography%22%20style=%22font-size:%2012px;%20line-height:%2020px;%20font-weight:%20400;%22%3E-88,000.00%20%20Curve%20Inversion%3C/span%3E%3C/div%3E%3C/div%3E%3C/div%3E%3Cdiv%20class=%22css-2imjyh%22%3E%3Cdiv%20class=%22css-xie5j%22%3E%3Cdiv%20class=%22css-9v4jgi-featuredValue%22%3E%3Cdiv%3E%3Cdiv%20class=%22css-13etuq-TextField%22%3E%3Cp%20class=%22ant-input%22%20style=%22font:%20inherit;%20height:%20initial;%20cursor:%20text;%20padding:%200px;%20border-radius:%204px;%20background-color:%20rgb(255,%20255,%20255);%20color:%20inherit;%20text-transform:%20none;%20border:%201px%20solid%20transparent;%20box-sizing:%20content-box;%20min-width:%20100%25;%20max-width:%20100%25;%20text-overflow:%20ellipsis;%20letter-spacing:%20inherit;%20transition:%20none%200s%20ease%200s;%20margin:%200px;%20width:%20317px;%22%3EApollo%20Theoretical%20PnL%20%20Curve%20Inversion%20Stress%3C/p%3E%3Cdiv%3E%3Cspan%20class=%22css-g6zut1%22%3EApollo%20Theoretical%20PnL%20%20Curve%20Inversion%20Stress%3C/span%3E%3Cspan%20class=%22css-g6zut1%22%3E%3C/span%3E%3C/div%3E%3C/div%3E%3C/div%3E%3Cdiv%20class=%22css-13f7ta7-featuredValue%22%3E%3Cdiv%20class=%22css-8y022r-featuredValue%22%3E-17,400.00%3C/div%3E%3Cdiv%20class=%22css-qgb5l6-ComparisonValue%22%3E%3Cdiv%3E71%25%3C/div%3E%3C/div%3E%3Ci%20aria-label=%22icon:%20arrow-down%22%20style=%22color:%20rgb(245,%2034,%2045);%22%20class=%22anticon%20anticon-arrow-down%22%3E%3C/i%3E%3C/div%3E%3Cspan%20class=%22ant-typography%22%20style=%22font-size:%2012px;%20line-height:%2020px;%20font-weight:%20400;%22%3E-10,200.00%20%20Curve%20Inversion%3C/span%3E%3C/div%3E%3C/div%3E%3C/div%3E%3Cdiv%20class=%22css-2imjyh%22%3E%3Cdiv%20class=%22css-xie5j%22%3E%3Cdiv%20class=%22css-9v4jgi-featuredValue%22%3E%3Cdiv%3E%3Cdiv%20class=%22css-13etuq-TextField%22%3E%3Cp%20class=%22ant-input%22%20style=%22font:%20inherit;%20height:%20initial;%20cursor:%20text;%20padding:%200px;%20border-radius:%204px;%20background-color:%20rgb(255,%20255,%20255);%20color:%20inherit;%20text-transform:%20none;%20border:%201px%20solid%20transparent;%20box-sizing:%20content-box;%20min-width:%20100%25;%20max-width:%20100%25;%20text-overflow:%20ellipsis;%20letter-spacing:%20inherit;%20transition:%20none%200s%20ease%200s;%20margin:%200px;%20width:%20307px;%22%3EAtlas%20Theoretical%20PnL%20%20Curve%20Inversion%20Stress%3C/p%3E%3Cdiv%3E%3Cspan%20class=%22css-g6zut1%22%3EAtlas%20Theoretical%20PnL%20%20Curve%20Inversion%20Stress%3C/span%3E%3Cspan%20class=%22css-g6zut1%22%3E%3C/span%3E%3C/div%3E%3C/div%3E%3C/div%3E%3Cdiv%20class=%22css-13f7ta7-featuredValue%22%3E%3Cdiv%20class=%22css-8y022r-featuredValue%22%3E-19,000.00%3C/div%3E%3Cdiv%20class=%22css-qgb5l6-ComparisonValue%22%3E%3Cdiv%3E70%25%3C/div%3E%3C/div%3E%3Ci%20aria-label=%22icon:%20arrow-down%22%20style=%22color:%20rgb(245,%2034,%2045);%22%20class=%22anticon%20anticon-arrow-down%22%3E%3C/i%3E%3C/div%3E%3Cspan%20class=%22ant-typography%22%20style=%22font-size:%2012px;%20line-height:%2020px;%20font-weight:%20400;%22%3E-11,200.00%20%20Curve%20Inversion%3C/span%3E%3C/div%3E%3C/div%3E%3C/div%3E%3Cdiv%20class=%22css-2imjyh%22%3E%3Cdiv%20class=%22css-xie5j%22%3E%3Cdiv%20class=%22css-9v4jgi-featuredValue%22%3E%3Cdiv%3E%3Cdiv%20class=%22css-13etuq-TextField%22%3E%3Cp%20class=%22ant-input%22%20style=%22font:%20inherit;%20height:%20initial;%20cursor:%20text;%20padding:%200px;%20border-radius:%204px;%20background-color:%20rgb(255,%20255,%20255);%20color:%20inherit;%20text-transform:%20none;%20border:%201px%20solid%20rgb(233,%20233,%20233);%20box-sizing:%20content-box;%20min-width:%20100%25;%20max-width:%20100%25;%20text-overflow:%20ellipsis;%20letter-spacing:%20inherit;%20transition:%20none%200s%20ease%200s;%20margin:%200px;%20width:%20330px;%22%3EChronos%20Theoretical%20PnL%20%20Curve%20Inversion%20Stress%3C/p%3E%3Cdiv%3E%3Cspan%20class=%22css-g6zut1%22%3EChronos%20Theoretical%20PnL%20%20Curve%20Inversion%20Stress%3C/span%3E%3Cspan%20class=%22css-g6zut1%22%3ETitle%3C/span%3E%3C/div%3E%3C/div%3E%3C/div%3E%3Cdiv%20class=%22css-13f7ta7-featuredValue%22%3E%3Cdiv%20class=%22css-8y022r-featuredValue%22%3E-14,200.00%3C/div%3E%3Cdiv%20class=%22css-qgb5l6-ComparisonValue%22%3E%3Cdiv%3E73%25%3C/div%3E%3C/div%3E%3Ci%20aria-label=%22icon:%20arrow-down%22%20style=%22color:%20rgb(245,%2034,%2045);%22%20class=%22anticon%20anticon-arrow-down%22%3E%3C/i%3E%3C/div%3E%3Cspan%20class=%22ant-typography%22%20style=%22font-size:%2012px;%20line-height:%2020px;%20font-weight:%20400;%22%3E-8,200.00%20%20Curve%20Inversion%3C/span%3E%3C/div%3E%3C/div%3E%3C/div%3E%3Cdiv%20class=%22css-2imjyh%22%3E%3Cdiv%20class=%22css-xie5j%22%3E%3Cdiv%20class=%22css-9v4jgi-featuredValue%22%3E%3Cdiv%3E%3Cdiv%20class=%22css-13etuq-TextField%22%3E%3Cp%20class=%22ant-input%22%20style=%22font:%20inherit;%20height:%20initial;%20cursor:%20text;%20padding:%200px;%20border-radius:%204px;%20background-color:%20rgb(255,%20255,%20255);%20color:%20inherit;%20text-transform:%20none;%20border:%201px%20solid%20transparent;%20box-sizing:%20content-box;%20min-width:%20100%25;%20max-width:%20100%25;%20text-overflow:%20ellipsis;%20letter-spacing:%20inherit;%20transition:%20none%200s%20ease%200s;%20margin:%200px;%20width:%20305px;%22%3EHera%20Theoretical%20PnL%20%20Curve%20Inversion%20Stress%3C/p%3E%3Cdiv%3E%3Cspan%20class=%22css-g6zut1%22%3EHera%20Theoretical%20PnL%20%20Curve%20Inversion%20Stress%3C/span%3E%3Cspan%20class=%22css-g6zut1%22%3E%3C/span%3E%3C/div%3E%3C/div%3E%3C/div%3E%3Cdiv%20class=%22css-13f7ta7-featuredValue%22%3E%3Cdiv%20class=%22css-8y022r-featuredValue%22%3E-11,000.00%3C/div%3E%3Cdiv%20class=%22css-qgb5l6-ComparisonValue%22%3E%3Cdiv%3E77%25%3C/div%3E%3C/div%3E%3Ci%20aria-label=%22icon:%20arrow-down%22%20style=%22color:%20rgb(245,%2034,%2045);%22%20class=%22anticon%20anticon-arrow-down%22%3E%3C/i%3E%3C/div%3E%3Cspan%20class=%22ant-typography%22%20style=%22font-size:%2012px;%20line-height:%2020px;%20font-weight:%20400;%22%3E-6,200.00%20%20Curve%20Inversion%3C/span%3E%3C/div%3E%3C/div%3E%3C/div%3E%3Cdiv%20class=%22css-2imjyh%22%3E%3Cdiv%20class=%22css-xie5j%22%3E%3Cdiv%20class=%22css-9v4jgi-featuredValue%22%3E%3Cdiv%3E%3Cdiv%20class=%22css-13etuq-TextField%22%3E%3Cp%20class=%22ant-input%22%20style=%22font:%20inherit;%20height:%20initial;%20cursor:%20text;%20padding:%200px;%20border-radius:%204px;%20background-color:%20rgb(255,%20255,%20255);%20color:%20inherit;%20text-transform:%20none;%20border:%201px%20solid%20rgb(233,%20233,%20233);%20box-sizing:%20content-box;%20min-width:%20100%25;%20max-width:%20100%25;%20text-overflow:%20ellipsis;%20letter-spacing:%20inherit;%20transition:%20none%200s%20ease%200s;%20margin:%200px;%20width:%20326px;%22%3EHermes%20Theoretical%20PnL%20%20Curve%20Inversion%20Stress%3C/p%3E%3Cdiv%3E%3Cspan%20class=%22css-g6zut1%22%3EHermes%20Theoretical%20PnL%20%20Curve%20Inversion%20Stress%3C/span%3E%3Cspan%20class=%22css-g6zut1%22%3ETitle%3C/span%3E%3C/div%3E%3C/div%3E%3C/div%3E%3Cdiv%20class=%22css-13f7ta7-featuredValue%22%3E%3Cdiv%20class=%22css-8y022r-featuredValue%22%3E-12,600.00%3C/div%3E%3Cdiv%20class=%22css-qgb5l6-ComparisonValue%22%3E%3Cdiv%3E75%25%3C/div%3E%3C/div%3E%3Ci%20aria-label=%22icon:%20arrow-down%22%20style=%22color:%20rgb(245,%2034,%2045);%22%20class=%22anticon%20anticon-arrow-down%22%3E%3C/i%3E%3C/div%3E%3Cspan%20class=%22ant-typography%22%20style=%22font-size:%2012px;%20line-height:%2020px;%20font-weight:%20400;%22%3E-7,200.00%20%20Curve%20Inversion%3C/span%3E%3C/div%3E%3C/div%3E%3C/div%3E%3Cdiv%20class=%22css-2imjyh%22%3E%3Cdiv%20class=%22css-xie5j%22%3E%3Cdiv%20class=%22css-9v4jgi-featuredValue%22%3E%3Cdiv%3E%3Cdiv%20class=%22css-13etuq-TextField%22%3E%3Cp%20class=%22ant-input%22%20style=%22font:%20inherit;%20height:%20initial;%20cursor:%20text;%20padding:%200px;%20border-radius:%204px;%20background-color:%20rgb(255,%20255,%20255);%20color:%20inherit;%20text-transform:%20none;%20border:%201px%20solid%20rgb(233,%20233,%20233);%20box-sizing:%20content-box;%20min-width:%20100%25;%20max-width:%20100%25;%20text-overflow:%20ellipsis;%20letter-spacing:%20inherit;%20transition:%20none%200s%20ease%200s;%20margin:%200px;%20width:%20325px;%22%3EHypnos%20Theoretical%20PnL%20%20Curve%20Inversion%20Stress%3C/p%3E%3Cdiv%3E%3Cspan%20class=%22css-g6zut1%22%3EHypnos%20Theoretical%20PnL%20%20Curve%20Inversion%20Stress%3C/span%3E%3Cspan%20class=%22css-g6zut1%22%3ETitle%3C/span%3E%3C/div%3E%3C/div%3E%3C/div%3E%3Cdiv%20class=%22css-13f7ta7-featuredValue%22%3E%3Cdiv%20class=%22css-8y022r-featuredValue%22%3E-19,000.00%3C/div%3E%3Cdiv%20class=%22css-qgb5l6-ComparisonValue%22%3E%3Cdiv%3E70%25%3C/div%3E%3C/div%3E%3Ci%20aria-label=%22icon:%20arrow-down%22%20style=%22color:%20rgb(245,%2034,%2045);%22%20class=%22anticon%20anticon-arrow-down%22%3E%3C/i%3E%3C/div%3E%3Cspan%20class=%22ant-typography%22%20style=%22font-size:%2012px;%20line-height:%2020px;%20font-weight:%20400;%22%3E-11,200.00%20%20Curve%20Inversion%3C/span%3E%3C/div%3E%3C/div%3E%3C/div%3E%3Cdiv%20class=%22css-2imjyh%22%3E%3Cdiv%20class=%22css-xie5j%22%3E%3Cdiv%20class=%22css-9v4jgi-featuredValue%22%3E%3Cdiv%3E%3Cdiv%20class=%22css-13etuq-TextField%22%3E%3Cp%20class=%22ant-input%22%20style=%22font:%20inherit;%20height:%20initial;%20cursor:%20text;%20padding:%200px;%20border-radius:%204px;%20background-color:%20rgb(255,%20255,%20255);%20color:%20inherit;%20text-transform:%20none;%20border:%201px%20solid%20transparent;%20box-sizing:%20content-box;%20min-width:%20100%25;%20max-width:%20100%25;%20text-overflow:%20ellipsis;%20letter-spacing:%20inherit;%20transition:%20none%200s%20ease%200s;%20margin:%200px;%20width:%20294px;%22%3EIris%20Theoretical%20PnL%20%20Curve%20Inversion%20Stress%3C/p%3E%3Cdiv%3E%3Cspan%20class=%22css-g6zut1%22%3EIris%20Theoretical%20PnL%20%20Curve%20Inversion%20Stress%3C/span%3E%3Cspan%20class=%22css-g6zut1%22%3E%3C/span%3E%3C/div%3E%3C/div%3E%3C/div%3E%3Cdiv%20class=%22css-13f7ta7-featuredValue%22%3E%3Cdiv%20class=%22css-8y022r-featuredValue%22%3E-15,800.00%3C/div%3E%3Cdiv%20class=%22css-qgb5l6-ComparisonValue%22%3E%3Cdiv%3E72%25%3C/div%3E%3C/div%3E%3Ci%20aria-label=%22icon:%20arrow-down%22%20style=%22color:%20rgb(245,%2034,%2045);%22%20class=%22anticon%20anticon-arrow-down%22%3E%3C/i%3E%3C/div%3E%3Cspan%20class=%22ant-typography%22%20style=%22font-size:%2012px;%20line-height:%2020px;%20font-weight:%20400;%22%3E-9,200.00%20%20Curve%20Inversion%3C/span%3E%3C/div%3E%3C/div%3E%3C/div%3E%3Cdiv%20class=%22css-2imjyh%22%3E%3Cdiv%20class=%22css-xie5j%22%3E%3Cdiv%20class=%22css-9v4jgi-featuredValue%22%3E%3Cdiv%3E%3Cdiv%20class=%22css-13etuq-TextField%22%3E%3Cp%20class=%22ant-input%22%20style=%22font:%20inherit;%20height:%20initial;%20cursor:%20text;%20padding:%200px;%20border-radius:%204px;%20background-color:%20rgb(255,%20255,%20255);%20color:%20inherit;%20text-transform:%20none;%20border:%201px%20solid%20transparent;%20box-sizing:%20content-box;%20min-width:%20100%25;%20max-width:%20100%25;%20text-overflow:%20ellipsis;%20letter-spacing:%20inherit;%20transition:%20none%200s%20ease%200s;%20margin:%200px;%20width:%20317px;%22%3EKratos%20Theoretical%20PnL%20%20Curve%20Inversion%20Stress%3C/p%3E%3Cdiv%3E%3Cspan%20class=%22css-g6zut1%22%3EKratos%20Theoretical%20PnL%20%20Curve%20Inversion%20Stress%3C/span%3E%3Cspan%20class=%22css-g6zut1%22%3E%3C/span%3E%3C/div%3E%3C/div%3E%3C/div%3E%3Cdiv%20class=%22css-13f7ta7-featuredValue%22%3E%3Cdiv%20class=%22css-8y022r-featuredValue%22%3E-14,200.00%3C/div%3E%3Cdiv%20class=%22css-qgb5l6-ComparisonValue%22%3E%3Cdiv%3E73%25%3C/div%3E%3C/div%3E%3Ci%20aria-label=%22icon:%20arrow-down%22%20style=%22color:%20rgb(245,%2034,%2045);%22%20class=%22anticon%20anticon-arrow-down%22%3E%3C/i%3E%3C/div%3E%3Cspan%20class=%22ant-typography%22%20style=%22font-size:%2012px;%20line-height:%2020px;%20font-weight:%20400;%22%3E-8,200.00%20%20Curve%20Inversion%3C/span%3E%3C/div%3E%3C/div%3E%3C/div%3E%3Cdiv%20class=%22css-2imjyh%22%3E%3Cdiv%20class=%22css-xie5j%22%3E%3Cdiv%20class=%22css-9v4jgi-featuredValue%22%3E%3Cdiv%3E%3Cdiv%20class=%22css-13etuq-TextField%22%3E%3Cp%20class=%22ant-input%22%20style=%22font:%20inherit;%20height:%20initial;%20cursor:%20text;%20padding:%200px;%20border-radius:%204px;%20background-color:%20rgb(255,%20255,%20255);%20color:%20inherit;%20text-transform:%20none;%20border:%201px%20solid%20transparent;%20box-sizing:%20content-box;%20min-width:%20100%25;%20max-width:%20100%25;%20text-overflow:%20ellipsis;%20letter-spacing:%20inherit;%20transition:%20none%200s%20ease%200s;%20margin:%200px;%20width:%20336px;%22%3EPoseidon%20Theoretical%20PnL%20%20Curve%20Inversion%20Stress%3C/p%3E%3Cdiv%3E%3Cspan%20class=%22css-g6zut1%22%3EPoseidon%20Theoretical%20PnL%20%20Curve%20Inversion%20Stress%3C/span%3E%3Cspan%20class=%22css-g6zut1%22%3E%3C/span%3E%3C/div%3E%3C/div%3E%3C/div%3E%3Cdiv%20class=%22css-13f7ta7-featuredValue%22%3E%3Cdiv%20class=%22css-8y022r-featuredValue%22%3E-11,000.00%3C/div%3E%3Cdiv%20class=%22css-qgb5l6-ComparisonValue%22%3E%3Cdiv%3E77%25%3C/div%3E%3C/div%3E%3Ci%20aria-label=%22icon:%20arrow-down%22%20style=%22color:%20rgb(245,%2034,%2045);%22%20class=%22anticon%20anticon-arrow-down%22%3E%3C/i%3E%3C/div%3E%3Cspan%20class=%22ant-typography%22%20style=%22font-size:%2012px;%20line-height:%2020px;%20font-weight:%20400;%22%3E-6,200.00%20%20Curve%20Inversion%3C/span%3E%3C/div%3E%3C/div%3E%3C/div%3E%3Cdiv%20class=%22css-2imjyh%22%3E%3Cdiv%20class=%22css-xie5j%22%3E%3Cdiv%20class=%22css-9v4jgi-featuredValue%22%3E%3Cdiv%3E%3Cdiv%20class=%22css-13etuq-TextField%22%3E%3Cp%20class=%22ant-input%22%20style=%22font:%20inherit;%20height:%20initial;%20cursor:%20text;%20padding:%200px;%20border-radius:%204px;%20background-color:%20rgb(255,%20255,%20255);%20color:%20inherit;%20text-transform:%20none;%20border:%201px%20solid%20transparent;%20box-sizing:%20content-box;%20min-width:%20100%25;%20max-width:%20100%25;%20text-overflow:%20ellipsis;%20letter-spacing:%20inherit;%20transition:%20none%200s%20ease%200s;%20margin:%200px;%20width:%20305px;%22%3EZeus%20Theoretical%20PnL%20%20Curve%20Inversion%20Stress%3C/p%3E%3Cdiv%3E%3Cspan%20class=%22css-g6zut1%22%3EZeus%20Theoretical%20PnL%20%20Curve%20Inversion%20Stress%3C/span%3E%3Cspan%20class=%22css-g6zut1%22%3E%3C/span%3E%3C/div%3E%3C/div%3E%3C/div%3E%3Cdiv%20class=%22css-13f7ta7-featuredValue%22%3E%3Cdiv%20class=%22css-8y022r-featuredValue%22%3E-17,400.00%3C/div%3E%3Cdiv%20class=%22css-qgb5l6-ComparisonValue%22%3E%3Cdiv%3E71%25%3C/div%3E%3C/div%3E%3Ci%20aria-label=%22icon:%20arrow-down%22%20style=%22color:%20rgb(245,%2034,%2045);%22%20class=%22anticon%20anticon-arrow-down%22%3E%3C/i%3E%3C/div%3E%3Cspan%20class=%22ant-typography%22%20style=%22font-size:%2012px;%20line-height:%2020px;%20font-weight:%20400;%22%3E-10,200.00%20%20Curve%20Inversion%3C/span%3E%3C/div%3E%3C/div%3E%3C/div%3E%3C/div%3E%3C/div%3E%3C/div%3E%3C/div%3E%3C/div%3E%3C/div%3E%3C/div%3E%3Cspan%20role=%22presentation%22%20class=%22css-14zuz97%20Resizer%20vertical%20disabled%22%3E%3C/span%3E%3Cdiv%20class=%22Pane%20vertical%20Pane2%20%20%22%20style=%22flex:%200%200%20auto;%20position:%20relative;%20outline:%20currentcolor%20none%20medium;%20width:%200px;%20display:%20flex;%20background-color:%20rgb(255,%20255,%20255);%20overflow:%20auto;%22%3E%3Cdiv%20class=%22css-1ouk3zc-EditorSplitPane%22%3E%3Cdiv%20class=%22css-1jjvrwi-EditorSplitPane%22%3E%3C/div%3E%3C/div%3E%3C/div%3E%3C/div%3E%3C/div%3E%3C/div%3E%3C/div%3E%0A%20%20%20%20%20%20%20%20%3C/div%3E%0A%20%20%20%20%20%20%3C/foreignObject%3E%0A%20%20%20%20%3C/svg%3E\">"
      ],
      "text/plain": [
       "Open the notebook in JupyterLab with the atoti extension installed and enabled to see this widget."
      ]
     },
     "metadata": {},
     "output_type": "display_data"
    }
   ],
   "source": [
    "position_sensitivity_cube.visualize(\"Scenarios Comparison\")"
   ]
  },
  {
   "cell_type": "markdown",
   "metadata": {},
   "source": [
    "### Build Your Standalone App using atoti UI:\n",
    "\n",
    "* Publish Yield Curve and PnL Views\n",
    "* Add Page Quick filters\n",
    "* Compare scenarios\n",
    "* Save Dashboards  \n",
    "  \n",
    "You can access atoti UI with the link below:"
   ]
  },
  {
   "cell_type": "code",
   "execution_count": 49,
   "metadata": {},
   "outputs": [
    {
     "data": {
      "text/plain": [
       "'http://localhost:37615'"
      ]
     },
     "execution_count": 49,
     "metadata": {},
     "output_type": "execute_result"
    }
   ],
   "source": [
    "session.url"
   ]
  },
  {
   "cell_type": "markdown",
   "metadata": {},
   "source": [
    "We can publish the visualizations above as widgets to atoti UI. Click on *Open App* when you have published all the widgets of interest.  \n",
    "\n",
    "<img src=\"https://data.atoti.io/notebooks/pnl-explained/publish_widget.gif\" alt=\"publish widget\" style=\"zoom:40%;\" />"
   ]
  },
  {
   "cell_type": "markdown",
   "metadata": {},
   "source": [
    "We can quickly put together a PnL Explained dashboard.  \n",
    "\n",
    "<img src=\"https://data.atoti.io/notebooks/pnl-explained/dashboard_design.gif\" alt=\"dashboard design\" style=\"zoom:40%;\" />  \n",
    "  \n",
    "Access the above dashboard with the link provided below:"
   ]
  },
  {
   "cell_type": "code",
   "execution_count": 50,
   "metadata": {},
   "outputs": [
    {
     "data": {
      "text/plain": [
       "'http://localhost:37615/#/dashboard/4c8'"
      ]
     },
     "execution_count": 50,
     "metadata": {},
     "output_type": "execute_result"
    }
   ],
   "source": [
    "f\"{session.url}/#/dashboard/4c8\""
   ]
  },
  {
   "cell_type": "code",
   "execution_count": null,
   "metadata": {},
   "outputs": [],
   "source": []
  }
 ],
 "metadata": {
  "kernelspec": {
   "display_name": "Python 3",
   "language": "python",
   "name": "python3"
  },
  "language_info": {
   "codemirror_mode": {
    "name": "ipython",
    "version": 3
   },
   "file_extension": ".py",
   "mimetype": "text/x-python",
   "name": "python",
   "nbconvert_exporter": "python",
   "pygments_lexer": "ipython3",
   "version": "3.8.5"
  }
 },
 "nbformat": 4,
 "nbformat_minor": 4
}
