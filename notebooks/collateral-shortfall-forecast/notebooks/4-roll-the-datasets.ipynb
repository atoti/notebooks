{
 "cells": [
  {
   "cell_type": "markdown",
   "id": "4054057c",
   "metadata": {},
   "source": [
    "# Feature Extraction\n",
    "\n",
    "### In this notebook, we roll the datasets for the later features extraction.\n",
    "\n",
    "### To achieve this, we use the tsfresh library."
   ]
  },
  {
   "cell_type": "markdown",
   "id": "87fd1fff",
   "metadata": {},
   "source": [
    "### Import packages"
   ]
  },
  {
   "cell_type": "code",
   "execution_count": 1,
   "id": "3422a8fb",
   "metadata": {},
   "outputs": [],
   "source": [
    "%matplotlib inline\n",
    "\n",
    "import os\n",
    "import pandas as pd, numpy as np\n",
    "import random\n",
    "from natsort import natsorted\n",
    "import matplotlib.pylab as plt\n",
    "\n",
    "import datetime\n",
    "from datetime import date, timedelta\n",
    "import time\n",
    "\n",
    "from tsfresh import extract_features, select_features\n",
    "from tsfresh.utilities.dataframe_functions import (\n",
    "    impute,\n",
    "    make_forecasting_frame,\n",
    "    roll_time_series,\n",
    ")\n",
    "from tsfresh.feature_extraction import (\n",
    "    ComprehensiveFCParameters,\n",
    "    EfficientFCParameters,\n",
    "    MinimalFCParameters,\n",
    "    settings,\n",
    ")\n",
    "\n",
    "from sklearn.model_selection import train_test_split\n",
    "\n",
    "from joblib import Parallel, delayed, parallel_backend\n",
    "import multiprocessing\n",
    "\n",
    "import pickle\n",
    "\n",
    "import warnings\n",
    "\n",
    "warnings.filterwarnings(\"ignore\")"
   ]
  },
  {
   "cell_type": "code",
   "execution_count": 2,
   "id": "2d458520",
   "metadata": {},
   "outputs": [
    {
     "name": "stdout",
     "output_type": "stream",
     "text": [
      "Number of available cpus: 16\n",
      "\n",
      "Number of cpus to use: 14\n"
     ]
    }
   ],
   "source": [
    "num_cpus = multiprocessing.cpu_count() - 2\n",
    "\n",
    "print(f\"Number of available cpus: {multiprocessing.cpu_count()}\\n\")\n",
    "print(f\"Number of cpus to use: {num_cpus}\")"
   ]
  },
  {
   "cell_type": "markdown",
   "id": "0d949b7d",
   "metadata": {},
   "source": [
    "### Global variables"
   ]
  },
  {
   "cell_type": "code",
   "execution_count": 3,
   "id": "2782e4ab",
   "metadata": {},
   "outputs": [],
   "source": [
    "DATA = \"../data\"\n",
    "RESULTS = \"../results/rolled-dataset\""
   ]
  },
  {
   "cell_type": "markdown",
   "id": "632f4381-547b-4179-9d9a-8effd520ba19",
   "metadata": {},
   "source": [
    "### Helper functions"
   ]
  },
  {
   "cell_type": "code",
   "execution_count": 4,
   "id": "ebc1916d-de99-4bf1-9bcb-d137a303433e",
   "metadata": {},
   "outputs": [],
   "source": [
    "def create_forecasting_frame(dataframe, col, max_timeshift, rolling_direction):\n",
    "\n",
    "    date_df, _ = make_forecasting_frame(\n",
    "        dataframe[\"Date\"],\n",
    "        kind=\"Date\",\n",
    "        max_timeshift=max_timeshift,\n",
    "        rolling_direction=rolling_direction,\n",
    "    )\n",
    "    value_df, y = make_forecasting_frame(\n",
    "        dataframe[col],\n",
    "        kind=col,\n",
    "        max_timeshift=max_timeshift,\n",
    "        rolling_direction=rolling_direction,\n",
    "    )\n",
    "\n",
    "    X = pd.merge(value_df, date_df, how=\"inner\", on=[\"id\", \"time\"])\n",
    "    X = X.rename(\n",
    "        columns={\"value_x\": \"asset_value\", \"value_y\": \"date\", \"kind_x\": \"asset_code\"}\n",
    "    )\n",
    "    X = X[[\"id\", \"time\", \"asset_value\", \"date\", \"asset_code\"]]\n",
    "\n",
    "    y = pd.DataFrame(y).reset_index()\n",
    "    y = y.rename(columns={\"index\": \"id\", \"value\": \"target\"})\n",
    "\n",
    "    return X, y\n",
    "\n",
    "\n",
    "def create_and_save_dataset(forecasting_frame_tuple, path, horizon, split):\n",
    "\n",
    "    X, y = forecasting_frame_tuple\n",
    "    y_shifted = y.copy()\n",
    "    y_shifted[\"target\"] = y_shifted[\"target\"].shift(1 - horizon)\n",
    "    dataset_name = np.unique(X[\"asset_code\"])[0]\n",
    "\n",
    "    if horizon > 1:\n",
    "        horizon = str(horizon) + \"-days-horizon-\"\n",
    "    else:\n",
    "        horizon = str(horizon) + \"-day-horizon-\"\n",
    "\n",
    "    filename = os.path.join(\n",
    "        path, \"rolled-dataset-\" + horizon + \"-\" + dataset_name + \"-\" + split + \".pkl\"\n",
    "    )\n",
    "\n",
    "    with open(filename, \"wb\") as fOut:\n",
    "        pickle.dump({\"X\": X, \"y\": y_shifted}, fOut, protocol=pickle.HIGHEST_PROTOCOL)"
   ]
  },
  {
   "cell_type": "markdown",
   "id": "1eec6b23",
   "metadata": {
    "tags": []
   },
   "source": [
    "# STEP 0: Load the data"
   ]
  },
  {
   "cell_type": "code",
   "execution_count": 5,
   "id": "86a2cc3a",
   "metadata": {},
   "outputs": [
    {
     "name": "stdout",
     "output_type": "stream",
     "text": [
      "Size of the data: (1491, 9)\n",
      "\n",
      "\n"
     ]
    },
    {
     "data": {
      "text/html": [
       "<div>\n",
       "<style scoped>\n",
       "    .dataframe tbody tr th:only-of-type {\n",
       "        vertical-align: middle;\n",
       "    }\n",
       "\n",
       "    .dataframe tbody tr th {\n",
       "        vertical-align: top;\n",
       "    }\n",
       "\n",
       "    .dataframe thead th {\n",
       "        text-align: right;\n",
       "    }\n",
       "</style>\n",
       "<table border=\"1\" class=\"dataframe\">\n",
       "  <thead>\n",
       "    <tr style=\"text-align: right;\">\n",
       "      <th></th>\n",
       "      <th>Date</th>\n",
       "      <th>AC.PA</th>\n",
       "      <th>BNP.PA</th>\n",
       "      <th>CAP.PA</th>\n",
       "      <th>ENGI.PA</th>\n",
       "      <th>G.MI</th>\n",
       "      <th>RACE.MI</th>\n",
       "      <th>SAN.PA</th>\n",
       "      <th>TIT.MI</th>\n",
       "    </tr>\n",
       "  </thead>\n",
       "  <tbody>\n",
       "    <tr>\n",
       "      <th>0</th>\n",
       "      <td>2018-01-02</td>\n",
       "      <td>43.480000</td>\n",
       "      <td>62.090000</td>\n",
       "      <td>99.000000</td>\n",
       "      <td>14.230000</td>\n",
       "      <td>15.020000</td>\n",
       "      <td>87.300003</td>\n",
       "      <td>71.760002</td>\n",
       "      <td>0.725500</td>\n",
       "    </tr>\n",
       "    <tr>\n",
       "      <th>1</th>\n",
       "      <td>2018-01-03</td>\n",
       "      <td>43.310001</td>\n",
       "      <td>62.639999</td>\n",
       "      <td>101.000000</td>\n",
       "      <td>14.290000</td>\n",
       "      <td>14.890000</td>\n",
       "      <td>88.800003</td>\n",
       "      <td>72.070000</td>\n",
       "      <td>0.725000</td>\n",
       "    </tr>\n",
       "    <tr>\n",
       "      <th>2</th>\n",
       "      <td>2018-01-04</td>\n",
       "      <td>43.599998</td>\n",
       "      <td>63.770000</td>\n",
       "      <td>101.349998</td>\n",
       "      <td>14.515000</td>\n",
       "      <td>15.000000</td>\n",
       "      <td>92.500000</td>\n",
       "      <td>73.000000</td>\n",
       "      <td>0.734000</td>\n",
       "    </tr>\n",
       "    <tr>\n",
       "      <th>3</th>\n",
       "      <td>2018-01-05</td>\n",
       "      <td>43.770000</td>\n",
       "      <td>63.889999</td>\n",
       "      <td>102.500000</td>\n",
       "      <td>14.595000</td>\n",
       "      <td>15.200000</td>\n",
       "      <td>93.349998</td>\n",
       "      <td>74.360001</td>\n",
       "      <td>0.738500</td>\n",
       "    </tr>\n",
       "    <tr>\n",
       "      <th>4</th>\n",
       "      <td>2018-01-06</td>\n",
       "      <td>43.973334</td>\n",
       "      <td>64.093333</td>\n",
       "      <td>102.466667</td>\n",
       "      <td>14.626667</td>\n",
       "      <td>15.203333</td>\n",
       "      <td>93.783333</td>\n",
       "      <td>74.356667</td>\n",
       "      <td>0.743167</td>\n",
       "    </tr>\n",
       "  </tbody>\n",
       "</table>\n",
       "</div>"
      ],
      "text/plain": [
       "         Date      AC.PA     BNP.PA      CAP.PA    ENGI.PA       G.MI  \\\n",
       "0  2018-01-02  43.480000  62.090000   99.000000  14.230000  15.020000   \n",
       "1  2018-01-03  43.310001  62.639999  101.000000  14.290000  14.890000   \n",
       "2  2018-01-04  43.599998  63.770000  101.349998  14.515000  15.000000   \n",
       "3  2018-01-05  43.770000  63.889999  102.500000  14.595000  15.200000   \n",
       "4  2018-01-06  43.973334  64.093333  102.466667  14.626667  15.203333   \n",
       "\n",
       "     RACE.MI     SAN.PA    TIT.MI  \n",
       "0  87.300003  71.760002  0.725500  \n",
       "1  88.800003  72.070000  0.725000  \n",
       "2  92.500000  73.000000  0.734000  \n",
       "3  93.349998  74.360001  0.738500  \n",
       "4  93.783333  74.356667  0.743167  "
      ]
     },
     "execution_count": 5,
     "metadata": {},
     "output_type": "execute_result"
    }
   ],
   "source": [
    "df = pd.read_csv(os.path.join(DATA, \"assets-prices-no-missing-values.csv\"))\n",
    "\n",
    "print(f\"Size of the data: {df.shape}\\n\\n\")\n",
    "df.head()"
   ]
  },
  {
   "cell_type": "markdown",
   "id": "94d96940",
   "metadata": {},
   "source": [
    "# STEP 1: Train / test split \n",
    "#### We split the data based on the dates.\n",
    "#### We consider the earlier data points to train the model, and the later ones to test it."
   ]
  },
  {
   "cell_type": "code",
   "execution_count": 6,
   "id": "d141185b",
   "metadata": {},
   "outputs": [],
   "source": [
    "# we consider 80% of the data for training\n",
    "# we choose the earlier dates\n",
    "train_dates = list(df.Date)[: int(0.8 * len(df))]\n",
    "test_dates = [d for d in list(df.Date) if d not in train_dates]"
   ]
  },
  {
   "cell_type": "code",
   "execution_count": 7,
   "id": "85c5f1da",
   "metadata": {},
   "outputs": [
    {
     "name": "stdout",
     "output_type": "stream",
     "text": [
      "Number of training points: 1192\n",
      "Number of testing points: 299\n"
     ]
    }
   ],
   "source": [
    "print(\n",
    "    f\"Number of training points: {len(train_dates)}\\nNumber of testing points: {len(test_dates)}\"\n",
    ")"
   ]
  },
  {
   "cell_type": "markdown",
   "id": "21833233",
   "metadata": {},
   "source": [
    "### Split the data"
   ]
  },
  {
   "cell_type": "code",
   "execution_count": 8,
   "id": "3abc9757",
   "metadata": {},
   "outputs": [],
   "source": [
    "train = df[df.Date.isin(train_dates)]\n",
    "test = df[df.Date.isin(test_dates)]"
   ]
  },
  {
   "cell_type": "code",
   "execution_count": 9,
   "id": "83be0d9b-6d4f-405d-90d2-2894cab12348",
   "metadata": {},
   "outputs": [
    {
     "data": {
      "text/html": [
       "<div>\n",
       "<style scoped>\n",
       "    .dataframe tbody tr th:only-of-type {\n",
       "        vertical-align: middle;\n",
       "    }\n",
       "\n",
       "    .dataframe tbody tr th {\n",
       "        vertical-align: top;\n",
       "    }\n",
       "\n",
       "    .dataframe thead th {\n",
       "        text-align: right;\n",
       "    }\n",
       "</style>\n",
       "<table border=\"1\" class=\"dataframe\">\n",
       "  <thead>\n",
       "    <tr style=\"text-align: right;\">\n",
       "      <th></th>\n",
       "      <th>Date</th>\n",
       "      <th>AC.PA</th>\n",
       "      <th>BNP.PA</th>\n",
       "      <th>CAP.PA</th>\n",
       "      <th>ENGI.PA</th>\n",
       "      <th>G.MI</th>\n",
       "      <th>RACE.MI</th>\n",
       "      <th>SAN.PA</th>\n",
       "      <th>TIT.MI</th>\n",
       "    </tr>\n",
       "  </thead>\n",
       "  <tbody>\n",
       "    <tr>\n",
       "      <th>0</th>\n",
       "      <td>2018-01-02</td>\n",
       "      <td>43.480000</td>\n",
       "      <td>62.090000</td>\n",
       "      <td>99.000000</td>\n",
       "      <td>14.230000</td>\n",
       "      <td>15.020000</td>\n",
       "      <td>87.300003</td>\n",
       "      <td>71.760002</td>\n",
       "      <td>0.725500</td>\n",
       "    </tr>\n",
       "    <tr>\n",
       "      <th>1</th>\n",
       "      <td>2018-01-03</td>\n",
       "      <td>43.310001</td>\n",
       "      <td>62.639999</td>\n",
       "      <td>101.000000</td>\n",
       "      <td>14.290000</td>\n",
       "      <td>14.890000</td>\n",
       "      <td>88.800003</td>\n",
       "      <td>72.070000</td>\n",
       "      <td>0.725000</td>\n",
       "    </tr>\n",
       "    <tr>\n",
       "      <th>2</th>\n",
       "      <td>2018-01-04</td>\n",
       "      <td>43.599998</td>\n",
       "      <td>63.770000</td>\n",
       "      <td>101.349998</td>\n",
       "      <td>14.515000</td>\n",
       "      <td>15.000000</td>\n",
       "      <td>92.500000</td>\n",
       "      <td>73.000000</td>\n",
       "      <td>0.734000</td>\n",
       "    </tr>\n",
       "    <tr>\n",
       "      <th>3</th>\n",
       "      <td>2018-01-05</td>\n",
       "      <td>43.770000</td>\n",
       "      <td>63.889999</td>\n",
       "      <td>102.500000</td>\n",
       "      <td>14.595000</td>\n",
       "      <td>15.200000</td>\n",
       "      <td>93.349998</td>\n",
       "      <td>74.360001</td>\n",
       "      <td>0.738500</td>\n",
       "    </tr>\n",
       "    <tr>\n",
       "      <th>4</th>\n",
       "      <td>2018-01-06</td>\n",
       "      <td>43.973334</td>\n",
       "      <td>64.093333</td>\n",
       "      <td>102.466667</td>\n",
       "      <td>14.626667</td>\n",
       "      <td>15.203333</td>\n",
       "      <td>93.783333</td>\n",
       "      <td>74.356667</td>\n",
       "      <td>0.743167</td>\n",
       "    </tr>\n",
       "    <tr>\n",
       "      <th>...</th>\n",
       "      <td>...</td>\n",
       "      <td>...</td>\n",
       "      <td>...</td>\n",
       "      <td>...</td>\n",
       "      <td>...</td>\n",
       "      <td>...</td>\n",
       "      <td>...</td>\n",
       "      <td>...</td>\n",
       "      <td>...</td>\n",
       "    </tr>\n",
       "    <tr>\n",
       "      <th>1187</th>\n",
       "      <td>2021-04-03</td>\n",
       "      <td>33.210000</td>\n",
       "      <td>52.070001</td>\n",
       "      <td>148.400000</td>\n",
       "      <td>12.134800</td>\n",
       "      <td>17.072001</td>\n",
       "      <td>177.350003</td>\n",
       "      <td>84.259998</td>\n",
       "      <td>0.457240</td>\n",
       "    </tr>\n",
       "    <tr>\n",
       "      <th>1188</th>\n",
       "      <td>2021-04-04</td>\n",
       "      <td>33.470000</td>\n",
       "      <td>52.030001</td>\n",
       "      <td>148.600000</td>\n",
       "      <td>12.141200</td>\n",
       "      <td>17.093000</td>\n",
       "      <td>177.000003</td>\n",
       "      <td>84.289998</td>\n",
       "      <td>0.456160</td>\n",
       "    </tr>\n",
       "    <tr>\n",
       "      <th>1189</th>\n",
       "      <td>2021-04-05</td>\n",
       "      <td>33.730001</td>\n",
       "      <td>51.990001</td>\n",
       "      <td>148.800000</td>\n",
       "      <td>12.147600</td>\n",
       "      <td>17.114000</td>\n",
       "      <td>176.650003</td>\n",
       "      <td>84.319998</td>\n",
       "      <td>0.455080</td>\n",
       "    </tr>\n",
       "    <tr>\n",
       "      <th>1190</th>\n",
       "      <td>2021-04-06</td>\n",
       "      <td>33.990002</td>\n",
       "      <td>51.950001</td>\n",
       "      <td>149.000000</td>\n",
       "      <td>12.154000</td>\n",
       "      <td>17.135000</td>\n",
       "      <td>176.300003</td>\n",
       "      <td>84.349998</td>\n",
       "      <td>0.454000</td>\n",
       "    </tr>\n",
       "    <tr>\n",
       "      <th>1191</th>\n",
       "      <td>2021-04-07</td>\n",
       "      <td>33.439999</td>\n",
       "      <td>52.290001</td>\n",
       "      <td>148.949997</td>\n",
       "      <td>12.274000</td>\n",
       "      <td>17.170000</td>\n",
       "      <td>175.399994</td>\n",
       "      <td>84.120003</td>\n",
       "      <td>0.457800</td>\n",
       "    </tr>\n",
       "  </tbody>\n",
       "</table>\n",
       "<p>1192 rows × 9 columns</p>\n",
       "</div>"
      ],
      "text/plain": [
       "            Date      AC.PA     BNP.PA      CAP.PA    ENGI.PA       G.MI  \\\n",
       "0     2018-01-02  43.480000  62.090000   99.000000  14.230000  15.020000   \n",
       "1     2018-01-03  43.310001  62.639999  101.000000  14.290000  14.890000   \n",
       "2     2018-01-04  43.599998  63.770000  101.349998  14.515000  15.000000   \n",
       "3     2018-01-05  43.770000  63.889999  102.500000  14.595000  15.200000   \n",
       "4     2018-01-06  43.973334  64.093333  102.466667  14.626667  15.203333   \n",
       "...          ...        ...        ...         ...        ...        ...   \n",
       "1187  2021-04-03  33.210000  52.070001  148.400000  12.134800  17.072001   \n",
       "1188  2021-04-04  33.470000  52.030001  148.600000  12.141200  17.093000   \n",
       "1189  2021-04-05  33.730001  51.990001  148.800000  12.147600  17.114000   \n",
       "1190  2021-04-06  33.990002  51.950001  149.000000  12.154000  17.135000   \n",
       "1191  2021-04-07  33.439999  52.290001  148.949997  12.274000  17.170000   \n",
       "\n",
       "         RACE.MI     SAN.PA    TIT.MI  \n",
       "0      87.300003  71.760002  0.725500  \n",
       "1      88.800003  72.070000  0.725000  \n",
       "2      92.500000  73.000000  0.734000  \n",
       "3      93.349998  74.360001  0.738500  \n",
       "4      93.783333  74.356667  0.743167  \n",
       "...          ...        ...       ...  \n",
       "1187  177.350003  84.259998  0.457240  \n",
       "1188  177.000003  84.289998  0.456160  \n",
       "1189  176.650003  84.319998  0.455080  \n",
       "1190  176.300003  84.349998  0.454000  \n",
       "1191  175.399994  84.120003  0.457800  \n",
       "\n",
       "[1192 rows x 9 columns]"
      ]
     },
     "execution_count": 9,
     "metadata": {},
     "output_type": "execute_result"
    }
   ],
   "source": [
    "train"
   ]
  },
  {
   "cell_type": "code",
   "execution_count": 10,
   "id": "98f49df2-40e1-4782-8f93-dc0d4a54f44f",
   "metadata": {},
   "outputs": [
    {
     "data": {
      "text/html": [
       "<div>\n",
       "<style scoped>\n",
       "    .dataframe tbody tr th:only-of-type {\n",
       "        vertical-align: middle;\n",
       "    }\n",
       "\n",
       "    .dataframe tbody tr th {\n",
       "        vertical-align: top;\n",
       "    }\n",
       "\n",
       "    .dataframe thead th {\n",
       "        text-align: right;\n",
       "    }\n",
       "</style>\n",
       "<table border=\"1\" class=\"dataframe\">\n",
       "  <thead>\n",
       "    <tr style=\"text-align: right;\">\n",
       "      <th></th>\n",
       "      <th>Date</th>\n",
       "      <th>AC.PA</th>\n",
       "      <th>BNP.PA</th>\n",
       "      <th>CAP.PA</th>\n",
       "      <th>ENGI.PA</th>\n",
       "      <th>G.MI</th>\n",
       "      <th>RACE.MI</th>\n",
       "      <th>SAN.PA</th>\n",
       "      <th>TIT.MI</th>\n",
       "    </tr>\n",
       "  </thead>\n",
       "  <tbody>\n",
       "    <tr>\n",
       "      <th>1192</th>\n",
       "      <td>2021-04-08</td>\n",
       "      <td>33.180000</td>\n",
       "      <td>52.000000</td>\n",
       "      <td>150.050003</td>\n",
       "      <td>12.290000</td>\n",
       "      <td>17.105000</td>\n",
       "      <td>175.199997</td>\n",
       "      <td>84.709999</td>\n",
       "      <td>0.445300</td>\n",
       "    </tr>\n",
       "    <tr>\n",
       "      <th>1193</th>\n",
       "      <td>2021-04-09</td>\n",
       "      <td>33.040001</td>\n",
       "      <td>51.459999</td>\n",
       "      <td>151.000000</td>\n",
       "      <td>12.326000</td>\n",
       "      <td>16.965000</td>\n",
       "      <td>174.000000</td>\n",
       "      <td>85.059998</td>\n",
       "      <td>0.433900</td>\n",
       "    </tr>\n",
       "    <tr>\n",
       "      <th>1194</th>\n",
       "      <td>2021-04-10</td>\n",
       "      <td>32.890001</td>\n",
       "      <td>51.446665</td>\n",
       "      <td>151.216665</td>\n",
       "      <td>12.368000</td>\n",
       "      <td>17.000000</td>\n",
       "      <td>174.700002</td>\n",
       "      <td>84.936666</td>\n",
       "      <td>0.435233</td>\n",
       "    </tr>\n",
       "    <tr>\n",
       "      <th>1195</th>\n",
       "      <td>2021-04-11</td>\n",
       "      <td>32.740000</td>\n",
       "      <td>51.433332</td>\n",
       "      <td>151.433329</td>\n",
       "      <td>12.410000</td>\n",
       "      <td>17.035000</td>\n",
       "      <td>175.400004</td>\n",
       "      <td>84.813334</td>\n",
       "      <td>0.436567</td>\n",
       "    </tr>\n",
       "    <tr>\n",
       "      <th>1196</th>\n",
       "      <td>2021-04-12</td>\n",
       "      <td>32.590000</td>\n",
       "      <td>51.419998</td>\n",
       "      <td>151.649994</td>\n",
       "      <td>12.452000</td>\n",
       "      <td>17.070000</td>\n",
       "      <td>176.100006</td>\n",
       "      <td>84.690002</td>\n",
       "      <td>0.437900</td>\n",
       "    </tr>\n",
       "    <tr>\n",
       "      <th>...</th>\n",
       "      <td>...</td>\n",
       "      <td>...</td>\n",
       "      <td>...</td>\n",
       "      <td>...</td>\n",
       "      <td>...</td>\n",
       "      <td>...</td>\n",
       "      <td>...</td>\n",
       "      <td>...</td>\n",
       "      <td>...</td>\n",
       "    </tr>\n",
       "    <tr>\n",
       "      <th>1486</th>\n",
       "      <td>2022-01-27</td>\n",
       "      <td>32.160000</td>\n",
       "      <td>64.500000</td>\n",
       "      <td>193.800003</td>\n",
       "      <td>13.672000</td>\n",
       "      <td>18.280001</td>\n",
       "      <td>200.399994</td>\n",
       "      <td>94.889999</td>\n",
       "      <td>0.408100</td>\n",
       "    </tr>\n",
       "    <tr>\n",
       "      <th>1487</th>\n",
       "      <td>2022-01-28</td>\n",
       "      <td>32.029999</td>\n",
       "      <td>62.779999</td>\n",
       "      <td>193.000000</td>\n",
       "      <td>13.558000</td>\n",
       "      <td>18.264999</td>\n",
       "      <td>200.500000</td>\n",
       "      <td>94.260002</td>\n",
       "      <td>0.406900</td>\n",
       "    </tr>\n",
       "    <tr>\n",
       "      <th>1488</th>\n",
       "      <td>2022-01-29</td>\n",
       "      <td>32.139999</td>\n",
       "      <td>62.853333</td>\n",
       "      <td>194.483332</td>\n",
       "      <td>13.556666</td>\n",
       "      <td>18.370000</td>\n",
       "      <td>201.299998</td>\n",
       "      <td>93.756668</td>\n",
       "      <td>0.410000</td>\n",
       "    </tr>\n",
       "    <tr>\n",
       "      <th>1489</th>\n",
       "      <td>2022-01-30</td>\n",
       "      <td>32.250000</td>\n",
       "      <td>62.926666</td>\n",
       "      <td>195.966665</td>\n",
       "      <td>13.555333</td>\n",
       "      <td>18.475000</td>\n",
       "      <td>202.099996</td>\n",
       "      <td>93.253334</td>\n",
       "      <td>0.413100</td>\n",
       "    </tr>\n",
       "    <tr>\n",
       "      <th>1490</th>\n",
       "      <td>2022-01-31</td>\n",
       "      <td>32.360001</td>\n",
       "      <td>63.000000</td>\n",
       "      <td>197.449997</td>\n",
       "      <td>13.554000</td>\n",
       "      <td>18.580000</td>\n",
       "      <td>202.899994</td>\n",
       "      <td>92.750000</td>\n",
       "      <td>0.416200</td>\n",
       "    </tr>\n",
       "  </tbody>\n",
       "</table>\n",
       "<p>299 rows × 9 columns</p>\n",
       "</div>"
      ],
      "text/plain": [
       "            Date      AC.PA     BNP.PA      CAP.PA    ENGI.PA       G.MI  \\\n",
       "1192  2021-04-08  33.180000  52.000000  150.050003  12.290000  17.105000   \n",
       "1193  2021-04-09  33.040001  51.459999  151.000000  12.326000  16.965000   \n",
       "1194  2021-04-10  32.890001  51.446665  151.216665  12.368000  17.000000   \n",
       "1195  2021-04-11  32.740000  51.433332  151.433329  12.410000  17.035000   \n",
       "1196  2021-04-12  32.590000  51.419998  151.649994  12.452000  17.070000   \n",
       "...          ...        ...        ...         ...        ...        ...   \n",
       "1486  2022-01-27  32.160000  64.500000  193.800003  13.672000  18.280001   \n",
       "1487  2022-01-28  32.029999  62.779999  193.000000  13.558000  18.264999   \n",
       "1488  2022-01-29  32.139999  62.853333  194.483332  13.556666  18.370000   \n",
       "1489  2022-01-30  32.250000  62.926666  195.966665  13.555333  18.475000   \n",
       "1490  2022-01-31  32.360001  63.000000  197.449997  13.554000  18.580000   \n",
       "\n",
       "         RACE.MI     SAN.PA    TIT.MI  \n",
       "1192  175.199997  84.709999  0.445300  \n",
       "1193  174.000000  85.059998  0.433900  \n",
       "1194  174.700002  84.936666  0.435233  \n",
       "1195  175.400004  84.813334  0.436567  \n",
       "1196  176.100006  84.690002  0.437900  \n",
       "...          ...        ...       ...  \n",
       "1486  200.399994  94.889999  0.408100  \n",
       "1487  200.500000  94.260002  0.406900  \n",
       "1488  201.299998  93.756668  0.410000  \n",
       "1489  202.099996  93.253334  0.413100  \n",
       "1490  202.899994  92.750000  0.416200  \n",
       "\n",
       "[299 rows x 9 columns]"
      ]
     },
     "execution_count": 10,
     "metadata": {},
     "output_type": "execute_result"
    }
   ],
   "source": [
    "test"
   ]
  },
  {
   "cell_type": "markdown",
   "id": "8a279287-218f-4ec2-aa9a-506858ee9795",
   "metadata": {
    "tags": []
   },
   "source": [
    "# STEP 2: Create the forecasting dataframe\n",
    "\n",
    "#### We roll the data and create the target at the same time using the ***make_forecasting_frame()*** function available in tsfresh.\n",
    "#### As required by this function (cf tsfresh's documentation), this will be done for each time series separately.\n",
    "\n",
    "#### Plus, here, we will create the target for three different scenarios corresponding to different horizons of forecasting:\n",
    "#### **- 1-day horizon**\n",
    "#### **- 3-days horizon**\n",
    "#### **- 7-days horizon**"
   ]
  },
  {
   "cell_type": "code",
   "execution_count": 11,
   "id": "f6261c84-1784-410c-b4f0-01d877ece2d4",
   "metadata": {},
   "outputs": [
    {
     "data": {
      "text/plain": [
       "['AC.PA', 'BNP.PA', 'CAP.PA', 'ENGI.PA', 'G.MI', 'RACE.MI', 'SAN.PA', 'TIT.MI']"
      ]
     },
     "execution_count": 11,
     "metadata": {},
     "output_type": "execute_result"
    }
   ],
   "source": [
    "cols = list(df.columns[1:])\n",
    "cols"
   ]
  },
  {
   "cell_type": "markdown",
   "id": "4f4d9a70-6629-498e-a6d7-2b85db2babc4",
   "metadata": {},
   "source": [
    "#### Roll the datasets"
   ]
  },
  {
   "cell_type": "code",
   "execution_count": 12,
   "id": "01a951a8-0af3-49c6-a699-7335f60091f9",
   "metadata": {},
   "outputs": [],
   "source": [
    "max_timeshift = 14\n",
    "rolling_direction = 1"
   ]
  },
  {
   "cell_type": "code",
   "execution_count": 13,
   "id": "d25527c0-4f80-4b28-9b51-6b26e403ac14",
   "metadata": {},
   "outputs": [
    {
     "name": "stderr",
     "output_type": "stream",
     "text": [
      "Rolling:   0%|                                                                                                                  | 0/40 [00:00<?, ?it/s]\n",
      "Rolling:   5%|█████▎                                                                                                    | 2/40 [00:00<00:08,  4.55it/s]\u001b[A\n",
      "Rolling:   8%|███████▉                                                                                                  | 3/40 [00:02<00:09,  4.07it/s]\u001b[A\n",
      "\n",
      "Rolling:   0%|                                                                                                                  | 0/40 [00:00<?, ?it/s]\u001b[A\u001b[A\n",
      "\n",
      "\n",
      "Rolling:   0%|                                                                                                                  | 0/40 [00:00<?, ?it/s]\u001b[A\u001b[A\u001b[A\n",
      "Rolling:   8%|███████▉                                                                                                  | 3/40 [00:04<00:30,  1.23it/s]\u001b[A\n",
      "Rolling:  10%|██████████▌                                                                                               | 4/40 [00:05<01:01,  1.70s/it]\u001b[A\n",
      "\n",
      "Rolling:  10%|██████████▌                                                                                               | 4/40 [00:05<00:29,  1.22it/s]\u001b[A\u001b[A\n",
      "Rolling:  12%|█████████████▎                                                                                            | 5/40 [00:05<00:43,  1.25s/it]\u001b[A\n",
      "\n",
      "\n",
      "\n",
      "\n",
      "Rolling:   0%|                                                                                                                  | 0/40 [00:00<?, ?it/s]\u001b[A\u001b[A\u001b[A\u001b[A\u001b[A\n",
      "\n",
      "\n",
      "\n",
      "Rolling: 100%|█████████████████████████████████████████████████████████████████████████████████████████████████████████| 40/40 [00:01<00:00, 31.28it/s]\u001b[A\u001b[A\u001b[A\u001b[A\n",
      "Rolling:  12%|█████████████▎                                                                                            | 5/40 [00:05<01:00,  1.73s/it]\n",
      "\n",
      "\n",
      "Rolling:   0%|                                                                                                                  | 0/40 [00:00<?, ?it/s]\u001b[A\u001b[A\u001b[A\n",
      "\n",
      "\n",
      "\n",
      "\n",
      "\n",
      "Rolling: 100%|█████████████████████████████████████████████████████████████████████████████████████████████████████████| 40/40 [00:02<00:00, 14.48it/s]\u001b[A\u001b[A\u001b[A\u001b[A\u001b[A\u001b[A\n",
      "Rolling: 100%|█████████████████████████████████████████████████████████████████████████████████████████████████████████| 40/40 [00:06<00:00,  6.57it/s]\n",
      "Rolling: 100%|█████████████████████████████████████████████████████████████████████████████████████████████████████████| 40/40 [00:00<00:00, 95.91it/s]\n",
      "Rolling: 100%|█████████████████████████████████████████████████████████████████████████████████████████████████████████| 40/40 [00:00<00:00, 95.61it/s]\n",
      "Rolling: 100%|█████████████████████████████████████████████████████████████████████████████████████████████████████████| 40/40 [00:06<00:00,  6.48it/s]\n",
      "Rolling: 100%|█████████████████████████████████████████████████████████████████████████████████████████████████████████| 40/40 [00:00<00:00, 99.66it/s]\n",
      "\n",
      "\n",
      "\n",
      "\n",
      "\n",
      "\n",
      "Rolling: 100%|████████████████████████████████████████████████████████████████████████████████████████████████████████| 40/40 [00:00<00:00, 161.14it/s]\u001b[A\u001b[A\u001b[A\u001b[A\u001b[A\u001b[A\n",
      "Rolling:   0%|                                                                                                                  | 0/40 [00:00<?, ?it/s]\n",
      "Rolling:   2%|██▋                                                                                                       | 1/40 [00:00<00:05,  7.07it/s]\u001b[A\n",
      "Rolling:  15%|███████████████▉                                                                                          | 6/40 [00:00<00:01, 23.35it/s]\u001b[A\n",
      "Rolling:  22%|███████████████████████▊                                                                                  | 9/40 [00:01<00:03,  9.45it/s]\u001b[A\n",
      "Rolling:  28%|████████████████████████████▉                                                                            | 11/40 [00:01<00:04,  6.68it/s]\u001b[A\n",
      "Rolling:  32%|██████████████████████████████████▏                                                                      | 13/40 [00:01<00:04,  6.67it/s]\u001b[A\n",
      "Rolling: 100%|█████████████████████████████████████████████████████████████████████████████████████████████████████████| 40/40 [00:01<00:00, 22.12it/s]\u001b[A\n",
      "Rolling: 100%|█████████████████████████████████████████████████████████████████████████████████████████████████████████| 40/40 [00:01<00:00, 21.72it/s]\n",
      "Rolling:   0%|                                                                                                                  | 0/40 [00:00<?, ?it/s]\n",
      "Rolling:  25%|██████████████████████████▎                                                                              | 10/40 [00:00<00:01, 22.94it/s]\u001b[A\n",
      "Rolling:  35%|████████████████████████████████████▊                                                                    | 14/40 [00:01<00:01, 14.13it/s]\u001b[A\n",
      "\n",
      "Rolling:   0%|                                                                                                                  | 0/40 [00:00<?, ?it/s]\u001b[A\u001b[A\n",
      "Rolling:  42%|████████████████████████████████████████████▋                                                            | 17/40 [00:03<00:02,  9.44it/s]\u001b[A\n",
      "\n",
      "Rolling:  52%|███████████████████████████████████████████████████████▏                                                 | 21/40 [00:01<00:00, 88.91it/s]\u001b[A\u001b[A\n",
      "Rolling:  48%|█████████████████████████████████████████████████▉                                                       | 19/40 [00:04<00:07,  2.87it/s]\u001b[A\n",
      "\n",
      "\n",
      "Rolling:   0%|                                                                                                                  | 0/40 [00:00<?, ?it/s]\u001b[A\u001b[A\u001b[A\n",
      "\n",
      "Rolling:  75%|██████████████████████████████████████████████████████████████████████████████▊                          | 30/40 [00:01<00:00, 14.02it/s]\u001b[A\u001b[A\n",
      "Rolling:  52%|███████████████████████████████████████████████████████▏                                                 | 21/40 [00:04<00:06,  3.09it/s]\u001b[A\n",
      "\n",
      "\n",
      "\n",
      "Rolling:   0%|                                                                                                                  | 0/40 [00:00<?, ?it/s]\u001b[A\u001b[A\u001b[A\u001b[A\n",
      "\n",
      "Rolling:  88%|███████████████████████████████████████████████████████████████████████████████████████████▉             | 35/40 [00:02<00:00, 15.83it/s]\u001b[A\u001b[A\n",
      "Rolling: 100%|████████████████████████████████████████████████████████████████████████████████████████████████████████| 40/40 [00:00<00:00, 114.29it/s]\u001b[A\n",
      "\n",
      "\n",
      "Rolling:  98%|██████████████████████████████████████████████████████████████████████████████████████████████████████▍  | 39/40 [00:02<00:00, 15.78it/s]\u001b[A\u001b[A\n",
      "\n",
      "\n",
      "Rolling:   0%|                                                                                                                  | 0/40 [00:00<?, ?it/s]\u001b[A\u001b[A\u001b[A\n",
      "Rolling: 100%|████████████████████████████████████████████████████████████████████████████████████████████████████████| 40/40 [00:00<00:00, 116.72it/s]\u001b[A\n",
      "\n",
      "\n",
      "\n",
      "Rolling:  62%|█████████████████████████████████████████████████████████████████                                       | 25/40 [00:00<00:00, 122.25it/s]\n",
      "\u001b[A\u001b[A\u001b[A\n",
      "Rolling:  50%|████████████████████████████████████████████████████▌                                                    | 20/40 [00:04<00:06,  3.26it/s]\u001b[A\n",
      "Rolling: 100%|█████████████████████████████████████████████████████████████████████████████████████████████████████████| 40/40 [00:02<00:00, 14.45it/s]\u001b[A\n",
      "\n",
      "\n",
      "\n",
      "Rolling: 100%|█████████████████████████████████████████████████████████████████████████████████████████████████████████| 40/40 [00:00<00:00, 69.96it/s]\u001b[A\u001b[A\u001b[A\n",
      "Rolling:   0%|                                                                                                                  | 0/40 [00:00<?, ?it/s]\n",
      "Rolling: 100%|█████████████████████████████████████████████████████████████████████████████████████████████████████████| 40/40 [00:05<00:00,  7.17it/s]\n"
     ]
    },
    {
     "name": "stdout",
     "output_type": "stream",
     "text": [
      "CPU times: user 18.8 s, sys: 3.55 s, total: 22.4 s\n",
      "Wall time: 18.9 s\n"
     ]
    }
   ],
   "source": [
    "%%time\n",
    "result_train = Parallel(n_jobs=num_cpus, prefer=\"threads\")(\n",
    "    delayed(create_forecasting_frame)(train, col, max_timeshift, rolling_direction)\n",
    "    for col in cols\n",
    ")"
   ]
  },
  {
   "cell_type": "code",
   "execution_count": 14,
   "id": "736fb703-79d5-494f-880f-ae01abb3c31d",
   "metadata": {},
   "outputs": [
    {
     "name": "stderr",
     "output_type": "stream",
     "text": [
      "Rolling:   8%|████████▎                                                                                                 | 3/38 [00:00<00:01, 24.04it/s]\n",
      "Rolling:  16%|████████████████▋                                                                                         | 6/38 [00:00<00:01, 27.04it/s]\u001b[A\n",
      "\n",
      "Rolling:   0%|                                                                                                                  | 0/38 [00:00<?, ?it/s]\u001b[A\u001b[A\n",
      "\n",
      "\n",
      "Rolling:   0%|                                                                                                                  | 0/38 [00:00<?, ?it/s]\u001b[A\u001b[A\u001b[A\n",
      "Rolling:  24%|█████████████████████████                                                                                 | 9/38 [00:01<00:02, 10.58it/s]\u001b[A\n",
      "\n",
      "\n",
      "\n",
      "Rolling:   0%|                                                                                                                  | 0/38 [00:00<?, ?it/s]\u001b[A\u001b[A\u001b[A\u001b[A\n",
      "\n",
      "Rolling:  55%|█████████████████████████████████████████████████████████▍                                              | 21/38 [00:00<00:00, 169.59it/s]\u001b[A\u001b[A\n",
      "Rolling:  29%|██████████████████████████████▍                                                                          | 11/38 [00:01<00:06,  4.47it/s]\u001b[A\n",
      "\n",
      "\n",
      "\n",
      "\n",
      "Rolling:   0%|                                                                                                                  | 0/38 [00:00<?, ?it/s]\u001b[A\u001b[A\u001b[A\u001b[A\u001b[A\n",
      "\n",
      "Rolling: 100%|████████████████████████████████████████████████████████████████████████████████████████████████████████| 38/38 [00:00<00:00, 718.63it/s]\u001b[A\u001b[A\n",
      "\n",
      "\n",
      "\n",
      "\n",
      "\n",
      "\n",
      "Rolling:   0%|                                                                                                                  | 0/38 [00:00<?, ?it/s]\u001b[A\u001b[A\u001b[A\u001b[A\u001b[A\u001b[A\n",
      "\n",
      "\n",
      "Rolling: 100%|████████████████████████████████████████████████████████████████████████████████████████████████████████| 38/38 [00:00<00:00, 335.68it/s]\u001b[A\u001b[A\u001b[A\n",
      "Rolling: 100%|█████████████████████████████████████████████████████████████████████████████████████████████████████████| 38/38 [00:01<00:00, 27.38it/s]\n",
      "Rolling: 100%|█████████████████████████████████████████████████████████████████████████████████████████████████████████| 38/38 [00:01<00:00, 20.28it/s]\n",
      "Rolling: 100%|████████████████████████████████████████████████████████████████████████████████████████████████████████| 38/38 [00:00<00:00, 257.38it/s]\n",
      "Rolling: 100%|█████████████████████████████████████████████████████████████████████████████████████████████████████████| 38/38 [00:00<00:00, 43.65it/s]\n",
      "Rolling: 100%|████████████████████████████████████████████████████████████████████████████████████████████████████████| 38/38 [00:00<00:00, 293.62it/s]\n",
      "Rolling: 100%|████████████████████████████████████████████████████████████████████████████████████████████████████████| 38/38 [00:00<00:00, 315.82it/s]\n",
      "Rolling: 100%|████████████████████████████████████████████████████████████████████████████████████████████████████████| 38/38 [00:00<00:00, 105.26it/s]\n",
      "Rolling:  29%|██████████████████████████████▍                                                                          | 11/38 [00:00<00:00, 42.70it/s]\n",
      "Rolling:  82%|█████████████████████████████████████████████████████████████████████████████████████▋                   | 31/38 [00:00<00:00, 87.00it/s]\u001b[A\n",
      "Rolling:  66%|████████████████████████████████████████████████████████████████████▍                                   | 25/38 [00:00<00:00, 140.00it/s]\u001b[A\n",
      "\n",
      "Rolling: 100%|█████████████████████████████████████████████████████████████████████████████████████████████████████████| 38/38 [00:01<00:00, 25.37it/s]\u001b[A\u001b[A\n",
      "Rolling: 100%|█████████████████████████████████████████████████████████████████████████████████████████████████████████| 38/38 [00:00<00:00, 46.15it/s]\n",
      "Rolling: 100%|████████████████████████████████████████████████████████████████████████████████████████████████████████| 38/38 [00:00<00:00, 233.35it/s]\n",
      "\n",
      "\n",
      "Rolling: 100%|████████████████████████████████████████████████████████████████████████████████████████████████████████| 38/38 [00:00<00:00, 113.62it/s]\u001b[A\n",
      "\n",
      "\n",
      "\n",
      "Rolling:   0%|                                                                                                                  | 0/38 [00:00<?, ?it/s]\u001b[A\u001b[A\n",
      "\n",
      "\n",
      "Rolling: 100%|████████████████████████████████████████████████████████████████████████████████████████████████████████| 38/38 [00:00<00:00, 116.18it/s]\u001b[A\u001b[A\u001b[A\n",
      "Rolling:  82%|█████████████████████████████████████████████████████████████████████████████████████▋                   | 31/38 [00:00<00:00, 87.00it/s]\n",
      "Rolling:  82%|█████████████████████████████████████████████████████████████████████████████████████▋                   | 31/38 [00:00<00:00, 87.00it/s]\u001b[A\n",
      "\n"
     ]
    },
    {
     "name": "stdout",
     "output_type": "stream",
     "text": [
      "CPU times: user 5.82 s, sys: 2.28 s, total: 8.11 s\n",
      "Wall time: 6.75 s\n"
     ]
    }
   ],
   "source": [
    "%%time\n",
    "result_test = Parallel(n_jobs=num_cpus, prefer=\"threads\")(\n",
    "    delayed(create_forecasting_frame)(test, col, max_timeshift, rolling_direction)\n",
    "    for col in cols\n",
    ")"
   ]
  },
  {
   "cell_type": "markdown",
   "id": "4a65d94f-1f8c-4c47-b382-5bd9846e72e4",
   "metadata": {},
   "source": [
    "### 1-day horizon"
   ]
  },
  {
   "cell_type": "code",
   "execution_count": 15,
   "id": "f0ec2842-7db4-43df-a82c-8b32833de68c",
   "metadata": {},
   "outputs": [],
   "source": [
    "horizon = 1"
   ]
  },
  {
   "cell_type": "markdown",
   "id": "dacdafc1-e867-4fc8-aead-daebaf51574c",
   "metadata": {},
   "source": [
    "#### Save the rolled the datasets"
   ]
  },
  {
   "cell_type": "code",
   "execution_count": 16,
   "id": "ec1bc9fa-fca7-4c59-9d4a-93b86f5577ba",
   "metadata": {},
   "outputs": [
    {
     "name": "stdout",
     "output_type": "stream",
     "text": [
      "CPU times: user 128 ms, sys: 26.4 ms, total: 154 ms\n",
      "Wall time: 138 ms\n"
     ]
    },
    {
     "data": {
      "text/plain": [
       "[None, None, None, None, None, None, None, None]"
      ]
     },
     "execution_count": 16,
     "metadata": {},
     "output_type": "execute_result"
    }
   ],
   "source": [
    "%%time\n",
    "Parallel(n_jobs=num_cpus, prefer=\"threads\")(\n",
    "    delayed(create_and_save_dataset)(forecasting_frame, RESULTS, horizon, \"train\")\n",
    "    for forecasting_frame in result_train\n",
    ")"
   ]
  },
  {
   "cell_type": "code",
   "execution_count": 17,
   "id": "c2bea186-4b29-4f15-b64a-74d4ac847ffc",
   "metadata": {},
   "outputs": [
    {
     "name": "stdout",
     "output_type": "stream",
     "text": [
      "CPU times: user 43.3 ms, sys: 414 µs, total: 43.8 ms\n",
      "Wall time: 34.5 ms\n"
     ]
    },
    {
     "data": {
      "text/plain": [
       "[None, None, None, None, None, None, None, None]"
      ]
     },
     "execution_count": 17,
     "metadata": {},
     "output_type": "execute_result"
    }
   ],
   "source": [
    "%%time\n",
    "Parallel(n_jobs=num_cpus, prefer=\"threads\")(\n",
    "    delayed(create_and_save_dataset)(forecasting_frame, RESULTS, horizon, \"test\")\n",
    "    for forecasting_frame in result_test\n",
    ")"
   ]
  },
  {
   "cell_type": "markdown",
   "id": "905cad8d-b59b-4b4e-a4f3-b11582e15577",
   "metadata": {},
   "source": [
    "### 3-days horizon"
   ]
  },
  {
   "cell_type": "code",
   "execution_count": 18,
   "id": "63f5c8b7-a4e8-40e0-bdd1-1f0a87a43a34",
   "metadata": {},
   "outputs": [],
   "source": [
    "horizon = 3"
   ]
  },
  {
   "cell_type": "markdown",
   "id": "c02235ed-3830-4412-b585-83abd7110d7c",
   "metadata": {},
   "source": [
    "#### Save the rolled the datasets"
   ]
  },
  {
   "cell_type": "code",
   "execution_count": 19,
   "id": "20b6b7ce-b2f4-4926-84ef-bf5a007124de",
   "metadata": {},
   "outputs": [
    {
     "name": "stdout",
     "output_type": "stream",
     "text": [
      "CPU times: user 132 ms, sys: 11.9 ms, total: 144 ms\n",
      "Wall time: 130 ms\n"
     ]
    },
    {
     "data": {
      "text/plain": [
       "[None, None, None, None, None, None, None, None]"
      ]
     },
     "execution_count": 19,
     "metadata": {},
     "output_type": "execute_result"
    }
   ],
   "source": [
    "%%time\n",
    "Parallel(n_jobs=num_cpus, prefer=\"threads\")(\n",
    "    delayed(create_and_save_dataset)(forecasting_frame, RESULTS, horizon, \"train\")\n",
    "    for forecasting_frame in result_train\n",
    ")"
   ]
  },
  {
   "cell_type": "code",
   "execution_count": 20,
   "id": "304e7fe4-fb2d-4d17-95ac-325590b667b5",
   "metadata": {},
   "outputs": [
    {
     "name": "stdout",
     "output_type": "stream",
     "text": [
      "CPU times: user 44 ms, sys: 970 µs, total: 44.9 ms\n",
      "Wall time: 36.5 ms\n"
     ]
    },
    {
     "data": {
      "text/plain": [
       "[None, None, None, None, None, None, None, None]"
      ]
     },
     "execution_count": 20,
     "metadata": {},
     "output_type": "execute_result"
    }
   ],
   "source": [
    "%%time\n",
    "Parallel(n_jobs=num_cpus, prefer=\"threads\")(\n",
    "    delayed(create_and_save_dataset)(forecasting_frame, RESULTS, horizon, \"test\")\n",
    "    for forecasting_frame in result_test\n",
    ")"
   ]
  },
  {
   "cell_type": "markdown",
   "id": "d20d56d3-f566-4dc4-9068-f5c2e95969ef",
   "metadata": {},
   "source": [
    "### 7-days horizon"
   ]
  },
  {
   "cell_type": "code",
   "execution_count": 21,
   "id": "4765c785-1ebf-4a1f-8b28-937a4e54af72",
   "metadata": {},
   "outputs": [],
   "source": [
    "horizon = 7"
   ]
  },
  {
   "cell_type": "markdown",
   "id": "f034ac1e-8e1a-47ce-8f40-6392849b997b",
   "metadata": {},
   "source": [
    "#### Save the rolled the datasets"
   ]
  },
  {
   "cell_type": "code",
   "execution_count": 22,
   "id": "d0cc8d12-aeca-4560-949c-67cd4da2d73c",
   "metadata": {},
   "outputs": [
    {
     "name": "stdout",
     "output_type": "stream",
     "text": [
      "CPU times: user 141 ms, sys: 7.49 ms, total: 149 ms\n",
      "Wall time: 134 ms\n"
     ]
    },
    {
     "data": {
      "text/plain": [
       "[None, None, None, None, None, None, None, None]"
      ]
     },
     "execution_count": 22,
     "metadata": {},
     "output_type": "execute_result"
    }
   ],
   "source": [
    "%%time\n",
    "Parallel(n_jobs=num_cpus, prefer=\"threads\")(\n",
    "    delayed(create_and_save_dataset)(forecasting_frame, RESULTS, horizon, \"train\")\n",
    "    for forecasting_frame in result_train\n",
    ")"
   ]
  },
  {
   "cell_type": "code",
   "execution_count": 23,
   "id": "1d5aeae3-7291-4da4-843a-25b1a498b3d7",
   "metadata": {},
   "outputs": [
    {
     "name": "stdout",
     "output_type": "stream",
     "text": [
      "CPU times: user 36.1 ms, sys: 8.95 ms, total: 45.1 ms\n",
      "Wall time: 36.1 ms\n"
     ]
    },
    {
     "data": {
      "text/plain": [
       "[None, None, None, None, None, None, None, None]"
      ]
     },
     "execution_count": 23,
     "metadata": {},
     "output_type": "execute_result"
    }
   ],
   "source": [
    "%%time\n",
    "Parallel(n_jobs=num_cpus, prefer=\"threads\")(\n",
    "    delayed(create_and_save_dataset)(forecasting_frame, RESULTS, horizon, \"test\")\n",
    "    for forecasting_frame in result_test\n",
    ")"
   ]
  }
 ],
 "metadata": {
  "instance_type": "ml.c5.24xlarge",
  "kernelspec": {
   "display_name": "Python 3 (ipykernel)",
   "language": "python",
   "name": "python3"
  },
  "language_info": {
   "codemirror_mode": {
    "name": "ipython",
    "version": 3
   },
   "file_extension": ".py",
   "mimetype": "text/x-python",
   "name": "python",
   "nbconvert_exporter": "python",
   "pygments_lexer": "ipython3",
   "version": "3.9.7"
  }
 },
 "nbformat": 4,
 "nbformat_minor": 5
}
