{
 "cells": [
  {
   "cell_type": "markdown",
   "id": "ba690e2b-72ef-4b43-92f5-2a77e83267bd",
   "metadata": {},
   "source": [
    "# Automatic cube creation with Atoti\n",
    "\n",
    "[Atoti](https://www.atoti.io/) is a free Python BI analytics platform for Quants, Data Analysts, Data Scientists & Business Users to collaborate better, analyze faster and translate their data into business KPIs.  \n",
    "This notebook uses [ipywidget](https://ipywidgets.readthedocs.io/en/stable/) to interactively upload a CSV of user's choice and spins up a BI application, ready for users to build their own analytics dashboards.  \n",
    "\n",
    "<img src=\"https://data.atoti.io/notebooks/auto-cube/spin-up-cube.gif\" width=\"70%\" />\n",
    "\n",
    "__NOTE:__\n",
    "- This is a simplified use case where there is only 1 single Atoti table (created from the uploaded CSV)\n",
    "- The CSV should be of encoding UTF8\n",
    "- For best experience, choose a dataset with a fair number of numeric and non-numeric columns, e.g. [Data Science Job Salaries dataset](https://www.kaggle.com/datasets/ruchi798/data-science-job-salaries) from Kaggle:  \n",
    "    - non-numerical columns are translated into hierarchies\n",
    "    - a SUM and a MEAN measure will be automatically created for numerical columns (non-key columns)\n",
    "- When selecting keys for the Atoti table, choose the columns that will ensure data uniqueness.\n",
    "    - When unsure, skip key selection.\n",
    "    - Non-unique keys will result in a smaller dataset getting loaded. Only the last occurrence of the duplicates will be kept.\n",
    "    \n",
    "\n",
    "To understand more about multidimensional datacubes, check out the [Atoti tutorial](https://docs.atoti.io/latest/getting_started/tutorial/tutorial.html).  \n",
    "\n",
    "<div style=\"text-align: center;\" ><a href=\"https://www.atoti.io/?utm_source=gallery&utm_content=auto-cube\" target=\"_blank\" rel=\"noopener noreferrer\"><img src=\"https://data.atoti.io/notebooks/banners/Discover+Atoti+now.jpg\" alt=\"Try Atoti\"></a></div>"
   ]
  },
  {
   "cell_type": "code",
   "execution_count": 1,
   "id": "c9a014b6-e1ff-4d7f-a5d7-0cc4429de899",
   "metadata": {},
   "outputs": [],
   "source": [
    "import functools\n",
    "import io\n",
    "import webbrowser\n",
    "\n",
    "import atoti as tt\n",
    "import pandas as pd\n",
    "from IPython.display import SVG, Markdown\n",
    "import ipywidgets as widgets"
   ]
  },
  {
   "cell_type": "markdown",
   "id": "1bbb4e75-bb49-4f92-ab29-fb3c27ce926c",
   "metadata": {},
   "source": [
    "Since Atoti is a Python library, we can use it along with other libraries such as ipywidget and Pandas.  \n",
    "We used FloatProgress from ipywidget to track the loading progress of web application."
   ]
  },
  {
   "cell_type": "code",
   "execution_count": 2,
   "id": "09c8e4fd-cce2-46dd-88c9-e113ec451b5d",
   "metadata": {},
   "outputs": [],
   "source": [
    "out = widgets.Output()\n",
    "fp = widgets.FloatProgress(min=0, max=5)"
   ]
  },
  {
   "cell_type": "markdown",
   "id": "2ef01b16-40de-423f-9adc-cb85061bfd93",
   "metadata": {},
   "source": [
    "## Atoti processes\n",
    "\n",
    "In the following function, the key steps to create an Atoti web application are defined:\n",
    "- Instantiate Atoti session (web application is created upon instantiation)\n",
    "- Create Atoti table by loading the Pandas DataFrame (Atoti also accepts other datasources such as CSV, Parquet, SQL, Spark DataFrame etc.)\n",
    "- Create cube with the Atoti table\n",
    "\n",
    "It is possible to create and join multiple Atoti table. However, in our use case, we are only creating one Atoti table.  \n",
    "We make use of the [webbrowser](https://docs.python.org/3/library/webbrowser.html) api to launch the web application in a new browser tab."
   ]
  },
  {
   "cell_type": "code",
   "execution_count": 3,
   "id": "a26ed19e-7764-47c9-8e8e-a9e810551c5c",
   "metadata": {},
   "outputs": [],
   "source": [
    "def create_cube(df, keys=None, port=9090):\n",
    "    print(f\"-- Creating session on port {port}\")\n",
    "    fp.value = 2\n",
    "    session = tt.Session(port=port)\n",
    "\n",
    "    print(\"--- Loading data into table\")\n",
    "    fp.value = 3\n",
    "    tbl = session.read_pandas(df, table_name=\"table\", keys=keys)\n",
    "\n",
    "    print(\"---- Creating cube\")\n",
    "    fp.value = 4\n",
    "    cube = session.create_cube(tbl)\n",
    "\n",
    "    fp.value = 5\n",
    "    print(f\"----- Launching web application: {session._local_url}\")\n",
    "    webbrowser.open(session._local_url)\n",
    "\n",
    "    print(\"======================================================\")\n",
    "    print(f\"Number of records loaded: {len(tbl)}\")\n",
    "    print(\"Table schema: \")\n",
    "    display(cube.schema)\n",
    "\n",
    "    print()\n",
    "    display(Markdown(\"### Access web application\"))\n",
    "    display(\n",
    "        Markdown(\n",
    "            \"__Click on this URL if web application is not automatically launched:__\"\n",
    "        ),\n",
    "        session.link(),\n",
    "    )\n",
    "    print()\n",
    "    print(\"======================================================\")"
   ]
  },
  {
   "cell_type": "markdown",
   "id": "1cd0ed02-093d-4cd4-864e-4bbe28ebd0b5",
   "metadata": {},
   "source": [
    "We trigger the creation of the cube upon selection of a CSV.  \n",
    "Note that we recreate the session whenever a new CSV is selected. So the previous dataset will no longer be accessible."
   ]
  },
  {
   "cell_type": "code",
   "execution_count": 4,
   "id": "06a90bd2-80f0-4444-a253-db8e377732a0",
   "metadata": {},
   "outputs": [],
   "source": [
    "@out.capture()\n",
    "def on_key_change(b, _df, _keys=None):\n",
    "    b.disabled = True\n",
    "    keys = list(_keys.value)\n",
    "    keys = [] if \"None\" in keys else keys\n",
    "\n",
    "    create_cube(_df, keys)\n",
    "    displayFileLoader()"
   ]
  },
  {
   "cell_type": "code",
   "execution_count": 5,
   "id": "18b26c20-96b9-48c9-944a-3ff08a016ce5",
   "metadata": {},
   "outputs": [],
   "source": [
    "@out.capture()\n",
    "def on_upload_change(change):\n",
    "    out.clear_output()\n",
    "    display(fp)\n",
    "\n",
    "    print(\"Starting cube creation for \", change[\"new\"][0].name)\n",
    "\n",
    "    fp.value = 0\n",
    "    print(\"- Reading file\")\n",
    "    input_file = list(change[\"new\"])[0]\n",
    "    content = input_file[\"content\"]\n",
    "    df = pd.read_csv(io.BytesIO(content))\n",
    "\n",
    "    fp.value = 1\n",
    "    columns = [\"None\"] + df.columns.tolist()\n",
    "    keys_selection = widgets.SelectMultiple(\n",
    "        options=columns,\n",
    "        value=[\"None\"],\n",
    "        description=\"Choose key(s)\",\n",
    "        disabled=False,\n",
    "    )\n",
    "\n",
    "    button = widgets.Button(\n",
    "        description=\"Submit\",\n",
    "        disabled=False,\n",
    "        button_style=\"\",\n",
    "        tooltip=\"Submit selected keys\",\n",
    "        icon=\"check\",  # (FontAwesome names without the `fa-` prefix)\n",
    "    )\n",
    "\n",
    "    display(keys_selection, button)\n",
    "    button.on_click(functools.partial(on_key_change, _df=df, _keys=keys_selection))"
   ]
  },
  {
   "cell_type": "code",
   "execution_count": 6,
   "id": "ca0577b5-8e09-4448-9ee9-165cc54e8221",
   "metadata": {
    "tags": []
   },
   "outputs": [],
   "source": [
    "def displayFileLoader():\n",
    "    uploader = widgets.FileUpload(\n",
    "        accept=\".csv\",\n",
    "        multiple=False,\n",
    "    )\n",
    "\n",
    "    uploader.observe(on_upload_change, \"value\")\n",
    "    with out:\n",
    "        display(uploader)"
   ]
  },
  {
   "cell_type": "markdown",
   "id": "962edc22-6072-4584-b55f-572182525f15",
   "metadata": {},
   "source": [
    "Feel free to re-select a new CSV file to test out different datasets."
   ]
  },
  {
   "cell_type": "code",
   "execution_count": 7,
   "id": "276c673d-78e6-4a4b-ae76-b36bd73760d5",
   "metadata": {},
   "outputs": [
    {
     "data": {
      "application/vnd.jupyter.widget-view+json": {
       "model_id": "1c2b012dee91436997934484d4d6c0e4",
       "version_major": 2,
       "version_minor": 0
      },
      "text/plain": [
       "Output()"
      ]
     },
     "execution_count": 7,
     "metadata": {},
     "output_type": "execute_result"
    }
   ],
   "source": [
    "displayFileLoader()\n",
    "out"
   ]
  },
  {
   "cell_type": "markdown",
   "id": "da676c84-e9bf-4ade-8475-90bb7a74677c",
   "metadata": {},
   "source": [
    "<div style=\"text-align: center;\" ><a href=\"https://www.atoti.io/?utm_source=gallery&utm_content=auto-cube\" target=\"_blank\" rel=\"noopener noreferrer\"><img src=\"https://data.atoti.io/notebooks/banners/Try+Atoti.jpg\" alt=\"Try Atoti\"></a></div>"
   ]
  }
 ],
 "metadata": {
  "kernelspec": {
   "display_name": "Python 3 (ipykernel)",
   "language": "python",
   "name": "python3"
  },
  "language_info": {
   "codemirror_mode": {
    "name": "ipython",
    "version": 3
   },
   "file_extension": ".py",
   "mimetype": "text/x-python",
   "name": "python",
   "nbconvert_exporter": "python",
   "pygments_lexer": "ipython3",
   "version": "3.10.11"
  }
 },
 "nbformat": 4,
 "nbformat_minor": 5
}
