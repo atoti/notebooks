{
 "cells": [
  {
   "cell_type": "markdown",
   "id": "6f116c04-b884-4002-ba9c-14aacf434cc5",
   "metadata": {},
   "source": [
    "# Securing an Atoti session with Auth0 using OIDC\n",
    "\n",
    "Securing a session comes in two parts:\n",
    "1. Implementing authentication mechanism to secure access to the session\n",
    "2. Restricting access of modules or data access by users based on the roles granted\n",
    "\n",
    "__Security implementation is one of the [locked features](https://docs.atoti.io/latest/how_tos/unlock_all_features.html) that is not available in Atoti Community Edition. To try out this notebook, you can request for an [evaluation license](https://atoti.io/evaluation-license-request/) to unlock all the features.__ \n",
    "\n",
    "Atoti supports multiple [authentication mechanisms](https://docs.atoti.io/latest/lib/atoti/atoti.config.authentication.html) to cater to the needs of our end users.  \n",
    "\n",
    "This notebook demonstrates how we use [OpenID Connect (OIDC)](https://openid.net/connect/) through [Auth0](https://auth0.com/) to implement security over Atoti web application.\n",
    "\n",
    "We will explore the Atoti security features using the [Top 50 Fast Food](https://www.kaggle.com/datasets/stetsondone/top50fastfood) dataset from Kaggle, combined with its parent company information sourced from the internet.\n",
    "\n",
    "\n",
    "__Note__:  \n",
    "\n",
    "The notebook is structured in this order:\n",
    "1. Authentication setup during session instantiation\n",
    "2. Create BI analytics platform with Atoti\n",
    "3. Users and roles management with Atoti\n",
    "\n",
    "Mainly, we look at the roles last because we need to know the names of the tables and columns which we want to impose restrictions on.  \n",
    "Thereafter, we can create the roles with restrictions. Check out [atoti documentation](https://docs.atoti.io) to read more on [securing the session](https://docs.atoti.io/latest/how_tos/secure_a_session.html#Configuring-the-authentication-mechanism).  "
   ]
  },
  {
   "cell_type": "markdown",
   "id": "6643edb0-0710-4279-af4f-f5aea602b48f",
   "metadata": {},
   "source": [
    "<div style=\"text-align: center;\" ><a href=\"https://www.atoti.io/?utm_source=gallery&utm_content=oidc-auth0\" target=\"_blank\" rel=\"noopener noreferrer\"><img src=\"https://data.atoti.io/notebooks/banners/Discover+Atoti+now.jpg\" alt=\"Try Atoti\"></a></div>"
   ]
  },
  {
   "cell_type": "code",
   "execution_count": 1,
   "id": "68ad57e0-9bee-4d84-9e72-11947dd46a8c",
   "metadata": {},
   "outputs": [],
   "source": [
    "import os\n",
    "import requests\n",
    "import atoti as tt"
   ]
  },
  {
   "cell_type": "markdown",
   "id": "c7753688-efe6-485f-bdc3-4dcb5f7a4bc7",
   "metadata": {
    "tags": []
   },
   "source": [
    "## 1. Authentication setup in Atoti  \n",
    "\n",
    "We demonstrate below how we configure the authentication parameter of [`atoti.Session`](https://docs.atoti.io/latest/lib/atoti/atoti.session.html#atoti.Session.__init__) for OIDC through Auth0. \n",
    "\n",
    "In Auth0, build a custom action under __Actions > Library__ to create a trigger for the `Login / Post Login` as follows (update namespace according to your environment):\n",
    "\n",
    "```\n",
    "exports.onExecutePostLogin = async (event, api) => {\n",
    "  const namespace = 'https://dev-5m2svhd0.us.auth0.com';\n",
    "  if (event.authorization) {\n",
    "    api.idToken.setCustomClaim(`${namespace}/roles`, event.authorization.roles);\n",
    "    api.accessToken.setCustomClaim(`${namespace}/roles`, event.authorization.roles);\n",
    "  }\n",
    "};\n",
    "```\n",
    "\n",
    "Thereafter, refer to the following for the setting mapping against Auth0:\n",
    "<img src=\"https://data.atoti.io/notebooks/security/img/auth0-setup.png\" width=\"80%\" />  \n",
    "\n",
    "`name_claim` could be email or name, depending on what you would like to see reflected in the application:  \n",
    "\n",
    "<img src=\"https://data.atoti.io/notebooks/security/img/displayed_id.png\" width=\"80%\" />  "
   ]
  },
  {
   "cell_type": "code",
   "execution_count": 2,
   "id": "90baca19-4c9e-4f88-846d-7bb5b4d7abc7",
   "metadata": {},
   "outputs": [],
   "source": [
    "authentication = tt.OidcConfig(\n",
    "    provider_id=\"auth0\",\n",
    "    issuer_url=\"https://dev-2cmvdpan.us.auth0.com/\",\n",
    "    client_id=os.environ[\"AUTH0_CLIENT_ID\"],\n",
    "    client_secret=os.environ[\"AUTH0_CLIENT_SECRET\"],\n",
    "    name_claim=\"name\",\n",
    "    scopes=[\"email\", \"profile\", \"username\", \"roles\"],\n",
    "    roles_claims=[\n",
    "        \"https://dev-2cmvdpan:us:auth0:com/roles\",\n",
    "    ],\n",
    ")"
   ]
  },
  {
   "cell_type": "markdown",
   "id": "99d41b86-d1ad-4e9c-8417-1b85ea8be133",
   "metadata": {},
   "source": [
    "Client ids and secrets should be kept private. As suggested in the [documentation](https://docs.atoti.io/latest/how_tos/security/secure_a_session.html#Configuring-the-authentication-mechanism), connection details can be read from environment variables for improved security.  "
   ]
  },
  {
   "cell_type": "markdown",
   "id": "f7ca04be-e779-407c-af28-3352599e2f61",
   "metadata": {},
   "source": [
    "### 1.1. Instantiating session with fixed port\n",
    "\n",
    "It is important to fix the port for Atoti web application as we will require it to configure the application URIs in Auth0.  \n",
    "\n",
    "<img src=\"https://s3.eu-west-3.amazonaws.com/data.atoti.io/notebooks/security/img/auth0-application-url.png\" width=\"70%\" />  \n",
    "\n",
    "In Auth0, remember to include the following callback URL with the [provider id](https://docs.atoti.io/latest/lib/atoti/atoti.config.authentication.oidc_config.html#atoti.OidcConfig.provider_id) set to `auth0`:\n",
    "\n",
    "`f\"{session_url}/login/oauth2/code/{provider_id}\"`"
   ]
  },
  {
   "cell_type": "code",
   "execution_count": 3,
   "id": "69fe16a1-25ab-4477-b656-817a3e435492",
   "metadata": {},
   "outputs": [],
   "source": [
    "session = tt.Session(\n",
    "    port=9091,\n",
    "    authentication=authentication,\n",
    "    user_content_storage=\"./content\",\n",
    "    java_options=[\"-Dlogging.level.org.springframework.security=DEBUG\"],\n",
    ")"
   ]
  },
  {
   "cell_type": "markdown",
   "id": "5d017975-2669-4636-a736-21dda0f754ae",
   "metadata": {},
   "source": [
    "#### 1.2.1 Debug security setup\n",
    "\n",
    "During the initial setup, it is useful to configure the [Spring Security logging](https://www.baeldung.com/spring-security-enable-logging) to help in debugging any potential issues in the connectivity.  \n",
    "As shown in the above code snippet, we can turn on logging with `logging.level.org.springframework.security` set to the `DEBUG` level using the `java_options`."
   ]
  },
  {
   "cell_type": "markdown",
   "id": "a3c74a79-0f2e-4387-95d5-dcbb2dc88e0e",
   "metadata": {},
   "source": [
    "## 2. Create BI analytics platform with Atoti"
   ]
  },
  {
   "cell_type": "markdown",
   "id": "eda5c15f-cc6d-4d18-a198-6582c2cf3604",
   "metadata": {
    "jp-MarkdownHeadingCollapsed": true,
    "tags": []
   },
   "source": [
    "Once the session is created, we can proceed with the usual data loading into Atoti table, cube and measures creation.  \n",
    "Remember to re-execute these cells if you have changed the mode of authentiction."
   ]
  },
  {
   "cell_type": "markdown",
   "id": "68527ad3-b92b-4d4b-8529-205a2cb4cb21",
   "metadata": {
    "tags": []
   },
   "source": [
    "### 2.1 Table creation"
   ]
  },
  {
   "cell_type": "markdown",
   "id": "e9a0bf7c-0d35-4355-88f6-2f1ae3456e0b",
   "metadata": {},
   "source": [
    "Although we can [`create table`](https://docs.atoti.io/latest/lib/atoti/atoti.session.html#atoti.Session.create_table) before loading data in, we used `read_csv` in our example to create and load data into the Atoti tables."
   ]
  },
  {
   "cell_type": "code",
   "execution_count": 4,
   "id": "bd3eb635-dde3-4a19-b9de-f4747023d458",
   "metadata": {},
   "outputs": [
    {
     "data": {
      "text/html": [
       "<div>\n",
       "<style scoped>\n",
       "    .dataframe tbody tr th:only-of-type {\n",
       "        vertical-align: middle;\n",
       "    }\n",
       "\n",
       "    .dataframe tbody tr th {\n",
       "        vertical-align: top;\n",
       "    }\n",
       "\n",
       "    .dataframe thead th {\n",
       "        text-align: right;\n",
       "    }\n",
       "</style>\n",
       "<table border=\"1\" class=\"dataframe\">\n",
       "  <thead>\n",
       "    <tr style=\"text-align: right;\">\n",
       "      <th></th>\n",
       "      <th></th>\n",
       "      <th>name</th>\n",
       "    </tr>\n",
       "    <tr>\n",
       "      <th>parent_company</th>\n",
       "      <th>company</th>\n",
       "      <th></th>\n",
       "    </tr>\n",
       "  </thead>\n",
       "  <tbody>\n",
       "    <tr>\n",
       "      <th>Inspire Brands</th>\n",
       "      <th>arbys</th>\n",
       "      <td>Arby's</td>\n",
       "    </tr>\n",
       "    <tr>\n",
       "      <th>Domino's Pizza, Inc.</th>\n",
       "      <th>dominos</th>\n",
       "      <td>Domino's</td>\n",
       "    </tr>\n",
       "    <tr>\n",
       "      <th>Papa Murphy's Holdings, Inc.</th>\n",
       "      <th>papa_murphys</th>\n",
       "      <td>Papa Murphy's</td>\n",
       "    </tr>\n",
       "    <tr>\n",
       "      <th>Focus Brands</th>\n",
       "      <th>auntie_annes</th>\n",
       "      <td>Auntie Anne's</td>\n",
       "    </tr>\n",
       "    <tr>\n",
       "      <th>Panda Restaurant Group</th>\n",
       "      <th>panda_express</th>\n",
       "      <td>Panda Express</td>\n",
       "    </tr>\n",
       "  </tbody>\n",
       "</table>\n",
       "</div>"
      ],
      "text/plain": [
       "                                                     name\n",
       "parent_company               company                     \n",
       "Inspire Brands               arbys                 Arby's\n",
       "Domino's Pizza, Inc.         dominos             Domino's\n",
       "Papa Murphy's Holdings, Inc. papa_murphys   Papa Murphy's\n",
       "Focus Brands                 auntie_annes   Auntie Anne's\n",
       "Panda Restaurant Group       panda_express  Panda Express"
      ]
     },
     "execution_count": 4,
     "metadata": {},
     "output_type": "execute_result"
    }
   ],
   "source": [
    "base_tbl = session.read_csv(\n",
    "    \"s3://data.atoti.io/notebooks/security/data/parent_co.csv\",\n",
    "    table_name=\"parent_co\",\n",
    "    keys=[\"company\", \"parent_company\"],\n",
    "    process_quotes=True,\n",
    ")\n",
    "base_tbl.head()"
   ]
  },
  {
   "cell_type": "code",
   "execution_count": 5,
   "id": "96189684-8d9d-48e1-ae3a-8f4d08de94f6",
   "metadata": {},
   "outputs": [
    {
     "data": {
      "text/html": [
       "<div>\n",
       "<style scoped>\n",
       "    .dataframe tbody tr th:only-of-type {\n",
       "        vertical-align: middle;\n",
       "    }\n",
       "\n",
       "    .dataframe tbody tr th {\n",
       "        vertical-align: top;\n",
       "    }\n",
       "\n",
       "    .dataframe thead th {\n",
       "        text-align: right;\n",
       "    }\n",
       "</style>\n",
       "<table border=\"1\" class=\"dataframe\">\n",
       "  <thead>\n",
       "    <tr style=\"text-align: right;\">\n",
       "      <th></th>\n",
       "      <th>category</th>\n",
       "      <th>sales_in_millions_2019</th>\n",
       "      <th>sales_per_unit_thousands_2019</th>\n",
       "      <th>franchised_units_2019</th>\n",
       "      <th>company_owned_units_2019</th>\n",
       "      <th>total_units_2019</th>\n",
       "      <th>unit_change_from_2018</th>\n",
       "    </tr>\n",
       "    <tr>\n",
       "      <th>company</th>\n",
       "      <th></th>\n",
       "      <th></th>\n",
       "      <th></th>\n",
       "      <th></th>\n",
       "      <th></th>\n",
       "      <th></th>\n",
       "      <th></th>\n",
       "    </tr>\n",
       "  </thead>\n",
       "  <tbody>\n",
       "    <tr>\n",
       "      <th>popeyes_chicken</th>\n",
       "      <td>chicken</td>\n",
       "      <td>3750</td>\n",
       "      <td>1541</td>\n",
       "      <td>2458</td>\n",
       "      <td>41</td>\n",
       "      <td>2499</td>\n",
       "      <td>131</td>\n",
       "    </tr>\n",
       "    <tr>\n",
       "      <th>del_taco</th>\n",
       "      <td>global</td>\n",
       "      <td>850</td>\n",
       "      <td>1554</td>\n",
       "      <td>296</td>\n",
       "      <td>300</td>\n",
       "      <td>596</td>\n",
       "      <td>16</td>\n",
       "    </tr>\n",
       "    <tr>\n",
       "      <th>jack_in_the_box</th>\n",
       "      <td>burger</td>\n",
       "      <td>3505</td>\n",
       "      <td>1565</td>\n",
       "      <td>2106</td>\n",
       "      <td>137</td>\n",
       "      <td>2243</td>\n",
       "      <td>6</td>\n",
       "    </tr>\n",
       "    <tr>\n",
       "      <th>tim_hortons</th>\n",
       "      <td>sandwich</td>\n",
       "      <td>840</td>\n",
       "      <td>1165</td>\n",
       "      <td>715</td>\n",
       "      <td>0</td>\n",
       "      <td>715</td>\n",
       "      <td>-12</td>\n",
       "    </tr>\n",
       "    <tr>\n",
       "      <th>mcdonalds</th>\n",
       "      <td>burger</td>\n",
       "      <td>40413</td>\n",
       "      <td>2912</td>\n",
       "      <td>13154</td>\n",
       "      <td>692</td>\n",
       "      <td>13846</td>\n",
       "      <td>-66</td>\n",
       "    </tr>\n",
       "  </tbody>\n",
       "</table>\n",
       "</div>"
      ],
      "text/plain": [
       "                 category  sales_in_millions_2019  \\\n",
       "company                                             \n",
       "popeyes_chicken   chicken                    3750   \n",
       "del_taco           global                     850   \n",
       "jack_in_the_box    burger                    3505   \n",
       "tim_hortons      sandwich                     840   \n",
       "mcdonalds          burger                   40413   \n",
       "\n",
       "                 sales_per_unit_thousands_2019  franchised_units_2019  \\\n",
       "company                                                                 \n",
       "popeyes_chicken                           1541                   2458   \n",
       "del_taco                                  1554                    296   \n",
       "jack_in_the_box                           1565                   2106   \n",
       "tim_hortons                               1165                    715   \n",
       "mcdonalds                                 2912                  13154   \n",
       "\n",
       "                 company_owned_units_2019  total_units_2019  \\\n",
       "company                                                       \n",
       "popeyes_chicken                        41              2499   \n",
       "del_taco                              300               596   \n",
       "jack_in_the_box                       137              2243   \n",
       "tim_hortons                             0               715   \n",
       "mcdonalds                             692             13846   \n",
       "\n",
       "                 unit_change_from_2018  \n",
       "company                                 \n",
       "popeyes_chicken                    131  \n",
       "del_taco                            16  \n",
       "jack_in_the_box                      6  \n",
       "tim_hortons                        -12  \n",
       "mcdonalds                          -66  "
      ]
     },
     "execution_count": 5,
     "metadata": {},
     "output_type": "execute_result"
    }
   ],
   "source": [
    "enrichment_tbl = session.read_csv(\n",
    "    \"s3://data.atoti.io/notebooks/security/data/top_50_fast_food_US.csv\",\n",
    "    table_name=\"top_50\",\n",
    "    keys=[\"company\"],\n",
    ")\n",
    "enrichment_tbl.head()"
   ]
  },
  {
   "cell_type": "code",
   "execution_count": 6,
   "id": "015657ca-38ea-4b8e-95cc-d05988d8963c",
   "metadata": {},
   "outputs": [],
   "source": [
    "base_tbl.join(enrichment_tbl)"
   ]
  },
  {
   "cell_type": "markdown",
   "id": "6f89b6cd-8fe2-4a16-a6ac-c6d44694fc76",
   "metadata": {},
   "source": [
    "### 2.2. Cube creation"
   ]
  },
  {
   "cell_type": "code",
   "execution_count": 7,
   "id": "efa7fa8b-d8fc-4469-9d30-a895f451e57a",
   "metadata": {},
   "outputs": [],
   "source": [
    "cube = session.create_cube(base_tbl, \"Fast food analysis\")"
   ]
  },
  {
   "cell_type": "markdown",
   "id": "58b67d1d-740b-4e01-babe-d2df7e5991f2",
   "metadata": {},
   "source": [
    "### 2.3 Measures creation"
   ]
  },
  {
   "cell_type": "code",
   "execution_count": 8,
   "id": "8c76ec6a-c137-4c21-a200-26e4a01dda54",
   "metadata": {},
   "outputs": [],
   "source": [
    "h, l, m = cube.hierarchies, cube.levels, cube.measures"
   ]
  },
  {
   "cell_type": "code",
   "execution_count": 9,
   "id": "905498cd-e033-4f56-b8be-88cb08f85c6d",
   "metadata": {},
   "outputs": [],
   "source": [
    "m[\"sales_in_millions\"] = tt.agg.sum(enrichment_tbl[\"sales_in_millions_2019\"])\n",
    "m[\"sales_per_unit_thousands\"] = tt.agg.sum(\n",
    "    enrichment_tbl[\"sales_per_unit_thousands_2019\"]\n",
    ")\n",
    "m[\"franchised_units\"] = tt.agg.sum(enrichment_tbl[\"franchised_units_2019\"])\n",
    "m[\"company_owned_units\"] = tt.agg.sum(enrichment_tbl[\"company_owned_units_2019\"])\n",
    "m[\"total_units\"] = tt.agg.sum(enrichment_tbl[\"total_units_2019\"])\n",
    "m[\"unit_change_from_2018\"] = tt.agg.sum(enrichment_tbl[\"unit_change_from_2018\"])"
   ]
  },
  {
   "cell_type": "code",
   "execution_count": 10,
   "id": "af0f9a67-524c-4ca0-b3c9-859e4ad9146a",
   "metadata": {},
   "outputs": [],
   "source": [
    "m[\"% franchised\"] = m[\"franchised_units\"] / m[\"total_units\"]\n",
    "m[\"% franchised\"].formatter = \"DOUBLE[0.00%]\""
   ]
  },
  {
   "cell_type": "markdown",
   "id": "f801483d-d7ce-499d-8f8e-d75a7e782015",
   "metadata": {},
   "source": [
    "## 3. Roles management with Atoti"
   ]
  },
  {
   "cell_type": "markdown",
   "id": "03ddbd1c-d2f2-4674-8908-1cc4c22a5e48",
   "metadata": {},
   "source": [
    "Let's create some constants for the user id of the users we will be creating.  "
   ]
  },
  {
   "cell_type": "code",
   "execution_count": 11,
   "id": "a6d0c79d-420a-4f0f-8f90-fd98628463d0",
   "metadata": {
    "tags": []
   },
   "outputs": [],
   "source": [
    "ADMIN_USER = \"atoti_admin\"\n",
    "ATOTI_USER = \"atoti_user\"\n",
    "\n",
    "INSPIRE_USER1 = \"Inspire_user1\"\n",
    "INSPIRE_USER2 = \"Inspire_user2\"\n",
    "INSPIRE_MANAGER = \"Inspire_manager\"\n",
    "RESTAURANT_USER1 = \"Restaurant_user1\"\n",
    "RESTAURANT_USER2 = \"Restaurant_user2\"\n",
    "RESTAURANT_MANAGER = \"Restaurant_manager\""
   ]
  },
  {
   "cell_type": "markdown",
   "id": "228f7a0d-9346-45c7-a427-8ff8cd6c3957",
   "metadata": {},
   "source": [
    "### 3.1. Atoti reserved roles  \n",
    "\n",
    "The below roles are reserved in Atoti and should not be altered by users:\n",
    "- ROLE_ADMIN: able to access all objects in the web application\n",
    "- ROLE_USER: able to access all data by default. Access to objects such as dashboards, folders, widgets etc is only upon sharing access granted to role.\n",
    "\n",
    "__All users, including the administrator, require the role *ROLE\\_USER* to be able to access the Atoti web application.__\n",
    "\n",
    "__All users, including the administrator, require the role *ROLE\\_USER* to be able to access the Atoti UI.__\n",
    "\n",
    "Let's assume both users, *atoti\\_admin* and *atoti\\_user*, have been granted the role __ROLE_USER__ and *atoti\\_admin* is also granted the role __ROLE_ADMIN__.  \n",
    "While both *atoti\\_admin* and *atoti\\_user* are able to access all data, *atoti\\_admin* is able to access all objects such as folders and dashboards.  \n",
    "*atoti\\_user* is able to access only the objects created by the user him/herself. Objects created by other users can only be access upon shared access granted.  \n"
   ]
  },
  {
   "cell_type": "markdown",
   "id": "f4d193a5-45f9-4ce2-9fb9-69cd02d7c044",
   "metadata": {
    "tags": []
   },
   "source": [
    "#### 3.1.1 Sharing role configuration \n",
    "\n",
    "In Atoti version before v0.8.0, we assign the role `ROLE_SHARE` to users in order to be able to let them share objects such as dashboards, folders, widgets and filters.  \n",
    "Both *atoti\\_admin* and *atoti\\_user* will not be able to share objects (via the \"Share\" icon as shown below) unless granted the role __ROLE_SHARE__.  \n",
    "\n",
    "<img src=\"img/share_function.png\" width=\"50%\"/>  \n",
    "\n",
    "From version v0.8.0 onwards, the role `ROLE_SHARE` is removed. Instead, users with the role `ROLE_USER` will the ability to perform sharing by default.  \n",
    "\n",
    "<img src=\"img/admin_share.png\" width=\"50%\"/>\n"
   ]
  },
  {
   "cell_type": "markdown",
   "id": "87fa6e2a-a68b-4a14-a24c-cd24c8d81485",
   "metadata": {
    "tags": []
   },
   "source": [
    "We can configure the sharing permission from the Atoti Admin UI which is accessible from the link below. Login with a user that has the role `ROLE_ADMIN` assigned."
   ]
  },
  {
   "cell_type": "code",
   "execution_count": 12,
   "id": "a5a63633-7803-4b77-934e-d64cc6de5aa9",
   "metadata": {
    "tags": []
   },
   "outputs": [
    {
     "data": {
      "application/vnd.atoti.link.v0+json": {
       "path": "admin",
       "sessionLocation": {
        "https": false,
        "port": 9091
       }
      },
      "text/plain": [
       "Open the notebook in JupyterLab with the Atoti extension enabled to see this link."
      ]
     },
     "execution_count": 12,
     "metadata": {},
     "output_type": "execute_result"
    }
   ],
   "source": [
    "session.link(path=\"/admin\")"
   ]
  },
  {
   "cell_type": "markdown",
   "id": "9aace24a-3d0e-4fb3-93cb-abc023092e52",
   "metadata": {},
   "source": [
    "##### 3.1.1.2 Creating technical users"
   ]
  },
  {
   "cell_type": "markdown",
   "id": "e4f85bca-e7e6-4f1b-8776-b9ecfcba38b8",
   "metadata": {},
   "source": [
    "In case we want to limit the users who has the ability to perform sharing, we can either update the `canShare` permission for `ROLE_USER` to `false` from the Admin UI; or we can use the rest service to do so.  \n",
    "\n",
    "Let's create a [technical user](https://docs.atoti.io/latest/how_tos/secure_a_session.html#Technical-users) (also called service accounts) for updating the backend. Atoti automatically enables Basic Authentication on the session even though we are using OIDC authentication mechanism."
   ]
  },
  {
   "cell_type": "code",
   "execution_count": 13,
   "id": "e37e30e9-30db-4f5b-b836-6db2414a0e8c",
   "metadata": {
    "tags": []
   },
   "outputs": [],
   "source": [
    "technical_user_name = \"ATOTI_TECH_ADMIN\"\n",
    "technical_user_password = \"password\"\n",
    "\n",
    "technical_user = session.security.basic.credentials[\n",
    "    technical_user_name\n",
    "] = technical_user_password\n",
    "session.security.individual_roles[technical_user_name] = {\"ROLE_USER\", \"ROLE_ADMIN\"}"
   ]
  },
  {
   "cell_type": "code",
   "execution_count": 14,
   "id": "04e3f681-e165-473b-83d5-303bf85d3c11",
   "metadata": {
    "tags": []
   },
   "outputs": [],
   "source": [
    "from requests.auth import HTTPBasicAuth\n",
    "\n",
    "response = requests.put(\n",
    "    f\"http://localhost:{session.port}/activeviam/content/rest/v7/files?path=ui/user_roles/ROLE_USER/permissions\",\n",
    "    auth=(technical_user_name, technical_user_password),\n",
    "    json={\n",
    "        \"content\": '{\"canShare\": false}',\n",
    "        \"owners\": [\"atoti_admin\"],\n",
    "        \"readers\": [\"ROLE_USER\"],\n",
    "        \"overwrite\": True,\n",
    "        \"recursive\": True,\n",
    "    },\n",
    ")"
   ]
  },
  {
   "cell_type": "markdown",
   "id": "40fe76cd-6dee-4cd2-aa82-06fb8293a577",
   "metadata": {},
   "source": [
    "In the event we want to control the sharing rights using roles from Authentication providers, we can create the intended role in the Admin UI.  \n",
    "For instance, suppose the role that is supposed to have sharing permission is call `ROLE_SHARE`, we can run the below request to create the role with `canShare` set to `true`.  "
   ]
  },
  {
   "cell_type": "code",
   "execution_count": 15,
   "id": "c6be5fde-3feb-491c-bf20-3c8be7abb473",
   "metadata": {
    "tags": []
   },
   "outputs": [],
   "source": [
    "response = requests.put(\n",
    "    f\"http://localhost:{session.port}/activeviam/content/rest/v7/files?path=ui/user_roles/ROLE_SHARE/permissions\",\n",
    "    auth=(technical_user_name, technical_user_password),\n",
    "    json={\n",
    "        \"content\": '{\"canShare\": true}',\n",
    "        \"owners\": [technical_user_name],\n",
    "        \"readers\": [\"ROLE_USER\"],\n",
    "        \"overwrite\": True,\n",
    "        \"recursive\": True,\n",
    "    },\n",
    ")"
   ]
  },
  {
   "cell_type": "code",
   "execution_count": 16,
   "id": "9031c003-c6ef-419f-8d2e-9bb2c92a7e5e",
   "metadata": {
    "tags": []
   },
   "outputs": [
    {
     "data": {
      "text/plain": [
       "<Response [200]>"
      ]
     },
     "execution_count": 16,
     "metadata": {},
     "output_type": "execute_result"
    }
   ],
   "source": [
    "response"
   ]
  },
  {
   "cell_type": "markdown",
   "id": "4c766c07-8a95-46d8-8d18-c644a945824f",
   "metadata": {},
   "source": [
    "Below is what we see in the Admin server:  \n",
    "\n",
    "<img src=\"img/role_share_permission.png\" />  \n",
    "\n",
    "Now, any users who are assigned the role `ROLE_SHARE` in Atoti will have the ability to perform sharing.  \n",
    "We will see later on how we can map the roles from Auth0 to the roles in Atoti.  "
   ]
  },
  {
   "cell_type": "markdown",
   "id": "29504fe3-b5fa-45b0-92e8-9d346d33e7cf",
   "metadata": {},
   "source": [
    "### 3.2. Role creation with restrictions  "
   ]
  },
  {
   "cell_type": "markdown",
   "id": "b33bada3-987e-4fd8-9697-3bbee107b969",
   "metadata": {},
   "source": [
    "Data restriction is based on users' requirement. In our use case, we assumed two groups of users with data access limited to those of their parent company:\n",
    "- users belonging to parent company _Inspire Brands_\n",
    "- users belonging to parent company _Restaurant Brands International Inc._\n",
    "\n",
    "Therefore, we will create two roles to apply the restrictions based on the `parent_company` column from the `parent_co` table.  \n",
    "We will define key that is a tuple, consisting of the name of the table and its column, along with the restricted values imposed on it. \n",
    "\n",
    "__NOTE:__  \n",
    "- We can skip role creation if there are no restrictions imposed on the role. \n",
    "- The value provided under the restrictions is cap-sensitive."
   ]
  },
  {
   "cell_type": "code",
   "execution_count": 17,
   "id": "f9050fa1-7c63-4d43-9a79-09190f6a96dd",
   "metadata": {},
   "outputs": [],
   "source": [
    "ROLE_INSPIRE = \"ATOTI_ROLE_INSPIRE\"\n",
    "ROLE_RESTAURANT = \"ATOTI_ROLE_RESTAURANT\"\n",
    "\n",
    "session.security.restrictions.update(\n",
    "    {\n",
    "        ROLE_INSPIRE: (base_tbl[\"parent_company\"] == \"Inspire Brands\"),\n",
    "        ROLE_RESTAURANT: (\n",
    "            base_tbl[\"parent_company\"] == \"Restaurant Brands International Inc.\"\n",
    "        ),\n",
    "    }\n",
    ")"
   ]
  },
  {
   "cell_type": "markdown",
   "id": "5e2d396b-3509-4482-bf48-0e5fc61ad5e6",
   "metadata": {},
   "source": [
    "#### 3.2.1. Restricted access from combination of roles\n",
    "\n",
    "Multiple roles can be assigned to the same user. To demonstrate how the access will change when this happens, we create some other roles that restrict data access by the restaurant category, i.e. column `category` from the table `top_50`."
   ]
  },
  {
   "cell_type": "code",
   "execution_count": 18,
   "id": "581b3f20-00f7-408d-b2b4-6a8ffbbb1d0a",
   "metadata": {},
   "outputs": [],
   "source": [
    "ROLE_BURGER = \"ATOTI_ROLE_BURGER\"\n",
    "ROLE_SANDWICH = \"ATOTI_ROLE_SANDWICH\"\n",
    "ROLE_SNACK = \"ATOTI_ROLE_SNACK\"\n",
    "\n",
    "session.security.restrictions.update(\n",
    "    {\n",
    "        ROLE_BURGER: enrichment_tbl[\"category\"] == \"burger\",\n",
    "        ROLE_SANDWICH: enrichment_tbl[\"category\"] == \"sandwich\",\n",
    "        ROLE_SNACK: enrichment_tbl[\"category\"] == \"snack\",\n",
    "    }\n",
    ")"
   ]
  },
  {
   "cell_type": "markdown",
   "id": "65156758-3383-4c7f-b96a-534cea3d9647",
   "metadata": {},
   "source": [
    "When combined with the restricted role on the `parent_company`, user's access will be further restricted to based on the restriction of the added role.  \n",
    "\n",
    "For instance, users who are assigned the role __ATOTI_ROLE_BURGER__ will be able to access all the data under _burger_ category restaurants, regardless of the parent companies.  \n",
    "\n",
    "However, when the same user is also granted the role __ATOTI_ROLE_INSPIRE__, then the user can only access data of restaurants under parent company _Inspire Brands_ that is of category _burger_. "
   ]
  },
  {
   "cell_type": "markdown",
   "id": "21863f1f-c442-4845-8cde-5500445ecb4b",
   "metadata": {},
   "source": [
    "### 3.3. Role assignment in Atoti"
   ]
  },
  {
   "cell_type": "markdown",
   "id": "fc810231-4ede-466f-a0d9-923c3784c740",
   "metadata": {},
   "source": [
    "#### 3.3.1. Assign default roles to authenticated users"
   ]
  },
  {
   "cell_type": "markdown",
   "id": "bb9ffb06-86f1-40a3-af6f-361d75158e61",
   "metadata": {},
   "source": [
    "We could default the roles such as __ROLE_SHARE__ for all users who are logged in successfully.  "
   ]
  },
  {
   "cell_type": "code",
   "execution_count": 23,
   "id": "ac50f14d-757e-40eb-b7e9-f22dbe60d654",
   "metadata": {},
   "outputs": [],
   "source": [
    "session.security.oidc.default_roles.update([\"ROLE_SHARE\"])"
   ]
  },
  {
   "cell_type": "markdown",
   "id": "cef289b7-64a6-4582-9ed6-91a4e9e99b7b",
   "metadata": {},
   "source": [
    "__BE CAUTION__ when granting __ROLE_USER__ to users by default as users with this role will be able to access the application and the available data.  \n",
    "It might be a better option to grant __ROLE_USER__ individually to the rightful users in the next step."
   ]
  },
  {
   "cell_type": "markdown",
   "id": "05c2c9c7-0dd3-4ec4-ad7b-436be9dfb4ec",
   "metadata": {},
   "source": [
    "#### 3.3.2. Map roles between Authentication Provider and Atoti"
   ]
  },
  {
   "cell_type": "markdown",
   "id": "b518577e-e1dd-44c3-b89e-8fc064d00227",
   "metadata": {},
   "source": [
    "The names in the authentication provider can be different from those in Atoti.    \n",
    "Roles are assigned to users in the authentication provider and associated to the Atoti roles in the `role_mapping` below."
   ]
  },
  {
   "cell_type": "code",
   "execution_count": 21,
   "id": "684d9fbd-377e-41ab-b697-5554c3534db7",
   "metadata": {},
   "outputs": [],
   "source": [
    "session.security.oidc.role_mapping.update(\n",
    "    {\n",
    "        # authentication provider roles: [Atoti reserved roles]\n",
    "        \"AUTH0_ADMIN\": [\"ROLE_ADMIN\"],\n",
    "        \"AUTH0_USER\": [\"ROLE_USER\"],\n",
    "        \"AUTH0_ROLE_SHARE\": [\"ROLE_SHARE\"],\n",
    "        # authentication provider roles:  [user-defined roles]\n",
    "        \"AUTH0_ROLE_INSPIRE\": [ROLE_INSPIRE],\n",
    "        \"AUTH0_ROLE_RESTAURANT\": [ROLE_RESTAURANT],\n",
    "        \"AUTH0_ROLE_BURGER\": [ROLE_BURGER],\n",
    "        \"AUTH0_ROLE_SANDWICH\": [ROLE_SANDWICH],\n",
    "        \"AUTH0_ROLE_SNACK\": [ROLE_SNACK],\n",
    "    }\n",
    ")"
   ]
  },
  {
   "cell_type": "markdown",
   "id": "f4a9ccad-608c-490c-8e87-db9385833ea8",
   "metadata": {},
   "source": [
    "While a role from the authentication provider can be mapped to multiple Atoti roles, it is easier to modify user's access by updating the roles in the authentication provider. It is a design consideration whether to have a one-to-one role map or to grant multiple Atoti roles to an authentication provider role.  \n",
    "\n",
    "E.g. By **mapping `AUTH0_USER: [ROLE_USER, ROLE_SHARE]` in Atoti code** meant that all the users with __AUTH0_USER__ role assigned will be able access the web application and to do sharing.  \n",
    "Alternatively, when we code map the **AUTH0 roles individually to each reserved role** as listed in the previous cell, individual users are granted the roles __AUTH0_USER__ and __AUTH0_ROLE_SHARE__ in Auth0 as shown below. Users will be able to modify the role assignment from Auth0 instead of performing code updates.\n",
    "\n",
    "<img src=\"https://data.atoti.io/notebooks/security/img/auth0_roles_assignment.png\" width=\"50%\" />"
   ]
  },
  {
   "cell_type": "markdown",
   "id": "f7e262fe-4a45-4533-a999-822fb8fa6f7b",
   "metadata": {},
   "source": [
    "## 4. Test login and access management in web application"
   ]
  },
  {
   "cell_type": "markdown",
   "id": "d34e9983-df0f-4df5-8f67-77ffe63e44f6",
   "metadata": {},
   "source": [
    "Try out any of these users:\n",
    "\n",
    "___Administrator___\n",
    "- atoti_admin\n",
    "\n",
    "___Generic user___\n",
    "- atoti_user\n",
    "\n",
    "___Inspire Brands users___\n",
    "- Inspire_user1 (Access for restaurants of category Burger only)\n",
    "- Inspire_user2 (Access for restaurants of category Sandwich and Snack only)\n",
    "- Inspire_manager\n",
    "\n",
    "___Restaurant Brands International LLC users___\n",
    "- Restaurant_user1 (Access for restaurants of category Burger only)\n",
    "- Restaurant_user2 (Access for restaurants of category Sandwich and Snack only)\n",
    "- Restaurant_manager"
   ]
  },
  {
   "cell_type": "code",
   "execution_count": 22,
   "id": "fbc19c1b-7f9e-4384-b468-c997364ff93f",
   "metadata": {},
   "outputs": [
    {
     "data": {
      "application/vnd.atoti.link.v0+json": {
       "path": "",
       "sessionLocation": {
        "https": false,
        "port": 9091
       }
      },
      "text/plain": [
       "Open the notebook in JupyterLab with the Atoti extension enabled to see this link."
      ]
     },
     "execution_count": 22,
     "metadata": {},
     "output_type": "execute_result"
    }
   ],
   "source": [
    "session.link()"
   ]
  },
  {
   "cell_type": "markdown",
   "id": "51198c4d-aa5b-44fe-83b8-1a5e0048865b",
   "metadata": {},
   "source": [
    "<div style=\"text-align: center;\" ><a href=\"https://www.atoti.io/?utm_source=gallery&utm_content=oidc-auth0\" target=\"_blank\" rel=\"noopener noreferrer\"><img src=\"https://data.atoti.io/notebooks/banners/Try+Atoti.jpg\" alt=\"Try Atoti\"></a></div>"
   ]
  }
 ],
 "metadata": {
  "kernelspec": {
   "display_name": "Python 3 (ipykernel)",
   "language": "python",
   "name": "python3"
  },
  "language_info": {
   "codemirror_mode": {
    "name": "ipython",
    "version": 3
   },
   "file_extension": ".py",
   "mimetype": "text/x-python",
   "name": "python",
   "nbconvert_exporter": "python",
   "pygments_lexer": "ipython3",
   "version": "3.10.11"
  }
 },
 "nbformat": 4,
 "nbformat_minor": 5
}
