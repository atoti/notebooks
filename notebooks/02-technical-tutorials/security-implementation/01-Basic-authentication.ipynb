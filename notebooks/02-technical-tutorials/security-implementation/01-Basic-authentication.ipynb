{
 "cells": [
  {
   "cell_type": "markdown",
   "id": "6f116c04-b884-4002-ba9c-14aacf434cc5",
   "metadata": {},
   "source": [
    "# Securing an atoti session with Basic authentication\n",
    "\n",
    "\n",
    "Securing a session comes in two parts:\n",
    "1. Implementing authentication mechanism to secure access to the session\n",
    "2. Restricting access of modules or data access by users based on the roles granted\n",
    "\n",
    "With the [Atoti+ plugin](https://docs.atoti.io/latest/atoti_plus.html), atoti supports multiple [authentication mechanisms](https://docs.atoti.io/latest/lib/atoti/atoti.config.authentication.html) and [basic authentication](https://en.wikipedia.org/wiki/Basic_access_authentication) is the easiest way to set up security.  \n",
    "This notebook demonstrates the actions required to implement such security:\n",
    "- Users to be created in atoti. Users will login using their username and password.\n",
    "- Users to be assigned minimally the role of __ROLE_USER__ to be able to access the atoti web application.\n",
    "\n",
    "We will explore security with Atoti+ using the [Top 50 Fast Food](https://www.kaggle.com/datasets/stetsondone/top50fastfood) dataset from Kaggle, combined with its parent company information sourced from the internet.\n",
    "\n",
    "\n",
    "__Note__:  \n",
    "\n",
    "The notebook is structured in this order:\n",
    "1. Authentication setup during session instantiation\n",
    "2. Create BI analytics platform with atoti Community Edition\n",
    "3. Users and roles management with Atoti+\n",
    "\n",
    "Mainly, we look at the roles last because we need to know the names of the tables and columns which we want to impose restrictions on.  \n",
    "Thereafter, we can create the roles with restrictions. Check out [atoti documentation](https://docs.atoti.io) to read more on [securing the session](https://docs.atoti.io/latest/how_tos/security/secure_a_session.html#Configuring-the-authentication-mechanism).  "
   ]
  },
  {
   "cell_type": "markdown",
   "id": "1f23f415-e976-47a8-b375-a69aadd9bd6d",
   "metadata": {},
   "source": [
    "<div style=\"text-align: center;\" ><a href=\"https://www.atoti.io/?utm_source=gallery&utm_content=basic-auth\" target=\"_blank\" rel=\"noopener noreferrer\"><img src=\"https://data.atoti.io/notebooks/banners/discover.png\" alt=\"Try atoti\"></a></div>"
   ]
  },
  {
   "cell_type": "code",
   "execution_count": 1,
   "id": "68ad57e0-9bee-4d84-9e72-11947dd46a8c",
   "metadata": {},
   "outputs": [],
   "source": [
    "import atoti as tt\n",
    "import pandas as pd\n",
    "from atoti_plus import UserServiceClient"
   ]
  },
  {
   "cell_type": "markdown",
   "id": "6eb5c205-1f23-4810-affe-562a9d5cfc51",
   "metadata": {},
   "source": [
    "## 1. Authentication setup in atoti"
   ]
  },
  {
   "cell_type": "markdown",
   "id": "6f15c084-1ffb-457d-80e8-e953cf6f780e",
   "metadata": {},
   "source": [
    "The `realm` below is used to isolate sessions running on the same domain, so if we have only a single session, we can ignore it.  \n",
    "It will be defaulted to some machine-wide unique ID."
   ]
  },
  {
   "cell_type": "code",
   "execution_count": 2,
   "id": "265d750c-670a-4d90-a51f-b1fa3d93ee8d",
   "metadata": {},
   "outputs": [],
   "source": [
    "authentication = tt.BasicAuthenticationConfig(realm=\"atoti Realm\")"
   ]
  },
  {
   "cell_type": "code",
   "execution_count": 3,
   "id": "69fe16a1-25ab-4477-b656-817a3e435492",
   "metadata": {},
   "outputs": [],
   "source": [
    "session = tt.Session(\n",
    "    port=10011,\n",
    "    authentication=authentication,\n",
    "    user_content_storage=\"./content\",\n",
    "    java_options=[\"-Dlogging.level.org.springframework.security=DEBUG\"],\n",
    ")"
   ]
  },
  {
   "cell_type": "markdown",
   "id": "1200afad-63d6-48a7-a05b-de9427bfddf6",
   "metadata": {},
   "source": [
    "### 1.1 Debug security setup\n",
    "\n",
    "During the initial setup, it is useful to configure the [Spring Security logging](https://www.baeldung.com/spring-security-enable-logging) to help in debugging any potential issues in the connectivity.  \n",
    "As shown in the above code snippet, we can turn on logging with `logging.level.org.springframework.security` set to the `DEBUG` level using the `java_options`."
   ]
  },
  {
   "cell_type": "markdown",
   "id": "124d6da1-ece3-4fcf-80f5-dfb21eeb1b72",
   "metadata": {},
   "source": [
    "### 1.2 Manage security configuration with UserServiceClient\n",
    "\n",
    "From [atoti v0.7.2](https://docs.atoti.io/latest/releases/0.7.2.html#added) onwards, atoti uses [UserServiceClient](https://docs.atoti.io/latest/lib/atoti-plus/atoti_plus.user_service_client.user_service_client.html#atoti_plus.UserServiceClient) to manage the dynamic aspects of the security configuration.  \n",
    "With the client, multiple sessions can be configured with the same security configuration stored on the _user content storage_. The security configuration covers the roles and restrictions."
   ]
  },
  {
   "cell_type": "code",
   "execution_count": 4,
   "id": "6a2fef9c-09c2-46e4-b6f6-6f3e957935e8",
   "metadata": {},
   "outputs": [],
   "source": [
    "user_service_client = UserServiceClient.from_session(session)"
   ]
  },
  {
   "cell_type": "markdown",
   "id": "24f8e1df-abb1-4504-81e0-f171863c158a",
   "metadata": {},
   "source": [
    "## 2. Create BI analytics platform with atoti Community Edition"
   ]
  },
  {
   "cell_type": "markdown",
   "id": "1a93a6f5-c48f-4e93-a059-076f8acd1a9b",
   "metadata": {
    "jp-MarkdownHeadingCollapsed": true,
    "tags": []
   },
   "source": [
    "Once the session is created, we can proceed with the usual data loading into atoti table, cube and measures creation.  \n",
    "Remember to re-execute these cells if you have changed the mode of authentiction."
   ]
  },
  {
   "cell_type": "markdown",
   "id": "7e25e7b8-6fe7-4af2-bb10-962235626ed8",
   "metadata": {
    "tags": []
   },
   "source": [
    "### 2.1 Table creation"
   ]
  },
  {
   "cell_type": "markdown",
   "id": "0e5ffa7e-57ee-485d-905e-16b2488d5517",
   "metadata": {},
   "source": [
    "Although we can [`create table`](https://docs.atoti.io/latest/lib/atoti/atoti.session.html#atoti.Session.create_table) before loading data in, we used `read_csv` in our example to create and load data into the atoti tables."
   ]
  },
  {
   "cell_type": "code",
   "execution_count": 5,
   "id": "690e7b55-22d1-4495-af10-e773e70c3637",
   "metadata": {},
   "outputs": [
    {
     "data": {
      "text/html": [
       "<div>\n",
       "<style scoped>\n",
       "    .dataframe tbody tr th:only-of-type {\n",
       "        vertical-align: middle;\n",
       "    }\n",
       "\n",
       "    .dataframe tbody tr th {\n",
       "        vertical-align: top;\n",
       "    }\n",
       "\n",
       "    .dataframe thead th {\n",
       "        text-align: right;\n",
       "    }\n",
       "</style>\n",
       "<table border=\"1\" class=\"dataframe\">\n",
       "  <thead>\n",
       "    <tr style=\"text-align: right;\">\n",
       "      <th></th>\n",
       "      <th></th>\n",
       "      <th>name</th>\n",
       "    </tr>\n",
       "    <tr>\n",
       "      <th>parent_company</th>\n",
       "      <th>company</th>\n",
       "      <th></th>\n",
       "    </tr>\n",
       "  </thead>\n",
       "  <tbody>\n",
       "    <tr>\n",
       "      <th>Inspire Brands</th>\n",
       "      <th>arbys</th>\n",
       "      <td>Arby's</td>\n",
       "    </tr>\n",
       "    <tr>\n",
       "      <th>Domino's Pizza, Inc.</th>\n",
       "      <th>dominos</th>\n",
       "      <td>Domino's</td>\n",
       "    </tr>\n",
       "    <tr>\n",
       "      <th>Papa Murphy's Holdings, Inc.</th>\n",
       "      <th>papa_murphys</th>\n",
       "      <td>Papa Murphy's</td>\n",
       "    </tr>\n",
       "    <tr>\n",
       "      <th>Focus Brands</th>\n",
       "      <th>auntie_annes</th>\n",
       "      <td>Auntie Anne's</td>\n",
       "    </tr>\n",
       "    <tr>\n",
       "      <th>Panda Restaurant Group</th>\n",
       "      <th>panda_express</th>\n",
       "      <td>Panda Express</td>\n",
       "    </tr>\n",
       "  </tbody>\n",
       "</table>\n",
       "</div>"
      ],
      "text/plain": [
       "                                                     name\n",
       "parent_company               company                     \n",
       "Inspire Brands               arbys                 Arby's\n",
       "Domino's Pizza, Inc.         dominos             Domino's\n",
       "Papa Murphy's Holdings, Inc. papa_murphys   Papa Murphy's\n",
       "Focus Brands                 auntie_annes   Auntie Anne's\n",
       "Panda Restaurant Group       panda_express  Panda Express"
      ]
     },
     "execution_count": 5,
     "metadata": {},
     "output_type": "execute_result"
    }
   ],
   "source": [
    "base_tbl = session.read_csv(\n",
    "    \"s3://data.atoti.io/notebooks/security/data/parent_co.csv\",\n",
    "    table_name=\"parent_co\",\n",
    "    keys=[\"company\", \"parent_company\"],\n",
    "    process_quotes=True,\n",
    ")\n",
    "base_tbl.head()"
   ]
  },
  {
   "cell_type": "code",
   "execution_count": 6,
   "id": "bd3a4117-83f2-455f-85d7-f4c8e566ef31",
   "metadata": {},
   "outputs": [
    {
     "data": {
      "text/html": [
       "<div>\n",
       "<style scoped>\n",
       "    .dataframe tbody tr th:only-of-type {\n",
       "        vertical-align: middle;\n",
       "    }\n",
       "\n",
       "    .dataframe tbody tr th {\n",
       "        vertical-align: top;\n",
       "    }\n",
       "\n",
       "    .dataframe thead th {\n",
       "        text-align: right;\n",
       "    }\n",
       "</style>\n",
       "<table border=\"1\" class=\"dataframe\">\n",
       "  <thead>\n",
       "    <tr style=\"text-align: right;\">\n",
       "      <th></th>\n",
       "      <th>category</th>\n",
       "      <th>sales_in_millions_2019</th>\n",
       "      <th>sales_per_unit_thousands_2019</th>\n",
       "      <th>franchised_units_2019</th>\n",
       "      <th>company_owned_units_2019</th>\n",
       "      <th>total_units_2019</th>\n",
       "      <th>unit_change_from_2018</th>\n",
       "    </tr>\n",
       "    <tr>\n",
       "      <th>company</th>\n",
       "      <th></th>\n",
       "      <th></th>\n",
       "      <th></th>\n",
       "      <th></th>\n",
       "      <th></th>\n",
       "      <th></th>\n",
       "      <th></th>\n",
       "    </tr>\n",
       "  </thead>\n",
       "  <tbody>\n",
       "    <tr>\n",
       "      <th>popeyes_chicken</th>\n",
       "      <td>chicken</td>\n",
       "      <td>3750</td>\n",
       "      <td>1541</td>\n",
       "      <td>2458</td>\n",
       "      <td>41</td>\n",
       "      <td>2499</td>\n",
       "      <td>131</td>\n",
       "    </tr>\n",
       "    <tr>\n",
       "      <th>del_taco</th>\n",
       "      <td>global</td>\n",
       "      <td>850</td>\n",
       "      <td>1554</td>\n",
       "      <td>296</td>\n",
       "      <td>300</td>\n",
       "      <td>596</td>\n",
       "      <td>16</td>\n",
       "    </tr>\n",
       "    <tr>\n",
       "      <th>jack_in_the_box</th>\n",
       "      <td>burger</td>\n",
       "      <td>3505</td>\n",
       "      <td>1565</td>\n",
       "      <td>2106</td>\n",
       "      <td>137</td>\n",
       "      <td>2243</td>\n",
       "      <td>6</td>\n",
       "    </tr>\n",
       "    <tr>\n",
       "      <th>tim_hortons</th>\n",
       "      <td>sandwich</td>\n",
       "      <td>840</td>\n",
       "      <td>1165</td>\n",
       "      <td>715</td>\n",
       "      <td>0</td>\n",
       "      <td>715</td>\n",
       "      <td>-12</td>\n",
       "    </tr>\n",
       "    <tr>\n",
       "      <th>mcdonalds</th>\n",
       "      <td>burger</td>\n",
       "      <td>40413</td>\n",
       "      <td>2912</td>\n",
       "      <td>13154</td>\n",
       "      <td>692</td>\n",
       "      <td>13846</td>\n",
       "      <td>-66</td>\n",
       "    </tr>\n",
       "  </tbody>\n",
       "</table>\n",
       "</div>"
      ],
      "text/plain": [
       "                 category  sales_in_millions_2019  \\\n",
       "company                                             \n",
       "popeyes_chicken   chicken                    3750   \n",
       "del_taco           global                     850   \n",
       "jack_in_the_box    burger                    3505   \n",
       "tim_hortons      sandwich                     840   \n",
       "mcdonalds          burger                   40413   \n",
       "\n",
       "                 sales_per_unit_thousands_2019  franchised_units_2019  \\\n",
       "company                                                                 \n",
       "popeyes_chicken                           1541                   2458   \n",
       "del_taco                                  1554                    296   \n",
       "jack_in_the_box                           1565                   2106   \n",
       "tim_hortons                               1165                    715   \n",
       "mcdonalds                                 2912                  13154   \n",
       "\n",
       "                 company_owned_units_2019  total_units_2019  \\\n",
       "company                                                       \n",
       "popeyes_chicken                        41              2499   \n",
       "del_taco                              300               596   \n",
       "jack_in_the_box                       137              2243   \n",
       "tim_hortons                             0               715   \n",
       "mcdonalds                             692             13846   \n",
       "\n",
       "                 unit_change_from_2018  \n",
       "company                                 \n",
       "popeyes_chicken                    131  \n",
       "del_taco                            16  \n",
       "jack_in_the_box                      6  \n",
       "tim_hortons                        -12  \n",
       "mcdonalds                          -66  "
      ]
     },
     "execution_count": 6,
     "metadata": {},
     "output_type": "execute_result"
    }
   ],
   "source": [
    "enrichment_tbl = session.read_csv(\n",
    "    \"s3://data.atoti.io/notebooks/security/data/top_50_fast_food_US.csv\",\n",
    "    table_name=\"top_50\",\n",
    "    keys=[\"company\"],\n",
    ")\n",
    "enrichment_tbl.head()"
   ]
  },
  {
   "cell_type": "code",
   "execution_count": 7,
   "id": "1d9a855e-9638-4c6d-b7bf-1a66298cda9e",
   "metadata": {},
   "outputs": [],
   "source": [
    "base_tbl.join(enrichment_tbl)"
   ]
  },
  {
   "cell_type": "markdown",
   "id": "aa33fc63-fe5d-4fdc-bcb4-f974d98df404",
   "metadata": {},
   "source": [
    "### 2.2. Cube creation"
   ]
  },
  {
   "cell_type": "code",
   "execution_count": 8,
   "id": "3e3fc292-1c39-4da3-8658-075a9293f058",
   "metadata": {},
   "outputs": [],
   "source": [
    "cube = session.create_cube(base_tbl, \"Fast food analysis\")"
   ]
  },
  {
   "cell_type": "markdown",
   "id": "aa227068-49b2-42fa-95c6-af99af5f1909",
   "metadata": {},
   "source": [
    "### 2.3 Measures creation"
   ]
  },
  {
   "cell_type": "code",
   "execution_count": 9,
   "id": "a122e40b-08f9-4e6a-850a-d657ddb12940",
   "metadata": {},
   "outputs": [],
   "source": [
    "h, l, m = cube.hierarchies, cube.levels, cube.measures"
   ]
  },
  {
   "cell_type": "code",
   "execution_count": 10,
   "id": "b4ee046c-a334-4cb6-95b8-7c7036e2ceb8",
   "metadata": {},
   "outputs": [],
   "source": [
    "m[\"sales_in_millions\"] = tt.agg.sum(enrichment_tbl[\"sales_in_millions_2019\"])\n",
    "m[\"sales_per_unit_thousands\"] = tt.agg.sum(\n",
    "    enrichment_tbl[\"sales_per_unit_thousands_2019\"]\n",
    ")\n",
    "m[\"franchised_units\"] = tt.agg.sum(enrichment_tbl[\"franchised_units_2019\"])\n",
    "m[\"company_owned_units\"] = tt.agg.sum(enrichment_tbl[\"company_owned_units_2019\"])\n",
    "m[\"total_units\"] = tt.agg.sum(enrichment_tbl[\"total_units_2019\"])\n",
    "m[\"unit_change_from_2018\"] = tt.agg.sum(enrichment_tbl[\"unit_change_from_2018\"])"
   ]
  },
  {
   "cell_type": "code",
   "execution_count": 11,
   "id": "35c2cf1b-b7b1-4ac8-a10c-1a40a66e49fe",
   "metadata": {},
   "outputs": [],
   "source": [
    "m[\"% franchised\"] = m[\"franchised_units\"] / m[\"total_units\"]\n",
    "m[\"% franchised\"].formatter = \"DOUBLE[0.00%]\""
   ]
  },
  {
   "cell_type": "markdown",
   "id": "12b9823e-7ed9-426c-aa84-a9943e16c0b8",
   "metadata": {},
   "source": [
    "## 3. Roles management in atoti"
   ]
  },
  {
   "cell_type": "markdown",
   "id": "8f69193f-e830-4a35-95f3-1ab0a65fdc55",
   "metadata": {
    "tags": []
   },
   "source": [
    "### 3.1. Create user\n",
    "\n",
    "Users' information are retrieved from authentication provider if one is used. However, in the case of basic authentication, users are created in atoti.\n",
    "Making use of the [BasicSecurity](https://docs.atoti.io/latest/lib/atoti-plus/atoti_plus.security.html#atoti_plus.security.BasicSecurity) module, we create an atoti administrator and a generic atoti user as shown below:"
   ]
  },
  {
   "cell_type": "code",
   "execution_count": 12,
   "id": "f9664d0c-8888-4b23-bbb7-927fbc8744a9",
   "metadata": {},
   "outputs": [
    {
     "data": {
      "text/plain": [
       "<atoti_plus.user_service_client.user.User at 0x1a8758d4ac0>"
      ]
     },
     "execution_count": 12,
     "metadata": {},
     "output_type": "execute_result"
    }
   ],
   "source": [
    "user_service_client.basic.create_user(\"atoti_admin\", password=\"password\")\n",
    "user_service_client.basic.create_user(\"atoti_user\", password=\"password\")"
   ]
  },
  {
   "cell_type": "markdown",
   "id": "985514ac-610c-4d7d-8074-e7397bedfd5a",
   "metadata": {},
   "source": [
    "We cherry-picked two parent companies - Inspire Brands and Restaurant Brands International LLC to demonstrate the roles and access management.  \n",
    "We will create the users based on the list available on [basic_user_pwd.csv](https://data.atoti.io/notebooks/security/users/basic_user_pwd.csv)."
   ]
  },
  {
   "cell_type": "code",
   "execution_count": 13,
   "id": "c1f8f628-a598-4a71-a0ae-e394e5044347",
   "metadata": {},
   "outputs": [
    {
     "name": "stdout",
     "output_type": "stream",
     "text": [
      "Create user: Inspire_user1 - role(s): {'ROLE_USER'}\n",
      "Create user: Inspire_user2 - role(s): {'ROLE_USER'}\n",
      "Create user: Inspire_manager - role(s): {'ROLE_USER'}\n",
      "Create user: Restaurant_user1 - role(s): {'ROLE_USER'}\n",
      "Create user: Restaurant_user2 - role(s): {'ROLE_USER'}\n",
      "Create user: Restaurant_manager - role(s): {'ROLE_USER'}\n"
     ]
    }
   ],
   "source": [
    "users_df = pd.read_csv(\"users/basic_user_pwd.csv\")\n",
    "\n",
    "for row in users_df.to_dict(orient=\"records\"):\n",
    "    if row[\"Status\"] == \"Active\":\n",
    "        user = user_service_client.basic.create_user(\n",
    "            row[\"User\"], password=row[\"Password\"]\n",
    "        )\n",
    "        print(\n",
    "            f\"Create user: {user.username} - role(s): {user_service_client.individual_roles[user.username]}\"\n",
    "        )"
   ]
  },
  {
   "cell_type": "markdown",
   "id": "3ace50b1-6ba4-4e6f-b66b-e2d007d84cd6",
   "metadata": {},
   "source": [
    "The system reserved role `ROLE_USER` is automatically assigned to the created users.  \n",
    "This meant that these users will all be able to access all the web application and all the available data.  \n",
    "We can, however, restrict access for the users by assigning them roles with restricted access."
   ]
  },
  {
   "cell_type": "markdown",
   "id": "4de75a85-fd97-4d2a-9b66-5cca3d434d67",
   "metadata": {},
   "source": [
    "#### 3.1.1 Add/Modify/Delete user with watchdog"
   ]
  },
  {
   "cell_type": "markdown",
   "id": "a8f53363-bbd2-487d-ab2b-8cc4c29d1a4f",
   "metadata": {},
   "source": [
    "We can use third party file watchers such as [watchdog](https://python-watchdog.readthedocs.io/en/stable/) to monitor our flat file containing the list of users and their passwords.  \n",
    "Along with a status indicator, we can easily add/modify/delete users upon file modification."
   ]
  },
  {
   "cell_type": "code",
   "execution_count": 14,
   "id": "f02e72f1-dbd8-46d8-a8c8-841c2f916c6d",
   "metadata": {},
   "outputs": [],
   "source": [
    "from watchdog.events import FileCreatedEvent, FileSystemEventHandler\n",
    "from watchdog.observers.polling import PollingObserver\n",
    "\n",
    "\n",
    "class AtotiWatcher(FileSystemEventHandler):\n",
    "    def on_modified(self, event: FileCreatedEvent):\n",
    "        try:\n",
    "            users_df = pd.read_csv(event.src_path)\n",
    "\n",
    "            for row in users_df.to_dict(orient=\"records\"):\n",
    "                if (row[\"User\"] not in user_service_client.basic.users) & (\n",
    "                    row[\"Status\"] == \"Active\"\n",
    "                ):\n",
    "                    user = user_service_client.basic.create_user(\n",
    "                        row[\"User\"], password=row[\"Password\"]\n",
    "                    )\n",
    "                    print(f\"Create user: {user} - role(s): {user.roles}\")\n",
    "                else:\n",
    "                    if row[\"Status\"] == \"Inactive\":\n",
    "                        user_service_client.basic.users.pop(row[\"User\"])\n",
    "                    else:\n",
    "                        user_service_client.basic.users[row[\"User\"]].password = row[\n",
    "                            \"Password\"\n",
    "                        ]\n",
    "                    print(f\"Update user password: {user}\")\n",
    "\n",
    "        except Exception as error:\n",
    "            print(error)\n",
    "\n",
    "\n",
    "observer = PollingObserver()\n",
    "observer.schedule(AtotiWatcher(), \"users\")\n",
    "observer.start()"
   ]
  },
  {
   "cell_type": "markdown",
   "id": "ff71c770-9f53-4790-9963-2f7c38b3a9d9",
   "metadata": {},
   "source": [
    "### 3.2. atoti reserved roles  \n",
    "\n",
    "The below roles are reserved in atoti and should not be altered by users:\n",
    "- ROLE_ADMIN: able to access all objects in the web application\n",
    "- ROLE_USER: able to access all data by default. Access to objects such as dashboards, folders, widgets etc is only upon sharing access granted to role.\n",
    "- ROLE_SHARE: able to share objects such as dashboards, folders, widgets and filters.  \n",
    "\n",
    "__All users, including the administrator, require the role *ROLE\\_USER* to be able to access the atoti web application.__\n",
    "\n",
    "Let's assume both users, *atoti\\_admin* and *atoti\\_user*, have been granted the role __ROLE_USER__ and *atoti\\_admin* is also granted the role __ROLE_ADMIN__.  \n",
    "While both *atoti\\_admin* and *atoti\\_user* are able to access all data, *atoti\\_admin* is able to access all objects such as folders and dashboards.  \n",
    "*atoti\\_user* is able to access only the objects created by the user him/herself. Objects created by other users can only be access upon shared access granted.  \n",
    "\n",
    "Both *atoti\\_admin* and *atoti\\_user* will not be able to share objects (via the \"Share\" icon as shown below) unless granted the role __ROLE_SHARE__.  \n",
    "\n",
    "<img src=\"https://data.atoti.io/notebooks/security/img/sharing.png\" width=\"70%\"/>"
   ]
  },
  {
   "cell_type": "markdown",
   "id": "58368f29-e716-4381-aa51-1f67ec019586",
   "metadata": {},
   "source": [
    "### 3.3. Role creation with restrictions  "
   ]
  },
  {
   "cell_type": "markdown",
   "id": "3e355675-5976-473e-9abe-54d918d25a5d",
   "metadata": {},
   "source": [
    "Data restriction is based on users' requirement. In our use case, we assumed two groups of users with data access limited to those of their parent company:\n",
    "- users belonging to parent company _Inspire Brands_\n",
    "- users belonging to parent company _Restaurant Brands International Inc._\n",
    "\n",
    "Therefore, we will create two roles to apply the restrictions based on the `parent_company` column from the `parent_co` table.  \n",
    "We will define key that is a tuple, consisting of the name of the table and its column, along with the restricted values imposed on it. \n",
    "\n",
    "__NOTE:__  \n",
    "- We can skip role creation if there are no restrictions imposed on the role. \n",
    "- The value provided under the restrictions is cap-sensitive."
   ]
  },
  {
   "cell_type": "code",
   "execution_count": 15,
   "id": "f716fbe1-03ae-4bac-a068-355cf1d75e10",
   "metadata": {},
   "outputs": [],
   "source": [
    "role_inspire = user_service_client.create_role(\n",
    "    \"ATOTI_ROLE_INSPIRE\",\n",
    "    restrictions={(\"parent_co\", \"parent_company\"): [\"Inspire Brands\"]},\n",
    ")\n",
    "\n",
    "role_restaurant = user_service_client.create_role(\n",
    "    \"ATOTI_ROLE_RESTAURANT\",\n",
    "    restrictions={\n",
    "        (\"parent_co\", \"parent_company\"): [\"Restaurant Brands International Inc.\"]\n",
    "    },\n",
    ")"
   ]
  },
  {
   "cell_type": "markdown",
   "id": "0f572dbd-d803-41bf-876d-d7eb816c476c",
   "metadata": {},
   "source": [
    "#### 3.3.1 Restricted access from combination of roles\n",
    "\n",
    "Multiple roles can be assigned to the same user. To demonstrate how the access will change when this happens, we create some other roles that restrict data access by the restaurant category, i.e. column `category` from the table `top_50`."
   ]
  },
  {
   "cell_type": "code",
   "execution_count": 16,
   "id": "e39094bc-cade-4ba2-bf33-2bfe3768bd34",
   "metadata": {},
   "outputs": [],
   "source": [
    "role_team_burger = user_service_client.create_role(\n",
    "    \"ATOTI_ROLE_BURGER\", restrictions={(\"top_50\", \"category\"): [\"burger\"]}\n",
    ")\n",
    "\n",
    "role_team_sandwich = user_service_client.create_role(\n",
    "    \"ATOTI_ROLE_SANDWICH\", restrictions={(\"top_50\", \"category\"): [\"sandwich\"]}\n",
    ")\n",
    "\n",
    "role_team_snack = user_service_client.create_role(\n",
    "    \"ATOTI_ROLE_SNACK\", restrictions={(\"top_50\", \"category\"): [\"snack\"]}\n",
    ")"
   ]
  },
  {
   "cell_type": "markdown",
   "id": "d5f35f82-30bd-4b1d-86b7-db0cbe1b958a",
   "metadata": {},
   "source": [
    "When combined with the restricted role on the `parent_company`, user's access will be further restricted to based on the restriction of the added role.  \n",
    "\n",
    "For instance, users who are assigned the role __ATOTI_ROLE_BURGER__ will be able to access all the data under _burger_ category restaurants, regardless of the parent companies.  \n",
    "\n",
    "However, when the same user is also granted the role __ATOTI_ROLE_INSPIRE__, then the user can only access data of restaurants under parent company _Inspire Brands_ that is of category _burger_. "
   ]
  },
  {
   "cell_type": "markdown",
   "id": "b6b8a1fe-8d00-4920-b107-6852e9686163",
   "metadata": {
    "tags": []
   },
   "source": [
    "### 3.4. Role assignments (Good reference for roles setup in authentication providers)  \n",
    "\n",
    "We can grant atoti roles directly to users created in atoti without having to perform role mappings like in OIDC."
   ]
  },
  {
   "cell_type": "markdown",
   "id": "3d9d5693-1d4c-47b1-8b26-14357935ed02",
   "metadata": {},
   "source": [
    "#### 3.4.1 ROLE_ADMIN, ROLE_USER and ROLE_SHARE"
   ]
  },
  {
   "cell_type": "markdown",
   "id": "659fcade-013a-4555-b15d-7d0097afdb51",
   "metadata": {},
   "source": [
    "All users created from [BasicSecurity](https://docs.atoti.io/latest/lib/atoti-plus/atoti_plus.security.html#atoti_plus.security.BasicSecurity) are already granted the role __ROLE_USER__ to enable access to the web application.  \n",
    "Let's assign __ROLE_ADMIN__ to the administrative user, __atoti_admin__ and __ROLE_SHARE__ to the *atoti\\_user*."
   ]
  },
  {
   "cell_type": "code",
   "execution_count": 17,
   "id": "096feeea-e533-403d-a7f2-45bcadb62889",
   "metadata": {},
   "outputs": [],
   "source": [
    "user_service_client.individual_roles[\"atoti_admin\"].add(\"ROLE_ADMIN\")\n",
    "user_service_client.individual_roles[\"atoti_user\"].add(\"ROLE_SHARE\")"
   ]
  },
  {
   "cell_type": "markdown",
   "id": "bef59353-38a3-4103-a8e1-21e47d67f40d",
   "metadata": {},
   "source": [
    "#### 3.4.2 Multiple roles assignment  \n",
    "\n",
    "We grant the managers only access to the data available under their parent companies.  \n",
    "These restrictions will be applied under the role __ATOTI_ROLE_INSPIRE__ and __ATOTI_ROLE_RESTAURANT__ respectively.  \n",
    "\n",
    "Also, the managers will be granted __ROLE_SHARE__ for them to share the objects such as dashboards and widgets for which they are the owners of."
   ]
  },
  {
   "cell_type": "code",
   "execution_count": 18,
   "id": "2a37ab9e-44a4-49d6-9a92-c3a4d074adff",
   "metadata": {},
   "outputs": [],
   "source": [
    "user_service_client.individual_roles[\"Inspire_manager\"].update(\n",
    "    [role_inspire.name, \"ROLE_SHARE\"]\n",
    ")\n",
    "user_service_client.individual_roles[\"Restaurant_manager\"].update(\n",
    "    [role_restaurant.name, \"ROLE_SHARE\"]\n",
    ")"
   ]
  },
  {
   "cell_type": "markdown",
   "id": "fee2e124-be64-4c0f-84f6-09b7c403b2c3",
   "metadata": {},
   "source": [
    "Each company has two users that have even more restricted access than the managers.  \n",
    "User 1 of each company can only access data for restaurants of category _burgers_ with role __ATOTI_ROLE_BURGER__.  \n",
    "User 2 of each company can only access data for restaurants of category _sandwich_ and _snack_ with roles __ATOTI_ROLE_SANDWICH__ and __ATOTI_ROLE_SNACK__.  \n",
    "\n",
    "Combined with either the role __ATOTI_ROLE_INSPIRE__ or __ATOTI_ROLE_RESTAURANT__, they will only see the specific category of restaurants under their parent companies."
   ]
  },
  {
   "cell_type": "code",
   "execution_count": 19,
   "id": "2975571f-1fa3-4461-8821-7c411eaf744e",
   "metadata": {},
   "outputs": [],
   "source": [
    "# access restaurants of category Burger under Inspire Brands\n",
    "user_service_client.individual_roles[\"Inspire_user1\"].update(\n",
    "    [role_inspire.name, role_team_burger.name]\n",
    ")\n",
    "\n",
    "# access restaurants of category Sandwich or Snack under Inspire Brands\n",
    "user_service_client.individual_roles[\"Inspire_user2\"].update(\n",
    "    [role_inspire.name, role_team_sandwich.name, role_team_snack.name]\n",
    ")\n",
    "\n",
    "# access restaurants of category Burger under Restaurant Brands International LLC\n",
    "user_service_client.individual_roles[\"Restaurant_user1\"].update(\n",
    "    [role_restaurant.name, role_team_burger.name]\n",
    ")\n",
    "\n",
    "# access restaurants of category Sandwich or Snack under Restaurant Brands International LLC\n",
    "user_service_client.individual_roles[\"Restaurant_user2\"].update(\n",
    "    [role_restaurant.name, role_team_sandwich.name, role_team_snack.name]\n",
    ")"
   ]
  },
  {
   "cell_type": "markdown",
   "id": "f7e262fe-4a45-4533-a999-822fb8fa6f7b",
   "metadata": {},
   "source": [
    "## 4. Test login and access management in web application"
   ]
  },
  {
   "cell_type": "markdown",
   "id": "70563aeb-7bd1-43a9-b97b-d32c5c2d3a3d",
   "metadata": {},
   "source": [
    "Try out any of these users. Password is simply \"password\".\n",
    "\n",
    "___Administrator___\n",
    "- atoti_admin\n",
    "\n",
    "___Generic user___\n",
    "- atoti_user\n",
    "\n",
    "___Inspire Brands users___\n",
    "- Inspire_user1\n",
    "- Inspire_user2\n",
    "- Inspire_manager\n",
    "\n",
    "___Restaurant Brands International LLC users___\n",
    "- Restaurant_user1\n",
    "- Restaurant_user2\n",
    "- Restaurant_manager"
   ]
  },
  {
   "cell_type": "code",
   "execution_count": 20,
   "id": "fbc19c1b-7f9e-4384-b468-c997364ff93f",
   "metadata": {},
   "outputs": [
    {
     "data": {
      "application/vnd.atoti.link.v0+json": {
       "path": "",
       "sessionLocation": {
        "https": false,
        "port": 10011
       }
      },
      "text/plain": [
       "Open the notebook in JupyterLab with the atoti extension enabled to see this link."
      ]
     },
     "execution_count": 20,
     "metadata": {},
     "output_type": "execute_result"
    }
   ],
   "source": [
    "session.link()"
   ]
  },
  {
   "cell_type": "markdown",
   "id": "a3d4dbae-7fe0-4c8f-b012-f8d6e33c363e",
   "metadata": {},
   "source": [
    "<div style=\"text-align: center;\" ><a href=\"https://www.atoti.io/?utm_source=gallery&utm_content=basic-auth\" target=\"_blank\" rel=\"noopener noreferrer\"><img src=\"https://data.atoti.io/notebooks/banners/discover-try.png\" alt=\"Try atoti\"></a></div>"
   ]
  }
 ],
 "metadata": {
  "kernelspec": {
   "display_name": "Python 3 (ipykernel)",
   "language": "python",
   "name": "python3"
  },
  "language_info": {
   "codemirror_mode": {
    "name": "ipython",
    "version": 3
   },
   "file_extension": ".py",
   "mimetype": "text/x-python",
   "name": "python",
   "nbconvert_exporter": "python",
   "pygments_lexer": "ipython3",
   "version": "3.9.13"
  }
 },
 "nbformat": 4,
 "nbformat_minor": 5
}
