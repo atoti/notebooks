{
 "cells": [
  {
   "cell_type": "markdown",
   "id": "58967508-75bc-4c4d-8c47-c9c691a29b5f",
   "metadata": {
    "tags": []
   },
   "source": [
    "# Securing an Atoti session\n",
    "\n",
    "Securing a session comes in two parts:\n",
    "1. Implementing an authentication mechanism to secure access to the session\n",
    "2. Restricting access of modules or data access by users based on the roles granted\n",
    "\n",
    "__Security implementation is one of the [locked features](https://docs.atoti.io/latest/how_tos/unlock_all_features.html) that is not available in Atoti Community Edition. To try out this notebook, you can request for an [evaluation license](https://atoti.io/evaluation-license-request/) to unlock all the features.__ \n",
    "\n",
    "Atoti supports multiple [authentication mechanisms](https://docs.atoti.io/latest/lib/atoti/atoti.config.authentication.html) to cater to the needs of our end users.  \n",
    "\n",
    "This notebook puts together 4 different ways we could authenticate users in Atoti, so that you can compare the differences in the implementation.  \n",
    "\n",
    "You could alternatively focus on the individual implementation in the following notebooks:\n",
    "- [01-Basic-authentication.ipynb](./01-Basic-authentication.ipynb)\n",
    "- [02-OIDC-Auth0.ipynb](./02-OIDC-Auth0.ipynb)\n",
    "- [03-OIDC-Google.ipynb](./03-OIDC-Google.ipynb)\n",
    "- [04-LDAP.ipynb](./03-OIDC-Google.ipynb)\n",
    "\n",
    "We will explore the Atoti security features using the [Top 50 Fast Food](https://www.kaggle.com/datasets/stetsondone/top50fastfood) dataset from Kaggle, combined with its parent company information sourced from the internet.  \n",
    "\n",
    "__Note__:  \n",
    "\n",
    "The notebook is structured in this order:\n",
    "1. Authentication setup during session instantiation\n",
    "2. Create BI analytics platform with Atoti\n",
    "3. Users and roles management with Atoti\n",
    "\n",
    "Mainly, we look at the roles last because we need to know the names of the tables and columns which we want to impose restrictions on.  \n",
    "Thereafter, we can create the roles with restrictions."
   ]
  },
  {
   "cell_type": "markdown",
   "id": "28239d2e-3fd9-44df-9c68-f42ff77dfc98",
   "metadata": {},
   "source": [
    "<div style=\"text-align: center;\" ><a href=\"https://www.atoti.io/?utm_source=gallery&utm_content=security-implementation\" target=\"_blank\" rel=\"noopener noreferrer\"><img src=\"https://data.atoti.io/notebooks/banners/Discover+Atoti+now.jpg\" alt=\"Try Atoti\"></a></div>"
   ]
  },
  {
   "cell_type": "code",
   "execution_count": 1,
   "id": "68ad57e0-9bee-4d84-9e72-11947dd46a8c",
   "metadata": {
    "tags": []
   },
   "outputs": [],
   "source": [
    "import os\n",
    "import requests\n",
    "import atoti as tt\n",
    "import ipywidgets as widgets\n",
    "import pandas as pd"
   ]
  },
  {
   "cell_type": "code",
   "execution_count": 2,
   "id": "e3010734-24e3-464e-92b4-a90c483534b0",
   "metadata": {
    "tags": []
   },
   "outputs": [],
   "source": [
    "AUTH_BASIC = \"BASIC\"\n",
    "AUTH_OIDC_GOOGLE = \"OIDC - Google\"\n",
    "AUTH_OIDC_AUTH0 = \"OIDC - Auth0\"\n",
    "AUTH_LDAP = \"LDAP\""
   ]
  },
  {
   "cell_type": "markdown",
   "id": "82334f35-6b64-405f-bf01-2ecc34f67d58",
   "metadata": {},
   "source": [
    "## 1. Authentication mechanism selection\n",
    "\n",
    "Assuming you have the corresponding authentication provider configured with the users (and roles where applicable), select the mode of authentication you would like to test.  \n",
    "\n",
    "__NOTE:__ Restart the session if the mode of authentication is changed. Session will be recreated and consequently, data has to be reloaded and the cube has to be recreated as well."
   ]
  },
  {
   "cell_type": "code",
   "execution_count": 3,
   "id": "da689ae9-8146-4e17-9a77-509ac67b39fd",
   "metadata": {
    "tags": []
   },
   "outputs": [
    {
     "data": {
      "application/vnd.jupyter.widget-view+json": {
       "model_id": "b05ab4ae72954f8992be9c830ec06a15",
       "version_major": 2,
       "version_minor": 0
      },
      "text/plain": [
       "RadioButtons(description='Mode of authentication:', options=('BASIC', 'OIDC - Google', 'OIDC - Auth0', 'LDAP')…"
      ]
     },
     "metadata": {},
     "output_type": "display_data"
    }
   ],
   "source": [
    "auth_mode = widgets.RadioButtons(\n",
    "    options=[AUTH_BASIC, AUTH_OIDC_GOOGLE, AUTH_OIDC_AUTH0, AUTH_LDAP],\n",
    "    value=AUTH_BASIC,\n",
    "    description=\"Mode of authentication:\",\n",
    "    disabled=False,\n",
    "    style={\"description_width\": \"initial\"},\n",
    ")\n",
    "\n",
    "display(auth_mode)"
   ]
  },
  {
   "cell_type": "markdown",
   "id": "c7753688-efe6-485f-bdc3-4dcb5f7a4bc7",
   "metadata": {
    "tags": []
   },
   "source": [
    "### 1.1. Authentication setup in Atoti  \n",
    "\n",
    "We demonstrate below how we configure the authentication parameter of [`atoti.Session`](https://docs.atoti.io/latest/lib/atoti/atoti.session.html#atoti.Session.__init__) for different authentication mechanisms.  "
   ]
  },
  {
   "cell_type": "code",
   "execution_count": 4,
   "id": "90baca19-4c9e-4f88-846d-7bb5b4d7abc7",
   "metadata": {},
   "outputs": [],
   "source": [
    "def get_auth_mode():\n",
    "    print(\"Mode of auth:\", auth_mode.value)\n",
    "\n",
    "    if auth_mode.value == AUTH_BASIC:\n",
    "        # https://docs.atoti.io/latest/lib/atoti/atoti.config.authentication.basic_authentication_config.html\n",
    "        # The realm value (case-sensitive), in combination with the canonical root URL of the server being accessed, defines the protection space.\n",
    "        authentication = tt.BasicAuthenticationConfig(realm=\"atoti Realm\")\n",
    "\n",
    "    elif auth_mode.value == AUTH_OIDC_AUTH0:\n",
    "        # https://docs.atoti.io/latest/lib/atoti/atoti.config.authentication.oidc_config.html\n",
    "        authentication = tt.OidcConfig(\n",
    "            provider_id=\"auth0\",\n",
    "            issuer_url=\"https://dev-5m2svhd0.us.auth0.com/\",\n",
    "            client_id=os.environ[\"AUTH0_CLIENT_ID\"],\n",
    "            client_secret=os.environ[\"AUTH0_CLIENT_SECRET\"],\n",
    "            name_claim=\"name\",\n",
    "            scopes=[\"email\", \"profile\", \"username\", \"roles\"],\n",
    "            roles_claims=[\n",
    "                \"https://dev-5m2svhd0:us:auth0:com/roles\",\n",
    "            ],\n",
    "        )\n",
    "\n",
    "    elif auth_mode.value == AUTH_OIDC_GOOGLE:\n",
    "        # https://docs.atoti.io/latest/lib/atoti/atoti.config.authentication.oidc_config.html\n",
    "        authentication = tt.OidcConfig(\n",
    "            provider_id=\"google\",\n",
    "            issuer_url=\"https://accounts.google.com\",\n",
    "            client_id=os.environ[\"GOOGLE_CLIENT_ID\"],\n",
    "            client_secret=os.environ[\"GOOGLE_CLIENT_SECRET\"],\n",
    "            scopes=[\"https://www.googleapis.com/auth/userinfo.email\"],\n",
    "            name_claim=\"email\",\n",
    "        )\n",
    "    elif auth_mode.value == AUTH_LDAP:\n",
    "        authentication = tt.LdapConfig(\n",
    "            url=\"ldap://localhost:10389\",\n",
    "            base_dn=\"dc=example,dc=com\",\n",
    "            user_search_base=\"ou=people\",\n",
    "            group_search_base=\"ou=roles\",\n",
    "        )\n",
    "\n",
    "    return authentication"
   ]
  },
  {
   "cell_type": "markdown",
   "id": "a90a623d-bc1b-4455-8c95-2648a7f81e03",
   "metadata": {},
   "source": [
    "Client ids and secrets in the case of OIDC should be kept private. As suggested in the [documentation](https://docs.atoti.io/latest/how_tos/secure_a_session.html#Configuring-the-authentication-mechanism), connection details can be read from environment variables for improved security.  "
   ]
  },
  {
   "cell_type": "markdown",
   "id": "b2c499fb-fd9c-4966-9ce2-c48ac19cf070",
   "metadata": {
    "tags": []
   },
   "source": [
    "#### 1.1.1. [OIDC - Auth0 only] Authentication config mapping against Auth0 setup  "
   ]
  },
  {
   "cell_type": "markdown",
   "id": "eb4237a1-846d-4380-a172-4addce754a04",
   "metadata": {},
   "source": [
    "In Auth0, navigate to Actions > Library and click on \"Build Custom\" button to create a trigger for the `Login / Post Login` as follows (update namespace according to your environment):\n",
    "\n",
    "```\n",
    "exports.onExecutePostLogin = async (event, api) => {\n",
    "  const namespace = 'https://dev-5m2svhd0.us.auth0.com';\n",
    "  if (event.authorization) {\n",
    "    api.idToken.setCustomClaim(`${namespace}/roles`, event.authorization.roles);\n",
    "    api.accessToken.setCustomClaim(`${namespace}/roles`, event.authorization.roles);\n",
    "  }\n",
    "};\n",
    "```\n",
    "\n",
    "Thereafter, refer to the following for the setting mapping against Auth0:\n",
    "<img src=\"https://data.atoti.io/notebooks/security/img/auth0-setup.png\" width=\"80%\" />  \n",
    "\n",
    "`name_claim` could be email or name, depending on what you would like to see reflected in the application:  \n",
    "\n",
    "<img src=\"https://data.atoti.io/notebooks/security/img/displayed_id.png\" width=\"80%\" />  "
   ]
  },
  {
   "cell_type": "markdown",
   "id": "82617365-a727-419c-a7ef-fdd80cb52e42",
   "metadata": {},
   "source": [
    "#### 1.1.2. [OIDC - Google only] Authentication config mapping against Google setup"
   ]
  },
  {
   "cell_type": "markdown",
   "id": "7ceab3ea-5dec-46f1-9ab2-4b3d7fccc3d6",
   "metadata": {},
   "source": [
    "Firstly, we have to configure the _OAuth consent screen_ and registered our app. Remember to set the \"User type\" to _Internal_, so that our app is limited to Google Workspace users within our organisation.  \n",
    "\n",
    "<img src=\"https://data.atoti.io/notebooks/security/img/google-oauth-consent-screen.png\" width=\"70%\" />\n",
    "\n",
    "Proceed to create a credential of type \"OAuth client IDs\" under __APIs & Services > Credentials__ in Google Cloud.  \n",
    "Thereafter, refer to the following for the setting mapping against google:  \n",
    "<img src=\"https://data.atoti.io/notebooks/security/img/google-setup.png\" width=\"70%\" />"
   ]
  },
  {
   "cell_type": "markdown",
   "id": "6eb5c205-1f23-4810-affe-562a9d5cfc51",
   "metadata": {},
   "source": [
    "#### 1.1.3. [LDAP] Authentication config mapping"
   ]
  },
  {
   "cell_type": "markdown",
   "id": "4faaebfa-9941-4448-bb93-137b65a36871",
   "metadata": {},
   "source": [
    "In our example, we used the [Apache DS](https://directory.apache.org/apacheds/) to configure our LDAP server.\n",
    "\n",
    "Use `user_search_base` to search the group where the user id (UID) resides under.  \n",
    "Use `group_search_base` to search the group where the common names (CN) resides under.  \n",
    "\n",
    "<img src=\"https://data.atoti.io/notebooks/security/img/ldap-setup.png\" width=\"70%\" />  \n",
    "\n",
    "__All users should have the role equivalent to `ROLE_USER` to be able to access Atoti UI.__"
   ]
  },
  {
   "cell_type": "markdown",
   "id": "f7ca04be-e779-407c-af28-3352599e2f61",
   "metadata": {},
   "source": [
    "### 1.2. Session instantiation with authentication \n",
    "\n",
    "For OIDC setup, it is important to fix the port to configure some URLs for callbacks.  \n",
    "\n",
    "<img src=\"https://data.atoti.io/notebooks/security/img/callbacks.png\" width=\"70%\" />  \n",
    "\n",
    "We use the [provider id](https://docs.atoti.io/latest/lib/atoti/atoti.config.authentication.oidc_config.html#atoti.OidcConfig.provider_id) (e.g. google or auth0) to build the redirect URL:\n",
    "\n",
    "`f\"{session_url}/login/oauth2/code/{provider_id}\"`  \n",
    "\n",
    "In any case, setting up firewall is part of the security setup and this would require a fixed port for the application too."
   ]
  },
  {
   "cell_type": "code",
   "execution_count": 5,
   "id": "69fe16a1-25ab-4477-b656-817a3e435492",
   "metadata": {},
   "outputs": [
    {
     "name": "stdout",
     "output_type": "stream",
     "text": [
      "Mode of auth: BASIC\n"
     ]
    }
   ],
   "source": [
    "session = tt.Session(\n",
    "    port=10018,\n",
    "    authentication=get_auth_mode(),\n",
    "    user_content_storage=\"./content\",\n",
    "    java_options=[\"-Dlogging.level.org.springframework.security=DEBUG\"],\n",
    ")"
   ]
  },
  {
   "cell_type": "markdown",
   "id": "13e7d9a3-6e8f-42cb-a1e8-9b1f619f2fb5",
   "metadata": {},
   "source": [
    "#### 1.2.1 Debug security setup\n",
    "\n",
    "During the initial setup, it is useful to configure the [Spring Security logging](https://www.baeldung.com/spring-security-enable-logging) to help in debugging any potential issues in the connectivity.  \n",
    "As shown in the above code snippet, we can turn on logging with `logging.level.org.springframework.security` set to the `DEBUG` level using the `java_options`."
   ]
  },
  {
   "cell_type": "markdown",
   "id": "1c7ceabf-9f17-47b0-a54e-a3760475b70b",
   "metadata": {},
   "source": [
    "## 2. Create BI analytics platform with Atoti"
   ]
  },
  {
   "cell_type": "markdown",
   "id": "dfa5faf0-2ca5-4da5-89c9-3ff448e62869",
   "metadata": {
    "jp-MarkdownHeadingCollapsed": true,
    "tags": []
   },
   "source": [
    "Once the session is created, we can proceed with the usual data loading into Atoti table, cube and measures creation.  \n",
    "Remember to re-execute these cells if you have changed the mode of authentiction."
   ]
  },
  {
   "cell_type": "markdown",
   "id": "5ec9bcea-f8ab-42d9-8601-ebdf0e8ceab1",
   "metadata": {
    "tags": []
   },
   "source": [
    "### 2.1 Table creation"
   ]
  },
  {
   "cell_type": "markdown",
   "id": "c237f99c-8791-4659-950d-a2cd579fccad",
   "metadata": {},
   "source": [
    "Although we can [`create table`](https://docs.atoti.io/latest/lib/atoti/atoti.session.html#atoti.Session.create_table) before loading data in, we used `read_csv` in our example to create and load data into the Atoti tables."
   ]
  },
  {
   "cell_type": "code",
   "execution_count": 6,
   "id": "8c62262c-2628-4508-81c3-21eaa0d221c7",
   "metadata": {},
   "outputs": [
    {
     "data": {
      "text/html": [
       "<div>\n",
       "<style scoped>\n",
       "    .dataframe tbody tr th:only-of-type {\n",
       "        vertical-align: middle;\n",
       "    }\n",
       "\n",
       "    .dataframe tbody tr th {\n",
       "        vertical-align: top;\n",
       "    }\n",
       "\n",
       "    .dataframe thead th {\n",
       "        text-align: right;\n",
       "    }\n",
       "</style>\n",
       "<table border=\"1\" class=\"dataframe\">\n",
       "  <thead>\n",
       "    <tr style=\"text-align: right;\">\n",
       "      <th></th>\n",
       "      <th></th>\n",
       "      <th>name</th>\n",
       "    </tr>\n",
       "    <tr>\n",
       "      <th>parent_company</th>\n",
       "      <th>company</th>\n",
       "      <th></th>\n",
       "    </tr>\n",
       "  </thead>\n",
       "  <tbody>\n",
       "    <tr>\n",
       "      <th>Inspire Brands</th>\n",
       "      <th>arbys</th>\n",
       "      <td>Arby's</td>\n",
       "    </tr>\n",
       "    <tr>\n",
       "      <th>Domino's Pizza, Inc.</th>\n",
       "      <th>dominos</th>\n",
       "      <td>Domino's</td>\n",
       "    </tr>\n",
       "    <tr>\n",
       "      <th>Papa Murphy's Holdings, Inc.</th>\n",
       "      <th>papa_murphys</th>\n",
       "      <td>Papa Murphy's</td>\n",
       "    </tr>\n",
       "    <tr>\n",
       "      <th>Focus Brands</th>\n",
       "      <th>auntie_annes</th>\n",
       "      <td>Auntie Anne's</td>\n",
       "    </tr>\n",
       "    <tr>\n",
       "      <th>Panda Restaurant Group</th>\n",
       "      <th>panda_express</th>\n",
       "      <td>Panda Express</td>\n",
       "    </tr>\n",
       "  </tbody>\n",
       "</table>\n",
       "</div>"
      ],
      "text/plain": [
       "                                                     name\n",
       "parent_company               company                     \n",
       "Inspire Brands               arbys                 Arby's\n",
       "Domino's Pizza, Inc.         dominos             Domino's\n",
       "Papa Murphy's Holdings, Inc. papa_murphys   Papa Murphy's\n",
       "Focus Brands                 auntie_annes   Auntie Anne's\n",
       "Panda Restaurant Group       panda_express  Panda Express"
      ]
     },
     "execution_count": 6,
     "metadata": {},
     "output_type": "execute_result"
    }
   ],
   "source": [
    "base_tbl = session.read_csv(\n",
    "    \"s3://data.atoti.io/notebooks/security/data/parent_co.csv\",\n",
    "    table_name=\"parent_co\",\n",
    "    keys=[\"company\", \"parent_company\"],\n",
    "    process_quotes=True,\n",
    ")\n",
    "base_tbl.head()"
   ]
  },
  {
   "cell_type": "code",
   "execution_count": 7,
   "id": "5ca8effa-27ad-441b-ab14-cddb19d35796",
   "metadata": {},
   "outputs": [
    {
     "data": {
      "text/html": [
       "<div>\n",
       "<style scoped>\n",
       "    .dataframe tbody tr th:only-of-type {\n",
       "        vertical-align: middle;\n",
       "    }\n",
       "\n",
       "    .dataframe tbody tr th {\n",
       "        vertical-align: top;\n",
       "    }\n",
       "\n",
       "    .dataframe thead th {\n",
       "        text-align: right;\n",
       "    }\n",
       "</style>\n",
       "<table border=\"1\" class=\"dataframe\">\n",
       "  <thead>\n",
       "    <tr style=\"text-align: right;\">\n",
       "      <th></th>\n",
       "      <th>category</th>\n",
       "      <th>sales_in_millions_2019</th>\n",
       "      <th>sales_per_unit_thousands_2019</th>\n",
       "      <th>franchised_units_2019</th>\n",
       "      <th>company_owned_units_2019</th>\n",
       "      <th>total_units_2019</th>\n",
       "      <th>unit_change_from_2018</th>\n",
       "    </tr>\n",
       "    <tr>\n",
       "      <th>company</th>\n",
       "      <th></th>\n",
       "      <th></th>\n",
       "      <th></th>\n",
       "      <th></th>\n",
       "      <th></th>\n",
       "      <th></th>\n",
       "      <th></th>\n",
       "    </tr>\n",
       "  </thead>\n",
       "  <tbody>\n",
       "    <tr>\n",
       "      <th>popeyes_chicken</th>\n",
       "      <td>chicken</td>\n",
       "      <td>3750</td>\n",
       "      <td>1541</td>\n",
       "      <td>2458</td>\n",
       "      <td>41</td>\n",
       "      <td>2499</td>\n",
       "      <td>131</td>\n",
       "    </tr>\n",
       "    <tr>\n",
       "      <th>del_taco</th>\n",
       "      <td>global</td>\n",
       "      <td>850</td>\n",
       "      <td>1554</td>\n",
       "      <td>296</td>\n",
       "      <td>300</td>\n",
       "      <td>596</td>\n",
       "      <td>16</td>\n",
       "    </tr>\n",
       "    <tr>\n",
       "      <th>jack_in_the_box</th>\n",
       "      <td>burger</td>\n",
       "      <td>3505</td>\n",
       "      <td>1565</td>\n",
       "      <td>2106</td>\n",
       "      <td>137</td>\n",
       "      <td>2243</td>\n",
       "      <td>6</td>\n",
       "    </tr>\n",
       "    <tr>\n",
       "      <th>tim_hortons</th>\n",
       "      <td>sandwich</td>\n",
       "      <td>840</td>\n",
       "      <td>1165</td>\n",
       "      <td>715</td>\n",
       "      <td>0</td>\n",
       "      <td>715</td>\n",
       "      <td>-12</td>\n",
       "    </tr>\n",
       "    <tr>\n",
       "      <th>mcdonalds</th>\n",
       "      <td>burger</td>\n",
       "      <td>40413</td>\n",
       "      <td>2912</td>\n",
       "      <td>13154</td>\n",
       "      <td>692</td>\n",
       "      <td>13846</td>\n",
       "      <td>-66</td>\n",
       "    </tr>\n",
       "  </tbody>\n",
       "</table>\n",
       "</div>"
      ],
      "text/plain": [
       "                 category  sales_in_millions_2019  \\\n",
       "company                                             \n",
       "popeyes_chicken   chicken                    3750   \n",
       "del_taco           global                     850   \n",
       "jack_in_the_box    burger                    3505   \n",
       "tim_hortons      sandwich                     840   \n",
       "mcdonalds          burger                   40413   \n",
       "\n",
       "                 sales_per_unit_thousands_2019  franchised_units_2019  \\\n",
       "company                                                                 \n",
       "popeyes_chicken                           1541                   2458   \n",
       "del_taco                                  1554                    296   \n",
       "jack_in_the_box                           1565                   2106   \n",
       "tim_hortons                               1165                    715   \n",
       "mcdonalds                                 2912                  13154   \n",
       "\n",
       "                 company_owned_units_2019  total_units_2019  \\\n",
       "company                                                       \n",
       "popeyes_chicken                        41              2499   \n",
       "del_taco                              300               596   \n",
       "jack_in_the_box                       137              2243   \n",
       "tim_hortons                             0               715   \n",
       "mcdonalds                             692             13846   \n",
       "\n",
       "                 unit_change_from_2018  \n",
       "company                                 \n",
       "popeyes_chicken                    131  \n",
       "del_taco                            16  \n",
       "jack_in_the_box                      6  \n",
       "tim_hortons                        -12  \n",
       "mcdonalds                          -66  "
      ]
     },
     "execution_count": 7,
     "metadata": {},
     "output_type": "execute_result"
    }
   ],
   "source": [
    "enrichment_tbl = session.read_csv(\n",
    "    \"s3://data.atoti.io/notebooks/security/data/top_50_fast_food_US.csv\",\n",
    "    table_name=\"top_50\",\n",
    "    keys=[\"company\"],\n",
    ")\n",
    "enrichment_tbl.head()"
   ]
  },
  {
   "cell_type": "code",
   "execution_count": 8,
   "id": "f3590c32-b2e7-4967-bf24-94b7df76507b",
   "metadata": {},
   "outputs": [],
   "source": [
    "base_tbl.join(enrichment_tbl)"
   ]
  },
  {
   "cell_type": "markdown",
   "id": "105abc9c-7646-475d-bb68-8cb9990668a2",
   "metadata": {},
   "source": [
    "### 2.2. Cube creation"
   ]
  },
  {
   "cell_type": "code",
   "execution_count": 9,
   "id": "2df2cd6e-5fee-4733-b69f-0618f467dbef",
   "metadata": {},
   "outputs": [],
   "source": [
    "cube = session.create_cube(base_tbl, \"Fast food analysis\")"
   ]
  },
  {
   "cell_type": "markdown",
   "id": "31eae89d-36a9-44be-9aed-ffd8e4783108",
   "metadata": {},
   "source": [
    "### 2.3 Measures creation"
   ]
  },
  {
   "cell_type": "code",
   "execution_count": 10,
   "id": "0bd38e94-2694-48ec-9a39-3108d03882e4",
   "metadata": {},
   "outputs": [],
   "source": [
    "h, l, m = cube.hierarchies, cube.levels, cube.measures"
   ]
  },
  {
   "cell_type": "code",
   "execution_count": 11,
   "id": "004f7946-a97c-4b97-850c-4001bda40d1d",
   "metadata": {},
   "outputs": [],
   "source": [
    "m[\"sales_in_millions\"] = tt.agg.sum(enrichment_tbl[\"sales_in_millions_2019\"])\n",
    "m[\"sales_per_unit_thousands\"] = tt.agg.sum(\n",
    "    enrichment_tbl[\"sales_per_unit_thousands_2019\"]\n",
    ")\n",
    "m[\"franchised_units\"] = tt.agg.sum(enrichment_tbl[\"franchised_units_2019\"])\n",
    "m[\"company_owned_units\"] = tt.agg.sum(enrichment_tbl[\"company_owned_units_2019\"])\n",
    "m[\"total_units\"] = tt.agg.sum(enrichment_tbl[\"total_units_2019\"])\n",
    "m[\"unit_change_from_2018\"] = tt.agg.sum(enrichment_tbl[\"unit_change_from_2018\"])"
   ]
  },
  {
   "cell_type": "code",
   "execution_count": 12,
   "id": "f79426db-eca1-42a9-a7e3-12acb7cf59b3",
   "metadata": {},
   "outputs": [],
   "source": [
    "m[\"% franchised\"] = m[\"franchised_units\"] / m[\"total_units\"]\n",
    "m[\"% franchised\"].formatter = \"DOUBLE[0.00%]\""
   ]
  },
  {
   "cell_type": "markdown",
   "id": "c4ac569f-4ba9-4084-94f1-4a60b639df9b",
   "metadata": {},
   "source": [
    "## 3. Manage users and roles with Atoti"
   ]
  },
  {
   "cell_type": "markdown",
   "id": "d35c6899-9d68-411b-8fe2-c781f79e5c66",
   "metadata": {},
   "source": [
    "Let's create some constants for the user id of the users we will be creating.  "
   ]
  },
  {
   "cell_type": "code",
   "execution_count": 13,
   "id": "a6d0c79d-420a-4f0f-8f90-fd98628463d0",
   "metadata": {
    "tags": []
   },
   "outputs": [],
   "source": [
    "ADMIN_USER = \"atoti_admin\"\n",
    "ATOTI_USER = \"atoti_user\"\n",
    "\n",
    "INSPIRE_USER1 = \"Inspire_user1\"\n",
    "INSPIRE_USER2 = \"Inspire_user2\"\n",
    "INSPIRE_MANAGER = \"Inspire_manager\"\n",
    "RESTAURANT_USER1 = \"Restaurant_user1\"\n",
    "RESTAURANT_USER2 = \"Restaurant_user2\"\n",
    "RESTAURANT_MANAGER = \"Restaurant_manager\""
   ]
  },
  {
   "cell_type": "markdown",
   "id": "8f69193f-e830-4a35-95f3-1ab0a65fdc55",
   "metadata": {
    "tags": []
   },
   "source": [
    "### 3.1. [Basic Authentication only] User creation  \n",
    "\n",
    "Users' information is retrieved from authentication provider if one is used. However, in the case of basic authentication, users are created in Atoti.\n",
    "Making use of the [BasicSecurity](https://docs.atoti.io/latest/lib/atoti-query/atoti_query.security.basic_security.html#atoti_query.security.basic_security.BasicSecurity) module, we create an Atoti administrator and a generic Atoti user as shown below:"
   ]
  },
  {
   "cell_type": "code",
   "execution_count": 14,
   "id": "f9664d0c-8888-4b23-bbb7-927fbc8744a9",
   "metadata": {},
   "outputs": [],
   "source": [
    "if auth_mode.value == AUTH_BASIC:\n",
    "    session.security.basic.credentials[ADMIN_USER] = \"password\"\n",
    "    session.security.basic.credentials[ATOTI_USER] = \"password\""
   ]
  },
  {
   "cell_type": "markdown",
   "id": "985514ac-610c-4d7d-8074-e7397bedfd5a",
   "metadata": {},
   "source": [
    "We cherry-picked two parent companies - Inspire Brands and Restaurant Brands International LLC to demonstrate the roles and access management.  \n",
    "We will create the users based on the list available on [basic_user_pwd.csv](https://data.atoti.io/notebooks/security/users/basic_user_pwd.csv)."
   ]
  },
  {
   "cell_type": "code",
   "execution_count": 15,
   "id": "c1f8f628-a598-4a71-a0ae-e394e5044347",
   "metadata": {},
   "outputs": [
    {
     "name": "stdout",
     "output_type": "stream",
     "text": [
      "Create user: Inspire_user1\n",
      "Create user: Inspire_user2\n",
      "Create user: Inspire_manager\n",
      "Create user: Restaurant_user1\n",
      "Create user: Restaurant_user2\n",
      "Create user: Restaurant_manager\n"
     ]
    }
   ],
   "source": [
    "if auth_mode.value == AUTH_BASIC:\n",
    "    users_df = pd.read_csv(\n",
    "        \"https://data.atoti.io/notebooks/security/users/basic_user_pwd.csv\"\n",
    "    )\n",
    "    for row in users_df.to_dict(orient=\"records\"):\n",
    "        session.security.basic.credentials[row[\"User\"]] = row[\"Password\"]\n",
    "\n",
    "        print(f\"Create user: {row['User']}\")"
   ]
  },
  {
   "cell_type": "markdown",
   "id": "3ace50b1-6ba4-4e6f-b66b-e2d007d84cd6",
   "metadata": {},
   "source": [
    "The system reserved role `ROLE_USER` is automatically assigned to the created users. This meant that these users will all be able to access all the web application and all the available data.  \n",
    "We can, however, restrict access for the users by assigning them roles with restricted access. "
   ]
  },
  {
   "cell_type": "markdown",
   "id": "391a6ed4-2a1f-4d40-8644-aea75ff2daa2",
   "metadata": {},
   "source": [
    "### 3.2. Roles management in Atoti"
   ]
  },
  {
   "cell_type": "markdown",
   "id": "c4420d13-0fcf-4cdf-95cf-8b2622957e91",
   "metadata": {
    "tags": []
   },
   "source": [
    "#### 3.2.1. Atoti reserved roles  \n",
    "\n",
    "The below roles are reserved in Atoti and should not be altered by users:\n",
    "- ROLE_ADMIN: able to access all objects in the web application\n",
    "- ROLE_USER: able to access all data by default. Access to objects such as dashboards, folders, widgets etc is only upon sharing access granted to role.\n",
    "\n",
    "__All users, including the administrator, require the role *ROLE\\_USER* to be able to access the Atoti UI.__\n",
    "\n",
    "Let's assume both users, *atoti\\_admin* and *atoti\\_user*, have been granted the role __ROLE_USER__ and *atoti\\_admin* is also granted the role __ROLE_ADMIN__.  \n",
    "While both *atoti\\_admin* and *atoti\\_user* are able to access all data, *atoti\\_admin* is able to access all objects such as folders and dashboards.  \n",
    "*atoti\\_user* is able to access only the objects created by the user him/herself. Objects created by other users can only be access upon shared access granted.  \n"
   ]
  },
  {
   "cell_type": "code",
   "execution_count": 16,
   "id": "de001dbf-dd5e-44cc-95da-216d4b5c17f0",
   "metadata": {},
   "outputs": [],
   "source": [
    "if auth_mode.value == AUTH_BASIC:\n",
    "    session.security.individual_roles[ADMIN_USER] = {\"ROLE_USER\", \"ROLE_ADMIN\"}\n",
    "    session.security.individual_roles[ATOTI_USER] = {\"ROLE_USER\"}"
   ]
  },
  {
   "cell_type": "markdown",
   "id": "5dc5e5d9-92b3-4db0-9565-ae7eb9750189",
   "metadata": {},
   "source": [
    "Try logging in to the Atoti UI from the below link using either of the users `atoti_admin` or `atoti_user`."
   ]
  },
  {
   "cell_type": "code",
   "execution_count": 17,
   "id": "3c4d02bd-8f73-4de3-a5a8-127b96ca27c0",
   "metadata": {
    "tags": []
   },
   "outputs": [
    {
     "data": {
      "application/vnd.atoti.link.v0+json": {
       "path": "",
       "sessionLocation": {
        "https": false,
        "port": 10018
       }
      },
      "text/plain": [
       "Open the notebook in JupyterLab with the Atoti extension enabled to see this link."
      ]
     },
     "execution_count": 17,
     "metadata": {},
     "output_type": "execute_result"
    }
   ],
   "source": [
    "session.link()"
   ]
  },
  {
   "cell_type": "markdown",
   "id": "fbb6fa0a-bffd-4a98-a757-473c116330bd",
   "metadata": {},
   "source": [
    "##### 3.2.1.1 Sharing role configuration \n",
    "\n",
    "In Atoti version before v0.8.0, we assign the role `ROLE_SHARE` to users in order to be able to let them share objects such as dashboards, folders, widgets and filters.  \n",
    "Both *atoti\\_admin* and *atoti\\_user* will not be able to share objects (via the \"Share\" icon as shown below) unless granted the role __ROLE_SHARE__.  \n",
    "\n",
    "<img src=\"img/share_function.png\" width=\"50%\"/>  \n",
    "\n",
    "From version v0.8.0 onwards, the role `ROLE_SHARE` is removed. Instead, users with the role `ROLE_USER` will the ability to perform sharing by default.  \n",
    "\n",
    "<img src=\"img/admin_share.png\" width=\"50%\"/>\n"
   ]
  },
  {
   "cell_type": "markdown",
   "id": "74695cc6-c8b8-4da9-bf61-3f6552860c7e",
   "metadata": {
    "tags": []
   },
   "source": [
    "We can configure the sharing permission from the Atoti Admin UI which is accessible from the link below. Login with a user that has the role `ROLE_ADMIN` assigned."
   ]
  },
  {
   "cell_type": "code",
   "execution_count": 18,
   "id": "a5a63633-7803-4b77-934e-d64cc6de5aa9",
   "metadata": {
    "tags": []
   },
   "outputs": [
    {
     "data": {
      "application/vnd.atoti.link.v0+json": {
       "path": "admin",
       "sessionLocation": {
        "https": false,
        "port": 10018
       }
      },
      "text/plain": [
       "Open the notebook in JupyterLab with the Atoti extension enabled to see this link."
      ]
     },
     "execution_count": 18,
     "metadata": {},
     "output_type": "execute_result"
    }
   ],
   "source": [
    "session.link(path=\"/admin\")"
   ]
  },
  {
   "cell_type": "markdown",
   "id": "21f400b2-16d7-4b81-9cff-7eaf7354a977",
   "metadata": {},
   "source": [
    "In case we want to limit the users who has the ability to perform sharing, we can either update the `canShare` permission for `ROLE_USER` to `false` from the Admin UI; or we can use the rest service as shown below:"
   ]
  },
  {
   "cell_type": "code",
   "execution_count": 19,
   "id": "7a39de04-c362-437d-bed5-92dbb994d573",
   "metadata": {
    "tags": []
   },
   "outputs": [],
   "source": [
    "from requests.auth import HTTPBasicAuth\n",
    "\n",
    "# Rest API call to set mode to dark and display dimension names above hierarchies\n",
    "response = requests.put(\n",
    "    f\"http://localhost:{session.port}/activeviam/content/rest/v7/files?path=ui/user_roles/ROLE_USER/permissions\",\n",
    "    auth=HTTPBasicAuth(\"atoti_admin\", \"password\"),\n",
    "    json={\n",
    "        \"content\": '{\"canShare\": false}',\n",
    "        \"owners\": [\"atoti_admin\"],\n",
    "        \"readers\": [\"ROLE_USER\"],\n",
    "        \"overwrite\": True,\n",
    "        \"recursive\": True,\n",
    "    },\n",
    ")"
   ]
  },
  {
   "cell_type": "markdown",
   "id": "95f5bfc4-83f3-483b-8f18-1a8974d68f3a",
   "metadata": {},
   "source": [
    "In the event we want to control the sharing rights using roles from Authentication providers, we can create the intended role in the Admin UI.  \n",
    "For instance, suppose the role that is supposed to have sharing permission is call `ROLE_SHARE`, we can run the below request to create the role with `canShare` set to `true`.  "
   ]
  },
  {
   "cell_type": "code",
   "execution_count": 20,
   "id": "c6be5fde-3feb-491c-bf20-3c8be7abb473",
   "metadata": {
    "tags": []
   },
   "outputs": [],
   "source": [
    "# Rest API call to set mode to dark and display dimension names above hierarchies\n",
    "response = requests.put(\n",
    "    f\"http://localhost:{session.port}/activeviam/content/rest/v7/files?path=ui/user_roles/ROLE_SHARE/permissions\",\n",
    "    auth=HTTPBasicAuth(\"atoti_admin\", \"password\"),\n",
    "    json={\n",
    "        \"content\": '{\"canShare\": true}',\n",
    "        \"owners\": [\"atoti_admin\"],\n",
    "        \"readers\": [\"ROLE_USER\"],\n",
    "        \"overwrite\": True,\n",
    "        \"recursive\": True,\n",
    "    },\n",
    ")"
   ]
  },
  {
   "cell_type": "markdown",
   "id": "c144d2ef-ae6f-4159-9fef-c3c00a09dc94",
   "metadata": {},
   "source": [
    "Below is what we see in the Admin server:  \n",
    "\n",
    "<img src=\"img/role_share_permission.png\" />  \n",
    "\n",
    "Now, any users who are assigned the role `ROLE_SHARE` will have the ability to perform sharing.  \n",
    "In the below snippet, we grant `atoti_admin` the additional role `ROLE_SHARE` using `|` to append its existing list of roles. Now, only the admin user is able to perform sharing."
   ]
  },
  {
   "cell_type": "code",
   "execution_count": 21,
   "id": "7a09fcfa-77fe-4dcb-91d9-fbfae22c911d",
   "metadata": {},
   "outputs": [],
   "source": [
    "if auth_mode.value == AUTH_BASIC:\n",
    "    session.security.individual_roles[ADMIN_USER] |= {\"ROLE_SHARE\"}"
   ]
  },
  {
   "cell_type": "markdown",
   "id": "f9ab4856-fe80-4515-ac3c-413d25971664",
   "metadata": {},
   "source": [
    "#### 3.2.2. Role creation with restrictions  "
   ]
  },
  {
   "cell_type": "markdown",
   "id": "04fff033-4ab5-4788-9709-07adee226687",
   "metadata": {},
   "source": [
    "Data restriction is based on users' requirement. In our use case, we assumed two groups of users with data access limited to those of their parent company:\n",
    "- users belonging to parent company _Inspire Brands_\n",
    "- users belonging to parent company _Restaurant Brands International Inc._\n",
    "\n",
    "Therefore, we will create two roles to apply the restrictions based on the `parent_company` column from the `parent_co` table.  \n",
    "We will define key that is a tuple, consisting of the name of the table and its column, along with the restricted values imposed on it. \n",
    "\n",
    "__NOTE:__  \n",
    "- We can skip role creation if there are no restrictions imposed on the role. \n",
    "- The value provided under the restrictions is cap-sensitive."
   ]
  },
  {
   "cell_type": "code",
   "execution_count": 22,
   "id": "f9050fa1-7c63-4d43-9a79-09190f6a96dd",
   "metadata": {},
   "outputs": [],
   "source": [
    "ROLE_INSPIRE = \"ATOTI_ROLE_INSPIRE\"\n",
    "ROLE_RESTAURANT = \"ATOTI_ROLE_RESTAURANT\"\n",
    "\n",
    "session.security.restrictions.update(\n",
    "    {\n",
    "        ROLE_INSPIRE: (base_tbl[\"parent_company\"] == \"Inspire Brands\"),\n",
    "        ROLE_RESTAURANT: (\n",
    "            base_tbl[\"parent_company\"] == \"Restaurant Brands International Inc.\"\n",
    "        ),\n",
    "    }\n",
    ")"
   ]
  },
  {
   "cell_type": "markdown",
   "id": "f2e5af6b-cf2b-4e63-a432-00744553c942",
   "metadata": {},
   "source": [
    "#### 3.2.3. Restricted access from combination of roles\n",
    "\n",
    "Multiple roles can be assigned to the same user. To demonstrate how the access will change when this happens, we create some other roles that restrict data access by the restaurant category, i.e. column `category` from the table `top_50`."
   ]
  },
  {
   "cell_type": "code",
   "execution_count": 23,
   "id": "581b3f20-00f7-408d-b2b4-6a8ffbbb1d0a",
   "metadata": {},
   "outputs": [],
   "source": [
    "ROLE_BURGER = \"ATOTI_ROLE_BURGER\"\n",
    "ROLE_SANDWICH = \"ATOTI_ROLE_SANDWICH\"\n",
    "ROLE_SNACK = \"ATOTI_ROLE_SNACK\"\n",
    "\n",
    "session.security.restrictions.update(\n",
    "    {\n",
    "        ROLE_BURGER: enrichment_tbl[\"category\"] == \"burger\",\n",
    "        ROLE_SANDWICH: enrichment_tbl[\"category\"] == \"sandwich\",\n",
    "        ROLE_SNACK: enrichment_tbl[\"category\"] == \"snack\",\n",
    "    }\n",
    ")"
   ]
  },
  {
   "cell_type": "markdown",
   "id": "a2289828-f640-44ed-b27e-976da4ba913d",
   "metadata": {},
   "source": [
    "When combined with the restricted role on the `parent_company`, user's access will be further restricted to based on the restriction of the added role.  \n",
    "\n",
    "For instance, users who are assigned the role __ATOTI_ROLE_BURGER__ will be able to access all the data under _burger_ category restaurants, regardless of the parent companies.  \n",
    "\n",
    "However, when the same user is also granted the role __ATOTI_ROLE_INSPIRE__, then the user can only access data of restaurants under parent company _Inspire Brands_ that is of category _burger_. "
   ]
  },
  {
   "cell_type": "markdown",
   "id": "b6b8a1fe-8d00-4920-b107-6852e9686163",
   "metadata": {
    "tags": []
   },
   "source": [
    "### 3.3. [Basic Authentication only] Assigning user roles to user (Good reference for roles setup in authentication providers)  \n",
    "\n",
    "We can grant Atoti roles directly to users created in Atoti without having to perform role mappings like in OIDC.\n",
    "But, we can easily demonstrate how roles can be assigned to the users to restrict data access. It can be easily inferred and applied on the authentication providers when granting roles."
   ]
  },
  {
   "cell_type": "markdown",
   "id": "fa80009a-5604-4348-bd16-2ac8950eaf7c",
   "metadata": {},
   "source": [
    "__NOTE:__ We will have to grant all users the role `ROLE_USER` before they can access the Atoti application."
   ]
  },
  {
   "cell_type": "markdown",
   "id": "bef59353-38a3-4103-a8e1-21e47d67f40d",
   "metadata": {
    "tags": []
   },
   "source": [
    "#### 3.3.1 Multiple roles assignment  \n",
    "\n",
    "We grant the managers only access to the data available under their parent companies.  \n",
    "These restrictions will be applied under the role __ATOTI_ROLE_INSPIRE__ and __ATOTI_ROLE_RESTAURANT__ respectively.  \n",
    "\n",
    "Also, the managers will be granted __ROLE_SHARE__ for them to share the objects such as dashboards and widgets for which they are the owners of."
   ]
  },
  {
   "cell_type": "code",
   "execution_count": 24,
   "id": "2a37ab9e-44a4-49d6-9a92-c3a4d074adff",
   "metadata": {},
   "outputs": [],
   "source": [
    "if auth_mode.value == AUTH_BASIC:\n",
    "    session.security.individual_roles[INSPIRE_MANAGER] = {\n",
    "        \"ROLE_USER\",\n",
    "        \"ROLE_SHARE\",\n",
    "        ROLE_INSPIRE,\n",
    "    }\n",
    "    session.security.individual_roles[RESTAURANT_MANAGER] = {\n",
    "        \"ROLE_USER\",\n",
    "        \"ROLE_SHARE\",\n",
    "        ROLE_RESTAURANT,\n",
    "    }"
   ]
  },
  {
   "cell_type": "markdown",
   "id": "fee2e124-be64-4c0f-84f6-09b7c403b2c3",
   "metadata": {},
   "source": [
    "Each company has two users that have even more restricted access than the managers.  \n",
    "User 1 of each company can only access data for restaurants of category _burgers_ with role __ATOTI_ROLE_BURGER__.  \n",
    "User 2 of each company can only access data for restaurants of category _sandwich_ and _snack_ with roles __ATOTI_ROLE_SANDWICH__ and __ATOTI_ROLE_SNACK__.  \n",
    "\n",
    "Combined with either the role __ATOTI_ROLE_INSPIRE__ or __ATOTI_ROLE_RESTAURANT__, they will only see the specific category of restaurants under their parent companies."
   ]
  },
  {
   "cell_type": "code",
   "execution_count": 25,
   "id": "2975571f-1fa3-4461-8821-7c411eaf744e",
   "metadata": {},
   "outputs": [],
   "source": [
    "if auth_mode.value == AUTH_BASIC:\n",
    "    session.security.individual_roles.update(\n",
    "        {\n",
    "            INSPIRE_USER1: {\"ROLE_USER\", ROLE_INSPIRE, ROLE_BURGER},\n",
    "            INSPIRE_USER2: {\"ROLE_USER\", ROLE_INSPIRE, ROLE_SANDWICH, ROLE_SNACK},\n",
    "            RESTAURANT_USER1: {\"ROLE_USER\", ROLE_RESTAURANT, ROLE_BURGER},\n",
    "            RESTAURANT_USER2: {\"ROLE_USER\", ROLE_RESTAURANT, ROLE_SANDWICH, ROLE_SNACK},\n",
    "        }\n",
    "    )"
   ]
  },
  {
   "cell_type": "markdown",
   "id": "21863f1f-c442-4845-8cde-5500445ecb4b",
   "metadata": {},
   "source": [
    "### 3.4. [For OIDC and LDAP only] Role assignment in Atoti\n",
    "\n",
    "The names in the authentication provider can be different from those in Atoti.    \n",
    "Roles are assigned to users in the authentication provider and restrictions applied based on this map.  \n",
    "\n",
    "While a role from the authentication provider can be mapped to multiple Atoti roles, it is easier to modify user's access by updating the roles in the authentication provider.  \n",
    "It is a design consideration whether to have a one-to-one role map or to grant multiple Atoti roles to an authentication provider role.  \n",
    "\n",
    "E.g. By **mapping `AUTH0_USER: [ROLE_USER, ROLE_SHARE]` in Atoti code** meant that all the users with __AUTH0_USER__ role assigned will be able access the web application and to do sharing.  \n",
    "Alternatively, when we code map the **AUTH0 roles individually to each reserved role** as listed in the previous cell, individual users are granted the roles __AUTH0_USER__ and __AUTH0_ROLE_SHARE__ in Auth0 as shown below. Users will be able to modify the role assignment from Auth0 instead of performing code updates.\n",
    "\n",
    "<img src=\"https://data.atoti.io/notebooks/security/img/auth0_roles_assignment.png\" width=\"50%\" />"
   ]
  },
  {
   "cell_type": "markdown",
   "id": "fc810231-4ede-466f-a0d9-923c3784c740",
   "metadata": {},
   "source": [
    "#### 2.4.1. Assign default roles to authenticated users"
   ]
  },
  {
   "cell_type": "markdown",
   "id": "bb9ffb06-86f1-40a3-af6f-361d75158e61",
   "metadata": {},
   "source": [
    "Previously, we removed the `canShare` permission for `ROLE_USER`.  \n",
    "\n",
    "To demonstrate how we can assign default roles to authenticated users, we can default the roles such as __ROLE_SHARE__ for all users who are logged in successfully.  \n",
    "By default the role __ROLE_SHARE__, all users now can perform sharing.\n",
    "\n",
    "Depending on the authentication mechanism applied, use either [`session.security.oidc`](https://docs.atoti.io/latest/lib/atoti-query/atoti_query.security.oidc_security.html#atoti_query.security.oidc_security.OidcSecurity.default_roles) or [`session.security.ldap`](https://docs.atoti.io/latest/lib/atoti-query/atoti_query.security.ldap_security.html#atoti_query.security.ldap_security.LdapSecurity.default_roles) module to perform the operations."
   ]
  },
  {
   "cell_type": "code",
   "execution_count": 26,
   "id": "ac50f14d-757e-40eb-b7e9-f22dbe60d654",
   "metadata": {},
   "outputs": [],
   "source": [
    "if auth_mode.value in [AUTH_OIDC_AUTH0, AUTH_OIDC_GOOGLE]:\n",
    "    session.security.oidc.default_roles.update([\"ROLE_SHARE\"])\n",
    "elif auth_mode.value == AUTH_LDAP:\n",
    "    session.security.ldap.default_roles.update([\"ROLE_SHARE\"])"
   ]
  },
  {
   "cell_type": "markdown",
   "id": "08f5e02c-dc35-4506-884e-bec216df8792",
   "metadata": {},
   "source": [
    "__BE CAUTION__ when granting __ROLE_USER__ to users by default as users with this role will be able to access the application and the available data. It's better to grant __ROLE_USER__ to the users individually instead."
   ]
  },
  {
   "cell_type": "markdown",
   "id": "05c2c9c7-0dd3-4ec4-ad7b-436be9dfb4ec",
   "metadata": {},
   "source": [
    "#### 3.4.2. Map roles between Authentication Provider and Atoti  \n",
    "\n",
    "The names in the authentication provider can be different from those in Atoti.    \n",
    "Roles are assigned to users in the authentication provider and associated to the Atoti roles in the `role_mapping` below."
   ]
  },
  {
   "cell_type": "markdown",
   "id": "b518577e-e1dd-44c3-b89e-8fc064d00227",
   "metadata": {},
   "source": [
    "##### 3.4.2.1. Role mapping for OIDC (Auth0 example)"
   ]
  },
  {
   "cell_type": "code",
   "execution_count": 27,
   "id": "684d9fbd-377e-41ab-b697-5554c3534db7",
   "metadata": {},
   "outputs": [
    {
     "name": "stdout",
     "output_type": "stream",
     "text": [
      "Map roles from Auth0 to roles in atoti\n"
     ]
    }
   ],
   "source": [
    "# if auth_mode.value == AUTH_OIDC_AUTH0:\n",
    "print(\"Map roles from Auth0 to roles in Atoti\")\n",
    "session.security.oidc.role_mapping.update(\n",
    "    {\n",
    "        # authentication provider roles: [Atoti reserved roles]\n",
    "        \"AUTH0_ADMIN\": [\"ROLE_ADMIN\"],\n",
    "        \"AUTH0_USER\": [\"ROLE_USER\"],\n",
    "        # authentication provider roles:  [user-defined roles]\n",
    "        \"AUTH0_ROLE_SHARE\": [\"ROLE_SHARE\"],\n",
    "        \"AUTH0_ROLE_INSPIRE\": [ROLE_INSPIRE],\n",
    "        \"AUTH0_ROLE_RESTAURANT\": [ROLE_RESTAURANT],\n",
    "        \"AUTH0_ROLE_BURGER\": [ROLE_BURGER],\n",
    "        \"AUTH0_ROLE_SANDWICH\": [ROLE_SANDWICH],\n",
    "        \"AUTH0_ROLE_SNACK\": [ROLE_SNACK],\n",
    "    }\n",
    ")"
   ]
  },
  {
   "cell_type": "markdown",
   "id": "267fa9a6-bcc9-4b4e-bf5f-c2f7cfb5d52f",
   "metadata": {},
   "source": [
    "##### 3.4.2.2. Role mapping for OIDC (Google example)\n",
    "\n",
    "__Atoti is only able to use Google for authentication.__  \n",
    "Roles are assigned to the users in Atoti and they can be granted without having to restart the application.  \n",
    "\n",
    "Instead of mapping the roles from Authentication Provider as in the case of Auth0, we use the user's email address to map to the assigned Atoti roles."
   ]
  },
  {
   "cell_type": "code",
   "execution_count": 28,
   "id": "ea451b30-ea0e-44ba-a942-a6fc8f09c340",
   "metadata": {},
   "outputs": [],
   "source": [
    "if auth_mode.value == AUTH_OIDC_GOOGLE:\n",
    "    print(\"Map roles from Google to roles in Atoti\")\n",
    "    session.security.oidc.role_mapping.update(\n",
    "        {\n",
    "            # Google user id: [Atoti roles]\n",
    "            \"inspire_m@test.com\": [\"ROLE_USER\", ROLE_INSPIRE],\n",
    "            \"inspire_user1@test.com\": [\n",
    "                \"ROLE_USER\",\n",
    "                ROLE_INSPIRE,\n",
    "                ROLE_BURGER,\n",
    "            ],\n",
    "            \"inspire_user2@test.com\": [\n",
    "                \"ROLE_USER\",\n",
    "                ROLE_INSPIRE,\n",
    "                ROLE_SANDWICH,\n",
    "                ROLE_SNACK,\n",
    "            ],\n",
    "            \"restaurant_m@test.com\": [\"ROLE_USER\", ROLE_RESTAURANT],\n",
    "            \"restaurant_user1@test.com\": [\n",
    "                \"ROLE_USER\",\n",
    "                ROLE_RESTAURANT,\n",
    "                ROLE_BURGER,\n",
    "            ],\n",
    "            \"restaurant_user2@test.com\": [\n",
    "                \"ROLE_USER\",\n",
    "                ROLE_RESTAURANT,\n",
    "                ROLE_SANDWICH,\n",
    "                ROLE_SNACK,\n",
    "            ],\n",
    "        }\n",
    "    )"
   ]
  },
  {
   "cell_type": "markdown",
   "id": "2cfe25b6-ed22-42fe-85ea-8f6be4cdf7ab",
   "metadata": {},
   "source": [
    "##### 3.4.2.3. Role mapping for LDAP\n",
    "\n",
    "Similar to Auth0, we can map the roles downloaded from LDAP to the roles in Atoti.  \n",
    "\n",
    "The names in the authentication provider can be different from those in Atoti.  \n",
    "Roles are assigned to users in the authentication provider and associated to the Atoti roles in the `role_mapping` below.  \n",
    "\n",
    "Be mindful that regardless of the name used in LDAP, we have to __uppercase the LDAP role name__ in the mapping."
   ]
  },
  {
   "cell_type": "code",
   "execution_count": 29,
   "id": "81281da0-105f-4755-8088-5802e18c1a0f",
   "metadata": {},
   "outputs": [],
   "source": [
    "if auth_mode.value == AUTH_LDAP:\n",
    "    print(\"Map roles from LDAP to roles in Atoti\")\n",
    "    session.security.ldap.role_mapping.update(\n",
    "        {\n",
    "            # LDAP roles: [Atoti reserved roles]\n",
    "            \"LDAP_ATOTI_ADMIN\": [\"ROLE_ADMIN\"],\n",
    "            \"LDAP_ATOTI_USER\": [\"ROLE_USER\"],\n",
    "            \"LDAP_ATOTI_SHARE\": [\"ROLE_SHARE\"],\n",
    "            # LDAP roles: [user-defined roles]\n",
    "            \"LDAP_ROLE_INSPIRE\": [ROLE_INSPIRE],\n",
    "            \"LDAP_ROLE_RESTAURANT\": [ROLE_RESTAURANT],\n",
    "            \"LDAP_ROLE_BURGER\": [ROLE_BURGER],\n",
    "            \"LDAP_ROLE_SANDWICH\": [ROLE_SANDWICH],\n",
    "            \"LDAP_ROLE_SNACK\": [ROLE_SNACK],\n",
    "        }\n",
    "    )"
   ]
  },
  {
   "cell_type": "markdown",
   "id": "f7e262fe-4a45-4533-a999-822fb8fa6f7b",
   "metadata": {},
   "source": [
    "## 4. Test login and access management in web application  \n",
    "\n",
    "Try out any of these users (Password for users created with BasicSecurity are \"password\"):\n",
    "\n",
    "___Administrator___\n",
    "- atoti_admin  \n",
    "\n",
    "___Generic user___\n",
    "- atoti_user   \n",
    "\n",
    "___Inspire Brands users___\n",
    "- Inspire_user1 (Access for restaurants of category Burger only)\n",
    "- Inspire_user2 (Access for restaurants of category Sandwich and Snack only)\n",
    "- Inspire_manager\n",
    "\n",
    "___Restaurant Brands International LLC users___\n",
    "- Restaurant_user1 (Access for restaurants of category Burger only)\n",
    "- Restaurant_user2 (Access for restaurants of category Sandwich and Snack only)\n",
    "- Restaurant_manager"
   ]
  },
  {
   "cell_type": "code",
   "execution_count": 30,
   "id": "fbc19c1b-7f9e-4384-b468-c997364ff93f",
   "metadata": {},
   "outputs": [
    {
     "data": {
      "application/vnd.atoti.link.v0+json": {
       "path": "",
       "sessionLocation": {
        "https": false,
        "port": 10018
       }
      },
      "text/plain": [
       "Open the notebook in JupyterLab with the Atoti extension enabled to see this link."
      ]
     },
     "execution_count": 30,
     "metadata": {},
     "output_type": "execute_result"
    }
   ],
   "source": [
    "session.link()"
   ]
  },
  {
   "cell_type": "markdown",
   "id": "f42559a5-58ab-4d69-9995-70654b27ff5a",
   "metadata": {},
   "source": [
    "<div style=\"text-align: center;\" ><a href=\"https://www.atoti.io/?utm_source=gallery&utm_content=security-implementation\" target=\"_blank\" rel=\"noopener noreferrer\"><img src=\"https://data.atoti.io/notebooks/banners/Try+Atoti.jpg\" alt=\"Try Atoti\"></a></div>"
   ]
  }
 ],
 "metadata": {
  "kernelspec": {
   "display_name": "Python 3 (ipykernel)",
   "language": "python",
   "name": "python3"
  },
  "language_info": {
   "codemirror_mode": {
    "name": "ipython",
    "version": 3
   },
   "file_extension": ".py",
   "mimetype": "text/x-python",
   "name": "python",
   "nbconvert_exporter": "python",
   "pygments_lexer": "ipython3",
   "version": "3.10.11"
  }
 },
 "nbformat": 4,
 "nbformat_minor": 5
}
