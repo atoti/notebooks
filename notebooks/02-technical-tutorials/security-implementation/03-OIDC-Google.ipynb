{
 "cells": [
  {
   "cell_type": "markdown",
   "id": "6f116c04-b884-4002-ba9c-14aacf434cc5",
   "metadata": {},
   "source": [
    "# Securing an Atoti session with Auth0 using Google\n",
    "\n",
    "Securing a session comes in two parts:\n",
    "1. Implementing authentication mechanism to secure access to the session\n",
    "2. Restricting access of modules or data access by users based on the roles granted\n",
    "\n",
    "__Security implementation is one of the [locked features](https://docs.atoti.io/latest/how_tos/unlock_all_features.html) that is not available in Atoti Community Edition. To try out this notebook, you can request for an [evaluation license](https://atoti.io/evaluation-license-request/) to unlock all the features.__ \n",
    "\n",
    "Atoti supports multiple [authentication mechanisms](https://docs.atoti.io/latest/lib/atoti/atoti.config.authentication.html) to cater to the needs of our end users.  \n",
    "\n",
    "This notebook demonstrates how we use [OpenID Connect (OIDC)](https://openid.net/connect/) through [Google Cloud credentials](https://cloud.google.com/docs/authentication) to authenticate access to Atoti web application.\n",
    "\n",
    "We will explore the Atoti security features using the [Top 50 Fast Food](https://www.kaggle.com/datasets/stetsondone/top50fastfood) dataset from Kaggle, combined with its parent company information sourced from the internet.\n",
    "\n",
    "\n",
    "__Note__:  \n",
    "\n",
    "The notebook is structured in this order:\n",
    "1. Authentication setup during session instantiation\n",
    "2. Create BI analytics platform with Atoti\n",
    "3. Users and roles management with Atoti\n",
    "\n",
    "Mainly, we look at the roles last because we need to know the names of the tables and columns which we want to impose restrictions on.  \n",
    "Thereafter, we can create the roles with restrictions. Check out [atoti documentation](https://docs.atoti.io) to read more on [securing the session](https://docs.atoti.io/latest/how_tos/secure_a_session.html#Configuring-the-authentication-mechanism).  "
   ]
  },
  {
   "cell_type": "markdown",
   "id": "ee9eeb26-b959-4674-ad0b-47875dfe2d5a",
   "metadata": {},
   "source": [
    "<div style=\"text-align: center;\" ><a href=\"https://www.atoti.io/?utm_source=gallery&utm_content=oidc-google\" target=\"_blank\" rel=\"noopener noreferrer\"><img src=\"https://data.atoti.io/notebooks/banners/Discover-Atoti-now.png\" alt=\"Try atoti\"></a></div>"
   ]
  },
  {
   "cell_type": "code",
   "execution_count": 1,
   "id": "68ad57e0-9bee-4d84-9e72-11947dd46a8c",
   "metadata": {},
   "outputs": [],
   "source": [
    "import os\n",
    "\n",
    "import atoti as tt\n",
    "import requests"
   ]
  },
  {
   "cell_type": "markdown",
   "id": "c7753688-efe6-485f-bdc3-4dcb5f7a4bc7",
   "metadata": {
    "tags": []
   },
   "source": [
    "## 1. Authentication setup in Atoti  \n",
    "\n",
    "Google Cloud APIs use the [OAuth 2.0 protocol](https://tools.ietf.org/html/rfc6749) for authenticating the user accounts. We demonstrate below how we configure the authentication parameter of [`atoti.Session`](https://docs.atoti.io/latest/lib/atoti/atoti.session.html#atoti.Session.__init__) to connect Google Cloud Credential API using OIDC.\n",
    "\n",
    "Firstly, we have to configure the _OAuth consent screen_ and registered our app. Remember to set the \"User type\" to _Internal_, so that our app is limited to Google Workspace users within our organisation.  \n",
    "\n",
    "<img src=\"https://data.atoti.io/notebooks/security/img/google-oauth-consent-screen.png\" width=\"70%\" />\n",
    "\n",
    "Proceed to create a credential of type \"OAuth client IDs\" under __APIs & Services > Credentials__ in Google Cloud.  \n",
    "Thereafter, refer to the following for the setting mapping against google:  \n",
    "<img src=\"https://data.atoti.io/notebooks/security/img/google-setup.png\" width=\"70%\" />"
   ]
  },
  {
   "cell_type": "code",
   "execution_count": 2,
   "id": "90baca19-4c9e-4f88-846d-7bb5b4d7abc7",
   "metadata": {},
   "outputs": [],
   "source": [
    "authentication = tt.OidcConfig(\n",
    "    provider_id=\"google\",\n",
    "    issuer_url=\"https://accounts.google.com\",\n",
    "    client_id=os.environ[\"GOOGLE_CLIENT_ID\"],\n",
    "    client_secret=os.environ[\"GOOGLE_CLIENT_SECRET\"],\n",
    "    scopes=[\"https://www.googleapis.com/auth/userinfo.email\"],\n",
    "    name_claim=\"email\",\n",
    ")"
   ]
  },
  {
   "cell_type": "markdown",
   "id": "99d41b86-d1ad-4e9c-8417-1b85ea8be133",
   "metadata": {},
   "source": [
    "Client ids and secrets should be kept private. As suggested in the [documentation](https://docs.atoti.io/latest/how_tos/security/secure_a_session.html#Configuring-the-authentication-mechanism), connection details can be read from environment variables for improved security.  "
   ]
  },
  {
   "cell_type": "markdown",
   "id": "f7ca04be-e779-407c-af28-3352599e2f61",
   "metadata": {},
   "source": [
    "### 1.1. Instantiating session with fixed port\n",
    "\n",
    "It is important to fix the port for Atoti web application as we will require it to configure the authorized redirect URIs for the OAuth 2.0 Client ID in Google Cloud.\n",
    "\n",
    "<img src=\"https://data.atoti.io/notebooks/security/img/google-application-url.png\" width=\"70%\" />  \n",
    "\n",
    "In Google Cloud, remember to include the following redirect URI with the [provider id](https://docs.atoti.io/latest/lib/atoti/atoti.config.authentication.oidc_config.html#atoti.OidcConfig.provider_id) set to `google`:\n",
    "\n",
    "`f\"{session_url}/login/oauth2/code/{provider_id}\"`"
   ]
  },
  {
   "cell_type": "code",
   "execution_count": 3,
   "id": "69fe16a1-25ab-4477-b656-817a3e435492",
   "metadata": {},
   "outputs": [],
   "source": [
    "session = tt.Session(\n",
    "    port=10011,\n",
    "    authentication=authentication,\n",
    "    user_content_storage=\"./content\",\n",
    "    java_options=[\"-Dlogging.level.org.springframework.security=DEBUG\"],\n",
    ")"
   ]
  },
  {
   "cell_type": "markdown",
   "id": "4bcaaec3-873c-430f-ada8-ab16b977de06",
   "metadata": {},
   "source": [
    "#### 1.2.1 Debug security setup\n",
    "\n",
    "During the initial setup, it is useful to configure the [Spring Security logging](https://www.baeldung.com/spring-security-enable-logging) to help in debugging any potential issues in the connectivity.  \n",
    "As shown in the above code snippet, we can turn on logging with `logging.level.org.springframework.security` set to the `DEBUG` level using the `java_options`."
   ]
  },
  {
   "cell_type": "markdown",
   "id": "597ce4d3-c37c-4a3a-8cdf-54a6f01e4343",
   "metadata": {},
   "source": [
    "## 2. Create BI analytics platform with Atoti"
   ]
  },
  {
   "cell_type": "markdown",
   "id": "8bc66ece-588c-431f-b367-71f4cbae05df",
   "metadata": {
    "jp-MarkdownHeadingCollapsed": true,
    "tags": []
   },
   "source": [
    "Once the session is created, we can proceed with the usual data loading into Atoti table, cube and measures creation.  \n",
    "Remember to re-execute these cells if you have changed the mode of authentiction."
   ]
  },
  {
   "cell_type": "markdown",
   "id": "6ccc9aa6-ed5f-4640-b590-1e9855b835e1",
   "metadata": {
    "tags": []
   },
   "source": [
    "### 2.1 Table creation"
   ]
  },
  {
   "cell_type": "markdown",
   "id": "26fcdd1e-8a69-45ac-9149-22a3faffb30b",
   "metadata": {},
   "source": [
    "Although we can [`create table`](https://docs.atoti.io/latest/lib/atoti/atoti.session.html#atoti.Session.create_table) before loading data in, we used `read_csv` in our example to create and load data into the Atoti tables."
   ]
  },
  {
   "cell_type": "code",
   "execution_count": 4,
   "id": "901c9024-1c79-47c6-9ecf-71b16d1696e8",
   "metadata": {},
   "outputs": [
    {
     "data": {
      "text/html": [
       "<div>\n",
       "<style scoped>\n",
       "    .dataframe tbody tr th:only-of-type {\n",
       "        vertical-align: middle;\n",
       "    }\n",
       "\n",
       "    .dataframe tbody tr th {\n",
       "        vertical-align: top;\n",
       "    }\n",
       "\n",
       "    .dataframe thead th {\n",
       "        text-align: right;\n",
       "    }\n",
       "</style>\n",
       "<table border=\"1\" class=\"dataframe\">\n",
       "  <thead>\n",
       "    <tr style=\"text-align: right;\">\n",
       "      <th></th>\n",
       "      <th></th>\n",
       "      <th>name</th>\n",
       "    </tr>\n",
       "    <tr>\n",
       "      <th>parent_company</th>\n",
       "      <th>company</th>\n",
       "      <th></th>\n",
       "    </tr>\n",
       "  </thead>\n",
       "  <tbody>\n",
       "    <tr>\n",
       "      <th>Inspire Brands</th>\n",
       "      <th>arbys</th>\n",
       "      <td>Arby's</td>\n",
       "    </tr>\n",
       "    <tr>\n",
       "      <th>Domino's Pizza, Inc.</th>\n",
       "      <th>dominos</th>\n",
       "      <td>Domino's</td>\n",
       "    </tr>\n",
       "    <tr>\n",
       "      <th>Papa Murphy's Holdings, Inc.</th>\n",
       "      <th>papa_murphys</th>\n",
       "      <td>Papa Murphy's</td>\n",
       "    </tr>\n",
       "    <tr>\n",
       "      <th>Focus Brands</th>\n",
       "      <th>auntie_annes</th>\n",
       "      <td>Auntie Anne's</td>\n",
       "    </tr>\n",
       "    <tr>\n",
       "      <th>Panda Restaurant Group</th>\n",
       "      <th>panda_express</th>\n",
       "      <td>Panda Express</td>\n",
       "    </tr>\n",
       "  </tbody>\n",
       "</table>\n",
       "</div>"
      ],
      "text/plain": [
       "                                                     name\n",
       "parent_company               company                     \n",
       "Inspire Brands               arbys                 Arby's\n",
       "Domino's Pizza, Inc.         dominos             Domino's\n",
       "Papa Murphy's Holdings, Inc. papa_murphys   Papa Murphy's\n",
       "Focus Brands                 auntie_annes   Auntie Anne's\n",
       "Panda Restaurant Group       panda_express  Panda Express"
      ]
     },
     "execution_count": 4,
     "metadata": {},
     "output_type": "execute_result"
    }
   ],
   "source": [
    "base_tbl = session.read_csv(\n",
    "    \"s3://data.atoti.io/notebooks/security/data/parent_co.csv\",\n",
    "    table_name=\"parent_co\",\n",
    "    keys=[\"company\", \"parent_company\"],\n",
    "    process_quotes=True,\n",
    ")\n",
    "base_tbl.head()"
   ]
  },
  {
   "cell_type": "code",
   "execution_count": 5,
   "id": "4f2982ed-4457-4d13-9f8a-532f24b32b96",
   "metadata": {},
   "outputs": [
    {
     "data": {
      "text/html": [
       "<div>\n",
       "<style scoped>\n",
       "    .dataframe tbody tr th:only-of-type {\n",
       "        vertical-align: middle;\n",
       "    }\n",
       "\n",
       "    .dataframe tbody tr th {\n",
       "        vertical-align: top;\n",
       "    }\n",
       "\n",
       "    .dataframe thead th {\n",
       "        text-align: right;\n",
       "    }\n",
       "</style>\n",
       "<table border=\"1\" class=\"dataframe\">\n",
       "  <thead>\n",
       "    <tr style=\"text-align: right;\">\n",
       "      <th></th>\n",
       "      <th>category</th>\n",
       "      <th>sales_in_millions_2019</th>\n",
       "      <th>sales_per_unit_thousands_2019</th>\n",
       "      <th>franchised_units_2019</th>\n",
       "      <th>company_owned_units_2019</th>\n",
       "      <th>total_units_2019</th>\n",
       "      <th>unit_change_from_2018</th>\n",
       "    </tr>\n",
       "    <tr>\n",
       "      <th>company</th>\n",
       "      <th></th>\n",
       "      <th></th>\n",
       "      <th></th>\n",
       "      <th></th>\n",
       "      <th></th>\n",
       "      <th></th>\n",
       "      <th></th>\n",
       "    </tr>\n",
       "  </thead>\n",
       "  <tbody>\n",
       "    <tr>\n",
       "      <th>popeyes_chicken</th>\n",
       "      <td>chicken</td>\n",
       "      <td>3750</td>\n",
       "      <td>1541</td>\n",
       "      <td>2458</td>\n",
       "      <td>41</td>\n",
       "      <td>2499</td>\n",
       "      <td>131</td>\n",
       "    </tr>\n",
       "    <tr>\n",
       "      <th>del_taco</th>\n",
       "      <td>global</td>\n",
       "      <td>850</td>\n",
       "      <td>1554</td>\n",
       "      <td>296</td>\n",
       "      <td>300</td>\n",
       "      <td>596</td>\n",
       "      <td>16</td>\n",
       "    </tr>\n",
       "    <tr>\n",
       "      <th>jack_in_the_box</th>\n",
       "      <td>burger</td>\n",
       "      <td>3505</td>\n",
       "      <td>1565</td>\n",
       "      <td>2106</td>\n",
       "      <td>137</td>\n",
       "      <td>2243</td>\n",
       "      <td>6</td>\n",
       "    </tr>\n",
       "    <tr>\n",
       "      <th>tim_hortons</th>\n",
       "      <td>sandwich</td>\n",
       "      <td>840</td>\n",
       "      <td>1165</td>\n",
       "      <td>715</td>\n",
       "      <td>0</td>\n",
       "      <td>715</td>\n",
       "      <td>-12</td>\n",
       "    </tr>\n",
       "    <tr>\n",
       "      <th>mcdonalds</th>\n",
       "      <td>burger</td>\n",
       "      <td>40413</td>\n",
       "      <td>2912</td>\n",
       "      <td>13154</td>\n",
       "      <td>692</td>\n",
       "      <td>13846</td>\n",
       "      <td>-66</td>\n",
       "    </tr>\n",
       "  </tbody>\n",
       "</table>\n",
       "</div>"
      ],
      "text/plain": [
       "                 category  sales_in_millions_2019  \\\n",
       "company                                             \n",
       "popeyes_chicken   chicken                    3750   \n",
       "del_taco           global                     850   \n",
       "jack_in_the_box    burger                    3505   \n",
       "tim_hortons      sandwich                     840   \n",
       "mcdonalds          burger                   40413   \n",
       "\n",
       "                 sales_per_unit_thousands_2019  franchised_units_2019  \\\n",
       "company                                                                 \n",
       "popeyes_chicken                           1541                   2458   \n",
       "del_taco                                  1554                    296   \n",
       "jack_in_the_box                           1565                   2106   \n",
       "tim_hortons                               1165                    715   \n",
       "mcdonalds                                 2912                  13154   \n",
       "\n",
       "                 company_owned_units_2019  total_units_2019  \\\n",
       "company                                                       \n",
       "popeyes_chicken                        41              2499   \n",
       "del_taco                              300               596   \n",
       "jack_in_the_box                       137              2243   \n",
       "tim_hortons                             0               715   \n",
       "mcdonalds                             692             13846   \n",
       "\n",
       "                 unit_change_from_2018  \n",
       "company                                 \n",
       "popeyes_chicken                    131  \n",
       "del_taco                            16  \n",
       "jack_in_the_box                      6  \n",
       "tim_hortons                        -12  \n",
       "mcdonalds                          -66  "
      ]
     },
     "execution_count": 5,
     "metadata": {},
     "output_type": "execute_result"
    }
   ],
   "source": [
    "enrichment_tbl = session.read_csv(\n",
    "    \"s3://data.atoti.io/notebooks/security/data/top_50_fast_food_US.csv\",\n",
    "    table_name=\"top_50\",\n",
    "    keys=[\"company\"],\n",
    ")\n",
    "enrichment_tbl.head()"
   ]
  },
  {
   "cell_type": "code",
   "execution_count": 6,
   "id": "d149c3fb-cfa7-4c2a-bcb5-8898b3405afa",
   "metadata": {},
   "outputs": [],
   "source": [
    "base_tbl.join(enrichment_tbl)"
   ]
  },
  {
   "cell_type": "markdown",
   "id": "6b1f2bdd-f0e5-40a1-bfd2-c3b9f07f386e",
   "metadata": {},
   "source": [
    "### 2.2. Cube creation"
   ]
  },
  {
   "cell_type": "code",
   "execution_count": 7,
   "id": "587ac1d9-3dcc-404a-8935-8fbddc551aef",
   "metadata": {},
   "outputs": [],
   "source": [
    "cube = session.create_cube(base_tbl, \"Fast food analysis\")"
   ]
  },
  {
   "cell_type": "markdown",
   "id": "370db4b9-3888-472a-b0dd-4e64bc4385bb",
   "metadata": {},
   "source": [
    "### 2.3 Measures creation"
   ]
  },
  {
   "cell_type": "code",
   "execution_count": 8,
   "id": "ab1ec912-7b8f-430b-95fe-33f4f50b38f3",
   "metadata": {},
   "outputs": [],
   "source": [
    "h, l, m = cube.hierarchies, cube.levels, cube.measures"
   ]
  },
  {
   "cell_type": "code",
   "execution_count": 9,
   "id": "27cdf35f-30ba-45f5-8056-d8bcb9866e8f",
   "metadata": {},
   "outputs": [],
   "source": [
    "m[\"sales_in_millions\"] = tt.agg.sum(enrichment_tbl[\"sales_in_millions_2019\"])\n",
    "m[\"sales_per_unit_thousands\"] = tt.agg.sum(\n",
    "    enrichment_tbl[\"sales_per_unit_thousands_2019\"]\n",
    ")\n",
    "m[\"franchised_units\"] = tt.agg.sum(enrichment_tbl[\"franchised_units_2019\"])\n",
    "m[\"company_owned_units\"] = tt.agg.sum(enrichment_tbl[\"company_owned_units_2019\"])\n",
    "m[\"total_units\"] = tt.agg.sum(enrichment_tbl[\"total_units_2019\"])\n",
    "m[\"unit_change_from_2018\"] = tt.agg.sum(enrichment_tbl[\"unit_change_from_2018\"])"
   ]
  },
  {
   "cell_type": "code",
   "execution_count": 10,
   "id": "7f15005a-3f8f-4f14-9be5-9d57fd87eea1",
   "metadata": {},
   "outputs": [],
   "source": [
    "m[\"% franchised\"] = m[\"franchised_units\"] / m[\"total_units\"]\n",
    "m[\"% franchised\"].formatter = \"DOUBLE[0.00%]\""
   ]
  },
  {
   "cell_type": "markdown",
   "id": "f801483d-d7ce-499d-8f8e-d75a7e782015",
   "metadata": {},
   "source": [
    "## 3. Users and roles management with Atoti"
   ]
  },
  {
   "cell_type": "markdown",
   "id": "b1e05d2f-faa8-48d9-84f5-1111ca59a874",
   "metadata": {},
   "source": [
    "Let's create some constants for the user id of the users we will be creating.  "
   ]
  },
  {
   "cell_type": "code",
   "execution_count": 11,
   "id": "1756775f-6ff3-47ad-be3a-1b9fcf3b07d0",
   "metadata": {
    "tags": []
   },
   "outputs": [],
   "source": [
    "ADMIN_USER = \"atoti_admin\"\n",
    "ATOTI_USER = \"atoti_user\"\n",
    "\n",
    "INSPIRE_USER1 = \"Inspire_user1\"\n",
    "INSPIRE_USER2 = \"Inspire_user2\"\n",
    "INSPIRE_MANAGER = \"Inspire_manager\"\n",
    "RESTAURANT_USER1 = \"Restaurant_user1\"\n",
    "RESTAURANT_USER2 = \"Restaurant_user2\"\n",
    "RESTAURANT_MANAGER = \"Restaurant_manager\""
   ]
  },
  {
   "cell_type": "markdown",
   "id": "4725ddc5-047f-4afd-b9ab-fedb017324ff",
   "metadata": {},
   "source": [
    "### 3.1. Atoti reserved roles  \n",
    "\n",
    "The below roles are reserved in Atoti and should not be altered by users:\n",
    "- ROLE_ADMIN: able to access all objects in the web application\n",
    "- ROLE_USER: able to access all data by default. Access to objects such as dashboards, folders, widgets etc is only upon sharing access granted to role.\n",
    "\n",
    "__All users, including the administrator, require the role *ROLE\\_USER* to be able to access the Atoti web application.__\n",
    "\n",
    "__All users, including the administrator, require the role *ROLE\\_USER* to be able to access the Atoti UI.__\n",
    "\n",
    "Let's assume both users, *atoti\\_admin* and *atoti\\_user*, have been granted the role __ROLE_USER__ and *atoti\\_admin* is also granted the role __ROLE_ADMIN__.  \n",
    "While both *atoti\\_admin* and *atoti\\_user* are able to access all data, *atoti\\_admin* is able to access all objects such as folders and dashboards.  \n",
    "*atoti\\_user* is able to access only the objects created by the user him/herself. Objects created by other users can only be access upon shared access granted.  "
   ]
  },
  {
   "cell_type": "markdown",
   "id": "5ef63899-3e7b-49a8-a017-b7f21b34eb3c",
   "metadata": {},
   "source": [
    "#### 3.1.1 Sharing role configuration \n",
    "\n",
    "In Atoti version before v0.8.0, we assign the role `ROLE_SHARE` to users in order to be able to let them share objects such as dashboards, folders, widgets and filters.  \n",
    "Both *atoti\\_admin* and *atoti\\_user* will not be able to share objects (via the \"Share\" icon as shown below) unless granted the role __ROLE_SHARE__.  \n",
    "\n",
    "<img src=\"img/share_function.png\" width=\"50%\"/>  \n",
    "\n",
    "From version v0.8.0 onwards, the role `ROLE_SHARE` is removed. Instead, users with the role `ROLE_USER` will the ability to perform sharing by default.  \n",
    "\n",
    "<img src=\"img/admin_share.png\" width=\"50%\"/>\n"
   ]
  },
  {
   "cell_type": "markdown",
   "id": "f38c167f-7170-45bf-a62a-fddae580d496",
   "metadata": {
    "tags": []
   },
   "source": [
    "We can configure the sharing permission from the Atoti Admin UI which is accessible from the link below. Login with a user that has the role `ROLE_ADMIN` assigned."
   ]
  },
  {
   "cell_type": "code",
   "execution_count": 12,
   "id": "b3408fca-0e13-49bc-a860-40257f4dbc15",
   "metadata": {
    "tags": []
   },
   "outputs": [
    {
     "data": {
      "application/vnd.atoti.link.v0+json": {
       "path": "admin",
       "sessionLocation": {
        "https": false,
        "port": 10011
       }
      },
      "text/plain": [
       "Open the notebook in JupyterLab with the Atoti extension enabled to see this link."
      ]
     },
     "execution_count": 12,
     "metadata": {},
     "output_type": "execute_result"
    }
   ],
   "source": [
    "session.link(path=\"/admin\")"
   ]
  },
  {
   "cell_type": "markdown",
   "id": "75563036-0235-448b-b1ad-4b2e577b4a57",
   "metadata": {},
   "source": [
    "##### 3.1.1.2 Creating technical users"
   ]
  },
  {
   "cell_type": "markdown",
   "id": "9ce80b11-6c24-44a8-a56a-69c51b7be004",
   "metadata": {},
   "source": [
    "In case we want to limit the users who has the ability to perform sharing, we can either update the `canShare` permission for `ROLE_USER` to `false` from the Admin UI; or we can use the rest service to do so.  \n",
    "\n",
    "Let's create a [technical user](https://docs.atoti.io/latest/how_tos/secure_a_session.html#Technical-users) (also called service accounts) for updating the backend. Atoti automatically enables Basic Authentication on the session even though we are using OIDC authentication mechanism."
   ]
  },
  {
   "cell_type": "code",
   "execution_count": 13,
   "id": "2b8eadb3-218c-4fa5-aede-57b23618cc01",
   "metadata": {
    "tags": []
   },
   "outputs": [],
   "source": [
    "technical_user_name = \"ATOTI_TECH_ADMIN\"\n",
    "technical_user_password = \"password\"\n",
    "\n",
    "technical_user = session.security.basic.credentials[\n",
    "    technical_user_name\n",
    "] = technical_user_password\n",
    "session.security.individual_roles[technical_user_name] = {\"ROLE_USER\", \"ROLE_ADMIN\"}"
   ]
  },
  {
   "cell_type": "code",
   "execution_count": 14,
   "id": "cf832d56-3393-4730-9cf2-138670abf229",
   "metadata": {
    "tags": []
   },
   "outputs": [],
   "source": [
    "from requests.auth import HTTPBasicAuth\n",
    "\n",
    "response = requests.put(\n",
    "    f\"http://localhost:{session.port}/activeviam/content/rest/v7/files?path=ui/user_roles/ROLE_USER/permissions\",\n",
    "    auth=(technical_user_name, technical_user_password),\n",
    "    json={\n",
    "        \"content\": '{\"canShare\": false}',\n",
    "        \"owners\": [\"atoti_admin\"],\n",
    "        \"readers\": [\"ROLE_USER\"],\n",
    "        \"overwrite\": True,\n",
    "        \"recursive\": True,\n",
    "    },\n",
    ")"
   ]
  },
  {
   "cell_type": "markdown",
   "id": "a5941ea9-eca3-4047-89b5-a7041d78af24",
   "metadata": {},
   "source": [
    "In the event we want to control the sharing rights using roles from Authentication providers, we can create the intended role in the Admin UI.  \n",
    "For instance, suppose the role that is supposed to have sharing permission is call `ROLE_SHARE`, we can run the below request to create the role with `canShare` set to `true`.  "
   ]
  },
  {
   "cell_type": "code",
   "execution_count": 15,
   "id": "30c812e4-4305-4050-a4d7-6edb3c9a707e",
   "metadata": {
    "tags": []
   },
   "outputs": [],
   "source": [
    "response = requests.put(\n",
    "    f\"http://localhost:{session.port}/activeviam/content/rest/v7/files?path=ui/user_roles/ROLE_SHARE/permissions\",\n",
    "    auth=(technical_user_name, technical_user_password),\n",
    "    json={\n",
    "        \"content\": '{\"canShare\": true}',\n",
    "        \"owners\": [technical_user_name],\n",
    "        \"readers\": [\"ROLE_USER\"],\n",
    "        \"overwrite\": True,\n",
    "        \"recursive\": True,\n",
    "    },\n",
    ")"
   ]
  },
  {
   "cell_type": "code",
   "execution_count": 16,
   "id": "cf97c83e-b625-4df6-943b-194001eaf8b0",
   "metadata": {
    "tags": []
   },
   "outputs": [
    {
     "data": {
      "text/plain": [
       "<Response [200]>"
      ]
     },
     "execution_count": 16,
     "metadata": {},
     "output_type": "execute_result"
    }
   ],
   "source": [
    "response"
   ]
  },
  {
   "cell_type": "markdown",
   "id": "eee34f2e-5584-4774-8b18-11f1d7ebb883",
   "metadata": {},
   "source": [
    "Below is what we see in the Admin server:  \n",
    "\n",
    "<img src=\"img/role_share_permission.png\" />  \n",
    "\n",
    "Now, any users who are assigned the role `ROLE_SHARE` in Atoti will have the ability to perform sharing.  \n",
    "We will see later on how we can map the roles from Auth0 to the roles in Atoti.  "
   ]
  },
  {
   "cell_type": "markdown",
   "id": "d87fd893-d6c6-4e2d-ac1a-b5caeebfb71e",
   "metadata": {},
   "source": [
    "### 3.2. Role creation with restrictions  "
   ]
  },
  {
   "cell_type": "markdown",
   "id": "2903c07c-c4c5-4235-8b1f-68a0e7c3072c",
   "metadata": {},
   "source": [
    "Data restriction is based on users' requirement. In our use case, we assumed two groups of users with data access limited to those of their parent company:\n",
    "- users belonging to parent company _Inspire Brands_\n",
    "- users belonging to parent company _Restaurant Brands International Inc._\n",
    "\n",
    "Therefore, we will create two roles to apply the restrictions based on the `parent_company` column from the `parent_co` table.  \n",
    "We will define key that is a tuple, consisting of the name of the table and its column, along with the restricted values imposed on it. \n",
    "\n",
    "__NOTE:__  \n",
    "- We can skip role creation if there are no restrictions imposed on the role. \n",
    "- The value provided under the restrictions is cap-sensitive."
   ]
  },
  {
   "cell_type": "code",
   "execution_count": 17,
   "id": "81cd36c0-b3d2-4be8-b4ca-bc33499a90b1",
   "metadata": {},
   "outputs": [],
   "source": [
    "ROLE_INSPIRE = \"ATOTI_ROLE_INSPIRE\"\n",
    "ROLE_RESTAURANT = \"ATOTI_ROLE_RESTAURANT\"\n",
    "\n",
    "session.security.restrictions.update(\n",
    "    {\n",
    "        ROLE_INSPIRE: (base_tbl[\"parent_company\"] == \"Inspire Brands\"),\n",
    "        ROLE_RESTAURANT: (\n",
    "            base_tbl[\"parent_company\"] == \"Restaurant Brands International Inc.\"\n",
    "        ),\n",
    "    }\n",
    ")"
   ]
  },
  {
   "cell_type": "markdown",
   "id": "7a7032fd-d90f-4aba-9c0e-0725a4e895f2",
   "metadata": {},
   "source": [
    "#### 3.2.1. Restricted access from combination of roles\n",
    "\n",
    "Multiple roles can be assigned to the same user. To demonstrate how the access will change when this happens, we create some other roles that restrict data access by the restaurant category, i.e. column `category` from the table `top_50`."
   ]
  },
  {
   "cell_type": "code",
   "execution_count": 18,
   "id": "eef801e2-2a22-4a22-b1e1-209945aeb09d",
   "metadata": {},
   "outputs": [],
   "source": [
    "ROLE_BURGER = \"ATOTI_ROLE_BURGER\"\n",
    "ROLE_SANDWICH = \"ATOTI_ROLE_SANDWICH\"\n",
    "ROLE_SNACK = \"ATOTI_ROLE_SNACK\"\n",
    "\n",
    "session.security.restrictions.update(\n",
    "    {\n",
    "        ROLE_BURGER: enrichment_tbl[\"category\"] == \"burger\",\n",
    "        ROLE_SANDWICH: enrichment_tbl[\"category\"] == \"sandwich\",\n",
    "        ROLE_SNACK: enrichment_tbl[\"category\"] == \"snack\",\n",
    "    }\n",
    ")"
   ]
  },
  {
   "cell_type": "markdown",
   "id": "1b275507-33bd-494f-a2c9-d7b66aea6908",
   "metadata": {},
   "source": [
    "When combined with the restricted role on the `parent_company`, user's access will be further restricted to based on the restriction of the added role.  \n",
    "\n",
    "For instance, users who are assigned the role __ATOTI_ROLE_BURGER__ will be able to access all the data under _burger_ category restaurants, regardless of the parent companies.  \n",
    "\n",
    "However, when the same user is also granted the role __ATOTI_ROLE_INSPIRE__, then the user can only access data of restaurants under parent company _Inspire Brands_ that is of category _burger_. "
   ]
  },
  {
   "cell_type": "markdown",
   "id": "21863f1f-c442-4845-8cde-5500445ecb4b",
   "metadata": {},
   "source": [
    "### 3.3. Role assignment in Atoti  \n",
    "\n",
    "__Atoti use Google for authentication only.__ Roles are created and assigned to the users in Atoti and they can be granted without having to restart the application."
   ]
  },
  {
   "cell_type": "markdown",
   "id": "fc810231-4ede-466f-a0d9-923c3784c740",
   "metadata": {},
   "source": [
    "#### 3.3.1. Assign default roles to authenticated users"
   ]
  },
  {
   "cell_type": "markdown",
   "id": "bb9ffb06-86f1-40a3-af6f-361d75158e61",
   "metadata": {},
   "source": [
    "We could default the roles such as __ROLE_SHARE__ for all users who logged in successfully. "
   ]
  },
  {
   "cell_type": "code",
   "execution_count": 19,
   "id": "ac50f14d-757e-40eb-b7e9-f22dbe60d654",
   "metadata": {},
   "outputs": [],
   "source": [
    "session.security.oidc.default_roles.update([\"ROLE_SHARE\"])"
   ]
  },
  {
   "cell_type": "markdown",
   "id": "3e52af30-66ae-49d8-8c9e-a46fc59432c0",
   "metadata": {},
   "source": [
    "__BE CAUTION__ when granting __ROLE_USER__ to users by default as users with this role will be able to access the application and the available data.  \n",
    "\n",
    "We want to prevent unwanted access by people outside of the organisation. Therefore, this should only be done when the user type for the app registered under the _OAuth consent screen_ is ___Internal___. Otherwise, it is better to grant __ROLE_USER__ individually to the rightful users in the next step."
   ]
  },
  {
   "cell_type": "markdown",
   "id": "05c2c9c7-0dd3-4ec4-ad7b-436be9dfb4ec",
   "metadata": {},
   "source": [
    "#### 3.3.2. Granting roles to users authenticated through Google credential"
   ]
  },
  {
   "cell_type": "markdown",
   "id": "b518577e-e1dd-44c3-b89e-8fc064d00227",
   "metadata": {},
   "source": [
    "Instead of mapping the roles from Authentication Provider as in the case of Auth0, we use the user's email address to map to the assigned Atoti roles."
   ]
  },
  {
   "cell_type": "code",
   "execution_count": 20,
   "id": "684d9fbd-377e-41ab-b697-5554c3534db7",
   "metadata": {},
   "outputs": [],
   "source": [
    "ROLE_USER = \"ROLE_USER\"\n",
    "\n",
    "session.security.oidc.role_mapping.update(\n",
    "    {\n",
    "        # Google user id: [Atoti roles]\n",
    "        \"inspire_m@test.com\": [ROLE_USER, ROLE_INSPIRE],\n",
    "        \"inspire_user1@test.com\": [ROLE_USER, ROLE_INSPIRE, ROLE_BURGER],\n",
    "        \"inspire_user2@test.com\": [\n",
    "            ROLE_USER,\n",
    "            ROLE_INSPIRE,\n",
    "            ROLE_SANDWICH,\n",
    "            ROLE_SNACK,\n",
    "        ],\n",
    "        \"restaurant_m@test.com\": [ROLE_USER, ROLE_RESTAURANT],\n",
    "        \"restaurant_user1@test.com\": [\n",
    "            ROLE_USER,\n",
    "            ROLE_RESTAURANT,\n",
    "            ROLE_BURGER,\n",
    "        ],\n",
    "        \"restaurant_user2@test.com\": [\n",
    "            ROLE_USER,\n",
    "            ROLE_RESTAURANT,\n",
    "            ROLE_SANDWICH,\n",
    "            ROLE_SNACK,\n",
    "        ],\n",
    "    }\n",
    ")"
   ]
  },
  {
   "cell_type": "markdown",
   "id": "f7e262fe-4a45-4533-a999-822fb8fa6f7b",
   "metadata": {},
   "source": [
    "## 4. Test login and access management in web application"
   ]
  },
  {
   "cell_type": "markdown",
   "id": "56c9b807-5057-4503-8f57-9902b8998016",
   "metadata": {},
   "source": [
    "Try out any of these users:\n",
    "\n",
    "___Administrator___\n",
    "- atoti_admin\n",
    "\n",
    "___Generic user___\n",
    "- atoti_user\n",
    "\n",
    "___Inspire Brands users___\n",
    "- Inspire_user1 (Access for restaurants of category Burger only)\n",
    "- Inspire_user2 (Access for restaurants of category Sandwich and Snack only)\n",
    "- Inspire_manager\n",
    "\n",
    "___Restaurant Brands International LLC users___\n",
    "- Restaurant_user1 (Access for restaurants of category Burger only)\n",
    "- Restaurant_user2 (Access for restaurants of category Sandwich and Snack only)\n",
    "- Restaurant_manager"
   ]
  },
  {
   "cell_type": "code",
   "execution_count": 21,
   "id": "fbc19c1b-7f9e-4384-b468-c997364ff93f",
   "metadata": {},
   "outputs": [
    {
     "data": {
      "application/vnd.atoti.link.v0+json": {
       "path": "",
       "sessionLocation": {
        "https": false,
        "port": 10011
       }
      },
      "text/plain": [
       "Open the notebook in JupyterLab with the Atoti extension enabled to see this link."
      ]
     },
     "execution_count": 21,
     "metadata": {},
     "output_type": "execute_result"
    }
   ],
   "source": [
    "session.link()"
   ]
  },
  {
   "cell_type": "markdown",
   "id": "67703454-cbea-4218-93c3-47f93e353782",
   "metadata": {},
   "source": [
    "<div style=\"text-align: center;\" ><a href=\"https://www.atoti.io/?utm_source=gallery&utm_content=oidc-google\" target=\"_blank\" rel=\"noopener noreferrer\"><img src=\"https://data.atoti.io/notebooks/banners/Your-turn-to-try-Atoti.jpg\" alt=\"Try Atoti\"></a></div>"
   ]
  }
 ],
 "metadata": {
  "kernelspec": {
   "display_name": "Python 3 (ipykernel)",
   "language": "python",
   "name": "python3"
  },
  "language_info": {
   "codemirror_mode": {
    "name": "ipython",
    "version": 3
   },
   "file_extension": ".py",
   "mimetype": "text/x-python",
   "name": "python",
   "nbconvert_exporter": "python",
   "pygments_lexer": "ipython3",
   "version": "3.10.11"
  }
 },
 "nbformat": 4,
 "nbformat_minor": 5
}
